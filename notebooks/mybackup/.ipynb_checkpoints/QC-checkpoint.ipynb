{
 "cells": [
  {
   "cell_type": "markdown",
   "metadata": {
    "toc": true
   },
   "source": [
    "<h1>Table of Contents<span class=\"tocSkip\"></span></h1>\n",
    "<div class=\"toc\"><ul class=\"toc-item\"><li><span><a href=\"#FUNCTIONS\" data-toc-modified-id=\"FUNCTIONS-1\">FUNCTIONS</a></span><ul class=\"toc-item\"><li><ul class=\"toc-item\"><li><span><a href=\"#to-plot-QC-metrics-from-alignment-and-assemble-stats-file\" data-toc-modified-id=\"to-plot-QC-metrics-from-alignment-and-assemble-stats-file-1.0.1\">to plot QC metrics from alignment and assemble stats file</a></span></li></ul></li></ul></li><li><span><a href=\"#QC-batch-1-Jul-5-2019\" data-toc-modified-id=\"QC-batch-1-Jul-5-2019-2\">QC batch 1 Jul 5 2019</a></span><ul class=\"toc-item\"><li><ul class=\"toc-item\"><li><span><a href=\"#To-create-samplelist-for-QCplot-function\" data-toc-modified-id=\"To-create-samplelist-for-QCplot-function-2.0.1\">To create samplelist for QCplot function</a></span></li><li><span><a href=\"#Order-based-on-aligned-reads\" data-toc-modified-id=\"Order-based-on-aligned-reads-2.0.2\">Order based on aligned reads</a></span></li></ul></li></ul></li><li><span><a href=\"#QC-Batch-2-Aug-6-2019\" data-toc-modified-id=\"QC-Batch-2-Aug-6-2019-3\">QC Batch 2 Aug 6 2019</a></span></li><li><span><a href=\"#QC-Batch-3-Aug-19-2019\" data-toc-modified-id=\"QC-Batch-3-Aug-19-2019-4\">QC Batch 3 Aug 19 2019</a></span></li><li><span><a href=\"#QC-Batch-4-Aug-19-2019\" data-toc-modified-id=\"QC-Batch-4-Aug-19-2019-5\">QC Batch 4 Aug 19 2019</a></span></li><li><span><a href=\"#QC-Batch-7-Oct-25-2019\" data-toc-modified-id=\"QC-Batch-7-Oct-25-2019-6\">QC Batch 7 Oct 25 2019</a></span></li><li><span><a href=\"#QC-Batch-6a-Nov-8-2019\" data-toc-modified-id=\"QC-Batch-6a-Nov-8-2019-7\">QC Batch 6a Nov 8 2019</a></span></li><li><span><a href=\"#QC-Batch-8-Jan-10-2020\" data-toc-modified-id=\"QC-Batch-8-Jan-10-2020-8\">QC Batch 8 Jan 10 2020</a></span></li></ul></div>"
   ]
  },
  {
   "cell_type": "code",
   "execution_count": 1,
   "metadata": {},
   "outputs": [],
   "source": [
    "options(scipen = 999)"
   ]
  },
  {
   "cell_type": "code",
   "execution_count": 12,
   "metadata": {},
   "outputs": [],
   "source": [
    "library(ggplot2)\n",
    "library(gridExtra)"
   ]
  },
  {
   "cell_type": "markdown",
   "metadata": {},
   "source": [
    "# FUNCTIONS\n",
    "\n",
    "### to plot QC metrics from alignment and assemble stats file\n",
    "\n",
    "Inputs:\n",
    "\n",
    "alignstats.csv file from log parser\n",
    "\n",
    "assemblestats.csv ifle from log parser\n",
    "\n",
    "samplelist is a vector containing sample names, they have to partially match the Input.file.s column on the stats files\n",
    "\n",
    "plotname is the filename.pdf"
   ]
  },
  {
   "cell_type": "code",
   "execution_count": 13,
   "metadata": {},
   "outputs": [],
   "source": [
    "mixcrQC.fx <- function(alignstatsfile, assemblestatsfile, samplelist, \n",
    "                       plotname, inpath, plotpath){\n",
    "    if (!file.exists(paste(plotpath, plotname, sep = \"\"))){\n",
    "# Function to align plots (from stackoverflow) \n",
    "    align_plots1 <- function (...) {\n",
    "    pl <- list(...)\n",
    "    stopifnot(do.call(all, lapply(pl, inherits, \"gg\")))\n",
    "    gl <- lapply(pl, ggplotGrob)\n",
    "    bind2 <- function(x, y) gtable:::rbind_gtable(x, y, \"first\")\n",
    "    combined <- Reduce(bind2, gl[-1], gl[[1]])\n",
    "    wl <- lapply(gl, \"[[\", \"widths\")\n",
    "    combined$widths <- do.call(grid::unit.pmax, wl)\n",
    "    grid::grid.newpage()\n",
    "    grid::grid.draw(combined)\n",
    "    }\n",
    "\n",
    "    mytheme <- theme(axis.title.y = element_text(size = 25),\n",
    "                     axis.title.x = element_blank(),\n",
    "                     axis.line = element_line(color = \"black\"),\n",
    "                     axis.text = element_text(size = 22),\n",
    "                     axis.text.x = element_text(angle = 45, hjust = 1)) +\n",
    "    theme(panel.grid.major = element_blank(),\n",
    "          panel.grid.minor = element_blank(),\n",
    "          panel.background = element_rect(fill = \"transparent\",colour = NA),  \n",
    "          legend.key = element_rect(fill = \"white\", colour = \"white\"),\n",
    "          plot.margin = unit(c(0,0,0,0),\"cm\"))    \n",
    "    \n",
    "    \n",
    "#read stats files\n",
    "    alignstats <- read.csv(file = paste(inpath,alignstatsfile, sep =\"\"),\n",
    "                           sep = \",\", header = T)    \n",
    "    assemblestats <- read.csv(file = paste(inpath, assemblestatsfile, sep =\"\"),\n",
    "                              sep = \",\", header = T)   \n",
    "\n",
    "# Match samplelist with Input.file.s. and subset to samplelist\n",
    "    for(i in samplelist){\n",
    "        alignstats$samplename[grepl(i, alignstats$Input.file.s.)] <- i\n",
    "    }    \n",
    "    alignstats <- alignstats[!is.na(alignstats$samplename),]\n",
    "    \n",
    "    for(j in samplelist){\n",
    "        assemblestats$samplename[grepl(j, assemblestats$Input.file.s.)] <- j\n",
    "    }\n",
    "    assemblestats <- assemblestats[!is.na(assemblestats$samplename),]\n",
    "\n",
    "# ensure samplename orders are the same as samplelist\n",
    "    alignstats$samplename <- factor(alignstats$samplename, levels = samplelist)\n",
    "    assemblestats$samplename <- factor(assemblestats$samplename, levels = samplelist)\n",
    "    \n",
    "#plot total sequencing reads\n",
    "    myplot_totalseq <- ggplot(aes(x = samplename, y = Total.sequencing.reads), \n",
    "                              data = alignstats) +\n",
    "    geom_point(size = 5) + \n",
    "    mytheme +\n",
    "    theme(axis.text.x = element_blank()) +\n",
    "# This is to avoid printing min, max and median on y-axis\n",
    "    scale_y_continuous(limits = c(0, max(alignstats$Total.sequencing.reads)))\n",
    " \n",
    "#plot total aligned reads \n",
    "    myplot_alignedseq <- ggplot(aes(x = samplename, y = Successfully.aligned.reads),          \n",
    "                                data = alignstats) + \n",
    "    geom_point(size = 5) + \n",
    "    mytheme +\n",
    "    theme(axis.text.x = element_blank())\n",
    "    \n",
    "#plot average reads per clonotype  \n",
    "    myplot_averagereads <- ggplot(aes(x = samplename, y = Average.number.of.reads.per.clonotype), \n",
    "                                  data = assemblestats) + \n",
    "    geom_point(size = 5) + \n",
    "    mytheme +\n",
    "    theme(axis.text.x = element_blank())\n",
    "\n",
    "#plot reads used in clonotypes\n",
    "    myplot_readsused <- ggplot(aes(x = samplename, y = Reads.used.in.clonotypes.before.clustering..percent.of.total),       \n",
    "                               data = assemblestats) + \n",
    "    geom_point(size = 5) + \n",
    "    mytheme + \n",
    "    theme(axis.text.x = element_blank())\n",
    "  \n",
    "#plot total clonotypes\n",
    "    myplot_totalclon <- ggplot(aes(x = samplename, y = Final.clonotype.count),        \n",
    "                               data = assemblestats) + \n",
    "    geom_point(size = 5) + \n",
    "    mytheme\n",
    "   \n",
    "    \n",
    "    pdf(file = paste(plotpath, plotname, sep = \"\"),\n",
    "        width = 15, \n",
    "        height = 20,\n",
    "        useDingbats = FALSE,\n",
    "        onefile = FALSE)\n",
    "    align_plots1(myplot_totalseq + ylab(\"Total reads\"),\n",
    "                 myplot_alignedseq + ylab(\"Total aligned reads\"),\n",
    "                 myplot_readsused + ylab(\"Reads used \\nin clonotypes\"),\n",
    "                 myplot_averagereads + ylab(\"Average \\nreads/clonotype\"),\n",
    "                 myplot_totalclon + ylab(\"Total clonotypes\"))    \n",
    "    dev.off()     \n",
    "  }  else {\n",
    "        message(\"plot file exists: \", plotname)\n",
    "    }\n",
    "}"
   ]
  },
  {
   "cell_type": "code",
   "execution_count": 14,
   "metadata": {},
   "outputs": [],
   "source": [
    "plotpath <- \"/Users/anabbi/OneDrive - UHN/Documents/INTERCEPT/Plots/\""
   ]
  },
  {
   "cell_type": "markdown",
   "metadata": {},
   "source": [
    "# QC batch 1 Jul 5 2019\n"
   ]
  },
  {
   "cell_type": "markdown",
   "metadata": {},
   "source": [
    "### To create samplelist for QCplot function"
   ]
  },
  {
   "cell_type": "code",
   "execution_count": 47,
   "metadata": {},
   "outputs": [],
   "source": [
    "datapath <- \"/Users/anabbi/OneDrive - UHN/Documents/INTERCEPT/Data/batch1/\"\n",
    "datapath_ds <- \"/Users/anabbi/OneDrive - UHN/Documents/INTERCEPT/Data/batch1/ds_batch1/\""
   ]
  },
  {
   "cell_type": "code",
   "execution_count": 53,
   "metadata": {},
   "outputs": [],
   "source": [
    "alignstats <- read.csv(file = paste(datapath,\"align_stats.csv\", sep =\"\"),\n",
    "                      sep = \",\", header = T)"
   ]
  },
  {
   "cell_type": "markdown",
   "metadata": {},
   "source": [
    "### Order based on aligned reads"
   ]
  },
  {
   "cell_type": "code",
   "execution_count": 54,
   "metadata": {},
   "outputs": [],
   "source": [
    "alignstats$samplename <- gsub(\"_merged.*\",\"\",alignstats$Input.file.s.[order(alignstats$Successfully.aligned.reads)])"
   ]
  },
  {
   "cell_type": "code",
   "execution_count": 55,
   "metadata": {},
   "outputs": [],
   "source": [
    "HSJs <- alignstats$samplename[grepl(\"HSJ\", alignstats$samplename)]\n",
    "CHPs <- alignstats$samplename[!grepl(\"HSJ\", alignstats$samplename)]"
   ]
  },
  {
   "cell_type": "code",
   "execution_count": 56,
   "metadata": {},
   "outputs": [
    {
     "data": {
      "text/html": [
       "<strong>pdf:</strong> 2"
      ],
      "text/latex": [
       "\\textbf{pdf:} 2"
      ],
      "text/markdown": [
       "**pdf:** 2"
      ],
      "text/plain": [
       "pdf \n",
       "  2 "
      ]
     },
     "metadata": {},
     "output_type": "display_data"
    },
    {
     "data": {
      "text/html": [
       "<strong>pdf:</strong> 2"
      ],
      "text/latex": [
       "\\textbf{pdf:} 2"
      ],
      "text/markdown": [
       "**pdf:** 2"
      ],
      "text/plain": [
       "pdf \n",
       "  2 "
      ]
     },
     "metadata": {},
     "output_type": "display_data"
    }
   ],
   "source": [
    "mixcrQC.fx(\"align_stats.csv\", \"assemble_stats.csv\", HSJs,\n",
    "          \"HSJs_QCplot.pdf\", datapath, plotpath)\n",
    "mixcrQC.fx(\"align_stats.csv\", \"assemble_stats.csv\", CHPs,\n",
    "          \"CHPbatch1_QCplot.pdf\", datapath, plotpath)"
   ]
  },
  {
   "cell_type": "code",
   "execution_count": 57,
   "metadata": {},
   "outputs": [],
   "source": [
    "alignstats_ds <- read.csv(file = paste(datapath_ds,\"align_stats.csv\", sep =\"\"),\n",
    "                      sep = \",\", header = T)"
   ]
  },
  {
   "cell_type": "code",
   "execution_count": 58,
   "metadata": {},
   "outputs": [],
   "source": [
    "alignstats_ds$samplename <- gsub(\"_2000000_.*\",\"\",alignstats_ds$Input.file.s.[order(alignstats_ds$Successfully.aligned.reads)])"
   ]
  },
  {
   "cell_type": "code",
   "execution_count": 59,
   "metadata": {},
   "outputs": [],
   "source": [
    "HSJs <- alignstats_ds$samplename[grepl(\"HSJ\", alignstats_ds$samplename)]\n",
    "CHPs <- alignstats_ds$samplename[!grepl(\"HSJ\", alignstats_ds$samplename)]"
   ]
  },
  {
   "cell_type": "code",
   "execution_count": 60,
   "metadata": {},
   "outputs": [
    {
     "data": {
      "text/html": [
       "<strong>pdf:</strong> 2"
      ],
      "text/latex": [
       "\\textbf{pdf:} 2"
      ],
      "text/markdown": [
       "**pdf:** 2"
      ],
      "text/plain": [
       "pdf \n",
       "  2 "
      ]
     },
     "metadata": {},
     "output_type": "display_data"
    },
    {
     "data": {
      "text/html": [
       "<strong>pdf:</strong> 2"
      ],
      "text/latex": [
       "\\textbf{pdf:} 2"
      ],
      "text/markdown": [
       "**pdf:** 2"
      ],
      "text/plain": [
       "pdf \n",
       "  2 "
      ]
     },
     "metadata": {},
     "output_type": "display_data"
    }
   ],
   "source": [
    "mixcrQC.fx(\"align_stats.csv\", \"assemble_stats.csv\", HSJs,\n",
    "          \"dsHSJs_QCplot.pdf\", datapath_ds, plotpath)\n",
    "mixcrQC.fx(\"align_stats.csv\", \"assemble_stats.csv\", CHPs,\n",
    "          \"CHPdsbatch1_QCplot.pdf\", datapath_ds, plotpath)"
   ]
  },
  {
   "cell_type": "markdown",
   "metadata": {},
   "source": [
    "# QC Batch 2 Aug 6 2019"
   ]
  },
  {
   "cell_type": "code",
   "execution_count": 61,
   "metadata": {},
   "outputs": [],
   "source": [
    "datapath <- \"/Users/anabbi/OneDrive - UHN/Documents/INTERCEPT/Data/batch2/\"\n",
    "datapath_ds <- \"/Users/anabbi/OneDrive - UHN/Documents/INTERCEPT/Data/batch2/ds_batch2/\""
   ]
  },
  {
   "cell_type": "code",
   "execution_count": 62,
   "metadata": {},
   "outputs": [],
   "source": [
    "alignstats <- read.csv(file = paste(datapath,\"align_stats.csv\", sep =\"\"),\n",
    "                      sep = \",\", header = T)"
   ]
  },
  {
   "cell_type": "code",
   "execution_count": 64,
   "metadata": {},
   "outputs": [],
   "source": [
    "alignstats$samplename <- gsub(\"_merged.*\",\"\",alignstats$Input.file.s.[order(alignstats$Successfully.aligned.reads)])"
   ]
  },
  {
   "cell_type": "code",
   "execution_count": 65,
   "metadata": {},
   "outputs": [
    {
     "data": {
      "text/html": [
       "<ol class=list-inline>\n",
       "\t<li>'CHP_329-04-PBMC-DNA'</li>\n",
       "\t<li>'CHP_331-04-PBMC-DNA'</li>\n",
       "\t<li>'CHP_319-05-PBMC-DNA'</li>\n",
       "\t<li>'LFS_TCR-4837-PBMC-DNA'</li>\n",
       "\t<li>'CHP_342-04-PBMC-DNA'</li>\n",
       "\t<li>'CHP_331-05-PBMC-DNA'</li>\n",
       "\t<li>'LFS_TCR-4759-PBMC-DNA'</li>\n",
       "\t<li>'CHP_348-02-PBMC-DNA'</li>\n",
       "\t<li>'CHP_338-04-PBMC-DNA'</li>\n",
       "\t<li>'LFS_TCR-4783-PBMC-DNA'</li>\n",
       "\t<li>'LFS_TCR-5014-PBMC-DNA'</li>\n",
       "\t<li>'LFS_TCR-4535-PBMC-DNA'</li>\n",
       "\t<li>'LFS_TCR-4838-PBMC-DNA'</li>\n",
       "\t<li>'LFS_TCR-4602-PBMC-DNA'</li>\n",
       "\t<li>'LFS_TCR-5067-PBMC-DNA'</li>\n",
       "\t<li>'CHP_348-01-PBMC-DNA'</li>\n",
       "\t<li>'CHP_330-05-PBMC-DNA'</li>\n",
       "\t<li>'LFS_TCR-4570-PBMC-DNA'</li>\n",
       "\t<li>'CHP_338-05-PBMC-DNA'</li>\n",
       "\t<li>'CHP_343-04-PBMC-DNA'</li>\n",
       "\t<li>'CHP_343-05-PBMC-DNA'</li>\n",
       "\t<li>'CHP_343-03-PBMC-DNA'</li>\n",
       "\t<li>'CHP_343-02-PBMC-DNA'</li>\n",
       "\t<li>'LFS_TCR-4758-PBMC-DNA'</li>\n",
       "</ol>\n"
      ],
      "text/latex": [
       "\\begin{enumerate*}\n",
       "\\item 'CHP\\_329-04-PBMC-DNA'\n",
       "\\item 'CHP\\_331-04-PBMC-DNA'\n",
       "\\item 'CHP\\_319-05-PBMC-DNA'\n",
       "\\item 'LFS\\_TCR-4837-PBMC-DNA'\n",
       "\\item 'CHP\\_342-04-PBMC-DNA'\n",
       "\\item 'CHP\\_331-05-PBMC-DNA'\n",
       "\\item 'LFS\\_TCR-4759-PBMC-DNA'\n",
       "\\item 'CHP\\_348-02-PBMC-DNA'\n",
       "\\item 'CHP\\_338-04-PBMC-DNA'\n",
       "\\item 'LFS\\_TCR-4783-PBMC-DNA'\n",
       "\\item 'LFS\\_TCR-5014-PBMC-DNA'\n",
       "\\item 'LFS\\_TCR-4535-PBMC-DNA'\n",
       "\\item 'LFS\\_TCR-4838-PBMC-DNA'\n",
       "\\item 'LFS\\_TCR-4602-PBMC-DNA'\n",
       "\\item 'LFS\\_TCR-5067-PBMC-DNA'\n",
       "\\item 'CHP\\_348-01-PBMC-DNA'\n",
       "\\item 'CHP\\_330-05-PBMC-DNA'\n",
       "\\item 'LFS\\_TCR-4570-PBMC-DNA'\n",
       "\\item 'CHP\\_338-05-PBMC-DNA'\n",
       "\\item 'CHP\\_343-04-PBMC-DNA'\n",
       "\\item 'CHP\\_343-05-PBMC-DNA'\n",
       "\\item 'CHP\\_343-03-PBMC-DNA'\n",
       "\\item 'CHP\\_343-02-PBMC-DNA'\n",
       "\\item 'LFS\\_TCR-4758-PBMC-DNA'\n",
       "\\end{enumerate*}\n"
      ],
      "text/markdown": [
       "1. 'CHP_329-04-PBMC-DNA'\n",
       "2. 'CHP_331-04-PBMC-DNA'\n",
       "3. 'CHP_319-05-PBMC-DNA'\n",
       "4. 'LFS_TCR-4837-PBMC-DNA'\n",
       "5. 'CHP_342-04-PBMC-DNA'\n",
       "6. 'CHP_331-05-PBMC-DNA'\n",
       "7. 'LFS_TCR-4759-PBMC-DNA'\n",
       "8. 'CHP_348-02-PBMC-DNA'\n",
       "9. 'CHP_338-04-PBMC-DNA'\n",
       "10. 'LFS_TCR-4783-PBMC-DNA'\n",
       "11. 'LFS_TCR-5014-PBMC-DNA'\n",
       "12. 'LFS_TCR-4535-PBMC-DNA'\n",
       "13. 'LFS_TCR-4838-PBMC-DNA'\n",
       "14. 'LFS_TCR-4602-PBMC-DNA'\n",
       "15. 'LFS_TCR-5067-PBMC-DNA'\n",
       "16. 'CHP_348-01-PBMC-DNA'\n",
       "17. 'CHP_330-05-PBMC-DNA'\n",
       "18. 'LFS_TCR-4570-PBMC-DNA'\n",
       "19. 'CHP_338-05-PBMC-DNA'\n",
       "20. 'CHP_343-04-PBMC-DNA'\n",
       "21. 'CHP_343-05-PBMC-DNA'\n",
       "22. 'CHP_343-03-PBMC-DNA'\n",
       "23. 'CHP_343-02-PBMC-DNA'\n",
       "24. 'LFS_TCR-4758-PBMC-DNA'\n",
       "\n",
       "\n"
      ],
      "text/plain": [
       " [1] \"CHP_329-04-PBMC-DNA\"   \"CHP_331-04-PBMC-DNA\"   \"CHP_319-05-PBMC-DNA\"  \n",
       " [4] \"LFS_TCR-4837-PBMC-DNA\" \"CHP_342-04-PBMC-DNA\"   \"CHP_331-05-PBMC-DNA\"  \n",
       " [7] \"LFS_TCR-4759-PBMC-DNA\" \"CHP_348-02-PBMC-DNA\"   \"CHP_338-04-PBMC-DNA\"  \n",
       "[10] \"LFS_TCR-4783-PBMC-DNA\" \"LFS_TCR-5014-PBMC-DNA\" \"LFS_TCR-4535-PBMC-DNA\"\n",
       "[13] \"LFS_TCR-4838-PBMC-DNA\" \"LFS_TCR-4602-PBMC-DNA\" \"LFS_TCR-5067-PBMC-DNA\"\n",
       "[16] \"CHP_348-01-PBMC-DNA\"   \"CHP_330-05-PBMC-DNA\"   \"LFS_TCR-4570-PBMC-DNA\"\n",
       "[19] \"CHP_338-05-PBMC-DNA\"   \"CHP_343-04-PBMC-DNA\"   \"CHP_343-05-PBMC-DNA\"  \n",
       "[22] \"CHP_343-03-PBMC-DNA\"   \"CHP_343-02-PBMC-DNA\"   \"LFS_TCR-4758-PBMC-DNA\""
      ]
     },
     "metadata": {},
     "output_type": "display_data"
    }
   ],
   "source": [
    "alignstats$samplename"
   ]
  },
  {
   "cell_type": "code",
   "execution_count": 66,
   "metadata": {},
   "outputs": [],
   "source": [
    "LFSs <- alignstats$samplename[grepl(\"LFS\", alignstats$samplename)]\n",
    "CHPs <- alignstats$samplename[grepl(\"CHP\", alignstats$samplename)]"
   ]
  },
  {
   "cell_type": "code",
   "execution_count": 67,
   "metadata": {},
   "outputs": [
    {
     "data": {
      "text/html": [
       "<ol class=list-inline>\n",
       "\t<li>'LFS_TCR-4837-PBMC-DNA'</li>\n",
       "\t<li>'LFS_TCR-4759-PBMC-DNA'</li>\n",
       "\t<li>'LFS_TCR-4783-PBMC-DNA'</li>\n",
       "\t<li>'LFS_TCR-5014-PBMC-DNA'</li>\n",
       "\t<li>'LFS_TCR-4535-PBMC-DNA'</li>\n",
       "\t<li>'LFS_TCR-4838-PBMC-DNA'</li>\n",
       "\t<li>'LFS_TCR-4602-PBMC-DNA'</li>\n",
       "\t<li>'LFS_TCR-5067-PBMC-DNA'</li>\n",
       "\t<li>'LFS_TCR-4570-PBMC-DNA'</li>\n",
       "\t<li>'LFS_TCR-4758-PBMC-DNA'</li>\n",
       "</ol>\n"
      ],
      "text/latex": [
       "\\begin{enumerate*}\n",
       "\\item 'LFS\\_TCR-4837-PBMC-DNA'\n",
       "\\item 'LFS\\_TCR-4759-PBMC-DNA'\n",
       "\\item 'LFS\\_TCR-4783-PBMC-DNA'\n",
       "\\item 'LFS\\_TCR-5014-PBMC-DNA'\n",
       "\\item 'LFS\\_TCR-4535-PBMC-DNA'\n",
       "\\item 'LFS\\_TCR-4838-PBMC-DNA'\n",
       "\\item 'LFS\\_TCR-4602-PBMC-DNA'\n",
       "\\item 'LFS\\_TCR-5067-PBMC-DNA'\n",
       "\\item 'LFS\\_TCR-4570-PBMC-DNA'\n",
       "\\item 'LFS\\_TCR-4758-PBMC-DNA'\n",
       "\\end{enumerate*}\n"
      ],
      "text/markdown": [
       "1. 'LFS_TCR-4837-PBMC-DNA'\n",
       "2. 'LFS_TCR-4759-PBMC-DNA'\n",
       "3. 'LFS_TCR-4783-PBMC-DNA'\n",
       "4. 'LFS_TCR-5014-PBMC-DNA'\n",
       "5. 'LFS_TCR-4535-PBMC-DNA'\n",
       "6. 'LFS_TCR-4838-PBMC-DNA'\n",
       "7. 'LFS_TCR-4602-PBMC-DNA'\n",
       "8. 'LFS_TCR-5067-PBMC-DNA'\n",
       "9. 'LFS_TCR-4570-PBMC-DNA'\n",
       "10. 'LFS_TCR-4758-PBMC-DNA'\n",
       "\n",
       "\n"
      ],
      "text/plain": [
       " [1] \"LFS_TCR-4837-PBMC-DNA\" \"LFS_TCR-4759-PBMC-DNA\" \"LFS_TCR-4783-PBMC-DNA\"\n",
       " [4] \"LFS_TCR-5014-PBMC-DNA\" \"LFS_TCR-4535-PBMC-DNA\" \"LFS_TCR-4838-PBMC-DNA\"\n",
       " [7] \"LFS_TCR-4602-PBMC-DNA\" \"LFS_TCR-5067-PBMC-DNA\" \"LFS_TCR-4570-PBMC-DNA\"\n",
       "[10] \"LFS_TCR-4758-PBMC-DNA\""
      ]
     },
     "metadata": {},
     "output_type": "display_data"
    }
   ],
   "source": [
    "LFSs"
   ]
  },
  {
   "cell_type": "code",
   "execution_count": 68,
   "metadata": {},
   "outputs": [
    {
     "data": {
      "text/html": [
       "<strong>pdf:</strong> 2"
      ],
      "text/latex": [
       "\\textbf{pdf:} 2"
      ],
      "text/markdown": [
       "**pdf:** 2"
      ],
      "text/plain": [
       "pdf \n",
       "  2 "
      ]
     },
     "metadata": {},
     "output_type": "display_data"
    },
    {
     "data": {
      "text/html": [
       "<strong>pdf:</strong> 2"
      ],
      "text/latex": [
       "\\textbf{pdf:} 2"
      ],
      "text/markdown": [
       "**pdf:** 2"
      ],
      "text/plain": [
       "pdf \n",
       "  2 "
      ]
     },
     "metadata": {},
     "output_type": "display_data"
    }
   ],
   "source": [
    "mixcrQC.fx(\"align_stats.csv\", \"assemble_stats.csv\", LFSs,\n",
    "          \"LFSs_QCplot.pdf\", datapath, plotpath)\n",
    "\n",
    "mixcrQC.fx(\"align_stats.csv\", \"assemble_stats.csv\", CHPs,\n",
    "          \"CHPbatch2_QCplot.pdf\", datapath, plotpath)"
   ]
  },
  {
   "cell_type": "code",
   "execution_count": 79,
   "metadata": {},
   "outputs": [],
   "source": [
    "alignstats_ds <- read.csv(file = paste(datapath_ds,\"align_stats.csv\", sep =\"\"),\n",
    "                      sep = \",\", header = T)"
   ]
  },
  {
   "cell_type": "code",
   "execution_count": 81,
   "metadata": {},
   "outputs": [],
   "source": [
    "alignstats_ds$samplename <- gsub(\"_2000000_.*\",\"\",alignstats_ds$Input.file.s.[order(alignstats_ds$Successfully.aligned.reads)])"
   ]
  },
  {
   "cell_type": "code",
   "execution_count": 82,
   "metadata": {},
   "outputs": [
    {
     "data": {
      "text/html": [
       "<ol class=list-inline>\n",
       "\t<li>'CHP_329-04-PBMC-DNA'</li>\n",
       "\t<li>'CHP_343-05-PBMC-DNA'</li>\n",
       "\t<li>'CHP_348-02-PBMC-DNA'</li>\n",
       "\t<li>'CHP_342-04-PBMC-DNA'</li>\n",
       "\t<li>'CHP_343-02-PBMC-DNA'</li>\n",
       "\t<li>'CHP_343-03-PBMC-DNA'</li>\n",
       "\t<li>'CHP_348-01-PBMC-DNA'</li>\n",
       "\t<li>'CHP_319-05-PBMC-DNA'</li>\n",
       "\t<li>'CHP_331-04-PBMC-DNA'</li>\n",
       "\t<li>'CHP_343-04-PBMC-DNA'</li>\n",
       "\t<li>'LFS_TCR-4783-PBMC-DNA'</li>\n",
       "\t<li>'LFS_TCR-4838-PBMC-DNA'</li>\n",
       "\t<li>'CHP_330-05-PBMC-DNA'</li>\n",
       "\t<li>'LFS_TCR-4837-PBMC-DNA'</li>\n",
       "\t<li>'CHP_338-04-PBMC-DNA'</li>\n",
       "\t<li>'LFS_TCR-4759-PBMC-DNA'</li>\n",
       "\t<li>'CHP_338-05-PBMC-DNA'</li>\n",
       "\t<li>'LFS_TCR-4602-PBMC-DNA'</li>\n",
       "\t<li>'CHP_331-05-PBMC-DNA'</li>\n",
       "\t<li>'LFS_TCR-5067-PBMC-DNA'</li>\n",
       "\t<li>'LFS_TCR-5014-PBMC-DNA'</li>\n",
       "\t<li>'LFS_TCR-4535-PBMC-DNA'</li>\n",
       "\t<li>'LFS_TCR-4570-PBMC-DNA'</li>\n",
       "\t<li>'LFS_TCR-4758-PBMC-DNA'</li>\n",
       "</ol>\n"
      ],
      "text/latex": [
       "\\begin{enumerate*}\n",
       "\\item 'CHP\\_329-04-PBMC-DNA'\n",
       "\\item 'CHP\\_343-05-PBMC-DNA'\n",
       "\\item 'CHP\\_348-02-PBMC-DNA'\n",
       "\\item 'CHP\\_342-04-PBMC-DNA'\n",
       "\\item 'CHP\\_343-02-PBMC-DNA'\n",
       "\\item 'CHP\\_343-03-PBMC-DNA'\n",
       "\\item 'CHP\\_348-01-PBMC-DNA'\n",
       "\\item 'CHP\\_319-05-PBMC-DNA'\n",
       "\\item 'CHP\\_331-04-PBMC-DNA'\n",
       "\\item 'CHP\\_343-04-PBMC-DNA'\n",
       "\\item 'LFS\\_TCR-4783-PBMC-DNA'\n",
       "\\item 'LFS\\_TCR-4838-PBMC-DNA'\n",
       "\\item 'CHP\\_330-05-PBMC-DNA'\n",
       "\\item 'LFS\\_TCR-4837-PBMC-DNA'\n",
       "\\item 'CHP\\_338-04-PBMC-DNA'\n",
       "\\item 'LFS\\_TCR-4759-PBMC-DNA'\n",
       "\\item 'CHP\\_338-05-PBMC-DNA'\n",
       "\\item 'LFS\\_TCR-4602-PBMC-DNA'\n",
       "\\item 'CHP\\_331-05-PBMC-DNA'\n",
       "\\item 'LFS\\_TCR-5067-PBMC-DNA'\n",
       "\\item 'LFS\\_TCR-5014-PBMC-DNA'\n",
       "\\item 'LFS\\_TCR-4535-PBMC-DNA'\n",
       "\\item 'LFS\\_TCR-4570-PBMC-DNA'\n",
       "\\item 'LFS\\_TCR-4758-PBMC-DNA'\n",
       "\\end{enumerate*}\n"
      ],
      "text/markdown": [
       "1. 'CHP_329-04-PBMC-DNA'\n",
       "2. 'CHP_343-05-PBMC-DNA'\n",
       "3. 'CHP_348-02-PBMC-DNA'\n",
       "4. 'CHP_342-04-PBMC-DNA'\n",
       "5. 'CHP_343-02-PBMC-DNA'\n",
       "6. 'CHP_343-03-PBMC-DNA'\n",
       "7. 'CHP_348-01-PBMC-DNA'\n",
       "8. 'CHP_319-05-PBMC-DNA'\n",
       "9. 'CHP_331-04-PBMC-DNA'\n",
       "10. 'CHP_343-04-PBMC-DNA'\n",
       "11. 'LFS_TCR-4783-PBMC-DNA'\n",
       "12. 'LFS_TCR-4838-PBMC-DNA'\n",
       "13. 'CHP_330-05-PBMC-DNA'\n",
       "14. 'LFS_TCR-4837-PBMC-DNA'\n",
       "15. 'CHP_338-04-PBMC-DNA'\n",
       "16. 'LFS_TCR-4759-PBMC-DNA'\n",
       "17. 'CHP_338-05-PBMC-DNA'\n",
       "18. 'LFS_TCR-4602-PBMC-DNA'\n",
       "19. 'CHP_331-05-PBMC-DNA'\n",
       "20. 'LFS_TCR-5067-PBMC-DNA'\n",
       "21. 'LFS_TCR-5014-PBMC-DNA'\n",
       "22. 'LFS_TCR-4535-PBMC-DNA'\n",
       "23. 'LFS_TCR-4570-PBMC-DNA'\n",
       "24. 'LFS_TCR-4758-PBMC-DNA'\n",
       "\n",
       "\n"
      ],
      "text/plain": [
       " [1] \"CHP_329-04-PBMC-DNA\"   \"CHP_343-05-PBMC-DNA\"   \"CHP_348-02-PBMC-DNA\"  \n",
       " [4] \"CHP_342-04-PBMC-DNA\"   \"CHP_343-02-PBMC-DNA\"   \"CHP_343-03-PBMC-DNA\"  \n",
       " [7] \"CHP_348-01-PBMC-DNA\"   \"CHP_319-05-PBMC-DNA\"   \"CHP_331-04-PBMC-DNA\"  \n",
       "[10] \"CHP_343-04-PBMC-DNA\"   \"LFS_TCR-4783-PBMC-DNA\" \"LFS_TCR-4838-PBMC-DNA\"\n",
       "[13] \"CHP_330-05-PBMC-DNA\"   \"LFS_TCR-4837-PBMC-DNA\" \"CHP_338-04-PBMC-DNA\"  \n",
       "[16] \"LFS_TCR-4759-PBMC-DNA\" \"CHP_338-05-PBMC-DNA\"   \"LFS_TCR-4602-PBMC-DNA\"\n",
       "[19] \"CHP_331-05-PBMC-DNA\"   \"LFS_TCR-5067-PBMC-DNA\" \"LFS_TCR-5014-PBMC-DNA\"\n",
       "[22] \"LFS_TCR-4535-PBMC-DNA\" \"LFS_TCR-4570-PBMC-DNA\" \"LFS_TCR-4758-PBMC-DNA\""
      ]
     },
     "metadata": {},
     "output_type": "display_data"
    }
   ],
   "source": [
    "alignstats_ds$samplename"
   ]
  },
  {
   "cell_type": "code",
   "execution_count": 83,
   "metadata": {},
   "outputs": [],
   "source": [
    "LFSs <- alignstats_ds$samplename[grepl(\"LFS\", alignstats_ds$samplename)]\n",
    "CHPs <- alignstats_ds$samplename[grepl(\"CHP\", alignstats_ds$samplename)]"
   ]
  },
  {
   "cell_type": "code",
   "execution_count": 84,
   "metadata": {},
   "outputs": [
    {
     "data": {
      "text/html": [
       "<strong>pdf:</strong> 2"
      ],
      "text/latex": [
       "\\textbf{pdf:} 2"
      ],
      "text/markdown": [
       "**pdf:** 2"
      ],
      "text/plain": [
       "pdf \n",
       "  2 "
      ]
     },
     "metadata": {},
     "output_type": "display_data"
    },
    {
     "data": {
      "text/html": [
       "<strong>pdf:</strong> 2"
      ],
      "text/latex": [
       "\\textbf{pdf:} 2"
      ],
      "text/markdown": [
       "**pdf:** 2"
      ],
      "text/plain": [
       "pdf \n",
       "  2 "
      ]
     },
     "metadata": {},
     "output_type": "display_data"
    }
   ],
   "source": [
    "mixcrQC.fx(\"align_stats.csv\", \"assemble_stats.csv\", LFSs,\n",
    "          \"dsLFSs_QCplot.pdf\", datapath_ds, plotpath)\n",
    "\n",
    "mixcrQC.fx(\"align_stats.csv\", \"assemble_stats.csv\", CHPs,\n",
    "          \"CHPdsbatch2_QCplot.pdf\", datapath_ds, plotpath)"
   ]
  },
  {
   "cell_type": "markdown",
   "metadata": {},
   "source": [
    "# QC Batch 3 Aug 19 2019"
   ]
  },
  {
   "cell_type": "code",
   "execution_count": 85,
   "metadata": {},
   "outputs": [],
   "source": [
    "datapath <- \"/Users/anabbi/OneDrive - UHN/Documents/INTERCEPT/Data/batch3/\"\n",
    "datapath_ds <- \"/Users/anabbi/OneDrive - UHN/Documents/INTERCEPT/Data/batch3/ds_batch3/\""
   ]
  },
  {
   "cell_type": "code",
   "execution_count": 86,
   "metadata": {},
   "outputs": [],
   "source": [
    "alignstats <- read.csv(file = paste(datapath,\"align_stats.csv\", sep =\"\"),\n",
    "                      sep = \",\", header = T)"
   ]
  },
  {
   "cell_type": "code",
   "execution_count": 87,
   "metadata": {},
   "outputs": [],
   "source": [
    "alignstats$samplename <- gsub(\"_merged.*\",\"\",alignstats$Input.file.s.[order(alignstats$Successfully.aligned.reads)])"
   ]
  },
  {
   "cell_type": "code",
   "execution_count": 88,
   "metadata": {},
   "outputs": [
    {
     "data": {
      "text/html": [
       "<ol class=list-inline>\n",
       "\t<li>'CHP_361-03-PBMC-DNA'</li>\n",
       "\t<li>'CHP_340-05-PBMC-DNA'</li>\n",
       "\t<li>'CHP_365-03-PBMC-DNA'</li>\n",
       "\t<li>'CHP_370-02-PBMC-DNA'</li>\n",
       "\t<li>'CHP_339-05-PBMC-DNA'</li>\n",
       "\t<li>'CHP_374-05-PBMC-DNA'</li>\n",
       "\t<li>'CHP_380-02-PBMC-DNA'</li>\n",
       "\t<li>'CHP_361-02-PBMC-DNA'</li>\n",
       "\t<li>'CHP_374-03-PBMC-DNA'</li>\n",
       "\t<li>'CHP_376-03-PBMC-DNA'</li>\n",
       "\t<li>'CHP_358-05-PBMC-DNA'</li>\n",
       "\t<li>'CHP_360-03-PBMC-DNA'</li>\n",
       "\t<li>'CHP_373-01-PBMC-DNA'</li>\n",
       "\t<li>'CHP_374-04-PBMC-DNA'</li>\n",
       "\t<li>'CHP_368-05-PBMC-DNA'</li>\n",
       "\t<li>'CHP_350-05-PBMC-DNA'</li>\n",
       "\t<li>'CHP_345-04-PBMC-DNA'</li>\n",
       "\t<li>'CHP_345-05-PBMC-DNA'</li>\n",
       "\t<li>'CHP_358-03-PBMC-DNA'</li>\n",
       "\t<li>'CHP_381-02-PBMC-DNA'</li>\n",
       "\t<li>'CHP_378-01-PBMC-DNA'</li>\n",
       "</ol>\n"
      ],
      "text/latex": [
       "\\begin{enumerate*}\n",
       "\\item 'CHP\\_361-03-PBMC-DNA'\n",
       "\\item 'CHP\\_340-05-PBMC-DNA'\n",
       "\\item 'CHP\\_365-03-PBMC-DNA'\n",
       "\\item 'CHP\\_370-02-PBMC-DNA'\n",
       "\\item 'CHP\\_339-05-PBMC-DNA'\n",
       "\\item 'CHP\\_374-05-PBMC-DNA'\n",
       "\\item 'CHP\\_380-02-PBMC-DNA'\n",
       "\\item 'CHP\\_361-02-PBMC-DNA'\n",
       "\\item 'CHP\\_374-03-PBMC-DNA'\n",
       "\\item 'CHP\\_376-03-PBMC-DNA'\n",
       "\\item 'CHP\\_358-05-PBMC-DNA'\n",
       "\\item 'CHP\\_360-03-PBMC-DNA'\n",
       "\\item 'CHP\\_373-01-PBMC-DNA'\n",
       "\\item 'CHP\\_374-04-PBMC-DNA'\n",
       "\\item 'CHP\\_368-05-PBMC-DNA'\n",
       "\\item 'CHP\\_350-05-PBMC-DNA'\n",
       "\\item 'CHP\\_345-04-PBMC-DNA'\n",
       "\\item 'CHP\\_345-05-PBMC-DNA'\n",
       "\\item 'CHP\\_358-03-PBMC-DNA'\n",
       "\\item 'CHP\\_381-02-PBMC-DNA'\n",
       "\\item 'CHP\\_378-01-PBMC-DNA'\n",
       "\\end{enumerate*}\n"
      ],
      "text/markdown": [
       "1. 'CHP_361-03-PBMC-DNA'\n",
       "2. 'CHP_340-05-PBMC-DNA'\n",
       "3. 'CHP_365-03-PBMC-DNA'\n",
       "4. 'CHP_370-02-PBMC-DNA'\n",
       "5. 'CHP_339-05-PBMC-DNA'\n",
       "6. 'CHP_374-05-PBMC-DNA'\n",
       "7. 'CHP_380-02-PBMC-DNA'\n",
       "8. 'CHP_361-02-PBMC-DNA'\n",
       "9. 'CHP_374-03-PBMC-DNA'\n",
       "10. 'CHP_376-03-PBMC-DNA'\n",
       "11. 'CHP_358-05-PBMC-DNA'\n",
       "12. 'CHP_360-03-PBMC-DNA'\n",
       "13. 'CHP_373-01-PBMC-DNA'\n",
       "14. 'CHP_374-04-PBMC-DNA'\n",
       "15. 'CHP_368-05-PBMC-DNA'\n",
       "16. 'CHP_350-05-PBMC-DNA'\n",
       "17. 'CHP_345-04-PBMC-DNA'\n",
       "18. 'CHP_345-05-PBMC-DNA'\n",
       "19. 'CHP_358-03-PBMC-DNA'\n",
       "20. 'CHP_381-02-PBMC-DNA'\n",
       "21. 'CHP_378-01-PBMC-DNA'\n",
       "\n",
       "\n"
      ],
      "text/plain": [
       " [1] \"CHP_361-03-PBMC-DNA\" \"CHP_340-05-PBMC-DNA\" \"CHP_365-03-PBMC-DNA\"\n",
       " [4] \"CHP_370-02-PBMC-DNA\" \"CHP_339-05-PBMC-DNA\" \"CHP_374-05-PBMC-DNA\"\n",
       " [7] \"CHP_380-02-PBMC-DNA\" \"CHP_361-02-PBMC-DNA\" \"CHP_374-03-PBMC-DNA\"\n",
       "[10] \"CHP_376-03-PBMC-DNA\" \"CHP_358-05-PBMC-DNA\" \"CHP_360-03-PBMC-DNA\"\n",
       "[13] \"CHP_373-01-PBMC-DNA\" \"CHP_374-04-PBMC-DNA\" \"CHP_368-05-PBMC-DNA\"\n",
       "[16] \"CHP_350-05-PBMC-DNA\" \"CHP_345-04-PBMC-DNA\" \"CHP_345-05-PBMC-DNA\"\n",
       "[19] \"CHP_358-03-PBMC-DNA\" \"CHP_381-02-PBMC-DNA\" \"CHP_378-01-PBMC-DNA\""
      ]
     },
     "metadata": {},
     "output_type": "display_data"
    }
   ],
   "source": [
    "alignstats$samplename"
   ]
  },
  {
   "cell_type": "code",
   "execution_count": 89,
   "metadata": {},
   "outputs": [
    {
     "data": {
      "text/html": [
       "<strong>pdf:</strong> 2"
      ],
      "text/latex": [
       "\\textbf{pdf:} 2"
      ],
      "text/markdown": [
       "**pdf:** 2"
      ],
      "text/plain": [
       "pdf \n",
       "  2 "
      ]
     },
     "metadata": {},
     "output_type": "display_data"
    }
   ],
   "source": [
    "mixcrQC.fx(\"align_stats.csv\", \"assemble_stats.csv\", alignstats$samplename,\n",
    "          \"CHPbatch3_QCplot.pdf\", datapath, plotpath)"
   ]
  },
  {
   "cell_type": "code",
   "execution_count": 103,
   "metadata": {},
   "outputs": [],
   "source": [
    "alignstats_ds <- read.csv(file = paste(datapath_ds,\"align_stats.csv\", sep =\"\"),\n",
    "                      sep = \",\", header = T)"
   ]
  },
  {
   "cell_type": "code",
   "execution_count": 104,
   "metadata": {},
   "outputs": [],
   "source": [
    "alignstats_ds$samplename <- gsub(\"_2000000_.*\",\"\",alignstats_ds$Input.file.s.[order(alignstats_ds$Successfully.aligned.reads)])"
   ]
  },
  {
   "cell_type": "code",
   "execution_count": 105,
   "metadata": {},
   "outputs": [
    {
     "data": {
      "text/html": [
       "<ol class=list-inline>\n",
       "\t<li>'CHP_339-03-PBMC-DNA'</li>\n",
       "\t<li>'CHP_315-05-PBMC-DNA'</li>\n",
       "\t<li>'CHP_343-05-PBMC-DNA'</li>\n",
       "\t<li>'CHP_361-01-PBMC-DNA'</li>\n",
       "\t<li>'CHP_355-01-PBMC-DNA'</li>\n",
       "\t<li>'CHP_323-03-PBMC-DNA'</li>\n",
       "\t<li>'CHP_363-02-PBMC-DNA'</li>\n",
       "\t<li>'CHP_347-01-PBMC-DNA'</li>\n",
       "\t<li>'CHP_357-01-PBMC-DNA'</li>\n",
       "\t<li>'CHP_344-05-PBMC-DNA'</li>\n",
       "\t<li>'CHP_366-01-PBMC-DNA'</li>\n",
       "\t<li>'CHP_364-02-PBMC-DNA'</li>\n",
       "\t<li>'CHP_364-04-PBMC-DNA'</li>\n",
       "\t<li>'CHP_340-03-PBMC-DNA'</li>\n",
       "\t<li>'CHP_364-01-PBMC-DNA'</li>\n",
       "\t<li>'CHP_347-02-PBMC-DNA'</li>\n",
       "\t<li>'CHP_362-02-PBMC-DNA'</li>\n",
       "\t<li>'CHP_303-05-PBMC-DNA'</li>\n",
       "\t<li>'CHP_345-02-PBMC-DNA'</li>\n",
       "\t<li>'CHP_338-03-PBMC-DNA'</li>\n",
       "</ol>\n"
      ],
      "text/latex": [
       "\\begin{enumerate*}\n",
       "\\item 'CHP\\_339-03-PBMC-DNA'\n",
       "\\item 'CHP\\_315-05-PBMC-DNA'\n",
       "\\item 'CHP\\_343-05-PBMC-DNA'\n",
       "\\item 'CHP\\_361-01-PBMC-DNA'\n",
       "\\item 'CHP\\_355-01-PBMC-DNA'\n",
       "\\item 'CHP\\_323-03-PBMC-DNA'\n",
       "\\item 'CHP\\_363-02-PBMC-DNA'\n",
       "\\item 'CHP\\_347-01-PBMC-DNA'\n",
       "\\item 'CHP\\_357-01-PBMC-DNA'\n",
       "\\item 'CHP\\_344-05-PBMC-DNA'\n",
       "\\item 'CHP\\_366-01-PBMC-DNA'\n",
       "\\item 'CHP\\_364-02-PBMC-DNA'\n",
       "\\item 'CHP\\_364-04-PBMC-DNA'\n",
       "\\item 'CHP\\_340-03-PBMC-DNA'\n",
       "\\item 'CHP\\_364-01-PBMC-DNA'\n",
       "\\item 'CHP\\_347-02-PBMC-DNA'\n",
       "\\item 'CHP\\_362-02-PBMC-DNA'\n",
       "\\item 'CHP\\_303-05-PBMC-DNA'\n",
       "\\item 'CHP\\_345-02-PBMC-DNA'\n",
       "\\item 'CHP\\_338-03-PBMC-DNA'\n",
       "\\end{enumerate*}\n"
      ],
      "text/markdown": [
       "1. 'CHP_339-03-PBMC-DNA'\n",
       "2. 'CHP_315-05-PBMC-DNA'\n",
       "3. 'CHP_343-05-PBMC-DNA'\n",
       "4. 'CHP_361-01-PBMC-DNA'\n",
       "5. 'CHP_355-01-PBMC-DNA'\n",
       "6. 'CHP_323-03-PBMC-DNA'\n",
       "7. 'CHP_363-02-PBMC-DNA'\n",
       "8. 'CHP_347-01-PBMC-DNA'\n",
       "9. 'CHP_357-01-PBMC-DNA'\n",
       "10. 'CHP_344-05-PBMC-DNA'\n",
       "11. 'CHP_366-01-PBMC-DNA'\n",
       "12. 'CHP_364-02-PBMC-DNA'\n",
       "13. 'CHP_364-04-PBMC-DNA'\n",
       "14. 'CHP_340-03-PBMC-DNA'\n",
       "15. 'CHP_364-01-PBMC-DNA'\n",
       "16. 'CHP_347-02-PBMC-DNA'\n",
       "17. 'CHP_362-02-PBMC-DNA'\n",
       "18. 'CHP_303-05-PBMC-DNA'\n",
       "19. 'CHP_345-02-PBMC-DNA'\n",
       "20. 'CHP_338-03-PBMC-DNA'\n",
       "\n",
       "\n"
      ],
      "text/plain": [
       " [1] \"CHP_339-03-PBMC-DNA\" \"CHP_315-05-PBMC-DNA\" \"CHP_343-05-PBMC-DNA\"\n",
       " [4] \"CHP_361-01-PBMC-DNA\" \"CHP_355-01-PBMC-DNA\" \"CHP_323-03-PBMC-DNA\"\n",
       " [7] \"CHP_363-02-PBMC-DNA\" \"CHP_347-01-PBMC-DNA\" \"CHP_357-01-PBMC-DNA\"\n",
       "[10] \"CHP_344-05-PBMC-DNA\" \"CHP_366-01-PBMC-DNA\" \"CHP_364-02-PBMC-DNA\"\n",
       "[13] \"CHP_364-04-PBMC-DNA\" \"CHP_340-03-PBMC-DNA\" \"CHP_364-01-PBMC-DNA\"\n",
       "[16] \"CHP_347-02-PBMC-DNA\" \"CHP_362-02-PBMC-DNA\" \"CHP_303-05-PBMC-DNA\"\n",
       "[19] \"CHP_345-02-PBMC-DNA\" \"CHP_338-03-PBMC-DNA\""
      ]
     },
     "metadata": {},
     "output_type": "display_data"
    }
   ],
   "source": [
    "alignstats_ds$samplename"
   ]
  },
  {
   "cell_type": "code",
   "execution_count": 106,
   "metadata": {},
   "outputs": [
    {
     "name": "stderr",
     "output_type": "stream",
     "text": [
      "plot file exists: CHPdsbatch3_QCplot.pdf\n"
     ]
    }
   ],
   "source": [
    "mixcrQC.fx(\"align_stats.csv\", \"assemble_stats.csv\", alignstats_ds$samplename,\n",
    "          \"CHPdsbatch3_QCplot.pdf\", datapath_ds, plotpath)"
   ]
  },
  {
   "cell_type": "markdown",
   "metadata": {},
   "source": [
    "# QC Batch 4 Aug 19 2019"
   ]
  },
  {
   "cell_type": "code",
   "execution_count": 107,
   "metadata": {},
   "outputs": [],
   "source": [
    "datapath <- \"/Users/anabbi/OneDrive - UHN/Documents/INTERCEPT/Data/batch4/\"\n",
    "datapath_ds <- \"/Users/anabbi/OneDrive - UHN/Documents/INTERCEPT/Data/batch4/ds_batch4/\""
   ]
  },
  {
   "cell_type": "code",
   "execution_count": 108,
   "metadata": {},
   "outputs": [],
   "source": [
    "alignstats <- read.csv(file = paste(datapath,\"align_stats.csv\", sep =\"\"),\n",
    "                      sep = \",\", header = T)"
   ]
  },
  {
   "cell_type": "code",
   "execution_count": 109,
   "metadata": {},
   "outputs": [],
   "source": [
    "alignstats$samplename <- gsub(\"_merged.*\",\"\",alignstats$Input.file.s.[order(alignstats$Successfully.aligned.reads)])"
   ]
  },
  {
   "cell_type": "code",
   "execution_count": 110,
   "metadata": {},
   "outputs": [
    {
     "data": {
      "text/html": [
       "<ol class=list-inline>\n",
       "\t<li>'CHP_375-01-PBMC-DNA'</li>\n",
       "\t<li>'CHP_355-02-PBMC-DNA'</li>\n",
       "\t<li>'CHP_372-01-PBMC-DNA'</li>\n",
       "\t<li>'CHP_339-03-PBMC-DNA'</li>\n",
       "\t<li>'CHP_358-02-PBMC-DNA'</li>\n",
       "\t<li>'CHP_303-05-PBMC-DNA'</li>\n",
       "\t<li>'CHP_344-05-PBMC-DNA'</li>\n",
       "\t<li>'CHP_355-01-PBMC-DNA'</li>\n",
       "\t<li>'CHP_338-03-PBMC-DNA'</li>\n",
       "\t<li>'CHP_347-02-PBMC-DNA'</li>\n",
       "\t<li>'CHP_323-03-PBMC-DNA'</li>\n",
       "\t<li>'CHP_340-03-PBMC-DNA'</li>\n",
       "\t<li>'CHP_364-01-PBMC-DNA'</li>\n",
       "\t<li>'CHP_343-05-PBMC-DNA'</li>\n",
       "\t<li>'CHP_347-01-PBMC-DNA'</li>\n",
       "\t<li>'CHP_345-02-PBMC-DNA'</li>\n",
       "\t<li>'CHP_364-04-PBMC-DNA'</li>\n",
       "\t<li>'CHP_361-01-PBMC-DNA'</li>\n",
       "\t<li>'CHP_364-02-PBMC-DNA'</li>\n",
       "\t<li>'CHP_366-01-PBMC-DNA'</li>\n",
       "\t<li>'CHP_357-01-PBMC-DNA'</li>\n",
       "\t<li>'CHP_362-02-PBMC-DNA'</li>\n",
       "\t<li>'CHP_315-05-PBMC-DNA'</li>\n",
       "\t<li>'CHP_363-02-PBMC-DNA'</li>\n",
       "</ol>\n"
      ],
      "text/latex": [
       "\\begin{enumerate*}\n",
       "\\item 'CHP\\_375-01-PBMC-DNA'\n",
       "\\item 'CHP\\_355-02-PBMC-DNA'\n",
       "\\item 'CHP\\_372-01-PBMC-DNA'\n",
       "\\item 'CHP\\_339-03-PBMC-DNA'\n",
       "\\item 'CHP\\_358-02-PBMC-DNA'\n",
       "\\item 'CHP\\_303-05-PBMC-DNA'\n",
       "\\item 'CHP\\_344-05-PBMC-DNA'\n",
       "\\item 'CHP\\_355-01-PBMC-DNA'\n",
       "\\item 'CHP\\_338-03-PBMC-DNA'\n",
       "\\item 'CHP\\_347-02-PBMC-DNA'\n",
       "\\item 'CHP\\_323-03-PBMC-DNA'\n",
       "\\item 'CHP\\_340-03-PBMC-DNA'\n",
       "\\item 'CHP\\_364-01-PBMC-DNA'\n",
       "\\item 'CHP\\_343-05-PBMC-DNA'\n",
       "\\item 'CHP\\_347-01-PBMC-DNA'\n",
       "\\item 'CHP\\_345-02-PBMC-DNA'\n",
       "\\item 'CHP\\_364-04-PBMC-DNA'\n",
       "\\item 'CHP\\_361-01-PBMC-DNA'\n",
       "\\item 'CHP\\_364-02-PBMC-DNA'\n",
       "\\item 'CHP\\_366-01-PBMC-DNA'\n",
       "\\item 'CHP\\_357-01-PBMC-DNA'\n",
       "\\item 'CHP\\_362-02-PBMC-DNA'\n",
       "\\item 'CHP\\_315-05-PBMC-DNA'\n",
       "\\item 'CHP\\_363-02-PBMC-DNA'\n",
       "\\end{enumerate*}\n"
      ],
      "text/markdown": [
       "1. 'CHP_375-01-PBMC-DNA'\n",
       "2. 'CHP_355-02-PBMC-DNA'\n",
       "3. 'CHP_372-01-PBMC-DNA'\n",
       "4. 'CHP_339-03-PBMC-DNA'\n",
       "5. 'CHP_358-02-PBMC-DNA'\n",
       "6. 'CHP_303-05-PBMC-DNA'\n",
       "7. 'CHP_344-05-PBMC-DNA'\n",
       "8. 'CHP_355-01-PBMC-DNA'\n",
       "9. 'CHP_338-03-PBMC-DNA'\n",
       "10. 'CHP_347-02-PBMC-DNA'\n",
       "11. 'CHP_323-03-PBMC-DNA'\n",
       "12. 'CHP_340-03-PBMC-DNA'\n",
       "13. 'CHP_364-01-PBMC-DNA'\n",
       "14. 'CHP_343-05-PBMC-DNA'\n",
       "15. 'CHP_347-01-PBMC-DNA'\n",
       "16. 'CHP_345-02-PBMC-DNA'\n",
       "17. 'CHP_364-04-PBMC-DNA'\n",
       "18. 'CHP_361-01-PBMC-DNA'\n",
       "19. 'CHP_364-02-PBMC-DNA'\n",
       "20. 'CHP_366-01-PBMC-DNA'\n",
       "21. 'CHP_357-01-PBMC-DNA'\n",
       "22. 'CHP_362-02-PBMC-DNA'\n",
       "23. 'CHP_315-05-PBMC-DNA'\n",
       "24. 'CHP_363-02-PBMC-DNA'\n",
       "\n",
       "\n"
      ],
      "text/plain": [
       " [1] \"CHP_375-01-PBMC-DNA\" \"CHP_355-02-PBMC-DNA\" \"CHP_372-01-PBMC-DNA\"\n",
       " [4] \"CHP_339-03-PBMC-DNA\" \"CHP_358-02-PBMC-DNA\" \"CHP_303-05-PBMC-DNA\"\n",
       " [7] \"CHP_344-05-PBMC-DNA\" \"CHP_355-01-PBMC-DNA\" \"CHP_338-03-PBMC-DNA\"\n",
       "[10] \"CHP_347-02-PBMC-DNA\" \"CHP_323-03-PBMC-DNA\" \"CHP_340-03-PBMC-DNA\"\n",
       "[13] \"CHP_364-01-PBMC-DNA\" \"CHP_343-05-PBMC-DNA\" \"CHP_347-01-PBMC-DNA\"\n",
       "[16] \"CHP_345-02-PBMC-DNA\" \"CHP_364-04-PBMC-DNA\" \"CHP_361-01-PBMC-DNA\"\n",
       "[19] \"CHP_364-02-PBMC-DNA\" \"CHP_366-01-PBMC-DNA\" \"CHP_357-01-PBMC-DNA\"\n",
       "[22] \"CHP_362-02-PBMC-DNA\" \"CHP_315-05-PBMC-DNA\" \"CHP_363-02-PBMC-DNA\""
      ]
     },
     "metadata": {},
     "output_type": "display_data"
    }
   ],
   "source": [
    "alignstats$samplename"
   ]
  },
  {
   "cell_type": "code",
   "execution_count": 112,
   "metadata": {},
   "outputs": [
    {
     "data": {
      "text/html": [
       "<strong>pdf:</strong> 2"
      ],
      "text/latex": [
       "\\textbf{pdf:} 2"
      ],
      "text/markdown": [
       "**pdf:** 2"
      ],
      "text/plain": [
       "pdf \n",
       "  2 "
      ]
     },
     "metadata": {},
     "output_type": "display_data"
    }
   ],
   "source": [
    "mixcrQC.fx(\"align_stats.csv\", \"assemble_stats.csv\", alignstats$samplename,\n",
    "          \"CHPbatch4_QCplot.pdf\", datapath, plotpath)"
   ]
  },
  {
   "cell_type": "code",
   "execution_count": 113,
   "metadata": {},
   "outputs": [],
   "source": [
    "alignstats_ds <- read.csv(file = paste(datapath_ds,\"align_stats.csv\", sep =\"\"),\n",
    "                      sep = \",\", header = T)"
   ]
  },
  {
   "cell_type": "code",
   "execution_count": 114,
   "metadata": {},
   "outputs": [],
   "source": [
    "alignstats_ds$samplename <- gsub(\"_2000000_.*\",\"\",alignstats_ds$Input.file.s.[order(alignstats_ds$Successfully.aligned.reads)])"
   ]
  },
  {
   "cell_type": "code",
   "execution_count": 115,
   "metadata": {},
   "outputs": [
    {
     "data": {
      "text/html": [
       "<ol class=list-inline>\n",
       "\t<li>'CHP_339-03-PBMC-DNA'</li>\n",
       "\t<li>'CHP_315-05-PBMC-DNA'</li>\n",
       "\t<li>'CHP_343-05-PBMC-DNA'</li>\n",
       "\t<li>'CHP_361-01-PBMC-DNA'</li>\n",
       "\t<li>'CHP_355-01-PBMC-DNA'</li>\n",
       "\t<li>'CHP_323-03-PBMC-DNA'</li>\n",
       "\t<li>'CHP_363-02-PBMC-DNA'</li>\n",
       "\t<li>'CHP_347-01-PBMC-DNA'</li>\n",
       "\t<li>'CHP_357-01-PBMC-DNA'</li>\n",
       "\t<li>'CHP_344-05-PBMC-DNA'</li>\n",
       "\t<li>'CHP_366-01-PBMC-DNA'</li>\n",
       "\t<li>'CHP_364-02-PBMC-DNA'</li>\n",
       "\t<li>'CHP_364-04-PBMC-DNA'</li>\n",
       "\t<li>'CHP_340-03-PBMC-DNA'</li>\n",
       "\t<li>'CHP_364-01-PBMC-DNA'</li>\n",
       "\t<li>'CHP_347-02-PBMC-DNA'</li>\n",
       "\t<li>'CHP_362-02-PBMC-DNA'</li>\n",
       "\t<li>'CHP_303-05-PBMC-DNA'</li>\n",
       "\t<li>'CHP_345-02-PBMC-DNA'</li>\n",
       "\t<li>'CHP_338-03-PBMC-DNA'</li>\n",
       "</ol>\n"
      ],
      "text/latex": [
       "\\begin{enumerate*}\n",
       "\\item 'CHP\\_339-03-PBMC-DNA'\n",
       "\\item 'CHP\\_315-05-PBMC-DNA'\n",
       "\\item 'CHP\\_343-05-PBMC-DNA'\n",
       "\\item 'CHP\\_361-01-PBMC-DNA'\n",
       "\\item 'CHP\\_355-01-PBMC-DNA'\n",
       "\\item 'CHP\\_323-03-PBMC-DNA'\n",
       "\\item 'CHP\\_363-02-PBMC-DNA'\n",
       "\\item 'CHP\\_347-01-PBMC-DNA'\n",
       "\\item 'CHP\\_357-01-PBMC-DNA'\n",
       "\\item 'CHP\\_344-05-PBMC-DNA'\n",
       "\\item 'CHP\\_366-01-PBMC-DNA'\n",
       "\\item 'CHP\\_364-02-PBMC-DNA'\n",
       "\\item 'CHP\\_364-04-PBMC-DNA'\n",
       "\\item 'CHP\\_340-03-PBMC-DNA'\n",
       "\\item 'CHP\\_364-01-PBMC-DNA'\n",
       "\\item 'CHP\\_347-02-PBMC-DNA'\n",
       "\\item 'CHP\\_362-02-PBMC-DNA'\n",
       "\\item 'CHP\\_303-05-PBMC-DNA'\n",
       "\\item 'CHP\\_345-02-PBMC-DNA'\n",
       "\\item 'CHP\\_338-03-PBMC-DNA'\n",
       "\\end{enumerate*}\n"
      ],
      "text/markdown": [
       "1. 'CHP_339-03-PBMC-DNA'\n",
       "2. 'CHP_315-05-PBMC-DNA'\n",
       "3. 'CHP_343-05-PBMC-DNA'\n",
       "4. 'CHP_361-01-PBMC-DNA'\n",
       "5. 'CHP_355-01-PBMC-DNA'\n",
       "6. 'CHP_323-03-PBMC-DNA'\n",
       "7. 'CHP_363-02-PBMC-DNA'\n",
       "8. 'CHP_347-01-PBMC-DNA'\n",
       "9. 'CHP_357-01-PBMC-DNA'\n",
       "10. 'CHP_344-05-PBMC-DNA'\n",
       "11. 'CHP_366-01-PBMC-DNA'\n",
       "12. 'CHP_364-02-PBMC-DNA'\n",
       "13. 'CHP_364-04-PBMC-DNA'\n",
       "14. 'CHP_340-03-PBMC-DNA'\n",
       "15. 'CHP_364-01-PBMC-DNA'\n",
       "16. 'CHP_347-02-PBMC-DNA'\n",
       "17. 'CHP_362-02-PBMC-DNA'\n",
       "18. 'CHP_303-05-PBMC-DNA'\n",
       "19. 'CHP_345-02-PBMC-DNA'\n",
       "20. 'CHP_338-03-PBMC-DNA'\n",
       "\n",
       "\n"
      ],
      "text/plain": [
       " [1] \"CHP_339-03-PBMC-DNA\" \"CHP_315-05-PBMC-DNA\" \"CHP_343-05-PBMC-DNA\"\n",
       " [4] \"CHP_361-01-PBMC-DNA\" \"CHP_355-01-PBMC-DNA\" \"CHP_323-03-PBMC-DNA\"\n",
       " [7] \"CHP_363-02-PBMC-DNA\" \"CHP_347-01-PBMC-DNA\" \"CHP_357-01-PBMC-DNA\"\n",
       "[10] \"CHP_344-05-PBMC-DNA\" \"CHP_366-01-PBMC-DNA\" \"CHP_364-02-PBMC-DNA\"\n",
       "[13] \"CHP_364-04-PBMC-DNA\" \"CHP_340-03-PBMC-DNA\" \"CHP_364-01-PBMC-DNA\"\n",
       "[16] \"CHP_347-02-PBMC-DNA\" \"CHP_362-02-PBMC-DNA\" \"CHP_303-05-PBMC-DNA\"\n",
       "[19] \"CHP_345-02-PBMC-DNA\" \"CHP_338-03-PBMC-DNA\""
      ]
     },
     "metadata": {},
     "output_type": "display_data"
    }
   ],
   "source": [
    "alignstats_ds$samplename"
   ]
  },
  {
   "cell_type": "code",
   "execution_count": 116,
   "metadata": {},
   "outputs": [
    {
     "data": {
      "text/html": [
       "<strong>pdf:</strong> 2"
      ],
      "text/latex": [
       "\\textbf{pdf:} 2"
      ],
      "text/markdown": [
       "**pdf:** 2"
      ],
      "text/plain": [
       "pdf \n",
       "  2 "
      ]
     },
     "metadata": {},
     "output_type": "display_data"
    }
   ],
   "source": [
    "mixcrQC.fx(\"align_stats.csv\", \"assemble_stats.csv\", alignstats_ds$samplename,\n",
    "          \"CHPdsbatch4_QCplot.pdf\", datapath_ds, plotpath)"
   ]
  },
  {
   "cell_type": "code",
   "execution_count": null,
   "metadata": {},
   "outputs": [],
   "source": []
  },
  {
   "cell_type": "markdown",
   "metadata": {},
   "source": [
    "# QC Batch 7 Oct 25 2019"
   ]
  },
  {
   "cell_type": "code",
   "execution_count": 5,
   "metadata": {},
   "outputs": [],
   "source": [
    "datapath <- \"/Users/anabbi/OneDrive - UHN/Documents/INTERCEPT/Data/batch7/\"\n",
    "datapath_ds <- \"/Users/anabbi/OneDrive - UHN/Documents/INTERCEPT/Data/batch7/ds_batch7/\""
   ]
  },
  {
   "cell_type": "code",
   "execution_count": 6,
   "metadata": {},
   "outputs": [],
   "source": [
    "alignstats <- read.csv(file = paste(datapath,\"align_stats.csv\", sep =\"\"),\n",
    "                      sep = \",\", header = T)"
   ]
  },
  {
   "cell_type": "code",
   "execution_count": 7,
   "metadata": {},
   "outputs": [],
   "source": [
    "alignstats$samplename <- gsub(\"_merged.*\",\"\",alignstats$Input.file.s.[order(alignstats$Successfully.aligned.reads)])"
   ]
  },
  {
   "cell_type": "code",
   "execution_count": 8,
   "metadata": {},
   "outputs": [
    {
     "data": {
      "text/html": [
       "<ol class=list-inline>\n",
       "\t<li>'CHP_351-04-PBMC-DNA'</li>\n",
       "\t<li>'CHP_344-03-PBMC-DNA'</li>\n",
       "\t<li>'CHP_361-04-PBMC-DNA'</li>\n",
       "\t<li>'CHP_323-04-PBMC-DNA'</li>\n",
       "\t<li>'CHP_362-04-PBMC-DNA'</li>\n",
       "\t<li>'CHP_345-03-PBMC-DNA'</li>\n",
       "\t<li>'CHP_368-04-PBMC-DNA'</li>\n",
       "\t<li>'CHP_370-01-PBMC-DNA'</li>\n",
       "\t<li>'CHP_347-03-PBMC-DNA'</li>\n",
       "\t<li>'CHP_362-03-PBMC-DNA'</li>\n",
       "\t<li>'CHP_353-01-PBMC-DNA'</li>\n",
       "\t<li>'CHP_373-02-PBMC-DNA'</li>\n",
       "\t<li>'CHP_360-02-PBMC-DNA'</li>\n",
       "\t<li>'CHP_359-01-PBMC-DNA'</li>\n",
       "\t<li>'CHP_362-01-PBMC-DNA'</li>\n",
       "\t<li>'CHP_357-04-PBMC-DNA'</li>\n",
       "\t<li>'CHP_353-03-PBMC-DNA'</li>\n",
       "\t<li>'CHP_378-02-PBMC-DNA'</li>\n",
       "\t<li>'CHP_344-02-PBMC-DNA'</li>\n",
       "\t<li>'CHP_375-02-PBMC-DNA'</li>\n",
       "\t<li>'CHP_368-01-PBMC-DNA'</li>\n",
       "\t<li>'CHP_323-05-PBMC-DNA'</li>\n",
       "\t<li>'CHP_370-05-PBMC-DNA'</li>\n",
       "\t<li>'CHP_353-05-PBMC-DNA'</li>\n",
       "</ol>\n"
      ],
      "text/latex": [
       "\\begin{enumerate*}\n",
       "\\item 'CHP\\_351-04-PBMC-DNA'\n",
       "\\item 'CHP\\_344-03-PBMC-DNA'\n",
       "\\item 'CHP\\_361-04-PBMC-DNA'\n",
       "\\item 'CHP\\_323-04-PBMC-DNA'\n",
       "\\item 'CHP\\_362-04-PBMC-DNA'\n",
       "\\item 'CHP\\_345-03-PBMC-DNA'\n",
       "\\item 'CHP\\_368-04-PBMC-DNA'\n",
       "\\item 'CHP\\_370-01-PBMC-DNA'\n",
       "\\item 'CHP\\_347-03-PBMC-DNA'\n",
       "\\item 'CHP\\_362-03-PBMC-DNA'\n",
       "\\item 'CHP\\_353-01-PBMC-DNA'\n",
       "\\item 'CHP\\_373-02-PBMC-DNA'\n",
       "\\item 'CHP\\_360-02-PBMC-DNA'\n",
       "\\item 'CHP\\_359-01-PBMC-DNA'\n",
       "\\item 'CHP\\_362-01-PBMC-DNA'\n",
       "\\item 'CHP\\_357-04-PBMC-DNA'\n",
       "\\item 'CHP\\_353-03-PBMC-DNA'\n",
       "\\item 'CHP\\_378-02-PBMC-DNA'\n",
       "\\item 'CHP\\_344-02-PBMC-DNA'\n",
       "\\item 'CHP\\_375-02-PBMC-DNA'\n",
       "\\item 'CHP\\_368-01-PBMC-DNA'\n",
       "\\item 'CHP\\_323-05-PBMC-DNA'\n",
       "\\item 'CHP\\_370-05-PBMC-DNA'\n",
       "\\item 'CHP\\_353-05-PBMC-DNA'\n",
       "\\end{enumerate*}\n"
      ],
      "text/markdown": [
       "1. 'CHP_351-04-PBMC-DNA'\n",
       "2. 'CHP_344-03-PBMC-DNA'\n",
       "3. 'CHP_361-04-PBMC-DNA'\n",
       "4. 'CHP_323-04-PBMC-DNA'\n",
       "5. 'CHP_362-04-PBMC-DNA'\n",
       "6. 'CHP_345-03-PBMC-DNA'\n",
       "7. 'CHP_368-04-PBMC-DNA'\n",
       "8. 'CHP_370-01-PBMC-DNA'\n",
       "9. 'CHP_347-03-PBMC-DNA'\n",
       "10. 'CHP_362-03-PBMC-DNA'\n",
       "11. 'CHP_353-01-PBMC-DNA'\n",
       "12. 'CHP_373-02-PBMC-DNA'\n",
       "13. 'CHP_360-02-PBMC-DNA'\n",
       "14. 'CHP_359-01-PBMC-DNA'\n",
       "15. 'CHP_362-01-PBMC-DNA'\n",
       "16. 'CHP_357-04-PBMC-DNA'\n",
       "17. 'CHP_353-03-PBMC-DNA'\n",
       "18. 'CHP_378-02-PBMC-DNA'\n",
       "19. 'CHP_344-02-PBMC-DNA'\n",
       "20. 'CHP_375-02-PBMC-DNA'\n",
       "21. 'CHP_368-01-PBMC-DNA'\n",
       "22. 'CHP_323-05-PBMC-DNA'\n",
       "23. 'CHP_370-05-PBMC-DNA'\n",
       "24. 'CHP_353-05-PBMC-DNA'\n",
       "\n",
       "\n"
      ],
      "text/plain": [
       " [1] \"CHP_351-04-PBMC-DNA\" \"CHP_344-03-PBMC-DNA\" \"CHP_361-04-PBMC-DNA\"\n",
       " [4] \"CHP_323-04-PBMC-DNA\" \"CHP_362-04-PBMC-DNA\" \"CHP_345-03-PBMC-DNA\"\n",
       " [7] \"CHP_368-04-PBMC-DNA\" \"CHP_370-01-PBMC-DNA\" \"CHP_347-03-PBMC-DNA\"\n",
       "[10] \"CHP_362-03-PBMC-DNA\" \"CHP_353-01-PBMC-DNA\" \"CHP_373-02-PBMC-DNA\"\n",
       "[13] \"CHP_360-02-PBMC-DNA\" \"CHP_359-01-PBMC-DNA\" \"CHP_362-01-PBMC-DNA\"\n",
       "[16] \"CHP_357-04-PBMC-DNA\" \"CHP_353-03-PBMC-DNA\" \"CHP_378-02-PBMC-DNA\"\n",
       "[19] \"CHP_344-02-PBMC-DNA\" \"CHP_375-02-PBMC-DNA\" \"CHP_368-01-PBMC-DNA\"\n",
       "[22] \"CHP_323-05-PBMC-DNA\" \"CHP_370-05-PBMC-DNA\" \"CHP_353-05-PBMC-DNA\""
      ]
     },
     "metadata": {},
     "output_type": "display_data"
    }
   ],
   "source": [
    "alignstats$samplename"
   ]
  },
  {
   "cell_type": "code",
   "execution_count": 9,
   "metadata": {},
   "outputs": [
    {
     "data": {
      "text/html": [
       "<strong>pdf:</strong> 2"
      ],
      "text/latex": [
       "\\textbf{pdf:} 2"
      ],
      "text/markdown": [
       "**pdf:** 2"
      ],
      "text/plain": [
       "pdf \n",
       "  2 "
      ]
     },
     "metadata": {},
     "output_type": "display_data"
    }
   ],
   "source": [
    "mixcrQC.fx(\"align_stats.csv\", \"assemble_stats.csv\", alignstats$samplename,\n",
    "          \"CHPbatch7_QCplot.pdf\", datapath, plotpath)"
   ]
  },
  {
   "cell_type": "code",
   "execution_count": 10,
   "metadata": {},
   "outputs": [],
   "source": [
    "alignstats_ds <- read.csv(file = paste(datapath_ds,\"align_stats.csv\", sep =\"\"),\n",
    "                      sep = \",\", header = T)"
   ]
  },
  {
   "cell_type": "code",
   "execution_count": 11,
   "metadata": {},
   "outputs": [],
   "source": [
    "alignstats_ds$samplename <- gsub(\"_2000000_.*\",\"\",alignstats_ds$Input.file.s.[order(alignstats_ds$Successfully.aligned.reads)])"
   ]
  },
  {
   "cell_type": "code",
   "execution_count": 12,
   "metadata": {},
   "outputs": [
    {
     "data": {
      "text/html": [
       "<ol class=list-inline>\n",
       "\t<li>'CHP_361-04-PBMC-DNA'</li>\n",
       "\t<li>'CHP_370-01-PBMC-DNA'</li>\n",
       "\t<li>'CHP_357-04-PBMC-DNA'</li>\n",
       "\t<li>'CHP_344-03-PBMC-DNA'</li>\n",
       "\t<li>'CHP_359-01-PBMC-DNA'</li>\n",
       "\t<li>'CHP_362-04-PBMC-DNA'</li>\n",
       "\t<li>'CHP_323-04-PBMC-DNA'</li>\n",
       "\t<li>'CHP_344-02-PBMC-DNA'</li>\n",
       "\t<li>'CHP_373-02-PBMC-DNA'</li>\n",
       "\t<li>'CHP_362-03-PBMC-DNA'</li>\n",
       "\t<li>'CHP_353-01-PBMC-DNA'</li>\n",
       "\t<li>'CHP_362-01-PBMC-DNA'</li>\n",
       "\t<li>'CHP_347-03-PBMC-DNA'</li>\n",
       "\t<li>'CHP_368-04-PBMC-DNA'</li>\n",
       "\t<li>'CHP_323-05-PBMC-DNA'</li>\n",
       "\t<li>'CHP_370-05-PBMC-DNA'</li>\n",
       "\t<li>'CHP_345-03-PBMC-DNA'</li>\n",
       "\t<li>'CHP_353-03-PBMC-DNA'</li>\n",
       "\t<li>'CHP_368-01-PBMC-DNA'</li>\n",
       "\t<li>'CHP_351-04-PBMC-DNA'</li>\n",
       "\t<li>'CHP_353-05-PBMC-DNA'</li>\n",
       "\t<li>'CHP_360-02-PBMC-DNA'</li>\n",
       "\t<li>'CHP_378-02-PBMC-DNA'</li>\n",
       "\t<li>'CHP_375-02-PBMC-DNA'</li>\n",
       "</ol>\n"
      ],
      "text/latex": [
       "\\begin{enumerate*}\n",
       "\\item 'CHP\\_361-04-PBMC-DNA'\n",
       "\\item 'CHP\\_370-01-PBMC-DNA'\n",
       "\\item 'CHP\\_357-04-PBMC-DNA'\n",
       "\\item 'CHP\\_344-03-PBMC-DNA'\n",
       "\\item 'CHP\\_359-01-PBMC-DNA'\n",
       "\\item 'CHP\\_362-04-PBMC-DNA'\n",
       "\\item 'CHP\\_323-04-PBMC-DNA'\n",
       "\\item 'CHP\\_344-02-PBMC-DNA'\n",
       "\\item 'CHP\\_373-02-PBMC-DNA'\n",
       "\\item 'CHP\\_362-03-PBMC-DNA'\n",
       "\\item 'CHP\\_353-01-PBMC-DNA'\n",
       "\\item 'CHP\\_362-01-PBMC-DNA'\n",
       "\\item 'CHP\\_347-03-PBMC-DNA'\n",
       "\\item 'CHP\\_368-04-PBMC-DNA'\n",
       "\\item 'CHP\\_323-05-PBMC-DNA'\n",
       "\\item 'CHP\\_370-05-PBMC-DNA'\n",
       "\\item 'CHP\\_345-03-PBMC-DNA'\n",
       "\\item 'CHP\\_353-03-PBMC-DNA'\n",
       "\\item 'CHP\\_368-01-PBMC-DNA'\n",
       "\\item 'CHP\\_351-04-PBMC-DNA'\n",
       "\\item 'CHP\\_353-05-PBMC-DNA'\n",
       "\\item 'CHP\\_360-02-PBMC-DNA'\n",
       "\\item 'CHP\\_378-02-PBMC-DNA'\n",
       "\\item 'CHP\\_375-02-PBMC-DNA'\n",
       "\\end{enumerate*}\n"
      ],
      "text/markdown": [
       "1. 'CHP_361-04-PBMC-DNA'\n",
       "2. 'CHP_370-01-PBMC-DNA'\n",
       "3. 'CHP_357-04-PBMC-DNA'\n",
       "4. 'CHP_344-03-PBMC-DNA'\n",
       "5. 'CHP_359-01-PBMC-DNA'\n",
       "6. 'CHP_362-04-PBMC-DNA'\n",
       "7. 'CHP_323-04-PBMC-DNA'\n",
       "8. 'CHP_344-02-PBMC-DNA'\n",
       "9. 'CHP_373-02-PBMC-DNA'\n",
       "10. 'CHP_362-03-PBMC-DNA'\n",
       "11. 'CHP_353-01-PBMC-DNA'\n",
       "12. 'CHP_362-01-PBMC-DNA'\n",
       "13. 'CHP_347-03-PBMC-DNA'\n",
       "14. 'CHP_368-04-PBMC-DNA'\n",
       "15. 'CHP_323-05-PBMC-DNA'\n",
       "16. 'CHP_370-05-PBMC-DNA'\n",
       "17. 'CHP_345-03-PBMC-DNA'\n",
       "18. 'CHP_353-03-PBMC-DNA'\n",
       "19. 'CHP_368-01-PBMC-DNA'\n",
       "20. 'CHP_351-04-PBMC-DNA'\n",
       "21. 'CHP_353-05-PBMC-DNA'\n",
       "22. 'CHP_360-02-PBMC-DNA'\n",
       "23. 'CHP_378-02-PBMC-DNA'\n",
       "24. 'CHP_375-02-PBMC-DNA'\n",
       "\n",
       "\n"
      ],
      "text/plain": [
       " [1] \"CHP_361-04-PBMC-DNA\" \"CHP_370-01-PBMC-DNA\" \"CHP_357-04-PBMC-DNA\"\n",
       " [4] \"CHP_344-03-PBMC-DNA\" \"CHP_359-01-PBMC-DNA\" \"CHP_362-04-PBMC-DNA\"\n",
       " [7] \"CHP_323-04-PBMC-DNA\" \"CHP_344-02-PBMC-DNA\" \"CHP_373-02-PBMC-DNA\"\n",
       "[10] \"CHP_362-03-PBMC-DNA\" \"CHP_353-01-PBMC-DNA\" \"CHP_362-01-PBMC-DNA\"\n",
       "[13] \"CHP_347-03-PBMC-DNA\" \"CHP_368-04-PBMC-DNA\" \"CHP_323-05-PBMC-DNA\"\n",
       "[16] \"CHP_370-05-PBMC-DNA\" \"CHP_345-03-PBMC-DNA\" \"CHP_353-03-PBMC-DNA\"\n",
       "[19] \"CHP_368-01-PBMC-DNA\" \"CHP_351-04-PBMC-DNA\" \"CHP_353-05-PBMC-DNA\"\n",
       "[22] \"CHP_360-02-PBMC-DNA\" \"CHP_378-02-PBMC-DNA\" \"CHP_375-02-PBMC-DNA\""
      ]
     },
     "metadata": {},
     "output_type": "display_data"
    }
   ],
   "source": [
    "alignstats_ds$samplename"
   ]
  },
  {
   "cell_type": "code",
   "execution_count": 13,
   "metadata": {},
   "outputs": [
    {
     "data": {
      "text/html": [
       "<strong>pdf:</strong> 2"
      ],
      "text/latex": [
       "\\textbf{pdf:} 2"
      ],
      "text/markdown": [
       "**pdf:** 2"
      ],
      "text/plain": [
       "pdf \n",
       "  2 "
      ]
     },
     "metadata": {},
     "output_type": "display_data"
    }
   ],
   "source": [
    "mixcrQC.fx(\"align_stats.csv\", \"assemble_stats.csv\", alignstats_ds$samplename,\n",
    "          \"CHPdsbatch7_QCplot.pdf\", datapath_ds, plotpath)"
   ]
  },
  {
   "cell_type": "markdown",
   "metadata": {},
   "source": [
    "# QC Batch 6a Nov 8 2019"
   ]
  },
  {
   "cell_type": "code",
   "execution_count": 14,
   "metadata": {},
   "outputs": [],
   "source": [
    "datapath <- \"/Users/anabbi/OneDrive - UHN/Documents/INTERCEPT/Data/batch6a/\"\n",
    "datapath_ds <- \"/Users/anabbi/OneDrive - UHN/Documents/INTERCEPT/Data/batch6a/ds_batch6a/\""
   ]
  },
  {
   "cell_type": "code",
   "execution_count": 15,
   "metadata": {},
   "outputs": [],
   "source": [
    "alignstats <- read.csv(file = paste(datapath,\"align_stats.csv\", sep =\"\"),\n",
    "                      sep = \",\", header = T)"
   ]
  },
  {
   "cell_type": "code",
   "execution_count": 16,
   "metadata": {},
   "outputs": [],
   "source": [
    "alignstats$samplename <- gsub(\"_merged.*\",\"\",alignstats$Input.file.s.[order(alignstats$Successfully.aligned.reads)])"
   ]
  },
  {
   "cell_type": "code",
   "execution_count": 17,
   "metadata": {},
   "outputs": [
    {
     "data": {
      "text/html": [
       "<ol class=list-inline>\n",
       "\t<li>'CHP_357-03-PBMC-DNA'</li>\n",
       "\t<li>'CHP_359-04-PBMC-DNA'</li>\n",
       "\t<li>'CHP_340-04-PBMC-DNA'</li>\n",
       "\t<li>'CHP_367-02-PBMC-DNA'</li>\n",
       "\t<li>'CHP_359-02-PBMC-DNA'</li>\n",
       "\t<li>'CHP_347-04-PBMC-DNA'</li>\n",
       "</ol>\n"
      ],
      "text/latex": [
       "\\begin{enumerate*}\n",
       "\\item 'CHP\\_357-03-PBMC-DNA'\n",
       "\\item 'CHP\\_359-04-PBMC-DNA'\n",
       "\\item 'CHP\\_340-04-PBMC-DNA'\n",
       "\\item 'CHP\\_367-02-PBMC-DNA'\n",
       "\\item 'CHP\\_359-02-PBMC-DNA'\n",
       "\\item 'CHP\\_347-04-PBMC-DNA'\n",
       "\\end{enumerate*}\n"
      ],
      "text/markdown": [
       "1. 'CHP_357-03-PBMC-DNA'\n",
       "2. 'CHP_359-04-PBMC-DNA'\n",
       "3. 'CHP_340-04-PBMC-DNA'\n",
       "4. 'CHP_367-02-PBMC-DNA'\n",
       "5. 'CHP_359-02-PBMC-DNA'\n",
       "6. 'CHP_347-04-PBMC-DNA'\n",
       "\n",
       "\n"
      ],
      "text/plain": [
       "[1] \"CHP_357-03-PBMC-DNA\" \"CHP_359-04-PBMC-DNA\" \"CHP_340-04-PBMC-DNA\"\n",
       "[4] \"CHP_367-02-PBMC-DNA\" \"CHP_359-02-PBMC-DNA\" \"CHP_347-04-PBMC-DNA\""
      ]
     },
     "metadata": {},
     "output_type": "display_data"
    }
   ],
   "source": [
    "alignstats$samplename"
   ]
  },
  {
   "cell_type": "code",
   "execution_count": 21,
   "metadata": {},
   "outputs": [
    {
     "data": {
      "text/html": [
       "<strong>pdf:</strong> 2"
      ],
      "text/latex": [
       "\\textbf{pdf:} 2"
      ],
      "text/markdown": [
       "**pdf:** 2"
      ],
      "text/plain": [
       "pdf \n",
       "  2 "
      ]
     },
     "metadata": {},
     "output_type": "display_data"
    }
   ],
   "source": [
    "mixcrQC.fx(\"align_stats.csv\", \"assemble_stats.csv\", alignstats$samplename,\n",
    "          \"CHPbatch6a_QCplot.pdf\", datapath, plotpath)"
   ]
  },
  {
   "cell_type": "code",
   "execution_count": 22,
   "metadata": {},
   "outputs": [],
   "source": [
    "alignstats_ds <- read.csv(file = paste(datapath_ds,\"align_stats.csv\", sep =\"\"),\n",
    "                      sep = \",\", header = T)"
   ]
  },
  {
   "cell_type": "code",
   "execution_count": 23,
   "metadata": {},
   "outputs": [],
   "source": [
    "alignstats_ds$samplename <- gsub(\"_2000000_.*\",\"\",alignstats_ds$Input.file.s.[order(alignstats_ds$Successfully.aligned.reads)])"
   ]
  },
  {
   "cell_type": "code",
   "execution_count": 24,
   "metadata": {},
   "outputs": [
    {
     "data": {
      "text/html": [
       "<ol class=list-inline>\n",
       "\t<li>'CHP_347-04-PBMC-DNA'</li>\n",
       "\t<li>'CHP_367-02-PBMC-DNA'</li>\n",
       "\t<li>'CHP_357-03-PBMC-DNA'</li>\n",
       "\t<li>'CHP_340-04-PBMC-DNA'</li>\n",
       "\t<li>'CHP_359-04-PBMC-DNA'</li>\n",
       "\t<li>'CHP_359-02-PBMC-DNA'</li>\n",
       "</ol>\n"
      ],
      "text/latex": [
       "\\begin{enumerate*}\n",
       "\\item 'CHP\\_347-04-PBMC-DNA'\n",
       "\\item 'CHP\\_367-02-PBMC-DNA'\n",
       "\\item 'CHP\\_357-03-PBMC-DNA'\n",
       "\\item 'CHP\\_340-04-PBMC-DNA'\n",
       "\\item 'CHP\\_359-04-PBMC-DNA'\n",
       "\\item 'CHP\\_359-02-PBMC-DNA'\n",
       "\\end{enumerate*}\n"
      ],
      "text/markdown": [
       "1. 'CHP_347-04-PBMC-DNA'\n",
       "2. 'CHP_367-02-PBMC-DNA'\n",
       "3. 'CHP_357-03-PBMC-DNA'\n",
       "4. 'CHP_340-04-PBMC-DNA'\n",
       "5. 'CHP_359-04-PBMC-DNA'\n",
       "6. 'CHP_359-02-PBMC-DNA'\n",
       "\n",
       "\n"
      ],
      "text/plain": [
       "[1] \"CHP_347-04-PBMC-DNA\" \"CHP_367-02-PBMC-DNA\" \"CHP_357-03-PBMC-DNA\"\n",
       "[4] \"CHP_340-04-PBMC-DNA\" \"CHP_359-04-PBMC-DNA\" \"CHP_359-02-PBMC-DNA\""
      ]
     },
     "metadata": {},
     "output_type": "display_data"
    }
   ],
   "source": [
    "alignstats_ds$samplename"
   ]
  },
  {
   "cell_type": "code",
   "execution_count": 25,
   "metadata": {},
   "outputs": [
    {
     "data": {
      "text/html": [
       "<strong>pdf:</strong> 2"
      ],
      "text/latex": [
       "\\textbf{pdf:} 2"
      ],
      "text/markdown": [
       "**pdf:** 2"
      ],
      "text/plain": [
       "pdf \n",
       "  2 "
      ]
     },
     "metadata": {},
     "output_type": "display_data"
    }
   ],
   "source": [
    "mixcrQC.fx(\"align_stats.csv\", \"assemble_stats.csv\", alignstats_ds$samplename,\n",
    "          \"CHPdsbatch6a_QCplot.pdf\", datapath_ds, plotpath)"
   ]
  },
  {
   "cell_type": "markdown",
   "metadata": {},
   "source": [
    "# QC Batch 8 Jan 10 2020"
   ]
  },
  {
   "cell_type": "code",
   "execution_count": 7,
   "metadata": {},
   "outputs": [],
   "source": [
    "datapath <- \"/Users/anabbi/OneDrive - UHN/Documents/INTERCEPT/Data/Nextseq/batch8/\"\n",
    "datapath_ds <- \"/Users/anabbi/OneDrive - UHN/Documents/INTERCEPT/Data/Nextseq/batch8/ds_batch8/\""
   ]
  },
  {
   "cell_type": "code",
   "execution_count": 8,
   "metadata": {},
   "outputs": [],
   "source": [
    "alignstats <- read.csv(file = paste(datapath,\"align_stats.csv\", sep =\"\"),\n",
    "                      sep = \",\", header = T)"
   ]
  },
  {
   "cell_type": "code",
   "execution_count": 9,
   "metadata": {},
   "outputs": [],
   "source": [
    "alignstats$samplename <- gsub(\"_merged.*\",\"\",alignstats$Input.file.s.[order(alignstats$Successfully.aligned.reads)])"
   ]
  },
  {
   "cell_type": "code",
   "execution_count": 15,
   "metadata": {},
   "outputs": [
    {
     "data": {
      "text/html": [
       "<ol class=list-inline>\n",
       "\t<li>'CHP_371-01-PBMC-DNA'</li>\n",
       "\t<li>'CHP_394-01-PBMC-DNA'</li>\n",
       "\t<li>'CHP_360-05-PBMC-DNA'</li>\n",
       "\t<li>'CHP_370-03-PBMC-DNA'</li>\n",
       "\t<li>'CHP_397-01-PBMC-DNA'</li>\n",
       "\t<li>'CHP_373-03-PBMC-DNA'</li>\n",
       "\t<li>'CHP_335-03-PBMC-DNA'</li>\n",
       "\t<li>'CHP_396-01-PBMC-DNA'</li>\n",
       "\t<li>'CHP_357-02-PBMC-DNA'</li>\n",
       "\t<li>'CHP_369-02-PBMC-DNA'</li>\n",
       "\t<li>'CHP_380-03-PBMC-DNA'</li>\n",
       "\t<li>'CHP_347-05-PBMC-DNA'</li>\n",
       "\t<li>'CHP_386-02-PBMC-DNA'</li>\n",
       "\t<li>'CHP_380-05-PBMC-DNA'</li>\n",
       "\t<li>'CHP_383-03-PBMC-DNA'</li>\n",
       "\t<li>'CHP_378-04-PBMC-DNA'</li>\n",
       "\t<li>'CHP_356-02-PBMC-DNA'</li>\n",
       "\t<li>'CHP_387-01-PBMC-DNA'</li>\n",
       "\t<li>'CHP_385-03-PBMC-DNA'</li>\n",
       "\t<li>'CHP_394-04-PBMC-DNA'</li>\n",
       "\t<li>'CHP_382-02-PBMC-DNA'</li>\n",
       "\t<li>'CHP_396-02-PBMC-DNA'</li>\n",
       "\t<li>'CHP_399-01-PBMC-DNA'</li>\n",
       "\t<li>'CHP_344-04-PBMC-DNA'</li>\n",
       "</ol>\n"
      ],
      "text/latex": [
       "\\begin{enumerate*}\n",
       "\\item 'CHP\\_371-01-PBMC-DNA'\n",
       "\\item 'CHP\\_394-01-PBMC-DNA'\n",
       "\\item 'CHP\\_360-05-PBMC-DNA'\n",
       "\\item 'CHP\\_370-03-PBMC-DNA'\n",
       "\\item 'CHP\\_397-01-PBMC-DNA'\n",
       "\\item 'CHP\\_373-03-PBMC-DNA'\n",
       "\\item 'CHP\\_335-03-PBMC-DNA'\n",
       "\\item 'CHP\\_396-01-PBMC-DNA'\n",
       "\\item 'CHP\\_357-02-PBMC-DNA'\n",
       "\\item 'CHP\\_369-02-PBMC-DNA'\n",
       "\\item 'CHP\\_380-03-PBMC-DNA'\n",
       "\\item 'CHP\\_347-05-PBMC-DNA'\n",
       "\\item 'CHP\\_386-02-PBMC-DNA'\n",
       "\\item 'CHP\\_380-05-PBMC-DNA'\n",
       "\\item 'CHP\\_383-03-PBMC-DNA'\n",
       "\\item 'CHP\\_378-04-PBMC-DNA'\n",
       "\\item 'CHP\\_356-02-PBMC-DNA'\n",
       "\\item 'CHP\\_387-01-PBMC-DNA'\n",
       "\\item 'CHP\\_385-03-PBMC-DNA'\n",
       "\\item 'CHP\\_394-04-PBMC-DNA'\n",
       "\\item 'CHP\\_382-02-PBMC-DNA'\n",
       "\\item 'CHP\\_396-02-PBMC-DNA'\n",
       "\\item 'CHP\\_399-01-PBMC-DNA'\n",
       "\\item 'CHP\\_344-04-PBMC-DNA'\n",
       "\\end{enumerate*}\n"
      ],
      "text/markdown": [
       "1. 'CHP_371-01-PBMC-DNA'\n",
       "2. 'CHP_394-01-PBMC-DNA'\n",
       "3. 'CHP_360-05-PBMC-DNA'\n",
       "4. 'CHP_370-03-PBMC-DNA'\n",
       "5. 'CHP_397-01-PBMC-DNA'\n",
       "6. 'CHP_373-03-PBMC-DNA'\n",
       "7. 'CHP_335-03-PBMC-DNA'\n",
       "8. 'CHP_396-01-PBMC-DNA'\n",
       "9. 'CHP_357-02-PBMC-DNA'\n",
       "10. 'CHP_369-02-PBMC-DNA'\n",
       "11. 'CHP_380-03-PBMC-DNA'\n",
       "12. 'CHP_347-05-PBMC-DNA'\n",
       "13. 'CHP_386-02-PBMC-DNA'\n",
       "14. 'CHP_380-05-PBMC-DNA'\n",
       "15. 'CHP_383-03-PBMC-DNA'\n",
       "16. 'CHP_378-04-PBMC-DNA'\n",
       "17. 'CHP_356-02-PBMC-DNA'\n",
       "18. 'CHP_387-01-PBMC-DNA'\n",
       "19. 'CHP_385-03-PBMC-DNA'\n",
       "20. 'CHP_394-04-PBMC-DNA'\n",
       "21. 'CHP_382-02-PBMC-DNA'\n",
       "22. 'CHP_396-02-PBMC-DNA'\n",
       "23. 'CHP_399-01-PBMC-DNA'\n",
       "24. 'CHP_344-04-PBMC-DNA'\n",
       "\n",
       "\n"
      ],
      "text/plain": [
       " [1] \"CHP_371-01-PBMC-DNA\" \"CHP_394-01-PBMC-DNA\" \"CHP_360-05-PBMC-DNA\"\n",
       " [4] \"CHP_370-03-PBMC-DNA\" \"CHP_397-01-PBMC-DNA\" \"CHP_373-03-PBMC-DNA\"\n",
       " [7] \"CHP_335-03-PBMC-DNA\" \"CHP_396-01-PBMC-DNA\" \"CHP_357-02-PBMC-DNA\"\n",
       "[10] \"CHP_369-02-PBMC-DNA\" \"CHP_380-03-PBMC-DNA\" \"CHP_347-05-PBMC-DNA\"\n",
       "[13] \"CHP_386-02-PBMC-DNA\" \"CHP_380-05-PBMC-DNA\" \"CHP_383-03-PBMC-DNA\"\n",
       "[16] \"CHP_378-04-PBMC-DNA\" \"CHP_356-02-PBMC-DNA\" \"CHP_387-01-PBMC-DNA\"\n",
       "[19] \"CHP_385-03-PBMC-DNA\" \"CHP_394-04-PBMC-DNA\" \"CHP_382-02-PBMC-DNA\"\n",
       "[22] \"CHP_396-02-PBMC-DNA\" \"CHP_399-01-PBMC-DNA\" \"CHP_344-04-PBMC-DNA\""
      ]
     },
     "metadata": {},
     "output_type": "display_data"
    }
   ],
   "source": [
    "alignstats$samplename"
   ]
  },
  {
   "cell_type": "code",
   "execution_count": 16,
   "metadata": {},
   "outputs": [
    {
     "name": "stderr",
     "output_type": "stream",
     "text": [
      "plot file exists: CHPbatch8_QCplot.pdf\n"
     ]
    }
   ],
   "source": [
    "mixcrQC.fx(\"align_stats.csv\", \"assemble_stats.csv\", alignstats$samplename,\n",
    "          \"CHPbatch8_QCplot.pdf\", datapath, plotpath)"
   ]
  },
  {
   "cell_type": "code",
   "execution_count": 17,
   "metadata": {},
   "outputs": [],
   "source": [
    "alignstats_ds <- read.csv(file = paste(datapath_ds,\"align_stats.csv\", sep =\"\"),\n",
    "                      sep = \",\", header = T)"
   ]
  },
  {
   "cell_type": "code",
   "execution_count": 18,
   "metadata": {},
   "outputs": [],
   "source": [
    "alignstats_ds$samplename <- gsub(\"_2000000_.*\",\"\",alignstats_ds$Input.file.s.[order(alignstats_ds$Successfully.aligned.reads)])"
   ]
  },
  {
   "cell_type": "code",
   "execution_count": 19,
   "metadata": {},
   "outputs": [
    {
     "data": {
      "text/html": [
       "<ol class=list-inline>\n",
       "\t<li>'CHP_394-01-PBMC-DNA'</li>\n",
       "\t<li>'CHP_373-03-PBMC-DNA'</li>\n",
       "\t<li>'CHP_394-04-PBMC-DNA'</li>\n",
       "\t<li>'CHP_380-03-PBMC-DNA'</li>\n",
       "\t<li>'CHP_344-04-PBMC-DNA'</li>\n",
       "\t<li>'CHP_380-05-PBMC-DNA'</li>\n",
       "\t<li>'CHP_385-03-PBMC-DNA'</li>\n",
       "\t<li>'CHP_386-02-PBMC-DNA'</li>\n",
       "\t<li>'CHP_356-02-PBMC-DNA'</li>\n",
       "\t<li>'CHP_347-05-PBMC-DNA'</li>\n",
       "\t<li>'CHP_396-02-PBMC-DNA'</li>\n",
       "\t<li>'CHP_335-03-PBMC-DNA'</li>\n",
       "\t<li>'CHP_360-05-PBMC-DNA'</li>\n",
       "\t<li>'CHP_383-03-PBMC-DNA'</li>\n",
       "\t<li>'CHP_370-03-PBMC-DNA'</li>\n",
       "\t<li>'CHP_378-04-PBMC-DNA'</li>\n",
       "\t<li>'CHP_357-02-PBMC-DNA'</li>\n",
       "\t<li>'CHP_382-02-PBMC-DNA'</li>\n",
       "\t<li>'CHP_397-01-PBMC-DNA'</li>\n",
       "\t<li>'CHP_369-02-PBMC-DNA'</li>\n",
       "\t<li>'CHP_396-01-PBMC-DNA'</li>\n",
       "\t<li>'CHP_399-01-PBMC-DNA'</li>\n",
       "\t<li>'CHP_387-01-PBMC-DNA'</li>\n",
       "</ol>\n"
      ],
      "text/latex": [
       "\\begin{enumerate*}\n",
       "\\item 'CHP\\_394-01-PBMC-DNA'\n",
       "\\item 'CHP\\_373-03-PBMC-DNA'\n",
       "\\item 'CHP\\_394-04-PBMC-DNA'\n",
       "\\item 'CHP\\_380-03-PBMC-DNA'\n",
       "\\item 'CHP\\_344-04-PBMC-DNA'\n",
       "\\item 'CHP\\_380-05-PBMC-DNA'\n",
       "\\item 'CHP\\_385-03-PBMC-DNA'\n",
       "\\item 'CHP\\_386-02-PBMC-DNA'\n",
       "\\item 'CHP\\_356-02-PBMC-DNA'\n",
       "\\item 'CHP\\_347-05-PBMC-DNA'\n",
       "\\item 'CHP\\_396-02-PBMC-DNA'\n",
       "\\item 'CHP\\_335-03-PBMC-DNA'\n",
       "\\item 'CHP\\_360-05-PBMC-DNA'\n",
       "\\item 'CHP\\_383-03-PBMC-DNA'\n",
       "\\item 'CHP\\_370-03-PBMC-DNA'\n",
       "\\item 'CHP\\_378-04-PBMC-DNA'\n",
       "\\item 'CHP\\_357-02-PBMC-DNA'\n",
       "\\item 'CHP\\_382-02-PBMC-DNA'\n",
       "\\item 'CHP\\_397-01-PBMC-DNA'\n",
       "\\item 'CHP\\_369-02-PBMC-DNA'\n",
       "\\item 'CHP\\_396-01-PBMC-DNA'\n",
       "\\item 'CHP\\_399-01-PBMC-DNA'\n",
       "\\item 'CHP\\_387-01-PBMC-DNA'\n",
       "\\end{enumerate*}\n"
      ],
      "text/markdown": [
       "1. 'CHP_394-01-PBMC-DNA'\n",
       "2. 'CHP_373-03-PBMC-DNA'\n",
       "3. 'CHP_394-04-PBMC-DNA'\n",
       "4. 'CHP_380-03-PBMC-DNA'\n",
       "5. 'CHP_344-04-PBMC-DNA'\n",
       "6. 'CHP_380-05-PBMC-DNA'\n",
       "7. 'CHP_385-03-PBMC-DNA'\n",
       "8. 'CHP_386-02-PBMC-DNA'\n",
       "9. 'CHP_356-02-PBMC-DNA'\n",
       "10. 'CHP_347-05-PBMC-DNA'\n",
       "11. 'CHP_396-02-PBMC-DNA'\n",
       "12. 'CHP_335-03-PBMC-DNA'\n",
       "13. 'CHP_360-05-PBMC-DNA'\n",
       "14. 'CHP_383-03-PBMC-DNA'\n",
       "15. 'CHP_370-03-PBMC-DNA'\n",
       "16. 'CHP_378-04-PBMC-DNA'\n",
       "17. 'CHP_357-02-PBMC-DNA'\n",
       "18. 'CHP_382-02-PBMC-DNA'\n",
       "19. 'CHP_397-01-PBMC-DNA'\n",
       "20. 'CHP_369-02-PBMC-DNA'\n",
       "21. 'CHP_396-01-PBMC-DNA'\n",
       "22. 'CHP_399-01-PBMC-DNA'\n",
       "23. 'CHP_387-01-PBMC-DNA'\n",
       "\n",
       "\n"
      ],
      "text/plain": [
       " [1] \"CHP_394-01-PBMC-DNA\" \"CHP_373-03-PBMC-DNA\" \"CHP_394-04-PBMC-DNA\"\n",
       " [4] \"CHP_380-03-PBMC-DNA\" \"CHP_344-04-PBMC-DNA\" \"CHP_380-05-PBMC-DNA\"\n",
       " [7] \"CHP_385-03-PBMC-DNA\" \"CHP_386-02-PBMC-DNA\" \"CHP_356-02-PBMC-DNA\"\n",
       "[10] \"CHP_347-05-PBMC-DNA\" \"CHP_396-02-PBMC-DNA\" \"CHP_335-03-PBMC-DNA\"\n",
       "[13] \"CHP_360-05-PBMC-DNA\" \"CHP_383-03-PBMC-DNA\" \"CHP_370-03-PBMC-DNA\"\n",
       "[16] \"CHP_378-04-PBMC-DNA\" \"CHP_357-02-PBMC-DNA\" \"CHP_382-02-PBMC-DNA\"\n",
       "[19] \"CHP_397-01-PBMC-DNA\" \"CHP_369-02-PBMC-DNA\" \"CHP_396-01-PBMC-DNA\"\n",
       "[22] \"CHP_399-01-PBMC-DNA\" \"CHP_387-01-PBMC-DNA\""
      ]
     },
     "metadata": {},
     "output_type": "display_data"
    }
   ],
   "source": [
    "alignstats_ds$samplename"
   ]
  },
  {
   "cell_type": "code",
   "execution_count": 20,
   "metadata": {},
   "outputs": [
    {
     "data": {
      "text/html": [
       "<strong>pdf:</strong> 2"
      ],
      "text/latex": [
       "\\textbf{pdf:} 2"
      ],
      "text/markdown": [
       "**pdf:** 2"
      ],
      "text/plain": [
       "pdf \n",
       "  2 "
      ]
     },
     "metadata": {},
     "output_type": "display_data"
    }
   ],
   "source": [
    "mixcrQC.fx(\"align_stats.csv\", \"assemble_stats.csv\", alignstats_ds$samplename,\n",
    "          \"CHPdsbatch8_QCplot.pdf\", datapath_ds, plotpath)"
   ]
  },
  {
   "cell_type": "code",
   "execution_count": null,
   "metadata": {},
   "outputs": [],
   "source": []
  }
 ],
 "metadata": {
  "kernelspec": {
   "display_name": "R",
   "language": "R",
   "name": "ir"
  },
  "language_info": {
   "codemirror_mode": "r",
   "file_extension": ".r",
   "mimetype": "text/x-r-source",
   "name": "R",
   "pygments_lexer": "r",
   "version": "3.5.1"
  },
  "toc": {
   "base_numbering": 1,
   "nav_menu": {},
   "number_sections": false,
   "sideBar": true,
   "skip_h1_title": false,
   "title_cell": "Table of Contents",
   "title_sidebar": "Contents",
   "toc_cell": true,
   "toc_position": {
    "height": "calc(100% - 180px)",
    "left": "10px",
    "top": "150px",
    "width": "436.719px"
   },
   "toc_section_display": true,
   "toc_window_display": true
  }
 },
 "nbformat": 4,
 "nbformat_minor": 2
}
