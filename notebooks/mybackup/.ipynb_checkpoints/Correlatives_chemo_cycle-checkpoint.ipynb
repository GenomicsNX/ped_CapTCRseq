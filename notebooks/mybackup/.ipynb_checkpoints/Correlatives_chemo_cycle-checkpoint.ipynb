{
 "cells": [
  {
   "cell_type": "markdown",
   "metadata": {
    "toc": true
   },
   "source": [
    "<h1>Table of Contents<span class=\"tocSkip\"></span></h1>\n",
    "<div class=\"toc\"><ul class=\"toc-item\"><li><span><a href=\"#Analyze-type,-quantity-and-abundance-of-outofframe-clonotypes-across-studies\" data-toc-modified-id=\"Analyze-type,-quantity-and-abundance-of-outofframe-clonotypes-across-studies-1\">Analyze type, quantity and abundance of outofframe clonotypes across studies</a></span></li><li><span><a href=\"#Compile-clonestats-files\" data-toc-modified-id=\"Compile-clonestats-files-2\">Compile clonestats files</a></span></li><li><span><a href=\"#Load-master-df\" data-toc-modified-id=\"Load-master-df-3\">Load master df</a></span></li><li><span><a href=\"#Merge-clonstats-and-master-df\" data-toc-modified-id=\"Merge-clonstats-and-master-df-4\">Merge clonstats and master df</a></span></li><li><span><a href=\"#ATC-changes-over-chemo-cycles\" data-toc-modified-id=\"ATC-changes-over-chemo-cycles-5\">ATC changes over chemo cycles</a></span></li><li><span><a href=\"#NCR-changes-over-chemo-cycles\" data-toc-modified-id=\"NCR-changes-over-chemo-cycles-6\">NCR changes over chemo cycles</a></span></li><li><span><a href=\"#T-cell-subsets-over-chemo-cycles\" data-toc-modified-id=\"T-cell-subsets-over-chemo-cycles-7\">T-cell subsets over chemo cycles</a></span></li><li><span><a href=\"#Total-clonotypes-changes-over-chemo-cycles\" data-toc-modified-id=\"Total-clonotypes-changes-over-chemo-cycles-8\">Total clonotypes changes over chemo cycles</a></span></li></ul></div>"
   ]
  },
  {
   "cell_type": "markdown",
   "metadata": {},
   "source": [
    "# Analyze type, quantity and abundance of outofframe clonotypes across studies"
   ]
  },
  {
   "cell_type": "code",
   "execution_count": 1,
   "metadata": {},
   "outputs": [
    {
     "name": "stderr",
     "output_type": "stream",
     "text": [
      "Warning message:\n",
      "“package ‘ggplot2’ was built under R version 3.5.2”"
     ]
    }
   ],
   "source": [
    "library(ggplot2)"
   ]
  },
  {
   "cell_type": "code",
   "execution_count": 2,
   "metadata": {},
   "outputs": [],
   "source": [
    "source(\"/Users/anabbi/OneDrive - UHN/R_src/ggplot2_theme.R\")"
   ]
  },
  {
   "cell_type": "code",
   "execution_count": 3,
   "metadata": {},
   "outputs": [],
   "source": [
    "plotpath <- \"/Users/anabbi/OneDrive - UHN/Documents/INTERCEPT/Plots/\"\n",
    "datapath <- \"/Users/anabbi/OneDrive - UHN/Documents/INTERCEPT/Data/\""
   ]
  },
  {
   "cell_type": "markdown",
   "metadata": {},
   "source": [
    "# Compile clonestats files"
   ]
  },
  {
   "cell_type": "code",
   "execution_count": 4,
   "metadata": {},
   "outputs": [],
   "source": [
    "mylist <- list.files(datapath,\n",
    "                     recursive = TRUE,\n",
    "                     pattern = \"clonstats\") "
   ]
  },
  {
   "cell_type": "code",
   "execution_count": 5,
   "metadata": {},
   "outputs": [],
   "source": [
    "all.files <- lapply(mylist, function(f){ read.csv(paste0(datapath,f), \n",
    "                                                   header = TRUE)})"
   ]
  },
  {
   "cell_type": "code",
   "execution_count": 6,
   "metadata": {},
   "outputs": [],
   "source": [
    "all.files[7] <- NULL"
   ]
  },
  {
   "cell_type": "code",
   "execution_count": 7,
   "metadata": {},
   "outputs": [],
   "source": [
    "file.df <- as.data.frame(do.call(rbind, all.files))"
   ]
  },
  {
   "cell_type": "code",
   "execution_count": 8,
   "metadata": {
    "scrolled": true
   },
   "outputs": [
    {
     "data": {
      "text/html": [
       "<table>\n",
       "<caption>A data.frame: 97 × 5</caption>\n",
       "<thead>\n",
       "\t<tr><th scope=col>filename</th><th scope=col>total</th><th scope=col>out_of_frame</th><th scope=col>stopcodon</th><th scope=col>productive</th></tr>\n",
       "\t<tr><th scope=col>&lt;fct&gt;</th><th scope=col>&lt;int&gt;</th><th scope=col>&lt;int&gt;</th><th scope=col>&lt;int&gt;</th><th scope=col>&lt;int&gt;</th></tr>\n",
       "</thead>\n",
       "<tbody>\n",
       "\t<tr><td>Nextseq/batch1/ds_batch1/CLONES_TRBCHP_346-01-PBMC-DNA_2000000.txt</td><td> 55</td><td> 17</td><td> 1</td><td> 37</td></tr>\n",
       "\t<tr><td>Nextseq/batch1/ds_batch1/CLONES_TRBCHP_348-03-PBMC-DNA_2000000.txt</td><td>153</td><td> 32</td><td> 4</td><td>117</td></tr>\n",
       "\t<tr><td>Nextseq/batch1/ds_batch1/CLONES_TRBCHP_348-04-PBMC-DNA_2000000.txt</td><td> 56</td><td> 17</td><td> 1</td><td> 38</td></tr>\n",
       "\t<tr><td>Nextseq/batch1/ds_batch1/CLONES_TRBCHP_349-01-PBMC-DNA_2000000.txt</td><td> 26</td><td> 11</td><td> 0</td><td> 15</td></tr>\n",
       "\t<tr><td>Nextseq/batch1/ds_batch1/CLONES_TRBCHP_349-02-PBMC-DNA_2000000.txt</td><td>105</td><td> 27</td><td> 4</td><td> 74</td></tr>\n",
       "\t<tr><td>Nextseq/batch1/ds_batch1/CLONES_TRBCHP_350-03-PBMC-DNA_2000000.txt</td><td>211</td><td> 49</td><td> 5</td><td>157</td></tr>\n",
       "\t<tr><td>Nextseq/batch1/ds_batch1/CLONES_TRBCHP_352-01-PBMC-DNA_2000000.txt</td><td> 34</td><td> 10</td><td> 1</td><td> 23</td></tr>\n",
       "\t<tr><td>Nextseq/batch1/ds_batch1/CLONES_TRBCHP_352-02-PBMC-DNA_2000000.txt</td><td>150</td><td> 27</td><td> 1</td><td>122</td></tr>\n",
       "\t<tr><td>Nextseq/batch1/ds_batch1/CLONES_TRBCHP_356-05-PBMC-DNA_2000000.txt</td><td>  6</td><td>  4</td><td> 0</td><td>  2</td></tr>\n",
       "\t<tr><td>Nextseq/batch1/ds_batch1/CLONES_TRBCHP_358-01-PBMC-DNA_2000000.txt</td><td> 25</td><td>  7</td><td> 1</td><td> 17</td></tr>\n",
       "\t<tr><td>Nextseq/batch1/ds_batch1/CLONES_TRBCHP_363-03-PBMC-DNA_2000000.txt</td><td> 20</td><td> 12</td><td> 0</td><td>  8</td></tr>\n",
       "\t<tr><td>Nextseq/batch1/ds_batch1/CLONES_TRBCHP_365-02-PBMC-DNA_2000000.txt</td><td>109</td><td> 25</td><td> 3</td><td> 81</td></tr>\n",
       "\t<tr><td>Nextseq/batch1/ds_batch1/CLONES_TRBCHP_367-01-PBMC-DNA_2000000.txt</td><td> 54</td><td> 17</td><td> 2</td><td> 35</td></tr>\n",
       "\t<tr><td>Nextseq/batch2/ds_batch2/CLONES_TRBCHP_319-05-PBMC-DNA_2000000.txt</td><td> 25</td><td> 10</td><td> 0</td><td> 15</td></tr>\n",
       "\t<tr><td>Nextseq/batch2/ds_batch2/CLONES_TRBCHP_329-04-PBMC-DNA_2000000.txt</td><td> 21</td><td>  7</td><td> 1</td><td> 13</td></tr>\n",
       "\t<tr><td>Nextseq/batch2/ds_batch2/CLONES_TRBCHP_330-05-PBMC-DNA_2000000.txt</td><td>126</td><td> 20</td><td> 1</td><td>105</td></tr>\n",
       "\t<tr><td>Nextseq/batch2/ds_batch2/CLONES_TRBCHP_331-04-PBMC-DNA_2000000.txt</td><td> 54</td><td> 16</td><td> 3</td><td> 35</td></tr>\n",
       "\t<tr><td>Nextseq/batch2/ds_batch2/CLONES_TRBCHP_331-05-PBMC-DNA_2000000.txt</td><td>191</td><td> 37</td><td> 3</td><td>151</td></tr>\n",
       "\t<tr><td>Nextseq/batch2/ds_batch2/CLONES_TRBCHP_338-04-PBMC-DNA_2000000.txt</td><td>184</td><td> 37</td><td> 2</td><td>145</td></tr>\n",
       "\t<tr><td>Nextseq/batch2/ds_batch2/CLONES_TRBCHP_338-05-PBMC-DNA_2000000.txt</td><td>300</td><td> 64</td><td> 4</td><td>232</td></tr>\n",
       "\t<tr><td>Nextseq/batch2/ds_batch2/CLONES_TRBCHP_342-04-PBMC-DNA_2000000.txt</td><td> 51</td><td> 12</td><td> 0</td><td> 39</td></tr>\n",
       "\t<tr><td>Nextseq/batch2/ds_batch2/CLONES_TRBCHP_343-02-PBMC-DNA_2000000.txt</td><td> 34</td><td> 12</td><td> 0</td><td> 22</td></tr>\n",
       "\t<tr><td>Nextseq/batch2/ds_batch2/CLONES_TRBCHP_343-03-PBMC-DNA_2000000.txt</td><td> 41</td><td> 14</td><td> 0</td><td> 27</td></tr>\n",
       "\t<tr><td>Nextseq/batch2/ds_batch2/CLONES_TRBCHP_343-04-PBMC-DNA_2000000.txt</td><td> 42</td><td>  9</td><td> 0</td><td> 33</td></tr>\n",
       "\t<tr><td>Nextseq/batch2/ds_batch2/CLONES_TRBCHP_348-01-PBMC-DNA_2000000.txt</td><td> 84</td><td> 14</td><td> 0</td><td> 70</td></tr>\n",
       "\t<tr><td>Nextseq/batch2/ds_batch2/CLONES_TRBCHP_348-02-PBMC-DNA_2000000.txt</td><td> 57</td><td> 18</td><td> 1</td><td> 38</td></tr>\n",
       "\t<tr><td>Nextseq/batch3/ds_batch3/CLONES_TRBCHP_339-05-PBMC-DNA_2000000.txt</td><td>380</td><td>113</td><td>14</td><td>253</td></tr>\n",
       "\t<tr><td>Nextseq/batch3/ds_batch3/CLONES_TRBCHP_340-05-PBMC-DNA_2000000.txt</td><td>633</td><td>150</td><td>12</td><td>471</td></tr>\n",
       "\t<tr><td>Nextseq/batch3/ds_batch3/CLONES_TRBCHP_345-04-PBMC-DNA_2000000.txt</td><td>278</td><td> 71</td><td> 5</td><td>202</td></tr>\n",
       "\t<tr><td>Nextseq/batch3/ds_batch3/CLONES_TRBCHP_345-05-PBMC-DNA_2000000.txt</td><td>176</td><td> 48</td><td> 1</td><td>127</td></tr>\n",
       "\t<tr><td>⋮</td><td>⋮</td><td>⋮</td><td>⋮</td><td>⋮</td></tr>\n",
       "\t<tr><td>Nextseq/batch6a/ds_batch6a/CLONES_TRBCHP_340-04-PBMC-DNA_2000000.txt</td><td>205</td><td> 48</td><td>5</td><td>152</td></tr>\n",
       "\t<tr><td>Nextseq/batch6a/ds_batch6a/CLONES_TRBCHP_347-04-PBMC-DNA_2000000.txt</td><td> 83</td><td> 20</td><td>1</td><td> 62</td></tr>\n",
       "\t<tr><td>Nextseq/batch6a/ds_batch6a/CLONES_TRBCHP_357-03-PBMC-DNA_2000000.txt</td><td>131</td><td> 41</td><td>5</td><td> 85</td></tr>\n",
       "\t<tr><td>Nextseq/batch6a/ds_batch6a/CLONES_TRBCHP_359-02-PBMC-DNA_2000000.txt</td><td>499</td><td> 98</td><td>6</td><td>395</td></tr>\n",
       "\t<tr><td>Nextseq/batch6a/ds_batch6a/CLONES_TRBCHP_359-04-PBMC-DNA_2000000.txt</td><td>354</td><td> 54</td><td>6</td><td>294</td></tr>\n",
       "\t<tr><td>Nextseq/batch6a/ds_batch6a/CLONES_TRBCHP_367-02-PBMC-DNA_2000000.txt</td><td> 99</td><td> 27</td><td>1</td><td> 71</td></tr>\n",
       "\t<tr><td>Nextseq/batch7/ds_batch7/CLONES_TRBCHP_323-04-PBMC-DNA_2000000.txt  </td><td> 39</td><td> 14</td><td>0</td><td> 25</td></tr>\n",
       "\t<tr><td>Nextseq/batch7/ds_batch7/CLONES_TRBCHP_323-05-PBMC-DNA_2000000.txt  </td><td>169</td><td> 36</td><td>2</td><td>131</td></tr>\n",
       "\t<tr><td>Nextseq/batch7/ds_batch7/CLONES_TRBCHP_344-02-PBMC-DNA_2000000.txt  </td><td> 13</td><td>  4</td><td>0</td><td>  9</td></tr>\n",
       "\t<tr><td>Nextseq/batch7/ds_batch7/CLONES_TRBCHP_344-03-PBMC-DNA_2000000.txt  </td><td> 22</td><td> 10</td><td>1</td><td> 11</td></tr>\n",
       "\t<tr><td>Nextseq/batch7/ds_batch7/CLONES_TRBCHP_345-03-PBMC-DNA_2000000.txt  </td><td>156</td><td> 41</td><td>2</td><td>113</td></tr>\n",
       "\t<tr><td>Nextseq/batch7/ds_batch7/CLONES_TRBCHP_347-03-PBMC-DNA_2000000.txt  </td><td>116</td><td> 16</td><td>1</td><td> 99</td></tr>\n",
       "\t<tr><td>Nextseq/batch7/ds_batch7/CLONES_TRBCHP_351-04-PBMC-DNA_2000000.txt  </td><td>123</td><td> 36</td><td>2</td><td> 85</td></tr>\n",
       "\t<tr><td>Nextseq/batch7/ds_batch7/CLONES_TRBCHP_353-01-PBMC-DNA_2000000.txt  </td><td>280</td><td> 56</td><td>2</td><td>222</td></tr>\n",
       "\t<tr><td>Nextseq/batch7/ds_batch7/CLONES_TRBCHP_353-03-PBMC-DNA_2000000.txt  </td><td>220</td><td> 40</td><td>3</td><td>177</td></tr>\n",
       "\t<tr><td>Nextseq/batch7/ds_batch7/CLONES_TRBCHP_353-05-PBMC-DNA_2000000.txt  </td><td>408</td><td> 69</td><td>6</td><td>333</td></tr>\n",
       "\t<tr><td>Nextseq/batch7/ds_batch7/CLONES_TRBCHP_357-04-PBMC-DNA_2000000.txt  </td><td> 74</td><td> 21</td><td>3</td><td> 50</td></tr>\n",
       "\t<tr><td>Nextseq/batch7/ds_batch7/CLONES_TRBCHP_359-01-PBMC-DNA_2000000.txt  </td><td> 44</td><td> 13</td><td>1</td><td> 30</td></tr>\n",
       "\t<tr><td>Nextseq/batch7/ds_batch7/CLONES_TRBCHP_360-02-PBMC-DNA_2000000.txt  </td><td>316</td><td> 53</td><td>7</td><td>256</td></tr>\n",
       "\t<tr><td>Nextseq/batch7/ds_batch7/CLONES_TRBCHP_361-04-PBMC-DNA_2000000.txt  </td><td> 66</td><td> 25</td><td>1</td><td> 40</td></tr>\n",
       "\t<tr><td>Nextseq/batch7/ds_batch7/CLONES_TRBCHP_362-01-PBMC-DNA_2000000.txt  </td><td>187</td><td> 42</td><td>5</td><td>140</td></tr>\n",
       "\t<tr><td>Nextseq/batch7/ds_batch7/CLONES_TRBCHP_362-03-PBMC-DNA_2000000.txt  </td><td>133</td><td> 31</td><td>1</td><td>101</td></tr>\n",
       "\t<tr><td>Nextseq/batch7/ds_batch7/CLONES_TRBCHP_362-04-PBMC-DNA_2000000.txt  </td><td> 37</td><td> 18</td><td>0</td><td> 19</td></tr>\n",
       "\t<tr><td>Nextseq/batch7/ds_batch7/CLONES_TRBCHP_368-01-PBMC-DNA_2000000.txt  </td><td>302</td><td> 69</td><td>7</td><td>226</td></tr>\n",
       "\t<tr><td>Nextseq/batch7/ds_batch7/CLONES_TRBCHP_368-04-PBMC-DNA_2000000.txt  </td><td>111</td><td> 34</td><td>1</td><td> 76</td></tr>\n",
       "\t<tr><td>Nextseq/batch7/ds_batch7/CLONES_TRBCHP_370-01-PBMC-DNA_2000000.txt  </td><td> 23</td><td>  5</td><td>2</td><td> 16</td></tr>\n",
       "\t<tr><td>Nextseq/batch7/ds_batch7/CLONES_TRBCHP_370-05-PBMC-DNA_2000000.txt  </td><td>247</td><td> 45</td><td>6</td><td>196</td></tr>\n",
       "\t<tr><td>Nextseq/batch7/ds_batch7/CLONES_TRBCHP_373-02-PBMC-DNA_2000000.txt  </td><td>140</td><td> 40</td><td>5</td><td> 95</td></tr>\n",
       "\t<tr><td>Nextseq/batch7/ds_batch7/CLONES_TRBCHP_375-02-PBMC-DNA_2000000.txt  </td><td>651</td><td>137</td><td>9</td><td>505</td></tr>\n",
       "\t<tr><td>Nextseq/batch7/ds_batch7/CLONES_TRBCHP_378-02-PBMC-DNA_2000000.txt  </td><td>263</td><td> 69</td><td>2</td><td>192</td></tr>\n",
       "</tbody>\n",
       "</table>\n"
      ],
      "text/latex": [
       "A data.frame: 97 × 5\n",
       "\\begin{tabular}{r|lllll}\n",
       " filename & total & out\\_of\\_frame & stopcodon & productive\\\\\n",
       " <fct> & <int> & <int> & <int> & <int>\\\\\n",
       "\\hline\n",
       "\t Nextseq/batch1/ds\\_batch1/CLONES\\_TRBCHP\\_346-01-PBMC-DNA\\_2000000.txt &  55 &  17 &  1 &  37\\\\\n",
       "\t Nextseq/batch1/ds\\_batch1/CLONES\\_TRBCHP\\_348-03-PBMC-DNA\\_2000000.txt & 153 &  32 &  4 & 117\\\\\n",
       "\t Nextseq/batch1/ds\\_batch1/CLONES\\_TRBCHP\\_348-04-PBMC-DNA\\_2000000.txt &  56 &  17 &  1 &  38\\\\\n",
       "\t Nextseq/batch1/ds\\_batch1/CLONES\\_TRBCHP\\_349-01-PBMC-DNA\\_2000000.txt &  26 &  11 &  0 &  15\\\\\n",
       "\t Nextseq/batch1/ds\\_batch1/CLONES\\_TRBCHP\\_349-02-PBMC-DNA\\_2000000.txt & 105 &  27 &  4 &  74\\\\\n",
       "\t Nextseq/batch1/ds\\_batch1/CLONES\\_TRBCHP\\_350-03-PBMC-DNA\\_2000000.txt & 211 &  49 &  5 & 157\\\\\n",
       "\t Nextseq/batch1/ds\\_batch1/CLONES\\_TRBCHP\\_352-01-PBMC-DNA\\_2000000.txt &  34 &  10 &  1 &  23\\\\\n",
       "\t Nextseq/batch1/ds\\_batch1/CLONES\\_TRBCHP\\_352-02-PBMC-DNA\\_2000000.txt & 150 &  27 &  1 & 122\\\\\n",
       "\t Nextseq/batch1/ds\\_batch1/CLONES\\_TRBCHP\\_356-05-PBMC-DNA\\_2000000.txt &   6 &   4 &  0 &   2\\\\\n",
       "\t Nextseq/batch1/ds\\_batch1/CLONES\\_TRBCHP\\_358-01-PBMC-DNA\\_2000000.txt &  25 &   7 &  1 &  17\\\\\n",
       "\t Nextseq/batch1/ds\\_batch1/CLONES\\_TRBCHP\\_363-03-PBMC-DNA\\_2000000.txt &  20 &  12 &  0 &   8\\\\\n",
       "\t Nextseq/batch1/ds\\_batch1/CLONES\\_TRBCHP\\_365-02-PBMC-DNA\\_2000000.txt & 109 &  25 &  3 &  81\\\\\n",
       "\t Nextseq/batch1/ds\\_batch1/CLONES\\_TRBCHP\\_367-01-PBMC-DNA\\_2000000.txt &  54 &  17 &  2 &  35\\\\\n",
       "\t Nextseq/batch2/ds\\_batch2/CLONES\\_TRBCHP\\_319-05-PBMC-DNA\\_2000000.txt &  25 &  10 &  0 &  15\\\\\n",
       "\t Nextseq/batch2/ds\\_batch2/CLONES\\_TRBCHP\\_329-04-PBMC-DNA\\_2000000.txt &  21 &   7 &  1 &  13\\\\\n",
       "\t Nextseq/batch2/ds\\_batch2/CLONES\\_TRBCHP\\_330-05-PBMC-DNA\\_2000000.txt & 126 &  20 &  1 & 105\\\\\n",
       "\t Nextseq/batch2/ds\\_batch2/CLONES\\_TRBCHP\\_331-04-PBMC-DNA\\_2000000.txt &  54 &  16 &  3 &  35\\\\\n",
       "\t Nextseq/batch2/ds\\_batch2/CLONES\\_TRBCHP\\_331-05-PBMC-DNA\\_2000000.txt & 191 &  37 &  3 & 151\\\\\n",
       "\t Nextseq/batch2/ds\\_batch2/CLONES\\_TRBCHP\\_338-04-PBMC-DNA\\_2000000.txt & 184 &  37 &  2 & 145\\\\\n",
       "\t Nextseq/batch2/ds\\_batch2/CLONES\\_TRBCHP\\_338-05-PBMC-DNA\\_2000000.txt & 300 &  64 &  4 & 232\\\\\n",
       "\t Nextseq/batch2/ds\\_batch2/CLONES\\_TRBCHP\\_342-04-PBMC-DNA\\_2000000.txt &  51 &  12 &  0 &  39\\\\\n",
       "\t Nextseq/batch2/ds\\_batch2/CLONES\\_TRBCHP\\_343-02-PBMC-DNA\\_2000000.txt &  34 &  12 &  0 &  22\\\\\n",
       "\t Nextseq/batch2/ds\\_batch2/CLONES\\_TRBCHP\\_343-03-PBMC-DNA\\_2000000.txt &  41 &  14 &  0 &  27\\\\\n",
       "\t Nextseq/batch2/ds\\_batch2/CLONES\\_TRBCHP\\_343-04-PBMC-DNA\\_2000000.txt &  42 &   9 &  0 &  33\\\\\n",
       "\t Nextseq/batch2/ds\\_batch2/CLONES\\_TRBCHP\\_348-01-PBMC-DNA\\_2000000.txt &  84 &  14 &  0 &  70\\\\\n",
       "\t Nextseq/batch2/ds\\_batch2/CLONES\\_TRBCHP\\_348-02-PBMC-DNA\\_2000000.txt &  57 &  18 &  1 &  38\\\\\n",
       "\t Nextseq/batch3/ds\\_batch3/CLONES\\_TRBCHP\\_339-05-PBMC-DNA\\_2000000.txt & 380 & 113 & 14 & 253\\\\\n",
       "\t Nextseq/batch3/ds\\_batch3/CLONES\\_TRBCHP\\_340-05-PBMC-DNA\\_2000000.txt & 633 & 150 & 12 & 471\\\\\n",
       "\t Nextseq/batch3/ds\\_batch3/CLONES\\_TRBCHP\\_345-04-PBMC-DNA\\_2000000.txt & 278 &  71 &  5 & 202\\\\\n",
       "\t Nextseq/batch3/ds\\_batch3/CLONES\\_TRBCHP\\_345-05-PBMC-DNA\\_2000000.txt & 176 &  48 &  1 & 127\\\\\n",
       "\t ⋮ & ⋮ & ⋮ & ⋮ & ⋮\\\\\n",
       "\t Nextseq/batch6a/ds\\_batch6a/CLONES\\_TRBCHP\\_340-04-PBMC-DNA\\_2000000.txt & 205 &  48 & 5 & 152\\\\\n",
       "\t Nextseq/batch6a/ds\\_batch6a/CLONES\\_TRBCHP\\_347-04-PBMC-DNA\\_2000000.txt &  83 &  20 & 1 &  62\\\\\n",
       "\t Nextseq/batch6a/ds\\_batch6a/CLONES\\_TRBCHP\\_357-03-PBMC-DNA\\_2000000.txt & 131 &  41 & 5 &  85\\\\\n",
       "\t Nextseq/batch6a/ds\\_batch6a/CLONES\\_TRBCHP\\_359-02-PBMC-DNA\\_2000000.txt & 499 &  98 & 6 & 395\\\\\n",
       "\t Nextseq/batch6a/ds\\_batch6a/CLONES\\_TRBCHP\\_359-04-PBMC-DNA\\_2000000.txt & 354 &  54 & 6 & 294\\\\\n",
       "\t Nextseq/batch6a/ds\\_batch6a/CLONES\\_TRBCHP\\_367-02-PBMC-DNA\\_2000000.txt &  99 &  27 & 1 &  71\\\\\n",
       "\t Nextseq/batch7/ds\\_batch7/CLONES\\_TRBCHP\\_323-04-PBMC-DNA\\_2000000.txt   &  39 &  14 & 0 &  25\\\\\n",
       "\t Nextseq/batch7/ds\\_batch7/CLONES\\_TRBCHP\\_323-05-PBMC-DNA\\_2000000.txt   & 169 &  36 & 2 & 131\\\\\n",
       "\t Nextseq/batch7/ds\\_batch7/CLONES\\_TRBCHP\\_344-02-PBMC-DNA\\_2000000.txt   &  13 &   4 & 0 &   9\\\\\n",
       "\t Nextseq/batch7/ds\\_batch7/CLONES\\_TRBCHP\\_344-03-PBMC-DNA\\_2000000.txt   &  22 &  10 & 1 &  11\\\\\n",
       "\t Nextseq/batch7/ds\\_batch7/CLONES\\_TRBCHP\\_345-03-PBMC-DNA\\_2000000.txt   & 156 &  41 & 2 & 113\\\\\n",
       "\t Nextseq/batch7/ds\\_batch7/CLONES\\_TRBCHP\\_347-03-PBMC-DNA\\_2000000.txt   & 116 &  16 & 1 &  99\\\\\n",
       "\t Nextseq/batch7/ds\\_batch7/CLONES\\_TRBCHP\\_351-04-PBMC-DNA\\_2000000.txt   & 123 &  36 & 2 &  85\\\\\n",
       "\t Nextseq/batch7/ds\\_batch7/CLONES\\_TRBCHP\\_353-01-PBMC-DNA\\_2000000.txt   & 280 &  56 & 2 & 222\\\\\n",
       "\t Nextseq/batch7/ds\\_batch7/CLONES\\_TRBCHP\\_353-03-PBMC-DNA\\_2000000.txt   & 220 &  40 & 3 & 177\\\\\n",
       "\t Nextseq/batch7/ds\\_batch7/CLONES\\_TRBCHP\\_353-05-PBMC-DNA\\_2000000.txt   & 408 &  69 & 6 & 333\\\\\n",
       "\t Nextseq/batch7/ds\\_batch7/CLONES\\_TRBCHP\\_357-04-PBMC-DNA\\_2000000.txt   &  74 &  21 & 3 &  50\\\\\n",
       "\t Nextseq/batch7/ds\\_batch7/CLONES\\_TRBCHP\\_359-01-PBMC-DNA\\_2000000.txt   &  44 &  13 & 1 &  30\\\\\n",
       "\t Nextseq/batch7/ds\\_batch7/CLONES\\_TRBCHP\\_360-02-PBMC-DNA\\_2000000.txt   & 316 &  53 & 7 & 256\\\\\n",
       "\t Nextseq/batch7/ds\\_batch7/CLONES\\_TRBCHP\\_361-04-PBMC-DNA\\_2000000.txt   &  66 &  25 & 1 &  40\\\\\n",
       "\t Nextseq/batch7/ds\\_batch7/CLONES\\_TRBCHP\\_362-01-PBMC-DNA\\_2000000.txt   & 187 &  42 & 5 & 140\\\\\n",
       "\t Nextseq/batch7/ds\\_batch7/CLONES\\_TRBCHP\\_362-03-PBMC-DNA\\_2000000.txt   & 133 &  31 & 1 & 101\\\\\n",
       "\t Nextseq/batch7/ds\\_batch7/CLONES\\_TRBCHP\\_362-04-PBMC-DNA\\_2000000.txt   &  37 &  18 & 0 &  19\\\\\n",
       "\t Nextseq/batch7/ds\\_batch7/CLONES\\_TRBCHP\\_368-01-PBMC-DNA\\_2000000.txt   & 302 &  69 & 7 & 226\\\\\n",
       "\t Nextseq/batch7/ds\\_batch7/CLONES\\_TRBCHP\\_368-04-PBMC-DNA\\_2000000.txt   & 111 &  34 & 1 &  76\\\\\n",
       "\t Nextseq/batch7/ds\\_batch7/CLONES\\_TRBCHP\\_370-01-PBMC-DNA\\_2000000.txt   &  23 &   5 & 2 &  16\\\\\n",
       "\t Nextseq/batch7/ds\\_batch7/CLONES\\_TRBCHP\\_370-05-PBMC-DNA\\_2000000.txt   & 247 &  45 & 6 & 196\\\\\n",
       "\t Nextseq/batch7/ds\\_batch7/CLONES\\_TRBCHP\\_373-02-PBMC-DNA\\_2000000.txt   & 140 &  40 & 5 &  95\\\\\n",
       "\t Nextseq/batch7/ds\\_batch7/CLONES\\_TRBCHP\\_375-02-PBMC-DNA\\_2000000.txt   & 651 & 137 & 9 & 505\\\\\n",
       "\t Nextseq/batch7/ds\\_batch7/CLONES\\_TRBCHP\\_378-02-PBMC-DNA\\_2000000.txt   & 263 &  69 & 2 & 192\\\\\n",
       "\\end{tabular}\n"
      ],
      "text/markdown": [
       "\n",
       "A data.frame: 97 × 5\n",
       "\n",
       "| filename &lt;fct&gt; | total &lt;int&gt; | out_of_frame &lt;int&gt; | stopcodon &lt;int&gt; | productive &lt;int&gt; |\n",
       "|---|---|---|---|---|\n",
       "| Nextseq/batch1/ds_batch1/CLONES_TRBCHP_346-01-PBMC-DNA_2000000.txt |  55 |  17 |  1 |  37 |\n",
       "| Nextseq/batch1/ds_batch1/CLONES_TRBCHP_348-03-PBMC-DNA_2000000.txt | 153 |  32 |  4 | 117 |\n",
       "| Nextseq/batch1/ds_batch1/CLONES_TRBCHP_348-04-PBMC-DNA_2000000.txt |  56 |  17 |  1 |  38 |\n",
       "| Nextseq/batch1/ds_batch1/CLONES_TRBCHP_349-01-PBMC-DNA_2000000.txt |  26 |  11 |  0 |  15 |\n",
       "| Nextseq/batch1/ds_batch1/CLONES_TRBCHP_349-02-PBMC-DNA_2000000.txt | 105 |  27 |  4 |  74 |\n",
       "| Nextseq/batch1/ds_batch1/CLONES_TRBCHP_350-03-PBMC-DNA_2000000.txt | 211 |  49 |  5 | 157 |\n",
       "| Nextseq/batch1/ds_batch1/CLONES_TRBCHP_352-01-PBMC-DNA_2000000.txt |  34 |  10 |  1 |  23 |\n",
       "| Nextseq/batch1/ds_batch1/CLONES_TRBCHP_352-02-PBMC-DNA_2000000.txt | 150 |  27 |  1 | 122 |\n",
       "| Nextseq/batch1/ds_batch1/CLONES_TRBCHP_356-05-PBMC-DNA_2000000.txt |   6 |   4 |  0 |   2 |\n",
       "| Nextseq/batch1/ds_batch1/CLONES_TRBCHP_358-01-PBMC-DNA_2000000.txt |  25 |   7 |  1 |  17 |\n",
       "| Nextseq/batch1/ds_batch1/CLONES_TRBCHP_363-03-PBMC-DNA_2000000.txt |  20 |  12 |  0 |   8 |\n",
       "| Nextseq/batch1/ds_batch1/CLONES_TRBCHP_365-02-PBMC-DNA_2000000.txt | 109 |  25 |  3 |  81 |\n",
       "| Nextseq/batch1/ds_batch1/CLONES_TRBCHP_367-01-PBMC-DNA_2000000.txt |  54 |  17 |  2 |  35 |\n",
       "| Nextseq/batch2/ds_batch2/CLONES_TRBCHP_319-05-PBMC-DNA_2000000.txt |  25 |  10 |  0 |  15 |\n",
       "| Nextseq/batch2/ds_batch2/CLONES_TRBCHP_329-04-PBMC-DNA_2000000.txt |  21 |   7 |  1 |  13 |\n",
       "| Nextseq/batch2/ds_batch2/CLONES_TRBCHP_330-05-PBMC-DNA_2000000.txt | 126 |  20 |  1 | 105 |\n",
       "| Nextseq/batch2/ds_batch2/CLONES_TRBCHP_331-04-PBMC-DNA_2000000.txt |  54 |  16 |  3 |  35 |\n",
       "| Nextseq/batch2/ds_batch2/CLONES_TRBCHP_331-05-PBMC-DNA_2000000.txt | 191 |  37 |  3 | 151 |\n",
       "| Nextseq/batch2/ds_batch2/CLONES_TRBCHP_338-04-PBMC-DNA_2000000.txt | 184 |  37 |  2 | 145 |\n",
       "| Nextseq/batch2/ds_batch2/CLONES_TRBCHP_338-05-PBMC-DNA_2000000.txt | 300 |  64 |  4 | 232 |\n",
       "| Nextseq/batch2/ds_batch2/CLONES_TRBCHP_342-04-PBMC-DNA_2000000.txt |  51 |  12 |  0 |  39 |\n",
       "| Nextseq/batch2/ds_batch2/CLONES_TRBCHP_343-02-PBMC-DNA_2000000.txt |  34 |  12 |  0 |  22 |\n",
       "| Nextseq/batch2/ds_batch2/CLONES_TRBCHP_343-03-PBMC-DNA_2000000.txt |  41 |  14 |  0 |  27 |\n",
       "| Nextseq/batch2/ds_batch2/CLONES_TRBCHP_343-04-PBMC-DNA_2000000.txt |  42 |   9 |  0 |  33 |\n",
       "| Nextseq/batch2/ds_batch2/CLONES_TRBCHP_348-01-PBMC-DNA_2000000.txt |  84 |  14 |  0 |  70 |\n",
       "| Nextseq/batch2/ds_batch2/CLONES_TRBCHP_348-02-PBMC-DNA_2000000.txt |  57 |  18 |  1 |  38 |\n",
       "| Nextseq/batch3/ds_batch3/CLONES_TRBCHP_339-05-PBMC-DNA_2000000.txt | 380 | 113 | 14 | 253 |\n",
       "| Nextseq/batch3/ds_batch3/CLONES_TRBCHP_340-05-PBMC-DNA_2000000.txt | 633 | 150 | 12 | 471 |\n",
       "| Nextseq/batch3/ds_batch3/CLONES_TRBCHP_345-04-PBMC-DNA_2000000.txt | 278 |  71 |  5 | 202 |\n",
       "| Nextseq/batch3/ds_batch3/CLONES_TRBCHP_345-05-PBMC-DNA_2000000.txt | 176 |  48 |  1 | 127 |\n",
       "| ⋮ | ⋮ | ⋮ | ⋮ | ⋮ |\n",
       "| Nextseq/batch6a/ds_batch6a/CLONES_TRBCHP_340-04-PBMC-DNA_2000000.txt | 205 |  48 | 5 | 152 |\n",
       "| Nextseq/batch6a/ds_batch6a/CLONES_TRBCHP_347-04-PBMC-DNA_2000000.txt |  83 |  20 | 1 |  62 |\n",
       "| Nextseq/batch6a/ds_batch6a/CLONES_TRBCHP_357-03-PBMC-DNA_2000000.txt | 131 |  41 | 5 |  85 |\n",
       "| Nextseq/batch6a/ds_batch6a/CLONES_TRBCHP_359-02-PBMC-DNA_2000000.txt | 499 |  98 | 6 | 395 |\n",
       "| Nextseq/batch6a/ds_batch6a/CLONES_TRBCHP_359-04-PBMC-DNA_2000000.txt | 354 |  54 | 6 | 294 |\n",
       "| Nextseq/batch6a/ds_batch6a/CLONES_TRBCHP_367-02-PBMC-DNA_2000000.txt |  99 |  27 | 1 |  71 |\n",
       "| Nextseq/batch7/ds_batch7/CLONES_TRBCHP_323-04-PBMC-DNA_2000000.txt   |  39 |  14 | 0 |  25 |\n",
       "| Nextseq/batch7/ds_batch7/CLONES_TRBCHP_323-05-PBMC-DNA_2000000.txt   | 169 |  36 | 2 | 131 |\n",
       "| Nextseq/batch7/ds_batch7/CLONES_TRBCHP_344-02-PBMC-DNA_2000000.txt   |  13 |   4 | 0 |   9 |\n",
       "| Nextseq/batch7/ds_batch7/CLONES_TRBCHP_344-03-PBMC-DNA_2000000.txt   |  22 |  10 | 1 |  11 |\n",
       "| Nextseq/batch7/ds_batch7/CLONES_TRBCHP_345-03-PBMC-DNA_2000000.txt   | 156 |  41 | 2 | 113 |\n",
       "| Nextseq/batch7/ds_batch7/CLONES_TRBCHP_347-03-PBMC-DNA_2000000.txt   | 116 |  16 | 1 |  99 |\n",
       "| Nextseq/batch7/ds_batch7/CLONES_TRBCHP_351-04-PBMC-DNA_2000000.txt   | 123 |  36 | 2 |  85 |\n",
       "| Nextseq/batch7/ds_batch7/CLONES_TRBCHP_353-01-PBMC-DNA_2000000.txt   | 280 |  56 | 2 | 222 |\n",
       "| Nextseq/batch7/ds_batch7/CLONES_TRBCHP_353-03-PBMC-DNA_2000000.txt   | 220 |  40 | 3 | 177 |\n",
       "| Nextseq/batch7/ds_batch7/CLONES_TRBCHP_353-05-PBMC-DNA_2000000.txt   | 408 |  69 | 6 | 333 |\n",
       "| Nextseq/batch7/ds_batch7/CLONES_TRBCHP_357-04-PBMC-DNA_2000000.txt   |  74 |  21 | 3 |  50 |\n",
       "| Nextseq/batch7/ds_batch7/CLONES_TRBCHP_359-01-PBMC-DNA_2000000.txt   |  44 |  13 | 1 |  30 |\n",
       "| Nextseq/batch7/ds_batch7/CLONES_TRBCHP_360-02-PBMC-DNA_2000000.txt   | 316 |  53 | 7 | 256 |\n",
       "| Nextseq/batch7/ds_batch7/CLONES_TRBCHP_361-04-PBMC-DNA_2000000.txt   |  66 |  25 | 1 |  40 |\n",
       "| Nextseq/batch7/ds_batch7/CLONES_TRBCHP_362-01-PBMC-DNA_2000000.txt   | 187 |  42 | 5 | 140 |\n",
       "| Nextseq/batch7/ds_batch7/CLONES_TRBCHP_362-03-PBMC-DNA_2000000.txt   | 133 |  31 | 1 | 101 |\n",
       "| Nextseq/batch7/ds_batch7/CLONES_TRBCHP_362-04-PBMC-DNA_2000000.txt   |  37 |  18 | 0 |  19 |\n",
       "| Nextseq/batch7/ds_batch7/CLONES_TRBCHP_368-01-PBMC-DNA_2000000.txt   | 302 |  69 | 7 | 226 |\n",
       "| Nextseq/batch7/ds_batch7/CLONES_TRBCHP_368-04-PBMC-DNA_2000000.txt   | 111 |  34 | 1 |  76 |\n",
       "| Nextseq/batch7/ds_batch7/CLONES_TRBCHP_370-01-PBMC-DNA_2000000.txt   |  23 |   5 | 2 |  16 |\n",
       "| Nextseq/batch7/ds_batch7/CLONES_TRBCHP_370-05-PBMC-DNA_2000000.txt   | 247 |  45 | 6 | 196 |\n",
       "| Nextseq/batch7/ds_batch7/CLONES_TRBCHP_373-02-PBMC-DNA_2000000.txt   | 140 |  40 | 5 |  95 |\n",
       "| Nextseq/batch7/ds_batch7/CLONES_TRBCHP_375-02-PBMC-DNA_2000000.txt   | 651 | 137 | 9 | 505 |\n",
       "| Nextseq/batch7/ds_batch7/CLONES_TRBCHP_378-02-PBMC-DNA_2000000.txt   | 263 |  69 | 2 | 192 |\n",
       "\n"
      ],
      "text/plain": [
       "   filename                                                             total\n",
       "1  Nextseq/batch1/ds_batch1/CLONES_TRBCHP_346-01-PBMC-DNA_2000000.txt    55  \n",
       "2  Nextseq/batch1/ds_batch1/CLONES_TRBCHP_348-03-PBMC-DNA_2000000.txt   153  \n",
       "3  Nextseq/batch1/ds_batch1/CLONES_TRBCHP_348-04-PBMC-DNA_2000000.txt    56  \n",
       "4  Nextseq/batch1/ds_batch1/CLONES_TRBCHP_349-01-PBMC-DNA_2000000.txt    26  \n",
       "5  Nextseq/batch1/ds_batch1/CLONES_TRBCHP_349-02-PBMC-DNA_2000000.txt   105  \n",
       "6  Nextseq/batch1/ds_batch1/CLONES_TRBCHP_350-03-PBMC-DNA_2000000.txt   211  \n",
       "7  Nextseq/batch1/ds_batch1/CLONES_TRBCHP_352-01-PBMC-DNA_2000000.txt    34  \n",
       "8  Nextseq/batch1/ds_batch1/CLONES_TRBCHP_352-02-PBMC-DNA_2000000.txt   150  \n",
       "9  Nextseq/batch1/ds_batch1/CLONES_TRBCHP_356-05-PBMC-DNA_2000000.txt     6  \n",
       "10 Nextseq/batch1/ds_batch1/CLONES_TRBCHP_358-01-PBMC-DNA_2000000.txt    25  \n",
       "11 Nextseq/batch1/ds_batch1/CLONES_TRBCHP_363-03-PBMC-DNA_2000000.txt    20  \n",
       "12 Nextseq/batch1/ds_batch1/CLONES_TRBCHP_365-02-PBMC-DNA_2000000.txt   109  \n",
       "13 Nextseq/batch1/ds_batch1/CLONES_TRBCHP_367-01-PBMC-DNA_2000000.txt    54  \n",
       "14 Nextseq/batch2/ds_batch2/CLONES_TRBCHP_319-05-PBMC-DNA_2000000.txt    25  \n",
       "15 Nextseq/batch2/ds_batch2/CLONES_TRBCHP_329-04-PBMC-DNA_2000000.txt    21  \n",
       "16 Nextseq/batch2/ds_batch2/CLONES_TRBCHP_330-05-PBMC-DNA_2000000.txt   126  \n",
       "17 Nextseq/batch2/ds_batch2/CLONES_TRBCHP_331-04-PBMC-DNA_2000000.txt    54  \n",
       "18 Nextseq/batch2/ds_batch2/CLONES_TRBCHP_331-05-PBMC-DNA_2000000.txt   191  \n",
       "19 Nextseq/batch2/ds_batch2/CLONES_TRBCHP_338-04-PBMC-DNA_2000000.txt   184  \n",
       "20 Nextseq/batch2/ds_batch2/CLONES_TRBCHP_338-05-PBMC-DNA_2000000.txt   300  \n",
       "21 Nextseq/batch2/ds_batch2/CLONES_TRBCHP_342-04-PBMC-DNA_2000000.txt    51  \n",
       "22 Nextseq/batch2/ds_batch2/CLONES_TRBCHP_343-02-PBMC-DNA_2000000.txt    34  \n",
       "23 Nextseq/batch2/ds_batch2/CLONES_TRBCHP_343-03-PBMC-DNA_2000000.txt    41  \n",
       "24 Nextseq/batch2/ds_batch2/CLONES_TRBCHP_343-04-PBMC-DNA_2000000.txt    42  \n",
       "25 Nextseq/batch2/ds_batch2/CLONES_TRBCHP_348-01-PBMC-DNA_2000000.txt    84  \n",
       "26 Nextseq/batch2/ds_batch2/CLONES_TRBCHP_348-02-PBMC-DNA_2000000.txt    57  \n",
       "27 Nextseq/batch3/ds_batch3/CLONES_TRBCHP_339-05-PBMC-DNA_2000000.txt   380  \n",
       "28 Nextseq/batch3/ds_batch3/CLONES_TRBCHP_340-05-PBMC-DNA_2000000.txt   633  \n",
       "29 Nextseq/batch3/ds_batch3/CLONES_TRBCHP_345-04-PBMC-DNA_2000000.txt   278  \n",
       "30 Nextseq/batch3/ds_batch3/CLONES_TRBCHP_345-05-PBMC-DNA_2000000.txt   176  \n",
       "⋮  ⋮                                                                    ⋮    \n",
       "68 Nextseq/batch6a/ds_batch6a/CLONES_TRBCHP_340-04-PBMC-DNA_2000000.txt 205  \n",
       "69 Nextseq/batch6a/ds_batch6a/CLONES_TRBCHP_347-04-PBMC-DNA_2000000.txt  83  \n",
       "70 Nextseq/batch6a/ds_batch6a/CLONES_TRBCHP_357-03-PBMC-DNA_2000000.txt 131  \n",
       "71 Nextseq/batch6a/ds_batch6a/CLONES_TRBCHP_359-02-PBMC-DNA_2000000.txt 499  \n",
       "72 Nextseq/batch6a/ds_batch6a/CLONES_TRBCHP_359-04-PBMC-DNA_2000000.txt 354  \n",
       "73 Nextseq/batch6a/ds_batch6a/CLONES_TRBCHP_367-02-PBMC-DNA_2000000.txt  99  \n",
       "74 Nextseq/batch7/ds_batch7/CLONES_TRBCHP_323-04-PBMC-DNA_2000000.txt    39  \n",
       "75 Nextseq/batch7/ds_batch7/CLONES_TRBCHP_323-05-PBMC-DNA_2000000.txt   169  \n",
       "76 Nextseq/batch7/ds_batch7/CLONES_TRBCHP_344-02-PBMC-DNA_2000000.txt    13  \n",
       "77 Nextseq/batch7/ds_batch7/CLONES_TRBCHP_344-03-PBMC-DNA_2000000.txt    22  \n",
       "78 Nextseq/batch7/ds_batch7/CLONES_TRBCHP_345-03-PBMC-DNA_2000000.txt   156  \n",
       "79 Nextseq/batch7/ds_batch7/CLONES_TRBCHP_347-03-PBMC-DNA_2000000.txt   116  \n",
       "80 Nextseq/batch7/ds_batch7/CLONES_TRBCHP_351-04-PBMC-DNA_2000000.txt   123  \n",
       "81 Nextseq/batch7/ds_batch7/CLONES_TRBCHP_353-01-PBMC-DNA_2000000.txt   280  \n",
       "82 Nextseq/batch7/ds_batch7/CLONES_TRBCHP_353-03-PBMC-DNA_2000000.txt   220  \n",
       "83 Nextseq/batch7/ds_batch7/CLONES_TRBCHP_353-05-PBMC-DNA_2000000.txt   408  \n",
       "84 Nextseq/batch7/ds_batch7/CLONES_TRBCHP_357-04-PBMC-DNA_2000000.txt    74  \n",
       "85 Nextseq/batch7/ds_batch7/CLONES_TRBCHP_359-01-PBMC-DNA_2000000.txt    44  \n",
       "86 Nextseq/batch7/ds_batch7/CLONES_TRBCHP_360-02-PBMC-DNA_2000000.txt   316  \n",
       "87 Nextseq/batch7/ds_batch7/CLONES_TRBCHP_361-04-PBMC-DNA_2000000.txt    66  \n",
       "88 Nextseq/batch7/ds_batch7/CLONES_TRBCHP_362-01-PBMC-DNA_2000000.txt   187  \n",
       "89 Nextseq/batch7/ds_batch7/CLONES_TRBCHP_362-03-PBMC-DNA_2000000.txt   133  \n",
       "90 Nextseq/batch7/ds_batch7/CLONES_TRBCHP_362-04-PBMC-DNA_2000000.txt    37  \n",
       "91 Nextseq/batch7/ds_batch7/CLONES_TRBCHP_368-01-PBMC-DNA_2000000.txt   302  \n",
       "92 Nextseq/batch7/ds_batch7/CLONES_TRBCHP_368-04-PBMC-DNA_2000000.txt   111  \n",
       "93 Nextseq/batch7/ds_batch7/CLONES_TRBCHP_370-01-PBMC-DNA_2000000.txt    23  \n",
       "94 Nextseq/batch7/ds_batch7/CLONES_TRBCHP_370-05-PBMC-DNA_2000000.txt   247  \n",
       "95 Nextseq/batch7/ds_batch7/CLONES_TRBCHP_373-02-PBMC-DNA_2000000.txt   140  \n",
       "96 Nextseq/batch7/ds_batch7/CLONES_TRBCHP_375-02-PBMC-DNA_2000000.txt   651  \n",
       "97 Nextseq/batch7/ds_batch7/CLONES_TRBCHP_378-02-PBMC-DNA_2000000.txt   263  \n",
       "   out_of_frame stopcodon productive\n",
       "1   17           1         37       \n",
       "2   32           4        117       \n",
       "3   17           1         38       \n",
       "4   11           0         15       \n",
       "5   27           4         74       \n",
       "6   49           5        157       \n",
       "7   10           1         23       \n",
       "8   27           1        122       \n",
       "9    4           0          2       \n",
       "10   7           1         17       \n",
       "11  12           0          8       \n",
       "12  25           3         81       \n",
       "13  17           2         35       \n",
       "14  10           0         15       \n",
       "15   7           1         13       \n",
       "16  20           1        105       \n",
       "17  16           3         35       \n",
       "18  37           3        151       \n",
       "19  37           2        145       \n",
       "20  64           4        232       \n",
       "21  12           0         39       \n",
       "22  12           0         22       \n",
       "23  14           0         27       \n",
       "24   9           0         33       \n",
       "25  14           0         70       \n",
       "26  18           1         38       \n",
       "27 113          14        253       \n",
       "28 150          12        471       \n",
       "29  71           5        202       \n",
       "30  48           1        127       \n",
       "⋮  ⋮            ⋮         ⋮         \n",
       "68  48          5         152       \n",
       "69  20          1          62       \n",
       "70  41          5          85       \n",
       "71  98          6         395       \n",
       "72  54          6         294       \n",
       "73  27          1          71       \n",
       "74  14          0          25       \n",
       "75  36          2         131       \n",
       "76   4          0           9       \n",
       "77  10          1          11       \n",
       "78  41          2         113       \n",
       "79  16          1          99       \n",
       "80  36          2          85       \n",
       "81  56          2         222       \n",
       "82  40          3         177       \n",
       "83  69          6         333       \n",
       "84  21          3          50       \n",
       "85  13          1          30       \n",
       "86  53          7         256       \n",
       "87  25          1          40       \n",
       "88  42          5         140       \n",
       "89  31          1         101       \n",
       "90  18          0          19       \n",
       "91  69          7         226       \n",
       "92  34          1          76       \n",
       "93   5          2          16       \n",
       "94  45          6         196       \n",
       "95  40          5          95       \n",
       "96 137          9         505       \n",
       "97  69          2         192       "
      ]
     },
     "metadata": {},
     "output_type": "display_data"
    }
   ],
   "source": [
    "file.df"
   ]
  },
  {
   "cell_type": "code",
   "execution_count": 9,
   "metadata": {},
   "outputs": [],
   "source": [
    "file.df$percproductive <- file.df$productive / file.df$total"
   ]
  },
  {
   "cell_type": "code",
   "execution_count": 10,
   "metadata": {},
   "outputs": [
    {
     "data": {
      "text/plain": [
       "   Min. 1st Qu.  Median    Mean 3rd Qu.    Max. \n",
       " 0.3333  0.6765  0.7308  0.7155  0.7804  0.8534 "
      ]
     },
     "metadata": {},
     "output_type": "display_data"
    }
   ],
   "source": [
    "summary(file.df$percproductive)"
   ]
  },
  {
   "cell_type": "markdown",
   "metadata": {},
   "source": [
    "Make variable patient_id"
   ]
  },
  {
   "cell_type": "code",
   "execution_count": 11,
   "metadata": {},
   "outputs": [],
   "source": [
    "file.df$Patient <- gsub(\"-PBMC.*\", \"\", file.df$filename)\n",
    "file.df$Patient <- gsub(\".*CHP_\", \"\", file.df$Patient)"
   ]
  },
  {
   "cell_type": "code",
   "execution_count": 12,
   "metadata": {},
   "outputs": [],
   "source": [
    "file.df$cycle <- gsub(\".*-0\", \"\", file.df$Patient)\n",
    "file.df$Patient <- gsub(\"-.*\", \"\", file.df$Patient)"
   ]
  },
  {
   "cell_type": "code",
   "execution_count": 13,
   "metadata": {},
   "outputs": [
    {
     "data": {
      "text/html": [
       "<table>\n",
       "<caption>A data.frame: 6 × 8</caption>\n",
       "<thead>\n",
       "\t<tr><th scope=col>filename</th><th scope=col>total</th><th scope=col>out_of_frame</th><th scope=col>stopcodon</th><th scope=col>productive</th><th scope=col>percproductive</th><th scope=col>Patient</th><th scope=col>cycle</th></tr>\n",
       "\t<tr><th scope=col>&lt;fct&gt;</th><th scope=col>&lt;int&gt;</th><th scope=col>&lt;int&gt;</th><th scope=col>&lt;int&gt;</th><th scope=col>&lt;int&gt;</th><th scope=col>&lt;dbl&gt;</th><th scope=col>&lt;chr&gt;</th><th scope=col>&lt;chr&gt;</th></tr>\n",
       "</thead>\n",
       "<tbody>\n",
       "\t<tr><td>Nextseq/batch1/ds_batch1/CLONES_TRBCHP_346-01-PBMC-DNA_2000000.txt</td><td> 55</td><td>17</td><td>1</td><td> 37</td><td>0.6727273</td><td>346</td><td>1</td></tr>\n",
       "\t<tr><td>Nextseq/batch1/ds_batch1/CLONES_TRBCHP_348-03-PBMC-DNA_2000000.txt</td><td>153</td><td>32</td><td>4</td><td>117</td><td>0.7647059</td><td>348</td><td>3</td></tr>\n",
       "\t<tr><td>Nextseq/batch1/ds_batch1/CLONES_TRBCHP_348-04-PBMC-DNA_2000000.txt</td><td> 56</td><td>17</td><td>1</td><td> 38</td><td>0.6785714</td><td>348</td><td>4</td></tr>\n",
       "\t<tr><td>Nextseq/batch1/ds_batch1/CLONES_TRBCHP_349-01-PBMC-DNA_2000000.txt</td><td> 26</td><td>11</td><td>0</td><td> 15</td><td>0.5769231</td><td>349</td><td>1</td></tr>\n",
       "\t<tr><td>Nextseq/batch1/ds_batch1/CLONES_TRBCHP_349-02-PBMC-DNA_2000000.txt</td><td>105</td><td>27</td><td>4</td><td> 74</td><td>0.7047619</td><td>349</td><td>2</td></tr>\n",
       "\t<tr><td>Nextseq/batch1/ds_batch1/CLONES_TRBCHP_350-03-PBMC-DNA_2000000.txt</td><td>211</td><td>49</td><td>5</td><td>157</td><td>0.7440758</td><td>350</td><td>3</td></tr>\n",
       "</tbody>\n",
       "</table>\n"
      ],
      "text/latex": [
       "A data.frame: 6 × 8\n",
       "\\begin{tabular}{r|llllllll}\n",
       " filename & total & out\\_of\\_frame & stopcodon & productive & percproductive & Patient & cycle\\\\\n",
       " <fct> & <int> & <int> & <int> & <int> & <dbl> & <chr> & <chr>\\\\\n",
       "\\hline\n",
       "\t Nextseq/batch1/ds\\_batch1/CLONES\\_TRBCHP\\_346-01-PBMC-DNA\\_2000000.txt &  55 & 17 & 1 &  37 & 0.6727273 & 346 & 1\\\\\n",
       "\t Nextseq/batch1/ds\\_batch1/CLONES\\_TRBCHP\\_348-03-PBMC-DNA\\_2000000.txt & 153 & 32 & 4 & 117 & 0.7647059 & 348 & 3\\\\\n",
       "\t Nextseq/batch1/ds\\_batch1/CLONES\\_TRBCHP\\_348-04-PBMC-DNA\\_2000000.txt &  56 & 17 & 1 &  38 & 0.6785714 & 348 & 4\\\\\n",
       "\t Nextseq/batch1/ds\\_batch1/CLONES\\_TRBCHP\\_349-01-PBMC-DNA\\_2000000.txt &  26 & 11 & 0 &  15 & 0.5769231 & 349 & 1\\\\\n",
       "\t Nextseq/batch1/ds\\_batch1/CLONES\\_TRBCHP\\_349-02-PBMC-DNA\\_2000000.txt & 105 & 27 & 4 &  74 & 0.7047619 & 349 & 2\\\\\n",
       "\t Nextseq/batch1/ds\\_batch1/CLONES\\_TRBCHP\\_350-03-PBMC-DNA\\_2000000.txt & 211 & 49 & 5 & 157 & 0.7440758 & 350 & 3\\\\\n",
       "\\end{tabular}\n"
      ],
      "text/markdown": [
       "\n",
       "A data.frame: 6 × 8\n",
       "\n",
       "| filename &lt;fct&gt; | total &lt;int&gt; | out_of_frame &lt;int&gt; | stopcodon &lt;int&gt; | productive &lt;int&gt; | percproductive &lt;dbl&gt; | Patient &lt;chr&gt; | cycle &lt;chr&gt; |\n",
       "|---|---|---|---|---|---|---|---|\n",
       "| Nextseq/batch1/ds_batch1/CLONES_TRBCHP_346-01-PBMC-DNA_2000000.txt |  55 | 17 | 1 |  37 | 0.6727273 | 346 | 1 |\n",
       "| Nextseq/batch1/ds_batch1/CLONES_TRBCHP_348-03-PBMC-DNA_2000000.txt | 153 | 32 | 4 | 117 | 0.7647059 | 348 | 3 |\n",
       "| Nextseq/batch1/ds_batch1/CLONES_TRBCHP_348-04-PBMC-DNA_2000000.txt |  56 | 17 | 1 |  38 | 0.6785714 | 348 | 4 |\n",
       "| Nextseq/batch1/ds_batch1/CLONES_TRBCHP_349-01-PBMC-DNA_2000000.txt |  26 | 11 | 0 |  15 | 0.5769231 | 349 | 1 |\n",
       "| Nextseq/batch1/ds_batch1/CLONES_TRBCHP_349-02-PBMC-DNA_2000000.txt | 105 | 27 | 4 |  74 | 0.7047619 | 349 | 2 |\n",
       "| Nextseq/batch1/ds_batch1/CLONES_TRBCHP_350-03-PBMC-DNA_2000000.txt | 211 | 49 | 5 | 157 | 0.7440758 | 350 | 3 |\n",
       "\n"
      ],
      "text/plain": [
       "  filename                                                           total\n",
       "1 Nextseq/batch1/ds_batch1/CLONES_TRBCHP_346-01-PBMC-DNA_2000000.txt  55  \n",
       "2 Nextseq/batch1/ds_batch1/CLONES_TRBCHP_348-03-PBMC-DNA_2000000.txt 153  \n",
       "3 Nextseq/batch1/ds_batch1/CLONES_TRBCHP_348-04-PBMC-DNA_2000000.txt  56  \n",
       "4 Nextseq/batch1/ds_batch1/CLONES_TRBCHP_349-01-PBMC-DNA_2000000.txt  26  \n",
       "5 Nextseq/batch1/ds_batch1/CLONES_TRBCHP_349-02-PBMC-DNA_2000000.txt 105  \n",
       "6 Nextseq/batch1/ds_batch1/CLONES_TRBCHP_350-03-PBMC-DNA_2000000.txt 211  \n",
       "  out_of_frame stopcodon productive percproductive Patient cycle\n",
       "1 17           1          37        0.6727273      346     1    \n",
       "2 32           4         117        0.7647059      348     3    \n",
       "3 17           1          38        0.6785714      348     4    \n",
       "4 11           0          15        0.5769231      349     1    \n",
       "5 27           4          74        0.7047619      349     2    \n",
       "6 49           5         157        0.7440758      350     3    "
      ]
     },
     "metadata": {},
     "output_type": "display_data"
    }
   ],
   "source": [
    "head(file.df)"
   ]
  },
  {
   "cell_type": "code",
   "execution_count": 14,
   "metadata": {},
   "outputs": [
    {
     "data": {
      "text/plain": [
       "\n",
       " 1  2  3  4  5 \n",
       "19 21 20 18 19 "
      ]
     },
     "metadata": {},
     "output_type": "display_data"
    }
   ],
   "source": [
    "table(file.df$cycle)"
   ]
  },
  {
   "cell_type": "code",
   "execution_count": 15,
   "metadata": {},
   "outputs": [
    {
     "data": {
      "text/plain": [
       "$`1`\n",
       "   Min. 1st Qu.  Median    Mean 3rd Qu.    Max. \n",
       "   23.0    39.0   121.0   160.2   231.0   668.0 \n",
       "\n",
       "$`2`\n",
       "   Min. 1st Qu.  Median    Mean 3rd Qu.    Max. \n",
       "     13     105     150     255     379     744 \n",
       "\n",
       "$`3`\n",
       "   Min. 1st Qu.  Median    Mean 3rd Qu.    Max. \n",
       "   20.0    69.5   132.5   197.7   213.2   717.0 \n",
       "\n",
       "$`4`\n",
       "   Min. 1st Qu.  Median    Mean 3rd Qu.    Max. \n",
       "  21.00   51.75   78.50  114.78  150.00  354.00 \n",
       "\n",
       "$`5`\n",
       "   Min. 1st Qu.  Median    Mean 3rd Qu.    Max. \n",
       "    6.0    69.5   176.0   246.3   341.5   750.0 \n"
      ]
     },
     "metadata": {},
     "output_type": "display_data"
    }
   ],
   "source": [
    "tapply(file.df$total, file.df$cycle, summary)"
   ]
  },
  {
   "cell_type": "markdown",
   "metadata": {},
   "source": [
    "# Load master df"
   ]
  },
  {
   "cell_type": "code",
   "execution_count": 21,
   "metadata": {},
   "outputs": [],
   "source": [
    "master_df <- read.csv(paste0(datapath, \"ATC_Tcells_NCR.csv\"),\n",
    "                      stringsAsFactors = FALSE,\n",
    "                      check.names = F)"
   ]
  },
  {
   "cell_type": "code",
   "execution_count": 22,
   "metadata": {},
   "outputs": [
    {
     "data": {
      "text/html": [
       "<table>\n",
       "<caption>A data.frame: 6 × 33</caption>\n",
       "<thead>\n",
       "\t<tr><th scope=col>Patient</th><th scope=col>cycle</th><th scope=col>FOLD</th><th scope=col>ATC</th><th scope=col>Age</th><th scope=col>Disease_type</th><th scope=col>TE_fold</th><th scope=col>Pass</th><th scope=col>CD3</th><th scope=col>EM</th><th scope=col>⋯</th><th scope=col>LAG3</th><th scope=col>TIM3</th><th scope=col>CTLA4</th><th scope=col>PD1%</th><th scope=col>PDL1%</th><th scope=col>LAG3%</th><th scope=col>TIM3%</th><th scope=col>CTLA4%</th><th scope=col>Any NCR</th><th scope=col>PD1 + LAG3 + TIM3</th></tr>\n",
       "\t<tr><th scope=col>&lt;int&gt;</th><th scope=col>&lt;int&gt;</th><th scope=col>&lt;dbl&gt;</th><th scope=col>&lt;dbl&gt;</th><th scope=col>&lt;dbl&gt;</th><th scope=col>&lt;chr&gt;</th><th scope=col>&lt;chr&gt;</th><th scope=col>&lt;lgl&gt;</th><th scope=col>&lt;int&gt;</th><th scope=col>&lt;int&gt;</th><th scope=col>⋯</th><th scope=col>&lt;int&gt;</th><th scope=col>&lt;int&gt;</th><th scope=col>&lt;int&gt;</th><th scope=col>&lt;dbl&gt;</th><th scope=col>&lt;dbl&gt;</th><th scope=col>&lt;dbl&gt;</th><th scope=col>&lt;dbl&gt;</th><th scope=col>&lt;dbl&gt;</th><th scope=col>&lt;dbl&gt;</th><th scope=col>&lt;dbl&gt;</th></tr>\n",
       "</thead>\n",
       "<tbody>\n",
       "\t<tr><td>330</td><td>1</td><td>0.9</td><td>0</td><td>5</td><td>OS    </td><td>0.9</td><td>NA</td><td>2437</td><td> 24</td><td>⋯</td><td> 67</td><td>113</td><td>NA</td><td> 4.636849</td><td>NA</td><td> 2.749282</td><td> 4.636849</td><td>NA</td><td>NA</td><td>NA</td></tr>\n",
       "\t<tr><td>330</td><td>2</td><td>1.9</td><td>0</td><td>5</td><td>OS    </td><td>1.9</td><td>NA</td><td>2425</td><td> 21</td><td>⋯</td><td>285</td><td>530</td><td>NA</td><td>21.855670</td><td>NA</td><td>11.752577</td><td>21.855670</td><td>NA</td><td>NA</td><td>NA</td></tr>\n",
       "\t<tr><td>330</td><td>3</td><td>1.5</td><td>0</td><td>5</td><td>OS    </td><td>1.5</td><td>NA</td><td> 544</td><td> 17</td><td>⋯</td><td> 26</td><td> 54</td><td>NA</td><td>      Inf</td><td>NA</td><td>      Inf</td><td>      Inf</td><td>NA</td><td>NA</td><td>NA</td></tr>\n",
       "\t<tr><td>330</td><td>4</td><td>4.1</td><td>0</td><td>5</td><td>OS    </td><td>4.1</td><td>NA</td><td>2484</td><td>125</td><td>⋯</td><td> 40</td><td>218</td><td>NA</td><td> 8.776167</td><td>NA</td><td> 1.610306</td><td> 8.776167</td><td>NA</td><td>NA</td><td>NA</td></tr>\n",
       "\t<tr><td>330</td><td>5</td><td>6.2</td><td>0</td><td>5</td><td>OS    </td><td>6.2</td><td>NA</td><td>   0</td><td> NA</td><td>⋯</td><td> -1</td><td> -1</td><td>NA</td><td>     -Inf</td><td>NA</td><td>     -Inf</td><td>     -Inf</td><td>NA</td><td>NA</td><td>NA</td></tr>\n",
       "\t<tr><td>331</td><td>1</td><td>0.0</td><td>0</td><td>5</td><td>SR ALL</td><td>0  </td><td>NA</td><td>   0</td><td> NA</td><td>⋯</td><td> NA</td><td> NA</td><td>NA</td><td>       NA</td><td>NA</td><td>       NA</td><td>       NA</td><td>NA</td><td>NA</td><td>NA</td></tr>\n",
       "</tbody>\n",
       "</table>\n"
      ],
      "text/latex": [
       "A data.frame: 6 × 33\n",
       "\\begin{tabular}{r|lllllllllllllllllllllllllllllllll}\n",
       " Patient & cycle & FOLD & ATC & Age & Disease\\_type & TE\\_fold & Pass & CD3 & EM & CM & Naïve & SCM & TE & EM\\% & CM\\% & Naïve\\% & SCM\\% & TE\\% & Naïve/TE & N+CM+SCM/TE+EM & PD-1 & PDL1 & LAG3 & TIM3 & CTLA4 & PD1\\% & PDL1\\% & LAG3\\% & TIM3\\% & CTLA4\\% & Any NCR & PD1 + LAG3 + TIM3\\\\\n",
       " <int> & <int> & <dbl> & <dbl> & <dbl> & <chr> & <chr> & <lgl> & <int> & <int> & <int> & <int> & <int> & <int> & <dbl> & <dbl> & <dbl> & <dbl> & <dbl> & <dbl> & <dbl> & <int> & <int> & <int> & <int> & <int> & <dbl> & <dbl> & <dbl> & <dbl> & <dbl> & <dbl> & <dbl>\\\\\n",
       "\\hline\n",
       "\t 330 & 1 & 0.9 & 0 & 5 & OS     & 0.9 & NA & 2437 &  24 &  65 &  315 & 187 & 1846 & 0.9848174 &  2.667214 & 12.92573 &  7.673369 & 75.74887 & 0.1706392 & 0.3032086 & 113 & NA &  67 & 113 & NA &  4.636849 & NA &  2.749282 &  4.636849 & NA & NA & NA\\\\\n",
       "\t 330 & 2 & 1.9 & 0 & 5 & OS     & 1.9 & NA & 2425 &  21 & 512 &  773 & 272 &  847 & 0.8659794 & 21.113402 & 31.87629 & 11.216495 & 34.92784 & 0.9126328 & 1.7937788 & 530 & NA & 285 & 530 & NA & 21.855670 & NA & 11.752577 & 21.855670 & NA & NA & NA\\\\\n",
       "\t 330 & 3 & 1.5 & 0 & 5 & OS     & 1.5 & NA &  544 &  17 &  65 &  330 &   8 &  124 & 3.1250000 & 11.948529 & 60.66176 &  1.470588 & 22.79412 & 2.6612903 & 2.8581560 &  54 & NA &  26 &  54 & NA &       Inf & NA &       Inf &       Inf & NA & NA & NA\\\\\n",
       "\t 330 & 4 & 4.1 & 0 & 5 & OS     & 4.1 & NA & 2484 & 125 & 217 & 1584 &  54 &  504 & 5.0322061 &  8.735910 & 63.76812 &  2.173913 & 20.28986 & 3.1428571 & 2.9491256 & 218 & NA &  40 & 218 & NA &  8.776167 & NA &  1.610306 &  8.776167 & NA & NA & NA\\\\\n",
       "\t 330 & 5 & 6.2 & 0 & 5 & OS     & 6.2 & NA &    0 &  NA &  NA &   NA &  NA &   NA &        NA &        NA &       NA &        NA &       NA &        NA &        NA &  -1 & NA &  -1 &  -1 & NA &      -Inf & NA &      -Inf &      -Inf & NA & NA & NA\\\\\n",
       "\t 331 & 1 & 0.0 & 0 & 5 & SR ALL & 0   & NA &    0 &  NA &  NA &   NA &  NA &   NA &        NA &        NA &       NA &        NA &       NA &        NA &        NA &  NA & NA &  NA &  NA & NA &        NA & NA &        NA &        NA & NA & NA & NA\\\\\n",
       "\\end{tabular}\n"
      ],
      "text/markdown": [
       "\n",
       "A data.frame: 6 × 33\n",
       "\n",
       "| Patient &lt;int&gt; | cycle &lt;int&gt; | FOLD &lt;dbl&gt; | ATC &lt;dbl&gt; | Age &lt;dbl&gt; | Disease_type &lt;chr&gt; | TE_fold &lt;chr&gt; | Pass &lt;lgl&gt; | CD3 &lt;int&gt; | EM &lt;int&gt; | ⋯ ⋯ | LAG3 &lt;int&gt; | TIM3 &lt;int&gt; | CTLA4 &lt;int&gt; | PD1% &lt;dbl&gt; | PDL1% &lt;dbl&gt; | LAG3% &lt;dbl&gt; | TIM3% &lt;dbl&gt; | CTLA4% &lt;dbl&gt; | Any NCR &lt;dbl&gt; | PD1 + LAG3 + TIM3 &lt;dbl&gt; |\n",
       "|---|---|---|---|---|---|---|---|---|---|---|---|---|---|---|---|---|---|---|---|---|\n",
       "| 330 | 1 | 0.9 | 0 | 5 | OS     | 0.9 | NA | 2437 |  24 | ⋯ |  67 | 113 | NA |  4.636849 | NA |  2.749282 |  4.636849 | NA | NA | NA |\n",
       "| 330 | 2 | 1.9 | 0 | 5 | OS     | 1.9 | NA | 2425 |  21 | ⋯ | 285 | 530 | NA | 21.855670 | NA | 11.752577 | 21.855670 | NA | NA | NA |\n",
       "| 330 | 3 | 1.5 | 0 | 5 | OS     | 1.5 | NA |  544 |  17 | ⋯ |  26 |  54 | NA |       Inf | NA |       Inf |       Inf | NA | NA | NA |\n",
       "| 330 | 4 | 4.1 | 0 | 5 | OS     | 4.1 | NA | 2484 | 125 | ⋯ |  40 | 218 | NA |  8.776167 | NA |  1.610306 |  8.776167 | NA | NA | NA |\n",
       "| 330 | 5 | 6.2 | 0 | 5 | OS     | 6.2 | NA |    0 |  NA | ⋯ |  -1 |  -1 | NA |      -Inf | NA |      -Inf |      -Inf | NA | NA | NA |\n",
       "| 331 | 1 | 0.0 | 0 | 5 | SR ALL | 0   | NA |    0 |  NA | ⋯ |  NA |  NA | NA |        NA | NA |        NA |        NA | NA | NA | NA |\n",
       "\n"
      ],
      "text/plain": [
       "  Patient cycle FOLD ATC Age Disease_type TE_fold Pass CD3  EM  ⋯ LAG3 TIM3\n",
       "1 330     1     0.9  0   5   OS           0.9     NA   2437  24 ⋯  67  113 \n",
       "2 330     2     1.9  0   5   OS           1.9     NA   2425  21 ⋯ 285  530 \n",
       "3 330     3     1.5  0   5   OS           1.5     NA    544  17 ⋯  26   54 \n",
       "4 330     4     4.1  0   5   OS           4.1     NA   2484 125 ⋯  40  218 \n",
       "5 330     5     6.2  0   5   OS           6.2     NA      0  NA ⋯  -1   -1 \n",
       "6 331     1     0.0  0   5   SR ALL       0       NA      0  NA ⋯  NA   NA \n",
       "  CTLA4 PD1%      PDL1% LAG3%     TIM3%     CTLA4% Any NCR PD1 + LAG3 + TIM3\n",
       "1 NA     4.636849 NA     2.749282  4.636849 NA     NA      NA               \n",
       "2 NA    21.855670 NA    11.752577 21.855670 NA     NA      NA               \n",
       "3 NA          Inf NA          Inf       Inf NA     NA      NA               \n",
       "4 NA     8.776167 NA     1.610306  8.776167 NA     NA      NA               \n",
       "5 NA         -Inf NA         -Inf      -Inf NA     NA      NA               \n",
       "6 NA           NA NA           NA        NA NA     NA      NA               "
      ]
     },
     "metadata": {},
     "output_type": "display_data"
    }
   ],
   "source": [
    "head(master_df)"
   ]
  },
  {
   "cell_type": "code",
   "execution_count": 23,
   "metadata": {},
   "outputs": [],
   "source": [
    "master_df$Patient <- as.character(master_df$Patient)\n",
    "master_df$cycle <- as.character(master_df$cycle)"
   ]
  },
  {
   "cell_type": "markdown",
   "metadata": {},
   "source": [
    "# Merge clonstats and master df"
   ]
  },
  {
   "cell_type": "code",
   "execution_count": 24,
   "metadata": {},
   "outputs": [],
   "source": [
    "master_merge_clonotypeststats <- merge(file.df, master_df, by = c(\"Patient\", \"cycle\"))"
   ]
  },
  {
   "cell_type": "code",
   "execution_count": 25,
   "metadata": {},
   "outputs": [
    {
     "data": {
      "text/html": [
       "<ol class=list-inline>\n",
       "\t<li>97</li>\n",
       "\t<li>8</li>\n",
       "</ol>\n"
      ],
      "text/latex": [
       "\\begin{enumerate*}\n",
       "\\item 97\n",
       "\\item 8\n",
       "\\end{enumerate*}\n"
      ],
      "text/markdown": [
       "1. 97\n",
       "2. 8\n",
       "\n",
       "\n"
      ],
      "text/plain": [
       "[1] 97  8"
      ]
     },
     "metadata": {},
     "output_type": "display_data"
    }
   ],
   "source": [
    "dim(file.df)"
   ]
  },
  {
   "cell_type": "code",
   "execution_count": 26,
   "metadata": {},
   "outputs": [
    {
     "data": {
      "text/html": [
       "<ol class=list-inline>\n",
       "\t<li>'Patient'</li>\n",
       "\t<li>'cycle'</li>\n",
       "\t<li>'filename'</li>\n",
       "\t<li>'total'</li>\n",
       "\t<li>'out_of_frame'</li>\n",
       "\t<li>'stopcodon'</li>\n",
       "\t<li>'productive'</li>\n",
       "\t<li>'percproductive'</li>\n",
       "\t<li>'FOLD'</li>\n",
       "\t<li>'ATC'</li>\n",
       "\t<li>'Age'</li>\n",
       "\t<li>'Disease_type'</li>\n",
       "\t<li>'TE_fold'</li>\n",
       "\t<li>'Pass'</li>\n",
       "\t<li>'CD3'</li>\n",
       "\t<li>'EM'</li>\n",
       "\t<li>'CM'</li>\n",
       "\t<li>'Naïve'</li>\n",
       "\t<li>'SCM'</li>\n",
       "\t<li>'TE'</li>\n",
       "\t<li>'EM%'</li>\n",
       "\t<li>'CM%'</li>\n",
       "\t<li>'Naïve%'</li>\n",
       "\t<li>'SCM%'</li>\n",
       "\t<li>'TE%'</li>\n",
       "\t<li>'Naïve/TE'</li>\n",
       "\t<li>'N+CM+SCM/TE+EM'</li>\n",
       "\t<li>'PD-1'</li>\n",
       "\t<li>'PDL1'</li>\n",
       "\t<li>'LAG3'</li>\n",
       "\t<li>'TIM3'</li>\n",
       "\t<li>'CTLA4'</li>\n",
       "\t<li>'PD1%'</li>\n",
       "\t<li>'PDL1%'</li>\n",
       "\t<li>'LAG3%'</li>\n",
       "\t<li>'TIM3%'</li>\n",
       "\t<li>'CTLA4%'</li>\n",
       "\t<li>'Any NCR'</li>\n",
       "\t<li>'PD1 + LAG3 + TIM3'</li>\n",
       "</ol>\n"
      ],
      "text/latex": [
       "\\begin{enumerate*}\n",
       "\\item 'Patient'\n",
       "\\item 'cycle'\n",
       "\\item 'filename'\n",
       "\\item 'total'\n",
       "\\item 'out\\_of\\_frame'\n",
       "\\item 'stopcodon'\n",
       "\\item 'productive'\n",
       "\\item 'percproductive'\n",
       "\\item 'FOLD'\n",
       "\\item 'ATC'\n",
       "\\item 'Age'\n",
       "\\item 'Disease\\_type'\n",
       "\\item 'TE\\_fold'\n",
       "\\item 'Pass'\n",
       "\\item 'CD3'\n",
       "\\item 'EM'\n",
       "\\item 'CM'\n",
       "\\item 'Naïve'\n",
       "\\item 'SCM'\n",
       "\\item 'TE'\n",
       "\\item 'EM\\%'\n",
       "\\item 'CM\\%'\n",
       "\\item 'Naïve\\%'\n",
       "\\item 'SCM\\%'\n",
       "\\item 'TE\\%'\n",
       "\\item 'Naïve/TE'\n",
       "\\item 'N+CM+SCM/TE+EM'\n",
       "\\item 'PD-1'\n",
       "\\item 'PDL1'\n",
       "\\item 'LAG3'\n",
       "\\item 'TIM3'\n",
       "\\item 'CTLA4'\n",
       "\\item 'PD1\\%'\n",
       "\\item 'PDL1\\%'\n",
       "\\item 'LAG3\\%'\n",
       "\\item 'TIM3\\%'\n",
       "\\item 'CTLA4\\%'\n",
       "\\item 'Any NCR'\n",
       "\\item 'PD1 + LAG3 + TIM3'\n",
       "\\end{enumerate*}\n"
      ],
      "text/markdown": [
       "1. 'Patient'\n",
       "2. 'cycle'\n",
       "3. 'filename'\n",
       "4. 'total'\n",
       "5. 'out_of_frame'\n",
       "6. 'stopcodon'\n",
       "7. 'productive'\n",
       "8. 'percproductive'\n",
       "9. 'FOLD'\n",
       "10. 'ATC'\n",
       "11. 'Age'\n",
       "12. 'Disease_type'\n",
       "13. 'TE_fold'\n",
       "14. 'Pass'\n",
       "15. 'CD3'\n",
       "16. 'EM'\n",
       "17. 'CM'\n",
       "18. 'Naïve'\n",
       "19. 'SCM'\n",
       "20. 'TE'\n",
       "21. 'EM%'\n",
       "22. 'CM%'\n",
       "23. 'Naïve%'\n",
       "24. 'SCM%'\n",
       "25. 'TE%'\n",
       "26. 'Naïve/TE'\n",
       "27. 'N+CM+SCM/TE+EM'\n",
       "28. 'PD-1'\n",
       "29. 'PDL1'\n",
       "30. 'LAG3'\n",
       "31. 'TIM3'\n",
       "32. 'CTLA4'\n",
       "33. 'PD1%'\n",
       "34. 'PDL1%'\n",
       "35. 'LAG3%'\n",
       "36. 'TIM3%'\n",
       "37. 'CTLA4%'\n",
       "38. 'Any NCR'\n",
       "39. 'PD1 + LAG3 + TIM3'\n",
       "\n",
       "\n"
      ],
      "text/plain": [
       " [1] \"Patient\"           \"cycle\"             \"filename\"         \n",
       " [4] \"total\"             \"out_of_frame\"      \"stopcodon\"        \n",
       " [7] \"productive\"        \"percproductive\"    \"FOLD\"             \n",
       "[10] \"ATC\"               \"Age\"               \"Disease_type\"     \n",
       "[13] \"TE_fold\"           \"Pass\"              \"CD3\"              \n",
       "[16] \"EM\"                \"CM\"                \"Naïve\"            \n",
       "[19] \"SCM\"               \"TE\"                \"EM%\"              \n",
       "[22] \"CM%\"               \"Naïve%\"            \"SCM%\"             \n",
       "[25] \"TE%\"               \"Naïve/TE\"          \"N+CM+SCM/TE+EM\"   \n",
       "[28] \"PD-1\"              \"PDL1\"              \"LAG3\"             \n",
       "[31] \"TIM3\"              \"CTLA4\"             \"PD1%\"             \n",
       "[34] \"PDL1%\"             \"LAG3%\"             \"TIM3%\"            \n",
       "[37] \"CTLA4%\"            \"Any NCR\"           \"PD1 + LAG3 + TIM3\""
      ]
     },
     "metadata": {},
     "output_type": "display_data"
    }
   ],
   "source": [
    "colnames(master_merge_clonotypeststats)"
   ]
  },
  {
   "cell_type": "code",
   "execution_count": 27,
   "metadata": {},
   "outputs": [
    {
     "data": {
      "text/plain": [
       "$`1`\n",
       "\n",
       "  ALCL    ALL    AML   ARMS    CML     HD HR ALL     NB     OS     WT \n",
       "     1      3      3      1      1      2      3      1      3      1 \n",
       "\n",
       "$`2`\n",
       "\n",
       "  ALCL    ALL    AML     BL    CML     ES     HD HR ALL     OS  T-ALL \n",
       "     1      6      1      1      1      3      2      2      3      1 \n",
       "\n",
       "$`3`\n",
       "\n",
       "ALL AML  BL  ES  HB  HD  OS  WT \n",
       "  6   4   1   3   1   1   2   1 \n",
       "\n",
       "$`4`\n",
       "\n",
       "   ALL    AML   ARMS     ES     HD     OS SR ALL \n",
       "     3      4      1      2      1      4      1 \n",
       "\n",
       "$`5`\n",
       "\n",
       "  ALCL    ALL    AML   ARMS     BL     ES     HB     OS SR ALL     WT \n",
       "     1      3      2      1      1      3      1      1      1      1 \n"
      ]
     },
     "metadata": {},
     "output_type": "display_data"
    }
   ],
   "source": [
    "tapply(master_merge_clonotypeststats$Disease_type,\n",
    "      master_merge_clonotypeststats$cycle,\n",
    "      table)"
   ]
  },
  {
   "cell_type": "markdown",
   "metadata": {},
   "source": [
    "# ATC changes over chemo cycles"
   ]
  },
  {
   "cell_type": "code",
   "execution_count": 35,
   "metadata": {},
   "outputs": [],
   "source": [
    "ATCcyclep <- ggplot(data = master_merge_clonotypeststats) + \n",
    "geom_boxplot(aes(x = cycle, y = ATC), \n",
    "             fill = \"light grey\", outlier.size = 5) + mytheme"
   ]
  },
  {
   "cell_type": "code",
   "execution_count": 36,
   "metadata": {},
   "outputs": [
    {
     "data": {
      "image/png": "[encoded data removed]",
      "text/plain": [
       "plot without title"
      ]
     },
     "metadata": {},
     "output_type": "display_data"
    }
   ],
   "source": [
    "ATCcyclep"
   ]
  },
  {
   "cell_type": "code",
   "execution_count": 37,
   "metadata": {},
   "outputs": [
    {
     "data": {
      "text/html": [
       "<strong>pdf:</strong> 2"
      ],
      "text/latex": [
       "\\textbf{pdf:} 2"
      ],
      "text/markdown": [
       "**pdf:** 2"
      ],
      "text/plain": [
       "pdf \n",
       "  2 "
      ]
     },
     "metadata": {},
     "output_type": "display_data"
    }
   ],
   "source": [
    "  pdf(file = paste0(plotpath, \"ATCcyclep.pdf\"),\n",
    "    width = 5, \n",
    "    height = 10,\n",
    "    useDingbats = FALSE)\n",
    "    print(ATCcyclep)\n",
    "    dev.off() "
   ]
  },
  {
   "cell_type": "markdown",
   "metadata": {},
   "source": [
    "# NCR changes over chemo cycles"
   ]
  },
  {
   "cell_type": "code",
   "execution_count": 41,
   "metadata": {},
   "outputs": [],
   "source": [
    "PD1cyclep <- ggplot(data = master_merge_clonotypeststats) + \n",
    "geom_boxplot(aes(x = cycle, y = `PD1%`), \n",
    "             fill = \"light grey\", outlier.size = 5) + \n",
    "scale_y_continuous(limits = c(0,100)) +\n",
    "mytheme"
   ]
  },
  {
   "cell_type": "code",
   "execution_count": 43,
   "metadata": {},
   "outputs": [],
   "source": [
    "LAG3cyclep <- ggplot(data = master_merge_clonotypeststats) + \n",
    "geom_boxplot(aes(x = cycle, y = `LAG3%`), \n",
    "             fill = \"light grey\", outlier.size = 5) + \n",
    "scale_y_continuous(limits = c(0,100)) +\n",
    "mytheme"
   ]
  },
  {
   "cell_type": "code",
   "execution_count": 44,
   "metadata": {},
   "outputs": [],
   "source": [
    "TIM3cyclep <- ggplot(data = master_merge_clonotypeststats) + \n",
    "geom_boxplot(aes(x = cycle, y = `TIM3%`), \n",
    "             fill = \"light grey\", outlier.size = 5) + \n",
    "scale_y_continuous(limits = c(0,100)) +\n",
    "mytheme"
   ]
  },
  {
   "cell_type": "code",
   "execution_count": 45,
   "metadata": {},
   "outputs": [
    {
     "data": {
      "text/html": [
       "<ol class=list-inline>\n",
       "\t<li>'Patient'</li>\n",
       "\t<li>'cycle'</li>\n",
       "\t<li>'filename'</li>\n",
       "\t<li>'total'</li>\n",
       "\t<li>'out_of_frame'</li>\n",
       "\t<li>'stopcodon'</li>\n",
       "\t<li>'productive'</li>\n",
       "\t<li>'percproductive'</li>\n",
       "\t<li>'FOLD'</li>\n",
       "\t<li>'ATC'</li>\n",
       "\t<li>'Age'</li>\n",
       "\t<li>'Disease_type'</li>\n",
       "\t<li>'TE_fold'</li>\n",
       "\t<li>'Pass'</li>\n",
       "\t<li>'CD3'</li>\n",
       "\t<li>'EM'</li>\n",
       "\t<li>'CM'</li>\n",
       "\t<li>'Naïve'</li>\n",
       "\t<li>'SCM'</li>\n",
       "\t<li>'TE'</li>\n",
       "\t<li>'EM%'</li>\n",
       "\t<li>'CM%'</li>\n",
       "\t<li>'Naïve%'</li>\n",
       "\t<li>'SCM%'</li>\n",
       "\t<li>'TE%'</li>\n",
       "\t<li>'Naïve/TE'</li>\n",
       "\t<li>'N+CM+SCM/TE+EM'</li>\n",
       "\t<li>'PD-1'</li>\n",
       "\t<li>'PDL1'</li>\n",
       "\t<li>'LAG3'</li>\n",
       "\t<li>'TIM3'</li>\n",
       "\t<li>'CTLA4'</li>\n",
       "\t<li>'PD1%'</li>\n",
       "\t<li>'PDL1%'</li>\n",
       "\t<li>'LAG3%'</li>\n",
       "\t<li>'TIM3%'</li>\n",
       "\t<li>'CTLA4%'</li>\n",
       "\t<li>'Any NCR'</li>\n",
       "\t<li>'PD1 + LAG3 + TIM3'</li>\n",
       "</ol>\n"
      ],
      "text/latex": [
       "\\begin{enumerate*}\n",
       "\\item 'Patient'\n",
       "\\item 'cycle'\n",
       "\\item 'filename'\n",
       "\\item 'total'\n",
       "\\item 'out\\_of\\_frame'\n",
       "\\item 'stopcodon'\n",
       "\\item 'productive'\n",
       "\\item 'percproductive'\n",
       "\\item 'FOLD'\n",
       "\\item 'ATC'\n",
       "\\item 'Age'\n",
       "\\item 'Disease\\_type'\n",
       "\\item 'TE\\_fold'\n",
       "\\item 'Pass'\n",
       "\\item 'CD3'\n",
       "\\item 'EM'\n",
       "\\item 'CM'\n",
       "\\item 'Naïve'\n",
       "\\item 'SCM'\n",
       "\\item 'TE'\n",
       "\\item 'EM\\%'\n",
       "\\item 'CM\\%'\n",
       "\\item 'Naïve\\%'\n",
       "\\item 'SCM\\%'\n",
       "\\item 'TE\\%'\n",
       "\\item 'Naïve/TE'\n",
       "\\item 'N+CM+SCM/TE+EM'\n",
       "\\item 'PD-1'\n",
       "\\item 'PDL1'\n",
       "\\item 'LAG3'\n",
       "\\item 'TIM3'\n",
       "\\item 'CTLA4'\n",
       "\\item 'PD1\\%'\n",
       "\\item 'PDL1\\%'\n",
       "\\item 'LAG3\\%'\n",
       "\\item 'TIM3\\%'\n",
       "\\item 'CTLA4\\%'\n",
       "\\item 'Any NCR'\n",
       "\\item 'PD1 + LAG3 + TIM3'\n",
       "\\end{enumerate*}\n"
      ],
      "text/markdown": [
       "1. 'Patient'\n",
       "2. 'cycle'\n",
       "3. 'filename'\n",
       "4. 'total'\n",
       "5. 'out_of_frame'\n",
       "6. 'stopcodon'\n",
       "7. 'productive'\n",
       "8. 'percproductive'\n",
       "9. 'FOLD'\n",
       "10. 'ATC'\n",
       "11. 'Age'\n",
       "12. 'Disease_type'\n",
       "13. 'TE_fold'\n",
       "14. 'Pass'\n",
       "15. 'CD3'\n",
       "16. 'EM'\n",
       "17. 'CM'\n",
       "18. 'Naïve'\n",
       "19. 'SCM'\n",
       "20. 'TE'\n",
       "21. 'EM%'\n",
       "22. 'CM%'\n",
       "23. 'Naïve%'\n",
       "24. 'SCM%'\n",
       "25. 'TE%'\n",
       "26. 'Naïve/TE'\n",
       "27. 'N+CM+SCM/TE+EM'\n",
       "28. 'PD-1'\n",
       "29. 'PDL1'\n",
       "30. 'LAG3'\n",
       "31. 'TIM3'\n",
       "32. 'CTLA4'\n",
       "33. 'PD1%'\n",
       "34. 'PDL1%'\n",
       "35. 'LAG3%'\n",
       "36. 'TIM3%'\n",
       "37. 'CTLA4%'\n",
       "38. 'Any NCR'\n",
       "39. 'PD1 + LAG3 + TIM3'\n",
       "\n",
       "\n"
      ],
      "text/plain": [
       " [1] \"Patient\"           \"cycle\"             \"filename\"         \n",
       " [4] \"total\"             \"out_of_frame\"      \"stopcodon\"        \n",
       " [7] \"productive\"        \"percproductive\"    \"FOLD\"             \n",
       "[10] \"ATC\"               \"Age\"               \"Disease_type\"     \n",
       "[13] \"TE_fold\"           \"Pass\"              \"CD3\"              \n",
       "[16] \"EM\"                \"CM\"                \"Naïve\"            \n",
       "[19] \"SCM\"               \"TE\"                \"EM%\"              \n",
       "[22] \"CM%\"               \"Naïve%\"            \"SCM%\"             \n",
       "[25] \"TE%\"               \"Naïve/TE\"          \"N+CM+SCM/TE+EM\"   \n",
       "[28] \"PD-1\"              \"PDL1\"              \"LAG3\"             \n",
       "[31] \"TIM3\"              \"CTLA4\"             \"PD1%\"             \n",
       "[34] \"PDL1%\"             \"LAG3%\"             \"TIM3%\"            \n",
       "[37] \"CTLA4%\"            \"Any NCR\"           \"PD1 + LAG3 + TIM3\""
      ]
     },
     "metadata": {},
     "output_type": "display_data"
    }
   ],
   "source": [
    "colnames(master_merge_clonotypeststats)"
   ]
  },
  {
   "cell_type": "code",
   "execution_count": 46,
   "metadata": {},
   "outputs": [
    {
     "name": "stderr",
     "output_type": "stream",
     "text": [
      "Warning message:\n",
      "“Removed 52 rows containing non-finite values (stat_boxplot).”"
     ]
    },
    {
     "data": {
      "image/png": "[encoded data removed]",
      "text/plain": [
       "plot without title"
      ]
     },
     "metadata": {},
     "output_type": "display_data"
    }
   ],
   "source": [
    "LAG3cyclep"
   ]
  },
  {
   "cell_type": "code",
   "execution_count": 47,
   "metadata": {},
   "outputs": [
    {
     "name": "stderr",
     "output_type": "stream",
     "text": [
      "Warning message:\n",
      "“Removed 53 rows containing non-finite values (stat_boxplot).”"
     ]
    },
    {
     "data": {
      "text/html": [
       "<strong>pdf:</strong> 2"
      ],
      "text/latex": [
       "\\textbf{pdf:} 2"
      ],
      "text/markdown": [
       "**pdf:** 2"
      ],
      "text/plain": [
       "pdf \n",
       "  2 "
      ]
     },
     "metadata": {},
     "output_type": "display_data"
    }
   ],
   "source": [
    "  pdf(file = paste0(plotpath, \"PD1cyclep.pdf\"),\n",
    "    width = 5, \n",
    "    height = 10,\n",
    "    useDingbats = FALSE)\n",
    "    print(PD1cyclep)\n",
    "    dev.off()"
   ]
  },
  {
   "cell_type": "code",
   "execution_count": 48,
   "metadata": {},
   "outputs": [
    {
     "name": "stderr",
     "output_type": "stream",
     "text": [
      "Warning message:\n",
      "“Removed 52 rows containing non-finite values (stat_boxplot).”"
     ]
    },
    {
     "data": {
      "text/html": [
       "<strong>pdf:</strong> 2"
      ],
      "text/latex": [
       "\\textbf{pdf:} 2"
      ],
      "text/markdown": [
       "**pdf:** 2"
      ],
      "text/plain": [
       "pdf \n",
       "  2 "
      ]
     },
     "metadata": {},
     "output_type": "display_data"
    }
   ],
   "source": [
    "  pdf(file = paste0(plotpath, \"LAG3cyclep.pdf\"),\n",
    "    width = 5, \n",
    "    height = 10,\n",
    "    useDingbats = FALSE)\n",
    "    print(LAG3cyclep)\n",
    "    dev.off()"
   ]
  },
  {
   "cell_type": "code",
   "execution_count": 49,
   "metadata": {},
   "outputs": [
    {
     "name": "stderr",
     "output_type": "stream",
     "text": [
      "Warning message:\n",
      "“Removed 53 rows containing non-finite values (stat_boxplot).”"
     ]
    },
    {
     "data": {
      "text/html": [
       "<strong>pdf:</strong> 2"
      ],
      "text/latex": [
       "\\textbf{pdf:} 2"
      ],
      "text/markdown": [
       "**pdf:** 2"
      ],
      "text/plain": [
       "pdf \n",
       "  2 "
      ]
     },
     "metadata": {},
     "output_type": "display_data"
    }
   ],
   "source": [
    "  pdf(file = paste0(plotpath, \"TIM3cyclep.pdf\"),\n",
    "    width = 5, \n",
    "    height = 10,\n",
    "    useDingbats = FALSE)\n",
    "    print(TIM3cyclep)\n",
    "    dev.off()"
   ]
  },
  {
   "cell_type": "markdown",
   "metadata": {},
   "source": [
    "# T-cell subsets over chemo cycles"
   ]
  },
  {
   "cell_type": "code",
   "execution_count": 50,
   "metadata": {},
   "outputs": [
    {
     "data": {
      "text/html": [
       "<ol class=list-inline>\n",
       "\t<li>'Patient'</li>\n",
       "\t<li>'cycle'</li>\n",
       "\t<li>'filename'</li>\n",
       "\t<li>'total'</li>\n",
       "\t<li>'out_of_frame'</li>\n",
       "\t<li>'stopcodon'</li>\n",
       "\t<li>'productive'</li>\n",
       "\t<li>'percproductive'</li>\n",
       "\t<li>'FOLD'</li>\n",
       "\t<li>'ATC'</li>\n",
       "\t<li>'Age'</li>\n",
       "\t<li>'Disease_type'</li>\n",
       "\t<li>'TE_fold'</li>\n",
       "\t<li>'Pass'</li>\n",
       "\t<li>'CD3'</li>\n",
       "\t<li>'EM'</li>\n",
       "\t<li>'CM'</li>\n",
       "\t<li>'Naïve'</li>\n",
       "\t<li>'SCM'</li>\n",
       "\t<li>'TE'</li>\n",
       "\t<li>'EM%'</li>\n",
       "\t<li>'CM%'</li>\n",
       "\t<li>'Naïve%'</li>\n",
       "\t<li>'SCM%'</li>\n",
       "\t<li>'TE%'</li>\n",
       "\t<li>'Naïve/TE'</li>\n",
       "\t<li>'N+CM+SCM/TE+EM'</li>\n",
       "\t<li>'PD-1'</li>\n",
       "\t<li>'PDL1'</li>\n",
       "\t<li>'LAG3'</li>\n",
       "\t<li>'TIM3'</li>\n",
       "\t<li>'CTLA4'</li>\n",
       "\t<li>'PD1%'</li>\n",
       "\t<li>'PDL1%'</li>\n",
       "\t<li>'LAG3%'</li>\n",
       "\t<li>'TIM3%'</li>\n",
       "\t<li>'CTLA4%'</li>\n",
       "\t<li>'Any NCR'</li>\n",
       "\t<li>'PD1 + LAG3 + TIM3'</li>\n",
       "</ol>\n"
      ],
      "text/latex": [
       "\\begin{enumerate*}\n",
       "\\item 'Patient'\n",
       "\\item 'cycle'\n",
       "\\item 'filename'\n",
       "\\item 'total'\n",
       "\\item 'out\\_of\\_frame'\n",
       "\\item 'stopcodon'\n",
       "\\item 'productive'\n",
       "\\item 'percproductive'\n",
       "\\item 'FOLD'\n",
       "\\item 'ATC'\n",
       "\\item 'Age'\n",
       "\\item 'Disease\\_type'\n",
       "\\item 'TE\\_fold'\n",
       "\\item 'Pass'\n",
       "\\item 'CD3'\n",
       "\\item 'EM'\n",
       "\\item 'CM'\n",
       "\\item 'Naïve'\n",
       "\\item 'SCM'\n",
       "\\item 'TE'\n",
       "\\item 'EM\\%'\n",
       "\\item 'CM\\%'\n",
       "\\item 'Naïve\\%'\n",
       "\\item 'SCM\\%'\n",
       "\\item 'TE\\%'\n",
       "\\item 'Naïve/TE'\n",
       "\\item 'N+CM+SCM/TE+EM'\n",
       "\\item 'PD-1'\n",
       "\\item 'PDL1'\n",
       "\\item 'LAG3'\n",
       "\\item 'TIM3'\n",
       "\\item 'CTLA4'\n",
       "\\item 'PD1\\%'\n",
       "\\item 'PDL1\\%'\n",
       "\\item 'LAG3\\%'\n",
       "\\item 'TIM3\\%'\n",
       "\\item 'CTLA4\\%'\n",
       "\\item 'Any NCR'\n",
       "\\item 'PD1 + LAG3 + TIM3'\n",
       "\\end{enumerate*}\n"
      ],
      "text/markdown": [
       "1. 'Patient'\n",
       "2. 'cycle'\n",
       "3. 'filename'\n",
       "4. 'total'\n",
       "5. 'out_of_frame'\n",
       "6. 'stopcodon'\n",
       "7. 'productive'\n",
       "8. 'percproductive'\n",
       "9. 'FOLD'\n",
       "10. 'ATC'\n",
       "11. 'Age'\n",
       "12. 'Disease_type'\n",
       "13. 'TE_fold'\n",
       "14. 'Pass'\n",
       "15. 'CD3'\n",
       "16. 'EM'\n",
       "17. 'CM'\n",
       "18. 'Naïve'\n",
       "19. 'SCM'\n",
       "20. 'TE'\n",
       "21. 'EM%'\n",
       "22. 'CM%'\n",
       "23. 'Naïve%'\n",
       "24. 'SCM%'\n",
       "25. 'TE%'\n",
       "26. 'Naïve/TE'\n",
       "27. 'N+CM+SCM/TE+EM'\n",
       "28. 'PD-1'\n",
       "29. 'PDL1'\n",
       "30. 'LAG3'\n",
       "31. 'TIM3'\n",
       "32. 'CTLA4'\n",
       "33. 'PD1%'\n",
       "34. 'PDL1%'\n",
       "35. 'LAG3%'\n",
       "36. 'TIM3%'\n",
       "37. 'CTLA4%'\n",
       "38. 'Any NCR'\n",
       "39. 'PD1 + LAG3 + TIM3'\n",
       "\n",
       "\n"
      ],
      "text/plain": [
       " [1] \"Patient\"           \"cycle\"             \"filename\"         \n",
       " [4] \"total\"             \"out_of_frame\"      \"stopcodon\"        \n",
       " [7] \"productive\"        \"percproductive\"    \"FOLD\"             \n",
       "[10] \"ATC\"               \"Age\"               \"Disease_type\"     \n",
       "[13] \"TE_fold\"           \"Pass\"              \"CD3\"              \n",
       "[16] \"EM\"                \"CM\"                \"Naïve\"            \n",
       "[19] \"SCM\"               \"TE\"                \"EM%\"              \n",
       "[22] \"CM%\"               \"Naïve%\"            \"SCM%\"             \n",
       "[25] \"TE%\"               \"Naïve/TE\"          \"N+CM+SCM/TE+EM\"   \n",
       "[28] \"PD-1\"              \"PDL1\"              \"LAG3\"             \n",
       "[31] \"TIM3\"              \"CTLA4\"             \"PD1%\"             \n",
       "[34] \"PDL1%\"             \"LAG3%\"             \"TIM3%\"            \n",
       "[37] \"CTLA4%\"            \"Any NCR\"           \"PD1 + LAG3 + TIM3\""
      ]
     },
     "metadata": {},
     "output_type": "display_data"
    }
   ],
   "source": [
    "colnames(master_merge_clonotypeststats)"
   ]
  },
  {
   "cell_type": "code",
   "execution_count": 52,
   "metadata": {},
   "outputs": [],
   "source": [
    "Naivecyclep <- ggplot(data = master_merge_clonotypeststats) + \n",
    "geom_boxplot(aes(x = cycle, y = `Naïve%`), \n",
    "             fill = \"light grey\", outlier.size = 5) + \n",
    "scale_y_continuous(limits = c(0,100)) +\n",
    "mytheme"
   ]
  },
  {
   "cell_type": "code",
   "execution_count": 54,
   "metadata": {},
   "outputs": [],
   "source": [
    "SCMcyclep <- ggplot(data = master_merge_clonotypeststats) + \n",
    "geom_boxplot(aes(x = cycle, y = `SCM%`), \n",
    "             fill = \"light grey\", outlier.size = 5) + \n",
    "scale_y_continuous(limits = c(0,100)) +\n",
    "mytheme"
   ]
  },
  {
   "cell_type": "code",
   "execution_count": 55,
   "metadata": {},
   "outputs": [],
   "source": [
    "CMcyclep <- ggplot(data = master_merge_clonotypeststats) + \n",
    "geom_boxplot(aes(x = cycle, y = `CM%`), \n",
    "             fill = \"light grey\", outlier.size = 5) + \n",
    "scale_y_continuous(limits = c(0,100)) +\n",
    "mytheme"
   ]
  },
  {
   "cell_type": "code",
   "execution_count": 56,
   "metadata": {},
   "outputs": [],
   "source": [
    "EMcyclep <- ggplot(data = master_merge_clonotypeststats) + \n",
    "geom_boxplot(aes(x = cycle, y = `EM%`), \n",
    "             fill = \"light grey\", outlier.size = 5) + \n",
    "scale_y_continuous(limits = c(0,100)) +\n",
    "mytheme"
   ]
  },
  {
   "cell_type": "code",
   "execution_count": 57,
   "metadata": {},
   "outputs": [],
   "source": [
    "TEcyclep <- ggplot(data = master_merge_clonotypeststats) + \n",
    "geom_boxplot(aes(x = cycle, y = `TE%`), \n",
    "             fill = \"light grey\", outlier.size = 5) + \n",
    "scale_y_continuous(limits = c(0,100)) +\n",
    "mytheme"
   ]
  },
  {
   "cell_type": "code",
   "execution_count": 59,
   "metadata": {},
   "outputs": [
    {
     "name": "stderr",
     "output_type": "stream",
     "text": [
      "Warning message:\n",
      "“Removed 47 rows containing non-finite values (stat_boxplot).”"
     ]
    },
    {
     "data": {
      "text/html": [
       "<strong>pdf:</strong> 2"
      ],
      "text/latex": [
       "\\textbf{pdf:} 2"
      ],
      "text/markdown": [
       "**pdf:** 2"
      ],
      "text/plain": [
       "pdf \n",
       "  2 "
      ]
     },
     "metadata": {},
     "output_type": "display_data"
    }
   ],
   "source": [
    "pdf(file = paste0(plotpath, \"Naivecyclep.pdf\"),\n",
    "    width = 5, \n",
    "    height = 10,\n",
    "    useDingbats = FALSE)\n",
    "    print(Naivecyclep)\n",
    "    dev.off()"
   ]
  },
  {
   "cell_type": "code",
   "execution_count": 60,
   "metadata": {},
   "outputs": [
    {
     "name": "stderr",
     "output_type": "stream",
     "text": [
      "Warning message:\n",
      "“Removed 47 rows containing non-finite values (stat_boxplot).”"
     ]
    },
    {
     "data": {
      "text/html": [
       "<strong>pdf:</strong> 2"
      ],
      "text/latex": [
       "\\textbf{pdf:} 2"
      ],
      "text/markdown": [
       "**pdf:** 2"
      ],
      "text/plain": [
       "pdf \n",
       "  2 "
      ]
     },
     "metadata": {},
     "output_type": "display_data"
    }
   ],
   "source": [
    "pdf(file = paste0(plotpath, \"SCMcyclep.pdf\"),\n",
    "    width = 5, \n",
    "    height = 10,\n",
    "    useDingbats = FALSE)\n",
    "    print(SCMcyclep)\n",
    "    dev.off()"
   ]
  },
  {
   "cell_type": "code",
   "execution_count": 61,
   "metadata": {},
   "outputs": [
    {
     "name": "stderr",
     "output_type": "stream",
     "text": [
      "Warning message:\n",
      "“Removed 47 rows containing non-finite values (stat_boxplot).”"
     ]
    },
    {
     "data": {
      "text/html": [
       "<strong>pdf:</strong> 2"
      ],
      "text/latex": [
       "\\textbf{pdf:} 2"
      ],
      "text/markdown": [
       "**pdf:** 2"
      ],
      "text/plain": [
       "pdf \n",
       "  2 "
      ]
     },
     "metadata": {},
     "output_type": "display_data"
    }
   ],
   "source": [
    "pdf(file = paste0(plotpath, \"CMcyclep.pdf\"),\n",
    "    width = 5, \n",
    "    height = 10,\n",
    "    useDingbats = FALSE)\n",
    "    print(CMcyclep)\n",
    "    dev.off()"
   ]
  },
  {
   "cell_type": "code",
   "execution_count": 62,
   "metadata": {},
   "outputs": [
    {
     "name": "stderr",
     "output_type": "stream",
     "text": [
      "Warning message:\n",
      "“Removed 47 rows containing non-finite values (stat_boxplot).”"
     ]
    },
    {
     "data": {
      "text/html": [
       "<strong>pdf:</strong> 2"
      ],
      "text/latex": [
       "\\textbf{pdf:} 2"
      ],
      "text/markdown": [
       "**pdf:** 2"
      ],
      "text/plain": [
       "pdf \n",
       "  2 "
      ]
     },
     "metadata": {},
     "output_type": "display_data"
    }
   ],
   "source": [
    "pdf(file = paste0(plotpath, \"EMcyclep.pdf\"),\n",
    "    width = 5, \n",
    "    height = 10,\n",
    "    useDingbats = FALSE)\n",
    "    print(EMcyclep)\n",
    "    dev.off()"
   ]
  },
  {
   "cell_type": "code",
   "execution_count": 63,
   "metadata": {},
   "outputs": [
    {
     "name": "stderr",
     "output_type": "stream",
     "text": [
      "Warning message:\n",
      "“Removed 47 rows containing non-finite values (stat_boxplot).”"
     ]
    },
    {
     "data": {
      "text/html": [
       "<strong>pdf:</strong> 2"
      ],
      "text/latex": [
       "\\textbf{pdf:} 2"
      ],
      "text/markdown": [
       "**pdf:** 2"
      ],
      "text/plain": [
       "pdf \n",
       "  2 "
      ]
     },
     "metadata": {},
     "output_type": "display_data"
    }
   ],
   "source": [
    "pdf(file = paste0(plotpath, \"TEcyclep.pdf\"),\n",
    "    width = 5, \n",
    "    height = 10,\n",
    "    useDingbats = FALSE)\n",
    "    print(TEcyclep)\n",
    "    dev.off()"
   ]
  },
  {
   "cell_type": "markdown",
   "metadata": {},
   "source": [
    "# Total clonotypes changes over chemo cycles"
   ]
  },
  {
   "cell_type": "code",
   "execution_count": 65,
   "metadata": {},
   "outputs": [],
   "source": [
    "totaltrb <- ggplot(data = master_merge_clonotypeststats) + \n",
    "geom_boxplot(aes(x = cycle, y = total), \n",
    "             fill = \"light grey\", outlier.size = 5) + \n",
    "mytheme"
   ]
  },
  {
   "cell_type": "code",
   "execution_count": 70,
   "metadata": {},
   "outputs": [],
   "source": [
    "percproductivetrb <- ggplot(data = master_merge_clonotypeststats) + \n",
    "geom_boxplot(aes(x = cycle, y = percproductive), \n",
    "             fill = \"light grey\", outlier.size = 5) + \n",
    "mytheme"
   ]
  },
  {
   "cell_type": "code",
   "execution_count": 72,
   "metadata": {},
   "outputs": [
    {
     "data": {
      "text/html": [
       "<strong>pdf:</strong> 2"
      ],
      "text/latex": [
       "\\textbf{pdf:} 2"
      ],
      "text/markdown": [
       "**pdf:** 2"
      ],
      "text/plain": [
       "pdf \n",
       "  2 "
      ]
     },
     "metadata": {},
     "output_type": "display_data"
    }
   ],
   "source": [
    "pdf(file = paste0(plotpath, \"totaltrb.pdf\"),\n",
    "    width = 5, \n",
    "    height = 10,\n",
    "    useDingbats = FALSE)\n",
    "    print(totaltrb)\n",
    "    dev.off()"
   ]
  },
  {
   "cell_type": "code",
   "execution_count": 73,
   "metadata": {},
   "outputs": [
    {
     "data": {
      "text/html": [
       "<strong>pdf:</strong> 2"
      ],
      "text/latex": [
       "\\textbf{pdf:} 2"
      ],
      "text/markdown": [
       "**pdf:** 2"
      ],
      "text/plain": [
       "pdf \n",
       "  2 "
      ]
     },
     "metadata": {},
     "output_type": "display_data"
    }
   ],
   "source": [
    "pdf(file = paste0(plotpath, \"percproductivetrb.pdf\"),\n",
    "    width = 5, \n",
    "    height = 10,\n",
    "    useDingbats = FALSE)\n",
    "    print(percproductivetrb)\n",
    "    dev.off()"
   ]
  },
  {
   "cell_type": "code",
   "execution_count": null,
   "metadata": {},
   "outputs": [],
   "source": []
  }
 ],
 "metadata": {
  "kernelspec": {
   "display_name": "R",
   "language": "R",
   "name": "ir"
  },
  "language_info": {
   "codemirror_mode": "r",
   "file_extension": ".r",
   "mimetype": "text/x-r-source",
   "name": "R",
   "pygments_lexer": "r",
   "version": "3.5.1"
  },
  "toc": {
   "base_numbering": 1,
   "nav_menu": {},
   "number_sections": false,
   "sideBar": true,
   "skip_h1_title": false,
   "title_cell": "Table of Contents",
   "title_sidebar": "Contents",
   "toc_cell": true,
   "toc_position": {
    "height": "calc(100% - 180px)",
    "left": "10px",
    "top": "150px",
    "width": "232.339px"
   },
   "toc_section_display": true,
   "toc_window_display": true
  }
 },
 "nbformat": 4,
 "nbformat_minor": 2
}
