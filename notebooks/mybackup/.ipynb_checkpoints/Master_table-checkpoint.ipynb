{
 "cells": [
  {
   "cell_type": "markdown",
   "metadata": {
    "toc": true
   },
   "source": [
    "<h1>Table of Contents<span class=\"tocSkip\"></span></h1>\n",
    "<div class=\"toc\"><ul class=\"toc-item\"></ul></div>"
   ]
  },
  {
   "cell_type": "code",
   "execution_count": 1,
   "metadata": {
    "scrolled": true
   },
   "outputs": [],
   "source": [
    "library(ggplot2)"
   ]
  },
  {
   "cell_type": "code",
   "execution_count": 2,
   "metadata": {},
   "outputs": [],
   "source": [
    "plotpath <- \"/Users/anabbi/OneDrive - UHN/Documents/INTERCEPT/Plots/\"\n",
    "datapath <- \"/Users/anabbi/OneDrive - UHN/Documents/INTERCEPT/Data/\""
   ]
  },
  {
   "cell_type": "code",
   "execution_count": 3,
   "metadata": {},
   "outputs": [],
   "source": [
    "masterfile <- read.csv(paste0(datapath, \"ATC_Tcells_NCR.csv\"),header = T, check.names = F,\n",
    "                      colClasses = c(\"Patient\" = \"character\", \"cycle\" = \"character\"))"
   ]
  },
  {
   "cell_type": "code",
   "execution_count": 4,
   "metadata": {},
   "outputs": [
    {
     "data": {
      "text/html": [
       "<table>\n",
       "<caption>A data.frame: 6 × 34</caption>\n",
       "<thead>\n",
       "\t<tr><th scope=col>Patient</th><th scope=col>cycle</th><th scope=col>FOLD</th><th scope=col>ATC</th><th scope=col>Age</th><th scope=col>Disease_type</th><th scope=col>TE_fold</th><th scope=col>Pass</th><th scope=col>CD3</th><th scope=col>EM</th><th scope=col>⋯</th><th scope=col>TIM3</th><th scope=col>CTLA4</th><th scope=col>PD1%</th><th scope=col>PDL1%</th><th scope=col>LAG3%</th><th scope=col>TIM3%</th><th scope=col>CTLA4%</th><th scope=col>Any NCR</th><th scope=col>PD1 + LAG3 + TIM3</th><th scope=col>group</th></tr>\n",
       "\t<tr><th scope=col>&lt;chr&gt;</th><th scope=col>&lt;chr&gt;</th><th scope=col>&lt;dbl&gt;</th><th scope=col>&lt;dbl&gt;</th><th scope=col>&lt;dbl&gt;</th><th scope=col>&lt;fct&gt;</th><th scope=col>&lt;fct&gt;</th><th scope=col>&lt;lgl&gt;</th><th scope=col>&lt;int&gt;</th><th scope=col>&lt;int&gt;</th><th scope=col>⋯</th><th scope=col>&lt;int&gt;</th><th scope=col>&lt;int&gt;</th><th scope=col>&lt;dbl&gt;</th><th scope=col>&lt;dbl&gt;</th><th scope=col>&lt;dbl&gt;</th><th scope=col>&lt;dbl&gt;</th><th scope=col>&lt;dbl&gt;</th><th scope=col>&lt;dbl&gt;</th><th scope=col>&lt;dbl&gt;</th><th scope=col>&lt;fct&gt;</th></tr>\n",
       "</thead>\n",
       "<tbody>\n",
       "\t<tr><td>330</td><td>01</td><td>0.9</td><td>0</td><td>5</td><td>OS    </td><td>0.9</td><td>NA</td><td>2437</td><td> 24</td><td>⋯</td><td>113</td><td>NA</td><td> 4.636849</td><td>NA</td><td> 2.749282</td><td> 4.636849</td><td>NA</td><td>NA</td><td>NA</td><td>Solid   </td></tr>\n",
       "\t<tr><td>330</td><td>02</td><td>1.9</td><td>0</td><td>5</td><td>OS    </td><td>1.9</td><td>NA</td><td>2425</td><td> 21</td><td>⋯</td><td>530</td><td>NA</td><td>21.855670</td><td>NA</td><td>11.752577</td><td>21.855670</td><td>NA</td><td>NA</td><td>NA</td><td>Solid   </td></tr>\n",
       "\t<tr><td>330</td><td>03</td><td>1.5</td><td>0</td><td>5</td><td>OS    </td><td>1.5</td><td>NA</td><td> 544</td><td> 17</td><td>⋯</td><td> 54</td><td>NA</td><td>      Inf</td><td>NA</td><td>      Inf</td><td>      Inf</td><td>NA</td><td>NA</td><td>NA</td><td>Solid   </td></tr>\n",
       "\t<tr><td>330</td><td>04</td><td>4.1</td><td>0</td><td>5</td><td>OS    </td><td>4.1</td><td>NA</td><td>2484</td><td>125</td><td>⋯</td><td>218</td><td>NA</td><td> 8.776167</td><td>NA</td><td> 1.610306</td><td> 8.776167</td><td>NA</td><td>NA</td><td>NA</td><td>Solid   </td></tr>\n",
       "\t<tr><td>330</td><td>05</td><td>6.2</td><td>0</td><td>5</td><td>OS    </td><td>6.2</td><td>NA</td><td>   0</td><td> NA</td><td>⋯</td><td> -1</td><td>NA</td><td>     -Inf</td><td>NA</td><td>     -Inf</td><td>     -Inf</td><td>NA</td><td>NA</td><td>NA</td><td>Solid   </td></tr>\n",
       "\t<tr><td>331</td><td>01</td><td>0.0</td><td>0</td><td>5</td><td>SR ALL</td><td>0  </td><td>NA</td><td>   0</td><td> NA</td><td>⋯</td><td> NA</td><td>NA</td><td>       NA</td><td>NA</td><td>       NA</td><td>       NA</td><td>NA</td><td>NA</td><td>NA</td><td>Leukemia</td></tr>\n",
       "</tbody>\n",
       "</table>\n"
      ],
      "text/latex": [
       "A data.frame: 6 × 34\n",
       "\\begin{tabular}{r|llllllllllllllllllllllllllllllllll}\n",
       " Patient & cycle & FOLD & ATC & Age & Disease\\_type & TE\\_fold & Pass & CD3 & EM & CM & Naïve & SCM & TE & EM\\% & CM\\% & Naïve\\% & SCM\\% & TE\\% & Naïve/TE & N+CM+SCM/TE+EM & PD-1 & PDL1 & LAG3 & TIM3 & CTLA4 & PD1\\% & PDL1\\% & LAG3\\% & TIM3\\% & CTLA4\\% & Any NCR & PD1 + LAG3 + TIM3 & group\\\\\n",
       " <chr> & <chr> & <dbl> & <dbl> & <dbl> & <fct> & <fct> & <lgl> & <int> & <int> & <int> & <int> & <int> & <int> & <dbl> & <dbl> & <dbl> & <dbl> & <dbl> & <dbl> & <dbl> & <int> & <int> & <int> & <int> & <int> & <dbl> & <dbl> & <dbl> & <dbl> & <dbl> & <dbl> & <dbl> & <fct>\\\\\n",
       "\\hline\n",
       "\t 330 & 01 & 0.9 & 0 & 5 & OS     & 0.9 & NA & 2437 &  24 &  65 &  315 & 187 & 1846 & 0.9848174 &  2.667214 & 12.92573 &  7.673369 & 75.74887 & 0.1706392 & 0.3032086 & 113 & NA &  67 & 113 & NA &  4.636849 & NA &  2.749282 &  4.636849 & NA & NA & NA & Solid   \\\\\n",
       "\t 330 & 02 & 1.9 & 0 & 5 & OS     & 1.9 & NA & 2425 &  21 & 512 &  773 & 272 &  847 & 0.8659794 & 21.113402 & 31.87629 & 11.216495 & 34.92784 & 0.9126328 & 1.7937788 & 530 & NA & 285 & 530 & NA & 21.855670 & NA & 11.752577 & 21.855670 & NA & NA & NA & Solid   \\\\\n",
       "\t 330 & 03 & 1.5 & 0 & 5 & OS     & 1.5 & NA &  544 &  17 &  65 &  330 &   8 &  124 & 3.1250000 & 11.948529 & 60.66176 &  1.470588 & 22.79412 & 2.6612903 & 2.8581560 &  54 & NA &  26 &  54 & NA &       Inf & NA &       Inf &       Inf & NA & NA & NA & Solid   \\\\\n",
       "\t 330 & 04 & 4.1 & 0 & 5 & OS     & 4.1 & NA & 2484 & 125 & 217 & 1584 &  54 &  504 & 5.0322061 &  8.735910 & 63.76812 &  2.173913 & 20.28986 & 3.1428571 & 2.9491256 & 218 & NA &  40 & 218 & NA &  8.776167 & NA &  1.610306 &  8.776167 & NA & NA & NA & Solid   \\\\\n",
       "\t 330 & 05 & 6.2 & 0 & 5 & OS     & 6.2 & NA &    0 &  NA &  NA &   NA &  NA &   NA &        NA &        NA &       NA &        NA &       NA &        NA &        NA &  -1 & NA &  -1 &  -1 & NA &      -Inf & NA &      -Inf &      -Inf & NA & NA & NA & Solid   \\\\\n",
       "\t 331 & 01 & 0.0 & 0 & 5 & SR ALL & 0   & NA &    0 &  NA &  NA &   NA &  NA &   NA &        NA &        NA &       NA &        NA &       NA &        NA &        NA &  NA & NA &  NA &  NA & NA &        NA & NA &        NA &        NA & NA & NA & NA & Leukemia\\\\\n",
       "\\end{tabular}\n"
      ],
      "text/markdown": [
       "\n",
       "A data.frame: 6 × 34\n",
       "\n",
       "| Patient &lt;chr&gt; | cycle &lt;chr&gt; | FOLD &lt;dbl&gt; | ATC &lt;dbl&gt; | Age &lt;dbl&gt; | Disease_type &lt;fct&gt; | TE_fold &lt;fct&gt; | Pass &lt;lgl&gt; | CD3 &lt;int&gt; | EM &lt;int&gt; | ⋯ ⋯ | TIM3 &lt;int&gt; | CTLA4 &lt;int&gt; | PD1% &lt;dbl&gt; | PDL1% &lt;dbl&gt; | LAG3% &lt;dbl&gt; | TIM3% &lt;dbl&gt; | CTLA4% &lt;dbl&gt; | Any NCR &lt;dbl&gt; | PD1 + LAG3 + TIM3 &lt;dbl&gt; | group &lt;fct&gt; |\n",
       "|---|---|---|---|---|---|---|---|---|---|---|---|---|---|---|---|---|---|---|---|---|\n",
       "| 330 | 01 | 0.9 | 0 | 5 | OS     | 0.9 | NA | 2437 |  24 | ⋯ | 113 | NA |  4.636849 | NA |  2.749282 |  4.636849 | NA | NA | NA | Solid    |\n",
       "| 330 | 02 | 1.9 | 0 | 5 | OS     | 1.9 | NA | 2425 |  21 | ⋯ | 530 | NA | 21.855670 | NA | 11.752577 | 21.855670 | NA | NA | NA | Solid    |\n",
       "| 330 | 03 | 1.5 | 0 | 5 | OS     | 1.5 | NA |  544 |  17 | ⋯ |  54 | NA |       Inf | NA |       Inf |       Inf | NA | NA | NA | Solid    |\n",
       "| 330 | 04 | 4.1 | 0 | 5 | OS     | 4.1 | NA | 2484 | 125 | ⋯ | 218 | NA |  8.776167 | NA |  1.610306 |  8.776167 | NA | NA | NA | Solid    |\n",
       "| 330 | 05 | 6.2 | 0 | 5 | OS     | 6.2 | NA |    0 |  NA | ⋯ |  -1 | NA |      -Inf | NA |      -Inf |      -Inf | NA | NA | NA | Solid    |\n",
       "| 331 | 01 | 0.0 | 0 | 5 | SR ALL | 0   | NA |    0 |  NA | ⋯ |  NA | NA |        NA | NA |        NA |        NA | NA | NA | NA | Leukemia |\n",
       "\n"
      ],
      "text/plain": [
       "  Patient cycle FOLD ATC Age Disease_type TE_fold Pass CD3  EM  ⋯ TIM3 CTLA4\n",
       "1 330     01    0.9  0   5   OS           0.9     NA   2437  24 ⋯ 113  NA   \n",
       "2 330     02    1.9  0   5   OS           1.9     NA   2425  21 ⋯ 530  NA   \n",
       "3 330     03    1.5  0   5   OS           1.5     NA    544  17 ⋯  54  NA   \n",
       "4 330     04    4.1  0   5   OS           4.1     NA   2484 125 ⋯ 218  NA   \n",
       "5 330     05    6.2  0   5   OS           6.2     NA      0  NA ⋯  -1  NA   \n",
       "6 331     01    0.0  0   5   SR ALL       0       NA      0  NA ⋯  NA  NA   \n",
       "  PD1%      PDL1% LAG3%     TIM3%     CTLA4% Any NCR PD1 + LAG3 + TIM3 group   \n",
       "1  4.636849 NA     2.749282  4.636849 NA     NA      NA                Solid   \n",
       "2 21.855670 NA    11.752577 21.855670 NA     NA      NA                Solid   \n",
       "3       Inf NA          Inf       Inf NA     NA      NA                Solid   \n",
       "4  8.776167 NA     1.610306  8.776167 NA     NA      NA                Solid   \n",
       "5      -Inf NA         -Inf      -Inf NA     NA      NA                Solid   \n",
       "6        NA NA           NA        NA NA     NA      NA                Leukemia"
      ]
     },
     "metadata": {},
     "output_type": "display_data"
    }
   ],
   "source": [
    "head(masterfile)"
   ]
  },
  {
   "cell_type": "markdown",
   "metadata": {},
   "source": [
    "pbmc"
   ]
  },
  {
   "cell_type": "code",
   "execution_count": 5,
   "metadata": {},
   "outputs": [],
   "source": [
    "mystatslist <- list.files(datapath,recursive = TRUE,pattern = \"divstats\") \n",
    "\n",
    "# only specified chain\n",
    "    \n",
    "mystatslist <- mystatslist[grepl(\"TRB\", mystatslist)]\n",
    " # only PBMC\n",
    "mystatslist <- mystatslist[!grepl(\"cfDNA\", mystatslist)]\n",
    "mystatslist <- mystatslist[!grepl(\"FFPE\", mystatslist)]   \n",
    "mystatslist <- mystatslist[!grepl(\"reseq\", mystatslist)] \n",
    "mystatslist <- mystatslist[!grepl(\"Normal\", mystatslist)]\n",
    "\n",
    "all.statsfiles <- lapply(mystatslist, function(f){ read.csv(paste0(datapath,f), header = TRUE, stringsAsFactors = F)})\n",
    "\n",
    "div_trb <- as.data.frame(do.call(rbind, all.statsfiles))\n",
    "\n",
    "# Only CHP samples\n",
    "div_trb <- div_trb[grepl(\"CHP\", div_trb$X),]\n",
    "\n",
    "div_trb$Patient <- substr(div_trb$X, 5,7)\n",
    "div_trb$cycle <- substr(div_trb$X, 9,10)"
   ]
  },
  {
   "cell_type": "code",
   "execution_count": 6,
   "metadata": {},
   "outputs": [
    {
     "data": {
      "text/html": [
       "<table>\n",
       "<caption>A data.frame: 6 × 22</caption>\n",
       "<thead>\n",
       "\t<tr><th scope=col>X</th><th scope=col>TRB</th><th scope=col>Reads</th><th scope=col>CPKR</th><th scope=col>Average_reads</th><th scope=col>VMR</th><th scope=col>Max_reads</th><th scope=col>Singletons</th><th scope=col>Doubletons</th><th scope=col>qD</th><th scope=col>⋯</th><th scope=col>estimated_Richness</th><th scope=col>SE_Richeness</th><th scope=col>observed_Shannon</th><th scope=col>estimated_Shannon</th><th scope=col>SE_Shannon</th><th scope=col>observed_Simpson</th><th scope=col>estimated_Simpson</th><th scope=col>SE_Simpson</th><th scope=col>Patient</th><th scope=col>cycle</th></tr>\n",
       "\t<tr><th scope=col>&lt;chr&gt;</th><th scope=col>&lt;int&gt;</th><th scope=col>&lt;int&gt;</th><th scope=col>&lt;dbl&gt;</th><th scope=col>&lt;dbl&gt;</th><th scope=col>&lt;dbl&gt;</th><th scope=col>&lt;int&gt;</th><th scope=col>&lt;int&gt;</th><th scope=col>&lt;int&gt;</th><th scope=col>&lt;dbl&gt;</th><th scope=col>⋯</th><th scope=col>&lt;dbl&gt;</th><th scope=col>&lt;dbl&gt;</th><th scope=col>&lt;dbl&gt;</th><th scope=col>&lt;dbl&gt;</th><th scope=col>&lt;dbl&gt;</th><th scope=col>&lt;dbl&gt;</th><th scope=col>&lt;dbl&gt;</th><th scope=col>&lt;dbl&gt;</th><th scope=col>&lt;chr&gt;</th><th scope=col>&lt;chr&gt;</th></tr>\n",
       "</thead>\n",
       "<tbody>\n",
       "\t<tr><td>CHP_346-01-PBMC-DNA_2000000</td><td> 49</td><td> 947</td><td> 51.74234</td><td>19.326531</td><td>0.6812514</td><td>66</td><td> 2</td><td> 1</td><td> 50.263</td><td>⋯</td><td> 50.998</td><td> 3.738</td><td> 39.844</td><td> 40.938</td><td>0.909</td><td> 33.685</td><td> 34.891</td><td>1.380</td><td>346</td><td>01</td></tr>\n",
       "\t<tr><td>CHP_348-03-PBMC-DNA_2000000</td><td>142</td><td>1538</td><td> 92.32770</td><td>10.830986</td><td>1.0462441</td><td>81</td><td>12</td><td> 4</td><td>150.755</td><td>⋯</td><td>159.988</td><td>14.379</td><td> 99.392</td><td>104.850</td><td>2.439</td><td> 68.043</td><td> 71.146</td><td>3.720</td><td>348</td><td>03</td></tr>\n",
       "\t<tr><td>CHP_348-04-PBMC-DNA_2000000</td><td> 48</td><td> 493</td><td> 97.36308</td><td>10.270833</td><td>0.7251967</td><td>32</td><td> 5</td><td> 2</td><td> 51.437</td><td>⋯</td><td> 54.237</td><td> 7.537</td><td> 37.323</td><td> 39.489</td><td>1.245</td><td> 31.684</td><td> 33.792</td><td>1.579</td><td>348</td><td>04</td></tr>\n",
       "\t<tr><td>CHP_349-01-PBMC-DNA_2000000</td><td> 15</td><td> 100</td><td>150.00000</td><td> 6.666667</td><td>0.4629100</td><td>15</td><td> 0</td><td> 1</td><td> 15.000</td><td>⋯</td><td> 15.000</td><td> 0.452</td><td> 13.629</td><td> 14.651</td><td>0.628</td><td> 12.500</td><td> 14.143</td><td>1.139</td><td>349</td><td>01</td></tr>\n",
       "\t<tr><td>CHP_349-02-PBMC-DNA_2000000</td><td> 91</td><td> 848</td><td>107.31132</td><td> 9.318681</td><td>1.0369577</td><td>55</td><td>11</td><td> 4</td><td> 98.811</td><td>⋯</td><td>106.107</td><td>12.456</td><td> 62.042</td><td> 66.197</td><td>2.099</td><td> 44.101</td><td> 46.465</td><td>2.568</td><td>349</td><td>02</td></tr>\n",
       "\t<tr><td>CHP_350-03-PBMC-DNA_2000000</td><td>192</td><td> 964</td><td>199.17012</td><td> 5.020833</td><td>0.7521499</td><td>22</td><td>31</td><td>23</td><td>208.139</td><td>⋯</td><td>212.870</td><td> 9.798</td><td>150.327</td><td>169.374</td><td>4.093</td><td>122.858</td><td>140.656</td><td>5.197</td><td>350</td><td>03</td></tr>\n",
       "</tbody>\n",
       "</table>\n"
      ],
      "text/latex": [
       "A data.frame: 6 × 22\n",
       "\\begin{tabular}{r|llllllllllllllllllllll}\n",
       " X & TRB & Reads & CPKR & Average\\_reads & VMR & Max\\_reads & Singletons & Doubletons & qD & Sample\\_Coverage & observed\\_Richness & estimated\\_Richness & SE\\_Richeness & observed\\_Shannon & estimated\\_Shannon & SE\\_Shannon & observed\\_Simpson & estimated\\_Simpson & SE\\_Simpson & Patient & cycle\\\\\n",
       " <chr> & <int> & <int> & <dbl> & <dbl> & <dbl> & <int> & <int> & <int> & <dbl> & <dbl> & <int> & <dbl> & <dbl> & <dbl> & <dbl> & <dbl> & <dbl> & <dbl> & <dbl> & <chr> & <chr>\\\\\n",
       "\\hline\n",
       "\t CHP\\_346-01-PBMC-DNA\\_2000000 &  49 &  947 &  51.74234 & 19.326531 & 0.6812514 & 66 &  2 &  1 &  50.263 & 0.999 &  49 &  50.998 &  3.738 &  39.844 &  40.938 & 0.909 &  33.685 &  34.891 & 1.380 & 346 & 01\\\\\n",
       "\t CHP\\_348-03-PBMC-DNA\\_2000000 & 142 & 1538 &  92.32770 & 10.830986 & 1.0462441 & 81 & 12 &  4 & 150.755 & 0.996 & 142 & 159.988 & 14.379 &  99.392 & 104.850 & 2.439 &  68.043 &  71.146 & 3.720 & 348 & 03\\\\\n",
       "\t CHP\\_348-04-PBMC-DNA\\_2000000 &  48 &  493 &  97.36308 & 10.270833 & 0.7251967 & 32 &  5 &  2 &  51.437 & 0.995 &  48 &  54.237 &  7.537 &  37.323 &  39.489 & 1.245 &  31.684 &  33.792 & 1.579 & 348 & 04\\\\\n",
       "\t CHP\\_349-01-PBMC-DNA\\_2000000 &  15 &  100 & 150.00000 &  6.666667 & 0.4629100 & 15 &  0 &  1 &  15.000 & 1.000 &  15 &  15.000 &  0.452 &  13.629 &  14.651 & 0.628 &  12.500 &  14.143 & 1.139 & 349 & 01\\\\\n",
       "\t CHP\\_349-02-PBMC-DNA\\_2000000 &  91 &  848 & 107.31132 &  9.318681 & 1.0369577 & 55 & 11 &  4 &  98.811 & 0.994 &  91 & 106.107 & 12.456 &  62.042 &  66.197 & 2.099 &  44.101 &  46.465 & 2.568 & 349 & 02\\\\\n",
       "\t CHP\\_350-03-PBMC-DNA\\_2000000 & 192 &  964 & 199.17012 &  5.020833 & 0.7521499 & 22 & 31 & 23 & 208.139 & 0.993 & 192 & 212.870 &  9.798 & 150.327 & 169.374 & 4.093 & 122.858 & 140.656 & 5.197 & 350 & 03\\\\\n",
       "\\end{tabular}\n"
      ],
      "text/markdown": [
       "\n",
       "A data.frame: 6 × 22\n",
       "\n",
       "| X &lt;chr&gt; | TRB &lt;int&gt; | Reads &lt;int&gt; | CPKR &lt;dbl&gt; | Average_reads &lt;dbl&gt; | VMR &lt;dbl&gt; | Max_reads &lt;int&gt; | Singletons &lt;int&gt; | Doubletons &lt;int&gt; | qD &lt;dbl&gt; | ⋯ ⋯ | estimated_Richness &lt;dbl&gt; | SE_Richeness &lt;dbl&gt; | observed_Shannon &lt;dbl&gt; | estimated_Shannon &lt;dbl&gt; | SE_Shannon &lt;dbl&gt; | observed_Simpson &lt;dbl&gt; | estimated_Simpson &lt;dbl&gt; | SE_Simpson &lt;dbl&gt; | Patient &lt;chr&gt; | cycle &lt;chr&gt; |\n",
       "|---|---|---|---|---|---|---|---|---|---|---|---|---|---|---|---|---|---|---|---|---|\n",
       "| CHP_346-01-PBMC-DNA_2000000 |  49 |  947 |  51.74234 | 19.326531 | 0.6812514 | 66 |  2 |  1 |  50.263 | ⋯ |  50.998 |  3.738 |  39.844 |  40.938 | 0.909 |  33.685 |  34.891 | 1.380 | 346 | 01 |\n",
       "| CHP_348-03-PBMC-DNA_2000000 | 142 | 1538 |  92.32770 | 10.830986 | 1.0462441 | 81 | 12 |  4 | 150.755 | ⋯ | 159.988 | 14.379 |  99.392 | 104.850 | 2.439 |  68.043 |  71.146 | 3.720 | 348 | 03 |\n",
       "| CHP_348-04-PBMC-DNA_2000000 |  48 |  493 |  97.36308 | 10.270833 | 0.7251967 | 32 |  5 |  2 |  51.437 | ⋯ |  54.237 |  7.537 |  37.323 |  39.489 | 1.245 |  31.684 |  33.792 | 1.579 | 348 | 04 |\n",
       "| CHP_349-01-PBMC-DNA_2000000 |  15 |  100 | 150.00000 |  6.666667 | 0.4629100 | 15 |  0 |  1 |  15.000 | ⋯ |  15.000 |  0.452 |  13.629 |  14.651 | 0.628 |  12.500 |  14.143 | 1.139 | 349 | 01 |\n",
       "| CHP_349-02-PBMC-DNA_2000000 |  91 |  848 | 107.31132 |  9.318681 | 1.0369577 | 55 | 11 |  4 |  98.811 | ⋯ | 106.107 | 12.456 |  62.042 |  66.197 | 2.099 |  44.101 |  46.465 | 2.568 | 349 | 02 |\n",
       "| CHP_350-03-PBMC-DNA_2000000 | 192 |  964 | 199.17012 |  5.020833 | 0.7521499 | 22 | 31 | 23 | 208.139 | ⋯ | 212.870 |  9.798 | 150.327 | 169.374 | 4.093 | 122.858 | 140.656 | 5.197 | 350 | 03 |\n",
       "\n"
      ],
      "text/plain": [
       "  X                           TRB Reads CPKR      Average_reads VMR      \n",
       "1 CHP_346-01-PBMC-DNA_2000000  49  947   51.74234 19.326531     0.6812514\n",
       "2 CHP_348-03-PBMC-DNA_2000000 142 1538   92.32770 10.830986     1.0462441\n",
       "3 CHP_348-04-PBMC-DNA_2000000  48  493   97.36308 10.270833     0.7251967\n",
       "4 CHP_349-01-PBMC-DNA_2000000  15  100  150.00000  6.666667     0.4629100\n",
       "5 CHP_349-02-PBMC-DNA_2000000  91  848  107.31132  9.318681     1.0369577\n",
       "6 CHP_350-03-PBMC-DNA_2000000 192  964  199.17012  5.020833     0.7521499\n",
       "  Max_reads Singletons Doubletons qD      ⋯ estimated_Richness SE_Richeness\n",
       "1 66         2          1          50.263 ⋯  50.998             3.738      \n",
       "2 81        12          4         150.755 ⋯ 159.988            14.379      \n",
       "3 32         5          2          51.437 ⋯  54.237             7.537      \n",
       "4 15         0          1          15.000 ⋯  15.000             0.452      \n",
       "5 55        11          4          98.811 ⋯ 106.107            12.456      \n",
       "6 22        31         23         208.139 ⋯ 212.870             9.798      \n",
       "  observed_Shannon estimated_Shannon SE_Shannon observed_Simpson\n",
       "1  39.844           40.938           0.909       33.685         \n",
       "2  99.392          104.850           2.439       68.043         \n",
       "3  37.323           39.489           1.245       31.684         \n",
       "4  13.629           14.651           0.628       12.500         \n",
       "5  62.042           66.197           2.099       44.101         \n",
       "6 150.327          169.374           4.093      122.858         \n",
       "  estimated_Simpson SE_Simpson Patient cycle\n",
       "1  34.891           1.380      346     01   \n",
       "2  71.146           3.720      348     03   \n",
       "3  33.792           1.579      348     04   \n",
       "4  14.143           1.139      349     01   \n",
       "5  46.465           2.568      349     02   \n",
       "6 140.656           5.197      350     03   "
      ]
     },
     "metadata": {},
     "output_type": "display_data"
    }
   ],
   "source": [
    "head(div_trb)"
   ]
  },
  {
   "cell_type": "code",
   "execution_count": 7,
   "metadata": {},
   "outputs": [],
   "source": [
    "div_pbmc_masterfile <- merge(masterfile[,c(\"Disease_type\", \"group\", \"Patient\", \"cycle\")],\n",
    "                            div_trb[,c(\"X\", \"Patient\", \"cycle\")], by = c(\"Patient\", \"cycle\"))"
   ]
  },
  {
   "cell_type": "code",
   "execution_count": 9,
   "metadata": {},
   "outputs": [],
   "source": [
    "cancertypes_pbmc <- as.data.frame(table(div_pbmc_masterfile$Disease_type), stringsAsFactors = F)"
   ]
  },
  {
   "cell_type": "code",
   "execution_count": 10,
   "metadata": {},
   "outputs": [
    {
     "data": {
      "text/html": [
       "<table>\n",
       "<caption>A data.frame: 21 × 2</caption>\n",
       "<thead>\n",
       "\t<tr><th scope=col>Var1</th><th scope=col>Freq</th></tr>\n",
       "\t<tr><th scope=col>&lt;chr&gt;</th><th scope=col>&lt;int&gt;</th></tr>\n",
       "</thead>\n",
       "<tbody>\n",
       "\t<tr><td>ALCL  </td><td> 4</td></tr>\n",
       "\t<tr><td>ALL   </td><td>30</td></tr>\n",
       "\t<tr><td>AML   </td><td>16</td></tr>\n",
       "\t<tr><td>ARMS  </td><td> 3</td></tr>\n",
       "\t<tr><td>BL    </td><td> 5</td></tr>\n",
       "\t<tr><td>BLL   </td><td> 0</td></tr>\n",
       "\t<tr><td>CML   </td><td> 4</td></tr>\n",
       "\t<tr><td>DLBCL </td><td> 3</td></tr>\n",
       "\t<tr><td>ERMS  </td><td> 4</td></tr>\n",
       "\t<tr><td>EWS   </td><td>13</td></tr>\n",
       "\t<tr><td>HB    </td><td> 3</td></tr>\n",
       "\t<tr><td>HD    </td><td> 8</td></tr>\n",
       "\t<tr><td>HR ALL</td><td>16</td></tr>\n",
       "\t<tr><td>MS NB </td><td> 0</td></tr>\n",
       "\t<tr><td>NB    </td><td> 2</td></tr>\n",
       "\t<tr><td>OS    </td><td>12</td></tr>\n",
       "\t<tr><td>PMBCL </td><td> 1</td></tr>\n",
       "\t<tr><td>RMS   </td><td> 0</td></tr>\n",
       "\t<tr><td>SR ALL</td><td> 2</td></tr>\n",
       "\t<tr><td>T-ALL </td><td> 5</td></tr>\n",
       "\t<tr><td>WILMS </td><td> 3</td></tr>\n",
       "</tbody>\n",
       "</table>\n"
      ],
      "text/latex": [
       "A data.frame: 21 × 2\n",
       "\\begin{tabular}{r|ll}\n",
       " Var1 & Freq\\\\\n",
       " <chr> & <int>\\\\\n",
       "\\hline\n",
       "\t ALCL   &  4\\\\\n",
       "\t ALL    & 30\\\\\n",
       "\t AML    & 16\\\\\n",
       "\t ARMS   &  3\\\\\n",
       "\t BL     &  5\\\\\n",
       "\t BLL    &  0\\\\\n",
       "\t CML    &  4\\\\\n",
       "\t DLBCL  &  3\\\\\n",
       "\t ERMS   &  4\\\\\n",
       "\t EWS    & 13\\\\\n",
       "\t HB     &  3\\\\\n",
       "\t HD     &  8\\\\\n",
       "\t HR ALL & 16\\\\\n",
       "\t MS NB  &  0\\\\\n",
       "\t NB     &  2\\\\\n",
       "\t OS     & 12\\\\\n",
       "\t PMBCL  &  1\\\\\n",
       "\t RMS    &  0\\\\\n",
       "\t SR ALL &  2\\\\\n",
       "\t T-ALL  &  5\\\\\n",
       "\t WILMS  &  3\\\\\n",
       "\\end{tabular}\n"
      ],
      "text/markdown": [
       "\n",
       "A data.frame: 21 × 2\n",
       "\n",
       "| Var1 &lt;chr&gt; | Freq &lt;int&gt; |\n",
       "|---|---|\n",
       "| ALCL   |  4 |\n",
       "| ALL    | 30 |\n",
       "| AML    | 16 |\n",
       "| ARMS   |  3 |\n",
       "| BL     |  5 |\n",
       "| BLL    |  0 |\n",
       "| CML    |  4 |\n",
       "| DLBCL  |  3 |\n",
       "| ERMS   |  4 |\n",
       "| EWS    | 13 |\n",
       "| HB     |  3 |\n",
       "| HD     |  8 |\n",
       "| HR ALL | 16 |\n",
       "| MS NB  |  0 |\n",
       "| NB     |  2 |\n",
       "| OS     | 12 |\n",
       "| PMBCL  |  1 |\n",
       "| RMS    |  0 |\n",
       "| SR ALL |  2 |\n",
       "| T-ALL  |  5 |\n",
       "| WILMS  |  3 |\n",
       "\n"
      ],
      "text/plain": [
       "   Var1   Freq\n",
       "1  ALCL    4  \n",
       "2  ALL    30  \n",
       "3  AML    16  \n",
       "4  ARMS    3  \n",
       "5  BL      5  \n",
       "6  BLL     0  \n",
       "7  CML     4  \n",
       "8  DLBCL   3  \n",
       "9  ERMS    4  \n",
       "10 EWS    13  \n",
       "11 HB      3  \n",
       "12 HD      8  \n",
       "13 HR ALL 16  \n",
       "14 MS NB   0  \n",
       "15 NB      2  \n",
       "16 OS     12  \n",
       "17 PMBCL   1  \n",
       "18 RMS     0  \n",
       "19 SR ALL  2  \n",
       "20 T-ALL   5  \n",
       "21 WILMS   3  "
      ]
     },
     "metadata": {},
     "output_type": "display_data"
    }
   ],
   "source": [
    "cancertypes_pbmc"
   ]
  },
  {
   "cell_type": "code",
   "execution_count": 11,
   "metadata": {},
   "outputs": [],
   "source": [
    "leuk <- c(\"T-ALL\", \"SR ALL\", \"HR ALL\", \"ALL\", \"AML\")\n",
    "lymph <- c(\"ALCL\", \"BL\", \"BLL\", \"CML\", \"PMBCL\", \"HD\", \"CLBCL\", \"DLBCL\")\n",
    "solid <- c(\"ARMS\", \"EWS\", \"HB\", \"MS NB\", \"NB\", \"OS\", \"RMS\", \"WILMS\", \"ERMS\")"
   ]
  },
  {
   "cell_type": "code",
   "execution_count": 16,
   "metadata": {},
   "outputs": [],
   "source": [
    "cancertypes_pbmc$group[cancertypes_pbmc$Var1 %in% leuk] <- \"Leukemia\"\n",
    "cancertypes_pbmc$group[cancertypes_pbmc$Var1 %in% lymph] <- \"Lymphoma\"\n",
    "cancertypes_pbmc$group[cancertypes_pbmc$Var1 %in% solid] <- \"Solid\""
   ]
  },
  {
   "cell_type": "code",
   "execution_count": 17,
   "metadata": {},
   "outputs": [],
   "source": [
    "write.csv(cancertypes_pbmc, file = paste0(datapath, \"cancertypes_pbmc.csv\"))"
   ]
  },
  {
   "cell_type": "code",
   "execution_count": null,
   "metadata": {},
   "outputs": [],
   "source": []
  },
  {
   "cell_type": "markdown",
   "metadata": {},
   "source": [
    "cfDNA"
   ]
  },
  {
   "cell_type": "code",
   "execution_count": 19,
   "metadata": {},
   "outputs": [],
   "source": [
    "mystatslist <- list.files(datapath,recursive = TRUE,pattern = \"divstats\") \n",
    "\n",
    "# only specified chain\n",
    "    \n",
    "mystatslist <- mystatslist[grepl(\"TRB\", mystatslist)]\n",
    " # only cfDNA\n",
    "mystatslist <- mystatslist[grepl(\"cfDNA\", mystatslist)]\n",
    "mystatslist <- mystatslist[!grepl(\"FFPE\", mystatslist)]   \n",
    "mystatslist <- mystatslist[!grepl(\"reseq\", mystatslist)] \n",
    "mystatslist <- mystatslist[!grepl(\"Normal\", mystatslist)]\n",
    "\n",
    "all.statsfiles <- lapply(mystatslist, function(f){ read.csv(paste0(datapath,f), header = TRUE, stringsAsFactors = F)})\n",
    "\n",
    "div_trb_cfdna <- as.data.frame(do.call(rbind, all.statsfiles))\n",
    "\n",
    "# Only CHP samples\n",
    "div_trb_cfdna <- div_trb_cfdna[grepl(\"CHP\", div_trb_cfdna$X),]\n",
    "\n",
    "div_trb_cfdna$Patient <- substr(div_trb_cfdna$X, 5,7)\n",
    "div_trb_cfdna$cycle <- substr(div_trb_cfdna$X, 9,10)"
   ]
  },
  {
   "cell_type": "code",
   "execution_count": 20,
   "metadata": {},
   "outputs": [
    {
     "data": {
      "text/html": [
       "<table>\n",
       "<caption>A data.frame: 6 × 22</caption>\n",
       "<thead>\n",
       "\t<tr><th scope=col>X</th><th scope=col>TRB</th><th scope=col>Reads</th><th scope=col>CPKR</th><th scope=col>Average_reads</th><th scope=col>VMR</th><th scope=col>Max_reads</th><th scope=col>Singletons</th><th scope=col>Doubletons</th><th scope=col>qD</th><th scope=col>⋯</th><th scope=col>estimated_Richness</th><th scope=col>SE_Richeness</th><th scope=col>observed_Shannon</th><th scope=col>estimated_Shannon</th><th scope=col>SE_Shannon</th><th scope=col>observed_Simpson</th><th scope=col>estimated_Simpson</th><th scope=col>SE_Simpson</th><th scope=col>Patient</th><th scope=col>cycle</th></tr>\n",
       "\t<tr><th scope=col>&lt;chr&gt;</th><th scope=col>&lt;int&gt;</th><th scope=col>&lt;int&gt;</th><th scope=col>&lt;dbl&gt;</th><th scope=col>&lt;dbl&gt;</th><th scope=col>&lt;dbl&gt;</th><th scope=col>&lt;int&gt;</th><th scope=col>&lt;int&gt;</th><th scope=col>&lt;int&gt;</th><th scope=col>&lt;dbl&gt;</th><th scope=col>⋯</th><th scope=col>&lt;dbl&gt;</th><th scope=col>&lt;dbl&gt;</th><th scope=col>&lt;dbl&gt;</th><th scope=col>&lt;dbl&gt;</th><th scope=col>&lt;dbl&gt;</th><th scope=col>&lt;dbl&gt;</th><th scope=col>&lt;dbl&gt;</th><th scope=col>&lt;dbl&gt;</th><th scope=col>&lt;chr&gt;</th><th scope=col>&lt;chr&gt;</th></tr>\n",
       "</thead>\n",
       "<tbody>\n",
       "\t<tr><td>CHP_340-02-cfDNA_2000000</td><td>20</td><td>214</td><td> 93.45794</td><td>10.700</td><td>1.2279752</td><td> 55</td><td>3</td><td>2</td><td>21.65</td><td>⋯</td><td>22.239</td><td>3.381</td><td>11.636</td><td>12.276</td><td>0.761</td><td>8.222</td><td>8.510</td><td>0.792</td><td>340</td><td>02</td></tr>\n",
       "\t<tr><td>CHP_353-01-cfDNA_2000000</td><td> 6</td><td> 51</td><td>117.64706</td><td> 8.500</td><td>0.5087470</td><td> 15</td><td>0</td><td>0</td><td> 6.00</td><td>⋯</td><td> 6.000</td><td>0.225</td><td> 5.376</td><td> 5.654</td><td>0.382</td><td>4.935</td><td>5.357</td><td>0.545</td><td>353</td><td>01</td></tr>\n",
       "\t<tr><td>CHP_355-01-cfDNA_2000000</td><td> 2</td><td> 12</td><td>166.66667</td><td> 6.000</td><td>1.1785113</td><td> 11</td><td>1</td><td>0</td><td> 2.00</td><td>⋯</td><td> 2.000</td><td>0.470</td><td> 1.332</td><td> 1.398</td><td>0.279</td><td>1.180</td><td>1.180</td><td>0.203</td><td>355</td><td>01</td></tr>\n",
       "\t<tr><td>CHP_356-02-cfDNA_2000000</td><td> 8</td><td> 75</td><td>106.66667</td><td> 9.375</td><td>0.6647592</td><td> 22</td><td>0</td><td>0</td><td> 8.00</td><td>⋯</td><td> 8.000</td><td>0.261</td><td> 6.698</td><td> 7.027</td><td>0.448</td><td>5.769</td><td>6.167</td><td>0.649</td><td>356</td><td>02</td></tr>\n",
       "\t<tr><td>CHP_357-03-cfDNA_2000000</td><td> 6</td><td>156</td><td> 38.46154</td><td>26.000</td><td>1.7041543</td><td>116</td><td>1</td><td>0</td><td> 6.00</td><td>⋯</td><td> 6.000</td><td>0.483</td><td> 2.546</td><td> 2.589</td><td>0.235</td><td>1.754</td><td>1.763</td><td>0.136</td><td>357</td><td>03</td></tr>\n",
       "\t<tr><td>CHP_359-01-cfDNA_2000000</td><td> 2</td><td>  7</td><td>285.71429</td><td> 3.500</td><td>0.6060915</td><td>  5</td><td>0</td><td>1</td><td> 2.00</td><td>⋯</td><td> 2.000</td><td>0.332</td><td> 1.819</td><td> 1.966</td><td>0.305</td><td>1.690</td><td>1.909</td><td>0.454</td><td>359</td><td>01</td></tr>\n",
       "</tbody>\n",
       "</table>\n"
      ],
      "text/latex": [
       "A data.frame: 6 × 22\n",
       "\\begin{tabular}{r|llllllllllllllllllllll}\n",
       " X & TRB & Reads & CPKR & Average\\_reads & VMR & Max\\_reads & Singletons & Doubletons & qD & Sample\\_Coverage & observed\\_Richness & estimated\\_Richness & SE\\_Richeness & observed\\_Shannon & estimated\\_Shannon & SE\\_Shannon & observed\\_Simpson & estimated\\_Simpson & SE\\_Simpson & Patient & cycle\\\\\n",
       " <chr> & <int> & <int> & <dbl> & <dbl> & <dbl> & <int> & <int> & <int> & <dbl> & <dbl> & <int> & <dbl> & <dbl> & <dbl> & <dbl> & <dbl> & <dbl> & <dbl> & <dbl> & <chr> & <chr>\\\\\n",
       "\\hline\n",
       "\t CHP\\_340-02-cfDNA\\_2000000 & 20 & 214 &  93.45794 & 10.700 & 1.2279752 &  55 & 3 & 2 & 21.65 & 0.996 & 20 & 22.239 & 3.381 & 11.636 & 12.276 & 0.761 & 8.222 & 8.510 & 0.792 & 340 & 02\\\\\n",
       "\t CHP\\_353-01-cfDNA\\_2000000 &  6 &  51 & 117.64706 &  8.500 & 0.5087470 &  15 & 0 & 0 &  6.00 & 1.000 &  6 &  6.000 & 0.225 &  5.376 &  5.654 & 0.382 & 4.935 & 5.357 & 0.545 & 353 & 01\\\\\n",
       "\t CHP\\_355-01-cfDNA\\_2000000 &  2 &  12 & 166.66667 &  6.000 & 1.1785113 &  11 & 1 & 0 &  2.00 & 1.000 &  2 &  2.000 & 0.470 &  1.332 &  1.398 & 0.279 & 1.180 & 1.180 & 0.203 & 355 & 01\\\\\n",
       "\t CHP\\_356-02-cfDNA\\_2000000 &  8 &  75 & 106.66667 &  9.375 & 0.6647592 &  22 & 0 & 0 &  8.00 & 1.000 &  8 &  8.000 & 0.261 &  6.698 &  7.027 & 0.448 & 5.769 & 6.167 & 0.649 & 356 & 02\\\\\n",
       "\t CHP\\_357-03-cfDNA\\_2000000 &  6 & 156 &  38.46154 & 26.000 & 1.7041543 & 116 & 1 & 0 &  6.00 & 1.000 &  6 &  6.000 & 0.483 &  2.546 &  2.589 & 0.235 & 1.754 & 1.763 & 0.136 & 357 & 03\\\\\n",
       "\t CHP\\_359-01-cfDNA\\_2000000 &  2 &   7 & 285.71429 &  3.500 & 0.6060915 &   5 & 0 & 1 &  2.00 & 1.000 &  2 &  2.000 & 0.332 &  1.819 &  1.966 & 0.305 & 1.690 & 1.909 & 0.454 & 359 & 01\\\\\n",
       "\\end{tabular}\n"
      ],
      "text/markdown": [
       "\n",
       "A data.frame: 6 × 22\n",
       "\n",
       "| X &lt;chr&gt; | TRB &lt;int&gt; | Reads &lt;int&gt; | CPKR &lt;dbl&gt; | Average_reads &lt;dbl&gt; | VMR &lt;dbl&gt; | Max_reads &lt;int&gt; | Singletons &lt;int&gt; | Doubletons &lt;int&gt; | qD &lt;dbl&gt; | ⋯ ⋯ | estimated_Richness &lt;dbl&gt; | SE_Richeness &lt;dbl&gt; | observed_Shannon &lt;dbl&gt; | estimated_Shannon &lt;dbl&gt; | SE_Shannon &lt;dbl&gt; | observed_Simpson &lt;dbl&gt; | estimated_Simpson &lt;dbl&gt; | SE_Simpson &lt;dbl&gt; | Patient &lt;chr&gt; | cycle &lt;chr&gt; |\n",
       "|---|---|---|---|---|---|---|---|---|---|---|---|---|---|---|---|---|---|---|---|---|\n",
       "| CHP_340-02-cfDNA_2000000 | 20 | 214 |  93.45794 | 10.700 | 1.2279752 |  55 | 3 | 2 | 21.65 | ⋯ | 22.239 | 3.381 | 11.636 | 12.276 | 0.761 | 8.222 | 8.510 | 0.792 | 340 | 02 |\n",
       "| CHP_353-01-cfDNA_2000000 |  6 |  51 | 117.64706 |  8.500 | 0.5087470 |  15 | 0 | 0 |  6.00 | ⋯ |  6.000 | 0.225 |  5.376 |  5.654 | 0.382 | 4.935 | 5.357 | 0.545 | 353 | 01 |\n",
       "| CHP_355-01-cfDNA_2000000 |  2 |  12 | 166.66667 |  6.000 | 1.1785113 |  11 | 1 | 0 |  2.00 | ⋯ |  2.000 | 0.470 |  1.332 |  1.398 | 0.279 | 1.180 | 1.180 | 0.203 | 355 | 01 |\n",
       "| CHP_356-02-cfDNA_2000000 |  8 |  75 | 106.66667 |  9.375 | 0.6647592 |  22 | 0 | 0 |  8.00 | ⋯ |  8.000 | 0.261 |  6.698 |  7.027 | 0.448 | 5.769 | 6.167 | 0.649 | 356 | 02 |\n",
       "| CHP_357-03-cfDNA_2000000 |  6 | 156 |  38.46154 | 26.000 | 1.7041543 | 116 | 1 | 0 |  6.00 | ⋯ |  6.000 | 0.483 |  2.546 |  2.589 | 0.235 | 1.754 | 1.763 | 0.136 | 357 | 03 |\n",
       "| CHP_359-01-cfDNA_2000000 |  2 |   7 | 285.71429 |  3.500 | 0.6060915 |   5 | 0 | 1 |  2.00 | ⋯ |  2.000 | 0.332 |  1.819 |  1.966 | 0.305 | 1.690 | 1.909 | 0.454 | 359 | 01 |\n",
       "\n"
      ],
      "text/plain": [
       "  X                        TRB Reads CPKR      Average_reads VMR      \n",
       "1 CHP_340-02-cfDNA_2000000 20  214    93.45794 10.700        1.2279752\n",
       "2 CHP_353-01-cfDNA_2000000  6   51   117.64706  8.500        0.5087470\n",
       "3 CHP_355-01-cfDNA_2000000  2   12   166.66667  6.000        1.1785113\n",
       "4 CHP_356-02-cfDNA_2000000  8   75   106.66667  9.375        0.6647592\n",
       "5 CHP_357-03-cfDNA_2000000  6  156    38.46154 26.000        1.7041543\n",
       "6 CHP_359-01-cfDNA_2000000  2    7   285.71429  3.500        0.6060915\n",
       "  Max_reads Singletons Doubletons qD    ⋯ estimated_Richness SE_Richeness\n",
       "1  55       3          2          21.65 ⋯ 22.239             3.381       \n",
       "2  15       0          0           6.00 ⋯  6.000             0.225       \n",
       "3  11       1          0           2.00 ⋯  2.000             0.470       \n",
       "4  22       0          0           8.00 ⋯  8.000             0.261       \n",
       "5 116       1          0           6.00 ⋯  6.000             0.483       \n",
       "6   5       0          1           2.00 ⋯  2.000             0.332       \n",
       "  observed_Shannon estimated_Shannon SE_Shannon observed_Simpson\n",
       "1 11.636           12.276            0.761      8.222           \n",
       "2  5.376            5.654            0.382      4.935           \n",
       "3  1.332            1.398            0.279      1.180           \n",
       "4  6.698            7.027            0.448      5.769           \n",
       "5  2.546            2.589            0.235      1.754           \n",
       "6  1.819            1.966            0.305      1.690           \n",
       "  estimated_Simpson SE_Simpson Patient cycle\n",
       "1 8.510             0.792      340     02   \n",
       "2 5.357             0.545      353     01   \n",
       "3 1.180             0.203      355     01   \n",
       "4 6.167             0.649      356     02   \n",
       "5 1.763             0.136      357     03   \n",
       "6 1.909             0.454      359     01   "
      ]
     },
     "metadata": {},
     "output_type": "display_data"
    }
   ],
   "source": [
    "head(div_trb_cfdna)"
   ]
  },
  {
   "cell_type": "code",
   "execution_count": 21,
   "metadata": {},
   "outputs": [],
   "source": [
    "div_cfdna_masterfile <- merge(masterfile[,c(\"Disease_type\", \"group\", \"Patient\", \"cycle\")],\n",
    "                            div_trb_cfdna[,c(\"X\", \"Patient\", \"cycle\")], by = c(\"Patient\", \"cycle\"))"
   ]
  },
  {
   "cell_type": "code",
   "execution_count": 27,
   "metadata": {},
   "outputs": [
    {
     "data": {
      "text/html": [
       "<ol class=list-inline>\n",
       "\t<li>95</li>\n",
       "\t<li>5</li>\n",
       "</ol>\n"
      ],
      "text/latex": [
       "\\begin{enumerate*}\n",
       "\\item 95\n",
       "\\item 5\n",
       "\\end{enumerate*}\n"
      ],
      "text/markdown": [
       "1. 95\n",
       "2. 5\n",
       "\n",
       "\n"
      ],
      "text/plain": [
       "[1] 95  5"
      ]
     },
     "metadata": {},
     "output_type": "display_data"
    },
    {
     "data": {
      "text/html": [
       "<ol class=list-inline>\n",
       "\t<li>100</li>\n",
       "\t<li>22</li>\n",
       "</ol>\n"
      ],
      "text/latex": [
       "\\begin{enumerate*}\n",
       "\\item 100\n",
       "\\item 22\n",
       "\\end{enumerate*}\n"
      ],
      "text/markdown": [
       "1. 100\n",
       "2. 22\n",
       "\n",
       "\n"
      ],
      "text/plain": [
       "[1] 100  22"
      ]
     },
     "metadata": {},
     "output_type": "display_data"
    }
   ],
   "source": [
    "dim(div_cfdna_masterfile)\n",
    "dim(div_trb_cfdna)"
   ]
  },
  {
   "cell_type": "code",
   "execution_count": 22,
   "metadata": {},
   "outputs": [],
   "source": [
    "cancertypes_cfdna <- as.data.frame(table(div_cfdna_masterfile$Disease_type), stringsAsFactors = F)"
   ]
  },
  {
   "cell_type": "code",
   "execution_count": 23,
   "metadata": {},
   "outputs": [
    {
     "data": {
      "text/html": [
       "<table>\n",
       "<caption>A data.frame: 21 × 2</caption>\n",
       "<thead>\n",
       "\t<tr><th scope=col>Var1</th><th scope=col>Freq</th></tr>\n",
       "\t<tr><th scope=col>&lt;chr&gt;</th><th scope=col>&lt;int&gt;</th></tr>\n",
       "</thead>\n",
       "<tbody>\n",
       "\t<tr><td>ALCL  </td><td> 2</td></tr>\n",
       "\t<tr><td>ALL   </td><td>21</td></tr>\n",
       "\t<tr><td>AML   </td><td>15</td></tr>\n",
       "\t<tr><td>ARMS  </td><td> 3</td></tr>\n",
       "\t<tr><td>BL    </td><td> 9</td></tr>\n",
       "\t<tr><td>BLL   </td><td> 2</td></tr>\n",
       "\t<tr><td>CML   </td><td> 1</td></tr>\n",
       "\t<tr><td>DLBCL </td><td> 0</td></tr>\n",
       "\t<tr><td>ERMS  </td><td> 0</td></tr>\n",
       "\t<tr><td>EWS   </td><td> 5</td></tr>\n",
       "\t<tr><td>HB    </td><td> 2</td></tr>\n",
       "\t<tr><td>HD    </td><td> 9</td></tr>\n",
       "\t<tr><td>HR ALL</td><td> 8</td></tr>\n",
       "\t<tr><td>MS NB </td><td> 0</td></tr>\n",
       "\t<tr><td>NB    </td><td> 4</td></tr>\n",
       "\t<tr><td>OS    </td><td> 8</td></tr>\n",
       "\t<tr><td>PMBCL </td><td> 0</td></tr>\n",
       "\t<tr><td>RMS   </td><td> 0</td></tr>\n",
       "\t<tr><td>SR ALL</td><td> 0</td></tr>\n",
       "\t<tr><td>T-ALL </td><td> 3</td></tr>\n",
       "\t<tr><td>WILMS </td><td> 3</td></tr>\n",
       "</tbody>\n",
       "</table>\n"
      ],
      "text/latex": [
       "A data.frame: 21 × 2\n",
       "\\begin{tabular}{r|ll}\n",
       " Var1 & Freq\\\\\n",
       " <chr> & <int>\\\\\n",
       "\\hline\n",
       "\t ALCL   &  2\\\\\n",
       "\t ALL    & 21\\\\\n",
       "\t AML    & 15\\\\\n",
       "\t ARMS   &  3\\\\\n",
       "\t BL     &  9\\\\\n",
       "\t BLL    &  2\\\\\n",
       "\t CML    &  1\\\\\n",
       "\t DLBCL  &  0\\\\\n",
       "\t ERMS   &  0\\\\\n",
       "\t EWS    &  5\\\\\n",
       "\t HB     &  2\\\\\n",
       "\t HD     &  9\\\\\n",
       "\t HR ALL &  8\\\\\n",
       "\t MS NB  &  0\\\\\n",
       "\t NB     &  4\\\\\n",
       "\t OS     &  8\\\\\n",
       "\t PMBCL  &  0\\\\\n",
       "\t RMS    &  0\\\\\n",
       "\t SR ALL &  0\\\\\n",
       "\t T-ALL  &  3\\\\\n",
       "\t WILMS  &  3\\\\\n",
       "\\end{tabular}\n"
      ],
      "text/markdown": [
       "\n",
       "A data.frame: 21 × 2\n",
       "\n",
       "| Var1 &lt;chr&gt; | Freq &lt;int&gt; |\n",
       "|---|---|\n",
       "| ALCL   |  2 |\n",
       "| ALL    | 21 |\n",
       "| AML    | 15 |\n",
       "| ARMS   |  3 |\n",
       "| BL     |  9 |\n",
       "| BLL    |  2 |\n",
       "| CML    |  1 |\n",
       "| DLBCL  |  0 |\n",
       "| ERMS   |  0 |\n",
       "| EWS    |  5 |\n",
       "| HB     |  2 |\n",
       "| HD     |  9 |\n",
       "| HR ALL |  8 |\n",
       "| MS NB  |  0 |\n",
       "| NB     |  4 |\n",
       "| OS     |  8 |\n",
       "| PMBCL  |  0 |\n",
       "| RMS    |  0 |\n",
       "| SR ALL |  0 |\n",
       "| T-ALL  |  3 |\n",
       "| WILMS  |  3 |\n",
       "\n"
      ],
      "text/plain": [
       "   Var1   Freq\n",
       "1  ALCL    2  \n",
       "2  ALL    21  \n",
       "3  AML    15  \n",
       "4  ARMS    3  \n",
       "5  BL      9  \n",
       "6  BLL     2  \n",
       "7  CML     1  \n",
       "8  DLBCL   0  \n",
       "9  ERMS    0  \n",
       "10 EWS     5  \n",
       "11 HB      2  \n",
       "12 HD      9  \n",
       "13 HR ALL  8  \n",
       "14 MS NB   0  \n",
       "15 NB      4  \n",
       "16 OS      8  \n",
       "17 PMBCL   0  \n",
       "18 RMS     0  \n",
       "19 SR ALL  0  \n",
       "20 T-ALL   3  \n",
       "21 WILMS   3  "
      ]
     },
     "metadata": {},
     "output_type": "display_data"
    }
   ],
   "source": [
    "cancertypes_cfdna"
   ]
  },
  {
   "cell_type": "code",
   "execution_count": 24,
   "metadata": {},
   "outputs": [],
   "source": [
    "leuk <- c(\"T-ALL\", \"SR ALL\", \"HR ALL\", \"ALL\", \"AML\")\n",
    "lymph <- c(\"ALCL\", \"BL\", \"BLL\", \"CML\", \"PMBCL\", \"HD\", \"CLBCL\", \"DLBCL\")\n",
    "solid <- c(\"ARMS\", \"EWS\", \"HB\", \"MS NB\", \"NB\", \"OS\", \"RMS\", \"WILMS\", \"ERMS\")"
   ]
  },
  {
   "cell_type": "code",
   "execution_count": 25,
   "metadata": {},
   "outputs": [],
   "source": [
    "cancertypes_cfdna$group[cancertypes_cfdna$Var1 %in% leuk] <- \"Leukemia\"\n",
    "cancertypes_cfdna$group[cancertypes_cfdna$Var1 %in% lymph] <- \"Lymphoma\"\n",
    "cancertypes_cfdna$group[cancertypes_cfdna$Var1 %in% solid] <- \"Solid\""
   ]
  },
  {
   "cell_type": "code",
   "execution_count": 26,
   "metadata": {},
   "outputs": [],
   "source": [
    "write.csv(cancertypes_cfdna, file = paste0(datapath, \"cancertypes_cfdna.csv\"))"
   ]
  },
  {
   "cell_type": "code",
   "execution_count": null,
   "metadata": {},
   "outputs": [],
   "source": []
  },
  {
   "cell_type": "code",
   "execution_count": null,
   "metadata": {},
   "outputs": [],
   "source": []
  },
  {
   "cell_type": "code",
   "execution_count": null,
   "metadata": {},
   "outputs": [],
   "source": []
  },
  {
   "cell_type": "markdown",
   "metadata": {},
   "source": [
    "Pie chart for all patients enrolled"
   ]
  },
  {
   "cell_type": "code",
   "execution_count": 12,
   "metadata": {},
   "outputs": [],
   "source": [
    "grouptable <- as.data.frame(table(masterfile$group[masterfile$cycle == \"01\"]))"
   ]
  },
  {
   "cell_type": "code",
   "execution_count": 13,
   "metadata": {},
   "outputs": [
    {
     "data": {
      "text/html": [
       "<table>\n",
       "<caption>A data.frame: 3 × 2</caption>\n",
       "<thead>\n",
       "\t<tr><th scope=col>Var1</th><th scope=col>Freq</th></tr>\n",
       "\t<tr><th scope=col>&lt;fct&gt;</th><th scope=col>&lt;int&gt;</th></tr>\n",
       "</thead>\n",
       "<tbody>\n",
       "\t<tr><td>Leukemia</td><td>48</td></tr>\n",
       "\t<tr><td>Lymphoma</td><td>23</td></tr>\n",
       "\t<tr><td>Solid   </td><td>37</td></tr>\n",
       "</tbody>\n",
       "</table>\n"
      ],
      "text/latex": [
       "A data.frame: 3 × 2\n",
       "\\begin{tabular}{r|ll}\n",
       " Var1 & Freq\\\\\n",
       " <fct> & <int>\\\\\n",
       "\\hline\n",
       "\t Leukemia & 48\\\\\n",
       "\t Lymphoma & 23\\\\\n",
       "\t Solid    & 37\\\\\n",
       "\\end{tabular}\n"
      ],
      "text/markdown": [
       "\n",
       "A data.frame: 3 × 2\n",
       "\n",
       "| Var1 &lt;fct&gt; | Freq &lt;int&gt; |\n",
       "|---|---|\n",
       "| Leukemia | 48 |\n",
       "| Lymphoma | 23 |\n",
       "| Solid    | 37 |\n",
       "\n"
      ],
      "text/plain": [
       "  Var1     Freq\n",
       "1 Leukemia 48  \n",
       "2 Lymphoma 23  \n",
       "3 Solid    37  "
      ]
     },
     "metadata": {},
     "output_type": "display_data"
    }
   ],
   "source": [
    "grouptable"
   ]
  },
  {
   "cell_type": "code",
   "execution_count": 14,
   "metadata": {},
   "outputs": [],
   "source": [
    "piechart <- ggplot(grouptable, aes(x=\"\", y=Freq, fill=Var1)) + geom_bar(stat=\"identity\", width=1) +\n",
    "coord_polar(\"y\", start=0) + theme_void() + scale_fill_brewer(palette=\"Set1\") + \n",
    "labs(title = \"Cancer types in all recruited patients (n = 108)\")"
   ]
  },
  {
   "cell_type": "code",
   "execution_count": 15,
   "metadata": {},
   "outputs": [
    {
     "data": {
      "image/png": "[encoded data removed]",
      "text/plain": [
       "plot without title"
      ]
     },
     "metadata": {},
     "output_type": "display_data"
    }
   ],
   "source": [
    "piechart"
   ]
  },
  {
   "cell_type": "code",
   "execution_count": 32,
   "metadata": {},
   "outputs": [
    {
     "data": {
      "text/html": [
       "<strong>pdf:</strong> 2"
      ],
      "text/latex": [
       "\\textbf{pdf:} 2"
      ],
      "text/markdown": [
       "**pdf:** 2"
      ],
      "text/plain": [
       "pdf \n",
       "  2 "
      ]
     },
     "metadata": {},
     "output_type": "display_data"
    }
   ],
   "source": [
    "  pdf(file = paste0(plotpath, \"piechart_allpatients.pdf\"),\n",
    "    width = 10,\n",
    "    height = 10,\n",
    "    useDingbats = FALSE)\n",
    "    print(piechart)\n",
    "    dev.off()"
   ]
  },
  {
   "cell_type": "code",
   "execution_count": null,
   "metadata": {},
   "outputs": [],
   "source": []
  }
 ],
 "metadata": {
  "kernelspec": {
   "display_name": "R",
   "language": "R",
   "name": "ir"
  },
  "language_info": {
   "codemirror_mode": "r",
   "file_extension": ".r",
   "mimetype": "text/x-r-source",
   "name": "R",
   "pygments_lexer": "r",
   "version": "3.5.1"
  },
  "toc": {
   "base_numbering": 1,
   "nav_menu": {},
   "number_sections": false,
   "sideBar": true,
   "skip_h1_title": false,
   "title_cell": "Table of Contents",
   "title_sidebar": "Contents",
   "toc_cell": true,
   "toc_position": {
    "height": "calc(100% - 180px)",
    "left": "10px",
    "top": "150px",
    "width": "180px"
   },
   "toc_section_display": true,
   "toc_window_display": true
  }
 },
 "nbformat": 4,
 "nbformat_minor": 2
}
