{
 "cells": [
  {
   "cell_type": "markdown",
   "metadata": {
    "toc": true
   },
   "source": [
    "<h1>Table of Contents<span class=\"tocSkip\"></span></h1>\n",
    "<div class=\"toc\"><ul class=\"toc-item\"><li><span><a href=\"#Dependencies\" data-toc-modified-id=\"Dependencies-1\">Dependencies</a></span></li><li><span><a href=\"#Functions\" data-toc-modified-id=\"Functions-2\">Functions</a></span></li><li><span><a href=\"#Paths\" data-toc-modified-id=\"Paths-3\">Paths</a></span></li><li><span><a href=\"#Main\" data-toc-modified-id=\"Main-4\">Main</a></span><ul class=\"toc-item\"><li><span><a href=\"#Bind-all-files\" data-toc-modified-id=\"Bind-all-files-4.1\">Bind all files</a></span><ul class=\"toc-item\"><li><span><a href=\"#Make-variable-patient_id\" data-toc-modified-id=\"Make-variable-patient_id-4.1.1\">Make variable patient_id</a></span></li></ul></li></ul></li><li><span><a href=\"#Rerun-the-following-with-new-pipeline\" data-toc-modified-id=\"Rerun-the-following-with-new-pipeline-5\">Rerun the following with new pipeline</a></span></li><li><span><a href=\"#INSPIRE\" data-toc-modified-id=\"INSPIRE-6\">INSPIRE</a></span></li><li><span><a href=\"#TLML\" data-toc-modified-id=\"TLML-7\">TLML</a></span></li><li><span><a href=\"#Lymphotrack\" data-toc-modified-id=\"Lymphotrack-8\">Lymphotrack</a></span></li><li><span><a href=\"#NPC\" data-toc-modified-id=\"NPC-9\">NPC</a></span></li><li><span><a href=\"#TCL-lines\" data-toc-modified-id=\"TCL-lines-10\">TCL lines</a></span></li><li><span><a href=\"#LFS\" data-toc-modified-id=\"LFS-11\">LFS</a></span></li><li><span><a href=\"#HSJ\" data-toc-modified-id=\"HSJ-12\">HSJ</a></span></li></ul></div>"
   ]
  },
  {
   "cell_type": "markdown",
   "metadata": {},
   "source": [
    "# Dependencies\n"
   ]
  },
  {
   "cell_type": "code",
   "execution_count": 1,
   "metadata": {},
   "outputs": [
    {
     "name": "stderr",
     "output_type": "stream",
     "text": [
      "Warning message:\n",
      "“package ‘ggplot2’ was built under R version 3.5.2”"
     ]
    }
   ],
   "source": [
    "library(ggplot2)"
   ]
  },
  {
   "cell_type": "markdown",
   "metadata": {},
   "source": [
    "# Functions"
   ]
  },
  {
   "cell_type": "code",
   "execution_count": 2,
   "metadata": {},
   "outputs": [],
   "source": [
    "source(\"/Users/anabbi/OneDrive - UHN/R_src/ggplot2_theme.R\")"
   ]
  },
  {
   "cell_type": "code",
   "execution_count": 3,
   "metadata": {},
   "outputs": [],
   "source": [
    "clonstatfx <- function(flelst, chain, datapath, batchno){\n",
    "    \n",
    "flelst <- flelst[grepl(chain, flelst)]\n",
    "    message(\"list of files:\")\n",
    "    print(flelst)\n",
    "    \n",
    "  clones <- cbind.data.frame(flelst, \n",
    "                    NA, NA, NA, NA)\n",
    "  colnames(clones) <- c(\"filename\", \"total\",\n",
    "                        \"out_of_frame\", \"stopcodon\",\n",
    "                       \"productive\")\n",
    "  \n",
    "\n",
    "  for(i in 1:nrow(clones)){\n",
    "    f <- clones$filename[i]\n",
    "    mixcrfle <- read.table(paste0(datapath, f), \n",
    "                           header = TRUE, sep = \"\\t\",\n",
    "                           stringsAsFactors = FALSE,\n",
    "                           na.strings = c(\"\", \"NA\"))  \n",
    "    \n",
    "  #    print(length(mixcrfle$aaSeqCDR3))\n",
    "    clones[i,colnames(clones) == \"total\"] <- length(mixcrfle$aaSeqCDR3)\n",
    "    clones[i,colnames(clones) == \"out_of_frame\"] <- length(mixcrfle$aaSeqCDR3[grepl(\"_\", mixcrfle$aaSeqCDR3)])\n",
    "    clones[i,colnames(clones) == \"stopcodon\"] <- length(mixcrfle$aaSeqCDR3[grepl(\"[*]\", mixcrfle$aaSeqCDR3) &\n",
    "                                                                             !grepl(\"_\", mixcrfle$aaSeqCDR3)])\n",
    "    clones[i,colnames(clones) == \"productive\"] <-  length(mixcrfle$aaSeqCDR3[!grepl(\"[*]\", mixcrfle$aaSeqCDR3) &\n",
    "                                                                             !grepl(\"_\", mixcrfle$aaSeqCDR3)])\n",
    "\n",
    "  }\n",
    "\n",
    "  write.csv(clones,\n",
    "         file = paste(datapath, \"clonstats_\", chain, \n",
    "                      \"CHP\", batchno, \".csv\", sep = \"\"),\n",
    "         row.names = F)\n",
    "}"
   ]
  },
  {
   "cell_type": "markdown",
   "metadata": {},
   "source": [
    "# Paths"
   ]
  },
  {
   "cell_type": "code",
   "execution_count": 5,
   "metadata": {},
   "outputs": [],
   "source": [
    "plotpath <- \"/Users/anabbi/OneDrive - UHN/Documents/INTERCEPT/Plots/\"\n",
    "datapath <- \"/Users/anabbi/OneDrive - UHN/Documents/INTERCEPT/Data/\""
   ]
  },
  {
   "cell_type": "markdown",
   "metadata": {},
   "source": [
    "# Main"
   ]
  },
  {
   "cell_type": "code",
   "execution_count": 6,
   "metadata": {},
   "outputs": [],
   "source": [
    "flelst <- list.files(datapath,\n",
    "                     recursive = TRUE,\n",
    "                     pattern = paste(\"CLONES\", \"TRB\", sep = \"_\"))\n",
    "\n",
    "# subset to include only downsampled files\n",
    "ds_flelst <- flelst[grep(\"2000000\", flelst)]\n",
    "\n",
    "# subset to include only CHP\n",
    "ds_flelst_chp <- ds_flelst[grep(\"CHP\", ds_flelst)]"
   ]
  },
  {
   "cell_type": "code",
   "execution_count": 9,
   "metadata": {},
   "outputs": [],
   "source": [
    "ds_flelst_chp_ds1 <- ds_flelst_chp[grepl(\"ds_batch1/\", ds_flelst_chp)]\n",
    "\n",
    "ds_flelst_chp_ds2 <- ds_flelst_chp[grepl(\"ds_batch2\", ds_flelst_chp)]\n",
    "\n",
    "ds_flelst_chp_ds3 <- ds_flelst_chp[grepl(\"ds_batch3\", ds_flelst_chp)]\n",
    "\n",
    "ds_flelst_chp_ds4 <- ds_flelst_chp[grepl(\"ds_batch4\", ds_flelst_chp)]\n",
    "\n",
    "ds_flelst_chp_ds7 <- ds_flelst_chp[grepl(\"ds_batch7\", ds_flelst_chp)]\n",
    "\n",
    "ds_flelst_chp_ds6a <- ds_flelst_chp[grepl(\"ds_batch6a\", ds_flelst_chp)]\n",
    "\n",
    "ds_flelst_chp_ds8 <- ds_flelst_chp[grepl(\"ds_batch8\", ds_flelst_chp)]"
   ]
  },
  {
   "cell_type": "code",
   "execution_count": 10,
   "metadata": {},
   "outputs": [
    {
     "name": "stderr",
     "output_type": "stream",
     "text": [
      "list of files:\n"
     ]
    },
    {
     "name": "stdout",
     "output_type": "stream",
     "text": [
      " [1] \"Nextseq/batch1/ds_batch1/CLONES_TRBCHP_346-01-PBMC-DNA_2000000.txt\"\n",
      " [2] \"Nextseq/batch1/ds_batch1/CLONES_TRBCHP_348-03-PBMC-DNA_2000000.txt\"\n",
      " [3] \"Nextseq/batch1/ds_batch1/CLONES_TRBCHP_348-04-PBMC-DNA_2000000.txt\"\n",
      " [4] \"Nextseq/batch1/ds_batch1/CLONES_TRBCHP_349-01-PBMC-DNA_2000000.txt\"\n",
      " [5] \"Nextseq/batch1/ds_batch1/CLONES_TRBCHP_349-02-PBMC-DNA_2000000.txt\"\n",
      " [6] \"Nextseq/batch1/ds_batch1/CLONES_TRBCHP_350-03-PBMC-DNA_2000000.txt\"\n",
      " [7] \"Nextseq/batch1/ds_batch1/CLONES_TRBCHP_352-01-PBMC-DNA_2000000.txt\"\n",
      " [8] \"Nextseq/batch1/ds_batch1/CLONES_TRBCHP_352-02-PBMC-DNA_2000000.txt\"\n",
      " [9] \"Nextseq/batch1/ds_batch1/CLONES_TRBCHP_356-05-PBMC-DNA_2000000.txt\"\n",
      "[10] \"Nextseq/batch1/ds_batch1/CLONES_TRBCHP_358-01-PBMC-DNA_2000000.txt\"\n",
      "[11] \"Nextseq/batch1/ds_batch1/CLONES_TRBCHP_363-03-PBMC-DNA_2000000.txt\"\n",
      "[12] \"Nextseq/batch1/ds_batch1/CLONES_TRBCHP_365-02-PBMC-DNA_2000000.txt\"\n",
      "[13] \"Nextseq/batch1/ds_batch1/CLONES_TRBCHP_367-01-PBMC-DNA_2000000.txt\"\n"
     ]
    }
   ],
   "source": [
    "clonstatfx(ds_flelst_chp_ds1, \"TRB\", datapath, 1)"
   ]
  },
  {
   "cell_type": "code",
   "execution_count": 11,
   "metadata": {},
   "outputs": [
    {
     "name": "stderr",
     "output_type": "stream",
     "text": [
      "list of files:\n"
     ]
    },
    {
     "name": "stdout",
     "output_type": "stream",
     "text": [
      " [1] \"Nextseq/batch2/ds_batch2/CLONES_TRBCHP_319-05-PBMC-DNA_2000000.txt\"\n",
      " [2] \"Nextseq/batch2/ds_batch2/CLONES_TRBCHP_329-04-PBMC-DNA_2000000.txt\"\n",
      " [3] \"Nextseq/batch2/ds_batch2/CLONES_TRBCHP_330-05-PBMC-DNA_2000000.txt\"\n",
      " [4] \"Nextseq/batch2/ds_batch2/CLONES_TRBCHP_331-04-PBMC-DNA_2000000.txt\"\n",
      " [5] \"Nextseq/batch2/ds_batch2/CLONES_TRBCHP_331-05-PBMC-DNA_2000000.txt\"\n",
      " [6] \"Nextseq/batch2/ds_batch2/CLONES_TRBCHP_338-04-PBMC-DNA_2000000.txt\"\n",
      " [7] \"Nextseq/batch2/ds_batch2/CLONES_TRBCHP_338-05-PBMC-DNA_2000000.txt\"\n",
      " [8] \"Nextseq/batch2/ds_batch2/CLONES_TRBCHP_342-04-PBMC-DNA_2000000.txt\"\n",
      " [9] \"Nextseq/batch2/ds_batch2/CLONES_TRBCHP_343-02-PBMC-DNA_2000000.txt\"\n",
      "[10] \"Nextseq/batch2/ds_batch2/CLONES_TRBCHP_343-03-PBMC-DNA_2000000.txt\"\n",
      "[11] \"Nextseq/batch2/ds_batch2/CLONES_TRBCHP_343-04-PBMC-DNA_2000000.txt\"\n",
      "[12] \"Nextseq/batch2/ds_batch2/CLONES_TRBCHP_348-01-PBMC-DNA_2000000.txt\"\n",
      "[13] \"Nextseq/batch2/ds_batch2/CLONES_TRBCHP_348-02-PBMC-DNA_2000000.txt\"\n"
     ]
    }
   ],
   "source": [
    "clonstatfx(ds_flelst_chp_ds2, \"TRB\", datapath, 2)"
   ]
  },
  {
   "cell_type": "code",
   "execution_count": 12,
   "metadata": {},
   "outputs": [
    {
     "name": "stderr",
     "output_type": "stream",
     "text": [
      "list of files:\n"
     ]
    },
    {
     "name": "stdout",
     "output_type": "stream",
     "text": [
      " [1] \"Nextseq/batch3/ds_batch3/CLONES_TRBCHP_339-05-PBMC-DNA_2000000.txt\"\n",
      " [2] \"Nextseq/batch3/ds_batch3/CLONES_TRBCHP_340-05-PBMC-DNA_2000000.txt\"\n",
      " [3] \"Nextseq/batch3/ds_batch3/CLONES_TRBCHP_345-04-PBMC-DNA_2000000.txt\"\n",
      " [4] \"Nextseq/batch3/ds_batch3/CLONES_TRBCHP_345-05-PBMC-DNA_2000000.txt\"\n",
      " [5] \"Nextseq/batch3/ds_batch3/CLONES_TRBCHP_350-05-PBMC-DNA_2000000.txt\"\n",
      " [6] \"Nextseq/batch3/ds_batch3/CLONES_TRBCHP_358-03-PBMC-DNA_2000000.txt\"\n",
      " [7] \"Nextseq/batch3/ds_batch3/CLONES_TRBCHP_358-05-PBMC-DNA_2000000.txt\"\n",
      " [8] \"Nextseq/batch3/ds_batch3/CLONES_TRBCHP_360-03-PBMC-DNA_2000000.txt\"\n",
      " [9] \"Nextseq/batch3/ds_batch3/CLONES_TRBCHP_361-02-PBMC-DNA_2000000.txt\"\n",
      "[10] \"Nextseq/batch3/ds_batch3/CLONES_TRBCHP_361-03-PBMC-DNA_2000000.txt\"\n",
      "[11] \"Nextseq/batch3/ds_batch3/CLONES_TRBCHP_365-03-PBMC-DNA_2000000.txt\"\n",
      "[12] \"Nextseq/batch3/ds_batch3/CLONES_TRBCHP_368-05-PBMC-DNA_2000000.txt\"\n",
      "[13] \"Nextseq/batch3/ds_batch3/CLONES_TRBCHP_370-02-PBMC-DNA_2000000.txt\"\n",
      "[14] \"Nextseq/batch3/ds_batch3/CLONES_TRBCHP_373-01-PBMC-DNA_2000000.txt\"\n",
      "[15] \"Nextseq/batch3/ds_batch3/CLONES_TRBCHP_374-03-PBMC-DNA_2000000.txt\"\n",
      "[16] \"Nextseq/batch3/ds_batch3/CLONES_TRBCHP_374-04-PBMC-DNA_2000000.txt\"\n",
      "[17] \"Nextseq/batch3/ds_batch3/CLONES_TRBCHP_374-05-PBMC-DNA_2000000.txt\"\n",
      "[18] \"Nextseq/batch3/ds_batch3/CLONES_TRBCHP_376-03-PBMC-DNA_2000000.txt\"\n",
      "[19] \"Nextseq/batch3/ds_batch3/CLONES_TRBCHP_378-01-PBMC-DNA_2000000.txt\"\n",
      "[20] \"Nextseq/batch3/ds_batch3/CLONES_TRBCHP_380-02-PBMC-DNA_2000000.txt\"\n",
      "[21] \"Nextseq/batch3/ds_batch3/CLONES_TRBCHP_381-02-PBMC-DNA_2000000.txt\"\n"
     ]
    }
   ],
   "source": [
    "clonstatfx(ds_flelst_chp_ds3, \"TRB\", datapath, 3)"
   ]
  },
  {
   "cell_type": "code",
   "execution_count": 13,
   "metadata": {},
   "outputs": [
    {
     "name": "stderr",
     "output_type": "stream",
     "text": [
      "list of files:\n"
     ]
    },
    {
     "name": "stdout",
     "output_type": "stream",
     "text": [
      " [1] \"Nextseq/batch4/ds_batch4/CLONES_TRBCHP_303-05-PBMC-DNA_2000000.txt\"\n",
      " [2] \"Nextseq/batch4/ds_batch4/CLONES_TRBCHP_315-05-PBMC-DNA_2000000.txt\"\n",
      " [3] \"Nextseq/batch4/ds_batch4/CLONES_TRBCHP_323-03-PBMC-DNA_2000000.txt\"\n",
      " [4] \"Nextseq/batch4/ds_batch4/CLONES_TRBCHP_338-03-PBMC-DNA_2000000.txt\"\n",
      " [5] \"Nextseq/batch4/ds_batch4/CLONES_TRBCHP_339-03-PBMC-DNA_2000000.txt\"\n",
      " [6] \"Nextseq/batch4/ds_batch4/CLONES_TRBCHP_340-03-PBMC-DNA_2000000.txt\"\n",
      " [7] \"Nextseq/batch4/ds_batch4/CLONES_TRBCHP_343-05-PBMC-DNA_2000000.txt\"\n",
      " [8] \"Nextseq/batch4/ds_batch4/CLONES_TRBCHP_344-05-PBMC-DNA_2000000.txt\"\n",
      " [9] \"Nextseq/batch4/ds_batch4/CLONES_TRBCHP_345-02-PBMC-DNA_2000000.txt\"\n",
      "[10] \"Nextseq/batch4/ds_batch4/CLONES_TRBCHP_347-01-PBMC-DNA_2000000.txt\"\n",
      "[11] \"Nextseq/batch4/ds_batch4/CLONES_TRBCHP_347-02-PBMC-DNA_2000000.txt\"\n",
      "[12] \"Nextseq/batch4/ds_batch4/CLONES_TRBCHP_355-01-PBMC-DNA_2000000.txt\"\n",
      "[13] \"Nextseq/batch4/ds_batch4/CLONES_TRBCHP_357-01-PBMC-DNA_2000000.txt\"\n",
      "[14] \"Nextseq/batch4/ds_batch4/CLONES_TRBCHP_361-01-PBMC-DNA_2000000.txt\"\n",
      "[15] \"Nextseq/batch4/ds_batch4/CLONES_TRBCHP_363-02-PBMC-DNA_2000000.txt\"\n",
      "[16] \"Nextseq/batch4/ds_batch4/CLONES_TRBCHP_364-01-PBMC-DNA_2000000.txt\"\n",
      "[17] \"Nextseq/batch4/ds_batch4/CLONES_TRBCHP_364-02-PBMC-DNA_2000000.txt\"\n",
      "[18] \"Nextseq/batch4/ds_batch4/CLONES_TRBCHP_364-04-PBMC-DNA_2000000.txt\"\n",
      "[19] \"Nextseq/batch4/ds_batch4/CLONES_TRBCHP_366-01-PBMC-DNA_2000000.txt\"\n"
     ]
    }
   ],
   "source": [
    "clonstatfx(ds_flelst_chp_ds4, \"TRB\", datapath, 4)"
   ]
  },
  {
   "cell_type": "code",
   "execution_count": 14,
   "metadata": {},
   "outputs": [
    {
     "name": "stderr",
     "output_type": "stream",
     "text": [
      "list of files:\n"
     ]
    },
    {
     "name": "stdout",
     "output_type": "stream",
     "text": [
      " [1] \"Nextseq/batch7/ds_batch7/CLONES_TRBCHP_323-04-PBMC-DNA_2000000.txt\"\n",
      " [2] \"Nextseq/batch7/ds_batch7/CLONES_TRBCHP_323-05-PBMC-DNA_2000000.txt\"\n",
      " [3] \"Nextseq/batch7/ds_batch7/CLONES_TRBCHP_344-02-PBMC-DNA_2000000.txt\"\n",
      " [4] \"Nextseq/batch7/ds_batch7/CLONES_TRBCHP_344-03-PBMC-DNA_2000000.txt\"\n",
      " [5] \"Nextseq/batch7/ds_batch7/CLONES_TRBCHP_345-03-PBMC-DNA_2000000.txt\"\n",
      " [6] \"Nextseq/batch7/ds_batch7/CLONES_TRBCHP_347-03-PBMC-DNA_2000000.txt\"\n",
      " [7] \"Nextseq/batch7/ds_batch7/CLONES_TRBCHP_351-04-PBMC-DNA_2000000.txt\"\n",
      " [8] \"Nextseq/batch7/ds_batch7/CLONES_TRBCHP_353-01-PBMC-DNA_2000000.txt\"\n",
      " [9] \"Nextseq/batch7/ds_batch7/CLONES_TRBCHP_353-03-PBMC-DNA_2000000.txt\"\n",
      "[10] \"Nextseq/batch7/ds_batch7/CLONES_TRBCHP_353-05-PBMC-DNA_2000000.txt\"\n",
      "[11] \"Nextseq/batch7/ds_batch7/CLONES_TRBCHP_357-04-PBMC-DNA_2000000.txt\"\n",
      "[12] \"Nextseq/batch7/ds_batch7/CLONES_TRBCHP_359-01-PBMC-DNA_2000000.txt\"\n",
      "[13] \"Nextseq/batch7/ds_batch7/CLONES_TRBCHP_360-02-PBMC-DNA_2000000.txt\"\n",
      "[14] \"Nextseq/batch7/ds_batch7/CLONES_TRBCHP_361-04-PBMC-DNA_2000000.txt\"\n",
      "[15] \"Nextseq/batch7/ds_batch7/CLONES_TRBCHP_362-01-PBMC-DNA_2000000.txt\"\n",
      "[16] \"Nextseq/batch7/ds_batch7/CLONES_TRBCHP_362-03-PBMC-DNA_2000000.txt\"\n",
      "[17] \"Nextseq/batch7/ds_batch7/CLONES_TRBCHP_362-04-PBMC-DNA_2000000.txt\"\n",
      "[18] \"Nextseq/batch7/ds_batch7/CLONES_TRBCHP_368-01-PBMC-DNA_2000000.txt\"\n",
      "[19] \"Nextseq/batch7/ds_batch7/CLONES_TRBCHP_368-04-PBMC-DNA_2000000.txt\"\n",
      "[20] \"Nextseq/batch7/ds_batch7/CLONES_TRBCHP_370-01-PBMC-DNA_2000000.txt\"\n",
      "[21] \"Nextseq/batch7/ds_batch7/CLONES_TRBCHP_370-05-PBMC-DNA_2000000.txt\"\n",
      "[22] \"Nextseq/batch7/ds_batch7/CLONES_TRBCHP_373-02-PBMC-DNA_2000000.txt\"\n",
      "[23] \"Nextseq/batch7/ds_batch7/CLONES_TRBCHP_375-02-PBMC-DNA_2000000.txt\"\n",
      "[24] \"Nextseq/batch7/ds_batch7/CLONES_TRBCHP_378-02-PBMC-DNA_2000000.txt\"\n"
     ]
    }
   ],
   "source": [
    "clonstatfx(ds_flelst_chp_ds7, \"TRB\", datapath, 7)"
   ]
  },
  {
   "cell_type": "code",
   "execution_count": 15,
   "metadata": {},
   "outputs": [
    {
     "name": "stderr",
     "output_type": "stream",
     "text": [
      "list of files:\n"
     ]
    },
    {
     "name": "stdout",
     "output_type": "stream",
     "text": [
      "[1] \"Nextseq/batch6a/ds_batch6a/CLONES_TRBCHP_340-04-PBMC-DNA_2000000.txt\"\n",
      "[2] \"Nextseq/batch6a/ds_batch6a/CLONES_TRBCHP_347-04-PBMC-DNA_2000000.txt\"\n",
      "[3] \"Nextseq/batch6a/ds_batch6a/CLONES_TRBCHP_357-03-PBMC-DNA_2000000.txt\"\n",
      "[4] \"Nextseq/batch6a/ds_batch6a/CLONES_TRBCHP_359-02-PBMC-DNA_2000000.txt\"\n",
      "[5] \"Nextseq/batch6a/ds_batch6a/CLONES_TRBCHP_359-04-PBMC-DNA_2000000.txt\"\n",
      "[6] \"Nextseq/batch6a/ds_batch6a/CLONES_TRBCHP_367-02-PBMC-DNA_2000000.txt\"\n"
     ]
    }
   ],
   "source": [
    "clonstatfx(ds_flelst_chp_ds6a, \"TRB\", datapath, \"6a\")"
   ]
  },
  {
   "cell_type": "code",
   "execution_count": 16,
   "metadata": {},
   "outputs": [
    {
     "name": "stderr",
     "output_type": "stream",
     "text": [
      "list of files:\n"
     ]
    },
    {
     "name": "stdout",
     "output_type": "stream",
     "text": [
      " [1] \"Nextseq/batch8/ds_batch8/CLONES_TRBCHP_335-03-PBMC-DNA_2000000.txt\"\n",
      " [2] \"Nextseq/batch8/ds_batch8/CLONES_TRBCHP_344-04-PBMC-DNA_2000000.txt\"\n",
      " [3] \"Nextseq/batch8/ds_batch8/CLONES_TRBCHP_347-05-PBMC-DNA_2000000.txt\"\n",
      " [4] \"Nextseq/batch8/ds_batch8/CLONES_TRBCHP_356-02-PBMC-DNA_2000000.txt\"\n",
      " [5] \"Nextseq/batch8/ds_batch8/CLONES_TRBCHP_357-02-PBMC-DNA_2000000.txt\"\n",
      " [6] \"Nextseq/batch8/ds_batch8/CLONES_TRBCHP_360-05-PBMC-DNA_2000000.txt\"\n",
      " [7] \"Nextseq/batch8/ds_batch8/CLONES_TRBCHP_369-02-PBMC-DNA_2000000.txt\"\n",
      " [8] \"Nextseq/batch8/ds_batch8/CLONES_TRBCHP_370-03-PBMC-DNA_2000000.txt\"\n",
      " [9] \"Nextseq/batch8/ds_batch8/CLONES_TRBCHP_373-03-PBMC-DNA_2000000.txt\"\n",
      "[10] \"Nextseq/batch8/ds_batch8/CLONES_TRBCHP_378-04-PBMC-DNA_2000000.txt\"\n",
      "[11] \"Nextseq/batch8/ds_batch8/CLONES_TRBCHP_380-03-PBMC-DNA_2000000.txt\"\n",
      "[12] \"Nextseq/batch8/ds_batch8/CLONES_TRBCHP_380-05-PBMC-DNA_2000000.txt\"\n",
      "[13] \"Nextseq/batch8/ds_batch8/CLONES_TRBCHP_382-02-PBMC-DNA_2000000.txt\"\n",
      "[14] \"Nextseq/batch8/ds_batch8/CLONES_TRBCHP_383-03-PBMC-DNA_2000000.txt\"\n",
      "[15] \"Nextseq/batch8/ds_batch8/CLONES_TRBCHP_385-03-PBMC-DNA_2000000.txt\"\n",
      "[16] \"Nextseq/batch8/ds_batch8/CLONES_TRBCHP_386-02-PBMC-DNA_2000000.txt\"\n",
      "[17] \"Nextseq/batch8/ds_batch8/CLONES_TRBCHP_387-01-PBMC-DNA_2000000.txt\"\n",
      "[18] \"Nextseq/batch8/ds_batch8/CLONES_TRBCHP_394-01-PBMC-DNA_2000000.txt\"\n",
      "[19] \"Nextseq/batch8/ds_batch8/CLONES_TRBCHP_394-04-PBMC-DNA_2000000.txt\"\n",
      "[20] \"Nextseq/batch8/ds_batch8/CLONES_TRBCHP_396-01-PBMC-DNA_2000000.txt\"\n",
      "[21] \"Nextseq/batch8/ds_batch8/CLONES_TRBCHP_396-02-PBMC-DNA_2000000.txt\"\n",
      "[22] \"Nextseq/batch8/ds_batch8/CLONES_TRBCHP_397-01-PBMC-DNA_2000000.txt\"\n",
      "[23] \"Nextseq/batch8/ds_batch8/CLONES_TRBCHP_399-01-PBMC-DNA_2000000.txt\"\n"
     ]
    }
   ],
   "source": [
    "clonstatfx(ds_flelst_chp_ds8, \"TRB\", datapath, 8)"
   ]
  },
  {
   "cell_type": "markdown",
   "metadata": {},
   "source": [
    "## Bind all files"
   ]
  },
  {
   "cell_type": "code",
   "execution_count": 17,
   "metadata": {},
   "outputs": [],
   "source": [
    "mylist <- list.files(datapath,\n",
    "                     recursive = TRUE,\n",
    "                     pattern = \"clonstats\") "
   ]
  },
  {
   "cell_type": "code",
   "execution_count": 18,
   "metadata": {},
   "outputs": [
    {
     "data": {
      "text/html": [
       "<ol class=list-inline>\n",
       "\t<li>'clonstats_TRBCHP1.csv'</li>\n",
       "\t<li>'clonstats_TRBCHP2.csv'</li>\n",
       "\t<li>'clonstats_TRBCHP3.csv'</li>\n",
       "\t<li>'clonstats_TRBCHP4.csv'</li>\n",
       "\t<li>'clonstats_TRBCHP6a.csv'</li>\n",
       "\t<li>'clonstats_TRBCHP7.csv'</li>\n",
       "\t<li>'clonstats_TRBCHP8.csv'</li>\n",
       "</ol>\n"
      ],
      "text/latex": [
       "\\begin{enumerate*}\n",
       "\\item 'clonstats\\_TRBCHP1.csv'\n",
       "\\item 'clonstats\\_TRBCHP2.csv'\n",
       "\\item 'clonstats\\_TRBCHP3.csv'\n",
       "\\item 'clonstats\\_TRBCHP4.csv'\n",
       "\\item 'clonstats\\_TRBCHP6a.csv'\n",
       "\\item 'clonstats\\_TRBCHP7.csv'\n",
       "\\item 'clonstats\\_TRBCHP8.csv'\n",
       "\\end{enumerate*}\n"
      ],
      "text/markdown": [
       "1. 'clonstats_TRBCHP1.csv'\n",
       "2. 'clonstats_TRBCHP2.csv'\n",
       "3. 'clonstats_TRBCHP3.csv'\n",
       "4. 'clonstats_TRBCHP4.csv'\n",
       "5. 'clonstats_TRBCHP6a.csv'\n",
       "6. 'clonstats_TRBCHP7.csv'\n",
       "7. 'clonstats_TRBCHP8.csv'\n",
       "\n",
       "\n"
      ],
      "text/plain": [
       "[1] \"clonstats_TRBCHP1.csv\"  \"clonstats_TRBCHP2.csv\"  \"clonstats_TRBCHP3.csv\" \n",
       "[4] \"clonstats_TRBCHP4.csv\"  \"clonstats_TRBCHP6a.csv\" \"clonstats_TRBCHP7.csv\" \n",
       "[7] \"clonstats_TRBCHP8.csv\" "
      ]
     },
     "metadata": {},
     "output_type": "display_data"
    }
   ],
   "source": [
    "mylist"
   ]
  },
  {
   "cell_type": "code",
   "execution_count": 19,
   "metadata": {},
   "outputs": [],
   "source": [
    "all.files <- lapply(mylist, function(f){ read.csv(paste0(datapath,f), \n",
    "                                                   header = TRUE)})"
   ]
  },
  {
   "cell_type": "code",
   "execution_count": 20,
   "metadata": {},
   "outputs": [],
   "source": [
    "file.df <- as.data.frame(do.call(rbind, all.files))"
   ]
  },
  {
   "cell_type": "code",
   "execution_count": 21,
   "metadata": {},
   "outputs": [],
   "source": [
    "write.csv(file.df,\n",
    "         file = paste(datapath, \"clonstats_\", \"TRB\", \n",
    "                      \"CHP\", \"total.csv\", sep = \"\"),\n",
    "         row.names = F)"
   ]
  },
  {
   "cell_type": "code",
   "execution_count": null,
   "metadata": {},
   "outputs": [],
   "source": []
  },
  {
   "cell_type": "code",
   "execution_count": 27,
   "metadata": {},
   "outputs": [],
   "source": [
    "file.df$percproductive <- file.df$productive / file.df$total"
   ]
  },
  {
   "cell_type": "code",
   "execution_count": 28,
   "metadata": {},
   "outputs": [
    {
     "data": {
      "text/plain": [
       "   Min. 1st Qu.  Median    Mean 3rd Qu.    Max. \n",
       " 0.6333  0.7418  0.7761  0.7840  0.8092  1.0000 "
      ]
     },
     "metadata": {},
     "output_type": "display_data"
    }
   ],
   "source": [
    "summary(file.df$percproductive)"
   ]
  },
  {
   "cell_type": "markdown",
   "metadata": {},
   "source": [
    "### Make variable patient_id"
   ]
  },
  {
   "cell_type": "code",
   "execution_count": 29,
   "metadata": {},
   "outputs": [],
   "source": [
    "file.df$Patient <- gsub(\"-PBMC.*\", \"\", file.df$filename)\n",
    "file.df$Patient <- gsub(\".*CHP_\", \"\", file.df$Patient)\n"
   ]
  },
  {
   "cell_type": "code",
   "execution_count": 30,
   "metadata": {},
   "outputs": [],
   "source": [
    "file.df$cycle <- gsub(\".*-0\", \"\", file.df$Patient)\n",
    "file.df$Patient <- gsub(\"-.*\", \"\", file.df$Patient)"
   ]
  },
  {
   "cell_type": "code",
   "execution_count": 31,
   "metadata": {},
   "outputs": [
    {
     "data": {
      "text/html": [
       "<table>\n",
       "<caption>A data.frame: 6 × 8</caption>\n",
       "<thead>\n",
       "\t<tr><th scope=col>filename</th><th scope=col>total</th><th scope=col>out_of_frame</th><th scope=col>stopcodon</th><th scope=col>productive</th><th scope=col>Patient</th><th scope=col>cycle</th><th scope=col>percproductive</th></tr>\n",
       "\t<tr><th scope=col>&lt;fct&gt;</th><th scope=col>&lt;int&gt;</th><th scope=col>&lt;int&gt;</th><th scope=col>&lt;int&gt;</th><th scope=col>&lt;int&gt;</th><th scope=col>&lt;chr&gt;</th><th scope=col>&lt;chr&gt;</th><th scope=col>&lt;dbl&gt;</th></tr>\n",
       "</thead>\n",
       "<tbody>\n",
       "\t<tr><td>Nextseq/batch1/ds_batch1/CLONES_TRBCHP_346-01-PBMC-DNA_2000000.txt</td><td> 49</td><td>11</td><td>1</td><td> 37</td><td>346</td><td>1</td><td>0.7551020</td></tr>\n",
       "\t<tr><td>Nextseq/batch1/ds_batch1/CLONES_TRBCHP_348-03-PBMC-DNA_2000000.txt</td><td>142</td><td>24</td><td>4</td><td>114</td><td>348</td><td>3</td><td>0.8028169</td></tr>\n",
       "\t<tr><td>Nextseq/batch1/ds_batch1/CLONES_TRBCHP_348-04-PBMC-DNA_2000000.txt</td><td> 48</td><td>11</td><td>2</td><td> 35</td><td>348</td><td>4</td><td>0.7291667</td></tr>\n",
       "\t<tr><td>Nextseq/batch1/ds_batch1/CLONES_TRBCHP_349-01-PBMC-DNA_2000000.txt</td><td> 15</td><td> 2</td><td>0</td><td> 13</td><td>349</td><td>1</td><td>0.8666667</td></tr>\n",
       "\t<tr><td>Nextseq/batch1/ds_batch1/CLONES_TRBCHP_349-02-PBMC-DNA_2000000.txt</td><td> 91</td><td>19</td><td>2</td><td> 70</td><td>349</td><td>2</td><td>0.7692308</td></tr>\n",
       "\t<tr><td>Nextseq/batch1/ds_batch1/CLONES_TRBCHP_350-03-PBMC-DNA_2000000.txt</td><td>192</td><td>42</td><td>5</td><td>145</td><td>350</td><td>3</td><td>0.7552083</td></tr>\n",
       "</tbody>\n",
       "</table>\n"
      ],
      "text/latex": [
       "A data.frame: 6 × 8\n",
       "\\begin{tabular}{r|llllllll}\n",
       " filename & total & out\\_of\\_frame & stopcodon & productive & Patient & cycle & percproductive\\\\\n",
       " <fct> & <int> & <int> & <int> & <int> & <chr> & <chr> & <dbl>\\\\\n",
       "\\hline\n",
       "\t Nextseq/batch1/ds\\_batch1/CLONES\\_TRBCHP\\_346-01-PBMC-DNA\\_2000000.txt &  49 & 11 & 1 &  37 & 346 & 1 & 0.7551020\\\\\n",
       "\t Nextseq/batch1/ds\\_batch1/CLONES\\_TRBCHP\\_348-03-PBMC-DNA\\_2000000.txt & 142 & 24 & 4 & 114 & 348 & 3 & 0.8028169\\\\\n",
       "\t Nextseq/batch1/ds\\_batch1/CLONES\\_TRBCHP\\_348-04-PBMC-DNA\\_2000000.txt &  48 & 11 & 2 &  35 & 348 & 4 & 0.7291667\\\\\n",
       "\t Nextseq/batch1/ds\\_batch1/CLONES\\_TRBCHP\\_349-01-PBMC-DNA\\_2000000.txt &  15 &  2 & 0 &  13 & 349 & 1 & 0.8666667\\\\\n",
       "\t Nextseq/batch1/ds\\_batch1/CLONES\\_TRBCHP\\_349-02-PBMC-DNA\\_2000000.txt &  91 & 19 & 2 &  70 & 349 & 2 & 0.7692308\\\\\n",
       "\t Nextseq/batch1/ds\\_batch1/CLONES\\_TRBCHP\\_350-03-PBMC-DNA\\_2000000.txt & 192 & 42 & 5 & 145 & 350 & 3 & 0.7552083\\\\\n",
       "\\end{tabular}\n"
      ],
      "text/markdown": [
       "\n",
       "A data.frame: 6 × 8\n",
       "\n",
       "| filename &lt;fct&gt; | total &lt;int&gt; | out_of_frame &lt;int&gt; | stopcodon &lt;int&gt; | productive &lt;int&gt; | Patient &lt;chr&gt; | cycle &lt;chr&gt; | percproductive &lt;dbl&gt; |\n",
       "|---|---|---|---|---|---|---|---|\n",
       "| Nextseq/batch1/ds_batch1/CLONES_TRBCHP_346-01-PBMC-DNA_2000000.txt |  49 | 11 | 1 |  37 | 346 | 1 | 0.7551020 |\n",
       "| Nextseq/batch1/ds_batch1/CLONES_TRBCHP_348-03-PBMC-DNA_2000000.txt | 142 | 24 | 4 | 114 | 348 | 3 | 0.8028169 |\n",
       "| Nextseq/batch1/ds_batch1/CLONES_TRBCHP_348-04-PBMC-DNA_2000000.txt |  48 | 11 | 2 |  35 | 348 | 4 | 0.7291667 |\n",
       "| Nextseq/batch1/ds_batch1/CLONES_TRBCHP_349-01-PBMC-DNA_2000000.txt |  15 |  2 | 0 |  13 | 349 | 1 | 0.8666667 |\n",
       "| Nextseq/batch1/ds_batch1/CLONES_TRBCHP_349-02-PBMC-DNA_2000000.txt |  91 | 19 | 2 |  70 | 349 | 2 | 0.7692308 |\n",
       "| Nextseq/batch1/ds_batch1/CLONES_TRBCHP_350-03-PBMC-DNA_2000000.txt | 192 | 42 | 5 | 145 | 350 | 3 | 0.7552083 |\n",
       "\n"
      ],
      "text/plain": [
       "  filename                                                           total\n",
       "1 Nextseq/batch1/ds_batch1/CLONES_TRBCHP_346-01-PBMC-DNA_2000000.txt  49  \n",
       "2 Nextseq/batch1/ds_batch1/CLONES_TRBCHP_348-03-PBMC-DNA_2000000.txt 142  \n",
       "3 Nextseq/batch1/ds_batch1/CLONES_TRBCHP_348-04-PBMC-DNA_2000000.txt  48  \n",
       "4 Nextseq/batch1/ds_batch1/CLONES_TRBCHP_349-01-PBMC-DNA_2000000.txt  15  \n",
       "5 Nextseq/batch1/ds_batch1/CLONES_TRBCHP_349-02-PBMC-DNA_2000000.txt  91  \n",
       "6 Nextseq/batch1/ds_batch1/CLONES_TRBCHP_350-03-PBMC-DNA_2000000.txt 192  \n",
       "  out_of_frame stopcodon productive Patient cycle percproductive\n",
       "1 11           1          37        346     1     0.7551020     \n",
       "2 24           4         114        348     3     0.8028169     \n",
       "3 11           2          35        348     4     0.7291667     \n",
       "4  2           0          13        349     1     0.8666667     \n",
       "5 19           2          70        349     2     0.7692308     \n",
       "6 42           5         145        350     3     0.7552083     "
      ]
     },
     "metadata": {},
     "output_type": "display_data"
    }
   ],
   "source": [
    "head(file.df)"
   ]
  },
  {
   "cell_type": "code",
   "execution_count": 32,
   "metadata": {},
   "outputs": [
    {
     "data": {
      "text/plain": [
       "\n",
       " 1  2  3  4  5 \n",
       "24 26 26 21 22 "
      ]
     },
     "metadata": {},
     "output_type": "display_data"
    }
   ],
   "source": [
    "table(file.df$cycle)"
   ]
  },
  {
   "cell_type": "code",
   "execution_count": 34,
   "metadata": {},
   "outputs": [
    {
     "data": {
      "text/plain": [
       "$`1`\n",
       "   Min. 1st Qu.  Median    Mean 3rd Qu.    Max. \n",
       " 0.7174  0.7586  0.7795  0.7995  0.8064  1.0000 \n",
       "\n",
       "$`2`\n",
       "   Min. 1st Qu.  Median    Mean 3rd Qu.    Max. \n",
       " 0.6829  0.7432  0.7712  0.7736  0.7973  0.9000 \n",
       "\n",
       "$`3`\n",
       "   Min. 1st Qu.  Median    Mean 3rd Qu.    Max. \n",
       " 0.6972  0.7525  0.7748  0.7823  0.7988  1.0000 \n",
       "\n",
       "$`4`\n",
       "   Min. 1st Qu.  Median    Mean 3rd Qu.    Max. \n",
       " 0.6333  0.7188  0.7637  0.7698  0.8205  0.9355 \n",
       "\n",
       "$`5`\n",
       "   Min. 1st Qu.  Median    Mean 3rd Qu.    Max. \n",
       " 0.6835  0.7466  0.8009  0.7950  0.8208  1.0000 \n"
      ]
     },
     "metadata": {},
     "output_type": "display_data"
    }
   ],
   "source": [
    "tapply(file.df$percproductive, file.df$cycle, summary)"
   ]
  },
  {
   "cell_type": "markdown",
   "metadata": {},
   "source": [
    "# Rerun the following with new pipeline"
   ]
  },
  {
   "cell_type": "markdown",
   "metadata": {},
   "source": [
    "# INSPIRE\n",
    "\n",
    "generated on samwise"
   ]
  },
  {
   "cell_type": "code",
   "execution_count": 20,
   "metadata": {},
   "outputs": [],
   "source": [
    "INSPIRE_Clonstats <- read.csv(\"/Users/anabbi/OneDrive - UHN/Documents/Bioinformatics/clonstats_TRBINSPIRE.csv\", \n",
    "                              header = T)"
   ]
  },
  {
   "cell_type": "code",
   "execution_count": 21,
   "metadata": {},
   "outputs": [],
   "source": [
    "INSPIRE_Clonstats$percproductive <- INSPIRE_Clonstats$productive / INSPIRE_Clonstats$total"
   ]
  },
  {
   "cell_type": "code",
   "execution_count": 22,
   "metadata": {},
   "outputs": [],
   "source": [
    "INSPIRE_Clonstats_onlyblood <- INSPIRE_Clonstats[!grepl(\"ST\", INSPIRE_Clonstats$filename),]"
   ]
  },
  {
   "cell_type": "code",
   "execution_count": 23,
   "metadata": {},
   "outputs": [
    {
     "data": {
      "text/html": [
       "<table>\n",
       "<caption>A data.frame: 6 × 6</caption>\n",
       "<thead>\n",
       "\t<tr><th scope=col>filename</th><th scope=col>total</th><th scope=col>out_of_frame</th><th scope=col>stopcodon</th><th scope=col>productive</th><th scope=col>percproductive</th></tr>\n",
       "\t<tr><th scope=col>&lt;fct&gt;</th><th scope=col>&lt;int&gt;</th><th scope=col>&lt;int&gt;</th><th scope=col>&lt;int&gt;</th><th scope=col>&lt;int&gt;</th><th scope=col>&lt;dbl&gt;</th></tr>\n",
       "</thead>\n",
       "<tbody>\n",
       "\t<tr><td>CLONES_TRBINSPIRE_INS-A-002-C3B_TCR-J_D_TCR-V_genomic_868_AGCACCTC.txt </td><td>1008</td><td>180</td><td>20</td><td> 808</td><td>0.8015873</td></tr>\n",
       "\t<tr><td>CLONES_TRBINSPIRE_INS-A-002-SB_TCR-J_D_TCR-V_genomic_1000_AAACATCG.txt </td><td>1410</td><td>274</td><td>31</td><td>1105</td><td>0.7836879</td></tr>\n",
       "\t<tr><td>CLONES_TRBINSPIRE_INS-A-002-ST_TCR-J_D_TCR-V_genomic_1000_AACGTGAT.txt </td><td> 476</td><td> 97</td><td>11</td><td> 368</td><td>0.7731092</td></tr>\n",
       "\t<tr><td>CLONES_TRBINSPIRE_INS-B-002-EOTB_TCR-J_D_TCR-V_genomic_961_AGCCATGC.txt</td><td> 884</td><td>175</td><td>15</td><td> 694</td><td>0.7850679</td></tr>\n",
       "\t<tr><td>CLONES_TRBINSPIRE_INS-B-002-SB_TCR-J_D_TCR-V_genomic_1000_AGTGGTCA.txt </td><td>1861</td><td>331</td><td>35</td><td>1495</td><td>0.8033315</td></tr>\n",
       "\t<tr><td>CLONES_TRBINSPIRE_INS-B-002-ST_TCR-J_D_TCR-V_genomic_500_ATGCCTAA.txt  </td><td> 319</td><td> 59</td><td> 5</td><td> 255</td><td>0.7993730</td></tr>\n",
       "</tbody>\n",
       "</table>\n"
      ],
      "text/latex": [
       "A data.frame: 6 × 6\n",
       "\\begin{tabular}{r|llllll}\n",
       " filename & total & out\\_of\\_frame & stopcodon & productive & percproductive\\\\\n",
       " <fct> & <int> & <int> & <int> & <int> & <dbl>\\\\\n",
       "\\hline\n",
       "\t CLONES\\_TRBINSPIRE\\_INS-A-002-C3B\\_TCR-J\\_D\\_TCR-V\\_genomic\\_868\\_AGCACCTC.txt  & 1008 & 180 & 20 &  808 & 0.8015873\\\\\n",
       "\t CLONES\\_TRBINSPIRE\\_INS-A-002-SB\\_TCR-J\\_D\\_TCR-V\\_genomic\\_1000\\_AAACATCG.txt  & 1410 & 274 & 31 & 1105 & 0.7836879\\\\\n",
       "\t CLONES\\_TRBINSPIRE\\_INS-A-002-ST\\_TCR-J\\_D\\_TCR-V\\_genomic\\_1000\\_AACGTGAT.txt  &  476 &  97 & 11 &  368 & 0.7731092\\\\\n",
       "\t CLONES\\_TRBINSPIRE\\_INS-B-002-EOTB\\_TCR-J\\_D\\_TCR-V\\_genomic\\_961\\_AGCCATGC.txt &  884 & 175 & 15 &  694 & 0.7850679\\\\\n",
       "\t CLONES\\_TRBINSPIRE\\_INS-B-002-SB\\_TCR-J\\_D\\_TCR-V\\_genomic\\_1000\\_AGTGGTCA.txt  & 1861 & 331 & 35 & 1495 & 0.8033315\\\\\n",
       "\t CLONES\\_TRBINSPIRE\\_INS-B-002-ST\\_TCR-J\\_D\\_TCR-V\\_genomic\\_500\\_ATGCCTAA.txt   &  319 &  59 &  5 &  255 & 0.7993730\\\\\n",
       "\\end{tabular}\n"
      ],
      "text/markdown": [
       "\n",
       "A data.frame: 6 × 6\n",
       "\n",
       "| filename &lt;fct&gt; | total &lt;int&gt; | out_of_frame &lt;int&gt; | stopcodon &lt;int&gt; | productive &lt;int&gt; | percproductive &lt;dbl&gt; |\n",
       "|---|---|---|---|---|---|\n",
       "| CLONES_TRBINSPIRE_INS-A-002-C3B_TCR-J_D_TCR-V_genomic_868_AGCACCTC.txt  | 1008 | 180 | 20 |  808 | 0.8015873 |\n",
       "| CLONES_TRBINSPIRE_INS-A-002-SB_TCR-J_D_TCR-V_genomic_1000_AAACATCG.txt  | 1410 | 274 | 31 | 1105 | 0.7836879 |\n",
       "| CLONES_TRBINSPIRE_INS-A-002-ST_TCR-J_D_TCR-V_genomic_1000_AACGTGAT.txt  |  476 |  97 | 11 |  368 | 0.7731092 |\n",
       "| CLONES_TRBINSPIRE_INS-B-002-EOTB_TCR-J_D_TCR-V_genomic_961_AGCCATGC.txt |  884 | 175 | 15 |  694 | 0.7850679 |\n",
       "| CLONES_TRBINSPIRE_INS-B-002-SB_TCR-J_D_TCR-V_genomic_1000_AGTGGTCA.txt  | 1861 | 331 | 35 | 1495 | 0.8033315 |\n",
       "| CLONES_TRBINSPIRE_INS-B-002-ST_TCR-J_D_TCR-V_genomic_500_ATGCCTAA.txt   |  319 |  59 |  5 |  255 | 0.7993730 |\n",
       "\n"
      ],
      "text/plain": [
       "  filename                                                                total\n",
       "1 CLONES_TRBINSPIRE_INS-A-002-C3B_TCR-J_D_TCR-V_genomic_868_AGCACCTC.txt  1008 \n",
       "2 CLONES_TRBINSPIRE_INS-A-002-SB_TCR-J_D_TCR-V_genomic_1000_AAACATCG.txt  1410 \n",
       "3 CLONES_TRBINSPIRE_INS-A-002-ST_TCR-J_D_TCR-V_genomic_1000_AACGTGAT.txt   476 \n",
       "4 CLONES_TRBINSPIRE_INS-B-002-EOTB_TCR-J_D_TCR-V_genomic_961_AGCCATGC.txt  884 \n",
       "5 CLONES_TRBINSPIRE_INS-B-002-SB_TCR-J_D_TCR-V_genomic_1000_AGTGGTCA.txt  1861 \n",
       "6 CLONES_TRBINSPIRE_INS-B-002-ST_TCR-J_D_TCR-V_genomic_500_ATGCCTAA.txt    319 \n",
       "  out_of_frame stopcodon productive percproductive\n",
       "1 180          20         808       0.8015873     \n",
       "2 274          31        1105       0.7836879     \n",
       "3  97          11         368       0.7731092     \n",
       "4 175          15         694       0.7850679     \n",
       "5 331          35        1495       0.8033315     \n",
       "6  59           5         255       0.7993730     "
      ]
     },
     "metadata": {},
     "output_type": "display_data"
    }
   ],
   "source": [
    "head(INSPIRE_Clonstats)"
   ]
  },
  {
   "cell_type": "markdown",
   "metadata": {},
   "source": [
    "# TLML\n",
    "\n",
    "from samwise"
   ]
  },
  {
   "cell_type": "code",
   "execution_count": 24,
   "metadata": {},
   "outputs": [],
   "source": [
    "TLML_Clonstats <- read.csv(\"/Users/anabbi/OneDrive - UHN/Documents/Bioinformatics/clonstats_TRBTLML.csv\", \n",
    "                              header = T)"
   ]
  },
  {
   "cell_type": "code",
   "execution_count": 25,
   "metadata": {},
   "outputs": [],
   "source": [
    "TLML_Clonstats$percproductive <- TLML_Clonstats$productive / TLML_Clonstats$total"
   ]
  },
  {
   "cell_type": "code",
   "execution_count": 26,
   "metadata": {},
   "outputs": [
    {
     "data": {
      "text/plain": [
       "   Min. 1st Qu.  Median    Mean 3rd Qu.    Max. \n",
       " 0.7341  0.7875  0.9016  0.8669  0.9452  0.9720 "
      ]
     },
     "metadata": {},
     "output_type": "display_data"
    }
   ],
   "source": [
    "summary(TLML_Clonstats$percproductive)"
   ]
  },
  {
   "cell_type": "markdown",
   "metadata": {},
   "source": [
    "# Lymphotrack\n",
    "\n",
    "from samwise"
   ]
  },
  {
   "cell_type": "code",
   "execution_count": 27,
   "metadata": {},
   "outputs": [],
   "source": [
    "Lympho_Clonstats <- read.csv(\"/Users/anabbi/OneDrive - UHN/Documents/Bioinformatics/clonstats_TRBLymphotrack.csv\", \n",
    "                              header = T)"
   ]
  },
  {
   "cell_type": "code",
   "execution_count": 28,
   "metadata": {},
   "outputs": [],
   "source": [
    "Lympho_Clonstats$percproductive <- Lympho_Clonstats$productive / Lympho_Clonstats$total"
   ]
  },
  {
   "cell_type": "code",
   "execution_count": 29,
   "metadata": {},
   "outputs": [
    {
     "data": {
      "text/plain": [
       "   Min. 1st Qu.  Median    Mean 3rd Qu.    Max. \n",
       " 0.7498  0.7636  0.7787  0.7775  0.7860  0.8217 "
      ]
     },
     "metadata": {},
     "output_type": "display_data"
    }
   ],
   "source": [
    "summary(Lympho_Clonstats$percproductive)"
   ]
  },
  {
   "cell_type": "markdown",
   "metadata": {},
   "source": [
    "# NPC\n",
    "from samwise"
   ]
  },
  {
   "cell_type": "code",
   "execution_count": 30,
   "metadata": {},
   "outputs": [],
   "source": [
    "npc_Clonstats <- read.csv(\"/Users/anabbi/OneDrive - UHN/Documents/Bioinformatics/clonstats_TRBNPC_captured.csv\", \n",
    "                              header = T)"
   ]
  },
  {
   "cell_type": "code",
   "execution_count": 31,
   "metadata": {},
   "outputs": [],
   "source": [
    "npc_Clonstats$percproductive <- npc_Clonstats$productive / npc_Clonstats$total"
   ]
  },
  {
   "cell_type": "code",
   "execution_count": 32,
   "metadata": {},
   "outputs": [
    {
     "data": {
      "text/plain": [
       "   Min. 1st Qu.  Median    Mean 3rd Qu.    Max. \n",
       " 0.5294  0.6742  0.8169  0.7742  0.8636  1.0000 "
      ]
     },
     "metadata": {},
     "output_type": "display_data"
    }
   ],
   "source": [
    "summary(npc_Clonstats$percproductive)"
   ]
  },
  {
   "cell_type": "markdown",
   "metadata": {},
   "source": [
    "# TCL lines"
   ]
  },
  {
   "cell_type": "code",
   "execution_count": 33,
   "metadata": {},
   "outputs": [],
   "source": [
    "tclline_Clonstats <- read.csv(\"/Users/anabbi/OneDrive - UHN/Documents/Bioinformatics/clonstats_TRBTCLlines.csv\", \n",
    "                              header = T)"
   ]
  },
  {
   "cell_type": "code",
   "execution_count": 34,
   "metadata": {},
   "outputs": [],
   "source": [
    "tclline_Clonstats$percproductive <- tclline_Clonstats$productive / tclline_Clonstats$total"
   ]
  },
  {
   "cell_type": "code",
   "execution_count": 35,
   "metadata": {},
   "outputs": [
    {
     "data": {
      "text/plain": [
       "   Min. 1st Qu.  Median    Mean 3rd Qu.    Max. \n",
       "0.07692 0.19181 0.38586 0.38883 0.56557 0.74161 "
      ]
     },
     "metadata": {},
     "output_type": "display_data"
    }
   ],
   "source": [
    "summary(tclline_Clonstats$percproductive)"
   ]
  },
  {
   "cell_type": "code",
   "execution_count": 36,
   "metadata": {},
   "outputs": [
    {
     "data": {
      "text/html": [
       "<table>\n",
       "<caption>A data.frame: 10 × 6</caption>\n",
       "<thead>\n",
       "\t<tr><th scope=col>filename</th><th scope=col>total</th><th scope=col>out_of_frame</th><th scope=col>stopcodon</th><th scope=col>productive</th><th scope=col>percproductive</th></tr>\n",
       "\t<tr><th scope=col>&lt;fct&gt;</th><th scope=col>&lt;int&gt;</th><th scope=col>&lt;int&gt;</th><th scope=col>&lt;int&gt;</th><th scope=col>&lt;int&gt;</th><th scope=col>&lt;dbl&gt;</th></tr>\n",
       "</thead>\n",
       "<tbody>\n",
       "\t<tr><td>CLONES_TRBA037.txt          </td><td>298</td><td>72</td><td>5</td><td>221</td><td>0.74161074</td></tr>\n",
       "\t<tr><td>CLONES_TRBL2D8.txt          </td><td> 26</td><td>22</td><td>1</td><td>  3</td><td>0.11538462</td></tr>\n",
       "\t<tr><td>CLONES_TRBM36-EZM.txt       </td><td> 67</td><td>34</td><td>1</td><td> 32</td><td>0.47761194</td></tr>\n",
       "\t<tr><td>CLONES_TRBM36-TIL2-1E7P3.txt</td><td>163</td><td>50</td><td>4</td><td>109</td><td>0.66871166</td></tr>\n",
       "\t<tr><td>CLONES_TRBOV7-TIL2.txt      </td><td>123</td><td>48</td><td>3</td><td> 72</td><td>0.58536585</td></tr>\n",
       "\t<tr><td>CLONES_TRBSE14-2005.txt     </td><td> 32</td><td>23</td><td>1</td><td>  8</td><td>0.25000000</td></tr>\n",
       "\t<tr><td>CLONES_TRBSE14-2033.txt     </td><td> 29</td><td>24</td><td>0</td><td>  5</td><td>0.17241379</td></tr>\n",
       "\t<tr><td>CLONES_TRBSE14-2034.txt     </td><td> 26</td><td>22</td><td>2</td><td>  2</td><td>0.07692308</td></tr>\n",
       "\t<tr><td>CLONES_TRBSE14-2035.txt     </td><td> 17</td><td>11</td><td>1</td><td>  5</td><td>0.29411765</td></tr>\n",
       "\t<tr><td>CLONES_TRBSTIM1-CY3.txt     </td><td> 81</td><td>39</td><td>1</td><td> 41</td><td>0.50617284</td></tr>\n",
       "</tbody>\n",
       "</table>\n"
      ],
      "text/latex": [
       "A data.frame: 10 × 6\n",
       "\\begin{tabular}{r|llllll}\n",
       " filename & total & out\\_of\\_frame & stopcodon & productive & percproductive\\\\\n",
       " <fct> & <int> & <int> & <int> & <int> & <dbl>\\\\\n",
       "\\hline\n",
       "\t CLONES\\_TRBA037.txt           & 298 & 72 & 5 & 221 & 0.74161074\\\\\n",
       "\t CLONES\\_TRBL2D8.txt           &  26 & 22 & 1 &   3 & 0.11538462\\\\\n",
       "\t CLONES\\_TRBM36-EZM.txt        &  67 & 34 & 1 &  32 & 0.47761194\\\\\n",
       "\t CLONES\\_TRBM36-TIL2-1E7P3.txt & 163 & 50 & 4 & 109 & 0.66871166\\\\\n",
       "\t CLONES\\_TRBOV7-TIL2.txt       & 123 & 48 & 3 &  72 & 0.58536585\\\\\n",
       "\t CLONES\\_TRBSE14-2005.txt      &  32 & 23 & 1 &   8 & 0.25000000\\\\\n",
       "\t CLONES\\_TRBSE14-2033.txt      &  29 & 24 & 0 &   5 & 0.17241379\\\\\n",
       "\t CLONES\\_TRBSE14-2034.txt      &  26 & 22 & 2 &   2 & 0.07692308\\\\\n",
       "\t CLONES\\_TRBSE14-2035.txt      &  17 & 11 & 1 &   5 & 0.29411765\\\\\n",
       "\t CLONES\\_TRBSTIM1-CY3.txt      &  81 & 39 & 1 &  41 & 0.50617284\\\\\n",
       "\\end{tabular}\n"
      ],
      "text/markdown": [
       "\n",
       "A data.frame: 10 × 6\n",
       "\n",
       "| filename &lt;fct&gt; | total &lt;int&gt; | out_of_frame &lt;int&gt; | stopcodon &lt;int&gt; | productive &lt;int&gt; | percproductive &lt;dbl&gt; |\n",
       "|---|---|---|---|---|---|\n",
       "| CLONES_TRBA037.txt           | 298 | 72 | 5 | 221 | 0.74161074 |\n",
       "| CLONES_TRBL2D8.txt           |  26 | 22 | 1 |   3 | 0.11538462 |\n",
       "| CLONES_TRBM36-EZM.txt        |  67 | 34 | 1 |  32 | 0.47761194 |\n",
       "| CLONES_TRBM36-TIL2-1E7P3.txt | 163 | 50 | 4 | 109 | 0.66871166 |\n",
       "| CLONES_TRBOV7-TIL2.txt       | 123 | 48 | 3 |  72 | 0.58536585 |\n",
       "| CLONES_TRBSE14-2005.txt      |  32 | 23 | 1 |   8 | 0.25000000 |\n",
       "| CLONES_TRBSE14-2033.txt      |  29 | 24 | 0 |   5 | 0.17241379 |\n",
       "| CLONES_TRBSE14-2034.txt      |  26 | 22 | 2 |   2 | 0.07692308 |\n",
       "| CLONES_TRBSE14-2035.txt      |  17 | 11 | 1 |   5 | 0.29411765 |\n",
       "| CLONES_TRBSTIM1-CY3.txt      |  81 | 39 | 1 |  41 | 0.50617284 |\n",
       "\n"
      ],
      "text/plain": [
       "   filename                     total out_of_frame stopcodon productive\n",
       "1  CLONES_TRBA037.txt           298   72           5         221       \n",
       "2  CLONES_TRBL2D8.txt            26   22           1           3       \n",
       "3  CLONES_TRBM36-EZM.txt         67   34           1          32       \n",
       "4  CLONES_TRBM36-TIL2-1E7P3.txt 163   50           4         109       \n",
       "5  CLONES_TRBOV7-TIL2.txt       123   48           3          72       \n",
       "6  CLONES_TRBSE14-2005.txt       32   23           1           8       \n",
       "7  CLONES_TRBSE14-2033.txt       29   24           0           5       \n",
       "8  CLONES_TRBSE14-2034.txt       26   22           2           2       \n",
       "9  CLONES_TRBSE14-2035.txt       17   11           1           5       \n",
       "10 CLONES_TRBSTIM1-CY3.txt       81   39           1          41       \n",
       "   percproductive\n",
       "1  0.74161074    \n",
       "2  0.11538462    \n",
       "3  0.47761194    \n",
       "4  0.66871166    \n",
       "5  0.58536585    \n",
       "6  0.25000000    \n",
       "7  0.17241379    \n",
       "8  0.07692308    \n",
       "9  0.29411765    \n",
       "10 0.50617284    "
      ]
     },
     "metadata": {},
     "output_type": "display_data"
    }
   ],
   "source": [
    "tclline_Clonstats"
   ]
  },
  {
   "cell_type": "markdown",
   "metadata": {},
   "source": [
    "# LFS"
   ]
  },
  {
   "cell_type": "code",
   "execution_count": 37,
   "metadata": {},
   "outputs": [],
   "source": [
    "flelstLFS <- list.files(\"/Users/anabbi/OneDrive - UHN/Documents/INTERCEPT/Data/LFS\",\n",
    "                     recursive = FALSE,\n",
    "                     pattern = paste(\"CLONES\", \"TRB\", sep = \"_\"))"
   ]
  },
  {
   "cell_type": "code",
   "execution_count": 38,
   "metadata": {
    "scrolled": true
   },
   "outputs": [
    {
     "data": {
      "text/html": [
       "<ol class=list-inline>\n",
       "\t<li>'CLONES_TRBLFS_TCR-4535-PBMC-DNA.txt'</li>\n",
       "\t<li>'CLONES_TRBLFS_TCR-4570-PBMC-DNA.txt'</li>\n",
       "\t<li>'CLONES_TRBLFS_TCR-4602-PBMC-DNA.txt'</li>\n",
       "\t<li>'CLONES_TRBLFS_TCR-4758-PBMC-DNA.txt'</li>\n",
       "\t<li>'CLONES_TRBLFS_TCR-4759-PBMC-DNA.txt'</li>\n",
       "\t<li>'CLONES_TRBLFS_TCR-4783-PBMC-DNA.txt'</li>\n",
       "\t<li>'CLONES_TRBLFS_TCR-4837-PBMC-DNA.txt'</li>\n",
       "\t<li>'CLONES_TRBLFS_TCR-4838-PBMC-DNA.txt'</li>\n",
       "\t<li>'CLONES_TRBLFS_TCR-5014-PBMC-DNA.txt'</li>\n",
       "\t<li>'CLONES_TRBLFS_TCR-5067-PBMC-DNA.txt'</li>\n",
       "</ol>\n"
      ],
      "text/latex": [
       "\\begin{enumerate*}\n",
       "\\item 'CLONES\\_TRBLFS\\_TCR-4535-PBMC-DNA.txt'\n",
       "\\item 'CLONES\\_TRBLFS\\_TCR-4570-PBMC-DNA.txt'\n",
       "\\item 'CLONES\\_TRBLFS\\_TCR-4602-PBMC-DNA.txt'\n",
       "\\item 'CLONES\\_TRBLFS\\_TCR-4758-PBMC-DNA.txt'\n",
       "\\item 'CLONES\\_TRBLFS\\_TCR-4759-PBMC-DNA.txt'\n",
       "\\item 'CLONES\\_TRBLFS\\_TCR-4783-PBMC-DNA.txt'\n",
       "\\item 'CLONES\\_TRBLFS\\_TCR-4837-PBMC-DNA.txt'\n",
       "\\item 'CLONES\\_TRBLFS\\_TCR-4838-PBMC-DNA.txt'\n",
       "\\item 'CLONES\\_TRBLFS\\_TCR-5014-PBMC-DNA.txt'\n",
       "\\item 'CLONES\\_TRBLFS\\_TCR-5067-PBMC-DNA.txt'\n",
       "\\end{enumerate*}\n"
      ],
      "text/markdown": [
       "1. 'CLONES_TRBLFS_TCR-4535-PBMC-DNA.txt'\n",
       "2. 'CLONES_TRBLFS_TCR-4570-PBMC-DNA.txt'\n",
       "3. 'CLONES_TRBLFS_TCR-4602-PBMC-DNA.txt'\n",
       "4. 'CLONES_TRBLFS_TCR-4758-PBMC-DNA.txt'\n",
       "5. 'CLONES_TRBLFS_TCR-4759-PBMC-DNA.txt'\n",
       "6. 'CLONES_TRBLFS_TCR-4783-PBMC-DNA.txt'\n",
       "7. 'CLONES_TRBLFS_TCR-4837-PBMC-DNA.txt'\n",
       "8. 'CLONES_TRBLFS_TCR-4838-PBMC-DNA.txt'\n",
       "9. 'CLONES_TRBLFS_TCR-5014-PBMC-DNA.txt'\n",
       "10. 'CLONES_TRBLFS_TCR-5067-PBMC-DNA.txt'\n",
       "\n",
       "\n"
      ],
      "text/plain": [
       " [1] \"CLONES_TRBLFS_TCR-4535-PBMC-DNA.txt\" \"CLONES_TRBLFS_TCR-4570-PBMC-DNA.txt\"\n",
       " [3] \"CLONES_TRBLFS_TCR-4602-PBMC-DNA.txt\" \"CLONES_TRBLFS_TCR-4758-PBMC-DNA.txt\"\n",
       " [5] \"CLONES_TRBLFS_TCR-4759-PBMC-DNA.txt\" \"CLONES_TRBLFS_TCR-4783-PBMC-DNA.txt\"\n",
       " [7] \"CLONES_TRBLFS_TCR-4837-PBMC-DNA.txt\" \"CLONES_TRBLFS_TCR-4838-PBMC-DNA.txt\"\n",
       " [9] \"CLONES_TRBLFS_TCR-5014-PBMC-DNA.txt\" \"CLONES_TRBLFS_TCR-5067-PBMC-DNA.txt\""
      ]
     },
     "metadata": {},
     "output_type": "display_data"
    }
   ],
   "source": [
    "flelstLFS"
   ]
  },
  {
   "cell_type": "code",
   "execution_count": 39,
   "metadata": {},
   "outputs": [
    {
     "name": "stderr",
     "output_type": "stream",
     "text": [
      "list of files:\n"
     ]
    },
    {
     "name": "stdout",
     "output_type": "stream",
     "text": [
      " [1] \"CLONES_TRBLFS_TCR-4535-PBMC-DNA.txt\" \"CLONES_TRBLFS_TCR-4570-PBMC-DNA.txt\"\n",
      " [3] \"CLONES_TRBLFS_TCR-4602-PBMC-DNA.txt\" \"CLONES_TRBLFS_TCR-4758-PBMC-DNA.txt\"\n",
      " [5] \"CLONES_TRBLFS_TCR-4759-PBMC-DNA.txt\" \"CLONES_TRBLFS_TCR-4783-PBMC-DNA.txt\"\n",
      " [7] \"CLONES_TRBLFS_TCR-4837-PBMC-DNA.txt\" \"CLONES_TRBLFS_TCR-4838-PBMC-DNA.txt\"\n",
      " [9] \"CLONES_TRBLFS_TCR-5014-PBMC-DNA.txt\" \"CLONES_TRBLFS_TCR-5067-PBMC-DNA.txt\"\n"
     ]
    }
   ],
   "source": [
    "clonstatfx(flelstLFS, \"TRB\", \n",
    "           \"/Users/anabbi/OneDrive - UHN/Documents/INTERCEPT/Data/LFS/\", \"LFS\")"
   ]
  },
  {
   "cell_type": "markdown",
   "metadata": {},
   "source": [
    "# HSJ"
   ]
  },
  {
   "cell_type": "code",
   "execution_count": 5,
   "metadata": {},
   "outputs": [],
   "source": [
    "flelstHSJ <- list.files(\"/Users/anabbi/OneDrive - UHN/Documents/Jabado/TCR_HSJ/Data\",\n",
    "                     recursive = TRUE,\n",
    "                     pattern = paste(\"CLONES\", \"TRB\", sep = \"_\"))"
   ]
  },
  {
   "cell_type": "code",
   "execution_count": 9,
   "metadata": {},
   "outputs": [
    {
     "name": "stderr",
     "output_type": "stream",
     "text": [
      "list of files:\n"
     ]
    },
    {
     "name": "stdout",
     "output_type": "stream",
     "text": [
      " [1] \"batch1/CLONES_TRB23-Blood.txt\"                   \n",
      " [2] \"batch1/CLONES_TRB23-Tum.txt\"                     \n",
      " [3] \"batch1/CLONES_TRB50-Tum.txt\"                     \n",
      " [4] \"batch1/CLONES_TRB51-Tum.txt\"                     \n",
      " [5] \"batch1/ds_batch1/CLONES_TRB23-Tum_2000000.txt\"   \n",
      " [6] \"batch1/ds_batch1/CLONES_TRB50-Tum_2000000.txt\"   \n",
      " [7] \"batch1/ds_batch1/CLONES_TRB51-Tum_2000000.txt\"   \n",
      " [8] \"batch2/CLONES_TRB023-CSF.txt\"                    \n",
      " [9] \"batch2/CLONES_TRB051-CSF.txt\"                    \n",
      "[10] \"batch2/CLONES_TRB051R-CSF.txt\"                   \n",
      "[11] \"batch2/CLONES_TRB19-CSF.txt\"                     \n",
      "[12] \"batch2/CLONES_TRB41-CSF.txt\"                     \n",
      "[13] \"batch2/CLONES_TRB67-CSF.txt\"                     \n",
      "[14] \"batch2/CLONES_TRB76-Tum.txt\"                     \n",
      "[15] \"batch2/CLONES_TRB77-Tum.txt\"                     \n",
      "[16] \"batch2/ds_batch2/CLONES_TRB19-CSF_2000000.txt\"   \n",
      "[17] \"batch2/ds_batch2/CLONES_TRB23-CSF_2000000.txt\"   \n",
      "[18] \"batch2/ds_batch2/CLONES_TRB41-CSF_2000000.txt\"   \n",
      "[19] \"batch2/ds_batch2/CLONES_TRB51-CSF_2000000.txt\"   \n",
      "[20] \"batch2/ds_batch2/CLONES_TRB51R-CSF_2000000.txt\"  \n",
      "[21] \"batch2/ds_batch2/CLONES_TRB67-CSF_2000000.txt\"   \n",
      "[22] \"batch2/ds_batch2/CLONES_TRB76-Tum_2000000.txt\"   \n",
      "[23] \"batch2/ds_batch2/CLONES_TRB77-Tum_2000000.txt\"   \n",
      "[24] \"batch3/CLONES_TRB23-Plasma.txt\"                  \n",
      "[25] \"batch3/CLONES_TRB50-CSF.txt\"                     \n",
      "[26] \"batch3/CLONES_TRB67-Tum.txt\"                     \n",
      "[27] \"batch3/CLONES_TRB68-Plasma.txt\"                  \n",
      "[28] \"batch3/CLONES_TRB68-Tum.txt\"                     \n",
      "[29] \"batch3/CLONES_TRB76-CSF.txt\"                     \n",
      "[30] \"batch3/CLONES_TRB76-Plasma.txt\"                  \n",
      "[31] \"batch3/CLONES_TRB77-CSF.txt\"                     \n",
      "[32] \"batch3/CLONES_TRB77-Plasma.txt\"                  \n",
      "[33] \"batch3/ds_batch3/CLONES_TRB50-CSF_2000000.txt\"   \n",
      "[34] \"batch3/ds_batch3/CLONES_TRB67-Tum_2000000.txt\"   \n",
      "[35] \"batch3/ds_batch3/CLONES_TRB68-Plasma_2000000.txt\"\n",
      "[36] \"batch3/ds_batch3/CLONES_TRB76-CSF_2000000.txt\"   \n",
      "[37] \"batch3/ds_batch3/CLONES_TRB76-Plasma_2000000.txt\"\n",
      "[38] \"partial_batch3/CLONES_TRB023-Plasma.txt\"         \n",
      "[39] \"partial_batch3/CLONES_TRB50-CSF.txt\"             \n",
      "[40] \"partial_batch3/CLONES_TRB67-Tum.txt\"             \n",
      "[41] \"partial_batch3/CLONES_TRB68-Plasma.txt\"          \n",
      "[42] \"partial_batch3/CLONES_TRB68-Tum.txt\"             \n",
      "[43] \"partial_batch3/CLONES_TRB76-CSF.txt\"             \n",
      "[44] \"partial_batch3/CLONES_TRB76-Plasma.txt\"          \n",
      "[45] \"partial_batch3/CLONES_TRB77-CSF.txt\"             \n",
      "[46] \"partial_batch3/CLONES_TRB77-Plasma.txt\"          \n"
     ]
    }
   ],
   "source": [
    "clonstatfx(flelstHSJ, \"TRB\", \n",
    "           \"/Users/anabbi/OneDrive - UHN/Documents/Jabado/TCR_HSJ/Data/\", \"HSJ\")"
   ]
  },
  {
   "cell_type": "code",
   "execution_count": null,
   "metadata": {},
   "outputs": [],
   "source": []
  }
 ],
 "metadata": {
  "kernelspec": {
   "display_name": "R",
   "language": "R",
   "name": "ir"
  },
  "language_info": {
   "codemirror_mode": "r",
   "file_extension": ".r",
   "mimetype": "text/x-r-source",
   "name": "R",
   "pygments_lexer": "r",
   "version": "3.5.1"
  },
  "toc": {
   "base_numbering": 1,
   "nav_menu": {},
   "number_sections": false,
   "sideBar": true,
   "skip_h1_title": false,
   "title_cell": "Table of Contents",
   "title_sidebar": "Contents",
   "toc_cell": true,
   "toc_position": {
    "height": "calc(100% - 180px)",
    "left": "10px",
    "top": "150px",
    "width": "232.339px"
   },
   "toc_section_display": true,
   "toc_window_display": true
  }
 },
 "nbformat": 4,
 "nbformat_minor": 2
}
