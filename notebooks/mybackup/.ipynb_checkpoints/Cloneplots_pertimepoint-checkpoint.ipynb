{
 "cells": [
  {
   "cell_type": "markdown",
   "metadata": {
    "toc": true
   },
   "source": [
    "<h1>Table of Contents<span class=\"tocSkip\"></span></h1>\n",
    "<div class=\"toc\"><ul class=\"toc-item\"><li><span><a href=\"#Dependencies\" data-toc-modified-id=\"Dependencies-1\"><span class=\"toc-item-num\">1&nbsp;&nbsp;</span>Dependencies</a></span></li><li><span><a href=\"#FUNCTION-heatmap-of-T-cell-subsets,-NCR,-ATCs-for-each-chemo-cycle\" data-toc-modified-id=\"FUNCTION-heatmap-of-T-cell-subsets,-NCR,-ATCs-for-each-chemo-cycle-2\"><span class=\"toc-item-num\">2&nbsp;&nbsp;</span>FUNCTION heatmap of T cell subsets, NCR, ATCs for each chemo cycle</a></span></li><li><span><a href=\"#FUNCTION-for-clone-plot-for-all-patients-at-one-chemo-cycle,-ordered-by-patientorder-in-T-cell-heatmap-above\" data-toc-modified-id=\"FUNCTION-for-clone-plot-for-all-patients-at-one-chemo-cycle,-ordered-by-patientorder-in-T-cell-heatmap-above-3\"><span class=\"toc-item-num\">3&nbsp;&nbsp;</span>FUNCTION for clone plot for all patients at one chemo cycle, ordered by patientorder in T-cell heatmap above</a></span></li><li><span><a href=\"#FUNCTION-for-clone-plot-for-all-patients-at-one-chemo-cycle,-ordered-by-Shannon-diversity-from-diversity_stats-(productive-stats)\" data-toc-modified-id=\"FUNCTION-for-clone-plot-for-all-patients-at-one-chemo-cycle,-ordered-by-Shannon-diversity-from-diversity_stats-(productive-stats)-4\"><span class=\"toc-item-num\">4&nbsp;&nbsp;</span>FUNCTION for clone plot for all patients at one chemo cycle, ordered by Shannon diversity from diversity_stats (productive stats)</a></span></li></ul></div>"
   ]
  },
  {
   "cell_type": "markdown",
   "metadata": {},
   "source": [
    "# Dependencies"
   ]
  },
  {
   "cell_type": "code",
   "execution_count": 1,
   "metadata": {},
   "outputs": [
    {
     "name": "stderr",
     "output_type": "stream",
     "text": [
      "Loading required package: grid\n",
      "========================================\n",
      "ComplexHeatmap version 1.99.5\n",
      "Bioconductor page: http://bioconductor.org/packages/ComplexHeatmap/\n",
      "Github page: https://github.com/jokergoo/ComplexHeatmap\n",
      "Documentation: http://jokergoo.github.io/ComplexHeatmap-reference\n",
      "\n",
      "If you use it in published research, please cite:\n",
      "Gu, Z. Complex heatmaps reveal patterns and correlations in multidimensional \n",
      "  genomic data. Bioinformatics 2016.\n",
      "========================================\n",
      "\n",
      "This version is a major update of the package. The major new features are:\n",
      "\n",
      "1. Support splitting heatmaps by columns.\n",
      "2. Support concatenating heatmaps/annotations vertically.\n",
      "3. Provide more types of heatmap annotations.\n",
      "4. Support UpSet plot.\n",
      "\n",
      "Note this version is not 100% compatible with the older versions (< 1.99.0).\n",
      "Please check by `vignette('difference_to_old_versions', package = 'ComplexHeatmap')`.\n",
      "\n",
      "Above messages will be removed in the future.\n",
      "\n",
      "========================================\n",
      "circlize version 0.4.9\n",
      "CRAN page: https://cran.r-project.org/package=circlize\n",
      "Github page: https://github.com/jokergoo/circlize\n",
      "Documentation: https://jokergoo.github.io/circlize_book/book/\n",
      "\n",
      "If you use it in published research, please cite:\n",
      "Gu, Z. circlize implements and enhances circular visualization\n",
      "  in R. Bioinformatics 2014.\n",
      "\n",
      "This message can be suppressed by:\n",
      "  suppressPackageStartupMessages(library(circlize))\n",
      "========================================\n",
      "\n"
     ]
    }
   ],
   "source": [
    "library(ggplot2)\n",
    "library(gridExtra)\n",
    "library(ComplexHeatmap)\n",
    "library(circlize)"
   ]
  },
  {
   "cell_type": "markdown",
   "metadata": {},
   "source": [
    "# FUNCTION heatmap of T cell subsets, NCR, ATCs for each chemo cycle"
   ]
  },
  {
   "cell_type": "code",
   "execution_count": 197,
   "metadata": {},
   "outputs": [],
   "source": [
    "heatmap_Tcells.fx <- function(datapath, cycle, plotpath){\n",
    "\n",
    "# cycle in this format 01,02,03,04    \n",
    "\n",
    "    mydivlist <- list.files(datapath, recursive = TRUE,\n",
    "                            pattern = \"productive_divstats\") \n",
    "    \n",
    "    mydivlist_CHP <- mydivlist[grepl(\"CHP\", mydivlist)]\n",
    "    alldiv.files <- lapply(mydivlist_CHP, function(f){ read.csv(paste0(datapath,f), \n",
    "                                                   header = TRUE)})\n",
    "    div_trb_CHP <- as.data.frame(do.call(rbind, alldiv.files))\n",
    "    div_trb_CHP$Patient <- gsub(\"-PBMC-DNA_2000000\", \"\", div_trb_CHP$filename)\n",
    "    div_trb_CHP$Patient <- gsub(\"-.*\", \"\", div_trb_CHP$Patient)\n",
    "    div_trb_CHP$Patient <- gsub(\"CHP_\", \"\", div_trb_CHP$Patient)\n",
    "    div_trb_CHP$cycle <- substr(div_trb_CHP$filename, 9, 10)\n",
    "    divstats_pts <- div_trb_CHP[div_trb_CHP$cycle == cycle,]\n",
    "    \n",
    "    \n",
    "#read t cells df and remove samples with no values to match to TCRcap data      \n",
    "    master_df <- read.csv(paste0(datapath, \"ATC_Tcells_NCR.csv\"),\n",
    "                 header = T, stringsAsFactors = F,\n",
    "                 check.names = F, colClasses=c(\"cycle\"=\"character\", \"Patient\" =\"character\"))\n",
    "    \n",
    "# FOLD EXPANSION group\n",
    "    master_df$FEgroup[master_df$FOLD > 5] <- \"Pass\"\n",
    "    master_df$FEgroup[master_df$FOLD < 2] <- \"Fail\"\n",
    "    master_df$FEgroup[master_df$FOLD >= 2 &\n",
    "                     master_df$FOLD <= 5] <- \"Undetermined\"\n",
    "    \n",
    "    mycycle <- master_df[master_df$cycle == cycle,]  \n",
    "    mycycle_pts <- mycycle[mycycle$Patient %in% divstats_pts$Patient,]\n",
    "    \n",
    "\n",
    "#bind divstats_pts and mycycle_pts to remove NAs from flow data\n",
    "    mycycle_pts_div <- merge(divstats_pts, mycycle_pts, by = c(\"Patient\", \"cycle\"))\n",
    " \n",
    "#remove samples with no flow data\n",
    "    mycycle_pts_div <- mycycle_pts_div[!is.na(mycycle_pts_div$CD3),]\n",
    "    mycycle_pts_div <- mycycle_pts_div[mycycle_pts_div$CD3 != 0,]\n",
    "\n",
    "#remove samples with no NCR data\n",
    "    mycycle_pts_div <- mycycle_pts_div[!is.na(mycycle_pts_div$`PD-1`),]\n",
    "#    print(mycycle_pts_div)\n",
    "    rownames(mycycle_pts_div) <- mycycle_pts_div$Patient  \n",
    "\n",
    "    #Tcell matrix\n",
    "    Tcellmat <- as.matrix(mycycle_pts_div[,c(\"Naïve%\",\"SCM%\",\"CM%\", \"EM%\" , \"TE%\")]) \n",
    "    NCR <- as.matrix(mycycle_pts_div[,c(\"PD1%\", \"TIM3%\",\"LAG3%\")]) \n",
    "    cohorts <- mycycle_pts_div$Disease_type\n",
    "    names(cohorts) <- mycycle_pts_div$Patient    \n",
    "    \n",
    "    colpal <- c(\"ALCL\" = \"#edf8e9\", #Leukemia\n",
    "            \"ALL\" = \"#c7e9c0\",\n",
    "            \"HR ALL\" = \"#a1d99b\",\n",
    "            \"SR ALL\" = \"#74c476\",\n",
    "            \"T-ALL\" = \"#41ab5d\",\n",
    "            \"AML\" = \"#238b45\",\n",
    "            \"CML\" =  \"#005a32\",\n",
    "            \"PMBCL\" = \"#eff3ff\", #Lymphoma                     \n",
    "            \"DLBCL\" =  \"#bdd7e7\",\n",
    "            \"DLMCL\" = \"#6baed6\",\n",
    "            \"BL\" =  \"#3182bd\",\n",
    "            \"BLL\" = \"#08519c\",            \n",
    "            \"ARMS\" = \"#ffffcc\", #Solid        \n",
    "            \"ERMS\" = \"#ffeda0\",\n",
    "            \"ES\" = \"#fed976\",\n",
    "            \"HB\" = \"#feb24c\",\n",
    "            \"HD\" = \"#fd8d3c\",\n",
    "            \"WT\" = \"#fc4e2a\",\n",
    "            \"NB\" = \"#e31a1c\",\n",
    "            \"MS NB\" = \"#bd0026\",\n",
    "            \"OS\" = \"#800026\")\n",
    "    \n",
    "    ht_cohorts = Heatmap(t(cohorts),\n",
    "                           #titles and names\n",
    "                           name = \"Cancer type\",\n",
    "                           show_row_names = TRUE,\n",
    "                           show_column_names = TRUE,\n",
    "                           #clusters\n",
    "                           cluster_columns = FALSE,\n",
    "                           cluster_rows = FALSE,\n",
    "                           #aesthestics\n",
    "                           col = colpal,\n",
    "                         height = unit(1, \"cm\"),\n",
    "                           column_names_gp = gpar(fontsize = 15),\n",
    "                           column_title_gp = gpar(fontsize = 15),\n",
    "                           row_title = NULL)\n",
    " \n",
    "   col_fun = colorRamp2(c(0, 50, 100), \n",
    "                         c(\"white\",\"#ef6548\",\"#7f0000\"))\n",
    "    \n",
    "   myannotations = HeatmapAnnotation(ATC = anno_barplot(mycycle_pts_div$ATC, ylim = c(0,6000)),\n",
    "                                     FE = anno_barplot(mycycle_pts_div$FOLD),\n",
    "                                     Fgroup = mycycle_pts_div$FEgroup,\n",
    "                                     col = list(Fgroup = c(\"Pass\" = \"black\", \"Fail\" = \"white\", \"Undetermined\" = \"light grey\")),\n",
    "                                     Shannon = anno_points(mycycle_pts_div$observed_Shannon, ylim = c(0,400)),\n",
    "                                     height = unit(7,\"cm\"),\n",
    "                                     gap = unit(2, \"mm\"))\n",
    "  #  new_anno = HeatmapAnnotation(ATC = anno_barplot(mycycle_pts_div$ATC), ylim = c(0,6000))\n",
    "    heatmap_tcells = Heatmap(t(Tcellmat),\n",
    "                             name = \"T-cells\",\n",
    "                          top_annotation = myannotations,   \n",
    "                          col = col_fun,\n",
    "                          #format rows\n",
    "                          show_row_names = TRUE,\n",
    "                          row_names_gp = gpar(fontsize = 15),                      \n",
    "                          cluster_rows = FALSE,\n",
    "                          #format cols\n",
    "                          cluster_columns = TRUE,\n",
    "                          column_names_gp = gpar(fontsize = 15), \n",
    "                          rect_gp = gpar(col = \"black\"), \n",
    "                          #legend\n",
    "                          show_heatmap_legend = TRUE,\n",
    "                         width = unit(nrow(Tcellmat), \"cm\"),\n",
    "                          height = unit(5, \"cm\"),\n",
    "                          heatmap_legend_param = list(labels_gp = gpar(fontsize = 12)))\n",
    "\n",
    "# Get order of patients to pass to next function for cloneplot\n",
    "    myrows <- column_order(heatmap_tcells)\n",
    "    message(\"This is the order of patient_ids for heatmap of cycle: \", cycle)    \n",
    "    print(rownames(Tcellmat)[myrows])\n",
    "    \n",
    "    heatmap_NCR = Heatmap(t(NCR),\n",
    "                          name = \"NCR\", \n",
    "                          col = col_fun,\n",
    "                          #format rows\n",
    "                          show_row_names = TRUE,\n",
    "                          row_names_gp = gpar(fontsize = 15),                      \n",
    "                          cluster_rows = FALSE,\n",
    "                          #format cols\n",
    "                          cluster_columns = FALSE,\n",
    "                          column_names_gp = gpar(fontsize = 15), \n",
    "                          rect_gp = gpar(col = \"black\"), \n",
    "                          #legend\n",
    "                          show_heatmap_legend = TRUE,\n",
    "                         width = unit(nrow(NCR), \"cm\"),\n",
    "                          height = unit(3, \"cm\"),\n",
    "                          heatmap_legend_param = list(labels_gp = gpar(fontsize = 12)))\n",
    "    \n",
    "#   return(heatmap_tcells %v% heatmap_NCR %v% ht_cohorts) \n",
    " \n",
    "#    pdf(file = paste(plotpath, \"clonplot\", \"TRB_\", cycle,\n",
    "#                   \".pdf\", sep = \"\"),\n",
    "#    width = 10, \n",
    "#    height = 10,\n",
    "#   useDingbats = FALSE)\n",
    "#   print(barpt)\n",
    "#  dev.off()  \n",
    "    \n",
    "    pdf(file = paste(plotpath, \"heatmap_Tcells_NCR_onepoint_anno_\", cycle, \".pdf\", sep = \"\"),\n",
    "                     width = 30, \n",
    "                     height = 10,\n",
    "                     useDingbats = FALSE)\n",
    "    print(heatmap_tcells %v% heatmap_NCR %v% ht_cohorts)\n",
    "    dev.off()                \n",
    "}"
   ]
  },
  {
   "cell_type": "code",
   "execution_count": 1,
   "metadata": {},
   "outputs": [],
   "source": [
    "plotpath <- \"/Users/anabbi/OneDrive - UHN/Documents/INTERCEPT/Plots/\"\n",
    "datapath <- \"/Users/anabbi/OneDrive - UHN/Documents/INTERCEPT/Data/\""
   ]
  },
  {
   "cell_type": "code",
   "execution_count": 198,
   "metadata": {},
   "outputs": [
    {
     "name": "stderr",
     "output_type": "stream",
     "text": [
      "This is the order of patient_ids for heatmap of cycle: 02\n"
     ]
    },
    {
     "name": "stdout",
     "output_type": "stream",
     "text": [
      " [1] \"343\" \"364\" \"357\" \"356\" \"349\" \"352\" \"348\" \"396\" \"362\" \"361\" \"347\"\n"
     ]
    },
    {
     "data": {
      "text/html": [
       "<strong>pdf:</strong> 2"
      ],
      "text/latex": [
       "\\textbf{pdf:} 2"
      ],
      "text/markdown": [
       "**pdf:** 2"
      ],
      "text/plain": [
       "pdf \n",
       "  2 "
      ]
     },
     "metadata": {},
     "output_type": "display_data"
    }
   ],
   "source": [
    "heatmap_Tcells.fx(datapath, \"02\",  plotpath)"
   ]
  },
  {
   "cell_type": "markdown",
   "metadata": {},
   "source": [
    "# FUNCTION for clone plot for all patients at one chemo cycle, ordered by patientorder in T-cell heatmap above"
   ]
  },
  {
   "cell_type": "code",
   "execution_count": 226,
   "metadata": {},
   "outputs": [],
   "source": [
    "productiveclonplot_patients.fx <- function(inpath, plotpath, chain, \n",
    "                                          patient_order, cycle){\n",
    "\n",
    "  flelst <- list.files(inpath, recursive = TRUE,\n",
    "                       pattern = paste(\"CLONES\", chain, sep = \"_\"))\n",
    "# subset to include only downsampled files\n",
    "  ds_flelst <- flelst[grep(\"2000000\", flelst)]\n",
    "# subset to patient_id: in XXX format    \n",
    "  ds_flelst_pt <- ds_flelst[grep(paste(patientorder, collapse= \"|\"),\n",
    "                                        ds_flelst)]\n",
    "  ds_flelst_pt <- ds_flelst_pt[grep(paste0(\"-\", cycle), ds_flelst_pt)]   \n",
    "    \n",
    "    \n",
    " i <- 1\n",
    "  for (f in ds_flelst_pt){\n",
    "    mixcrfle <- read.table(paste(datapath, f, sep = \"\"), \n",
    "                           header = TRUE, sep = \"\\t\",\n",
    "                           stringsAsFactors = FALSE,\n",
    "                           na.strings = c(\"\", \"NA\"))\n",
    "    message(\"mixcr file: \", f)  \n",
    "    print(dim(mixcrfle))  \n",
    "    #remove nonproductive seqs  \n",
    "    mixcr_productivefle <- mixcrfle[!grepl(\"_\",mixcrfle$aaSeqCDR3)&\n",
    "                                !grepl(\"[*]\",mixcrfle$aaSeqCDR3),]  \n",
    "    message(\"mixcr file with only productive seqs: \", f)  \n",
    "    print(dim(mixcr_productivefle)) \n",
    "    \n",
    "    #recalculate cloneFraction\n",
    "    mixcr_productivefle$cloneFraction <- NA\n",
    "    mixcr_productivefle$cloneFraction <- mixcr_productivefle$cloneCount/sum(mixcr_productivefle$cloneCount)\n",
    "      \n",
    "    if(i == 1){\n",
    "      compldfle <- mixcr_productivefle\n",
    "      compldfle <- cbind(cloneno = row.names(compldfle), \n",
    "                         filename = f, \n",
    "                         compldfle)\n",
    "      i <- i + 1   \n",
    "    }\n",
    "    else{\n",
    "      compldfle1 <- mixcr_productivefle\n",
    "      compldfle1 <- cbind(cloneno = row.names(compldfle1), \n",
    "                          filename = f, \n",
    "                          compldfle1)\n",
    "      compldfle <- rbind(compldfle, compldfle1)\n",
    "      rm(compldfle1)\n",
    "    }\n",
    "  }\n",
    "\n",
    " compldfle$filename <- as.character(compldfle$filename)\n",
    "  compldfle$cloneno <-  as.character(compldfle$cloneno)\n",
    "  compldfle$samplename <- gsub(paste(\".*CLONES\", chain, sep = \"_\"), \"\", compldfle$filename)\n",
    "  compldfle$samplename <- gsub(\"-PBMC-DNA_2000000.txt\", \"\",compldfle$samplename)\n",
    "  compldfle$Patient <- gsub(\"CHP_\", \"\",compldfle$samplename)\n",
    "  compldfle$Patient <- gsub(paste0(\"-\", cycle), \"\",compldfle$Patient)\n",
    "  compldfle$cloneno <- formatC(compldfle$cloneno, \n",
    "                               width=nchar(max(as.numeric(compldfle$cloneno))), flag=\"0\")   \n",
    "  compldfle$Patient <- factor(compldfle$Patient,\n",
    "                              levels = patientorder)  \n",
    "    \n",
    "    \n",
    "     compldfle <- compldfle[!is.na(compldfle$Patient),]\n",
    "\n",
    "  clonenocol = rep(\"#d9d9d9\", \n",
    "                     nlevels(as.factor(compldfle$cloneno)))\n",
    "  \n",
    "  barpt <- ggplot(data = compldfle, \n",
    "                  aes(y = cloneFraction, \n",
    "                      x = Patient, \n",
    "                      fill = cloneno)) + \n",
    "    geom_bar(colour = \"#000000\", stat=\"identity\", width = 0.8) +\n",
    "    theme(axis.title.x = element_blank(),\n",
    "          axis.text.x = element_text(angle = 45, hjust = 1),\n",
    "          axis.line = element_line(color = \"black\"),\n",
    "          axis.text = element_text(size = 50),\n",
    "          axis.title = element_text(size = 50), \n",
    "          legend.position = \"none\") +\n",
    "    theme(panel.grid.major = element_blank(),\n",
    "          panel.grid.minor = element_blank(),\n",
    "          panel.background = element_rect(fill = \"transparent\",\n",
    "                                          colour = NA),\n",
    "          panel.border=element_blank(),\n",
    "          plot.margin = unit(c(0,0,0,0),\"cm\")) +\n",
    "    scale_fill_manual(values = clonenocol,\n",
    "                      guide = FALSE) \n",
    " \n",
    "  pdf(file = paste0(plotpath, \"clonplot_\", chain, cycle,\".pdf\"),\n",
    "    width = (length(patient_order) + 1), \n",
    "    height = (length(patient_order) + 1)/2,\n",
    "    useDingbats = FALSE)\n",
    "    print(barpt)\n",
    "    dev.off()  \n",
    "    \n",
    "  #  return(barpt)\n",
    "}"
   ]
  },
  {
   "cell_type": "code",
   "execution_count": 227,
   "metadata": {},
   "outputs": [
    {
     "name": "stderr",
     "output_type": "stream",
     "text": [
      "mixcr file: Nextseq/batch1/ds_batch1/CLONES_TRBCHP_349-02-PBMC-DNA_2000000.txt\n"
     ]
    },
    {
     "name": "stdout",
     "output_type": "stream",
     "text": [
      "[1] 105  35\n"
     ]
    },
    {
     "name": "stderr",
     "output_type": "stream",
     "text": [
      "mixcr file with only productive seqs: Nextseq/batch1/ds_batch1/CLONES_TRBCHP_349-02-PBMC-DNA_2000000.txt\n"
     ]
    },
    {
     "name": "stdout",
     "output_type": "stream",
     "text": [
      "[1] 74 35\n"
     ]
    },
    {
     "name": "stderr",
     "output_type": "stream",
     "text": [
      "mixcr file: Nextseq/batch1/ds_batch1/CLONES_TRBCHP_352-02-PBMC-DNA_2000000.txt\n"
     ]
    },
    {
     "name": "stdout",
     "output_type": "stream",
     "text": [
      "[1] 150  35\n"
     ]
    },
    {
     "name": "stderr",
     "output_type": "stream",
     "text": [
      "mixcr file with only productive seqs: Nextseq/batch1/ds_batch1/CLONES_TRBCHP_352-02-PBMC-DNA_2000000.txt\n"
     ]
    },
    {
     "name": "stdout",
     "output_type": "stream",
     "text": [
      "[1] 122  35\n"
     ]
    },
    {
     "name": "stderr",
     "output_type": "stream",
     "text": [
      "mixcr file: Nextseq/batch2/ds_batch2/CLONES_TRBCHP_343-02-PBMC-DNA_2000000.txt\n"
     ]
    },
    {
     "name": "stdout",
     "output_type": "stream",
     "text": [
      "[1] 34 35\n"
     ]
    },
    {
     "name": "stderr",
     "output_type": "stream",
     "text": [
      "mixcr file with only productive seqs: Nextseq/batch2/ds_batch2/CLONES_TRBCHP_343-02-PBMC-DNA_2000000.txt\n"
     ]
    },
    {
     "name": "stdout",
     "output_type": "stream",
     "text": [
      "[1] 22 35\n"
     ]
    },
    {
     "name": "stderr",
     "output_type": "stream",
     "text": [
      "mixcr file: Nextseq/batch2/ds_batch2/CLONES_TRBCHP_348-02-PBMC-DNA_2000000.txt\n"
     ]
    },
    {
     "name": "stdout",
     "output_type": "stream",
     "text": [
      "[1] 57 35\n"
     ]
    },
    {
     "name": "stderr",
     "output_type": "stream",
     "text": [
      "mixcr file with only productive seqs: Nextseq/batch2/ds_batch2/CLONES_TRBCHP_348-02-PBMC-DNA_2000000.txt\n"
     ]
    },
    {
     "name": "stdout",
     "output_type": "stream",
     "text": [
      "[1] 38 35\n"
     ]
    },
    {
     "name": "stderr",
     "output_type": "stream",
     "text": [
      "mixcr file: Nextseq/batch3/ds_batch3/CLONES_TRBCHP_361-02-PBMC-DNA_2000000.txt\n"
     ]
    },
    {
     "name": "stdout",
     "output_type": "stream",
     "text": [
      "[1] 135  35\n"
     ]
    },
    {
     "name": "stderr",
     "output_type": "stream",
     "text": [
      "mixcr file with only productive seqs: Nextseq/batch3/ds_batch3/CLONES_TRBCHP_361-02-PBMC-DNA_2000000.txt\n"
     ]
    },
    {
     "name": "stdout",
     "output_type": "stream",
     "text": [
      "[1] 98 35\n"
     ]
    },
    {
     "name": "stderr",
     "output_type": "stream",
     "text": [
      "mixcr file: Nextseq/batch4/ds_batch4/CLONES_TRBCHP_347-02-PBMC-DNA_2000000.txt\n"
     ]
    },
    {
     "name": "stdout",
     "output_type": "stream",
     "text": [
      "[1] 403  35\n"
     ]
    },
    {
     "name": "stderr",
     "output_type": "stream",
     "text": [
      "mixcr file with only productive seqs: Nextseq/batch4/ds_batch4/CLONES_TRBCHP_347-02-PBMC-DNA_2000000.txt\n"
     ]
    },
    {
     "name": "stdout",
     "output_type": "stream",
     "text": [
      "[1] 321  35\n"
     ]
    },
    {
     "name": "stderr",
     "output_type": "stream",
     "text": [
      "mixcr file: Nextseq/batch4/ds_batch4/CLONES_TRBCHP_362-02-PBMC-DNA_2000000.txt\n"
     ]
    },
    {
     "name": "stdout",
     "output_type": "stream",
     "text": [
      "[1] 379  35\n"
     ]
    },
    {
     "name": "stderr",
     "output_type": "stream",
     "text": [
      "mixcr file with only productive seqs: Nextseq/batch4/ds_batch4/CLONES_TRBCHP_362-02-PBMC-DNA_2000000.txt\n"
     ]
    },
    {
     "name": "stdout",
     "output_type": "stream",
     "text": [
      "[1] 298  35\n"
     ]
    },
    {
     "name": "stderr",
     "output_type": "stream",
     "text": [
      "mixcr file: Nextseq/batch4/ds_batch4/CLONES_TRBCHP_364-02-PBMC-DNA_2000000.txt\n"
     ]
    },
    {
     "name": "stdout",
     "output_type": "stream",
     "text": [
      "[1] 115  35\n"
     ]
    },
    {
     "name": "stderr",
     "output_type": "stream",
     "text": [
      "mixcr file with only productive seqs: Nextseq/batch4/ds_batch4/CLONES_TRBCHP_364-02-PBMC-DNA_2000000.txt\n"
     ]
    },
    {
     "name": "stdout",
     "output_type": "stream",
     "text": [
      "[1] 81 35\n"
     ]
    },
    {
     "name": "stderr",
     "output_type": "stream",
     "text": [
      "mixcr file: Nextseq/batch8/ds_batch8/CLONES_TRBCHP_356-02-PBMC-DNA_2000000.txt\n"
     ]
    },
    {
     "name": "stdout",
     "output_type": "stream",
     "text": [
      "[1] 127  35\n"
     ]
    },
    {
     "name": "stderr",
     "output_type": "stream",
     "text": [
      "mixcr file with only productive seqs: Nextseq/batch8/ds_batch8/CLONES_TRBCHP_356-02-PBMC-DNA_2000000.txt\n"
     ]
    },
    {
     "name": "stdout",
     "output_type": "stream",
     "text": [
      "[1] 95 35\n"
     ]
    },
    {
     "name": "stderr",
     "output_type": "stream",
     "text": [
      "mixcr file: Nextseq/batch8/ds_batch8/CLONES_TRBCHP_357-02-PBMC-DNA_2000000.txt\n"
     ]
    },
    {
     "name": "stdout",
     "output_type": "stream",
     "text": [
      "[1] 572  35\n"
     ]
    },
    {
     "name": "stderr",
     "output_type": "stream",
     "text": [
      "mixcr file with only productive seqs: Nextseq/batch8/ds_batch8/CLONES_TRBCHP_357-02-PBMC-DNA_2000000.txt\n"
     ]
    },
    {
     "name": "stdout",
     "output_type": "stream",
     "text": [
      "[1] 406  35\n"
     ]
    },
    {
     "name": "stderr",
     "output_type": "stream",
     "text": [
      "mixcr file: Nextseq/batch8/ds_batch8/CLONES_TRBCHP_396-02-PBMC-DNA_2000000.txt\n"
     ]
    },
    {
     "name": "stdout",
     "output_type": "stream",
     "text": [
      "[1] 287  35\n"
     ]
    },
    {
     "name": "stderr",
     "output_type": "stream",
     "text": [
      "mixcr file with only productive seqs: Nextseq/batch8/ds_batch8/CLONES_TRBCHP_396-02-PBMC-DNA_2000000.txt\n"
     ]
    },
    {
     "name": "stdout",
     "output_type": "stream",
     "text": [
      "[1] 220  35\n"
     ]
    },
    {
     "data": {
      "text/html": [
       "<strong>pdf:</strong> 2"
      ],
      "text/latex": [
       "\\textbf{pdf:} 2"
      ],
      "text/markdown": [
       "**pdf:** 2"
      ],
      "text/plain": [
       "pdf \n",
       "  2 "
      ]
     },
     "metadata": {},
     "output_type": "display_data"
    }
   ],
   "source": [
    "productiveclonplot_patients.fx(datapath, plotpath, \"TRB\", \n",
    "                               c(\"343\",\"364\",\"357\",\"356\",\"349\", \"352\",\n",
    "                                 \"348\", \"396\", \"362\", \"361\", \"347\"), \n",
    "                               \"02\")"
   ]
  },
  {
   "cell_type": "code",
   "execution_count": null,
   "metadata": {},
   "outputs": [],
   "source": []
  },
  {
   "cell_type": "code",
   "execution_count": null,
   "metadata": {},
   "outputs": [],
   "source": []
  },
  {
   "cell_type": "markdown",
   "metadata": {},
   "source": [
    "# FUNCTION for clone plot for all patients at one chemo cycle, ordered by Shannon diversity from diversity_stats (productive stats)"
   ]
  },
  {
   "cell_type": "code",
   "execution_count": 12,
   "metadata": {},
   "outputs": [],
   "source": [
    "productiveclonplot_patients_Shannon.fx <- function(inpath, plotpath, chain, cycle){\n",
    "\n",
    "  flelst <- list.files(inpath, recursive = TRUE,\n",
    "                       pattern = paste(\"CLONES\", chain, sep = \"_\"))\n",
    "# subset to include only downsampled files\n",
    "  ds_flelst <- flelst[grep(\"2000000\", flelst)]\n",
    "# subset to patient_id: in XXX format    \n",
    "  ds_flelst_cycle <- ds_flelst[grep(paste0(\"-\", cycle), ds_flelst)]   \n",
    "\n",
    "# Complie all productive stats together\n",
    "mystatslist <- list.files(datapath,\n",
    "                     recursive = TRUE,\n",
    "                     pattern = \"productive_divstats\") \n",
    "all.statsfiles <- lapply(mystatslist, function(f){ read.csv(paste0(datapath,f), \n",
    "                                                  colClasses = c(\"Patient\" = \"character\",                     \n",
    "                                                                 \"cycle\" = \"character\"),\n",
    "                                                   header = TRUE)})    \n",
    "div_trb <- as.data.frame(do.call(rbind, all.statsfiles))\n",
    "\n",
    "#subset to cycle\n",
    "div_trb_cycle <- div_trb[div_trb$cycle == cycle,]    \n",
    "#order based on shannon\n",
    "div_trb_cycle <- div_trb_cycle[order(div_trb_cycle$observed_Shannon),]  \n",
    "    \n",
    " i <- 1\n",
    "  for (f in ds_flelst_cycle){\n",
    "    mixcrfle <- read.table(paste(datapath, f, sep = \"\"), \n",
    "                           header = TRUE, sep = \"\\t\",\n",
    "                           stringsAsFactors = FALSE,\n",
    "                           na.strings = c(\"\", \"NA\"))\n",
    "\n",
    "    #remove nonproductive seqs  \n",
    "    mixcr_productivefle <- mixcrfle[!grepl(\"_\",mixcrfle$aaSeqCDR3)&\n",
    "                                !grepl(\"[*]\",mixcrfle$aaSeqCDR3),]  \n",
    "\n",
    "    #recalculate cloneFraction\n",
    "    mixcr_productivefle$cloneFraction <- NA\n",
    "    mixcr_productivefle$cloneFraction <- mixcr_productivefle$cloneCount/sum(mixcr_productivefle$cloneCount)\n",
    "      \n",
    "    if(i == 1){\n",
    "      compldfle <- mixcr_productivefle\n",
    "      compldfle <- cbind(cloneno = row.names(compldfle), \n",
    "                         filename = f, \n",
    "                         compldfle)\n",
    "      i <- i + 1   \n",
    "    }\n",
    "    else{\n",
    "      compldfle1 <- mixcr_productivefle\n",
    "      compldfle1 <- cbind(cloneno = row.names(compldfle1), \n",
    "                          filename = f, \n",
    "                          compldfle1)\n",
    "      compldfle <- rbind(compldfle, compldfle1)\n",
    "      rm(compldfle1)\n",
    "    }\n",
    "  }\n",
    "\n",
    " compldfle$filename <- as.character(compldfle$filename)\n",
    "  compldfle$cloneno <-  as.character(compldfle$cloneno)\n",
    "  compldfle$samplename <- gsub(paste(\".*CLONES\", chain, sep = \"_\"), \"\", compldfle$filename)\n",
    "  compldfle$samplename <- gsub(\"-PBMC-DNA_2000000.txt\", \"\",compldfle$samplename)\n",
    "  compldfle$Patient <- gsub(\"CHP_\", \"\",compldfle$samplename)\n",
    "  compldfle$Patient <- gsub(paste0(\"-\", cycle), \"\",compldfle$Patient)\n",
    "  compldfle$cloneno <- formatC(compldfle$cloneno, \n",
    "                               width=nchar(max(as.numeric(compldfle$cloneno))), flag=\"0\")   \n",
    "# Order based on divstats Shannon\n",
    "    compldfle$Patient <- factor(compldfle$Patient,\n",
    "                              levels = div_trb_cycle$Patient)  \n",
    "    \n",
    "    \n",
    "     compldfle <- compldfle[!is.na(compldfle$Patient),]\n",
    "\n",
    "  clonenocol = rep(\"#d9d9d9\", \n",
    "                     nlevels(as.factor(compldfle$cloneno)))\n",
    "  \n",
    "  barpt <- ggplot(data = compldfle, \n",
    "                  aes(y = cloneFraction, \n",
    "                      x = Patient, \n",
    "                      fill = cloneno)) + \n",
    "    geom_bar(colour = \"#000000\", stat=\"identity\", width = 0.8) +\n",
    "    theme(axis.title.x = element_blank(),\n",
    "          axis.text.x = element_text(angle = 45, hjust = 1),\n",
    "          axis.line = element_line(color = \"black\"),\n",
    "          axis.text = element_text(size = 50),\n",
    "          axis.title = element_text(size = 50), \n",
    "          legend.position = \"none\") +\n",
    "    theme(panel.grid.major = element_blank(),\n",
    "          panel.grid.minor = element_blank(),\n",
    "          panel.background = element_rect(fill = \"transparent\",\n",
    "                                          colour = NA),\n",
    "          panel.border=element_blank(),\n",
    "          plot.margin = unit(c(0,0,0,0),\"cm\")) +\n",
    "    scale_fill_manual(values = clonenocol,\n",
    "                      guide = FALSE) \n",
    " \n",
    "  pdf(file = paste0(plotpath, \"clonplot_ordered_\", chain, cycle,\".pdf\"),\n",
    "    width = (length(div_trb_cycle$Patient) + 1), \n",
    "    height = (length(div_trb_cycle$Patient) + 1)/2,\n",
    "    useDingbats = FALSE)\n",
    "    print(barpt)\n",
    "    dev.off()  \n",
    "    \n",
    "  #  return(barpt)\n",
    "}"
   ]
  },
  {
   "cell_type": "code",
   "execution_count": 13,
   "metadata": {},
   "outputs": [
    {
     "data": {
      "text/html": [
       "<strong>pdf:</strong> 2"
      ],
      "text/latex": [
       "\\textbf{pdf:} 2"
      ],
      "text/markdown": [
       "**pdf:** 2"
      ],
      "text/plain": [
       "pdf \n",
       "  2 "
      ]
     },
     "metadata": {},
     "output_type": "display_data"
    }
   ],
   "source": [
    "productiveclonplot_patients_Shannon.fx(datapath, plotpath, \"TRB\", \"01\")"
   ]
  },
  {
   "cell_type": "code",
   "execution_count": 14,
   "metadata": {},
   "outputs": [
    {
     "data": {
      "text/html": [
       "<strong>pdf:</strong> 2"
      ],
      "text/latex": [
       "\\textbf{pdf:} 2"
      ],
      "text/markdown": [
       "**pdf:** 2"
      ],
      "text/plain": [
       "pdf \n",
       "  2 "
      ]
     },
     "metadata": {},
     "output_type": "display_data"
    }
   ],
   "source": [
    "productiveclonplot_patients_Shannon.fx(datapath, plotpath, \"TRB\", \"02\")"
   ]
  },
  {
   "cell_type": "code",
   "execution_count": 15,
   "metadata": {},
   "outputs": [
    {
     "data": {
      "text/html": [
       "<strong>pdf:</strong> 2"
      ],
      "text/latex": [
       "\\textbf{pdf:} 2"
      ],
      "text/markdown": [
       "**pdf:** 2"
      ],
      "text/plain": [
       "pdf \n",
       "  2 "
      ]
     },
     "metadata": {},
     "output_type": "display_data"
    }
   ],
   "source": [
    "productiveclonplot_patients_Shannon.fx(datapath, plotpath, \"TRB\", \"03\")"
   ]
  },
  {
   "cell_type": "code",
   "execution_count": 16,
   "metadata": {},
   "outputs": [
    {
     "data": {
      "text/html": [
       "<strong>pdf:</strong> 2"
      ],
      "text/latex": [
       "\\textbf{pdf:} 2"
      ],
      "text/markdown": [
       "**pdf:** 2"
      ],
      "text/plain": [
       "pdf \n",
       "  2 "
      ]
     },
     "metadata": {},
     "output_type": "display_data"
    }
   ],
   "source": [
    "productiveclonplot_patients_Shannon.fx(datapath, plotpath, \"TRB\", \"04\")"
   ]
  },
  {
   "cell_type": "code",
   "execution_count": 17,
   "metadata": {},
   "outputs": [
    {
     "data": {
      "text/html": [
       "<strong>pdf:</strong> 2"
      ],
      "text/latex": [
       "\\textbf{pdf:} 2"
      ],
      "text/markdown": [
       "**pdf:** 2"
      ],
      "text/plain": [
       "pdf \n",
       "  2 "
      ]
     },
     "metadata": {},
     "output_type": "display_data"
    }
   ],
   "source": [
    "productiveclonplot_patients_Shannon.fx(datapath, plotpath, \"TRB\", \"05\")"
   ]
  },
  {
   "cell_type": "code",
   "execution_count": null,
   "metadata": {},
   "outputs": [],
   "source": []
  },
  {
   "cell_type": "markdown",
   "metadata": {},
   "source": [
    "Deprecated"
   ]
  },
  {
   "cell_type": "code",
   "execution_count": 1,
   "metadata": {},
   "outputs": [],
   "source": [
    "heatmap_Tcells.fx <- function(datapath, master_df, cycle, \n",
    "                              sample_file, divfile, plotpath){\n",
    "\n",
    "\n",
    "    \n",
    "    flelst <- list.files(datapath, recursive = TRUE,\n",
    "                       pattern = paste(\"CLONES\", \"TRB\", sep = \"_\"))\n",
    "# subset to include only downsampled files\n",
    "  ds_flelst <- flelst[grep(\"200000\", flelst)]\n",
    "# subset to patient_id: in CHP_XXX format\n",
    "  ds_flelst_pt <- ds_flelst[grep(paste(rownames(Tcellmat), collapse= \"|\"),\n",
    "                                        ds_flelst)]\n",
    "  ds_flelst_pt <- ds_flelst_pt[grep(paste(\"-0\", cycle, sep = \"\"),\n",
    "                                        ds_flelst_pt)]\n",
    "\n",
    "  i <- 1\n",
    "  for (f in ds_flelst_pt){\n",
    "    mixcrfle <- read.table(paste(datapath, f, sep = \"\"), \n",
    "                           header = TRUE, sep = \"\\t\",\n",
    "                           stringsAsFactors = FALSE,\n",
    "                           na.strings = c(\"\", \"NA\"))\n",
    "    #  if(nrow(mixcrfle) <= 1){next()}\n",
    "    if(i == 1){\n",
    "      compldfle <- mixcrfle\n",
    "      compldfle <- cbind(cloneno = row.names(compldfle), \n",
    "                         filename = f, \n",
    "                         compldfle)\n",
    "      i <- i + 1   \n",
    "    }\n",
    "    else{\n",
    "      compldfle1 <- mixcrfle\n",
    "      compldfle1 <- cbind(cloneno = row.names(compldfle1), \n",
    "                          filename = f, \n",
    "                          compldfle1)\n",
    "      compldfle <- rbind(compldfle, compldfle1)\n",
    "      rm(compldfle1)\n",
    "    }\n",
    "  }\n",
    "  compldfle$filename <- as.character(compldfle$filename)\n",
    "  compldfle$cloneno <-  as.character(compldfle$cloneno)\n",
    "  compldfle$filename <- gsub(paste(\".*CLONES\", \"TRB\", sep = \"_\"), \"\",\n",
    "                             compldfle$filename)\n",
    "  compldfle$filename <- gsub(\"-PBMC-DNA_2000000.txt\", \"\",compldfle$filename)\n",
    "  compldfle$filename <- gsub(\"CHP_\", \"\",compldfle$filename)\n",
    "  compldfle$filename <- gsub(\"-.*\", \"\",compldfle$filename)\n",
    "  compldfle$cloneno <- formatC(compldfle$cloneno, \n",
    "                               width=nchar(max(as.numeric(compldfle$cloneno))), flag=\"0\")\n",
    "  compldfle$filename <- factor(compldfle$filename, levels = patientlist)\n",
    "    \n",
    "  compldfle <- compldfle[!is.na(compldfle$filename),]\n",
    "\n",
    "  clonenocol = rep(\"#d9d9d9\", \n",
    "                     nlevels(as.factor(compldfle$cloneno)))\n",
    "  \n",
    "  barpt <- ggplot(data = compldfle, \n",
    "                  aes(y = cloneFraction, \n",
    "                      x = filename, \n",
    "                      fill = cloneno)) + \n",
    "    geom_bar(colour = \"#000000\", stat=\"identity\") +\n",
    "    theme(axis.title.x = element_blank(),\n",
    "          axis.text.x = element_text(angle = 45, hjust = 1),\n",
    "          axis.line = element_line(color = \"black\"),\n",
    "          axis.text = element_text(size = 30),\n",
    "          axis.title = element_text(size = 30), \n",
    "          legend.position = \"none\") +\n",
    "    theme(panel.grid.major = element_blank(),\n",
    "          panel.grid.minor = element_blank(),\n",
    "          panel.background = element_rect(fill = \"transparent\",\n",
    "                                          colour = NA),\n",
    "          panel.border=element_blank(),\n",
    "          plot.margin = unit(c(0,0,0,0),\"cm\")) +\n",
    "    scale_fill_manual(values = clonenocol,\n",
    "                      guide = FALSE) \n",
    "\n",
    "#    pdf(file = paste(plotpath, \"clonplot\", \"TRB_\", cycle,\n",
    "#                   \".pdf\", sep = \"\"),\n",
    "#    width = 10, \n",
    "#    height = 10,\n",
    " #   useDingbats = FALSE)\n",
    " #   print(barpt)\n",
    "  #  dev.off()  \n",
    "    \n",
    "    pdf(file = paste(plotpath, \"heatmap_Tcells_onepoint_withbarplot_\", cycle, \".pdf\", sep = \"\"),\n",
    "                     width = 10, \n",
    "                     height = 10,\n",
    "                     useDingbats = FALSE)\n",
    "    print(heatmap_tcells)\n",
    "    dev.off()                \n",
    "}"
   ]
  },
  {
   "cell_type": "code",
   "execution_count": 2,
   "metadata": {},
   "outputs": [],
   "source": [
    "plotpath <- \"/Users/anabbi/OneDrive - UHN/Documents/INTERCEPT/Plots/\"\n",
    "datapath <- \"/Users/anabbi/OneDrive - UHN/Documents/INTERCEPT/Data/\""
   ]
  },
  {
   "cell_type": "code",
   "execution_count": 32,
   "metadata": {
    "scrolled": true
   },
   "outputs": [
    {
     "name": "stderr",
     "output_type": "stream",
     "text": [
      "sequenced samples at cycle:1\n"
     ]
    },
    {
     "name": "stdout",
     "output_type": "stream",
     "text": [
      " [1] 346 347 348 349 352 355 357 358 361 364 366 367 373 378\n"
     ]
    },
    {
     "name": "stderr",
     "output_type": "stream",
     "text": [
      "number of samples with no values at:1\n"
     ]
    },
    {
     "name": "stdout",
     "output_type": "stream",
     "text": [
      "[1] 2\n"
     ]
    },
    {
     "data": {
      "text/html": [
       "<strong>pdf:</strong> 2"
      ],
      "text/latex": [
       "\\textbf{pdf:} 2"
      ],
      "text/markdown": [
       "**pdf:** 2"
      ],
      "text/plain": [
       "pdf \n",
       "  2 "
      ]
     },
     "metadata": {},
     "output_type": "display_data"
    }
   ],
   "source": [
    "heatmap_Tcells.fx(datapath, \"Tcells_df.csv\", \"1\", \"patient_cycle_captured_updated.csv\",\n",
    "                  \"divstats_TRB_CHP.csv\",plotpath)"
   ]
  },
  {
   "cell_type": "code",
   "execution_count": 33,
   "metadata": {},
   "outputs": [
    {
     "name": "stderr",
     "output_type": "stream",
     "text": [
      "sequenced samples at cycle:2\n"
     ]
    },
    {
     "name": "stdout",
     "output_type": "stream",
     "text": [
      " [1] 343 345 347 348 349 352 361 362 363 364 365 370 380 381\n"
     ]
    },
    {
     "name": "stderr",
     "output_type": "stream",
     "text": [
      "number of samples with no values at:2\n"
     ]
    },
    {
     "name": "stdout",
     "output_type": "stream",
     "text": [
      "[1] 7\n"
     ]
    },
    {
     "data": {
      "text/html": [
       "<strong>pdf:</strong> 2"
      ],
      "text/latex": [
       "\\textbf{pdf:} 2"
      ],
      "text/markdown": [
       "**pdf:** 2"
      ],
      "text/plain": [
       "pdf \n",
       "  2 "
      ]
     },
     "metadata": {},
     "output_type": "display_data"
    }
   ],
   "source": [
    "heatmap_Tcells.fx(datapath, \"Tcells_df.csv\", \"2\", \"patient_cycle_captured_updated.csv\",\n",
    "                  \"divstats_TRB_CHP.csv\",plotpath)"
   ]
  },
  {
   "cell_type": "code",
   "execution_count": 118,
   "metadata": {},
   "outputs": [
    {
     "name": "stderr",
     "output_type": "stream",
     "text": [
      "sequenced samples at cycle:3\n"
     ]
    },
    {
     "name": "stdout",
     "output_type": "stream",
     "text": [
      " [1] 323 338 339 340 343 348 350 358 360 361 363 365 374 376\n"
     ]
    },
    {
     "name": "stderr",
     "output_type": "stream",
     "text": [
      "number of samples with no values at:3\n"
     ]
    },
    {
     "name": "stdout",
     "output_type": "stream",
     "text": [
      "[1] 9\n"
     ]
    },
    {
     "data": {
      "text/html": [
       "<strong>pdf:</strong> 2"
      ],
      "text/latex": [
       "\\textbf{pdf:} 2"
      ],
      "text/markdown": [
       "**pdf:** 2"
      ],
      "text/plain": [
       "pdf \n",
       "  2 "
      ]
     },
     "metadata": {},
     "output_type": "display_data"
    }
   ],
   "source": [
    "heatmap_Tcells.fx(datapath, \"Tcells_df.csv\", \"3\", \"patient_cycle_captured_updated.csv\",\n",
    "                  \"divstats_TRB_CHP.csv\",plotpath)"
   ]
  },
  {
   "cell_type": "code",
   "execution_count": 119,
   "metadata": {},
   "outputs": [
    {
     "name": "stderr",
     "output_type": "stream",
     "text": [
      "sequenced samples at cycle:4\n"
     ]
    },
    {
     "name": "stdout",
     "output_type": "stream",
     "text": [
      "[1] 329 331 338 342 343 345 348 364 374\n"
     ]
    },
    {
     "name": "stderr",
     "output_type": "stream",
     "text": [
      "number of samples with no values at:4\n"
     ]
    },
    {
     "name": "stdout",
     "output_type": "stream",
     "text": [
      "[1] 7\n"
     ]
    },
    {
     "data": {
      "text/html": [
       "<strong>pdf:</strong> 2"
      ],
      "text/latex": [
       "\\textbf{pdf:} 2"
      ],
      "text/markdown": [
       "**pdf:** 2"
      ],
      "text/plain": [
       "pdf \n",
       "  2 "
      ]
     },
     "metadata": {},
     "output_type": "display_data"
    }
   ],
   "source": [
    "heatmap_Tcells.fx(datapath, \"Tcells_df.csv\", \"4\", \"patient_cycle_captured_updated.csv\",\n",
    "                  \"divstats_TRB_CHP.csv\",plotpath)"
   ]
  },
  {
   "cell_type": "code",
   "execution_count": 120,
   "metadata": {},
   "outputs": [
    {
     "name": "stderr",
     "output_type": "stream",
     "text": [
      "sequenced samples at cycle:5\n"
     ]
    },
    {
     "name": "stdout",
     "output_type": "stream",
     "text": [
      " [1] 303 315 319 330 331 338 339 340 343 344 345 350 356 358 368 374\n"
     ]
    },
    {
     "name": "stderr",
     "output_type": "stream",
     "text": [
      "number of samples with no values at:5\n"
     ]
    },
    {
     "name": "stdout",
     "output_type": "stream",
     "text": [
      "[1] 10\n"
     ]
    },
    {
     "data": {
      "text/html": [
       "<strong>pdf:</strong> 2"
      ],
      "text/latex": [
       "\\textbf{pdf:} 2"
      ],
      "text/markdown": [
       "**pdf:** 2"
      ],
      "text/plain": [
       "pdf \n",
       "  2 "
      ]
     },
     "metadata": {},
     "output_type": "display_data"
    }
   ],
   "source": [
    "heatmap_Tcells.fx(datapath, \"Tcells_df.csv\", \"5\", \"patient_cycle_captured_updated.csv\",\n",
    "                  \"divstats_TRB_CHP.csv\",plotpath)"
   ]
  },
  {
   "cell_type": "code",
   "execution_count": null,
   "metadata": {},
   "outputs": [],
   "source": []
  }
 ],
 "metadata": {
  "kernelspec": {
   "display_name": "R",
   "language": "R",
   "name": "ir"
  },
  "language_info": {
   "codemirror_mode": "r",
   "file_extension": ".r",
   "mimetype": "text/x-r-source",
   "name": "R",
   "pygments_lexer": "r",
   "version": "3.5.1"
  },
  "toc": {
   "base_numbering": 1,
   "nav_menu": {},
   "number_sections": true,
   "sideBar": true,
   "skip_h1_title": false,
   "title_cell": "Table of Contents",
   "title_sidebar": "Contents",
   "toc_cell": true,
   "toc_position": {},
   "toc_section_display": true,
   "toc_window_display": false
  }
 },
 "nbformat": 4,
 "nbformat_minor": 2
}
