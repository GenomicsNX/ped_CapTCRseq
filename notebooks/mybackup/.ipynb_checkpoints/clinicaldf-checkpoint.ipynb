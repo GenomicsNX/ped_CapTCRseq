{
 "cells": [
  {
   "cell_type": "markdown",
   "metadata": {
    "toc": true
   },
   "source": [
    "<h1>Table of Contents<span class=\"tocSkip\"></span></h1>\n",
    "<div class=\"toc\"><ul class=\"toc-item\"><li><span><a href=\"#metadata\" data-toc-modified-id=\"metadata-1\">metadata</a></span></li></ul></div>"
   ]
  },
  {
   "cell_type": "markdown",
   "metadata": {},
   "source": [
    "# metadata "
   ]
  },
  {
   "cell_type": "code",
   "execution_count": 1,
   "metadata": {},
   "outputs": [
    {
     "name": "stderr",
     "output_type": "stream",
     "text": [
      "Warning message:\n",
      "“package ‘ggplot2’ was built under R version 3.5.2”"
     ]
    }
   ],
   "source": [
    "library(ggplot2)"
   ]
  },
  {
   "cell_type": "code",
   "execution_count": 2,
   "metadata": {},
   "outputs": [],
   "source": [
    "source(\"/Users/anabbi/OneDrive - UHN/R_src/ggplot2_theme.R\")"
   ]
  },
  {
   "cell_type": "code",
   "execution_count": 3,
   "metadata": {},
   "outputs": [],
   "source": [
    "plotpath <- \"/Users/anabbi/OneDrive - UHN/Documents/INTERCEPT/Plots/\"\n",
    "datapath <- \"/Users/anabbi/OneDrive - UHN/Documents/INTERCEPT/Data/\""
   ]
  },
  {
   "cell_type": "code",
   "execution_count": 4,
   "metadata": {},
   "outputs": [],
   "source": [
    "ptlist <- read.csv(paste0(datapath, \"ATC_Tcells_NCR.csv\"),\n",
    "                   stringsAsFactors = FALSE)"
   ]
  },
  {
   "cell_type": "code",
   "execution_count": null,
   "metadata": {},
   "outputs": [],
   "source": []
  },
  {
   "cell_type": "code",
   "execution_count": 19,
   "metadata": {},
   "outputs": [],
   "source": [
    "colnames(ptlist) <- c(\"patient_id\", \"Age_at_Diagnosis\", \"Diagnosis\")"
   ]
  },
  {
   "cell_type": "code",
   "execution_count": 20,
   "metadata": {},
   "outputs": [],
   "source": [
    "ptlist$Diagnosis <- gsub(\"ewings\", \"ES\", ptlist$Diagnosis, ignore.case = TRUE)\n",
    "\n",
    "ptlist$Diagnosis <- gsub(\"Burkitt\", \"BLL\", ptlist$Diagnosis, ignore.case = TRUE)\n",
    "ptlist$Diagnosis <- gsub(\"B-LL\", \"BLL\", ptlist$Diagnosis, ignore.case = TRUE)\n",
    "ptlist$Diagnosis <- gsub(\"BLL's\", \"BLL\", ptlist$Diagnosis, ignore.case = TRUE)\n",
    "ptlist$Diagnosis <- gsub(\"BLLs\", \"BLL\", ptlist$Diagnosis, ignore.case = TRUE)\n",
    "\n",
    "ptlist$Diagnosis <- gsub(\"HR ALL\", \"HR_ALL\", ptlist$Diagnosis, ignore.case = TRUE)\n",
    "ptlist$Diagnosis <- gsub(\"SR ALL\", \"SR_ALL\", ptlist$Diagnosis, ignore.case = TRUE)\n",
    "ptlist$Diagnosis <- gsub(\"NBL\", \"NB\", ptlist$Diagnosis, ignore.case = TRUE)\n",
    "\n",
    "ptlist$Diagnosis <- gsub(\"wilms\", \"WT\", ptlist$Diagnosis, ignore.case = TRUE)\n",
    "ptlist$Diagnosis <- gsub(\"Hepatoblastoma\", \"HB\", ptlist$Diagnosis, ignore.case = TRUE)\n",
    "ptlist$Diagnosis <- gsub(\"Osteosarcoma\", \"OS\", ptlist$Diagnosis, ignore.case = TRUE)"
   ]
  },
  {
   "cell_type": "code",
   "execution_count": 28,
   "metadata": {},
   "outputs": [
    {
     "data": {
      "text/html": [
       "<table>\n",
       "<thead><tr><th scope=col>Var1</th><th scope=col>Freq</th></tr></thead>\n",
       "<tbody>\n",
       "\t<tr><td>ALCL  </td><td> 1    </td></tr>\n",
       "\t<tr><td>ALL   </td><td> 8    </td></tr>\n",
       "\t<tr><td>AML   </td><td>10    </td></tr>\n",
       "\t<tr><td>ARMS  </td><td> 1    </td></tr>\n",
       "\t<tr><td>BLL   </td><td> 4    </td></tr>\n",
       "\t<tr><td>CML   </td><td> 3    </td></tr>\n",
       "\t<tr><td>DLBCL </td><td> 1    </td></tr>\n",
       "\t<tr><td>ERMS  </td><td> 1    </td></tr>\n",
       "\t<tr><td>ES    </td><td> 6    </td></tr>\n",
       "\t<tr><td>HB    </td><td> 3    </td></tr>\n",
       "\t<tr><td>HD    </td><td> 8    </td></tr>\n",
       "\t<tr><td>HR_ALL</td><td>12    </td></tr>\n",
       "\t<tr><td>NB    </td><td> 2    </td></tr>\n",
       "\t<tr><td>OS    </td><td> 6    </td></tr>\n",
       "\t<tr><td>RMS   </td><td> 5    </td></tr>\n",
       "\t<tr><td>SR_ALL</td><td> 7    </td></tr>\n",
       "\t<tr><td>T-ALL </td><td> 2    </td></tr>\n",
       "\t<tr><td>WT    </td><td> 2    </td></tr>\n",
       "</tbody>\n",
       "</table>\n"
      ],
      "text/latex": [
       "\\begin{tabular}{r|ll}\n",
       " Var1 & Freq\\\\\n",
       "\\hline\n",
       "\t ALCL   &  1    \\\\\n",
       "\t ALL    &  8    \\\\\n",
       "\t AML    & 10    \\\\\n",
       "\t ARMS   &  1    \\\\\n",
       "\t BLL    &  4    \\\\\n",
       "\t CML    &  3    \\\\\n",
       "\t DLBCL  &  1    \\\\\n",
       "\t ERMS   &  1    \\\\\n",
       "\t ES     &  6    \\\\\n",
       "\t HB     &  3    \\\\\n",
       "\t HD     &  8    \\\\\n",
       "\t HR\\_ALL & 12      \\\\\n",
       "\t NB     &  2    \\\\\n",
       "\t OS     &  6    \\\\\n",
       "\t RMS    &  5    \\\\\n",
       "\t SR\\_ALL &  7      \\\\\n",
       "\t T-ALL  &  2    \\\\\n",
       "\t WT     &  2    \\\\\n",
       "\\end{tabular}\n"
      ],
      "text/markdown": [
       "\n",
       "| Var1 | Freq |\n",
       "|---|---|\n",
       "| ALCL   |  1     |\n",
       "| ALL    |  8     |\n",
       "| AML    | 10     |\n",
       "| ARMS   |  1     |\n",
       "| BLL    |  4     |\n",
       "| CML    |  3     |\n",
       "| DLBCL  |  1     |\n",
       "| ERMS   |  1     |\n",
       "| ES     |  6     |\n",
       "| HB     |  3     |\n",
       "| HD     |  8     |\n",
       "| HR_ALL | 12     |\n",
       "| NB     |  2     |\n",
       "| OS     |  6     |\n",
       "| RMS    |  5     |\n",
       "| SR_ALL |  7     |\n",
       "| T-ALL  |  2     |\n",
       "| WT     |  2     |\n",
       "\n"
      ],
      "text/plain": [
       "   Var1   Freq\n",
       "1  ALCL    1  \n",
       "2  ALL     8  \n",
       "3  AML    10  \n",
       "4  ARMS    1  \n",
       "5  BLL     4  \n",
       "6  CML     3  \n",
       "7  DLBCL   1  \n",
       "8  ERMS    1  \n",
       "9  ES      6  \n",
       "10 HB      3  \n",
       "11 HD      8  \n",
       "12 HR_ALL 12  \n",
       "13 NB      2  \n",
       "14 OS      6  \n",
       "15 RMS     5  \n",
       "16 SR_ALL  7  \n",
       "17 T-ALL   2  \n",
       "18 WT      2  "
      ]
     },
     "metadata": {},
     "output_type": "display_data"
    }
   ],
   "source": [
    "as.data.frame(table(ptlist$Diagnosis))"
   ]
  },
  {
   "cell_type": "code",
   "execution_count": 23,
   "metadata": {},
   "outputs": [
    {
     "data": {
      "text/html": [
       "<ol class=list-inline>\n",
       "\t<li>'datapath'</li>\n",
       "\t<li>'mytheme'</li>\n",
       "\t<li>'plotpath'</li>\n",
       "\t<li>'ptlist'</li>\n",
       "</ol>\n"
      ],
      "text/latex": [
       "\\begin{enumerate*}\n",
       "\\item 'datapath'\n",
       "\\item 'mytheme'\n",
       "\\item 'plotpath'\n",
       "\\item 'ptlist'\n",
       "\\end{enumerate*}\n"
      ],
      "text/markdown": [
       "1. 'datapath'\n",
       "2. 'mytheme'\n",
       "3. 'plotpath'\n",
       "4. 'ptlist'\n",
       "\n",
       "\n"
      ],
      "text/plain": [
       "[1] \"datapath\" \"mytheme\"  \"plotpath\" \"ptlist\"  "
      ]
     },
     "metadata": {},
     "output_type": "display_data"
    }
   ],
   "source": [
    "ls()"
   ]
  },
  {
   "cell_type": "code",
   "execution_count": 26,
   "metadata": {},
   "outputs": [],
   "source": [
    "agedx_plot <- ggplot(data = ptlist) + geom_point(aes(x = Diagnosis, y = Age_at_Diagnosis), \n",
    "                                                 size = 5) + mytheme"
   ]
  },
  {
   "cell_type": "code",
   "execution_count": 27,
   "metadata": {},
   "outputs": [
    {
     "name": "stderr",
     "output_type": "stream",
     "text": [
      "Warning message:\n",
      "“Removed 1 rows containing missing values (geom_point).”"
     ]
    },
    {
     "data": {
      "text/html": [
       "<strong>pdf:</strong> 2"
      ],
      "text/latex": [
       "\\textbf{pdf:} 2"
      ],
      "text/markdown": [
       "**pdf:** 2"
      ],
      "text/plain": [
       "pdf \n",
       "  2 "
      ]
     },
     "metadata": {},
     "output_type": "display_data"
    }
   ],
   "source": [
    "pdf(file = paste(plotpath, \"agedx_plot.pdf\", sep = \"\"),\n",
    "    width = 15, \n",
    "    height = 15,\n",
    "    useDingbats = FALSE)\n",
    "agedx_plot\n",
    "dev.off()"
   ]
  },
  {
   "cell_type": "code",
   "execution_count": null,
   "metadata": {},
   "outputs": [],
   "source": []
  }
 ],
 "metadata": {
  "kernelspec": {
   "display_name": "R",
   "language": "R",
   "name": "ir"
  },
  "language_info": {
   "codemirror_mode": "r",
   "file_extension": ".r",
   "mimetype": "text/x-r-source",
   "name": "R",
   "pygments_lexer": "r",
   "version": "3.5.1"
  },
  "toc": {
   "base_numbering": 1,
   "nav_menu": {},
   "number_sections": false,
   "sideBar": true,
   "skip_h1_title": false,
   "title_cell": "Table of Contents",
   "title_sidebar": "Contents",
   "toc_cell": true,
   "toc_position": {
    "height": "calc(100% - 180px)",
    "left": "10px",
    "top": "150px",
    "width": "205.1px"
   },
   "toc_section_display": true,
   "toc_window_display": true
  }
 },
 "nbformat": 4,
 "nbformat_minor": 2
}
