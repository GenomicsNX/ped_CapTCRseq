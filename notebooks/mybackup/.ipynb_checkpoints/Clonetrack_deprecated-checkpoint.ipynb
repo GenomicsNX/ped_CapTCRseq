{
 "cells": [
  {
   "cell_type": "markdown",
   "metadata": {
    "toc": true
   },
   "source": [
    "<h1>Table of Contents<span class=\"tocSkip\"></span></h1>\n",
    "<div class=\"toc\"><ul class=\"toc-item\"><li><span><a href=\"#Dependencies\" data-toc-modified-id=\"Dependencies-1\">Dependencies</a></span></li><li><span><a href=\"#FUNCTIONS\" data-toc-modified-id=\"FUNCTIONS-2\">FUNCTIONS</a></span></li><li><span><a href=\"#Plotting-function-for-clone-tracking\" data-toc-modified-id=\"Plotting-function-for-clone-tracking-3\">Plotting function for clone tracking</a></span></li><li><span><a href=\"#Paths\" data-toc-modified-id=\"Paths-4\">Paths</a></span></li><li><span><a href=\"#Make-a-list-of-files\" data-toc-modified-id=\"Make-a-list-of-files-5\">Make a list of files</a></span></li><li><span><a href=\"#Patient-clone-tracking\" data-toc-modified-id=\"Patient-clone-tracking-6\">Patient clone tracking</a></span></li><li><span><a href=\"#This-version-tracks-all-recovered-clonotypes-regardless-of-outofframe-stop-codon-or-productive\" data-toc-modified-id=\"This-version-tracks-all-recovered-clonotypes-regardless-of-outofframe-stop-codon-or-productive-7\">This version tracks all recovered clonotypes regardless of outofframe stop codon or productive</a></span><ul class=\"toc-item\"><li><span><a href=\"#PLTK-version\" data-toc-modified-id=\"PLTK-version-7.1\">PLTK version</a></span></li></ul></li></ul></div>"
   ]
  },
  {
   "cell_type": "markdown",
   "metadata": {},
   "source": [
    "# Dependencies"
   ]
  },
  {
   "cell_type": "code",
   "execution_count": 1,
   "metadata": {},
   "outputs": [
    {
     "name": "stderr",
     "output_type": "stream",
     "text": [
      "Warning message:\n",
      "“package ‘ggalluvial’ was built under R version 3.5.2”Loading required package: ggplot2\n",
      "Warning message:\n",
      "“package ‘ggplot2’ was built under R version 3.5.2”Warning message:\n",
      "“package ‘randomcoloR’ was built under R version 3.5.2”"
     ]
    }
   ],
   "source": [
    "library(ggalluvial)\n",
    "library(randomcoloR)"
   ]
  },
  {
   "cell_type": "markdown",
   "metadata": {},
   "source": [
    "# FUNCTIONS"
   ]
  },
  {
   "cell_type": "code",
   "execution_count": 2,
   "metadata": {},
   "outputs": [],
   "source": [
    "patient_cdr3.fx <- function(datapath, chain, filelist, totalinframe){\n",
    "    \n",
    "      if (!(totalinframe %in% c(\"total\", \"inframe\"))) {\n",
    "    stop(\"Error: unknown argument \", totalinframe, \". Please provide either total (for all clonotypes) or inframe (for in-frame clonotypes only)\")\n",
    "  }  \n",
    "\n",
    "# Ensure only one chain is included\n",
    "    filelist <- filelist[grepl(chain, filelist)]\n",
    "    \n",
    "#Compile a big file with patient's mixcr files loaded in\n",
    "  i <- 1\n",
    "  for (f in filelist){\n",
    "    mixcrfle <- read.table(paste(datapath, f, sep = \"\"), \n",
    "                           header = TRUE, sep = \"\\t\",\n",
    "                           stringsAsFactors = FALSE,\n",
    "                           na.strings = c(\"\", \"NA\"))\n",
    "    if(i == 1){\n",
    "# Remove duplicated CDR3s\n",
    "      compldfle <- mixcrfle[!duplicated(mixcrfle$aaSeqCDR3),]\n",
    "      compldfle <- cbind(cloneno = row.names(compldfle), \n",
    "                         filename = f, \n",
    "                         compldfle)\n",
    "      i <- i + 1   \n",
    "    }\n",
    "    else{\n",
    "      compldfle1 <- mixcrfle[!duplicated(mixcrfle$aaSeqCDR3),]\n",
    "      compldfle1 <- cbind(cloneno = row.names(compldfle1), \n",
    "                          filename = f, \n",
    "                          compldfle1)\n",
    "      compldfle <- rbind(compldfle, compldfle1)\n",
    "      rm(compldfle1)\n",
    "    }\n",
    "  }\n",
    "    myfiles <- unique(as.character(compldfle$filename))\n",
    "    message(\"my files:\")\n",
    "    print(myfiles)\n",
    "    \n",
    "    message(\"Total recovered clonotypes:\")\n",
    "    print(length(compldfle$aaSeqCDR3))    \n",
    "     \n",
    "    message(\"Total out-of-frame clonotypes:\")    \n",
    "    print(length(compldfle$aaSeqCDR3[grepl(\"_\", compldfle$aaSeqCDR3)]))     \n",
    "    message(\"Total clonotypes with stop codon:\")    \n",
    "    print(length(compldfle$aaSeqCDR3[grepl(\"[*]\", compldfle$aaSeqCDR3) &\n",
    "                                    !grepl(\"_\", compldfle$aaSeqCDR3)]))     \n",
    "    \n",
    "    #make samplename column\n",
    "    compldfle$filename <- as.character(compldfle$filename)\n",
    "    compldfle$samplename <- gsub(\".*.CLONES_\",\"\", compldfle$filename) \n",
    "\n",
    "# remove outof frame clonotypes and those with stop codon    \n",
    "    compldfle_clean <- compldfle[!grepl(\"_\", compldfle$aaSeqCDR3) &\n",
    "                                !grepl(\"[*]\", compldfle$aaSeqCDR3),]\n",
    "    \n",
    "    message(\"Total productive clonotypes:\")\n",
    "    print(length(compldfle_clean$aaSeqCDR3))      \n",
    "\n",
    "    if(totalinframe == \"inframe\"){\n",
    "       message(\"Output contains in_frame clonotypes only\")\n",
    "        return(compldfle_clean)}\n",
    "    if(totalinframe == \"total\"){\n",
    "       message(\"Output contains all clonotypes\")\n",
    "        return(compldfle)}\n",
    "}"
   ]
  },
  {
   "cell_type": "markdown",
   "metadata": {},
   "source": [
    "# Plotting function for clone tracking"
   ]
  },
  {
   "cell_type": "code",
   "execution_count": 3,
   "metadata": {},
   "outputs": [],
   "source": [
    "plotclontrack.fx <- function(compldfle, plotpath, chain, countfrac, clnefrc){\n",
    "    \n",
    "  if (!(countfrac %in% c(\"cloneFraction\", \"cloneCount\"))) {\n",
    "    stop(\"Error: unknown argument \", countfrac, \". Please provide either cloneFraction or cloneCount.\")\n",
    "  }  \n",
    "\n",
    "    message(\"list of samples to track clones: \")\n",
    "    mysamples <- unique(compldfle$samplename)\n",
    "    print(mysamples)\n",
    "\n",
    "\n",
    "    # Subset df\n",
    "    CDR3_fraction <- compldfle[, c(\"samplename\",\"aaSeqCDR3\",\"cloneFraction\", \"cloneCount\")]\n",
    "# Subset to include only clonotypes with more than specified clonal fraction    \n",
    "    CDR3_fraction <- CDR3_fraction[CDR3_fraction$cloneFraction > clnefrc,] \n",
    "     \n",
    "#Assign colors to recurring clonotypes\n",
    "    recurring <- unique(CDR3_fraction$aaSeqCDR3[duplicated(CDR3_fraction$aaSeqCDR3)])\n",
    "    notrecurring <- CDR3_fraction$aaSeqCDR3[!CDR3_fraction$aaSeqCDR3 %in% recurring]\n",
    "\n",
    "    message(\"Total number of recurring clonotypes: \")     \n",
    "    print(length(recurring))\n",
    "    \n",
    "    if(length(recurring) == 0){\n",
    "      #Introduce a dummy common cdr3 dataframe for alluvium to work  \n",
    "        mydummy_df <- as.data.frame(matrix(ncol = 4, nrow = length(mysamples)))\n",
    "        colnames(mydummy_df) <- colnames(CDR3_fraction)\n",
    "  \n",
    "        mydummy_df$samplename <- mysamples\n",
    "        mydummy_df$aaSeqCDR3 <-  \"XXXXX\"\n",
    "        mydummy_df$cloneFraction <- 0\n",
    "        mydummy_df$cloneCount <- 0     \n",
    "       CDR3_fraction <- rbind(CDR3_fraction, mydummy_df)\n",
    "        \n",
    "        recurring <- \"XXXXX\"\n",
    "        \n",
    "    }\n",
    "    if(length(recurring) > 50){\n",
    "        recurring_df <- CDR3_fraction[CDR3_fraction$aaSeqCDR3 %in% recurring,]\n",
    "        recurringcdr3_ordered <- unique(recurring_df$aaSeqCDR3[order(recurring_df$cloneCount, decreasing = TRUE)])\n",
    "        message(\"Total number of recurring clonotypes > 50 \")   \n",
    "        message(\"Tracking top 10 recurring clonotypes \")  \n",
    "        myColors <- distinctColorPalette(10)\n",
    "        \n",
    "        myColors <- c(myColors, rep(\"white\",length(recurring)-10),\n",
    "                      rep(\"white\",length(notrecurring)))\n",
    "        names(myColors) <- c(recurringcdr3_ordered, notrecurring)\n",
    "\n",
    "        message(\"these are what we color: \")  \n",
    "        print(myColors[myColors != \"white\"])         \n",
    "    }\n",
    "    else{\n",
    "        myColors <- distinctColorPalette(length(recurring))\n",
    "        myColors <- c(myColors, rep(\"white\",length(notrecurring)))\n",
    "        names(myColors) <- c(recurring, notrecurring)\n",
    "        \n",
    "        myColors[names(myColors) == \"XXXXX\"] <- \"white\"\n",
    "        \n",
    "        message(\"these are what we color: \")  \n",
    "        print(myColors[myColors != \"white\"]) \n",
    "    }\n",
    "\n",
    "# Generate a row for each sample that doesnot have recurring clonotype\n",
    "## This ensures alluvia are colored\n",
    "    \n",
    "    for(c in recurring){\n",
    "    tmp <- CDR3_fraction[CDR3_fraction$aaSeqCDR3 == c,]\n",
    "    nonexsiting <- mysamples[!mysamples %in% tmp$samplename]\n",
    "    if(length(nonexsiting) > 0){\n",
    "    newentries <- data.frame(\"samplename\" = nonexsiting, \"aaSeqCDR3\" = c, \n",
    "                             \"cloneFraction\" = 0, \"cloneCount\" = 0)\n",
    "    CDR3_fraction <- rbind(CDR3_fraction, newentries)\n",
    "    }\n",
    "}\n",
    "\n",
    "    \n",
    "    p <-  ggplot(CDR3_fraction, aes(x = samplename, \n",
    "                                y = eval(as.name(countfrac)),\n",
    "                                fill = aaSeqCDR3,\n",
    "                                stratum = aaSeqCDR3,\n",
    "                                alluvium = aaSeqCDR3,\n",
    "                                label = aaSeqCDR3))\n",
    "\n",
    "    myp <- p + geom_alluvium(decreasing = FALSE) + \n",
    "    geom_stratum(decreasing = FALSE, stat = \"alluvium\") + \n",
    "    scale_fill_manual(breaks = names(myColors[myColors != \"white\"]),\n",
    "                      values = myColors) +\n",
    "    theme(axis.title.y = element_text(size = 50),\n",
    "          axis.title.x = element_blank(),\n",
    "          axis.line = element_line(color = \"black\"),\n",
    "          axis.text = element_text(size = 50),\n",
    "          axis.text.x = element_text(angle = 45, hjust = 1)) +\n",
    "    theme(panel.grid.major = element_blank(),\n",
    "        panel.grid.minor = element_blank(),\n",
    "        panel.background = element_rect(fill = \"transparent\",colour = NA),\n",
    "        legend.key = element_rect(fill = \"white\", colour = \"white\"),\n",
    "        legend.position = \"none\",\n",
    "        plot.margin = unit(c(0.2,0,0,0),\"cm\")) + \n",
    "    labs(y = countfrac) \n",
    "    \n",
    "    pdf(paste0(plotpath, \"clonetracking\", mysamples[1],\n",
    "              chain, countfrac, \".pdf\"),\n",
    "        width = 15, \n",
    "        height = 20,\n",
    "        useDingbats = FALSE,\n",
    "        onefile = FALSE)       \n",
    "    print(myp)  \n",
    "    dev.off()      \n",
    "\n",
    "}"
   ]
  },
  {
   "cell_type": "code",
   "execution_count": null,
   "metadata": {},
   "outputs": [],
   "source": []
  },
  {
   "cell_type": "markdown",
   "metadata": {},
   "source": [
    "# Paths"
   ]
  },
  {
   "cell_type": "code",
   "execution_count": 4,
   "metadata": {},
   "outputs": [],
   "source": [
    "datapath <- \"/Users/anabbi/OneDrive - UHN/Documents/INTERCEPT/Data/\"\n",
    "plotpath <- \"/Users/anabbi/OneDrive - UHN/Documents/INTERCEPT/Plots/\""
   ]
  },
  {
   "cell_type": "markdown",
   "metadata": {},
   "source": [
    "# Make a list of files"
   ]
  },
  {
   "cell_type": "code",
   "execution_count": 16,
   "metadata": {},
   "outputs": [],
   "source": [
    "flelst <- list.files(datapath,\n",
    "                     recursive = TRUE,\n",
    "                     pattern = paste(\"CLONES\", \"TRB\", sep = \"_\"))\n",
    "\n",
    "# subset to include only downsampled files\n",
    "ds_flelst <- flelst[grep(\"2000000\", flelst)]\n",
    "\n",
    "# subset to include only CHP\n",
    "ds_flelst_chp <- ds_flelst[grep(\"CHP\", ds_flelst)]"
   ]
  },
  {
   "cell_type": "markdown",
   "metadata": {},
   "source": [
    "# Patient clone tracking"
   ]
  },
  {
   "cell_type": "code",
   "execution_count": 14,
   "metadata": {
    "scrolled": false
   },
   "outputs": [
    {
     "ename": "ERROR",
     "evalue": "Error in unique(as.character(compldfle$filename)): object 'compldfle' not found\n",
     "output_type": "error",
     "traceback": [
      "Error in unique(as.character(compldfle$filename)): object 'compldfle' not found\nTraceback:\n",
      "1. patient_cdr3.fx(datapath, \"TRB\", ds_flelst_chp[grepl(\"353\", ds_flelst_chp)], \n .     \"total\")",
      "2. unique(as.character(compldfle$filename))   # at line 34 of file <text>"
     ]
    }
   ],
   "source": [
    "pt_df <- patient_cdr3.fx(datapath, \"TRB\", ds_flelst_chp[grepl(\"353\", ds_flelst_chp)],\n",
    "                            \"total\")\n",
    "\n",
    "pt_df <- pt_df[ pt_df$filename != \"Nextseq/batch_reseq/ds_batch_reseq/CLONES_TRBCHP_353-02-PBMC-DNA_2000000.txt\",]\n",
    "#samplename cleanup\n",
    "    pt_df$samplename <- gsub(\"-PBMC-DNA_2000000.txt\", \"\", pt_df$samplename)\n",
    "    pt_df$samplename <- gsub(\"TRB\", \"\", pt_df$samplename)\n",
    "    \n",
    "plotclontrack.fx(pt_df, plotpath, \"TRB\", \"cloneCount\", 0)"
   ]
  },
  {
   "cell_type": "code",
   "execution_count": null,
   "metadata": {},
   "outputs": [],
   "source": []
  },
  {
   "cell_type": "code",
   "execution_count": null,
   "metadata": {},
   "outputs": [],
   "source": []
  },
  {
   "cell_type": "code",
   "execution_count": 11,
   "metadata": {},
   "outputs": [],
   "source": [
    "patient_ids <- c(338,345,347,348,357,359,360,361,364,368,370,373,374,378,380, 353, 358, 343, 362)"
   ]
  },
  {
   "cell_type": "code",
   "execution_count": 17,
   "metadata": {
    "scrolled": false
   },
   "outputs": [
    {
     "name": "stderr",
     "output_type": "stream",
     "text": [
      "my files:\n"
     ]
    },
    {
     "name": "stdout",
     "output_type": "stream",
     "text": [
      "[1] \"Nextseq/batch2/ds_batch2/CLONES_TRBCHP_338-04-PBMC-DNA_2000000.txt\"\n",
      "[2] \"Nextseq/batch2/ds_batch2/CLONES_TRBCHP_338-05-PBMC-DNA_2000000.txt\"\n",
      "[3] \"Nextseq/batch4/ds_batch4/CLONES_TRBCHP_338-03-PBMC-DNA_2000000.txt\"\n"
     ]
    },
    {
     "name": "stderr",
     "output_type": "stream",
     "text": [
      "Total recovered clonotypes:\n"
     ]
    },
    {
     "name": "stdout",
     "output_type": "stream",
     "text": [
      "[1] 1012\n"
     ]
    },
    {
     "name": "stderr",
     "output_type": "stream",
     "text": [
      "Total out-of-frame clonotypes:\n"
     ]
    },
    {
     "name": "stdout",
     "output_type": "stream",
     "text": [
      "[1] 202\n"
     ]
    },
    {
     "name": "stderr",
     "output_type": "stream",
     "text": [
      "Total clonotypes with stop codon:\n"
     ]
    },
    {
     "name": "stdout",
     "output_type": "stream",
     "text": [
      "[1] 16\n"
     ]
    },
    {
     "name": "stderr",
     "output_type": "stream",
     "text": [
      "Total productive clonotypes:\n"
     ]
    },
    {
     "name": "stdout",
     "output_type": "stream",
     "text": [
      "[1] 794\n"
     ]
    },
    {
     "name": "stderr",
     "output_type": "stream",
     "text": [
      "Output contains all clonotypes\n",
      "list of samples to track clones: \n"
     ]
    },
    {
     "name": "stdout",
     "output_type": "stream",
     "text": [
      "[1] \"CHP_338-04\" \"CHP_338-05\" \"CHP_338-03\"\n"
     ]
    },
    {
     "name": "stderr",
     "output_type": "stream",
     "text": [
      "Total number of recurring clonotypes: \n"
     ]
    },
    {
     "name": "stdout",
     "output_type": "stream",
     "text": [
      "[1] 1\n"
     ]
    },
    {
     "name": "stderr",
     "output_type": "stream",
     "text": [
      "these are what we color: \n"
     ]
    },
    {
     "name": "stdout",
     "output_type": "stream",
     "text": [
      "CASSFNTEAFF \n",
      "  \"#BEB5B1\" \n"
     ]
    },
    {
     "name": "stderr",
     "output_type": "stream",
     "text": [
      "my files:\n"
     ]
    },
    {
     "name": "stdout",
     "output_type": "stream",
     "text": [
      "[1] \"Nextseq/batch3/ds_batch3/CLONES_TRBCHP_345-04-PBMC-DNA_2000000.txt\"\n",
      "[2] \"Nextseq/batch3/ds_batch3/CLONES_TRBCHP_345-05-PBMC-DNA_2000000.txt\"\n",
      "[3] \"Nextseq/batch4/ds_batch4/CLONES_TRBCHP_345-02-PBMC-DNA_2000000.txt\"\n",
      "[4] \"Nextseq/batch7/ds_batch7/CLONES_TRBCHP_345-03-PBMC-DNA_2000000.txt\"\n"
     ]
    },
    {
     "name": "stderr",
     "output_type": "stream",
     "text": [
      "Total recovered clonotypes:\n"
     ]
    },
    {
     "name": "stdout",
     "output_type": "stream",
     "text": [
      "[1] 717\n"
     ]
    },
    {
     "name": "stderr",
     "output_type": "stream",
     "text": [
      "Total out-of-frame clonotypes:\n"
     ]
    },
    {
     "name": "stdout",
     "output_type": "stream",
     "text": [
      "[1] 179\n"
     ]
    },
    {
     "name": "stderr",
     "output_type": "stream",
     "text": [
      "Total clonotypes with stop codon:\n"
     ]
    },
    {
     "name": "stdout",
     "output_type": "stream",
     "text": [
      "[1] 11\n"
     ]
    },
    {
     "name": "stderr",
     "output_type": "stream",
     "text": [
      "Total productive clonotypes:\n"
     ]
    },
    {
     "name": "stdout",
     "output_type": "stream",
     "text": [
      "[1] 527\n"
     ]
    },
    {
     "name": "stderr",
     "output_type": "stream",
     "text": [
      "Output contains all clonotypes\n",
      "list of samples to track clones: \n"
     ]
    },
    {
     "name": "stdout",
     "output_type": "stream",
     "text": [
      "[1] \"CHP_345-04\" \"CHP_345-05\" \"CHP_345-02\" \"CHP_345-03\"\n"
     ]
    },
    {
     "name": "stderr",
     "output_type": "stream",
     "text": [
      "Total number of recurring clonotypes: \n"
     ]
    },
    {
     "name": "stdout",
     "output_type": "stream",
     "text": [
      "[1] 14\n"
     ]
    },
    {
     "name": "stderr",
     "output_type": "stream",
     "text": [
      "these are what we color: \n"
     ]
    },
    {
     "name": "stdout",
     "output_type": "stream",
     "text": [
      "                                                                CASSPDGPRGTQYF \n",
      "                                                                     \"#DC4ECB\" \n",
      "                                                                  CASTYNDNEQFF \n",
      "                                                                     \"#D3D9A2\" \n",
      "                                                               CAISESGGSHNEQFF \n",
      "                                                                     \"#88B9DB\" \n",
      "                                                               CASSPDRGGRDGYTF \n",
      "                                                                     \"#DC6380\" \n",
      "                                                               CASSQGLAGSYEQYF \n",
      "                                                                     \"#82E2A1\" \n",
      "                                                             CASSHISDLPNPYEQYF \n",
      "                                                                     \"#AF70CC\" \n",
      "                                                                 CASSFF_*GGYTF \n",
      "                                                                     \"#828CD0\" \n",
      "                                                                 CASSFRGYNEQFF \n",
      "                                                                     \"#8847E4\" \n",
      "                                                                CASSPLSQNTEAFF \n",
      "                                                                     \"#81E34D\" \n",
      "                                                              CASTATKT_AIYEQYF \n",
      "                                                                     \"#D4DC60\" \n",
      "                                                           CASTLWVRD_ATAGYGYTF \n",
      "                                                                     \"#DFA7D0\" \n",
      "                                                             CSAKMGRD_KILYEQYF \n",
      "                                                                     \"#D8CECC\" \n",
      "                                                               CASSSPRVGGNTQYF \n",
      "                                                                     \"#D28E4D\" \n",
      "CASTYNDNEQFFGPGTRLTVLGKKGAPGGREGEQPSLHD_PEPCS*GSGHWAIQGPPRGKRGLRQGPQGCANTGELFF \n",
      "                                                                     \"#8BE0D6\" \n"
     ]
    },
    {
     "name": "stderr",
     "output_type": "stream",
     "text": [
      "my files:\n"
     ]
    },
    {
     "name": "stdout",
     "output_type": "stream",
     "text": [
      "[1] \"Nextseq/batch4/ds_batch4/CLONES_TRBCHP_347-01-PBMC-DNA_2000000.txt\"  \n",
      "[2] \"Nextseq/batch4/ds_batch4/CLONES_TRBCHP_347-02-PBMC-DNA_2000000.txt\"  \n",
      "[3] \"Nextseq/batch6a/ds_batch6a/CLONES_TRBCHP_347-04-PBMC-DNA_2000000.txt\"\n",
      "[4] \"Nextseq/batch7/ds_batch7/CLONES_TRBCHP_347-03-PBMC-DNA_2000000.txt\"  \n",
      "[5] \"Nextseq/batch8/ds_batch8/CLONES_TRBCHP_347-05-PBMC-DNA_2000000.txt\"  \n"
     ]
    },
    {
     "name": "stderr",
     "output_type": "stream",
     "text": [
      "Total recovered clonotypes:\n"
     ]
    },
    {
     "name": "stdout",
     "output_type": "stream",
     "text": [
      "[1] 863\n"
     ]
    },
    {
     "name": "stderr",
     "output_type": "stream",
     "text": [
      "Total out-of-frame clonotypes:\n"
     ]
    },
    {
     "name": "stdout",
     "output_type": "stream",
     "text": [
      "[1] 155\n"
     ]
    },
    {
     "name": "stderr",
     "output_type": "stream",
     "text": [
      "Total clonotypes with stop codon:\n"
     ]
    },
    {
     "name": "stdout",
     "output_type": "stream",
     "text": [
      "[1] 13\n"
     ]
    },
    {
     "name": "stderr",
     "output_type": "stream",
     "text": [
      "Total productive clonotypes:\n"
     ]
    },
    {
     "name": "stdout",
     "output_type": "stream",
     "text": [
      "[1] 695\n"
     ]
    },
    {
     "name": "stderr",
     "output_type": "stream",
     "text": [
      "Output contains all clonotypes\n",
      "list of samples to track clones: \n"
     ]
    },
    {
     "name": "stdout",
     "output_type": "stream",
     "text": [
      "[1] \"CHP_347-01\" \"CHP_347-02\" \"CHP_347-04\" \"CHP_347-03\" \"CHP_347-05\"\n"
     ]
    },
    {
     "name": "stderr",
     "output_type": "stream",
     "text": [
      "Total number of recurring clonotypes: \n"
     ]
    },
    {
     "name": "stdout",
     "output_type": "stream",
     "text": [
      "[1] 2\n"
     ]
    },
    {
     "name": "stderr",
     "output_type": "stream",
     "text": [
      "these are what we color: \n"
     ]
    },
    {
     "name": "stdout",
     "output_type": "stream",
     "text": [
      "CASNFAGGMSTGELFF    CSARTGGVYEQYF \n",
      "       \"#B7D6A0\"        \"#BF85C5\" \n"
     ]
    },
    {
     "name": "stderr",
     "output_type": "stream",
     "text": [
      "my files:\n"
     ]
    },
    {
     "name": "stdout",
     "output_type": "stream",
     "text": [
      "[1] \"Nextseq/batch1/ds_batch1/CLONES_TRBCHP_348-03-PBMC-DNA_2000000.txt\"\n",
      "[2] \"Nextseq/batch1/ds_batch1/CLONES_TRBCHP_348-04-PBMC-DNA_2000000.txt\"\n",
      "[3] \"Nextseq/batch2/ds_batch2/CLONES_TRBCHP_348-01-PBMC-DNA_2000000.txt\"\n",
      "[4] \"Nextseq/batch2/ds_batch2/CLONES_TRBCHP_348-02-PBMC-DNA_2000000.txt\"\n"
     ]
    },
    {
     "name": "stderr",
     "output_type": "stream",
     "text": [
      "Total recovered clonotypes:\n"
     ]
    },
    {
     "name": "stdout",
     "output_type": "stream",
     "text": [
      "[1] 313\n"
     ]
    },
    {
     "name": "stderr",
     "output_type": "stream",
     "text": [
      "Total out-of-frame clonotypes:\n"
     ]
    },
    {
     "name": "stdout",
     "output_type": "stream",
     "text": [
      "[1] 56\n"
     ]
    },
    {
     "name": "stderr",
     "output_type": "stream",
     "text": [
      "Total clonotypes with stop codon:\n"
     ]
    },
    {
     "name": "stdout",
     "output_type": "stream",
     "text": [
      "[1] 7\n"
     ]
    },
    {
     "name": "stderr",
     "output_type": "stream",
     "text": [
      "Total productive clonotypes:\n"
     ]
    },
    {
     "name": "stdout",
     "output_type": "stream",
     "text": [
      "[1] 250\n"
     ]
    },
    {
     "name": "stderr",
     "output_type": "stream",
     "text": [
      "Output contains all clonotypes\n",
      "list of samples to track clones: \n"
     ]
    },
    {
     "name": "stdout",
     "output_type": "stream",
     "text": [
      "[1] \"CHP_348-03\" \"CHP_348-04\" \"CHP_348-01\" \"CHP_348-02\"\n"
     ]
    },
    {
     "name": "stderr",
     "output_type": "stream",
     "text": [
      "Total number of recurring clonotypes: \n"
     ]
    },
    {
     "name": "stdout",
     "output_type": "stream",
     "text": [
      "[1] 1\n"
     ]
    },
    {
     "name": "stderr",
     "output_type": "stream",
     "text": [
      "these are what we color: \n"
     ]
    },
    {
     "name": "stdout",
     "output_type": "stream",
     "text": [
      "CASRPIAGGGADTQYF \n",
      "       \"#BEB5B1\" \n"
     ]
    },
    {
     "name": "stderr",
     "output_type": "stream",
     "text": [
      "my files:\n"
     ]
    },
    {
     "name": "stdout",
     "output_type": "stream",
     "text": [
      "[1] \"Nextseq/batch4/ds_batch4/CLONES_TRBCHP_357-01-PBMC-DNA_2000000.txt\"  \n",
      "[2] \"Nextseq/batch6a/ds_batch6a/CLONES_TRBCHP_357-03-PBMC-DNA_2000000.txt\"\n",
      "[3] \"Nextseq/batch7/ds_batch7/CLONES_TRBCHP_357-04-PBMC-DNA_2000000.txt\"  \n",
      "[4] \"Nextseq/batch8/ds_batch8/CLONES_TRBCHP_357-02-PBMC-DNA_2000000.txt\"  \n"
     ]
    },
    {
     "name": "stderr",
     "output_type": "stream",
     "text": [
      "Total recovered clonotypes:\n"
     ]
    },
    {
     "name": "stdout",
     "output_type": "stream",
     "text": [
      "[1] 1042\n"
     ]
    },
    {
     "name": "stderr",
     "output_type": "stream",
     "text": [
      "Total out-of-frame clonotypes:\n"
     ]
    },
    {
     "name": "stdout",
     "output_type": "stream",
     "text": [
      "[1] 270\n"
     ]
    },
    {
     "name": "stderr",
     "output_type": "stream",
     "text": [
      "Total clonotypes with stop codon:\n"
     ]
    },
    {
     "name": "stdout",
     "output_type": "stream",
     "text": [
      "[1] 31\n"
     ]
    },
    {
     "name": "stderr",
     "output_type": "stream",
     "text": [
      "Total productive clonotypes:\n"
     ]
    },
    {
     "name": "stdout",
     "output_type": "stream",
     "text": [
      "[1] 741\n"
     ]
    },
    {
     "name": "stderr",
     "output_type": "stream",
     "text": [
      "Output contains all clonotypes\n",
      "list of samples to track clones: \n"
     ]
    },
    {
     "name": "stdout",
     "output_type": "stream",
     "text": [
      "[1] \"CHP_357-01\" \"CHP_357-03\" \"CHP_357-04\" \"CHP_357-02\"\n"
     ]
    },
    {
     "name": "stderr",
     "output_type": "stream",
     "text": [
      "Total number of recurring clonotypes: \n"
     ]
    },
    {
     "name": "stdout",
     "output_type": "stream",
     "text": [
      "[1] 3\n"
     ]
    },
    {
     "name": "stderr",
     "output_type": "stream",
     "text": [
      "these are what we color: \n"
     ]
    },
    {
     "name": "stdout",
     "output_type": "stream",
     "text": [
      "                  CASRLGWIV_TGGHEQYF                      CASRKLDREGNTIYF \n",
      "                           \"#B7C4C8\"                            \"#B7DA7C\" \n",
      "CASSESTVLHSCLLSMPS_CDFHLDPCHCVNTEAFF \n",
      "                           \"#BF6CC4\" \n"
     ]
    },
    {
     "name": "stderr",
     "output_type": "stream",
     "text": [
      "my files:\n"
     ]
    },
    {
     "name": "stdout",
     "output_type": "stream",
     "text": [
      "[1] \"Nextseq/batch6a/ds_batch6a/CLONES_TRBCHP_359-02-PBMC-DNA_2000000.txt\"\n",
      "[2] \"Nextseq/batch6a/ds_batch6a/CLONES_TRBCHP_359-04-PBMC-DNA_2000000.txt\"\n",
      "[3] \"Nextseq/batch7/ds_batch7/CLONES_TRBCHP_359-01-PBMC-DNA_2000000.txt\"  \n"
     ]
    },
    {
     "name": "stderr",
     "output_type": "stream",
     "text": [
      "Total recovered clonotypes:\n"
     ]
    },
    {
     "name": "stdout",
     "output_type": "stream",
     "text": [
      "[1] 828\n"
     ]
    },
    {
     "name": "stderr",
     "output_type": "stream",
     "text": [
      "Total out-of-frame clonotypes:\n"
     ]
    },
    {
     "name": "stdout",
     "output_type": "stream",
     "text": [
      "[1] 143\n"
     ]
    },
    {
     "name": "stderr",
     "output_type": "stream",
     "text": [
      "Total clonotypes with stop codon:\n"
     ]
    },
    {
     "name": "stdout",
     "output_type": "stream",
     "text": [
      "[1] 12\n"
     ]
    },
    {
     "name": "stderr",
     "output_type": "stream",
     "text": [
      "Total productive clonotypes:\n"
     ]
    },
    {
     "name": "stdout",
     "output_type": "stream",
     "text": [
      "[1] 673\n"
     ]
    },
    {
     "name": "stderr",
     "output_type": "stream",
     "text": [
      "Output contains all clonotypes\n",
      "list of samples to track clones: \n"
     ]
    },
    {
     "name": "stdout",
     "output_type": "stream",
     "text": [
      "[1] \"CHP_359-02\" \"CHP_359-04\" \"CHP_359-01\"\n"
     ]
    },
    {
     "name": "stderr",
     "output_type": "stream",
     "text": [
      "Total number of recurring clonotypes: \n"
     ]
    },
    {
     "name": "stdout",
     "output_type": "stream",
     "text": [
      "[1] 1\n"
     ]
    },
    {
     "name": "stderr",
     "output_type": "stream",
     "text": [
      "these are what we color: \n"
     ]
    },
    {
     "name": "stdout",
     "output_type": "stream",
     "text": [
      "CASSEAGGNQPQHF \n",
      "     \"#BEB5B1\" \n"
     ]
    },
    {
     "name": "stderr",
     "output_type": "stream",
     "text": [
      "my files:\n"
     ]
    },
    {
     "name": "stdout",
     "output_type": "stream",
     "text": [
      "[1] \"Nextseq/batch3/ds_batch3/CLONES_TRBCHP_360-03-PBMC-DNA_2000000.txt\"\n",
      "[2] \"Nextseq/batch7/ds_batch7/CLONES_TRBCHP_360-02-PBMC-DNA_2000000.txt\"\n",
      "[3] \"Nextseq/batch8/ds_batch8/CLONES_TRBCHP_360-05-PBMC-DNA_2000000.txt\"\n"
     ]
    },
    {
     "name": "stderr",
     "output_type": "stream",
     "text": [
      "Total recovered clonotypes:\n"
     ]
    },
    {
     "name": "stdout",
     "output_type": "stream",
     "text": [
      "[1] 795\n"
     ]
    },
    {
     "name": "stderr",
     "output_type": "stream",
     "text": [
      "Total out-of-frame clonotypes:\n"
     ]
    },
    {
     "name": "stdout",
     "output_type": "stream",
     "text": [
      "[1] 154\n"
     ]
    },
    {
     "name": "stderr",
     "output_type": "stream",
     "text": [
      "Total clonotypes with stop codon:\n"
     ]
    },
    {
     "name": "stdout",
     "output_type": "stream",
     "text": [
      "[1] 14\n"
     ]
    },
    {
     "name": "stderr",
     "output_type": "stream",
     "text": [
      "Total productive clonotypes:\n"
     ]
    },
    {
     "name": "stdout",
     "output_type": "stream",
     "text": [
      "[1] 627\n"
     ]
    },
    {
     "name": "stderr",
     "output_type": "stream",
     "text": [
      "Output contains all clonotypes\n",
      "list of samples to track clones: \n"
     ]
    },
    {
     "name": "stdout",
     "output_type": "stream",
     "text": [
      "[1] \"CHP_360-03\" \"CHP_360-02\" \"CHP_360-05\"\n"
     ]
    },
    {
     "name": "stderr",
     "output_type": "stream",
     "text": [
      "Total number of recurring clonotypes: \n"
     ]
    },
    {
     "name": "stdout",
     "output_type": "stream",
     "text": [
      "[1] 4\n"
     ]
    },
    {
     "name": "stderr",
     "output_type": "stream",
     "text": [
      "these are what we color: \n"
     ]
    },
    {
     "name": "stdout",
     "output_type": "stream",
     "text": [
      "    CASSPLYEQYF CASSLGQGIVAEAFF   CAISESVHNEQFF CASSETSGSTDTQYF \n",
      "      \"#A7D2D2\"       \"#D891A2\"       \"#B7DB77\"       \"#B066D5\" \n"
     ]
    },
    {
     "name": "stderr",
     "output_type": "stream",
     "text": [
      "my files:\n"
     ]
    },
    {
     "name": "stdout",
     "output_type": "stream",
     "text": [
      "[1] \"Nextseq/batch3/ds_batch3/CLONES_TRBCHP_361-02-PBMC-DNA_2000000.txt\"\n",
      "[2] \"Nextseq/batch3/ds_batch3/CLONES_TRBCHP_361-03-PBMC-DNA_2000000.txt\"\n",
      "[3] \"Nextseq/batch4/ds_batch4/CLONES_TRBCHP_361-01-PBMC-DNA_2000000.txt\"\n",
      "[4] \"Nextseq/batch7/ds_batch7/CLONES_TRBCHP_361-04-PBMC-DNA_2000000.txt\"\n"
     ]
    },
    {
     "name": "stderr",
     "output_type": "stream",
     "text": [
      "Total recovered clonotypes:\n"
     ]
    },
    {
     "name": "stdout",
     "output_type": "stream",
     "text": [
      "[1] 333\n"
     ]
    },
    {
     "name": "stderr",
     "output_type": "stream",
     "text": [
      "Total out-of-frame clonotypes:\n"
     ]
    },
    {
     "name": "stdout",
     "output_type": "stream",
     "text": [
      "[1] 74\n"
     ]
    },
    {
     "name": "stderr",
     "output_type": "stream",
     "text": [
      "Total clonotypes with stop codon:\n"
     ]
    },
    {
     "name": "stdout",
     "output_type": "stream",
     "text": [
      "[1] 5\n"
     ]
    },
    {
     "name": "stderr",
     "output_type": "stream",
     "text": [
      "Total productive clonotypes:\n"
     ]
    },
    {
     "name": "stdout",
     "output_type": "stream",
     "text": [
      "[1] 254\n"
     ]
    },
    {
     "name": "stderr",
     "output_type": "stream",
     "text": [
      "Output contains all clonotypes\n",
      "list of samples to track clones: \n"
     ]
    },
    {
     "name": "stdout",
     "output_type": "stream",
     "text": [
      "[1] \"CHP_361-02\" \"CHP_361-03\" \"CHP_361-01\" \"CHP_361-04\"\n"
     ]
    },
    {
     "name": "stderr",
     "output_type": "stream",
     "text": [
      "Total number of recurring clonotypes: \n"
     ]
    },
    {
     "name": "stdout",
     "output_type": "stream",
     "text": [
      "[1] 0\n"
     ]
    },
    {
     "name": "stderr",
     "output_type": "stream",
     "text": [
      "these are what we color: \n"
     ]
    },
    {
     "name": "stdout",
     "output_type": "stream",
     "text": [
      "named character(0)\n"
     ]
    },
    {
     "name": "stderr",
     "output_type": "stream",
     "text": [
      "my files:\n"
     ]
    },
    {
     "name": "stdout",
     "output_type": "stream",
     "text": [
      "[1] \"Nextseq/batch4/ds_batch4/CLONES_TRBCHP_364-01-PBMC-DNA_2000000.txt\"\n",
      "[2] \"Nextseq/batch4/ds_batch4/CLONES_TRBCHP_364-02-PBMC-DNA_2000000.txt\"\n",
      "[3] \"Nextseq/batch4/ds_batch4/CLONES_TRBCHP_364-04-PBMC-DNA_2000000.txt\"\n"
     ]
    },
    {
     "name": "stderr",
     "output_type": "stream",
     "text": [
      "Total recovered clonotypes:\n"
     ]
    },
    {
     "name": "stdout",
     "output_type": "stream",
     "text": [
      "[1] 360\n"
     ]
    },
    {
     "name": "stderr",
     "output_type": "stream",
     "text": [
      "Total out-of-frame clonotypes:\n"
     ]
    },
    {
     "name": "stdout",
     "output_type": "stream",
     "text": [
      "[1] 72\n"
     ]
    },
    {
     "name": "stderr",
     "output_type": "stream",
     "text": [
      "Total clonotypes with stop codon:\n"
     ]
    },
    {
     "name": "stdout",
     "output_type": "stream",
     "text": [
      "[1] 8\n"
     ]
    },
    {
     "name": "stderr",
     "output_type": "stream",
     "text": [
      "Total productive clonotypes:\n"
     ]
    },
    {
     "name": "stdout",
     "output_type": "stream",
     "text": [
      "[1] 280\n"
     ]
    },
    {
     "name": "stderr",
     "output_type": "stream",
     "text": [
      "Output contains all clonotypes\n",
      "list of samples to track clones: \n"
     ]
    },
    {
     "name": "stdout",
     "output_type": "stream",
     "text": [
      "[1] \"CHP_364-01\" \"CHP_364-02\" \"CHP_364-04\"\n"
     ]
    },
    {
     "name": "stderr",
     "output_type": "stream",
     "text": [
      "Total number of recurring clonotypes: \n"
     ]
    },
    {
     "name": "stdout",
     "output_type": "stream",
     "text": [
      "[1] 2\n"
     ]
    },
    {
     "name": "stderr",
     "output_type": "stream",
     "text": [
      "these are what we color: \n"
     ]
    },
    {
     "name": "stdout",
     "output_type": "stream",
     "text": [
      "CAISGPGTSGRAQDTQYF     CASSGLAGADTQYF \n",
      "         \"#B7D6A0\"          \"#BF85C5\" \n"
     ]
    },
    {
     "name": "stderr",
     "output_type": "stream",
     "text": [
      "my files:\n"
     ]
    },
    {
     "name": "stdout",
     "output_type": "stream",
     "text": [
      "[1] \"Nextseq/batch3/ds_batch3/CLONES_TRBCHP_368-05-PBMC-DNA_2000000.txt\"\n",
      "[2] \"Nextseq/batch7/ds_batch7/CLONES_TRBCHP_368-01-PBMC-DNA_2000000.txt\"\n",
      "[3] \"Nextseq/batch7/ds_batch7/CLONES_TRBCHP_368-04-PBMC-DNA_2000000.txt\"\n"
     ]
    },
    {
     "name": "stderr",
     "output_type": "stream",
     "text": [
      "Total recovered clonotypes:\n"
     ]
    },
    {
     "name": "stdout",
     "output_type": "stream",
     "text": [
      "[1] 924\n"
     ]
    },
    {
     "name": "stderr",
     "output_type": "stream",
     "text": [
      "Total out-of-frame clonotypes:\n"
     ]
    },
    {
     "name": "stdout",
     "output_type": "stream",
     "text": [
      "[1] 238\n"
     ]
    },
    {
     "name": "stderr",
     "output_type": "stream",
     "text": [
      "Total clonotypes with stop codon:\n"
     ]
    },
    {
     "name": "stdout",
     "output_type": "stream",
     "text": [
      "[1] 20\n"
     ]
    },
    {
     "name": "stderr",
     "output_type": "stream",
     "text": [
      "Total productive clonotypes:\n"
     ]
    },
    {
     "name": "stdout",
     "output_type": "stream",
     "text": [
      "[1] 666\n"
     ]
    },
    {
     "name": "stderr",
     "output_type": "stream",
     "text": [
      "Output contains all clonotypes\n",
      "list of samples to track clones: \n"
     ]
    },
    {
     "name": "stdout",
     "output_type": "stream",
     "text": [
      "[1] \"CHP_368-05\" \"CHP_368-01\" \"CHP_368-04\"\n"
     ]
    },
    {
     "name": "stderr",
     "output_type": "stream",
     "text": [
      "Total number of recurring clonotypes: \n"
     ]
    },
    {
     "name": "stdout",
     "output_type": "stream",
     "text": [
      "[1] 15\n"
     ]
    },
    {
     "name": "stderr",
     "output_type": "stream",
     "text": [
      "these are what we color: \n"
     ]
    },
    {
     "name": "stdout",
     "output_type": "stream",
     "text": [
      "                                              CASSQESSPIGTEAFF \n",
      "                                                     \"#D656C0\" \n",
      "                                               CASSGSGTVWETQYF \n",
      "                                                     \"#9447E3\" \n",
      "                                         CASSQDLGETLLFMNTGELFF \n",
      "                                                     \"#8BAEDC\" \n",
      "                                               CASSAGGTANTEAFF \n",
      "                                                     \"#9681D8\" \n",
      "                                              CASSKGAC_TNEKLFF \n",
      "                                                     \"#DADD84\" \n",
      "                                                CASTLPN_GKKLFF \n",
      "                                                     \"#72E588\" \n",
      "                                                 CASSQSYYLEQFF \n",
      "                                                     \"#6BE4C7\" \n",
      "     CASSGSGTVWETQYFGPGTRLLVLGERG_AGARARAAWVWFLRGVPGLCSGANVLTF \n",
      "                                                     \"#E36A72\" \n",
      "CASSQESSPIGTEAFFGQGTRLTVVGKTFFR_LLQIRHREKWVHSVPFRVAIFLCANYGYTF \n",
      "                                                     \"#877071\" \n",
      "                                        CASSQEKKGFPESGSPRNEQFF \n",
      "                                                     \"#DFD3CA\" \n",
      "                                               CASSPGTGGYQPQHF \n",
      "                                                     \"#90D8E0\" \n",
      "                                           CASRRQGLFLFSSTDTQYF \n",
      "                                                     \"#B2DDAD\" \n",
      "                                               CASSTNR_NTGELFF \n",
      "                                                     \"#AAE444\" \n",
      "                                                CASSLAGSTYEQYF \n",
      "                                                     \"#E2A7D1\" \n",
      "                                               CASSERGGPIGGAFF \n",
      "                                                     \"#DAA748\" \n"
     ]
    },
    {
     "name": "stderr",
     "output_type": "stream",
     "text": [
      "my files:\n"
     ]
    },
    {
     "name": "stdout",
     "output_type": "stream",
     "text": [
      "[1] \"Nextseq/batch3/ds_batch3/CLONES_TRBCHP_370-02-PBMC-DNA_2000000.txt\"\n",
      "[2] \"Nextseq/batch7/ds_batch7/CLONES_TRBCHP_370-01-PBMC-DNA_2000000.txt\"\n",
      "[3] \"Nextseq/batch7/ds_batch7/CLONES_TRBCHP_370-05-PBMC-DNA_2000000.txt\"\n",
      "[4] \"Nextseq/batch8/ds_batch8/CLONES_TRBCHP_370-03-PBMC-DNA_2000000.txt\"\n"
     ]
    },
    {
     "name": "stderr",
     "output_type": "stream",
     "text": [
      "Total recovered clonotypes:\n"
     ]
    },
    {
     "name": "stdout",
     "output_type": "stream",
     "text": [
      "[1] 1123\n"
     ]
    },
    {
     "name": "stderr",
     "output_type": "stream",
     "text": [
      "Total out-of-frame clonotypes:\n"
     ]
    },
    {
     "name": "stdout",
     "output_type": "stream",
     "text": [
      "[1] 194\n"
     ]
    },
    {
     "name": "stderr",
     "output_type": "stream",
     "text": [
      "Total clonotypes with stop codon:\n"
     ]
    },
    {
     "name": "stdout",
     "output_type": "stream",
     "text": [
      "[1] 25\n"
     ]
    },
    {
     "name": "stderr",
     "output_type": "stream",
     "text": [
      "Total productive clonotypes:\n"
     ]
    },
    {
     "name": "stdout",
     "output_type": "stream",
     "text": [
      "[1] 904\n"
     ]
    },
    {
     "name": "stderr",
     "output_type": "stream",
     "text": [
      "Output contains all clonotypes\n",
      "list of samples to track clones: \n"
     ]
    },
    {
     "name": "stdout",
     "output_type": "stream",
     "text": [
      "[1] \"CHP_370-02\" \"CHP_370-01\" \"CHP_370-05\" \"CHP_370-03\"\n"
     ]
    },
    {
     "name": "stderr",
     "output_type": "stream",
     "text": [
      "Total number of recurring clonotypes: \n"
     ]
    },
    {
     "name": "stdout",
     "output_type": "stream",
     "text": [
      "[1] 4\n"
     ]
    },
    {
     "name": "stderr",
     "output_type": "stream",
     "text": [
      "these are what we color: \n"
     ]
    },
    {
     "name": "stdout",
     "output_type": "stream",
     "text": [
      "CASSIGGTLWAGGTEAFF    CASSLGTLPNQPQHF   CASRSGGYSYNSPLHF     CASSDSSGANVLTF \n",
      "         \"#A7D2D2\"          \"#B7DB77\"          \"#B066D6\"          \"#D890A2\" \n"
     ]
    },
    {
     "name": "stderr",
     "output_type": "stream",
     "text": [
      "my files:\n"
     ]
    },
    {
     "name": "stdout",
     "output_type": "stream",
     "text": [
      "[1] \"Nextseq/batch3/ds_batch3/CLONES_TRBCHP_373-01-PBMC-DNA_2000000.txt\"\n",
      "[2] \"Nextseq/batch7/ds_batch7/CLONES_TRBCHP_373-02-PBMC-DNA_2000000.txt\"\n",
      "[3] \"Nextseq/batch8/ds_batch8/CLONES_TRBCHP_373-03-PBMC-DNA_2000000.txt\"\n"
     ]
    },
    {
     "name": "stderr",
     "output_type": "stream",
     "text": [
      "Total recovered clonotypes:\n"
     ]
    },
    {
     "name": "stdout",
     "output_type": "stream",
     "text": [
      "[1] 452\n"
     ]
    },
    {
     "name": "stderr",
     "output_type": "stream",
     "text": [
      "Total out-of-frame clonotypes:\n"
     ]
    },
    {
     "name": "stdout",
     "output_type": "stream",
     "text": [
      "[1] 102\n"
     ]
    },
    {
     "name": "stderr",
     "output_type": "stream",
     "text": [
      "Total clonotypes with stop codon:\n"
     ]
    },
    {
     "name": "stdout",
     "output_type": "stream",
     "text": [
      "[1] 9\n"
     ]
    },
    {
     "name": "stderr",
     "output_type": "stream",
     "text": [
      "Total productive clonotypes:\n"
     ]
    },
    {
     "name": "stdout",
     "output_type": "stream",
     "text": [
      "[1] 341\n"
     ]
    },
    {
     "name": "stderr",
     "output_type": "stream",
     "text": [
      "Output contains all clonotypes\n",
      "list of samples to track clones: \n"
     ]
    },
    {
     "name": "stdout",
     "output_type": "stream",
     "text": [
      "[1] \"CHP_373-01\" \"CHP_373-02\" \"CHP_373-03\"\n"
     ]
    },
    {
     "name": "stderr",
     "output_type": "stream",
     "text": [
      "Total number of recurring clonotypes: \n"
     ]
    },
    {
     "name": "stdout",
     "output_type": "stream",
     "text": [
      "[1] 0\n"
     ]
    },
    {
     "name": "stderr",
     "output_type": "stream",
     "text": [
      "these are what we color: \n"
     ]
    },
    {
     "name": "stdout",
     "output_type": "stream",
     "text": [
      "named character(0)\n"
     ]
    },
    {
     "name": "stderr",
     "output_type": "stream",
     "text": [
      "my files:\n"
     ]
    },
    {
     "name": "stdout",
     "output_type": "stream",
     "text": [
      "[1] \"Nextseq/batch3/ds_batch3/CLONES_TRBCHP_374-03-PBMC-DNA_2000000.txt\"\n",
      "[2] \"Nextseq/batch3/ds_batch3/CLONES_TRBCHP_374-04-PBMC-DNA_2000000.txt\"\n",
      "[3] \"Nextseq/batch3/ds_batch3/CLONES_TRBCHP_374-05-PBMC-DNA_2000000.txt\"\n"
     ]
    },
    {
     "name": "stderr",
     "output_type": "stream",
     "text": [
      "Total recovered clonotypes:\n"
     ]
    },
    {
     "name": "stdout",
     "output_type": "stream",
     "text": [
      "[1] 265\n"
     ]
    },
    {
     "name": "stderr",
     "output_type": "stream",
     "text": [
      "Total out-of-frame clonotypes:\n"
     ]
    },
    {
     "name": "stdout",
     "output_type": "stream",
     "text": [
      "[1] 66\n"
     ]
    },
    {
     "name": "stderr",
     "output_type": "stream",
     "text": [
      "Total clonotypes with stop codon:\n"
     ]
    },
    {
     "name": "stdout",
     "output_type": "stream",
     "text": [
      "[1] 2\n"
     ]
    },
    {
     "name": "stderr",
     "output_type": "stream",
     "text": [
      "Total productive clonotypes:\n"
     ]
    },
    {
     "name": "stdout",
     "output_type": "stream",
     "text": [
      "[1] 197\n"
     ]
    },
    {
     "name": "stderr",
     "output_type": "stream",
     "text": [
      "Output contains all clonotypes\n",
      "list of samples to track clones: \n"
     ]
    },
    {
     "name": "stdout",
     "output_type": "stream",
     "text": [
      "[1] \"CHP_374-03\" \"CHP_374-04\" \"CHP_374-05\"\n"
     ]
    },
    {
     "name": "stderr",
     "output_type": "stream",
     "text": [
      "Total number of recurring clonotypes: \n"
     ]
    },
    {
     "name": "stdout",
     "output_type": "stream",
     "text": [
      "[1] 0\n"
     ]
    },
    {
     "name": "stderr",
     "output_type": "stream",
     "text": [
      "these are what we color: \n"
     ]
    },
    {
     "name": "stdout",
     "output_type": "stream",
     "text": [
      "named character(0)\n"
     ]
    },
    {
     "name": "stderr",
     "output_type": "stream",
     "text": [
      "my files:\n"
     ]
    },
    {
     "name": "stdout",
     "output_type": "stream",
     "text": [
      "[1] \"Nextseq/batch3/ds_batch3/CLONES_TRBCHP_378-01-PBMC-DNA_2000000.txt\"\n",
      "[2] \"Nextseq/batch7/ds_batch7/CLONES_TRBCHP_378-02-PBMC-DNA_2000000.txt\"\n",
      "[3] \"Nextseq/batch8/ds_batch8/CLONES_TRBCHP_378-04-PBMC-DNA_2000000.txt\"\n"
     ]
    },
    {
     "name": "stderr",
     "output_type": "stream",
     "text": [
      "Total recovered clonotypes:\n"
     ]
    },
    {
     "name": "stdout",
     "output_type": "stream",
     "text": [
      "[1] 1161\n"
     ]
    },
    {
     "name": "stderr",
     "output_type": "stream",
     "text": [
      "Total out-of-frame clonotypes:\n"
     ]
    },
    {
     "name": "stdout",
     "output_type": "stream",
     "text": [
      "[1] 244\n"
     ]
    },
    {
     "name": "stderr",
     "output_type": "stream",
     "text": [
      "Total clonotypes with stop codon:\n"
     ]
    },
    {
     "name": "stdout",
     "output_type": "stream",
     "text": [
      "[1] 20\n"
     ]
    },
    {
     "name": "stderr",
     "output_type": "stream",
     "text": [
      "Total productive clonotypes:\n"
     ]
    },
    {
     "name": "stdout",
     "output_type": "stream",
     "text": [
      "[1] 897\n"
     ]
    },
    {
     "name": "stderr",
     "output_type": "stream",
     "text": [
      "Output contains all clonotypes\n",
      "list of samples to track clones: \n"
     ]
    },
    {
     "name": "stdout",
     "output_type": "stream",
     "text": [
      "[1] \"CHP_378-01\" \"CHP_378-02\" \"CHP_378-04\"\n"
     ]
    },
    {
     "name": "stderr",
     "output_type": "stream",
     "text": [
      "Total number of recurring clonotypes: \n"
     ]
    },
    {
     "name": "stdout",
     "output_type": "stream",
     "text": [
      "[1] 13\n"
     ]
    },
    {
     "name": "stderr",
     "output_type": "stream",
     "text": [
      "these are what we color: \n"
     ]
    },
    {
     "name": "stdout",
     "output_type": "stream",
     "text": [
      "             CASSQTLA_GNQETQYF                 CASSHSTVNTEAFF \n",
      "                     \"#7ADADA\"                      \"#87A9D5\" \n",
      "                   CAWSPNTEAFF             CASS*PLTG_QNDSPLHF \n",
      "                     \"#8C4BE4\"                      \"#7CE24E\" \n",
      "              CASSGDRQVYPNEQFF                CASSGIELAKNIQYF \n",
      "                     \"#DA9D45\"                      \"#DCAFBD\" \n",
      "                CASSHDWDTNTQYF               CASSQGAGFVNTEAFF \n",
      "                     \"#D856C6\"                      \"#D1DED5\" \n",
      "                   CAWSPATEAFF CASSLDTV*QRLGGF_SGPGRLCSGNTIYF \n",
      "                     \"#D2E161\"                      \"#AE88D2\" \n",
      "                CASSPGDLNTEAFF               CASSGLPI_PDYEQYF \n",
      "                     \"#D3D499\"                      \"#86E3A6\" \n",
      "               CASSDLGGARETQYF \n",
      "                     \"#DB6578\" \n"
     ]
    },
    {
     "name": "stderr",
     "output_type": "stream",
     "text": [
      "my files:\n"
     ]
    },
    {
     "name": "stdout",
     "output_type": "stream",
     "text": [
      "[1] \"Nextseq/batch3/ds_batch3/CLONES_TRBCHP_380-02-PBMC-DNA_2000000.txt\"\n",
      "[2] \"Nextseq/batch8/ds_batch8/CLONES_TRBCHP_380-03-PBMC-DNA_2000000.txt\"\n",
      "[3] \"Nextseq/batch8/ds_batch8/CLONES_TRBCHP_380-05-PBMC-DNA_2000000.txt\"\n"
     ]
    },
    {
     "name": "stderr",
     "output_type": "stream",
     "text": [
      "Total recovered clonotypes:\n"
     ]
    },
    {
     "name": "stdout",
     "output_type": "stream",
     "text": [
      "[1] 196\n"
     ]
    },
    {
     "name": "stderr",
     "output_type": "stream",
     "text": [
      "Total out-of-frame clonotypes:\n"
     ]
    },
    {
     "name": "stdout",
     "output_type": "stream",
     "text": [
      "[1] 36\n"
     ]
    },
    {
     "name": "stderr",
     "output_type": "stream",
     "text": [
      "Total clonotypes with stop codon:\n"
     ]
    },
    {
     "name": "stdout",
     "output_type": "stream",
     "text": [
      "[1] 1\n"
     ]
    },
    {
     "name": "stderr",
     "output_type": "stream",
     "text": [
      "Total productive clonotypes:\n"
     ]
    },
    {
     "name": "stdout",
     "output_type": "stream",
     "text": [
      "[1] 159\n"
     ]
    },
    {
     "name": "stderr",
     "output_type": "stream",
     "text": [
      "Output contains all clonotypes\n",
      "list of samples to track clones: \n"
     ]
    },
    {
     "name": "stdout",
     "output_type": "stream",
     "text": [
      "[1] \"CHP_380-02\" \"CHP_380-03\" \"CHP_380-05\"\n"
     ]
    },
    {
     "name": "stderr",
     "output_type": "stream",
     "text": [
      "Total number of recurring clonotypes: \n"
     ]
    },
    {
     "name": "stdout",
     "output_type": "stream",
     "text": [
      "[1] 10\n"
     ]
    },
    {
     "name": "stderr",
     "output_type": "stream",
     "text": [
      "these are what we color: \n"
     ]
    },
    {
     "name": "stdout",
     "output_type": "stream",
     "text": [
      "     CASRSGSTEAFF CASSFKRGFSGANVLTF CASSEPPGANSYNEQFF   CASSPRSGDQETQYF \n",
      "        \"#AD51DD\"         \"#D9D974\"         \"#D4DABF\"         \"#8ACEDE\" \n",
      "      CASGFGGELFF CASSDDLTGGYTDTQYF   CASSHQGNTYNEQFF       CAKDG_REGHF \n",
      "        \"#92E352\"         \"#9B92D7\"         \"#D8B1C3\"         \"#82E2AF\" \n",
      " CSARDLIR_QSYEQYF     CASSFSLPYEQYF \n",
      "        \"#DB629C\"         \"#D6894F\" \n"
     ]
    },
    {
     "name": "stderr",
     "output_type": "stream",
     "text": [
      "my files:\n"
     ]
    },
    {
     "name": "stdout",
     "output_type": "stream",
     "text": [
      "[1] \"Nextseq/batch_reseq/ds_batch_reseq/CLONES_TRBCHP_353-02-PBMC-DNA_2000000.txt\"\n",
      "[2] \"Nextseq/batch7/ds_batch7/CLONES_TRBCHP_353-01-PBMC-DNA_2000000.txt\"          \n",
      "[3] \"Nextseq/batch7/ds_batch7/CLONES_TRBCHP_353-03-PBMC-DNA_2000000.txt\"          \n",
      "[4] \"Nextseq/batch7/ds_batch7/CLONES_TRBCHP_353-05-PBMC-DNA_2000000.txt\"          \n"
     ]
    },
    {
     "name": "stderr",
     "output_type": "stream",
     "text": [
      "Total recovered clonotypes:\n"
     ]
    },
    {
     "name": "stdout",
     "output_type": "stream",
     "text": [
      "[1] 864\n"
     ]
    },
    {
     "name": "stderr",
     "output_type": "stream",
     "text": [
      "Total out-of-frame clonotypes:\n"
     ]
    },
    {
     "name": "stdout",
     "output_type": "stream",
     "text": [
      "[1] 148\n"
     ]
    },
    {
     "name": "stderr",
     "output_type": "stream",
     "text": [
      "Total clonotypes with stop codon:\n"
     ]
    },
    {
     "name": "stdout",
     "output_type": "stream",
     "text": [
      "[1] 15\n"
     ]
    },
    {
     "name": "stderr",
     "output_type": "stream",
     "text": [
      "Total productive clonotypes:\n"
     ]
    },
    {
     "name": "stdout",
     "output_type": "stream",
     "text": [
      "[1] 701\n"
     ]
    },
    {
     "name": "stderr",
     "output_type": "stream",
     "text": [
      "Output contains all clonotypes\n",
      "list of samples to track clones: \n"
     ]
    },
    {
     "name": "stdout",
     "output_type": "stream",
     "text": [
      "[1] \"CHP_353-02\" \"CHP_353-01\" \"CHP_353-03\" \"CHP_353-05\"\n"
     ]
    },
    {
     "name": "stderr",
     "output_type": "stream",
     "text": [
      "Total number of recurring clonotypes: \n"
     ]
    },
    {
     "name": "stdout",
     "output_type": "stream",
     "text": [
      "[1] 0\n"
     ]
    },
    {
     "name": "stderr",
     "output_type": "stream",
     "text": [
      "these are what we color: \n"
     ]
    },
    {
     "name": "stdout",
     "output_type": "stream",
     "text": [
      "named character(0)\n"
     ]
    },
    {
     "name": "stderr",
     "output_type": "stream",
     "text": [
      "my files:\n"
     ]
    },
    {
     "name": "stdout",
     "output_type": "stream",
     "text": [
      "[1] \"Nextseq/batch_reseq/ds_batch_reseq/CLONES_TRBCHP_358-02-PBMC-DNA_2000000.txt\"\n",
      "[2] \"Nextseq/batch1/ds_batch1/CLONES_TRBCHP_358-01-PBMC-DNA_2000000.txt\"          \n",
      "[3] \"Nextseq/batch3/ds_batch3/CLONES_TRBCHP_358-03-PBMC-DNA_2000000.txt\"          \n",
      "[4] \"Nextseq/batch3/ds_batch3/CLONES_TRBCHP_358-05-PBMC-DNA_2000000.txt\"          \n"
     ]
    },
    {
     "name": "stderr",
     "output_type": "stream",
     "text": [
      "Total recovered clonotypes:\n"
     ]
    },
    {
     "name": "stdout",
     "output_type": "stream",
     "text": [
      "[1] 1501\n"
     ]
    },
    {
     "name": "stderr",
     "output_type": "stream",
     "text": [
      "Total out-of-frame clonotypes:\n"
     ]
    },
    {
     "name": "stdout",
     "output_type": "stream",
     "text": [
      "[1] 288\n"
     ]
    },
    {
     "name": "stderr",
     "output_type": "stream",
     "text": [
      "Total clonotypes with stop codon:\n"
     ]
    },
    {
     "name": "stdout",
     "output_type": "stream",
     "text": [
      "[1] 23\n"
     ]
    },
    {
     "name": "stderr",
     "output_type": "stream",
     "text": [
      "Total productive clonotypes:\n"
     ]
    },
    {
     "name": "stdout",
     "output_type": "stream",
     "text": [
      "[1] 1190\n"
     ]
    },
    {
     "name": "stderr",
     "output_type": "stream",
     "text": [
      "Output contains all clonotypes\n",
      "list of samples to track clones: \n"
     ]
    },
    {
     "name": "stdout",
     "output_type": "stream",
     "text": [
      "[1] \"CHP_358-02\" \"CHP_358-01\" \"CHP_358-03\" \"CHP_358-05\"\n"
     ]
    },
    {
     "name": "stderr",
     "output_type": "stream",
     "text": [
      "Total number of recurring clonotypes: \n"
     ]
    },
    {
     "name": "stdout",
     "output_type": "stream",
     "text": [
      "[1] 1\n"
     ]
    },
    {
     "name": "stderr",
     "output_type": "stream",
     "text": [
      "these are what we color: \n"
     ]
    },
    {
     "name": "stdout",
     "output_type": "stream",
     "text": [
      "CASSHSSYNSPLHF \n",
      "     \"#BEB5B1\" \n"
     ]
    },
    {
     "name": "stderr",
     "output_type": "stream",
     "text": [
      "my files:\n"
     ]
    },
    {
     "name": "stdout",
     "output_type": "stream",
     "text": [
      "[1] \"Nextseq/batch2/ds_batch2/CLONES_TRBCHP_343-02-PBMC-DNA_2000000.txt\"\n",
      "[2] \"Nextseq/batch2/ds_batch2/CLONES_TRBCHP_343-03-PBMC-DNA_2000000.txt\"\n",
      "[3] \"Nextseq/batch2/ds_batch2/CLONES_TRBCHP_343-04-PBMC-DNA_2000000.txt\"\n",
      "[4] \"Nextseq/batch4/ds_batch4/CLONES_TRBCHP_343-05-PBMC-DNA_2000000.txt\"\n"
     ]
    },
    {
     "name": "stderr",
     "output_type": "stream",
     "text": [
      "Total recovered clonotypes:\n"
     ]
    },
    {
     "name": "stdout",
     "output_type": "stream",
     "text": [
      "[1] 119\n"
     ]
    },
    {
     "name": "stderr",
     "output_type": "stream",
     "text": [
      "Total out-of-frame clonotypes:\n"
     ]
    },
    {
     "name": "stdout",
     "output_type": "stream",
     "text": [
      "[1] 21\n"
     ]
    },
    {
     "name": "stderr",
     "output_type": "stream",
     "text": [
      "Total clonotypes with stop codon:\n"
     ]
    },
    {
     "name": "stdout",
     "output_type": "stream",
     "text": [
      "[1] 1\n"
     ]
    },
    {
     "name": "stderr",
     "output_type": "stream",
     "text": [
      "Total productive clonotypes:\n"
     ]
    },
    {
     "name": "stdout",
     "output_type": "stream",
     "text": [
      "[1] 97\n"
     ]
    },
    {
     "name": "stderr",
     "output_type": "stream",
     "text": [
      "Output contains all clonotypes\n",
      "list of samples to track clones: \n"
     ]
    },
    {
     "name": "stdout",
     "output_type": "stream",
     "text": [
      "[1] \"CHP_343-02\" \"CHP_343-03\" \"CHP_343-04\" \"CHP_343-05\"\n"
     ]
    },
    {
     "name": "stderr",
     "output_type": "stream",
     "text": [
      "Total number of recurring clonotypes: \n"
     ]
    },
    {
     "name": "stdout",
     "output_type": "stream",
     "text": [
      "[1] 0\n"
     ]
    },
    {
     "name": "stderr",
     "output_type": "stream",
     "text": [
      "these are what we color: \n"
     ]
    },
    {
     "name": "stdout",
     "output_type": "stream",
     "text": [
      "named character(0)\n"
     ]
    },
    {
     "name": "stderr",
     "output_type": "stream",
     "text": [
      "my files:\n"
     ]
    },
    {
     "name": "stdout",
     "output_type": "stream",
     "text": [
      "[1] \"Nextseq/batch_reseq/ds_batch_reseq/CLONES_TRBCHP_362-02-PBMC-DNA_2000000.txt\"\n",
      "[2] \"Nextseq/batch7/ds_batch7/CLONES_TRBCHP_362-01-PBMC-DNA_2000000.txt\"          \n",
      "[3] \"Nextseq/batch7/ds_batch7/CLONES_TRBCHP_362-03-PBMC-DNA_2000000.txt\"          \n",
      "[4] \"Nextseq/batch7/ds_batch7/CLONES_TRBCHP_362-04-PBMC-DNA_2000000.txt\"          \n"
     ]
    },
    {
     "name": "stderr",
     "output_type": "stream",
     "text": [
      "Total recovered clonotypes:\n"
     ]
    },
    {
     "name": "stdout",
     "output_type": "stream",
     "text": [
      "[1] 691\n"
     ]
    },
    {
     "name": "stderr",
     "output_type": "stream",
     "text": [
      "Total out-of-frame clonotypes:\n"
     ]
    },
    {
     "name": "stdout",
     "output_type": "stream",
     "text": [
      "[1] 151\n"
     ]
    },
    {
     "name": "stderr",
     "output_type": "stream",
     "text": [
      "Total clonotypes with stop codon:\n"
     ]
    },
    {
     "name": "stdout",
     "output_type": "stream",
     "text": [
      "[1] 13\n"
     ]
    },
    {
     "name": "stderr",
     "output_type": "stream",
     "text": [
      "Total productive clonotypes:\n"
     ]
    },
    {
     "name": "stdout",
     "output_type": "stream",
     "text": [
      "[1] 527\n"
     ]
    },
    {
     "name": "stderr",
     "output_type": "stream",
     "text": [
      "Output contains all clonotypes\n",
      "list of samples to track clones: \n"
     ]
    },
    {
     "name": "stdout",
     "output_type": "stream",
     "text": [
      "[1] \"CHP_362-02\" \"CHP_362-01\" \"CHP_362-03\" \"CHP_362-04\"\n"
     ]
    },
    {
     "name": "stderr",
     "output_type": "stream",
     "text": [
      "Total number of recurring clonotypes: \n"
     ]
    },
    {
     "name": "stdout",
     "output_type": "stream",
     "text": [
      "[1] 3\n"
     ]
    },
    {
     "name": "stderr",
     "output_type": "stream",
     "text": [
      "these are what we color: \n"
     ]
    },
    {
     "name": "stdout",
     "output_type": "stream",
     "text": [
      " CASSLGLA_SSYNEQFF CASRQYRLGRGPNQPQHF    CSARDGQAGDTEAFF \n",
      "         \"#BF6CC4\"          \"#B6C5C8\"          \"#B8D979\" \n"
     ]
    }
   ],
   "source": [
    "for(pt in as.character(patient_ids)){\n",
    "    pt_df <- patient_cdr3.fx(datapath, \"TRB\", ds_flelst_chp[grepl(pt, ds_flelst_chp)], \"total\")\n",
    "#samplename cleanup\n",
    "    pt_df$samplename <- gsub(\"-PBMC-DNA_2000000.txt\", \"\", pt_df$samplename)\n",
    "    pt_df$samplename <- gsub(\"TRB\", \"\", pt_df$samplename)\n",
    "    \n",
    "    plotclontrack.fx(pt_df, plotpath, \"TRB\",\n",
    "                          \"cloneFraction\", 0) \n",
    "}"
   ]
  },
  {
   "cell_type": "code",
   "execution_count": null,
   "metadata": {},
   "outputs": [],
   "source": []
  },
  {
   "cell_type": "code",
   "execution_count": null,
   "metadata": {},
   "outputs": [],
   "source": []
  },
  {
   "cell_type": "code",
   "execution_count": null,
   "metadata": {},
   "outputs": [],
   "source": []
  },
  {
   "cell_type": "markdown",
   "metadata": {},
   "source": [
    "# This version tracks all recovered clonotypes regardless of outofframe stop codon or productive"
   ]
  },
  {
   "cell_type": "markdown",
   "metadata": {},
   "source": [
    "## PLTK version"
   ]
  },
  {
   "cell_type": "code",
   "execution_count": 14,
   "metadata": {},
   "outputs": [],
   "source": [
    "clontrack.fx <- function(datapath, plotpath, chain, filelist, countfrac, clnefrc){\n",
    "  \n",
    "  if (!(countfrac %in% c(\"cloneFraction\", \"cloneCount\"))) {\n",
    "    stop(\"Error: unknown argument \", countfrac, \". Please provide either cloneFraction or cloneCount.\")\n",
    "  }  \n",
    "  if (!(chain %in% c(\"TRA\", \"TRB\", \"TRD\", \"TRG\"))) {\n",
    "    stop(\"Error: unknown argument \", chain, \". Please provide one of the following: TRA, TRB, TRD, TRG.\")\n",
    "  }   \n",
    "  \n",
    "  message(\"list of files to track clones: \")\n",
    "  print(filelist)\n",
    "  \n",
    "  #Compile a big file with patient's mixcr files loaded in\n",
    "  i <- 1\n",
    "  for (f in filelist){\n",
    "    mixcrfle <- read.table(paste(datapath, f, sep = \"\"), \n",
    "                           header = TRUE, sep = \"\\t\",\n",
    "                           stringsAsFactors = FALSE,\n",
    "                           na.strings = c(\"\", \"NA\"))\n",
    "    if(i == 1){\n",
    "      compldfle <- mixcrfle[!duplicated(mixcrfle$aaSeqCDR3),]\n",
    "      compldfle <- cbind(cloneno = row.names(compldfle), \n",
    "                         filename = f, \n",
    "                         compldfle)\n",
    "      i <- i + 1   \n",
    "    }\n",
    "    else{\n",
    "      compldfle1 <- mixcrfle[!duplicated(mixcrfle$aaSeqCDR3),]\n",
    "      compldfle1 <- cbind(cloneno = row.names(compldfle1), \n",
    "                          filename = f, \n",
    "                          compldfle1)\n",
    "      compldfle <- rbind(compldfle, compldfle1)\n",
    "      rm(compldfle1)\n",
    "    }\n",
    "  }\n",
    "  \n",
    "  #Clean the sample name. It should be in this format: CHP_XXX-0X\n",
    "  compldfle$samplename <- gsub(paste(\".*\",chain, sep = \"\"), \"\", compldfle$filename)\n",
    "  compldfle$samplename <- gsub(\"-PBMC-DNA_2000000.txt\", \"\", compldfle$samplename)  \n",
    "\n",
    "    \n",
    "  # Subset df\n",
    "  CDR3_fraction <- compldfle[, c(\"samplename\",\"aaSeqCDR3\",\"cloneFraction\", \"cloneCount\")]\n",
    "  # Subset to include only clonotypes with more than specified clonal fraction    \n",
    "  CDR3_fraction <- CDR3_fraction[CDR3_fraction$cloneFraction > clnefrc,] \n",
    "  ## append the empty clonotypes after here.   \n",
    "  \n",
    "  \n",
    "  # Number of samples\n",
    "  mysamples <- unique(CDR3_fraction$samplename)\n",
    "  \n",
    "  #Assign colors to recurring clonotypes\n",
    "  recurring <- unique(CDR3_fraction$aaSeqCDR3[duplicated(CDR3_fraction$aaSeqCDR3)])\n",
    "  notrecurring <- CDR3_fraction$aaSeqCDR3[!CDR3_fraction$aaSeqCDR3 %in% recurring]\n",
    "  \n",
    "  message(\"Total number of recurring clonotypes: \")     \n",
    "  print(length(recurring))\n",
    "  \n",
    "  if(length(recurring) > 50){\n",
    "    recurring_df <- CDR3_fraction[CDR3_fraction$aaSeqCDR3 %in% recurring,]\n",
    "    recurringcdr3_ordered <- unique(recurring_df$aaSeqCDR3[order(recurring_df$cloneCount, decreasing = TRUE)])\n",
    "    message(\"Total number of recurring clonotypes > 50 \")   \n",
    "    message(\"Tracking top 10 recurring clonotypes \")  \n",
    "    myColors <- distinctColorPalette(10)\n",
    "    \n",
    "    myColors <- c(myColors, rep(\"white\",length(recurring)-10),\n",
    "                  rep(\"white\",length(notrecurring)))\n",
    "    names(myColors) <- c(recurringcdr3_ordered, notrecurring)\n",
    "    \n",
    "    message(\"these are what we color: \")  \n",
    "    print(myColors[myColors != \"white\"])         \n",
    "  }\n",
    "  else{\n",
    "    myColors <- distinctColorPalette(length(recurring))\n",
    "    myColors <- c(myColors, rep(\"white\",length(notrecurring)))\n",
    "    names(myColors) <- c(recurring, notrecurring)\n",
    "    \n",
    "    message(\"these are what we color: \")  \n",
    "    print(myColors[myColors != \"white\"]) \n",
    "  }\n",
    "  \n",
    "  \n",
    "  # Generate a row for each sample that doesnot have recurring clonotype\n",
    "  ## This ensures alluvia are colored\n",
    "  \n",
    "  for(c in recurring){\n",
    "    tmp <- CDR3_fraction[CDR3_fraction$aaSeqCDR3 == c,]\n",
    "    nonexsiting <- mysamples[!mysamples %in% tmp$samplename]\n",
    "    if(length(nonexsiting) > 0){\n",
    "      newentries <- data.frame(\"samplename\" = nonexsiting, \"aaSeqCDR3\" = c, \n",
    "                               \"cloneFraction\" = 0, \"cloneCount\" = 0)\n",
    "      CDR3_fraction <- rbind(CDR3_fraction, newentries)\n",
    "    }\n",
    "  }\n",
    "  \n",
    "  p <-  ggplot(CDR3_fraction, aes(x = samplename, \n",
    "                                  y = eval(as.name(countfrac)),\n",
    "                                  fill = aaSeqCDR3,\n",
    "                                  stratum = aaSeqCDR3,\n",
    "                                  alluvium = aaSeqCDR3,\n",
    "                                  label = aaSeqCDR3))\n",
    "  \n",
    "  myp <- p + geom_alluvium(decreasing = FALSE) + \n",
    "    geom_stratum(decreasing = FALSE, stat = \"alluvium\") + \n",
    "    scale_fill_manual(breaks = names(myColors[myColors != \"white\"]),\n",
    "                      values = myColors) +\n",
    "    theme(axis.title.y = element_text(size = 50),\n",
    "          axis.title.x = element_blank(),\n",
    "          axis.line = element_line(color = \"black\"),\n",
    "          axis.text = element_text(size = 50),\n",
    "          axis.text.x = element_text(angle = 45, hjust = 1)) +\n",
    "    theme(panel.grid.major = element_blank(),\n",
    "          panel.grid.minor = element_blank(),\n",
    "          panel.background = element_rect(fill = \"transparent\",colour = NA),\n",
    "          legend.key = element_rect(fill = \"white\", colour = \"white\"),\n",
    "          legend.position = \"bottom\",\n",
    "          plot.margin = unit(c(0.2,0,0,0),\"cm\")) + \n",
    "    labs(y = countfrac) \n",
    "  \n",
    "  pdf(paste(plotpath, \"clonetracking_\",compldfle$samplename, \n",
    "            chain, countfrac, \".pdf\", sep = \"\"),\n",
    "      width = 15, \n",
    "      height = 20,\n",
    "      useDingbats = FALSE,\n",
    "      onefile = FALSE)       \n",
    "  print(myp)  \n",
    "  dev.off()      \n",
    "  \n",
    "}"
   ]
  },
  {
   "cell_type": "code",
   "execution_count": 15,
   "metadata": {},
   "outputs": [],
   "source": [
    "datapath <- \"/Users/anabbi/OneDrive - UHN/Documents/INTERCEPT/Data/\"\n",
    "plotpath <- \"/Users/anabbi/OneDrive - UHN/Documents/INTERCEPT/Plots/\""
   ]
  },
  {
   "cell_type": "code",
   "execution_count": 16,
   "metadata": {},
   "outputs": [],
   "source": [
    "patient_ids <- c(323, 338, 340, 343, 344, 345, 347, \n",
    "                 348, 353, 357, 358, 359, 360, 361, 362,\n",
    "                 364, 368, 370, 374, 378, 380)"
   ]
  },
  {
   "cell_type": "code",
   "execution_count": 17,
   "metadata": {},
   "outputs": [],
   "source": [
    "flelst <- list.files(datapath,\n",
    "                     recursive = TRUE,\n",
    "                     pattern = paste(\"CLONES\", \"TRB\", sep = \"_\"))\n",
    "\n",
    "# subset to include only downsampled files\n",
    "ds_flelst <- flelst[grep(\"2000000\", flelst)]\n",
    "\n",
    "# subset to include only CHP\n",
    "ds_flelst_chp <- ds_flelst[grep(\"CHP\", ds_flelst)]"
   ]
  },
  {
   "cell_type": "code",
   "execution_count": 18,
   "metadata": {
    "scrolled": false
   },
   "outputs": [
    {
     "name": "stderr",
     "output_type": "stream",
     "text": [
      "list of files to track clones: \n"
     ]
    },
    {
     "name": "stdout",
     "output_type": "stream",
     "text": [
      "[1] \"Nextseq/batch4/ds_batch4/CLONES_TRBCHP_323-03-PBMC-DNA_2000000.txt\"\n",
      "[2] \"Nextseq/batch7/ds_batch7/CLONES_TRBCHP_323-04-PBMC-DNA_2000000.txt\"\n",
      "[3] \"Nextseq/batch7/ds_batch7/CLONES_TRBCHP_323-05-PBMC-DNA_2000000.txt\"\n"
     ]
    },
    {
     "name": "stderr",
     "output_type": "stream",
     "text": [
      "Total number of recurring clonotypes: \n"
     ]
    },
    {
     "name": "stdout",
     "output_type": "stream",
     "text": [
      "[1] 5\n"
     ]
    },
    {
     "name": "stderr",
     "output_type": "stream",
     "text": [
      "these are what we color: \n"
     ]
    },
    {
     "name": "stdout",
     "output_type": "stream",
     "text": [
      "         CAASRGC_AKNIQYF    YAFNVIFTLT_CHCVNTEAFF         CARVPRAV_NTGELFF \n",
      "               \"#A5D9C0\"                \"#BB63D3\"                \"#B7E166\" \n",
      "CAQQRLGGFEVA_GRLCSGNTIYF                 CANYGYTF \n",
      "               \"#DC9178\"                \"#B3ABD6\" \n"
     ]
    },
    {
     "name": "stderr",
     "output_type": "stream",
     "text": [
      "list of files to track clones: \n"
     ]
    },
    {
     "name": "stdout",
     "output_type": "stream",
     "text": [
      "[1] \"Nextseq/batch2/ds_batch2/CLONES_TRBCHP_338-04-PBMC-DNA_2000000.txt\"\n",
      "[2] \"Nextseq/batch2/ds_batch2/CLONES_TRBCHP_338-05-PBMC-DNA_2000000.txt\"\n",
      "[3] \"Nextseq/batch4/ds_batch4/CLONES_TRBCHP_338-03-PBMC-DNA_2000000.txt\"\n"
     ]
    },
    {
     "name": "stderr",
     "output_type": "stream",
     "text": [
      "Total number of recurring clonotypes: \n"
     ]
    },
    {
     "name": "stdout",
     "output_type": "stream",
     "text": [
      "[1] 9\n"
     ]
    },
    {
     "name": "stderr",
     "output_type": "stream",
     "text": [
      "these are what we color: \n"
     ]
    },
    {
     "name": "stdout",
     "output_type": "stream",
     "text": [
      "                                CAASRGC_AKNIQYF \n",
      "                                      \"#8EB5D4\" \n",
      "                          YAFNVIFTLT_CHCVNTEAFF \n",
      "                                      \"#8383D9\" \n",
      "                       CAQQRLGGFEVA_GRLCSGNTIYF \n",
      "                                      \"#8BDEBE\" \n",
      "CVIPIKHRRRFLSSLSSILARAL_PSLCLQCDFHLDPCHCVNTEAFF \n",
      "                                      \"#DBCDC4\" \n",
      "                               CARVPRAV_NTGELFF \n",
      "                                      \"#B549DD\" \n",
      "     GPGTRLLVLGERGLLGRGRGR_WVWFLRGVPGLCSGANVLTF \n",
      "                                      \"#D7776C\" \n",
      "                                    CASSFNTEAFF \n",
      "                                      \"#DC83CA\" \n",
      "                                   CSCAPI_SPLHF \n",
      "                                      \"#D6CE70\" \n",
      "            CAGRPGLGPQGGQELGEP*RFACGIAPPCSYEQYF \n",
      "                                      \"#96EA5E\" \n"
     ]
    },
    {
     "name": "stderr",
     "output_type": "stream",
     "text": [
      "list of files to track clones: \n"
     ]
    },
    {
     "name": "stdout",
     "output_type": "stream",
     "text": [
      "[1] \"Nextseq/batch3/ds_batch3/CLONES_TRBCHP_340-05-PBMC-DNA_2000000.txt\"  \n",
      "[2] \"Nextseq/batch4/ds_batch4/CLONES_TRBCHP_340-03-PBMC-DNA_2000000.txt\"  \n",
      "[3] \"Nextseq/batch6a/ds_batch6a/CLONES_TRBCHP_340-04-PBMC-DNA_2000000.txt\"\n"
     ]
    },
    {
     "name": "stderr",
     "output_type": "stream",
     "text": [
      "Total number of recurring clonotypes: \n"
     ]
    },
    {
     "name": "stdout",
     "output_type": "stream",
     "text": [
      "[1] 6\n"
     ]
    },
    {
     "name": "stderr",
     "output_type": "stream",
     "text": [
      "these are what we color: \n"
     ]
    },
    {
     "name": "stdout",
     "output_type": "stream",
     "text": [
      "                           CAASRGC_AKNIQYF \n",
      "                                 \"#A7E862\" \n",
      "                          CARVPRAV_NTGELFF \n",
      "                                 \"#DD7B8B\" \n",
      "                     YAFNVIFTLT_CHCVNTEAFF \n",
      "                                 \"#D8C37F\" \n",
      "GPGTRLLVLGERGLLGRGRGR_WVWFLRGVPGLCSGANVLTF \n",
      "                                 \"#AFAED8\" \n",
      "                                     TP_HF \n",
      "                                 \"#9DDBC5\" \n",
      "                  CAQQRLGGFEVA_GRLCSGNTIYF \n",
      "                                 \"#B762D7\" \n"
     ]
    },
    {
     "name": "stderr",
     "output_type": "stream",
     "text": [
      "list of files to track clones: \n"
     ]
    },
    {
     "name": "stdout",
     "output_type": "stream",
     "text": [
      "[1] \"Nextseq/batch2/ds_batch2/CLONES_TRBCHP_343-02-PBMC-DNA_2000000.txt\"\n",
      "[2] \"Nextseq/batch2/ds_batch2/CLONES_TRBCHP_343-03-PBMC-DNA_2000000.txt\"\n",
      "[3] \"Nextseq/batch2/ds_batch2/CLONES_TRBCHP_343-04-PBMC-DNA_2000000.txt\"\n",
      "[4] \"Nextseq/batch4/ds_batch4/CLONES_TRBCHP_343-05-PBMC-DNA_2000000.txt\"\n"
     ]
    },
    {
     "name": "stderr",
     "output_type": "stream",
     "text": [
      "Total number of recurring clonotypes: \n"
     ]
    },
    {
     "name": "stdout",
     "output_type": "stream",
     "text": [
      "[1] 6\n"
     ]
    },
    {
     "name": "stderr",
     "output_type": "stream",
     "text": [
      "these are what we color: \n"
     ]
    },
    {
     "name": "stdout",
     "output_type": "stream",
     "text": [
      "                     YAFNVIFTLT_CHCVNTEAFF \n",
      "                                 \"#94E964\" \n",
      "                           CAASRGC_AKNIQYF \n",
      "                                 \"#B862D6\" \n",
      "                          CARVPRAV_NTGELFF \n",
      "                                 \"#A2D9C5\" \n",
      "                  CAQQRLGGFEVA_GRLCSGNTIYF \n",
      "                                 \"#AFADD9\" \n",
      "GPGTRLLVLGERGLLGRGRGR_WVWFLRGVPGLCSGANVLTF \n",
      "                                 \"#DC8287\" \n",
      "                            CASYRGPNTGELFF \n",
      "                                 \"#D8CC75\" \n"
     ]
    },
    {
     "name": "stderr",
     "output_type": "stream",
     "text": [
      "list of files to track clones: \n"
     ]
    },
    {
     "name": "stdout",
     "output_type": "stream",
     "text": [
      "[1] \"Nextseq/batch4/ds_batch4/CLONES_TRBCHP_344-05-PBMC-DNA_2000000.txt\"\n",
      "[2] \"Nextseq/batch7/ds_batch7/CLONES_TRBCHP_344-02-PBMC-DNA_2000000.txt\"\n",
      "[3] \"Nextseq/batch7/ds_batch7/CLONES_TRBCHP_344-03-PBMC-DNA_2000000.txt\"\n",
      "[4] \"Nextseq/batch8/ds_batch8/CLONES_TRBCHP_344-04-PBMC-DNA_2000000.txt\"\n"
     ]
    },
    {
     "name": "stderr",
     "output_type": "stream",
     "text": [
      "Total number of recurring clonotypes: \n"
     ]
    },
    {
     "name": "stdout",
     "output_type": "stream",
     "text": [
      "[1] 4\n"
     ]
    },
    {
     "name": "stderr",
     "output_type": "stream",
     "text": [
      "these are what we color: \n"
     ]
    },
    {
     "name": "stdout",
     "output_type": "stream",
     "text": [
      "   YAFNVIFTLT_CHCVNTEAFF          CAASRGC_AKNIQYF CAQQRLGGFEVA_GRLCSGNTIYF \n",
      "               \"#B7DD72\"                \"#DA9DA0\"                \"#9FD2CE\" \n",
      "        CARVPRAV_NTGELFF \n",
      "               \"#B470D6\" \n"
     ]
    },
    {
     "name": "stderr",
     "output_type": "stream",
     "text": [
      "list of files to track clones: \n"
     ]
    },
    {
     "name": "stdout",
     "output_type": "stream",
     "text": [
      "[1] \"Nextseq/batch3/ds_batch3/CLONES_TRBCHP_345-04-PBMC-DNA_2000000.txt\"\n",
      "[2] \"Nextseq/batch3/ds_batch3/CLONES_TRBCHP_345-05-PBMC-DNA_2000000.txt\"\n",
      "[3] \"Nextseq/batch4/ds_batch4/CLONES_TRBCHP_345-02-PBMC-DNA_2000000.txt\"\n",
      "[4] \"Nextseq/batch7/ds_batch7/CLONES_TRBCHP_345-03-PBMC-DNA_2000000.txt\"\n"
     ]
    },
    {
     "name": "stderr",
     "output_type": "stream",
     "text": [
      "Total number of recurring clonotypes: \n"
     ]
    },
    {
     "name": "stdout",
     "output_type": "stream",
     "text": [
      "[1] 22\n"
     ]
    },
    {
     "name": "stderr",
     "output_type": "stream",
     "text": [
      "these are what we color: \n"
     ]
    },
    {
     "name": "stdout",
     "output_type": "stream",
     "text": [
      "                                CAASRGC_AKNIQYF \n",
      "                                      \"#7AE6D2\" \n",
      "                               CARVPRAV_NTGELFF \n",
      "                                      \"#E1B191\" \n",
      "                          YAFNVIFTLT_CHCVNTEAFF \n",
      "                                      \"#D0E682\" \n",
      "     GPGTRLLVLGERGLLGRGRGR_WVWFLRGVPGLCSGANVLTF \n",
      "                                      \"#D1AD4F\" \n",
      "                       CAQQRLGGFEVA_GRLCSGNTIYF \n",
      "                                      \"#6C9572\" \n",
      "                                 CASSPDGPRGTQYF \n",
      "                                      \"#A6539D\" \n",
      "               CVSSFWKEGPTPAPLG_CHTHDALCSNQPQHF \n",
      "                                      \"#E656CE\" \n",
      "CVIPIKHRRRFLSSLSSILARAL_PSLCLQCDFHLDPCHCVNTEAFF \n",
      "                                      \"#73E498\" \n",
      "                                      CATNEKLFF \n",
      "                                      \"#6B7FD8\" \n",
      "                                   CASTYNDNEQFF \n",
      "                                      \"#AB36E8\" \n",
      "                                CAISESGGSHNEQFF \n",
      "                                      \"#84EA4F\" \n",
      "                                CASSPDRGGRDGYTF \n",
      "                                      \"#D2DED4\" \n",
      "                                CASSQGLAGSYEQYF \n",
      "                                      \"#ED6848\" \n",
      "                              CASSHISDLPNPYEQYF \n",
      "                                      \"#81AADF\" \n",
      "                                  CASSFF_*GGYTF \n",
      "                                      \"#CCE1AA\" \n",
      "                                  CASSFRGYNEQFF \n",
      "                                      \"#78CBDC\" \n",
      "                                 CASSPLSQNTEAFF \n",
      "                                      \"#D598E6\" \n",
      "                              CASSSLDGGAGANVLTF \n",
      "                                      \"#DFE548\" \n",
      "                               CASTATKT_AIYEQYF \n",
      "                                      \"#865DDC\" \n",
      "                            CASTLWVRD_ATAGYGYTF \n",
      "                                      \"#E17797\" \n",
      "                              CSAKMGRD_KILYEQYF \n",
      "                                      \"#8D7982\" \n",
      "                                CASSSPRVGGNTQYF \n",
      "                                      \"#DCC0DD\" \n"
     ]
    },
    {
     "name": "stderr",
     "output_type": "stream",
     "text": [
      "list of files to track clones: \n"
     ]
    },
    {
     "name": "stdout",
     "output_type": "stream",
     "text": [
      "[1] \"Nextseq/batch4/ds_batch4/CLONES_TRBCHP_347-01-PBMC-DNA_2000000.txt\"  \n",
      "[2] \"Nextseq/batch4/ds_batch4/CLONES_TRBCHP_347-02-PBMC-DNA_2000000.txt\"  \n",
      "[3] \"Nextseq/batch6a/ds_batch6a/CLONES_TRBCHP_347-04-PBMC-DNA_2000000.txt\"\n",
      "[4] \"Nextseq/batch7/ds_batch7/CLONES_TRBCHP_347-03-PBMC-DNA_2000000.txt\"  \n",
      "[5] \"Nextseq/batch8/ds_batch8/CLONES_TRBCHP_347-05-PBMC-DNA_2000000.txt\"  \n"
     ]
    },
    {
     "name": "stderr",
     "output_type": "stream",
     "text": [
      "Total number of recurring clonotypes: \n"
     ]
    },
    {
     "name": "stdout",
     "output_type": "stream",
     "text": [
      "[1] 13\n"
     ]
    },
    {
     "name": "stderr",
     "output_type": "stream",
     "text": [
      "these are what we color: \n"
     ]
    },
    {
     "name": "stdout",
     "output_type": "stream",
     "text": [
      "                                CAASRGC_AKNIQYF \n",
      "                                      \"#7FD4D4\" \n",
      "                               CARVPRAV_NTGELFF \n",
      "                                      \"#D3C3D6\" \n",
      "     GPGTRLLVLGERGLLGRGRGR_WVWFLRGVPGLCSGANVLTF \n",
      "                                      \"#D77796\" \n",
      "                          YAFNVIFTLT_CHCVNTEAFF \n",
      "                                      \"#7293D4\" \n",
      "                       CAQQRLGGFEVA_GRLCSGNTIYF \n",
      "                                      \"#814EE1\" \n",
      "                               CASNFAGGMSTGELFF \n",
      "                                      \"#DBDB5B\" \n",
      "                                  CSARVRGDYGYTF \n",
      "                                      \"#D1E2B5\" \n",
      "                                 CAGLGGRDQETQYF \n",
      "                                      \"#EC6D46\" \n",
      "                                  CSARTGGVYEQYF \n",
      "                                      \"#89EA54\" \n",
      "CVIPIKHRRRFLSSLSSILARAL_PSLCLQCDFHLDPCHCVNTEAFF \n",
      "                                      \"#DC4FCF\" \n",
      "                                CAASRGC_SQKHSVH \n",
      "                                      \"#C78ADC\" \n",
      "                                  CPGRLCSGNTIYF \n",
      "                                      \"#CAA575\" \n",
      "               CVSSFWKEGPTPAPLG_CHTHDALCSNQPQHF \n",
      "                                      \"#77DC9E\" \n"
     ]
    },
    {
     "name": "stderr",
     "output_type": "stream",
     "text": [
      "list of files to track clones: \n"
     ]
    },
    {
     "name": "stdout",
     "output_type": "stream",
     "text": [
      "[1] \"Nextseq/batch1/ds_batch1/CLONES_TRBCHP_348-03-PBMC-DNA_2000000.txt\"\n",
      "[2] \"Nextseq/batch1/ds_batch1/CLONES_TRBCHP_348-04-PBMC-DNA_2000000.txt\"\n",
      "[3] \"Nextseq/batch2/ds_batch2/CLONES_TRBCHP_348-01-PBMC-DNA_2000000.txt\"\n",
      "[4] \"Nextseq/batch2/ds_batch2/CLONES_TRBCHP_348-02-PBMC-DNA_2000000.txt\"\n"
     ]
    },
    {
     "name": "stderr",
     "output_type": "stream",
     "text": [
      "Total number of recurring clonotypes: \n"
     ]
    },
    {
     "name": "stdout",
     "output_type": "stream",
     "text": [
      "[1] 6\n"
     ]
    },
    {
     "name": "stderr",
     "output_type": "stream",
     "text": [
      "these are what we color: \n"
     ]
    },
    {
     "name": "stdout",
     "output_type": "stream",
     "text": [
      "   YAFNVIFTLT_CHCVNTEAFF          CAASRGC_AKNIQYF         CARVPRAV_NTGELFF \n",
      "               \"#BB5FD6\"                \"#DD848C\"                \"#AAA8DA\" \n",
      "CAQQRLGGFEVA_GRLCSGNTIYF         CASRPIAGGGADTQYF             CSCAPI_SPLHF \n",
      "               \"#94E867\"                \"#A4D9C6\"                \"#D9CB75\" \n"
     ]
    },
    {
     "name": "stderr",
     "output_type": "stream",
     "text": [
      "list of files to track clones: \n"
     ]
    },
    {
     "name": "stdout",
     "output_type": "stream",
     "text": [
      "[1] \"Nextseq/batch7/ds_batch7/CLONES_TRBCHP_353-01-PBMC-DNA_2000000.txt\"\n",
      "[2] \"Nextseq/batch7/ds_batch7/CLONES_TRBCHP_353-03-PBMC-DNA_2000000.txt\"\n",
      "[3] \"Nextseq/batch7/ds_batch7/CLONES_TRBCHP_353-05-PBMC-DNA_2000000.txt\"\n"
     ]
    },
    {
     "name": "stderr",
     "output_type": "stream",
     "text": [
      "Total number of recurring clonotypes: \n"
     ]
    },
    {
     "name": "stdout",
     "output_type": "stream",
     "text": [
      "[1] 5\n"
     ]
    },
    {
     "name": "stderr",
     "output_type": "stream",
     "text": [
      "these are what we color: \n"
     ]
    },
    {
     "name": "stdout",
     "output_type": "stream",
     "text": [
      "                           CAASRGC_AKNIQYF \n",
      "                                 \"#B6E067\" \n",
      "                     YAFNVIFTLT_CHCVNTEAFF \n",
      "                                 \"#B2ACD8\" \n",
      "                          CARVPRAV_NTGELFF \n",
      "                                 \"#DC8E79\" \n",
      "                  CAQQRLGGFEVA_GRLCSGNTIYF \n",
      "                                 \"#A7D9C1\" \n",
      "GPGTRLLVLGERGLLGRGRGR_WVWFLRGVPGLCSGANVLTF \n",
      "                                 \"#BB63D4\" \n"
     ]
    },
    {
     "name": "stderr",
     "output_type": "stream",
     "text": [
      "list of files to track clones: \n"
     ]
    },
    {
     "name": "stdout",
     "output_type": "stream",
     "text": [
      "[1] \"Nextseq/batch4/ds_batch4/CLONES_TRBCHP_357-01-PBMC-DNA_2000000.txt\"  \n",
      "[2] \"Nextseq/batch6a/ds_batch6a/CLONES_TRBCHP_357-03-PBMC-DNA_2000000.txt\"\n",
      "[3] \"Nextseq/batch7/ds_batch7/CLONES_TRBCHP_357-04-PBMC-DNA_2000000.txt\"  \n",
      "[4] \"Nextseq/batch8/ds_batch8/CLONES_TRBCHP_357-02-PBMC-DNA_2000000.txt\"  \n"
     ]
    },
    {
     "name": "stderr",
     "output_type": "stream",
     "text": [
      "Total number of recurring clonotypes: \n"
     ]
    },
    {
     "name": "stdout",
     "output_type": "stream",
     "text": [
      "[1] 11\n"
     ]
    },
    {
     "name": "stderr",
     "output_type": "stream",
     "text": [
      "these are what we color: \n"
     ]
    },
    {
     "name": "stdout",
     "output_type": "stream",
     "text": [
      "                                CAASRGC_AKNIQYF \n",
      "                                      \"#7EE0BE\" \n",
      "                          YAFNVIFTLT_CHCVNTEAFF \n",
      "                                      \"#AE49E1\" \n",
      "                               CARVPRAV_NTGELFF \n",
      "                                      \"#8AEA62\" \n",
      "                       CAQQRLGGFEVA_GRLCSGNTIYF \n",
      "                                      \"#D87C6A\" \n",
      "     GPGTRLLVLGERGLLGRGRGR_WVWFLRGVPGLCSGANVLTF \n",
      "                                      \"#D6DCCB\" \n",
      "                                   CSCAPI_SPLHF \n",
      "                                      \"#DA73C3\" \n",
      "            CAGRPGLGPQGGQELGEP*RFACGGAPPCSYEQYF \n",
      "                                      \"#7D83D7\" \n",
      "                                      CATNEKLFF \n",
      "                                      \"#D4B5D6\" \n",
      "                             CASRLGWIV_TGGHEQYF \n",
      "                                      \"#C6CD8A\" \n",
      "                                CASRKLDREGNTIYF \n",
      "                                      \"#78BBD1\" \n",
      "CVIPIKHRRRFLSSLSSILARAL_PSLCLQCDFHLDPCHCVNTEAFF \n",
      "                                      \"#DED451\" \n"
     ]
    },
    {
     "name": "stderr",
     "output_type": "stream",
     "text": [
      "list of files to track clones: \n"
     ]
    },
    {
     "name": "stdout",
     "output_type": "stream",
     "text": [
      "[1] \"Nextseq/batch1/ds_batch1/CLONES_TRBCHP_358-01-PBMC-DNA_2000000.txt\"\n",
      "[2] \"Nextseq/batch3/ds_batch3/CLONES_TRBCHP_358-03-PBMC-DNA_2000000.txt\"\n",
      "[3] \"Nextseq/batch3/ds_batch3/CLONES_TRBCHP_358-05-PBMC-DNA_2000000.txt\"\n"
     ]
    },
    {
     "name": "stderr",
     "output_type": "stream",
     "text": [
      "Total number of recurring clonotypes: \n"
     ]
    },
    {
     "name": "stdout",
     "output_type": "stream",
     "text": [
      "[1] 8\n"
     ]
    },
    {
     "name": "stderr",
     "output_type": "stream",
     "text": [
      "these are what we color: \n"
     ]
    },
    {
     "name": "stdout",
     "output_type": "stream",
     "text": [
      "                                 CAASRGC_AKNIQYF \n",
      "                                       \"#CED4A6\" \n",
      "                                CARVPRAV_NTGELFF \n",
      "                                       \"#BC4ED8\" \n",
      "                        CAQQRLGGFEVA_GRLCSGNTIYF \n",
      "                                       \"#B085D5\" \n",
      "      GPGTRLLVLGERGLLGRGRGR_WVWFLRGVPGLCSGANVLTF \n",
      "                                       \"#B7BAD7\" \n",
      "                           YAFNVIFTLT_CHCVNTEAFF \n",
      "                                       \"#DAD055\" \n",
      "CPANSRQEKIGSGKRGRVCPLSVL_GGGEGEGILGSPFPLCSYNEQFF \n",
      "                                       \"#DC7C7D\" \n",
      "                                  CASSHSSYNSPLHF \n",
      "                                       \"#89E96D\" \n",
      " CVIPIKHRRRFLSSLSSILARAL_PSLCLQCDFHLDPCHCVNTEAFF \n",
      "                                       \"#7CD8CA\" \n"
     ]
    },
    {
     "name": "stderr",
     "output_type": "stream",
     "text": [
      "list of files to track clones: \n"
     ]
    },
    {
     "name": "stdout",
     "output_type": "stream",
     "text": [
      "[1] \"Nextseq/batch6a/ds_batch6a/CLONES_TRBCHP_359-02-PBMC-DNA_2000000.txt\"\n",
      "[2] \"Nextseq/batch6a/ds_batch6a/CLONES_TRBCHP_359-04-PBMC-DNA_2000000.txt\"\n",
      "[3] \"Nextseq/batch7/ds_batch7/CLONES_TRBCHP_359-01-PBMC-DNA_2000000.txt\"  \n"
     ]
    },
    {
     "name": "stderr",
     "output_type": "stream",
     "text": [
      "Total number of recurring clonotypes: \n"
     ]
    },
    {
     "name": "stdout",
     "output_type": "stream",
     "text": [
      "[1] 7\n"
     ]
    },
    {
     "name": "stderr",
     "output_type": "stream",
     "text": [
      "these are what we color: \n"
     ]
    },
    {
     "name": "stdout",
     "output_type": "stream",
     "text": [
      "                           CAASRGC_AKNIQYF \n",
      "                                 \"#A691DA\" \n",
      "                     YAFNVIFTLT_CHCVNTEAFF \n",
      "                                 \"#A0E95C\" \n",
      "                          CARVPRAV_NTGELFF \n",
      "                                 \"#8DDEBE\" \n",
      "                  CAQQRLGGFEVA_GRLCSGNTIYF \n",
      "                                 \"#DC7D88\" \n",
      "GPGTRLLVLGERGLLGRGRGR_WVWFLRGVPGLCSGANVLTF \n",
      "                                 \"#BEC7D0\" \n",
      "                           CAASRGC_SQKHSVH \n",
      "                                 \"#D8C876\" \n",
      "                            CASSEAGGNQPQHF \n",
      "                                 \"#BD52D6\" \n"
     ]
    },
    {
     "name": "stderr",
     "output_type": "stream",
     "text": [
      "list of files to track clones: \n"
     ]
    },
    {
     "name": "stdout",
     "output_type": "stream",
     "text": [
      "[1] \"Nextseq/batch3/ds_batch3/CLONES_TRBCHP_360-03-PBMC-DNA_2000000.txt\"\n",
      "[2] \"Nextseq/batch7/ds_batch7/CLONES_TRBCHP_360-02-PBMC-DNA_2000000.txt\"\n",
      "[3] \"Nextseq/batch8/ds_batch8/CLONES_TRBCHP_360-05-PBMC-DNA_2000000.txt\"\n"
     ]
    },
    {
     "name": "stderr",
     "output_type": "stream",
     "text": [
      "Total number of recurring clonotypes: \n"
     ]
    },
    {
     "name": "stdout",
     "output_type": "stream",
     "text": [
      "[1] 13\n"
     ]
    },
    {
     "name": "stderr",
     "output_type": "stream",
     "text": [
      "these are what we color: \n"
     ]
    },
    {
     "name": "stdout",
     "output_type": "stream",
     "text": [
      "                           CAASRGC_AKNIQYF \n",
      "                                 \"#7DD7D2\" \n",
      "                          CARVPRAV_NTGELFF \n",
      "                                 \"#DBDFC1\" \n",
      "                     YAFNVIFTLT_CHCVNTEAFF \n",
      "                                 \"#E16A73\" \n",
      "                  CAQQRLGGFEVA_GRLCSGNTIYF \n",
      "                                 \"#D1B8CD\" \n",
      "                               CASSPLYEQYF \n",
      "                                 \"#96DD9B\" \n",
      "                           CASSLGQGIVAEAFF \n",
      "                                 \"#DB53C9\" \n",
      "                           CASSFIAGEADTQYF \n",
      "                                 \"#7A6FD9\" \n",
      "                CAKGGGEGEGILGSPFPLCSYNEQFF \n",
      "                                 \"#DDDE5B\" \n",
      "                             CAISESVHNEQFF \n",
      "                                 \"#D48BD2\" \n",
      "GPGTRLLVLGERGLLGRGRGR_WVWFLRGVPGLCSGANVLTF \n",
      "                                 \"#7AA3D6\" \n",
      "                           CASSETSGSTDTQYF \n",
      "                                 \"#CCA167\" \n",
      "                           CAASRGC_AKNIQYI \n",
      "                                 \"#83EA57\" \n",
      "  GAGTRLSVLGKLGPPGDRGR_LRSGFCAGLGGRDQETQYF \n",
      "                                 \"#A53DE7\" \n"
     ]
    },
    {
     "name": "stderr",
     "output_type": "stream",
     "text": [
      "list of files to track clones: \n"
     ]
    },
    {
     "name": "stdout",
     "output_type": "stream",
     "text": [
      "[1] \"Nextseq/batch3/ds_batch3/CLONES_TRBCHP_361-02-PBMC-DNA_2000000.txt\"\n",
      "[2] \"Nextseq/batch3/ds_batch3/CLONES_TRBCHP_361-03-PBMC-DNA_2000000.txt\"\n",
      "[3] \"Nextseq/batch4/ds_batch4/CLONES_TRBCHP_361-01-PBMC-DNA_2000000.txt\"\n",
      "[4] \"Nextseq/batch7/ds_batch7/CLONES_TRBCHP_361-04-PBMC-DNA_2000000.txt\"\n"
     ]
    },
    {
     "name": "stderr",
     "output_type": "stream",
     "text": [
      "Total number of recurring clonotypes: \n"
     ]
    },
    {
     "name": "stdout",
     "output_type": "stream",
     "text": [
      "[1] 11\n"
     ]
    },
    {
     "name": "stderr",
     "output_type": "stream",
     "text": [
      "these are what we color: \n"
     ]
    },
    {
     "name": "stdout",
     "output_type": "stream",
     "text": [
      "                                CAASRGC_AKNIQYF \n",
      "                                      \"#DE84C5\" \n",
      "                          YAFNVIFTLT_CHCVNTEAFF \n",
      "                                      \"#9DE19E\" \n",
      "                       CAQQRLGGFEVA_GRLCSGNTIYF \n",
      "                                      \"#8775DC\" \n",
      "                               CARVPRAV_NTGELFF \n",
      "                                      \"#98ADDE\" \n",
      "     GPGTRLLVLGERGLLGRGRGR_WVWFLRGVPGLCSGANVLTF \n",
      "                                      \"#DDCC68\" \n",
      "CVIPIKHRRRFLSSLSSILARAL_PSLCLQCDFHLDPCHCVNTEAFF \n",
      "                                      \"#7FDCD5\" \n",
      "       GAGTRLSVLGKLGPPGDRGR_LRSGFCAGLGGRDQETQYF \n",
      "                                      \"#C245DB\" \n",
      "                                CAASRGC_SQKHSVH \n",
      "                                      \"#DDD2C9\" \n",
      "                     CAKGGGEGEGILGSPFPLCSYNEQFF \n",
      "                                      \"#E1796C\" \n",
      "               CVSSFWKEGPTPAPLG_CHTHDALCSNQPQHF \n",
      "                                      \"#9BEB52\" \n",
      "                                       CANYGYTF \n",
      "                                      \"#818075\" \n"
     ]
    },
    {
     "name": "stderr",
     "output_type": "stream",
     "text": [
      "list of files to track clones: \n"
     ]
    },
    {
     "name": "stdout",
     "output_type": "stream",
     "text": [
      "[1] \"Nextseq/batch4/ds_batch4/CLONES_TRBCHP_362-02-PBMC-DNA_2000000.txt\"\n",
      "[2] \"Nextseq/batch7/ds_batch7/CLONES_TRBCHP_362-01-PBMC-DNA_2000000.txt\"\n",
      "[3] \"Nextseq/batch7/ds_batch7/CLONES_TRBCHP_362-03-PBMC-DNA_2000000.txt\"\n",
      "[4] \"Nextseq/batch7/ds_batch7/CLONES_TRBCHP_362-04-PBMC-DNA_2000000.txt\"\n"
     ]
    },
    {
     "name": "stderr",
     "output_type": "stream",
     "text": [
      "Total number of recurring clonotypes: \n"
     ]
    },
    {
     "name": "stdout",
     "output_type": "stream",
     "text": [
      "[1] 9\n"
     ]
    },
    {
     "name": "stderr",
     "output_type": "stream",
     "text": [
      "these are what we color: \n"
     ]
    },
    {
     "name": "stdout",
     "output_type": "stream",
     "text": [
      "                           CAASRGC_AKNIQYF \n",
      "                                 \"#7DD8CE\" \n",
      "                     YAFNVIFTLT_CHCVNTEAFF \n",
      "                                 \"#84E86B\" \n",
      "                          CARVPRAV_NTGELFF \n",
      "                                 \"#CFC0D1\" \n",
      "                  CAQQRLGGFEVA_GRLCSGNTIYF \n",
      "                                 \"#D879C8\" \n",
      "GPGTRLLVLGERGLLGRGRGR_WVWFLRGVPGLCSGANVLTF \n",
      "                                 \"#DCD558\" \n",
      "                                 CATNEKLFF \n",
      "                                 \"#C8D5A2\" \n",
      "                        CASRQYRLGRGPNQPQHF \n",
      "                                 \"#AD4CE0\" \n",
      "                           CSARDGQAGDTEAFF \n",
      "                                 \"#D97C6B\" \n",
      "  GAGTRLSVLGKLGPPGDRGR_LRSGFCAGLGGRDQETQYF \n",
      "                                 \"#7E90D7\" \n"
     ]
    },
    {
     "name": "stderr",
     "output_type": "stream",
     "text": [
      "list of files to track clones: \n"
     ]
    },
    {
     "name": "stdout",
     "output_type": "stream",
     "text": [
      "[1] \"Nextseq/batch4/ds_batch4/CLONES_TRBCHP_364-01-PBMC-DNA_2000000.txt\"\n",
      "[2] \"Nextseq/batch4/ds_batch4/CLONES_TRBCHP_364-02-PBMC-DNA_2000000.txt\"\n",
      "[3] \"Nextseq/batch4/ds_batch4/CLONES_TRBCHP_364-04-PBMC-DNA_2000000.txt\"\n"
     ]
    },
    {
     "name": "stderr",
     "output_type": "stream",
     "text": [
      "Total number of recurring clonotypes: \n"
     ]
    },
    {
     "name": "stdout",
     "output_type": "stream",
     "text": [
      "[1] 12\n"
     ]
    },
    {
     "name": "stderr",
     "output_type": "stream",
     "text": [
      "these are what we color: \n"
     ]
    },
    {
     "name": "stdout",
     "output_type": "stream",
     "text": [
      "                                CAASRGC_AKNIQYF \n",
      "                                      \"#76DEAE\" \n",
      "                               CARVPRAV_NTGELFF \n",
      "                                      \"#DCDA52\" \n",
      "                          YAFNVIFTLT_CHCVNTEAFF \n",
      "                                      \"#C6DA95\" \n",
      "     GPGTRLLVLGERGLLGRGRGR_WVWFLRGVPGLCSGANVLTF \n",
      "                                      \"#CF9D69\" \n",
      "                       CAQQRLGGFEVA_GRLCSGNTIYF \n",
      "                                      \"#87EA5B\" \n",
      "                                   CSCAPI_SPLHF \n",
      "                                      \"#D0B1CF\" \n",
      "                                      CATNEKLFF \n",
      "                                      \"#E16770\" \n",
      "                                       CANYGYTF \n",
      "                                      \"#79CCD7\" \n",
      "                             CAISGPGTSGRAQDTQYF \n",
      "                                      \"#D573CA\" \n",
      "            CAGRPGLGPQGGQELGEP*RFACGGAPPCSYEQYF \n",
      "                                      \"#A847E0\" \n",
      "                                 CASSGLAGADTQYF \n",
      "                                      \"#D5DCCA\" \n",
      "CVIPIKHRRRFLSSLSSILARAL_PSLCLQCDFHLDPCHCVNTEAFF \n",
      "                                      \"#7C8CD9\" \n"
     ]
    },
    {
     "name": "stderr",
     "output_type": "stream",
     "text": [
      "list of files to track clones: \n"
     ]
    },
    {
     "name": "stdout",
     "output_type": "stream",
     "text": [
      "[1] \"Nextseq/batch3/ds_batch3/CLONES_TRBCHP_368-05-PBMC-DNA_2000000.txt\"\n",
      "[2] \"Nextseq/batch7/ds_batch7/CLONES_TRBCHP_368-01-PBMC-DNA_2000000.txt\"\n",
      "[3] \"Nextseq/batch7/ds_batch7/CLONES_TRBCHP_368-04-PBMC-DNA_2000000.txt\"\n"
     ]
    },
    {
     "name": "stderr",
     "output_type": "stream",
     "text": [
      "Total number of recurring clonotypes: \n"
     ]
    },
    {
     "name": "stdout",
     "output_type": "stream",
     "text": [
      "[1] 18\n"
     ]
    },
    {
     "name": "stderr",
     "output_type": "stream",
     "text": [
      "these are what we color: \n"
     ]
    },
    {
     "name": "stdout",
     "output_type": "stream",
     "text": [
      "                           CAASRGC_AKNIQYF \n",
      "                                 \"#E06569\" \n",
      "                     YAFNVIFTLT_CHCVNTEAFF \n",
      "                                 \"#CADD97\" \n",
      "                          CASSQESSPIGTEAFF \n",
      "                                 \"#7AED4D\" \n",
      "                          CARVPRAV_NTGELFF \n",
      "                                 \"#E5E64B\" \n",
      "                           CASSGSGTVWETQYF \n",
      "                                 \"#D886CB\" \n",
      "                           CASSAGGTANTEAFF \n",
      "                                 \"#D3E2CF\" \n",
      "                     CASSQDLGETLLFMNTGELFF \n",
      "                                 \"#806DDA\" \n",
      "                  CAQQRLGGFEVA_GRLCSGNTIYF \n",
      "                                 \"#8697DA\" \n",
      "                          CASSKGAC_TNEKLFF \n",
      "                                 \"#DFAE8B\" \n",
      "GPGTRLLVLGERGLLGRGRGR_WVWFLRGVPGLCSGANVLTF \n",
      "                                 \"#78E1D3\" \n",
      "                            CASTLPN_GKKLFF \n",
      "                                 \"#AFE362\" \n",
      "                             CASSQSYYLEQFF \n",
      "                                 \"#D9BAD3\" \n",
      "                    CASSQEKKGFPESGSPRNEQFF \n",
      "                                 \"#DD53CA\" \n",
      "                           CASSPGTGGYQPQHF \n",
      "                                 \"#D7AF4A\" \n",
      "                       CASRRQGLFLFSSTDTQYF \n",
      "                                 \"#6FE199\" \n",
      "                           CASSTNR_NTGELFF \n",
      "                                 \"#7EC0DC\" \n",
      "                            CASSLAGSTYEQYF \n",
      "                                 \"#A53DE7\" \n",
      "                           CASSERGGPIGGAFF \n",
      "                                 \"#748070\" \n"
     ]
    },
    {
     "name": "stderr",
     "output_type": "stream",
     "text": [
      "list of files to track clones: \n"
     ]
    },
    {
     "name": "stdout",
     "output_type": "stream",
     "text": [
      "[1] \"Nextseq/batch3/ds_batch3/CLONES_TRBCHP_370-02-PBMC-DNA_2000000.txt\"\n",
      "[2] \"Nextseq/batch7/ds_batch7/CLONES_TRBCHP_370-01-PBMC-DNA_2000000.txt\"\n",
      "[3] \"Nextseq/batch7/ds_batch7/CLONES_TRBCHP_370-05-PBMC-DNA_2000000.txt\"\n",
      "[4] \"Nextseq/batch8/ds_batch8/CLONES_TRBCHP_370-03-PBMC-DNA_2000000.txt\"\n"
     ]
    },
    {
     "name": "stderr",
     "output_type": "stream",
     "text": [
      "Total number of recurring clonotypes: \n"
     ]
    },
    {
     "name": "stdout",
     "output_type": "stream",
     "text": [
      "[1] 10\n"
     ]
    },
    {
     "name": "stderr",
     "output_type": "stream",
     "text": [
      "these are what we color: \n"
     ]
    },
    {
     "name": "stdout",
     "output_type": "stream",
     "text": [
      "                           CAASRGC_AKNIQYF \n",
      "                                 \"#A748E0\" \n",
      "                     YAFNVIFTLT_CHCVNTEAFF \n",
      "                                 \"#7BD7CF\" \n",
      "                          CARVPRAV_NTGELFF \n",
      "                                 \"#D49E66\" \n",
      "                  CAQQRLGGFEVA_GRLCSGNTIYF \n",
      "                                 \"#D6DE5A\" \n",
      "GPGTRLLVLGERGLLGRGRGR_WVWFLRGVPGLCSGANVLTF \n",
      "                                 \"#C6DAA9\" \n",
      "                        CASSIGGTLWAGGTEAFF \n",
      "                                 \"#D1C0D2\" \n",
      "                           CASSLGTLPNQPQHF \n",
      "                                 \"#D376CE\" \n",
      "                          CASRSGGYSYNSPLHF \n",
      "                                 \"#DF6D7D\" \n",
      "                            CASSDSSGANVLTF \n",
      "                                 \"#7AE86F\" \n",
      "         CATSPSTALKCQFLLA_TNLPQTQLRKQVMY*V \n",
      "                                 \"#7D91D7\" \n"
     ]
    },
    {
     "name": "stderr",
     "output_type": "stream",
     "text": [
      "list of files to track clones: \n"
     ]
    },
    {
     "name": "stdout",
     "output_type": "stream",
     "text": [
      "[1] \"Nextseq/batch3/ds_batch3/CLONES_TRBCHP_374-03-PBMC-DNA_2000000.txt\"\n",
      "[2] \"Nextseq/batch3/ds_batch3/CLONES_TRBCHP_374-04-PBMC-DNA_2000000.txt\"\n",
      "[3] \"Nextseq/batch3/ds_batch3/CLONES_TRBCHP_374-05-PBMC-DNA_2000000.txt\"\n"
     ]
    },
    {
     "name": "stderr",
     "output_type": "stream",
     "text": [
      "Total number of recurring clonotypes: \n"
     ]
    },
    {
     "name": "stdout",
     "output_type": "stream",
     "text": [
      "[1] 10\n"
     ]
    },
    {
     "name": "stderr",
     "output_type": "stream",
     "text": [
      "these are what we color: \n"
     ]
    },
    {
     "name": "stdout",
     "output_type": "stream",
     "text": [
      "                                CAASRGC_AKNIQYF \n",
      "                                      \"#838BD9\" \n",
      "                               CARVPRAV_NTGELFF \n",
      "                                      \"#80E1C1\" \n",
      "                          YAFNVIFTLT_CHCVNTEAFF \n",
      "                                      \"#DBD358\" \n",
      "     GPGTRLLVLGERGLLGRGRGR_WVWFLRGVPGLCSGANVLTF \n",
      "                                      \"#8AEA64\" \n",
      "                       CAQQRLGGFEVA_GRLCSGNTIYF \n",
      "                                      \"#D7BED2\" \n",
      "   CTRLTVVGKTFFRFFCRSVTGK_WVHSVPFRVAIFLCANYGYTF \n",
      "                                      \"#D87C6A\" \n",
      "                CALCLC*GRWGRRRN_LGSPFPLCSYNEQFF \n",
      "                                      \"#80C0D2\" \n",
      "CVIPIKHRRRFLSSLSSILARAL_PSLCLQCDFHLDPCHCVNTEAFF \n",
      "                                      \"#AE4BDF\" \n",
      "               CVSSFWKEGPTPAPLG_CHTHDALCSNQPQHF \n",
      "                                      \"#CDD4A4\" \n",
      "       GAGTRLSVLGKLGPPGDRGR_LRSGFCAGLGGRDQETQYF \n",
      "                                      \"#D976C5\" \n"
     ]
    },
    {
     "name": "stderr",
     "output_type": "stream",
     "text": [
      "list of files to track clones: \n"
     ]
    },
    {
     "name": "stdout",
     "output_type": "stream",
     "text": [
      "[1] \"Nextseq/batch3/ds_batch3/CLONES_TRBCHP_378-01-PBMC-DNA_2000000.txt\"\n",
      "[2] \"Nextseq/batch7/ds_batch7/CLONES_TRBCHP_378-02-PBMC-DNA_2000000.txt\"\n",
      "[3] \"Nextseq/batch8/ds_batch8/CLONES_TRBCHP_378-04-PBMC-DNA_2000000.txt\"\n"
     ]
    },
    {
     "name": "stderr",
     "output_type": "stream",
     "text": [
      "Total number of recurring clonotypes: \n"
     ]
    },
    {
     "name": "stdout",
     "output_type": "stream",
     "text": [
      "[1] 17\n"
     ]
    },
    {
     "name": "stderr",
     "output_type": "stream",
     "text": [
      "these are what we color: \n"
     ]
    },
    {
     "name": "stdout",
     "output_type": "stream",
     "text": [
      "           YAFNVIFTLT_CHCVNTEAFF                  CAASRGC_AKNIQYF \n",
      "                       \"#75E599\"                        \"#7B7B85\" \n",
      "               CASSQTLA_GNQETQYF                   CASSHSTVNTEAFF \n",
      "                       \"#7AE0D0\"                        \"#DCBBDC\" \n",
      "        CAQQRLGGFEVA_GRLCSGNTIYF               CASS*PLTG_QNDSPLHF \n",
      "                       \"#E1AE8C\"                        \"#D86692\" \n",
      "                     CAWSPNTEAFF                 CASSGDRQVYPNEQFF \n",
      "                       \"#D0E6A3\"                        \"#7F5AD8\" \n",
      "                CARVPRAV_NTGELFF                  CASSGIELAKNIQYF \n",
      "                       \"#7E8FDC\"                        \"#EB7C48\" \n",
      "                  CASSHDWDTNTQYF                 CASSQGAGFVNTEAFF \n",
      "                       \"#8BEB52\"                        \"#7DC3E0\" \n",
      "CVSSFWKEGPTPAPLG_CHTHDALCSNQPQHF                      CAWSPATEAFF \n",
      "                       \"#8E9D5C\"                        \"#D67FD8\" \n",
      "                  CASSPGDLNTEAFF                 CASSGLPI_PDYEQYF \n",
      "                       \"#D4DDD0\"                        \"#DFDB54\" \n",
      "                 CASSDLGGARETQYF \n",
      "                       \"#CA3ADF\" \n"
     ]
    },
    {
     "name": "stderr",
     "output_type": "stream",
     "text": [
      "list of files to track clones: \n"
     ]
    },
    {
     "name": "stdout",
     "output_type": "stream",
     "text": [
      "[1] \"Nextseq/batch3/ds_batch3/CLONES_TRBCHP_380-02-PBMC-DNA_2000000.txt\"\n",
      "[2] \"Nextseq/batch8/ds_batch8/CLONES_TRBCHP_380-03-PBMC-DNA_2000000.txt\"\n",
      "[3] \"Nextseq/batch8/ds_batch8/CLONES_TRBCHP_380-05-PBMC-DNA_2000000.txt\"\n"
     ]
    },
    {
     "name": "stderr",
     "output_type": "stream",
     "text": [
      "Total number of recurring clonotypes: \n"
     ]
    },
    {
     "name": "stdout",
     "output_type": "stream",
     "text": [
      "[1] 16\n"
     ]
    },
    {
     "name": "stderr",
     "output_type": "stream",
     "text": [
      "these are what we color: \n"
     ]
    },
    {
     "name": "stdout",
     "output_type": "stream",
     "text": [
      "                           CAASRGC_AKNIQYF \n",
      "                                 \"#73E3A1\" \n",
      "                     YAFNVIFTLT_CHCVNTEAFF \n",
      "                                 \"#E0AE8D\" \n",
      "                          CARVPRAV_NTGELFF \n",
      "                                 \"#D9E658\" \n",
      "                              CASRSGSTEAFF \n",
      "                                 \"#B63FE3\" \n",
      "                         CASSFKRGFSGANVLTF \n",
      "                                 \"#D4D6D5\" \n",
      "                         CASSEPPGANSYNEQFF \n",
      "                                 \"#CCE1A4\" \n",
      "                  CAQQRLGGFEVA_GRLCSGNTIYF \n",
      "                                 \"#71A5D8\" \n",
      "                           CASSPRSGDQETQYF \n",
      "                                 \"#82E952\" \n",
      "                               CASGFGGELFF \n",
      "                                 \"#7C73DB\" \n",
      "GPGTRLLVLGERGLLGRGRGR_WVWFLRGVPGLCSGANVLTF \n",
      "                                 \"#D66FCA\" \n",
      "          CVSSFWKEGPTPAPLG_CHTHDALCSNQPQHF \n",
      "                                 \"#D2B04E\" \n",
      "                         CASSDDLTGGYTDTQYF \n",
      "                                 \"#EC6343\" \n",
      "                           CASSHQGNTYNEQFF \n",
      "                                 \"#DB7792\" \n",
      "                               CAKDG_REGHF \n",
      "                                 \"#7FDDD8\" \n",
      "                          CSARDLIR_QSYEQYF \n",
      "                                 \"#718471\" \n",
      "                             CASSFSLPYEQYF \n",
      "                                 \"#D0AEDC\" \n"
     ]
    }
   ],
   "source": [
    "for(pt in as.character(patient_ids)){\n",
    "   clontrack.fx(datapath, plotpath, \n",
    "                \"TRB\", \n",
    "                ds_flelst_chp[grepl(pt,ds_flelst_chp)], \n",
    "                \"cloneCount\", 0) \n",
    "}"
   ]
  },
  {
   "cell_type": "code",
   "execution_count": null,
   "metadata": {},
   "outputs": [],
   "source": []
  },
  {
   "cell_type": "code",
   "execution_count": null,
   "metadata": {},
   "outputs": [],
   "source": []
  },
  {
   "cell_type": "code",
   "execution_count": 25,
   "metadata": {},
   "outputs": [
    {
     "name": "stderr",
     "output_type": "stream",
     "text": [
      "list of files to track clones: \n"
     ]
    },
    {
     "name": "stdout",
     "output_type": "stream",
     "text": [
      "[1] \"batch1/ds_batch1/CLONES_TRBCHP_358-01-PBMC-DNA_2000000.txt\"\n",
      "[2] \"batch3/ds_batch3/CLONES_TRBCHP_358-03-PBMC-DNA_2000000.txt\"\n",
      "[3] \"batch3/ds_batch3/CLONES_TRBCHP_358-05-PBMC-DNA_2000000.txt\"\n"
     ]
    },
    {
     "name": "stderr",
     "output_type": "stream",
     "text": [
      "my sample names:\n"
     ]
    },
    {
     "name": "stdout",
     "output_type": "stream",
     "text": [
      "[1] \"CHP_358-01\" \"CHP_358-03\" \"CHP_358-05\"\n"
     ]
    },
    {
     "name": "stderr",
     "output_type": "stream",
     "text": [
      "Total number of recurring clonotypes: \n"
     ]
    },
    {
     "name": "stdout",
     "output_type": "stream",
     "text": [
      "[1] 8\n"
     ]
    },
    {
     "name": "stderr",
     "output_type": "stream",
     "text": [
      "these are what we color: \n"
     ]
    },
    {
     "name": "stdout",
     "output_type": "stream",
     "text": [
      "                                 CAASRGC_AKNIQYF \n",
      "                                       \"#86E181\" \n",
      "                                CARVPRAV_NTGELFF \n",
      "                                       \"#DA79AF\" \n",
      "                        CAQQRLGGFEVA_GRLCSGNTIYF \n",
      "                                       \"#DA845B\" \n",
      "      GPGTRLLVLGERGLLGRGRGR_WVWFLRGVPGLCSGANVLTF \n",
      "                                       \"#B95ADC\" \n",
      "                           YAFNVIFTLT_CHCVNTEAFF \n",
      "                                       \"#DBDC62\" \n",
      "CPANSRQEKIGSGKRGRVCPLSVL_GGGEGEGILGSPFPLCSYNEQFF \n",
      "                                       \"#A1A9D7\" \n",
      "                                  CASSHSSYNSPLHF \n",
      "                                       \"#84DCD2\" \n",
      " CVIPIKHRRRFLSSLSSILARAL_PSLCLQCDFHLDPCHCVNTEAFF \n",
      "                                       \"#D4D0BA\" \n"
     ]
    },
    {
     "data": {
      "text/html": [
       "<strong>pdf:</strong> 2"
      ],
      "text/latex": [
       "\\textbf{pdf:} 2"
      ],
      "text/markdown": [
       "**pdf:** 2"
      ],
      "text/plain": [
       "pdf \n",
       "  2 "
      ]
     },
     "metadata": {},
     "output_type": "display_data"
    }
   ],
   "source": [
    "clontrack.fx(datapath, plotpath, \n",
    "             \"TRB\", ds_flelst_chp[grepl(\"358\",ds_flelst_chp)], \n",
    "             \"cloneCount\", 0)"
   ]
  },
  {
   "cell_type": "code",
   "execution_count": 13,
   "metadata": {},
   "outputs": [
    {
     "name": "stderr",
     "output_type": "stream",
     "text": [
      "list of files to track clones: \n"
     ]
    },
    {
     "name": "stdout",
     "output_type": "stream",
     "text": [
      "[1] \"Nextseq/batch1/ds_batch1/CLONES_TRBCHP_358-01-PBMC-DNA_2000000.txt\"\n",
      "[2] \"Nextseq/batch3/ds_batch3/CLONES_TRBCHP_358-03-PBMC-DNA_2000000.txt\"\n",
      "[3] \"Nextseq/batch3/ds_batch3/CLONES_TRBCHP_358-05-PBMC-DNA_2000000.txt\"\n"
     ]
    },
    {
     "name": "stderr",
     "output_type": "stream",
     "text": [
      "Total number of recurring clonotypes: \n"
     ]
    },
    {
     "name": "stdout",
     "output_type": "stream",
     "text": [
      "[1] 8\n"
     ]
    },
    {
     "name": "stderr",
     "output_type": "stream",
     "text": [
      "these are what we color: \n"
     ]
    },
    {
     "name": "stdout",
     "output_type": "stream",
     "text": [
      "                                 CAASRGC_AKNIQYF \n",
      "                                       \"#85E96C\" \n",
      "                                CARVPRAV_NTGELFF \n",
      "                                       \"#DAD358\" \n",
      "                        CAQQRLGGFEVA_GRLCSGNTIYF \n",
      "                                       \"#DB7E7A\" \n",
      "      GPGTRLLVLGERGLLGRGRGR_WVWFLRGVPGLCSGANVLTF \n",
      "                                       \"#B184D4\" \n",
      "                           YAFNVIFTLT_CHCVNTEAFF \n",
      "                                       \"#CCD4A6\" \n",
      "CPANSRQEKIGSGKRGRVCPLSVL_GGGEGEGILGSPFPLCSYNEQFF \n",
      "                                       \"#B7BAD7\" \n",
      "                                  CASSHSSYNSPLHF \n",
      "                                       \"#BC4ED8\" \n",
      " CVIPIKHRRRFLSSLSSILARAL_PSLCLQCDFHLDPCHCVNTEAFF \n",
      "                                       \"#7CD9CC\" \n"
     ]
    },
    {
     "data": {
      "text/html": [
       "<strong>pdf:</strong> 2"
      ],
      "text/latex": [
       "\\textbf{pdf:} 2"
      ],
      "text/markdown": [
       "**pdf:** 2"
      ],
      "text/plain": [
       "pdf \n",
       "  2 "
      ]
     },
     "metadata": {},
     "output_type": "display_data"
    }
   ],
   "source": [
    "clontrack.fx(datapath, plotpath, \n",
    "             \"TRB\", ds_flelst_chp[grepl(\"358\",ds_flelst_chp)], \n",
    "             \"cloneCount\", 0)"
   ]
  },
  {
   "cell_type": "code",
   "execution_count": null,
   "metadata": {},
   "outputs": [],
   "source": []
  },
  {
   "cell_type": "code",
   "execution_count": null,
   "metadata": {},
   "outputs": [],
   "source": []
  },
  {
   "cell_type": "code",
   "execution_count": 30,
   "metadata": {},
   "outputs": [],
   "source": [
    "flelst <- list.files(\"/Users/anabbi/OneDrive - UHN/Documents/Bioinformatics/Data/INSPIRE/\", \n",
    "                     recursive = TRUE,\n",
    "                       pattern = paste(\"CLONES\", \"TRB\", sep = \"_\"))"
   ]
  },
  {
   "cell_type": "code",
   "execution_count": 31,
   "metadata": {},
   "outputs": [],
   "source": [
    "# subset to include only downsampled files\n",
    "  ds_flelst <- flelst[grep(\"C-018\", flelst)]\n"
   ]
  },
  {
   "cell_type": "code",
   "execution_count": 32,
   "metadata": {},
   "outputs": [
    {
     "data": {
      "text/html": [
       "<ol class=list-inline>\n",
       "\t<li>'CLONES_TRBINSPIRE_INS-C-018-C3B_TCR-VJ_cDNA_48_CCTCTATC.txt'</li>\n",
       "\t<li>'CLONES_TRBINSPIRE_INS-C-018-C6B_TCR-VJ_cDNA_60_CGAACTTA.txt'</li>\n",
       "\t<li>'CLONES_TRBINSPIRE_INS-C-018-C9B_TCR-VJ_cDNA_30_GTCGTAGA.txt'</li>\n",
       "\t<li>'CLONES_TRBINSPIRE_INS-C-018-SB_TCR-VJ_cDNA_19_ACCTCCAA.txt'</li>\n",
       "</ol>\n"
      ],
      "text/latex": [
       "\\begin{enumerate*}\n",
       "\\item 'CLONES\\_TRBINSPIRE\\_INS-C-018-C3B\\_TCR-VJ\\_cDNA\\_48\\_CCTCTATC.txt'\n",
       "\\item 'CLONES\\_TRBINSPIRE\\_INS-C-018-C6B\\_TCR-VJ\\_cDNA\\_60\\_CGAACTTA.txt'\n",
       "\\item 'CLONES\\_TRBINSPIRE\\_INS-C-018-C9B\\_TCR-VJ\\_cDNA\\_30\\_GTCGTAGA.txt'\n",
       "\\item 'CLONES\\_TRBINSPIRE\\_INS-C-018-SB\\_TCR-VJ\\_cDNA\\_19\\_ACCTCCAA.txt'\n",
       "\\end{enumerate*}\n"
      ],
      "text/markdown": [
       "1. 'CLONES_TRBINSPIRE_INS-C-018-C3B_TCR-VJ_cDNA_48_CCTCTATC.txt'\n",
       "2. 'CLONES_TRBINSPIRE_INS-C-018-C6B_TCR-VJ_cDNA_60_CGAACTTA.txt'\n",
       "3. 'CLONES_TRBINSPIRE_INS-C-018-C9B_TCR-VJ_cDNA_30_GTCGTAGA.txt'\n",
       "4. 'CLONES_TRBINSPIRE_INS-C-018-SB_TCR-VJ_cDNA_19_ACCTCCAA.txt'\n",
       "\n",
       "\n"
      ],
      "text/plain": [
       "[1] \"CLONES_TRBINSPIRE_INS-C-018-C3B_TCR-VJ_cDNA_48_CCTCTATC.txt\"\n",
       "[2] \"CLONES_TRBINSPIRE_INS-C-018-C6B_TCR-VJ_cDNA_60_CGAACTTA.txt\"\n",
       "[3] \"CLONES_TRBINSPIRE_INS-C-018-C9B_TCR-VJ_cDNA_30_GTCGTAGA.txt\"\n",
       "[4] \"CLONES_TRBINSPIRE_INS-C-018-SB_TCR-VJ_cDNA_19_ACCTCCAA.txt\" "
      ]
     },
     "metadata": {},
     "output_type": "display_data"
    }
   ],
   "source": [
    "ds_flelst"
   ]
  },
  {
   "cell_type": "code",
   "execution_count": 34,
   "metadata": {},
   "outputs": [
    {
     "name": "stderr",
     "output_type": "stream",
     "text": [
      "my files:\n"
     ]
    },
    {
     "name": "stdout",
     "output_type": "stream",
     "text": [
      "[1] \"CLONES_TRBINSPIRE_INS-C-018-C3B_TCR-VJ_cDNA_48_CCTCTATC.txt\"\n",
      "[2] \"CLONES_TRBINSPIRE_INS-C-018-C6B_TCR-VJ_cDNA_60_CGAACTTA.txt\"\n",
      "[3] \"CLONES_TRBINSPIRE_INS-C-018-C9B_TCR-VJ_cDNA_30_GTCGTAGA.txt\"\n",
      "[4] \"CLONES_TRBINSPIRE_INS-C-018-SB_TCR-VJ_cDNA_19_ACCTCCAA.txt\" \n"
     ]
    },
    {
     "name": "stderr",
     "output_type": "stream",
     "text": [
      "Total recovered clonotypes:\n"
     ]
    },
    {
     "name": "stdout",
     "output_type": "stream",
     "text": [
      "[1] 498767\n"
     ]
    },
    {
     "name": "stderr",
     "output_type": "stream",
     "text": [
      "Total out-of-frame clonotypes:\n"
     ]
    },
    {
     "name": "stdout",
     "output_type": "stream",
     "text": [
      "[1] 22065\n"
     ]
    },
    {
     "name": "stderr",
     "output_type": "stream",
     "text": [
      "Total clonotypes with stop codon:\n"
     ]
    },
    {
     "name": "stdout",
     "output_type": "stream",
     "text": [
      "[1] 3253\n"
     ]
    },
    {
     "name": "stderr",
     "output_type": "stream",
     "text": [
      "Total productive clonotypes:\n"
     ]
    },
    {
     "name": "stdout",
     "output_type": "stream",
     "text": [
      "[1] 473449\n"
     ]
    }
   ],
   "source": [
    "pt_df <- patient_cdr3.fx(\"/Users/anabbi/OneDrive - UHN/Documents/Bioinformatics/Data/INSPIRE/\", \n",
    "                         \"TRB\",\n",
    "                   ds_flelst)\n",
    "\n"
   ]
  },
  {
   "cell_type": "code",
   "execution_count": 36,
   "metadata": {},
   "outputs": [
    {
     "data": {
      "text/html": [
       "<table>\n",
       "<caption>A data.frame: 6 × 38</caption>\n",
       "<thead>\n",
       "\t<tr><th scope=col>cloneno</th><th scope=col>filename</th><th scope=col>cloneId</th><th scope=col>cloneCount</th><th scope=col>cloneFraction</th><th scope=col>clonalSequence</th><th scope=col>clonalSequenceQuality</th><th scope=col>allVHitsWithScore</th><th scope=col>allDHitsWithScore</th><th scope=col>allJHitsWithScore</th><th scope=col>⋯</th><th scope=col>minQualFR4</th><th scope=col>aaSeqFR1</th><th scope=col>aaSeqCDR1</th><th scope=col>aaSeqFR2</th><th scope=col>aaSeqCDR2</th><th scope=col>aaSeqFR3</th><th scope=col>aaSeqCDR3</th><th scope=col>aaSeqFR4</th><th scope=col>refPoints</th><th scope=col>samplename</th></tr>\n",
       "\t<tr><th scope=col>&lt;fct&gt;</th><th scope=col>&lt;fct&gt;</th><th scope=col>&lt;int&gt;</th><th scope=col>&lt;int&gt;</th><th scope=col>&lt;dbl&gt;</th><th scope=col>&lt;chr&gt;</th><th scope=col>&lt;chr&gt;</th><th scope=col>&lt;chr&gt;</th><th scope=col>&lt;chr&gt;</th><th scope=col>&lt;chr&gt;</th><th scope=col>⋯</th><th scope=col>&lt;lgl&gt;</th><th scope=col>&lt;lgl&gt;</th><th scope=col>&lt;lgl&gt;</th><th scope=col>&lt;lgl&gt;</th><th scope=col>&lt;lgl&gt;</th><th scope=col>&lt;lgl&gt;</th><th scope=col>&lt;chr&gt;</th><th scope=col>&lt;lgl&gt;</th><th scope=col>&lt;chr&gt;</th><th scope=col>&lt;chr&gt;</th></tr>\n",
       "</thead>\n",
       "<tbody>\n",
       "\t<tr><td>1</td><td>CLONES_TRBINSPIRE_INS-C-018-C3B_TCR-VJ_cDNA_48_CCTCTATC.txt</td><td>0</td><td>143643</td><td>0.08038666</td><td>TGTGCCAGCAGCTTAGGGAGCACCGGGGAGCTGTTTTTT         </td><td>EEEEEEEEEEEEEEEEEEEEEEEEEEEEEEEEEEEEEEE         </td><td>TRBV7-8*00(478.4)                    </td><td>NA                       </td><td>TRBJ2-2*00(218.4)</td><td>⋯</td><td>NA</td><td>NA</td><td>NA</td><td>NA</td><td>NA</td><td>NA</td><td>CASSLGSTGELFF   </td><td>NA</td><td>:::::::::0:-1:16:::::17:-1:39:::        </td><td>CLONES_TRBINSPIRE_INS-C-018-C3B_TCR-VJ_cDNA_48_CCTCTATC.txt</td></tr>\n",
       "\t<tr><td>2</td><td>CLONES_TRBINSPIRE_INS-C-018-C3B_TCR-VJ_cDNA_48_CCTCTATC.txt</td><td>1</td><td>120163</td><td>0.06724659</td><td>TGCAGCTCCTTTTCTCTAAATGAGCAGTTCTTC               </td><td>EEEEEEEEEEEEEEEEEEEEEEEEEEEEEEEEE               </td><td>TRBV29-1*00(440.4)                   </td><td>NA                       </td><td>TRBJ2-1*00(205.6)</td><td>⋯</td><td>NA</td><td>NA</td><td>NA</td><td>NA</td><td>NA</td><td>NA</td><td>CSSFSLNEQFF     </td><td>NA</td><td>:::::::::0:-8:6:::::15:-3:33:::         </td><td>CLONES_TRBINSPIRE_INS-C-018-C3B_TCR-VJ_cDNA_48_CCTCTATC.txt</td></tr>\n",
       "\t<tr><td>3</td><td>CLONES_TRBINSPIRE_INS-C-018-C3B_TCR-VJ_cDNA_48_CCTCTATC.txt</td><td>2</td><td> 94131</td><td>0.05267835</td><td>TGTGCCAGCAGTTCCCCAGCGGGAGGGCCCTCCGATGAGCAGTTCTTC</td><td>EEEEEEEEEEEEEEEEEEEEEEEEEEEEEEEEEEEEEEEEEEEEEEEE</td><td>TRBV12-4*00(464.2),TRBV12-3*00(460.1)</td><td>TRBD2*00(30)             </td><td>TRBJ2-1*00(199.3)</td><td>⋯</td><td>NA</td><td>NA</td><td>NA</td><td>NA</td><td>NA</td><td>NA</td><td>CASSSPAGGPSDEQFF</td><td>NA</td><td>:::::::::0:-4:13:17:-6:-4:23:23:5:48::: </td><td>CLONES_TRBINSPIRE_INS-C-018-C3B_TCR-VJ_cDNA_48_CCTCTATC.txt</td></tr>\n",
       "\t<tr><td>4</td><td>CLONES_TRBINSPIRE_INS-C-018-C3B_TCR-VJ_cDNA_48_CCTCTATC.txt</td><td>3</td><td> 69599</td><td>0.03894956</td><td>TGTGCCAGCAGCCTGAGTGGGGGCAGTCATCAGCCCCAGCATTTT   </td><td>EEEEEEEEEEEEEEEEEEEEEEEEEEEEEEEEEEEEEEEEEEEEE   </td><td>TRBV5-6*00(437.7)                    </td><td>TRBD1*00(30)             </td><td>TRBJ1-5*00(211.4)</td><td>⋯</td><td>NA</td><td>NA</td><td>NA</td><td>NA</td><td>NA</td><td>NA</td><td>CASSLSGGSHQPQHF </td><td>NA</td><td>:::::::::0:-1:15:18:-6:0:24:28:-5:45::: </td><td>CLONES_TRBINSPIRE_INS-C-018-C3B_TCR-VJ_cDNA_48_CCTCTATC.txt</td></tr>\n",
       "\t<tr><td>5</td><td>CLONES_TRBINSPIRE_INS-C-018-C3B_TCR-VJ_cDNA_48_CCTCTATC.txt</td><td>4</td><td> 36605</td><td>0.02048519</td><td>TGTGCCAGCAGTTTTCAGGGAGGCTTACAAGAGACCCAGTACTTC   </td><td>EEEEEEEEEEEEEEEEEEEEEEEEEEEEEEEEEEEEEEEEEEEEE   </td><td>TRBV28*00(445.1)                     </td><td>TRBD2*00(30),TRBD1*00(28)</td><td>TRBJ2-5*00(212.6)</td><td>⋯</td><td>NA</td><td>NA</td><td>NA</td><td>NA</td><td>NA</td><td>NA</td><td>CASSFQGGLQETQYF </td><td>NA</td><td>:::::::::0:-3:14:17:-9:-1:23:27:-2:45:::</td><td>CLONES_TRBINSPIRE_INS-C-018-C3B_TCR-VJ_cDNA_48_CCTCTATC.txt</td></tr>\n",
       "\t<tr><td>6</td><td>CLONES_TRBINSPIRE_INS-C-018-C3B_TCR-VJ_cDNA_48_CCTCTATC.txt</td><td>5</td><td> 32179</td><td>0.01800827</td><td>TGTGCCACCAGCGAAAGGTCCGAGCAGTACTTC               </td><td>EEEEEEEEEEEEEEEEEEEEEEEEEEEEEEEEE               </td><td>TRBV15*00(405.5)                     </td><td>NA                       </td><td>TRBJ2-7*00(196.1)</td><td>⋯</td><td>NA</td><td>NA</td><td>NA</td><td>NA</td><td>NA</td><td>NA</td><td>CATSERSEQYF     </td><td>NA</td><td>:::::::::0:-5:12:::::20:-6:33:::        </td><td>CLONES_TRBINSPIRE_INS-C-018-C3B_TCR-VJ_cDNA_48_CCTCTATC.txt</td></tr>\n",
       "</tbody>\n",
       "</table>\n"
      ],
      "text/latex": [
       "A data.frame: 6 × 38\n",
       "\\begin{tabular}{r|llllllllllllllllllllllllllllllllllllll}\n",
       " cloneno & filename & cloneId & cloneCount & cloneFraction & clonalSequence & clonalSequenceQuality & allVHitsWithScore & allDHitsWithScore & allJHitsWithScore & allCHitsWithScore & allVAlignments & allDAlignments & allJAlignments & allCAlignments & nSeqFR1 & minQualFR1 & nSeqCDR1 & minQualCDR1 & nSeqFR2 & minQualFR2 & nSeqCDR2 & minQualCDR2 & nSeqFR3 & minQualFR3 & nSeqCDR3 & minQualCDR3 & nSeqFR4 & minQualFR4 & aaSeqFR1 & aaSeqCDR1 & aaSeqFR2 & aaSeqCDR2 & aaSeqFR3 & aaSeqCDR3 & aaSeqFR4 & refPoints & samplename\\\\\n",
       " <fct> & <fct> & <int> & <int> & <dbl> & <chr> & <chr> & <chr> & <chr> & <chr> & <chr> & <chr> & <chr> & <chr> & <chr> & <lgl> & <lgl> & <lgl> & <lgl> & <lgl> & <lgl> & <lgl> & <lgl> & <lgl> & <lgl> & <chr> & <int> & <lgl> & <lgl> & <lgl> & <lgl> & <lgl> & <lgl> & <lgl> & <chr> & <lgl> & <chr> & <chr>\\\\\n",
       "\\hline\n",
       "\t 1 & CLONES\\_TRBINSPIRE\\_INS-C-018-C3B\\_TCR-VJ\\_cDNA\\_48\\_CCTCTATC.txt & 0 & 143643 & 0.08038666 & TGTGCCAGCAGCTTAGGGAGCACCGGGGAGCTGTTTTTT          & EEEEEEEEEEEEEEEEEEEEEEEEEEEEEEEEEEEEEEE          & TRBV7-8*00(478.4)                     & NA                        & TRBJ2-2*00(218.4) & TRBC2*00(274.7)               & 273\\textbar{}289\\textbar{}310\\textbar{}0\\textbar{}16\\textbar{}\\textbar{}80.0                        & NA                                            & 21\\textbar{}43\\textbar{}71\\textbar{}17\\textbar{}39\\textbar{}SA23G\\textbar{}96.0              & NA & NA & NA & NA & NA & NA & NA & NA & NA & NA & NA & TGTGCCAGCAGCTTAGGGAGCACCGGGGAGCTGTTTTTT          & 36 & NA & NA & NA & NA & NA & NA & NA & CASSLGSTGELFF    & NA & :::::::::0:-1:16:::::17:-1:39:::         & CLONES\\_TRBINSPIRE\\_INS-C-018-C3B\\_TCR-VJ\\_cDNA\\_48\\_CCTCTATC.txt\\\\\n",
       "\t 2 & CLONES\\_TRBINSPIRE\\_INS-C-018-C3B\\_TCR-VJ\\_cDNA\\_48\\_CCTCTATC.txt & 1 & 120163 & 0.06724659 & TGCAGCTCCTTTTCTCTAAATGAGCAGTTCTTC                & EEEEEEEEEEEEEEEEEEEEEEEEEEEEEEEEE                & TRBV29-1*00(440.4)                    & NA                        & TRBJ2-1*00(205.6) & TRBC2*00(290.1)               & 276\\textbar{}282\\textbar{}310\\textbar{}0\\textbar{}6\\textbar{}\\textbar{}30.0                         & NA                                            & 23\\textbar{}42\\textbar{}70\\textbar{}15\\textbar{}33\\textbar{}DC26\\textbar{}78.0               & NA & NA & NA & NA & NA & NA & NA & NA & NA & NA & NA & TGCAGCTCCTTTTCTCTAAATGAGCAGTTCTTC                & 36 & NA & NA & NA & NA & NA & NA & NA & CSSFSLNEQFF      & NA & :::::::::0:-8:6:::::15:-3:33:::          & CLONES\\_TRBINSPIRE\\_INS-C-018-C3B\\_TCR-VJ\\_cDNA\\_48\\_CCTCTATC.txt\\\\\n",
       "\t 3 & CLONES\\_TRBINSPIRE\\_INS-C-018-C3B\\_TCR-VJ\\_cDNA\\_48\\_CCTCTATC.txt & 2 &  94131 & 0.05267835 & TGTGCCAGCAGTTCCCCAGCGGGAGGGCCCTCCGATGAGCAGTTCTTC & EEEEEEEEEEEEEEEEEEEEEEEEEEEEEEEEEEEEEEEEEEEEEEEE & TRBV12-4*00(464.2),TRBV12-3*00(460.1) & TRBD2*00(30)              & TRBJ2-1*00(199.3) & TRBC2*00(254.2)               & 273\\textbar{}286\\textbar{}310\\textbar{}0\\textbar{}13\\textbar{}\\textbar{}65.0;273\\textbar{}286\\textbar{}310\\textbar{}0\\textbar{}13\\textbar{}\\textbar{}65.0 & 22\\textbar{}28\\textbar{}48\\textbar{}17\\textbar{}23\\textbar{}\\textbar{}30.0                          & 15\\textbar{}42\\textbar{}70\\textbar{}23\\textbar{}48\\textbar{}DA18DT21SA25CSA27G\\textbar{}73.0 & NA & NA & NA & NA & NA & NA & NA & NA & NA & NA & NA & TGTGCCAGCAGTTCCCCAGCGGGAGGGCCCTCCGATGAGCAGTTCTTC & 36 & NA & NA & NA & NA & NA & NA & NA & CASSSPAGGPSDEQFF & NA & :::::::::0:-4:13:17:-6:-4:23:23:5:48:::  & CLONES\\_TRBINSPIRE\\_INS-C-018-C3B\\_TCR-VJ\\_cDNA\\_48\\_CCTCTATC.txt\\\\\n",
       "\t 4 & CLONES\\_TRBINSPIRE\\_INS-C-018-C3B\\_TCR-VJ\\_cDNA\\_48\\_CCTCTATC.txt & 3 &  69599 & 0.03894956 & TGTGCCAGCAGCCTGAGTGGGGGCAGTCATCAGCCCCAGCATTTT    & EEEEEEEEEEEEEEEEEEEEEEEEEEEEEEEEEEEEEEEEEEEEE    & TRBV5-6*00(437.7)                     & TRBD1*00(30)              & TRBJ1-5*00(211.4) & TRBC1*00(266.9)               & 270\\textbar{}285\\textbar{}306\\textbar{}0\\textbar{}15\\textbar{}ST282C\\textbar{}61.0                  & 18\\textbar{}24\\textbar{}36\\textbar{}18\\textbar{}24\\textbar{}\\textbar{}30.0                          & 25\\textbar{}42\\textbar{}70\\textbar{}28\\textbar{}45\\textbar{}\\textbar{}85.0                   & NA & NA & NA & NA & NA & NA & NA & NA & NA & NA & NA & TGTGCCAGCAGCCTGAGTGGGGGCAGTCATCAGCCCCAGCATTTT    & 36 & NA & NA & NA & NA & NA & NA & NA & CASSLSGGSHQPQHF  & NA & :::::::::0:-1:15:18:-6:0:24:28:-5:45:::  & CLONES\\_TRBINSPIRE\\_INS-C-018-C3B\\_TCR-VJ\\_cDNA\\_48\\_CCTCTATC.txt\\\\\n",
       "\t 5 & CLONES\\_TRBINSPIRE\\_INS-C-018-C3B\\_TCR-VJ\\_cDNA\\_48\\_CCTCTATC.txt & 4 &  36605 & 0.02048519 & TGTGCCAGCAGTTTTCAGGGAGGCTTACAAGAGACCCAGTACTTC    & EEEEEEEEEEEEEEEEEEEEEEEEEEEEEEEEEEEEEEEEEEEEE    & TRBV28*00(445.1)                      & TRBD2*00(30),TRBD1*00(28) & TRBJ2-5*00(212.6) & TRBC2*00(293),TRBC1*00(255.3) & 270\\textbar{}284\\textbar{}307\\textbar{}0\\textbar{}14\\textbar{}\\textbar{}70.0                        & 25\\textbar{}31\\textbar{}48\\textbar{}17\\textbar{}23\\textbar{}\\textbar{}30.0;16\\textbar{}24\\textbar{}36\\textbar{}15\\textbar{}24\\textbar{}I21A\\textbar{}28.0 & 22\\textbar{}40\\textbar{}68\\textbar{}27\\textbar{}45\\textbar{}\\textbar{}90.0                   & ;  & NA & NA & NA & NA & NA & NA & NA & NA & NA & NA & TGTGCCAGCAGTTTTCAGGGAGGCTTACAAGAGACCCAGTACTTC    & 36 & NA & NA & NA & NA & NA & NA & NA & CASSFQGGLQETQYF  & NA & :::::::::0:-3:14:17:-9:-1:23:27:-2:45::: & CLONES\\_TRBINSPIRE\\_INS-C-018-C3B\\_TCR-VJ\\_cDNA\\_48\\_CCTCTATC.txt\\\\\n",
       "\t 6 & CLONES\\_TRBINSPIRE\\_INS-C-018-C3B\\_TCR-VJ\\_cDNA\\_48\\_CCTCTATC.txt & 5 &  32179 & 0.01800827 & TGTGCCACCAGCGAAAGGTCCGAGCAGTACTTC                & EEEEEEEEEEEEEEEEEEEEEEEEEEEEEEEEE                & TRBV15*00(405.5)                      & NA                        & TRBJ2-7*00(196.1) & TRBC2*00(335.1)               & 270\\textbar{}282\\textbar{}307\\textbar{}0\\textbar{}12\\textbar{}\\textbar{}60.0                        & NA                                            & 26\\textbar{}39\\textbar{}67\\textbar{}20\\textbar{}33\\textbar{}\\textbar{}65.0                   & NA & NA & NA & NA & NA & NA & NA & NA & NA & NA & NA & TGTGCCACCAGCGAAAGGTCCGAGCAGTACTTC                & 36 & NA & NA & NA & NA & NA & NA & NA & CATSERSEQYF      & NA & :::::::::0:-5:12:::::20:-6:33:::         & CLONES\\_TRBINSPIRE\\_INS-C-018-C3B\\_TCR-VJ\\_cDNA\\_48\\_CCTCTATC.txt\\\\\n",
       "\\end{tabular}\n"
      ],
      "text/markdown": [
       "\n",
       "A data.frame: 6 × 38\n",
       "\n",
       "| cloneno &lt;fct&gt; | filename &lt;fct&gt; | cloneId &lt;int&gt; | cloneCount &lt;int&gt; | cloneFraction &lt;dbl&gt; | clonalSequence &lt;chr&gt; | clonalSequenceQuality &lt;chr&gt; | allVHitsWithScore &lt;chr&gt; | allDHitsWithScore &lt;chr&gt; | allJHitsWithScore &lt;chr&gt; | ⋯ ⋯ | minQualFR4 &lt;lgl&gt; | aaSeqFR1 &lt;lgl&gt; | aaSeqCDR1 &lt;lgl&gt; | aaSeqFR2 &lt;lgl&gt; | aaSeqCDR2 &lt;lgl&gt; | aaSeqFR3 &lt;lgl&gt; | aaSeqCDR3 &lt;chr&gt; | aaSeqFR4 &lt;lgl&gt; | refPoints &lt;chr&gt; | samplename &lt;chr&gt; |\n",
       "|---|---|---|---|---|---|---|---|---|---|---|---|---|---|---|---|---|---|---|---|---|\n",
       "| 1 | CLONES_TRBINSPIRE_INS-C-018-C3B_TCR-VJ_cDNA_48_CCTCTATC.txt | 0 | 143643 | 0.08038666 | TGTGCCAGCAGCTTAGGGAGCACCGGGGAGCTGTTTTTT          | EEEEEEEEEEEEEEEEEEEEEEEEEEEEEEEEEEEEEEE          | TRBV7-8*00(478.4)                     | NA                        | TRBJ2-2*00(218.4) | ⋯ | NA | NA | NA | NA | NA | NA | CASSLGSTGELFF    | NA | :::::::::0:-1:16:::::17:-1:39:::         | CLONES_TRBINSPIRE_INS-C-018-C3B_TCR-VJ_cDNA_48_CCTCTATC.txt |\n",
       "| 2 | CLONES_TRBINSPIRE_INS-C-018-C3B_TCR-VJ_cDNA_48_CCTCTATC.txt | 1 | 120163 | 0.06724659 | TGCAGCTCCTTTTCTCTAAATGAGCAGTTCTTC                | EEEEEEEEEEEEEEEEEEEEEEEEEEEEEEEEE                | TRBV29-1*00(440.4)                    | NA                        | TRBJ2-1*00(205.6) | ⋯ | NA | NA | NA | NA | NA | NA | CSSFSLNEQFF      | NA | :::::::::0:-8:6:::::15:-3:33:::          | CLONES_TRBINSPIRE_INS-C-018-C3B_TCR-VJ_cDNA_48_CCTCTATC.txt |\n",
       "| 3 | CLONES_TRBINSPIRE_INS-C-018-C3B_TCR-VJ_cDNA_48_CCTCTATC.txt | 2 |  94131 | 0.05267835 | TGTGCCAGCAGTTCCCCAGCGGGAGGGCCCTCCGATGAGCAGTTCTTC | EEEEEEEEEEEEEEEEEEEEEEEEEEEEEEEEEEEEEEEEEEEEEEEE | TRBV12-4*00(464.2),TRBV12-3*00(460.1) | TRBD2*00(30)              | TRBJ2-1*00(199.3) | ⋯ | NA | NA | NA | NA | NA | NA | CASSSPAGGPSDEQFF | NA | :::::::::0:-4:13:17:-6:-4:23:23:5:48:::  | CLONES_TRBINSPIRE_INS-C-018-C3B_TCR-VJ_cDNA_48_CCTCTATC.txt |\n",
       "| 4 | CLONES_TRBINSPIRE_INS-C-018-C3B_TCR-VJ_cDNA_48_CCTCTATC.txt | 3 |  69599 | 0.03894956 | TGTGCCAGCAGCCTGAGTGGGGGCAGTCATCAGCCCCAGCATTTT    | EEEEEEEEEEEEEEEEEEEEEEEEEEEEEEEEEEEEEEEEEEEEE    | TRBV5-6*00(437.7)                     | TRBD1*00(30)              | TRBJ1-5*00(211.4) | ⋯ | NA | NA | NA | NA | NA | NA | CASSLSGGSHQPQHF  | NA | :::::::::0:-1:15:18:-6:0:24:28:-5:45:::  | CLONES_TRBINSPIRE_INS-C-018-C3B_TCR-VJ_cDNA_48_CCTCTATC.txt |\n",
       "| 5 | CLONES_TRBINSPIRE_INS-C-018-C3B_TCR-VJ_cDNA_48_CCTCTATC.txt | 4 |  36605 | 0.02048519 | TGTGCCAGCAGTTTTCAGGGAGGCTTACAAGAGACCCAGTACTTC    | EEEEEEEEEEEEEEEEEEEEEEEEEEEEEEEEEEEEEEEEEEEEE    | TRBV28*00(445.1)                      | TRBD2*00(30),TRBD1*00(28) | TRBJ2-5*00(212.6) | ⋯ | NA | NA | NA | NA | NA | NA | CASSFQGGLQETQYF  | NA | :::::::::0:-3:14:17:-9:-1:23:27:-2:45::: | CLONES_TRBINSPIRE_INS-C-018-C3B_TCR-VJ_cDNA_48_CCTCTATC.txt |\n",
       "| 6 | CLONES_TRBINSPIRE_INS-C-018-C3B_TCR-VJ_cDNA_48_CCTCTATC.txt | 5 |  32179 | 0.01800827 | TGTGCCACCAGCGAAAGGTCCGAGCAGTACTTC                | EEEEEEEEEEEEEEEEEEEEEEEEEEEEEEEEE                | TRBV15*00(405.5)                      | NA                        | TRBJ2-7*00(196.1) | ⋯ | NA | NA | NA | NA | NA | NA | CATSERSEQYF      | NA | :::::::::0:-5:12:::::20:-6:33:::         | CLONES_TRBINSPIRE_INS-C-018-C3B_TCR-VJ_cDNA_48_CCTCTATC.txt |\n",
       "\n"
      ],
      "text/plain": [
       "  cloneno filename                                                    cloneId\n",
       "1 1       CLONES_TRBINSPIRE_INS-C-018-C3B_TCR-VJ_cDNA_48_CCTCTATC.txt 0      \n",
       "2 2       CLONES_TRBINSPIRE_INS-C-018-C3B_TCR-VJ_cDNA_48_CCTCTATC.txt 1      \n",
       "3 3       CLONES_TRBINSPIRE_INS-C-018-C3B_TCR-VJ_cDNA_48_CCTCTATC.txt 2      \n",
       "4 4       CLONES_TRBINSPIRE_INS-C-018-C3B_TCR-VJ_cDNA_48_CCTCTATC.txt 3      \n",
       "5 5       CLONES_TRBINSPIRE_INS-C-018-C3B_TCR-VJ_cDNA_48_CCTCTATC.txt 4      \n",
       "6 6       CLONES_TRBINSPIRE_INS-C-018-C3B_TCR-VJ_cDNA_48_CCTCTATC.txt 5      \n",
       "  cloneCount cloneFraction clonalSequence                                  \n",
       "1 143643     0.08038666    TGTGCCAGCAGCTTAGGGAGCACCGGGGAGCTGTTTTTT         \n",
       "2 120163     0.06724659    TGCAGCTCCTTTTCTCTAAATGAGCAGTTCTTC               \n",
       "3  94131     0.05267835    TGTGCCAGCAGTTCCCCAGCGGGAGGGCCCTCCGATGAGCAGTTCTTC\n",
       "4  69599     0.03894956    TGTGCCAGCAGCCTGAGTGGGGGCAGTCATCAGCCCCAGCATTTT   \n",
       "5  36605     0.02048519    TGTGCCAGCAGTTTTCAGGGAGGCTTACAAGAGACCCAGTACTTC   \n",
       "6  32179     0.01800827    TGTGCCACCAGCGAAAGGTCCGAGCAGTACTTC               \n",
       "  clonalSequenceQuality                           \n",
       "1 EEEEEEEEEEEEEEEEEEEEEEEEEEEEEEEEEEEEEEE         \n",
       "2 EEEEEEEEEEEEEEEEEEEEEEEEEEEEEEEEE               \n",
       "3 EEEEEEEEEEEEEEEEEEEEEEEEEEEEEEEEEEEEEEEEEEEEEEEE\n",
       "4 EEEEEEEEEEEEEEEEEEEEEEEEEEEEEEEEEEEEEEEEEEEEE   \n",
       "5 EEEEEEEEEEEEEEEEEEEEEEEEEEEEEEEEEEEEEEEEEEEEE   \n",
       "6 EEEEEEEEEEEEEEEEEEEEEEEEEEEEEEEEE               \n",
       "  allVHitsWithScore                     allDHitsWithScore        \n",
       "1 TRBV7-8*00(478.4)                     NA                       \n",
       "2 TRBV29-1*00(440.4)                    NA                       \n",
       "3 TRBV12-4*00(464.2),TRBV12-3*00(460.1) TRBD2*00(30)             \n",
       "4 TRBV5-6*00(437.7)                     TRBD1*00(30)             \n",
       "5 TRBV28*00(445.1)                      TRBD2*00(30),TRBD1*00(28)\n",
       "6 TRBV15*00(405.5)                      NA                       \n",
       "  allJHitsWithScore ⋯ minQualFR4 aaSeqFR1 aaSeqCDR1 aaSeqFR2 aaSeqCDR2 aaSeqFR3\n",
       "1 TRBJ2-2*00(218.4) ⋯ NA         NA       NA        NA       NA        NA      \n",
       "2 TRBJ2-1*00(205.6) ⋯ NA         NA       NA        NA       NA        NA      \n",
       "3 TRBJ2-1*00(199.3) ⋯ NA         NA       NA        NA       NA        NA      \n",
       "4 TRBJ1-5*00(211.4) ⋯ NA         NA       NA        NA       NA        NA      \n",
       "5 TRBJ2-5*00(212.6) ⋯ NA         NA       NA        NA       NA        NA      \n",
       "6 TRBJ2-7*00(196.1) ⋯ NA         NA       NA        NA       NA        NA      \n",
       "  aaSeqCDR3        aaSeqFR4 refPoints                               \n",
       "1 CASSLGSTGELFF    NA       :::::::::0:-1:16:::::17:-1:39:::        \n",
       "2 CSSFSLNEQFF      NA       :::::::::0:-8:6:::::15:-3:33:::         \n",
       "3 CASSSPAGGPSDEQFF NA       :::::::::0:-4:13:17:-6:-4:23:23:5:48::: \n",
       "4 CASSLSGGSHQPQHF  NA       :::::::::0:-1:15:18:-6:0:24:28:-5:45::: \n",
       "5 CASSFQGGLQETQYF  NA       :::::::::0:-3:14:17:-9:-1:23:27:-2:45:::\n",
       "6 CATSERSEQYF      NA       :::::::::0:-5:12:::::20:-6:33:::        \n",
       "  samplename                                                 \n",
       "1 CLONES_TRBINSPIRE_INS-C-018-C3B_TCR-VJ_cDNA_48_CCTCTATC.txt\n",
       "2 CLONES_TRBINSPIRE_INS-C-018-C3B_TCR-VJ_cDNA_48_CCTCTATC.txt\n",
       "3 CLONES_TRBINSPIRE_INS-C-018-C3B_TCR-VJ_cDNA_48_CCTCTATC.txt\n",
       "4 CLONES_TRBINSPIRE_INS-C-018-C3B_TCR-VJ_cDNA_48_CCTCTATC.txt\n",
       "5 CLONES_TRBINSPIRE_INS-C-018-C3B_TCR-VJ_cDNA_48_CCTCTATC.txt\n",
       "6 CLONES_TRBINSPIRE_INS-C-018-C3B_TCR-VJ_cDNA_48_CCTCTATC.txt"
      ]
     },
     "metadata": {},
     "output_type": "display_data"
    }
   ],
   "source": [
    "head(pt_df)"
   ]
  },
  {
   "cell_type": "code",
   "execution_count": 37,
   "metadata": {},
   "outputs": [],
   "source": [
    "#samplename cleanup\n",
    "    pt_df$samplename <- gsub(\"CLONES_TRBINSPIRE_\", \"\", pt_df$samplename)\n",
    "    pt_df$samplename <- gsub(\"_cDNA.*\", \"\", pt_df$samplename)\n",
    "    "
   ]
  },
  {
   "cell_type": "code",
   "execution_count": 41,
   "metadata": {},
   "outputs": [
    {
     "name": "stderr",
     "output_type": "stream",
     "text": [
      "list of samples to track clones: \n"
     ]
    },
    {
     "name": "stdout",
     "output_type": "stream",
     "text": [
      "[1] \"INS-C-018-C3B_TCR-VJ\" \"INS-C-018-C6B_TCR-VJ\" \"INS-C-018-C9B_TCR-VJ\"\n",
      "[4] \"INS-C-018-SB_TCR-VJ\" \n"
     ]
    },
    {
     "name": "stderr",
     "output_type": "stream",
     "text": [
      "Total number of recurring clonotypes: \n"
     ]
    },
    {
     "name": "stdout",
     "output_type": "stream",
     "text": [
      "[1] 29\n"
     ]
    },
    {
     "name": "stderr",
     "output_type": "stream",
     "text": [
      "these are what we color: \n"
     ]
    },
    {
     "name": "stdout",
     "output_type": "stream",
     "text": [
      "       CSSFSLNEQFF      CASSLGSTGELFF   CASSSPAGGPSDEQFF    CASSLSGGSHQPQHF \n",
      "         \"#B2C7E5\"          \"#B5E987\"          \"#DB9ADD\"          \"#E245CC\" \n",
      "   CASSFQGGLQETQYF        CATSERSEQYF    CASSQSGLEYTEQFF    CASSLEQAGRGKLFF \n",
      "         \"#52E56D\"          \"#DA5E51\"          \"#6FA860\"          \"#8099E7\" \n",
      "     CASSQGQRYEQYF    CASRLALEGIQPQHF      CASSLGTSNEQFF   CASSWGLSSYNSPLHF \n",
      "         \"#687E75\"          \"#61B6DA\"          \"#E3A92C\"          \"#AFB297\" \n",
      "   CASRSRREHGETQYF    CASSLAVRGNTEAFF     CASGMARGNTEAFF   CASSDSGGRGDNEQFF \n",
      "         \"#DFE3DE\"          \"#D7CF6C\"          \"#6D689F\"          \"#A6E5BC\" \n",
      "    CASSLAGVLSEQFF    CASSDRQGPNYGYTF       CASSTQGSEAFF   CASSYKGSPGANVLTF \n",
      "         \"#7BDFDD\"          \"#E3BEDF\"          \"#C479E4\"          \"#B654A0\" \n",
      "     CAWNLIAAGEQYF       CASINPGGGYTF    CASSIDGGEADTQYF     CASSLSRGKEKLFF \n",
      "         \"#5FE5B3\"          \"#5C5CDB\"          \"#AF3CE6\"          \"#A0E949\" \n",
      "CASSSKFGLAGLTGELFF    CASSVSRTGENEAFF   CASSQDGDRGRFEQYF   CASSSTLGDPTYEQYF \n",
      "         \"#DE9FA2\"          \"#E35B9D\"          \"#E5DFAC\"          \"#E2E64F\" \n",
      "    CASSLDDGRETQYF \n",
      "         \"#D79D6A\" \n"
     ]
    },
    {
     "data": {
      "text/html": [
       "<strong>pdf:</strong> 2"
      ],
      "text/latex": [
       "\\textbf{pdf:} 2"
      ],
      "text/markdown": [
       "**pdf:** 2"
      ],
      "text/plain": [
       "pdf \n",
       "  2 "
      ]
     },
     "metadata": {},
     "output_type": "display_data"
    }
   ],
   "source": [
    "    clontrack_inframes.fx(pt_df, plotpath, \"TRB\",\n",
    "                          \"cloneCount\", 0.001) "
   ]
  },
  {
   "cell_type": "code",
   "execution_count": null,
   "metadata": {},
   "outputs": [],
   "source": []
  },
  {
   "cell_type": "code",
   "execution_count": null,
   "metadata": {},
   "outputs": [],
   "source": []
  },
  {
   "cell_type": "code",
   "execution_count": 42,
   "metadata": {},
   "outputs": [
    {
     "name": "stderr",
     "output_type": "stream",
     "text": [
      "list of files to track clones: \n"
     ]
    },
    {
     "name": "stdout",
     "output_type": "stream",
     "text": [
      "[1] \"CLONES_TRBINSPIRE_INS-C-018-C3B_TCR-VJ_cDNA_48_CCTCTATC.txt\"\n",
      "[2] \"CLONES_TRBINSPIRE_INS-C-018-C6B_TCR-VJ_cDNA_60_CGAACTTA.txt\"\n",
      "[3] \"CLONES_TRBINSPIRE_INS-C-018-C9B_TCR-VJ_cDNA_30_GTCGTAGA.txt\"\n",
      "[4] \"CLONES_TRBINSPIRE_INS-C-018-SB_TCR-VJ_cDNA_19_ACCTCCAA.txt\" \n"
     ]
    },
    {
     "name": "stderr",
     "output_type": "stream",
     "text": [
      "Total recovered clonotypes\n",
      "my sample names:\n"
     ]
    },
    {
     "name": "stdout",
     "output_type": "stream",
     "text": [
      "[1] \"CLONES_TRBINSPIRE_INS-C-018-C3B_TCR-VJ_cDNA_48_CCTCTATC.txt\"\n",
      "[2] \"CLONES_TRBINSPIRE_INS-C-018-C6B_TCR-VJ_cDNA_60_CGAACTTA.txt\"\n",
      "[3] \"CLONES_TRBINSPIRE_INS-C-018-C9B_TCR-VJ_cDNA_30_GTCGTAGA.txt\"\n",
      "[4] \"CLONES_TRBINSPIRE_INS-C-018-SB_TCR-VJ_cDNA_19_ACCTCCAA.txt\" \n"
     ]
    },
    {
     "name": "stderr",
     "output_type": "stream",
     "text": [
      "Total number of recurring clonotypes: \n"
     ]
    },
    {
     "name": "stdout",
     "output_type": "stream",
     "text": [
      "[1] 32\n"
     ]
    },
    {
     "name": "stderr",
     "output_type": "stream",
     "text": [
      "these are what we color: \n"
     ]
    },
    {
     "name": "stdout",
     "output_type": "stream",
     "text": [
      "       CSSFSLNEQFF      CASSLGSTGELFF   CASSSPAGGPSDEQFF    CASSLSGGSHQPQHF \n",
      "         \"#7DC5A9\"          \"#E66845\"          \"#E3B632\"          \"#E245CA\" \n",
      "   CASSFQGGLQETQYF        CATSERSEQYF    CASSQSGLEYTEQFF    CASSLEQAGRGKLFF \n",
      "         \"#E1E84F\"          \"#D3ECE5\"          \"#B0E7AA\"          \"#51C67A\" \n",
      "     CASSQGQRYEQYF    CASRLALEGIQPQHF       CS**RSTDTQYF      CASSLGTSNEQFF \n",
      "         \"#5C5AD9\"          \"#77E8E3\"          \"#7B994A\"          \"#E7A9B4\" \n",
      "  CASSWGLSSYNSPLHF    CASRSRREHGETQYF    CASSLAVRGNTEAFF     CASGMARGNTEAFF \n",
      "         \"#54EC6F\"          \"#728876\"          \"#D8D671\"          \"#D2CBE7\" \n",
      "  CASSDSGGRGDNEQFF     CASSLAGVLSEQFF    CASSDRQGPNYGYTF       CASSTQGSEAFF \n",
      "         \"#9EE943\"          \"#DDDDA8\"          \"#D7C7B7\"          \"#708CE0\" \n",
      "  CASSYKGSPGANVLTF      CASSLG_SGDREF    CAASRGC_AKNIQYF      CAWNLIAAGEQYF \n",
      "         \"#AF3CE6\"          \"#DBA7E0\"          \"#D36BC2\"          \"#DC5A94\" \n",
      "      CASINPGGGYTF    CASSIDGGEADTQYF     CASSLSRGKEKLFF CASSSKFGLAGLTGELFF \n",
      "         \"#AFE879\"          \"#786A91\"          \"#BB6A63\"          \"#B97EE3\" \n",
      "   CASSVSRTGENEAFF   CASSQDGDRGRFEQYF   CASSSTLGDPTYEQYF     CASSLDDGRETQYF \n",
      "         \"#7DC8DC\"          \"#7DAFE1\"          \"#69EEC2\"          \"#DFAB73\" \n"
     ]
    },
    {
     "data": {
      "text/html": [
       "<strong>pdf:</strong> 2"
      ],
      "text/latex": [
       "\\textbf{pdf:} 2"
      ],
      "text/markdown": [
       "**pdf:** 2"
      ],
      "text/plain": [
       "pdf \n",
       "  2 "
      ]
     },
     "metadata": {},
     "output_type": "display_data"
    }
   ],
   "source": [
    "clontrack.fx(\"/Users/anabbi/OneDrive - UHN/Documents/Bioinformatics/Data/INSPIRE/\", \n",
    "             plotpath, \"TRB\", ds_flelst, \"cloneCount\", 0.001)"
   ]
  },
  {
   "cell_type": "code",
   "execution_count": 43,
   "metadata": {},
   "outputs": [
    {
     "data": {
      "text/html": [
       "'/Users/anabbi/OneDrive - UHN/Documents/INTERCEPT/Plots/'"
      ],
      "text/latex": [
       "'/Users/anabbi/OneDrive - UHN/Documents/INTERCEPT/Plots/'"
      ],
      "text/markdown": [
       "'/Users/anabbi/OneDrive - UHN/Documents/INTERCEPT/Plots/'"
      ],
      "text/plain": [
       "[1] \"/Users/anabbi/OneDrive - UHN/Documents/INTERCEPT/Plots/\""
      ]
     },
     "metadata": {},
     "output_type": "display_data"
    }
   ],
   "source": [
    "plotpath"
   ]
  },
  {
   "cell_type": "code",
   "execution_count": null,
   "metadata": {},
   "outputs": [],
   "source": []
  }
 ],
 "metadata": {
  "kernelspec": {
   "display_name": "R",
   "language": "R",
   "name": "ir"
  },
  "language_info": {
   "codemirror_mode": "r",
   "file_extension": ".r",
   "mimetype": "text/x-r-source",
   "name": "R",
   "pygments_lexer": "r",
   "version": "3.5.1"
  },
  "toc": {
   "base_numbering": 1,
   "nav_menu": {},
   "number_sections": false,
   "sideBar": true,
   "skip_h1_title": false,
   "title_cell": "Table of Contents",
   "title_sidebar": "Contents",
   "toc_cell": true,
   "toc_position": {
    "height": "calc(100% - 180px)",
    "left": "10px",
    "top": "150px",
    "width": "217.344px"
   },
   "toc_section_display": true,
   "toc_window_display": true
  }
 },
 "nbformat": 4,
 "nbformat_minor": 2
}
