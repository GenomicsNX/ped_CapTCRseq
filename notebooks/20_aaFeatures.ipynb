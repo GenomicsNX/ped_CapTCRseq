{
 "cells": [
  {
   "attachments": {},
   "cell_type": "markdown",
   "metadata": {},
   "source": [
    "# Dependencies"
   ]
  },
  {
   "cell_type": "code",
   "execution_count": null,
   "metadata": {
    "vscode": {
     "languageId": "r"
    }
   },
   "outputs": [],
   "source": [
    "pacman::p_load(ggplot2, dplyr)"
   ]
  },
  {
   "attachments": {},
   "cell_type": "markdown",
   "metadata": {},
   "source": [
    "# Functions"
   ]
  },
  {
   "cell_type": "code",
   "execution_count": null,
   "metadata": {
    "vscode": {
     "languageId": "r"
    }
   },
   "outputs": [],
   "source": [
    "source(\"/Users/anabbi/git/ped_CapTCRseq/R/ggplot2_theme.R\")\n",
    "source(\"/Users/anabbi/git/ped_CapTCRseq/R/color_schemes.R\")"
   ]
  },
  {
   "cell_type": "code",
   "execution_count": null,
   "metadata": {
    "vscode": {
     "languageId": "r"
    }
   },
   "outputs": [],
   "source": [
    "aaFeatures.fx <- function(mixcrfle, aalength, outdir){\n",
    "    \n",
    "    aaT <- read.csv(file = \"~/Desktop/H4H/INTERCEPT/NextSeq/aaFeatures/aa_attributes.csv\", header = T, row.names = 1)\n",
    "    \n",
    "    mysample <- gsub(\".txt\",\"\", mixcrfle)\n",
    "    mysample <- gsub(\".*CLONES_TRB\", \"\", mysample)\n",
    "    \n",
    "    f1 <- read.table(file = mixcrfle, sep = \"\\t\", header = T, stringsAsFactors = F)\n",
    "    \n",
    "    message(paste(\"Number of CDR3s in:\", mixcrfle))\n",
    "    print(nrow(f1))\n",
    "    \n",
    "    #remove nonproductive\n",
    "    f1 <- f1[ !grepl(\"[_]\", f1$aaSeqCDR3),]\n",
    "    f1 <- f1[ !grepl(\"[*]\", f1$aaSeqCDR3),]\n",
    "    \n",
    "    message(paste(\"Number of CDR3s in:\", mixcrfle, \"nonproductive removed\"))\n",
    "    print(nrow(f1))\n",
    "    \n",
    "    f1$aa_length <- nchar(f1$aaSeqCDR3)\n",
    "    \n",
    "    f1_subset <- f1[ f1$aa_length == aalength,]\n",
    "    \n",
    "    if(nrow(f1_subset) <= 1){\n",
    "        stop(paste0(\"less than one CDR3 at length:\", aalength, \"for file:\", mixcrfle))\n",
    "    }\n",
    "    \n",
    "    myaamat_list <- vector(\"list\", aalength)\n",
    "\n",
    "    myaamat <- matrix(nrow = 20, ncol = 6,\n",
    "                      dimnames = list(rownames(aaT), \n",
    "                                      c(\"Freq\",\"F1\", \"F2\", \"F3\", \"F4\", \"F5\")))\n",
    "    for( i in 1:aalength){\n",
    "    mytab <- table(sapply(strsplit(f1_subset$aaSeqCDR3, \"\"),\"[[\",i) )\n",
    "    myaamat[rownames(mytab),\"Freq\"] <- mytab\n",
    "    myaamat[rownames(mytab), 2:6] <- (unlist(aaT[rownames(mytab), 1:5]) * \n",
    "                                        myaamat[rownames(mytab),\"Freq\"])/ sum(myaamat[, \"Freq\"], na.rm = T) # multiply by number of aminoacid, scale by total cdr3s\n",
    "    myaamat_list[[i]] <- myaamat\n",
    "    myaamat[!is.na(myaamat)] <- NA\n",
    "}\n",
    "    \n",
    "    save(myaamat_list, file = paste0(outdir, mysample, \"_length\", aalength,\".RData\"))\n",
    "}"
   ]
  },
  {
   "attachments": {},
   "cell_type": "markdown",
   "metadata": {},
   "source": [
    "# Paths"
   ]
  },
  {
   "cell_type": "code",
   "execution_count": null,
   "metadata": {
    "vscode": {
     "languageId": "r"
    }
   },
   "outputs": [],
   "source": [
    "datapath <- \"/Users/anabbi/OneDrive - UHN/Documents/INTERCEPT/Data/\"\n",
    "plotpath <- \"/Users/anabbi/OneDrive - UHN/Documents/INTERCEPT/Plots/\"\n",
    "manifestpath <- \"/Users/anabbi/OneDrive - UHN/Documents/INTERCEPT/Manifests/\"\n",
    "\n",
    "gitpath <- \"/Users/anabbi/git/ped_CapTCRseq/\""
   ]
  },
  {
   "cell_type": "code",
   "execution_count": null,
   "metadata": {
    "vscode": {
     "languageId": "r"
    }
   },
   "outputs": [],
   "source": [
    "h4hpath <- \"/Users/anabbi/Desktop/H4H/INTERCEPT/NextSeq/\""
   ]
  },
  {
   "attachments": {},
   "cell_type": "markdown",
   "metadata": {},
   "source": [
    "# Main"
   ]
  },
  {
   "cell_type": "code",
   "execution_count": null,
   "metadata": {
    "vscode": {
     "languageId": "r"
    }
   },
   "outputs": [],
   "source": [
    "aaT <- read.csv(file = paste0(datapath, \"aa_attributes.csv\"), header = T, row.names = 1)"
   ]
  },
  {
   "cell_type": "code",
   "execution_count": null,
   "metadata": {
    "vscode": {
     "languageId": "r"
    }
   },
   "outputs": [],
   "source": [
    "aaT"
   ]
  },
  {
   "cell_type": "code",
   "execution_count": null,
   "metadata": {
    "vscode": {
     "languageId": "r"
    }
   },
   "outputs": [],
   "source": [
    "#Table 2 from Atchley et al\n",
    "#head(aaT)"
   ]
  },
  {
   "attachments": {},
   "cell_type": "markdown",
   "metadata": {},
   "source": [
    "### Get aaFeatures for each mixcrfile\n",
    "\n",
    "\n",
    "run locally"
   ]
  },
  {
   "cell_type": "code",
   "execution_count": null,
   "metadata": {
    "vscode": {
     "languageId": "r"
    }
   },
   "outputs": [],
   "source": [
    "load(file = paste0(datapath,\"capTCRseq/TRBfiles.RData\"))"
   ]
  },
  {
   "cell_type": "code",
   "execution_count": null,
   "metadata": {
    "vscode": {
     "languageId": "r"
    }
   },
   "outputs": [],
   "source": [
    "myfilelist <- paste0(\"~/Desktop/H4H/INTERCEPT/NextSeq/\", file_df_dedup_trb$file_list, sep = \"\")"
   ]
  },
  {
   "cell_type": "code",
   "execution_count": null,
   "metadata": {
    "vscode": {
     "languageId": "r"
    }
   },
   "outputs": [],
   "source": [
    "head(myfilelist)"
   ]
  },
  {
   "cell_type": "code",
   "execution_count": null,
   "metadata": {
    "vscode": {
     "languageId": "r"
    }
   },
   "outputs": [],
   "source": [
    "length15 <- lapply(myfilelist, function(x){ \n",
    "    tryCatch(\n",
    "    aaFeatures.fx(x, 15, \"~/Desktop/H4H/INTERCEPT/NextSeq/aaFeatures/\"), error = function(e) e\n",
    "    )\n",
    "})"
   ]
  },
  {
   "cell_type": "code",
   "execution_count": null,
   "metadata": {
    "vscode": {
     "languageId": "r"
    }
   },
   "outputs": [],
   "source": [
    "length14 <- lapply(myfilelist, function(x){ \n",
    "    tryCatch(\n",
    "    aaFeatures.fx(x, 14, \"~/Desktop/H4H/INTERCEPT/NextSeq/aaFeatures/\"), error = function(e) e\n",
    "    )\n",
    "})"
   ]
  },
  {
   "cell_type": "code",
   "execution_count": null,
   "metadata": {
    "vscode": {
     "languageId": "r"
    }
   },
   "outputs": [],
   "source": [
    "length16 <- lapply(myfilelist, function(x){ \n",
    "    tryCatch(\n",
    "    aaFeatures.fx(x, 16, \"~/Desktop/H4H/INTERCEPT/NextSeq/aaFeatures/\"), error = function(e) e\n",
    "    )\n",
    "})"
   ]
  },
  {
   "cell_type": "code",
   "execution_count": null,
   "metadata": {
    "vscode": {
     "languageId": "r"
    }
   },
   "outputs": [],
   "source": [
    "length13 <- lapply(myfilelist, function(x){ \n",
    "    tryCatch(\n",
    "    aaFeatures.fx(x, 13, \"~/Desktop/H4H/INTERCEPT/NextSeq/aaFeatures/\"), error = function(e) e\n",
    "    )\n",
    "})"
   ]
  },
  {
   "cell_type": "code",
   "execution_count": null,
   "metadata": {
    "vscode": {
     "languageId": "r"
    }
   },
   "outputs": [],
   "source": []
  },
  {
   "attachments": {},
   "cell_type": "markdown",
   "metadata": {},
   "source": [
    "### samples x features for each length"
   ]
  },
  {
   "cell_type": "code",
   "execution_count": null,
   "metadata": {
    "vscode": {
     "languageId": "r"
    }
   },
   "outputs": [],
   "source": [
    "samples_features_length <- function(inpath, aalength, myfeat){\n",
    "    mysampleset <- list.files(inpath, pattern = paste(aalength, \".RData\", sep = \"\"), full.names = T)\n",
    "    \n",
    "    myLmat <- matrix(ncol = aalength, nrow = length(mysampleset),\n",
    "                dimnames = list(mysampleset, paste0(\"L\", 1:aalength)))\n",
    "    \n",
    "    for(i in 1:nrow(myLmat)){\n",
    "        load(rownames(myLmat)[i])\n",
    "        sum_features_aaP <- lapply(myaamat_list, function(x){ colSums(x[,2:6], na.rm = T)})\n",
    "        names(myaamat_list) <- paste0(\"L\", 1:length(myaamat_list))\n",
    "        sum_features_aaP_df <- as.data.frame(sum_features_aaP)    \n",
    "        \n",
    "        myLmat[i, ] <- unlist(sum_features_aaP_df[myfeat,])\n",
    "    }\n",
    "    return(myLmat)\n",
    "}"
   ]
  },
  {
   "cell_type": "code",
   "execution_count": null,
   "metadata": {
    "vscode": {
     "languageId": "r"
    }
   },
   "outputs": [],
   "source": [
    "length15_F1 <- samples_features_length( \"/Users/anabbi/Desktop/H4H/INTERCEPT/NextSeq/aaFeatures/\", 15, \"F1\")\n",
    "\n",
    "length15_F2 <- samples_features_length( \"/Users/anabbi/Desktop/H4H/INTERCEPT/NextSeq/aaFeatures/\", 15, \"F2\")\n",
    "length15_F3 <- samples_features_length( \"/Users/anabbi/Desktop/H4H/INTERCEPT/NextSeq/aaFeatures/\", 15, \"F3\")\n",
    "length15_F4 <- samples_features_length( \"/Users/anabbi/Desktop/H4H/INTERCEPT/NextSeq/aaFeatures/\", 15, \"F4\")\n",
    "length15_F5 <- samples_features_length( \"/Users/anabbi/Desktop/H4H/INTERCEPT/NextSeq/aaFeatures/\", 15, \"F5\")"
   ]
  },
  {
   "cell_type": "code",
   "execution_count": null,
   "metadata": {
    "vscode": {
     "languageId": "r"
    }
   },
   "outputs": [],
   "source": [
    "rownames(length15_F1) <- gsub(\"/Users/anabbi/Desktop/H4H/INTERCEPT/NextSeq/aaFeatures//\", \"\", rownames(length15_F1))\n",
    "rownames(length15_F1) <- gsub(\"_length15.RData\", \"\", rownames(length15_F1))\n",
    "\n",
    "rownames(length15_F2) <- gsub(\"/Users/anabbi/Desktop/H4H/INTERCEPT/NextSeq/aaFeatures//\", \"\", rownames(length15_F2))\n",
    "rownames(length15_F2) <- gsub(\"_length15.RData\", \"\", rownames(length15_F2))\n",
    "\n",
    "rownames(length15_F3) <- gsub(\"/Users/anabbi/Desktop/H4H/INTERCEPT/NextSeq/aaFeatures//\", \"\", rownames(length15_F3))\n",
    "rownames(length15_F3) <- gsub(\"_length15.RData\", \"\", rownames(length15_F3))\n",
    "\n",
    "rownames(length15_F4) <- gsub(\"/Users/anabbi/Desktop/H4H/INTERCEPT/NextSeq/aaFeatures//\", \"\", rownames(length15_F4))\n",
    "rownames(length15_F4) <- gsub(\"_length15.RData\", \"\", rownames(length15_F4))\n",
    "\n",
    "rownames(length15_F5) <- gsub(\"/Users/anabbi/Desktop/H4H/INTERCEPT/NextSeq/aaFeatures//\", \"\", rownames(length15_F5))\n",
    "rownames(length15_F5) <- gsub(\"_length15.RData\", \"\", rownames(length15_F5))"
   ]
  },
  {
   "cell_type": "code",
   "execution_count": null,
   "metadata": {
    "vscode": {
     "languageId": "r"
    }
   },
   "outputs": [],
   "source": [
    "head(length15_F5)"
   ]
  },
  {
   "cell_type": "code",
   "execution_count": null,
   "metadata": {
    "vscode": {
     "languageId": "r"
    }
   },
   "outputs": [],
   "source": [
    "save(length15_F1, file = paste0(datapath, \"aaFeatures/int_length15_F1.RData\"))\n",
    "save(length15_F2, file = paste0(datapath, \"aaFeatures/int_length15_F2.RData\"))\n",
    "save(length15_F3, file = paste0(datapath, \"aaFeatures/int_length15_F3.RData\"))\n",
    "save(length15_F4, file = paste0(datapath, \"aaFeatures/int_length15_F4.RData\"))\n",
    "save(length15_F5, file = paste0(datapath, \"aaFeatures/int_length15_F5.RData\"))"
   ]
  },
  {
   "cell_type": "code",
   "execution_count": null,
   "metadata": {
    "vscode": {
     "languageId": "r"
    }
   },
   "outputs": [],
   "source": []
  },
  {
   "cell_type": "code",
   "execution_count": null,
   "metadata": {
    "vscode": {
     "languageId": "r"
    }
   },
   "outputs": [],
   "source": []
  },
  {
   "attachments": {},
   "cell_type": "markdown",
   "metadata": {},
   "source": [
    "### plot"
   ]
  },
  {
   "cell_type": "code",
   "execution_count": null,
   "metadata": {
    "vscode": {
     "languageId": "r"
    }
   },
   "outputs": [],
   "source": [
    "load(file = paste0(datapath,\"capTCRseq/meta_div_TRB.RData\"))"
   ]
  },
  {
   "cell_type": "code",
   "execution_count": null,
   "metadata": {
    "vscode": {
     "languageId": "r"
    }
   },
   "outputs": [],
   "source": [
    "head(meta_div)"
   ]
  },
  {
   "cell_type": "code",
   "execution_count": null,
   "metadata": {
    "vscode": {
     "languageId": "r"
    }
   },
   "outputs": [],
   "source": [
    "head(length15_F1)"
   ]
  },
  {
   "cell_type": "code",
   "execution_count": null,
   "metadata": {
    "vscode": {
     "languageId": "r"
    }
   },
   "outputs": [],
   "source": [
    "melt_df <- function(lengthdf, metadta){\n",
    "    \n",
    "    lengthdf <- as.data.frame(lengthdf)\n",
    "    lengthdf$basename <- rownames(lengthdf)\n",
    "    lengthdf_m <- reshape2::melt(lengthdf)\n",
    "    \n",
    "    lengthdf_m$Disease_type <- metadta$Disease_type[ match(lengthdf_m$basename, metadta$basename)]\n",
    "    lengthdf_m$sampletype <- metadta$sampletype[ match(lengthdf_m$basename, metadta$basename)]\n",
    "    lengthdf_m$cancergroup <- metadta$cancergroup[ match(lengthdf_m$basename, metadta$basename)]\n",
    "    lengthdf_m$cycle <- metadta$cycle[ match(lengthdf_m$basename, metadta$basename)]\n",
    "    return(lengthdf_m)\n",
    "}"
   ]
  },
  {
   "cell_type": "code",
   "execution_count": null,
   "metadata": {
    "vscode": {
     "languageId": "r"
    }
   },
   "outputs": [],
   "source": [
    "length15_F1_m <- melt_df(length15_F1, meta_div)\n",
    "length15_F2_m <- melt_df(length15_F2, meta_div)\n",
    "length15_F3_m <- melt_df(length15_F3, meta_div)\n",
    "length15_F4_m <- melt_df(length15_F4, meta_div)\n",
    "length15_F5_m <- melt_df(length15_F5, meta_div)"
   ]
  },
  {
   "cell_type": "code",
   "execution_count": null,
   "metadata": {
    "vscode": {
     "languageId": "r"
    }
   },
   "outputs": [],
   "source": [
    "plot.fx <- function(meltedlengthdf, var, colors){\n",
    "    meltedlengthdf <- meltedlengthdf[!is.na(meltedlengthdf$Disease_type),]\n",
    "    meltedlengthdf[ order(meltedlengthdf$variable, meltedlengthdf$value),]\n",
    "    \n",
    "    cols <- c(\"variable\", var)\n",
    "    df.summary <- meltedlengthdf %>%\n",
    "    group_by(across(all_of(cols))) %>% \n",
    "    summarise(\n",
    "        sd = sd(value, na.rm = TRUE),\n",
    "        meanvalue = mean(value)) %>% ungroup()\n",
    "\n",
    "  #  print(df.summary)\n",
    "p1 <- ggplot(aes(x = variable, y = meanvalue, ymin = meanvalue-sd, ymax = meanvalue+sd, color = eval(parse(text = var))), data = df.summary) +\n",
    "  geom_line(aes(group = eval(parse(text = var)))) +\n",
    "  geom_errorbar(alpha = 1, width = 0.2, position = position_dodge(0.7)) +\n",
    "  geom_point(alpha = 1, size = 2, position = position_dodge(0.7)) + myaxis + myplot + \n",
    "    theme(legend.position = \"bottom\", legend.title = element_blank()) +\n",
    "    scale_color_manual(values = colors) + guides(color=guide_legend(nrow=3,byrow=TRUE))\n",
    "    return(p1)\n",
    "}"
   ]
  },
  {
   "cell_type": "code",
   "execution_count": null,
   "metadata": {
    "vscode": {
     "languageId": "r"
    }
   },
   "outputs": [],
   "source": [
    "#cancergroup\n",
    "#cycle\n",
    "#Disease_type\n",
    "#sampletype"
   ]
  },
  {
   "cell_type": "code",
   "execution_count": null,
   "metadata": {
    "vscode": {
     "languageId": "r"
    }
   },
   "outputs": [],
   "source": [
    "pdf(paste0(plotpath, \"diseasetype_L15.pdf\"),\n",
    "          width = 20, height  = 10)\n",
    "    plot.fx(length15_F5_m, \"Disease_type\", cohort_col) + theme(legend.position = \"bottom\") #+ geom_line()\n",
    "dev.off()"
   ]
  },
  {
   "cell_type": "code",
   "execution_count": null,
   "metadata": {
    "vscode": {
     "languageId": "r"
    }
   },
   "outputs": [],
   "source": [
    "plot.fx(length15_F1_m, \"cancergroup\", group_col) + theme(legend.position = \"bottom\") #+ geom_line()"
   ]
  },
  {
   "attachments": {},
   "cell_type": "markdown",
   "metadata": {},
   "source": [
    "remove PBMC"
   ]
  },
  {
   "cell_type": "code",
   "execution_count": null,
   "metadata": {
    "vscode": {
     "languageId": "r"
    }
   },
   "outputs": [],
   "source": [
    "plot.fx(length15_F5_m[ length15_F5_m$sampletype == \"Tumor\",], \"Disease_type\", cohort_col) + \n",
    "theme(legend.position = \"bottom\") "
   ]
  },
  {
   "attachments": {},
   "cell_type": "markdown",
   "metadata": {},
   "source": [
    "# PCA"
   ]
  },
  {
   "cell_type": "code",
   "execution_count": null,
   "metadata": {
    "vscode": {
     "languageId": "r"
    }
   },
   "outputs": [],
   "source": [
    "colnames(length15_F1) <- paste0(\"F1_\", colnames(length15_F1))\n",
    "colnames(length15_F2) <- paste0(\"F2_\", colnames(length15_F2))\n",
    "colnames(length15_F3) <- paste0(\"F3_\", colnames(length15_F3))\n",
    "colnames(length15_F4) <- paste0(\"F4_\", colnames(length15_F4))\n",
    "colnames(length15_F5) <- paste0(\"F5_\", colnames(length15_F5))"
   ]
  },
  {
   "cell_type": "code",
   "execution_count": null,
   "metadata": {
    "vscode": {
     "languageId": "r"
    }
   },
   "outputs": [],
   "source": [
    "#bind all\n",
    "length15 <- cbind(length15_F1, length15_F2, length15_F3, length15_F4, length15_F5)"
   ]
  },
  {
   "cell_type": "code",
   "execution_count": null,
   "metadata": {
    "vscode": {
     "languageId": "r"
    }
   },
   "outputs": [],
   "source": [
    "#subset to those in metadata\n",
    "length15 <- length15[ rownames(length15) %in% meta_div$basename,]"
   ]
  },
  {
   "cell_type": "code",
   "execution_count": null,
   "metadata": {
    "vscode": {
     "languageId": "r"
    }
   },
   "outputs": [],
   "source": [
    "dim(length15)"
   ]
  },
  {
   "cell_type": "code",
   "execution_count": null,
   "metadata": {
    "vscode": {
     "languageId": "r"
    }
   },
   "outputs": [],
   "source": [
    "rmcol <- colnames(length15)[endsWith(colnames(length15), \"_L14\" )]"
   ]
  },
  {
   "cell_type": "code",
   "execution_count": null,
   "metadata": {
    "vscode": {
     "languageId": "r"
    }
   },
   "outputs": [],
   "source": [
    "#length15 <- length15[, !colnames(length15) %in% rmcol]"
   ]
  },
  {
   "cell_type": "code",
   "execution_count": null,
   "metadata": {
    "vscode": {
     "languageId": "r"
    }
   },
   "outputs": [],
   "source": [
    "colnames(length15)"
   ]
  },
  {
   "cell_type": "code",
   "execution_count": null,
   "metadata": {
    "vscode": {
     "languageId": "r"
    }
   },
   "outputs": [],
   "source": [
    "#pca\n",
    "mypca <- prcomp(length15, scale = FALSE)"
   ]
  },
  {
   "cell_type": "code",
   "execution_count": null,
   "metadata": {
    "vscode": {
     "languageId": "r"
    }
   },
   "outputs": [],
   "source": [
    "library(factoextra)"
   ]
  },
  {
   "cell_type": "code",
   "execution_count": null,
   "metadata": {
    "vscode": {
     "languageId": "r"
    }
   },
   "outputs": [],
   "source": [
    "#fviz_eig(mypca)"
   ]
  },
  {
   "cell_type": "code",
   "execution_count": null,
   "metadata": {
    "vscode": {
     "languageId": "r"
    }
   },
   "outputs": [],
   "source": [
    "fviz_pca_ind(mypca,geom = \"point\",\n",
    "             col.ind = \"cos2\", # Color by the quality of representation\n",
    "             gradient.cols = c(\"#00AFBB\", \"#E7B800\", \"#FC4E07\"),\n",
    "            # repel = TRUE     # Avoid text overlapping\n",
    "             )"
   ]
  },
  {
   "cell_type": "code",
   "execution_count": null,
   "metadata": {
    "vscode": {
     "languageId": "r"
    }
   },
   "outputs": [],
   "source": [
    "fviz_pca_var(mypca,\n",
    "             col.var = \"contrib\", # Color by contributions to the PC\n",
    "             gradient.cols = c(\"#00AFBB\", \"#E7B800\", \"#FC4E07\"),\n",
    "             repel = TRUE     # Avoid text overlapping\n",
    "             )"
   ]
  },
  {
   "cell_type": "code",
   "execution_count": null,
   "metadata": {
    "vscode": {
     "languageId": "r"
    }
   },
   "outputs": [],
   "source": [
    "library(tidyverse)\n",
    "library(palmerpenguins)\n",
    "library(Rtsne)"
   ]
  },
  {
   "cell_type": "code",
   "execution_count": null,
   "metadata": {
    "vscode": {
     "languageId": "r"
    }
   },
   "outputs": [],
   "source": [
    "#length15 <- length15[, !grepl(\"L3\", colnames(length15))]"
   ]
  },
  {
   "cell_type": "code",
   "execution_count": null,
   "metadata": {
    "vscode": {
     "languageId": "r"
    }
   },
   "outputs": [],
   "source": [
    "colnames(length15)"
   ]
  },
  {
   "cell_type": "code",
   "execution_count": null,
   "metadata": {
    "vscode": {
     "languageId": "r"
    }
   },
   "outputs": [],
   "source": [
    "set.seed(142)\n",
    "tSNE_fit <- length15 %>%\n",
    "  #scale() %>% \n",
    "  Rtsne(perplexity = 15)"
   ]
  },
  {
   "cell_type": "code",
   "execution_count": null,
   "metadata": {
    "vscode": {
     "languageId": "r"
    }
   },
   "outputs": [],
   "source": [
    "tSNE_df <- tSNE_fit$Y\n",
    "\n",
    "rownames(tSNE_df) <- rownames(length15)"
   ]
  },
  {
   "cell_type": "code",
   "execution_count": null,
   "metadata": {
    "vscode": {
     "languageId": "r"
    }
   },
   "outputs": [],
   "source": [
    "colnames(tSNE_df) <- c(\"tSNE1\", \"tSNE2\")"
   ]
  },
  {
   "cell_type": "code",
   "execution_count": null,
   "metadata": {
    "vscode": {
     "languageId": "r"
    }
   },
   "outputs": [],
   "source": [
    "tSNE_df <- as.data.frame(tSNE_df)"
   ]
  },
  {
   "cell_type": "code",
   "execution_count": null,
   "metadata": {
    "vscode": {
     "languageId": "r"
    }
   },
   "outputs": [],
   "source": [
    "head(tSNE_df)"
   ]
  },
  {
   "cell_type": "code",
   "execution_count": null,
   "metadata": {
    "vscode": {
     "languageId": "r"
    }
   },
   "outputs": [],
   "source": [
    "meta_div_t <- meta_div"
   ]
  },
  {
   "cell_type": "code",
   "execution_count": null,
   "metadata": {
    "vscode": {
     "languageId": "r"
    }
   },
   "outputs": [],
   "source": [
    "meta_div_t$tSNE1 <- tSNE_df$tSNE1[ match(meta_div_t$basename, rownames(tSNE_df))]\n",
    "meta_div_t$tSNE2 <- tSNE_df$tSNE2[ match(meta_div_t$basename, rownames(tSNE_df))]"
   ]
  },
  {
   "cell_type": "code",
   "execution_count": null,
   "metadata": {
    "vscode": {
     "languageId": "r"
    }
   },
   "outputs": [],
   "source": [
    "meta_div_t <- meta_div_t[!is.na(meta_div_t$tSNE1),]"
   ]
  },
  {
   "cell_type": "code",
   "execution_count": null,
   "metadata": {
    "vscode": {
     "languageId": "r"
    }
   },
   "outputs": [],
   "source": [
    "colnames(meta_div_t)"
   ]
  },
  {
   "cell_type": "code",
   "execution_count": null,
   "metadata": {
    "vscode": {
     "languageId": "r"
    }
   },
   "outputs": [],
   "source": [
    "ggplot(data = meta_div_t[ !is.na(meta_div_t$TE.),], aes(x = tSNE1, y = tSNE2, color = Naïve.) ) +\n",
    "  geom_point() +\n",
    "  myplot+myaxis + theme(legend.position = \"bottom\", legend.title = element_blank()) + \n",
    "guides(color = guide_legend(nrow = 2))# + scale_color_manual(values = cycle_col)"
   ]
  },
  {
   "cell_type": "code",
   "execution_count": null,
   "metadata": {
    "vscode": {
     "languageId": "r"
    }
   },
   "outputs": [],
   "source": [
    "head(length15)"
   ]
  },
  {
   "cell_type": "code",
   "execution_count": null,
   "metadata": {
    "vscode": {
     "languageId": "r"
    }
   },
   "outputs": [],
   "source": [
    "tsne(t(length15), perplex = 5)"
   ]
  },
  {
   "cell_type": "code",
   "execution_count": null,
   "metadata": {
    "vscode": {
     "languageId": "r"
    }
   },
   "outputs": [],
   "source": []
  },
  {
   "cell_type": "code",
   "execution_count": null,
   "metadata": {
    "vscode": {
     "languageId": "r"
    }
   },
   "outputs": [],
   "source": [
    "load(\"/Users/anabbi/Desktop/H4H/INTERCEPT/NextSeq/aaFeatures//CHP_11YO-M_PBMC_DNA_length15.RData\")"
   ]
  },
  {
   "cell_type": "code",
   "execution_count": null,
   "metadata": {
    "vscode": {
     "languageId": "r"
    }
   },
   "outputs": [],
   "source": [
    "load(\"/Users/anabbi/Desktop/H4H/INTERCEPT/NextSeq/aaFeatures//CHP_10YO-M_PBMC_DNA_length15.RData\")"
   ]
  },
  {
   "cell_type": "code",
   "execution_count": null,
   "metadata": {
    "vscode": {
     "languageId": "r"
    }
   },
   "outputs": [],
   "source": [
    "myaamat_list"
   ]
  },
  {
   "cell_type": "code",
   "execution_count": null,
   "metadata": {
    "vscode": {
     "languageId": "r"
    }
   },
   "outputs": [],
   "source": [
    "myaamat_list"
   ]
  },
  {
   "cell_type": "code",
   "execution_count": null,
   "metadata": {
    "vscode": {
     "languageId": "r"
    }
   },
   "outputs": [],
   "source": [
    "load(paste0(h4hpath, \"aaFeatures/CHP_358-02-PBMC-DNA_length15.RData\"))"
   ]
  },
  {
   "cell_type": "code",
   "execution_count": null,
   "metadata": {
    "vscode": {
     "languageId": "r"
    }
   },
   "outputs": [],
   "source": [
    "sum_features_aaP <- lapply(myaamat_list, function(x){ colSums(x[,2:6], na.rm = T)})\n",
    "names(myaamat_list) <- paste0(\"L\", 1:length(myaamat_list))\n",
    "sum_features_aaP_df <- as.data.frame(sum_features_aaP)"
   ]
  },
  {
   "cell_type": "code",
   "execution_count": null,
   "metadata": {
    "vscode": {
     "languageId": "r"
    }
   },
   "outputs": [],
   "source": [
    "sum_features_aaP_df"
   ]
  },
  {
   "cell_type": "code",
   "execution_count": null,
   "metadata": {
    "vscode": {
     "languageId": "r"
    }
   },
   "outputs": [],
   "source": [
    "aalength <- 15\n",
    "myfeat <- \"F1\""
   ]
  },
  {
   "cell_type": "code",
   "execution_count": null,
   "metadata": {
    "vscode": {
     "languageId": "r"
    }
   },
   "outputs": [],
   "source": [
    "mysampleset <- list.files(paste0(h4hpath, \"aaFeatures/\"), pattern = paste(aalength, \".RData\", sep = \"\"), full.names = T)"
   ]
  },
  {
   "cell_type": "code",
   "execution_count": null,
   "metadata": {
    "vscode": {
     "languageId": "r"
    }
   },
   "outputs": [],
   "source": [
    "myLmat <- matrix(ncol = aalength, nrow = length(mysampleset),\n",
    "                dimnames = list(mysampleset, paste0(\"L\", 1:aalength)))"
   ]
  },
  {
   "cell_type": "code",
   "execution_count": null,
   "metadata": {
    "vscode": {
     "languageId": "r"
    }
   },
   "outputs": [],
   "source": [
    "myLmat[1, ] <- unlist(sum_features_aaP_df[myfeat,])"
   ]
  },
  {
   "cell_type": "code",
   "execution_count": null,
   "metadata": {
    "vscode": {
     "languageId": "r"
    }
   },
   "outputs": [],
   "source": [
    "head(myLmat)"
   ]
  },
  {
   "cell_type": "code",
   "execution_count": null,
   "metadata": {
    "vscode": {
     "languageId": "r"
    }
   },
   "outputs": [],
   "source": []
  },
  {
   "attachments": {},
   "cell_type": "markdown",
   "metadata": {},
   "source": [
    "# NMI"
   ]
  },
  {
   "cell_type": "code",
   "execution_count": null,
   "metadata": {
    "vscode": {
     "languageId": "r"
    }
   },
   "outputs": [],
   "source": [
    "mat <- sapply(as.character(c(\"CASSFYGREADTQYF\", \"CASSVVGVYNSPLHF\", \"CASSLTRPSGNTIYF\",\n",
    "                            \"CASSYQAGVGETQYF\")), function(x){\n",
    "      x <- as.character(x);\n",
    "      x <- strsplit(x, \"\");\n",
    "      x <- unlist( x )\n",
    "   })\n",
    "\n",
    "mat <- t(mat)"
   ]
  },
  {
   "cell_type": "code",
   "execution_count": null,
   "metadata": {
    "vscode": {
     "languageId": "r"
    }
   },
   "outputs": [],
   "source": [
    " res <- data.frame()\n",
    "   for( i in 1:15 ){\n",
    "   for( k in 1:15 ){\n",
    "      print(paste0( i, \":\", k))\n",
    "      d1 <- mat[, c(i,k)]\n",
    "      d1 <- as.data.frame(d1)\n",
    "      colnames(d1) <- c(\"X\",\"Y\")\n",
    "      d1 <- d1[ d1$X!=\"NA\" &  d1$Y!=\"NA\",] #revemo NA\n",
    "      \n",
    "      xlist <- as.character( unique(d1$X) )\n",
    "      ylist <- as.character( unique(d1$Y) )\n",
    "      \n",
    "      #make frequency table\n",
    "      freq <- matrix(0, nrow=length(xlist), ncol=length(ylist))\n",
    "      row.names(freq) <- xlist\n",
    "      colnames(freq) <- ylist\n",
    "      \n",
    "      for( x in xlist ){\n",
    "      for( y in ylist ){\n",
    "         both <- subset(d1, X==x & Y==y)\n",
    "         freq[ x, y ] <- nrow( both )\n",
    "      }\n",
    "      }\n",
    "      \n",
    "      MI <- mi.empirical(freq, unit=c(\"log\"))\n",
    "      Hx <- entropy.empirical( colSums(freq) )\n",
    "      Hy <- entropy.empirical( rowSums(freq) )\n",
    "      NMI <- 2 * MI / ( Hx + Hy ) #normalized mutual entropy\n",
    "      \n",
    "      dump <- data.frame(i, k, MI, Hx, Hy, NMI)\n",
    "      res <- rbind(res, dump)\n",
    "      \n",
    "   }\n",
    "   }"
   ]
  },
  {
   "cell_type": "code",
   "execution_count": null,
   "metadata": {
    "vscode": {
     "languageId": "r"
    }
   },
   "outputs": [],
   "source": [
    "res"
   ]
  },
  {
   "cell_type": "code",
   "execution_count": null,
   "metadata": {
    "vscode": {
     "languageId": "r"
    }
   },
   "outputs": [],
   "source": []
  },
  {
   "cell_type": "code",
   "execution_count": null,
   "metadata": {
    "vscode": {
     "languageId": "r"
    }
   },
   "outputs": [],
   "source": []
  },
  {
   "cell_type": "code",
   "execution_count": null,
   "metadata": {
    "vscode": {
     "languageId": "r"
    }
   },
   "outputs": [],
   "source": []
  }
 ],
 "metadata": {
  "kernelspec": {
   "display_name": "R 4.0",
   "language": "R",
   "name": "ir40"
  },
  "language_info": {
   "codemirror_mode": "r",
   "file_extension": ".r",
   "mimetype": "text/x-r-source",
   "name": "R",
   "pygments_lexer": "r",
   "version": "4.2.2"
  },
  "toc": {
   "base_numbering": 1,
   "nav_menu": {},
   "number_sections": false,
   "sideBar": true,
   "skip_h1_title": false,
   "title_cell": "Table of Contents",
   "title_sidebar": "Contents",
   "toc_cell": true,
   "toc_position": {
    "height": "calc(100% - 180px)",
    "left": "10px",
    "top": "150px",
    "width": "186.15px"
   },
   "toc_section_display": true,
   "toc_window_display": true
  }
 },
 "nbformat": 4,
 "nbformat_minor": 2
}
