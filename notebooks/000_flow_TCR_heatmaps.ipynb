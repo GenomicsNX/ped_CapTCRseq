{
 "cells": [
  {
   "cell_type": "markdown",
   "metadata": {},
   "source": [
    "# Dependencies"
   ]
  },
  {
   "cell_type": "code",
   "execution_count": 1,
   "metadata": {
    "vscode": {
     "languageId": "r"
    }
   },
   "outputs": [
    {
     "data": {
      "text/html": [
       "'en_US.UTF-8/en_US.UTF-8/en_US.UTF-8/C/en_US.UTF-8/C'"
      ],
      "text/latex": [
       "'en\\_US.UTF-8/en\\_US.UTF-8/en\\_US.UTF-8/C/en\\_US.UTF-8/C'"
      ],
      "text/markdown": [
       "'en_US.UTF-8/en_US.UTF-8/en_US.UTF-8/C/en_US.UTF-8/C'"
      ],
      "text/plain": [
       "[1] \"en_US.UTF-8/en_US.UTF-8/en_US.UTF-8/C/en_US.UTF-8/C\""
      ]
     },
     "metadata": {},
     "output_type": "display_data"
    }
   ],
   "source": [
    "Sys.setlocale(category = \"LC_ALL\", locale = \"en_US.UTF-8\")"
   ]
  },
  {
   "cell_type": "code",
   "execution_count": 2,
   "metadata": {
    "vscode": {
     "languageId": "r"
    }
   },
   "outputs": [],
   "source": [
    "pacman::p_load(dplyr, ggplot2, ComplexHeatmap, circlize)"
   ]
  },
  {
   "cell_type": "markdown",
   "metadata": {},
   "source": [
    "# Functions"
   ]
  },
  {
   "cell_type": "code",
   "execution_count": 3,
   "metadata": {
    "vscode": {
     "languageId": "r"
    }
   },
   "outputs": [],
   "source": [
    "source(\"/Users/anabbi/git/ped_CapTCRseq/R/ggplot2_theme.R\")\n",
    "source(\"/Users/anabbi/git/ped_CapTCRseq/R/color_schemes.R\")\n",
    "source(\"/Users/anabbi/git/ped_CapTCRseq/R/Misc_functions.R\")"
   ]
  },
  {
   "cell_type": "code",
   "execution_count": 35,
   "metadata": {
    "vscode": {
     "languageId": "r"
    }
   },
   "outputs": [],
   "source": [
    "heatmap_Tcells.fx <- function(metadata_div, patient) {\n",
    "    mypt <- metadata_div[metadata_div$Patient == patient, ]\n",
    "    mypt_pbmc <- mypt[which(mypt$sampletype == \"PBMC\"), ]\n",
    "\n",
    "    rownames(mypt_pbmc) <- mypt_pbmc$cycle\n",
    "\n",
    "    Tcellmat <- as.matrix(mypt_pbmc[, c(\"Naïve.\", \"SCM.\", \"CM.\", \"EM.\", \"TE.\")])\n",
    "    colnames(Tcellmat) <- c(\"%Naïve\", \"%SCM\", \"%CM\", \"%EM\", \"%TE\")\n",
    "\n",
    "    myroworder <- c(\"X01\", \"X02\", \"X03\", \"X04\", \"X05\")\n",
    "    Tcellmat <- Tcellmat[intersect(myroworder, rownames(Tcellmat)), ] # reorder rows from cycle 1 to 5\n",
    "\n",
    "    anno_CD3 <- HeatmapAnnotation(\n",
    "        TEfold = anno_barplot((mypt_pbmc$FOLD), height = unit(2, \"cm\")),\n",
    "        AbsoluteCount = anno_barplot((mypt_pbmc$ATC), height = unit(2, \"cm\")),\n",
    "        TotalCD3 = anno_barplot((mypt_pbmc$CD3), height = unit(2, \"cm\")),\n",
    "        gap = unit(2, \"mm\")\n",
    "    )\n",
    "\n",
    "    col_fun <- colorRamp2(c(0, 50, 100), c(\"white\", \"#ef6548\", \"#7f0000\"))\n",
    "\n",
    "    heatmap_tcells <- Heatmap(t(Tcellmat),\n",
    "        top_annotation = anno_CD3,\n",
    "        name = \"T-cells %\",\n",
    "        #column_title = paste(unique(mypt_pbmc$Patient), unique(mypt_pbmc$Disease_type), sep = \"_\"),\n",
    "        col = col_fun,\n",
    "        # format rows\n",
    "        row_names_gp = gpar(fontsize = 15),\n",
    "        cluster_rows = FALSE,\n",
    "        show_row_dend = FALSE,\n",
    "        # format cols\n",
    "        cluster_columns = FALSE,\n",
    "        column_names_gp = gpar(fontsize = 15),\n",
    "        rect_gp = gpar(col = \"black\"),\n",
    "        # legend\n",
    "        show_heatmap_legend = TRUE,\n",
    "        width = unit(nrow(Tcellmat), \"cm\"),\n",
    "        height = unit(2.5, \"cm\"),\n",
    "        heatmap_legend_param = list(labels_gp = gpar(fontsize = 12))\n",
    "    )\n",
    "    return(heatmap_tcells)\n",
    "}\n"
   ]
  },
  {
   "cell_type": "code",
   "execution_count": 36,
   "metadata": {
    "vscode": {
     "languageId": "r"
    }
   },
   "outputs": [],
   "source": [
    "heatmap_NCR.fx <- function(metadata_div, patient) {\n",
    "    \n",
    "    mypt <- metadata_div[metadata_div$Patient == patient, ]\n",
    "    mypt_pbmc <- mypt[which(mypt$sampletype == \"PBMC\"), ]\n",
    "\n",
    "    rownames(mypt_pbmc) <- mypt_pbmc$cycle\n",
    "\n",
    "    NCRmat <- as.matrix(mypt_pbmc[, c(\"PD1.\", \"PDL1.\", \"TIM3.\", \"LAG3.\", \"CTLA4.\")])\n",
    "    colnames(NCRmat) <- c(\"%PD-1\", \"%PD-L1\", \"%TIM-3\", \"%LAG-3\", \"%CTLA-4\")\n",
    "    \n",
    "    myroworder <- c(\"X01\", \"X02\", \"X03\", \"X04\", \"X05\")\n",
    "    NCRmat <- NCRmat[intersect(myroworder, rownames(NCRmat)), ] # reorder rows from cycle 1 to 5\n",
    "\n",
    "    col_fun <- colorRamp2(c(0, 50, 100), c(\"white\", \"#ef6548\", \"#7f0000\"))\n",
    "\n",
    "    heatmap_ncr <- Heatmap(t(NCRmat),\n",
    "        name = \"NCR %\",\n",
    "        # column_title = paste(unique(mypt_pbmc$Patient), unique(mypt_pbmc$Disease_type), sep = \"_\"),\n",
    "        col = col_fun,\n",
    "        # format rows\n",
    "        row_names_gp = gpar(fontsize = 15),\n",
    "        cluster_rows = FALSE,\n",
    "        show_row_dend = FALSE,\n",
    "        # format cols\n",
    "        cluster_columns = FALSE,\n",
    "        column_names_gp = gpar(fontsize = 15),\n",
    "        rect_gp = gpar(col = \"black\"),\n",
    "        # legend\n",
    "        show_heatmap_legend = TRUE,\n",
    "        width = unit(nrow(NCRmat), \"cm\"),\n",
    "        height = unit(2.5, \"cm\"),\n",
    "        heatmap_legend_param = list(labels_gp = gpar(fontsize = 12))\n",
    "    )\n",
    "    return(heatmap_ncr)\n",
    "}\n"
   ]
  },
  {
   "cell_type": "code",
   "execution_count": 37,
   "metadata": {
    "vscode": {
     "languageId": "r"
    }
   },
   "outputs": [],
   "source": [
    "tcr_plots.fx <- function(metadata_div, mypath=\"~/Desktop/H4H/INTERCEPT/NextSeq/\", patient, pbmc_cfdna=\"PBMC\") {\n",
    "      mypt <- metadata_div[metadata_div$Patient == patient, ]\n",
    "      mypt_pbmc <- mypt[which(mypt$sampletype == pbmc_cfdna), ]\n",
    "      rownames(mypt_pbmc) <- mypt_pbmc$cycle\n",
    "\n",
    "      myfilelst <- paste0(mypath, mypt_pbmc$file)\n",
    "\n",
    "      i <- 1\n",
    "      for (f in myfilelst) {\n",
    "            mixcrfle <- read.table(f,\n",
    "                  header = TRUE, sep = \"\\t\",\n",
    "                  stringsAsFactors = FALSE,\n",
    "                  na.strings = c(\"\", \"NA\")\n",
    "            )\n",
    "            if (i == 1) {\n",
    "                  compldfle <- mixcrfle\n",
    "                  compldfle <- cbind(\n",
    "                        cloneno = row.names(compldfle),\n",
    "                        filename = f,\n",
    "                        compldfle\n",
    "                  )\n",
    "                  i <- i + 1\n",
    "            } else {\n",
    "                  compldfle1 <- mixcrfle\n",
    "                  compldfle1 <- cbind(\n",
    "                        cloneno = row.names(compldfle1),\n",
    "                        filename = f,\n",
    "                        compldfle1\n",
    "                  )\n",
    "                  compldfle <- rbind(compldfle, compldfle1)\n",
    "                  rm(compldfle1)\n",
    "            }\n",
    "      }\n",
    "\n",
    "\n",
    "      compldfle$filename <- as.character(compldfle$filename)\n",
    "\n",
    "      compldfle$cloneno <- as.character(compldfle$cloneno)\n",
    "      compldfle$cloneno <- formatC(compldfle$cloneno, width = nchar(max(as.numeric(compldfle$cloneno))), flag = \"0\")\n",
    "\n",
    "      compldfle$filename <- gsub(mypath, \"\", compldfle$filename)\n",
    "      compldfle$sample_id <- mypt_pbmc$sample_id[match(compldfle$filename, mypt_pbmc$file)]\n",
    "\n",
    "      # diversity plot\n",
    "      divpt <- ggplot(data = mypt_pbmc, aes(y = observed_Shannon, x = sample_id)) +\n",
    "            geom_point(colour = \"#030303\", stat = \"identity\", size = 4) +\n",
    "            theme(\n",
    "                  axis.title.x = element_blank(),\n",
    "                  axis.text.x = element_blank(),\n",
    "                  axis.line = element_line(color = \"black\"),\n",
    "                  axis.text = element_text(size = 15),\n",
    "                  axis.title = element_text(size = 15),\n",
    "                  legend.position = \"none\"\n",
    "            ) +\n",
    "            theme(\n",
    "                  panel.grid.major = element_blank(),\n",
    "                  panel.grid.minor = element_blank(),\n",
    "                  panel.background = element_rect(fill = \"transparent\", colour = NA),\n",
    "                  panel.border = element_blank(),\n",
    "                  plot.margin = unit(c(0, 0, 0, 0), \"cm\")\n",
    "            ) +\n",
    "            annotation_logticks(sides = \"l\") +\n",
    "            scale_y_continuous(\n",
    "                  trans = \"log10\",\n",
    "                  breaks = c(1, 50, 100, 150),\n",
    "                  label = c(1, 50, 100, 150)\n",
    "            )\n",
    "\n",
    "      # TRB bar plot\n",
    "      barpt <- ggplot(data = mypt_pbmc, aes(y = TRB, x = sample_id)) +\n",
    "            geom_bar(fill = \"#f3b94e\", colour = \"#030303\", stat = \"identity\") +\n",
    "            theme(\n",
    "                  axis.title.x = element_blank(),\n",
    "                  axis.text.x = element_blank(),\n",
    "                  axis.line = element_line(color = \"black\"),\n",
    "                  axis.text = element_text(size = 15),\n",
    "                  axis.title = element_text(size = 15),\n",
    "                  legend.position = \"none\"\n",
    "            ) +\n",
    "            theme(\n",
    "                  panel.grid.major = element_blank(),\n",
    "                  panel.grid.minor = element_blank(),\n",
    "                  panel.background = element_rect(fill = \"transparent\", colour = NA),\n",
    "                  panel.border = element_blank(),\n",
    "                  plot.margin = unit(c(0, 0, 0, 0), \"cm\")\n",
    "            )\n",
    "\n",
    "\n",
    "      # TRB clones stacked bar plot\n",
    "      stkbarpt <- ggplot(data = compldfle, aes(y = cloneFraction, x = sample_id)) +\n",
    "            geom_bar(fill = \"#d9d9d9\", colour = \"#000000\", stat = \"identity\") +\n",
    "            theme(\n",
    "                  axis.title.x = element_blank(),\n",
    "                  axis.text.x = element_text(angle = 45, hjust = 1),\n",
    "                  axis.line = element_line(color = \"black\"),\n",
    "                  axis.text = element_text(size = 15),\n",
    "                  axis.title = element_text(size = 15),\n",
    "                  legend.position = \"none\"\n",
    "            ) +\n",
    "            theme(\n",
    "                  panel.grid.major = element_blank(),\n",
    "                  panel.grid.minor = element_blank(),\n",
    "                  panel.background = element_rect(fill = \"transparent\", colour = NA),\n",
    "                  panel.border = element_blank(),\n",
    "                  plot.margin = unit(c(0, 0, 0, 0), \"cm\")\n",
    "            )\n",
    "\n",
    "      return(align_plots1(divpt, barpt, stkbarpt))\n",
    "}\n"
   ]
  },
  {
   "cell_type": "code",
   "execution_count": 38,
   "metadata": {
    "vscode": {
     "languageId": "r"
    }
   },
   "outputs": [],
   "source": [
    "anno_tcr.fx <- function(metadata_div, mypath, patient, cfDNA_PBMC, topx) {\n",
    "    mypt <- metadata_div[metadata_div$Patient == patient, ]\n",
    "    mypt_sample <- mypt[which(mypt$sampletype == cfDNA_PBMC), ]\n",
    "    rownames(mypt_sample) <- mypt_sample$cycle\n",
    "\n",
    "    myroworder <- c(\"X01\", \"X02\", \"X03\", \"X04\", \"X05\")\n",
    "    mypt_sample <- mypt_sample[intersect(myroworder, rownames(mypt_sample)), ] # reorder rows from cycle 1 to 5\n",
    "\n",
    "    myfilelst <- paste0(mypath, mypt_sample$file)\n",
    "\n",
    "    topX_list <- lapply(myfilelst, function(x) {\n",
    "        mixcrfle <- read.table(x,\n",
    "            header = TRUE, sep = \"\\t\",\n",
    "            stringsAsFactors = FALSE,\n",
    "            na.strings = c(\"\", \"NA\")\n",
    "        )\n",
    "        # get top X clones\n",
    "        mixcrfle$cloneCount[1:topx]\n",
    "    })\n",
    "\n",
    "    names(topX_list) <- mypt_sample$basename\n",
    "\n",
    "    output <- as.data.frame(matrix(topX_list[[1]], ncol = 1, byrow = TRUE))\n",
    "    output$rows <- 1:nrow(output)\n",
    "\n",
    "    for (i in 2:length(topX_list)) {\n",
    "        out1 <- as.data.frame(matrix(topX_list[[i]], ncol = 1, byrow = TRUE))\n",
    "        out1$rows <- 1:nrow(out1)\n",
    "        output <- merge(output, out1, all = TRUE, by = \"rows\")\n",
    "    }\n",
    "\n",
    "    output$rows <- NULL\n",
    "    output[is.na(output)] <- 0\n",
    "    mytab <- t(prop.table(as.matrix(output), 2))\n",
    "\n",
    "\n",
    "    breaks <- round(quantile(mypt_sample$observed_Shannon)) # for log10 scale\n",
    "\n",
    "    anno_tcr <- HeatmapAnnotation(\n",
    "        observed_Shannon = anno_points(log10(mypt_sample$observed_Shannon), axis_param = list(at = log10(breaks), labels = breaks), height = unit(2, \"cm\")),\n",
    "        TRB = anno_barplot(mypt_sample$TRB, height = unit(2, \"cm\")),\n",
    "        Top_clones = anno_barplot(mytab, height = unit(2, \"cm\")),\n",
    "        gap = unit(2, \"mm\")\n",
    "    )\n",
    "\n",
    "    return(anno_tcr)\n",
    "}"
   ]
  },
  {
   "cell_type": "markdown",
   "metadata": {},
   "source": [
    "# Paths"
   ]
  },
  {
   "cell_type": "code",
   "execution_count": 9,
   "metadata": {
    "vscode": {
     "languageId": "r"
    }
   },
   "outputs": [],
   "source": [
    "datapath <- \"/Users/anabbi/OneDrive - UHN/Documents/INTERCEPT/Data/\"\n",
    "plotpath <- \"/Users/anabbi/OneDrive - UHN/Documents/INTERCEPT/Plots/\"\n",
    "manifestpath <- \"/Users/anabbi/OneDrive - UHN/Documents/INTERCEPT/Manifests/\"\n",
    "gitpath <- \"/Users/anabbi/git/ped_CapTCRseq/\""
   ]
  },
  {
   "cell_type": "code",
   "execution_count": 10,
   "metadata": {
    "vscode": {
     "languageId": "r"
    }
   },
   "outputs": [],
   "source": [
    "h4hpath <- \"/Users/anabbi/Desktop/H4H/INTERCEPT/\""
   ]
  },
  {
   "cell_type": "code",
   "execution_count": 23,
   "metadata": {
    "vscode": {
     "languageId": "r"
    }
   },
   "outputs": [],
   "source": [
    "mypath <- \"~/Desktop/H4H/INTERCEPT/NextSeq/\""
   ]
  },
  {
   "cell_type": "markdown",
   "metadata": {},
   "source": [
    "# Main"
   ]
  },
  {
   "cell_type": "code",
   "execution_count": 11,
   "metadata": {
    "vscode": {
     "languageId": "r"
    }
   },
   "outputs": [],
   "source": [
    "meta_div <- readr::read_rds(paste0(datapath, \"capTCRseq/meta_div_goodsamples.rds\"))"
   ]
  },
  {
   "cell_type": "code",
   "execution_count": 42,
   "metadata": {
    "vscode": {
     "languageId": "r"
    }
   },
   "outputs": [],
   "source": [
    "p1 <- \"CHP_400\"\n",
    "cfDNA_PBMC <- \"PBMC\"\n",
    "topx <- 10\n",
    "disease <- unique(meta_div$Disease_type[meta_div$Patient == p1])"
   ]
  },
  {
   "cell_type": "code",
   "execution_count": 43,
   "metadata": {
    "vscode": {
     "languageId": "r"
    }
   },
   "outputs": [],
   "source": [
    "h1 <- heatmap_Tcells.fx(meta_div, p1)\n",
    "h2 <- heatmap_NCR.fx(meta_div, p1)\n",
    "anno1 <- anno_tcr.fx(meta_div, mypath, p1, cfDNA_PBMC, topx)"
   ]
  },
  {
   "cell_type": "code",
   "execution_count": 48,
   "metadata": {
    "vscode": {
     "languageId": "r"
    }
   },
   "outputs": [
    {
     "data": {
      "text/html": [
       "<strong>pdf:</strong> 2"
      ],
      "text/latex": [
       "\\textbf{pdf:} 2"
      ],
      "text/markdown": [
       "**pdf:** 2"
      ],
      "text/plain": [
       "pdf \n",
       "  2 "
      ]
     },
     "metadata": {},
     "output_type": "display_data"
    }
   ],
   "source": [
    "pdf(paste0(plotpath, \"CHP400.pdf\"), width = 10, height = 10)\n",
    "draw(anno1 %v% h1 %v% h2,\n",
    "    heatmap_legend_side = \"right\", column_title = paste(p1, disease, sep = \"_\"), column_title_gp = gpar(fontsize = 15)\n",
    ")\n",
    "dev.off()\n"
   ]
  },
  {
   "cell_type": "code",
   "execution_count": null,
   "metadata": {
    "vscode": {
     "languageId": "r"
    }
   },
   "outputs": [],
   "source": [
    " \n"
   ]
  },
  {
   "cell_type": "code",
   "execution_count": null,
   "metadata": {
    "vscode": {
     "languageId": "r"
    }
   },
   "outputs": [],
   "source": []
  },
  {
   "cell_type": "code",
   "execution_count": null,
   "metadata": {
    "vscode": {
     "languageId": "r"
    }
   },
   "outputs": [],
   "source": []
  },
  {
   "cell_type": "code",
   "execution_count": null,
   "metadata": {
    "vscode": {
     "languageId": "r"
    }
   },
   "outputs": [],
   "source": []
  }
 ],
 "metadata": {
  "kernelspec": {
   "display_name": "R 4.0",
   "language": "R",
   "name": "ir40"
  },
  "language_info": {
   "codemirror_mode": "r",
   "file_extension": ".r",
   "mimetype": "text/x-r-source",
   "name": "R",
   "pygments_lexer": "r",
   "version": "4.2.2"
  },
  "toc": {
   "base_numbering": 1,
   "nav_menu": {},
   "number_sections": false,
   "sideBar": true,
   "skip_h1_title": false,
   "title_cell": "Table of Contents",
   "title_sidebar": "Contents",
   "toc_cell": true,
   "toc_position": {
    "height": "calc(100% - 180px)",
    "left": "10px",
    "top": "150px",
    "width": "186.15px"
   },
   "toc_section_display": true,
   "toc_window_display": true
  }
 },
 "nbformat": 4,
 "nbformat_minor": 2
}
