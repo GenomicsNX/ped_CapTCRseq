{
 "cells": [
  {
   "attachments": {},
   "cell_type": "markdown",
   "metadata": {},
   "source": [
    "# Dependencies"
   ]
  },
  {
   "cell_type": "code",
   "execution_count": 2,
   "metadata": {
    "vscode": {
     "languageId": "r"
    }
   },
   "outputs": [],
   "source": [
    "pacman::p_load(factoextra)"
   ]
  },
  {
   "attachments": {},
   "cell_type": "markdown",
   "metadata": {},
   "source": [
    "# Functions"
   ]
  },
  {
   "attachments": {},
   "cell_type": "markdown",
   "metadata": {},
   "source": [
    "# Paths"
   ]
  },
  {
   "cell_type": "code",
   "execution_count": 3,
   "metadata": {
    "vscode": {
     "languageId": "r"
    }
   },
   "outputs": [],
   "source": [
    "datapath <- \"/Users/anabbi/OneDrive - UHN/Documents/INTERCEPT/Data/\"\n",
    "plotpath <- \"/Users/anabbi/OneDrive - UHN/Documents/INTERCEPT/Plots/\"\n",
    "manifestpath <- \"/Users/anabbi/OneDrive - UHN/Documents/INTERCEPT/Manifests/\"\n",
    "gitpath <- \"/Users/anabbi/git/ped_CapTCRseq/\"\n",
    "h4hpath <- \"/Users/anabbi/Desktop/H4H/INTERCEPT/\""
   ]
  },
  {
   "attachments": {},
   "cell_type": "markdown",
   "metadata": {},
   "source": [
    "# Main"
   ]
  },
  {
   "cell_type": "code",
   "execution_count": 4,
   "metadata": {
    "vscode": {
     "languageId": "r"
    }
   },
   "outputs": [],
   "source": [
    "hla <- xlsx::read.xlsx(file = paste0(datapath, \"/HLA/UHN-20230127-B257-HLA.xlsx\"), sheetIndex = 1)"
   ]
  },
  {
   "cell_type": "code",
   "execution_count": 5,
   "metadata": {
    "vscode": {
     "languageId": "r"
    }
   },
   "outputs": [
    {
     "data": {
      "text/html": [
       "<table class=\"dataframe\">\n",
       "<caption>A data.frame: 9 x 8</caption>\n",
       "<thead>\n",
       "\t<tr><th></th><th scope=col>Sample.ID</th><th scope=col>Locus</th><th scope=col>Allele.1</th><th scope=col>Allele.2</th><th scope=col>Comments</th><th scope=col>Diploid.Ambiguities</th><th scope=col>Allele.1.Ambiguities</th><th scope=col>Allele.2.Ambiguities</th></tr>\n",
       "\t<tr><th></th><th scope=col>&lt;chr&gt;</th><th scope=col>&lt;chr&gt;</th><th scope=col>&lt;chr&gt;</th><th scope=col>&lt;chr&gt;</th><th scope=col>&lt;chr&gt;</th><th scope=col>&lt;chr&gt;</th><th scope=col>&lt;chr&gt;</th><th scope=col>&lt;chr&gt;</th></tr>\n",
       "</thead>\n",
       "<tbody>\n",
       "\t<tr><th scope=row>424</th><td>396-02</td><td>A     </td><td>A*03:01:01   </td><td>A*03:01:01   </td><td></td><td></td><td></td><td></td></tr>\n",
       "\t<tr><th scope=row>425</th><td>396-02</td><td>B     </td><td>B*07:02:01   </td><td>B*18:01:01   </td><td></td><td></td><td></td><td></td></tr>\n",
       "\t<tr><th scope=row>426</th><td>396-02</td><td>C     </td><td>C*07:02:01   </td><td>C*12:03:01   </td><td></td><td></td><td></td><td></td></tr>\n",
       "\t<tr><th scope=row>427</th><td>396-02</td><td>DPA1  </td><td>DPA1*01:03:01</td><td>DPA1*01:03:01</td><td></td><td></td><td></td><td></td></tr>\n",
       "\t<tr><th scope=row>428</th><td>396-02</td><td>DPB1  </td><td>DPB1*02:01:02</td><td>DPB1*04:01:01</td><td></td><td></td><td></td><td></td></tr>\n",
       "\t<tr><th scope=row>429</th><td>396-02</td><td>DQA1  </td><td>DQA1*01:02:01</td><td>DQA1*02:01:01</td><td></td><td></td><td></td><td></td></tr>\n",
       "\t<tr><th scope=row>430</th><td>396-02</td><td>DQB1  </td><td>DQB1*02:02:01</td><td>DQB1*06:02:01</td><td></td><td></td><td></td><td></td></tr>\n",
       "\t<tr><th scope=row>431</th><td>396-02</td><td>DRB1  </td><td>DRB1*07:01:01</td><td>DRB1*15:01:01</td><td></td><td></td><td></td><td></td></tr>\n",
       "\t<tr><th scope=row>432</th><td>396-02</td><td>DRB345</td><td>DRB4*01:01:01</td><td>DRB5*01:01:01</td><td></td><td></td><td></td><td></td></tr>\n",
       "</tbody>\n",
       "</table>\n"
      ],
      "text/latex": [
       "A data.frame: 9 x 8\n",
       "\\begin{tabular}{r|llllllll}\n",
       "  & Sample.ID & Locus & Allele.1 & Allele.2 & Comments & Diploid.Ambiguities & Allele.1.Ambiguities & Allele.2.Ambiguities\\\\\n",
       "  & <chr> & <chr> & <chr> & <chr> & <chr> & <chr> & <chr> & <chr>\\\\\n",
       "\\hline\n",
       "\t424 & 396-02 & A      & A*03:01:01    & A*03:01:01    &  &  &  & \\\\\n",
       "\t425 & 396-02 & B      & B*07:02:01    & B*18:01:01    &  &  &  & \\\\\n",
       "\t426 & 396-02 & C      & C*07:02:01    & C*12:03:01    &  &  &  & \\\\\n",
       "\t427 & 396-02 & DPA1   & DPA1*01:03:01 & DPA1*01:03:01 &  &  &  & \\\\\n",
       "\t428 & 396-02 & DPB1   & DPB1*02:01:02 & DPB1*04:01:01 &  &  &  & \\\\\n",
       "\t429 & 396-02 & DQA1   & DQA1*01:02:01 & DQA1*02:01:01 &  &  &  & \\\\\n",
       "\t430 & 396-02 & DQB1   & DQB1*02:02:01 & DQB1*06:02:01 &  &  &  & \\\\\n",
       "\t431 & 396-02 & DRB1   & DRB1*07:01:01 & DRB1*15:01:01 &  &  &  & \\\\\n",
       "\t432 & 396-02 & DRB345 & DRB4*01:01:01 & DRB5*01:01:01 &  &  &  & \\\\\n",
       "\\end{tabular}\n"
      ],
      "text/markdown": [
       "\n",
       "A data.frame: 9 x 8\n",
       "\n",
       "| <!--/--> | Sample.ID &lt;chr&gt; | Locus &lt;chr&gt; | Allele.1 &lt;chr&gt; | Allele.2 &lt;chr&gt; | Comments &lt;chr&gt; | Diploid.Ambiguities &lt;chr&gt; | Allele.1.Ambiguities &lt;chr&gt; | Allele.2.Ambiguities &lt;chr&gt; |\n",
       "|---|---|---|---|---|---|---|---|---|\n",
       "| 424 | 396-02 | A      | A*03:01:01    | A*03:01:01    | <!----> | <!----> | <!----> | <!----> |\n",
       "| 425 | 396-02 | B      | B*07:02:01    | B*18:01:01    | <!----> | <!----> | <!----> | <!----> |\n",
       "| 426 | 396-02 | C      | C*07:02:01    | C*12:03:01    | <!----> | <!----> | <!----> | <!----> |\n",
       "| 427 | 396-02 | DPA1   | DPA1*01:03:01 | DPA1*01:03:01 | <!----> | <!----> | <!----> | <!----> |\n",
       "| 428 | 396-02 | DPB1   | DPB1*02:01:02 | DPB1*04:01:01 | <!----> | <!----> | <!----> | <!----> |\n",
       "| 429 | 396-02 | DQA1   | DQA1*01:02:01 | DQA1*02:01:01 | <!----> | <!----> | <!----> | <!----> |\n",
       "| 430 | 396-02 | DQB1   | DQB1*02:02:01 | DQB1*06:02:01 | <!----> | <!----> | <!----> | <!----> |\n",
       "| 431 | 396-02 | DRB1   | DRB1*07:01:01 | DRB1*15:01:01 | <!----> | <!----> | <!----> | <!----> |\n",
       "| 432 | 396-02 | DRB345 | DRB4*01:01:01 | DRB5*01:01:01 | <!----> | <!----> | <!----> | <!----> |\n",
       "\n"
      ],
      "text/plain": [
       "    Sample.ID Locus  Allele.1      Allele.2      Comments Diploid.Ambiguities\n",
       "424 396-02    A      A*03:01:01    A*03:01:01                                \n",
       "425 396-02    B      B*07:02:01    B*18:01:01                                \n",
       "426 396-02    C      C*07:02:01    C*12:03:01                                \n",
       "427 396-02    DPA1   DPA1*01:03:01 DPA1*01:03:01                             \n",
       "428 396-02    DPB1   DPB1*02:01:02 DPB1*04:01:01                             \n",
       "429 396-02    DQA1   DQA1*01:02:01 DQA1*02:01:01                             \n",
       "430 396-02    DQB1   DQB1*02:02:01 DQB1*06:02:01                             \n",
       "431 396-02    DRB1   DRB1*07:01:01 DRB1*15:01:01                             \n",
       "432 396-02    DRB345 DRB4*01:01:01 DRB5*01:01:01                             \n",
       "    Allele.1.Ambiguities Allele.2.Ambiguities\n",
       "424                                          \n",
       "425                                          \n",
       "426                                          \n",
       "427                                          \n",
       "428                                          \n",
       "429                                          \n",
       "430                                          \n",
       "431                                          \n",
       "432                                          "
      ]
     },
     "metadata": {},
     "output_type": "display_data"
    }
   ],
   "source": [
    "hla[ hla$Sample.ID == \"396-02\",]"
   ]
  },
  {
   "cell_type": "code",
   "execution_count": 6,
   "metadata": {
    "vscode": {
     "languageId": "r"
    }
   },
   "outputs": [],
   "source": [
    "hlafiles <- list.files(path = paste0(datapath, \"/HLA/\"), pattern = \"INT\", full.names = TRUE)"
   ]
  },
  {
   "cell_type": "code",
   "execution_count": 7,
   "metadata": {
    "vscode": {
     "languageId": "r"
    }
   },
   "outputs": [
    {
     "data": {
      "text/html": [
       "<style>\n",
       ".list-inline {list-style: none; margin:0; padding: 0}\n",
       ".list-inline>li {display: inline-block}\n",
       ".list-inline>li:not(:last-child)::after {content: \"\\00b7\"; padding: 0 .5ex}\n",
       "</style>\n",
       "<ol class=list-inline><li>'/Users/anabbi/OneDrive - UHN/Documents/INTERCEPT/Data//HLA//INT_HLA_A.txt'</li><li>'/Users/anabbi/OneDrive - UHN/Documents/INTERCEPT/Data//HLA//INT_HLA_B.txt'</li><li>'/Users/anabbi/OneDrive - UHN/Documents/INTERCEPT/Data//HLA//INT_HLA_C.txt'</li><li>'/Users/anabbi/OneDrive - UHN/Documents/INTERCEPT/Data//HLA//INT_HLA_DPA1.txt'</li><li>'/Users/anabbi/OneDrive - UHN/Documents/INTERCEPT/Data//HLA//INT_HLA_DPB1.txt'</li><li>'/Users/anabbi/OneDrive - UHN/Documents/INTERCEPT/Data//HLA//INT_HLA_DQA1.txt'</li><li>'/Users/anabbi/OneDrive - UHN/Documents/INTERCEPT/Data//HLA//INT_HLA_DQB1.txt'</li><li>'/Users/anabbi/OneDrive - UHN/Documents/INTERCEPT/Data//HLA//INT_HLA_DRB1.txt'</li><li>'/Users/anabbi/OneDrive - UHN/Documents/INTERCEPT/Data//HLA//INT_HLA_DRB345.txt'</li></ol>\n"
      ],
      "text/latex": [
       "\\begin{enumerate*}\n",
       "\\item '/Users/anabbi/OneDrive - UHN/Documents/INTERCEPT/Data//HLA//INT\\_HLA\\_A.txt'\n",
       "\\item '/Users/anabbi/OneDrive - UHN/Documents/INTERCEPT/Data//HLA//INT\\_HLA\\_B.txt'\n",
       "\\item '/Users/anabbi/OneDrive - UHN/Documents/INTERCEPT/Data//HLA//INT\\_HLA\\_C.txt'\n",
       "\\item '/Users/anabbi/OneDrive - UHN/Documents/INTERCEPT/Data//HLA//INT\\_HLA\\_DPA1.txt'\n",
       "\\item '/Users/anabbi/OneDrive - UHN/Documents/INTERCEPT/Data//HLA//INT\\_HLA\\_DPB1.txt'\n",
       "\\item '/Users/anabbi/OneDrive - UHN/Documents/INTERCEPT/Data//HLA//INT\\_HLA\\_DQA1.txt'\n",
       "\\item '/Users/anabbi/OneDrive - UHN/Documents/INTERCEPT/Data//HLA//INT\\_HLA\\_DQB1.txt'\n",
       "\\item '/Users/anabbi/OneDrive - UHN/Documents/INTERCEPT/Data//HLA//INT\\_HLA\\_DRB1.txt'\n",
       "\\item '/Users/anabbi/OneDrive - UHN/Documents/INTERCEPT/Data//HLA//INT\\_HLA\\_DRB345.txt'\n",
       "\\end{enumerate*}\n"
      ],
      "text/markdown": [
       "1. '/Users/anabbi/OneDrive - UHN/Documents/INTERCEPT/Data//HLA//INT_HLA_A.txt'\n",
       "2. '/Users/anabbi/OneDrive - UHN/Documents/INTERCEPT/Data//HLA//INT_HLA_B.txt'\n",
       "3. '/Users/anabbi/OneDrive - UHN/Documents/INTERCEPT/Data//HLA//INT_HLA_C.txt'\n",
       "4. '/Users/anabbi/OneDrive - UHN/Documents/INTERCEPT/Data//HLA//INT_HLA_DPA1.txt'\n",
       "5. '/Users/anabbi/OneDrive - UHN/Documents/INTERCEPT/Data//HLA//INT_HLA_DPB1.txt'\n",
       "6. '/Users/anabbi/OneDrive - UHN/Documents/INTERCEPT/Data//HLA//INT_HLA_DQA1.txt'\n",
       "7. '/Users/anabbi/OneDrive - UHN/Documents/INTERCEPT/Data//HLA//INT_HLA_DQB1.txt'\n",
       "8. '/Users/anabbi/OneDrive - UHN/Documents/INTERCEPT/Data//HLA//INT_HLA_DRB1.txt'\n",
       "9. '/Users/anabbi/OneDrive - UHN/Documents/INTERCEPT/Data//HLA//INT_HLA_DRB345.txt'\n",
       "\n",
       "\n"
      ],
      "text/plain": [
       "[1] \"/Users/anabbi/OneDrive - UHN/Documents/INTERCEPT/Data//HLA//INT_HLA_A.txt\"     \n",
       "[2] \"/Users/anabbi/OneDrive - UHN/Documents/INTERCEPT/Data//HLA//INT_HLA_B.txt\"     \n",
       "[3] \"/Users/anabbi/OneDrive - UHN/Documents/INTERCEPT/Data//HLA//INT_HLA_C.txt\"     \n",
       "[4] \"/Users/anabbi/OneDrive - UHN/Documents/INTERCEPT/Data//HLA//INT_HLA_DPA1.txt\"  \n",
       "[5] \"/Users/anabbi/OneDrive - UHN/Documents/INTERCEPT/Data//HLA//INT_HLA_DPB1.txt\"  \n",
       "[6] \"/Users/anabbi/OneDrive - UHN/Documents/INTERCEPT/Data//HLA//INT_HLA_DQA1.txt\"  \n",
       "[7] \"/Users/anabbi/OneDrive - UHN/Documents/INTERCEPT/Data//HLA//INT_HLA_DQB1.txt\"  \n",
       "[8] \"/Users/anabbi/OneDrive - UHN/Documents/INTERCEPT/Data//HLA//INT_HLA_DRB1.txt\"  \n",
       "[9] \"/Users/anabbi/OneDrive - UHN/Documents/INTERCEPT/Data//HLA//INT_HLA_DRB345.txt\""
      ]
     },
     "metadata": {},
     "output_type": "display_data"
    }
   ],
   "source": [
    "hlafiles"
   ]
  },
  {
   "cell_type": "code",
   "execution_count": 8,
   "metadata": {
    "vscode": {
     "languageId": "r"
    }
   },
   "outputs": [],
   "source": [
    "hlas <- lapply(hlafiles, function(x) {\n",
    "  read.table(x, header = TRUE, sep = \"\\t\", stringsAsFactors = FALSE, check.names = F)\n",
    "})"
   ]
  },
  {
   "attachments": {},
   "cell_type": "markdown",
   "metadata": {},
   "source": [
    "Allele frequencies"
   ]
  },
  {
   "cell_type": "code",
   "execution_count": 9,
   "metadata": {
    "vscode": {
     "languageId": "r"
    }
   },
   "outputs": [],
   "source": [
    "afs <- lapply(hlas, function(x) {\n",
    "    n <- colSums(x)\n",
    "    freq <- colSums(x) / (2 * nrow(x))\n",
    "    data.frame(type=names(freq), freq, n)\n",
    "})"
   ]
  },
  {
   "cell_type": "code",
   "execution_count": 10,
   "metadata": {
    "vscode": {
     "languageId": "r"
    }
   },
   "outputs": [],
   "source": [
    "lowfreq <- lapply(afs, function(x) {\n",
    "    subset(x, freq < 0.01 | freq > 0.99)$type\n",
    "})"
   ]
  },
  {
   "cell_type": "code",
   "execution_count": 11,
   "metadata": {
    "vscode": {
     "languageId": "r"
    }
   },
   "outputs": [
    {
     "data": {
      "text/html": [
       "<ol>\n",
       "\t<li><style>\n",
       ".list-inline {list-style: none; margin:0; padding: 0}\n",
       ".list-inline>li {display: inline-block}\n",
       ".list-inline>li:not(:last-child)::after {content: \"\\00b7\"; padding: 0 .5ex}\n",
       "</style>\n",
       "<ol class=list-inline><li>'A*24:25'</li><li>'A*02:02:01'</li><li>'A*02:06:01'</li><li>'A*68:02:01'</li><li>'A*36:01:01'</li><li>'A*68:152'</li><li>'A*68:10'</li><li>'A*26:02:01'</li><li>'A*02:03:01'</li><li>'A*80:01:01'</li><li>'A*30:04:01'</li><li>'A*68:03:01'</li></ol>\n",
       "</li>\n",
       "\t<li><style>\n",
       ".list-inline {list-style: none; margin:0; padding: 0}\n",
       ".list-inline>li {display: inline-block}\n",
       ".list-inline>li:not(:last-child)::after {content: \"\\00b7\"; padding: 0 .5ex}\n",
       "</style>\n",
       "<ol class=list-inline><li>'B*41:01:01'</li><li>'B*35:12:01'</li><li>'B*15:32:01'</li><li>'B*35:17:01'</li><li>'B*14:02:01'</li><li>'B*52:01:02'</li><li>'B*35:02:01'</li><li>'B*39:05:01'</li><li>'B*39:01:01'</li><li>'B*35:14:01'</li><li>'B*35:05:01'</li><li>'B*50:01:01'</li><li>'B*56:01:01'</li><li>'B*39:02:02'</li><li>'B*58:01:01'</li><li>'B*41:02:01'</li><li>'B*15:16:01'</li><li>'B*15:17:01'</li><li>'B*40:02:01'</li><li>'B*57:03:01'</li></ol>\n",
       "</li>\n",
       "\t<li><style>\n",
       ".list-inline {list-style: none; margin:0; padding: 0}\n",
       ".list-inline>li {display: inline-block}\n",
       ".list-inline>li:not(:last-child)::after {content: \"\\00b7\"; padding: 0 .5ex}\n",
       "</style>\n",
       "<ol class=list-inline><li>'C*16:112'</li><li>'C*16:02:01'</li><li>'C*07:18:01'</li><li>'C*17:03:01'</li><li>'C*07:01:02'</li><li>'C*08:02:01'</li><li>'C*18:02:01'</li></ol>\n",
       "</li>\n",
       "\t<li><style>\n",
       ".list-inline {list-style: none; margin:0; padding: 0}\n",
       ".list-inline>li {display: inline-block}\n",
       ".list-inline>li:not(:last-child)::after {content: \"\\00b7\"; padding: 0 .5ex}\n",
       "</style>\n",
       "<ol class=list-inline><li>'DPA1*01:05'</li><li>'DPA1*02:01:07'</li><li>'DPA1*01:33:01'</li><li>'DPA1*02:01:02'</li><li>'DPA1*01:06:01'</li><li>'DPA1*03:01:01'</li><li>'DPA1*02:06'</li><li>'DPA1*03:05:01:01Q'</li></ol>\n",
       "</li>\n",
       "\t<li><style>\n",
       ".list-inline {list-style: none; margin:0; padding: 0}\n",
       ".list-inline>li {display: inline-block}\n",
       ".list-inline>li:not(:last-child)::after {content: \"\\00b7\"; padding: 0 .5ex}\n",
       "</style>\n",
       "<ol class=list-inline><li>'DPB1*09:01:01'</li><li>'DPB1*698:01'</li><li>'DPB1*519:01'</li><li>'DPB1*124:01:01'</li><li>'DPB1*40:01:01'</li><li>'DPB1*16:01:01'</li><li>'DPB1*14:01:01'</li></ol>\n",
       "</li>\n",
       "\t<li><style>\n",
       ".list-inline {list-style: none; margin:0; padding: 0}\n",
       ".list-inline>li {display: inline-block}\n",
       ".list-inline>li:not(:last-child)::after {content: \"\\00b7\"; padding: 0 .5ex}\n",
       "</style>\n",
       "<ol class=list-inline><li>'DQA1*05:09:01'</li><li>'DQA1*01:05:01'</li><li>'DQA1*04:02'</li><li>'DQA1*05:03:01'</li><li>'DQA1*04:01:02'</li></ol>\n",
       "</li>\n",
       "\t<li><style>\n",
       ".list-inline {list-style: none; margin:0; padding: 0}\n",
       ".list-inline>li {display: inline-block}\n",
       ".list-inline>li:not(:last-child)::after {content: \"\\00b7\"; padding: 0 .5ex}\n",
       "</style>\n",
       "<ol class=list-inline><li>'DQB1*04:01:01'</li><li>'DQB1*03:05:01'</li><li>'DQB1*05:01:24'</li></ol>\n",
       "</li>\n",
       "\t<li><style>\n",
       ".list-inline {list-style: none; margin:0; padding: 0}\n",
       ".list-inline>li {display: inline-block}\n",
       ".list-inline>li:not(:last-child)::after {content: \"\\00b7\"; padding: 0 .5ex}\n",
       "</style>\n",
       "<ol class=list-inline><li>'DRB1*10:01:01'</li><li>'DRB1*14:02:01'</li><li>'DRB1*11:34'</li><li>'DRB1*13:03:01'</li><li>'DRB1*08:04:01'</li><li>'DRB1*04:03:01'</li><li>'DRB1*13:04'</li><li>'DRB1*15:02:02'</li><li>'DRB1*08:02:01'</li><li>'DRB1*08:06:01'</li><li>'DRB1*11:03:01'</li></ol>\n",
       "</li>\n",
       "\t<li></li>\n",
       "</ol>\n"
      ],
      "text/latex": [
       "\\begin{enumerate}\n",
       "\\item \\begin{enumerate*}\n",
       "\\item 'A*24:25'\n",
       "\\item 'A*02:02:01'\n",
       "\\item 'A*02:06:01'\n",
       "\\item 'A*68:02:01'\n",
       "\\item 'A*36:01:01'\n",
       "\\item 'A*68:152'\n",
       "\\item 'A*68:10'\n",
       "\\item 'A*26:02:01'\n",
       "\\item 'A*02:03:01'\n",
       "\\item 'A*80:01:01'\n",
       "\\item 'A*30:04:01'\n",
       "\\item 'A*68:03:01'\n",
       "\\end{enumerate*}\n",
       "\n",
       "\\item \\begin{enumerate*}\n",
       "\\item 'B*41:01:01'\n",
       "\\item 'B*35:12:01'\n",
       "\\item 'B*15:32:01'\n",
       "\\item 'B*35:17:01'\n",
       "\\item 'B*14:02:01'\n",
       "\\item 'B*52:01:02'\n",
       "\\item 'B*35:02:01'\n",
       "\\item 'B*39:05:01'\n",
       "\\item 'B*39:01:01'\n",
       "\\item 'B*35:14:01'\n",
       "\\item 'B*35:05:01'\n",
       "\\item 'B*50:01:01'\n",
       "\\item 'B*56:01:01'\n",
       "\\item 'B*39:02:02'\n",
       "\\item 'B*58:01:01'\n",
       "\\item 'B*41:02:01'\n",
       "\\item 'B*15:16:01'\n",
       "\\item 'B*15:17:01'\n",
       "\\item 'B*40:02:01'\n",
       "\\item 'B*57:03:01'\n",
       "\\end{enumerate*}\n",
       "\n",
       "\\item \\begin{enumerate*}\n",
       "\\item 'C*16:112'\n",
       "\\item 'C*16:02:01'\n",
       "\\item 'C*07:18:01'\n",
       "\\item 'C*17:03:01'\n",
       "\\item 'C*07:01:02'\n",
       "\\item 'C*08:02:01'\n",
       "\\item 'C*18:02:01'\n",
       "\\end{enumerate*}\n",
       "\n",
       "\\item \\begin{enumerate*}\n",
       "\\item 'DPA1*01:05'\n",
       "\\item 'DPA1*02:01:07'\n",
       "\\item 'DPA1*01:33:01'\n",
       "\\item 'DPA1*02:01:02'\n",
       "\\item 'DPA1*01:06:01'\n",
       "\\item 'DPA1*03:01:01'\n",
       "\\item 'DPA1*02:06'\n",
       "\\item 'DPA1*03:05:01:01Q'\n",
       "\\end{enumerate*}\n",
       "\n",
       "\\item \\begin{enumerate*}\n",
       "\\item 'DPB1*09:01:01'\n",
       "\\item 'DPB1*698:01'\n",
       "\\item 'DPB1*519:01'\n",
       "\\item 'DPB1*124:01:01'\n",
       "\\item 'DPB1*40:01:01'\n",
       "\\item 'DPB1*16:01:01'\n",
       "\\item 'DPB1*14:01:01'\n",
       "\\end{enumerate*}\n",
       "\n",
       "\\item \\begin{enumerate*}\n",
       "\\item 'DQA1*05:09:01'\n",
       "\\item 'DQA1*01:05:01'\n",
       "\\item 'DQA1*04:02'\n",
       "\\item 'DQA1*05:03:01'\n",
       "\\item 'DQA1*04:01:02'\n",
       "\\end{enumerate*}\n",
       "\n",
       "\\item \\begin{enumerate*}\n",
       "\\item 'DQB1*04:01:01'\n",
       "\\item 'DQB1*03:05:01'\n",
       "\\item 'DQB1*05:01:24'\n",
       "\\end{enumerate*}\n",
       "\n",
       "\\item \\begin{enumerate*}\n",
       "\\item 'DRB1*10:01:01'\n",
       "\\item 'DRB1*14:02:01'\n",
       "\\item 'DRB1*11:34'\n",
       "\\item 'DRB1*13:03:01'\n",
       "\\item 'DRB1*08:04:01'\n",
       "\\item 'DRB1*04:03:01'\n",
       "\\item 'DRB1*13:04'\n",
       "\\item 'DRB1*15:02:02'\n",
       "\\item 'DRB1*08:02:01'\n",
       "\\item 'DRB1*08:06:01'\n",
       "\\item 'DRB1*11:03:01'\n",
       "\\end{enumerate*}\n",
       "\n",
       "\\item \n",
       "\\end{enumerate}\n"
      ],
      "text/markdown": [
       "1. 1. 'A*24:25'\n",
       "2. 'A*02:02:01'\n",
       "3. 'A*02:06:01'\n",
       "4. 'A*68:02:01'\n",
       "5. 'A*36:01:01'\n",
       "6. 'A*68:152'\n",
       "7. 'A*68:10'\n",
       "8. 'A*26:02:01'\n",
       "9. 'A*02:03:01'\n",
       "10. 'A*80:01:01'\n",
       "11. 'A*30:04:01'\n",
       "12. 'A*68:03:01'\n",
       "\n",
       "\n",
       "\n",
       "2. 1. 'B*41:01:01'\n",
       "2. 'B*35:12:01'\n",
       "3. 'B*15:32:01'\n",
       "4. 'B*35:17:01'\n",
       "5. 'B*14:02:01'\n",
       "6. 'B*52:01:02'\n",
       "7. 'B*35:02:01'\n",
       "8. 'B*39:05:01'\n",
       "9. 'B*39:01:01'\n",
       "10. 'B*35:14:01'\n",
       "11. 'B*35:05:01'\n",
       "12. 'B*50:01:01'\n",
       "13. 'B*56:01:01'\n",
       "14. 'B*39:02:02'\n",
       "15. 'B*58:01:01'\n",
       "16. 'B*41:02:01'\n",
       "17. 'B*15:16:01'\n",
       "18. 'B*15:17:01'\n",
       "19. 'B*40:02:01'\n",
       "20. 'B*57:03:01'\n",
       "\n",
       "\n",
       "\n",
       "3. 1. 'C*16:112'\n",
       "2. 'C*16:02:01'\n",
       "3. 'C*07:18:01'\n",
       "4. 'C*17:03:01'\n",
       "5. 'C*07:01:02'\n",
       "6. 'C*08:02:01'\n",
       "7. 'C*18:02:01'\n",
       "\n",
       "\n",
       "\n",
       "4. 1. 'DPA1*01:05'\n",
       "2. 'DPA1*02:01:07'\n",
       "3. 'DPA1*01:33:01'\n",
       "4. 'DPA1*02:01:02'\n",
       "5. 'DPA1*01:06:01'\n",
       "6. 'DPA1*03:01:01'\n",
       "7. 'DPA1*02:06'\n",
       "8. 'DPA1*03:05:01:01Q'\n",
       "\n",
       "\n",
       "\n",
       "5. 1. 'DPB1*09:01:01'\n",
       "2. 'DPB1*698:01'\n",
       "3. 'DPB1*519:01'\n",
       "4. 'DPB1*124:01:01'\n",
       "5. 'DPB1*40:01:01'\n",
       "6. 'DPB1*16:01:01'\n",
       "7. 'DPB1*14:01:01'\n",
       "\n",
       "\n",
       "\n",
       "6. 1. 'DQA1*05:09:01'\n",
       "2. 'DQA1*01:05:01'\n",
       "3. 'DQA1*04:02'\n",
       "4. 'DQA1*05:03:01'\n",
       "5. 'DQA1*04:01:02'\n",
       "\n",
       "\n",
       "\n",
       "7. 1. 'DQB1*04:01:01'\n",
       "2. 'DQB1*03:05:01'\n",
       "3. 'DQB1*05:01:24'\n",
       "\n",
       "\n",
       "\n",
       "8. 1. 'DRB1*10:01:01'\n",
       "2. 'DRB1*14:02:01'\n",
       "3. 'DRB1*11:34'\n",
       "4. 'DRB1*13:03:01'\n",
       "5. 'DRB1*08:04:01'\n",
       "6. 'DRB1*04:03:01'\n",
       "7. 'DRB1*13:04'\n",
       "8. 'DRB1*15:02:02'\n",
       "9. 'DRB1*08:02:01'\n",
       "10. 'DRB1*08:06:01'\n",
       "11. 'DRB1*11:03:01'\n",
       "\n",
       "\n",
       "\n",
       "9. \n",
       "\n",
       "\n"
      ],
      "text/plain": [
       "[[1]]\n",
       " [1] \"A*24:25\"    \"A*02:02:01\" \"A*02:06:01\" \"A*68:02:01\" \"A*36:01:01\"\n",
       " [6] \"A*68:152\"   \"A*68:10\"    \"A*26:02:01\" \"A*02:03:01\" \"A*80:01:01\"\n",
       "[11] \"A*30:04:01\" \"A*68:03:01\"\n",
       "\n",
       "[[2]]\n",
       " [1] \"B*41:01:01\" \"B*35:12:01\" \"B*15:32:01\" \"B*35:17:01\" \"B*14:02:01\"\n",
       " [6] \"B*52:01:02\" \"B*35:02:01\" \"B*39:05:01\" \"B*39:01:01\" \"B*35:14:01\"\n",
       "[11] \"B*35:05:01\" \"B*50:01:01\" \"B*56:01:01\" \"B*39:02:02\" \"B*58:01:01\"\n",
       "[16] \"B*41:02:01\" \"B*15:16:01\" \"B*15:17:01\" \"B*40:02:01\" \"B*57:03:01\"\n",
       "\n",
       "[[3]]\n",
       "[1] \"C*16:112\"   \"C*16:02:01\" \"C*07:18:01\" \"C*17:03:01\" \"C*07:01:02\"\n",
       "[6] \"C*08:02:01\" \"C*18:02:01\"\n",
       "\n",
       "[[4]]\n",
       "[1] \"DPA1*01:05\"        \"DPA1*02:01:07\"     \"DPA1*01:33:01\"    \n",
       "[4] \"DPA1*02:01:02\"     \"DPA1*01:06:01\"     \"DPA1*03:01:01\"    \n",
       "[7] \"DPA1*02:06\"        \"DPA1*03:05:01:01Q\"\n",
       "\n",
       "[[5]]\n",
       "[1] \"DPB1*09:01:01\"  \"DPB1*698:01\"    \"DPB1*519:01\"    \"DPB1*124:01:01\"\n",
       "[5] \"DPB1*40:01:01\"  \"DPB1*16:01:01\"  \"DPB1*14:01:01\" \n",
       "\n",
       "[[6]]\n",
       "[1] \"DQA1*05:09:01\" \"DQA1*01:05:01\" \"DQA1*04:02\"    \"DQA1*05:03:01\"\n",
       "[5] \"DQA1*04:01:02\"\n",
       "\n",
       "[[7]]\n",
       "[1] \"DQB1*04:01:01\" \"DQB1*03:05:01\" \"DQB1*05:01:24\"\n",
       "\n",
       "[[8]]\n",
       " [1] \"DRB1*10:01:01\" \"DRB1*14:02:01\" \"DRB1*11:34\"    \"DRB1*13:03:01\"\n",
       " [5] \"DRB1*08:04:01\" \"DRB1*04:03:01\" \"DRB1*13:04\"    \"DRB1*15:02:02\"\n",
       " [9] \"DRB1*08:02:01\" \"DRB1*08:06:01\" \"DRB1*11:03:01\"\n",
       "\n",
       "[[9]]\n",
       "character(0)\n"
      ]
     },
     "metadata": {},
     "output_type": "display_data"
    }
   ],
   "source": [
    "lowfreq"
   ]
  },
  {
   "cell_type": "code",
   "execution_count": 12,
   "metadata": {
    "vscode": {
     "languageId": "r"
    }
   },
   "outputs": [],
   "source": [
    "hlas_lowfreqrm <- purrr::map2(hlas, lowfreq, function(x, y) {\n",
    "    x[, !colnames(x) %in% y]\n",
    "})"
   ]
  },
  {
   "attachments": {},
   "cell_type": "markdown",
   "metadata": {},
   "source": [
    "hwe"
   ]
  },
  {
   "cell_type": "code",
   "execution_count": 13,
   "metadata": {
    "vscode": {
     "languageId": "r"
    }
   },
   "outputs": [],
   "source": [
    "hwe.fx <- function(x) {\n",
    "    x <- as.numeric(x)\n",
    "    # observed counts\n",
    "    a0 <- length(x[x == 0])\n",
    "    a1 <- length(x[x == 1])\n",
    "    a2 <- length(x[x == 2])\n",
    "    freq <- sum(x) / (2 * length(x))\n",
    "    # get expected frequencies\n",
    "    P_a0 <- (1 - freq)^2\n",
    "    P_a1 <- 2 * (1 - freq) * freq\n",
    "    P_a2 <- freq^2\n",
    "    chitest <- chisq.test(c(a0, a1, a2), p = c(P_a0, P_a1, P_a2)) #  Pearson's chi-squared goodness-of-fit test compared to expected frequencies\n",
    "    chitest$p.value#[chitest$p.value <= 1e-04]\n",
    "}"
   ]
  },
  {
   "cell_type": "code",
   "execution_count": 14,
   "metadata": {
    "vscode": {
     "languageId": "r"
    }
   },
   "outputs": [
    {
     "name": "stderr",
     "output_type": "stream",
     "text": [
      "Warning message in chisq.test(c(a0, a1, a2), p = c(P_a0, P_a1, P_a2)):\n",
      "\"Chi-squared approximation may be incorrect\"\n",
      "Warning message in chisq.test(c(a0, a1, a2), p = c(P_a0, P_a1, P_a2)):\n",
      "\"Chi-squared approximation may be incorrect\"\n",
      "Warning message in chisq.test(c(a0, a1, a2), p = c(P_a0, P_a1, P_a2)):\n",
      "\"Chi-squared approximation may be incorrect\"\n",
      "Warning message in chisq.test(c(a0, a1, a2), p = c(P_a0, P_a1, P_a2)):\n",
      "\"Chi-squared approximation may be incorrect\"\n",
      "Warning message in chisq.test(c(a0, a1, a2), p = c(P_a0, P_a1, P_a2)):\n",
      "\"Chi-squared approximation may be incorrect\"\n",
      "Warning message in chisq.test(c(a0, a1, a2), p = c(P_a0, P_a1, P_a2)):\n",
      "\"Chi-squared approximation may be incorrect\"\n",
      "Warning message in chisq.test(c(a0, a1, a2), p = c(P_a0, P_a1, P_a2)):\n",
      "\"Chi-squared approximation may be incorrect\"\n",
      "Warning message in chisq.test(c(a0, a1, a2), p = c(P_a0, P_a1, P_a2)):\n",
      "\"Chi-squared approximation may be incorrect\"\n",
      "Warning message in chisq.test(c(a0, a1, a2), p = c(P_a0, P_a1, P_a2)):\n",
      "\"Chi-squared approximation may be incorrect\"\n",
      "Warning message in chisq.test(c(a0, a1, a2), p = c(P_a0, P_a1, P_a2)):\n",
      "\"Chi-squared approximation may be incorrect\"\n",
      "Warning message in chisq.test(c(a0, a1, a2), p = c(P_a0, P_a1, P_a2)):\n",
      "\"Chi-squared approximation may be incorrect\"\n",
      "Warning message in chisq.test(c(a0, a1, a2), p = c(P_a0, P_a1, P_a2)):\n",
      "\"Chi-squared approximation may be incorrect\"\n",
      "Warning message in chisq.test(c(a0, a1, a2), p = c(P_a0, P_a1, P_a2)):\n",
      "\"Chi-squared approximation may be incorrect\"\n",
      "Warning message in chisq.test(c(a0, a1, a2), p = c(P_a0, P_a1, P_a2)):\n",
      "\"Chi-squared approximation may be incorrect\"\n",
      "Warning message in chisq.test(c(a0, a1, a2), p = c(P_a0, P_a1, P_a2)):\n",
      "\"Chi-squared approximation may be incorrect\"\n",
      "Warning message in chisq.test(c(a0, a1, a2), p = c(P_a0, P_a1, P_a2)):\n",
      "\"Chi-squared approximation may be incorrect\"\n",
      "Warning message in chisq.test(c(a0, a1, a2), p = c(P_a0, P_a1, P_a2)):\n",
      "\"Chi-squared approximation may be incorrect\"\n",
      "Warning message in chisq.test(c(a0, a1, a2), p = c(P_a0, P_a1, P_a2)):\n",
      "\"Chi-squared approximation may be incorrect\"\n",
      "Warning message in chisq.test(c(a0, a1, a2), p = c(P_a0, P_a1, P_a2)):\n",
      "\"Chi-squared approximation may be incorrect\"\n",
      "Warning message in chisq.test(c(a0, a1, a2), p = c(P_a0, P_a1, P_a2)):\n",
      "\"Chi-squared approximation may be incorrect\"\n",
      "Warning message in chisq.test(c(a0, a1, a2), p = c(P_a0, P_a1, P_a2)):\n",
      "\"Chi-squared approximation may be incorrect\"\n",
      "Warning message in chisq.test(c(a0, a1, a2), p = c(P_a0, P_a1, P_a2)):\n",
      "\"Chi-squared approximation may be incorrect\"\n",
      "Warning message in chisq.test(c(a0, a1, a2), p = c(P_a0, P_a1, P_a2)):\n",
      "\"Chi-squared approximation may be incorrect\"\n",
      "Warning message in chisq.test(c(a0, a1, a2), p = c(P_a0, P_a1, P_a2)):\n",
      "\"Chi-squared approximation may be incorrect\"\n",
      "Warning message in chisq.test(c(a0, a1, a2), p = c(P_a0, P_a1, P_a2)):\n",
      "\"Chi-squared approximation may be incorrect\"\n",
      "Warning message in chisq.test(c(a0, a1, a2), p = c(P_a0, P_a1, P_a2)):\n",
      "\"Chi-squared approximation may be incorrect\"\n",
      "Warning message in chisq.test(c(a0, a1, a2), p = c(P_a0, P_a1, P_a2)):\n",
      "\"Chi-squared approximation may be incorrect\"\n",
      "Warning message in chisq.test(c(a0, a1, a2), p = c(P_a0, P_a1, P_a2)):\n",
      "\"Chi-squared approximation may be incorrect\"\n",
      "Warning message in chisq.test(c(a0, a1, a2), p = c(P_a0, P_a1, P_a2)):\n",
      "\"Chi-squared approximation may be incorrect\"\n",
      "Warning message in chisq.test(c(a0, a1, a2), p = c(P_a0, P_a1, P_a2)):\n",
      "\"Chi-squared approximation may be incorrect\"\n",
      "Warning message in chisq.test(c(a0, a1, a2), p = c(P_a0, P_a1, P_a2)):\n",
      "\"Chi-squared approximation may be incorrect\"\n",
      "Warning message in chisq.test(c(a0, a1, a2), p = c(P_a0, P_a1, P_a2)):\n",
      "\"Chi-squared approximation may be incorrect\"\n",
      "Warning message in chisq.test(c(a0, a1, a2), p = c(P_a0, P_a1, P_a2)):\n",
      "\"Chi-squared approximation may be incorrect\"\n",
      "Warning message in chisq.test(c(a0, a1, a2), p = c(P_a0, P_a1, P_a2)):\n",
      "\"Chi-squared approximation may be incorrect\"\n",
      "Warning message in chisq.test(c(a0, a1, a2), p = c(P_a0, P_a1, P_a2)):\n",
      "\"Chi-squared approximation may be incorrect\"\n",
      "Warning message in chisq.test(c(a0, a1, a2), p = c(P_a0, P_a1, P_a2)):\n",
      "\"Chi-squared approximation may be incorrect\"\n",
      "Warning message in chisq.test(c(a0, a1, a2), p = c(P_a0, P_a1, P_a2)):\n",
      "\"Chi-squared approximation may be incorrect\"\n",
      "Warning message in chisq.test(c(a0, a1, a2), p = c(P_a0, P_a1, P_a2)):\n",
      "\"Chi-squared approximation may be incorrect\"\n",
      "Warning message in chisq.test(c(a0, a1, a2), p = c(P_a0, P_a1, P_a2)):\n",
      "\"Chi-squared approximation may be incorrect\"\n",
      "Warning message in chisq.test(c(a0, a1, a2), p = c(P_a0, P_a1, P_a2)):\n",
      "\"Chi-squared approximation may be incorrect\"\n",
      "Warning message in chisq.test(c(a0, a1, a2), p = c(P_a0, P_a1, P_a2)):\n",
      "\"Chi-squared approximation may be incorrect\"\n",
      "Warning message in chisq.test(c(a0, a1, a2), p = c(P_a0, P_a1, P_a2)):\n",
      "\"Chi-squared approximation may be incorrect\"\n",
      "Warning message in chisq.test(c(a0, a1, a2), p = c(P_a0, P_a1, P_a2)):\n",
      "\"Chi-squared approximation may be incorrect\"\n",
      "Warning message in chisq.test(c(a0, a1, a2), p = c(P_a0, P_a1, P_a2)):\n",
      "\"Chi-squared approximation may be incorrect\"\n",
      "Warning message in chisq.test(c(a0, a1, a2), p = c(P_a0, P_a1, P_a2)):\n",
      "\"Chi-squared approximation may be incorrect\"\n",
      "Warning message in chisq.test(c(a0, a1, a2), p = c(P_a0, P_a1, P_a2)):\n",
      "\"Chi-squared approximation may be incorrect\"\n",
      "Warning message in chisq.test(c(a0, a1, a2), p = c(P_a0, P_a1, P_a2)):\n",
      "\"Chi-squared approximation may be incorrect\"\n",
      "Warning message in chisq.test(c(a0, a1, a2), p = c(P_a0, P_a1, P_a2)):\n",
      "\"Chi-squared approximation may be incorrect\"\n",
      "Warning message in chisq.test(c(a0, a1, a2), p = c(P_a0, P_a1, P_a2)):\n",
      "\"Chi-squared approximation may be incorrect\"\n",
      "Warning message in chisq.test(c(a0, a1, a2), p = c(P_a0, P_a1, P_a2)):\n",
      "\"Chi-squared approximation may be incorrect\"\n",
      "Warning message in chisq.test(c(a0, a1, a2), p = c(P_a0, P_a1, P_a2)):\n",
      "\"Chi-squared approximation may be incorrect\"\n",
      "Warning message in chisq.test(c(a0, a1, a2), p = c(P_a0, P_a1, P_a2)):\n",
      "\"Chi-squared approximation may be incorrect\"\n",
      "Warning message in chisq.test(c(a0, a1, a2), p = c(P_a0, P_a1, P_a2)):\n",
      "\"Chi-squared approximation may be incorrect\"\n",
      "Warning message in chisq.test(c(a0, a1, a2), p = c(P_a0, P_a1, P_a2)):\n",
      "\"Chi-squared approximation may be incorrect\"\n",
      "Warning message in chisq.test(c(a0, a1, a2), p = c(P_a0, P_a1, P_a2)):\n",
      "\"Chi-squared approximation may be incorrect\"\n",
      "Warning message in chisq.test(c(a0, a1, a2), p = c(P_a0, P_a1, P_a2)):\n",
      "\"Chi-squared approximation may be incorrect\"\n",
      "Warning message in chisq.test(c(a0, a1, a2), p = c(P_a0, P_a1, P_a2)):\n",
      "\"Chi-squared approximation may be incorrect\"\n",
      "Warning message in chisq.test(c(a0, a1, a2), p = c(P_a0, P_a1, P_a2)):\n",
      "\"Chi-squared approximation may be incorrect\"\n",
      "Warning message in chisq.test(c(a0, a1, a2), p = c(P_a0, P_a1, P_a2)):\n",
      "\"Chi-squared approximation may be incorrect\"\n",
      "Warning message in chisq.test(c(a0, a1, a2), p = c(P_a0, P_a1, P_a2)):\n",
      "\"Chi-squared approximation may be incorrect\"\n",
      "Warning message in chisq.test(c(a0, a1, a2), p = c(P_a0, P_a1, P_a2)):\n",
      "\"Chi-squared approximation may be incorrect\"\n",
      "Warning message in chisq.test(c(a0, a1, a2), p = c(P_a0, P_a1, P_a2)):\n",
      "\"Chi-squared approximation may be incorrect\"\n",
      "Warning message in chisq.test(c(a0, a1, a2), p = c(P_a0, P_a1, P_a2)):\n",
      "\"Chi-squared approximation may be incorrect\"\n",
      "Warning message in chisq.test(c(a0, a1, a2), p = c(P_a0, P_a1, P_a2)):\n",
      "\"Chi-squared approximation may be incorrect\"\n",
      "Warning message in chisq.test(c(a0, a1, a2), p = c(P_a0, P_a1, P_a2)):\n",
      "\"Chi-squared approximation may be incorrect\"\n",
      "Warning message in chisq.test(c(a0, a1, a2), p = c(P_a0, P_a1, P_a2)):\n",
      "\"Chi-squared approximation may be incorrect\"\n",
      "Warning message in chisq.test(c(a0, a1, a2), p = c(P_a0, P_a1, P_a2)):\n",
      "\"Chi-squared approximation may be incorrect\"\n",
      "Warning message in chisq.test(c(a0, a1, a2), p = c(P_a0, P_a1, P_a2)):\n",
      "\"Chi-squared approximation may be incorrect\"\n",
      "Warning message in chisq.test(c(a0, a1, a2), p = c(P_a0, P_a1, P_a2)):\n",
      "\"Chi-squared approximation may be incorrect\"\n",
      "Warning message in chisq.test(c(a0, a1, a2), p = c(P_a0, P_a1, P_a2)):\n",
      "\"Chi-squared approximation may be incorrect\"\n",
      "Warning message in chisq.test(c(a0, a1, a2), p = c(P_a0, P_a1, P_a2)):\n",
      "\"Chi-squared approximation may be incorrect\"\n",
      "Warning message in chisq.test(c(a0, a1, a2), p = c(P_a0, P_a1, P_a2)):\n",
      "\"Chi-squared approximation may be incorrect\"\n",
      "Warning message in chisq.test(c(a0, a1, a2), p = c(P_a0, P_a1, P_a2)):\n",
      "\"Chi-squared approximation may be incorrect\"\n",
      "Warning message in chisq.test(c(a0, a1, a2), p = c(P_a0, P_a1, P_a2)):\n",
      "\"Chi-squared approximation may be incorrect\"\n",
      "Warning message in chisq.test(c(a0, a1, a2), p = c(P_a0, P_a1, P_a2)):\n",
      "\"Chi-squared approximation may be incorrect\"\n",
      "Warning message in chisq.test(c(a0, a1, a2), p = c(P_a0, P_a1, P_a2)):\n",
      "\"Chi-squared approximation may be incorrect\"\n",
      "Warning message in chisq.test(c(a0, a1, a2), p = c(P_a0, P_a1, P_a2)):\n",
      "\"Chi-squared approximation may be incorrect\"\n",
      "Warning message in chisq.test(c(a0, a1, a2), p = c(P_a0, P_a1, P_a2)):\n",
      "\"Chi-squared approximation may be incorrect\"\n",
      "Warning message in chisq.test(c(a0, a1, a2), p = c(P_a0, P_a1, P_a2)):\n",
      "\"Chi-squared approximation may be incorrect\"\n",
      "Warning message in chisq.test(c(a0, a1, a2), p = c(P_a0, P_a1, P_a2)):\n",
      "\"Chi-squared approximation may be incorrect\"\n",
      "Warning message in chisq.test(c(a0, a1, a2), p = c(P_a0, P_a1, P_a2)):\n",
      "\"Chi-squared approximation may be incorrect\"\n",
      "Warning message in chisq.test(c(a0, a1, a2), p = c(P_a0, P_a1, P_a2)):\n",
      "\"Chi-squared approximation may be incorrect\"\n",
      "Warning message in chisq.test(c(a0, a1, a2), p = c(P_a0, P_a1, P_a2)):\n",
      "\"Chi-squared approximation may be incorrect\"\n",
      "Warning message in chisq.test(c(a0, a1, a2), p = c(P_a0, P_a1, P_a2)):\n",
      "\"Chi-squared approximation may be incorrect\"\n",
      "Warning message in chisq.test(c(a0, a1, a2), p = c(P_a0, P_a1, P_a2)):\n",
      "\"Chi-squared approximation may be incorrect\"\n",
      "Warning message in chisq.test(c(a0, a1, a2), p = c(P_a0, P_a1, P_a2)):\n",
      "\"Chi-squared approximation may be incorrect\"\n",
      "Warning message in chisq.test(c(a0, a1, a2), p = c(P_a0, P_a1, P_a2)):\n",
      "\"Chi-squared approximation may be incorrect\"\n",
      "Warning message in chisq.test(c(a0, a1, a2), p = c(P_a0, P_a1, P_a2)):\n",
      "\"Chi-squared approximation may be incorrect\"\n",
      "Warning message in chisq.test(c(a0, a1, a2), p = c(P_a0, P_a1, P_a2)):\n",
      "\"Chi-squared approximation may be incorrect\"\n",
      "Warning message in chisq.test(c(a0, a1, a2), p = c(P_a0, P_a1, P_a2)):\n",
      "\"Chi-squared approximation may be incorrect\"\n",
      "Warning message in chisq.test(c(a0, a1, a2), p = c(P_a0, P_a1, P_a2)):\n",
      "\"Chi-squared approximation may be incorrect\"\n",
      "Warning message in chisq.test(c(a0, a1, a2), p = c(P_a0, P_a1, P_a2)):\n",
      "\"Chi-squared approximation may be incorrect\"\n",
      "Warning message in chisq.test(c(a0, a1, a2), p = c(P_a0, P_a1, P_a2)):\n",
      "\"Chi-squared approximation may be incorrect\"\n",
      "Warning message in chisq.test(c(a0, a1, a2), p = c(P_a0, P_a1, P_a2)):\n",
      "\"Chi-squared approximation may be incorrect\"\n",
      "Warning message in chisq.test(c(a0, a1, a2), p = c(P_a0, P_a1, P_a2)):\n",
      "\"Chi-squared approximation may be incorrect\"\n",
      "Warning message in chisq.test(c(a0, a1, a2), p = c(P_a0, P_a1, P_a2)):\n",
      "\"Chi-squared approximation may be incorrect\"\n",
      "Warning message in chisq.test(c(a0, a1, a2), p = c(P_a0, P_a1, P_a2)):\n",
      "\"Chi-squared approximation may be incorrect\"\n",
      "Warning message in chisq.test(c(a0, a1, a2), p = c(P_a0, P_a1, P_a2)):\n",
      "\"Chi-squared approximation may be incorrect\"\n",
      "Warning message in chisq.test(c(a0, a1, a2), p = c(P_a0, P_a1, P_a2)):\n",
      "\"Chi-squared approximation may be incorrect\"\n",
      "Warning message in chisq.test(c(a0, a1, a2), p = c(P_a0, P_a1, P_a2)):\n",
      "\"Chi-squared approximation may be incorrect\"\n",
      "Warning message in chisq.test(c(a0, a1, a2), p = c(P_a0, P_a1, P_a2)):\n",
      "\"Chi-squared approximation may be incorrect\"\n",
      "Warning message in chisq.test(c(a0, a1, a2), p = c(P_a0, P_a1, P_a2)):\n",
      "\"Chi-squared approximation may be incorrect\"\n",
      "Warning message in chisq.test(c(a0, a1, a2), p = c(P_a0, P_a1, P_a2)):\n",
      "\"Chi-squared approximation may be incorrect\"\n",
      "Warning message in chisq.test(c(a0, a1, a2), p = c(P_a0, P_a1, P_a2)):\n",
      "\"Chi-squared approximation may be incorrect\"\n",
      "Warning message in chisq.test(c(a0, a1, a2), p = c(P_a0, P_a1, P_a2)):\n",
      "\"Chi-squared approximation may be incorrect\"\n",
      "Warning message in chisq.test(c(a0, a1, a2), p = c(P_a0, P_a1, P_a2)):\n",
      "\"Chi-squared approximation may be incorrect\"\n",
      "Warning message in chisq.test(c(a0, a1, a2), p = c(P_a0, P_a1, P_a2)):\n",
      "\"Chi-squared approximation may be incorrect\"\n",
      "Warning message in chisq.test(c(a0, a1, a2), p = c(P_a0, P_a1, P_a2)):\n",
      "\"Chi-squared approximation may be incorrect\"\n",
      "Warning message in chisq.test(c(a0, a1, a2), p = c(P_a0, P_a1, P_a2)):\n",
      "\"Chi-squared approximation may be incorrect\"\n",
      "Warning message in chisq.test(c(a0, a1, a2), p = c(P_a0, P_a1, P_a2)):\n",
      "\"Chi-squared approximation may be incorrect\"\n",
      "Warning message in chisq.test(c(a0, a1, a2), p = c(P_a0, P_a1, P_a2)):\n",
      "\"Chi-squared approximation may be incorrect\"\n",
      "Warning message in chisq.test(c(a0, a1, a2), p = c(P_a0, P_a1, P_a2)):\n",
      "\"Chi-squared approximation may be incorrect\"\n",
      "Warning message in chisq.test(c(a0, a1, a2), p = c(P_a0, P_a1, P_a2)):\n",
      "\"Chi-squared approximation may be incorrect\"\n",
      "Warning message in chisq.test(c(a0, a1, a2), p = c(P_a0, P_a1, P_a2)):\n",
      "\"Chi-squared approximation may be incorrect\"\n",
      "Warning message in chisq.test(c(a0, a1, a2), p = c(P_a0, P_a1, P_a2)):\n",
      "\"Chi-squared approximation may be incorrect\"\n",
      "Warning message in chisq.test(c(a0, a1, a2), p = c(P_a0, P_a1, P_a2)):\n",
      "\"Chi-squared approximation may be incorrect\"\n",
      "Warning message in chisq.test(c(a0, a1, a2), p = c(P_a0, P_a1, P_a2)):\n",
      "\"Chi-squared approximation may be incorrect\"\n",
      "Warning message in chisq.test(c(a0, a1, a2), p = c(P_a0, P_a1, P_a2)):\n",
      "\"Chi-squared approximation may be incorrect\"\n",
      "Warning message in chisq.test(c(a0, a1, a2), p = c(P_a0, P_a1, P_a2)):\n",
      "\"Chi-squared approximation may be incorrect\"\n",
      "Warning message in chisq.test(c(a0, a1, a2), p = c(P_a0, P_a1, P_a2)):\n",
      "\"Chi-squared approximation may be incorrect\"\n",
      "Warning message in chisq.test(c(a0, a1, a2), p = c(P_a0, P_a1, P_a2)):\n",
      "\"Chi-squared approximation may be incorrect\"\n",
      "Warning message in chisq.test(c(a0, a1, a2), p = c(P_a0, P_a1, P_a2)):\n",
      "\"Chi-squared approximation may be incorrect\"\n",
      "Warning message in chisq.test(c(a0, a1, a2), p = c(P_a0, P_a1, P_a2)):\n",
      "\"Chi-squared approximation may be incorrect\"\n",
      "Warning message in chisq.test(c(a0, a1, a2), p = c(P_a0, P_a1, P_a2)):\n",
      "\"Chi-squared approximation may be incorrect\"\n",
      "Warning message in chisq.test(c(a0, a1, a2), p = c(P_a0, P_a1, P_a2)):\n",
      "\"Chi-squared approximation may be incorrect\"\n",
      "Warning message in chisq.test(c(a0, a1, a2), p = c(P_a0, P_a1, P_a2)):\n",
      "\"Chi-squared approximation may be incorrect\"\n",
      "Warning message in chisq.test(c(a0, a1, a2), p = c(P_a0, P_a1, P_a2)):\n",
      "\"Chi-squared approximation may be incorrect\"\n",
      "Warning message in chisq.test(c(a0, a1, a2), p = c(P_a0, P_a1, P_a2)):\n",
      "\"Chi-squared approximation may be incorrect\"\n",
      "Warning message in chisq.test(c(a0, a1, a2), p = c(P_a0, P_a1, P_a2)):\n",
      "\"Chi-squared approximation may be incorrect\"\n",
      "Warning message in chisq.test(c(a0, a1, a2), p = c(P_a0, P_a1, P_a2)):\n",
      "\"Chi-squared approximation may be incorrect\"\n",
      "Warning message in chisq.test(c(a0, a1, a2), p = c(P_a0, P_a1, P_a2)):\n",
      "\"Chi-squared approximation may be incorrect\"\n",
      "Warning message in chisq.test(c(a0, a1, a2), p = c(P_a0, P_a1, P_a2)):\n",
      "\"Chi-squared approximation may be incorrect\"\n",
      "Warning message in chisq.test(c(a0, a1, a2), p = c(P_a0, P_a1, P_a2)):\n",
      "\"Chi-squared approximation may be incorrect\"\n",
      "Warning message in chisq.test(c(a0, a1, a2), p = c(P_a0, P_a1, P_a2)):\n",
      "\"Chi-squared approximation may be incorrect\"\n",
      "Warning message in chisq.test(c(a0, a1, a2), p = c(P_a0, P_a1, P_a2)):\n",
      "\"Chi-squared approximation may be incorrect\"\n"
     ]
    }
   ],
   "source": [
    "hwe_chip <- lapply(hlas_lowfreqrm, function(x) {\n",
    "    apply(x, 2, hwe.fx) \n",
    "})"
   ]
  },
  {
   "cell_type": "code",
   "execution_count": 15,
   "metadata": {
    "vscode": {
     "languageId": "r"
    }
   },
   "outputs": [],
   "source": [
    "sig_hwe_chip <- lapply( hwe_chip, function(x) x[x <= 1e-04] )"
   ]
  },
  {
   "cell_type": "code",
   "execution_count": 16,
   "metadata": {
    "vscode": {
     "languageId": "r"
    }
   },
   "outputs": [
    {
     "data": {
      "text/html": [
       "<ol>\n",
       "\t<li><strong>A*32:01:01:</strong> 2.82575728711563e-15</li>\n",
       "\t<li></li>\n",
       "\t<li></li>\n",
       "\t<li></li>\n",
       "\t<li><strong>DPB1*11:01:01:</strong> 2.82575728711563e-15</li>\n",
       "\t<li></li>\n",
       "\t<li></li>\n",
       "\t<li><strong>DRB1*11:04:01:</strong> 4.79810756314435e-07</li>\n",
       "\t<li></li>\n",
       "</ol>\n"
      ],
      "text/latex": [
       "\\begin{enumerate}\n",
       "\\item \\textbf{A*32:01:01:} 2.82575728711563e-15\n",
       "\\item \n",
       "\\item \n",
       "\\item \n",
       "\\item \\textbf{DPB1*11:01:01:} 2.82575728711563e-15\n",
       "\\item \n",
       "\\item \n",
       "\\item \\textbf{DRB1*11:04:01:} 4.79810756314435e-07\n",
       "\\item \n",
       "\\end{enumerate}\n"
      ],
      "text/markdown": [
       "1. **A*32:01:01:** 2.82575728711563e-15\n",
       "2. \n",
       "3. \n",
       "4. \n",
       "5. **DPB1*11:01:01:** 2.82575728711563e-15\n",
       "6. \n",
       "7. \n",
       "8. **DRB1*11:04:01:** 4.79810756314435e-07\n",
       "9. \n",
       "\n",
       "\n"
      ],
      "text/plain": [
       "[[1]]\n",
       "  A*32:01:01 \n",
       "2.825757e-15 \n",
       "\n",
       "[[2]]\n",
       "named numeric(0)\n",
       "\n",
       "[[3]]\n",
       "named numeric(0)\n",
       "\n",
       "[[4]]\n",
       "named numeric(0)\n",
       "\n",
       "[[5]]\n",
       "DPB1*11:01:01 \n",
       " 2.825757e-15 \n",
       "\n",
       "[[6]]\n",
       "named numeric(0)\n",
       "\n",
       "[[7]]\n",
       "named numeric(0)\n",
       "\n",
       "[[8]]\n",
       "DRB1*11:04:01 \n",
       " 4.798108e-07 \n",
       "\n",
       "[[9]]\n",
       "named numeric(0)\n"
      ]
     },
     "metadata": {},
     "output_type": "display_data"
    }
   ],
   "source": [
    "sig_hwe_chip"
   ]
  },
  {
   "cell_type": "code",
   "execution_count": 17,
   "metadata": {
    "vscode": {
     "languageId": "r"
    }
   },
   "outputs": [],
   "source": [
    "hlas_lowfreqrm_hwe <- purrr::map2(hlas_lowfreqrm, sig_hwe_chip, function(x, y) {\n",
    "    x[, !colnames(x) %in% names(y)]\n",
    "})"
   ]
  },
  {
   "cell_type": "code",
   "execution_count": 18,
   "metadata": {
    "vscode": {
     "languageId": "r"
    }
   },
   "outputs": [
    {
     "data": {
      "text/html": [
       "<ol>\n",
       "\t<li><style>\n",
       ".list-inline {list-style: none; margin:0; padding: 0}\n",
       ".list-inline>li {display: inline-block}\n",
       ".list-inline>li:not(:last-child)::after {content: \"\\00b7\"; padding: 0 .5ex}\n",
       "</style>\n",
       "<ol class=list-inline><li>67</li><li>16</li></ol>\n",
       "</li>\n",
       "\t<li><style>\n",
       ".list-inline {list-style: none; margin:0; padding: 0}\n",
       ".list-inline>li {display: inline-block}\n",
       ".list-inline>li:not(:last-child)::after {content: \"\\00b7\"; padding: 0 .5ex}\n",
       "</style>\n",
       "<ol class=list-inline><li>67</li><li>21</li></ol>\n",
       "</li>\n",
       "\t<li><style>\n",
       ".list-inline {list-style: none; margin:0; padding: 0}\n",
       ".list-inline>li {display: inline-block}\n",
       ".list-inline>li:not(:last-child)::after {content: \"\\00b7\"; padding: 0 .5ex}\n",
       "</style>\n",
       "<ol class=list-inline><li>67</li><li>15</li></ol>\n",
       "</li>\n",
       "\t<li><style>\n",
       ".list-inline {list-style: none; margin:0; padding: 0}\n",
       ".list-inline>li {display: inline-block}\n",
       ".list-inline>li:not(:last-child)::after {content: \"\\00b7\"; padding: 0 .5ex}\n",
       "</style>\n",
       "<ol class=list-inline><li>67</li><li>4</li></ol>\n",
       "</li>\n",
       "\t<li><style>\n",
       ".list-inline {list-style: none; margin:0; padding: 0}\n",
       ".list-inline>li {display: inline-block}\n",
       ".list-inline>li:not(:last-child)::after {content: \"\\00b7\"; padding: 0 .5ex}\n",
       "</style>\n",
       "<ol class=list-inline><li>67</li><li>16</li></ol>\n",
       "</li>\n",
       "\t<li><style>\n",
       ".list-inline {list-style: none; margin:0; padding: 0}\n",
       ".list-inline>li {display: inline-block}\n",
       ".list-inline>li:not(:last-child)::after {content: \"\\00b7\"; padding: 0 .5ex}\n",
       "</style>\n",
       "<ol class=list-inline><li>67</li><li>13</li></ol>\n",
       "</li>\n",
       "\t<li><style>\n",
       ".list-inline {list-style: none; margin:0; padding: 0}\n",
       ".list-inline>li {display: inline-block}\n",
       ".list-inline>li:not(:last-child)::after {content: \"\\00b7\"; padding: 0 .5ex}\n",
       "</style>\n",
       "<ol class=list-inline><li>67</li><li>15</li></ol>\n",
       "</li>\n",
       "\t<li><style>\n",
       ".list-inline {list-style: none; margin:0; padding: 0}\n",
       ".list-inline>li {display: inline-block}\n",
       ".list-inline>li:not(:last-child)::after {content: \"\\00b7\"; padding: 0 .5ex}\n",
       "</style>\n",
       "<ol class=list-inline><li>67</li><li>22</li></ol>\n",
       "</li>\n",
       "\t<li><style>\n",
       ".list-inline {list-style: none; margin:0; padding: 0}\n",
       ".list-inline>li {display: inline-block}\n",
       ".list-inline>li:not(:last-child)::after {content: \"\\00b7\"; padding: 0 .5ex}\n",
       "</style>\n",
       "<ol class=list-inline><li>67</li><li>12</li></ol>\n",
       "</li>\n",
       "</ol>\n"
      ],
      "text/latex": [
       "\\begin{enumerate}\n",
       "\\item \\begin{enumerate*}\n",
       "\\item 67\n",
       "\\item 16\n",
       "\\end{enumerate*}\n",
       "\n",
       "\\item \\begin{enumerate*}\n",
       "\\item 67\n",
       "\\item 21\n",
       "\\end{enumerate*}\n",
       "\n",
       "\\item \\begin{enumerate*}\n",
       "\\item 67\n",
       "\\item 15\n",
       "\\end{enumerate*}\n",
       "\n",
       "\\item \\begin{enumerate*}\n",
       "\\item 67\n",
       "\\item 4\n",
       "\\end{enumerate*}\n",
       "\n",
       "\\item \\begin{enumerate*}\n",
       "\\item 67\n",
       "\\item 16\n",
       "\\end{enumerate*}\n",
       "\n",
       "\\item \\begin{enumerate*}\n",
       "\\item 67\n",
       "\\item 13\n",
       "\\end{enumerate*}\n",
       "\n",
       "\\item \\begin{enumerate*}\n",
       "\\item 67\n",
       "\\item 15\n",
       "\\end{enumerate*}\n",
       "\n",
       "\\item \\begin{enumerate*}\n",
       "\\item 67\n",
       "\\item 22\n",
       "\\end{enumerate*}\n",
       "\n",
       "\\item \\begin{enumerate*}\n",
       "\\item 67\n",
       "\\item 12\n",
       "\\end{enumerate*}\n",
       "\n",
       "\\end{enumerate}\n"
      ],
      "text/markdown": [
       "1. 1. 67\n",
       "2. 16\n",
       "\n",
       "\n",
       "\n",
       "2. 1. 67\n",
       "2. 21\n",
       "\n",
       "\n",
       "\n",
       "3. 1. 67\n",
       "2. 15\n",
       "\n",
       "\n",
       "\n",
       "4. 1. 67\n",
       "2. 4\n",
       "\n",
       "\n",
       "\n",
       "5. 1. 67\n",
       "2. 16\n",
       "\n",
       "\n",
       "\n",
       "6. 1. 67\n",
       "2. 13\n",
       "\n",
       "\n",
       "\n",
       "7. 1. 67\n",
       "2. 15\n",
       "\n",
       "\n",
       "\n",
       "8. 1. 67\n",
       "2. 22\n",
       "\n",
       "\n",
       "\n",
       "9. 1. 67\n",
       "2. 12\n",
       "\n",
       "\n",
       "\n",
       "\n",
       "\n"
      ],
      "text/plain": [
       "[[1]]\n",
       "[1] 67 16\n",
       "\n",
       "[[2]]\n",
       "[1] 67 21\n",
       "\n",
       "[[3]]\n",
       "[1] 67 15\n",
       "\n",
       "[[4]]\n",
       "[1] 67  4\n",
       "\n",
       "[[5]]\n",
       "[1] 67 16\n",
       "\n",
       "[[6]]\n",
       "[1] 67 13\n",
       "\n",
       "[[7]]\n",
       "[1] 67 15\n",
       "\n",
       "[[8]]\n",
       "[1] 67 22\n",
       "\n",
       "[[9]]\n",
       "[1] 67 12\n"
      ]
     },
     "metadata": {},
     "output_type": "display_data"
    }
   ],
   "source": [
    "lapply(hlas_lowfreqrm_hwe, function(x)dim(x))"
   ]
  },
  {
   "cell_type": "code",
   "execution_count": 19,
   "metadata": {
    "vscode": {
     "languageId": "r"
    }
   },
   "outputs": [],
   "source": [
    "allhlas <- hlas_lowfreqrm_hwe[[1]]"
   ]
  },
  {
   "cell_type": "code",
   "execution_count": 20,
   "metadata": {
    "vscode": {
     "languageId": "r"
    }
   },
   "outputs": [],
   "source": [
    "for(i in 2:length(hlas_lowfreqrm_hwe)){\n",
    "x <- hlas_lowfreqrm_hwe[[i]]\n",
    "x <- x[rownames(allhlas),] # make sure the same rows are in the same order\n",
    "allhlas <- cbind(allhlas, x)\n",
    "}"
   ]
  },
  {
   "cell_type": "code",
   "execution_count": 21,
   "metadata": {
    "vscode": {
     "languageId": "r"
    }
   },
   "outputs": [
    {
     "data": {
      "text/html": [
       "<table class=\"dataframe\">\n",
       "<caption>A data.frame: 6 x 134</caption>\n",
       "<thead>\n",
       "\t<tr><th></th><th scope=col>A*02:01:01</th><th scope=col>A*01:01:01</th><th scope=col>A*11:01:01</th><th scope=col>A*26:01:01</th><th scope=col>A*31:01:02</th><th scope=col>A*03:01:01</th><th scope=col>A*02:05:01</th><th scope=col>A*23:01:01</th><th scope=col>A*24:02:01</th><th scope=col>A*30:01:01</th><th scope=col>...</th><th scope=col>DRB345*Not_Present</th><th scope=col>DRB5*01:01:01</th><th scope=col>DRB4*01:03:01</th><th scope=col>DRB3*03:01:01</th><th scope=col>DRB4*01:01:01</th><th scope=col>DRB3*01:62:01</th><th scope=col>DRB4*01:03:02</th><th scope=col>DRB5*02:02:01</th><th scope=col>DRB5*01:02:01</th><th scope=col>DRB4*01:03:01:02N</th></tr>\n",
       "\t<tr><th></th><th scope=col>&lt;int&gt;</th><th scope=col>&lt;int&gt;</th><th scope=col>&lt;int&gt;</th><th scope=col>&lt;int&gt;</th><th scope=col>&lt;int&gt;</th><th scope=col>&lt;int&gt;</th><th scope=col>&lt;int&gt;</th><th scope=col>&lt;int&gt;</th><th scope=col>&lt;int&gt;</th><th scope=col>&lt;int&gt;</th><th scope=col>...</th><th scope=col>&lt;int&gt;</th><th scope=col>&lt;int&gt;</th><th scope=col>&lt;int&gt;</th><th scope=col>&lt;int&gt;</th><th scope=col>&lt;int&gt;</th><th scope=col>&lt;int&gt;</th><th scope=col>&lt;int&gt;</th><th scope=col>&lt;int&gt;</th><th scope=col>&lt;int&gt;</th><th scope=col>&lt;int&gt;</th></tr>\n",
       "</thead>\n",
       "<tbody>\n",
       "\t<tr><th scope=row>315-05</th><td>1</td><td>0</td><td>0</td><td>0</td><td>0</td><td>0</td><td>1</td><td>0</td><td>0</td><td>0</td><td>...</td><td>0</td><td>0</td><td>0</td><td>1</td><td>0</td><td>0</td><td>0</td><td>0</td><td>0</td><td>0</td></tr>\n",
       "\t<tr><th scope=row>319-05</th><td>0</td><td>1</td><td>0</td><td>0</td><td>0</td><td>1</td><td>0</td><td>0</td><td>0</td><td>0</td><td>...</td><td>0</td><td>0</td><td>0</td><td>0</td><td>0</td><td>0</td><td>0</td><td>0</td><td>0</td><td>0</td></tr>\n",
       "\t<tr><th scope=row>323-03</th><td>0</td><td>0</td><td>1</td><td>0</td><td>0</td><td>0</td><td>0</td><td>1</td><td>0</td><td>0</td><td>...</td><td>1</td><td>0</td><td>1</td><td>0</td><td>0</td><td>0</td><td>0</td><td>0</td><td>0</td><td>0</td></tr>\n",
       "\t<tr><th scope=row>329-04</th><td>0</td><td>0</td><td>0</td><td>2</td><td>0</td><td>0</td><td>0</td><td>0</td><td>0</td><td>0</td><td>...</td><td>0</td><td>1</td><td>0</td><td>0</td><td>0</td><td>0</td><td>0</td><td>1</td><td>0</td><td>0</td></tr>\n",
       "\t<tr><th scope=row>330-05</th><td>1</td><td>0</td><td>0</td><td>0</td><td>0</td><td>0</td><td>0</td><td>0</td><td>0</td><td>0</td><td>...</td><td>0</td><td>0</td><td>1</td><td>0</td><td>0</td><td>0</td><td>0</td><td>0</td><td>0</td><td>0</td></tr>\n",
       "\t<tr><th scope=row>331-04</th><td>1</td><td>0</td><td>0</td><td>1</td><td>0</td><td>0</td><td>0</td><td>0</td><td>0</td><td>0</td><td>...</td><td>1</td><td>0</td><td>1</td><td>0</td><td>0</td><td>0</td><td>0</td><td>0</td><td>0</td><td>0</td></tr>\n",
       "</tbody>\n",
       "</table>\n"
      ],
      "text/latex": [
       "A data.frame: 6 x 134\n",
       "\\begin{tabular}{r|lllllllllllllllllllll}\n",
       "  & A*02:01:01 & A*01:01:01 & A*11:01:01 & A*26:01:01 & A*31:01:02 & A*03:01:01 & A*02:05:01 & A*23:01:01 & A*24:02:01 & A*30:01:01 & ... & DRB345*Not\\_Present & DRB5*01:01:01 & DRB4*01:03:01 & DRB3*03:01:01 & DRB4*01:01:01 & DRB3*01:62:01 & DRB4*01:03:02 & DRB5*02:02:01 & DRB5*01:02:01 & DRB4*01:03:01:02N\\\\\n",
       "  & <int> & <int> & <int> & <int> & <int> & <int> & <int> & <int> & <int> & <int> & ... & <int> & <int> & <int> & <int> & <int> & <int> & <int> & <int> & <int> & <int>\\\\\n",
       "\\hline\n",
       "\t315-05 & 1 & 0 & 0 & 0 & 0 & 0 & 1 & 0 & 0 & 0 & ... & 0 & 0 & 0 & 1 & 0 & 0 & 0 & 0 & 0 & 0\\\\\n",
       "\t319-05 & 0 & 1 & 0 & 0 & 0 & 1 & 0 & 0 & 0 & 0 & ... & 0 & 0 & 0 & 0 & 0 & 0 & 0 & 0 & 0 & 0\\\\\n",
       "\t323-03 & 0 & 0 & 1 & 0 & 0 & 0 & 0 & 1 & 0 & 0 & ... & 1 & 0 & 1 & 0 & 0 & 0 & 0 & 0 & 0 & 0\\\\\n",
       "\t329-04 & 0 & 0 & 0 & 2 & 0 & 0 & 0 & 0 & 0 & 0 & ... & 0 & 1 & 0 & 0 & 0 & 0 & 0 & 1 & 0 & 0\\\\\n",
       "\t330-05 & 1 & 0 & 0 & 0 & 0 & 0 & 0 & 0 & 0 & 0 & ... & 0 & 0 & 1 & 0 & 0 & 0 & 0 & 0 & 0 & 0\\\\\n",
       "\t331-04 & 1 & 0 & 0 & 1 & 0 & 0 & 0 & 0 & 0 & 0 & ... & 1 & 0 & 1 & 0 & 0 & 0 & 0 & 0 & 0 & 0\\\\\n",
       "\\end{tabular}\n"
      ],
      "text/markdown": [
       "\n",
       "A data.frame: 6 x 134\n",
       "\n",
       "| <!--/--> | A*02:01:01 &lt;int&gt; | A*01:01:01 &lt;int&gt; | A*11:01:01 &lt;int&gt; | A*26:01:01 &lt;int&gt; | A*31:01:02 &lt;int&gt; | A*03:01:01 &lt;int&gt; | A*02:05:01 &lt;int&gt; | A*23:01:01 &lt;int&gt; | A*24:02:01 &lt;int&gt; | A*30:01:01 &lt;int&gt; | ... ... | DRB345*Not_Present &lt;int&gt; | DRB5*01:01:01 &lt;int&gt; | DRB4*01:03:01 &lt;int&gt; | DRB3*03:01:01 &lt;int&gt; | DRB4*01:01:01 &lt;int&gt; | DRB3*01:62:01 &lt;int&gt; | DRB4*01:03:02 &lt;int&gt; | DRB5*02:02:01 &lt;int&gt; | DRB5*01:02:01 &lt;int&gt; | DRB4*01:03:01:02N &lt;int&gt; |\n",
       "|---|---|---|---|---|---|---|---|---|---|---|---|---|---|---|---|---|---|---|---|---|---|\n",
       "| 315-05 | 1 | 0 | 0 | 0 | 0 | 0 | 1 | 0 | 0 | 0 | ... | 0 | 0 | 0 | 1 | 0 | 0 | 0 | 0 | 0 | 0 |\n",
       "| 319-05 | 0 | 1 | 0 | 0 | 0 | 1 | 0 | 0 | 0 | 0 | ... | 0 | 0 | 0 | 0 | 0 | 0 | 0 | 0 | 0 | 0 |\n",
       "| 323-03 | 0 | 0 | 1 | 0 | 0 | 0 | 0 | 1 | 0 | 0 | ... | 1 | 0 | 1 | 0 | 0 | 0 | 0 | 0 | 0 | 0 |\n",
       "| 329-04 | 0 | 0 | 0 | 2 | 0 | 0 | 0 | 0 | 0 | 0 | ... | 0 | 1 | 0 | 0 | 0 | 0 | 0 | 1 | 0 | 0 |\n",
       "| 330-05 | 1 | 0 | 0 | 0 | 0 | 0 | 0 | 0 | 0 | 0 | ... | 0 | 0 | 1 | 0 | 0 | 0 | 0 | 0 | 0 | 0 |\n",
       "| 331-04 | 1 | 0 | 0 | 1 | 0 | 0 | 0 | 0 | 0 | 0 | ... | 1 | 0 | 1 | 0 | 0 | 0 | 0 | 0 | 0 | 0 |\n",
       "\n"
      ],
      "text/plain": [
       "       A*02:01:01 A*01:01:01 A*11:01:01 A*26:01:01 A*31:01:02 A*03:01:01\n",
       "315-05 1          0          0          0          0          0         \n",
       "319-05 0          1          0          0          0          1         \n",
       "323-03 0          0          1          0          0          0         \n",
       "329-04 0          0          0          2          0          0         \n",
       "330-05 1          0          0          0          0          0         \n",
       "331-04 1          0          0          1          0          0         \n",
       "       A*02:05:01 A*23:01:01 A*24:02:01 A*30:01:01 ... DRB345*Not_Present\n",
       "315-05 1          0          0          0          ... 0                 \n",
       "319-05 0          0          0          0          ... 0                 \n",
       "323-03 0          1          0          0          ... 1                 \n",
       "329-04 0          0          0          0          ... 0                 \n",
       "330-05 0          0          0          0          ... 0                 \n",
       "331-04 0          0          0          0          ... 1                 \n",
       "       DRB5*01:01:01 DRB4*01:03:01 DRB3*03:01:01 DRB4*01:01:01 DRB3*01:62:01\n",
       "315-05 0             0             1             0             0            \n",
       "319-05 0             0             0             0             0            \n",
       "323-03 0             1             0             0             0            \n",
       "329-04 1             0             0             0             0            \n",
       "330-05 0             1             0             0             0            \n",
       "331-04 0             1             0             0             0            \n",
       "       DRB4*01:03:02 DRB5*02:02:01 DRB5*01:02:01 DRB4*01:03:01:02N\n",
       "315-05 0             0             0             0                \n",
       "319-05 0             0             0             0                \n",
       "323-03 0             0             0             0                \n",
       "329-04 0             1             0             0                \n",
       "330-05 0             0             0             0                \n",
       "331-04 0             0             0             0                "
      ]
     },
     "metadata": {},
     "output_type": "display_data"
    }
   ],
   "source": [
    "head(allhlas)"
   ]
  },
  {
   "attachments": {},
   "cell_type": "markdown",
   "metadata": {},
   "source": [
    "LD pruning"
   ]
  },
  {
   "cell_type": "code",
   "execution_count": 22,
   "metadata": {
    "vscode": {
     "languageId": "r"
    }
   },
   "outputs": [],
   "source": [
    "cormat <- cor(allhlas)\n",
    "\n",
    "remove <- c()\n",
    "for( i in 1:ncol(allhlas) ){    \n",
    "    if( is.element(i, remove) ){ next } else {\n",
    "        r2 <- cormat[,i]^2\n",
    "        ldmarker <- ( 1:ncol(allhlas) )[ r2 > 0.5 ]\n",
    "        ldmarker <- setdiff(ldmarker, i) #keep self\n",
    "        remove <- c(remove, ldmarker)\n",
    "    }\n",
    "}"
   ]
  },
  {
   "cell_type": "code",
   "execution_count": 23,
   "metadata": {
    "vscode": {
     "languageId": "r"
    }
   },
   "outputs": [
    {
     "data": {
      "text/html": [
       "<table class=\"dataframe\">\n",
       "<caption>A matrix: 44 x 44 of type dbl</caption>\n",
       "<thead>\n",
       "\t<tr><th></th><th scope=col>B*08:01:01</th><th scope=col>C*07:04:01</th><th scope=col>DPB1*01:01:02</th><th scope=col>DRB1*04:07:01</th><th scope=col>C*07:02:01</th><th scope=col>C*12:03:01</th><th scope=col>C*02:02:02</th><th scope=col>C*17:01:01</th><th scope=col>C*02:10:01</th><th scope=col>C*03:04:01</th><th scope=col>...</th><th scope=col>DRB1*09:01:02</th><th scope=col>DRB4*01:03:02</th><th scope=col>DRB1*11:01:02</th><th scope=col>DRB1*13:02:01</th><th scope=col>DRB3*03:01:01</th><th scope=col>DQB1*04:02:01</th><th scope=col>DRB3*01:62:01</th><th scope=col>DRB5*01:02:01</th><th scope=col>DQB1*05:01:01</th><th scope=col>DQB1*02:02:01</th></tr>\n",
       "</thead>\n",
       "<tbody>\n",
       "\t<tr><th scope=row>B*08:01:01</th><td> 1.00000000</td><td>-0.08606630</td><td>-0.08606630</td><td>-0.08606630</td><td>-0.10474044</td><td>-0.243440571</td><td> 0.14791073</td><td>-0.10622957</td><td>-0.08606630</td><td>-0.082597366</td><td>...</td><td>-0.13933620</td><td>-0.10622957</td><td>-0.08606630</td><td>-0.15388118</td><td>-0.15388118</td><td> 0.079190896</td><td>-0.08606630</td><td>-0.08606630</td><td>-0.066507516</td><td> 0.023073301</td></tr>\n",
       "\t<tr><th scope=row>C*07:04:01</th><td>-0.08606630</td><td> 1.00000000</td><td>-0.03076923</td><td>-0.03076923</td><td> 0.14411534</td><td> 0.107338853</td><td>-0.04981355</td><td>-0.03797773</td><td>-0.03076923</td><td>-0.069098016</td><td>...</td><td>-0.04981355</td><td>-0.03797773</td><td>-0.03076923</td><td>-0.05501347</td><td>-0.05501347</td><td>-0.059914469</td><td>-0.03076923</td><td> 0.48461538</td><td> 0.125571470</td><td>-0.097022155</td></tr>\n",
       "\t<tr><th scope=row>DPB1*01:01:02</th><td>-0.08606630</td><td>-0.03076923</td><td> 1.00000000</td><td>-0.03076923</td><td>-0.07045639</td><td>-0.087031502</td><td>-0.04981355</td><td>-0.03797773</td><td>-0.03076923</td><td>-0.069098016</td><td>...</td><td>-0.04981355</td><td>-0.03797773</td><td> 0.48461538</td><td>-0.05501347</td><td>-0.05501347</td><td>-0.059914469</td><td>-0.03076923</td><td>-0.03076923</td><td> 0.125571470</td><td> 0.074043224</td></tr>\n",
       "\t<tr><th scope=row>DRB1*04:07:01</th><td>-0.08606630</td><td>-0.03076923</td><td>-0.03076923</td><td> 1.00000000</td><td>-0.07045639</td><td> 0.107338853</td><td> 0.28393722</td><td>-0.03797773</td><td>-0.03076923</td><td> 0.188100155</td><td>...</td><td>-0.04981355</td><td>-0.03797773</td><td>-0.03076923</td><td>-0.05501347</td><td>-0.05501347</td><td>-0.059914469</td><td>-0.03076923</td><td>-0.03076923</td><td>-0.090153876</td><td>-0.097022155</td></tr>\n",
       "\t<tr><th scope=row>C*07:02:01</th><td>-0.10474044</td><td> 0.14411534</td><td>-0.07045639</td><td>-0.07045639</td><td> 1.00000000</td><td>-0.037441907</td><td>-0.11406469</td><td>-0.08696264</td><td>-0.07045639</td><td>-0.158222889</td><td>...</td><td>-0.11406469</td><td>-0.08696264</td><td>-0.07045639</td><td>-0.12597163</td><td>-0.12597163</td><td>-0.017817416</td><td>-0.07045639</td><td>-0.07045639</td><td> 0.063003587</td><td>-0.150944297</td></tr>\n",
       "\t<tr><th scope=row>C*12:03:01</th><td>-0.24344057</td><td> 0.10733885</td><td>-0.08703150</td><td> 0.10733885</td><td>-0.03744191</td><td> 1.000000000</td><td>-0.01502921</td><td>-0.10742090</td><td>-0.08703150</td><td>-0.098446564</td><td>...</td><td>-0.14089881</td><td>-0.10742090</td><td>-0.08703150</td><td> 0.19191518</td><td> 0.19191518</td><td>-0.061331820</td><td>-0.08703150</td><td> 0.10733885</td><td>-0.010928674</td><td>-0.080884478</td></tr>\n",
       "\t<tr><th scope=row>C*02:02:02</th><td> 0.14791073</td><td>-0.04981355</td><td>-0.04981355</td><td> 0.28393722</td><td>-0.11406469</td><td>-0.015029206</td><td> 1.00000000</td><td>-0.06148367</td><td>-0.04981355</td><td> 0.054689831</td><td>...</td><td>-0.08064516</td><td>-0.06148367</td><td>-0.04981355</td><td>-0.08906352</td><td>-0.08906352</td><td>-0.096997949</td><td>-0.04981355</td><td>-0.04981355</td><td>-0.006255160</td><td> 0.064482632</td></tr>\n",
       "\t<tr><th scope=row>C*17:01:01</th><td>-0.10622957</td><td>-0.03797773</td><td>-0.03797773</td><td>-0.03797773</td><td>-0.08696264</td><td>-0.107420904</td><td>-0.06148367</td><td> 1.00000000</td><td>-0.03797773</td><td>-0.085286030</td><td>...</td><td>-0.06148367</td><td>-0.04687500</td><td> 0.38610688</td><td> 0.18484381</td><td> 0.18484381</td><td> 0.161987899</td><td> 0.38610688</td><td>-0.03797773</td><td> 0.243744744</td><td>-0.119752127</td></tr>\n",
       "\t<tr><th scope=row>C*02:10:01</th><td>-0.08606630</td><td>-0.03076923</td><td>-0.03076923</td><td>-0.03076923</td><td>-0.07045639</td><td>-0.087031502</td><td>-0.04981355</td><td>-0.03797773</td><td> 1.00000000</td><td> 0.188100155</td><td>...</td><td>-0.04981355</td><td>-0.03797773</td><td>-0.03076923</td><td> 0.25214506</td><td> 0.25214506</td><td>-0.059914469</td><td>-0.03076923</td><td>-0.03076923</td><td> 0.125571470</td><td> 0.245108602</td></tr>\n",
       "\t<tr><th scope=row>C*03:04:01</th><td>-0.08259737</td><td>-0.06909802</td><td>-0.06909802</td><td> 0.18810015</td><td>-0.15822289</td><td>-0.098446564</td><td> 0.05468983</td><td>-0.08528603</td><td> 0.18810015</td><td> 1.000000000</td><td>...</td><td> 0.05468983</td><td> 0.12634967</td><td>-0.06909802</td><td> 0.02974182</td><td> 0.02974182</td><td> 0.008542797</td><td>-0.06909802</td><td> 0.18810015</td><td> 0.012854429</td><td>-0.047143896</td></tr>\n",
       "\t<tr><th scope=row>DRB4*01:03:01:02N</th><td> 0.07626739</td><td>-0.03797773</td><td>-0.03797773</td><td>-0.03797773</td><td>-0.08696264</td><td> 0.052516886</td><td>-0.06148367</td><td>-0.04687500</td><td>-0.03797773</td><td>-0.085286030</td><td>...</td><td>-0.06148367</td><td>-0.04687500</td><td>-0.03797773</td><td>-0.06790181</td><td>-0.06790181</td><td>-0.073950997</td><td>-0.03797773</td><td>-0.03797773</td><td>-0.111274775</td><td> 0.021009145</td></tr>\n",
       "\t<tr><th scope=row>DPB1*01:01:01</th><td>-0.08259737</td><td>-0.06909802</td><td>-0.06909802</td><td>-0.06909802</td><td>-0.15822289</td><td>-0.195445385</td><td> 0.22124523</td><td> 0.12634967</td><td>-0.06909802</td><td>-0.155172414</td><td>...</td><td> 0.22124523</td><td>-0.08528603</td><td> 0.18810015</td><td> 0.02974182</td><td> 0.02974182</td><td> 0.151634650</td><td> 0.44529833</td><td>-0.06909802</td><td> 0.012854429</td><td> 0.123593457</td></tr>\n",
       "\t<tr><th scope=row>DPB1*19:01:01</th><td>-0.08606630</td><td>-0.03076923</td><td>-0.03076923</td><td> 0.48461538</td><td> 0.14411534</td><td> 0.107338853</td><td>-0.04981355</td><td>-0.03797773</td><td>-0.03076923</td><td>-0.069098016</td><td>...</td><td>-0.04981355</td><td>-0.03797773</td><td>-0.03076923</td><td>-0.05501347</td><td>-0.05501347</td><td>-0.059914469</td><td>-0.03076923</td><td>-0.03076923</td><td> 0.125571470</td><td>-0.097022155</td></tr>\n",
       "\t<tr><th scope=row>DQB1*06:02:01</th><td>-0.02589119</td><td>-0.10228166</td><td> 0.09927338</td><td>-0.10228166</td><td> 0.43710456</td><td>-0.061264825</td><td>-0.03506567</td><td>-0.12624381</td><td>-0.10228166</td><td> 0.072060376</td><td>...</td><td>-0.16558791</td><td>-0.12624381</td><td> 0.09927338</td><td>-0.06275062</td><td>-0.06275062</td><td>-0.087030051</td><td>-0.10228166</td><td>-0.10228166</td><td>-0.215320161</td><td>-0.188717136</td></tr>\n",
       "\t<tr><th scope=row>DRB1*15:01:01</th><td>-0.08243544</td><td>-0.09421114</td><td>-0.09421114</td><td>-0.09421114</td><td> 0.39746203</td><td>-0.028424370</td><td>-0.01626904</td><td>-0.11628256</td><td>-0.09421114</td><td> 0.103433539</td><td>...</td><td>-0.15252222</td><td>-0.11628256</td><td>-0.09421114</td><td>-0.04304671</td><td>-0.04304671</td><td>-0.066391373</td><td>-0.09421114</td><td>-0.09421114</td><td>-0.187969239</td><td>-0.157394170</td></tr>\n",
       "\t<tr><th scope=row>DRB5*01:01:01</th><td>-0.09777281</td><td>-0.09825015</td><td>-0.09825015</td><td>-0.09825015</td><td> 0.37453457</td><td> 0.032422004</td><td>-0.02584743</td><td>-0.12126781</td><td>-0.09825015</td><td> 0.087336247</td><td>...</td><td>-0.15906113</td><td>-0.12126781</td><td>-0.09825015</td><td>-0.05306551</td><td>-0.05306551</td><td>-0.076867506</td><td>-0.09825015</td><td>-0.09825015</td><td>-0.201768154</td><td>-0.173245849</td></tr>\n",
       "\t<tr><th scope=row>DQB1*02:01:01</th><td> 0.64183005</td><td>-0.07347184</td><td>-0.07347184</td><td>-0.07347184</td><td> 0.03670652</td><td>-0.207816838</td><td> 0.19983015</td><td>-0.09068453</td><td>-0.07347184</td><td>-0.164994638</td><td>...</td><td>-0.11894652</td><td>-0.09068453</td><td>-0.07347184</td><td>-0.13136307</td><td>-0.13136307</td><td>-0.006131393</td><td>-0.07347184</td><td>-0.07347184</td><td>-0.215272550</td><td> 0.013412640</td></tr>\n",
       "\t<tr><th scope=row>DRB1*03:01:01</th><td> 0.64183005</td><td>-0.07347184</td><td>-0.07347184</td><td>-0.07347184</td><td> 0.03670652</td><td>-0.207816838</td><td> 0.19983015</td><td>-0.09068453</td><td>-0.07347184</td><td>-0.164994638</td><td>...</td><td>-0.11894652</td><td>-0.09068453</td><td>-0.07347184</td><td>-0.13136307</td><td>-0.13136307</td><td>-0.006131393</td><td>-0.07347184</td><td>-0.07347184</td><td>-0.215272550</td><td> 0.013412640</td></tr>\n",
       "\t<tr><th scope=row>DRB1*01:02:01</th><td>-0.12363303</td><td>-0.04419957</td><td> 0.32597183</td><td>-0.04419957</td><td>-0.10120962</td><td> 0.014585613</td><td>-0.07155647</td><td> 0.25004133</td><td>-0.04419957</td><td>-0.099258333</td><td>...</td><td>-0.07155647</td><td>-0.05455447</td><td>-0.04419957</td><td>-0.07902608</td><td>-0.07902608</td><td>-0.086066297</td><td>-0.04419957</td><td>-0.04419957</td><td> 0.490268102</td><td> 0.106362055</td></tr>\n",
       "\t<tr><th scope=row>DQB1*02:02:01</th><td> 0.02307330</td><td>-0.09702216</td><td> 0.07404322</td><td>-0.09702216</td><td>-0.15094430</td><td>-0.080884478</td><td> 0.06448263</td><td>-0.11975213</td><td> 0.24510860</td><td>-0.047143896</td><td>...</td><td> 0.06448263</td><td>-0.11975213</td><td>-0.09702216</td><td>-0.07151816</td><td>-0.07151816</td><td>-0.093751513</td><td> 0.07404322</td><td>-0.09702216</td><td> 0.002137406</td><td> 1.000000000</td></tr>\n",
       "\t<tr><th scope=row>DRB1*07:01:01</th><td> 0.02307330</td><td>-0.09702216</td><td> 0.07404322</td><td>-0.09702216</td><td>-0.15094430</td><td>-0.016369478</td><td> 0.06448263</td><td>-0.11975213</td><td> 0.24510860</td><td>-0.047143896</td><td>...</td><td>-0.15707308</td><td>-0.11975213</td><td>-0.09702216</td><td>-0.07151816</td><td>-0.07151816</td><td>-0.188923504</td><td>-0.09702216</td><td>-0.09702216</td><td> 0.002137406</td><td> 0.886440678</td></tr>\n",
       "\t<tr><th scope=row>DQB1*05:01:01</th><td>-0.06650752</td><td> 0.12557147</td><td> 0.12557147</td><td>-0.09015388</td><td> 0.06300359</td><td>-0.010928674</td><td>-0.00625516</td><td> 0.24374474</td><td> 0.12557147</td><td> 0.012854429</td><td>...</td><td>-0.14595374</td><td>-0.11127477</td><td>-0.09015388</td><td>-0.03262169</td><td>-0.03262169</td><td>-0.175549452</td><td>-0.09015388</td><td>-0.09015388</td><td> 1.000000000</td><td> 0.002137406</td></tr>\n",
       "\t<tr><th scope=row>DRB1*01:01:01</th><td> 0.02808310</td><td> 0.18810015</td><td>-0.06909802</td><td>-0.06909802</td><td> 0.16301752</td><td>-0.001447744</td><td> 0.05468983</td><td>-0.08528603</td><td> 0.18810015</td><td> 0.101532567</td><td>...</td><td>-0.11186556</td><td>-0.08528603</td><td>-0.06909802</td><td>-0.12354295</td><td>-0.12354295</td><td>-0.134549055</td><td>-0.06909802</td><td>-0.06909802</td><td> 0.766445317</td><td>-0.047143896</td></tr>\n",
       "\t<tr><th scope=row>DQB1*06:03:01</th><td>-0.06427797</td><td>-0.06459179</td><td>-0.06459179</td><td> 0.20588632</td><td> 0.18992267</td><td> 0.021314931</td><td> 0.07058492</td><td>-0.07972410</td><td>-0.06459179</td><td>-0.010073114</td><td>...</td><td> 0.07058492</td><td> 0.14283901</td><td>-0.06459179</td><td>-0.11548609</td><td>-0.11548609</td><td>-0.125774437</td><td>-0.06459179</td><td>-0.06459179</td><td> 0.037174893</td><td>-0.203672120</td></tr>\n",
       "\t<tr><th scope=row>DRB1*13:01:01</th><td>-0.06427797</td><td>-0.06459179</td><td>-0.06459179</td><td> 0.20588632</td><td> 0.18992267</td><td> 0.021314931</td><td> 0.07058492</td><td>-0.07972410</td><td>-0.06459179</td><td>-0.010073114</td><td>...</td><td> 0.07058492</td><td> 0.14283901</td><td>-0.06459179</td><td>-0.11548609</td><td>-0.11548609</td><td>-0.125774437</td><td>-0.06459179</td><td>-0.06459179</td><td> 0.037174893</td><td>-0.203672120</td></tr>\n",
       "\t<tr><th scope=row>DQB1*03:02:01</th><td>-0.06650752</td><td> 0.34129682</td><td>-0.09015388</td><td> 0.12557147</td><td>-0.11662366</td><td> 0.233145039</td><td>-0.14595374</td><td> 0.06623498</td><td>-0.09015388</td><td> 0.120510270</td><td>...</td><td>-0.00625516</td><td> 0.06623498</td><td>-0.09015388</td><td>-0.03262169</td><td>-0.03262169</td><td> 0.064487554</td><td>-0.09015388</td><td> 0.12557147</td><td> 0.187331536</td><td>-0.212671904</td></tr>\n",
       "\t<tr><th scope=row>DQB1*04:02:01</th><td> 0.07919090</td><td>-0.05991447</td><td>-0.05991447</td><td>-0.05991447</td><td>-0.01781742</td><td>-0.061331820</td><td>-0.09699795</td><td> 0.16198790</td><td>-0.05991447</td><td> 0.008542797</td><td>...</td><td> 0.08868384</td><td>-0.07395100</td><td> 0.22681906</td><td> 0.06376389</td><td> 0.06376389</td><td> 1.000000000</td><td> 0.51355259</td><td>-0.05991447</td><td>-0.175549452</td><td>-0.093751513</td></tr>\n",
       "\t<tr><th scope=row>DQB1*03:01:01</th><td>-0.11765549</td><td>-0.09194206</td><td>-0.09194206</td><td> 0.23227468</td><td>-0.14304083</td><td>-0.076649355</td><td> 0.06110631</td><td>-0.11348189</td><td>-0.09194206</td><td>-0.044675435</td><td>...</td><td>-0.04387120</td><td>-0.11348189</td><td>-0.09194206</td><td>-0.16438668</td><td>-0.16438668</td><td>-0.179031443</td><td>-0.09194206</td><td>-0.09194206</td><td>-0.269390329</td><td>-0.128493541</td></tr>\n",
       "\t<tr><th scope=row>DQB1*05:02:01</th><td> 0.19495978</td><td>-0.04419957</td><td>-0.04419957</td><td>-0.04419957</td><td> 0.05290503</td><td>-0.125019536</td><td> 0.16815769</td><td>-0.05455447</td><td>-0.04419957</td><td>-0.099258333</td><td>...</td><td> 0.16815769</td><td> 0.25004133</td><td>-0.04419957</td><td>-0.07902608</td><td>-0.07902608</td><td>-0.086066297</td><td>-0.04419957</td><td>-0.04419957</td><td>-0.129504782</td><td>-0.139370969</td></tr>\n",
       "\t<tr><th scope=row>DRB1*16:01:01</th><td> 0.25876434</td><td>-0.03797773</td><td>-0.03797773</td><td>-0.03797773</td><td> 0.08959787</td><td>-0.107420904</td><td> 0.21314340</td><td>-0.04687500</td><td>-0.03797773</td><td>-0.085286030</td><td>...</td><td>-0.06148367</td><td>-0.04687500</td><td>-0.03797773</td><td>-0.06790181</td><td>-0.06790181</td><td>-0.073950997</td><td>-0.03797773</td><td>-0.03797773</td><td>-0.111274775</td><td>-0.119752127</td></tr>\n",
       "\t<tr><th scope=row>DRB5*02:02:01</th><td> 0.14791073</td><td>-0.04981355</td><td>-0.04981355</td><td>-0.04981355</td><td> 0.02488684</td><td>-0.140898808</td><td> 0.13548387</td><td>-0.06148367</td><td>-0.04981355</td><td>-0.111865564</td><td>...</td><td> 0.35161290</td><td> 0.21314340</td><td>-0.04981355</td><td>-0.08906352</td><td>-0.08906352</td><td>-0.096997949</td><td>-0.04981355</td><td>-0.04981355</td><td>-0.145953744</td><td>-0.046295223</td></tr>\n",
       "\t<tr><th scope=row>DQB1*05:03:01</th><td>-0.10622957</td><td>-0.03797773</td><td>-0.03797773</td><td>-0.03797773</td><td> 0.08959787</td><td> 0.212454676</td><td>-0.06148367</td><td>-0.04687500</td><td>-0.03797773</td><td>-0.085286030</td><td>...</td><td>-0.06148367</td><td>-0.04687500</td><td>-0.03797773</td><td>-0.06790181</td><td>-0.06790181</td><td>-0.073950997</td><td>-0.03797773</td><td>-0.03797773</td><td> 0.066234985</td><td>-0.119752127</td></tr>\n",
       "\t<tr><th scope=row>DRB1*14:54:01</th><td>-0.10622957</td><td>-0.03797773</td><td>-0.03797773</td><td>-0.03797773</td><td> 0.08959787</td><td> 0.212454676</td><td>-0.06148367</td><td>-0.04687500</td><td>-0.03797773</td><td>-0.085286030</td><td>...</td><td>-0.06148367</td><td>-0.04687500</td><td>-0.03797773</td><td>-0.06790181</td><td>-0.06790181</td><td>-0.073950997</td><td>-0.03797773</td><td>-0.03797773</td><td> 0.066234985</td><td>-0.119752127</td></tr>\n",
       "\t<tr><th scope=row>DQB1*03:03:02</th><td>-0.13933620</td><td>-0.04981355</td><td>-0.04981355</td><td>-0.04981355</td><td>-0.11406469</td><td>-0.015029206</td><td>-0.08064516</td><td>-0.06148367</td><td>-0.04981355</td><td> 0.054689831</td><td>...</td><td> 0.56774194</td><td> 0.76239753</td><td>-0.04981355</td><td>-0.08906352</td><td>-0.08906352</td><td>-0.096997949</td><td>-0.04981355</td><td>-0.04981355</td><td>-0.145953744</td><td>-0.157073078</td></tr>\n",
       "\t<tr><th scope=row>DRB1*09:01:02</th><td>-0.13933620</td><td>-0.04981355</td><td>-0.04981355</td><td>-0.04981355</td><td>-0.11406469</td><td>-0.140898808</td><td>-0.08064516</td><td>-0.06148367</td><td>-0.04981355</td><td> 0.054689831</td><td>...</td><td> 1.00000000</td><td> 0.76239753</td><td>-0.04981355</td><td>-0.08906352</td><td>-0.08906352</td><td> 0.088683839</td><td> 0.28393722</td><td>-0.04981355</td><td>-0.145953744</td><td> 0.064482632</td></tr>\n",
       "\t<tr><th scope=row>DRB4*01:03:02</th><td>-0.10622957</td><td>-0.03797773</td><td>-0.03797773</td><td>-0.03797773</td><td>-0.08696264</td><td>-0.107420904</td><td>-0.06148367</td><td>-0.04687500</td><td>-0.03797773</td><td> 0.126349674</td><td>...</td><td> 0.76239753</td><td> 1.00000000</td><td>-0.03797773</td><td>-0.06790181</td><td>-0.06790181</td><td>-0.073950997</td><td>-0.03797773</td><td>-0.03797773</td><td>-0.111274775</td><td>-0.119752127</td></tr>\n",
       "\t<tr><th scope=row>DRB1*11:01:02</th><td>-0.08606630</td><td>-0.03076923</td><td> 0.48461538</td><td>-0.03076923</td><td>-0.07045639</td><td>-0.087031502</td><td>-0.04981355</td><td> 0.38610688</td><td>-0.03076923</td><td>-0.069098016</td><td>...</td><td>-0.04981355</td><td>-0.03797773</td><td> 1.00000000</td><td>-0.05501347</td><td>-0.05501347</td><td> 0.226819061</td><td> 0.48461538</td><td>-0.03076923</td><td>-0.090153876</td><td>-0.097022155</td></tr>\n",
       "\t<tr><th scope=row>DRB1*13:02:01</th><td>-0.15388118</td><td>-0.05501347</td><td>-0.05501347</td><td>-0.05501347</td><td>-0.12597163</td><td> 0.191915185</td><td>-0.08906352</td><td> 0.18484381</td><td> 0.25214506</td><td> 0.029741821</td><td>...</td><td>-0.08906352</td><td>-0.06790181</td><td>-0.05501347</td><td> 1.00000000</td><td> 1.00000000</td><td> 0.063763892</td><td>-0.05501347</td><td>-0.05501347</td><td>-0.032621688</td><td>-0.071518157</td></tr>\n",
       "\t<tr><th scope=row>DRB3*03:01:01</th><td>-0.15388118</td><td>-0.05501347</td><td>-0.05501347</td><td>-0.05501347</td><td>-0.12597163</td><td> 0.191915185</td><td>-0.08906352</td><td> 0.18484381</td><td> 0.25214506</td><td> 0.029741821</td><td>...</td><td>-0.08906352</td><td>-0.06790181</td><td>-0.05501347</td><td> 1.00000000</td><td> 1.00000000</td><td> 0.063763892</td><td>-0.05501347</td><td>-0.05501347</td><td>-0.032621688</td><td>-0.071518157</td></tr>\n",
       "\t<tr><th scope=row>DQB1*04:02:01</th><td> 0.07919090</td><td>-0.05991447</td><td>-0.05991447</td><td>-0.05991447</td><td>-0.01781742</td><td>-0.061331820</td><td>-0.09699795</td><td> 0.16198790</td><td>-0.05991447</td><td> 0.008542797</td><td>...</td><td> 0.08868384</td><td>-0.07395100</td><td> 0.22681906</td><td> 0.06376389</td><td> 0.06376389</td><td> 1.000000000</td><td> 0.51355259</td><td>-0.05991447</td><td>-0.175549452</td><td>-0.093751513</td></tr>\n",
       "\t<tr><th scope=row>DRB3*01:62:01</th><td>-0.08606630</td><td>-0.03076923</td><td>-0.03076923</td><td>-0.03076923</td><td>-0.07045639</td><td>-0.087031502</td><td>-0.04981355</td><td> 0.38610688</td><td>-0.03076923</td><td>-0.069098016</td><td>...</td><td> 0.28393722</td><td>-0.03797773</td><td> 0.48461538</td><td>-0.05501347</td><td>-0.05501347</td><td> 0.513552591</td><td> 1.00000000</td><td>-0.03076923</td><td>-0.090153876</td><td> 0.074043224</td></tr>\n",
       "\t<tr><th scope=row>DRB5*01:02:01</th><td>-0.08606630</td><td> 0.48461538</td><td>-0.03076923</td><td>-0.03076923</td><td>-0.07045639</td><td> 0.107338853</td><td>-0.04981355</td><td>-0.03797773</td><td>-0.03076923</td><td> 0.188100155</td><td>...</td><td>-0.04981355</td><td>-0.03797773</td><td>-0.03076923</td><td>-0.05501347</td><td>-0.05501347</td><td>-0.059914469</td><td>-0.03076923</td><td> 1.00000000</td><td>-0.090153876</td><td>-0.097022155</td></tr>\n",
       "\t<tr><th scope=row>DQB1*05:01:01</th><td>-0.06650752</td><td> 0.12557147</td><td> 0.12557147</td><td>-0.09015388</td><td> 0.06300359</td><td>-0.010928674</td><td>-0.00625516</td><td> 0.24374474</td><td> 0.12557147</td><td> 0.012854429</td><td>...</td><td>-0.14595374</td><td>-0.11127477</td><td>-0.09015388</td><td>-0.03262169</td><td>-0.03262169</td><td>-0.175549452</td><td>-0.09015388</td><td>-0.09015388</td><td> 1.000000000</td><td> 0.002137406</td></tr>\n",
       "\t<tr><th scope=row>DQB1*02:02:01</th><td> 0.02307330</td><td>-0.09702216</td><td> 0.07404322</td><td>-0.09702216</td><td>-0.15094430</td><td>-0.080884478</td><td> 0.06448263</td><td>-0.11975213</td><td> 0.24510860</td><td>-0.047143896</td><td>...</td><td> 0.06448263</td><td>-0.11975213</td><td>-0.09702216</td><td>-0.07151816</td><td>-0.07151816</td><td>-0.093751513</td><td> 0.07404322</td><td>-0.09702216</td><td> 0.002137406</td><td> 1.000000000</td></tr>\n",
       "</tbody>\n",
       "</table>\n"
      ],
      "text/latex": [
       "A matrix: 44 x 44 of type dbl\n",
       "\\begin{tabular}{r|lllllllllllllllllllll}\n",
       "  & B*08:01:01 & C*07:04:01 & DPB1*01:01:02 & DRB1*04:07:01 & C*07:02:01 & C*12:03:01 & C*02:02:02 & C*17:01:01 & C*02:10:01 & C*03:04:01 & ... & DRB1*09:01:02 & DRB4*01:03:02 & DRB1*11:01:02 & DRB1*13:02:01 & DRB3*03:01:01 & DQB1*04:02:01 & DRB3*01:62:01 & DRB5*01:02:01 & DQB1*05:01:01 & DQB1*02:02:01\\\\\n",
       "\\hline\n",
       "\tB*08:01:01 &  1.00000000 & -0.08606630 & -0.08606630 & -0.08606630 & -0.10474044 & -0.243440571 &  0.14791073 & -0.10622957 & -0.08606630 & -0.082597366 & ... & -0.13933620 & -0.10622957 & -0.08606630 & -0.15388118 & -0.15388118 &  0.079190896 & -0.08606630 & -0.08606630 & -0.066507516 &  0.023073301\\\\\n",
       "\tC*07:04:01 & -0.08606630 &  1.00000000 & -0.03076923 & -0.03076923 &  0.14411534 &  0.107338853 & -0.04981355 & -0.03797773 & -0.03076923 & -0.069098016 & ... & -0.04981355 & -0.03797773 & -0.03076923 & -0.05501347 & -0.05501347 & -0.059914469 & -0.03076923 &  0.48461538 &  0.125571470 & -0.097022155\\\\\n",
       "\tDPB1*01:01:02 & -0.08606630 & -0.03076923 &  1.00000000 & -0.03076923 & -0.07045639 & -0.087031502 & -0.04981355 & -0.03797773 & -0.03076923 & -0.069098016 & ... & -0.04981355 & -0.03797773 &  0.48461538 & -0.05501347 & -0.05501347 & -0.059914469 & -0.03076923 & -0.03076923 &  0.125571470 &  0.074043224\\\\\n",
       "\tDRB1*04:07:01 & -0.08606630 & -0.03076923 & -0.03076923 &  1.00000000 & -0.07045639 &  0.107338853 &  0.28393722 & -0.03797773 & -0.03076923 &  0.188100155 & ... & -0.04981355 & -0.03797773 & -0.03076923 & -0.05501347 & -0.05501347 & -0.059914469 & -0.03076923 & -0.03076923 & -0.090153876 & -0.097022155\\\\\n",
       "\tC*07:02:01 & -0.10474044 &  0.14411534 & -0.07045639 & -0.07045639 &  1.00000000 & -0.037441907 & -0.11406469 & -0.08696264 & -0.07045639 & -0.158222889 & ... & -0.11406469 & -0.08696264 & -0.07045639 & -0.12597163 & -0.12597163 & -0.017817416 & -0.07045639 & -0.07045639 &  0.063003587 & -0.150944297\\\\\n",
       "\tC*12:03:01 & -0.24344057 &  0.10733885 & -0.08703150 &  0.10733885 & -0.03744191 &  1.000000000 & -0.01502921 & -0.10742090 & -0.08703150 & -0.098446564 & ... & -0.14089881 & -0.10742090 & -0.08703150 &  0.19191518 &  0.19191518 & -0.061331820 & -0.08703150 &  0.10733885 & -0.010928674 & -0.080884478\\\\\n",
       "\tC*02:02:02 &  0.14791073 & -0.04981355 & -0.04981355 &  0.28393722 & -0.11406469 & -0.015029206 &  1.00000000 & -0.06148367 & -0.04981355 &  0.054689831 & ... & -0.08064516 & -0.06148367 & -0.04981355 & -0.08906352 & -0.08906352 & -0.096997949 & -0.04981355 & -0.04981355 & -0.006255160 &  0.064482632\\\\\n",
       "\tC*17:01:01 & -0.10622957 & -0.03797773 & -0.03797773 & -0.03797773 & -0.08696264 & -0.107420904 & -0.06148367 &  1.00000000 & -0.03797773 & -0.085286030 & ... & -0.06148367 & -0.04687500 &  0.38610688 &  0.18484381 &  0.18484381 &  0.161987899 &  0.38610688 & -0.03797773 &  0.243744744 & -0.119752127\\\\\n",
       "\tC*02:10:01 & -0.08606630 & -0.03076923 & -0.03076923 & -0.03076923 & -0.07045639 & -0.087031502 & -0.04981355 & -0.03797773 &  1.00000000 &  0.188100155 & ... & -0.04981355 & -0.03797773 & -0.03076923 &  0.25214506 &  0.25214506 & -0.059914469 & -0.03076923 & -0.03076923 &  0.125571470 &  0.245108602\\\\\n",
       "\tC*03:04:01 & -0.08259737 & -0.06909802 & -0.06909802 &  0.18810015 & -0.15822289 & -0.098446564 &  0.05468983 & -0.08528603 &  0.18810015 &  1.000000000 & ... &  0.05468983 &  0.12634967 & -0.06909802 &  0.02974182 &  0.02974182 &  0.008542797 & -0.06909802 &  0.18810015 &  0.012854429 & -0.047143896\\\\\n",
       "\tDRB4*01:03:01:02N &  0.07626739 & -0.03797773 & -0.03797773 & -0.03797773 & -0.08696264 &  0.052516886 & -0.06148367 & -0.04687500 & -0.03797773 & -0.085286030 & ... & -0.06148367 & -0.04687500 & -0.03797773 & -0.06790181 & -0.06790181 & -0.073950997 & -0.03797773 & -0.03797773 & -0.111274775 &  0.021009145\\\\\n",
       "\tDPB1*01:01:01 & -0.08259737 & -0.06909802 & -0.06909802 & -0.06909802 & -0.15822289 & -0.195445385 &  0.22124523 &  0.12634967 & -0.06909802 & -0.155172414 & ... &  0.22124523 & -0.08528603 &  0.18810015 &  0.02974182 &  0.02974182 &  0.151634650 &  0.44529833 & -0.06909802 &  0.012854429 &  0.123593457\\\\\n",
       "\tDPB1*19:01:01 & -0.08606630 & -0.03076923 & -0.03076923 &  0.48461538 &  0.14411534 &  0.107338853 & -0.04981355 & -0.03797773 & -0.03076923 & -0.069098016 & ... & -0.04981355 & -0.03797773 & -0.03076923 & -0.05501347 & -0.05501347 & -0.059914469 & -0.03076923 & -0.03076923 &  0.125571470 & -0.097022155\\\\\n",
       "\tDQB1*06:02:01 & -0.02589119 & -0.10228166 &  0.09927338 & -0.10228166 &  0.43710456 & -0.061264825 & -0.03506567 & -0.12624381 & -0.10228166 &  0.072060376 & ... & -0.16558791 & -0.12624381 &  0.09927338 & -0.06275062 & -0.06275062 & -0.087030051 & -0.10228166 & -0.10228166 & -0.215320161 & -0.188717136\\\\\n",
       "\tDRB1*15:01:01 & -0.08243544 & -0.09421114 & -0.09421114 & -0.09421114 &  0.39746203 & -0.028424370 & -0.01626904 & -0.11628256 & -0.09421114 &  0.103433539 & ... & -0.15252222 & -0.11628256 & -0.09421114 & -0.04304671 & -0.04304671 & -0.066391373 & -0.09421114 & -0.09421114 & -0.187969239 & -0.157394170\\\\\n",
       "\tDRB5*01:01:01 & -0.09777281 & -0.09825015 & -0.09825015 & -0.09825015 &  0.37453457 &  0.032422004 & -0.02584743 & -0.12126781 & -0.09825015 &  0.087336247 & ... & -0.15906113 & -0.12126781 & -0.09825015 & -0.05306551 & -0.05306551 & -0.076867506 & -0.09825015 & -0.09825015 & -0.201768154 & -0.173245849\\\\\n",
       "\tDQB1*02:01:01 &  0.64183005 & -0.07347184 & -0.07347184 & -0.07347184 &  0.03670652 & -0.207816838 &  0.19983015 & -0.09068453 & -0.07347184 & -0.164994638 & ... & -0.11894652 & -0.09068453 & -0.07347184 & -0.13136307 & -0.13136307 & -0.006131393 & -0.07347184 & -0.07347184 & -0.215272550 &  0.013412640\\\\\n",
       "\tDRB1*03:01:01 &  0.64183005 & -0.07347184 & -0.07347184 & -0.07347184 &  0.03670652 & -0.207816838 &  0.19983015 & -0.09068453 & -0.07347184 & -0.164994638 & ... & -0.11894652 & -0.09068453 & -0.07347184 & -0.13136307 & -0.13136307 & -0.006131393 & -0.07347184 & -0.07347184 & -0.215272550 &  0.013412640\\\\\n",
       "\tDRB1*01:02:01 & -0.12363303 & -0.04419957 &  0.32597183 & -0.04419957 & -0.10120962 &  0.014585613 & -0.07155647 &  0.25004133 & -0.04419957 & -0.099258333 & ... & -0.07155647 & -0.05455447 & -0.04419957 & -0.07902608 & -0.07902608 & -0.086066297 & -0.04419957 & -0.04419957 &  0.490268102 &  0.106362055\\\\\n",
       "\tDQB1*02:02:01 &  0.02307330 & -0.09702216 &  0.07404322 & -0.09702216 & -0.15094430 & -0.080884478 &  0.06448263 & -0.11975213 &  0.24510860 & -0.047143896 & ... &  0.06448263 & -0.11975213 & -0.09702216 & -0.07151816 & -0.07151816 & -0.093751513 &  0.07404322 & -0.09702216 &  0.002137406 &  1.000000000\\\\\n",
       "\tDRB1*07:01:01 &  0.02307330 & -0.09702216 &  0.07404322 & -0.09702216 & -0.15094430 & -0.016369478 &  0.06448263 & -0.11975213 &  0.24510860 & -0.047143896 & ... & -0.15707308 & -0.11975213 & -0.09702216 & -0.07151816 & -0.07151816 & -0.188923504 & -0.09702216 & -0.09702216 &  0.002137406 &  0.886440678\\\\\n",
       "\tDQB1*05:01:01 & -0.06650752 &  0.12557147 &  0.12557147 & -0.09015388 &  0.06300359 & -0.010928674 & -0.00625516 &  0.24374474 &  0.12557147 &  0.012854429 & ... & -0.14595374 & -0.11127477 & -0.09015388 & -0.03262169 & -0.03262169 & -0.175549452 & -0.09015388 & -0.09015388 &  1.000000000 &  0.002137406\\\\\n",
       "\tDRB1*01:01:01 &  0.02808310 &  0.18810015 & -0.06909802 & -0.06909802 &  0.16301752 & -0.001447744 &  0.05468983 & -0.08528603 &  0.18810015 &  0.101532567 & ... & -0.11186556 & -0.08528603 & -0.06909802 & -0.12354295 & -0.12354295 & -0.134549055 & -0.06909802 & -0.06909802 &  0.766445317 & -0.047143896\\\\\n",
       "\tDQB1*06:03:01 & -0.06427797 & -0.06459179 & -0.06459179 &  0.20588632 &  0.18992267 &  0.021314931 &  0.07058492 & -0.07972410 & -0.06459179 & -0.010073114 & ... &  0.07058492 &  0.14283901 & -0.06459179 & -0.11548609 & -0.11548609 & -0.125774437 & -0.06459179 & -0.06459179 &  0.037174893 & -0.203672120\\\\\n",
       "\tDRB1*13:01:01 & -0.06427797 & -0.06459179 & -0.06459179 &  0.20588632 &  0.18992267 &  0.021314931 &  0.07058492 & -0.07972410 & -0.06459179 & -0.010073114 & ... &  0.07058492 &  0.14283901 & -0.06459179 & -0.11548609 & -0.11548609 & -0.125774437 & -0.06459179 & -0.06459179 &  0.037174893 & -0.203672120\\\\\n",
       "\tDQB1*03:02:01 & -0.06650752 &  0.34129682 & -0.09015388 &  0.12557147 & -0.11662366 &  0.233145039 & -0.14595374 &  0.06623498 & -0.09015388 &  0.120510270 & ... & -0.00625516 &  0.06623498 & -0.09015388 & -0.03262169 & -0.03262169 &  0.064487554 & -0.09015388 &  0.12557147 &  0.187331536 & -0.212671904\\\\\n",
       "\tDQB1*04:02:01 &  0.07919090 & -0.05991447 & -0.05991447 & -0.05991447 & -0.01781742 & -0.061331820 & -0.09699795 &  0.16198790 & -0.05991447 &  0.008542797 & ... &  0.08868384 & -0.07395100 &  0.22681906 &  0.06376389 &  0.06376389 &  1.000000000 &  0.51355259 & -0.05991447 & -0.175549452 & -0.093751513\\\\\n",
       "\tDQB1*03:01:01 & -0.11765549 & -0.09194206 & -0.09194206 &  0.23227468 & -0.14304083 & -0.076649355 &  0.06110631 & -0.11348189 & -0.09194206 & -0.044675435 & ... & -0.04387120 & -0.11348189 & -0.09194206 & -0.16438668 & -0.16438668 & -0.179031443 & -0.09194206 & -0.09194206 & -0.269390329 & -0.128493541\\\\\n",
       "\tDQB1*05:02:01 &  0.19495978 & -0.04419957 & -0.04419957 & -0.04419957 &  0.05290503 & -0.125019536 &  0.16815769 & -0.05455447 & -0.04419957 & -0.099258333 & ... &  0.16815769 &  0.25004133 & -0.04419957 & -0.07902608 & -0.07902608 & -0.086066297 & -0.04419957 & -0.04419957 & -0.129504782 & -0.139370969\\\\\n",
       "\tDRB1*16:01:01 &  0.25876434 & -0.03797773 & -0.03797773 & -0.03797773 &  0.08959787 & -0.107420904 &  0.21314340 & -0.04687500 & -0.03797773 & -0.085286030 & ... & -0.06148367 & -0.04687500 & -0.03797773 & -0.06790181 & -0.06790181 & -0.073950997 & -0.03797773 & -0.03797773 & -0.111274775 & -0.119752127\\\\\n",
       "\tDRB5*02:02:01 &  0.14791073 & -0.04981355 & -0.04981355 & -0.04981355 &  0.02488684 & -0.140898808 &  0.13548387 & -0.06148367 & -0.04981355 & -0.111865564 & ... &  0.35161290 &  0.21314340 & -0.04981355 & -0.08906352 & -0.08906352 & -0.096997949 & -0.04981355 & -0.04981355 & -0.145953744 & -0.046295223\\\\\n",
       "\tDQB1*05:03:01 & -0.10622957 & -0.03797773 & -0.03797773 & -0.03797773 &  0.08959787 &  0.212454676 & -0.06148367 & -0.04687500 & -0.03797773 & -0.085286030 & ... & -0.06148367 & -0.04687500 & -0.03797773 & -0.06790181 & -0.06790181 & -0.073950997 & -0.03797773 & -0.03797773 &  0.066234985 & -0.119752127\\\\\n",
       "\tDRB1*14:54:01 & -0.10622957 & -0.03797773 & -0.03797773 & -0.03797773 &  0.08959787 &  0.212454676 & -0.06148367 & -0.04687500 & -0.03797773 & -0.085286030 & ... & -0.06148367 & -0.04687500 & -0.03797773 & -0.06790181 & -0.06790181 & -0.073950997 & -0.03797773 & -0.03797773 &  0.066234985 & -0.119752127\\\\\n",
       "\tDQB1*03:03:02 & -0.13933620 & -0.04981355 & -0.04981355 & -0.04981355 & -0.11406469 & -0.015029206 & -0.08064516 & -0.06148367 & -0.04981355 &  0.054689831 & ... &  0.56774194 &  0.76239753 & -0.04981355 & -0.08906352 & -0.08906352 & -0.096997949 & -0.04981355 & -0.04981355 & -0.145953744 & -0.157073078\\\\\n",
       "\tDRB1*09:01:02 & -0.13933620 & -0.04981355 & -0.04981355 & -0.04981355 & -0.11406469 & -0.140898808 & -0.08064516 & -0.06148367 & -0.04981355 &  0.054689831 & ... &  1.00000000 &  0.76239753 & -0.04981355 & -0.08906352 & -0.08906352 &  0.088683839 &  0.28393722 & -0.04981355 & -0.145953744 &  0.064482632\\\\\n",
       "\tDRB4*01:03:02 & -0.10622957 & -0.03797773 & -0.03797773 & -0.03797773 & -0.08696264 & -0.107420904 & -0.06148367 & -0.04687500 & -0.03797773 &  0.126349674 & ... &  0.76239753 &  1.00000000 & -0.03797773 & -0.06790181 & -0.06790181 & -0.073950997 & -0.03797773 & -0.03797773 & -0.111274775 & -0.119752127\\\\\n",
       "\tDRB1*11:01:02 & -0.08606630 & -0.03076923 &  0.48461538 & -0.03076923 & -0.07045639 & -0.087031502 & -0.04981355 &  0.38610688 & -0.03076923 & -0.069098016 & ... & -0.04981355 & -0.03797773 &  1.00000000 & -0.05501347 & -0.05501347 &  0.226819061 &  0.48461538 & -0.03076923 & -0.090153876 & -0.097022155\\\\\n",
       "\tDRB1*13:02:01 & -0.15388118 & -0.05501347 & -0.05501347 & -0.05501347 & -0.12597163 &  0.191915185 & -0.08906352 &  0.18484381 &  0.25214506 &  0.029741821 & ... & -0.08906352 & -0.06790181 & -0.05501347 &  1.00000000 &  1.00000000 &  0.063763892 & -0.05501347 & -0.05501347 & -0.032621688 & -0.071518157\\\\\n",
       "\tDRB3*03:01:01 & -0.15388118 & -0.05501347 & -0.05501347 & -0.05501347 & -0.12597163 &  0.191915185 & -0.08906352 &  0.18484381 &  0.25214506 &  0.029741821 & ... & -0.08906352 & -0.06790181 & -0.05501347 &  1.00000000 &  1.00000000 &  0.063763892 & -0.05501347 & -0.05501347 & -0.032621688 & -0.071518157\\\\\n",
       "\tDQB1*04:02:01 &  0.07919090 & -0.05991447 & -0.05991447 & -0.05991447 & -0.01781742 & -0.061331820 & -0.09699795 &  0.16198790 & -0.05991447 &  0.008542797 & ... &  0.08868384 & -0.07395100 &  0.22681906 &  0.06376389 &  0.06376389 &  1.000000000 &  0.51355259 & -0.05991447 & -0.175549452 & -0.093751513\\\\\n",
       "\tDRB3*01:62:01 & -0.08606630 & -0.03076923 & -0.03076923 & -0.03076923 & -0.07045639 & -0.087031502 & -0.04981355 &  0.38610688 & -0.03076923 & -0.069098016 & ... &  0.28393722 & -0.03797773 &  0.48461538 & -0.05501347 & -0.05501347 &  0.513552591 &  1.00000000 & -0.03076923 & -0.090153876 &  0.074043224\\\\\n",
       "\tDRB5*01:02:01 & -0.08606630 &  0.48461538 & -0.03076923 & -0.03076923 & -0.07045639 &  0.107338853 & -0.04981355 & -0.03797773 & -0.03076923 &  0.188100155 & ... & -0.04981355 & -0.03797773 & -0.03076923 & -0.05501347 & -0.05501347 & -0.059914469 & -0.03076923 &  1.00000000 & -0.090153876 & -0.097022155\\\\\n",
       "\tDQB1*05:01:01 & -0.06650752 &  0.12557147 &  0.12557147 & -0.09015388 &  0.06300359 & -0.010928674 & -0.00625516 &  0.24374474 &  0.12557147 &  0.012854429 & ... & -0.14595374 & -0.11127477 & -0.09015388 & -0.03262169 & -0.03262169 & -0.175549452 & -0.09015388 & -0.09015388 &  1.000000000 &  0.002137406\\\\\n",
       "\tDQB1*02:02:01 &  0.02307330 & -0.09702216 &  0.07404322 & -0.09702216 & -0.15094430 & -0.080884478 &  0.06448263 & -0.11975213 &  0.24510860 & -0.047143896 & ... &  0.06448263 & -0.11975213 & -0.09702216 & -0.07151816 & -0.07151816 & -0.093751513 &  0.07404322 & -0.09702216 &  0.002137406 &  1.000000000\\\\\n",
       "\\end{tabular}\n"
      ],
      "text/markdown": [
       "\n",
       "A matrix: 44 x 44 of type dbl\n",
       "\n",
       "| <!--/--> | B*08:01:01 | C*07:04:01 | DPB1*01:01:02 | DRB1*04:07:01 | C*07:02:01 | C*12:03:01 | C*02:02:02 | C*17:01:01 | C*02:10:01 | C*03:04:01 | ... | DRB1*09:01:02 | DRB4*01:03:02 | DRB1*11:01:02 | DRB1*13:02:01 | DRB3*03:01:01 | DQB1*04:02:01 | DRB3*01:62:01 | DRB5*01:02:01 | DQB1*05:01:01 | DQB1*02:02:01 |\n",
       "|---|---|---|---|---|---|---|---|---|---|---|---|---|---|---|---|---|---|---|---|---|---|\n",
       "| B*08:01:01 |  1.00000000 | -0.08606630 | -0.08606630 | -0.08606630 | -0.10474044 | -0.243440571 |  0.14791073 | -0.10622957 | -0.08606630 | -0.082597366 | ... | -0.13933620 | -0.10622957 | -0.08606630 | -0.15388118 | -0.15388118 |  0.079190896 | -0.08606630 | -0.08606630 | -0.066507516 |  0.023073301 |\n",
       "| C*07:04:01 | -0.08606630 |  1.00000000 | -0.03076923 | -0.03076923 |  0.14411534 |  0.107338853 | -0.04981355 | -0.03797773 | -0.03076923 | -0.069098016 | ... | -0.04981355 | -0.03797773 | -0.03076923 | -0.05501347 | -0.05501347 | -0.059914469 | -0.03076923 |  0.48461538 |  0.125571470 | -0.097022155 |\n",
       "| DPB1*01:01:02 | -0.08606630 | -0.03076923 |  1.00000000 | -0.03076923 | -0.07045639 | -0.087031502 | -0.04981355 | -0.03797773 | -0.03076923 | -0.069098016 | ... | -0.04981355 | -0.03797773 |  0.48461538 | -0.05501347 | -0.05501347 | -0.059914469 | -0.03076923 | -0.03076923 |  0.125571470 |  0.074043224 |\n",
       "| DRB1*04:07:01 | -0.08606630 | -0.03076923 | -0.03076923 |  1.00000000 | -0.07045639 |  0.107338853 |  0.28393722 | -0.03797773 | -0.03076923 |  0.188100155 | ... | -0.04981355 | -0.03797773 | -0.03076923 | -0.05501347 | -0.05501347 | -0.059914469 | -0.03076923 | -0.03076923 | -0.090153876 | -0.097022155 |\n",
       "| C*07:02:01 | -0.10474044 |  0.14411534 | -0.07045639 | -0.07045639 |  1.00000000 | -0.037441907 | -0.11406469 | -0.08696264 | -0.07045639 | -0.158222889 | ... | -0.11406469 | -0.08696264 | -0.07045639 | -0.12597163 | -0.12597163 | -0.017817416 | -0.07045639 | -0.07045639 |  0.063003587 | -0.150944297 |\n",
       "| C*12:03:01 | -0.24344057 |  0.10733885 | -0.08703150 |  0.10733885 | -0.03744191 |  1.000000000 | -0.01502921 | -0.10742090 | -0.08703150 | -0.098446564 | ... | -0.14089881 | -0.10742090 | -0.08703150 |  0.19191518 |  0.19191518 | -0.061331820 | -0.08703150 |  0.10733885 | -0.010928674 | -0.080884478 |\n",
       "| C*02:02:02 |  0.14791073 | -0.04981355 | -0.04981355 |  0.28393722 | -0.11406469 | -0.015029206 |  1.00000000 | -0.06148367 | -0.04981355 |  0.054689831 | ... | -0.08064516 | -0.06148367 | -0.04981355 | -0.08906352 | -0.08906352 | -0.096997949 | -0.04981355 | -0.04981355 | -0.006255160 |  0.064482632 |\n",
       "| C*17:01:01 | -0.10622957 | -0.03797773 | -0.03797773 | -0.03797773 | -0.08696264 | -0.107420904 | -0.06148367 |  1.00000000 | -0.03797773 | -0.085286030 | ... | -0.06148367 | -0.04687500 |  0.38610688 |  0.18484381 |  0.18484381 |  0.161987899 |  0.38610688 | -0.03797773 |  0.243744744 | -0.119752127 |\n",
       "| C*02:10:01 | -0.08606630 | -0.03076923 | -0.03076923 | -0.03076923 | -0.07045639 | -0.087031502 | -0.04981355 | -0.03797773 |  1.00000000 |  0.188100155 | ... | -0.04981355 | -0.03797773 | -0.03076923 |  0.25214506 |  0.25214506 | -0.059914469 | -0.03076923 | -0.03076923 |  0.125571470 |  0.245108602 |\n",
       "| C*03:04:01 | -0.08259737 | -0.06909802 | -0.06909802 |  0.18810015 | -0.15822289 | -0.098446564 |  0.05468983 | -0.08528603 |  0.18810015 |  1.000000000 | ... |  0.05468983 |  0.12634967 | -0.06909802 |  0.02974182 |  0.02974182 |  0.008542797 | -0.06909802 |  0.18810015 |  0.012854429 | -0.047143896 |\n",
       "| DRB4*01:03:01:02N |  0.07626739 | -0.03797773 | -0.03797773 | -0.03797773 | -0.08696264 |  0.052516886 | -0.06148367 | -0.04687500 | -0.03797773 | -0.085286030 | ... | -0.06148367 | -0.04687500 | -0.03797773 | -0.06790181 | -0.06790181 | -0.073950997 | -0.03797773 | -0.03797773 | -0.111274775 |  0.021009145 |\n",
       "| DPB1*01:01:01 | -0.08259737 | -0.06909802 | -0.06909802 | -0.06909802 | -0.15822289 | -0.195445385 |  0.22124523 |  0.12634967 | -0.06909802 | -0.155172414 | ... |  0.22124523 | -0.08528603 |  0.18810015 |  0.02974182 |  0.02974182 |  0.151634650 |  0.44529833 | -0.06909802 |  0.012854429 |  0.123593457 |\n",
       "| DPB1*19:01:01 | -0.08606630 | -0.03076923 | -0.03076923 |  0.48461538 |  0.14411534 |  0.107338853 | -0.04981355 | -0.03797773 | -0.03076923 | -0.069098016 | ... | -0.04981355 | -0.03797773 | -0.03076923 | -0.05501347 | -0.05501347 | -0.059914469 | -0.03076923 | -0.03076923 |  0.125571470 | -0.097022155 |\n",
       "| DQB1*06:02:01 | -0.02589119 | -0.10228166 |  0.09927338 | -0.10228166 |  0.43710456 | -0.061264825 | -0.03506567 | -0.12624381 | -0.10228166 |  0.072060376 | ... | -0.16558791 | -0.12624381 |  0.09927338 | -0.06275062 | -0.06275062 | -0.087030051 | -0.10228166 | -0.10228166 | -0.215320161 | -0.188717136 |\n",
       "| DRB1*15:01:01 | -0.08243544 | -0.09421114 | -0.09421114 | -0.09421114 |  0.39746203 | -0.028424370 | -0.01626904 | -0.11628256 | -0.09421114 |  0.103433539 | ... | -0.15252222 | -0.11628256 | -0.09421114 | -0.04304671 | -0.04304671 | -0.066391373 | -0.09421114 | -0.09421114 | -0.187969239 | -0.157394170 |\n",
       "| DRB5*01:01:01 | -0.09777281 | -0.09825015 | -0.09825015 | -0.09825015 |  0.37453457 |  0.032422004 | -0.02584743 | -0.12126781 | -0.09825015 |  0.087336247 | ... | -0.15906113 | -0.12126781 | -0.09825015 | -0.05306551 | -0.05306551 | -0.076867506 | -0.09825015 | -0.09825015 | -0.201768154 | -0.173245849 |\n",
       "| DQB1*02:01:01 |  0.64183005 | -0.07347184 | -0.07347184 | -0.07347184 |  0.03670652 | -0.207816838 |  0.19983015 | -0.09068453 | -0.07347184 | -0.164994638 | ... | -0.11894652 | -0.09068453 | -0.07347184 | -0.13136307 | -0.13136307 | -0.006131393 | -0.07347184 | -0.07347184 | -0.215272550 |  0.013412640 |\n",
       "| DRB1*03:01:01 |  0.64183005 | -0.07347184 | -0.07347184 | -0.07347184 |  0.03670652 | -0.207816838 |  0.19983015 | -0.09068453 | -0.07347184 | -0.164994638 | ... | -0.11894652 | -0.09068453 | -0.07347184 | -0.13136307 | -0.13136307 | -0.006131393 | -0.07347184 | -0.07347184 | -0.215272550 |  0.013412640 |\n",
       "| DRB1*01:02:01 | -0.12363303 | -0.04419957 |  0.32597183 | -0.04419957 | -0.10120962 |  0.014585613 | -0.07155647 |  0.25004133 | -0.04419957 | -0.099258333 | ... | -0.07155647 | -0.05455447 | -0.04419957 | -0.07902608 | -0.07902608 | -0.086066297 | -0.04419957 | -0.04419957 |  0.490268102 |  0.106362055 |\n",
       "| DQB1*02:02:01 |  0.02307330 | -0.09702216 |  0.07404322 | -0.09702216 | -0.15094430 | -0.080884478 |  0.06448263 | -0.11975213 |  0.24510860 | -0.047143896 | ... |  0.06448263 | -0.11975213 | -0.09702216 | -0.07151816 | -0.07151816 | -0.093751513 |  0.07404322 | -0.09702216 |  0.002137406 |  1.000000000 |\n",
       "| DRB1*07:01:01 |  0.02307330 | -0.09702216 |  0.07404322 | -0.09702216 | -0.15094430 | -0.016369478 |  0.06448263 | -0.11975213 |  0.24510860 | -0.047143896 | ... | -0.15707308 | -0.11975213 | -0.09702216 | -0.07151816 | -0.07151816 | -0.188923504 | -0.09702216 | -0.09702216 |  0.002137406 |  0.886440678 |\n",
       "| DQB1*05:01:01 | -0.06650752 |  0.12557147 |  0.12557147 | -0.09015388 |  0.06300359 | -0.010928674 | -0.00625516 |  0.24374474 |  0.12557147 |  0.012854429 | ... | -0.14595374 | -0.11127477 | -0.09015388 | -0.03262169 | -0.03262169 | -0.175549452 | -0.09015388 | -0.09015388 |  1.000000000 |  0.002137406 |\n",
       "| DRB1*01:01:01 |  0.02808310 |  0.18810015 | -0.06909802 | -0.06909802 |  0.16301752 | -0.001447744 |  0.05468983 | -0.08528603 |  0.18810015 |  0.101532567 | ... | -0.11186556 | -0.08528603 | -0.06909802 | -0.12354295 | -0.12354295 | -0.134549055 | -0.06909802 | -0.06909802 |  0.766445317 | -0.047143896 |\n",
       "| DQB1*06:03:01 | -0.06427797 | -0.06459179 | -0.06459179 |  0.20588632 |  0.18992267 |  0.021314931 |  0.07058492 | -0.07972410 | -0.06459179 | -0.010073114 | ... |  0.07058492 |  0.14283901 | -0.06459179 | -0.11548609 | -0.11548609 | -0.125774437 | -0.06459179 | -0.06459179 |  0.037174893 | -0.203672120 |\n",
       "| DRB1*13:01:01 | -0.06427797 | -0.06459179 | -0.06459179 |  0.20588632 |  0.18992267 |  0.021314931 |  0.07058492 | -0.07972410 | -0.06459179 | -0.010073114 | ... |  0.07058492 |  0.14283901 | -0.06459179 | -0.11548609 | -0.11548609 | -0.125774437 | -0.06459179 | -0.06459179 |  0.037174893 | -0.203672120 |\n",
       "| DQB1*03:02:01 | -0.06650752 |  0.34129682 | -0.09015388 |  0.12557147 | -0.11662366 |  0.233145039 | -0.14595374 |  0.06623498 | -0.09015388 |  0.120510270 | ... | -0.00625516 |  0.06623498 | -0.09015388 | -0.03262169 | -0.03262169 |  0.064487554 | -0.09015388 |  0.12557147 |  0.187331536 | -0.212671904 |\n",
       "| DQB1*04:02:01 |  0.07919090 | -0.05991447 | -0.05991447 | -0.05991447 | -0.01781742 | -0.061331820 | -0.09699795 |  0.16198790 | -0.05991447 |  0.008542797 | ... |  0.08868384 | -0.07395100 |  0.22681906 |  0.06376389 |  0.06376389 |  1.000000000 |  0.51355259 | -0.05991447 | -0.175549452 | -0.093751513 |\n",
       "| DQB1*03:01:01 | -0.11765549 | -0.09194206 | -0.09194206 |  0.23227468 | -0.14304083 | -0.076649355 |  0.06110631 | -0.11348189 | -0.09194206 | -0.044675435 | ... | -0.04387120 | -0.11348189 | -0.09194206 | -0.16438668 | -0.16438668 | -0.179031443 | -0.09194206 | -0.09194206 | -0.269390329 | -0.128493541 |\n",
       "| DQB1*05:02:01 |  0.19495978 | -0.04419957 | -0.04419957 | -0.04419957 |  0.05290503 | -0.125019536 |  0.16815769 | -0.05455447 | -0.04419957 | -0.099258333 | ... |  0.16815769 |  0.25004133 | -0.04419957 | -0.07902608 | -0.07902608 | -0.086066297 | -0.04419957 | -0.04419957 | -0.129504782 | -0.139370969 |\n",
       "| DRB1*16:01:01 |  0.25876434 | -0.03797773 | -0.03797773 | -0.03797773 |  0.08959787 | -0.107420904 |  0.21314340 | -0.04687500 | -0.03797773 | -0.085286030 | ... | -0.06148367 | -0.04687500 | -0.03797773 | -0.06790181 | -0.06790181 | -0.073950997 | -0.03797773 | -0.03797773 | -0.111274775 | -0.119752127 |\n",
       "| DRB5*02:02:01 |  0.14791073 | -0.04981355 | -0.04981355 | -0.04981355 |  0.02488684 | -0.140898808 |  0.13548387 | -0.06148367 | -0.04981355 | -0.111865564 | ... |  0.35161290 |  0.21314340 | -0.04981355 | -0.08906352 | -0.08906352 | -0.096997949 | -0.04981355 | -0.04981355 | -0.145953744 | -0.046295223 |\n",
       "| DQB1*05:03:01 | -0.10622957 | -0.03797773 | -0.03797773 | -0.03797773 |  0.08959787 |  0.212454676 | -0.06148367 | -0.04687500 | -0.03797773 | -0.085286030 | ... | -0.06148367 | -0.04687500 | -0.03797773 | -0.06790181 | -0.06790181 | -0.073950997 | -0.03797773 | -0.03797773 |  0.066234985 | -0.119752127 |\n",
       "| DRB1*14:54:01 | -0.10622957 | -0.03797773 | -0.03797773 | -0.03797773 |  0.08959787 |  0.212454676 | -0.06148367 | -0.04687500 | -0.03797773 | -0.085286030 | ... | -0.06148367 | -0.04687500 | -0.03797773 | -0.06790181 | -0.06790181 | -0.073950997 | -0.03797773 | -0.03797773 |  0.066234985 | -0.119752127 |\n",
       "| DQB1*03:03:02 | -0.13933620 | -0.04981355 | -0.04981355 | -0.04981355 | -0.11406469 | -0.015029206 | -0.08064516 | -0.06148367 | -0.04981355 |  0.054689831 | ... |  0.56774194 |  0.76239753 | -0.04981355 | -0.08906352 | -0.08906352 | -0.096997949 | -0.04981355 | -0.04981355 | -0.145953744 | -0.157073078 |\n",
       "| DRB1*09:01:02 | -0.13933620 | -0.04981355 | -0.04981355 | -0.04981355 | -0.11406469 | -0.140898808 | -0.08064516 | -0.06148367 | -0.04981355 |  0.054689831 | ... |  1.00000000 |  0.76239753 | -0.04981355 | -0.08906352 | -0.08906352 |  0.088683839 |  0.28393722 | -0.04981355 | -0.145953744 |  0.064482632 |\n",
       "| DRB4*01:03:02 | -0.10622957 | -0.03797773 | -0.03797773 | -0.03797773 | -0.08696264 | -0.107420904 | -0.06148367 | -0.04687500 | -0.03797773 |  0.126349674 | ... |  0.76239753 |  1.00000000 | -0.03797773 | -0.06790181 | -0.06790181 | -0.073950997 | -0.03797773 | -0.03797773 | -0.111274775 | -0.119752127 |\n",
       "| DRB1*11:01:02 | -0.08606630 | -0.03076923 |  0.48461538 | -0.03076923 | -0.07045639 | -0.087031502 | -0.04981355 |  0.38610688 | -0.03076923 | -0.069098016 | ... | -0.04981355 | -0.03797773 |  1.00000000 | -0.05501347 | -0.05501347 |  0.226819061 |  0.48461538 | -0.03076923 | -0.090153876 | -0.097022155 |\n",
       "| DRB1*13:02:01 | -0.15388118 | -0.05501347 | -0.05501347 | -0.05501347 | -0.12597163 |  0.191915185 | -0.08906352 |  0.18484381 |  0.25214506 |  0.029741821 | ... | -0.08906352 | -0.06790181 | -0.05501347 |  1.00000000 |  1.00000000 |  0.063763892 | -0.05501347 | -0.05501347 | -0.032621688 | -0.071518157 |\n",
       "| DRB3*03:01:01 | -0.15388118 | -0.05501347 | -0.05501347 | -0.05501347 | -0.12597163 |  0.191915185 | -0.08906352 |  0.18484381 |  0.25214506 |  0.029741821 | ... | -0.08906352 | -0.06790181 | -0.05501347 |  1.00000000 |  1.00000000 |  0.063763892 | -0.05501347 | -0.05501347 | -0.032621688 | -0.071518157 |\n",
       "| DQB1*04:02:01 |  0.07919090 | -0.05991447 | -0.05991447 | -0.05991447 | -0.01781742 | -0.061331820 | -0.09699795 |  0.16198790 | -0.05991447 |  0.008542797 | ... |  0.08868384 | -0.07395100 |  0.22681906 |  0.06376389 |  0.06376389 |  1.000000000 |  0.51355259 | -0.05991447 | -0.175549452 | -0.093751513 |\n",
       "| DRB3*01:62:01 | -0.08606630 | -0.03076923 | -0.03076923 | -0.03076923 | -0.07045639 | -0.087031502 | -0.04981355 |  0.38610688 | -0.03076923 | -0.069098016 | ... |  0.28393722 | -0.03797773 |  0.48461538 | -0.05501347 | -0.05501347 |  0.513552591 |  1.00000000 | -0.03076923 | -0.090153876 |  0.074043224 |\n",
       "| DRB5*01:02:01 | -0.08606630 |  0.48461538 | -0.03076923 | -0.03076923 | -0.07045639 |  0.107338853 | -0.04981355 | -0.03797773 | -0.03076923 |  0.188100155 | ... | -0.04981355 | -0.03797773 | -0.03076923 | -0.05501347 | -0.05501347 | -0.059914469 | -0.03076923 |  1.00000000 | -0.090153876 | -0.097022155 |\n",
       "| DQB1*05:01:01 | -0.06650752 |  0.12557147 |  0.12557147 | -0.09015388 |  0.06300359 | -0.010928674 | -0.00625516 |  0.24374474 |  0.12557147 |  0.012854429 | ... | -0.14595374 | -0.11127477 | -0.09015388 | -0.03262169 | -0.03262169 | -0.175549452 | -0.09015388 | -0.09015388 |  1.000000000 |  0.002137406 |\n",
       "| DQB1*02:02:01 |  0.02307330 | -0.09702216 |  0.07404322 | -0.09702216 | -0.15094430 | -0.080884478 |  0.06448263 | -0.11975213 |  0.24510860 | -0.047143896 | ... |  0.06448263 | -0.11975213 | -0.09702216 | -0.07151816 | -0.07151816 | -0.093751513 |  0.07404322 | -0.09702216 |  0.002137406 |  1.000000000 |\n",
       "\n"
      ],
      "text/plain": [
       "                  B*08:01:01  C*07:04:01  DPB1*01:01:02 DRB1*04:07:01\n",
       "B*08:01:01         1.00000000 -0.08606630 -0.08606630   -0.08606630  \n",
       "C*07:04:01        -0.08606630  1.00000000 -0.03076923   -0.03076923  \n",
       "DPB1*01:01:02     -0.08606630 -0.03076923  1.00000000   -0.03076923  \n",
       "DRB1*04:07:01     -0.08606630 -0.03076923 -0.03076923    1.00000000  \n",
       "C*07:02:01        -0.10474044  0.14411534 -0.07045639   -0.07045639  \n",
       "C*12:03:01        -0.24344057  0.10733885 -0.08703150    0.10733885  \n",
       "C*02:02:02         0.14791073 -0.04981355 -0.04981355    0.28393722  \n",
       "C*17:01:01        -0.10622957 -0.03797773 -0.03797773   -0.03797773  \n",
       "C*02:10:01        -0.08606630 -0.03076923 -0.03076923   -0.03076923  \n",
       "C*03:04:01        -0.08259737 -0.06909802 -0.06909802    0.18810015  \n",
       "DRB4*01:03:01:02N  0.07626739 -0.03797773 -0.03797773   -0.03797773  \n",
       "DPB1*01:01:01     -0.08259737 -0.06909802 -0.06909802   -0.06909802  \n",
       "DPB1*19:01:01     -0.08606630 -0.03076923 -0.03076923    0.48461538  \n",
       "DQB1*06:02:01     -0.02589119 -0.10228166  0.09927338   -0.10228166  \n",
       "DRB1*15:01:01     -0.08243544 -0.09421114 -0.09421114   -0.09421114  \n",
       "DRB5*01:01:01     -0.09777281 -0.09825015 -0.09825015   -0.09825015  \n",
       "DQB1*02:01:01      0.64183005 -0.07347184 -0.07347184   -0.07347184  \n",
       "DRB1*03:01:01      0.64183005 -0.07347184 -0.07347184   -0.07347184  \n",
       "DRB1*01:02:01     -0.12363303 -0.04419957  0.32597183   -0.04419957  \n",
       "DQB1*02:02:01      0.02307330 -0.09702216  0.07404322   -0.09702216  \n",
       "DRB1*07:01:01      0.02307330 -0.09702216  0.07404322   -0.09702216  \n",
       "DQB1*05:01:01     -0.06650752  0.12557147  0.12557147   -0.09015388  \n",
       "DRB1*01:01:01      0.02808310  0.18810015 -0.06909802   -0.06909802  \n",
       "DQB1*06:03:01     -0.06427797 -0.06459179 -0.06459179    0.20588632  \n",
       "DRB1*13:01:01     -0.06427797 -0.06459179 -0.06459179    0.20588632  \n",
       "DQB1*03:02:01     -0.06650752  0.34129682 -0.09015388    0.12557147  \n",
       "DQB1*04:02:01      0.07919090 -0.05991447 -0.05991447   -0.05991447  \n",
       "DQB1*03:01:01     -0.11765549 -0.09194206 -0.09194206    0.23227468  \n",
       "DQB1*05:02:01      0.19495978 -0.04419957 -0.04419957   -0.04419957  \n",
       "DRB1*16:01:01      0.25876434 -0.03797773 -0.03797773   -0.03797773  \n",
       "DRB5*02:02:01      0.14791073 -0.04981355 -0.04981355   -0.04981355  \n",
       "DQB1*05:03:01     -0.10622957 -0.03797773 -0.03797773   -0.03797773  \n",
       "DRB1*14:54:01     -0.10622957 -0.03797773 -0.03797773   -0.03797773  \n",
       "DQB1*03:03:02     -0.13933620 -0.04981355 -0.04981355   -0.04981355  \n",
       "DRB1*09:01:02     -0.13933620 -0.04981355 -0.04981355   -0.04981355  \n",
       "DRB4*01:03:02     -0.10622957 -0.03797773 -0.03797773   -0.03797773  \n",
       "DRB1*11:01:02     -0.08606630 -0.03076923  0.48461538   -0.03076923  \n",
       "DRB1*13:02:01     -0.15388118 -0.05501347 -0.05501347   -0.05501347  \n",
       "DRB3*03:01:01     -0.15388118 -0.05501347 -0.05501347   -0.05501347  \n",
       "DQB1*04:02:01      0.07919090 -0.05991447 -0.05991447   -0.05991447  \n",
       "DRB3*01:62:01     -0.08606630 -0.03076923 -0.03076923   -0.03076923  \n",
       "DRB5*01:02:01     -0.08606630  0.48461538 -0.03076923   -0.03076923  \n",
       "DQB1*05:01:01     -0.06650752  0.12557147  0.12557147   -0.09015388  \n",
       "DQB1*02:02:01      0.02307330 -0.09702216  0.07404322   -0.09702216  \n",
       "                  C*07:02:01  C*12:03:01   C*02:02:02  C*17:01:01  C*02:10:01 \n",
       "B*08:01:01        -0.10474044 -0.243440571  0.14791073 -0.10622957 -0.08606630\n",
       "C*07:04:01         0.14411534  0.107338853 -0.04981355 -0.03797773 -0.03076923\n",
       "DPB1*01:01:02     -0.07045639 -0.087031502 -0.04981355 -0.03797773 -0.03076923\n",
       "DRB1*04:07:01     -0.07045639  0.107338853  0.28393722 -0.03797773 -0.03076923\n",
       "C*07:02:01         1.00000000 -0.037441907 -0.11406469 -0.08696264 -0.07045639\n",
       "C*12:03:01        -0.03744191  1.000000000 -0.01502921 -0.10742090 -0.08703150\n",
       "C*02:02:02        -0.11406469 -0.015029206  1.00000000 -0.06148367 -0.04981355\n",
       "C*17:01:01        -0.08696264 -0.107420904 -0.06148367  1.00000000 -0.03797773\n",
       "C*02:10:01        -0.07045639 -0.087031502 -0.04981355 -0.03797773  1.00000000\n",
       "C*03:04:01        -0.15822289 -0.098446564  0.05468983 -0.08528603  0.18810015\n",
       "DRB4*01:03:01:02N -0.08696264  0.052516886 -0.06148367 -0.04687500 -0.03797773\n",
       "DPB1*01:01:01     -0.15822289 -0.195445385  0.22124523  0.12634967 -0.06909802\n",
       "DPB1*19:01:01      0.14411534  0.107338853 -0.04981355 -0.03797773 -0.03076923\n",
       "DQB1*06:02:01      0.43710456 -0.061264825 -0.03506567 -0.12624381 -0.10228166\n",
       "DRB1*15:01:01      0.39746203 -0.028424370 -0.01626904 -0.11628256 -0.09421114\n",
       "DRB5*01:01:01      0.37453457  0.032422004 -0.02584743 -0.12126781 -0.09825015\n",
       "DQB1*02:01:01      0.03670652 -0.207816838  0.19983015 -0.09068453 -0.07347184\n",
       "DRB1*03:01:01      0.03670652 -0.207816838  0.19983015 -0.09068453 -0.07347184\n",
       "DRB1*01:02:01     -0.10120962  0.014585613 -0.07155647  0.25004133 -0.04419957\n",
       "DQB1*02:02:01     -0.15094430 -0.080884478  0.06448263 -0.11975213  0.24510860\n",
       "DRB1*07:01:01     -0.15094430 -0.016369478  0.06448263 -0.11975213  0.24510860\n",
       "DQB1*05:01:01      0.06300359 -0.010928674 -0.00625516  0.24374474  0.12557147\n",
       "DRB1*01:01:01      0.16301752 -0.001447744  0.05468983 -0.08528603  0.18810015\n",
       "DQB1*06:03:01      0.18992267  0.021314931  0.07058492 -0.07972410 -0.06459179\n",
       "DRB1*13:01:01      0.18992267  0.021314931  0.07058492 -0.07972410 -0.06459179\n",
       "DQB1*03:02:01     -0.11662366  0.233145039 -0.14595374  0.06623498 -0.09015388\n",
       "DQB1*04:02:01     -0.01781742 -0.061331820 -0.09699795  0.16198790 -0.05991447\n",
       "DQB1*03:01:01     -0.14304083 -0.076649355  0.06110631 -0.11348189 -0.09194206\n",
       "DQB1*05:02:01      0.05290503 -0.125019536  0.16815769 -0.05455447 -0.04419957\n",
       "DRB1*16:01:01      0.08959787 -0.107420904  0.21314340 -0.04687500 -0.03797773\n",
       "DRB5*02:02:01      0.02488684 -0.140898808  0.13548387 -0.06148367 -0.04981355\n",
       "DQB1*05:03:01      0.08959787  0.212454676 -0.06148367 -0.04687500 -0.03797773\n",
       "DRB1*14:54:01      0.08959787  0.212454676 -0.06148367 -0.04687500 -0.03797773\n",
       "DQB1*03:03:02     -0.11406469 -0.015029206 -0.08064516 -0.06148367 -0.04981355\n",
       "DRB1*09:01:02     -0.11406469 -0.140898808 -0.08064516 -0.06148367 -0.04981355\n",
       "DRB4*01:03:02     -0.08696264 -0.107420904 -0.06148367 -0.04687500 -0.03797773\n",
       "DRB1*11:01:02     -0.07045639 -0.087031502 -0.04981355  0.38610688 -0.03076923\n",
       "DRB1*13:02:01     -0.12597163  0.191915185 -0.08906352  0.18484381  0.25214506\n",
       "DRB3*03:01:01     -0.12597163  0.191915185 -0.08906352  0.18484381  0.25214506\n",
       "DQB1*04:02:01     -0.01781742 -0.061331820 -0.09699795  0.16198790 -0.05991447\n",
       "DRB3*01:62:01     -0.07045639 -0.087031502 -0.04981355  0.38610688 -0.03076923\n",
       "DRB5*01:02:01     -0.07045639  0.107338853 -0.04981355 -0.03797773 -0.03076923\n",
       "DQB1*05:01:01      0.06300359 -0.010928674 -0.00625516  0.24374474  0.12557147\n",
       "DQB1*02:02:01     -0.15094430 -0.080884478  0.06448263 -0.11975213  0.24510860\n",
       "                  C*03:04:01   ... DRB1*09:01:02 DRB4*01:03:02 DRB1*11:01:02\n",
       "B*08:01:01        -0.082597366 ... -0.13933620   -0.10622957   -0.08606630  \n",
       "C*07:04:01        -0.069098016 ... -0.04981355   -0.03797773   -0.03076923  \n",
       "DPB1*01:01:02     -0.069098016 ... -0.04981355   -0.03797773    0.48461538  \n",
       "DRB1*04:07:01      0.188100155 ... -0.04981355   -0.03797773   -0.03076923  \n",
       "C*07:02:01        -0.158222889 ... -0.11406469   -0.08696264   -0.07045639  \n",
       "C*12:03:01        -0.098446564 ... -0.14089881   -0.10742090   -0.08703150  \n",
       "C*02:02:02         0.054689831 ... -0.08064516   -0.06148367   -0.04981355  \n",
       "C*17:01:01        -0.085286030 ... -0.06148367   -0.04687500    0.38610688  \n",
       "C*02:10:01         0.188100155 ... -0.04981355   -0.03797773   -0.03076923  \n",
       "C*03:04:01         1.000000000 ...  0.05468983    0.12634967   -0.06909802  \n",
       "DRB4*01:03:01:02N -0.085286030 ... -0.06148367   -0.04687500   -0.03797773  \n",
       "DPB1*01:01:01     -0.155172414 ...  0.22124523   -0.08528603    0.18810015  \n",
       "DPB1*19:01:01     -0.069098016 ... -0.04981355   -0.03797773   -0.03076923  \n",
       "DQB1*06:02:01      0.072060376 ... -0.16558791   -0.12624381    0.09927338  \n",
       "DRB1*15:01:01      0.103433539 ... -0.15252222   -0.11628256   -0.09421114  \n",
       "DRB5*01:01:01      0.087336247 ... -0.15906113   -0.12126781   -0.09825015  \n",
       "DQB1*02:01:01     -0.164994638 ... -0.11894652   -0.09068453   -0.07347184  \n",
       "DRB1*03:01:01     -0.164994638 ... -0.11894652   -0.09068453   -0.07347184  \n",
       "DRB1*01:02:01     -0.099258333 ... -0.07155647   -0.05455447   -0.04419957  \n",
       "DQB1*02:02:01     -0.047143896 ...  0.06448263   -0.11975213   -0.09702216  \n",
       "DRB1*07:01:01     -0.047143896 ... -0.15707308   -0.11975213   -0.09702216  \n",
       "DQB1*05:01:01      0.012854429 ... -0.14595374   -0.11127477   -0.09015388  \n",
       "DRB1*01:01:01      0.101532567 ... -0.11186556   -0.08528603   -0.06909802  \n",
       "DQB1*06:03:01     -0.010073114 ...  0.07058492    0.14283901   -0.06459179  \n",
       "DRB1*13:01:01     -0.010073114 ...  0.07058492    0.14283901   -0.06459179  \n",
       "DQB1*03:02:01      0.120510270 ... -0.00625516    0.06623498   -0.09015388  \n",
       "DQB1*04:02:01      0.008542797 ...  0.08868384   -0.07395100    0.22681906  \n",
       "DQB1*03:01:01     -0.044675435 ... -0.04387120   -0.11348189   -0.09194206  \n",
       "DQB1*05:02:01     -0.099258333 ...  0.16815769    0.25004133   -0.04419957  \n",
       "DRB1*16:01:01     -0.085286030 ... -0.06148367   -0.04687500   -0.03797773  \n",
       "DRB5*02:02:01     -0.111865564 ...  0.35161290    0.21314340   -0.04981355  \n",
       "DQB1*05:03:01     -0.085286030 ... -0.06148367   -0.04687500   -0.03797773  \n",
       "DRB1*14:54:01     -0.085286030 ... -0.06148367   -0.04687500   -0.03797773  \n",
       "DQB1*03:03:02      0.054689831 ...  0.56774194    0.76239753   -0.04981355  \n",
       "DRB1*09:01:02      0.054689831 ...  1.00000000    0.76239753   -0.04981355  \n",
       "DRB4*01:03:02      0.126349674 ...  0.76239753    1.00000000   -0.03797773  \n",
       "DRB1*11:01:02     -0.069098016 ... -0.04981355   -0.03797773    1.00000000  \n",
       "DRB1*13:02:01      0.029741821 ... -0.08906352   -0.06790181   -0.05501347  \n",
       "DRB3*03:01:01      0.029741821 ... -0.08906352   -0.06790181   -0.05501347  \n",
       "DQB1*04:02:01      0.008542797 ...  0.08868384   -0.07395100    0.22681906  \n",
       "DRB3*01:62:01     -0.069098016 ...  0.28393722   -0.03797773    0.48461538  \n",
       "DRB5*01:02:01      0.188100155 ... -0.04981355   -0.03797773   -0.03076923  \n",
       "DQB1*05:01:01      0.012854429 ... -0.14595374   -0.11127477   -0.09015388  \n",
       "DQB1*02:02:01     -0.047143896 ...  0.06448263   -0.11975213   -0.09702216  \n",
       "                  DRB1*13:02:01 DRB3*03:01:01 DQB1*04:02:01 DRB3*01:62:01\n",
       "B*08:01:01        -0.15388118   -0.15388118    0.079190896  -0.08606630  \n",
       "C*07:04:01        -0.05501347   -0.05501347   -0.059914469  -0.03076923  \n",
       "DPB1*01:01:02     -0.05501347   -0.05501347   -0.059914469  -0.03076923  \n",
       "DRB1*04:07:01     -0.05501347   -0.05501347   -0.059914469  -0.03076923  \n",
       "C*07:02:01        -0.12597163   -0.12597163   -0.017817416  -0.07045639  \n",
       "C*12:03:01         0.19191518    0.19191518   -0.061331820  -0.08703150  \n",
       "C*02:02:02        -0.08906352   -0.08906352   -0.096997949  -0.04981355  \n",
       "C*17:01:01         0.18484381    0.18484381    0.161987899   0.38610688  \n",
       "C*02:10:01         0.25214506    0.25214506   -0.059914469  -0.03076923  \n",
       "C*03:04:01         0.02974182    0.02974182    0.008542797  -0.06909802  \n",
       "DRB4*01:03:01:02N -0.06790181   -0.06790181   -0.073950997  -0.03797773  \n",
       "DPB1*01:01:01      0.02974182    0.02974182    0.151634650   0.44529833  \n",
       "DPB1*19:01:01     -0.05501347   -0.05501347   -0.059914469  -0.03076923  \n",
       "DQB1*06:02:01     -0.06275062   -0.06275062   -0.087030051  -0.10228166  \n",
       "DRB1*15:01:01     -0.04304671   -0.04304671   -0.066391373  -0.09421114  \n",
       "DRB5*01:01:01     -0.05306551   -0.05306551   -0.076867506  -0.09825015  \n",
       "DQB1*02:01:01     -0.13136307   -0.13136307   -0.006131393  -0.07347184  \n",
       "DRB1*03:01:01     -0.13136307   -0.13136307   -0.006131393  -0.07347184  \n",
       "DRB1*01:02:01     -0.07902608   -0.07902608   -0.086066297  -0.04419957  \n",
       "DQB1*02:02:01     -0.07151816   -0.07151816   -0.093751513   0.07404322  \n",
       "DRB1*07:01:01     -0.07151816   -0.07151816   -0.188923504  -0.09702216  \n",
       "DQB1*05:01:01     -0.03262169   -0.03262169   -0.175549452  -0.09015388  \n",
       "DRB1*01:01:01     -0.12354295   -0.12354295   -0.134549055  -0.06909802  \n",
       "DQB1*06:03:01     -0.11548609   -0.11548609   -0.125774437  -0.06459179  \n",
       "DRB1*13:01:01     -0.11548609   -0.11548609   -0.125774437  -0.06459179  \n",
       "DQB1*03:02:01     -0.03262169   -0.03262169    0.064487554  -0.09015388  \n",
       "DQB1*04:02:01      0.06376389    0.06376389    1.000000000   0.51355259  \n",
       "DQB1*03:01:01     -0.16438668   -0.16438668   -0.179031443  -0.09194206  \n",
       "DQB1*05:02:01     -0.07902608   -0.07902608   -0.086066297  -0.04419957  \n",
       "DRB1*16:01:01     -0.06790181   -0.06790181   -0.073950997  -0.03797773  \n",
       "DRB5*02:02:01     -0.08906352   -0.08906352   -0.096997949  -0.04981355  \n",
       "DQB1*05:03:01     -0.06790181   -0.06790181   -0.073950997  -0.03797773  \n",
       "DRB1*14:54:01     -0.06790181   -0.06790181   -0.073950997  -0.03797773  \n",
       "DQB1*03:03:02     -0.08906352   -0.08906352   -0.096997949  -0.04981355  \n",
       "DRB1*09:01:02     -0.08906352   -0.08906352    0.088683839   0.28393722  \n",
       "DRB4*01:03:02     -0.06790181   -0.06790181   -0.073950997  -0.03797773  \n",
       "DRB1*11:01:02     -0.05501347   -0.05501347    0.226819061   0.48461538  \n",
       "DRB1*13:02:01      1.00000000    1.00000000    0.063763892  -0.05501347  \n",
       "DRB3*03:01:01      1.00000000    1.00000000    0.063763892  -0.05501347  \n",
       "DQB1*04:02:01      0.06376389    0.06376389    1.000000000   0.51355259  \n",
       "DRB3*01:62:01     -0.05501347   -0.05501347    0.513552591   1.00000000  \n",
       "DRB5*01:02:01     -0.05501347   -0.05501347   -0.059914469  -0.03076923  \n",
       "DQB1*05:01:01     -0.03262169   -0.03262169   -0.175549452  -0.09015388  \n",
       "DQB1*02:02:01     -0.07151816   -0.07151816   -0.093751513   0.07404322  \n",
       "                  DRB5*01:02:01 DQB1*05:01:01 DQB1*02:02:01\n",
       "B*08:01:01        -0.08606630   -0.066507516   0.023073301 \n",
       "C*07:04:01         0.48461538    0.125571470  -0.097022155 \n",
       "DPB1*01:01:02     -0.03076923    0.125571470   0.074043224 \n",
       "DRB1*04:07:01     -0.03076923   -0.090153876  -0.097022155 \n",
       "C*07:02:01        -0.07045639    0.063003587  -0.150944297 \n",
       "C*12:03:01         0.10733885   -0.010928674  -0.080884478 \n",
       "C*02:02:02        -0.04981355   -0.006255160   0.064482632 \n",
       "C*17:01:01        -0.03797773    0.243744744  -0.119752127 \n",
       "C*02:10:01        -0.03076923    0.125571470   0.245108602 \n",
       "C*03:04:01         0.18810015    0.012854429  -0.047143896 \n",
       "DRB4*01:03:01:02N -0.03797773   -0.111274775   0.021009145 \n",
       "DPB1*01:01:01     -0.06909802    0.012854429   0.123593457 \n",
       "DPB1*19:01:01     -0.03076923    0.125571470  -0.097022155 \n",
       "DQB1*06:02:01     -0.10228166   -0.215320161  -0.188717136 \n",
       "DRB1*15:01:01     -0.09421114   -0.187969239  -0.157394170 \n",
       "DRB5*01:01:01     -0.09825015   -0.201768154  -0.173245849 \n",
       "DQB1*02:01:01     -0.07347184   -0.215272550   0.013412640 \n",
       "DRB1*03:01:01     -0.07347184   -0.215272550   0.013412640 \n",
       "DRB1*01:02:01     -0.04419957    0.490268102   0.106362055 \n",
       "DQB1*02:02:01     -0.09702216    0.002137406   1.000000000 \n",
       "DRB1*07:01:01     -0.09702216    0.002137406   0.886440678 \n",
       "DQB1*05:01:01     -0.09015388    1.000000000   0.002137406 \n",
       "DRB1*01:01:01     -0.06909802    0.766445317  -0.047143896 \n",
       "DQB1*06:03:01     -0.06459179    0.037174893  -0.203672120 \n",
       "DRB1*13:01:01     -0.06459179    0.037174893  -0.203672120 \n",
       "DQB1*03:02:01      0.12557147    0.187331536  -0.212671904 \n",
       "DQB1*04:02:01     -0.05991447   -0.175549452  -0.093751513 \n",
       "DQB1*03:01:01     -0.09194206   -0.269390329  -0.128493541 \n",
       "DQB1*05:02:01     -0.04419957   -0.129504782  -0.139370969 \n",
       "DRB1*16:01:01     -0.03797773   -0.111274775  -0.119752127 \n",
       "DRB5*02:02:01     -0.04981355   -0.145953744  -0.046295223 \n",
       "DQB1*05:03:01     -0.03797773    0.066234985  -0.119752127 \n",
       "DRB1*14:54:01     -0.03797773    0.066234985  -0.119752127 \n",
       "DQB1*03:03:02     -0.04981355   -0.145953744  -0.157073078 \n",
       "DRB1*09:01:02     -0.04981355   -0.145953744   0.064482632 \n",
       "DRB4*01:03:02     -0.03797773   -0.111274775  -0.119752127 \n",
       "DRB1*11:01:02     -0.03076923   -0.090153876  -0.097022155 \n",
       "DRB1*13:02:01     -0.05501347   -0.032621688  -0.071518157 \n",
       "DRB3*03:01:01     -0.05501347   -0.032621688  -0.071518157 \n",
       "DQB1*04:02:01     -0.05991447   -0.175549452  -0.093751513 \n",
       "DRB3*01:62:01     -0.03076923   -0.090153876   0.074043224 \n",
       "DRB5*01:02:01      1.00000000   -0.090153876  -0.097022155 \n",
       "DQB1*05:01:01     -0.09015388    1.000000000   0.002137406 \n",
       "DQB1*02:02:01     -0.09702216    0.002137406   1.000000000 "
      ]
     },
     "metadata": {},
     "output_type": "display_data"
    }
   ],
   "source": [
    "cormat[remove,remove, drop = F]"
   ]
  },
  {
   "cell_type": "code",
   "execution_count": 24,
   "metadata": {
    "vscode": {
     "languageId": "r"
    }
   },
   "outputs": [
    {
     "data": {
      "text/html": [
       "<style>\n",
       ".list-inline {list-style: none; margin:0; padding: 0}\n",
       ".list-inline>li {display: inline-block}\n",
       ".list-inline>li:not(:last-child)::after {content: \"\\00b7\"; padding: 0 .5ex}\n",
       "</style>\n",
       "<ol class=list-inline><li>67</li><li>93</li></ol>\n"
      ],
      "text/latex": [
       "\\begin{enumerate*}\n",
       "\\item 67\n",
       "\\item 93\n",
       "\\end{enumerate*}\n"
      ],
      "text/markdown": [
       "1. 67\n",
       "2. 93\n",
       "\n",
       "\n"
      ],
      "text/plain": [
       "[1] 67 93"
      ]
     },
     "metadata": {},
     "output_type": "display_data"
    }
   ],
   "source": [
    "remove <- unique(remove)\n",
    "keep <- setdiff(1:ncol(allhlas), remove)\n",
    "\n",
    "allhlas_1 <- allhlas[, keep]\n",
    "dim(allhlas_1)"
   ]
  },
  {
   "cell_type": "code",
   "execution_count": 25,
   "metadata": {
    "vscode": {
     "languageId": "r"
    }
   },
   "outputs": [
    {
     "data": {
      "text/html": [
       "<style>\n",
       ".list-inline {list-style: none; margin:0; padding: 0}\n",
       ".list-inline>li {display: inline-block}\n",
       ".list-inline>li:not(:last-child)::after {content: \"\\00b7\"; padding: 0 .5ex}\n",
       "</style>\n",
       "<ol class=list-inline><li>67</li><li>134</li></ol>\n"
      ],
      "text/latex": [
       "\\begin{enumerate*}\n",
       "\\item 67\n",
       "\\item 134\n",
       "\\end{enumerate*}\n"
      ],
      "text/markdown": [
       "1. 67\n",
       "2. 134\n",
       "\n",
       "\n"
      ],
      "text/plain": [
       "[1]  67 134"
      ]
     },
     "metadata": {},
     "output_type": "display_data"
    }
   ],
   "source": [
    "dim(allhlas)"
   ]
  },
  {
   "attachments": {},
   "cell_type": "markdown",
   "metadata": {},
   "source": [
    "PCA"
   ]
  },
  {
   "cell_type": "code",
   "execution_count": 26,
   "metadata": {
    "vscode": {
     "languageId": "r"
    }
   },
   "outputs": [],
   "source": [
    "mypca <- prcomp(allhlas, scale = TRUE)"
   ]
  },
  {
   "cell_type": "code",
   "execution_count": 27,
   "metadata": {
    "vscode": {
     "languageId": "r"
    }
   },
   "outputs": [],
   "source": [
    "out <- mypca$x\n",
    "mydf <- data.frame(out)"
   ]
  },
  {
   "cell_type": "code",
   "execution_count": 28,
   "metadata": {
    "vscode": {
     "languageId": "r"
    }
   },
   "outputs": [
    {
     "data": {
      "text/plain": [
       "Importance of components:\n",
       "                           PC1     PC2     PC3     PC4     PC5     PC6    PC7\n",
       "Standard deviation     2.86302 2.77215 2.59636 2.53675 2.41253 2.34816 2.3325\n",
       "Proportion of Variance 0.06117 0.05735 0.05031 0.04802 0.04344 0.04115 0.0406\n",
       "Cumulative Proportion  0.06117 0.11852 0.16883 0.21685 0.26029 0.30143 0.3420\n",
       "                           PC8     PC9    PC10    PC11    PC12    PC13    PC14\n",
       "Standard deviation     2.23168 2.12627 2.04917 2.00695 1.97282 1.93531 1.91864\n",
       "Proportion of Variance 0.03717 0.03374 0.03134 0.03006 0.02905 0.02795 0.02747\n",
       "Cumulative Proportion  0.37920 0.41294 0.44428 0.47434 0.50338 0.53133 0.55880\n",
       "                          PC15    PC16    PC17    PC18    PC19    PC20    PC21\n",
       "Standard deviation     1.82635 1.81609 1.78353 1.73287 1.69281 1.59455 1.53691\n",
       "Proportion of Variance 0.02489 0.02461 0.02374 0.02241 0.02139 0.01897 0.01763\n",
       "Cumulative Proportion  0.58370 0.60831 0.63205 0.65446 0.67584 0.69482 0.71244\n",
       "                          PC22    PC23    PC24    PC25    PC26    PC27    PC28\n",
       "Standard deviation     1.49632 1.46768 1.43231 1.41988 1.40254 1.39459 1.36524\n",
       "Proportion of Variance 0.01671 0.01608 0.01531 0.01505 0.01468 0.01451 0.01391\n",
       "Cumulative Proportion  0.72915 0.74523 0.76054 0.77558 0.79026 0.80478 0.81869\n",
       "                          PC29    PC30    PC31    PC32    PC33    PC34   PC35\n",
       "Standard deviation     1.33410 1.26635 1.21264 1.17803 1.15702 1.11925 1.0984\n",
       "Proportion of Variance 0.01328 0.01197 0.01097 0.01036 0.00999 0.00935 0.0090\n",
       "Cumulative Proportion  0.83197 0.84394 0.85491 0.86527 0.87526 0.88461 0.8936\n",
       "                          PC36    PC37    PC38    PC39    PC40    PC41    PC42\n",
       "Standard deviation     1.06126 1.05162 1.02044 0.98550 0.91477 0.88310 0.85381\n",
       "Proportion of Variance 0.00841 0.00825 0.00777 0.00725 0.00624 0.00582 0.00544\n",
       "Cumulative Proportion  0.90201 0.91027 0.91804 0.92529 0.93153 0.93735 0.94279\n",
       "                          PC43    PC44    PC45    PC46    PC47    PC48    PC49\n",
       "Standard deviation     0.83198 0.81390 0.79122 0.76534 0.73011 0.71280 0.65596\n",
       "Proportion of Variance 0.00517 0.00494 0.00467 0.00437 0.00398 0.00379 0.00321\n",
       "Cumulative Proportion  0.94796 0.95290 0.95757 0.96194 0.96592 0.96971 0.97292\n",
       "                          PC50    PC51    PC52    PC53    PC54    PC55    PC56\n",
       "Standard deviation     0.62590 0.62069 0.60501 0.59766 0.55978 0.53564 0.51875\n",
       "Proportion of Variance 0.00292 0.00288 0.00273 0.00267 0.00234 0.00214 0.00201\n",
       "Cumulative Proportion  0.97585 0.97872 0.98145 0.98412 0.98646 0.98860 0.99061\n",
       "                          PC57    PC58   PC59   PC60    PC61    PC62    PC63\n",
       "Standard deviation     0.47201 0.45316 0.4180 0.3664 0.35094 0.33917 0.32227\n",
       "Proportion of Variance 0.00166 0.00153 0.0013 0.0010 0.00092 0.00086 0.00078\n",
       "Cumulative Proportion  0.99227 0.99380 0.9951 0.9961 0.99703 0.99789 0.99866\n",
       "                          PC64    PC65    PC66      PC67\n",
       "Standard deviation     0.27709 0.24353 0.20810 1.271e-15\n",
       "Proportion of Variance 0.00057 0.00044 0.00032 0.000e+00\n",
       "Cumulative Proportion  0.99923 0.99968 1.00000 1.000e+00"
      ]
     },
     "metadata": {},
     "output_type": "display_data"
    }
   ],
   "source": [
    "summary(mypca)"
   ]
  },
  {
   "cell_type": "code",
   "execution_count": 29,
   "metadata": {
    "vscode": {
     "languageId": "r"
    }
   },
   "outputs": [
    {
     "data": {
      "text/html": [
       "<table class=\"dataframe\">\n",
       "<caption>A data.frame: 6 x 67</caption>\n",
       "<thead>\n",
       "\t<tr><th></th><th scope=col>PC1</th><th scope=col>PC2</th><th scope=col>PC3</th><th scope=col>PC4</th><th scope=col>PC5</th><th scope=col>PC6</th><th scope=col>PC7</th><th scope=col>PC8</th><th scope=col>PC9</th><th scope=col>PC10</th><th scope=col>...</th><th scope=col>PC58</th><th scope=col>PC59</th><th scope=col>PC60</th><th scope=col>PC61</th><th scope=col>PC62</th><th scope=col>PC63</th><th scope=col>PC64</th><th scope=col>PC65</th><th scope=col>PC66</th><th scope=col>PC67</th></tr>\n",
       "\t<tr><th></th><th scope=col>&lt;dbl&gt;</th><th scope=col>&lt;dbl&gt;</th><th scope=col>&lt;dbl&gt;</th><th scope=col>&lt;dbl&gt;</th><th scope=col>&lt;dbl&gt;</th><th scope=col>&lt;dbl&gt;</th><th scope=col>&lt;dbl&gt;</th><th scope=col>&lt;dbl&gt;</th><th scope=col>&lt;dbl&gt;</th><th scope=col>&lt;dbl&gt;</th><th scope=col>...</th><th scope=col>&lt;dbl&gt;</th><th scope=col>&lt;dbl&gt;</th><th scope=col>&lt;dbl&gt;</th><th scope=col>&lt;dbl&gt;</th><th scope=col>&lt;dbl&gt;</th><th scope=col>&lt;dbl&gt;</th><th scope=col>&lt;dbl&gt;</th><th scope=col>&lt;dbl&gt;</th><th scope=col>&lt;dbl&gt;</th><th scope=col>&lt;dbl&gt;</th></tr>\n",
       "</thead>\n",
       "<tbody>\n",
       "\t<tr><th scope=row>315-05</th><td> 1.15890201</td><td>-2.898493</td><td>-3.4723486</td><td> 3.3513972</td><td>-1.2856095</td><td> 1.3652377</td><td>-0.98814450</td><td> 0.3025367</td><td>-2.4434325</td><td> 0.7885129</td><td>...</td><td>-0.71596361</td><td> 0.04809325</td><td> 0.31848056</td><td> 0.3792461</td><td> 0.48432470</td><td>-0.31782748</td><td>-0.15632117</td><td> 0.11953686</td><td> 0.0143342286</td><td>-2.666270e-15</td></tr>\n",
       "\t<tr><th scope=row>319-05</th><td>-4.56374676</td><td>-1.367813</td><td> 2.0296584</td><td>-0.8423059</td><td>-0.7075454</td><td>-2.2932518</td><td> 1.85458779</td><td> 0.7702846</td><td>-0.5651254</td><td> 1.6015236</td><td>...</td><td> 0.29018989</td><td> 0.80729791</td><td> 0.29301440</td><td> 0.1399793</td><td> 0.22943811</td><td>-0.69063112</td><td> 0.19551515</td><td>-0.08730404</td><td>-0.0411502225</td><td> 1.908196e-17</td></tr>\n",
       "\t<tr><th scope=row>323-03</th><td> 4.29021503</td><td>-1.655735</td><td>-1.5965245</td><td> 0.1538018</td><td> 1.9207118</td><td>-1.5288560</td><td> 3.20844423</td><td>-3.1797025</td><td> 3.5822593</td><td>-1.8978836</td><td>...</td><td> 0.03685141</td><td>-0.04265836</td><td>-0.04030207</td><td>-0.1558266</td><td>-0.07187716</td><td>-0.08719310</td><td>-0.01660297</td><td>-0.05961457</td><td> 0.0770658974</td><td> 1.462372e-15</td></tr>\n",
       "\t<tr><th scope=row>329-04</th><td>-4.25557065</td><td> 0.314588</td><td>-4.4081750</td><td>-1.0062229</td><td> 4.8715689</td><td>-0.2699918</td><td>-1.20600856</td><td>-0.9781981</td><td> 1.8880483</td><td> 0.7504148</td><td>...</td><td> 0.84360989</td><td> 0.10208720</td><td>-0.38351856</td><td> 0.1420335</td><td> 0.07055897</td><td> 0.30820487</td><td> 0.01584124</td><td> 0.03888392</td><td>-0.1613784630</td><td>-3.278627e-16</td></tr>\n",
       "\t<tr><th scope=row>330-05</th><td>-0.08941476</td><td>-2.768304</td><td> 2.1200714</td><td>-3.4903109</td><td>-1.0884092</td><td>-1.3053444</td><td>-0.04510793</td><td>-2.1610084</td><td>-0.1333316</td><td> 1.4136399</td><td>...</td><td> 0.37172788</td><td>-0.07073121</td><td> 0.16185579</td><td> 0.3380909</td><td> 0.34679493</td><td> 0.13256591</td><td>-0.01518200</td><td>-0.02311564</td><td>-0.1974133531</td><td> 1.115427e-15</td></tr>\n",
       "\t<tr><th scope=row>331-04</th><td> 3.44426309</td><td> 4.036729</td><td> 0.8425664</td><td>-0.1457962</td><td> 1.5503795</td><td> 0.8197901</td><td> 1.79551677</td><td> 0.8606525</td><td>-2.9234943</td><td> 0.1003881</td><td>...</td><td>-0.85429907</td><td> 0.60078922</td><td> 0.78459363</td><td>-0.1427119</td><td> 0.11234774</td><td> 0.04738167</td><td>-0.21322384</td><td>-0.04261676</td><td>-0.0001452749</td><td> 4.631712e-16</td></tr>\n",
       "</tbody>\n",
       "</table>\n"
      ],
      "text/latex": [
       "A data.frame: 6 x 67\n",
       "\\begin{tabular}{r|lllllllllllllllllllll}\n",
       "  & PC1 & PC2 & PC3 & PC4 & PC5 & PC6 & PC7 & PC8 & PC9 & PC10 & ... & PC58 & PC59 & PC60 & PC61 & PC62 & PC63 & PC64 & PC65 & PC66 & PC67\\\\\n",
       "  & <dbl> & <dbl> & <dbl> & <dbl> & <dbl> & <dbl> & <dbl> & <dbl> & <dbl> & <dbl> & ... & <dbl> & <dbl> & <dbl> & <dbl> & <dbl> & <dbl> & <dbl> & <dbl> & <dbl> & <dbl>\\\\\n",
       "\\hline\n",
       "\t315-05 &  1.15890201 & -2.898493 & -3.4723486 &  3.3513972 & -1.2856095 &  1.3652377 & -0.98814450 &  0.3025367 & -2.4434325 &  0.7885129 & ... & -0.71596361 &  0.04809325 &  0.31848056 &  0.3792461 &  0.48432470 & -0.31782748 & -0.15632117 &  0.11953686 &  0.0143342286 & -2.666270e-15\\\\\n",
       "\t319-05 & -4.56374676 & -1.367813 &  2.0296584 & -0.8423059 & -0.7075454 & -2.2932518 &  1.85458779 &  0.7702846 & -0.5651254 &  1.6015236 & ... &  0.29018989 &  0.80729791 &  0.29301440 &  0.1399793 &  0.22943811 & -0.69063112 &  0.19551515 & -0.08730404 & -0.0411502225 &  1.908196e-17\\\\\n",
       "\t323-03 &  4.29021503 & -1.655735 & -1.5965245 &  0.1538018 &  1.9207118 & -1.5288560 &  3.20844423 & -3.1797025 &  3.5822593 & -1.8978836 & ... &  0.03685141 & -0.04265836 & -0.04030207 & -0.1558266 & -0.07187716 & -0.08719310 & -0.01660297 & -0.05961457 &  0.0770658974 &  1.462372e-15\\\\\n",
       "\t329-04 & -4.25557065 &  0.314588 & -4.4081750 & -1.0062229 &  4.8715689 & -0.2699918 & -1.20600856 & -0.9781981 &  1.8880483 &  0.7504148 & ... &  0.84360989 &  0.10208720 & -0.38351856 &  0.1420335 &  0.07055897 &  0.30820487 &  0.01584124 &  0.03888392 & -0.1613784630 & -3.278627e-16\\\\\n",
       "\t330-05 & -0.08941476 & -2.768304 &  2.1200714 & -3.4903109 & -1.0884092 & -1.3053444 & -0.04510793 & -2.1610084 & -0.1333316 &  1.4136399 & ... &  0.37172788 & -0.07073121 &  0.16185579 &  0.3380909 &  0.34679493 &  0.13256591 & -0.01518200 & -0.02311564 & -0.1974133531 &  1.115427e-15\\\\\n",
       "\t331-04 &  3.44426309 &  4.036729 &  0.8425664 & -0.1457962 &  1.5503795 &  0.8197901 &  1.79551677 &  0.8606525 & -2.9234943 &  0.1003881 & ... & -0.85429907 &  0.60078922 &  0.78459363 & -0.1427119 &  0.11234774 &  0.04738167 & -0.21322384 & -0.04261676 & -0.0001452749 &  4.631712e-16\\\\\n",
       "\\end{tabular}\n"
      ],
      "text/markdown": [
       "\n",
       "A data.frame: 6 x 67\n",
       "\n",
       "| <!--/--> | PC1 &lt;dbl&gt; | PC2 &lt;dbl&gt; | PC3 &lt;dbl&gt; | PC4 &lt;dbl&gt; | PC5 &lt;dbl&gt; | PC6 &lt;dbl&gt; | PC7 &lt;dbl&gt; | PC8 &lt;dbl&gt; | PC9 &lt;dbl&gt; | PC10 &lt;dbl&gt; | ... ... | PC58 &lt;dbl&gt; | PC59 &lt;dbl&gt; | PC60 &lt;dbl&gt; | PC61 &lt;dbl&gt; | PC62 &lt;dbl&gt; | PC63 &lt;dbl&gt; | PC64 &lt;dbl&gt; | PC65 &lt;dbl&gt; | PC66 &lt;dbl&gt; | PC67 &lt;dbl&gt; |\n",
       "|---|---|---|---|---|---|---|---|---|---|---|---|---|---|---|---|---|---|---|---|---|---|\n",
       "| 315-05 |  1.15890201 | -2.898493 | -3.4723486 |  3.3513972 | -1.2856095 |  1.3652377 | -0.98814450 |  0.3025367 | -2.4434325 |  0.7885129 | ... | -0.71596361 |  0.04809325 |  0.31848056 |  0.3792461 |  0.48432470 | -0.31782748 | -0.15632117 |  0.11953686 |  0.0143342286 | -2.666270e-15 |\n",
       "| 319-05 | -4.56374676 | -1.367813 |  2.0296584 | -0.8423059 | -0.7075454 | -2.2932518 |  1.85458779 |  0.7702846 | -0.5651254 |  1.6015236 | ... |  0.29018989 |  0.80729791 |  0.29301440 |  0.1399793 |  0.22943811 | -0.69063112 |  0.19551515 | -0.08730404 | -0.0411502225 |  1.908196e-17 |\n",
       "| 323-03 |  4.29021503 | -1.655735 | -1.5965245 |  0.1538018 |  1.9207118 | -1.5288560 |  3.20844423 | -3.1797025 |  3.5822593 | -1.8978836 | ... |  0.03685141 | -0.04265836 | -0.04030207 | -0.1558266 | -0.07187716 | -0.08719310 | -0.01660297 | -0.05961457 |  0.0770658974 |  1.462372e-15 |\n",
       "| 329-04 | -4.25557065 |  0.314588 | -4.4081750 | -1.0062229 |  4.8715689 | -0.2699918 | -1.20600856 | -0.9781981 |  1.8880483 |  0.7504148 | ... |  0.84360989 |  0.10208720 | -0.38351856 |  0.1420335 |  0.07055897 |  0.30820487 |  0.01584124 |  0.03888392 | -0.1613784630 | -3.278627e-16 |\n",
       "| 330-05 | -0.08941476 | -2.768304 |  2.1200714 | -3.4903109 | -1.0884092 | -1.3053444 | -0.04510793 | -2.1610084 | -0.1333316 |  1.4136399 | ... |  0.37172788 | -0.07073121 |  0.16185579 |  0.3380909 |  0.34679493 |  0.13256591 | -0.01518200 | -0.02311564 | -0.1974133531 |  1.115427e-15 |\n",
       "| 331-04 |  3.44426309 |  4.036729 |  0.8425664 | -0.1457962 |  1.5503795 |  0.8197901 |  1.79551677 |  0.8606525 | -2.9234943 |  0.1003881 | ... | -0.85429907 |  0.60078922 |  0.78459363 | -0.1427119 |  0.11234774 |  0.04738167 | -0.21322384 | -0.04261676 | -0.0001452749 |  4.631712e-16 |\n",
       "\n"
      ],
      "text/plain": [
       "       PC1         PC2       PC3        PC4        PC5        PC6       \n",
       "315-05  1.15890201 -2.898493 -3.4723486  3.3513972 -1.2856095  1.3652377\n",
       "319-05 -4.56374676 -1.367813  2.0296584 -0.8423059 -0.7075454 -2.2932518\n",
       "323-03  4.29021503 -1.655735 -1.5965245  0.1538018  1.9207118 -1.5288560\n",
       "329-04 -4.25557065  0.314588 -4.4081750 -1.0062229  4.8715689 -0.2699918\n",
       "330-05 -0.08941476 -2.768304  2.1200714 -3.4903109 -1.0884092 -1.3053444\n",
       "331-04  3.44426309  4.036729  0.8425664 -0.1457962  1.5503795  0.8197901\n",
       "       PC7         PC8        PC9        PC10       ... PC58        PC59       \n",
       "315-05 -0.98814450  0.3025367 -2.4434325  0.7885129 ... -0.71596361  0.04809325\n",
       "319-05  1.85458779  0.7702846 -0.5651254  1.6015236 ...  0.29018989  0.80729791\n",
       "323-03  3.20844423 -3.1797025  3.5822593 -1.8978836 ...  0.03685141 -0.04265836\n",
       "329-04 -1.20600856 -0.9781981  1.8880483  0.7504148 ...  0.84360989  0.10208720\n",
       "330-05 -0.04510793 -2.1610084 -0.1333316  1.4136399 ...  0.37172788 -0.07073121\n",
       "331-04  1.79551677  0.8606525 -2.9234943  0.1003881 ... -0.85429907  0.60078922\n",
       "       PC60        PC61       PC62        PC63        PC64        PC65       \n",
       "315-05  0.31848056  0.3792461  0.48432470 -0.31782748 -0.15632117  0.11953686\n",
       "319-05  0.29301440  0.1399793  0.22943811 -0.69063112  0.19551515 -0.08730404\n",
       "323-03 -0.04030207 -0.1558266 -0.07187716 -0.08719310 -0.01660297 -0.05961457\n",
       "329-04 -0.38351856  0.1420335  0.07055897  0.30820487  0.01584124  0.03888392\n",
       "330-05  0.16185579  0.3380909  0.34679493  0.13256591 -0.01518200 -0.02311564\n",
       "331-04  0.78459363 -0.1427119  0.11234774  0.04738167 -0.21322384 -0.04261676\n",
       "       PC66          PC67         \n",
       "315-05  0.0143342286 -2.666270e-15\n",
       "319-05 -0.0411502225  1.908196e-17\n",
       "323-03  0.0770658974  1.462372e-15\n",
       "329-04 -0.1613784630 -3.278627e-16\n",
       "330-05 -0.1974133531  1.115427e-15\n",
       "331-04 -0.0001452749  4.631712e-16"
      ]
     },
     "metadata": {},
     "output_type": "display_data"
    }
   ],
   "source": [
    "head(mydf)"
   ]
  },
  {
   "cell_type": "code",
   "execution_count": 30,
   "metadata": {
    "vscode": {
     "languageId": "r"
    }
   },
   "outputs": [],
   "source": [
    "readr::write_rds(mydf, paste0(datapath, \"/HLA/INT_HLA_PCA_postqc.rds\"))"
   ]
  },
  {
   "cell_type": "code",
   "execution_count": 31,
   "metadata": {
    "vscode": {
     "languageId": "r"
    }
   },
   "outputs": [],
   "source": [
    "p0 <- fviz_pca_ind(mypca,geom = \"point\", pointshape = 16, pointsize = 2, alpha = 1,\n",
    "                    ellipse.alpha = 0, invisible=\"quali\",\n",
    "                       title = \"PCA of HLA types (n = 67)\")"
   ]
  },
  {
   "cell_type": "code",
   "execution_count": 32,
   "metadata": {
    "vscode": {
     "languageId": "r"
    }
   },
   "outputs": [
    {
     "data": {
      "image/png": "[encoded data removed]",
      "text/plain": [
       "plot without title"
      ]
     },
     "metadata": {
      "image/png": {
       "height": 420,
       "width": 420
      }
     },
     "output_type": "display_data"
    }
   ],
   "source": [
    "p0"
   ]
  },
  {
   "cell_type": "code",
   "execution_count": null,
   "metadata": {
    "vscode": {
     "languageId": "r"
    }
   },
   "outputs": [],
   "source": []
  }
 ],
 "metadata": {
  "kernelspec": {
   "display_name": "R 4.0",
   "language": "R",
   "name": "ir40"
  },
  "language_info": {
   "codemirror_mode": "r",
   "file_extension": ".r",
   "mimetype": "text/x-r-source",
   "name": "R",
   "pygments_lexer": "r",
   "version": "4.2.2"
  },
  "orig_nbformat": 4,
  "vscode": {
   "interpreter": {
    "hash": "aee8b7b246df8f9039afb4144a1f6fd8d2ca17a180786b69acc140d282b71a49"
   }
  }
 },
 "nbformat": 4,
 "nbformat_minor": 2
}
