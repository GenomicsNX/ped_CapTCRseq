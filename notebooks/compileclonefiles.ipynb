{
 "cells": [
  {
   "cell_type": "markdown",
   "metadata": {
    "toc": true
   },
   "source": [
    "<h1>Table of Contents<span class=\"tocSkip\"></span></h1>\n",
    "<div class=\"toc\"><ul class=\"toc-item\"><li><span><a href=\"#Dependencies\" data-toc-modified-id=\"Dependencies-1\">Dependencies</a></span></li><li><span><a href=\"#Functions\" data-toc-modified-id=\"Functions-2\">Functions</a></span></li><li><span><a href=\"#Paths\" data-toc-modified-id=\"Paths-3\">Paths</a></span></li><li><span><a href=\"#Main\" data-toc-modified-id=\"Main-4\">Main</a></span></li></ul></div>"
   ]
  },
  {
   "cell_type": "markdown",
   "metadata": {},
   "source": [
    "# Dependencies"
   ]
  },
  {
   "cell_type": "code",
   "execution_count": 1,
   "metadata": {},
   "outputs": [],
   "source": [
    "pacman::p_load(data.table)"
   ]
  },
  {
   "cell_type": "markdown",
   "metadata": {},
   "source": [
    "# Functions"
   ]
  },
  {
   "cell_type": "markdown",
   "metadata": {},
   "source": [
    "# Paths"
   ]
  },
  {
   "cell_type": "code",
   "execution_count": 2,
   "metadata": {},
   "outputs": [],
   "source": [
    "datapath <- \"/Users/anabbi/OneDrive - UHN/Documents/INTERCEPT/Data/\"\n",
    "plotpath <- \"/Users/anabbi/OneDrive - UHN/Documents/INTERCEPT/Plots/\"\n",
    "manifestpath <- \"/Users/anabbi/OneDrive - UHN/Documents/INTERCEPT/Manifests/\"\n",
    "\n",
    "gitpath <- \"/Users/anabbi/git/ped_CapTCRseq/\""
   ]
  },
  {
   "cell_type": "code",
   "execution_count": 3,
   "metadata": {},
   "outputs": [],
   "source": [
    "h4hpath <- \"/Users/anabbi/Desktop/H4H/INTERCEPT/NextSeq/\""
   ]
  },
  {
   "cell_type": "markdown",
   "metadata": {},
   "source": [
    "# Main"
   ]
  },
  {
   "cell_type": "code",
   "execution_count": 4,
   "metadata": {},
   "outputs": [],
   "source": [
    "load(file = paste0(datapath,\"capTCRseq/TRBfiles.RData\"))"
   ]
  },
  {
   "cell_type": "code",
   "execution_count": 5,
   "metadata": {},
   "outputs": [
    {
     "data": {
      "text/html": [
       "<table class=\"dataframe\">\n",
       "<caption>A data.frame: 6 × 3</caption>\n",
       "<thead>\n",
       "\t<tr><th></th><th scope=col>file_list</th><th scope=col>samplename</th><th scope=col>size</th></tr>\n",
       "\t<tr><th></th><th scope=col>&lt;chr&gt;</th><th scope=col>&lt;chr&gt;</th><th scope=col>&lt;dbl&gt;</th></tr>\n",
       "</thead>\n",
       "<tbody>\n",
       "\t<tr><th scope=row>264</th><td>batch4_19Aug2019/mixcr/clones/CLONES_TRBCHP_315-05-PBMC-DNA.txt     </td><td>CHP_315-05-PBMC-DNA</td><td> 16011</td></tr>\n",
       "\t<tr><th scope=row>2</th><td>batch_reseq_24Feb2020/mixcr/clones/CLONES_TRBCHP_350-01-PBMC-DNA.txt</td><td>CHP_350-01-PBMC-DNA</td><td> 85631</td></tr>\n",
       "\t<tr><th scope=row>3</th><td>batch_reseq_24Feb2020/mixcr/clones/CLONES_TRBCHP_350-02-PBMC-DNA.txt</td><td>CHP_350-02-PBMC-DNA</td><td>143632</td></tr>\n",
       "\t<tr><th scope=row>4</th><td>batch_reseq_24Feb2020/mixcr/clones/CLONES_TRBCHP_350-03-PBMC-DNA.txt</td><td>CHP_350-03-PBMC-DNA</td><td>107190</td></tr>\n",
       "\t<tr><th scope=row>5</th><td>batch_reseq_24Feb2020/mixcr/clones/CLONES_TRBCHP_350-04-PBMC-DNA.txt</td><td>CHP_350-04-PBMC-DNA</td><td> 54188</td></tr>\n",
       "\t<tr><th scope=row>6</th><td>batch_reseq_24Feb2020/mixcr/clones/CLONES_TRBCHP_353-02-PBMC-DNA.txt</td><td>CHP_353-02-PBMC-DNA</td><td>  9062</td></tr>\n",
       "</tbody>\n",
       "</table>\n"
      ],
      "text/latex": [
       "A data.frame: 6 × 3\n",
       "\\begin{tabular}{r|lll}\n",
       "  & file\\_list & samplename & size\\\\\n",
       "  & <chr> & <chr> & <dbl>\\\\\n",
       "\\hline\n",
       "\t264 & batch4\\_19Aug2019/mixcr/clones/CLONES\\_TRBCHP\\_315-05-PBMC-DNA.txt      & CHP\\_315-05-PBMC-DNA &  16011\\\\\n",
       "\t2 & batch\\_reseq\\_24Feb2020/mixcr/clones/CLONES\\_TRBCHP\\_350-01-PBMC-DNA.txt & CHP\\_350-01-PBMC-DNA &  85631\\\\\n",
       "\t3 & batch\\_reseq\\_24Feb2020/mixcr/clones/CLONES\\_TRBCHP\\_350-02-PBMC-DNA.txt & CHP\\_350-02-PBMC-DNA & 143632\\\\\n",
       "\t4 & batch\\_reseq\\_24Feb2020/mixcr/clones/CLONES\\_TRBCHP\\_350-03-PBMC-DNA.txt & CHP\\_350-03-PBMC-DNA & 107190\\\\\n",
       "\t5 & batch\\_reseq\\_24Feb2020/mixcr/clones/CLONES\\_TRBCHP\\_350-04-PBMC-DNA.txt & CHP\\_350-04-PBMC-DNA &  54188\\\\\n",
       "\t6 & batch\\_reseq\\_24Feb2020/mixcr/clones/CLONES\\_TRBCHP\\_353-02-PBMC-DNA.txt & CHP\\_353-02-PBMC-DNA &   9062\\\\\n",
       "\\end{tabular}\n"
      ],
      "text/markdown": [
       "\n",
       "A data.frame: 6 × 3\n",
       "\n",
       "| <!--/--> | file_list &lt;chr&gt; | samplename &lt;chr&gt; | size &lt;dbl&gt; |\n",
       "|---|---|---|---|\n",
       "| 264 | batch4_19Aug2019/mixcr/clones/CLONES_TRBCHP_315-05-PBMC-DNA.txt      | CHP_315-05-PBMC-DNA |  16011 |\n",
       "| 2 | batch_reseq_24Feb2020/mixcr/clones/CLONES_TRBCHP_350-01-PBMC-DNA.txt | CHP_350-01-PBMC-DNA |  85631 |\n",
       "| 3 | batch_reseq_24Feb2020/mixcr/clones/CLONES_TRBCHP_350-02-PBMC-DNA.txt | CHP_350-02-PBMC-DNA | 143632 |\n",
       "| 4 | batch_reseq_24Feb2020/mixcr/clones/CLONES_TRBCHP_350-03-PBMC-DNA.txt | CHP_350-03-PBMC-DNA | 107190 |\n",
       "| 5 | batch_reseq_24Feb2020/mixcr/clones/CLONES_TRBCHP_350-04-PBMC-DNA.txt | CHP_350-04-PBMC-DNA |  54188 |\n",
       "| 6 | batch_reseq_24Feb2020/mixcr/clones/CLONES_TRBCHP_353-02-PBMC-DNA.txt | CHP_353-02-PBMC-DNA |   9062 |\n",
       "\n"
      ],
      "text/plain": [
       "    file_list                                                           \n",
       "264 batch4_19Aug2019/mixcr/clones/CLONES_TRBCHP_315-05-PBMC-DNA.txt     \n",
       "2   batch_reseq_24Feb2020/mixcr/clones/CLONES_TRBCHP_350-01-PBMC-DNA.txt\n",
       "3   batch_reseq_24Feb2020/mixcr/clones/CLONES_TRBCHP_350-02-PBMC-DNA.txt\n",
       "4   batch_reseq_24Feb2020/mixcr/clones/CLONES_TRBCHP_350-03-PBMC-DNA.txt\n",
       "5   batch_reseq_24Feb2020/mixcr/clones/CLONES_TRBCHP_350-04-PBMC-DNA.txt\n",
       "6   batch_reseq_24Feb2020/mixcr/clones/CLONES_TRBCHP_353-02-PBMC-DNA.txt\n",
       "    samplename          size  \n",
       "264 CHP_315-05-PBMC-DNA  16011\n",
       "2   CHP_350-01-PBMC-DNA  85631\n",
       "3   CHP_350-02-PBMC-DNA 143632\n",
       "4   CHP_350-03-PBMC-DNA 107190\n",
       "5   CHP_350-04-PBMC-DNA  54188\n",
       "6   CHP_353-02-PBMC-DNA   9062"
      ]
     },
     "metadata": {},
     "output_type": "display_data"
    }
   ],
   "source": [
    "head(file_df_dedup_trb)"
   ]
  },
  {
   "cell_type": "code",
   "execution_count": 6,
   "metadata": {},
   "outputs": [],
   "source": [
    "file_df_dedup_trb$patient <- substr(file_df_dedup_trb$samplename, 1,7)"
   ]
  },
  {
   "cell_type": "code",
   "execution_count": 7,
   "metadata": {},
   "outputs": [
    {
     "data": {
      "text/html": [
       "<table class=\"dataframe\">\n",
       "<caption>A data.frame: 6 × 4</caption>\n",
       "<thead>\n",
       "\t<tr><th></th><th scope=col>file_list</th><th scope=col>samplename</th><th scope=col>size</th><th scope=col>patient</th></tr>\n",
       "\t<tr><th></th><th scope=col>&lt;chr&gt;</th><th scope=col>&lt;chr&gt;</th><th scope=col>&lt;dbl&gt;</th><th scope=col>&lt;chr&gt;</th></tr>\n",
       "</thead>\n",
       "<tbody>\n",
       "\t<tr><th scope=row>264</th><td>batch4_19Aug2019/mixcr/clones/CLONES_TRBCHP_315-05-PBMC-DNA.txt     </td><td>CHP_315-05-PBMC-DNA</td><td> 16011</td><td>CHP_315</td></tr>\n",
       "\t<tr><th scope=row>2</th><td>batch_reseq_24Feb2020/mixcr/clones/CLONES_TRBCHP_350-01-PBMC-DNA.txt</td><td>CHP_350-01-PBMC-DNA</td><td> 85631</td><td>CHP_350</td></tr>\n",
       "\t<tr><th scope=row>3</th><td>batch_reseq_24Feb2020/mixcr/clones/CLONES_TRBCHP_350-02-PBMC-DNA.txt</td><td>CHP_350-02-PBMC-DNA</td><td>143632</td><td>CHP_350</td></tr>\n",
       "\t<tr><th scope=row>4</th><td>batch_reseq_24Feb2020/mixcr/clones/CLONES_TRBCHP_350-03-PBMC-DNA.txt</td><td>CHP_350-03-PBMC-DNA</td><td>107190</td><td>CHP_350</td></tr>\n",
       "\t<tr><th scope=row>5</th><td>batch_reseq_24Feb2020/mixcr/clones/CLONES_TRBCHP_350-04-PBMC-DNA.txt</td><td>CHP_350-04-PBMC-DNA</td><td> 54188</td><td>CHP_350</td></tr>\n",
       "\t<tr><th scope=row>6</th><td>batch_reseq_24Feb2020/mixcr/clones/CLONES_TRBCHP_353-02-PBMC-DNA.txt</td><td>CHP_353-02-PBMC-DNA</td><td>  9062</td><td>CHP_353</td></tr>\n",
       "</tbody>\n",
       "</table>\n"
      ],
      "text/latex": [
       "A data.frame: 6 × 4\n",
       "\\begin{tabular}{r|llll}\n",
       "  & file\\_list & samplename & size & patient\\\\\n",
       "  & <chr> & <chr> & <dbl> & <chr>\\\\\n",
       "\\hline\n",
       "\t264 & batch4\\_19Aug2019/mixcr/clones/CLONES\\_TRBCHP\\_315-05-PBMC-DNA.txt      & CHP\\_315-05-PBMC-DNA &  16011 & CHP\\_315\\\\\n",
       "\t2 & batch\\_reseq\\_24Feb2020/mixcr/clones/CLONES\\_TRBCHP\\_350-01-PBMC-DNA.txt & CHP\\_350-01-PBMC-DNA &  85631 & CHP\\_350\\\\\n",
       "\t3 & batch\\_reseq\\_24Feb2020/mixcr/clones/CLONES\\_TRBCHP\\_350-02-PBMC-DNA.txt & CHP\\_350-02-PBMC-DNA & 143632 & CHP\\_350\\\\\n",
       "\t4 & batch\\_reseq\\_24Feb2020/mixcr/clones/CLONES\\_TRBCHP\\_350-03-PBMC-DNA.txt & CHP\\_350-03-PBMC-DNA & 107190 & CHP\\_350\\\\\n",
       "\t5 & batch\\_reseq\\_24Feb2020/mixcr/clones/CLONES\\_TRBCHP\\_350-04-PBMC-DNA.txt & CHP\\_350-04-PBMC-DNA &  54188 & CHP\\_350\\\\\n",
       "\t6 & batch\\_reseq\\_24Feb2020/mixcr/clones/CLONES\\_TRBCHP\\_353-02-PBMC-DNA.txt & CHP\\_353-02-PBMC-DNA &   9062 & CHP\\_353\\\\\n",
       "\\end{tabular}\n"
      ],
      "text/markdown": [
       "\n",
       "A data.frame: 6 × 4\n",
       "\n",
       "| <!--/--> | file_list &lt;chr&gt; | samplename &lt;chr&gt; | size &lt;dbl&gt; | patient &lt;chr&gt; |\n",
       "|---|---|---|---|---|\n",
       "| 264 | batch4_19Aug2019/mixcr/clones/CLONES_TRBCHP_315-05-PBMC-DNA.txt      | CHP_315-05-PBMC-DNA |  16011 | CHP_315 |\n",
       "| 2 | batch_reseq_24Feb2020/mixcr/clones/CLONES_TRBCHP_350-01-PBMC-DNA.txt | CHP_350-01-PBMC-DNA |  85631 | CHP_350 |\n",
       "| 3 | batch_reseq_24Feb2020/mixcr/clones/CLONES_TRBCHP_350-02-PBMC-DNA.txt | CHP_350-02-PBMC-DNA | 143632 | CHP_350 |\n",
       "| 4 | batch_reseq_24Feb2020/mixcr/clones/CLONES_TRBCHP_350-03-PBMC-DNA.txt | CHP_350-03-PBMC-DNA | 107190 | CHP_350 |\n",
       "| 5 | batch_reseq_24Feb2020/mixcr/clones/CLONES_TRBCHP_350-04-PBMC-DNA.txt | CHP_350-04-PBMC-DNA |  54188 | CHP_350 |\n",
       "| 6 | batch_reseq_24Feb2020/mixcr/clones/CLONES_TRBCHP_353-02-PBMC-DNA.txt | CHP_353-02-PBMC-DNA |   9062 | CHP_353 |\n",
       "\n"
      ],
      "text/plain": [
       "    file_list                                                           \n",
       "264 batch4_19Aug2019/mixcr/clones/CLONES_TRBCHP_315-05-PBMC-DNA.txt     \n",
       "2   batch_reseq_24Feb2020/mixcr/clones/CLONES_TRBCHP_350-01-PBMC-DNA.txt\n",
       "3   batch_reseq_24Feb2020/mixcr/clones/CLONES_TRBCHP_350-02-PBMC-DNA.txt\n",
       "4   batch_reseq_24Feb2020/mixcr/clones/CLONES_TRBCHP_350-03-PBMC-DNA.txt\n",
       "5   batch_reseq_24Feb2020/mixcr/clones/CLONES_TRBCHP_350-04-PBMC-DNA.txt\n",
       "6   batch_reseq_24Feb2020/mixcr/clones/CLONES_TRBCHP_353-02-PBMC-DNA.txt\n",
       "    samplename          size   patient\n",
       "264 CHP_315-05-PBMC-DNA  16011 CHP_315\n",
       "2   CHP_350-01-PBMC-DNA  85631 CHP_350\n",
       "3   CHP_350-02-PBMC-DNA 143632 CHP_350\n",
       "4   CHP_350-03-PBMC-DNA 107190 CHP_350\n",
       "5   CHP_350-04-PBMC-DNA  54188 CHP_350\n",
       "6   CHP_353-02-PBMC-DNA   9062 CHP_353"
      ]
     },
     "metadata": {},
     "output_type": "display_data"
    }
   ],
   "source": [
    "head(file_df_dedup_trb)"
   ]
  },
  {
   "cell_type": "code",
   "execution_count": 8,
   "metadata": {},
   "outputs": [],
   "source": [
    "int_all <- list()\n",
    "\n",
    "for(p in 1:nrow(file_df_dedup_trb)){\n",
    "    \n",
    "onefle <- read.table(paste0(h4hpath, file_df_dedup_trb$file_list[p]), sep = \"\\t\", header = TRUE, stringsAsFactors = F)  \n",
    "\n",
    "        if(nrow(onefle) == 0){ next}\n",
    "        #remove scores\n",
    "        onefle$TRBV <- gsub(\"[*]0.*\", \"\", onefle$allVHitsWithScore)\n",
    "        onefle$TRBJ <- gsub(\"[*]0.*\", \"\", onefle$allJHitsWithScore)\n",
    "        #remove extra long cdr3s\n",
    "        #next if the file has no productive cdr3\n",
    "        if(nrow(onefle) == 0){ next}\n",
    "\n",
    "        onefle$file <- paste0(h4hpath, file_df_dedup_trb$file_list[p])\n",
    "        onefle$samplename <- file_df_dedup_trb$samplename[p]\n",
    "\n",
    "        int_all[length(int_all) + 1] <- list(onefle)\n",
    "    }\n",
    "    intall <- do.call(\"rbind\", int_all)\n",
    "\n"
   ]
  },
  {
   "cell_type": "code",
   "execution_count": 9,
   "metadata": {},
   "outputs": [],
   "source": [
    "save(intall, file = paste0(datapath, \"capTCRseq/INT_allfiles.RData\"))"
   ]
  },
  {
   "cell_type": "code",
   "execution_count": 10,
   "metadata": {},
   "outputs": [
    {
     "data": {
      "text/html": [
       "<table class=\"dataframe\">\n",
       "<caption>A data.frame: 6 × 39</caption>\n",
       "<thead>\n",
       "\t<tr><th></th><th scope=col>cloneId</th><th scope=col>cloneCount</th><th scope=col>cloneFraction</th><th scope=col>clonalSequence</th><th scope=col>clonalSequenceQuality</th><th scope=col>allVHitsWithScore</th><th scope=col>allDHitsWithScore</th><th scope=col>allJHitsWithScore</th><th scope=col>allCHitsWithScore</th><th scope=col>allVAlignments</th><th scope=col>⋯</th><th scope=col>aaSeqFR2</th><th scope=col>aaSeqCDR2</th><th scope=col>aaSeqFR3</th><th scope=col>aaSeqCDR3</th><th scope=col>aaSeqFR4</th><th scope=col>refPoints</th><th scope=col>TRBV</th><th scope=col>TRBJ</th><th scope=col>file</th><th scope=col>samplename</th></tr>\n",
       "\t<tr><th></th><th scope=col>&lt;int&gt;</th><th scope=col>&lt;int&gt;</th><th scope=col>&lt;dbl&gt;</th><th scope=col>&lt;chr&gt;</th><th scope=col>&lt;chr&gt;</th><th scope=col>&lt;chr&gt;</th><th scope=col>&lt;chr&gt;</th><th scope=col>&lt;chr&gt;</th><th scope=col>&lt;chr&gt;</th><th scope=col>&lt;chr&gt;</th><th scope=col>⋯</th><th scope=col>&lt;lgl&gt;</th><th scope=col>&lt;lgl&gt;</th><th scope=col>&lt;lgl&gt;</th><th scope=col>&lt;chr&gt;</th><th scope=col>&lt;lgl&gt;</th><th scope=col>&lt;chr&gt;</th><th scope=col>&lt;chr&gt;</th><th scope=col>&lt;chr&gt;</th><th scope=col>&lt;chr&gt;</th><th scope=col>&lt;chr&gt;</th></tr>\n",
       "</thead>\n",
       "<tbody>\n",
       "\t<tr><th scope=row>1</th><td> 0</td><td>187</td><td>0.19767442</td><td>TGTGCCAGCAGCTTCTATGGCAGGGAAGCAGATACGCAGTATTTT    </td><td>ENNNNNENNEENENENENNNEENNNEENNNNEKNNNNNNENNNNN    </td><td>TRBV7-2*00(367.3)                  </td><td>TRBD1*00(25)             </td><td>TRBJ2-3*00(224.8)</td><td>NA</td><td>580|594|617|0|14||70.0                       </td><td>⋯</td><td>NA</td><td>NA</td><td>NA</td><td>CASSFYGREADTQYF  </td><td>NA</td><td>:::::::::0:-3:14:20:-4:-3:25:28:-4:45:::</td><td>TRBV7-2</td><td>TRBJ2-3</td><td>/Users/anabbi/Desktop/H4H/INTERCEPT/NextSeq/batch4_19Aug2019/mixcr/clones/CLONES_TRBCHP_315-05-PBMC-DNA.txt</td><td>CHP_315-05-PBMC-DNA</td></tr>\n",
       "\t<tr><th scope=row>2</th><td> 3</td><td> 97</td><td>0.10253700</td><td>TGTGCCAGCAGTTACTACAAAGCGGCAGGGGGAAGAGACCCAGTACTTC</td><td>EEEEEEEEEEEEEEEEEEEEEEEEEEEEEEEEEEEEEEEEEEEEEEEEE</td><td>TRBV6-2*00(391.9),TRBV6-3*00(391.9)</td><td>TRBD1*00(35),TRBD2*00(34)</td><td>TRBJ2-5*00(224)  </td><td>NA</td><td>516|532|553|0|16||80.0;516|532|553|0|16||80.0</td><td>⋯</td><td>NA</td><td>NA</td><td>NA</td><td>CASSYYKA_QGEETQYF</td><td>NA</td><td>:::::::::0:-1:16:25:-4:-1:32:32:-3:49:::</td><td>TRBV6-2</td><td>TRBJ2-5</td><td>/Users/anabbi/Desktop/H4H/INTERCEPT/NextSeq/batch4_19Aug2019/mixcr/clones/CLONES_TRBCHP_315-05-PBMC-DNA.txt</td><td>CHP_315-05-PBMC-DNA</td></tr>\n",
       "\t<tr><th scope=row>3</th><td>14</td><td> 48</td><td>0.05073996</td><td>TGTGCCAGCAGCTTAATGGGGGGAGATAGCACTGAAGCTTTCTTT    </td><td>EEEEEEEEEEEEEEEEEEEEEEEEEEEEEEEEEEEEEEEEEEEEE    </td><td>TRBV7-3*00(159.7)                  </td><td>TRBD1*00(25),TRBD2*00(25)</td><td>TRBJ1-1*00(220)  </td><td>NA</td><td>540|556|577|0|16||80.0                       </td><td>⋯</td><td>NA</td><td>NA</td><td>NA</td><td>CASSLMGGDSTEAFF  </td><td>NA</td><td>:::::::::0:-1:16:17:-6:-1:22:29:-4:45:::</td><td>TRBV7-3</td><td>TRBJ1-1</td><td>/Users/anabbi/Desktop/H4H/INTERCEPT/NextSeq/batch4_19Aug2019/mixcr/clones/CLONES_TRBCHP_315-05-PBMC-DNA.txt</td><td>CHP_315-05-PBMC-DNA</td></tr>\n",
       "\t<tr><th scope=row>4</th><td>15</td><td> 48</td><td>0.05073996</td><td>TGTGCCAGCAGCTTAACCGGGACAGGGGTTGAAAAACTGTTTTTT    </td><td>EEEEEEEEEEEEEEEEEEEEEEEEEEEEEEEEEEEEEEEEEEEEE    </td><td>TRBV7-3*00(765.2)                  </td><td>TRBD1*00(55)             </td><td>TRBJ1-4*00(145)  </td><td>NA</td><td>540|557|577|0|17||85.0                       </td><td>⋯</td><td>NA</td><td>NA</td><td>NA</td><td>CASSLTGTGVEKLFF  </td><td>NA</td><td>:::::::::0:0:17:17:1:-2:28:29:-7:45:::  </td><td>TRBV7-3</td><td>TRBJ1-4</td><td>/Users/anabbi/Desktop/H4H/INTERCEPT/NextSeq/batch4_19Aug2019/mixcr/clones/CLONES_TRBCHP_315-05-PBMC-DNA.txt</td><td>CHP_315-05-PBMC-DNA</td></tr>\n",
       "\t<tr><th scope=row>5</th><td>20</td><td> 42</td><td>0.04439746</td><td>TGTGCCAGCAGCCAACGGGGACAGTCAACCGAGCAGTACTTC       </td><td>EEEEEEEEEEEEEEEEEEEEEEEEEEEEEEEEEEEEEEEEEE       </td><td>TRBV14*00(519.2)                   </td><td>TRBD1*00(35)             </td><td>TRBJ2-7*00(205)  </td><td>NA</td><td>516|531|553|0|15||75.0                       </td><td>⋯</td><td>NA</td><td>NA</td><td>NA</td><td>CASSQRGQSTEQYF   </td><td>NA</td><td>:::::::::0:-2:15:17:0:-5:24:29:-6:42::: </td><td>TRBV14 </td><td>TRBJ2-7</td><td>/Users/anabbi/Desktop/H4H/INTERCEPT/NextSeq/batch4_19Aug2019/mixcr/clones/CLONES_TRBCHP_315-05-PBMC-DNA.txt</td><td>CHP_315-05-PBMC-DNA</td></tr>\n",
       "\t<tr><th scope=row>6</th><td>29</td><td> 32</td><td>0.03382664</td><td>TGTGCCAGCAGTTACCAAGCGGGGGTGGGTGAGACCCAGTACTTC    </td><td>EEEEEEEEEEEEEEEEEEEEEEEEEEEEEEEEEEEEEEEEEEEEE    </td><td>TRBV6-6*00(344)                    </td><td>TRBD2*00(30)             </td><td>TRBJ2-5*00(214)  </td><td>NA</td><td>516|531|553|0|15||75.0                       </td><td>⋯</td><td>NA</td><td>NA</td><td>NA</td><td>CASSYQAGVGETQYF  </td><td>NA</td><td>:::::::::0:-2:15:17:-6:-4:23:30:-5:45:::</td><td>TRBV6-6</td><td>TRBJ2-5</td><td>/Users/anabbi/Desktop/H4H/INTERCEPT/NextSeq/batch4_19Aug2019/mixcr/clones/CLONES_TRBCHP_315-05-PBMC-DNA.txt</td><td>CHP_315-05-PBMC-DNA</td></tr>\n",
       "</tbody>\n",
       "</table>\n"
      ],
      "text/latex": [
       "A data.frame: 6 × 39\n",
       "\\begin{tabular}{r|lllllllllllllllllllll}\n",
       "  & cloneId & cloneCount & cloneFraction & clonalSequence & clonalSequenceQuality & allVHitsWithScore & allDHitsWithScore & allJHitsWithScore & allCHitsWithScore & allVAlignments & ⋯ & aaSeqFR2 & aaSeqCDR2 & aaSeqFR3 & aaSeqCDR3 & aaSeqFR4 & refPoints & TRBV & TRBJ & file & samplename\\\\\n",
       "  & <int> & <int> & <dbl> & <chr> & <chr> & <chr> & <chr> & <chr> & <chr> & <chr> & ⋯ & <lgl> & <lgl> & <lgl> & <chr> & <lgl> & <chr> & <chr> & <chr> & <chr> & <chr>\\\\\n",
       "\\hline\n",
       "\t1 &  0 & 187 & 0.19767442 & TGTGCCAGCAGCTTCTATGGCAGGGAAGCAGATACGCAGTATTTT     & ENNNNNENNEENENENENNNEENNNEENNNNEKNNNNNNENNNNN     & TRBV7-2*00(367.3)                   & TRBD1*00(25)              & TRBJ2-3*00(224.8) & NA & 580\\textbar{}594\\textbar{}617\\textbar{}0\\textbar{}14\\textbar{}\\textbar{}70.0                        & ⋯ & NA & NA & NA & CASSFYGREADTQYF   & NA & :::::::::0:-3:14:20:-4:-3:25:28:-4:45::: & TRBV7-2 & TRBJ2-3 & /Users/anabbi/Desktop/H4H/INTERCEPT/NextSeq/batch4\\_19Aug2019/mixcr/clones/CLONES\\_TRBCHP\\_315-05-PBMC-DNA.txt & CHP\\_315-05-PBMC-DNA\\\\\n",
       "\t2 &  3 &  97 & 0.10253700 & TGTGCCAGCAGTTACTACAAAGCGGCAGGGGGAAGAGACCCAGTACTTC & EEEEEEEEEEEEEEEEEEEEEEEEEEEEEEEEEEEEEEEEEEEEEEEEE & TRBV6-2*00(391.9),TRBV6-3*00(391.9) & TRBD1*00(35),TRBD2*00(34) & TRBJ2-5*00(224)   & NA & 516\\textbar{}532\\textbar{}553\\textbar{}0\\textbar{}16\\textbar{}\\textbar{}80.0;516\\textbar{}532\\textbar{}553\\textbar{}0\\textbar{}16\\textbar{}\\textbar{}80.0 & ⋯ & NA & NA & NA & CASSYYKA\\_QGEETQYF & NA & :::::::::0:-1:16:25:-4:-1:32:32:-3:49::: & TRBV6-2 & TRBJ2-5 & /Users/anabbi/Desktop/H4H/INTERCEPT/NextSeq/batch4\\_19Aug2019/mixcr/clones/CLONES\\_TRBCHP\\_315-05-PBMC-DNA.txt & CHP\\_315-05-PBMC-DNA\\\\\n",
       "\t3 & 14 &  48 & 0.05073996 & TGTGCCAGCAGCTTAATGGGGGGAGATAGCACTGAAGCTTTCTTT     & EEEEEEEEEEEEEEEEEEEEEEEEEEEEEEEEEEEEEEEEEEEEE     & TRBV7-3*00(159.7)                   & TRBD1*00(25),TRBD2*00(25) & TRBJ1-1*00(220)   & NA & 540\\textbar{}556\\textbar{}577\\textbar{}0\\textbar{}16\\textbar{}\\textbar{}80.0                        & ⋯ & NA & NA & NA & CASSLMGGDSTEAFF   & NA & :::::::::0:-1:16:17:-6:-1:22:29:-4:45::: & TRBV7-3 & TRBJ1-1 & /Users/anabbi/Desktop/H4H/INTERCEPT/NextSeq/batch4\\_19Aug2019/mixcr/clones/CLONES\\_TRBCHP\\_315-05-PBMC-DNA.txt & CHP\\_315-05-PBMC-DNA\\\\\n",
       "\t4 & 15 &  48 & 0.05073996 & TGTGCCAGCAGCTTAACCGGGACAGGGGTTGAAAAACTGTTTTTT     & EEEEEEEEEEEEEEEEEEEEEEEEEEEEEEEEEEEEEEEEEEEEE     & TRBV7-3*00(765.2)                   & TRBD1*00(55)              & TRBJ1-4*00(145)   & NA & 540\\textbar{}557\\textbar{}577\\textbar{}0\\textbar{}17\\textbar{}\\textbar{}85.0                        & ⋯ & NA & NA & NA & CASSLTGTGVEKLFF   & NA & :::::::::0:0:17:17:1:-2:28:29:-7:45:::   & TRBV7-3 & TRBJ1-4 & /Users/anabbi/Desktop/H4H/INTERCEPT/NextSeq/batch4\\_19Aug2019/mixcr/clones/CLONES\\_TRBCHP\\_315-05-PBMC-DNA.txt & CHP\\_315-05-PBMC-DNA\\\\\n",
       "\t5 & 20 &  42 & 0.04439746 & TGTGCCAGCAGCCAACGGGGACAGTCAACCGAGCAGTACTTC        & EEEEEEEEEEEEEEEEEEEEEEEEEEEEEEEEEEEEEEEEEE        & TRBV14*00(519.2)                    & TRBD1*00(35)              & TRBJ2-7*00(205)   & NA & 516\\textbar{}531\\textbar{}553\\textbar{}0\\textbar{}15\\textbar{}\\textbar{}75.0                        & ⋯ & NA & NA & NA & CASSQRGQSTEQYF    & NA & :::::::::0:-2:15:17:0:-5:24:29:-6:42:::  & TRBV14  & TRBJ2-7 & /Users/anabbi/Desktop/H4H/INTERCEPT/NextSeq/batch4\\_19Aug2019/mixcr/clones/CLONES\\_TRBCHP\\_315-05-PBMC-DNA.txt & CHP\\_315-05-PBMC-DNA\\\\\n",
       "\t6 & 29 &  32 & 0.03382664 & TGTGCCAGCAGTTACCAAGCGGGGGTGGGTGAGACCCAGTACTTC     & EEEEEEEEEEEEEEEEEEEEEEEEEEEEEEEEEEEEEEEEEEEEE     & TRBV6-6*00(344)                     & TRBD2*00(30)              & TRBJ2-5*00(214)   & NA & 516\\textbar{}531\\textbar{}553\\textbar{}0\\textbar{}15\\textbar{}\\textbar{}75.0                        & ⋯ & NA & NA & NA & CASSYQAGVGETQYF   & NA & :::::::::0:-2:15:17:-6:-4:23:30:-5:45::: & TRBV6-6 & TRBJ2-5 & /Users/anabbi/Desktop/H4H/INTERCEPT/NextSeq/batch4\\_19Aug2019/mixcr/clones/CLONES\\_TRBCHP\\_315-05-PBMC-DNA.txt & CHP\\_315-05-PBMC-DNA\\\\\n",
       "\\end{tabular}\n"
      ],
      "text/markdown": [
       "\n",
       "A data.frame: 6 × 39\n",
       "\n",
       "| <!--/--> | cloneId &lt;int&gt; | cloneCount &lt;int&gt; | cloneFraction &lt;dbl&gt; | clonalSequence &lt;chr&gt; | clonalSequenceQuality &lt;chr&gt; | allVHitsWithScore &lt;chr&gt; | allDHitsWithScore &lt;chr&gt; | allJHitsWithScore &lt;chr&gt; | allCHitsWithScore &lt;chr&gt; | allVAlignments &lt;chr&gt; | ⋯ ⋯ | aaSeqFR2 &lt;lgl&gt; | aaSeqCDR2 &lt;lgl&gt; | aaSeqFR3 &lt;lgl&gt; | aaSeqCDR3 &lt;chr&gt; | aaSeqFR4 &lt;lgl&gt; | refPoints &lt;chr&gt; | TRBV &lt;chr&gt; | TRBJ &lt;chr&gt; | file &lt;chr&gt; | samplename &lt;chr&gt; |\n",
       "|---|---|---|---|---|---|---|---|---|---|---|---|---|---|---|---|---|---|---|---|---|---|\n",
       "| 1 |  0 | 187 | 0.19767442 | TGTGCCAGCAGCTTCTATGGCAGGGAAGCAGATACGCAGTATTTT     | ENNNNNENNEENENENENNNEENNNEENNNNEKNNNNNNENNNNN     | TRBV7-2*00(367.3)                   | TRBD1*00(25)              | TRBJ2-3*00(224.8) | NA | 580|594|617|0|14||70.0                        | ⋯ | NA | NA | NA | CASSFYGREADTQYF   | NA | :::::::::0:-3:14:20:-4:-3:25:28:-4:45::: | TRBV7-2 | TRBJ2-3 | /Users/anabbi/Desktop/H4H/INTERCEPT/NextSeq/batch4_19Aug2019/mixcr/clones/CLONES_TRBCHP_315-05-PBMC-DNA.txt | CHP_315-05-PBMC-DNA |\n",
       "| 2 |  3 |  97 | 0.10253700 | TGTGCCAGCAGTTACTACAAAGCGGCAGGGGGAAGAGACCCAGTACTTC | EEEEEEEEEEEEEEEEEEEEEEEEEEEEEEEEEEEEEEEEEEEEEEEEE | TRBV6-2*00(391.9),TRBV6-3*00(391.9) | TRBD1*00(35),TRBD2*00(34) | TRBJ2-5*00(224)   | NA | 516|532|553|0|16||80.0;516|532|553|0|16||80.0 | ⋯ | NA | NA | NA | CASSYYKA_QGEETQYF | NA | :::::::::0:-1:16:25:-4:-1:32:32:-3:49::: | TRBV6-2 | TRBJ2-5 | /Users/anabbi/Desktop/H4H/INTERCEPT/NextSeq/batch4_19Aug2019/mixcr/clones/CLONES_TRBCHP_315-05-PBMC-DNA.txt | CHP_315-05-PBMC-DNA |\n",
       "| 3 | 14 |  48 | 0.05073996 | TGTGCCAGCAGCTTAATGGGGGGAGATAGCACTGAAGCTTTCTTT     | EEEEEEEEEEEEEEEEEEEEEEEEEEEEEEEEEEEEEEEEEEEEE     | TRBV7-3*00(159.7)                   | TRBD1*00(25),TRBD2*00(25) | TRBJ1-1*00(220)   | NA | 540|556|577|0|16||80.0                        | ⋯ | NA | NA | NA | CASSLMGGDSTEAFF   | NA | :::::::::0:-1:16:17:-6:-1:22:29:-4:45::: | TRBV7-3 | TRBJ1-1 | /Users/anabbi/Desktop/H4H/INTERCEPT/NextSeq/batch4_19Aug2019/mixcr/clones/CLONES_TRBCHP_315-05-PBMC-DNA.txt | CHP_315-05-PBMC-DNA |\n",
       "| 4 | 15 |  48 | 0.05073996 | TGTGCCAGCAGCTTAACCGGGACAGGGGTTGAAAAACTGTTTTTT     | EEEEEEEEEEEEEEEEEEEEEEEEEEEEEEEEEEEEEEEEEEEEE     | TRBV7-3*00(765.2)                   | TRBD1*00(55)              | TRBJ1-4*00(145)   | NA | 540|557|577|0|17||85.0                        | ⋯ | NA | NA | NA | CASSLTGTGVEKLFF   | NA | :::::::::0:0:17:17:1:-2:28:29:-7:45:::   | TRBV7-3 | TRBJ1-4 | /Users/anabbi/Desktop/H4H/INTERCEPT/NextSeq/batch4_19Aug2019/mixcr/clones/CLONES_TRBCHP_315-05-PBMC-DNA.txt | CHP_315-05-PBMC-DNA |\n",
       "| 5 | 20 |  42 | 0.04439746 | TGTGCCAGCAGCCAACGGGGACAGTCAACCGAGCAGTACTTC        | EEEEEEEEEEEEEEEEEEEEEEEEEEEEEEEEEEEEEEEEEE        | TRBV14*00(519.2)                    | TRBD1*00(35)              | TRBJ2-7*00(205)   | NA | 516|531|553|0|15||75.0                        | ⋯ | NA | NA | NA | CASSQRGQSTEQYF    | NA | :::::::::0:-2:15:17:0:-5:24:29:-6:42:::  | TRBV14  | TRBJ2-7 | /Users/anabbi/Desktop/H4H/INTERCEPT/NextSeq/batch4_19Aug2019/mixcr/clones/CLONES_TRBCHP_315-05-PBMC-DNA.txt | CHP_315-05-PBMC-DNA |\n",
       "| 6 | 29 |  32 | 0.03382664 | TGTGCCAGCAGTTACCAAGCGGGGGTGGGTGAGACCCAGTACTTC     | EEEEEEEEEEEEEEEEEEEEEEEEEEEEEEEEEEEEEEEEEEEEE     | TRBV6-6*00(344)                     | TRBD2*00(30)              | TRBJ2-5*00(214)   | NA | 516|531|553|0|15||75.0                        | ⋯ | NA | NA | NA | CASSYQAGVGETQYF   | NA | :::::::::0:-2:15:17:-6:-4:23:30:-5:45::: | TRBV6-6 | TRBJ2-5 | /Users/anabbi/Desktop/H4H/INTERCEPT/NextSeq/batch4_19Aug2019/mixcr/clones/CLONES_TRBCHP_315-05-PBMC-DNA.txt | CHP_315-05-PBMC-DNA |\n",
       "\n"
      ],
      "text/plain": [
       "  cloneId cloneCount cloneFraction\n",
       "1  0      187        0.19767442   \n",
       "2  3       97        0.10253700   \n",
       "3 14       48        0.05073996   \n",
       "4 15       48        0.05073996   \n",
       "5 20       42        0.04439746   \n",
       "6 29       32        0.03382664   \n",
       "  clonalSequence                                   \n",
       "1 TGTGCCAGCAGCTTCTATGGCAGGGAAGCAGATACGCAGTATTTT    \n",
       "2 TGTGCCAGCAGTTACTACAAAGCGGCAGGGGGAAGAGACCCAGTACTTC\n",
       "3 TGTGCCAGCAGCTTAATGGGGGGAGATAGCACTGAAGCTTTCTTT    \n",
       "4 TGTGCCAGCAGCTTAACCGGGACAGGGGTTGAAAAACTGTTTTTT    \n",
       "5 TGTGCCAGCAGCCAACGGGGACAGTCAACCGAGCAGTACTTC       \n",
       "6 TGTGCCAGCAGTTACCAAGCGGGGGTGGGTGAGACCCAGTACTTC    \n",
       "  clonalSequenceQuality                            \n",
       "1 ENNNNNENNEENENENENNNEENNNEENNNNEKNNNNNNENNNNN    \n",
       "2 EEEEEEEEEEEEEEEEEEEEEEEEEEEEEEEEEEEEEEEEEEEEEEEEE\n",
       "3 EEEEEEEEEEEEEEEEEEEEEEEEEEEEEEEEEEEEEEEEEEEEE    \n",
       "4 EEEEEEEEEEEEEEEEEEEEEEEEEEEEEEEEEEEEEEEEEEEEE    \n",
       "5 EEEEEEEEEEEEEEEEEEEEEEEEEEEEEEEEEEEEEEEEEE       \n",
       "6 EEEEEEEEEEEEEEEEEEEEEEEEEEEEEEEEEEEEEEEEEEEEE    \n",
       "  allVHitsWithScore                   allDHitsWithScore        \n",
       "1 TRBV7-2*00(367.3)                   TRBD1*00(25)             \n",
       "2 TRBV6-2*00(391.9),TRBV6-3*00(391.9) TRBD1*00(35),TRBD2*00(34)\n",
       "3 TRBV7-3*00(159.7)                   TRBD1*00(25),TRBD2*00(25)\n",
       "4 TRBV7-3*00(765.2)                   TRBD1*00(55)             \n",
       "5 TRBV14*00(519.2)                    TRBD1*00(35)             \n",
       "6 TRBV6-6*00(344)                     TRBD2*00(30)             \n",
       "  allJHitsWithScore allCHitsWithScore\n",
       "1 TRBJ2-3*00(224.8) NA               \n",
       "2 TRBJ2-5*00(224)   NA               \n",
       "3 TRBJ1-1*00(220)   NA               \n",
       "4 TRBJ1-4*00(145)   NA               \n",
       "5 TRBJ2-7*00(205)   NA               \n",
       "6 TRBJ2-5*00(214)   NA               \n",
       "  allVAlignments                                ⋯ aaSeqFR2 aaSeqCDR2 aaSeqFR3\n",
       "1 580|594|617|0|14||70.0                        ⋯ NA       NA        NA      \n",
       "2 516|532|553|0|16||80.0;516|532|553|0|16||80.0 ⋯ NA       NA        NA      \n",
       "3 540|556|577|0|16||80.0                        ⋯ NA       NA        NA      \n",
       "4 540|557|577|0|17||85.0                        ⋯ NA       NA        NA      \n",
       "5 516|531|553|0|15||75.0                        ⋯ NA       NA        NA      \n",
       "6 516|531|553|0|15||75.0                        ⋯ NA       NA        NA      \n",
       "  aaSeqCDR3         aaSeqFR4 refPoints                                TRBV   \n",
       "1 CASSFYGREADTQYF   NA       :::::::::0:-3:14:20:-4:-3:25:28:-4:45::: TRBV7-2\n",
       "2 CASSYYKA_QGEETQYF NA       :::::::::0:-1:16:25:-4:-1:32:32:-3:49::: TRBV6-2\n",
       "3 CASSLMGGDSTEAFF   NA       :::::::::0:-1:16:17:-6:-1:22:29:-4:45::: TRBV7-3\n",
       "4 CASSLTGTGVEKLFF   NA       :::::::::0:0:17:17:1:-2:28:29:-7:45:::   TRBV7-3\n",
       "5 CASSQRGQSTEQYF    NA       :::::::::0:-2:15:17:0:-5:24:29:-6:42:::  TRBV14 \n",
       "6 CASSYQAGVGETQYF   NA       :::::::::0:-2:15:17:-6:-4:23:30:-5:45::: TRBV6-6\n",
       "  TRBJ   \n",
       "1 TRBJ2-3\n",
       "2 TRBJ2-5\n",
       "3 TRBJ1-1\n",
       "4 TRBJ1-4\n",
       "5 TRBJ2-7\n",
       "6 TRBJ2-5\n",
       "  file                                                                                                       \n",
       "1 /Users/anabbi/Desktop/H4H/INTERCEPT/NextSeq/batch4_19Aug2019/mixcr/clones/CLONES_TRBCHP_315-05-PBMC-DNA.txt\n",
       "2 /Users/anabbi/Desktop/H4H/INTERCEPT/NextSeq/batch4_19Aug2019/mixcr/clones/CLONES_TRBCHP_315-05-PBMC-DNA.txt\n",
       "3 /Users/anabbi/Desktop/H4H/INTERCEPT/NextSeq/batch4_19Aug2019/mixcr/clones/CLONES_TRBCHP_315-05-PBMC-DNA.txt\n",
       "4 /Users/anabbi/Desktop/H4H/INTERCEPT/NextSeq/batch4_19Aug2019/mixcr/clones/CLONES_TRBCHP_315-05-PBMC-DNA.txt\n",
       "5 /Users/anabbi/Desktop/H4H/INTERCEPT/NextSeq/batch4_19Aug2019/mixcr/clones/CLONES_TRBCHP_315-05-PBMC-DNA.txt\n",
       "6 /Users/anabbi/Desktop/H4H/INTERCEPT/NextSeq/batch4_19Aug2019/mixcr/clones/CLONES_TRBCHP_315-05-PBMC-DNA.txt\n",
       "  samplename         \n",
       "1 CHP_315-05-PBMC-DNA\n",
       "2 CHP_315-05-PBMC-DNA\n",
       "3 CHP_315-05-PBMC-DNA\n",
       "4 CHP_315-05-PBMC-DNA\n",
       "5 CHP_315-05-PBMC-DNA\n",
       "6 CHP_315-05-PBMC-DNA"
      ]
     },
     "metadata": {},
     "output_type": "display_data"
    }
   ],
   "source": [
    "head(intall)"
   ]
  },
  {
   "cell_type": "code",
   "execution_count": null,
   "metadata": {},
   "outputs": [],
   "source": []
  }
 ],
 "metadata": {
  "kernelspec": {
   "display_name": "R 4.0",
   "language": "R",
   "name": "ir40"
  },
  "language_info": {
   "codemirror_mode": "r",
   "file_extension": ".r",
   "mimetype": "text/x-r-source",
   "name": "R",
   "pygments_lexer": "r",
   "version": "4.0.3"
  },
  "toc": {
   "base_numbering": 1,
   "nav_menu": {},
   "number_sections": false,
   "sideBar": true,
   "skip_h1_title": false,
   "title_cell": "Table of Contents",
   "title_sidebar": "Contents",
   "toc_cell": true,
   "toc_position": {
    "height": "calc(100% - 180px)",
    "left": "10px",
    "top": "150px",
    "width": "186.15px"
   },
   "toc_section_display": true,
   "toc_window_display": true
  }
 },
 "nbformat": 4,
 "nbformat_minor": 2
}
