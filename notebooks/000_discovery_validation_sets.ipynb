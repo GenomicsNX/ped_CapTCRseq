{
 "cells": [
  {
   "cell_type": "markdown",
   "metadata": {},
   "source": [
    "# Dependencies"
   ]
  },
  {
   "cell_type": "code",
   "execution_count": 62,
   "metadata": {
    "vscode": {
     "languageId": "r"
    }
   },
   "outputs": [],
   "source": [
    "pacman::p_load(dplyr)"
   ]
  },
  {
   "cell_type": "markdown",
   "metadata": {},
   "source": [
    "# Functions"
   ]
  },
  {
   "cell_type": "code",
   "execution_count": 63,
   "metadata": {
    "vscode": {
     "languageId": "r"
    }
   },
   "outputs": [],
   "source": [
    "source(\"/Users/anabbi/git/ped_CapTCRseq/R/ggplot2_theme.R\")\n",
    "source(\"/Users/anabbi/git/ped_CapTCRseq/R/color_schemes.R\")"
   ]
  },
  {
   "cell_type": "markdown",
   "metadata": {},
   "source": [
    "# Paths"
   ]
  },
  {
   "cell_type": "code",
   "execution_count": 64,
   "metadata": {
    "vscode": {
     "languageId": "r"
    }
   },
   "outputs": [],
   "source": [
    "datapath <- \"/Users/anabbi/OneDrive - UHN/Documents/INTERCEPT/Data/\"\n",
    "plotpath <- \"/Users/anabbi/OneDrive - UHN/Documents/INTERCEPT/Plots/\"\n",
    "manifestpath <- \"/Users/anabbi/OneDrive - UHN/Documents/INTERCEPT/Manifests/\"\n",
    "gitpath <- \"/Users/anabbi/git/ped_CapTCRseq/\""
   ]
  },
  {
   "cell_type": "code",
   "execution_count": 65,
   "metadata": {
    "vscode": {
     "languageId": "r"
    }
   },
   "outputs": [],
   "source": [
    "h4hpath <- \"/Users/anabbi/Desktop/H4H/INTERCEPT/\""
   ]
  },
  {
   "cell_type": "markdown",
   "metadata": {},
   "source": [
    "# Main"
   ]
  },
  {
   "attachments": {},
   "cell_type": "markdown",
   "metadata": {},
   "source": [
    "bind all metadata"
   ]
  },
  {
   "cell_type": "code",
   "execution_count": 66,
   "metadata": {
    "vscode": {
     "languageId": "r"
    }
   },
   "outputs": [],
   "source": [
    "meta_div <- readr::read_rds(file = paste0(datapath,\"capTCRseq/meta_div_goodsamples.rds\"))"
   ]
  },
  {
   "cell_type": "code",
   "execution_count": 67,
   "metadata": {
    "vscode": {
     "languageId": "r"
    }
   },
   "outputs": [
    {
     "data": {
      "text/plain": [
       "\n",
       "X00 X01 X02 X03 X04 X05 \n",
       " 42 150 164 160 147 147 "
      ]
     },
     "metadata": {},
     "output_type": "display_data"
    }
   ],
   "source": [
    "table(meta_div$cycle)"
   ]
  },
  {
   "cell_type": "code",
   "execution_count": 68,
   "metadata": {
    "vscode": {
     "languageId": "r"
    }
   },
   "outputs": [],
   "source": [
    "allAdaptive <- readr::read_rds(file = paste0(datapath, \"Adaptivedatasets/allAdaptive_good.rds\"))"
   ]
  },
  {
   "cell_type": "code",
   "execution_count": 69,
   "metadata": {
    "vscode": {
     "languageId": "r"
    }
   },
   "outputs": [],
   "source": [
    "# remove those with no TCR data\n",
    "meta_div <- meta_div[ !is.na(meta_div$file),]"
   ]
  },
  {
   "cell_type": "code",
   "execution_count": 70,
   "metadata": {
    "vscode": {
     "languageId": "r"
    }
   },
   "outputs": [
    {
     "data": {
      "text/plain": [
       "     \n",
       "      PBMC Tumor cfDNA\n",
       "  X00   24    17     0\n",
       "  X01   47     0    56\n",
       "  X02   53     0    64\n",
       "  X03   52     0    56\n",
       "  X04   42     0    51\n",
       "  X05   40     0    43"
      ]
     },
     "metadata": {},
     "output_type": "display_data"
    }
   ],
   "source": [
    "table(meta_div$cycle, meta_div$sampletype)"
   ]
  },
  {
   "cell_type": "code",
   "execution_count": 71,
   "metadata": {
    "vscode": {
     "languageId": "r"
    }
   },
   "outputs": [],
   "source": [
    "meta_div$study <- \"INTERCEPT\"\n",
    "meta_div$Agegroup <- \"Child\"\n",
    "meta_div$Sex <- NA\n",
    "meta_div$disease <- meta_div$cancergroup\n",
    "meta_div$sample_name <- meta_div$basename"
   ]
  },
  {
   "cell_type": "code",
   "execution_count": 72,
   "metadata": {
    "vscode": {
     "languageId": "r"
    }
   },
   "outputs": [],
   "source": [
    "allAdaptive$sampletype <- \"PBMC\"\n",
    "#allAdaptive$sampletype[grepl(\"Cord\", allAdaptive$sample_name )] <- \"Cord blood\""
   ]
  },
  {
   "cell_type": "code",
   "execution_count": 73,
   "metadata": {
    "vscode": {
     "languageId": "r"
    }
   },
   "outputs": [],
   "source": [
    "# replace age with Age in allAdative\n",
    "colnames(allAdaptive)[colnames(allAdaptive) == \"age\"] <- \"Age\"\n",
    "# subject in allAdaptive is the same as Patient in meta_div\n",
    "colnames(allAdaptive)[colnames(allAdaptive) == \"subject\"] <- \"Patient\""
   ]
  },
  {
   "cell_type": "code",
   "execution_count": 74,
   "metadata": {
    "vscode": {
     "languageId": "r"
    }
   },
   "outputs": [],
   "source": [
    "mycols <- intersect(colnames(meta_div), colnames(allAdaptive))"
   ]
  },
  {
   "cell_type": "code",
   "execution_count": 75,
   "metadata": {
    "vscode": {
     "languageId": "r"
    }
   },
   "outputs": [
    {
     "data": {
      "text/html": [
       "<style>\n",
       ".list-inline {list-style: none; margin:0; padding: 0}\n",
       ".list-inline>li {display: inline-block}\n",
       ".list-inline>li:not(:last-child)::after {content: \"\\00b7\"; padding: 0 .5ex}\n",
       "</style>\n",
       "<ol class=list-inline><li>'Patient'</li><li>'Age'</li><li>'sampletype'</li><li>'study'</li><li>'Agegroup'</li><li>'Sex'</li><li>'disease'</li><li>'sample_name'</li></ol>\n"
      ],
      "text/latex": [
       "\\begin{enumerate*}\n",
       "\\item 'Patient'\n",
       "\\item 'Age'\n",
       "\\item 'sampletype'\n",
       "\\item 'study'\n",
       "\\item 'Agegroup'\n",
       "\\item 'Sex'\n",
       "\\item 'disease'\n",
       "\\item 'sample\\_name'\n",
       "\\end{enumerate*}\n"
      ],
      "text/markdown": [
       "1. 'Patient'\n",
       "2. 'Age'\n",
       "3. 'sampletype'\n",
       "4. 'study'\n",
       "5. 'Agegroup'\n",
       "6. 'Sex'\n",
       "7. 'disease'\n",
       "8. 'sample_name'\n",
       "\n",
       "\n"
      ],
      "text/plain": [
       "[1] \"Patient\"     \"Age\"         \"sampletype\"  \"study\"       \"Agegroup\"   \n",
       "[6] \"Sex\"         \"disease\"     \"sample_name\""
      ]
     },
     "metadata": {},
     "output_type": "display_data"
    }
   ],
   "source": [
    "mycols"
   ]
  },
  {
   "cell_type": "code",
   "execution_count": 76,
   "metadata": {
    "vscode": {
     "languageId": "r"
    }
   },
   "outputs": [],
   "source": [
    "all_metadata <- rbind(allAdaptive[,mycols], meta_div[,mycols])"
   ]
  },
  {
   "cell_type": "code",
   "execution_count": 77,
   "metadata": {
    "vscode": {
     "languageId": "r"
    }
   },
   "outputs": [
    {
     "data": {
      "text/html": [
       "<style>\n",
       ".list-inline {list-style: none; margin:0; padding: 0}\n",
       ".list-inline>li {display: inline-block}\n",
       ".list-inline>li:not(:last-child)::after {content: \"\\00b7\"; padding: 0 .5ex}\n",
       "</style>\n",
       "<ol class=list-inline><li>1677</li><li>8</li></ol>\n"
      ],
      "text/latex": [
       "\\begin{enumerate*}\n",
       "\\item 1677\n",
       "\\item 8\n",
       "\\end{enumerate*}\n"
      ],
      "text/markdown": [
       "1. 1677\n",
       "2. 8\n",
       "\n",
       "\n"
      ],
      "text/plain": [
       "[1] 1677    8"
      ]
     },
     "metadata": {},
     "output_type": "display_data"
    }
   ],
   "source": [
    "dim(all_metadata)"
   ]
  },
  {
   "cell_type": "code",
   "execution_count": 78,
   "metadata": {
    "vscode": {
     "languageId": "r"
    }
   },
   "outputs": [
    {
     "data": {
      "text/html": [
       "<table class=\"dataframe\">\n",
       "<caption>A data.frame: 6 x 8</caption>\n",
       "<thead>\n",
       "\t<tr><th></th><th scope=col>Patient</th><th scope=col>Age</th><th scope=col>sampletype</th><th scope=col>study</th><th scope=col>Agegroup</th><th scope=col>Sex</th><th scope=col>disease</th><th scope=col>sample_name</th></tr>\n",
       "\t<tr><th></th><th scope=col>&lt;chr&gt;</th><th scope=col>&lt;dbl&gt;</th><th scope=col>&lt;chr&gt;</th><th scope=col>&lt;chr&gt;</th><th scope=col>&lt;chr&gt;</th><th scope=col>&lt;chr&gt;</th><th scope=col>&lt;chr&gt;</th><th scope=col>&lt;chr&gt;</th></tr>\n",
       "</thead>\n",
       "<tbody>\n",
       "\t<tr><th scope=row>21</th><td>Peds_Ctrl_2        </td><td>NA</td><td>PBMC</td><td>Henderson</td><td>Child</td><td>NA</td><td>Peds healthy Control</td><td>Peds_Ctrl_2        </td></tr>\n",
       "\t<tr><th scope=row>22</th><td>MAS_3              </td><td>NA</td><td>PBMC</td><td>Henderson</td><td>Child</td><td>NA</td><td>MAS                 </td><td>MAS_3              </td></tr>\n",
       "\t<tr><th scope=row>23</th><td>Peds_Febrile_Ctrl_3</td><td>NA</td><td>PBMC</td><td>Henderson</td><td>Child</td><td>NA</td><td>Peds febrile Control</td><td>Peds_Febrile_Ctrl_3</td></tr>\n",
       "\t<tr><th scope=row>25</th><td>KD_4               </td><td>NA</td><td>PBMC</td><td>Henderson</td><td>Child</td><td>NA</td><td>KD                  </td><td>KD_4               </td></tr>\n",
       "\t<tr><th scope=row>26</th><td>KD_3               </td><td>NA</td><td>PBMC</td><td>Henderson</td><td>Child</td><td>NA</td><td>KD                  </td><td>KD_3               </td></tr>\n",
       "\t<tr><th scope=row>29</th><td>sJIA_7             </td><td>NA</td><td>PBMC</td><td>Henderson</td><td>Child</td><td>NA</td><td>sJIA                </td><td>sJIA_7             </td></tr>\n",
       "</tbody>\n",
       "</table>\n"
      ],
      "text/latex": [
       "A data.frame: 6 x 8\n",
       "\\begin{tabular}{r|llllllll}\n",
       "  & Patient & Age & sampletype & study & Agegroup & Sex & disease & sample\\_name\\\\\n",
       "  & <chr> & <dbl> & <chr> & <chr> & <chr> & <chr> & <chr> & <chr>\\\\\n",
       "\\hline\n",
       "\t21 & Peds\\_Ctrl\\_2         & NA & PBMC & Henderson & Child & NA & Peds healthy Control & Peds\\_Ctrl\\_2        \\\\\n",
       "\t22 & MAS\\_3               & NA & PBMC & Henderson & Child & NA & MAS                  & MAS\\_3              \\\\\n",
       "\t23 & Peds\\_Febrile\\_Ctrl\\_3 & NA & PBMC & Henderson & Child & NA & Peds febrile Control & Peds\\_Febrile\\_Ctrl\\_3\\\\\n",
       "\t25 & KD\\_4                & NA & PBMC & Henderson & Child & NA & KD                   & KD\\_4               \\\\\n",
       "\t26 & KD\\_3                & NA & PBMC & Henderson & Child & NA & KD                   & KD\\_3               \\\\\n",
       "\t29 & sJIA\\_7              & NA & PBMC & Henderson & Child & NA & sJIA                 & sJIA\\_7             \\\\\n",
       "\\end{tabular}\n"
      ],
      "text/markdown": [
       "\n",
       "A data.frame: 6 x 8\n",
       "\n",
       "| <!--/--> | Patient &lt;chr&gt; | Age &lt;dbl&gt; | sampletype &lt;chr&gt; | study &lt;chr&gt; | Agegroup &lt;chr&gt; | Sex &lt;chr&gt; | disease &lt;chr&gt; | sample_name &lt;chr&gt; |\n",
       "|---|---|---|---|---|---|---|---|---|\n",
       "| 21 | Peds_Ctrl_2         | NA | PBMC | Henderson | Child | NA | Peds healthy Control | Peds_Ctrl_2         |\n",
       "| 22 | MAS_3               | NA | PBMC | Henderson | Child | NA | MAS                  | MAS_3               |\n",
       "| 23 | Peds_Febrile_Ctrl_3 | NA | PBMC | Henderson | Child | NA | Peds febrile Control | Peds_Febrile_Ctrl_3 |\n",
       "| 25 | KD_4                | NA | PBMC | Henderson | Child | NA | KD                   | KD_4                |\n",
       "| 26 | KD_3                | NA | PBMC | Henderson | Child | NA | KD                   | KD_3                |\n",
       "| 29 | sJIA_7              | NA | PBMC | Henderson | Child | NA | sJIA                 | sJIA_7              |\n",
       "\n"
      ],
      "text/plain": [
       "   Patient             Age sampletype study     Agegroup Sex\n",
       "21 Peds_Ctrl_2         NA  PBMC       Henderson Child    NA \n",
       "22 MAS_3               NA  PBMC       Henderson Child    NA \n",
       "23 Peds_Febrile_Ctrl_3 NA  PBMC       Henderson Child    NA \n",
       "25 KD_4                NA  PBMC       Henderson Child    NA \n",
       "26 KD_3                NA  PBMC       Henderson Child    NA \n",
       "29 sJIA_7              NA  PBMC       Henderson Child    NA \n",
       "   disease              sample_name        \n",
       "21 Peds healthy Control Peds_Ctrl_2        \n",
       "22 MAS                  MAS_3              \n",
       "23 Peds febrile Control Peds_Febrile_Ctrl_3\n",
       "25 KD                   KD_4               \n",
       "26 KD                   KD_3               \n",
       "29 sJIA                 sJIA_7             "
      ]
     },
     "metadata": {},
     "output_type": "display_data"
    }
   ],
   "source": [
    "head(all_metadata)"
   ]
  },
  {
   "cell_type": "code",
   "execution_count": 79,
   "metadata": {
    "vscode": {
     "languageId": "r"
    }
   },
   "outputs": [
    {
     "data": {
      "text/plain": [
       "\n",
       "        Emerson       Henderson       INTERCEPT        Mitchell Mitchell_Denver \n",
       "            773              25             545             203             131 "
      ]
     },
     "metadata": {},
     "output_type": "display_data"
    }
   ],
   "source": [
    "table(all_metadata$study)"
   ]
  },
  {
   "cell_type": "code",
   "execution_count": 80,
   "metadata": {
    "vscode": {
     "languageId": "r"
    }
   },
   "outputs": [],
   "source": [
    "#save all_metadata\n",
    "readr::write_rds(all_metadata, file = paste0(datapath, \"all_metadata_good.rds\"))"
   ]
  },
  {
   "cell_type": "code",
   "execution_count": 81,
   "metadata": {
    "vscode": {
     "languageId": "r"
    }
   },
   "outputs": [
    {
     "data": {
      "text/plain": [
       "\n",
       " Adolescent       Adult       Child     Neonate      Senior Young Adult \n",
       "         98         505         788          35          27          89 "
      ]
     },
     "metadata": {},
     "output_type": "display_data"
    }
   ],
   "source": [
    "table(all_metadata$Agegroup)"
   ]
  },
  {
   "attachments": {},
   "cell_type": "markdown",
   "metadata": {},
   "source": [
    "## All PBMC data"
   ]
  },
  {
   "cell_type": "code",
   "execution_count": 82,
   "metadata": {
    "vscode": {
     "languageId": "r"
    }
   },
   "outputs": [],
   "source": [
    "# remove cfDNA samples\n",
    "all_metadata_pbmc <- all_metadata[!grepl(\"cfDNA\", all_metadata$sample_name),]\n",
    "\n",
    "all_metadata_pbmc <- all_metadata_pbmc[!grepl(\"FFPE\", all_metadata_pbmc$sample_name),]"
   ]
  },
  {
   "cell_type": "code",
   "execution_count": 83,
   "metadata": {
    "vscode": {
     "languageId": "r"
    }
   },
   "outputs": [
    {
     "data": {
      "text/html": [
       "<style>\n",
       ".list-inline {list-style: none; margin:0; padding: 0}\n",
       ".list-inline>li {display: inline-block}\n",
       ".list-inline>li:not(:last-child)::after {content: \"\\00b7\"; padding: 0 .5ex}\n",
       "</style>\n",
       "<ol class=list-inline><li>1390</li><li>8</li></ol>\n"
      ],
      "text/latex": [
       "\\begin{enumerate*}\n",
       "\\item 1390\n",
       "\\item 8\n",
       "\\end{enumerate*}\n"
      ],
      "text/markdown": [
       "1. 1390\n",
       "2. 8\n",
       "\n",
       "\n"
      ],
      "text/plain": [
       "[1] 1390    8"
      ]
     },
     "metadata": {},
     "output_type": "display_data"
    }
   ],
   "source": [
    "dim(all_metadata_pbmc)"
   ]
  },
  {
   "cell_type": "code",
   "execution_count": 84,
   "metadata": {
    "vscode": {
     "languageId": "r"
    }
   },
   "outputs": [
    {
     "data": {
      "text/plain": [
       "\n",
       "        Emerson       Henderson       INTERCEPT        Mitchell Mitchell_Denver \n",
       "            773              25             258             203             131 "
      ]
     },
     "metadata": {},
     "output_type": "display_data"
    }
   ],
   "source": [
    "table(all_metadata_pbmc$study)"
   ]
  },
  {
   "attachments": {},
   "cell_type": "markdown",
   "metadata": {},
   "source": [
    "## Discovery set of baseline only"
   ]
  },
  {
   "cell_type": "code",
   "execution_count": 85,
   "metadata": {
    "vscode": {
     "languageId": "r"
    }
   },
   "outputs": [],
   "source": [
    "discovery_metadata <- all_metadata_pbmc[ all_metadata_pbmc$study != \"Mitchell_Denver\",]"
   ]
  },
  {
   "cell_type": "code",
   "execution_count": 86,
   "metadata": {
    "vscode": {
     "languageId": "r"
    }
   },
   "outputs": [],
   "source": [
    "discovery_metadata <- discovery_metadata[ !grepl(\"Keck\", discovery_metadata$sample_name),] # emerson validation set"
   ]
  },
  {
   "cell_type": "code",
   "execution_count": 87,
   "metadata": {
    "vscode": {
     "languageId": "r"
    }
   },
   "outputs": [
    {
     "data": {
      "text/html": [
       "<style>\n",
       ".list-inline {list-style: none; margin:0; padding: 0}\n",
       ".list-inline>li {display: inline-block}\n",
       ".list-inline>li:not(:last-child)::after {content: \"\\00b7\"; padding: 0 .5ex}\n",
       "</style>\n",
       "<ol class=list-inline><li>258</li><li>8</li></ol>\n"
      ],
      "text/latex": [
       "\\begin{enumerate*}\n",
       "\\item 258\n",
       "\\item 8\n",
       "\\end{enumerate*}\n"
      ],
      "text/markdown": [
       "1. 258\n",
       "2. 8\n",
       "\n",
       "\n"
      ],
      "text/plain": [
       "[1] 258   8"
      ]
     },
     "metadata": {},
     "output_type": "display_data"
    }
   ],
   "source": [
    "dim(discovery_metadata[ discovery_metadata$study == \"INTERCEPT\",])"
   ]
  },
  {
   "cell_type": "code",
   "execution_count": 88,
   "metadata": {
    "vscode": {
     "languageId": "r"
    }
   },
   "outputs": [
    {
     "data": {
      "text/html": [
       "<style>\n",
       ".list-inline {list-style: none; margin:0; padding: 0}\n",
       ".list-inline>li {display: inline-block}\n",
       ".list-inline>li:not(:last-child)::after {content: \"\\00b7\"; padding: 0 .5ex}\n",
       "</style>\n",
       "<ol class=list-inline><li>1140</li><li>8</li></ol>\n"
      ],
      "text/latex": [
       "\\begin{enumerate*}\n",
       "\\item 1140\n",
       "\\item 8\n",
       "\\end{enumerate*}\n"
      ],
      "text/markdown": [
       "1. 1140\n",
       "2. 8\n",
       "\n",
       "\n"
      ],
      "text/plain": [
       "[1] 1140    8"
      ]
     },
     "metadata": {},
     "output_type": "display_data"
    }
   ],
   "source": [
    "dim(discovery_metadata)"
   ]
  },
  {
   "attachments": {},
   "cell_type": "markdown",
   "metadata": {},
   "source": [
    "#### sample intercept study"
   ]
  },
  {
   "cell_type": "code",
   "execution_count": 89,
   "metadata": {
    "vscode": {
     "languageId": "r"
    }
   },
   "outputs": [],
   "source": [
    "# subset to INTERCEPT study\n",
    "intonly <- discovery_metadata[ discovery_metadata$study == \"INTERCEPT\",]"
   ]
  },
  {
   "cell_type": "code",
   "execution_count": 90,
   "metadata": {
    "vscode": {
     "languageId": "r"
    }
   },
   "outputs": [
    {
     "data": {
      "text/html": [
       "112"
      ],
      "text/latex": [
       "112"
      ],
      "text/markdown": [
       "112"
      ],
      "text/plain": [
       "[1] 112"
      ]
     },
     "metadata": {},
     "output_type": "display_data"
    }
   ],
   "source": [
    "length(table(intonly$Patient)) # number of patients"
   ]
  },
  {
   "attachments": {},
   "cell_type": "markdown",
   "metadata": {},
   "source": [
    "subset to baseline only"
   ]
  },
  {
   "cell_type": "code",
   "execution_count": 91,
   "metadata": {
    "vscode": {
     "languageId": "r"
    }
   },
   "outputs": [],
   "source": [
    "intonly_01 <- intonly[ grepl( \"-01\",intonly$sample_name),]\n",
    "normal_int <- intonly[ grepl( \"Normal\",intonly$disease),]\n",
    "lfs_int <- intonly[ grepl( \"LFS\",intonly$sample_name),]"
   ]
  },
  {
   "cell_type": "code",
   "execution_count": 92,
   "metadata": {
    "vscode": {
     "languageId": "r"
    }
   },
   "outputs": [],
   "source": [
    "# rbind\n",
    "intonly_01_normal_lfs <- rbind(intonly_01, normal_int, lfs_int)"
   ]
  },
  {
   "cell_type": "code",
   "execution_count": 93,
   "metadata": {
    "vscode": {
     "languageId": "r"
    }
   },
   "outputs": [
    {
     "data": {
      "text/html": [
       "<style>\n",
       ".list-inline {list-style: none; margin:0; padding: 0}\n",
       ".list-inline>li {display: inline-block}\n",
       ".list-inline>li:not(:last-child)::after {content: \"\\00b7\"; padding: 0 .5ex}\n",
       "</style>\n",
       "<ol class=list-inline><li>71</li><li>8</li></ol>\n"
      ],
      "text/latex": [
       "\\begin{enumerate*}\n",
       "\\item 71\n",
       "\\item 8\n",
       "\\end{enumerate*}\n"
      ],
      "text/markdown": [
       "1. 71\n",
       "2. 8\n",
       "\n",
       "\n"
      ],
      "text/plain": [
       "[1] 71  8"
      ]
     },
     "metadata": {},
     "output_type": "display_data"
    }
   ],
   "source": [
    "dim(intonly_01_normal_lfs)"
   ]
  },
  {
   "cell_type": "code",
   "execution_count": 94,
   "metadata": {
    "vscode": {
     "languageId": "r"
    }
   },
   "outputs": [],
   "source": [
    "myfreq <- as.data.frame(table(intonly_01_normal_lfs$Patient, intonly_01_normal_lfs$disease), stringsAsFactors = F)"
   ]
  },
  {
   "cell_type": "code",
   "execution_count": 95,
   "metadata": {
    "vscode": {
     "languageId": "r"
    }
   },
   "outputs": [
    {
     "data": {
      "text/html": [
       "<table class=\"dataframe\">\n",
       "<caption>A data.frame: 71 x 3</caption>\n",
       "<thead>\n",
       "\t<tr><th></th><th scope=col>Var1</th><th scope=col>Var2</th><th scope=col>Freq</th></tr>\n",
       "\t<tr><th></th><th scope=col>&lt;chr&gt;</th><th scope=col>&lt;chr&gt;</th><th scope=col>&lt;int&gt;</th></tr>\n",
       "</thead>\n",
       "<tbody>\n",
       "\t<tr><th scope=row>62</th><td>LFS_TCR_4535</td><td>LFS     </td><td>1</td></tr>\n",
       "\t<tr><th scope=row>63</th><td>LFS_TCR_4570</td><td>LFS     </td><td>1</td></tr>\n",
       "\t<tr><th scope=row>64</th><td>LFS_TCR_4602</td><td>LFS     </td><td>1</td></tr>\n",
       "\t<tr><th scope=row>65</th><td>LFS_TCR_4758</td><td>LFS     </td><td>1</td></tr>\n",
       "\t<tr><th scope=row>66</th><td>LFS_TCR_4759</td><td>LFS     </td><td>1</td></tr>\n",
       "\t<tr><th scope=row>67</th><td>LFS_TCR_4783</td><td>LFS     </td><td>1</td></tr>\n",
       "\t<tr><th scope=row>68</th><td>LFS_TCR_4837</td><td>LFS     </td><td>1</td></tr>\n",
       "\t<tr><th scope=row>69</th><td>LFS_TCR_4838</td><td>LFS     </td><td>1</td></tr>\n",
       "\t<tr><th scope=row>70</th><td>LFS_TCR_5014</td><td>LFS     </td><td>1</td></tr>\n",
       "\t<tr><th scope=row>71</th><td>LFS_TCR_5067</td><td>LFS     </td><td>1</td></tr>\n",
       "\t<tr><th scope=row>82</th><td>CHP_347     </td><td>Leukemia</td><td>1</td></tr>\n",
       "\t<tr><th scope=row>84</th><td>CHP_349     </td><td>Leukemia</td><td>1</td></tr>\n",
       "\t<tr><th scope=row>86</th><td>CHP_352     </td><td>Leukemia</td><td>1</td></tr>\n",
       "\t<tr><th scope=row>87</th><td>CHP_353     </td><td>Leukemia</td><td>1</td></tr>\n",
       "\t<tr><th scope=row>88</th><td>CHP_354     </td><td>Leukemia</td><td>1</td></tr>\n",
       "\t<tr><th scope=row>89</th><td>CHP_355     </td><td>Leukemia</td><td>1</td></tr>\n",
       "\t<tr><th scope=row>90</th><td>CHP_357     </td><td>Leukemia</td><td>1</td></tr>\n",
       "\t<tr><th scope=row>95</th><td>CHP_365     </td><td>Leukemia</td><td>1</td></tr>\n",
       "\t<tr><th scope=row>97</th><td>CHP_367     </td><td>Leukemia</td><td>1</td></tr>\n",
       "\t<tr><th scope=row>99</th><td>CHP_369     </td><td>Leukemia</td><td>1</td></tr>\n",
       "\t<tr><th scope=row>103</th><td>CHP_373     </td><td>Leukemia</td><td>1</td></tr>\n",
       "\t<tr><th scope=row>104</th><td>CHP_377     </td><td>Leukemia</td><td>1</td></tr>\n",
       "\t<tr><th scope=row>105</th><td>CHP_378     </td><td>Leukemia</td><td>1</td></tr>\n",
       "\t<tr><th scope=row>107</th><td>CHP_387     </td><td>Leukemia</td><td>1</td></tr>\n",
       "\t<tr><th scope=row>109</th><td>CHP_396     </td><td>Leukemia</td><td>1</td></tr>\n",
       "\t<tr><th scope=row>110</th><td>CHP_397     </td><td>Leukemia</td><td>1</td></tr>\n",
       "\t<tr><th scope=row>111</th><td>CHP_399     </td><td>Leukemia</td><td>1</td></tr>\n",
       "\t<tr><th scope=row>117</th><td>CHP_405     </td><td>Leukemia</td><td>1</td></tr>\n",
       "\t<tr><th scope=row>120</th><td>CHP_410     </td><td>Leukemia</td><td>1</td></tr>\n",
       "\t<tr><th scope=row>121</th><td>CHP_411     </td><td>Leukemia</td><td>1</td></tr>\n",
       "\t<tr><th scope=row>...</th><td>...</td><td>...</td><td>...</td></tr>\n",
       "\t<tr><th scope=row>196</th><td>CHP_415     </td><td>Lymphoma</td><td>1</td></tr>\n",
       "\t<tr><th scope=row>214</th><td>CHP_10YO_M  </td><td>Normal  </td><td>1</td></tr>\n",
       "\t<tr><th scope=row>215</th><td>CHP_11YO_M  </td><td>Normal  </td><td>1</td></tr>\n",
       "\t<tr><th scope=row>216</th><td>CHP_15YO_F_A</td><td>Normal  </td><td>1</td></tr>\n",
       "\t<tr><th scope=row>217</th><td>CHP_15YO_F_B</td><td>Normal  </td><td>1</td></tr>\n",
       "\t<tr><th scope=row>218</th><td>CHP_15YO_M  </td><td>Normal  </td><td>1</td></tr>\n",
       "\t<tr><th scope=row>219</th><td>CHP_16YO_M  </td><td>Normal  </td><td>1</td></tr>\n",
       "\t<tr><th scope=row>220</th><td>CHP_1YO_M_A </td><td>Normal  </td><td>1</td></tr>\n",
       "\t<tr><th scope=row>221</th><td>CHP_1YO_M_B </td><td>Normal  </td><td>1</td></tr>\n",
       "\t<tr><th scope=row>222</th><td>CHP_2YO_M   </td><td>Normal  </td><td>1</td></tr>\n",
       "\t<tr><th scope=row>254</th><td>CHP_3YO_F   </td><td>Normal  </td><td>1</td></tr>\n",
       "\t<tr><th scope=row>255</th><td>CHP_3YO_M_A </td><td>Normal  </td><td>1</td></tr>\n",
       "\t<tr><th scope=row>256</th><td>CHP_3YO_M_B </td><td>Normal  </td><td>1</td></tr>\n",
       "\t<tr><th scope=row>273</th><td>CHP_5YO_M   </td><td>Normal  </td><td>1</td></tr>\n",
       "\t<tr><th scope=row>274</th><td>CHP_8MO_F   </td><td>Normal  </td><td>1</td></tr>\n",
       "\t<tr><th scope=row>294</th><td>CHP_346     </td><td>Solid   </td><td>1</td></tr>\n",
       "\t<tr><th scope=row>296</th><td>CHP_348     </td><td>Solid   </td><td>1</td></tr>\n",
       "\t<tr><th scope=row>298</th><td>CHP_350     </td><td>Solid   </td><td>1</td></tr>\n",
       "\t<tr><th scope=row>305</th><td>CHP_362     </td><td>Solid   </td><td>1</td></tr>\n",
       "\t<tr><th scope=row>306</th><td>CHP_363     </td><td>Solid   </td><td>1</td></tr>\n",
       "\t<tr><th scope=row>307</th><td>CHP_364     </td><td>Solid   </td><td>1</td></tr>\n",
       "\t<tr><th scope=row>311</th><td>CHP_368     </td><td>Solid   </td><td>1</td></tr>\n",
       "\t<tr><th scope=row>319</th><td>CHP_381     </td><td>Solid   </td><td>1</td></tr>\n",
       "\t<tr><th scope=row>321</th><td>CHP_394     </td><td>Solid   </td><td>1</td></tr>\n",
       "\t<tr><th scope=row>328</th><td>CHP_401     </td><td>Solid   </td><td>1</td></tr>\n",
       "\t<tr><th scope=row>329</th><td>CHP_404     </td><td>Solid   </td><td>1</td></tr>\n",
       "\t<tr><th scope=row>331</th><td>CHP_408     </td><td>Solid   </td><td>1</td></tr>\n",
       "\t<tr><th scope=row>332</th><td>CHP_409     </td><td>Solid   </td><td>1</td></tr>\n",
       "\t<tr><th scope=row>337</th><td>CHP_414     </td><td>Solid   </td><td>1</td></tr>\n",
       "\t<tr><th scope=row>341</th><td>CHP_418     </td><td>Solid   </td><td>1</td></tr>\n",
       "</tbody>\n",
       "</table>\n"
      ],
      "text/latex": [
       "A data.frame: 71 x 3\n",
       "\\begin{tabular}{r|lll}\n",
       "  & Var1 & Var2 & Freq\\\\\n",
       "  & <chr> & <chr> & <int>\\\\\n",
       "\\hline\n",
       "\t62 & LFS\\_TCR\\_4535 & LFS      & 1\\\\\n",
       "\t63 & LFS\\_TCR\\_4570 & LFS      & 1\\\\\n",
       "\t64 & LFS\\_TCR\\_4602 & LFS      & 1\\\\\n",
       "\t65 & LFS\\_TCR\\_4758 & LFS      & 1\\\\\n",
       "\t66 & LFS\\_TCR\\_4759 & LFS      & 1\\\\\n",
       "\t67 & LFS\\_TCR\\_4783 & LFS      & 1\\\\\n",
       "\t68 & LFS\\_TCR\\_4837 & LFS      & 1\\\\\n",
       "\t69 & LFS\\_TCR\\_4838 & LFS      & 1\\\\\n",
       "\t70 & LFS\\_TCR\\_5014 & LFS      & 1\\\\\n",
       "\t71 & LFS\\_TCR\\_5067 & LFS      & 1\\\\\n",
       "\t82 & CHP\\_347      & Leukemia & 1\\\\\n",
       "\t84 & CHP\\_349      & Leukemia & 1\\\\\n",
       "\t86 & CHP\\_352      & Leukemia & 1\\\\\n",
       "\t87 & CHP\\_353      & Leukemia & 1\\\\\n",
       "\t88 & CHP\\_354      & Leukemia & 1\\\\\n",
       "\t89 & CHP\\_355      & Leukemia & 1\\\\\n",
       "\t90 & CHP\\_357      & Leukemia & 1\\\\\n",
       "\t95 & CHP\\_365      & Leukemia & 1\\\\\n",
       "\t97 & CHP\\_367      & Leukemia & 1\\\\\n",
       "\t99 & CHP\\_369      & Leukemia & 1\\\\\n",
       "\t103 & CHP\\_373      & Leukemia & 1\\\\\n",
       "\t104 & CHP\\_377      & Leukemia & 1\\\\\n",
       "\t105 & CHP\\_378      & Leukemia & 1\\\\\n",
       "\t107 & CHP\\_387      & Leukemia & 1\\\\\n",
       "\t109 & CHP\\_396      & Leukemia & 1\\\\\n",
       "\t110 & CHP\\_397      & Leukemia & 1\\\\\n",
       "\t111 & CHP\\_399      & Leukemia & 1\\\\\n",
       "\t117 & CHP\\_405      & Leukemia & 1\\\\\n",
       "\t120 & CHP\\_410      & Leukemia & 1\\\\\n",
       "\t121 & CHP\\_411      & Leukemia & 1\\\\\n",
       "\t... & ... & ... & ...\\\\\n",
       "\t196 & CHP\\_415      & Lymphoma & 1\\\\\n",
       "\t214 & CHP\\_10YO\\_M   & Normal   & 1\\\\\n",
       "\t215 & CHP\\_11YO\\_M   & Normal   & 1\\\\\n",
       "\t216 & CHP\\_15YO\\_F\\_A & Normal   & 1\\\\\n",
       "\t217 & CHP\\_15YO\\_F\\_B & Normal   & 1\\\\\n",
       "\t218 & CHP\\_15YO\\_M   & Normal   & 1\\\\\n",
       "\t219 & CHP\\_16YO\\_M   & Normal   & 1\\\\\n",
       "\t220 & CHP\\_1YO\\_M\\_A  & Normal   & 1\\\\\n",
       "\t221 & CHP\\_1YO\\_M\\_B  & Normal   & 1\\\\\n",
       "\t222 & CHP\\_2YO\\_M    & Normal   & 1\\\\\n",
       "\t254 & CHP\\_3YO\\_F    & Normal   & 1\\\\\n",
       "\t255 & CHP\\_3YO\\_M\\_A  & Normal   & 1\\\\\n",
       "\t256 & CHP\\_3YO\\_M\\_B  & Normal   & 1\\\\\n",
       "\t273 & CHP\\_5YO\\_M    & Normal   & 1\\\\\n",
       "\t274 & CHP\\_8MO\\_F    & Normal   & 1\\\\\n",
       "\t294 & CHP\\_346      & Solid    & 1\\\\\n",
       "\t296 & CHP\\_348      & Solid    & 1\\\\\n",
       "\t298 & CHP\\_350      & Solid    & 1\\\\\n",
       "\t305 & CHP\\_362      & Solid    & 1\\\\\n",
       "\t306 & CHP\\_363      & Solid    & 1\\\\\n",
       "\t307 & CHP\\_364      & Solid    & 1\\\\\n",
       "\t311 & CHP\\_368      & Solid    & 1\\\\\n",
       "\t319 & CHP\\_381      & Solid    & 1\\\\\n",
       "\t321 & CHP\\_394      & Solid    & 1\\\\\n",
       "\t328 & CHP\\_401      & Solid    & 1\\\\\n",
       "\t329 & CHP\\_404      & Solid    & 1\\\\\n",
       "\t331 & CHP\\_408      & Solid    & 1\\\\\n",
       "\t332 & CHP\\_409      & Solid    & 1\\\\\n",
       "\t337 & CHP\\_414      & Solid    & 1\\\\\n",
       "\t341 & CHP\\_418      & Solid    & 1\\\\\n",
       "\\end{tabular}\n"
      ],
      "text/markdown": [
       "\n",
       "A data.frame: 71 x 3\n",
       "\n",
       "| <!--/--> | Var1 &lt;chr&gt; | Var2 &lt;chr&gt; | Freq &lt;int&gt; |\n",
       "|---|---|---|---|\n",
       "| 62 | LFS_TCR_4535 | LFS      | 1 |\n",
       "| 63 | LFS_TCR_4570 | LFS      | 1 |\n",
       "| 64 | LFS_TCR_4602 | LFS      | 1 |\n",
       "| 65 | LFS_TCR_4758 | LFS      | 1 |\n",
       "| 66 | LFS_TCR_4759 | LFS      | 1 |\n",
       "| 67 | LFS_TCR_4783 | LFS      | 1 |\n",
       "| 68 | LFS_TCR_4837 | LFS      | 1 |\n",
       "| 69 | LFS_TCR_4838 | LFS      | 1 |\n",
       "| 70 | LFS_TCR_5014 | LFS      | 1 |\n",
       "| 71 | LFS_TCR_5067 | LFS      | 1 |\n",
       "| 82 | CHP_347      | Leukemia | 1 |\n",
       "| 84 | CHP_349      | Leukemia | 1 |\n",
       "| 86 | CHP_352      | Leukemia | 1 |\n",
       "| 87 | CHP_353      | Leukemia | 1 |\n",
       "| 88 | CHP_354      | Leukemia | 1 |\n",
       "| 89 | CHP_355      | Leukemia | 1 |\n",
       "| 90 | CHP_357      | Leukemia | 1 |\n",
       "| 95 | CHP_365      | Leukemia | 1 |\n",
       "| 97 | CHP_367      | Leukemia | 1 |\n",
       "| 99 | CHP_369      | Leukemia | 1 |\n",
       "| 103 | CHP_373      | Leukemia | 1 |\n",
       "| 104 | CHP_377      | Leukemia | 1 |\n",
       "| 105 | CHP_378      | Leukemia | 1 |\n",
       "| 107 | CHP_387      | Leukemia | 1 |\n",
       "| 109 | CHP_396      | Leukemia | 1 |\n",
       "| 110 | CHP_397      | Leukemia | 1 |\n",
       "| 111 | CHP_399      | Leukemia | 1 |\n",
       "| 117 | CHP_405      | Leukemia | 1 |\n",
       "| 120 | CHP_410      | Leukemia | 1 |\n",
       "| 121 | CHP_411      | Leukemia | 1 |\n",
       "| ... | ... | ... | ... |\n",
       "| 196 | CHP_415      | Lymphoma | 1 |\n",
       "| 214 | CHP_10YO_M   | Normal   | 1 |\n",
       "| 215 | CHP_11YO_M   | Normal   | 1 |\n",
       "| 216 | CHP_15YO_F_A | Normal   | 1 |\n",
       "| 217 | CHP_15YO_F_B | Normal   | 1 |\n",
       "| 218 | CHP_15YO_M   | Normal   | 1 |\n",
       "| 219 | CHP_16YO_M   | Normal   | 1 |\n",
       "| 220 | CHP_1YO_M_A  | Normal   | 1 |\n",
       "| 221 | CHP_1YO_M_B  | Normal   | 1 |\n",
       "| 222 | CHP_2YO_M    | Normal   | 1 |\n",
       "| 254 | CHP_3YO_F    | Normal   | 1 |\n",
       "| 255 | CHP_3YO_M_A  | Normal   | 1 |\n",
       "| 256 | CHP_3YO_M_B  | Normal   | 1 |\n",
       "| 273 | CHP_5YO_M    | Normal   | 1 |\n",
       "| 274 | CHP_8MO_F    | Normal   | 1 |\n",
       "| 294 | CHP_346      | Solid    | 1 |\n",
       "| 296 | CHP_348      | Solid    | 1 |\n",
       "| 298 | CHP_350      | Solid    | 1 |\n",
       "| 305 | CHP_362      | Solid    | 1 |\n",
       "| 306 | CHP_363      | Solid    | 1 |\n",
       "| 307 | CHP_364      | Solid    | 1 |\n",
       "| 311 | CHP_368      | Solid    | 1 |\n",
       "| 319 | CHP_381      | Solid    | 1 |\n",
       "| 321 | CHP_394      | Solid    | 1 |\n",
       "| 328 | CHP_401      | Solid    | 1 |\n",
       "| 329 | CHP_404      | Solid    | 1 |\n",
       "| 331 | CHP_408      | Solid    | 1 |\n",
       "| 332 | CHP_409      | Solid    | 1 |\n",
       "| 337 | CHP_414      | Solid    | 1 |\n",
       "| 341 | CHP_418      | Solid    | 1 |\n",
       "\n"
      ],
      "text/plain": [
       "    Var1         Var2     Freq\n",
       "62  LFS_TCR_4535 LFS      1   \n",
       "63  LFS_TCR_4570 LFS      1   \n",
       "64  LFS_TCR_4602 LFS      1   \n",
       "65  LFS_TCR_4758 LFS      1   \n",
       "66  LFS_TCR_4759 LFS      1   \n",
       "67  LFS_TCR_4783 LFS      1   \n",
       "68  LFS_TCR_4837 LFS      1   \n",
       "69  LFS_TCR_4838 LFS      1   \n",
       "70  LFS_TCR_5014 LFS      1   \n",
       "71  LFS_TCR_5067 LFS      1   \n",
       "82  CHP_347      Leukemia 1   \n",
       "84  CHP_349      Leukemia 1   \n",
       "86  CHP_352      Leukemia 1   \n",
       "87  CHP_353      Leukemia 1   \n",
       "88  CHP_354      Leukemia 1   \n",
       "89  CHP_355      Leukemia 1   \n",
       "90  CHP_357      Leukemia 1   \n",
       "95  CHP_365      Leukemia 1   \n",
       "97  CHP_367      Leukemia 1   \n",
       "99  CHP_369      Leukemia 1   \n",
       "103 CHP_373      Leukemia 1   \n",
       "104 CHP_377      Leukemia 1   \n",
       "105 CHP_378      Leukemia 1   \n",
       "107 CHP_387      Leukemia 1   \n",
       "109 CHP_396      Leukemia 1   \n",
       "110 CHP_397      Leukemia 1   \n",
       "111 CHP_399      Leukemia 1   \n",
       "117 CHP_405      Leukemia 1   \n",
       "120 CHP_410      Leukemia 1   \n",
       "121 CHP_411      Leukemia 1   \n",
       "... ...          ...      ... \n",
       "196 CHP_415      Lymphoma 1   \n",
       "214 CHP_10YO_M   Normal   1   \n",
       "215 CHP_11YO_M   Normal   1   \n",
       "216 CHP_15YO_F_A Normal   1   \n",
       "217 CHP_15YO_F_B Normal   1   \n",
       "218 CHP_15YO_M   Normal   1   \n",
       "219 CHP_16YO_M   Normal   1   \n",
       "220 CHP_1YO_M_A  Normal   1   \n",
       "221 CHP_1YO_M_B  Normal   1   \n",
       "222 CHP_2YO_M    Normal   1   \n",
       "254 CHP_3YO_F    Normal   1   \n",
       "255 CHP_3YO_M_A  Normal   1   \n",
       "256 CHP_3YO_M_B  Normal   1   \n",
       "273 CHP_5YO_M    Normal   1   \n",
       "274 CHP_8MO_F    Normal   1   \n",
       "294 CHP_346      Solid    1   \n",
       "296 CHP_348      Solid    1   \n",
       "298 CHP_350      Solid    1   \n",
       "305 CHP_362      Solid    1   \n",
       "306 CHP_363      Solid    1   \n",
       "307 CHP_364      Solid    1   \n",
       "311 CHP_368      Solid    1   \n",
       "319 CHP_381      Solid    1   \n",
       "321 CHP_394      Solid    1   \n",
       "328 CHP_401      Solid    1   \n",
       "329 CHP_404      Solid    1   \n",
       "331 CHP_408      Solid    1   \n",
       "332 CHP_409      Solid    1   \n",
       "337 CHP_414      Solid    1   \n",
       "341 CHP_418      Solid    1   "
      ]
     },
     "metadata": {},
     "output_type": "display_data"
    }
   ],
   "source": [
    "myfreq <- myfreq[myfreq$Freq > 0,]\n",
    "(myfreq)"
   ]
  },
  {
   "cell_type": "code",
   "execution_count": 96,
   "metadata": {
    "vscode": {
     "languageId": "r"
    }
   },
   "outputs": [],
   "source": [
    "# randomly select 60% of baseline samples from each disease group \n",
    "set.seed(7)\n",
    "myfreq %>% group_by(Var2) %>% sample_frac(0.6) -> discovery_sample_freq"
   ]
  },
  {
   "cell_type": "code",
   "execution_count": 97,
   "metadata": {
    "vscode": {
     "languageId": "r"
    }
   },
   "outputs": [
    {
     "data": {
      "text/html": [
       "<table class=\"dataframe\">\n",
       "<caption>A grouped_df: 42 x 3</caption>\n",
       "<thead>\n",
       "\t<tr><th scope=col>Var1</th><th scope=col>Var2</th><th scope=col>Freq</th></tr>\n",
       "\t<tr><th scope=col>&lt;chr&gt;</th><th scope=col>&lt;chr&gt;</th><th scope=col>&lt;int&gt;</th></tr>\n",
       "</thead>\n",
       "<tbody>\n",
       "\t<tr><td>LFS_TCR_5067</td><td>LFS     </td><td>1</td></tr>\n",
       "\t<tr><td>LFS_TCR_4602</td><td>LFS     </td><td>1</td></tr>\n",
       "\t<tr><td>LFS_TCR_4837</td><td>LFS     </td><td>1</td></tr>\n",
       "\t<tr><td>LFS_TCR_4758</td><td>LFS     </td><td>1</td></tr>\n",
       "\t<tr><td>LFS_TCR_4570</td><td>LFS     </td><td>1</td></tr>\n",
       "\t<tr><td>LFS_TCR_4783</td><td>LFS     </td><td>1</td></tr>\n",
       "\t<tr><td>CHP_416     </td><td>Leukemia</td><td>1</td></tr>\n",
       "\t<tr><td>CHP_365     </td><td>Leukemia</td><td>1</td></tr>\n",
       "\t<tr><td>CHP_352     </td><td>Leukemia</td><td>1</td></tr>\n",
       "\t<tr><td>CHP_420     </td><td>Leukemia</td><td>1</td></tr>\n",
       "\t<tr><td>CHP_396     </td><td>Leukemia</td><td>1</td></tr>\n",
       "\t<tr><td>CHP_422     </td><td>Leukemia</td><td>1</td></tr>\n",
       "\t<tr><td>CHP_377     </td><td>Leukemia</td><td>1</td></tr>\n",
       "\t<tr><td>CHP_411     </td><td>Leukemia</td><td>1</td></tr>\n",
       "\t<tr><td>CHP_413     </td><td>Leukemia</td><td>1</td></tr>\n",
       "\t<tr><td>CHP_355     </td><td>Leukemia</td><td>1</td></tr>\n",
       "\t<tr><td>CHP_397     </td><td>Leukemia</td><td>1</td></tr>\n",
       "\t<tr><td>CHP_373     </td><td>Leukemia</td><td>1</td></tr>\n",
       "\t<tr><td>CHP_354     </td><td>Leukemia</td><td>1</td></tr>\n",
       "\t<tr><td>CHP_353     </td><td>Leukemia</td><td>1</td></tr>\n",
       "\t<tr><td>CHP_387     </td><td>Leukemia</td><td>1</td></tr>\n",
       "\t<tr><td>CHP_412     </td><td>Lymphoma</td><td>1</td></tr>\n",
       "\t<tr><td>CHP_366     </td><td>Lymphoma</td><td>1</td></tr>\n",
       "\t<tr><td>CHP_415     </td><td>Lymphoma</td><td>1</td></tr>\n",
       "\t<tr><td>CHP_371     </td><td>Lymphoma</td><td>1</td></tr>\n",
       "\t<tr><td>CHP_16YO_M  </td><td>Normal  </td><td>1</td></tr>\n",
       "\t<tr><td>CHP_1YO_M_B </td><td>Normal  </td><td>1</td></tr>\n",
       "\t<tr><td>CHP_3YO_M_A </td><td>Normal  </td><td>1</td></tr>\n",
       "\t<tr><td>CHP_5YO_M   </td><td>Normal  </td><td>1</td></tr>\n",
       "\t<tr><td>CHP_10YO_M  </td><td>Normal  </td><td>1</td></tr>\n",
       "\t<tr><td>CHP_15YO_F_B</td><td>Normal  </td><td>1</td></tr>\n",
       "\t<tr><td>CHP_3YO_F   </td><td>Normal  </td><td>1</td></tr>\n",
       "\t<tr><td>CHP_15YO_F_A</td><td>Normal  </td><td>1</td></tr>\n",
       "\t<tr><td>CHP_409     </td><td>Solid   </td><td>1</td></tr>\n",
       "\t<tr><td>CHP_363     </td><td>Solid   </td><td>1</td></tr>\n",
       "\t<tr><td>CHP_381     </td><td>Solid   </td><td>1</td></tr>\n",
       "\t<tr><td>CHP_394     </td><td>Solid   </td><td>1</td></tr>\n",
       "\t<tr><td>CHP_414     </td><td>Solid   </td><td>1</td></tr>\n",
       "\t<tr><td>CHP_364     </td><td>Solid   </td><td>1</td></tr>\n",
       "\t<tr><td>CHP_418     </td><td>Solid   </td><td>1</td></tr>\n",
       "\t<tr><td>CHP_404     </td><td>Solid   </td><td>1</td></tr>\n",
       "\t<tr><td>CHP_368     </td><td>Solid   </td><td>1</td></tr>\n",
       "</tbody>\n",
       "</table>\n"
      ],
      "text/latex": [
       "A grouped\\_df: 42 x 3\n",
       "\\begin{tabular}{lll}\n",
       " Var1 & Var2 & Freq\\\\\n",
       " <chr> & <chr> & <int>\\\\\n",
       "\\hline\n",
       "\t LFS\\_TCR\\_5067 & LFS      & 1\\\\\n",
       "\t LFS\\_TCR\\_4602 & LFS      & 1\\\\\n",
       "\t LFS\\_TCR\\_4837 & LFS      & 1\\\\\n",
       "\t LFS\\_TCR\\_4758 & LFS      & 1\\\\\n",
       "\t LFS\\_TCR\\_4570 & LFS      & 1\\\\\n",
       "\t LFS\\_TCR\\_4783 & LFS      & 1\\\\\n",
       "\t CHP\\_416      & Leukemia & 1\\\\\n",
       "\t CHP\\_365      & Leukemia & 1\\\\\n",
       "\t CHP\\_352      & Leukemia & 1\\\\\n",
       "\t CHP\\_420      & Leukemia & 1\\\\\n",
       "\t CHP\\_396      & Leukemia & 1\\\\\n",
       "\t CHP\\_422      & Leukemia & 1\\\\\n",
       "\t CHP\\_377      & Leukemia & 1\\\\\n",
       "\t CHP\\_411      & Leukemia & 1\\\\\n",
       "\t CHP\\_413      & Leukemia & 1\\\\\n",
       "\t CHP\\_355      & Leukemia & 1\\\\\n",
       "\t CHP\\_397      & Leukemia & 1\\\\\n",
       "\t CHP\\_373      & Leukemia & 1\\\\\n",
       "\t CHP\\_354      & Leukemia & 1\\\\\n",
       "\t CHP\\_353      & Leukemia & 1\\\\\n",
       "\t CHP\\_387      & Leukemia & 1\\\\\n",
       "\t CHP\\_412      & Lymphoma & 1\\\\\n",
       "\t CHP\\_366      & Lymphoma & 1\\\\\n",
       "\t CHP\\_415      & Lymphoma & 1\\\\\n",
       "\t CHP\\_371      & Lymphoma & 1\\\\\n",
       "\t CHP\\_16YO\\_M   & Normal   & 1\\\\\n",
       "\t CHP\\_1YO\\_M\\_B  & Normal   & 1\\\\\n",
       "\t CHP\\_3YO\\_M\\_A  & Normal   & 1\\\\\n",
       "\t CHP\\_5YO\\_M    & Normal   & 1\\\\\n",
       "\t CHP\\_10YO\\_M   & Normal   & 1\\\\\n",
       "\t CHP\\_15YO\\_F\\_B & Normal   & 1\\\\\n",
       "\t CHP\\_3YO\\_F    & Normal   & 1\\\\\n",
       "\t CHP\\_15YO\\_F\\_A & Normal   & 1\\\\\n",
       "\t CHP\\_409      & Solid    & 1\\\\\n",
       "\t CHP\\_363      & Solid    & 1\\\\\n",
       "\t CHP\\_381      & Solid    & 1\\\\\n",
       "\t CHP\\_394      & Solid    & 1\\\\\n",
       "\t CHP\\_414      & Solid    & 1\\\\\n",
       "\t CHP\\_364      & Solid    & 1\\\\\n",
       "\t CHP\\_418      & Solid    & 1\\\\\n",
       "\t CHP\\_404      & Solid    & 1\\\\\n",
       "\t CHP\\_368      & Solid    & 1\\\\\n",
       "\\end{tabular}\n"
      ],
      "text/markdown": [
       "\n",
       "A grouped_df: 42 x 3\n",
       "\n",
       "| Var1 &lt;chr&gt; | Var2 &lt;chr&gt; | Freq &lt;int&gt; |\n",
       "|---|---|---|\n",
       "| LFS_TCR_5067 | LFS      | 1 |\n",
       "| LFS_TCR_4602 | LFS      | 1 |\n",
       "| LFS_TCR_4837 | LFS      | 1 |\n",
       "| LFS_TCR_4758 | LFS      | 1 |\n",
       "| LFS_TCR_4570 | LFS      | 1 |\n",
       "| LFS_TCR_4783 | LFS      | 1 |\n",
       "| CHP_416      | Leukemia | 1 |\n",
       "| CHP_365      | Leukemia | 1 |\n",
       "| CHP_352      | Leukemia | 1 |\n",
       "| CHP_420      | Leukemia | 1 |\n",
       "| CHP_396      | Leukemia | 1 |\n",
       "| CHP_422      | Leukemia | 1 |\n",
       "| CHP_377      | Leukemia | 1 |\n",
       "| CHP_411      | Leukemia | 1 |\n",
       "| CHP_413      | Leukemia | 1 |\n",
       "| CHP_355      | Leukemia | 1 |\n",
       "| CHP_397      | Leukemia | 1 |\n",
       "| CHP_373      | Leukemia | 1 |\n",
       "| CHP_354      | Leukemia | 1 |\n",
       "| CHP_353      | Leukemia | 1 |\n",
       "| CHP_387      | Leukemia | 1 |\n",
       "| CHP_412      | Lymphoma | 1 |\n",
       "| CHP_366      | Lymphoma | 1 |\n",
       "| CHP_415      | Lymphoma | 1 |\n",
       "| CHP_371      | Lymphoma | 1 |\n",
       "| CHP_16YO_M   | Normal   | 1 |\n",
       "| CHP_1YO_M_B  | Normal   | 1 |\n",
       "| CHP_3YO_M_A  | Normal   | 1 |\n",
       "| CHP_5YO_M    | Normal   | 1 |\n",
       "| CHP_10YO_M   | Normal   | 1 |\n",
       "| CHP_15YO_F_B | Normal   | 1 |\n",
       "| CHP_3YO_F    | Normal   | 1 |\n",
       "| CHP_15YO_F_A | Normal   | 1 |\n",
       "| CHP_409      | Solid    | 1 |\n",
       "| CHP_363      | Solid    | 1 |\n",
       "| CHP_381      | Solid    | 1 |\n",
       "| CHP_394      | Solid    | 1 |\n",
       "| CHP_414      | Solid    | 1 |\n",
       "| CHP_364      | Solid    | 1 |\n",
       "| CHP_418      | Solid    | 1 |\n",
       "| CHP_404      | Solid    | 1 |\n",
       "| CHP_368      | Solid    | 1 |\n",
       "\n"
      ],
      "text/plain": [
       "   Var1         Var2     Freq\n",
       "1  LFS_TCR_5067 LFS      1   \n",
       "2  LFS_TCR_4602 LFS      1   \n",
       "3  LFS_TCR_4837 LFS      1   \n",
       "4  LFS_TCR_4758 LFS      1   \n",
       "5  LFS_TCR_4570 LFS      1   \n",
       "6  LFS_TCR_4783 LFS      1   \n",
       "7  CHP_416      Leukemia 1   \n",
       "8  CHP_365      Leukemia 1   \n",
       "9  CHP_352      Leukemia 1   \n",
       "10 CHP_420      Leukemia 1   \n",
       "11 CHP_396      Leukemia 1   \n",
       "12 CHP_422      Leukemia 1   \n",
       "13 CHP_377      Leukemia 1   \n",
       "14 CHP_411      Leukemia 1   \n",
       "15 CHP_413      Leukemia 1   \n",
       "16 CHP_355      Leukemia 1   \n",
       "17 CHP_397      Leukemia 1   \n",
       "18 CHP_373      Leukemia 1   \n",
       "19 CHP_354      Leukemia 1   \n",
       "20 CHP_353      Leukemia 1   \n",
       "21 CHP_387      Leukemia 1   \n",
       "22 CHP_412      Lymphoma 1   \n",
       "23 CHP_366      Lymphoma 1   \n",
       "24 CHP_415      Lymphoma 1   \n",
       "25 CHP_371      Lymphoma 1   \n",
       "26 CHP_16YO_M   Normal   1   \n",
       "27 CHP_1YO_M_B  Normal   1   \n",
       "28 CHP_3YO_M_A  Normal   1   \n",
       "29 CHP_5YO_M    Normal   1   \n",
       "30 CHP_10YO_M   Normal   1   \n",
       "31 CHP_15YO_F_B Normal   1   \n",
       "32 CHP_3YO_F    Normal   1   \n",
       "33 CHP_15YO_F_A Normal   1   \n",
       "34 CHP_409      Solid    1   \n",
       "35 CHP_363      Solid    1   \n",
       "36 CHP_381      Solid    1   \n",
       "37 CHP_394      Solid    1   \n",
       "38 CHP_414      Solid    1   \n",
       "39 CHP_364      Solid    1   \n",
       "40 CHP_418      Solid    1   \n",
       "41 CHP_404      Solid    1   \n",
       "42 CHP_368      Solid    1   "
      ]
     },
     "metadata": {},
     "output_type": "display_data"
    }
   ],
   "source": [
    "discovery_sample_freq"
   ]
  },
  {
   "cell_type": "code",
   "execution_count": 98,
   "metadata": {
    "vscode": {
     "languageId": "r"
    }
   },
   "outputs": [],
   "source": [
    "# all int patients in discovery set\n",
    "int_discovery_patients <- discovery_sample_freq$Var1"
   ]
  },
  {
   "cell_type": "code",
   "execution_count": 99,
   "metadata": {
    "vscode": {
     "languageId": "r"
    }
   },
   "outputs": [
    {
     "data": {
      "text/html": [
       "42"
      ],
      "text/latex": [
       "42"
      ],
      "text/markdown": [
       "42"
      ],
      "text/plain": [
       "[1] 42"
      ]
     },
     "metadata": {},
     "output_type": "display_data"
    }
   ],
   "source": [
    "length(int_discovery_patients)"
   ]
  },
  {
   "cell_type": "code",
   "execution_count": 100,
   "metadata": {
    "vscode": {
     "languageId": "r"
    }
   },
   "outputs": [
    {
     "data": {
      "text/html": [
       "<style>\n",
       ".list-inline {list-style: none; margin:0; padding: 0}\n",
       ".list-inline>li {display: inline-block}\n",
       ".list-inline>li:not(:last-child)::after {content: \"\\00b7\"; padding: 0 .5ex}\n",
       "</style>\n",
       "<ol class=list-inline><li>1140</li><li>8</li></ol>\n"
      ],
      "text/latex": [
       "\\begin{enumerate*}\n",
       "\\item 1140\n",
       "\\item 8\n",
       "\\end{enumerate*}\n"
      ],
      "text/markdown": [
       "1. 1140\n",
       "2. 8\n",
       "\n",
       "\n"
      ],
      "text/plain": [
       "[1] 1140    8"
      ]
     },
     "metadata": {},
     "output_type": "display_data"
    }
   ],
   "source": [
    "dim(discovery_metadata)"
   ]
  },
  {
   "cell_type": "code",
   "execution_count": 101,
   "metadata": {
    "vscode": {
     "languageId": "r"
    }
   },
   "outputs": [
    {
     "data": {
      "text/html": [
       "<style>\n",
       ".list-inline {list-style: none; margin:0; padding: 0}\n",
       ".list-inline>li {display: inline-block}\n",
       ".list-inline>li:not(:last-child)::after {content: \"\\00b7\"; padding: 0 .5ex}\n",
       "</style>\n",
       "<ol class=list-inline><li>258</li><li>8</li></ol>\n"
      ],
      "text/latex": [
       "\\begin{enumerate*}\n",
       "\\item 258\n",
       "\\item 8\n",
       "\\end{enumerate*}\n"
      ],
      "text/markdown": [
       "1. 258\n",
       "2. 8\n",
       "\n",
       "\n"
      ],
      "text/plain": [
       "[1] 258   8"
      ]
     },
     "metadata": {},
     "output_type": "display_data"
    }
   ],
   "source": [
    "dim(discovery_metadata[ discovery_metadata$study == \"INTERCEPT\",])"
   ]
  },
  {
   "cell_type": "code",
   "execution_count": 102,
   "metadata": {
    "vscode": {
     "languageId": "r"
    }
   },
   "outputs": [],
   "source": [
    "all_discovery_patients <- c(discovery_metadata$Patient[ discovery_metadata$study != \"INTERCEPT\"], int_discovery_patients) # all patients in discovery set"
   ]
  },
  {
   "cell_type": "code",
   "execution_count": 103,
   "metadata": {
    "vscode": {
     "languageId": "r"
    }
   },
   "outputs": [],
   "source": [
    "discovery_metadata <- discovery_metadata[ discovery_metadata$Patient %in% all_discovery_patients,]"
   ]
  },
  {
   "cell_type": "code",
   "execution_count": 104,
   "metadata": {
    "vscode": {
     "languageId": "r"
    }
   },
   "outputs": [
    {
     "data": {
      "text/html": [
       "42"
      ],
      "text/latex": [
       "42"
      ],
      "text/markdown": [
       "42"
      ],
      "text/plain": [
       "[1] 42"
      ]
     },
     "metadata": {},
     "output_type": "display_data"
    }
   ],
   "source": [
    "length(table(discovery_metadata$Patient[ discovery_metadata$study == \"INTERCEPT\"] ))"
   ]
  },
  {
   "cell_type": "code",
   "execution_count": 105,
   "metadata": {
    "vscode": {
     "languageId": "r"
    }
   },
   "outputs": [
    {
     "data": {
      "text/html": [
       "<style>\n",
       ".list-inline {list-style: none; margin:0; padding: 0}\n",
       ".list-inline>li {display: inline-block}\n",
       ".list-inline>li:not(:last-child)::after {content: \"\\00b7\"; padding: 0 .5ex}\n",
       "</style>\n",
       "<ol class=list-inline><li>973</li><li>8</li></ol>\n"
      ],
      "text/latex": [
       "\\begin{enumerate*}\n",
       "\\item 973\n",
       "\\item 8\n",
       "\\end{enumerate*}\n"
      ],
      "text/markdown": [
       "1. 973\n",
       "2. 8\n",
       "\n",
       "\n"
      ],
      "text/plain": [
       "[1] 973   8"
      ]
     },
     "metadata": {},
     "output_type": "display_data"
    }
   ],
   "source": [
    "# CHP_407 is dupliucate sample one from lymphoma one from ffpe\n",
    "dim(discovery_metadata)"
   ]
  },
  {
   "cell_type": "code",
   "execution_count": 106,
   "metadata": {
    "vscode": {
     "languageId": "r"
    }
   },
   "outputs": [
    {
     "data": {
      "text/plain": [
       "\n",
       "  Emerson Henderson INTERCEPT  Mitchell \n",
       "      654        25        91       203 "
      ]
     },
     "metadata": {},
     "output_type": "display_data"
    }
   ],
   "source": [
    "table(discovery_metadata$study)"
   ]
  },
  {
   "attachments": {},
   "cell_type": "markdown",
   "metadata": {},
   "source": [
    "## Validation set"
   ]
  },
  {
   "cell_type": "code",
   "execution_count": 107,
   "metadata": {
    "vscode": {
     "languageId": "r"
    }
   },
   "outputs": [
    {
     "data": {
      "text/plain": [
       "\n",
       "        Emerson       Henderson       INTERCEPT        Mitchell Mitchell_Denver \n",
       "            773              25             258             203             131 "
      ]
     },
     "metadata": {},
     "output_type": "display_data"
    }
   ],
   "source": [
    "table(all_metadata_pbmc$study)"
   ]
  },
  {
   "cell_type": "code",
   "execution_count": 108,
   "metadata": {
    "vscode": {
     "languageId": "r"
    }
   },
   "outputs": [],
   "source": [
    "Mitchell_Denver_metadata <- all_metadata_pbmc[ all_metadata_pbmc$study == \"Mitchell_Denver\",]\n",
    "keck_metadata <- all_metadata_pbmc[ grepl(\"Keck\", all_metadata_pbmc$sample_name),] # emerson validation set"
   ]
  },
  {
   "cell_type": "code",
   "execution_count": 109,
   "metadata": {
    "vscode": {
     "languageId": "r"
    }
   },
   "outputs": [],
   "source": [
    "# subset to INTERCEPT study\n",
    "intonly <- all_metadata_pbmc[ all_metadata_pbmc$study == \"INTERCEPT\",]"
   ]
  },
  {
   "cell_type": "code",
   "execution_count": 110,
   "metadata": {
    "vscode": {
     "languageId": "r"
    }
   },
   "outputs": [],
   "source": [
    "intonly_01 <- intonly[ grepl( \"-01\",intonly$sample_name),]\n",
    "normal_int <- intonly[ grepl( \"Normal\",intonly$disease),]\n",
    "lfs_int <- intonly[ grepl( \"LFS\",intonly$sample_name),]"
   ]
  },
  {
   "cell_type": "code",
   "execution_count": 111,
   "metadata": {
    "vscode": {
     "languageId": "r"
    }
   },
   "outputs": [],
   "source": [
    "# rbind\n",
    "intonly_01_normal_lfs <- rbind(intonly_01, normal_int, lfs_int)"
   ]
  },
  {
   "cell_type": "code",
   "execution_count": 112,
   "metadata": {
    "vscode": {
     "languageId": "r"
    }
   },
   "outputs": [
    {
     "data": {
      "text/html": [
       "<table class=\"dataframe\">\n",
       "<caption>A data.frame: 6 x 8</caption>\n",
       "<thead>\n",
       "\t<tr><th></th><th scope=col>Patient</th><th scope=col>Age</th><th scope=col>sampletype</th><th scope=col>study</th><th scope=col>Agegroup</th><th scope=col>Sex</th><th scope=col>disease</th><th scope=col>sample_name</th></tr>\n",
       "\t<tr><th></th><th scope=col>&lt;chr&gt;</th><th scope=col>&lt;dbl&gt;</th><th scope=col>&lt;chr&gt;</th><th scope=col>&lt;chr&gt;</th><th scope=col>&lt;chr&gt;</th><th scope=col>&lt;chr&gt;</th><th scope=col>&lt;chr&gt;</th><th scope=col>&lt;chr&gt;</th></tr>\n",
       "</thead>\n",
       "<tbody>\n",
       "\t<tr><th scope=row>1671</th><td>CHP_346</td><td> 1</td><td>PBMC</td><td>INTERCEPT</td><td>Child</td><td>NA</td><td>Solid   </td><td>CHP_346-01-PBMC-DNA</td></tr>\n",
       "\t<tr><th scope=row>1731</th><td>CHP_347</td><td>13</td><td>PBMC</td><td>INTERCEPT</td><td>Child</td><td>NA</td><td>Leukemia</td><td>CHP_347-01-PBMC-DNA</td></tr>\n",
       "\t<tr><th scope=row>1821</th><td>CHP_348</td><td>18</td><td>PBMC</td><td>INTERCEPT</td><td>Child</td><td>NA</td><td>Solid   </td><td>CHP_348-01-PBMC-DNA</td></tr>\n",
       "\t<tr><th scope=row>1921</th><td>CHP_349</td><td>17</td><td>PBMC</td><td>INTERCEPT</td><td>Child</td><td>NA</td><td>Leukemia</td><td>CHP_349-01-PBMC-DNA</td></tr>\n",
       "\t<tr><th scope=row>1981</th><td>CHP_350</td><td> 1</td><td>PBMC</td><td>INTERCEPT</td><td>Child</td><td>NA</td><td>Solid   </td><td>CHP_350-01-PBMC-DNA</td></tr>\n",
       "\t<tr><th scope=row>2121</th><td>CHP_352</td><td>17</td><td>PBMC</td><td>INTERCEPT</td><td>Child</td><td>NA</td><td>Leukemia</td><td>CHP_352-01-PBMC-DNA</td></tr>\n",
       "</tbody>\n",
       "</table>\n"
      ],
      "text/latex": [
       "A data.frame: 6 x 8\n",
       "\\begin{tabular}{r|llllllll}\n",
       "  & Patient & Age & sampletype & study & Agegroup & Sex & disease & sample\\_name\\\\\n",
       "  & <chr> & <dbl> & <chr> & <chr> & <chr> & <chr> & <chr> & <chr>\\\\\n",
       "\\hline\n",
       "\t1671 & CHP\\_346 &  1 & PBMC & INTERCEPT & Child & NA & Solid    & CHP\\_346-01-PBMC-DNA\\\\\n",
       "\t1731 & CHP\\_347 & 13 & PBMC & INTERCEPT & Child & NA & Leukemia & CHP\\_347-01-PBMC-DNA\\\\\n",
       "\t1821 & CHP\\_348 & 18 & PBMC & INTERCEPT & Child & NA & Solid    & CHP\\_348-01-PBMC-DNA\\\\\n",
       "\t1921 & CHP\\_349 & 17 & PBMC & INTERCEPT & Child & NA & Leukemia & CHP\\_349-01-PBMC-DNA\\\\\n",
       "\t1981 & CHP\\_350 &  1 & PBMC & INTERCEPT & Child & NA & Solid    & CHP\\_350-01-PBMC-DNA\\\\\n",
       "\t2121 & CHP\\_352 & 17 & PBMC & INTERCEPT & Child & NA & Leukemia & CHP\\_352-01-PBMC-DNA\\\\\n",
       "\\end{tabular}\n"
      ],
      "text/markdown": [
       "\n",
       "A data.frame: 6 x 8\n",
       "\n",
       "| <!--/--> | Patient &lt;chr&gt; | Age &lt;dbl&gt; | sampletype &lt;chr&gt; | study &lt;chr&gt; | Agegroup &lt;chr&gt; | Sex &lt;chr&gt; | disease &lt;chr&gt; | sample_name &lt;chr&gt; |\n",
       "|---|---|---|---|---|---|---|---|---|\n",
       "| 1671 | CHP_346 |  1 | PBMC | INTERCEPT | Child | NA | Solid    | CHP_346-01-PBMC-DNA |\n",
       "| 1731 | CHP_347 | 13 | PBMC | INTERCEPT | Child | NA | Leukemia | CHP_347-01-PBMC-DNA |\n",
       "| 1821 | CHP_348 | 18 | PBMC | INTERCEPT | Child | NA | Solid    | CHP_348-01-PBMC-DNA |\n",
       "| 1921 | CHP_349 | 17 | PBMC | INTERCEPT | Child | NA | Leukemia | CHP_349-01-PBMC-DNA |\n",
       "| 1981 | CHP_350 |  1 | PBMC | INTERCEPT | Child | NA | Solid    | CHP_350-01-PBMC-DNA |\n",
       "| 2121 | CHP_352 | 17 | PBMC | INTERCEPT | Child | NA | Leukemia | CHP_352-01-PBMC-DNA |\n",
       "\n"
      ],
      "text/plain": [
       "     Patient Age sampletype study     Agegroup Sex disease  sample_name        \n",
       "1671 CHP_346  1  PBMC       INTERCEPT Child    NA  Solid    CHP_346-01-PBMC-DNA\n",
       "1731 CHP_347 13  PBMC       INTERCEPT Child    NA  Leukemia CHP_347-01-PBMC-DNA\n",
       "1821 CHP_348 18  PBMC       INTERCEPT Child    NA  Solid    CHP_348-01-PBMC-DNA\n",
       "1921 CHP_349 17  PBMC       INTERCEPT Child    NA  Leukemia CHP_349-01-PBMC-DNA\n",
       "1981 CHP_350  1  PBMC       INTERCEPT Child    NA  Solid    CHP_350-01-PBMC-DNA\n",
       "2121 CHP_352 17  PBMC       INTERCEPT Child    NA  Leukemia CHP_352-01-PBMC-DNA"
      ]
     },
     "metadata": {},
     "output_type": "display_data"
    }
   ],
   "source": [
    "head(intonly_01_normal_lfs)"
   ]
  },
  {
   "cell_type": "code",
   "execution_count": 113,
   "metadata": {
    "vscode": {
     "languageId": "r"
    }
   },
   "outputs": [],
   "source": [
    "int_validation_patients <- intonly_01_normal_lfs$sample_name[!intonly_01_normal_lfs$Patient %in% int_discovery_patients]"
   ]
  },
  {
   "cell_type": "code",
   "execution_count": 114,
   "metadata": {
    "vscode": {
     "languageId": "r"
    }
   },
   "outputs": [
    {
     "data": {
      "text/html": [
       "<style>\n",
       ".list-inline {list-style: none; margin:0; padding: 0}\n",
       ".list-inline>li {display: inline-block}\n",
       ".list-inline>li:not(:last-child)::after {content: \"\\00b7\"; padding: 0 .5ex}\n",
       "</style>\n",
       "<ol class=list-inline><li>'LFS_TCR_5067'</li><li>'LFS_TCR_4602'</li><li>'LFS_TCR_4837'</li><li>'LFS_TCR_4758'</li><li>'LFS_TCR_4570'</li><li>'LFS_TCR_4783'</li><li>'CHP_416'</li><li>'CHP_365'</li><li>'CHP_352'</li><li>'CHP_420'</li><li>'CHP_396'</li><li>'CHP_422'</li><li>'CHP_377'</li><li>'CHP_411'</li><li>'CHP_413'</li><li>'CHP_355'</li><li>'CHP_397'</li><li>'CHP_373'</li><li>'CHP_354'</li><li>'CHP_353'</li><li>'CHP_387'</li><li>'CHP_412'</li><li>'CHP_366'</li><li>'CHP_415'</li><li>'CHP_371'</li><li>'CHP_16YO_M'</li><li>'CHP_1YO_M_B'</li><li>'CHP_3YO_M_A'</li><li>'CHP_5YO_M'</li><li>'CHP_10YO_M'</li><li>'CHP_15YO_F_B'</li><li>'CHP_3YO_F'</li><li>'CHP_15YO_F_A'</li><li>'CHP_409'</li><li>'CHP_363'</li><li>'CHP_381'</li><li>'CHP_394'</li><li>'CHP_414'</li><li>'CHP_364'</li><li>'CHP_418'</li><li>'CHP_404'</li><li>'CHP_368'</li></ol>\n"
      ],
      "text/latex": [
       "\\begin{enumerate*}\n",
       "\\item 'LFS\\_TCR\\_5067'\n",
       "\\item 'LFS\\_TCR\\_4602'\n",
       "\\item 'LFS\\_TCR\\_4837'\n",
       "\\item 'LFS\\_TCR\\_4758'\n",
       "\\item 'LFS\\_TCR\\_4570'\n",
       "\\item 'LFS\\_TCR\\_4783'\n",
       "\\item 'CHP\\_416'\n",
       "\\item 'CHP\\_365'\n",
       "\\item 'CHP\\_352'\n",
       "\\item 'CHP\\_420'\n",
       "\\item 'CHP\\_396'\n",
       "\\item 'CHP\\_422'\n",
       "\\item 'CHP\\_377'\n",
       "\\item 'CHP\\_411'\n",
       "\\item 'CHP\\_413'\n",
       "\\item 'CHP\\_355'\n",
       "\\item 'CHP\\_397'\n",
       "\\item 'CHP\\_373'\n",
       "\\item 'CHP\\_354'\n",
       "\\item 'CHP\\_353'\n",
       "\\item 'CHP\\_387'\n",
       "\\item 'CHP\\_412'\n",
       "\\item 'CHP\\_366'\n",
       "\\item 'CHP\\_415'\n",
       "\\item 'CHP\\_371'\n",
       "\\item 'CHP\\_16YO\\_M'\n",
       "\\item 'CHP\\_1YO\\_M\\_B'\n",
       "\\item 'CHP\\_3YO\\_M\\_A'\n",
       "\\item 'CHP\\_5YO\\_M'\n",
       "\\item 'CHP\\_10YO\\_M'\n",
       "\\item 'CHP\\_15YO\\_F\\_B'\n",
       "\\item 'CHP\\_3YO\\_F'\n",
       "\\item 'CHP\\_15YO\\_F\\_A'\n",
       "\\item 'CHP\\_409'\n",
       "\\item 'CHP\\_363'\n",
       "\\item 'CHP\\_381'\n",
       "\\item 'CHP\\_394'\n",
       "\\item 'CHP\\_414'\n",
       "\\item 'CHP\\_364'\n",
       "\\item 'CHP\\_418'\n",
       "\\item 'CHP\\_404'\n",
       "\\item 'CHP\\_368'\n",
       "\\end{enumerate*}\n"
      ],
      "text/markdown": [
       "1. 'LFS_TCR_5067'\n",
       "2. 'LFS_TCR_4602'\n",
       "3. 'LFS_TCR_4837'\n",
       "4. 'LFS_TCR_4758'\n",
       "5. 'LFS_TCR_4570'\n",
       "6. 'LFS_TCR_4783'\n",
       "7. 'CHP_416'\n",
       "8. 'CHP_365'\n",
       "9. 'CHP_352'\n",
       "10. 'CHP_420'\n",
       "11. 'CHP_396'\n",
       "12. 'CHP_422'\n",
       "13. 'CHP_377'\n",
       "14. 'CHP_411'\n",
       "15. 'CHP_413'\n",
       "16. 'CHP_355'\n",
       "17. 'CHP_397'\n",
       "18. 'CHP_373'\n",
       "19. 'CHP_354'\n",
       "20. 'CHP_353'\n",
       "21. 'CHP_387'\n",
       "22. 'CHP_412'\n",
       "23. 'CHP_366'\n",
       "24. 'CHP_415'\n",
       "25. 'CHP_371'\n",
       "26. 'CHP_16YO_M'\n",
       "27. 'CHP_1YO_M_B'\n",
       "28. 'CHP_3YO_M_A'\n",
       "29. 'CHP_5YO_M'\n",
       "30. 'CHP_10YO_M'\n",
       "31. 'CHP_15YO_F_B'\n",
       "32. 'CHP_3YO_F'\n",
       "33. 'CHP_15YO_F_A'\n",
       "34. 'CHP_409'\n",
       "35. 'CHP_363'\n",
       "36. 'CHP_381'\n",
       "37. 'CHP_394'\n",
       "38. 'CHP_414'\n",
       "39. 'CHP_364'\n",
       "40. 'CHP_418'\n",
       "41. 'CHP_404'\n",
       "42. 'CHP_368'\n",
       "\n",
       "\n"
      ],
      "text/plain": [
       " [1] \"LFS_TCR_5067\" \"LFS_TCR_4602\" \"LFS_TCR_4837\" \"LFS_TCR_4758\" \"LFS_TCR_4570\"\n",
       " [6] \"LFS_TCR_4783\" \"CHP_416\"      \"CHP_365\"      \"CHP_352\"      \"CHP_420\"     \n",
       "[11] \"CHP_396\"      \"CHP_422\"      \"CHP_377\"      \"CHP_411\"      \"CHP_413\"     \n",
       "[16] \"CHP_355\"      \"CHP_397\"      \"CHP_373\"      \"CHP_354\"      \"CHP_353\"     \n",
       "[21] \"CHP_387\"      \"CHP_412\"      \"CHP_366\"      \"CHP_415\"      \"CHP_371\"     \n",
       "[26] \"CHP_16YO_M\"   \"CHP_1YO_M_B\"  \"CHP_3YO_M_A\"  \"CHP_5YO_M\"    \"CHP_10YO_M\"  \n",
       "[31] \"CHP_15YO_F_B\" \"CHP_3YO_F\"    \"CHP_15YO_F_A\" \"CHP_409\"      \"CHP_363\"     \n",
       "[36] \"CHP_381\"      \"CHP_394\"      \"CHP_414\"      \"CHP_364\"      \"CHP_418\"     \n",
       "[41] \"CHP_404\"      \"CHP_368\"     "
      ]
     },
     "metadata": {},
     "output_type": "display_data"
    }
   ],
   "source": [
    "int_discovery_patients"
   ]
  },
  {
   "cell_type": "code",
   "execution_count": 115,
   "metadata": {
    "vscode": {
     "languageId": "r"
    }
   },
   "outputs": [
    {
     "data": {
      "text/html": [
       "29"
      ],
      "text/latex": [
       "29"
      ],
      "text/markdown": [
       "29"
      ],
      "text/plain": [
       "[1] 29"
      ]
     },
     "metadata": {},
     "output_type": "display_data"
    }
   ],
   "source": [
    "length(int_validation_patients)"
   ]
  },
  {
   "cell_type": "code",
   "execution_count": 116,
   "metadata": {
    "vscode": {
     "languageId": "r"
    }
   },
   "outputs": [
    {
     "data": {
      "text/html": [
       "<style>\n",
       ".list-inline {list-style: none; margin:0; padding: 0}\n",
       ".list-inline>li {display: inline-block}\n",
       ".list-inline>li:not(:last-child)::after {content: \"\\00b7\"; padding: 0 .5ex}\n",
       "</style>\n",
       "<ol class=list-inline><li>29</li><li>8</li></ol>\n"
      ],
      "text/latex": [
       "\\begin{enumerate*}\n",
       "\\item 29\n",
       "\\item 8\n",
       "\\end{enumerate*}\n"
      ],
      "text/markdown": [
       "1. 29\n",
       "2. 8\n",
       "\n",
       "\n"
      ],
      "text/plain": [
       "[1] 29  8"
      ]
     },
     "metadata": {},
     "output_type": "display_data"
    }
   ],
   "source": [
    "dim(intonly_01_normal_lfs[ intonly_01_normal_lfs$sample_name %in% int_validation_patients,])"
   ]
  },
  {
   "cell_type": "code",
   "execution_count": 117,
   "metadata": {
    "vscode": {
     "languageId": "r"
    }
   },
   "outputs": [],
   "source": [
    "validation_metadata <- rbind(keck_metadata, \n",
    "Mitchell_Denver_metadata,\n",
    "intonly_01_normal_lfs[ intonly_01_normal_lfs$sample_name %in% int_validation_patients,])\n"
   ]
  },
  {
   "cell_type": "code",
   "execution_count": 118,
   "metadata": {
    "vscode": {
     "languageId": "r"
    }
   },
   "outputs": [
    {
     "data": {
      "text/html": [
       "<style>\n",
       ".list-inline {list-style: none; margin:0; padding: 0}\n",
       ".list-inline>li {display: inline-block}\n",
       ".list-inline>li:not(:last-child)::after {content: \"\\00b7\"; padding: 0 .5ex}\n",
       "</style>\n",
       "<ol class=list-inline><li>279</li><li>8</li></ol>\n"
      ],
      "text/latex": [
       "\\begin{enumerate*}\n",
       "\\item 279\n",
       "\\item 8\n",
       "\\end{enumerate*}\n"
      ],
      "text/markdown": [
       "1. 279\n",
       "2. 8\n",
       "\n",
       "\n"
      ],
      "text/plain": [
       "[1] 279   8"
      ]
     },
     "metadata": {},
     "output_type": "display_data"
    }
   ],
   "source": [
    "dim(validation_metadata)"
   ]
  },
  {
   "cell_type": "code",
   "execution_count": 119,
   "metadata": {
    "vscode": {
     "languageId": "r"
    }
   },
   "outputs": [
    {
     "data": {
      "text/html": [
       "<style>\n",
       ".list-inline {list-style: none; margin:0; padding: 0}\n",
       ".list-inline>li {display: inline-block}\n",
       ".list-inline>li:not(:last-child)::after {content: \"\\00b7\"; padding: 0 .5ex}\n",
       "</style>\n",
       "<ol class=list-inline><li>973</li><li>8</li></ol>\n"
      ],
      "text/latex": [
       "\\begin{enumerate*}\n",
       "\\item 973\n",
       "\\item 8\n",
       "\\end{enumerate*}\n"
      ],
      "text/markdown": [
       "1. 973\n",
       "2. 8\n",
       "\n",
       "\n"
      ],
      "text/plain": [
       "[1] 973   8"
      ]
     },
     "metadata": {},
     "output_type": "display_data"
    }
   ],
   "source": [
    "dim(discovery_metadata)"
   ]
  },
  {
   "cell_type": "code",
   "execution_count": 120,
   "metadata": {
    "vscode": {
     "languageId": "r"
    }
   },
   "outputs": [
    {
     "data": {
      "text/html": [
       "<style>\n",
       ".list-inline {list-style: none; margin:0; padding: 0}\n",
       ".list-inline>li {display: inline-block}\n",
       ".list-inline>li:not(:last-child)::after {content: \"\\00b7\"; padding: 0 .5ex}\n",
       "</style>\n",
       "<ol class=list-inline><li>1390</li><li>8</li></ol>\n"
      ],
      "text/latex": [
       "\\begin{enumerate*}\n",
       "\\item 1390\n",
       "\\item 8\n",
       "\\end{enumerate*}\n"
      ],
      "text/markdown": [
       "1. 1390\n",
       "2. 8\n",
       "\n",
       "\n"
      ],
      "text/plain": [
       "[1] 1390    8"
      ]
     },
     "metadata": {},
     "output_type": "display_data"
    }
   ],
   "source": [
    "dim(all_metadata_pbmc)"
   ]
  },
  {
   "cell_type": "code",
   "execution_count": 121,
   "metadata": {
    "vscode": {
     "languageId": "r"
    }
   },
   "outputs": [],
   "source": [
    "# save discovery and validation metadata\n",
    "readr::write_rds(discovery_metadata, file = paste0(datapath, \"discovery_metadata_01.rds\"))\n",
    "readr::write_rds(validation_metadata, file = paste0(datapath, \"validation_metadata_01.rds\"))"
   ]
  },
  {
   "cell_type": "code",
   "execution_count": null,
   "metadata": {
    "vscode": {
     "languageId": "r"
    }
   },
   "outputs": [],
   "source": []
  }
 ],
 "metadata": {
  "kernelspec": {
   "display_name": "R 4.0",
   "language": "R",
   "name": "ir40"
  },
  "language_info": {
   "codemirror_mode": "r",
   "file_extension": ".r",
   "mimetype": "text/x-r-source",
   "name": "R",
   "pygments_lexer": "r",
   "version": "4.2.2"
  },
  "toc": {
   "base_numbering": 1,
   "nav_menu": {},
   "number_sections": false,
   "sideBar": true,
   "skip_h1_title": false,
   "title_cell": "Table of Contents",
   "title_sidebar": "Contents",
   "toc_cell": true,
   "toc_position": {
    "height": "calc(100% - 180px)",
    "left": "10px",
    "top": "150px",
    "width": "186.15px"
   },
   "toc_section_display": true,
   "toc_window_display": true
  }
 },
 "nbformat": 4,
 "nbformat_minor": 2
}
