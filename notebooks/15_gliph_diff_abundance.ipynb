{
 "cells": [
  {
   "cell_type": "markdown",
   "metadata": {},
   "source": [
    "# Dependencies"
   ]
  },
  {
   "cell_type": "code",
   "execution_count": 108,
   "metadata": {
    "vscode": {
     "languageId": "r"
    }
   },
   "outputs": [],
   "source": [
    "pacman::p_load(igraph, graphlayouts, ggraph, ggforce, dplyr, ggplot2, GUniFrac, dendextend, ComplexHeatmap)"
   ]
  },
  {
   "cell_type": "markdown",
   "metadata": {},
   "source": [
    "# Functions"
   ]
  },
  {
   "cell_type": "code",
   "execution_count": 109,
   "metadata": {
    "vscode": {
     "languageId": "r"
    }
   },
   "outputs": [],
   "source": [
    "source(\"/Users/anabbi/git/ped_CapTCRseq/R/ggplot2_theme.R\")\n",
    "source(\"/Users/anabbi/git/ped_CapTCRseq/R/color_schemes.R\")\n",
    "source(\"/Users/anabbi/git/ped_CapTCRseq/R/Misc_functions.R\")"
   ]
  },
  {
   "cell_type": "code",
   "execution_count": 110,
   "metadata": {
    "vscode": {
     "languageId": "r"
    }
   },
   "outputs": [],
   "source": [
    "gliph_div.fx <- function(datapath, h4hpath, gliph_in_out){\n",
    "gliph_all <- readr::read_rds(file = paste0(h4hpath, \"analysis/GLIPH/\", gliph_in_out))\n",
    "gliph_meta <- merge(gliph_all, discovery_metadata, by.x = \"subject\", by.y = \"sample_name\")\n",
    "gliph_meta$disease[ is.na(gliph_meta$disease)] <- \"Emerson_unknown\"\n",
    "pat_type <- as.data.frame.matrix(table(gliph_meta %>% select(type, subject)))\n",
    "return(pat_type)\n",
    "}"
   ]
  },
  {
   "cell_type": "code",
   "execution_count": 111,
   "metadata": {
    "vscode": {
     "languageId": "r"
    }
   },
   "outputs": [],
   "source": [
    "zicoseq.fx <- function(pat_type_matrix, metadata, myvar) {\n",
    "    # pat_type_matrix is a matrix of GLIPH x samples\n",
    "    # metadata is a data frame with the metadata for each sample, rownames are the sample names, NA is converted to Unknown for all covariates\n",
    "\n",
    "    # Match colnames mylist[[1]] and discovery_metadata$sample_name\n",
    "    metadata_matched <- metadata[colnames(pat_type_matrix), ]\n",
    "\n",
    "    ZicoSeq.obj <- ZicoSeq(\n",
    "        meta.dat = metadata_matched, feature.dat = pat_type_matrix,\n",
    "        grp.name = myvar, adj.name = c(\"Sex\", \"study\", \"Agegroup\"), feature.dat.type = \"count\",\n",
    "        prev.filter = 0, mean.abund.filter = 0,\n",
    "        max.abund.filter = 0, min.prop = 0,\n",
    "        # Winsorization to replace outliers\n",
    "        is.winsor = FALSE, # outlier.pct = 0.03, winsor.end = 'top',\n",
    "        # Posterior sampling\n",
    "        is.post.sample = TRUE, post.sample.no = 25,\n",
    "        # Use the square-root transformation\n",
    "        link.func = list(function(x) x^0.5), stats.combine.func = max,\n",
    "        # Permutation-based multiple testing correction\n",
    "        perm.no = 99, strata = NULL,\n",
    "        # Reference-based multiple stage normalization\n",
    "        ref.pct = 0.5, stage.no = 6, excl.pct = 0.2,\n",
    "        # Family-wise error rate control\n",
    "        is.fwer = TRUE, verbose = TRUE, return.feature.dat = TRUE\n",
    "    )\n",
    "\n",
    "    r2_fdr <- as.data.frame(ZicoSeq.obj$R2)\n",
    "    r2_fdr$padj <- ZicoSeq.obj$p.adj.fdr[match(rownames(r2_fdr), names(ZicoSeq.obj$p.adj.fdr))]\n",
    "    return(r2_fdr)\n",
    "}\n"
   ]
  },
  {
   "cell_type": "markdown",
   "metadata": {},
   "source": [
    "# Paths"
   ]
  },
  {
   "cell_type": "code",
   "execution_count": 112,
   "metadata": {
    "vscode": {
     "languageId": "r"
    }
   },
   "outputs": [],
   "source": [
    "datapath <- \"/Users/anabbi/OneDrive - UHN/Documents/INTERCEPT/Data/\"\n",
    "plotpath <- \"/Users/anabbi/OneDrive - UHN/Documents/INTERCEPT/Plots/\"\n",
    "manifestpath <- \"/Users/anabbi/OneDrive - UHN/Documents/INTERCEPT/Manifests/\"\n",
    "gitpath <- \"/Users/anabbi/git/ped_CapTCRseq/\""
   ]
  },
  {
   "cell_type": "code",
   "execution_count": 113,
   "metadata": {
    "vscode": {
     "languageId": "r"
    }
   },
   "outputs": [],
   "source": [
    "h4hpath <- \"/Users/anabbi/Desktop/H4H/INTERCEPT/\""
   ]
  },
  {
   "cell_type": "markdown",
   "metadata": {},
   "source": [
    "# Main"
   ]
  },
  {
   "cell_type": "code",
   "execution_count": 114,
   "metadata": {
    "vscode": {
     "languageId": "r"
    }
   },
   "outputs": [],
   "source": [
    "discovery_metadata <- readr::read_rds(file = paste0(datapath, \"discovery_metadata_01.rds\"))\n",
    "discovery_metadata$disease[ is.na(discovery_metadata$disease)] <- \"Emerson_unknown\""
   ]
  },
  {
   "cell_type": "code",
   "execution_count": 115,
   "metadata": {
    "vscode": {
     "languageId": "r"
    }
   },
   "outputs": [
    {
     "data": {
      "text/html": [
       "<style>\n",
       ".list-inline {list-style: none; margin:0; padding: 0}\n",
       ".list-inline>li {display: inline-block}\n",
       ".list-inline>li:not(:last-child)::after {content: \"\\00b7\"; padding: 0 .5ex}\n",
       "</style>\n",
       "<ol class=list-inline><li>973</li><li>8</li></ol>\n"
      ],
      "text/latex": [
       "\\begin{enumerate*}\n",
       "\\item 973\n",
       "\\item 8\n",
       "\\end{enumerate*}\n"
      ],
      "text/markdown": [
       "1. 973\n",
       "2. 8\n",
       "\n",
       "\n"
      ],
      "text/plain": [
       "[1] 973   8"
      ]
     },
     "metadata": {},
     "output_type": "display_data"
    }
   ],
   "source": [
    "dim(discovery_metadata)"
   ]
  },
  {
   "cell_type": "code",
   "execution_count": 13,
   "metadata": {
    "vscode": {
     "languageId": "r"
    }
   },
   "outputs": [],
   "source": [
    "filelist <- list.files(path = paste0(h4hpath, \"analysis/GLIPH/\"), pattern = \"_cluster_gliph_rm_na_singlerm.rds\", full.names = FALSE)\n",
    "# remove *.sh\n",
    "filelist <- filelist[!grepl(\"sh\", filelist)]\n",
    "# remove *.out\n",
    "filelist <- filelist[!grepl(\"out\", filelist)]\n",
    "# remove *hklust.rds\n",
    "filelist <- filelist[!grepl(\"hklust\", filelist)]"
   ]
  },
  {
   "cell_type": "code",
   "execution_count": 14,
   "metadata": {
    "vscode": {
     "languageId": "r"
    }
   },
   "outputs": [
    {
     "data": {
      "text/html": [
       "<style>\n",
       ".list-inline {list-style: none; margin:0; padding: 0}\n",
       ".list-inline>li {display: inline-block}\n",
       ".list-inline>li:not(:last-child)::after {content: \"\\00b7\"; padding: 0 .5ex}\n",
       "</style>\n",
       "<ol class=list-inline><li>'gliphinput_int_adaptive_sample_01_cluster_gliph_rm_na_singlerm.rds'</li><li>'gliphinput_int_adaptive_sample_02_cluster_gliph_rm_na_singlerm.rds'</li><li>'gliphinput_int_adaptive_sample_03_cluster_gliph_rm_na_singlerm.rds'</li><li>'gliphinput_int_adaptive_sample_04_cluster_gliph_rm_na_singlerm.rds'</li><li>'gliphinput_int_adaptive_sample_05_cluster_gliph_rm_na_singlerm.rds'</li><li>'gliphinput_int_adaptive_sample_06_cluster_gliph_rm_na_singlerm.rds'</li><li>'gliphinput_int_adaptive_sample_07_cluster_gliph_rm_na_singlerm.rds'</li><li>'gliphinput_int_adaptive_sample_08_cluster_gliph_rm_na_singlerm.rds'</li><li>'gliphinput_int_adaptive_sample_09_cluster_gliph_rm_na_singlerm.rds'</li><li>'gliphinput_int_adaptive_sample_10_cluster_gliph_rm_na_singlerm.rds'</li><li>'gliphinput_int_adaptive_sample_11_cluster_gliph_rm_na_singlerm.rds'</li><li>'gliphinput_int_adaptive_sample_12_cluster_gliph_rm_na_singlerm.rds'</li><li>'gliphinput_int_adaptive_sample_13_cluster_gliph_rm_na_singlerm.rds'</li><li>'gliphinput_int_adaptive_sample_14_cluster_gliph_rm_na_singlerm.rds'</li><li>'gliphinput_int_adaptive_sample_15_cluster_gliph_rm_na_singlerm.rds'</li><li>'gliphinput_int_adaptive_sample_16_cluster_gliph_rm_na_singlerm.rds'</li><li>'gliphinput_int_adaptive_sample_17_cluster_gliph_rm_na_singlerm.rds'</li><li>'gliphinput_int_adaptive_sample_18_cluster_gliph_rm_na_singlerm.rds'</li><li>'gliphinput_int_adaptive_sample_19_cluster_gliph_rm_na_singlerm.rds'</li><li>'gliphinput_int_adaptive_sample_20_cluster_gliph_rm_na_singlerm.rds'</li></ol>\n"
      ],
      "text/latex": [
       "\\begin{enumerate*}\n",
       "\\item 'gliphinput\\_int\\_adaptive\\_sample\\_01\\_cluster\\_gliph\\_rm\\_na\\_singlerm.rds'\n",
       "\\item 'gliphinput\\_int\\_adaptive\\_sample\\_02\\_cluster\\_gliph\\_rm\\_na\\_singlerm.rds'\n",
       "\\item 'gliphinput\\_int\\_adaptive\\_sample\\_03\\_cluster\\_gliph\\_rm\\_na\\_singlerm.rds'\n",
       "\\item 'gliphinput\\_int\\_adaptive\\_sample\\_04\\_cluster\\_gliph\\_rm\\_na\\_singlerm.rds'\n",
       "\\item 'gliphinput\\_int\\_adaptive\\_sample\\_05\\_cluster\\_gliph\\_rm\\_na\\_singlerm.rds'\n",
       "\\item 'gliphinput\\_int\\_adaptive\\_sample\\_06\\_cluster\\_gliph\\_rm\\_na\\_singlerm.rds'\n",
       "\\item 'gliphinput\\_int\\_adaptive\\_sample\\_07\\_cluster\\_gliph\\_rm\\_na\\_singlerm.rds'\n",
       "\\item 'gliphinput\\_int\\_adaptive\\_sample\\_08\\_cluster\\_gliph\\_rm\\_na\\_singlerm.rds'\n",
       "\\item 'gliphinput\\_int\\_adaptive\\_sample\\_09\\_cluster\\_gliph\\_rm\\_na\\_singlerm.rds'\n",
       "\\item 'gliphinput\\_int\\_adaptive\\_sample\\_10\\_cluster\\_gliph\\_rm\\_na\\_singlerm.rds'\n",
       "\\item 'gliphinput\\_int\\_adaptive\\_sample\\_11\\_cluster\\_gliph\\_rm\\_na\\_singlerm.rds'\n",
       "\\item 'gliphinput\\_int\\_adaptive\\_sample\\_12\\_cluster\\_gliph\\_rm\\_na\\_singlerm.rds'\n",
       "\\item 'gliphinput\\_int\\_adaptive\\_sample\\_13\\_cluster\\_gliph\\_rm\\_na\\_singlerm.rds'\n",
       "\\item 'gliphinput\\_int\\_adaptive\\_sample\\_14\\_cluster\\_gliph\\_rm\\_na\\_singlerm.rds'\n",
       "\\item 'gliphinput\\_int\\_adaptive\\_sample\\_15\\_cluster\\_gliph\\_rm\\_na\\_singlerm.rds'\n",
       "\\item 'gliphinput\\_int\\_adaptive\\_sample\\_16\\_cluster\\_gliph\\_rm\\_na\\_singlerm.rds'\n",
       "\\item 'gliphinput\\_int\\_adaptive\\_sample\\_17\\_cluster\\_gliph\\_rm\\_na\\_singlerm.rds'\n",
       "\\item 'gliphinput\\_int\\_adaptive\\_sample\\_18\\_cluster\\_gliph\\_rm\\_na\\_singlerm.rds'\n",
       "\\item 'gliphinput\\_int\\_adaptive\\_sample\\_19\\_cluster\\_gliph\\_rm\\_na\\_singlerm.rds'\n",
       "\\item 'gliphinput\\_int\\_adaptive\\_sample\\_20\\_cluster\\_gliph\\_rm\\_na\\_singlerm.rds'\n",
       "\\end{enumerate*}\n"
      ],
      "text/markdown": [
       "1. 'gliphinput_int_adaptive_sample_01_cluster_gliph_rm_na_singlerm.rds'\n",
       "2. 'gliphinput_int_adaptive_sample_02_cluster_gliph_rm_na_singlerm.rds'\n",
       "3. 'gliphinput_int_adaptive_sample_03_cluster_gliph_rm_na_singlerm.rds'\n",
       "4. 'gliphinput_int_adaptive_sample_04_cluster_gliph_rm_na_singlerm.rds'\n",
       "5. 'gliphinput_int_adaptive_sample_05_cluster_gliph_rm_na_singlerm.rds'\n",
       "6. 'gliphinput_int_adaptive_sample_06_cluster_gliph_rm_na_singlerm.rds'\n",
       "7. 'gliphinput_int_adaptive_sample_07_cluster_gliph_rm_na_singlerm.rds'\n",
       "8. 'gliphinput_int_adaptive_sample_08_cluster_gliph_rm_na_singlerm.rds'\n",
       "9. 'gliphinput_int_adaptive_sample_09_cluster_gliph_rm_na_singlerm.rds'\n",
       "10. 'gliphinput_int_adaptive_sample_10_cluster_gliph_rm_na_singlerm.rds'\n",
       "11. 'gliphinput_int_adaptive_sample_11_cluster_gliph_rm_na_singlerm.rds'\n",
       "12. 'gliphinput_int_adaptive_sample_12_cluster_gliph_rm_na_singlerm.rds'\n",
       "13. 'gliphinput_int_adaptive_sample_13_cluster_gliph_rm_na_singlerm.rds'\n",
       "14. 'gliphinput_int_adaptive_sample_14_cluster_gliph_rm_na_singlerm.rds'\n",
       "15. 'gliphinput_int_adaptive_sample_15_cluster_gliph_rm_na_singlerm.rds'\n",
       "16. 'gliphinput_int_adaptive_sample_16_cluster_gliph_rm_na_singlerm.rds'\n",
       "17. 'gliphinput_int_adaptive_sample_17_cluster_gliph_rm_na_singlerm.rds'\n",
       "18. 'gliphinput_int_adaptive_sample_18_cluster_gliph_rm_na_singlerm.rds'\n",
       "19. 'gliphinput_int_adaptive_sample_19_cluster_gliph_rm_na_singlerm.rds'\n",
       "20. 'gliphinput_int_adaptive_sample_20_cluster_gliph_rm_na_singlerm.rds'\n",
       "\n",
       "\n"
      ],
      "text/plain": [
       " [1] \"gliphinput_int_adaptive_sample_01_cluster_gliph_rm_na_singlerm.rds\"\n",
       " [2] \"gliphinput_int_adaptive_sample_02_cluster_gliph_rm_na_singlerm.rds\"\n",
       " [3] \"gliphinput_int_adaptive_sample_03_cluster_gliph_rm_na_singlerm.rds\"\n",
       " [4] \"gliphinput_int_adaptive_sample_04_cluster_gliph_rm_na_singlerm.rds\"\n",
       " [5] \"gliphinput_int_adaptive_sample_05_cluster_gliph_rm_na_singlerm.rds\"\n",
       " [6] \"gliphinput_int_adaptive_sample_06_cluster_gliph_rm_na_singlerm.rds\"\n",
       " [7] \"gliphinput_int_adaptive_sample_07_cluster_gliph_rm_na_singlerm.rds\"\n",
       " [8] \"gliphinput_int_adaptive_sample_08_cluster_gliph_rm_na_singlerm.rds\"\n",
       " [9] \"gliphinput_int_adaptive_sample_09_cluster_gliph_rm_na_singlerm.rds\"\n",
       "[10] \"gliphinput_int_adaptive_sample_10_cluster_gliph_rm_na_singlerm.rds\"\n",
       "[11] \"gliphinput_int_adaptive_sample_11_cluster_gliph_rm_na_singlerm.rds\"\n",
       "[12] \"gliphinput_int_adaptive_sample_12_cluster_gliph_rm_na_singlerm.rds\"\n",
       "[13] \"gliphinput_int_adaptive_sample_13_cluster_gliph_rm_na_singlerm.rds\"\n",
       "[14] \"gliphinput_int_adaptive_sample_14_cluster_gliph_rm_na_singlerm.rds\"\n",
       "[15] \"gliphinput_int_adaptive_sample_15_cluster_gliph_rm_na_singlerm.rds\"\n",
       "[16] \"gliphinput_int_adaptive_sample_16_cluster_gliph_rm_na_singlerm.rds\"\n",
       "[17] \"gliphinput_int_adaptive_sample_17_cluster_gliph_rm_na_singlerm.rds\"\n",
       "[18] \"gliphinput_int_adaptive_sample_18_cluster_gliph_rm_na_singlerm.rds\"\n",
       "[19] \"gliphinput_int_adaptive_sample_19_cluster_gliph_rm_na_singlerm.rds\"\n",
       "[20] \"gliphinput_int_adaptive_sample_20_cluster_gliph_rm_na_singlerm.rds\""
      ]
     },
     "metadata": {},
     "output_type": "display_data"
    }
   ],
   "source": [
    "filelist"
   ]
  },
  {
   "cell_type": "code",
   "execution_count": 15,
   "metadata": {
    "vscode": {
     "languageId": "r"
    }
   },
   "outputs": [],
   "source": [
    "mylist <- lapply(filelist, function(x){ gliph_div.fx(datapath, h4hpath, x )})"
   ]
  },
  {
   "cell_type": "code",
   "execution_count": 16,
   "metadata": {
    "vscode": {
     "languageId": "r"
    }
   },
   "outputs": [
    {
     "data": {
      "text/html": [
       "<table class=\"dataframe\">\n",
       "<caption>A data.frame: 6 x 813</caption>\n",
       "<thead>\n",
       "\t<tr><th></th><th scope=col>310102_TCRB</th><th scope=col>310103_TCRB</th><th scope=col>310104_TCRB</th><th scope=col>310105_TCRB</th><th scope=col>310106_TCRB</th><th scope=col>310108_TCRB</th><th scope=col>310109_TCRB</th><th scope=col>310110_TCRB</th><th scope=col>310111_TCRB</th><th scope=col>310112_TCRB</th><th scope=col>...</th><th scope=col>Peds_Ctrl_1</th><th scope=col>Peds_Ctrl_2</th><th scope=col>Peds_Ctrl_7</th><th scope=col>Peds_Febrile_Ctrl_1</th><th scope=col>Peds_Febrile_Ctrl_3</th><th scope=col>Peds_Febrile_Ctrl_5</th><th scope=col>Peds_Febrile_Ctrl_6</th><th scope=col>sJIA_2</th><th scope=col>sJIA_4</th><th scope=col>sJIA_7</th></tr>\n",
       "\t<tr><th></th><th scope=col>&lt;int&gt;</th><th scope=col>&lt;int&gt;</th><th scope=col>&lt;int&gt;</th><th scope=col>&lt;int&gt;</th><th scope=col>&lt;int&gt;</th><th scope=col>&lt;int&gt;</th><th scope=col>&lt;int&gt;</th><th scope=col>&lt;int&gt;</th><th scope=col>&lt;int&gt;</th><th scope=col>&lt;int&gt;</th><th scope=col>...</th><th scope=col>&lt;int&gt;</th><th scope=col>&lt;int&gt;</th><th scope=col>&lt;int&gt;</th><th scope=col>&lt;int&gt;</th><th scope=col>&lt;int&gt;</th><th scope=col>&lt;int&gt;</th><th scope=col>&lt;int&gt;</th><th scope=col>&lt;int&gt;</th><th scope=col>&lt;int&gt;</th><th scope=col>&lt;int&gt;</th></tr>\n",
       "</thead>\n",
       "<tbody>\n",
       "\t<tr><th scope=row>global-%AG</th><td>0</td><td>0</td><td>0</td><td>0</td><td>0</td><td>0</td><td>0</td><td>0</td><td>0</td><td>0</td><td>...</td><td>0</td><td>0</td><td>0</td><td>0</td><td>0</td><td>0</td><td>0</td><td>0</td><td>0</td><td>0</td></tr>\n",
       "\t<tr><th scope=row>global-%AGTE</th><td>0</td><td>0</td><td>0</td><td>0</td><td>0</td><td>0</td><td>1</td><td>0</td><td>0</td><td>0</td><td>...</td><td>0</td><td>0</td><td>0</td><td>0</td><td>0</td><td>0</td><td>0</td><td>0</td><td>0</td><td>0</td></tr>\n",
       "\t<tr><th scope=row>global-%E</th><td>0</td><td>0</td><td>0</td><td>0</td><td>0</td><td>0</td><td>0</td><td>0</td><td>0</td><td>0</td><td>...</td><td>0</td><td>0</td><td>0</td><td>0</td><td>0</td><td>0</td><td>0</td><td>0</td><td>0</td><td>0</td></tr>\n",
       "\t<tr><th scope=row>global-%ENTE</th><td>0</td><td>0</td><td>0</td><td>0</td><td>0</td><td>0</td><td>0</td><td>0</td><td>0</td><td>0</td><td>...</td><td>0</td><td>0</td><td>0</td><td>0</td><td>0</td><td>0</td><td>0</td><td>0</td><td>0</td><td>0</td></tr>\n",
       "\t<tr><th scope=row>global-%G</th><td>0</td><td>0</td><td>0</td><td>0</td><td>0</td><td>0</td><td>0</td><td>0</td><td>0</td><td>0</td><td>...</td><td>0</td><td>0</td><td>0</td><td>0</td><td>0</td><td>0</td><td>0</td><td>0</td><td>0</td><td>0</td></tr>\n",
       "\t<tr><th scope=row>global-%GE</th><td>0</td><td>0</td><td>0</td><td>0</td><td>0</td><td>0</td><td>0</td><td>0</td><td>0</td><td>0</td><td>...</td><td>0</td><td>0</td><td>0</td><td>0</td><td>0</td><td>0</td><td>0</td><td>0</td><td>0</td><td>0</td></tr>\n",
       "</tbody>\n",
       "</table>\n"
      ],
      "text/latex": [
       "A data.frame: 6 x 813\n",
       "\\begin{tabular}{r|lllllllllllllllllllll}\n",
       "  & 310102\\_TCRB & 310103\\_TCRB & 310104\\_TCRB & 310105\\_TCRB & 310106\\_TCRB & 310108\\_TCRB & 310109\\_TCRB & 310110\\_TCRB & 310111\\_TCRB & 310112\\_TCRB & ... & Peds\\_Ctrl\\_1 & Peds\\_Ctrl\\_2 & Peds\\_Ctrl\\_7 & Peds\\_Febrile\\_Ctrl\\_1 & Peds\\_Febrile\\_Ctrl\\_3 & Peds\\_Febrile\\_Ctrl\\_5 & Peds\\_Febrile\\_Ctrl\\_6 & sJIA\\_2 & sJIA\\_4 & sJIA\\_7\\\\\n",
       "  & <int> & <int> & <int> & <int> & <int> & <int> & <int> & <int> & <int> & <int> & ... & <int> & <int> & <int> & <int> & <int> & <int> & <int> & <int> & <int> & <int>\\\\\n",
       "\\hline\n",
       "\tglobal-\\%AG & 0 & 0 & 0 & 0 & 0 & 0 & 0 & 0 & 0 & 0 & ... & 0 & 0 & 0 & 0 & 0 & 0 & 0 & 0 & 0 & 0\\\\\n",
       "\tglobal-\\%AGTE & 0 & 0 & 0 & 0 & 0 & 0 & 1 & 0 & 0 & 0 & ... & 0 & 0 & 0 & 0 & 0 & 0 & 0 & 0 & 0 & 0\\\\\n",
       "\tglobal-\\%E & 0 & 0 & 0 & 0 & 0 & 0 & 0 & 0 & 0 & 0 & ... & 0 & 0 & 0 & 0 & 0 & 0 & 0 & 0 & 0 & 0\\\\\n",
       "\tglobal-\\%ENTE & 0 & 0 & 0 & 0 & 0 & 0 & 0 & 0 & 0 & 0 & ... & 0 & 0 & 0 & 0 & 0 & 0 & 0 & 0 & 0 & 0\\\\\n",
       "\tglobal-\\%G & 0 & 0 & 0 & 0 & 0 & 0 & 0 & 0 & 0 & 0 & ... & 0 & 0 & 0 & 0 & 0 & 0 & 0 & 0 & 0 & 0\\\\\n",
       "\tglobal-\\%GE & 0 & 0 & 0 & 0 & 0 & 0 & 0 & 0 & 0 & 0 & ... & 0 & 0 & 0 & 0 & 0 & 0 & 0 & 0 & 0 & 0\\\\\n",
       "\\end{tabular}\n"
      ],
      "text/markdown": [
       "\n",
       "A data.frame: 6 x 813\n",
       "\n",
       "| <!--/--> | 310102_TCRB &lt;int&gt; | 310103_TCRB &lt;int&gt; | 310104_TCRB &lt;int&gt; | 310105_TCRB &lt;int&gt; | 310106_TCRB &lt;int&gt; | 310108_TCRB &lt;int&gt; | 310109_TCRB &lt;int&gt; | 310110_TCRB &lt;int&gt; | 310111_TCRB &lt;int&gt; | 310112_TCRB &lt;int&gt; | ... ... | Peds_Ctrl_1 &lt;int&gt; | Peds_Ctrl_2 &lt;int&gt; | Peds_Ctrl_7 &lt;int&gt; | Peds_Febrile_Ctrl_1 &lt;int&gt; | Peds_Febrile_Ctrl_3 &lt;int&gt; | Peds_Febrile_Ctrl_5 &lt;int&gt; | Peds_Febrile_Ctrl_6 &lt;int&gt; | sJIA_2 &lt;int&gt; | sJIA_4 &lt;int&gt; | sJIA_7 &lt;int&gt; |\n",
       "|---|---|---|---|---|---|---|---|---|---|---|---|---|---|---|---|---|---|---|---|---|---|\n",
       "| global-%AG | 0 | 0 | 0 | 0 | 0 | 0 | 0 | 0 | 0 | 0 | ... | 0 | 0 | 0 | 0 | 0 | 0 | 0 | 0 | 0 | 0 |\n",
       "| global-%AGTE | 0 | 0 | 0 | 0 | 0 | 0 | 1 | 0 | 0 | 0 | ... | 0 | 0 | 0 | 0 | 0 | 0 | 0 | 0 | 0 | 0 |\n",
       "| global-%E | 0 | 0 | 0 | 0 | 0 | 0 | 0 | 0 | 0 | 0 | ... | 0 | 0 | 0 | 0 | 0 | 0 | 0 | 0 | 0 | 0 |\n",
       "| global-%ENTE | 0 | 0 | 0 | 0 | 0 | 0 | 0 | 0 | 0 | 0 | ... | 0 | 0 | 0 | 0 | 0 | 0 | 0 | 0 | 0 | 0 |\n",
       "| global-%G | 0 | 0 | 0 | 0 | 0 | 0 | 0 | 0 | 0 | 0 | ... | 0 | 0 | 0 | 0 | 0 | 0 | 0 | 0 | 0 | 0 |\n",
       "| global-%GE | 0 | 0 | 0 | 0 | 0 | 0 | 0 | 0 | 0 | 0 | ... | 0 | 0 | 0 | 0 | 0 | 0 | 0 | 0 | 0 | 0 |\n",
       "\n"
      ],
      "text/plain": [
       "             310102_TCRB 310103_TCRB 310104_TCRB 310105_TCRB 310106_TCRB\n",
       "global-%AG   0           0           0           0           0          \n",
       "global-%AGTE 0           0           0           0           0          \n",
       "global-%E    0           0           0           0           0          \n",
       "global-%ENTE 0           0           0           0           0          \n",
       "global-%G    0           0           0           0           0          \n",
       "global-%GE   0           0           0           0           0          \n",
       "             310108_TCRB 310109_TCRB 310110_TCRB 310111_TCRB 310112_TCRB ...\n",
       "global-%AG   0           0           0           0           0           ...\n",
       "global-%AGTE 0           1           0           0           0           ...\n",
       "global-%E    0           0           0           0           0           ...\n",
       "global-%ENTE 0           0           0           0           0           ...\n",
       "global-%G    0           0           0           0           0           ...\n",
       "global-%GE   0           0           0           0           0           ...\n",
       "             Peds_Ctrl_1 Peds_Ctrl_2 Peds_Ctrl_7 Peds_Febrile_Ctrl_1\n",
       "global-%AG   0           0           0           0                  \n",
       "global-%AGTE 0           0           0           0                  \n",
       "global-%E    0           0           0           0                  \n",
       "global-%ENTE 0           0           0           0                  \n",
       "global-%G    0           0           0           0                  \n",
       "global-%GE   0           0           0           0                  \n",
       "             Peds_Febrile_Ctrl_3 Peds_Febrile_Ctrl_5 Peds_Febrile_Ctrl_6 sJIA_2\n",
       "global-%AG   0                   0                   0                   0     \n",
       "global-%AGTE 0                   0                   0                   0     \n",
       "global-%E    0                   0                   0                   0     \n",
       "global-%ENTE 0                   0                   0                   0     \n",
       "global-%G    0                   0                   0                   0     \n",
       "global-%GE   0                   0                   0                   0     \n",
       "             sJIA_4 sJIA_7\n",
       "global-%AG   0      0     \n",
       "global-%AGTE 0      0     \n",
       "global-%E    0      0     \n",
       "global-%ENTE 0      0     \n",
       "global-%G    0      0     \n",
       "global-%GE   0      0     "
      ]
     },
     "metadata": {},
     "output_type": "display_data"
    }
   ],
   "source": [
    "head(mylist[[1]])"
   ]
  },
  {
   "cell_type": "code",
   "execution_count": 12,
   "metadata": {
    "vscode": {
     "languageId": "r"
    }
   },
   "outputs": [],
   "source": [
    "#mylist <- lapply(mylist, function(x) as.data.frame(x))"
   ]
  },
  {
   "cell_type": "markdown",
   "metadata": {},
   "source": [
    "# ZicoSeq"
   ]
  },
  {
   "cell_type": "code",
   "execution_count": 116,
   "metadata": {
    "vscode": {
     "languageId": "r"
    }
   },
   "outputs": [],
   "source": [
    "rownames(discovery_metadata) <- discovery_metadata$sample_name"
   ]
  },
  {
   "cell_type": "code",
   "execution_count": 117,
   "metadata": {
    "vscode": {
     "languageId": "r"
    }
   },
   "outputs": [],
   "source": [
    "# make a new variable for the disease\n",
    "# Group Leukemia, Lymphoma and Solid together as Cancer, all others as Non-Cancer\n",
    "discovery_metadata$disease_group <- discovery_metadata$disease\n",
    "discovery_metadata$disease_group[discovery_metadata$disease %in% c(\"Leukemia\", \"Lymphoma\", \"Solid\")] <- \"Cancer\"\n",
    "discovery_metadata$disease_group[!discovery_metadata$disease %in% c(\"Leukemia\", \"Lymphoma\", \"Solid\")] <- \"Non-Cancer\""
   ]
  },
  {
   "cell_type": "code",
   "execution_count": 118,
   "metadata": {
    "vscode": {
     "languageId": "r"
    }
   },
   "outputs": [],
   "source": [
    "discovery_metadata$Sex[ is.na(discovery_metadata$Sex)] <- \"Unknown\"\n",
    "discovery_metadata$Agegroup[ is.na(discovery_metadata$Agegroup)] <- \"Unknown\""
   ]
  },
  {
   "cell_type": "code",
   "execution_count": 119,
   "metadata": {
    "vscode": {
     "languageId": "r"
    }
   },
   "outputs": [
    {
     "data": {
      "text/html": [
       "<ol>\n",
       "\t<li><style>\n",
       ".list-inline {list-style: none; margin:0; padding: 0}\n",
       ".list-inline>li {display: inline-block}\n",
       ".list-inline>li:not(:last-child)::after {content: \"\\00b7\"; padding: 0 .5ex}\n",
       "</style>\n",
       "<ol class=list-inline><li>756</li><li>813</li></ol>\n",
       "</li>\n",
       "\t<li><style>\n",
       ".list-inline {list-style: none; margin:0; padding: 0}\n",
       ".list-inline>li {display: inline-block}\n",
       ".list-inline>li:not(:last-child)::after {content: \"\\00b7\"; padding: 0 .5ex}\n",
       "</style>\n",
       "<ol class=list-inline><li>704</li><li>824</li></ol>\n",
       "</li>\n",
       "\t<li><style>\n",
       ".list-inline {list-style: none; margin:0; padding: 0}\n",
       ".list-inline>li {display: inline-block}\n",
       ".list-inline>li:not(:last-child)::after {content: \"\\00b7\"; padding: 0 .5ex}\n",
       "</style>\n",
       "<ol class=list-inline><li>727</li><li>822</li></ol>\n",
       "</li>\n",
       "\t<li><style>\n",
       ".list-inline {list-style: none; margin:0; padding: 0}\n",
       ".list-inline>li {display: inline-block}\n",
       ".list-inline>li:not(:last-child)::after {content: \"\\00b7\"; padding: 0 .5ex}\n",
       "</style>\n",
       "<ol class=list-inline><li>711</li><li>820</li></ol>\n",
       "</li>\n",
       "\t<li><style>\n",
       ".list-inline {list-style: none; margin:0; padding: 0}\n",
       ".list-inline>li {display: inline-block}\n",
       ".list-inline>li:not(:last-child)::after {content: \"\\00b7\"; padding: 0 .5ex}\n",
       "</style>\n",
       "<ol class=list-inline><li>740</li><li>819</li></ol>\n",
       "</li>\n",
       "\t<li><style>\n",
       ".list-inline {list-style: none; margin:0; padding: 0}\n",
       ".list-inline>li {display: inline-block}\n",
       ".list-inline>li:not(:last-child)::after {content: \"\\00b7\"; padding: 0 .5ex}\n",
       "</style>\n",
       "<ol class=list-inline><li>763</li><li>828</li></ol>\n",
       "</li>\n",
       "\t<li><style>\n",
       ".list-inline {list-style: none; margin:0; padding: 0}\n",
       ".list-inline>li {display: inline-block}\n",
       ".list-inline>li:not(:last-child)::after {content: \"\\00b7\"; padding: 0 .5ex}\n",
       "</style>\n",
       "<ol class=list-inline><li>738</li><li>814</li></ol>\n",
       "</li>\n",
       "\t<li><style>\n",
       ".list-inline {list-style: none; margin:0; padding: 0}\n",
       ".list-inline>li {display: inline-block}\n",
       ".list-inline>li:not(:last-child)::after {content: \"\\00b7\"; padding: 0 .5ex}\n",
       "</style>\n",
       "<ol class=list-inline><li>748</li><li>811</li></ol>\n",
       "</li>\n",
       "\t<li><style>\n",
       ".list-inline {list-style: none; margin:0; padding: 0}\n",
       ".list-inline>li {display: inline-block}\n",
       ".list-inline>li:not(:last-child)::after {content: \"\\00b7\"; padding: 0 .5ex}\n",
       "</style>\n",
       "<ol class=list-inline><li>693</li><li>814</li></ol>\n",
       "</li>\n",
       "\t<li><style>\n",
       ".list-inline {list-style: none; margin:0; padding: 0}\n",
       ".list-inline>li {display: inline-block}\n",
       ".list-inline>li:not(:last-child)::after {content: \"\\00b7\"; padding: 0 .5ex}\n",
       "</style>\n",
       "<ol class=list-inline><li>666</li><li>802</li></ol>\n",
       "</li>\n",
       "\t<li><style>\n",
       ".list-inline {list-style: none; margin:0; padding: 0}\n",
       ".list-inline>li {display: inline-block}\n",
       ".list-inline>li:not(:last-child)::after {content: \"\\00b7\"; padding: 0 .5ex}\n",
       "</style>\n",
       "<ol class=list-inline><li>764</li><li>817</li></ol>\n",
       "</li>\n",
       "\t<li><style>\n",
       ".list-inline {list-style: none; margin:0; padding: 0}\n",
       ".list-inline>li {display: inline-block}\n",
       ".list-inline>li:not(:last-child)::after {content: \"\\00b7\"; padding: 0 .5ex}\n",
       "</style>\n",
       "<ol class=list-inline><li>733</li><li>823</li></ol>\n",
       "</li>\n",
       "\t<li><style>\n",
       ".list-inline {list-style: none; margin:0; padding: 0}\n",
       ".list-inline>li {display: inline-block}\n",
       ".list-inline>li:not(:last-child)::after {content: \"\\00b7\"; padding: 0 .5ex}\n",
       "</style>\n",
       "<ol class=list-inline><li>772</li><li>817</li></ol>\n",
       "</li>\n",
       "\t<li><style>\n",
       ".list-inline {list-style: none; margin:0; padding: 0}\n",
       ".list-inline>li {display: inline-block}\n",
       ".list-inline>li:not(:last-child)::after {content: \"\\00b7\"; padding: 0 .5ex}\n",
       "</style>\n",
       "<ol class=list-inline><li>748</li><li>801</li></ol>\n",
       "</li>\n",
       "\t<li><style>\n",
       ".list-inline {list-style: none; margin:0; padding: 0}\n",
       ".list-inline>li {display: inline-block}\n",
       ".list-inline>li:not(:last-child)::after {content: \"\\00b7\"; padding: 0 .5ex}\n",
       "</style>\n",
       "<ol class=list-inline><li>761</li><li>827</li></ol>\n",
       "</li>\n",
       "\t<li><style>\n",
       ".list-inline {list-style: none; margin:0; padding: 0}\n",
       ".list-inline>li {display: inline-block}\n",
       ".list-inline>li:not(:last-child)::after {content: \"\\00b7\"; padding: 0 .5ex}\n",
       "</style>\n",
       "<ol class=list-inline><li>709</li><li>816</li></ol>\n",
       "</li>\n",
       "\t<li><style>\n",
       ".list-inline {list-style: none; margin:0; padding: 0}\n",
       ".list-inline>li {display: inline-block}\n",
       ".list-inline>li:not(:last-child)::after {content: \"\\00b7\"; padding: 0 .5ex}\n",
       "</style>\n",
       "<ol class=list-inline><li>760</li><li>820</li></ol>\n",
       "</li>\n",
       "\t<li><style>\n",
       ".list-inline {list-style: none; margin:0; padding: 0}\n",
       ".list-inline>li {display: inline-block}\n",
       ".list-inline>li:not(:last-child)::after {content: \"\\00b7\"; padding: 0 .5ex}\n",
       "</style>\n",
       "<ol class=list-inline><li>679</li><li>824</li></ol>\n",
       "</li>\n",
       "\t<li><style>\n",
       ".list-inline {list-style: none; margin:0; padding: 0}\n",
       ".list-inline>li {display: inline-block}\n",
       ".list-inline>li:not(:last-child)::after {content: \"\\00b7\"; padding: 0 .5ex}\n",
       "</style>\n",
       "<ol class=list-inline><li>679</li><li>826</li></ol>\n",
       "</li>\n",
       "\t<li><style>\n",
       ".list-inline {list-style: none; margin:0; padding: 0}\n",
       ".list-inline>li {display: inline-block}\n",
       ".list-inline>li:not(:last-child)::after {content: \"\\00b7\"; padding: 0 .5ex}\n",
       "</style>\n",
       "<ol class=list-inline><li>811</li><li>820</li></ol>\n",
       "</li>\n",
       "</ol>\n"
      ],
      "text/latex": [
       "\\begin{enumerate}\n",
       "\\item \\begin{enumerate*}\n",
       "\\item 756\n",
       "\\item 813\n",
       "\\end{enumerate*}\n",
       "\n",
       "\\item \\begin{enumerate*}\n",
       "\\item 704\n",
       "\\item 824\n",
       "\\end{enumerate*}\n",
       "\n",
       "\\item \\begin{enumerate*}\n",
       "\\item 727\n",
       "\\item 822\n",
       "\\end{enumerate*}\n",
       "\n",
       "\\item \\begin{enumerate*}\n",
       "\\item 711\n",
       "\\item 820\n",
       "\\end{enumerate*}\n",
       "\n",
       "\\item \\begin{enumerate*}\n",
       "\\item 740\n",
       "\\item 819\n",
       "\\end{enumerate*}\n",
       "\n",
       "\\item \\begin{enumerate*}\n",
       "\\item 763\n",
       "\\item 828\n",
       "\\end{enumerate*}\n",
       "\n",
       "\\item \\begin{enumerate*}\n",
       "\\item 738\n",
       "\\item 814\n",
       "\\end{enumerate*}\n",
       "\n",
       "\\item \\begin{enumerate*}\n",
       "\\item 748\n",
       "\\item 811\n",
       "\\end{enumerate*}\n",
       "\n",
       "\\item \\begin{enumerate*}\n",
       "\\item 693\n",
       "\\item 814\n",
       "\\end{enumerate*}\n",
       "\n",
       "\\item \\begin{enumerate*}\n",
       "\\item 666\n",
       "\\item 802\n",
       "\\end{enumerate*}\n",
       "\n",
       "\\item \\begin{enumerate*}\n",
       "\\item 764\n",
       "\\item 817\n",
       "\\end{enumerate*}\n",
       "\n",
       "\\item \\begin{enumerate*}\n",
       "\\item 733\n",
       "\\item 823\n",
       "\\end{enumerate*}\n",
       "\n",
       "\\item \\begin{enumerate*}\n",
       "\\item 772\n",
       "\\item 817\n",
       "\\end{enumerate*}\n",
       "\n",
       "\\item \\begin{enumerate*}\n",
       "\\item 748\n",
       "\\item 801\n",
       "\\end{enumerate*}\n",
       "\n",
       "\\item \\begin{enumerate*}\n",
       "\\item 761\n",
       "\\item 827\n",
       "\\end{enumerate*}\n",
       "\n",
       "\\item \\begin{enumerate*}\n",
       "\\item 709\n",
       "\\item 816\n",
       "\\end{enumerate*}\n",
       "\n",
       "\\item \\begin{enumerate*}\n",
       "\\item 760\n",
       "\\item 820\n",
       "\\end{enumerate*}\n",
       "\n",
       "\\item \\begin{enumerate*}\n",
       "\\item 679\n",
       "\\item 824\n",
       "\\end{enumerate*}\n",
       "\n",
       "\\item \\begin{enumerate*}\n",
       "\\item 679\n",
       "\\item 826\n",
       "\\end{enumerate*}\n",
       "\n",
       "\\item \\begin{enumerate*}\n",
       "\\item 811\n",
       "\\item 820\n",
       "\\end{enumerate*}\n",
       "\n",
       "\\end{enumerate}\n"
      ],
      "text/markdown": [
       "1. 1. 756\n",
       "2. 813\n",
       "\n",
       "\n",
       "\n",
       "2. 1. 704\n",
       "2. 824\n",
       "\n",
       "\n",
       "\n",
       "3. 1. 727\n",
       "2. 822\n",
       "\n",
       "\n",
       "\n",
       "4. 1. 711\n",
       "2. 820\n",
       "\n",
       "\n",
       "\n",
       "5. 1. 740\n",
       "2. 819\n",
       "\n",
       "\n",
       "\n",
       "6. 1. 763\n",
       "2. 828\n",
       "\n",
       "\n",
       "\n",
       "7. 1. 738\n",
       "2. 814\n",
       "\n",
       "\n",
       "\n",
       "8. 1. 748\n",
       "2. 811\n",
       "\n",
       "\n",
       "\n",
       "9. 1. 693\n",
       "2. 814\n",
       "\n",
       "\n",
       "\n",
       "10. 1. 666\n",
       "2. 802\n",
       "\n",
       "\n",
       "\n",
       "11. 1. 764\n",
       "2. 817\n",
       "\n",
       "\n",
       "\n",
       "12. 1. 733\n",
       "2. 823\n",
       "\n",
       "\n",
       "\n",
       "13. 1. 772\n",
       "2. 817\n",
       "\n",
       "\n",
       "\n",
       "14. 1. 748\n",
       "2. 801\n",
       "\n",
       "\n",
       "\n",
       "15. 1. 761\n",
       "2. 827\n",
       "\n",
       "\n",
       "\n",
       "16. 1. 709\n",
       "2. 816\n",
       "\n",
       "\n",
       "\n",
       "17. 1. 760\n",
       "2. 820\n",
       "\n",
       "\n",
       "\n",
       "18. 1. 679\n",
       "2. 824\n",
       "\n",
       "\n",
       "\n",
       "19. 1. 679\n",
       "2. 826\n",
       "\n",
       "\n",
       "\n",
       "20. 1. 811\n",
       "2. 820\n",
       "\n",
       "\n",
       "\n",
       "\n",
       "\n"
      ],
      "text/plain": [
       "[[1]]\n",
       "[1] 756 813\n",
       "\n",
       "[[2]]\n",
       "[1] 704 824\n",
       "\n",
       "[[3]]\n",
       "[1] 727 822\n",
       "\n",
       "[[4]]\n",
       "[1] 711 820\n",
       "\n",
       "[[5]]\n",
       "[1] 740 819\n",
       "\n",
       "[[6]]\n",
       "[1] 763 828\n",
       "\n",
       "[[7]]\n",
       "[1] 738 814\n",
       "\n",
       "[[8]]\n",
       "[1] 748 811\n",
       "\n",
       "[[9]]\n",
       "[1] 693 814\n",
       "\n",
       "[[10]]\n",
       "[1] 666 802\n",
       "\n",
       "[[11]]\n",
       "[1] 764 817\n",
       "\n",
       "[[12]]\n",
       "[1] 733 823\n",
       "\n",
       "[[13]]\n",
       "[1] 772 817\n",
       "\n",
       "[[14]]\n",
       "[1] 748 801\n",
       "\n",
       "[[15]]\n",
       "[1] 761 827\n",
       "\n",
       "[[16]]\n",
       "[1] 709 816\n",
       "\n",
       "[[17]]\n",
       "[1] 760 820\n",
       "\n",
       "[[18]]\n",
       "[1] 679 824\n",
       "\n",
       "[[19]]\n",
       "[1] 679 826\n",
       "\n",
       "[[20]]\n",
       "[1] 811 820\n"
      ]
     },
     "metadata": {},
     "output_type": "display_data"
    }
   ],
   "source": [
    "lapply(mylist, function(x) dim(x))"
   ]
  },
  {
   "cell_type": "code",
   "execution_count": 20,
   "metadata": {
    "vscode": {
     "languageId": "r"
    }
   },
   "outputs": [],
   "source": [
    "# get number of zero for each row in each matrix\n",
    "mylist_5 <- lapply(mylist, \\(x) { x[rowSums(x != 0) > 9  , ] })\n",
    "mylist_5 <- lapply(mylist_5, \\(x) { x[ ,colSums(x != 0) > 1   ] })\n"
   ]
  },
  {
   "cell_type": "code",
   "execution_count": 21,
   "metadata": {
    "vscode": {
     "languageId": "r"
    }
   },
   "outputs": [
    {
     "name": "stdout",
     "output_type": "stream",
     "text": [
      "0  features are filtered!\n",
      "The data has  730  samples and  446  features will be tested!\n",
      "Fitting beta mixture ...\n",
      "Finding the references ...\n",
      "Permutation testing ...\n",
      ".........\n",
      ".........\n",
      ".........\n",
      ".........\n",
      ".........\n",
      ".........\n",
      "Completed!\n",
      "0  features are filtered!\n",
      "The data has  729  samples and  407  features will be tested!\n",
      "Fitting beta mixture ...\n",
      "Finding the references ...\n",
      "Permutation testing ...\n",
      ".........\n",
      ".........\n",
      ".........\n",
      ".........\n",
      ".........\n",
      ".........\n",
      "Completed!\n",
      "0  features are filtered!\n",
      "The data has  744  samples and  425  features will be tested!\n",
      "Fitting beta mixture ...\n",
      "Finding the references ...\n",
      "Permutation testing ...\n",
      ".........\n",
      ".........\n",
      ".........\n",
      ".........\n",
      ".........\n",
      ".........\n",
      "Completed!\n",
      "0  features are filtered!\n",
      "The data has  713  samples and  384  features will be tested!\n",
      "Fitting beta mixture ...\n",
      "Finding the references ...\n",
      "Permutation testing ...\n",
      ".........\n",
      ".........\n",
      ".........\n",
      ".........\n",
      ".........\n",
      ".........\n",
      "Completed!\n",
      "0  features are filtered!\n",
      "The data has  721  samples and  412  features will be tested!\n",
      "Fitting beta mixture ...\n",
      "Finding the references ...\n",
      "Permutation testing ...\n",
      ".........\n",
      ".........\n",
      ".........\n",
      ".........\n",
      ".........\n",
      ".........\n",
      "Completed!\n",
      "0  features are filtered!\n",
      "The data has  744  samples and  439  features will be tested!\n",
      "Fitting beta mixture ...\n",
      "Finding the references ...\n",
      "Permutation testing ...\n",
      ".........\n",
      ".........\n",
      ".........\n",
      ".........\n",
      ".........\n",
      ".........\n",
      "Completed!\n",
      "0  features are filtered!\n",
      "The data has  734  samples and  403  features will be tested!\n",
      "Fitting beta mixture ...\n",
      "Finding the references ...\n",
      "Permutation testing ...\n",
      ".........\n",
      ".........\n",
      ".........\n",
      ".........\n",
      ".........\n",
      ".........\n",
      "Completed!\n",
      "0  features are filtered!\n",
      "The data has  734  samples and  438  features will be tested!\n",
      "Fitting beta mixture ...\n",
      "Finding the references ...\n",
      "Permutation testing ...\n",
      ".........\n",
      ".........\n",
      ".........\n",
      ".........\n",
      ".........\n",
      ".........\n",
      "Completed!\n",
      "0  features are filtered!\n",
      "The data has  728  samples and  387  features will be tested!\n",
      "Fitting beta mixture ...\n",
      "Finding the references ...\n",
      "Permutation testing ...\n",
      ".........\n",
      ".........\n",
      ".........\n",
      ".........\n",
      ".........\n",
      ".........\n",
      "Completed!\n",
      "0  features are filtered!\n",
      "The data has  711  samples and  393  features will be tested!\n",
      "Fitting beta mixture ...\n",
      "Finding the references ...\n",
      "Permutation testing ...\n",
      ".........\n",
      ".........\n",
      ".........\n",
      ".........\n",
      ".........\n",
      ".........\n",
      "Completed!\n",
      "0  features are filtered!\n",
      "The data has  724  samples and  426  features will be tested!\n",
      "Fitting beta mixture ...\n",
      "Finding the references ...\n",
      "Permutation testing ...\n",
      ".........\n",
      ".........\n",
      ".........\n",
      ".........\n",
      ".........\n",
      ".........\n",
      "Completed!\n",
      "0  features are filtered!\n",
      "The data has  739  samples and  413  features will be tested!\n",
      "Fitting beta mixture ...\n",
      "Finding the references ...\n",
      "Permutation testing ...\n",
      ".........\n",
      ".........\n",
      ".........\n",
      ".........\n",
      ".........\n",
      ".........\n",
      "Completed!\n",
      "0  features are filtered!\n",
      "The data has  729  samples and  439  features will be tested!\n",
      "Fitting beta mixture ...\n",
      "Finding the references ...\n",
      "Permutation testing ...\n",
      ".........\n",
      ".........\n",
      ".........\n",
      ".........\n",
      ".........\n",
      ".........\n",
      "Completed!\n",
      "0  features are filtered!\n",
      "The data has  714  samples and  414  features will be tested!\n",
      "Fitting beta mixture ...\n",
      "Finding the references ...\n",
      "Permutation testing ...\n",
      ".........\n",
      ".........\n",
      ".........\n",
      ".........\n",
      ".........\n",
      ".........\n",
      "Completed!\n",
      "0  features are filtered!\n",
      "The data has  739  samples and  441  features will be tested!\n",
      "Fitting beta mixture ...\n",
      "Finding the references ...\n",
      "Permutation testing ...\n",
      ".........\n",
      ".........\n",
      ".........\n",
      ".........\n",
      ".........\n",
      ".........\n",
      "Completed!\n",
      "0  features are filtered!\n",
      "The data has  715  samples and  409  features will be tested!\n",
      "Fitting beta mixture ...\n",
      "Finding the references ...\n",
      "Permutation testing ...\n",
      ".........\n",
      ".........\n",
      ".........\n",
      ".........\n",
      ".........\n",
      ".........\n",
      "Completed!\n",
      "0  features are filtered!\n",
      "The data has  734  samples and  434  features will be tested!\n",
      "Fitting beta mixture ...\n",
      "Finding the references ...\n",
      "Permutation testing ...\n",
      ".........\n",
      ".........\n",
      ".........\n",
      ".........\n",
      ".........\n",
      ".........\n",
      "Completed!\n",
      "0  features are filtered!\n",
      "The data has  730  samples and  407  features will be tested!\n",
      "Fitting beta mixture ...\n",
      "Finding the references ...\n",
      "Permutation testing ...\n",
      ".........\n",
      ".........\n",
      ".........\n",
      ".........\n",
      ".........\n",
      ".........\n",
      "Completed!\n",
      "0  features are filtered!\n",
      "The data has  723  samples and  415  features will be tested!\n",
      "Fitting beta mixture ...\n",
      "Finding the references ...\n",
      "Permutation testing ...\n",
      ".........\n",
      ".........\n",
      ".........\n",
      ".........\n",
      ".........\n",
      ".........\n",
      "Completed!\n",
      "0  features are filtered!\n",
      "The data has  743  samples and  477  features will be tested!\n",
      "Fitting beta mixture ...\n",
      "Finding the references ...\n",
      "Permutation testing ...\n",
      ".........\n",
      ".........\n",
      ".........\n",
      ".........\n",
      ".........\n",
      ".........\n",
      "Completed!\n"
     ]
    }
   ],
   "source": [
    "zicolist  <- lapply(mylist_5, \\(x) {zicoseq.fx(as.matrix(x), discovery_metadata, \"disease_group\")} )"
   ]
  },
  {
   "cell_type": "code",
   "execution_count": 22,
   "metadata": {
    "vscode": {
     "languageId": "r"
    }
   },
   "outputs": [
    {
     "data": {
      "text/html": [
       "20"
      ],
      "text/latex": [
       "20"
      ],
      "text/markdown": [
       "20"
      ],
      "text/plain": [
       "[1] 20"
      ]
     },
     "metadata": {},
     "output_type": "display_data"
    }
   ],
   "source": [
    "length(zicolist)"
   ]
  },
  {
   "cell_type": "code",
   "execution_count": 23,
   "metadata": {
    "vscode": {
     "languageId": "r"
    }
   },
   "outputs": [],
   "source": [
    "dfColList <- lapply(zicolist ,rownames)\n",
    "commonCols <- Reduce(intersect,dfColList)"
   ]
  },
  {
   "cell_type": "code",
   "execution_count": 24,
   "metadata": {
    "vscode": {
     "languageId": "r"
    }
   },
   "outputs": [
    {
     "data": {
      "text/html": [
       "<style>\n",
       ".list-inline {list-style: none; margin:0; padding: 0}\n",
       ".list-inline>li {display: inline-block}\n",
       ".list-inline>li:not(:last-child)::after {content: \"\\00b7\"; padding: 0 .5ex}\n",
       "</style>\n",
       "<ol class=list-inline><li>'global-%E'</li><li>'global-S%'</li><li>'global-S%GGE'</li><li>'global-S%GTE'</li><li>'global-S%NTE'</li><li>'global-S%QGNTE'</li><li>'global-SE%GE'</li><li>'global-SL%GE'</li><li>'global-SLG%E'</li><li>'global-SQ%GE'</li></ol>\n"
      ],
      "text/latex": [
       "\\begin{enumerate*}\n",
       "\\item 'global-\\%E'\n",
       "\\item 'global-S\\%'\n",
       "\\item 'global-S\\%GGE'\n",
       "\\item 'global-S\\%GTE'\n",
       "\\item 'global-S\\%NTE'\n",
       "\\item 'global-S\\%QGNTE'\n",
       "\\item 'global-SE\\%GE'\n",
       "\\item 'global-SL\\%GE'\n",
       "\\item 'global-SLG\\%E'\n",
       "\\item 'global-SQ\\%GE'\n",
       "\\end{enumerate*}\n"
      ],
      "text/markdown": [
       "1. 'global-%E'\n",
       "2. 'global-S%'\n",
       "3. 'global-S%GGE'\n",
       "4. 'global-S%GTE'\n",
       "5. 'global-S%NTE'\n",
       "6. 'global-S%QGNTE'\n",
       "7. 'global-SE%GE'\n",
       "8. 'global-SL%GE'\n",
       "9. 'global-SLG%E'\n",
       "10. 'global-SQ%GE'\n",
       "\n",
       "\n"
      ],
      "text/plain": [
       " [1] \"global-%E\"      \"global-S%\"      \"global-S%GGE\"   \"global-S%GTE\"  \n",
       " [5] \"global-S%NTE\"   \"global-S%QGNTE\" \"global-SE%GE\"   \"global-SL%GE\"  \n",
       " [9] \"global-SLG%E\"   \"global-SQ%GE\"  "
      ]
     },
     "metadata": {},
     "output_type": "display_data"
    }
   ],
   "source": [
    "commonCols"
   ]
  },
  {
   "cell_type": "code",
   "execution_count": 25,
   "metadata": {
    "vscode": {
     "languageId": "r"
    }
   },
   "outputs": [],
   "source": [
    "zicolist <- lapply(zicolist ,\\(x) x[  order(x$padj, decreasing = F),])"
   ]
  },
  {
   "cell_type": "code",
   "execution_count": 26,
   "metadata": {
    "vscode": {
     "languageId": "r"
    }
   },
   "outputs": [
    {
     "data": {
      "text/html": [
       "<ol>\n",
       "\t<li><table class=\"dataframe\">\n",
       "<caption>A data.frame: 6 x 2</caption>\n",
       "<thead>\n",
       "\t<tr><th></th><th scope=col>Func1</th><th scope=col>padj</th></tr>\n",
       "\t<tr><th></th><th scope=col>&lt;dbl&gt;</th><th scope=col>&lt;dbl&gt;</th></tr>\n",
       "</thead>\n",
       "<tbody>\n",
       "\t<tr><th scope=row>global-S%GNEK</th><td>0.06690115</td><td>0.07070707</td></tr>\n",
       "\t<tr><th scope=row>global-S%DSGANV</th><td>0.04017443</td><td>0.13019080</td></tr>\n",
       "\t<tr><th scope=row>global-S%GGNT</th><td>0.02649754</td><td>0.13019080</td></tr>\n",
       "\t<tr><th scope=row>global-S%GTGGTE</th><td>0.02619123</td><td>0.13019080</td></tr>\n",
       "\t<tr><th scope=row>global-SESG%TE</th><td>0.02764503</td><td>0.13019080</td></tr>\n",
       "\t<tr><th scope=row>global-SL%GGE</th><td>0.02687032</td><td>0.13019080</td></tr>\n",
       "</tbody>\n",
       "</table>\n",
       "</li>\n",
       "\t<li><table class=\"dataframe\">\n",
       "<caption>A data.frame: 6 x 2</caption>\n",
       "<thead>\n",
       "\t<tr><th></th><th scope=col>Func1</th><th scope=col>padj</th></tr>\n",
       "\t<tr><th></th><th scope=col>&lt;dbl&gt;</th><th scope=col>&lt;dbl&gt;</th></tr>\n",
       "</thead>\n",
       "<tbody>\n",
       "\t<tr><th scope=row>global-%GE</th><td>0.03683816</td><td>0.0523416</td></tr>\n",
       "\t<tr><th scope=row>global-S%TRNTE</th><td>0.03361493</td><td>0.0523416</td></tr>\n",
       "\t<tr><th scope=row>global-SD%SGANV</th><td>0.03999073</td><td>0.0523416</td></tr>\n",
       "\t<tr><th scope=row>global-SDS%TGE</th><td>0.04351158</td><td>0.0523416</td></tr>\n",
       "\t<tr><th scope=row>global-SE%RNTE</th><td>0.04246656</td><td>0.0523416</td></tr>\n",
       "\t<tr><th scope=row>global-SESG%TE</th><td>0.03397312</td><td>0.0523416</td></tr>\n",
       "</tbody>\n",
       "</table>\n",
       "</li>\n",
       "\t<li><table class=\"dataframe\">\n",
       "<caption>A data.frame: 6 x 2</caption>\n",
       "<thead>\n",
       "\t<tr><th></th><th scope=col>Func1</th><th scope=col>padj</th></tr>\n",
       "\t<tr><th></th><th scope=col>&lt;dbl&gt;</th><th scope=col>&lt;dbl&gt;</th></tr>\n",
       "</thead>\n",
       "<tbody>\n",
       "\t<tr><th scope=row>global-R%RENTE</th><td>0.05419083</td><td>0.01767677</td></tr>\n",
       "\t<tr><th scope=row>global-S%GGNYG</th><td>0.05706152</td><td>0.01767677</td></tr>\n",
       "\t<tr><th scope=row>global-S%GNEK</th><td>0.07757337</td><td>0.01767677</td></tr>\n",
       "\t<tr><th scope=row>global-SLN%E</th><td>0.06197953</td><td>0.01767677</td></tr>\n",
       "\t<tr><th scope=row>global-SD%SGANV</th><td>0.05246646</td><td>0.01851852</td></tr>\n",
       "\t<tr><th scope=row>global-SP%GGNT</th><td>0.05160852</td><td>0.01851852</td></tr>\n",
       "</tbody>\n",
       "</table>\n",
       "</li>\n",
       "\t<li><table class=\"dataframe\">\n",
       "<caption>A data.frame: 6 x 2</caption>\n",
       "<thead>\n",
       "\t<tr><th></th><th scope=col>Func1</th><th scope=col>padj</th></tr>\n",
       "\t<tr><th></th><th scope=col>&lt;dbl&gt;</th><th scope=col>&lt;dbl&gt;</th></tr>\n",
       "</thead>\n",
       "<tbody>\n",
       "\t<tr><th scope=row>global-SI%MNTE</th><td>0.12251908</td><td>0.005050505</td></tr>\n",
       "\t<tr><th scope=row>global-%GE</th><td>0.02875205</td><td>0.059595960</td></tr>\n",
       "\t<tr><th scope=row>global-S%PNQP</th><td>0.03011288</td><td>0.059595960</td></tr>\n",
       "\t<tr><th scope=row>global-S%QMNTE</th><td>0.03025865</td><td>0.059595960</td></tr>\n",
       "\t<tr><th scope=row>global-SDS%TGE</th><td>0.03422945</td><td>0.059595960</td></tr>\n",
       "\t<tr><th scope=row>global-SE%RNTE</th><td>0.03281404</td><td>0.059595960</td></tr>\n",
       "</tbody>\n",
       "</table>\n",
       "</li>\n",
       "\t<li><table class=\"dataframe\">\n",
       "<caption>A data.frame: 6 x 2</caption>\n",
       "<thead>\n",
       "\t<tr><th></th><th scope=col>Func1</th><th scope=col>padj</th></tr>\n",
       "\t<tr><th></th><th scope=col>&lt;dbl&gt;</th><th scope=col>&lt;dbl&gt;</th></tr>\n",
       "</thead>\n",
       "<tbody>\n",
       "\t<tr><th scope=row>global-SD%SGANV</th><td>0.07206902</td><td>0.02020202</td></tr>\n",
       "\t<tr><th scope=row>global-SDS%TGE</th><td>0.06379738</td><td>0.02020202</td></tr>\n",
       "\t<tr><th scope=row>global-S%GNEK</th><td>0.04925325</td><td>0.02525253</td></tr>\n",
       "\t<tr><th scope=row>global-SEG%TE</th><td>0.04997477</td><td>0.02525253</td></tr>\n",
       "\t<tr><th scope=row>global-S%GQGATNEK</th><td>0.04160768</td><td>0.04713805</td></tr>\n",
       "\t<tr><th scope=row>global-SP%GGNT</th><td>0.04093965</td><td>0.04713805</td></tr>\n",
       "</tbody>\n",
       "</table>\n",
       "</li>\n",
       "\t<li><table class=\"dataframe\">\n",
       "<caption>A data.frame: 6 x 2</caption>\n",
       "<thead>\n",
       "\t<tr><th></th><th scope=col>Func1</th><th scope=col>padj</th></tr>\n",
       "\t<tr><th></th><th scope=col>&lt;dbl&gt;</th><th scope=col>&lt;dbl&gt;</th></tr>\n",
       "</thead>\n",
       "<tbody>\n",
       "\t<tr><th scope=row>global-SF%VNTE</th><td>0.06076455</td><td>0.01010101</td></tr>\n",
       "\t<tr><th scope=row>global-SY%RE</th><td>0.06570144</td><td>0.01010101</td></tr>\n",
       "\t<tr><th scope=row>global-SS%RE</th><td>0.05407706</td><td>0.01346801</td></tr>\n",
       "\t<tr><th scope=row>global-S%LSSGNT</th><td>0.05260037</td><td>0.02272727</td></tr>\n",
       "\t<tr><th scope=row>global-SET%NTE</th><td>0.04912122</td><td>0.02828283</td></tr>\n",
       "\t<tr><th scope=row>global-%GE</th><td>0.03023853</td><td>0.04817405</td></tr>\n",
       "</tbody>\n",
       "</table>\n",
       "</li>\n",
       "\t<li><table class=\"dataframe\">\n",
       "<caption>A data.frame: 6 x 2</caption>\n",
       "<thead>\n",
       "\t<tr><th></th><th scope=col>Func1</th><th scope=col>padj</th></tr>\n",
       "\t<tr><th></th><th scope=col>&lt;dbl&gt;</th><th scope=col>&lt;dbl&gt;</th></tr>\n",
       "</thead>\n",
       "<tbody>\n",
       "\t<tr><th scope=row>global-S%GNEK</th><td>0.09810616</td><td>0.01010101</td></tr>\n",
       "\t<tr><th scope=row>global-SG%NEK</th><td>0.07140505</td><td>0.01010101</td></tr>\n",
       "\t<tr><th scope=row>global-SL%HE</th><td>0.02728847</td><td>0.12121212</td></tr>\n",
       "\t<tr><th scope=row>global-S%SGGNQP</th><td>0.02125589</td><td>0.14784206</td></tr>\n",
       "\t<tr><th scope=row>global-S%TRNTE</th><td>0.02131025</td><td>0.14784206</td></tr>\n",
       "\t<tr><th scope=row>global-S%TSGE</th><td>0.02084576</td><td>0.14784206</td></tr>\n",
       "</tbody>\n",
       "</table>\n",
       "</li>\n",
       "\t<li><table class=\"dataframe\">\n",
       "<caption>A data.frame: 6 x 2</caption>\n",
       "<thead>\n",
       "\t<tr><th></th><th scope=col>Func1</th><th scope=col>padj</th></tr>\n",
       "\t<tr><th></th><th scope=col>&lt;dbl&gt;</th><th scope=col>&lt;dbl&gt;</th></tr>\n",
       "</thead>\n",
       "<tbody>\n",
       "\t<tr><th scope=row>global-SQR%TE</th><td>0.05541789</td><td>0.03030303</td></tr>\n",
       "\t<tr><th scope=row>global-SYA%E</th><td>0.05384682</td><td>0.03030303</td></tr>\n",
       "\t<tr><th scope=row>global-%GE</th><td>0.01486072</td><td>0.08847092</td></tr>\n",
       "\t<tr><th scope=row>global-%GQGGQP</th><td>0.03307569</td><td>0.08847092</td></tr>\n",
       "\t<tr><th scope=row>global-%GSE</th><td>0.01553272</td><td>0.08847092</td></tr>\n",
       "\t<tr><th scope=row>global-RQG%QP</th><td>0.02446986</td><td>0.08847092</td></tr>\n",
       "</tbody>\n",
       "</table>\n",
       "</li>\n",
       "\t<li><table class=\"dataframe\">\n",
       "<caption>A data.frame: 6 x 2</caption>\n",
       "<thead>\n",
       "\t<tr><th></th><th scope=col>Func1</th><th scope=col>padj</th></tr>\n",
       "\t<tr><th></th><th scope=col>&lt;dbl&gt;</th><th scope=col>&lt;dbl&gt;</th></tr>\n",
       "</thead>\n",
       "<tbody>\n",
       "\t<tr><th scope=row>global-S%GNEK</th><td>0.10916795</td><td>0.005050505</td></tr>\n",
       "\t<tr><th scope=row>global-SF%VNTE</th><td>0.04862764</td><td>0.025252525</td></tr>\n",
       "\t<tr><th scope=row>global-S%RGTGNT</th><td>0.03199663</td><td>0.055555556</td></tr>\n",
       "\t<tr><th scope=row>global-SIQ%NTE</th><td>0.03213709</td><td>0.055555556</td></tr>\n",
       "\t<tr><th scope=row>global-SLGQ%NEK</th><td>0.03023894</td><td>0.056565657</td></tr>\n",
       "\t<tr><th scope=row>global-R%TGGTE</th><td>0.01606141</td><td>0.082402977</td></tr>\n",
       "</tbody>\n",
       "</table>\n",
       "</li>\n",
       "\t<li><table class=\"dataframe\">\n",
       "<caption>A data.frame: 6 x 2</caption>\n",
       "<thead>\n",
       "\t<tr><th></th><th scope=col>Func1</th><th scope=col>padj</th></tr>\n",
       "\t<tr><th></th><th scope=col>&lt;dbl&gt;</th><th scope=col>&lt;dbl&gt;</th></tr>\n",
       "</thead>\n",
       "<tbody>\n",
       "\t<tr><th scope=row>global-SDR%DQP</th><td>0.05686439</td><td>0.05050505</td></tr>\n",
       "\t<tr><th scope=row>global-%DRGDQP</th><td>0.04962847</td><td>0.06060606</td></tr>\n",
       "\t<tr><th scope=row>global-A%NTE</th><td>0.03238841</td><td>0.06666667</td></tr>\n",
       "\t<tr><th scope=row>global-S%SSGANV</th><td>0.03386021</td><td>0.06666667</td></tr>\n",
       "\t<tr><th scope=row>global-SDRG%QP</th><td>0.03626972</td><td>0.06666667</td></tr>\n",
       "\t<tr><th scope=row>global-SDS%TGE</th><td>0.03609995</td><td>0.06666667</td></tr>\n",
       "</tbody>\n",
       "</table>\n",
       "</li>\n",
       "\t<li><table class=\"dataframe\">\n",
       "<caption>A data.frame: 6 x 2</caption>\n",
       "<thead>\n",
       "\t<tr><th></th><th scope=col>Func1</th><th scope=col>padj</th></tr>\n",
       "\t<tr><th></th><th scope=col>&lt;dbl&gt;</th><th scope=col>&lt;dbl&gt;</th></tr>\n",
       "</thead>\n",
       "<tbody>\n",
       "\t<tr><th scope=row>global-SI%MNTE</th><td>0.07984949</td><td>0.005050505</td></tr>\n",
       "\t<tr><th scope=row>global-%GE</th><td>0.03764370</td><td>0.038383838</td></tr>\n",
       "\t<tr><th scope=row>global-R%RENTE</th><td>0.04213668</td><td>0.038383838</td></tr>\n",
       "\t<tr><th scope=row>global-S%ARE</th><td>0.03973857</td><td>0.038383838</td></tr>\n",
       "\t<tr><th scope=row>global-S%PNQP</th><td>0.04090155</td><td>0.038383838</td></tr>\n",
       "\t<tr><th scope=row>global-S%RGDQP</th><td>0.04760955</td><td>0.038383838</td></tr>\n",
       "</tbody>\n",
       "</table>\n",
       "</li>\n",
       "\t<li><table class=\"dataframe\">\n",
       "<caption>A data.frame: 6 x 2</caption>\n",
       "<thead>\n",
       "\t<tr><th></th><th scope=col>Func1</th><th scope=col>padj</th></tr>\n",
       "\t<tr><th></th><th scope=col>&lt;dbl&gt;</th><th scope=col>&lt;dbl&gt;</th></tr>\n",
       "</thead>\n",
       "<tbody>\n",
       "\t<tr><th scope=row>global-S%GQGATNEK</th><td>0.04542564</td><td>0.1010101</td></tr>\n",
       "\t<tr><th scope=row>global-S%GTGGTGE</th><td>0.03407890</td><td>0.1010101</td></tr>\n",
       "\t<tr><th scope=row>global-S%VGDTE</th><td>0.03305817</td><td>0.1010101</td></tr>\n",
       "\t<tr><th scope=row>global-SDS%TGE</th><td>0.03598792</td><td>0.1010101</td></tr>\n",
       "\t<tr><th scope=row>global-SLDG%E</th><td>0.03690821</td><td>0.1010101</td></tr>\n",
       "\t<tr><th scope=row>global-%QGLNTE</th><td>0.01602676</td><td>0.1062626</td></tr>\n",
       "</tbody>\n",
       "</table>\n",
       "</li>\n",
       "\t<li><table class=\"dataframe\">\n",
       "<caption>A data.frame: 6 x 2</caption>\n",
       "<thead>\n",
       "\t<tr><th></th><th scope=col>Func1</th><th scope=col>padj</th></tr>\n",
       "\t<tr><th></th><th scope=col>&lt;dbl&gt;</th><th scope=col>&lt;dbl&gt;</th></tr>\n",
       "</thead>\n",
       "<tbody>\n",
       "\t<tr><th scope=row>global-R%RENTE</th><td>0.04123411</td><td>0.03815937</td></tr>\n",
       "\t<tr><th scope=row>global-S%GQGATNEK</th><td>0.05771271</td><td>0.03815937</td></tr>\n",
       "\t<tr><th scope=row>global-S%PNQP</th><td>0.04235086</td><td>0.03815937</td></tr>\n",
       "\t<tr><th scope=row>global-S%QMNTE</th><td>0.03945780</td><td>0.03815937</td></tr>\n",
       "\t<tr><th scope=row>global-SE%GGTE</th><td>0.04545655</td><td>0.03815937</td></tr>\n",
       "\t<tr><th scope=row>global-SLDG%E</th><td>0.04071423</td><td>0.03815937</td></tr>\n",
       "</tbody>\n",
       "</table>\n",
       "</li>\n",
       "\t<li><table class=\"dataframe\">\n",
       "<caption>A data.frame: 6 x 2</caption>\n",
       "<thead>\n",
       "\t<tr><th></th><th scope=col>Func1</th><th scope=col>padj</th></tr>\n",
       "\t<tr><th></th><th scope=col>&lt;dbl&gt;</th><th scope=col>&lt;dbl&gt;</th></tr>\n",
       "</thead>\n",
       "<tbody>\n",
       "\t<tr><th scope=row>global-S%RGDQP</th><td>0.05484115</td><td>0.06060606</td></tr>\n",
       "\t<tr><th scope=row>global-SDRG%QP</th><td>0.05252470</td><td>0.06060606</td></tr>\n",
       "\t<tr><th scope=row>global-R%GGTE</th><td>0.03321224</td><td>0.06186869</td></tr>\n",
       "\t<tr><th scope=row>global-SES%GTE</th><td>0.03097396</td><td>0.06186869</td></tr>\n",
       "\t<tr><th scope=row>global-SESG%TE</th><td>0.03054760</td><td>0.06186869</td></tr>\n",
       "\t<tr><th scope=row>global-SP%GGNT</th><td>0.04108362</td><td>0.06186869</td></tr>\n",
       "</tbody>\n",
       "</table>\n",
       "</li>\n",
       "\t<li><table class=\"dataframe\">\n",
       "<caption>A data.frame: 6 x 2</caption>\n",
       "<thead>\n",
       "\t<tr><th></th><th scope=col>Func1</th><th scope=col>padj</th></tr>\n",
       "\t<tr><th></th><th scope=col>&lt;dbl&gt;</th><th scope=col>&lt;dbl&gt;</th></tr>\n",
       "</thead>\n",
       "<tbody>\n",
       "\t<tr><th scope=row>global-S%ETE</th><td>0.03621061</td><td>0.04242424</td></tr>\n",
       "\t<tr><th scope=row>global-SE%RNTE</th><td>0.04052334</td><td>0.04242424</td></tr>\n",
       "\t<tr><th scope=row>global-SET%NTE</th><td>0.03376892</td><td>0.04242424</td></tr>\n",
       "\t<tr><th scope=row>global-SG%NEK</th><td>0.03691981</td><td>0.04242424</td></tr>\n",
       "\t<tr><th scope=row>global-SL%HE</th><td>0.03567232</td><td>0.04242424</td></tr>\n",
       "\t<tr><th scope=row>global-SLN%E</th><td>0.02929090</td><td>0.06060606</td></tr>\n",
       "</tbody>\n",
       "</table>\n",
       "</li>\n",
       "\t<li><table class=\"dataframe\">\n",
       "<caption>A data.frame: 6 x 2</caption>\n",
       "<thead>\n",
       "\t<tr><th></th><th scope=col>Func1</th><th scope=col>padj</th></tr>\n",
       "\t<tr><th></th><th scope=col>&lt;dbl&gt;</th><th scope=col>&lt;dbl&gt;</th></tr>\n",
       "</thead>\n",
       "<tbody>\n",
       "\t<tr><th scope=row>global-S%ADT</th><td>0.06577255</td><td>0.04040404</td></tr>\n",
       "\t<tr><th scope=row>global-%GE</th><td>0.04325491</td><td>0.04646465</td></tr>\n",
       "\t<tr><th scope=row>global-S%SSGANV</th><td>0.04110494</td><td>0.04646465</td></tr>\n",
       "\t<tr><th scope=row>global-SE%RNTE</th><td>0.04220136</td><td>0.04646465</td></tr>\n",
       "\t<tr><th scope=row>global-SP%SSGNT</th><td>0.04226329</td><td>0.04646465</td></tr>\n",
       "\t<tr><th scope=row>global-S%ANTGE</th><td>0.03381860</td><td>0.04991087</td></tr>\n",
       "</tbody>\n",
       "</table>\n",
       "</li>\n",
       "\t<li><table class=\"dataframe\">\n",
       "<caption>A data.frame: 6 x 2</caption>\n",
       "<thead>\n",
       "\t<tr><th></th><th scope=col>Func1</th><th scope=col>padj</th></tr>\n",
       "\t<tr><th></th><th scope=col>&lt;dbl&gt;</th><th scope=col>&lt;dbl&gt;</th></tr>\n",
       "</thead>\n",
       "<tbody>\n",
       "\t<tr><th scope=row>global-SI%MNTE</th><td>0.12451231</td><td>0.005050505</td></tr>\n",
       "\t<tr><th scope=row>global-SLG%AGNT</th><td>0.04352970</td><td>0.050505051</td></tr>\n",
       "\t<tr><th scope=row>global-SV%GDTE</th><td>0.04139745</td><td>0.050505051</td></tr>\n",
       "\t<tr><th scope=row>global-SYA%E</th><td>0.04809309</td><td>0.050505051</td></tr>\n",
       "\t<tr><th scope=row>global-S%GTGGTE</th><td>0.02806997</td><td>0.052188552</td></tr>\n",
       "\t<tr><th scope=row>global-S%GVE</th><td>0.02547200</td><td>0.052188552</td></tr>\n",
       "</tbody>\n",
       "</table>\n",
       "</li>\n",
       "\t<li><table class=\"dataframe\">\n",
       "<caption>A data.frame: 6 x 2</caption>\n",
       "<thead>\n",
       "\t<tr><th></th><th scope=col>Func1</th><th scope=col>padj</th></tr>\n",
       "\t<tr><th></th><th scope=col>&lt;dbl&gt;</th><th scope=col>&lt;dbl&gt;</th></tr>\n",
       "</thead>\n",
       "<tbody>\n",
       "\t<tr><th scope=row>global-SDRG%QP</th><td>0.09360922</td><td>0.03030303</td></tr>\n",
       "\t<tr><th scope=row>global-SPG%GNT</th><td>0.05429919</td><td>0.13131313</td></tr>\n",
       "\t<tr><th scope=row>global-S%QMNTE</th><td>0.04087314</td><td>0.13383838</td></tr>\n",
       "\t<tr><th scope=row>global-SF%YE</th><td>0.03625492</td><td>0.13383838</td></tr>\n",
       "\t<tr><th scope=row>global-SL%GANEK</th><td>0.03413608</td><td>0.13383838</td></tr>\n",
       "\t<tr><th scope=row>global-SLGG%GE</th><td>0.03009777</td><td>0.13383838</td></tr>\n",
       "</tbody>\n",
       "</table>\n",
       "</li>\n",
       "\t<li><table class=\"dataframe\">\n",
       "<caption>A data.frame: 6 x 2</caption>\n",
       "<thead>\n",
       "\t<tr><th></th><th scope=col>Func1</th><th scope=col>padj</th></tr>\n",
       "\t<tr><th></th><th scope=col>&lt;dbl&gt;</th><th scope=col>&lt;dbl&gt;</th></tr>\n",
       "</thead>\n",
       "<tbody>\n",
       "\t<tr><th scope=row>global-S%QGADTE</th><td>0.06544343</td><td>0.02020202</td></tr>\n",
       "\t<tr><th scope=row>global-GQG%NTE</th><td>0.04558237</td><td>0.02525253</td></tr>\n",
       "\t<tr><th scope=row>global-SDS%TGE</th><td>0.04151964</td><td>0.02525253</td></tr>\n",
       "\t<tr><th scope=row>global-SE%RNTE</th><td>0.04353123</td><td>0.02525253</td></tr>\n",
       "\t<tr><th scope=row>global-S%GASTDT</th><td>0.04113365</td><td>0.03282828</td></tr>\n",
       "\t<tr><th scope=row>global-S%GDEK</th><td>0.03915014</td><td>0.03282828</td></tr>\n",
       "</tbody>\n",
       "</table>\n",
       "</li>\n",
       "\t<li><table class=\"dataframe\">\n",
       "<caption>A data.frame: 6 x 2</caption>\n",
       "<thead>\n",
       "\t<tr><th></th><th scope=col>Func1</th><th scope=col>padj</th></tr>\n",
       "\t<tr><th></th><th scope=col>&lt;dbl&gt;</th><th scope=col>&lt;dbl&gt;</th></tr>\n",
       "</thead>\n",
       "<tbody>\n",
       "\t<tr><th scope=row>global-SDS%GANV</th><td>0.06906354</td><td>0.005050505</td></tr>\n",
       "\t<tr><th scope=row>global-SQ%TGYG</th><td>0.09857604</td><td>0.005050505</td></tr>\n",
       "\t<tr><th scope=row>global-SE%SGANV</th><td>0.06318525</td><td>0.010101010</td></tr>\n",
       "\t<tr><th scope=row>global-SP%GGNT</th><td>0.04842996</td><td>0.020202020</td></tr>\n",
       "\t<tr><th scope=row>global-SD%YSNQP</th><td>0.04348099</td><td>0.023088023</td></tr>\n",
       "\t<tr><th scope=row>global-SIQ%NTE</th><td>0.04366322</td><td>0.023088023</td></tr>\n",
       "</tbody>\n",
       "</table>\n",
       "</li>\n",
       "</ol>\n"
      ],
      "text/latex": [
       "\\begin{enumerate}\n",
       "\\item A data.frame: 6 x 2\n",
       "\\begin{tabular}{r|ll}\n",
       "  & Func1 & padj\\\\\n",
       "  & <dbl> & <dbl>\\\\\n",
       "\\hline\n",
       "\tglobal-S\\%GNEK & 0.06690115 & 0.07070707\\\\\n",
       "\tglobal-S\\%DSGANV & 0.04017443 & 0.13019080\\\\\n",
       "\tglobal-S\\%GGNT & 0.02649754 & 0.13019080\\\\\n",
       "\tglobal-S\\%GTGGTE & 0.02619123 & 0.13019080\\\\\n",
       "\tglobal-SESG\\%TE & 0.02764503 & 0.13019080\\\\\n",
       "\tglobal-SL\\%GGE & 0.02687032 & 0.13019080\\\\\n",
       "\\end{tabular}\n",
       "\n",
       "\\item A data.frame: 6 x 2\n",
       "\\begin{tabular}{r|ll}\n",
       "  & Func1 & padj\\\\\n",
       "  & <dbl> & <dbl>\\\\\n",
       "\\hline\n",
       "\tglobal-\\%GE & 0.03683816 & 0.0523416\\\\\n",
       "\tglobal-S\\%TRNTE & 0.03361493 & 0.0523416\\\\\n",
       "\tglobal-SD\\%SGANV & 0.03999073 & 0.0523416\\\\\n",
       "\tglobal-SDS\\%TGE & 0.04351158 & 0.0523416\\\\\n",
       "\tglobal-SE\\%RNTE & 0.04246656 & 0.0523416\\\\\n",
       "\tglobal-SESG\\%TE & 0.03397312 & 0.0523416\\\\\n",
       "\\end{tabular}\n",
       "\n",
       "\\item A data.frame: 6 x 2\n",
       "\\begin{tabular}{r|ll}\n",
       "  & Func1 & padj\\\\\n",
       "  & <dbl> & <dbl>\\\\\n",
       "\\hline\n",
       "\tglobal-R\\%RENTE & 0.05419083 & 0.01767677\\\\\n",
       "\tglobal-S\\%GGNYG & 0.05706152 & 0.01767677\\\\\n",
       "\tglobal-S\\%GNEK & 0.07757337 & 0.01767677\\\\\n",
       "\tglobal-SLN\\%E & 0.06197953 & 0.01767677\\\\\n",
       "\tglobal-SD\\%SGANV & 0.05246646 & 0.01851852\\\\\n",
       "\tglobal-SP\\%GGNT & 0.05160852 & 0.01851852\\\\\n",
       "\\end{tabular}\n",
       "\n",
       "\\item A data.frame: 6 x 2\n",
       "\\begin{tabular}{r|ll}\n",
       "  & Func1 & padj\\\\\n",
       "  & <dbl> & <dbl>\\\\\n",
       "\\hline\n",
       "\tglobal-SI\\%MNTE & 0.12251908 & 0.005050505\\\\\n",
       "\tglobal-\\%GE & 0.02875205 & 0.059595960\\\\\n",
       "\tglobal-S\\%PNQP & 0.03011288 & 0.059595960\\\\\n",
       "\tglobal-S\\%QMNTE & 0.03025865 & 0.059595960\\\\\n",
       "\tglobal-SDS\\%TGE & 0.03422945 & 0.059595960\\\\\n",
       "\tglobal-SE\\%RNTE & 0.03281404 & 0.059595960\\\\\n",
       "\\end{tabular}\n",
       "\n",
       "\\item A data.frame: 6 x 2\n",
       "\\begin{tabular}{r|ll}\n",
       "  & Func1 & padj\\\\\n",
       "  & <dbl> & <dbl>\\\\\n",
       "\\hline\n",
       "\tglobal-SD\\%SGANV & 0.07206902 & 0.02020202\\\\\n",
       "\tglobal-SDS\\%TGE & 0.06379738 & 0.02020202\\\\\n",
       "\tglobal-S\\%GNEK & 0.04925325 & 0.02525253\\\\\n",
       "\tglobal-SEG\\%TE & 0.04997477 & 0.02525253\\\\\n",
       "\tglobal-S\\%GQGATNEK & 0.04160768 & 0.04713805\\\\\n",
       "\tglobal-SP\\%GGNT & 0.04093965 & 0.04713805\\\\\n",
       "\\end{tabular}\n",
       "\n",
       "\\item A data.frame: 6 x 2\n",
       "\\begin{tabular}{r|ll}\n",
       "  & Func1 & padj\\\\\n",
       "  & <dbl> & <dbl>\\\\\n",
       "\\hline\n",
       "\tglobal-SF\\%VNTE & 0.06076455 & 0.01010101\\\\\n",
       "\tglobal-SY\\%RE & 0.06570144 & 0.01010101\\\\\n",
       "\tglobal-SS\\%RE & 0.05407706 & 0.01346801\\\\\n",
       "\tglobal-S\\%LSSGNT & 0.05260037 & 0.02272727\\\\\n",
       "\tglobal-SET\\%NTE & 0.04912122 & 0.02828283\\\\\n",
       "\tglobal-\\%GE & 0.03023853 & 0.04817405\\\\\n",
       "\\end{tabular}\n",
       "\n",
       "\\item A data.frame: 6 x 2\n",
       "\\begin{tabular}{r|ll}\n",
       "  & Func1 & padj\\\\\n",
       "  & <dbl> & <dbl>\\\\\n",
       "\\hline\n",
       "\tglobal-S\\%GNEK & 0.09810616 & 0.01010101\\\\\n",
       "\tglobal-SG\\%NEK & 0.07140505 & 0.01010101\\\\\n",
       "\tglobal-SL\\%HE & 0.02728847 & 0.12121212\\\\\n",
       "\tglobal-S\\%SGGNQP & 0.02125589 & 0.14784206\\\\\n",
       "\tglobal-S\\%TRNTE & 0.02131025 & 0.14784206\\\\\n",
       "\tglobal-S\\%TSGE & 0.02084576 & 0.14784206\\\\\n",
       "\\end{tabular}\n",
       "\n",
       "\\item A data.frame: 6 x 2\n",
       "\\begin{tabular}{r|ll}\n",
       "  & Func1 & padj\\\\\n",
       "  & <dbl> & <dbl>\\\\\n",
       "\\hline\n",
       "\tglobal-SQR\\%TE & 0.05541789 & 0.03030303\\\\\n",
       "\tglobal-SYA\\%E & 0.05384682 & 0.03030303\\\\\n",
       "\tglobal-\\%GE & 0.01486072 & 0.08847092\\\\\n",
       "\tglobal-\\%GQGGQP & 0.03307569 & 0.08847092\\\\\n",
       "\tglobal-\\%GSE & 0.01553272 & 0.08847092\\\\\n",
       "\tglobal-RQG\\%QP & 0.02446986 & 0.08847092\\\\\n",
       "\\end{tabular}\n",
       "\n",
       "\\item A data.frame: 6 x 2\n",
       "\\begin{tabular}{r|ll}\n",
       "  & Func1 & padj\\\\\n",
       "  & <dbl> & <dbl>\\\\\n",
       "\\hline\n",
       "\tglobal-S\\%GNEK & 0.10916795 & 0.005050505\\\\\n",
       "\tglobal-SF\\%VNTE & 0.04862764 & 0.025252525\\\\\n",
       "\tglobal-S\\%RGTGNT & 0.03199663 & 0.055555556\\\\\n",
       "\tglobal-SIQ\\%NTE & 0.03213709 & 0.055555556\\\\\n",
       "\tglobal-SLGQ\\%NEK & 0.03023894 & 0.056565657\\\\\n",
       "\tglobal-R\\%TGGTE & 0.01606141 & 0.082402977\\\\\n",
       "\\end{tabular}\n",
       "\n",
       "\\item A data.frame: 6 x 2\n",
       "\\begin{tabular}{r|ll}\n",
       "  & Func1 & padj\\\\\n",
       "  & <dbl> & <dbl>\\\\\n",
       "\\hline\n",
       "\tglobal-SDR\\%DQP & 0.05686439 & 0.05050505\\\\\n",
       "\tglobal-\\%DRGDQP & 0.04962847 & 0.06060606\\\\\n",
       "\tglobal-A\\%NTE & 0.03238841 & 0.06666667\\\\\n",
       "\tglobal-S\\%SSGANV & 0.03386021 & 0.06666667\\\\\n",
       "\tglobal-SDRG\\%QP & 0.03626972 & 0.06666667\\\\\n",
       "\tglobal-SDS\\%TGE & 0.03609995 & 0.06666667\\\\\n",
       "\\end{tabular}\n",
       "\n",
       "\\item A data.frame: 6 x 2\n",
       "\\begin{tabular}{r|ll}\n",
       "  & Func1 & padj\\\\\n",
       "  & <dbl> & <dbl>\\\\\n",
       "\\hline\n",
       "\tglobal-SI\\%MNTE & 0.07984949 & 0.005050505\\\\\n",
       "\tglobal-\\%GE & 0.03764370 & 0.038383838\\\\\n",
       "\tglobal-R\\%RENTE & 0.04213668 & 0.038383838\\\\\n",
       "\tglobal-S\\%ARE & 0.03973857 & 0.038383838\\\\\n",
       "\tglobal-S\\%PNQP & 0.04090155 & 0.038383838\\\\\n",
       "\tglobal-S\\%RGDQP & 0.04760955 & 0.038383838\\\\\n",
       "\\end{tabular}\n",
       "\n",
       "\\item A data.frame: 6 x 2\n",
       "\\begin{tabular}{r|ll}\n",
       "  & Func1 & padj\\\\\n",
       "  & <dbl> & <dbl>\\\\\n",
       "\\hline\n",
       "\tglobal-S\\%GQGATNEK & 0.04542564 & 0.1010101\\\\\n",
       "\tglobal-S\\%GTGGTGE & 0.03407890 & 0.1010101\\\\\n",
       "\tglobal-S\\%VGDTE & 0.03305817 & 0.1010101\\\\\n",
       "\tglobal-SDS\\%TGE & 0.03598792 & 0.1010101\\\\\n",
       "\tglobal-SLDG\\%E & 0.03690821 & 0.1010101\\\\\n",
       "\tglobal-\\%QGLNTE & 0.01602676 & 0.1062626\\\\\n",
       "\\end{tabular}\n",
       "\n",
       "\\item A data.frame: 6 x 2\n",
       "\\begin{tabular}{r|ll}\n",
       "  & Func1 & padj\\\\\n",
       "  & <dbl> & <dbl>\\\\\n",
       "\\hline\n",
       "\tglobal-R\\%RENTE & 0.04123411 & 0.03815937\\\\\n",
       "\tglobal-S\\%GQGATNEK & 0.05771271 & 0.03815937\\\\\n",
       "\tglobal-S\\%PNQP & 0.04235086 & 0.03815937\\\\\n",
       "\tglobal-S\\%QMNTE & 0.03945780 & 0.03815937\\\\\n",
       "\tglobal-SE\\%GGTE & 0.04545655 & 0.03815937\\\\\n",
       "\tglobal-SLDG\\%E & 0.04071423 & 0.03815937\\\\\n",
       "\\end{tabular}\n",
       "\n",
       "\\item A data.frame: 6 x 2\n",
       "\\begin{tabular}{r|ll}\n",
       "  & Func1 & padj\\\\\n",
       "  & <dbl> & <dbl>\\\\\n",
       "\\hline\n",
       "\tglobal-S\\%RGDQP & 0.05484115 & 0.06060606\\\\\n",
       "\tglobal-SDRG\\%QP & 0.05252470 & 0.06060606\\\\\n",
       "\tglobal-R\\%GGTE & 0.03321224 & 0.06186869\\\\\n",
       "\tglobal-SES\\%GTE & 0.03097396 & 0.06186869\\\\\n",
       "\tglobal-SESG\\%TE & 0.03054760 & 0.06186869\\\\\n",
       "\tglobal-SP\\%GGNT & 0.04108362 & 0.06186869\\\\\n",
       "\\end{tabular}\n",
       "\n",
       "\\item A data.frame: 6 x 2\n",
       "\\begin{tabular}{r|ll}\n",
       "  & Func1 & padj\\\\\n",
       "  & <dbl> & <dbl>\\\\\n",
       "\\hline\n",
       "\tglobal-S\\%ETE & 0.03621061 & 0.04242424\\\\\n",
       "\tglobal-SE\\%RNTE & 0.04052334 & 0.04242424\\\\\n",
       "\tglobal-SET\\%NTE & 0.03376892 & 0.04242424\\\\\n",
       "\tglobal-SG\\%NEK & 0.03691981 & 0.04242424\\\\\n",
       "\tglobal-SL\\%HE & 0.03567232 & 0.04242424\\\\\n",
       "\tglobal-SLN\\%E & 0.02929090 & 0.06060606\\\\\n",
       "\\end{tabular}\n",
       "\n",
       "\\item A data.frame: 6 x 2\n",
       "\\begin{tabular}{r|ll}\n",
       "  & Func1 & padj\\\\\n",
       "  & <dbl> & <dbl>\\\\\n",
       "\\hline\n",
       "\tglobal-S\\%ADT & 0.06577255 & 0.04040404\\\\\n",
       "\tglobal-\\%GE & 0.04325491 & 0.04646465\\\\\n",
       "\tglobal-S\\%SSGANV & 0.04110494 & 0.04646465\\\\\n",
       "\tglobal-SE\\%RNTE & 0.04220136 & 0.04646465\\\\\n",
       "\tglobal-SP\\%SSGNT & 0.04226329 & 0.04646465\\\\\n",
       "\tglobal-S\\%ANTGE & 0.03381860 & 0.04991087\\\\\n",
       "\\end{tabular}\n",
       "\n",
       "\\item A data.frame: 6 x 2\n",
       "\\begin{tabular}{r|ll}\n",
       "  & Func1 & padj\\\\\n",
       "  & <dbl> & <dbl>\\\\\n",
       "\\hline\n",
       "\tglobal-SI\\%MNTE & 0.12451231 & 0.005050505\\\\\n",
       "\tglobal-SLG\\%AGNT & 0.04352970 & 0.050505051\\\\\n",
       "\tglobal-SV\\%GDTE & 0.04139745 & 0.050505051\\\\\n",
       "\tglobal-SYA\\%E & 0.04809309 & 0.050505051\\\\\n",
       "\tglobal-S\\%GTGGTE & 0.02806997 & 0.052188552\\\\\n",
       "\tglobal-S\\%GVE & 0.02547200 & 0.052188552\\\\\n",
       "\\end{tabular}\n",
       "\n",
       "\\item A data.frame: 6 x 2\n",
       "\\begin{tabular}{r|ll}\n",
       "  & Func1 & padj\\\\\n",
       "  & <dbl> & <dbl>\\\\\n",
       "\\hline\n",
       "\tglobal-SDRG\\%QP & 0.09360922 & 0.03030303\\\\\n",
       "\tglobal-SPG\\%GNT & 0.05429919 & 0.13131313\\\\\n",
       "\tglobal-S\\%QMNTE & 0.04087314 & 0.13383838\\\\\n",
       "\tglobal-SF\\%YE & 0.03625492 & 0.13383838\\\\\n",
       "\tglobal-SL\\%GANEK & 0.03413608 & 0.13383838\\\\\n",
       "\tglobal-SLGG\\%GE & 0.03009777 & 0.13383838\\\\\n",
       "\\end{tabular}\n",
       "\n",
       "\\item A data.frame: 6 x 2\n",
       "\\begin{tabular}{r|ll}\n",
       "  & Func1 & padj\\\\\n",
       "  & <dbl> & <dbl>\\\\\n",
       "\\hline\n",
       "\tglobal-S\\%QGADTE & 0.06544343 & 0.02020202\\\\\n",
       "\tglobal-GQG\\%NTE & 0.04558237 & 0.02525253\\\\\n",
       "\tglobal-SDS\\%TGE & 0.04151964 & 0.02525253\\\\\n",
       "\tglobal-SE\\%RNTE & 0.04353123 & 0.02525253\\\\\n",
       "\tglobal-S\\%GASTDT & 0.04113365 & 0.03282828\\\\\n",
       "\tglobal-S\\%GDEK & 0.03915014 & 0.03282828\\\\\n",
       "\\end{tabular}\n",
       "\n",
       "\\item A data.frame: 6 x 2\n",
       "\\begin{tabular}{r|ll}\n",
       "  & Func1 & padj\\\\\n",
       "  & <dbl> & <dbl>\\\\\n",
       "\\hline\n",
       "\tglobal-SDS\\%GANV & 0.06906354 & 0.005050505\\\\\n",
       "\tglobal-SQ\\%TGYG & 0.09857604 & 0.005050505\\\\\n",
       "\tglobal-SE\\%SGANV & 0.06318525 & 0.010101010\\\\\n",
       "\tglobal-SP\\%GGNT & 0.04842996 & 0.020202020\\\\\n",
       "\tglobal-SD\\%YSNQP & 0.04348099 & 0.023088023\\\\\n",
       "\tglobal-SIQ\\%NTE & 0.04366322 & 0.023088023\\\\\n",
       "\\end{tabular}\n",
       "\n",
       "\\end{enumerate}\n"
      ],
      "text/markdown": [
       "1. \n",
       "A data.frame: 6 x 2\n",
       "\n",
       "| <!--/--> | Func1 &lt;dbl&gt; | padj &lt;dbl&gt; |\n",
       "|---|---|---|\n",
       "| global-S%GNEK | 0.06690115 | 0.07070707 |\n",
       "| global-S%DSGANV | 0.04017443 | 0.13019080 |\n",
       "| global-S%GGNT | 0.02649754 | 0.13019080 |\n",
       "| global-S%GTGGTE | 0.02619123 | 0.13019080 |\n",
       "| global-SESG%TE | 0.02764503 | 0.13019080 |\n",
       "| global-SL%GGE | 0.02687032 | 0.13019080 |\n",
       "\n",
       "\n",
       "2. \n",
       "A data.frame: 6 x 2\n",
       "\n",
       "| <!--/--> | Func1 &lt;dbl&gt; | padj &lt;dbl&gt; |\n",
       "|---|---|---|\n",
       "| global-%GE | 0.03683816 | 0.0523416 |\n",
       "| global-S%TRNTE | 0.03361493 | 0.0523416 |\n",
       "| global-SD%SGANV | 0.03999073 | 0.0523416 |\n",
       "| global-SDS%TGE | 0.04351158 | 0.0523416 |\n",
       "| global-SE%RNTE | 0.04246656 | 0.0523416 |\n",
       "| global-SESG%TE | 0.03397312 | 0.0523416 |\n",
       "\n",
       "\n",
       "3. \n",
       "A data.frame: 6 x 2\n",
       "\n",
       "| <!--/--> | Func1 &lt;dbl&gt; | padj &lt;dbl&gt; |\n",
       "|---|---|---|\n",
       "| global-R%RENTE | 0.05419083 | 0.01767677 |\n",
       "| global-S%GGNYG | 0.05706152 | 0.01767677 |\n",
       "| global-S%GNEK | 0.07757337 | 0.01767677 |\n",
       "| global-SLN%E | 0.06197953 | 0.01767677 |\n",
       "| global-SD%SGANV | 0.05246646 | 0.01851852 |\n",
       "| global-SP%GGNT | 0.05160852 | 0.01851852 |\n",
       "\n",
       "\n",
       "4. \n",
       "A data.frame: 6 x 2\n",
       "\n",
       "| <!--/--> | Func1 &lt;dbl&gt; | padj &lt;dbl&gt; |\n",
       "|---|---|---|\n",
       "| global-SI%MNTE | 0.12251908 | 0.005050505 |\n",
       "| global-%GE | 0.02875205 | 0.059595960 |\n",
       "| global-S%PNQP | 0.03011288 | 0.059595960 |\n",
       "| global-S%QMNTE | 0.03025865 | 0.059595960 |\n",
       "| global-SDS%TGE | 0.03422945 | 0.059595960 |\n",
       "| global-SE%RNTE | 0.03281404 | 0.059595960 |\n",
       "\n",
       "\n",
       "5. \n",
       "A data.frame: 6 x 2\n",
       "\n",
       "| <!--/--> | Func1 &lt;dbl&gt; | padj &lt;dbl&gt; |\n",
       "|---|---|---|\n",
       "| global-SD%SGANV | 0.07206902 | 0.02020202 |\n",
       "| global-SDS%TGE | 0.06379738 | 0.02020202 |\n",
       "| global-S%GNEK | 0.04925325 | 0.02525253 |\n",
       "| global-SEG%TE | 0.04997477 | 0.02525253 |\n",
       "| global-S%GQGATNEK | 0.04160768 | 0.04713805 |\n",
       "| global-SP%GGNT | 0.04093965 | 0.04713805 |\n",
       "\n",
       "\n",
       "6. \n",
       "A data.frame: 6 x 2\n",
       "\n",
       "| <!--/--> | Func1 &lt;dbl&gt; | padj &lt;dbl&gt; |\n",
       "|---|---|---|\n",
       "| global-SF%VNTE | 0.06076455 | 0.01010101 |\n",
       "| global-SY%RE | 0.06570144 | 0.01010101 |\n",
       "| global-SS%RE | 0.05407706 | 0.01346801 |\n",
       "| global-S%LSSGNT | 0.05260037 | 0.02272727 |\n",
       "| global-SET%NTE | 0.04912122 | 0.02828283 |\n",
       "| global-%GE | 0.03023853 | 0.04817405 |\n",
       "\n",
       "\n",
       "7. \n",
       "A data.frame: 6 x 2\n",
       "\n",
       "| <!--/--> | Func1 &lt;dbl&gt; | padj &lt;dbl&gt; |\n",
       "|---|---|---|\n",
       "| global-S%GNEK | 0.09810616 | 0.01010101 |\n",
       "| global-SG%NEK | 0.07140505 | 0.01010101 |\n",
       "| global-SL%HE | 0.02728847 | 0.12121212 |\n",
       "| global-S%SGGNQP | 0.02125589 | 0.14784206 |\n",
       "| global-S%TRNTE | 0.02131025 | 0.14784206 |\n",
       "| global-S%TSGE | 0.02084576 | 0.14784206 |\n",
       "\n",
       "\n",
       "8. \n",
       "A data.frame: 6 x 2\n",
       "\n",
       "| <!--/--> | Func1 &lt;dbl&gt; | padj &lt;dbl&gt; |\n",
       "|---|---|---|\n",
       "| global-SQR%TE | 0.05541789 | 0.03030303 |\n",
       "| global-SYA%E | 0.05384682 | 0.03030303 |\n",
       "| global-%GE | 0.01486072 | 0.08847092 |\n",
       "| global-%GQGGQP | 0.03307569 | 0.08847092 |\n",
       "| global-%GSE | 0.01553272 | 0.08847092 |\n",
       "| global-RQG%QP | 0.02446986 | 0.08847092 |\n",
       "\n",
       "\n",
       "9. \n",
       "A data.frame: 6 x 2\n",
       "\n",
       "| <!--/--> | Func1 &lt;dbl&gt; | padj &lt;dbl&gt; |\n",
       "|---|---|---|\n",
       "| global-S%GNEK | 0.10916795 | 0.005050505 |\n",
       "| global-SF%VNTE | 0.04862764 | 0.025252525 |\n",
       "| global-S%RGTGNT | 0.03199663 | 0.055555556 |\n",
       "| global-SIQ%NTE | 0.03213709 | 0.055555556 |\n",
       "| global-SLGQ%NEK | 0.03023894 | 0.056565657 |\n",
       "| global-R%TGGTE | 0.01606141 | 0.082402977 |\n",
       "\n",
       "\n",
       "10. \n",
       "A data.frame: 6 x 2\n",
       "\n",
       "| <!--/--> | Func1 &lt;dbl&gt; | padj &lt;dbl&gt; |\n",
       "|---|---|---|\n",
       "| global-SDR%DQP | 0.05686439 | 0.05050505 |\n",
       "| global-%DRGDQP | 0.04962847 | 0.06060606 |\n",
       "| global-A%NTE | 0.03238841 | 0.06666667 |\n",
       "| global-S%SSGANV | 0.03386021 | 0.06666667 |\n",
       "| global-SDRG%QP | 0.03626972 | 0.06666667 |\n",
       "| global-SDS%TGE | 0.03609995 | 0.06666667 |\n",
       "\n",
       "\n",
       "11. \n",
       "A data.frame: 6 x 2\n",
       "\n",
       "| <!--/--> | Func1 &lt;dbl&gt; | padj &lt;dbl&gt; |\n",
       "|---|---|---|\n",
       "| global-SI%MNTE | 0.07984949 | 0.005050505 |\n",
       "| global-%GE | 0.03764370 | 0.038383838 |\n",
       "| global-R%RENTE | 0.04213668 | 0.038383838 |\n",
       "| global-S%ARE | 0.03973857 | 0.038383838 |\n",
       "| global-S%PNQP | 0.04090155 | 0.038383838 |\n",
       "| global-S%RGDQP | 0.04760955 | 0.038383838 |\n",
       "\n",
       "\n",
       "12. \n",
       "A data.frame: 6 x 2\n",
       "\n",
       "| <!--/--> | Func1 &lt;dbl&gt; | padj &lt;dbl&gt; |\n",
       "|---|---|---|\n",
       "| global-S%GQGATNEK | 0.04542564 | 0.1010101 |\n",
       "| global-S%GTGGTGE | 0.03407890 | 0.1010101 |\n",
       "| global-S%VGDTE | 0.03305817 | 0.1010101 |\n",
       "| global-SDS%TGE | 0.03598792 | 0.1010101 |\n",
       "| global-SLDG%E | 0.03690821 | 0.1010101 |\n",
       "| global-%QGLNTE | 0.01602676 | 0.1062626 |\n",
       "\n",
       "\n",
       "13. \n",
       "A data.frame: 6 x 2\n",
       "\n",
       "| <!--/--> | Func1 &lt;dbl&gt; | padj &lt;dbl&gt; |\n",
       "|---|---|---|\n",
       "| global-R%RENTE | 0.04123411 | 0.03815937 |\n",
       "| global-S%GQGATNEK | 0.05771271 | 0.03815937 |\n",
       "| global-S%PNQP | 0.04235086 | 0.03815937 |\n",
       "| global-S%QMNTE | 0.03945780 | 0.03815937 |\n",
       "| global-SE%GGTE | 0.04545655 | 0.03815937 |\n",
       "| global-SLDG%E | 0.04071423 | 0.03815937 |\n",
       "\n",
       "\n",
       "14. \n",
       "A data.frame: 6 x 2\n",
       "\n",
       "| <!--/--> | Func1 &lt;dbl&gt; | padj &lt;dbl&gt; |\n",
       "|---|---|---|\n",
       "| global-S%RGDQP | 0.05484115 | 0.06060606 |\n",
       "| global-SDRG%QP | 0.05252470 | 0.06060606 |\n",
       "| global-R%GGTE | 0.03321224 | 0.06186869 |\n",
       "| global-SES%GTE | 0.03097396 | 0.06186869 |\n",
       "| global-SESG%TE | 0.03054760 | 0.06186869 |\n",
       "| global-SP%GGNT | 0.04108362 | 0.06186869 |\n",
       "\n",
       "\n",
       "15. \n",
       "A data.frame: 6 x 2\n",
       "\n",
       "| <!--/--> | Func1 &lt;dbl&gt; | padj &lt;dbl&gt; |\n",
       "|---|---|---|\n",
       "| global-S%ETE | 0.03621061 | 0.04242424 |\n",
       "| global-SE%RNTE | 0.04052334 | 0.04242424 |\n",
       "| global-SET%NTE | 0.03376892 | 0.04242424 |\n",
       "| global-SG%NEK | 0.03691981 | 0.04242424 |\n",
       "| global-SL%HE | 0.03567232 | 0.04242424 |\n",
       "| global-SLN%E | 0.02929090 | 0.06060606 |\n",
       "\n",
       "\n",
       "16. \n",
       "A data.frame: 6 x 2\n",
       "\n",
       "| <!--/--> | Func1 &lt;dbl&gt; | padj &lt;dbl&gt; |\n",
       "|---|---|---|\n",
       "| global-S%ADT | 0.06577255 | 0.04040404 |\n",
       "| global-%GE | 0.04325491 | 0.04646465 |\n",
       "| global-S%SSGANV | 0.04110494 | 0.04646465 |\n",
       "| global-SE%RNTE | 0.04220136 | 0.04646465 |\n",
       "| global-SP%SSGNT | 0.04226329 | 0.04646465 |\n",
       "| global-S%ANTGE | 0.03381860 | 0.04991087 |\n",
       "\n",
       "\n",
       "17. \n",
       "A data.frame: 6 x 2\n",
       "\n",
       "| <!--/--> | Func1 &lt;dbl&gt; | padj &lt;dbl&gt; |\n",
       "|---|---|---|\n",
       "| global-SI%MNTE | 0.12451231 | 0.005050505 |\n",
       "| global-SLG%AGNT | 0.04352970 | 0.050505051 |\n",
       "| global-SV%GDTE | 0.04139745 | 0.050505051 |\n",
       "| global-SYA%E | 0.04809309 | 0.050505051 |\n",
       "| global-S%GTGGTE | 0.02806997 | 0.052188552 |\n",
       "| global-S%GVE | 0.02547200 | 0.052188552 |\n",
       "\n",
       "\n",
       "18. \n",
       "A data.frame: 6 x 2\n",
       "\n",
       "| <!--/--> | Func1 &lt;dbl&gt; | padj &lt;dbl&gt; |\n",
       "|---|---|---|\n",
       "| global-SDRG%QP | 0.09360922 | 0.03030303 |\n",
       "| global-SPG%GNT | 0.05429919 | 0.13131313 |\n",
       "| global-S%QMNTE | 0.04087314 | 0.13383838 |\n",
       "| global-SF%YE | 0.03625492 | 0.13383838 |\n",
       "| global-SL%GANEK | 0.03413608 | 0.13383838 |\n",
       "| global-SLGG%GE | 0.03009777 | 0.13383838 |\n",
       "\n",
       "\n",
       "19. \n",
       "A data.frame: 6 x 2\n",
       "\n",
       "| <!--/--> | Func1 &lt;dbl&gt; | padj &lt;dbl&gt; |\n",
       "|---|---|---|\n",
       "| global-S%QGADTE | 0.06544343 | 0.02020202 |\n",
       "| global-GQG%NTE | 0.04558237 | 0.02525253 |\n",
       "| global-SDS%TGE | 0.04151964 | 0.02525253 |\n",
       "| global-SE%RNTE | 0.04353123 | 0.02525253 |\n",
       "| global-S%GASTDT | 0.04113365 | 0.03282828 |\n",
       "| global-S%GDEK | 0.03915014 | 0.03282828 |\n",
       "\n",
       "\n",
       "20. \n",
       "A data.frame: 6 x 2\n",
       "\n",
       "| <!--/--> | Func1 &lt;dbl&gt; | padj &lt;dbl&gt; |\n",
       "|---|---|---|\n",
       "| global-SDS%GANV | 0.06906354 | 0.005050505 |\n",
       "| global-SQ%TGYG | 0.09857604 | 0.005050505 |\n",
       "| global-SE%SGANV | 0.06318525 | 0.010101010 |\n",
       "| global-SP%GGNT | 0.04842996 | 0.020202020 |\n",
       "| global-SD%YSNQP | 0.04348099 | 0.023088023 |\n",
       "| global-SIQ%NTE | 0.04366322 | 0.023088023 |\n",
       "\n",
       "\n",
       "\n",
       "\n"
      ],
      "text/plain": [
       "[[1]]\n",
       "                     Func1       padj\n",
       "global-S%GNEK   0.06690115 0.07070707\n",
       "global-S%DSGANV 0.04017443 0.13019080\n",
       "global-S%GGNT   0.02649754 0.13019080\n",
       "global-S%GTGGTE 0.02619123 0.13019080\n",
       "global-SESG%TE  0.02764503 0.13019080\n",
       "global-SL%GGE   0.02687032 0.13019080\n",
       "\n",
       "[[2]]\n",
       "                     Func1      padj\n",
       "global-%GE      0.03683816 0.0523416\n",
       "global-S%TRNTE  0.03361493 0.0523416\n",
       "global-SD%SGANV 0.03999073 0.0523416\n",
       "global-SDS%TGE  0.04351158 0.0523416\n",
       "global-SE%RNTE  0.04246656 0.0523416\n",
       "global-SESG%TE  0.03397312 0.0523416\n",
       "\n",
       "[[3]]\n",
       "                     Func1       padj\n",
       "global-R%RENTE  0.05419083 0.01767677\n",
       "global-S%GGNYG  0.05706152 0.01767677\n",
       "global-S%GNEK   0.07757337 0.01767677\n",
       "global-SLN%E    0.06197953 0.01767677\n",
       "global-SD%SGANV 0.05246646 0.01851852\n",
       "global-SP%GGNT  0.05160852 0.01851852\n",
       "\n",
       "[[4]]\n",
       "                    Func1        padj\n",
       "global-SI%MNTE 0.12251908 0.005050505\n",
       "global-%GE     0.02875205 0.059595960\n",
       "global-S%PNQP  0.03011288 0.059595960\n",
       "global-S%QMNTE 0.03025865 0.059595960\n",
       "global-SDS%TGE 0.03422945 0.059595960\n",
       "global-SE%RNTE 0.03281404 0.059595960\n",
       "\n",
       "[[5]]\n",
       "                       Func1       padj\n",
       "global-SD%SGANV   0.07206902 0.02020202\n",
       "global-SDS%TGE    0.06379738 0.02020202\n",
       "global-S%GNEK     0.04925325 0.02525253\n",
       "global-SEG%TE     0.04997477 0.02525253\n",
       "global-S%GQGATNEK 0.04160768 0.04713805\n",
       "global-SP%GGNT    0.04093965 0.04713805\n",
       "\n",
       "[[6]]\n",
       "                     Func1       padj\n",
       "global-SF%VNTE  0.06076455 0.01010101\n",
       "global-SY%RE    0.06570144 0.01010101\n",
       "global-SS%RE    0.05407706 0.01346801\n",
       "global-S%LSSGNT 0.05260037 0.02272727\n",
       "global-SET%NTE  0.04912122 0.02828283\n",
       "global-%GE      0.03023853 0.04817405\n",
       "\n",
       "[[7]]\n",
       "                     Func1       padj\n",
       "global-S%GNEK   0.09810616 0.01010101\n",
       "global-SG%NEK   0.07140505 0.01010101\n",
       "global-SL%HE    0.02728847 0.12121212\n",
       "global-S%SGGNQP 0.02125589 0.14784206\n",
       "global-S%TRNTE  0.02131025 0.14784206\n",
       "global-S%TSGE   0.02084576 0.14784206\n",
       "\n",
       "[[8]]\n",
       "                    Func1       padj\n",
       "global-SQR%TE  0.05541789 0.03030303\n",
       "global-SYA%E   0.05384682 0.03030303\n",
       "global-%GE     0.01486072 0.08847092\n",
       "global-%GQGGQP 0.03307569 0.08847092\n",
       "global-%GSE    0.01553272 0.08847092\n",
       "global-RQG%QP  0.02446986 0.08847092\n",
       "\n",
       "[[9]]\n",
       "                     Func1        padj\n",
       "global-S%GNEK   0.10916795 0.005050505\n",
       "global-SF%VNTE  0.04862764 0.025252525\n",
       "global-S%RGTGNT 0.03199663 0.055555556\n",
       "global-SIQ%NTE  0.03213709 0.055555556\n",
       "global-SLGQ%NEK 0.03023894 0.056565657\n",
       "global-R%TGGTE  0.01606141 0.082402977\n",
       "\n",
       "[[10]]\n",
       "                     Func1       padj\n",
       "global-SDR%DQP  0.05686439 0.05050505\n",
       "global-%DRGDQP  0.04962847 0.06060606\n",
       "global-A%NTE    0.03238841 0.06666667\n",
       "global-S%SSGANV 0.03386021 0.06666667\n",
       "global-SDRG%QP  0.03626972 0.06666667\n",
       "global-SDS%TGE  0.03609995 0.06666667\n",
       "\n",
       "[[11]]\n",
       "                    Func1        padj\n",
       "global-SI%MNTE 0.07984949 0.005050505\n",
       "global-%GE     0.03764370 0.038383838\n",
       "global-R%RENTE 0.04213668 0.038383838\n",
       "global-S%ARE   0.03973857 0.038383838\n",
       "global-S%PNQP  0.04090155 0.038383838\n",
       "global-S%RGDQP 0.04760955 0.038383838\n",
       "\n",
       "[[12]]\n",
       "                       Func1      padj\n",
       "global-S%GQGATNEK 0.04542564 0.1010101\n",
       "global-S%GTGGTGE  0.03407890 0.1010101\n",
       "global-S%VGDTE    0.03305817 0.1010101\n",
       "global-SDS%TGE    0.03598792 0.1010101\n",
       "global-SLDG%E     0.03690821 0.1010101\n",
       "global-%QGLNTE    0.01602676 0.1062626\n",
       "\n",
       "[[13]]\n",
       "                       Func1       padj\n",
       "global-R%RENTE    0.04123411 0.03815937\n",
       "global-S%GQGATNEK 0.05771271 0.03815937\n",
       "global-S%PNQP     0.04235086 0.03815937\n",
       "global-S%QMNTE    0.03945780 0.03815937\n",
       "global-SE%GGTE    0.04545655 0.03815937\n",
       "global-SLDG%E     0.04071423 0.03815937\n",
       "\n",
       "[[14]]\n",
       "                    Func1       padj\n",
       "global-S%RGDQP 0.05484115 0.06060606\n",
       "global-SDRG%QP 0.05252470 0.06060606\n",
       "global-R%GGTE  0.03321224 0.06186869\n",
       "global-SES%GTE 0.03097396 0.06186869\n",
       "global-SESG%TE 0.03054760 0.06186869\n",
       "global-SP%GGNT 0.04108362 0.06186869\n",
       "\n",
       "[[15]]\n",
       "                    Func1       padj\n",
       "global-S%ETE   0.03621061 0.04242424\n",
       "global-SE%RNTE 0.04052334 0.04242424\n",
       "global-SET%NTE 0.03376892 0.04242424\n",
       "global-SG%NEK  0.03691981 0.04242424\n",
       "global-SL%HE   0.03567232 0.04242424\n",
       "global-SLN%E   0.02929090 0.06060606\n",
       "\n",
       "[[16]]\n",
       "                     Func1       padj\n",
       "global-S%ADT    0.06577255 0.04040404\n",
       "global-%GE      0.04325491 0.04646465\n",
       "global-S%SSGANV 0.04110494 0.04646465\n",
       "global-SE%RNTE  0.04220136 0.04646465\n",
       "global-SP%SSGNT 0.04226329 0.04646465\n",
       "global-S%ANTGE  0.03381860 0.04991087\n",
       "\n",
       "[[17]]\n",
       "                     Func1        padj\n",
       "global-SI%MNTE  0.12451231 0.005050505\n",
       "global-SLG%AGNT 0.04352970 0.050505051\n",
       "global-SV%GDTE  0.04139745 0.050505051\n",
       "global-SYA%E    0.04809309 0.050505051\n",
       "global-S%GTGGTE 0.02806997 0.052188552\n",
       "global-S%GVE    0.02547200 0.052188552\n",
       "\n",
       "[[18]]\n",
       "                     Func1       padj\n",
       "global-SDRG%QP  0.09360922 0.03030303\n",
       "global-SPG%GNT  0.05429919 0.13131313\n",
       "global-S%QMNTE  0.04087314 0.13383838\n",
       "global-SF%YE    0.03625492 0.13383838\n",
       "global-SL%GANEK 0.03413608 0.13383838\n",
       "global-SLGG%GE  0.03009777 0.13383838\n",
       "\n",
       "[[19]]\n",
       "                     Func1       padj\n",
       "global-S%QGADTE 0.06544343 0.02020202\n",
       "global-GQG%NTE  0.04558237 0.02525253\n",
       "global-SDS%TGE  0.04151964 0.02525253\n",
       "global-SE%RNTE  0.04353123 0.02525253\n",
       "global-S%GASTDT 0.04113365 0.03282828\n",
       "global-S%GDEK   0.03915014 0.03282828\n",
       "\n",
       "[[20]]\n",
       "                     Func1        padj\n",
       "global-SDS%GANV 0.06906354 0.005050505\n",
       "global-SQ%TGYG  0.09857604 0.005050505\n",
       "global-SE%SGANV 0.06318525 0.010101010\n",
       "global-SP%GGNT  0.04842996 0.020202020\n",
       "global-SD%YSNQP 0.04348099 0.023088023\n",
       "global-SIQ%NTE  0.04366322 0.023088023\n"
      ]
     },
     "metadata": {},
     "output_type": "display_data"
    }
   ],
   "source": [
    "lapply(zicolist , head)"
   ]
  },
  {
   "attachments": {},
   "cell_type": "markdown",
   "metadata": {},
   "source": [
    "A lot of these TCR groups are highly similar, for example global-SE%RNTE, global-SET%NTE. Let's group them together based on PID on H4H and rerun zicoseq"
   ]
  },
  {
   "attachments": {},
   "cell_type": "markdown",
   "metadata": {},
   "source": [
    "# Group similar TCR groups"
   ]
  },
  {
   "cell_type": "code",
   "execution_count": 160,
   "metadata": {
    "vscode": {
     "languageId": "r"
    }
   },
   "outputs": [],
   "source": [
    "filelist <- list.files(path = paste0(h4hpath, \"analysis/GLIPH/\"), pattern = \"_cluster_gliph_rm_na_singlerm.rds_hklust.rds\", full.names = FALSE)"
   ]
  },
  {
   "cell_type": "code",
   "execution_count": 161,
   "metadata": {
    "vscode": {
     "languageId": "r"
    }
   },
   "outputs": [
    {
     "data": {
      "text/html": [
       "'gliphinput_int_adaptive_sample_02_cluster_gliph_rm_na_singlerm.rds_hklust.rds'"
      ],
      "text/latex": [
       "'gliphinput\\_int\\_adaptive\\_sample\\_02\\_cluster\\_gliph\\_rm\\_na\\_singlerm.rds\\_hklust.rds'"
      ],
      "text/markdown": [
       "'gliphinput_int_adaptive_sample_02_cluster_gliph_rm_na_singlerm.rds_hklust.rds'"
      ],
      "text/plain": [
       "[1] \"gliphinput_int_adaptive_sample_02_cluster_gliph_rm_na_singlerm.rds_hklust.rds\""
      ]
     },
     "metadata": {},
     "output_type": "display_data"
    }
   ],
   "source": [
    "filelist"
   ]
  },
  {
   "cell_type": "code",
   "execution_count": 162,
   "metadata": {
    "vscode": {
     "languageId": "r"
    }
   },
   "outputs": [],
   "source": [
    "onetest <- readr::read_rds(file = paste0(h4hpath, \"analysis/GLIPH/\", filelist[1]))"
   ]
  },
  {
   "cell_type": "code",
   "execution_count": 163,
   "metadata": {
    "vscode": {
     "languageId": "r"
    }
   },
   "outputs": [
    {
     "data": {
      "text/html": [
       "<style>\n",
       ".list-inline {list-style: none; margin:0; padding: 0}\n",
       ".list-inline>li {display: inline-block}\n",
       ".list-inline>li:not(:last-child)::after {content: \"\\00b7\"; padding: 0 .5ex}\n",
       "</style>\n",
       "<ol class=list-inline><li>12385</li><li>29</li></ol>\n"
      ],
      "text/latex": [
       "\\begin{enumerate*}\n",
       "\\item 12385\n",
       "\\item 29\n",
       "\\end{enumerate*}\n"
      ],
      "text/markdown": [
       "1. 12385\n",
       "2. 29\n",
       "\n",
       "\n"
      ],
      "text/plain": [
       "[1] 12385    29"
      ]
     },
     "metadata": {},
     "output_type": "display_data"
    }
   ],
   "source": [
    "dim(onetest)"
   ]
  },
  {
   "cell_type": "code",
   "execution_count": 164,
   "metadata": {
    "vscode": {
     "languageId": "r"
    }
   },
   "outputs": [],
   "source": [
    "#separate rwos by comma in subject column to capture all subjects with the same cluster\n",
    "onetest <- tidyr::separate_rows(onetest, subject, sep = \",\")\n",
    "# trimws\n",
    "onetest$subject <- trimws(onetest$subject)"
   ]
  },
  {
   "cell_type": "code",
   "execution_count": 165,
   "metadata": {
    "vscode": {
     "languageId": "r"
    }
   },
   "outputs": [
    {
     "data": {
      "text/html": [
       "<style>\n",
       ".list-inline {list-style: none; margin:0; padding: 0}\n",
       ".list-inline>li {display: inline-block}\n",
       ".list-inline>li:not(:last-child)::after {content: \"\\00b7\"; padding: 0 .5ex}\n",
       "</style>\n",
       "<ol class=list-inline><li>13538</li><li>29</li></ol>\n"
      ],
      "text/latex": [
       "\\begin{enumerate*}\n",
       "\\item 13538\n",
       "\\item 29\n",
       "\\end{enumerate*}\n"
      ],
      "text/markdown": [
       "1. 13538\n",
       "2. 29\n",
       "\n",
       "\n"
      ],
      "text/plain": [
       "[1] 13538    29"
      ]
     },
     "metadata": {},
     "output_type": "display_data"
    }
   ],
   "source": [
    "dim(onetest)"
   ]
  },
  {
   "cell_type": "code",
   "execution_count": 166,
   "metadata": {
    "vscode": {
     "languageId": "r"
    }
   },
   "outputs": [
    {
     "data": {
      "text/html": [
       "<table class=\"dataframe\">\n",
       "<caption>A data.frame: 6 x 9</caption>\n",
       "<thead>\n",
       "\t<tr><th></th><th scope=col>Patient</th><th scope=col>Age</th><th scope=col>sampletype</th><th scope=col>study</th><th scope=col>Agegroup</th><th scope=col>Sex</th><th scope=col>disease</th><th scope=col>sample_name</th><th scope=col>disease_group</th></tr>\n",
       "\t<tr><th></th><th scope=col>&lt;chr&gt;</th><th scope=col>&lt;dbl&gt;</th><th scope=col>&lt;chr&gt;</th><th scope=col>&lt;chr&gt;</th><th scope=col>&lt;chr&gt;</th><th scope=col>&lt;chr&gt;</th><th scope=col>&lt;chr&gt;</th><th scope=col>&lt;chr&gt;</th><th scope=col>&lt;chr&gt;</th></tr>\n",
       "</thead>\n",
       "<tbody>\n",
       "\t<tr><th scope=row>Peds_Ctrl_2</th><td>Peds_Ctrl_2        </td><td>NA</td><td>PBMC</td><td>Henderson</td><td>Child</td><td>Unknown</td><td>Peds healthy Control</td><td>Peds_Ctrl_2        </td><td>Non-Cancer</td></tr>\n",
       "\t<tr><th scope=row>MAS_3</th><td>MAS_3              </td><td>NA</td><td>PBMC</td><td>Henderson</td><td>Child</td><td>Unknown</td><td>MAS                 </td><td>MAS_3              </td><td>Non-Cancer</td></tr>\n",
       "\t<tr><th scope=row>Peds_Febrile_Ctrl_3</th><td>Peds_Febrile_Ctrl_3</td><td>NA</td><td>PBMC</td><td>Henderson</td><td>Child</td><td>Unknown</td><td>Peds febrile Control</td><td>Peds_Febrile_Ctrl_3</td><td>Non-Cancer</td></tr>\n",
       "\t<tr><th scope=row>KD_4</th><td>KD_4               </td><td>NA</td><td>PBMC</td><td>Henderson</td><td>Child</td><td>Unknown</td><td>KD                  </td><td>KD_4               </td><td>Non-Cancer</td></tr>\n",
       "\t<tr><th scope=row>KD_3</th><td>KD_3               </td><td>NA</td><td>PBMC</td><td>Henderson</td><td>Child</td><td>Unknown</td><td>KD                  </td><td>KD_3               </td><td>Non-Cancer</td></tr>\n",
       "\t<tr><th scope=row>sJIA_7</th><td>sJIA_7             </td><td>NA</td><td>PBMC</td><td>Henderson</td><td>Child</td><td>Unknown</td><td>sJIA                </td><td>sJIA_7             </td><td>Non-Cancer</td></tr>\n",
       "</tbody>\n",
       "</table>\n"
      ],
      "text/latex": [
       "A data.frame: 6 x 9\n",
       "\\begin{tabular}{r|lllllllll}\n",
       "  & Patient & Age & sampletype & study & Agegroup & Sex & disease & sample\\_name & disease\\_group\\\\\n",
       "  & <chr> & <dbl> & <chr> & <chr> & <chr> & <chr> & <chr> & <chr> & <chr>\\\\\n",
       "\\hline\n",
       "\tPeds\\_Ctrl\\_2 & Peds\\_Ctrl\\_2         & NA & PBMC & Henderson & Child & Unknown & Peds healthy Control & Peds\\_Ctrl\\_2         & Non-Cancer\\\\\n",
       "\tMAS\\_3 & MAS\\_3               & NA & PBMC & Henderson & Child & Unknown & MAS                  & MAS\\_3               & Non-Cancer\\\\\n",
       "\tPeds\\_Febrile\\_Ctrl\\_3 & Peds\\_Febrile\\_Ctrl\\_3 & NA & PBMC & Henderson & Child & Unknown & Peds febrile Control & Peds\\_Febrile\\_Ctrl\\_3 & Non-Cancer\\\\\n",
       "\tKD\\_4 & KD\\_4                & NA & PBMC & Henderson & Child & Unknown & KD                   & KD\\_4                & Non-Cancer\\\\\n",
       "\tKD\\_3 & KD\\_3                & NA & PBMC & Henderson & Child & Unknown & KD                   & KD\\_3                & Non-Cancer\\\\\n",
       "\tsJIA\\_7 & sJIA\\_7              & NA & PBMC & Henderson & Child & Unknown & sJIA                 & sJIA\\_7              & Non-Cancer\\\\\n",
       "\\end{tabular}\n"
      ],
      "text/markdown": [
       "\n",
       "A data.frame: 6 x 9\n",
       "\n",
       "| <!--/--> | Patient &lt;chr&gt; | Age &lt;dbl&gt; | sampletype &lt;chr&gt; | study &lt;chr&gt; | Agegroup &lt;chr&gt; | Sex &lt;chr&gt; | disease &lt;chr&gt; | sample_name &lt;chr&gt; | disease_group &lt;chr&gt; |\n",
       "|---|---|---|---|---|---|---|---|---|---|\n",
       "| Peds_Ctrl_2 | Peds_Ctrl_2         | NA | PBMC | Henderson | Child | Unknown | Peds healthy Control | Peds_Ctrl_2         | Non-Cancer |\n",
       "| MAS_3 | MAS_3               | NA | PBMC | Henderson | Child | Unknown | MAS                  | MAS_3               | Non-Cancer |\n",
       "| Peds_Febrile_Ctrl_3 | Peds_Febrile_Ctrl_3 | NA | PBMC | Henderson | Child | Unknown | Peds febrile Control | Peds_Febrile_Ctrl_3 | Non-Cancer |\n",
       "| KD_4 | KD_4                | NA | PBMC | Henderson | Child | Unknown | KD                   | KD_4                | Non-Cancer |\n",
       "| KD_3 | KD_3                | NA | PBMC | Henderson | Child | Unknown | KD                   | KD_3                | Non-Cancer |\n",
       "| sJIA_7 | sJIA_7              | NA | PBMC | Henderson | Child | Unknown | sJIA                 | sJIA_7              | Non-Cancer |\n",
       "\n"
      ],
      "text/plain": [
       "                    Patient             Age sampletype study     Agegroup\n",
       "Peds_Ctrl_2         Peds_Ctrl_2         NA  PBMC       Henderson Child   \n",
       "MAS_3               MAS_3               NA  PBMC       Henderson Child   \n",
       "Peds_Febrile_Ctrl_3 Peds_Febrile_Ctrl_3 NA  PBMC       Henderson Child   \n",
       "KD_4                KD_4                NA  PBMC       Henderson Child   \n",
       "KD_3                KD_3                NA  PBMC       Henderson Child   \n",
       "sJIA_7              sJIA_7              NA  PBMC       Henderson Child   \n",
       "                    Sex     disease              sample_name        \n",
       "Peds_Ctrl_2         Unknown Peds healthy Control Peds_Ctrl_2        \n",
       "MAS_3               Unknown MAS                  MAS_3              \n",
       "Peds_Febrile_Ctrl_3 Unknown Peds febrile Control Peds_Febrile_Ctrl_3\n",
       "KD_4                Unknown KD                   KD_4               \n",
       "KD_3                Unknown KD                   KD_3               \n",
       "sJIA_7              Unknown sJIA                 sJIA_7             \n",
       "                    disease_group\n",
       "Peds_Ctrl_2         Non-Cancer   \n",
       "MAS_3               Non-Cancer   \n",
       "Peds_Febrile_Ctrl_3 Non-Cancer   \n",
       "KD_4                Non-Cancer   \n",
       "KD_3                Non-Cancer   \n",
       "sJIA_7              Non-Cancer   "
      ]
     },
     "metadata": {},
     "output_type": "display_data"
    }
   ],
   "source": [
    "head(discovery_metadata)"
   ]
  },
  {
   "cell_type": "code",
   "execution_count": 79,
   "metadata": {
    "vscode": {
     "languageId": "r"
    }
   },
   "outputs": [],
   "source": [
    "# remove non normal non cancer samples\n",
    "discovery_metadata <- discovery_metadata[!discovery_metadata$disease %in% \n",
    "c(\"KD\", \"MAS\", \"LFS\", \"Peds healthy Control\",\n",
    "\"MIS-C SARSCoV2Neg\", \"MIS-C SARSCoV2Pos\", \n",
    "\"Peds febrile Control\", \"Peds COVID19\", \"sJIA\"), ]"
   ]
  },
  {
   "cell_type": "code",
   "execution_count": 80,
   "metadata": {
    "vscode": {
     "languageId": "r"
    }
   },
   "outputs": [],
   "source": [
    "onetest <- onetest[ onetest$subject %in% discovery_metadata$sample_name, ]"
   ]
  },
  {
   "cell_type": "code",
   "execution_count": 195,
   "metadata": {
    "vscode": {
     "languageId": "r"
    }
   },
   "outputs": [],
   "source": [
    "onetest$hklust <- paste0(\"Cluster_\", onetest$hklust)"
   ]
  },
  {
   "cell_type": "code",
   "execution_count": 196,
   "metadata": {
    "vscode": {
     "languageId": "r"
    }
   },
   "outputs": [],
   "source": [
    "pat_type <- as.data.frame.matrix(table(onetest %>% select(hklust, subject)))"
   ]
  },
  {
   "cell_type": "code",
   "execution_count": 197,
   "metadata": {
    "vscode": {
     "languageId": "r"
    }
   },
   "outputs": [
    {
     "data": {
      "text/html": [
       "<table class=\"dataframe\">\n",
       "<caption>A data.frame: 6 x 831</caption>\n",
       "<thead>\n",
       "\t<tr><th></th><th scope=col>310103_TCRB</th><th scope=col>310104_TCRB</th><th scope=col>310105_TCRB</th><th scope=col>310106_TCRB</th><th scope=col>310108_TCRB</th><th scope=col>310109_TCRB</th><th scope=col>310110_TCRB</th><th scope=col>310111_TCRB</th><th scope=col>310113_TCRB</th><th scope=col>310114_TCRB</th><th scope=col>...</th><th scope=col>Peds_Ctrl_2</th><th scope=col>Peds_Ctrl_7</th><th scope=col>Peds_Febrile_Ctrl_1</th><th scope=col>Peds_Febrile_Ctrl_2</th><th scope=col>Peds_Febrile_Ctrl_3</th><th scope=col>Peds_Febrile_Ctrl_5</th><th scope=col>Peds_Febrile_Ctrl_6</th><th scope=col>sJIA_2</th><th scope=col>sJIA_4</th><th scope=col>sJIA_7</th></tr>\n",
       "\t<tr><th></th><th scope=col>&lt;int&gt;</th><th scope=col>&lt;int&gt;</th><th scope=col>&lt;int&gt;</th><th scope=col>&lt;int&gt;</th><th scope=col>&lt;int&gt;</th><th scope=col>&lt;int&gt;</th><th scope=col>&lt;int&gt;</th><th scope=col>&lt;int&gt;</th><th scope=col>&lt;int&gt;</th><th scope=col>&lt;int&gt;</th><th scope=col>...</th><th scope=col>&lt;int&gt;</th><th scope=col>&lt;int&gt;</th><th scope=col>&lt;int&gt;</th><th scope=col>&lt;int&gt;</th><th scope=col>&lt;int&gt;</th><th scope=col>&lt;int&gt;</th><th scope=col>&lt;int&gt;</th><th scope=col>&lt;int&gt;</th><th scope=col>&lt;int&gt;</th><th scope=col>&lt;int&gt;</th></tr>\n",
       "</thead>\n",
       "<tbody>\n",
       "\t<tr><th scope=row>Cluster_1</th><td>2</td><td>5</td><td>20</td><td>8</td><td>3</td><td>4</td><td>0</td><td>5</td><td>1</td><td>5</td><td>...</td><td>0</td><td>4</td><td>2</td><td>1</td><td>3</td><td>1</td><td>4</td><td>1</td><td>1</td><td>0</td></tr>\n",
       "\t<tr><th scope=row>Cluster_10</th><td>0</td><td>1</td><td> 6</td><td>0</td><td>0</td><td>3</td><td>0</td><td>2</td><td>0</td><td>0</td><td>...</td><td>1</td><td>0</td><td>0</td><td>0</td><td>1</td><td>1</td><td>1</td><td>0</td><td>0</td><td>0</td></tr>\n",
       "\t<tr><th scope=row>Cluster_11</th><td>0</td><td>2</td><td> 2</td><td>1</td><td>0</td><td>0</td><td>0</td><td>0</td><td>0</td><td>1</td><td>...</td><td>1</td><td>1</td><td>0</td><td>0</td><td>0</td><td>0</td><td>2</td><td>0</td><td>0</td><td>0</td></tr>\n",
       "\t<tr><th scope=row>Cluster_12</th><td>0</td><td>0</td><td> 4</td><td>2</td><td>0</td><td>0</td><td>0</td><td>0</td><td>1</td><td>0</td><td>...</td><td>0</td><td>0</td><td>0</td><td>0</td><td>2</td><td>0</td><td>0</td><td>0</td><td>0</td><td>0</td></tr>\n",
       "\t<tr><th scope=row>Cluster_13</th><td>0</td><td>0</td><td> 6</td><td>2</td><td>0</td><td>0</td><td>0</td><td>2</td><td>0</td><td>0</td><td>...</td><td>0</td><td>3</td><td>0</td><td>0</td><td>0</td><td>0</td><td>0</td><td>0</td><td>0</td><td>0</td></tr>\n",
       "\t<tr><th scope=row>Cluster_14</th><td>0</td><td>0</td><td> 1</td><td>1</td><td>2</td><td>0</td><td>0</td><td>0</td><td>0</td><td>1</td><td>...</td><td>1</td><td>0</td><td>0</td><td>0</td><td>1</td><td>1</td><td>0</td><td>0</td><td>0</td><td>0</td></tr>\n",
       "</tbody>\n",
       "</table>\n"
      ],
      "text/latex": [
       "A data.frame: 6 x 831\n",
       "\\begin{tabular}{r|lllllllllllllllllllll}\n",
       "  & 310103\\_TCRB & 310104\\_TCRB & 310105\\_TCRB & 310106\\_TCRB & 310108\\_TCRB & 310109\\_TCRB & 310110\\_TCRB & 310111\\_TCRB & 310113\\_TCRB & 310114\\_TCRB & ... & Peds\\_Ctrl\\_2 & Peds\\_Ctrl\\_7 & Peds\\_Febrile\\_Ctrl\\_1 & Peds\\_Febrile\\_Ctrl\\_2 & Peds\\_Febrile\\_Ctrl\\_3 & Peds\\_Febrile\\_Ctrl\\_5 & Peds\\_Febrile\\_Ctrl\\_6 & sJIA\\_2 & sJIA\\_4 & sJIA\\_7\\\\\n",
       "  & <int> & <int> & <int> & <int> & <int> & <int> & <int> & <int> & <int> & <int> & ... & <int> & <int> & <int> & <int> & <int> & <int> & <int> & <int> & <int> & <int>\\\\\n",
       "\\hline\n",
       "\tCluster\\_1 & 2 & 5 & 20 & 8 & 3 & 4 & 0 & 5 & 1 & 5 & ... & 0 & 4 & 2 & 1 & 3 & 1 & 4 & 1 & 1 & 0\\\\\n",
       "\tCluster\\_10 & 0 & 1 &  6 & 0 & 0 & 3 & 0 & 2 & 0 & 0 & ... & 1 & 0 & 0 & 0 & 1 & 1 & 1 & 0 & 0 & 0\\\\\n",
       "\tCluster\\_11 & 0 & 2 &  2 & 1 & 0 & 0 & 0 & 0 & 0 & 1 & ... & 1 & 1 & 0 & 0 & 0 & 0 & 2 & 0 & 0 & 0\\\\\n",
       "\tCluster\\_12 & 0 & 0 &  4 & 2 & 0 & 0 & 0 & 0 & 1 & 0 & ... & 0 & 0 & 0 & 0 & 2 & 0 & 0 & 0 & 0 & 0\\\\\n",
       "\tCluster\\_13 & 0 & 0 &  6 & 2 & 0 & 0 & 0 & 2 & 0 & 0 & ... & 0 & 3 & 0 & 0 & 0 & 0 & 0 & 0 & 0 & 0\\\\\n",
       "\tCluster\\_14 & 0 & 0 &  1 & 1 & 2 & 0 & 0 & 0 & 0 & 1 & ... & 1 & 0 & 0 & 0 & 1 & 1 & 0 & 0 & 0 & 0\\\\\n",
       "\\end{tabular}\n"
      ],
      "text/markdown": [
       "\n",
       "A data.frame: 6 x 831\n",
       "\n",
       "| <!--/--> | 310103_TCRB &lt;int&gt; | 310104_TCRB &lt;int&gt; | 310105_TCRB &lt;int&gt; | 310106_TCRB &lt;int&gt; | 310108_TCRB &lt;int&gt; | 310109_TCRB &lt;int&gt; | 310110_TCRB &lt;int&gt; | 310111_TCRB &lt;int&gt; | 310113_TCRB &lt;int&gt; | 310114_TCRB &lt;int&gt; | ... ... | Peds_Ctrl_2 &lt;int&gt; | Peds_Ctrl_7 &lt;int&gt; | Peds_Febrile_Ctrl_1 &lt;int&gt; | Peds_Febrile_Ctrl_2 &lt;int&gt; | Peds_Febrile_Ctrl_3 &lt;int&gt; | Peds_Febrile_Ctrl_5 &lt;int&gt; | Peds_Febrile_Ctrl_6 &lt;int&gt; | sJIA_2 &lt;int&gt; | sJIA_4 &lt;int&gt; | sJIA_7 &lt;int&gt; |\n",
       "|---|---|---|---|---|---|---|---|---|---|---|---|---|---|---|---|---|---|---|---|---|---|\n",
       "| Cluster_1 | 2 | 5 | 20 | 8 | 3 | 4 | 0 | 5 | 1 | 5 | ... | 0 | 4 | 2 | 1 | 3 | 1 | 4 | 1 | 1 | 0 |\n",
       "| Cluster_10 | 0 | 1 |  6 | 0 | 0 | 3 | 0 | 2 | 0 | 0 | ... | 1 | 0 | 0 | 0 | 1 | 1 | 1 | 0 | 0 | 0 |\n",
       "| Cluster_11 | 0 | 2 |  2 | 1 | 0 | 0 | 0 | 0 | 0 | 1 | ... | 1 | 1 | 0 | 0 | 0 | 0 | 2 | 0 | 0 | 0 |\n",
       "| Cluster_12 | 0 | 0 |  4 | 2 | 0 | 0 | 0 | 0 | 1 | 0 | ... | 0 | 0 | 0 | 0 | 2 | 0 | 0 | 0 | 0 | 0 |\n",
       "| Cluster_13 | 0 | 0 |  6 | 2 | 0 | 0 | 0 | 2 | 0 | 0 | ... | 0 | 3 | 0 | 0 | 0 | 0 | 0 | 0 | 0 | 0 |\n",
       "| Cluster_14 | 0 | 0 |  1 | 1 | 2 | 0 | 0 | 0 | 0 | 1 | ... | 1 | 0 | 0 | 0 | 1 | 1 | 0 | 0 | 0 | 0 |\n",
       "\n"
      ],
      "text/plain": [
       "           310103_TCRB 310104_TCRB 310105_TCRB 310106_TCRB 310108_TCRB\n",
       "Cluster_1  2           5           20          8           3          \n",
       "Cluster_10 0           1            6          0           0          \n",
       "Cluster_11 0           2            2          1           0          \n",
       "Cluster_12 0           0            4          2           0          \n",
       "Cluster_13 0           0            6          2           0          \n",
       "Cluster_14 0           0            1          1           2          \n",
       "           310109_TCRB 310110_TCRB 310111_TCRB 310113_TCRB 310114_TCRB ...\n",
       "Cluster_1  4           0           5           1           5           ...\n",
       "Cluster_10 3           0           2           0           0           ...\n",
       "Cluster_11 0           0           0           0           1           ...\n",
       "Cluster_12 0           0           0           1           0           ...\n",
       "Cluster_13 0           0           2           0           0           ...\n",
       "Cluster_14 0           0           0           0           1           ...\n",
       "           Peds_Ctrl_2 Peds_Ctrl_7 Peds_Febrile_Ctrl_1 Peds_Febrile_Ctrl_2\n",
       "Cluster_1  0           4           2                   1                  \n",
       "Cluster_10 1           0           0                   0                  \n",
       "Cluster_11 1           1           0                   0                  \n",
       "Cluster_12 0           0           0                   0                  \n",
       "Cluster_13 0           3           0                   0                  \n",
       "Cluster_14 1           0           0                   0                  \n",
       "           Peds_Febrile_Ctrl_3 Peds_Febrile_Ctrl_5 Peds_Febrile_Ctrl_6 sJIA_2\n",
       "Cluster_1  3                   1                   4                   1     \n",
       "Cluster_10 1                   1                   1                   0     \n",
       "Cluster_11 0                   0                   2                   0     \n",
       "Cluster_12 2                   0                   0                   0     \n",
       "Cluster_13 0                   0                   0                   0     \n",
       "Cluster_14 1                   1                   0                   0     \n",
       "           sJIA_4 sJIA_7\n",
       "Cluster_1  1      0     \n",
       "Cluster_10 0      0     \n",
       "Cluster_11 0      0     \n",
       "Cluster_12 0      0     \n",
       "Cluster_13 0      0     \n",
       "Cluster_14 0      0     "
      ]
     },
     "metadata": {},
     "output_type": "display_data"
    }
   ],
   "source": [
    "head(pat_type)"
   ]
  },
  {
   "cell_type": "code",
   "execution_count": 198,
   "metadata": {
    "vscode": {
     "languageId": "r"
    }
   },
   "outputs": [
    {
     "data": {
      "text/plain": [
       "\n",
       "  Emerson Henderson INTERCEPT  Mitchell \n",
       "      654        25        91       203 "
      ]
     },
     "metadata": {},
     "output_type": "display_data"
    }
   ],
   "source": [
    "table(discovery_metadata$study, useNA = \"ifany\")"
   ]
  },
  {
   "cell_type": "code",
   "execution_count": 199,
   "metadata": {
    "vscode": {
     "languageId": "r"
    }
   },
   "outputs": [
    {
     "data": {
      "text/plain": [
       "\n",
       "                Ctrl    Cytomegalovirus +    Cytomegalovirus - \n",
       "                  94                  284                  346 \n",
       "     Emerson_unknown                   KD                  LFS \n",
       "                  24                    4                    6 \n",
       "            Leukemia             Lymphoma                  MAS \n",
       "                  36                   13                    3 \n",
       "   MIS-C SARSCoV2Neg    MIS-C SARSCoV2Pos               Normal \n",
       "                   2                    2                    8 \n",
       "        Peds COVID19 Peds febrile Control Peds healthy Control \n",
       "                   3                    5                    3 \n",
       "               Solid                  T1D                 sJIA \n",
       "                  28                  109                    3 "
      ]
     },
     "metadata": {},
     "output_type": "display_data"
    }
   ],
   "source": [
    "table(discovery_metadata$disease)"
   ]
  },
  {
   "cell_type": "code",
   "execution_count": 200,
   "metadata": {
    "vscode": {
     "languageId": "r"
    }
   },
   "outputs": [
    {
     "data": {
      "text/html": [
       "<table class=\"dataframe\">\n",
       "<caption>A data.frame: 2 x 9</caption>\n",
       "<thead>\n",
       "\t<tr><th></th><th scope=col>Patient</th><th scope=col>Age</th><th scope=col>sampletype</th><th scope=col>study</th><th scope=col>Agegroup</th><th scope=col>Sex</th><th scope=col>disease</th><th scope=col>sample_name</th><th scope=col>disease_group</th></tr>\n",
       "\t<tr><th></th><th scope=col>&lt;chr&gt;</th><th scope=col>&lt;dbl&gt;</th><th scope=col>&lt;chr&gt;</th><th scope=col>&lt;chr&gt;</th><th scope=col>&lt;chr&gt;</th><th scope=col>&lt;chr&gt;</th><th scope=col>&lt;chr&gt;</th><th scope=col>&lt;chr&gt;</th><th scope=col>&lt;chr&gt;</th></tr>\n",
       "</thead>\n",
       "<tbody>\n",
       "\t<tr><th scope=row>P00612</th><td>P00612</td><td>NA</td><td>PBMC</td><td>Emerson</td><td>Years</td><td>Female</td><td>Cytomegalovirus -</td><td>P00612</td><td>Non-Cancer</td></tr>\n",
       "\t<tr><th scope=row>P00614</th><td>P00614</td><td>NA</td><td>PBMC</td><td>Emerson</td><td>Years</td><td>Female</td><td>Cytomegalovirus -</td><td>P00614</td><td>Non-Cancer</td></tr>\n",
       "</tbody>\n",
       "</table>\n"
      ],
      "text/latex": [
       "A data.frame: 2 x 9\n",
       "\\begin{tabular}{r|lllllllll}\n",
       "  & Patient & Age & sampletype & study & Agegroup & Sex & disease & sample\\_name & disease\\_group\\\\\n",
       "  & <chr> & <dbl> & <chr> & <chr> & <chr> & <chr> & <chr> & <chr> & <chr>\\\\\n",
       "\\hline\n",
       "\tP00612 & P00612 & NA & PBMC & Emerson & Years & Female & Cytomegalovirus - & P00612 & Non-Cancer\\\\\n",
       "\tP00614 & P00614 & NA & PBMC & Emerson & Years & Female & Cytomegalovirus - & P00614 & Non-Cancer\\\\\n",
       "\\end{tabular}\n"
      ],
      "text/markdown": [
       "\n",
       "A data.frame: 2 x 9\n",
       "\n",
       "| <!--/--> | Patient &lt;chr&gt; | Age &lt;dbl&gt; | sampletype &lt;chr&gt; | study &lt;chr&gt; | Agegroup &lt;chr&gt; | Sex &lt;chr&gt; | disease &lt;chr&gt; | sample_name &lt;chr&gt; | disease_group &lt;chr&gt; |\n",
       "|---|---|---|---|---|---|---|---|---|---|\n",
       "| P00612 | P00612 | NA | PBMC | Emerson | Years | Female | Cytomegalovirus - | P00612 | Non-Cancer |\n",
       "| P00614 | P00614 | NA | PBMC | Emerson | Years | Female | Cytomegalovirus - | P00614 | Non-Cancer |\n",
       "\n"
      ],
      "text/plain": [
       "       Patient Age sampletype study   Agegroup Sex    disease          \n",
       "P00612 P00612  NA  PBMC       Emerson Years    Female Cytomegalovirus -\n",
       "P00614 P00614  NA  PBMC       Emerson Years    Female Cytomegalovirus -\n",
       "       sample_name disease_group\n",
       "P00612 P00612      Non-Cancer   \n",
       "P00614 P00614      Non-Cancer   "
      ]
     },
     "metadata": {},
     "output_type": "display_data"
    }
   ],
   "source": [
    "discovery_metadata[ discovery_metadata$Agegroup == \"Years\" ,]"
   ]
  },
  {
   "cell_type": "code",
   "execution_count": 201,
   "metadata": {
    "vscode": {
     "languageId": "r"
    }
   },
   "outputs": [
    {
     "data": {
      "text/plain": [
       "\n",
       " Adolescent       Adult       Child     Neonate     Unknown       Years \n",
       "         35         431         272          35         159           2 \n",
       "Young Adult \n",
       "         39 "
      ]
     },
     "metadata": {},
     "output_type": "display_data"
    }
   ],
   "source": [
    "table(discovery_metadata$Agegroup, useNA = \"ifany\")\n"
   ]
  },
  {
   "cell_type": "code",
   "execution_count": 148,
   "metadata": {
    "vscode": {
     "languageId": "r"
    }
   },
   "outputs": [],
   "source": [
    "rownames(discovery_metadata) <- discovery_metadata$sample_name"
   ]
  },
  {
   "cell_type": "code",
   "execution_count": 202,
   "metadata": {
    "vscode": {
     "languageId": "r"
    }
   },
   "outputs": [
    {
     "data": {
      "text/html": [
       "<table class=\"dataframe\">\n",
       "<caption>A data.frame: 6 x 9</caption>\n",
       "<thead>\n",
       "\t<tr><th></th><th scope=col>Patient</th><th scope=col>Age</th><th scope=col>sampletype</th><th scope=col>study</th><th scope=col>Agegroup</th><th scope=col>Sex</th><th scope=col>disease</th><th scope=col>sample_name</th><th scope=col>disease_group</th></tr>\n",
       "\t<tr><th></th><th scope=col>&lt;chr&gt;</th><th scope=col>&lt;dbl&gt;</th><th scope=col>&lt;chr&gt;</th><th scope=col>&lt;chr&gt;</th><th scope=col>&lt;chr&gt;</th><th scope=col>&lt;chr&gt;</th><th scope=col>&lt;chr&gt;</th><th scope=col>&lt;chr&gt;</th><th scope=col>&lt;chr&gt;</th></tr>\n",
       "</thead>\n",
       "<tbody>\n",
       "\t<tr><th scope=row>Peds_Ctrl_2</th><td>Peds_Ctrl_2        </td><td>NA</td><td>PBMC</td><td>Henderson</td><td>Child</td><td>Unknown</td><td>Peds healthy Control</td><td>Peds_Ctrl_2        </td><td>Non-Cancer</td></tr>\n",
       "\t<tr><th scope=row>MAS_3</th><td>MAS_3              </td><td>NA</td><td>PBMC</td><td>Henderson</td><td>Child</td><td>Unknown</td><td>MAS                 </td><td>MAS_3              </td><td>Non-Cancer</td></tr>\n",
       "\t<tr><th scope=row>Peds_Febrile_Ctrl_3</th><td>Peds_Febrile_Ctrl_3</td><td>NA</td><td>PBMC</td><td>Henderson</td><td>Child</td><td>Unknown</td><td>Peds febrile Control</td><td>Peds_Febrile_Ctrl_3</td><td>Non-Cancer</td></tr>\n",
       "\t<tr><th scope=row>KD_4</th><td>KD_4               </td><td>NA</td><td>PBMC</td><td>Henderson</td><td>Child</td><td>Unknown</td><td>KD                  </td><td>KD_4               </td><td>Non-Cancer</td></tr>\n",
       "\t<tr><th scope=row>KD_3</th><td>KD_3               </td><td>NA</td><td>PBMC</td><td>Henderson</td><td>Child</td><td>Unknown</td><td>KD                  </td><td>KD_3               </td><td>Non-Cancer</td></tr>\n",
       "\t<tr><th scope=row>sJIA_7</th><td>sJIA_7             </td><td>NA</td><td>PBMC</td><td>Henderson</td><td>Child</td><td>Unknown</td><td>sJIA                </td><td>sJIA_7             </td><td>Non-Cancer</td></tr>\n",
       "</tbody>\n",
       "</table>\n"
      ],
      "text/latex": [
       "A data.frame: 6 x 9\n",
       "\\begin{tabular}{r|lllllllll}\n",
       "  & Patient & Age & sampletype & study & Agegroup & Sex & disease & sample\\_name & disease\\_group\\\\\n",
       "  & <chr> & <dbl> & <chr> & <chr> & <chr> & <chr> & <chr> & <chr> & <chr>\\\\\n",
       "\\hline\n",
       "\tPeds\\_Ctrl\\_2 & Peds\\_Ctrl\\_2         & NA & PBMC & Henderson & Child & Unknown & Peds healthy Control & Peds\\_Ctrl\\_2         & Non-Cancer\\\\\n",
       "\tMAS\\_3 & MAS\\_3               & NA & PBMC & Henderson & Child & Unknown & MAS                  & MAS\\_3               & Non-Cancer\\\\\n",
       "\tPeds\\_Febrile\\_Ctrl\\_3 & Peds\\_Febrile\\_Ctrl\\_3 & NA & PBMC & Henderson & Child & Unknown & Peds febrile Control & Peds\\_Febrile\\_Ctrl\\_3 & Non-Cancer\\\\\n",
       "\tKD\\_4 & KD\\_4                & NA & PBMC & Henderson & Child & Unknown & KD                   & KD\\_4                & Non-Cancer\\\\\n",
       "\tKD\\_3 & KD\\_3                & NA & PBMC & Henderson & Child & Unknown & KD                   & KD\\_3                & Non-Cancer\\\\\n",
       "\tsJIA\\_7 & sJIA\\_7              & NA & PBMC & Henderson & Child & Unknown & sJIA                 & sJIA\\_7              & Non-Cancer\\\\\n",
       "\\end{tabular}\n"
      ],
      "text/markdown": [
       "\n",
       "A data.frame: 6 x 9\n",
       "\n",
       "| <!--/--> | Patient &lt;chr&gt; | Age &lt;dbl&gt; | sampletype &lt;chr&gt; | study &lt;chr&gt; | Agegroup &lt;chr&gt; | Sex &lt;chr&gt; | disease &lt;chr&gt; | sample_name &lt;chr&gt; | disease_group &lt;chr&gt; |\n",
       "|---|---|---|---|---|---|---|---|---|---|\n",
       "| Peds_Ctrl_2 | Peds_Ctrl_2         | NA | PBMC | Henderson | Child | Unknown | Peds healthy Control | Peds_Ctrl_2         | Non-Cancer |\n",
       "| MAS_3 | MAS_3               | NA | PBMC | Henderson | Child | Unknown | MAS                  | MAS_3               | Non-Cancer |\n",
       "| Peds_Febrile_Ctrl_3 | Peds_Febrile_Ctrl_3 | NA | PBMC | Henderson | Child | Unknown | Peds febrile Control | Peds_Febrile_Ctrl_3 | Non-Cancer |\n",
       "| KD_4 | KD_4                | NA | PBMC | Henderson | Child | Unknown | KD                   | KD_4                | Non-Cancer |\n",
       "| KD_3 | KD_3                | NA | PBMC | Henderson | Child | Unknown | KD                   | KD_3                | Non-Cancer |\n",
       "| sJIA_7 | sJIA_7              | NA | PBMC | Henderson | Child | Unknown | sJIA                 | sJIA_7              | Non-Cancer |\n",
       "\n"
      ],
      "text/plain": [
       "                    Patient             Age sampletype study     Agegroup\n",
       "Peds_Ctrl_2         Peds_Ctrl_2         NA  PBMC       Henderson Child   \n",
       "MAS_3               MAS_3               NA  PBMC       Henderson Child   \n",
       "Peds_Febrile_Ctrl_3 Peds_Febrile_Ctrl_3 NA  PBMC       Henderson Child   \n",
       "KD_4                KD_4                NA  PBMC       Henderson Child   \n",
       "KD_3                KD_3                NA  PBMC       Henderson Child   \n",
       "sJIA_7              sJIA_7              NA  PBMC       Henderson Child   \n",
       "                    Sex     disease              sample_name        \n",
       "Peds_Ctrl_2         Unknown Peds healthy Control Peds_Ctrl_2        \n",
       "MAS_3               Unknown MAS                  MAS_3              \n",
       "Peds_Febrile_Ctrl_3 Unknown Peds febrile Control Peds_Febrile_Ctrl_3\n",
       "KD_4                Unknown KD                   KD_4               \n",
       "KD_3                Unknown KD                   KD_3               \n",
       "sJIA_7              Unknown sJIA                 sJIA_7             \n",
       "                    disease_group\n",
       "Peds_Ctrl_2         Non-Cancer   \n",
       "MAS_3               Non-Cancer   \n",
       "Peds_Febrile_Ctrl_3 Non-Cancer   \n",
       "KD_4                Non-Cancer   \n",
       "KD_3                Non-Cancer   \n",
       "sJIA_7              Non-Cancer   "
      ]
     },
     "metadata": {},
     "output_type": "display_data"
    }
   ],
   "source": [
    "head(discovery_metadata)"
   ]
  },
  {
   "cell_type": "code",
   "execution_count": 216,
   "metadata": {
    "vscode": {
     "languageId": "r"
    }
   },
   "outputs": [
    {
     "name": "stdout",
     "output_type": "stream",
     "text": [
      "5  features are filtered!\n",
      "The data has  831  samples and  30  features will be tested!\n",
      "Fitting beta mixture ...\n",
      "Finding the references ...\n",
      "Permutation testing ...\n",
      ".........\n",
      ".........\n",
      ".........\n",
      ".........\n",
      ".........\n",
      ".........\n",
      "Completed!\n"
     ]
    }
   ],
   "source": [
    "   #pat_type <- pat_type[, colnames(pat_type) %in% discovery_metadata$sample_name ]\n",
    "   metadata_matched <- discovery_metadata[colnames(pat_type), ]\n",
    "\n",
    "    mytest <- ZicoSeq(\n",
    "        meta.dat = metadata_matched, feature.dat = as.matrix(pat_type),\n",
    "        grp.name = \"disease_group\", adj.name = c(\"Agegroup\", \"study\", \"Sex\"), feature.dat.type = \"count\",\n",
    "        # Filter to remove rare taxa\n",
    "        prev.filter = 0.01, mean.abund.filter = 0,\n",
    "        max.abund.filter = 0, min.prop = 0,\n",
    "        # Winsorization to replace outliers\n",
    "        is.winsor = FALSE, # outlier.pct = 0.03, winsor.end = 'top',\n",
    "        # Posterior sampling\n",
    "        is.post.sample = TRUE, post.sample.no = 25,\n",
    "        # Use the square-root transformation\n",
    "        link.func = list(function(x) x^0.5), stats.combine.func = max,\n",
    "        # Permutation-based multiple testing correction\n",
    "        perm.no = 99, strata = NULL,\n",
    "        # Reference-based multiple stage normalization\n",
    "        ref.pct = 0.5, stage.no = 6, excl.pct = 0.2,\n",
    "        # Family-wise error rate control\n",
    "        is.fwer = TRUE, verbose = TRUE, return.feature.dat = TRUE\n",
    "    )"
   ]
  },
  {
   "cell_type": "code",
   "execution_count": 217,
   "metadata": {
    "vscode": {
     "languageId": "r"
    }
   },
   "outputs": [],
   "source": [
    "r2_fdr <- as.data.frame(mytest$R2)\n",
    "r2_fdr$padj <- mytest$p.adj.fdr[match(rownames(r2_fdr), names(mytest$p.adj.fdr))]\n",
    "r2_fdr$p <- mytest$p.raw[match(rownames(r2_fdr), names(mytest$p.raw))]"
   ]
  },
  {
   "cell_type": "code",
   "execution_count": 218,
   "metadata": {
    "vscode": {
     "languageId": "r"
    }
   },
   "outputs": [
    {
     "data": {
      "text/html": [
       "<table class=\"dataframe\">\n",
       "<caption>A data.frame: 30 x 3</caption>\n",
       "<thead>\n",
       "\t<tr><th></th><th scope=col>Func1</th><th scope=col>padj</th><th scope=col>p</th></tr>\n",
       "\t<tr><th></th><th scope=col>&lt;dbl&gt;</th><th scope=col>&lt;dbl&gt;</th><th scope=col>&lt;dbl&gt;</th></tr>\n",
       "</thead>\n",
       "<tbody>\n",
       "\t<tr><th scope=row>Cluster_1</th><td>0.0006917645</td><td>0.3737374</td><td>0.19</td></tr>\n",
       "\t<tr><th scope=row>Cluster_10</th><td>0.0009588398</td><td>0.4361260</td><td>0.19</td></tr>\n",
       "\t<tr><th scope=row>Cluster_11</th><td>0.0012493345</td><td>0.4361260</td><td>0.22</td></tr>\n",
       "\t<tr><th scope=row>Cluster_12</th><td>0.0003068340</td><td>0.8899338</td><td>0.95</td></tr>\n",
       "\t<tr><th scope=row>Cluster_13</th><td>0.0010955238</td><td>0.5025253</td><td>0.45</td></tr>\n",
       "\t<tr><th scope=row>Cluster_14</th><td>0.0002887832</td><td>0.8899338</td><td>0.94</td></tr>\n",
       "\t<tr><th scope=row>Cluster_15</th><td>0.0016584815</td><td>0.3737374</td><td>0.09</td></tr>\n",
       "\t<tr><th scope=row>Cluster_16</th><td>0.0002696692</td><td>0.9441077</td><td>0.74</td></tr>\n",
       "\t<tr><th scope=row>Cluster_17</th><td>0.0004963742</td><td>0.8298990</td><td>0.78</td></tr>\n",
       "\t<tr><th scope=row>Cluster_18</th><td>0.0004888649</td><td>0.8574635</td><td>0.78</td></tr>\n",
       "\t<tr><th scope=row>Cluster_19</th><td>0.0033372915</td><td>0.2289562</td><td>0.05</td></tr>\n",
       "\t<tr><th scope=row>Cluster_2</th><td>0.0005323102</td><td>0.6115320</td><td>0.52</td></tr>\n",
       "\t<tr><th scope=row>Cluster_20</th><td>0.0030713233</td><td>0.2289562</td><td>0.05</td></tr>\n",
       "\t<tr><th scope=row>Cluster_21</th><td>0.0012792292</td><td>0.4805954</td><td>0.34</td></tr>\n",
       "\t<tr><th scope=row>Cluster_23</th><td>0.0007024971</td><td>0.6115320</td><td>0.34</td></tr>\n",
       "\t<tr><th scope=row>Cluster_24</th><td>0.0005295369</td><td>0.8574635</td><td>0.57</td></tr>\n",
       "\t<tr><th scope=row>Cluster_25</th><td>0.0009257054</td><td>0.6115320</td><td>0.52</td></tr>\n",
       "\t<tr><th scope=row>Cluster_26</th><td>0.0012021723</td><td>0.4805954</td><td>0.31</td></tr>\n",
       "\t<tr><th scope=row>Cluster_27</th><td>0.0008345279</td><td>0.6115320</td><td>0.56</td></tr>\n",
       "\t<tr><th scope=row>Cluster_28</th><td>0.0018467934</td><td>0.3737374</td><td>0.19</td></tr>\n",
       "\t<tr><th scope=row>Cluster_29</th><td>0.0044598580</td><td>0.1582492</td><td>0.04</td></tr>\n",
       "\t<tr><th scope=row>Cluster_3</th><td>0.0028459442</td><td>0.2289562</td><td>0.04</td></tr>\n",
       "\t<tr><th scope=row>Cluster_30</th><td>0.0020922851</td><td>0.3737374</td><td>0.10</td></tr>\n",
       "\t<tr><th scope=row>Cluster_33</th><td>0.0021444057</td><td>0.3737374</td><td>0.11</td></tr>\n",
       "\t<tr><th scope=row>Cluster_4</th><td>0.0018443419</td><td>0.1363636</td><td>0.02</td></tr>\n",
       "\t<tr><th scope=row>Cluster_5</th><td>0.0020276829</td><td>0.1363636</td><td>0.02</td></tr>\n",
       "\t<tr><th scope=row>Cluster_6</th><td>0.0012503663</td><td>0.4361260</td><td>0.18</td></tr>\n",
       "\t<tr><th scope=row>Cluster_7</th><td>0.0013020216</td><td>0.4361260</td><td>0.15</td></tr>\n",
       "\t<tr><th scope=row>Cluster_8</th><td>0.0019479941</td><td>0.3737374</td><td>0.10</td></tr>\n",
       "\t<tr><th scope=row>Cluster_9</th><td>0.0018802617</td><td>0.3737374</td><td>0.08</td></tr>\n",
       "</tbody>\n",
       "</table>\n"
      ],
      "text/latex": [
       "A data.frame: 30 x 3\n",
       "\\begin{tabular}{r|lll}\n",
       "  & Func1 & padj & p\\\\\n",
       "  & <dbl> & <dbl> & <dbl>\\\\\n",
       "\\hline\n",
       "\tCluster\\_1 & 0.0006917645 & 0.3737374 & 0.19\\\\\n",
       "\tCluster\\_10 & 0.0009588398 & 0.4361260 & 0.19\\\\\n",
       "\tCluster\\_11 & 0.0012493345 & 0.4361260 & 0.22\\\\\n",
       "\tCluster\\_12 & 0.0003068340 & 0.8899338 & 0.95\\\\\n",
       "\tCluster\\_13 & 0.0010955238 & 0.5025253 & 0.45\\\\\n",
       "\tCluster\\_14 & 0.0002887832 & 0.8899338 & 0.94\\\\\n",
       "\tCluster\\_15 & 0.0016584815 & 0.3737374 & 0.09\\\\\n",
       "\tCluster\\_16 & 0.0002696692 & 0.9441077 & 0.74\\\\\n",
       "\tCluster\\_17 & 0.0004963742 & 0.8298990 & 0.78\\\\\n",
       "\tCluster\\_18 & 0.0004888649 & 0.8574635 & 0.78\\\\\n",
       "\tCluster\\_19 & 0.0033372915 & 0.2289562 & 0.05\\\\\n",
       "\tCluster\\_2 & 0.0005323102 & 0.6115320 & 0.52\\\\\n",
       "\tCluster\\_20 & 0.0030713233 & 0.2289562 & 0.05\\\\\n",
       "\tCluster\\_21 & 0.0012792292 & 0.4805954 & 0.34\\\\\n",
       "\tCluster\\_23 & 0.0007024971 & 0.6115320 & 0.34\\\\\n",
       "\tCluster\\_24 & 0.0005295369 & 0.8574635 & 0.57\\\\\n",
       "\tCluster\\_25 & 0.0009257054 & 0.6115320 & 0.52\\\\\n",
       "\tCluster\\_26 & 0.0012021723 & 0.4805954 & 0.31\\\\\n",
       "\tCluster\\_27 & 0.0008345279 & 0.6115320 & 0.56\\\\\n",
       "\tCluster\\_28 & 0.0018467934 & 0.3737374 & 0.19\\\\\n",
       "\tCluster\\_29 & 0.0044598580 & 0.1582492 & 0.04\\\\\n",
       "\tCluster\\_3 & 0.0028459442 & 0.2289562 & 0.04\\\\\n",
       "\tCluster\\_30 & 0.0020922851 & 0.3737374 & 0.10\\\\\n",
       "\tCluster\\_33 & 0.0021444057 & 0.3737374 & 0.11\\\\\n",
       "\tCluster\\_4 & 0.0018443419 & 0.1363636 & 0.02\\\\\n",
       "\tCluster\\_5 & 0.0020276829 & 0.1363636 & 0.02\\\\\n",
       "\tCluster\\_6 & 0.0012503663 & 0.4361260 & 0.18\\\\\n",
       "\tCluster\\_7 & 0.0013020216 & 0.4361260 & 0.15\\\\\n",
       "\tCluster\\_8 & 0.0019479941 & 0.3737374 & 0.10\\\\\n",
       "\tCluster\\_9 & 0.0018802617 & 0.3737374 & 0.08\\\\\n",
       "\\end{tabular}\n"
      ],
      "text/markdown": [
       "\n",
       "A data.frame: 30 x 3\n",
       "\n",
       "| <!--/--> | Func1 &lt;dbl&gt; | padj &lt;dbl&gt; | p &lt;dbl&gt; |\n",
       "|---|---|---|---|\n",
       "| Cluster_1 | 0.0006917645 | 0.3737374 | 0.19 |\n",
       "| Cluster_10 | 0.0009588398 | 0.4361260 | 0.19 |\n",
       "| Cluster_11 | 0.0012493345 | 0.4361260 | 0.22 |\n",
       "| Cluster_12 | 0.0003068340 | 0.8899338 | 0.95 |\n",
       "| Cluster_13 | 0.0010955238 | 0.5025253 | 0.45 |\n",
       "| Cluster_14 | 0.0002887832 | 0.8899338 | 0.94 |\n",
       "| Cluster_15 | 0.0016584815 | 0.3737374 | 0.09 |\n",
       "| Cluster_16 | 0.0002696692 | 0.9441077 | 0.74 |\n",
       "| Cluster_17 | 0.0004963742 | 0.8298990 | 0.78 |\n",
       "| Cluster_18 | 0.0004888649 | 0.8574635 | 0.78 |\n",
       "| Cluster_19 | 0.0033372915 | 0.2289562 | 0.05 |\n",
       "| Cluster_2 | 0.0005323102 | 0.6115320 | 0.52 |\n",
       "| Cluster_20 | 0.0030713233 | 0.2289562 | 0.05 |\n",
       "| Cluster_21 | 0.0012792292 | 0.4805954 | 0.34 |\n",
       "| Cluster_23 | 0.0007024971 | 0.6115320 | 0.34 |\n",
       "| Cluster_24 | 0.0005295369 | 0.8574635 | 0.57 |\n",
       "| Cluster_25 | 0.0009257054 | 0.6115320 | 0.52 |\n",
       "| Cluster_26 | 0.0012021723 | 0.4805954 | 0.31 |\n",
       "| Cluster_27 | 0.0008345279 | 0.6115320 | 0.56 |\n",
       "| Cluster_28 | 0.0018467934 | 0.3737374 | 0.19 |\n",
       "| Cluster_29 | 0.0044598580 | 0.1582492 | 0.04 |\n",
       "| Cluster_3 | 0.0028459442 | 0.2289562 | 0.04 |\n",
       "| Cluster_30 | 0.0020922851 | 0.3737374 | 0.10 |\n",
       "| Cluster_33 | 0.0021444057 | 0.3737374 | 0.11 |\n",
       "| Cluster_4 | 0.0018443419 | 0.1363636 | 0.02 |\n",
       "| Cluster_5 | 0.0020276829 | 0.1363636 | 0.02 |\n",
       "| Cluster_6 | 0.0012503663 | 0.4361260 | 0.18 |\n",
       "| Cluster_7 | 0.0013020216 | 0.4361260 | 0.15 |\n",
       "| Cluster_8 | 0.0019479941 | 0.3737374 | 0.10 |\n",
       "| Cluster_9 | 0.0018802617 | 0.3737374 | 0.08 |\n",
       "\n"
      ],
      "text/plain": [
       "           Func1        padj      p   \n",
       "Cluster_1  0.0006917645 0.3737374 0.19\n",
       "Cluster_10 0.0009588398 0.4361260 0.19\n",
       "Cluster_11 0.0012493345 0.4361260 0.22\n",
       "Cluster_12 0.0003068340 0.8899338 0.95\n",
       "Cluster_13 0.0010955238 0.5025253 0.45\n",
       "Cluster_14 0.0002887832 0.8899338 0.94\n",
       "Cluster_15 0.0016584815 0.3737374 0.09\n",
       "Cluster_16 0.0002696692 0.9441077 0.74\n",
       "Cluster_17 0.0004963742 0.8298990 0.78\n",
       "Cluster_18 0.0004888649 0.8574635 0.78\n",
       "Cluster_19 0.0033372915 0.2289562 0.05\n",
       "Cluster_2  0.0005323102 0.6115320 0.52\n",
       "Cluster_20 0.0030713233 0.2289562 0.05\n",
       "Cluster_21 0.0012792292 0.4805954 0.34\n",
       "Cluster_23 0.0007024971 0.6115320 0.34\n",
       "Cluster_24 0.0005295369 0.8574635 0.57\n",
       "Cluster_25 0.0009257054 0.6115320 0.52\n",
       "Cluster_26 0.0012021723 0.4805954 0.31\n",
       "Cluster_27 0.0008345279 0.6115320 0.56\n",
       "Cluster_28 0.0018467934 0.3737374 0.19\n",
       "Cluster_29 0.0044598580 0.1582492 0.04\n",
       "Cluster_3  0.0028459442 0.2289562 0.04\n",
       "Cluster_30 0.0020922851 0.3737374 0.10\n",
       "Cluster_33 0.0021444057 0.3737374 0.11\n",
       "Cluster_4  0.0018443419 0.1363636 0.02\n",
       "Cluster_5  0.0020276829 0.1363636 0.02\n",
       "Cluster_6  0.0012503663 0.4361260 0.18\n",
       "Cluster_7  0.0013020216 0.4361260 0.15\n",
       "Cluster_8  0.0019479941 0.3737374 0.10\n",
       "Cluster_9  0.0018802617 0.3737374 0.08"
      ]
     },
     "metadata": {},
     "output_type": "display_data"
    }
   ],
   "source": [
    "r2_fdr"
   ]
  },
  {
   "cell_type": "code",
   "execution_count": 219,
   "metadata": {
    "vscode": {
     "languageId": "r"
    }
   },
   "outputs": [
    {
     "data": {
      "text/html": [
       "<table class=\"dataframe\">\n",
       "<caption>A tibble: 5189 x 3</caption>\n",
       "<thead>\n",
       "\t<tr><th scope=col>Xpattern</th><th scope=col>subject</th><th scope=col>hklust</th></tr>\n",
       "\t<tr><th scope=col>&lt;chr&gt;</th><th scope=col>&lt;chr&gt;</th><th scope=col>&lt;chr&gt;</th></tr>\n",
       "</thead>\n",
       "<tbody>\n",
       "\t<tr><td>SPRXGE </td><td>310103_TCRB</td><td>Cluster_4</td></tr>\n",
       "\t<tr><td>SXVGDE </td><td>310103_TCRB</td><td>Cluster_4</td></tr>\n",
       "\t<tr><td>SFXNTE </td><td>310104_TCRB</td><td>Cluster_4</td></tr>\n",
       "\t<tr><td>SGXQNTE</td><td>310104_TCRB</td><td>Cluster_5</td></tr>\n",
       "\t<tr><td>SXRDTE </td><td>310104_TCRB</td><td>Cluster_4</td></tr>\n",
       "\t<tr><td>SLLGXTE</td><td>310104_TCRB</td><td>Cluster_5</td></tr>\n",
       "\t<tr><td>SQGXNTE</td><td>310104_TCRB</td><td>Cluster_5</td></tr>\n",
       "\t<tr><td>SEXQGTE</td><td>310104_TCRB</td><td>Cluster_5</td></tr>\n",
       "\t<tr><td>SXGGTE </td><td>310104_TCRB</td><td>Cluster_4</td></tr>\n",
       "\t<tr><td>SLGGXE </td><td>310104_TCRB</td><td>Cluster_4</td></tr>\n",
       "\t<tr><td>SLXGTE </td><td>310104_TCRB</td><td>Cluster_4</td></tr>\n",
       "\t<tr><td>SLXGGE </td><td>310104_TCRB</td><td>Cluster_4</td></tr>\n",
       "\t<tr><td>RXGGTE </td><td>310104_TCRB</td><td>Cluster_4</td></tr>\n",
       "\t<tr><td>SXTRNTE</td><td>310105_TCRB</td><td>Cluster_5</td></tr>\n",
       "\t<tr><td>SQXGNTE</td><td>310105_TCRB</td><td>Cluster_5</td></tr>\n",
       "\t<tr><td>SXSGNTE</td><td>310105_TCRB</td><td>Cluster_5</td></tr>\n",
       "\t<tr><td>SYXGATE</td><td>310105_TCRB</td><td>Cluster_5</td></tr>\n",
       "\t<tr><td>SLLGXE </td><td>310105_TCRB</td><td>Cluster_4</td></tr>\n",
       "\t<tr><td>SRGXTE </td><td>310105_TCRB</td><td>Cluster_4</td></tr>\n",
       "\t<tr><td>SXDRGTE</td><td>310105_TCRB</td><td>Cluster_5</td></tr>\n",
       "\t<tr><td>SLXGRTE</td><td>310105_TCRB</td><td>Cluster_5</td></tr>\n",
       "\t<tr><td>SLGXNE </td><td>310105_TCRB</td><td>Cluster_4</td></tr>\n",
       "\t<tr><td>SLXGNE </td><td>310105_TCRB</td><td>Cluster_4</td></tr>\n",
       "\t<tr><td>SLGGXE </td><td>310105_TCRB</td><td>Cluster_4</td></tr>\n",
       "\t<tr><td>SLGXNE </td><td>310105_TCRB</td><td>Cluster_4</td></tr>\n",
       "\t<tr><td>SLXMNTE</td><td>310105_TCRB</td><td>Cluster_5</td></tr>\n",
       "\t<tr><td>SLRXNTE</td><td>310105_TCRB</td><td>Cluster_5</td></tr>\n",
       "\t<tr><td>SXRTGE </td><td>310105_TCRB</td><td>Cluster_4</td></tr>\n",
       "\t<tr><td>SAXTGE </td><td>310105_TCRB</td><td>Cluster_4</td></tr>\n",
       "\t<tr><td>SLXRETE</td><td>310105_TCRB</td><td>Cluster_5</td></tr>\n",
       "\t<tr><td>...</td><td>...</td><td>...</td></tr>\n",
       "\t<tr><td>SLXGTE </td><td>Peds_Febrile_Ctrl_3</td><td>Cluster_4</td></tr>\n",
       "\t<tr><td>SFXTGE </td><td>Peds_Febrile_Ctrl_3</td><td>Cluster_4</td></tr>\n",
       "\t<tr><td>SXGTGE </td><td>Peds_Febrile_Ctrl_3</td><td>Cluster_4</td></tr>\n",
       "\t<tr><td>SLGXNE </td><td>Peds_Febrile_Ctrl_3</td><td>Cluster_4</td></tr>\n",
       "\t<tr><td>SLGGXE </td><td>Peds_Febrile_Ctrl_3</td><td>Cluster_4</td></tr>\n",
       "\t<tr><td>SLXGNE </td><td>Peds_Febrile_Ctrl_3</td><td>Cluster_4</td></tr>\n",
       "\t<tr><td>SXGVNTE</td><td>Peds_Febrile_Ctrl_3</td><td>Cluster_5</td></tr>\n",
       "\t<tr><td>SXTVNTE</td><td>Peds_Febrile_Ctrl_6</td><td>Cluster_5</td></tr>\n",
       "\t<tr><td>SLXQNTE</td><td>Peds_Febrile_Ctrl_6</td><td>Cluster_5</td></tr>\n",
       "\t<tr><td>SRGXTE </td><td>Peds_Febrile_Ctrl_6</td><td>Cluster_4</td></tr>\n",
       "\t<tr><td>SXGDTE </td><td>Peds_Febrile_Ctrl_6</td><td>Cluster_4</td></tr>\n",
       "\t<tr><td>SLXSGE </td><td>Peds_Febrile_Ctrl_6</td><td>Cluster_4</td></tr>\n",
       "\t<tr><td>SLAXGE </td><td>Peds_Febrile_Ctrl_6</td><td>Cluster_4</td></tr>\n",
       "\t<tr><td>SESGXTE</td><td>Peds_Febrile_Ctrl_6</td><td>Cluster_5</td></tr>\n",
       "\t<tr><td>SESGXTE</td><td>P00003             </td><td>Cluster_5</td></tr>\n",
       "\t<tr><td>SXRTGE </td><td>Peds_Febrile_Ctrl_6</td><td>Cluster_4</td></tr>\n",
       "\t<tr><td>SXSTSNE</td><td>Peds_Febrile_Ctrl_6</td><td>Cluster_5</td></tr>\n",
       "\t<tr><td>SXDRNTE</td><td>Peds_Febrile_Ctrl_6</td><td>Cluster_5</td></tr>\n",
       "\t<tr><td>SXDRNTE</td><td>sJIA_2             </td><td>Cluster_5</td></tr>\n",
       "\t<tr><td>SEXRNTE</td><td>Peds_Febrile_Ctrl_6</td><td>Cluster_5</td></tr>\n",
       "\t<tr><td>SEXRNTE</td><td>sJIA_2             </td><td>Cluster_5</td></tr>\n",
       "\t<tr><td>SXQGNTE</td><td>Peds_Febrile_Ctrl_6</td><td>Cluster_5</td></tr>\n",
       "\t<tr><td>STGXNTE</td><td>sJIA_2             </td><td>Cluster_5</td></tr>\n",
       "\t<tr><td>SXGQNTE</td><td>sJIA_2             </td><td>Cluster_5</td></tr>\n",
       "\t<tr><td>SQGGXTE</td><td>sJIA_4             </td><td>Cluster_5</td></tr>\n",
       "\t<tr><td>SXDTGE </td><td>sJIA_4             </td><td>Cluster_4</td></tr>\n",
       "\t<tr><td>SQXTGE </td><td>sJIA_4             </td><td>Cluster_4</td></tr>\n",
       "\t<tr><td>SFXGTE </td><td>sJIA_4             </td><td>Cluster_4</td></tr>\n",
       "\t<tr><td>RQXGDE </td><td>sJIA_7             </td><td>Cluster_4</td></tr>\n",
       "\t<tr><td>XRGRDTE</td><td>sJIA_7             </td><td>Cluster_5</td></tr>\n",
       "</tbody>\n",
       "</table>\n"
      ],
      "text/latex": [
       "A tibble: 5189 x 3\n",
       "\\begin{tabular}{lll}\n",
       " Xpattern & subject & hklust\\\\\n",
       " <chr> & <chr> & <chr>\\\\\n",
       "\\hline\n",
       "\t SPRXGE  & 310103\\_TCRB & Cluster\\_4\\\\\n",
       "\t SXVGDE  & 310103\\_TCRB & Cluster\\_4\\\\\n",
       "\t SFXNTE  & 310104\\_TCRB & Cluster\\_4\\\\\n",
       "\t SGXQNTE & 310104\\_TCRB & Cluster\\_5\\\\\n",
       "\t SXRDTE  & 310104\\_TCRB & Cluster\\_4\\\\\n",
       "\t SLLGXTE & 310104\\_TCRB & Cluster\\_5\\\\\n",
       "\t SQGXNTE & 310104\\_TCRB & Cluster\\_5\\\\\n",
       "\t SEXQGTE & 310104\\_TCRB & Cluster\\_5\\\\\n",
       "\t SXGGTE  & 310104\\_TCRB & Cluster\\_4\\\\\n",
       "\t SLGGXE  & 310104\\_TCRB & Cluster\\_4\\\\\n",
       "\t SLXGTE  & 310104\\_TCRB & Cluster\\_4\\\\\n",
       "\t SLXGGE  & 310104\\_TCRB & Cluster\\_4\\\\\n",
       "\t RXGGTE  & 310104\\_TCRB & Cluster\\_4\\\\\n",
       "\t SXTRNTE & 310105\\_TCRB & Cluster\\_5\\\\\n",
       "\t SQXGNTE & 310105\\_TCRB & Cluster\\_5\\\\\n",
       "\t SXSGNTE & 310105\\_TCRB & Cluster\\_5\\\\\n",
       "\t SYXGATE & 310105\\_TCRB & Cluster\\_5\\\\\n",
       "\t SLLGXE  & 310105\\_TCRB & Cluster\\_4\\\\\n",
       "\t SRGXTE  & 310105\\_TCRB & Cluster\\_4\\\\\n",
       "\t SXDRGTE & 310105\\_TCRB & Cluster\\_5\\\\\n",
       "\t SLXGRTE & 310105\\_TCRB & Cluster\\_5\\\\\n",
       "\t SLGXNE  & 310105\\_TCRB & Cluster\\_4\\\\\n",
       "\t SLXGNE  & 310105\\_TCRB & Cluster\\_4\\\\\n",
       "\t SLGGXE  & 310105\\_TCRB & Cluster\\_4\\\\\n",
       "\t SLGXNE  & 310105\\_TCRB & Cluster\\_4\\\\\n",
       "\t SLXMNTE & 310105\\_TCRB & Cluster\\_5\\\\\n",
       "\t SLRXNTE & 310105\\_TCRB & Cluster\\_5\\\\\n",
       "\t SXRTGE  & 310105\\_TCRB & Cluster\\_4\\\\\n",
       "\t SAXTGE  & 310105\\_TCRB & Cluster\\_4\\\\\n",
       "\t SLXRETE & 310105\\_TCRB & Cluster\\_5\\\\\n",
       "\t ... & ... & ...\\\\\n",
       "\t SLXGTE  & Peds\\_Febrile\\_Ctrl\\_3 & Cluster\\_4\\\\\n",
       "\t SFXTGE  & Peds\\_Febrile\\_Ctrl\\_3 & Cluster\\_4\\\\\n",
       "\t SXGTGE  & Peds\\_Febrile\\_Ctrl\\_3 & Cluster\\_4\\\\\n",
       "\t SLGXNE  & Peds\\_Febrile\\_Ctrl\\_3 & Cluster\\_4\\\\\n",
       "\t SLGGXE  & Peds\\_Febrile\\_Ctrl\\_3 & Cluster\\_4\\\\\n",
       "\t SLXGNE  & Peds\\_Febrile\\_Ctrl\\_3 & Cluster\\_4\\\\\n",
       "\t SXGVNTE & Peds\\_Febrile\\_Ctrl\\_3 & Cluster\\_5\\\\\n",
       "\t SXTVNTE & Peds\\_Febrile\\_Ctrl\\_6 & Cluster\\_5\\\\\n",
       "\t SLXQNTE & Peds\\_Febrile\\_Ctrl\\_6 & Cluster\\_5\\\\\n",
       "\t SRGXTE  & Peds\\_Febrile\\_Ctrl\\_6 & Cluster\\_4\\\\\n",
       "\t SXGDTE  & Peds\\_Febrile\\_Ctrl\\_6 & Cluster\\_4\\\\\n",
       "\t SLXSGE  & Peds\\_Febrile\\_Ctrl\\_6 & Cluster\\_4\\\\\n",
       "\t SLAXGE  & Peds\\_Febrile\\_Ctrl\\_6 & Cluster\\_4\\\\\n",
       "\t SESGXTE & Peds\\_Febrile\\_Ctrl\\_6 & Cluster\\_5\\\\\n",
       "\t SESGXTE & P00003              & Cluster\\_5\\\\\n",
       "\t SXRTGE  & Peds\\_Febrile\\_Ctrl\\_6 & Cluster\\_4\\\\\n",
       "\t SXSTSNE & Peds\\_Febrile\\_Ctrl\\_6 & Cluster\\_5\\\\\n",
       "\t SXDRNTE & Peds\\_Febrile\\_Ctrl\\_6 & Cluster\\_5\\\\\n",
       "\t SXDRNTE & sJIA\\_2              & Cluster\\_5\\\\\n",
       "\t SEXRNTE & Peds\\_Febrile\\_Ctrl\\_6 & Cluster\\_5\\\\\n",
       "\t SEXRNTE & sJIA\\_2              & Cluster\\_5\\\\\n",
       "\t SXQGNTE & Peds\\_Febrile\\_Ctrl\\_6 & Cluster\\_5\\\\\n",
       "\t STGXNTE & sJIA\\_2              & Cluster\\_5\\\\\n",
       "\t SXGQNTE & sJIA\\_2              & Cluster\\_5\\\\\n",
       "\t SQGGXTE & sJIA\\_4              & Cluster\\_5\\\\\n",
       "\t SXDTGE  & sJIA\\_4              & Cluster\\_4\\\\\n",
       "\t SQXTGE  & sJIA\\_4              & Cluster\\_4\\\\\n",
       "\t SFXGTE  & sJIA\\_4              & Cluster\\_4\\\\\n",
       "\t RQXGDE  & sJIA\\_7              & Cluster\\_4\\\\\n",
       "\t XRGRDTE & sJIA\\_7              & Cluster\\_5\\\\\n",
       "\\end{tabular}\n"
      ],
      "text/markdown": [
       "\n",
       "A tibble: 5189 x 3\n",
       "\n",
       "| Xpattern &lt;chr&gt; | subject &lt;chr&gt; | hklust &lt;chr&gt; |\n",
       "|---|---|---|\n",
       "| SPRXGE  | 310103_TCRB | Cluster_4 |\n",
       "| SXVGDE  | 310103_TCRB | Cluster_4 |\n",
       "| SFXNTE  | 310104_TCRB | Cluster_4 |\n",
       "| SGXQNTE | 310104_TCRB | Cluster_5 |\n",
       "| SXRDTE  | 310104_TCRB | Cluster_4 |\n",
       "| SLLGXTE | 310104_TCRB | Cluster_5 |\n",
       "| SQGXNTE | 310104_TCRB | Cluster_5 |\n",
       "| SEXQGTE | 310104_TCRB | Cluster_5 |\n",
       "| SXGGTE  | 310104_TCRB | Cluster_4 |\n",
       "| SLGGXE  | 310104_TCRB | Cluster_4 |\n",
       "| SLXGTE  | 310104_TCRB | Cluster_4 |\n",
       "| SLXGGE  | 310104_TCRB | Cluster_4 |\n",
       "| RXGGTE  | 310104_TCRB | Cluster_4 |\n",
       "| SXTRNTE | 310105_TCRB | Cluster_5 |\n",
       "| SQXGNTE | 310105_TCRB | Cluster_5 |\n",
       "| SXSGNTE | 310105_TCRB | Cluster_5 |\n",
       "| SYXGATE | 310105_TCRB | Cluster_5 |\n",
       "| SLLGXE  | 310105_TCRB | Cluster_4 |\n",
       "| SRGXTE  | 310105_TCRB | Cluster_4 |\n",
       "| SXDRGTE | 310105_TCRB | Cluster_5 |\n",
       "| SLXGRTE | 310105_TCRB | Cluster_5 |\n",
       "| SLGXNE  | 310105_TCRB | Cluster_4 |\n",
       "| SLXGNE  | 310105_TCRB | Cluster_4 |\n",
       "| SLGGXE  | 310105_TCRB | Cluster_4 |\n",
       "| SLGXNE  | 310105_TCRB | Cluster_4 |\n",
       "| SLXMNTE | 310105_TCRB | Cluster_5 |\n",
       "| SLRXNTE | 310105_TCRB | Cluster_5 |\n",
       "| SXRTGE  | 310105_TCRB | Cluster_4 |\n",
       "| SAXTGE  | 310105_TCRB | Cluster_4 |\n",
       "| SLXRETE | 310105_TCRB | Cluster_5 |\n",
       "| ... | ... | ... |\n",
       "| SLXGTE  | Peds_Febrile_Ctrl_3 | Cluster_4 |\n",
       "| SFXTGE  | Peds_Febrile_Ctrl_3 | Cluster_4 |\n",
       "| SXGTGE  | Peds_Febrile_Ctrl_3 | Cluster_4 |\n",
       "| SLGXNE  | Peds_Febrile_Ctrl_3 | Cluster_4 |\n",
       "| SLGGXE  | Peds_Febrile_Ctrl_3 | Cluster_4 |\n",
       "| SLXGNE  | Peds_Febrile_Ctrl_3 | Cluster_4 |\n",
       "| SXGVNTE | Peds_Febrile_Ctrl_3 | Cluster_5 |\n",
       "| SXTVNTE | Peds_Febrile_Ctrl_6 | Cluster_5 |\n",
       "| SLXQNTE | Peds_Febrile_Ctrl_6 | Cluster_5 |\n",
       "| SRGXTE  | Peds_Febrile_Ctrl_6 | Cluster_4 |\n",
       "| SXGDTE  | Peds_Febrile_Ctrl_6 | Cluster_4 |\n",
       "| SLXSGE  | Peds_Febrile_Ctrl_6 | Cluster_4 |\n",
       "| SLAXGE  | Peds_Febrile_Ctrl_6 | Cluster_4 |\n",
       "| SESGXTE | Peds_Febrile_Ctrl_6 | Cluster_5 |\n",
       "| SESGXTE | P00003              | Cluster_5 |\n",
       "| SXRTGE  | Peds_Febrile_Ctrl_6 | Cluster_4 |\n",
       "| SXSTSNE | Peds_Febrile_Ctrl_6 | Cluster_5 |\n",
       "| SXDRNTE | Peds_Febrile_Ctrl_6 | Cluster_5 |\n",
       "| SXDRNTE | sJIA_2              | Cluster_5 |\n",
       "| SEXRNTE | Peds_Febrile_Ctrl_6 | Cluster_5 |\n",
       "| SEXRNTE | sJIA_2              | Cluster_5 |\n",
       "| SXQGNTE | Peds_Febrile_Ctrl_6 | Cluster_5 |\n",
       "| STGXNTE | sJIA_2              | Cluster_5 |\n",
       "| SXGQNTE | sJIA_2              | Cluster_5 |\n",
       "| SQGGXTE | sJIA_4              | Cluster_5 |\n",
       "| SXDTGE  | sJIA_4              | Cluster_4 |\n",
       "| SQXTGE  | sJIA_4              | Cluster_4 |\n",
       "| SFXGTE  | sJIA_4              | Cluster_4 |\n",
       "| RQXGDE  | sJIA_7              | Cluster_4 |\n",
       "| XRGRDTE | sJIA_7              | Cluster_5 |\n",
       "\n"
      ],
      "text/plain": [
       "     Xpattern subject             hklust   \n",
       "1    SPRXGE   310103_TCRB         Cluster_4\n",
       "2    SXVGDE   310103_TCRB         Cluster_4\n",
       "3    SFXNTE   310104_TCRB         Cluster_4\n",
       "4    SGXQNTE  310104_TCRB         Cluster_5\n",
       "5    SXRDTE   310104_TCRB         Cluster_4\n",
       "6    SLLGXTE  310104_TCRB         Cluster_5\n",
       "7    SQGXNTE  310104_TCRB         Cluster_5\n",
       "8    SEXQGTE  310104_TCRB         Cluster_5\n",
       "9    SXGGTE   310104_TCRB         Cluster_4\n",
       "10   SLGGXE   310104_TCRB         Cluster_4\n",
       "11   SLXGTE   310104_TCRB         Cluster_4\n",
       "12   SLXGGE   310104_TCRB         Cluster_4\n",
       "13   RXGGTE   310104_TCRB         Cluster_4\n",
       "14   SXTRNTE  310105_TCRB         Cluster_5\n",
       "15   SQXGNTE  310105_TCRB         Cluster_5\n",
       "16   SXSGNTE  310105_TCRB         Cluster_5\n",
       "17   SYXGATE  310105_TCRB         Cluster_5\n",
       "18   SLLGXE   310105_TCRB         Cluster_4\n",
       "19   SRGXTE   310105_TCRB         Cluster_4\n",
       "20   SXDRGTE  310105_TCRB         Cluster_5\n",
       "21   SLXGRTE  310105_TCRB         Cluster_5\n",
       "22   SLGXNE   310105_TCRB         Cluster_4\n",
       "23   SLXGNE   310105_TCRB         Cluster_4\n",
       "24   SLGGXE   310105_TCRB         Cluster_4\n",
       "25   SLGXNE   310105_TCRB         Cluster_4\n",
       "26   SLXMNTE  310105_TCRB         Cluster_5\n",
       "27   SLRXNTE  310105_TCRB         Cluster_5\n",
       "28   SXRTGE   310105_TCRB         Cluster_4\n",
       "29   SAXTGE   310105_TCRB         Cluster_4\n",
       "30   SLXRETE  310105_TCRB         Cluster_5\n",
       "...  ...      ...                 ...      \n",
       "5160 SLXGTE   Peds_Febrile_Ctrl_3 Cluster_4\n",
       "5161 SFXTGE   Peds_Febrile_Ctrl_3 Cluster_4\n",
       "5162 SXGTGE   Peds_Febrile_Ctrl_3 Cluster_4\n",
       "5163 SLGXNE   Peds_Febrile_Ctrl_3 Cluster_4\n",
       "5164 SLGGXE   Peds_Febrile_Ctrl_3 Cluster_4\n",
       "5165 SLXGNE   Peds_Febrile_Ctrl_3 Cluster_4\n",
       "5166 SXGVNTE  Peds_Febrile_Ctrl_3 Cluster_5\n",
       "5167 SXTVNTE  Peds_Febrile_Ctrl_6 Cluster_5\n",
       "5168 SLXQNTE  Peds_Febrile_Ctrl_6 Cluster_5\n",
       "5169 SRGXTE   Peds_Febrile_Ctrl_6 Cluster_4\n",
       "5170 SXGDTE   Peds_Febrile_Ctrl_6 Cluster_4\n",
       "5171 SLXSGE   Peds_Febrile_Ctrl_6 Cluster_4\n",
       "5172 SLAXGE   Peds_Febrile_Ctrl_6 Cluster_4\n",
       "5173 SESGXTE  Peds_Febrile_Ctrl_6 Cluster_5\n",
       "5174 SESGXTE  P00003              Cluster_5\n",
       "5175 SXRTGE   Peds_Febrile_Ctrl_6 Cluster_4\n",
       "5176 SXSTSNE  Peds_Febrile_Ctrl_6 Cluster_5\n",
       "5177 SXDRNTE  Peds_Febrile_Ctrl_6 Cluster_5\n",
       "5178 SXDRNTE  sJIA_2              Cluster_5\n",
       "5179 SEXRNTE  Peds_Febrile_Ctrl_6 Cluster_5\n",
       "5180 SEXRNTE  sJIA_2              Cluster_5\n",
       "5181 SXQGNTE  Peds_Febrile_Ctrl_6 Cluster_5\n",
       "5182 STGXNTE  sJIA_2              Cluster_5\n",
       "5183 SXGQNTE  sJIA_2              Cluster_5\n",
       "5184 SQGGXTE  sJIA_4              Cluster_5\n",
       "5185 SXDTGE   sJIA_4              Cluster_4\n",
       "5186 SQXTGE   sJIA_4              Cluster_4\n",
       "5187 SFXGTE   sJIA_4              Cluster_4\n",
       "5188 RQXGDE   sJIA_7              Cluster_4\n",
       "5189 XRGRDTE  sJIA_7              Cluster_5"
      ]
     },
     "metadata": {},
     "output_type": "display_data"
    }
   ],
   "source": [
    "onetest[ onetest$hklust %in% c(\"Cluster_4\",\"Cluster_5\"), c(\"Xpattern\", \"subject\", \"hklust\")]"
   ]
  },
  {
   "cell_type": "code",
   "execution_count": 225,
   "metadata": {
    "vscode": {
     "languageId": "r"
    }
   },
   "outputs": [
    {
     "data": {
      "text/html": [
       "<style>\n",
       ".dl-inline {width: auto; margin:0; padding: 0}\n",
       ".dl-inline>dt, .dl-inline>dd {float: none; width: auto; display: inline-block}\n",
       ".dl-inline>dt::after {content: \":\\0020\"; padding-right: .5ex}\n",
       ".dl-inline>dt:not(:first-of-type) {padding-left: .5ex}\n",
       "</style><dl class=dl-inline><dt>Cluster_15</dt><dd>7</dd><dt>Cluster_19</dt><dd>11</dd><dt>Cluster_20</dt><dd>13</dd><dt>Cluster_29</dt><dd>21</dd><dt>Cluster_3</dt><dd>22</dd><dt>Cluster_4</dt><dd>25</dd><dt>Cluster_5</dt><dd>26</dd><dt>Cluster_9</dt><dd>30</dd></dl>\n"
      ],
      "text/latex": [
       "\\begin{description*}\n",
       "\\item[Cluster\\textbackslash{}\\_15] 7\n",
       "\\item[Cluster\\textbackslash{}\\_19] 11\n",
       "\\item[Cluster\\textbackslash{}\\_20] 13\n",
       "\\item[Cluster\\textbackslash{}\\_29] 21\n",
       "\\item[Cluster\\textbackslash{}\\_3] 22\n",
       "\\item[Cluster\\textbackslash{}\\_4] 25\n",
       "\\item[Cluster\\textbackslash{}\\_5] 26\n",
       "\\item[Cluster\\textbackslash{}\\_9] 30\n",
       "\\end{description*}\n"
      ],
      "text/markdown": [
       "Cluster_15\n",
       ":   7Cluster_19\n",
       ":   11Cluster_20\n",
       ":   13Cluster_29\n",
       ":   21Cluster_3\n",
       ":   22Cluster_4\n",
       ":   25Cluster_5\n",
       ":   26Cluster_9\n",
       ":   30\n",
       "\n"
      ],
      "text/plain": [
       "Cluster_15 Cluster_19 Cluster_20 Cluster_29  Cluster_3  Cluster_4  Cluster_5 \n",
       "         7         11         13         21         22         25         26 \n",
       " Cluster_9 \n",
       "        30 "
      ]
     },
     "metadata": {},
     "output_type": "display_data"
    }
   ],
   "source": [
    "which(mytest$p.raw < 0.1)"
   ]
  },
  {
   "cell_type": "code",
   "execution_count": 228,
   "metadata": {
    "vscode": {
     "languageId": "r"
    }
   },
   "outputs": [
    {
     "data": {
      "text/html": [
       "<table class=\"dataframe\">\n",
       "<caption>A data.frame: 6 x 9</caption>\n",
       "<thead>\n",
       "\t<tr><th></th><th scope=col>Patient</th><th scope=col>Age</th><th scope=col>sampletype</th><th scope=col>study</th><th scope=col>Agegroup</th><th scope=col>Sex</th><th scope=col>disease</th><th scope=col>sample_name</th><th scope=col>disease_group</th></tr>\n",
       "\t<tr><th></th><th scope=col>&lt;chr&gt;</th><th scope=col>&lt;dbl&gt;</th><th scope=col>&lt;chr&gt;</th><th scope=col>&lt;chr&gt;</th><th scope=col>&lt;chr&gt;</th><th scope=col>&lt;chr&gt;</th><th scope=col>&lt;chr&gt;</th><th scope=col>&lt;chr&gt;</th><th scope=col>&lt;chr&gt;</th></tr>\n",
       "</thead>\n",
       "<tbody>\n",
       "\t<tr><th scope=row>310103_TCRB</th><td>Control 001</td><td>3</td><td>PBMC</td><td>Mitchell</td><td>Child  </td><td>Female</td><td>Ctrl</td><td>310103_TCRB</td><td>Non-Cancer</td></tr>\n",
       "\t<tr><th scope=row>310104_TCRB</th><td>Control 002</td><td>1</td><td>PBMC</td><td>Mitchell</td><td>Neonate</td><td>Male  </td><td>Ctrl</td><td>310104_TCRB</td><td>Non-Cancer</td></tr>\n",
       "\t<tr><th scope=row>310105_TCRB</th><td>Subject 019</td><td>1</td><td>PBMC</td><td>Mitchell</td><td>Neonate</td><td>Male  </td><td>T1D </td><td>310105_TCRB</td><td>Non-Cancer</td></tr>\n",
       "\t<tr><th scope=row>310106_TCRB</th><td>Control 023</td><td>1</td><td>PBMC</td><td>Mitchell</td><td>Neonate</td><td>Male  </td><td>Ctrl</td><td>310106_TCRB</td><td>Non-Cancer</td></tr>\n",
       "\t<tr><th scope=row>310108_TCRB</th><td>Control 015</td><td>0</td><td>PBMC</td><td>Mitchell</td><td>Neonate</td><td>Female</td><td>Ctrl</td><td>310108_TCRB</td><td>Non-Cancer</td></tr>\n",
       "\t<tr><th scope=row>310109_TCRB</th><td>Control 020</td><td>1</td><td>PBMC</td><td>Mitchell</td><td>Neonate</td><td>Male  </td><td>Ctrl</td><td>310109_TCRB</td><td>Non-Cancer</td></tr>\n",
       "</tbody>\n",
       "</table>\n"
      ],
      "text/latex": [
       "A data.frame: 6 x 9\n",
       "\\begin{tabular}{r|lllllllll}\n",
       "  & Patient & Age & sampletype & study & Agegroup & Sex & disease & sample\\_name & disease\\_group\\\\\n",
       "  & <chr> & <dbl> & <chr> & <chr> & <chr> & <chr> & <chr> & <chr> & <chr>\\\\\n",
       "\\hline\n",
       "\t310103\\_TCRB & Control 001 & 3 & PBMC & Mitchell & Child   & Female & Ctrl & 310103\\_TCRB & Non-Cancer\\\\\n",
       "\t310104\\_TCRB & Control 002 & 1 & PBMC & Mitchell & Neonate & Male   & Ctrl & 310104\\_TCRB & Non-Cancer\\\\\n",
       "\t310105\\_TCRB & Subject 019 & 1 & PBMC & Mitchell & Neonate & Male   & T1D  & 310105\\_TCRB & Non-Cancer\\\\\n",
       "\t310106\\_TCRB & Control 023 & 1 & PBMC & Mitchell & Neonate & Male   & Ctrl & 310106\\_TCRB & Non-Cancer\\\\\n",
       "\t310108\\_TCRB & Control 015 & 0 & PBMC & Mitchell & Neonate & Female & Ctrl & 310108\\_TCRB & Non-Cancer\\\\\n",
       "\t310109\\_TCRB & Control 020 & 1 & PBMC & Mitchell & Neonate & Male   & Ctrl & 310109\\_TCRB & Non-Cancer\\\\\n",
       "\\end{tabular}\n"
      ],
      "text/markdown": [
       "\n",
       "A data.frame: 6 x 9\n",
       "\n",
       "| <!--/--> | Patient &lt;chr&gt; | Age &lt;dbl&gt; | sampletype &lt;chr&gt; | study &lt;chr&gt; | Agegroup &lt;chr&gt; | Sex &lt;chr&gt; | disease &lt;chr&gt; | sample_name &lt;chr&gt; | disease_group &lt;chr&gt; |\n",
       "|---|---|---|---|---|---|---|---|---|---|\n",
       "| 310103_TCRB | Control 001 | 3 | PBMC | Mitchell | Child   | Female | Ctrl | 310103_TCRB | Non-Cancer |\n",
       "| 310104_TCRB | Control 002 | 1 | PBMC | Mitchell | Neonate | Male   | Ctrl | 310104_TCRB | Non-Cancer |\n",
       "| 310105_TCRB | Subject 019 | 1 | PBMC | Mitchell | Neonate | Male   | T1D  | 310105_TCRB | Non-Cancer |\n",
       "| 310106_TCRB | Control 023 | 1 | PBMC | Mitchell | Neonate | Male   | Ctrl | 310106_TCRB | Non-Cancer |\n",
       "| 310108_TCRB | Control 015 | 0 | PBMC | Mitchell | Neonate | Female | Ctrl | 310108_TCRB | Non-Cancer |\n",
       "| 310109_TCRB | Control 020 | 1 | PBMC | Mitchell | Neonate | Male   | Ctrl | 310109_TCRB | Non-Cancer |\n",
       "\n"
      ],
      "text/plain": [
       "            Patient     Age sampletype study    Agegroup Sex    disease\n",
       "310103_TCRB Control 001 3   PBMC       Mitchell Child    Female Ctrl   \n",
       "310104_TCRB Control 002 1   PBMC       Mitchell Neonate  Male   Ctrl   \n",
       "310105_TCRB Subject 019 1   PBMC       Mitchell Neonate  Male   T1D    \n",
       "310106_TCRB Control 023 1   PBMC       Mitchell Neonate  Male   Ctrl   \n",
       "310108_TCRB Control 015 0   PBMC       Mitchell Neonate  Female Ctrl   \n",
       "310109_TCRB Control 020 1   PBMC       Mitchell Neonate  Male   Ctrl   \n",
       "            sample_name disease_group\n",
       "310103_TCRB 310103_TCRB Non-Cancer   \n",
       "310104_TCRB 310104_TCRB Non-Cancer   \n",
       "310105_TCRB 310105_TCRB Non-Cancer   \n",
       "310106_TCRB 310106_TCRB Non-Cancer   \n",
       "310108_TCRB 310108_TCRB Non-Cancer   \n",
       "310109_TCRB 310109_TCRB Non-Cancer   "
      ]
     },
     "metadata": {},
     "output_type": "display_data"
    }
   ],
   "source": [
    "head(metadata_matched)"
   ]
  },
  {
   "cell_type": "code",
   "execution_count": 230,
   "metadata": {
    "vscode": {
     "languageId": "r"
    }
   },
   "outputs": [
    {
     "data": {
      "text/html": [
       "<style>\n",
       ".list-inline {list-style: none; margin:0; padding: 0}\n",
       ".list-inline>li {display: inline-block}\n",
       ".list-inline>li:not(:last-child)::after {content: \"\\00b7\"; padding: 0 .5ex}\n",
       "</style>\n",
       "<ol class=list-inline><li>'call'</li><li>'feature.dat'</li><li>'filter.features'</li><li>'ref.features'</li><li>'R2'</li><li>'F0'</li><li>'RSS'</li><li>'df.model'</li><li>'df.residual'</li><li>'coef.list'</li><li>'p.raw'</li><li>'p.adj.fdr'</li><li>'p.adj.fwer'</li></ol>\n"
      ],
      "text/latex": [
       "\\begin{enumerate*}\n",
       "\\item 'call'\n",
       "\\item 'feature.dat'\n",
       "\\item 'filter.features'\n",
       "\\item 'ref.features'\n",
       "\\item 'R2'\n",
       "\\item 'F0'\n",
       "\\item 'RSS'\n",
       "\\item 'df.model'\n",
       "\\item 'df.residual'\n",
       "\\item 'coef.list'\n",
       "\\item 'p.raw'\n",
       "\\item 'p.adj.fdr'\n",
       "\\item 'p.adj.fwer'\n",
       "\\end{enumerate*}\n"
      ],
      "text/markdown": [
       "1. 'call'\n",
       "2. 'feature.dat'\n",
       "3. 'filter.features'\n",
       "4. 'ref.features'\n",
       "5. 'R2'\n",
       "6. 'F0'\n",
       "7. 'RSS'\n",
       "8. 'df.model'\n",
       "9. 'df.residual'\n",
       "10. 'coef.list'\n",
       "11. 'p.raw'\n",
       "12. 'p.adj.fdr'\n",
       "13. 'p.adj.fwer'\n",
       "\n",
       "\n"
      ],
      "text/plain": [
       " [1] \"call\"            \"feature.dat\"     \"filter.features\" \"ref.features\"   \n",
       " [5] \"R2\"              \"F0\"              \"RSS\"             \"df.model\"       \n",
       " [9] \"df.residual\"     \"coef.list\"       \"p.raw\"           \"p.adj.fdr\"      \n",
       "[13] \"p.adj.fwer\"     "
      ]
     },
     "metadata": {},
     "output_type": "display_data"
    }
   ],
   "source": [
    "names(mytest)"
   ]
  },
  {
   "cell_type": "code",
   "execution_count": 231,
   "metadata": {
    "vscode": {
     "languageId": "r"
    }
   },
   "outputs": [
    {
     "data": {
      "text/html": [
       "<table class=\"dataframe\">\n",
       "<caption>A data.frame: 6 x 3</caption>\n",
       "<thead>\n",
       "\t<tr><th></th><th scope=col>Func1</th><th scope=col>padj</th><th scope=col>p</th></tr>\n",
       "\t<tr><th></th><th scope=col>&lt;dbl&gt;</th><th scope=col>&lt;dbl&gt;</th><th scope=col>&lt;dbl&gt;</th></tr>\n",
       "</thead>\n",
       "<tbody>\n",
       "\t<tr><th scope=row>Cluster_1</th><td>0.0006917645</td><td>0.3737374</td><td>0.19</td></tr>\n",
       "\t<tr><th scope=row>Cluster_10</th><td>0.0009588398</td><td>0.4361260</td><td>0.19</td></tr>\n",
       "\t<tr><th scope=row>Cluster_11</th><td>0.0012493345</td><td>0.4361260</td><td>0.22</td></tr>\n",
       "\t<tr><th scope=row>Cluster_12</th><td>0.0003068340</td><td>0.8899338</td><td>0.95</td></tr>\n",
       "\t<tr><th scope=row>Cluster_13</th><td>0.0010955238</td><td>0.5025253</td><td>0.45</td></tr>\n",
       "\t<tr><th scope=row>Cluster_14</th><td>0.0002887832</td><td>0.8899338</td><td>0.94</td></tr>\n",
       "</tbody>\n",
       "</table>\n"
      ],
      "text/latex": [
       "A data.frame: 6 x 3\n",
       "\\begin{tabular}{r|lll}\n",
       "  & Func1 & padj & p\\\\\n",
       "  & <dbl> & <dbl> & <dbl>\\\\\n",
       "\\hline\n",
       "\tCluster\\_1 & 0.0006917645 & 0.3737374 & 0.19\\\\\n",
       "\tCluster\\_10 & 0.0009588398 & 0.4361260 & 0.19\\\\\n",
       "\tCluster\\_11 & 0.0012493345 & 0.4361260 & 0.22\\\\\n",
       "\tCluster\\_12 & 0.0003068340 & 0.8899338 & 0.95\\\\\n",
       "\tCluster\\_13 & 0.0010955238 & 0.5025253 & 0.45\\\\\n",
       "\tCluster\\_14 & 0.0002887832 & 0.8899338 & 0.94\\\\\n",
       "\\end{tabular}\n"
      ],
      "text/markdown": [
       "\n",
       "A data.frame: 6 x 3\n",
       "\n",
       "| <!--/--> | Func1 &lt;dbl&gt; | padj &lt;dbl&gt; | p &lt;dbl&gt; |\n",
       "|---|---|---|---|\n",
       "| Cluster_1 | 0.0006917645 | 0.3737374 | 0.19 |\n",
       "| Cluster_10 | 0.0009588398 | 0.4361260 | 0.19 |\n",
       "| Cluster_11 | 0.0012493345 | 0.4361260 | 0.22 |\n",
       "| Cluster_12 | 0.0003068340 | 0.8899338 | 0.95 |\n",
       "| Cluster_13 | 0.0010955238 | 0.5025253 | 0.45 |\n",
       "| Cluster_14 | 0.0002887832 | 0.8899338 | 0.94 |\n",
       "\n"
      ],
      "text/plain": [
       "           Func1        padj      p   \n",
       "Cluster_1  0.0006917645 0.3737374 0.19\n",
       "Cluster_10 0.0009588398 0.4361260 0.19\n",
       "Cluster_11 0.0012493345 0.4361260 0.22\n",
       "Cluster_12 0.0003068340 0.8899338 0.95\n",
       "Cluster_13 0.0010955238 0.5025253 0.45\n",
       "Cluster_14 0.0002887832 0.8899338 0.94"
      ]
     },
     "metadata": {},
     "output_type": "display_data"
    }
   ],
   "source": [
    "head(r2_fdr)"
   ]
  },
  {
   "cell_type": "code",
   "execution_count": 235,
   "metadata": {
    "vscode": {
     "languageId": "r"
    }
   },
   "outputs": [],
   "source": [
    "p <- ggplot(r2_fdr, aes(x=Func1, y=-log10(padj))) +\n",
    "    geom_point(size=2.5) +\n",
    "    #scale_colour_manual(values = c(\"Down-regulated\"= \"blue\", \"Up-regulated\"=\"red\",  \"not significant\"= \"black\")) +    \n",
    "\n",
    "    myplot + myaxis +\n",
    "    theme(axis.text.x = element_text(size = 30, angle = 0, hjust = 0.5),\n",
    "          axis.title = element_text(size = 30), axis.text.y = element_text(size = 30),\n",
    "          plot.title = element_text(size = 30, hjust = 0.5), legend.position = \"none\") + \n",
    "    labs(x = \"Fold change (Log2)\" ,y = \"p-value (-Log10)\")     "
   ]
  },
  {
   "cell_type": "code",
   "execution_count": 236,
   "metadata": {
    "vscode": {
     "languageId": "r"
    }
   },
   "outputs": [
    {
     "data": {
      "image/png": "[encoded data removed]",
      "text/plain": [
       "plot without title"
      ]
     },
     "metadata": {
      "image/png": {
       "height": 420,
       "width": 420
      }
     },
     "output_type": "display_data"
    }
   ],
   "source": [
    "p"
   ]
  },
  {
   "cell_type": "code",
   "execution_count": null,
   "metadata": {
    "vscode": {
     "languageId": "r"
    }
   },
   "outputs": [],
   "source": [
    "dds <- DESeqDataSetFromTximport(txi, colData = metadata, \n",
    "                                design = ~ EA.Sequencing.Batch + disease_group + sample_origin + response)\n",
    "dds$response <- relevel(dds$response, ref = \"No\")"
   ]
  },
  {
   "cell_type": "code",
   "execution_count": null,
   "metadata": {
    "vscode": {
     "languageId": "r"
    }
   },
   "outputs": [],
   "source": [
    "dds1 <- DESeq(ddsoriginal, parallel = TRUE)"
   ]
  },
  {
   "cell_type": "code",
   "execution_count": null,
   "metadata": {
    "vscode": {
     "languageId": "r"
    }
   },
   "outputs": [],
   "source": []
  },
  {
   "cell_type": "code",
   "execution_count": null,
   "metadata": {
    "vscode": {
     "languageId": "r"
    }
   },
   "outputs": [],
   "source": []
  },
  {
   "cell_type": "code",
   "execution_count": null,
   "metadata": {
    "vscode": {
     "languageId": "r"
    }
   },
   "outputs": [],
   "source": []
  },
  {
   "cell_type": "code",
   "execution_count": 154,
   "metadata": {
    "vscode": {
     "languageId": "r"
    }
   },
   "outputs": [
    {
     "data": {
      "text/html": [
       "<table class=\"dataframe\">\n",
       "<caption>A data.frame: 6 x 26</caption>\n",
       "<thead>\n",
       "\t<tr><th></th><th scope=col>Sample</th><th scope=col>index.x</th><th scope=col>pattern</th><th scope=col>Fisher_score</th><th scope=col>number_subject</th><th scope=col>number_unique_cdr3</th><th scope=col>final_score</th><th scope=col>hla_score</th><th scope=col>vb_score</th><th scope=col>expansion_score</th><th scope=col>...</th><th scope=col>TcRa</th><th scope=col>Freq</th><th scope=col>CDR3b</th><th scope=col>TRBV</th><th scope=col>TRBJ</th><th scope=col>count</th><th scope=col>clonefraction</th><th scope=col>subject</th><th scope=col>file</th><th scope=col>index.y</th></tr>\n",
       "\t<tr><th></th><th scope=col>&lt;chr&gt;</th><th scope=col>&lt;int&gt;</th><th scope=col>&lt;chr&gt;</th><th scope=col>&lt;dbl&gt;</th><th scope=col>&lt;int&gt;</th><th scope=col>&lt;int&gt;</th><th scope=col>&lt;dbl&gt;</th><th scope=col>&lt;dbl&gt;</th><th scope=col>&lt;dbl&gt;</th><th scope=col>&lt;dbl&gt;</th><th scope=col>...</th><th scope=col>&lt;lgl&gt;</th><th scope=col>&lt;dbl&gt;</th><th scope=col>&lt;chr&gt;</th><th scope=col>&lt;chr&gt;</th><th scope=col>&lt;chr&gt;</th><th scope=col>&lt;int&gt;</th><th scope=col>&lt;dbl&gt;</th><th scope=col>&lt;chr&gt;</th><th scope=col>&lt;chr&gt;</th><th scope=col>&lt;int&gt;</th></tr>\n",
       "</thead>\n",
       "<tbody>\n",
       "\t<tr><th scope=row>1</th><td>310102_TCRB:6569</td><td>213</td><td>SDL%T  </td><td>1.6e-04</td><td> 7</td><td> 7</td><td>3.0e-09</td><td>1</td><td>0.005</td><td>0.700</td><td>...</td><td>NA</td><td>0</td><td>CATSDLETQYF  </td><td>TRBV24-01</td><td>TRBJ02-05</td><td>NA</td><td>8.252664e-06</td><td>310102_TCRB</td><td>/cluster/projects/pughlab/projects/INTERCEPT/Adaptive/Mitchell_Michels2022/310102_TCRB.tsv</td><td>6569</td></tr>\n",
       "\t<tr><th scope=row>2</th><td>310102_TCRB:6579</td><td>161</td><td>S%GESQP</td><td>8.7e-05</td><td> 5</td><td> 5</td><td>6.4e-07</td><td>1</td><td>0.460</td><td>0.960</td><td>...</td><td>NA</td><td>0</td><td>CSASGGESQPQHF</td><td>TRBV20-01</td><td>TRBJ01-05</td><td>NA</td><td>1.650533e-05</td><td>310102_TCRB</td><td>/cluster/projects/pughlab/projects/INTERCEPT/Adaptive/Mitchell_Michels2022/310102_TCRB.tsv</td><td>6579</td></tr>\n",
       "\t<tr><th scope=row>3</th><td>310103_TCRB:6665</td><td>171</td><td>S%RDNTE</td><td>8.8e-05</td><td>10</td><td> 8</td><td>1.5e-08</td><td>1</td><td>0.130</td><td>0.130</td><td>...</td><td>NA</td><td>0</td><td>CASSIRDNTEAFF</td><td>TRBV19-01</td><td>TRBJ01-01</td><td>NA</td><td>1.085717e-05</td><td>310103_TCRB</td><td>/cluster/projects/pughlab/projects/INTERCEPT/Adaptive/Mitchell_Michels2022/310103_TCRB.tsv</td><td>6665</td></tr>\n",
       "\t<tr><th scope=row>4</th><td>310104_TCRB:6701</td><td> 16</td><td>S%SGNT </td><td>2.4e-07</td><td>49</td><td>26</td><td>1.4e-09</td><td>1</td><td>1.000</td><td>0.036</td><td>...</td><td>NA</td><td>0</td><td>CASSPSGNTIYF </td><td>TRBV14-01</td><td>TRBJ01-03</td><td>NA</td><td>5.449324e-06</td><td>310104_TCRB</td><td>/cluster/projects/pughlab/projects/INTERCEPT/Adaptive/Mitchell_Michels2022/310104_TCRB.tsv</td><td>6701</td></tr>\n",
       "\t<tr><th scope=row>5</th><td>310104_TCRB:6708</td><td>251</td><td>S%GQP  </td><td>2.1e-04</td><td>23</td><td>15</td><td>6.2e-08</td><td>1</td><td>0.990</td><td>0.660</td><td>...</td><td>NA</td><td>0</td><td>CASSTGQPQHF  </td><td>TRBV19-01</td><td>TRBJ01-05</td><td>NA</td><td>5.449324e-06</td><td>310104_TCRB</td><td>/cluster/projects/pughlab/projects/INTERCEPT/Adaptive/Mitchell_Michels2022/310104_TCRB.tsv</td><td>6708</td></tr>\n",
       "\t<tr><th scope=row>6</th><td>310104_TCRB:6734</td><td>179</td><td>SLA%E  </td><td>9.4e-05</td><td>46</td><td>25</td><td>6.8e-10</td><td>1</td><td>0.190</td><td>0.070</td><td>...</td><td>NA</td><td>0</td><td>CASSLAEEQFF  </td><td>TRBV07-08</td><td>TRBJ02-01</td><td>NA</td><td>5.449324e-06</td><td>310104_TCRB</td><td>/cluster/projects/pughlab/projects/INTERCEPT/Adaptive/Mitchell_Michels2022/310104_TCRB.tsv</td><td>6734</td></tr>\n",
       "</tbody>\n",
       "</table>\n"
      ],
      "text/latex": [
       "A data.frame: 6 x 26\n",
       "\\begin{tabular}{r|lllllllllllllllllllll}\n",
       "  & Sample & index.x & pattern & Fisher\\_score & number\\_subject & number\\_unique\\_cdr3 & final\\_score & hla\\_score & vb\\_score & expansion\\_score & ... & TcRa & Freq & CDR3b & TRBV & TRBJ & count & clonefraction & subject & file & index.y\\\\\n",
       "  & <chr> & <int> & <chr> & <dbl> & <int> & <int> & <dbl> & <dbl> & <dbl> & <dbl> & ... & <lgl> & <dbl> & <chr> & <chr> & <chr> & <int> & <dbl> & <chr> & <chr> & <int>\\\\\n",
       "\\hline\n",
       "\t1 & 310102\\_TCRB:6569 & 213 & SDL\\%T   & 1.6e-04 &  7 &  7 & 3.0e-09 & 1 & 0.005 & 0.700 & ... & NA & 0 & CATSDLETQYF   & TRBV24-01 & TRBJ02-05 & NA & 8.252664e-06 & 310102\\_TCRB & /cluster/projects/pughlab/projects/INTERCEPT/Adaptive/Mitchell\\_Michels2022/310102\\_TCRB.tsv & 6569\\\\\n",
       "\t2 & 310102\\_TCRB:6579 & 161 & S\\%GESQP & 8.7e-05 &  5 &  5 & 6.4e-07 & 1 & 0.460 & 0.960 & ... & NA & 0 & CSASGGESQPQHF & TRBV20-01 & TRBJ01-05 & NA & 1.650533e-05 & 310102\\_TCRB & /cluster/projects/pughlab/projects/INTERCEPT/Adaptive/Mitchell\\_Michels2022/310102\\_TCRB.tsv & 6579\\\\\n",
       "\t3 & 310103\\_TCRB:6665 & 171 & S\\%RDNTE & 8.8e-05 & 10 &  8 & 1.5e-08 & 1 & 0.130 & 0.130 & ... & NA & 0 & CASSIRDNTEAFF & TRBV19-01 & TRBJ01-01 & NA & 1.085717e-05 & 310103\\_TCRB & /cluster/projects/pughlab/projects/INTERCEPT/Adaptive/Mitchell\\_Michels2022/310103\\_TCRB.tsv & 6665\\\\\n",
       "\t4 & 310104\\_TCRB:6701 &  16 & S\\%SGNT  & 2.4e-07 & 49 & 26 & 1.4e-09 & 1 & 1.000 & 0.036 & ... & NA & 0 & CASSPSGNTIYF  & TRBV14-01 & TRBJ01-03 & NA & 5.449324e-06 & 310104\\_TCRB & /cluster/projects/pughlab/projects/INTERCEPT/Adaptive/Mitchell\\_Michels2022/310104\\_TCRB.tsv & 6701\\\\\n",
       "\t5 & 310104\\_TCRB:6708 & 251 & S\\%GQP   & 2.1e-04 & 23 & 15 & 6.2e-08 & 1 & 0.990 & 0.660 & ... & NA & 0 & CASSTGQPQHF   & TRBV19-01 & TRBJ01-05 & NA & 5.449324e-06 & 310104\\_TCRB & /cluster/projects/pughlab/projects/INTERCEPT/Adaptive/Mitchell\\_Michels2022/310104\\_TCRB.tsv & 6708\\\\\n",
       "\t6 & 310104\\_TCRB:6734 & 179 & SLA\\%E   & 9.4e-05 & 46 & 25 & 6.8e-10 & 1 & 0.190 & 0.070 & ... & NA & 0 & CASSLAEEQFF   & TRBV07-08 & TRBJ02-01 & NA & 5.449324e-06 & 310104\\_TCRB & /cluster/projects/pughlab/projects/INTERCEPT/Adaptive/Mitchell\\_Michels2022/310104\\_TCRB.tsv & 6734\\\\\n",
       "\\end{tabular}\n"
      ],
      "text/markdown": [
       "\n",
       "A data.frame: 6 x 26\n",
       "\n",
       "| <!--/--> | Sample &lt;chr&gt; | index.x &lt;int&gt; | pattern &lt;chr&gt; | Fisher_score &lt;dbl&gt; | number_subject &lt;int&gt; | number_unique_cdr3 &lt;int&gt; | final_score &lt;dbl&gt; | hla_score &lt;dbl&gt; | vb_score &lt;dbl&gt; | expansion_score &lt;dbl&gt; | ... ... | TcRa &lt;lgl&gt; | Freq &lt;dbl&gt; | CDR3b &lt;chr&gt; | TRBV &lt;chr&gt; | TRBJ &lt;chr&gt; | count &lt;int&gt; | clonefraction &lt;dbl&gt; | subject &lt;chr&gt; | file &lt;chr&gt; | index.y &lt;int&gt; |\n",
       "|---|---|---|---|---|---|---|---|---|---|---|---|---|---|---|---|---|---|---|---|---|---|\n",
       "| 1 | 310102_TCRB:6569 | 213 | SDL%T   | 1.6e-04 |  7 |  7 | 3.0e-09 | 1 | 0.005 | 0.700 | ... | NA | 0 | CATSDLETQYF   | TRBV24-01 | TRBJ02-05 | NA | 8.252664e-06 | 310102_TCRB | /cluster/projects/pughlab/projects/INTERCEPT/Adaptive/Mitchell_Michels2022/310102_TCRB.tsv | 6569 |\n",
       "| 2 | 310102_TCRB:6579 | 161 | S%GESQP | 8.7e-05 |  5 |  5 | 6.4e-07 | 1 | 0.460 | 0.960 | ... | NA | 0 | CSASGGESQPQHF | TRBV20-01 | TRBJ01-05 | NA | 1.650533e-05 | 310102_TCRB | /cluster/projects/pughlab/projects/INTERCEPT/Adaptive/Mitchell_Michels2022/310102_TCRB.tsv | 6579 |\n",
       "| 3 | 310103_TCRB:6665 | 171 | S%RDNTE | 8.8e-05 | 10 |  8 | 1.5e-08 | 1 | 0.130 | 0.130 | ... | NA | 0 | CASSIRDNTEAFF | TRBV19-01 | TRBJ01-01 | NA | 1.085717e-05 | 310103_TCRB | /cluster/projects/pughlab/projects/INTERCEPT/Adaptive/Mitchell_Michels2022/310103_TCRB.tsv | 6665 |\n",
       "| 4 | 310104_TCRB:6701 |  16 | S%SGNT  | 2.4e-07 | 49 | 26 | 1.4e-09 | 1 | 1.000 | 0.036 | ... | NA | 0 | CASSPSGNTIYF  | TRBV14-01 | TRBJ01-03 | NA | 5.449324e-06 | 310104_TCRB | /cluster/projects/pughlab/projects/INTERCEPT/Adaptive/Mitchell_Michels2022/310104_TCRB.tsv | 6701 |\n",
       "| 5 | 310104_TCRB:6708 | 251 | S%GQP   | 2.1e-04 | 23 | 15 | 6.2e-08 | 1 | 0.990 | 0.660 | ... | NA | 0 | CASSTGQPQHF   | TRBV19-01 | TRBJ01-05 | NA | 5.449324e-06 | 310104_TCRB | /cluster/projects/pughlab/projects/INTERCEPT/Adaptive/Mitchell_Michels2022/310104_TCRB.tsv | 6708 |\n",
       "| 6 | 310104_TCRB:6734 | 179 | SLA%E   | 9.4e-05 | 46 | 25 | 6.8e-10 | 1 | 0.190 | 0.070 | ... | NA | 0 | CASSLAEEQFF   | TRBV07-08 | TRBJ02-01 | NA | 5.449324e-06 | 310104_TCRB | /cluster/projects/pughlab/projects/INTERCEPT/Adaptive/Mitchell_Michels2022/310104_TCRB.tsv | 6734 |\n",
       "\n"
      ],
      "text/plain": [
       "  Sample           index.x pattern Fisher_score number_subject\n",
       "1 310102_TCRB:6569 213     SDL%T   1.6e-04       7            \n",
       "2 310102_TCRB:6579 161     S%GESQP 8.7e-05       5            \n",
       "3 310103_TCRB:6665 171     S%RDNTE 8.8e-05      10            \n",
       "4 310104_TCRB:6701  16     S%SGNT  2.4e-07      49            \n",
       "5 310104_TCRB:6708 251     S%GQP   2.1e-04      23            \n",
       "6 310104_TCRB:6734 179     SLA%E   9.4e-05      46            \n",
       "  number_unique_cdr3 final_score hla_score vb_score expansion_score ... TcRa\n",
       "1  7                 3.0e-09     1         0.005    0.700           ... NA  \n",
       "2  5                 6.4e-07     1         0.460    0.960           ... NA  \n",
       "3  8                 1.5e-08     1         0.130    0.130           ... NA  \n",
       "4 26                 1.4e-09     1         1.000    0.036           ... NA  \n",
       "5 15                 6.2e-08     1         0.990    0.660           ... NA  \n",
       "6 25                 6.8e-10     1         0.190    0.070           ... NA  \n",
       "  Freq CDR3b         TRBV      TRBJ      count clonefraction subject    \n",
       "1 0    CATSDLETQYF   TRBV24-01 TRBJ02-05 NA    8.252664e-06  310102_TCRB\n",
       "2 0    CSASGGESQPQHF TRBV20-01 TRBJ01-05 NA    1.650533e-05  310102_TCRB\n",
       "3 0    CASSIRDNTEAFF TRBV19-01 TRBJ01-01 NA    1.085717e-05  310103_TCRB\n",
       "4 0    CASSPSGNTIYF  TRBV14-01 TRBJ01-03 NA    5.449324e-06  310104_TCRB\n",
       "5 0    CASSTGQPQHF   TRBV19-01 TRBJ01-05 NA    5.449324e-06  310104_TCRB\n",
       "6 0    CASSLAEEQFF   TRBV07-08 TRBJ02-01 NA    5.449324e-06  310104_TCRB\n",
       "  file                                                                                      \n",
       "1 /cluster/projects/pughlab/projects/INTERCEPT/Adaptive/Mitchell_Michels2022/310102_TCRB.tsv\n",
       "2 /cluster/projects/pughlab/projects/INTERCEPT/Adaptive/Mitchell_Michels2022/310102_TCRB.tsv\n",
       "3 /cluster/projects/pughlab/projects/INTERCEPT/Adaptive/Mitchell_Michels2022/310103_TCRB.tsv\n",
       "4 /cluster/projects/pughlab/projects/INTERCEPT/Adaptive/Mitchell_Michels2022/310104_TCRB.tsv\n",
       "5 /cluster/projects/pughlab/projects/INTERCEPT/Adaptive/Mitchell_Michels2022/310104_TCRB.tsv\n",
       "6 /cluster/projects/pughlab/projects/INTERCEPT/Adaptive/Mitchell_Michels2022/310104_TCRB.tsv\n",
       "  index.y\n",
       "1 6569   \n",
       "2 6579   \n",
       "3 6665   \n",
       "4 6701   \n",
       "5 6708   \n",
       "6 6734   "
      ]
     },
     "metadata": {},
     "output_type": "display_data"
    }
   ],
   "source": [
    "head(onetest)"
   ]
  },
  {
   "cell_type": "code",
   "execution_count": null,
   "metadata": {
    "vscode": {
     "languageId": "r"
    }
   },
   "outputs": [],
   "source": []
  },
  {
   "cell_type": "code",
   "execution_count": 180,
   "metadata": {
    "vscode": {
     "languageId": "r"
    }
   },
   "outputs": [],
   "source": [
    "aln.fx <- function(x) {\n",
    "\n",
    "    mygroups <- gsub(\"%\", \"X\", unique(x$pattern))\n",
    "    mymat <- matrix(0,\n",
    "        nrow = length(mygroups), ncol = length(mygroups),\n",
    "        dimnames = list(mygroups, mygroups)\n",
    "    )\n",
    "    D <- combn(length(mygroups), 2)\n",
    "\n",
    "    for (i in 1:ncol(D)) {\n",
    "        aln <- pairwiseAlignment(\n",
    "            rownames(mymat)[D[1, i]],\n",
    "            rownames(mymat)[D[2, i]],\n",
    "            substitutionMatrix = BLOSUM62, gapOpening = -2, gapExtension = -10)\n",
    "        # print(aln)\n",
    "        mymat[D[1, i], D[2, i]] <- score(aln)\n",
    "        mymat[D[2, i], D[1, i]] <- score(aln)\n",
    "    }\n",
    "    return(mymat)\n",
    "}\n"
   ]
  },
  {
   "cell_type": "code",
   "execution_count": 181,
   "metadata": {
    "vscode": {
     "languageId": "r"
    }
   },
   "outputs": [],
   "source": [
    "mm <- aln.fx(onetest[1:50,])"
   ]
  },
  {
   "cell_type": "code",
   "execution_count": 182,
   "metadata": {
    "vscode": {
     "languageId": "r"
    }
   },
   "outputs": [],
   "source": [
    "dist_mat <- dist(mymat, method = 'euclidean')\n",
    "hclust_avg <- hclust(dist_mat, method = 'average')\n",
    "cut_avg <- cutree(hclust_avg, h = quantile(dist_mat,0.25))\n"
   ]
  },
  {
   "cell_type": "code",
   "execution_count": 183,
   "metadata": {
    "vscode": {
     "languageId": "r"
    }
   },
   "outputs": [],
   "source": [
    "onetest1 <- onetest[1:50,]"
   ]
  },
  {
   "cell_type": "code",
   "execution_count": 193,
   "metadata": {
    "vscode": {
     "languageId": "r"
    }
   },
   "outputs": [],
   "source": [
    "mygroups <- gsub(\"%\", \"X\", unique(onetest1$pattern))\n",
    "    mymat <- matrix(0,\n",
    "        nrow = length(mygroups), ncol = length(mygroups),\n",
    "        dimnames = list(mygroups, mygroups))"
   ]
  },
  {
   "cell_type": "code",
   "execution_count": 196,
   "metadata": {
    "vscode": {
     "languageId": "r"
    }
   },
   "outputs": [],
   "source": [
    "D <- combn(length(mygroups), 2)\n",
    "\n",
    "    for (i in 1:ncol(D)) {\n",
    "        aln <- pairwiseAlignment(\n",
    "            rownames(mymat)[D[1, i]],\n",
    "            rownames(mymat)[D[2, i]],\n",
    "            substitutionMatrix = BLOSUM62, gapOpening = -2, gapExtension = -10)\n",
    "        # print(aln)\n",
    "        mymat[D[1, i], D[2, i]] <- score(aln)\n",
    "        mymat[D[2, i], D[1, i]] <- score(aln)\n",
    "    }"
   ]
  },
  {
   "cell_type": "code",
   "execution_count": 244,
   "metadata": {
    "vscode": {
     "languageId": "r"
    }
   },
   "outputs": [],
   "source": [
    "dist_mat <- dist(mymat, method = 'euclidean')\n",
    "hclust_avg <- hclust(dist_mat, method = 'average')\n",
    "cut_avg <- dendextend::cutree(hclust_avg, h = quantile(dist_mat,0.1))"
   ]
  },
  {
   "cell_type": "code",
   "execution_count": 230,
   "metadata": {
    "vscode": {
     "languageId": "r"
    }
   },
   "outputs": [
    {
     "data": {
      "text/html": [
       "<style>\n",
       ".list-inline {list-style: none; margin:0; padding: 0}\n",
       ".list-inline>li {display: inline-block}\n",
       ".list-inline>li:not(:last-child)::after {content: \"\\00b7\"; padding: 0 .5ex}\n",
       "</style>\n",
       "<ol class=list-inline><li>'merge'</li><li>'height'</li><li>'order'</li><li>'labels'</li><li>'method'</li><li>'call'</li><li>'dist.method'</li></ol>\n"
      ],
      "text/latex": [
       "\\begin{enumerate*}\n",
       "\\item 'merge'\n",
       "\\item 'height'\n",
       "\\item 'order'\n",
       "\\item 'labels'\n",
       "\\item 'method'\n",
       "\\item 'call'\n",
       "\\item 'dist.method'\n",
       "\\end{enumerate*}\n"
      ],
      "text/markdown": [
       "1. 'merge'\n",
       "2. 'height'\n",
       "3. 'order'\n",
       "4. 'labels'\n",
       "5. 'method'\n",
       "6. 'call'\n",
       "7. 'dist.method'\n",
       "\n",
       "\n"
      ],
      "text/plain": [
       "[1] \"merge\"       \"height\"      \"order\"       \"labels\"      \"method\"     \n",
       "[6] \"call\"        \"dist.method\""
      ]
     },
     "metadata": {},
     "output_type": "display_data"
    }
   ],
   "source": [
    "names(hclust_avg)"
   ]
  },
  {
   "cell_type": "code",
   "execution_count": 231,
   "metadata": {
    "vscode": {
     "languageId": "r"
    }
   },
   "outputs": [
    {
     "data": {
      "text/html": [
       "<style>\n",
       ".list-inline {list-style: none; margin:0; padding: 0}\n",
       ".list-inline>li {display: inline-block}\n",
       ".list-inline>li:not(:last-child)::after {content: \"\\00b7\"; padding: 0 .5ex}\n",
       "</style>\n",
       "<ol class=list-inline><li>'SDLXT'</li><li>'SXGESQP'</li><li>'SXRDNTE'</li><li>'SXSGNT'</li><li>'SXGQP'</li><li>'SLAXE'</li><li>'SGQGXGE'</li><li>'SPX'</li><li>'XGNTE'</li><li>'SDXGQP'</li><li>'SQGXNTE'</li><li>'SXHTGE'</li><li>'SLXTGE'</li><li>'SXGYTE'</li><li>'SXGDT'</li><li>'SLGXE'</li><li>'SPXRG'</li><li>'SXEQGRE'</li><li>'SLXGTGE'</li><li>'SLGGSXTE'</li><li>'SXSNQP'</li><li>'RGTXDYE'</li><li>'SXGQNYG'</li><li>'SXNTE'</li><li>'XQNTE'</li><li>'SLXGAGANV'</li><li>'RXDRE'</li><li>'SFXGNT'</li><li>'SLDXGNT'</li><li>'SLXSGNT'</li><li>'SLVGGXTE'</li><li>'XAGTE'</li><li>'SLQGXNTE'</li><li>'SXSGQP'</li><li>'SEXYE'</li><li>'SXAYE'</li><li>'SXANTE'</li><li>'SLXGSGNT'</li><li>'SXGVGTE'</li><li>'SLXDQP'</li><li>'SLGQGXTE'</li><li>'SXGQGNQP'</li><li>'SXSSYNSP'</li><li>'SLGLX'</li><li>'SFXGE'</li><li>'SLEGXGE'</li><li>'SXADT'</li><li>'SEXGE'</li><li>'SXPGQP'</li><li>'SEXGTGE'</li></ol>\n"
      ],
      "text/latex": [
       "\\begin{enumerate*}\n",
       "\\item 'SDLXT'\n",
       "\\item 'SXGESQP'\n",
       "\\item 'SXRDNTE'\n",
       "\\item 'SXSGNT'\n",
       "\\item 'SXGQP'\n",
       "\\item 'SLAXE'\n",
       "\\item 'SGQGXGE'\n",
       "\\item 'SPX'\n",
       "\\item 'XGNTE'\n",
       "\\item 'SDXGQP'\n",
       "\\item 'SQGXNTE'\n",
       "\\item 'SXHTGE'\n",
       "\\item 'SLXTGE'\n",
       "\\item 'SXGYTE'\n",
       "\\item 'SXGDT'\n",
       "\\item 'SLGXE'\n",
       "\\item 'SPXRG'\n",
       "\\item 'SXEQGRE'\n",
       "\\item 'SLXGTGE'\n",
       "\\item 'SLGGSXTE'\n",
       "\\item 'SXSNQP'\n",
       "\\item 'RGTXDYE'\n",
       "\\item 'SXGQNYG'\n",
       "\\item 'SXNTE'\n",
       "\\item 'XQNTE'\n",
       "\\item 'SLXGAGANV'\n",
       "\\item 'RXDRE'\n",
       "\\item 'SFXGNT'\n",
       "\\item 'SLDXGNT'\n",
       "\\item 'SLXSGNT'\n",
       "\\item 'SLVGGXTE'\n",
       "\\item 'XAGTE'\n",
       "\\item 'SLQGXNTE'\n",
       "\\item 'SXSGQP'\n",
       "\\item 'SEXYE'\n",
       "\\item 'SXAYE'\n",
       "\\item 'SXANTE'\n",
       "\\item 'SLXGSGNT'\n",
       "\\item 'SXGVGTE'\n",
       "\\item 'SLXDQP'\n",
       "\\item 'SLGQGXTE'\n",
       "\\item 'SXGQGNQP'\n",
       "\\item 'SXSSYNSP'\n",
       "\\item 'SLGLX'\n",
       "\\item 'SFXGE'\n",
       "\\item 'SLEGXGE'\n",
       "\\item 'SXADT'\n",
       "\\item 'SEXGE'\n",
       "\\item 'SXPGQP'\n",
       "\\item 'SEXGTGE'\n",
       "\\end{enumerate*}\n"
      ],
      "text/markdown": [
       "1. 'SDLXT'\n",
       "2. 'SXGESQP'\n",
       "3. 'SXRDNTE'\n",
       "4. 'SXSGNT'\n",
       "5. 'SXGQP'\n",
       "6. 'SLAXE'\n",
       "7. 'SGQGXGE'\n",
       "8. 'SPX'\n",
       "9. 'XGNTE'\n",
       "10. 'SDXGQP'\n",
       "11. 'SQGXNTE'\n",
       "12. 'SXHTGE'\n",
       "13. 'SLXTGE'\n",
       "14. 'SXGYTE'\n",
       "15. 'SXGDT'\n",
       "16. 'SLGXE'\n",
       "17. 'SPXRG'\n",
       "18. 'SXEQGRE'\n",
       "19. 'SLXGTGE'\n",
       "20. 'SLGGSXTE'\n",
       "21. 'SXSNQP'\n",
       "22. 'RGTXDYE'\n",
       "23. 'SXGQNYG'\n",
       "24. 'SXNTE'\n",
       "25. 'XQNTE'\n",
       "26. 'SLXGAGANV'\n",
       "27. 'RXDRE'\n",
       "28. 'SFXGNT'\n",
       "29. 'SLDXGNT'\n",
       "30. 'SLXSGNT'\n",
       "31. 'SLVGGXTE'\n",
       "32. 'XAGTE'\n",
       "33. 'SLQGXNTE'\n",
       "34. 'SXSGQP'\n",
       "35. 'SEXYE'\n",
       "36. 'SXAYE'\n",
       "37. 'SXANTE'\n",
       "38. 'SLXGSGNT'\n",
       "39. 'SXGVGTE'\n",
       "40. 'SLXDQP'\n",
       "41. 'SLGQGXTE'\n",
       "42. 'SXGQGNQP'\n",
       "43. 'SXSSYNSP'\n",
       "44. 'SLGLX'\n",
       "45. 'SFXGE'\n",
       "46. 'SLEGXGE'\n",
       "47. 'SXADT'\n",
       "48. 'SEXGE'\n",
       "49. 'SXPGQP'\n",
       "50. 'SEXGTGE'\n",
       "\n",
       "\n"
      ],
      "text/plain": [
       " [1] \"SDLXT\"     \"SXGESQP\"   \"SXRDNTE\"   \"SXSGNT\"    \"SXGQP\"     \"SLAXE\"    \n",
       " [7] \"SGQGXGE\"   \"SPX\"       \"XGNTE\"     \"SDXGQP\"    \"SQGXNTE\"   \"SXHTGE\"   \n",
       "[13] \"SLXTGE\"    \"SXGYTE\"    \"SXGDT\"     \"SLGXE\"     \"SPXRG\"     \"SXEQGRE\"  \n",
       "[19] \"SLXGTGE\"   \"SLGGSXTE\"  \"SXSNQP\"    \"RGTXDYE\"   \"SXGQNYG\"   \"SXNTE\"    \n",
       "[25] \"XQNTE\"     \"SLXGAGANV\" \"RXDRE\"     \"SFXGNT\"    \"SLDXGNT\"   \"SLXSGNT\"  \n",
       "[31] \"SLVGGXTE\"  \"XAGTE\"     \"SLQGXNTE\"  \"SXSGQP\"    \"SEXYE\"     \"SXAYE\"    \n",
       "[37] \"SXANTE\"    \"SLXGSGNT\"  \"SXGVGTE\"   \"SLXDQP\"    \"SLGQGXTE\"  \"SXGQGNQP\" \n",
       "[43] \"SXSSYNSP\"  \"SLGLX\"     \"SFXGE\"     \"SLEGXGE\"   \"SXADT\"     \"SEXGE\"    \n",
       "[49] \"SXPGQP\"    \"SEXGTGE\"  "
      ]
     },
     "metadata": {},
     "output_type": "display_data"
    }
   ],
   "source": [
    "names(cut_avg)"
   ]
  },
  {
   "cell_type": "code",
   "execution_count": 232,
   "metadata": {
    "vscode": {
     "languageId": "r"
    }
   },
   "outputs": [],
   "source": [
    "onetest1$pattern1 <- gsub(\"%\", \"X\", onetest1$pattern)"
   ]
  },
  {
   "cell_type": "code",
   "execution_count": 233,
   "metadata": {
    "vscode": {
     "languageId": "r"
    }
   },
   "outputs": [],
   "source": [
    "onetest1$hk <- cut_avg[match(onetest1$pattern1, names(cut_avg))]"
   ]
  },
  {
   "cell_type": "code",
   "execution_count": 236,
   "metadata": {
    "vscode": {
     "languageId": "r"
    }
   },
   "outputs": [
    {
     "data": {
      "text/plain": [
       "cut_avg\n",
       " 1  2  3  4  5  6  7  8  9 10 11 12 13 14 15 16 17 \n",
       "12  2  2  2  1  6  1  4  5  4  4  1  1  2  1  1  1 "
      ]
     },
     "metadata": {},
     "output_type": "display_data"
    }
   ],
   "source": [
    "(table(cut_avg))"
   ]
  },
  {
   "cell_type": "code",
   "execution_count": 239,
   "metadata": {
    "vscode": {
     "languageId": "r"
    }
   },
   "outputs": [],
   "source": [
    "library(dendextend)\n",
    "row_dend = as.dendrogram(hclust_avg)\n",
    "row_dend = color_branches(row_dend, k = length((table(cut_avg)))) \n",
    "hm <- ComplexHeatmap::Heatmap(mymat, name = \"mat\", \n",
    "cluster_rows = row_dend, row_dend_width = unit(4, \"cm\"))"
   ]
  },
  {
   "cell_type": "code",
   "execution_count": 240,
   "metadata": {
    "vscode": {
     "languageId": "r"
    }
   },
   "outputs": [
    {
     "data": {
      "text/html": [
       "<strong>pdf:</strong> 2"
      ],
      "text/latex": [
       "\\textbf{pdf:} 2"
      ],
      "text/markdown": [
       "**pdf:** 2"
      ],
      "text/plain": [
       "pdf \n",
       "  2 "
      ]
     },
     "metadata": {},
     "output_type": "display_data"
    }
   ],
   "source": [
    "pdf(paste0(plotpath, \"test.pdf\"), width = 10, height = 10)\n",
    "hm\n",
    "dev.off()"
   ]
  },
  {
   "cell_type": "code",
   "execution_count": 109,
   "metadata": {
    "vscode": {
     "languageId": "r"
    }
   },
   "outputs": [
    {
     "data": {
      "image/png": "[encoded data removed]",
      "text/plain": [
       "plot without title"
      ]
     },
     "metadata": {
      "image/png": {
       "height": 420,
       "width": 420
      }
     },
     "output_type": "display_data"
    }
   ],
   "source": [
    "ComplexHeatmap::Heatmap(mymat)"
   ]
  },
  {
   "cell_type": "code",
   "execution_count": 148,
   "metadata": {
    "vscode": {
     "languageId": "r"
    }
   },
   "outputs": [
    {
     "data": {
      "text/html": [
       "<table class=\"dataframe\">\n",
       "<caption>A data.frame: 6 x 730</caption>\n",
       "<thead>\n",
       "\t<tr><th></th><th scope=col>310104_TCRB</th><th scope=col>310106_TCRB</th><th scope=col>310108_TCRB</th><th scope=col>310109_TCRB</th><th scope=col>310110_TCRB</th><th scope=col>310111_TCRB</th><th scope=col>310113_TCRB</th><th scope=col>310114_TCRB</th><th scope=col>310117_TCRB</th><th scope=col>310118_TCRB</th><th scope=col>...</th><th scope=col>P00667</th><th scope=col>P00668</th><th scope=col>Peds_COVID19_08</th><th scope=col>Peds_Ctrl_1</th><th scope=col>Peds_Ctrl_2</th><th scope=col>Peds_Ctrl_7</th><th scope=col>Peds_Febrile_Ctrl_3</th><th scope=col>Peds_Febrile_Ctrl_5</th><th scope=col>Peds_Febrile_Ctrl_6</th><th scope=col>sJIA_2</th></tr>\n",
       "\t<tr><th></th><th scope=col>&lt;int&gt;</th><th scope=col>&lt;int&gt;</th><th scope=col>&lt;int&gt;</th><th scope=col>&lt;int&gt;</th><th scope=col>&lt;int&gt;</th><th scope=col>&lt;int&gt;</th><th scope=col>&lt;int&gt;</th><th scope=col>&lt;int&gt;</th><th scope=col>&lt;int&gt;</th><th scope=col>&lt;int&gt;</th><th scope=col>...</th><th scope=col>&lt;int&gt;</th><th scope=col>&lt;int&gt;</th><th scope=col>&lt;int&gt;</th><th scope=col>&lt;int&gt;</th><th scope=col>&lt;int&gt;</th><th scope=col>&lt;int&gt;</th><th scope=col>&lt;int&gt;</th><th scope=col>&lt;int&gt;</th><th scope=col>&lt;int&gt;</th><th scope=col>&lt;int&gt;</th></tr>\n",
       "</thead>\n",
       "<tbody>\n",
       "\t<tr><th scope=row>global-%AGTE</th><td>0</td><td>0</td><td>0</td><td>1</td><td>0</td><td>0</td><td>0</td><td>0</td><td>0</td><td>0</td><td>...</td><td>0</td><td>0</td><td>0</td><td>0</td><td>0</td><td>0</td><td>0</td><td>0</td><td>0</td><td>0</td></tr>\n",
       "\t<tr><th scope=row>global-%E</th><td>0</td><td>0</td><td>0</td><td>0</td><td>0</td><td>0</td><td>0</td><td>0</td><td>0</td><td>0</td><td>...</td><td>0</td><td>0</td><td>0</td><td>0</td><td>0</td><td>0</td><td>0</td><td>0</td><td>0</td><td>0</td></tr>\n",
       "\t<tr><th scope=row>global-%ENTE</th><td>0</td><td>0</td><td>0</td><td>0</td><td>0</td><td>0</td><td>0</td><td>0</td><td>0</td><td>0</td><td>...</td><td>0</td><td>0</td><td>0</td><td>0</td><td>0</td><td>0</td><td>0</td><td>0</td><td>0</td><td>0</td></tr>\n",
       "\t<tr><th scope=row>global-%G</th><td>0</td><td>0</td><td>0</td><td>0</td><td>0</td><td>0</td><td>0</td><td>0</td><td>0</td><td>0</td><td>...</td><td>0</td><td>0</td><td>0</td><td>0</td><td>0</td><td>0</td><td>0</td><td>0</td><td>0</td><td>0</td></tr>\n",
       "\t<tr><th scope=row>global-%GE</th><td>0</td><td>0</td><td>0</td><td>0</td><td>0</td><td>0</td><td>0</td><td>0</td><td>0</td><td>0</td><td>...</td><td>0</td><td>0</td><td>0</td><td>0</td><td>0</td><td>0</td><td>0</td><td>0</td><td>0</td><td>0</td></tr>\n",
       "\t<tr><th scope=row>global-%GEK</th><td>0</td><td>0</td><td>0</td><td>0</td><td>0</td><td>0</td><td>0</td><td>0</td><td>0</td><td>0</td><td>...</td><td>0</td><td>0</td><td>0</td><td>0</td><td>0</td><td>0</td><td>0</td><td>0</td><td>0</td><td>0</td></tr>\n",
       "</tbody>\n",
       "</table>\n"
      ],
      "text/latex": [
       "A data.frame: 6 x 730\n",
       "\\begin{tabular}{r|lllllllllllllllllllll}\n",
       "  & 310104\\_TCRB & 310106\\_TCRB & 310108\\_TCRB & 310109\\_TCRB & 310110\\_TCRB & 310111\\_TCRB & 310113\\_TCRB & 310114\\_TCRB & 310117\\_TCRB & 310118\\_TCRB & ... & P00667 & P00668 & Peds\\_COVID19\\_08 & Peds\\_Ctrl\\_1 & Peds\\_Ctrl\\_2 & Peds\\_Ctrl\\_7 & Peds\\_Febrile\\_Ctrl\\_3 & Peds\\_Febrile\\_Ctrl\\_5 & Peds\\_Febrile\\_Ctrl\\_6 & sJIA\\_2\\\\\n",
       "  & <int> & <int> & <int> & <int> & <int> & <int> & <int> & <int> & <int> & <int> & ... & <int> & <int> & <int> & <int> & <int> & <int> & <int> & <int> & <int> & <int>\\\\\n",
       "\\hline\n",
       "\tglobal-\\%AGTE & 0 & 0 & 0 & 1 & 0 & 0 & 0 & 0 & 0 & 0 & ... & 0 & 0 & 0 & 0 & 0 & 0 & 0 & 0 & 0 & 0\\\\\n",
       "\tglobal-\\%E & 0 & 0 & 0 & 0 & 0 & 0 & 0 & 0 & 0 & 0 & ... & 0 & 0 & 0 & 0 & 0 & 0 & 0 & 0 & 0 & 0\\\\\n",
       "\tglobal-\\%ENTE & 0 & 0 & 0 & 0 & 0 & 0 & 0 & 0 & 0 & 0 & ... & 0 & 0 & 0 & 0 & 0 & 0 & 0 & 0 & 0 & 0\\\\\n",
       "\tglobal-\\%G & 0 & 0 & 0 & 0 & 0 & 0 & 0 & 0 & 0 & 0 & ... & 0 & 0 & 0 & 0 & 0 & 0 & 0 & 0 & 0 & 0\\\\\n",
       "\tglobal-\\%GE & 0 & 0 & 0 & 0 & 0 & 0 & 0 & 0 & 0 & 0 & ... & 0 & 0 & 0 & 0 & 0 & 0 & 0 & 0 & 0 & 0\\\\\n",
       "\tglobal-\\%GEK & 0 & 0 & 0 & 0 & 0 & 0 & 0 & 0 & 0 & 0 & ... & 0 & 0 & 0 & 0 & 0 & 0 & 0 & 0 & 0 & 0\\\\\n",
       "\\end{tabular}\n"
      ],
      "text/markdown": [
       "\n",
       "A data.frame: 6 x 730\n",
       "\n",
       "| <!--/--> | 310104_TCRB &lt;int&gt; | 310106_TCRB &lt;int&gt; | 310108_TCRB &lt;int&gt; | 310109_TCRB &lt;int&gt; | 310110_TCRB &lt;int&gt; | 310111_TCRB &lt;int&gt; | 310113_TCRB &lt;int&gt; | 310114_TCRB &lt;int&gt; | 310117_TCRB &lt;int&gt; | 310118_TCRB &lt;int&gt; | ... ... | P00667 &lt;int&gt; | P00668 &lt;int&gt; | Peds_COVID19_08 &lt;int&gt; | Peds_Ctrl_1 &lt;int&gt; | Peds_Ctrl_2 &lt;int&gt; | Peds_Ctrl_7 &lt;int&gt; | Peds_Febrile_Ctrl_3 &lt;int&gt; | Peds_Febrile_Ctrl_5 &lt;int&gt; | Peds_Febrile_Ctrl_6 &lt;int&gt; | sJIA_2 &lt;int&gt; |\n",
       "|---|---|---|---|---|---|---|---|---|---|---|---|---|---|---|---|---|---|---|---|---|---|\n",
       "| global-%AGTE | 0 | 0 | 0 | 1 | 0 | 0 | 0 | 0 | 0 | 0 | ... | 0 | 0 | 0 | 0 | 0 | 0 | 0 | 0 | 0 | 0 |\n",
       "| global-%E | 0 | 0 | 0 | 0 | 0 | 0 | 0 | 0 | 0 | 0 | ... | 0 | 0 | 0 | 0 | 0 | 0 | 0 | 0 | 0 | 0 |\n",
       "| global-%ENTE | 0 | 0 | 0 | 0 | 0 | 0 | 0 | 0 | 0 | 0 | ... | 0 | 0 | 0 | 0 | 0 | 0 | 0 | 0 | 0 | 0 |\n",
       "| global-%G | 0 | 0 | 0 | 0 | 0 | 0 | 0 | 0 | 0 | 0 | ... | 0 | 0 | 0 | 0 | 0 | 0 | 0 | 0 | 0 | 0 |\n",
       "| global-%GE | 0 | 0 | 0 | 0 | 0 | 0 | 0 | 0 | 0 | 0 | ... | 0 | 0 | 0 | 0 | 0 | 0 | 0 | 0 | 0 | 0 |\n",
       "| global-%GEK | 0 | 0 | 0 | 0 | 0 | 0 | 0 | 0 | 0 | 0 | ... | 0 | 0 | 0 | 0 | 0 | 0 | 0 | 0 | 0 | 0 |\n",
       "\n"
      ],
      "text/plain": [
       "             310104_TCRB 310106_TCRB 310108_TCRB 310109_TCRB 310110_TCRB\n",
       "global-%AGTE 0           0           0           1           0          \n",
       "global-%E    0           0           0           0           0          \n",
       "global-%ENTE 0           0           0           0           0          \n",
       "global-%G    0           0           0           0           0          \n",
       "global-%GE   0           0           0           0           0          \n",
       "global-%GEK  0           0           0           0           0          \n",
       "             310111_TCRB 310113_TCRB 310114_TCRB 310117_TCRB 310118_TCRB ...\n",
       "global-%AGTE 0           0           0           0           0           ...\n",
       "global-%E    0           0           0           0           0           ...\n",
       "global-%ENTE 0           0           0           0           0           ...\n",
       "global-%G    0           0           0           0           0           ...\n",
       "global-%GE   0           0           0           0           0           ...\n",
       "global-%GEK  0           0           0           0           0           ...\n",
       "             P00667 P00668 Peds_COVID19_08 Peds_Ctrl_1 Peds_Ctrl_2 Peds_Ctrl_7\n",
       "global-%AGTE 0      0      0               0           0           0          \n",
       "global-%E    0      0      0               0           0           0          \n",
       "global-%ENTE 0      0      0               0           0           0          \n",
       "global-%G    0      0      0               0           0           0          \n",
       "global-%GE   0      0      0               0           0           0          \n",
       "global-%GEK  0      0      0               0           0           0          \n",
       "             Peds_Febrile_Ctrl_3 Peds_Febrile_Ctrl_5 Peds_Febrile_Ctrl_6 sJIA_2\n",
       "global-%AGTE 0                   0                   0                   0     \n",
       "global-%E    0                   0                   0                   0     \n",
       "global-%ENTE 0                   0                   0                   0     \n",
       "global-%G    0                   0                   0                   0     \n",
       "global-%GE   0                   0                   0                   0     \n",
       "global-%GEK  0                   0                   0                   0     "
      ]
     },
     "metadata": {},
     "output_type": "display_data"
    }
   ],
   "source": [
    "head(onetest)"
   ]
  },
  {
   "cell_type": "code",
   "execution_count": null,
   "metadata": {
    "vscode": {
     "languageId": "r"
    }
   },
   "outputs": [],
   "source": []
  },
  {
   "cell_type": "code",
   "execution_count": null,
   "metadata": {
    "vscode": {
     "languageId": "r"
    }
   },
   "outputs": [],
   "source": []
  },
  {
   "cell_type": "code",
   "execution_count": null,
   "metadata": {
    "vscode": {
     "languageId": "r"
    }
   },
   "outputs": [],
   "source": []
  },
  {
   "cell_type": "code",
   "execution_count": null,
   "metadata": {
    "vscode": {
     "languageId": "r"
    }
   },
   "outputs": [],
   "source": []
  },
  {
   "cell_type": "code",
   "execution_count": null,
   "metadata": {
    "vscode": {
     "languageId": "r"
    }
   },
   "outputs": [],
   "source": []
  },
  {
   "cell_type": "code",
   "execution_count": null,
   "metadata": {
    "vscode": {
     "languageId": "r"
    }
   },
   "outputs": [],
   "source": []
  },
  {
   "cell_type": "code",
   "execution_count": null,
   "metadata": {
    "vscode": {
     "languageId": "r"
    }
   },
   "outputs": [],
   "source": []
  },
  {
   "cell_type": "code",
   "execution_count": null,
   "metadata": {
    "vscode": {
     "languageId": "r"
    }
   },
   "outputs": [],
   "source": [
    "volcano.fx <- function(resdf, fc, padj, ttl){\n",
    "    \n",
    "    # remove padj = NA\n",
    "    \n",
    "    resdf <- resdf[ !is.na(resdf$padj),]\n",
    "    \n",
    "    resdf$threshold <- NA\n",
    "    resdf$threshold[ resdf$log2FoldChange > fc & resdf$padj < padj] <- \"Up-regulated\"\n",
    "    resdf$threshold[ resdf$log2FoldChange < -fc & resdf$padj < padj] <- \"Down-regulated\"\n",
    "    resdf$threshold[ is.na(resdf$threshold)] <- \"not significant\"\n",
    "    \n",
    "res_upreg <- resdf[ resdf$threshold == \"Up-regulated\",]    \n",
    "res_upreg <- res_upreg[order(res_upreg$log2FoldChange, decreasing = T),]    \n",
    "res_downreg <- resdf[ resdf$threshold == \"Down-regulated\",]    \n",
    "res_downreg <- res_downreg[order(res_downreg$log2FoldChange, decreasing = F),]  \n",
    "\n",
    "if(nrow(res_upreg) < 10){\n",
    "    resdf$genelabels[ rownames(resdf) %in% rownames(res_upreg)] <- \"UP\"}\n",
    "if(nrow(res_downreg) < 10){\n",
    "    resdf$genelabels[rownames(resdf) %in% rownames(res_downreg)] <- \"DOWN\"}    \n",
    "\n",
    "if(nrow(res_upreg) >= 10){\n",
    "    resdf$genelabels[rownames(resdf) %in% rownames(res_upreg)[1:10]] <- \"UP\"   }\n",
    "if(nrow(res_downreg) >= 10){\n",
    "    resdf$genelabels[rownames(resdf) %in% rownames(res_downreg)[1:10]] <- \"DOWN\" } \n",
    "    \n",
    "    p <- ggplot(resdf, aes(x=log2FoldChange, y=-log10(pvalue))) +\n",
    "    geom_point(aes(color = threshold), size=2.5) +\n",
    "    scale_colour_manual(values = c(\"Down-regulated\"= \"blue\", \"Up-regulated\"=\"red\",  \"not significant\"= \"black\")) +    \n",
    "    geom_text_repel(data = subset(resdf, genelabels == \"UP\"),\n",
    "                    label = subset(resdf, genelabels == \"UP\")$Gene_gencode,\n",
    "                    size = 8, box.padding = 1, max.overlaps = Inf,  min.segment.length = 0,\n",
    "                    direction = \"both\", nudge_x = 3, nudge_y = 0.5, vjust = 0.5, hjust = 0.5) + \n",
    "    geom_text_repel(data = subset(resdf, genelabels == \"DOWN\"),\n",
    "                    label = subset(resdf, genelabels == \"DOWN\")$Gene_gencode,\n",
    "                    size = 8, box.padding = 1, max.overlaps = Inf, direction = \"both\", \n",
    "                    nudge_x = -3, nudge_y = 0.5,\n",
    "                    vjust = 0.5, hjust = 0.5, min.segment.length = 0) + \n",
    "    myplot + myaxis +\n",
    "    theme(axis.text.x = element_text(size = 30, angle = 0, hjust = 0.5),\n",
    "          axis.title = element_text(size = 30), axis.text.y = element_text(size = 30),\n",
    "          plot.title = element_text(size = 30, hjust = 0.5), legend.position = \"none\") + \n",
    "    labs(x = \"Fold change (Log2)\" ,y = \"p-value (-Log10)\", title = ttl)     \n",
    "    \n",
    "    return(p)\n",
    "}"
   ]
  },
  {
   "cell_type": "code",
   "execution_count": null,
   "metadata": {
    "vscode": {
     "languageId": "r"
    }
   },
   "outputs": [],
   "source": []
  },
  {
   "cell_type": "code",
   "execution_count": null,
   "metadata": {
    "vscode": {
     "languageId": "r"
    }
   },
   "outputs": [],
   "source": []
  },
  {
   "cell_type": "code",
   "execution_count": null,
   "metadata": {
    "vscode": {
     "languageId": "r"
    }
   },
   "outputs": [],
   "source": []
  }
 ],
 "metadata": {
  "kernelspec": {
   "display_name": "R 4.0",
   "language": "R",
   "name": "ir40"
  },
  "language_info": {
   "codemirror_mode": "r",
   "file_extension": ".r",
   "mimetype": "text/x-r-source",
   "name": "R",
   "pygments_lexer": "r",
   "version": "4.2.2"
  },
  "toc": {
   "base_numbering": 1,
   "nav_menu": {},
   "number_sections": false,
   "sideBar": true,
   "skip_h1_title": false,
   "title_cell": "Table of Contents",
   "title_sidebar": "Contents",
   "toc_cell": true,
   "toc_position": {
    "height": "calc(100% - 180px)",
    "left": "10px",
    "top": "150px",
    "width": "186.15px"
   },
   "toc_section_display": true,
   "toc_window_display": true
  }
 },
 "nbformat": 4,
 "nbformat_minor": 2
}
