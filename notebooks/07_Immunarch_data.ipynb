{
 "cells": [
  {
   "cell_type": "markdown",
   "metadata": {
    "toc": true
   },
   "source": [
    "<h1>Table of Contents<span class=\"tocSkip\"></span></h1>\n",
    "<div class=\"toc\"><ul class=\"toc-item\"><li><span><a href=\"#Dependencies\" data-toc-modified-id=\"Dependencies-1\">Dependencies</a></span></li><li><span><a href=\"#Functions\" data-toc-modified-id=\"Functions-2\">Functions</a></span></li><li><span><a href=\"#Paths\" data-toc-modified-id=\"Paths-3\">Paths</a></span></li><li><span><a href=\"#Main\" data-toc-modified-id=\"Main-4\">Main</a></span><ul class=\"toc-item\"><li><span><a href=\"#Diversity-using-hill-numbers-from-immunarch\" data-toc-modified-id=\"Diversity-using-hill-numbers-from-immunarch-4.1\">Diversity using hill numbers from immunarch</a></span></li><li><span><a href=\"#Create-metadata-for-immunarch\" data-toc-modified-id=\"Create-metadata-for-immunarch-4.2\">Create metadata for immunarch</a></span></li></ul></li></ul></div>"
   ]
  },
  {
   "cell_type": "markdown",
   "metadata": {},
   "source": [
    "# Dependencies"
   ]
  },
  {
   "cell_type": "code",
   "execution_count": 1,
   "metadata": {
    "scrolled": true
   },
   "outputs": [
    {
     "name": "stderr",
     "output_type": "stream",
     "text": [
      "Loading required package: dplyr\n",
      "\n",
      "\n",
      "Attaching package: ‘dplyr’\n",
      "\n",
      "\n",
      "The following objects are masked from ‘package:stats’:\n",
      "\n",
      "    filter, lag\n",
      "\n",
      "\n",
      "The following objects are masked from ‘package:base’:\n",
      "\n",
      "    intersect, setdiff, setequal, union\n",
      "\n",
      "\n",
      "Loading required package: dtplyr\n",
      "\n",
      "Warning message:\n",
      "“package ‘dtplyr’ was built under R version 4.0.5”\n",
      "Loading required package: data.table\n",
      "\n",
      "\n",
      "Attaching package: ‘data.table’\n",
      "\n",
      "\n",
      "The following objects are masked from ‘package:dplyr’:\n",
      "\n",
      "    between, first, last\n",
      "\n",
      "\n",
      "Loading required package: patchwork\n",
      "\n"
     ]
    }
   ],
   "source": [
    "library(ggplot2)\n",
    "library(immunarch)\n",
    "library(ggbeeswarm)"
   ]
  },
  {
   "cell_type": "markdown",
   "metadata": {},
   "source": [
    "# Functions"
   ]
  },
  {
   "cell_type": "code",
   "execution_count": 2,
   "metadata": {},
   "outputs": [],
   "source": [
    "histp <- function(df, var){\n",
    "    myp <- ggplot(data = df, aes(x = eval(parse(text = var)))) + \n",
    "    geom_histogram() + myplot + myaxis + labs(x = var)\n",
    "    return(myp)\n",
    "}"
   ]
  },
  {
   "cell_type": "code",
   "execution_count": 3,
   "metadata": {},
   "outputs": [],
   "source": [
    "source(\"/Users/anabbi/git/ped_CapTCRseq/R/ggplot2_theme.R\")\n",
    "source(\"/Users/anabbi/git/ped_CapTCRseq/R/color_schemes.R\")"
   ]
  },
  {
   "cell_type": "markdown",
   "metadata": {},
   "source": [
    "# Paths"
   ]
  },
  {
   "cell_type": "code",
   "execution_count": 4,
   "metadata": {},
   "outputs": [],
   "source": [
    "datapath <- \"/Users/anabbi/OneDrive - UHN/Documents/INTERCEPT/Data/\"\n",
    "plotpath <- \"/Users/anabbi/OneDrive - UHN/Documents/INTERCEPT/Plots/\"\n",
    "manifestpath <- \"/Users/anabbi/OneDrive - UHN/Documents/INTERCEPT/Manifests/\"\n",
    "\n",
    "gitpath <- \"/Users/anabbi/git/ped_CapTCRseq/\""
   ]
  },
  {
   "cell_type": "markdown",
   "metadata": {},
   "source": [
    "# Main"
   ]
  },
  {
   "cell_type": "code",
   "execution_count": 5,
   "metadata": {},
   "outputs": [],
   "source": [
    "# Copied back from h4h\n",
    "load(paste0(datapath, \"capTCRseq/int_load.RData\"))"
   ]
  },
  {
   "cell_type": "code",
   "execution_count": 6,
   "metadata": {},
   "outputs": [],
   "source": [
    "#remove scores from V and J\n",
    "for(i in 1:length(int_load$data)){\n",
    "    int_load$data[[i]] <- as.data.frame(int_load$data[[i]])\n",
    "    int_load$data[[i]][,\"V.name\"] <- gsub(\"\\\\*00\\\\(.*\", \"\", int_load$data[[i]][,\"V.name\"])\n",
    "    int_load$data[[i]][,\"D.name\"] <- gsub(\"\\\\*00\\\\(.*\", \"\", int_load$data[[i]][,\"D.name\"])\n",
    "    int_load$data[[i]][,\"J.name\"] <- gsub(\"\\\\*00\\\\(.*\", \"\", int_load$data[[i]][,\"J.name\"])\n",
    "    int_load$data[[i]] <- as_tibble(int_load$data[[i]])\n",
    "}"
   ]
  },
  {
   "cell_type": "code",
   "execution_count": 7,
   "metadata": {},
   "outputs": [],
   "source": [
    "# names cleanup\n",
    "names(int_load$data) <- gsub(\"CLONES_TRB\", \"\", names(int_load$data))"
   ]
  },
  {
   "cell_type": "code",
   "execution_count": 8,
   "metadata": {},
   "outputs": [],
   "source": [
    "int_load$meta$Sample <- gsub(\"CLONES_TRB\", \"\", int_load$meta$Sample)"
   ]
  },
  {
   "cell_type": "code",
   "execution_count": 9,
   "metadata": {},
   "outputs": [
    {
     "data": {
      "text/html": [
       "<style>\n",
       ".list-inline {list-style: none; margin:0; padding: 0}\n",
       ".list-inline>li {display: inline-block}\n",
       ".list-inline>li:not(:last-child)::after {content: \"\\00b7\"; padding: 0 .5ex}\n",
       "</style>\n",
       "<ol class=list-inline><li>'CHP_10YO-M_PBMC_DNA'</li><li>'CHP_11YO-M_PBMC_DNA'</li><li>'CHP_15YO-F-A_PBMC_DNA'</li><li>'CHP_15YO-F-B_PBMC_DNA'</li><li>'CHP_15YO-M_PBMC_DNA'</li><li>'CHP_16YO-M_PBMC_DNA'</li></ol>\n"
      ],
      "text/latex": [
       "\\begin{enumerate*}\n",
       "\\item 'CHP\\_10YO-M\\_PBMC\\_DNA'\n",
       "\\item 'CHP\\_11YO-M\\_PBMC\\_DNA'\n",
       "\\item 'CHP\\_15YO-F-A\\_PBMC\\_DNA'\n",
       "\\item 'CHP\\_15YO-F-B\\_PBMC\\_DNA'\n",
       "\\item 'CHP\\_15YO-M\\_PBMC\\_DNA'\n",
       "\\item 'CHP\\_16YO-M\\_PBMC\\_DNA'\n",
       "\\end{enumerate*}\n"
      ],
      "text/markdown": [
       "1. 'CHP_10YO-M_PBMC_DNA'\n",
       "2. 'CHP_11YO-M_PBMC_DNA'\n",
       "3. 'CHP_15YO-F-A_PBMC_DNA'\n",
       "4. 'CHP_15YO-F-B_PBMC_DNA'\n",
       "5. 'CHP_15YO-M_PBMC_DNA'\n",
       "6. 'CHP_16YO-M_PBMC_DNA'\n",
       "\n",
       "\n"
      ],
      "text/plain": [
       "[1] \"CHP_10YO-M_PBMC_DNA\"   \"CHP_11YO-M_PBMC_DNA\"   \"CHP_15YO-F-A_PBMC_DNA\"\n",
       "[4] \"CHP_15YO-F-B_PBMC_DNA\" \"CHP_15YO-M_PBMC_DNA\"   \"CHP_16YO-M_PBMC_DNA\"  "
      ]
     },
     "metadata": {},
     "output_type": "display_data"
    }
   ],
   "source": [
    "head(names(int_load$data))"
   ]
  },
  {
   "cell_type": "code",
   "execution_count": 10,
   "metadata": {},
   "outputs": [
    {
     "data": {
      "text/html": [
       "<table class=\"dataframe\">\n",
       "<caption>A tibble: 6 × 1</caption>\n",
       "<thead>\n",
       "\t<tr><th scope=col>Sample</th></tr>\n",
       "\t<tr><th scope=col>&lt;chr&gt;</th></tr>\n",
       "</thead>\n",
       "<tbody>\n",
       "\t<tr><td>CHP_10YO-M_PBMC_DNA  </td></tr>\n",
       "\t<tr><td>CHP_11YO-M_PBMC_DNA  </td></tr>\n",
       "\t<tr><td>CHP_15YO-F-A_PBMC_DNA</td></tr>\n",
       "\t<tr><td>CHP_15YO-F-B_PBMC_DNA</td></tr>\n",
       "\t<tr><td>CHP_15YO-M_PBMC_DNA  </td></tr>\n",
       "\t<tr><td>CHP_16YO-M_PBMC_DNA  </td></tr>\n",
       "</tbody>\n",
       "</table>\n"
      ],
      "text/latex": [
       "A tibble: 6 × 1\n",
       "\\begin{tabular}{l}\n",
       " Sample\\\\\n",
       " <chr>\\\\\n",
       "\\hline\n",
       "\t CHP\\_10YO-M\\_PBMC\\_DNA  \\\\\n",
       "\t CHP\\_11YO-M\\_PBMC\\_DNA  \\\\\n",
       "\t CHP\\_15YO-F-A\\_PBMC\\_DNA\\\\\n",
       "\t CHP\\_15YO-F-B\\_PBMC\\_DNA\\\\\n",
       "\t CHP\\_15YO-M\\_PBMC\\_DNA  \\\\\n",
       "\t CHP\\_16YO-M\\_PBMC\\_DNA  \\\\\n",
       "\\end{tabular}\n"
      ],
      "text/markdown": [
       "\n",
       "A tibble: 6 × 1\n",
       "\n",
       "| Sample &lt;chr&gt; |\n",
       "|---|\n",
       "| CHP_10YO-M_PBMC_DNA   |\n",
       "| CHP_11YO-M_PBMC_DNA   |\n",
       "| CHP_15YO-F-A_PBMC_DNA |\n",
       "| CHP_15YO-F-B_PBMC_DNA |\n",
       "| CHP_15YO-M_PBMC_DNA   |\n",
       "| CHP_16YO-M_PBMC_DNA   |\n",
       "\n"
      ],
      "text/plain": [
       "  Sample               \n",
       "1 CHP_10YO-M_PBMC_DNA  \n",
       "2 CHP_11YO-M_PBMC_DNA  \n",
       "3 CHP_15YO-F-A_PBMC_DNA\n",
       "4 CHP_15YO-F-B_PBMC_DNA\n",
       "5 CHP_15YO-M_PBMC_DNA  \n",
       "6 CHP_16YO-M_PBMC_DNA  "
      ]
     },
     "metadata": {},
     "output_type": "display_data"
    }
   ],
   "source": [
    "head(int_load$meta)"
   ]
  },
  {
   "cell_type": "markdown",
   "metadata": {},
   "source": [
    "## Diversity using hill numbers from immunarch"
   ]
  },
  {
   "cell_type": "code",
   "execution_count": 11,
   "metadata": {},
   "outputs": [],
   "source": [
    "load(file = paste0(datapath,\"capTCRseq/meta_div_TRB.RData\"))"
   ]
  },
  {
   "cell_type": "code",
   "execution_count": 12,
   "metadata": {},
   "outputs": [],
   "source": [
    "div_hill_aa <- repDiversity(int_load$data, \"hill\", .min.q = 0)\n",
    "div_hill_v <- repDiversity(int_load$data, \"hill\", .col = \"v\", .min.q = 0)\n",
    "div_hill_j <- repDiversity(int_load$data, \"hill\", .col = \"j\", .min.q = 0)"
   ]
  },
  {
   "cell_type": "code",
   "execution_count": 13,
   "metadata": {},
   "outputs": [],
   "source": [
    "div_hill_aav <- repDiversity(int_load$data, \"hill\", .col = \"aa+v\", .min.q = 0)"
   ]
  },
  {
   "cell_type": "markdown",
   "metadata": {},
   "source": [
    "Add to divstats"
   ]
  },
  {
   "cell_type": "code",
   "execution_count": 14,
   "metadata": {},
   "outputs": [],
   "source": [
    "q0_aa <- as.data.frame(div_hill_aa[ div_hill_aa$Q == 0,])\n",
    "q0_v <- as.data.frame(div_hill_v[ div_hill_v$Q == 0,])\n",
    "q0_j <- as.data.frame(div_hill_j[ div_hill_j$Q == 0,])\n",
    "q0_aav <- as.data.frame(div_hill_aav[ div_hill_aav$Q == 0,])"
   ]
  },
  {
   "cell_type": "code",
   "execution_count": 15,
   "metadata": {},
   "outputs": [
    {
     "data": {
      "text/html": [
       "<table class=\"dataframe\">\n",
       "<caption>A data.frame: 15 × 3</caption>\n",
       "<thead>\n",
       "\t<tr><th></th><th scope=col>Sample</th><th scope=col>Q</th><th scope=col>Value</th></tr>\n",
       "\t<tr><th></th><th scope=col>&lt;fct&gt;</th><th scope=col>&lt;dbl&gt;</th><th scope=col>&lt;dbl&gt;</th></tr>\n",
       "</thead>\n",
       "<tbody>\n",
       "\t<tr><th scope=row>1</th><td>CHP_10YO-M_PBMC_DNA  </td><td>0</td><td> 22</td></tr>\n",
       "\t<tr><th scope=row>2</th><td>CHP_11YO-M_PBMC_DNA  </td><td>0</td><td> 21</td></tr>\n",
       "\t<tr><th scope=row>3</th><td>CHP_15YO-F-A_PBMC_DNA</td><td>0</td><td> 13</td></tr>\n",
       "\t<tr><th scope=row>4</th><td>CHP_15YO-F-B_PBMC_DNA</td><td>0</td><td>  9</td></tr>\n",
       "\t<tr><th scope=row>5</th><td>CHP_15YO-M_PBMC_DNA  </td><td>0</td><td> 33</td></tr>\n",
       "\t<tr><th scope=row>6</th><td>CHP_16YO-M_PBMC_DNA  </td><td>0</td><td>  7</td></tr>\n",
       "\t<tr><th scope=row>7</th><td>CHP_1YO-M-A_PBMC_DNA </td><td>0</td><td> 65</td></tr>\n",
       "\t<tr><th scope=row>8</th><td>CHP_1YO-M-B_PBMC_DNA </td><td>0</td><td>  5</td></tr>\n",
       "\t<tr><th scope=row>9</th><td>CHP_2YO-M_PBMC_DNA   </td><td>0</td><td> 16</td></tr>\n",
       "\t<tr><th scope=row>10</th><td>CHP_303-05-PBMC-DNA  </td><td>0</td><td>329</td></tr>\n",
       "\t<tr><th scope=row>11</th><td>CHP_315-05_cfDNA     </td><td>0</td><td>  2</td></tr>\n",
       "\t<tr><th scope=row>12</th><td>CHP_315-05-PBMC-DNA  </td><td>0</td><td> 38</td></tr>\n",
       "\t<tr><th scope=row>13</th><td>CHP_319-05-PBMC-DNA  </td><td>0</td><td> 16</td></tr>\n",
       "\t<tr><th scope=row>14</th><td>CHP_323-03_cfDNA     </td><td>0</td><td>135</td></tr>\n",
       "\t<tr><th scope=row>15</th><td>CHP_323-03-PBMC-DNA  </td><td>0</td><td> 59</td></tr>\n",
       "</tbody>\n",
       "</table>\n"
      ],
      "text/latex": [
       "A data.frame: 15 × 3\n",
       "\\begin{tabular}{r|lll}\n",
       "  & Sample & Q & Value\\\\\n",
       "  & <fct> & <dbl> & <dbl>\\\\\n",
       "\\hline\n",
       "\t1 & CHP\\_10YO-M\\_PBMC\\_DNA   & 0 &  22\\\\\n",
       "\t2 & CHP\\_11YO-M\\_PBMC\\_DNA   & 0 &  21\\\\\n",
       "\t3 & CHP\\_15YO-F-A\\_PBMC\\_DNA & 0 &  13\\\\\n",
       "\t4 & CHP\\_15YO-F-B\\_PBMC\\_DNA & 0 &   9\\\\\n",
       "\t5 & CHP\\_15YO-M\\_PBMC\\_DNA   & 0 &  33\\\\\n",
       "\t6 & CHP\\_16YO-M\\_PBMC\\_DNA   & 0 &   7\\\\\n",
       "\t7 & CHP\\_1YO-M-A\\_PBMC\\_DNA  & 0 &  65\\\\\n",
       "\t8 & CHP\\_1YO-M-B\\_PBMC\\_DNA  & 0 &   5\\\\\n",
       "\t9 & CHP\\_2YO-M\\_PBMC\\_DNA    & 0 &  16\\\\\n",
       "\t10 & CHP\\_303-05-PBMC-DNA   & 0 & 329\\\\\n",
       "\t11 & CHP\\_315-05\\_cfDNA      & 0 &   2\\\\\n",
       "\t12 & CHP\\_315-05-PBMC-DNA   & 0 &  38\\\\\n",
       "\t13 & CHP\\_319-05-PBMC-DNA   & 0 &  16\\\\\n",
       "\t14 & CHP\\_323-03\\_cfDNA      & 0 & 135\\\\\n",
       "\t15 & CHP\\_323-03-PBMC-DNA   & 0 &  59\\\\\n",
       "\\end{tabular}\n"
      ],
      "text/markdown": [
       "\n",
       "A data.frame: 15 × 3\n",
       "\n",
       "| <!--/--> | Sample &lt;fct&gt; | Q &lt;dbl&gt; | Value &lt;dbl&gt; |\n",
       "|---|---|---|---|\n",
       "| 1 | CHP_10YO-M_PBMC_DNA   | 0 |  22 |\n",
       "| 2 | CHP_11YO-M_PBMC_DNA   | 0 |  21 |\n",
       "| 3 | CHP_15YO-F-A_PBMC_DNA | 0 |  13 |\n",
       "| 4 | CHP_15YO-F-B_PBMC_DNA | 0 |   9 |\n",
       "| 5 | CHP_15YO-M_PBMC_DNA   | 0 |  33 |\n",
       "| 6 | CHP_16YO-M_PBMC_DNA   | 0 |   7 |\n",
       "| 7 | CHP_1YO-M-A_PBMC_DNA  | 0 |  65 |\n",
       "| 8 | CHP_1YO-M-B_PBMC_DNA  | 0 |   5 |\n",
       "| 9 | CHP_2YO-M_PBMC_DNA    | 0 |  16 |\n",
       "| 10 | CHP_303-05-PBMC-DNA   | 0 | 329 |\n",
       "| 11 | CHP_315-05_cfDNA      | 0 |   2 |\n",
       "| 12 | CHP_315-05-PBMC-DNA   | 0 |  38 |\n",
       "| 13 | CHP_319-05-PBMC-DNA   | 0 |  16 |\n",
       "| 14 | CHP_323-03_cfDNA      | 0 | 135 |\n",
       "| 15 | CHP_323-03-PBMC-DNA   | 0 |  59 |\n",
       "\n"
      ],
      "text/plain": [
       "   Sample                Q Value\n",
       "1  CHP_10YO-M_PBMC_DNA   0  22  \n",
       "2  CHP_11YO-M_PBMC_DNA   0  21  \n",
       "3  CHP_15YO-F-A_PBMC_DNA 0  13  \n",
       "4  CHP_15YO-F-B_PBMC_DNA 0   9  \n",
       "5  CHP_15YO-M_PBMC_DNA   0  33  \n",
       "6  CHP_16YO-M_PBMC_DNA   0   7  \n",
       "7  CHP_1YO-M-A_PBMC_DNA  0  65  \n",
       "8  CHP_1YO-M-B_PBMC_DNA  0   5  \n",
       "9  CHP_2YO-M_PBMC_DNA    0  16  \n",
       "10 CHP_303-05-PBMC-DNA   0 329  \n",
       "11 CHP_315-05_cfDNA      0   2  \n",
       "12 CHP_315-05-PBMC-DNA   0  38  \n",
       "13 CHP_319-05-PBMC-DNA   0  16  \n",
       "14 CHP_323-03_cfDNA      0 135  \n",
       "15 CHP_323-03-PBMC-DNA   0  59  "
      ]
     },
     "metadata": {},
     "output_type": "display_data"
    }
   ],
   "source": [
    "head(q0_aa,15)"
   ]
  },
  {
   "cell_type": "code",
   "execution_count": 16,
   "metadata": {},
   "outputs": [],
   "source": [
    "meta_div$q0_aa <- q0_aa$Value[match(meta_div$basename, q0_aa$Sample)]\n",
    "meta_div$q0_v <- q0_v$Value[match(meta_div$basename, q0_v$Sample)]\n",
    "meta_div$q0_j <- q0_j$Value[match(meta_div$basename, q0_j$Sample)]\n",
    "meta_div$q0_aav <- q0_aav$Value[match(meta_div$basename, q0_aav$Sample)]\n",
    "meta_div$q0_vj <- rowMeans(meta_div[,c(\"q0_j\", \"q0_v\")])"
   ]
  },
  {
   "cell_type": "code",
   "execution_count": 17,
   "metadata": {},
   "outputs": [],
   "source": [
    "q1_aa <- as.data.frame(div_hill_aa[ div_hill_aa$Q == 1,])\n",
    "q1_v <- as.data.frame(div_hill_v[ div_hill_v$Q == 1,])\n",
    "q1_j <- as.data.frame(div_hill_j[ div_hill_j$Q == 1,])\n",
    "q1_aav <- as.data.frame(div_hill_aav[ div_hill_aav$Q == 1,])"
   ]
  },
  {
   "cell_type": "code",
   "execution_count": 18,
   "metadata": {},
   "outputs": [],
   "source": [
    "meta_div$q1_aa <- q1_aa$Value[match(meta_div$basename, q1_aa$Sample)]\n",
    "meta_div$q1_v <- q1_v$Value[match(meta_div$basename, q1_v$Sample)]\n",
    "meta_div$q1_j <- q1_j$Value[match(meta_div$basename, q1_j$Sample)]\n",
    "meta_div$q1_aav <- q1_aav$Value[match(meta_div$basename, q1_aav$Sample)]\n",
    "meta_div$q1_vj <- rowMeans(meta_div[,c(\"q1_j\", \"q1_v\")])"
   ]
  },
  {
   "cell_type": "code",
   "execution_count": 19,
   "metadata": {},
   "outputs": [],
   "source": [
    "save(meta_div, file = paste0(datapath,\"capTCRseq/divstats_immunarch.RData\" ))"
   ]
  },
  {
   "cell_type": "markdown",
   "metadata": {},
   "source": [
    "## Create metadata for immunarch"
   ]
  },
  {
   "cell_type": "code",
   "execution_count": 20,
   "metadata": {},
   "outputs": [],
   "source": [
    "load(file = paste0(datapath,\"capTCRseq/divstats_immunarch.RData\" ))"
   ]
  },
  {
   "cell_type": "code",
   "execution_count": 21,
   "metadata": {},
   "outputs": [],
   "source": [
    "metatmp <- merge(int_load$meta, meta_div, by.x = \"Sample\", by.y = \"basename\")"
   ]
  },
  {
   "cell_type": "code",
   "execution_count": null,
   "metadata": {},
   "outputs": [],
   "source": [
    "meta_div$"
   ]
  },
  {
   "cell_type": "code",
   "execution_count": 22,
   "metadata": {},
   "outputs": [
    {
     "data": {
      "text/plain": [
       "\n",
       "Leukemia      LFS Lymphoma   Normal    Solid     <NA> \n",
       "     394       10      148       14      275        0 "
      ]
     },
     "metadata": {},
     "output_type": "display_data"
    }
   ],
   "source": [
    "table(meta_div$cancergroup, useNA = \"always\")"
   ]
  },
  {
   "cell_type": "code",
   "execution_count": 23,
   "metadata": {},
   "outputs": [
    {
     "data": {
      "text/plain": [
       "\n",
       "Leukemia      LFS Lymphoma   Normal    Solid     <NA> \n",
       "     275       10      103       14      183        0 "
      ]
     },
     "metadata": {},
     "output_type": "display_data"
    }
   ],
   "source": [
    "table(metatmp$cancergroup, useNA = \"always\")"
   ]
  },
  {
   "cell_type": "code",
   "execution_count": 24,
   "metadata": {},
   "outputs": [
    {
     "data": {
      "text/html": [
       "<table class=\"dataframe\">\n",
       "<caption>A data.frame: 256 × 68</caption>\n",
       "<thead>\n",
       "\t<tr><th></th><th scope=col>sample_id</th><th scope=col>Patient</th><th scope=col>cycle</th><th scope=col>FOLD</th><th scope=col>ATC</th><th scope=col>Age</th><th scope=col>Disease_type</th><th scope=col>TE_fold</th><th scope=col>Pass</th><th scope=col>CD3</th><th scope=col>⋯</th><th scope=col>q0_aa</th><th scope=col>q0_v</th><th scope=col>q0_j</th><th scope=col>q0_aav</th><th scope=col>q0_vj</th><th scope=col>q1_aa</th><th scope=col>q1_v</th><th scope=col>q1_j</th><th scope=col>q1_aav</th><th scope=col>q1_vj</th></tr>\n",
       "\t<tr><th></th><th scope=col>&lt;chr&gt;</th><th scope=col>&lt;chr&gt;</th><th scope=col>&lt;chr&gt;</th><th scope=col>&lt;dbl&gt;</th><th scope=col>&lt;dbl&gt;</th><th scope=col>&lt;dbl&gt;</th><th scope=col>&lt;chr&gt;</th><th scope=col>&lt;chr&gt;</th><th scope=col>&lt;lgl&gt;</th><th scope=col>&lt;int&gt;</th><th scope=col>⋯</th><th scope=col>&lt;dbl&gt;</th><th scope=col>&lt;dbl&gt;</th><th scope=col>&lt;dbl&gt;</th><th scope=col>&lt;dbl&gt;</th><th scope=col>&lt;dbl&gt;</th><th scope=col>&lt;dbl&gt;</th><th scope=col>&lt;dbl&gt;</th><th scope=col>&lt;dbl&gt;</th><th scope=col>&lt;dbl&gt;</th><th scope=col>&lt;dbl&gt;</th></tr>\n",
       "</thead>\n",
       "<tbody>\n",
       "\t<tr><th scope=row>14</th><td>CHP_320_01</td><td>CHP_320</td><td>X01</td><td> 8.9</td><td>   0.00</td><td> 6.0</td><td>AML   </td><td>8.9 </td><td>NA</td><td>0</td><td>⋯</td><td>NA</td><td>NA</td><td>NA</td><td>NA</td><td>NA</td><td>NA</td><td>NA</td><td>NA</td><td>NA</td><td>NA</td></tr>\n",
       "\t<tr><th scope=row>15</th><td>CHP_320_02</td><td>CHP_320</td><td>X02</td><td> 3.5</td><td>   0.00</td><td> 6.0</td><td>AML   </td><td>3.5 </td><td>NA</td><td>0</td><td>⋯</td><td>NA</td><td>NA</td><td>NA</td><td>NA</td><td>NA</td><td>NA</td><td>NA</td><td>NA</td><td>NA</td><td>NA</td></tr>\n",
       "\t<tr><th scope=row>16</th><td>CHP_320_03</td><td>CHP_320</td><td>X03</td><td>13.2</td><td>   0.00</td><td> 6.0</td><td>AML   </td><td>13.2</td><td>NA</td><td>0</td><td>⋯</td><td>NA</td><td>NA</td><td>NA</td><td>NA</td><td>NA</td><td>NA</td><td>NA</td><td>NA</td><td>NA</td><td>NA</td></tr>\n",
       "\t<tr><th scope=row>17</th><td>CHP_320_04</td><td>CHP_320</td><td>X04</td><td>  NA</td><td>   0.00</td><td> 6.0</td><td>AML   </td><td>x   </td><td>NA</td><td>0</td><td>⋯</td><td>NA</td><td>NA</td><td>NA</td><td>NA</td><td>NA</td><td>NA</td><td>NA</td><td>NA</td><td>NA</td><td>NA</td></tr>\n",
       "\t<tr><th scope=row>18</th><td>CHP_320_05</td><td>CHP_320</td><td>X05</td><td> 0.0</td><td>   0.00</td><td> 6.0</td><td>AML   </td><td>0   </td><td>NA</td><td>0</td><td>⋯</td><td>NA</td><td>NA</td><td>NA</td><td>NA</td><td>NA</td><td>NA</td><td>NA</td><td>NA</td><td>NA</td><td>NA</td></tr>\n",
       "\t<tr><th scope=row>19</th><td>CHP_321_01</td><td>CHP_321</td><td>X01</td><td> 0.0</td><td>   0.00</td><td>16.0</td><td>HD    </td><td>0   </td><td>NA</td><td>0</td><td>⋯</td><td>NA</td><td>NA</td><td>NA</td><td>NA</td><td>NA</td><td>NA</td><td>NA</td><td>NA</td><td>NA</td><td>NA</td></tr>\n",
       "\t<tr><th scope=row>20</th><td>CHP_321_02</td><td>CHP_321</td><td>X02</td><td> 0.0</td><td>   0.00</td><td>16.0</td><td>HD    </td><td>0   </td><td>NA</td><td>0</td><td>⋯</td><td>NA</td><td>NA</td><td>NA</td><td>NA</td><td>NA</td><td>NA</td><td>NA</td><td>NA</td><td>NA</td><td>NA</td></tr>\n",
       "\t<tr><th scope=row>21</th><td>CHP_321_03</td><td>CHP_321</td><td>X03</td><td> 0.0</td><td>   0.00</td><td>16.0</td><td>HD    </td><td>0   </td><td>NA</td><td>0</td><td>⋯</td><td>NA</td><td>NA</td><td>NA</td><td>NA</td><td>NA</td><td>NA</td><td>NA</td><td>NA</td><td>NA</td><td>NA</td></tr>\n",
       "\t<tr><th scope=row>22</th><td>CHP_321_04</td><td>CHP_321</td><td>X04</td><td> 0.0</td><td>   0.00</td><td>16.0</td><td>HD    </td><td>0   </td><td>NA</td><td>0</td><td>⋯</td><td>NA</td><td>NA</td><td>NA</td><td>NA</td><td>NA</td><td>NA</td><td>NA</td><td>NA</td><td>NA</td><td>NA</td></tr>\n",
       "\t<tr><th scope=row>23</th><td>CHP_321_05</td><td>CHP_321</td><td>X05</td><td> 0.0</td><td>   0.00</td><td>16.0</td><td>HD    </td><td>0   </td><td>NA</td><td>0</td><td>⋯</td><td>NA</td><td>NA</td><td>NA</td><td>NA</td><td>NA</td><td>NA</td><td>NA</td><td>NA</td><td>NA</td><td>NA</td></tr>\n",
       "\t<tr><th scope=row>24</th><td>CHP_322_01</td><td>CHP_322</td><td>X01</td><td> 1.1</td><td>   0.00</td><td>18.0</td><td>DLBCL </td><td>1.1 </td><td>NA</td><td>0</td><td>⋯</td><td>NA</td><td>NA</td><td>NA</td><td>NA</td><td>NA</td><td>NA</td><td>NA</td><td>NA</td><td>NA</td><td>NA</td></tr>\n",
       "\t<tr><th scope=row>25</th><td>CHP_322_02</td><td>CHP_322</td><td>X02</td><td> 0.4</td><td>   0.00</td><td>18.0</td><td>DLBCL </td><td>0.4 </td><td>NA</td><td>0</td><td>⋯</td><td>NA</td><td>NA</td><td>NA</td><td>NA</td><td>NA</td><td>NA</td><td>NA</td><td>NA</td><td>NA</td><td>NA</td></tr>\n",
       "\t<tr><th scope=row>26</th><td>CHP_322_03</td><td>CHP_322</td><td>X03</td><td> 4.3</td><td>   0.00</td><td>18.0</td><td>DLBCL </td><td>4.3 </td><td>NA</td><td>0</td><td>⋯</td><td>NA</td><td>NA</td><td>NA</td><td>NA</td><td>NA</td><td>NA</td><td>NA</td><td>NA</td><td>NA</td><td>NA</td></tr>\n",
       "\t<tr><th scope=row>27</th><td>CHP_322_04</td><td>CHP_322</td><td>X04</td><td> 4.7</td><td>   0.00</td><td>18.0</td><td>DLBCL </td><td>4.7 </td><td>NA</td><td>0</td><td>⋯</td><td>NA</td><td>NA</td><td>NA</td><td>NA</td><td>NA</td><td>NA</td><td>NA</td><td>NA</td><td>NA</td><td>NA</td></tr>\n",
       "\t<tr><th scope=row>28</th><td>CHP_322_05</td><td>CHP_322</td><td>X05</td><td> 1.0</td><td>   0.00</td><td>18.0</td><td>DLBCL </td><td>1   </td><td>NA</td><td>0</td><td>⋯</td><td>NA</td><td>NA</td><td>NA</td><td>NA</td><td>NA</td><td>NA</td><td>NA</td><td>NA</td><td>NA</td><td>NA</td></tr>\n",
       "\t<tr><th scope=row>29</th><td>CHP_323_01</td><td>CHP_323</td><td>X01</td><td> 0.0</td><td> 154.75</td><td> 1.0</td><td>HR ALL</td><td>0   </td><td>NA</td><td>0</td><td>⋯</td><td>NA</td><td>NA</td><td>NA</td><td>NA</td><td>NA</td><td>NA</td><td>NA</td><td>NA</td><td>NA</td><td>NA</td></tr>\n",
       "\t<tr><th scope=row>30</th><td>CHP_323_02</td><td>CHP_323</td><td>X02</td><td> 0.0</td><td>1397.28</td><td> 1.0</td><td>HR ALL</td><td>0   </td><td>NA</td><td>0</td><td>⋯</td><td>NA</td><td>NA</td><td>NA</td><td>NA</td><td>NA</td><td>NA</td><td>NA</td><td>NA</td><td>NA</td><td>NA</td></tr>\n",
       "\t<tr><th scope=row>36</th><td>CHP_324_01</td><td>CHP_324</td><td>X01</td><td> 0.0</td><td>   0.00</td><td>12.0</td><td>T-ALL </td><td>0   </td><td>NA</td><td>0</td><td>⋯</td><td>NA</td><td>NA</td><td>NA</td><td>NA</td><td>NA</td><td>NA</td><td>NA</td><td>NA</td><td>NA</td><td>NA</td></tr>\n",
       "\t<tr><th scope=row>37</th><td>CHP_324_02</td><td>CHP_324</td><td>X02</td><td> 0.0</td><td>   0.00</td><td>12.0</td><td>T-ALL </td><td>0   </td><td>NA</td><td>0</td><td>⋯</td><td>NA</td><td>NA</td><td>NA</td><td>NA</td><td>NA</td><td>NA</td><td>NA</td><td>NA</td><td>NA</td><td>NA</td></tr>\n",
       "\t<tr><th scope=row>38</th><td>CHP_324_03</td><td>CHP_324</td><td>X03</td><td> 0.0</td><td>   0.00</td><td>12.0</td><td>T-ALL </td><td>0   </td><td>NA</td><td>0</td><td>⋯</td><td>NA</td><td>NA</td><td>NA</td><td>NA</td><td>NA</td><td>NA</td><td>NA</td><td>NA</td><td>NA</td><td>NA</td></tr>\n",
       "\t<tr><th scope=row>42</th><td>CHP_325_01</td><td>CHP_325</td><td>X01</td><td> 0.0</td><td>     NA</td><td> 2.0</td><td>ERMS  </td><td>0   </td><td>NA</td><td>0</td><td>⋯</td><td>NA</td><td>NA</td><td>NA</td><td>NA</td><td>NA</td><td>NA</td><td>NA</td><td>NA</td><td>NA</td><td>NA</td></tr>\n",
       "\t<tr><th scope=row>43</th><td>CHP_325_02</td><td>CHP_325</td><td>X02</td><td> 0.0</td><td> 927.46</td><td> 2.0</td><td>ERMS  </td><td>0   </td><td>NA</td><td>0</td><td>⋯</td><td>NA</td><td>NA</td><td>NA</td><td>NA</td><td>NA</td><td>NA</td><td>NA</td><td>NA</td><td>NA</td><td>NA</td></tr>\n",
       "\t<tr><th scope=row>44</th><td>CHP_325_03</td><td>CHP_325</td><td>X03</td><td> 0.0</td><td> 624.72</td><td> 2.0</td><td>ERMS  </td><td>0   </td><td>NA</td><td>0</td><td>⋯</td><td>NA</td><td>NA</td><td>NA</td><td>NA</td><td>NA</td><td>NA</td><td>NA</td><td>NA</td><td>NA</td><td>NA</td></tr>\n",
       "\t<tr><th scope=row>45</th><td>CHP_325_04</td><td>CHP_325</td><td>X04</td><td> 0.0</td><td> 163.77</td><td> 2.0</td><td>ERMS  </td><td>0   </td><td>NA</td><td>0</td><td>⋯</td><td>NA</td><td>NA</td><td>NA</td><td>NA</td><td>NA</td><td>NA</td><td>NA</td><td>NA</td><td>NA</td><td>NA</td></tr>\n",
       "\t<tr><th scope=row>46</th><td>CHP_325_05</td><td>CHP_325</td><td>X05</td><td> 0.0</td><td>   0.00</td><td> 2.0</td><td>ERMS  </td><td>0   </td><td>NA</td><td>0</td><td>⋯</td><td>NA</td><td>NA</td><td>NA</td><td>NA</td><td>NA</td><td>NA</td><td>NA</td><td>NA</td><td>NA</td><td>NA</td></tr>\n",
       "\t<tr><th scope=row>47</th><td>CHP_326_01</td><td>CHP_326</td><td>X01</td><td> 0.0</td><td>  77.52</td><td> 4.0</td><td>SR ALL</td><td>0   </td><td>NA</td><td>0</td><td>⋯</td><td>NA</td><td>NA</td><td>NA</td><td>NA</td><td>NA</td><td>NA</td><td>NA</td><td>NA</td><td>NA</td><td>NA</td></tr>\n",
       "\t<tr><th scope=row>48</th><td>CHP_326_02</td><td>CHP_326</td><td>X02</td><td> 0.0</td><td> 400.14</td><td> 4.0</td><td>SR ALL</td><td>0   </td><td>NA</td><td>0</td><td>⋯</td><td>NA</td><td>NA</td><td>NA</td><td>NA</td><td>NA</td><td>NA</td><td>NA</td><td>NA</td><td>NA</td><td>NA</td></tr>\n",
       "\t<tr><th scope=row>49</th><td>CHP_326_03</td><td>CHP_326</td><td>X03</td><td> 0.0</td><td> 122.08</td><td> 4.0</td><td>SR ALL</td><td>0   </td><td>NA</td><td>0</td><td>⋯</td><td>NA</td><td>NA</td><td>NA</td><td>NA</td><td>NA</td><td>NA</td><td>NA</td><td>NA</td><td>NA</td><td>NA</td></tr>\n",
       "\t<tr><th scope=row>50</th><td>CHP_326_04</td><td>CHP_326</td><td>X04</td><td> 0.0</td><td>1242.85</td><td> 4.0</td><td>SR ALL</td><td>0   </td><td>NA</td><td>0</td><td>⋯</td><td>NA</td><td>NA</td><td>NA</td><td>NA</td><td>NA</td><td>NA</td><td>NA</td><td>NA</td><td>NA</td><td>NA</td></tr>\n",
       "\t<tr><th scope=row>52</th><td>CHP_327_01</td><td>CHP_327</td><td>X01</td><td> 6.8</td><td>   0.00</td><td> 0.6</td><td>HB    </td><td>6.8 </td><td>NA</td><td>0</td><td>⋯</td><td>NA</td><td>NA</td><td>NA</td><td>NA</td><td>NA</td><td>NA</td><td>NA</td><td>NA</td><td>NA</td><td>NA</td></tr>\n",
       "\t<tr><th scope=row>⋮</th><td>⋮</td><td>⋮</td><td>⋮</td><td>⋮</td><td>⋮</td><td>⋮</td><td>⋮</td><td>⋮</td><td>⋮</td><td>⋮</td><td>⋱</td><td>⋮</td><td>⋮</td><td>⋮</td><td>⋮</td><td>⋮</td><td>⋮</td><td>⋮</td><td>⋮</td><td>⋮</td><td>⋮</td></tr>\n",
       "\t<tr><th scope=row>804</th><td>CHP_432_01</td><td>CHP_432</td><td>X01</td><td>2.7</td><td>0</td><td>15</td><td>OS  </td><td>2.7</td><td>NA</td><td>2138</td><td>⋯</td><td>NA</td><td>NA</td><td>NA</td><td>NA</td><td>NA</td><td>NA</td><td>NA</td><td>NA</td><td>NA</td><td>NA</td></tr>\n",
       "\t<tr><th scope=row>805</th><td>CHP_432_02</td><td>CHP_432</td><td>X02</td><td>0.0</td><td>0</td><td>15</td><td>OS  </td><td>0  </td><td>NA</td><td>   0</td><td>⋯</td><td>NA</td><td>NA</td><td>NA</td><td>NA</td><td>NA</td><td>NA</td><td>NA</td><td>NA</td><td>NA</td><td>NA</td></tr>\n",
       "\t<tr><th scope=row>806</th><td>CHP_432_03</td><td>CHP_432</td><td>X03</td><td>0.0</td><td>0</td><td>15</td><td>OS  </td><td>0  </td><td>NA</td><td>   0</td><td>⋯</td><td>NA</td><td>NA</td><td>NA</td><td>NA</td><td>NA</td><td>NA</td><td>NA</td><td>NA</td><td>NA</td><td>NA</td></tr>\n",
       "\t<tr><th scope=row>807</th><td>CHP_432_04</td><td>CHP_432</td><td>X04</td><td>0.0</td><td>0</td><td>15</td><td>OS  </td><td>0  </td><td>NA</td><td>   0</td><td>⋯</td><td>NA</td><td>NA</td><td>NA</td><td>NA</td><td>NA</td><td>NA</td><td>NA</td><td>NA</td><td>NA</td><td>NA</td></tr>\n",
       "\t<tr><th scope=row>808</th><td>CHP_432_05</td><td>CHP_432</td><td>X05</td><td>0.0</td><td>0</td><td>15</td><td>OS  </td><td>0  </td><td>NA</td><td>   0</td><td>⋯</td><td>NA</td><td>NA</td><td>NA</td><td>NA</td><td>NA</td><td>NA</td><td>NA</td><td>NA</td><td>NA</td><td>NA</td></tr>\n",
       "\t<tr><th scope=row>809</th><td>CHP_433_01</td><td>CHP_433</td><td>X01</td><td>1.1</td><td>0</td><td>16</td><td>ALCL</td><td>1.1</td><td>NA</td><td>2822</td><td>⋯</td><td>NA</td><td>NA</td><td>NA</td><td>NA</td><td>NA</td><td>NA</td><td>NA</td><td>NA</td><td>NA</td><td>NA</td></tr>\n",
       "\t<tr><th scope=row>810</th><td>CHP_433_02</td><td>CHP_433</td><td>X02</td><td>0.0</td><td>0</td><td>16</td><td>ALCL</td><td>0  </td><td>NA</td><td>   0</td><td>⋯</td><td>NA</td><td>NA</td><td>NA</td><td>NA</td><td>NA</td><td>NA</td><td>NA</td><td>NA</td><td>NA</td><td>NA</td></tr>\n",
       "\t<tr><th scope=row>811</th><td>CHP_433_03</td><td>CHP_433</td><td>X03</td><td>0.0</td><td>0</td><td>16</td><td>ALCL</td><td>0  </td><td>NA</td><td>   0</td><td>⋯</td><td>NA</td><td>NA</td><td>NA</td><td>NA</td><td>NA</td><td>NA</td><td>NA</td><td>NA</td><td>NA</td><td>NA</td></tr>\n",
       "\t<tr><th scope=row>812</th><td>CHP_433_04</td><td>CHP_433</td><td>X04</td><td>0.0</td><td>0</td><td>16</td><td>ALCL</td><td>0  </td><td>NA</td><td>   0</td><td>⋯</td><td>NA</td><td>NA</td><td>NA</td><td>NA</td><td>NA</td><td>NA</td><td>NA</td><td>NA</td><td>NA</td><td>NA</td></tr>\n",
       "\t<tr><th scope=row>813</th><td>CHP_433_05</td><td>CHP_433</td><td>X05</td><td>0.0</td><td>0</td><td>16</td><td>ALCL</td><td>0  </td><td>NA</td><td>   0</td><td>⋯</td><td>NA</td><td>NA</td><td>NA</td><td>NA</td><td>NA</td><td>NA</td><td>NA</td><td>NA</td><td>NA</td><td>NA</td></tr>\n",
       "\t<tr><th scope=row>814</th><td>CHP_434_01</td><td>CHP_434</td><td>X01</td><td>4.5</td><td>0</td><td>12</td><td>HD  </td><td>4.5</td><td>NA</td><td>3272</td><td>⋯</td><td>NA</td><td>NA</td><td>NA</td><td>NA</td><td>NA</td><td>NA</td><td>NA</td><td>NA</td><td>NA</td><td>NA</td></tr>\n",
       "\t<tr><th scope=row>815</th><td>CHP_434_02</td><td>CHP_434</td><td>X02</td><td>0.0</td><td>0</td><td>12</td><td>HD  </td><td>0  </td><td>NA</td><td>   0</td><td>⋯</td><td>NA</td><td>NA</td><td>NA</td><td>NA</td><td>NA</td><td>NA</td><td>NA</td><td>NA</td><td>NA</td><td>NA</td></tr>\n",
       "\t<tr><th scope=row>816</th><td>CHP_434_03</td><td>CHP_434</td><td>X03</td><td>0.0</td><td>0</td><td>12</td><td>HD  </td><td>0  </td><td>NA</td><td>   0</td><td>⋯</td><td>NA</td><td>NA</td><td>NA</td><td>NA</td><td>NA</td><td>NA</td><td>NA</td><td>NA</td><td>NA</td><td>NA</td></tr>\n",
       "\t<tr><th scope=row>817</th><td>CHP_434_04</td><td>CHP_434</td><td>X04</td><td>0.0</td><td>0</td><td>12</td><td>HD  </td><td>0  </td><td>NA</td><td>   0</td><td>⋯</td><td>NA</td><td>NA</td><td>NA</td><td>NA</td><td>NA</td><td>NA</td><td>NA</td><td>NA</td><td>NA</td><td>NA</td></tr>\n",
       "\t<tr><th scope=row>818</th><td>CHP_434_05</td><td>CHP_434</td><td>X05</td><td>0.0</td><td>0</td><td>12</td><td>HD  </td><td>0  </td><td>NA</td><td>   0</td><td>⋯</td><td>NA</td><td>NA</td><td>NA</td><td>NA</td><td>NA</td><td>NA</td><td>NA</td><td>NA</td><td>NA</td><td>NA</td></tr>\n",
       "\t<tr><th scope=row>819</th><td>CHP_435_01</td><td>CHP_435</td><td>X01</td><td>0.0</td><td>0</td><td> 0</td><td>CML </td><td>0  </td><td>NA</td><td>   0</td><td>⋯</td><td>NA</td><td>NA</td><td>NA</td><td>NA</td><td>NA</td><td>NA</td><td>NA</td><td>NA</td><td>NA</td><td>NA</td></tr>\n",
       "\t<tr><th scope=row>820</th><td>CHP_435_02</td><td>CHP_435</td><td>X02</td><td>0.0</td><td>0</td><td> 0</td><td>CML </td><td>0  </td><td>NA</td><td>   0</td><td>⋯</td><td>NA</td><td>NA</td><td>NA</td><td>NA</td><td>NA</td><td>NA</td><td>NA</td><td>NA</td><td>NA</td><td>NA</td></tr>\n",
       "\t<tr><th scope=row>821</th><td>CHP_435_03</td><td>CHP_435</td><td>X03</td><td>0.0</td><td>0</td><td> 0</td><td>CML </td><td>0  </td><td>NA</td><td>   0</td><td>⋯</td><td>NA</td><td>NA</td><td>NA</td><td>NA</td><td>NA</td><td>NA</td><td>NA</td><td>NA</td><td>NA</td><td>NA</td></tr>\n",
       "\t<tr><th scope=row>822</th><td>CHP_435_04</td><td>CHP_435</td><td>X04</td><td>0.0</td><td>0</td><td> 0</td><td>CML </td><td>0  </td><td>NA</td><td>   0</td><td>⋯</td><td>NA</td><td>NA</td><td>NA</td><td>NA</td><td>NA</td><td>NA</td><td>NA</td><td>NA</td><td>NA</td><td>NA</td></tr>\n",
       "\t<tr><th scope=row>823</th><td>CHP_435_05</td><td>CHP_435</td><td>X05</td><td>0.0</td><td>0</td><td> 0</td><td>CML </td><td>0  </td><td>NA</td><td>   0</td><td>⋯</td><td>NA</td><td>NA</td><td>NA</td><td>NA</td><td>NA</td><td>NA</td><td>NA</td><td>NA</td><td>NA</td><td>NA</td></tr>\n",
       "\t<tr><th scope=row>824</th><td>CHP_436_01</td><td>CHP_436</td><td>X01</td><td>0.0</td><td>0</td><td>15</td><td>OS  </td><td>0  </td><td>NA</td><td>   0</td><td>⋯</td><td>NA</td><td>NA</td><td>NA</td><td>NA</td><td>NA</td><td>NA</td><td>NA</td><td>NA</td><td>NA</td><td>NA</td></tr>\n",
       "\t<tr><th scope=row>825</th><td>CHP_436_02</td><td>CHP_436</td><td>X02</td><td>0.0</td><td>0</td><td>15</td><td>OS  </td><td>0  </td><td>NA</td><td>   0</td><td>⋯</td><td>NA</td><td>NA</td><td>NA</td><td>NA</td><td>NA</td><td>NA</td><td>NA</td><td>NA</td><td>NA</td><td>NA</td></tr>\n",
       "\t<tr><th scope=row>826</th><td>CHP_436_03</td><td>CHP_436</td><td>X03</td><td>0.0</td><td>0</td><td>15</td><td>OS  </td><td>0  </td><td>NA</td><td>   0</td><td>⋯</td><td>NA</td><td>NA</td><td>NA</td><td>NA</td><td>NA</td><td>NA</td><td>NA</td><td>NA</td><td>NA</td><td>NA</td></tr>\n",
       "\t<tr><th scope=row>827</th><td>CHP_436_04</td><td>CHP_436</td><td>X04</td><td>0.0</td><td>0</td><td>15</td><td>OS  </td><td>0  </td><td>NA</td><td>   0</td><td>⋯</td><td>NA</td><td>NA</td><td>NA</td><td>NA</td><td>NA</td><td>NA</td><td>NA</td><td>NA</td><td>NA</td><td>NA</td></tr>\n",
       "\t<tr><th scope=row>828</th><td>CHP_436_05</td><td>CHP_436</td><td>X05</td><td>0.0</td><td>0</td><td>15</td><td>OS  </td><td>0  </td><td>NA</td><td>   0</td><td>⋯</td><td>NA</td><td>NA</td><td>NA</td><td>NA</td><td>NA</td><td>NA</td><td>NA</td><td>NA</td><td>NA</td><td>NA</td></tr>\n",
       "\t<tr><th scope=row>829</th><td>CHP_437_01</td><td>CHP_437</td><td>X01</td><td>0.0</td><td>0</td><td> 9</td><td>OS  </td><td>0  </td><td>NA</td><td>   0</td><td>⋯</td><td>NA</td><td>NA</td><td>NA</td><td>NA</td><td>NA</td><td>NA</td><td>NA</td><td>NA</td><td>NA</td><td>NA</td></tr>\n",
       "\t<tr><th scope=row>830</th><td>CHP_437_02</td><td>CHP_437</td><td>X02</td><td>0.0</td><td>0</td><td> 9</td><td>OS  </td><td>0  </td><td>NA</td><td>   0</td><td>⋯</td><td>NA</td><td>NA</td><td>NA</td><td>NA</td><td>NA</td><td>NA</td><td>NA</td><td>NA</td><td>NA</td><td>NA</td></tr>\n",
       "\t<tr><th scope=row>831</th><td>CHP_437_03</td><td>CHP_437</td><td>X03</td><td>0.0</td><td>0</td><td> 9</td><td>OS  </td><td>0  </td><td>NA</td><td>   0</td><td>⋯</td><td>NA</td><td>NA</td><td>NA</td><td>NA</td><td>NA</td><td>NA</td><td>NA</td><td>NA</td><td>NA</td><td>NA</td></tr>\n",
       "\t<tr><th scope=row>832</th><td>CHP_437_04</td><td>CHP_437</td><td>X04</td><td>0.0</td><td>0</td><td> 9</td><td>OS  </td><td>0  </td><td>NA</td><td>   0</td><td>⋯</td><td>NA</td><td>NA</td><td>NA</td><td>NA</td><td>NA</td><td>NA</td><td>NA</td><td>NA</td><td>NA</td><td>NA</td></tr>\n",
       "\t<tr><th scope=row>833</th><td>CHP_437_05</td><td>CHP_437</td><td>X05</td><td>0.0</td><td>0</td><td> 9</td><td>OS  </td><td>0  </td><td>NA</td><td>   0</td><td>⋯</td><td>NA</td><td>NA</td><td>NA</td><td>NA</td><td>NA</td><td>NA</td><td>NA</td><td>NA</td><td>NA</td><td>NA</td></tr>\n",
       "</tbody>\n",
       "</table>\n"
      ],
      "text/latex": [
       "A data.frame: 256 × 68\n",
       "\\begin{tabular}{r|lllllllllllllllllllll}\n",
       "  & sample\\_id & Patient & cycle & FOLD & ATC & Age & Disease\\_type & TE\\_fold & Pass & CD3 & ⋯ & q0\\_aa & q0\\_v & q0\\_j & q0\\_aav & q0\\_vj & q1\\_aa & q1\\_v & q1\\_j & q1\\_aav & q1\\_vj\\\\\n",
       "  & <chr> & <chr> & <chr> & <dbl> & <dbl> & <dbl> & <chr> & <chr> & <lgl> & <int> & ⋯ & <dbl> & <dbl> & <dbl> & <dbl> & <dbl> & <dbl> & <dbl> & <dbl> & <dbl> & <dbl>\\\\\n",
       "\\hline\n",
       "\t14 & CHP\\_320\\_01 & CHP\\_320 & X01 &  8.9 &    0.00 &  6.0 & AML    & 8.9  & NA & 0 & ⋯ & NA & NA & NA & NA & NA & NA & NA & NA & NA & NA\\\\\n",
       "\t15 & CHP\\_320\\_02 & CHP\\_320 & X02 &  3.5 &    0.00 &  6.0 & AML    & 3.5  & NA & 0 & ⋯ & NA & NA & NA & NA & NA & NA & NA & NA & NA & NA\\\\\n",
       "\t16 & CHP\\_320\\_03 & CHP\\_320 & X03 & 13.2 &    0.00 &  6.0 & AML    & 13.2 & NA & 0 & ⋯ & NA & NA & NA & NA & NA & NA & NA & NA & NA & NA\\\\\n",
       "\t17 & CHP\\_320\\_04 & CHP\\_320 & X04 &   NA &    0.00 &  6.0 & AML    & x    & NA & 0 & ⋯ & NA & NA & NA & NA & NA & NA & NA & NA & NA & NA\\\\\n",
       "\t18 & CHP\\_320\\_05 & CHP\\_320 & X05 &  0.0 &    0.00 &  6.0 & AML    & 0    & NA & 0 & ⋯ & NA & NA & NA & NA & NA & NA & NA & NA & NA & NA\\\\\n",
       "\t19 & CHP\\_321\\_01 & CHP\\_321 & X01 &  0.0 &    0.00 & 16.0 & HD     & 0    & NA & 0 & ⋯ & NA & NA & NA & NA & NA & NA & NA & NA & NA & NA\\\\\n",
       "\t20 & CHP\\_321\\_02 & CHP\\_321 & X02 &  0.0 &    0.00 & 16.0 & HD     & 0    & NA & 0 & ⋯ & NA & NA & NA & NA & NA & NA & NA & NA & NA & NA\\\\\n",
       "\t21 & CHP\\_321\\_03 & CHP\\_321 & X03 &  0.0 &    0.00 & 16.0 & HD     & 0    & NA & 0 & ⋯ & NA & NA & NA & NA & NA & NA & NA & NA & NA & NA\\\\\n",
       "\t22 & CHP\\_321\\_04 & CHP\\_321 & X04 &  0.0 &    0.00 & 16.0 & HD     & 0    & NA & 0 & ⋯ & NA & NA & NA & NA & NA & NA & NA & NA & NA & NA\\\\\n",
       "\t23 & CHP\\_321\\_05 & CHP\\_321 & X05 &  0.0 &    0.00 & 16.0 & HD     & 0    & NA & 0 & ⋯ & NA & NA & NA & NA & NA & NA & NA & NA & NA & NA\\\\\n",
       "\t24 & CHP\\_322\\_01 & CHP\\_322 & X01 &  1.1 &    0.00 & 18.0 & DLBCL  & 1.1  & NA & 0 & ⋯ & NA & NA & NA & NA & NA & NA & NA & NA & NA & NA\\\\\n",
       "\t25 & CHP\\_322\\_02 & CHP\\_322 & X02 &  0.4 &    0.00 & 18.0 & DLBCL  & 0.4  & NA & 0 & ⋯ & NA & NA & NA & NA & NA & NA & NA & NA & NA & NA\\\\\n",
       "\t26 & CHP\\_322\\_03 & CHP\\_322 & X03 &  4.3 &    0.00 & 18.0 & DLBCL  & 4.3  & NA & 0 & ⋯ & NA & NA & NA & NA & NA & NA & NA & NA & NA & NA\\\\\n",
       "\t27 & CHP\\_322\\_04 & CHP\\_322 & X04 &  4.7 &    0.00 & 18.0 & DLBCL  & 4.7  & NA & 0 & ⋯ & NA & NA & NA & NA & NA & NA & NA & NA & NA & NA\\\\\n",
       "\t28 & CHP\\_322\\_05 & CHP\\_322 & X05 &  1.0 &    0.00 & 18.0 & DLBCL  & 1    & NA & 0 & ⋯ & NA & NA & NA & NA & NA & NA & NA & NA & NA & NA\\\\\n",
       "\t29 & CHP\\_323\\_01 & CHP\\_323 & X01 &  0.0 &  154.75 &  1.0 & HR ALL & 0    & NA & 0 & ⋯ & NA & NA & NA & NA & NA & NA & NA & NA & NA & NA\\\\\n",
       "\t30 & CHP\\_323\\_02 & CHP\\_323 & X02 &  0.0 & 1397.28 &  1.0 & HR ALL & 0    & NA & 0 & ⋯ & NA & NA & NA & NA & NA & NA & NA & NA & NA & NA\\\\\n",
       "\t36 & CHP\\_324\\_01 & CHP\\_324 & X01 &  0.0 &    0.00 & 12.0 & T-ALL  & 0    & NA & 0 & ⋯ & NA & NA & NA & NA & NA & NA & NA & NA & NA & NA\\\\\n",
       "\t37 & CHP\\_324\\_02 & CHP\\_324 & X02 &  0.0 &    0.00 & 12.0 & T-ALL  & 0    & NA & 0 & ⋯ & NA & NA & NA & NA & NA & NA & NA & NA & NA & NA\\\\\n",
       "\t38 & CHP\\_324\\_03 & CHP\\_324 & X03 &  0.0 &    0.00 & 12.0 & T-ALL  & 0    & NA & 0 & ⋯ & NA & NA & NA & NA & NA & NA & NA & NA & NA & NA\\\\\n",
       "\t42 & CHP\\_325\\_01 & CHP\\_325 & X01 &  0.0 &      NA &  2.0 & ERMS   & 0    & NA & 0 & ⋯ & NA & NA & NA & NA & NA & NA & NA & NA & NA & NA\\\\\n",
       "\t43 & CHP\\_325\\_02 & CHP\\_325 & X02 &  0.0 &  927.46 &  2.0 & ERMS   & 0    & NA & 0 & ⋯ & NA & NA & NA & NA & NA & NA & NA & NA & NA & NA\\\\\n",
       "\t44 & CHP\\_325\\_03 & CHP\\_325 & X03 &  0.0 &  624.72 &  2.0 & ERMS   & 0    & NA & 0 & ⋯ & NA & NA & NA & NA & NA & NA & NA & NA & NA & NA\\\\\n",
       "\t45 & CHP\\_325\\_04 & CHP\\_325 & X04 &  0.0 &  163.77 &  2.0 & ERMS   & 0    & NA & 0 & ⋯ & NA & NA & NA & NA & NA & NA & NA & NA & NA & NA\\\\\n",
       "\t46 & CHP\\_325\\_05 & CHP\\_325 & X05 &  0.0 &    0.00 &  2.0 & ERMS   & 0    & NA & 0 & ⋯ & NA & NA & NA & NA & NA & NA & NA & NA & NA & NA\\\\\n",
       "\t47 & CHP\\_326\\_01 & CHP\\_326 & X01 &  0.0 &   77.52 &  4.0 & SR ALL & 0    & NA & 0 & ⋯ & NA & NA & NA & NA & NA & NA & NA & NA & NA & NA\\\\\n",
       "\t48 & CHP\\_326\\_02 & CHP\\_326 & X02 &  0.0 &  400.14 &  4.0 & SR ALL & 0    & NA & 0 & ⋯ & NA & NA & NA & NA & NA & NA & NA & NA & NA & NA\\\\\n",
       "\t49 & CHP\\_326\\_03 & CHP\\_326 & X03 &  0.0 &  122.08 &  4.0 & SR ALL & 0    & NA & 0 & ⋯ & NA & NA & NA & NA & NA & NA & NA & NA & NA & NA\\\\\n",
       "\t50 & CHP\\_326\\_04 & CHP\\_326 & X04 &  0.0 & 1242.85 &  4.0 & SR ALL & 0    & NA & 0 & ⋯ & NA & NA & NA & NA & NA & NA & NA & NA & NA & NA\\\\\n",
       "\t52 & CHP\\_327\\_01 & CHP\\_327 & X01 &  6.8 &    0.00 &  0.6 & HB     & 6.8  & NA & 0 & ⋯ & NA & NA & NA & NA & NA & NA & NA & NA & NA & NA\\\\\n",
       "\t⋮ & ⋮ & ⋮ & ⋮ & ⋮ & ⋮ & ⋮ & ⋮ & ⋮ & ⋮ & ⋮ & ⋱ & ⋮ & ⋮ & ⋮ & ⋮ & ⋮ & ⋮ & ⋮ & ⋮ & ⋮ & ⋮\\\\\n",
       "\t804 & CHP\\_432\\_01 & CHP\\_432 & X01 & 2.7 & 0 & 15 & OS   & 2.7 & NA & 2138 & ⋯ & NA & NA & NA & NA & NA & NA & NA & NA & NA & NA\\\\\n",
       "\t805 & CHP\\_432\\_02 & CHP\\_432 & X02 & 0.0 & 0 & 15 & OS   & 0   & NA &    0 & ⋯ & NA & NA & NA & NA & NA & NA & NA & NA & NA & NA\\\\\n",
       "\t806 & CHP\\_432\\_03 & CHP\\_432 & X03 & 0.0 & 0 & 15 & OS   & 0   & NA &    0 & ⋯ & NA & NA & NA & NA & NA & NA & NA & NA & NA & NA\\\\\n",
       "\t807 & CHP\\_432\\_04 & CHP\\_432 & X04 & 0.0 & 0 & 15 & OS   & 0   & NA &    0 & ⋯ & NA & NA & NA & NA & NA & NA & NA & NA & NA & NA\\\\\n",
       "\t808 & CHP\\_432\\_05 & CHP\\_432 & X05 & 0.0 & 0 & 15 & OS   & 0   & NA &    0 & ⋯ & NA & NA & NA & NA & NA & NA & NA & NA & NA & NA\\\\\n",
       "\t809 & CHP\\_433\\_01 & CHP\\_433 & X01 & 1.1 & 0 & 16 & ALCL & 1.1 & NA & 2822 & ⋯ & NA & NA & NA & NA & NA & NA & NA & NA & NA & NA\\\\\n",
       "\t810 & CHP\\_433\\_02 & CHP\\_433 & X02 & 0.0 & 0 & 16 & ALCL & 0   & NA &    0 & ⋯ & NA & NA & NA & NA & NA & NA & NA & NA & NA & NA\\\\\n",
       "\t811 & CHP\\_433\\_03 & CHP\\_433 & X03 & 0.0 & 0 & 16 & ALCL & 0   & NA &    0 & ⋯ & NA & NA & NA & NA & NA & NA & NA & NA & NA & NA\\\\\n",
       "\t812 & CHP\\_433\\_04 & CHP\\_433 & X04 & 0.0 & 0 & 16 & ALCL & 0   & NA &    0 & ⋯ & NA & NA & NA & NA & NA & NA & NA & NA & NA & NA\\\\\n",
       "\t813 & CHP\\_433\\_05 & CHP\\_433 & X05 & 0.0 & 0 & 16 & ALCL & 0   & NA &    0 & ⋯ & NA & NA & NA & NA & NA & NA & NA & NA & NA & NA\\\\\n",
       "\t814 & CHP\\_434\\_01 & CHP\\_434 & X01 & 4.5 & 0 & 12 & HD   & 4.5 & NA & 3272 & ⋯ & NA & NA & NA & NA & NA & NA & NA & NA & NA & NA\\\\\n",
       "\t815 & CHP\\_434\\_02 & CHP\\_434 & X02 & 0.0 & 0 & 12 & HD   & 0   & NA &    0 & ⋯ & NA & NA & NA & NA & NA & NA & NA & NA & NA & NA\\\\\n",
       "\t816 & CHP\\_434\\_03 & CHP\\_434 & X03 & 0.0 & 0 & 12 & HD   & 0   & NA &    0 & ⋯ & NA & NA & NA & NA & NA & NA & NA & NA & NA & NA\\\\\n",
       "\t817 & CHP\\_434\\_04 & CHP\\_434 & X04 & 0.0 & 0 & 12 & HD   & 0   & NA &    0 & ⋯ & NA & NA & NA & NA & NA & NA & NA & NA & NA & NA\\\\\n",
       "\t818 & CHP\\_434\\_05 & CHP\\_434 & X05 & 0.0 & 0 & 12 & HD   & 0   & NA &    0 & ⋯ & NA & NA & NA & NA & NA & NA & NA & NA & NA & NA\\\\\n",
       "\t819 & CHP\\_435\\_01 & CHP\\_435 & X01 & 0.0 & 0 &  0 & CML  & 0   & NA &    0 & ⋯ & NA & NA & NA & NA & NA & NA & NA & NA & NA & NA\\\\\n",
       "\t820 & CHP\\_435\\_02 & CHP\\_435 & X02 & 0.0 & 0 &  0 & CML  & 0   & NA &    0 & ⋯ & NA & NA & NA & NA & NA & NA & NA & NA & NA & NA\\\\\n",
       "\t821 & CHP\\_435\\_03 & CHP\\_435 & X03 & 0.0 & 0 &  0 & CML  & 0   & NA &    0 & ⋯ & NA & NA & NA & NA & NA & NA & NA & NA & NA & NA\\\\\n",
       "\t822 & CHP\\_435\\_04 & CHP\\_435 & X04 & 0.0 & 0 &  0 & CML  & 0   & NA &    0 & ⋯ & NA & NA & NA & NA & NA & NA & NA & NA & NA & NA\\\\\n",
       "\t823 & CHP\\_435\\_05 & CHP\\_435 & X05 & 0.0 & 0 &  0 & CML  & 0   & NA &    0 & ⋯ & NA & NA & NA & NA & NA & NA & NA & NA & NA & NA\\\\\n",
       "\t824 & CHP\\_436\\_01 & CHP\\_436 & X01 & 0.0 & 0 & 15 & OS   & 0   & NA &    0 & ⋯ & NA & NA & NA & NA & NA & NA & NA & NA & NA & NA\\\\\n",
       "\t825 & CHP\\_436\\_02 & CHP\\_436 & X02 & 0.0 & 0 & 15 & OS   & 0   & NA &    0 & ⋯ & NA & NA & NA & NA & NA & NA & NA & NA & NA & NA\\\\\n",
       "\t826 & CHP\\_436\\_03 & CHP\\_436 & X03 & 0.0 & 0 & 15 & OS   & 0   & NA &    0 & ⋯ & NA & NA & NA & NA & NA & NA & NA & NA & NA & NA\\\\\n",
       "\t827 & CHP\\_436\\_04 & CHP\\_436 & X04 & 0.0 & 0 & 15 & OS   & 0   & NA &    0 & ⋯ & NA & NA & NA & NA & NA & NA & NA & NA & NA & NA\\\\\n",
       "\t828 & CHP\\_436\\_05 & CHP\\_436 & X05 & 0.0 & 0 & 15 & OS   & 0   & NA &    0 & ⋯ & NA & NA & NA & NA & NA & NA & NA & NA & NA & NA\\\\\n",
       "\t829 & CHP\\_437\\_01 & CHP\\_437 & X01 & 0.0 & 0 &  9 & OS   & 0   & NA &    0 & ⋯ & NA & NA & NA & NA & NA & NA & NA & NA & NA & NA\\\\\n",
       "\t830 & CHP\\_437\\_02 & CHP\\_437 & X02 & 0.0 & 0 &  9 & OS   & 0   & NA &    0 & ⋯ & NA & NA & NA & NA & NA & NA & NA & NA & NA & NA\\\\\n",
       "\t831 & CHP\\_437\\_03 & CHP\\_437 & X03 & 0.0 & 0 &  9 & OS   & 0   & NA &    0 & ⋯ & NA & NA & NA & NA & NA & NA & NA & NA & NA & NA\\\\\n",
       "\t832 & CHP\\_437\\_04 & CHP\\_437 & X04 & 0.0 & 0 &  9 & OS   & 0   & NA &    0 & ⋯ & NA & NA & NA & NA & NA & NA & NA & NA & NA & NA\\\\\n",
       "\t833 & CHP\\_437\\_05 & CHP\\_437 & X05 & 0.0 & 0 &  9 & OS   & 0   & NA &    0 & ⋯ & NA & NA & NA & NA & NA & NA & NA & NA & NA & NA\\\\\n",
       "\\end{tabular}\n"
      ],
      "text/markdown": [
       "\n",
       "A data.frame: 256 × 68\n",
       "\n",
       "| <!--/--> | sample_id &lt;chr&gt; | Patient &lt;chr&gt; | cycle &lt;chr&gt; | FOLD &lt;dbl&gt; | ATC &lt;dbl&gt; | Age &lt;dbl&gt; | Disease_type &lt;chr&gt; | TE_fold &lt;chr&gt; | Pass &lt;lgl&gt; | CD3 &lt;int&gt; | ⋯ ⋯ | q0_aa &lt;dbl&gt; | q0_v &lt;dbl&gt; | q0_j &lt;dbl&gt; | q0_aav &lt;dbl&gt; | q0_vj &lt;dbl&gt; | q1_aa &lt;dbl&gt; | q1_v &lt;dbl&gt; | q1_j &lt;dbl&gt; | q1_aav &lt;dbl&gt; | q1_vj &lt;dbl&gt; |\n",
       "|---|---|---|---|---|---|---|---|---|---|---|---|---|---|---|---|---|---|---|---|---|---|\n",
       "| 14 | CHP_320_01 | CHP_320 | X01 |  8.9 |    0.00 |  6.0 | AML    | 8.9  | NA | 0 | ⋯ | NA | NA | NA | NA | NA | NA | NA | NA | NA | NA |\n",
       "| 15 | CHP_320_02 | CHP_320 | X02 |  3.5 |    0.00 |  6.0 | AML    | 3.5  | NA | 0 | ⋯ | NA | NA | NA | NA | NA | NA | NA | NA | NA | NA |\n",
       "| 16 | CHP_320_03 | CHP_320 | X03 | 13.2 |    0.00 |  6.0 | AML    | 13.2 | NA | 0 | ⋯ | NA | NA | NA | NA | NA | NA | NA | NA | NA | NA |\n",
       "| 17 | CHP_320_04 | CHP_320 | X04 |   NA |    0.00 |  6.0 | AML    | x    | NA | 0 | ⋯ | NA | NA | NA | NA | NA | NA | NA | NA | NA | NA |\n",
       "| 18 | CHP_320_05 | CHP_320 | X05 |  0.0 |    0.00 |  6.0 | AML    | 0    | NA | 0 | ⋯ | NA | NA | NA | NA | NA | NA | NA | NA | NA | NA |\n",
       "| 19 | CHP_321_01 | CHP_321 | X01 |  0.0 |    0.00 | 16.0 | HD     | 0    | NA | 0 | ⋯ | NA | NA | NA | NA | NA | NA | NA | NA | NA | NA |\n",
       "| 20 | CHP_321_02 | CHP_321 | X02 |  0.0 |    0.00 | 16.0 | HD     | 0    | NA | 0 | ⋯ | NA | NA | NA | NA | NA | NA | NA | NA | NA | NA |\n",
       "| 21 | CHP_321_03 | CHP_321 | X03 |  0.0 |    0.00 | 16.0 | HD     | 0    | NA | 0 | ⋯ | NA | NA | NA | NA | NA | NA | NA | NA | NA | NA |\n",
       "| 22 | CHP_321_04 | CHP_321 | X04 |  0.0 |    0.00 | 16.0 | HD     | 0    | NA | 0 | ⋯ | NA | NA | NA | NA | NA | NA | NA | NA | NA | NA |\n",
       "| 23 | CHP_321_05 | CHP_321 | X05 |  0.0 |    0.00 | 16.0 | HD     | 0    | NA | 0 | ⋯ | NA | NA | NA | NA | NA | NA | NA | NA | NA | NA |\n",
       "| 24 | CHP_322_01 | CHP_322 | X01 |  1.1 |    0.00 | 18.0 | DLBCL  | 1.1  | NA | 0 | ⋯ | NA | NA | NA | NA | NA | NA | NA | NA | NA | NA |\n",
       "| 25 | CHP_322_02 | CHP_322 | X02 |  0.4 |    0.00 | 18.0 | DLBCL  | 0.4  | NA | 0 | ⋯ | NA | NA | NA | NA | NA | NA | NA | NA | NA | NA |\n",
       "| 26 | CHP_322_03 | CHP_322 | X03 |  4.3 |    0.00 | 18.0 | DLBCL  | 4.3  | NA | 0 | ⋯ | NA | NA | NA | NA | NA | NA | NA | NA | NA | NA |\n",
       "| 27 | CHP_322_04 | CHP_322 | X04 |  4.7 |    0.00 | 18.0 | DLBCL  | 4.7  | NA | 0 | ⋯ | NA | NA | NA | NA | NA | NA | NA | NA | NA | NA |\n",
       "| 28 | CHP_322_05 | CHP_322 | X05 |  1.0 |    0.00 | 18.0 | DLBCL  | 1    | NA | 0 | ⋯ | NA | NA | NA | NA | NA | NA | NA | NA | NA | NA |\n",
       "| 29 | CHP_323_01 | CHP_323 | X01 |  0.0 |  154.75 |  1.0 | HR ALL | 0    | NA | 0 | ⋯ | NA | NA | NA | NA | NA | NA | NA | NA | NA | NA |\n",
       "| 30 | CHP_323_02 | CHP_323 | X02 |  0.0 | 1397.28 |  1.0 | HR ALL | 0    | NA | 0 | ⋯ | NA | NA | NA | NA | NA | NA | NA | NA | NA | NA |\n",
       "| 36 | CHP_324_01 | CHP_324 | X01 |  0.0 |    0.00 | 12.0 | T-ALL  | 0    | NA | 0 | ⋯ | NA | NA | NA | NA | NA | NA | NA | NA | NA | NA |\n",
       "| 37 | CHP_324_02 | CHP_324 | X02 |  0.0 |    0.00 | 12.0 | T-ALL  | 0    | NA | 0 | ⋯ | NA | NA | NA | NA | NA | NA | NA | NA | NA | NA |\n",
       "| 38 | CHP_324_03 | CHP_324 | X03 |  0.0 |    0.00 | 12.0 | T-ALL  | 0    | NA | 0 | ⋯ | NA | NA | NA | NA | NA | NA | NA | NA | NA | NA |\n",
       "| 42 | CHP_325_01 | CHP_325 | X01 |  0.0 |      NA |  2.0 | ERMS   | 0    | NA | 0 | ⋯ | NA | NA | NA | NA | NA | NA | NA | NA | NA | NA |\n",
       "| 43 | CHP_325_02 | CHP_325 | X02 |  0.0 |  927.46 |  2.0 | ERMS   | 0    | NA | 0 | ⋯ | NA | NA | NA | NA | NA | NA | NA | NA | NA | NA |\n",
       "| 44 | CHP_325_03 | CHP_325 | X03 |  0.0 |  624.72 |  2.0 | ERMS   | 0    | NA | 0 | ⋯ | NA | NA | NA | NA | NA | NA | NA | NA | NA | NA |\n",
       "| 45 | CHP_325_04 | CHP_325 | X04 |  0.0 |  163.77 |  2.0 | ERMS   | 0    | NA | 0 | ⋯ | NA | NA | NA | NA | NA | NA | NA | NA | NA | NA |\n",
       "| 46 | CHP_325_05 | CHP_325 | X05 |  0.0 |    0.00 |  2.0 | ERMS   | 0    | NA | 0 | ⋯ | NA | NA | NA | NA | NA | NA | NA | NA | NA | NA |\n",
       "| 47 | CHP_326_01 | CHP_326 | X01 |  0.0 |   77.52 |  4.0 | SR ALL | 0    | NA | 0 | ⋯ | NA | NA | NA | NA | NA | NA | NA | NA | NA | NA |\n",
       "| 48 | CHP_326_02 | CHP_326 | X02 |  0.0 |  400.14 |  4.0 | SR ALL | 0    | NA | 0 | ⋯ | NA | NA | NA | NA | NA | NA | NA | NA | NA | NA |\n",
       "| 49 | CHP_326_03 | CHP_326 | X03 |  0.0 |  122.08 |  4.0 | SR ALL | 0    | NA | 0 | ⋯ | NA | NA | NA | NA | NA | NA | NA | NA | NA | NA |\n",
       "| 50 | CHP_326_04 | CHP_326 | X04 |  0.0 | 1242.85 |  4.0 | SR ALL | 0    | NA | 0 | ⋯ | NA | NA | NA | NA | NA | NA | NA | NA | NA | NA |\n",
       "| 52 | CHP_327_01 | CHP_327 | X01 |  6.8 |    0.00 |  0.6 | HB     | 6.8  | NA | 0 | ⋯ | NA | NA | NA | NA | NA | NA | NA | NA | NA | NA |\n",
       "| ⋮ | ⋮ | ⋮ | ⋮ | ⋮ | ⋮ | ⋮ | ⋮ | ⋮ | ⋮ | ⋮ | ⋱ | ⋮ | ⋮ | ⋮ | ⋮ | ⋮ | ⋮ | ⋮ | ⋮ | ⋮ | ⋮ |\n",
       "| 804 | CHP_432_01 | CHP_432 | X01 | 2.7 | 0 | 15 | OS   | 2.7 | NA | 2138 | ⋯ | NA | NA | NA | NA | NA | NA | NA | NA | NA | NA |\n",
       "| 805 | CHP_432_02 | CHP_432 | X02 | 0.0 | 0 | 15 | OS   | 0   | NA |    0 | ⋯ | NA | NA | NA | NA | NA | NA | NA | NA | NA | NA |\n",
       "| 806 | CHP_432_03 | CHP_432 | X03 | 0.0 | 0 | 15 | OS   | 0   | NA |    0 | ⋯ | NA | NA | NA | NA | NA | NA | NA | NA | NA | NA |\n",
       "| 807 | CHP_432_04 | CHP_432 | X04 | 0.0 | 0 | 15 | OS   | 0   | NA |    0 | ⋯ | NA | NA | NA | NA | NA | NA | NA | NA | NA | NA |\n",
       "| 808 | CHP_432_05 | CHP_432 | X05 | 0.0 | 0 | 15 | OS   | 0   | NA |    0 | ⋯ | NA | NA | NA | NA | NA | NA | NA | NA | NA | NA |\n",
       "| 809 | CHP_433_01 | CHP_433 | X01 | 1.1 | 0 | 16 | ALCL | 1.1 | NA | 2822 | ⋯ | NA | NA | NA | NA | NA | NA | NA | NA | NA | NA |\n",
       "| 810 | CHP_433_02 | CHP_433 | X02 | 0.0 | 0 | 16 | ALCL | 0   | NA |    0 | ⋯ | NA | NA | NA | NA | NA | NA | NA | NA | NA | NA |\n",
       "| 811 | CHP_433_03 | CHP_433 | X03 | 0.0 | 0 | 16 | ALCL | 0   | NA |    0 | ⋯ | NA | NA | NA | NA | NA | NA | NA | NA | NA | NA |\n",
       "| 812 | CHP_433_04 | CHP_433 | X04 | 0.0 | 0 | 16 | ALCL | 0   | NA |    0 | ⋯ | NA | NA | NA | NA | NA | NA | NA | NA | NA | NA |\n",
       "| 813 | CHP_433_05 | CHP_433 | X05 | 0.0 | 0 | 16 | ALCL | 0   | NA |    0 | ⋯ | NA | NA | NA | NA | NA | NA | NA | NA | NA | NA |\n",
       "| 814 | CHP_434_01 | CHP_434 | X01 | 4.5 | 0 | 12 | HD   | 4.5 | NA | 3272 | ⋯ | NA | NA | NA | NA | NA | NA | NA | NA | NA | NA |\n",
       "| 815 | CHP_434_02 | CHP_434 | X02 | 0.0 | 0 | 12 | HD   | 0   | NA |    0 | ⋯ | NA | NA | NA | NA | NA | NA | NA | NA | NA | NA |\n",
       "| 816 | CHP_434_03 | CHP_434 | X03 | 0.0 | 0 | 12 | HD   | 0   | NA |    0 | ⋯ | NA | NA | NA | NA | NA | NA | NA | NA | NA | NA |\n",
       "| 817 | CHP_434_04 | CHP_434 | X04 | 0.0 | 0 | 12 | HD   | 0   | NA |    0 | ⋯ | NA | NA | NA | NA | NA | NA | NA | NA | NA | NA |\n",
       "| 818 | CHP_434_05 | CHP_434 | X05 | 0.0 | 0 | 12 | HD   | 0   | NA |    0 | ⋯ | NA | NA | NA | NA | NA | NA | NA | NA | NA | NA |\n",
       "| 819 | CHP_435_01 | CHP_435 | X01 | 0.0 | 0 |  0 | CML  | 0   | NA |    0 | ⋯ | NA | NA | NA | NA | NA | NA | NA | NA | NA | NA |\n",
       "| 820 | CHP_435_02 | CHP_435 | X02 | 0.0 | 0 |  0 | CML  | 0   | NA |    0 | ⋯ | NA | NA | NA | NA | NA | NA | NA | NA | NA | NA |\n",
       "| 821 | CHP_435_03 | CHP_435 | X03 | 0.0 | 0 |  0 | CML  | 0   | NA |    0 | ⋯ | NA | NA | NA | NA | NA | NA | NA | NA | NA | NA |\n",
       "| 822 | CHP_435_04 | CHP_435 | X04 | 0.0 | 0 |  0 | CML  | 0   | NA |    0 | ⋯ | NA | NA | NA | NA | NA | NA | NA | NA | NA | NA |\n",
       "| 823 | CHP_435_05 | CHP_435 | X05 | 0.0 | 0 |  0 | CML  | 0   | NA |    0 | ⋯ | NA | NA | NA | NA | NA | NA | NA | NA | NA | NA |\n",
       "| 824 | CHP_436_01 | CHP_436 | X01 | 0.0 | 0 | 15 | OS   | 0   | NA |    0 | ⋯ | NA | NA | NA | NA | NA | NA | NA | NA | NA | NA |\n",
       "| 825 | CHP_436_02 | CHP_436 | X02 | 0.0 | 0 | 15 | OS   | 0   | NA |    0 | ⋯ | NA | NA | NA | NA | NA | NA | NA | NA | NA | NA |\n",
       "| 826 | CHP_436_03 | CHP_436 | X03 | 0.0 | 0 | 15 | OS   | 0   | NA |    0 | ⋯ | NA | NA | NA | NA | NA | NA | NA | NA | NA | NA |\n",
       "| 827 | CHP_436_04 | CHP_436 | X04 | 0.0 | 0 | 15 | OS   | 0   | NA |    0 | ⋯ | NA | NA | NA | NA | NA | NA | NA | NA | NA | NA |\n",
       "| 828 | CHP_436_05 | CHP_436 | X05 | 0.0 | 0 | 15 | OS   | 0   | NA |    0 | ⋯ | NA | NA | NA | NA | NA | NA | NA | NA | NA | NA |\n",
       "| 829 | CHP_437_01 | CHP_437 | X01 | 0.0 | 0 |  9 | OS   | 0   | NA |    0 | ⋯ | NA | NA | NA | NA | NA | NA | NA | NA | NA | NA |\n",
       "| 830 | CHP_437_02 | CHP_437 | X02 | 0.0 | 0 |  9 | OS   | 0   | NA |    0 | ⋯ | NA | NA | NA | NA | NA | NA | NA | NA | NA | NA |\n",
       "| 831 | CHP_437_03 | CHP_437 | X03 | 0.0 | 0 |  9 | OS   | 0   | NA |    0 | ⋯ | NA | NA | NA | NA | NA | NA | NA | NA | NA | NA |\n",
       "| 832 | CHP_437_04 | CHP_437 | X04 | 0.0 | 0 |  9 | OS   | 0   | NA |    0 | ⋯ | NA | NA | NA | NA | NA | NA | NA | NA | NA | NA |\n",
       "| 833 | CHP_437_05 | CHP_437 | X05 | 0.0 | 0 |  9 | OS   | 0   | NA |    0 | ⋯ | NA | NA | NA | NA | NA | NA | NA | NA | NA | NA |\n",
       "\n"
      ],
      "text/plain": [
       "    sample_id  Patient cycle FOLD ATC     Age  Disease_type TE_fold Pass CD3  ⋯\n",
       "14  CHP_320_01 CHP_320 X01    8.9    0.00  6.0 AML          8.9     NA   0    ⋯\n",
       "15  CHP_320_02 CHP_320 X02    3.5    0.00  6.0 AML          3.5     NA   0    ⋯\n",
       "16  CHP_320_03 CHP_320 X03   13.2    0.00  6.0 AML          13.2    NA   0    ⋯\n",
       "17  CHP_320_04 CHP_320 X04     NA    0.00  6.0 AML          x       NA   0    ⋯\n",
       "18  CHP_320_05 CHP_320 X05    0.0    0.00  6.0 AML          0       NA   0    ⋯\n",
       "19  CHP_321_01 CHP_321 X01    0.0    0.00 16.0 HD           0       NA   0    ⋯\n",
       "20  CHP_321_02 CHP_321 X02    0.0    0.00 16.0 HD           0       NA   0    ⋯\n",
       "21  CHP_321_03 CHP_321 X03    0.0    0.00 16.0 HD           0       NA   0    ⋯\n",
       "22  CHP_321_04 CHP_321 X04    0.0    0.00 16.0 HD           0       NA   0    ⋯\n",
       "23  CHP_321_05 CHP_321 X05    0.0    0.00 16.0 HD           0       NA   0    ⋯\n",
       "24  CHP_322_01 CHP_322 X01    1.1    0.00 18.0 DLBCL        1.1     NA   0    ⋯\n",
       "25  CHP_322_02 CHP_322 X02    0.4    0.00 18.0 DLBCL        0.4     NA   0    ⋯\n",
       "26  CHP_322_03 CHP_322 X03    4.3    0.00 18.0 DLBCL        4.3     NA   0    ⋯\n",
       "27  CHP_322_04 CHP_322 X04    4.7    0.00 18.0 DLBCL        4.7     NA   0    ⋯\n",
       "28  CHP_322_05 CHP_322 X05    1.0    0.00 18.0 DLBCL        1       NA   0    ⋯\n",
       "29  CHP_323_01 CHP_323 X01    0.0  154.75  1.0 HR ALL       0       NA   0    ⋯\n",
       "30  CHP_323_02 CHP_323 X02    0.0 1397.28  1.0 HR ALL       0       NA   0    ⋯\n",
       "36  CHP_324_01 CHP_324 X01    0.0    0.00 12.0 T-ALL        0       NA   0    ⋯\n",
       "37  CHP_324_02 CHP_324 X02    0.0    0.00 12.0 T-ALL        0       NA   0    ⋯\n",
       "38  CHP_324_03 CHP_324 X03    0.0    0.00 12.0 T-ALL        0       NA   0    ⋯\n",
       "42  CHP_325_01 CHP_325 X01    0.0      NA  2.0 ERMS         0       NA   0    ⋯\n",
       "43  CHP_325_02 CHP_325 X02    0.0  927.46  2.0 ERMS         0       NA   0    ⋯\n",
       "44  CHP_325_03 CHP_325 X03    0.0  624.72  2.0 ERMS         0       NA   0    ⋯\n",
       "45  CHP_325_04 CHP_325 X04    0.0  163.77  2.0 ERMS         0       NA   0    ⋯\n",
       "46  CHP_325_05 CHP_325 X05    0.0    0.00  2.0 ERMS         0       NA   0    ⋯\n",
       "47  CHP_326_01 CHP_326 X01    0.0   77.52  4.0 SR ALL       0       NA   0    ⋯\n",
       "48  CHP_326_02 CHP_326 X02    0.0  400.14  4.0 SR ALL       0       NA   0    ⋯\n",
       "49  CHP_326_03 CHP_326 X03    0.0  122.08  4.0 SR ALL       0       NA   0    ⋯\n",
       "50  CHP_326_04 CHP_326 X04    0.0 1242.85  4.0 SR ALL       0       NA   0    ⋯\n",
       "52  CHP_327_01 CHP_327 X01    6.8    0.00  0.6 HB           6.8     NA   0    ⋯\n",
       "⋮   ⋮          ⋮       ⋮     ⋮    ⋮       ⋮    ⋮            ⋮       ⋮    ⋮    ⋱\n",
       "804 CHP_432_01 CHP_432 X01   2.7  0       15   OS           2.7     NA   2138 ⋯\n",
       "805 CHP_432_02 CHP_432 X02   0.0  0       15   OS           0       NA      0 ⋯\n",
       "806 CHP_432_03 CHP_432 X03   0.0  0       15   OS           0       NA      0 ⋯\n",
       "807 CHP_432_04 CHP_432 X04   0.0  0       15   OS           0       NA      0 ⋯\n",
       "808 CHP_432_05 CHP_432 X05   0.0  0       15   OS           0       NA      0 ⋯\n",
       "809 CHP_433_01 CHP_433 X01   1.1  0       16   ALCL         1.1     NA   2822 ⋯\n",
       "810 CHP_433_02 CHP_433 X02   0.0  0       16   ALCL         0       NA      0 ⋯\n",
       "811 CHP_433_03 CHP_433 X03   0.0  0       16   ALCL         0       NA      0 ⋯\n",
       "812 CHP_433_04 CHP_433 X04   0.0  0       16   ALCL         0       NA      0 ⋯\n",
       "813 CHP_433_05 CHP_433 X05   0.0  0       16   ALCL         0       NA      0 ⋯\n",
       "814 CHP_434_01 CHP_434 X01   4.5  0       12   HD           4.5     NA   3272 ⋯\n",
       "815 CHP_434_02 CHP_434 X02   0.0  0       12   HD           0       NA      0 ⋯\n",
       "816 CHP_434_03 CHP_434 X03   0.0  0       12   HD           0       NA      0 ⋯\n",
       "817 CHP_434_04 CHP_434 X04   0.0  0       12   HD           0       NA      0 ⋯\n",
       "818 CHP_434_05 CHP_434 X05   0.0  0       12   HD           0       NA      0 ⋯\n",
       "819 CHP_435_01 CHP_435 X01   0.0  0        0   CML          0       NA      0 ⋯\n",
       "820 CHP_435_02 CHP_435 X02   0.0  0        0   CML          0       NA      0 ⋯\n",
       "821 CHP_435_03 CHP_435 X03   0.0  0        0   CML          0       NA      0 ⋯\n",
       "822 CHP_435_04 CHP_435 X04   0.0  0        0   CML          0       NA      0 ⋯\n",
       "823 CHP_435_05 CHP_435 X05   0.0  0        0   CML          0       NA      0 ⋯\n",
       "824 CHP_436_01 CHP_436 X01   0.0  0       15   OS           0       NA      0 ⋯\n",
       "825 CHP_436_02 CHP_436 X02   0.0  0       15   OS           0       NA      0 ⋯\n",
       "826 CHP_436_03 CHP_436 X03   0.0  0       15   OS           0       NA      0 ⋯\n",
       "827 CHP_436_04 CHP_436 X04   0.0  0       15   OS           0       NA      0 ⋯\n",
       "828 CHP_436_05 CHP_436 X05   0.0  0       15   OS           0       NA      0 ⋯\n",
       "829 CHP_437_01 CHP_437 X01   0.0  0        9   OS           0       NA      0 ⋯\n",
       "830 CHP_437_02 CHP_437 X02   0.0  0        9   OS           0       NA      0 ⋯\n",
       "831 CHP_437_03 CHP_437 X03   0.0  0        9   OS           0       NA      0 ⋯\n",
       "832 CHP_437_04 CHP_437 X04   0.0  0        9   OS           0       NA      0 ⋯\n",
       "833 CHP_437_05 CHP_437 X05   0.0  0        9   OS           0       NA      0 ⋯\n",
       "    q0_aa q0_v q0_j q0_aav q0_vj q1_aa q1_v q1_j q1_aav q1_vj\n",
       "14  NA    NA   NA   NA     NA    NA    NA   NA   NA     NA   \n",
       "15  NA    NA   NA   NA     NA    NA    NA   NA   NA     NA   \n",
       "16  NA    NA   NA   NA     NA    NA    NA   NA   NA     NA   \n",
       "17  NA    NA   NA   NA     NA    NA    NA   NA   NA     NA   \n",
       "18  NA    NA   NA   NA     NA    NA    NA   NA   NA     NA   \n",
       "19  NA    NA   NA   NA     NA    NA    NA   NA   NA     NA   \n",
       "20  NA    NA   NA   NA     NA    NA    NA   NA   NA     NA   \n",
       "21  NA    NA   NA   NA     NA    NA    NA   NA   NA     NA   \n",
       "22  NA    NA   NA   NA     NA    NA    NA   NA   NA     NA   \n",
       "23  NA    NA   NA   NA     NA    NA    NA   NA   NA     NA   \n",
       "24  NA    NA   NA   NA     NA    NA    NA   NA   NA     NA   \n",
       "25  NA    NA   NA   NA     NA    NA    NA   NA   NA     NA   \n",
       "26  NA    NA   NA   NA     NA    NA    NA   NA   NA     NA   \n",
       "27  NA    NA   NA   NA     NA    NA    NA   NA   NA     NA   \n",
       "28  NA    NA   NA   NA     NA    NA    NA   NA   NA     NA   \n",
       "29  NA    NA   NA   NA     NA    NA    NA   NA   NA     NA   \n",
       "30  NA    NA   NA   NA     NA    NA    NA   NA   NA     NA   \n",
       "36  NA    NA   NA   NA     NA    NA    NA   NA   NA     NA   \n",
       "37  NA    NA   NA   NA     NA    NA    NA   NA   NA     NA   \n",
       "38  NA    NA   NA   NA     NA    NA    NA   NA   NA     NA   \n",
       "42  NA    NA   NA   NA     NA    NA    NA   NA   NA     NA   \n",
       "43  NA    NA   NA   NA     NA    NA    NA   NA   NA     NA   \n",
       "44  NA    NA   NA   NA     NA    NA    NA   NA   NA     NA   \n",
       "45  NA    NA   NA   NA     NA    NA    NA   NA   NA     NA   \n",
       "46  NA    NA   NA   NA     NA    NA    NA   NA   NA     NA   \n",
       "47  NA    NA   NA   NA     NA    NA    NA   NA   NA     NA   \n",
       "48  NA    NA   NA   NA     NA    NA    NA   NA   NA     NA   \n",
       "49  NA    NA   NA   NA     NA    NA    NA   NA   NA     NA   \n",
       "50  NA    NA   NA   NA     NA    NA    NA   NA   NA     NA   \n",
       "52  NA    NA   NA   NA     NA    NA    NA   NA   NA     NA   \n",
       "⋮   ⋮     ⋮    ⋮    ⋮      ⋮     ⋮     ⋮    ⋮    ⋮      ⋮    \n",
       "804 NA    NA   NA   NA     NA    NA    NA   NA   NA     NA   \n",
       "805 NA    NA   NA   NA     NA    NA    NA   NA   NA     NA   \n",
       "806 NA    NA   NA   NA     NA    NA    NA   NA   NA     NA   \n",
       "807 NA    NA   NA   NA     NA    NA    NA   NA   NA     NA   \n",
       "808 NA    NA   NA   NA     NA    NA    NA   NA   NA     NA   \n",
       "809 NA    NA   NA   NA     NA    NA    NA   NA   NA     NA   \n",
       "810 NA    NA   NA   NA     NA    NA    NA   NA   NA     NA   \n",
       "811 NA    NA   NA   NA     NA    NA    NA   NA   NA     NA   \n",
       "812 NA    NA   NA   NA     NA    NA    NA   NA   NA     NA   \n",
       "813 NA    NA   NA   NA     NA    NA    NA   NA   NA     NA   \n",
       "814 NA    NA   NA   NA     NA    NA    NA   NA   NA     NA   \n",
       "815 NA    NA   NA   NA     NA    NA    NA   NA   NA     NA   \n",
       "816 NA    NA   NA   NA     NA    NA    NA   NA   NA     NA   \n",
       "817 NA    NA   NA   NA     NA    NA    NA   NA   NA     NA   \n",
       "818 NA    NA   NA   NA     NA    NA    NA   NA   NA     NA   \n",
       "819 NA    NA   NA   NA     NA    NA    NA   NA   NA     NA   \n",
       "820 NA    NA   NA   NA     NA    NA    NA   NA   NA     NA   \n",
       "821 NA    NA   NA   NA     NA    NA    NA   NA   NA     NA   \n",
       "822 NA    NA   NA   NA     NA    NA    NA   NA   NA     NA   \n",
       "823 NA    NA   NA   NA     NA    NA    NA   NA   NA     NA   \n",
       "824 NA    NA   NA   NA     NA    NA    NA   NA   NA     NA   \n",
       "825 NA    NA   NA   NA     NA    NA    NA   NA   NA     NA   \n",
       "826 NA    NA   NA   NA     NA    NA    NA   NA   NA     NA   \n",
       "827 NA    NA   NA   NA     NA    NA    NA   NA   NA     NA   \n",
       "828 NA    NA   NA   NA     NA    NA    NA   NA   NA     NA   \n",
       "829 NA    NA   NA   NA     NA    NA    NA   NA   NA     NA   \n",
       "830 NA    NA   NA   NA     NA    NA    NA   NA   NA     NA   \n",
       "831 NA    NA   NA   NA     NA    NA    NA   NA   NA     NA   \n",
       "832 NA    NA   NA   NA     NA    NA    NA   NA   NA     NA   \n",
       "833 NA    NA   NA   NA     NA    NA    NA   NA   NA     NA   "
      ]
     },
     "metadata": {},
     "output_type": "display_data"
    }
   ],
   "source": [
    "meta_div[ !meta_div$sample_id %in% metatmp$sample_id,]"
   ]
  },
  {
   "cell_type": "code",
   "execution_count": 25,
   "metadata": {},
   "outputs": [],
   "source": [
    "#256 samples have flow data but either were not sequenced or didnt recover any productive cdr3"
   ]
  },
  {
   "cell_type": "code",
   "execution_count": 26,
   "metadata": {},
   "outputs": [],
   "source": [
    "int_load$meta <- as_tibble(metatmp)"
   ]
  },
  {
   "cell_type": "code",
   "execution_count": 27,
   "metadata": {},
   "outputs": [
    {
     "data": {
      "text/html": [
       "<style>\n",
       ".list-inline {list-style: none; margin:0; padding: 0}\n",
       ".list-inline>li {display: inline-block}\n",
       ".list-inline>li:not(:last-child)::after {content: \"\\00b7\"; padding: 0 .5ex}\n",
       "</style>\n",
       "<ol class=list-inline><li>585</li><li>68</li></ol>\n"
      ],
      "text/latex": [
       "\\begin{enumerate*}\n",
       "\\item 585\n",
       "\\item 68\n",
       "\\end{enumerate*}\n"
      ],
      "text/markdown": [
       "1. 585\n",
       "2. 68\n",
       "\n",
       "\n"
      ],
      "text/plain": [
       "[1] 585  68"
      ]
     },
     "metadata": {},
     "output_type": "display_data"
    },
    {
     "data": {
      "text/html": [
       "589"
      ],
      "text/latex": [
       "589"
      ],
      "text/markdown": [
       "589"
      ],
      "text/plain": [
       "[1] 589"
      ]
     },
     "metadata": {},
     "output_type": "display_data"
    }
   ],
   "source": [
    "dim(int_load$meta)\n",
    "\n",
    "length(int_load$data)"
   ]
  },
  {
   "cell_type": "code",
   "execution_count": 28,
   "metadata": {},
   "outputs": [
    {
     "data": {
      "text/html": [
       "<style>\n",
       ".list-inline {list-style: none; margin:0; padding: 0}\n",
       ".list-inline>li {display: inline-block}\n",
       ".list-inline>li:not(:last-child)::after {content: \"\\00b7\"; padding: 0 .5ex}\n",
       "</style>\n",
       "<ol class=list-inline><li>'CHP_303-05-PBMC-DNA'</li><li>'CHP_315-05_cfDNA'</li><li>'CHP_315-05-PBMC-DNA'</li><li>'CHP_319-05-PBMC-DNA'</li></ol>\n"
      ],
      "text/latex": [
       "\\begin{enumerate*}\n",
       "\\item 'CHP\\_303-05-PBMC-DNA'\n",
       "\\item 'CHP\\_315-05\\_cfDNA'\n",
       "\\item 'CHP\\_315-05-PBMC-DNA'\n",
       "\\item 'CHP\\_319-05-PBMC-DNA'\n",
       "\\end{enumerate*}\n"
      ],
      "text/markdown": [
       "1. 'CHP_303-05-PBMC-DNA'\n",
       "2. 'CHP_315-05_cfDNA'\n",
       "3. 'CHP_315-05-PBMC-DNA'\n",
       "4. 'CHP_319-05-PBMC-DNA'\n",
       "\n",
       "\n"
      ],
      "text/plain": [
       "[1] \"CHP_303-05-PBMC-DNA\" \"CHP_315-05_cfDNA\"    \"CHP_315-05-PBMC-DNA\"\n",
       "[4] \"CHP_319-05-PBMC-DNA\""
      ]
     },
     "metadata": {},
     "output_type": "display_data"
    }
   ],
   "source": [
    "names(int_load$data)[! names(int_load$data) %in% int_load$meta$Sample]"
   ]
  },
  {
   "cell_type": "code",
   "execution_count": 29,
   "metadata": {},
   "outputs": [],
   "source": [
    "#remove those old samples (patient numbers < 320)\n",
    "rmsmpl <- c('CHP_303-05-PBMC-DNA', 'CHP_315-05_cfDNA', 'CHP_315-05-PBMC-DNA', 'CHP_319-05-PBMC-DNA')"
   ]
  },
  {
   "cell_type": "code",
   "execution_count": 30,
   "metadata": {},
   "outputs": [],
   "source": [
    "int_load$data <- int_load$data[ !names(int_load$data) %in% rmsmpl]"
   ]
  },
  {
   "cell_type": "code",
   "execution_count": 31,
   "metadata": {},
   "outputs": [
    {
     "data": {
      "text/html": [
       "585"
      ],
      "text/latex": [
       "585"
      ],
      "text/markdown": [
       "585"
      ],
      "text/plain": [
       "[1] 585"
      ]
     },
     "metadata": {},
     "output_type": "display_data"
    }
   ],
   "source": [
    "length(int_load$data)"
   ]
  },
  {
   "cell_type": "code",
   "execution_count": 34,
   "metadata": {},
   "outputs": [],
   "source": [
    "int_load$data <- int_load$data[ int_load$meta$Sample]"
   ]
  },
  {
   "cell_type": "code",
   "execution_count": 35,
   "metadata": {},
   "outputs": [],
   "source": [
    "save(int_load, file = paste0(datapath, \"capTCRseq/int_load_meta.RData\"))"
   ]
  },
  {
   "cell_type": "code",
   "execution_count": null,
   "metadata": {},
   "outputs": [],
   "source": []
  }
 ],
 "metadata": {
  "kernelspec": {
   "display_name": "R 4.0",
   "language": "R",
   "name": "ir40"
  },
  "language_info": {
   "codemirror_mode": "r",
   "file_extension": ".r",
   "mimetype": "text/x-r-source",
   "name": "R",
   "pygments_lexer": "r",
   "version": "4.0.3"
  },
  "toc": {
   "base_numbering": 1,
   "nav_menu": {},
   "number_sections": false,
   "sideBar": true,
   "skip_h1_title": false,
   "title_cell": "Table of Contents",
   "title_sidebar": "Contents",
   "toc_cell": true,
   "toc_position": {
    "height": "calc(100% - 180px)",
    "left": "10px",
    "top": "150px",
    "width": "217.3px"
   },
   "toc_section_display": true,
   "toc_window_display": true
  }
 },
 "nbformat": 4,
 "nbformat_minor": 2
}
