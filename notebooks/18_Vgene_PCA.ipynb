{
 "cells": [
  {
   "attachments": {},
   "cell_type": "markdown",
   "metadata": {},
   "source": [
    "# Dependencies"
   ]
  },
  {
   "cell_type": "code",
   "execution_count": 1,
   "metadata": {
    "vscode": {
     "languageId": "r"
    }
   },
   "outputs": [],
   "source": [
    "pacman::p_load(factoextra, dplyr)"
   ]
  },
  {
   "attachments": {},
   "cell_type": "markdown",
   "metadata": {},
   "source": [
    "# Functions"
   ]
  },
  {
   "attachments": {},
   "cell_type": "markdown",
   "metadata": {},
   "source": [
    "# Paths"
   ]
  },
  {
   "cell_type": "code",
   "execution_count": 2,
   "metadata": {
    "vscode": {
     "languageId": "r"
    }
   },
   "outputs": [],
   "source": [
    "datapath <- \"/Users/anabbi/OneDrive - UHN/Documents/INTERCEPT/Data/\"\n",
    "plotpath <- \"/Users/anabbi/OneDrive - UHN/Documents/INTERCEPT/Plots/\"\n",
    "manifestpath <- \"/Users/anabbi/OneDrive - UHN/Documents/INTERCEPT/Manifests/\"\n",
    "gitpath <- \"/Users/anabbi/git/ped_CapTCRseq/\"\n",
    "h4hpath <- \"/Users/anabbi/Desktop/H4H/INTERCEPT/\""
   ]
  },
  {
   "attachments": {},
   "cell_type": "markdown",
   "metadata": {},
   "source": [
    "# Main"
   ]
  },
  {
   "cell_type": "code",
   "execution_count": 3,
   "metadata": {
    "vscode": {
     "languageId": "r"
    }
   },
   "outputs": [],
   "source": [
    "meta_div <- readr::read_rds(paste0(datapath, \"capTCRseq/meta_div_goodsamples.rds\"))"
   ]
  },
  {
   "cell_type": "code",
   "execution_count": 4,
   "metadata": {
    "vscode": {
     "languageId": "r"
    }
   },
   "outputs": [],
   "source": [
    "meta_div <- meta_div[ !is.na(meta_div$TRB), ]"
   ]
  },
  {
   "cell_type": "code",
   "execution_count": 5,
   "metadata": {
    "vscode": {
     "languageId": "r"
    }
   },
   "outputs": [],
   "source": [
    "meta_div <- meta_div[ meta_div$sampletype == \"PBMC\",]"
   ]
  },
  {
   "cell_type": "code",
   "execution_count": 6,
   "metadata": {
    "vscode": {
     "languageId": "r"
    }
   },
   "outputs": [
    {
     "data": {
      "text/html": [
       "<table class=\"dataframe\">\n",
       "<caption>A data.frame: 6 x 58</caption>\n",
       "<thead>\n",
       "\t<tr><th></th><th scope=col>sample_id</th><th scope=col>Patient</th><th scope=col>cycle</th><th scope=col>FOLD</th><th scope=col>ATC</th><th scope=col>Age</th><th scope=col>Disease_type</th><th scope=col>TE_fold</th><th scope=col>Pass</th><th scope=col>CD3</th><th scope=col>...</th><th scope=col>observed_Shannon</th><th scope=col>estimated_Shannon</th><th scope=col>SE_Shannon</th><th scope=col>observed_Simpson</th><th scope=col>estimated_Simpson</th><th scope=col>SE_Simpson</th><th scope=col>file</th><th scope=col>basename</th><th scope=col>Group</th><th scope=col>sampletype</th></tr>\n",
       "\t<tr><th></th><th scope=col>&lt;chr&gt;</th><th scope=col>&lt;chr&gt;</th><th scope=col>&lt;chr&gt;</th><th scope=col>&lt;dbl&gt;</th><th scope=col>&lt;dbl&gt;</th><th scope=col>&lt;dbl&gt;</th><th scope=col>&lt;chr&gt;</th><th scope=col>&lt;chr&gt;</th><th scope=col>&lt;lgl&gt;</th><th scope=col>&lt;int&gt;</th><th scope=col>...</th><th scope=col>&lt;dbl&gt;</th><th scope=col>&lt;dbl&gt;</th><th scope=col>&lt;dbl&gt;</th><th scope=col>&lt;dbl&gt;</th><th scope=col>&lt;dbl&gt;</th><th scope=col>&lt;dbl&gt;</th><th scope=col>&lt;chr&gt;</th><th scope=col>&lt;chr&gt;</th><th scope=col>&lt;chr&gt;</th><th scope=col>&lt;chr&gt;</th></tr>\n",
       "</thead>\n",
       "<tbody>\n",
       "\t<tr><th scope=row>1</th><td>CHP_10YO_M_00  </td><td>CHP_10YO_M  </td><td>X00</td><td>NA</td><td>NA</td><td>NA</td><td>Normal</td><td>NA</td><td>NA</td><td>NA</td><td>...</td><td>10.591</td><td>10.601</td><td>0.074</td><td> 8.556</td><td> 8.561</td><td>0.097</td><td>batchNormal_16Apr2020/mixcr/clones/CLONES_TRBCHP_10YO-M_PBMC_DNA.txt  </td><td>CHP_10YO-M_PBMC_DNA  </td><td>CHP</td><td>PBMC</td></tr>\n",
       "\t<tr><th scope=row>2</th><td>CHP_11YO_M_00  </td><td>CHP_11YO_M  </td><td>X00</td><td>NA</td><td>NA</td><td>NA</td><td>Normal</td><td>NA</td><td>NA</td><td>NA</td><td>...</td><td>11.607</td><td>11.614</td><td>0.055</td><td>10.406</td><td>10.414</td><td>0.074</td><td>batchNormal_16Apr2020/mixcr/clones/CLONES_TRBCHP_11YO-M_PBMC_DNA.txt  </td><td>CHP_11YO-M_PBMC_DNA  </td><td>CHP</td><td>PBMC</td></tr>\n",
       "\t<tr><th scope=row>3</th><td>CHP_15YO_F_A_00</td><td>CHP_15YO_F_A</td><td>X00</td><td>NA</td><td>NA</td><td>NA</td><td>Normal</td><td>NA</td><td>NA</td><td>NA</td><td>...</td><td> 8.982</td><td> 8.989</td><td>0.042</td><td> 8.560</td><td> 8.570</td><td>0.060</td><td>batchNormal_16Apr2020/mixcr/clones/CLONES_TRBCHP_15YO-F-A_PBMC_DNA.txt</td><td>CHP_15YO-F-A_PBMC_DNA</td><td>CHP</td><td>PBMC</td></tr>\n",
       "\t<tr><th scope=row>4</th><td>CHP_15YO_F_B_00</td><td>CHP_15YO_F_B</td><td>X00</td><td>NA</td><td>NA</td><td>NA</td><td>Normal</td><td>NA</td><td>NA</td><td>NA</td><td>...</td><td> 6.330</td><td> 6.334</td><td>0.039</td><td> 5.870</td><td> 5.876</td><td>0.059</td><td>batchNormal_16Apr2020/mixcr/clones/CLONES_TRBCHP_15YO-F-B_PBMC_DNA.txt</td><td>CHP_15YO-F-B_PBMC_DNA</td><td>CHP</td><td>PBMC</td></tr>\n",
       "\t<tr><th scope=row>5</th><td>CHP_15YO_M_00  </td><td>CHP_15YO_M  </td><td>X00</td><td>NA</td><td>NA</td><td>NA</td><td>Normal</td><td>NA</td><td>NA</td><td>NA</td><td>...</td><td>21.110</td><td>21.120</td><td>0.040</td><td>20.321</td><td>20.339</td><td>0.079</td><td>batchNormal_16Apr2020/mixcr/clones/CLONES_TRBCHP_15YO-M_PBMC_DNA.txt  </td><td>CHP_15YO-M_PBMC_DNA  </td><td>CHP</td><td>PBMC</td></tr>\n",
       "\t<tr><th scope=row>6</th><td>CHP_16YO_M_00  </td><td>CHP_16YO_M  </td><td>X00</td><td>NA</td><td>NA</td><td>NA</td><td>Normal</td><td>NA</td><td>NA</td><td>NA</td><td>...</td><td> 3.972</td><td> 3.973</td><td>0.007</td><td> 3.944</td><td> 3.946</td><td>0.012</td><td>batchNormal_16Apr2020/mixcr/clones/CLONES_TRBCHP_16YO-M_PBMC_DNA.txt  </td><td>CHP_16YO-M_PBMC_DNA  </td><td>CHP</td><td>PBMC</td></tr>\n",
       "</tbody>\n",
       "</table>\n"
      ],
      "text/latex": [
       "A data.frame: 6 x 58\n",
       "\\begin{tabular}{r|lllllllllllllllllllll}\n",
       "  & sample\\_id & Patient & cycle & FOLD & ATC & Age & Disease\\_type & TE\\_fold & Pass & CD3 & ... & observed\\_Shannon & estimated\\_Shannon & SE\\_Shannon & observed\\_Simpson & estimated\\_Simpson & SE\\_Simpson & file & basename & Group & sampletype\\\\\n",
       "  & <chr> & <chr> & <chr> & <dbl> & <dbl> & <dbl> & <chr> & <chr> & <lgl> & <int> & ... & <dbl> & <dbl> & <dbl> & <dbl> & <dbl> & <dbl> & <chr> & <chr> & <chr> & <chr>\\\\\n",
       "\\hline\n",
       "\t1 & CHP\\_10YO\\_M\\_00   & CHP\\_10YO\\_M   & X00 & NA & NA & NA & Normal & NA & NA & NA & ... & 10.591 & 10.601 & 0.074 &  8.556 &  8.561 & 0.097 & batchNormal\\_16Apr2020/mixcr/clones/CLONES\\_TRBCHP\\_10YO-M\\_PBMC\\_DNA.txt   & CHP\\_10YO-M\\_PBMC\\_DNA   & CHP & PBMC\\\\\n",
       "\t2 & CHP\\_11YO\\_M\\_00   & CHP\\_11YO\\_M   & X00 & NA & NA & NA & Normal & NA & NA & NA & ... & 11.607 & 11.614 & 0.055 & 10.406 & 10.414 & 0.074 & batchNormal\\_16Apr2020/mixcr/clones/CLONES\\_TRBCHP\\_11YO-M\\_PBMC\\_DNA.txt   & CHP\\_11YO-M\\_PBMC\\_DNA   & CHP & PBMC\\\\\n",
       "\t3 & CHP\\_15YO\\_F\\_A\\_00 & CHP\\_15YO\\_F\\_A & X00 & NA & NA & NA & Normal & NA & NA & NA & ... &  8.982 &  8.989 & 0.042 &  8.560 &  8.570 & 0.060 & batchNormal\\_16Apr2020/mixcr/clones/CLONES\\_TRBCHP\\_15YO-F-A\\_PBMC\\_DNA.txt & CHP\\_15YO-F-A\\_PBMC\\_DNA & CHP & PBMC\\\\\n",
       "\t4 & CHP\\_15YO\\_F\\_B\\_00 & CHP\\_15YO\\_F\\_B & X00 & NA & NA & NA & Normal & NA & NA & NA & ... &  6.330 &  6.334 & 0.039 &  5.870 &  5.876 & 0.059 & batchNormal\\_16Apr2020/mixcr/clones/CLONES\\_TRBCHP\\_15YO-F-B\\_PBMC\\_DNA.txt & CHP\\_15YO-F-B\\_PBMC\\_DNA & CHP & PBMC\\\\\n",
       "\t5 & CHP\\_15YO\\_M\\_00   & CHP\\_15YO\\_M   & X00 & NA & NA & NA & Normal & NA & NA & NA & ... & 21.110 & 21.120 & 0.040 & 20.321 & 20.339 & 0.079 & batchNormal\\_16Apr2020/mixcr/clones/CLONES\\_TRBCHP\\_15YO-M\\_PBMC\\_DNA.txt   & CHP\\_15YO-M\\_PBMC\\_DNA   & CHP & PBMC\\\\\n",
       "\t6 & CHP\\_16YO\\_M\\_00   & CHP\\_16YO\\_M   & X00 & NA & NA & NA & Normal & NA & NA & NA & ... &  3.972 &  3.973 & 0.007 &  3.944 &  3.946 & 0.012 & batchNormal\\_16Apr2020/mixcr/clones/CLONES\\_TRBCHP\\_16YO-M\\_PBMC\\_DNA.txt   & CHP\\_16YO-M\\_PBMC\\_DNA   & CHP & PBMC\\\\\n",
       "\\end{tabular}\n"
      ],
      "text/markdown": [
       "\n",
       "A data.frame: 6 x 58\n",
       "\n",
       "| <!--/--> | sample_id &lt;chr&gt; | Patient &lt;chr&gt; | cycle &lt;chr&gt; | FOLD &lt;dbl&gt; | ATC &lt;dbl&gt; | Age &lt;dbl&gt; | Disease_type &lt;chr&gt; | TE_fold &lt;chr&gt; | Pass &lt;lgl&gt; | CD3 &lt;int&gt; | ... ... | observed_Shannon &lt;dbl&gt; | estimated_Shannon &lt;dbl&gt; | SE_Shannon &lt;dbl&gt; | observed_Simpson &lt;dbl&gt; | estimated_Simpson &lt;dbl&gt; | SE_Simpson &lt;dbl&gt; | file &lt;chr&gt; | basename &lt;chr&gt; | Group &lt;chr&gt; | sampletype &lt;chr&gt; |\n",
       "|---|---|---|---|---|---|---|---|---|---|---|---|---|---|---|---|---|---|---|---|---|---|\n",
       "| 1 | CHP_10YO_M_00   | CHP_10YO_M   | X00 | NA | NA | NA | Normal | NA | NA | NA | ... | 10.591 | 10.601 | 0.074 |  8.556 |  8.561 | 0.097 | batchNormal_16Apr2020/mixcr/clones/CLONES_TRBCHP_10YO-M_PBMC_DNA.txt   | CHP_10YO-M_PBMC_DNA   | CHP | PBMC |\n",
       "| 2 | CHP_11YO_M_00   | CHP_11YO_M   | X00 | NA | NA | NA | Normal | NA | NA | NA | ... | 11.607 | 11.614 | 0.055 | 10.406 | 10.414 | 0.074 | batchNormal_16Apr2020/mixcr/clones/CLONES_TRBCHP_11YO-M_PBMC_DNA.txt   | CHP_11YO-M_PBMC_DNA   | CHP | PBMC |\n",
       "| 3 | CHP_15YO_F_A_00 | CHP_15YO_F_A | X00 | NA | NA | NA | Normal | NA | NA | NA | ... |  8.982 |  8.989 | 0.042 |  8.560 |  8.570 | 0.060 | batchNormal_16Apr2020/mixcr/clones/CLONES_TRBCHP_15YO-F-A_PBMC_DNA.txt | CHP_15YO-F-A_PBMC_DNA | CHP | PBMC |\n",
       "| 4 | CHP_15YO_F_B_00 | CHP_15YO_F_B | X00 | NA | NA | NA | Normal | NA | NA | NA | ... |  6.330 |  6.334 | 0.039 |  5.870 |  5.876 | 0.059 | batchNormal_16Apr2020/mixcr/clones/CLONES_TRBCHP_15YO-F-B_PBMC_DNA.txt | CHP_15YO-F-B_PBMC_DNA | CHP | PBMC |\n",
       "| 5 | CHP_15YO_M_00   | CHP_15YO_M   | X00 | NA | NA | NA | Normal | NA | NA | NA | ... | 21.110 | 21.120 | 0.040 | 20.321 | 20.339 | 0.079 | batchNormal_16Apr2020/mixcr/clones/CLONES_TRBCHP_15YO-M_PBMC_DNA.txt   | CHP_15YO-M_PBMC_DNA   | CHP | PBMC |\n",
       "| 6 | CHP_16YO_M_00   | CHP_16YO_M   | X00 | NA | NA | NA | Normal | NA | NA | NA | ... |  3.972 |  3.973 | 0.007 |  3.944 |  3.946 | 0.012 | batchNormal_16Apr2020/mixcr/clones/CLONES_TRBCHP_16YO-M_PBMC_DNA.txt   | CHP_16YO-M_PBMC_DNA   | CHP | PBMC |\n",
       "\n"
      ],
      "text/plain": [
       "  sample_id       Patient      cycle FOLD ATC Age Disease_type TE_fold Pass CD3\n",
       "1 CHP_10YO_M_00   CHP_10YO_M   X00   NA   NA  NA  Normal       NA      NA   NA \n",
       "2 CHP_11YO_M_00   CHP_11YO_M   X00   NA   NA  NA  Normal       NA      NA   NA \n",
       "3 CHP_15YO_F_A_00 CHP_15YO_F_A X00   NA   NA  NA  Normal       NA      NA   NA \n",
       "4 CHP_15YO_F_B_00 CHP_15YO_F_B X00   NA   NA  NA  Normal       NA      NA   NA \n",
       "5 CHP_15YO_M_00   CHP_15YO_M   X00   NA   NA  NA  Normal       NA      NA   NA \n",
       "6 CHP_16YO_M_00   CHP_16YO_M   X00   NA   NA  NA  Normal       NA      NA   NA \n",
       "  ... observed_Shannon estimated_Shannon SE_Shannon observed_Simpson\n",
       "1 ... 10.591           10.601            0.074       8.556          \n",
       "2 ... 11.607           11.614            0.055      10.406          \n",
       "3 ...  8.982            8.989            0.042       8.560          \n",
       "4 ...  6.330            6.334            0.039       5.870          \n",
       "5 ... 21.110           21.120            0.040      20.321          \n",
       "6 ...  3.972            3.973            0.007       3.944          \n",
       "  estimated_Simpson SE_Simpson\n",
       "1  8.561            0.097     \n",
       "2 10.414            0.074     \n",
       "3  8.570            0.060     \n",
       "4  5.876            0.059     \n",
       "5 20.339            0.079     \n",
       "6  3.946            0.012     \n",
       "  file                                                                  \n",
       "1 batchNormal_16Apr2020/mixcr/clones/CLONES_TRBCHP_10YO-M_PBMC_DNA.txt  \n",
       "2 batchNormal_16Apr2020/mixcr/clones/CLONES_TRBCHP_11YO-M_PBMC_DNA.txt  \n",
       "3 batchNormal_16Apr2020/mixcr/clones/CLONES_TRBCHP_15YO-F-A_PBMC_DNA.txt\n",
       "4 batchNormal_16Apr2020/mixcr/clones/CLONES_TRBCHP_15YO-F-B_PBMC_DNA.txt\n",
       "5 batchNormal_16Apr2020/mixcr/clones/CLONES_TRBCHP_15YO-M_PBMC_DNA.txt  \n",
       "6 batchNormal_16Apr2020/mixcr/clones/CLONES_TRBCHP_16YO-M_PBMC_DNA.txt  \n",
       "  basename              Group sampletype\n",
       "1 CHP_10YO-M_PBMC_DNA   CHP   PBMC      \n",
       "2 CHP_11YO-M_PBMC_DNA   CHP   PBMC      \n",
       "3 CHP_15YO-F-A_PBMC_DNA CHP   PBMC      \n",
       "4 CHP_15YO-F-B_PBMC_DNA CHP   PBMC      \n",
       "5 CHP_15YO-M_PBMC_DNA   CHP   PBMC      \n",
       "6 CHP_16YO-M_PBMC_DNA   CHP   PBMC      "
      ]
     },
     "metadata": {},
     "output_type": "display_data"
    }
   ],
   "source": [
    "head(meta_div)"
   ]
  },
  {
   "cell_type": "code",
   "execution_count": 7,
   "metadata": {
    "vscode": {
     "languageId": "r"
    }
   },
   "outputs": [],
   "source": [
    "flelist <- file.path(paste0( h4hpath, \"/NextSeq/\", meta_div$file) )"
   ]
  },
  {
   "cell_type": "code",
   "execution_count": 8,
   "metadata": {
    "vscode": {
     "languageId": "r"
    }
   },
   "outputs": [
    {
     "data": {
      "text/html": [
       "<style>\n",
       ".list-inline {list-style: none; margin:0; padding: 0}\n",
       ".list-inline>li {display: inline-block}\n",
       ".list-inline>li:not(:last-child)::after {content: \"\\00b7\"; padding: 0 .5ex}\n",
       "</style>\n",
       "<ol class=list-inline><li>'/Users/anabbi/Desktop/H4H/INTERCEPT//NextSeq/batchNormal_16Apr2020/mixcr/clones/CLONES_TRBCHP_10YO-M_PBMC_DNA.txt'</li><li>'/Users/anabbi/Desktop/H4H/INTERCEPT//NextSeq/batchNormal_16Apr2020/mixcr/clones/CLONES_TRBCHP_11YO-M_PBMC_DNA.txt'</li><li>'/Users/anabbi/Desktop/H4H/INTERCEPT//NextSeq/batchNormal_16Apr2020/mixcr/clones/CLONES_TRBCHP_15YO-F-A_PBMC_DNA.txt'</li><li>'/Users/anabbi/Desktop/H4H/INTERCEPT//NextSeq/batchNormal_16Apr2020/mixcr/clones/CLONES_TRBCHP_15YO-F-B_PBMC_DNA.txt'</li><li>'/Users/anabbi/Desktop/H4H/INTERCEPT//NextSeq/batchNormal_16Apr2020/mixcr/clones/CLONES_TRBCHP_15YO-M_PBMC_DNA.txt'</li><li>'/Users/anabbi/Desktop/H4H/INTERCEPT//NextSeq/batchNormal_16Apr2020/mixcr/clones/CLONES_TRBCHP_16YO-M_PBMC_DNA.txt'</li></ol>\n"
      ],
      "text/latex": [
       "\\begin{enumerate*}\n",
       "\\item '/Users/anabbi/Desktop/H4H/INTERCEPT//NextSeq/batchNormal\\_16Apr2020/mixcr/clones/CLONES\\_TRBCHP\\_10YO-M\\_PBMC\\_DNA.txt'\n",
       "\\item '/Users/anabbi/Desktop/H4H/INTERCEPT//NextSeq/batchNormal\\_16Apr2020/mixcr/clones/CLONES\\_TRBCHP\\_11YO-M\\_PBMC\\_DNA.txt'\n",
       "\\item '/Users/anabbi/Desktop/H4H/INTERCEPT//NextSeq/batchNormal\\_16Apr2020/mixcr/clones/CLONES\\_TRBCHP\\_15YO-F-A\\_PBMC\\_DNA.txt'\n",
       "\\item '/Users/anabbi/Desktop/H4H/INTERCEPT//NextSeq/batchNormal\\_16Apr2020/mixcr/clones/CLONES\\_TRBCHP\\_15YO-F-B\\_PBMC\\_DNA.txt'\n",
       "\\item '/Users/anabbi/Desktop/H4H/INTERCEPT//NextSeq/batchNormal\\_16Apr2020/mixcr/clones/CLONES\\_TRBCHP\\_15YO-M\\_PBMC\\_DNA.txt'\n",
       "\\item '/Users/anabbi/Desktop/H4H/INTERCEPT//NextSeq/batchNormal\\_16Apr2020/mixcr/clones/CLONES\\_TRBCHP\\_16YO-M\\_PBMC\\_DNA.txt'\n",
       "\\end{enumerate*}\n"
      ],
      "text/markdown": [
       "1. '/Users/anabbi/Desktop/H4H/INTERCEPT//NextSeq/batchNormal_16Apr2020/mixcr/clones/CLONES_TRBCHP_10YO-M_PBMC_DNA.txt'\n",
       "2. '/Users/anabbi/Desktop/H4H/INTERCEPT//NextSeq/batchNormal_16Apr2020/mixcr/clones/CLONES_TRBCHP_11YO-M_PBMC_DNA.txt'\n",
       "3. '/Users/anabbi/Desktop/H4H/INTERCEPT//NextSeq/batchNormal_16Apr2020/mixcr/clones/CLONES_TRBCHP_15YO-F-A_PBMC_DNA.txt'\n",
       "4. '/Users/anabbi/Desktop/H4H/INTERCEPT//NextSeq/batchNormal_16Apr2020/mixcr/clones/CLONES_TRBCHP_15YO-F-B_PBMC_DNA.txt'\n",
       "5. '/Users/anabbi/Desktop/H4H/INTERCEPT//NextSeq/batchNormal_16Apr2020/mixcr/clones/CLONES_TRBCHP_15YO-M_PBMC_DNA.txt'\n",
       "6. '/Users/anabbi/Desktop/H4H/INTERCEPT//NextSeq/batchNormal_16Apr2020/mixcr/clones/CLONES_TRBCHP_16YO-M_PBMC_DNA.txt'\n",
       "\n",
       "\n"
      ],
      "text/plain": [
       "[1] \"/Users/anabbi/Desktop/H4H/INTERCEPT//NextSeq/batchNormal_16Apr2020/mixcr/clones/CLONES_TRBCHP_10YO-M_PBMC_DNA.txt\"  \n",
       "[2] \"/Users/anabbi/Desktop/H4H/INTERCEPT//NextSeq/batchNormal_16Apr2020/mixcr/clones/CLONES_TRBCHP_11YO-M_PBMC_DNA.txt\"  \n",
       "[3] \"/Users/anabbi/Desktop/H4H/INTERCEPT//NextSeq/batchNormal_16Apr2020/mixcr/clones/CLONES_TRBCHP_15YO-F-A_PBMC_DNA.txt\"\n",
       "[4] \"/Users/anabbi/Desktop/H4H/INTERCEPT//NextSeq/batchNormal_16Apr2020/mixcr/clones/CLONES_TRBCHP_15YO-F-B_PBMC_DNA.txt\"\n",
       "[5] \"/Users/anabbi/Desktop/H4H/INTERCEPT//NextSeq/batchNormal_16Apr2020/mixcr/clones/CLONES_TRBCHP_15YO-M_PBMC_DNA.txt\"  \n",
       "[6] \"/Users/anabbi/Desktop/H4H/INTERCEPT//NextSeq/batchNormal_16Apr2020/mixcr/clones/CLONES_TRBCHP_16YO-M_PBMC_DNA.txt\"  "
      ]
     },
     "metadata": {},
     "output_type": "display_data"
    }
   ],
   "source": [
    "head(flelist)"
   ]
  },
  {
   "cell_type": "code",
   "execution_count": 9,
   "metadata": {
    "vscode": {
     "languageId": "r"
    }
   },
   "outputs": [],
   "source": [
    "Vgene.fx <- function(fle){\n",
    "    onefle <- read.table(fle, header = T, sep = \"\\t\")\n",
    "    basename <- gsub(\".txt\", \"\", basename(fle))\n",
    "basename <- gsub(\"CLONES_TRB\", \"\", basename)\n",
    "onefle$basename <- basename\n",
    "# Remove non-productive\n",
    "onefle <- onefle[!grepl(\"_\", onefle$aaSeqCDR3), ]\n",
    "onefle <- onefle[!grepl(\"[*]\", onefle$aaSeqCDR3), ]\n",
    "\n",
    " # if the file has no productive cdr3, message and exit\n",
    " if(nrow(onefle) == 0) { next }\n",
    "\n",
    "# remove scores and take the first hit\n",
    "onefle$TRBV <- gsub(\"[*]0.*\", \"\", onefle$allVHitsWithScore)\n",
    "onefle$TRBJ <- gsub(\"[*]0.*\", \"\", onefle$allJHitsWithScore)\n",
    "# remove super long cdr3s\n",
    "onefle <- onefle[nchar(onefle$aaSeqCDR3) <= 25, ]\n",
    "\n",
    " #exit if the file has no productive cdr3\n",
    " if(nrow(onefle) == 0) { next }\n",
    "\n",
    "onefle$cdr3_length <- nchar(onefle$aaSeqCDR3)\n",
    "onefle_s <- onefle[, c(\"basename\", \"aaSeqCDR3\", \"cdr3_length\", \"TRBV\", \"TRBJ\")]\n",
    "\n",
    "return(onefle_s)\n",
    "}"
   ]
  },
  {
   "cell_type": "code",
   "execution_count": 10,
   "metadata": {
    "vscode": {
     "languageId": "r"
    }
   },
   "outputs": [],
   "source": [
    "myflelist <- lapply(flelist, Vgene.fx)"
   ]
  },
  {
   "cell_type": "code",
   "execution_count": 11,
   "metadata": {
    "vscode": {
     "languageId": "r"
    }
   },
   "outputs": [],
   "source": [
    "int_v_j_cdr3_l <- do.call(\"rbind\", myflelist)"
   ]
  },
  {
   "cell_type": "code",
   "execution_count": 12,
   "metadata": {
    "vscode": {
     "languageId": "r"
    }
   },
   "outputs": [],
   "source": [
    "readr::write_rds(int_v_j_cdr3_l, paste0(datapath, \"capTCRseq/int_pbmc_v_j_cdr3_l.rds\"))"
   ]
  },
  {
   "cell_type": "code",
   "execution_count": 13,
   "metadata": {
    "vscode": {
     "languageId": "r"
    }
   },
   "outputs": [],
   "source": [
    "# should be done for all files\n",
    "vfreq <- int_v_j_cdr3_l %>% group_by(TRBV) %>% tally() %>% arrange(desc(n)) %>% mutate(freq = n/sum(n))"
   ]
  },
  {
   "cell_type": "code",
   "execution_count": 14,
   "metadata": {
    "vscode": {
     "languageId": "r"
    }
   },
   "outputs": [
    {
     "data": {
      "text/html": [
       "<table class=\"dataframe\">\n",
       "<caption>A tibble: 6 x 3</caption>\n",
       "<thead>\n",
       "\t<tr><th scope=col>TRBV</th><th scope=col>n</th><th scope=col>freq</th></tr>\n",
       "\t<tr><th scope=col>&lt;chr&gt;</th><th scope=col>&lt;int&gt;</th><th scope=col>&lt;dbl&gt;</th></tr>\n",
       "</thead>\n",
       "<tbody>\n",
       "\t<tr><td>TRBV20-1</td><td>5549</td><td>0.08598435</td></tr>\n",
       "\t<tr><td>TRBV19  </td><td>3277</td><td>0.05077865</td></tr>\n",
       "\t<tr><td>TRBV5-1 </td><td>2916</td><td>0.04518478</td></tr>\n",
       "\t<tr><td>TRBV7-9 </td><td>2797</td><td>0.04334082</td></tr>\n",
       "\t<tr><td>TRBV28  </td><td>2757</td><td>0.04272100</td></tr>\n",
       "\t<tr><td>TRBV27  </td><td>2732</td><td>0.04233362</td></tr>\n",
       "</tbody>\n",
       "</table>\n"
      ],
      "text/latex": [
       "A tibble: 6 x 3\n",
       "\\begin{tabular}{lll}\n",
       " TRBV & n & freq\\\\\n",
       " <chr> & <int> & <dbl>\\\\\n",
       "\\hline\n",
       "\t TRBV20-1 & 5549 & 0.08598435\\\\\n",
       "\t TRBV19   & 3277 & 0.05077865\\\\\n",
       "\t TRBV5-1  & 2916 & 0.04518478\\\\\n",
       "\t TRBV7-9  & 2797 & 0.04334082\\\\\n",
       "\t TRBV28   & 2757 & 0.04272100\\\\\n",
       "\t TRBV27   & 2732 & 0.04233362\\\\\n",
       "\\end{tabular}\n"
      ],
      "text/markdown": [
       "\n",
       "A tibble: 6 x 3\n",
       "\n",
       "| TRBV &lt;chr&gt; | n &lt;int&gt; | freq &lt;dbl&gt; |\n",
       "|---|---|---|\n",
       "| TRBV20-1 | 5549 | 0.08598435 |\n",
       "| TRBV19   | 3277 | 0.05077865 |\n",
       "| TRBV5-1  | 2916 | 0.04518478 |\n",
       "| TRBV7-9  | 2797 | 0.04334082 |\n",
       "| TRBV28   | 2757 | 0.04272100 |\n",
       "| TRBV27   | 2732 | 0.04233362 |\n",
       "\n"
      ],
      "text/plain": [
       "  TRBV     n    freq      \n",
       "1 TRBV20-1 5549 0.08598435\n",
       "2 TRBV19   3277 0.05077865\n",
       "3 TRBV5-1  2916 0.04518478\n",
       "4 TRBV7-9  2797 0.04334082\n",
       "5 TRBV28   2757 0.04272100\n",
       "6 TRBV27   2732 0.04233362"
      ]
     },
     "metadata": {},
     "output_type": "display_data"
    }
   ],
   "source": [
    "head(vfreq)"
   ]
  },
  {
   "cell_type": "code",
   "execution_count": 15,
   "metadata": {
    "vscode": {
     "languageId": "r"
    }
   },
   "outputs": [
    {
     "data": {
      "text/html": [
       "<table class=\"dataframe\">\n",
       "<caption>A tibble: 6 x 3</caption>\n",
       "<thead>\n",
       "\t<tr><th scope=col>TRBV</th><th scope=col>n</th><th scope=col>freq</th></tr>\n",
       "\t<tr><th scope=col>&lt;chr&gt;</th><th scope=col>&lt;int&gt;</th><th scope=col>&lt;dbl&gt;</th></tr>\n",
       "</thead>\n",
       "<tbody>\n",
       "\t<tr><td>TRBV6-9</td><td>19</td><td>2.944139e-04</td></tr>\n",
       "\t<tr><td>TRBV7-1</td><td>15</td><td>2.324320e-04</td></tr>\n",
       "\t<tr><td>TRBV7-5</td><td>14</td><td>2.169365e-04</td></tr>\n",
       "\t<tr><td>TRBV6-8</td><td>13</td><td>2.014411e-04</td></tr>\n",
       "\t<tr><td>TRBV5-2</td><td> 2</td><td>3.099094e-05</td></tr>\n",
       "\t<tr><td>TRBV26 </td><td> 1</td><td>1.549547e-05</td></tr>\n",
       "</tbody>\n",
       "</table>\n"
      ],
      "text/latex": [
       "A tibble: 6 x 3\n",
       "\\begin{tabular}{lll}\n",
       " TRBV & n & freq\\\\\n",
       " <chr> & <int> & <dbl>\\\\\n",
       "\\hline\n",
       "\t TRBV6-9 & 19 & 2.944139e-04\\\\\n",
       "\t TRBV7-1 & 15 & 2.324320e-04\\\\\n",
       "\t TRBV7-5 & 14 & 2.169365e-04\\\\\n",
       "\t TRBV6-8 & 13 & 2.014411e-04\\\\\n",
       "\t TRBV5-2 &  2 & 3.099094e-05\\\\\n",
       "\t TRBV26  &  1 & 1.549547e-05\\\\\n",
       "\\end{tabular}\n"
      ],
      "text/markdown": [
       "\n",
       "A tibble: 6 x 3\n",
       "\n",
       "| TRBV &lt;chr&gt; | n &lt;int&gt; | freq &lt;dbl&gt; |\n",
       "|---|---|---|\n",
       "| TRBV6-9 | 19 | 2.944139e-04 |\n",
       "| TRBV7-1 | 15 | 2.324320e-04 |\n",
       "| TRBV7-5 | 14 | 2.169365e-04 |\n",
       "| TRBV6-8 | 13 | 2.014411e-04 |\n",
       "| TRBV5-2 |  2 | 3.099094e-05 |\n",
       "| TRBV26  |  1 | 1.549547e-05 |\n",
       "\n"
      ],
      "text/plain": [
       "  TRBV    n  freq        \n",
       "1 TRBV6-9 19 2.944139e-04\n",
       "2 TRBV7-1 15 2.324320e-04\n",
       "3 TRBV7-5 14 2.169365e-04\n",
       "4 TRBV6-8 13 2.014411e-04\n",
       "5 TRBV5-2  2 3.099094e-05\n",
       "6 TRBV26   1 1.549547e-05"
      ]
     },
     "metadata": {},
     "output_type": "display_data"
    }
   ],
   "source": [
    "tail(vfreq)"
   ]
  },
  {
   "cell_type": "code",
   "execution_count": 16,
   "metadata": {
    "vscode": {
     "languageId": "r"
    }
   },
   "outputs": [],
   "source": [
    "readr::write_rds(vfreq, paste0(datapath, \"capTCRseq/vfreq_int_pbmc.rds\"))"
   ]
  },
  {
   "cell_type": "code",
   "execution_count": 17,
   "metadata": {
    "vscode": {
     "languageId": "r"
    }
   },
   "outputs": [
    {
     "data": {
      "text/plain": [
       "     Min.   1st Qu.    Median      Mean   3rd Qu.      Max. \n",
       "0.0000155 0.0025877 0.0120245 0.0163934 0.0233207 0.0859844 "
      ]
     },
     "metadata": {},
     "output_type": "display_data"
    }
   ],
   "source": [
    "summary(vfreq$freq)"
   ]
  },
  {
   "cell_type": "code",
   "execution_count": 18,
   "metadata": {
    "vscode": {
     "languageId": "r"
    }
   },
   "outputs": [],
   "source": [
    "#low frequency V genes\n",
    "lowfreq_v <- vfreq$TRBV[vfreq$freq < 0.001 ]"
   ]
  },
  {
   "cell_type": "code",
   "execution_count": 19,
   "metadata": {
    "vscode": {
     "languageId": "r"
    }
   },
   "outputs": [
    {
     "data": {
      "text/html": [
       "<style>\n",
       ".list-inline {list-style: none; margin:0; padding: 0}\n",
       ".list-inline>li {display: inline-block}\n",
       ".list-inline>li:not(:last-child)::after {content: \"\\00b7\"; padding: 0 .5ex}\n",
       "</style>\n",
       "<ol class=list-inline><li>'TRBV12-2'</li><li>'TRBV6-7'</li><li>'TRBV1'</li><li>'TRBV12-1'</li><li>'TRBV7-4'</li><li>'TRBV5-7'</li><li>'TRBV6-9'</li><li>'TRBV7-1'</li><li>'TRBV7-5'</li><li>'TRBV6-8'</li><li>'TRBV5-2'</li><li>'TRBV26'</li></ol>\n"
      ],
      "text/latex": [
       "\\begin{enumerate*}\n",
       "\\item 'TRBV12-2'\n",
       "\\item 'TRBV6-7'\n",
       "\\item 'TRBV1'\n",
       "\\item 'TRBV12-1'\n",
       "\\item 'TRBV7-4'\n",
       "\\item 'TRBV5-7'\n",
       "\\item 'TRBV6-9'\n",
       "\\item 'TRBV7-1'\n",
       "\\item 'TRBV7-5'\n",
       "\\item 'TRBV6-8'\n",
       "\\item 'TRBV5-2'\n",
       "\\item 'TRBV26'\n",
       "\\end{enumerate*}\n"
      ],
      "text/markdown": [
       "1. 'TRBV12-2'\n",
       "2. 'TRBV6-7'\n",
       "3. 'TRBV1'\n",
       "4. 'TRBV12-1'\n",
       "5. 'TRBV7-4'\n",
       "6. 'TRBV5-7'\n",
       "7. 'TRBV6-9'\n",
       "8. 'TRBV7-1'\n",
       "9. 'TRBV7-5'\n",
       "10. 'TRBV6-8'\n",
       "11. 'TRBV5-2'\n",
       "12. 'TRBV26'\n",
       "\n",
       "\n"
      ],
      "text/plain": [
       " [1] \"TRBV12-2\" \"TRBV6-7\"  \"TRBV1\"    \"TRBV12-1\" \"TRBV7-4\"  \"TRBV5-7\" \n",
       " [7] \"TRBV6-9\"  \"TRBV7-1\"  \"TRBV7-5\"  \"TRBV6-8\"  \"TRBV5-2\"  \"TRBV26\"  "
      ]
     },
     "metadata": {},
     "output_type": "display_data"
    }
   ],
   "source": [
    "lowfreq_v"
   ]
  },
  {
   "cell_type": "code",
   "execution_count": 20,
   "metadata": {
    "vscode": {
     "languageId": "r"
    }
   },
   "outputs": [
    {
     "data": {
      "image/png": "[encoded data removed]",
      "text/plain": [
       "Plot with title \"Histogram of vfreq$freq\""
      ]
     },
     "metadata": {
      "image/png": {
       "height": 420,
       "width": 420
      }
     },
     "output_type": "display_data"
    }
   ],
   "source": [
    "hist(vfreq$freq, breaks = 100)"
   ]
  },
  {
   "cell_type": "code",
   "execution_count": 21,
   "metadata": {
    "vscode": {
     "languageId": "r"
    }
   },
   "outputs": [],
   "source": [
    "vgene_mat <- as.data.frame.matrix(table(int_v_j_cdr3_l %>% select(basename, TRBV  )))"
   ]
  },
  {
   "cell_type": "code",
   "execution_count": 22,
   "metadata": {
    "vscode": {
     "languageId": "r"
    }
   },
   "outputs": [
    {
     "data": {
      "text/html": [
       "<table class=\"dataframe\">\n",
       "<caption>A data.frame: 6 x 61</caption>\n",
       "<thead>\n",
       "\t<tr><th></th><th scope=col>TRBV1</th><th scope=col>TRBV10-1</th><th scope=col>TRBV10-2</th><th scope=col>TRBV10-3</th><th scope=col>TRBV11-1</th><th scope=col>TRBV11-2</th><th scope=col>TRBV11-3</th><th scope=col>TRBV12-1</th><th scope=col>TRBV12-2</th><th scope=col>TRBV12-3</th><th scope=col>...</th><th scope=col>TRBV7-1</th><th scope=col>TRBV7-2</th><th scope=col>TRBV7-3</th><th scope=col>TRBV7-4</th><th scope=col>TRBV7-5</th><th scope=col>TRBV7-6</th><th scope=col>TRBV7-7</th><th scope=col>TRBV7-8</th><th scope=col>TRBV7-9</th><th scope=col>TRBV9</th></tr>\n",
       "\t<tr><th></th><th scope=col>&lt;int&gt;</th><th scope=col>&lt;int&gt;</th><th scope=col>&lt;int&gt;</th><th scope=col>&lt;int&gt;</th><th scope=col>&lt;int&gt;</th><th scope=col>&lt;int&gt;</th><th scope=col>&lt;int&gt;</th><th scope=col>&lt;int&gt;</th><th scope=col>&lt;int&gt;</th><th scope=col>&lt;int&gt;</th><th scope=col>...</th><th scope=col>&lt;int&gt;</th><th scope=col>&lt;int&gt;</th><th scope=col>&lt;int&gt;</th><th scope=col>&lt;int&gt;</th><th scope=col>&lt;int&gt;</th><th scope=col>&lt;int&gt;</th><th scope=col>&lt;int&gt;</th><th scope=col>&lt;int&gt;</th><th scope=col>&lt;int&gt;</th><th scope=col>&lt;int&gt;</th></tr>\n",
       "</thead>\n",
       "<tbody>\n",
       "\t<tr><th scope=row>CHP-328-04-PBMC-DNA</th><td>0</td><td> 7</td><td> 3</td><td> 4</td><td> 3</td><td>10</td><td> 2</td><td>0</td><td>3</td><td>13</td><td>...</td><td>0</td><td>14</td><td> 0</td><td>0</td><td>0</td><td> 4</td><td>2</td><td> 8</td><td>21</td><td>11</td></tr>\n",
       "\t<tr><th scope=row>CHP-328-05-PBMC-DNA</th><td>0</td><td> 1</td><td> 2</td><td> 1</td><td> 0</td><td> 3</td><td> 2</td><td>0</td><td>0</td><td> 9</td><td>...</td><td>0</td><td> 3</td><td> 3</td><td>1</td><td>0</td><td> 1</td><td>0</td><td> 2</td><td> 2</td><td> 6</td></tr>\n",
       "\t<tr><th scope=row>CHP-351-03-PBMC-DNA</th><td>1</td><td> 4</td><td> 3</td><td>24</td><td> 8</td><td>19</td><td> 4</td><td>1</td><td>1</td><td>29</td><td>...</td><td>0</td><td>23</td><td>21</td><td>1</td><td>0</td><td>18</td><td>9</td><td>13</td><td>52</td><td>73</td></tr>\n",
       "\t<tr><th scope=row>CHP-353-04-PBMC-DNA</th><td>0</td><td>15</td><td>12</td><td>32</td><td>21</td><td>34</td><td>11</td><td>0</td><td>0</td><td>59</td><td>...</td><td>0</td><td>24</td><td>26</td><td>0</td><td>0</td><td>23</td><td>3</td><td>40</td><td>78</td><td>83</td></tr>\n",
       "\t<tr><th scope=row>CHP-363-04-PBMC-DNA</th><td>0</td><td> 3</td><td> 1</td><td>12</td><td> 2</td><td>10</td><td> 8</td><td>0</td><td>1</td><td>29</td><td>...</td><td>0</td><td>18</td><td>11</td><td>0</td><td>0</td><td> 9</td><td>3</td><td> 7</td><td>33</td><td>28</td></tr>\n",
       "\t<tr><th scope=row>CHP-369-01-PBMC-DNA</th><td>0</td><td> 6</td><td> 6</td><td>18</td><td> 6</td><td>17</td><td> 2</td><td>0</td><td>0</td><td>21</td><td>...</td><td>1</td><td> 8</td><td>10</td><td>0</td><td>0</td><td> 7</td><td>2</td><td> 2</td><td>22</td><td>26</td></tr>\n",
       "</tbody>\n",
       "</table>\n"
      ],
      "text/latex": [
       "A data.frame: 6 x 61\n",
       "\\begin{tabular}{r|lllllllllllllllllllll}\n",
       "  & TRBV1 & TRBV10-1 & TRBV10-2 & TRBV10-3 & TRBV11-1 & TRBV11-2 & TRBV11-3 & TRBV12-1 & TRBV12-2 & TRBV12-3 & ... & TRBV7-1 & TRBV7-2 & TRBV7-3 & TRBV7-4 & TRBV7-5 & TRBV7-6 & TRBV7-7 & TRBV7-8 & TRBV7-9 & TRBV9\\\\\n",
       "  & <int> & <int> & <int> & <int> & <int> & <int> & <int> & <int> & <int> & <int> & ... & <int> & <int> & <int> & <int> & <int> & <int> & <int> & <int> & <int> & <int>\\\\\n",
       "\\hline\n",
       "\tCHP-328-04-PBMC-DNA & 0 &  7 &  3 &  4 &  3 & 10 &  2 & 0 & 3 & 13 & ... & 0 & 14 &  0 & 0 & 0 &  4 & 2 &  8 & 21 & 11\\\\\n",
       "\tCHP-328-05-PBMC-DNA & 0 &  1 &  2 &  1 &  0 &  3 &  2 & 0 & 0 &  9 & ... & 0 &  3 &  3 & 1 & 0 &  1 & 0 &  2 &  2 &  6\\\\\n",
       "\tCHP-351-03-PBMC-DNA & 1 &  4 &  3 & 24 &  8 & 19 &  4 & 1 & 1 & 29 & ... & 0 & 23 & 21 & 1 & 0 & 18 & 9 & 13 & 52 & 73\\\\\n",
       "\tCHP-353-04-PBMC-DNA & 0 & 15 & 12 & 32 & 21 & 34 & 11 & 0 & 0 & 59 & ... & 0 & 24 & 26 & 0 & 0 & 23 & 3 & 40 & 78 & 83\\\\\n",
       "\tCHP-363-04-PBMC-DNA & 0 &  3 &  1 & 12 &  2 & 10 &  8 & 0 & 1 & 29 & ... & 0 & 18 & 11 & 0 & 0 &  9 & 3 &  7 & 33 & 28\\\\\n",
       "\tCHP-369-01-PBMC-DNA & 0 &  6 &  6 & 18 &  6 & 17 &  2 & 0 & 0 & 21 & ... & 1 &  8 & 10 & 0 & 0 &  7 & 2 &  2 & 22 & 26\\\\\n",
       "\\end{tabular}\n"
      ],
      "text/markdown": [
       "\n",
       "A data.frame: 6 x 61\n",
       "\n",
       "| <!--/--> | TRBV1 &lt;int&gt; | TRBV10-1 &lt;int&gt; | TRBV10-2 &lt;int&gt; | TRBV10-3 &lt;int&gt; | TRBV11-1 &lt;int&gt; | TRBV11-2 &lt;int&gt; | TRBV11-3 &lt;int&gt; | TRBV12-1 &lt;int&gt; | TRBV12-2 &lt;int&gt; | TRBV12-3 &lt;int&gt; | ... ... | TRBV7-1 &lt;int&gt; | TRBV7-2 &lt;int&gt; | TRBV7-3 &lt;int&gt; | TRBV7-4 &lt;int&gt; | TRBV7-5 &lt;int&gt; | TRBV7-6 &lt;int&gt; | TRBV7-7 &lt;int&gt; | TRBV7-8 &lt;int&gt; | TRBV7-9 &lt;int&gt; | TRBV9 &lt;int&gt; |\n",
       "|---|---|---|---|---|---|---|---|---|---|---|---|---|---|---|---|---|---|---|---|---|---|\n",
       "| CHP-328-04-PBMC-DNA | 0 |  7 |  3 |  4 |  3 | 10 |  2 | 0 | 3 | 13 | ... | 0 | 14 |  0 | 0 | 0 |  4 | 2 |  8 | 21 | 11 |\n",
       "| CHP-328-05-PBMC-DNA | 0 |  1 |  2 |  1 |  0 |  3 |  2 | 0 | 0 |  9 | ... | 0 |  3 |  3 | 1 | 0 |  1 | 0 |  2 |  2 |  6 |\n",
       "| CHP-351-03-PBMC-DNA | 1 |  4 |  3 | 24 |  8 | 19 |  4 | 1 | 1 | 29 | ... | 0 | 23 | 21 | 1 | 0 | 18 | 9 | 13 | 52 | 73 |\n",
       "| CHP-353-04-PBMC-DNA | 0 | 15 | 12 | 32 | 21 | 34 | 11 | 0 | 0 | 59 | ... | 0 | 24 | 26 | 0 | 0 | 23 | 3 | 40 | 78 | 83 |\n",
       "| CHP-363-04-PBMC-DNA | 0 |  3 |  1 | 12 |  2 | 10 |  8 | 0 | 1 | 29 | ... | 0 | 18 | 11 | 0 | 0 |  9 | 3 |  7 | 33 | 28 |\n",
       "| CHP-369-01-PBMC-DNA | 0 |  6 |  6 | 18 |  6 | 17 |  2 | 0 | 0 | 21 | ... | 1 |  8 | 10 | 0 | 0 |  7 | 2 |  2 | 22 | 26 |\n",
       "\n"
      ],
      "text/plain": [
       "                    TRBV1 TRBV10-1 TRBV10-2 TRBV10-3 TRBV11-1 TRBV11-2 TRBV11-3\n",
       "CHP-328-04-PBMC-DNA 0      7        3        4        3       10        2      \n",
       "CHP-328-05-PBMC-DNA 0      1        2        1        0        3        2      \n",
       "CHP-351-03-PBMC-DNA 1      4        3       24        8       19        4      \n",
       "CHP-353-04-PBMC-DNA 0     15       12       32       21       34       11      \n",
       "CHP-363-04-PBMC-DNA 0      3        1       12        2       10        8      \n",
       "CHP-369-01-PBMC-DNA 0      6        6       18        6       17        2      \n",
       "                    TRBV12-1 TRBV12-2 TRBV12-3 ... TRBV7-1 TRBV7-2 TRBV7-3\n",
       "CHP-328-04-PBMC-DNA 0        3        13       ... 0       14       0     \n",
       "CHP-328-05-PBMC-DNA 0        0         9       ... 0        3       3     \n",
       "CHP-351-03-PBMC-DNA 1        1        29       ... 0       23      21     \n",
       "CHP-353-04-PBMC-DNA 0        0        59       ... 0       24      26     \n",
       "CHP-363-04-PBMC-DNA 0        1        29       ... 0       18      11     \n",
       "CHP-369-01-PBMC-DNA 0        0        21       ... 1        8      10     \n",
       "                    TRBV7-4 TRBV7-5 TRBV7-6 TRBV7-7 TRBV7-8 TRBV7-9 TRBV9\n",
       "CHP-328-04-PBMC-DNA 0       0        4      2        8      21      11   \n",
       "CHP-328-05-PBMC-DNA 1       0        1      0        2       2       6   \n",
       "CHP-351-03-PBMC-DNA 1       0       18      9       13      52      73   \n",
       "CHP-353-04-PBMC-DNA 0       0       23      3       40      78      83   \n",
       "CHP-363-04-PBMC-DNA 0       0        9      3        7      33      28   \n",
       "CHP-369-01-PBMC-DNA 0       0        7      2        2      22      26   "
      ]
     },
     "metadata": {},
     "output_type": "display_data"
    }
   ],
   "source": [
    "head(vgene_mat)"
   ]
  },
  {
   "cell_type": "code",
   "execution_count": 23,
   "metadata": {
    "vscode": {
     "languageId": "r"
    }
   },
   "outputs": [],
   "source": [
    "readr::write_rds(vgene_mat, paste0(datapath, \"capTCRseq/int_pbmc_vgene_matrix.rds\"))"
   ]
  },
  {
   "cell_type": "code",
   "execution_count": 24,
   "metadata": {
    "vscode": {
     "languageId": "r"
    }
   },
   "outputs": [],
   "source": [
    "# remove lowfreq_v, hf = high freq\n",
    "vgene_mat_hf <- vgene_mat[, !colnames(vgene_mat) %in% lowfreq_v ]"
   ]
  },
  {
   "cell_type": "code",
   "execution_count": 25,
   "metadata": {
    "vscode": {
     "languageId": "r"
    }
   },
   "outputs": [
    {
     "data": {
      "text/html": [
       "<style>\n",
       ".list-inline {list-style: none; margin:0; padding: 0}\n",
       ".list-inline>li {display: inline-block}\n",
       ".list-inline>li:not(:last-child)::after {content: \"\\00b7\"; padding: 0 .5ex}\n",
       "</style>\n",
       "<ol class=list-inline><li>258</li><li>49</li></ol>\n"
      ],
      "text/latex": [
       "\\begin{enumerate*}\n",
       "\\item 258\n",
       "\\item 49\n",
       "\\end{enumerate*}\n"
      ],
      "text/markdown": [
       "1. 258\n",
       "2. 49\n",
       "\n",
       "\n"
      ],
      "text/plain": [
       "[1] 258  49"
      ]
     },
     "metadata": {},
     "output_type": "display_data"
    }
   ],
   "source": [
    "dim(vgene_mat_hf)"
   ]
  },
  {
   "cell_type": "code",
   "execution_count": 26,
   "metadata": {
    "vscode": {
     "languageId": "r"
    }
   },
   "outputs": [
    {
     "data": {
      "text/html": [
       "<style>\n",
       ".list-inline {list-style: none; margin:0; padding: 0}\n",
       ".list-inline>li {display: inline-block}\n",
       ".list-inline>li:not(:last-child)::after {content: \"\\00b7\"; padding: 0 .5ex}\n",
       "</style>\n",
       "<ol class=list-inline><li>258</li><li>61</li></ol>\n"
      ],
      "text/latex": [
       "\\begin{enumerate*}\n",
       "\\item 258\n",
       "\\item 61\n",
       "\\end{enumerate*}\n"
      ],
      "text/markdown": [
       "1. 258\n",
       "2. 61\n",
       "\n",
       "\n"
      ],
      "text/plain": [
       "[1] 258  61"
      ]
     },
     "metadata": {},
     "output_type": "display_data"
    }
   ],
   "source": [
    "dim(vgene_mat)"
   ]
  },
  {
   "cell_type": "code",
   "execution_count": 27,
   "metadata": {
    "vscode": {
     "languageId": "r"
    }
   },
   "outputs": [],
   "source": [
    "cormat <- cor(vgene_mat_hf)"
   ]
  },
  {
   "cell_type": "code",
   "execution_count": 28,
   "metadata": {
    "vscode": {
     "languageId": "r"
    }
   },
   "outputs": [],
   "source": [
    "#vgene_mat_hf[,c(\"TRBV10-3\", \"TRBV7-9\", \"TRBV13\")]"
   ]
  },
  {
   "cell_type": "code",
   "execution_count": 29,
   "metadata": {
    "vscode": {
     "languageId": "r"
    }
   },
   "outputs": [
    {
     "data": {
      "text/plain": [
       "   Min. 1st Qu.  Median    Mean 3rd Qu.    Max. \n",
       " 0.1002  0.6153  0.7135  0.6937  0.7972  1.0000 "
      ]
     },
     "metadata": {},
     "output_type": "display_data"
    }
   ],
   "source": [
    "summary(as.vector(cormat) )\n",
    "\n",
    "# generally high correlation"
   ]
  },
  {
   "attachments": {},
   "cell_type": "markdown",
   "metadata": {},
   "source": [
    "PCA"
   ]
  },
  {
   "cell_type": "code",
   "execution_count": 30,
   "metadata": {
    "vscode": {
     "languageId": "r"
    }
   },
   "outputs": [],
   "source": [
    "mypca <- prcomp(vgene_mat_hf, scale = TRUE)"
   ]
  },
  {
   "cell_type": "code",
   "execution_count": 31,
   "metadata": {
    "vscode": {
     "languageId": "r"
    }
   },
   "outputs": [],
   "source": [
    "out <- mypca$x\n",
    "mydf <- data.frame(out)"
   ]
  },
  {
   "cell_type": "code",
   "execution_count": 32,
   "metadata": {
    "vscode": {
     "languageId": "r"
    }
   },
   "outputs": [
    {
     "data": {
      "text/html": [
       "<table class=\"dataframe\">\n",
       "<caption>A matrix: 6 x 49 of type dbl</caption>\n",
       "<thead>\n",
       "\t<tr><th></th><th scope=col>PC1</th><th scope=col>PC2</th><th scope=col>PC3</th><th scope=col>PC4</th><th scope=col>PC5</th><th scope=col>PC6</th><th scope=col>PC7</th><th scope=col>PC8</th><th scope=col>PC9</th><th scope=col>PC10</th><th scope=col>...</th><th scope=col>PC40</th><th scope=col>PC41</th><th scope=col>PC42</th><th scope=col>PC43</th><th scope=col>PC44</th><th scope=col>PC45</th><th scope=col>PC46</th><th scope=col>PC47</th><th scope=col>PC48</th><th scope=col>PC49</th></tr>\n",
       "</thead>\n",
       "<tbody>\n",
       "\t<tr><th scope=row>CHP-328-04-PBMC-DNA</th><td> -4.321728</td><td>-0.03212677</td><td>-0.8674132</td><td>-0.5720319</td><td> 2.0116468</td><td> 0.2539799</td><td>-0.9105453</td><td> 0.27941627</td><td>-0.4430697</td><td>-0.7240545</td><td>...</td><td>-0.03846443</td><td> 0.006610509</td><td>-0.27729290</td><td> 0.17840026</td><td>-0.21411618</td><td>-0.43036180</td><td>-0.009790303</td><td>-0.24412197</td><td> 0.31029834</td><td> 0.03493672</td></tr>\n",
       "\t<tr><th scope=row>CHP-328-05-PBMC-DNA</th><td>  1.813318</td><td>-0.47595082</td><td>-0.6983832</td><td>-0.4500168</td><td> 0.7059845</td><td> 0.7060431</td><td>-0.4387870</td><td> 0.39149765</td><td> 0.2029042</td><td> 0.4762534</td><td>...</td><td>-0.13661626</td><td> 0.068570605</td><td> 0.22334894</td><td> 0.28242786</td><td>-0.11267415</td><td> 0.21252573</td><td> 0.136022733</td><td> 0.20535303</td><td> 0.08131802</td><td>-0.10495953</td></tr>\n",
       "\t<tr><th scope=row>CHP-351-03-PBMC-DNA</th><td>-16.703431</td><td> 3.16852193</td><td> 0.9447233</td><td> 0.6495886</td><td>-1.1581014</td><td>-1.0061298</td><td>-4.0954143</td><td> 5.25260421</td><td>-1.2200082</td><td>-2.4059916</td><td>...</td><td> 0.32221663</td><td>-0.431435864</td><td>-0.04502638</td><td>-0.37241404</td><td>-0.17000484</td><td> 0.03092922</td><td>-0.054612680</td><td>-0.08443263</td><td>-0.15691430</td><td> 0.09631231</td></tr>\n",
       "\t<tr><th scope=row>CHP-353-04-PBMC-DNA</th><td>-28.969007</td><td>-3.91092179</td><td>-8.4594291</td><td>-2.1278024</td><td>-3.3761498</td><td> 1.5486870</td><td> 0.4049921</td><td>-1.93592234</td><td> 3.8118639</td><td>-1.4423686</td><td>...</td><td>-0.19248382</td><td> 0.014672908</td><td>-0.51183721</td><td>-0.04616347</td><td>-0.19675278</td><td> 0.04284492</td><td>-0.011685493</td><td> 0.11843199</td><td> 0.05597463</td><td> 0.16759331</td></tr>\n",
       "\t<tr><th scope=row>CHP-363-04-PBMC-DNA</th><td> -9.663401</td><td> 3.15165741</td><td> 1.4763998</td><td> 1.0217333</td><td> 1.1992817</td><td> 2.2791147</td><td>-0.8674050</td><td>-0.12794262</td><td> 0.7092086</td><td>-0.9763820</td><td>...</td><td> 0.38661497</td><td> 0.164384541</td><td>-0.25098190</td><td> 0.34827781</td><td>-0.04840122</td><td> 0.22162394</td><td> 0.078737809</td><td> 0.42797468</td><td> 0.15594229</td><td>-0.04549570</td></tr>\n",
       "\t<tr><th scope=row>CHP-369-01-PBMC-DNA</th><td> -8.448113</td><td>-2.29942878</td><td> 0.2950300</td><td>-2.5663195</td><td> 0.5472186</td><td>-0.2208723</td><td> 0.4169612</td><td> 0.02371057</td><td>-1.2230712</td><td>-1.8582157</td><td>...</td><td>-0.56185823</td><td> 0.132931233</td><td> 0.36414564</td><td> 0.38310917</td><td>-0.53532623</td><td>-0.12928019</td><td>-0.135370535</td><td> 0.14120180</td><td>-0.36708205</td><td> 0.20002964</td></tr>\n",
       "</tbody>\n",
       "</table>\n"
      ],
      "text/latex": [
       "A matrix: 6 x 49 of type dbl\n",
       "\\begin{tabular}{r|lllllllllllllllllllll}\n",
       "  & PC1 & PC2 & PC3 & PC4 & PC5 & PC6 & PC7 & PC8 & PC9 & PC10 & ... & PC40 & PC41 & PC42 & PC43 & PC44 & PC45 & PC46 & PC47 & PC48 & PC49\\\\\n",
       "\\hline\n",
       "\tCHP-328-04-PBMC-DNA &  -4.321728 & -0.03212677 & -0.8674132 & -0.5720319 &  2.0116468 &  0.2539799 & -0.9105453 &  0.27941627 & -0.4430697 & -0.7240545 & ... & -0.03846443 &  0.006610509 & -0.27729290 &  0.17840026 & -0.21411618 & -0.43036180 & -0.009790303 & -0.24412197 &  0.31029834 &  0.03493672\\\\\n",
       "\tCHP-328-05-PBMC-DNA &   1.813318 & -0.47595082 & -0.6983832 & -0.4500168 &  0.7059845 &  0.7060431 & -0.4387870 &  0.39149765 &  0.2029042 &  0.4762534 & ... & -0.13661626 &  0.068570605 &  0.22334894 &  0.28242786 & -0.11267415 &  0.21252573 &  0.136022733 &  0.20535303 &  0.08131802 & -0.10495953\\\\\n",
       "\tCHP-351-03-PBMC-DNA & -16.703431 &  3.16852193 &  0.9447233 &  0.6495886 & -1.1581014 & -1.0061298 & -4.0954143 &  5.25260421 & -1.2200082 & -2.4059916 & ... &  0.32221663 & -0.431435864 & -0.04502638 & -0.37241404 & -0.17000484 &  0.03092922 & -0.054612680 & -0.08443263 & -0.15691430 &  0.09631231\\\\\n",
       "\tCHP-353-04-PBMC-DNA & -28.969007 & -3.91092179 & -8.4594291 & -2.1278024 & -3.3761498 &  1.5486870 &  0.4049921 & -1.93592234 &  3.8118639 & -1.4423686 & ... & -0.19248382 &  0.014672908 & -0.51183721 & -0.04616347 & -0.19675278 &  0.04284492 & -0.011685493 &  0.11843199 &  0.05597463 &  0.16759331\\\\\n",
       "\tCHP-363-04-PBMC-DNA &  -9.663401 &  3.15165741 &  1.4763998 &  1.0217333 &  1.1992817 &  2.2791147 & -0.8674050 & -0.12794262 &  0.7092086 & -0.9763820 & ... &  0.38661497 &  0.164384541 & -0.25098190 &  0.34827781 & -0.04840122 &  0.22162394 &  0.078737809 &  0.42797468 &  0.15594229 & -0.04549570\\\\\n",
       "\tCHP-369-01-PBMC-DNA &  -8.448113 & -2.29942878 &  0.2950300 & -2.5663195 &  0.5472186 & -0.2208723 &  0.4169612 &  0.02371057 & -1.2230712 & -1.8582157 & ... & -0.56185823 &  0.132931233 &  0.36414564 &  0.38310917 & -0.53532623 & -0.12928019 & -0.135370535 &  0.14120180 & -0.36708205 &  0.20002964\\\\\n",
       "\\end{tabular}\n"
      ],
      "text/markdown": [
       "\n",
       "A matrix: 6 x 49 of type dbl\n",
       "\n",
       "| <!--/--> | PC1 | PC2 | PC3 | PC4 | PC5 | PC6 | PC7 | PC8 | PC9 | PC10 | ... | PC40 | PC41 | PC42 | PC43 | PC44 | PC45 | PC46 | PC47 | PC48 | PC49 |\n",
       "|---|---|---|---|---|---|---|---|---|---|---|---|---|---|---|---|---|---|---|---|---|---|\n",
       "| CHP-328-04-PBMC-DNA |  -4.321728 | -0.03212677 | -0.8674132 | -0.5720319 |  2.0116468 |  0.2539799 | -0.9105453 |  0.27941627 | -0.4430697 | -0.7240545 | ... | -0.03846443 |  0.006610509 | -0.27729290 |  0.17840026 | -0.21411618 | -0.43036180 | -0.009790303 | -0.24412197 |  0.31029834 |  0.03493672 |\n",
       "| CHP-328-05-PBMC-DNA |   1.813318 | -0.47595082 | -0.6983832 | -0.4500168 |  0.7059845 |  0.7060431 | -0.4387870 |  0.39149765 |  0.2029042 |  0.4762534 | ... | -0.13661626 |  0.068570605 |  0.22334894 |  0.28242786 | -0.11267415 |  0.21252573 |  0.136022733 |  0.20535303 |  0.08131802 | -0.10495953 |\n",
       "| CHP-351-03-PBMC-DNA | -16.703431 |  3.16852193 |  0.9447233 |  0.6495886 | -1.1581014 | -1.0061298 | -4.0954143 |  5.25260421 | -1.2200082 | -2.4059916 | ... |  0.32221663 | -0.431435864 | -0.04502638 | -0.37241404 | -0.17000484 |  0.03092922 | -0.054612680 | -0.08443263 | -0.15691430 |  0.09631231 |\n",
       "| CHP-353-04-PBMC-DNA | -28.969007 | -3.91092179 | -8.4594291 | -2.1278024 | -3.3761498 |  1.5486870 |  0.4049921 | -1.93592234 |  3.8118639 | -1.4423686 | ... | -0.19248382 |  0.014672908 | -0.51183721 | -0.04616347 | -0.19675278 |  0.04284492 | -0.011685493 |  0.11843199 |  0.05597463 |  0.16759331 |\n",
       "| CHP-363-04-PBMC-DNA |  -9.663401 |  3.15165741 |  1.4763998 |  1.0217333 |  1.1992817 |  2.2791147 | -0.8674050 | -0.12794262 |  0.7092086 | -0.9763820 | ... |  0.38661497 |  0.164384541 | -0.25098190 |  0.34827781 | -0.04840122 |  0.22162394 |  0.078737809 |  0.42797468 |  0.15594229 | -0.04549570 |\n",
       "| CHP-369-01-PBMC-DNA |  -8.448113 | -2.29942878 |  0.2950300 | -2.5663195 |  0.5472186 | -0.2208723 |  0.4169612 |  0.02371057 | -1.2230712 | -1.8582157 | ... | -0.56185823 |  0.132931233 |  0.36414564 |  0.38310917 | -0.53532623 | -0.12928019 | -0.135370535 |  0.14120180 | -0.36708205 |  0.20002964 |\n",
       "\n"
      ],
      "text/plain": [
       "                    PC1        PC2         PC3        PC4        PC5       \n",
       "CHP-328-04-PBMC-DNA  -4.321728 -0.03212677 -0.8674132 -0.5720319  2.0116468\n",
       "CHP-328-05-PBMC-DNA   1.813318 -0.47595082 -0.6983832 -0.4500168  0.7059845\n",
       "CHP-351-03-PBMC-DNA -16.703431  3.16852193  0.9447233  0.6495886 -1.1581014\n",
       "CHP-353-04-PBMC-DNA -28.969007 -3.91092179 -8.4594291 -2.1278024 -3.3761498\n",
       "CHP-363-04-PBMC-DNA  -9.663401  3.15165741  1.4763998  1.0217333  1.1992817\n",
       "CHP-369-01-PBMC-DNA  -8.448113 -2.29942878  0.2950300 -2.5663195  0.5472186\n",
       "                    PC6        PC7        PC8         PC9        PC10       ...\n",
       "CHP-328-04-PBMC-DNA  0.2539799 -0.9105453  0.27941627 -0.4430697 -0.7240545 ...\n",
       "CHP-328-05-PBMC-DNA  0.7060431 -0.4387870  0.39149765  0.2029042  0.4762534 ...\n",
       "CHP-351-03-PBMC-DNA -1.0061298 -4.0954143  5.25260421 -1.2200082 -2.4059916 ...\n",
       "CHP-353-04-PBMC-DNA  1.5486870  0.4049921 -1.93592234  3.8118639 -1.4423686 ...\n",
       "CHP-363-04-PBMC-DNA  2.2791147 -0.8674050 -0.12794262  0.7092086 -0.9763820 ...\n",
       "CHP-369-01-PBMC-DNA -0.2208723  0.4169612  0.02371057 -1.2230712 -1.8582157 ...\n",
       "                    PC40        PC41         PC42        PC43       \n",
       "CHP-328-04-PBMC-DNA -0.03846443  0.006610509 -0.27729290  0.17840026\n",
       "CHP-328-05-PBMC-DNA -0.13661626  0.068570605  0.22334894  0.28242786\n",
       "CHP-351-03-PBMC-DNA  0.32221663 -0.431435864 -0.04502638 -0.37241404\n",
       "CHP-353-04-PBMC-DNA -0.19248382  0.014672908 -0.51183721 -0.04616347\n",
       "CHP-363-04-PBMC-DNA  0.38661497  0.164384541 -0.25098190  0.34827781\n",
       "CHP-369-01-PBMC-DNA -0.56185823  0.132931233  0.36414564  0.38310917\n",
       "                    PC44        PC45        PC46         PC47       \n",
       "CHP-328-04-PBMC-DNA -0.21411618 -0.43036180 -0.009790303 -0.24412197\n",
       "CHP-328-05-PBMC-DNA -0.11267415  0.21252573  0.136022733  0.20535303\n",
       "CHP-351-03-PBMC-DNA -0.17000484  0.03092922 -0.054612680 -0.08443263\n",
       "CHP-353-04-PBMC-DNA -0.19675278  0.04284492 -0.011685493  0.11843199\n",
       "CHP-363-04-PBMC-DNA -0.04840122  0.22162394  0.078737809  0.42797468\n",
       "CHP-369-01-PBMC-DNA -0.53532623 -0.12928019 -0.135370535  0.14120180\n",
       "                    PC48        PC49       \n",
       "CHP-328-04-PBMC-DNA  0.31029834  0.03493672\n",
       "CHP-328-05-PBMC-DNA  0.08131802 -0.10495953\n",
       "CHP-351-03-PBMC-DNA -0.15691430  0.09631231\n",
       "CHP-353-04-PBMC-DNA  0.05597463  0.16759331\n",
       "CHP-363-04-PBMC-DNA  0.15594229 -0.04549570\n",
       "CHP-369-01-PBMC-DNA -0.36708205  0.20002964"
      ]
     },
     "metadata": {},
     "output_type": "display_data"
    }
   ],
   "source": [
    "head(out)"
   ]
  },
  {
   "cell_type": "code",
   "execution_count": 33,
   "metadata": {
    "vscode": {
     "languageId": "r"
    }
   },
   "outputs": [],
   "source": [
    "p0 <- fviz_pca_ind(mypca,geom = \"point\", pointshape = 16, pointsize = 2, alpha = 1,\n",
    "                    ellipse.alpha = 0, invisible=\"quali\", repel = TRUE,\n",
    "                       title = \"PCA of frequent V genes (n = 49)\")"
   ]
  },
  {
   "cell_type": "code",
   "execution_count": 34,
   "metadata": {
    "vscode": {
     "languageId": "r"
    }
   },
   "outputs": [
    {
     "data": {
      "image/png": "[encoded data removed]",
      "text/plain": [
       "plot without title"
      ]
     },
     "metadata": {
      "image/png": {
       "height": 420,
       "width": 420
      }
     },
     "output_type": "display_data"
    }
   ],
   "source": [
    "p0"
   ]
  },
  {
   "cell_type": "code",
   "execution_count": 35,
   "metadata": {
    "vscode": {
     "languageId": "r"
    }
   },
   "outputs": [],
   "source": [
    "readr::write_rds(mydf, paste0(datapath, \"/capTCRseq/INT_PBMC_V_PCA_postqc.rds\"))"
   ]
  },
  {
   "cell_type": "code",
   "execution_count": null,
   "metadata": {
    "vscode": {
     "languageId": "r"
    }
   },
   "outputs": [],
   "source": []
  }
 ],
 "metadata": {
  "kernelspec": {
   "display_name": "R 4.0",
   "language": "R",
   "name": "ir40"
  },
  "language_info": {
   "codemirror_mode": "r",
   "file_extension": ".r",
   "mimetype": "text/x-r-source",
   "name": "R",
   "pygments_lexer": "r",
   "version": "4.2.2"
  },
  "orig_nbformat": 4,
  "vscode": {
   "interpreter": {
    "hash": "aee8b7b246df8f9039afb4144a1f6fd8d2ca17a180786b69acc140d282b71a49"
   }
  }
 },
 "nbformat": 4,
 "nbformat_minor": 2
}
