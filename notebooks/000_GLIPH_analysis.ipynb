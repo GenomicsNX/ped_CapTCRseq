{
 "cells": [
  {
   "cell_type": "markdown",
   "metadata": {
    "toc": true
   },
   "source": [
    "<h1>Table of Contents<span class=\"tocSkip\"></span></h1>\n",
    "<div class=\"toc\"><ul class=\"toc-item\"><li><span><a href=\"#Dependencies\" data-toc-modified-id=\"Dependencies-1\">Dependencies</a></span></li><li><span><a href=\"#Functions\" data-toc-modified-id=\"Functions-2\">Functions</a></span></li><li><span><a href=\"#Paths\" data-toc-modified-id=\"Paths-3\">Paths</a></span></li><li><span><a href=\"#Main\" data-toc-modified-id=\"Main-4\">Main</a></span><ul class=\"toc-item\"><li><span><a href=\"#Cleanup-INT-data\" data-toc-modified-id=\"Cleanup-INT-data-4.1\">Cleanup INT data</a></span></li><li><span><a href=\"#cleanup-COVID-TCR-data---from-adaptive\" data-toc-modified-id=\"cleanup-COVID-TCR-data---from-adaptive-4.2\">cleanup COVID TCR data - from adaptive</a></span></li><li><span><a href=\"#Cleanup-VDJdb-file---curated-by-Shirin\" data-toc-modified-id=\"Cleanup-VDJdb-file---curated-by-Shirin-4.3\">Cleanup VDJdb file - curated by Shirin</a></span></li></ul></li><li><span><a href=\"#bind-all\" data-toc-modified-id=\"bind-all-5\">bind all</a></span></li><li><span><a href=\"#Backup\" data-toc-modified-id=\"Backup-6\">Backup</a></span></li></ul></div>"
   ]
  },
  {
   "cell_type": "markdown",
   "metadata": {},
   "source": [
    "# Dependencies"
   ]
  },
  {
   "cell_type": "code",
   "execution_count": 1,
   "metadata": {},
   "outputs": [],
   "source": [
    "pacman::p_load(data.table)"
   ]
  },
  {
   "cell_type": "markdown",
   "metadata": {},
   "source": [
    "# Functions"
   ]
  },
  {
   "cell_type": "code",
   "execution_count": 2,
   "metadata": {},
   "outputs": [],
   "source": [
    "toString_onefle.fx <- function(df, tostringvar){\n",
    "    setDT(df)\n",
    "    ab <- df[, .(tostringvar = toString( eval(parse( text = tostringvar))), #bind subjects\n",
    "                 count = sum(count)),  #get sum of counts\n",
    "             by = c(\"CDR3b\", \"TRBV\", \"TRBJ\")] #get duplicates sequences with the same cdr3 + TRBV + TRBJ\n",
    "    df_ab <- merge(df, ab, by = c(\"CDR3b\",\"TRBV\",\"TRBJ\")) # merge together\n",
    "    df_ab_dedup <- dplyr::distinct(df_ab, CDR3b, TRBV, TRBJ, tostringvar, .keep_all= TRUE)\n",
    "    \n",
    "    return(df_ab_dedup[, c(\"CDR3b\", \"TRBV\", \"TRBJ\", \"samplename\", \n",
    "                           \"count.y\", \"clonefraction\", \"tostringvar\", \"file\")])\n",
    "}"
   ]
  },
  {
   "cell_type": "code",
   "execution_count": 3,
   "metadata": {},
   "outputs": [],
   "source": [
    "#source(\"/Users/anabbi/git/ped_CapTCRseq/R/Immune_diversity.R\")"
   ]
  },
  {
   "cell_type": "markdown",
   "metadata": {},
   "source": [
    "# Paths"
   ]
  },
  {
   "cell_type": "code",
   "execution_count": 5,
   "metadata": {},
   "outputs": [],
   "source": [
    "datapath <- \"/Users/anabbi/OneDrive - UHN/Documents/INTERCEPT/Data/\"\n",
    "plotpath <- \"/Users/anabbi/OneDrive - UHN/Documents/INTERCEPT/Plots/\"\n",
    "manifestpath <- \"/Users/anabbi/OneDrive - UHN/Documents/INTERCEPT/Manifests/\"\n",
    "\n",
    "gitpath <- \"/Users/anabbi/git/ped_CapTCRseq/\""
   ]
  },
  {
   "cell_type": "code",
   "execution_count": 6,
   "metadata": {},
   "outputs": [],
   "source": [
    "h4hpath <- \"/Users/anabbi/Desktop/H4H/INTERCEPT/NextSeq/\""
   ]
  },
  {
   "cell_type": "markdown",
   "metadata": {},
   "source": [
    "# Main"
   ]
  },
  {
   "cell_type": "code",
   "execution_count": 7,
   "metadata": {},
   "outputs": [],
   "source": [
    "load(file = paste0(datapath, \"capTCRseq/gliph_int_covid_tcr.RData\"))"
   ]
  },
  {
   "cell_type": "code",
   "execution_count": 8,
   "metadata": {},
   "outputs": [],
   "source": [
    "gliphoutput <- read.csv(paste0(h4hpath,'/GLIPH/int_covid_tcr_cluster.csv'),\n",
    "                       header = T)"
   ]
  },
  {
   "cell_type": "code",
   "execution_count": 9,
   "metadata": {},
   "outputs": [
    {
     "data": {
      "text/html": [
       "<table class=\"dataframe\">\n",
       "<caption>A data.frame: 6 × 29</caption>\n",
       "<thead>\n",
       "\t<tr><th></th><th scope=col>index</th><th scope=col>pattern</th><th scope=col>Fisher_score</th><th scope=col>number_subject</th><th scope=col>number_unique_cdr3</th><th scope=col>final_score</th><th scope=col>hla_score</th><th scope=col>vb_score</th><th scope=col>expansion_score</th><th scope=col>length_score</th><th scope=col>⋯</th><th scope=col>HLA.B</th><th scope=col>HLA.C</th><th scope=col>HLA.DPA1</th><th scope=col>HLA.DPB1</th><th scope=col>HLA.DQA1</th><th scope=col>HLA.DQB1</th><th scope=col>HLA.DRB1</th><th scope=col>HLA.DRB3</th><th scope=col>HLA.DRB4</th><th scope=col>HLA.DRB5</th></tr>\n",
       "\t<tr><th></th><th scope=col>&lt;int&gt;</th><th scope=col>&lt;chr&gt;</th><th scope=col>&lt;dbl&gt;</th><th scope=col>&lt;int&gt;</th><th scope=col>&lt;int&gt;</th><th scope=col>&lt;dbl&gt;</th><th scope=col>&lt;dbl&gt;</th><th scope=col>&lt;dbl&gt;</th><th scope=col>&lt;dbl&gt;</th><th scope=col>&lt;dbl&gt;</th><th scope=col>⋯</th><th scope=col>&lt;chr&gt;</th><th scope=col>&lt;chr&gt;</th><th scope=col>&lt;chr&gt;</th><th scope=col>&lt;chr&gt;</th><th scope=col>&lt;chr&gt;</th><th scope=col>&lt;chr&gt;</th><th scope=col>&lt;chr&gt;</th><th scope=col>&lt;chr&gt;</th><th scope=col>&lt;chr&gt;</th><th scope=col>&lt;chr&gt;</th></tr>\n",
       "</thead>\n",
       "<tbody>\n",
       "\t<tr><th scope=row>1</th><td>1</td><td>GIWV</td><td>0</td><td>88</td><td>82</td><td>6.7e-09</td><td>1</td><td>1</td><td>0.003</td><td>0.22</td><td>⋯</td><td>-</td><td>-</td><td>-</td><td>-</td><td>-</td><td>-</td><td>-</td><td>-</td><td>-</td><td>-</td></tr>\n",
       "\t<tr><th scope=row>2</th><td>1</td><td>GIWV</td><td>0</td><td>88</td><td>82</td><td>6.7e-09</td><td>1</td><td>1</td><td>0.003</td><td>0.22</td><td>⋯</td><td>-</td><td>-</td><td>-</td><td>-</td><td>-</td><td>-</td><td>-</td><td>-</td><td>-</td><td>-</td></tr>\n",
       "\t<tr><th scope=row>3</th><td>1</td><td>GIWV</td><td>0</td><td>88</td><td>82</td><td>6.7e-09</td><td>1</td><td>1</td><td>0.003</td><td>0.22</td><td>⋯</td><td>-</td><td>-</td><td>-</td><td>-</td><td>-</td><td>-</td><td>-</td><td>-</td><td>-</td><td>-</td></tr>\n",
       "\t<tr><th scope=row>4</th><td>1</td><td>GIWV</td><td>0</td><td>88</td><td>82</td><td>6.7e-09</td><td>1</td><td>1</td><td>0.003</td><td>0.22</td><td>⋯</td><td>-</td><td>-</td><td>-</td><td>-</td><td>-</td><td>-</td><td>-</td><td>-</td><td>-</td><td>-</td></tr>\n",
       "\t<tr><th scope=row>5</th><td>1</td><td>GIWV</td><td>0</td><td>88</td><td>82</td><td>6.7e-09</td><td>1</td><td>1</td><td>0.003</td><td>0.22</td><td>⋯</td><td>-</td><td>-</td><td>-</td><td>-</td><td>-</td><td>-</td><td>-</td><td>-</td><td>-</td><td>-</td></tr>\n",
       "\t<tr><th scope=row>6</th><td>1</td><td>GIWV</td><td>0</td><td>88</td><td>82</td><td>6.7e-09</td><td>1</td><td>1</td><td>0.003</td><td>0.22</td><td>⋯</td><td>-</td><td>-</td><td>-</td><td>-</td><td>-</td><td>-</td><td>-</td><td>-</td><td>-</td><td>-</td></tr>\n",
       "</tbody>\n",
       "</table>\n"
      ],
      "text/latex": [
       "A data.frame: 6 × 29\n",
       "\\begin{tabular}{r|lllllllllllllllllllll}\n",
       "  & index & pattern & Fisher\\_score & number\\_subject & number\\_unique\\_cdr3 & final\\_score & hla\\_score & vb\\_score & expansion\\_score & length\\_score & ⋯ & HLA.B & HLA.C & HLA.DPA1 & HLA.DPB1 & HLA.DQA1 & HLA.DQB1 & HLA.DRB1 & HLA.DRB3 & HLA.DRB4 & HLA.DRB5\\\\\n",
       "  & <int> & <chr> & <dbl> & <int> & <int> & <dbl> & <dbl> & <dbl> & <dbl> & <dbl> & ⋯ & <chr> & <chr> & <chr> & <chr> & <chr> & <chr> & <chr> & <chr> & <chr> & <chr>\\\\\n",
       "\\hline\n",
       "\t1 & 1 & GIWV & 0 & 88 & 82 & 6.7e-09 & 1 & 1 & 0.003 & 0.22 & ⋯ & - & - & - & - & - & - & - & - & - & -\\\\\n",
       "\t2 & 1 & GIWV & 0 & 88 & 82 & 6.7e-09 & 1 & 1 & 0.003 & 0.22 & ⋯ & - & - & - & - & - & - & - & - & - & -\\\\\n",
       "\t3 & 1 & GIWV & 0 & 88 & 82 & 6.7e-09 & 1 & 1 & 0.003 & 0.22 & ⋯ & - & - & - & - & - & - & - & - & - & -\\\\\n",
       "\t4 & 1 & GIWV & 0 & 88 & 82 & 6.7e-09 & 1 & 1 & 0.003 & 0.22 & ⋯ & - & - & - & - & - & - & - & - & - & -\\\\\n",
       "\t5 & 1 & GIWV & 0 & 88 & 82 & 6.7e-09 & 1 & 1 & 0.003 & 0.22 & ⋯ & - & - & - & - & - & - & - & - & - & -\\\\\n",
       "\t6 & 1 & GIWV & 0 & 88 & 82 & 6.7e-09 & 1 & 1 & 0.003 & 0.22 & ⋯ & - & - & - & - & - & - & - & - & - & -\\\\\n",
       "\\end{tabular}\n"
      ],
      "text/markdown": [
       "\n",
       "A data.frame: 6 × 29\n",
       "\n",
       "| <!--/--> | index &lt;int&gt; | pattern &lt;chr&gt; | Fisher_score &lt;dbl&gt; | number_subject &lt;int&gt; | number_unique_cdr3 &lt;int&gt; | final_score &lt;dbl&gt; | hla_score &lt;dbl&gt; | vb_score &lt;dbl&gt; | expansion_score &lt;dbl&gt; | length_score &lt;dbl&gt; | ⋯ ⋯ | HLA.B &lt;chr&gt; | HLA.C &lt;chr&gt; | HLA.DPA1 &lt;chr&gt; | HLA.DPB1 &lt;chr&gt; | HLA.DQA1 &lt;chr&gt; | HLA.DQB1 &lt;chr&gt; | HLA.DRB1 &lt;chr&gt; | HLA.DRB3 &lt;chr&gt; | HLA.DRB4 &lt;chr&gt; | HLA.DRB5 &lt;chr&gt; |\n",
       "|---|---|---|---|---|---|---|---|---|---|---|---|---|---|---|---|---|---|---|---|---|---|\n",
       "| 1 | 1 | GIWV | 0 | 88 | 82 | 6.7e-09 | 1 | 1 | 0.003 | 0.22 | ⋯ | - | - | - | - | - | - | - | - | - | - |\n",
       "| 2 | 1 | GIWV | 0 | 88 | 82 | 6.7e-09 | 1 | 1 | 0.003 | 0.22 | ⋯ | - | - | - | - | - | - | - | - | - | - |\n",
       "| 3 | 1 | GIWV | 0 | 88 | 82 | 6.7e-09 | 1 | 1 | 0.003 | 0.22 | ⋯ | - | - | - | - | - | - | - | - | - | - |\n",
       "| 4 | 1 | GIWV | 0 | 88 | 82 | 6.7e-09 | 1 | 1 | 0.003 | 0.22 | ⋯ | - | - | - | - | - | - | - | - | - | - |\n",
       "| 5 | 1 | GIWV | 0 | 88 | 82 | 6.7e-09 | 1 | 1 | 0.003 | 0.22 | ⋯ | - | - | - | - | - | - | - | - | - | - |\n",
       "| 6 | 1 | GIWV | 0 | 88 | 82 | 6.7e-09 | 1 | 1 | 0.003 | 0.22 | ⋯ | - | - | - | - | - | - | - | - | - | - |\n",
       "\n"
      ],
      "text/plain": [
       "  index pattern Fisher_score number_subject number_unique_cdr3 final_score\n",
       "1 1     GIWV    0            88             82                 6.7e-09    \n",
       "2 1     GIWV    0            88             82                 6.7e-09    \n",
       "3 1     GIWV    0            88             82                 6.7e-09    \n",
       "4 1     GIWV    0            88             82                 6.7e-09    \n",
       "5 1     GIWV    0            88             82                 6.7e-09    \n",
       "6 1     GIWV    0            88             82                 6.7e-09    \n",
       "  hla_score vb_score expansion_score length_score ⋯ HLA.B HLA.C HLA.DPA1\n",
       "1 1         1        0.003           0.22         ⋯ -     -     -       \n",
       "2 1         1        0.003           0.22         ⋯ -     -     -       \n",
       "3 1         1        0.003           0.22         ⋯ -     -     -       \n",
       "4 1         1        0.003           0.22         ⋯ -     -     -       \n",
       "5 1         1        0.003           0.22         ⋯ -     -     -       \n",
       "6 1         1        0.003           0.22         ⋯ -     -     -       \n",
       "  HLA.DPB1 HLA.DQA1 HLA.DQB1 HLA.DRB1 HLA.DRB3 HLA.DRB4 HLA.DRB5\n",
       "1 -        -        -        -        -        -        -       \n",
       "2 -        -        -        -        -        -        -       \n",
       "3 -        -        -        -        -        -        -       \n",
       "4 -        -        -        -        -        -        -       \n",
       "5 -        -        -        -        -        -        -       \n",
       "6 -        -        -        -        -        -        -       "
      ]
     },
     "metadata": {},
     "output_type": "display_data"
    }
   ],
   "source": [
    "head(gliphoutput)"
   ]
  },
  {
   "cell_type": "code",
   "execution_count": 10,
   "metadata": {},
   "outputs": [
    {
     "data": {
      "text/html": [
       "<style>\n",
       ".list-inline {list-style: none; margin:0; padding: 0}\n",
       ".list-inline>li {display: inline-block}\n",
       ".list-inline>li:not(:last-child)::after {content: \"\\00b7\"; padding: 0 .5ex}\n",
       "</style>\n",
       "<ol class=list-inline><li>'datapath'</li><li>'gitpath'</li><li>'gliph_int_covid_tcr'</li><li>'gliphoutput'</li><li>'h4hpath'</li><li>'manifestpath'</li><li>'plotpath'</li></ol>\n"
      ],
      "text/latex": [
       "\\begin{enumerate*}\n",
       "\\item 'datapath'\n",
       "\\item 'gitpath'\n",
       "\\item 'gliph\\_int\\_covid\\_tcr'\n",
       "\\item 'gliphoutput'\n",
       "\\item 'h4hpath'\n",
       "\\item 'manifestpath'\n",
       "\\item 'plotpath'\n",
       "\\end{enumerate*}\n"
      ],
      "text/markdown": [
       "1. 'datapath'\n",
       "2. 'gitpath'\n",
       "3. 'gliph_int_covid_tcr'\n",
       "4. 'gliphoutput'\n",
       "5. 'h4hpath'\n",
       "6. 'manifestpath'\n",
       "7. 'plotpath'\n",
       "\n",
       "\n"
      ],
      "text/plain": [
       "[1] \"datapath\"            \"gitpath\"             \"gliph_int_covid_tcr\"\n",
       "[4] \"gliphoutput\"         \"h4hpath\"             \"manifestpath\"       \n",
       "[7] \"plotpath\"           "
      ]
     },
     "metadata": {},
     "output_type": "display_data"
    }
   ],
   "source": [
    "ls()"
   ]
  },
  {
   "cell_type": "code",
   "execution_count": null,
   "metadata": {},
   "outputs": [],
   "source": []
  },
  {
   "cell_type": "code",
   "execution_count": null,
   "metadata": {},
   "outputs": [],
   "source": []
  },
  {
   "cell_type": "code",
   "execution_count": null,
   "metadata": {},
   "outputs": [],
   "source": []
  }
 ],
 "metadata": {
  "kernelspec": {
   "display_name": "R 4.0",
   "language": "R",
   "name": "ir40"
  },
  "language_info": {
   "codemirror_mode": "r",
   "file_extension": ".r",
   "mimetype": "text/x-r-source",
   "name": "R",
   "pygments_lexer": "r",
   "version": "4.0.3"
  },
  "toc": {
   "base_numbering": 1,
   "nav_menu": {},
   "number_sections": false,
   "sideBar": true,
   "skip_h1_title": false,
   "title_cell": "Table of Contents",
   "title_sidebar": "Contents",
   "toc_cell": true,
   "toc_position": {
    "height": "calc(100% - 180px)",
    "left": "10px",
    "top": "150px",
    "width": "186.15px"
   },
   "toc_section_display": true,
   "toc_window_display": true
  }
 },
 "nbformat": 4,
 "nbformat_minor": 2
}
