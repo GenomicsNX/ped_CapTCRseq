{
 "cells": [
  {
   "cell_type": "markdown",
   "metadata": {
    "toc": true
   },
   "source": [
    "<h1>Table of Contents<span class=\"tocSkip\"></span></h1>\n",
    "<div class=\"toc\"><ul class=\"toc-item\"><li><span><a href=\"#Dependencies\" data-toc-modified-id=\"Dependencies-1\">Dependencies</a></span></li><li><span><a href=\"#Functions\" data-toc-modified-id=\"Functions-2\">Functions</a></span></li><li><span><a href=\"#Paths\" data-toc-modified-id=\"Paths-3\">Paths</a></span></li><li><span><a href=\"#Create-test-dataset\" data-toc-modified-id=\"Create-test-dataset-4\">Create test dataset</a></span></li><li><span><a href=\"#Run-divstats\" data-toc-modified-id=\"Run-divstats-5\">Run divstats</a></span></li><li><span><a href=\"#Track-Jurkat-clone\" data-toc-modified-id=\"Track-Jurkat-clone-6\">Track Jurkat clone</a></span></li><li><span><a href=\"#Run-iNEXT\" data-toc-modified-id=\"Run-iNEXT-7\">Run iNEXT</a></span></li><li><span><a href=\"#Load-iNEXT-output-and-plot\" data-toc-modified-id=\"Load-iNEXT-output-and-plot-8\">Load iNEXT output and plot</a></span></li></ul></div>"
   ]
  },
  {
   "cell_type": "markdown",
   "metadata": {},
   "source": [
    "# Dependencies"
   ]
  },
  {
   "cell_type": "code",
   "execution_count": 15,
   "metadata": {},
   "outputs": [],
   "source": [
    "library(ggplot2)\n",
    "library(iNEXT)\n",
    "library(parallel)\n",
    "library(cowplot)"
   ]
  },
  {
   "cell_type": "markdown",
   "metadata": {},
   "source": [
    "# Functions"
   ]
  },
  {
   "cell_type": "code",
   "execution_count": 34,
   "metadata": {},
   "outputs": [
    {
     "name": "stderr",
     "output_type": "stream",
     "text": [
      "Loading required package: ggalluvial\n",
      "\n"
     ]
    }
   ],
   "source": [
    "source(\"~/git/ped_CapTCRseq/R/ggplot2_theme.R\")\n",
    "source(\"~/git/ped_CapTCRseq/R/color_schemes.R\")\n",
    "source(\"~/git/ped_CapTCRseq/R/Immune_Diversity.R\")\n",
    "source(\"~/git/ped_CapTCRseq/R/Misc_functions.R\")\n",
    "source(\"~/git/ped_CapTCRseq/R/clonetrack.R\")"
   ]
  },
  {
   "cell_type": "markdown",
   "metadata": {},
   "source": [
    "# Paths"
   ]
  },
  {
   "cell_type": "code",
   "execution_count": 23,
   "metadata": {},
   "outputs": [],
   "source": [
    "datapath <- \"~/git/ped_CapTCRseq/data/\"\n",
    "plotpath <- \"~/git/ped_CapTCRseq/plots/\""
   ]
  },
  {
   "cell_type": "markdown",
   "metadata": {},
   "source": [
    "# Create test dataset"
   ]
  },
  {
   "cell_type": "code",
   "execution_count": 24,
   "metadata": {},
   "outputs": [],
   "source": [
    "pbmc <- read.table(paste0(datapath, \"/testdata/CLONES_TRBA037.txt\"), sep = \"\\t\",\n",
    "                   header = T, stringsAsFactors = F)"
   ]
  },
  {
   "cell_type": "code",
   "execution_count": 25,
   "metadata": {},
   "outputs": [],
   "source": [
    "pbmc <- pbmc[!grepl(\"[*]\",pbmc$aaSeqCDR3), ]\n",
    "pbmc <- pbmc[!grepl(\"_\",pbmc$aaSeqCDR3), ]"
   ]
  },
  {
   "cell_type": "code",
   "execution_count": 26,
   "metadata": {},
   "outputs": [],
   "source": [
    "jurkat <- read.table(paste0(datapath, \"testdata/CLONES_TRBJurkat.txt\"), sep = \"\\t\",\n",
    "                   header = T, stringsAsFactors = F)"
   ]
  },
  {
   "cell_type": "code",
   "execution_count": 27,
   "metadata": {
    "scrolled": true
   },
   "outputs": [
    {
     "name": "stdout",
     "output_type": "stream",
     "text": [
      "   Min. 1st Qu.  Median    Mean 3rd Qu.    Max. \n",
      "  1.000   1.000   2.000   2.244   3.000   7.000 \n",
      "[1] 451\n"
     ]
    },
    {
     "name": "stderr",
     "output_type": "stream",
     "text": [
      "22.55\n",
      "\n"
     ]
    },
    {
     "name": "stdout",
     "output_type": "stream",
     "text": [
      "[1] 22\n"
     ]
    },
    {
     "name": "stderr",
     "output_type": "stream",
     "text": [
      "45.1\n",
      "\n"
     ]
    },
    {
     "name": "stdout",
     "output_type": "stream",
     "text": [
      "[1] 42\n"
     ]
    },
    {
     "name": "stderr",
     "output_type": "stream",
     "text": [
      "67.65\n",
      "\n"
     ]
    },
    {
     "name": "stdout",
     "output_type": "stream",
     "text": [
      "[1] 66\n"
     ]
    },
    {
     "name": "stderr",
     "output_type": "stream",
     "text": [
      "90.2\n",
      "\n"
     ]
    },
    {
     "name": "stdout",
     "output_type": "stream",
     "text": [
      "[1] 90\n"
     ]
    },
    {
     "name": "stderr",
     "output_type": "stream",
     "text": [
      "112.75\n",
      "\n"
     ]
    },
    {
     "name": "stdout",
     "output_type": "stream",
     "text": [
      "[1] 111\n"
     ]
    },
    {
     "name": "stderr",
     "output_type": "stream",
     "text": [
      "135.3\n",
      "\n"
     ]
    },
    {
     "name": "stdout",
     "output_type": "stream",
     "text": [
      "[1] 133\n"
     ]
    },
    {
     "name": "stderr",
     "output_type": "stream",
     "text": [
      "157.85\n",
      "\n"
     ]
    },
    {
     "name": "stdout",
     "output_type": "stream",
     "text": [
      "[1] 157\n"
     ]
    },
    {
     "name": "stderr",
     "output_type": "stream",
     "text": [
      "180.4\n",
      "\n"
     ]
    },
    {
     "name": "stdout",
     "output_type": "stream",
     "text": [
      "[1] 180\n"
     ]
    },
    {
     "name": "stderr",
     "output_type": "stream",
     "text": [
      "202.95\n",
      "\n"
     ]
    },
    {
     "name": "stdout",
     "output_type": "stream",
     "text": [
      "[1] 202\n"
     ]
    },
    {
     "name": "stderr",
     "output_type": "stream",
     "text": [
      "225.5\n",
      "\n"
     ]
    },
    {
     "name": "stdout",
     "output_type": "stream",
     "text": [
      "[1] 225\n"
     ]
    },
    {
     "name": "stderr",
     "output_type": "stream",
     "text": [
      "248.05\n",
      "\n"
     ]
    },
    {
     "name": "stdout",
     "output_type": "stream",
     "text": [
      "[1] 247\n"
     ]
    },
    {
     "name": "stderr",
     "output_type": "stream",
     "text": [
      "270.6\n",
      "\n"
     ]
    },
    {
     "name": "stdout",
     "output_type": "stream",
     "text": [
      "[1] 268\n"
     ]
    },
    {
     "name": "stderr",
     "output_type": "stream",
     "text": [
      "293.15\n",
      "\n"
     ]
    },
    {
     "name": "stdout",
     "output_type": "stream",
     "text": [
      "[1] 293\n"
     ]
    },
    {
     "name": "stderr",
     "output_type": "stream",
     "text": [
      "315.7\n",
      "\n"
     ]
    },
    {
     "name": "stdout",
     "output_type": "stream",
     "text": [
      "[1] 314\n"
     ]
    },
    {
     "name": "stderr",
     "output_type": "stream",
     "text": [
      "338.25\n",
      "\n"
     ]
    },
    {
     "name": "stdout",
     "output_type": "stream",
     "text": [
      "[1] 338\n"
     ]
    },
    {
     "name": "stderr",
     "output_type": "stream",
     "text": [
      "360.8\n",
      "\n"
     ]
    },
    {
     "name": "stdout",
     "output_type": "stream",
     "text": [
      "[1] 360\n"
     ]
    },
    {
     "name": "stderr",
     "output_type": "stream",
     "text": [
      "383.35\n",
      "\n"
     ]
    },
    {
     "name": "stdout",
     "output_type": "stream",
     "text": [
      "[1] 381\n"
     ]
    },
    {
     "name": "stderr",
     "output_type": "stream",
     "text": [
      "405.9\n",
      "\n"
     ]
    },
    {
     "name": "stdout",
     "output_type": "stream",
     "text": [
      "[1] 403\n"
     ]
    },
    {
     "name": "stderr",
     "output_type": "stream",
     "text": [
      "428.45\n",
      "\n"
     ]
    },
    {
     "name": "stdout",
     "output_type": "stream",
     "text": [
      "[1] 427\n"
     ]
    },
    {
     "name": "stderr",
     "output_type": "stream",
     "text": [
      "451\n",
      "\n"
     ]
    },
    {
     "name": "stdout",
     "output_type": "stream",
     "text": [
      "[1] 451\n"
     ]
    }
   ],
   "source": [
    "addjurkat.fx(pbmc, jurkat, 0.05, paste0(datapath, \"/testdata/\"))"
   ]
  },
  {
   "cell_type": "code",
   "execution_count": 28,
   "metadata": {},
   "outputs": [],
   "source": [
    "file_list <- list.files(paste0(datapath, \"testdata/\"), pattern = \"addjurkat\", recursive = T)"
   ]
  },
  {
   "cell_type": "code",
   "execution_count": 29,
   "metadata": {},
   "outputs": [],
   "source": [
    "file_list <- c(file_list, \"CLONES_TRBA037.txt\")"
   ]
  },
  {
   "cell_type": "code",
   "execution_count": 30,
   "metadata": {},
   "outputs": [],
   "source": [
    "file_list <- file_list[!grepl(\"csv\", file_list)]"
   ]
  },
  {
   "cell_type": "markdown",
   "metadata": {},
   "source": [
    "# Run divstats"
   ]
  },
  {
   "cell_type": "code",
   "execution_count": 31,
   "metadata": {},
   "outputs": [
    {
     "name": "stderr",
     "output_type": "stream",
     "text": [
      "number of clones in file:CLONES_TRBaddjurkat_112.75_0.25.txt\n",
      "\n"
     ]
    },
    {
     "name": "stdout",
     "output_type": "stream",
     "text": [
      "[1] 159\n"
     ]
    },
    {
     "name": "stderr",
     "output_type": "stream",
     "text": [
      "number of non prodcutive CDR3s:\n",
      "\n"
     ]
    },
    {
     "name": "stdout",
     "output_type": "stream",
     "text": [
      "[1] 0\n"
     ]
    },
    {
     "name": "stderr",
     "output_type": "stream",
     "text": [
      "nonproductive aaCDR3 removed\n",
      "\n",
      "number of clones in file:CLONES_TRBaddjurkat_135.3_0.3.txt\n",
      "\n"
     ]
    },
    {
     "name": "stdout",
     "output_type": "stream",
     "text": [
      "[1] 149\n"
     ]
    },
    {
     "name": "stderr",
     "output_type": "stream",
     "text": [
      "number of non prodcutive CDR3s:\n",
      "\n"
     ]
    },
    {
     "name": "stdout",
     "output_type": "stream",
     "text": [
      "[1] 0\n"
     ]
    },
    {
     "name": "stderr",
     "output_type": "stream",
     "text": [
      "nonproductive aaCDR3 removed\n",
      "\n",
      "number of clones in file:CLONES_TRBaddjurkat_157.85_0.35.txt\n",
      "\n"
     ]
    },
    {
     "name": "stdout",
     "output_type": "stream",
     "text": [
      "[1] 139\n"
     ]
    },
    {
     "name": "stderr",
     "output_type": "stream",
     "text": [
      "number of non prodcutive CDR3s:\n",
      "\n"
     ]
    },
    {
     "name": "stdout",
     "output_type": "stream",
     "text": [
      "[1] 0\n"
     ]
    },
    {
     "name": "stderr",
     "output_type": "stream",
     "text": [
      "nonproductive aaCDR3 removed\n",
      "\n",
      "number of clones in file:CLONES_TRBaddjurkat_180.4_0.4.txt\n",
      "\n"
     ]
    },
    {
     "name": "stdout",
     "output_type": "stream",
     "text": [
      "[1] 126\n"
     ]
    },
    {
     "name": "stderr",
     "output_type": "stream",
     "text": [
      "number of non prodcutive CDR3s:\n",
      "\n"
     ]
    },
    {
     "name": "stdout",
     "output_type": "stream",
     "text": [
      "[1] 0\n"
     ]
    },
    {
     "name": "stderr",
     "output_type": "stream",
     "text": [
      "nonproductive aaCDR3 removed\n",
      "\n",
      "number of clones in file:CLONES_TRBaddjurkat_202.95_0.45.txt\n",
      "\n"
     ]
    },
    {
     "name": "stdout",
     "output_type": "stream",
     "text": [
      "[1] 116\n"
     ]
    },
    {
     "name": "stderr",
     "output_type": "stream",
     "text": [
      "number of non prodcutive CDR3s:\n",
      "\n"
     ]
    },
    {
     "name": "stdout",
     "output_type": "stream",
     "text": [
      "[1] 0\n"
     ]
    },
    {
     "name": "stderr",
     "output_type": "stream",
     "text": [
      "nonproductive aaCDR3 removed\n",
      "\n",
      "number of clones in file:CLONES_TRBaddjurkat_22.55_0.05.txt\n",
      "\n"
     ]
    },
    {
     "name": "stdout",
     "output_type": "stream",
     "text": [
      "[1] 195\n"
     ]
    },
    {
     "name": "stderr",
     "output_type": "stream",
     "text": [
      "number of non prodcutive CDR3s:\n",
      "\n"
     ]
    },
    {
     "name": "stdout",
     "output_type": "stream",
     "text": [
      "[1] 0\n"
     ]
    },
    {
     "name": "stderr",
     "output_type": "stream",
     "text": [
      "nonproductive aaCDR3 removed\n",
      "\n",
      "number of clones in file:CLONES_TRBaddjurkat_225.5_0.5.txt\n",
      "\n"
     ]
    },
    {
     "name": "stdout",
     "output_type": "stream",
     "text": [
      "[1] 106\n"
     ]
    },
    {
     "name": "stderr",
     "output_type": "stream",
     "text": [
      "number of non prodcutive CDR3s:\n",
      "\n"
     ]
    },
    {
     "name": "stdout",
     "output_type": "stream",
     "text": [
      "[1] 0\n"
     ]
    },
    {
     "name": "stderr",
     "output_type": "stream",
     "text": [
      "nonproductive aaCDR3 removed\n",
      "\n",
      "number of clones in file:CLONES_TRBaddjurkat_248.05_0.55.txt\n",
      "\n"
     ]
    },
    {
     "name": "stdout",
     "output_type": "stream",
     "text": [
      "[1] 98\n"
     ]
    },
    {
     "name": "stderr",
     "output_type": "stream",
     "text": [
      "number of non prodcutive CDR3s:\n",
      "\n"
     ]
    },
    {
     "name": "stdout",
     "output_type": "stream",
     "text": [
      "[1] 0\n"
     ]
    },
    {
     "name": "stderr",
     "output_type": "stream",
     "text": [
      "nonproductive aaCDR3 removed\n",
      "\n",
      "number of clones in file:CLONES_TRBaddjurkat_270.6_0.6.txt\n",
      "\n"
     ]
    },
    {
     "name": "stdout",
     "output_type": "stream",
     "text": [
      "[1] 91\n"
     ]
    },
    {
     "name": "stderr",
     "output_type": "stream",
     "text": [
      "number of non prodcutive CDR3s:\n",
      "\n"
     ]
    },
    {
     "name": "stdout",
     "output_type": "stream",
     "text": [
      "[1] 0\n"
     ]
    },
    {
     "name": "stderr",
     "output_type": "stream",
     "text": [
      "nonproductive aaCDR3 removed\n",
      "\n",
      "number of clones in file:CLONES_TRBaddjurkat_293.15_0.65.txt\n",
      "\n"
     ]
    },
    {
     "name": "stdout",
     "output_type": "stream",
     "text": [
      "[1] 78\n"
     ]
    },
    {
     "name": "stderr",
     "output_type": "stream",
     "text": [
      "number of non prodcutive CDR3s:\n",
      "\n"
     ]
    },
    {
     "name": "stdout",
     "output_type": "stream",
     "text": [
      "[1] 0\n"
     ]
    },
    {
     "name": "stderr",
     "output_type": "stream",
     "text": [
      "nonproductive aaCDR3 removed\n",
      "\n",
      "number of clones in file:CLONES_TRBaddjurkat_315.7_0.7.txt\n",
      "\n"
     ]
    },
    {
     "name": "stdout",
     "output_type": "stream",
     "text": [
      "[1] 70\n"
     ]
    },
    {
     "name": "stderr",
     "output_type": "stream",
     "text": [
      "number of non prodcutive CDR3s:\n",
      "\n"
     ]
    },
    {
     "name": "stdout",
     "output_type": "stream",
     "text": [
      "[1] 0\n"
     ]
    },
    {
     "name": "stderr",
     "output_type": "stream",
     "text": [
      "nonproductive aaCDR3 removed\n",
      "\n",
      "number of clones in file:CLONES_TRBaddjurkat_338.25_0.75.txt\n",
      "\n"
     ]
    },
    {
     "name": "stdout",
     "output_type": "stream",
     "text": [
      "[1] 61\n"
     ]
    },
    {
     "name": "stderr",
     "output_type": "stream",
     "text": [
      "number of non prodcutive CDR3s:\n",
      "\n"
     ]
    },
    {
     "name": "stdout",
     "output_type": "stream",
     "text": [
      "[1] 0\n"
     ]
    },
    {
     "name": "stderr",
     "output_type": "stream",
     "text": [
      "nonproductive aaCDR3 removed\n",
      "\n",
      "number of clones in file:CLONES_TRBaddjurkat_360.8_0.8.txt\n",
      "\n"
     ]
    },
    {
     "name": "stdout",
     "output_type": "stream",
     "text": [
      "[1] 47\n"
     ]
    },
    {
     "name": "stderr",
     "output_type": "stream",
     "text": [
      "number of non prodcutive CDR3s:\n",
      "\n"
     ]
    },
    {
     "name": "stdout",
     "output_type": "stream",
     "text": [
      "[1] 0\n"
     ]
    },
    {
     "name": "stderr",
     "output_type": "stream",
     "text": [
      "nonproductive aaCDR3 removed\n",
      "\n",
      "number of clones in file:CLONES_TRBaddjurkat_383.35_0.85.txt\n",
      "\n"
     ]
    },
    {
     "name": "stdout",
     "output_type": "stream",
     "text": [
      "[1] 39\n"
     ]
    },
    {
     "name": "stderr",
     "output_type": "stream",
     "text": [
      "number of non prodcutive CDR3s:\n",
      "\n"
     ]
    },
    {
     "name": "stdout",
     "output_type": "stream",
     "text": [
      "[1] 0\n"
     ]
    },
    {
     "name": "stderr",
     "output_type": "stream",
     "text": [
      "nonproductive aaCDR3 removed\n",
      "\n",
      "number of clones in file:CLONES_TRBaddjurkat_405.9_0.9.txt\n",
      "\n"
     ]
    },
    {
     "name": "stdout",
     "output_type": "stream",
     "text": [
      "[1] 26\n"
     ]
    },
    {
     "name": "stderr",
     "output_type": "stream",
     "text": [
      "number of non prodcutive CDR3s:\n",
      "\n"
     ]
    },
    {
     "name": "stdout",
     "output_type": "stream",
     "text": [
      "[1] 0\n"
     ]
    },
    {
     "name": "stderr",
     "output_type": "stream",
     "text": [
      "nonproductive aaCDR3 removed\n",
      "\n",
      "number of clones in file:CLONES_TRBaddjurkat_428.45_0.95.txt\n",
      "\n"
     ]
    },
    {
     "name": "stdout",
     "output_type": "stream",
     "text": [
      "[1] 14\n"
     ]
    },
    {
     "name": "stderr",
     "output_type": "stream",
     "text": [
      "number of non prodcutive CDR3s:\n",
      "\n"
     ]
    },
    {
     "name": "stdout",
     "output_type": "stream",
     "text": [
      "[1] 0\n"
     ]
    },
    {
     "name": "stderr",
     "output_type": "stream",
     "text": [
      "nonproductive aaCDR3 removed\n",
      "\n",
      "number of clones in file:CLONES_TRBaddjurkat_45.1_0.1.txt\n",
      "\n"
     ]
    },
    {
     "name": "stdout",
     "output_type": "stream",
     "text": [
      "[1] 188\n"
     ]
    },
    {
     "name": "stderr",
     "output_type": "stream",
     "text": [
      "number of non prodcutive CDR3s:\n",
      "\n"
     ]
    },
    {
     "name": "stdout",
     "output_type": "stream",
     "text": [
      "[1] 0\n"
     ]
    },
    {
     "name": "stderr",
     "output_type": "stream",
     "text": [
      "nonproductive aaCDR3 removed\n",
      "\n",
      "number of clones in file:CLONES_TRBaddjurkat_451_1.txt\n",
      "\n"
     ]
    },
    {
     "name": "stdout",
     "output_type": "stream",
     "text": [
      "[1] 1\n"
     ]
    },
    {
     "name": "stderr",
     "output_type": "stream",
     "text": [
      "number of non prodcutive CDR3s:\n",
      "\n"
     ]
    },
    {
     "name": "stdout",
     "output_type": "stream",
     "text": [
      "[1] 0\n"
     ]
    },
    {
     "name": "stderr",
     "output_type": "stream",
     "text": [
      "nonproductive aaCDR3 removed\n",
      "\n",
      "number of clones in file:CLONES_TRBaddjurkat_67.65_0.15.txt\n",
      "\n"
     ]
    },
    {
     "name": "stdout",
     "output_type": "stream",
     "text": [
      "[1] 178\n"
     ]
    },
    {
     "name": "stderr",
     "output_type": "stream",
     "text": [
      "number of non prodcutive CDR3s:\n",
      "\n"
     ]
    },
    {
     "name": "stdout",
     "output_type": "stream",
     "text": [
      "[1] 0\n"
     ]
    },
    {
     "name": "stderr",
     "output_type": "stream",
     "text": [
      "nonproductive aaCDR3 removed\n",
      "\n",
      "number of clones in file:CLONES_TRBaddjurkat_90.2_0.2.txt\n",
      "\n"
     ]
    },
    {
     "name": "stdout",
     "output_type": "stream",
     "text": [
      "[1] 169\n"
     ]
    },
    {
     "name": "stderr",
     "output_type": "stream",
     "text": [
      "number of non prodcutive CDR3s:\n",
      "\n"
     ]
    },
    {
     "name": "stdout",
     "output_type": "stream",
     "text": [
      "[1] 0\n"
     ]
    },
    {
     "name": "stderr",
     "output_type": "stream",
     "text": [
      "nonproductive aaCDR3 removed\n",
      "\n",
      "number of clones in file:CLONES_TRBA037.txt\n",
      "\n"
     ]
    },
    {
     "name": "stdout",
     "output_type": "stream",
     "text": [
      "[1] 256\n"
     ]
    },
    {
     "name": "stderr",
     "output_type": "stream",
     "text": [
      "number of non prodcutive CDR3s:\n",
      "\n"
     ]
    },
    {
     "name": "stdout",
     "output_type": "stream",
     "text": [
      "[1] 55\n"
     ]
    },
    {
     "name": "stderr",
     "output_type": "stream",
     "text": [
      "nonproductive aaCDR3 removed\n",
      "\n"
     ]
    }
   ],
   "source": [
    "batch <- immunelistfx(file_list, paste0(datapath, \"testdata/\"), \"TRB\")"
   ]
  },
  {
   "cell_type": "code",
   "execution_count": 32,
   "metadata": {
    "scrolled": true
   },
   "outputs": [
    {
     "name": "stderr",
     "output_type": "stream",
     "text": [
      "Warning message in BootstrapFun.abun(x = x, FunName, datatype, B):\n",
      "“The Bootstrap community has only one species. Estimation is not robust.”\n",
      "Warning message in max(x[-1] > 1):\n",
      "“no non-missing arguments to max; returning -Inf”\n",
      "Warning message in BootstrapFun.abun(x = x, FunName, datatype, B):\n",
      "“The Bootstrap community has only one species. Estimation is not robust.”\n"
     ]
    }
   ],
   "source": [
    "Divstats.fx(batch, \"TRB\", \"addjurkat\" , paste0(datapath, \"testdata/\"))"
   ]
  },
  {
   "cell_type": "markdown",
   "metadata": {},
   "source": [
    "# Track Jurkat clone"
   ]
  },
  {
   "cell_type": "code",
   "execution_count": 35,
   "metadata": {
    "scrolled": true
   },
   "outputs": [
    {
     "name": "stderr",
     "output_type": "stream",
     "text": [
      "my files:\n",
      "\n"
     ]
    },
    {
     "name": "stdout",
     "output_type": "stream",
     "text": [
      " [1] \"CLONES_TRBaddjurkat_112.75_0.25.txt\" \"CLONES_TRBaddjurkat_135.3_0.3.txt\"  \n",
      " [3] \"CLONES_TRBaddjurkat_157.85_0.35.txt\" \"CLONES_TRBaddjurkat_180.4_0.4.txt\"  \n",
      " [5] \"CLONES_TRBaddjurkat_202.95_0.45.txt\" \"CLONES_TRBaddjurkat_22.55_0.05.txt\" \n",
      " [7] \"CLONES_TRBaddjurkat_225.5_0.5.txt\"   \"CLONES_TRBaddjurkat_248.05_0.55.txt\"\n",
      " [9] \"CLONES_TRBaddjurkat_270.6_0.6.txt\"   \"CLONES_TRBaddjurkat_293.15_0.65.txt\"\n",
      "[11] \"CLONES_TRBaddjurkat_315.7_0.7.txt\"   \"CLONES_TRBaddjurkat_338.25_0.75.txt\"\n",
      "[13] \"CLONES_TRBaddjurkat_360.8_0.8.txt\"   \"CLONES_TRBaddjurkat_383.35_0.85.txt\"\n",
      "[15] \"CLONES_TRBaddjurkat_405.9_0.9.txt\"   \"CLONES_TRBaddjurkat_428.45_0.95.txt\"\n",
      "[17] \"CLONES_TRBaddjurkat_45.1_0.1.txt\"    \"CLONES_TRBaddjurkat_451_1.txt\"      \n",
      "[19] \"CLONES_TRBaddjurkat_67.65_0.15.txt\"  \"CLONES_TRBaddjurkat_90.2_0.2.txt\"   \n",
      "[21] \"CLONES_TRBA037.txt\"                 \n"
     ]
    },
    {
     "name": "stderr",
     "output_type": "stream",
     "text": [
      "Total recovered clonotypes:\n",
      "\n"
     ]
    },
    {
     "name": "stdout",
     "output_type": "stream",
     "text": [
      "[1] 2306\n"
     ]
    },
    {
     "name": "stderr",
     "output_type": "stream",
     "text": [
      "Total out-of-frame clonotypes:\n",
      "\n"
     ]
    },
    {
     "name": "stdout",
     "output_type": "stream",
     "text": [
      "[1] 50\n"
     ]
    },
    {
     "name": "stderr",
     "output_type": "stream",
     "text": [
      "Total clonotypes with stop codon:\n",
      "\n"
     ]
    },
    {
     "name": "stdout",
     "output_type": "stream",
     "text": [
      "[1] 5\n"
     ]
    },
    {
     "name": "stderr",
     "output_type": "stream",
     "text": [
      "Total productive clonotypes:\n",
      "\n"
     ]
    },
    {
     "name": "stdout",
     "output_type": "stream",
     "text": [
      "[1] 2251\n"
     ]
    },
    {
     "name": "stderr",
     "output_type": "stream",
     "text": [
      "Output contains in_frame clonotypes only\n",
      "\n"
     ]
    }
   ],
   "source": [
    "myfiles <- list.files(paste0(datapath, \"testdata/\"), pattern = \"addjurkat_\", recursive = T)\n",
    "myfiles <- c(myfiles, \"CLONES_TRBA037.txt\")\n",
    "\n",
    "cdr3df <- cdr3_dataframe.fx(paste0(datapath, \"testdata/\"), \"TRB\", myfiles, \"inframe\")"
   ]
  },
  {
   "cell_type": "code",
   "execution_count": 36,
   "metadata": {},
   "outputs": [],
   "source": [
    "cdr3df$samplename <- gsub(\"CLONES\", \"A037\", cdr3df$samplename)\n",
    "cdr3df$samplename <- gsub(\".txt\", \"\", cdr3df$samplename)"
   ]
  },
  {
   "cell_type": "code",
   "execution_count": 37,
   "metadata": {},
   "outputs": [],
   "source": [
    "cdr3df$myclonereads <- gsub(\".*addjurkat_\", \"\", cdr3df$samplename)"
   ]
  },
  {
   "cell_type": "code",
   "execution_count": 38,
   "metadata": {},
   "outputs": [
    {
     "data": {
      "text/html": [
       "<style>\n",
       ".list-inline {list-style: none; margin:0; padding: 0}\n",
       ".list-inline>li {display: inline-block}\n",
       ".list-inline>li:not(:last-child)::after {content: \"\\00b7\"; padding: 0 .5ex}\n",
       "</style>\n",
       "<ol class=list-inline><li>'112.75_0.25'</li><li>'112.75_0.25'</li><li>'112.75_0.25'</li><li>'112.75_0.25'</li><li>'112.75_0.25'</li><li>'112.75_0.25'</li></ol>\n"
      ],
      "text/latex": [
       "\\begin{enumerate*}\n",
       "\\item '112.75\\_0.25'\n",
       "\\item '112.75\\_0.25'\n",
       "\\item '112.75\\_0.25'\n",
       "\\item '112.75\\_0.25'\n",
       "\\item '112.75\\_0.25'\n",
       "\\item '112.75\\_0.25'\n",
       "\\end{enumerate*}\n"
      ],
      "text/markdown": [
       "1. '112.75_0.25'\n",
       "2. '112.75_0.25'\n",
       "3. '112.75_0.25'\n",
       "4. '112.75_0.25'\n",
       "5. '112.75_0.25'\n",
       "6. '112.75_0.25'\n",
       "\n",
       "\n"
      ],
      "text/plain": [
       "[1] \"112.75_0.25\" \"112.75_0.25\" \"112.75_0.25\" \"112.75_0.25\" \"112.75_0.25\"\n",
       "[6] \"112.75_0.25\""
      ]
     },
     "metadata": {},
     "output_type": "display_data"
    }
   ],
   "source": [
    "head(cdr3df$myclonereads)"
   ]
  },
  {
   "cell_type": "code",
   "execution_count": 39,
   "metadata": {},
   "outputs": [],
   "source": [
    "cdr3df$mypercreads <- gsub(\".*_\", \"\", cdr3df$myclonereads)\n",
    "cdr3df$myclonereads <- gsub(\"_.*\", \"\", cdr3df$myclonereads)"
   ]
  },
  {
   "cell_type": "code",
   "execution_count": 41,
   "metadata": {},
   "outputs": [],
   "source": [
    "cdr3df$myclonereads <- gsub(\"A037\", \"0\", cdr3df$myclonereads)\n",
    "cdr3df$myclonereads <- as.numeric(cdr3df$myclonereads)"
   ]
  },
  {
   "cell_type": "code",
   "execution_count": 42,
   "metadata": {},
   "outputs": [],
   "source": [
    "cdr3df$samplename <- gsub(\"_addjurkat\", \"\", cdr3df$samplename)\n",
    "cdr3df$samplename <- gsub(\"_A037\", \"_0\", cdr3df$samplename)"
   ]
  },
  {
   "cell_type": "code",
   "execution_count": 44,
   "metadata": {},
   "outputs": [],
   "source": [
    "cdr3df$samplename <- factor(cdr3df$samplename, levels = unique(cdr3df$samplename\n",
    "                                                               [order(cdr3df$myclonereads, decreasing = F)]))"
   ]
  },
  {
   "cell_type": "code",
   "execution_count": 45,
   "metadata": {
    "scrolled": true
   },
   "outputs": [
    {
     "name": "stderr",
     "output_type": "stream",
     "text": [
      "list of samples to track clones: \n",
      "\n"
     ]
    },
    {
     "name": "stdout",
     "output_type": "stream",
     "text": [
      " [1] A037_112.75_0.25 A037_135.3_0.3   A037_157.85_0.35 A037_180.4_0.4  \n",
      " [5] A037_202.95_0.45 A037_22.55_0.05  A037_225.5_0.5   A037_248.05_0.55\n",
      " [9] A037_270.6_0.6   A037_293.15_0.65 A037_315.7_0.7   A037_338.25_0.75\n",
      "[13] A037_360.8_0.8   A037_383.35_0.85 A037_405.9_0.9   A037_428.45_0.95\n",
      "[17] A037_45.1_0.1    A037_451_1       A037_67.65_0.15  A037_90.2_0.2   \n",
      "[21] A037_0          \n",
      "21 Levels: A037_0 A037_22.55_0.05 A037_45.1_0.1 ... A037_451_1\n"
     ]
    },
    {
     "data": {
      "text/html": [
       "<strong>pdf:</strong> 2"
      ],
      "text/latex": [
       "\\textbf{pdf:} 2"
      ],
      "text/markdown": [
       "**pdf:** 2"
      ],
      "text/plain": [
       "pdf \n",
       "  2 "
      ]
     },
     "metadata": {},
     "output_type": "display_data"
    }
   ],
   "source": [
    "track_Aclone.fx(cdr3df, plotpath, \"cloneFraction\", 0, \"TGTGCCAGCAGTTTCTCGACCTGTTCGGCTAACTATGGCTACACCTTC\")"
   ]
  },
  {
   "cell_type": "code",
   "execution_count": 46,
   "metadata": {},
   "outputs": [
    {
     "name": "stderr",
     "output_type": "stream",
     "text": [
      "list of samples to track clones: \n",
      "\n"
     ]
    },
    {
     "name": "stdout",
     "output_type": "stream",
     "text": [
      " [1] A037_112.75_0.25 A037_135.3_0.3   A037_157.85_0.35 A037_180.4_0.4  \n",
      " [5] A037_202.95_0.45 A037_22.55_0.05  A037_225.5_0.5   A037_248.05_0.55\n",
      " [9] A037_270.6_0.6   A037_293.15_0.65 A037_315.7_0.7   A037_338.25_0.75\n",
      "[13] A037_360.8_0.8   A037_383.35_0.85 A037_405.9_0.9   A037_428.45_0.95\n",
      "[17] A037_45.1_0.1    A037_451_1       A037_67.65_0.15  A037_90.2_0.2   \n",
      "[21] A037_0          \n",
      "21 Levels: A037_0 A037_22.55_0.05 A037_45.1_0.1 ... A037_451_1\n"
     ]
    },
    {
     "data": {
      "text/html": [
       "<strong>pdf:</strong> 2"
      ],
      "text/latex": [
       "\\textbf{pdf:} 2"
      ],
      "text/markdown": [
       "**pdf:** 2"
      ],
      "text/plain": [
       "pdf \n",
       "  2 "
      ]
     },
     "metadata": {},
     "output_type": "display_data"
    }
   ],
   "source": [
    "track_Aclone.fx(cdr3df, plotpath, \"cloneCount\", 0, \"TGTGCCAGCAGTTTCTCGACCTGTTCGGCTAACTATGGCTACACCTTC\")"
   ]
  },
  {
   "cell_type": "markdown",
   "metadata": {},
   "source": [
    "# Run iNEXT"
   ]
  },
  {
   "cell_type": "code",
   "execution_count": 48,
   "metadata": {},
   "outputs": [
    {
     "name": "stderr",
     "output_type": "stream",
     "text": [
      "number of clones in file:CLONES_TRBaddjurkat_112.75_0.25.txt\n",
      "\n"
     ]
    },
    {
     "name": "stdout",
     "output_type": "stream",
     "text": [
      "[1] 159\n"
     ]
    },
    {
     "name": "stderr",
     "output_type": "stream",
     "text": [
      "number of non prodcutive CDR3s:\n",
      "\n"
     ]
    },
    {
     "name": "stdout",
     "output_type": "stream",
     "text": [
      "[1] 0\n"
     ]
    },
    {
     "name": "stderr",
     "output_type": "stream",
     "text": [
      "nonproductive aaCDR3 removed\n",
      "\n",
      "number of clones in file:CLONES_TRBaddjurkat_135.3_0.3.txt\n",
      "\n"
     ]
    },
    {
     "name": "stdout",
     "output_type": "stream",
     "text": [
      "[1] 149\n"
     ]
    },
    {
     "name": "stderr",
     "output_type": "stream",
     "text": [
      "number of non prodcutive CDR3s:\n",
      "\n"
     ]
    },
    {
     "name": "stdout",
     "output_type": "stream",
     "text": [
      "[1] 0\n"
     ]
    },
    {
     "name": "stderr",
     "output_type": "stream",
     "text": [
      "nonproductive aaCDR3 removed\n",
      "\n",
      "number of clones in file:CLONES_TRBaddjurkat_157.85_0.35.txt\n",
      "\n"
     ]
    },
    {
     "name": "stdout",
     "output_type": "stream",
     "text": [
      "[1] 139\n"
     ]
    },
    {
     "name": "stderr",
     "output_type": "stream",
     "text": [
      "number of non prodcutive CDR3s:\n",
      "\n"
     ]
    },
    {
     "name": "stdout",
     "output_type": "stream",
     "text": [
      "[1] 0\n"
     ]
    },
    {
     "name": "stderr",
     "output_type": "stream",
     "text": [
      "nonproductive aaCDR3 removed\n",
      "\n",
      "number of clones in file:CLONES_TRBaddjurkat_180.4_0.4.txt\n",
      "\n"
     ]
    },
    {
     "name": "stdout",
     "output_type": "stream",
     "text": [
      "[1] 126\n"
     ]
    },
    {
     "name": "stderr",
     "output_type": "stream",
     "text": [
      "number of non prodcutive CDR3s:\n",
      "\n"
     ]
    },
    {
     "name": "stdout",
     "output_type": "stream",
     "text": [
      "[1] 0\n"
     ]
    },
    {
     "name": "stderr",
     "output_type": "stream",
     "text": [
      "nonproductive aaCDR3 removed\n",
      "\n",
      "number of clones in file:CLONES_TRBaddjurkat_202.95_0.45.txt\n",
      "\n"
     ]
    },
    {
     "name": "stdout",
     "output_type": "stream",
     "text": [
      "[1] 116\n"
     ]
    },
    {
     "name": "stderr",
     "output_type": "stream",
     "text": [
      "number of non prodcutive CDR3s:\n",
      "\n"
     ]
    },
    {
     "name": "stdout",
     "output_type": "stream",
     "text": [
      "[1] 0\n"
     ]
    },
    {
     "name": "stderr",
     "output_type": "stream",
     "text": [
      "nonproductive aaCDR3 removed\n",
      "\n",
      "number of clones in file:CLONES_TRBaddjurkat_22.55_0.05.txt\n",
      "\n"
     ]
    },
    {
     "name": "stdout",
     "output_type": "stream",
     "text": [
      "[1] 195\n"
     ]
    },
    {
     "name": "stderr",
     "output_type": "stream",
     "text": [
      "number of non prodcutive CDR3s:\n",
      "\n"
     ]
    },
    {
     "name": "stdout",
     "output_type": "stream",
     "text": [
      "[1] 0\n"
     ]
    },
    {
     "name": "stderr",
     "output_type": "stream",
     "text": [
      "nonproductive aaCDR3 removed\n",
      "\n",
      "number of clones in file:CLONES_TRBaddjurkat_225.5_0.5.txt\n",
      "\n"
     ]
    },
    {
     "name": "stdout",
     "output_type": "stream",
     "text": [
      "[1] 106\n"
     ]
    },
    {
     "name": "stderr",
     "output_type": "stream",
     "text": [
      "number of non prodcutive CDR3s:\n",
      "\n"
     ]
    },
    {
     "name": "stdout",
     "output_type": "stream",
     "text": [
      "[1] 0\n"
     ]
    },
    {
     "name": "stderr",
     "output_type": "stream",
     "text": [
      "nonproductive aaCDR3 removed\n",
      "\n",
      "number of clones in file:CLONES_TRBaddjurkat_248.05_0.55.txt\n",
      "\n"
     ]
    },
    {
     "name": "stdout",
     "output_type": "stream",
     "text": [
      "[1] 98\n"
     ]
    },
    {
     "name": "stderr",
     "output_type": "stream",
     "text": [
      "number of non prodcutive CDR3s:\n",
      "\n"
     ]
    },
    {
     "name": "stdout",
     "output_type": "stream",
     "text": [
      "[1] 0\n"
     ]
    },
    {
     "name": "stderr",
     "output_type": "stream",
     "text": [
      "nonproductive aaCDR3 removed\n",
      "\n",
      "number of clones in file:CLONES_TRBaddjurkat_270.6_0.6.txt\n",
      "\n"
     ]
    },
    {
     "name": "stdout",
     "output_type": "stream",
     "text": [
      "[1] 91\n"
     ]
    },
    {
     "name": "stderr",
     "output_type": "stream",
     "text": [
      "number of non prodcutive CDR3s:\n",
      "\n"
     ]
    },
    {
     "name": "stdout",
     "output_type": "stream",
     "text": [
      "[1] 0\n"
     ]
    },
    {
     "name": "stderr",
     "output_type": "stream",
     "text": [
      "nonproductive aaCDR3 removed\n",
      "\n",
      "number of clones in file:CLONES_TRBaddjurkat_293.15_0.65.txt\n",
      "\n"
     ]
    },
    {
     "name": "stdout",
     "output_type": "stream",
     "text": [
      "[1] 78\n"
     ]
    },
    {
     "name": "stderr",
     "output_type": "stream",
     "text": [
      "number of non prodcutive CDR3s:\n",
      "\n"
     ]
    },
    {
     "name": "stdout",
     "output_type": "stream",
     "text": [
      "[1] 0\n"
     ]
    },
    {
     "name": "stderr",
     "output_type": "stream",
     "text": [
      "nonproductive aaCDR3 removed\n",
      "\n",
      "number of clones in file:CLONES_TRBaddjurkat_315.7_0.7.txt\n",
      "\n"
     ]
    },
    {
     "name": "stdout",
     "output_type": "stream",
     "text": [
      "[1] 70\n"
     ]
    },
    {
     "name": "stderr",
     "output_type": "stream",
     "text": [
      "number of non prodcutive CDR3s:\n",
      "\n"
     ]
    },
    {
     "name": "stdout",
     "output_type": "stream",
     "text": [
      "[1] 0\n"
     ]
    },
    {
     "name": "stderr",
     "output_type": "stream",
     "text": [
      "nonproductive aaCDR3 removed\n",
      "\n",
      "number of clones in file:CLONES_TRBaddjurkat_338.25_0.75.txt\n",
      "\n"
     ]
    },
    {
     "name": "stdout",
     "output_type": "stream",
     "text": [
      "[1] 61\n"
     ]
    },
    {
     "name": "stderr",
     "output_type": "stream",
     "text": [
      "number of non prodcutive CDR3s:\n",
      "\n"
     ]
    },
    {
     "name": "stdout",
     "output_type": "stream",
     "text": [
      "[1] 0\n"
     ]
    },
    {
     "name": "stderr",
     "output_type": "stream",
     "text": [
      "nonproductive aaCDR3 removed\n",
      "\n",
      "number of clones in file:CLONES_TRBaddjurkat_360.8_0.8.txt\n",
      "\n"
     ]
    },
    {
     "name": "stdout",
     "output_type": "stream",
     "text": [
      "[1] 47\n"
     ]
    },
    {
     "name": "stderr",
     "output_type": "stream",
     "text": [
      "number of non prodcutive CDR3s:\n",
      "\n"
     ]
    },
    {
     "name": "stdout",
     "output_type": "stream",
     "text": [
      "[1] 0\n"
     ]
    },
    {
     "name": "stderr",
     "output_type": "stream",
     "text": [
      "nonproductive aaCDR3 removed\n",
      "\n",
      "number of clones in file:CLONES_TRBaddjurkat_383.35_0.85.txt\n",
      "\n"
     ]
    },
    {
     "name": "stdout",
     "output_type": "stream",
     "text": [
      "[1] 39\n"
     ]
    },
    {
     "name": "stderr",
     "output_type": "stream",
     "text": [
      "number of non prodcutive CDR3s:\n",
      "\n"
     ]
    },
    {
     "name": "stdout",
     "output_type": "stream",
     "text": [
      "[1] 0\n"
     ]
    },
    {
     "name": "stderr",
     "output_type": "stream",
     "text": [
      "nonproductive aaCDR3 removed\n",
      "\n",
      "number of clones in file:CLONES_TRBaddjurkat_405.9_0.9.txt\n",
      "\n"
     ]
    },
    {
     "name": "stdout",
     "output_type": "stream",
     "text": [
      "[1] 26\n"
     ]
    },
    {
     "name": "stderr",
     "output_type": "stream",
     "text": [
      "number of non prodcutive CDR3s:\n",
      "\n"
     ]
    },
    {
     "name": "stdout",
     "output_type": "stream",
     "text": [
      "[1] 0\n"
     ]
    },
    {
     "name": "stderr",
     "output_type": "stream",
     "text": [
      "nonproductive aaCDR3 removed\n",
      "\n",
      "number of clones in file:CLONES_TRBaddjurkat_428.45_0.95.txt\n",
      "\n"
     ]
    },
    {
     "name": "stdout",
     "output_type": "stream",
     "text": [
      "[1] 14\n"
     ]
    },
    {
     "name": "stderr",
     "output_type": "stream",
     "text": [
      "number of non prodcutive CDR3s:\n",
      "\n"
     ]
    },
    {
     "name": "stdout",
     "output_type": "stream",
     "text": [
      "[1] 0\n"
     ]
    },
    {
     "name": "stderr",
     "output_type": "stream",
     "text": [
      "nonproductive aaCDR3 removed\n",
      "\n",
      "number of clones in file:CLONES_TRBaddjurkat_45.1_0.1.txt\n",
      "\n"
     ]
    },
    {
     "name": "stdout",
     "output_type": "stream",
     "text": [
      "[1] 188\n"
     ]
    },
    {
     "name": "stderr",
     "output_type": "stream",
     "text": [
      "number of non prodcutive CDR3s:\n",
      "\n"
     ]
    },
    {
     "name": "stdout",
     "output_type": "stream",
     "text": [
      "[1] 0\n"
     ]
    },
    {
     "name": "stderr",
     "output_type": "stream",
     "text": [
      "nonproductive aaCDR3 removed\n",
      "\n",
      "number of clones in file:CLONES_TRBaddjurkat_451_1.txt\n",
      "\n"
     ]
    },
    {
     "name": "stdout",
     "output_type": "stream",
     "text": [
      "[1] 1\n"
     ]
    },
    {
     "name": "stderr",
     "output_type": "stream",
     "text": [
      "number of non prodcutive CDR3s:\n",
      "\n"
     ]
    },
    {
     "name": "stdout",
     "output_type": "stream",
     "text": [
      "[1] 0\n"
     ]
    },
    {
     "name": "stderr",
     "output_type": "stream",
     "text": [
      "nonproductive aaCDR3 removed\n",
      "\n",
      "number of clones in file:CLONES_TRBaddjurkat_67.65_0.15.txt\n",
      "\n"
     ]
    },
    {
     "name": "stdout",
     "output_type": "stream",
     "text": [
      "[1] 178\n"
     ]
    },
    {
     "name": "stderr",
     "output_type": "stream",
     "text": [
      "number of non prodcutive CDR3s:\n",
      "\n"
     ]
    },
    {
     "name": "stdout",
     "output_type": "stream",
     "text": [
      "[1] 0\n"
     ]
    },
    {
     "name": "stderr",
     "output_type": "stream",
     "text": [
      "nonproductive aaCDR3 removed\n",
      "\n",
      "number of clones in file:CLONES_TRBaddjurkat_90.2_0.2.txt\n",
      "\n"
     ]
    },
    {
     "name": "stdout",
     "output_type": "stream",
     "text": [
      "[1] 169\n"
     ]
    },
    {
     "name": "stderr",
     "output_type": "stream",
     "text": [
      "number of non prodcutive CDR3s:\n",
      "\n"
     ]
    },
    {
     "name": "stdout",
     "output_type": "stream",
     "text": [
      "[1] 0\n"
     ]
    },
    {
     "name": "stderr",
     "output_type": "stream",
     "text": [
      "nonproductive aaCDR3 removed\n",
      "\n",
      "number of clones in file:CLONES_TRBA037.txt\n",
      "\n"
     ]
    },
    {
     "name": "stdout",
     "output_type": "stream",
     "text": [
      "[1] 256\n"
     ]
    },
    {
     "name": "stderr",
     "output_type": "stream",
     "text": [
      "number of non prodcutive CDR3s:\n",
      "\n"
     ]
    },
    {
     "name": "stdout",
     "output_type": "stream",
     "text": [
      "[1] 55\n"
     ]
    },
    {
     "name": "stderr",
     "output_type": "stream",
     "text": [
      "nonproductive aaCDR3 removed\n",
      "\n"
     ]
    }
   ],
   "source": [
    "file_list <- list.files(paste0(datapath, \"testdata/\"), pattern = \"addjurkat\", recursive = T)\n",
    "\n",
    "file_list <- c(file_list, \"CLONES_TRBA037.txt\")\n",
    "\n",
    "file_list <- file_list[!grepl(\"csv\", file_list)]\n",
    "\n",
    "test_immunelist <- immunelistfx(file_list, paste0(datapath, \"testdata/\"), \"TRB\")"
   ]
  },
  {
   "cell_type": "code",
   "execution_count": 49,
   "metadata": {},
   "outputs": [],
   "source": [
    "divstats_test <- read.csv(paste0(datapath, \"testdata/divstats_TRBaddjurkat.csv\"), \n",
    "                          header = T, stringsAsFactors = F, row.names = 1)"
   ]
  },
  {
   "cell_type": "code",
   "execution_count": 50,
   "metadata": {},
   "outputs": [
    {
     "data": {
      "text/html": [
       "<table class=\"dataframe\">\n",
       "<caption>A data.frame: 21 × 19</caption>\n",
       "<thead>\n",
       "\t<tr><th></th><th scope=col>TRB</th><th scope=col>Reads</th><th scope=col>CPKR</th><th scope=col>Average_reads</th><th scope=col>VMR</th><th scope=col>Max_reads</th><th scope=col>Singletons</th><th scope=col>Doubletons</th><th scope=col>qD</th><th scope=col>Sample_Coverage</th><th scope=col>observed_Richness</th><th scope=col>estimated_Richness</th><th scope=col>SE_Richeness</th><th scope=col>observed_Shannon</th><th scope=col>estimated_Shannon</th><th scope=col>SE_Shannon</th><th scope=col>observed_Simpson</th><th scope=col>estimated_Simpson</th><th scope=col>SE_Simpson</th></tr>\n",
       "\t<tr><th></th><th scope=col>&lt;int&gt;</th><th scope=col>&lt;int&gt;</th><th scope=col>&lt;dbl&gt;</th><th scope=col>&lt;dbl&gt;</th><th scope=col>&lt;dbl&gt;</th><th scope=col>&lt;int&gt;</th><th scope=col>&lt;int&gt;</th><th scope=col>&lt;int&gt;</th><th scope=col>&lt;dbl&gt;</th><th scope=col>&lt;dbl&gt;</th><th scope=col>&lt;int&gt;</th><th scope=col>&lt;dbl&gt;</th><th scope=col>&lt;dbl&gt;</th><th scope=col>&lt;dbl&gt;</th><th scope=col>&lt;dbl&gt;</th><th scope=col>&lt;dbl&gt;</th><th scope=col>&lt;dbl&gt;</th><th scope=col>&lt;dbl&gt;</th><th scope=col>&lt;dbl&gt;</th></tr>\n",
       "</thead>\n",
       "<tbody>\n",
       "\t<tr><th scope=row>addjurkat_112.75_0.25</th><td>159</td><td>452</td><td>351.769912</td><td>  2.842767</td><td>3.0917208</td><td>112</td><td>58</td><td>44</td><td>188.784</td><td>0.972</td><td>159</td><td>197.143</td><td>13.097</td><td> 71.158</td><td> 91.250</td><td>7.381</td><td> 15.145</td><td> 15.635</td><td> 2.446</td></tr>\n",
       "\t<tr><th scope=row>addjurkat_135.3_0.3</th><td>149</td><td>453</td><td>328.918322</td><td>  3.040268</td><td>3.6000507</td><td>135</td><td>54</td><td>42</td><td>176.332</td><td>0.975</td><td>149</td><td>183.638</td><td>12.332</td><td> 55.794</td><td> 70.304</td><td>5.980</td><td> 10.740</td><td> 10.977</td><td> 1.562</td></tr>\n",
       "\t<tr><th scope=row>addjurkat_157.85_0.35</th><td>139</td><td>451</td><td>308.203991</td><td>  3.244604</td><td>4.0642777</td><td>157</td><td>51</td><td>40</td><td>164.687</td><td>0.977</td><td>139</td><td>171.440</td><td>11.887</td><td> 43.327</td><td> 53.823</td><td>4.720</td><td>  7.989</td><td>  8.115</td><td> 1.040</td></tr>\n",
       "\t<tr><th scope=row>addjurkat_180.4_0.4</th><td>126</td><td>451</td><td>279.379157</td><td>  3.579365</td><td>4.4382934</td><td>180</td><td>45</td><td>35</td><td>148.777</td><td>0.979</td><td>126</td><td>154.864</td><td>11.257</td><td> 32.830</td><td> 39.916</td><td>3.531</td><td>  6.134</td><td>  6.205</td><td> 0.675</td></tr>\n",
       "\t<tr><th scope=row>addjurkat_202.95_0.45</th><td>116</td><td>451</td><td>257.206208</td><td>  3.887931</td><td>4.7816386</td><td>202</td><td>41</td><td>32</td><td>136.710</td><td>0.981</td><td>116</td><td>142.207</td><td>10.709</td><td> 25.357</td><td> 30.335</td><td>2.896</td><td>  4.901</td><td>  4.944</td><td> 0.481</td></tr>\n",
       "\t<tr><th scope=row>addjurkat_22.55_0.05</th><td>195</td><td>451</td><td>432.372506</td><td>  2.312821</td><td>0.8177325</td><td> 22</td><td>72</td><td>51</td><td>233.424</td><td>0.961</td><td>195</td><td>245.711</td><td>15.621</td><td>158.226</td><td>215.800</td><td>9.032</td><td>117.099</td><td>157.815</td><td>14.306</td></tr>\n",
       "\t<tr><th scope=row>addjurkat_225.5_0.5</th><td>106</td><td>451</td><td>235.033259</td><td>  4.254717</td><td>5.0942701</td><td>225</td><td>38</td><td>28</td><td>125.840</td><td>0.981</td><td>106</td><td>131.729</td><td>10.911</td><td> 19.284</td><td> 22.763</td><td>2.549</td><td>  3.969</td><td>  3.995</td><td> 0.366</td></tr>\n",
       "\t<tr><th scope=row>addjurkat_248.05_0.55</th><td> 98</td><td>452</td><td>216.814159</td><td>  4.612245</td><td>5.3912300</td><td>248</td><td>37</td><td>27</td><td>117.423</td><td>0.981</td><td> 98</td><td>123.296</td><td>10.871</td><td> 14.750</td><td> 17.228</td><td>2.000</td><td>  3.292</td><td>  3.309</td><td> 0.282</td></tr>\n",
       "\t<tr><th scope=row>addjurkat_270.6_0.6</th><td> 91</td><td>453</td><td>200.883002</td><td>  4.978022</td><td>5.6473161</td><td>270</td><td>36</td><td>26</td><td>110.007</td><td>0.981</td><td> 91</td><td>115.868</td><td>10.834</td><td> 11.444</td><td> 13.243</td><td>1.452</td><td>  2.796</td><td>  2.808</td><td> 0.227</td></tr>\n",
       "\t<tr><th scope=row>addjurkat_293.15_0.65</th><td> 78</td><td>451</td><td>172.949002</td><td>  5.782051</td><td>5.7009256</td><td>293</td><td>31</td><td>21</td><td> 94.946</td><td>0.982</td><td> 78</td><td>100.830</td><td>10.719</td><td>  8.335</td><td>  9.464</td><td>1.023</td><td>  2.358</td><td>  2.365</td><td> 0.154</td></tr>\n",
       "\t<tr><th scope=row>addjurkat_315.7_0.7</th><td> 70</td><td>452</td><td>154.867257</td><td>  6.457143</td><td>5.7965625</td><td>315</td><td>30</td><td>18</td><td> 87.439</td><td>0.980</td><td> 70</td><td> 94.945</td><td>11.936</td><td>  6.382</td><td>  7.189</td><td>0.775</td><td>  2.052</td><td>  2.056</td><td> 0.129</td></tr>\n",
       "\t<tr><th scope=row>addjurkat_338.25_0.75</th><td> 61</td><td>451</td><td>135.254989</td><td>  7.393443</td><td>5.8224237</td><td>338</td><td>28</td><td>16</td><td> 77.658</td><td>0.980</td><td> 61</td><td> 85.446</td><td>12.131</td><td>  4.734</td><td>  5.271</td><td>0.607</td><td>  1.776</td><td>  1.779</td><td> 0.091</td></tr>\n",
       "\t<tr><th scope=row>addjurkat_360.8_0.8</th><td> 47</td><td>451</td><td>104.212860</td><td>  9.595745</td><td>5.4433970</td><td>360</td><td>19</td><td>13</td><td> 57.331</td><td>0.989</td><td> 47</td><td> 60.854</td><td> 8.308</td><td>  3.488</td><td>  3.765</td><td>0.377</td><td>  1.567</td><td>  1.569</td><td> 0.076</td></tr>\n",
       "\t<tr><th scope=row>addjurkat_383.35_0.85</th><td> 39</td><td>453</td><td> 86.092715</td><td> 11.615385</td><td>5.2553170</td><td>383</td><td>17</td><td>13</td><td> 47.690</td><td>0.992</td><td> 39</td><td> 50.091</td><td> 7.035</td><td>  2.645</td><td>  2.817</td><td>0.227</td><td>  1.397</td><td>  1.399</td><td> 0.054</td></tr>\n",
       "\t<tr><th scope=row>addjurkat_405.9_0.9</th><td> 26</td><td>453</td><td> 57.395143</td><td> 17.423077</td><td>4.5376057</td><td>405</td><td>12</td><td> 6</td><td> 33.574</td><td>0.990</td><td> 26</td><td> 37.974</td><td> 9.146</td><td>  1.940</td><td>  2.032</td><td>0.164</td><td>  1.250</td><td>  1.251</td><td> 0.040</td></tr>\n",
       "\t<tr><th scope=row>addjurkat_428.45_0.95</th><td> 14</td><td>452</td><td> 30.973451</td><td> 32.285714</td><td>3.5278042</td><td>428</td><td> 6</td><td> 3</td><td> 17.787</td><td>0.995</td><td> 14</td><td> 19.987</td><td> 6.467</td><td>  1.402</td><td>  1.436</td><td>0.083</td><td>  1.115</td><td>  1.115</td><td> 0.023</td></tr>\n",
       "\t<tr><th scope=row>addjurkat_45.1_0.1</th><td>188</td><td>454</td><td>414.096916</td><td>  2.414894</td><td>1.3888864</td><td> 45</td><td>69</td><td>51</td><td>223.962</td><td>0.965</td><td>188</td><td>234.574</td><td>14.658</td><td>134.959</td><td>181.201</td><td>8.408</td><td> 64.411</td><td> 74.895</td><td>11.342</td></tr>\n",
       "\t<tr><th scope=row>addjurkat_451_1</th><td>  1</td><td>451</td><td>  2.217295</td><td>451.000000</td><td>       NA</td><td>451</td><td> 0</td><td> 0</td><td>  1.000</td><td>1.000</td><td>  1</td><td>  1.000</td><td> 0.000</td><td>  1.000</td><td>  1.000</td><td>0.000</td><td>  1.000</td><td>  1.000</td><td> 0.000</td></tr>\n",
       "\t<tr><th scope=row>addjurkat_67.65_0.15</th><td>178</td><td>452</td><td>393.805310</td><td>  2.539326</td><td>1.9692990</td><td> 67</td><td>65</td><td>48</td><td>211.895</td><td>0.967</td><td>178</td><td>221.913</td><td>14.239</td><td>111.031</td><td>146.882</td><td>8.417</td><td> 36.653</td><td> 39.799</td><td> 6.981</td></tr>\n",
       "\t<tr><th scope=row>addjurkat_90.2_0.2</th><td>169</td><td>451</td><td>374.722838</td><td>  2.668639</td><td>2.5698558</td><td> 90</td><td>62</td><td>47</td><td>200.852</td><td>0.970</td><td>169</td><td>209.803</td><td>13.551</td><td> 89.185</td><td>116.297</td><td>7.699</td><td> 22.339</td><td> 23.452</td><td> 4.111</td></tr>\n",
       "\t<tr><th scope=row>A037</th><td>201</td><td>451</td><td>445.676275</td><td>  2.243781</td><td>0.5819914</td><td>  7</td><td>74</td><td>53</td><td>240.252</td><td>0.961</td><td>201</td><td>252.546</td><td>15.662</td><td>172.141</td><td>236.839</td><td>9.573</td><td>150.333</td><td>225.000</td><td>11.298</td></tr>\n",
       "</tbody>\n",
       "</table>\n"
      ],
      "text/latex": [
       "A data.frame: 21 × 19\n",
       "\\begin{tabular}{r|lllllllllllllllllll}\n",
       "  & TRB & Reads & CPKR & Average\\_reads & VMR & Max\\_reads & Singletons & Doubletons & qD & Sample\\_Coverage & observed\\_Richness & estimated\\_Richness & SE\\_Richeness & observed\\_Shannon & estimated\\_Shannon & SE\\_Shannon & observed\\_Simpson & estimated\\_Simpson & SE\\_Simpson\\\\\n",
       "  & <int> & <int> & <dbl> & <dbl> & <dbl> & <int> & <int> & <int> & <dbl> & <dbl> & <int> & <dbl> & <dbl> & <dbl> & <dbl> & <dbl> & <dbl> & <dbl> & <dbl>\\\\\n",
       "\\hline\n",
       "\taddjurkat\\_112.75\\_0.25 & 159 & 452 & 351.769912 &   2.842767 & 3.0917208 & 112 & 58 & 44 & 188.784 & 0.972 & 159 & 197.143 & 13.097 &  71.158 &  91.250 & 7.381 &  15.145 &  15.635 &  2.446\\\\\n",
       "\taddjurkat\\_135.3\\_0.3 & 149 & 453 & 328.918322 &   3.040268 & 3.6000507 & 135 & 54 & 42 & 176.332 & 0.975 & 149 & 183.638 & 12.332 &  55.794 &  70.304 & 5.980 &  10.740 &  10.977 &  1.562\\\\\n",
       "\taddjurkat\\_157.85\\_0.35 & 139 & 451 & 308.203991 &   3.244604 & 4.0642777 & 157 & 51 & 40 & 164.687 & 0.977 & 139 & 171.440 & 11.887 &  43.327 &  53.823 & 4.720 &   7.989 &   8.115 &  1.040\\\\\n",
       "\taddjurkat\\_180.4\\_0.4 & 126 & 451 & 279.379157 &   3.579365 & 4.4382934 & 180 & 45 & 35 & 148.777 & 0.979 & 126 & 154.864 & 11.257 &  32.830 &  39.916 & 3.531 &   6.134 &   6.205 &  0.675\\\\\n",
       "\taddjurkat\\_202.95\\_0.45 & 116 & 451 & 257.206208 &   3.887931 & 4.7816386 & 202 & 41 & 32 & 136.710 & 0.981 & 116 & 142.207 & 10.709 &  25.357 &  30.335 & 2.896 &   4.901 &   4.944 &  0.481\\\\\n",
       "\taddjurkat\\_22.55\\_0.05 & 195 & 451 & 432.372506 &   2.312821 & 0.8177325 &  22 & 72 & 51 & 233.424 & 0.961 & 195 & 245.711 & 15.621 & 158.226 & 215.800 & 9.032 & 117.099 & 157.815 & 14.306\\\\\n",
       "\taddjurkat\\_225.5\\_0.5 & 106 & 451 & 235.033259 &   4.254717 & 5.0942701 & 225 & 38 & 28 & 125.840 & 0.981 & 106 & 131.729 & 10.911 &  19.284 &  22.763 & 2.549 &   3.969 &   3.995 &  0.366\\\\\n",
       "\taddjurkat\\_248.05\\_0.55 &  98 & 452 & 216.814159 &   4.612245 & 5.3912300 & 248 & 37 & 27 & 117.423 & 0.981 &  98 & 123.296 & 10.871 &  14.750 &  17.228 & 2.000 &   3.292 &   3.309 &  0.282\\\\\n",
       "\taddjurkat\\_270.6\\_0.6 &  91 & 453 & 200.883002 &   4.978022 & 5.6473161 & 270 & 36 & 26 & 110.007 & 0.981 &  91 & 115.868 & 10.834 &  11.444 &  13.243 & 1.452 &   2.796 &   2.808 &  0.227\\\\\n",
       "\taddjurkat\\_293.15\\_0.65 &  78 & 451 & 172.949002 &   5.782051 & 5.7009256 & 293 & 31 & 21 &  94.946 & 0.982 &  78 & 100.830 & 10.719 &   8.335 &   9.464 & 1.023 &   2.358 &   2.365 &  0.154\\\\\n",
       "\taddjurkat\\_315.7\\_0.7 &  70 & 452 & 154.867257 &   6.457143 & 5.7965625 & 315 & 30 & 18 &  87.439 & 0.980 &  70 &  94.945 & 11.936 &   6.382 &   7.189 & 0.775 &   2.052 &   2.056 &  0.129\\\\\n",
       "\taddjurkat\\_338.25\\_0.75 &  61 & 451 & 135.254989 &   7.393443 & 5.8224237 & 338 & 28 & 16 &  77.658 & 0.980 &  61 &  85.446 & 12.131 &   4.734 &   5.271 & 0.607 &   1.776 &   1.779 &  0.091\\\\\n",
       "\taddjurkat\\_360.8\\_0.8 &  47 & 451 & 104.212860 &   9.595745 & 5.4433970 & 360 & 19 & 13 &  57.331 & 0.989 &  47 &  60.854 &  8.308 &   3.488 &   3.765 & 0.377 &   1.567 &   1.569 &  0.076\\\\\n",
       "\taddjurkat\\_383.35\\_0.85 &  39 & 453 &  86.092715 &  11.615385 & 5.2553170 & 383 & 17 & 13 &  47.690 & 0.992 &  39 &  50.091 &  7.035 &   2.645 &   2.817 & 0.227 &   1.397 &   1.399 &  0.054\\\\\n",
       "\taddjurkat\\_405.9\\_0.9 &  26 & 453 &  57.395143 &  17.423077 & 4.5376057 & 405 & 12 &  6 &  33.574 & 0.990 &  26 &  37.974 &  9.146 &   1.940 &   2.032 & 0.164 &   1.250 &   1.251 &  0.040\\\\\n",
       "\taddjurkat\\_428.45\\_0.95 &  14 & 452 &  30.973451 &  32.285714 & 3.5278042 & 428 &  6 &  3 &  17.787 & 0.995 &  14 &  19.987 &  6.467 &   1.402 &   1.436 & 0.083 &   1.115 &   1.115 &  0.023\\\\\n",
       "\taddjurkat\\_45.1\\_0.1 & 188 & 454 & 414.096916 &   2.414894 & 1.3888864 &  45 & 69 & 51 & 223.962 & 0.965 & 188 & 234.574 & 14.658 & 134.959 & 181.201 & 8.408 &  64.411 &  74.895 & 11.342\\\\\n",
       "\taddjurkat\\_451\\_1 &   1 & 451 &   2.217295 & 451.000000 &        NA & 451 &  0 &  0 &   1.000 & 1.000 &   1 &   1.000 &  0.000 &   1.000 &   1.000 & 0.000 &   1.000 &   1.000 &  0.000\\\\\n",
       "\taddjurkat\\_67.65\\_0.15 & 178 & 452 & 393.805310 &   2.539326 & 1.9692990 &  67 & 65 & 48 & 211.895 & 0.967 & 178 & 221.913 & 14.239 & 111.031 & 146.882 & 8.417 &  36.653 &  39.799 &  6.981\\\\\n",
       "\taddjurkat\\_90.2\\_0.2 & 169 & 451 & 374.722838 &   2.668639 & 2.5698558 &  90 & 62 & 47 & 200.852 & 0.970 & 169 & 209.803 & 13.551 &  89.185 & 116.297 & 7.699 &  22.339 &  23.452 &  4.111\\\\\n",
       "\tA037 & 201 & 451 & 445.676275 &   2.243781 & 0.5819914 &   7 & 74 & 53 & 240.252 & 0.961 & 201 & 252.546 & 15.662 & 172.141 & 236.839 & 9.573 & 150.333 & 225.000 & 11.298\\\\\n",
       "\\end{tabular}\n"
      ],
      "text/markdown": [
       "\n",
       "A data.frame: 21 × 19\n",
       "\n",
       "| <!--/--> | TRB &lt;int&gt; | Reads &lt;int&gt; | CPKR &lt;dbl&gt; | Average_reads &lt;dbl&gt; | VMR &lt;dbl&gt; | Max_reads &lt;int&gt; | Singletons &lt;int&gt; | Doubletons &lt;int&gt; | qD &lt;dbl&gt; | Sample_Coverage &lt;dbl&gt; | observed_Richness &lt;int&gt; | estimated_Richness &lt;dbl&gt; | SE_Richeness &lt;dbl&gt; | observed_Shannon &lt;dbl&gt; | estimated_Shannon &lt;dbl&gt; | SE_Shannon &lt;dbl&gt; | observed_Simpson &lt;dbl&gt; | estimated_Simpson &lt;dbl&gt; | SE_Simpson &lt;dbl&gt; |\n",
       "|---|---|---|---|---|---|---|---|---|---|---|---|---|---|---|---|---|---|---|---|\n",
       "| addjurkat_112.75_0.25 | 159 | 452 | 351.769912 |   2.842767 | 3.0917208 | 112 | 58 | 44 | 188.784 | 0.972 | 159 | 197.143 | 13.097 |  71.158 |  91.250 | 7.381 |  15.145 |  15.635 |  2.446 |\n",
       "| addjurkat_135.3_0.3 | 149 | 453 | 328.918322 |   3.040268 | 3.6000507 | 135 | 54 | 42 | 176.332 | 0.975 | 149 | 183.638 | 12.332 |  55.794 |  70.304 | 5.980 |  10.740 |  10.977 |  1.562 |\n",
       "| addjurkat_157.85_0.35 | 139 | 451 | 308.203991 |   3.244604 | 4.0642777 | 157 | 51 | 40 | 164.687 | 0.977 | 139 | 171.440 | 11.887 |  43.327 |  53.823 | 4.720 |   7.989 |   8.115 |  1.040 |\n",
       "| addjurkat_180.4_0.4 | 126 | 451 | 279.379157 |   3.579365 | 4.4382934 | 180 | 45 | 35 | 148.777 | 0.979 | 126 | 154.864 | 11.257 |  32.830 |  39.916 | 3.531 |   6.134 |   6.205 |  0.675 |\n",
       "| addjurkat_202.95_0.45 | 116 | 451 | 257.206208 |   3.887931 | 4.7816386 | 202 | 41 | 32 | 136.710 | 0.981 | 116 | 142.207 | 10.709 |  25.357 |  30.335 | 2.896 |   4.901 |   4.944 |  0.481 |\n",
       "| addjurkat_22.55_0.05 | 195 | 451 | 432.372506 |   2.312821 | 0.8177325 |  22 | 72 | 51 | 233.424 | 0.961 | 195 | 245.711 | 15.621 | 158.226 | 215.800 | 9.032 | 117.099 | 157.815 | 14.306 |\n",
       "| addjurkat_225.5_0.5 | 106 | 451 | 235.033259 |   4.254717 | 5.0942701 | 225 | 38 | 28 | 125.840 | 0.981 | 106 | 131.729 | 10.911 |  19.284 |  22.763 | 2.549 |   3.969 |   3.995 |  0.366 |\n",
       "| addjurkat_248.05_0.55 |  98 | 452 | 216.814159 |   4.612245 | 5.3912300 | 248 | 37 | 27 | 117.423 | 0.981 |  98 | 123.296 | 10.871 |  14.750 |  17.228 | 2.000 |   3.292 |   3.309 |  0.282 |\n",
       "| addjurkat_270.6_0.6 |  91 | 453 | 200.883002 |   4.978022 | 5.6473161 | 270 | 36 | 26 | 110.007 | 0.981 |  91 | 115.868 | 10.834 |  11.444 |  13.243 | 1.452 |   2.796 |   2.808 |  0.227 |\n",
       "| addjurkat_293.15_0.65 |  78 | 451 | 172.949002 |   5.782051 | 5.7009256 | 293 | 31 | 21 |  94.946 | 0.982 |  78 | 100.830 | 10.719 |   8.335 |   9.464 | 1.023 |   2.358 |   2.365 |  0.154 |\n",
       "| addjurkat_315.7_0.7 |  70 | 452 | 154.867257 |   6.457143 | 5.7965625 | 315 | 30 | 18 |  87.439 | 0.980 |  70 |  94.945 | 11.936 |   6.382 |   7.189 | 0.775 |   2.052 |   2.056 |  0.129 |\n",
       "| addjurkat_338.25_0.75 |  61 | 451 | 135.254989 |   7.393443 | 5.8224237 | 338 | 28 | 16 |  77.658 | 0.980 |  61 |  85.446 | 12.131 |   4.734 |   5.271 | 0.607 |   1.776 |   1.779 |  0.091 |\n",
       "| addjurkat_360.8_0.8 |  47 | 451 | 104.212860 |   9.595745 | 5.4433970 | 360 | 19 | 13 |  57.331 | 0.989 |  47 |  60.854 |  8.308 |   3.488 |   3.765 | 0.377 |   1.567 |   1.569 |  0.076 |\n",
       "| addjurkat_383.35_0.85 |  39 | 453 |  86.092715 |  11.615385 | 5.2553170 | 383 | 17 | 13 |  47.690 | 0.992 |  39 |  50.091 |  7.035 |   2.645 |   2.817 | 0.227 |   1.397 |   1.399 |  0.054 |\n",
       "| addjurkat_405.9_0.9 |  26 | 453 |  57.395143 |  17.423077 | 4.5376057 | 405 | 12 |  6 |  33.574 | 0.990 |  26 |  37.974 |  9.146 |   1.940 |   2.032 | 0.164 |   1.250 |   1.251 |  0.040 |\n",
       "| addjurkat_428.45_0.95 |  14 | 452 |  30.973451 |  32.285714 | 3.5278042 | 428 |  6 |  3 |  17.787 | 0.995 |  14 |  19.987 |  6.467 |   1.402 |   1.436 | 0.083 |   1.115 |   1.115 |  0.023 |\n",
       "| addjurkat_45.1_0.1 | 188 | 454 | 414.096916 |   2.414894 | 1.3888864 |  45 | 69 | 51 | 223.962 | 0.965 | 188 | 234.574 | 14.658 | 134.959 | 181.201 | 8.408 |  64.411 |  74.895 | 11.342 |\n",
       "| addjurkat_451_1 |   1 | 451 |   2.217295 | 451.000000 |        NA | 451 |  0 |  0 |   1.000 | 1.000 |   1 |   1.000 |  0.000 |   1.000 |   1.000 | 0.000 |   1.000 |   1.000 |  0.000 |\n",
       "| addjurkat_67.65_0.15 | 178 | 452 | 393.805310 |   2.539326 | 1.9692990 |  67 | 65 | 48 | 211.895 | 0.967 | 178 | 221.913 | 14.239 | 111.031 | 146.882 | 8.417 |  36.653 |  39.799 |  6.981 |\n",
       "| addjurkat_90.2_0.2 | 169 | 451 | 374.722838 |   2.668639 | 2.5698558 |  90 | 62 | 47 | 200.852 | 0.970 | 169 | 209.803 | 13.551 |  89.185 | 116.297 | 7.699 |  22.339 |  23.452 |  4.111 |\n",
       "| A037 | 201 | 451 | 445.676275 |   2.243781 | 0.5819914 |   7 | 74 | 53 | 240.252 | 0.961 | 201 | 252.546 | 15.662 | 172.141 | 236.839 | 9.573 | 150.333 | 225.000 | 11.298 |\n",
       "\n"
      ],
      "text/plain": [
       "                      TRB Reads CPKR       Average_reads VMR       Max_reads\n",
       "addjurkat_112.75_0.25 159 452   351.769912   2.842767    3.0917208 112      \n",
       "addjurkat_135.3_0.3   149 453   328.918322   3.040268    3.6000507 135      \n",
       "addjurkat_157.85_0.35 139 451   308.203991   3.244604    4.0642777 157      \n",
       "addjurkat_180.4_0.4   126 451   279.379157   3.579365    4.4382934 180      \n",
       "addjurkat_202.95_0.45 116 451   257.206208   3.887931    4.7816386 202      \n",
       "addjurkat_22.55_0.05  195 451   432.372506   2.312821    0.8177325  22      \n",
       "addjurkat_225.5_0.5   106 451   235.033259   4.254717    5.0942701 225      \n",
       "addjurkat_248.05_0.55  98 452   216.814159   4.612245    5.3912300 248      \n",
       "addjurkat_270.6_0.6    91 453   200.883002   4.978022    5.6473161 270      \n",
       "addjurkat_293.15_0.65  78 451   172.949002   5.782051    5.7009256 293      \n",
       "addjurkat_315.7_0.7    70 452   154.867257   6.457143    5.7965625 315      \n",
       "addjurkat_338.25_0.75  61 451   135.254989   7.393443    5.8224237 338      \n",
       "addjurkat_360.8_0.8    47 451   104.212860   9.595745    5.4433970 360      \n",
       "addjurkat_383.35_0.85  39 453    86.092715  11.615385    5.2553170 383      \n",
       "addjurkat_405.9_0.9    26 453    57.395143  17.423077    4.5376057 405      \n",
       "addjurkat_428.45_0.95  14 452    30.973451  32.285714    3.5278042 428      \n",
       "addjurkat_45.1_0.1    188 454   414.096916   2.414894    1.3888864  45      \n",
       "addjurkat_451_1         1 451     2.217295 451.000000           NA 451      \n",
       "addjurkat_67.65_0.15  178 452   393.805310   2.539326    1.9692990  67      \n",
       "addjurkat_90.2_0.2    169 451   374.722838   2.668639    2.5698558  90      \n",
       "A037                  201 451   445.676275   2.243781    0.5819914   7      \n",
       "                      Singletons Doubletons qD      Sample_Coverage\n",
       "addjurkat_112.75_0.25 58         44         188.784 0.972          \n",
       "addjurkat_135.3_0.3   54         42         176.332 0.975          \n",
       "addjurkat_157.85_0.35 51         40         164.687 0.977          \n",
       "addjurkat_180.4_0.4   45         35         148.777 0.979          \n",
       "addjurkat_202.95_0.45 41         32         136.710 0.981          \n",
       "addjurkat_22.55_0.05  72         51         233.424 0.961          \n",
       "addjurkat_225.5_0.5   38         28         125.840 0.981          \n",
       "addjurkat_248.05_0.55 37         27         117.423 0.981          \n",
       "addjurkat_270.6_0.6   36         26         110.007 0.981          \n",
       "addjurkat_293.15_0.65 31         21          94.946 0.982          \n",
       "addjurkat_315.7_0.7   30         18          87.439 0.980          \n",
       "addjurkat_338.25_0.75 28         16          77.658 0.980          \n",
       "addjurkat_360.8_0.8   19         13          57.331 0.989          \n",
       "addjurkat_383.35_0.85 17         13          47.690 0.992          \n",
       "addjurkat_405.9_0.9   12          6          33.574 0.990          \n",
       "addjurkat_428.45_0.95  6          3          17.787 0.995          \n",
       "addjurkat_45.1_0.1    69         51         223.962 0.965          \n",
       "addjurkat_451_1        0          0           1.000 1.000          \n",
       "addjurkat_67.65_0.15  65         48         211.895 0.967          \n",
       "addjurkat_90.2_0.2    62         47         200.852 0.970          \n",
       "A037                  74         53         240.252 0.961          \n",
       "                      observed_Richness estimated_Richness SE_Richeness\n",
       "addjurkat_112.75_0.25 159               197.143            13.097      \n",
       "addjurkat_135.3_0.3   149               183.638            12.332      \n",
       "addjurkat_157.85_0.35 139               171.440            11.887      \n",
       "addjurkat_180.4_0.4   126               154.864            11.257      \n",
       "addjurkat_202.95_0.45 116               142.207            10.709      \n",
       "addjurkat_22.55_0.05  195               245.711            15.621      \n",
       "addjurkat_225.5_0.5   106               131.729            10.911      \n",
       "addjurkat_248.05_0.55  98               123.296            10.871      \n",
       "addjurkat_270.6_0.6    91               115.868            10.834      \n",
       "addjurkat_293.15_0.65  78               100.830            10.719      \n",
       "addjurkat_315.7_0.7    70                94.945            11.936      \n",
       "addjurkat_338.25_0.75  61                85.446            12.131      \n",
       "addjurkat_360.8_0.8    47                60.854             8.308      \n",
       "addjurkat_383.35_0.85  39                50.091             7.035      \n",
       "addjurkat_405.9_0.9    26                37.974             9.146      \n",
       "addjurkat_428.45_0.95  14                19.987             6.467      \n",
       "addjurkat_45.1_0.1    188               234.574            14.658      \n",
       "addjurkat_451_1         1                 1.000             0.000      \n",
       "addjurkat_67.65_0.15  178               221.913            14.239      \n",
       "addjurkat_90.2_0.2    169               209.803            13.551      \n",
       "A037                  201               252.546            15.662      \n",
       "                      observed_Shannon estimated_Shannon SE_Shannon\n",
       "addjurkat_112.75_0.25  71.158           91.250           7.381     \n",
       "addjurkat_135.3_0.3    55.794           70.304           5.980     \n",
       "addjurkat_157.85_0.35  43.327           53.823           4.720     \n",
       "addjurkat_180.4_0.4    32.830           39.916           3.531     \n",
       "addjurkat_202.95_0.45  25.357           30.335           2.896     \n",
       "addjurkat_22.55_0.05  158.226          215.800           9.032     \n",
       "addjurkat_225.5_0.5    19.284           22.763           2.549     \n",
       "addjurkat_248.05_0.55  14.750           17.228           2.000     \n",
       "addjurkat_270.6_0.6    11.444           13.243           1.452     \n",
       "addjurkat_293.15_0.65   8.335            9.464           1.023     \n",
       "addjurkat_315.7_0.7     6.382            7.189           0.775     \n",
       "addjurkat_338.25_0.75   4.734            5.271           0.607     \n",
       "addjurkat_360.8_0.8     3.488            3.765           0.377     \n",
       "addjurkat_383.35_0.85   2.645            2.817           0.227     \n",
       "addjurkat_405.9_0.9     1.940            2.032           0.164     \n",
       "addjurkat_428.45_0.95   1.402            1.436           0.083     \n",
       "addjurkat_45.1_0.1    134.959          181.201           8.408     \n",
       "addjurkat_451_1         1.000            1.000           0.000     \n",
       "addjurkat_67.65_0.15  111.031          146.882           8.417     \n",
       "addjurkat_90.2_0.2     89.185          116.297           7.699     \n",
       "A037                  172.141          236.839           9.573     \n",
       "                      observed_Simpson estimated_Simpson SE_Simpson\n",
       "addjurkat_112.75_0.25  15.145           15.635            2.446    \n",
       "addjurkat_135.3_0.3    10.740           10.977            1.562    \n",
       "addjurkat_157.85_0.35   7.989            8.115            1.040    \n",
       "addjurkat_180.4_0.4     6.134            6.205            0.675    \n",
       "addjurkat_202.95_0.45   4.901            4.944            0.481    \n",
       "addjurkat_22.55_0.05  117.099          157.815           14.306    \n",
       "addjurkat_225.5_0.5     3.969            3.995            0.366    \n",
       "addjurkat_248.05_0.55   3.292            3.309            0.282    \n",
       "addjurkat_270.6_0.6     2.796            2.808            0.227    \n",
       "addjurkat_293.15_0.65   2.358            2.365            0.154    \n",
       "addjurkat_315.7_0.7     2.052            2.056            0.129    \n",
       "addjurkat_338.25_0.75   1.776            1.779            0.091    \n",
       "addjurkat_360.8_0.8     1.567            1.569            0.076    \n",
       "addjurkat_383.35_0.85   1.397            1.399            0.054    \n",
       "addjurkat_405.9_0.9     1.250            1.251            0.040    \n",
       "addjurkat_428.45_0.95   1.115            1.115            0.023    \n",
       "addjurkat_45.1_0.1     64.411           74.895           11.342    \n",
       "addjurkat_451_1         1.000            1.000            0.000    \n",
       "addjurkat_67.65_0.15   36.653           39.799            6.981    \n",
       "addjurkat_90.2_0.2     22.339           23.452            4.111    \n",
       "A037                  150.333          225.000           11.298    "
      ]
     },
     "metadata": {},
     "output_type": "display_data"
    }
   ],
   "source": [
    "divstats_test"
   ]
  },
  {
   "cell_type": "markdown",
   "metadata": {},
   "source": [
    "Number of reads are the same just for test set endpoint to 550"
   ]
  },
  {
   "cell_type": "code",
   "execution_count": 51,
   "metadata": {},
   "outputs": [],
   "source": [
    "#just order them\n",
    "test_immunelist <- test_immunelist[c('A037','addjurkat_22.55_0.05','addjurkat_45.1_0.1',\n",
    "                                   'addjurkat_67.65_0.15','addjurkat_90.2_0.2',\n",
    "                                   'addjurkat_112.75_0.25','addjurkat_135.3_0.3','addjurkat_157.85_0.35',\n",
    "                                   'addjurkat_180.4_0.4','addjurkat_202.95_0.45',\n",
    "                                   'addjurkat_225.5_0.5','addjurkat_248.05_0.55','addjurkat_270.6_0.6',\n",
    "                                   'addjurkat_293.15_0.65','addjurkat_315.7_0.7','addjurkat_338.25_0.75',\n",
    "                                   'addjurkat_360.8_0.8','addjurkat_383.35_0.85','addjurkat_405.9_0.9',\n",
    "                                   'addjurkat_428.45_0.95','addjurkat_451_1')]"
   ]
  },
  {
   "cell_type": "code",
   "execution_count": 52,
   "metadata": {},
   "outputs": [],
   "source": [
    "out_testdata <- safe_mclapply(1:length(test_immunelist), \n",
    "                     function(x){ iNEXT(test_immunelist[x], c(0,1,2), \n",
    "                                        datatype=\"abundance\", nboot = 50, endpoint = 550)}, mc.cores = 4)"
   ]
  },
  {
   "cell_type": "code",
   "execution_count": 53,
   "metadata": {},
   "outputs": [],
   "source": [
    "save(out_testdata, file = paste0(datapath, \"testdata/testdata_inextout.RData\"))"
   ]
  },
  {
   "cell_type": "markdown",
   "metadata": {},
   "source": [
    "# Load iNEXT output and plot"
   ]
  },
  {
   "cell_type": "code",
   "execution_count": 54,
   "metadata": {},
   "outputs": [],
   "source": [
    "load(file = paste0(datapath,\"testdata/testdata_inextout.RData\"))"
   ]
  },
  {
   "cell_type": "markdown",
   "metadata": {},
   "source": [
    "get sample names"
   ]
  },
  {
   "cell_type": "code",
   "execution_count": 56,
   "metadata": {},
   "outputs": [],
   "source": [
    "testallnames <- names(out_testdata[[1]]$iNextEst)\n",
    "for(i in 2:length(out_testdata)){\n",
    "    testallnames <- c(testallnames, names(out_testdata[[i]]$iNextEst))\n",
    "}"
   ]
  },
  {
   "cell_type": "markdown",
   "metadata": {},
   "source": [
    "make a list of plots"
   ]
  },
  {
   "cell_type": "code",
   "execution_count": 57,
   "metadata": {},
   "outputs": [],
   "source": [
    "testlistofplots <- lapply(c(1:length(out_testdata)), function(x){ \n",
    "    p <- ggiNEXT(out_testdata[[x]], type=1, color.var =\"order\") + \n",
    "    theme_bw(base_size = 10) + labs(title = testallnames[x]) +\n",
    "theme(plot.title = element_text(size = 5,hjust = 0.5),\n",
    "     legend.position = \"none\")})"
   ]
  },
  {
   "cell_type": "code",
   "execution_count": 58,
   "metadata": {},
   "outputs": [],
   "source": [
    "names(testlistofplots) <- testallnames"
   ]
  },
  {
   "cell_type": "code",
   "execution_count": 60,
   "metadata": {},
   "outputs": [
    {
     "data": {
      "text/html": [
       "<strong>pdf:</strong> 2"
      ],
      "text/latex": [
       "\\textbf{pdf:} 2"
      ],
      "text/markdown": [
       "**pdf:** 2"
      ],
      "text/plain": [
       "pdf \n",
       "  2 "
      ]
     },
     "metadata": {},
     "output_type": "display_data"
    }
   ],
   "source": [
    "pdf(paste0(plotpath, \"testdata_all_plots.pdf\"),\n",
    "   width = 10, height = 10)\n",
    "plot_grid(plotlist = testlistofplots, ncol = 5)\n",
    "dev.off()"
   ]
  },
  {
   "cell_type": "code",
   "execution_count": null,
   "metadata": {},
   "outputs": [],
   "source": []
  }
 ],
 "metadata": {
  "kernelspec": {
   "display_name": "R 4.0",
   "language": "R",
   "name": "ir40"
  },
  "language_info": {
   "codemirror_mode": "r",
   "file_extension": ".r",
   "mimetype": "text/x-r-source",
   "name": "R",
   "pygments_lexer": "r",
   "version": "4.0.3"
  },
  "toc": {
   "base_numbering": 1,
   "nav_menu": {},
   "number_sections": false,
   "sideBar": true,
   "skip_h1_title": false,
   "title_cell": "Table of Contents",
   "title_sidebar": "Contents",
   "toc_cell": true,
   "toc_position": {
    "height": "calc(100% - 180px)",
    "left": "10px",
    "top": "150px",
    "width": "217.3px"
   },
   "toc_section_display": true,
   "toc_window_display": true
  }
 },
 "nbformat": 4,
 "nbformat_minor": 2
}
