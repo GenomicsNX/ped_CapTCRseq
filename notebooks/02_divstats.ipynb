{
 "cells": [
  {
   "cell_type": "code",
   "execution_count": null,
   "metadata": {
    "vscode": {
     "languageId": "r"
    }
   },
   "outputs": [],
   "source": [
    "Sys.setlocale(category = \"LC_ALL\", locale = \"en_US.UTF-8\")"
   ]
  },
  {
   "attachments": {},
   "cell_type": "markdown",
   "metadata": {},
   "source": [
    "# Dependencies"
   ]
  },
  {
   "attachments": {},
   "cell_type": "markdown",
   "metadata": {},
   "source": [
    "# Functions"
   ]
  },
  {
   "cell_type": "code",
   "execution_count": 35,
   "metadata": {
    "vscode": {
     "languageId": "r"
    }
   },
   "outputs": [],
   "source": [
    "source(\"/Users/anabbi/git/ped_CapTCRseq/R/Immune_Diversity.R\")"
   ]
  },
  {
   "attachments": {},
   "cell_type": "markdown",
   "metadata": {},
   "source": [
    "# Paths"
   ]
  },
  {
   "cell_type": "code",
   "execution_count": null,
   "metadata": {
    "vscode": {
     "languageId": "r"
    }
   },
   "outputs": [],
   "source": [
    "datapath <- \"/Users/anabbi/OneDrive - UHN/Documents/INTERCEPT/Data/\"\n",
    "plotpath <- \"/Users/anabbi/OneDrive - UHN/Documents/INTERCEPT/Plots/\"\n",
    "manifestpath <- \"/Users/anabbi/OneDrive - UHN/Documents/INTERCEPT/Manifests/\"\n",
    "\n",
    "gitpath <- \"/Users/anabbi/git/ped_CapTCRseq/\""
   ]
  },
  {
   "attachments": {},
   "cell_type": "markdown",
   "metadata": {},
   "source": [
    "# Main"
   ]
  },
  {
   "cell_type": "code",
   "execution_count": null,
   "metadata": {
    "vscode": {
     "languageId": "r"
    }
   },
   "outputs": [],
   "source": [
    "h4hpath <- \"/Users/anabbi/Desktop/H4H/INTERCEPT/NextSeq/\""
   ]
  },
  {
   "attachments": {},
   "cell_type": "markdown",
   "metadata": {},
   "source": [
    "## TRB"
   ]
  },
  {
   "cell_type": "code",
   "execution_count": null,
   "metadata": {
    "vscode": {
     "languageId": "r"
    }
   },
   "outputs": [],
   "source": [
    "file_list <- list.files(h4hpath, pattern = paste0(\"CLONES_\", \"TRB\"), recursive = T)"
   ]
  },
  {
   "cell_type": "code",
   "execution_count": null,
   "metadata": {
    "vscode": {
     "languageId": "r"
    }
   },
   "outputs": [],
   "source": [
    "tail(file_list)"
   ]
  },
  {
   "cell_type": "code",
   "execution_count": null,
   "metadata": {
    "vscode": {
     "languageId": "r"
    }
   },
   "outputs": [],
   "source": [
    "# remove downsample files\n",
    "file_list <- file_list[!grepl(\"_2000000\", file_list)]"
   ]
  },
  {
   "attachments": {},
   "cell_type": "markdown",
   "metadata": {},
   "source": [
    "Some files are duplicated. Make a table to identify and pick the larger clone file"
   ]
  },
  {
   "cell_type": "code",
   "execution_count": null,
   "metadata": {
    "vscode": {
     "languageId": "r"
    }
   },
   "outputs": [],
   "source": [
    "file_df <- as.data.frame(file_list)"
   ]
  },
  {
   "cell_type": "code",
   "execution_count": null,
   "metadata": {
    "vscode": {
     "languageId": "r"
    }
   },
   "outputs": [],
   "source": [
    "file_df$samplename <- gsub(\".*CLONES_TRB\", \"\", file_df$file_list)\n",
    "file_df$samplename <- gsub(\".txt\", \"\", file_df$samplename)"
   ]
  },
  {
   "cell_type": "code",
   "execution_count": null,
   "metadata": {
    "vscode": {
     "languageId": "r"
    }
   },
   "outputs": [],
   "source": [
    "file_df$size <- NA\n",
    "for(i in 1:nrow(file_df)){\n",
    "    file_df$size[i] <- file.size(paste0(h4hpath,file_df$file_list[i]))\n",
    "}"
   ]
  },
  {
   "cell_type": "code",
   "execution_count": null,
   "metadata": {
    "vscode": {
     "languageId": "r"
    }
   },
   "outputs": [],
   "source": [
    "head(file_df)"
   ]
  },
  {
   "cell_type": "code",
   "execution_count": null,
   "metadata": {
    "vscode": {
     "languageId": "r"
    }
   },
   "outputs": [],
   "source": [
    "file_df[ grepl(\"383-03\", file_df$file_list),]"
   ]
  },
  {
   "cell_type": "code",
   "execution_count": null,
   "metadata": {
    "vscode": {
     "languageId": "r"
    }
   },
   "outputs": [],
   "source": [
    "file_df <- file_df[ !grepl(\"immunarch\", file_df$file_list),]"
   ]
  },
  {
   "cell_type": "code",
   "execution_count": null,
   "metadata": {
    "vscode": {
     "languageId": "r"
    }
   },
   "outputs": [],
   "source": [
    "#if duplicated keep the bigger file corresponding to deeper seqeuncing.\n",
    "file_df_dedup <- file_df[0,]\n",
    "\n",
    "for(s in unique(file_df$samplename)){\n",
    "    tmp <- file_df[ file_df$samplename == s,]\n",
    "    if(nrow(tmp) ==1 ){\n",
    "        file_df_dedup <- rbind(file_df_dedup, tmp)\n",
    "    }\n",
    "    if(nrow(tmp) > 1 ){\n",
    "        file_df_dedup <- rbind(file_df_dedup, tmp[ tmp$size == max(tmp$size),])\n",
    "    }    \n",
    "}"
   ]
  },
  {
   "cell_type": "code",
   "execution_count": null,
   "metadata": {
    "vscode": {
     "languageId": "r"
    }
   },
   "outputs": [],
   "source": [
    "file_df_dedup[ grepl(\"343-05\", file_df_dedup$file_list),]"
   ]
  },
  {
   "cell_type": "code",
   "execution_count": null,
   "metadata": {
    "vscode": {
     "languageId": "r"
    }
   },
   "outputs": [],
   "source": [
    "dim(file_df)\n",
    "dim(file_df_dedup)"
   ]
  },
  {
   "cell_type": "code",
   "execution_count": null,
   "metadata": {
    "vscode": {
     "languageId": "r"
    }
   },
   "outputs": [],
   "source": [
    "file_df_dedup_trb <- file_df_dedup\n",
    "save(file_df_dedup_trb, file = paste0(datapath,\"capTCRseq/TRBfiles.RData\"))"
   ]
  },
  {
   "cell_type": "code",
   "execution_count": null,
   "metadata": {
    "vscode": {
     "languageId": "r"
    }
   },
   "outputs": [],
   "source": [
    "batchTRB <- immunelistfx(file_df_dedup$file_list, h4hpath, \"TRB\")"
   ]
  },
  {
   "cell_type": "code",
   "execution_count": null,
   "metadata": {
    "vscode": {
     "languageId": "r"
    }
   },
   "outputs": [],
   "source": [
    "names(batchTRB) <- gsub(\".*CLONES_TRB\", \"\", names(batchTRB))"
   ]
  },
  {
   "cell_type": "code",
   "execution_count": null,
   "metadata": {
    "vscode": {
     "languageId": "r"
    }
   },
   "outputs": [],
   "source": [
    "head(names(batchTRB))"
   ]
  },
  {
   "cell_type": "code",
   "execution_count": null,
   "metadata": {
    "vscode": {
     "languageId": "r"
    }
   },
   "outputs": [],
   "source": [
    "TRBlist <- batchTRB "
   ]
  },
  {
   "cell_type": "code",
   "execution_count": null,
   "metadata": {
    "vscode": {
     "languageId": "r"
    }
   },
   "outputs": [],
   "source": [
    "save(TRBlist, file = paste0(datapath,\"capTCRseq/TRBlist.RData\"))"
   ]
  },
  {
   "attachments": {},
   "cell_type": "markdown",
   "metadata": {},
   "source": [
    "### divstats"
   ]
  },
  {
   "cell_type": "code",
   "execution_count": 43,
   "metadata": {
    "vscode": {
     "languageId": "r"
    }
   },
   "outputs": [],
   "source": [
    "load(file = paste0(datapath,\"capTCRseq/TRBlist.RData\"))\n",
    "load(file = paste0(datapath,\"capTCRseq/TRBfiles.RData\"))"
   ]
  },
  {
   "cell_type": "code",
   "execution_count": 46,
   "metadata": {
    "vscode": {
     "languageId": "r"
    }
   },
   "outputs": [
    {
     "data": {
      "text/html": [
       "<style>\n",
       ".list-inline {list-style: none; margin:0; padding: 0}\n",
       ".list-inline>li {display: inline-block}\n",
       ".list-inline>li:not(:last-child)::after {content: \"\\00b7\"; padding: 0 .5ex}\n",
       "</style>\n",
       "<ol class=list-inline><li>'batchTRB'</li><li>'chain'</li><li>'datapath'</li><li>'divstats'</li><li>'Divstats.fx'</li><li>'file_df'</li><li>'file_df_dedup'</li><li>'file_df_dedup_trb'</li><li>'file_list'</li><li>'gitpath'</li><li>'h4hpath'</li><li>'i'</li><li>'immunelist_adaptive.fx'</li><li>'immunelistfx'</li><li>'lst'</li><li>'manifestpath'</li><li>'myfilenames'</li><li>'plotpath'</li><li>'s'</li><li>'tmp'</li><li>'TRBlist'</li></ol>\n"
      ],
      "text/latex": [
       "\\begin{enumerate*}\n",
       "\\item 'batchTRB'\n",
       "\\item 'chain'\n",
       "\\item 'datapath'\n",
       "\\item 'divstats'\n",
       "\\item 'Divstats.fx'\n",
       "\\item 'file\\_df'\n",
       "\\item 'file\\_df\\_dedup'\n",
       "\\item 'file\\_df\\_dedup\\_trb'\n",
       "\\item 'file\\_list'\n",
       "\\item 'gitpath'\n",
       "\\item 'h4hpath'\n",
       "\\item 'i'\n",
       "\\item 'immunelist\\_adaptive.fx'\n",
       "\\item 'immunelistfx'\n",
       "\\item 'lst'\n",
       "\\item 'manifestpath'\n",
       "\\item 'myfilenames'\n",
       "\\item 'plotpath'\n",
       "\\item 's'\n",
       "\\item 'tmp'\n",
       "\\item 'TRBlist'\n",
       "\\end{enumerate*}\n"
      ],
      "text/markdown": [
       "1. 'batchTRB'\n",
       "2. 'chain'\n",
       "3. 'datapath'\n",
       "4. 'divstats'\n",
       "5. 'Divstats.fx'\n",
       "6. 'file_df'\n",
       "7. 'file_df_dedup'\n",
       "8. 'file_df_dedup_trb'\n",
       "9. 'file_list'\n",
       "10. 'gitpath'\n",
       "11. 'h4hpath'\n",
       "12. 'i'\n",
       "13. 'immunelist_adaptive.fx'\n",
       "14. 'immunelistfx'\n",
       "15. 'lst'\n",
       "16. 'manifestpath'\n",
       "17. 'myfilenames'\n",
       "18. 'plotpath'\n",
       "19. 's'\n",
       "20. 'tmp'\n",
       "21. 'TRBlist'\n",
       "\n",
       "\n"
      ],
      "text/plain": [
       " [1] \"batchTRB\"               \"chain\"                  \"datapath\"              \n",
       " [4] \"divstats\"               \"Divstats.fx\"            \"file_df\"               \n",
       " [7] \"file_df_dedup\"          \"file_df_dedup_trb\"      \"file_list\"             \n",
       "[10] \"gitpath\"                \"h4hpath\"                \"i\"                     \n",
       "[13] \"immunelist_adaptive.fx\" \"immunelistfx\"           \"lst\"                   \n",
       "[16] \"manifestpath\"           \"myfilenames\"            \"plotpath\"              \n",
       "[19] \"s\"                      \"tmp\"                    \"TRBlist\"               "
      ]
     },
     "metadata": {},
     "output_type": "display_data"
    }
   ],
   "source": [
    "ls()"
   ]
  },
  {
   "cell_type": "code",
   "execution_count": 45,
   "metadata": {
    "vscode": {
     "languageId": "r"
    }
   },
   "outputs": [
    {
     "data": {
      "text/html": [
       "<dl>\n",
       "\t<dt>$`CHP_315-05-PBMC-DNA`</dt>\n",
       "\t\t<dd><style>\n",
       ".list-inline {list-style: none; margin:0; padding: 0}\n",
       ".list-inline>li {display: inline-block}\n",
       ".list-inline>li:not(:last-child)::after {content: \"\\00b7\"; padding: 0 .5ex}\n",
       "</style>\n",
       "<ol class=list-inline><li>187</li><li>48</li><li>48</li><li>42</li><li>32</li><li>29</li><li>29</li><li>25</li><li>24</li><li>21</li><li>21</li><li>19</li><li>18</li><li>17</li><li>15</li><li>15</li><li>12</li><li>12</li><li>8</li><li>8</li><li>6</li><li>6</li><li>5</li><li>5</li><li>4</li><li>2</li><li>1</li></ol>\n",
       "</dd>\n",
       "\t<dt>$`CHP_350-01-PBMC-DNA`</dt>\n",
       "\t\t<dd><style>\n",
       ".list-inline {list-style: none; margin:0; padding: 0}\n",
       ".list-inline>li {display: inline-block}\n",
       ".list-inline>li:not(:last-child)::after {content: \"\\00b7\"; padding: 0 .5ex}\n",
       "</style>\n",
       "<ol class=list-inline><li>59</li><li>44</li><li>41</li><li>40</li><li>31</li><li>29</li><li>29</li><li>28</li><li>27</li><li>24</li><li>23</li><li>22</li><li>21</li><li>21</li><li>20</li><li>19</li><li>19</li><li>19</li><li>19</li><li>19</li><li>18</li><li>18</li><li>16</li><li>16</li><li>16</li><li>16</li><li>16</li><li>15</li><li>15</li><li>15</li><li>14</li><li>14</li><li>14</li><li>13</li><li>13</li><li>13</li><li>12</li><li>12</li><li>12</li><li>12</li><li>12</li><li>12</li><li>12</li><li>12</li><li>12</li><li>12</li><li>12</li><li>12</li><li>12</li><li>12</li><li>11</li><li>11</li><li>11</li><li>11</li><li>11</li><li>11</li><li>11</li><li>11</li><li>11</li><li>11</li><li>11</li><li>11</li><li>11</li><li>10</li><li>10</li><li>10</li><li>10</li><li>10</li><li>10</li><li>10</li><li>10</li><li>9</li><li>9</li><li>9</li><li>9</li><li>9</li><li>9</li><li>9</li><li>8</li><li>8</li><li>8</li><li>8</li><li>8</li><li>8</li><li>8</li><li>8</li><li>8</li><li>8</li><li>8</li><li>8</li><li>8</li><li>8</li><li>7</li><li>7</li><li>7</li><li>7</li><li>7</li><li>7</li><li>7</li><li>7</li><li>7</li><li>7</li><li>7</li><li>7</li><li>7</li><li>7</li><li>7</li><li>6</li><li>6</li><li>6</li><li>6</li><li>6</li><li>6</li><li>6</li><li>6</li><li>6</li><li>6</li><li>5</li><li>5</li><li>5</li><li>5</li><li>5</li><li>5</li><li>5</li><li>5</li><li>5</li><li>5</li><li>5</li><li>4</li><li>4</li><li>4</li><li>4</li><li>4</li><li>4</li><li>3</li><li>3</li><li>3</li><li>3</li><li>3</li><li>3</li><li>3</li><li>3</li><li>2</li><li>2</li><li>2</li><li>2</li><li>2</li><li>2</li><li>1</li><li>1</li><li>1</li><li>1</li><li>1</li></ol>\n",
       "</dd>\n",
       "\t<dt>$`CHP_350-02-PBMC-DNA`</dt>\n",
       "\t\t<dd><style>\n",
       ".list-inline {list-style: none; margin:0; padding: 0}\n",
       ".list-inline>li {display: inline-block}\n",
       ".list-inline>li:not(:last-child)::after {content: \"\\00b7\"; padding: 0 .5ex}\n",
       "</style>\n",
       "<ol class=list-inline><li>92</li><li>58</li><li>47</li><li>44</li><li>38</li><li>34</li><li>30</li><li>30</li><li>28</li><li>27</li><li>27</li><li>27</li><li>26</li><li>26</li><li>25</li><li>25</li><li>25</li><li>24</li><li>24</li><li>23</li><li>22</li><li>22</li><li>22</li><li>21</li><li>21</li><li>21</li><li>21</li><li>20</li><li>20</li><li>20</li><li>20</li><li>20</li><li>20</li><li>20</li><li>19</li><li>19</li><li>18</li><li>18</li><li>18</li><li>18</li><li>17</li><li>17</li><li>17</li><li>16</li><li>16</li><li>16</li><li>16</li><li>16</li><li>16</li><li>16</li><li>15</li><li>15</li><li>15</li><li>15</li><li>15</li><li>15</li><li>15</li><li>14</li><li>14</li><li>14</li><li>14</li><li>14</li><li>14</li><li>14</li><li>14</li><li>14</li><li>14</li><li>14</li><li>13</li><li>13</li><li>13</li><li>13</li><li>13</li><li>13</li><li>13</li><li>13</li><li>13</li><li>13</li><li>13</li><li>13</li><li>13</li><li>13</li><li>13</li><li>13</li><li>13</li><li>12</li><li>12</li><li>12</li><li>12</li><li>12</li><li>12</li><li>12</li><li>12</li><li>12</li><li>12</li><li>12</li><li>12</li><li>12</li><li>12</li><li>11</li><li>11</li><li>11</li><li>11</li><li>11</li><li>11</li><li>11</li><li>11</li><li>11</li><li>11</li><li>11</li><li>11</li><li>11</li><li>10</li><li>10</li><li>10</li><li>10</li><li>10</li><li>10</li><li>10</li><li>10</li><li>10</li><li>10</li><li>10</li><li>10</li><li>10</li><li>10</li><li>10</li><li>9</li><li>9</li><li>9</li><li>9</li><li>9</li><li>9</li><li>9</li><li>9</li><li>9</li><li>9</li><li>9</li><li>9</li><li>9</li><li>9</li><li>9</li><li>9</li><li>9</li><li>9</li><li>8</li><li>8</li><li>8</li><li>8</li><li>8</li><li>8</li><li>8</li><li>8</li><li>8</li><li>8</li><li>8</li><li>8</li><li>8</li><li>8</li><li>8</li><li>8</li><li>8</li><li>8</li><li>8</li><li>8</li><li>7</li><li>7</li><li>7</li><li>7</li><li>7</li><li>7</li><li>7</li><li>7</li><li>7</li><li>7</li><li>7</li><li>7</li><li>7</li><li>7</li><li>7</li><li>7</li><li>7</li><li>7</li><li>7</li><li>7</li><li>7</li><li>7</li><li>7</li><li>7</li><li>7</li><li>7</li><li>7</li><li>6</li><li>6</li><li>6</li><li>6</li><li>6</li><li>6</li><li>6</li><li>6</li><li>6</li><li>6</li><li>6</li><li>6</li><li>6</li><li>6</li><li>6</li><li>6</li><li>6</li><li>6</li><li>6</li><li>6</li><li>6</li><li>6</li><li>5</li><li>5</li><li>5</li><li>5</li><li>5</li><li>5</li><li>5</li><li>5</li><li>5</li><li>5</li><li>5</li><li>5</li><li>5</li><li>4</li><li>4</li><li>4</li><li>4</li><li>4</li><li>4</li><li>4</li><li>4</li><li>4</li><li>4</li><li>4</li><li>4</li><li>4</li><li>3</li><li>3</li><li>3</li><li>3</li><li>3</li><li>3</li><li>3</li><li>2</li><li>2</li><li>2</li><li>2</li><li>2</li><li>1</li><li>1</li><li>1</li><li>1</li><li>1</li><li>1</li><li>1</li><li>1</li><li>1</li><li>1</li><li>1</li><li>1</li><li>1</li><li>1</li><li>1</li><li>1</li><li>1</li></ol>\n",
       "</dd>\n",
       "\t<dt>$`CHP_350-03-PBMC-DNA`</dt>\n",
       "\t\t<dd><style>\n",
       ".list-inline {list-style: none; margin:0; padding: 0}\n",
       ".list-inline>li {display: inline-block}\n",
       ".list-inline>li:not(:last-child)::after {content: \"\\00b7\"; padding: 0 .5ex}\n",
       "</style>\n",
       "<ol class=list-inline><li>52</li><li>43</li><li>36</li><li>35</li><li>33</li><li>30</li><li>30</li><li>30</li><li>28</li><li>27</li><li>27</li><li>26</li><li>25</li><li>24</li><li>24</li><li>22</li><li>22</li><li>22</li><li>21</li><li>21</li><li>21</li><li>20</li><li>20</li><li>19</li><li>19</li><li>19</li><li>19</li><li>19</li><li>19</li><li>18</li><li>18</li><li>18</li><li>18</li><li>17</li><li>17</li><li>17</li><li>16</li><li>16</li><li>16</li><li>16</li><li>15</li><li>15</li><li>15</li><li>15</li><li>15</li><li>14</li><li>14</li><li>14</li><li>14</li><li>14</li><li>13</li><li>13</li><li>13</li><li>13</li><li>13</li><li>13</li><li>13</li><li>12</li><li>12</li><li>12</li><li>12</li><li>12</li><li>12</li><li>12</li><li>12</li><li>12</li><li>12</li><li>11</li><li>11</li><li>11</li><li>11</li><li>11</li><li>11</li><li>11</li><li>11</li><li>11</li><li>10</li><li>10</li><li>10</li><li>10</li><li>10</li><li>10</li><li>10</li><li>10</li><li>10</li><li>9</li><li>9</li><li>9</li><li>9</li><li>9</li><li>9</li><li>9</li><li>9</li><li>9</li><li>9</li><li>9</li><li>8</li><li>8</li><li>8</li><li>8</li><li>8</li><li>8</li><li>8</li><li>8</li><li>8</li><li>8</li><li>8</li><li>8</li><li>8</li><li>8</li><li>8</li><li>8</li><li>8</li><li>8</li><li>8</li><li>7</li><li>7</li><li>7</li><li>7</li><li>7</li><li>7</li><li>7</li><li>7</li><li>7</li><li>7</li><li>7</li><li>7</li><li>7</li><li>6</li><li>6</li><li>6</li><li>6</li><li>6</li><li>6</li><li>6</li><li>6</li><li>6</li><li>6</li><li>6</li><li>6</li><li>6</li><li>6</li><li>6</li><li>5</li><li>5</li><li>5</li><li>5</li><li>5</li><li>5</li><li>5</li><li>5</li><li>5</li><li>5</li><li>5</li><li>5</li><li>5</li><li>5</li><li>5</li><li>5</li><li>4</li><li>4</li><li>4</li><li>4</li><li>4</li><li>4</li><li>4</li><li>4</li><li>4</li><li>4</li><li>4</li><li>4</li><li>4</li><li>4</li><li>4</li><li>4</li><li>4</li><li>4</li><li>4</li><li>4</li><li>4</li><li>3</li><li>3</li><li>3</li><li>3</li><li>3</li><li>3</li><li>3</li><li>3</li><li>2</li><li>2</li><li>2</li><li>2</li><li>2</li><li>2</li><li>2</li><li>2</li><li>2</li><li>2</li><li>1</li><li>1</li><li>1</li><li>1</li><li>1</li><li>1</li><li>1</li><li>1</li><li>1</li></ol>\n",
       "</dd>\n",
       "\t<dt>$`CHP_350-04-PBMC-DNA`</dt>\n",
       "\t\t<dd><style>\n",
       ".list-inline {list-style: none; margin:0; padding: 0}\n",
       ".list-inline>li {display: inline-block}\n",
       ".list-inline>li:not(:last-child)::after {content: \"\\00b7\"; padding: 0 .5ex}\n",
       "</style>\n",
       "<ol class=list-inline><li>34</li><li>33</li><li>31</li><li>29</li><li>25</li><li>23</li><li>23</li><li>23</li><li>22</li><li>21</li><li>19</li><li>18</li><li>17</li><li>17</li><li>16</li><li>15</li><li>15</li><li>15</li><li>14</li><li>14</li><li>14</li><li>14</li><li>14</li><li>13</li><li>13</li><li>13</li><li>13</li><li>13</li><li>12</li><li>12</li><li>12</li><li>12</li><li>11</li><li>11</li><li>11</li><li>11</li><li>10</li><li>10</li><li>9</li><li>9</li><li>9</li><li>9</li><li>9</li><li>9</li><li>9</li><li>9</li><li>9</li><li>8</li><li>8</li><li>8</li><li>8</li><li>8</li><li>8</li><li>8</li><li>7</li><li>7</li><li>7</li><li>7</li><li>7</li><li>7</li><li>7</li><li>7</li><li>6</li><li>6</li><li>6</li><li>6</li><li>6</li><li>6</li><li>5</li><li>5</li><li>5</li><li>5</li><li>5</li><li>5</li><li>5</li><li>5</li><li>4</li><li>4</li><li>4</li><li>4</li><li>4</li><li>4</li><li>4</li><li>4</li><li>4</li><li>3</li><li>3</li><li>3</li><li>3</li><li>3</li><li>3</li><li>3</li><li>3</li><li>3</li><li>2</li><li>2</li><li>1</li><li>1</li><li>1</li><li>1</li><li>1</li><li>1</li><li>1</li><li>1</li><li>1</li><li>1</li></ol>\n",
       "</dd>\n",
       "\t<dt>$`CHP_353-02-PBMC-DNA`</dt>\n",
       "\t\t<dd><style>\n",
       ".list-inline {list-style: none; margin:0; padding: 0}\n",
       ".list-inline>li {display: inline-block}\n",
       ".list-inline>li:not(:last-child)::after {content: \"\\00b7\"; padding: 0 .5ex}\n",
       "</style>\n",
       "<ol class=list-inline><li>35</li><li>23</li><li>21</li><li>21</li><li>18</li><li>18</li><li>17</li><li>16</li><li>16</li><li>12</li><li>11</li><li>9</li><li>9</li><li>4</li><li>3</li><li>1</li></ol>\n",
       "</dd>\n",
       "</dl>\n"
      ],
      "text/latex": [
       "\\begin{description}\n",
       "\\item[\\$`CHP\\_315-05-PBMC-DNA`] \\begin{enumerate*}\n",
       "\\item 187\n",
       "\\item 48\n",
       "\\item 48\n",
       "\\item 42\n",
       "\\item 32\n",
       "\\item 29\n",
       "\\item 29\n",
       "\\item 25\n",
       "\\item 24\n",
       "\\item 21\n",
       "\\item 21\n",
       "\\item 19\n",
       "\\item 18\n",
       "\\item 17\n",
       "\\item 15\n",
       "\\item 15\n",
       "\\item 12\n",
       "\\item 12\n",
       "\\item 8\n",
       "\\item 8\n",
       "\\item 6\n",
       "\\item 6\n",
       "\\item 5\n",
       "\\item 5\n",
       "\\item 4\n",
       "\\item 2\n",
       "\\item 1\n",
       "\\end{enumerate*}\n",
       "\n",
       "\\item[\\$`CHP\\_350-01-PBMC-DNA`] \\begin{enumerate*}\n",
       "\\item 59\n",
       "\\item 44\n",
       "\\item 41\n",
       "\\item 40\n",
       "\\item 31\n",
       "\\item 29\n",
       "\\item 29\n",
       "\\item 28\n",
       "\\item 27\n",
       "\\item 24\n",
       "\\item 23\n",
       "\\item 22\n",
       "\\item 21\n",
       "\\item 21\n",
       "\\item 20\n",
       "\\item 19\n",
       "\\item 19\n",
       "\\item 19\n",
       "\\item 19\n",
       "\\item 19\n",
       "\\item 18\n",
       "\\item 18\n",
       "\\item 16\n",
       "\\item 16\n",
       "\\item 16\n",
       "\\item 16\n",
       "\\item 16\n",
       "\\item 15\n",
       "\\item 15\n",
       "\\item 15\n",
       "\\item 14\n",
       "\\item 14\n",
       "\\item 14\n",
       "\\item 13\n",
       "\\item 13\n",
       "\\item 13\n",
       "\\item 12\n",
       "\\item 12\n",
       "\\item 12\n",
       "\\item 12\n",
       "\\item 12\n",
       "\\item 12\n",
       "\\item 12\n",
       "\\item 12\n",
       "\\item 12\n",
       "\\item 12\n",
       "\\item 12\n",
       "\\item 12\n",
       "\\item 12\n",
       "\\item 12\n",
       "\\item 11\n",
       "\\item 11\n",
       "\\item 11\n",
       "\\item 11\n",
       "\\item 11\n",
       "\\item 11\n",
       "\\item 11\n",
       "\\item 11\n",
       "\\item 11\n",
       "\\item 11\n",
       "\\item 11\n",
       "\\item 11\n",
       "\\item 11\n",
       "\\item 10\n",
       "\\item 10\n",
       "\\item 10\n",
       "\\item 10\n",
       "\\item 10\n",
       "\\item 10\n",
       "\\item 10\n",
       "\\item 10\n",
       "\\item 9\n",
       "\\item 9\n",
       "\\item 9\n",
       "\\item 9\n",
       "\\item 9\n",
       "\\item 9\n",
       "\\item 9\n",
       "\\item 8\n",
       "\\item 8\n",
       "\\item 8\n",
       "\\item 8\n",
       "\\item 8\n",
       "\\item 8\n",
       "\\item 8\n",
       "\\item 8\n",
       "\\item 8\n",
       "\\item 8\n",
       "\\item 8\n",
       "\\item 8\n",
       "\\item 8\n",
       "\\item 8\n",
       "\\item 7\n",
       "\\item 7\n",
       "\\item 7\n",
       "\\item 7\n",
       "\\item 7\n",
       "\\item 7\n",
       "\\item 7\n",
       "\\item 7\n",
       "\\item 7\n",
       "\\item 7\n",
       "\\item 7\n",
       "\\item 7\n",
       "\\item 7\n",
       "\\item 7\n",
       "\\item 7\n",
       "\\item 6\n",
       "\\item 6\n",
       "\\item 6\n",
       "\\item 6\n",
       "\\item 6\n",
       "\\item 6\n",
       "\\item 6\n",
       "\\item 6\n",
       "\\item 6\n",
       "\\item 6\n",
       "\\item 5\n",
       "\\item 5\n",
       "\\item 5\n",
       "\\item 5\n",
       "\\item 5\n",
       "\\item 5\n",
       "\\item 5\n",
       "\\item 5\n",
       "\\item 5\n",
       "\\item 5\n",
       "\\item 5\n",
       "\\item 4\n",
       "\\item 4\n",
       "\\item 4\n",
       "\\item 4\n",
       "\\item 4\n",
       "\\item 4\n",
       "\\item 3\n",
       "\\item 3\n",
       "\\item 3\n",
       "\\item 3\n",
       "\\item 3\n",
       "\\item 3\n",
       "\\item 3\n",
       "\\item 3\n",
       "\\item 2\n",
       "\\item 2\n",
       "\\item 2\n",
       "\\item 2\n",
       "\\item 2\n",
       "\\item 2\n",
       "\\item 1\n",
       "\\item 1\n",
       "\\item 1\n",
       "\\item 1\n",
       "\\item 1\n",
       "\\end{enumerate*}\n",
       "\n",
       "\\item[\\$`CHP\\_350-02-PBMC-DNA`] \\begin{enumerate*}\n",
       "\\item 92\n",
       "\\item 58\n",
       "\\item 47\n",
       "\\item 44\n",
       "\\item 38\n",
       "\\item 34\n",
       "\\item 30\n",
       "\\item 30\n",
       "\\item 28\n",
       "\\item 27\n",
       "\\item 27\n",
       "\\item 27\n",
       "\\item 26\n",
       "\\item 26\n",
       "\\item 25\n",
       "\\item 25\n",
       "\\item 25\n",
       "\\item 24\n",
       "\\item 24\n",
       "\\item 23\n",
       "\\item 22\n",
       "\\item 22\n",
       "\\item 22\n",
       "\\item 21\n",
       "\\item 21\n",
       "\\item 21\n",
       "\\item 21\n",
       "\\item 20\n",
       "\\item 20\n",
       "\\item 20\n",
       "\\item 20\n",
       "\\item 20\n",
       "\\item 20\n",
       "\\item 20\n",
       "\\item 19\n",
       "\\item 19\n",
       "\\item 18\n",
       "\\item 18\n",
       "\\item 18\n",
       "\\item 18\n",
       "\\item 17\n",
       "\\item 17\n",
       "\\item 17\n",
       "\\item 16\n",
       "\\item 16\n",
       "\\item 16\n",
       "\\item 16\n",
       "\\item 16\n",
       "\\item 16\n",
       "\\item 16\n",
       "\\item 15\n",
       "\\item 15\n",
       "\\item 15\n",
       "\\item 15\n",
       "\\item 15\n",
       "\\item 15\n",
       "\\item 15\n",
       "\\item 14\n",
       "\\item 14\n",
       "\\item 14\n",
       "\\item 14\n",
       "\\item 14\n",
       "\\item 14\n",
       "\\item 14\n",
       "\\item 14\n",
       "\\item 14\n",
       "\\item 14\n",
       "\\item 14\n",
       "\\item 13\n",
       "\\item 13\n",
       "\\item 13\n",
       "\\item 13\n",
       "\\item 13\n",
       "\\item 13\n",
       "\\item 13\n",
       "\\item 13\n",
       "\\item 13\n",
       "\\item 13\n",
       "\\item 13\n",
       "\\item 13\n",
       "\\item 13\n",
       "\\item 13\n",
       "\\item 13\n",
       "\\item 13\n",
       "\\item 13\n",
       "\\item 12\n",
       "\\item 12\n",
       "\\item 12\n",
       "\\item 12\n",
       "\\item 12\n",
       "\\item 12\n",
       "\\item 12\n",
       "\\item 12\n",
       "\\item 12\n",
       "\\item 12\n",
       "\\item 12\n",
       "\\item 12\n",
       "\\item 12\n",
       "\\item 12\n",
       "\\item 11\n",
       "\\item 11\n",
       "\\item 11\n",
       "\\item 11\n",
       "\\item 11\n",
       "\\item 11\n",
       "\\item 11\n",
       "\\item 11\n",
       "\\item 11\n",
       "\\item 11\n",
       "\\item 11\n",
       "\\item 11\n",
       "\\item 11\n",
       "\\item 10\n",
       "\\item 10\n",
       "\\item 10\n",
       "\\item 10\n",
       "\\item 10\n",
       "\\item 10\n",
       "\\item 10\n",
       "\\item 10\n",
       "\\item 10\n",
       "\\item 10\n",
       "\\item 10\n",
       "\\item 10\n",
       "\\item 10\n",
       "\\item 10\n",
       "\\item 10\n",
       "\\item 9\n",
       "\\item 9\n",
       "\\item 9\n",
       "\\item 9\n",
       "\\item 9\n",
       "\\item 9\n",
       "\\item 9\n",
       "\\item 9\n",
       "\\item 9\n",
       "\\item 9\n",
       "\\item 9\n",
       "\\item 9\n",
       "\\item 9\n",
       "\\item 9\n",
       "\\item 9\n",
       "\\item 9\n",
       "\\item 9\n",
       "\\item 9\n",
       "\\item 8\n",
       "\\item 8\n",
       "\\item 8\n",
       "\\item 8\n",
       "\\item 8\n",
       "\\item 8\n",
       "\\item 8\n",
       "\\item 8\n",
       "\\item 8\n",
       "\\item 8\n",
       "\\item 8\n",
       "\\item 8\n",
       "\\item 8\n",
       "\\item 8\n",
       "\\item 8\n",
       "\\item 8\n",
       "\\item 8\n",
       "\\item 8\n",
       "\\item 8\n",
       "\\item 8\n",
       "\\item 7\n",
       "\\item 7\n",
       "\\item 7\n",
       "\\item 7\n",
       "\\item 7\n",
       "\\item 7\n",
       "\\item 7\n",
       "\\item 7\n",
       "\\item 7\n",
       "\\item 7\n",
       "\\item 7\n",
       "\\item 7\n",
       "\\item 7\n",
       "\\item 7\n",
       "\\item 7\n",
       "\\item 7\n",
       "\\item 7\n",
       "\\item 7\n",
       "\\item 7\n",
       "\\item 7\n",
       "\\item 7\n",
       "\\item 7\n",
       "\\item 7\n",
       "\\item 7\n",
       "\\item 7\n",
       "\\item 7\n",
       "\\item 7\n",
       "\\item 6\n",
       "\\item 6\n",
       "\\item 6\n",
       "\\item 6\n",
       "\\item 6\n",
       "\\item 6\n",
       "\\item 6\n",
       "\\item 6\n",
       "\\item 6\n",
       "\\item 6\n",
       "\\item 6\n",
       "\\item 6\n",
       "\\item 6\n",
       "\\item 6\n",
       "\\item 6\n",
       "\\item 6\n",
       "\\item 6\n",
       "\\item 6\n",
       "\\item 6\n",
       "\\item 6\n",
       "\\item 6\n",
       "\\item 6\n",
       "\\item 5\n",
       "\\item 5\n",
       "\\item 5\n",
       "\\item 5\n",
       "\\item 5\n",
       "\\item 5\n",
       "\\item 5\n",
       "\\item 5\n",
       "\\item 5\n",
       "\\item 5\n",
       "\\item 5\n",
       "\\item 5\n",
       "\\item 5\n",
       "\\item 4\n",
       "\\item 4\n",
       "\\item 4\n",
       "\\item 4\n",
       "\\item 4\n",
       "\\item 4\n",
       "\\item 4\n",
       "\\item 4\n",
       "\\item 4\n",
       "\\item 4\n",
       "\\item 4\n",
       "\\item 4\n",
       "\\item 4\n",
       "\\item 3\n",
       "\\item 3\n",
       "\\item 3\n",
       "\\item 3\n",
       "\\item 3\n",
       "\\item 3\n",
       "\\item 3\n",
       "\\item 2\n",
       "\\item 2\n",
       "\\item 2\n",
       "\\item 2\n",
       "\\item 2\n",
       "\\item 1\n",
       "\\item 1\n",
       "\\item 1\n",
       "\\item 1\n",
       "\\item 1\n",
       "\\item 1\n",
       "\\item 1\n",
       "\\item 1\n",
       "\\item 1\n",
       "\\item 1\n",
       "\\item 1\n",
       "\\item 1\n",
       "\\item 1\n",
       "\\item 1\n",
       "\\item 1\n",
       "\\item 1\n",
       "\\item 1\n",
       "\\end{enumerate*}\n",
       "\n",
       "\\item[\\$`CHP\\_350-03-PBMC-DNA`] \\begin{enumerate*}\n",
       "\\item 52\n",
       "\\item 43\n",
       "\\item 36\n",
       "\\item 35\n",
       "\\item 33\n",
       "\\item 30\n",
       "\\item 30\n",
       "\\item 30\n",
       "\\item 28\n",
       "\\item 27\n",
       "\\item 27\n",
       "\\item 26\n",
       "\\item 25\n",
       "\\item 24\n",
       "\\item 24\n",
       "\\item 22\n",
       "\\item 22\n",
       "\\item 22\n",
       "\\item 21\n",
       "\\item 21\n",
       "\\item 21\n",
       "\\item 20\n",
       "\\item 20\n",
       "\\item 19\n",
       "\\item 19\n",
       "\\item 19\n",
       "\\item 19\n",
       "\\item 19\n",
       "\\item 19\n",
       "\\item 18\n",
       "\\item 18\n",
       "\\item 18\n",
       "\\item 18\n",
       "\\item 17\n",
       "\\item 17\n",
       "\\item 17\n",
       "\\item 16\n",
       "\\item 16\n",
       "\\item 16\n",
       "\\item 16\n",
       "\\item 15\n",
       "\\item 15\n",
       "\\item 15\n",
       "\\item 15\n",
       "\\item 15\n",
       "\\item 14\n",
       "\\item 14\n",
       "\\item 14\n",
       "\\item 14\n",
       "\\item 14\n",
       "\\item 13\n",
       "\\item 13\n",
       "\\item 13\n",
       "\\item 13\n",
       "\\item 13\n",
       "\\item 13\n",
       "\\item 13\n",
       "\\item 12\n",
       "\\item 12\n",
       "\\item 12\n",
       "\\item 12\n",
       "\\item 12\n",
       "\\item 12\n",
       "\\item 12\n",
       "\\item 12\n",
       "\\item 12\n",
       "\\item 12\n",
       "\\item 11\n",
       "\\item 11\n",
       "\\item 11\n",
       "\\item 11\n",
       "\\item 11\n",
       "\\item 11\n",
       "\\item 11\n",
       "\\item 11\n",
       "\\item 11\n",
       "\\item 10\n",
       "\\item 10\n",
       "\\item 10\n",
       "\\item 10\n",
       "\\item 10\n",
       "\\item 10\n",
       "\\item 10\n",
       "\\item 10\n",
       "\\item 10\n",
       "\\item 9\n",
       "\\item 9\n",
       "\\item 9\n",
       "\\item 9\n",
       "\\item 9\n",
       "\\item 9\n",
       "\\item 9\n",
       "\\item 9\n",
       "\\item 9\n",
       "\\item 9\n",
       "\\item 9\n",
       "\\item 8\n",
       "\\item 8\n",
       "\\item 8\n",
       "\\item 8\n",
       "\\item 8\n",
       "\\item 8\n",
       "\\item 8\n",
       "\\item 8\n",
       "\\item 8\n",
       "\\item 8\n",
       "\\item 8\n",
       "\\item 8\n",
       "\\item 8\n",
       "\\item 8\n",
       "\\item 8\n",
       "\\item 8\n",
       "\\item 8\n",
       "\\item 8\n",
       "\\item 8\n",
       "\\item 7\n",
       "\\item 7\n",
       "\\item 7\n",
       "\\item 7\n",
       "\\item 7\n",
       "\\item 7\n",
       "\\item 7\n",
       "\\item 7\n",
       "\\item 7\n",
       "\\item 7\n",
       "\\item 7\n",
       "\\item 7\n",
       "\\item 7\n",
       "\\item 6\n",
       "\\item 6\n",
       "\\item 6\n",
       "\\item 6\n",
       "\\item 6\n",
       "\\item 6\n",
       "\\item 6\n",
       "\\item 6\n",
       "\\item 6\n",
       "\\item 6\n",
       "\\item 6\n",
       "\\item 6\n",
       "\\item 6\n",
       "\\item 6\n",
       "\\item 6\n",
       "\\item 5\n",
       "\\item 5\n",
       "\\item 5\n",
       "\\item 5\n",
       "\\item 5\n",
       "\\item 5\n",
       "\\item 5\n",
       "\\item 5\n",
       "\\item 5\n",
       "\\item 5\n",
       "\\item 5\n",
       "\\item 5\n",
       "\\item 5\n",
       "\\item 5\n",
       "\\item 5\n",
       "\\item 5\n",
       "\\item 4\n",
       "\\item 4\n",
       "\\item 4\n",
       "\\item 4\n",
       "\\item 4\n",
       "\\item 4\n",
       "\\item 4\n",
       "\\item 4\n",
       "\\item 4\n",
       "\\item 4\n",
       "\\item 4\n",
       "\\item 4\n",
       "\\item 4\n",
       "\\item 4\n",
       "\\item 4\n",
       "\\item 4\n",
       "\\item 4\n",
       "\\item 4\n",
       "\\item 4\n",
       "\\item 4\n",
       "\\item 4\n",
       "\\item 3\n",
       "\\item 3\n",
       "\\item 3\n",
       "\\item 3\n",
       "\\item 3\n",
       "\\item 3\n",
       "\\item 3\n",
       "\\item 3\n",
       "\\item 2\n",
       "\\item 2\n",
       "\\item 2\n",
       "\\item 2\n",
       "\\item 2\n",
       "\\item 2\n",
       "\\item 2\n",
       "\\item 2\n",
       "\\item 2\n",
       "\\item 2\n",
       "\\item 1\n",
       "\\item 1\n",
       "\\item 1\n",
       "\\item 1\n",
       "\\item 1\n",
       "\\item 1\n",
       "\\item 1\n",
       "\\item 1\n",
       "\\item 1\n",
       "\\end{enumerate*}\n",
       "\n",
       "\\item[\\$`CHP\\_350-04-PBMC-DNA`] \\begin{enumerate*}\n",
       "\\item 34\n",
       "\\item 33\n",
       "\\item 31\n",
       "\\item 29\n",
       "\\item 25\n",
       "\\item 23\n",
       "\\item 23\n",
       "\\item 23\n",
       "\\item 22\n",
       "\\item 21\n",
       "\\item 19\n",
       "\\item 18\n",
       "\\item 17\n",
       "\\item 17\n",
       "\\item 16\n",
       "\\item 15\n",
       "\\item 15\n",
       "\\item 15\n",
       "\\item 14\n",
       "\\item 14\n",
       "\\item 14\n",
       "\\item 14\n",
       "\\item 14\n",
       "\\item 13\n",
       "\\item 13\n",
       "\\item 13\n",
       "\\item 13\n",
       "\\item 13\n",
       "\\item 12\n",
       "\\item 12\n",
       "\\item 12\n",
       "\\item 12\n",
       "\\item 11\n",
       "\\item 11\n",
       "\\item 11\n",
       "\\item 11\n",
       "\\item 10\n",
       "\\item 10\n",
       "\\item 9\n",
       "\\item 9\n",
       "\\item 9\n",
       "\\item 9\n",
       "\\item 9\n",
       "\\item 9\n",
       "\\item 9\n",
       "\\item 9\n",
       "\\item 9\n",
       "\\item 8\n",
       "\\item 8\n",
       "\\item 8\n",
       "\\item 8\n",
       "\\item 8\n",
       "\\item 8\n",
       "\\item 8\n",
       "\\item 7\n",
       "\\item 7\n",
       "\\item 7\n",
       "\\item 7\n",
       "\\item 7\n",
       "\\item 7\n",
       "\\item 7\n",
       "\\item 7\n",
       "\\item 6\n",
       "\\item 6\n",
       "\\item 6\n",
       "\\item 6\n",
       "\\item 6\n",
       "\\item 6\n",
       "\\item 5\n",
       "\\item 5\n",
       "\\item 5\n",
       "\\item 5\n",
       "\\item 5\n",
       "\\item 5\n",
       "\\item 5\n",
       "\\item 5\n",
       "\\item 4\n",
       "\\item 4\n",
       "\\item 4\n",
       "\\item 4\n",
       "\\item 4\n",
       "\\item 4\n",
       "\\item 4\n",
       "\\item 4\n",
       "\\item 4\n",
       "\\item 3\n",
       "\\item 3\n",
       "\\item 3\n",
       "\\item 3\n",
       "\\item 3\n",
       "\\item 3\n",
       "\\item 3\n",
       "\\item 3\n",
       "\\item 3\n",
       "\\item 2\n",
       "\\item 2\n",
       "\\item 1\n",
       "\\item 1\n",
       "\\item 1\n",
       "\\item 1\n",
       "\\item 1\n",
       "\\item 1\n",
       "\\item 1\n",
       "\\item 1\n",
       "\\item 1\n",
       "\\item 1\n",
       "\\end{enumerate*}\n",
       "\n",
       "\\item[\\$`CHP\\_353-02-PBMC-DNA`] \\begin{enumerate*}\n",
       "\\item 35\n",
       "\\item 23\n",
       "\\item 21\n",
       "\\item 21\n",
       "\\item 18\n",
       "\\item 18\n",
       "\\item 17\n",
       "\\item 16\n",
       "\\item 16\n",
       "\\item 12\n",
       "\\item 11\n",
       "\\item 9\n",
       "\\item 9\n",
       "\\item 4\n",
       "\\item 3\n",
       "\\item 1\n",
       "\\end{enumerate*}\n",
       "\n",
       "\\end{description}\n"
      ],
      "text/markdown": [
       "$`CHP_315-05-PBMC-DNA`\n",
       ":   1. 187\n",
       "2. 48\n",
       "3. 48\n",
       "4. 42\n",
       "5. 32\n",
       "6. 29\n",
       "7. 29\n",
       "8. 25\n",
       "9. 24\n",
       "10. 21\n",
       "11. 21\n",
       "12. 19\n",
       "13. 18\n",
       "14. 17\n",
       "15. 15\n",
       "16. 15\n",
       "17. 12\n",
       "18. 12\n",
       "19. 8\n",
       "20. 8\n",
       "21. 6\n",
       "22. 6\n",
       "23. 5\n",
       "24. 5\n",
       "25. 4\n",
       "26. 2\n",
       "27. 1\n",
       "\n",
       "\n",
       "\n",
       "$`CHP_350-01-PBMC-DNA`\n",
       ":   1. 59\n",
       "2. 44\n",
       "3. 41\n",
       "4. 40\n",
       "5. 31\n",
       "6. 29\n",
       "7. 29\n",
       "8. 28\n",
       "9. 27\n",
       "10. 24\n",
       "11. 23\n",
       "12. 22\n",
       "13. 21\n",
       "14. 21\n",
       "15. 20\n",
       "16. 19\n",
       "17. 19\n",
       "18. 19\n",
       "19. 19\n",
       "20. 19\n",
       "21. 18\n",
       "22. 18\n",
       "23. 16\n",
       "24. 16\n",
       "25. 16\n",
       "26. 16\n",
       "27. 16\n",
       "28. 15\n",
       "29. 15\n",
       "30. 15\n",
       "31. 14\n",
       "32. 14\n",
       "33. 14\n",
       "34. 13\n",
       "35. 13\n",
       "36. 13\n",
       "37. 12\n",
       "38. 12\n",
       "39. 12\n",
       "40. 12\n",
       "41. 12\n",
       "42. 12\n",
       "43. 12\n",
       "44. 12\n",
       "45. 12\n",
       "46. 12\n",
       "47. 12\n",
       "48. 12\n",
       "49. 12\n",
       "50. 12\n",
       "51. 11\n",
       "52. 11\n",
       "53. 11\n",
       "54. 11\n",
       "55. 11\n",
       "56. 11\n",
       "57. 11\n",
       "58. 11\n",
       "59. 11\n",
       "60. 11\n",
       "61. 11\n",
       "62. 11\n",
       "63. 11\n",
       "64. 10\n",
       "65. 10\n",
       "66. 10\n",
       "67. 10\n",
       "68. 10\n",
       "69. 10\n",
       "70. 10\n",
       "71. 10\n",
       "72. 9\n",
       "73. 9\n",
       "74. 9\n",
       "75. 9\n",
       "76. 9\n",
       "77. 9\n",
       "78. 9\n",
       "79. 8\n",
       "80. 8\n",
       "81. 8\n",
       "82. 8\n",
       "83. 8\n",
       "84. 8\n",
       "85. 8\n",
       "86. 8\n",
       "87. 8\n",
       "88. 8\n",
       "89. 8\n",
       "90. 8\n",
       "91. 8\n",
       "92. 8\n",
       "93. 7\n",
       "94. 7\n",
       "95. 7\n",
       "96. 7\n",
       "97. 7\n",
       "98. 7\n",
       "99. 7\n",
       "100. 7\n",
       "101. 7\n",
       "102. 7\n",
       "103. 7\n",
       "104. 7\n",
       "105. 7\n",
       "106. 7\n",
       "107. 7\n",
       "108. 6\n",
       "109. 6\n",
       "110. 6\n",
       "111. 6\n",
       "112. 6\n",
       "113. 6\n",
       "114. 6\n",
       "115. 6\n",
       "116. 6\n",
       "117. 6\n",
       "118. 5\n",
       "119. 5\n",
       "120. 5\n",
       "121. 5\n",
       "122. 5\n",
       "123. 5\n",
       "124. 5\n",
       "125. 5\n",
       "126. 5\n",
       "127. 5\n",
       "128. 5\n",
       "129. 4\n",
       "130. 4\n",
       "131. 4\n",
       "132. 4\n",
       "133. 4\n",
       "134. 4\n",
       "135. 3\n",
       "136. 3\n",
       "137. 3\n",
       "138. 3\n",
       "139. 3\n",
       "140. 3\n",
       "141. 3\n",
       "142. 3\n",
       "143. 2\n",
       "144. 2\n",
       "145. 2\n",
       "146. 2\n",
       "147. 2\n",
       "148. 2\n",
       "149. 1\n",
       "150. 1\n",
       "151. 1\n",
       "152. 1\n",
       "153. 1\n",
       "\n",
       "\n",
       "\n",
       "$`CHP_350-02-PBMC-DNA`\n",
       ":   1. 92\n",
       "2. 58\n",
       "3. 47\n",
       "4. 44\n",
       "5. 38\n",
       "6. 34\n",
       "7. 30\n",
       "8. 30\n",
       "9. 28\n",
       "10. 27\n",
       "11. 27\n",
       "12. 27\n",
       "13. 26\n",
       "14. 26\n",
       "15. 25\n",
       "16. 25\n",
       "17. 25\n",
       "18. 24\n",
       "19. 24\n",
       "20. 23\n",
       "21. 22\n",
       "22. 22\n",
       "23. 22\n",
       "24. 21\n",
       "25. 21\n",
       "26. 21\n",
       "27. 21\n",
       "28. 20\n",
       "29. 20\n",
       "30. 20\n",
       "31. 20\n",
       "32. 20\n",
       "33. 20\n",
       "34. 20\n",
       "35. 19\n",
       "36. 19\n",
       "37. 18\n",
       "38. 18\n",
       "39. 18\n",
       "40. 18\n",
       "41. 17\n",
       "42. 17\n",
       "43. 17\n",
       "44. 16\n",
       "45. 16\n",
       "46. 16\n",
       "47. 16\n",
       "48. 16\n",
       "49. 16\n",
       "50. 16\n",
       "51. 15\n",
       "52. 15\n",
       "53. 15\n",
       "54. 15\n",
       "55. 15\n",
       "56. 15\n",
       "57. 15\n",
       "58. 14\n",
       "59. 14\n",
       "60. 14\n",
       "61. 14\n",
       "62. 14\n",
       "63. 14\n",
       "64. 14\n",
       "65. 14\n",
       "66. 14\n",
       "67. 14\n",
       "68. 14\n",
       "69. 13\n",
       "70. 13\n",
       "71. 13\n",
       "72. 13\n",
       "73. 13\n",
       "74. 13\n",
       "75. 13\n",
       "76. 13\n",
       "77. 13\n",
       "78. 13\n",
       "79. 13\n",
       "80. 13\n",
       "81. 13\n",
       "82. 13\n",
       "83. 13\n",
       "84. 13\n",
       "85. 13\n",
       "86. 12\n",
       "87. 12\n",
       "88. 12\n",
       "89. 12\n",
       "90. 12\n",
       "91. 12\n",
       "92. 12\n",
       "93. 12\n",
       "94. 12\n",
       "95. 12\n",
       "96. 12\n",
       "97. 12\n",
       "98. 12\n",
       "99. 12\n",
       "100. 11\n",
       "101. 11\n",
       "102. 11\n",
       "103. 11\n",
       "104. 11\n",
       "105. 11\n",
       "106. 11\n",
       "107. 11\n",
       "108. 11\n",
       "109. 11\n",
       "110. 11\n",
       "111. 11\n",
       "112. 11\n",
       "113. 10\n",
       "114. 10\n",
       "115. 10\n",
       "116. 10\n",
       "117. 10\n",
       "118. 10\n",
       "119. 10\n",
       "120. 10\n",
       "121. 10\n",
       "122. 10\n",
       "123. 10\n",
       "124. 10\n",
       "125. 10\n",
       "126. 10\n",
       "127. 10\n",
       "128. 9\n",
       "129. 9\n",
       "130. 9\n",
       "131. 9\n",
       "132. 9\n",
       "133. 9\n",
       "134. 9\n",
       "135. 9\n",
       "136. 9\n",
       "137. 9\n",
       "138. 9\n",
       "139. 9\n",
       "140. 9\n",
       "141. 9\n",
       "142. 9\n",
       "143. 9\n",
       "144. 9\n",
       "145. 9\n",
       "146. 8\n",
       "147. 8\n",
       "148. 8\n",
       "149. 8\n",
       "150. 8\n",
       "151. 8\n",
       "152. 8\n",
       "153. 8\n",
       "154. 8\n",
       "155. 8\n",
       "156. 8\n",
       "157. 8\n",
       "158. 8\n",
       "159. 8\n",
       "160. 8\n",
       "161. 8\n",
       "162. 8\n",
       "163. 8\n",
       "164. 8\n",
       "165. 8\n",
       "166. 7\n",
       "167. 7\n",
       "168. 7\n",
       "169. 7\n",
       "170. 7\n",
       "171. 7\n",
       "172. 7\n",
       "173. 7\n",
       "174. 7\n",
       "175. 7\n",
       "176. 7\n",
       "177. 7\n",
       "178. 7\n",
       "179. 7\n",
       "180. 7\n",
       "181. 7\n",
       "182. 7\n",
       "183. 7\n",
       "184. 7\n",
       "185. 7\n",
       "186. 7\n",
       "187. 7\n",
       "188. 7\n",
       "189. 7\n",
       "190. 7\n",
       "191. 7\n",
       "192. 7\n",
       "193. 6\n",
       "194. 6\n",
       "195. 6\n",
       "196. 6\n",
       "197. 6\n",
       "198. 6\n",
       "199. 6\n",
       "200. 6\n",
       "201. 6\n",
       "202. 6\n",
       "203. 6\n",
       "204. 6\n",
       "205. 6\n",
       "206. 6\n",
       "207. 6\n",
       "208. 6\n",
       "209. 6\n",
       "210. 6\n",
       "211. 6\n",
       "212. 6\n",
       "213. 6\n",
       "214. 6\n",
       "215. 5\n",
       "216. 5\n",
       "217. 5\n",
       "218. 5\n",
       "219. 5\n",
       "220. 5\n",
       "221. 5\n",
       "222. 5\n",
       "223. 5\n",
       "224. 5\n",
       "225. 5\n",
       "226. 5\n",
       "227. 5\n",
       "228. 4\n",
       "229. 4\n",
       "230. 4\n",
       "231. 4\n",
       "232. 4\n",
       "233. 4\n",
       "234. 4\n",
       "235. 4\n",
       "236. 4\n",
       "237. 4\n",
       "238. 4\n",
       "239. 4\n",
       "240. 4\n",
       "241. 3\n",
       "242. 3\n",
       "243. 3\n",
       "244. 3\n",
       "245. 3\n",
       "246. 3\n",
       "247. 3\n",
       "248. 2\n",
       "249. 2\n",
       "250. 2\n",
       "251. 2\n",
       "252. 2\n",
       "253. 1\n",
       "254. 1\n",
       "255. 1\n",
       "256. 1\n",
       "257. 1\n",
       "258. 1\n",
       "259. 1\n",
       "260. 1\n",
       "261. 1\n",
       "262. 1\n",
       "263. 1\n",
       "264. 1\n",
       "265. 1\n",
       "266. 1\n",
       "267. 1\n",
       "268. 1\n",
       "269. 1\n",
       "\n",
       "\n",
       "\n",
       "$`CHP_350-03-PBMC-DNA`\n",
       ":   1. 52\n",
       "2. 43\n",
       "3. 36\n",
       "4. 35\n",
       "5. 33\n",
       "6. 30\n",
       "7. 30\n",
       "8. 30\n",
       "9. 28\n",
       "10. 27\n",
       "11. 27\n",
       "12. 26\n",
       "13. 25\n",
       "14. 24\n",
       "15. 24\n",
       "16. 22\n",
       "17. 22\n",
       "18. 22\n",
       "19. 21\n",
       "20. 21\n",
       "21. 21\n",
       "22. 20\n",
       "23. 20\n",
       "24. 19\n",
       "25. 19\n",
       "26. 19\n",
       "27. 19\n",
       "28. 19\n",
       "29. 19\n",
       "30. 18\n",
       "31. 18\n",
       "32. 18\n",
       "33. 18\n",
       "34. 17\n",
       "35. 17\n",
       "36. 17\n",
       "37. 16\n",
       "38. 16\n",
       "39. 16\n",
       "40. 16\n",
       "41. 15\n",
       "42. 15\n",
       "43. 15\n",
       "44. 15\n",
       "45. 15\n",
       "46. 14\n",
       "47. 14\n",
       "48. 14\n",
       "49. 14\n",
       "50. 14\n",
       "51. 13\n",
       "52. 13\n",
       "53. 13\n",
       "54. 13\n",
       "55. 13\n",
       "56. 13\n",
       "57. 13\n",
       "58. 12\n",
       "59. 12\n",
       "60. 12\n",
       "61. 12\n",
       "62. 12\n",
       "63. 12\n",
       "64. 12\n",
       "65. 12\n",
       "66. 12\n",
       "67. 12\n",
       "68. 11\n",
       "69. 11\n",
       "70. 11\n",
       "71. 11\n",
       "72. 11\n",
       "73. 11\n",
       "74. 11\n",
       "75. 11\n",
       "76. 11\n",
       "77. 10\n",
       "78. 10\n",
       "79. 10\n",
       "80. 10\n",
       "81. 10\n",
       "82. 10\n",
       "83. 10\n",
       "84. 10\n",
       "85. 10\n",
       "86. 9\n",
       "87. 9\n",
       "88. 9\n",
       "89. 9\n",
       "90. 9\n",
       "91. 9\n",
       "92. 9\n",
       "93. 9\n",
       "94. 9\n",
       "95. 9\n",
       "96. 9\n",
       "97. 8\n",
       "98. 8\n",
       "99. 8\n",
       "100. 8\n",
       "101. 8\n",
       "102. 8\n",
       "103. 8\n",
       "104. 8\n",
       "105. 8\n",
       "106. 8\n",
       "107. 8\n",
       "108. 8\n",
       "109. 8\n",
       "110. 8\n",
       "111. 8\n",
       "112. 8\n",
       "113. 8\n",
       "114. 8\n",
       "115. 8\n",
       "116. 7\n",
       "117. 7\n",
       "118. 7\n",
       "119. 7\n",
       "120. 7\n",
       "121. 7\n",
       "122. 7\n",
       "123. 7\n",
       "124. 7\n",
       "125. 7\n",
       "126. 7\n",
       "127. 7\n",
       "128. 7\n",
       "129. 6\n",
       "130. 6\n",
       "131. 6\n",
       "132. 6\n",
       "133. 6\n",
       "134. 6\n",
       "135. 6\n",
       "136. 6\n",
       "137. 6\n",
       "138. 6\n",
       "139. 6\n",
       "140. 6\n",
       "141. 6\n",
       "142. 6\n",
       "143. 6\n",
       "144. 5\n",
       "145. 5\n",
       "146. 5\n",
       "147. 5\n",
       "148. 5\n",
       "149. 5\n",
       "150. 5\n",
       "151. 5\n",
       "152. 5\n",
       "153. 5\n",
       "154. 5\n",
       "155. 5\n",
       "156. 5\n",
       "157. 5\n",
       "158. 5\n",
       "159. 5\n",
       "160. 4\n",
       "161. 4\n",
       "162. 4\n",
       "163. 4\n",
       "164. 4\n",
       "165. 4\n",
       "166. 4\n",
       "167. 4\n",
       "168. 4\n",
       "169. 4\n",
       "170. 4\n",
       "171. 4\n",
       "172. 4\n",
       "173. 4\n",
       "174. 4\n",
       "175. 4\n",
       "176. 4\n",
       "177. 4\n",
       "178. 4\n",
       "179. 4\n",
       "180. 4\n",
       "181. 3\n",
       "182. 3\n",
       "183. 3\n",
       "184. 3\n",
       "185. 3\n",
       "186. 3\n",
       "187. 3\n",
       "188. 3\n",
       "189. 2\n",
       "190. 2\n",
       "191. 2\n",
       "192. 2\n",
       "193. 2\n",
       "194. 2\n",
       "195. 2\n",
       "196. 2\n",
       "197. 2\n",
       "198. 2\n",
       "199. 1\n",
       "200. 1\n",
       "201. 1\n",
       "202. 1\n",
       "203. 1\n",
       "204. 1\n",
       "205. 1\n",
       "206. 1\n",
       "207. 1\n",
       "\n",
       "\n",
       "\n",
       "$`CHP_350-04-PBMC-DNA`\n",
       ":   1. 34\n",
       "2. 33\n",
       "3. 31\n",
       "4. 29\n",
       "5. 25\n",
       "6. 23\n",
       "7. 23\n",
       "8. 23\n",
       "9. 22\n",
       "10. 21\n",
       "11. 19\n",
       "12. 18\n",
       "13. 17\n",
       "14. 17\n",
       "15. 16\n",
       "16. 15\n",
       "17. 15\n",
       "18. 15\n",
       "19. 14\n",
       "20. 14\n",
       "21. 14\n",
       "22. 14\n",
       "23. 14\n",
       "24. 13\n",
       "25. 13\n",
       "26. 13\n",
       "27. 13\n",
       "28. 13\n",
       "29. 12\n",
       "30. 12\n",
       "31. 12\n",
       "32. 12\n",
       "33. 11\n",
       "34. 11\n",
       "35. 11\n",
       "36. 11\n",
       "37. 10\n",
       "38. 10\n",
       "39. 9\n",
       "40. 9\n",
       "41. 9\n",
       "42. 9\n",
       "43. 9\n",
       "44. 9\n",
       "45. 9\n",
       "46. 9\n",
       "47. 9\n",
       "48. 8\n",
       "49. 8\n",
       "50. 8\n",
       "51. 8\n",
       "52. 8\n",
       "53. 8\n",
       "54. 8\n",
       "55. 7\n",
       "56. 7\n",
       "57. 7\n",
       "58. 7\n",
       "59. 7\n",
       "60. 7\n",
       "61. 7\n",
       "62. 7\n",
       "63. 6\n",
       "64. 6\n",
       "65. 6\n",
       "66. 6\n",
       "67. 6\n",
       "68. 6\n",
       "69. 5\n",
       "70. 5\n",
       "71. 5\n",
       "72. 5\n",
       "73. 5\n",
       "74. 5\n",
       "75. 5\n",
       "76. 5\n",
       "77. 4\n",
       "78. 4\n",
       "79. 4\n",
       "80. 4\n",
       "81. 4\n",
       "82. 4\n",
       "83. 4\n",
       "84. 4\n",
       "85. 4\n",
       "86. 3\n",
       "87. 3\n",
       "88. 3\n",
       "89. 3\n",
       "90. 3\n",
       "91. 3\n",
       "92. 3\n",
       "93. 3\n",
       "94. 3\n",
       "95. 2\n",
       "96. 2\n",
       "97. 1\n",
       "98. 1\n",
       "99. 1\n",
       "100. 1\n",
       "101. 1\n",
       "102. 1\n",
       "103. 1\n",
       "104. 1\n",
       "105. 1\n",
       "106. 1\n",
       "\n",
       "\n",
       "\n",
       "$`CHP_353-02-PBMC-DNA`\n",
       ":   1. 35\n",
       "2. 23\n",
       "3. 21\n",
       "4. 21\n",
       "5. 18\n",
       "6. 18\n",
       "7. 17\n",
       "8. 16\n",
       "9. 16\n",
       "10. 12\n",
       "11. 11\n",
       "12. 9\n",
       "13. 9\n",
       "14. 4\n",
       "15. 3\n",
       "16. 1\n",
       "\n",
       "\n",
       "\n",
       "\n",
       "\n"
      ],
      "text/plain": [
       "$`CHP_315-05-PBMC-DNA`\n",
       " [1] 187  48  48  42  32  29  29  25  24  21  21  19  18  17  15  15  12  12   8\n",
       "[20]   8   6   6   5   5   4   2   1\n",
       "\n",
       "$`CHP_350-01-PBMC-DNA`\n",
       "  [1] 59 44 41 40 31 29 29 28 27 24 23 22 21 21 20 19 19 19 19 19 18 18 16 16 16\n",
       " [26] 16 16 15 15 15 14 14 14 13 13 13 12 12 12 12 12 12 12 12 12 12 12 12 12 12\n",
       " [51] 11 11 11 11 11 11 11 11 11 11 11 11 11 10 10 10 10 10 10 10 10  9  9  9  9\n",
       " [76]  9  9  9  8  8  8  8  8  8  8  8  8  8  8  8  8  8  7  7  7  7  7  7  7  7\n",
       "[101]  7  7  7  7  7  7  7  6  6  6  6  6  6  6  6  6  6  5  5  5  5  5  5  5  5\n",
       "[126]  5  5  5  4  4  4  4  4  4  3  3  3  3  3  3  3  3  2  2  2  2  2  2  1  1\n",
       "[151]  1  1  1\n",
       "\n",
       "$`CHP_350-02-PBMC-DNA`\n",
       "  [1] 92 58 47 44 38 34 30 30 28 27 27 27 26 26 25 25 25 24 24 23 22 22 22 21 21\n",
       " [26] 21 21 20 20 20 20 20 20 20 19 19 18 18 18 18 17 17 17 16 16 16 16 16 16 16\n",
       " [51] 15 15 15 15 15 15 15 14 14 14 14 14 14 14 14 14 14 14 13 13 13 13 13 13 13\n",
       " [76] 13 13 13 13 13 13 13 13 13 13 12 12 12 12 12 12 12 12 12 12 12 12 12 12 11\n",
       "[101] 11 11 11 11 11 11 11 11 11 11 11 11 10 10 10 10 10 10 10 10 10 10 10 10 10\n",
       "[126] 10 10  9  9  9  9  9  9  9  9  9  9  9  9  9  9  9  9  9  9  8  8  8  8  8\n",
       "[151]  8  8  8  8  8  8  8  8  8  8  8  8  8  8  8  7  7  7  7  7  7  7  7  7  7\n",
       "[176]  7  7  7  7  7  7  7  7  7  7  7  7  7  7  7  7  7  6  6  6  6  6  6  6  6\n",
       "[201]  6  6  6  6  6  6  6  6  6  6  6  6  6  6  5  5  5  5  5  5  5  5  5  5  5\n",
       "[226]  5  5  4  4  4  4  4  4  4  4  4  4  4  4  4  3  3  3  3  3  3  3  2  2  2\n",
       "[251]  2  2  1  1  1  1  1  1  1  1  1  1  1  1  1  1  1  1  1\n",
       "\n",
       "$`CHP_350-03-PBMC-DNA`\n",
       "  [1] 52 43 36 35 33 30 30 30 28 27 27 26 25 24 24 22 22 22 21 21 21 20 20 19 19\n",
       " [26] 19 19 19 19 18 18 18 18 17 17 17 16 16 16 16 15 15 15 15 15 14 14 14 14 14\n",
       " [51] 13 13 13 13 13 13 13 12 12 12 12 12 12 12 12 12 12 11 11 11 11 11 11 11 11\n",
       " [76] 11 10 10 10 10 10 10 10 10 10  9  9  9  9  9  9  9  9  9  9  9  8  8  8  8\n",
       "[101]  8  8  8  8  8  8  8  8  8  8  8  8  8  8  8  7  7  7  7  7  7  7  7  7  7\n",
       "[126]  7  7  7  6  6  6  6  6  6  6  6  6  6  6  6  6  6  6  5  5  5  5  5  5  5\n",
       "[151]  5  5  5  5  5  5  5  5  5  4  4  4  4  4  4  4  4  4  4  4  4  4  4  4  4\n",
       "[176]  4  4  4  4  4  3  3  3  3  3  3  3  3  2  2  2  2  2  2  2  2  2  2  1  1\n",
       "[201]  1  1  1  1  1  1  1\n",
       "\n",
       "$`CHP_350-04-PBMC-DNA`\n",
       "  [1] 34 33 31 29 25 23 23 23 22 21 19 18 17 17 16 15 15 15 14 14 14 14 14 13 13\n",
       " [26] 13 13 13 12 12 12 12 11 11 11 11 10 10  9  9  9  9  9  9  9  9  9  8  8  8\n",
       " [51]  8  8  8  8  7  7  7  7  7  7  7  7  6  6  6  6  6  6  5  5  5  5  5  5  5\n",
       " [76]  5  4  4  4  4  4  4  4  4  4  3  3  3  3  3  3  3  3  3  2  2  1  1  1  1\n",
       "[101]  1  1  1  1  1  1\n",
       "\n",
       "$`CHP_353-02-PBMC-DNA`\n",
       " [1] 35 23 21 21 18 18 17 16 16 12 11  9  9  4  3  1\n"
      ]
     },
     "metadata": {},
     "output_type": "display_data"
    }
   ],
   "source": [
    "head(TRBlist)"
   ]
  },
  {
   "cell_type": "code",
   "execution_count": null,
   "metadata": {
    "vscode": {
     "languageId": "r"
    }
   },
   "outputs": [],
   "source": [
    "baseline_patients <- rownames(mytab)[ mytab[,1] == 1]"
   ]
  },
  {
   "cell_type": "code",
   "execution_count": null,
   "metadata": {
    "vscode": {
     "languageId": "r"
    }
   },
   "outputs": [],
   "source": [
    "cfdna1 <- cfdna[ cfdna$Patient %in% baseline_patients,]"
   ]
  },
  {
   "cell_type": "code",
   "execution_count": null,
   "metadata": {
    "vscode": {
     "languageId": "r"
    }
   },
   "outputs": [],
   "source": [
    "result <- cfdna1 %>%\n",
    "  group_by(Patient) %>%\n",
    "  mutate(Difference = log10shann - log10shann[cycle == \"X01\"])"
   ]
  },
  {
   "cell_type": "code",
   "execution_count": null,
   "metadata": {
    "vscode": {
     "languageId": "r"
    }
   },
   "outputs": [],
   "source": [
    "# result$status <- NA\n",
    "# # result$status[ which(result$Patient %in% c(\"CHP_342\", \"CHP_354\", \"CHP_359\", \"CHP_376\", \"CHP_395\"))] <- \"Passed\"\n",
    "# result$status[ which(result$Patient %in% c(\"CHP_411\", \"CHP_402\", \"CHP_377\"))] <- \"CART\""
   ]
  },
  {
   "cell_type": "code",
   "execution_count": null,
   "metadata": {
    "vscode": {
     "languageId": "r"
    }
   },
   "outputs": [
    {
     "data": {
      "text/html": [
       "<table class=\"dataframe\">\n",
       "<caption>A grouped_df: 1 x 65</caption>\n",
       "<thead>\n",
       "\t<tr><th scope=col>sample_id</th><th scope=col>Patient</th><th scope=col>cycle</th><th scope=col>FOLD</th><th scope=col>ATC</th><th scope=col>Age</th><th scope=col>Disease_type</th><th scope=col>TE_fold</th><th scope=col>CD3</th><th scope=col>EM</th><th scope=col>...</th><th scope=col>SE_Shannon</th><th scope=col>observed_Simpson</th><th scope=col>estimated_Simpson</th><th scope=col>SE_Simpson</th><th scope=col>file</th><th scope=col>basename</th><th scope=col>Group</th><th scope=col>sampletype</th><th scope=col>log10shann</th><th scope=col>Difference</th></tr>\n",
       "\t<tr><th scope=col>&lt;chr&gt;</th><th scope=col>&lt;chr&gt;</th><th scope=col>&lt;chr&gt;</th><th scope=col>&lt;dbl&gt;</th><th scope=col>&lt;dbl&gt;</th><th scope=col>&lt;dbl&gt;</th><th scope=col>&lt;chr&gt;</th><th scope=col>&lt;dbl&gt;</th><th scope=col>&lt;int&gt;</th><th scope=col>&lt;int&gt;</th><th scope=col>...</th><th scope=col>&lt;dbl&gt;</th><th scope=col>&lt;dbl&gt;</th><th scope=col>&lt;dbl&gt;</th><th scope=col>&lt;dbl&gt;</th><th scope=col>&lt;chr&gt;</th><th scope=col>&lt;chr&gt;</th><th scope=col>&lt;chr&gt;</th><th scope=col>&lt;chr&gt;</th><th scope=col>&lt;dbl&gt;</th><th scope=col>&lt;dbl&gt;</th></tr>\n",
       "</thead>\n",
       "<tbody>\n",
       "\t<tr><td>CHP_387_03</td><td>CHP_387</td><td>X03</td><td>NA</td><td>483.72</td><td>13</td><td>T-ALL</td><td>NA</td><td>2356</td><td>60</td><td>...</td><td>0.054</td><td>4.088</td><td>4.09</td><td>0.052</td><td>batch11_cfDNA_11Sep2020/mixcr/clones/CLONES_TRBCHP_387-03_cfDNA.txt</td><td>CHP_387-03_cfDNA</td><td>CHP</td><td>cfDNA</td><td>0.731347</td><td>0.7223212</td></tr>\n",
       "</tbody>\n",
       "</table>\n"
      ],
      "text/latex": [
       "A grouped\\_df: 1 x 65\n",
       "\\begin{tabular}{lllllllllllllllllllll}\n",
       " sample\\_id & Patient & cycle & FOLD & ATC & Age & Disease\\_type & TE\\_fold & CD3 & EM & ... & SE\\_Shannon & observed\\_Simpson & estimated\\_Simpson & SE\\_Simpson & file & basename & Group & sampletype & log10shann & Difference\\\\\n",
       " <chr> & <chr> & <chr> & <dbl> & <dbl> & <dbl> & <chr> & <dbl> & <int> & <int> & ... & <dbl> & <dbl> & <dbl> & <dbl> & <chr> & <chr> & <chr> & <chr> & <dbl> & <dbl>\\\\\n",
       "\\hline\n",
       "\t CHP\\_387\\_03 & CHP\\_387 & X03 & NA & 483.72 & 13 & T-ALL & NA & 2356 & 60 & ... & 0.054 & 4.088 & 4.09 & 0.052 & batch11\\_cfDNA\\_11Sep2020/mixcr/clones/CLONES\\_TRBCHP\\_387-03\\_cfDNA.txt & CHP\\_387-03\\_cfDNA & CHP & cfDNA & 0.731347 & 0.7223212\\\\\n",
       "\\end{tabular}\n"
      ],
      "text/markdown": [
       "\n",
       "A grouped_df: 1 x 65\n",
       "\n",
       "| sample_id &lt;chr&gt; | Patient &lt;chr&gt; | cycle &lt;chr&gt; | FOLD &lt;dbl&gt; | ATC &lt;dbl&gt; | Age &lt;dbl&gt; | Disease_type &lt;chr&gt; | TE_fold &lt;dbl&gt; | CD3 &lt;int&gt; | EM &lt;int&gt; | ... ... | SE_Shannon &lt;dbl&gt; | observed_Simpson &lt;dbl&gt; | estimated_Simpson &lt;dbl&gt; | SE_Simpson &lt;dbl&gt; | file &lt;chr&gt; | basename &lt;chr&gt; | Group &lt;chr&gt; | sampletype &lt;chr&gt; | log10shann &lt;dbl&gt; | Difference &lt;dbl&gt; |\n",
       "|---|---|---|---|---|---|---|---|---|---|---|---|---|---|---|---|---|---|---|---|---|\n",
       "| CHP_387_03 | CHP_387 | X03 | NA | 483.72 | 13 | T-ALL | NA | 2356 | 60 | ... | 0.054 | 4.088 | 4.09 | 0.052 | batch11_cfDNA_11Sep2020/mixcr/clones/CLONES_TRBCHP_387-03_cfDNA.txt | CHP_387-03_cfDNA | CHP | cfDNA | 0.731347 | 0.7223212 |\n",
       "\n"
      ],
      "text/plain": [
       "  sample_id  Patient cycle FOLD ATC    Age Disease_type TE_fold CD3  EM ...\n",
       "1 CHP_387_03 CHP_387 X03   NA   483.72 13  T-ALL        NA      2356 60 ...\n",
       "  SE_Shannon observed_Simpson estimated_Simpson SE_Simpson\n",
       "1 0.054      4.088            4.09              0.052     \n",
       "  file                                                               \n",
       "1 batch11_cfDNA_11Sep2020/mixcr/clones/CLONES_TRBCHP_387-03_cfDNA.txt\n",
       "  basename         Group sampletype log10shann Difference\n",
       "1 CHP_387-03_cfDNA CHP   cfDNA      0.731347   0.7223212 "
      ]
     },
     "metadata": {},
     "output_type": "display_data"
    }
   ],
   "source": [
    "result[is.na(result$foldgroup),]"
   ]
  },
  {
   "cell_type": "code",
   "execution_count": null,
   "metadata": {
    "vscode": {
     "languageId": "r"
    }
   },
   "outputs": [],
   "source": [
    "p1 <- p1 +\n",
    "  labs(title = \"\", y = \"Change in cfTCR Diversity\") +\n",
    "  facet_wrap(~cancergroup, nrow = 1)\n"
   ]
  },
  {
   "cell_type": "code",
   "execution_count": 33,
   "metadata": {
    "vscode": {
     "languageId": "r"
    }
   },
   "outputs": [],
   "source": [
    "save(TRBlist, file = \"/Users/anabbi/Desktop/H4H/INTERCEPT/analysis/metadata/TRBlist.RData\")\n",
    "save(file_df_dedup_trb, file = \"/Users/anabbi/Desktop/H4H/INTERCEPT/analysis/metadata/TRBfiles.RData\")"
   ]
  },
  {
   "attachments": {},
   "cell_type": "markdown",
   "metadata": {},
   "source": [
    "### Cleanup divstats"
   ]
  },
  {
   "cell_type": "code",
   "execution_count": 37,
   "metadata": {
    "vscode": {
     "languageId": "r"
    }
   },
   "outputs": [],
   "source": [
    "divstats <- read.csv(\"/Users/anabbi/Desktop/H4H/INTERCEPT/analysis/metadata/divstats_TRBCHP.csv\", header = T, stringsAsFactors = F, row.names = 1)"
   ]
  },
  {
   "cell_type": "code",
   "execution_count": 38,
   "metadata": {
    "vscode": {
     "languageId": "r"
    }
   },
   "outputs": [
    {
     "data": {
      "text/html": [
       "<style>\n",
       ".list-inline {list-style: none; margin:0; padding: 0}\n",
       ".list-inline>li {display: inline-block}\n",
       ".list-inline>li:not(:last-child)::after {content: \"\\00b7\"; padding: 0 .5ex}\n",
       "</style>\n",
       "<ol class=list-inline><li>'CHP_315-05-PBMC-DNA'</li><li>'CHP_350-01-PBMC-DNA'</li><li>'CHP_350-02-PBMC-DNA'</li><li>'CHP_350-03-PBMC-DNA'</li><li>'CHP_350-04-PBMC-DNA'</li><li>'CHP_353-02-PBMC-DNA'</li></ol>\n"
      ],
      "text/latex": [
       "\\begin{enumerate*}\n",
       "\\item 'CHP\\_315-05-PBMC-DNA'\n",
       "\\item 'CHP\\_350-01-PBMC-DNA'\n",
       "\\item 'CHP\\_350-02-PBMC-DNA'\n",
       "\\item 'CHP\\_350-03-PBMC-DNA'\n",
       "\\item 'CHP\\_350-04-PBMC-DNA'\n",
       "\\item 'CHP\\_353-02-PBMC-DNA'\n",
       "\\end{enumerate*}\n"
      ],
      "text/markdown": [
       "1. 'CHP_315-05-PBMC-DNA'\n",
       "2. 'CHP_350-01-PBMC-DNA'\n",
       "3. 'CHP_350-02-PBMC-DNA'\n",
       "4. 'CHP_350-03-PBMC-DNA'\n",
       "5. 'CHP_350-04-PBMC-DNA'\n",
       "6. 'CHP_353-02-PBMC-DNA'\n",
       "\n",
       "\n"
      ],
      "text/plain": [
       "[1] \"CHP_315-05-PBMC-DNA\" \"CHP_350-01-PBMC-DNA\" \"CHP_350-02-PBMC-DNA\"\n",
       "[4] \"CHP_350-03-PBMC-DNA\" \"CHP_350-04-PBMC-DNA\" \"CHP_353-02-PBMC-DNA\""
      ]
     },
     "metadata": {},
     "output_type": "display_data"
    }
   ],
   "source": [
    "head(rownames(divstats))"
   ]
  },
  {
   "cell_type": "code",
   "execution_count": 41,
   "metadata": {
    "scrolled": true,
    "vscode": {
     "languageId": "r"
    }
   },
   "outputs": [
    {
     "data": {
      "text/html": [
       "<table class=\"dataframe\">\n",
       "<caption>A data.frame: 20 x 19</caption>\n",
       "<thead>\n",
       "\t<tr><th></th><th scope=col>TRB</th><th scope=col>Reads</th><th scope=col>CPKR</th><th scope=col>Average_reads</th><th scope=col>VMR</th><th scope=col>Max_reads</th><th scope=col>Singletons</th><th scope=col>Doubletons</th><th scope=col>qD</th><th scope=col>Sample_Coverage</th><th scope=col>observed_Richness</th><th scope=col>estimated_Richness</th><th scope=col>SE_Richeness</th><th scope=col>observed_Shannon</th><th scope=col>estimated_Shannon</th><th scope=col>SE_Shannon</th><th scope=col>observed_Simpson</th><th scope=col>estimated_Simpson</th><th scope=col>SE_Simpson</th></tr>\n",
       "\t<tr><th></th><th scope=col>&lt;int&gt;</th><th scope=col>&lt;int&gt;</th><th scope=col>&lt;dbl&gt;</th><th scope=col>&lt;dbl&gt;</th><th scope=col>&lt;dbl&gt;</th><th scope=col>&lt;int&gt;</th><th scope=col>&lt;int&gt;</th><th scope=col>&lt;int&gt;</th><th scope=col>&lt;dbl&gt;</th><th scope=col>&lt;int&gt;</th><th scope=col>&lt;int&gt;</th><th scope=col>&lt;dbl&gt;</th><th scope=col>&lt;dbl&gt;</th><th scope=col>&lt;dbl&gt;</th><th scope=col>&lt;dbl&gt;</th><th scope=col>&lt;dbl&gt;</th><th scope=col>&lt;dbl&gt;</th><th scope=col>&lt;dbl&gt;</th><th scope=col>&lt;dbl&gt;</th></tr>\n",
       "</thead>\n",
       "<tbody>\n",
       "\t<tr><th scope=row>CHP_391-03_cfDNA</th><td>16</td><td>11470</td><td>  1.394943</td><td>716.87500</td><td>1.6675804</td><td>4484</td><td>1</td><td>1</td><td>2257.973</td><td>1</td><td> 736</td><td> 851.56217</td><td>53.980425</td><td>388.01298</td><td>388.47784</td><td>0.6495764</td><td>276.619141</td><td>276.837229</td><td>0.75860863</td></tr>\n",
       "\t<tr><th scope=row>CHP_402-02_cfDNA</th><td> 2</td><td>  449</td><td>  4.454343</td><td>224.50000</td><td>0.5259993</td><td> 308</td><td>0</td><td>0</td><td>2257.973</td><td>1</td><td> 614</td><td> 651.49952</td><td>17.527724</td><td>325.51882</td><td>326.89125</td><td>1.1724838</td><td>213.630723</td><td>214.208735</td><td>1.38437891</td></tr>\n",
       "\t<tr><th scope=row>CHP_405-03_cfDNA</th><td>11</td><td> 5338</td><td>  2.060697</td><td>485.27273</td><td>1.3773961</td><td>2105</td><td>0</td><td>0</td><td>2257.973</td><td>1</td><td> 514</td><td> 539.78519</td><td>11.526743</td><td>315.43545</td><td>317.20839</td><td>1.1609771</td><td>227.273273</td><td>228.332165</td><td>1.66384568</td></tr>\n",
       "\t<tr><th scope=row>CHP_405-05_cfDNA</th><td> 7</td><td> 6789</td><td>  1.031080</td><td>969.85714</td><td>0.9042893</td><td>2447</td><td>0</td><td>0</td><td>2257.973</td><td>1</td><td> 666</td><td> 677.99988</td><td> 9.333242</td><td>330.30965</td><td>331.47445</td><td>1.0428139</td><td>192.895515</td><td>193.276520</td><td>1.20100789</td></tr>\n",
       "\t<tr><th scope=row>CHP_414-01_cfDNA</th><td>13</td><td> 4456</td><td>  2.917415</td><td>342.76923</td><td>1.0875725</td><td>1287</td><td>0</td><td>0</td><td>2257.973</td><td>1</td><td> 338</td><td> 465.99721</td><td>38.990474</td><td>149.61408</td><td>150.26899</td><td>0.8376748</td><td> 90.584035</td><td> 90.761346</td><td>0.84552589</td></tr>\n",
       "\t<tr><th scope=row>CHP_415-02_cfDNA</th><td> 3</td><td>  202</td><td> 14.851485</td><td> 67.33333</td><td>1.1658495</td><td> 154</td><td>1</td><td>0</td><td>2257.973</td><td>1</td><td> 507</td><td> 522.99971</td><td>10.253988</td><td>309.06020</td><td>310.56772</td><td>1.3296723</td><td>223.568618</td><td>224.484821</td><td>1.64769585</td></tr>\n",
       "\t<tr><th scope=row>CHP_329-04_cfDNA</th><td> 2</td><td>  318</td><td>  6.289308</td><td>159.00000</td><td>1.4053191</td><td> 317</td><td>1</td><td>0</td><td>2257.973</td><td>1</td><td> 180</td><td> 181.49992</td><td> 5.462317</td><td>103.73340</td><td>104.22064</td><td>0.6719578</td><td> 75.288154</td><td> 75.575761</td><td>0.79547311</td></tr>\n",
       "\t<tr><th scope=row>CHP_331-05_cfDNA</th><td>36</td><td>18517</td><td>  1.944159</td><td>514.36111</td><td>0.9560402</td><td>2012</td><td>0</td><td>0</td><td>2257.973</td><td>1</td><td>1246</td><td>1255.03118</td><td> 6.909892</td><td>838.54515</td><td>842.70459</td><td>1.9659384</td><td>658.988278</td><td>662.390315</td><td>2.58090232</td></tr>\n",
       "\t<tr><th scope=row>CHP_343-02_cfDNA</th><td> 5</td><td> 2503</td><td>  1.997603</td><td>500.60000</td><td>1.1282651</td><td>1196</td><td>0</td><td>0</td><td>2257.973</td><td>1</td><td> 100</td><td> 101.49997</td><td> 4.941924</td><td> 14.95397</td><td> 14.97083</td><td>0.1026066</td><td>  7.851208</td><td>  7.852389</td><td>0.05266289</td></tr>\n",
       "\t<tr><th scope=row>CHP_343-04_cfDNA</th><td> 1</td><td>  154</td><td>  6.493506</td><td>154.00000</td><td>       NA</td><td> 154</td><td>0</td><td>0</td><td>2257.973</td><td>1</td><td> 145</td><td> 149.49899</td><td> 5.963025</td><td>108.51137</td><td>110.35567</td><td>0.9176570</td><td> 87.990903</td><td> 89.738481</td><td>1.30367743</td></tr>\n",
       "\t<tr><th scope=row>CHP_348-01_cfDNA</th><td> 9</td><td> 3772</td><td>  2.386002</td><td>419.11111</td><td>1.8637302</td><td>2371</td><td>1</td><td>1</td><td>2257.973</td><td>1</td><td> 146</td><td> 168.18983</td><td> 8.913218</td><td>111.54648</td><td>132.34513</td><td>4.6637848</td><td> 87.466330</td><td>104.068600</td><td>6.80471065</td></tr>\n",
       "\t<tr><th scope=row>CHP_348-03_cfDNA</th><td>11</td><td> 1719</td><td>  6.399069</td><td>156.27273</td><td>1.2207073</td><td> 565</td><td>0</td><td>1</td><td>2257.973</td><td>1</td><td> 176</td><td> 200.49395</td><td>24.563697</td><td>111.02592</td><td>113.74775</td><td>1.6706142</td><td> 75.856197</td><td> 77.285729</td><td>1.82900391</td></tr>\n",
       "\t<tr><th scope=row>CHP_350-03_cfDNA</th><td>44</td><td>15189</td><td>  2.896833</td><td>345.20455</td><td>1.2564942</td><td>1478</td><td>2</td><td>0</td><td>2257.973</td><td>1</td><td> 166</td><td> 173.13428</td><td> 7.755258</td><td>119.74152</td><td>133.85828</td><td>3.8950906</td><td> 87.139144</td><td> 97.202805</td><td>5.49833060</td></tr>\n",
       "\t<tr><th scope=row>CHP_356-04_cfDNA</th><td> 1</td><td>   95</td><td> 10.526316</td><td> 95.00000</td><td>       NA</td><td>  95</td><td>0</td><td>0</td><td>2257.973</td><td>1</td><td> 240</td><td> 282.65664</td><td>15.857820</td><td>160.80406</td><td>166.18097</td><td>2.3956499</td><td>114.461988</td><td>117.598558</td><td>3.09645668</td></tr>\n",
       "\t<tr><th scope=row>CHP_356-05_cfDNA</th><td> 1</td><td>    2</td><td>500.000000</td><td>  2.00000</td><td>       NA</td><td>   2</td><td>0</td><td>1</td><td>2257.973</td><td>1</td><td> 169</td><td> 179.76474</td><td> 8.489910</td><td>135.49319</td><td>158.59167</td><td>4.6369844</td><td>110.989134</td><td>134.831594</td><td>6.56911830</td></tr>\n",
       "\t<tr><th scope=row>CHP_365-03_cfDNA</th><td> 9</td><td> 3641</td><td>  2.471848</td><td>404.55556</td><td>0.9226156</td><td> 811</td><td>2</td><td>0</td><td>2257.973</td><td>1</td><td>  54</td><td>  55.52367</td><td> 8.137110</td><td> 43.75129</td><td> 50.64475</td><td>2.7508373</td><td> 36.238011</td><td> 43.941558</td><td>3.60733023</td></tr>\n",
       "\t<tr><th scope=row>CHP_370-02_cfDNA</th><td> 2</td><td>  587</td><td>  3.407155</td><td>293.50000</td><td>0.6866284</td><td> 436</td><td>0</td><td>0</td><td>2257.973</td><td>1</td><td> 205</td><td> 222.00180</td><td>10.713452</td><td>136.48171</td><td>156.89844</td><td>5.3089590</td><td> 75.022196</td><td> 81.972712</td><td>8.16655380</td></tr>\n",
       "\t<tr><th scope=row>CHP_374-03_cfDNA</th><td> 7</td><td> 1326</td><td>  5.279035</td><td>189.42857</td><td>1.3900440</td><td> 712</td><td>1</td><td>0</td><td>2257.973</td><td>1</td><td> 144</td><td> 159.98229</td><td> 9.984463</td><td>113.89948</td><td>136.25754</td><td>4.8482613</td><td> 93.572086</td><td>115.204352</td><td>6.49174246</td></tr>\n",
       "\t<tr><th scope=row>CHP_378-01_cfDNA</th><td>27</td><td>11100</td><td>  2.432432</td><td>411.11111</td><td>0.8677464</td><td>1379</td><td>0</td><td>0</td><td>2257.973</td><td>1</td><td> 143</td><td> 145.93816</td><td> 4.952143</td><td>102.73178</td><td>111.11966</td><td>3.0216687</td><td> 75.625278</td><td> 81.893287</td><td>4.03948883</td></tr>\n",
       "\t<tr><th scope=row>CHP_383-03_cfDNA</th><td> 2</td><td> 1135</td><td>  1.762115</td><td>567.50000</td><td>1.1176648</td><td>1016</td><td>0</td><td>0</td><td>2257.973</td><td>1</td><td> 206</td><td> 213.40233</td><td> 7.499970</td><td>125.87036</td><td>136.02423</td><td>3.8337127</td><td> 69.751309</td><td> 73.200687</td><td>4.82066177</td></tr>\n",
       "</tbody>\n",
       "</table>\n"
      ],
      "text/latex": [
       "A data.frame: 20 x 19\n",
       "\\begin{tabular}{r|lllllllllllllllllll}\n",
       "  & TRB & Reads & CPKR & Average\\_reads & VMR & Max\\_reads & Singletons & Doubletons & qD & Sample\\_Coverage & observed\\_Richness & estimated\\_Richness & SE\\_Richeness & observed\\_Shannon & estimated\\_Shannon & SE\\_Shannon & observed\\_Simpson & estimated\\_Simpson & SE\\_Simpson\\\\\n",
       "  & <int> & <int> & <dbl> & <dbl> & <dbl> & <int> & <int> & <int> & <dbl> & <int> & <int> & <dbl> & <dbl> & <dbl> & <dbl> & <dbl> & <dbl> & <dbl> & <dbl>\\\\\n",
       "\\hline\n",
       "\tCHP\\_391-03\\_cfDNA & 16 & 11470 &   1.394943 & 716.87500 & 1.6675804 & 4484 & 1 & 1 & 2257.973 & 1 &  736 &  851.56217 & 53.980425 & 388.01298 & 388.47784 & 0.6495764 & 276.619141 & 276.837229 & 0.75860863\\\\\n",
       "\tCHP\\_402-02\\_cfDNA &  2 &   449 &   4.454343 & 224.50000 & 0.5259993 &  308 & 0 & 0 & 2257.973 & 1 &  614 &  651.49952 & 17.527724 & 325.51882 & 326.89125 & 1.1724838 & 213.630723 & 214.208735 & 1.38437891\\\\\n",
       "\tCHP\\_405-03\\_cfDNA & 11 &  5338 &   2.060697 & 485.27273 & 1.3773961 & 2105 & 0 & 0 & 2257.973 & 1 &  514 &  539.78519 & 11.526743 & 315.43545 & 317.20839 & 1.1609771 & 227.273273 & 228.332165 & 1.66384568\\\\\n",
       "\tCHP\\_405-05\\_cfDNA &  7 &  6789 &   1.031080 & 969.85714 & 0.9042893 & 2447 & 0 & 0 & 2257.973 & 1 &  666 &  677.99988 &  9.333242 & 330.30965 & 331.47445 & 1.0428139 & 192.895515 & 193.276520 & 1.20100789\\\\\n",
       "\tCHP\\_414-01\\_cfDNA & 13 &  4456 &   2.917415 & 342.76923 & 1.0875725 & 1287 & 0 & 0 & 2257.973 & 1 &  338 &  465.99721 & 38.990474 & 149.61408 & 150.26899 & 0.8376748 &  90.584035 &  90.761346 & 0.84552589\\\\\n",
       "\tCHP\\_415-02\\_cfDNA &  3 &   202 &  14.851485 &  67.33333 & 1.1658495 &  154 & 1 & 0 & 2257.973 & 1 &  507 &  522.99971 & 10.253988 & 309.06020 & 310.56772 & 1.3296723 & 223.568618 & 224.484821 & 1.64769585\\\\\n",
       "\tCHP\\_329-04\\_cfDNA &  2 &   318 &   6.289308 & 159.00000 & 1.4053191 &  317 & 1 & 0 & 2257.973 & 1 &  180 &  181.49992 &  5.462317 & 103.73340 & 104.22064 & 0.6719578 &  75.288154 &  75.575761 & 0.79547311\\\\\n",
       "\tCHP\\_331-05\\_cfDNA & 36 & 18517 &   1.944159 & 514.36111 & 0.9560402 & 2012 & 0 & 0 & 2257.973 & 1 & 1246 & 1255.03118 &  6.909892 & 838.54515 & 842.70459 & 1.9659384 & 658.988278 & 662.390315 & 2.58090232\\\\\n",
       "\tCHP\\_343-02\\_cfDNA &  5 &  2503 &   1.997603 & 500.60000 & 1.1282651 & 1196 & 0 & 0 & 2257.973 & 1 &  100 &  101.49997 &  4.941924 &  14.95397 &  14.97083 & 0.1026066 &   7.851208 &   7.852389 & 0.05266289\\\\\n",
       "\tCHP\\_343-04\\_cfDNA &  1 &   154 &   6.493506 & 154.00000 &        NA &  154 & 0 & 0 & 2257.973 & 1 &  145 &  149.49899 &  5.963025 & 108.51137 & 110.35567 & 0.9176570 &  87.990903 &  89.738481 & 1.30367743\\\\\n",
       "\tCHP\\_348-01\\_cfDNA &  9 &  3772 &   2.386002 & 419.11111 & 1.8637302 & 2371 & 1 & 1 & 2257.973 & 1 &  146 &  168.18983 &  8.913218 & 111.54648 & 132.34513 & 4.6637848 &  87.466330 & 104.068600 & 6.80471065\\\\\n",
       "\tCHP\\_348-03\\_cfDNA & 11 &  1719 &   6.399069 & 156.27273 & 1.2207073 &  565 & 0 & 1 & 2257.973 & 1 &  176 &  200.49395 & 24.563697 & 111.02592 & 113.74775 & 1.6706142 &  75.856197 &  77.285729 & 1.82900391\\\\\n",
       "\tCHP\\_350-03\\_cfDNA & 44 & 15189 &   2.896833 & 345.20455 & 1.2564942 & 1478 & 2 & 0 & 2257.973 & 1 &  166 &  173.13428 &  7.755258 & 119.74152 & 133.85828 & 3.8950906 &  87.139144 &  97.202805 & 5.49833060\\\\\n",
       "\tCHP\\_356-04\\_cfDNA &  1 &    95 &  10.526316 &  95.00000 &        NA &   95 & 0 & 0 & 2257.973 & 1 &  240 &  282.65664 & 15.857820 & 160.80406 & 166.18097 & 2.3956499 & 114.461988 & 117.598558 & 3.09645668\\\\\n",
       "\tCHP\\_356-05\\_cfDNA &  1 &     2 & 500.000000 &   2.00000 &        NA &    2 & 0 & 1 & 2257.973 & 1 &  169 &  179.76474 &  8.489910 & 135.49319 & 158.59167 & 4.6369844 & 110.989134 & 134.831594 & 6.56911830\\\\\n",
       "\tCHP\\_365-03\\_cfDNA &  9 &  3641 &   2.471848 & 404.55556 & 0.9226156 &  811 & 2 & 0 & 2257.973 & 1 &   54 &   55.52367 &  8.137110 &  43.75129 &  50.64475 & 2.7508373 &  36.238011 &  43.941558 & 3.60733023\\\\\n",
       "\tCHP\\_370-02\\_cfDNA &  2 &   587 &   3.407155 & 293.50000 & 0.6866284 &  436 & 0 & 0 & 2257.973 & 1 &  205 &  222.00180 & 10.713452 & 136.48171 & 156.89844 & 5.3089590 &  75.022196 &  81.972712 & 8.16655380\\\\\n",
       "\tCHP\\_374-03\\_cfDNA &  7 &  1326 &   5.279035 & 189.42857 & 1.3900440 &  712 & 1 & 0 & 2257.973 & 1 &  144 &  159.98229 &  9.984463 & 113.89948 & 136.25754 & 4.8482613 &  93.572086 & 115.204352 & 6.49174246\\\\\n",
       "\tCHP\\_378-01\\_cfDNA & 27 & 11100 &   2.432432 & 411.11111 & 0.8677464 & 1379 & 0 & 0 & 2257.973 & 1 &  143 &  145.93816 &  4.952143 & 102.73178 & 111.11966 & 3.0216687 &  75.625278 &  81.893287 & 4.03948883\\\\\n",
       "\tCHP\\_383-03\\_cfDNA &  2 &  1135 &   1.762115 & 567.50000 & 1.1176648 & 1016 & 0 & 0 & 2257.973 & 1 &  206 &  213.40233 &  7.499970 & 125.87036 & 136.02423 & 3.8337127 &  69.751309 &  73.200687 & 4.82066177\\\\\n",
       "\\end{tabular}\n"
      ],
      "text/markdown": [
       "\n",
       "A data.frame: 20 x 19\n",
       "\n",
       "| <!--/--> | TRB &lt;int&gt; | Reads &lt;int&gt; | CPKR &lt;dbl&gt; | Average_reads &lt;dbl&gt; | VMR &lt;dbl&gt; | Max_reads &lt;int&gt; | Singletons &lt;int&gt; | Doubletons &lt;int&gt; | qD &lt;dbl&gt; | Sample_Coverage &lt;int&gt; | observed_Richness &lt;int&gt; | estimated_Richness &lt;dbl&gt; | SE_Richeness &lt;dbl&gt; | observed_Shannon &lt;dbl&gt; | estimated_Shannon &lt;dbl&gt; | SE_Shannon &lt;dbl&gt; | observed_Simpson &lt;dbl&gt; | estimated_Simpson &lt;dbl&gt; | SE_Simpson &lt;dbl&gt; |\n",
       "|---|---|---|---|---|---|---|---|---|---|---|---|---|---|---|---|---|---|---|---|\n",
       "| CHP_391-03_cfDNA | 16 | 11470 |   1.394943 | 716.87500 | 1.6675804 | 4484 | 1 | 1 | 2257.973 | 1 |  736 |  851.56217 | 53.980425 | 388.01298 | 388.47784 | 0.6495764 | 276.619141 | 276.837229 | 0.75860863 |\n",
       "| CHP_402-02_cfDNA |  2 |   449 |   4.454343 | 224.50000 | 0.5259993 |  308 | 0 | 0 | 2257.973 | 1 |  614 |  651.49952 | 17.527724 | 325.51882 | 326.89125 | 1.1724838 | 213.630723 | 214.208735 | 1.38437891 |\n",
       "| CHP_405-03_cfDNA | 11 |  5338 |   2.060697 | 485.27273 | 1.3773961 | 2105 | 0 | 0 | 2257.973 | 1 |  514 |  539.78519 | 11.526743 | 315.43545 | 317.20839 | 1.1609771 | 227.273273 | 228.332165 | 1.66384568 |\n",
       "| CHP_405-05_cfDNA |  7 |  6789 |   1.031080 | 969.85714 | 0.9042893 | 2447 | 0 | 0 | 2257.973 | 1 |  666 |  677.99988 |  9.333242 | 330.30965 | 331.47445 | 1.0428139 | 192.895515 | 193.276520 | 1.20100789 |\n",
       "| CHP_414-01_cfDNA | 13 |  4456 |   2.917415 | 342.76923 | 1.0875725 | 1287 | 0 | 0 | 2257.973 | 1 |  338 |  465.99721 | 38.990474 | 149.61408 | 150.26899 | 0.8376748 |  90.584035 |  90.761346 | 0.84552589 |\n",
       "| CHP_415-02_cfDNA |  3 |   202 |  14.851485 |  67.33333 | 1.1658495 |  154 | 1 | 0 | 2257.973 | 1 |  507 |  522.99971 | 10.253988 | 309.06020 | 310.56772 | 1.3296723 | 223.568618 | 224.484821 | 1.64769585 |\n",
       "| CHP_329-04_cfDNA |  2 |   318 |   6.289308 | 159.00000 | 1.4053191 |  317 | 1 | 0 | 2257.973 | 1 |  180 |  181.49992 |  5.462317 | 103.73340 | 104.22064 | 0.6719578 |  75.288154 |  75.575761 | 0.79547311 |\n",
       "| CHP_331-05_cfDNA | 36 | 18517 |   1.944159 | 514.36111 | 0.9560402 | 2012 | 0 | 0 | 2257.973 | 1 | 1246 | 1255.03118 |  6.909892 | 838.54515 | 842.70459 | 1.9659384 | 658.988278 | 662.390315 | 2.58090232 |\n",
       "| CHP_343-02_cfDNA |  5 |  2503 |   1.997603 | 500.60000 | 1.1282651 | 1196 | 0 | 0 | 2257.973 | 1 |  100 |  101.49997 |  4.941924 |  14.95397 |  14.97083 | 0.1026066 |   7.851208 |   7.852389 | 0.05266289 |\n",
       "| CHP_343-04_cfDNA |  1 |   154 |   6.493506 | 154.00000 |        NA |  154 | 0 | 0 | 2257.973 | 1 |  145 |  149.49899 |  5.963025 | 108.51137 | 110.35567 | 0.9176570 |  87.990903 |  89.738481 | 1.30367743 |\n",
       "| CHP_348-01_cfDNA |  9 |  3772 |   2.386002 | 419.11111 | 1.8637302 | 2371 | 1 | 1 | 2257.973 | 1 |  146 |  168.18983 |  8.913218 | 111.54648 | 132.34513 | 4.6637848 |  87.466330 | 104.068600 | 6.80471065 |\n",
       "| CHP_348-03_cfDNA | 11 |  1719 |   6.399069 | 156.27273 | 1.2207073 |  565 | 0 | 1 | 2257.973 | 1 |  176 |  200.49395 | 24.563697 | 111.02592 | 113.74775 | 1.6706142 |  75.856197 |  77.285729 | 1.82900391 |\n",
       "| CHP_350-03_cfDNA | 44 | 15189 |   2.896833 | 345.20455 | 1.2564942 | 1478 | 2 | 0 | 2257.973 | 1 |  166 |  173.13428 |  7.755258 | 119.74152 | 133.85828 | 3.8950906 |  87.139144 |  97.202805 | 5.49833060 |\n",
       "| CHP_356-04_cfDNA |  1 |    95 |  10.526316 |  95.00000 |        NA |   95 | 0 | 0 | 2257.973 | 1 |  240 |  282.65664 | 15.857820 | 160.80406 | 166.18097 | 2.3956499 | 114.461988 | 117.598558 | 3.09645668 |\n",
       "| CHP_356-05_cfDNA |  1 |     2 | 500.000000 |   2.00000 |        NA |    2 | 0 | 1 | 2257.973 | 1 |  169 |  179.76474 |  8.489910 | 135.49319 | 158.59167 | 4.6369844 | 110.989134 | 134.831594 | 6.56911830 |\n",
       "| CHP_365-03_cfDNA |  9 |  3641 |   2.471848 | 404.55556 | 0.9226156 |  811 | 2 | 0 | 2257.973 | 1 |   54 |   55.52367 |  8.137110 |  43.75129 |  50.64475 | 2.7508373 |  36.238011 |  43.941558 | 3.60733023 |\n",
       "| CHP_370-02_cfDNA |  2 |   587 |   3.407155 | 293.50000 | 0.6866284 |  436 | 0 | 0 | 2257.973 | 1 |  205 |  222.00180 | 10.713452 | 136.48171 | 156.89844 | 5.3089590 |  75.022196 |  81.972712 | 8.16655380 |\n",
       "| CHP_374-03_cfDNA |  7 |  1326 |   5.279035 | 189.42857 | 1.3900440 |  712 | 1 | 0 | 2257.973 | 1 |  144 |  159.98229 |  9.984463 | 113.89948 | 136.25754 | 4.8482613 |  93.572086 | 115.204352 | 6.49174246 |\n",
       "| CHP_378-01_cfDNA | 27 | 11100 |   2.432432 | 411.11111 | 0.8677464 | 1379 | 0 | 0 | 2257.973 | 1 |  143 |  145.93816 |  4.952143 | 102.73178 | 111.11966 | 3.0216687 |  75.625278 |  81.893287 | 4.03948883 |\n",
       "| CHP_383-03_cfDNA |  2 |  1135 |   1.762115 | 567.50000 | 1.1176648 | 1016 | 0 | 0 | 2257.973 | 1 |  206 |  213.40233 |  7.499970 | 125.87036 | 136.02423 | 3.8337127 |  69.751309 |  73.200687 | 4.82066177 |\n",
       "\n"
      ],
      "text/plain": [
       "                 TRB Reads CPKR       Average_reads VMR       Max_reads\n",
       "CHP_391-03_cfDNA 16  11470   1.394943 716.87500     1.6675804 4484     \n",
       "CHP_402-02_cfDNA  2    449   4.454343 224.50000     0.5259993  308     \n",
       "CHP_405-03_cfDNA 11   5338   2.060697 485.27273     1.3773961 2105     \n",
       "CHP_405-05_cfDNA  7   6789   1.031080 969.85714     0.9042893 2447     \n",
       "CHP_414-01_cfDNA 13   4456   2.917415 342.76923     1.0875725 1287     \n",
       "CHP_415-02_cfDNA  3    202  14.851485  67.33333     1.1658495  154     \n",
       "CHP_329-04_cfDNA  2    318   6.289308 159.00000     1.4053191  317     \n",
       "CHP_331-05_cfDNA 36  18517   1.944159 514.36111     0.9560402 2012     \n",
       "CHP_343-02_cfDNA  5   2503   1.997603 500.60000     1.1282651 1196     \n",
       "CHP_343-04_cfDNA  1    154   6.493506 154.00000            NA  154     \n",
       "CHP_348-01_cfDNA  9   3772   2.386002 419.11111     1.8637302 2371     \n",
       "CHP_348-03_cfDNA 11   1719   6.399069 156.27273     1.2207073  565     \n",
       "CHP_350-03_cfDNA 44  15189   2.896833 345.20455     1.2564942 1478     \n",
       "CHP_356-04_cfDNA  1     95  10.526316  95.00000            NA   95     \n",
       "CHP_356-05_cfDNA  1      2 500.000000   2.00000            NA    2     \n",
       "CHP_365-03_cfDNA  9   3641   2.471848 404.55556     0.9226156  811     \n",
       "CHP_370-02_cfDNA  2    587   3.407155 293.50000     0.6866284  436     \n",
       "CHP_374-03_cfDNA  7   1326   5.279035 189.42857     1.3900440  712     \n",
       "CHP_378-01_cfDNA 27  11100   2.432432 411.11111     0.8677464 1379     \n",
       "CHP_383-03_cfDNA  2   1135   1.762115 567.50000     1.1176648 1016     \n",
       "                 Singletons Doubletons qD       Sample_Coverage\n",
       "CHP_391-03_cfDNA 1          1          2257.973 1              \n",
       "CHP_402-02_cfDNA 0          0          2257.973 1              \n",
       "CHP_405-03_cfDNA 0          0          2257.973 1              \n",
       "CHP_405-05_cfDNA 0          0          2257.973 1              \n",
       "CHP_414-01_cfDNA 0          0          2257.973 1              \n",
       "CHP_415-02_cfDNA 1          0          2257.973 1              \n",
       "CHP_329-04_cfDNA 1          0          2257.973 1              \n",
       "CHP_331-05_cfDNA 0          0          2257.973 1              \n",
       "CHP_343-02_cfDNA 0          0          2257.973 1              \n",
       "CHP_343-04_cfDNA 0          0          2257.973 1              \n",
       "CHP_348-01_cfDNA 1          1          2257.973 1              \n",
       "CHP_348-03_cfDNA 0          1          2257.973 1              \n",
       "CHP_350-03_cfDNA 2          0          2257.973 1              \n",
       "CHP_356-04_cfDNA 0          0          2257.973 1              \n",
       "CHP_356-05_cfDNA 0          1          2257.973 1              \n",
       "CHP_365-03_cfDNA 2          0          2257.973 1              \n",
       "CHP_370-02_cfDNA 0          0          2257.973 1              \n",
       "CHP_374-03_cfDNA 1          0          2257.973 1              \n",
       "CHP_378-01_cfDNA 0          0          2257.973 1              \n",
       "CHP_383-03_cfDNA 0          0          2257.973 1              \n",
       "                 observed_Richness estimated_Richness SE_Richeness\n",
       "CHP_391-03_cfDNA  736               851.56217         53.980425   \n",
       "CHP_402-02_cfDNA  614               651.49952         17.527724   \n",
       "CHP_405-03_cfDNA  514               539.78519         11.526743   \n",
       "CHP_405-05_cfDNA  666               677.99988          9.333242   \n",
       "CHP_414-01_cfDNA  338               465.99721         38.990474   \n",
       "CHP_415-02_cfDNA  507               522.99971         10.253988   \n",
       "CHP_329-04_cfDNA  180               181.49992          5.462317   \n",
       "CHP_331-05_cfDNA 1246              1255.03118          6.909892   \n",
       "CHP_343-02_cfDNA  100               101.49997          4.941924   \n",
       "CHP_343-04_cfDNA  145               149.49899          5.963025   \n",
       "CHP_348-01_cfDNA  146               168.18983          8.913218   \n",
       "CHP_348-03_cfDNA  176               200.49395         24.563697   \n",
       "CHP_350-03_cfDNA  166               173.13428          7.755258   \n",
       "CHP_356-04_cfDNA  240               282.65664         15.857820   \n",
       "CHP_356-05_cfDNA  169               179.76474          8.489910   \n",
       "CHP_365-03_cfDNA   54                55.52367          8.137110   \n",
       "CHP_370-02_cfDNA  205               222.00180         10.713452   \n",
       "CHP_374-03_cfDNA  144               159.98229          9.984463   \n",
       "CHP_378-01_cfDNA  143               145.93816          4.952143   \n",
       "CHP_383-03_cfDNA  206               213.40233          7.499970   \n",
       "                 observed_Shannon estimated_Shannon SE_Shannon observed_Simpson\n",
       "CHP_391-03_cfDNA 388.01298        388.47784         0.6495764  276.619141      \n",
       "CHP_402-02_cfDNA 325.51882        326.89125         1.1724838  213.630723      \n",
       "CHP_405-03_cfDNA 315.43545        317.20839         1.1609771  227.273273      \n",
       "CHP_405-05_cfDNA 330.30965        331.47445         1.0428139  192.895515      \n",
       "CHP_414-01_cfDNA 149.61408        150.26899         0.8376748   90.584035      \n",
       "CHP_415-02_cfDNA 309.06020        310.56772         1.3296723  223.568618      \n",
       "CHP_329-04_cfDNA 103.73340        104.22064         0.6719578   75.288154      \n",
       "CHP_331-05_cfDNA 838.54515        842.70459         1.9659384  658.988278      \n",
       "CHP_343-02_cfDNA  14.95397         14.97083         0.1026066    7.851208      \n",
       "CHP_343-04_cfDNA 108.51137        110.35567         0.9176570   87.990903      \n",
       "CHP_348-01_cfDNA 111.54648        132.34513         4.6637848   87.466330      \n",
       "CHP_348-03_cfDNA 111.02592        113.74775         1.6706142   75.856197      \n",
       "CHP_350-03_cfDNA 119.74152        133.85828         3.8950906   87.139144      \n",
       "CHP_356-04_cfDNA 160.80406        166.18097         2.3956499  114.461988      \n",
       "CHP_356-05_cfDNA 135.49319        158.59167         4.6369844  110.989134      \n",
       "CHP_365-03_cfDNA  43.75129         50.64475         2.7508373   36.238011      \n",
       "CHP_370-02_cfDNA 136.48171        156.89844         5.3089590   75.022196      \n",
       "CHP_374-03_cfDNA 113.89948        136.25754         4.8482613   93.572086      \n",
       "CHP_378-01_cfDNA 102.73178        111.11966         3.0216687   75.625278      \n",
       "CHP_383-03_cfDNA 125.87036        136.02423         3.8337127   69.751309      \n",
       "                 estimated_Simpson SE_Simpson\n",
       "CHP_391-03_cfDNA 276.837229        0.75860863\n",
       "CHP_402-02_cfDNA 214.208735        1.38437891\n",
       "CHP_405-03_cfDNA 228.332165        1.66384568\n",
       "CHP_405-05_cfDNA 193.276520        1.20100789\n",
       "CHP_414-01_cfDNA  90.761346        0.84552589\n",
       "CHP_415-02_cfDNA 224.484821        1.64769585\n",
       "CHP_329-04_cfDNA  75.575761        0.79547311\n",
       "CHP_331-05_cfDNA 662.390315        2.58090232\n",
       "CHP_343-02_cfDNA   7.852389        0.05266289\n",
       "CHP_343-04_cfDNA  89.738481        1.30367743\n",
       "CHP_348-01_cfDNA 104.068600        6.80471065\n",
       "CHP_348-03_cfDNA  77.285729        1.82900391\n",
       "CHP_350-03_cfDNA  97.202805        5.49833060\n",
       "CHP_356-04_cfDNA 117.598558        3.09645668\n",
       "CHP_356-05_cfDNA 134.831594        6.56911830\n",
       "CHP_365-03_cfDNA  43.941558        3.60733023\n",
       "CHP_370-02_cfDNA  81.972712        8.16655380\n",
       "CHP_374-03_cfDNA 115.204352        6.49174246\n",
       "CHP_378-01_cfDNA  81.893287        4.03948883\n",
       "CHP_383-03_cfDNA  73.200687        4.82066177"
      ]
     },
     "metadata": {},
     "output_type": "display_data"
    }
   ],
   "source": [
    "tail(divstats,20)"
   ]
  },
  {
   "cell_type": "code",
   "execution_count": null,
   "metadata": {
    "vscode": {
     "languageId": "r"
    }
   },
   "outputs": [],
   "source": [
    "#add 9 samples with nonproductive cdr3\n",
    "addsamples <- c('CHP_347-01-cfDNA','CHP_366-05_cfDNA','CHP_377-01-cfDNA',\n",
    "                'CHP_381-05_cfDNA','CHP_391-02_cfDNA','CHP_392-01_cfDNA',\n",
    "                'CHP_398-01_cfDNA','CHP_401-03_cfDNA','CHP_419-FFPE-DNA_S2')"
   ]
  },
  {
   "cell_type": "code",
   "execution_count": null,
   "metadata": {
    "vscode": {
     "languageId": "r"
    }
   },
   "outputs": [],
   "source": [
    "divstats[ nrow(divstats) + 9 , ] <- NA"
   ]
  },
  {
   "cell_type": "code",
   "execution_count": null,
   "metadata": {
    "vscode": {
     "languageId": "r"
    }
   },
   "outputs": [],
   "source": [
    "rownames(divstats)[is.na(divstats$TRB)] <- addsamples"
   ]
  },
  {
   "cell_type": "code",
   "execution_count": null,
   "metadata": {
    "vscode": {
     "languageId": "r"
    }
   },
   "outputs": [],
   "source": [
    "#example sample_id CHP_xxx_xx\n",
    "divstats$sample_id <- rownames(divstats)\n",
    "\n",
    "#example basename CHP_xxx-xx-PBMC-DNA\n",
    "divstats$basename <- rownames(divstats)"
   ]
  },
  {
   "cell_type": "code",
   "execution_count": null,
   "metadata": {
    "vscode": {
     "languageId": "r"
    }
   },
   "outputs": [],
   "source": [
    "# add filenames to divstats\n",
    "divstats$file <- myfilenames$file_list[ match(divstats$sample_id, myfilenames$samplename)]"
   ]
  },
  {
   "attachments": {},
   "cell_type": "markdown",
   "metadata": {},
   "source": [
    "Separate samples"
   ]
  },
  {
   "cell_type": "code",
   "execution_count": null,
   "metadata": {
    "vscode": {
     "languageId": "r"
    }
   },
   "outputs": [],
   "source": [
    "#divstats$Sample <- NULL"
   ]
  },
  {
   "cell_type": "code",
   "execution_count": null,
   "metadata": {
    "vscode": {
     "languageId": "r"
    }
   },
   "outputs": [],
   "source": [
    "divstats$Sample <- NA\n",
    "divstats$Sample[grepl(\"PBMC\", rownames(divstats))] <- \"PBMC\"\n",
    "divstats$Sample[grepl(\"cfDNA\", rownames(divstats))] <- \"cfDNA\"\n",
    "divstats$Sample[grepl(\"FFPE\", rownames(divstats))] <- \"Tumor\""
   ]
  },
  {
   "attachments": {},
   "cell_type": "markdown",
   "metadata": {},
   "source": [
    "Separate LFS and non-LFS"
   ]
  },
  {
   "cell_type": "code",
   "execution_count": null,
   "metadata": {
    "vscode": {
     "languageId": "r"
    }
   },
   "outputs": [],
   "source": [
    "divstats$Group <- NA\n",
    "divstats$Group[grepl(\"LFS\", rownames(divstats))] <- \"LFS\"\n",
    "divstats$Group[grepl(\"CHP\", rownames(divstats))] <- \"CHP\""
   ]
  },
  {
   "cell_type": "code",
   "execution_count": null,
   "metadata": {
    "vscode": {
     "languageId": "r"
    }
   },
   "outputs": [],
   "source": [
    "#table(divstats$Group, useNA = \"always\")"
   ]
  },
  {
   "cell_type": "code",
   "execution_count": null,
   "metadata": {
    "vscode": {
     "languageId": "r"
    }
   },
   "outputs": [],
   "source": [
    "#tapply(divstats$TRB, divstats$sampletype, summary)"
   ]
  },
  {
   "cell_type": "code",
   "execution_count": null,
   "metadata": {
    "vscode": {
     "languageId": "r"
    }
   },
   "outputs": [],
   "source": [
    "summary(divstats$Reads)"
   ]
  },
  {
   "attachments": {},
   "cell_type": "markdown",
   "metadata": {},
   "source": [
    "Get patient ids"
   ]
  },
  {
   "cell_type": "code",
   "execution_count": null,
   "metadata": {
    "vscode": {
     "languageId": "r"
    }
   },
   "outputs": [],
   "source": [
    "divstats$Patient <- NA\n",
    "# CHP\n",
    "divstats$Patient[divstats$Group == \"CHP\"] <- substr(rownames(divstats)[divstats$Group == \"CHP\"],1,7)\n",
    "# Normal samples have either YO or MO\n",
    "divstats$Patient[grepl(\"YO\", rownames(divstats))] <- gsub(\"_PBMC_DNA\", \"\", rownames(divstats)[grepl(\"YO\", rownames(divstats))])\n",
    "divstats$Patient[grepl(\"MO\", rownames(divstats))] <- gsub(\"_PBMC_DNA\", \"\", rownames(divstats)[grepl(\"MO\", rownames(divstats))])\n",
    "# LFS\n",
    "divstats$Patient[divstats$Group == \"LFS\"] <- substr(rownames(divstats)[divstats$Group == \"LFS\"],1,12)"
   ]
  },
  {
   "attachments": {},
   "cell_type": "markdown",
   "metadata": {},
   "source": [
    "Get cycles. For LFS, Normals and Tumors recode to 00"
   ]
  },
  {
   "cell_type": "code",
   "execution_count": null,
   "metadata": {
    "vscode": {
     "languageId": "r"
    }
   },
   "outputs": [],
   "source": [
    "divstats$Cycle <- NA\n",
    "divstats$Cycle[divstats$Group == \"CHP\"] <- substr(rownames(divstats)[divstats$Group == \"CHP\"],9,10)\n",
    "divstats$Cycle[grepl(\"YO\", rownames(divstats))] <- \"00\"\n",
    "divstats$Cycle[grepl(\"MO\", rownames(divstats))] <- \"00\"\n",
    "divstats$Cycle[ divstats$Sample == \"Tumor\"] <- \"00\"\n",
    "divstats$Cycle[ divstats$Group == \"LFS\"] <- \"00\""
   ]
  },
  {
   "cell_type": "code",
   "execution_count": null,
   "metadata": {
    "vscode": {
     "languageId": "r"
    }
   },
   "outputs": [],
   "source": [
    "divstats$sample_id <- NA\n",
    "\n",
    "# bind patient and cycle for PBMC and cfdna to generate sample id\n",
    "divstats$sample_id[ divstats$Sample != \"Tumor\"] <- paste(divstats$Patient[ divstats$Sample != \"Tumor\"], \"_\", \n",
    "                                                          divstats$Cycle[ divstats$Sample != \"Tumor\"], sep = \"\")\n",
    "\n",
    "# For tumor samples start with rownames because some of them are two biopsies from the same tumor\n",
    "divstats$sample_id[ divstats$Sample == \"Tumor\"] <- gsub(\"-FFPE-DN.*\", \"\", rownames(divstats)[ divstats$Sample == \"Tumor\"])"
   ]
  },
  {
   "cell_type": "code",
   "execution_count": null,
   "metadata": {
    "vscode": {
     "languageId": "r"
    }
   },
   "outputs": [],
   "source": [
    "divstats$sample_id <- gsub(\"-\", \"_\", divstats$sample_id)"
   ]
  },
  {
   "cell_type": "code",
   "execution_count": null,
   "metadata": {
    "vscode": {
     "languageId": "r"
    }
   },
   "outputs": [],
   "source": [
    "divstats$Patient <- NULL\n",
    "divstats$Cycle <- NULL\n",
    "divstats$Sample <- NULL\n",
    "divstats$Group <- NULL"
   ]
  },
  {
   "cell_type": "code",
   "execution_count": null,
   "metadata": {
    "vscode": {
     "languageId": "r"
    }
   },
   "outputs": [],
   "source": [
    "tail(divstats,10)"
   ]
  },
  {
   "cell_type": "code",
   "execution_count": null,
   "metadata": {
    "vscode": {
     "languageId": "r"
    }
   },
   "outputs": [],
   "source": [
    "write.csv(divstats,\n",
    "          paste0(datapath, \"capTCRseq/divstats_TRBCHP.csv\"), row.names = TRUE)"
   ]
  },
  {
   "attachments": {},
   "cell_type": "markdown",
   "metadata": {},
   "source": [
    "## TRA"
   ]
  },
  {
   "cell_type": "code",
   "execution_count": null,
   "metadata": {
    "vscode": {
     "languageId": "r"
    }
   },
   "outputs": [],
   "source": [
    "file_list <- list.files(h4hpath, pattern = paste0(\"CLONES_\", \"TRA\"), recursive = T)"
   ]
  },
  {
   "cell_type": "code",
   "execution_count": null,
   "metadata": {
    "vscode": {
     "languageId": "r"
    }
   },
   "outputs": [],
   "source": [
    "tail(file_list)"
   ]
  },
  {
   "cell_type": "code",
   "execution_count": null,
   "metadata": {
    "vscode": {
     "languageId": "r"
    }
   },
   "outputs": [],
   "source": [
    "# remove downsample files\n",
    "file_list <- file_list[!grepl(\"_2000000\", file_list)]"
   ]
  },
  {
   "attachments": {},
   "cell_type": "markdown",
   "metadata": {},
   "source": [
    "Some files are duplicated. Make a table to identify and pick the larger clone file"
   ]
  },
  {
   "cell_type": "code",
   "execution_count": null,
   "metadata": {
    "vscode": {
     "languageId": "r"
    }
   },
   "outputs": [],
   "source": [
    "file_df <- as.data.frame(file_list)"
   ]
  },
  {
   "cell_type": "code",
   "execution_count": null,
   "metadata": {
    "vscode": {
     "languageId": "r"
    }
   },
   "outputs": [],
   "source": [
    "file_df$samplename <- gsub(\".*CLONES_TRA\", \"\", file_df$file_list)\n",
    "file_df$samplename <- gsub(\".txt\", \"\", file_df$samplename)"
   ]
  },
  {
   "cell_type": "code",
   "execution_count": null,
   "metadata": {
    "vscode": {
     "languageId": "r"
    }
   },
   "outputs": [],
   "source": [
    "file_df$size <- NA\n",
    "for(i in 1:nrow(file_df)){\n",
    "    file_df$size[i] <- file.size(paste0(h4hpath,file_df$file_list[i]))\n",
    "}"
   ]
  },
  {
   "cell_type": "code",
   "execution_count": null,
   "metadata": {
    "vscode": {
     "languageId": "r"
    }
   },
   "outputs": [],
   "source": [
    "head(file_df)"
   ]
  },
  {
   "cell_type": "code",
   "execution_count": null,
   "metadata": {
    "vscode": {
     "languageId": "r"
    }
   },
   "outputs": [],
   "source": [
    "file_df[ grepl(\"383-03\", file_df$file_list),]"
   ]
  },
  {
   "cell_type": "code",
   "execution_count": null,
   "metadata": {
    "vscode": {
     "languageId": "r"
    }
   },
   "outputs": [],
   "source": [
    "file_df <- file_df[ !grepl(\"immunarch\", file_df$file_list),]"
   ]
  },
  {
   "cell_type": "code",
   "execution_count": null,
   "metadata": {
    "vscode": {
     "languageId": "r"
    }
   },
   "outputs": [],
   "source": [
    "file_df_dedup <- file_df[0,]\n",
    "\n",
    "for(s in unique(file_df$samplename)){\n",
    "    tmp <- file_df[ file_df$samplename == s,]\n",
    "    if(nrow(tmp) ==1 ){\n",
    "        file_df_dedup <- rbind(file_df_dedup, tmp)\n",
    "    }\n",
    "    if(nrow(tmp) > 1 ){\n",
    "        file_df_dedup <- rbind(file_df_dedup, tmp[ tmp$size == max(tmp$size),])\n",
    "    }    \n",
    "}"
   ]
  },
  {
   "cell_type": "code",
   "execution_count": null,
   "metadata": {
    "vscode": {
     "languageId": "r"
    }
   },
   "outputs": [],
   "source": [
    "file_df_dedup[ grepl(\"343-05\", file_df_dedup$file_list),]"
   ]
  },
  {
   "cell_type": "code",
   "execution_count": null,
   "metadata": {
    "vscode": {
     "languageId": "r"
    }
   },
   "outputs": [],
   "source": [
    "file_df_dedup_tra <- file_df_dedup\n",
    "save(file_df_dedup_tra, file = paste0(datapath,\"capTCRseq/TRAfiles.RData\"))"
   ]
  },
  {
   "cell_type": "code",
   "execution_count": null,
   "metadata": {
    "vscode": {
     "languageId": "r"
    }
   },
   "outputs": [],
   "source": [
    "dim(file_df)\n",
    "dim(file_df_dedup)"
   ]
  },
  {
   "cell_type": "code",
   "execution_count": null,
   "metadata": {
    "vscode": {
     "languageId": "r"
    }
   },
   "outputs": [],
   "source": [
    "batchTRA <- immunelistfx(file_df_dedup$file_list, h4hpath, \"TRA\")"
   ]
  },
  {
   "cell_type": "code",
   "execution_count": null,
   "metadata": {
    "vscode": {
     "languageId": "r"
    }
   },
   "outputs": [],
   "source": [
    "names(batchTRA) <- gsub(\".*CLONES_TRA\", \"\", names(batchTRA))"
   ]
  },
  {
   "cell_type": "code",
   "execution_count": null,
   "metadata": {
    "vscode": {
     "languageId": "r"
    }
   },
   "outputs": [],
   "source": [
    "TRAlist <- batchTRA"
   ]
  },
  {
   "cell_type": "code",
   "execution_count": null,
   "metadata": {
    "vscode": {
     "languageId": "r"
    }
   },
   "outputs": [],
   "source": [
    "save(TRAlist, file = paste0(datapath,\"capTCRseq/TRAlist.RData\"))"
   ]
  },
  {
   "attachments": {},
   "cell_type": "markdown",
   "metadata": {},
   "source": [
    "### divstats"
   ]
  },
  {
   "cell_type": "code",
   "execution_count": null,
   "metadata": {
    "vscode": {
     "languageId": "r"
    }
   },
   "outputs": [],
   "source": [
    "load(file = paste0(datapath,\"capTCRseq/TRAfiles.RData\"))"
   ]
  },
  {
   "cell_type": "code",
   "execution_count": null,
   "metadata": {
    "vscode": {
     "languageId": "r"
    }
   },
   "outputs": [],
   "source": [
    "load(file = paste0(datapath,\"capTCRseq/TRAlist.RData\"))"
   ]
  },
  {
   "cell_type": "code",
   "execution_count": null,
   "metadata": {
    "vscode": {
     "languageId": "r"
    }
   },
   "outputs": [],
   "source": [
    "# remove lists with no clonotype\n",
    "TRAlist <- TRAlist[sapply(TRAlist, function(x) length((x)) != 0)]"
   ]
  },
  {
   "cell_type": "code",
   "execution_count": null,
   "metadata": {
    "vscode": {
     "languageId": "r"
    }
   },
   "outputs": [],
   "source": [
    "length(TRAlist)"
   ]
  },
  {
   "cell_type": "code",
   "execution_count": null,
   "metadata": {
    "scrolled": true,
    "vscode": {
     "languageId": "r"
    }
   },
   "outputs": [],
   "source": [
    "Divstats.fx(TRAlist, \"TRA\", \"CHP\" , paste0(datapath, \"capTCRseq/\"))"
   ]
  },
  {
   "attachments": {},
   "cell_type": "markdown",
   "metadata": {},
   "source": [
    "### Cleanup divstats"
   ]
  },
  {
   "cell_type": "code",
   "execution_count": null,
   "metadata": {
    "vscode": {
     "languageId": "r"
    }
   },
   "outputs": [],
   "source": [
    "divstats <- read.csv(paste0(datapath, \"capTCRseq/divstats_TRACHP.csv\"), header = T, stringsAsFactors = F, row.names = 1)"
   ]
  },
  {
   "cell_type": "code",
   "execution_count": null,
   "metadata": {
    "vscode": {
     "languageId": "r"
    }
   },
   "outputs": [],
   "source": [
    "# add filenames to divstats\n",
    "myfilenames <- file_df_dedup_tra[ file_df_dedup_tra$samplename %in% names(TRAlist),]"
   ]
  },
  {
   "cell_type": "code",
   "execution_count": null,
   "metadata": {
    "vscode": {
     "languageId": "r"
    }
   },
   "outputs": [],
   "source": [
    "dim(divstats)"
   ]
  },
  {
   "cell_type": "code",
   "execution_count": null,
   "metadata": {
    "vscode": {
     "languageId": "r"
    }
   },
   "outputs": [],
   "source": [
    "head(divstats)"
   ]
  },
  {
   "cell_type": "code",
   "execution_count": null,
   "metadata": {
    "vscode": {
     "languageId": "r"
    }
   },
   "outputs": [],
   "source": [
    "divstats$sample_id <- rownames(divstats)\n",
    "divstats$basename <- rownames(divstats)"
   ]
  },
  {
   "cell_type": "code",
   "execution_count": null,
   "metadata": {
    "vscode": {
     "languageId": "r"
    }
   },
   "outputs": [],
   "source": [
    "# add filenames to divstats\n",
    "divstats$file <- myfilenames$file_list[ match(divstats$sample_id, myfilenames$samplename)]"
   ]
  },
  {
   "cell_type": "code",
   "execution_count": null,
   "metadata": {
    "vscode": {
     "languageId": "r"
    }
   },
   "outputs": [],
   "source": [
    "dim(divstats)"
   ]
  },
  {
   "attachments": {},
   "cell_type": "markdown",
   "metadata": {},
   "source": [
    "Separate samples"
   ]
  },
  {
   "cell_type": "code",
   "execution_count": null,
   "metadata": {
    "vscode": {
     "languageId": "r"
    }
   },
   "outputs": [],
   "source": [
    "divstats$Sample <- NA\n",
    "divstats$Sample[grepl(\"PBMC\", rownames(divstats))] <- \"PBMC\"\n",
    "divstats$Sample[grepl(\"cfDNA\", rownames(divstats))] <- \"cfDNA\"\n",
    "divstats$Sample[grepl(\"FFPE\", rownames(divstats))] <- \"Tumor\""
   ]
  },
  {
   "attachments": {},
   "cell_type": "markdown",
   "metadata": {},
   "source": [
    "Separate LFS and non-LFS"
   ]
  },
  {
   "cell_type": "code",
   "execution_count": null,
   "metadata": {
    "vscode": {
     "languageId": "r"
    }
   },
   "outputs": [],
   "source": [
    "divstats$Group <- NA\n",
    "divstats$Group[grepl(\"LFS\", rownames(divstats))] <- \"LFS\"\n",
    "divstats$Group[grepl(\"CHP\", rownames(divstats))] <- \"CHP\""
   ]
  },
  {
   "attachments": {},
   "cell_type": "markdown",
   "metadata": {},
   "source": [
    "Get patient ids"
   ]
  },
  {
   "cell_type": "code",
   "execution_count": null,
   "metadata": {
    "vscode": {
     "languageId": "r"
    }
   },
   "outputs": [],
   "source": [
    "divstats$Patient <- NA\n",
    "# CHP\n",
    "divstats$Patient[divstats$Group == \"CHP\"] <- substr(rownames(divstats)[divstats$Group == \"CHP\"],1,7)\n",
    "# Normal samples have either YO or MO\n",
    "divstats$Patient[grepl(\"YO\", rownames(divstats))] <- gsub(\"_PBMC_DNA\", \"\", rownames(divstats)[grepl(\"YO\", rownames(divstats))])\n",
    "divstats$Patient[grepl(\"MO\", rownames(divstats))] <- gsub(\"_PBMC_DNA\", \"\", rownames(divstats)[grepl(\"MO\", rownames(divstats))])\n",
    "# LFS\n",
    "divstats$Patient[divstats$Group == \"LFS\"] <- substr(rownames(divstats)[divstats$Group == \"LFS\"],1,12)"
   ]
  },
  {
   "attachments": {},
   "cell_type": "markdown",
   "metadata": {},
   "source": [
    "Get cycles. For LFS, Normals and Tumors recode to 00"
   ]
  },
  {
   "cell_type": "code",
   "execution_count": null,
   "metadata": {
    "vscode": {
     "languageId": "r"
    }
   },
   "outputs": [],
   "source": [
    "divstats$Cycle <- NA\n",
    "divstats$Cycle[divstats$Group == \"CHP\"] <- substr(rownames(divstats)[divstats$Group == \"CHP\"],9,10)\n",
    "\n",
    "divstats$Cycle[grepl(\"YO\", rownames(divstats))] <- \"00\"\n",
    "divstats$Cycle[grepl(\"MO\", rownames(divstats))] <- \"00\"\n",
    "divstats$Cycle[ divstats$Sample == \"Tumor\"] <- \"00\"\n",
    "divstats$Cycle[ divstats$Group == \"LFS\"] <- \"00\""
   ]
  },
  {
   "cell_type": "code",
   "execution_count": null,
   "metadata": {
    "vscode": {
     "languageId": "r"
    }
   },
   "outputs": [],
   "source": [
    "divstats$sample_id <- NA\n",
    "\n",
    "# bind patient and cycle for PBMC and cfdna to generate sample id\n",
    "divstats$sample_id[ divstats$Sample != \"Tumor\"] <- paste(divstats$Patient[ divstats$Sample != \"Tumor\"], \"_\", \n",
    "                                                          divstats$Cycle[ divstats$Sample != \"Tumor\"], sep = \"\")\n",
    "\n",
    "# For tumor samples start with rownames because some of them are two biopsies from the same tumor\n",
    "divstats$sample_id[ divstats$Sample == \"Tumor\"] <- gsub(\"-FFPE-DN.*\", \"\", rownames(divstats)[ divstats$Sample == \"Tumor\"])"
   ]
  },
  {
   "cell_type": "code",
   "execution_count": null,
   "metadata": {
    "vscode": {
     "languageId": "r"
    }
   },
   "outputs": [],
   "source": [
    "divstats$sample_id <- gsub(\"-\", \"_\", divstats$sample_id)"
   ]
  },
  {
   "cell_type": "code",
   "execution_count": null,
   "metadata": {
    "vscode": {
     "languageId": "r"
    }
   },
   "outputs": [],
   "source": [
    "divstats$Patient <- NULL\n",
    "divstats$Cycle <- NULL\n",
    "divstats$Group <- NULL\n",
    "divstats$Sample <- NULL"
   ]
  },
  {
   "cell_type": "code",
   "execution_count": null,
   "metadata": {
    "vscode": {
     "languageId": "r"
    }
   },
   "outputs": [],
   "source": [
    "head(divstats)"
   ]
  },
  {
   "cell_type": "code",
   "execution_count": null,
   "metadata": {
    "vscode": {
     "languageId": "r"
    }
   },
   "outputs": [],
   "source": [
    "write.csv(divstats,\n",
    "          paste0(datapath, \"capTCRseq/divstats_TRACHP.csv\"), row.names = TRUE)"
   ]
  },
  {
   "cell_type": "code",
   "execution_count": null,
   "metadata": {
    "vscode": {
     "languageId": "r"
    }
   },
   "outputs": [],
   "source": []
  },
  {
   "attachments": {},
   "cell_type": "markdown",
   "metadata": {},
   "source": [
    "# Test dataset"
   ]
  },
  {
   "cell_type": "code",
   "execution_count": null,
   "metadata": {
    "vscode": {
     "languageId": "r"
    }
   },
   "outputs": [],
   "source": [
    "mordpath <- \"/Users/anabbi/Desktop/Sam/immpedcan/mixcr/Tcelllines/muldercelllines/mixcr/clones/\""
   ]
  },
  {
   "cell_type": "code",
   "execution_count": null,
   "metadata": {
    "vscode": {
     "languageId": "r"
    }
   },
   "outputs": [],
   "source": [
    "file_list <- list.files(mordpath, pattern = paste0(\"CLONES_\", \"TRB\"), recursive = T)"
   ]
  },
  {
   "cell_type": "code",
   "execution_count": null,
   "metadata": {
    "vscode": {
     "languageId": "r"
    }
   },
   "outputs": [],
   "source": [
    "file_list"
   ]
  },
  {
   "cell_type": "code",
   "execution_count": null,
   "metadata": {
    "vscode": {
     "languageId": "r"
    }
   },
   "outputs": [],
   "source": [
    "file_list <- file_list[ file_list != 'CLONES_TRBUndetermined_S0.txt']"
   ]
  },
  {
   "cell_type": "code",
   "execution_count": null,
   "metadata": {
    "vscode": {
     "languageId": "r"
    }
   },
   "outputs": [],
   "source": [
    "file_list"
   ]
  },
  {
   "cell_type": "code",
   "execution_count": null,
   "metadata": {
    "scrolled": true,
    "vscode": {
     "languageId": "r"
    }
   },
   "outputs": [],
   "source": [
    "cells <- immunelistfx(file_list, mordpath, \"TRB\")"
   ]
  },
  {
   "cell_type": "code",
   "execution_count": null,
   "metadata": {
    "vscode": {
     "languageId": "r"
    }
   },
   "outputs": [],
   "source": [
    "cells"
   ]
  },
  {
   "cell_type": "code",
   "execution_count": null,
   "metadata": {
    "vscode": {
     "languageId": "r"
    }
   },
   "outputs": [],
   "source": [
    "myimmunelist_cells <- cells "
   ]
  },
  {
   "cell_type": "code",
   "execution_count": null,
   "metadata": {
    "vscode": {
     "languageId": "r"
    }
   },
   "outputs": [],
   "source": [
    "save(myimmunelist_cells, file = paste0(datapath,\"capTCRseq/myimmunelist_cells.RData\"))"
   ]
  },
  {
   "cell_type": "code",
   "execution_count": null,
   "metadata": {
    "scrolled": true,
    "vscode": {
     "languageId": "r"
    }
   },
   "outputs": [],
   "source": [
    "Divstats.fx(myimmunelist_cells, \"TRB\", \"Cells\" , paste0(datapath, \"capTCRseq/\"))"
   ]
  },
  {
   "cell_type": "code",
   "execution_count": null,
   "metadata": {
    "vscode": {
     "languageId": "r"
    }
   },
   "outputs": [],
   "source": []
  },
  {
   "cell_type": "code",
   "execution_count": null,
   "metadata": {
    "vscode": {
     "languageId": "r"
    }
   },
   "outputs": [],
   "source": []
  },
  {
   "cell_type": "code",
   "execution_count": null,
   "metadata": {
    "vscode": {
     "languageId": "r"
    }
   },
   "outputs": [],
   "source": []
  },
  {
   "cell_type": "code",
   "execution_count": null,
   "metadata": {
    "vscode": {
     "languageId": "r"
    }
   },
   "outputs": [],
   "source": []
  },
  {
   "cell_type": "code",
   "execution_count": null,
   "metadata": {
    "vscode": {
     "languageId": "r"
    }
   },
   "outputs": [],
   "source": []
  }
 ],
 "metadata": {
  "kernelspec": {
   "display_name": "R 4.0",
   "language": "R",
   "name": "ir40"
  },
  "language_info": {
   "codemirror_mode": "r",
   "file_extension": ".r",
   "mimetype": "text/x-r-source",
   "name": "R",
   "pygments_lexer": "r",
   "version": "4.2.2"
  },
  "toc": {
   "base_numbering": 1,
   "nav_menu": {},
   "number_sections": false,
   "sideBar": true,
   "skip_h1_title": false,
   "title_cell": "Table of Contents",
   "title_sidebar": "Contents",
   "toc_cell": true,
   "toc_position": {
    "height": "calc(100% - 180px)",
    "left": "10px",
    "top": "150px",
    "width": "206.5px"
   },
   "toc_section_display": true,
   "toc_window_display": true
  }
 },
 "nbformat": 4,
 "nbformat_minor": 2
}
