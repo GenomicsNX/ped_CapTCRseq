{
 "cells": [
  {
   "cell_type": "markdown",
   "metadata": {
    "toc": true
   },
   "source": [
    "<h1>Table of Contents<span class=\"tocSkip\"></span></h1>\n",
    "<div class=\"toc\"><ul class=\"toc-item\"><li><span><a href=\"#Dependencies\" data-toc-modified-id=\"Dependencies-1\">Dependencies</a></span></li><li><span><a href=\"#Functions\" data-toc-modified-id=\"Functions-2\">Functions</a></span></li><li><span><a href=\"#Paths\" data-toc-modified-id=\"Paths-3\">Paths</a></span></li><li><span><a href=\"#Main\" data-toc-modified-id=\"Main-4\">Main</a></span><ul class=\"toc-item\"><li><span><a href=\"#TRB\" data-toc-modified-id=\"TRB-4.1\">TRB</a></span><ul class=\"toc-item\"><li><span><a href=\"#divstats\" data-toc-modified-id=\"divstats-4.1.1\">divstats</a></span></li><li><span><a href=\"#Cleanup-divstats\" data-toc-modified-id=\"Cleanup-divstats-4.1.2\">Cleanup divstats</a></span></li></ul></li><li><span><a href=\"#TRA\" data-toc-modified-id=\"TRA-4.2\">TRA</a></span><ul class=\"toc-item\"><li><span><a href=\"#divstats\" data-toc-modified-id=\"divstats-4.2.1\">divstats</a></span></li><li><span><a href=\"#Cleanup-divstats\" data-toc-modified-id=\"Cleanup-divstats-4.2.2\">Cleanup divstats</a></span></li></ul></li></ul></li><li><span><a href=\"#Test-dataset\" data-toc-modified-id=\"Test-dataset-5\">Test dataset</a></span></li></ul></div>"
   ]
  },
  {
   "cell_type": "markdown",
   "metadata": {},
   "source": [
    "# Dependencies"
   ]
  },
  {
   "cell_type": "markdown",
   "metadata": {},
   "source": [
    "# Functions"
   ]
  },
  {
   "cell_type": "code",
   "execution_count": 1,
   "metadata": {
    "vscode": {
     "languageId": "r"
    }
   },
   "outputs": [],
   "source": [
    "source(\"/Users/anabbi/git/ped_CapTCRseq/R/Immune_diversity.R\")"
   ]
  },
  {
   "cell_type": "markdown",
   "metadata": {},
   "source": [
    "# Paths"
   ]
  },
  {
   "cell_type": "code",
   "execution_count": 2,
   "metadata": {
    "vscode": {
     "languageId": "r"
    }
   },
   "outputs": [],
   "source": [
    "datapath <- \"/Users/anabbi/OneDrive - UHN/Documents/INTERCEPT/Data/\"\n",
    "plotpath <- \"/Users/anabbi/OneDrive - UHN/Documents/INTERCEPT/Plots/\"\n",
    "manifestpath <- \"/Users/anabbi/OneDrive - UHN/Documents/INTERCEPT/Manifests/\"\n",
    "\n",
    "gitpath <- \"/Users/anabbi/git/ped_CapTCRseq/\""
   ]
  },
  {
   "cell_type": "markdown",
   "metadata": {},
   "source": [
    "# Main"
   ]
  },
  {
   "cell_type": "code",
   "execution_count": 3,
   "metadata": {
    "vscode": {
     "languageId": "r"
    }
   },
   "outputs": [],
   "source": [
    "h4hpath <- \"/Users/anabbi/Desktop/H4H/INTERCEPT/NextSeq/\""
   ]
  },
  {
   "cell_type": "markdown",
   "metadata": {},
   "source": [
    "## TRB"
   ]
  },
  {
   "cell_type": "code",
   "execution_count": 4,
   "metadata": {
    "vscode": {
     "languageId": "r"
    }
   },
   "outputs": [],
   "source": [
    "file_list <- list.files(h4hpath, pattern = paste0(\"CLONES_\", \"TRB\"), recursive = T)"
   ]
  },
  {
   "cell_type": "code",
   "execution_count": null,
   "metadata": {
    "vscode": {
     "languageId": "r"
    }
   },
   "outputs": [],
   "source": [
    "tail(file_list)"
   ]
  },
  {
   "cell_type": "code",
   "execution_count": null,
   "metadata": {
    "vscode": {
     "languageId": "r"
    }
   },
   "outputs": [],
   "source": [
    "# remove downsample files\n",
    "file_list <- file_list[!grepl(\"_2000000\", file_list)]"
   ]
  },
  {
   "cell_type": "markdown",
   "metadata": {},
   "source": [
    "Some files are duplicated. Make a table to identify and pick the larger clone file"
   ]
  },
  {
   "cell_type": "code",
   "execution_count": null,
   "metadata": {
    "vscode": {
     "languageId": "r"
    }
   },
   "outputs": [],
   "source": [
    "file_df <- as.data.frame(file_list)"
   ]
  },
  {
   "cell_type": "code",
   "execution_count": null,
   "metadata": {
    "vscode": {
     "languageId": "r"
    }
   },
   "outputs": [],
   "source": [
    "file_df$samplename <- gsub(\".*CLONES_TRB\", \"\", file_df$file_list)\n",
    "file_df$samplename <- gsub(\".txt\", \"\", file_df$samplename)"
   ]
  },
  {
   "cell_type": "code",
   "execution_count": null,
   "metadata": {
    "vscode": {
     "languageId": "r"
    }
   },
   "outputs": [],
   "source": [
    "file_df$size <- NA\n",
    "for(i in 1:nrow(file_df)){\n",
    "    file_df$size[i] <- file.size(paste0(h4hpath,file_df$file_list[i]))\n",
    "}"
   ]
  },
  {
   "cell_type": "code",
   "execution_count": null,
   "metadata": {
    "vscode": {
     "languageId": "r"
    }
   },
   "outputs": [],
   "source": [
    "head(file_df)"
   ]
  },
  {
   "cell_type": "code",
   "execution_count": null,
   "metadata": {
    "vscode": {
     "languageId": "r"
    }
   },
   "outputs": [],
   "source": [
    "file_df[ grepl(\"383-03\", file_df$file_list),]"
   ]
  },
  {
   "cell_type": "code",
   "execution_count": null,
   "metadata": {
    "vscode": {
     "languageId": "r"
    }
   },
   "outputs": [],
   "source": [
    "file_df <- file_df[ !grepl(\"immunarch\", file_df$file_list),]"
   ]
  },
  {
   "cell_type": "code",
   "execution_count": null,
   "metadata": {
    "vscode": {
     "languageId": "r"
    }
   },
   "outputs": [],
   "source": [
    "#if duplicated keep the bigger file corresponding to deeper seqeuncing.\n",
    "file_df_dedup <- file_df[0,]\n",
    "\n",
    "for(s in unique(file_df$samplename)){\n",
    "    tmp <- file_df[ file_df$samplename == s,]\n",
    "    if(nrow(tmp) ==1 ){\n",
    "        file_df_dedup <- rbind(file_df_dedup, tmp)\n",
    "    }\n",
    "    if(nrow(tmp) > 1 ){\n",
    "        file_df_dedup <- rbind(file_df_dedup, tmp[ tmp$size == max(tmp$size),])\n",
    "    }    \n",
    "}"
   ]
  },
  {
   "cell_type": "code",
   "execution_count": null,
   "metadata": {
    "vscode": {
     "languageId": "r"
    }
   },
   "outputs": [],
   "source": [
    "file_df_dedup[ grepl(\"343-05\", file_df_dedup$file_list),]"
   ]
  },
  {
   "cell_type": "code",
   "execution_count": null,
   "metadata": {
    "vscode": {
     "languageId": "r"
    }
   },
   "outputs": [],
   "source": [
    "dim(file_df)\n",
    "dim(file_df_dedup)"
   ]
  },
  {
   "cell_type": "code",
   "execution_count": null,
   "metadata": {
    "vscode": {
     "languageId": "r"
    }
   },
   "outputs": [],
   "source": [
    "file_df_dedup_trb <- file_df_dedup\n",
    "save(file_df_dedup_trb, file = paste0(datapath,\"capTCRseq/TRBfiles.RData\"))"
   ]
  },
  {
   "cell_type": "code",
   "execution_count": null,
   "metadata": {
    "vscode": {
     "languageId": "r"
    }
   },
   "outputs": [],
   "source": [
    "batchTRB <- immunelistfx(file_df_dedup$file_list, h4hpath, \"TRB\")"
   ]
  },
  {
   "cell_type": "code",
   "execution_count": null,
   "metadata": {
    "vscode": {
     "languageId": "r"
    }
   },
   "outputs": [],
   "source": [
    "names(batchTRB) <- gsub(\".*CLONES_TRB\", \"\", names(batchTRB))"
   ]
  },
  {
   "cell_type": "code",
   "execution_count": null,
   "metadata": {
    "vscode": {
     "languageId": "r"
    }
   },
   "outputs": [],
   "source": [
    "head(names(batchTRB))"
   ]
  },
  {
   "cell_type": "code",
   "execution_count": null,
   "metadata": {
    "vscode": {
     "languageId": "r"
    }
   },
   "outputs": [],
   "source": [
    "TRBlist <- batchTRB "
   ]
  },
  {
   "cell_type": "code",
   "execution_count": null,
   "metadata": {
    "vscode": {
     "languageId": "r"
    }
   },
   "outputs": [],
   "source": [
    "save(TRBlist, file = paste0(datapath,\"capTCRseq/TRBlist.RData\"))"
   ]
  },
  {
   "cell_type": "markdown",
   "metadata": {},
   "source": [
    "### divstats"
   ]
  },
  {
   "cell_type": "code",
   "execution_count": 5,
   "metadata": {
    "vscode": {
     "languageId": "r"
    }
   },
   "outputs": [],
   "source": [
    "load(file = paste0(datapath,\"capTCRseq/TRBfiles.RData\"))"
   ]
  },
  {
   "cell_type": "code",
   "execution_count": 6,
   "metadata": {
    "vscode": {
     "languageId": "r"
    }
   },
   "outputs": [],
   "source": [
    "load(file = paste0(datapath,\"capTCRseq/TRBlist.RData\"))"
   ]
  },
  {
   "cell_type": "code",
   "execution_count": 7,
   "metadata": {
    "vscode": {
     "languageId": "r"
    }
   },
   "outputs": [],
   "source": [
    "# remove lists with no clonotype\n",
    "TRBlist <- TRBlist[sapply(TRBlist, function(x) length((x)) != 0)]"
   ]
  },
  {
   "cell_type": "code",
   "execution_count": 8,
   "metadata": {
    "vscode": {
     "languageId": "r"
    }
   },
   "outputs": [
    {
     "data": {
      "text/html": [
       "580"
      ],
      "text/latex": [
       "580"
      ],
      "text/markdown": [
       "580"
      ],
      "text/plain": [
       "[1] 580"
      ]
     },
     "metadata": {},
     "output_type": "display_data"
    }
   ],
   "source": [
    "length(names(TRBlist))"
   ]
  },
  {
   "cell_type": "code",
   "execution_count": 9,
   "metadata": {
    "vscode": {
     "languageId": "r"
    }
   },
   "outputs": [],
   "source": [
    "# add filenames to divstats\n",
    "myfilenames <- file_df_dedup_trb[ file_df_dedup_trb$samplename %in% names(TRBlist),]"
   ]
  },
  {
   "cell_type": "code",
   "execution_count": null,
   "metadata": {
    "scrolled": true,
    "vscode": {
     "languageId": "r"
    }
   },
   "outputs": [],
   "source": [
    "Divstats.fx(TRBlist, \"TRB\", \"CHP\" , paste0(datapath, \"capTCRseq/\"))"
   ]
  },
  {
   "cell_type": "markdown",
   "metadata": {},
   "source": [
    "### Cleanup divstats"
   ]
  },
  {
   "cell_type": "code",
   "execution_count": 10,
   "metadata": {
    "vscode": {
     "languageId": "r"
    }
   },
   "outputs": [],
   "source": [
    "divstats <- read.csv(paste0(datapath, \"capTCRseq/divstats_TRBCHP.csv\"), header = T, stringsAsFactors = F, row.names = 1)"
   ]
  },
  {
   "cell_type": "code",
   "execution_count": 11,
   "metadata": {
    "vscode": {
     "languageId": "r"
    }
   },
   "outputs": [
    {
     "data": {
      "text/html": [
       "<style>\n",
       ".list-inline {list-style: none; margin:0; padding: 0}\n",
       ".list-inline>li {display: inline-block}\n",
       ".list-inline>li:not(:last-child)::after {content: \"\\00b7\"; padding: 0 .5ex}\n",
       "</style>\n",
       "<ol class=list-inline><li>'CHP_315-05-PBMC-DNA'</li><li>'CHP_350-01-PBMC-DNA'</li><li>'CHP_350-02-PBMC-DNA'</li><li>'CHP_350-03-PBMC-DNA'</li><li>'CHP_350-04-PBMC-DNA'</li><li>'CHP_353-02-PBMC-DNA'</li></ol>\n"
      ],
      "text/latex": [
       "\\begin{enumerate*}\n",
       "\\item 'CHP\\_315-05-PBMC-DNA'\n",
       "\\item 'CHP\\_350-01-PBMC-DNA'\n",
       "\\item 'CHP\\_350-02-PBMC-DNA'\n",
       "\\item 'CHP\\_350-03-PBMC-DNA'\n",
       "\\item 'CHP\\_350-04-PBMC-DNA'\n",
       "\\item 'CHP\\_353-02-PBMC-DNA'\n",
       "\\end{enumerate*}\n"
      ],
      "text/markdown": [
       "1. 'CHP_315-05-PBMC-DNA'\n",
       "2. 'CHP_350-01-PBMC-DNA'\n",
       "3. 'CHP_350-02-PBMC-DNA'\n",
       "4. 'CHP_350-03-PBMC-DNA'\n",
       "5. 'CHP_350-04-PBMC-DNA'\n",
       "6. 'CHP_353-02-PBMC-DNA'\n",
       "\n",
       "\n"
      ],
      "text/plain": [
       "[1] \"CHP_315-05-PBMC-DNA\" \"CHP_350-01-PBMC-DNA\" \"CHP_350-02-PBMC-DNA\"\n",
       "[4] \"CHP_350-03-PBMC-DNA\" \"CHP_350-04-PBMC-DNA\" \"CHP_353-02-PBMC-DNA\""
      ]
     },
     "metadata": {},
     "output_type": "display_data"
    }
   ],
   "source": [
    "head(rownames(divstats))"
   ]
  },
  {
   "cell_type": "code",
   "execution_count": 12,
   "metadata": {
    "scrolled": true,
    "vscode": {
     "languageId": "r"
    }
   },
   "outputs": [
    {
     "data": {
      "text/html": [
       "<table class=\"dataframe\">\n",
       "<caption>A data.frame: 6 × 22</caption>\n",
       "<thead>\n",
       "\t<tr><th></th><th scope=col>TRB</th><th scope=col>Reads</th><th scope=col>CPKR</th><th scope=col>Average_reads</th><th scope=col>VMR</th><th scope=col>Max_reads</th><th scope=col>Singletons</th><th scope=col>Doubletons</th><th scope=col>qD</th><th scope=col>Sample_Coverage</th><th scope=col>⋯</th><th scope=col>SE_Richeness</th><th scope=col>observed_Shannon</th><th scope=col>estimated_Shannon</th><th scope=col>SE_Shannon</th><th scope=col>observed_Simpson</th><th scope=col>estimated_Simpson</th><th scope=col>SE_Simpson</th><th scope=col>sample_id</th><th scope=col>file</th><th scope=col>basename</th></tr>\n",
       "\t<tr><th></th><th scope=col>&lt;int&gt;</th><th scope=col>&lt;int&gt;</th><th scope=col>&lt;dbl&gt;</th><th scope=col>&lt;dbl&gt;</th><th scope=col>&lt;dbl&gt;</th><th scope=col>&lt;int&gt;</th><th scope=col>&lt;int&gt;</th><th scope=col>&lt;int&gt;</th><th scope=col>&lt;dbl&gt;</th><th scope=col>&lt;dbl&gt;</th><th scope=col>⋯</th><th scope=col>&lt;dbl&gt;</th><th scope=col>&lt;dbl&gt;</th><th scope=col>&lt;dbl&gt;</th><th scope=col>&lt;dbl&gt;</th><th scope=col>&lt;dbl&gt;</th><th scope=col>&lt;dbl&gt;</th><th scope=col>&lt;dbl&gt;</th><th scope=col>&lt;chr&gt;</th><th scope=col>&lt;chr&gt;</th><th scope=col>&lt;chr&gt;</th></tr>\n",
       "</thead>\n",
       "<tbody>\n",
       "\t<tr><th scope=row>CHP_315-05-PBMC-DNA</th><td> 27</td><td> 659</td><td> 40.97117</td><td>24.407407</td><td>1.4380040</td><td>187</td><td> 1</td><td> 1</td><td> 27.432</td><td>1.000</td><td>⋯</td><td> 1.321</td><td> 15.470</td><td> 15.793</td><td>0.629</td><td>  9.026</td><td>  9.138</td><td>0.749</td><td>CHP_315_05</td><td>batch4_19Aug2019/mixcr/clones/CLONES_TRBCHP_315-05-PBMC-DNA.txt     </td><td>CHP_315-05-PBMC-DNA</td></tr>\n",
       "\t<tr><th scope=row>CHP_350-01-PBMC-DNA</th><td>153</td><td>1647</td><td> 92.89617</td><td>10.764706</td><td>0.7872963</td><td> 59</td><td> 5</td><td> 6</td><td>154.893</td><td>1.000</td><td>⋯</td><td> 2.505</td><td>119.726</td><td>125.659</td><td>2.301</td><td> 94.691</td><td>100.406</td><td>3.548</td><td>CHP_350_01</td><td>batch_reseq_24Feb2020/mixcr/clones/CLONES_TRBCHP_350-01-PBMC-DNA.txt</td><td>CHP_350-01-PBMC-DNA</td></tr>\n",
       "\t<tr><th scope=row>CHP_350-02-PBMC-DNA</th><td>269</td><td>2992</td><td> 89.90642</td><td>11.122677</td><td>0.8300771</td><td> 92</td><td>17</td><td> 5</td><td>281.850</td><td>0.997</td><td>⋯</td><td>19.804</td><td>208.211</td><td>219.073</td><td>2.860</td><td>159.505</td><td>168.431</td><td>5.211</td><td>CHP_350_02</td><td>batch_reseq_24Feb2020/mixcr/clones/CLONES_TRBCHP_350-02-PBMC-DNA.txt</td><td>CHP_350-02-PBMC-DNA</td></tr>\n",
       "\t<tr><th scope=row>CHP_350-03-PBMC-DNA</th><td>207</td><td>2134</td><td> 97.00094</td><td>10.309179</td><td>0.7807083</td><td> 52</td><td> 9</td><td>10</td><td>210.609</td><td>1.000</td><td>⋯</td><td> 3.601</td><td>159.579</td><td>167.953</td><td>2.785</td><td>128.847</td><td>137.062</td><td>3.485</td><td>CHP_350_03</td><td>batch_reseq_24Feb2020/mixcr/clones/CLONES_TRBCHP_350-03-PBMC-DNA.txt</td><td>CHP_350-03-PBMC-DNA</td></tr>\n",
       "\t<tr><th scope=row>CHP_350-04-PBMC-DNA</th><td>106</td><td> 989</td><td>107.17897</td><td> 9.330189</td><td>0.7731222</td><td> 34</td><td>10</td><td> 2</td><td>114.239</td><td>0.993</td><td>⋯</td><td>24.214</td><td> 80.930</td><td> 86.422</td><td>2.147</td><td> 66.580</td><td> 71.313</td><td>2.548</td><td>CHP_350_04</td><td>batch_reseq_24Feb2020/mixcr/clones/CLONES_TRBCHP_350-04-PBMC-DNA.txt</td><td>CHP_350-04-PBMC-DNA</td></tr>\n",
       "\t<tr><th scope=row>CHP_353-02-PBMC-DNA</th><td> 16</td><td> 234</td><td> 68.37607</td><td>14.625000</td><td>0.5897147</td><td> 35</td><td> 1</td><td> 0</td><td> 16.000</td><td>1.000</td><td>⋯</td><td> 0.545</td><td> 13.360</td><td> 13.807</td><td>0.503</td><td> 12.066</td><td> 12.668</td><td>0.655</td><td>CHP_353_02</td><td>batch_reseq_24Feb2020/mixcr/clones/CLONES_TRBCHP_353-02-PBMC-DNA.txt</td><td>CHP_353-02-PBMC-DNA</td></tr>\n",
       "</tbody>\n",
       "</table>\n"
      ],
      "text/latex": [
       "A data.frame: 6 × 22\n",
       "\\begin{tabular}{r|lllllllllllllllllllll}\n",
       "  & TRB & Reads & CPKR & Average\\_reads & VMR & Max\\_reads & Singletons & Doubletons & qD & Sample\\_Coverage & ⋯ & SE\\_Richeness & observed\\_Shannon & estimated\\_Shannon & SE\\_Shannon & observed\\_Simpson & estimated\\_Simpson & SE\\_Simpson & sample\\_id & file & basename\\\\\n",
       "  & <int> & <int> & <dbl> & <dbl> & <dbl> & <int> & <int> & <int> & <dbl> & <dbl> & ⋯ & <dbl> & <dbl> & <dbl> & <dbl> & <dbl> & <dbl> & <dbl> & <chr> & <chr> & <chr>\\\\\n",
       "\\hline\n",
       "\tCHP\\_315-05-PBMC-DNA &  27 &  659 &  40.97117 & 24.407407 & 1.4380040 & 187 &  1 &  1 &  27.432 & 1.000 & ⋯ &  1.321 &  15.470 &  15.793 & 0.629 &   9.026 &   9.138 & 0.749 & CHP\\_315\\_05 & batch4\\_19Aug2019/mixcr/clones/CLONES\\_TRBCHP\\_315-05-PBMC-DNA.txt      & CHP\\_315-05-PBMC-DNA\\\\\n",
       "\tCHP\\_350-01-PBMC-DNA & 153 & 1647 &  92.89617 & 10.764706 & 0.7872963 &  59 &  5 &  6 & 154.893 & 1.000 & ⋯ &  2.505 & 119.726 & 125.659 & 2.301 &  94.691 & 100.406 & 3.548 & CHP\\_350\\_01 & batch\\_reseq\\_24Feb2020/mixcr/clones/CLONES\\_TRBCHP\\_350-01-PBMC-DNA.txt & CHP\\_350-01-PBMC-DNA\\\\\n",
       "\tCHP\\_350-02-PBMC-DNA & 269 & 2992 &  89.90642 & 11.122677 & 0.8300771 &  92 & 17 &  5 & 281.850 & 0.997 & ⋯ & 19.804 & 208.211 & 219.073 & 2.860 & 159.505 & 168.431 & 5.211 & CHP\\_350\\_02 & batch\\_reseq\\_24Feb2020/mixcr/clones/CLONES\\_TRBCHP\\_350-02-PBMC-DNA.txt & CHP\\_350-02-PBMC-DNA\\\\\n",
       "\tCHP\\_350-03-PBMC-DNA & 207 & 2134 &  97.00094 & 10.309179 & 0.7807083 &  52 &  9 & 10 & 210.609 & 1.000 & ⋯ &  3.601 & 159.579 & 167.953 & 2.785 & 128.847 & 137.062 & 3.485 & CHP\\_350\\_03 & batch\\_reseq\\_24Feb2020/mixcr/clones/CLONES\\_TRBCHP\\_350-03-PBMC-DNA.txt & CHP\\_350-03-PBMC-DNA\\\\\n",
       "\tCHP\\_350-04-PBMC-DNA & 106 &  989 & 107.17897 &  9.330189 & 0.7731222 &  34 & 10 &  2 & 114.239 & 0.993 & ⋯ & 24.214 &  80.930 &  86.422 & 2.147 &  66.580 &  71.313 & 2.548 & CHP\\_350\\_04 & batch\\_reseq\\_24Feb2020/mixcr/clones/CLONES\\_TRBCHP\\_350-04-PBMC-DNA.txt & CHP\\_350-04-PBMC-DNA\\\\\n",
       "\tCHP\\_353-02-PBMC-DNA &  16 &  234 &  68.37607 & 14.625000 & 0.5897147 &  35 &  1 &  0 &  16.000 & 1.000 & ⋯ &  0.545 &  13.360 &  13.807 & 0.503 &  12.066 &  12.668 & 0.655 & CHP\\_353\\_02 & batch\\_reseq\\_24Feb2020/mixcr/clones/CLONES\\_TRBCHP\\_353-02-PBMC-DNA.txt & CHP\\_353-02-PBMC-DNA\\\\\n",
       "\\end{tabular}\n"
      ],
      "text/markdown": [
       "\n",
       "A data.frame: 6 × 22\n",
       "\n",
       "| <!--/--> | TRB &lt;int&gt; | Reads &lt;int&gt; | CPKR &lt;dbl&gt; | Average_reads &lt;dbl&gt; | VMR &lt;dbl&gt; | Max_reads &lt;int&gt; | Singletons &lt;int&gt; | Doubletons &lt;int&gt; | qD &lt;dbl&gt; | Sample_Coverage &lt;dbl&gt; | ⋯ ⋯ | SE_Richeness &lt;dbl&gt; | observed_Shannon &lt;dbl&gt; | estimated_Shannon &lt;dbl&gt; | SE_Shannon &lt;dbl&gt; | observed_Simpson &lt;dbl&gt; | estimated_Simpson &lt;dbl&gt; | SE_Simpson &lt;dbl&gt; | sample_id &lt;chr&gt; | file &lt;chr&gt; | basename &lt;chr&gt; |\n",
       "|---|---|---|---|---|---|---|---|---|---|---|---|---|---|---|---|---|---|---|---|---|---|\n",
       "| CHP_315-05-PBMC-DNA |  27 |  659 |  40.97117 | 24.407407 | 1.4380040 | 187 |  1 |  1 |  27.432 | 1.000 | ⋯ |  1.321 |  15.470 |  15.793 | 0.629 |   9.026 |   9.138 | 0.749 | CHP_315_05 | batch4_19Aug2019/mixcr/clones/CLONES_TRBCHP_315-05-PBMC-DNA.txt      | CHP_315-05-PBMC-DNA |\n",
       "| CHP_350-01-PBMC-DNA | 153 | 1647 |  92.89617 | 10.764706 | 0.7872963 |  59 |  5 |  6 | 154.893 | 1.000 | ⋯ |  2.505 | 119.726 | 125.659 | 2.301 |  94.691 | 100.406 | 3.548 | CHP_350_01 | batch_reseq_24Feb2020/mixcr/clones/CLONES_TRBCHP_350-01-PBMC-DNA.txt | CHP_350-01-PBMC-DNA |\n",
       "| CHP_350-02-PBMC-DNA | 269 | 2992 |  89.90642 | 11.122677 | 0.8300771 |  92 | 17 |  5 | 281.850 | 0.997 | ⋯ | 19.804 | 208.211 | 219.073 | 2.860 | 159.505 | 168.431 | 5.211 | CHP_350_02 | batch_reseq_24Feb2020/mixcr/clones/CLONES_TRBCHP_350-02-PBMC-DNA.txt | CHP_350-02-PBMC-DNA |\n",
       "| CHP_350-03-PBMC-DNA | 207 | 2134 |  97.00094 | 10.309179 | 0.7807083 |  52 |  9 | 10 | 210.609 | 1.000 | ⋯ |  3.601 | 159.579 | 167.953 | 2.785 | 128.847 | 137.062 | 3.485 | CHP_350_03 | batch_reseq_24Feb2020/mixcr/clones/CLONES_TRBCHP_350-03-PBMC-DNA.txt | CHP_350-03-PBMC-DNA |\n",
       "| CHP_350-04-PBMC-DNA | 106 |  989 | 107.17897 |  9.330189 | 0.7731222 |  34 | 10 |  2 | 114.239 | 0.993 | ⋯ | 24.214 |  80.930 |  86.422 | 2.147 |  66.580 |  71.313 | 2.548 | CHP_350_04 | batch_reseq_24Feb2020/mixcr/clones/CLONES_TRBCHP_350-04-PBMC-DNA.txt | CHP_350-04-PBMC-DNA |\n",
       "| CHP_353-02-PBMC-DNA |  16 |  234 |  68.37607 | 14.625000 | 0.5897147 |  35 |  1 |  0 |  16.000 | 1.000 | ⋯ |  0.545 |  13.360 |  13.807 | 0.503 |  12.066 |  12.668 | 0.655 | CHP_353_02 | batch_reseq_24Feb2020/mixcr/clones/CLONES_TRBCHP_353-02-PBMC-DNA.txt | CHP_353-02-PBMC-DNA |\n",
       "\n"
      ],
      "text/plain": [
       "                    TRB Reads CPKR      Average_reads VMR       Max_reads\n",
       "CHP_315-05-PBMC-DNA  27  659   40.97117 24.407407     1.4380040 187      \n",
       "CHP_350-01-PBMC-DNA 153 1647   92.89617 10.764706     0.7872963  59      \n",
       "CHP_350-02-PBMC-DNA 269 2992   89.90642 11.122677     0.8300771  92      \n",
       "CHP_350-03-PBMC-DNA 207 2134   97.00094 10.309179     0.7807083  52      \n",
       "CHP_350-04-PBMC-DNA 106  989  107.17897  9.330189     0.7731222  34      \n",
       "CHP_353-02-PBMC-DNA  16  234   68.37607 14.625000     0.5897147  35      \n",
       "                    Singletons Doubletons qD      Sample_Coverage ⋯\n",
       "CHP_315-05-PBMC-DNA  1          1          27.432 1.000           ⋯\n",
       "CHP_350-01-PBMC-DNA  5          6         154.893 1.000           ⋯\n",
       "CHP_350-02-PBMC-DNA 17          5         281.850 0.997           ⋯\n",
       "CHP_350-03-PBMC-DNA  9         10         210.609 1.000           ⋯\n",
       "CHP_350-04-PBMC-DNA 10          2         114.239 0.993           ⋯\n",
       "CHP_353-02-PBMC-DNA  1          0          16.000 1.000           ⋯\n",
       "                    SE_Richeness observed_Shannon estimated_Shannon SE_Shannon\n",
       "CHP_315-05-PBMC-DNA  1.321        15.470           15.793           0.629     \n",
       "CHP_350-01-PBMC-DNA  2.505       119.726          125.659           2.301     \n",
       "CHP_350-02-PBMC-DNA 19.804       208.211          219.073           2.860     \n",
       "CHP_350-03-PBMC-DNA  3.601       159.579          167.953           2.785     \n",
       "CHP_350-04-PBMC-DNA 24.214        80.930           86.422           2.147     \n",
       "CHP_353-02-PBMC-DNA  0.545        13.360           13.807           0.503     \n",
       "                    observed_Simpson estimated_Simpson SE_Simpson sample_id \n",
       "CHP_315-05-PBMC-DNA   9.026            9.138           0.749      CHP_315_05\n",
       "CHP_350-01-PBMC-DNA  94.691          100.406           3.548      CHP_350_01\n",
       "CHP_350-02-PBMC-DNA 159.505          168.431           5.211      CHP_350_02\n",
       "CHP_350-03-PBMC-DNA 128.847          137.062           3.485      CHP_350_03\n",
       "CHP_350-04-PBMC-DNA  66.580           71.313           2.548      CHP_350_04\n",
       "CHP_353-02-PBMC-DNA  12.066           12.668           0.655      CHP_353_02\n",
       "                    file                                                                \n",
       "CHP_315-05-PBMC-DNA batch4_19Aug2019/mixcr/clones/CLONES_TRBCHP_315-05-PBMC-DNA.txt     \n",
       "CHP_350-01-PBMC-DNA batch_reseq_24Feb2020/mixcr/clones/CLONES_TRBCHP_350-01-PBMC-DNA.txt\n",
       "CHP_350-02-PBMC-DNA batch_reseq_24Feb2020/mixcr/clones/CLONES_TRBCHP_350-02-PBMC-DNA.txt\n",
       "CHP_350-03-PBMC-DNA batch_reseq_24Feb2020/mixcr/clones/CLONES_TRBCHP_350-03-PBMC-DNA.txt\n",
       "CHP_350-04-PBMC-DNA batch_reseq_24Feb2020/mixcr/clones/CLONES_TRBCHP_350-04-PBMC-DNA.txt\n",
       "CHP_353-02-PBMC-DNA batch_reseq_24Feb2020/mixcr/clones/CLONES_TRBCHP_353-02-PBMC-DNA.txt\n",
       "                    basename           \n",
       "CHP_315-05-PBMC-DNA CHP_315-05-PBMC-DNA\n",
       "CHP_350-01-PBMC-DNA CHP_350-01-PBMC-DNA\n",
       "CHP_350-02-PBMC-DNA CHP_350-02-PBMC-DNA\n",
       "CHP_350-03-PBMC-DNA CHP_350-03-PBMC-DNA\n",
       "CHP_350-04-PBMC-DNA CHP_350-04-PBMC-DNA\n",
       "CHP_353-02-PBMC-DNA CHP_353-02-PBMC-DNA"
      ]
     },
     "metadata": {},
     "output_type": "display_data"
    }
   ],
   "source": [
    "head(divstats)"
   ]
  },
  {
   "cell_type": "code",
   "execution_count": 13,
   "metadata": {
    "vscode": {
     "languageId": "r"
    }
   },
   "outputs": [],
   "source": [
    "#add 9 samples with nonproductive cdr3\n",
    "addsamples <- c('CHP_347-01-cfDNA','CHP_366-05_cfDNA','CHP_377-01-cfDNA',\n",
    "                'CHP_381-05_cfDNA','CHP_391-02_cfDNA','CHP_392-01_cfDNA',\n",
    "                'CHP_398-01_cfDNA','CHP_401-03_cfDNA','CHP_419-FFPE-DNA_S2')"
   ]
  },
  {
   "cell_type": "code",
   "execution_count": 14,
   "metadata": {
    "vscode": {
     "languageId": "r"
    }
   },
   "outputs": [],
   "source": [
    "divstats[ nrow(divstats) + 9 , ] <- NA"
   ]
  },
  {
   "cell_type": "code",
   "execution_count": 17,
   "metadata": {
    "vscode": {
     "languageId": "r"
    }
   },
   "outputs": [],
   "source": [
    "rownames(divstats)[is.na(divstats$TRB)] <- addsamples"
   ]
  },
  {
   "cell_type": "code",
   "execution_count": 18,
   "metadata": {
    "vscode": {
     "languageId": "r"
    }
   },
   "outputs": [],
   "source": [
    "#example sample_id CHP_xxx_xx\n",
    "divstats$sample_id <- rownames(divstats)\n",
    "\n",
    "#example basename CHP_xxx-xx-PBMC-DNA\n",
    "divstats$basename <- rownames(divstats)"
   ]
  },
  {
   "cell_type": "code",
   "execution_count": 19,
   "metadata": {
    "vscode": {
     "languageId": "r"
    }
   },
   "outputs": [],
   "source": [
    "# add filenames to divstats\n",
    "divstats$file <- myfilenames$file_list[ match(divstats$sample_id, myfilenames$samplename)]"
   ]
  },
  {
   "cell_type": "markdown",
   "metadata": {},
   "source": [
    "Separate samples"
   ]
  },
  {
   "cell_type": "code",
   "execution_count": 21,
   "metadata": {
    "vscode": {
     "languageId": "r"
    }
   },
   "outputs": [],
   "source": [
    "#divstats$Sample <- NULL"
   ]
  },
  {
   "cell_type": "code",
   "execution_count": 22,
   "metadata": {
    "vscode": {
     "languageId": "r"
    }
   },
   "outputs": [],
   "source": [
    "divstats$Sample <- NA\n",
    "divstats$Sample[grepl(\"PBMC\", rownames(divstats))] <- \"PBMC\"\n",
    "divstats$Sample[grepl(\"cfDNA\", rownames(divstats))] <- \"cfDNA\"\n",
    "divstats$Sample[grepl(\"FFPE\", rownames(divstats))] <- \"Tumor\""
   ]
  },
  {
   "cell_type": "markdown",
   "metadata": {},
   "source": [
    "Separate LFS and non-LFS"
   ]
  },
  {
   "cell_type": "code",
   "execution_count": 23,
   "metadata": {
    "vscode": {
     "languageId": "r"
    }
   },
   "outputs": [],
   "source": [
    "divstats$Group <- NA\n",
    "divstats$Group[grepl(\"LFS\", rownames(divstats))] <- \"LFS\"\n",
    "divstats$Group[grepl(\"CHP\", rownames(divstats))] <- \"CHP\""
   ]
  },
  {
   "cell_type": "code",
   "execution_count": 24,
   "metadata": {
    "vscode": {
     "languageId": "r"
    }
   },
   "outputs": [],
   "source": [
    "#table(divstats$Group, useNA = \"always\")"
   ]
  },
  {
   "cell_type": "code",
   "execution_count": 25,
   "metadata": {
    "vscode": {
     "languageId": "r"
    }
   },
   "outputs": [],
   "source": [
    "#tapply(divstats$TRB, divstats$sampletype, summary)"
   ]
  },
  {
   "cell_type": "code",
   "execution_count": 26,
   "metadata": {
    "vscode": {
     "languageId": "r"
    }
   },
   "outputs": [
    {
     "data": {
      "text/plain": [
       "    Min.  1st Qu.   Median     Mean  3rd Qu.     Max.     NA's \n",
       "     1.0    841.8   3088.5  18710.4  12587.8 363060.0        9 "
      ]
     },
     "metadata": {},
     "output_type": "display_data"
    }
   ],
   "source": [
    "summary(divstats$Reads)"
   ]
  },
  {
   "cell_type": "markdown",
   "metadata": {},
   "source": [
    "Get patient ids"
   ]
  },
  {
   "cell_type": "code",
   "execution_count": 27,
   "metadata": {
    "vscode": {
     "languageId": "r"
    }
   },
   "outputs": [],
   "source": [
    "divstats$Patient <- NA\n",
    "# CHP\n",
    "divstats$Patient[divstats$Group == \"CHP\"] <- substr(rownames(divstats)[divstats$Group == \"CHP\"],1,7)\n",
    "# Normal samples have either YO or MO\n",
    "divstats$Patient[grepl(\"YO\", rownames(divstats))] <- gsub(\"_PBMC_DNA\", \"\", rownames(divstats)[grepl(\"YO\", rownames(divstats))])\n",
    "divstats$Patient[grepl(\"MO\", rownames(divstats))] <- gsub(\"_PBMC_DNA\", \"\", rownames(divstats)[grepl(\"MO\", rownames(divstats))])\n",
    "# LFS\n",
    "divstats$Patient[divstats$Group == \"LFS\"] <- substr(rownames(divstats)[divstats$Group == \"LFS\"],1,12)"
   ]
  },
  {
   "cell_type": "markdown",
   "metadata": {},
   "source": [
    "Get cycles. For LFS, Normals and Tumors recode to 00"
   ]
  },
  {
   "cell_type": "code",
   "execution_count": 28,
   "metadata": {
    "vscode": {
     "languageId": "r"
    }
   },
   "outputs": [],
   "source": [
    "divstats$Cycle <- NA\n",
    "divstats$Cycle[divstats$Group == \"CHP\"] <- substr(rownames(divstats)[divstats$Group == \"CHP\"],9,10)\n",
    "divstats$Cycle[grepl(\"YO\", rownames(divstats))] <- \"00\"\n",
    "divstats$Cycle[grepl(\"MO\", rownames(divstats))] <- \"00\"\n",
    "divstats$Cycle[ divstats$Sample == \"Tumor\"] <- \"00\"\n",
    "divstats$Cycle[ divstats$Group == \"LFS\"] <- \"00\""
   ]
  },
  {
   "cell_type": "code",
   "execution_count": 29,
   "metadata": {
    "vscode": {
     "languageId": "r"
    }
   },
   "outputs": [],
   "source": [
    "divstats$sample_id <- NA\n",
    "\n",
    "# bind patient and cycle for PBMC and cfdna to generate sample id\n",
    "divstats$sample_id[ divstats$Sample != \"Tumor\"] <- paste(divstats$Patient[ divstats$Sample != \"Tumor\"], \"_\", \n",
    "                                                          divstats$Cycle[ divstats$Sample != \"Tumor\"], sep = \"\")\n",
    "\n",
    "# For tumor samples start with rownames because some of them are two biopsies from the same tumor\n",
    "divstats$sample_id[ divstats$Sample == \"Tumor\"] <- gsub(\"-FFPE-DN.*\", \"\", rownames(divstats)[ divstats$Sample == \"Tumor\"])"
   ]
  },
  {
   "cell_type": "code",
   "execution_count": 30,
   "metadata": {
    "vscode": {
     "languageId": "r"
    }
   },
   "outputs": [],
   "source": [
    "divstats$sample_id <- gsub(\"-\", \"_\", divstats$sample_id)"
   ]
  },
  {
   "cell_type": "code",
   "execution_count": 31,
   "metadata": {
    "vscode": {
     "languageId": "r"
    }
   },
   "outputs": [],
   "source": [
    "divstats$Patient <- NULL\n",
    "divstats$Cycle <- NULL\n",
    "divstats$Sample <- NULL\n",
    "divstats$Group <- NULL"
   ]
  },
  {
   "cell_type": "code",
   "execution_count": 35,
   "metadata": {
    "vscode": {
     "languageId": "r"
    }
   },
   "outputs": [
    {
     "data": {
      "text/html": [
       "<table class=\"dataframe\">\n",
       "<caption>A data.frame: 10 × 22</caption>\n",
       "<thead>\n",
       "\t<tr><th></th><th scope=col>TRB</th><th scope=col>Reads</th><th scope=col>CPKR</th><th scope=col>Average_reads</th><th scope=col>VMR</th><th scope=col>Max_reads</th><th scope=col>Singletons</th><th scope=col>Doubletons</th><th scope=col>qD</th><th scope=col>Sample_Coverage</th><th scope=col>⋯</th><th scope=col>SE_Richeness</th><th scope=col>observed_Shannon</th><th scope=col>estimated_Shannon</th><th scope=col>SE_Shannon</th><th scope=col>observed_Simpson</th><th scope=col>estimated_Simpson</th><th scope=col>SE_Simpson</th><th scope=col>sample_id</th><th scope=col>file</th><th scope=col>basename</th></tr>\n",
       "\t<tr><th></th><th scope=col>&lt;int&gt;</th><th scope=col>&lt;int&gt;</th><th scope=col>&lt;dbl&gt;</th><th scope=col>&lt;dbl&gt;</th><th scope=col>&lt;dbl&gt;</th><th scope=col>&lt;int&gt;</th><th scope=col>&lt;int&gt;</th><th scope=col>&lt;int&gt;</th><th scope=col>&lt;dbl&gt;</th><th scope=col>&lt;dbl&gt;</th><th scope=col>⋯</th><th scope=col>&lt;dbl&gt;</th><th scope=col>&lt;dbl&gt;</th><th scope=col>&lt;dbl&gt;</th><th scope=col>&lt;dbl&gt;</th><th scope=col>&lt;dbl&gt;</th><th scope=col>&lt;dbl&gt;</th><th scope=col>&lt;dbl&gt;</th><th scope=col>&lt;chr&gt;</th><th scope=col>&lt;chr&gt;</th><th scope=col>&lt;chr&gt;</th></tr>\n",
       "</thead>\n",
       "<tbody>\n",
       "\t<tr><th scope=row>CHP_383-03_cfDNA</th><td> 2</td><td>1135</td><td>1.762115</td><td>567.5</td><td>1.117665</td><td>1016</td><td> 0</td><td> 0</td><td> 2</td><td> 1</td><td>⋯</td><td> 0</td><td>1.399</td><td>1.399</td><td>0.028</td><td>1.231</td><td>1.231</td><td>0.022</td><td>CHP_383_03</td><td>remaining_batch_5_cfDNA_22April2021/mixcr/clones/CLONES_TRBCHP_383-03_cfDNA.txt</td><td>CHP_383-03_cfDNA   </td></tr>\n",
       "\t<tr><th scope=row>CHP_347-01-cfDNA</th><td>NA</td><td>  NA</td><td>      NA</td><td>   NA</td><td>      NA</td><td>  NA</td><td>NA</td><td>NA</td><td>NA</td><td>NA</td><td>⋯</td><td>NA</td><td>   NA</td><td>   NA</td><td>   NA</td><td>   NA</td><td>   NA</td><td>   NA</td><td>CHP_347_01</td><td>NA                                                                             </td><td>CHP_347-01-cfDNA   </td></tr>\n",
       "\t<tr><th scope=row>CHP_366-05_cfDNA</th><td>NA</td><td>  NA</td><td>      NA</td><td>   NA</td><td>      NA</td><td>  NA</td><td>NA</td><td>NA</td><td>NA</td><td>NA</td><td>⋯</td><td>NA</td><td>   NA</td><td>   NA</td><td>   NA</td><td>   NA</td><td>   NA</td><td>   NA</td><td>CHP_366_05</td><td>NA                                                                             </td><td>CHP_366-05_cfDNA   </td></tr>\n",
       "\t<tr><th scope=row>CHP_377-01-cfDNA</th><td>NA</td><td>  NA</td><td>      NA</td><td>   NA</td><td>      NA</td><td>  NA</td><td>NA</td><td>NA</td><td>NA</td><td>NA</td><td>⋯</td><td>NA</td><td>   NA</td><td>   NA</td><td>   NA</td><td>   NA</td><td>   NA</td><td>   NA</td><td>CHP_377_01</td><td>NA                                                                             </td><td>CHP_377-01-cfDNA   </td></tr>\n",
       "\t<tr><th scope=row>CHP_381-05_cfDNA</th><td>NA</td><td>  NA</td><td>      NA</td><td>   NA</td><td>      NA</td><td>  NA</td><td>NA</td><td>NA</td><td>NA</td><td>NA</td><td>⋯</td><td>NA</td><td>   NA</td><td>   NA</td><td>   NA</td><td>   NA</td><td>   NA</td><td>   NA</td><td>CHP_381_05</td><td>NA                                                                             </td><td>CHP_381-05_cfDNA   </td></tr>\n",
       "\t<tr><th scope=row>CHP_391-02_cfDNA</th><td>NA</td><td>  NA</td><td>      NA</td><td>   NA</td><td>      NA</td><td>  NA</td><td>NA</td><td>NA</td><td>NA</td><td>NA</td><td>⋯</td><td>NA</td><td>   NA</td><td>   NA</td><td>   NA</td><td>   NA</td><td>   NA</td><td>   NA</td><td>CHP_391_02</td><td>NA                                                                             </td><td>CHP_391-02_cfDNA   </td></tr>\n",
       "\t<tr><th scope=row>CHP_392-01_cfDNA</th><td>NA</td><td>  NA</td><td>      NA</td><td>   NA</td><td>      NA</td><td>  NA</td><td>NA</td><td>NA</td><td>NA</td><td>NA</td><td>⋯</td><td>NA</td><td>   NA</td><td>   NA</td><td>   NA</td><td>   NA</td><td>   NA</td><td>   NA</td><td>CHP_392_01</td><td>NA                                                                             </td><td>CHP_392-01_cfDNA   </td></tr>\n",
       "\t<tr><th scope=row>CHP_398-01_cfDNA</th><td>NA</td><td>  NA</td><td>      NA</td><td>   NA</td><td>      NA</td><td>  NA</td><td>NA</td><td>NA</td><td>NA</td><td>NA</td><td>⋯</td><td>NA</td><td>   NA</td><td>   NA</td><td>   NA</td><td>   NA</td><td>   NA</td><td>   NA</td><td>CHP_398_01</td><td>NA                                                                             </td><td>CHP_398-01_cfDNA   </td></tr>\n",
       "\t<tr><th scope=row>CHP_401-03_cfDNA</th><td>NA</td><td>  NA</td><td>      NA</td><td>   NA</td><td>      NA</td><td>  NA</td><td>NA</td><td>NA</td><td>NA</td><td>NA</td><td>⋯</td><td>NA</td><td>   NA</td><td>   NA</td><td>   NA</td><td>   NA</td><td>   NA</td><td>   NA</td><td>CHP_401_03</td><td>NA                                                                             </td><td>CHP_401-03_cfDNA   </td></tr>\n",
       "\t<tr><th scope=row>CHP_419-FFPE-DNA_S2</th><td>NA</td><td>  NA</td><td>      NA</td><td>   NA</td><td>      NA</td><td>  NA</td><td>NA</td><td>NA</td><td>NA</td><td>NA</td><td>⋯</td><td>NA</td><td>   NA</td><td>   NA</td><td>   NA</td><td>   NA</td><td>   NA</td><td>   NA</td><td>CHP_419   </td><td>NA                                                                             </td><td>CHP_419-FFPE-DNA_S2</td></tr>\n",
       "</tbody>\n",
       "</table>\n"
      ],
      "text/latex": [
       "A data.frame: 10 × 22\n",
       "\\begin{tabular}{r|lllllllllllllllllllll}\n",
       "  & TRB & Reads & CPKR & Average\\_reads & VMR & Max\\_reads & Singletons & Doubletons & qD & Sample\\_Coverage & ⋯ & SE\\_Richeness & observed\\_Shannon & estimated\\_Shannon & SE\\_Shannon & observed\\_Simpson & estimated\\_Simpson & SE\\_Simpson & sample\\_id & file & basename\\\\\n",
       "  & <int> & <int> & <dbl> & <dbl> & <dbl> & <int> & <int> & <int> & <dbl> & <dbl> & ⋯ & <dbl> & <dbl> & <dbl> & <dbl> & <dbl> & <dbl> & <dbl> & <chr> & <chr> & <chr>\\\\\n",
       "\\hline\n",
       "\tCHP\\_383-03\\_cfDNA &  2 & 1135 & 1.762115 & 567.5 & 1.117665 & 1016 &  0 &  0 &  2 &  1 & ⋯ &  0 & 1.399 & 1.399 & 0.028 & 1.231 & 1.231 & 0.022 & CHP\\_383\\_03 & remaining\\_batch\\_5\\_cfDNA\\_22April2021/mixcr/clones/CLONES\\_TRBCHP\\_383-03\\_cfDNA.txt & CHP\\_383-03\\_cfDNA   \\\\\n",
       "\tCHP\\_347-01-cfDNA & NA &   NA &       NA &    NA &       NA &   NA & NA & NA & NA & NA & ⋯ & NA &    NA &    NA &    NA &    NA &    NA &    NA & CHP\\_347\\_01 & NA                                                                              & CHP\\_347-01-cfDNA   \\\\\n",
       "\tCHP\\_366-05\\_cfDNA & NA &   NA &       NA &    NA &       NA &   NA & NA & NA & NA & NA & ⋯ & NA &    NA &    NA &    NA &    NA &    NA &    NA & CHP\\_366\\_05 & NA                                                                              & CHP\\_366-05\\_cfDNA   \\\\\n",
       "\tCHP\\_377-01-cfDNA & NA &   NA &       NA &    NA &       NA &   NA & NA & NA & NA & NA & ⋯ & NA &    NA &    NA &    NA &    NA &    NA &    NA & CHP\\_377\\_01 & NA                                                                              & CHP\\_377-01-cfDNA   \\\\\n",
       "\tCHP\\_381-05\\_cfDNA & NA &   NA &       NA &    NA &       NA &   NA & NA & NA & NA & NA & ⋯ & NA &    NA &    NA &    NA &    NA &    NA &    NA & CHP\\_381\\_05 & NA                                                                              & CHP\\_381-05\\_cfDNA   \\\\\n",
       "\tCHP\\_391-02\\_cfDNA & NA &   NA &       NA &    NA &       NA &   NA & NA & NA & NA & NA & ⋯ & NA &    NA &    NA &    NA &    NA &    NA &    NA & CHP\\_391\\_02 & NA                                                                              & CHP\\_391-02\\_cfDNA   \\\\\n",
       "\tCHP\\_392-01\\_cfDNA & NA &   NA &       NA &    NA &       NA &   NA & NA & NA & NA & NA & ⋯ & NA &    NA &    NA &    NA &    NA &    NA &    NA & CHP\\_392\\_01 & NA                                                                              & CHP\\_392-01\\_cfDNA   \\\\\n",
       "\tCHP\\_398-01\\_cfDNA & NA &   NA &       NA &    NA &       NA &   NA & NA & NA & NA & NA & ⋯ & NA &    NA &    NA &    NA &    NA &    NA &    NA & CHP\\_398\\_01 & NA                                                                              & CHP\\_398-01\\_cfDNA   \\\\\n",
       "\tCHP\\_401-03\\_cfDNA & NA &   NA &       NA &    NA &       NA &   NA & NA & NA & NA & NA & ⋯ & NA &    NA &    NA &    NA &    NA &    NA &    NA & CHP\\_401\\_03 & NA                                                                              & CHP\\_401-03\\_cfDNA   \\\\\n",
       "\tCHP\\_419-FFPE-DNA\\_S2 & NA &   NA &       NA &    NA &       NA &   NA & NA & NA & NA & NA & ⋯ & NA &    NA &    NA &    NA &    NA &    NA &    NA & CHP\\_419    & NA                                                                              & CHP\\_419-FFPE-DNA\\_S2\\\\\n",
       "\\end{tabular}\n"
      ],
      "text/markdown": [
       "\n",
       "A data.frame: 10 × 22\n",
       "\n",
       "| <!--/--> | TRB &lt;int&gt; | Reads &lt;int&gt; | CPKR &lt;dbl&gt; | Average_reads &lt;dbl&gt; | VMR &lt;dbl&gt; | Max_reads &lt;int&gt; | Singletons &lt;int&gt; | Doubletons &lt;int&gt; | qD &lt;dbl&gt; | Sample_Coverage &lt;dbl&gt; | ⋯ ⋯ | SE_Richeness &lt;dbl&gt; | observed_Shannon &lt;dbl&gt; | estimated_Shannon &lt;dbl&gt; | SE_Shannon &lt;dbl&gt; | observed_Simpson &lt;dbl&gt; | estimated_Simpson &lt;dbl&gt; | SE_Simpson &lt;dbl&gt; | sample_id &lt;chr&gt; | file &lt;chr&gt; | basename &lt;chr&gt; |\n",
       "|---|---|---|---|---|---|---|---|---|---|---|---|---|---|---|---|---|---|---|---|---|---|\n",
       "| CHP_383-03_cfDNA |  2 | 1135 | 1.762115 | 567.5 | 1.117665 | 1016 |  0 |  0 |  2 |  1 | ⋯ |  0 | 1.399 | 1.399 | 0.028 | 1.231 | 1.231 | 0.022 | CHP_383_03 | remaining_batch_5_cfDNA_22April2021/mixcr/clones/CLONES_TRBCHP_383-03_cfDNA.txt | CHP_383-03_cfDNA    |\n",
       "| CHP_347-01-cfDNA | NA |   NA |       NA |    NA |       NA |   NA | NA | NA | NA | NA | ⋯ | NA |    NA |    NA |    NA |    NA |    NA |    NA | CHP_347_01 | NA                                                                              | CHP_347-01-cfDNA    |\n",
       "| CHP_366-05_cfDNA | NA |   NA |       NA |    NA |       NA |   NA | NA | NA | NA | NA | ⋯ | NA |    NA |    NA |    NA |    NA |    NA |    NA | CHP_366_05 | NA                                                                              | CHP_366-05_cfDNA    |\n",
       "| CHP_377-01-cfDNA | NA |   NA |       NA |    NA |       NA |   NA | NA | NA | NA | NA | ⋯ | NA |    NA |    NA |    NA |    NA |    NA |    NA | CHP_377_01 | NA                                                                              | CHP_377-01-cfDNA    |\n",
       "| CHP_381-05_cfDNA | NA |   NA |       NA |    NA |       NA |   NA | NA | NA | NA | NA | ⋯ | NA |    NA |    NA |    NA |    NA |    NA |    NA | CHP_381_05 | NA                                                                              | CHP_381-05_cfDNA    |\n",
       "| CHP_391-02_cfDNA | NA |   NA |       NA |    NA |       NA |   NA | NA | NA | NA | NA | ⋯ | NA |    NA |    NA |    NA |    NA |    NA |    NA | CHP_391_02 | NA                                                                              | CHP_391-02_cfDNA    |\n",
       "| CHP_392-01_cfDNA | NA |   NA |       NA |    NA |       NA |   NA | NA | NA | NA | NA | ⋯ | NA |    NA |    NA |    NA |    NA |    NA |    NA | CHP_392_01 | NA                                                                              | CHP_392-01_cfDNA    |\n",
       "| CHP_398-01_cfDNA | NA |   NA |       NA |    NA |       NA |   NA | NA | NA | NA | NA | ⋯ | NA |    NA |    NA |    NA |    NA |    NA |    NA | CHP_398_01 | NA                                                                              | CHP_398-01_cfDNA    |\n",
       "| CHP_401-03_cfDNA | NA |   NA |       NA |    NA |       NA |   NA | NA | NA | NA | NA | ⋯ | NA |    NA |    NA |    NA |    NA |    NA |    NA | CHP_401_03 | NA                                                                              | CHP_401-03_cfDNA    |\n",
       "| CHP_419-FFPE-DNA_S2 | NA |   NA |       NA |    NA |       NA |   NA | NA | NA | NA | NA | ⋯ | NA |    NA |    NA |    NA |    NA |    NA |    NA | CHP_419    | NA                                                                              | CHP_419-FFPE-DNA_S2 |\n",
       "\n"
      ],
      "text/plain": [
       "                    TRB Reads CPKR     Average_reads VMR      Max_reads\n",
       "CHP_383-03_cfDNA     2  1135  1.762115 567.5         1.117665 1016     \n",
       "CHP_347-01-cfDNA    NA    NA        NA    NA               NA   NA     \n",
       "CHP_366-05_cfDNA    NA    NA        NA    NA               NA   NA     \n",
       "CHP_377-01-cfDNA    NA    NA        NA    NA               NA   NA     \n",
       "CHP_381-05_cfDNA    NA    NA        NA    NA               NA   NA     \n",
       "CHP_391-02_cfDNA    NA    NA        NA    NA               NA   NA     \n",
       "CHP_392-01_cfDNA    NA    NA        NA    NA               NA   NA     \n",
       "CHP_398-01_cfDNA    NA    NA        NA    NA               NA   NA     \n",
       "CHP_401-03_cfDNA    NA    NA        NA    NA               NA   NA     \n",
       "CHP_419-FFPE-DNA_S2 NA    NA        NA    NA               NA   NA     \n",
       "                    Singletons Doubletons qD Sample_Coverage ⋯ SE_Richeness\n",
       "CHP_383-03_cfDNA     0          0          2  1              ⋯  0          \n",
       "CHP_347-01-cfDNA    NA         NA         NA NA              ⋯ NA          \n",
       "CHP_366-05_cfDNA    NA         NA         NA NA              ⋯ NA          \n",
       "CHP_377-01-cfDNA    NA         NA         NA NA              ⋯ NA          \n",
       "CHP_381-05_cfDNA    NA         NA         NA NA              ⋯ NA          \n",
       "CHP_391-02_cfDNA    NA         NA         NA NA              ⋯ NA          \n",
       "CHP_392-01_cfDNA    NA         NA         NA NA              ⋯ NA          \n",
       "CHP_398-01_cfDNA    NA         NA         NA NA              ⋯ NA          \n",
       "CHP_401-03_cfDNA    NA         NA         NA NA              ⋯ NA          \n",
       "CHP_419-FFPE-DNA_S2 NA         NA         NA NA              ⋯ NA          \n",
       "                    observed_Shannon estimated_Shannon SE_Shannon\n",
       "CHP_383-03_cfDNA    1.399            1.399             0.028     \n",
       "CHP_347-01-cfDNA       NA               NA                NA     \n",
       "CHP_366-05_cfDNA       NA               NA                NA     \n",
       "CHP_377-01-cfDNA       NA               NA                NA     \n",
       "CHP_381-05_cfDNA       NA               NA                NA     \n",
       "CHP_391-02_cfDNA       NA               NA                NA     \n",
       "CHP_392-01_cfDNA       NA               NA                NA     \n",
       "CHP_398-01_cfDNA       NA               NA                NA     \n",
       "CHP_401-03_cfDNA       NA               NA                NA     \n",
       "CHP_419-FFPE-DNA_S2    NA               NA                NA     \n",
       "                    observed_Simpson estimated_Simpson SE_Simpson sample_id \n",
       "CHP_383-03_cfDNA    1.231            1.231             0.022      CHP_383_03\n",
       "CHP_347-01-cfDNA       NA               NA                NA      CHP_347_01\n",
       "CHP_366-05_cfDNA       NA               NA                NA      CHP_366_05\n",
       "CHP_377-01-cfDNA       NA               NA                NA      CHP_377_01\n",
       "CHP_381-05_cfDNA       NA               NA                NA      CHP_381_05\n",
       "CHP_391-02_cfDNA       NA               NA                NA      CHP_391_02\n",
       "CHP_392-01_cfDNA       NA               NA                NA      CHP_392_01\n",
       "CHP_398-01_cfDNA       NA               NA                NA      CHP_398_01\n",
       "CHP_401-03_cfDNA       NA               NA                NA      CHP_401_03\n",
       "CHP_419-FFPE-DNA_S2    NA               NA                NA      CHP_419   \n",
       "                    file                                                                           \n",
       "CHP_383-03_cfDNA    remaining_batch_5_cfDNA_22April2021/mixcr/clones/CLONES_TRBCHP_383-03_cfDNA.txt\n",
       "CHP_347-01-cfDNA    NA                                                                             \n",
       "CHP_366-05_cfDNA    NA                                                                             \n",
       "CHP_377-01-cfDNA    NA                                                                             \n",
       "CHP_381-05_cfDNA    NA                                                                             \n",
       "CHP_391-02_cfDNA    NA                                                                             \n",
       "CHP_392-01_cfDNA    NA                                                                             \n",
       "CHP_398-01_cfDNA    NA                                                                             \n",
       "CHP_401-03_cfDNA    NA                                                                             \n",
       "CHP_419-FFPE-DNA_S2 NA                                                                             \n",
       "                    basename           \n",
       "CHP_383-03_cfDNA    CHP_383-03_cfDNA   \n",
       "CHP_347-01-cfDNA    CHP_347-01-cfDNA   \n",
       "CHP_366-05_cfDNA    CHP_366-05_cfDNA   \n",
       "CHP_377-01-cfDNA    CHP_377-01-cfDNA   \n",
       "CHP_381-05_cfDNA    CHP_381-05_cfDNA   \n",
       "CHP_391-02_cfDNA    CHP_391-02_cfDNA   \n",
       "CHP_392-01_cfDNA    CHP_392-01_cfDNA   \n",
       "CHP_398-01_cfDNA    CHP_398-01_cfDNA   \n",
       "CHP_401-03_cfDNA    CHP_401-03_cfDNA   \n",
       "CHP_419-FFPE-DNA_S2 CHP_419-FFPE-DNA_S2"
      ]
     },
     "metadata": {},
     "output_type": "display_data"
    }
   ],
   "source": [
    "tail(divstats,10)"
   ]
  },
  {
   "cell_type": "code",
   "execution_count": 36,
   "metadata": {
    "vscode": {
     "languageId": "r"
    }
   },
   "outputs": [],
   "source": [
    "write.csv(divstats,\n",
    "          paste0(datapath, \"capTCRseq/divstats_TRBCHP.csv\"), row.names = TRUE)"
   ]
  },
  {
   "cell_type": "markdown",
   "metadata": {},
   "source": [
    "## TRA"
   ]
  },
  {
   "cell_type": "code",
   "execution_count": 42,
   "metadata": {
    "vscode": {
     "languageId": "r"
    }
   },
   "outputs": [],
   "source": [
    "file_list <- list.files(h4hpath, pattern = paste0(\"CLONES_\", \"TRA\"), recursive = T)"
   ]
  },
  {
   "cell_type": "code",
   "execution_count": 43,
   "metadata": {
    "vscode": {
     "languageId": "r"
    }
   },
   "outputs": [
    {
     "data": {
      "text/html": [
       "<style>\n",
       ".list-inline {list-style: none; margin:0; padding: 0}\n",
       ".list-inline>li {display: inline-block}\n",
       ".list-inline>li:not(:last-child)::after {content: \"\\00b7\"; padding: 0 .5ex}\n",
       "</style>\n",
       "<ol class=list-inline><li>'remaining_batch_5_cfDNA_22April2021/mixcr/clones/CLONES_TRACHP_365-03_cfDNA.txt'</li><li>'remaining_batch_5_cfDNA_22April2021/mixcr/clones/CLONES_TRACHP_370-02_cfDNA.txt'</li><li>'remaining_batch_5_cfDNA_22April2021/mixcr/clones/CLONES_TRACHP_374-03_cfDNA.txt'</li><li>'remaining_batch_5_cfDNA_22April2021/mixcr/clones/CLONES_TRACHP_378-01_cfDNA.txt'</li><li>'remaining_batch_5_cfDNA_22April2021/mixcr/clones/CLONES_TRACHP_381-04_cfDNA.txt'</li><li>'remaining_batch_5_cfDNA_22April2021/mixcr/clones/CLONES_TRACHP_383-03_cfDNA.txt'</li></ol>\n"
      ],
      "text/latex": [
       "\\begin{enumerate*}\n",
       "\\item 'remaining\\_batch\\_5\\_cfDNA\\_22April2021/mixcr/clones/CLONES\\_TRACHP\\_365-03\\_cfDNA.txt'\n",
       "\\item 'remaining\\_batch\\_5\\_cfDNA\\_22April2021/mixcr/clones/CLONES\\_TRACHP\\_370-02\\_cfDNA.txt'\n",
       "\\item 'remaining\\_batch\\_5\\_cfDNA\\_22April2021/mixcr/clones/CLONES\\_TRACHP\\_374-03\\_cfDNA.txt'\n",
       "\\item 'remaining\\_batch\\_5\\_cfDNA\\_22April2021/mixcr/clones/CLONES\\_TRACHP\\_378-01\\_cfDNA.txt'\n",
       "\\item 'remaining\\_batch\\_5\\_cfDNA\\_22April2021/mixcr/clones/CLONES\\_TRACHP\\_381-04\\_cfDNA.txt'\n",
       "\\item 'remaining\\_batch\\_5\\_cfDNA\\_22April2021/mixcr/clones/CLONES\\_TRACHP\\_383-03\\_cfDNA.txt'\n",
       "\\end{enumerate*}\n"
      ],
      "text/markdown": [
       "1. 'remaining_batch_5_cfDNA_22April2021/mixcr/clones/CLONES_TRACHP_365-03_cfDNA.txt'\n",
       "2. 'remaining_batch_5_cfDNA_22April2021/mixcr/clones/CLONES_TRACHP_370-02_cfDNA.txt'\n",
       "3. 'remaining_batch_5_cfDNA_22April2021/mixcr/clones/CLONES_TRACHP_374-03_cfDNA.txt'\n",
       "4. 'remaining_batch_5_cfDNA_22April2021/mixcr/clones/CLONES_TRACHP_378-01_cfDNA.txt'\n",
       "5. 'remaining_batch_5_cfDNA_22April2021/mixcr/clones/CLONES_TRACHP_381-04_cfDNA.txt'\n",
       "6. 'remaining_batch_5_cfDNA_22April2021/mixcr/clones/CLONES_TRACHP_383-03_cfDNA.txt'\n",
       "\n",
       "\n"
      ],
      "text/plain": [
       "[1] \"remaining_batch_5_cfDNA_22April2021/mixcr/clones/CLONES_TRACHP_365-03_cfDNA.txt\"\n",
       "[2] \"remaining_batch_5_cfDNA_22April2021/mixcr/clones/CLONES_TRACHP_370-02_cfDNA.txt\"\n",
       "[3] \"remaining_batch_5_cfDNA_22April2021/mixcr/clones/CLONES_TRACHP_374-03_cfDNA.txt\"\n",
       "[4] \"remaining_batch_5_cfDNA_22April2021/mixcr/clones/CLONES_TRACHP_378-01_cfDNA.txt\"\n",
       "[5] \"remaining_batch_5_cfDNA_22April2021/mixcr/clones/CLONES_TRACHP_381-04_cfDNA.txt\"\n",
       "[6] \"remaining_batch_5_cfDNA_22April2021/mixcr/clones/CLONES_TRACHP_383-03_cfDNA.txt\""
      ]
     },
     "metadata": {},
     "output_type": "display_data"
    }
   ],
   "source": [
    "tail(file_list)"
   ]
  },
  {
   "cell_type": "code",
   "execution_count": 44,
   "metadata": {
    "vscode": {
     "languageId": "r"
    }
   },
   "outputs": [],
   "source": [
    "# remove downsample files\n",
    "file_list <- file_list[!grepl(\"_2000000\", file_list)]"
   ]
  },
  {
   "cell_type": "markdown",
   "metadata": {},
   "source": [
    "Some files are duplicated. Make a table to identify and pick the larger clone file"
   ]
  },
  {
   "cell_type": "code",
   "execution_count": 45,
   "metadata": {
    "vscode": {
     "languageId": "r"
    }
   },
   "outputs": [],
   "source": [
    "file_df <- as.data.frame(file_list)"
   ]
  },
  {
   "cell_type": "code",
   "execution_count": 46,
   "metadata": {
    "vscode": {
     "languageId": "r"
    }
   },
   "outputs": [],
   "source": [
    "file_df$samplename <- gsub(\".*CLONES_TRA\", \"\", file_df$file_list)\n",
    "file_df$samplename <- gsub(\".txt\", \"\", file_df$samplename)"
   ]
  },
  {
   "cell_type": "code",
   "execution_count": 47,
   "metadata": {
    "vscode": {
     "languageId": "r"
    }
   },
   "outputs": [],
   "source": [
    "file_df$size <- NA\n",
    "for(i in 1:nrow(file_df)){\n",
    "    file_df$size[i] <- file.size(paste0(h4hpath,file_df$file_list[i]))\n",
    "}"
   ]
  },
  {
   "cell_type": "code",
   "execution_count": 48,
   "metadata": {
    "vscode": {
     "languageId": "r"
    }
   },
   "outputs": [
    {
     "data": {
      "text/html": [
       "<table class=\"dataframe\">\n",
       "<caption>A data.frame: 6 × 3</caption>\n",
       "<thead>\n",
       "\t<tr><th></th><th scope=col>file_list</th><th scope=col>samplename</th><th scope=col>size</th></tr>\n",
       "\t<tr><th></th><th scope=col>&lt;chr&gt;</th><th scope=col>&lt;chr&gt;</th><th scope=col>&lt;dbl&gt;</th></tr>\n",
       "</thead>\n",
       "<tbody>\n",
       "\t<tr><th scope=row>1</th><td>batch_reseq_24Feb2020/mixcr/clones/CLONES_TRACHP_315-05-PBMC-DNA.txt</td><td>CHP_315-05-PBMC-DNA</td><td> 31086</td></tr>\n",
       "\t<tr><th scope=row>2</th><td>batch_reseq_24Feb2020/mixcr/clones/CLONES_TRACHP_350-01-PBMC-DNA.txt</td><td>CHP_350-01-PBMC-DNA</td><td>490223</td></tr>\n",
       "\t<tr><th scope=row>3</th><td>batch_reseq_24Feb2020/mixcr/clones/CLONES_TRACHP_350-02-PBMC-DNA.txt</td><td>CHP_350-02-PBMC-DNA</td><td>707406</td></tr>\n",
       "\t<tr><th scope=row>4</th><td>batch_reseq_24Feb2020/mixcr/clones/CLONES_TRACHP_350-03-PBMC-DNA.txt</td><td>CHP_350-03-PBMC-DNA</td><td>605922</td></tr>\n",
       "\t<tr><th scope=row>5</th><td>batch_reseq_24Feb2020/mixcr/clones/CLONES_TRACHP_350-04-PBMC-DNA.txt</td><td>CHP_350-04-PBMC-DNA</td><td>273004</td></tr>\n",
       "\t<tr><th scope=row>6</th><td>batch_reseq_24Feb2020/mixcr/clones/CLONES_TRACHP_353-02-PBMC-DNA.txt</td><td>CHP_353-02-PBMC-DNA</td><td> 38414</td></tr>\n",
       "</tbody>\n",
       "</table>\n"
      ],
      "text/latex": [
       "A data.frame: 6 × 3\n",
       "\\begin{tabular}{r|lll}\n",
       "  & file\\_list & samplename & size\\\\\n",
       "  & <chr> & <chr> & <dbl>\\\\\n",
       "\\hline\n",
       "\t1 & batch\\_reseq\\_24Feb2020/mixcr/clones/CLONES\\_TRACHP\\_315-05-PBMC-DNA.txt & CHP\\_315-05-PBMC-DNA &  31086\\\\\n",
       "\t2 & batch\\_reseq\\_24Feb2020/mixcr/clones/CLONES\\_TRACHP\\_350-01-PBMC-DNA.txt & CHP\\_350-01-PBMC-DNA & 490223\\\\\n",
       "\t3 & batch\\_reseq\\_24Feb2020/mixcr/clones/CLONES\\_TRACHP\\_350-02-PBMC-DNA.txt & CHP\\_350-02-PBMC-DNA & 707406\\\\\n",
       "\t4 & batch\\_reseq\\_24Feb2020/mixcr/clones/CLONES\\_TRACHP\\_350-03-PBMC-DNA.txt & CHP\\_350-03-PBMC-DNA & 605922\\\\\n",
       "\t5 & batch\\_reseq\\_24Feb2020/mixcr/clones/CLONES\\_TRACHP\\_350-04-PBMC-DNA.txt & CHP\\_350-04-PBMC-DNA & 273004\\\\\n",
       "\t6 & batch\\_reseq\\_24Feb2020/mixcr/clones/CLONES\\_TRACHP\\_353-02-PBMC-DNA.txt & CHP\\_353-02-PBMC-DNA &  38414\\\\\n",
       "\\end{tabular}\n"
      ],
      "text/markdown": [
       "\n",
       "A data.frame: 6 × 3\n",
       "\n",
       "| <!--/--> | file_list &lt;chr&gt; | samplename &lt;chr&gt; | size &lt;dbl&gt; |\n",
       "|---|---|---|---|\n",
       "| 1 | batch_reseq_24Feb2020/mixcr/clones/CLONES_TRACHP_315-05-PBMC-DNA.txt | CHP_315-05-PBMC-DNA |  31086 |\n",
       "| 2 | batch_reseq_24Feb2020/mixcr/clones/CLONES_TRACHP_350-01-PBMC-DNA.txt | CHP_350-01-PBMC-DNA | 490223 |\n",
       "| 3 | batch_reseq_24Feb2020/mixcr/clones/CLONES_TRACHP_350-02-PBMC-DNA.txt | CHP_350-02-PBMC-DNA | 707406 |\n",
       "| 4 | batch_reseq_24Feb2020/mixcr/clones/CLONES_TRACHP_350-03-PBMC-DNA.txt | CHP_350-03-PBMC-DNA | 605922 |\n",
       "| 5 | batch_reseq_24Feb2020/mixcr/clones/CLONES_TRACHP_350-04-PBMC-DNA.txt | CHP_350-04-PBMC-DNA | 273004 |\n",
       "| 6 | batch_reseq_24Feb2020/mixcr/clones/CLONES_TRACHP_353-02-PBMC-DNA.txt | CHP_353-02-PBMC-DNA |  38414 |\n",
       "\n"
      ],
      "text/plain": [
       "  file_list                                                           \n",
       "1 batch_reseq_24Feb2020/mixcr/clones/CLONES_TRACHP_315-05-PBMC-DNA.txt\n",
       "2 batch_reseq_24Feb2020/mixcr/clones/CLONES_TRACHP_350-01-PBMC-DNA.txt\n",
       "3 batch_reseq_24Feb2020/mixcr/clones/CLONES_TRACHP_350-02-PBMC-DNA.txt\n",
       "4 batch_reseq_24Feb2020/mixcr/clones/CLONES_TRACHP_350-03-PBMC-DNA.txt\n",
       "5 batch_reseq_24Feb2020/mixcr/clones/CLONES_TRACHP_350-04-PBMC-DNA.txt\n",
       "6 batch_reseq_24Feb2020/mixcr/clones/CLONES_TRACHP_353-02-PBMC-DNA.txt\n",
       "  samplename          size  \n",
       "1 CHP_315-05-PBMC-DNA  31086\n",
       "2 CHP_350-01-PBMC-DNA 490223\n",
       "3 CHP_350-02-PBMC-DNA 707406\n",
       "4 CHP_350-03-PBMC-DNA 605922\n",
       "5 CHP_350-04-PBMC-DNA 273004\n",
       "6 CHP_353-02-PBMC-DNA  38414"
      ]
     },
     "metadata": {},
     "output_type": "display_data"
    }
   ],
   "source": [
    "head(file_df)"
   ]
  },
  {
   "cell_type": "code",
   "execution_count": 49,
   "metadata": {
    "vscode": {
     "languageId": "r"
    }
   },
   "outputs": [
    {
     "data": {
      "text/html": [
       "<table class=\"dataframe\">\n",
       "<caption>A data.frame: 2 × 3</caption>\n",
       "<thead>\n",
       "\t<tr><th></th><th scope=col>file_list</th><th scope=col>samplename</th><th scope=col>size</th></tr>\n",
       "\t<tr><th></th><th scope=col>&lt;chr&gt;</th><th scope=col>&lt;chr&gt;</th><th scope=col>&lt;dbl&gt;</th></tr>\n",
       "</thead>\n",
       "<tbody>\n",
       "\t<tr><th scope=row>379</th><td>batch8_14Jan2020/mixcr/clones/CLONES_TRACHP_383-03-PBMC-DNA.txt                </td><td>CHP_383-03-PBMC-DNA</td><td> 5798</td></tr>\n",
       "\t<tr><th scope=row>619</th><td>remaining_batch_5_cfDNA_22April2021/mixcr/clones/CLONES_TRACHP_383-03_cfDNA.txt</td><td>CHP_383-03_cfDNA   </td><td>12341</td></tr>\n",
       "</tbody>\n",
       "</table>\n"
      ],
      "text/latex": [
       "A data.frame: 2 × 3\n",
       "\\begin{tabular}{r|lll}\n",
       "  & file\\_list & samplename & size\\\\\n",
       "  & <chr> & <chr> & <dbl>\\\\\n",
       "\\hline\n",
       "\t379 & batch8\\_14Jan2020/mixcr/clones/CLONES\\_TRACHP\\_383-03-PBMC-DNA.txt                 & CHP\\_383-03-PBMC-DNA &  5798\\\\\n",
       "\t619 & remaining\\_batch\\_5\\_cfDNA\\_22April2021/mixcr/clones/CLONES\\_TRACHP\\_383-03\\_cfDNA.txt & CHP\\_383-03\\_cfDNA    & 12341\\\\\n",
       "\\end{tabular}\n"
      ],
      "text/markdown": [
       "\n",
       "A data.frame: 2 × 3\n",
       "\n",
       "| <!--/--> | file_list &lt;chr&gt; | samplename &lt;chr&gt; | size &lt;dbl&gt; |\n",
       "|---|---|---|---|\n",
       "| 379 | batch8_14Jan2020/mixcr/clones/CLONES_TRACHP_383-03-PBMC-DNA.txt                 | CHP_383-03-PBMC-DNA |  5798 |\n",
       "| 619 | remaining_batch_5_cfDNA_22April2021/mixcr/clones/CLONES_TRACHP_383-03_cfDNA.txt | CHP_383-03_cfDNA    | 12341 |\n",
       "\n"
      ],
      "text/plain": [
       "    file_list                                                                      \n",
       "379 batch8_14Jan2020/mixcr/clones/CLONES_TRACHP_383-03-PBMC-DNA.txt                \n",
       "619 remaining_batch_5_cfDNA_22April2021/mixcr/clones/CLONES_TRACHP_383-03_cfDNA.txt\n",
       "    samplename          size \n",
       "379 CHP_383-03-PBMC-DNA  5798\n",
       "619 CHP_383-03_cfDNA    12341"
      ]
     },
     "metadata": {},
     "output_type": "display_data"
    }
   ],
   "source": [
    "file_df[ grepl(\"383-03\", file_df$file_list),]"
   ]
  },
  {
   "cell_type": "code",
   "execution_count": 50,
   "metadata": {
    "vscode": {
     "languageId": "r"
    }
   },
   "outputs": [],
   "source": [
    "file_df <- file_df[ !grepl(\"immunarch\", file_df$file_list),]"
   ]
  },
  {
   "cell_type": "code",
   "execution_count": 51,
   "metadata": {
    "vscode": {
     "languageId": "r"
    }
   },
   "outputs": [],
   "source": [
    "file_df_dedup <- file_df[0,]\n",
    "\n",
    "for(s in unique(file_df$samplename)){\n",
    "    tmp <- file_df[ file_df$samplename == s,]\n",
    "    if(nrow(tmp) ==1 ){\n",
    "        file_df_dedup <- rbind(file_df_dedup, tmp)\n",
    "    }\n",
    "    if(nrow(tmp) > 1 ){\n",
    "        file_df_dedup <- rbind(file_df_dedup, tmp[ tmp$size == max(tmp$size),])\n",
    "    }    \n",
    "}"
   ]
  },
  {
   "cell_type": "code",
   "execution_count": 52,
   "metadata": {
    "vscode": {
     "languageId": "r"
    }
   },
   "outputs": [
    {
     "data": {
      "text/html": [
       "<table class=\"dataframe\">\n",
       "<caption>A data.frame: 2 × 3</caption>\n",
       "<thead>\n",
       "\t<tr><th></th><th scope=col>file_list</th><th scope=col>samplename</th><th scope=col>size</th></tr>\n",
       "\t<tr><th></th><th scope=col>&lt;chr&gt;</th><th scope=col>&lt;chr&gt;</th><th scope=col>&lt;dbl&gt;</th></tr>\n",
       "</thead>\n",
       "<tbody>\n",
       "\t<tr><th scope=row>207</th><td>batch2_Aug62019/mixcr/clones/CLONES_TRACHP_343-05-PBMC-DNA.txt                 </td><td>CHP_343-05-PBMC-DNA</td><td>51477</td></tr>\n",
       "\t<tr><th scope=row>560</th><td>remaining_batch_3_cfDNA_15April2021/mixcr/clones/CLONES_TRACHP_343-05-cfDNA.txt</td><td>CHP_343-05-cfDNA   </td><td> 8357</td></tr>\n",
       "</tbody>\n",
       "</table>\n"
      ],
      "text/latex": [
       "A data.frame: 2 × 3\n",
       "\\begin{tabular}{r|lll}\n",
       "  & file\\_list & samplename & size\\\\\n",
       "  & <chr> & <chr> & <dbl>\\\\\n",
       "\\hline\n",
       "\t207 & batch2\\_Aug62019/mixcr/clones/CLONES\\_TRACHP\\_343-05-PBMC-DNA.txt                  & CHP\\_343-05-PBMC-DNA & 51477\\\\\n",
       "\t560 & remaining\\_batch\\_3\\_cfDNA\\_15April2021/mixcr/clones/CLONES\\_TRACHP\\_343-05-cfDNA.txt & CHP\\_343-05-cfDNA    &  8357\\\\\n",
       "\\end{tabular}\n"
      ],
      "text/markdown": [
       "\n",
       "A data.frame: 2 × 3\n",
       "\n",
       "| <!--/--> | file_list &lt;chr&gt; | samplename &lt;chr&gt; | size &lt;dbl&gt; |\n",
       "|---|---|---|---|\n",
       "| 207 | batch2_Aug62019/mixcr/clones/CLONES_TRACHP_343-05-PBMC-DNA.txt                  | CHP_343-05-PBMC-DNA | 51477 |\n",
       "| 560 | remaining_batch_3_cfDNA_15April2021/mixcr/clones/CLONES_TRACHP_343-05-cfDNA.txt | CHP_343-05-cfDNA    |  8357 |\n",
       "\n"
      ],
      "text/plain": [
       "    file_list                                                                      \n",
       "207 batch2_Aug62019/mixcr/clones/CLONES_TRACHP_343-05-PBMC-DNA.txt                 \n",
       "560 remaining_batch_3_cfDNA_15April2021/mixcr/clones/CLONES_TRACHP_343-05-cfDNA.txt\n",
       "    samplename          size \n",
       "207 CHP_343-05-PBMC-DNA 51477\n",
       "560 CHP_343-05-cfDNA     8357"
      ]
     },
     "metadata": {},
     "output_type": "display_data"
    }
   ],
   "source": [
    "file_df_dedup[ grepl(\"343-05\", file_df_dedup$file_list),]"
   ]
  },
  {
   "cell_type": "code",
   "execution_count": 53,
   "metadata": {
    "vscode": {
     "languageId": "r"
    }
   },
   "outputs": [],
   "source": [
    "file_df_dedup_tra <- file_df_dedup\n",
    "save(file_df_dedup_tra, file = paste0(datapath,\"capTCRseq/TRAfiles.RData\"))"
   ]
  },
  {
   "cell_type": "code",
   "execution_count": 54,
   "metadata": {
    "vscode": {
     "languageId": "r"
    }
   },
   "outputs": [
    {
     "data": {
      "text/html": [
       "<style>\n",
       ".list-inline {list-style: none; margin:0; padding: 0}\n",
       ".list-inline>li {display: inline-block}\n",
       ".list-inline>li:not(:last-child)::after {content: \"\\00b7\"; padding: 0 .5ex}\n",
       "</style>\n",
       "<ol class=list-inline><li>619</li><li>3</li></ol>\n"
      ],
      "text/latex": [
       "\\begin{enumerate*}\n",
       "\\item 619\n",
       "\\item 3\n",
       "\\end{enumerate*}\n"
      ],
      "text/markdown": [
       "1. 619\n",
       "2. 3\n",
       "\n",
       "\n"
      ],
      "text/plain": [
       "[1] 619   3"
      ]
     },
     "metadata": {},
     "output_type": "display_data"
    },
    {
     "data": {
      "text/html": [
       "<style>\n",
       ".list-inline {list-style: none; margin:0; padding: 0}\n",
       ".list-inline>li {display: inline-block}\n",
       ".list-inline>li:not(:last-child)::after {content: \"\\00b7\"; padding: 0 .5ex}\n",
       "</style>\n",
       "<ol class=list-inline><li>603</li><li>3</li></ol>\n"
      ],
      "text/latex": [
       "\\begin{enumerate*}\n",
       "\\item 603\n",
       "\\item 3\n",
       "\\end{enumerate*}\n"
      ],
      "text/markdown": [
       "1. 603\n",
       "2. 3\n",
       "\n",
       "\n"
      ],
      "text/plain": [
       "[1] 603   3"
      ]
     },
     "metadata": {},
     "output_type": "display_data"
    }
   ],
   "source": [
    "dim(file_df)\n",
    "dim(file_df_dedup)"
   ]
  },
  {
   "cell_type": "code",
   "execution_count": 17,
   "metadata": {
    "vscode": {
     "languageId": "r"
    }
   },
   "outputs": [
    {
     "name": "stderr",
     "output_type": "stream",
     "text": [
      "number of clones in file:batch4_19Aug2019/mixcr/clones/CLONES_TRACHP_315-05-PBMC-DNA.txt\n",
      "\n"
     ]
    },
    {
     "name": "stdout",
     "output_type": "stream",
     "text": [
      "[1] 106\n"
     ]
    },
    {
     "name": "stderr",
     "output_type": "stream",
     "text": [
      "number of non prodcutive CDR3s:\n",
      "\n"
     ]
    },
    {
     "name": "stdout",
     "output_type": "stream",
     "text": [
      "[1] 39\n"
     ]
    },
    {
     "name": "stderr",
     "output_type": "stream",
     "text": [
      "nonproductive aaCDR3 removed\n",
      "\n",
      "number of clones in file:batch_reseq_24Feb2020/mixcr/clones/CLONES_TRACHP_350-01-PBMC-DNA.txt\n",
      "\n"
     ]
    },
    {
     "name": "stdout",
     "output_type": "stream",
     "text": [
      "[1] 1572\n"
     ]
    },
    {
     "name": "stderr",
     "output_type": "stream",
     "text": [
      "number of non prodcutive CDR3s:\n",
      "\n"
     ]
    },
    {
     "name": "stdout",
     "output_type": "stream",
     "text": [
      "[1] 931\n"
     ]
    },
    {
     "name": "stderr",
     "output_type": "stream",
     "text": [
      "nonproductive aaCDR3 removed\n",
      "\n",
      "number of clones in file:batch_reseq_24Feb2020/mixcr/clones/CLONES_TRACHP_350-02-PBMC-DNA.txt\n",
      "\n"
     ]
    },
    {
     "name": "stdout",
     "output_type": "stream",
     "text": [
      "[1] 2254\n"
     ]
    },
    {
     "name": "stderr",
     "output_type": "stream",
     "text": [
      "number of non prodcutive CDR3s:\n",
      "\n"
     ]
    },
    {
     "name": "stdout",
     "output_type": "stream",
     "text": [
      "[1] 1346\n"
     ]
    },
    {
     "name": "stderr",
     "output_type": "stream",
     "text": [
      "nonproductive aaCDR3 removed\n",
      "\n",
      "number of clones in file:batch_reseq_24Feb2020/mixcr/clones/CLONES_TRACHP_350-03-PBMC-DNA.txt\n",
      "\n"
     ]
    },
    {
     "name": "stdout",
     "output_type": "stream",
     "text": [
      "[1] 1931\n"
     ]
    },
    {
     "name": "stderr",
     "output_type": "stream",
     "text": [
      "number of non prodcutive CDR3s:\n",
      "\n"
     ]
    },
    {
     "name": "stdout",
     "output_type": "stream",
     "text": [
      "[1] 1176\n"
     ]
    },
    {
     "name": "stderr",
     "output_type": "stream",
     "text": [
      "nonproductive aaCDR3 removed\n",
      "\n",
      "number of clones in file:batch_reseq_24Feb2020/mixcr/clones/CLONES_TRACHP_350-04-PBMC-DNA.txt\n",
      "\n"
     ]
    },
    {
     "name": "stdout",
     "output_type": "stream",
     "text": [
      "[1] 875\n"
     ]
    },
    {
     "name": "stderr",
     "output_type": "stream",
     "text": [
      "number of non prodcutive CDR3s:\n",
      "\n"
     ]
    },
    {
     "name": "stdout",
     "output_type": "stream",
     "text": [
      "[1] 494\n"
     ]
    },
    {
     "name": "stderr",
     "output_type": "stream",
     "text": [
      "nonproductive aaCDR3 removed\n",
      "\n",
      "number of clones in file:batch_reseq_24Feb2020/mixcr/clones/CLONES_TRACHP_353-02-PBMC-DNA.txt\n",
      "\n"
     ]
    },
    {
     "name": "stdout",
     "output_type": "stream",
     "text": [
      "[1] 121\n"
     ]
    },
    {
     "name": "stderr",
     "output_type": "stream",
     "text": [
      "number of non prodcutive CDR3s:\n",
      "\n"
     ]
    },
    {
     "name": "stdout",
     "output_type": "stream",
     "text": [
      "[1] 65\n"
     ]
    },
    {
     "name": "stderr",
     "output_type": "stream",
     "text": [
      "nonproductive aaCDR3 removed\n",
      "\n",
      "number of clones in file:batch_reseq_24Feb2020/mixcr/clones/CLONES_TRACHP_354-01-PBMC-DNA.txt\n",
      "\n"
     ]
    },
    {
     "name": "stdout",
     "output_type": "stream",
     "text": [
      "[1] 30\n"
     ]
    },
    {
     "name": "stderr",
     "output_type": "stream",
     "text": [
      "number of non prodcutive CDR3s:\n",
      "\n"
     ]
    },
    {
     "name": "stdout",
     "output_type": "stream",
     "text": [
      "[1] 14\n"
     ]
    },
    {
     "name": "stderr",
     "output_type": "stream",
     "text": [
      "nonproductive aaCDR3 removed\n",
      "\n",
      "number of clones in file:batch1_jul52019/mixcr/clones/CLONES_TRACHP_356-03-PBMC-DNA.txt\n",
      "\n"
     ]
    },
    {
     "name": "stdout",
     "output_type": "stream",
     "text": [
      "[1] 12\n"
     ]
    },
    {
     "name": "stderr",
     "output_type": "stream",
     "text": [
      "number of non prodcutive CDR3s:\n",
      "\n"
     ]
    },
    {
     "name": "stdout",
     "output_type": "stream",
     "text": [
      "[1] 7\n"
     ]
    },
    {
     "name": "stderr",
     "output_type": "stream",
     "text": [
      "nonproductive aaCDR3 removed\n",
      "\n",
      "number of clones in file:batch_reseq_24Feb2020/mixcr/clones/CLONES_TRACHP_358-02-PBMC-DNA.txt\n",
      "\n"
     ]
    },
    {
     "name": "stdout",
     "output_type": "stream",
     "text": [
      "[1] 445\n"
     ]
    },
    {
     "name": "stderr",
     "output_type": "stream",
     "text": [
      "number of non prodcutive CDR3s:\n",
      "\n"
     ]
    },
    {
     "name": "stdout",
     "output_type": "stream",
     "text": [
      "[1] 275\n"
     ]
    },
    {
     "name": "stderr",
     "output_type": "stream",
     "text": [
      "nonproductive aaCDR3 removed\n",
      "\n",
      "number of clones in file:batch_reseq_24Feb2020/mixcr/clones/CLONES_TRACHP_362-02-PBMC-DNA.txt\n",
      "\n"
     ]
    },
    {
     "name": "stdout",
     "output_type": "stream",
     "text": [
      "[1] 1408\n"
     ]
    },
    {
     "name": "stderr",
     "output_type": "stream",
     "text": [
      "number of non prodcutive CDR3s:\n",
      "\n"
     ]
    },
    {
     "name": "stdout",
     "output_type": "stream",
     "text": [
      "[1] 768\n"
     ]
    },
    {
     "name": "stderr",
     "output_type": "stream",
     "text": [
      "nonproductive aaCDR3 removed\n",
      "\n",
      "number of clones in file:batch_reseq_24Feb2020/mixcr/clones/CLONES_TRACHP_366-01-PBMC-DNA.txt\n",
      "\n"
     ]
    },
    {
     "name": "stdout",
     "output_type": "stream",
     "text": [
      "[1] 606\n"
     ]
    },
    {
     "name": "stderr",
     "output_type": "stream",
     "text": [
      "number of non prodcutive CDR3s:\n",
      "\n"
     ]
    },
    {
     "name": "stdout",
     "output_type": "stream",
     "text": [
      "[1] 345\n"
     ]
    },
    {
     "name": "stderr",
     "output_type": "stream",
     "text": [
      "nonproductive aaCDR3 removed\n",
      "\n",
      "number of clones in file:batch_reseq_24Feb2020/mixcr/clones/CLONES_TRACHP_367-01-PBMC-DNA.txt\n",
      "\n"
     ]
    },
    {
     "name": "stdout",
     "output_type": "stream",
     "text": [
      "[1] 163\n"
     ]
    },
    {
     "name": "stderr",
     "output_type": "stream",
     "text": [
      "number of non prodcutive CDR3s:\n",
      "\n"
     ]
    },
    {
     "name": "stdout",
     "output_type": "stream",
     "text": [
      "[1] 81\n"
     ]
    },
    {
     "name": "stderr",
     "output_type": "stream",
     "text": [
      "nonproductive aaCDR3 removed\n",
      "\n",
      "number of clones in file:batch_reseq_24Feb2020/mixcr/clones/CLONES_TRACHP_372-01-PBMC-DNA.txt\n",
      "\n"
     ]
    },
    {
     "name": "stdout",
     "output_type": "stream",
     "text": [
      "[1] 19\n"
     ]
    },
    {
     "name": "stderr",
     "output_type": "stream",
     "text": [
      "number of non prodcutive CDR3s:\n",
      "\n"
     ]
    },
    {
     "name": "stdout",
     "output_type": "stream",
     "text": [
      "[1] 9\n"
     ]
    },
    {
     "name": "stderr",
     "output_type": "stream",
     "text": [
      "nonproductive aaCDR3 removed\n",
      "\n",
      "number of clones in file:batch4_19Aug2019/mixcr/clones/CLONES_TRACHP_375-01-PBMC-DNA.txt\n",
      "\n"
     ]
    },
    {
     "name": "stdout",
     "output_type": "stream",
     "text": [
      "[1] 130\n"
     ]
    },
    {
     "name": "stderr",
     "output_type": "stream",
     "text": [
      "number of non prodcutive CDR3s:\n",
      "\n"
     ]
    },
    {
     "name": "stdout",
     "output_type": "stream",
     "text": [
      "[1] 76\n"
     ]
    },
    {
     "name": "stderr",
     "output_type": "stream",
     "text": [
      "nonproductive aaCDR3 removed\n",
      "\n",
      "number of clones in file:batch1_cfDNA_30Jan2020/mixcr/clones/CLONES_TRACHP_340-02-cfDNA.txt\n",
      "\n"
     ]
    },
    {
     "name": "stdout",
     "output_type": "stream",
     "text": [
      "[1] 92\n"
     ]
    },
    {
     "name": "stderr",
     "output_type": "stream",
     "text": [
      "number of non prodcutive CDR3s:\n",
      "\n"
     ]
    },
    {
     "name": "stdout",
     "output_type": "stream",
     "text": [
      "[1] 39\n"
     ]
    },
    {
     "name": "stderr",
     "output_type": "stream",
     "text": [
      "nonproductive aaCDR3 removed\n",
      "\n",
      "number of clones in file:batch1_cfDNA_30Jan2020/mixcr/clones/CLONES_TRACHP_343-01-cfDNA.txt\n",
      "\n"
     ]
    },
    {
     "name": "stdout",
     "output_type": "stream",
     "text": [
      "[1] 10\n"
     ]
    },
    {
     "name": "stderr",
     "output_type": "stream",
     "text": [
      "number of non prodcutive CDR3s:\n",
      "\n"
     ]
    },
    {
     "name": "stdout",
     "output_type": "stream",
     "text": [
      "[1] 8\n"
     ]
    },
    {
     "name": "stderr",
     "output_type": "stream",
     "text": [
      "nonproductive aaCDR3 removed\n",
      "\n",
      "number of clones in file:batch1_cfDNA_30Jan2020/mixcr/clones/CLONES_TRACHP_347-01-cfDNA.txt\n",
      "\n"
     ]
    },
    {
     "name": "stdout",
     "output_type": "stream",
     "text": [
      "[1] 11\n"
     ]
    },
    {
     "name": "stderr",
     "output_type": "stream",
     "text": [
      "number of non prodcutive CDR3s:\n",
      "\n"
     ]
    },
    {
     "name": "stdout",
     "output_type": "stream",
     "text": [
      "[1] 9\n"
     ]
    },
    {
     "name": "stderr",
     "output_type": "stream",
     "text": [
      "nonproductive aaCDR3 removed\n",
      "\n",
      "number of clones in file:batch1_cfDNA_30Jan2020/mixcr/clones/CLONES_TRACHP_353-01-cfDNA.txt\n",
      "\n"
     ]
    },
    {
     "name": "stdout",
     "output_type": "stream",
     "text": [
      "[1] 38\n"
     ]
    },
    {
     "name": "stderr",
     "output_type": "stream",
     "text": [
      "number of non prodcutive CDR3s:\n",
      "\n"
     ]
    },
    {
     "name": "stdout",
     "output_type": "stream",
     "text": [
      "[1] 21\n"
     ]
    },
    {
     "name": "stderr",
     "output_type": "stream",
     "text": [
      "nonproductive aaCDR3 removed\n",
      "\n",
      "number of clones in file:batch1_cfDNA_30Jan2020/mixcr/clones/CLONES_TRACHP_355-01-cfDNA.txt\n",
      "\n"
     ]
    },
    {
     "name": "stdout",
     "output_type": "stream",
     "text": [
      "[1] 24\n"
     ]
    },
    {
     "name": "stderr",
     "output_type": "stream",
     "text": [
      "number of non prodcutive CDR3s:\n",
      "\n"
     ]
    },
    {
     "name": "stdout",
     "output_type": "stream",
     "text": [
      "[1] 13\n"
     ]
    },
    {
     "name": "stderr",
     "output_type": "stream",
     "text": [
      "nonproductive aaCDR3 removed\n",
      "\n",
      "number of clones in file:batch1_cfDNA_30Jan2020/mixcr/clones/CLONES_TRACHP_356-02-cfDNA.txt\n",
      "\n"
     ]
    },
    {
     "name": "stdout",
     "output_type": "stream",
     "text": [
      "[1] 22\n"
     ]
    },
    {
     "name": "stderr",
     "output_type": "stream",
     "text": [
      "number of non prodcutive CDR3s:\n",
      "\n"
     ]
    },
    {
     "name": "stdout",
     "output_type": "stream",
     "text": [
      "[1] 11\n"
     ]
    },
    {
     "name": "stderr",
     "output_type": "stream",
     "text": [
      "nonproductive aaCDR3 removed\n",
      "\n",
      "number of clones in file:batch1_cfDNA_30Jan2020/mixcr/clones/CLONES_TRACHP_357-03-cfDNA.txt\n",
      "\n"
     ]
    },
    {
     "name": "stdout",
     "output_type": "stream",
     "text": [
      "[1] 30\n"
     ]
    },
    {
     "name": "stderr",
     "output_type": "stream",
     "text": [
      "number of non prodcutive CDR3s:\n",
      "\n"
     ]
    },
    {
     "name": "stdout",
     "output_type": "stream",
     "text": [
      "[1] 13\n"
     ]
    },
    {
     "name": "stderr",
     "output_type": "stream",
     "text": [
      "nonproductive aaCDR3 removed\n",
      "\n",
      "number of clones in file:batch1_cfDNA_30Jan2020/mixcr/clones/CLONES_TRACHP_359-01-cfDNA.txt\n",
      "\n"
     ]
    },
    {
     "name": "stdout",
     "output_type": "stream",
     "text": [
      "[1] 10\n"
     ]
    },
    {
     "name": "stderr",
     "output_type": "stream",
     "text": [
      "number of non prodcutive CDR3s:\n",
      "\n"
     ]
    },
    {
     "name": "stdout",
     "output_type": "stream",
     "text": [
      "[1] 6\n"
     ]
    },
    {
     "name": "stderr",
     "output_type": "stream",
     "text": [
      "nonproductive aaCDR3 removed\n",
      "\n",
      "number of clones in file:batch1_cfDNA_30Jan2020/mixcr/clones/CLONES_TRACHP_359-04-cfDNA.txt\n",
      "\n"
     ]
    },
    {
     "name": "stdout",
     "output_type": "stream",
     "text": [
      "[1] 89\n"
     ]
    },
    {
     "name": "stderr",
     "output_type": "stream",
     "text": [
      "number of non prodcutive CDR3s:\n",
      "\n"
     ]
    },
    {
     "name": "stdout",
     "output_type": "stream",
     "text": [
      "[1] 44\n"
     ]
    },
    {
     "name": "stderr",
     "output_type": "stream",
     "text": [
      "nonproductive aaCDR3 removed\n",
      "\n",
      "number of clones in file:batch1_cfDNA_30Jan2020/mixcr/clones/CLONES_TRACHP_360-02-cfDNA.txt\n",
      "\n"
     ]
    },
    {
     "name": "stdout",
     "output_type": "stream",
     "text": [
      "[1] 33\n"
     ]
    },
    {
     "name": "stderr",
     "output_type": "stream",
     "text": [
      "number of non prodcutive CDR3s:\n",
      "\n"
     ]
    },
    {
     "name": "stdout",
     "output_type": "stream",
     "text": [
      "[1] 9\n"
     ]
    },
    {
     "name": "stderr",
     "output_type": "stream",
     "text": [
      "nonproductive aaCDR3 removed\n",
      "\n",
      "number of clones in file:batch1_cfDNA_30Jan2020/mixcr/clones/CLONES_TRACHP_363-01-cfDNA.txt\n",
      "\n"
     ]
    },
    {
     "name": "stdout",
     "output_type": "stream",
     "text": [
      "[1] 56\n"
     ]
    },
    {
     "name": "stderr",
     "output_type": "stream",
     "text": [
      "number of non prodcutive CDR3s:\n",
      "\n"
     ]
    },
    {
     "name": "stdout",
     "output_type": "stream",
     "text": [
      "[1] 23\n"
     ]
    },
    {
     "name": "stderr",
     "output_type": "stream",
     "text": [
      "nonproductive aaCDR3 removed\n",
      "\n",
      "number of clones in file:batch1_cfDNA_30Jan2020/mixcr/clones/CLONES_TRACHP_365-01-cfDNA.txt\n",
      "\n"
     ]
    },
    {
     "name": "stdout",
     "output_type": "stream",
     "text": [
      "[1] 98\n"
     ]
    },
    {
     "name": "stderr",
     "output_type": "stream",
     "text": [
      "number of non prodcutive CDR3s:\n",
      "\n"
     ]
    },
    {
     "name": "stdout",
     "output_type": "stream",
     "text": [
      "[1] 32\n"
     ]
    },
    {
     "name": "stderr",
     "output_type": "stream",
     "text": [
      "nonproductive aaCDR3 removed\n",
      "\n",
      "number of clones in file:batch1_cfDNA_30Jan2020/mixcr/clones/CLONES_TRACHP_366-02-cfDNA.txt\n",
      "\n"
     ]
    },
    {
     "name": "stdout",
     "output_type": "stream",
     "text": [
      "[1] 3\n"
     ]
    },
    {
     "name": "stderr",
     "output_type": "stream",
     "text": [
      "number of non prodcutive CDR3s:\n",
      "\n"
     ]
    },
    {
     "name": "stdout",
     "output_type": "stream",
     "text": [
      "[1] 0\n"
     ]
    },
    {
     "name": "stderr",
     "output_type": "stream",
     "text": [
      "nonproductive aaCDR3 removed\n",
      "\n",
      "number of clones in file:batch1_cfDNA_30Jan2020/mixcr/clones/CLONES_TRACHP_368-05-cfDNA.txt\n",
      "\n"
     ]
    },
    {
     "name": "stdout",
     "output_type": "stream",
     "text": [
      "[1] 45\n"
     ]
    },
    {
     "name": "stderr",
     "output_type": "stream",
     "text": [
      "number of non prodcutive CDR3s:\n",
      "\n"
     ]
    },
    {
     "name": "stdout",
     "output_type": "stream",
     "text": [
      "[1] 18\n"
     ]
    },
    {
     "name": "stderr",
     "output_type": "stream",
     "text": [
      "nonproductive aaCDR3 removed\n",
      "\n",
      "number of clones in file:batch1_cfDNA_30Jan2020/mixcr/clones/CLONES_TRACHP_370-01-cfDNA.txt\n",
      "\n"
     ]
    },
    {
     "name": "stdout",
     "output_type": "stream",
     "text": [
      "[1] 159\n"
     ]
    },
    {
     "name": "stderr",
     "output_type": "stream",
     "text": [
      "number of non prodcutive CDR3s:\n",
      "\n"
     ]
    },
    {
     "name": "stdout",
     "output_type": "stream",
     "text": [
      "[1] 68\n"
     ]
    },
    {
     "name": "stderr",
     "output_type": "stream",
     "text": [
      "nonproductive aaCDR3 removed\n",
      "\n",
      "number of clones in file:batch1_cfDNA_30Jan2020/mixcr/clones/CLONES_TRACHP_371-01-cfDNA.txt\n",
      "\n"
     ]
    },
    {
     "name": "stdout",
     "output_type": "stream",
     "text": [
      "[1] 43\n"
     ]
    },
    {
     "name": "stderr",
     "output_type": "stream",
     "text": [
      "number of non prodcutive CDR3s:\n",
      "\n"
     ]
    },
    {
     "name": "stdout",
     "output_type": "stream",
     "text": [
      "[1] 28\n"
     ]
    },
    {
     "name": "stderr",
     "output_type": "stream",
     "text": [
      "nonproductive aaCDR3 removed\n",
      "\n",
      "number of clones in file:batch1_cfDNA_30Jan2020/mixcr/clones/CLONES_TRACHP_371-03-cfDNA.txt\n",
      "\n"
     ]
    },
    {
     "name": "stdout",
     "output_type": "stream",
     "text": [
      "[1] 30\n"
     ]
    },
    {
     "name": "stderr",
     "output_type": "stream",
     "text": [
      "number of non prodcutive CDR3s:\n",
      "\n"
     ]
    },
    {
     "name": "stdout",
     "output_type": "stream",
     "text": [
      "[1] 20\n"
     ]
    },
    {
     "name": "stderr",
     "output_type": "stream",
     "text": [
      "nonproductive aaCDR3 removed\n",
      "\n",
      "number of clones in file:batch1_cfDNA_30Jan2020/mixcr/clones/CLONES_TRACHP_372-01-cfDNA.txt\n",
      "\n"
     ]
    },
    {
     "name": "stdout",
     "output_type": "stream",
     "text": [
      "[1] 12\n"
     ]
    },
    {
     "name": "stderr",
     "output_type": "stream",
     "text": [
      "number of non prodcutive CDR3s:\n",
      "\n"
     ]
    },
    {
     "name": "stdout",
     "output_type": "stream",
     "text": [
      "[1] 2\n"
     ]
    },
    {
     "name": "stderr",
     "output_type": "stream",
     "text": [
      "nonproductive aaCDR3 removed\n",
      "\n",
      "number of clones in file:batch1_cfDNA_30Jan2020/mixcr/clones/CLONES_TRACHP_373-01-cfDNA.txt\n",
      "\n"
     ]
    },
    {
     "name": "stdout",
     "output_type": "stream",
     "text": [
      "[1] 59\n"
     ]
    },
    {
     "name": "stderr",
     "output_type": "stream",
     "text": [
      "number of non prodcutive CDR3s:\n",
      "\n"
     ]
    },
    {
     "name": "stdout",
     "output_type": "stream",
     "text": [
      "[1] 38\n"
     ]
    },
    {
     "name": "stderr",
     "output_type": "stream",
     "text": [
      "nonproductive aaCDR3 removed\n",
      "\n",
      "number of clones in file:batch1_cfDNA_30Jan2020/mixcr/clones/CLONES_TRACHP_374-04-cfDNA.txt\n",
      "\n"
     ]
    },
    {
     "name": "stdout",
     "output_type": "stream",
     "text": [
      "[1] 8\n"
     ]
    },
    {
     "name": "stderr",
     "output_type": "stream",
     "text": [
      "number of non prodcutive CDR3s:\n",
      "\n"
     ]
    },
    {
     "name": "stdout",
     "output_type": "stream",
     "text": [
      "[1] 7\n"
     ]
    },
    {
     "name": "stderr",
     "output_type": "stream",
     "text": [
      "nonproductive aaCDR3 removed\n",
      "\n",
      "number of clones in file:batch1_cfDNA_30Jan2020/mixcr/clones/CLONES_TRACHP_374-05-cfDNA.txt\n",
      "\n"
     ]
    },
    {
     "name": "stdout",
     "output_type": "stream",
     "text": [
      "[1] 14\n"
     ]
    },
    {
     "name": "stderr",
     "output_type": "stream",
     "text": [
      "number of non prodcutive CDR3s:\n",
      "\n"
     ]
    },
    {
     "name": "stdout",
     "output_type": "stream",
     "text": [
      "[1] 11\n"
     ]
    },
    {
     "name": "stderr",
     "output_type": "stream",
     "text": [
      "nonproductive aaCDR3 removed\n",
      "\n",
      "number of clones in file:batch1_cfDNA_30Jan2020/mixcr/clones/CLONES_TRACHP_376-01-cfDNA.txt\n",
      "\n"
     ]
    },
    {
     "name": "stdout",
     "output_type": "stream",
     "text": [
      "[1] 52\n"
     ]
    },
    {
     "name": "stderr",
     "output_type": "stream",
     "text": [
      "number of non prodcutive CDR3s:\n",
      "\n"
     ]
    },
    {
     "name": "stdout",
     "output_type": "stream",
     "text": [
      "[1] 29\n"
     ]
    },
    {
     "name": "stderr",
     "output_type": "stream",
     "text": [
      "nonproductive aaCDR3 removed\n",
      "\n",
      "number of clones in file:batch1_cfDNA_30Jan2020/mixcr/clones/CLONES_TRACHP_377-01-cfDNA.txt\n",
      "\n"
     ]
    },
    {
     "name": "stdout",
     "output_type": "stream",
     "text": [
      "[1] 109\n"
     ]
    },
    {
     "name": "stderr",
     "output_type": "stream",
     "text": [
      "number of non prodcutive CDR3s:\n",
      "\n"
     ]
    },
    {
     "name": "stdout",
     "output_type": "stream",
     "text": [
      "[1] 76\n"
     ]
    },
    {
     "name": "stderr",
     "output_type": "stream",
     "text": [
      "nonproductive aaCDR3 removed\n",
      "\n",
      "number of clones in file:batch1_cfDNA_30Jan2020/mixcr/clones/CLONES_TRACHP_379-01-cfDNA.txt\n",
      "\n"
     ]
    },
    {
     "name": "stdout",
     "output_type": "stream",
     "text": [
      "[1] 64\n"
     ]
    },
    {
     "name": "stderr",
     "output_type": "stream",
     "text": [
      "number of non prodcutive CDR3s:\n",
      "\n"
     ]
    },
    {
     "name": "stdout",
     "output_type": "stream",
     "text": [
      "[1] 34\n"
     ]
    },
    {
     "name": "stderr",
     "output_type": "stream",
     "text": [
      "nonproductive aaCDR3 removed\n",
      "\n",
      "number of clones in file:batch1_jul52019/mixcr/clones/CLONES_TRACHP_346-01-PBMC-DNA.txt\n",
      "\n"
     ]
    },
    {
     "name": "stdout",
     "output_type": "stream",
     "text": [
      "[1] 267\n"
     ]
    },
    {
     "name": "stderr",
     "output_type": "stream",
     "text": [
      "number of non prodcutive CDR3s:\n",
      "\n"
     ]
    },
    {
     "name": "stdout",
     "output_type": "stream",
     "text": [
      "[1] 165\n"
     ]
    },
    {
     "name": "stderr",
     "output_type": "stream",
     "text": [
      "nonproductive aaCDR3 removed\n",
      "\n",
      "number of clones in file:batch1_jul52019/mixcr/clones/CLONES_TRACHP_348-03-PBMC-DNA.txt\n",
      "\n"
     ]
    },
    {
     "name": "stdout",
     "output_type": "stream",
     "text": [
      "[1] 406\n"
     ]
    },
    {
     "name": "stderr",
     "output_type": "stream",
     "text": [
      "number of non prodcutive CDR3s:\n",
      "\n"
     ]
    },
    {
     "name": "stdout",
     "output_type": "stream",
     "text": [
      "[1] 219\n"
     ]
    },
    {
     "name": "stderr",
     "output_type": "stream",
     "text": [
      "nonproductive aaCDR3 removed\n",
      "\n",
      "number of clones in file:batch1_jul52019/mixcr/clones/CLONES_TRACHP_348-04-PBMC-DNA.txt\n",
      "\n"
     ]
    },
    {
     "name": "stdout",
     "output_type": "stream",
     "text": [
      "[1] 178\n"
     ]
    },
    {
     "name": "stderr",
     "output_type": "stream",
     "text": [
      "number of non prodcutive CDR3s:\n",
      "\n"
     ]
    },
    {
     "name": "stdout",
     "output_type": "stream",
     "text": [
      "[1] 82\n"
     ]
    },
    {
     "name": "stderr",
     "output_type": "stream",
     "text": [
      "nonproductive aaCDR3 removed\n",
      "\n",
      "number of clones in file:batch1_jul52019/mixcr/clones/CLONES_TRACHP_349-01-PBMC-DNA.txt\n",
      "\n"
     ]
    },
    {
     "name": "stdout",
     "output_type": "stream",
     "text": [
      "[1] 109\n"
     ]
    },
    {
     "name": "stderr",
     "output_type": "stream",
     "text": [
      "number of non prodcutive CDR3s:\n",
      "\n"
     ]
    },
    {
     "name": "stdout",
     "output_type": "stream",
     "text": [
      "[1] 58\n"
     ]
    },
    {
     "name": "stderr",
     "output_type": "stream",
     "text": [
      "nonproductive aaCDR3 removed\n",
      "\n",
      "number of clones in file:batch1_jul52019/mixcr/clones/CLONES_TRACHP_349-02-PBMC-DNA.txt\n",
      "\n"
     ]
    },
    {
     "name": "stdout",
     "output_type": "stream",
     "text": [
      "[1] 346\n"
     ]
    },
    {
     "name": "stderr",
     "output_type": "stream",
     "text": [
      "number of non prodcutive CDR3s:\n",
      "\n"
     ]
    },
    {
     "name": "stdout",
     "output_type": "stream",
     "text": [
      "[1] 189\n"
     ]
    },
    {
     "name": "stderr",
     "output_type": "stream",
     "text": [
      "nonproductive aaCDR3 removed\n",
      "\n",
      "number of clones in file:batch1_jul52019/mixcr/clones/CLONES_TRACHP_351-01-PBMC-DNA.txt\n",
      "\n"
     ]
    },
    {
     "name": "stdout",
     "output_type": "stream",
     "text": [
      "[1] 32\n"
     ]
    },
    {
     "name": "stderr",
     "output_type": "stream",
     "text": [
      "number of non prodcutive CDR3s:\n",
      "\n"
     ]
    },
    {
     "name": "stdout",
     "output_type": "stream",
     "text": [
      "[1] 20\n"
     ]
    },
    {
     "name": "stderr",
     "output_type": "stream",
     "text": [
      "nonproductive aaCDR3 removed\n",
      "\n",
      "number of clones in file:batch1_jul52019/mixcr/clones/CLONES_TRACHP_351-02-PBMC-DNA.txt\n",
      "\n"
     ]
    },
    {
     "name": "stdout",
     "output_type": "stream",
     "text": [
      "[1] 577\n"
     ]
    },
    {
     "name": "stderr",
     "output_type": "stream",
     "text": [
      "number of non prodcutive CDR3s:\n",
      "\n"
     ]
    },
    {
     "name": "stdout",
     "output_type": "stream",
     "text": [
      "[1] 333\n"
     ]
    },
    {
     "name": "stderr",
     "output_type": "stream",
     "text": [
      "nonproductive aaCDR3 removed\n",
      "\n",
      "number of clones in file:batch1_jul52019/mixcr/clones/CLONES_TRACHP_352-01-PBMC-DNA.txt\n",
      "\n"
     ]
    },
    {
     "name": "stdout",
     "output_type": "stream",
     "text": [
      "[1] 124\n"
     ]
    },
    {
     "name": "stderr",
     "output_type": "stream",
     "text": [
      "number of non prodcutive CDR3s:\n",
      "\n"
     ]
    },
    {
     "name": "stdout",
     "output_type": "stream",
     "text": [
      "[1] 63\n"
     ]
    },
    {
     "name": "stderr",
     "output_type": "stream",
     "text": [
      "nonproductive aaCDR3 removed\n",
      "\n",
      "number of clones in file:batch1_jul52019/mixcr/clones/CLONES_TRACHP_352-02-PBMC-DNA.txt\n",
      "\n"
     ]
    },
    {
     "name": "stdout",
     "output_type": "stream",
     "text": [
      "[1] 471\n"
     ]
    },
    {
     "name": "stderr",
     "output_type": "stream",
     "text": [
      "number of non prodcutive CDR3s:\n",
      "\n"
     ]
    },
    {
     "name": "stdout",
     "output_type": "stream",
     "text": [
      "[1] 233\n"
     ]
    },
    {
     "name": "stderr",
     "output_type": "stream",
     "text": [
      "nonproductive aaCDR3 removed\n",
      "\n",
      "number of clones in file:batch1_jul52019/mixcr/clones/CLONES_TRACHP_356-04-PBMC-DNA.txt\n",
      "\n"
     ]
    },
    {
     "name": "stdout",
     "output_type": "stream",
     "text": [
      "[1] 0\n"
     ]
    },
    {
     "name": "stderr",
     "output_type": "stream",
     "text": [
      "number of clones in file:batch1_jul52019/mixcr/clones/CLONES_TRACHP_356-05-PBMC-DNA.txt\n",
      "\n"
     ]
    },
    {
     "name": "stdout",
     "output_type": "stream",
     "text": [
      "[1] 9\n"
     ]
    },
    {
     "name": "stderr",
     "output_type": "stream",
     "text": [
      "number of non prodcutive CDR3s:\n",
      "\n"
     ]
    },
    {
     "name": "stdout",
     "output_type": "stream",
     "text": [
      "[1] 7\n"
     ]
    },
    {
     "name": "stderr",
     "output_type": "stream",
     "text": [
      "nonproductive aaCDR3 removed\n",
      "\n",
      "number of clones in file:batch1_jul52019/mixcr/clones/CLONES_TRACHP_358-01-PBMC-DNA.txt\n",
      "\n"
     ]
    },
    {
     "name": "stdout",
     "output_type": "stream",
     "text": [
      "[1] 107\n"
     ]
    },
    {
     "name": "stderr",
     "output_type": "stream",
     "text": [
      "number of non prodcutive CDR3s:\n",
      "\n"
     ]
    },
    {
     "name": "stdout",
     "output_type": "stream",
     "text": [
      "[1] 56\n"
     ]
    },
    {
     "name": "stderr",
     "output_type": "stream",
     "text": [
      "nonproductive aaCDR3 removed\n",
      "\n",
      "number of clones in file:batch1_jul52019/mixcr/clones/CLONES_TRACHP_363-03-PBMC-DNA.txt\n",
      "\n"
     ]
    },
    {
     "name": "stdout",
     "output_type": "stream",
     "text": [
      "[1] 29\n"
     ]
    },
    {
     "name": "stderr",
     "output_type": "stream",
     "text": [
      "number of non prodcutive CDR3s:\n",
      "\n"
     ]
    },
    {
     "name": "stdout",
     "output_type": "stream",
     "text": [
      "[1] 17\n"
     ]
    },
    {
     "name": "stderr",
     "output_type": "stream",
     "text": [
      "nonproductive aaCDR3 removed\n",
      "\n",
      "number of clones in file:batch1_jul52019/mixcr/clones/CLONES_TRACHP_365-02-PBMC-DNA.txt\n",
      "\n"
     ]
    },
    {
     "name": "stdout",
     "output_type": "stream",
     "text": [
      "[1] 347\n"
     ]
    },
    {
     "name": "stderr",
     "output_type": "stream",
     "text": [
      "number of non prodcutive CDR3s:\n",
      "\n"
     ]
    },
    {
     "name": "stdout",
     "output_type": "stream",
     "text": [
      "[1] 152\n"
     ]
    },
    {
     "name": "stderr",
     "output_type": "stream",
     "text": [
      "nonproductive aaCDR3 removed\n",
      "\n",
      "number of clones in file:batch10_cfDNA_13Jul2020/mixcr/clones/CLONES_TRACHP_324-05_cfDNA.txt\n",
      "\n"
     ]
    },
    {
     "name": "stdout",
     "output_type": "stream",
     "text": [
      "[1] 6\n"
     ]
    },
    {
     "name": "stderr",
     "output_type": "stream",
     "text": [
      "number of non prodcutive CDR3s:\n",
      "\n"
     ]
    },
    {
     "name": "stdout",
     "output_type": "stream",
     "text": [
      "[1] 0\n"
     ]
    },
    {
     "name": "stderr",
     "output_type": "stream",
     "text": [
      "nonproductive aaCDR3 removed\n",
      "\n",
      "number of clones in file:batch10_cfDNA_13Jul2020/mixcr/clones/CLONES_TRACHP_326-05_cfDNA.txt\n",
      "\n"
     ]
    },
    {
     "name": "stdout",
     "output_type": "stream",
     "text": [
      "[1] 80\n"
     ]
    },
    {
     "name": "stderr",
     "output_type": "stream",
     "text": [
      "number of non prodcutive CDR3s:\n",
      "\n"
     ]
    },
    {
     "name": "stdout",
     "output_type": "stream",
     "text": [
      "[1] 34\n"
     ]
    },
    {
     "name": "stderr",
     "output_type": "stream",
     "text": [
      "nonproductive aaCDR3 removed\n",
      "\n",
      "number of clones in file:batch10_cfDNA_13Jul2020/mixcr/clones/CLONES_TRACHP_328-05_cfDNA.txt\n",
      "\n"
     ]
    },
    {
     "name": "stdout",
     "output_type": "stream",
     "text": [
      "[1] 22\n"
     ]
    },
    {
     "name": "stderr",
     "output_type": "stream",
     "text": [
      "number of non prodcutive CDR3s:\n",
      "\n"
     ]
    },
    {
     "name": "stdout",
     "output_type": "stream",
     "text": [
      "[1] 12\n"
     ]
    },
    {
     "name": "stderr",
     "output_type": "stream",
     "text": [
      "nonproductive aaCDR3 removed\n",
      "\n",
      "number of clones in file:batch10_cfDNA_13Jul2020/mixcr/clones/CLONES_TRACHP_336-03_cfDNA.txt\n",
      "\n"
     ]
    },
    {
     "name": "stdout",
     "output_type": "stream",
     "text": [
      "[1] 22\n"
     ]
    },
    {
     "name": "stderr",
     "output_type": "stream",
     "text": [
      "number of non prodcutive CDR3s:\n",
      "\n"
     ]
    },
    {
     "name": "stdout",
     "output_type": "stream",
     "text": [
      "[1] 5\n"
     ]
    },
    {
     "name": "stderr",
     "output_type": "stream",
     "text": [
      "nonproductive aaCDR3 removed\n",
      "\n",
      "number of clones in file:batch10_cfDNA_13Jul2020/mixcr/clones/CLONES_TRACHP_336-04_cfDNA.txt\n",
      "\n"
     ]
    },
    {
     "name": "stdout",
     "output_type": "stream",
     "text": [
      "[1] 31\n"
     ]
    },
    {
     "name": "stderr",
     "output_type": "stream",
     "text": [
      "number of non prodcutive CDR3s:\n",
      "\n"
     ]
    },
    {
     "name": "stdout",
     "output_type": "stream",
     "text": [
      "[1] 11\n"
     ]
    },
    {
     "name": "stderr",
     "output_type": "stream",
     "text": [
      "nonproductive aaCDR3 removed\n",
      "\n",
      "number of clones in file:batch10_cfDNA_13Jul2020/mixcr/clones/CLONES_TRACHP_336-05_cfDNA.txt\n",
      "\n"
     ]
    },
    {
     "name": "stdout",
     "output_type": "stream",
     "text": [
      "[1] 54\n"
     ]
    },
    {
     "name": "stderr",
     "output_type": "stream",
     "text": [
      "number of non prodcutive CDR3s:\n",
      "\n"
     ]
    },
    {
     "name": "stdout",
     "output_type": "stream",
     "text": [
      "[1] 24\n"
     ]
    },
    {
     "name": "stderr",
     "output_type": "stream",
     "text": [
      "nonproductive aaCDR3 removed\n",
      "\n",
      "number of clones in file:batch10_cfDNA_13Jul2020/mixcr/clones/CLONES_TRACHP_338-03_cfDNA.txt\n",
      "\n"
     ]
    },
    {
     "name": "stdout",
     "output_type": "stream",
     "text": [
      "[1] 30\n"
     ]
    },
    {
     "name": "stderr",
     "output_type": "stream",
     "text": [
      "number of non prodcutive CDR3s:\n",
      "\n"
     ]
    },
    {
     "name": "stdout",
     "output_type": "stream",
     "text": [
      "[1] 17\n"
     ]
    },
    {
     "name": "stderr",
     "output_type": "stream",
     "text": [
      "nonproductive aaCDR3 removed\n",
      "\n",
      "number of clones in file:batch10_cfDNA_13Jul2020/mixcr/clones/CLONES_TRACHP_339-03_cfDNA.txt\n",
      "\n"
     ]
    },
    {
     "name": "stdout",
     "output_type": "stream",
     "text": [
      "[1] 46\n"
     ]
    },
    {
     "name": "stderr",
     "output_type": "stream",
     "text": [
      "number of non prodcutive CDR3s:\n",
      "\n"
     ]
    },
    {
     "name": "stdout",
     "output_type": "stream",
     "text": [
      "[1] 21\n"
     ]
    },
    {
     "name": "stderr",
     "output_type": "stream",
     "text": [
      "nonproductive aaCDR3 removed\n",
      "\n",
      "number of clones in file:batch10_cfDNA_13Jul2020/mixcr/clones/CLONES_TRACHP_347-04_cfDNA.txt\n",
      "\n"
     ]
    },
    {
     "name": "stdout",
     "output_type": "stream",
     "text": [
      "[1] 52\n"
     ]
    },
    {
     "name": "stderr",
     "output_type": "stream",
     "text": [
      "number of non prodcutive CDR3s:\n",
      "\n"
     ]
    },
    {
     "name": "stdout",
     "output_type": "stream",
     "text": [
      "[1] 22\n"
     ]
    },
    {
     "name": "stderr",
     "output_type": "stream",
     "text": [
      "nonproductive aaCDR3 removed\n",
      "\n",
      "number of clones in file:batch10_cfDNA_13Jul2020/mixcr/clones/CLONES_TRACHP_348-05_cfDNA.txt\n",
      "\n"
     ]
    },
    {
     "name": "stdout",
     "output_type": "stream",
     "text": [
      "[1] 38\n"
     ]
    },
    {
     "name": "stderr",
     "output_type": "stream",
     "text": [
      "number of non prodcutive CDR3s:\n",
      "\n"
     ]
    },
    {
     "name": "stdout",
     "output_type": "stream",
     "text": [
      "[1] 16\n"
     ]
    },
    {
     "name": "stderr",
     "output_type": "stream",
     "text": [
      "nonproductive aaCDR3 removed\n",
      "\n",
      "number of clones in file:batch10_cfDNA_13Jul2020/mixcr/clones/CLONES_TRACHP_351-04_cfDNA.txt\n",
      "\n"
     ]
    },
    {
     "name": "stdout",
     "output_type": "stream",
     "text": [
      "[1] 42\n"
     ]
    },
    {
     "name": "stderr",
     "output_type": "stream",
     "text": [
      "number of non prodcutive CDR3s:\n",
      "\n"
     ]
    },
    {
     "name": "stdout",
     "output_type": "stream",
     "text": [
      "[1] 20\n"
     ]
    },
    {
     "name": "stderr",
     "output_type": "stream",
     "text": [
      "nonproductive aaCDR3 removed\n",
      "\n",
      "number of clones in file:batch10_cfDNA_13Jul2020/mixcr/clones/CLONES_TRACHP_351-05_cfDNA.txt\n",
      "\n"
     ]
    },
    {
     "name": "stdout",
     "output_type": "stream",
     "text": [
      "[1] 21\n"
     ]
    },
    {
     "name": "stderr",
     "output_type": "stream",
     "text": [
      "number of non prodcutive CDR3s:\n",
      "\n"
     ]
    },
    {
     "name": "stdout",
     "output_type": "stream",
     "text": [
      "[1] 6\n"
     ]
    },
    {
     "name": "stderr",
     "output_type": "stream",
     "text": [
      "nonproductive aaCDR3 removed\n",
      "\n",
      "number of clones in file:batch10_cfDNA_13Jul2020/mixcr/clones/CLONES_TRACHP_353-05_cfDNA.txt\n",
      "\n"
     ]
    },
    {
     "name": "stdout",
     "output_type": "stream",
     "text": [
      "[1] 86\n"
     ]
    },
    {
     "name": "stderr",
     "output_type": "stream",
     "text": [
      "number of non prodcutive CDR3s:\n",
      "\n"
     ]
    },
    {
     "name": "stdout",
     "output_type": "stream",
     "text": [
      "[1] 30\n"
     ]
    },
    {
     "name": "stderr",
     "output_type": "stream",
     "text": [
      "nonproductive aaCDR3 removed\n",
      "\n",
      "number of clones in file:batch10_cfDNA_13Jul2020/mixcr/clones/CLONES_TRACHP_358-02_cfDNA.txt\n",
      "\n"
     ]
    },
    {
     "name": "stdout",
     "output_type": "stream",
     "text": [
      "[1] 95\n"
     ]
    },
    {
     "name": "stderr",
     "output_type": "stream",
     "text": [
      "number of non prodcutive CDR3s:\n",
      "\n"
     ]
    },
    {
     "name": "stdout",
     "output_type": "stream",
     "text": [
      "[1] 56\n"
     ]
    },
    {
     "name": "stderr",
     "output_type": "stream",
     "text": [
      "nonproductive aaCDR3 removed\n",
      "\n",
      "number of clones in file:batch10_cfDNA_13Jul2020/mixcr/clones/CLONES_TRACHP_361-02_cfDNA.txt\n",
      "\n"
     ]
    },
    {
     "name": "stdout",
     "output_type": "stream",
     "text": [
      "[1] 25\n"
     ]
    },
    {
     "name": "stderr",
     "output_type": "stream",
     "text": [
      "number of non prodcutive CDR3s:\n",
      "\n"
     ]
    },
    {
     "name": "stdout",
     "output_type": "stream",
     "text": [
      "[1] 10\n"
     ]
    },
    {
     "name": "stderr",
     "output_type": "stream",
     "text": [
      "nonproductive aaCDR3 removed\n",
      "\n",
      "number of clones in file:batch10_cfDNA_13Jul2020/mixcr/clones/CLONES_TRACHP_362-04_cfDNA.txt\n",
      "\n"
     ]
    },
    {
     "name": "stdout",
     "output_type": "stream",
     "text": [
      "[1] 12\n"
     ]
    },
    {
     "name": "stderr",
     "output_type": "stream",
     "text": [
      "number of non prodcutive CDR3s:\n",
      "\n"
     ]
    },
    {
     "name": "stdout",
     "output_type": "stream",
     "text": [
      "[1] 4\n"
     ]
    },
    {
     "name": "stderr",
     "output_type": "stream",
     "text": [
      "nonproductive aaCDR3 removed\n",
      "\n",
      "number of clones in file:batch10_cfDNA_13Jul2020/mixcr/clones/CLONES_TRACHP_364-02_cfDNA.txt\n",
      "\n"
     ]
    },
    {
     "name": "stdout",
     "output_type": "stream",
     "text": [
      "[1] 29\n"
     ]
    },
    {
     "name": "stderr",
     "output_type": "stream",
     "text": [
      "number of non prodcutive CDR3s:\n",
      "\n"
     ]
    },
    {
     "name": "stdout",
     "output_type": "stream",
     "text": [
      "[1] 14\n"
     ]
    },
    {
     "name": "stderr",
     "output_type": "stream",
     "text": [
      "nonproductive aaCDR3 removed\n",
      "\n",
      "number of clones in file:batch10_cfDNA_13Jul2020/mixcr/clones/CLONES_TRACHP_366-04_cfDNA.txt\n",
      "\n"
     ]
    },
    {
     "name": "stdout",
     "output_type": "stream",
     "text": [
      "[1] 52\n"
     ]
    },
    {
     "name": "stderr",
     "output_type": "stream",
     "text": [
      "number of non prodcutive CDR3s:\n",
      "\n"
     ]
    },
    {
     "name": "stdout",
     "output_type": "stream",
     "text": [
      "[1] 32\n"
     ]
    },
    {
     "name": "stderr",
     "output_type": "stream",
     "text": [
      "nonproductive aaCDR3 removed\n",
      "\n",
      "number of clones in file:batch10_cfDNA_13Jul2020/mixcr/clones/CLONES_TRACHP_367-03_cfDNA.txt\n",
      "\n"
     ]
    },
    {
     "name": "stdout",
     "output_type": "stream",
     "text": [
      "[1] 42\n"
     ]
    },
    {
     "name": "stderr",
     "output_type": "stream",
     "text": [
      "number of non prodcutive CDR3s:\n",
      "\n"
     ]
    },
    {
     "name": "stdout",
     "output_type": "stream",
     "text": [
      "[1] 22\n"
     ]
    },
    {
     "name": "stderr",
     "output_type": "stream",
     "text": [
      "nonproductive aaCDR3 removed\n",
      "\n",
      "number of clones in file:batch10_cfDNA_13Jul2020/mixcr/clones/CLONES_TRACHP_369-02_cfDNA.txt\n",
      "\n"
     ]
    },
    {
     "name": "stdout",
     "output_type": "stream",
     "text": [
      "[1] 208\n"
     ]
    },
    {
     "name": "stderr",
     "output_type": "stream",
     "text": [
      "number of non prodcutive CDR3s:\n",
      "\n"
     ]
    },
    {
     "name": "stdout",
     "output_type": "stream",
     "text": [
      "[1] 93\n"
     ]
    },
    {
     "name": "stderr",
     "output_type": "stream",
     "text": [
      "nonproductive aaCDR3 removed\n",
      "\n",
      "number of clones in file:batch10_cfDNA_13Jul2020/mixcr/clones/CLONES_TRACHP_375-02_cfDNA.txt\n",
      "\n"
     ]
    },
    {
     "name": "stdout",
     "output_type": "stream",
     "text": [
      "[1] 30\n"
     ]
    },
    {
     "name": "stderr",
     "output_type": "stream",
     "text": [
      "number of non prodcutive CDR3s:\n",
      "\n"
     ]
    },
    {
     "name": "stdout",
     "output_type": "stream",
     "text": [
      "[1] 15\n"
     ]
    },
    {
     "name": "stderr",
     "output_type": "stream",
     "text": [
      "nonproductive aaCDR3 removed\n",
      "\n",
      "number of clones in file:batch10_cfDNA_13Jul2020/mixcr/clones/CLONES_TRACHP_381-02_cfDNA.txt\n",
      "\n"
     ]
    },
    {
     "name": "stdout",
     "output_type": "stream",
     "text": [
      "[1] 34\n"
     ]
    },
    {
     "name": "stderr",
     "output_type": "stream",
     "text": [
      "number of non prodcutive CDR3s:\n",
      "\n"
     ]
    },
    {
     "name": "stdout",
     "output_type": "stream",
     "text": [
      "[1] 14\n"
     ]
    },
    {
     "name": "stderr",
     "output_type": "stream",
     "text": [
      "nonproductive aaCDR3 removed\n",
      "\n",
      "number of clones in file:batch11_23Apr2020/mixcr/clones/CLONES_TRACHP_375-05_PBMC_DNA.txt\n",
      "\n"
     ]
    },
    {
     "name": "stdout",
     "output_type": "stream",
     "text": [
      "[1] 463\n"
     ]
    },
    {
     "name": "stderr",
     "output_type": "stream",
     "text": [
      "number of non prodcutive CDR3s:\n",
      "\n"
     ]
    },
    {
     "name": "stdout",
     "output_type": "stream",
     "text": [
      "[1] 177\n"
     ]
    },
    {
     "name": "stderr",
     "output_type": "stream",
     "text": [
      "nonproductive aaCDR3 removed\n",
      "\n",
      "number of clones in file:batch11_23Apr2020/mixcr/clones/CLONES_TRACHP_377-04_PBMC_DNA.txt\n",
      "\n"
     ]
    },
    {
     "name": "stdout",
     "output_type": "stream",
     "text": [
      "[1] 756\n"
     ]
    },
    {
     "name": "stderr",
     "output_type": "stream",
     "text": [
      "number of non prodcutive CDR3s:\n",
      "\n"
     ]
    },
    {
     "name": "stdout",
     "output_type": "stream",
     "text": [
      "[1] 299\n"
     ]
    },
    {
     "name": "stderr",
     "output_type": "stream",
     "text": [
      "nonproductive aaCDR3 removed\n",
      "\n",
      "number of clones in file:batch11_23Apr2020/mixcr/clones/CLONES_TRACHP_382-03_PBMC_DNA.txt\n",
      "\n"
     ]
    },
    {
     "name": "stdout",
     "output_type": "stream",
     "text": [
      "[1] 80\n"
     ]
    },
    {
     "name": "stderr",
     "output_type": "stream",
     "text": [
      "number of non prodcutive CDR3s:\n",
      "\n"
     ]
    },
    {
     "name": "stdout",
     "output_type": "stream",
     "text": [
      "[1] 39\n"
     ]
    },
    {
     "name": "stderr",
     "output_type": "stream",
     "text": [
      "nonproductive aaCDR3 removed\n",
      "\n",
      "number of clones in file:batch11_23Apr2020/mixcr/clones/CLONES_TRACHP_382-04_PBMC_DNA.txt\n",
      "\n"
     ]
    },
    {
     "name": "stdout",
     "output_type": "stream",
     "text": [
      "[1] 382\n"
     ]
    },
    {
     "name": "stderr",
     "output_type": "stream",
     "text": [
      "number of non prodcutive CDR3s:\n",
      "\n"
     ]
    },
    {
     "name": "stdout",
     "output_type": "stream",
     "text": [
      "[1] 171\n"
     ]
    },
    {
     "name": "stderr",
     "output_type": "stream",
     "text": [
      "nonproductive aaCDR3 removed\n",
      "\n",
      "number of clones in file:batch11_23Apr2020/mixcr/clones/CLONES_TRACHP_387-02_PBMC_DNA.txt\n",
      "\n"
     ]
    },
    {
     "name": "stdout",
     "output_type": "stream",
     "text": [
      "[1] 2480\n"
     ]
    },
    {
     "name": "stderr",
     "output_type": "stream",
     "text": [
      "number of non prodcutive CDR3s:\n",
      "\n"
     ]
    },
    {
     "name": "stdout",
     "output_type": "stream",
     "text": [
      "[1] 1288\n"
     ]
    },
    {
     "name": "stderr",
     "output_type": "stream",
     "text": [
      "nonproductive aaCDR3 removed\n",
      "\n",
      "number of clones in file:batch11_23Apr2020/mixcr/clones/CLONES_TRACHP_387-03_PBMC_DNA.txt\n",
      "\n"
     ]
    },
    {
     "name": "stdout",
     "output_type": "stream",
     "text": [
      "[1] 168\n"
     ]
    },
    {
     "name": "stderr",
     "output_type": "stream",
     "text": [
      "number of non prodcutive CDR3s:\n",
      "\n"
     ]
    },
    {
     "name": "stdout",
     "output_type": "stream",
     "text": [
      "[1] 81\n"
     ]
    },
    {
     "name": "stderr",
     "output_type": "stream",
     "text": [
      "nonproductive aaCDR3 removed\n",
      "\n",
      "number of clones in file:batch11_23Apr2020/mixcr/clones/CLONES_TRACHP_388-04_PBMC_DNA.txt\n",
      "\n"
     ]
    },
    {
     "name": "stdout",
     "output_type": "stream",
     "text": [
      "[1] 318\n"
     ]
    },
    {
     "name": "stderr",
     "output_type": "stream",
     "text": [
      "number of non prodcutive CDR3s:\n",
      "\n"
     ]
    },
    {
     "name": "stdout",
     "output_type": "stream",
     "text": [
      "[1] 146\n"
     ]
    },
    {
     "name": "stderr",
     "output_type": "stream",
     "text": [
      "nonproductive aaCDR3 removed\n",
      "\n",
      "number of clones in file:batch11_23Apr2020/mixcr/clones/CLONES_TRACHP_391-02_PBMC_DNA.txt\n",
      "\n"
     ]
    },
    {
     "name": "stdout",
     "output_type": "stream",
     "text": [
      "[1] 2545\n"
     ]
    },
    {
     "name": "stderr",
     "output_type": "stream",
     "text": [
      "number of non prodcutive CDR3s:\n",
      "\n"
     ]
    },
    {
     "name": "stdout",
     "output_type": "stream",
     "text": [
      "[1] 1422\n"
     ]
    },
    {
     "name": "stderr",
     "output_type": "stream",
     "text": [
      "nonproductive aaCDR3 removed\n",
      "\n",
      "number of clones in file:batch11_23Apr2020/mixcr/clones/CLONES_TRACHP_391-03_PBMC_DNA.txt\n",
      "\n"
     ]
    },
    {
     "name": "stdout",
     "output_type": "stream",
     "text": [
      "[1] 2065\n"
     ]
    },
    {
     "name": "stderr",
     "output_type": "stream",
     "text": [
      "number of non prodcutive CDR3s:\n",
      "\n"
     ]
    },
    {
     "name": "stdout",
     "output_type": "stream",
     "text": [
      "[1] 938\n"
     ]
    },
    {
     "name": "stderr",
     "output_type": "stream",
     "text": [
      "nonproductive aaCDR3 removed\n",
      "\n",
      "number of clones in file:batch11_23Apr2020/mixcr/clones/CLONES_TRACHP_392-02_PBMC_DNA.txt\n",
      "\n"
     ]
    },
    {
     "name": "stdout",
     "output_type": "stream",
     "text": [
      "[1] 2179\n"
     ]
    },
    {
     "name": "stderr",
     "output_type": "stream",
     "text": [
      "number of non prodcutive CDR3s:\n",
      "\n"
     ]
    },
    {
     "name": "stdout",
     "output_type": "stream",
     "text": [
      "[1] 1116\n"
     ]
    },
    {
     "name": "stderr",
     "output_type": "stream",
     "text": [
      "nonproductive aaCDR3 removed\n",
      "\n",
      "number of clones in file:batch11_23Apr2020/mixcr/clones/CLONES_TRACHP_396-03_PBMC_DNA.txt\n",
      "\n"
     ]
    },
    {
     "name": "stdout",
     "output_type": "stream",
     "text": [
      "[1] 1548\n"
     ]
    },
    {
     "name": "stderr",
     "output_type": "stream",
     "text": [
      "number of non prodcutive CDR3s:\n",
      "\n"
     ]
    },
    {
     "name": "stdout",
     "output_type": "stream",
     "text": [
      "[1] 699\n"
     ]
    },
    {
     "name": "stderr",
     "output_type": "stream",
     "text": [
      "nonproductive aaCDR3 removed\n",
      "\n",
      "number of clones in file:batch11_23Apr2020/mixcr/clones/CLONES_TRACHP_397-02_PBMC_DNA.txt\n",
      "\n"
     ]
    },
    {
     "name": "stdout",
     "output_type": "stream",
     "text": [
      "[1] 2478\n"
     ]
    },
    {
     "name": "stderr",
     "output_type": "stream",
     "text": [
      "number of non prodcutive CDR3s:\n",
      "\n"
     ]
    },
    {
     "name": "stdout",
     "output_type": "stream",
     "text": [
      "[1] 1357\n"
     ]
    },
    {
     "name": "stderr",
     "output_type": "stream",
     "text": [
      "nonproductive aaCDR3 removed\n",
      "\n",
      "number of clones in file:batch11_23Apr2020/mixcr/clones/CLONES_TRACHP_399-03__PBMC_DNA.txt\n",
      "\n"
     ]
    },
    {
     "name": "stdout",
     "output_type": "stream",
     "text": [
      "[1] 1312\n"
     ]
    },
    {
     "name": "stderr",
     "output_type": "stream",
     "text": [
      "number of non prodcutive CDR3s:\n",
      "\n"
     ]
    },
    {
     "name": "stdout",
     "output_type": "stream",
     "text": [
      "[1] 560\n"
     ]
    },
    {
     "name": "stderr",
     "output_type": "stream",
     "text": [
      "nonproductive aaCDR3 removed\n",
      "\n",
      "number of clones in file:batch11_23Apr2020/mixcr/clones/CLONES_TRACHP_400-03_PBMC_DNA.txt\n",
      "\n"
     ]
    },
    {
     "name": "stdout",
     "output_type": "stream",
     "text": [
      "[1] 204\n"
     ]
    },
    {
     "name": "stderr",
     "output_type": "stream",
     "text": [
      "number of non prodcutive CDR3s:\n",
      "\n"
     ]
    },
    {
     "name": "stdout",
     "output_type": "stream",
     "text": [
      "[1] 91\n"
     ]
    },
    {
     "name": "stderr",
     "output_type": "stream",
     "text": [
      "nonproductive aaCDR3 removed\n",
      "\n",
      "number of clones in file:batch11_23Apr2020/mixcr/clones/CLONES_TRACHP_401-03_PBMC_DNA.txt\n",
      "\n"
     ]
    },
    {
     "name": "stdout",
     "output_type": "stream",
     "text": [
      "[1] 303\n"
     ]
    },
    {
     "name": "stderr",
     "output_type": "stream",
     "text": [
      "number of non prodcutive CDR3s:\n",
      "\n"
     ]
    },
    {
     "name": "stdout",
     "output_type": "stream",
     "text": [
      "[1] 140\n"
     ]
    },
    {
     "name": "stderr",
     "output_type": "stream",
     "text": [
      "nonproductive aaCDR3 removed\n",
      "\n",
      "number of clones in file:batch11_23Apr2020/mixcr/clones/CLONES_TRACHP_402-02_PBMC_DNA.txt\n",
      "\n"
     ]
    },
    {
     "name": "stdout",
     "output_type": "stream",
     "text": [
      "[1] 977\n"
     ]
    },
    {
     "name": "stderr",
     "output_type": "stream",
     "text": [
      "number of non prodcutive CDR3s:\n",
      "\n"
     ]
    },
    {
     "name": "stdout",
     "output_type": "stream",
     "text": [
      "[1] 549\n"
     ]
    },
    {
     "name": "stderr",
     "output_type": "stream",
     "text": [
      "nonproductive aaCDR3 removed\n",
      "\n",
      "number of clones in file:batch11_23Apr2020/mixcr/clones/CLONES_TRACHP_403-02_PBMC_DNA.txt\n",
      "\n"
     ]
    },
    {
     "name": "stdout",
     "output_type": "stream",
     "text": [
      "[1] 721\n"
     ]
    },
    {
     "name": "stderr",
     "output_type": "stream",
     "text": [
      "number of non prodcutive CDR3s:\n",
      "\n"
     ]
    },
    {
     "name": "stdout",
     "output_type": "stream",
     "text": [
      "[1] 321\n"
     ]
    },
    {
     "name": "stderr",
     "output_type": "stream",
     "text": [
      "nonproductive aaCDR3 removed\n",
      "\n",
      "number of clones in file:batch11_23Apr2020/mixcr/clones/CLONES_TRACHP_404-01_PBMC_DNA.txt\n",
      "\n"
     ]
    },
    {
     "name": "stdout",
     "output_type": "stream",
     "text": [
      "[1] 1731\n"
     ]
    },
    {
     "name": "stderr",
     "output_type": "stream",
     "text": [
      "number of non prodcutive CDR3s:\n",
      "\n"
     ]
    },
    {
     "name": "stdout",
     "output_type": "stream",
     "text": [
      "[1] 974\n"
     ]
    },
    {
     "name": "stderr",
     "output_type": "stream",
     "text": [
      "nonproductive aaCDR3 removed\n",
      "\n",
      "number of clones in file:batch11_23Apr2020/mixcr/clones/CLONES_TRACHP_404-02_PBMC_DNA.txt\n",
      "\n"
     ]
    },
    {
     "name": "stdout",
     "output_type": "stream",
     "text": [
      "[1] 393\n"
     ]
    },
    {
     "name": "stderr",
     "output_type": "stream",
     "text": [
      "number of non prodcutive CDR3s:\n",
      "\n"
     ]
    },
    {
     "name": "stdout",
     "output_type": "stream",
     "text": [
      "[1] 200\n"
     ]
    },
    {
     "name": "stderr",
     "output_type": "stream",
     "text": [
      "nonproductive aaCDR3 removed\n",
      "\n",
      "number of clones in file:batch11_23Apr2020/mixcr/clones/CLONES_TRACHP_405-01_PBMC_DNA.txt\n",
      "\n"
     ]
    },
    {
     "name": "stdout",
     "output_type": "stream",
     "text": [
      "[1] 285\n"
     ]
    },
    {
     "name": "stderr",
     "output_type": "stream",
     "text": [
      "number of non prodcutive CDR3s:\n",
      "\n"
     ]
    },
    {
     "name": "stdout",
     "output_type": "stream",
     "text": [
      "[1] 163\n"
     ]
    },
    {
     "name": "stderr",
     "output_type": "stream",
     "text": [
      "nonproductive aaCDR3 removed\n",
      "\n",
      "number of clones in file:batch11_23Apr2020/mixcr/clones/CLONES_TRACHP_405-02_PBMC_DNA.txt\n",
      "\n"
     ]
    },
    {
     "name": "stdout",
     "output_type": "stream",
     "text": [
      "[1] 2208\n"
     ]
    },
    {
     "name": "stderr",
     "output_type": "stream",
     "text": [
      "number of non prodcutive CDR3s:\n",
      "\n"
     ]
    },
    {
     "name": "stdout",
     "output_type": "stream",
     "text": [
      "[1] 1341\n"
     ]
    },
    {
     "name": "stderr",
     "output_type": "stream",
     "text": [
      "nonproductive aaCDR3 removed\n",
      "\n",
      "number of clones in file:batch11_23Apr2020/mixcr/clones/CLONES_TRACHP_407-02_PBMC_DNA.txt\n",
      "\n"
     ]
    },
    {
     "name": "stdout",
     "output_type": "stream",
     "text": [
      "[1] 248\n"
     ]
    },
    {
     "name": "stderr",
     "output_type": "stream",
     "text": [
      "number of non prodcutive CDR3s:\n",
      "\n"
     ]
    },
    {
     "name": "stdout",
     "output_type": "stream",
     "text": [
      "[1] 130\n"
     ]
    },
    {
     "name": "stderr",
     "output_type": "stream",
     "text": [
      "nonproductive aaCDR3 removed\n",
      "\n",
      "number of clones in file:batch11_23Apr2020/mixcr/clones/CLONES_TRACHP_409-01_PBMC_DNA.txt\n",
      "\n"
     ]
    },
    {
     "name": "stdout",
     "output_type": "stream",
     "text": [
      "[1] 473\n"
     ]
    },
    {
     "name": "stderr",
     "output_type": "stream",
     "text": [
      "number of non prodcutive CDR3s:\n",
      "\n"
     ]
    },
    {
     "name": "stdout",
     "output_type": "stream",
     "text": [
      "[1] 247\n"
     ]
    },
    {
     "name": "stderr",
     "output_type": "stream",
     "text": [
      "nonproductive aaCDR3 removed\n",
      "\n",
      "number of clones in file:batch11_cfDNA_11Sep2020/mixcr/clones/CLONES_TRACHP_373-05_cfDNA.txt\n",
      "\n"
     ]
    },
    {
     "name": "stdout",
     "output_type": "stream",
     "text": [
      "[1] 29\n"
     ]
    },
    {
     "name": "stderr",
     "output_type": "stream",
     "text": [
      "number of non prodcutive CDR3s:\n",
      "\n"
     ]
    },
    {
     "name": "stdout",
     "output_type": "stream",
     "text": [
      "[1] 17\n"
     ]
    },
    {
     "name": "stderr",
     "output_type": "stream",
     "text": [
      "nonproductive aaCDR3 removed\n",
      "\n",
      "number of clones in file:batch11_cfDNA_11Sep2020/mixcr/clones/CLONES_TRACHP_375-04_cfDNA.txt\n",
      "\n"
     ]
    },
    {
     "name": "stdout",
     "output_type": "stream",
     "text": [
      "[1] 146\n"
     ]
    },
    {
     "name": "stderr",
     "output_type": "stream",
     "text": [
      "number of non prodcutive CDR3s:\n",
      "\n"
     ]
    },
    {
     "name": "stdout",
     "output_type": "stream",
     "text": [
      "[1] 63\n"
     ]
    },
    {
     "name": "stderr",
     "output_type": "stream",
     "text": [
      "nonproductive aaCDR3 removed\n",
      "\n",
      "number of clones in file:batch11_cfDNA_11Sep2020/mixcr/clones/CLONES_TRACHP_383-05_cfDNA.txt\n",
      "\n"
     ]
    },
    {
     "name": "stdout",
     "output_type": "stream",
     "text": [
      "[1] 38\n"
     ]
    },
    {
     "name": "stderr",
     "output_type": "stream",
     "text": [
      "number of non prodcutive CDR3s:\n",
      "\n"
     ]
    },
    {
     "name": "stdout",
     "output_type": "stream",
     "text": [
      "[1] 11\n"
     ]
    },
    {
     "name": "stderr",
     "output_type": "stream",
     "text": [
      "nonproductive aaCDR3 removed\n",
      "\n",
      "number of clones in file:batch11_cfDNA_11Sep2020/mixcr/clones/CLONES_TRACHP_386-02_cfDNA.txt\n",
      "\n"
     ]
    },
    {
     "name": "stdout",
     "output_type": "stream",
     "text": [
      "[1] 22\n"
     ]
    },
    {
     "name": "stderr",
     "output_type": "stream",
     "text": [
      "number of non prodcutive CDR3s:\n",
      "\n"
     ]
    },
    {
     "name": "stdout",
     "output_type": "stream",
     "text": [
      "[1] 8\n"
     ]
    },
    {
     "name": "stderr",
     "output_type": "stream",
     "text": [
      "nonproductive aaCDR3 removed\n",
      "\n",
      "number of clones in file:batch11_cfDNA_11Sep2020/mixcr/clones/CLONES_TRACHP_387-03_cfDNA.txt\n",
      "\n"
     ]
    },
    {
     "name": "stdout",
     "output_type": "stream",
     "text": [
      "[1] 29\n"
     ]
    },
    {
     "name": "stderr",
     "output_type": "stream",
     "text": [
      "number of non prodcutive CDR3s:\n",
      "\n"
     ]
    },
    {
     "name": "stdout",
     "output_type": "stream",
     "text": [
      "[1] 15\n"
     ]
    },
    {
     "name": "stderr",
     "output_type": "stream",
     "text": [
      "nonproductive aaCDR3 removed\n",
      "\n",
      "number of clones in file:batch11_cfDNA_11Sep2020/mixcr/clones/CLONES_TRACHP_388-04_cfDNA.txt\n",
      "\n"
     ]
    },
    {
     "name": "stdout",
     "output_type": "stream",
     "text": [
      "[1] 28\n"
     ]
    },
    {
     "name": "stderr",
     "output_type": "stream",
     "text": [
      "number of non prodcutive CDR3s:\n",
      "\n"
     ]
    },
    {
     "name": "stdout",
     "output_type": "stream",
     "text": [
      "[1] 12\n"
     ]
    },
    {
     "name": "stderr",
     "output_type": "stream",
     "text": [
      "nonproductive aaCDR3 removed\n",
      "\n",
      "number of clones in file:batch11_cfDNA_11Sep2020/mixcr/clones/CLONES_TRACHP_389-02_cfDNA.txt\n",
      "\n"
     ]
    },
    {
     "name": "stdout",
     "output_type": "stream",
     "text": [
      "[1] 50\n"
     ]
    },
    {
     "name": "stderr",
     "output_type": "stream",
     "text": [
      "number of non prodcutive CDR3s:\n",
      "\n"
     ]
    },
    {
     "name": "stdout",
     "output_type": "stream",
     "text": [
      "[1] 26\n"
     ]
    },
    {
     "name": "stderr",
     "output_type": "stream",
     "text": [
      "nonproductive aaCDR3 removed\n",
      "\n",
      "number of clones in file:batch11_cfDNA_11Sep2020/mixcr/clones/CLONES_TRACHP_390-04_cfDNA.txt\n",
      "\n"
     ]
    },
    {
     "name": "stdout",
     "output_type": "stream",
     "text": [
      "[1] 62\n"
     ]
    },
    {
     "name": "stderr",
     "output_type": "stream",
     "text": [
      "number of non prodcutive CDR3s:\n",
      "\n"
     ]
    },
    {
     "name": "stdout",
     "output_type": "stream",
     "text": [
      "[1] 25\n"
     ]
    },
    {
     "name": "stderr",
     "output_type": "stream",
     "text": [
      "nonproductive aaCDR3 removed\n",
      "\n",
      "number of clones in file:batch11_cfDNA_11Sep2020/mixcr/clones/CLONES_TRACHP_394-05_cfDNA.txt\n",
      "\n"
     ]
    },
    {
     "name": "stdout",
     "output_type": "stream",
     "text": [
      "[1] 53\n"
     ]
    },
    {
     "name": "stderr",
     "output_type": "stream",
     "text": [
      "number of non prodcutive CDR3s:\n",
      "\n"
     ]
    },
    {
     "name": "stdout",
     "output_type": "stream",
     "text": [
      "[1] 18\n"
     ]
    },
    {
     "name": "stderr",
     "output_type": "stream",
     "text": [
      "nonproductive aaCDR3 removed\n",
      "\n",
      "number of clones in file:batch11_cfDNA_11Sep2020/mixcr/clones/CLONES_TRACHP_396-02_cfDNA.txt\n",
      "\n"
     ]
    },
    {
     "name": "stdout",
     "output_type": "stream",
     "text": [
      "[1] 139\n"
     ]
    },
    {
     "name": "stderr",
     "output_type": "stream",
     "text": [
      "number of non prodcutive CDR3s:\n",
      "\n"
     ]
    },
    {
     "name": "stdout",
     "output_type": "stream",
     "text": [
      "[1] 72\n"
     ]
    },
    {
     "name": "stderr",
     "output_type": "stream",
     "text": [
      "nonproductive aaCDR3 removed\n",
      "\n",
      "number of clones in file:batch11_cfDNA_11Sep2020/mixcr/clones/CLONES_TRACHP_397-03_cfDNA.txt\n",
      "\n"
     ]
    },
    {
     "name": "stdout",
     "output_type": "stream",
     "text": [
      "[1] 44\n"
     ]
    },
    {
     "name": "stderr",
     "output_type": "stream",
     "text": [
      "number of non prodcutive CDR3s:\n",
      "\n"
     ]
    },
    {
     "name": "stdout",
     "output_type": "stream",
     "text": [
      "[1] 21\n"
     ]
    },
    {
     "name": "stderr",
     "output_type": "stream",
     "text": [
      "nonproductive aaCDR3 removed\n",
      "\n",
      "number of clones in file:batch11_cfDNA_11Sep2020/mixcr/clones/CLONES_TRACHP_398-02_cfDNA.txt\n",
      "\n"
     ]
    },
    {
     "name": "stdout",
     "output_type": "stream",
     "text": [
      "[1] 15\n"
     ]
    },
    {
     "name": "stderr",
     "output_type": "stream",
     "text": [
      "number of non prodcutive CDR3s:\n",
      "\n"
     ]
    },
    {
     "name": "stdout",
     "output_type": "stream",
     "text": [
      "[1] 6\n"
     ]
    },
    {
     "name": "stderr",
     "output_type": "stream",
     "text": [
      "nonproductive aaCDR3 removed\n",
      "\n",
      "number of clones in file:batch11_cfDNA_11Sep2020/mixcr/clones/CLONES_TRACHP_400-04_cfDNA.txt\n",
      "\n"
     ]
    },
    {
     "name": "stdout",
     "output_type": "stream",
     "text": [
      "[1] 29\n"
     ]
    },
    {
     "name": "stderr",
     "output_type": "stream",
     "text": [
      "number of non prodcutive CDR3s:\n",
      "\n"
     ]
    },
    {
     "name": "stdout",
     "output_type": "stream",
     "text": [
      "[1] 17\n"
     ]
    },
    {
     "name": "stderr",
     "output_type": "stream",
     "text": [
      "nonproductive aaCDR3 removed\n",
      "\n",
      "number of clones in file:batch11_cfDNA_11Sep2020/mixcr/clones/CLONES_TRACHP_401-02_cfDNA.txt\n",
      "\n"
     ]
    },
    {
     "name": "stdout",
     "output_type": "stream",
     "text": [
      "[1] 11\n"
     ]
    },
    {
     "name": "stderr",
     "output_type": "stream",
     "text": [
      "number of non prodcutive CDR3s:\n",
      "\n"
     ]
    },
    {
     "name": "stdout",
     "output_type": "stream",
     "text": [
      "[1] 3\n"
     ]
    },
    {
     "name": "stderr",
     "output_type": "stream",
     "text": [
      "nonproductive aaCDR3 removed\n",
      "\n",
      "number of clones in file:batch11_cfDNA_11Sep2020/mixcr/clones/CLONES_TRACHP_401-05_cfDNA.txt\n",
      "\n"
     ]
    },
    {
     "name": "stdout",
     "output_type": "stream",
     "text": [
      "[1] 19\n"
     ]
    },
    {
     "name": "stderr",
     "output_type": "stream",
     "text": [
      "number of non prodcutive CDR3s:\n",
      "\n"
     ]
    },
    {
     "name": "stdout",
     "output_type": "stream",
     "text": [
      "[1] 6\n"
     ]
    },
    {
     "name": "stderr",
     "output_type": "stream",
     "text": [
      "nonproductive aaCDR3 removed\n",
      "\n",
      "number of clones in file:batch11_cfDNA_11Sep2020/mixcr/clones/CLONES_TRACHP_402-03_cfDNA.txt\n",
      "\n"
     ]
    },
    {
     "name": "stdout",
     "output_type": "stream",
     "text": [
      "[1] 22\n"
     ]
    },
    {
     "name": "stderr",
     "output_type": "stream",
     "text": [
      "number of non prodcutive CDR3s:\n",
      "\n"
     ]
    },
    {
     "name": "stdout",
     "output_type": "stream",
     "text": [
      "[1] 11\n"
     ]
    },
    {
     "name": "stderr",
     "output_type": "stream",
     "text": [
      "nonproductive aaCDR3 removed\n",
      "\n",
      "number of clones in file:batch11_cfDNA_11Sep2020/mixcr/clones/CLONES_TRACHP_404-03_cfDNA.txt\n",
      "\n"
     ]
    },
    {
     "name": "stdout",
     "output_type": "stream",
     "text": [
      "[1] 6\n"
     ]
    },
    {
     "name": "stderr",
     "output_type": "stream",
     "text": [
      "number of non prodcutive CDR3s:\n",
      "\n"
     ]
    },
    {
     "name": "stdout",
     "output_type": "stream",
     "text": [
      "[1] 3\n"
     ]
    },
    {
     "name": "stderr",
     "output_type": "stream",
     "text": [
      "nonproductive aaCDR3 removed\n",
      "\n",
      "number of clones in file:batch11_cfDNA_11Sep2020/mixcr/clones/CLONES_TRACHP_407-03_cfDNA.txt\n",
      "\n"
     ]
    },
    {
     "name": "stdout",
     "output_type": "stream",
     "text": [
      "[1] 12\n"
     ]
    },
    {
     "name": "stderr",
     "output_type": "stream",
     "text": [
      "number of non prodcutive CDR3s:\n",
      "\n"
     ]
    },
    {
     "name": "stdout",
     "output_type": "stream",
     "text": [
      "[1] 5\n"
     ]
    },
    {
     "name": "stderr",
     "output_type": "stream",
     "text": [
      "nonproductive aaCDR3 removed\n",
      "\n",
      "number of clones in file:batch11_cfDNA_11Sep2020/mixcr/clones/CLONES_TRACHP_408-01_cfDNA.txt\n",
      "\n"
     ]
    },
    {
     "name": "stdout",
     "output_type": "stream",
     "text": [
      "[1] 45\n"
     ]
    },
    {
     "name": "stderr",
     "output_type": "stream",
     "text": [
      "number of non prodcutive CDR3s:\n",
      "\n"
     ]
    },
    {
     "name": "stdout",
     "output_type": "stream",
     "text": [
      "[1] 21\n"
     ]
    },
    {
     "name": "stderr",
     "output_type": "stream",
     "text": [
      "nonproductive aaCDR3 removed\n",
      "\n",
      "number of clones in file:batch11_cfDNA_11Sep2020/mixcr/clones/CLONES_TRACHP_412-02_cfDNA.txt\n",
      "\n"
     ]
    },
    {
     "name": "stdout",
     "output_type": "stream",
     "text": [
      "[1] 11\n"
     ]
    },
    {
     "name": "stderr",
     "output_type": "stream",
     "text": [
      "number of non prodcutive CDR3s:\n",
      "\n"
     ]
    },
    {
     "name": "stdout",
     "output_type": "stream",
     "text": [
      "[1] 6\n"
     ]
    },
    {
     "name": "stderr",
     "output_type": "stream",
     "text": [
      "nonproductive aaCDR3 removed\n",
      "\n",
      "number of clones in file:batch11_cfDNA_11Sep2020/mixcr/clones/CLONES_TRACHP_412-03_cfDNA.txt\n",
      "\n"
     ]
    },
    {
     "name": "stdout",
     "output_type": "stream",
     "text": [
      "[1] 12\n"
     ]
    },
    {
     "name": "stderr",
     "output_type": "stream",
     "text": [
      "number of non prodcutive CDR3s:\n",
      "\n"
     ]
    },
    {
     "name": "stdout",
     "output_type": "stream",
     "text": [
      "[1] 7\n"
     ]
    },
    {
     "name": "stderr",
     "output_type": "stream",
     "text": [
      "nonproductive aaCDR3 removed\n",
      "\n",
      "number of clones in file:batch11_cfDNA_11Sep2020/mixcr/clones/CLONES_TRACHP_413-01_cfDNA.txt\n",
      "\n"
     ]
    },
    {
     "name": "stdout",
     "output_type": "stream",
     "text": [
      "[1] 13\n"
     ]
    },
    {
     "name": "stderr",
     "output_type": "stream",
     "text": [
      "number of non prodcutive CDR3s:\n",
      "\n"
     ]
    },
    {
     "name": "stdout",
     "output_type": "stream",
     "text": [
      "[1] 7\n"
     ]
    },
    {
     "name": "stderr",
     "output_type": "stream",
     "text": [
      "nonproductive aaCDR3 removed\n",
      "\n",
      "number of clones in file:batch11_cfDNA_11Sep2020/mixcr/clones/CLONES_TRACHP_415-01_cfDNA.txt\n",
      "\n"
     ]
    },
    {
     "name": "stdout",
     "output_type": "stream",
     "text": [
      "[1] 22\n"
     ]
    },
    {
     "name": "stderr",
     "output_type": "stream",
     "text": [
      "number of non prodcutive CDR3s:\n",
      "\n"
     ]
    },
    {
     "name": "stdout",
     "output_type": "stream",
     "text": [
      "[1] 11\n"
     ]
    },
    {
     "name": "stderr",
     "output_type": "stream",
     "text": [
      "nonproductive aaCDR3 removed\n",
      "\n",
      "number of clones in file:batch11_cfDNA_11Sep2020/mixcr/clones/CLONES_TRACHP_417-02_cfDNA.txt\n",
      "\n"
     ]
    },
    {
     "name": "stdout",
     "output_type": "stream",
     "text": [
      "[1] 11\n"
     ]
    },
    {
     "name": "stderr",
     "output_type": "stream",
     "text": [
      "number of non prodcutive CDR3s:\n",
      "\n"
     ]
    },
    {
     "name": "stdout",
     "output_type": "stream",
     "text": [
      "[1] 8\n"
     ]
    },
    {
     "name": "stderr",
     "output_type": "stream",
     "text": [
      "nonproductive aaCDR3 removed\n",
      "\n",
      "number of clones in file:batch12_30Apr2021/mixcr/clones/CLONES_TRACHP_383-05_PBMC-DNA.txt\n",
      "\n"
     ]
    },
    {
     "name": "stdout",
     "output_type": "stream",
     "text": [
      "[1] 183\n"
     ]
    },
    {
     "name": "stderr",
     "output_type": "stream",
     "text": [
      "number of non prodcutive CDR3s:\n",
      "\n"
     ]
    },
    {
     "name": "stdout",
     "output_type": "stream",
     "text": [
      "[1] 98\n"
     ]
    },
    {
     "name": "stderr",
     "output_type": "stream",
     "text": [
      "nonproductive aaCDR3 removed\n",
      "\n",
      "number of clones in file:batch12_30Apr2021/mixcr/clones/CLONES_TRACHP_388-05_PBMC-DNA.txt\n",
      "\n"
     ]
    },
    {
     "name": "stdout",
     "output_type": "stream",
     "text": [
      "[1] 320\n"
     ]
    },
    {
     "name": "stderr",
     "output_type": "stream",
     "text": [
      "number of non prodcutive CDR3s:\n",
      "\n"
     ]
    },
    {
     "name": "stdout",
     "output_type": "stream",
     "text": [
      "[1] 164\n"
     ]
    },
    {
     "name": "stderr",
     "output_type": "stream",
     "text": [
      "nonproductive aaCDR3 removed\n",
      "\n",
      "number of clones in file:batch12_30Apr2021/mixcr/clones/CLONES_TRACHP_390-05_PBMC-DNA.txt\n",
      "\n"
     ]
    },
    {
     "name": "stdout",
     "output_type": "stream",
     "text": [
      "[1] 713\n"
     ]
    },
    {
     "name": "stderr",
     "output_type": "stream",
     "text": [
      "number of non prodcutive CDR3s:\n",
      "\n"
     ]
    },
    {
     "name": "stdout",
     "output_type": "stream",
     "text": [
      "[1] 413\n"
     ]
    },
    {
     "name": "stderr",
     "output_type": "stream",
     "text": [
      "nonproductive aaCDR3 removed\n",
      "\n",
      "number of clones in file:batch12_30Apr2021/mixcr/clones/CLONES_TRACHP_393-04_PBMC-DNA.txt\n",
      "\n"
     ]
    },
    {
     "name": "stdout",
     "output_type": "stream",
     "text": [
      "[1] 160\n"
     ]
    },
    {
     "name": "stderr",
     "output_type": "stream",
     "text": [
      "number of non prodcutive CDR3s:\n",
      "\n"
     ]
    },
    {
     "name": "stdout",
     "output_type": "stream",
     "text": [
      "[1] 83\n"
     ]
    },
    {
     "name": "stderr",
     "output_type": "stream",
     "text": [
      "nonproductive aaCDR3 removed\n",
      "\n",
      "number of clones in file:batch12_30Apr2021/mixcr/clones/CLONES_TRACHP_398-04_PBMC-DNA.txt\n",
      "\n"
     ]
    },
    {
     "name": "stdout",
     "output_type": "stream",
     "text": [
      "[1] 262\n"
     ]
    },
    {
     "name": "stderr",
     "output_type": "stream",
     "text": [
      "number of non prodcutive CDR3s:\n",
      "\n"
     ]
    },
    {
     "name": "stdout",
     "output_type": "stream",
     "text": [
      "[1] 132\n"
     ]
    },
    {
     "name": "stderr",
     "output_type": "stream",
     "text": [
      "nonproductive aaCDR3 removed\n",
      "\n",
      "number of clones in file:batch12_30Apr2021/mixcr/clones/CLONES_TRACHP_400-04_PBMC-DNA.txt\n",
      "\n"
     ]
    },
    {
     "name": "stdout",
     "output_type": "stream",
     "text": [
      "[1] 42\n"
     ]
    },
    {
     "name": "stderr",
     "output_type": "stream",
     "text": [
      "number of non prodcutive CDR3s:\n",
      "\n"
     ]
    },
    {
     "name": "stdout",
     "output_type": "stream",
     "text": [
      "[1] 21\n"
     ]
    },
    {
     "name": "stderr",
     "output_type": "stream",
     "text": [
      "nonproductive aaCDR3 removed\n",
      "\n",
      "number of clones in file:batch12_30Apr2021/mixcr/clones/CLONES_TRACHP_400-05_PBMC-DNA.txt\n",
      "\n"
     ]
    },
    {
     "name": "stdout",
     "output_type": "stream",
     "text": [
      "[1] 90\n"
     ]
    },
    {
     "name": "stderr",
     "output_type": "stream",
     "text": [
      "number of non prodcutive CDR3s:\n",
      "\n"
     ]
    },
    {
     "name": "stdout",
     "output_type": "stream",
     "text": [
      "[1] 47\n"
     ]
    },
    {
     "name": "stderr",
     "output_type": "stream",
     "text": [
      "nonproductive aaCDR3 removed\n",
      "\n",
      "number of clones in file:batch12_30Apr2021/mixcr/clones/CLONES_TRACHP_405-03_PBMC-DNA.txt\n",
      "\n"
     ]
    },
    {
     "name": "stdout",
     "output_type": "stream",
     "text": [
      "[1] 750\n"
     ]
    },
    {
     "name": "stderr",
     "output_type": "stream",
     "text": [
      "number of non prodcutive CDR3s:\n",
      "\n"
     ]
    },
    {
     "name": "stdout",
     "output_type": "stream",
     "text": [
      "[1] 429\n"
     ]
    },
    {
     "name": "stderr",
     "output_type": "stream",
     "text": [
      "nonproductive aaCDR3 removed\n",
      "\n",
      "number of clones in file:batch12_30Apr2021/mixcr/clones/CLONES_TRACHP_407-03__PBMC-DN.txt\n",
      "\n"
     ]
    },
    {
     "name": "stdout",
     "output_type": "stream",
     "text": [
      "[1] 108\n"
     ]
    },
    {
     "name": "stderr",
     "output_type": "stream",
     "text": [
      "number of non prodcutive CDR3s:\n",
      "\n"
     ]
    },
    {
     "name": "stdout",
     "output_type": "stream",
     "text": [
      "[1] 43\n"
     ]
    },
    {
     "name": "stderr",
     "output_type": "stream",
     "text": [
      "nonproductive aaCDR3 removed\n",
      "\n",
      "number of clones in file:batch12_30Apr2021/mixcr/clones/CLONES_TRACHP_408-01_PBMC-DNA.txt\n",
      "\n"
     ]
    },
    {
     "name": "stdout",
     "output_type": "stream",
     "text": [
      "[1] 149\n"
     ]
    },
    {
     "name": "stderr",
     "output_type": "stream",
     "text": [
      "number of non prodcutive CDR3s:\n",
      "\n"
     ]
    },
    {
     "name": "stdout",
     "output_type": "stream",
     "text": [
      "[1] 84\n"
     ]
    },
    {
     "name": "stderr",
     "output_type": "stream",
     "text": [
      "nonproductive aaCDR3 removed\n",
      "\n",
      "number of clones in file:batch12_30Apr2021/mixcr/clones/CLONES_TRACHP_408-02_PBMC-DNA.txt\n",
      "\n"
     ]
    },
    {
     "name": "stdout",
     "output_type": "stream",
     "text": [
      "[1] 499\n"
     ]
    },
    {
     "name": "stderr",
     "output_type": "stream",
     "text": [
      "number of non prodcutive CDR3s:\n",
      "\n"
     ]
    },
    {
     "name": "stdout",
     "output_type": "stream",
     "text": [
      "[1] 263\n"
     ]
    },
    {
     "name": "stderr",
     "output_type": "stream",
     "text": [
      "nonproductive aaCDR3 removed\n",
      "\n",
      "number of clones in file:batch12_30Apr2021/mixcr/clones/CLONES_TRACHP_409-02_PBMC-DNA.txt\n",
      "\n"
     ]
    },
    {
     "name": "stdout",
     "output_type": "stream",
     "text": [
      "[1] 100\n"
     ]
    },
    {
     "name": "stderr",
     "output_type": "stream",
     "text": [
      "number of non prodcutive CDR3s:\n",
      "\n"
     ]
    },
    {
     "name": "stdout",
     "output_type": "stream",
     "text": [
      "[1] 52\n"
     ]
    },
    {
     "name": "stderr",
     "output_type": "stream",
     "text": [
      "nonproductive aaCDR3 removed\n",
      "\n",
      "number of clones in file:batch12_30Apr2021/mixcr/clones/CLONES_TRACHP_409-03_PBMC-DNA.txt\n",
      "\n"
     ]
    },
    {
     "name": "stdout",
     "output_type": "stream",
     "text": [
      "[1] 35\n"
     ]
    },
    {
     "name": "stderr",
     "output_type": "stream",
     "text": [
      "number of non prodcutive CDR3s:\n",
      "\n"
     ]
    },
    {
     "name": "stdout",
     "output_type": "stream",
     "text": [
      "[1] 13\n"
     ]
    },
    {
     "name": "stderr",
     "output_type": "stream",
     "text": [
      "nonproductive aaCDR3 removed\n",
      "\n",
      "number of clones in file:batch12_30Apr2021/mixcr/clones/CLONES_TRACHP_410-01_PBMC-DNA.txt\n",
      "\n"
     ]
    },
    {
     "name": "stdout",
     "output_type": "stream",
     "text": [
      "[1] 860\n"
     ]
    },
    {
     "name": "stderr",
     "output_type": "stream",
     "text": [
      "number of non prodcutive CDR3s:\n",
      "\n"
     ]
    },
    {
     "name": "stdout",
     "output_type": "stream",
     "text": [
      "[1] 470\n"
     ]
    },
    {
     "name": "stderr",
     "output_type": "stream",
     "text": [
      "nonproductive aaCDR3 removed\n",
      "\n",
      "number of clones in file:batch12_30Apr2021/mixcr/clones/CLONES_TRACHP_410-02_PBMC-DNA.txt\n",
      "\n"
     ]
    },
    {
     "name": "stdout",
     "output_type": "stream",
     "text": [
      "[1] 331\n"
     ]
    },
    {
     "name": "stderr",
     "output_type": "stream",
     "text": [
      "number of non prodcutive CDR3s:\n",
      "\n"
     ]
    },
    {
     "name": "stdout",
     "output_type": "stream",
     "text": [
      "[1] 174\n"
     ]
    },
    {
     "name": "stderr",
     "output_type": "stream",
     "text": [
      "nonproductive aaCDR3 removed\n",
      "\n",
      "number of clones in file:batch12_30Apr2021/mixcr/clones/CLONES_TRACHP_412-01_PBMC-DNA.txt\n",
      "\n"
     ]
    },
    {
     "name": "stdout",
     "output_type": "stream",
     "text": [
      "[1] 145\n"
     ]
    },
    {
     "name": "stderr",
     "output_type": "stream",
     "text": [
      "number of non prodcutive CDR3s:\n",
      "\n"
     ]
    },
    {
     "name": "stdout",
     "output_type": "stream",
     "text": [
      "[1] 66\n"
     ]
    },
    {
     "name": "stderr",
     "output_type": "stream",
     "text": [
      "nonproductive aaCDR3 removed\n",
      "\n",
      "number of clones in file:batch12_30Apr2021/mixcr/clones/CLONES_TRACHP_413-01_PBMC-DNA.txt\n",
      "\n"
     ]
    },
    {
     "name": "stdout",
     "output_type": "stream",
     "text": [
      "[1] 115\n"
     ]
    },
    {
     "name": "stderr",
     "output_type": "stream",
     "text": [
      "number of non prodcutive CDR3s:\n",
      "\n"
     ]
    },
    {
     "name": "stdout",
     "output_type": "stream",
     "text": [
      "[1] 53\n"
     ]
    },
    {
     "name": "stderr",
     "output_type": "stream",
     "text": [
      "nonproductive aaCDR3 removed\n",
      "\n",
      "number of clones in file:batch12_30Apr2021/mixcr/clones/CLONES_TRACHP_417-01_PBMC-DNA.txt\n",
      "\n"
     ]
    },
    {
     "name": "stdout",
     "output_type": "stream",
     "text": [
      "[1] 574\n"
     ]
    },
    {
     "name": "stderr",
     "output_type": "stream",
     "text": [
      "number of non prodcutive CDR3s:\n",
      "\n"
     ]
    },
    {
     "name": "stdout",
     "output_type": "stream",
     "text": [
      "[1] 323\n"
     ]
    },
    {
     "name": "stderr",
     "output_type": "stream",
     "text": [
      "nonproductive aaCDR3 removed\n",
      "\n",
      "number of clones in file:batch13_26Aug2020/mixcr/clones/CLONES_TRACHP_382-05-PBMC-DNA.txt\n",
      "\n"
     ]
    },
    {
     "name": "stdout",
     "output_type": "stream",
     "text": [
      "[1] 2038\n"
     ]
    },
    {
     "name": "stderr",
     "output_type": "stream",
     "text": [
      "number of non prodcutive CDR3s:\n",
      "\n"
     ]
    },
    {
     "name": "stdout",
     "output_type": "stream",
     "text": [
      "[1] 930\n"
     ]
    },
    {
     "name": "stderr",
     "output_type": "stream",
     "text": [
      "nonproductive aaCDR3 removed\n",
      "\n",
      "number of clones in file:batch13_26Aug2020/mixcr/clones/CLONES_TRACHP_392-04-PBMC-DNA.txt\n",
      "\n"
     ]
    },
    {
     "name": "stdout",
     "output_type": "stream",
     "text": [
      "[1] 508\n"
     ]
    },
    {
     "name": "stderr",
     "output_type": "stream",
     "text": [
      "number of non prodcutive CDR3s:\n",
      "\n"
     ]
    },
    {
     "name": "stdout",
     "output_type": "stream",
     "text": [
      "[1] 259\n"
     ]
    },
    {
     "name": "stderr",
     "output_type": "stream",
     "text": [
      "nonproductive aaCDR3 removed\n",
      "\n",
      "number of clones in file:batch13_26Aug2020/mixcr/clones/CLONES_TRACHP_393-05-PBMC-DNA.txt\n",
      "\n"
     ]
    },
    {
     "name": "stdout",
     "output_type": "stream",
     "text": [
      "[1] 3078\n"
     ]
    },
    {
     "name": "stderr",
     "output_type": "stream",
     "text": [
      "number of non prodcutive CDR3s:\n",
      "\n"
     ]
    },
    {
     "name": "stdout",
     "output_type": "stream",
     "text": [
      "[1] 1756\n"
     ]
    },
    {
     "name": "stderr",
     "output_type": "stream",
     "text": [
      "nonproductive aaCDR3 removed\n",
      "\n",
      "number of clones in file:batch13_26Aug2020/mixcr/clones/CLONES_TRACHP_396-04-PBMC-DNA.txt\n",
      "\n"
     ]
    },
    {
     "name": "stdout",
     "output_type": "stream",
     "text": [
      "[1] 3867\n"
     ]
    },
    {
     "name": "stderr",
     "output_type": "stream",
     "text": [
      "number of non prodcutive CDR3s:\n",
      "\n"
     ]
    },
    {
     "name": "stdout",
     "output_type": "stream",
     "text": [
      "[1] 1814\n"
     ]
    },
    {
     "name": "stderr",
     "output_type": "stream",
     "text": [
      "nonproductive aaCDR3 removed\n",
      "\n",
      "number of clones in file:batch13_26Aug2020/mixcr/clones/CLONES_TRACHP_397-05-PBMC-DNA.txt\n",
      "\n"
     ]
    },
    {
     "name": "stdout",
     "output_type": "stream",
     "text": [
      "[1] 2634\n"
     ]
    },
    {
     "name": "stderr",
     "output_type": "stream",
     "text": [
      "number of non prodcutive CDR3s:\n",
      "\n"
     ]
    },
    {
     "name": "stdout",
     "output_type": "stream",
     "text": [
      "[1] 1402\n"
     ]
    },
    {
     "name": "stderr",
     "output_type": "stream",
     "text": [
      "nonproductive aaCDR3 removed\n",
      "\n",
      "number of clones in file:batch13_26Aug2020/mixcr/clones/CLONES_TRACHP_399-04-PBMC-DNA.txt\n",
      "\n"
     ]
    },
    {
     "name": "stdout",
     "output_type": "stream",
     "text": [
      "[1] 1008\n"
     ]
    },
    {
     "name": "stderr",
     "output_type": "stream",
     "text": [
      "number of non prodcutive CDR3s:\n",
      "\n"
     ]
    },
    {
     "name": "stdout",
     "output_type": "stream",
     "text": [
      "[1] 407\n"
     ]
    },
    {
     "name": "stderr",
     "output_type": "stream",
     "text": [
      "nonproductive aaCDR3 removed\n",
      "\n",
      "number of clones in file:batch13_26Aug2020/mixcr/clones/CLONES_TRACHP_401-04-PBMC-DNA.txt\n",
      "\n"
     ]
    },
    {
     "name": "stdout",
     "output_type": "stream",
     "text": [
      "[1] 282\n"
     ]
    },
    {
     "name": "stderr",
     "output_type": "stream",
     "text": [
      "number of non prodcutive CDR3s:\n",
      "\n"
     ]
    },
    {
     "name": "stdout",
     "output_type": "stream",
     "text": [
      "[1] 149\n"
     ]
    },
    {
     "name": "stderr",
     "output_type": "stream",
     "text": [
      "nonproductive aaCDR3 removed\n",
      "\n",
      "number of clones in file:batch13_26Aug2020/mixcr/clones/CLONES_TRACHP_401-05-PBMC-DNA.txt\n",
      "\n"
     ]
    },
    {
     "name": "stdout",
     "output_type": "stream",
     "text": [
      "[1] 673\n"
     ]
    },
    {
     "name": "stderr",
     "output_type": "stream",
     "text": [
      "number of non prodcutive CDR3s:\n",
      "\n"
     ]
    },
    {
     "name": "stdout",
     "output_type": "stream",
     "text": [
      "[1] 302\n"
     ]
    },
    {
     "name": "stderr",
     "output_type": "stream",
     "text": [
      "nonproductive aaCDR3 removed\n",
      "\n",
      "number of clones in file:batch13_26Aug2020/mixcr/clones/CLONES_TRACHP_402-03-PBMC-DNA.txt\n",
      "\n"
     ]
    },
    {
     "name": "stdout",
     "output_type": "stream",
     "text": [
      "[1] 828\n"
     ]
    },
    {
     "name": "stderr",
     "output_type": "stream",
     "text": [
      "number of non prodcutive CDR3s:\n",
      "\n"
     ]
    },
    {
     "name": "stdout",
     "output_type": "stream",
     "text": [
      "[1] 364\n"
     ]
    },
    {
     "name": "stderr",
     "output_type": "stream",
     "text": [
      "nonproductive aaCDR3 removed\n",
      "\n",
      "number of clones in file:batch13_26Aug2020/mixcr/clones/CLONES_TRACHP_404-04-PBMC-DNA.txt\n",
      "\n"
     ]
    },
    {
     "name": "stdout",
     "output_type": "stream",
     "text": [
      "[1] 242\n"
     ]
    },
    {
     "name": "stderr",
     "output_type": "stream",
     "text": [
      "number of non prodcutive CDR3s:\n",
      "\n"
     ]
    },
    {
     "name": "stdout",
     "output_type": "stream",
     "text": [
      "[1] 118\n"
     ]
    },
    {
     "name": "stderr",
     "output_type": "stream",
     "text": [
      "nonproductive aaCDR3 removed\n",
      "\n",
      "number of clones in file:batch13_26Aug2020/mixcr/clones/CLONES_TRACHP_404-05-PBMC-DNA.txt\n",
      "\n"
     ]
    },
    {
     "name": "stdout",
     "output_type": "stream",
     "text": [
      "[1] 3264\n"
     ]
    },
    {
     "name": "stderr",
     "output_type": "stream",
     "text": [
      "number of non prodcutive CDR3s:\n",
      "\n"
     ]
    },
    {
     "name": "stdout",
     "output_type": "stream",
     "text": [
      "[1] 1647\n"
     ]
    },
    {
     "name": "stderr",
     "output_type": "stream",
     "text": [
      "nonproductive aaCDR3 removed\n",
      "\n",
      "number of clones in file:batch13_26Aug2020/mixcr/clones/CLONES_TRACHP_405-04-PBMC-DNA.txt\n",
      "\n"
     ]
    },
    {
     "name": "stdout",
     "output_type": "stream",
     "text": [
      "[1] 4587\n"
     ]
    },
    {
     "name": "stderr",
     "output_type": "stream",
     "text": [
      "number of non prodcutive CDR3s:\n",
      "\n"
     ]
    },
    {
     "name": "stdout",
     "output_type": "stream",
     "text": [
      "[1] 2732\n"
     ]
    },
    {
     "name": "stderr",
     "output_type": "stream",
     "text": [
      "nonproductive aaCDR3 removed\n",
      "\n",
      "number of clones in file:batch13_26Aug2020/mixcr/clones/CLONES_TRACHP_407-04-PBMC-DNA.txt\n",
      "\n"
     ]
    },
    {
     "name": "stdout",
     "output_type": "stream",
     "text": [
      "[1] 1789\n"
     ]
    },
    {
     "name": "stderr",
     "output_type": "stream",
     "text": [
      "number of non prodcutive CDR3s:\n",
      "\n"
     ]
    },
    {
     "name": "stdout",
     "output_type": "stream",
     "text": [
      "[1] 823\n"
     ]
    },
    {
     "name": "stderr",
     "output_type": "stream",
     "text": [
      "nonproductive aaCDR3 removed\n",
      "\n",
      "number of clones in file:batch13_26Aug2020/mixcr/clones/CLONES_TRACHP_408-03-PBMC-DNA.txt\n",
      "\n"
     ]
    },
    {
     "name": "stdout",
     "output_type": "stream",
     "text": [
      "[1] 4294\n"
     ]
    },
    {
     "name": "stderr",
     "output_type": "stream",
     "text": [
      "number of non prodcutive CDR3s:\n",
      "\n"
     ]
    },
    {
     "name": "stdout",
     "output_type": "stream",
     "text": [
      "[1] 2414\n"
     ]
    },
    {
     "name": "stderr",
     "output_type": "stream",
     "text": [
      "nonproductive aaCDR3 removed\n",
      "\n",
      "number of clones in file:batch13_26Aug2020/mixcr/clones/CLONES_TRACHP_409-04-PBMC-DNA.txt\n",
      "\n"
     ]
    },
    {
     "name": "stdout",
     "output_type": "stream",
     "text": [
      "[1] 245\n"
     ]
    },
    {
     "name": "stderr",
     "output_type": "stream",
     "text": [
      "number of non prodcutive CDR3s:\n",
      "\n"
     ]
    },
    {
     "name": "stdout",
     "output_type": "stream",
     "text": [
      "[1] 104\n"
     ]
    },
    {
     "name": "stderr",
     "output_type": "stream",
     "text": [
      "nonproductive aaCDR3 removed\n",
      "\n",
      "number of clones in file:batch13_26Aug2020/mixcr/clones/CLONES_TRACHP_410-03-PBMC-DNA.txt\n",
      "\n"
     ]
    },
    {
     "name": "stdout",
     "output_type": "stream",
     "text": [
      "[1] 1827\n"
     ]
    },
    {
     "name": "stderr",
     "output_type": "stream",
     "text": [
      "number of non prodcutive CDR3s:\n",
      "\n"
     ]
    },
    {
     "name": "stdout",
     "output_type": "stream",
     "text": [
      "[1] 976\n"
     ]
    },
    {
     "name": "stderr",
     "output_type": "stream",
     "text": [
      "nonproductive aaCDR3 removed\n",
      "\n",
      "number of clones in file:batch13_26Aug2020/mixcr/clones/CLONES_TRACHP_411-01-PBMC-DNA.txt\n",
      "\n"
     ]
    },
    {
     "name": "stdout",
     "output_type": "stream",
     "text": [
      "[1] 1844\n"
     ]
    },
    {
     "name": "stderr",
     "output_type": "stream",
     "text": [
      "number of non prodcutive CDR3s:\n",
      "\n"
     ]
    },
    {
     "name": "stdout",
     "output_type": "stream",
     "text": [
      "[1] 1054\n"
     ]
    },
    {
     "name": "stderr",
     "output_type": "stream",
     "text": [
      "nonproductive aaCDR3 removed\n",
      "\n",
      "number of clones in file:batch13_26Aug2020/mixcr/clones/CLONES_TRACHP_412-02-PBMC-DNA.txt\n",
      "\n"
     ]
    },
    {
     "name": "stdout",
     "output_type": "stream",
     "text": [
      "[1] 1108\n"
     ]
    },
    {
     "name": "stderr",
     "output_type": "stream",
     "text": [
      "number of non prodcutive CDR3s:\n",
      "\n"
     ]
    },
    {
     "name": "stdout",
     "output_type": "stream",
     "text": [
      "[1] 463\n"
     ]
    },
    {
     "name": "stderr",
     "output_type": "stream",
     "text": [
      "nonproductive aaCDR3 removed\n",
      "\n",
      "number of clones in file:batch13_26Aug2020/mixcr/clones/CLONES_TRACHP_412-03-PBMC-DNA.txt\n",
      "\n"
     ]
    },
    {
     "name": "stdout",
     "output_type": "stream",
     "text": [
      "[1] 117\n"
     ]
    },
    {
     "name": "stderr",
     "output_type": "stream",
     "text": [
      "number of non prodcutive CDR3s:\n",
      "\n"
     ]
    },
    {
     "name": "stdout",
     "output_type": "stream",
     "text": [
      "[1] 41\n"
     ]
    },
    {
     "name": "stderr",
     "output_type": "stream",
     "text": [
      "nonproductive aaCDR3 removed\n",
      "\n",
      "number of clones in file:batch13_26Aug2020/mixcr/clones/CLONES_TRACHP_414-02-PBMC-DNA.txt\n",
      "\n"
     ]
    },
    {
     "name": "stdout",
     "output_type": "stream",
     "text": [
      "[1] 5000\n"
     ]
    },
    {
     "name": "stderr",
     "output_type": "stream",
     "text": [
      "number of non prodcutive CDR3s:\n",
      "\n"
     ]
    },
    {
     "name": "stdout",
     "output_type": "stream",
     "text": [
      "[1] 2937\n"
     ]
    },
    {
     "name": "stderr",
     "output_type": "stream",
     "text": [
      "nonproductive aaCDR3 removed\n",
      "\n",
      "number of clones in file:batch13_26Aug2020/mixcr/clones/CLONES_TRACHP_415-01-PBMC-DNA.txt\n",
      "\n"
     ]
    },
    {
     "name": "stdout",
     "output_type": "stream",
     "text": [
      "[1] 580\n"
     ]
    },
    {
     "name": "stderr",
     "output_type": "stream",
     "text": [
      "number of non prodcutive CDR3s:\n",
      "\n"
     ]
    },
    {
     "name": "stdout",
     "output_type": "stream",
     "text": [
      "[1] 309\n"
     ]
    },
    {
     "name": "stderr",
     "output_type": "stream",
     "text": [
      "nonproductive aaCDR3 removed\n",
      "\n",
      "number of clones in file:batch13_26Aug2020/mixcr/clones/CLONES_TRACHP_416-01-PBMC-DNA.txt\n",
      "\n"
     ]
    },
    {
     "name": "stdout",
     "output_type": "stream",
     "text": [
      "[1] 4074\n"
     ]
    },
    {
     "name": "stderr",
     "output_type": "stream",
     "text": [
      "number of non prodcutive CDR3s:\n",
      "\n"
     ]
    },
    {
     "name": "stdout",
     "output_type": "stream",
     "text": [
      "[1] 2531\n"
     ]
    },
    {
     "name": "stderr",
     "output_type": "stream",
     "text": [
      "nonproductive aaCDR3 removed\n",
      "\n",
      "number of clones in file:batch13_26Aug2020/mixcr/clones/CLONES_TRACHP_418-01-PBMC-DNA.txt\n",
      "\n"
     ]
    },
    {
     "name": "stdout",
     "output_type": "stream",
     "text": [
      "[1] 891\n"
     ]
    },
    {
     "name": "stderr",
     "output_type": "stream",
     "text": [
      "number of non prodcutive CDR3s:\n",
      "\n"
     ]
    },
    {
     "name": "stdout",
     "output_type": "stream",
     "text": [
      "[1] 516\n"
     ]
    },
    {
     "name": "stderr",
     "output_type": "stream",
     "text": [
      "nonproductive aaCDR3 removed\n",
      "\n",
      "number of clones in file:batch13_26Aug2020/mixcr/clones/CLONES_TRACHP_422-01_-PBMC-DN.txt\n",
      "\n"
     ]
    },
    {
     "name": "stdout",
     "output_type": "stream",
     "text": [
      "[1] 80\n"
     ]
    },
    {
     "name": "stderr",
     "output_type": "stream",
     "text": [
      "number of non prodcutive CDR3s:\n",
      "\n"
     ]
    },
    {
     "name": "stdout",
     "output_type": "stream",
     "text": [
      "[1] 41\n"
     ]
    },
    {
     "name": "stderr",
     "output_type": "stream",
     "text": [
      "nonproductive aaCDR3 removed\n",
      "\n",
      "number of clones in file:batch13_cfDNA_11Sep2020/mixcr/clones/CLONES_TRACHP_334-03_cfDNA.txt\n",
      "\n"
     ]
    },
    {
     "name": "stdout",
     "output_type": "stream",
     "text": [
      "[1] 206\n"
     ]
    },
    {
     "name": "stderr",
     "output_type": "stream",
     "text": [
      "number of non prodcutive CDR3s:\n",
      "\n"
     ]
    },
    {
     "name": "stdout",
     "output_type": "stream",
     "text": [
      "[1] 115\n"
     ]
    },
    {
     "name": "stderr",
     "output_type": "stream",
     "text": [
      "nonproductive aaCDR3 removed\n",
      "\n",
      "number of clones in file:batch13_cfDNA_11Sep2020/mixcr/clones/CLONES_TRACHP_341-02_cfDNA.txt\n",
      "\n"
     ]
    },
    {
     "name": "stdout",
     "output_type": "stream",
     "text": [
      "[1] 311\n"
     ]
    },
    {
     "name": "stderr",
     "output_type": "stream",
     "text": [
      "number of non prodcutive CDR3s:\n",
      "\n"
     ]
    },
    {
     "name": "stdout",
     "output_type": "stream",
     "text": [
      "[1] 163\n"
     ]
    },
    {
     "name": "stderr",
     "output_type": "stream",
     "text": [
      "nonproductive aaCDR3 removed\n",
      "\n",
      "number of clones in file:batch13_cfDNA_11Sep2020/mixcr/clones/CLONES_TRACHP_359-03_cfDNA.txt\n",
      "\n"
     ]
    },
    {
     "name": "stdout",
     "output_type": "stream",
     "text": [
      "[1] 211\n"
     ]
    },
    {
     "name": "stderr",
     "output_type": "stream",
     "text": [
      "number of non prodcutive CDR3s:\n",
      "\n"
     ]
    },
    {
     "name": "stdout",
     "output_type": "stream",
     "text": [
      "[1] 111\n"
     ]
    },
    {
     "name": "stderr",
     "output_type": "stream",
     "text": [
      "nonproductive aaCDR3 removed\n",
      "\n",
      "number of clones in file:batch13_cfDNA_11Sep2020/mixcr/clones/CLONES_TRACHP_360-04_cfDNA.txt\n",
      "\n"
     ]
    },
    {
     "name": "stdout",
     "output_type": "stream",
     "text": [
      "[1] 275\n"
     ]
    },
    {
     "name": "stderr",
     "output_type": "stream",
     "text": [
      "number of non prodcutive CDR3s:\n",
      "\n"
     ]
    },
    {
     "name": "stdout",
     "output_type": "stream",
     "text": [
      "[1] 143\n"
     ]
    },
    {
     "name": "stderr",
     "output_type": "stream",
     "text": [
      "nonproductive aaCDR3 removed\n",
      "\n",
      "number of clones in file:batch13_cfDNA_11Sep2020/mixcr/clones/CLONES_TRACHP_360-05_cfDNA.txt\n",
      "\n"
     ]
    },
    {
     "name": "stdout",
     "output_type": "stream",
     "text": [
      "[1] 112\n"
     ]
    },
    {
     "name": "stderr",
     "output_type": "stream",
     "text": [
      "number of non prodcutive CDR3s:\n",
      "\n"
     ]
    },
    {
     "name": "stdout",
     "output_type": "stream",
     "text": [
      "[1] 61\n"
     ]
    },
    {
     "name": "stderr",
     "output_type": "stream",
     "text": [
      "nonproductive aaCDR3 removed\n",
      "\n",
      "number of clones in file:batch13_cfDNA_11Sep2020/mixcr/clones/CLONES_TRACHP_367-04_cfDNA.txt\n",
      "\n"
     ]
    },
    {
     "name": "stdout",
     "output_type": "stream",
     "text": [
      "[1] 1603\n"
     ]
    },
    {
     "name": "stderr",
     "output_type": "stream",
     "text": [
      "number of non prodcutive CDR3s:\n",
      "\n"
     ]
    },
    {
     "name": "stdout",
     "output_type": "stream",
     "text": [
      "[1] 847\n"
     ]
    },
    {
     "name": "stderr",
     "output_type": "stream",
     "text": [
      "nonproductive aaCDR3 removed\n",
      "\n",
      "number of clones in file:batch13_cfDNA_11Sep2020/mixcr/clones/CLONES_TRACHP_367-05_cfDNA.txt\n",
      "\n"
     ]
    },
    {
     "name": "stdout",
     "output_type": "stream",
     "text": [
      "[1] 76\n"
     ]
    },
    {
     "name": "stderr",
     "output_type": "stream",
     "text": [
      "number of non prodcutive CDR3s:\n",
      "\n"
     ]
    },
    {
     "name": "stdout",
     "output_type": "stream",
     "text": [
      "[1] 39\n"
     ]
    },
    {
     "name": "stderr",
     "output_type": "stream",
     "text": [
      "nonproductive aaCDR3 removed\n",
      "\n",
      "number of clones in file:batch13_cfDNA_11Sep2020/mixcr/clones/CLONES_TRACHP_375-03_cfDNA.txt\n",
      "\n"
     ]
    },
    {
     "name": "stdout",
     "output_type": "stream",
     "text": [
      "[1] 47\n"
     ]
    },
    {
     "name": "stderr",
     "output_type": "stream",
     "text": [
      "number of non prodcutive CDR3s:\n",
      "\n"
     ]
    },
    {
     "name": "stdout",
     "output_type": "stream",
     "text": [
      "[1] 24\n"
     ]
    },
    {
     "name": "stderr",
     "output_type": "stream",
     "text": [
      "nonproductive aaCDR3 removed\n",
      "\n",
      "number of clones in file:batch13_cfDNA_11Sep2020/mixcr/clones/CLONES_TRACHP_375-05_cfDNA.txt\n",
      "\n"
     ]
    },
    {
     "name": "stdout",
     "output_type": "stream",
     "text": [
      "[1] 349\n"
     ]
    },
    {
     "name": "stderr",
     "output_type": "stream",
     "text": [
      "number of non prodcutive CDR3s:\n",
      "\n"
     ]
    },
    {
     "name": "stdout",
     "output_type": "stream",
     "text": [
      "[1] 192\n"
     ]
    },
    {
     "name": "stderr",
     "output_type": "stream",
     "text": [
      "nonproductive aaCDR3 removed\n",
      "\n",
      "number of clones in file:batch13_cfDNA_11Sep2020/mixcr/clones/CLONES_TRACHP_382-05_cfDNA.txt\n",
      "\n"
     ]
    },
    {
     "name": "stdout",
     "output_type": "stream",
     "text": [
      "[1] 319\n"
     ]
    },
    {
     "name": "stderr",
     "output_type": "stream",
     "text": [
      "number of non prodcutive CDR3s:\n",
      "\n"
     ]
    },
    {
     "name": "stdout",
     "output_type": "stream",
     "text": [
      "[1] 185\n"
     ]
    },
    {
     "name": "stderr",
     "output_type": "stream",
     "text": [
      "nonproductive aaCDR3 removed\n",
      "\n",
      "number of clones in file:batch13_cfDNA_11Sep2020/mixcr/clones/CLONES_TRACHP_386-05_cfDNA.txt\n",
      "\n"
     ]
    },
    {
     "name": "stdout",
     "output_type": "stream",
     "text": [
      "[1] 59\n"
     ]
    },
    {
     "name": "stderr",
     "output_type": "stream",
     "text": [
      "number of non prodcutive CDR3s:\n",
      "\n"
     ]
    },
    {
     "name": "stdout",
     "output_type": "stream",
     "text": [
      "[1] 35\n"
     ]
    },
    {
     "name": "stderr",
     "output_type": "stream",
     "text": [
      "nonproductive aaCDR3 removed\n",
      "\n",
      "number of clones in file:batch13_cfDNA_11Sep2020/mixcr/clones/CLONES_TRACHP_388-05_cfDNA.txt\n",
      "\n"
     ]
    },
    {
     "name": "stdout",
     "output_type": "stream",
     "text": [
      "[1] 198\n"
     ]
    },
    {
     "name": "stderr",
     "output_type": "stream",
     "text": [
      "number of non prodcutive CDR3s:\n",
      "\n"
     ]
    },
    {
     "name": "stdout",
     "output_type": "stream",
     "text": [
      "[1] 94\n"
     ]
    },
    {
     "name": "stderr",
     "output_type": "stream",
     "text": [
      "nonproductive aaCDR3 removed\n",
      "\n",
      "number of clones in file:batch13_cfDNA_11Sep2020/mixcr/clones/CLONES_TRACHP_389-01_cfDNA.txt\n",
      "\n"
     ]
    },
    {
     "name": "stdout",
     "output_type": "stream",
     "text": [
      "[1] 205\n"
     ]
    },
    {
     "name": "stderr",
     "output_type": "stream",
     "text": [
      "number of non prodcutive CDR3s:\n",
      "\n"
     ]
    },
    {
     "name": "stdout",
     "output_type": "stream",
     "text": [
      "[1] 117\n"
     ]
    },
    {
     "name": "stderr",
     "output_type": "stream",
     "text": [
      "nonproductive aaCDR3 removed\n",
      "\n",
      "number of clones in file:batch13_cfDNA_11Sep2020/mixcr/clones/CLONES_TRACHP_390-02_cfDNA.txt\n",
      "\n"
     ]
    },
    {
     "name": "stdout",
     "output_type": "stream",
     "text": [
      "[1] 395\n"
     ]
    },
    {
     "name": "stderr",
     "output_type": "stream",
     "text": [
      "number of non prodcutive CDR3s:\n",
      "\n"
     ]
    },
    {
     "name": "stdout",
     "output_type": "stream",
     "text": [
      "[1] 229\n"
     ]
    },
    {
     "name": "stderr",
     "output_type": "stream",
     "text": [
      "nonproductive aaCDR3 removed\n",
      "\n",
      "number of clones in file:batch13_cfDNA_11Sep2020/mixcr/clones/CLONES_TRACHP_392-02_cfDNA.txt\n",
      "\n"
     ]
    },
    {
     "name": "stdout",
     "output_type": "stream",
     "text": [
      "[1] 732\n"
     ]
    },
    {
     "name": "stderr",
     "output_type": "stream",
     "text": [
      "number of non prodcutive CDR3s:\n",
      "\n"
     ]
    },
    {
     "name": "stdout",
     "output_type": "stream",
     "text": [
      "[1] 404\n"
     ]
    },
    {
     "name": "stderr",
     "output_type": "stream",
     "text": [
      "nonproductive aaCDR3 removed\n",
      "\n",
      "number of clones in file:batch13_cfDNA_11Sep2020/mixcr/clones/CLONES_TRACHP_392-03_cfDNA.txt\n",
      "\n"
     ]
    },
    {
     "name": "stdout",
     "output_type": "stream",
     "text": [
      "[1] 170\n"
     ]
    },
    {
     "name": "stderr",
     "output_type": "stream",
     "text": [
      "number of non prodcutive CDR3s:\n",
      "\n"
     ]
    },
    {
     "name": "stdout",
     "output_type": "stream",
     "text": [
      "[1] 85\n"
     ]
    },
    {
     "name": "stderr",
     "output_type": "stream",
     "text": [
      "nonproductive aaCDR3 removed\n",
      "\n",
      "number of clones in file:batch13_cfDNA_11Sep2020/mixcr/clones/CLONES_TRACHP_397-04_cfDNA.txt\n",
      "\n"
     ]
    },
    {
     "name": "stdout",
     "output_type": "stream",
     "text": [
      "[1] 154\n"
     ]
    },
    {
     "name": "stderr",
     "output_type": "stream",
     "text": [
      "number of non prodcutive CDR3s:\n",
      "\n"
     ]
    },
    {
     "name": "stdout",
     "output_type": "stream",
     "text": [
      "[1] 79\n"
     ]
    },
    {
     "name": "stderr",
     "output_type": "stream",
     "text": [
      "nonproductive aaCDR3 removed\n",
      "\n",
      "number of clones in file:batch13_cfDNA_11Sep2020/mixcr/clones/CLONES_TRACHP_398-04_cfDNA.txt\n",
      "\n"
     ]
    },
    {
     "name": "stdout",
     "output_type": "stream",
     "text": [
      "[1] 128\n"
     ]
    },
    {
     "name": "stderr",
     "output_type": "stream",
     "text": [
      "number of non prodcutive CDR3s:\n",
      "\n"
     ]
    },
    {
     "name": "stdout",
     "output_type": "stream",
     "text": [
      "[1] 68\n"
     ]
    },
    {
     "name": "stderr",
     "output_type": "stream",
     "text": [
      "nonproductive aaCDR3 removed\n",
      "\n",
      "number of clones in file:batch13_cfDNA_11Sep2020/mixcr/clones/CLONES_TRACHP_400-05_cfDNA.txt\n",
      "\n"
     ]
    },
    {
     "name": "stdout",
     "output_type": "stream",
     "text": [
      "[1] 333\n"
     ]
    },
    {
     "name": "stderr",
     "output_type": "stream",
     "text": [
      "number of non prodcutive CDR3s:\n",
      "\n"
     ]
    },
    {
     "name": "stdout",
     "output_type": "stream",
     "text": [
      "[1] 188\n"
     ]
    },
    {
     "name": "stderr",
     "output_type": "stream",
     "text": [
      "nonproductive aaCDR3 removed\n",
      "\n",
      "number of clones in file:batch13_cfDNA_11Sep2020/mixcr/clones/CLONES_TRACHP_403-02_cfDNA.txt\n",
      "\n"
     ]
    },
    {
     "name": "stdout",
     "output_type": "stream",
     "text": [
      "[1] 118\n"
     ]
    },
    {
     "name": "stderr",
     "output_type": "stream",
     "text": [
      "number of non prodcutive CDR3s:\n",
      "\n"
     ]
    },
    {
     "name": "stdout",
     "output_type": "stream",
     "text": [
      "[1] 55\n"
     ]
    },
    {
     "name": "stderr",
     "output_type": "stream",
     "text": [
      "nonproductive aaCDR3 removed\n",
      "\n",
      "number of clones in file:batch13_cfDNA_11Sep2020/mixcr/clones/CLONES_TRACHP_404-05_cfDNA.txt\n",
      "\n"
     ]
    },
    {
     "name": "stdout",
     "output_type": "stream",
     "text": [
      "[1] 213\n"
     ]
    },
    {
     "name": "stderr",
     "output_type": "stream",
     "text": [
      "number of non prodcutive CDR3s:\n",
      "\n"
     ]
    },
    {
     "name": "stdout",
     "output_type": "stream",
     "text": [
      "[1] 118\n"
     ]
    },
    {
     "name": "stderr",
     "output_type": "stream",
     "text": [
      "nonproductive aaCDR3 removed\n",
      "\n",
      "number of clones in file:batch13_cfDNA_11Sep2020/mixcr/clones/CLONES_TRACHP_405-02_cfDNA.txt\n",
      "\n"
     ]
    },
    {
     "name": "stdout",
     "output_type": "stream",
     "text": [
      "[1] 318\n"
     ]
    },
    {
     "name": "stderr",
     "output_type": "stream",
     "text": [
      "number of non prodcutive CDR3s:\n",
      "\n"
     ]
    },
    {
     "name": "stdout",
     "output_type": "stream",
     "text": [
      "[1] 167\n"
     ]
    },
    {
     "name": "stderr",
     "output_type": "stream",
     "text": [
      "nonproductive aaCDR3 removed\n",
      "\n",
      "number of clones in file:batch13_cfDNA_11Sep2020/mixcr/clones/CLONES_TRACHP_411-02_cfDNA.txt\n",
      "\n"
     ]
    },
    {
     "name": "stdout",
     "output_type": "stream",
     "text": [
      "[1] 486\n"
     ]
    },
    {
     "name": "stderr",
     "output_type": "stream",
     "text": [
      "number of non prodcutive CDR3s:\n",
      "\n"
     ]
    },
    {
     "name": "stdout",
     "output_type": "stream",
     "text": [
      "[1] 268\n"
     ]
    },
    {
     "name": "stderr",
     "output_type": "stream",
     "text": [
      "nonproductive aaCDR3 removed\n",
      "\n",
      "number of clones in file:batch13_cfDNA_11Sep2020/mixcr/clones/CLONES_TRACHP_416-02_cfDNA.txt\n",
      "\n"
     ]
    },
    {
     "name": "stdout",
     "output_type": "stream",
     "text": [
      "[1] 153\n"
     ]
    },
    {
     "name": "stderr",
     "output_type": "stream",
     "text": [
      "number of non prodcutive CDR3s:\n",
      "\n"
     ]
    },
    {
     "name": "stdout",
     "output_type": "stream",
     "text": [
      "[1] 94\n"
     ]
    },
    {
     "name": "stderr",
     "output_type": "stream",
     "text": [
      "nonproductive aaCDR3 removed\n",
      "\n",
      "number of clones in file:batch2_Aug62019/mixcr/clones/CLONES_TRACHP_319-05-PBMC-DNA.txt\n",
      "\n"
     ]
    },
    {
     "name": "stdout",
     "output_type": "stream",
     "text": [
      "[1] 49\n"
     ]
    },
    {
     "name": "stderr",
     "output_type": "stream",
     "text": [
      "number of non prodcutive CDR3s:\n",
      "\n"
     ]
    },
    {
     "name": "stdout",
     "output_type": "stream",
     "text": [
      "[1] 19\n"
     ]
    },
    {
     "name": "stderr",
     "output_type": "stream",
     "text": [
      "nonproductive aaCDR3 removed\n",
      "\n",
      "number of clones in file:batch2_Aug62019/mixcr/clones/CLONES_TRACHP_329-04-PBMC-DNA.txt\n",
      "\n"
     ]
    },
    {
     "name": "stdout",
     "output_type": "stream",
     "text": [
      "[1] 32\n"
     ]
    },
    {
     "name": "stderr",
     "output_type": "stream",
     "text": [
      "number of non prodcutive CDR3s:\n",
      "\n"
     ]
    },
    {
     "name": "stdout",
     "output_type": "stream",
     "text": [
      "[1] 19\n"
     ]
    },
    {
     "name": "stderr",
     "output_type": "stream",
     "text": [
      "nonproductive aaCDR3 removed\n",
      "\n",
      "number of clones in file:batch2_Aug62019/mixcr/clones/CLONES_TRACHP_330-05-PBMC-DNA.txt\n",
      "\n"
     ]
    },
    {
     "name": "stdout",
     "output_type": "stream",
     "text": [
      "[1] 933\n"
     ]
    },
    {
     "name": "stderr",
     "output_type": "stream",
     "text": [
      "number of non prodcutive CDR3s:\n",
      "\n"
     ]
    },
    {
     "name": "stdout",
     "output_type": "stream",
     "text": [
      "[1] 525\n"
     ]
    },
    {
     "name": "stderr",
     "output_type": "stream",
     "text": [
      "nonproductive aaCDR3 removed\n",
      "\n",
      "number of clones in file:batch2_Aug62019/mixcr/clones/CLONES_TRACHP_331-04-PBMC-DNA.txt\n",
      "\n"
     ]
    },
    {
     "name": "stdout",
     "output_type": "stream",
     "text": [
      "[1] 342\n"
     ]
    },
    {
     "name": "stderr",
     "output_type": "stream",
     "text": [
      "number of non prodcutive CDR3s:\n",
      "\n"
     ]
    },
    {
     "name": "stdout",
     "output_type": "stream",
     "text": [
      "[1] 189\n"
     ]
    },
    {
     "name": "stderr",
     "output_type": "stream",
     "text": [
      "nonproductive aaCDR3 removed\n",
      "\n",
      "number of clones in file:batch2_Aug62019/mixcr/clones/CLONES_TRACHP_331-05-PBMC-DNA.txt\n",
      "\n"
     ]
    },
    {
     "name": "stdout",
     "output_type": "stream",
     "text": [
      "[1] 826\n"
     ]
    },
    {
     "name": "stderr",
     "output_type": "stream",
     "text": [
      "number of non prodcutive CDR3s:\n",
      "\n"
     ]
    },
    {
     "name": "stdout",
     "output_type": "stream",
     "text": [
      "[1] 411\n"
     ]
    },
    {
     "name": "stderr",
     "output_type": "stream",
     "text": [
      "nonproductive aaCDR3 removed\n",
      "\n",
      "number of clones in file:batch2_Aug62019/mixcr/clones/CLONES_TRACHP_338-04-PBMC-DNA.txt\n",
      "\n"
     ]
    },
    {
     "name": "stdout",
     "output_type": "stream",
     "text": [
      "[1] 826\n"
     ]
    },
    {
     "name": "stderr",
     "output_type": "stream",
     "text": [
      "number of non prodcutive CDR3s:\n",
      "\n"
     ]
    },
    {
     "name": "stdout",
     "output_type": "stream",
     "text": [
      "[1] 425\n"
     ]
    },
    {
     "name": "stderr",
     "output_type": "stream",
     "text": [
      "nonproductive aaCDR3 removed\n",
      "\n",
      "number of clones in file:batch2_Aug62019/mixcr/clones/CLONES_TRACHP_338-05-PBMC-DNA.txt\n",
      "\n"
     ]
    },
    {
     "name": "stdout",
     "output_type": "stream",
     "text": [
      "[1] 1704\n"
     ]
    },
    {
     "name": "stderr",
     "output_type": "stream",
     "text": [
      "number of non prodcutive CDR3s:\n",
      "\n"
     ]
    },
    {
     "name": "stdout",
     "output_type": "stream",
     "text": [
      "[1] 875\n"
     ]
    },
    {
     "name": "stderr",
     "output_type": "stream",
     "text": [
      "nonproductive aaCDR3 removed\n",
      "\n",
      "number of clones in file:batch2_Aug62019/mixcr/clones/CLONES_TRACHP_342-04-PBMC-DNA.txt\n",
      "\n"
     ]
    },
    {
     "name": "stdout",
     "output_type": "stream",
     "text": [
      "[1] 262\n"
     ]
    },
    {
     "name": "stderr",
     "output_type": "stream",
     "text": [
      "number of non prodcutive CDR3s:\n",
      "\n"
     ]
    },
    {
     "name": "stdout",
     "output_type": "stream",
     "text": [
      "[1] 136\n"
     ]
    },
    {
     "name": "stderr",
     "output_type": "stream",
     "text": [
      "nonproductive aaCDR3 removed\n",
      "\n",
      "number of clones in file:batch2_Aug62019/mixcr/clones/CLONES_TRACHP_343-02-PBMC-DNA.txt\n",
      "\n"
     ]
    },
    {
     "name": "stdout",
     "output_type": "stream",
     "text": [
      "[1] 105\n"
     ]
    },
    {
     "name": "stderr",
     "output_type": "stream",
     "text": [
      "number of non prodcutive CDR3s:\n",
      "\n"
     ]
    },
    {
     "name": "stdout",
     "output_type": "stream",
     "text": [
      "[1] 60\n"
     ]
    },
    {
     "name": "stderr",
     "output_type": "stream",
     "text": [
      "nonproductive aaCDR3 removed\n",
      "\n",
      "number of clones in file:batch2_Aug62019/mixcr/clones/CLONES_TRACHP_343-03-PBMC-DNA.txt\n",
      "\n"
     ]
    },
    {
     "name": "stdout",
     "output_type": "stream",
     "text": [
      "[1] 158\n"
     ]
    },
    {
     "name": "stderr",
     "output_type": "stream",
     "text": [
      "number of non prodcutive CDR3s:\n",
      "\n"
     ]
    },
    {
     "name": "stdout",
     "output_type": "stream",
     "text": [
      "[1] 55\n"
     ]
    },
    {
     "name": "stderr",
     "output_type": "stream",
     "text": [
      "nonproductive aaCDR3 removed\n",
      "\n",
      "number of clones in file:batch2_Aug62019/mixcr/clones/CLONES_TRACHP_343-04-PBMC-DNA.txt\n",
      "\n"
     ]
    },
    {
     "name": "stdout",
     "output_type": "stream",
     "text": [
      "[1] 99\n"
     ]
    },
    {
     "name": "stderr",
     "output_type": "stream",
     "text": [
      "number of non prodcutive CDR3s:\n",
      "\n"
     ]
    },
    {
     "name": "stdout",
     "output_type": "stream",
     "text": [
      "[1] 45\n"
     ]
    },
    {
     "name": "stderr",
     "output_type": "stream",
     "text": [
      "nonproductive aaCDR3 removed\n",
      "\n",
      "number of clones in file:batch2_Aug62019/mixcr/clones/CLONES_TRACHP_343-05-PBMC-DNA.txt\n",
      "\n"
     ]
    },
    {
     "name": "stdout",
     "output_type": "stream",
     "text": [
      "[1] 161\n"
     ]
    },
    {
     "name": "stderr",
     "output_type": "stream",
     "text": [
      "number of non prodcutive CDR3s:\n",
      "\n"
     ]
    },
    {
     "name": "stdout",
     "output_type": "stream",
     "text": [
      "[1] 71\n"
     ]
    },
    {
     "name": "stderr",
     "output_type": "stream",
     "text": [
      "nonproductive aaCDR3 removed\n",
      "\n",
      "number of clones in file:batch2_Aug62019/mixcr/clones/CLONES_TRACHP_348-01-PBMC-DNA.txt\n",
      "\n"
     ]
    },
    {
     "name": "stdout",
     "output_type": "stream",
     "text": [
      "[1] 490\n"
     ]
    },
    {
     "name": "stderr",
     "output_type": "stream",
     "text": [
      "number of non prodcutive CDR3s:\n",
      "\n"
     ]
    },
    {
     "name": "stdout",
     "output_type": "stream",
     "text": [
      "[1] 224\n"
     ]
    },
    {
     "name": "stderr",
     "output_type": "stream",
     "text": [
      "nonproductive aaCDR3 removed\n",
      "\n",
      "number of clones in file:batch2_Aug62019/mixcr/clones/CLONES_TRACHP_348-02-PBMC-DNA.txt\n",
      "\n"
     ]
    },
    {
     "name": "stdout",
     "output_type": "stream",
     "text": [
      "[1] 337\n"
     ]
    },
    {
     "name": "stderr",
     "output_type": "stream",
     "text": [
      "number of non prodcutive CDR3s:\n",
      "\n"
     ]
    },
    {
     "name": "stdout",
     "output_type": "stream",
     "text": [
      "[1] 193\n"
     ]
    },
    {
     "name": "stderr",
     "output_type": "stream",
     "text": [
      "nonproductive aaCDR3 removed\n",
      "\n",
      "number of clones in file:batch2_Aug62019/mixcr/clones/CLONES_TRALFS_TCR-4535-PBMC-DNA.txt\n",
      "\n"
     ]
    },
    {
     "name": "stdout",
     "output_type": "stream",
     "text": [
      "[1] 2284\n"
     ]
    },
    {
     "name": "stderr",
     "output_type": "stream",
     "text": [
      "number of non prodcutive CDR3s:\n",
      "\n"
     ]
    },
    {
     "name": "stdout",
     "output_type": "stream",
     "text": [
      "[1] 1399\n"
     ]
    },
    {
     "name": "stderr",
     "output_type": "stream",
     "text": [
      "nonproductive aaCDR3 removed\n",
      "\n",
      "number of clones in file:batch2_Aug62019/mixcr/clones/CLONES_TRALFS_TCR-4570-PBMC-DNA.txt\n",
      "\n"
     ]
    },
    {
     "name": "stdout",
     "output_type": "stream",
     "text": [
      "[1] 662\n"
     ]
    },
    {
     "name": "stderr",
     "output_type": "stream",
     "text": [
      "number of non prodcutive CDR3s:\n",
      "\n"
     ]
    },
    {
     "name": "stdout",
     "output_type": "stream",
     "text": [
      "[1] 302\n"
     ]
    },
    {
     "name": "stderr",
     "output_type": "stream",
     "text": [
      "nonproductive aaCDR3 removed\n",
      "\n",
      "number of clones in file:batch2_Aug62019/mixcr/clones/CLONES_TRALFS_TCR-4602-PBMC-DNA.txt\n",
      "\n"
     ]
    },
    {
     "name": "stdout",
     "output_type": "stream",
     "text": [
      "[1] 1711\n"
     ]
    },
    {
     "name": "stderr",
     "output_type": "stream",
     "text": [
      "number of non prodcutive CDR3s:\n",
      "\n"
     ]
    },
    {
     "name": "stdout",
     "output_type": "stream",
     "text": [
      "[1] 1023\n"
     ]
    },
    {
     "name": "stderr",
     "output_type": "stream",
     "text": [
      "nonproductive aaCDR3 removed\n",
      "\n",
      "number of clones in file:batch2_Aug62019/mixcr/clones/CLONES_TRALFS_TCR-4758-PBMC-DNA.txt\n",
      "\n"
     ]
    },
    {
     "name": "stdout",
     "output_type": "stream",
     "text": [
      "[1] 1589\n"
     ]
    },
    {
     "name": "stderr",
     "output_type": "stream",
     "text": [
      "number of non prodcutive CDR3s:\n",
      "\n"
     ]
    },
    {
     "name": "stdout",
     "output_type": "stream",
     "text": [
      "[1] 928\n"
     ]
    },
    {
     "name": "stderr",
     "output_type": "stream",
     "text": [
      "nonproductive aaCDR3 removed\n",
      "\n",
      "number of clones in file:batch2_Aug62019/mixcr/clones/CLONES_TRALFS_TCR-4759-PBMC-DNA.txt\n",
      "\n"
     ]
    },
    {
     "name": "stdout",
     "output_type": "stream",
     "text": [
      "[1] 902\n"
     ]
    },
    {
     "name": "stderr",
     "output_type": "stream",
     "text": [
      "number of non prodcutive CDR3s:\n",
      "\n"
     ]
    },
    {
     "name": "stdout",
     "output_type": "stream",
     "text": [
      "[1] 433\n"
     ]
    },
    {
     "name": "stderr",
     "output_type": "stream",
     "text": [
      "nonproductive aaCDR3 removed\n",
      "\n",
      "number of clones in file:batch2_Aug62019/mixcr/clones/CLONES_TRALFS_TCR-4783-PBMC-DNA.txt\n",
      "\n"
     ]
    },
    {
     "name": "stdout",
     "output_type": "stream",
     "text": [
      "[1] 300\n"
     ]
    },
    {
     "name": "stderr",
     "output_type": "stream",
     "text": [
      "number of non prodcutive CDR3s:\n",
      "\n"
     ]
    },
    {
     "name": "stdout",
     "output_type": "stream",
     "text": [
      "[1] 111\n"
     ]
    },
    {
     "name": "stderr",
     "output_type": "stream",
     "text": [
      "nonproductive aaCDR3 removed\n",
      "\n",
      "number of clones in file:batch2_Aug62019/mixcr/clones/CLONES_TRALFS_TCR-4837-PBMC-DNA.txt\n",
      "\n"
     ]
    },
    {
     "name": "stdout",
     "output_type": "stream",
     "text": [
      "[1] 1579\n"
     ]
    },
    {
     "name": "stderr",
     "output_type": "stream",
     "text": [
      "number of non prodcutive CDR3s:\n",
      "\n"
     ]
    },
    {
     "name": "stdout",
     "output_type": "stream",
     "text": [
      "[1] 923\n"
     ]
    },
    {
     "name": "stderr",
     "output_type": "stream",
     "text": [
      "nonproductive aaCDR3 removed\n",
      "\n",
      "number of clones in file:batch2_Aug62019/mixcr/clones/CLONES_TRALFS_TCR-4838-PBMC-DNA.txt\n",
      "\n"
     ]
    },
    {
     "name": "stdout",
     "output_type": "stream",
     "text": [
      "[1] 902\n"
     ]
    },
    {
     "name": "stderr",
     "output_type": "stream",
     "text": [
      "number of non prodcutive CDR3s:\n",
      "\n"
     ]
    },
    {
     "name": "stdout",
     "output_type": "stream",
     "text": [
      "[1] 499\n"
     ]
    },
    {
     "name": "stderr",
     "output_type": "stream",
     "text": [
      "nonproductive aaCDR3 removed\n",
      "\n",
      "number of clones in file:batch2_Aug62019/mixcr/clones/CLONES_TRALFS_TCR-5014-PBMC-DNA.txt\n",
      "\n"
     ]
    },
    {
     "name": "stdout",
     "output_type": "stream",
     "text": [
      "[1] 1553\n"
     ]
    },
    {
     "name": "stderr",
     "output_type": "stream",
     "text": [
      "number of non prodcutive CDR3s:\n",
      "\n"
     ]
    },
    {
     "name": "stdout",
     "output_type": "stream",
     "text": [
      "[1] 881\n"
     ]
    },
    {
     "name": "stderr",
     "output_type": "stream",
     "text": [
      "nonproductive aaCDR3 removed\n",
      "\n",
      "number of clones in file:batch2_Aug62019/mixcr/clones/CLONES_TRALFS_TCR-5067-PBMC-DNA.txt\n",
      "\n"
     ]
    },
    {
     "name": "stdout",
     "output_type": "stream",
     "text": [
      "[1] 1650\n"
     ]
    },
    {
     "name": "stderr",
     "output_type": "stream",
     "text": [
      "number of non prodcutive CDR3s:\n",
      "\n"
     ]
    },
    {
     "name": "stdout",
     "output_type": "stream",
     "text": [
      "[1] 936\n"
     ]
    },
    {
     "name": "stderr",
     "output_type": "stream",
     "text": [
      "nonproductive aaCDR3 removed\n",
      "\n",
      "number of clones in file:batch3_19Aug2019/mixcr/clones/CLONES_TRACHP_339-05-PBMC-DNA.txt\n",
      "\n"
     ]
    },
    {
     "name": "stdout",
     "output_type": "stream",
     "text": [
      "[1] 868\n"
     ]
    },
    {
     "name": "stderr",
     "output_type": "stream",
     "text": [
      "number of non prodcutive CDR3s:\n",
      "\n"
     ]
    },
    {
     "name": "stdout",
     "output_type": "stream",
     "text": [
      "[1] 383\n"
     ]
    },
    {
     "name": "stderr",
     "output_type": "stream",
     "text": [
      "nonproductive aaCDR3 removed\n",
      "\n",
      "number of clones in file:batch3_19Aug2019/mixcr/clones/CLONES_TRACHP_340-05-PBMC-DNA.txt\n",
      "\n"
     ]
    },
    {
     "name": "stdout",
     "output_type": "stream",
     "text": [
      "[1] 1405\n"
     ]
    },
    {
     "name": "stderr",
     "output_type": "stream",
     "text": [
      "number of non prodcutive CDR3s:\n",
      "\n"
     ]
    },
    {
     "name": "stdout",
     "output_type": "stream",
     "text": [
      "[1] 695\n"
     ]
    },
    {
     "name": "stderr",
     "output_type": "stream",
     "text": [
      "nonproductive aaCDR3 removed\n",
      "\n",
      "number of clones in file:batch3_19Aug2019/mixcr/clones/CLONES_TRACHP_345-04-PBMC-DNA.txt\n",
      "\n"
     ]
    },
    {
     "name": "stdout",
     "output_type": "stream",
     "text": [
      "[1] 772\n"
     ]
    },
    {
     "name": "stderr",
     "output_type": "stream",
     "text": [
      "number of non prodcutive CDR3s:\n",
      "\n"
     ]
    },
    {
     "name": "stdout",
     "output_type": "stream",
     "text": [
      "[1] 355\n"
     ]
    },
    {
     "name": "stderr",
     "output_type": "stream",
     "text": [
      "nonproductive aaCDR3 removed\n",
      "\n",
      "number of clones in file:batch3_19Aug2019/mixcr/clones/CLONES_TRACHP_345-05-PBMC-DNA.txt\n",
      "\n"
     ]
    },
    {
     "name": "stdout",
     "output_type": "stream",
     "text": [
      "[1] 468\n"
     ]
    },
    {
     "name": "stderr",
     "output_type": "stream",
     "text": [
      "number of non prodcutive CDR3s:\n",
      "\n"
     ]
    },
    {
     "name": "stdout",
     "output_type": "stream",
     "text": [
      "[1] 228\n"
     ]
    },
    {
     "name": "stderr",
     "output_type": "stream",
     "text": [
      "nonproductive aaCDR3 removed\n",
      "\n",
      "number of clones in file:batch3_19Aug2019/mixcr/clones/CLONES_TRACHP_350-05-PBMC-DNA.txt\n",
      "\n"
     ]
    },
    {
     "name": "stdout",
     "output_type": "stream",
     "text": [
      "[1] 226\n"
     ]
    },
    {
     "name": "stderr",
     "output_type": "stream",
     "text": [
      "number of non prodcutive CDR3s:\n",
      "\n"
     ]
    },
    {
     "name": "stdout",
     "output_type": "stream",
     "text": [
      "[1] 118\n"
     ]
    },
    {
     "name": "stderr",
     "output_type": "stream",
     "text": [
      "nonproductive aaCDR3 removed\n",
      "\n",
      "number of clones in file:batch3_19Aug2019/mixcr/clones/CLONES_TRACHP_358-03-PBMC-DNA.txt\n",
      "\n"
     ]
    },
    {
     "name": "stdout",
     "output_type": "stream",
     "text": [
      "[1] 3595\n"
     ]
    },
    {
     "name": "stderr",
     "output_type": "stream",
     "text": [
      "number of non prodcutive CDR3s:\n",
      "\n"
     ]
    },
    {
     "name": "stdout",
     "output_type": "stream",
     "text": [
      "[1] 1939\n"
     ]
    },
    {
     "name": "stderr",
     "output_type": "stream",
     "text": [
      "nonproductive aaCDR3 removed\n",
      "\n",
      "number of clones in file:batch3_19Aug2019/mixcr/clones/CLONES_TRACHP_358-05-PBMC-DNA.txt\n",
      "\n"
     ]
    },
    {
     "name": "stdout",
     "output_type": "stream",
     "text": [
      "[1] 4276\n"
     ]
    },
    {
     "name": "stderr",
     "output_type": "stream",
     "text": [
      "number of non prodcutive CDR3s:\n",
      "\n"
     ]
    },
    {
     "name": "stdout",
     "output_type": "stream",
     "text": [
      "[1] 2539\n"
     ]
    },
    {
     "name": "stderr",
     "output_type": "stream",
     "text": [
      "nonproductive aaCDR3 removed\n",
      "\n",
      "number of clones in file:batch3_19Aug2019/mixcr/clones/CLONES_TRACHP_360-03-PBMC-DNA.txt\n",
      "\n"
     ]
    },
    {
     "name": "stdout",
     "output_type": "stream",
     "text": [
      "[1] 1209\n"
     ]
    },
    {
     "name": "stderr",
     "output_type": "stream",
     "text": [
      "number of non prodcutive CDR3s:\n",
      "\n"
     ]
    },
    {
     "name": "stdout",
     "output_type": "stream",
     "text": [
      "[1] 584\n"
     ]
    },
    {
     "name": "stderr",
     "output_type": "stream",
     "text": [
      "nonproductive aaCDR3 removed\n",
      "\n",
      "number of clones in file:batch3_19Aug2019/mixcr/clones/CLONES_TRACHP_361-02-PBMC-DNA.txt\n",
      "\n"
     ]
    },
    {
     "name": "stdout",
     "output_type": "stream",
     "text": [
      "[1] 403\n"
     ]
    },
    {
     "name": "stderr",
     "output_type": "stream",
     "text": [
      "number of non prodcutive CDR3s:\n",
      "\n"
     ]
    },
    {
     "name": "stdout",
     "output_type": "stream",
     "text": [
      "[1] 184\n"
     ]
    },
    {
     "name": "stderr",
     "output_type": "stream",
     "text": [
      "nonproductive aaCDR3 removed\n",
      "\n",
      "number of clones in file:batch3_19Aug2019/mixcr/clones/CLONES_TRACHP_361-03-PBMC-DNA.txt\n",
      "\n"
     ]
    },
    {
     "name": "stdout",
     "output_type": "stream",
     "text": [
      "[1] 213\n"
     ]
    },
    {
     "name": "stderr",
     "output_type": "stream",
     "text": [
      "number of non prodcutive CDR3s:\n",
      "\n"
     ]
    },
    {
     "name": "stdout",
     "output_type": "stream",
     "text": [
      "[1] 113\n"
     ]
    },
    {
     "name": "stderr",
     "output_type": "stream",
     "text": [
      "nonproductive aaCDR3 removed\n",
      "\n",
      "number of clones in file:batch3_19Aug2019/mixcr/clones/CLONES_TRACHP_365-03-PBMC-DNA.txt\n",
      "\n"
     ]
    },
    {
     "name": "stdout",
     "output_type": "stream",
     "text": [
      "[1] 469\n"
     ]
    },
    {
     "name": "stderr",
     "output_type": "stream",
     "text": [
      "number of non prodcutive CDR3s:\n",
      "\n"
     ]
    },
    {
     "name": "stdout",
     "output_type": "stream",
     "text": [
      "[1] 208\n"
     ]
    },
    {
     "name": "stderr",
     "output_type": "stream",
     "text": [
      "nonproductive aaCDR3 removed\n",
      "\n",
      "number of clones in file:batch3_19Aug2019/mixcr/clones/CLONES_TRACHP_368-05-PBMC-DNA.txt\n",
      "\n"
     ]
    },
    {
     "name": "stdout",
     "output_type": "stream",
     "text": [
      "[1] 2539\n"
     ]
    },
    {
     "name": "stderr",
     "output_type": "stream",
     "text": [
      "number of non prodcutive CDR3s:\n",
      "\n"
     ]
    },
    {
     "name": "stdout",
     "output_type": "stream",
     "text": [
      "[1] 1451\n"
     ]
    },
    {
     "name": "stderr",
     "output_type": "stream",
     "text": [
      "nonproductive aaCDR3 removed\n",
      "\n",
      "number of clones in file:batch3_19Aug2019/mixcr/clones/CLONES_TRACHP_370-02-PBMC-DNA.txt\n",
      "\n"
     ]
    },
    {
     "name": "stdout",
     "output_type": "stream",
     "text": [
      "[1] 1906\n"
     ]
    },
    {
     "name": "stderr",
     "output_type": "stream",
     "text": [
      "number of non prodcutive CDR3s:\n",
      "\n"
     ]
    },
    {
     "name": "stdout",
     "output_type": "stream",
     "text": [
      "[1] 902\n"
     ]
    },
    {
     "name": "stderr",
     "output_type": "stream",
     "text": [
      "nonproductive aaCDR3 removed\n",
      "\n",
      "number of clones in file:batch3_19Aug2019/mixcr/clones/CLONES_TRACHP_373-01-PBMC-DNA.txt\n",
      "\n"
     ]
    },
    {
     "name": "stdout",
     "output_type": "stream",
     "text": [
      "[1] 1525\n"
     ]
    },
    {
     "name": "stderr",
     "output_type": "stream",
     "text": [
      "number of non prodcutive CDR3s:\n",
      "\n"
     ]
    },
    {
     "name": "stdout",
     "output_type": "stream",
     "text": [
      "[1] 848\n"
     ]
    },
    {
     "name": "stderr",
     "output_type": "stream",
     "text": [
      "nonproductive aaCDR3 removed\n",
      "\n",
      "number of clones in file:batch3_19Aug2019/mixcr/clones/CLONES_TRACHP_374-03-PBMC-DNA.txt\n",
      "\n"
     ]
    },
    {
     "name": "stdout",
     "output_type": "stream",
     "text": [
      "[1] 359\n"
     ]
    },
    {
     "name": "stderr",
     "output_type": "stream",
     "text": [
      "number of non prodcutive CDR3s:\n",
      "\n"
     ]
    },
    {
     "name": "stdout",
     "output_type": "stream",
     "text": [
      "[1] 180\n"
     ]
    },
    {
     "name": "stderr",
     "output_type": "stream",
     "text": [
      "nonproductive aaCDR3 removed\n",
      "\n",
      "number of clones in file:batch3_19Aug2019/mixcr/clones/CLONES_TRACHP_374-04-PBMC-DNA.txt\n",
      "\n"
     ]
    },
    {
     "name": "stdout",
     "output_type": "stream",
     "text": [
      "[1] 255\n"
     ]
    },
    {
     "name": "stderr",
     "output_type": "stream",
     "text": [
      "number of non prodcutive CDR3s:\n",
      "\n"
     ]
    },
    {
     "name": "stdout",
     "output_type": "stream",
     "text": [
      "[1] 118\n"
     ]
    },
    {
     "name": "stderr",
     "output_type": "stream",
     "text": [
      "nonproductive aaCDR3 removed\n",
      "\n",
      "number of clones in file:batch3_19Aug2019/mixcr/clones/CLONES_TRACHP_374-05-PBMC-DNA.txt\n",
      "\n"
     ]
    },
    {
     "name": "stdout",
     "output_type": "stream",
     "text": [
      "[1] 128\n"
     ]
    },
    {
     "name": "stderr",
     "output_type": "stream",
     "text": [
      "number of non prodcutive CDR3s:\n",
      "\n"
     ]
    },
    {
     "name": "stdout",
     "output_type": "stream",
     "text": [
      "[1] 79\n"
     ]
    },
    {
     "name": "stderr",
     "output_type": "stream",
     "text": [
      "nonproductive aaCDR3 removed\n",
      "\n",
      "number of clones in file:batch3_19Aug2019/mixcr/clones/CLONES_TRACHP_376-03-PBMC-DNA.txt\n",
      "\n"
     ]
    },
    {
     "name": "stdout",
     "output_type": "stream",
     "text": [
      "[1] 2627\n"
     ]
    },
    {
     "name": "stderr",
     "output_type": "stream",
     "text": [
      "number of non prodcutive CDR3s:\n",
      "\n"
     ]
    },
    {
     "name": "stdout",
     "output_type": "stream",
     "text": [
      "[1] 1521\n"
     ]
    },
    {
     "name": "stderr",
     "output_type": "stream",
     "text": [
      "nonproductive aaCDR3 removed\n",
      "\n",
      "number of clones in file:batch3_19Aug2019/mixcr/clones/CLONES_TRACHP_378-01-PBMC-DNA.txt\n",
      "\n"
     ]
    },
    {
     "name": "stdout",
     "output_type": "stream",
     "text": [
      "[1] 5945\n"
     ]
    },
    {
     "name": "stderr",
     "output_type": "stream",
     "text": [
      "number of non prodcutive CDR3s:\n",
      "\n"
     ]
    },
    {
     "name": "stdout",
     "output_type": "stream",
     "text": [
      "[1] 3809\n"
     ]
    },
    {
     "name": "stderr",
     "output_type": "stream",
     "text": [
      "nonproductive aaCDR3 removed\n",
      "\n",
      "number of clones in file:batch3_19Aug2019/mixcr/clones/CLONES_TRACHP_380-02-PBMC-DNA.txt\n",
      "\n"
     ]
    },
    {
     "name": "stdout",
     "output_type": "stream",
     "text": [
      "[1] 137\n"
     ]
    },
    {
     "name": "stderr",
     "output_type": "stream",
     "text": [
      "number of non prodcutive CDR3s:\n",
      "\n"
     ]
    },
    {
     "name": "stdout",
     "output_type": "stream",
     "text": [
      "[1] 56\n"
     ]
    },
    {
     "name": "stderr",
     "output_type": "stream",
     "text": [
      "nonproductive aaCDR3 removed\n",
      "\n",
      "number of clones in file:batch3_19Aug2019/mixcr/clones/CLONES_TRACHP_381-02-PBMC-DNA.txt\n",
      "\n"
     ]
    },
    {
     "name": "stdout",
     "output_type": "stream",
     "text": [
      "[1] 3879\n"
     ]
    },
    {
     "name": "stderr",
     "output_type": "stream",
     "text": [
      "number of non prodcutive CDR3s:\n",
      "\n"
     ]
    },
    {
     "name": "stdout",
     "output_type": "stream",
     "text": [
      "[1] 2083\n"
     ]
    },
    {
     "name": "stderr",
     "output_type": "stream",
     "text": [
      "nonproductive aaCDR3 removed\n",
      "\n",
      "number of clones in file:batch3a9_cfDNA_10Jul2020/mixcr/clones/CLONES_TRACHP_323-03_cfDNA.txt\n",
      "\n"
     ]
    },
    {
     "name": "stdout",
     "output_type": "stream",
     "text": [
      "[1] 369\n"
     ]
    },
    {
     "name": "stderr",
     "output_type": "stream",
     "text": [
      "number of non prodcutive CDR3s:\n",
      "\n"
     ]
    },
    {
     "name": "stdout",
     "output_type": "stream",
     "text": [
      "[1] 126\n"
     ]
    },
    {
     "name": "stderr",
     "output_type": "stream",
     "text": [
      "nonproductive aaCDR3 removed\n",
      "\n",
      "number of clones in file:batch3a9_cfDNA_10Jul2020/mixcr/clones/CLONES_TRACHP_330-04_cfDNA.txt\n",
      "\n"
     ]
    },
    {
     "name": "stdout",
     "output_type": "stream",
     "text": [
      "[1] 59\n"
     ]
    },
    {
     "name": "stderr",
     "output_type": "stream",
     "text": [
      "number of non prodcutive CDR3s:\n",
      "\n"
     ]
    },
    {
     "name": "stdout",
     "output_type": "stream",
     "text": [
      "[1] 31\n"
     ]
    },
    {
     "name": "stderr",
     "output_type": "stream",
     "text": [
      "nonproductive aaCDR3 removed\n",
      "\n",
      "number of clones in file:batch3a9_cfDNA_10Jul2020/mixcr/clones/CLONES_TRACHP_337-03_cfDNA.txt\n",
      "\n"
     ]
    },
    {
     "name": "stdout",
     "output_type": "stream",
     "text": [
      "[1] 89\n"
     ]
    },
    {
     "name": "stderr",
     "output_type": "stream",
     "text": [
      "number of non prodcutive CDR3s:\n",
      "\n"
     ]
    },
    {
     "name": "stdout",
     "output_type": "stream",
     "text": [
      "[1] 40\n"
     ]
    },
    {
     "name": "stderr",
     "output_type": "stream",
     "text": [
      "nonproductive aaCDR3 removed\n",
      "\n",
      "number of clones in file:batch3a9_cfDNA_10Jul2020/mixcr/clones/CLONES_TRACHP_337-04_cfDNA.txt\n",
      "\n"
     ]
    },
    {
     "name": "stdout",
     "output_type": "stream",
     "text": [
      "[1] 46\n"
     ]
    },
    {
     "name": "stderr",
     "output_type": "stream",
     "text": [
      "number of non prodcutive CDR3s:\n",
      "\n"
     ]
    },
    {
     "name": "stdout",
     "output_type": "stream",
     "text": [
      "[1] 22\n"
     ]
    },
    {
     "name": "stderr",
     "output_type": "stream",
     "text": [
      "nonproductive aaCDR3 removed\n",
      "\n",
      "number of clones in file:batch3a9_cfDNA_10Jul2020/mixcr/clones/CLONES_TRACHP_344-02_cfDNA.txt\n",
      "\n"
     ]
    },
    {
     "name": "stdout",
     "output_type": "stream",
     "text": [
      "[1] 44\n"
     ]
    },
    {
     "name": "stderr",
     "output_type": "stream",
     "text": [
      "number of non prodcutive CDR3s:\n",
      "\n"
     ]
    },
    {
     "name": "stdout",
     "output_type": "stream",
     "text": [
      "[1] 24\n"
     ]
    },
    {
     "name": "stderr",
     "output_type": "stream",
     "text": [
      "nonproductive aaCDR3 removed\n",
      "\n",
      "number of clones in file:batch3a9_cfDNA_10Jul2020/mixcr/clones/CLONES_TRACHP_344-04_cfDNA.txt\n",
      "\n"
     ]
    },
    {
     "name": "stdout",
     "output_type": "stream",
     "text": [
      "[1] 91\n"
     ]
    },
    {
     "name": "stderr",
     "output_type": "stream",
     "text": [
      "number of non prodcutive CDR3s:\n",
      "\n"
     ]
    },
    {
     "name": "stdout",
     "output_type": "stream",
     "text": [
      "[1] 46\n"
     ]
    },
    {
     "name": "stderr",
     "output_type": "stream",
     "text": [
      "nonproductive aaCDR3 removed\n",
      "\n",
      "number of clones in file:batch3a9_cfDNA_10Jul2020/mixcr/clones/CLONES_TRACHP_344-05_cfDNA.txt\n",
      "\n"
     ]
    },
    {
     "name": "stdout",
     "output_type": "stream",
     "text": [
      "[1] 25\n"
     ]
    },
    {
     "name": "stderr",
     "output_type": "stream",
     "text": [
      "number of non prodcutive CDR3s:\n",
      "\n"
     ]
    },
    {
     "name": "stdout",
     "output_type": "stream",
     "text": [
      "[1] 9\n"
     ]
    },
    {
     "name": "stderr",
     "output_type": "stream",
     "text": [
      "nonproductive aaCDR3 removed\n",
      "\n",
      "number of clones in file:batch3a9_cfDNA_10Jul2020/mixcr/clones/CLONES_TRACHP_345-01_cfDNA.txt\n",
      "\n"
     ]
    },
    {
     "name": "stdout",
     "output_type": "stream",
     "text": [
      "[1] 314\n"
     ]
    },
    {
     "name": "stderr",
     "output_type": "stream",
     "text": [
      "number of non prodcutive CDR3s:\n",
      "\n"
     ]
    },
    {
     "name": "stdout",
     "output_type": "stream",
     "text": [
      "[1] 153\n"
     ]
    },
    {
     "name": "stderr",
     "output_type": "stream",
     "text": [
      "nonproductive aaCDR3 removed\n",
      "\n",
      "number of clones in file:batch3a9_cfDNA_10Jul2020/mixcr/clones/CLONES_TRACHP_353-02_cfDNA.txt\n",
      "\n"
     ]
    },
    {
     "name": "stdout",
     "output_type": "stream",
     "text": [
      "[1] 146\n"
     ]
    },
    {
     "name": "stderr",
     "output_type": "stream",
     "text": [
      "number of non prodcutive CDR3s:\n",
      "\n"
     ]
    },
    {
     "name": "stdout",
     "output_type": "stream",
     "text": [
      "[1] 63\n"
     ]
    },
    {
     "name": "stderr",
     "output_type": "stream",
     "text": [
      "nonproductive aaCDR3 removed\n",
      "\n",
      "number of clones in file:batch3a9_cfDNA_10Jul2020/mixcr/clones/CLONES_TRACHP_353-04_cfDNA.txt\n",
      "\n"
     ]
    },
    {
     "name": "stdout",
     "output_type": "stream",
     "text": [
      "[1] 134\n"
     ]
    },
    {
     "name": "stderr",
     "output_type": "stream",
     "text": [
      "number of non prodcutive CDR3s:\n",
      "\n"
     ]
    },
    {
     "name": "stdout",
     "output_type": "stream",
     "text": [
      "[1] 47\n"
     ]
    },
    {
     "name": "stderr",
     "output_type": "stream",
     "text": [
      "nonproductive aaCDR3 removed\n",
      "\n",
      "number of clones in file:batch3a9_cfDNA_10Jul2020/mixcr/clones/CLONES_TRACHP_357-01_cfDNA.txt\n",
      "\n"
     ]
    },
    {
     "name": "stdout",
     "output_type": "stream",
     "text": [
      "[1] 145\n"
     ]
    },
    {
     "name": "stderr",
     "output_type": "stream",
     "text": [
      "number of non prodcutive CDR3s:\n",
      "\n"
     ]
    },
    {
     "name": "stdout",
     "output_type": "stream",
     "text": [
      "[1] 53\n"
     ]
    },
    {
     "name": "stderr",
     "output_type": "stream",
     "text": [
      "nonproductive aaCDR3 removed\n",
      "\n",
      "number of clones in file:batch3a9_cfDNA_10Jul2020/mixcr/clones/CLONES_TRACHP_357-04_cfDNA.txt\n",
      "\n"
     ]
    },
    {
     "name": "stdout",
     "output_type": "stream",
     "text": [
      "[1] 39\n"
     ]
    },
    {
     "name": "stderr",
     "output_type": "stream",
     "text": [
      "number of non prodcutive CDR3s:\n",
      "\n"
     ]
    },
    {
     "name": "stdout",
     "output_type": "stream",
     "text": [
      "[1] 17\n"
     ]
    },
    {
     "name": "stderr",
     "output_type": "stream",
     "text": [
      "nonproductive aaCDR3 removed\n",
      "\n",
      "number of clones in file:batch3a9_cfDNA_10Jul2020/mixcr/clones/CLONES_TRACHP_358-01_cfDNA.txt\n",
      "\n"
     ]
    },
    {
     "name": "stdout",
     "output_type": "stream",
     "text": [
      "[1] 606\n"
     ]
    },
    {
     "name": "stderr",
     "output_type": "stream",
     "text": [
      "number of non prodcutive CDR3s:\n",
      "\n"
     ]
    },
    {
     "name": "stdout",
     "output_type": "stream",
     "text": [
      "[1] 333\n"
     ]
    },
    {
     "name": "stderr",
     "output_type": "stream",
     "text": [
      "nonproductive aaCDR3 removed\n",
      "\n",
      "number of clones in file:batch3a9_cfDNA_10Jul2020/mixcr/clones/CLONES_TRACHP_358-03_cfDNA.txt\n",
      "\n"
     ]
    },
    {
     "name": "stdout",
     "output_type": "stream",
     "text": [
      "[1] 193\n"
     ]
    },
    {
     "name": "stderr",
     "output_type": "stream",
     "text": [
      "number of non prodcutive CDR3s:\n",
      "\n"
     ]
    },
    {
     "name": "stdout",
     "output_type": "stream",
     "text": [
      "[1] 78\n"
     ]
    },
    {
     "name": "stderr",
     "output_type": "stream",
     "text": [
      "nonproductive aaCDR3 removed\n",
      "\n",
      "number of clones in file:batch3a9_cfDNA_10Jul2020/mixcr/clones/CLONES_TRACHP_359-02_cfDNA.txt\n",
      "\n"
     ]
    },
    {
     "name": "stdout",
     "output_type": "stream",
     "text": [
      "[1] 212\n"
     ]
    },
    {
     "name": "stderr",
     "output_type": "stream",
     "text": [
      "number of non prodcutive CDR3s:\n",
      "\n"
     ]
    },
    {
     "name": "stdout",
     "output_type": "stream",
     "text": [
      "[1] 79\n"
     ]
    },
    {
     "name": "stderr",
     "output_type": "stream",
     "text": [
      "nonproductive aaCDR3 removed\n",
      "\n",
      "number of clones in file:batch3a9_cfDNA_10Jul2020/mixcr/clones/CLONES_TRACHP_362-03_cfDNA.txt\n",
      "\n"
     ]
    },
    {
     "name": "stdout",
     "output_type": "stream",
     "text": [
      "[1] 36\n"
     ]
    },
    {
     "name": "stderr",
     "output_type": "stream",
     "text": [
      "number of non prodcutive CDR3s:\n",
      "\n"
     ]
    },
    {
     "name": "stdout",
     "output_type": "stream",
     "text": [
      "[1] 16\n"
     ]
    },
    {
     "name": "stderr",
     "output_type": "stream",
     "text": [
      "nonproductive aaCDR3 removed\n",
      "\n",
      "number of clones in file:batch3a9_cfDNA_10Jul2020/mixcr/clones/CLONES_TRACHP_366-01_cfDNA.txt\n",
      "\n"
     ]
    },
    {
     "name": "stdout",
     "output_type": "stream",
     "text": [
      "[1] 143\n"
     ]
    },
    {
     "name": "stderr",
     "output_type": "stream",
     "text": [
      "number of non prodcutive CDR3s:\n",
      "\n"
     ]
    },
    {
     "name": "stdout",
     "output_type": "stream",
     "text": [
      "[1] 58\n"
     ]
    },
    {
     "name": "stderr",
     "output_type": "stream",
     "text": [
      "nonproductive aaCDR3 removed\n",
      "\n",
      "number of clones in file:batch3a9_cfDNA_10Jul2020/mixcr/clones/CLONES_TRACHP_368-02_cfDNA.txt\n",
      "\n"
     ]
    },
    {
     "name": "stdout",
     "output_type": "stream",
     "text": [
      "[1] 56\n"
     ]
    },
    {
     "name": "stderr",
     "output_type": "stream",
     "text": [
      "number of non prodcutive CDR3s:\n",
      "\n"
     ]
    },
    {
     "name": "stdout",
     "output_type": "stream",
     "text": [
      "[1] 37\n"
     ]
    },
    {
     "name": "stderr",
     "output_type": "stream",
     "text": [
      "nonproductive aaCDR3 removed\n",
      "\n",
      "number of clones in file:batch3a9_cfDNA_10Jul2020/mixcr/clones/CLONES_TRACHP_370-03_cfDNA.txt\n",
      "\n"
     ]
    },
    {
     "name": "stdout",
     "output_type": "stream",
     "text": [
      "[1] 51\n"
     ]
    },
    {
     "name": "stderr",
     "output_type": "stream",
     "text": [
      "number of non prodcutive CDR3s:\n",
      "\n"
     ]
    },
    {
     "name": "stdout",
     "output_type": "stream",
     "text": [
      "[1] 25\n"
     ]
    },
    {
     "name": "stderr",
     "output_type": "stream",
     "text": [
      "nonproductive aaCDR3 removed\n",
      "\n",
      "number of clones in file:batch3a9_cfDNA_10Jul2020/mixcr/clones/CLONES_TRACHP_371-04_cfDNA.txt\n",
      "\n"
     ]
    },
    {
     "name": "stdout",
     "output_type": "stream",
     "text": [
      "[1] 13\n"
     ]
    },
    {
     "name": "stderr",
     "output_type": "stream",
     "text": [
      "number of non prodcutive CDR3s:\n",
      "\n"
     ]
    },
    {
     "name": "stdout",
     "output_type": "stream",
     "text": [
      "[1] 3\n"
     ]
    },
    {
     "name": "stderr",
     "output_type": "stream",
     "text": [
      "nonproductive aaCDR3 removed\n",
      "\n",
      "number of clones in file:batch3a9_cfDNA_10Jul2020/mixcr/clones/CLONES_TRACHP_373-02_cfDNA.txt\n",
      "\n"
     ]
    },
    {
     "name": "stdout",
     "output_type": "stream",
     "text": [
      "[1] 53\n"
     ]
    },
    {
     "name": "stderr",
     "output_type": "stream",
     "text": [
      "number of non prodcutive CDR3s:\n",
      "\n"
     ]
    },
    {
     "name": "stdout",
     "output_type": "stream",
     "text": [
      "[1] 23\n"
     ]
    },
    {
     "name": "stderr",
     "output_type": "stream",
     "text": [
      "nonproductive aaCDR3 removed\n",
      "\n",
      "number of clones in file:batch3a9_cfDNA_10Jul2020/mixcr/clones/CLONES_TRACHP_381-01_cfDNA.txt\n",
      "\n"
     ]
    },
    {
     "name": "stdout",
     "output_type": "stream",
     "text": [
      "[1] 64\n"
     ]
    },
    {
     "name": "stderr",
     "output_type": "stream",
     "text": [
      "number of non prodcutive CDR3s:\n",
      "\n"
     ]
    },
    {
     "name": "stdout",
     "output_type": "stream",
     "text": [
      "[1] 29\n"
     ]
    },
    {
     "name": "stderr",
     "output_type": "stream",
     "text": [
      "nonproductive aaCDR3 removed\n",
      "\n",
      "number of clones in file:batch4_19Aug2019/mixcr/clones/CLONES_TRACHP_303-05-PBMC-DNA.txt\n",
      "\n"
     ]
    },
    {
     "name": "stdout",
     "output_type": "stream",
     "text": [
      "[1] 542\n"
     ]
    },
    {
     "name": "stderr",
     "output_type": "stream",
     "text": [
      "number of non prodcutive CDR3s:\n",
      "\n"
     ]
    },
    {
     "name": "stdout",
     "output_type": "stream",
     "text": [
      "[1] 223\n"
     ]
    },
    {
     "name": "stderr",
     "output_type": "stream",
     "text": [
      "nonproductive aaCDR3 removed\n",
      "\n",
      "number of clones in file:batch4_19Aug2019/mixcr/clones/CLONES_TRACHP_323-03-PBMC-DNA.txt\n",
      "\n"
     ]
    },
    {
     "name": "stdout",
     "output_type": "stream",
     "text": [
      "[1] 138\n"
     ]
    },
    {
     "name": "stderr",
     "output_type": "stream",
     "text": [
      "number of non prodcutive CDR3s:\n",
      "\n"
     ]
    },
    {
     "name": "stdout",
     "output_type": "stream",
     "text": [
      "[1] 66\n"
     ]
    },
    {
     "name": "stderr",
     "output_type": "stream",
     "text": [
      "nonproductive aaCDR3 removed\n",
      "\n",
      "number of clones in file:batch4_19Aug2019/mixcr/clones/CLONES_TRACHP_338-03-PBMC-DNA.txt\n",
      "\n"
     ]
    },
    {
     "name": "stdout",
     "output_type": "stream",
     "text": [
      "[1] 1414\n"
     ]
    },
    {
     "name": "stderr",
     "output_type": "stream",
     "text": [
      "number of non prodcutive CDR3s:\n",
      "\n"
     ]
    },
    {
     "name": "stdout",
     "output_type": "stream",
     "text": [
      "[1] 776\n"
     ]
    },
    {
     "name": "stderr",
     "output_type": "stream",
     "text": [
      "nonproductive aaCDR3 removed\n",
      "\n",
      "number of clones in file:batch4_19Aug2019/mixcr/clones/CLONES_TRACHP_339-03-PBMC-DNA.txt\n",
      "\n"
     ]
    },
    {
     "name": "stdout",
     "output_type": "stream",
     "text": [
      "[1] 81\n"
     ]
    },
    {
     "name": "stderr",
     "output_type": "stream",
     "text": [
      "number of non prodcutive CDR3s:\n",
      "\n"
     ]
    },
    {
     "name": "stdout",
     "output_type": "stream",
     "text": [
      "[1] 44\n"
     ]
    },
    {
     "name": "stderr",
     "output_type": "stream",
     "text": [
      "nonproductive aaCDR3 removed\n",
      "\n",
      "number of clones in file:batch4_19Aug2019/mixcr/clones/CLONES_TRACHP_340-03-PBMC-DNA.txt\n",
      "\n"
     ]
    },
    {
     "name": "stdout",
     "output_type": "stream",
     "text": [
      "[1] 258\n"
     ]
    },
    {
     "name": "stderr",
     "output_type": "stream",
     "text": [
      "number of non prodcutive CDR3s:\n",
      "\n"
     ]
    },
    {
     "name": "stdout",
     "output_type": "stream",
     "text": [
      "[1] 122\n"
     ]
    },
    {
     "name": "stderr",
     "output_type": "stream",
     "text": [
      "nonproductive aaCDR3 removed\n",
      "\n",
      "number of clones in file:batch4_19Aug2019/mixcr/clones/CLONES_TRACHP_344-05-PBMC-DNA.txt\n",
      "\n"
     ]
    },
    {
     "name": "stdout",
     "output_type": "stream",
     "text": [
      "[1] 369\n"
     ]
    },
    {
     "name": "stderr",
     "output_type": "stream",
     "text": [
      "number of non prodcutive CDR3s:\n",
      "\n"
     ]
    },
    {
     "name": "stdout",
     "output_type": "stream",
     "text": [
      "[1] 174\n"
     ]
    },
    {
     "name": "stderr",
     "output_type": "stream",
     "text": [
      "nonproductive aaCDR3 removed\n",
      "\n",
      "number of clones in file:batch4_19Aug2019/mixcr/clones/CLONES_TRACHP_345-02-PBMC-DNA.txt\n",
      "\n"
     ]
    },
    {
     "name": "stdout",
     "output_type": "stream",
     "text": [
      "[1] 392\n"
     ]
    },
    {
     "name": "stderr",
     "output_type": "stream",
     "text": [
      "number of non prodcutive CDR3s:\n",
      "\n"
     ]
    },
    {
     "name": "stdout",
     "output_type": "stream",
     "text": [
      "[1] 199\n"
     ]
    },
    {
     "name": "stderr",
     "output_type": "stream",
     "text": [
      "nonproductive aaCDR3 removed\n",
      "\n",
      "number of clones in file:batch4_19Aug2019/mixcr/clones/CLONES_TRACHP_347-01-PBMC-DNA.txt\n",
      "\n"
     ]
    },
    {
     "name": "stdout",
     "output_type": "stream",
     "text": [
      "[1] 357\n"
     ]
    },
    {
     "name": "stderr",
     "output_type": "stream",
     "text": [
      "number of non prodcutive CDR3s:\n",
      "\n"
     ]
    },
    {
     "name": "stdout",
     "output_type": "stream",
     "text": [
      "[1] 151\n"
     ]
    },
    {
     "name": "stderr",
     "output_type": "stream",
     "text": [
      "nonproductive aaCDR3 removed\n",
      "\n",
      "number of clones in file:batch4_19Aug2019/mixcr/clones/CLONES_TRACHP_347-02-PBMC-DNA.txt\n",
      "\n"
     ]
    },
    {
     "name": "stdout",
     "output_type": "stream",
     "text": [
      "[1] 788\n"
     ]
    },
    {
     "name": "stderr",
     "output_type": "stream",
     "text": [
      "number of non prodcutive CDR3s:\n",
      "\n"
     ]
    },
    {
     "name": "stdout",
     "output_type": "stream",
     "text": [
      "[1] 323\n"
     ]
    },
    {
     "name": "stderr",
     "output_type": "stream",
     "text": [
      "nonproductive aaCDR3 removed\n",
      "\n",
      "number of clones in file:batch4_19Aug2019/mixcr/clones/CLONES_TRACHP_355-01-PBMC-DNA.txt\n",
      "\n"
     ]
    },
    {
     "name": "stdout",
     "output_type": "stream",
     "text": [
      "[1] 65\n"
     ]
    },
    {
     "name": "stderr",
     "output_type": "stream",
     "text": [
      "number of non prodcutive CDR3s:\n",
      "\n"
     ]
    },
    {
     "name": "stdout",
     "output_type": "stream",
     "text": [
      "[1] 37\n"
     ]
    },
    {
     "name": "stderr",
     "output_type": "stream",
     "text": [
      "nonproductive aaCDR3 removed\n",
      "\n",
      "number of clones in file:batch4_19Aug2019/mixcr/clones/CLONES_TRACHP_355-02-PBMC-DNA.txt\n",
      "\n"
     ]
    },
    {
     "name": "stdout",
     "output_type": "stream",
     "text": [
      "[1] 123\n"
     ]
    },
    {
     "name": "stderr",
     "output_type": "stream",
     "text": [
      "number of non prodcutive CDR3s:\n",
      "\n"
     ]
    },
    {
     "name": "stdout",
     "output_type": "stream",
     "text": [
      "[1] 66\n"
     ]
    },
    {
     "name": "stderr",
     "output_type": "stream",
     "text": [
      "nonproductive aaCDR3 removed\n",
      "\n",
      "number of clones in file:batch4_19Aug2019/mixcr/clones/CLONES_TRACHP_357-01-PBMC-DNA.txt\n",
      "\n"
     ]
    },
    {
     "name": "stdout",
     "output_type": "stream",
     "text": [
      "[1] 610\n"
     ]
    },
    {
     "name": "stderr",
     "output_type": "stream",
     "text": [
      "number of non prodcutive CDR3s:\n",
      "\n"
     ]
    },
    {
     "name": "stdout",
     "output_type": "stream",
     "text": [
      "[1] 263\n"
     ]
    },
    {
     "name": "stderr",
     "output_type": "stream",
     "text": [
      "nonproductive aaCDR3 removed\n",
      "\n",
      "number of clones in file:batch4_19Aug2019/mixcr/clones/CLONES_TRACHP_361-01-PBMC-DNA.txt\n",
      "\n"
     ]
    },
    {
     "name": "stdout",
     "output_type": "stream",
     "text": [
      "[1] 311\n"
     ]
    },
    {
     "name": "stderr",
     "output_type": "stream",
     "text": [
      "number of non prodcutive CDR3s:\n",
      "\n"
     ]
    },
    {
     "name": "stdout",
     "output_type": "stream",
     "text": [
      "[1] 160\n"
     ]
    },
    {
     "name": "stderr",
     "output_type": "stream",
     "text": [
      "nonproductive aaCDR3 removed\n",
      "\n",
      "number of clones in file:batch4_19Aug2019/mixcr/clones/CLONES_TRACHP_363-02-PBMC-DNA.txt\n",
      "\n"
     ]
    },
    {
     "name": "stdout",
     "output_type": "stream",
     "text": [
      "[1] 942\n"
     ]
    },
    {
     "name": "stderr",
     "output_type": "stream",
     "text": [
      "number of non prodcutive CDR3s:\n",
      "\n"
     ]
    },
    {
     "name": "stdout",
     "output_type": "stream",
     "text": [
      "[1] 471\n"
     ]
    },
    {
     "name": "stderr",
     "output_type": "stream",
     "text": [
      "nonproductive aaCDR3 removed\n",
      "\n",
      "number of clones in file:batch4_19Aug2019/mixcr/clones/CLONES_TRACHP_364-01-PBMC-DNA.txt\n",
      "\n"
     ]
    },
    {
     "name": "stdout",
     "output_type": "stream",
     "text": [
      "[1] 425\n"
     ]
    },
    {
     "name": "stderr",
     "output_type": "stream",
     "text": [
      "number of non prodcutive CDR3s:\n",
      "\n"
     ]
    },
    {
     "name": "stdout",
     "output_type": "stream",
     "text": [
      "[1] 230\n"
     ]
    },
    {
     "name": "stderr",
     "output_type": "stream",
     "text": [
      "nonproductive aaCDR3 removed\n",
      "\n",
      "number of clones in file:batch4_19Aug2019/mixcr/clones/CLONES_TRACHP_364-02-PBMC-DNA.txt\n",
      "\n"
     ]
    },
    {
     "name": "stdout",
     "output_type": "stream",
     "text": [
      "[1] 309\n"
     ]
    },
    {
     "name": "stderr",
     "output_type": "stream",
     "text": [
      "number of non prodcutive CDR3s:\n",
      "\n"
     ]
    },
    {
     "name": "stdout",
     "output_type": "stream",
     "text": [
      "[1] 159\n"
     ]
    },
    {
     "name": "stderr",
     "output_type": "stream",
     "text": [
      "nonproductive aaCDR3 removed\n",
      "\n",
      "number of clones in file:batch4_19Aug2019/mixcr/clones/CLONES_TRACHP_364-04-PBMC-DNA.txt\n",
      "\n"
     ]
    },
    {
     "name": "stdout",
     "output_type": "stream",
     "text": [
      "[1] 480\n"
     ]
    },
    {
     "name": "stderr",
     "output_type": "stream",
     "text": [
      "number of non prodcutive CDR3s:\n",
      "\n"
     ]
    },
    {
     "name": "stdout",
     "output_type": "stream",
     "text": [
      "[1] 259\n"
     ]
    },
    {
     "name": "stderr",
     "output_type": "stream",
     "text": [
      "nonproductive aaCDR3 removed\n",
      "\n",
      "number of clones in file:batch5_cfDNA_25Jun2020/mixcr/clones/CLONES_TRACHP_324-04_cfDNA.txt\n",
      "\n"
     ]
    },
    {
     "name": "stdout",
     "output_type": "stream",
     "text": [
      "[1] 9\n"
     ]
    },
    {
     "name": "stderr",
     "output_type": "stream",
     "text": [
      "number of non prodcutive CDR3s:\n",
      "\n"
     ]
    },
    {
     "name": "stdout",
     "output_type": "stream",
     "text": [
      "[1] 4\n"
     ]
    },
    {
     "name": "stderr",
     "output_type": "stream",
     "text": [
      "nonproductive aaCDR3 removed\n",
      "\n",
      "number of clones in file:batch5_cfDNA_25Jun2020/mixcr/clones/CLONES_TRACHP_328-04_cfDNA.txt\n",
      "\n"
     ]
    },
    {
     "name": "stdout",
     "output_type": "stream",
     "text": [
      "[1] 13\n"
     ]
    },
    {
     "name": "stderr",
     "output_type": "stream",
     "text": [
      "number of non prodcutive CDR3s:\n",
      "\n"
     ]
    },
    {
     "name": "stdout",
     "output_type": "stream",
     "text": [
      "[1] 5\n"
     ]
    },
    {
     "name": "stderr",
     "output_type": "stream",
     "text": [
      "nonproductive aaCDR3 removed\n",
      "\n",
      "number of clones in file:batch5_cfDNA_25Jun2020/mixcr/clones/CLONES_TRACHP_333-05_cfDNA.txt\n",
      "\n"
     ]
    },
    {
     "name": "stdout",
     "output_type": "stream",
     "text": [
      "[1] 10\n"
     ]
    },
    {
     "name": "stderr",
     "output_type": "stream",
     "text": [
      "number of non prodcutive CDR3s:\n",
      "\n"
     ]
    },
    {
     "name": "stdout",
     "output_type": "stream",
     "text": [
      "[1] 6\n"
     ]
    },
    {
     "name": "stderr",
     "output_type": "stream",
     "text": [
      "nonproductive aaCDR3 removed\n",
      "\n",
      "number of clones in file:batch5_cfDNA_25Jun2020/mixcr/clones/CLONES_TRACHP_334-02_cfDNA.txt\n",
      "\n"
     ]
    },
    {
     "name": "stdout",
     "output_type": "stream",
     "text": [
      "[1] 13\n"
     ]
    },
    {
     "name": "stderr",
     "output_type": "stream",
     "text": [
      "number of non prodcutive CDR3s:\n",
      "\n"
     ]
    },
    {
     "name": "stdout",
     "output_type": "stream",
     "text": [
      "[1] 3\n"
     ]
    },
    {
     "name": "stderr",
     "output_type": "stream",
     "text": [
      "nonproductive aaCDR3 removed\n",
      "\n",
      "number of clones in file:batch5_cfDNA_25Jun2020/mixcr/clones/CLONES_TRACHP_335-04_cfDNA.txt\n",
      "\n"
     ]
    },
    {
     "name": "stdout",
     "output_type": "stream",
     "text": [
      "[1] 338\n"
     ]
    },
    {
     "name": "stderr",
     "output_type": "stream",
     "text": [
      "number of non prodcutive CDR3s:\n",
      "\n"
     ]
    },
    {
     "name": "stdout",
     "output_type": "stream",
     "text": [
      "[1] 174\n"
     ]
    },
    {
     "name": "stderr",
     "output_type": "stream",
     "text": [
      "nonproductive aaCDR3 removed\n",
      "\n",
      "number of clones in file:batch5_cfDNA_25Jun2020/mixcr/clones/CLONES_TRACHP_335-05_cfDNA.txt\n",
      "\n"
     ]
    },
    {
     "name": "stdout",
     "output_type": "stream",
     "text": [
      "[1] 194\n"
     ]
    },
    {
     "name": "stderr",
     "output_type": "stream",
     "text": [
      "number of non prodcutive CDR3s:\n",
      "\n"
     ]
    },
    {
     "name": "stdout",
     "output_type": "stream",
     "text": [
      "[1] 96\n"
     ]
    },
    {
     "name": "stderr",
     "output_type": "stream",
     "text": [
      "nonproductive aaCDR3 removed\n",
      "\n",
      "number of clones in file:batch5_cfDNA_25Jun2020/mixcr/clones/CLONES_TRACHP_339-04_cfDNA.txt\n",
      "\n"
     ]
    },
    {
     "name": "stdout",
     "output_type": "stream",
     "text": [
      "[1] 255\n"
     ]
    },
    {
     "name": "stderr",
     "output_type": "stream",
     "text": [
      "number of non prodcutive CDR3s:\n",
      "\n"
     ]
    },
    {
     "name": "stdout",
     "output_type": "stream",
     "text": [
      "[1] 84\n"
     ]
    },
    {
     "name": "stderr",
     "output_type": "stream",
     "text": [
      "nonproductive aaCDR3 removed\n",
      "\n",
      "number of clones in file:batch5_cfDNA_25Jun2020/mixcr/clones/CLONES_TRACHP_340-03_cfDNA.txt\n",
      "\n"
     ]
    },
    {
     "name": "stdout",
     "output_type": "stream",
     "text": [
      "[1] 39\n"
     ]
    },
    {
     "name": "stderr",
     "output_type": "stream",
     "text": [
      "number of non prodcutive CDR3s:\n",
      "\n"
     ]
    },
    {
     "name": "stdout",
     "output_type": "stream",
     "text": [
      "[1] 20\n"
     ]
    },
    {
     "name": "stderr",
     "output_type": "stream",
     "text": [
      "nonproductive aaCDR3 removed\n",
      "\n",
      "number of clones in file:batch5_cfDNA_25Jun2020/mixcr/clones/CLONES_TRACHP_344-01_cfDNA.txt\n",
      "\n"
     ]
    },
    {
     "name": "stdout",
     "output_type": "stream",
     "text": [
      "[1] 57\n"
     ]
    },
    {
     "name": "stderr",
     "output_type": "stream",
     "text": [
      "number of non prodcutive CDR3s:\n",
      "\n"
     ]
    },
    {
     "name": "stdout",
     "output_type": "stream",
     "text": [
      "[1] 42\n"
     ]
    },
    {
     "name": "stderr",
     "output_type": "stream",
     "text": [
      "nonproductive aaCDR3 removed\n",
      "\n",
      "number of clones in file:batch5_cfDNA_25Jun2020/mixcr/clones/CLONES_TRACHP_345-02_cfDNA.txt\n",
      "\n"
     ]
    },
    {
     "name": "stdout",
     "output_type": "stream",
     "text": [
      "[1] 95\n"
     ]
    },
    {
     "name": "stderr",
     "output_type": "stream",
     "text": [
      "number of non prodcutive CDR3s:\n",
      "\n"
     ]
    },
    {
     "name": "stdout",
     "output_type": "stream",
     "text": [
      "[1] 50\n"
     ]
    },
    {
     "name": "stderr",
     "output_type": "stream",
     "text": [
      "nonproductive aaCDR3 removed\n",
      "\n",
      "number of clones in file:batch5_cfDNA_25Jun2020/mixcr/clones/CLONES_TRACHP_347-02_cfDNA.txt\n",
      "\n"
     ]
    },
    {
     "name": "stdout",
     "output_type": "stream",
     "text": [
      "[1] 42\n"
     ]
    },
    {
     "name": "stderr",
     "output_type": "stream",
     "text": [
      "number of non prodcutive CDR3s:\n",
      "\n"
     ]
    },
    {
     "name": "stdout",
     "output_type": "stream",
     "text": [
      "[1] 30\n"
     ]
    },
    {
     "name": "stderr",
     "output_type": "stream",
     "text": [
      "nonproductive aaCDR3 removed\n",
      "\n",
      "number of clones in file:batch5_cfDNA_25Jun2020/mixcr/clones/CLONES_TRACHP_351-03_cfDNA.txt\n",
      "\n"
     ]
    },
    {
     "name": "stdout",
     "output_type": "stream",
     "text": [
      "[1] 28\n"
     ]
    },
    {
     "name": "stderr",
     "output_type": "stream",
     "text": [
      "number of non prodcutive CDR3s:\n",
      "\n"
     ]
    },
    {
     "name": "stdout",
     "output_type": "stream",
     "text": [
      "[1] 10\n"
     ]
    },
    {
     "name": "stderr",
     "output_type": "stream",
     "text": [
      "nonproductive aaCDR3 removed\n",
      "\n",
      "number of clones in file:batch5_cfDNA_25Jun2020/mixcr/clones/CLONES_TRACHP_355-02_cfDNA.txt\n",
      "\n"
     ]
    },
    {
     "name": "stdout",
     "output_type": "stream",
     "text": [
      "[1] 39\n"
     ]
    },
    {
     "name": "stderr",
     "output_type": "stream",
     "text": [
      "number of non prodcutive CDR3s:\n",
      "\n"
     ]
    },
    {
     "name": "stdout",
     "output_type": "stream",
     "text": [
      "[1] 22\n"
     ]
    },
    {
     "name": "stderr",
     "output_type": "stream",
     "text": [
      "nonproductive aaCDR3 removed\n",
      "\n",
      "number of clones in file:batch5_cfDNA_25Jun2020/mixcr/clones/CLONES_TRACHP_357-05_cfDNA.txt\n",
      "\n"
     ]
    },
    {
     "name": "stdout",
     "output_type": "stream",
     "text": [
      "[1] 70\n"
     ]
    },
    {
     "name": "stderr",
     "output_type": "stream",
     "text": [
      "number of non prodcutive CDR3s:\n",
      "\n"
     ]
    },
    {
     "name": "stdout",
     "output_type": "stream",
     "text": [
      "[1] 29\n"
     ]
    },
    {
     "name": "stderr",
     "output_type": "stream",
     "text": [
      "nonproductive aaCDR3 removed\n",
      "\n",
      "number of clones in file:batch5_cfDNA_25Jun2020/mixcr/clones/CLONES_TRACHP_360-01_cfDNA.txt\n",
      "\n"
     ]
    },
    {
     "name": "stdout",
     "output_type": "stream",
     "text": [
      "[1] 213\n"
     ]
    },
    {
     "name": "stderr",
     "output_type": "stream",
     "text": [
      "number of non prodcutive CDR3s:\n",
      "\n"
     ]
    },
    {
     "name": "stdout",
     "output_type": "stream",
     "text": [
      "[1] 97\n"
     ]
    },
    {
     "name": "stderr",
     "output_type": "stream",
     "text": [
      "nonproductive aaCDR3 removed\n",
      "\n",
      "number of clones in file:batch5_cfDNA_25Jun2020/mixcr/clones/CLONES_TRACHP_361-01_cfDNA.txt\n",
      "\n"
     ]
    },
    {
     "name": "stdout",
     "output_type": "stream",
     "text": [
      "[1] 263\n"
     ]
    },
    {
     "name": "stderr",
     "output_type": "stream",
     "text": [
      "number of non prodcutive CDR3s:\n",
      "\n"
     ]
    },
    {
     "name": "stdout",
     "output_type": "stream",
     "text": [
      "[1] 113\n"
     ]
    },
    {
     "name": "stderr",
     "output_type": "stream",
     "text": [
      "nonproductive aaCDR3 removed\n",
      "\n",
      "number of clones in file:batch5_cfDNA_25Jun2020/mixcr/clones/CLONES_TRACHP_361-03_cfDNA.txt\n",
      "\n"
     ]
    },
    {
     "name": "stdout",
     "output_type": "stream",
     "text": [
      "[1] 15\n"
     ]
    },
    {
     "name": "stderr",
     "output_type": "stream",
     "text": [
      "number of non prodcutive CDR3s:\n",
      "\n"
     ]
    },
    {
     "name": "stdout",
     "output_type": "stream",
     "text": [
      "[1] 7\n"
     ]
    },
    {
     "name": "stderr",
     "output_type": "stream",
     "text": [
      "nonproductive aaCDR3 removed\n",
      "\n",
      "number of clones in file:batch5_cfDNA_25Jun2020/mixcr/clones/CLONES_TRACHP_361-05_cfDNA.txt\n",
      "\n"
     ]
    },
    {
     "name": "stdout",
     "output_type": "stream",
     "text": [
      "[1] 24\n"
     ]
    },
    {
     "name": "stderr",
     "output_type": "stream",
     "text": [
      "number of non prodcutive CDR3s:\n",
      "\n"
     ]
    },
    {
     "name": "stdout",
     "output_type": "stream",
     "text": [
      "[1] 16\n"
     ]
    },
    {
     "name": "stderr",
     "output_type": "stream",
     "text": [
      "nonproductive aaCDR3 removed\n",
      "\n",
      "number of clones in file:batch5_cfDNA_25Jun2020/mixcr/clones/CLONES_TRACHP_363-02_cfDNA.txt\n",
      "\n"
     ]
    },
    {
     "name": "stdout",
     "output_type": "stream",
     "text": [
      "[1] 4\n"
     ]
    },
    {
     "name": "stderr",
     "output_type": "stream",
     "text": [
      "number of non prodcutive CDR3s:\n",
      "\n"
     ]
    },
    {
     "name": "stdout",
     "output_type": "stream",
     "text": [
      "[1] 2\n"
     ]
    },
    {
     "name": "stderr",
     "output_type": "stream",
     "text": [
      "nonproductive aaCDR3 removed\n",
      "\n",
      "number of clones in file:batch5_cfDNA_25Jun2020/mixcr/clones/CLONES_TRACHP_364-01_cfDNA.txt\n",
      "\n"
     ]
    },
    {
     "name": "stdout",
     "output_type": "stream",
     "text": [
      "[1] 7\n"
     ]
    },
    {
     "name": "stderr",
     "output_type": "stream",
     "text": [
      "number of non prodcutive CDR3s:\n",
      "\n"
     ]
    },
    {
     "name": "stdout",
     "output_type": "stream",
     "text": [
      "[1] 4\n"
     ]
    },
    {
     "name": "stderr",
     "output_type": "stream",
     "text": [
      "nonproductive aaCDR3 removed\n",
      "\n",
      "number of clones in file:batch5_cfDNA_25Jun2020/mixcr/clones/CLONES_TRACHP_366-05_cfDNA.txt\n",
      "\n"
     ]
    },
    {
     "name": "stdout",
     "output_type": "stream",
     "text": [
      "[1] 6\n"
     ]
    },
    {
     "name": "stderr",
     "output_type": "stream",
     "text": [
      "number of non prodcutive CDR3s:\n",
      "\n"
     ]
    },
    {
     "name": "stdout",
     "output_type": "stream",
     "text": [
      "[1] 5\n"
     ]
    },
    {
     "name": "stderr",
     "output_type": "stream",
     "text": [
      "nonproductive aaCDR3 removed\n",
      "\n",
      "number of clones in file:batch5_cfDNA_25Jun2020/mixcr/clones/CLONES_TRACHP_368-01_cfDNA.txt\n",
      "\n"
     ]
    },
    {
     "name": "stdout",
     "output_type": "stream",
     "text": [
      "[1] 107\n"
     ]
    },
    {
     "name": "stderr",
     "output_type": "stream",
     "text": [
      "number of non prodcutive CDR3s:\n",
      "\n"
     ]
    },
    {
     "name": "stdout",
     "output_type": "stream",
     "text": [
      "[1] 57\n"
     ]
    },
    {
     "name": "stderr",
     "output_type": "stream",
     "text": [
      "nonproductive aaCDR3 removed\n",
      "\n",
      "number of clones in file:batch5_cfDNA_25Jun2020/mixcr/clones/CLONES_TRACHP_376-02_cfDNA.txt\n",
      "\n"
     ]
    },
    {
     "name": "stdout",
     "output_type": "stream",
     "text": [
      "[1] 105\n"
     ]
    },
    {
     "name": "stderr",
     "output_type": "stream",
     "text": [
      "number of non prodcutive CDR3s:\n",
      "\n"
     ]
    },
    {
     "name": "stdout",
     "output_type": "stream",
     "text": [
      "[1] 66\n"
     ]
    },
    {
     "name": "stderr",
     "output_type": "stream",
     "text": [
      "nonproductive aaCDR3 removed\n",
      "\n",
      "number of clones in file:batch5_cfDNA_25Jun2020/mixcr/clones/CLONES_TRACHP_380-01_cfDNA.txt\n",
      "\n"
     ]
    },
    {
     "name": "stdout",
     "output_type": "stream",
     "text": [
      "[1] 242\n"
     ]
    },
    {
     "name": "stderr",
     "output_type": "stream",
     "text": [
      "number of non prodcutive CDR3s:\n",
      "\n"
     ]
    },
    {
     "name": "stdout",
     "output_type": "stream",
     "text": [
      "[1] 95\n"
     ]
    },
    {
     "name": "stderr",
     "output_type": "stream",
     "text": [
      "nonproductive aaCDR3 removed\n",
      "\n",
      "number of clones in file:batch6a_5Nov2019/mixcr/clones/CLONES_TRACHP_340-04-PBMC-DNA.txt\n",
      "\n"
     ]
    },
    {
     "name": "stdout",
     "output_type": "stream",
     "text": [
      "[1] 698\n"
     ]
    },
    {
     "name": "stderr",
     "output_type": "stream",
     "text": [
      "number of non prodcutive CDR3s:\n",
      "\n"
     ]
    },
    {
     "name": "stdout",
     "output_type": "stream",
     "text": [
      "[1] 338\n"
     ]
    },
    {
     "name": "stderr",
     "output_type": "stream",
     "text": [
      "nonproductive aaCDR3 removed\n",
      "\n",
      "number of clones in file:batch6a_5Nov2019/mixcr/clones/CLONES_TRACHP_347-04-PBMC-DNA.txt\n",
      "\n"
     ]
    },
    {
     "name": "stdout",
     "output_type": "stream",
     "text": [
      "[1] 201\n"
     ]
    },
    {
     "name": "stderr",
     "output_type": "stream",
     "text": [
      "number of non prodcutive CDR3s:\n",
      "\n"
     ]
    },
    {
     "name": "stdout",
     "output_type": "stream",
     "text": [
      "[1] 79\n"
     ]
    },
    {
     "name": "stderr",
     "output_type": "stream",
     "text": [
      "nonproductive aaCDR3 removed\n",
      "\n",
      "number of clones in file:batch6a_5Nov2019/mixcr/clones/CLONES_TRACHP_357-03-PBMC-DNA.txt\n",
      "\n"
     ]
    },
    {
     "name": "stdout",
     "output_type": "stream",
     "text": [
      "[1] 332\n"
     ]
    },
    {
     "name": "stderr",
     "output_type": "stream",
     "text": [
      "number of non prodcutive CDR3s:\n",
      "\n"
     ]
    },
    {
     "name": "stdout",
     "output_type": "stream",
     "text": [
      "[1] 156\n"
     ]
    },
    {
     "name": "stderr",
     "output_type": "stream",
     "text": [
      "nonproductive aaCDR3 removed\n",
      "\n",
      "number of clones in file:batch6a_5Nov2019/mixcr/clones/CLONES_TRACHP_359-02-PBMC-DNA.txt\n",
      "\n"
     ]
    },
    {
     "name": "stdout",
     "output_type": "stream",
     "text": [
      "[1] 1809\n"
     ]
    },
    {
     "name": "stderr",
     "output_type": "stream",
     "text": [
      "number of non prodcutive CDR3s:\n",
      "\n"
     ]
    },
    {
     "name": "stdout",
     "output_type": "stream",
     "text": [
      "[1] 902\n"
     ]
    },
    {
     "name": "stderr",
     "output_type": "stream",
     "text": [
      "nonproductive aaCDR3 removed\n",
      "\n",
      "number of clones in file:batch6a_5Nov2019/mixcr/clones/CLONES_TRACHP_359-04-PBMC-DNA.txt\n",
      "\n"
     ]
    },
    {
     "name": "stdout",
     "output_type": "stream",
     "text": [
      "[1] 975\n"
     ]
    },
    {
     "name": "stderr",
     "output_type": "stream",
     "text": [
      "number of non prodcutive CDR3s:\n",
      "\n"
     ]
    },
    {
     "name": "stdout",
     "output_type": "stream",
     "text": [
      "[1] 396\n"
     ]
    },
    {
     "name": "stderr",
     "output_type": "stream",
     "text": [
      "nonproductive aaCDR3 removed\n",
      "\n",
      "number of clones in file:batch6a_5Nov2019/mixcr/clones/CLONES_TRACHP_367-02-PBMC-DNA.txt\n",
      "\n"
     ]
    },
    {
     "name": "stdout",
     "output_type": "stream",
     "text": [
      "[1] 347\n"
     ]
    },
    {
     "name": "stderr",
     "output_type": "stream",
     "text": [
      "number of non prodcutive CDR3s:\n",
      "\n"
     ]
    },
    {
     "name": "stdout",
     "output_type": "stream",
     "text": [
      "[1] 169\n"
     ]
    },
    {
     "name": "stderr",
     "output_type": "stream",
     "text": [
      "nonproductive aaCDR3 removed\n",
      "\n",
      "number of clones in file:batch7_25Oct2019/mixcr/clones/CLONES_TRACHP_323-04-PBMC-DNA.txt\n",
      "\n"
     ]
    },
    {
     "name": "stdout",
     "output_type": "stream",
     "text": [
      "[1] 68\n"
     ]
    },
    {
     "name": "stderr",
     "output_type": "stream",
     "text": [
      "number of non prodcutive CDR3s:\n",
      "\n"
     ]
    },
    {
     "name": "stdout",
     "output_type": "stream",
     "text": [
      "[1] 31\n"
     ]
    },
    {
     "name": "stderr",
     "output_type": "stream",
     "text": [
      "nonproductive aaCDR3 removed\n",
      "\n",
      "number of clones in file:batch7_25Oct2019/mixcr/clones/CLONES_TRACHP_323-05-PBMC-DNA.txt\n",
      "\n"
     ]
    },
    {
     "name": "stdout",
     "output_type": "stream",
     "text": [
      "[1] 694\n"
     ]
    },
    {
     "name": "stderr",
     "output_type": "stream",
     "text": [
      "number of non prodcutive CDR3s:\n",
      "\n"
     ]
    },
    {
     "name": "stdout",
     "output_type": "stream",
     "text": [
      "[1] 284\n"
     ]
    },
    {
     "name": "stderr",
     "output_type": "stream",
     "text": [
      "nonproductive aaCDR3 removed\n",
      "\n",
      "number of clones in file:batch7_25Oct2019/mixcr/clones/CLONES_TRACHP_344-02-PBMC-DNA.txt\n",
      "\n"
     ]
    },
    {
     "name": "stdout",
     "output_type": "stream",
     "text": [
      "[1] 98\n"
     ]
    },
    {
     "name": "stderr",
     "output_type": "stream",
     "text": [
      "number of non prodcutive CDR3s:\n",
      "\n"
     ]
    },
    {
     "name": "stdout",
     "output_type": "stream",
     "text": [
      "[1] 52\n"
     ]
    },
    {
     "name": "stderr",
     "output_type": "stream",
     "text": [
      "nonproductive aaCDR3 removed\n",
      "\n",
      "number of clones in file:batch7_25Oct2019/mixcr/clones/CLONES_TRACHP_344-03-PBMC-DNA.txt\n",
      "\n"
     ]
    },
    {
     "name": "stdout",
     "output_type": "stream",
     "text": [
      "[1] 49\n"
     ]
    },
    {
     "name": "stderr",
     "output_type": "stream",
     "text": [
      "number of non prodcutive CDR3s:\n",
      "\n"
     ]
    },
    {
     "name": "stdout",
     "output_type": "stream",
     "text": [
      "[1] 22\n"
     ]
    },
    {
     "name": "stderr",
     "output_type": "stream",
     "text": [
      "nonproductive aaCDR3 removed\n",
      "\n",
      "number of clones in file:batch7_25Oct2019/mixcr/clones/CLONES_TRACHP_345-03-PBMC-DNA.txt\n",
      "\n"
     ]
    },
    {
     "name": "stdout",
     "output_type": "stream",
     "text": [
      "[1] 559\n"
     ]
    },
    {
     "name": "stderr",
     "output_type": "stream",
     "text": [
      "number of non prodcutive CDR3s:\n",
      "\n"
     ]
    },
    {
     "name": "stdout",
     "output_type": "stream",
     "text": [
      "[1] 304\n"
     ]
    },
    {
     "name": "stderr",
     "output_type": "stream",
     "text": [
      "nonproductive aaCDR3 removed\n",
      "\n",
      "number of clones in file:batch7_25Oct2019/mixcr/clones/CLONES_TRACHP_347-03-PBMC-DNA.txt\n",
      "\n"
     ]
    },
    {
     "name": "stdout",
     "output_type": "stream",
     "text": [
      "[1] 303\n"
     ]
    },
    {
     "name": "stderr",
     "output_type": "stream",
     "text": [
      "number of non prodcutive CDR3s:\n",
      "\n"
     ]
    },
    {
     "name": "stdout",
     "output_type": "stream",
     "text": [
      "[1] 119\n"
     ]
    },
    {
     "name": "stderr",
     "output_type": "stream",
     "text": [
      "nonproductive aaCDR3 removed\n",
      "\n",
      "number of clones in file:batch7_25Oct2019/mixcr/clones/CLONES_TRACHP_351-04-PBMC-DNA.txt\n",
      "\n"
     ]
    },
    {
     "name": "stdout",
     "output_type": "stream",
     "text": [
      "[1] 324\n"
     ]
    },
    {
     "name": "stderr",
     "output_type": "stream",
     "text": [
      "number of non prodcutive CDR3s:\n",
      "\n"
     ]
    },
    {
     "name": "stdout",
     "output_type": "stream",
     "text": [
      "[1] 151\n"
     ]
    },
    {
     "name": "stderr",
     "output_type": "stream",
     "text": [
      "nonproductive aaCDR3 removed\n",
      "\n",
      "number of clones in file:batch7_25Oct2019/mixcr/clones/CLONES_TRACHP_353-01-PBMC-DNA.txt\n",
      "\n"
     ]
    },
    {
     "name": "stdout",
     "output_type": "stream",
     "text": [
      "[1] 1109\n"
     ]
    },
    {
     "name": "stderr",
     "output_type": "stream",
     "text": [
      "number of non prodcutive CDR3s:\n",
      "\n"
     ]
    },
    {
     "name": "stdout",
     "output_type": "stream",
     "text": [
      "[1] 579\n"
     ]
    },
    {
     "name": "stderr",
     "output_type": "stream",
     "text": [
      "nonproductive aaCDR3 removed\n",
      "\n",
      "number of clones in file:batch7_25Oct2019/mixcr/clones/CLONES_TRACHP_353-03-PBMC-DNA.txt\n",
      "\n"
     ]
    },
    {
     "name": "stdout",
     "output_type": "stream",
     "text": [
      "[1] 1494\n"
     ]
    },
    {
     "name": "stderr",
     "output_type": "stream",
     "text": [
      "number of non prodcutive CDR3s:\n",
      "\n"
     ]
    },
    {
     "name": "stdout",
     "output_type": "stream",
     "text": [
      "[1] 851\n"
     ]
    },
    {
     "name": "stderr",
     "output_type": "stream",
     "text": [
      "nonproductive aaCDR3 removed\n",
      "\n",
      "number of clones in file:batch7_25Oct2019/mixcr/clones/CLONES_TRACHP_353-05-PBMC-DNA.txt\n",
      "\n"
     ]
    },
    {
     "name": "stdout",
     "output_type": "stream",
     "text": [
      "[1] 2395\n"
     ]
    },
    {
     "name": "stderr",
     "output_type": "stream",
     "text": [
      "number of non prodcutive CDR3s:\n",
      "\n"
     ]
    },
    {
     "name": "stdout",
     "output_type": "stream",
     "text": [
      "[1] 1211\n"
     ]
    },
    {
     "name": "stderr",
     "output_type": "stream",
     "text": [
      "nonproductive aaCDR3 removed\n",
      "\n",
      "number of clones in file:batch7_25Oct2019/mixcr/clones/CLONES_TRACHP_357-04-PBMC-DNA.txt\n",
      "\n"
     ]
    },
    {
     "name": "stdout",
     "output_type": "stream",
     "text": [
      "[1] 259\n"
     ]
    },
    {
     "name": "stderr",
     "output_type": "stream",
     "text": [
      "number of non prodcutive CDR3s:\n",
      "\n"
     ]
    },
    {
     "name": "stdout",
     "output_type": "stream",
     "text": [
      "[1] 114\n"
     ]
    },
    {
     "name": "stderr",
     "output_type": "stream",
     "text": [
      "nonproductive aaCDR3 removed\n",
      "\n",
      "number of clones in file:batch7_25Oct2019/mixcr/clones/CLONES_TRACHP_359-01-PBMC-DNA.txt\n",
      "\n"
     ]
    },
    {
     "name": "stdout",
     "output_type": "stream",
     "text": [
      "[1] 283\n"
     ]
    },
    {
     "name": "stderr",
     "output_type": "stream",
     "text": [
      "number of non prodcutive CDR3s:\n",
      "\n"
     ]
    },
    {
     "name": "stdout",
     "output_type": "stream",
     "text": [
      "[1] 154\n"
     ]
    },
    {
     "name": "stderr",
     "output_type": "stream",
     "text": [
      "nonproductive aaCDR3 removed\n",
      "\n",
      "number of clones in file:batch7_25Oct2019/mixcr/clones/CLONES_TRACHP_360-02-PBMC-DNA.txt\n",
      "\n"
     ]
    },
    {
     "name": "stdout",
     "output_type": "stream",
     "text": [
      "[1] 1207\n"
     ]
    },
    {
     "name": "stderr",
     "output_type": "stream",
     "text": [
      "number of non prodcutive CDR3s:\n",
      "\n"
     ]
    },
    {
     "name": "stdout",
     "output_type": "stream",
     "text": [
      "[1] 608\n"
     ]
    },
    {
     "name": "stderr",
     "output_type": "stream",
     "text": [
      "nonproductive aaCDR3 removed\n",
      "\n",
      "number of clones in file:batch7_25Oct2019/mixcr/clones/CLONES_TRACHP_361-04-PBMC-DNA.txt\n",
      "\n"
     ]
    },
    {
     "name": "stdout",
     "output_type": "stream",
     "text": [
      "[1] 162\n"
     ]
    },
    {
     "name": "stderr",
     "output_type": "stream",
     "text": [
      "number of non prodcutive CDR3s:\n",
      "\n"
     ]
    },
    {
     "name": "stdout",
     "output_type": "stream",
     "text": [
      "[1] 77\n"
     ]
    },
    {
     "name": "stderr",
     "output_type": "stream",
     "text": [
      "nonproductive aaCDR3 removed\n",
      "\n",
      "number of clones in file:batch7_25Oct2019/mixcr/clones/CLONES_TRACHP_362-01-PBMC-DNA.txt\n",
      "\n"
     ]
    },
    {
     "name": "stdout",
     "output_type": "stream",
     "text": [
      "[1] 828\n"
     ]
    },
    {
     "name": "stderr",
     "output_type": "stream",
     "text": [
      "number of non prodcutive CDR3s:\n",
      "\n"
     ]
    },
    {
     "name": "stdout",
     "output_type": "stream",
     "text": [
      "[1] 415\n"
     ]
    },
    {
     "name": "stderr",
     "output_type": "stream",
     "text": [
      "nonproductive aaCDR3 removed\n",
      "\n",
      "number of clones in file:batch7_25Oct2019/mixcr/clones/CLONES_TRACHP_362-03-PBMC-DNA.txt\n",
      "\n"
     ]
    },
    {
     "name": "stdout",
     "output_type": "stream",
     "text": [
      "[1] 543\n"
     ]
    },
    {
     "name": "stderr",
     "output_type": "stream",
     "text": [
      "number of non prodcutive CDR3s:\n",
      "\n"
     ]
    },
    {
     "name": "stdout",
     "output_type": "stream",
     "text": [
      "[1] 274\n"
     ]
    },
    {
     "name": "stderr",
     "output_type": "stream",
     "text": [
      "nonproductive aaCDR3 removed\n",
      "\n",
      "number of clones in file:batch7_25Oct2019/mixcr/clones/CLONES_TRACHP_362-04-PBMC-DNA.txt\n",
      "\n"
     ]
    },
    {
     "name": "stdout",
     "output_type": "stream",
     "text": [
      "[1] 119\n"
     ]
    },
    {
     "name": "stderr",
     "output_type": "stream",
     "text": [
      "number of non prodcutive CDR3s:\n",
      "\n"
     ]
    },
    {
     "name": "stdout",
     "output_type": "stream",
     "text": [
      "[1] 64\n"
     ]
    },
    {
     "name": "stderr",
     "output_type": "stream",
     "text": [
      "nonproductive aaCDR3 removed\n",
      "\n",
      "number of clones in file:batch7_25Oct2019/mixcr/clones/CLONES_TRACHP_368-01-PBMC-DNA.txt\n",
      "\n"
     ]
    },
    {
     "name": "stdout",
     "output_type": "stream",
     "text": [
      "[1] 2220\n"
     ]
    },
    {
     "name": "stderr",
     "output_type": "stream",
     "text": [
      "number of non prodcutive CDR3s:\n",
      "\n"
     ]
    },
    {
     "name": "stdout",
     "output_type": "stream",
     "text": [
      "[1] 1330\n"
     ]
    },
    {
     "name": "stderr",
     "output_type": "stream",
     "text": [
      "nonproductive aaCDR3 removed\n",
      "\n",
      "number of clones in file:batch7_25Oct2019/mixcr/clones/CLONES_TRACHP_368-04-PBMC-DNA.txt\n",
      "\n"
     ]
    },
    {
     "name": "stdout",
     "output_type": "stream",
     "text": [
      "[1] 636\n"
     ]
    },
    {
     "name": "stderr",
     "output_type": "stream",
     "text": [
      "number of non prodcutive CDR3s:\n",
      "\n"
     ]
    },
    {
     "name": "stdout",
     "output_type": "stream",
     "text": [
      "[1] 367\n"
     ]
    },
    {
     "name": "stderr",
     "output_type": "stream",
     "text": [
      "nonproductive aaCDR3 removed\n",
      "\n",
      "number of clones in file:batch7_25Oct2019/mixcr/clones/CLONES_TRACHP_370-01-PBMC-DNA.txt\n",
      "\n"
     ]
    },
    {
     "name": "stdout",
     "output_type": "stream",
     "text": [
      "[1] 78\n"
     ]
    },
    {
     "name": "stderr",
     "output_type": "stream",
     "text": [
      "number of non prodcutive CDR3s:\n",
      "\n"
     ]
    },
    {
     "name": "stdout",
     "output_type": "stream",
     "text": [
      "[1] 38\n"
     ]
    },
    {
     "name": "stderr",
     "output_type": "stream",
     "text": [
      "nonproductive aaCDR3 removed\n",
      "\n",
      "number of clones in file:batch7_25Oct2019/mixcr/clones/CLONES_TRACHP_370-05-PBMC-DNA.txt\n",
      "\n"
     ]
    },
    {
     "name": "stdout",
     "output_type": "stream",
     "text": [
      "[1] 1186\n"
     ]
    },
    {
     "name": "stderr",
     "output_type": "stream",
     "text": [
      "number of non prodcutive CDR3s:\n",
      "\n"
     ]
    },
    {
     "name": "stdout",
     "output_type": "stream",
     "text": [
      "[1] 524\n"
     ]
    },
    {
     "name": "stderr",
     "output_type": "stream",
     "text": [
      "nonproductive aaCDR3 removed\n",
      "\n",
      "number of clones in file:batch7_25Oct2019/mixcr/clones/CLONES_TRACHP_373-02-PBMC-DNA.txt\n",
      "\n"
     ]
    },
    {
     "name": "stdout",
     "output_type": "stream",
     "text": [
      "[1] 588\n"
     ]
    },
    {
     "name": "stderr",
     "output_type": "stream",
     "text": [
      "number of non prodcutive CDR3s:\n",
      "\n"
     ]
    },
    {
     "name": "stdout",
     "output_type": "stream",
     "text": [
      "[1] 327\n"
     ]
    },
    {
     "name": "stderr",
     "output_type": "stream",
     "text": [
      "nonproductive aaCDR3 removed\n",
      "\n",
      "number of clones in file:batch7_25Oct2019/mixcr/clones/CLONES_TRACHP_375-02-PBMC-DNA.txt\n",
      "\n"
     ]
    },
    {
     "name": "stdout",
     "output_type": "stream",
     "text": [
      "[1] 2553\n"
     ]
    },
    {
     "name": "stderr",
     "output_type": "stream",
     "text": [
      "number of non prodcutive CDR3s:\n",
      "\n"
     ]
    },
    {
     "name": "stdout",
     "output_type": "stream",
     "text": [
      "[1] 1365\n"
     ]
    },
    {
     "name": "stderr",
     "output_type": "stream",
     "text": [
      "nonproductive aaCDR3 removed\n",
      "\n",
      "number of clones in file:batch7_25Oct2019/mixcr/clones/CLONES_TRACHP_378-02-PBMC-DNA.txt\n",
      "\n"
     ]
    },
    {
     "name": "stdout",
     "output_type": "stream",
     "text": [
      "[1] 1772\n"
     ]
    },
    {
     "name": "stderr",
     "output_type": "stream",
     "text": [
      "number of non prodcutive CDR3s:\n",
      "\n"
     ]
    },
    {
     "name": "stdout",
     "output_type": "stream",
     "text": [
      "[1] 1011\n"
     ]
    },
    {
     "name": "stderr",
     "output_type": "stream",
     "text": [
      "nonproductive aaCDR3 removed\n",
      "\n",
      "number of clones in file:batch7_cfDNA_29Jun2020/mixcr/clones/CLONES_TRACHP_377-04_cfDNA.txt\n",
      "\n"
     ]
    },
    {
     "name": "stdout",
     "output_type": "stream",
     "text": [
      "[1] 9\n"
     ]
    },
    {
     "name": "stderr",
     "output_type": "stream",
     "text": [
      "number of non prodcutive CDR3s:\n",
      "\n"
     ]
    },
    {
     "name": "stdout",
     "output_type": "stream",
     "text": [
      "[1] 6\n"
     ]
    },
    {
     "name": "stderr",
     "output_type": "stream",
     "text": [
      "nonproductive aaCDR3 removed\n",
      "\n",
      "number of clones in file:batch7_cfDNA_29Jun2020/mixcr/clones/CLONES_TRACHP_381-05_cfDNA.txt\n",
      "\n"
     ]
    },
    {
     "name": "stdout",
     "output_type": "stream",
     "text": [
      "[1] 6\n"
     ]
    },
    {
     "name": "stderr",
     "output_type": "stream",
     "text": [
      "number of non prodcutive CDR3s:\n",
      "\n"
     ]
    },
    {
     "name": "stdout",
     "output_type": "stream",
     "text": [
      "[1] 5\n"
     ]
    },
    {
     "name": "stderr",
     "output_type": "stream",
     "text": [
      "nonproductive aaCDR3 removed\n",
      "\n",
      "number of clones in file:batch7_cfDNA_29Jun2020/mixcr/clones/CLONES_TRACHP_385-01_cfDNA.txt\n",
      "\n"
     ]
    },
    {
     "name": "stdout",
     "output_type": "stream",
     "text": [
      "[1] 12\n"
     ]
    },
    {
     "name": "stderr",
     "output_type": "stream",
     "text": [
      "number of non prodcutive CDR3s:\n",
      "\n"
     ]
    },
    {
     "name": "stdout",
     "output_type": "stream",
     "text": [
      "[1] 10\n"
     ]
    },
    {
     "name": "stderr",
     "output_type": "stream",
     "text": [
      "nonproductive aaCDR3 removed\n",
      "\n",
      "number of clones in file:batch7_cfDNA_29Jun2020/mixcr/clones/CLONES_TRACHP_385-02_cfDNA.txt\n",
      "\n"
     ]
    },
    {
     "name": "stdout",
     "output_type": "stream",
     "text": [
      "[1] 14\n"
     ]
    },
    {
     "name": "stderr",
     "output_type": "stream",
     "text": [
      "number of non prodcutive CDR3s:\n",
      "\n"
     ]
    },
    {
     "name": "stdout",
     "output_type": "stream",
     "text": [
      "[1] 6\n"
     ]
    },
    {
     "name": "stderr",
     "output_type": "stream",
     "text": [
      "nonproductive aaCDR3 removed\n",
      "\n",
      "number of clones in file:batch7_cfDNA_29Jun2020/mixcr/clones/CLONES_TRACHP_385-03_cfDNA.txt\n",
      "\n"
     ]
    },
    {
     "name": "stdout",
     "output_type": "stream",
     "text": [
      "[1] 7\n"
     ]
    },
    {
     "name": "stderr",
     "output_type": "stream",
     "text": [
      "number of non prodcutive CDR3s:\n",
      "\n"
     ]
    },
    {
     "name": "stdout",
     "output_type": "stream",
     "text": [
      "[1] 4\n"
     ]
    },
    {
     "name": "stderr",
     "output_type": "stream",
     "text": [
      "nonproductive aaCDR3 removed\n",
      "\n",
      "number of clones in file:batch7_cfDNA_29Jun2020/mixcr/clones/CLONES_TRACHP_386-01_cfDNA.txt\n",
      "\n"
     ]
    },
    {
     "name": "stdout",
     "output_type": "stream",
     "text": [
      "[1] 16\n"
     ]
    },
    {
     "name": "stderr",
     "output_type": "stream",
     "text": [
      "number of non prodcutive CDR3s:\n",
      "\n"
     ]
    },
    {
     "name": "stdout",
     "output_type": "stream",
     "text": [
      "[1] 9\n"
     ]
    },
    {
     "name": "stderr",
     "output_type": "stream",
     "text": [
      "nonproductive aaCDR3 removed\n",
      "\n",
      "number of clones in file:batch7_cfDNA_29Jun2020/mixcr/clones/CLONES_TRACHP_387-01_cfDNA.txt\n",
      "\n"
     ]
    },
    {
     "name": "stdout",
     "output_type": "stream",
     "text": [
      "[1] 1396\n"
     ]
    },
    {
     "name": "stderr",
     "output_type": "stream",
     "text": [
      "number of non prodcutive CDR3s:\n",
      "\n"
     ]
    },
    {
     "name": "stdout",
     "output_type": "stream",
     "text": [
      "[1] 1165\n"
     ]
    },
    {
     "name": "stderr",
     "output_type": "stream",
     "text": [
      "nonproductive aaCDR3 removed\n",
      "\n",
      "number of clones in file:batch7_cfDNA_29Jun2020/mixcr/clones/CLONES_TRACHP_388-01_cfDNA.txt\n",
      "\n"
     ]
    },
    {
     "name": "stdout",
     "output_type": "stream",
     "text": [
      "[1] 89\n"
     ]
    },
    {
     "name": "stderr",
     "output_type": "stream",
     "text": [
      "number of non prodcutive CDR3s:\n",
      "\n"
     ]
    },
    {
     "name": "stdout",
     "output_type": "stream",
     "text": [
      "[1] 48\n"
     ]
    },
    {
     "name": "stderr",
     "output_type": "stream",
     "text": [
      "nonproductive aaCDR3 removed\n",
      "\n",
      "number of clones in file:batch7_cfDNA_29Jun2020/mixcr/clones/CLONES_TRACHP_391-01_cfDNA.txt\n",
      "\n"
     ]
    },
    {
     "name": "stdout",
     "output_type": "stream",
     "text": [
      "[1] 23\n"
     ]
    },
    {
     "name": "stderr",
     "output_type": "stream",
     "text": [
      "number of non prodcutive CDR3s:\n",
      "\n"
     ]
    },
    {
     "name": "stdout",
     "output_type": "stream",
     "text": [
      "[1] 15\n"
     ]
    },
    {
     "name": "stderr",
     "output_type": "stream",
     "text": [
      "nonproductive aaCDR3 removed\n",
      "\n",
      "number of clones in file:batch7_cfDNA_29Jun2020/mixcr/clones/CLONES_TRACHP_391-02_cfDNA.txt\n",
      "\n"
     ]
    },
    {
     "name": "stdout",
     "output_type": "stream",
     "text": [
      "[1] 6\n"
     ]
    },
    {
     "name": "stderr",
     "output_type": "stream",
     "text": [
      "number of non prodcutive CDR3s:\n",
      "\n"
     ]
    },
    {
     "name": "stdout",
     "output_type": "stream",
     "text": [
      "[1] 6\n"
     ]
    },
    {
     "name": "stderr",
     "output_type": "stream",
     "text": [
      "nonproductive aaCDR3 removed\n",
      "\n",
      "number of clones in file:batch7_cfDNA_29Jun2020/mixcr/clones/CLONES_TRACHP_392-01_cfDNA.txt\n",
      "\n"
     ]
    },
    {
     "name": "stdout",
     "output_type": "stream",
     "text": [
      "[1] 37\n"
     ]
    },
    {
     "name": "stderr",
     "output_type": "stream",
     "text": [
      "number of non prodcutive CDR3s:\n",
      "\n"
     ]
    },
    {
     "name": "stdout",
     "output_type": "stream",
     "text": [
      "[1] 24\n"
     ]
    },
    {
     "name": "stderr",
     "output_type": "stream",
     "text": [
      "nonproductive aaCDR3 removed\n",
      "\n",
      "number of clones in file:batch7_cfDNA_29Jun2020/mixcr/clones/CLONES_TRACHP_393-02_cfDNA.txt\n",
      "\n"
     ]
    },
    {
     "name": "stdout",
     "output_type": "stream",
     "text": [
      "[1] 20\n"
     ]
    },
    {
     "name": "stderr",
     "output_type": "stream",
     "text": [
      "number of non prodcutive CDR3s:\n",
      "\n"
     ]
    },
    {
     "name": "stdout",
     "output_type": "stream",
     "text": [
      "[1] 9\n"
     ]
    },
    {
     "name": "stderr",
     "output_type": "stream",
     "text": [
      "nonproductive aaCDR3 removed\n",
      "\n",
      "number of clones in file:batch7_cfDNA_29Jun2020/mixcr/clones/CLONES_TRACHP_393-03_cfDNA.txt\n",
      "\n"
     ]
    },
    {
     "name": "stdout",
     "output_type": "stream",
     "text": [
      "[1] 19\n"
     ]
    },
    {
     "name": "stderr",
     "output_type": "stream",
     "text": [
      "number of non prodcutive CDR3s:\n",
      "\n"
     ]
    },
    {
     "name": "stdout",
     "output_type": "stream",
     "text": [
      "[1] 7\n"
     ]
    },
    {
     "name": "stderr",
     "output_type": "stream",
     "text": [
      "nonproductive aaCDR3 removed\n",
      "\n",
      "number of clones in file:batch7_cfDNA_29Jun2020/mixcr/clones/CLONES_TRACHP_394-01_cfDNA.txt\n",
      "\n"
     ]
    },
    {
     "name": "stdout",
     "output_type": "stream",
     "text": [
      "[1] 2\n"
     ]
    },
    {
     "name": "stderr",
     "output_type": "stream",
     "text": [
      "number of non prodcutive CDR3s:\n",
      "\n"
     ]
    },
    {
     "name": "stdout",
     "output_type": "stream",
     "text": [
      "[1] 1\n"
     ]
    },
    {
     "name": "stderr",
     "output_type": "stream",
     "text": [
      "nonproductive aaCDR3 removed\n",
      "\n",
      "number of clones in file:batch7_cfDNA_29Jun2020/mixcr/clones/CLONES_TRACHP_395-01_cfDNA.txt\n",
      "\n"
     ]
    },
    {
     "name": "stdout",
     "output_type": "stream",
     "text": [
      "[1] 42\n"
     ]
    },
    {
     "name": "stderr",
     "output_type": "stream",
     "text": [
      "number of non prodcutive CDR3s:\n",
      "\n"
     ]
    },
    {
     "name": "stdout",
     "output_type": "stream",
     "text": [
      "[1] 29\n"
     ]
    },
    {
     "name": "stderr",
     "output_type": "stream",
     "text": [
      "nonproductive aaCDR3 removed\n",
      "\n",
      "number of clones in file:batch7_cfDNA_29Jun2020/mixcr/clones/CLONES_TRACHP_396-01_cfDNA.txt\n",
      "\n"
     ]
    },
    {
     "name": "stdout",
     "output_type": "stream",
     "text": [
      "[1] 6\n"
     ]
    },
    {
     "name": "stderr",
     "output_type": "stream",
     "text": [
      "number of non prodcutive CDR3s:\n",
      "\n"
     ]
    },
    {
     "name": "stdout",
     "output_type": "stream",
     "text": [
      "[1] 3\n"
     ]
    },
    {
     "name": "stderr",
     "output_type": "stream",
     "text": [
      "nonproductive aaCDR3 removed\n",
      "\n",
      "number of clones in file:batch7_cfDNA_29Jun2020/mixcr/clones/CLONES_TRACHP_397-01_cfDNA.txt\n",
      "\n"
     ]
    },
    {
     "name": "stdout",
     "output_type": "stream",
     "text": [
      "[1] 20\n"
     ]
    },
    {
     "name": "stderr",
     "output_type": "stream",
     "text": [
      "number of non prodcutive CDR3s:\n",
      "\n"
     ]
    },
    {
     "name": "stdout",
     "output_type": "stream",
     "text": [
      "[1] 11\n"
     ]
    },
    {
     "name": "stderr",
     "output_type": "stream",
     "text": [
      "nonproductive aaCDR3 removed\n",
      "\n",
      "number of clones in file:batch7_cfDNA_29Jun2020/mixcr/clones/CLONES_TRACHP_397-02_cfDNA.txt\n",
      "\n"
     ]
    },
    {
     "name": "stdout",
     "output_type": "stream",
     "text": [
      "[1] 56\n"
     ]
    },
    {
     "name": "stderr",
     "output_type": "stream",
     "text": [
      "number of non prodcutive CDR3s:\n",
      "\n"
     ]
    },
    {
     "name": "stdout",
     "output_type": "stream",
     "text": [
      "[1] 21\n"
     ]
    },
    {
     "name": "stderr",
     "output_type": "stream",
     "text": [
      "nonproductive aaCDR3 removed\n",
      "\n",
      "number of clones in file:batch7_cfDNA_29Jun2020/mixcr/clones/CLONES_TRACHP_398-01_cfDNA.txt\n",
      "\n"
     ]
    },
    {
     "name": "stdout",
     "output_type": "stream",
     "text": [
      "[1] 22\n"
     ]
    },
    {
     "name": "stderr",
     "output_type": "stream",
     "text": [
      "number of non prodcutive CDR3s:\n",
      "\n"
     ]
    },
    {
     "name": "stdout",
     "output_type": "stream",
     "text": [
      "[1] 14\n"
     ]
    },
    {
     "name": "stderr",
     "output_type": "stream",
     "text": [
      "nonproductive aaCDR3 removed\n",
      "\n",
      "number of clones in file:batch7_cfDNA_29Jun2020/mixcr/clones/CLONES_TRACHP_398-03_cfDNA.txt\n",
      "\n"
     ]
    },
    {
     "name": "stdout",
     "output_type": "stream",
     "text": [
      "[1] 3\n"
     ]
    },
    {
     "name": "stderr",
     "output_type": "stream",
     "text": [
      "number of non prodcutive CDR3s:\n",
      "\n"
     ]
    },
    {
     "name": "stdout",
     "output_type": "stream",
     "text": [
      "[1] 1\n"
     ]
    },
    {
     "name": "stderr",
     "output_type": "stream",
     "text": [
      "nonproductive aaCDR3 removed\n",
      "\n",
      "number of clones in file:batch7_cfDNA_29Jun2020/mixcr/clones/CLONES_TRACHP_399-01_cfDNA.txt\n",
      "\n"
     ]
    },
    {
     "name": "stdout",
     "output_type": "stream",
     "text": [
      "[1] 70\n"
     ]
    },
    {
     "name": "stderr",
     "output_type": "stream",
     "text": [
      "number of non prodcutive CDR3s:\n",
      "\n"
     ]
    },
    {
     "name": "stdout",
     "output_type": "stream",
     "text": [
      "[1] 29\n"
     ]
    },
    {
     "name": "stderr",
     "output_type": "stream",
     "text": [
      "nonproductive aaCDR3 removed\n",
      "\n",
      "number of clones in file:batch7_cfDNA_29Jun2020/mixcr/clones/CLONES_TRACHP_401-01_cfDNA.txt\n",
      "\n"
     ]
    },
    {
     "name": "stdout",
     "output_type": "stream",
     "text": [
      "[1] 11\n"
     ]
    },
    {
     "name": "stderr",
     "output_type": "stream",
     "text": [
      "number of non prodcutive CDR3s:\n",
      "\n"
     ]
    },
    {
     "name": "stdout",
     "output_type": "stream",
     "text": [
      "[1] 6\n"
     ]
    },
    {
     "name": "stderr",
     "output_type": "stream",
     "text": [
      "nonproductive aaCDR3 removed\n",
      "\n",
      "number of clones in file:batch7_cfDNA_29Jun2020/mixcr/clones/CLONES_TRACHP_402-01_cfDNA.txt\n",
      "\n"
     ]
    },
    {
     "name": "stdout",
     "output_type": "stream",
     "text": [
      "[1] 107\n"
     ]
    },
    {
     "name": "stderr",
     "output_type": "stream",
     "text": [
      "number of non prodcutive CDR3s:\n",
      "\n"
     ]
    },
    {
     "name": "stdout",
     "output_type": "stream",
     "text": [
      "[1] 92\n"
     ]
    },
    {
     "name": "stderr",
     "output_type": "stream",
     "text": [
      "nonproductive aaCDR3 removed\n",
      "\n",
      "number of clones in file:batch7_cfDNA_29Jun2020/mixcr/clones/CLONES_TRACHP_405-01_cfDNA.txt\n",
      "\n"
     ]
    },
    {
     "name": "stdout",
     "output_type": "stream",
     "text": [
      "[1] 332\n"
     ]
    },
    {
     "name": "stderr",
     "output_type": "stream",
     "text": [
      "number of non prodcutive CDR3s:\n",
      "\n"
     ]
    },
    {
     "name": "stdout",
     "output_type": "stream",
     "text": [
      "[1] 208\n"
     ]
    },
    {
     "name": "stderr",
     "output_type": "stream",
     "text": [
      "nonproductive aaCDR3 removed\n",
      "\n",
      "number of clones in file:batch8_14Jan2020/mixcr/clones/CLONES_TRACHP_335-03-PBMC-DNA.txt\n",
      "\n"
     ]
    },
    {
     "name": "stdout",
     "output_type": "stream",
     "text": [
      "[1] 1836\n"
     ]
    },
    {
     "name": "stderr",
     "output_type": "stream",
     "text": [
      "number of non prodcutive CDR3s:\n",
      "\n"
     ]
    },
    {
     "name": "stdout",
     "output_type": "stream",
     "text": [
      "[1] 1131\n"
     ]
    },
    {
     "name": "stderr",
     "output_type": "stream",
     "text": [
      "nonproductive aaCDR3 removed\n",
      "\n",
      "number of clones in file:batch8_14Jan2020/mixcr/clones/CLONES_TRACHP_344-04-PBMC-DNA.txt\n",
      "\n"
     ]
    },
    {
     "name": "stdout",
     "output_type": "stream",
     "text": [
      "[1] 435\n"
     ]
    },
    {
     "name": "stderr",
     "output_type": "stream",
     "text": [
      "number of non prodcutive CDR3s:\n",
      "\n"
     ]
    },
    {
     "name": "stdout",
     "output_type": "stream",
     "text": [
      "[1] 168\n"
     ]
    },
    {
     "name": "stderr",
     "output_type": "stream",
     "text": [
      "nonproductive aaCDR3 removed\n",
      "\n",
      "number of clones in file:batch8_14Jan2020/mixcr/clones/CLONES_TRACHP_347-05-PBMC-DNA.txt\n",
      "\n"
     ]
    },
    {
     "name": "stdout",
     "output_type": "stream",
     "text": [
      "[1] 328\n"
     ]
    },
    {
     "name": "stderr",
     "output_type": "stream",
     "text": [
      "number of non prodcutive CDR3s:\n",
      "\n"
     ]
    },
    {
     "name": "stdout",
     "output_type": "stream",
     "text": [
      "[1] 129\n"
     ]
    },
    {
     "name": "stderr",
     "output_type": "stream",
     "text": [
      "nonproductive aaCDR3 removed\n",
      "\n",
      "number of clones in file:batch8_14Jan2020/mixcr/clones/CLONES_TRACHP_356-02-PBMC-DNA.txt\n",
      "\n"
     ]
    },
    {
     "name": "stdout",
     "output_type": "stream",
     "text": [
      "[1] 420\n"
     ]
    },
    {
     "name": "stderr",
     "output_type": "stream",
     "text": [
      "number of non prodcutive CDR3s:\n",
      "\n"
     ]
    },
    {
     "name": "stdout",
     "output_type": "stream",
     "text": [
      "[1] 235\n"
     ]
    },
    {
     "name": "stderr",
     "output_type": "stream",
     "text": [
      "nonproductive aaCDR3 removed\n",
      "\n",
      "number of clones in file:batch8_14Jan2020/mixcr/clones/CLONES_TRACHP_357-02-PBMC-DNA.txt\n",
      "\n"
     ]
    },
    {
     "name": "stdout",
     "output_type": "stream",
     "text": [
      "[1] 1406\n"
     ]
    },
    {
     "name": "stderr",
     "output_type": "stream",
     "text": [
      "number of non prodcutive CDR3s:\n",
      "\n"
     ]
    },
    {
     "name": "stdout",
     "output_type": "stream",
     "text": [
      "[1] 603\n"
     ]
    },
    {
     "name": "stderr",
     "output_type": "stream",
     "text": [
      "nonproductive aaCDR3 removed\n",
      "\n",
      "number of clones in file:batch8_14Jan2020/mixcr/clones/CLONES_TRACHP_360-05-PBMC-DNA.txt\n",
      "\n"
     ]
    },
    {
     "name": "stdout",
     "output_type": "stream",
     "text": [
      "[1] 409\n"
     ]
    },
    {
     "name": "stderr",
     "output_type": "stream",
     "text": [
      "number of non prodcutive CDR3s:\n",
      "\n"
     ]
    },
    {
     "name": "stdout",
     "output_type": "stream",
     "text": [
      "[1] 159\n"
     ]
    },
    {
     "name": "stderr",
     "output_type": "stream",
     "text": [
      "nonproductive aaCDR3 removed\n",
      "\n",
      "number of clones in file:batch8_14Jan2020/mixcr/clones/CLONES_TRACHP_369-02-PBMC-DNA.txt\n",
      "\n"
     ]
    },
    {
     "name": "stdout",
     "output_type": "stream",
     "text": [
      "[1] 1387\n"
     ]
    },
    {
     "name": "stderr",
     "output_type": "stream",
     "text": [
      "number of non prodcutive CDR3s:\n",
      "\n"
     ]
    },
    {
     "name": "stdout",
     "output_type": "stream",
     "text": [
      "[1] 717\n"
     ]
    },
    {
     "name": "stderr",
     "output_type": "stream",
     "text": [
      "nonproductive aaCDR3 removed\n",
      "\n",
      "number of clones in file:batch8_14Jan2020/mixcr/clones/CLONES_TRACHP_370-03-PBMC-DNA.txt\n",
      "\n"
     ]
    },
    {
     "name": "stdout",
     "output_type": "stream",
     "text": [
      "[1] 1173\n"
     ]
    },
    {
     "name": "stderr",
     "output_type": "stream",
     "text": [
      "number of non prodcutive CDR3s:\n",
      "\n"
     ]
    },
    {
     "name": "stdout",
     "output_type": "stream",
     "text": [
      "[1] 542\n"
     ]
    },
    {
     "name": "stderr",
     "output_type": "stream",
     "text": [
      "nonproductive aaCDR3 removed\n",
      "\n",
      "number of clones in file:batch8_14Jan2020/mixcr/clones/CLONES_TRACHP_371-01-PBMC-DNA.txt\n",
      "\n"
     ]
    },
    {
     "name": "stdout",
     "output_type": "stream",
     "text": [
      "[1] 0\n"
     ]
    },
    {
     "name": "stderr",
     "output_type": "stream",
     "text": [
      "number of clones in file:batch8_14Jan2020/mixcr/clones/CLONES_TRACHP_373-03-PBMC-DNA.txt\n",
      "\n"
     ]
    },
    {
     "name": "stdout",
     "output_type": "stream",
     "text": [
      "[1] 266\n"
     ]
    },
    {
     "name": "stderr",
     "output_type": "stream",
     "text": [
      "number of non prodcutive CDR3s:\n",
      "\n"
     ]
    },
    {
     "name": "stdout",
     "output_type": "stream",
     "text": [
      "[1] 112\n"
     ]
    },
    {
     "name": "stderr",
     "output_type": "stream",
     "text": [
      "nonproductive aaCDR3 removed\n",
      "\n",
      "number of clones in file:batch8_14Jan2020/mixcr/clones/CLONES_TRACHP_378-04-PBMC-DNA.txt\n",
      "\n"
     ]
    },
    {
     "name": "stdout",
     "output_type": "stream",
     "text": [
      "[1] 1343\n"
     ]
    },
    {
     "name": "stderr",
     "output_type": "stream",
     "text": [
      "number of non prodcutive CDR3s:\n",
      "\n"
     ]
    },
    {
     "name": "stdout",
     "output_type": "stream",
     "text": [
      "[1] 766\n"
     ]
    },
    {
     "name": "stderr",
     "output_type": "stream",
     "text": [
      "nonproductive aaCDR3 removed\n",
      "\n",
      "number of clones in file:batch8_14Jan2020/mixcr/clones/CLONES_TRACHP_380-03-PBMC-DNA.txt\n",
      "\n"
     ]
    },
    {
     "name": "stdout",
     "output_type": "stream",
     "text": [
      "[1] 152\n"
     ]
    },
    {
     "name": "stderr",
     "output_type": "stream",
     "text": [
      "number of non prodcutive CDR3s:\n",
      "\n"
     ]
    },
    {
     "name": "stdout",
     "output_type": "stream",
     "text": [
      "[1] 71\n"
     ]
    },
    {
     "name": "stderr",
     "output_type": "stream",
     "text": [
      "nonproductive aaCDR3 removed\n",
      "\n",
      "number of clones in file:batch8_14Jan2020/mixcr/clones/CLONES_TRACHP_380-05-PBMC-DNA.txt\n",
      "\n"
     ]
    },
    {
     "name": "stdout",
     "output_type": "stream",
     "text": [
      "[1] 253\n"
     ]
    },
    {
     "name": "stderr",
     "output_type": "stream",
     "text": [
      "number of non prodcutive CDR3s:\n",
      "\n"
     ]
    },
    {
     "name": "stdout",
     "output_type": "stream",
     "text": [
      "[1] 113\n"
     ]
    },
    {
     "name": "stderr",
     "output_type": "stream",
     "text": [
      "nonproductive aaCDR3 removed\n",
      "\n",
      "number of clones in file:batch8_14Jan2020/mixcr/clones/CLONES_TRACHP_382-02-PBMC-DNA.txt\n",
      "\n"
     ]
    },
    {
     "name": "stdout",
     "output_type": "stream",
     "text": [
      "[1] 63\n"
     ]
    },
    {
     "name": "stderr",
     "output_type": "stream",
     "text": [
      "number of non prodcutive CDR3s:\n",
      "\n"
     ]
    },
    {
     "name": "stdout",
     "output_type": "stream",
     "text": [
      "[1] 37\n"
     ]
    },
    {
     "name": "stderr",
     "output_type": "stream",
     "text": [
      "nonproductive aaCDR3 removed\n",
      "\n",
      "number of clones in file:batch8_14Jan2020/mixcr/clones/CLONES_TRACHP_383-03-PBMC-DNA.txt\n",
      "\n"
     ]
    },
    {
     "name": "stdout",
     "output_type": "stream",
     "text": [
      "[1] 17\n"
     ]
    },
    {
     "name": "stderr",
     "output_type": "stream",
     "text": [
      "number of non prodcutive CDR3s:\n",
      "\n"
     ]
    },
    {
     "name": "stdout",
     "output_type": "stream",
     "text": [
      "[1] 9\n"
     ]
    },
    {
     "name": "stderr",
     "output_type": "stream",
     "text": [
      "nonproductive aaCDR3 removed\n",
      "\n",
      "number of clones in file:batch8_14Jan2020/mixcr/clones/CLONES_TRACHP_385-03-PBMC-DNA.txt\n",
      "\n"
     ]
    },
    {
     "name": "stdout",
     "output_type": "stream",
     "text": [
      "[1] 18\n"
     ]
    },
    {
     "name": "stderr",
     "output_type": "stream",
     "text": [
      "number of non prodcutive CDR3s:\n",
      "\n"
     ]
    },
    {
     "name": "stdout",
     "output_type": "stream",
     "text": [
      "[1] 6\n"
     ]
    },
    {
     "name": "stderr",
     "output_type": "stream",
     "text": [
      "nonproductive aaCDR3 removed\n",
      "\n",
      "number of clones in file:batch8_14Jan2020/mixcr/clones/CLONES_TRACHP_386-02-PBMC-DNA.txt\n",
      "\n"
     ]
    },
    {
     "name": "stdout",
     "output_type": "stream",
     "text": [
      "[1] 114\n"
     ]
    },
    {
     "name": "stderr",
     "output_type": "stream",
     "text": [
      "number of non prodcutive CDR3s:\n",
      "\n"
     ]
    },
    {
     "name": "stdout",
     "output_type": "stream",
     "text": [
      "[1] 48\n"
     ]
    },
    {
     "name": "stderr",
     "output_type": "stream",
     "text": [
      "nonproductive aaCDR3 removed\n",
      "\n",
      "number of clones in file:batch8_14Jan2020/mixcr/clones/CLONES_TRACHP_387-01-PBMC-DNA.txt\n",
      "\n"
     ]
    },
    {
     "name": "stdout",
     "output_type": "stream",
     "text": [
      "[1] 2775\n"
     ]
    },
    {
     "name": "stderr",
     "output_type": "stream",
     "text": [
      "number of non prodcutive CDR3s:\n",
      "\n"
     ]
    },
    {
     "name": "stdout",
     "output_type": "stream",
     "text": [
      "[1] 1974\n"
     ]
    },
    {
     "name": "stderr",
     "output_type": "stream",
     "text": [
      "nonproductive aaCDR3 removed\n",
      "\n",
      "number of clones in file:batch8_14Jan2020/mixcr/clones/CLONES_TRACHP_394-01-PBMC-DNA.txt\n",
      "\n"
     ]
    },
    {
     "name": "stdout",
     "output_type": "stream",
     "text": [
      "[1] 9\n"
     ]
    },
    {
     "name": "stderr",
     "output_type": "stream",
     "text": [
      "number of non prodcutive CDR3s:\n",
      "\n"
     ]
    },
    {
     "name": "stdout",
     "output_type": "stream",
     "text": [
      "[1] 4\n"
     ]
    },
    {
     "name": "stderr",
     "output_type": "stream",
     "text": [
      "nonproductive aaCDR3 removed\n",
      "\n",
      "number of clones in file:batch8_14Jan2020/mixcr/clones/CLONES_TRACHP_394-04-PBMC-DNA.txt\n",
      "\n"
     ]
    },
    {
     "name": "stdout",
     "output_type": "stream",
     "text": [
      "[1] 193\n"
     ]
    },
    {
     "name": "stderr",
     "output_type": "stream",
     "text": [
      "number of non prodcutive CDR3s:\n",
      "\n"
     ]
    },
    {
     "name": "stdout",
     "output_type": "stream",
     "text": [
      "[1] 80\n"
     ]
    },
    {
     "name": "stderr",
     "output_type": "stream",
     "text": [
      "nonproductive aaCDR3 removed\n",
      "\n",
      "number of clones in file:batch8_14Jan2020/mixcr/clones/CLONES_TRACHP_396-01-PBMC-DNA.txt\n",
      "\n"
     ]
    },
    {
     "name": "stdout",
     "output_type": "stream",
     "text": [
      "[1] 2584\n"
     ]
    },
    {
     "name": "stderr",
     "output_type": "stream",
     "text": [
      "number of non prodcutive CDR3s:\n",
      "\n"
     ]
    },
    {
     "name": "stdout",
     "output_type": "stream",
     "text": [
      "[1] 1617\n"
     ]
    },
    {
     "name": "stderr",
     "output_type": "stream",
     "text": [
      "nonproductive aaCDR3 removed\n",
      "\n",
      "number of clones in file:batch8_14Jan2020/mixcr/clones/CLONES_TRACHP_396-02-PBMC-DNA.txt\n",
      "\n"
     ]
    },
    {
     "name": "stdout",
     "output_type": "stream",
     "text": [
      "[1] 1751\n"
     ]
    },
    {
     "name": "stderr",
     "output_type": "stream",
     "text": [
      "number of non prodcutive CDR3s:\n",
      "\n"
     ]
    },
    {
     "name": "stdout",
     "output_type": "stream",
     "text": [
      "[1] 930\n"
     ]
    },
    {
     "name": "stderr",
     "output_type": "stream",
     "text": [
      "nonproductive aaCDR3 removed\n",
      "\n",
      "number of clones in file:batch8_14Jan2020/mixcr/clones/CLONES_TRACHP_397-01-PBMC-DNA.txt\n",
      "\n"
     ]
    },
    {
     "name": "stdout",
     "output_type": "stream",
     "text": [
      "[1] 1819\n"
     ]
    },
    {
     "name": "stderr",
     "output_type": "stream",
     "text": [
      "number of non prodcutive CDR3s:\n",
      "\n"
     ]
    },
    {
     "name": "stdout",
     "output_type": "stream",
     "text": [
      "[1] 1087\n"
     ]
    },
    {
     "name": "stderr",
     "output_type": "stream",
     "text": [
      "nonproductive aaCDR3 removed\n",
      "\n",
      "number of clones in file:batch8_14Jan2020/mixcr/clones/CLONES_TRACHP_399-01-PBMC-DNA.txt\n",
      "\n"
     ]
    },
    {
     "name": "stdout",
     "output_type": "stream",
     "text": [
      "[1] 231\n"
     ]
    },
    {
     "name": "stderr",
     "output_type": "stream",
     "text": [
      "number of non prodcutive CDR3s:\n",
      "\n"
     ]
    },
    {
     "name": "stdout",
     "output_type": "stream",
     "text": [
      "[1] 137\n"
     ]
    },
    {
     "name": "stderr",
     "output_type": "stream",
     "text": [
      "nonproductive aaCDR3 removed\n",
      "\n",
      "number of clones in file:batchFFPE_3Apr2020/mixcr/clones/CLONES_TRACHP_343_B-FFPE-DNA.txt\n",
      "\n"
     ]
    },
    {
     "name": "stdout",
     "output_type": "stream",
     "text": [
      "[1] 0\n"
     ]
    },
    {
     "name": "stderr",
     "output_type": "stream",
     "text": [
      "number of clones in file:batchFFPE_3Apr2020/mixcr/clones/CLONES_TRACHP_344_A-FFPE-DNA.txt\n",
      "\n"
     ]
    },
    {
     "name": "stdout",
     "output_type": "stream",
     "text": [
      "[1] 9\n"
     ]
    },
    {
     "name": "stderr",
     "output_type": "stream",
     "text": [
      "number of non prodcutive CDR3s:\n",
      "\n"
     ]
    },
    {
     "name": "stdout",
     "output_type": "stream",
     "text": [
      "[1] 6\n"
     ]
    },
    {
     "name": "stderr",
     "output_type": "stream",
     "text": [
      "nonproductive aaCDR3 removed\n",
      "\n",
      "number of clones in file:batchFFPE_3Apr2020/mixcr/clones/CLONES_TRACHP_344_B-FFPE-DNA.txt\n",
      "\n"
     ]
    },
    {
     "name": "stdout",
     "output_type": "stream",
     "text": [
      "[1] 2\n"
     ]
    },
    {
     "name": "stderr",
     "output_type": "stream",
     "text": [
      "number of non prodcutive CDR3s:\n",
      "\n"
     ]
    },
    {
     "name": "stdout",
     "output_type": "stream",
     "text": [
      "[1] 1\n"
     ]
    },
    {
     "name": "stderr",
     "output_type": "stream",
     "text": [
      "nonproductive aaCDR3 removed\n",
      "\n",
      "number of clones in file:batchFFPE_3Apr2020/mixcr/clones/CLONES_TRACHP_348-FFPE-DNA_S6.txt\n",
      "\n"
     ]
    },
    {
     "name": "stdout",
     "output_type": "stream",
     "text": [
      "[1] 0\n"
     ]
    },
    {
     "name": "stderr",
     "output_type": "stream",
     "text": [
      "number of clones in file:batchFFPE_3Apr2020/mixcr/clones/CLONES_TRACHP_361-FFPE-DNA_S1.txt\n",
      "\n"
     ]
    },
    {
     "name": "stdout",
     "output_type": "stream",
     "text": [
      "[1] 370\n"
     ]
    },
    {
     "name": "stderr",
     "output_type": "stream",
     "text": [
      "number of non prodcutive CDR3s:\n",
      "\n"
     ]
    },
    {
     "name": "stdout",
     "output_type": "stream",
     "text": [
      "[1] 185\n"
     ]
    },
    {
     "name": "stderr",
     "output_type": "stream",
     "text": [
      "nonproductive aaCDR3 removed\n",
      "\n",
      "number of clones in file:batchFFPE_3Apr2020/mixcr/clones/CLONES_TRACHP_364-FFPE-DNA_S1.txt\n",
      "\n"
     ]
    },
    {
     "name": "stdout",
     "output_type": "stream",
     "text": [
      "[1] 42\n"
     ]
    },
    {
     "name": "stderr",
     "output_type": "stream",
     "text": [
      "number of non prodcutive CDR3s:\n",
      "\n"
     ]
    },
    {
     "name": "stdout",
     "output_type": "stream",
     "text": [
      "[1] 19\n"
     ]
    },
    {
     "name": "stderr",
     "output_type": "stream",
     "text": [
      "nonproductive aaCDR3 removed\n",
      "\n",
      "number of clones in file:batchFFPE_3Apr2020/mixcr/clones/CLONES_TRACHP_366-FFPE-DNA_S1.txt\n",
      "\n"
     ]
    },
    {
     "name": "stdout",
     "output_type": "stream",
     "text": [
      "[1] 24\n"
     ]
    },
    {
     "name": "stderr",
     "output_type": "stream",
     "text": [
      "number of non prodcutive CDR3s:\n",
      "\n"
     ]
    },
    {
     "name": "stdout",
     "output_type": "stream",
     "text": [
      "[1] 9\n"
     ]
    },
    {
     "name": "stderr",
     "output_type": "stream",
     "text": [
      "nonproductive aaCDR3 removed\n",
      "\n",
      "number of clones in file:batchFFPE_3Apr2020/mixcr/clones/CLONES_TRACHP_370-FFPE-DNA_S5.txt\n",
      "\n"
     ]
    },
    {
     "name": "stdout",
     "output_type": "stream",
     "text": [
      "[1] 16\n"
     ]
    },
    {
     "name": "stderr",
     "output_type": "stream",
     "text": [
      "number of non prodcutive CDR3s:\n",
      "\n"
     ]
    },
    {
     "name": "stdout",
     "output_type": "stream",
     "text": [
      "[1] 5\n"
     ]
    },
    {
     "name": "stderr",
     "output_type": "stream",
     "text": [
      "nonproductive aaCDR3 removed\n",
      "\n",
      "number of clones in file:batchFFPE_3Apr2020/mixcr/clones/CLONES_TRACHP_372-FFPE-DNA_S1.txt\n",
      "\n"
     ]
    },
    {
     "name": "stdout",
     "output_type": "stream",
     "text": [
      "[1] 39\n"
     ]
    },
    {
     "name": "stderr",
     "output_type": "stream",
     "text": [
      "number of non prodcutive CDR3s:\n",
      "\n"
     ]
    },
    {
     "name": "stdout",
     "output_type": "stream",
     "text": [
      "[1] 19\n"
     ]
    },
    {
     "name": "stderr",
     "output_type": "stream",
     "text": [
      "nonproductive aaCDR3 removed\n",
      "\n",
      "number of clones in file:batchFFPE_3Apr2020/mixcr/clones/CLONES_TRACHP_380-FFPE-DNA_S1.txt\n",
      "\n"
     ]
    },
    {
     "name": "stdout",
     "output_type": "stream",
     "text": [
      "[1] 262\n"
     ]
    },
    {
     "name": "stderr",
     "output_type": "stream",
     "text": [
      "number of non prodcutive CDR3s:\n",
      "\n"
     ]
    },
    {
     "name": "stdout",
     "output_type": "stream",
     "text": [
      "[1] 114\n"
     ]
    },
    {
     "name": "stderr",
     "output_type": "stream",
     "text": [
      "nonproductive aaCDR3 removed\n",
      "\n",
      "number of clones in file:batchFFPE_3Apr2020/mixcr/clones/CLONES_TRACHP_389-FFPE-DNA_S1.txt\n",
      "\n"
     ]
    },
    {
     "name": "stdout",
     "output_type": "stream",
     "text": [
      "[1] 283\n"
     ]
    },
    {
     "name": "stderr",
     "output_type": "stream",
     "text": [
      "number of non prodcutive CDR3s:\n",
      "\n"
     ]
    },
    {
     "name": "stdout",
     "output_type": "stream",
     "text": [
      "[1] 153\n"
     ]
    },
    {
     "name": "stderr",
     "output_type": "stream",
     "text": [
      "nonproductive aaCDR3 removed\n",
      "\n",
      "number of clones in file:batchFFPE_3Apr2020/mixcr/clones/CLONES_TRACHP_390-FFPE-DNA_S9.txt\n",
      "\n"
     ]
    },
    {
     "name": "stdout",
     "output_type": "stream",
     "text": [
      "[1] 23\n"
     ]
    },
    {
     "name": "stderr",
     "output_type": "stream",
     "text": [
      "number of non prodcutive CDR3s:\n",
      "\n"
     ]
    },
    {
     "name": "stdout",
     "output_type": "stream",
     "text": [
      "[1] 15\n"
     ]
    },
    {
     "name": "stderr",
     "output_type": "stream",
     "text": [
      "nonproductive aaCDR3 removed\n",
      "\n",
      "number of clones in file:batchFFPE_3Apr2020/mixcr/clones/CLONES_TRACHP_394-FFPE-DNA_S4.txt\n",
      "\n"
     ]
    },
    {
     "name": "stdout",
     "output_type": "stream",
     "text": [
      "[1] 3\n"
     ]
    },
    {
     "name": "stderr",
     "output_type": "stream",
     "text": [
      "number of non prodcutive CDR3s:\n",
      "\n"
     ]
    },
    {
     "name": "stdout",
     "output_type": "stream",
     "text": [
      "[1] 2\n"
     ]
    },
    {
     "name": "stderr",
     "output_type": "stream",
     "text": [
      "nonproductive aaCDR3 removed\n",
      "\n",
      "number of clones in file:batchFFPE_3Apr2020/mixcr/clones/CLONES_TRACHP_400-FFPE-DNA_S1.txt\n",
      "\n"
     ]
    },
    {
     "name": "stdout",
     "output_type": "stream",
     "text": [
      "[1] 177\n"
     ]
    },
    {
     "name": "stderr",
     "output_type": "stream",
     "text": [
      "number of non prodcutive CDR3s:\n",
      "\n"
     ]
    },
    {
     "name": "stdout",
     "output_type": "stream",
     "text": [
      "[1] 91\n"
     ]
    },
    {
     "name": "stderr",
     "output_type": "stream",
     "text": [
      "nonproductive aaCDR3 removed\n",
      "\n",
      "number of clones in file:batchFFPE_3Apr2020/mixcr/clones/CLONES_TRACHP_401-FFPE-DNA_S1.txt\n",
      "\n"
     ]
    },
    {
     "name": "stdout",
     "output_type": "stream",
     "text": [
      "[1] 50\n"
     ]
    },
    {
     "name": "stderr",
     "output_type": "stream",
     "text": [
      "number of non prodcutive CDR3s:\n",
      "\n"
     ]
    },
    {
     "name": "stdout",
     "output_type": "stream",
     "text": [
      "[1] 24\n"
     ]
    },
    {
     "name": "stderr",
     "output_type": "stream",
     "text": [
      "nonproductive aaCDR3 removed\n",
      "\n",
      "number of clones in file:batchFFPE_3Apr2020/mixcr/clones/CLONES_TRACHP_404_A-FFPE-DNA.txt\n",
      "\n"
     ]
    },
    {
     "name": "stdout",
     "output_type": "stream",
     "text": [
      "[1] 53\n"
     ]
    },
    {
     "name": "stderr",
     "output_type": "stream",
     "text": [
      "number of non prodcutive CDR3s:\n",
      "\n"
     ]
    },
    {
     "name": "stdout",
     "output_type": "stream",
     "text": [
      "[1] 23\n"
     ]
    },
    {
     "name": "stderr",
     "output_type": "stream",
     "text": [
      "nonproductive aaCDR3 removed\n",
      "\n",
      "number of clones in file:batchFFPE_3Apr2020/mixcr/clones/CLONES_TRACHP_404_B-FFPE-DNA.txt\n",
      "\n"
     ]
    },
    {
     "name": "stdout",
     "output_type": "stream",
     "text": [
      "[1] 39\n"
     ]
    },
    {
     "name": "stderr",
     "output_type": "stream",
     "text": [
      "number of non prodcutive CDR3s:\n",
      "\n"
     ]
    },
    {
     "name": "stdout",
     "output_type": "stream",
     "text": [
      "[1] 20\n"
     ]
    },
    {
     "name": "stderr",
     "output_type": "stream",
     "text": [
      "nonproductive aaCDR3 removed\n",
      "\n",
      "number of clones in file:batchFFPE_3Apr2020/mixcr/clones/CLONES_TRACHP_407-FFPE-DNA_S7.txt\n",
      "\n"
     ]
    },
    {
     "name": "stdout",
     "output_type": "stream",
     "text": [
      "[1] 7\n"
     ]
    },
    {
     "name": "stderr",
     "output_type": "stream",
     "text": [
      "number of non prodcutive CDR3s:\n",
      "\n"
     ]
    },
    {
     "name": "stdout",
     "output_type": "stream",
     "text": [
      "[1] 4\n"
     ]
    },
    {
     "name": "stderr",
     "output_type": "stream",
     "text": [
      "nonproductive aaCDR3 removed\n",
      "\n",
      "number of clones in file:batchFFPE_3Apr2020/mixcr/clones/CLONES_TRACHP_412-FFPE-DNA_S1.txt\n",
      "\n"
     ]
    },
    {
     "name": "stdout",
     "output_type": "stream",
     "text": [
      "[1] 374\n"
     ]
    },
    {
     "name": "stderr",
     "output_type": "stream",
     "text": [
      "number of non prodcutive CDR3s:\n",
      "\n"
     ]
    },
    {
     "name": "stdout",
     "output_type": "stream",
     "text": [
      "[1] 145\n"
     ]
    },
    {
     "name": "stderr",
     "output_type": "stream",
     "text": [
      "nonproductive aaCDR3 removed\n",
      "\n",
      "number of clones in file:batchFFPE_3Apr2020/mixcr/clones/CLONES_TRACHP_418-FFPE-DNA_S2.txt\n",
      "\n"
     ]
    },
    {
     "name": "stdout",
     "output_type": "stream",
     "text": [
      "[1] 16\n"
     ]
    },
    {
     "name": "stderr",
     "output_type": "stream",
     "text": [
      "number of non prodcutive CDR3s:\n",
      "\n"
     ]
    },
    {
     "name": "stdout",
     "output_type": "stream",
     "text": [
      "[1] 11\n"
     ]
    },
    {
     "name": "stderr",
     "output_type": "stream",
     "text": [
      "nonproductive aaCDR3 removed\n",
      "\n",
      "number of clones in file:batchFFPE_3Apr2020/mixcr/clones/CLONES_TRACHP_419-FFPE-DNA_S2.txt\n",
      "\n"
     ]
    },
    {
     "name": "stdout",
     "output_type": "stream",
     "text": [
      "[1] 5\n"
     ]
    },
    {
     "name": "stderr",
     "output_type": "stream",
     "text": [
      "number of non prodcutive CDR3s:\n",
      "\n"
     ]
    },
    {
     "name": "stdout",
     "output_type": "stream",
     "text": [
      "[1] 0\n"
     ]
    },
    {
     "name": "stderr",
     "output_type": "stream",
     "text": [
      "nonproductive aaCDR3 removed\n",
      "\n",
      "number of clones in file:batchNormal_16Apr2020/mixcr/clones/CLONES_TRACHP_10YO-M_PBMC_DNA.txt\n",
      "\n"
     ]
    },
    {
     "name": "stdout",
     "output_type": "stream",
     "text": [
      "[1] 194\n"
     ]
    },
    {
     "name": "stderr",
     "output_type": "stream",
     "text": [
      "number of non prodcutive CDR3s:\n",
      "\n"
     ]
    },
    {
     "name": "stdout",
     "output_type": "stream",
     "text": [
      "[1] 114\n"
     ]
    },
    {
     "name": "stderr",
     "output_type": "stream",
     "text": [
      "nonproductive aaCDR3 removed\n",
      "\n",
      "number of clones in file:batchNormal_16Apr2020/mixcr/clones/CLONES_TRACHP_11YO-M_PBMC_DNA.txt\n",
      "\n"
     ]
    },
    {
     "name": "stdout",
     "output_type": "stream",
     "text": [
      "[1] 131\n"
     ]
    },
    {
     "name": "stderr",
     "output_type": "stream",
     "text": [
      "number of non prodcutive CDR3s:\n",
      "\n"
     ]
    },
    {
     "name": "stdout",
     "output_type": "stream",
     "text": [
      "[1] 63\n"
     ]
    },
    {
     "name": "stderr",
     "output_type": "stream",
     "text": [
      "nonproductive aaCDR3 removed\n",
      "\n",
      "number of clones in file:batchNormal_16Apr2020/mixcr/clones/CLONES_TRACHP_15YO-F-A_PBMC_DNA.txt\n",
      "\n"
     ]
    },
    {
     "name": "stdout",
     "output_type": "stream",
     "text": [
      "[1] 71\n"
     ]
    },
    {
     "name": "stderr",
     "output_type": "stream",
     "text": [
      "number of non prodcutive CDR3s:\n",
      "\n"
     ]
    },
    {
     "name": "stdout",
     "output_type": "stream",
     "text": [
      "[1] 31\n"
     ]
    },
    {
     "name": "stderr",
     "output_type": "stream",
     "text": [
      "nonproductive aaCDR3 removed\n",
      "\n",
      "number of clones in file:batchNormal_16Apr2020/mixcr/clones/CLONES_TRACHP_15YO-F-B_PBMC_DNA.txt\n",
      "\n"
     ]
    },
    {
     "name": "stdout",
     "output_type": "stream",
     "text": [
      "[1] 34\n"
     ]
    },
    {
     "name": "stderr",
     "output_type": "stream",
     "text": [
      "number of non prodcutive CDR3s:\n",
      "\n"
     ]
    },
    {
     "name": "stdout",
     "output_type": "stream",
     "text": [
      "[1] 18\n"
     ]
    },
    {
     "name": "stderr",
     "output_type": "stream",
     "text": [
      "nonproductive aaCDR3 removed\n",
      "\n",
      "number of clones in file:batchNormal_16Apr2020/mixcr/clones/CLONES_TRACHP_15YO-M_PBMC_DNA.txt\n",
      "\n"
     ]
    },
    {
     "name": "stdout",
     "output_type": "stream",
     "text": [
      "[1] 172\n"
     ]
    },
    {
     "name": "stderr",
     "output_type": "stream",
     "text": [
      "number of non prodcutive CDR3s:\n",
      "\n"
     ]
    },
    {
     "name": "stdout",
     "output_type": "stream",
     "text": [
      "[1] 78\n"
     ]
    },
    {
     "name": "stderr",
     "output_type": "stream",
     "text": [
      "nonproductive aaCDR3 removed\n",
      "\n",
      "number of clones in file:batchNormal_16Apr2020/mixcr/clones/CLONES_TRACHP_16YO-M_PBMC_DNA.txt\n",
      "\n"
     ]
    },
    {
     "name": "stdout",
     "output_type": "stream",
     "text": [
      "[1] 42\n"
     ]
    },
    {
     "name": "stderr",
     "output_type": "stream",
     "text": [
      "number of non prodcutive CDR3s:\n",
      "\n"
     ]
    },
    {
     "name": "stdout",
     "output_type": "stream",
     "text": [
      "[1] 28\n"
     ]
    },
    {
     "name": "stderr",
     "output_type": "stream",
     "text": [
      "nonproductive aaCDR3 removed\n",
      "\n",
      "number of clones in file:batchNormal_16Apr2020/mixcr/clones/CLONES_TRACHP_1YO-M-A_PBMC_DNA.txt\n",
      "\n"
     ]
    },
    {
     "name": "stdout",
     "output_type": "stream",
     "text": [
      "[1] 634\n"
     ]
    },
    {
     "name": "stderr",
     "output_type": "stream",
     "text": [
      "number of non prodcutive CDR3s:\n",
      "\n"
     ]
    },
    {
     "name": "stdout",
     "output_type": "stream",
     "text": [
      "[1] 375\n"
     ]
    },
    {
     "name": "stderr",
     "output_type": "stream",
     "text": [
      "nonproductive aaCDR3 removed\n",
      "\n",
      "number of clones in file:batchNormal_16Apr2020/mixcr/clones/CLONES_TRACHP_1YO-M-B_PBMC_DNA.txt\n",
      "\n"
     ]
    },
    {
     "name": "stdout",
     "output_type": "stream",
     "text": [
      "[1] 50\n"
     ]
    },
    {
     "name": "stderr",
     "output_type": "stream",
     "text": [
      "number of non prodcutive CDR3s:\n",
      "\n"
     ]
    },
    {
     "name": "stdout",
     "output_type": "stream",
     "text": [
      "[1] 25\n"
     ]
    },
    {
     "name": "stderr",
     "output_type": "stream",
     "text": [
      "nonproductive aaCDR3 removed\n",
      "\n",
      "number of clones in file:batchNormal_16Apr2020/mixcr/clones/CLONES_TRACHP_2YO-M_PBMC_DNA.txt\n",
      "\n"
     ]
    },
    {
     "name": "stdout",
     "output_type": "stream",
     "text": [
      "[1] 95\n"
     ]
    },
    {
     "name": "stderr",
     "output_type": "stream",
     "text": [
      "number of non prodcutive CDR3s:\n",
      "\n"
     ]
    },
    {
     "name": "stdout",
     "output_type": "stream",
     "text": [
      "[1] 49\n"
     ]
    },
    {
     "name": "stderr",
     "output_type": "stream",
     "text": [
      "nonproductive aaCDR3 removed\n",
      "\n",
      "number of clones in file:batchNormal_16Apr2020/mixcr/clones/CLONES_TRACHP_3YO-F_PBMC_DNA.txt\n",
      "\n"
     ]
    },
    {
     "name": "stdout",
     "output_type": "stream",
     "text": [
      "[1] 113\n"
     ]
    },
    {
     "name": "stderr",
     "output_type": "stream",
     "text": [
      "number of non prodcutive CDR3s:\n",
      "\n"
     ]
    },
    {
     "name": "stdout",
     "output_type": "stream",
     "text": [
      "[1] 58\n"
     ]
    },
    {
     "name": "stderr",
     "output_type": "stream",
     "text": [
      "nonproductive aaCDR3 removed\n",
      "\n",
      "number of clones in file:batchNormal_16Apr2020/mixcr/clones/CLONES_TRACHP_3YO-M-A_PBMC_DNA.txt\n",
      "\n"
     ]
    },
    {
     "name": "stdout",
     "output_type": "stream",
     "text": [
      "[1] 161\n"
     ]
    },
    {
     "name": "stderr",
     "output_type": "stream",
     "text": [
      "number of non prodcutive CDR3s:\n",
      "\n"
     ]
    },
    {
     "name": "stdout",
     "output_type": "stream",
     "text": [
      "[1] 105\n"
     ]
    },
    {
     "name": "stderr",
     "output_type": "stream",
     "text": [
      "nonproductive aaCDR3 removed\n",
      "\n",
      "number of clones in file:batchNormal_16Apr2020/mixcr/clones/CLONES_TRACHP_3YO-M-B_PBMC_DNA.txt\n",
      "\n"
     ]
    },
    {
     "name": "stdout",
     "output_type": "stream",
     "text": [
      "[1] 130\n"
     ]
    },
    {
     "name": "stderr",
     "output_type": "stream",
     "text": [
      "number of non prodcutive CDR3s:\n",
      "\n"
     ]
    },
    {
     "name": "stdout",
     "output_type": "stream",
     "text": [
      "[1] 79\n"
     ]
    },
    {
     "name": "stderr",
     "output_type": "stream",
     "text": [
      "nonproductive aaCDR3 removed\n",
      "\n",
      "number of clones in file:batchNormal_16Apr2020/mixcr/clones/CLONES_TRACHP_5YO-M_PBMC_DNA.txt\n",
      "\n"
     ]
    },
    {
     "name": "stdout",
     "output_type": "stream",
     "text": [
      "[1] 95\n"
     ]
    },
    {
     "name": "stderr",
     "output_type": "stream",
     "text": [
      "number of non prodcutive CDR3s:\n",
      "\n"
     ]
    },
    {
     "name": "stdout",
     "output_type": "stream",
     "text": [
      "[1] 56\n"
     ]
    },
    {
     "name": "stderr",
     "output_type": "stream",
     "text": [
      "nonproductive aaCDR3 removed\n",
      "\n",
      "number of clones in file:batchNormal_16Apr2020/mixcr/clones/CLONES_TRACHP_8MO-F_PBMC_DNA.txt\n",
      "\n"
     ]
    },
    {
     "name": "stdout",
     "output_type": "stream",
     "text": [
      "[1] 289\n"
     ]
    },
    {
     "name": "stderr",
     "output_type": "stream",
     "text": [
      "number of non prodcutive CDR3s:\n",
      "\n"
     ]
    },
    {
     "name": "stdout",
     "output_type": "stream",
     "text": [
      "[1] 176\n"
     ]
    },
    {
     "name": "stderr",
     "output_type": "stream",
     "text": [
      "nonproductive aaCDR3 removed\n",
      "\n",
      "number of clones in file:cfDNA_Matched_Priority_Pool1_19Nov2021/mixcr/clones/CLONES_TRACHP_371-05_cfDNA.txt\n",
      "\n"
     ]
    },
    {
     "name": "stdout",
     "output_type": "stream",
     "text": [
      "[1] 66\n"
     ]
    },
    {
     "name": "stderr",
     "output_type": "stream",
     "text": [
      "number of non prodcutive CDR3s:\n",
      "\n"
     ]
    },
    {
     "name": "stdout",
     "output_type": "stream",
     "text": [
      "[1] 39\n"
     ]
    },
    {
     "name": "stderr",
     "output_type": "stream",
     "text": [
      "nonproductive aaCDR3 removed\n",
      "\n",
      "number of clones in file:cfDNA_Matched_Priority_Pool1_19Nov2021/mixcr/clones/CLONES_TRACHP_380-03_cfDNA.txt\n",
      "\n"
     ]
    },
    {
     "name": "stdout",
     "output_type": "stream",
     "text": [
      "[1] 34\n"
     ]
    },
    {
     "name": "stderr",
     "output_type": "stream",
     "text": [
      "number of non prodcutive CDR3s:\n",
      "\n"
     ]
    },
    {
     "name": "stdout",
     "output_type": "stream",
     "text": [
      "[1] 19\n"
     ]
    },
    {
     "name": "stderr",
     "output_type": "stream",
     "text": [
      "nonproductive aaCDR3 removed\n",
      "\n",
      "number of clones in file:cfDNA_Matched_Priority_Pool1_19Nov2021/mixcr/clones/CLONES_TRACHP_382-03_cfDNA.txt\n",
      "\n"
     ]
    },
    {
     "name": "stdout",
     "output_type": "stream",
     "text": [
      "[1] 15\n"
     ]
    },
    {
     "name": "stderr",
     "output_type": "stream",
     "text": [
      "number of non prodcutive CDR3s:\n",
      "\n"
     ]
    },
    {
     "name": "stdout",
     "output_type": "stream",
     "text": [
      "[1] 9\n"
     ]
    },
    {
     "name": "stderr",
     "output_type": "stream",
     "text": [
      "nonproductive aaCDR3 removed\n",
      "\n",
      "number of clones in file:cfDNA_Matched_Priority_Pool1_19Nov2021/mixcr/clones/CLONES_TRACHP_383-01_cfDNA.txt\n",
      "\n"
     ]
    },
    {
     "name": "stdout",
     "output_type": "stream",
     "text": [
      "[1] 28\n"
     ]
    },
    {
     "name": "stderr",
     "output_type": "stream",
     "text": [
      "number of non prodcutive CDR3s:\n",
      "\n"
     ]
    },
    {
     "name": "stdout",
     "output_type": "stream",
     "text": [
      "[1] 17\n"
     ]
    },
    {
     "name": "stderr",
     "output_type": "stream",
     "text": [
      "nonproductive aaCDR3 removed\n",
      "\n",
      "number of clones in file:cfDNA_Matched_Priority_Pool1_19Nov2021/mixcr/clones/CLONES_TRACHP_383-04_cfDNA.txt\n",
      "\n"
     ]
    },
    {
     "name": "stdout",
     "output_type": "stream",
     "text": [
      "[1] 30\n"
     ]
    },
    {
     "name": "stderr",
     "output_type": "stream",
     "text": [
      "number of non prodcutive CDR3s:\n",
      "\n"
     ]
    },
    {
     "name": "stdout",
     "output_type": "stream",
     "text": [
      "[1] 15\n"
     ]
    },
    {
     "name": "stderr",
     "output_type": "stream",
     "text": [
      "nonproductive aaCDR3 removed\n",
      "\n",
      "number of clones in file:cfDNA_Matched_Priority_Pool1_19Nov2021/mixcr/clones/CLONES_TRACHP_388-02_cfDNA.txt\n",
      "\n"
     ]
    },
    {
     "name": "stdout",
     "output_type": "stream",
     "text": [
      "[1] 110\n"
     ]
    },
    {
     "name": "stderr",
     "output_type": "stream",
     "text": [
      "number of non prodcutive CDR3s:\n",
      "\n"
     ]
    },
    {
     "name": "stdout",
     "output_type": "stream",
     "text": [
      "[1] 61\n"
     ]
    },
    {
     "name": "stderr",
     "output_type": "stream",
     "text": [
      "nonproductive aaCDR3 removed\n",
      "\n",
      "number of clones in file:cfDNA_Matched_Priority_Pool1_19Nov2021/mixcr/clones/CLONES_TRACHP_388-03_cfDNA.txt\n",
      "\n"
     ]
    },
    {
     "name": "stdout",
     "output_type": "stream",
     "text": [
      "[1] 38\n"
     ]
    },
    {
     "name": "stderr",
     "output_type": "stream",
     "text": [
      "number of non prodcutive CDR3s:\n",
      "\n"
     ]
    },
    {
     "name": "stdout",
     "output_type": "stream",
     "text": [
      "[1] 18\n"
     ]
    },
    {
     "name": "stderr",
     "output_type": "stream",
     "text": [
      "nonproductive aaCDR3 removed\n",
      "\n",
      "number of clones in file:cfDNA_Matched_Priority_Pool1_19Nov2021/mixcr/clones/CLONES_TRACHP_389-04_cfDNA.txt\n",
      "\n"
     ]
    },
    {
     "name": "stdout",
     "output_type": "stream",
     "text": [
      "[1] 27\n"
     ]
    },
    {
     "name": "stderr",
     "output_type": "stream",
     "text": [
      "number of non prodcutive CDR3s:\n",
      "\n"
     ]
    },
    {
     "name": "stdout",
     "output_type": "stream",
     "text": [
      "[1] 12\n"
     ]
    },
    {
     "name": "stderr",
     "output_type": "stream",
     "text": [
      "nonproductive aaCDR3 removed\n",
      "\n",
      "number of clones in file:cfDNA_Matched_Priority_Pool1_19Nov2021/mixcr/clones/CLONES_TRACHP_390-05_cfDNA.txt\n",
      "\n"
     ]
    },
    {
     "name": "stdout",
     "output_type": "stream",
     "text": [
      "[1] 47\n"
     ]
    },
    {
     "name": "stderr",
     "output_type": "stream",
     "text": [
      "number of non prodcutive CDR3s:\n",
      "\n"
     ]
    },
    {
     "name": "stdout",
     "output_type": "stream",
     "text": [
      "[1] 27\n"
     ]
    },
    {
     "name": "stderr",
     "output_type": "stream",
     "text": [
      "nonproductive aaCDR3 removed\n",
      "\n",
      "number of clones in file:cfDNA_Matched_Priority_Pool1_19Nov2021/mixcr/clones/CLONES_TRACHP_392-04_cfDNA.txt\n",
      "\n"
     ]
    },
    {
     "name": "stdout",
     "output_type": "stream",
     "text": [
      "[1] 24\n"
     ]
    },
    {
     "name": "stderr",
     "output_type": "stream",
     "text": [
      "number of non prodcutive CDR3s:\n",
      "\n"
     ]
    },
    {
     "name": "stdout",
     "output_type": "stream",
     "text": [
      "[1] 17\n"
     ]
    },
    {
     "name": "stderr",
     "output_type": "stream",
     "text": [
      "nonproductive aaCDR3 removed\n",
      "\n",
      "number of clones in file:cfDNA_Matched_Priority_Pool1_19Nov2021/mixcr/clones/CLONES_TRACHP_396-03_cfDNA.txt\n",
      "\n"
     ]
    },
    {
     "name": "stdout",
     "output_type": "stream",
     "text": [
      "[1] 147\n"
     ]
    },
    {
     "name": "stderr",
     "output_type": "stream",
     "text": [
      "number of non prodcutive CDR3s:\n",
      "\n"
     ]
    },
    {
     "name": "stdout",
     "output_type": "stream",
     "text": [
      "[1] 53\n"
     ]
    },
    {
     "name": "stderr",
     "output_type": "stream",
     "text": [
      "nonproductive aaCDR3 removed\n",
      "\n",
      "number of clones in file:cfDNA_Matched_Priority_Pool1_19Nov2021/mixcr/clones/CLONES_TRACHP_399-02_cfDNA.txt\n",
      "\n"
     ]
    },
    {
     "name": "stdout",
     "output_type": "stream",
     "text": [
      "[1] 83\n"
     ]
    },
    {
     "name": "stderr",
     "output_type": "stream",
     "text": [
      "number of non prodcutive CDR3s:\n",
      "\n"
     ]
    },
    {
     "name": "stdout",
     "output_type": "stream",
     "text": [
      "[1] 31\n"
     ]
    },
    {
     "name": "stderr",
     "output_type": "stream",
     "text": [
      "nonproductive aaCDR3 removed\n",
      "\n",
      "number of clones in file:cfDNA_Matched_Priority_Pool1_19Nov2021/mixcr/clones/CLONES_TRACHP_399-03_cfDNA.txt\n",
      "\n"
     ]
    },
    {
     "name": "stdout",
     "output_type": "stream",
     "text": [
      "[1] 34\n"
     ]
    },
    {
     "name": "stderr",
     "output_type": "stream",
     "text": [
      "number of non prodcutive CDR3s:\n",
      "\n"
     ]
    },
    {
     "name": "stdout",
     "output_type": "stream",
     "text": [
      "[1] 18\n"
     ]
    },
    {
     "name": "stderr",
     "output_type": "stream",
     "text": [
      "nonproductive aaCDR3 removed\n",
      "\n",
      "number of clones in file:cfDNA_Matched_Priority_Pool1_19Nov2021/mixcr/clones/CLONES_TRACHP_400-01_cfDNA.txt\n",
      "\n"
     ]
    },
    {
     "name": "stdout",
     "output_type": "stream",
     "text": [
      "[1] 55\n"
     ]
    },
    {
     "name": "stderr",
     "output_type": "stream",
     "text": [
      "number of non prodcutive CDR3s:\n",
      "\n"
     ]
    },
    {
     "name": "stdout",
     "output_type": "stream",
     "text": [
      "[1] 29\n"
     ]
    },
    {
     "name": "stderr",
     "output_type": "stream",
     "text": [
      "nonproductive aaCDR3 removed\n",
      "\n",
      "number of clones in file:cfDNA_Matched_Priority_Pool1_19Nov2021/mixcr/clones/CLONES_TRACHP_401-04_cfDNA.txt\n",
      "\n"
     ]
    },
    {
     "name": "stdout",
     "output_type": "stream",
     "text": [
      "[1] 132\n"
     ]
    },
    {
     "name": "stderr",
     "output_type": "stream",
     "text": [
      "number of non prodcutive CDR3s:\n",
      "\n"
     ]
    },
    {
     "name": "stdout",
     "output_type": "stream",
     "text": [
      "[1] 66\n"
     ]
    },
    {
     "name": "stderr",
     "output_type": "stream",
     "text": [
      "nonproductive aaCDR3 removed\n",
      "\n",
      "number of clones in file:cfDNA_Matched_Priority_Pool1_19Nov2021/mixcr/clones/CLONES_TRACHP_404-01_cfDNA.txt\n",
      "\n"
     ]
    },
    {
     "name": "stdout",
     "output_type": "stream",
     "text": [
      "[1] 66\n"
     ]
    },
    {
     "name": "stderr",
     "output_type": "stream",
     "text": [
      "number of non prodcutive CDR3s:\n",
      "\n"
     ]
    },
    {
     "name": "stdout",
     "output_type": "stream",
     "text": [
      "[1] 23\n"
     ]
    },
    {
     "name": "stderr",
     "output_type": "stream",
     "text": [
      "nonproductive aaCDR3 removed\n",
      "\n",
      "number of clones in file:cfDNA_Matched_Priority_Pool1_19Nov2021/mixcr/clones/CLONES_TRACHP_409-03_cfDNA.txt\n",
      "\n"
     ]
    },
    {
     "name": "stdout",
     "output_type": "stream",
     "text": [
      "[1] 23\n"
     ]
    },
    {
     "name": "stderr",
     "output_type": "stream",
     "text": [
      "number of non prodcutive CDR3s:\n",
      "\n"
     ]
    },
    {
     "name": "stdout",
     "output_type": "stream",
     "text": [
      "[1] 10\n"
     ]
    },
    {
     "name": "stderr",
     "output_type": "stream",
     "text": [
      "nonproductive aaCDR3 removed\n",
      "\n",
      "number of clones in file:cfDNA_Matched_Priority_Pool1_19Nov2021/mixcr/clones/CLONES_TRACHP_415-03_cfDNA.txt\n",
      "\n"
     ]
    },
    {
     "name": "stdout",
     "output_type": "stream",
     "text": [
      "[1] 21\n"
     ]
    },
    {
     "name": "stderr",
     "output_type": "stream",
     "text": [
      "number of non prodcutive CDR3s:\n",
      "\n"
     ]
    },
    {
     "name": "stdout",
     "output_type": "stream",
     "text": [
      "[1] 9\n"
     ]
    },
    {
     "name": "stderr",
     "output_type": "stream",
     "text": [
      "nonproductive aaCDR3 removed\n",
      "\n",
      "number of clones in file:priority_pool2/mixcr/clones/CLONES_TRACHP_334-04_cfDNA.txt\n",
      "\n"
     ]
    },
    {
     "name": "stdout",
     "output_type": "stream",
     "text": [
      "[1] 45\n"
     ]
    },
    {
     "name": "stderr",
     "output_type": "stream",
     "text": [
      "number of non prodcutive CDR3s:\n",
      "\n"
     ]
    },
    {
     "name": "stdout",
     "output_type": "stream",
     "text": [
      "[1] 22\n"
     ]
    },
    {
     "name": "stderr",
     "output_type": "stream",
     "text": [
      "nonproductive aaCDR3 removed\n",
      "\n",
      "number of clones in file:priority_pool2/mixcr/clones/CLONES_TRACHP_337-05_cfDNA.txt\n",
      "\n"
     ]
    },
    {
     "name": "stdout",
     "output_type": "stream",
     "text": [
      "[1] 45\n"
     ]
    },
    {
     "name": "stderr",
     "output_type": "stream",
     "text": [
      "number of non prodcutive CDR3s:\n",
      "\n"
     ]
    },
    {
     "name": "stdout",
     "output_type": "stream",
     "text": [
      "[1] 17\n"
     ]
    },
    {
     "name": "stderr",
     "output_type": "stream",
     "text": [
      "nonproductive aaCDR3 removed\n",
      "\n",
      "number of clones in file:priority_pool2/mixcr/clones/CLONES_TRACHP_347-03_cfDNA.txt\n",
      "\n"
     ]
    },
    {
     "name": "stdout",
     "output_type": "stream",
     "text": [
      "[1] 30\n"
     ]
    },
    {
     "name": "stderr",
     "output_type": "stream",
     "text": [
      "number of non prodcutive CDR3s:\n",
      "\n"
     ]
    },
    {
     "name": "stdout",
     "output_type": "stream",
     "text": [
      "[1] 14\n"
     ]
    },
    {
     "name": "stderr",
     "output_type": "stream",
     "text": [
      "nonproductive aaCDR3 removed\n",
      "\n",
      "number of clones in file:priority_pool2/mixcr/clones/CLONES_TRACHP_362-01_cfDNA.txt\n",
      "\n"
     ]
    },
    {
     "name": "stdout",
     "output_type": "stream",
     "text": [
      "[1] 70\n"
     ]
    },
    {
     "name": "stderr",
     "output_type": "stream",
     "text": [
      "number of non prodcutive CDR3s:\n",
      "\n"
     ]
    },
    {
     "name": "stdout",
     "output_type": "stream",
     "text": [
      "[1] 33\n"
     ]
    },
    {
     "name": "stderr",
     "output_type": "stream",
     "text": [
      "nonproductive aaCDR3 removed\n",
      "\n",
      "number of clones in file:priority_pool2/mixcr/clones/CLONES_TRACHP_378-04_cfDNA.txt\n",
      "\n"
     ]
    },
    {
     "name": "stdout",
     "output_type": "stream",
     "text": [
      "[1] 92\n"
     ]
    },
    {
     "name": "stderr",
     "output_type": "stream",
     "text": [
      "number of non prodcutive CDR3s:\n",
      "\n"
     ]
    },
    {
     "name": "stdout",
     "output_type": "stream",
     "text": [
      "[1] 45\n"
     ]
    },
    {
     "name": "stderr",
     "output_type": "stream",
     "text": [
      "nonproductive aaCDR3 removed\n",
      "\n",
      "number of clones in file:priority_pool2/mixcr/clones/CLONES_TRACHP_380-05_cfDNA.txt\n",
      "\n"
     ]
    },
    {
     "name": "stdout",
     "output_type": "stream",
     "text": [
      "[1] 49\n"
     ]
    },
    {
     "name": "stderr",
     "output_type": "stream",
     "text": [
      "number of non prodcutive CDR3s:\n",
      "\n"
     ]
    },
    {
     "name": "stdout",
     "output_type": "stream",
     "text": [
      "[1] 30\n"
     ]
    },
    {
     "name": "stderr",
     "output_type": "stream",
     "text": [
      "nonproductive aaCDR3 removed\n",
      "\n",
      "number of clones in file:priority_pool2/mixcr/clones/CLONES_TRACHP_382-02_cfDNA.txt\n",
      "\n"
     ]
    },
    {
     "name": "stdout",
     "output_type": "stream",
     "text": [
      "[1] 20\n"
     ]
    },
    {
     "name": "stderr",
     "output_type": "stream",
     "text": [
      "number of non prodcutive CDR3s:\n",
      "\n"
     ]
    },
    {
     "name": "stdout",
     "output_type": "stream",
     "text": [
      "[1] 11\n"
     ]
    },
    {
     "name": "stderr",
     "output_type": "stream",
     "text": [
      "nonproductive aaCDR3 removed\n",
      "\n",
      "number of clones in file:priority_pool2/mixcr/clones/CLONES_TRACHP_389-03_cfDNA.txt\n",
      "\n"
     ]
    },
    {
     "name": "stdout",
     "output_type": "stream",
     "text": [
      "[1] 34\n"
     ]
    },
    {
     "name": "stderr",
     "output_type": "stream",
     "text": [
      "number of non prodcutive CDR3s:\n",
      "\n"
     ]
    },
    {
     "name": "stdout",
     "output_type": "stream",
     "text": [
      "[1] 14\n"
     ]
    },
    {
     "name": "stderr",
     "output_type": "stream",
     "text": [
      "nonproductive aaCDR3 removed\n",
      "\n",
      "number of clones in file:priority_pool2/mixcr/clones/CLONES_TRACHP_390-03_cfDNA.txt\n",
      "\n"
     ]
    },
    {
     "name": "stdout",
     "output_type": "stream",
     "text": [
      "[1] 96\n"
     ]
    },
    {
     "name": "stderr",
     "output_type": "stream",
     "text": [
      "number of non prodcutive CDR3s:\n",
      "\n"
     ]
    },
    {
     "name": "stdout",
     "output_type": "stream",
     "text": [
      "[1] 37\n"
     ]
    },
    {
     "name": "stderr",
     "output_type": "stream",
     "text": [
      "nonproductive aaCDR3 removed\n",
      "\n",
      "number of clones in file:priority_pool2/mixcr/clones/CLONES_TRACHP_395-02_cfDNA.txt\n",
      "\n"
     ]
    },
    {
     "name": "stdout",
     "output_type": "stream",
     "text": [
      "[1] 83\n"
     ]
    },
    {
     "name": "stderr",
     "output_type": "stream",
     "text": [
      "number of non prodcutive CDR3s:\n",
      "\n"
     ]
    },
    {
     "name": "stdout",
     "output_type": "stream",
     "text": [
      "[1] 39\n"
     ]
    },
    {
     "name": "stderr",
     "output_type": "stream",
     "text": [
      "nonproductive aaCDR3 removed\n",
      "\n",
      "number of clones in file:priority_pool2/mixcr/clones/CLONES_TRACHP_396-04_cfDNA.txt\n",
      "\n"
     ]
    },
    {
     "name": "stdout",
     "output_type": "stream",
     "text": [
      "[1] 37\n"
     ]
    },
    {
     "name": "stderr",
     "output_type": "stream",
     "text": [
      "number of non prodcutive CDR3s:\n",
      "\n"
     ]
    },
    {
     "name": "stdout",
     "output_type": "stream",
     "text": [
      "[1] 21\n"
     ]
    },
    {
     "name": "stderr",
     "output_type": "stream",
     "text": [
      "nonproductive aaCDR3 removed\n",
      "\n",
      "number of clones in file:priority_pool2/mixcr/clones/CLONES_TRACHP_398-05_cfDNA.txt\n",
      "\n"
     ]
    },
    {
     "name": "stdout",
     "output_type": "stream",
     "text": [
      "[1] 24\n"
     ]
    },
    {
     "name": "stderr",
     "output_type": "stream",
     "text": [
      "number of non prodcutive CDR3s:\n",
      "\n"
     ]
    },
    {
     "name": "stdout",
     "output_type": "stream",
     "text": [
      "[1] 8\n"
     ]
    },
    {
     "name": "stderr",
     "output_type": "stream",
     "text": [
      "nonproductive aaCDR3 removed\n",
      "\n",
      "number of clones in file:priority_pool2/mixcr/clones/CLONES_TRACHP_404-02_cfDNA.txt\n",
      "\n"
     ]
    },
    {
     "name": "stdout",
     "output_type": "stream",
     "text": [
      "[1] 137\n"
     ]
    },
    {
     "name": "stderr",
     "output_type": "stream",
     "text": [
      "number of non prodcutive CDR3s:\n",
      "\n"
     ]
    },
    {
     "name": "stdout",
     "output_type": "stream",
     "text": [
      "[1] 88\n"
     ]
    },
    {
     "name": "stderr",
     "output_type": "stream",
     "text": [
      "nonproductive aaCDR3 removed\n",
      "\n",
      "number of clones in file:priority_pool2/mixcr/clones/CLONES_TRACHP_408-03_cfDNA.txt\n",
      "\n"
     ]
    },
    {
     "name": "stdout",
     "output_type": "stream",
     "text": [
      "[1] 111\n"
     ]
    },
    {
     "name": "stderr",
     "output_type": "stream",
     "text": [
      "number of non prodcutive CDR3s:\n",
      "\n"
     ]
    },
    {
     "name": "stdout",
     "output_type": "stream",
     "text": [
      "[1] 50\n"
     ]
    },
    {
     "name": "stderr",
     "output_type": "stream",
     "text": [
      "nonproductive aaCDR3 removed\n",
      "\n",
      "number of clones in file:priority_pool2/mixcr/clones/CLONES_TRACHP_411-01_cfDNA.txt\n",
      "\n"
     ]
    },
    {
     "name": "stdout",
     "output_type": "stream",
     "text": [
      "[1] 146\n"
     ]
    },
    {
     "name": "stderr",
     "output_type": "stream",
     "text": [
      "number of non prodcutive CDR3s:\n",
      "\n"
     ]
    },
    {
     "name": "stdout",
     "output_type": "stream",
     "text": [
      "[1] 65\n"
     ]
    },
    {
     "name": "stderr",
     "output_type": "stream",
     "text": [
      "nonproductive aaCDR3 removed\n",
      "\n",
      "number of clones in file:priority_pool2/mixcr/clones/CLONES_TRACHP_412-01_cfDNA.txt\n",
      "\n"
     ]
    },
    {
     "name": "stdout",
     "output_type": "stream",
     "text": [
      "[1] 61\n"
     ]
    },
    {
     "name": "stderr",
     "output_type": "stream",
     "text": [
      "number of non prodcutive CDR3s:\n",
      "\n"
     ]
    },
    {
     "name": "stdout",
     "output_type": "stream",
     "text": [
      "[1] 20\n"
     ]
    },
    {
     "name": "stderr",
     "output_type": "stream",
     "text": [
      "nonproductive aaCDR3 removed\n",
      "\n",
      "number of clones in file:priority_pool2/mixcr/clones/CLONES_TRACHP_419-02_cfDNA.txt\n",
      "\n"
     ]
    },
    {
     "name": "stdout",
     "output_type": "stream",
     "text": [
      "[1] 30\n"
     ]
    },
    {
     "name": "stderr",
     "output_type": "stream",
     "text": [
      "number of non prodcutive CDR3s:\n",
      "\n"
     ]
    },
    {
     "name": "stdout",
     "output_type": "stream",
     "text": [
      "[1] 12\n"
     ]
    },
    {
     "name": "stderr",
     "output_type": "stream",
     "text": [
      "nonproductive aaCDR3 removed\n",
      "\n",
      "number of clones in file:priority_pool2/mixcr/clones/CLONES_TRACHP_422-01_cfDNA.txt\n",
      "\n"
     ]
    },
    {
     "name": "stdout",
     "output_type": "stream",
     "text": [
      "[1] 14\n"
     ]
    },
    {
     "name": "stderr",
     "output_type": "stream",
     "text": [
      "number of non prodcutive CDR3s:\n",
      "\n"
     ]
    },
    {
     "name": "stdout",
     "output_type": "stream",
     "text": [
      "[1] 8\n"
     ]
    },
    {
     "name": "stderr",
     "output_type": "stream",
     "text": [
      "nonproductive aaCDR3 removed\n",
      "\n",
      "number of clones in file:priority_pool3/mixcr/clones/CLONES_TRACHP_340-04_cfDNA.txt\n",
      "\n"
     ]
    },
    {
     "name": "stdout",
     "output_type": "stream",
     "text": [
      "[1] 80\n"
     ]
    },
    {
     "name": "stderr",
     "output_type": "stream",
     "text": [
      "number of non prodcutive CDR3s:\n",
      "\n"
     ]
    },
    {
     "name": "stdout",
     "output_type": "stream",
     "text": [
      "[1] 39\n"
     ]
    },
    {
     "name": "stderr",
     "output_type": "stream",
     "text": [
      "nonproductive aaCDR3 removed\n",
      "\n",
      "number of clones in file:priority_pool3/mixcr/clones/CLONES_TRACHP_342-02-cfDNA.txt\n",
      "\n"
     ]
    },
    {
     "name": "stdout",
     "output_type": "stream",
     "text": [
      "[1] 68\n"
     ]
    },
    {
     "name": "stderr",
     "output_type": "stream",
     "text": [
      "number of non prodcutive CDR3s:\n",
      "\n"
     ]
    },
    {
     "name": "stdout",
     "output_type": "stream",
     "text": [
      "[1] 37\n"
     ]
    },
    {
     "name": "stderr",
     "output_type": "stream",
     "text": [
      "nonproductive aaCDR3 removed\n",
      "\n",
      "number of clones in file:priority_pool3/mixcr/clones/CLONES_TRACHP_358-04_cfDNA.txt\n",
      "\n"
     ]
    },
    {
     "name": "stdout",
     "output_type": "stream",
     "text": [
      "[1] 107\n"
     ]
    },
    {
     "name": "stderr",
     "output_type": "stream",
     "text": [
      "number of non prodcutive CDR3s:\n",
      "\n"
     ]
    },
    {
     "name": "stdout",
     "output_type": "stream",
     "text": [
      "[1] 53\n"
     ]
    },
    {
     "name": "stderr",
     "output_type": "stream",
     "text": [
      "nonproductive aaCDR3 removed\n",
      "\n",
      "number of clones in file:priority_pool3/mixcr/clones/CLONES_TRACHP_361-04_cfDNA.txt\n",
      "\n"
     ]
    },
    {
     "name": "stdout",
     "output_type": "stream",
     "text": [
      "[1] 49\n"
     ]
    },
    {
     "name": "stderr",
     "output_type": "stream",
     "text": [
      "number of non prodcutive CDR3s:\n",
      "\n"
     ]
    },
    {
     "name": "stdout",
     "output_type": "stream",
     "text": [
      "[1] 28\n"
     ]
    },
    {
     "name": "stderr",
     "output_type": "stream",
     "text": [
      "nonproductive aaCDR3 removed\n",
      "\n",
      "number of clones in file:priority_pool3/mixcr/clones/CLONES_TRACHP_364-03_cfDNA.txt\n",
      "\n"
     ]
    },
    {
     "name": "stdout",
     "output_type": "stream",
     "text": [
      "[1] 27\n"
     ]
    },
    {
     "name": "stderr",
     "output_type": "stream",
     "text": [
      "number of non prodcutive CDR3s:\n",
      "\n"
     ]
    },
    {
     "name": "stdout",
     "output_type": "stream",
     "text": [
      "[1] 9\n"
     ]
    },
    {
     "name": "stderr",
     "output_type": "stream",
     "text": [
      "nonproductive aaCDR3 removed\n",
      "\n",
      "number of clones in file:priority_pool3/mixcr/clones/CLONES_TRACHP_365-05_cfDNA.txt\n",
      "\n"
     ]
    },
    {
     "name": "stdout",
     "output_type": "stream",
     "text": [
      "[1] 59\n"
     ]
    },
    {
     "name": "stderr",
     "output_type": "stream",
     "text": [
      "number of non prodcutive CDR3s:\n",
      "\n"
     ]
    },
    {
     "name": "stdout",
     "output_type": "stream",
     "text": [
      "[1] 28\n"
     ]
    },
    {
     "name": "stderr",
     "output_type": "stream",
     "text": [
      "nonproductive aaCDR3 removed\n",
      "\n",
      "number of clones in file:priority_pool3/mixcr/clones/CLONES_TRACHP_366-03_cfDNA.txt\n",
      "\n"
     ]
    },
    {
     "name": "stdout",
     "output_type": "stream",
     "text": [
      "[1] 33\n"
     ]
    },
    {
     "name": "stderr",
     "output_type": "stream",
     "text": [
      "number of non prodcutive CDR3s:\n",
      "\n"
     ]
    },
    {
     "name": "stdout",
     "output_type": "stream",
     "text": [
      "[1] 15\n"
     ]
    },
    {
     "name": "stderr",
     "output_type": "stream",
     "text": [
      "nonproductive aaCDR3 removed\n",
      "\n",
      "number of clones in file:priority_pool3/mixcr/clones/CLONES_TRACHP_368-04_cfDNA.txt\n",
      "\n"
     ]
    },
    {
     "name": "stdout",
     "output_type": "stream",
     "text": [
      "[1] 59\n"
     ]
    },
    {
     "name": "stderr",
     "output_type": "stream",
     "text": [
      "number of non prodcutive CDR3s:\n",
      "\n"
     ]
    },
    {
     "name": "stdout",
     "output_type": "stream",
     "text": [
      "[1] 22\n"
     ]
    },
    {
     "name": "stderr",
     "output_type": "stream",
     "text": [
      "nonproductive aaCDR3 removed\n",
      "\n",
      "number of clones in file:priority_pool3/mixcr/clones/CLONES_TRACHP_373-04_cfDNA.txt\n",
      "\n"
     ]
    },
    {
     "name": "stdout",
     "output_type": "stream",
     "text": [
      "[1] 24\n"
     ]
    },
    {
     "name": "stderr",
     "output_type": "stream",
     "text": [
      "number of non prodcutive CDR3s:\n",
      "\n"
     ]
    },
    {
     "name": "stdout",
     "output_type": "stream",
     "text": [
      "[1] 9\n"
     ]
    },
    {
     "name": "stderr",
     "output_type": "stream",
     "text": [
      "nonproductive aaCDR3 removed\n",
      "\n",
      "number of clones in file:priority_pool3/mixcr/clones/CLONES_TRACHP_384-01_cfDNA.txt\n",
      "\n"
     ]
    },
    {
     "name": "stdout",
     "output_type": "stream",
     "text": [
      "[1] 189\n"
     ]
    },
    {
     "name": "stderr",
     "output_type": "stream",
     "text": [
      "number of non prodcutive CDR3s:\n",
      "\n"
     ]
    },
    {
     "name": "stdout",
     "output_type": "stream",
     "text": [
      "[1] 93\n"
     ]
    },
    {
     "name": "stderr",
     "output_type": "stream",
     "text": [
      "nonproductive aaCDR3 removed\n",
      "\n",
      "number of clones in file:priority_pool3/mixcr/clones/CLONES_TRACHP_391-04_cfDNA.txt\n",
      "\n"
     ]
    },
    {
     "name": "stdout",
     "output_type": "stream",
     "text": [
      "[1] 18\n"
     ]
    },
    {
     "name": "stderr",
     "output_type": "stream",
     "text": [
      "number of non prodcutive CDR3s:\n",
      "\n"
     ]
    },
    {
     "name": "stdout",
     "output_type": "stream",
     "text": [
      "[1] 12\n"
     ]
    },
    {
     "name": "stderr",
     "output_type": "stream",
     "text": [
      "nonproductive aaCDR3 removed\n",
      "\n",
      "number of clones in file:priority_pool3/mixcr/clones/CLONES_TRACHP_394-02_cfDNA.txt\n",
      "\n"
     ]
    },
    {
     "name": "stdout",
     "output_type": "stream",
     "text": [
      "[1] 9\n"
     ]
    },
    {
     "name": "stderr",
     "output_type": "stream",
     "text": [
      "number of non prodcutive CDR3s:\n",
      "\n"
     ]
    },
    {
     "name": "stdout",
     "output_type": "stream",
     "text": [
      "[1] 8\n"
     ]
    },
    {
     "name": "stderr",
     "output_type": "stream",
     "text": [
      "nonproductive aaCDR3 removed\n",
      "\n",
      "number of clones in file:priority_pool3/mixcr/clones/CLONES_TRACHP_394-04_cfDNA.txt\n",
      "\n"
     ]
    },
    {
     "name": "stdout",
     "output_type": "stream",
     "text": [
      "[1] 40\n"
     ]
    },
    {
     "name": "stderr",
     "output_type": "stream",
     "text": [
      "number of non prodcutive CDR3s:\n",
      "\n"
     ]
    },
    {
     "name": "stdout",
     "output_type": "stream",
     "text": [
      "[1] 19\n"
     ]
    },
    {
     "name": "stderr",
     "output_type": "stream",
     "text": [
      "nonproductive aaCDR3 removed\n",
      "\n",
      "number of clones in file:priority_pool3/mixcr/clones/CLONES_TRACHP_399-04_cfDNA.txt\n",
      "\n"
     ]
    },
    {
     "name": "stdout",
     "output_type": "stream",
     "text": [
      "[1] 5\n"
     ]
    },
    {
     "name": "stderr",
     "output_type": "stream",
     "text": [
      "number of non prodcutive CDR3s:\n",
      "\n"
     ]
    },
    {
     "name": "stdout",
     "output_type": "stream",
     "text": [
      "[1] 2\n"
     ]
    },
    {
     "name": "stderr",
     "output_type": "stream",
     "text": [
      "nonproductive aaCDR3 removed\n",
      "\n",
      "number of clones in file:priority_pool3/mixcr/clones/CLONES_TRACHP_400-02_cfDNA.txt\n",
      "\n"
     ]
    },
    {
     "name": "stdout",
     "output_type": "stream",
     "text": [
      "[1] 22\n"
     ]
    },
    {
     "name": "stderr",
     "output_type": "stream",
     "text": [
      "number of non prodcutive CDR3s:\n",
      "\n"
     ]
    },
    {
     "name": "stdout",
     "output_type": "stream",
     "text": [
      "[1] 16\n"
     ]
    },
    {
     "name": "stderr",
     "output_type": "stream",
     "text": [
      "nonproductive aaCDR3 removed\n",
      "\n",
      "number of clones in file:priority_pool3/mixcr/clones/CLONES_TRACHP_407-02_cfDNA.txt\n",
      "\n"
     ]
    },
    {
     "name": "stdout",
     "output_type": "stream",
     "text": [
      "[1] 143\n"
     ]
    },
    {
     "name": "stderr",
     "output_type": "stream",
     "text": [
      "number of non prodcutive CDR3s:\n",
      "\n"
     ]
    },
    {
     "name": "stdout",
     "output_type": "stream",
     "text": [
      "[1] 81\n"
     ]
    },
    {
     "name": "stderr",
     "output_type": "stream",
     "text": [
      "nonproductive aaCDR3 removed\n",
      "\n",
      "number of clones in file:priority_pool3/mixcr/clones/CLONES_TRACHP_409-02_cfDNA.txt\n",
      "\n"
     ]
    },
    {
     "name": "stdout",
     "output_type": "stream",
     "text": [
      "[1] 10\n"
     ]
    },
    {
     "name": "stderr",
     "output_type": "stream",
     "text": [
      "number of non prodcutive CDR3s:\n",
      "\n"
     ]
    },
    {
     "name": "stdout",
     "output_type": "stream",
     "text": [
      "[1] 5\n"
     ]
    },
    {
     "name": "stderr",
     "output_type": "stream",
     "text": [
      "nonproductive aaCDR3 removed\n",
      "\n",
      "number of clones in file:priority_pool3/mixcr/clones/CLONES_TRACHP_409-04_cfDNA.txt\n",
      "\n"
     ]
    },
    {
     "name": "stdout",
     "output_type": "stream",
     "text": [
      "[1] 4\n"
     ]
    },
    {
     "name": "stderr",
     "output_type": "stream",
     "text": [
      "number of non prodcutive CDR3s:\n",
      "\n"
     ]
    },
    {
     "name": "stdout",
     "output_type": "stream",
     "text": [
      "[1] 1\n"
     ]
    },
    {
     "name": "stderr",
     "output_type": "stream",
     "text": [
      "nonproductive aaCDR3 removed\n",
      "\n",
      "number of clones in file:priority_pool3/mixcr/clones/CLONES_TRACHP_410-01_cfDNA.txt\n",
      "\n"
     ]
    },
    {
     "name": "stdout",
     "output_type": "stream",
     "text": [
      "[1] 102\n"
     ]
    },
    {
     "name": "stderr",
     "output_type": "stream",
     "text": [
      "number of non prodcutive CDR3s:\n",
      "\n"
     ]
    },
    {
     "name": "stdout",
     "output_type": "stream",
     "text": [
      "[1] 58\n"
     ]
    },
    {
     "name": "stderr",
     "output_type": "stream",
     "text": [
      "nonproductive aaCDR3 removed\n",
      "\n",
      "number of clones in file:priority_pool3/mixcr/clones/CLONES_TRACHP_413-02_cfDNA.txt\n",
      "\n"
     ]
    },
    {
     "name": "stdout",
     "output_type": "stream",
     "text": [
      "[1] 31\n"
     ]
    },
    {
     "name": "stderr",
     "output_type": "stream",
     "text": [
      "number of non prodcutive CDR3s:\n",
      "\n"
     ]
    },
    {
     "name": "stdout",
     "output_type": "stream",
     "text": [
      "[1] 13\n"
     ]
    },
    {
     "name": "stderr",
     "output_type": "stream",
     "text": [
      "nonproductive aaCDR3 removed\n",
      "\n",
      "number of clones in file:remaining_batch_1_20April2021/mixcr/clones/CLONES_TRACHP_337-03_PBMC-DNA.txt\n",
      "\n"
     ]
    },
    {
     "name": "stdout",
     "output_type": "stream",
     "text": [
      "[1] 698\n"
     ]
    },
    {
     "name": "stderr",
     "output_type": "stream",
     "text": [
      "number of non prodcutive CDR3s:\n",
      "\n"
     ]
    },
    {
     "name": "stdout",
     "output_type": "stream",
     "text": [
      "[1] 390\n"
     ]
    },
    {
     "name": "stderr",
     "output_type": "stream",
     "text": [
      "nonproductive aaCDR3 removed\n",
      "\n",
      "number of clones in file:remaining_batch_1_20April2021/mixcr/clones/CLONES_TRACHP_348-05_PBMC-DNA.txt\n",
      "\n"
     ]
    },
    {
     "name": "stdout",
     "output_type": "stream",
     "text": [
      "[1] 963\n"
     ]
    },
    {
     "name": "stderr",
     "output_type": "stream",
     "text": [
      "number of non prodcutive CDR3s:\n",
      "\n"
     ]
    },
    {
     "name": "stdout",
     "output_type": "stream",
     "text": [
      "[1] 472\n"
     ]
    },
    {
     "name": "stderr",
     "output_type": "stream",
     "text": [
      "nonproductive aaCDR3 removed\n",
      "\n",
      "number of clones in file:remaining_batch_1_20April2021/mixcr/clones/CLONES_TRACHP_361-05_PBMC-DNA.txt\n",
      "\n"
     ]
    },
    {
     "name": "stdout",
     "output_type": "stream",
     "text": [
      "[1] 217\n"
     ]
    },
    {
     "name": "stderr",
     "output_type": "stream",
     "text": [
      "number of non prodcutive CDR3s:\n",
      "\n"
     ]
    },
    {
     "name": "stdout",
     "output_type": "stream",
     "text": [
      "[1] 125\n"
     ]
    },
    {
     "name": "stderr",
     "output_type": "stream",
     "text": [
      "nonproductive aaCDR3 removed\n",
      "\n",
      "number of clones in file:remaining_batch_1_20April2021/mixcr/clones/CLONES_TRACHP_363-05_PBMC-DNA.txt\n",
      "\n"
     ]
    },
    {
     "name": "stdout",
     "output_type": "stream",
     "text": [
      "[1] 246\n"
     ]
    },
    {
     "name": "stderr",
     "output_type": "stream",
     "text": [
      "number of non prodcutive CDR3s:\n",
      "\n"
     ]
    },
    {
     "name": "stdout",
     "output_type": "stream",
     "text": [
      "[1] 118\n"
     ]
    },
    {
     "name": "stderr",
     "output_type": "stream",
     "text": [
      "nonproductive aaCDR3 removed\n",
      "\n",
      "number of clones in file:remaining_batch_1_20April2021/mixcr/clones/CLONES_TRACHP_366-03_PBMC-DNA.txt\n",
      "\n"
     ]
    },
    {
     "name": "stdout",
     "output_type": "stream",
     "text": [
      "[1] 535\n"
     ]
    },
    {
     "name": "stderr",
     "output_type": "stream",
     "text": [
      "number of non prodcutive CDR3s:\n",
      "\n"
     ]
    },
    {
     "name": "stdout",
     "output_type": "stream",
     "text": [
      "[1] 271\n"
     ]
    },
    {
     "name": "stderr",
     "output_type": "stream",
     "text": [
      "nonproductive aaCDR3 removed\n",
      "\n",
      "number of clones in file:remaining_batch_1_20April2021/mixcr/clones/CLONES_TRACHP_366-04_PBMC-DNA.txt\n",
      "\n"
     ]
    },
    {
     "name": "stdout",
     "output_type": "stream",
     "text": [
      "[1] 701\n"
     ]
    },
    {
     "name": "stderr",
     "output_type": "stream",
     "text": [
      "number of non prodcutive CDR3s:\n",
      "\n"
     ]
    },
    {
     "name": "stdout",
     "output_type": "stream",
     "text": [
      "[1] 330\n"
     ]
    },
    {
     "name": "stderr",
     "output_type": "stream",
     "text": [
      "nonproductive aaCDR3 removed\n",
      "\n",
      "number of clones in file:remaining_batch_1_20April2021/mixcr/clones/CLONES_TRACHP_366-05_PBMC-DNA.txt\n",
      "\n"
     ]
    },
    {
     "name": "stdout",
     "output_type": "stream",
     "text": [
      "[1] 627\n"
     ]
    },
    {
     "name": "stderr",
     "output_type": "stream",
     "text": [
      "number of non prodcutive CDR3s:\n",
      "\n"
     ]
    },
    {
     "name": "stdout",
     "output_type": "stream",
     "text": [
      "[1] 299\n"
     ]
    },
    {
     "name": "stderr",
     "output_type": "stream",
     "text": [
      "nonproductive aaCDR3 removed\n",
      "\n",
      "number of clones in file:remaining_batch_1_20April2021/mixcr/clones/CLONES_TRACHP_367-03_PBMC-DNA.txt\n",
      "\n"
     ]
    },
    {
     "name": "stdout",
     "output_type": "stream",
     "text": [
      "[1] 1970\n"
     ]
    },
    {
     "name": "stderr",
     "output_type": "stream",
     "text": [
      "number of non prodcutive CDR3s:\n",
      "\n"
     ]
    },
    {
     "name": "stdout",
     "output_type": "stream",
     "text": [
      "[1] 986\n"
     ]
    },
    {
     "name": "stderr",
     "output_type": "stream",
     "text": [
      "nonproductive aaCDR3 removed\n",
      "\n",
      "number of clones in file:remaining_batch_1_20April2021/mixcr/clones/CLONES_TRACHP_377-01_PBMC-DNA.txt\n",
      "\n"
     ]
    },
    {
     "name": "stdout",
     "output_type": "stream",
     "text": [
      "[1] 793\n"
     ]
    },
    {
     "name": "stderr",
     "output_type": "stream",
     "text": [
      "number of non prodcutive CDR3s:\n",
      "\n"
     ]
    },
    {
     "name": "stdout",
     "output_type": "stream",
     "text": [
      "[1] 437\n"
     ]
    },
    {
     "name": "stderr",
     "output_type": "stream",
     "text": [
      "nonproductive aaCDR3 removed\n",
      "\n",
      "number of clones in file:remaining_batch_1_20April2021/mixcr/clones/CLONES_TRACHP_385-02_PBMC-DNA.txt\n",
      "\n"
     ]
    },
    {
     "name": "stdout",
     "output_type": "stream",
     "text": [
      "[1] 391\n"
     ]
    },
    {
     "name": "stderr",
     "output_type": "stream",
     "text": [
      "number of non prodcutive CDR3s:\n",
      "\n"
     ]
    },
    {
     "name": "stdout",
     "output_type": "stream",
     "text": [
      "[1] 177\n"
     ]
    },
    {
     "name": "stderr",
     "output_type": "stream",
     "text": [
      "nonproductive aaCDR3 removed\n",
      "\n",
      "number of clones in file:remaining_batch_1_20April2021/mixcr/clones/CLONES_TRACHP_389-03_PBMC-DNA.txt\n",
      "\n"
     ]
    },
    {
     "name": "stdout",
     "output_type": "stream",
     "text": [
      "[1] 873\n"
     ]
    },
    {
     "name": "stderr",
     "output_type": "stream",
     "text": [
      "number of non prodcutive CDR3s:\n",
      "\n"
     ]
    },
    {
     "name": "stdout",
     "output_type": "stream",
     "text": [
      "[1] 438\n"
     ]
    },
    {
     "name": "stderr",
     "output_type": "stream",
     "text": [
      "nonproductive aaCDR3 removed\n",
      "\n",
      "number of clones in file:remaining_batch_1_20April2021/mixcr/clones/CLONES_TRACHP_389-04_PBMC-DNA.txt\n",
      "\n"
     ]
    },
    {
     "name": "stdout",
     "output_type": "stream",
     "text": [
      "[1] 1636\n"
     ]
    },
    {
     "name": "stderr",
     "output_type": "stream",
     "text": [
      "number of non prodcutive CDR3s:\n",
      "\n"
     ]
    },
    {
     "name": "stdout",
     "output_type": "stream",
     "text": [
      "[1] 797\n"
     ]
    },
    {
     "name": "stderr",
     "output_type": "stream",
     "text": [
      "nonproductive aaCDR3 removed\n",
      "\n",
      "number of clones in file:remaining_batch_1_20April2021/mixcr/clones/CLONES_TRACHP_390-02_PBMC-DNA.txt\n",
      "\n"
     ]
    },
    {
     "name": "stdout",
     "output_type": "stream",
     "text": [
      "[1] 645\n"
     ]
    },
    {
     "name": "stderr",
     "output_type": "stream",
     "text": [
      "number of non prodcutive CDR3s:\n",
      "\n"
     ]
    },
    {
     "name": "stdout",
     "output_type": "stream",
     "text": [
      "[1] 384\n"
     ]
    },
    {
     "name": "stderr",
     "output_type": "stream",
     "text": [
      "nonproductive aaCDR3 removed\n",
      "\n",
      "number of clones in file:remaining_batch_1_20April2021/mixcr/clones/CLONES_TRACHP_390-03_PBMC-DNA.txt\n",
      "\n"
     ]
    },
    {
     "name": "stdout",
     "output_type": "stream",
     "text": [
      "[1] 1109\n"
     ]
    },
    {
     "name": "stderr",
     "output_type": "stream",
     "text": [
      "number of non prodcutive CDR3s:\n",
      "\n"
     ]
    },
    {
     "name": "stdout",
     "output_type": "stream",
     "text": [
      "[1] 602\n"
     ]
    },
    {
     "name": "stderr",
     "output_type": "stream",
     "text": [
      "nonproductive aaCDR3 removed\n",
      "\n",
      "number of clones in file:remaining_batch_1_20April2021/mixcr/clones/CLONES_TRACHP_393-02_PBMC-DNA.txt\n",
      "\n"
     ]
    },
    {
     "name": "stdout",
     "output_type": "stream",
     "text": [
      "[1] 543\n"
     ]
    },
    {
     "name": "stderr",
     "output_type": "stream",
     "text": [
      "number of non prodcutive CDR3s:\n",
      "\n"
     ]
    },
    {
     "name": "stdout",
     "output_type": "stream",
     "text": [
      "[1] 274\n"
     ]
    },
    {
     "name": "stderr",
     "output_type": "stream",
     "text": [
      "nonproductive aaCDR3 removed\n",
      "\n",
      "number of clones in file:remaining_batch_1_20April2021/mixcr/clones/CLONES_TRACHP_401-01_PBMC-DNA.txt\n",
      "\n"
     ]
    },
    {
     "name": "stdout",
     "output_type": "stream",
     "text": [
      "[1] 564\n"
     ]
    },
    {
     "name": "stderr",
     "output_type": "stream",
     "text": [
      "number of non prodcutive CDR3s:\n",
      "\n"
     ]
    },
    {
     "name": "stdout",
     "output_type": "stream",
     "text": [
      "[1] 294\n"
     ]
    },
    {
     "name": "stderr",
     "output_type": "stream",
     "text": [
      "nonproductive aaCDR3 removed\n",
      "\n",
      "number of clones in file:remaining_batch_1_cfDNA_8April2021/mixcr/clones/CLONES_TRACHP_323-05_cfDNA.txt\n",
      "\n"
     ]
    },
    {
     "name": "stdout",
     "output_type": "stream",
     "text": [
      "[1] 42\n"
     ]
    },
    {
     "name": "stderr",
     "output_type": "stream",
     "text": [
      "number of non prodcutive CDR3s:\n",
      "\n"
     ]
    },
    {
     "name": "stdout",
     "output_type": "stream",
     "text": [
      "[1] 16\n"
     ]
    },
    {
     "name": "stderr",
     "output_type": "stream",
     "text": [
      "nonproductive aaCDR3 removed\n",
      "\n",
      "number of clones in file:remaining_batch_1_cfDNA_8April2021/mixcr/clones/CLONES_TRACHP_357-02_cfDNA.txt\n",
      "\n"
     ]
    },
    {
     "name": "stdout",
     "output_type": "stream",
     "text": [
      "[1] 49\n"
     ]
    },
    {
     "name": "stderr",
     "output_type": "stream",
     "text": [
      "number of non prodcutive CDR3s:\n",
      "\n"
     ]
    },
    {
     "name": "stdout",
     "output_type": "stream",
     "text": [
      "[1] 25\n"
     ]
    },
    {
     "name": "stderr",
     "output_type": "stream",
     "text": [
      "nonproductive aaCDR3 removed\n",
      "\n",
      "number of clones in file:remaining_batch_1_cfDNA_8April2021/mixcr/clones/CLONES_TRACHP_378-03_cfDNA.txt\n",
      "\n"
     ]
    },
    {
     "name": "stdout",
     "output_type": "stream",
     "text": [
      "[1] 24\n"
     ]
    },
    {
     "name": "stderr",
     "output_type": "stream",
     "text": [
      "number of non prodcutive CDR3s:\n",
      "\n"
     ]
    },
    {
     "name": "stdout",
     "output_type": "stream",
     "text": [
      "[1] 17\n"
     ]
    },
    {
     "name": "stderr",
     "output_type": "stream",
     "text": [
      "nonproductive aaCDR3 removed\n",
      "\n",
      "number of clones in file:remaining_batch_1_cfDNA_8April2021/mixcr/clones/CLONES_TRACHP_393-01_cfDNA.txt\n",
      "\n"
     ]
    },
    {
     "name": "stdout",
     "output_type": "stream",
     "text": [
      "[1] 12\n"
     ]
    },
    {
     "name": "stderr",
     "output_type": "stream",
     "text": [
      "number of non prodcutive CDR3s:\n",
      "\n"
     ]
    },
    {
     "name": "stdout",
     "output_type": "stream",
     "text": [
      "[1] 6\n"
     ]
    },
    {
     "name": "stderr",
     "output_type": "stream",
     "text": [
      "nonproductive aaCDR3 removed\n",
      "\n",
      "number of clones in file:remaining_batch_1_cfDNA_8April2021/mixcr/clones/CLONES_TRACHP_403-03_cfDNA.txt\n",
      "\n"
     ]
    },
    {
     "name": "stdout",
     "output_type": "stream",
     "text": [
      "[1] 9\n"
     ]
    },
    {
     "name": "stderr",
     "output_type": "stream",
     "text": [
      "number of non prodcutive CDR3s:\n",
      "\n"
     ]
    },
    {
     "name": "stdout",
     "output_type": "stream",
     "text": [
      "[1] 3\n"
     ]
    },
    {
     "name": "stderr",
     "output_type": "stream",
     "text": [
      "nonproductive aaCDR3 removed\n",
      "\n",
      "number of clones in file:remaining_batch_1_cfDNA_8April2021/mixcr/clones/CLONES_TRACHP_408-02_cfDNA.txt\n",
      "\n"
     ]
    },
    {
     "name": "stdout",
     "output_type": "stream",
     "text": [
      "[1] 39\n"
     ]
    },
    {
     "name": "stderr",
     "output_type": "stream",
     "text": [
      "number of non prodcutive CDR3s:\n",
      "\n"
     ]
    },
    {
     "name": "stdout",
     "output_type": "stream",
     "text": [
      "[1] 27\n"
     ]
    },
    {
     "name": "stderr",
     "output_type": "stream",
     "text": [
      "nonproductive aaCDR3 removed\n",
      "\n",
      "number of clones in file:remaining_batch_1_cfDNA_8April2021/mixcr/clones/CLONES_TRACHP_409-05_cfDNA.txt\n",
      "\n"
     ]
    },
    {
     "name": "stdout",
     "output_type": "stream",
     "text": [
      "[1] 6\n"
     ]
    },
    {
     "name": "stderr",
     "output_type": "stream",
     "text": [
      "number of non prodcutive CDR3s:\n",
      "\n"
     ]
    },
    {
     "name": "stdout",
     "output_type": "stream",
     "text": [
      "[1] 4\n"
     ]
    },
    {
     "name": "stderr",
     "output_type": "stream",
     "text": [
      "nonproductive aaCDR3 removed\n",
      "\n",
      "number of clones in file:remaining_batch_1_cfDNA_8April2021/mixcr/clones/CLONES_TRACHP_410-02_cfDNA.txt\n",
      "\n"
     ]
    },
    {
     "name": "stdout",
     "output_type": "stream",
     "text": [
      "[1] 35\n"
     ]
    },
    {
     "name": "stderr",
     "output_type": "stream",
     "text": [
      "number of non prodcutive CDR3s:\n",
      "\n"
     ]
    },
    {
     "name": "stdout",
     "output_type": "stream",
     "text": [
      "[1] 20\n"
     ]
    },
    {
     "name": "stderr",
     "output_type": "stream",
     "text": [
      "nonproductive aaCDR3 removed\n",
      "\n",
      "number of clones in file:remaining_batch_1_cfDNA_8April2021/mixcr/clones/CLONES_TRACHP_410-03_cfDNA.txt\n",
      "\n"
     ]
    },
    {
     "name": "stdout",
     "output_type": "stream",
     "text": [
      "[1] 50\n"
     ]
    },
    {
     "name": "stderr",
     "output_type": "stream",
     "text": [
      "number of non prodcutive CDR3s:\n",
      "\n"
     ]
    },
    {
     "name": "stdout",
     "output_type": "stream",
     "text": [
      "[1] 27\n"
     ]
    },
    {
     "name": "stderr",
     "output_type": "stream",
     "text": [
      "nonproductive aaCDR3 removed\n",
      "\n",
      "number of clones in file:remaining_batch_1_cfDNA_8April2021/mixcr/clones/CLONES_TRACHP_416-01_cfDNA.txt\n",
      "\n"
     ]
    },
    {
     "name": "stdout",
     "output_type": "stream",
     "text": [
      "[1] 35\n"
     ]
    },
    {
     "name": "stderr",
     "output_type": "stream",
     "text": [
      "number of non prodcutive CDR3s:\n",
      "\n"
     ]
    },
    {
     "name": "stdout",
     "output_type": "stream",
     "text": [
      "[1] 19\n"
     ]
    },
    {
     "name": "stderr",
     "output_type": "stream",
     "text": [
      "nonproductive aaCDR3 removed\n",
      "\n",
      "number of clones in file:remaining_batch_1_cfDNA_8April2021/mixcr/clones/CLONES_TRACHP_418-01_cfDNA.txt\n",
      "\n"
     ]
    },
    {
     "name": "stdout",
     "output_type": "stream",
     "text": [
      "[1] 9\n"
     ]
    },
    {
     "name": "stderr",
     "output_type": "stream",
     "text": [
      "number of non prodcutive CDR3s:\n",
      "\n"
     ]
    },
    {
     "name": "stdout",
     "output_type": "stream",
     "text": [
      "[1] 4\n"
     ]
    },
    {
     "name": "stderr",
     "output_type": "stream",
     "text": [
      "nonproductive aaCDR3 removed\n",
      "\n",
      "number of clones in file:remaining_batch_1_cfDNA_8April2021/mixcr/clones/CLONES_TRACHP_418-02_cfDNA.txt\n",
      "\n"
     ]
    },
    {
     "name": "stdout",
     "output_type": "stream",
     "text": [
      "[1] 13\n"
     ]
    },
    {
     "name": "stderr",
     "output_type": "stream",
     "text": [
      "number of non prodcutive CDR3s:\n",
      "\n"
     ]
    },
    {
     "name": "stdout",
     "output_type": "stream",
     "text": [
      "[1] 2\n"
     ]
    },
    {
     "name": "stderr",
     "output_type": "stream",
     "text": [
      "nonproductive aaCDR3 removed\n",
      "\n",
      "number of clones in file:remaining_batch_1_cfDNA_8April2021/mixcr/clones/CLONES_TRACHP_419-01_cfDNA.txt\n",
      "\n"
     ]
    },
    {
     "name": "stdout",
     "output_type": "stream",
     "text": [
      "[1] 36\n"
     ]
    },
    {
     "name": "stderr",
     "output_type": "stream",
     "text": [
      "number of non prodcutive CDR3s:\n",
      "\n"
     ]
    },
    {
     "name": "stdout",
     "output_type": "stream",
     "text": [
      "[1] 23\n"
     ]
    },
    {
     "name": "stderr",
     "output_type": "stream",
     "text": [
      "nonproductive aaCDR3 removed\n",
      "\n",
      "number of clones in file:remaining_batch_1_cfDNA_8April2021/mixcr/clones/CLONES_TRACHP_420-01_cfDNA.txt\n",
      "\n"
     ]
    },
    {
     "name": "stdout",
     "output_type": "stream",
     "text": [
      "[1] 333\n"
     ]
    },
    {
     "name": "stderr",
     "output_type": "stream",
     "text": [
      "number of non prodcutive CDR3s:\n",
      "\n"
     ]
    },
    {
     "name": "stdout",
     "output_type": "stream",
     "text": [
      "[1] 195\n"
     ]
    },
    {
     "name": "stderr",
     "output_type": "stream",
     "text": [
      "nonproductive aaCDR3 removed\n",
      "\n",
      "number of clones in file:remaining_batch_1_cfDNA_8April2021/mixcr/clones/CLONES_TRACHP_421-01_cfDNA.txt\n",
      "\n"
     ]
    },
    {
     "name": "stdout",
     "output_type": "stream",
     "text": [
      "[1] 11\n"
     ]
    },
    {
     "name": "stderr",
     "output_type": "stream",
     "text": [
      "number of non prodcutive CDR3s:\n",
      "\n"
     ]
    },
    {
     "name": "stdout",
     "output_type": "stream",
     "text": [
      "[1] 6\n"
     ]
    },
    {
     "name": "stderr",
     "output_type": "stream",
     "text": [
      "nonproductive aaCDR3 removed\n",
      "\n",
      "number of clones in file:remaining_batch_1_cfDNA_8April2021/mixcr/clones/CLONES_TRACHP_423-01_cfDNA.txt\n",
      "\n"
     ]
    },
    {
     "name": "stdout",
     "output_type": "stream",
     "text": [
      "[1] 49\n"
     ]
    },
    {
     "name": "stderr",
     "output_type": "stream",
     "text": [
      "number of non prodcutive CDR3s:\n",
      "\n"
     ]
    },
    {
     "name": "stdout",
     "output_type": "stream",
     "text": [
      "[1] 24\n"
     ]
    },
    {
     "name": "stderr",
     "output_type": "stream",
     "text": [
      "nonproductive aaCDR3 removed\n",
      "\n",
      "number of clones in file:remaining_batch_2_22April2021/mixcr/clones/CLONES_TRACHP_324-05_PBMC-DNA.txt\n",
      "\n"
     ]
    },
    {
     "name": "stdout",
     "output_type": "stream",
     "text": [
      "[1] 864\n"
     ]
    },
    {
     "name": "stderr",
     "output_type": "stream",
     "text": [
      "number of non prodcutive CDR3s:\n",
      "\n"
     ]
    },
    {
     "name": "stdout",
     "output_type": "stream",
     "text": [
      "[1] 379\n"
     ]
    },
    {
     "name": "stderr",
     "output_type": "stream",
     "text": [
      "nonproductive aaCDR3 removed\n",
      "\n",
      "number of clones in file:remaining_batch_2_22April2021/mixcr/clones/CLONES_TRACHP_357-05_PBMC-DNA.txt\n",
      "\n"
     ]
    },
    {
     "name": "stdout",
     "output_type": "stream",
     "text": [
      "[1] 1202\n"
     ]
    },
    {
     "name": "stderr",
     "output_type": "stream",
     "text": [
      "number of non prodcutive CDR3s:\n",
      "\n"
     ]
    },
    {
     "name": "stdout",
     "output_type": "stream",
     "text": [
      "[1] 549\n"
     ]
    },
    {
     "name": "stderr",
     "output_type": "stream",
     "text": [
      "nonproductive aaCDR3 removed\n",
      "\n",
      "number of clones in file:remaining_batch_2_22April2021/mixcr/clones/CLONES_TRACHP_359-03_PBMC-DNA.txt\n",
      "\n"
     ]
    },
    {
     "name": "stdout",
     "output_type": "stream",
     "text": [
      "[1] 9253\n"
     ]
    },
    {
     "name": "stderr",
     "output_type": "stream",
     "text": [
      "number of non prodcutive CDR3s:\n",
      "\n"
     ]
    },
    {
     "name": "stdout",
     "output_type": "stream",
     "text": [
      "[1] 4549\n"
     ]
    },
    {
     "name": "stderr",
     "output_type": "stream",
     "text": [
      "nonproductive aaCDR3 removed\n",
      "\n",
      "number of clones in file:remaining_batch_2_22April2021/mixcr/clones/CLONES_TRACHP_363-01_PBMC-DNA.txt\n",
      "\n"
     ]
    },
    {
     "name": "stdout",
     "output_type": "stream",
     "text": [
      "[1] 3935\n"
     ]
    },
    {
     "name": "stderr",
     "output_type": "stream",
     "text": [
      "number of non prodcutive CDR3s:\n",
      "\n"
     ]
    },
    {
     "name": "stdout",
     "output_type": "stream",
     "text": [
      "[1] 1932\n"
     ]
    },
    {
     "name": "stderr",
     "output_type": "stream",
     "text": [
      "nonproductive aaCDR3 removed\n",
      "\n",
      "number of clones in file:remaining_batch_2_22April2021/mixcr/clones/CLONES_TRACHP_365-01_PBMC-DNA.txt\n",
      "\n"
     ]
    },
    {
     "name": "stdout",
     "output_type": "stream",
     "text": [
      "[1] 1977\n"
     ]
    },
    {
     "name": "stderr",
     "output_type": "stream",
     "text": [
      "number of non prodcutive CDR3s:\n",
      "\n"
     ]
    },
    {
     "name": "stdout",
     "output_type": "stream",
     "text": [
      "[1] 992\n"
     ]
    },
    {
     "name": "stderr",
     "output_type": "stream",
     "text": [
      "nonproductive aaCDR3 removed\n",
      "\n",
      "number of clones in file:remaining_batch_2_22April2021/mixcr/clones/CLONES_TRACHP_365-04_PBMC-DNA.txt\n",
      "\n"
     ]
    },
    {
     "name": "stdout",
     "output_type": "stream",
     "text": [
      "[1] 1855\n"
     ]
    },
    {
     "name": "stderr",
     "output_type": "stream",
     "text": [
      "number of non prodcutive CDR3s:\n",
      "\n"
     ]
    },
    {
     "name": "stdout",
     "output_type": "stream",
     "text": [
      "[1] 841\n"
     ]
    },
    {
     "name": "stderr",
     "output_type": "stream",
     "text": [
      "nonproductive aaCDR3 removed\n",
      "\n",
      "number of clones in file:remaining_batch_2_22April2021/mixcr/clones/CLONES_TRACHP_369-05_PBMC-DNA.txt\n",
      "\n"
     ]
    },
    {
     "name": "stdout",
     "output_type": "stream",
     "text": [
      "[1] 904\n"
     ]
    },
    {
     "name": "stderr",
     "output_type": "stream",
     "text": [
      "number of non prodcutive CDR3s:\n",
      "\n"
     ]
    },
    {
     "name": "stdout",
     "output_type": "stream",
     "text": [
      "[1] 466\n"
     ]
    },
    {
     "name": "stderr",
     "output_type": "stream",
     "text": [
      "nonproductive aaCDR3 removed\n",
      "\n",
      "number of clones in file:remaining_batch_2_22April2021/mixcr/clones/CLONES_TRACHP_371-01_PBMC-DNA.txt\n",
      "\n"
     ]
    },
    {
     "name": "stdout",
     "output_type": "stream",
     "text": [
      "[1] 3809\n"
     ]
    },
    {
     "name": "stderr",
     "output_type": "stream",
     "text": [
      "number of non prodcutive CDR3s:\n",
      "\n"
     ]
    },
    {
     "name": "stdout",
     "output_type": "stream",
     "text": [
      "[1] 2045\n"
     ]
    },
    {
     "name": "stderr",
     "output_type": "stream",
     "text": [
      "nonproductive aaCDR3 removed\n",
      "\n",
      "number of clones in file:remaining_batch_2_22April2021/mixcr/clones/CLONES_TRACHP_371-04_PBMC-DNA.txt\n",
      "\n"
     ]
    },
    {
     "name": "stdout",
     "output_type": "stream",
     "text": [
      "[1] 3881\n"
     ]
    },
    {
     "name": "stderr",
     "output_type": "stream",
     "text": [
      "number of non prodcutive CDR3s:\n",
      "\n"
     ]
    },
    {
     "name": "stdout",
     "output_type": "stream",
     "text": [
      "[1] 1695\n"
     ]
    },
    {
     "name": "stderr",
     "output_type": "stream",
     "text": [
      "nonproductive aaCDR3 removed\n",
      "\n",
      "number of clones in file:remaining_batch_2_22April2021/mixcr/clones/CLONES_TRACHP_376-02_PBMC-DNA.txt\n",
      "\n"
     ]
    },
    {
     "name": "stdout",
     "output_type": "stream",
     "text": [
      "[1] 12545\n"
     ]
    },
    {
     "name": "stderr",
     "output_type": "stream",
     "text": [
      "number of non prodcutive CDR3s:\n",
      "\n"
     ]
    },
    {
     "name": "stdout",
     "output_type": "stream",
     "text": [
      "[1] 7326\n"
     ]
    },
    {
     "name": "stderr",
     "output_type": "stream",
     "text": [
      "nonproductive aaCDR3 removed\n",
      "\n",
      "number of clones in file:remaining_batch_2_22April2021/mixcr/clones/CLONES_TRACHP_377-03_PBMC-DNA.txt\n",
      "\n"
     ]
    },
    {
     "name": "stdout",
     "output_type": "stream",
     "text": [
      "[1] 414\n"
     ]
    },
    {
     "name": "stderr",
     "output_type": "stream",
     "text": [
      "number of non prodcutive CDR3s:\n",
      "\n"
     ]
    },
    {
     "name": "stdout",
     "output_type": "stream",
     "text": [
      "[1] 203\n"
     ]
    },
    {
     "name": "stderr",
     "output_type": "stream",
     "text": [
      "nonproductive aaCDR3 removed\n",
      "\n",
      "number of clones in file:remaining_batch_2_22April2021/mixcr/clones/CLONES_TRACHP_381-01_PBMC-DNA.txt\n",
      "\n"
     ]
    },
    {
     "name": "stdout",
     "output_type": "stream",
     "text": [
      "[1] 5876\n"
     ]
    },
    {
     "name": "stderr",
     "output_type": "stream",
     "text": [
      "number of non prodcutive CDR3s:\n",
      "\n"
     ]
    },
    {
     "name": "stdout",
     "output_type": "stream",
     "text": [
      "[1] 3465\n"
     ]
    },
    {
     "name": "stderr",
     "output_type": "stream",
     "text": [
      "nonproductive aaCDR3 removed\n",
      "\n",
      "number of clones in file:remaining_batch_2_22April2021/mixcr/clones/CLONES_TRACHP_388-02_PBMC-DNA.txt\n",
      "\n"
     ]
    },
    {
     "name": "stdout",
     "output_type": "stream",
     "text": [
      "[1] 8891\n"
     ]
    },
    {
     "name": "stderr",
     "output_type": "stream",
     "text": [
      "number of non prodcutive CDR3s:\n",
      "\n"
     ]
    },
    {
     "name": "stdout",
     "output_type": "stream",
     "text": [
      "[1] 4833\n"
     ]
    },
    {
     "name": "stderr",
     "output_type": "stream",
     "text": [
      "nonproductive aaCDR3 removed\n",
      "\n",
      "number of clones in file:remaining_batch_2_22April2021/mixcr/clones/CLONES_TRACHP_391-04_PBMC-DNA.txt\n",
      "\n"
     ]
    },
    {
     "name": "stdout",
     "output_type": "stream",
     "text": [
      "[1] 1114\n"
     ]
    },
    {
     "name": "stderr",
     "output_type": "stream",
     "text": [
      "number of non prodcutive CDR3s:\n",
      "\n"
     ]
    },
    {
     "name": "stdout",
     "output_type": "stream",
     "text": [
      "[1] 587\n"
     ]
    },
    {
     "name": "stderr",
     "output_type": "stream",
     "text": [
      "nonproductive aaCDR3 removed\n",
      "\n",
      "number of clones in file:remaining_batch_2_22April2021/mixcr/clones/CLONES_TRACHP_397-03_PBMC-DNA.txt\n",
      "\n"
     ]
    },
    {
     "name": "stdout",
     "output_type": "stream",
     "text": [
      "[1] 2092\n"
     ]
    },
    {
     "name": "stderr",
     "output_type": "stream",
     "text": [
      "number of non prodcutive CDR3s:\n",
      "\n"
     ]
    },
    {
     "name": "stdout",
     "output_type": "stream",
     "text": [
      "[1] 1122\n"
     ]
    },
    {
     "name": "stderr",
     "output_type": "stream",
     "text": [
      "nonproductive aaCDR3 removed\n",
      "\n",
      "number of clones in file:remaining_batch_2_22April2021/mixcr/clones/CLONES_TRACHP_397-04_PBMC-DNA.txt\n",
      "\n"
     ]
    },
    {
     "name": "stdout",
     "output_type": "stream",
     "text": [
      "[1] 1683\n"
     ]
    },
    {
     "name": "stderr",
     "output_type": "stream",
     "text": [
      "number of non prodcutive CDR3s:\n",
      "\n"
     ]
    },
    {
     "name": "stdout",
     "output_type": "stream",
     "text": [
      "[1] 868\n"
     ]
    },
    {
     "name": "stderr",
     "output_type": "stream",
     "text": [
      "nonproductive aaCDR3 removed\n",
      "\n",
      "number of clones in file:remaining_batch_2_22April2021/mixcr/clones/CLONES_TRACHP_399-02_PBMC-DNA.txt\n",
      "\n"
     ]
    },
    {
     "name": "stdout",
     "output_type": "stream",
     "text": [
      "[1] 8672\n"
     ]
    },
    {
     "name": "stderr",
     "output_type": "stream",
     "text": [
      "number of non prodcutive CDR3s:\n",
      "\n"
     ]
    },
    {
     "name": "stdout",
     "output_type": "stream",
     "text": [
      "[1] 5269\n"
     ]
    },
    {
     "name": "stderr",
     "output_type": "stream",
     "text": [
      "nonproductive aaCDR3 removed\n",
      "\n",
      "number of clones in file:remaining_batch_2_cfDNA_15April2021/mixcr/clones/CLONES_TRACHP_315-05_cfDNA.txt\n",
      "\n"
     ]
    },
    {
     "name": "stdout",
     "output_type": "stream",
     "text": [
      "[1] 16\n"
     ]
    },
    {
     "name": "stderr",
     "output_type": "stream",
     "text": [
      "number of non prodcutive CDR3s:\n",
      "\n"
     ]
    },
    {
     "name": "stdout",
     "output_type": "stream",
     "text": [
      "[1] 4\n"
     ]
    },
    {
     "name": "stderr",
     "output_type": "stream",
     "text": [
      "nonproductive aaCDR3 removed\n",
      "\n",
      "number of clones in file:remaining_batch_2_cfDNA_15April2021/mixcr/clones/CLONES_TRACHP_338-05-cfDNA.txt\n",
      "\n"
     ]
    },
    {
     "name": "stdout",
     "output_type": "stream",
     "text": [
      "[1] 34\n"
     ]
    },
    {
     "name": "stderr",
     "output_type": "stream",
     "text": [
      "number of non prodcutive CDR3s:\n",
      "\n"
     ]
    },
    {
     "name": "stdout",
     "output_type": "stream",
     "text": [
      "[1] 13\n"
     ]
    },
    {
     "name": "stderr",
     "output_type": "stream",
     "text": [
      "nonproductive aaCDR3 removed\n",
      "\n",
      "number of clones in file:remaining_batch_2_cfDNA_15April2021/mixcr/clones/CLONES_TRACHP_344-03-cfDNA.txt\n",
      "\n"
     ]
    },
    {
     "name": "stdout",
     "output_type": "stream",
     "text": [
      "[1] 23\n"
     ]
    },
    {
     "name": "stderr",
     "output_type": "stream",
     "text": [
      "number of non prodcutive CDR3s:\n",
      "\n"
     ]
    },
    {
     "name": "stdout",
     "output_type": "stream",
     "text": [
      "[1] 8\n"
     ]
    },
    {
     "name": "stderr",
     "output_type": "stream",
     "text": [
      "nonproductive aaCDR3 removed\n",
      "\n",
      "number of clones in file:remaining_batch_2_cfDNA_15April2021/mixcr/clones/CLONES_TRACHP_345-04_cfDNA.txt\n",
      "\n"
     ]
    },
    {
     "name": "stdout",
     "output_type": "stream",
     "text": [
      "[1] 163\n"
     ]
    },
    {
     "name": "stderr",
     "output_type": "stream",
     "text": [
      "number of non prodcutive CDR3s:\n",
      "\n"
     ]
    },
    {
     "name": "stdout",
     "output_type": "stream",
     "text": [
      "[1] 68\n"
     ]
    },
    {
     "name": "stderr",
     "output_type": "stream",
     "text": [
      "nonproductive aaCDR3 removed\n",
      "\n",
      "number of clones in file:remaining_batch_2_cfDNA_15April2021/mixcr/clones/CLONES_TRACHP_347-05_cfDNA.txt\n",
      "\n"
     ]
    },
    {
     "name": "stdout",
     "output_type": "stream",
     "text": [
      "[1] 47\n"
     ]
    },
    {
     "name": "stderr",
     "output_type": "stream",
     "text": [
      "number of non prodcutive CDR3s:\n",
      "\n"
     ]
    },
    {
     "name": "stdout",
     "output_type": "stream",
     "text": [
      "[1] 20\n"
     ]
    },
    {
     "name": "stderr",
     "output_type": "stream",
     "text": [
      "nonproductive aaCDR3 removed\n",
      "\n",
      "number of clones in file:remaining_batch_2_cfDNA_15April2021/mixcr/clones/CLONES_TRACHP_348-04-cfDNA.txt\n",
      "\n"
     ]
    },
    {
     "name": "stdout",
     "output_type": "stream",
     "text": [
      "[1] 64\n"
     ]
    },
    {
     "name": "stderr",
     "output_type": "stream",
     "text": [
      "number of non prodcutive CDR3s:\n",
      "\n"
     ]
    },
    {
     "name": "stdout",
     "output_type": "stream",
     "text": [
      "[1] 36\n"
     ]
    },
    {
     "name": "stderr",
     "output_type": "stream",
     "text": [
      "nonproductive aaCDR3 removed\n",
      "\n",
      "number of clones in file:remaining_batch_2_cfDNA_15April2021/mixcr/clones/CLONES_TRACHP_360-03_cfDNA.txt\n",
      "\n"
     ]
    },
    {
     "name": "stdout",
     "output_type": "stream",
     "text": [
      "[1] 32\n"
     ]
    },
    {
     "name": "stderr",
     "output_type": "stream",
     "text": [
      "number of non prodcutive CDR3s:\n",
      "\n"
     ]
    },
    {
     "name": "stdout",
     "output_type": "stream",
     "text": [
      "[1] 12\n"
     ]
    },
    {
     "name": "stderr",
     "output_type": "stream",
     "text": [
      "nonproductive aaCDR3 removed\n",
      "\n",
      "number of clones in file:remaining_batch_2_cfDNA_15April2021/mixcr/clones/CLONES_TRACHP_362-02_cfDNA.txt\n",
      "\n"
     ]
    },
    {
     "name": "stdout",
     "output_type": "stream",
     "text": [
      "[1] 123\n"
     ]
    },
    {
     "name": "stderr",
     "output_type": "stream",
     "text": [
      "number of non prodcutive CDR3s:\n",
      "\n"
     ]
    },
    {
     "name": "stdout",
     "output_type": "stream",
     "text": [
      "[1] 61\n"
     ]
    },
    {
     "name": "stderr",
     "output_type": "stream",
     "text": [
      "nonproductive aaCDR3 removed\n",
      "\n",
      "number of clones in file:remaining_batch_2_cfDNA_15April2021/mixcr/clones/CLONES_TRACHP_364-04-cfDNA.txt\n",
      "\n"
     ]
    },
    {
     "name": "stdout",
     "output_type": "stream",
     "text": [
      "[1] 38\n"
     ]
    },
    {
     "name": "stderr",
     "output_type": "stream",
     "text": [
      "number of non prodcutive CDR3s:\n",
      "\n"
     ]
    },
    {
     "name": "stdout",
     "output_type": "stream",
     "text": [
      "[1] 17\n"
     ]
    },
    {
     "name": "stderr",
     "output_type": "stream",
     "text": [
      "nonproductive aaCDR3 removed\n",
      "\n",
      "number of clones in file:remaining_batch_2_cfDNA_15April2021/mixcr/clones/CLONES_TRACHP_369-03_cfDNA.txt\n",
      "\n"
     ]
    },
    {
     "name": "stdout",
     "output_type": "stream",
     "text": [
      "[1] 0\n"
     ]
    },
    {
     "name": "stderr",
     "output_type": "stream",
     "text": [
      "number of clones in file:remaining_batch_2_cfDNA_15April2021/mixcr/clones/CLONES_TRACHP_370-05-cfDNA.txt\n",
      "\n"
     ]
    },
    {
     "name": "stdout",
     "output_type": "stream",
     "text": [
      "[1] 49\n"
     ]
    },
    {
     "name": "stderr",
     "output_type": "stream",
     "text": [
      "number of non prodcutive CDR3s:\n",
      "\n"
     ]
    },
    {
     "name": "stdout",
     "output_type": "stream",
     "text": [
      "[1] 28\n"
     ]
    },
    {
     "name": "stderr",
     "output_type": "stream",
     "text": [
      "nonproductive aaCDR3 removed\n",
      "\n",
      "number of clones in file:remaining_batch_2_cfDNA_15April2021/mixcr/clones/CLONES_TRACHP_376-04_cfDNA.txt\n",
      "\n"
     ]
    },
    {
     "name": "stdout",
     "output_type": "stream",
     "text": [
      "[1] 20\n"
     ]
    },
    {
     "name": "stderr",
     "output_type": "stream",
     "text": [
      "number of non prodcutive CDR3s:\n",
      "\n"
     ]
    },
    {
     "name": "stdout",
     "output_type": "stream",
     "text": [
      "[1] 12\n"
     ]
    },
    {
     "name": "stderr",
     "output_type": "stream",
     "text": [
      "nonproductive aaCDR3 removed\n",
      "\n",
      "number of clones in file:remaining_batch_2_cfDNA_15April2021/mixcr/clones/CLONES_TRACHP_387-02_cfDNA.txt\n",
      "\n"
     ]
    },
    {
     "name": "stdout",
     "output_type": "stream",
     "text": [
      "[1] 27\n"
     ]
    },
    {
     "name": "stderr",
     "output_type": "stream",
     "text": [
      "number of non prodcutive CDR3s:\n",
      "\n"
     ]
    },
    {
     "name": "stdout",
     "output_type": "stream",
     "text": [
      "[1] 14\n"
     ]
    },
    {
     "name": "stderr",
     "output_type": "stream",
     "text": [
      "nonproductive aaCDR3 removed\n",
      "\n",
      "number of clones in file:remaining_batch_2_cfDNA_15April2021/mixcr/clones/CLONES_TRACHP_389-05-cfDNA.txt\n",
      "\n"
     ]
    },
    {
     "name": "stdout",
     "output_type": "stream",
     "text": [
      "[1] 33\n"
     ]
    },
    {
     "name": "stderr",
     "output_type": "stream",
     "text": [
      "number of non prodcutive CDR3s:\n",
      "\n"
     ]
    },
    {
     "name": "stdout",
     "output_type": "stream",
     "text": [
      "[1] 14\n"
     ]
    },
    {
     "name": "stderr",
     "output_type": "stream",
     "text": [
      "nonproductive aaCDR3 removed\n",
      "\n",
      "number of clones in file:remaining_batch_2_cfDNA_15April2021/mixcr/clones/CLONES_TRACHP_393-04_cfDNA.txt\n",
      "\n"
     ]
    },
    {
     "name": "stdout",
     "output_type": "stream",
     "text": [
      "[1] 20\n"
     ]
    },
    {
     "name": "stderr",
     "output_type": "stream",
     "text": [
      "number of non prodcutive CDR3s:\n",
      "\n"
     ]
    },
    {
     "name": "stdout",
     "output_type": "stream",
     "text": [
      "[1] 9\n"
     ]
    },
    {
     "name": "stderr",
     "output_type": "stream",
     "text": [
      "nonproductive aaCDR3 removed\n",
      "\n",
      "number of clones in file:remaining_batch_2_cfDNA_15April2021/mixcr/clones/CLONES_TRACHP_401-03_cfDNA.txt\n",
      "\n"
     ]
    },
    {
     "name": "stdout",
     "output_type": "stream",
     "text": [
      "[1] 15\n"
     ]
    },
    {
     "name": "stderr",
     "output_type": "stream",
     "text": [
      "number of non prodcutive CDR3s:\n",
      "\n"
     ]
    },
    {
     "name": "stdout",
     "output_type": "stream",
     "text": [
      "[1] 5\n"
     ]
    },
    {
     "name": "stderr",
     "output_type": "stream",
     "text": [
      "nonproductive aaCDR3 removed\n",
      "\n",
      "number of clones in file:remaining_batch_3_4May2021/mixcr/clones/CLONES_TRACHP_336-05_PBMC-DNA.txt\n",
      "\n"
     ]
    },
    {
     "name": "stdout",
     "output_type": "stream",
     "text": [
      "[1] 1345\n"
     ]
    },
    {
     "name": "stderr",
     "output_type": "stream",
     "text": [
      "number of non prodcutive CDR3s:\n",
      "\n"
     ]
    },
    {
     "name": "stdout",
     "output_type": "stream",
     "text": [
      "[1] 603\n"
     ]
    },
    {
     "name": "stderr",
     "output_type": "stream",
     "text": [
      "nonproductive aaCDR3 removed\n",
      "\n",
      "number of clones in file:remaining_batch_3_4May2021/mixcr/clones/CLONES_TRACHP_360-04_PBMC-DNA.txt\n",
      "\n"
     ]
    },
    {
     "name": "stdout",
     "output_type": "stream",
     "text": [
      "[1] 1677\n"
     ]
    },
    {
     "name": "stderr",
     "output_type": "stream",
     "text": [
      "number of non prodcutive CDR3s:\n",
      "\n"
     ]
    },
    {
     "name": "stdout",
     "output_type": "stream",
     "text": [
      "[1] 738\n"
     ]
    },
    {
     "name": "stderr",
     "output_type": "stream",
     "text": [
      "nonproductive aaCDR3 removed\n",
      "\n",
      "number of clones in file:remaining_batch_3_4May2021/mixcr/clones/CLONES_TRACHP_398-05_PBMC-DNA.txt\n",
      "\n"
     ]
    },
    {
     "name": "stdout",
     "output_type": "stream",
     "text": [
      "[1] 1528\n"
     ]
    },
    {
     "name": "stderr",
     "output_type": "stream",
     "text": [
      "number of non prodcutive CDR3s:\n",
      "\n"
     ]
    },
    {
     "name": "stdout",
     "output_type": "stream",
     "text": [
      "[1] 776\n"
     ]
    },
    {
     "name": "stderr",
     "output_type": "stream",
     "text": [
      "nonproductive aaCDR3 removed\n",
      "\n",
      "number of clones in file:remaining_batch_3_4May2021/mixcr/clones/CLONES_TRACHP_403-03_PBMC-DNA.txt\n",
      "\n"
     ]
    },
    {
     "name": "stdout",
     "output_type": "stream",
     "text": [
      "[1] 137\n"
     ]
    },
    {
     "name": "stderr",
     "output_type": "stream",
     "text": [
      "number of non prodcutive CDR3s:\n",
      "\n"
     ]
    },
    {
     "name": "stdout",
     "output_type": "stream",
     "text": [
      "[1] 73\n"
     ]
    },
    {
     "name": "stderr",
     "output_type": "stream",
     "text": [
      "nonproductive aaCDR3 removed\n",
      "\n",
      "number of clones in file:remaining_batch_3_4May2021/mixcr/clones/CLONES_TRACHP_405-05_PBMC-DNA.txt\n",
      "\n"
     ]
    },
    {
     "name": "stdout",
     "output_type": "stream",
     "text": [
      "[1] 1090\n"
     ]
    },
    {
     "name": "stderr",
     "output_type": "stream",
     "text": [
      "number of non prodcutive CDR3s:\n",
      "\n"
     ]
    },
    {
     "name": "stdout",
     "output_type": "stream",
     "text": [
      "[1] 611\n"
     ]
    },
    {
     "name": "stderr",
     "output_type": "stream",
     "text": [
      "nonproductive aaCDR3 removed\n",
      "\n",
      "number of clones in file:remaining_batch_3_4May2021/mixcr/clones/CLONES_TRACHP_406-03_PBMC-DNA.txt\n",
      "\n"
     ]
    },
    {
     "name": "stdout",
     "output_type": "stream",
     "text": [
      "[1] 208\n"
     ]
    },
    {
     "name": "stderr",
     "output_type": "stream",
     "text": [
      "number of non prodcutive CDR3s:\n",
      "\n"
     ]
    },
    {
     "name": "stdout",
     "output_type": "stream",
     "text": [
      "[1] 98\n"
     ]
    },
    {
     "name": "stderr",
     "output_type": "stream",
     "text": [
      "nonproductive aaCDR3 removed\n",
      "\n",
      "number of clones in file:remaining_batch_3_4May2021/mixcr/clones/CLONES_TRACHP_413-02_PBMC-DNA.txt\n",
      "\n"
     ]
    },
    {
     "name": "stdout",
     "output_type": "stream",
     "text": [
      "[1] 1009\n"
     ]
    },
    {
     "name": "stderr",
     "output_type": "stream",
     "text": [
      "number of non prodcutive CDR3s:\n",
      "\n"
     ]
    },
    {
     "name": "stdout",
     "output_type": "stream",
     "text": [
      "[1] 475\n"
     ]
    },
    {
     "name": "stderr",
     "output_type": "stream",
     "text": [
      "nonproductive aaCDR3 removed\n",
      "\n",
      "number of clones in file:remaining_batch_3_4May2021/mixcr/clones/CLONES_TRACHP_414-01_PBMC-DNA.txt\n",
      "\n"
     ]
    },
    {
     "name": "stdout",
     "output_type": "stream",
     "text": [
      "[1] 94\n"
     ]
    },
    {
     "name": "stderr",
     "output_type": "stream",
     "text": [
      "number of non prodcutive CDR3s:\n",
      "\n"
     ]
    },
    {
     "name": "stdout",
     "output_type": "stream",
     "text": [
      "[1] 52\n"
     ]
    },
    {
     "name": "stderr",
     "output_type": "stream",
     "text": [
      "nonproductive aaCDR3 removed\n",
      "\n",
      "number of clones in file:remaining_batch_3_4May2021/mixcr/clones/CLONES_TRACHP_414-03_PBMC-DNA.txt\n",
      "\n"
     ]
    },
    {
     "name": "stdout",
     "output_type": "stream",
     "text": [
      "[1] 2755\n"
     ]
    },
    {
     "name": "stderr",
     "output_type": "stream",
     "text": [
      "number of non prodcutive CDR3s:\n",
      "\n"
     ]
    },
    {
     "name": "stdout",
     "output_type": "stream",
     "text": [
      "[1] 1438\n"
     ]
    },
    {
     "name": "stderr",
     "output_type": "stream",
     "text": [
      "nonproductive aaCDR3 removed\n",
      "\n",
      "number of clones in file:remaining_batch_3_4May2021/mixcr/clones/CLONES_TRACHP_415-02_PBMC-DNA.txt\n",
      "\n"
     ]
    },
    {
     "name": "stdout",
     "output_type": "stream",
     "text": [
      "[1] 340\n"
     ]
    },
    {
     "name": "stderr",
     "output_type": "stream",
     "text": [
      "number of non prodcutive CDR3s:\n",
      "\n"
     ]
    },
    {
     "name": "stdout",
     "output_type": "stream",
     "text": [
      "[1] 136\n"
     ]
    },
    {
     "name": "stderr",
     "output_type": "stream",
     "text": [
      "nonproductive aaCDR3 removed\n",
      "\n",
      "number of clones in file:remaining_batch_3_4May2021/mixcr/clones/CLONES_TRACHP_415-03_PBMC-DNA.txt\n",
      "\n"
     ]
    },
    {
     "name": "stdout",
     "output_type": "stream",
     "text": [
      "[1] 101\n"
     ]
    },
    {
     "name": "stderr",
     "output_type": "stream",
     "text": [
      "number of non prodcutive CDR3s:\n",
      "\n"
     ]
    },
    {
     "name": "stdout",
     "output_type": "stream",
     "text": [
      "[1] 49\n"
     ]
    },
    {
     "name": "stderr",
     "output_type": "stream",
     "text": [
      "nonproductive aaCDR3 removed\n",
      "\n",
      "number of clones in file:remaining_batch_3_4May2021/mixcr/clones/CLONES_TRACHP_418-02_PBMC-DNA.txt\n",
      "\n"
     ]
    },
    {
     "name": "stdout",
     "output_type": "stream",
     "text": [
      "[1] 297\n"
     ]
    },
    {
     "name": "stderr",
     "output_type": "stream",
     "text": [
      "number of non prodcutive CDR3s:\n",
      "\n"
     ]
    },
    {
     "name": "stdout",
     "output_type": "stream",
     "text": [
      "[1] 126\n"
     ]
    },
    {
     "name": "stderr",
     "output_type": "stream",
     "text": [
      "nonproductive aaCDR3 removed\n",
      "\n",
      "number of clones in file:remaining_batch_3_4May2021/mixcr/clones/CLONES_TRACHP_419-02_PBMC-DNA.txt\n",
      "\n"
     ]
    },
    {
     "name": "stdout",
     "output_type": "stream",
     "text": [
      "[1] 948\n"
     ]
    },
    {
     "name": "stderr",
     "output_type": "stream",
     "text": [
      "number of non prodcutive CDR3s:\n",
      "\n"
     ]
    },
    {
     "name": "stdout",
     "output_type": "stream",
     "text": [
      "[1] 513\n"
     ]
    },
    {
     "name": "stderr",
     "output_type": "stream",
     "text": [
      "nonproductive aaCDR3 removed\n",
      "\n",
      "number of clones in file:remaining_batch_3_4May2021/mixcr/clones/CLONES_TRACHP_420-01_PBMC-DNA.txt\n",
      "\n"
     ]
    },
    {
     "name": "stdout",
     "output_type": "stream",
     "text": [
      "[1] 4486\n"
     ]
    },
    {
     "name": "stderr",
     "output_type": "stream",
     "text": [
      "number of non prodcutive CDR3s:\n",
      "\n"
     ]
    },
    {
     "name": "stdout",
     "output_type": "stream",
     "text": [
      "[1] 2760\n"
     ]
    },
    {
     "name": "stderr",
     "output_type": "stream",
     "text": [
      "nonproductive aaCDR3 removed\n",
      "\n",
      "number of clones in file:remaining_batch_3_cfDNA_15April2021/mixcr/clones/CLONES_TRACHP_343-05-cfDNA.txt\n",
      "\n"
     ]
    },
    {
     "name": "stdout",
     "output_type": "stream",
     "text": [
      "[1] 24\n"
     ]
    },
    {
     "name": "stderr",
     "output_type": "stream",
     "text": [
      "number of non prodcutive CDR3s:\n",
      "\n"
     ]
    },
    {
     "name": "stdout",
     "output_type": "stream",
     "text": [
      "[1] 8\n"
     ]
    },
    {
     "name": "stderr",
     "output_type": "stream",
     "text": [
      "nonproductive aaCDR3 removed\n",
      "\n",
      "number of clones in file:remaining_batch_3_cfDNA_15April2021/mixcr/clones/CLONES_TRACHP_348-02-cfDNA.txt\n",
      "\n"
     ]
    },
    {
     "name": "stdout",
     "output_type": "stream",
     "text": [
      "[1] 53\n"
     ]
    },
    {
     "name": "stderr",
     "output_type": "stream",
     "text": [
      "number of non prodcutive CDR3s:\n",
      "\n"
     ]
    },
    {
     "name": "stdout",
     "output_type": "stream",
     "text": [
      "[1] 22\n"
     ]
    },
    {
     "name": "stderr",
     "output_type": "stream",
     "text": [
      "nonproductive aaCDR3 removed\n",
      "\n",
      "number of clones in file:remaining_batch_3_cfDNA_15April2021/mixcr/clones/CLONES_TRACHP_373-03_cfDNA.txt\n",
      "\n"
     ]
    },
    {
     "name": "stdout",
     "output_type": "stream",
     "text": [
      "[1] 7\n"
     ]
    },
    {
     "name": "stderr",
     "output_type": "stream",
     "text": [
      "number of non prodcutive CDR3s:\n",
      "\n"
     ]
    },
    {
     "name": "stdout",
     "output_type": "stream",
     "text": [
      "[1] 3\n"
     ]
    },
    {
     "name": "stderr",
     "output_type": "stream",
     "text": [
      "nonproductive aaCDR3 removed\n",
      "\n",
      "number of clones in file:remaining_batch_3_cfDNA_15April2021/mixcr/clones/CLONES_TRACHP_380-04_cfDNA.txt\n",
      "\n"
     ]
    },
    {
     "name": "stdout",
     "output_type": "stream",
     "text": [
      "[1] 5\n"
     ]
    },
    {
     "name": "stderr",
     "output_type": "stream",
     "text": [
      "number of non prodcutive CDR3s:\n",
      "\n"
     ]
    },
    {
     "name": "stdout",
     "output_type": "stream",
     "text": [
      "[1] 3\n"
     ]
    },
    {
     "name": "stderr",
     "output_type": "stream",
     "text": [
      "nonproductive aaCDR3 removed\n",
      "\n",
      "number of clones in file:remaining_batch_3_cfDNA_15April2021/mixcr/clones/CLONES_TRACHP_382-04_cfDNA.txt\n",
      "\n"
     ]
    },
    {
     "name": "stdout",
     "output_type": "stream",
     "text": [
      "[1] 45\n"
     ]
    },
    {
     "name": "stderr",
     "output_type": "stream",
     "text": [
      "number of non prodcutive CDR3s:\n",
      "\n"
     ]
    },
    {
     "name": "stdout",
     "output_type": "stream",
     "text": [
      "[1] 12\n"
     ]
    },
    {
     "name": "stderr",
     "output_type": "stream",
     "text": [
      "nonproductive aaCDR3 removed\n",
      "\n",
      "number of clones in file:remaining_batch_3_cfDNA_15April2021/mixcr/clones/CLONES_TRACHP_386-03_cfDNA.txt\n",
      "\n"
     ]
    },
    {
     "name": "stdout",
     "output_type": "stream",
     "text": [
      "[1] 10\n"
     ]
    },
    {
     "name": "stderr",
     "output_type": "stream",
     "text": [
      "number of non prodcutive CDR3s:\n",
      "\n"
     ]
    },
    {
     "name": "stdout",
     "output_type": "stream",
     "text": [
      "[1] 4\n"
     ]
    },
    {
     "name": "stderr",
     "output_type": "stream",
     "text": [
      "nonproductive aaCDR3 removed\n",
      "\n",
      "number of clones in file:remaining_batch_3_cfDNA_15April2021/mixcr/clones/CLONES_TRACHP_386-04_cfDNA.txt\n",
      "\n"
     ]
    },
    {
     "name": "stdout",
     "output_type": "stream",
     "text": [
      "[1] 17\n"
     ]
    },
    {
     "name": "stderr",
     "output_type": "stream",
     "text": [
      "number of non prodcutive CDR3s:\n",
      "\n"
     ]
    },
    {
     "name": "stdout",
     "output_type": "stream",
     "text": [
      "[1] 8\n"
     ]
    },
    {
     "name": "stderr",
     "output_type": "stream",
     "text": [
      "nonproductive aaCDR3 removed\n",
      "\n",
      "number of clones in file:remaining_batch_3_cfDNA_15April2021/mixcr/clones/CLONES_TRACHP_397-05_cfDNA.txt\n",
      "\n"
     ]
    },
    {
     "name": "stdout",
     "output_type": "stream",
     "text": [
      "[1] 43\n"
     ]
    },
    {
     "name": "stderr",
     "output_type": "stream",
     "text": [
      "number of non prodcutive CDR3s:\n",
      "\n"
     ]
    },
    {
     "name": "stdout",
     "output_type": "stream",
     "text": [
      "[1] 16\n"
     ]
    },
    {
     "name": "stderr",
     "output_type": "stream",
     "text": [
      "nonproductive aaCDR3 removed\n",
      "\n",
      "number of clones in file:remaining_batch_3_cfDNA_15April2021/mixcr/clones/CLONES_TRACHP_400-03_cfDNA.txt\n",
      "\n"
     ]
    },
    {
     "name": "stdout",
     "output_type": "stream",
     "text": [
      "[1] 19\n"
     ]
    },
    {
     "name": "stderr",
     "output_type": "stream",
     "text": [
      "number of non prodcutive CDR3s:\n",
      "\n"
     ]
    },
    {
     "name": "stdout",
     "output_type": "stream",
     "text": [
      "[1] 12\n"
     ]
    },
    {
     "name": "stderr",
     "output_type": "stream",
     "text": [
      "nonproductive aaCDR3 removed\n",
      "\n",
      "number of clones in file:remaining_batch_3_cfDNA_15April2021/mixcr/clones/CLONES_TRACHP_404-04_cfDNA.txt\n",
      "\n"
     ]
    },
    {
     "name": "stdout",
     "output_type": "stream",
     "text": [
      "[1] 24\n"
     ]
    },
    {
     "name": "stderr",
     "output_type": "stream",
     "text": [
      "number of non prodcutive CDR3s:\n",
      "\n"
     ]
    },
    {
     "name": "stdout",
     "output_type": "stream",
     "text": [
      "[1] 7\n"
     ]
    },
    {
     "name": "stderr",
     "output_type": "stream",
     "text": [
      "nonproductive aaCDR3 removed\n",
      "\n",
      "number of clones in file:remaining_batch_3_cfDNA_15April2021/mixcr/clones/CLONES_TRACHP_407-01_cfDNA.txt\n",
      "\n"
     ]
    },
    {
     "name": "stdout",
     "output_type": "stream",
     "text": [
      "[1] 22\n"
     ]
    },
    {
     "name": "stderr",
     "output_type": "stream",
     "text": [
      "number of non prodcutive CDR3s:\n",
      "\n"
     ]
    },
    {
     "name": "stdout",
     "output_type": "stream",
     "text": [
      "[1] 15\n"
     ]
    },
    {
     "name": "stderr",
     "output_type": "stream",
     "text": [
      "nonproductive aaCDR3 removed\n",
      "\n",
      "number of clones in file:remaining_batch_3_cfDNA_15April2021/mixcr/clones/CLONES_TRACHP_407-04_cfDNA.txt\n",
      "\n"
     ]
    },
    {
     "name": "stdout",
     "output_type": "stream",
     "text": [
      "[1] 8\n"
     ]
    },
    {
     "name": "stderr",
     "output_type": "stream",
     "text": [
      "number of non prodcutive CDR3s:\n",
      "\n"
     ]
    },
    {
     "name": "stdout",
     "output_type": "stream",
     "text": [
      "[1] 6\n"
     ]
    },
    {
     "name": "stderr",
     "output_type": "stream",
     "text": [
      "nonproductive aaCDR3 removed\n",
      "\n",
      "number of clones in file:remaining_batch_3_cfDNA_15April2021/mixcr/clones/CLONES_TRACHP_414-02_cfDNA.txt\n",
      "\n"
     ]
    },
    {
     "name": "stdout",
     "output_type": "stream",
     "text": [
      "[1] 26\n"
     ]
    },
    {
     "name": "stderr",
     "output_type": "stream",
     "text": [
      "number of non prodcutive CDR3s:\n",
      "\n"
     ]
    },
    {
     "name": "stdout",
     "output_type": "stream",
     "text": [
      "[1] 14\n"
     ]
    },
    {
     "name": "stderr",
     "output_type": "stream",
     "text": [
      "nonproductive aaCDR3 removed\n",
      "\n",
      "number of clones in file:remaining_batch_3_cfDNA_15April2021/mixcr/clones/CLONES_TRACHP_414-03_cfDNA.txt\n",
      "\n"
     ]
    },
    {
     "name": "stdout",
     "output_type": "stream",
     "text": [
      "[1] 37\n"
     ]
    },
    {
     "name": "stderr",
     "output_type": "stream",
     "text": [
      "number of non prodcutive CDR3s:\n",
      "\n"
     ]
    },
    {
     "name": "stdout",
     "output_type": "stream",
     "text": [
      "[1] 21\n"
     ]
    },
    {
     "name": "stderr",
     "output_type": "stream",
     "text": [
      "nonproductive aaCDR3 removed\n",
      "\n",
      "number of clones in file:remaining_batch_4_28June2021/mixcr/clones/CLONES_TRACHP-328-04-PBMC-DNA.txt\n",
      "\n"
     ]
    },
    {
     "name": "stdout",
     "output_type": "stream",
     "text": [
      "[1] 2027\n"
     ]
    },
    {
     "name": "stderr",
     "output_type": "stream",
     "text": [
      "number of non prodcutive CDR3s:\n",
      "\n"
     ]
    },
    {
     "name": "stdout",
     "output_type": "stream",
     "text": [
      "[1] 1054\n"
     ]
    },
    {
     "name": "stderr",
     "output_type": "stream",
     "text": [
      "nonproductive aaCDR3 removed\n",
      "\n",
      "number of clones in file:remaining_batch_4_28June2021/mixcr/clones/CLONES_TRACHP-328-05-PBMC-DNA.txt\n",
      "\n"
     ]
    },
    {
     "name": "stdout",
     "output_type": "stream",
     "text": [
      "[1] 665\n"
     ]
    },
    {
     "name": "stderr",
     "output_type": "stream",
     "text": [
      "number of non prodcutive CDR3s:\n",
      "\n"
     ]
    },
    {
     "name": "stdout",
     "output_type": "stream",
     "text": [
      "[1] 289\n"
     ]
    },
    {
     "name": "stderr",
     "output_type": "stream",
     "text": [
      "nonproductive aaCDR3 removed\n",
      "\n",
      "number of clones in file:remaining_batch_4_28June2021/mixcr/clones/CLONES_TRACHP-342-03-PBMC-DNA.txt\n",
      "\n"
     ]
    },
    {
     "name": "stdout",
     "output_type": "stream",
     "text": [
      "[1] 3692\n"
     ]
    },
    {
     "name": "stderr",
     "output_type": "stream",
     "text": [
      "number of non prodcutive CDR3s:\n",
      "\n"
     ]
    },
    {
     "name": "stdout",
     "output_type": "stream",
     "text": [
      "[1] 2185\n"
     ]
    },
    {
     "name": "stderr",
     "output_type": "stream",
     "text": [
      "nonproductive aaCDR3 removed\n",
      "\n",
      "number of clones in file:remaining_batch_4_28June2021/mixcr/clones/CLONES_TRACHP-351-03-PBMC-DNA.txt\n",
      "\n"
     ]
    },
    {
     "name": "stdout",
     "output_type": "stream",
     "text": [
      "[1] 6004\n"
     ]
    },
    {
     "name": "stderr",
     "output_type": "stream",
     "text": [
      "number of non prodcutive CDR3s:\n",
      "\n"
     ]
    },
    {
     "name": "stdout",
     "output_type": "stream",
     "text": [
      "[1] 3280\n"
     ]
    },
    {
     "name": "stderr",
     "output_type": "stream",
     "text": [
      "nonproductive aaCDR3 removed\n",
      "\n",
      "number of clones in file:remaining_batch_4_28June2021/mixcr/clones/CLONES_TRACHP-353-04-PBMC-DNA.txt\n",
      "\n"
     ]
    },
    {
     "name": "stdout",
     "output_type": "stream",
     "text": [
      "[1] 6693\n"
     ]
    },
    {
     "name": "stderr",
     "output_type": "stream",
     "text": [
      "number of non prodcutive CDR3s:\n",
      "\n"
     ]
    },
    {
     "name": "stdout",
     "output_type": "stream",
     "text": [
      "[1] 3334\n"
     ]
    },
    {
     "name": "stderr",
     "output_type": "stream",
     "text": [
      "nonproductive aaCDR3 removed\n",
      "\n",
      "number of clones in file:remaining_batch_4_28June2021/mixcr/clones/CLONES_TRACHP-363-04-PBMC-DNA.txt\n",
      "\n"
     ]
    },
    {
     "name": "stdout",
     "output_type": "stream",
     "text": [
      "[1] 2367\n"
     ]
    },
    {
     "name": "stderr",
     "output_type": "stream",
     "text": [
      "number of non prodcutive CDR3s:\n",
      "\n"
     ]
    },
    {
     "name": "stdout",
     "output_type": "stream",
     "text": [
      "[1] 1069\n"
     ]
    },
    {
     "name": "stderr",
     "output_type": "stream",
     "text": [
      "nonproductive aaCDR3 removed\n",
      "\n",
      "number of clones in file:remaining_batch_4_28June2021/mixcr/clones/CLONES_TRACHP-369-01-PBMC-DNA.txt\n",
      "\n"
     ]
    },
    {
     "name": "stdout",
     "output_type": "stream",
     "text": [
      "[1] 4655\n"
     ]
    },
    {
     "name": "stderr",
     "output_type": "stream",
     "text": [
      "number of non prodcutive CDR3s:\n",
      "\n"
     ]
    },
    {
     "name": "stdout",
     "output_type": "stream",
     "text": [
      "[1] 2784\n"
     ]
    },
    {
     "name": "stderr",
     "output_type": "stream",
     "text": [
      "nonproductive aaCDR3 removed\n",
      "\n",
      "number of clones in file:remaining_batch_4_28June2021/mixcr/clones/CLONES_TRACHP-371-03-PBMC-DNA.txt\n",
      "\n"
     ]
    },
    {
     "name": "stdout",
     "output_type": "stream",
     "text": [
      "[1] 2227\n"
     ]
    },
    {
     "name": "stderr",
     "output_type": "stream",
     "text": [
      "number of non prodcutive CDR3s:\n",
      "\n"
     ]
    },
    {
     "name": "stdout",
     "output_type": "stream",
     "text": [
      "[1] 1066\n"
     ]
    },
    {
     "name": "stderr",
     "output_type": "stream",
     "text": [
      "nonproductive aaCDR3 removed\n",
      "\n",
      "number of clones in file:remaining_batch_4_28June2021/mixcr/clones/CLONES_TRACHP-377-02-PBMC-DNA.txt\n",
      "\n"
     ]
    },
    {
     "name": "stdout",
     "output_type": "stream",
     "text": [
      "[1] 2134\n"
     ]
    },
    {
     "name": "stderr",
     "output_type": "stream",
     "text": [
      "number of non prodcutive CDR3s:\n",
      "\n"
     ]
    },
    {
     "name": "stdout",
     "output_type": "stream",
     "text": [
      "[1] 1093\n"
     ]
    },
    {
     "name": "stderr",
     "output_type": "stream",
     "text": [
      "nonproductive aaCDR3 removed\n",
      "\n",
      "number of clones in file:remaining_batch_4_28June2021/mixcr/clones/CLONES_TRACHP-386-04-PBMC-DNA.txt\n",
      "\n"
     ]
    },
    {
     "name": "stdout",
     "output_type": "stream",
     "text": [
      "[1] 2343\n"
     ]
    },
    {
     "name": "stderr",
     "output_type": "stream",
     "text": [
      "number of non prodcutive CDR3s:\n",
      "\n"
     ]
    },
    {
     "name": "stdout",
     "output_type": "stream",
     "text": [
      "[1] 1013\n"
     ]
    },
    {
     "name": "stderr",
     "output_type": "stream",
     "text": [
      "nonproductive aaCDR3 removed\n",
      "\n",
      "number of clones in file:remaining_batch_4_28June2021/mixcr/clones/CLONES_TRACHP-386-05-PBMC-DNA.txt\n",
      "\n"
     ]
    },
    {
     "name": "stdout",
     "output_type": "stream",
     "text": [
      "[1] 1470\n"
     ]
    },
    {
     "name": "stderr",
     "output_type": "stream",
     "text": [
      "number of non prodcutive CDR3s:\n",
      "\n"
     ]
    },
    {
     "name": "stdout",
     "output_type": "stream",
     "text": [
      "[1] 653\n"
     ]
    },
    {
     "name": "stderr",
     "output_type": "stream",
     "text": [
      "nonproductive aaCDR3 removed\n",
      "\n",
      "number of clones in file:remaining_batch_4_28June2021/mixcr/clones/CLONES_TRACHP-398-02-PBMC-DNA.txt\n",
      "\n"
     ]
    },
    {
     "name": "stdout",
     "output_type": "stream",
     "text": [
      "[1] 3087\n"
     ]
    },
    {
     "name": "stderr",
     "output_type": "stream",
     "text": [
      "number of non prodcutive CDR3s:\n",
      "\n"
     ]
    },
    {
     "name": "stdout",
     "output_type": "stream",
     "text": [
      "[1] 1575\n"
     ]
    },
    {
     "name": "stderr",
     "output_type": "stream",
     "text": [
      "nonproductive aaCDR3 removed\n",
      "\n",
      "number of clones in file:remaining_batch_4_28June2021/mixcr/clones/CLONES_TRACHP-404-03-PBMC-DNA.txt\n",
      "\n"
     ]
    },
    {
     "name": "stdout",
     "output_type": "stream",
     "text": [
      "[1] 940\n"
     ]
    },
    {
     "name": "stderr",
     "output_type": "stream",
     "text": [
      "number of non prodcutive CDR3s:\n",
      "\n"
     ]
    },
    {
     "name": "stdout",
     "output_type": "stream",
     "text": [
      "[1] 458\n"
     ]
    },
    {
     "name": "stderr",
     "output_type": "stream",
     "text": [
      "nonproductive aaCDR3 removed\n",
      "\n",
      "number of clones in file:remaining_batch_4_28June2021/mixcr/clones/CLONES_TRACHP-411-02-PBMC-DNA.txt\n",
      "\n"
     ]
    },
    {
     "name": "stdout",
     "output_type": "stream",
     "text": [
      "[1] 4887\n"
     ]
    },
    {
     "name": "stderr",
     "output_type": "stream",
     "text": [
      "number of non prodcutive CDR3s:\n",
      "\n"
     ]
    },
    {
     "name": "stdout",
     "output_type": "stream",
     "text": [
      "[1] 2549\n"
     ]
    },
    {
     "name": "stderr",
     "output_type": "stream",
     "text": [
      "nonproductive aaCDR3 removed\n",
      "\n",
      "number of clones in file:remaining_batch_4_28June2021/mixcr/clones/CLONES_TRACHP-416-02-PBMC-DNA.txt\n",
      "\n"
     ]
    },
    {
     "name": "stdout",
     "output_type": "stream",
     "text": [
      "[1] 906\n"
     ]
    },
    {
     "name": "stderr",
     "output_type": "stream",
     "text": [
      "number of non prodcutive CDR3s:\n",
      "\n"
     ]
    },
    {
     "name": "stdout",
     "output_type": "stream",
     "text": [
      "[1] 526\n"
     ]
    },
    {
     "name": "stderr",
     "output_type": "stream",
     "text": [
      "nonproductive aaCDR3 removed\n",
      "\n",
      "number of clones in file:remaining_batch_4_28June2021/mixcr/clones/CLONES_TRACHP-417-02_-PBMC-DN.txt\n",
      "\n"
     ]
    },
    {
     "name": "stdout",
     "output_type": "stream",
     "text": [
      "[1] 769\n"
     ]
    },
    {
     "name": "stderr",
     "output_type": "stream",
     "text": [
      "number of non prodcutive CDR3s:\n",
      "\n"
     ]
    },
    {
     "name": "stdout",
     "output_type": "stream",
     "text": [
      "[1] 418\n"
     ]
    },
    {
     "name": "stderr",
     "output_type": "stream",
     "text": [
      "nonproductive aaCDR3 removed\n",
      "\n",
      "number of clones in file:remaining_batch_4_cfDNA_15April2021/mixcr/clones/CLONES_TRACHP_349-01_cfDNA.txt\n",
      "\n"
     ]
    },
    {
     "name": "stdout",
     "output_type": "stream",
     "text": [
      "[1] 17\n"
     ]
    },
    {
     "name": "stderr",
     "output_type": "stream",
     "text": [
      "number of non prodcutive CDR3s:\n",
      "\n"
     ]
    },
    {
     "name": "stdout",
     "output_type": "stream",
     "text": [
      "[1] 7\n"
     ]
    },
    {
     "name": "stderr",
     "output_type": "stream",
     "text": [
      "nonproductive aaCDR3 removed\n",
      "\n",
      "number of clones in file:remaining_batch_4_cfDNA_15April2021/mixcr/clones/CLONES_TRACHP_350-02_cfDNA.txt\n",
      "\n"
     ]
    },
    {
     "name": "stdout",
     "output_type": "stream",
     "text": [
      "[1] 124\n"
     ]
    },
    {
     "name": "stderr",
     "output_type": "stream",
     "text": [
      "number of non prodcutive CDR3s:\n",
      "\n"
     ]
    },
    {
     "name": "stdout",
     "output_type": "stream",
     "text": [
      "[1] 54\n"
     ]
    },
    {
     "name": "stderr",
     "output_type": "stream",
     "text": [
      "nonproductive aaCDR3 removed\n",
      "\n",
      "number of clones in file:remaining_batch_4_cfDNA_15April2021/mixcr/clones/CLONES_TRACHP_377-02_cfDNA.txt\n",
      "\n"
     ]
    },
    {
     "name": "stdout",
     "output_type": "stream",
     "text": [
      "[1] 23\n"
     ]
    },
    {
     "name": "stderr",
     "output_type": "stream",
     "text": [
      "number of non prodcutive CDR3s:\n",
      "\n"
     ]
    },
    {
     "name": "stdout",
     "output_type": "stream",
     "text": [
      "[1] 13\n"
     ]
    },
    {
     "name": "stderr",
     "output_type": "stream",
     "text": [
      "nonproductive aaCDR3 removed\n",
      "\n",
      "number of clones in file:remaining_batch_4_cfDNA_15April2021/mixcr/clones/CLONES_TRACHP_377-03_cfDNA.txt\n",
      "\n"
     ]
    },
    {
     "name": "stdout",
     "output_type": "stream",
     "text": [
      "[1] 10\n"
     ]
    },
    {
     "name": "stderr",
     "output_type": "stream",
     "text": [
      "number of non prodcutive CDR3s:\n",
      "\n"
     ]
    },
    {
     "name": "stdout",
     "output_type": "stream",
     "text": [
      "[1] 4\n"
     ]
    },
    {
     "name": "stderr",
     "output_type": "stream",
     "text": [
      "nonproductive aaCDR3 removed\n",
      "\n",
      "number of clones in file:remaining_batch_4_cfDNA_15April2021/mixcr/clones/CLONES_TRACHP_378-05_cfDNA.txt\n",
      "\n"
     ]
    },
    {
     "name": "stdout",
     "output_type": "stream",
     "text": [
      "[1] 13\n"
     ]
    },
    {
     "name": "stderr",
     "output_type": "stream",
     "text": [
      "number of non prodcutive CDR3s:\n",
      "\n"
     ]
    },
    {
     "name": "stdout",
     "output_type": "stream",
     "text": [
      "[1] 8\n"
     ]
    },
    {
     "name": "stderr",
     "output_type": "stream",
     "text": [
      "nonproductive aaCDR3 removed\n",
      "\n",
      "number of clones in file:remaining_batch_4_cfDNA_15April2021/mixcr/clones/CLONES_TRACHP_385-04_cfDNA.txt\n",
      "\n"
     ]
    },
    {
     "name": "stdout",
     "output_type": "stream",
     "text": [
      "[1] 138\n"
     ]
    },
    {
     "name": "stderr",
     "output_type": "stream",
     "text": [
      "number of non prodcutive CDR3s:\n",
      "\n"
     ]
    },
    {
     "name": "stdout",
     "output_type": "stream",
     "text": [
      "[1] 76\n"
     ]
    },
    {
     "name": "stderr",
     "output_type": "stream",
     "text": [
      "nonproductive aaCDR3 removed\n",
      "\n",
      "number of clones in file:remaining_batch_4_cfDNA_15April2021/mixcr/clones/CLONES_TRACHP_385-05_cfDNA.txt\n",
      "\n"
     ]
    },
    {
     "name": "stdout",
     "output_type": "stream",
     "text": [
      "[1] 29\n"
     ]
    },
    {
     "name": "stderr",
     "output_type": "stream",
     "text": [
      "number of non prodcutive CDR3s:\n",
      "\n"
     ]
    },
    {
     "name": "stdout",
     "output_type": "stream",
     "text": [
      "[1] 17\n"
     ]
    },
    {
     "name": "stderr",
     "output_type": "stream",
     "text": [
      "nonproductive aaCDR3 removed\n",
      "\n",
      "number of clones in file:remaining_batch_4_cfDNA_15April2021/mixcr/clones/CLONES_TRACHP_391-03_cfDNA.txt\n",
      "\n"
     ]
    },
    {
     "name": "stdout",
     "output_type": "stream",
     "text": [
      "[1] 55\n"
     ]
    },
    {
     "name": "stderr",
     "output_type": "stream",
     "text": [
      "number of non prodcutive CDR3s:\n",
      "\n"
     ]
    },
    {
     "name": "stdout",
     "output_type": "stream",
     "text": [
      "[1] 22\n"
     ]
    },
    {
     "name": "stderr",
     "output_type": "stream",
     "text": [
      "nonproductive aaCDR3 removed\n",
      "\n",
      "number of clones in file:remaining_batch_4_cfDNA_15April2021/mixcr/clones/CLONES_TRACHP_402-02_cfDNA.txt\n",
      "\n"
     ]
    },
    {
     "name": "stdout",
     "output_type": "stream",
     "text": [
      "[1] 26\n"
     ]
    },
    {
     "name": "stderr",
     "output_type": "stream",
     "text": [
      "number of non prodcutive CDR3s:\n",
      "\n"
     ]
    },
    {
     "name": "stdout",
     "output_type": "stream",
     "text": [
      "[1] 13\n"
     ]
    },
    {
     "name": "stderr",
     "output_type": "stream",
     "text": [
      "nonproductive aaCDR3 removed\n",
      "\n",
      "number of clones in file:remaining_batch_4_cfDNA_15April2021/mixcr/clones/CLONES_TRACHP_405-03_cfDNA.txt\n",
      "\n"
     ]
    },
    {
     "name": "stdout",
     "output_type": "stream",
     "text": [
      "[1] 65\n"
     ]
    },
    {
     "name": "stderr",
     "output_type": "stream",
     "text": [
      "number of non prodcutive CDR3s:\n",
      "\n"
     ]
    },
    {
     "name": "stdout",
     "output_type": "stream",
     "text": [
      "[1] 35\n"
     ]
    },
    {
     "name": "stderr",
     "output_type": "stream",
     "text": [
      "nonproductive aaCDR3 removed\n",
      "\n",
      "number of clones in file:remaining_batch_4_cfDNA_15April2021/mixcr/clones/CLONES_TRACHP_405-05_cfDNA.txt\n",
      "\n"
     ]
    },
    {
     "name": "stdout",
     "output_type": "stream",
     "text": [
      "[1] 50\n"
     ]
    },
    {
     "name": "stderr",
     "output_type": "stream",
     "text": [
      "number of non prodcutive CDR3s:\n",
      "\n"
     ]
    },
    {
     "name": "stdout",
     "output_type": "stream",
     "text": [
      "[1] 24\n"
     ]
    },
    {
     "name": "stderr",
     "output_type": "stream",
     "text": [
      "nonproductive aaCDR3 removed\n",
      "\n",
      "number of clones in file:remaining_batch_4_cfDNA_15April2021/mixcr/clones/CLONES_TRACHP_409-01_cfDNA.txt\n",
      "\n"
     ]
    },
    {
     "name": "stdout",
     "output_type": "stream",
     "text": [
      "[1] 22\n"
     ]
    },
    {
     "name": "stderr",
     "output_type": "stream",
     "text": [
      "number of non prodcutive CDR3s:\n",
      "\n"
     ]
    },
    {
     "name": "stdout",
     "output_type": "stream",
     "text": [
      "[1] 12\n"
     ]
    },
    {
     "name": "stderr",
     "output_type": "stream",
     "text": [
      "nonproductive aaCDR3 removed\n",
      "\n",
      "number of clones in file:remaining_batch_4_cfDNA_15April2021/mixcr/clones/CLONES_TRACHP_414-01_cfDNA.txt\n",
      "\n"
     ]
    },
    {
     "name": "stdout",
     "output_type": "stream",
     "text": [
      "[1] 54\n"
     ]
    },
    {
     "name": "stderr",
     "output_type": "stream",
     "text": [
      "number of non prodcutive CDR3s:\n",
      "\n"
     ]
    },
    {
     "name": "stdout",
     "output_type": "stream",
     "text": [
      "[1] 27\n"
     ]
    },
    {
     "name": "stderr",
     "output_type": "stream",
     "text": [
      "nonproductive aaCDR3 removed\n",
      "\n",
      "number of clones in file:remaining_batch_4_cfDNA_15April2021/mixcr/clones/CLONES_TRACHP_415-02_cfDNA.txt\n",
      "\n"
     ]
    },
    {
     "name": "stdout",
     "output_type": "stream",
     "text": [
      "[1] 13\n"
     ]
    },
    {
     "name": "stderr",
     "output_type": "stream",
     "text": [
      "number of non prodcutive CDR3s:\n",
      "\n"
     ]
    },
    {
     "name": "stdout",
     "output_type": "stream",
     "text": [
      "[1] 5\n"
     ]
    },
    {
     "name": "stderr",
     "output_type": "stream",
     "text": [
      "nonproductive aaCDR3 removed\n",
      "\n",
      "number of clones in file:remaining_batch_5_cfDNA_22April2021/mixcr/clones/CLONES_TRACHP_329-04_cfDNA.txt\n",
      "\n"
     ]
    },
    {
     "name": "stdout",
     "output_type": "stream",
     "text": [
      "[1] 28\n"
     ]
    },
    {
     "name": "stderr",
     "output_type": "stream",
     "text": [
      "number of non prodcutive CDR3s:\n",
      "\n"
     ]
    },
    {
     "name": "stdout",
     "output_type": "stream",
     "text": [
      "[1] 11\n"
     ]
    },
    {
     "name": "stderr",
     "output_type": "stream",
     "text": [
      "nonproductive aaCDR3 removed\n",
      "\n",
      "number of clones in file:remaining_batch_5_cfDNA_22April2021/mixcr/clones/CLONES_TRACHP_331-05_cfDNA.txt\n",
      "\n"
     ]
    },
    {
     "name": "stdout",
     "output_type": "stream",
     "text": [
      "[1] 136\n"
     ]
    },
    {
     "name": "stderr",
     "output_type": "stream",
     "text": [
      "number of non prodcutive CDR3s:\n",
      "\n"
     ]
    },
    {
     "name": "stdout",
     "output_type": "stream",
     "text": [
      "[1] 70\n"
     ]
    },
    {
     "name": "stderr",
     "output_type": "stream",
     "text": [
      "nonproductive aaCDR3 removed\n",
      "\n",
      "number of clones in file:remaining_batch_5_cfDNA_22April2021/mixcr/clones/CLONES_TRACHP_343-02_cfDNA.txt\n",
      "\n"
     ]
    },
    {
     "name": "stdout",
     "output_type": "stream",
     "text": [
      "[1] 30\n"
     ]
    },
    {
     "name": "stderr",
     "output_type": "stream",
     "text": [
      "number of non prodcutive CDR3s:\n",
      "\n"
     ]
    },
    {
     "name": "stdout",
     "output_type": "stream",
     "text": [
      "[1] 15\n"
     ]
    },
    {
     "name": "stderr",
     "output_type": "stream",
     "text": [
      "nonproductive aaCDR3 removed\n",
      "\n",
      "number of clones in file:remaining_batch_5_cfDNA_22April2021/mixcr/clones/CLONES_TRACHP_343-04_cfDNA.txt\n",
      "\n"
     ]
    },
    {
     "name": "stdout",
     "output_type": "stream",
     "text": [
      "[1] 21\n"
     ]
    },
    {
     "name": "stderr",
     "output_type": "stream",
     "text": [
      "number of non prodcutive CDR3s:\n",
      "\n"
     ]
    },
    {
     "name": "stdout",
     "output_type": "stream",
     "text": [
      "[1] 9\n"
     ]
    },
    {
     "name": "stderr",
     "output_type": "stream",
     "text": [
      "nonproductive aaCDR3 removed\n",
      "\n",
      "number of clones in file:remaining_batch_5_cfDNA_22April2021/mixcr/clones/CLONES_TRACHP_348-01_cfDNA.txt\n",
      "\n"
     ]
    },
    {
     "name": "stdout",
     "output_type": "stream",
     "text": [
      "[1] 65\n"
     ]
    },
    {
     "name": "stderr",
     "output_type": "stream",
     "text": [
      "number of non prodcutive CDR3s:\n",
      "\n"
     ]
    },
    {
     "name": "stdout",
     "output_type": "stream",
     "text": [
      "[1] 33\n"
     ]
    },
    {
     "name": "stderr",
     "output_type": "stream",
     "text": [
      "nonproductive aaCDR3 removed\n",
      "\n",
      "number of clones in file:remaining_batch_5_cfDNA_22April2021/mixcr/clones/CLONES_TRACHP_348-03_cfDNA.txt\n",
      "\n"
     ]
    },
    {
     "name": "stdout",
     "output_type": "stream",
     "text": [
      "[1] 112\n"
     ]
    },
    {
     "name": "stderr",
     "output_type": "stream",
     "text": [
      "number of non prodcutive CDR3s:\n",
      "\n"
     ]
    },
    {
     "name": "stdout",
     "output_type": "stream",
     "text": [
      "[1] 40\n"
     ]
    },
    {
     "name": "stderr",
     "output_type": "stream",
     "text": [
      "nonproductive aaCDR3 removed\n",
      "\n",
      "number of clones in file:remaining_batch_5_cfDNA_22April2021/mixcr/clones/CLONES_TRACHP_350-03_cfDNA.txt\n",
      "\n"
     ]
    },
    {
     "name": "stdout",
     "output_type": "stream",
     "text": [
      "[1] 197\n"
     ]
    },
    {
     "name": "stderr",
     "output_type": "stream",
     "text": [
      "number of non prodcutive CDR3s:\n",
      "\n"
     ]
    },
    {
     "name": "stdout",
     "output_type": "stream",
     "text": [
      "[1] 111\n"
     ]
    },
    {
     "name": "stderr",
     "output_type": "stream",
     "text": [
      "nonproductive aaCDR3 removed\n",
      "\n",
      "number of clones in file:remaining_batch_5_cfDNA_22April2021/mixcr/clones/CLONES_TRACHP_352-01_cfDNA.txt\n",
      "\n"
     ]
    },
    {
     "name": "stdout",
     "output_type": "stream",
     "text": [
      "[1] 1\n"
     ]
    },
    {
     "name": "stderr",
     "output_type": "stream",
     "text": [
      "number of non prodcutive CDR3s:\n",
      "\n"
     ]
    },
    {
     "name": "stdout",
     "output_type": "stream",
     "text": [
      "[1] 1\n"
     ]
    },
    {
     "name": "stderr",
     "output_type": "stream",
     "text": [
      "nonproductive aaCDR3 removed\n",
      "\n",
      "number of clones in file:remaining_batch_5_cfDNA_22April2021/mixcr/clones/CLONES_TRACHP_356-04_cfDNA.txt\n",
      "\n"
     ]
    },
    {
     "name": "stdout",
     "output_type": "stream",
     "text": [
      "[1] 9\n"
     ]
    },
    {
     "name": "stderr",
     "output_type": "stream",
     "text": [
      "number of non prodcutive CDR3s:\n",
      "\n"
     ]
    },
    {
     "name": "stdout",
     "output_type": "stream",
     "text": [
      "[1] 1\n"
     ]
    },
    {
     "name": "stderr",
     "output_type": "stream",
     "text": [
      "nonproductive aaCDR3 removed\n",
      "\n",
      "number of clones in file:remaining_batch_5_cfDNA_22April2021/mixcr/clones/CLONES_TRACHP_356-05_cfDNA.txt\n",
      "\n"
     ]
    },
    {
     "name": "stdout",
     "output_type": "stream",
     "text": [
      "[1] 26\n"
     ]
    },
    {
     "name": "stderr",
     "output_type": "stream",
     "text": [
      "number of non prodcutive CDR3s:\n",
      "\n"
     ]
    },
    {
     "name": "stdout",
     "output_type": "stream",
     "text": [
      "[1] 13\n"
     ]
    },
    {
     "name": "stderr",
     "output_type": "stream",
     "text": [
      "nonproductive aaCDR3 removed\n",
      "\n",
      "number of clones in file:remaining_batch_5_cfDNA_22April2021/mixcr/clones/CLONES_TRACHP_365-03_cfDNA.txt\n",
      "\n"
     ]
    },
    {
     "name": "stdout",
     "output_type": "stream",
     "text": [
      "[1] 49\n"
     ]
    },
    {
     "name": "stderr",
     "output_type": "stream",
     "text": [
      "number of non prodcutive CDR3s:\n",
      "\n"
     ]
    },
    {
     "name": "stdout",
     "output_type": "stream",
     "text": [
      "[1] 26\n"
     ]
    },
    {
     "name": "stderr",
     "output_type": "stream",
     "text": [
      "nonproductive aaCDR3 removed\n",
      "\n",
      "number of clones in file:remaining_batch_5_cfDNA_22April2021/mixcr/clones/CLONES_TRACHP_370-02_cfDNA.txt\n",
      "\n"
     ]
    },
    {
     "name": "stdout",
     "output_type": "stream",
     "text": [
      "[1] 37\n"
     ]
    },
    {
     "name": "stderr",
     "output_type": "stream",
     "text": [
      "number of non prodcutive CDR3s:\n",
      "\n"
     ]
    },
    {
     "name": "stdout",
     "output_type": "stream",
     "text": [
      "[1] 15\n"
     ]
    },
    {
     "name": "stderr",
     "output_type": "stream",
     "text": [
      "nonproductive aaCDR3 removed\n",
      "\n",
      "number of clones in file:remaining_batch_5_cfDNA_22April2021/mixcr/clones/CLONES_TRACHP_374-03_cfDNA.txt\n",
      "\n"
     ]
    },
    {
     "name": "stdout",
     "output_type": "stream",
     "text": [
      "[1] 20\n"
     ]
    },
    {
     "name": "stderr",
     "output_type": "stream",
     "text": [
      "number of non prodcutive CDR3s:\n",
      "\n"
     ]
    },
    {
     "name": "stdout",
     "output_type": "stream",
     "text": [
      "[1] 11\n"
     ]
    },
    {
     "name": "stderr",
     "output_type": "stream",
     "text": [
      "nonproductive aaCDR3 removed\n",
      "\n",
      "number of clones in file:remaining_batch_5_cfDNA_22April2021/mixcr/clones/CLONES_TRACHP_378-01_cfDNA.txt\n",
      "\n"
     ]
    },
    {
     "name": "stdout",
     "output_type": "stream",
     "text": [
      "[1] 101\n"
     ]
    },
    {
     "name": "stderr",
     "output_type": "stream",
     "text": [
      "number of non prodcutive CDR3s:\n",
      "\n"
     ]
    },
    {
     "name": "stdout",
     "output_type": "stream",
     "text": [
      "[1] 56\n"
     ]
    },
    {
     "name": "stderr",
     "output_type": "stream",
     "text": [
      "nonproductive aaCDR3 removed\n",
      "\n",
      "number of clones in file:remaining_batch_5_cfDNA_22April2021/mixcr/clones/CLONES_TRACHP_381-04_cfDNA.txt\n",
      "\n"
     ]
    },
    {
     "name": "stdout",
     "output_type": "stream",
     "text": [
      "[1] 8\n"
     ]
    },
    {
     "name": "stderr",
     "output_type": "stream",
     "text": [
      "number of non prodcutive CDR3s:\n",
      "\n"
     ]
    },
    {
     "name": "stdout",
     "output_type": "stream",
     "text": [
      "[1] 6\n"
     ]
    },
    {
     "name": "stderr",
     "output_type": "stream",
     "text": [
      "nonproductive aaCDR3 removed\n",
      "\n",
      "number of clones in file:remaining_batch_5_cfDNA_22April2021/mixcr/clones/CLONES_TRACHP_383-03_cfDNA.txt\n",
      "\n"
     ]
    },
    {
     "name": "stdout",
     "output_type": "stream",
     "text": [
      "[1] 38\n"
     ]
    },
    {
     "name": "stderr",
     "output_type": "stream",
     "text": [
      "number of non prodcutive CDR3s:\n",
      "\n"
     ]
    },
    {
     "name": "stdout",
     "output_type": "stream",
     "text": [
      "[1] 21\n"
     ]
    },
    {
     "name": "stderr",
     "output_type": "stream",
     "text": [
      "nonproductive aaCDR3 removed\n",
      "\n"
     ]
    }
   ],
   "source": [
    "batchTRA <- immunelistfx(file_df_dedup$file_list, h4hpath, \"TRA\")"
   ]
  },
  {
   "cell_type": "code",
   "execution_count": 18,
   "metadata": {
    "vscode": {
     "languageId": "r"
    }
   },
   "outputs": [],
   "source": [
    "names(batchTRA) <- gsub(\".*CLONES_TRA\", \"\", names(batchTRA))"
   ]
  },
  {
   "cell_type": "code",
   "execution_count": 19,
   "metadata": {
    "vscode": {
     "languageId": "r"
    }
   },
   "outputs": [],
   "source": [
    "TRAlist <- batchTRA"
   ]
  },
  {
   "cell_type": "code",
   "execution_count": 20,
   "metadata": {
    "vscode": {
     "languageId": "r"
    }
   },
   "outputs": [],
   "source": [
    "save(TRAlist, file = paste0(datapath,\"capTCRseq/TRAlist.RData\"))"
   ]
  },
  {
   "cell_type": "markdown",
   "metadata": {},
   "source": [
    "### divstats"
   ]
  },
  {
   "cell_type": "code",
   "execution_count": 76,
   "metadata": {
    "vscode": {
     "languageId": "r"
    }
   },
   "outputs": [],
   "source": [
    "load(file = paste0(datapath,\"capTCRseq/TRAfiles.RData\"))"
   ]
  },
  {
   "cell_type": "code",
   "execution_count": 77,
   "metadata": {
    "vscode": {
     "languageId": "r"
    }
   },
   "outputs": [],
   "source": [
    "load(file = paste0(datapath,\"capTCRseq/TRAlist.RData\"))"
   ]
  },
  {
   "cell_type": "code",
   "execution_count": 78,
   "metadata": {
    "vscode": {
     "languageId": "r"
    }
   },
   "outputs": [],
   "source": [
    "# remove lists with no clonotype\n",
    "TRAlist <- TRAlist[sapply(TRAlist, function(x) length((x)) != 0)]"
   ]
  },
  {
   "cell_type": "code",
   "execution_count": 79,
   "metadata": {
    "vscode": {
     "languageId": "r"
    }
   },
   "outputs": [
    {
     "data": {
      "text/html": [
       "596"
      ],
      "text/latex": [
       "596"
      ],
      "text/markdown": [
       "596"
      ],
      "text/plain": [
       "[1] 596"
      ]
     },
     "metadata": {},
     "output_type": "display_data"
    }
   ],
   "source": [
    "length(TRAlist)"
   ]
  },
  {
   "cell_type": "code",
   "execution_count": 24,
   "metadata": {
    "scrolled": true,
    "vscode": {
     "languageId": "r"
    }
   },
   "outputs": [
    {
     "name": "stderr",
     "output_type": "stream",
     "text": [
      "Warning message in BootstrapFun.abun(x = x, FunName, datatype, B):\n",
      "“The Bootstrap community has only one species. Estimation is not robust.”\n",
      "Warning message in BootstrapFun.abun(x = x, FunName, datatype, B):\n",
      "“The Bootstrap community has only one species. Estimation is not robust.”\n",
      "Warning message in BootstrapFun.abun(x = x, FunName, datatype, B):\n",
      "“The Bootstrap community has only one species. Estimation is not robust.”\n",
      "Warning message in BootstrapFun.abun(x = x, FunName, datatype, B):\n",
      "“The Bootstrap community has only one species. Estimation is not robust.”\n",
      "Warning message in BootstrapFun.abun(x = x, FunName, datatype, B):\n",
      "“The Bootstrap community has only one species. Estimation is not robust.”\n",
      "Warning message in BootstrapFun.abun(x = x, FunName, datatype, B):\n",
      "“The Bootstrap community has only one species. Estimation is not robust.”\n",
      "Warning message in BootstrapFun.abun(x = x, FunName, datatype, B):\n",
      "“The Bootstrap community has only one species. Estimation is not robust.”\n",
      "Warning message in max(x[-1] > 1):\n",
      "“no non-missing arguments to max; returning -Inf”\n",
      "Warning message in BootstrapFun.abun(x = x, FunName, datatype, B):\n",
      "“The Bootstrap community has only one species. Estimation is not robust.”\n",
      "Warning message in max(x[-1] > 1):\n",
      "“no non-missing arguments to max; returning -Inf”\n",
      "Warning message in BootstrapFun.abun(x = x, FunName, datatype, B):\n",
      "“The Bootstrap community has only one species. Estimation is not robust.”\n",
      "Warning message in max(x[-1] > 1):\n",
      "“no non-missing arguments to max; returning -Inf”\n",
      "Warning message in BootstrapFun.abun(x = x, FunName, datatype, B):\n",
      "“The Bootstrap community has only one species. Estimation is not robust.”\n",
      "Warning message in max(x[-1] > 1):\n",
      "“no non-missing arguments to max; returning -Inf”\n",
      "Warning message in BootstrapFun.abun(x = x, FunName, datatype, B):\n",
      "“The Bootstrap community has only one species. Estimation is not robust.”\n",
      "Warning message in max(x[-1] > 1):\n",
      "“no non-missing arguments to max; returning -Inf”\n",
      "Warning message in BootstrapFun.abun(x = x, FunName, datatype, B):\n",
      "“The Bootstrap community has only one species. Estimation is not robust.”\n",
      "Warning message in max(x[-1] > 1):\n",
      "“no non-missing arguments to max; returning -Inf”\n",
      "Warning message in BootstrapFun.abun(x = x, FunName, datatype, B):\n",
      "“The Bootstrap community has only one species. Estimation is not robust.”\n",
      "Warning message in max(x[-1] > 1):\n",
      "“no non-missing arguments to max; returning -Inf”\n",
      "Warning message in BootstrapFun.abun(x = x, FunName, datatype, B):\n",
      "“The Bootstrap community has only one species. Estimation is not robust.”\n"
     ]
    }
   ],
   "source": [
    "Divstats.fx(TRAlist, \"TRA\", \"CHP\" , paste0(datapath, \"capTCRseq/\"))"
   ]
  },
  {
   "cell_type": "markdown",
   "metadata": {},
   "source": [
    "### Cleanup divstats"
   ]
  },
  {
   "cell_type": "code",
   "execution_count": 80,
   "metadata": {
    "vscode": {
     "languageId": "r"
    }
   },
   "outputs": [],
   "source": [
    "divstats <- read.csv(paste0(datapath, \"capTCRseq/divstats_TRACHP.csv\"), header = T, stringsAsFactors = F, row.names = 1)"
   ]
  },
  {
   "cell_type": "code",
   "execution_count": 81,
   "metadata": {
    "vscode": {
     "languageId": "r"
    }
   },
   "outputs": [],
   "source": [
    "# add filenames to divstats\n",
    "myfilenames <- file_df_dedup_tra[ file_df_dedup_tra$samplename %in% names(TRAlist),]"
   ]
  },
  {
   "cell_type": "code",
   "execution_count": 82,
   "metadata": {
    "vscode": {
     "languageId": "r"
    }
   },
   "outputs": [
    {
     "data": {
      "text/html": [
       "<style>\n",
       ".list-inline {list-style: none; margin:0; padding: 0}\n",
       ".list-inline>li {display: inline-block}\n",
       ".list-inline>li:not(:last-child)::after {content: \"\\00b7\"; padding: 0 .5ex}\n",
       "</style>\n",
       "<ol class=list-inline><li>596</li><li>22</li></ol>\n"
      ],
      "text/latex": [
       "\\begin{enumerate*}\n",
       "\\item 596\n",
       "\\item 22\n",
       "\\end{enumerate*}\n"
      ],
      "text/markdown": [
       "1. 596\n",
       "2. 22\n",
       "\n",
       "\n"
      ],
      "text/plain": [
       "[1] 596  22"
      ]
     },
     "metadata": {},
     "output_type": "display_data"
    }
   ],
   "source": [
    "dim(divstats)"
   ]
  },
  {
   "cell_type": "code",
   "execution_count": 83,
   "metadata": {
    "vscode": {
     "languageId": "r"
    }
   },
   "outputs": [
    {
     "data": {
      "text/html": [
       "<table class=\"dataframe\">\n",
       "<caption>A data.frame: 6 × 22</caption>\n",
       "<thead>\n",
       "\t<tr><th></th><th scope=col>TRA</th><th scope=col>Reads</th><th scope=col>CPKR</th><th scope=col>Average_reads</th><th scope=col>VMR</th><th scope=col>Max_reads</th><th scope=col>Singletons</th><th scope=col>Doubletons</th><th scope=col>qD</th><th scope=col>Sample_Coverage</th><th scope=col>⋯</th><th scope=col>SE_Richeness</th><th scope=col>observed_Shannon</th><th scope=col>estimated_Shannon</th><th scope=col>SE_Shannon</th><th scope=col>observed_Simpson</th><th scope=col>estimated_Simpson</th><th scope=col>SE_Simpson</th><th scope=col>sample_id</th><th scope=col>file</th><th scope=col>basename</th></tr>\n",
       "\t<tr><th></th><th scope=col>&lt;int&gt;</th><th scope=col>&lt;int&gt;</th><th scope=col>&lt;dbl&gt;</th><th scope=col>&lt;dbl&gt;</th><th scope=col>&lt;dbl&gt;</th><th scope=col>&lt;int&gt;</th><th scope=col>&lt;int&gt;</th><th scope=col>&lt;int&gt;</th><th scope=col>&lt;dbl&gt;</th><th scope=col>&lt;dbl&gt;</th><th scope=col>⋯</th><th scope=col>&lt;dbl&gt;</th><th scope=col>&lt;dbl&gt;</th><th scope=col>&lt;dbl&gt;</th><th scope=col>&lt;dbl&gt;</th><th scope=col>&lt;dbl&gt;</th><th scope=col>&lt;dbl&gt;</th><th scope=col>&lt;dbl&gt;</th><th scope=col>&lt;chr&gt;</th><th scope=col>&lt;chr&gt;</th><th scope=col>&lt;chr&gt;</th></tr>\n",
       "</thead>\n",
       "<tbody>\n",
       "\t<tr><th scope=row>CHP_315-05-PBMC-DNA</th><td> 67</td><td> 1636</td><td>40.95355</td><td>24.41791</td><td>0.9377717</td><td>107</td><td> 2</td><td> 0</td><td> 67.864</td><td>1.000</td><td>⋯</td><td>  2.331</td><td> 47.431</td><td> 48.435</td><td>1.015</td><td> 35.900</td><td> 36.683</td><td>1.210</td><td>NA_NA</td><td>batch4_19Aug2019/mixcr/clones/CLONES_TRACHP_315-05-PBMC-DNA.txt     </td><td>CHP_315-05-PBMC-DNA</td></tr>\n",
       "\t<tr><th scope=row>CHP_350-01-PBMC-DNA</th><td>641</td><td>13038</td><td>49.16398</td><td>20.34009</td><td>0.7859894</td><td>116</td><td>40</td><td>10</td><td>672.477</td><td>0.998</td><td>⋯</td><td> 36.875</td><td>490.352</td><td>504.229</td><td>3.087</td><td>396.458</td><td>408.861</td><td>4.877</td><td>NA_NA</td><td>batch_reseq_24Feb2020/mixcr/clones/CLONES_TRACHP_350-01-PBMC-DNA.txt</td><td>CHP_350-01-PBMC-DNA</td></tr>\n",
       "\t<tr><th scope=row>CHP_350-02-PBMC-DNA</th><td>908</td><td>18934</td><td>47.95606</td><td>20.85242</td><td>0.7266378</td><td>120</td><td>41</td><td>15</td><td>937.076</td><td>0.999</td><td>⋯</td><td> 23.908</td><td>717.297</td><td>736.184</td><td>3.418</td><td>594.466</td><td>613.703</td><td>5.500</td><td>NA_NA</td><td>batch_reseq_24Feb2020/mixcr/clones/CLONES_TRACHP_350-02-PBMC-DNA.txt</td><td>CHP_350-02-PBMC-DNA</td></tr>\n",
       "\t<tr><th scope=row>CHP_350-03-PBMC-DNA</th><td>755</td><td>13957</td><td>54.09472</td><td>18.48609</td><td>0.7250201</td><td>103</td><td>46</td><td> 9</td><td>793.067</td><td>0.998</td><td>⋯</td><td> 53.426</td><td>594.801</td><td>613.585</td><td>3.273</td><td>495.096</td><td>513.267</td><td>5.431</td><td>NA_NA</td><td>batch_reseq_24Feb2020/mixcr/clones/CLONES_TRACHP_350-03-PBMC-DNA.txt</td><td>CHP_350-03-PBMC-DNA</td></tr>\n",
       "\t<tr><th scope=row>CHP_350-04-PBMC-DNA</th><td>381</td><td> 6749</td><td>56.45281</td><td>17.71391</td><td>0.6824403</td><td> 72</td><td>24</td><td> 2</td><td>403.106</td><td>0.997</td><td>⋯</td><td>118.169</td><td>304.600</td><td>315.309</td><td>2.568</td><td>260.157</td><td>270.547</td><td>3.631</td><td>NA_NA</td><td>batch_reseq_24Feb2020/mixcr/clones/CLONES_TRACHP_350-04-PBMC-DNA.txt</td><td>CHP_350-04-PBMC-DNA</td></tr>\n",
       "\t<tr><th scope=row>CHP_353-02-PBMC-DNA</th><td> 56</td><td> 1404</td><td>39.88604</td><td>25.07143</td><td>0.7001978</td><td> 92</td><td> 3</td><td> 1</td><td> 58.189</td><td>0.999</td><td>⋯</td><td>  7.189</td><td> 44.969</td><td> 45.951</td><td>0.710</td><td> 37.799</td><td> 38.817</td><td>1.195</td><td>NA_NA</td><td>batch_reseq_24Feb2020/mixcr/clones/CLONES_TRACHP_353-02-PBMC-DNA.txt</td><td>CHP_353-02-PBMC-DNA</td></tr>\n",
       "</tbody>\n",
       "</table>\n"
      ],
      "text/latex": [
       "A data.frame: 6 × 22\n",
       "\\begin{tabular}{r|lllllllllllllllllllll}\n",
       "  & TRA & Reads & CPKR & Average\\_reads & VMR & Max\\_reads & Singletons & Doubletons & qD & Sample\\_Coverage & ⋯ & SE\\_Richeness & observed\\_Shannon & estimated\\_Shannon & SE\\_Shannon & observed\\_Simpson & estimated\\_Simpson & SE\\_Simpson & sample\\_id & file & basename\\\\\n",
       "  & <int> & <int> & <dbl> & <dbl> & <dbl> & <int> & <int> & <int> & <dbl> & <dbl> & ⋯ & <dbl> & <dbl> & <dbl> & <dbl> & <dbl> & <dbl> & <dbl> & <chr> & <chr> & <chr>\\\\\n",
       "\\hline\n",
       "\tCHP\\_315-05-PBMC-DNA &  67 &  1636 & 40.95355 & 24.41791 & 0.9377717 & 107 &  2 &  0 &  67.864 & 1.000 & ⋯ &   2.331 &  47.431 &  48.435 & 1.015 &  35.900 &  36.683 & 1.210 & NA\\_NA & batch4\\_19Aug2019/mixcr/clones/CLONES\\_TRACHP\\_315-05-PBMC-DNA.txt      & CHP\\_315-05-PBMC-DNA\\\\\n",
       "\tCHP\\_350-01-PBMC-DNA & 641 & 13038 & 49.16398 & 20.34009 & 0.7859894 & 116 & 40 & 10 & 672.477 & 0.998 & ⋯ &  36.875 & 490.352 & 504.229 & 3.087 & 396.458 & 408.861 & 4.877 & NA\\_NA & batch\\_reseq\\_24Feb2020/mixcr/clones/CLONES\\_TRACHP\\_350-01-PBMC-DNA.txt & CHP\\_350-01-PBMC-DNA\\\\\n",
       "\tCHP\\_350-02-PBMC-DNA & 908 & 18934 & 47.95606 & 20.85242 & 0.7266378 & 120 & 41 & 15 & 937.076 & 0.999 & ⋯ &  23.908 & 717.297 & 736.184 & 3.418 & 594.466 & 613.703 & 5.500 & NA\\_NA & batch\\_reseq\\_24Feb2020/mixcr/clones/CLONES\\_TRACHP\\_350-02-PBMC-DNA.txt & CHP\\_350-02-PBMC-DNA\\\\\n",
       "\tCHP\\_350-03-PBMC-DNA & 755 & 13957 & 54.09472 & 18.48609 & 0.7250201 & 103 & 46 &  9 & 793.067 & 0.998 & ⋯ &  53.426 & 594.801 & 613.585 & 3.273 & 495.096 & 513.267 & 5.431 & NA\\_NA & batch\\_reseq\\_24Feb2020/mixcr/clones/CLONES\\_TRACHP\\_350-03-PBMC-DNA.txt & CHP\\_350-03-PBMC-DNA\\\\\n",
       "\tCHP\\_350-04-PBMC-DNA & 381 &  6749 & 56.45281 & 17.71391 & 0.6824403 &  72 & 24 &  2 & 403.106 & 0.997 & ⋯ & 118.169 & 304.600 & 315.309 & 2.568 & 260.157 & 270.547 & 3.631 & NA\\_NA & batch\\_reseq\\_24Feb2020/mixcr/clones/CLONES\\_TRACHP\\_350-04-PBMC-DNA.txt & CHP\\_350-04-PBMC-DNA\\\\\n",
       "\tCHP\\_353-02-PBMC-DNA &  56 &  1404 & 39.88604 & 25.07143 & 0.7001978 &  92 &  3 &  1 &  58.189 & 0.999 & ⋯ &   7.189 &  44.969 &  45.951 & 0.710 &  37.799 &  38.817 & 1.195 & NA\\_NA & batch\\_reseq\\_24Feb2020/mixcr/clones/CLONES\\_TRACHP\\_353-02-PBMC-DNA.txt & CHP\\_353-02-PBMC-DNA\\\\\n",
       "\\end{tabular}\n"
      ],
      "text/markdown": [
       "\n",
       "A data.frame: 6 × 22\n",
       "\n",
       "| <!--/--> | TRA &lt;int&gt; | Reads &lt;int&gt; | CPKR &lt;dbl&gt; | Average_reads &lt;dbl&gt; | VMR &lt;dbl&gt; | Max_reads &lt;int&gt; | Singletons &lt;int&gt; | Doubletons &lt;int&gt; | qD &lt;dbl&gt; | Sample_Coverage &lt;dbl&gt; | ⋯ ⋯ | SE_Richeness &lt;dbl&gt; | observed_Shannon &lt;dbl&gt; | estimated_Shannon &lt;dbl&gt; | SE_Shannon &lt;dbl&gt; | observed_Simpson &lt;dbl&gt; | estimated_Simpson &lt;dbl&gt; | SE_Simpson &lt;dbl&gt; | sample_id &lt;chr&gt; | file &lt;chr&gt; | basename &lt;chr&gt; |\n",
       "|---|---|---|---|---|---|---|---|---|---|---|---|---|---|---|---|---|---|---|---|---|---|\n",
       "| CHP_315-05-PBMC-DNA |  67 |  1636 | 40.95355 | 24.41791 | 0.9377717 | 107 |  2 |  0 |  67.864 | 1.000 | ⋯ |   2.331 |  47.431 |  48.435 | 1.015 |  35.900 |  36.683 | 1.210 | NA_NA | batch4_19Aug2019/mixcr/clones/CLONES_TRACHP_315-05-PBMC-DNA.txt      | CHP_315-05-PBMC-DNA |\n",
       "| CHP_350-01-PBMC-DNA | 641 | 13038 | 49.16398 | 20.34009 | 0.7859894 | 116 | 40 | 10 | 672.477 | 0.998 | ⋯ |  36.875 | 490.352 | 504.229 | 3.087 | 396.458 | 408.861 | 4.877 | NA_NA | batch_reseq_24Feb2020/mixcr/clones/CLONES_TRACHP_350-01-PBMC-DNA.txt | CHP_350-01-PBMC-DNA |\n",
       "| CHP_350-02-PBMC-DNA | 908 | 18934 | 47.95606 | 20.85242 | 0.7266378 | 120 | 41 | 15 | 937.076 | 0.999 | ⋯ |  23.908 | 717.297 | 736.184 | 3.418 | 594.466 | 613.703 | 5.500 | NA_NA | batch_reseq_24Feb2020/mixcr/clones/CLONES_TRACHP_350-02-PBMC-DNA.txt | CHP_350-02-PBMC-DNA |\n",
       "| CHP_350-03-PBMC-DNA | 755 | 13957 | 54.09472 | 18.48609 | 0.7250201 | 103 | 46 |  9 | 793.067 | 0.998 | ⋯ |  53.426 | 594.801 | 613.585 | 3.273 | 495.096 | 513.267 | 5.431 | NA_NA | batch_reseq_24Feb2020/mixcr/clones/CLONES_TRACHP_350-03-PBMC-DNA.txt | CHP_350-03-PBMC-DNA |\n",
       "| CHP_350-04-PBMC-DNA | 381 |  6749 | 56.45281 | 17.71391 | 0.6824403 |  72 | 24 |  2 | 403.106 | 0.997 | ⋯ | 118.169 | 304.600 | 315.309 | 2.568 | 260.157 | 270.547 | 3.631 | NA_NA | batch_reseq_24Feb2020/mixcr/clones/CLONES_TRACHP_350-04-PBMC-DNA.txt | CHP_350-04-PBMC-DNA |\n",
       "| CHP_353-02-PBMC-DNA |  56 |  1404 | 39.88604 | 25.07143 | 0.7001978 |  92 |  3 |  1 |  58.189 | 0.999 | ⋯ |   7.189 |  44.969 |  45.951 | 0.710 |  37.799 |  38.817 | 1.195 | NA_NA | batch_reseq_24Feb2020/mixcr/clones/CLONES_TRACHP_353-02-PBMC-DNA.txt | CHP_353-02-PBMC-DNA |\n",
       "\n"
      ],
      "text/plain": [
       "                    TRA Reads CPKR     Average_reads VMR       Max_reads\n",
       "CHP_315-05-PBMC-DNA  67  1636 40.95355 24.41791      0.9377717 107      \n",
       "CHP_350-01-PBMC-DNA 641 13038 49.16398 20.34009      0.7859894 116      \n",
       "CHP_350-02-PBMC-DNA 908 18934 47.95606 20.85242      0.7266378 120      \n",
       "CHP_350-03-PBMC-DNA 755 13957 54.09472 18.48609      0.7250201 103      \n",
       "CHP_350-04-PBMC-DNA 381  6749 56.45281 17.71391      0.6824403  72      \n",
       "CHP_353-02-PBMC-DNA  56  1404 39.88604 25.07143      0.7001978  92      \n",
       "                    Singletons Doubletons qD      Sample_Coverage ⋯\n",
       "CHP_315-05-PBMC-DNA  2          0          67.864 1.000           ⋯\n",
       "CHP_350-01-PBMC-DNA 40         10         672.477 0.998           ⋯\n",
       "CHP_350-02-PBMC-DNA 41         15         937.076 0.999           ⋯\n",
       "CHP_350-03-PBMC-DNA 46          9         793.067 0.998           ⋯\n",
       "CHP_350-04-PBMC-DNA 24          2         403.106 0.997           ⋯\n",
       "CHP_353-02-PBMC-DNA  3          1          58.189 0.999           ⋯\n",
       "                    SE_Richeness observed_Shannon estimated_Shannon SE_Shannon\n",
       "CHP_315-05-PBMC-DNA   2.331       47.431           48.435           1.015     \n",
       "CHP_350-01-PBMC-DNA  36.875      490.352          504.229           3.087     \n",
       "CHP_350-02-PBMC-DNA  23.908      717.297          736.184           3.418     \n",
       "CHP_350-03-PBMC-DNA  53.426      594.801          613.585           3.273     \n",
       "CHP_350-04-PBMC-DNA 118.169      304.600          315.309           2.568     \n",
       "CHP_353-02-PBMC-DNA   7.189       44.969           45.951           0.710     \n",
       "                    observed_Simpson estimated_Simpson SE_Simpson sample_id\n",
       "CHP_315-05-PBMC-DNA  35.900           36.683           1.210      NA_NA    \n",
       "CHP_350-01-PBMC-DNA 396.458          408.861           4.877      NA_NA    \n",
       "CHP_350-02-PBMC-DNA 594.466          613.703           5.500      NA_NA    \n",
       "CHP_350-03-PBMC-DNA 495.096          513.267           5.431      NA_NA    \n",
       "CHP_350-04-PBMC-DNA 260.157          270.547           3.631      NA_NA    \n",
       "CHP_353-02-PBMC-DNA  37.799           38.817           1.195      NA_NA    \n",
       "                    file                                                                \n",
       "CHP_315-05-PBMC-DNA batch4_19Aug2019/mixcr/clones/CLONES_TRACHP_315-05-PBMC-DNA.txt     \n",
       "CHP_350-01-PBMC-DNA batch_reseq_24Feb2020/mixcr/clones/CLONES_TRACHP_350-01-PBMC-DNA.txt\n",
       "CHP_350-02-PBMC-DNA batch_reseq_24Feb2020/mixcr/clones/CLONES_TRACHP_350-02-PBMC-DNA.txt\n",
       "CHP_350-03-PBMC-DNA batch_reseq_24Feb2020/mixcr/clones/CLONES_TRACHP_350-03-PBMC-DNA.txt\n",
       "CHP_350-04-PBMC-DNA batch_reseq_24Feb2020/mixcr/clones/CLONES_TRACHP_350-04-PBMC-DNA.txt\n",
       "CHP_353-02-PBMC-DNA batch_reseq_24Feb2020/mixcr/clones/CLONES_TRACHP_353-02-PBMC-DNA.txt\n",
       "                    basename           \n",
       "CHP_315-05-PBMC-DNA CHP_315-05-PBMC-DNA\n",
       "CHP_350-01-PBMC-DNA CHP_350-01-PBMC-DNA\n",
       "CHP_350-02-PBMC-DNA CHP_350-02-PBMC-DNA\n",
       "CHP_350-03-PBMC-DNA CHP_350-03-PBMC-DNA\n",
       "CHP_350-04-PBMC-DNA CHP_350-04-PBMC-DNA\n",
       "CHP_353-02-PBMC-DNA CHP_353-02-PBMC-DNA"
      ]
     },
     "metadata": {},
     "output_type": "display_data"
    }
   ],
   "source": [
    "head(divstats)"
   ]
  },
  {
   "cell_type": "code",
   "execution_count": 84,
   "metadata": {
    "vscode": {
     "languageId": "r"
    }
   },
   "outputs": [],
   "source": [
    "divstats$sample_id <- rownames(divstats)\n",
    "divstats$basename <- rownames(divstats)"
   ]
  },
  {
   "cell_type": "code",
   "execution_count": 85,
   "metadata": {
    "vscode": {
     "languageId": "r"
    }
   },
   "outputs": [],
   "source": [
    "# add filenames to divstats\n",
    "divstats$file <- myfilenames$file_list[ match(divstats$sample_id, myfilenames$samplename)]"
   ]
  },
  {
   "cell_type": "code",
   "execution_count": 86,
   "metadata": {
    "vscode": {
     "languageId": "r"
    }
   },
   "outputs": [
    {
     "data": {
      "text/html": [
       "<style>\n",
       ".list-inline {list-style: none; margin:0; padding: 0}\n",
       ".list-inline>li {display: inline-block}\n",
       ".list-inline>li:not(:last-child)::after {content: \"\\00b7\"; padding: 0 .5ex}\n",
       "</style>\n",
       "<ol class=list-inline><li>596</li><li>22</li></ol>\n"
      ],
      "text/latex": [
       "\\begin{enumerate*}\n",
       "\\item 596\n",
       "\\item 22\n",
       "\\end{enumerate*}\n"
      ],
      "text/markdown": [
       "1. 596\n",
       "2. 22\n",
       "\n",
       "\n"
      ],
      "text/plain": [
       "[1] 596  22"
      ]
     },
     "metadata": {},
     "output_type": "display_data"
    }
   ],
   "source": [
    "dim(divstats)"
   ]
  },
  {
   "cell_type": "markdown",
   "metadata": {},
   "source": [
    "Separate samples"
   ]
  },
  {
   "cell_type": "code",
   "execution_count": 87,
   "metadata": {
    "vscode": {
     "languageId": "r"
    }
   },
   "outputs": [],
   "source": [
    "divstats$Sample <- NA\n",
    "divstats$Sample[grepl(\"PBMC\", rownames(divstats))] <- \"PBMC\"\n",
    "divstats$Sample[grepl(\"cfDNA\", rownames(divstats))] <- \"cfDNA\"\n",
    "divstats$Sample[grepl(\"FFPE\", rownames(divstats))] <- \"Tumor\""
   ]
  },
  {
   "cell_type": "markdown",
   "metadata": {},
   "source": [
    "Separate LFS and non-LFS"
   ]
  },
  {
   "cell_type": "code",
   "execution_count": 88,
   "metadata": {
    "vscode": {
     "languageId": "r"
    }
   },
   "outputs": [],
   "source": [
    "divstats$Group <- NA\n",
    "divstats$Group[grepl(\"LFS\", rownames(divstats))] <- \"LFS\"\n",
    "divstats$Group[grepl(\"CHP\", rownames(divstats))] <- \"CHP\""
   ]
  },
  {
   "cell_type": "markdown",
   "metadata": {},
   "source": [
    "Get patient ids"
   ]
  },
  {
   "cell_type": "code",
   "execution_count": 89,
   "metadata": {
    "vscode": {
     "languageId": "r"
    }
   },
   "outputs": [],
   "source": [
    "divstats$Patient <- NA\n",
    "# CHP\n",
    "divstats$Patient[divstats$Group == \"CHP\"] <- substr(rownames(divstats)[divstats$Group == \"CHP\"],1,7)\n",
    "# Normal samples have either YO or MO\n",
    "divstats$Patient[grepl(\"YO\", rownames(divstats))] <- gsub(\"_PBMC_DNA\", \"\", rownames(divstats)[grepl(\"YO\", rownames(divstats))])\n",
    "divstats$Patient[grepl(\"MO\", rownames(divstats))] <- gsub(\"_PBMC_DNA\", \"\", rownames(divstats)[grepl(\"MO\", rownames(divstats))])\n",
    "# LFS\n",
    "divstats$Patient[divstats$Group == \"LFS\"] <- substr(rownames(divstats)[divstats$Group == \"LFS\"],1,12)"
   ]
  },
  {
   "cell_type": "markdown",
   "metadata": {},
   "source": [
    "Get cycles. For LFS, Normals and Tumors recode to 00"
   ]
  },
  {
   "cell_type": "code",
   "execution_count": 90,
   "metadata": {
    "vscode": {
     "languageId": "r"
    }
   },
   "outputs": [],
   "source": [
    "divstats$Cycle <- NA\n",
    "divstats$Cycle[divstats$Group == \"CHP\"] <- substr(rownames(divstats)[divstats$Group == \"CHP\"],9,10)\n",
    "\n",
    "divstats$Cycle[grepl(\"YO\", rownames(divstats))] <- \"00\"\n",
    "divstats$Cycle[grepl(\"MO\", rownames(divstats))] <- \"00\"\n",
    "divstats$Cycle[ divstats$Sample == \"Tumor\"] <- \"00\"\n",
    "divstats$Cycle[ divstats$Group == \"LFS\"] <- \"00\""
   ]
  },
  {
   "cell_type": "code",
   "execution_count": 91,
   "metadata": {
    "vscode": {
     "languageId": "r"
    }
   },
   "outputs": [],
   "source": [
    "divstats$sample_id <- NA\n",
    "\n",
    "# bind patient and cycle for PBMC and cfdna to generate sample id\n",
    "divstats$sample_id[ divstats$Sample != \"Tumor\"] <- paste(divstats$Patient[ divstats$Sample != \"Tumor\"], \"_\", \n",
    "                                                          divstats$Cycle[ divstats$Sample != \"Tumor\"], sep = \"\")\n",
    "\n",
    "# For tumor samples start with rownames because some of them are two biopsies from the same tumor\n",
    "divstats$sample_id[ divstats$Sample == \"Tumor\"] <- gsub(\"-FFPE-DN.*\", \"\", rownames(divstats)[ divstats$Sample == \"Tumor\"])"
   ]
  },
  {
   "cell_type": "code",
   "execution_count": 92,
   "metadata": {
    "vscode": {
     "languageId": "r"
    }
   },
   "outputs": [],
   "source": [
    "divstats$sample_id <- gsub(\"-\", \"_\", divstats$sample_id)"
   ]
  },
  {
   "cell_type": "code",
   "execution_count": 43,
   "metadata": {
    "vscode": {
     "languageId": "r"
    }
   },
   "outputs": [],
   "source": [
    "divstats$Patient <- NULL\n",
    "divstats$Cycle <- NULL\n",
    "divstats$Group <- NULL\n",
    "divstats$Sample <- NULL"
   ]
  },
  {
   "cell_type": "code",
   "execution_count": 93,
   "metadata": {
    "vscode": {
     "languageId": "r"
    }
   },
   "outputs": [
    {
     "data": {
      "text/html": [
       "<table class=\"dataframe\">\n",
       "<caption>A data.frame: 6 × 26</caption>\n",
       "<thead>\n",
       "\t<tr><th></th><th scope=col>TRA</th><th scope=col>Reads</th><th scope=col>CPKR</th><th scope=col>Average_reads</th><th scope=col>VMR</th><th scope=col>Max_reads</th><th scope=col>Singletons</th><th scope=col>Doubletons</th><th scope=col>qD</th><th scope=col>Sample_Coverage</th><th scope=col>⋯</th><th scope=col>observed_Simpson</th><th scope=col>estimated_Simpson</th><th scope=col>SE_Simpson</th><th scope=col>sample_id</th><th scope=col>file</th><th scope=col>basename</th><th scope=col>Sample</th><th scope=col>Group</th><th scope=col>Patient</th><th scope=col>Cycle</th></tr>\n",
       "\t<tr><th></th><th scope=col>&lt;int&gt;</th><th scope=col>&lt;int&gt;</th><th scope=col>&lt;dbl&gt;</th><th scope=col>&lt;dbl&gt;</th><th scope=col>&lt;dbl&gt;</th><th scope=col>&lt;int&gt;</th><th scope=col>&lt;int&gt;</th><th scope=col>&lt;int&gt;</th><th scope=col>&lt;dbl&gt;</th><th scope=col>&lt;dbl&gt;</th><th scope=col>⋯</th><th scope=col>&lt;dbl&gt;</th><th scope=col>&lt;dbl&gt;</th><th scope=col>&lt;dbl&gt;</th><th scope=col>&lt;chr&gt;</th><th scope=col>&lt;chr&gt;</th><th scope=col>&lt;chr&gt;</th><th scope=col>&lt;chr&gt;</th><th scope=col>&lt;chr&gt;</th><th scope=col>&lt;chr&gt;</th><th scope=col>&lt;chr&gt;</th></tr>\n",
       "</thead>\n",
       "<tbody>\n",
       "\t<tr><th scope=row>CHP_315-05-PBMC-DNA</th><td> 67</td><td> 1636</td><td>40.95355</td><td>24.41791</td><td>0.9377717</td><td>107</td><td> 2</td><td> 0</td><td> 67.864</td><td>1.000</td><td>⋯</td><td> 35.900</td><td> 36.683</td><td>1.210</td><td>CHP_315_05</td><td>batch4_19Aug2019/mixcr/clones/CLONES_TRACHP_315-05-PBMC-DNA.txt     </td><td>CHP_315-05-PBMC-DNA</td><td>PBMC</td><td>CHP</td><td>CHP_315</td><td>05</td></tr>\n",
       "\t<tr><th scope=row>CHP_350-01-PBMC-DNA</th><td>641</td><td>13038</td><td>49.16398</td><td>20.34009</td><td>0.7859894</td><td>116</td><td>40</td><td>10</td><td>672.477</td><td>0.998</td><td>⋯</td><td>396.458</td><td>408.861</td><td>4.877</td><td>CHP_350_01</td><td>batch_reseq_24Feb2020/mixcr/clones/CLONES_TRACHP_350-01-PBMC-DNA.txt</td><td>CHP_350-01-PBMC-DNA</td><td>PBMC</td><td>CHP</td><td>CHP_350</td><td>01</td></tr>\n",
       "\t<tr><th scope=row>CHP_350-02-PBMC-DNA</th><td>908</td><td>18934</td><td>47.95606</td><td>20.85242</td><td>0.7266378</td><td>120</td><td>41</td><td>15</td><td>937.076</td><td>0.999</td><td>⋯</td><td>594.466</td><td>613.703</td><td>5.500</td><td>CHP_350_02</td><td>batch_reseq_24Feb2020/mixcr/clones/CLONES_TRACHP_350-02-PBMC-DNA.txt</td><td>CHP_350-02-PBMC-DNA</td><td>PBMC</td><td>CHP</td><td>CHP_350</td><td>02</td></tr>\n",
       "\t<tr><th scope=row>CHP_350-03-PBMC-DNA</th><td>755</td><td>13957</td><td>54.09472</td><td>18.48609</td><td>0.7250201</td><td>103</td><td>46</td><td> 9</td><td>793.067</td><td>0.998</td><td>⋯</td><td>495.096</td><td>513.267</td><td>5.431</td><td>CHP_350_03</td><td>batch_reseq_24Feb2020/mixcr/clones/CLONES_TRACHP_350-03-PBMC-DNA.txt</td><td>CHP_350-03-PBMC-DNA</td><td>PBMC</td><td>CHP</td><td>CHP_350</td><td>03</td></tr>\n",
       "\t<tr><th scope=row>CHP_350-04-PBMC-DNA</th><td>381</td><td> 6749</td><td>56.45281</td><td>17.71391</td><td>0.6824403</td><td> 72</td><td>24</td><td> 2</td><td>403.106</td><td>0.997</td><td>⋯</td><td>260.157</td><td>270.547</td><td>3.631</td><td>CHP_350_04</td><td>batch_reseq_24Feb2020/mixcr/clones/CLONES_TRACHP_350-04-PBMC-DNA.txt</td><td>CHP_350-04-PBMC-DNA</td><td>PBMC</td><td>CHP</td><td>CHP_350</td><td>04</td></tr>\n",
       "\t<tr><th scope=row>CHP_353-02-PBMC-DNA</th><td> 56</td><td> 1404</td><td>39.88604</td><td>25.07143</td><td>0.7001978</td><td> 92</td><td> 3</td><td> 1</td><td> 58.189</td><td>0.999</td><td>⋯</td><td> 37.799</td><td> 38.817</td><td>1.195</td><td>CHP_353_02</td><td>batch_reseq_24Feb2020/mixcr/clones/CLONES_TRACHP_353-02-PBMC-DNA.txt</td><td>CHP_353-02-PBMC-DNA</td><td>PBMC</td><td>CHP</td><td>CHP_353</td><td>02</td></tr>\n",
       "</tbody>\n",
       "</table>\n"
      ],
      "text/latex": [
       "A data.frame: 6 × 26\n",
       "\\begin{tabular}{r|lllllllllllllllllllll}\n",
       "  & TRA & Reads & CPKR & Average\\_reads & VMR & Max\\_reads & Singletons & Doubletons & qD & Sample\\_Coverage & ⋯ & observed\\_Simpson & estimated\\_Simpson & SE\\_Simpson & sample\\_id & file & basename & Sample & Group & Patient & Cycle\\\\\n",
       "  & <int> & <int> & <dbl> & <dbl> & <dbl> & <int> & <int> & <int> & <dbl> & <dbl> & ⋯ & <dbl> & <dbl> & <dbl> & <chr> & <chr> & <chr> & <chr> & <chr> & <chr> & <chr>\\\\\n",
       "\\hline\n",
       "\tCHP\\_315-05-PBMC-DNA &  67 &  1636 & 40.95355 & 24.41791 & 0.9377717 & 107 &  2 &  0 &  67.864 & 1.000 & ⋯ &  35.900 &  36.683 & 1.210 & CHP\\_315\\_05 & batch4\\_19Aug2019/mixcr/clones/CLONES\\_TRACHP\\_315-05-PBMC-DNA.txt      & CHP\\_315-05-PBMC-DNA & PBMC & CHP & CHP\\_315 & 05\\\\\n",
       "\tCHP\\_350-01-PBMC-DNA & 641 & 13038 & 49.16398 & 20.34009 & 0.7859894 & 116 & 40 & 10 & 672.477 & 0.998 & ⋯ & 396.458 & 408.861 & 4.877 & CHP\\_350\\_01 & batch\\_reseq\\_24Feb2020/mixcr/clones/CLONES\\_TRACHP\\_350-01-PBMC-DNA.txt & CHP\\_350-01-PBMC-DNA & PBMC & CHP & CHP\\_350 & 01\\\\\n",
       "\tCHP\\_350-02-PBMC-DNA & 908 & 18934 & 47.95606 & 20.85242 & 0.7266378 & 120 & 41 & 15 & 937.076 & 0.999 & ⋯ & 594.466 & 613.703 & 5.500 & CHP\\_350\\_02 & batch\\_reseq\\_24Feb2020/mixcr/clones/CLONES\\_TRACHP\\_350-02-PBMC-DNA.txt & CHP\\_350-02-PBMC-DNA & PBMC & CHP & CHP\\_350 & 02\\\\\n",
       "\tCHP\\_350-03-PBMC-DNA & 755 & 13957 & 54.09472 & 18.48609 & 0.7250201 & 103 & 46 &  9 & 793.067 & 0.998 & ⋯ & 495.096 & 513.267 & 5.431 & CHP\\_350\\_03 & batch\\_reseq\\_24Feb2020/mixcr/clones/CLONES\\_TRACHP\\_350-03-PBMC-DNA.txt & CHP\\_350-03-PBMC-DNA & PBMC & CHP & CHP\\_350 & 03\\\\\n",
       "\tCHP\\_350-04-PBMC-DNA & 381 &  6749 & 56.45281 & 17.71391 & 0.6824403 &  72 & 24 &  2 & 403.106 & 0.997 & ⋯ & 260.157 & 270.547 & 3.631 & CHP\\_350\\_04 & batch\\_reseq\\_24Feb2020/mixcr/clones/CLONES\\_TRACHP\\_350-04-PBMC-DNA.txt & CHP\\_350-04-PBMC-DNA & PBMC & CHP & CHP\\_350 & 04\\\\\n",
       "\tCHP\\_353-02-PBMC-DNA &  56 &  1404 & 39.88604 & 25.07143 & 0.7001978 &  92 &  3 &  1 &  58.189 & 0.999 & ⋯ &  37.799 &  38.817 & 1.195 & CHP\\_353\\_02 & batch\\_reseq\\_24Feb2020/mixcr/clones/CLONES\\_TRACHP\\_353-02-PBMC-DNA.txt & CHP\\_353-02-PBMC-DNA & PBMC & CHP & CHP\\_353 & 02\\\\\n",
       "\\end{tabular}\n"
      ],
      "text/markdown": [
       "\n",
       "A data.frame: 6 × 26\n",
       "\n",
       "| <!--/--> | TRA &lt;int&gt; | Reads &lt;int&gt; | CPKR &lt;dbl&gt; | Average_reads &lt;dbl&gt; | VMR &lt;dbl&gt; | Max_reads &lt;int&gt; | Singletons &lt;int&gt; | Doubletons &lt;int&gt; | qD &lt;dbl&gt; | Sample_Coverage &lt;dbl&gt; | ⋯ ⋯ | observed_Simpson &lt;dbl&gt; | estimated_Simpson &lt;dbl&gt; | SE_Simpson &lt;dbl&gt; | sample_id &lt;chr&gt; | file &lt;chr&gt; | basename &lt;chr&gt; | Sample &lt;chr&gt; | Group &lt;chr&gt; | Patient &lt;chr&gt; | Cycle &lt;chr&gt; |\n",
       "|---|---|---|---|---|---|---|---|---|---|---|---|---|---|---|---|---|---|---|---|---|---|\n",
       "| CHP_315-05-PBMC-DNA |  67 |  1636 | 40.95355 | 24.41791 | 0.9377717 | 107 |  2 |  0 |  67.864 | 1.000 | ⋯ |  35.900 |  36.683 | 1.210 | CHP_315_05 | batch4_19Aug2019/mixcr/clones/CLONES_TRACHP_315-05-PBMC-DNA.txt      | CHP_315-05-PBMC-DNA | PBMC | CHP | CHP_315 | 05 |\n",
       "| CHP_350-01-PBMC-DNA | 641 | 13038 | 49.16398 | 20.34009 | 0.7859894 | 116 | 40 | 10 | 672.477 | 0.998 | ⋯ | 396.458 | 408.861 | 4.877 | CHP_350_01 | batch_reseq_24Feb2020/mixcr/clones/CLONES_TRACHP_350-01-PBMC-DNA.txt | CHP_350-01-PBMC-DNA | PBMC | CHP | CHP_350 | 01 |\n",
       "| CHP_350-02-PBMC-DNA | 908 | 18934 | 47.95606 | 20.85242 | 0.7266378 | 120 | 41 | 15 | 937.076 | 0.999 | ⋯ | 594.466 | 613.703 | 5.500 | CHP_350_02 | batch_reseq_24Feb2020/mixcr/clones/CLONES_TRACHP_350-02-PBMC-DNA.txt | CHP_350-02-PBMC-DNA | PBMC | CHP | CHP_350 | 02 |\n",
       "| CHP_350-03-PBMC-DNA | 755 | 13957 | 54.09472 | 18.48609 | 0.7250201 | 103 | 46 |  9 | 793.067 | 0.998 | ⋯ | 495.096 | 513.267 | 5.431 | CHP_350_03 | batch_reseq_24Feb2020/mixcr/clones/CLONES_TRACHP_350-03-PBMC-DNA.txt | CHP_350-03-PBMC-DNA | PBMC | CHP | CHP_350 | 03 |\n",
       "| CHP_350-04-PBMC-DNA | 381 |  6749 | 56.45281 | 17.71391 | 0.6824403 |  72 | 24 |  2 | 403.106 | 0.997 | ⋯ | 260.157 | 270.547 | 3.631 | CHP_350_04 | batch_reseq_24Feb2020/mixcr/clones/CLONES_TRACHP_350-04-PBMC-DNA.txt | CHP_350-04-PBMC-DNA | PBMC | CHP | CHP_350 | 04 |\n",
       "| CHP_353-02-PBMC-DNA |  56 |  1404 | 39.88604 | 25.07143 | 0.7001978 |  92 |  3 |  1 |  58.189 | 0.999 | ⋯ |  37.799 |  38.817 | 1.195 | CHP_353_02 | batch_reseq_24Feb2020/mixcr/clones/CLONES_TRACHP_353-02-PBMC-DNA.txt | CHP_353-02-PBMC-DNA | PBMC | CHP | CHP_353 | 02 |\n",
       "\n"
      ],
      "text/plain": [
       "                    TRA Reads CPKR     Average_reads VMR       Max_reads\n",
       "CHP_315-05-PBMC-DNA  67  1636 40.95355 24.41791      0.9377717 107      \n",
       "CHP_350-01-PBMC-DNA 641 13038 49.16398 20.34009      0.7859894 116      \n",
       "CHP_350-02-PBMC-DNA 908 18934 47.95606 20.85242      0.7266378 120      \n",
       "CHP_350-03-PBMC-DNA 755 13957 54.09472 18.48609      0.7250201 103      \n",
       "CHP_350-04-PBMC-DNA 381  6749 56.45281 17.71391      0.6824403  72      \n",
       "CHP_353-02-PBMC-DNA  56  1404 39.88604 25.07143      0.7001978  92      \n",
       "                    Singletons Doubletons qD      Sample_Coverage ⋯\n",
       "CHP_315-05-PBMC-DNA  2          0          67.864 1.000           ⋯\n",
       "CHP_350-01-PBMC-DNA 40         10         672.477 0.998           ⋯\n",
       "CHP_350-02-PBMC-DNA 41         15         937.076 0.999           ⋯\n",
       "CHP_350-03-PBMC-DNA 46          9         793.067 0.998           ⋯\n",
       "CHP_350-04-PBMC-DNA 24          2         403.106 0.997           ⋯\n",
       "CHP_353-02-PBMC-DNA  3          1          58.189 0.999           ⋯\n",
       "                    observed_Simpson estimated_Simpson SE_Simpson sample_id \n",
       "CHP_315-05-PBMC-DNA  35.900           36.683           1.210      CHP_315_05\n",
       "CHP_350-01-PBMC-DNA 396.458          408.861           4.877      CHP_350_01\n",
       "CHP_350-02-PBMC-DNA 594.466          613.703           5.500      CHP_350_02\n",
       "CHP_350-03-PBMC-DNA 495.096          513.267           5.431      CHP_350_03\n",
       "CHP_350-04-PBMC-DNA 260.157          270.547           3.631      CHP_350_04\n",
       "CHP_353-02-PBMC-DNA  37.799           38.817           1.195      CHP_353_02\n",
       "                    file                                                                \n",
       "CHP_315-05-PBMC-DNA batch4_19Aug2019/mixcr/clones/CLONES_TRACHP_315-05-PBMC-DNA.txt     \n",
       "CHP_350-01-PBMC-DNA batch_reseq_24Feb2020/mixcr/clones/CLONES_TRACHP_350-01-PBMC-DNA.txt\n",
       "CHP_350-02-PBMC-DNA batch_reseq_24Feb2020/mixcr/clones/CLONES_TRACHP_350-02-PBMC-DNA.txt\n",
       "CHP_350-03-PBMC-DNA batch_reseq_24Feb2020/mixcr/clones/CLONES_TRACHP_350-03-PBMC-DNA.txt\n",
       "CHP_350-04-PBMC-DNA batch_reseq_24Feb2020/mixcr/clones/CLONES_TRACHP_350-04-PBMC-DNA.txt\n",
       "CHP_353-02-PBMC-DNA batch_reseq_24Feb2020/mixcr/clones/CLONES_TRACHP_353-02-PBMC-DNA.txt\n",
       "                    basename            Sample Group Patient Cycle\n",
       "CHP_315-05-PBMC-DNA CHP_315-05-PBMC-DNA PBMC   CHP   CHP_315 05   \n",
       "CHP_350-01-PBMC-DNA CHP_350-01-PBMC-DNA PBMC   CHP   CHP_350 01   \n",
       "CHP_350-02-PBMC-DNA CHP_350-02-PBMC-DNA PBMC   CHP   CHP_350 02   \n",
       "CHP_350-03-PBMC-DNA CHP_350-03-PBMC-DNA PBMC   CHP   CHP_350 03   \n",
       "CHP_350-04-PBMC-DNA CHP_350-04-PBMC-DNA PBMC   CHP   CHP_350 04   \n",
       "CHP_353-02-PBMC-DNA CHP_353-02-PBMC-DNA PBMC   CHP   CHP_353 02   "
      ]
     },
     "metadata": {},
     "output_type": "display_data"
    }
   ],
   "source": [
    "head(divstats)"
   ]
  },
  {
   "cell_type": "code",
   "execution_count": 94,
   "metadata": {
    "vscode": {
     "languageId": "r"
    }
   },
   "outputs": [],
   "source": [
    "write.csv(divstats,\n",
    "          paste0(datapath, \"capTCRseq/divstats_TRACHP.csv\"), row.names = TRUE)"
   ]
  },
  {
   "cell_type": "code",
   "execution_count": null,
   "metadata": {
    "vscode": {
     "languageId": "r"
    }
   },
   "outputs": [],
   "source": []
  },
  {
   "cell_type": "markdown",
   "metadata": {},
   "source": [
    "# Test dataset"
   ]
  },
  {
   "cell_type": "code",
   "execution_count": 4,
   "metadata": {
    "vscode": {
     "languageId": "r"
    }
   },
   "outputs": [],
   "source": [
    "mordpath <- \"/Users/anabbi/Desktop/Sam/immpedcan/mixcr/Tcelllines/muldercelllines/mixcr/clones/\""
   ]
  },
  {
   "cell_type": "code",
   "execution_count": 5,
   "metadata": {
    "vscode": {
     "languageId": "r"
    }
   },
   "outputs": [],
   "source": [
    "file_list <- list.files(mordpath, pattern = paste0(\"CLONES_\", \"TRB\"), recursive = T)"
   ]
  },
  {
   "cell_type": "code",
   "execution_count": 6,
   "metadata": {
    "vscode": {
     "languageId": "r"
    }
   },
   "outputs": [
    {
     "data": {
      "text/html": [
       "<style>\n",
       ".list-inline {list-style: none; margin:0; padding: 0}\n",
       ".list-inline>li {display: inline-block}\n",
       ".list-inline>li:not(:last-child)::after {content: \"\\00b7\"; padding: 0 .5ex}\n",
       "</style>\n",
       "<ol class=list-inline><li>'CLONES_TRBA037_S1.txt'</li><li>'CLONES_TRBL2D8_S2.txt'</li><li>'CLONES_TRBM36-EZM_S4.txt'</li><li>'CLONES_TRBM36-TIL2-1E7P3_S3.txt'</li><li>'CLONES_TRBOV7-TIL2_S5.txt'</li><li>'CLONES_TRBSE14-2005_S7.txt'</li><li>'CLONES_TRBSE14-2033_S8.txt'</li><li>'CLONES_TRBSE14-2034_S9.txt'</li><li>'CLONES_TRBSE14-2035_S10.txt'</li><li>'CLONES_TRBSTIM1-CY3_S6.txt'</li><li>'CLONES_TRBUndetermined_S0.txt'</li></ol>\n"
      ],
      "text/latex": [
       "\\begin{enumerate*}\n",
       "\\item 'CLONES\\_TRBA037\\_S1.txt'\n",
       "\\item 'CLONES\\_TRBL2D8\\_S2.txt'\n",
       "\\item 'CLONES\\_TRBM36-EZM\\_S4.txt'\n",
       "\\item 'CLONES\\_TRBM36-TIL2-1E7P3\\_S3.txt'\n",
       "\\item 'CLONES\\_TRBOV7-TIL2\\_S5.txt'\n",
       "\\item 'CLONES\\_TRBSE14-2005\\_S7.txt'\n",
       "\\item 'CLONES\\_TRBSE14-2033\\_S8.txt'\n",
       "\\item 'CLONES\\_TRBSE14-2034\\_S9.txt'\n",
       "\\item 'CLONES\\_TRBSE14-2035\\_S10.txt'\n",
       "\\item 'CLONES\\_TRBSTIM1-CY3\\_S6.txt'\n",
       "\\item 'CLONES\\_TRBUndetermined\\_S0.txt'\n",
       "\\end{enumerate*}\n"
      ],
      "text/markdown": [
       "1. 'CLONES_TRBA037_S1.txt'\n",
       "2. 'CLONES_TRBL2D8_S2.txt'\n",
       "3. 'CLONES_TRBM36-EZM_S4.txt'\n",
       "4. 'CLONES_TRBM36-TIL2-1E7P3_S3.txt'\n",
       "5. 'CLONES_TRBOV7-TIL2_S5.txt'\n",
       "6. 'CLONES_TRBSE14-2005_S7.txt'\n",
       "7. 'CLONES_TRBSE14-2033_S8.txt'\n",
       "8. 'CLONES_TRBSE14-2034_S9.txt'\n",
       "9. 'CLONES_TRBSE14-2035_S10.txt'\n",
       "10. 'CLONES_TRBSTIM1-CY3_S6.txt'\n",
       "11. 'CLONES_TRBUndetermined_S0.txt'\n",
       "\n",
       "\n"
      ],
      "text/plain": [
       " [1] \"CLONES_TRBA037_S1.txt\"           \"CLONES_TRBL2D8_S2.txt\"          \n",
       " [3] \"CLONES_TRBM36-EZM_S4.txt\"        \"CLONES_TRBM36-TIL2-1E7P3_S3.txt\"\n",
       " [5] \"CLONES_TRBOV7-TIL2_S5.txt\"       \"CLONES_TRBSE14-2005_S7.txt\"     \n",
       " [7] \"CLONES_TRBSE14-2033_S8.txt\"      \"CLONES_TRBSE14-2034_S9.txt\"     \n",
       " [9] \"CLONES_TRBSE14-2035_S10.txt\"     \"CLONES_TRBSTIM1-CY3_S6.txt\"     \n",
       "[11] \"CLONES_TRBUndetermined_S0.txt\"  "
      ]
     },
     "metadata": {},
     "output_type": "display_data"
    }
   ],
   "source": [
    "file_list"
   ]
  },
  {
   "cell_type": "code",
   "execution_count": 7,
   "metadata": {
    "vscode": {
     "languageId": "r"
    }
   },
   "outputs": [],
   "source": [
    "file_list <- file_list[ file_list != 'CLONES_TRBUndetermined_S0.txt']"
   ]
  },
  {
   "cell_type": "code",
   "execution_count": 8,
   "metadata": {
    "vscode": {
     "languageId": "r"
    }
   },
   "outputs": [
    {
     "data": {
      "text/html": [
       "<style>\n",
       ".list-inline {list-style: none; margin:0; padding: 0}\n",
       ".list-inline>li {display: inline-block}\n",
       ".list-inline>li:not(:last-child)::after {content: \"\\00b7\"; padding: 0 .5ex}\n",
       "</style>\n",
       "<ol class=list-inline><li>'CLONES_TRBA037_S1.txt'</li><li>'CLONES_TRBL2D8_S2.txt'</li><li>'CLONES_TRBM36-EZM_S4.txt'</li><li>'CLONES_TRBM36-TIL2-1E7P3_S3.txt'</li><li>'CLONES_TRBOV7-TIL2_S5.txt'</li><li>'CLONES_TRBSE14-2005_S7.txt'</li><li>'CLONES_TRBSE14-2033_S8.txt'</li><li>'CLONES_TRBSE14-2034_S9.txt'</li><li>'CLONES_TRBSE14-2035_S10.txt'</li><li>'CLONES_TRBSTIM1-CY3_S6.txt'</li></ol>\n"
      ],
      "text/latex": [
       "\\begin{enumerate*}\n",
       "\\item 'CLONES\\_TRBA037\\_S1.txt'\n",
       "\\item 'CLONES\\_TRBL2D8\\_S2.txt'\n",
       "\\item 'CLONES\\_TRBM36-EZM\\_S4.txt'\n",
       "\\item 'CLONES\\_TRBM36-TIL2-1E7P3\\_S3.txt'\n",
       "\\item 'CLONES\\_TRBOV7-TIL2\\_S5.txt'\n",
       "\\item 'CLONES\\_TRBSE14-2005\\_S7.txt'\n",
       "\\item 'CLONES\\_TRBSE14-2033\\_S8.txt'\n",
       "\\item 'CLONES\\_TRBSE14-2034\\_S9.txt'\n",
       "\\item 'CLONES\\_TRBSE14-2035\\_S10.txt'\n",
       "\\item 'CLONES\\_TRBSTIM1-CY3\\_S6.txt'\n",
       "\\end{enumerate*}\n"
      ],
      "text/markdown": [
       "1. 'CLONES_TRBA037_S1.txt'\n",
       "2. 'CLONES_TRBL2D8_S2.txt'\n",
       "3. 'CLONES_TRBM36-EZM_S4.txt'\n",
       "4. 'CLONES_TRBM36-TIL2-1E7P3_S3.txt'\n",
       "5. 'CLONES_TRBOV7-TIL2_S5.txt'\n",
       "6. 'CLONES_TRBSE14-2005_S7.txt'\n",
       "7. 'CLONES_TRBSE14-2033_S8.txt'\n",
       "8. 'CLONES_TRBSE14-2034_S9.txt'\n",
       "9. 'CLONES_TRBSE14-2035_S10.txt'\n",
       "10. 'CLONES_TRBSTIM1-CY3_S6.txt'\n",
       "\n",
       "\n"
      ],
      "text/plain": [
       " [1] \"CLONES_TRBA037_S1.txt\"           \"CLONES_TRBL2D8_S2.txt\"          \n",
       " [3] \"CLONES_TRBM36-EZM_S4.txt\"        \"CLONES_TRBM36-TIL2-1E7P3_S3.txt\"\n",
       " [5] \"CLONES_TRBOV7-TIL2_S5.txt\"       \"CLONES_TRBSE14-2005_S7.txt\"     \n",
       " [7] \"CLONES_TRBSE14-2033_S8.txt\"      \"CLONES_TRBSE14-2034_S9.txt\"     \n",
       " [9] \"CLONES_TRBSE14-2035_S10.txt\"     \"CLONES_TRBSTIM1-CY3_S6.txt\"     "
      ]
     },
     "metadata": {},
     "output_type": "display_data"
    }
   ],
   "source": [
    "file_list"
   ]
  },
  {
   "cell_type": "code",
   "execution_count": 9,
   "metadata": {
    "scrolled": true,
    "vscode": {
     "languageId": "r"
    }
   },
   "outputs": [
    {
     "name": "stderr",
     "output_type": "stream",
     "text": [
      "number of clones in file:CLONES_TRBA037_S1.txt\n",
      "\n"
     ]
    },
    {
     "name": "stdout",
     "output_type": "stream",
     "text": [
      "[1] 106\n"
     ]
    },
    {
     "name": "stderr",
     "output_type": "stream",
     "text": [
      "number of non prodcutive CDR3s:\n",
      "\n"
     ]
    },
    {
     "name": "stdout",
     "output_type": "stream",
     "text": [
      "[1] 22\n"
     ]
    },
    {
     "name": "stderr",
     "output_type": "stream",
     "text": [
      "nonproductive aaCDR3 removed\n",
      "\n",
      "number of clones in file:CLONES_TRBL2D8_S2.txt\n",
      "\n"
     ]
    },
    {
     "name": "stdout",
     "output_type": "stream",
     "text": [
      "[1] 1\n"
     ]
    },
    {
     "name": "stderr",
     "output_type": "stream",
     "text": [
      "number of non prodcutive CDR3s:\n",
      "\n"
     ]
    },
    {
     "name": "stdout",
     "output_type": "stream",
     "text": [
      "[1] 0\n"
     ]
    },
    {
     "name": "stderr",
     "output_type": "stream",
     "text": [
      "nonproductive aaCDR3 removed\n",
      "\n",
      "number of clones in file:CLONES_TRBM36-EZM_S4.txt\n",
      "\n"
     ]
    },
    {
     "name": "stdout",
     "output_type": "stream",
     "text": [
      "[1] 10\n"
     ]
    },
    {
     "name": "stderr",
     "output_type": "stream",
     "text": [
      "number of non prodcutive CDR3s:\n",
      "\n"
     ]
    },
    {
     "name": "stdout",
     "output_type": "stream",
     "text": [
      "[1] 2\n"
     ]
    },
    {
     "name": "stderr",
     "output_type": "stream",
     "text": [
      "nonproductive aaCDR3 removed\n",
      "\n",
      "number of clones in file:CLONES_TRBM36-TIL2-1E7P3_S3.txt\n",
      "\n"
     ]
    },
    {
     "name": "stdout",
     "output_type": "stream",
     "text": [
      "[1] 94\n"
     ]
    },
    {
     "name": "stderr",
     "output_type": "stream",
     "text": [
      "number of non prodcutive CDR3s:\n",
      "\n"
     ]
    },
    {
     "name": "stdout",
     "output_type": "stream",
     "text": [
      "[1] 24\n"
     ]
    },
    {
     "name": "stderr",
     "output_type": "stream",
     "text": [
      "nonproductive aaCDR3 removed\n",
      "\n",
      "number of clones in file:CLONES_TRBOV7-TIL2_S5.txt\n",
      "\n"
     ]
    },
    {
     "name": "stdout",
     "output_type": "stream",
     "text": [
      "[1] 51\n"
     ]
    },
    {
     "name": "stderr",
     "output_type": "stream",
     "text": [
      "number of non prodcutive CDR3s:\n",
      "\n"
     ]
    },
    {
     "name": "stdout",
     "output_type": "stream",
     "text": [
      "[1] 19\n"
     ]
    },
    {
     "name": "stderr",
     "output_type": "stream",
     "text": [
      "nonproductive aaCDR3 removed\n",
      "\n",
      "number of clones in file:CLONES_TRBSE14-2005_S7.txt\n",
      "\n"
     ]
    },
    {
     "name": "stdout",
     "output_type": "stream",
     "text": [
      "[1] 4\n"
     ]
    },
    {
     "name": "stderr",
     "output_type": "stream",
     "text": [
      "number of non prodcutive CDR3s:\n",
      "\n"
     ]
    },
    {
     "name": "stdout",
     "output_type": "stream",
     "text": [
      "[1] 1\n"
     ]
    },
    {
     "name": "stderr",
     "output_type": "stream",
     "text": [
      "nonproductive aaCDR3 removed\n",
      "\n",
      "number of clones in file:CLONES_TRBSE14-2033_S8.txt\n",
      "\n"
     ]
    },
    {
     "name": "stdout",
     "output_type": "stream",
     "text": [
      "[1] 1\n"
     ]
    },
    {
     "name": "stderr",
     "output_type": "stream",
     "text": [
      "number of non prodcutive CDR3s:\n",
      "\n"
     ]
    },
    {
     "name": "stdout",
     "output_type": "stream",
     "text": [
      "[1] 0\n"
     ]
    },
    {
     "name": "stderr",
     "output_type": "stream",
     "text": [
      "nonproductive aaCDR3 removed\n",
      "\n",
      "number of clones in file:CLONES_TRBSE14-2034_S9.txt\n",
      "\n"
     ]
    },
    {
     "name": "stdout",
     "output_type": "stream",
     "text": [
      "[1] 4\n"
     ]
    },
    {
     "name": "stderr",
     "output_type": "stream",
     "text": [
      "number of non prodcutive CDR3s:\n",
      "\n"
     ]
    },
    {
     "name": "stdout",
     "output_type": "stream",
     "text": [
      "[1] 3\n"
     ]
    },
    {
     "name": "stderr",
     "output_type": "stream",
     "text": [
      "nonproductive aaCDR3 removed\n",
      "\n",
      "number of clones in file:CLONES_TRBSE14-2035_S10.txt\n",
      "\n"
     ]
    },
    {
     "name": "stdout",
     "output_type": "stream",
     "text": [
      "[1] 2\n"
     ]
    },
    {
     "name": "stderr",
     "output_type": "stream",
     "text": [
      "number of non prodcutive CDR3s:\n",
      "\n"
     ]
    },
    {
     "name": "stdout",
     "output_type": "stream",
     "text": [
      "[1] 1\n"
     ]
    },
    {
     "name": "stderr",
     "output_type": "stream",
     "text": [
      "nonproductive aaCDR3 removed\n",
      "\n",
      "number of clones in file:CLONES_TRBSTIM1-CY3_S6.txt\n",
      "\n"
     ]
    },
    {
     "name": "stdout",
     "output_type": "stream",
     "text": [
      "[1] 38\n"
     ]
    },
    {
     "name": "stderr",
     "output_type": "stream",
     "text": [
      "number of non prodcutive CDR3s:\n",
      "\n"
     ]
    },
    {
     "name": "stdout",
     "output_type": "stream",
     "text": [
      "[1] 10\n"
     ]
    },
    {
     "name": "stderr",
     "output_type": "stream",
     "text": [
      "nonproductive aaCDR3 removed\n",
      "\n"
     ]
    }
   ],
   "source": [
    "cells <- immunelistfx(file_list, mordpath, \"TRB\")"
   ]
  },
  {
   "cell_type": "code",
   "execution_count": 10,
   "metadata": {
    "vscode": {
     "languageId": "r"
    }
   },
   "outputs": [
    {
     "data": {
      "text/html": [
       "<dl>\n",
       "\t<dt>$A037_S1</dt>\n",
       "\t\t<dd><style>\n",
       ".list-inline {list-style: none; margin:0; padding: 0}\n",
       ".list-inline>li {display: inline-block}\n",
       ".list-inline>li:not(:last-child)::after {content: \"\\00b7\"; padding: 0 .5ex}\n",
       "</style>\n",
       "<ol class=list-inline><li>3</li><li>3</li><li>2</li><li>2</li><li>2</li><li>2</li><li>2</li><li>2</li><li>2</li><li>2</li><li>2</li><li>2</li><li>2</li><li>2</li><li>1</li><li>1</li><li>1</li><li>1</li><li>1</li><li>1</li><li>1</li><li>1</li><li>1</li><li>1</li><li>1</li><li>1</li><li>1</li><li>1</li><li>1</li><li>1</li><li>1</li><li>1</li><li>1</li><li>1</li><li>1</li><li>1</li><li>1</li><li>1</li><li>1</li><li>1</li><li>1</li><li>1</li><li>1</li><li>1</li><li>1</li><li>1</li><li>1</li><li>1</li><li>1</li><li>1</li><li>1</li><li>1</li><li>1</li><li>1</li><li>1</li><li>1</li><li>1</li><li>1</li><li>1</li><li>1</li><li>1</li><li>1</li><li>1</li><li>1</li><li>1</li><li>1</li><li>1</li><li>1</li><li>1</li><li>1</li><li>1</li><li>1</li><li>1</li><li>1</li><li>1</li><li>1</li><li>1</li><li>1</li><li>1</li><li>1</li><li>1</li><li>1</li><li>1</li><li>1</li></ol>\n",
       "</dd>\n",
       "\t<dt>$L2D8_S2</dt>\n",
       "\t\t<dd>281</dd>\n",
       "\t<dt>$`M36-EZM_S4`</dt>\n",
       "\t\t<dd><style>\n",
       ".list-inline {list-style: none; margin:0; padding: 0}\n",
       ".list-inline>li {display: inline-block}\n",
       ".list-inline>li:not(:last-child)::after {content: \"\\00b7\"; padding: 0 .5ex}\n",
       "</style>\n",
       "<ol class=list-inline><li>2</li><li>2</li><li>2</li><li>1</li><li>1</li><li>1</li><li>1</li><li>1</li></ol>\n",
       "</dd>\n",
       "\t<dt>$`M36-TIL2-1E7P3_S3`</dt>\n",
       "\t\t<dd><style>\n",
       ".list-inline {list-style: none; margin:0; padding: 0}\n",
       ".list-inline>li {display: inline-block}\n",
       ".list-inline>li:not(:last-child)::after {content: \"\\00b7\"; padding: 0 .5ex}\n",
       "</style>\n",
       "<ol class=list-inline><li>25</li><li>23</li><li>18</li><li>16</li><li>15</li><li>12</li><li>11</li><li>10</li><li>10</li><li>10</li><li>8</li><li>7</li><li>7</li><li>6</li><li>6</li><li>6</li><li>5</li><li>5</li><li>4</li><li>4</li><li>4</li><li>4</li><li>4</li><li>3</li><li>3</li><li>3</li><li>3</li><li>3</li><li>3</li><li>3</li><li>3</li><li>2</li><li>2</li><li>2</li><li>2</li><li>2</li><li>2</li><li>2</li><li>2</li><li>2</li><li>2</li><li>2</li><li>2</li><li>2</li><li>2</li><li>2</li><li>2</li><li>2</li><li>1</li><li>1</li><li>1</li><li>1</li><li>1</li><li>1</li><li>1</li><li>1</li><li>1</li><li>1</li><li>1</li><li>1</li><li>1</li><li>1</li><li>1</li><li>1</li><li>1</li><li>1</li><li>1</li><li>1</li><li>1</li><li>1</li></ol>\n",
       "</dd>\n",
       "\t<dt>$`OV7-TIL2_S5`</dt>\n",
       "\t\t<dd><style>\n",
       ".list-inline {list-style: none; margin:0; padding: 0}\n",
       ".list-inline>li {display: inline-block}\n",
       ".list-inline>li:not(:last-child)::after {content: \"\\00b7\"; padding: 0 .5ex}\n",
       "</style>\n",
       "<ol class=list-inline><li>177</li><li>58</li><li>12</li><li>11</li><li>8</li><li>8</li><li>8</li><li>4</li><li>4</li><li>4</li><li>4</li><li>3</li><li>2</li><li>2</li><li>2</li><li>1</li><li>1</li><li>1</li><li>1</li><li>1</li><li>1</li><li>1</li><li>1</li><li>1</li><li>1</li><li>1</li><li>1</li><li>1</li><li>1</li><li>1</li><li>1</li><li>1</li></ol>\n",
       "</dd>\n",
       "\t<dt>$`SE14-2005_S7`</dt>\n",
       "\t\t<dd><style>\n",
       ".list-inline {list-style: none; margin:0; padding: 0}\n",
       ".list-inline>li {display: inline-block}\n",
       ".list-inline>li:not(:last-child)::after {content: \"\\00b7\"; padding: 0 .5ex}\n",
       "</style>\n",
       "<ol class=list-inline><li>331</li><li>3</li><li>1</li></ol>\n",
       "</dd>\n",
       "\t<dt>$`SE14-2033_S8`</dt>\n",
       "\t\t<dd>264</dd>\n",
       "\t<dt>$`SE14-2034_S9`</dt>\n",
       "\t\t<dd>471</dd>\n",
       "\t<dt>$`SE14-2035_S10`</dt>\n",
       "\t\t<dd>460</dd>\n",
       "\t<dt>$`STIM1-CY3_S6`</dt>\n",
       "\t\t<dd><style>\n",
       ".list-inline {list-style: none; margin:0; padding: 0}\n",
       ".list-inline>li {display: inline-block}\n",
       ".list-inline>li:not(:last-child)::after {content: \"\\00b7\"; padding: 0 .5ex}\n",
       "</style>\n",
       "<ol class=list-inline><li>124</li><li>76</li><li>48</li><li>34</li><li>25</li><li>11</li><li>10</li><li>9</li><li>9</li><li>8</li><li>4</li><li>3</li><li>3</li><li>2</li><li>2</li><li>2</li><li>2</li><li>2</li><li>2</li><li>1</li><li>1</li><li>1</li><li>1</li><li>1</li><li>1</li><li>1</li><li>1</li><li>1</li></ol>\n",
       "</dd>\n",
       "</dl>\n"
      ],
      "text/latex": [
       "\\begin{description}\n",
       "\\item[\\$A037\\_S1] \\begin{enumerate*}\n",
       "\\item 3\n",
       "\\item 3\n",
       "\\item 2\n",
       "\\item 2\n",
       "\\item 2\n",
       "\\item 2\n",
       "\\item 2\n",
       "\\item 2\n",
       "\\item 2\n",
       "\\item 2\n",
       "\\item 2\n",
       "\\item 2\n",
       "\\item 2\n",
       "\\item 2\n",
       "\\item 1\n",
       "\\item 1\n",
       "\\item 1\n",
       "\\item 1\n",
       "\\item 1\n",
       "\\item 1\n",
       "\\item 1\n",
       "\\item 1\n",
       "\\item 1\n",
       "\\item 1\n",
       "\\item 1\n",
       "\\item 1\n",
       "\\item 1\n",
       "\\item 1\n",
       "\\item 1\n",
       "\\item 1\n",
       "\\item 1\n",
       "\\item 1\n",
       "\\item 1\n",
       "\\item 1\n",
       "\\item 1\n",
       "\\item 1\n",
       "\\item 1\n",
       "\\item 1\n",
       "\\item 1\n",
       "\\item 1\n",
       "\\item 1\n",
       "\\item 1\n",
       "\\item 1\n",
       "\\item 1\n",
       "\\item 1\n",
       "\\item 1\n",
       "\\item 1\n",
       "\\item 1\n",
       "\\item 1\n",
       "\\item 1\n",
       "\\item 1\n",
       "\\item 1\n",
       "\\item 1\n",
       "\\item 1\n",
       "\\item 1\n",
       "\\item 1\n",
       "\\item 1\n",
       "\\item 1\n",
       "\\item 1\n",
       "\\item 1\n",
       "\\item 1\n",
       "\\item 1\n",
       "\\item 1\n",
       "\\item 1\n",
       "\\item 1\n",
       "\\item 1\n",
       "\\item 1\n",
       "\\item 1\n",
       "\\item 1\n",
       "\\item 1\n",
       "\\item 1\n",
       "\\item 1\n",
       "\\item 1\n",
       "\\item 1\n",
       "\\item 1\n",
       "\\item 1\n",
       "\\item 1\n",
       "\\item 1\n",
       "\\item 1\n",
       "\\item 1\n",
       "\\item 1\n",
       "\\item 1\n",
       "\\item 1\n",
       "\\item 1\n",
       "\\end{enumerate*}\n",
       "\n",
       "\\item[\\$L2D8\\_S2] 281\n",
       "\\item[\\$`M36-EZM\\_S4`] \\begin{enumerate*}\n",
       "\\item 2\n",
       "\\item 2\n",
       "\\item 2\n",
       "\\item 1\n",
       "\\item 1\n",
       "\\item 1\n",
       "\\item 1\n",
       "\\item 1\n",
       "\\end{enumerate*}\n",
       "\n",
       "\\item[\\$`M36-TIL2-1E7P3\\_S3`] \\begin{enumerate*}\n",
       "\\item 25\n",
       "\\item 23\n",
       "\\item 18\n",
       "\\item 16\n",
       "\\item 15\n",
       "\\item 12\n",
       "\\item 11\n",
       "\\item 10\n",
       "\\item 10\n",
       "\\item 10\n",
       "\\item 8\n",
       "\\item 7\n",
       "\\item 7\n",
       "\\item 6\n",
       "\\item 6\n",
       "\\item 6\n",
       "\\item 5\n",
       "\\item 5\n",
       "\\item 4\n",
       "\\item 4\n",
       "\\item 4\n",
       "\\item 4\n",
       "\\item 4\n",
       "\\item 3\n",
       "\\item 3\n",
       "\\item 3\n",
       "\\item 3\n",
       "\\item 3\n",
       "\\item 3\n",
       "\\item 3\n",
       "\\item 3\n",
       "\\item 2\n",
       "\\item 2\n",
       "\\item 2\n",
       "\\item 2\n",
       "\\item 2\n",
       "\\item 2\n",
       "\\item 2\n",
       "\\item 2\n",
       "\\item 2\n",
       "\\item 2\n",
       "\\item 2\n",
       "\\item 2\n",
       "\\item 2\n",
       "\\item 2\n",
       "\\item 2\n",
       "\\item 2\n",
       "\\item 2\n",
       "\\item 1\n",
       "\\item 1\n",
       "\\item 1\n",
       "\\item 1\n",
       "\\item 1\n",
       "\\item 1\n",
       "\\item 1\n",
       "\\item 1\n",
       "\\item 1\n",
       "\\item 1\n",
       "\\item 1\n",
       "\\item 1\n",
       "\\item 1\n",
       "\\item 1\n",
       "\\item 1\n",
       "\\item 1\n",
       "\\item 1\n",
       "\\item 1\n",
       "\\item 1\n",
       "\\item 1\n",
       "\\item 1\n",
       "\\item 1\n",
       "\\end{enumerate*}\n",
       "\n",
       "\\item[\\$`OV7-TIL2\\_S5`] \\begin{enumerate*}\n",
       "\\item 177\n",
       "\\item 58\n",
       "\\item 12\n",
       "\\item 11\n",
       "\\item 8\n",
       "\\item 8\n",
       "\\item 8\n",
       "\\item 4\n",
       "\\item 4\n",
       "\\item 4\n",
       "\\item 4\n",
       "\\item 3\n",
       "\\item 2\n",
       "\\item 2\n",
       "\\item 2\n",
       "\\item 1\n",
       "\\item 1\n",
       "\\item 1\n",
       "\\item 1\n",
       "\\item 1\n",
       "\\item 1\n",
       "\\item 1\n",
       "\\item 1\n",
       "\\item 1\n",
       "\\item 1\n",
       "\\item 1\n",
       "\\item 1\n",
       "\\item 1\n",
       "\\item 1\n",
       "\\item 1\n",
       "\\item 1\n",
       "\\item 1\n",
       "\\end{enumerate*}\n",
       "\n",
       "\\item[\\$`SE14-2005\\_S7`] \\begin{enumerate*}\n",
       "\\item 331\n",
       "\\item 3\n",
       "\\item 1\n",
       "\\end{enumerate*}\n",
       "\n",
       "\\item[\\$`SE14-2033\\_S8`] 264\n",
       "\\item[\\$`SE14-2034\\_S9`] 471\n",
       "\\item[\\$`SE14-2035\\_S10`] 460\n",
       "\\item[\\$`STIM1-CY3\\_S6`] \\begin{enumerate*}\n",
       "\\item 124\n",
       "\\item 76\n",
       "\\item 48\n",
       "\\item 34\n",
       "\\item 25\n",
       "\\item 11\n",
       "\\item 10\n",
       "\\item 9\n",
       "\\item 9\n",
       "\\item 8\n",
       "\\item 4\n",
       "\\item 3\n",
       "\\item 3\n",
       "\\item 2\n",
       "\\item 2\n",
       "\\item 2\n",
       "\\item 2\n",
       "\\item 2\n",
       "\\item 2\n",
       "\\item 1\n",
       "\\item 1\n",
       "\\item 1\n",
       "\\item 1\n",
       "\\item 1\n",
       "\\item 1\n",
       "\\item 1\n",
       "\\item 1\n",
       "\\item 1\n",
       "\\end{enumerate*}\n",
       "\n",
       "\\end{description}\n"
      ],
      "text/markdown": [
       "$A037_S1\n",
       ":   1. 3\n",
       "2. 3\n",
       "3. 2\n",
       "4. 2\n",
       "5. 2\n",
       "6. 2\n",
       "7. 2\n",
       "8. 2\n",
       "9. 2\n",
       "10. 2\n",
       "11. 2\n",
       "12. 2\n",
       "13. 2\n",
       "14. 2\n",
       "15. 1\n",
       "16. 1\n",
       "17. 1\n",
       "18. 1\n",
       "19. 1\n",
       "20. 1\n",
       "21. 1\n",
       "22. 1\n",
       "23. 1\n",
       "24. 1\n",
       "25. 1\n",
       "26. 1\n",
       "27. 1\n",
       "28. 1\n",
       "29. 1\n",
       "30. 1\n",
       "31. 1\n",
       "32. 1\n",
       "33. 1\n",
       "34. 1\n",
       "35. 1\n",
       "36. 1\n",
       "37. 1\n",
       "38. 1\n",
       "39. 1\n",
       "40. 1\n",
       "41. 1\n",
       "42. 1\n",
       "43. 1\n",
       "44. 1\n",
       "45. 1\n",
       "46. 1\n",
       "47. 1\n",
       "48. 1\n",
       "49. 1\n",
       "50. 1\n",
       "51. 1\n",
       "52. 1\n",
       "53. 1\n",
       "54. 1\n",
       "55. 1\n",
       "56. 1\n",
       "57. 1\n",
       "58. 1\n",
       "59. 1\n",
       "60. 1\n",
       "61. 1\n",
       "62. 1\n",
       "63. 1\n",
       "64. 1\n",
       "65. 1\n",
       "66. 1\n",
       "67. 1\n",
       "68. 1\n",
       "69. 1\n",
       "70. 1\n",
       "71. 1\n",
       "72. 1\n",
       "73. 1\n",
       "74. 1\n",
       "75. 1\n",
       "76. 1\n",
       "77. 1\n",
       "78. 1\n",
       "79. 1\n",
       "80. 1\n",
       "81. 1\n",
       "82. 1\n",
       "83. 1\n",
       "84. 1\n",
       "\n",
       "\n",
       "\n",
       "$L2D8_S2\n",
       ":   281\n",
       "$`M36-EZM_S4`\n",
       ":   1. 2\n",
       "2. 2\n",
       "3. 2\n",
       "4. 1\n",
       "5. 1\n",
       "6. 1\n",
       "7. 1\n",
       "8. 1\n",
       "\n",
       "\n",
       "\n",
       "$`M36-TIL2-1E7P3_S3`\n",
       ":   1. 25\n",
       "2. 23\n",
       "3. 18\n",
       "4. 16\n",
       "5. 15\n",
       "6. 12\n",
       "7. 11\n",
       "8. 10\n",
       "9. 10\n",
       "10. 10\n",
       "11. 8\n",
       "12. 7\n",
       "13. 7\n",
       "14. 6\n",
       "15. 6\n",
       "16. 6\n",
       "17. 5\n",
       "18. 5\n",
       "19. 4\n",
       "20. 4\n",
       "21. 4\n",
       "22. 4\n",
       "23. 4\n",
       "24. 3\n",
       "25. 3\n",
       "26. 3\n",
       "27. 3\n",
       "28. 3\n",
       "29. 3\n",
       "30. 3\n",
       "31. 3\n",
       "32. 2\n",
       "33. 2\n",
       "34. 2\n",
       "35. 2\n",
       "36. 2\n",
       "37. 2\n",
       "38. 2\n",
       "39. 2\n",
       "40. 2\n",
       "41. 2\n",
       "42. 2\n",
       "43. 2\n",
       "44. 2\n",
       "45. 2\n",
       "46. 2\n",
       "47. 2\n",
       "48. 2\n",
       "49. 1\n",
       "50. 1\n",
       "51. 1\n",
       "52. 1\n",
       "53. 1\n",
       "54. 1\n",
       "55. 1\n",
       "56. 1\n",
       "57. 1\n",
       "58. 1\n",
       "59. 1\n",
       "60. 1\n",
       "61. 1\n",
       "62. 1\n",
       "63. 1\n",
       "64. 1\n",
       "65. 1\n",
       "66. 1\n",
       "67. 1\n",
       "68. 1\n",
       "69. 1\n",
       "70. 1\n",
       "\n",
       "\n",
       "\n",
       "$`OV7-TIL2_S5`\n",
       ":   1. 177\n",
       "2. 58\n",
       "3. 12\n",
       "4. 11\n",
       "5. 8\n",
       "6. 8\n",
       "7. 8\n",
       "8. 4\n",
       "9. 4\n",
       "10. 4\n",
       "11. 4\n",
       "12. 3\n",
       "13. 2\n",
       "14. 2\n",
       "15. 2\n",
       "16. 1\n",
       "17. 1\n",
       "18. 1\n",
       "19. 1\n",
       "20. 1\n",
       "21. 1\n",
       "22. 1\n",
       "23. 1\n",
       "24. 1\n",
       "25. 1\n",
       "26. 1\n",
       "27. 1\n",
       "28. 1\n",
       "29. 1\n",
       "30. 1\n",
       "31. 1\n",
       "32. 1\n",
       "\n",
       "\n",
       "\n",
       "$`SE14-2005_S7`\n",
       ":   1. 331\n",
       "2. 3\n",
       "3. 1\n",
       "\n",
       "\n",
       "\n",
       "$`SE14-2033_S8`\n",
       ":   264\n",
       "$`SE14-2034_S9`\n",
       ":   471\n",
       "$`SE14-2035_S10`\n",
       ":   460\n",
       "$`STIM1-CY3_S6`\n",
       ":   1. 124\n",
       "2. 76\n",
       "3. 48\n",
       "4. 34\n",
       "5. 25\n",
       "6. 11\n",
       "7. 10\n",
       "8. 9\n",
       "9. 9\n",
       "10. 8\n",
       "11. 4\n",
       "12. 3\n",
       "13. 3\n",
       "14. 2\n",
       "15. 2\n",
       "16. 2\n",
       "17. 2\n",
       "18. 2\n",
       "19. 2\n",
       "20. 1\n",
       "21. 1\n",
       "22. 1\n",
       "23. 1\n",
       "24. 1\n",
       "25. 1\n",
       "26. 1\n",
       "27. 1\n",
       "28. 1\n",
       "\n",
       "\n",
       "\n",
       "\n",
       "\n"
      ],
      "text/plain": [
       "$A037_S1\n",
       " [1] 3 3 2 2 2 2 2 2 2 2 2 2 2 2 1 1 1 1 1 1 1 1 1 1 1 1 1 1 1 1 1 1 1 1 1 1 1 1\n",
       "[39] 1 1 1 1 1 1 1 1 1 1 1 1 1 1 1 1 1 1 1 1 1 1 1 1 1 1 1 1 1 1 1 1 1 1 1 1 1 1\n",
       "[77] 1 1 1 1 1 1 1 1\n",
       "\n",
       "$L2D8_S2\n",
       "[1] 281\n",
       "\n",
       "$`M36-EZM_S4`\n",
       "[1] 2 2 2 1 1 1 1 1\n",
       "\n",
       "$`M36-TIL2-1E7P3_S3`\n",
       " [1] 25 23 18 16 15 12 11 10 10 10  8  7  7  6  6  6  5  5  4  4  4  4  4  3  3\n",
       "[26]  3  3  3  3  3  3  2  2  2  2  2  2  2  2  2  2  2  2  2  2  2  2  2  1  1\n",
       "[51]  1  1  1  1  1  1  1  1  1  1  1  1  1  1  1  1  1  1  1  1\n",
       "\n",
       "$`OV7-TIL2_S5`\n",
       " [1] 177  58  12  11   8   8   8   4   4   4   4   3   2   2   2   1   1   1   1\n",
       "[20]   1   1   1   1   1   1   1   1   1   1   1   1   1\n",
       "\n",
       "$`SE14-2005_S7`\n",
       "[1] 331   3   1\n",
       "\n",
       "$`SE14-2033_S8`\n",
       "[1] 264\n",
       "\n",
       "$`SE14-2034_S9`\n",
       "[1] 471\n",
       "\n",
       "$`SE14-2035_S10`\n",
       "[1] 460\n",
       "\n",
       "$`STIM1-CY3_S6`\n",
       " [1] 124  76  48  34  25  11  10   9   9   8   4   3   3   2   2   2   2   2   2\n",
       "[20]   1   1   1   1   1   1   1   1   1\n"
      ]
     },
     "metadata": {},
     "output_type": "display_data"
    }
   ],
   "source": [
    "cells"
   ]
  },
  {
   "cell_type": "code",
   "execution_count": 11,
   "metadata": {
    "vscode": {
     "languageId": "r"
    }
   },
   "outputs": [],
   "source": [
    "myimmunelist_cells <- cells "
   ]
  },
  {
   "cell_type": "code",
   "execution_count": 12,
   "metadata": {
    "vscode": {
     "languageId": "r"
    }
   },
   "outputs": [],
   "source": [
    "save(myimmunelist_cells, file = paste0(datapath,\"capTCRseq/myimmunelist_cells.RData\"))"
   ]
  },
  {
   "cell_type": "code",
   "execution_count": 13,
   "metadata": {
    "scrolled": true,
    "vscode": {
     "languageId": "r"
    }
   },
   "outputs": [
    {
     "name": "stderr",
     "output_type": "stream",
     "text": [
      "Warning message in BootstrapFun.abun(x = x, FunName, datatype, B):\n",
      "“The Bootstrap community has only one species. Estimation is not robust.”\n",
      "Warning message in BootstrapFun.abun(x = x, FunName, datatype, B):\n",
      "“The Bootstrap community has only one species. Estimation is not robust.”\n",
      "Warning message in BootstrapFun.abun(x = x, FunName, datatype, B):\n",
      "“The Bootstrap community has only one species. Estimation is not robust.”\n",
      "Warning message in BootstrapFun.abun(x = x, FunName, datatype, B):\n",
      "“The Bootstrap community has only one species. Estimation is not robust.”\n",
      "Warning message in max(x[-1] > 1):\n",
      "“no non-missing arguments to max; returning -Inf”\n",
      "Warning message in BootstrapFun.abun(x = x, FunName, datatype, B):\n",
      "“The Bootstrap community has only one species. Estimation is not robust.”\n",
      "Warning message in max(x[-1] > 1):\n",
      "“no non-missing arguments to max; returning -Inf”\n",
      "Warning message in BootstrapFun.abun(x = x, FunName, datatype, B):\n",
      "“The Bootstrap community has only one species. Estimation is not robust.”\n",
      "Warning message in max(x[-1] > 1):\n",
      "“no non-missing arguments to max; returning -Inf”\n",
      "Warning message in BootstrapFun.abun(x = x, FunName, datatype, B):\n",
      "“The Bootstrap community has only one species. Estimation is not robust.”\n",
      "Warning message in max(x[-1] > 1):\n",
      "“no non-missing arguments to max; returning -Inf”\n",
      "Warning message in BootstrapFun.abun(x = x, FunName, datatype, B):\n",
      "“The Bootstrap community has only one species. Estimation is not robust.”\n"
     ]
    }
   ],
   "source": [
    "Divstats.fx(myimmunelist_cells, \"TRB\", \"Cells\" , paste0(datapath, \"capTCRseq/\"))"
   ]
  },
  {
   "cell_type": "code",
   "execution_count": null,
   "metadata": {
    "vscode": {
     "languageId": "r"
    }
   },
   "outputs": [],
   "source": []
  },
  {
   "cell_type": "code",
   "execution_count": null,
   "metadata": {
    "vscode": {
     "languageId": "r"
    }
   },
   "outputs": [],
   "source": []
  },
  {
   "cell_type": "code",
   "execution_count": null,
   "metadata": {
    "vscode": {
     "languageId": "r"
    }
   },
   "outputs": [],
   "source": []
  },
  {
   "cell_type": "code",
   "execution_count": null,
   "metadata": {
    "vscode": {
     "languageId": "r"
    }
   },
   "outputs": [],
   "source": []
  },
  {
   "cell_type": "code",
   "execution_count": null,
   "metadata": {
    "vscode": {
     "languageId": "r"
    }
   },
   "outputs": [],
   "source": []
  }
 ],
 "metadata": {
  "kernelspec": {
   "display_name": "R 4.0",
   "language": "R",
   "name": "ir40"
  },
  "language_info": {
   "codemirror_mode": "r",
   "file_extension": ".r",
   "mimetype": "text/x-r-source",
   "name": "R",
   "pygments_lexer": "r",
   "version": "4.0.3"
  },
  "toc": {
   "base_numbering": 1,
   "nav_menu": {},
   "number_sections": false,
   "sideBar": true,
   "skip_h1_title": false,
   "title_cell": "Table of Contents",
   "title_sidebar": "Contents",
   "toc_cell": true,
   "toc_position": {
    "height": "calc(100% - 180px)",
    "left": "10px",
    "top": "150px",
    "width": "206.5px"
   },
   "toc_section_display": true,
   "toc_window_display": true
  }
 },
 "nbformat": 4,
 "nbformat_minor": 2
}
