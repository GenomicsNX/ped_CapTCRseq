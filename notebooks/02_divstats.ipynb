{
 "cells": [
  {
   "cell_type": "code",
   "execution_count": null,
   "metadata": {
    "vscode": {
     "languageId": "r"
    }
   },
   "outputs": [],
   "source": [
    "Sys.setlocale(category = \"LC_ALL\", locale = \"en_US.UTF-8\")"
   ]
  },
  {
   "attachments": {},
   "cell_type": "markdown",
   "metadata": {},
   "source": [
    "# Dependencies"
   ]
  },
  {
   "attachments": {},
   "cell_type": "markdown",
   "metadata": {},
   "source": [
    "# Functions"
   ]
  },
  {
   "cell_type": "code",
   "execution_count": 35,
   "metadata": {
    "vscode": {
     "languageId": "r"
    }
   },
   "outputs": [],
   "source": [
    "source(\"/Users/anabbi/git/ped_CapTCRseq/R/Immune_Diversity.R\")"
   ]
  },
  {
   "attachments": {},
   "cell_type": "markdown",
   "metadata": {},
   "source": [
    "# Paths"
   ]
  },
  {
   "cell_type": "code",
   "execution_count": null,
   "metadata": {
    "vscode": {
     "languageId": "r"
    }
   },
   "outputs": [],
   "source": [
    "datapath <- \"/Users/anabbi/OneDrive - UHN/Documents/INTERCEPT/Data/\"\n",
    "plotpath <- \"/Users/anabbi/OneDrive - UHN/Documents/INTERCEPT/Plots/\"\n",
    "manifestpath <- \"/Users/anabbi/OneDrive - UHN/Documents/INTERCEPT/Manifests/\"\n",
    "\n",
    "gitpath <- \"/Users/anabbi/git/ped_CapTCRseq/\""
   ]
  },
  {
   "attachments": {},
   "cell_type": "markdown",
   "metadata": {},
   "source": [
    "# Main"
   ]
  },
  {
   "cell_type": "code",
   "execution_count": null,
   "metadata": {
    "vscode": {
     "languageId": "r"
    }
   },
   "outputs": [],
   "source": [
    "h4hpath <- \"/Users/anabbi/Desktop/H4H/INTERCEPT/NextSeq/\""
   ]
  },
  {
   "attachments": {},
   "cell_type": "markdown",
   "metadata": {},
   "source": [
    "## TRB"
   ]
  },
  {
   "cell_type": "code",
   "execution_count": null,
   "metadata": {
    "vscode": {
     "languageId": "r"
    }
   },
   "outputs": [],
   "source": [
    "file_list <- list.files(h4hpath, pattern = paste0(\"CLONES_\", \"TRB\"), recursive = T)"
   ]
  },
  {
   "cell_type": "code",
   "execution_count": null,
   "metadata": {
    "vscode": {
     "languageId": "r"
    }
   },
   "outputs": [],
   "source": [
    "tail(file_list)"
   ]
  },
  {
   "cell_type": "code",
   "execution_count": null,
   "metadata": {
    "vscode": {
     "languageId": "r"
    }
   },
   "outputs": [],
   "source": [
    "# remove downsample files\n",
    "file_list <- file_list[!grepl(\"_2000000\", file_list)]"
   ]
  },
  {
   "attachments": {},
   "cell_type": "markdown",
   "metadata": {},
   "source": [
    "Some files are duplicated. Make a table to identify and pick the larger clone file"
   ]
  },
  {
   "cell_type": "code",
   "execution_count": null,
   "metadata": {
    "vscode": {
     "languageId": "r"
    }
   },
   "outputs": [],
   "source": [
    "file_df <- as.data.frame(file_list)"
   ]
  },
  {
   "cell_type": "code",
   "execution_count": null,
   "metadata": {
    "vscode": {
     "languageId": "r"
    }
   },
   "outputs": [],
   "source": [
    "file_df$samplename <- gsub(\".*CLONES_TRB\", \"\", file_df$file_list)\n",
    "file_df$samplename <- gsub(\".txt\", \"\", file_df$samplename)"
   ]
  },
  {
   "cell_type": "code",
   "execution_count": null,
   "metadata": {
    "vscode": {
     "languageId": "r"
    }
   },
   "outputs": [],
   "source": [
    "file_df$size <- NA\n",
    "for(i in 1:nrow(file_df)){\n",
    "    file_df$size[i] <- file.size(paste0(h4hpath,file_df$file_list[i]))\n",
    "}"
   ]
  },
  {
   "cell_type": "code",
   "execution_count": null,
   "metadata": {
    "vscode": {
     "languageId": "r"
    }
   },
   "outputs": [],
   "source": [
    "head(file_df)"
   ]
  },
  {
   "cell_type": "code",
   "execution_count": null,
   "metadata": {
    "vscode": {
     "languageId": "r"
    }
   },
   "outputs": [],
   "source": [
    "file_df[ grepl(\"383-03\", file_df$file_list),]"
   ]
  },
  {
   "cell_type": "code",
   "execution_count": null,
   "metadata": {
    "vscode": {
     "languageId": "r"
    }
   },
   "outputs": [],
   "source": [
    "file_df <- file_df[ !grepl(\"immunarch\", file_df$file_list),]"
   ]
  },
  {
   "cell_type": "code",
   "execution_count": null,
   "metadata": {
    "vscode": {
     "languageId": "r"
    }
   },
   "outputs": [],
   "source": [
    "#if duplicated keep the bigger file corresponding to deeper seqeuncing.\n",
    "file_df_dedup <- file_df[0,]\n",
    "\n",
    "for(s in unique(file_df$samplename)){\n",
    "    tmp <- file_df[ file_df$samplename == s,]\n",
    "    if(nrow(tmp) ==1 ){\n",
    "        file_df_dedup <- rbind(file_df_dedup, tmp)\n",
    "    }\n",
    "    if(nrow(tmp) > 1 ){\n",
    "        file_df_dedup <- rbind(file_df_dedup, tmp[ tmp$size == max(tmp$size),])\n",
    "    }    \n",
    "}"
   ]
  },
  {
   "cell_type": "code",
   "execution_count": null,
   "metadata": {
    "vscode": {
     "languageId": "r"
    }
   },
   "outputs": [],
   "source": [
    "file_df_dedup[ grepl(\"343-05\", file_df_dedup$file_list),]"
   ]
  },
  {
   "cell_type": "code",
   "execution_count": null,
   "metadata": {
    "vscode": {
     "languageId": "r"
    }
   },
   "outputs": [],
   "source": [
    "dim(file_df)\n",
    "dim(file_df_dedup)"
   ]
  },
  {
   "cell_type": "code",
   "execution_count": null,
   "metadata": {
    "vscode": {
     "languageId": "r"
    }
   },
   "outputs": [],
   "source": [
    "file_df_dedup_trb <- file_df_dedup\n",
    "save(file_df_dedup_trb, file = paste0(datapath,\"capTCRseq/TRBfiles.RData\"))"
   ]
  },
  {
   "cell_type": "code",
   "execution_count": null,
   "metadata": {
    "vscode": {
     "languageId": "r"
    }
   },
   "outputs": [],
   "source": [
    "batchTRB <- immunelistfx(file_df_dedup$file_list, h4hpath, \"TRB\")"
   ]
  },
  {
   "cell_type": "code",
   "execution_count": null,
   "metadata": {
    "vscode": {
     "languageId": "r"
    }
   },
   "outputs": [],
   "source": [
    "names(batchTRB) <- gsub(\".*CLONES_TRB\", \"\", names(batchTRB))"
   ]
  },
  {
   "cell_type": "code",
   "execution_count": null,
   "metadata": {
    "vscode": {
     "languageId": "r"
    }
   },
   "outputs": [],
   "source": [
    "head(names(batchTRB))"
   ]
  },
  {
   "cell_type": "code",
   "execution_count": null,
   "metadata": {
    "vscode": {
     "languageId": "r"
    }
   },
   "outputs": [],
   "source": [
    "TRBlist <- batchTRB "
   ]
  },
  {
   "cell_type": "code",
   "execution_count": null,
   "metadata": {
    "vscode": {
     "languageId": "r"
    }
   },
   "outputs": [],
   "source": [
    "save(TRBlist, file = paste0(datapath,\"capTCRseq/TRBlist.RData\"))"
   ]
  },
  {
   "attachments": {},
   "cell_type": "markdown",
   "metadata": {},
   "source": [
    "### divstats"
   ]
  },
  {
   "cell_type": "code",
   "execution_count": 33,
   "metadata": {
    "vscode": {
     "languageId": "r"
    }
   },
   "outputs": [],
   "source": [
    "save(TRBlist, file = \"/Users/anabbi/Desktop/H4H/INTERCEPT/analysis/metadata/TRBlist.RData\")\n",
    "save(file_df_dedup_trb, file = \"/Users/anabbi/Desktop/H4H/INTERCEPT/analysis/metadata/TRBfiles.RData\")"
   ]
  },
  {
   "attachments": {},
   "cell_type": "markdown",
   "metadata": {},
   "source": [
    "### Cleanup divstats"
   ]
  },
  {
   "cell_type": "code",
   "execution_count": null,
   "metadata": {
    "vscode": {
     "languageId": "r"
    }
   },
   "outputs": [],
   "source": [
    "divstats <- read.csv(\"/Users/anabbi/Desktop/H4H/INTERCEPT/analysis/metadata/divstats_TRBCHP.csv\"), header = T, stringsAsFactors = F, row.names = 1)"
   ]
  },
  {
   "cell_type": "code",
   "execution_count": null,
   "metadata": {
    "vscode": {
     "languageId": "r"
    }
   },
   "outputs": [],
   "source": [
    "head(rownames(divstats))"
   ]
  },
  {
   "cell_type": "code",
   "execution_count": null,
   "metadata": {
    "scrolled": true,
    "vscode": {
     "languageId": "r"
    }
   },
   "outputs": [],
   "source": [
    "head(divstats)"
   ]
  },
  {
   "cell_type": "code",
   "execution_count": null,
   "metadata": {
    "vscode": {
     "languageId": "r"
    }
   },
   "outputs": [],
   "source": [
    "#add 9 samples with nonproductive cdr3\n",
    "addsamples <- c('CHP_347-01-cfDNA','CHP_366-05_cfDNA','CHP_377-01-cfDNA',\n",
    "                'CHP_381-05_cfDNA','CHP_391-02_cfDNA','CHP_392-01_cfDNA',\n",
    "                'CHP_398-01_cfDNA','CHP_401-03_cfDNA','CHP_419-FFPE-DNA_S2')"
   ]
  },
  {
   "cell_type": "code",
   "execution_count": null,
   "metadata": {
    "vscode": {
     "languageId": "r"
    }
   },
   "outputs": [],
   "source": [
    "divstats[ nrow(divstats) + 9 , ] <- NA"
   ]
  },
  {
   "cell_type": "code",
   "execution_count": null,
   "metadata": {
    "vscode": {
     "languageId": "r"
    }
   },
   "outputs": [],
   "source": [
    "rownames(divstats)[is.na(divstats$TRB)] <- addsamples"
   ]
  },
  {
   "cell_type": "code",
   "execution_count": null,
   "metadata": {
    "vscode": {
     "languageId": "r"
    }
   },
   "outputs": [],
   "source": [
    "#example sample_id CHP_xxx_xx\n",
    "divstats$sample_id <- rownames(divstats)\n",
    "\n",
    "#example basename CHP_xxx-xx-PBMC-DNA\n",
    "divstats$basename <- rownames(divstats)"
   ]
  },
  {
   "cell_type": "code",
   "execution_count": null,
   "metadata": {
    "vscode": {
     "languageId": "r"
    }
   },
   "outputs": [],
   "source": [
    "# add filenames to divstats\n",
    "divstats$file <- myfilenames$file_list[ match(divstats$sample_id, myfilenames$samplename)]"
   ]
  },
  {
   "attachments": {},
   "cell_type": "markdown",
   "metadata": {},
   "source": [
    "Separate samples"
   ]
  },
  {
   "cell_type": "code",
   "execution_count": null,
   "metadata": {
    "vscode": {
     "languageId": "r"
    }
   },
   "outputs": [],
   "source": [
    "#divstats$Sample <- NULL"
   ]
  },
  {
   "cell_type": "code",
   "execution_count": null,
   "metadata": {
    "vscode": {
     "languageId": "r"
    }
   },
   "outputs": [],
   "source": [
    "divstats$Sample <- NA\n",
    "divstats$Sample[grepl(\"PBMC\", rownames(divstats))] <- \"PBMC\"\n",
    "divstats$Sample[grepl(\"cfDNA\", rownames(divstats))] <- \"cfDNA\"\n",
    "divstats$Sample[grepl(\"FFPE\", rownames(divstats))] <- \"Tumor\""
   ]
  },
  {
   "attachments": {},
   "cell_type": "markdown",
   "metadata": {},
   "source": [
    "Separate LFS and non-LFS"
   ]
  },
  {
   "cell_type": "code",
   "execution_count": null,
   "metadata": {
    "vscode": {
     "languageId": "r"
    }
   },
   "outputs": [],
   "source": [
    "divstats$Group <- NA\n",
    "divstats$Group[grepl(\"LFS\", rownames(divstats))] <- \"LFS\"\n",
    "divstats$Group[grepl(\"CHP\", rownames(divstats))] <- \"CHP\""
   ]
  },
  {
   "cell_type": "code",
   "execution_count": null,
   "metadata": {
    "vscode": {
     "languageId": "r"
    }
   },
   "outputs": [],
   "source": [
    "#table(divstats$Group, useNA = \"always\")"
   ]
  },
  {
   "cell_type": "code",
   "execution_count": null,
   "metadata": {
    "vscode": {
     "languageId": "r"
    }
   },
   "outputs": [],
   "source": [
    "#tapply(divstats$TRB, divstats$sampletype, summary)"
   ]
  },
  {
   "cell_type": "code",
   "execution_count": null,
   "metadata": {
    "vscode": {
     "languageId": "r"
    }
   },
   "outputs": [],
   "source": [
    "summary(divstats$Reads)"
   ]
  },
  {
   "attachments": {},
   "cell_type": "markdown",
   "metadata": {},
   "source": [
    "Get patient ids"
   ]
  },
  {
   "cell_type": "code",
   "execution_count": null,
   "metadata": {
    "vscode": {
     "languageId": "r"
    }
   },
   "outputs": [],
   "source": [
    "divstats$Patient <- NA\n",
    "# CHP\n",
    "divstats$Patient[divstats$Group == \"CHP\"] <- substr(rownames(divstats)[divstats$Group == \"CHP\"],1,7)\n",
    "# Normal samples have either YO or MO\n",
    "divstats$Patient[grepl(\"YO\", rownames(divstats))] <- gsub(\"_PBMC_DNA\", \"\", rownames(divstats)[grepl(\"YO\", rownames(divstats))])\n",
    "divstats$Patient[grepl(\"MO\", rownames(divstats))] <- gsub(\"_PBMC_DNA\", \"\", rownames(divstats)[grepl(\"MO\", rownames(divstats))])\n",
    "# LFS\n",
    "divstats$Patient[divstats$Group == \"LFS\"] <- substr(rownames(divstats)[divstats$Group == \"LFS\"],1,12)"
   ]
  },
  {
   "attachments": {},
   "cell_type": "markdown",
   "metadata": {},
   "source": [
    "Get cycles. For LFS, Normals and Tumors recode to 00"
   ]
  },
  {
   "cell_type": "code",
   "execution_count": null,
   "metadata": {
    "vscode": {
     "languageId": "r"
    }
   },
   "outputs": [],
   "source": [
    "divstats$Cycle <- NA\n",
    "divstats$Cycle[divstats$Group == \"CHP\"] <- substr(rownames(divstats)[divstats$Group == \"CHP\"],9,10)\n",
    "divstats$Cycle[grepl(\"YO\", rownames(divstats))] <- \"00\"\n",
    "divstats$Cycle[grepl(\"MO\", rownames(divstats))] <- \"00\"\n",
    "divstats$Cycle[ divstats$Sample == \"Tumor\"] <- \"00\"\n",
    "divstats$Cycle[ divstats$Group == \"LFS\"] <- \"00\""
   ]
  },
  {
   "cell_type": "code",
   "execution_count": null,
   "metadata": {
    "vscode": {
     "languageId": "r"
    }
   },
   "outputs": [],
   "source": [
    "divstats$sample_id <- NA\n",
    "\n",
    "# bind patient and cycle for PBMC and cfdna to generate sample id\n",
    "divstats$sample_id[ divstats$Sample != \"Tumor\"] <- paste(divstats$Patient[ divstats$Sample != \"Tumor\"], \"_\", \n",
    "                                                          divstats$Cycle[ divstats$Sample != \"Tumor\"], sep = \"\")\n",
    "\n",
    "# For tumor samples start with rownames because some of them are two biopsies from the same tumor\n",
    "divstats$sample_id[ divstats$Sample == \"Tumor\"] <- gsub(\"-FFPE-DN.*\", \"\", rownames(divstats)[ divstats$Sample == \"Tumor\"])"
   ]
  },
  {
   "cell_type": "code",
   "execution_count": null,
   "metadata": {
    "vscode": {
     "languageId": "r"
    }
   },
   "outputs": [],
   "source": [
    "divstats$sample_id <- gsub(\"-\", \"_\", divstats$sample_id)"
   ]
  },
  {
   "cell_type": "code",
   "execution_count": null,
   "metadata": {
    "vscode": {
     "languageId": "r"
    }
   },
   "outputs": [],
   "source": [
    "divstats$Patient <- NULL\n",
    "divstats$Cycle <- NULL\n",
    "divstats$Sample <- NULL\n",
    "divstats$Group <- NULL"
   ]
  },
  {
   "cell_type": "code",
   "execution_count": null,
   "metadata": {
    "vscode": {
     "languageId": "r"
    }
   },
   "outputs": [],
   "source": [
    "tail(divstats,10)"
   ]
  },
  {
   "cell_type": "code",
   "execution_count": null,
   "metadata": {
    "vscode": {
     "languageId": "r"
    }
   },
   "outputs": [],
   "source": [
    "write.csv(divstats,\n",
    "          paste0(datapath, \"capTCRseq/divstats_TRBCHP.csv\"), row.names = TRUE)"
   ]
  },
  {
   "attachments": {},
   "cell_type": "markdown",
   "metadata": {},
   "source": [
    "## TRA"
   ]
  },
  {
   "cell_type": "code",
   "execution_count": null,
   "metadata": {
    "vscode": {
     "languageId": "r"
    }
   },
   "outputs": [],
   "source": [
    "file_list <- list.files(h4hpath, pattern = paste0(\"CLONES_\", \"TRA\"), recursive = T)"
   ]
  },
  {
   "cell_type": "code",
   "execution_count": null,
   "metadata": {
    "vscode": {
     "languageId": "r"
    }
   },
   "outputs": [],
   "source": [
    "tail(file_list)"
   ]
  },
  {
   "cell_type": "code",
   "execution_count": null,
   "metadata": {
    "vscode": {
     "languageId": "r"
    }
   },
   "outputs": [],
   "source": [
    "# remove downsample files\n",
    "file_list <- file_list[!grepl(\"_2000000\", file_list)]"
   ]
  },
  {
   "attachments": {},
   "cell_type": "markdown",
   "metadata": {},
   "source": [
    "Some files are duplicated. Make a table to identify and pick the larger clone file"
   ]
  },
  {
   "cell_type": "code",
   "execution_count": null,
   "metadata": {
    "vscode": {
     "languageId": "r"
    }
   },
   "outputs": [],
   "source": [
    "file_df <- as.data.frame(file_list)"
   ]
  },
  {
   "cell_type": "code",
   "execution_count": null,
   "metadata": {
    "vscode": {
     "languageId": "r"
    }
   },
   "outputs": [],
   "source": [
    "file_df$samplename <- gsub(\".*CLONES_TRA\", \"\", file_df$file_list)\n",
    "file_df$samplename <- gsub(\".txt\", \"\", file_df$samplename)"
   ]
  },
  {
   "cell_type": "code",
   "execution_count": null,
   "metadata": {
    "vscode": {
     "languageId": "r"
    }
   },
   "outputs": [],
   "source": [
    "file_df$size <- NA\n",
    "for(i in 1:nrow(file_df)){\n",
    "    file_df$size[i] <- file.size(paste0(h4hpath,file_df$file_list[i]))\n",
    "}"
   ]
  },
  {
   "cell_type": "code",
   "execution_count": null,
   "metadata": {
    "vscode": {
     "languageId": "r"
    }
   },
   "outputs": [],
   "source": [
    "head(file_df)"
   ]
  },
  {
   "cell_type": "code",
   "execution_count": null,
   "metadata": {
    "vscode": {
     "languageId": "r"
    }
   },
   "outputs": [],
   "source": [
    "file_df[ grepl(\"383-03\", file_df$file_list),]"
   ]
  },
  {
   "cell_type": "code",
   "execution_count": null,
   "metadata": {
    "vscode": {
     "languageId": "r"
    }
   },
   "outputs": [],
   "source": [
    "file_df <- file_df[ !grepl(\"immunarch\", file_df$file_list),]"
   ]
  },
  {
   "cell_type": "code",
   "execution_count": null,
   "metadata": {
    "vscode": {
     "languageId": "r"
    }
   },
   "outputs": [],
   "source": [
    "file_df_dedup <- file_df[0,]\n",
    "\n",
    "for(s in unique(file_df$samplename)){\n",
    "    tmp <- file_df[ file_df$samplename == s,]\n",
    "    if(nrow(tmp) ==1 ){\n",
    "        file_df_dedup <- rbind(file_df_dedup, tmp)\n",
    "    }\n",
    "    if(nrow(tmp) > 1 ){\n",
    "        file_df_dedup <- rbind(file_df_dedup, tmp[ tmp$size == max(tmp$size),])\n",
    "    }    \n",
    "}"
   ]
  },
  {
   "cell_type": "code",
   "execution_count": null,
   "metadata": {
    "vscode": {
     "languageId": "r"
    }
   },
   "outputs": [],
   "source": [
    "file_df_dedup[ grepl(\"343-05\", file_df_dedup$file_list),]"
   ]
  },
  {
   "cell_type": "code",
   "execution_count": null,
   "metadata": {
    "vscode": {
     "languageId": "r"
    }
   },
   "outputs": [],
   "source": [
    "file_df_dedup_tra <- file_df_dedup\n",
    "save(file_df_dedup_tra, file = paste0(datapath,\"capTCRseq/TRAfiles.RData\"))"
   ]
  },
  {
   "cell_type": "code",
   "execution_count": null,
   "metadata": {
    "vscode": {
     "languageId": "r"
    }
   },
   "outputs": [],
   "source": [
    "dim(file_df)\n",
    "dim(file_df_dedup)"
   ]
  },
  {
   "cell_type": "code",
   "execution_count": null,
   "metadata": {
    "vscode": {
     "languageId": "r"
    }
   },
   "outputs": [],
   "source": [
    "batchTRA <- immunelistfx(file_df_dedup$file_list, h4hpath, \"TRA\")"
   ]
  },
  {
   "cell_type": "code",
   "execution_count": null,
   "metadata": {
    "vscode": {
     "languageId": "r"
    }
   },
   "outputs": [],
   "source": [
    "names(batchTRA) <- gsub(\".*CLONES_TRA\", \"\", names(batchTRA))"
   ]
  },
  {
   "cell_type": "code",
   "execution_count": null,
   "metadata": {
    "vscode": {
     "languageId": "r"
    }
   },
   "outputs": [],
   "source": [
    "TRAlist <- batchTRA"
   ]
  },
  {
   "cell_type": "code",
   "execution_count": null,
   "metadata": {
    "vscode": {
     "languageId": "r"
    }
   },
   "outputs": [],
   "source": [
    "save(TRAlist, file = paste0(datapath,\"capTCRseq/TRAlist.RData\"))"
   ]
  },
  {
   "attachments": {},
   "cell_type": "markdown",
   "metadata": {},
   "source": [
    "### divstats"
   ]
  },
  {
   "cell_type": "code",
   "execution_count": null,
   "metadata": {
    "vscode": {
     "languageId": "r"
    }
   },
   "outputs": [],
   "source": [
    "load(file = paste0(datapath,\"capTCRseq/TRAfiles.RData\"))"
   ]
  },
  {
   "cell_type": "code",
   "execution_count": null,
   "metadata": {
    "vscode": {
     "languageId": "r"
    }
   },
   "outputs": [],
   "source": [
    "load(file = paste0(datapath,\"capTCRseq/TRAlist.RData\"))"
   ]
  },
  {
   "cell_type": "code",
   "execution_count": null,
   "metadata": {
    "vscode": {
     "languageId": "r"
    }
   },
   "outputs": [],
   "source": [
    "# remove lists with no clonotype\n",
    "TRAlist <- TRAlist[sapply(TRAlist, function(x) length((x)) != 0)]"
   ]
  },
  {
   "cell_type": "code",
   "execution_count": null,
   "metadata": {
    "vscode": {
     "languageId": "r"
    }
   },
   "outputs": [],
   "source": [
    "length(TRAlist)"
   ]
  },
  {
   "cell_type": "code",
   "execution_count": null,
   "metadata": {
    "scrolled": true,
    "vscode": {
     "languageId": "r"
    }
   },
   "outputs": [],
   "source": [
    "Divstats.fx(TRAlist, \"TRA\", \"CHP\" , paste0(datapath, \"capTCRseq/\"))"
   ]
  },
  {
   "attachments": {},
   "cell_type": "markdown",
   "metadata": {},
   "source": [
    "### Cleanup divstats"
   ]
  },
  {
   "cell_type": "code",
   "execution_count": null,
   "metadata": {
    "vscode": {
     "languageId": "r"
    }
   },
   "outputs": [],
   "source": [
    "divstats <- read.csv(paste0(datapath, \"capTCRseq/divstats_TRACHP.csv\"), header = T, stringsAsFactors = F, row.names = 1)"
   ]
  },
  {
   "cell_type": "code",
   "execution_count": null,
   "metadata": {
    "vscode": {
     "languageId": "r"
    }
   },
   "outputs": [],
   "source": [
    "# add filenames to divstats\n",
    "myfilenames <- file_df_dedup_tra[ file_df_dedup_tra$samplename %in% names(TRAlist),]"
   ]
  },
  {
   "cell_type": "code",
   "execution_count": null,
   "metadata": {
    "vscode": {
     "languageId": "r"
    }
   },
   "outputs": [],
   "source": [
    "dim(divstats)"
   ]
  },
  {
   "cell_type": "code",
   "execution_count": null,
   "metadata": {
    "vscode": {
     "languageId": "r"
    }
   },
   "outputs": [],
   "source": [
    "head(divstats)"
   ]
  },
  {
   "cell_type": "code",
   "execution_count": null,
   "metadata": {
    "vscode": {
     "languageId": "r"
    }
   },
   "outputs": [],
   "source": [
    "divstats$sample_id <- rownames(divstats)\n",
    "divstats$basename <- rownames(divstats)"
   ]
  },
  {
   "cell_type": "code",
   "execution_count": null,
   "metadata": {
    "vscode": {
     "languageId": "r"
    }
   },
   "outputs": [],
   "source": [
    "# add filenames to divstats\n",
    "divstats$file <- myfilenames$file_list[ match(divstats$sample_id, myfilenames$samplename)]"
   ]
  },
  {
   "cell_type": "code",
   "execution_count": null,
   "metadata": {
    "vscode": {
     "languageId": "r"
    }
   },
   "outputs": [],
   "source": [
    "dim(divstats)"
   ]
  },
  {
   "attachments": {},
   "cell_type": "markdown",
   "metadata": {},
   "source": [
    "Separate samples"
   ]
  },
  {
   "cell_type": "code",
   "execution_count": null,
   "metadata": {
    "vscode": {
     "languageId": "r"
    }
   },
   "outputs": [],
   "source": [
    "divstats$Sample <- NA\n",
    "divstats$Sample[grepl(\"PBMC\", rownames(divstats))] <- \"PBMC\"\n",
    "divstats$Sample[grepl(\"cfDNA\", rownames(divstats))] <- \"cfDNA\"\n",
    "divstats$Sample[grepl(\"FFPE\", rownames(divstats))] <- \"Tumor\""
   ]
  },
  {
   "attachments": {},
   "cell_type": "markdown",
   "metadata": {},
   "source": [
    "Separate LFS and non-LFS"
   ]
  },
  {
   "cell_type": "code",
   "execution_count": null,
   "metadata": {
    "vscode": {
     "languageId": "r"
    }
   },
   "outputs": [],
   "source": [
    "divstats$Group <- NA\n",
    "divstats$Group[grepl(\"LFS\", rownames(divstats))] <- \"LFS\"\n",
    "divstats$Group[grepl(\"CHP\", rownames(divstats))] <- \"CHP\""
   ]
  },
  {
   "attachments": {},
   "cell_type": "markdown",
   "metadata": {},
   "source": [
    "Get patient ids"
   ]
  },
  {
   "cell_type": "code",
   "execution_count": null,
   "metadata": {
    "vscode": {
     "languageId": "r"
    }
   },
   "outputs": [],
   "source": [
    "divstats$Patient <- NA\n",
    "# CHP\n",
    "divstats$Patient[divstats$Group == \"CHP\"] <- substr(rownames(divstats)[divstats$Group == \"CHP\"],1,7)\n",
    "# Normal samples have either YO or MO\n",
    "divstats$Patient[grepl(\"YO\", rownames(divstats))] <- gsub(\"_PBMC_DNA\", \"\", rownames(divstats)[grepl(\"YO\", rownames(divstats))])\n",
    "divstats$Patient[grepl(\"MO\", rownames(divstats))] <- gsub(\"_PBMC_DNA\", \"\", rownames(divstats)[grepl(\"MO\", rownames(divstats))])\n",
    "# LFS\n",
    "divstats$Patient[divstats$Group == \"LFS\"] <- substr(rownames(divstats)[divstats$Group == \"LFS\"],1,12)"
   ]
  },
  {
   "attachments": {},
   "cell_type": "markdown",
   "metadata": {},
   "source": [
    "Get cycles. For LFS, Normals and Tumors recode to 00"
   ]
  },
  {
   "cell_type": "code",
   "execution_count": null,
   "metadata": {
    "vscode": {
     "languageId": "r"
    }
   },
   "outputs": [],
   "source": [
    "divstats$Cycle <- NA\n",
    "divstats$Cycle[divstats$Group == \"CHP\"] <- substr(rownames(divstats)[divstats$Group == \"CHP\"],9,10)\n",
    "\n",
    "divstats$Cycle[grepl(\"YO\", rownames(divstats))] <- \"00\"\n",
    "divstats$Cycle[grepl(\"MO\", rownames(divstats))] <- \"00\"\n",
    "divstats$Cycle[ divstats$Sample == \"Tumor\"] <- \"00\"\n",
    "divstats$Cycle[ divstats$Group == \"LFS\"] <- \"00\""
   ]
  },
  {
   "cell_type": "code",
   "execution_count": null,
   "metadata": {
    "vscode": {
     "languageId": "r"
    }
   },
   "outputs": [],
   "source": [
    "divstats$sample_id <- NA\n",
    "\n",
    "# bind patient and cycle for PBMC and cfdna to generate sample id\n",
    "divstats$sample_id[ divstats$Sample != \"Tumor\"] <- paste(divstats$Patient[ divstats$Sample != \"Tumor\"], \"_\", \n",
    "                                                          divstats$Cycle[ divstats$Sample != \"Tumor\"], sep = \"\")\n",
    "\n",
    "# For tumor samples start with rownames because some of them are two biopsies from the same tumor\n",
    "divstats$sample_id[ divstats$Sample == \"Tumor\"] <- gsub(\"-FFPE-DN.*\", \"\", rownames(divstats)[ divstats$Sample == \"Tumor\"])"
   ]
  },
  {
   "cell_type": "code",
   "execution_count": null,
   "metadata": {
    "vscode": {
     "languageId": "r"
    }
   },
   "outputs": [],
   "source": [
    "divstats$sample_id <- gsub(\"-\", \"_\", divstats$sample_id)"
   ]
  },
  {
   "cell_type": "code",
   "execution_count": null,
   "metadata": {
    "vscode": {
     "languageId": "r"
    }
   },
   "outputs": [],
   "source": [
    "divstats$Patient <- NULL\n",
    "divstats$Cycle <- NULL\n",
    "divstats$Group <- NULL\n",
    "divstats$Sample <- NULL"
   ]
  },
  {
   "cell_type": "code",
   "execution_count": null,
   "metadata": {
    "vscode": {
     "languageId": "r"
    }
   },
   "outputs": [],
   "source": [
    "head(divstats)"
   ]
  },
  {
   "cell_type": "code",
   "execution_count": null,
   "metadata": {
    "vscode": {
     "languageId": "r"
    }
   },
   "outputs": [],
   "source": [
    "write.csv(divstats,\n",
    "          paste0(datapath, \"capTCRseq/divstats_TRACHP.csv\"), row.names = TRUE)"
   ]
  },
  {
   "cell_type": "code",
   "execution_count": null,
   "metadata": {
    "vscode": {
     "languageId": "r"
    }
   },
   "outputs": [],
   "source": []
  },
  {
   "attachments": {},
   "cell_type": "markdown",
   "metadata": {},
   "source": [
    "# Test dataset"
   ]
  },
  {
   "cell_type": "code",
   "execution_count": null,
   "metadata": {
    "vscode": {
     "languageId": "r"
    }
   },
   "outputs": [],
   "source": [
    "mordpath <- \"/Users/anabbi/Desktop/Sam/immpedcan/mixcr/Tcelllines/muldercelllines/mixcr/clones/\""
   ]
  },
  {
   "cell_type": "code",
   "execution_count": null,
   "metadata": {
    "vscode": {
     "languageId": "r"
    }
   },
   "outputs": [],
   "source": [
    "file_list <- list.files(mordpath, pattern = paste0(\"CLONES_\", \"TRB\"), recursive = T)"
   ]
  },
  {
   "cell_type": "code",
   "execution_count": null,
   "metadata": {
    "vscode": {
     "languageId": "r"
    }
   },
   "outputs": [],
   "source": [
    "file_list"
   ]
  },
  {
   "cell_type": "code",
   "execution_count": null,
   "metadata": {
    "vscode": {
     "languageId": "r"
    }
   },
   "outputs": [],
   "source": [
    "file_list <- file_list[ file_list != 'CLONES_TRBUndetermined_S0.txt']"
   ]
  },
  {
   "cell_type": "code",
   "execution_count": null,
   "metadata": {
    "vscode": {
     "languageId": "r"
    }
   },
   "outputs": [],
   "source": [
    "file_list"
   ]
  },
  {
   "cell_type": "code",
   "execution_count": null,
   "metadata": {
    "scrolled": true,
    "vscode": {
     "languageId": "r"
    }
   },
   "outputs": [],
   "source": [
    "cells <- immunelistfx(file_list, mordpath, \"TRB\")"
   ]
  },
  {
   "cell_type": "code",
   "execution_count": null,
   "metadata": {
    "vscode": {
     "languageId": "r"
    }
   },
   "outputs": [],
   "source": [
    "cells"
   ]
  },
  {
   "cell_type": "code",
   "execution_count": null,
   "metadata": {
    "vscode": {
     "languageId": "r"
    }
   },
   "outputs": [],
   "source": [
    "myimmunelist_cells <- cells "
   ]
  },
  {
   "cell_type": "code",
   "execution_count": null,
   "metadata": {
    "vscode": {
     "languageId": "r"
    }
   },
   "outputs": [],
   "source": [
    "save(myimmunelist_cells, file = paste0(datapath,\"capTCRseq/myimmunelist_cells.RData\"))"
   ]
  },
  {
   "cell_type": "code",
   "execution_count": null,
   "metadata": {
    "scrolled": true,
    "vscode": {
     "languageId": "r"
    }
   },
   "outputs": [],
   "source": [
    "Divstats.fx(myimmunelist_cells, \"TRB\", \"Cells\" , paste0(datapath, \"capTCRseq/\"))"
   ]
  },
  {
   "cell_type": "code",
   "execution_count": null,
   "metadata": {
    "vscode": {
     "languageId": "r"
    }
   },
   "outputs": [],
   "source": []
  },
  {
   "cell_type": "code",
   "execution_count": null,
   "metadata": {
    "vscode": {
     "languageId": "r"
    }
   },
   "outputs": [],
   "source": []
  },
  {
   "cell_type": "code",
   "execution_count": null,
   "metadata": {
    "vscode": {
     "languageId": "r"
    }
   },
   "outputs": [],
   "source": []
  },
  {
   "cell_type": "code",
   "execution_count": null,
   "metadata": {
    "vscode": {
     "languageId": "r"
    }
   },
   "outputs": [],
   "source": []
  },
  {
   "cell_type": "code",
   "execution_count": null,
   "metadata": {
    "vscode": {
     "languageId": "r"
    }
   },
   "outputs": [],
   "source": []
  }
 ],
 "metadata": {
  "kernelspec": {
   "display_name": "R 4.0",
   "language": "R",
   "name": "ir40"
  },
  "language_info": {
   "codemirror_mode": "r",
   "file_extension": ".r",
   "mimetype": "text/x-r-source",
   "name": "R",
   "pygments_lexer": "r",
   "version": "4.2.2"
  },
  "toc": {
   "base_numbering": 1,
   "nav_menu": {},
   "number_sections": false,
   "sideBar": true,
   "skip_h1_title": false,
   "title_cell": "Table of Contents",
   "title_sidebar": "Contents",
   "toc_cell": true,
   "toc_position": {
    "height": "calc(100% - 180px)",
    "left": "10px",
    "top": "150px",
    "width": "206.5px"
   },
   "toc_section_display": true,
   "toc_window_display": true
  }
 },
 "nbformat": 4,
 "nbformat_minor": 2
}
