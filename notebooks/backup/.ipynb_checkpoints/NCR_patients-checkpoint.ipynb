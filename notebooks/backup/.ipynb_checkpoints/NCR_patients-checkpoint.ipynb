{
 "cells": [
  {
   "cell_type": "code",
   "execution_count": 25,
   "metadata": {},
   "outputs": [
    {
     "name": "stderr",
     "output_type": "stream",
     "text": [
      "Warning message:\n",
      "“package ‘tidyr’ was built under R version 3.5.2”"
     ]
    }
   ],
   "source": [
    "library(ggplot2)\n",
    "library(gridExtra)\n",
    "library(ComplexHeatmap)\n",
    "library(circlize)\n",
    "library(tidyr)"
   ]
  },
  {
   "cell_type": "code",
   "execution_count": 4,
   "metadata": {},
   "outputs": [],
   "source": [
    "plotpath <- \"/Users/anabbi/OneDrive - UHN/Documents/INTERCEPT/Plots/\"\n",
    "datapath <- \"/Users/anabbi/OneDrive - UHN/Documents/INTERCEPT/Data/\""
   ]
  },
  {
   "cell_type": "code",
   "execution_count": null,
   "metadata": {},
   "outputs": [],
   "source": []
  },
  {
   "cell_type": "markdown",
   "metadata": {},
   "source": [
    "# FUNCTION heatmap of NCRs"
   ]
  },
  {
   "cell_type": "code",
   "execution_count": 21,
   "metadata": {},
   "outputs": [],
   "source": [
    "    NCRs <- read.csv(paste(datapath, \"NCR_df.csv\", sep = \"\"),\n",
    "                 header = T, \n",
    "                 check.names = F)"
   ]
  },
  {
   "cell_type": "code",
   "execution_count": 22,
   "metadata": {},
   "outputs": [
    {
     "data": {
      "text/html": [
       "<table>\n",
       "<thead><tr><th scope=col>Patient</th><th scope=col>cycle</th><th scope=col>Age</th><th scope=col>Disease_type</th><th scope=col>TE_fold</th><th scope=col>Pass</th><th scope=col>CD3</th><th scope=col>PD-1</th><th scope=col>PDL1</th><th scope=col>LAG3</th><th scope=col>TIM3</th><th scope=col>CTLA4</th><th scope=col>PD1%</th><th scope=col>PDL1%</th><th scope=col>LAG3%</th><th scope=col>TIM3%</th><th scope=col>CTLA4%</th><th scope=col>Any NCR</th><th scope=col>PD1 + LAG3 + TIM3</th></tr></thead>\n",
       "<tbody>\n",
       "\t<tr><td>330           </td><td>1             </td><td> 5.0          </td><td>OS            </td><td>0.9           </td><td>NA            </td><td>2437          </td><td>113           </td><td>NA            </td><td>67            </td><td>113           </td><td>NA            </td><td>4.64          </td><td> 0            </td><td>2.75          </td><td>4.64          </td><td> 0            </td><td>12.02         </td><td>12.02         </td></tr>\n",
       "\t<tr><td>331           </td><td>1             </td><td> 5.0          </td><td>SR ALL        </td><td>0             </td><td>NA            </td><td>   0          </td><td>NA            </td><td>NA            </td><td>NA            </td><td>NA            </td><td>NA            </td><td>  NA          </td><td>NA            </td><td>  NA          </td><td>  NA          </td><td>NA            </td><td>   NA         </td><td>   NA         </td></tr>\n",
       "\t<tr><td>332           </td><td>1             </td><td>10.0          </td><td>ERMS          </td><td>8.2           </td><td>NA            </td><td>3628          </td><td>340           </td><td>NA            </td><td>269           </td><td>340           </td><td>NA            </td><td>9.37          </td><td> 0            </td><td>7.41          </td><td>9.37          </td><td> 0            </td><td>26.16         </td><td>26.16         </td></tr>\n",
       "\t<tr><td>333           </td><td>1             </td><td>12.0          </td><td>HD            </td><td>0             </td><td>NA            </td><td>   0          </td><td>NA            </td><td>NA            </td><td>NA            </td><td>NA            </td><td>NA            </td><td>  NA          </td><td>NA            </td><td>  NA          </td><td>  NA          </td><td>NA            </td><td>   NA         </td><td>   NA         </td></tr>\n",
       "\t<tr><td>334           </td><td>1             </td><td>19.0          </td><td>HR ALL        </td><td>0             </td><td>NA            </td><td>   0          </td><td>NA            </td><td>NA            </td><td>NA            </td><td>NA            </td><td>NA            </td><td>  NA          </td><td>NA            </td><td>  NA          </td><td>  NA          </td><td>NA            </td><td>   NA         </td><td>   NA         </td></tr>\n",
       "\t<tr><td>335           </td><td>1             </td><td> 0.9          </td><td>Hepatoblastoma</td><td>0             </td><td>NA            </td><td>   0          </td><td>24            </td><td>NA            </td><td>44            </td><td>24            </td><td>NA            </td><td>  NA          </td><td>NA            </td><td>  NA          </td><td>  NA          </td><td>NA            </td><td>   NA         </td><td>   NA         </td></tr>\n",
       "</tbody>\n",
       "</table>\n"
      ],
      "text/latex": [
       "\\begin{tabular}{r|lllllllllllllllllll}\n",
       " Patient & cycle & Age & Disease\\_type & TE\\_fold & Pass & CD3 & PD-1 & PDL1 & LAG3 & TIM3 & CTLA4 & PD1\\% & PDL1\\% & LAG3\\% & TIM3\\% & CTLA4\\% & Any NCR & PD1 + LAG3 + TIM3\\\\\n",
       "\\hline\n",
       "\t 330            & 1              &  5.0           & OS             & 0.9            & NA             & 2437           & 113            & NA             & 67             & 113            & NA             & 4.64           &  0             & 2.75           & 4.64           &  0             & 12.02          & 12.02         \\\\\n",
       "\t 331            & 1              &  5.0           & SR ALL         & 0              & NA             &    0           & NA             & NA             & NA             & NA             & NA             &   NA           & NA             &   NA           &   NA           & NA             &    NA          &    NA         \\\\\n",
       "\t 332            & 1              & 10.0           & ERMS           & 8.2            & NA             & 3628           & 340            & NA             & 269            & 340            & NA             & 9.37           &  0             & 7.41           & 9.37           &  0             & 26.16          & 26.16         \\\\\n",
       "\t 333            & 1              & 12.0           & HD             & 0              & NA             &    0           & NA             & NA             & NA             & NA             & NA             &   NA           & NA             &   NA           &   NA           & NA             &    NA          &    NA         \\\\\n",
       "\t 334            & 1              & 19.0           & HR ALL         & 0              & NA             &    0           & NA             & NA             & NA             & NA             & NA             &   NA           & NA             &   NA           &   NA           & NA             &    NA          &    NA         \\\\\n",
       "\t 335            & 1              &  0.9           & Hepatoblastoma & 0              & NA             &    0           & 24             & NA             & 44             & 24             & NA             &   NA           & NA             &   NA           &   NA           & NA             &    NA          &    NA         \\\\\n",
       "\\end{tabular}\n"
      ],
      "text/markdown": [
       "\n",
       "| Patient | cycle | Age | Disease_type | TE_fold | Pass | CD3 | PD-1 | PDL1 | LAG3 | TIM3 | CTLA4 | PD1% | PDL1% | LAG3% | TIM3% | CTLA4% | Any NCR | PD1 + LAG3 + TIM3 |\n",
       "|---|---|---|---|---|---|---|---|---|---|---|---|---|---|---|---|---|---|---|\n",
       "| 330            | 1              |  5.0           | OS             | 0.9            | NA             | 2437           | 113            | NA             | 67             | 113            | NA             | 4.64           |  0             | 2.75           | 4.64           |  0             | 12.02          | 12.02          |\n",
       "| 331            | 1              |  5.0           | SR ALL         | 0              | NA             |    0           | NA             | NA             | NA             | NA             | NA             |   NA           | NA             |   NA           |   NA           | NA             |    NA          |    NA          |\n",
       "| 332            | 1              | 10.0           | ERMS           | 8.2            | NA             | 3628           | 340            | NA             | 269            | 340            | NA             | 9.37           |  0             | 7.41           | 9.37           |  0             | 26.16          | 26.16          |\n",
       "| 333            | 1              | 12.0           | HD             | 0              | NA             |    0           | NA             | NA             | NA             | NA             | NA             |   NA           | NA             |   NA           |   NA           | NA             |    NA          |    NA          |\n",
       "| 334            | 1              | 19.0           | HR ALL         | 0              | NA             |    0           | NA             | NA             | NA             | NA             | NA             |   NA           | NA             |   NA           |   NA           | NA             |    NA          |    NA          |\n",
       "| 335            | 1              |  0.9           | Hepatoblastoma | 0              | NA             |    0           | 24             | NA             | 44             | 24             | NA             |   NA           | NA             |   NA           |   NA           | NA             |    NA          |    NA          |\n",
       "\n"
      ],
      "text/plain": [
       "  Patient cycle Age  Disease_type   TE_fold Pass CD3  PD-1 PDL1 LAG3 TIM3 CTLA4\n",
       "1 330     1      5.0 OS             0.9     NA   2437 113  NA   67   113  NA   \n",
       "2 331     1      5.0 SR ALL         0       NA      0 NA   NA   NA   NA   NA   \n",
       "3 332     1     10.0 ERMS           8.2     NA   3628 340  NA   269  340  NA   \n",
       "4 333     1     12.0 HD             0       NA      0 NA   NA   NA   NA   NA   \n",
       "5 334     1     19.0 HR ALL         0       NA      0 NA   NA   NA   NA   NA   \n",
       "6 335     1      0.9 Hepatoblastoma 0       NA      0 24   NA   44   24   NA   \n",
       "  PD1% PDL1% LAG3% TIM3% CTLA4% Any NCR PD1 + LAG3 + TIM3\n",
       "1 4.64  0    2.75  4.64   0     12.02   12.02            \n",
       "2   NA NA      NA    NA  NA        NA      NA            \n",
       "3 9.37  0    7.41  9.37   0     26.16   26.16            \n",
       "4   NA NA      NA    NA  NA        NA      NA            \n",
       "5   NA NA      NA    NA  NA        NA      NA            \n",
       "6   NA NA      NA    NA  NA        NA      NA            "
      ]
     },
     "metadata": {},
     "output_type": "display_data"
    }
   ],
   "source": [
    "head(NCRs)"
   ]
  },
  {
   "cell_type": "code",
   "execution_count": 23,
   "metadata": {},
   "outputs": [],
   "source": [
    "NCRs_TIM3 <- NCRs[,c(\"Patient\", \"cycle\", \"TIM3%\")]"
   ]
  },
  {
   "cell_type": "code",
   "execution_count": 28,
   "metadata": {},
   "outputs": [],
   "source": [
    "mytm3 <- spread(NCRs_TIM3, key = cycle, value = `TIM3%`)"
   ]
  },
  {
   "cell_type": "code",
   "execution_count": 31,
   "metadata": {},
   "outputs": [],
   "source": [
    "mycohort <- NCRs[NCRs$cycle == \"1\",c(1,4)]"
   ]
  },
  {
   "cell_type": "code",
   "execution_count": 34,
   "metadata": {},
   "outputs": [],
   "source": [
    "rownames(mytm3) <- mytm3$Patient\n",
    "mytm3$Patient <- NULL"
   ]
  },
  {
   "cell_type": "code",
   "execution_count": 4,
   "metadata": {},
   "outputs": [],
   "source": [
    "\n",
    "    heatmap_ncr = Heatmap(t(NCRmat),\n",
    "                          name = \"NCR\",\n",
    "                          column_title = paste(patient, unique(mypt_mycycles$Disease_type), sep = \"_\"),                             \n",
    "                          col = col_fun,\n",
    "                          #format rows\n",
    "                          row_names_gp = gpar(fontsize = 15),                      \n",
    "                          cluster_rows = FALSE,\n",
    "                          show_row_dend = FALSE,                      \n",
    "                          #format cols\n",
    "                          cluster_columns = FALSE,\n",
    "                          column_names_gp = gpar(fontsize = 15), \n",
    "                          rect_gp = gpar(col = \"black\"), \n",
    "                          #legend\n",
    "                          show_heatmap_legend = TRUE,\n",
    "                          width = unit(length(cyclelist), \"cm\"),\n",
    "                          height = unit(5, \"cm\"),\n",
    "                          heatmap_legend_param = list(labels_gp = gpar(fontsize = 12)))\n"
   ]
  },
  {
   "cell_type": "code",
   "execution_count": null,
   "metadata": {},
   "outputs": [],
   "source": []
  }
 ],
 "metadata": {
  "kernelspec": {
   "display_name": "R",
   "language": "R",
   "name": "ir"
  },
  "language_info": {
   "codemirror_mode": "r",
   "file_extension": ".r",
   "mimetype": "text/x-r-source",
   "name": "R",
   "pygments_lexer": "r",
   "version": "3.5.1"
  }
 },
 "nbformat": 4,
 "nbformat_minor": 2
}
