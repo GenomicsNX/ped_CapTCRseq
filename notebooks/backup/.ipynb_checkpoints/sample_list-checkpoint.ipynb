{
 "cells": [
  {
   "cell_type": "markdown",
   "metadata": {
    "toc": true
   },
   "source": [
    "<h1>Table of Contents<span class=\"tocSkip\"></span></h1>\n",
    "<div class=\"toc\"><ul class=\"toc-item\"><li><span><a href=\"#TCRcap-tracking-list\" data-toc-modified-id=\"TCRcap-tracking-list-1\">TCRcap tracking list</a></span></li><li><span><a href=\"#Identify-samples-with-data-from-more-than-2-cycles\" data-toc-modified-id=\"Identify-samples-with-data-from-more-than-2-cycles-2\">Identify samples with data from more than 2 cycles</a></span></li></ul></div>"
   ]
  },
  {
   "cell_type": "markdown",
   "metadata": {},
   "source": [
    "# TCRcap tracking list"
   ]
  },
  {
   "cell_type": "code",
   "execution_count": 1,
   "metadata": {},
   "outputs": [
    {
     "name": "stderr",
     "output_type": "stream",
     "text": [
      "Warning message:\n",
      "“package ‘tidyr’ was built under R version 3.5.2”"
     ]
    }
   ],
   "source": [
    "library(tidyr)"
   ]
  },
  {
   "cell_type": "code",
   "execution_count": 19,
   "metadata": {},
   "outputs": [],
   "source": [
    "samplelist.fx <- function(datapath, outpath){\n",
    "#read in alignstats for ds files\n",
    "    alignstats <- read.csv(file = paste(datapath,\"align_stats.csv\", sep =\"\"),\n",
    "                          sep = \",\", header = T)\n",
    "    alignstats$samplename <- gsub(\"_2000000_.*\",\"\",alignstats$Input.file.s.[order(alignstats$Successfully.aligned.reads)])\n",
    "#Include only CHP samples\n",
    "    CHPs <- alignstats$samplename[grepl(\"CHP\", alignstats$samplename)]\n",
    "    CHPs <- gsub(\"-PBMC-DNA\", \"\", CHPs)\n",
    "    CHPsdf <- cbind.data.frame(CHPs, CHPs, \"1\")\n",
    "    colnames(CHPsdf) <- c(\"patient\", \"cycle\", \"number\")\n",
    "    CHPsdf$cycle <- gsub(\".*-\", \"\",CHPsdf$cycle)\n",
    "    CHPsdf$cycle <- gsub(\"0\", \"X\",CHPsdf$cycle)\n",
    "    CHPsdf$patient <- gsub(\"-.*\", \"\", CHPsdf$patient)\n",
    "    CHPsdf$patient <- gsub(\"CHP_\", \"\", CHPsdf$patient)\n",
    "    \n",
    "    print(CHPsdf)\n",
    "    patient_cycle <- read.csv(file = \"/Users/anabbi/OneDrive - UHN/Documents/INTERCEPT/Data/patient_cycle_captured_updated.csv\",\n",
    "                              sep = \",\", \n",
    "                              header = T)\n",
    "\n",
    "    for(i in 1:nrow(CHPsdf)){\n",
    "        patient_cycle[match(CHPsdf[i,1],patient_cycle$Patient),\n",
    "                      match(CHPsdf[i,2],colnames(patient_cycle))] <- 1\n",
    "    }\n",
    "    write.csv(patient_cycle, \n",
    "              file = paste(outpath, \"patient_cycle_captured_updated.csv\", sep = \"\"), \n",
    "              row.names = F)\n",
    "}"
   ]
  },
  {
   "cell_type": "code",
   "execution_count": 20,
   "metadata": {},
   "outputs": [],
   "source": [
    "datapath_ds1 <- \"/Users/anabbi/OneDrive - UHN/Documents/INTERCEPT/Data/Nextseq/batch1/ds_batch1/\""
   ]
  },
  {
   "cell_type": "code",
   "execution_count": 21,
   "metadata": {},
   "outputs": [
    {
     "name": "stdout",
     "output_type": "stream",
     "text": [
      "   patient cycle number\n",
      "1      356    X5      1\n",
      "2      367    X1      1\n",
      "3      349    X1      1\n",
      "4      363    X3      1\n",
      "5      348    X4      1\n",
      "6      348    X3      1\n",
      "7      365    X2      1\n",
      "8      349    X2      1\n",
      "9      346    X1      1\n",
      "10     352    X2      1\n",
      "11     358    X1      1\n",
      "12     352    X1      1\n",
      "13     350    X3      1\n"
     ]
    }
   ],
   "source": [
    "samplelist.fx(datapath_ds1, \"/Users/anabbi/OneDrive - UHN/Documents/INTERCEPT/Data/\")"
   ]
  },
  {
   "cell_type": "code",
   "execution_count": 22,
   "metadata": {},
   "outputs": [],
   "source": [
    "datapath_ds2 <- \"/Users/anabbi/OneDrive - UHN/Documents/INTERCEPT/Data/Nextseq/batch2/ds_batch2/\""
   ]
  },
  {
   "cell_type": "code",
   "execution_count": 23,
   "metadata": {},
   "outputs": [
    {
     "name": "stdout",
     "output_type": "stream",
     "text": [
      "   patient cycle number\n",
      "1      329    X4      1\n",
      "2      343    X5      1\n",
      "3      348    X2      1\n",
      "4      342    X4      1\n",
      "5      343    X2      1\n",
      "6      343    X3      1\n",
      "7      348    X1      1\n",
      "8      319    X5      1\n",
      "9      331    X4      1\n",
      "10     343    X4      1\n",
      "11     330    X5      1\n",
      "12     338    X4      1\n",
      "13     338    X5      1\n",
      "14     331    X5      1\n"
     ]
    }
   ],
   "source": [
    "samplelist.fx(datapath_ds2, \"/Users/anabbi/OneDrive - UHN/Documents/INTERCEPT/Data/\")"
   ]
  },
  {
   "cell_type": "code",
   "execution_count": 24,
   "metadata": {},
   "outputs": [],
   "source": [
    "datapath_ds3 <- \"/Users/anabbi/OneDrive - UHN/Documents/INTERCEPT/Data/Nextseq/batch3/ds_batch3/\"\n",
    "datapath_ds4 <- \"/Users/anabbi/OneDrive - UHN/Documents/INTERCEPT/Data/Nextseq/batch4/ds_batch4/\""
   ]
  },
  {
   "cell_type": "code",
   "execution_count": 25,
   "metadata": {},
   "outputs": [
    {
     "name": "stdout",
     "output_type": "stream",
     "text": [
      "   patient cycle number\n",
      "1      374    X5      1\n",
      "2      365    X3      1\n",
      "3      373    X1      1\n",
      "4      380    X2      1\n",
      "5      361    X2      1\n",
      "6      374    X4      1\n",
      "7      345    X5      1\n",
      "8      361    X3      1\n",
      "9      350    X5      1\n",
      "10     374    X3      1\n",
      "11     345    X4      1\n",
      "12     360    X3      1\n",
      "13     370    X2      1\n",
      "14     381    X2      1\n",
      "15     376    X3      1\n",
      "16     339    X5      1\n",
      "17     358    X3      1\n",
      "18     368    X5      1\n",
      "19     358    X5      1\n",
      "20     378    X1      1\n",
      "21     340    X5      1\n",
      "   patient cycle number\n",
      "1      339    X3      1\n",
      "2      315    X5      1\n",
      "3      343    X5      1\n",
      "4      361    X1      1\n",
      "5      355    X1      1\n",
      "6      323    X3      1\n",
      "7      363    X2      1\n",
      "8      347    X1      1\n",
      "9      357    X1      1\n",
      "10     344    X5      1\n",
      "11     366    X1      1\n",
      "12     364    X2      1\n",
      "13     364    X4      1\n",
      "14     340    X3      1\n",
      "15     364    X1      1\n",
      "16     347    X2      1\n",
      "17     362    X2      1\n",
      "18     303    X5      1\n",
      "19     345    X2      1\n",
      "20     338    X3      1\n"
     ]
    }
   ],
   "source": [
    "samplelist.fx(datapath_ds3, \"/Users/anabbi/OneDrive - UHN/Documents/INTERCEPT/Data/\")\n",
    "samplelist.fx(datapath_ds4, \"/Users/anabbi/OneDrive - UHN/Documents/INTERCEPT/Data/\")"
   ]
  },
  {
   "cell_type": "code",
   "execution_count": 26,
   "metadata": {},
   "outputs": [],
   "source": [
    "datapath_ds7 <- \"/Users/anabbi/OneDrive - UHN/Documents/INTERCEPT/Data/Nextseq/batch7/ds_batch7/\""
   ]
  },
  {
   "cell_type": "code",
   "execution_count": 27,
   "metadata": {},
   "outputs": [
    {
     "name": "stdout",
     "output_type": "stream",
     "text": [
      "   patient cycle number\n",
      "1      361    X4      1\n",
      "2      370    X1      1\n",
      "3      357    X4      1\n",
      "4      344    X3      1\n",
      "5      359    X1      1\n",
      "6      362    X4      1\n",
      "7      323    X4      1\n",
      "8      344    X2      1\n",
      "9      373    X2      1\n",
      "10     362    X3      1\n",
      "11     353    X1      1\n",
      "12     362    X1      1\n",
      "13     347    X3      1\n",
      "14     368    X4      1\n",
      "15     323    X5      1\n",
      "16     370    X5      1\n",
      "17     345    X3      1\n",
      "18     353    X3      1\n",
      "19     368    X1      1\n",
      "20     351    X4      1\n",
      "21     353    X5      1\n",
      "22     360    X2      1\n",
      "23     378    X2      1\n",
      "24     375    X2      1\n"
     ]
    }
   ],
   "source": [
    "samplelist.fx(datapath_ds7, \"/Users/anabbi/OneDrive - UHN/Documents/INTERCEPT/Data/\")"
   ]
  },
  {
   "cell_type": "code",
   "execution_count": 28,
   "metadata": {},
   "outputs": [],
   "source": [
    "datapath_ds6a <- \"/Users/anabbi/OneDrive - UHN/Documents/INTERCEPT/Data/Nextseq/batch6a/ds_batch6a/\""
   ]
  },
  {
   "cell_type": "code",
   "execution_count": 29,
   "metadata": {},
   "outputs": [
    {
     "name": "stdout",
     "output_type": "stream",
     "text": [
      "  patient cycle number\n",
      "1     347    X4      1\n",
      "2     367    X2      1\n",
      "3     357    X3      1\n",
      "4     340    X4      1\n",
      "5     359    X4      1\n",
      "6     359    X2      1\n"
     ]
    }
   ],
   "source": [
    "samplelist.fx(datapath_ds6a, \"/Users/anabbi/OneDrive - UHN/Documents/INTERCEPT/Data/\")"
   ]
  },
  {
   "cell_type": "code",
   "execution_count": 30,
   "metadata": {},
   "outputs": [],
   "source": [
    "datapath_ds8 <- \"/Users/anabbi/OneDrive - UHN/Documents/INTERCEPT/Data/Nextseq/batch8/ds_batch8/\""
   ]
  },
  {
   "cell_type": "code",
   "execution_count": 31,
   "metadata": {},
   "outputs": [
    {
     "name": "stdout",
     "output_type": "stream",
     "text": [
      "   patient cycle number\n",
      "1      394    X1      1\n",
      "2      373    X3      1\n",
      "3      394    X4      1\n",
      "4      380    X3      1\n",
      "5      344    X4      1\n",
      "6      380    X5      1\n",
      "7      385    X3      1\n",
      "8      386    X2      1\n",
      "9      356    X2      1\n",
      "10     347    X5      1\n",
      "11     396    X2      1\n",
      "12     335    X3      1\n",
      "13     360    X5      1\n",
      "14     383    X3      1\n",
      "15     370    X3      1\n",
      "16     378    X4      1\n",
      "17     357    X2      1\n",
      "18     382    X2      1\n",
      "19     397    X1      1\n",
      "20     369    X2      1\n",
      "21     396    X1      1\n",
      "22     399    X1      1\n",
      "23     387    X1      1\n"
     ]
    }
   ],
   "source": [
    "samplelist.fx(datapath_ds8, \"/Users/anabbi/OneDrive - UHN/Documents/INTERCEPT/Data/\")"
   ]
  },
  {
   "cell_type": "code",
   "execution_count": null,
   "metadata": {},
   "outputs": [],
   "source": []
  },
  {
   "cell_type": "code",
   "execution_count": null,
   "metadata": {},
   "outputs": [],
   "source": []
  },
  {
   "cell_type": "code",
   "execution_count": null,
   "metadata": {},
   "outputs": [],
   "source": []
  },
  {
   "cell_type": "markdown",
   "metadata": {},
   "source": [
    "# Identify samples with data from more than 2 cycles "
   ]
  },
  {
   "cell_type": "code",
   "execution_count": 32,
   "metadata": {},
   "outputs": [],
   "source": [
    "patient_cycle <- read.csv(file = \"/Users/anabbi/OneDrive - UHN/Documents/INTERCEPT/Data/patient_cycle_captured_updated.csv\",\n",
    "                          sep = \",\", \n",
    "                          header = T)"
   ]
  },
  {
   "cell_type": "code",
   "execution_count": 33,
   "metadata": {},
   "outputs": [
    {
     "data": {
      "text/html": [
       "<table>\n",
       "<caption>A data.frame: 6 × 6</caption>\n",
       "<thead>\n",
       "\t<tr><th scope=col>Patient</th><th scope=col>X1</th><th scope=col>X2</th><th scope=col>X3</th><th scope=col>X4</th><th scope=col>X5</th></tr>\n",
       "\t<tr><th scope=col>&lt;int&gt;</th><th scope=col>&lt;int&gt;</th><th scope=col>&lt;int&gt;</th><th scope=col>&lt;int&gt;</th><th scope=col>&lt;int&gt;</th><th scope=col>&lt;int&gt;</th></tr>\n",
       "</thead>\n",
       "<tbody>\n",
       "\t<tr><td>300</td><td>NA</td><td>NA</td><td>NA</td><td>NA</td><td>NA</td></tr>\n",
       "\t<tr><td>301</td><td>NA</td><td>NA</td><td>NA</td><td>NA</td><td>NA</td></tr>\n",
       "\t<tr><td>302</td><td>NA</td><td>NA</td><td>NA</td><td>NA</td><td>NA</td></tr>\n",
       "\t<tr><td>303</td><td>NA</td><td>NA</td><td>NA</td><td>NA</td><td> 1</td></tr>\n",
       "\t<tr><td>304</td><td>NA</td><td>NA</td><td>NA</td><td>NA</td><td>NA</td></tr>\n",
       "\t<tr><td>305</td><td>NA</td><td>NA</td><td>NA</td><td>NA</td><td>NA</td></tr>\n",
       "</tbody>\n",
       "</table>\n"
      ],
      "text/latex": [
       "A data.frame: 6 × 6\n",
       "\\begin{tabular}{r|llllll}\n",
       " Patient & X1 & X2 & X3 & X4 & X5\\\\\n",
       " <int> & <int> & <int> & <int> & <int> & <int>\\\\\n",
       "\\hline\n",
       "\t 300 & NA & NA & NA & NA & NA\\\\\n",
       "\t 301 & NA & NA & NA & NA & NA\\\\\n",
       "\t 302 & NA & NA & NA & NA & NA\\\\\n",
       "\t 303 & NA & NA & NA & NA &  1\\\\\n",
       "\t 304 & NA & NA & NA & NA & NA\\\\\n",
       "\t 305 & NA & NA & NA & NA & NA\\\\\n",
       "\\end{tabular}\n"
      ],
      "text/markdown": [
       "\n",
       "A data.frame: 6 × 6\n",
       "\n",
       "| Patient &lt;int&gt; | X1 &lt;int&gt; | X2 &lt;int&gt; | X3 &lt;int&gt; | X4 &lt;int&gt; | X5 &lt;int&gt; |\n",
       "|---|---|---|---|---|---|\n",
       "| 300 | NA | NA | NA | NA | NA |\n",
       "| 301 | NA | NA | NA | NA | NA |\n",
       "| 302 | NA | NA | NA | NA | NA |\n",
       "| 303 | NA | NA | NA | NA |  1 |\n",
       "| 304 | NA | NA | NA | NA | NA |\n",
       "| 305 | NA | NA | NA | NA | NA |\n",
       "\n"
      ],
      "text/plain": [
       "  Patient X1 X2 X3 X4 X5\n",
       "1 300     NA NA NA NA NA\n",
       "2 301     NA NA NA NA NA\n",
       "3 302     NA NA NA NA NA\n",
       "4 303     NA NA NA NA  1\n",
       "5 304     NA NA NA NA NA\n",
       "6 305     NA NA NA NA NA"
      ]
     },
     "metadata": {},
     "output_type": "display_data"
    }
   ],
   "source": [
    "head(patient_cycle)"
   ]
  },
  {
   "cell_type": "code",
   "execution_count": 34,
   "metadata": {},
   "outputs": [],
   "source": [
    "rownames(patient_cycle) <- gsub(\"CHP_\", \"\",patient_cycle$Patient)\n",
    "patient_cycle$Patient <- NULL"
   ]
  },
  {
   "cell_type": "code",
   "execution_count": 35,
   "metadata": {},
   "outputs": [
    {
     "data": {
      "text/html": [
       "<table>\n",
       "<caption>A data.frame: 24 × 5</caption>\n",
       "<thead>\n",
       "\t<tr><th></th><th scope=col>X1</th><th scope=col>X2</th><th scope=col>X3</th><th scope=col>X4</th><th scope=col>X5</th></tr>\n",
       "\t<tr><th></th><th scope=col>&lt;int&gt;</th><th scope=col>&lt;int&gt;</th><th scope=col>&lt;int&gt;</th><th scope=col>&lt;int&gt;</th><th scope=col>&lt;int&gt;</th></tr>\n",
       "</thead>\n",
       "<tbody>\n",
       "\t<tr><th scope=row>346</th><td>1</td><td>NA</td><td>NA</td><td>NA</td><td>NA</td></tr>\n",
       "\t<tr><th scope=row>347</th><td>1</td><td> 1</td><td> 1</td><td> 1</td><td> 1</td></tr>\n",
       "\t<tr><th scope=row>348</th><td>1</td><td> 1</td><td> 1</td><td> 1</td><td>NA</td></tr>\n",
       "\t<tr><th scope=row>349</th><td>1</td><td> 1</td><td>NA</td><td>NA</td><td>NA</td></tr>\n",
       "\t<tr><th scope=row>352</th><td>1</td><td> 1</td><td>NA</td><td>NA</td><td>NA</td></tr>\n",
       "\t<tr><th scope=row>353</th><td>1</td><td>NA</td><td> 1</td><td>NA</td><td> 1</td></tr>\n",
       "\t<tr><th scope=row>355</th><td>1</td><td>NA</td><td>NA</td><td>NA</td><td>NA</td></tr>\n",
       "\t<tr><th scope=row>357</th><td>1</td><td> 1</td><td> 1</td><td> 1</td><td>NA</td></tr>\n",
       "\t<tr><th scope=row>358</th><td>1</td><td>NA</td><td> 1</td><td>NA</td><td> 1</td></tr>\n",
       "\t<tr><th scope=row>359</th><td>1</td><td> 1</td><td>NA</td><td> 1</td><td>NA</td></tr>\n",
       "\t<tr><th scope=row>361</th><td>1</td><td> 1</td><td> 1</td><td> 1</td><td>NA</td></tr>\n",
       "\t<tr><th scope=row>362</th><td>1</td><td> 1</td><td> 1</td><td> 1</td><td>NA</td></tr>\n",
       "\t<tr><th scope=row>364</th><td>1</td><td> 1</td><td>NA</td><td> 1</td><td>NA</td></tr>\n",
       "\t<tr><th scope=row>366</th><td>1</td><td>NA</td><td>NA</td><td>NA</td><td>NA</td></tr>\n",
       "\t<tr><th scope=row>367</th><td>1</td><td> 1</td><td>NA</td><td>NA</td><td>NA</td></tr>\n",
       "\t<tr><th scope=row>368</th><td>1</td><td>NA</td><td>NA</td><td> 1</td><td> 1</td></tr>\n",
       "\t<tr><th scope=row>370</th><td>1</td><td> 1</td><td> 1</td><td>NA</td><td> 1</td></tr>\n",
       "\t<tr><th scope=row>373</th><td>1</td><td> 1</td><td> 1</td><td>NA</td><td>NA</td></tr>\n",
       "\t<tr><th scope=row>378</th><td>1</td><td> 1</td><td>NA</td><td> 1</td><td>NA</td></tr>\n",
       "\t<tr><th scope=row>387</th><td>1</td><td>NA</td><td>NA</td><td>NA</td><td>NA</td></tr>\n",
       "\t<tr><th scope=row>394</th><td>1</td><td>NA</td><td>NA</td><td> 1</td><td>NA</td></tr>\n",
       "\t<tr><th scope=row>396</th><td>1</td><td> 1</td><td>NA</td><td>NA</td><td>NA</td></tr>\n",
       "\t<tr><th scope=row>397</th><td>1</td><td>NA</td><td>NA</td><td>NA</td><td>NA</td></tr>\n",
       "\t<tr><th scope=row>399</th><td>1</td><td>NA</td><td>NA</td><td>NA</td><td>NA</td></tr>\n",
       "</tbody>\n",
       "</table>\n"
      ],
      "text/latex": [
       "A data.frame: 24 × 5\n",
       "\\begin{tabular}{r|lllll}\n",
       "  & X1 & X2 & X3 & X4 & X5\\\\\n",
       "  & <int> & <int> & <int> & <int> & <int>\\\\\n",
       "\\hline\n",
       "\t346 & 1 & NA & NA & NA & NA\\\\\n",
       "\t347 & 1 &  1 &  1 &  1 &  1\\\\\n",
       "\t348 & 1 &  1 &  1 &  1 & NA\\\\\n",
       "\t349 & 1 &  1 & NA & NA & NA\\\\\n",
       "\t352 & 1 &  1 & NA & NA & NA\\\\\n",
       "\t353 & 1 & NA &  1 & NA &  1\\\\\n",
       "\t355 & 1 & NA & NA & NA & NA\\\\\n",
       "\t357 & 1 &  1 &  1 &  1 & NA\\\\\n",
       "\t358 & 1 & NA &  1 & NA &  1\\\\\n",
       "\t359 & 1 &  1 & NA &  1 & NA\\\\\n",
       "\t361 & 1 &  1 &  1 &  1 & NA\\\\\n",
       "\t362 & 1 &  1 &  1 &  1 & NA\\\\\n",
       "\t364 & 1 &  1 & NA &  1 & NA\\\\\n",
       "\t366 & 1 & NA & NA & NA & NA\\\\\n",
       "\t367 & 1 &  1 & NA & NA & NA\\\\\n",
       "\t368 & 1 & NA & NA &  1 &  1\\\\\n",
       "\t370 & 1 &  1 &  1 & NA &  1\\\\\n",
       "\t373 & 1 &  1 &  1 & NA & NA\\\\\n",
       "\t378 & 1 &  1 & NA &  1 & NA\\\\\n",
       "\t387 & 1 & NA & NA & NA & NA\\\\\n",
       "\t394 & 1 & NA & NA &  1 & NA\\\\\n",
       "\t396 & 1 &  1 & NA & NA & NA\\\\\n",
       "\t397 & 1 & NA & NA & NA & NA\\\\\n",
       "\t399 & 1 & NA & NA & NA & NA\\\\\n",
       "\\end{tabular}\n"
      ],
      "text/markdown": [
       "\n",
       "A data.frame: 24 × 5\n",
       "\n",
       "| <!--/--> | X1 &lt;int&gt; | X2 &lt;int&gt; | X3 &lt;int&gt; | X4 &lt;int&gt; | X5 &lt;int&gt; |\n",
       "|---|---|---|---|---|---|\n",
       "| 346 | 1 | NA | NA | NA | NA |\n",
       "| 347 | 1 |  1 |  1 |  1 |  1 |\n",
       "| 348 | 1 |  1 |  1 |  1 | NA |\n",
       "| 349 | 1 |  1 | NA | NA | NA |\n",
       "| 352 | 1 |  1 | NA | NA | NA |\n",
       "| 353 | 1 | NA |  1 | NA |  1 |\n",
       "| 355 | 1 | NA | NA | NA | NA |\n",
       "| 357 | 1 |  1 |  1 |  1 | NA |\n",
       "| 358 | 1 | NA |  1 | NA |  1 |\n",
       "| 359 | 1 |  1 | NA |  1 | NA |\n",
       "| 361 | 1 |  1 |  1 |  1 | NA |\n",
       "| 362 | 1 |  1 |  1 |  1 | NA |\n",
       "| 364 | 1 |  1 | NA |  1 | NA |\n",
       "| 366 | 1 | NA | NA | NA | NA |\n",
       "| 367 | 1 |  1 | NA | NA | NA |\n",
       "| 368 | 1 | NA | NA |  1 |  1 |\n",
       "| 370 | 1 |  1 |  1 | NA |  1 |\n",
       "| 373 | 1 |  1 |  1 | NA | NA |\n",
       "| 378 | 1 |  1 | NA |  1 | NA |\n",
       "| 387 | 1 | NA | NA | NA | NA |\n",
       "| 394 | 1 | NA | NA |  1 | NA |\n",
       "| 396 | 1 |  1 | NA | NA | NA |\n",
       "| 397 | 1 | NA | NA | NA | NA |\n",
       "| 399 | 1 | NA | NA | NA | NA |\n",
       "\n"
      ],
      "text/plain": [
       "    X1 X2 X3 X4 X5\n",
       "346 1  NA NA NA NA\n",
       "347 1   1  1  1  1\n",
       "348 1   1  1  1 NA\n",
       "349 1   1 NA NA NA\n",
       "352 1   1 NA NA NA\n",
       "353 1  NA  1 NA  1\n",
       "355 1  NA NA NA NA\n",
       "357 1   1  1  1 NA\n",
       "358 1  NA  1 NA  1\n",
       "359 1   1 NA  1 NA\n",
       "361 1   1  1  1 NA\n",
       "362 1   1  1  1 NA\n",
       "364 1   1 NA  1 NA\n",
       "366 1  NA NA NA NA\n",
       "367 1   1 NA NA NA\n",
       "368 1  NA NA  1  1\n",
       "370 1   1  1 NA  1\n",
       "373 1   1  1 NA NA\n",
       "378 1   1 NA  1 NA\n",
       "387 1  NA NA NA NA\n",
       "394 1  NA NA  1 NA\n",
       "396 1   1 NA NA NA\n",
       "397 1  NA NA NA NA\n",
       "399 1  NA NA NA NA"
      ]
     },
     "metadata": {},
     "output_type": "display_data"
    }
   ],
   "source": [
    "patient_cycle[which(patient_cycle$X1 == 1),]"
   ]
  },
  {
   "cell_type": "code",
   "execution_count": 36,
   "metadata": {},
   "outputs": [
    {
     "data": {
      "text/html": [
       "<dl class=dl-horizontal>\n",
       "\t<dt>323</dt>\n",
       "\t\t<dd>3</dd>\n",
       "\t<dt>338</dt>\n",
       "\t\t<dd>3</dd>\n",
       "\t<dt>340</dt>\n",
       "\t\t<dd>3</dd>\n",
       "\t<dt>343</dt>\n",
       "\t\t<dd>4</dd>\n",
       "\t<dt>344</dt>\n",
       "\t\t<dd>4</dd>\n",
       "\t<dt>345</dt>\n",
       "\t\t<dd>4</dd>\n",
       "\t<dt>347</dt>\n",
       "\t\t<dd>5</dd>\n",
       "\t<dt>348</dt>\n",
       "\t\t<dd>4</dd>\n",
       "\t<dt>353</dt>\n",
       "\t\t<dd>3</dd>\n",
       "\t<dt>357</dt>\n",
       "\t\t<dd>4</dd>\n",
       "\t<dt>358</dt>\n",
       "\t\t<dd>3</dd>\n",
       "\t<dt>359</dt>\n",
       "\t\t<dd>3</dd>\n",
       "\t<dt>360</dt>\n",
       "\t\t<dd>3</dd>\n",
       "\t<dt>361</dt>\n",
       "\t\t<dd>4</dd>\n",
       "\t<dt>362</dt>\n",
       "\t\t<dd>4</dd>\n",
       "\t<dt>364</dt>\n",
       "\t\t<dd>3</dd>\n",
       "\t<dt>368</dt>\n",
       "\t\t<dd>3</dd>\n",
       "\t<dt>370</dt>\n",
       "\t\t<dd>4</dd>\n",
       "\t<dt>373</dt>\n",
       "\t\t<dd>3</dd>\n",
       "\t<dt>374</dt>\n",
       "\t\t<dd>3</dd>\n",
       "\t<dt>378</dt>\n",
       "\t\t<dd>3</dd>\n",
       "\t<dt>380</dt>\n",
       "\t\t<dd>3</dd>\n",
       "</dl>\n"
      ],
      "text/latex": [
       "\\begin{description*}\n",
       "\\item[323] 3\n",
       "\\item[338] 3\n",
       "\\item[340] 3\n",
       "\\item[343] 4\n",
       "\\item[344] 4\n",
       "\\item[345] 4\n",
       "\\item[347] 5\n",
       "\\item[348] 4\n",
       "\\item[353] 3\n",
       "\\item[357] 4\n",
       "\\item[358] 3\n",
       "\\item[359] 3\n",
       "\\item[360] 3\n",
       "\\item[361] 4\n",
       "\\item[362] 4\n",
       "\\item[364] 3\n",
       "\\item[368] 3\n",
       "\\item[370] 4\n",
       "\\item[373] 3\n",
       "\\item[374] 3\n",
       "\\item[378] 3\n",
       "\\item[380] 3\n",
       "\\end{description*}\n"
      ],
      "text/markdown": [
       "323\n",
       ":   3338\n",
       ":   3340\n",
       ":   3343\n",
       ":   4344\n",
       ":   4345\n",
       ":   4347\n",
       ":   5348\n",
       ":   4353\n",
       ":   3357\n",
       ":   4358\n",
       ":   3359\n",
       ":   3360\n",
       ":   3361\n",
       ":   4362\n",
       ":   4364\n",
       ":   3368\n",
       ":   3370\n",
       ":   4373\n",
       ":   3374\n",
       ":   3378\n",
       ":   3380\n",
       ":   3\n",
       "\n"
      ],
      "text/plain": [
       "323 338 340 343 344 345 347 348 353 357 358 359 360 361 362 364 368 370 373 374 \n",
       "  3   3   3   4   4   4   5   4   3   4   3   3   3   4   4   3   3   4   3   3 \n",
       "378 380 \n",
       "  3   3 "
      ]
     },
     "metadata": {},
     "output_type": "display_data"
    }
   ],
   "source": [
    "na_rows = rowSums(!is.na(patient_cycle))\n",
    "\n",
    "na_rows[which(na_rows > 2)]"
   ]
  },
  {
   "cell_type": "code",
   "execution_count": null,
   "metadata": {},
   "outputs": [],
   "source": []
  }
 ],
 "metadata": {
  "kernelspec": {
   "display_name": "R",
   "language": "R",
   "name": "ir"
  },
  "language_info": {
   "codemirror_mode": "r",
   "file_extension": ".r",
   "mimetype": "text/x-r-source",
   "name": "R",
   "pygments_lexer": "r",
   "version": "3.5.1"
  },
  "toc": {
   "base_numbering": 1,
   "nav_menu": {},
   "number_sections": false,
   "sideBar": true,
   "skip_h1_title": false,
   "title_cell": "Table of Contents",
   "title_sidebar": "Contents",
   "toc_cell": true,
   "toc_position": {},
   "toc_section_display": true,
   "toc_window_display": false
  }
 },
 "nbformat": 4,
 "nbformat_minor": 2
}
