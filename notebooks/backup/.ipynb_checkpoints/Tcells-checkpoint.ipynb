{
 "cells": [
  {
   "cell_type": "markdown",
   "metadata": {
    "toc": true
   },
   "source": [
    "<h1>Table of Contents<span class=\"tocSkip\"></span></h1>\n",
    "<div class=\"toc\"><ul class=\"toc-item\"><li><span><a href=\"#FUNCTION-heatmap-ofT-cell-subsets\" data-toc-modified-id=\"FUNCTION-heatmap-ofT-cell-subsets-1\"><span class=\"toc-item-num\">1&nbsp;&nbsp;</span>FUNCTION heatmap ofT cell subsets</a></span><ul class=\"toc-item\"><li><ul class=\"toc-item\"><li><span><a href=\"#Heatmap-T-cell-subsets\" data-toc-modified-id=\"Heatmap-T-cell-subsets-1.0.1\"><span class=\"toc-item-num\">1.0.1&nbsp;&nbsp;</span>Heatmap T-cell subsets</a></span></li></ul></li></ul></li></ul></div>"
   ]
  },
  {
   "cell_type": "code",
   "execution_count": 1,
   "metadata": {},
   "outputs": [
    {
     "name": "stderr",
     "output_type": "stream",
     "text": [
      "Warning message:\n",
      "“package ‘ggplot2’ was built under R version 3.5.2”Loading required package: grid\n",
      "========================================\n",
      "ComplexHeatmap version 1.99.5\n",
      "Bioconductor page: http://bioconductor.org/packages/ComplexHeatmap/\n",
      "Github page: https://github.com/jokergoo/ComplexHeatmap\n",
      "Documentation: http://jokergoo.github.io/ComplexHeatmap-reference\n",
      "\n",
      "If you use it in published research, please cite:\n",
      "Gu, Z. Complex heatmaps reveal patterns and correlations in multidimensional \n",
      "  genomic data. Bioinformatics 2016.\n",
      "========================================\n",
      "\n",
      "This version is a major update of the package. The major new features are:\n",
      "\n",
      "1. Support splitting heatmaps by columns.\n",
      "2. Support concatenating heatmaps/annotations vertically.\n",
      "3. Provide more types of heatmap annotations.\n",
      "4. Support UpSet plot.\n",
      "\n",
      "Note this version is not 100% compatible with the older versions (< 1.99.0).\n",
      "Please check by `vignette('difference_to_old_versions', package = 'ComplexHeatmap')`.\n",
      "\n",
      "Above messages will be removed in the future.\n",
      "\n",
      "Warning message:\n",
      "“package ‘circlize’ was built under R version 3.5.2”========================================\n",
      "circlize version 0.4.8\n",
      "CRAN page: https://cran.r-project.org/package=circlize\n",
      "Github page: https://github.com/jokergoo/circlize\n",
      "Documentation: http://jokergoo.github.io/circlize_book/book/\n",
      "\n",
      "If you use it in published research, please cite:\n",
      "Gu, Z. circlize implements and enhances circular visualization \n",
      "  in R. Bioinformatics 2014.\n",
      "========================================\n",
      "\n"
     ]
    }
   ],
   "source": [
    "library(ggplot2)\n",
    "library(gridExtra)\n",
    "library(ComplexHeatmap)\n",
    "library(circlize)"
   ]
  },
  {
   "cell_type": "code",
   "execution_count": 2,
   "metadata": {},
   "outputs": [],
   "source": [
    "plotpath <- \"/Users/anabbi/OneDrive - UHN/Documents/INTERCEPT/Plots/\"\n",
    "datapath <- \"/Users/anabbi/OneDrive - UHN/Documents/INTERCEPT/Data/\""
   ]
  },
  {
   "cell_type": "markdown",
   "metadata": {},
   "source": [
    "# FUNCTION heatmap ofT cell subsets"
   ]
  },
  {
   "cell_type": "code",
   "execution_count": 45,
   "metadata": {},
   "outputs": [],
   "source": [
    "masterfile <- read.csv(paste(datapath, \"ATC_Tcells_NCR.csv\", sep = \"\"),\n",
    "                 header = T, \n",
    "                 check.names = F)"
   ]
  },
  {
   "cell_type": "code",
   "execution_count": 43,
   "metadata": {},
   "outputs": [
    {
     "name": "stderr",
     "output_type": "stream",
     "text": [
      "Warning message in eval(expr, envir, enclos):\n",
      "“NAs introduced by coercion”"
     ]
    }
   ],
   "source": [
    "masterfile$FOLD <- as.numeric(as.character(masterfile$FOLD))"
   ]
  },
  {
   "cell_type": "code",
   "execution_count": 55,
   "metadata": {},
   "outputs": [
    {
     "name": "stderr",
     "output_type": "stream",
     "text": [
      "Warning message in eval(expr, envir, enclos):\n",
      "“NAs introduced by coercion”"
     ]
    }
   ],
   "source": [
    "masterfile$FOLD <- as.numeric(as.character(masterfile$FOLD))"
   ]
  },
  {
   "cell_type": "code",
   "execution_count": 56,
   "metadata": {},
   "outputs": [],
   "source": [
    "masterfile$FOLD[is.na(masterfile$FOLD)] <- 0"
   ]
  },
  {
   "cell_type": "code",
   "execution_count": 63,
   "metadata": {},
   "outputs": [
    {
     "data": {
      "text/html": [
       "873.8"
      ],
      "text/latex": [
       "873.8"
      ],
      "text/markdown": [
       "873.8"
      ],
      "text/plain": [
       "[1] 873.8"
      ]
     },
     "metadata": {},
     "output_type": "display_data"
    }
   ],
   "source": [
    "sum(masterfile$FOLD)"
   ]
  },
  {
   "cell_type": "code",
   "execution_count": 70,
   "metadata": {},
   "outputs": [],
   "source": [
    "heatmap_Tcells_fx <- function(datapath, patient, cyclelist, plotpath){\n",
    "    masterdf <- read.csv(paste(datapath, \"ATC_Tcells_NCR.csv\", sep = \"\"),\n",
    "                 header = T, \n",
    "                 check.names = F)\n",
    "\n",
    "    mypt <- masterdf[masterdf$Patient == patient,]                     \n",
    "    mypt_mycycles <- mypt[mypt$cycle %in% cyclelist,]\n",
    "    \n",
    "    mypt_mycycles$FOLD <- as.numeric(as.character(mypt_mycycles$FOLD))\n",
    "    mypt_mycycles$FOLD[is.na(mypt_mycycles$FOLD)] <- 0\n",
    "    \n",
    "    \n",
    "    rownames(mypt_mycycles) <- mypt_mycycles$cycle                    \n",
    "    Tcellmat <- as.matrix(mypt_mycycles[,c(\"EM%\", \"CM%\", \"Naïve%\",\n",
    "                                           \"SCM%\", \"TE%\")])   \n",
    "                  \n",
    "    col_fun = colorRamp2(c(0, 50, 100), \n",
    "                         c(\"white\",\"#ef6548\",\"#7f0000\"))\n",
    "\n",
    "    anno_CD3 = HeatmapAnnotation(AbsoluteCount = anno_barplot((mypt_mycycles$ATC), height = unit(2,\"cm\")),\n",
    "                                TotalCD3 = anno_barplot((mypt_mycycles$CD3.x), height = unit(2,\"cm\")),\n",
    "                                TEfold = anno_barplot((mypt_mycycles$FOLD), height = unit(2,\"cm\")),\n",
    "                                gap = unit(5, \"mm\"))\n",
    "\n",
    "    heatmap_tcells = Heatmap(t(Tcellmat),\n",
    "                          top_annotation = anno_CD3,\n",
    "                          name = \"T-cells\",\n",
    "                          column_title = paste(patient, unique(mypt_mycycles$Disease_type.x), sep = \"_\"),                             \n",
    "                          col = col_fun,\n",
    "                          #format rows\n",
    "                          row_names_gp = gpar(fontsize = 15),                      \n",
    "                          cluster_rows = FALSE,\n",
    "                          show_row_dend = FALSE,                      \n",
    "                          #format cols\n",
    "                          cluster_columns = FALSE,\n",
    "                          column_names_gp = gpar(fontsize = 15), \n",
    "                          rect_gp = gpar(col = \"black\"), \n",
    "                          #legend\n",
    "                          show_heatmap_legend = TRUE,\n",
    "                          width = unit(length(cyclelist), \"cm\"),\n",
    "                          height = unit(5, \"cm\"),\n",
    "                          heatmap_legend_param = list(labels_gp = gpar(fontsize = 12)))\n",
    "#    draw(heatmap_tcells)\n",
    "    pdf(file = paste(plotpath, \"heatmap_Tcells_\", patient, \".pdf\", sep = \"\"),\n",
    "                     width = 10, \n",
    "                     height = 10,\n",
    "                     useDingbats = FALSE)\n",
    "    print(heatmap_tcells)\n",
    "    dev.off()\n",
    "                         \n",
    "}"
   ]
  },
  {
   "cell_type": "markdown",
   "metadata": {},
   "source": [
    "### Heatmap T-cell subsets"
   ]
  },
  {
   "cell_type": "code",
   "execution_count": 71,
   "metadata": {},
   "outputs": [
    {
     "data": {
      "text/html": [
       "<strong>pdf:</strong> 2"
      ],
      "text/latex": [
       "\\textbf{pdf:} 2"
      ],
      "text/markdown": [
       "**pdf:** 2"
      ],
      "text/plain": [
       "pdf \n",
       "  2 "
      ]
     },
     "metadata": {},
     "output_type": "display_data"
    }
   ],
   "source": [
    "heatmap_Tcells_fx(datapath, \"358\", c(1,3,5), plotpath)"
   ]
  },
  {
   "cell_type": "code",
   "execution_count": 72,
   "metadata": {},
   "outputs": [
    {
     "data": {
      "text/html": [
       "<strong>pdf:</strong> 2"
      ],
      "text/latex": [
       "\\textbf{pdf:} 2"
      ],
      "text/markdown": [
       "**pdf:** 2"
      ],
      "text/plain": [
       "pdf \n",
       "  2 "
      ]
     },
     "metadata": {},
     "output_type": "display_data"
    }
   ],
   "source": [
    "heatmap_Tcells_fx(datapath, \"364\", c(1,2,4), plotpath)"
   ]
  },
  {
   "cell_type": "code",
   "execution_count": 73,
   "metadata": {},
   "outputs": [
    {
     "data": {
      "text/html": [
       "<strong>pdf:</strong> 2"
      ],
      "text/latex": [
       "\\textbf{pdf:} 2"
      ],
      "text/markdown": [
       "**pdf:** 2"
      ],
      "text/plain": [
       "pdf \n",
       "  2 "
      ]
     },
     "metadata": {},
     "output_type": "display_data"
    }
   ],
   "source": [
    "heatmap_Tcells_fx(datapath, \"348\", c(1,2,3,4), plotpath)"
   ]
  },
  {
   "cell_type": "code",
   "execution_count": 74,
   "metadata": {},
   "outputs": [
    {
     "data": {
      "text/html": [
       "<strong>pdf:</strong> 2"
      ],
      "text/latex": [
       "\\textbf{pdf:} 2"
      ],
      "text/markdown": [
       "**pdf:** 2"
      ],
      "text/plain": [
       "pdf \n",
       "  2 "
      ]
     },
     "metadata": {},
     "output_type": "display_data"
    }
   ],
   "source": [
    "heatmap_Tcells_fx(datapath, \"343\", c(2,3,4,5), plotpath)"
   ]
  },
  {
   "cell_type": "code",
   "execution_count": 75,
   "metadata": {},
   "outputs": [
    {
     "data": {
      "text/html": [
       "<strong>pdf:</strong> 2"
      ],
      "text/latex": [
       "\\textbf{pdf:} 2"
      ],
      "text/markdown": [
       "**pdf:** 2"
      ],
      "text/plain": [
       "pdf \n",
       "  2 "
      ]
     },
     "metadata": {},
     "output_type": "display_data"
    }
   ],
   "source": [
    "heatmap_Tcells_fx(datapath, \"361\", c(1,2,3), plotpath)"
   ]
  },
  {
   "cell_type": "code",
   "execution_count": 76,
   "metadata": {},
   "outputs": [
    {
     "data": {
      "text/html": [
       "<strong>pdf:</strong> 2"
      ],
      "text/latex": [
       "\\textbf{pdf:} 2"
      ],
      "text/markdown": [
       "**pdf:** 2"
      ],
      "text/plain": [
       "pdf \n",
       "  2 "
      ]
     },
     "metadata": {},
     "output_type": "display_data"
    }
   ],
   "source": [
    "heatmap_Tcells_fx(datapath, \"350\", c(1,2,3), plotpath)"
   ]
  },
  {
   "cell_type": "code",
   "execution_count": 77,
   "metadata": {},
   "outputs": [
    {
     "data": {
      "text/html": [
       "<strong>pdf:</strong> 2"
      ],
      "text/latex": [
       "\\textbf{pdf:} 2"
      ],
      "text/markdown": [
       "**pdf:** 2"
      ],
      "text/plain": [
       "pdf \n",
       "  2 "
      ]
     },
     "metadata": {},
     "output_type": "display_data"
    }
   ],
   "source": [
    "heatmap_Tcells_fx(datapath, \"352\", c(1,2,3), plotpath)"
   ]
  },
  {
   "cell_type": "code",
   "execution_count": 78,
   "metadata": {},
   "outputs": [
    {
     "data": {
      "text/html": [
       "<strong>pdf:</strong> 2"
      ],
      "text/latex": [
       "\\textbf{pdf:} 2"
      ],
      "text/markdown": [
       "**pdf:** 2"
      ],
      "text/plain": [
       "pdf \n",
       "  2 "
      ]
     },
     "metadata": {},
     "output_type": "display_data"
    }
   ],
   "source": [
    "heatmap_Tcells_fx(datapath, \"349\", c(1,2,3), plotpath)"
   ]
  },
  {
   "cell_type": "code",
   "execution_count": null,
   "metadata": {},
   "outputs": [],
   "source": []
  }
 ],
 "metadata": {
  "kernelspec": {
   "display_name": "R",
   "language": "R",
   "name": "ir"
  },
  "language_info": {
   "codemirror_mode": "r",
   "file_extension": ".r",
   "mimetype": "text/x-r-source",
   "name": "R",
   "pygments_lexer": "r",
   "version": "3.5.1"
  },
  "toc": {
   "base_numbering": 1,
   "nav_menu": {},
   "number_sections": true,
   "sideBar": true,
   "skip_h1_title": false,
   "title_cell": "Table of Contents",
   "title_sidebar": "Contents",
   "toc_cell": true,
   "toc_position": {},
   "toc_section_display": true,
   "toc_window_display": false
  }
 },
 "nbformat": 4,
 "nbformat_minor": 2
}
