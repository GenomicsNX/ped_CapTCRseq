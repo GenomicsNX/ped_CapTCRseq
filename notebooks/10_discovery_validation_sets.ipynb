{
 "cells": [
  {
   "cell_type": "markdown",
   "metadata": {},
   "source": [
    "# Dependencies"
   ]
  },
  {
   "cell_type": "code",
   "execution_count": 23,
   "metadata": {
    "vscode": {
     "languageId": "r"
    }
   },
   "outputs": [],
   "source": [
    "pacman::p_load(dplyr)"
   ]
  },
  {
   "cell_type": "markdown",
   "metadata": {},
   "source": [
    "# Functions"
   ]
  },
  {
   "cell_type": "code",
   "execution_count": 24,
   "metadata": {
    "vscode": {
     "languageId": "r"
    }
   },
   "outputs": [],
   "source": [
    "source(\"/Users/anabbi/git/ped_CapTCRseq/R/ggplot2_theme.R\")\n",
    "source(\"/Users/anabbi/git/ped_CapTCRseq/R/color_schemes.R\")"
   ]
  },
  {
   "cell_type": "markdown",
   "metadata": {},
   "source": [
    "# Paths"
   ]
  },
  {
   "cell_type": "code",
   "execution_count": 25,
   "metadata": {
    "vscode": {
     "languageId": "r"
    }
   },
   "outputs": [],
   "source": [
    "datapath <- \"/Users/anabbi/OneDrive - UHN/Documents/INTERCEPT/Data/\"\n",
    "plotpath <- \"/Users/anabbi/OneDrive - UHN/Documents/INTERCEPT/Plots/\"\n",
    "manifestpath <- \"/Users/anabbi/OneDrive - UHN/Documents/INTERCEPT/Manifests/\"\n",
    "gitpath <- \"/Users/anabbi/git/ped_CapTCRseq/\""
   ]
  },
  {
   "cell_type": "code",
   "execution_count": 26,
   "metadata": {
    "vscode": {
     "languageId": "r"
    }
   },
   "outputs": [],
   "source": [
    "h4hpath <- \"/Users/anabbi/Desktop/H4H/INTERCEPT/\""
   ]
  },
  {
   "cell_type": "markdown",
   "metadata": {},
   "source": [
    "# Main"
   ]
  },
  {
   "attachments": {},
   "cell_type": "markdown",
   "metadata": {},
   "source": [
    "bind all metadata"
   ]
  },
  {
   "cell_type": "code",
   "execution_count": 27,
   "metadata": {
    "vscode": {
     "languageId": "r"
    }
   },
   "outputs": [],
   "source": [
    "meta_div <- readr::read_rds(file = paste0(datapath,\"capTCRseq/meta_div_goodsamples.rds\"))"
   ]
  },
  {
   "cell_type": "code",
   "execution_count": 28,
   "metadata": {
    "vscode": {
     "languageId": "r"
    }
   },
   "outputs": [],
   "source": [
    "allAdaptive <- readr::read_rds(file = paste0(datapath, \"Adaptivedatasets/allAdaptive_good.rds\"))"
   ]
  },
  {
   "cell_type": "code",
   "execution_count": 29,
   "metadata": {
    "vscode": {
     "languageId": "r"
    }
   },
   "outputs": [],
   "source": [
    "# remove those with no TCR data\n",
    "meta_div <- meta_div[ !is.na(meta_div$file),]"
   ]
  },
  {
   "cell_type": "code",
   "execution_count": 30,
   "metadata": {
    "vscode": {
     "languageId": "r"
    }
   },
   "outputs": [],
   "source": [
    "meta_div$study <- \"INTERCEPT\"\n",
    "meta_div$Agegroup <- \"Child\"\n",
    "meta_div$Sex <- NA\n",
    "meta_div$disease <- meta_div$cancergroup\n",
    "meta_div$sample_name <- meta_div$basename"
   ]
  },
  {
   "cell_type": "code",
   "execution_count": 31,
   "metadata": {
    "vscode": {
     "languageId": "r"
    }
   },
   "outputs": [],
   "source": [
    "allAdaptive$sampletype <- \"PBMC\"\n",
    "allAdaptive$sampletype[grepl(\"Cord\", allAdaptive$sample_name )] <- \"Cord blood\""
   ]
  },
  {
   "cell_type": "code",
   "execution_count": 32,
   "metadata": {
    "vscode": {
     "languageId": "r"
    }
   },
   "outputs": [
    {
     "data": {
      "text/html": [
       "<table class=\"dataframe\">\n",
       "<caption>A data.frame: 6 x 8</caption>\n",
       "<thead>\n",
       "\t<tr><th></th><th scope=col>sample_name</th><th scope=col>study</th><th scope=col>Agegroup</th><th scope=col>Sex</th><th scope=col>disease</th><th scope=col>subject</th><th scope=col>age</th><th scope=col>sampletype</th></tr>\n",
       "\t<tr><th></th><th scope=col>&lt;chr&gt;</th><th scope=col>&lt;chr&gt;</th><th scope=col>&lt;chr&gt;</th><th scope=col>&lt;chr&gt;</th><th scope=col>&lt;chr&gt;</th><th scope=col>&lt;chr&gt;</th><th scope=col>&lt;dbl&gt;</th><th scope=col>&lt;chr&gt;</th></tr>\n",
       "</thead>\n",
       "<tbody>\n",
       "\t<tr><th scope=row>21</th><td>Peds_Ctrl_2        </td><td>Henderson</td><td>Child</td><td>NA</td><td>Peds healthy Control</td><td>Peds_Ctrl_2        </td><td>NA</td><td>PBMC</td></tr>\n",
       "\t<tr><th scope=row>22</th><td>MAS_3              </td><td>Henderson</td><td>Child</td><td>NA</td><td>MAS                 </td><td>MAS_3              </td><td>NA</td><td>PBMC</td></tr>\n",
       "\t<tr><th scope=row>23</th><td>Peds_Febrile_Ctrl_3</td><td>Henderson</td><td>Child</td><td>NA</td><td>Peds febrile Control</td><td>Peds_Febrile_Ctrl_3</td><td>NA</td><td>PBMC</td></tr>\n",
       "\t<tr><th scope=row>25</th><td>KD_4               </td><td>Henderson</td><td>Child</td><td>NA</td><td>KD                  </td><td>KD_4               </td><td>NA</td><td>PBMC</td></tr>\n",
       "\t<tr><th scope=row>26</th><td>KD_3               </td><td>Henderson</td><td>Child</td><td>NA</td><td>KD                  </td><td>KD_3               </td><td>NA</td><td>PBMC</td></tr>\n",
       "\t<tr><th scope=row>29</th><td>sJIA_7             </td><td>Henderson</td><td>Child</td><td>NA</td><td>sJIA                </td><td>sJIA_7             </td><td>NA</td><td>PBMC</td></tr>\n",
       "</tbody>\n",
       "</table>\n"
      ],
      "text/latex": [
       "A data.frame: 6 x 8\n",
       "\\begin{tabular}{r|llllllll}\n",
       "  & sample\\_name & study & Agegroup & Sex & disease & subject & age & sampletype\\\\\n",
       "  & <chr> & <chr> & <chr> & <chr> & <chr> & <chr> & <dbl> & <chr>\\\\\n",
       "\\hline\n",
       "\t21 & Peds\\_Ctrl\\_2         & Henderson & Child & NA & Peds healthy Control & Peds\\_Ctrl\\_2         & NA & PBMC\\\\\n",
       "\t22 & MAS\\_3               & Henderson & Child & NA & MAS                  & MAS\\_3               & NA & PBMC\\\\\n",
       "\t23 & Peds\\_Febrile\\_Ctrl\\_3 & Henderson & Child & NA & Peds febrile Control & Peds\\_Febrile\\_Ctrl\\_3 & NA & PBMC\\\\\n",
       "\t25 & KD\\_4                & Henderson & Child & NA & KD                   & KD\\_4                & NA & PBMC\\\\\n",
       "\t26 & KD\\_3                & Henderson & Child & NA & KD                   & KD\\_3                & NA & PBMC\\\\\n",
       "\t29 & sJIA\\_7              & Henderson & Child & NA & sJIA                 & sJIA\\_7              & NA & PBMC\\\\\n",
       "\\end{tabular}\n"
      ],
      "text/markdown": [
       "\n",
       "A data.frame: 6 x 8\n",
       "\n",
       "| <!--/--> | sample_name &lt;chr&gt; | study &lt;chr&gt; | Agegroup &lt;chr&gt; | Sex &lt;chr&gt; | disease &lt;chr&gt; | subject &lt;chr&gt; | age &lt;dbl&gt; | sampletype &lt;chr&gt; |\n",
       "|---|---|---|---|---|---|---|---|---|\n",
       "| 21 | Peds_Ctrl_2         | Henderson | Child | NA | Peds healthy Control | Peds_Ctrl_2         | NA | PBMC |\n",
       "| 22 | MAS_3               | Henderson | Child | NA | MAS                  | MAS_3               | NA | PBMC |\n",
       "| 23 | Peds_Febrile_Ctrl_3 | Henderson | Child | NA | Peds febrile Control | Peds_Febrile_Ctrl_3 | NA | PBMC |\n",
       "| 25 | KD_4                | Henderson | Child | NA | KD                   | KD_4                | NA | PBMC |\n",
       "| 26 | KD_3                | Henderson | Child | NA | KD                   | KD_3                | NA | PBMC |\n",
       "| 29 | sJIA_7              | Henderson | Child | NA | sJIA                 | sJIA_7              | NA | PBMC |\n",
       "\n"
      ],
      "text/plain": [
       "   sample_name         study     Agegroup Sex disease             \n",
       "21 Peds_Ctrl_2         Henderson Child    NA  Peds healthy Control\n",
       "22 MAS_3               Henderson Child    NA  MAS                 \n",
       "23 Peds_Febrile_Ctrl_3 Henderson Child    NA  Peds febrile Control\n",
       "25 KD_4                Henderson Child    NA  KD                  \n",
       "26 KD_3                Henderson Child    NA  KD                  \n",
       "29 sJIA_7              Henderson Child    NA  sJIA                \n",
       "   subject             age sampletype\n",
       "21 Peds_Ctrl_2         NA  PBMC      \n",
       "22 MAS_3               NA  PBMC      \n",
       "23 Peds_Febrile_Ctrl_3 NA  PBMC      \n",
       "25 KD_4                NA  PBMC      \n",
       "26 KD_3                NA  PBMC      \n",
       "29 sJIA_7              NA  PBMC      "
      ]
     },
     "metadata": {},
     "output_type": "display_data"
    }
   ],
   "source": [
    "head(allAdaptive)"
   ]
  },
  {
   "cell_type": "code",
   "execution_count": 33,
   "metadata": {
    "vscode": {
     "languageId": "r"
    }
   },
   "outputs": [],
   "source": [
    "# replace age with Age in allAdative\n",
    "colnames(allAdaptive)[colnames(allAdaptive) == \"age\"] <- \"Age\"\n",
    "# subject in allAdaptive is the same as Patient in meta_div\n",
    "colnames(allAdaptive)[colnames(allAdaptive) == \"subject\"] <- \"Patient\""
   ]
  },
  {
   "cell_type": "code",
   "execution_count": 34,
   "metadata": {
    "vscode": {
     "languageId": "r"
    }
   },
   "outputs": [],
   "source": [
    "mycols <- intersect(colnames(meta_div), colnames(allAdaptive))"
   ]
  },
  {
   "cell_type": "code",
   "execution_count": 35,
   "metadata": {
    "vscode": {
     "languageId": "r"
    }
   },
   "outputs": [
    {
     "data": {
      "text/html": [
       "<style>\n",
       ".list-inline {list-style: none; margin:0; padding: 0}\n",
       ".list-inline>li {display: inline-block}\n",
       ".list-inline>li:not(:last-child)::after {content: \"\\00b7\"; padding: 0 .5ex}\n",
       "</style>\n",
       "<ol class=list-inline><li>'Patient'</li><li>'Age'</li><li>'sampletype'</li><li>'study'</li><li>'Agegroup'</li><li>'Sex'</li><li>'disease'</li><li>'sample_name'</li></ol>\n"
      ],
      "text/latex": [
       "\\begin{enumerate*}\n",
       "\\item 'Patient'\n",
       "\\item 'Age'\n",
       "\\item 'sampletype'\n",
       "\\item 'study'\n",
       "\\item 'Agegroup'\n",
       "\\item 'Sex'\n",
       "\\item 'disease'\n",
       "\\item 'sample\\_name'\n",
       "\\end{enumerate*}\n"
      ],
      "text/markdown": [
       "1. 'Patient'\n",
       "2. 'Age'\n",
       "3. 'sampletype'\n",
       "4. 'study'\n",
       "5. 'Agegroup'\n",
       "6. 'Sex'\n",
       "7. 'disease'\n",
       "8. 'sample_name'\n",
       "\n",
       "\n"
      ],
      "text/plain": [
       "[1] \"Patient\"     \"Age\"         \"sampletype\"  \"study\"       \"Agegroup\"   \n",
       "[6] \"Sex\"         \"disease\"     \"sample_name\""
      ]
     },
     "metadata": {},
     "output_type": "display_data"
    }
   ],
   "source": [
    "mycols"
   ]
  },
  {
   "cell_type": "code",
   "execution_count": 36,
   "metadata": {
    "vscode": {
     "languageId": "r"
    }
   },
   "outputs": [],
   "source": [
    "all_metadata <- rbind(allAdaptive[,mycols], meta_div[,mycols])"
   ]
  },
  {
   "cell_type": "code",
   "execution_count": 37,
   "metadata": {
    "vscode": {
     "languageId": "r"
    }
   },
   "outputs": [
    {
     "data": {
      "text/html": [
       "<style>\n",
       ".list-inline {list-style: none; margin:0; padding: 0}\n",
       ".list-inline>li {display: inline-block}\n",
       ".list-inline>li:not(:last-child)::after {content: \"\\00b7\"; padding: 0 .5ex}\n",
       "</style>\n",
       "<ol class=list-inline><li>1677</li><li>8</li></ol>\n"
      ],
      "text/latex": [
       "\\begin{enumerate*}\n",
       "\\item 1677\n",
       "\\item 8\n",
       "\\end{enumerate*}\n"
      ],
      "text/markdown": [
       "1. 1677\n",
       "2. 8\n",
       "\n",
       "\n"
      ],
      "text/plain": [
       "[1] 1677    8"
      ]
     },
     "metadata": {},
     "output_type": "display_data"
    }
   ],
   "source": [
    "dim(all_metadata)"
   ]
  },
  {
   "cell_type": "code",
   "execution_count": 38,
   "metadata": {
    "vscode": {
     "languageId": "r"
    }
   },
   "outputs": [
    {
     "data": {
      "text/html": [
       "<table class=\"dataframe\">\n",
       "<caption>A data.frame: 6 x 8</caption>\n",
       "<thead>\n",
       "\t<tr><th></th><th scope=col>Patient</th><th scope=col>Age</th><th scope=col>sampletype</th><th scope=col>study</th><th scope=col>Agegroup</th><th scope=col>Sex</th><th scope=col>disease</th><th scope=col>sample_name</th></tr>\n",
       "\t<tr><th></th><th scope=col>&lt;chr&gt;</th><th scope=col>&lt;dbl&gt;</th><th scope=col>&lt;chr&gt;</th><th scope=col>&lt;chr&gt;</th><th scope=col>&lt;chr&gt;</th><th scope=col>&lt;chr&gt;</th><th scope=col>&lt;chr&gt;</th><th scope=col>&lt;chr&gt;</th></tr>\n",
       "</thead>\n",
       "<tbody>\n",
       "\t<tr><th scope=row>21</th><td>Peds_Ctrl_2        </td><td>NA</td><td>PBMC</td><td>Henderson</td><td>Child</td><td>NA</td><td>Peds healthy Control</td><td>Peds_Ctrl_2        </td></tr>\n",
       "\t<tr><th scope=row>22</th><td>MAS_3              </td><td>NA</td><td>PBMC</td><td>Henderson</td><td>Child</td><td>NA</td><td>MAS                 </td><td>MAS_3              </td></tr>\n",
       "\t<tr><th scope=row>23</th><td>Peds_Febrile_Ctrl_3</td><td>NA</td><td>PBMC</td><td>Henderson</td><td>Child</td><td>NA</td><td>Peds febrile Control</td><td>Peds_Febrile_Ctrl_3</td></tr>\n",
       "\t<tr><th scope=row>25</th><td>KD_4               </td><td>NA</td><td>PBMC</td><td>Henderson</td><td>Child</td><td>NA</td><td>KD                  </td><td>KD_4               </td></tr>\n",
       "\t<tr><th scope=row>26</th><td>KD_3               </td><td>NA</td><td>PBMC</td><td>Henderson</td><td>Child</td><td>NA</td><td>KD                  </td><td>KD_3               </td></tr>\n",
       "\t<tr><th scope=row>29</th><td>sJIA_7             </td><td>NA</td><td>PBMC</td><td>Henderson</td><td>Child</td><td>NA</td><td>sJIA                </td><td>sJIA_7             </td></tr>\n",
       "</tbody>\n",
       "</table>\n"
      ],
      "text/latex": [
       "A data.frame: 6 x 8\n",
       "\\begin{tabular}{r|llllllll}\n",
       "  & Patient & Age & sampletype & study & Agegroup & Sex & disease & sample\\_name\\\\\n",
       "  & <chr> & <dbl> & <chr> & <chr> & <chr> & <chr> & <chr> & <chr>\\\\\n",
       "\\hline\n",
       "\t21 & Peds\\_Ctrl\\_2         & NA & PBMC & Henderson & Child & NA & Peds healthy Control & Peds\\_Ctrl\\_2        \\\\\n",
       "\t22 & MAS\\_3               & NA & PBMC & Henderson & Child & NA & MAS                  & MAS\\_3              \\\\\n",
       "\t23 & Peds\\_Febrile\\_Ctrl\\_3 & NA & PBMC & Henderson & Child & NA & Peds febrile Control & Peds\\_Febrile\\_Ctrl\\_3\\\\\n",
       "\t25 & KD\\_4                & NA & PBMC & Henderson & Child & NA & KD                   & KD\\_4               \\\\\n",
       "\t26 & KD\\_3                & NA & PBMC & Henderson & Child & NA & KD                   & KD\\_3               \\\\\n",
       "\t29 & sJIA\\_7              & NA & PBMC & Henderson & Child & NA & sJIA                 & sJIA\\_7             \\\\\n",
       "\\end{tabular}\n"
      ],
      "text/markdown": [
       "\n",
       "A data.frame: 6 x 8\n",
       "\n",
       "| <!--/--> | Patient &lt;chr&gt; | Age &lt;dbl&gt; | sampletype &lt;chr&gt; | study &lt;chr&gt; | Agegroup &lt;chr&gt; | Sex &lt;chr&gt; | disease &lt;chr&gt; | sample_name &lt;chr&gt; |\n",
       "|---|---|---|---|---|---|---|---|---|\n",
       "| 21 | Peds_Ctrl_2         | NA | PBMC | Henderson | Child | NA | Peds healthy Control | Peds_Ctrl_2         |\n",
       "| 22 | MAS_3               | NA | PBMC | Henderson | Child | NA | MAS                  | MAS_3               |\n",
       "| 23 | Peds_Febrile_Ctrl_3 | NA | PBMC | Henderson | Child | NA | Peds febrile Control | Peds_Febrile_Ctrl_3 |\n",
       "| 25 | KD_4                | NA | PBMC | Henderson | Child | NA | KD                   | KD_4                |\n",
       "| 26 | KD_3                | NA | PBMC | Henderson | Child | NA | KD                   | KD_3                |\n",
       "| 29 | sJIA_7              | NA | PBMC | Henderson | Child | NA | sJIA                 | sJIA_7              |\n",
       "\n"
      ],
      "text/plain": [
       "   Patient             Age sampletype study     Agegroup Sex\n",
       "21 Peds_Ctrl_2         NA  PBMC       Henderson Child    NA \n",
       "22 MAS_3               NA  PBMC       Henderson Child    NA \n",
       "23 Peds_Febrile_Ctrl_3 NA  PBMC       Henderson Child    NA \n",
       "25 KD_4                NA  PBMC       Henderson Child    NA \n",
       "26 KD_3                NA  PBMC       Henderson Child    NA \n",
       "29 sJIA_7              NA  PBMC       Henderson Child    NA \n",
       "   disease              sample_name        \n",
       "21 Peds healthy Control Peds_Ctrl_2        \n",
       "22 MAS                  MAS_3              \n",
       "23 Peds febrile Control Peds_Febrile_Ctrl_3\n",
       "25 KD                   KD_4               \n",
       "26 KD                   KD_3               \n",
       "29 sJIA                 sJIA_7             "
      ]
     },
     "metadata": {},
     "output_type": "display_data"
    }
   ],
   "source": [
    "head(all_metadata)"
   ]
  },
  {
   "cell_type": "code",
   "execution_count": 39,
   "metadata": {
    "vscode": {
     "languageId": "r"
    }
   },
   "outputs": [
    {
     "data": {
      "text/plain": [
       "\n",
       "        Emerson       Henderson       INTERCEPT        Mitchell Mitchell_Denver \n",
       "            773              25             545             203             131 "
      ]
     },
     "metadata": {},
     "output_type": "display_data"
    }
   ],
   "source": [
    "table(all_metadata$study)"
   ]
  },
  {
   "cell_type": "code",
   "execution_count": 40,
   "metadata": {
    "vscode": {
     "languageId": "r"
    }
   },
   "outputs": [],
   "source": [
    "#save all_metadata\n",
    "readr::write_rds(all_metadata, file = paste0(datapath, \"all_metadata_good.rds\"))"
   ]
  },
  {
   "attachments": {},
   "cell_type": "markdown",
   "metadata": {},
   "source": [
    "## All PBMC data"
   ]
  },
  {
   "cell_type": "code",
   "execution_count": 41,
   "metadata": {
    "vscode": {
     "languageId": "r"
    }
   },
   "outputs": [],
   "source": [
    "# remove cfDNA samples\n",
    "all_metadata_pbmc <- all_metadata[!grepl(\"cfDNA\", all_metadata$sample_name),]\n",
    "\n",
    "all_metadata_pbmc <- all_metadata_pbmc[!grepl(\"FFPE\", all_metadata_pbmc$sample_name),]"
   ]
  },
  {
   "cell_type": "code",
   "execution_count": 42,
   "metadata": {
    "vscode": {
     "languageId": "r"
    }
   },
   "outputs": [
    {
     "data": {
      "text/html": [
       "<style>\n",
       ".list-inline {list-style: none; margin:0; padding: 0}\n",
       ".list-inline>li {display: inline-block}\n",
       ".list-inline>li:not(:last-child)::after {content: \"\\00b7\"; padding: 0 .5ex}\n",
       "</style>\n",
       "<ol class=list-inline><li>1390</li><li>8</li></ol>\n"
      ],
      "text/latex": [
       "\\begin{enumerate*}\n",
       "\\item 1390\n",
       "\\item 8\n",
       "\\end{enumerate*}\n"
      ],
      "text/markdown": [
       "1. 1390\n",
       "2. 8\n",
       "\n",
       "\n"
      ],
      "text/plain": [
       "[1] 1390    8"
      ]
     },
     "metadata": {},
     "output_type": "display_data"
    }
   ],
   "source": [
    "dim(all_metadata_pbmc)"
   ]
  },
  {
   "cell_type": "code",
   "execution_count": 43,
   "metadata": {
    "vscode": {
     "languageId": "r"
    }
   },
   "outputs": [
    {
     "data": {
      "text/plain": [
       "\n",
       "        Emerson       Henderson       INTERCEPT        Mitchell Mitchell_Denver \n",
       "            773              25             258             203             131 "
      ]
     },
     "metadata": {},
     "output_type": "display_data"
    }
   ],
   "source": [
    "table(all_metadata_pbmc$study)"
   ]
  },
  {
   "attachments": {},
   "cell_type": "markdown",
   "metadata": {},
   "source": [
    "## Discovery set"
   ]
  },
  {
   "cell_type": "code",
   "execution_count": 44,
   "metadata": {
    "vscode": {
     "languageId": "r"
    }
   },
   "outputs": [],
   "source": [
    "discovery_metadata <- all_metadata_pbmc[ all_metadata_pbmc$study != \"Mitchell_Denver\",]"
   ]
  },
  {
   "cell_type": "code",
   "execution_count": 45,
   "metadata": {
    "vscode": {
     "languageId": "r"
    }
   },
   "outputs": [],
   "source": [
    "discovery_metadata <- discovery_metadata[ !grepl(\"Keck\", discovery_metadata$sample_name),] # emerson validation set"
   ]
  },
  {
   "cell_type": "code",
   "execution_count": 46,
   "metadata": {
    "vscode": {
     "languageId": "r"
    }
   },
   "outputs": [],
   "source": [
    "#remove carey Cord samples\n",
    "discovery_metadata <- discovery_metadata[ !grepl(\"Cord\", discovery_metadata$sample_name),]"
   ]
  },
  {
   "cell_type": "code",
   "execution_count": 47,
   "metadata": {
    "vscode": {
     "languageId": "r"
    }
   },
   "outputs": [
    {
     "data": {
      "text/html": [
       "<style>\n",
       ".list-inline {list-style: none; margin:0; padding: 0}\n",
       ".list-inline>li {display: inline-block}\n",
       ".list-inline>li:not(:last-child)::after {content: \"\\00b7\"; padding: 0 .5ex}\n",
       "</style>\n",
       "<ol class=list-inline><li>258</li><li>8</li></ol>\n"
      ],
      "text/latex": [
       "\\begin{enumerate*}\n",
       "\\item 258\n",
       "\\item 8\n",
       "\\end{enumerate*}\n"
      ],
      "text/markdown": [
       "1. 258\n",
       "2. 8\n",
       "\n",
       "\n"
      ],
      "text/plain": [
       "[1] 258   8"
      ]
     },
     "metadata": {},
     "output_type": "display_data"
    }
   ],
   "source": [
    "dim(discovery_metadata[ discovery_metadata$study == \"INTERCEPT\",])"
   ]
  },
  {
   "cell_type": "code",
   "execution_count": 48,
   "metadata": {
    "vscode": {
     "languageId": "r"
    }
   },
   "outputs": [
    {
     "data": {
      "text/html": [
       "<style>\n",
       ".list-inline {list-style: none; margin:0; padding: 0}\n",
       ".list-inline>li {display: inline-block}\n",
       ".list-inline>li:not(:last-child)::after {content: \"\\00b7\"; padding: 0 .5ex}\n",
       "</style>\n",
       "<ol class=list-inline><li>1140</li><li>8</li></ol>\n"
      ],
      "text/latex": [
       "\\begin{enumerate*}\n",
       "\\item 1140\n",
       "\\item 8\n",
       "\\end{enumerate*}\n"
      ],
      "text/markdown": [
       "1. 1140\n",
       "2. 8\n",
       "\n",
       "\n"
      ],
      "text/plain": [
       "[1] 1140    8"
      ]
     },
     "metadata": {},
     "output_type": "display_data"
    }
   ],
   "source": [
    "dim(discovery_metadata)"
   ]
  },
  {
   "attachments": {},
   "cell_type": "markdown",
   "metadata": {},
   "source": [
    "#### sample intercept study"
   ]
  },
  {
   "cell_type": "code",
   "execution_count": 49,
   "metadata": {
    "vscode": {
     "languageId": "r"
    }
   },
   "outputs": [],
   "source": [
    "# subset to INTERCEPT study\n",
    "tmp <- discovery_metadata[ discovery_metadata$study == \"INTERCEPT\",]"
   ]
  },
  {
   "cell_type": "code",
   "execution_count": 50,
   "metadata": {
    "vscode": {
     "languageId": "r"
    }
   },
   "outputs": [
    {
     "data": {
      "text/html": [
       "112"
      ],
      "text/latex": [
       "112"
      ],
      "text/markdown": [
       "112"
      ],
      "text/plain": [
       "[1] 112"
      ]
     },
     "metadata": {},
     "output_type": "display_data"
    }
   ],
   "source": [
    "length(table(tmp$Patient)) # number of patients"
   ]
  },
  {
   "cell_type": "code",
   "execution_count": 51,
   "metadata": {
    "vscode": {
     "languageId": "r"
    }
   },
   "outputs": [],
   "source": [
    "myfreq <- as.data.frame(table(tmp$Patient, tmp$disease), stringsAsFactors = F)"
   ]
  },
  {
   "cell_type": "code",
   "execution_count": 52,
   "metadata": {
    "vscode": {
     "languageId": "r"
    }
   },
   "outputs": [],
   "source": [
    "#remove zero\n",
    "myfreq <- myfreq[myfreq$Freq > 0,]"
   ]
  },
  {
   "cell_type": "code",
   "execution_count": 53,
   "metadata": {
    "vscode": {
     "languageId": "r"
    }
   },
   "outputs": [
    {
     "data": {
      "text/html": [
       "<table class=\"dataframe\">\n",
       "<caption>A data.frame: 6 x 3</caption>\n",
       "<thead>\n",
       "\t<tr><th></th><th scope=col>Var1</th><th scope=col>Var2</th><th scope=col>Freq</th></tr>\n",
       "\t<tr><th></th><th scope=col>&lt;chr&gt;</th><th scope=col>&lt;chr&gt;</th><th scope=col>&lt;int&gt;</th></tr>\n",
       "</thead>\n",
       "<tbody>\n",
       "\t<tr><th scope=row>103</th><td>LFS_TCR_4535</td><td>LFS</td><td>1</td></tr>\n",
       "\t<tr><th scope=row>104</th><td>LFS_TCR_4570</td><td>LFS</td><td>1</td></tr>\n",
       "\t<tr><th scope=row>105</th><td>LFS_TCR_4602</td><td>LFS</td><td>1</td></tr>\n",
       "\t<tr><th scope=row>106</th><td>LFS_TCR_4758</td><td>LFS</td><td>1</td></tr>\n",
       "\t<tr><th scope=row>107</th><td>LFS_TCR_4759</td><td>LFS</td><td>1</td></tr>\n",
       "\t<tr><th scope=row>108</th><td>LFS_TCR_4783</td><td>LFS</td><td>1</td></tr>\n",
       "</tbody>\n",
       "</table>\n"
      ],
      "text/latex": [
       "A data.frame: 6 x 3\n",
       "\\begin{tabular}{r|lll}\n",
       "  & Var1 & Var2 & Freq\\\\\n",
       "  & <chr> & <chr> & <int>\\\\\n",
       "\\hline\n",
       "\t103 & LFS\\_TCR\\_4535 & LFS & 1\\\\\n",
       "\t104 & LFS\\_TCR\\_4570 & LFS & 1\\\\\n",
       "\t105 & LFS\\_TCR\\_4602 & LFS & 1\\\\\n",
       "\t106 & LFS\\_TCR\\_4758 & LFS & 1\\\\\n",
       "\t107 & LFS\\_TCR\\_4759 & LFS & 1\\\\\n",
       "\t108 & LFS\\_TCR\\_4783 & LFS & 1\\\\\n",
       "\\end{tabular}\n"
      ],
      "text/markdown": [
       "\n",
       "A data.frame: 6 x 3\n",
       "\n",
       "| <!--/--> | Var1 &lt;chr&gt; | Var2 &lt;chr&gt; | Freq &lt;int&gt; |\n",
       "|---|---|---|---|\n",
       "| 103 | LFS_TCR_4535 | LFS | 1 |\n",
       "| 104 | LFS_TCR_4570 | LFS | 1 |\n",
       "| 105 | LFS_TCR_4602 | LFS | 1 |\n",
       "| 106 | LFS_TCR_4758 | LFS | 1 |\n",
       "| 107 | LFS_TCR_4759 | LFS | 1 |\n",
       "| 108 | LFS_TCR_4783 | LFS | 1 |\n",
       "\n"
      ],
      "text/plain": [
       "    Var1         Var2 Freq\n",
       "103 LFS_TCR_4535 LFS  1   \n",
       "104 LFS_TCR_4570 LFS  1   \n",
       "105 LFS_TCR_4602 LFS  1   \n",
       "106 LFS_TCR_4758 LFS  1   \n",
       "107 LFS_TCR_4759 LFS  1   \n",
       "108 LFS_TCR_4783 LFS  1   "
      ]
     },
     "metadata": {},
     "output_type": "display_data"
    }
   ],
   "source": [
    "head(myfreq)"
   ]
  },
  {
   "cell_type": "code",
   "execution_count": 54,
   "metadata": {
    "vscode": {
     "languageId": "r"
    }
   },
   "outputs": [],
   "source": [
    "# randomly select 50% of patients from each disease group regardless of how many samples each patient has\n",
    "set.seed(7)\n",
    "myfreq %>% group_by(Var2) %>% sample_frac(0.5) -> discovery_sample_freq"
   ]
  },
  {
   "cell_type": "code",
   "execution_count": 55,
   "metadata": {
    "vscode": {
     "languageId": "r"
    }
   },
   "outputs": [
    {
     "data": {
      "text/html": [
       "<table class=\"dataframe\">\n",
       "<caption>A grouped_df: 57 x 3</caption>\n",
       "<thead>\n",
       "\t<tr><th scope=col>Var1</th><th scope=col>Var2</th><th scope=col>Freq</th></tr>\n",
       "\t<tr><th scope=col>&lt;chr&gt;</th><th scope=col>&lt;chr&gt;</th><th scope=col>&lt;int&gt;</th></tr>\n",
       "</thead>\n",
       "<tbody>\n",
       "\t<tr><td>LFS_TCR_5067</td><td>LFS     </td><td>1</td></tr>\n",
       "\t<tr><td>LFS_TCR_4602</td><td>LFS     </td><td>1</td></tr>\n",
       "\t<tr><td>LFS_TCR_4837</td><td>LFS     </td><td>1</td></tr>\n",
       "\t<tr><td>LFS_TCR_4758</td><td>LFS     </td><td>1</td></tr>\n",
       "\t<tr><td>LFS_TCR_4570</td><td>LFS     </td><td>1</td></tr>\n",
       "\t<tr><td>CHP_354     </td><td>Leukemia</td><td>1</td></tr>\n",
       "\t<tr><td>CHP_377     </td><td>Leukemia</td><td>4</td></tr>\n",
       "\t<tr><td>CHP_340     </td><td>Leukemia</td><td>3</td></tr>\n",
       "\t<tr><td>CHP_328     </td><td>Leukemia</td><td>2</td></tr>\n",
       "\t<tr><td>CHP_375     </td><td>Leukemia</td><td>2</td></tr>\n",
       "\t<tr><td>CHP_406     </td><td>Leukemia</td><td>1</td></tr>\n",
       "\t<tr><td>CHP_369     </td><td>Leukemia</td><td>3</td></tr>\n",
       "\t<tr><td>CHP_417     </td><td>Leukemia</td><td>1</td></tr>\n",
       "\t<tr><td>CHP_420     </td><td>Leukemia</td><td>1</td></tr>\n",
       "\t<tr><td>CHP_349     </td><td>Leukemia</td><td>2</td></tr>\n",
       "\t<tr><td>CHP_365     </td><td>Leukemia</td><td>4</td></tr>\n",
       "\t<tr><td>CHP_388     </td><td>Leukemia</td><td>3</td></tr>\n",
       "\t<tr><td>CHP_422     </td><td>Leukemia</td><td>1</td></tr>\n",
       "\t<tr><td>CHP_338     </td><td>Leukemia</td><td>3</td></tr>\n",
       "\t<tr><td>CHP_355     </td><td>Leukemia</td><td>1</td></tr>\n",
       "\t<tr><td>CHP_410     </td><td>Leukemia</td><td>3</td></tr>\n",
       "\t<tr><td>CHP_378     </td><td>Leukemia</td><td>3</td></tr>\n",
       "\t<tr><td>CHP_367     </td><td>Leukemia</td><td>3</td></tr>\n",
       "\t<tr><td>CHP_331     </td><td>Leukemia</td><td>2</td></tr>\n",
       "\t<tr><td>CHP_347     </td><td>Leukemia</td><td>5</td></tr>\n",
       "\t<tr><td>CHP_396     </td><td>Leukemia</td><td>3</td></tr>\n",
       "\t<tr><td>CHP_405     </td><td>Leukemia</td><td>5</td></tr>\n",
       "\t<tr><td>CHP_373     </td><td>Leukemia</td><td>2</td></tr>\n",
       "\t<tr><td>CHP_324     </td><td>Leukemia</td><td>1</td></tr>\n",
       "\t<tr><td>CHP_366     </td><td>Lymphoma</td><td>4</td></tr>\n",
       "\t<tr><td>CHP_371     </td><td>Lymphoma</td><td>3</td></tr>\n",
       "\t<tr><td>CHP_380     </td><td>Lymphoma</td><td>3</td></tr>\n",
       "\t<tr><td>CHP_400     </td><td>Lymphoma</td><td>3</td></tr>\n",
       "\t<tr><td>CHP_407     </td><td>Lymphoma</td><td>3</td></tr>\n",
       "\t<tr><td>CHP_337     </td><td>Lymphoma</td><td>1</td></tr>\n",
       "\t<tr><td>CHP_415     </td><td>Lymphoma</td><td>3</td></tr>\n",
       "\t<tr><td>CHP_389     </td><td>Lymphoma</td><td>2</td></tr>\n",
       "\t<tr><td>CHP_15YO_F_A</td><td>Normal  </td><td>1</td></tr>\n",
       "\t<tr><td>CHP_5YO_M   </td><td>Normal  </td><td>1</td></tr>\n",
       "\t<tr><td>CHP_15YO_M  </td><td>Normal  </td><td>1</td></tr>\n",
       "\t<tr><td>CHP_1YO_M_B </td><td>Normal  </td><td>1</td></tr>\n",
       "\t<tr><td>CHP_2YO_M   </td><td>Normal  </td><td>1</td></tr>\n",
       "\t<tr><td>CHP_3YO_M_B </td><td>Normal  </td><td>1</td></tr>\n",
       "\t<tr><td>CHP_16YO_M  </td><td>Normal  </td><td>1</td></tr>\n",
       "\t<tr><td>CHP_356     </td><td>Solid   </td><td>3</td></tr>\n",
       "\t<tr><td>CHP_368     </td><td>Solid   </td><td>2</td></tr>\n",
       "\t<tr><td>CHP_381     </td><td>Solid   </td><td>2</td></tr>\n",
       "\t<tr><td>CHP_358     </td><td>Solid   </td><td>2</td></tr>\n",
       "\t<tr><td>CHP_335     </td><td>Solid   </td><td>1</td></tr>\n",
       "\t<tr><td>CHP_364     </td><td>Solid   </td><td>3</td></tr>\n",
       "\t<tr><td>CHP_419     </td><td>Solid   </td><td>1</td></tr>\n",
       "\t<tr><td>CHP_362     </td><td>Solid   </td><td>4</td></tr>\n",
       "\t<tr><td>CHP_374     </td><td>Solid   </td><td>3</td></tr>\n",
       "\t<tr><td>CHP_401     </td><td>Solid   </td><td>4</td></tr>\n",
       "\t<tr><td>CHP_363     </td><td>Solid   </td><td>5</td></tr>\n",
       "\t<tr><td>CHP_408     </td><td>Solid   </td><td>3</td></tr>\n",
       "\t<tr><td>CHP_351     </td><td>Solid   </td><td>1</td></tr>\n",
       "</tbody>\n",
       "</table>\n"
      ],
      "text/latex": [
       "A grouped\\_df: 57 x 3\n",
       "\\begin{tabular}{lll}\n",
       " Var1 & Var2 & Freq\\\\\n",
       " <chr> & <chr> & <int>\\\\\n",
       "\\hline\n",
       "\t LFS\\_TCR\\_5067 & LFS      & 1\\\\\n",
       "\t LFS\\_TCR\\_4602 & LFS      & 1\\\\\n",
       "\t LFS\\_TCR\\_4837 & LFS      & 1\\\\\n",
       "\t LFS\\_TCR\\_4758 & LFS      & 1\\\\\n",
       "\t LFS\\_TCR\\_4570 & LFS      & 1\\\\\n",
       "\t CHP\\_354      & Leukemia & 1\\\\\n",
       "\t CHP\\_377      & Leukemia & 4\\\\\n",
       "\t CHP\\_340      & Leukemia & 3\\\\\n",
       "\t CHP\\_328      & Leukemia & 2\\\\\n",
       "\t CHP\\_375      & Leukemia & 2\\\\\n",
       "\t CHP\\_406      & Leukemia & 1\\\\\n",
       "\t CHP\\_369      & Leukemia & 3\\\\\n",
       "\t CHP\\_417      & Leukemia & 1\\\\\n",
       "\t CHP\\_420      & Leukemia & 1\\\\\n",
       "\t CHP\\_349      & Leukemia & 2\\\\\n",
       "\t CHP\\_365      & Leukemia & 4\\\\\n",
       "\t CHP\\_388      & Leukemia & 3\\\\\n",
       "\t CHP\\_422      & Leukemia & 1\\\\\n",
       "\t CHP\\_338      & Leukemia & 3\\\\\n",
       "\t CHP\\_355      & Leukemia & 1\\\\\n",
       "\t CHP\\_410      & Leukemia & 3\\\\\n",
       "\t CHP\\_378      & Leukemia & 3\\\\\n",
       "\t CHP\\_367      & Leukemia & 3\\\\\n",
       "\t CHP\\_331      & Leukemia & 2\\\\\n",
       "\t CHP\\_347      & Leukemia & 5\\\\\n",
       "\t CHP\\_396      & Leukemia & 3\\\\\n",
       "\t CHP\\_405      & Leukemia & 5\\\\\n",
       "\t CHP\\_373      & Leukemia & 2\\\\\n",
       "\t CHP\\_324      & Leukemia & 1\\\\\n",
       "\t CHP\\_366      & Lymphoma & 4\\\\\n",
       "\t CHP\\_371      & Lymphoma & 3\\\\\n",
       "\t CHP\\_380      & Lymphoma & 3\\\\\n",
       "\t CHP\\_400      & Lymphoma & 3\\\\\n",
       "\t CHP\\_407      & Lymphoma & 3\\\\\n",
       "\t CHP\\_337      & Lymphoma & 1\\\\\n",
       "\t CHP\\_415      & Lymphoma & 3\\\\\n",
       "\t CHP\\_389      & Lymphoma & 2\\\\\n",
       "\t CHP\\_15YO\\_F\\_A & Normal   & 1\\\\\n",
       "\t CHP\\_5YO\\_M    & Normal   & 1\\\\\n",
       "\t CHP\\_15YO\\_M   & Normal   & 1\\\\\n",
       "\t CHP\\_1YO\\_M\\_B  & Normal   & 1\\\\\n",
       "\t CHP\\_2YO\\_M    & Normal   & 1\\\\\n",
       "\t CHP\\_3YO\\_M\\_B  & Normal   & 1\\\\\n",
       "\t CHP\\_16YO\\_M   & Normal   & 1\\\\\n",
       "\t CHP\\_356      & Solid    & 3\\\\\n",
       "\t CHP\\_368      & Solid    & 2\\\\\n",
       "\t CHP\\_381      & Solid    & 2\\\\\n",
       "\t CHP\\_358      & Solid    & 2\\\\\n",
       "\t CHP\\_335      & Solid    & 1\\\\\n",
       "\t CHP\\_364      & Solid    & 3\\\\\n",
       "\t CHP\\_419      & Solid    & 1\\\\\n",
       "\t CHP\\_362      & Solid    & 4\\\\\n",
       "\t CHP\\_374      & Solid    & 3\\\\\n",
       "\t CHP\\_401      & Solid    & 4\\\\\n",
       "\t CHP\\_363      & Solid    & 5\\\\\n",
       "\t CHP\\_408      & Solid    & 3\\\\\n",
       "\t CHP\\_351      & Solid    & 1\\\\\n",
       "\\end{tabular}\n"
      ],
      "text/markdown": [
       "\n",
       "A grouped_df: 57 x 3\n",
       "\n",
       "| Var1 &lt;chr&gt; | Var2 &lt;chr&gt; | Freq &lt;int&gt; |\n",
       "|---|---|---|\n",
       "| LFS_TCR_5067 | LFS      | 1 |\n",
       "| LFS_TCR_4602 | LFS      | 1 |\n",
       "| LFS_TCR_4837 | LFS      | 1 |\n",
       "| LFS_TCR_4758 | LFS      | 1 |\n",
       "| LFS_TCR_4570 | LFS      | 1 |\n",
       "| CHP_354      | Leukemia | 1 |\n",
       "| CHP_377      | Leukemia | 4 |\n",
       "| CHP_340      | Leukemia | 3 |\n",
       "| CHP_328      | Leukemia | 2 |\n",
       "| CHP_375      | Leukemia | 2 |\n",
       "| CHP_406      | Leukemia | 1 |\n",
       "| CHP_369      | Leukemia | 3 |\n",
       "| CHP_417      | Leukemia | 1 |\n",
       "| CHP_420      | Leukemia | 1 |\n",
       "| CHP_349      | Leukemia | 2 |\n",
       "| CHP_365      | Leukemia | 4 |\n",
       "| CHP_388      | Leukemia | 3 |\n",
       "| CHP_422      | Leukemia | 1 |\n",
       "| CHP_338      | Leukemia | 3 |\n",
       "| CHP_355      | Leukemia | 1 |\n",
       "| CHP_410      | Leukemia | 3 |\n",
       "| CHP_378      | Leukemia | 3 |\n",
       "| CHP_367      | Leukemia | 3 |\n",
       "| CHP_331      | Leukemia | 2 |\n",
       "| CHP_347      | Leukemia | 5 |\n",
       "| CHP_396      | Leukemia | 3 |\n",
       "| CHP_405      | Leukemia | 5 |\n",
       "| CHP_373      | Leukemia | 2 |\n",
       "| CHP_324      | Leukemia | 1 |\n",
       "| CHP_366      | Lymphoma | 4 |\n",
       "| CHP_371      | Lymphoma | 3 |\n",
       "| CHP_380      | Lymphoma | 3 |\n",
       "| CHP_400      | Lymphoma | 3 |\n",
       "| CHP_407      | Lymphoma | 3 |\n",
       "| CHP_337      | Lymphoma | 1 |\n",
       "| CHP_415      | Lymphoma | 3 |\n",
       "| CHP_389      | Lymphoma | 2 |\n",
       "| CHP_15YO_F_A | Normal   | 1 |\n",
       "| CHP_5YO_M    | Normal   | 1 |\n",
       "| CHP_15YO_M   | Normal   | 1 |\n",
       "| CHP_1YO_M_B  | Normal   | 1 |\n",
       "| CHP_2YO_M    | Normal   | 1 |\n",
       "| CHP_3YO_M_B  | Normal   | 1 |\n",
       "| CHP_16YO_M   | Normal   | 1 |\n",
       "| CHP_356      | Solid    | 3 |\n",
       "| CHP_368      | Solid    | 2 |\n",
       "| CHP_381      | Solid    | 2 |\n",
       "| CHP_358      | Solid    | 2 |\n",
       "| CHP_335      | Solid    | 1 |\n",
       "| CHP_364      | Solid    | 3 |\n",
       "| CHP_419      | Solid    | 1 |\n",
       "| CHP_362      | Solid    | 4 |\n",
       "| CHP_374      | Solid    | 3 |\n",
       "| CHP_401      | Solid    | 4 |\n",
       "| CHP_363      | Solid    | 5 |\n",
       "| CHP_408      | Solid    | 3 |\n",
       "| CHP_351      | Solid    | 1 |\n",
       "\n"
      ],
      "text/plain": [
       "   Var1         Var2     Freq\n",
       "1  LFS_TCR_5067 LFS      1   \n",
       "2  LFS_TCR_4602 LFS      1   \n",
       "3  LFS_TCR_4837 LFS      1   \n",
       "4  LFS_TCR_4758 LFS      1   \n",
       "5  LFS_TCR_4570 LFS      1   \n",
       "6  CHP_354      Leukemia 1   \n",
       "7  CHP_377      Leukemia 4   \n",
       "8  CHP_340      Leukemia 3   \n",
       "9  CHP_328      Leukemia 2   \n",
       "10 CHP_375      Leukemia 2   \n",
       "11 CHP_406      Leukemia 1   \n",
       "12 CHP_369      Leukemia 3   \n",
       "13 CHP_417      Leukemia 1   \n",
       "14 CHP_420      Leukemia 1   \n",
       "15 CHP_349      Leukemia 2   \n",
       "16 CHP_365      Leukemia 4   \n",
       "17 CHP_388      Leukemia 3   \n",
       "18 CHP_422      Leukemia 1   \n",
       "19 CHP_338      Leukemia 3   \n",
       "20 CHP_355      Leukemia 1   \n",
       "21 CHP_410      Leukemia 3   \n",
       "22 CHP_378      Leukemia 3   \n",
       "23 CHP_367      Leukemia 3   \n",
       "24 CHP_331      Leukemia 2   \n",
       "25 CHP_347      Leukemia 5   \n",
       "26 CHP_396      Leukemia 3   \n",
       "27 CHP_405      Leukemia 5   \n",
       "28 CHP_373      Leukemia 2   \n",
       "29 CHP_324      Leukemia 1   \n",
       "30 CHP_366      Lymphoma 4   \n",
       "31 CHP_371      Lymphoma 3   \n",
       "32 CHP_380      Lymphoma 3   \n",
       "33 CHP_400      Lymphoma 3   \n",
       "34 CHP_407      Lymphoma 3   \n",
       "35 CHP_337      Lymphoma 1   \n",
       "36 CHP_415      Lymphoma 3   \n",
       "37 CHP_389      Lymphoma 2   \n",
       "38 CHP_15YO_F_A Normal   1   \n",
       "39 CHP_5YO_M    Normal   1   \n",
       "40 CHP_15YO_M   Normal   1   \n",
       "41 CHP_1YO_M_B  Normal   1   \n",
       "42 CHP_2YO_M    Normal   1   \n",
       "43 CHP_3YO_M_B  Normal   1   \n",
       "44 CHP_16YO_M   Normal   1   \n",
       "45 CHP_356      Solid    3   \n",
       "46 CHP_368      Solid    2   \n",
       "47 CHP_381      Solid    2   \n",
       "48 CHP_358      Solid    2   \n",
       "49 CHP_335      Solid    1   \n",
       "50 CHP_364      Solid    3   \n",
       "51 CHP_419      Solid    1   \n",
       "52 CHP_362      Solid    4   \n",
       "53 CHP_374      Solid    3   \n",
       "54 CHP_401      Solid    4   \n",
       "55 CHP_363      Solid    5   \n",
       "56 CHP_408      Solid    3   \n",
       "57 CHP_351      Solid    1   "
      ]
     },
     "metadata": {},
     "output_type": "display_data"
    }
   ],
   "source": [
    "discovery_sample_freq"
   ]
  },
  {
   "cell_type": "code",
   "execution_count": 56,
   "metadata": {
    "vscode": {
     "languageId": "r"
    }
   },
   "outputs": [],
   "source": [
    "# all patients in discovery set\n",
    "int_discovery_patients <- discovery_sample_freq$Var1"
   ]
  },
  {
   "cell_type": "code",
   "execution_count": 57,
   "metadata": {
    "vscode": {
     "languageId": "r"
    }
   },
   "outputs": [
    {
     "data": {
      "text/html": [
       "57"
      ],
      "text/latex": [
       "57"
      ],
      "text/markdown": [
       "57"
      ],
      "text/plain": [
       "[1] 57"
      ]
     },
     "metadata": {},
     "output_type": "display_data"
    }
   ],
   "source": [
    "length(int_discovery_patients)"
   ]
  },
  {
   "cell_type": "code",
   "execution_count": 58,
   "metadata": {
    "vscode": {
     "languageId": "r"
    }
   },
   "outputs": [
    {
     "data": {
      "text/html": [
       "<style>\n",
       ".list-inline {list-style: none; margin:0; padding: 0}\n",
       ".list-inline>li {display: inline-block}\n",
       ".list-inline>li:not(:last-child)::after {content: \"\\00b7\"; padding: 0 .5ex}\n",
       "</style>\n",
       "<ol class=list-inline><li>1140</li><li>8</li></ol>\n"
      ],
      "text/latex": [
       "\\begin{enumerate*}\n",
       "\\item 1140\n",
       "\\item 8\n",
       "\\end{enumerate*}\n"
      ],
      "text/markdown": [
       "1. 1140\n",
       "2. 8\n",
       "\n",
       "\n"
      ],
      "text/plain": [
       "[1] 1140    8"
      ]
     },
     "metadata": {},
     "output_type": "display_data"
    }
   ],
   "source": [
    "dim(discovery_metadata)"
   ]
  },
  {
   "cell_type": "code",
   "execution_count": 59,
   "metadata": {
    "vscode": {
     "languageId": "r"
    }
   },
   "outputs": [
    {
     "data": {
      "text/html": [
       "<style>\n",
       ".list-inline {list-style: none; margin:0; padding: 0}\n",
       ".list-inline>li {display: inline-block}\n",
       ".list-inline>li:not(:last-child)::after {content: \"\\00b7\"; padding: 0 .5ex}\n",
       "</style>\n",
       "<ol class=list-inline><li>258</li><li>8</li></ol>\n"
      ],
      "text/latex": [
       "\\begin{enumerate*}\n",
       "\\item 258\n",
       "\\item 8\n",
       "\\end{enumerate*}\n"
      ],
      "text/markdown": [
       "1. 258\n",
       "2. 8\n",
       "\n",
       "\n"
      ],
      "text/plain": [
       "[1] 258   8"
      ]
     },
     "metadata": {},
     "output_type": "display_data"
    }
   ],
   "source": [
    "dim(discovery_metadata[ discovery_metadata$study == \"INTERCEPT\",])"
   ]
  },
  {
   "cell_type": "code",
   "execution_count": 60,
   "metadata": {
    "vscode": {
     "languageId": "r"
    }
   },
   "outputs": [],
   "source": [
    "all_discovery_patients <- c(discovery_metadata$Patient[ discovery_metadata$study != \"INTERCEPT\"], int_discovery_patients)"
   ]
  },
  {
   "cell_type": "code",
   "execution_count": 61,
   "metadata": {
    "vscode": {
     "languageId": "r"
    }
   },
   "outputs": [],
   "source": [
    "discovery_metadata <- discovery_metadata[ discovery_metadata$Patient %in% all_discovery_patients,]"
   ]
  },
  {
   "cell_type": "code",
   "execution_count": 62,
   "metadata": {
    "vscode": {
     "languageId": "r"
    }
   },
   "outputs": [
    {
     "data": {
      "text/html": [
       "57"
      ],
      "text/latex": [
       "57"
      ],
      "text/markdown": [
       "57"
      ],
      "text/plain": [
       "[1] 57"
      ]
     },
     "metadata": {},
     "output_type": "display_data"
    }
   ],
   "source": [
    "length(table(discovery_metadata$Patient[ discovery_metadata$study == \"INTERCEPT\"] ))"
   ]
  },
  {
   "cell_type": "code",
   "execution_count": 63,
   "metadata": {
    "vscode": {
     "languageId": "r"
    }
   },
   "outputs": [
    {
     "data": {
      "text/html": [
       "<style>\n",
       ".list-inline {list-style: none; margin:0; padding: 0}\n",
       ".list-inline>li {display: inline-block}\n",
       ".list-inline>li:not(:last-child)::after {content: \"\\00b7\"; padding: 0 .5ex}\n",
       "</style>\n",
       "<ol class=list-inline><li>1009</li><li>8</li></ol>\n"
      ],
      "text/latex": [
       "\\begin{enumerate*}\n",
       "\\item 1009\n",
       "\\item 8\n",
       "\\end{enumerate*}\n"
      ],
      "text/markdown": [
       "1. 1009\n",
       "2. 8\n",
       "\n",
       "\n"
      ],
      "text/plain": [
       "[1] 1009    8"
      ]
     },
     "metadata": {},
     "output_type": "display_data"
    }
   ],
   "source": [
    "# CHP_407 is dupliucate sample one from lymphoma one from ffpe\n",
    "dim(discovery_metadata)"
   ]
  },
  {
   "cell_type": "code",
   "execution_count": 64,
   "metadata": {
    "vscode": {
     "languageId": "r"
    }
   },
   "outputs": [
    {
     "data": {
      "text/plain": [
       "\n",
       "  Emerson Henderson INTERCEPT  Mitchell \n",
       "      654        25       127       203 "
      ]
     },
     "metadata": {},
     "output_type": "display_data"
    }
   ],
   "source": [
    "table(discovery_metadata$study)"
   ]
  },
  {
   "attachments": {},
   "cell_type": "markdown",
   "metadata": {},
   "source": [
    "## Validation set"
   ]
  },
  {
   "cell_type": "code",
   "execution_count": 65,
   "metadata": {
    "vscode": {
     "languageId": "r"
    }
   },
   "outputs": [
    {
     "data": {
      "text/html": [
       "<table class=\"dataframe\">\n",
       "<caption>A data.frame: 6 x 8</caption>\n",
       "<thead>\n",
       "\t<tr><th></th><th scope=col>Patient</th><th scope=col>Age</th><th scope=col>sampletype</th><th scope=col>study</th><th scope=col>Agegroup</th><th scope=col>Sex</th><th scope=col>disease</th><th scope=col>sample_name</th></tr>\n",
       "\t<tr><th></th><th scope=col>&lt;chr&gt;</th><th scope=col>&lt;dbl&gt;</th><th scope=col>&lt;chr&gt;</th><th scope=col>&lt;chr&gt;</th><th scope=col>&lt;chr&gt;</th><th scope=col>&lt;chr&gt;</th><th scope=col>&lt;chr&gt;</th><th scope=col>&lt;chr&gt;</th></tr>\n",
       "</thead>\n",
       "<tbody>\n",
       "\t<tr><th scope=row>21</th><td>Peds_Ctrl_2        </td><td>NA</td><td>PBMC</td><td>Henderson</td><td>Child</td><td>NA</td><td>Peds healthy Control</td><td>Peds_Ctrl_2        </td></tr>\n",
       "\t<tr><th scope=row>22</th><td>MAS_3              </td><td>NA</td><td>PBMC</td><td>Henderson</td><td>Child</td><td>NA</td><td>MAS                 </td><td>MAS_3              </td></tr>\n",
       "\t<tr><th scope=row>23</th><td>Peds_Febrile_Ctrl_3</td><td>NA</td><td>PBMC</td><td>Henderson</td><td>Child</td><td>NA</td><td>Peds febrile Control</td><td>Peds_Febrile_Ctrl_3</td></tr>\n",
       "\t<tr><th scope=row>25</th><td>KD_4               </td><td>NA</td><td>PBMC</td><td>Henderson</td><td>Child</td><td>NA</td><td>KD                  </td><td>KD_4               </td></tr>\n",
       "\t<tr><th scope=row>26</th><td>KD_3               </td><td>NA</td><td>PBMC</td><td>Henderson</td><td>Child</td><td>NA</td><td>KD                  </td><td>KD_3               </td></tr>\n",
       "\t<tr><th scope=row>29</th><td>sJIA_7             </td><td>NA</td><td>PBMC</td><td>Henderson</td><td>Child</td><td>NA</td><td>sJIA                </td><td>sJIA_7             </td></tr>\n",
       "</tbody>\n",
       "</table>\n"
      ],
      "text/latex": [
       "A data.frame: 6 x 8\n",
       "\\begin{tabular}{r|llllllll}\n",
       "  & Patient & Age & sampletype & study & Agegroup & Sex & disease & sample\\_name\\\\\n",
       "  & <chr> & <dbl> & <chr> & <chr> & <chr> & <chr> & <chr> & <chr>\\\\\n",
       "\\hline\n",
       "\t21 & Peds\\_Ctrl\\_2         & NA & PBMC & Henderson & Child & NA & Peds healthy Control & Peds\\_Ctrl\\_2        \\\\\n",
       "\t22 & MAS\\_3               & NA & PBMC & Henderson & Child & NA & MAS                  & MAS\\_3              \\\\\n",
       "\t23 & Peds\\_Febrile\\_Ctrl\\_3 & NA & PBMC & Henderson & Child & NA & Peds febrile Control & Peds\\_Febrile\\_Ctrl\\_3\\\\\n",
       "\t25 & KD\\_4                & NA & PBMC & Henderson & Child & NA & KD                   & KD\\_4               \\\\\n",
       "\t26 & KD\\_3                & NA & PBMC & Henderson & Child & NA & KD                   & KD\\_3               \\\\\n",
       "\t29 & sJIA\\_7              & NA & PBMC & Henderson & Child & NA & sJIA                 & sJIA\\_7             \\\\\n",
       "\\end{tabular}\n"
      ],
      "text/markdown": [
       "\n",
       "A data.frame: 6 x 8\n",
       "\n",
       "| <!--/--> | Patient &lt;chr&gt; | Age &lt;dbl&gt; | sampletype &lt;chr&gt; | study &lt;chr&gt; | Agegroup &lt;chr&gt; | Sex &lt;chr&gt; | disease &lt;chr&gt; | sample_name &lt;chr&gt; |\n",
       "|---|---|---|---|---|---|---|---|---|\n",
       "| 21 | Peds_Ctrl_2         | NA | PBMC | Henderson | Child | NA | Peds healthy Control | Peds_Ctrl_2         |\n",
       "| 22 | MAS_3               | NA | PBMC | Henderson | Child | NA | MAS                  | MAS_3               |\n",
       "| 23 | Peds_Febrile_Ctrl_3 | NA | PBMC | Henderson | Child | NA | Peds febrile Control | Peds_Febrile_Ctrl_3 |\n",
       "| 25 | KD_4                | NA | PBMC | Henderson | Child | NA | KD                   | KD_4                |\n",
       "| 26 | KD_3                | NA | PBMC | Henderson | Child | NA | KD                   | KD_3                |\n",
       "| 29 | sJIA_7              | NA | PBMC | Henderson | Child | NA | sJIA                 | sJIA_7              |\n",
       "\n"
      ],
      "text/plain": [
       "   Patient             Age sampletype study     Agegroup Sex\n",
       "21 Peds_Ctrl_2         NA  PBMC       Henderson Child    NA \n",
       "22 MAS_3               NA  PBMC       Henderson Child    NA \n",
       "23 Peds_Febrile_Ctrl_3 NA  PBMC       Henderson Child    NA \n",
       "25 KD_4                NA  PBMC       Henderson Child    NA \n",
       "26 KD_3                NA  PBMC       Henderson Child    NA \n",
       "29 sJIA_7              NA  PBMC       Henderson Child    NA \n",
       "   disease              sample_name        \n",
       "21 Peds healthy Control Peds_Ctrl_2        \n",
       "22 MAS                  MAS_3              \n",
       "23 Peds febrile Control Peds_Febrile_Ctrl_3\n",
       "25 KD                   KD_4               \n",
       "26 KD                   KD_3               \n",
       "29 sJIA                 sJIA_7             "
      ]
     },
     "metadata": {},
     "output_type": "display_data"
    }
   ],
   "source": [
    "head(all_metadata_pbmc)"
   ]
  },
  {
   "cell_type": "code",
   "execution_count": 66,
   "metadata": {
    "vscode": {
     "languageId": "r"
    }
   },
   "outputs": [],
   "source": [
    "validation_metadata <- all_metadata_pbmc[ !all_metadata_pbmc$Patient %in% all_discovery_patients,]"
   ]
  },
  {
   "cell_type": "code",
   "execution_count": 67,
   "metadata": {
    "vscode": {
     "languageId": "r"
    }
   },
   "outputs": [
    {
     "data": {
      "text/html": [
       "<style>\n",
       ".list-inline {list-style: none; margin:0; padding: 0}\n",
       ".list-inline>li {display: inline-block}\n",
       ".list-inline>li:not(:last-child)::after {content: \"\\00b7\"; padding: 0 .5ex}\n",
       "</style>\n",
       "<ol class=list-inline><li>381</li><li>8</li></ol>\n"
      ],
      "text/latex": [
       "\\begin{enumerate*}\n",
       "\\item 381\n",
       "\\item 8\n",
       "\\end{enumerate*}\n"
      ],
      "text/markdown": [
       "1. 381\n",
       "2. 8\n",
       "\n",
       "\n"
      ],
      "text/plain": [
       "[1] 381   8"
      ]
     },
     "metadata": {},
     "output_type": "display_data"
    }
   ],
   "source": [
    "dim(validation_metadata)"
   ]
  },
  {
   "cell_type": "code",
   "execution_count": 68,
   "metadata": {
    "vscode": {
     "languageId": "r"
    }
   },
   "outputs": [
    {
     "data": {
      "text/html": [
       "<style>\n",
       ".list-inline {list-style: none; margin:0; padding: 0}\n",
       ".list-inline>li {display: inline-block}\n",
       ".list-inline>li:not(:last-child)::after {content: \"\\00b7\"; padding: 0 .5ex}\n",
       "</style>\n",
       "<ol class=list-inline><li>1009</li><li>8</li></ol>\n"
      ],
      "text/latex": [
       "\\begin{enumerate*}\n",
       "\\item 1009\n",
       "\\item 8\n",
       "\\end{enumerate*}\n"
      ],
      "text/markdown": [
       "1. 1009\n",
       "2. 8\n",
       "\n",
       "\n"
      ],
      "text/plain": [
       "[1] 1009    8"
      ]
     },
     "metadata": {},
     "output_type": "display_data"
    }
   ],
   "source": [
    "dim(discovery_metadata)"
   ]
  },
  {
   "cell_type": "code",
   "execution_count": 69,
   "metadata": {
    "vscode": {
     "languageId": "r"
    }
   },
   "outputs": [],
   "source": [
    "# save discovery and validation metadata\n",
    "readr::write_rds(discovery_metadata, file = paste0(datapath, \"discovery_metadata.rds\"))\n",
    "readr::write_rds(validation_metadata, file = paste0(datapath, \"validation_metadata.rds\"))"
   ]
  },
  {
   "cell_type": "code",
   "execution_count": null,
   "metadata": {
    "vscode": {
     "languageId": "r"
    }
   },
   "outputs": [],
   "source": []
  },
  {
   "cell_type": "code",
   "execution_count": null,
   "metadata": {
    "vscode": {
     "languageId": "r"
    }
   },
   "outputs": [],
   "source": []
  }
 ],
 "metadata": {
  "kernelspec": {
   "display_name": "R 4.0",
   "language": "R",
   "name": "ir40"
  },
  "language_info": {
   "codemirror_mode": "r",
   "file_extension": ".r",
   "mimetype": "text/x-r-source",
   "name": "R",
   "pygments_lexer": "r",
   "version": "4.2.2"
  },
  "toc": {
   "base_numbering": 1,
   "nav_menu": {},
   "number_sections": false,
   "sideBar": true,
   "skip_h1_title": false,
   "title_cell": "Table of Contents",
   "title_sidebar": "Contents",
   "toc_cell": true,
   "toc_position": {
    "height": "calc(100% - 180px)",
    "left": "10px",
    "top": "150px",
    "width": "186.15px"
   },
   "toc_section_display": true,
   "toc_window_display": true
  }
 },
 "nbformat": 4,
 "nbformat_minor": 2
}
