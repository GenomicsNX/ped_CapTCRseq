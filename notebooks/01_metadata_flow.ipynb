{
 "cells": [
  {
   "cell_type": "markdown",
   "metadata": {
    "toc": true
   },
   "source": [
    "<h1>Table of Contents<span class=\"tocSkip\"></span></h1>\n",
    "<div class=\"toc\"><ul class=\"toc-item\"><li><span><a href=\"#Dependencies\" data-toc-modified-id=\"Dependencies-1\">Dependencies</a></span></li><li><span><a href=\"#Functions\" data-toc-modified-id=\"Functions-2\">Functions</a></span></li><li><span><a href=\"#Paths\" data-toc-modified-id=\"Paths-3\">Paths</a></span></li><li><span><a href=\"#Main\" data-toc-modified-id=\"Main-4\">Main</a></span><ul class=\"toc-item\"><li><span><a href=\"#Cleanup-ATC-file\" data-toc-modified-id=\"Cleanup-ATC-file-4.1\">Cleanup ATC file</a></span></li><li><span><a href=\"#Clean-up-NCR-file\" data-toc-modified-id=\"Clean-up-NCR-file-4.2\">Clean up NCR file</a></span></li><li><span><a href=\"#Clean-up-T-cells-file\" data-toc-modified-id=\"Clean-up-T-cells-file-4.3\">Clean up T cells file</a></span></li><li><span><a href=\"#Create-master-table-for-clinical-and-flow-data\" data-toc-modified-id=\"Create-master-table-for-clinical-and-flow-data-4.4\">Create master table for clinical and flow data</a></span></li><li><span><a href=\"#Cohort-cleanup\" data-toc-modified-id=\"Cohort-cleanup-4.5\">Cohort cleanup</a></span></li></ul></li></ul></div>"
   ]
  },
  {
   "cell_type": "markdown",
   "metadata": {},
   "source": [
    "# Dependencies"
   ]
  },
  {
   "cell_type": "code",
   "execution_count": 1,
   "metadata": {},
   "outputs": [
    {
     "name": "stderr",
     "output_type": "stream",
     "text": [
      "Loading required package: grid\n",
      "\n",
      "========================================\n",
      "ComplexHeatmap version 2.6.2\n",
      "Bioconductor page: http://bioconductor.org/packages/ComplexHeatmap/\n",
      "Github page: https://github.com/jokergoo/ComplexHeatmap\n",
      "Documentation: http://jokergoo.github.io/ComplexHeatmap-reference\n",
      "\n",
      "If you use it in published research, please cite:\n",
      "Gu, Z. Complex heatmaps reveal patterns and correlations in multidimensional \n",
      "  genomic data. Bioinformatics 2016.\n",
      "\n",
      "This message can be suppressed by:\n",
      "  suppressPackageStartupMessages(library(ComplexHeatmap))\n",
      "========================================\n",
      "\n",
      "\n",
      "Warning message:\n",
      "“package ‘circlize’ was built under R version 4.0.5”\n",
      "========================================\n",
      "circlize version 0.4.14\n",
      "CRAN page: https://cran.r-project.org/package=circlize\n",
      "Github page: https://github.com/jokergoo/circlize\n",
      "Documentation: https://jokergoo.github.io/circlize_book/book/\n",
      "\n",
      "If you use it in published research, please cite:\n",
      "Gu, Z. circlize implements and enhances circular visualization\n",
      "  in R. Bioinformatics 2014.\n",
      "\n",
      "This message can be suppressed by:\n",
      "  suppressPackageStartupMessages(library(circlize))\n",
      "========================================\n",
      "\n",
      "\n"
     ]
    }
   ],
   "source": [
    "library(ggplot2)\n",
    "library(gridExtra)\n",
    "library(ComplexHeatmap)\n",
    "library(circlize)"
   ]
  },
  {
   "cell_type": "markdown",
   "metadata": {},
   "source": [
    "# Functions"
   ]
  },
  {
   "cell_type": "markdown",
   "metadata": {},
   "source": [
    "# Paths"
   ]
  },
  {
   "cell_type": "code",
   "execution_count": 2,
   "metadata": {},
   "outputs": [],
   "source": [
    "datapath <- \"/Users/anabbi/OneDrive - UHN/Documents/INTERCEPT/Data/\"\n",
    "plotpath <- \"/Users/anabbi/OneDrive - UHN/Documents/INTERCEPT/Plots/\"\n",
    "manifestpath <- \"/Users/anabbi/OneDrive - UHN/Documents/INTERCEPT/Manifests/\"\n",
    "\n",
    "gitpath <- \"/Users/anabbi/git/ped_CapTCRseq/\""
   ]
  },
  {
   "cell_type": "markdown",
   "metadata": {},
   "source": [
    "# Main"
   ]
  },
  {
   "cell_type": "markdown",
   "metadata": {},
   "source": [
    "All csv files are from \"Toronto expansion and NCR data 4.xlsx\""
   ]
  },
  {
   "cell_type": "markdown",
   "metadata": {},
   "source": [
    "## Cleanup ATC file"
   ]
  },
  {
   "cell_type": "markdown",
   "metadata": {},
   "source": [
    "On excel, copy row 2:end of \"ATC count\" sheet to a new spreadsheet, adjust columns:\n",
    "\" ID#\tAge\t\tFOLD\tATC\tFOLD1\tATC1\tFOLD2\tATC2\tFOLD3\tATC3\tFOLD4\tATC4\"\n",
    "save as ATC_count.csv"
   ]
  },
  {
   "cell_type": "code",
   "execution_count": 3,
   "metadata": {},
   "outputs": [],
   "source": [
    "ATCs <- read.csv(paste0(datapath, \"Flow/ATC_count.csv\"),\n",
    "                 header = T, check.names = F, stringsAsFactors = F, \n",
    "                 na.strings = c(\"NA\",\"\", \"#DIV/0!\",\"#VALUE!\",\"#REF!\"))"
   ]
  },
  {
   "cell_type": "code",
   "execution_count": 4,
   "metadata": {
    "scrolled": true
   },
   "outputs": [
    {
     "data": {
      "text/html": [
       "<table class=\"dataframe\">\n",
       "<caption>A data.frame: 6 × 13</caption>\n",
       "<thead>\n",
       "\t<tr><th></th><th scope=col> ID#</th><th scope=col>Age</th><th scope=col></th><th scope=col>FOLD</th><th scope=col>ATC</th><th scope=col>FOLD1</th><th scope=col>ATC1</th><th scope=col>FOLD2</th><th scope=col>ATC2</th><th scope=col>FOLD3</th><th scope=col>ATC3</th><th scope=col>FOLD4</th><th scope=col>ATC4</th></tr>\n",
       "\t<tr><th></th><th scope=col>&lt;int&gt;</th><th scope=col>&lt;dbl&gt;</th><th scope=col>&lt;chr&gt;</th><th scope=col>&lt;chr&gt;</th><th scope=col>&lt;dbl&gt;</th><th scope=col>&lt;chr&gt;</th><th scope=col>&lt;dbl&gt;</th><th scope=col>&lt;chr&gt;</th><th scope=col>&lt;dbl&gt;</th><th scope=col>&lt;chr&gt;</th><th scope=col>&lt;dbl&gt;</th><th scope=col>&lt;chr&gt;</th><th scope=col>&lt;dbl&gt;</th></tr>\n",
       "</thead>\n",
       "<tbody>\n",
       "\t<tr><th scope=row>221</th><td>320</td><td>NA</td><td>AML   </td><td>8.9</td><td>  0.00</td><td>3.5</td><td>   0.00</td><td>13.2</td><td>  0.00</td><td>x  </td><td>  0.00</td><td>0</td><td>  0.0</td></tr>\n",
       "\t<tr><th scope=row>222</th><td>321</td><td>NA</td><td>HD    </td><td>0  </td><td>  0.00</td><td>0  </td><td>   0.00</td><td>0   </td><td>  0.00</td><td>0  </td><td>  0.00</td><td>0</td><td>  0.0</td></tr>\n",
       "\t<tr><th scope=row>223</th><td>322</td><td>NA</td><td>DLBCL </td><td>1.1</td><td>  0.00</td><td>0.4</td><td>   0.00</td><td>4.3 </td><td>  0.00</td><td>4.7</td><td>  0.00</td><td>1</td><td>  0.0</td></tr>\n",
       "\t<tr><th scope=row>224</th><td>323</td><td>NA</td><td>HR ALL</td><td>0  </td><td>154.75</td><td>0  </td><td>1397.28</td><td>0   </td><td>786.24</td><td>0  </td><td>563.68</td><td>0</td><td>979.5</td></tr>\n",
       "\t<tr><th scope=row>225</th><td>324</td><td>NA</td><td>T-ALL </td><td>0  </td><td>  0.00</td><td>0  </td><td>   0.00</td><td>0   </td><td>  0.00</td><td>0  </td><td>  0.00</td><td>0</td><td>  0.0</td></tr>\n",
       "\t<tr><th scope=row>226</th><td>325</td><td>NA</td><td>ERMS  </td><td>0  </td><td>    NA</td><td>0  </td><td> 927.46</td><td>0   </td><td>624.72</td><td>0  </td><td>163.77</td><td>0</td><td>  0.0</td></tr>\n",
       "</tbody>\n",
       "</table>\n"
      ],
      "text/latex": [
       "A data.frame: 6 × 13\n",
       "\\begin{tabular}{r|lllllllllllll}\n",
       "  &  ID\\# & Age &  & FOLD & ATC & FOLD1 & ATC1 & FOLD2 & ATC2 & FOLD3 & ATC3 & FOLD4 & ATC4\\\\\n",
       "  & <int> & <dbl> & <chr> & <chr> & <dbl> & <chr> & <dbl> & <chr> & <dbl> & <chr> & <dbl> & <chr> & <dbl>\\\\\n",
       "\\hline\n",
       "\t221 & 320 & NA & AML    & 8.9 &   0.00 & 3.5 &    0.00 & 13.2 &   0.00 & x   &   0.00 & 0 &   0.0\\\\\n",
       "\t222 & 321 & NA & HD     & 0   &   0.00 & 0   &    0.00 & 0    &   0.00 & 0   &   0.00 & 0 &   0.0\\\\\n",
       "\t223 & 322 & NA & DLBCL  & 1.1 &   0.00 & 0.4 &    0.00 & 4.3  &   0.00 & 4.7 &   0.00 & 1 &   0.0\\\\\n",
       "\t224 & 323 & NA & HR ALL & 0   & 154.75 & 0   & 1397.28 & 0    & 786.24 & 0   & 563.68 & 0 & 979.5\\\\\n",
       "\t225 & 324 & NA & T-ALL  & 0   &   0.00 & 0   &    0.00 & 0    &   0.00 & 0   &   0.00 & 0 &   0.0\\\\\n",
       "\t226 & 325 & NA & ERMS   & 0   &     NA & 0   &  927.46 & 0    & 624.72 & 0   & 163.77 & 0 &   0.0\\\\\n",
       "\\end{tabular}\n"
      ],
      "text/markdown": [
       "\n",
       "A data.frame: 6 × 13\n",
       "\n",
       "| <!--/--> |  ID# &lt;int&gt; | Age &lt;dbl&gt; | <!----> &lt;chr&gt; | FOLD &lt;chr&gt; | ATC &lt;dbl&gt; | FOLD1 &lt;chr&gt; | ATC1 &lt;dbl&gt; | FOLD2 &lt;chr&gt; | ATC2 &lt;dbl&gt; | FOLD3 &lt;chr&gt; | ATC3 &lt;dbl&gt; | FOLD4 &lt;chr&gt; | ATC4 &lt;dbl&gt; |\n",
       "|---|---|---|---|---|---|---|---|---|---|---|---|---|---|\n",
       "| 221 | 320 | NA | AML    | 8.9 |   0.00 | 3.5 |    0.00 | 13.2 |   0.00 | x   |   0.00 | 0 |   0.0 |\n",
       "| 222 | 321 | NA | HD     | 0   |   0.00 | 0   |    0.00 | 0    |   0.00 | 0   |   0.00 | 0 |   0.0 |\n",
       "| 223 | 322 | NA | DLBCL  | 1.1 |   0.00 | 0.4 |    0.00 | 4.3  |   0.00 | 4.7 |   0.00 | 1 |   0.0 |\n",
       "| 224 | 323 | NA | HR ALL | 0   | 154.75 | 0   | 1397.28 | 0    | 786.24 | 0   | 563.68 | 0 | 979.5 |\n",
       "| 225 | 324 | NA | T-ALL  | 0   |   0.00 | 0   |    0.00 | 0    |   0.00 | 0   |   0.00 | 0 |   0.0 |\n",
       "| 226 | 325 | NA | ERMS   | 0   |     NA | 0   |  927.46 | 0    | 624.72 | 0   | 163.77 | 0 |   0.0 |\n",
       "\n"
      ],
      "text/plain": [
       "     ID# Age        FOLD ATC    FOLD1 ATC1    FOLD2 ATC2   FOLD3 ATC3   FOLD4\n",
       "221 320  NA  AML    8.9    0.00 3.5      0.00 13.2    0.00 x       0.00 0    \n",
       "222 321  NA  HD     0      0.00 0        0.00 0       0.00 0       0.00 0    \n",
       "223 322  NA  DLBCL  1.1    0.00 0.4      0.00 4.3     0.00 4.7     0.00 1    \n",
       "224 323  NA  HR ALL 0    154.75 0     1397.28 0     786.24 0     563.68 0    \n",
       "225 324  NA  T-ALL  0      0.00 0        0.00 0       0.00 0       0.00 0    \n",
       "226 325  NA  ERMS   0        NA 0      927.46 0     624.72 0     163.77 0    \n",
       "    ATC4 \n",
       "221   0.0\n",
       "222   0.0\n",
       "223   0.0\n",
       "224 979.5\n",
       "225   0.0\n",
       "226   0.0"
      ]
     },
     "metadata": {},
     "output_type": "display_data"
    }
   ],
   "source": [
    "head(ATCs[221:338,])"
   ]
  },
  {
   "cell_type": "markdown",
   "metadata": {},
   "source": [
    "Subset to include patients 330 to 437"
   ]
  },
  {
   "cell_type": "code",
   "execution_count": 5,
   "metadata": {
    "scrolled": true
   },
   "outputs": [],
   "source": [
    "ATC_subset <- ATCs[221:338,]"
   ]
  },
  {
   "cell_type": "code",
   "execution_count": 6,
   "metadata": {},
   "outputs": [],
   "source": [
    "ATCssubset1 <- ATC_subset[,c(\"FOLD\", \"ATC\")]\n",
    "ATCssubset2 <- ATC_subset[,c(\"FOLD1\", \"ATC1\")]\n",
    "ATCssubset3 <- ATC_subset[,c(\"FOLD2\", \"ATC2\")]\n",
    "ATCssubset4 <- ATC_subset[,c(\"FOLD3\", \"ATC3\")]\n",
    "ATCssubset5 <- ATC_subset[,c(\"FOLD4\", \"ATC4\")]"
   ]
  },
  {
   "cell_type": "code",
   "execution_count": 7,
   "metadata": {},
   "outputs": [],
   "source": [
    "ATCssubset1 <- cbind(ATC_subset$` ID#`, ATCssubset1)\n",
    "ATCssubset2 <- cbind(ATC_subset$` ID#`, ATCssubset2)\n",
    "ATCssubset3 <- cbind(ATC_subset$` ID#`, ATCssubset3)\n",
    "ATCssubset4 <- cbind(ATC_subset$` ID#`, ATCssubset4)\n",
    "ATCssubset5 <- cbind(ATC_subset$` ID#`, ATCssubset5)"
   ]
  },
  {
   "cell_type": "code",
   "execution_count": 8,
   "metadata": {},
   "outputs": [],
   "source": [
    "colnames(ATCssubset1) <- c(\"Patient\", \"FOLD\", \"ATC\")\n",
    "colnames(ATCssubset2) <- c(\"Patient\", \"FOLD\", \"ATC\")\n",
    "colnames(ATCssubset3) <- c(\"Patient\", \"FOLD\", \"ATC\")\n",
    "colnames(ATCssubset4) <- c(\"Patient\", \"FOLD\", \"ATC\")\n",
    "colnames(ATCssubset5) <- c(\"Patient\", \"FOLD\", \"ATC\")"
   ]
  },
  {
   "cell_type": "code",
   "execution_count": 9,
   "metadata": {},
   "outputs": [],
   "source": [
    "ATCssubset1$cycle <- \"01\"\n",
    "ATCssubset2$cycle <- \"02\"\n",
    "ATCssubset3$cycle <- \"03\"\n",
    "ATCssubset4$cycle <- \"04\"\n",
    "ATCssubset5$cycle <- \"05\""
   ]
  },
  {
   "cell_type": "code",
   "execution_count": 10,
   "metadata": {},
   "outputs": [],
   "source": [
    "myATCdf <- rbind(ATCssubset1, ATCssubset2,ATCssubset3, ATCssubset4,ATCssubset5)"
   ]
  },
  {
   "cell_type": "code",
   "execution_count": 11,
   "metadata": {},
   "outputs": [
    {
     "data": {
      "text/html": [
       "<table class=\"dataframe\">\n",
       "<caption>A data.frame: 6 × 4</caption>\n",
       "<thead>\n",
       "\t<tr><th></th><th scope=col>Patient</th><th scope=col>FOLD</th><th scope=col>ATC</th><th scope=col>cycle</th></tr>\n",
       "\t<tr><th></th><th scope=col>&lt;int&gt;</th><th scope=col>&lt;chr&gt;</th><th scope=col>&lt;dbl&gt;</th><th scope=col>&lt;chr&gt;</th></tr>\n",
       "</thead>\n",
       "<tbody>\n",
       "\t<tr><th scope=row>221</th><td>320</td><td>8.9</td><td>  0.00</td><td>01</td></tr>\n",
       "\t<tr><th scope=row>222</th><td>321</td><td>0  </td><td>  0.00</td><td>01</td></tr>\n",
       "\t<tr><th scope=row>223</th><td>322</td><td>1.1</td><td>  0.00</td><td>01</td></tr>\n",
       "\t<tr><th scope=row>224</th><td>323</td><td>0  </td><td>154.75</td><td>01</td></tr>\n",
       "\t<tr><th scope=row>225</th><td>324</td><td>0  </td><td>  0.00</td><td>01</td></tr>\n",
       "\t<tr><th scope=row>226</th><td>325</td><td>0  </td><td>    NA</td><td>01</td></tr>\n",
       "</tbody>\n",
       "</table>\n"
      ],
      "text/latex": [
       "A data.frame: 6 × 4\n",
       "\\begin{tabular}{r|llll}\n",
       "  & Patient & FOLD & ATC & cycle\\\\\n",
       "  & <int> & <chr> & <dbl> & <chr>\\\\\n",
       "\\hline\n",
       "\t221 & 320 & 8.9 &   0.00 & 01\\\\\n",
       "\t222 & 321 & 0   &   0.00 & 01\\\\\n",
       "\t223 & 322 & 1.1 &   0.00 & 01\\\\\n",
       "\t224 & 323 & 0   & 154.75 & 01\\\\\n",
       "\t225 & 324 & 0   &   0.00 & 01\\\\\n",
       "\t226 & 325 & 0   &     NA & 01\\\\\n",
       "\\end{tabular}\n"
      ],
      "text/markdown": [
       "\n",
       "A data.frame: 6 × 4\n",
       "\n",
       "| <!--/--> | Patient &lt;int&gt; | FOLD &lt;chr&gt; | ATC &lt;dbl&gt; | cycle &lt;chr&gt; |\n",
       "|---|---|---|---|---|\n",
       "| 221 | 320 | 8.9 |   0.00 | 01 |\n",
       "| 222 | 321 | 0   |   0.00 | 01 |\n",
       "| 223 | 322 | 1.1 |   0.00 | 01 |\n",
       "| 224 | 323 | 0   | 154.75 | 01 |\n",
       "| 225 | 324 | 0   |   0.00 | 01 |\n",
       "| 226 | 325 | 0   |     NA | 01 |\n",
       "\n"
      ],
      "text/plain": [
       "    Patient FOLD ATC    cycle\n",
       "221 320     8.9    0.00 01   \n",
       "222 321     0      0.00 01   \n",
       "223 322     1.1    0.00 01   \n",
       "224 323     0    154.75 01   \n",
       "225 324     0      0.00 01   \n",
       "226 325     0        NA 01   "
      ]
     },
     "metadata": {},
     "output_type": "display_data"
    }
   ],
   "source": [
    "head(myATCdf)"
   ]
  },
  {
   "cell_type": "code",
   "execution_count": 12,
   "metadata": {},
   "outputs": [],
   "source": [
    "write.csv(myATCdf, file = paste(datapath, \"ATC_df.csv\", sep = \"\"),row.names = F)"
   ]
  },
  {
   "cell_type": "markdown",
   "metadata": {},
   "source": [
    "## Clean up NCR file"
   ]
  },
  {
   "cell_type": "markdown",
   "metadata": {},
   "source": [
    "Copy \"NCRs pre\" sheet to a new spreadsheet (values only), save as NCRs.csv"
   ]
  },
  {
   "cell_type": "code",
   "execution_count": 13,
   "metadata": {},
   "outputs": [],
   "source": [
    "NCRs <- read.csv(paste0(datapath, \"Flow/NCRs.csv\"),header = T, check.names = F, stringsAsFactors = F, \n",
    "                 na.strings = c(\"NA\",\"\", \"#DIV/0!\",\"#VALUE!\",\"#REF!\"))"
   ]
  },
  {
   "cell_type": "code",
   "execution_count": 14,
   "metadata": {},
   "outputs": [
    {
     "data": {
      "text/html": [
       "<table class=\"dataframe\">\n",
       "<caption>A data.frame: 6 × 305</caption>\n",
       "<thead>\n",
       "\t<tr><th></th><th scope=col> ID#</th><th scope=col>Age</th><th scope=col>DX</th><th scope=col>TE Fold</th><th scope=col>CD3</th><th scope=col>PD-1</th><th scope=col>PDL1</th><th scope=col>LAG3</th><th scope=col>TIM3</th><th scope=col>CTLA4</th><th scope=col>⋯</th><th scope=col>LAG3</th><th scope=col>TIM3</th><th scope=col>CTLA4</th><th scope=col>PD1%</th><th scope=col>PDL1%</th><th scope=col>LAG3%</th><th scope=col>TIM3%</th><th scope=col>CTLA4%</th><th scope=col>Any NCR</th><th scope=col>PD1 + LAG3 + TIM3</th></tr>\n",
       "\t<tr><th></th><th scope=col>&lt;int&gt;</th><th scope=col>&lt;dbl&gt;</th><th scope=col>&lt;chr&gt;</th><th scope=col>&lt;chr&gt;</th><th scope=col>&lt;int&gt;</th><th scope=col>&lt;chr&gt;</th><th scope=col>&lt;int&gt;</th><th scope=col>&lt;chr&gt;</th><th scope=col>&lt;chr&gt;</th><th scope=col>&lt;int&gt;</th><th scope=col>⋯</th><th scope=col>&lt;int&gt;</th><th scope=col>&lt;int&gt;</th><th scope=col>&lt;lgl&gt;</th><th scope=col>&lt;lgl&gt;</th><th scope=col>&lt;lgl&gt;</th><th scope=col>&lt;lgl&gt;</th><th scope=col>&lt;lgl&gt;</th><th scope=col>&lt;lgl&gt;</th><th scope=col>&lt;lgl&gt;</th><th scope=col>&lt;lgl&gt;</th></tr>\n",
       "</thead>\n",
       "<tbody>\n",
       "\t<tr><th scope=row>221</th><td>320</td><td> 6</td><td>AML   </td><td>NA</td><td>0</td><td>NA</td><td>NA</td><td>NA</td><td>NA</td><td>NA</td><td>⋯</td><td>NA</td><td>NA</td><td>NA</td><td>NA</td><td>NA</td><td>NA</td><td>NA</td><td>NA</td><td>NA</td><td>NA</td></tr>\n",
       "\t<tr><th scope=row>222</th><td>321</td><td>16</td><td>HD    </td><td>NA</td><td>0</td><td>NA</td><td>NA</td><td>NA</td><td>NA</td><td>NA</td><td>⋯</td><td>NA</td><td>NA</td><td>NA</td><td>NA</td><td>NA</td><td>NA</td><td>NA</td><td>NA</td><td>NA</td><td>NA</td></tr>\n",
       "\t<tr><th scope=row>223</th><td>322</td><td>18</td><td>DLBCL </td><td>NA</td><td>0</td><td>NA</td><td>NA</td><td>NA</td><td>NA</td><td>NA</td><td>⋯</td><td>NA</td><td>NA</td><td>NA</td><td>NA</td><td>NA</td><td>NA</td><td>NA</td><td>NA</td><td>NA</td><td>NA</td></tr>\n",
       "\t<tr><th scope=row>224</th><td>323</td><td> 1</td><td>HR ALL</td><td>NA</td><td>0</td><td>NA</td><td>NA</td><td>NA</td><td>NA</td><td>NA</td><td>⋯</td><td>NA</td><td>NA</td><td>NA</td><td>NA</td><td>NA</td><td>NA</td><td>NA</td><td>NA</td><td>NA</td><td>NA</td></tr>\n",
       "\t<tr><th scope=row>225</th><td>324</td><td>12</td><td>T-ALL </td><td>NA</td><td>0</td><td>NA</td><td>NA</td><td>NA</td><td>NA</td><td>NA</td><td>⋯</td><td>NA</td><td>NA</td><td>NA</td><td>NA</td><td>NA</td><td>NA</td><td>NA</td><td>NA</td><td>NA</td><td>NA</td></tr>\n",
       "\t<tr><th scope=row>226</th><td>325</td><td> 2</td><td>ERMS  </td><td>NA</td><td>0</td><td>NA</td><td>NA</td><td>NA</td><td>NA</td><td>NA</td><td>⋯</td><td>NA</td><td>NA</td><td>NA</td><td>NA</td><td>NA</td><td>NA</td><td>NA</td><td>NA</td><td>NA</td><td>NA</td></tr>\n",
       "</tbody>\n",
       "</table>\n"
      ],
      "text/latex": [
       "A data.frame: 6 × 305\n",
       "\\begin{tabular}{r|lllllllllllllllllllll}\n",
       "  &  ID\\# & Age & DX & TE Fold & CD3 & PD-1 & PDL1 & LAG3 & TIM3 & CTLA4 & ⋯ & LAG3 & TIM3 & CTLA4 & PD1\\% & PDL1\\% & LAG3\\% & TIM3\\% & CTLA4\\% & Any NCR & PD1 + LAG3 + TIM3\\\\\n",
       "  & <int> & <dbl> & <chr> & <chr> & <int> & <chr> & <int> & <chr> & <chr> & <int> & ⋯ & <int> & <int> & <lgl> & <lgl> & <lgl> & <lgl> & <lgl> & <lgl> & <lgl> & <lgl>\\\\\n",
       "\\hline\n",
       "\t221 & 320 &  6 & AML    & NA & 0 & NA & NA & NA & NA & NA & ⋯ & NA & NA & NA & NA & NA & NA & NA & NA & NA & NA\\\\\n",
       "\t222 & 321 & 16 & HD     & NA & 0 & NA & NA & NA & NA & NA & ⋯ & NA & NA & NA & NA & NA & NA & NA & NA & NA & NA\\\\\n",
       "\t223 & 322 & 18 & DLBCL  & NA & 0 & NA & NA & NA & NA & NA & ⋯ & NA & NA & NA & NA & NA & NA & NA & NA & NA & NA\\\\\n",
       "\t224 & 323 &  1 & HR ALL & NA & 0 & NA & NA & NA & NA & NA & ⋯ & NA & NA & NA & NA & NA & NA & NA & NA & NA & NA\\\\\n",
       "\t225 & 324 & 12 & T-ALL  & NA & 0 & NA & NA & NA & NA & NA & ⋯ & NA & NA & NA & NA & NA & NA & NA & NA & NA & NA\\\\\n",
       "\t226 & 325 &  2 & ERMS   & NA & 0 & NA & NA & NA & NA & NA & ⋯ & NA & NA & NA & NA & NA & NA & NA & NA & NA & NA\\\\\n",
       "\\end{tabular}\n"
      ],
      "text/markdown": [
       "\n",
       "A data.frame: 6 × 305\n",
       "\n",
       "| <!--/--> |  ID# &lt;int&gt; | Age &lt;dbl&gt; | DX &lt;chr&gt; | TE Fold &lt;chr&gt; | CD3 &lt;int&gt; | PD-1 &lt;chr&gt; | PDL1 &lt;int&gt; | LAG3 &lt;chr&gt; | TIM3 &lt;chr&gt; | CTLA4 &lt;int&gt; | ⋯ ⋯ | LAG3 &lt;int&gt; | TIM3 &lt;int&gt; | CTLA4 &lt;lgl&gt; | PD1% &lt;lgl&gt; | PDL1% &lt;lgl&gt; | LAG3% &lt;lgl&gt; | TIM3% &lt;lgl&gt; | CTLA4% &lt;lgl&gt; | Any NCR &lt;lgl&gt; | PD1 + LAG3 + TIM3 &lt;lgl&gt; |\n",
       "|---|---|---|---|---|---|---|---|---|---|---|---|---|---|---|---|---|---|---|---|---|---|\n",
       "| 221 | 320 |  6 | AML    | NA | 0 | NA | NA | NA | NA | NA | ⋯ | NA | NA | NA | NA | NA | NA | NA | NA | NA | NA |\n",
       "| 222 | 321 | 16 | HD     | NA | 0 | NA | NA | NA | NA | NA | ⋯ | NA | NA | NA | NA | NA | NA | NA | NA | NA | NA |\n",
       "| 223 | 322 | 18 | DLBCL  | NA | 0 | NA | NA | NA | NA | NA | ⋯ | NA | NA | NA | NA | NA | NA | NA | NA | NA | NA |\n",
       "| 224 | 323 |  1 | HR ALL | NA | 0 | NA | NA | NA | NA | NA | ⋯ | NA | NA | NA | NA | NA | NA | NA | NA | NA | NA |\n",
       "| 225 | 324 | 12 | T-ALL  | NA | 0 | NA | NA | NA | NA | NA | ⋯ | NA | NA | NA | NA | NA | NA | NA | NA | NA | NA |\n",
       "| 226 | 325 |  2 | ERMS   | NA | 0 | NA | NA | NA | NA | NA | ⋯ | NA | NA | NA | NA | NA | NA | NA | NA | NA | NA |\n",
       "\n"
      ],
      "text/plain": [
       "     ID# Age DX     TE Fold CD3 PD-1 PDL1 LAG3 TIM3 CTLA4 ⋯ LAG3 TIM3 CTLA4\n",
       "221 320   6  AML    NA      0   NA   NA   NA   NA   NA    ⋯ NA   NA   NA   \n",
       "222 321  16  HD     NA      0   NA   NA   NA   NA   NA    ⋯ NA   NA   NA   \n",
       "223 322  18  DLBCL  NA      0   NA   NA   NA   NA   NA    ⋯ NA   NA   NA   \n",
       "224 323   1  HR ALL NA      0   NA   NA   NA   NA   NA    ⋯ NA   NA   NA   \n",
       "225 324  12  T-ALL  NA      0   NA   NA   NA   NA   NA    ⋯ NA   NA   NA   \n",
       "226 325   2  ERMS   NA      0   NA   NA   NA   NA   NA    ⋯ NA   NA   NA   \n",
       "    PD1% PDL1% LAG3% TIM3% CTLA4% Any NCR PD1 + LAG3 + TIM3\n",
       "221 NA   NA    NA    NA    NA     NA      NA               \n",
       "222 NA   NA    NA    NA    NA     NA      NA               \n",
       "223 NA   NA    NA    NA    NA     NA      NA               \n",
       "224 NA   NA    NA    NA    NA     NA      NA               \n",
       "225 NA   NA    NA    NA    NA     NA      NA               \n",
       "226 NA   NA    NA    NA    NA     NA      NA               "
      ]
     },
     "metadata": {},
     "output_type": "display_data"
    }
   ],
   "source": [
    "head(NCRs[221:nrow(NCRs),])"
   ]
  },
  {
   "cell_type": "markdown",
   "metadata": {},
   "source": [
    "Subset to include patients 330 to 437"
   ]
  },
  {
   "cell_type": "code",
   "execution_count": 15,
   "metadata": {},
   "outputs": [],
   "source": [
    "NCRssubset <- NCRs[221:nrow(NCRs),]"
   ]
  },
  {
   "cell_type": "code",
   "execution_count": 16,
   "metadata": {},
   "outputs": [
    {
     "data": {
      "text/html": [
       "<table class=\"dataframe\">\n",
       "<caption>A data.frame: 6 × 305</caption>\n",
       "<thead>\n",
       "\t<tr><th></th><th scope=col> ID#</th><th scope=col>Age</th><th scope=col>DX</th><th scope=col>TE Fold</th><th scope=col>CD3</th><th scope=col>PD-1</th><th scope=col>PDL1</th><th scope=col>LAG3</th><th scope=col>TIM3</th><th scope=col>CTLA4</th><th scope=col>⋯</th><th scope=col>LAG3</th><th scope=col>TIM3</th><th scope=col>CTLA4</th><th scope=col>PD1%</th><th scope=col>PDL1%</th><th scope=col>LAG3%</th><th scope=col>TIM3%</th><th scope=col>CTLA4%</th><th scope=col>Any NCR</th><th scope=col>PD1 + LAG3 + TIM3</th></tr>\n",
       "\t<tr><th></th><th scope=col>&lt;int&gt;</th><th scope=col>&lt;dbl&gt;</th><th scope=col>&lt;chr&gt;</th><th scope=col>&lt;chr&gt;</th><th scope=col>&lt;int&gt;</th><th scope=col>&lt;chr&gt;</th><th scope=col>&lt;int&gt;</th><th scope=col>&lt;chr&gt;</th><th scope=col>&lt;chr&gt;</th><th scope=col>&lt;int&gt;</th><th scope=col>⋯</th><th scope=col>&lt;int&gt;</th><th scope=col>&lt;int&gt;</th><th scope=col>&lt;lgl&gt;</th><th scope=col>&lt;lgl&gt;</th><th scope=col>&lt;lgl&gt;</th><th scope=col>&lt;lgl&gt;</th><th scope=col>&lt;lgl&gt;</th><th scope=col>&lt;lgl&gt;</th><th scope=col>&lt;lgl&gt;</th><th scope=col>&lt;lgl&gt;</th></tr>\n",
       "</thead>\n",
       "<tbody>\n",
       "\t<tr><th scope=row>221</th><td>320</td><td> 6</td><td>AML   </td><td>NA</td><td>0</td><td>NA</td><td>NA</td><td>NA</td><td>NA</td><td>NA</td><td>⋯</td><td>NA</td><td>NA</td><td>NA</td><td>NA</td><td>NA</td><td>NA</td><td>NA</td><td>NA</td><td>NA</td><td>NA</td></tr>\n",
       "\t<tr><th scope=row>222</th><td>321</td><td>16</td><td>HD    </td><td>NA</td><td>0</td><td>NA</td><td>NA</td><td>NA</td><td>NA</td><td>NA</td><td>⋯</td><td>NA</td><td>NA</td><td>NA</td><td>NA</td><td>NA</td><td>NA</td><td>NA</td><td>NA</td><td>NA</td><td>NA</td></tr>\n",
       "\t<tr><th scope=row>223</th><td>322</td><td>18</td><td>DLBCL </td><td>NA</td><td>0</td><td>NA</td><td>NA</td><td>NA</td><td>NA</td><td>NA</td><td>⋯</td><td>NA</td><td>NA</td><td>NA</td><td>NA</td><td>NA</td><td>NA</td><td>NA</td><td>NA</td><td>NA</td><td>NA</td></tr>\n",
       "\t<tr><th scope=row>224</th><td>323</td><td> 1</td><td>HR ALL</td><td>NA</td><td>0</td><td>NA</td><td>NA</td><td>NA</td><td>NA</td><td>NA</td><td>⋯</td><td>NA</td><td>NA</td><td>NA</td><td>NA</td><td>NA</td><td>NA</td><td>NA</td><td>NA</td><td>NA</td><td>NA</td></tr>\n",
       "\t<tr><th scope=row>225</th><td>324</td><td>12</td><td>T-ALL </td><td>NA</td><td>0</td><td>NA</td><td>NA</td><td>NA</td><td>NA</td><td>NA</td><td>⋯</td><td>NA</td><td>NA</td><td>NA</td><td>NA</td><td>NA</td><td>NA</td><td>NA</td><td>NA</td><td>NA</td><td>NA</td></tr>\n",
       "\t<tr><th scope=row>226</th><td>325</td><td> 2</td><td>ERMS  </td><td>NA</td><td>0</td><td>NA</td><td>NA</td><td>NA</td><td>NA</td><td>NA</td><td>⋯</td><td>NA</td><td>NA</td><td>NA</td><td>NA</td><td>NA</td><td>NA</td><td>NA</td><td>NA</td><td>NA</td><td>NA</td></tr>\n",
       "</tbody>\n",
       "</table>\n"
      ],
      "text/latex": [
       "A data.frame: 6 × 305\n",
       "\\begin{tabular}{r|lllllllllllllllllllll}\n",
       "  &  ID\\# & Age & DX & TE Fold & CD3 & PD-1 & PDL1 & LAG3 & TIM3 & CTLA4 & ⋯ & LAG3 & TIM3 & CTLA4 & PD1\\% & PDL1\\% & LAG3\\% & TIM3\\% & CTLA4\\% & Any NCR & PD1 + LAG3 + TIM3\\\\\n",
       "  & <int> & <dbl> & <chr> & <chr> & <int> & <chr> & <int> & <chr> & <chr> & <int> & ⋯ & <int> & <int> & <lgl> & <lgl> & <lgl> & <lgl> & <lgl> & <lgl> & <lgl> & <lgl>\\\\\n",
       "\\hline\n",
       "\t221 & 320 &  6 & AML    & NA & 0 & NA & NA & NA & NA & NA & ⋯ & NA & NA & NA & NA & NA & NA & NA & NA & NA & NA\\\\\n",
       "\t222 & 321 & 16 & HD     & NA & 0 & NA & NA & NA & NA & NA & ⋯ & NA & NA & NA & NA & NA & NA & NA & NA & NA & NA\\\\\n",
       "\t223 & 322 & 18 & DLBCL  & NA & 0 & NA & NA & NA & NA & NA & ⋯ & NA & NA & NA & NA & NA & NA & NA & NA & NA & NA\\\\\n",
       "\t224 & 323 &  1 & HR ALL & NA & 0 & NA & NA & NA & NA & NA & ⋯ & NA & NA & NA & NA & NA & NA & NA & NA & NA & NA\\\\\n",
       "\t225 & 324 & 12 & T-ALL  & NA & 0 & NA & NA & NA & NA & NA & ⋯ & NA & NA & NA & NA & NA & NA & NA & NA & NA & NA\\\\\n",
       "\t226 & 325 &  2 & ERMS   & NA & 0 & NA & NA & NA & NA & NA & ⋯ & NA & NA & NA & NA & NA & NA & NA & NA & NA & NA\\\\\n",
       "\\end{tabular}\n"
      ],
      "text/markdown": [
       "\n",
       "A data.frame: 6 × 305\n",
       "\n",
       "| <!--/--> |  ID# &lt;int&gt; | Age &lt;dbl&gt; | DX &lt;chr&gt; | TE Fold &lt;chr&gt; | CD3 &lt;int&gt; | PD-1 &lt;chr&gt; | PDL1 &lt;int&gt; | LAG3 &lt;chr&gt; | TIM3 &lt;chr&gt; | CTLA4 &lt;int&gt; | ⋯ ⋯ | LAG3 &lt;int&gt; | TIM3 &lt;int&gt; | CTLA4 &lt;lgl&gt; | PD1% &lt;lgl&gt; | PDL1% &lt;lgl&gt; | LAG3% &lt;lgl&gt; | TIM3% &lt;lgl&gt; | CTLA4% &lt;lgl&gt; | Any NCR &lt;lgl&gt; | PD1 + LAG3 + TIM3 &lt;lgl&gt; |\n",
       "|---|---|---|---|---|---|---|---|---|---|---|---|---|---|---|---|---|---|---|---|---|---|\n",
       "| 221 | 320 |  6 | AML    | NA | 0 | NA | NA | NA | NA | NA | ⋯ | NA | NA | NA | NA | NA | NA | NA | NA | NA | NA |\n",
       "| 222 | 321 | 16 | HD     | NA | 0 | NA | NA | NA | NA | NA | ⋯ | NA | NA | NA | NA | NA | NA | NA | NA | NA | NA |\n",
       "| 223 | 322 | 18 | DLBCL  | NA | 0 | NA | NA | NA | NA | NA | ⋯ | NA | NA | NA | NA | NA | NA | NA | NA | NA | NA |\n",
       "| 224 | 323 |  1 | HR ALL | NA | 0 | NA | NA | NA | NA | NA | ⋯ | NA | NA | NA | NA | NA | NA | NA | NA | NA | NA |\n",
       "| 225 | 324 | 12 | T-ALL  | NA | 0 | NA | NA | NA | NA | NA | ⋯ | NA | NA | NA | NA | NA | NA | NA | NA | NA | NA |\n",
       "| 226 | 325 |  2 | ERMS   | NA | 0 | NA | NA | NA | NA | NA | ⋯ | NA | NA | NA | NA | NA | NA | NA | NA | NA | NA |\n",
       "\n"
      ],
      "text/plain": [
       "     ID# Age DX     TE Fold CD3 PD-1 PDL1 LAG3 TIM3 CTLA4 ⋯ LAG3 TIM3 CTLA4\n",
       "221 320   6  AML    NA      0   NA   NA   NA   NA   NA    ⋯ NA   NA   NA   \n",
       "222 321  16  HD     NA      0   NA   NA   NA   NA   NA    ⋯ NA   NA   NA   \n",
       "223 322  18  DLBCL  NA      0   NA   NA   NA   NA   NA    ⋯ NA   NA   NA   \n",
       "224 323   1  HR ALL NA      0   NA   NA   NA   NA   NA    ⋯ NA   NA   NA   \n",
       "225 324  12  T-ALL  NA      0   NA   NA   NA   NA   NA    ⋯ NA   NA   NA   \n",
       "226 325   2  ERMS   NA      0   NA   NA   NA   NA   NA    ⋯ NA   NA   NA   \n",
       "    PD1% PDL1% LAG3% TIM3% CTLA4% Any NCR PD1 + LAG3 + TIM3\n",
       "221 NA   NA    NA    NA    NA     NA      NA               \n",
       "222 NA   NA    NA    NA    NA     NA      NA               \n",
       "223 NA   NA    NA    NA    NA     NA      NA               \n",
       "224 NA   NA    NA    NA    NA     NA      NA               \n",
       "225 NA   NA    NA    NA    NA     NA      NA               \n",
       "226 NA   NA    NA    NA    NA     NA      NA               "
      ]
     },
     "metadata": {},
     "output_type": "display_data"
    }
   ],
   "source": [
    "head(NCRssubset)"
   ]
  },
  {
   "cell_type": "markdown",
   "metadata": {},
   "source": [
    "Get empty columns. They indicate serial samplesets for each patient"
   ]
  },
  {
   "cell_type": "code",
   "execution_count": 17,
   "metadata": {
    "scrolled": true
   },
   "outputs": [],
   "source": [
    "subsets <- grep(\"^$\", colnames(NCRssubset))"
   ]
  },
  {
   "cell_type": "code",
   "execution_count": 18,
   "metadata": {},
   "outputs": [
    {
     "data": {
      "text/html": [
       "<style>\n",
       ".list-inline {list-style: none; margin:0; padding: 0}\n",
       ".list-inline>li {display: inline-block}\n",
       ".list-inline>li:not(:last-child)::after {content: \"\\00b7\"; padding: 0 .5ex}\n",
       "</style>\n",
       "<ol class=list-inline><li>18</li><li>34</li><li>50</li><li>66</li><li>82</li><li>98</li><li>114</li><li>130</li><li>146</li><li>162</li><li>178</li><li>194</li><li>210</li><li>226</li><li>242</li><li>258</li><li>274</li><li>290</li></ol>\n"
      ],
      "text/latex": [
       "\\begin{enumerate*}\n",
       "\\item 18\n",
       "\\item 34\n",
       "\\item 50\n",
       "\\item 66\n",
       "\\item 82\n",
       "\\item 98\n",
       "\\item 114\n",
       "\\item 130\n",
       "\\item 146\n",
       "\\item 162\n",
       "\\item 178\n",
       "\\item 194\n",
       "\\item 210\n",
       "\\item 226\n",
       "\\item 242\n",
       "\\item 258\n",
       "\\item 274\n",
       "\\item 290\n",
       "\\end{enumerate*}\n"
      ],
      "text/markdown": [
       "1. 18\n",
       "2. 34\n",
       "3. 50\n",
       "4. 66\n",
       "5. 82\n",
       "6. 98\n",
       "7. 114\n",
       "8. 130\n",
       "9. 146\n",
       "10. 162\n",
       "11. 178\n",
       "12. 194\n",
       "13. 210\n",
       "14. 226\n",
       "15. 242\n",
       "16. 258\n",
       "17. 274\n",
       "18. 290\n",
       "\n",
       "\n"
      ],
      "text/plain": [
       " [1]  18  34  50  66  82  98 114 130 146 162 178 194 210 226 242 258 274 290"
      ]
     },
     "metadata": {},
     "output_type": "display_data"
    }
   ],
   "source": [
    "subsets"
   ]
  },
  {
   "cell_type": "markdown",
   "metadata": {},
   "source": [
    "Save each sampleset then rbind"
   ]
  },
  {
   "cell_type": "code",
   "execution_count": 19,
   "metadata": {},
   "outputs": [],
   "source": [
    "NCRssubset1 <- NCRssubset[,1:17]\n",
    "NCRssubset2 <- NCRssubset[,c(1:3,19:33)]\n",
    "NCRssubset3 <- NCRssubset[,c(1:3,35:49)]\n",
    "NCRssubset4 <- NCRssubset[,c(1:3,51:65)]\n",
    "NCRssubset5 <- NCRssubset[,c(1:3,67:81)]"
   ]
  },
  {
   "cell_type": "code",
   "execution_count": 20,
   "metadata": {},
   "outputs": [],
   "source": [
    "NCRssubset1$`Pass?` <- NA"
   ]
  },
  {
   "cell_type": "code",
   "execution_count": 21,
   "metadata": {},
   "outputs": [],
   "source": [
    "NCRssubset1$cycle <- \"01\"\n",
    "NCRssubset2$cycle <- \"02\"\n",
    "NCRssubset3$cycle <- \"03\"\n",
    "NCRssubset4$cycle <- \"04\"\n",
    "NCRssubset5$cycle <- \"05\""
   ]
  },
  {
   "cell_type": "code",
   "execution_count": 22,
   "metadata": {},
   "outputs": [],
   "source": [
    "myNCRdf <- rbind(NCRssubset1,\n",
    "                NCRssubset2,\n",
    "                NCRssubset3,\n",
    "                NCRssubset4,\n",
    "                NCRssubset5)"
   ]
  },
  {
   "cell_type": "markdown",
   "metadata": {},
   "source": [
    "Reorder columns and colnames cleanup"
   ]
  },
  {
   "cell_type": "code",
   "execution_count": 23,
   "metadata": {},
   "outputs": [],
   "source": [
    "myNCRdf <- myNCRdf[, c(1,19,2:4,18,5:17)]"
   ]
  },
  {
   "cell_type": "code",
   "execution_count": 24,
   "metadata": {
    "scrolled": true
   },
   "outputs": [],
   "source": [
    "colnames(myNCRdf)[c(1,4,5,6)] <- c(\"Patient\", \"Disease_type\", \"TE_fold\", \"Pass\")"
   ]
  },
  {
   "cell_type": "markdown",
   "metadata": {},
   "source": [
    "Assign -1 to all \"x\" values. These are samples that failed the flow experiment"
   ]
  },
  {
   "cell_type": "code",
   "execution_count": 25,
   "metadata": {},
   "outputs": [],
   "source": [
    "myNCRdf$`PD-1` <- gsub(\"x\", -1, myNCRdf$`PD-1`)\n",
    "myNCRdf$LAG3 <- gsub(\"x\", -1, myNCRdf$LAG3)\n",
    "myNCRdf$TIM3 <- gsub(\"x\", -1, myNCRdf$TIM3)"
   ]
  },
  {
   "cell_type": "code",
   "execution_count": 26,
   "metadata": {},
   "outputs": [],
   "source": [
    "myNCRdf$`PD-1` <- as.numeric(myNCRdf$`PD-1`)\n",
    "myNCRdf$LAG3 <- as.numeric(myNCRdf$LAG3)\n",
    "myNCRdf$TIM3 <- as.numeric(myNCRdf$TIM3)"
   ]
  },
  {
   "cell_type": "code",
   "execution_count": 27,
   "metadata": {},
   "outputs": [
    {
     "data": {
      "text/html": [
       "<table class=\"dataframe\">\n",
       "<caption>A data.frame: 6 × 19</caption>\n",
       "<thead>\n",
       "\t<tr><th></th><th scope=col>Patient</th><th scope=col>cycle</th><th scope=col>Age</th><th scope=col>Disease_type</th><th scope=col>TE_fold</th><th scope=col>Pass</th><th scope=col>CD3</th><th scope=col>PD-1</th><th scope=col>PDL1</th><th scope=col>LAG3</th><th scope=col>TIM3</th><th scope=col>CTLA4</th><th scope=col>PD1%</th><th scope=col>PDL1%</th><th scope=col>LAG3%</th><th scope=col>TIM3%</th><th scope=col>CTLA4%</th><th scope=col>Any NCR</th><th scope=col>PD1 + LAG3 + TIM3</th></tr>\n",
       "\t<tr><th></th><th scope=col>&lt;int&gt;</th><th scope=col>&lt;chr&gt;</th><th scope=col>&lt;dbl&gt;</th><th scope=col>&lt;chr&gt;</th><th scope=col>&lt;chr&gt;</th><th scope=col>&lt;int&gt;</th><th scope=col>&lt;int&gt;</th><th scope=col>&lt;dbl&gt;</th><th scope=col>&lt;int&gt;</th><th scope=col>&lt;dbl&gt;</th><th scope=col>&lt;dbl&gt;</th><th scope=col>&lt;int&gt;</th><th scope=col>&lt;dbl&gt;</th><th scope=col>&lt;dbl&gt;</th><th scope=col>&lt;dbl&gt;</th><th scope=col>&lt;dbl&gt;</th><th scope=col>&lt;dbl&gt;</th><th scope=col>&lt;dbl&gt;</th><th scope=col>&lt;dbl&gt;</th></tr>\n",
       "</thead>\n",
       "<tbody>\n",
       "\t<tr><th scope=row>221</th><td>320</td><td>01</td><td> 6</td><td>AML   </td><td>NA</td><td>NA</td><td>0</td><td>NA</td><td>NA</td><td>NA</td><td>NA</td><td>NA</td><td>NA</td><td>NA</td><td>NA</td><td>NA</td><td>NA</td><td>NA</td><td>NA</td></tr>\n",
       "\t<tr><th scope=row>222</th><td>321</td><td>01</td><td>16</td><td>HD    </td><td>NA</td><td>NA</td><td>0</td><td>NA</td><td>NA</td><td>NA</td><td>NA</td><td>NA</td><td>NA</td><td>NA</td><td>NA</td><td>NA</td><td>NA</td><td>NA</td><td>NA</td></tr>\n",
       "\t<tr><th scope=row>223</th><td>322</td><td>01</td><td>18</td><td>DLBCL </td><td>NA</td><td>NA</td><td>0</td><td>NA</td><td>NA</td><td>NA</td><td>NA</td><td>NA</td><td>NA</td><td>NA</td><td>NA</td><td>NA</td><td>NA</td><td>NA</td><td>NA</td></tr>\n",
       "\t<tr><th scope=row>224</th><td>323</td><td>01</td><td> 1</td><td>HR ALL</td><td>NA</td><td>NA</td><td>0</td><td>NA</td><td>NA</td><td>NA</td><td>NA</td><td>NA</td><td>NA</td><td>NA</td><td>NA</td><td>NA</td><td>NA</td><td>NA</td><td>NA</td></tr>\n",
       "\t<tr><th scope=row>225</th><td>324</td><td>01</td><td>12</td><td>T-ALL </td><td>NA</td><td>NA</td><td>0</td><td>NA</td><td>NA</td><td>NA</td><td>NA</td><td>NA</td><td>NA</td><td>NA</td><td>NA</td><td>NA</td><td>NA</td><td>NA</td><td>NA</td></tr>\n",
       "\t<tr><th scope=row>226</th><td>325</td><td>01</td><td> 2</td><td>ERMS  </td><td>NA</td><td>NA</td><td>0</td><td>NA</td><td>NA</td><td>NA</td><td>NA</td><td>NA</td><td>NA</td><td>NA</td><td>NA</td><td>NA</td><td>NA</td><td>NA</td><td>NA</td></tr>\n",
       "</tbody>\n",
       "</table>\n"
      ],
      "text/latex": [
       "A data.frame: 6 × 19\n",
       "\\begin{tabular}{r|lllllllllllllllllll}\n",
       "  & Patient & cycle & Age & Disease\\_type & TE\\_fold & Pass & CD3 & PD-1 & PDL1 & LAG3 & TIM3 & CTLA4 & PD1\\% & PDL1\\% & LAG3\\% & TIM3\\% & CTLA4\\% & Any NCR & PD1 + LAG3 + TIM3\\\\\n",
       "  & <int> & <chr> & <dbl> & <chr> & <chr> & <int> & <int> & <dbl> & <int> & <dbl> & <dbl> & <int> & <dbl> & <dbl> & <dbl> & <dbl> & <dbl> & <dbl> & <dbl>\\\\\n",
       "\\hline\n",
       "\t221 & 320 & 01 &  6 & AML    & NA & NA & 0 & NA & NA & NA & NA & NA & NA & NA & NA & NA & NA & NA & NA\\\\\n",
       "\t222 & 321 & 01 & 16 & HD     & NA & NA & 0 & NA & NA & NA & NA & NA & NA & NA & NA & NA & NA & NA & NA\\\\\n",
       "\t223 & 322 & 01 & 18 & DLBCL  & NA & NA & 0 & NA & NA & NA & NA & NA & NA & NA & NA & NA & NA & NA & NA\\\\\n",
       "\t224 & 323 & 01 &  1 & HR ALL & NA & NA & 0 & NA & NA & NA & NA & NA & NA & NA & NA & NA & NA & NA & NA\\\\\n",
       "\t225 & 324 & 01 & 12 & T-ALL  & NA & NA & 0 & NA & NA & NA & NA & NA & NA & NA & NA & NA & NA & NA & NA\\\\\n",
       "\t226 & 325 & 01 &  2 & ERMS   & NA & NA & 0 & NA & NA & NA & NA & NA & NA & NA & NA & NA & NA & NA & NA\\\\\n",
       "\\end{tabular}\n"
      ],
      "text/markdown": [
       "\n",
       "A data.frame: 6 × 19\n",
       "\n",
       "| <!--/--> | Patient &lt;int&gt; | cycle &lt;chr&gt; | Age &lt;dbl&gt; | Disease_type &lt;chr&gt; | TE_fold &lt;chr&gt; | Pass &lt;int&gt; | CD3 &lt;int&gt; | PD-1 &lt;dbl&gt; | PDL1 &lt;int&gt; | LAG3 &lt;dbl&gt; | TIM3 &lt;dbl&gt; | CTLA4 &lt;int&gt; | PD1% &lt;dbl&gt; | PDL1% &lt;dbl&gt; | LAG3% &lt;dbl&gt; | TIM3% &lt;dbl&gt; | CTLA4% &lt;dbl&gt; | Any NCR &lt;dbl&gt; | PD1 + LAG3 + TIM3 &lt;dbl&gt; |\n",
       "|---|---|---|---|---|---|---|---|---|---|---|---|---|---|---|---|---|---|---|---|\n",
       "| 221 | 320 | 01 |  6 | AML    | NA | NA | 0 | NA | NA | NA | NA | NA | NA | NA | NA | NA | NA | NA | NA |\n",
       "| 222 | 321 | 01 | 16 | HD     | NA | NA | 0 | NA | NA | NA | NA | NA | NA | NA | NA | NA | NA | NA | NA |\n",
       "| 223 | 322 | 01 | 18 | DLBCL  | NA | NA | 0 | NA | NA | NA | NA | NA | NA | NA | NA | NA | NA | NA | NA |\n",
       "| 224 | 323 | 01 |  1 | HR ALL | NA | NA | 0 | NA | NA | NA | NA | NA | NA | NA | NA | NA | NA | NA | NA |\n",
       "| 225 | 324 | 01 | 12 | T-ALL  | NA | NA | 0 | NA | NA | NA | NA | NA | NA | NA | NA | NA | NA | NA | NA |\n",
       "| 226 | 325 | 01 |  2 | ERMS   | NA | NA | 0 | NA | NA | NA | NA | NA | NA | NA | NA | NA | NA | NA | NA |\n",
       "\n"
      ],
      "text/plain": [
       "    Patient cycle Age Disease_type TE_fold Pass CD3 PD-1 PDL1 LAG3 TIM3 CTLA4\n",
       "221 320     01     6  AML          NA      NA   0   NA   NA   NA   NA   NA   \n",
       "222 321     01    16  HD           NA      NA   0   NA   NA   NA   NA   NA   \n",
       "223 322     01    18  DLBCL        NA      NA   0   NA   NA   NA   NA   NA   \n",
       "224 323     01     1  HR ALL       NA      NA   0   NA   NA   NA   NA   NA   \n",
       "225 324     01    12  T-ALL        NA      NA   0   NA   NA   NA   NA   NA   \n",
       "226 325     01     2  ERMS         NA      NA   0   NA   NA   NA   NA   NA   \n",
       "    PD1% PDL1% LAG3% TIM3% CTLA4% Any NCR PD1 + LAG3 + TIM3\n",
       "221 NA   NA    NA    NA    NA     NA      NA               \n",
       "222 NA   NA    NA    NA    NA     NA      NA               \n",
       "223 NA   NA    NA    NA    NA     NA      NA               \n",
       "224 NA   NA    NA    NA    NA     NA      NA               \n",
       "225 NA   NA    NA    NA    NA     NA      NA               \n",
       "226 NA   NA    NA    NA    NA     NA      NA               "
      ]
     },
     "metadata": {},
     "output_type": "display_data"
    }
   ],
   "source": [
    "head(myNCRdf)"
   ]
  },
  {
   "cell_type": "code",
   "execution_count": 28,
   "metadata": {},
   "outputs": [
    {
     "data": {
      "text/html": [
       "<style>\n",
       ".list-inline {list-style: none; margin:0; padding: 0}\n",
       ".list-inline>li {display: inline-block}\n",
       ".list-inline>li:not(:last-child)::after {content: \"\\00b7\"; padding: 0 .5ex}\n",
       "</style>\n",
       "<ol class=list-inline><li>590</li><li>19</li></ol>\n"
      ],
      "text/latex": [
       "\\begin{enumerate*}\n",
       "\\item 590\n",
       "\\item 19\n",
       "\\end{enumerate*}\n"
      ],
      "text/markdown": [
       "1. 590\n",
       "2. 19\n",
       "\n",
       "\n"
      ],
      "text/plain": [
       "[1] 590  19"
      ]
     },
     "metadata": {},
     "output_type": "display_data"
    }
   ],
   "source": [
    "dim(myNCRdf)"
   ]
  },
  {
   "cell_type": "markdown",
   "metadata": {},
   "source": [
    "Generate percentage NCRs"
   ]
  },
  {
   "cell_type": "code",
   "execution_count": 29,
   "metadata": {},
   "outputs": [],
   "source": [
    "myNCRdf$`PD1%` <- (myNCRdf$`PD-1`/myNCRdf$CD3)* 100\n",
    "myNCRdf$`PDL1%` <- (myNCRdf$PDL1/myNCRdf$CD3)* 100\n",
    "myNCRdf$`LAG3%` <- (myNCRdf$LAG3/myNCRdf$CD3)* 100\n",
    "myNCRdf$`TIM3%` <- (myNCRdf$TIM3/myNCRdf$CD3)* 100\n",
    "myNCRdf$`CTLA4%` <- (myNCRdf$CTLA4/myNCRdf$CD3)* 100"
   ]
  },
  {
   "cell_type": "code",
   "execution_count": 30,
   "metadata": {},
   "outputs": [],
   "source": [
    "write.csv(myNCRdf,file = paste0(datapath, \"NCR_df.csv\"),row.names = F)"
   ]
  },
  {
   "cell_type": "markdown",
   "metadata": {},
   "source": [
    "## Clean up T cells file\n"
   ]
  },
  {
   "cell_type": "markdown",
   "metadata": {},
   "source": [
    "Copy \"Pre Memory Subsets\" sheet to a new spreadsheet (values only)\n",
    "\n",
    "move the first 3 colnames up to align the the other colnames\n",
    "remove row 2. save as Tsubsets.csv"
   ]
  },
  {
   "cell_type": "code",
   "execution_count": 31,
   "metadata": {},
   "outputs": [],
   "source": [
    "Tcells <- read.csv(paste0(datapath, \"Flow/Tsubsets.csv\"),header = T, \n",
    "                 check.names = F, stringsAsFactors = F,\n",
    "                 na.strings = c(\"NA\",\"\",\"#DIV/0!\",\"#VALUE!\",\"#REF!\"))"
   ]
  },
  {
   "cell_type": "code",
   "execution_count": 32,
   "metadata": {
    "scrolled": true
   },
   "outputs": [
    {
     "data": {
      "text/html": [
       "<table class=\"dataframe\">\n",
       "<caption>A data.frame: 6 × 306</caption>\n",
       "<thead>\n",
       "\t<tr><th></th><th scope=col> ID#</th><th scope=col>Age</th><th scope=col>DX</th><th scope=col>TE Fold</th><th scope=col>Pass?</th><th scope=col>CD3</th><th scope=col>EM</th><th scope=col>CM</th><th scope=col>Naïve</th><th scope=col>SCM</th><th scope=col>⋯</th><th scope=col>Naïve</th><th scope=col>SCM</th><th scope=col>TE</th><th scope=col>EM%</th><th scope=col>CM%</th><th scope=col>Naïve%</th><th scope=col>SCM%</th><th scope=col>TE%</th><th scope=col>Naïve/TE</th><th scope=col>N+CM+SCM/TE+EM</th></tr>\n",
       "\t<tr><th></th><th scope=col>&lt;int&gt;</th><th scope=col>&lt;dbl&gt;</th><th scope=col>&lt;chr&gt;</th><th scope=col>&lt;chr&gt;</th><th scope=col>&lt;int&gt;</th><th scope=col>&lt;int&gt;</th><th scope=col>&lt;chr&gt;</th><th scope=col>&lt;chr&gt;</th><th scope=col>&lt;chr&gt;</th><th scope=col>&lt;chr&gt;</th><th scope=col>⋯</th><th scope=col>&lt;int&gt;</th><th scope=col>&lt;int&gt;</th><th scope=col>&lt;int&gt;</th><th scope=col>&lt;lgl&gt;</th><th scope=col>&lt;lgl&gt;</th><th scope=col>&lt;lgl&gt;</th><th scope=col>&lt;lgl&gt;</th><th scope=col>&lt;lgl&gt;</th><th scope=col>&lt;lgl&gt;</th><th scope=col>&lt;lgl&gt;</th></tr>\n",
       "</thead>\n",
       "<tbody>\n",
       "\t<tr><th scope=row>1</th><td>100</td><td>22</td><td>BMT               </td><td>0.53 </td><td>0</td><td>NA</td><td>NA</td><td>NA</td><td>NA</td><td>NA</td><td>⋯</td><td>NA</td><td>NA</td><td>NA</td><td>NA</td><td>NA</td><td>NA</td><td>NA</td><td>NA</td><td>NA</td><td>NA</td></tr>\n",
       "\t<tr><th scope=row>2</th><td>101</td><td> 6</td><td>SR ALL            </td><td>26.4 </td><td>1</td><td>NA</td><td>NA</td><td>NA</td><td>NA</td><td>NA</td><td>⋯</td><td>NA</td><td>NA</td><td>NA</td><td>NA</td><td>NA</td><td>NA</td><td>NA</td><td>NA</td><td>NA</td><td>NA</td></tr>\n",
       "\t<tr><th scope=row>3</th><td>102</td><td> 6</td><td>SR ALL            </td><td>8.11 </td><td>1</td><td>NA</td><td>NA</td><td>NA</td><td>NA</td><td>NA</td><td>⋯</td><td>NA</td><td>NA</td><td>NA</td><td>NA</td><td>NA</td><td>NA</td><td>NA</td><td>NA</td><td>NA</td><td>NA</td></tr>\n",
       "\t<tr><th scope=row>4</th><td>103</td><td> 4</td><td>Burkitt's Lymphoma</td><td>3.2  </td><td>0</td><td>NA</td><td>NA</td><td>NA</td><td>NA</td><td>NA</td><td>⋯</td><td>NA</td><td>NA</td><td>NA</td><td>NA</td><td>NA</td><td>NA</td><td>NA</td><td>NA</td><td>NA</td><td>NA</td></tr>\n",
       "\t<tr><th scope=row>5</th><td>104</td><td> 1</td><td>HR ALL            </td><td>22.86</td><td>1</td><td>NA</td><td>NA</td><td>NA</td><td>NA</td><td>NA</td><td>⋯</td><td>NA</td><td>NA</td><td>NA</td><td>NA</td><td>NA</td><td>NA</td><td>NA</td><td>NA</td><td>NA</td><td>NA</td></tr>\n",
       "\t<tr><th scope=row>6</th><td>105</td><td>14</td><td>HR ALL            </td><td>30.91</td><td>1</td><td>NA</td><td>NA</td><td>NA</td><td>NA</td><td>NA</td><td>⋯</td><td>NA</td><td>NA</td><td>NA</td><td>NA</td><td>NA</td><td>NA</td><td>NA</td><td>NA</td><td>NA</td><td>NA</td></tr>\n",
       "</tbody>\n",
       "</table>\n"
      ],
      "text/latex": [
       "A data.frame: 6 × 306\n",
       "\\begin{tabular}{r|lllllllllllllllllllll}\n",
       "  &  ID\\# & Age & DX & TE Fold & Pass? & CD3 & EM & CM & Naïve & SCM & ⋯ & Naïve & SCM & TE & EM\\% & CM\\% & Naïve\\% & SCM\\% & TE\\% & Naïve/TE & N+CM+SCM/TE+EM\\\\\n",
       "  & <int> & <dbl> & <chr> & <chr> & <int> & <int> & <chr> & <chr> & <chr> & <chr> & ⋯ & <int> & <int> & <int> & <lgl> & <lgl> & <lgl> & <lgl> & <lgl> & <lgl> & <lgl>\\\\\n",
       "\\hline\n",
       "\t1 & 100 & 22 & BMT                & 0.53  & 0 & NA & NA & NA & NA & NA & ⋯ & NA & NA & NA & NA & NA & NA & NA & NA & NA & NA\\\\\n",
       "\t2 & 101 &  6 & SR ALL             & 26.4  & 1 & NA & NA & NA & NA & NA & ⋯ & NA & NA & NA & NA & NA & NA & NA & NA & NA & NA\\\\\n",
       "\t3 & 102 &  6 & SR ALL             & 8.11  & 1 & NA & NA & NA & NA & NA & ⋯ & NA & NA & NA & NA & NA & NA & NA & NA & NA & NA\\\\\n",
       "\t4 & 103 &  4 & Burkitt's Lymphoma & 3.2   & 0 & NA & NA & NA & NA & NA & ⋯ & NA & NA & NA & NA & NA & NA & NA & NA & NA & NA\\\\\n",
       "\t5 & 104 &  1 & HR ALL             & 22.86 & 1 & NA & NA & NA & NA & NA & ⋯ & NA & NA & NA & NA & NA & NA & NA & NA & NA & NA\\\\\n",
       "\t6 & 105 & 14 & HR ALL             & 30.91 & 1 & NA & NA & NA & NA & NA & ⋯ & NA & NA & NA & NA & NA & NA & NA & NA & NA & NA\\\\\n",
       "\\end{tabular}\n"
      ],
      "text/markdown": [
       "\n",
       "A data.frame: 6 × 306\n",
       "\n",
       "| <!--/--> |  ID# &lt;int&gt; | Age &lt;dbl&gt; | DX &lt;chr&gt; | TE Fold &lt;chr&gt; | Pass? &lt;int&gt; | CD3 &lt;int&gt; | EM &lt;chr&gt; | CM &lt;chr&gt; | Naïve &lt;chr&gt; | SCM &lt;chr&gt; | ⋯ ⋯ | Naïve &lt;int&gt; | SCM &lt;int&gt; | TE &lt;int&gt; | EM% &lt;lgl&gt; | CM% &lt;lgl&gt; | Naïve% &lt;lgl&gt; | SCM% &lt;lgl&gt; | TE% &lt;lgl&gt; | Naïve/TE &lt;lgl&gt; | N+CM+SCM/TE+EM &lt;lgl&gt; |\n",
       "|---|---|---|---|---|---|---|---|---|---|---|---|---|---|---|---|---|---|---|---|---|---|\n",
       "| 1 | 100 | 22 | BMT                | 0.53  | 0 | NA | NA | NA | NA | NA | ⋯ | NA | NA | NA | NA | NA | NA | NA | NA | NA | NA |\n",
       "| 2 | 101 |  6 | SR ALL             | 26.4  | 1 | NA | NA | NA | NA | NA | ⋯ | NA | NA | NA | NA | NA | NA | NA | NA | NA | NA |\n",
       "| 3 | 102 |  6 | SR ALL             | 8.11  | 1 | NA | NA | NA | NA | NA | ⋯ | NA | NA | NA | NA | NA | NA | NA | NA | NA | NA |\n",
       "| 4 | 103 |  4 | Burkitt's Lymphoma | 3.2   | 0 | NA | NA | NA | NA | NA | ⋯ | NA | NA | NA | NA | NA | NA | NA | NA | NA | NA |\n",
       "| 5 | 104 |  1 | HR ALL             | 22.86 | 1 | NA | NA | NA | NA | NA | ⋯ | NA | NA | NA | NA | NA | NA | NA | NA | NA | NA |\n",
       "| 6 | 105 | 14 | HR ALL             | 30.91 | 1 | NA | NA | NA | NA | NA | ⋯ | NA | NA | NA | NA | NA | NA | NA | NA | NA | NA |\n",
       "\n"
      ],
      "text/plain": [
       "   ID# Age DX                 TE Fold Pass? CD3 EM CM Naïve SCM ⋯ Naïve SCM TE\n",
       "1 100  22  BMT                0.53    0     NA  NA NA NA    NA  ⋯ NA    NA  NA\n",
       "2 101   6  SR ALL             26.4    1     NA  NA NA NA    NA  ⋯ NA    NA  NA\n",
       "3 102   6  SR ALL             8.11    1     NA  NA NA NA    NA  ⋯ NA    NA  NA\n",
       "4 103   4  Burkitt's Lymphoma 3.2     0     NA  NA NA NA    NA  ⋯ NA    NA  NA\n",
       "5 104   1  HR ALL             22.86   1     NA  NA NA NA    NA  ⋯ NA    NA  NA\n",
       "6 105  14  HR ALL             30.91   1     NA  NA NA NA    NA  ⋯ NA    NA  NA\n",
       "  EM% CM% Naïve% SCM% TE% Naïve/TE N+CM+SCM/TE+EM\n",
       "1 NA  NA  NA     NA   NA  NA       NA            \n",
       "2 NA  NA  NA     NA   NA  NA       NA            \n",
       "3 NA  NA  NA     NA   NA  NA       NA            \n",
       "4 NA  NA  NA     NA   NA  NA       NA            \n",
       "5 NA  NA  NA     NA   NA  NA       NA            \n",
       "6 NA  NA  NA     NA   NA  NA       NA            "
      ]
     },
     "metadata": {},
     "output_type": "display_data"
    }
   ],
   "source": [
    "head(Tcells)"
   ]
  },
  {
   "cell_type": "markdown",
   "metadata": {},
   "source": [
    "Subset to include patients 330 to 437"
   ]
  },
  {
   "cell_type": "code",
   "execution_count": 33,
   "metadata": {},
   "outputs": [],
   "source": [
    "Tcellsubset <- Tcells[221:nrow(Tcells),]"
   ]
  },
  {
   "cell_type": "markdown",
   "metadata": {},
   "source": [
    "Get empty columns and seperate serial samples"
   ]
  },
  {
   "cell_type": "code",
   "execution_count": 34,
   "metadata": {
    "scrolled": true
   },
   "outputs": [
    {
     "data": {
      "text/html": [
       "<style>\n",
       ".list-inline {list-style: none; margin:0; padding: 0}\n",
       ".list-inline>li {display: inline-block}\n",
       ".list-inline>li:not(:last-child)::after {content: \"\\00b7\"; padding: 0 .5ex}\n",
       "</style>\n",
       "<ol class=list-inline><li>19</li><li>35</li><li>51</li><li>67</li><li>83</li><li>99</li><li>115</li><li>131</li><li>147</li><li>163</li><li>179</li><li>195</li><li>211</li><li>227</li><li>243</li><li>259</li><li>275</li><li>291</li></ol>\n"
      ],
      "text/latex": [
       "\\begin{enumerate*}\n",
       "\\item 19\n",
       "\\item 35\n",
       "\\item 51\n",
       "\\item 67\n",
       "\\item 83\n",
       "\\item 99\n",
       "\\item 115\n",
       "\\item 131\n",
       "\\item 147\n",
       "\\item 163\n",
       "\\item 179\n",
       "\\item 195\n",
       "\\item 211\n",
       "\\item 227\n",
       "\\item 243\n",
       "\\item 259\n",
       "\\item 275\n",
       "\\item 291\n",
       "\\end{enumerate*}\n"
      ],
      "text/markdown": [
       "1. 19\n",
       "2. 35\n",
       "3. 51\n",
       "4. 67\n",
       "5. 83\n",
       "6. 99\n",
       "7. 115\n",
       "8. 131\n",
       "9. 147\n",
       "10. 163\n",
       "11. 179\n",
       "12. 195\n",
       "13. 211\n",
       "14. 227\n",
       "15. 243\n",
       "16. 259\n",
       "17. 275\n",
       "18. 291\n",
       "\n",
       "\n"
      ],
      "text/plain": [
       " [1]  19  35  51  67  83  99 115 131 147 163 179 195 211 227 243 259 275 291"
      ]
     },
     "metadata": {},
     "output_type": "display_data"
    }
   ],
   "source": [
    "grep(\"^$\", colnames(Tcellsubset))"
   ]
  },
  {
   "cell_type": "code",
   "execution_count": 35,
   "metadata": {},
   "outputs": [],
   "source": [
    "Tcellsubset1 <- Tcellsubset[,1:18]\n",
    "Tcellsubset2 <- Tcellsubset[,c(1:3,20:34)]\n",
    "Tcellsubset3 <- Tcellsubset[,c(1:3,36:50)]\n",
    "Tcellsubset4 <- Tcellsubset[,c(1:3,52:66)]\n",
    "Tcellsubset5 <- Tcellsubset[,c(1:3,68:82)]"
   ]
  },
  {
   "cell_type": "code",
   "execution_count": 36,
   "metadata": {},
   "outputs": [],
   "source": [
    "Tcellsubset1$cycle <- \"01\"\n",
    "Tcellsubset2$cycle <- \"02\"\n",
    "Tcellsubset3$cycle <- \"03\"\n",
    "Tcellsubset4$cycle <- \"04\"\n",
    "Tcellsubset5$cycle <- \"05\""
   ]
  },
  {
   "cell_type": "code",
   "execution_count": 37,
   "metadata": {},
   "outputs": [],
   "source": [
    "myTcellsdf <- rbind(Tcellsubset1,\n",
    "                Tcellsubset2,\n",
    "                Tcellsubset3,\n",
    "                Tcellsubset4,\n",
    "                Tcellsubset5)"
   ]
  },
  {
   "cell_type": "code",
   "execution_count": 38,
   "metadata": {},
   "outputs": [],
   "source": [
    "myTcellsdf <- myTcellsdf[, c(1,19,2:4,5:18)]"
   ]
  },
  {
   "cell_type": "code",
   "execution_count": 39,
   "metadata": {
    "scrolled": true
   },
   "outputs": [],
   "source": [
    "colnames(myTcellsdf)[c(1,4,5,6)] <- c(\"Patient\", \"Disease_type\", \"TE_fold\", \"Pass\")"
   ]
  },
  {
   "cell_type": "code",
   "execution_count": 40,
   "metadata": {},
   "outputs": [
    {
     "data": {
      "text/html": [
       "<table class=\"dataframe\">\n",
       "<caption>A data.frame: 6 × 19</caption>\n",
       "<thead>\n",
       "\t<tr><th></th><th scope=col>Patient</th><th scope=col>cycle</th><th scope=col>Age</th><th scope=col>Disease_type</th><th scope=col>TE_fold</th><th scope=col>Pass</th><th scope=col>CD3</th><th scope=col>EM</th><th scope=col>CM</th><th scope=col>Naïve</th><th scope=col>SCM</th><th scope=col>TE</th><th scope=col>EM%</th><th scope=col>CM%</th><th scope=col>Naïve%</th><th scope=col>SCM%</th><th scope=col>TE%</th><th scope=col>Naïve/TE</th><th scope=col>N+CM+SCM/TE+EM</th></tr>\n",
       "\t<tr><th></th><th scope=col>&lt;int&gt;</th><th scope=col>&lt;chr&gt;</th><th scope=col>&lt;dbl&gt;</th><th scope=col>&lt;chr&gt;</th><th scope=col>&lt;chr&gt;</th><th scope=col>&lt;int&gt;</th><th scope=col>&lt;int&gt;</th><th scope=col>&lt;chr&gt;</th><th scope=col>&lt;chr&gt;</th><th scope=col>&lt;chr&gt;</th><th scope=col>&lt;chr&gt;</th><th scope=col>&lt;chr&gt;</th><th scope=col>&lt;dbl&gt;</th><th scope=col>&lt;dbl&gt;</th><th scope=col>&lt;dbl&gt;</th><th scope=col>&lt;dbl&gt;</th><th scope=col>&lt;dbl&gt;</th><th scope=col>&lt;dbl&gt;</th><th scope=col>&lt;dbl&gt;</th></tr>\n",
       "</thead>\n",
       "<tbody>\n",
       "\t<tr><th scope=row>221</th><td>320</td><td>01</td><td> 6</td><td>AML   </td><td>8.9</td><td>NA</td><td>0</td><td>NA</td><td>NA</td><td>NA</td><td>NA</td><td>NA</td><td>NA</td><td>NA</td><td>NA</td><td>NA</td><td>NA</td><td>NA</td><td>NA</td></tr>\n",
       "\t<tr><th scope=row>222</th><td>321</td><td>01</td><td>16</td><td>HD    </td><td>0  </td><td>NA</td><td>0</td><td>NA</td><td>NA</td><td>NA</td><td>NA</td><td>NA</td><td>NA</td><td>NA</td><td>NA</td><td>NA</td><td>NA</td><td>NA</td><td>NA</td></tr>\n",
       "\t<tr><th scope=row>223</th><td>322</td><td>01</td><td>18</td><td>DLBCL </td><td>1.1</td><td>NA</td><td>0</td><td>NA</td><td>NA</td><td>NA</td><td>NA</td><td>NA</td><td>NA</td><td>NA</td><td>NA</td><td>NA</td><td>NA</td><td>NA</td><td>NA</td></tr>\n",
       "\t<tr><th scope=row>224</th><td>323</td><td>01</td><td> 1</td><td>HR ALL</td><td>0  </td><td>NA</td><td>0</td><td>NA</td><td>NA</td><td>NA</td><td>NA</td><td>NA</td><td>NA</td><td>NA</td><td>NA</td><td>NA</td><td>NA</td><td>NA</td><td>NA</td></tr>\n",
       "\t<tr><th scope=row>225</th><td>324</td><td>01</td><td>12</td><td>T-ALL </td><td>0  </td><td>NA</td><td>0</td><td>NA</td><td>NA</td><td>NA</td><td>NA</td><td>NA</td><td>NA</td><td>NA</td><td>NA</td><td>NA</td><td>NA</td><td>NA</td><td>NA</td></tr>\n",
       "\t<tr><th scope=row>226</th><td>325</td><td>01</td><td> 2</td><td>ERMS  </td><td>0  </td><td>NA</td><td>0</td><td>NA</td><td>NA</td><td>NA</td><td>NA</td><td>NA</td><td>NA</td><td>NA</td><td>NA</td><td>NA</td><td>NA</td><td>NA</td><td>NA</td></tr>\n",
       "</tbody>\n",
       "</table>\n"
      ],
      "text/latex": [
       "A data.frame: 6 × 19\n",
       "\\begin{tabular}{r|lllllllllllllllllll}\n",
       "  & Patient & cycle & Age & Disease\\_type & TE\\_fold & Pass & CD3 & EM & CM & Naïve & SCM & TE & EM\\% & CM\\% & Naïve\\% & SCM\\% & TE\\% & Naïve/TE & N+CM+SCM/TE+EM\\\\\n",
       "  & <int> & <chr> & <dbl> & <chr> & <chr> & <int> & <int> & <chr> & <chr> & <chr> & <chr> & <chr> & <dbl> & <dbl> & <dbl> & <dbl> & <dbl> & <dbl> & <dbl>\\\\\n",
       "\\hline\n",
       "\t221 & 320 & 01 &  6 & AML    & 8.9 & NA & 0 & NA & NA & NA & NA & NA & NA & NA & NA & NA & NA & NA & NA\\\\\n",
       "\t222 & 321 & 01 & 16 & HD     & 0   & NA & 0 & NA & NA & NA & NA & NA & NA & NA & NA & NA & NA & NA & NA\\\\\n",
       "\t223 & 322 & 01 & 18 & DLBCL  & 1.1 & NA & 0 & NA & NA & NA & NA & NA & NA & NA & NA & NA & NA & NA & NA\\\\\n",
       "\t224 & 323 & 01 &  1 & HR ALL & 0   & NA & 0 & NA & NA & NA & NA & NA & NA & NA & NA & NA & NA & NA & NA\\\\\n",
       "\t225 & 324 & 01 & 12 & T-ALL  & 0   & NA & 0 & NA & NA & NA & NA & NA & NA & NA & NA & NA & NA & NA & NA\\\\\n",
       "\t226 & 325 & 01 &  2 & ERMS   & 0   & NA & 0 & NA & NA & NA & NA & NA & NA & NA & NA & NA & NA & NA & NA\\\\\n",
       "\\end{tabular}\n"
      ],
      "text/markdown": [
       "\n",
       "A data.frame: 6 × 19\n",
       "\n",
       "| <!--/--> | Patient &lt;int&gt; | cycle &lt;chr&gt; | Age &lt;dbl&gt; | Disease_type &lt;chr&gt; | TE_fold &lt;chr&gt; | Pass &lt;int&gt; | CD3 &lt;int&gt; | EM &lt;chr&gt; | CM &lt;chr&gt; | Naïve &lt;chr&gt; | SCM &lt;chr&gt; | TE &lt;chr&gt; | EM% &lt;dbl&gt; | CM% &lt;dbl&gt; | Naïve% &lt;dbl&gt; | SCM% &lt;dbl&gt; | TE% &lt;dbl&gt; | Naïve/TE &lt;dbl&gt; | N+CM+SCM/TE+EM &lt;dbl&gt; |\n",
       "|---|---|---|---|---|---|---|---|---|---|---|---|---|---|---|---|---|---|---|---|\n",
       "| 221 | 320 | 01 |  6 | AML    | 8.9 | NA | 0 | NA | NA | NA | NA | NA | NA | NA | NA | NA | NA | NA | NA |\n",
       "| 222 | 321 | 01 | 16 | HD     | 0   | NA | 0 | NA | NA | NA | NA | NA | NA | NA | NA | NA | NA | NA | NA |\n",
       "| 223 | 322 | 01 | 18 | DLBCL  | 1.1 | NA | 0 | NA | NA | NA | NA | NA | NA | NA | NA | NA | NA | NA | NA |\n",
       "| 224 | 323 | 01 |  1 | HR ALL | 0   | NA | 0 | NA | NA | NA | NA | NA | NA | NA | NA | NA | NA | NA | NA |\n",
       "| 225 | 324 | 01 | 12 | T-ALL  | 0   | NA | 0 | NA | NA | NA | NA | NA | NA | NA | NA | NA | NA | NA | NA |\n",
       "| 226 | 325 | 01 |  2 | ERMS   | 0   | NA | 0 | NA | NA | NA | NA | NA | NA | NA | NA | NA | NA | NA | NA |\n",
       "\n"
      ],
      "text/plain": [
       "    Patient cycle Age Disease_type TE_fold Pass CD3 EM CM Naïve SCM TE EM% CM%\n",
       "221 320     01     6  AML          8.9     NA   0   NA NA NA    NA  NA NA  NA \n",
       "222 321     01    16  HD           0       NA   0   NA NA NA    NA  NA NA  NA \n",
       "223 322     01    18  DLBCL        1.1     NA   0   NA NA NA    NA  NA NA  NA \n",
       "224 323     01     1  HR ALL       0       NA   0   NA NA NA    NA  NA NA  NA \n",
       "225 324     01    12  T-ALL        0       NA   0   NA NA NA    NA  NA NA  NA \n",
       "226 325     01     2  ERMS         0       NA   0   NA NA NA    NA  NA NA  NA \n",
       "    Naïve% SCM% TE% Naïve/TE N+CM+SCM/TE+EM\n",
       "221 NA     NA   NA  NA       NA            \n",
       "222 NA     NA   NA  NA       NA            \n",
       "223 NA     NA   NA  NA       NA            \n",
       "224 NA     NA   NA  NA       NA            \n",
       "225 NA     NA   NA  NA       NA            \n",
       "226 NA     NA   NA  NA       NA            "
      ]
     },
     "metadata": {},
     "output_type": "display_data"
    }
   ],
   "source": [
    "head(myTcellsdf)"
   ]
  },
  {
   "cell_type": "code",
   "execution_count": 41,
   "metadata": {},
   "outputs": [],
   "source": [
    "write.csv(myTcellsdf,file = paste0(datapath, \"Tcells_df.csv\"),\n",
    "         row.names = F)"
   ]
  },
  {
   "cell_type": "markdown",
   "metadata": {},
   "source": [
    "## Create master table for clinical and flow data"
   ]
  },
  {
   "cell_type": "code",
   "execution_count": 42,
   "metadata": {},
   "outputs": [],
   "source": [
    "Tcells <- read.csv(paste0(datapath, \"Tcells_df.csv\"),\n",
    "                 header = T, stringsAsFactors = F,check.names = F)"
   ]
  },
  {
   "cell_type": "code",
   "execution_count": 43,
   "metadata": {},
   "outputs": [],
   "source": [
    "NCRs <- read.csv(paste0(datapath, \"NCR_df.csv\"),\n",
    "                 header = T, stringsAsFactors = F,check.names = F)"
   ]
  },
  {
   "cell_type": "code",
   "execution_count": 44,
   "metadata": {},
   "outputs": [],
   "source": [
    "ATCs <- read.csv(paste0(datapath, \"ATC_df.csv\"),\n",
    "                 header = T, stringsAsFactors = F,check.names = F)"
   ]
  },
  {
   "cell_type": "code",
   "execution_count": 45,
   "metadata": {},
   "outputs": [],
   "source": [
    "ATC_Tcells <- merge(ATCs, Tcells, by = c(\"Patient\", \"cycle\"))"
   ]
  },
  {
   "cell_type": "code",
   "execution_count": 46,
   "metadata": {},
   "outputs": [
    {
     "data": {
      "text/html": [
       "<style>\n",
       ".list-inline {list-style: none; margin:0; padding: 0}\n",
       ".list-inline>li {display: inline-block}\n",
       ".list-inline>li:not(:last-child)::after {content: \"\\00b7\"; padding: 0 .5ex}\n",
       "</style>\n",
       "<ol class=list-inline><li>590</li><li>4</li></ol>\n"
      ],
      "text/latex": [
       "\\begin{enumerate*}\n",
       "\\item 590\n",
       "\\item 4\n",
       "\\end{enumerate*}\n"
      ],
      "text/markdown": [
       "1. 590\n",
       "2. 4\n",
       "\n",
       "\n"
      ],
      "text/plain": [
       "[1] 590   4"
      ]
     },
     "metadata": {},
     "output_type": "display_data"
    },
    {
     "data": {
      "text/html": [
       "<style>\n",
       ".list-inline {list-style: none; margin:0; padding: 0}\n",
       ".list-inline>li {display: inline-block}\n",
       ".list-inline>li:not(:last-child)::after {content: \"\\00b7\"; padding: 0 .5ex}\n",
       "</style>\n",
       "<ol class=list-inline><li>590</li><li>19</li></ol>\n"
      ],
      "text/latex": [
       "\\begin{enumerate*}\n",
       "\\item 590\n",
       "\\item 19\n",
       "\\end{enumerate*}\n"
      ],
      "text/markdown": [
       "1. 590\n",
       "2. 19\n",
       "\n",
       "\n"
      ],
      "text/plain": [
       "[1] 590  19"
      ]
     },
     "metadata": {},
     "output_type": "display_data"
    },
    {
     "data": {
      "text/html": [
       "<style>\n",
       ".list-inline {list-style: none; margin:0; padding: 0}\n",
       ".list-inline>li {display: inline-block}\n",
       ".list-inline>li:not(:last-child)::after {content: \"\\00b7\"; padding: 0 .5ex}\n",
       "</style>\n",
       "<ol class=list-inline><li>590</li><li>21</li></ol>\n"
      ],
      "text/latex": [
       "\\begin{enumerate*}\n",
       "\\item 590\n",
       "\\item 21\n",
       "\\end{enumerate*}\n"
      ],
      "text/markdown": [
       "1. 590\n",
       "2. 21\n",
       "\n",
       "\n"
      ],
      "text/plain": [
       "[1] 590  21"
      ]
     },
     "metadata": {},
     "output_type": "display_data"
    }
   ],
   "source": [
    "dim(ATCs)\n",
    "dim(Tcells)\n",
    "dim(ATC_Tcells)"
   ]
  },
  {
   "cell_type": "code",
   "execution_count": 47,
   "metadata": {},
   "outputs": [],
   "source": [
    "ATC_Tcells_NCR <- merge(ATC_Tcells, NCRs[,!colnames(NCRs)%in% c(\"Disease_type\", \"Age\", \"TE_fold\", \"Pass\", \"CD3\")], by = c(\"Patient\", \"cycle\"))"
   ]
  },
  {
   "cell_type": "code",
   "execution_count": 48,
   "metadata": {},
   "outputs": [
    {
     "data": {
      "text/html": [
       "<table class=\"dataframe\">\n",
       "<caption>A data.frame: 6 × 11</caption>\n",
       "<thead>\n",
       "\t<tr><th></th><th scope=col>Age</th><th scope=col>Disease_type</th><th scope=col>TE_fold</th><th scope=col>Pass</th><th scope=col>CD3</th><th scope=col>EM</th><th scope=col>CM</th><th scope=col>Naïve</th><th scope=col>SCM</th><th scope=col>TE</th><th scope=col>EM%</th></tr>\n",
       "\t<tr><th></th><th scope=col>&lt;dbl&gt;</th><th scope=col>&lt;chr&gt;</th><th scope=col>&lt;chr&gt;</th><th scope=col>&lt;lgl&gt;</th><th scope=col>&lt;int&gt;</th><th scope=col>&lt;chr&gt;</th><th scope=col>&lt;chr&gt;</th><th scope=col>&lt;chr&gt;</th><th scope=col>&lt;chr&gt;</th><th scope=col>&lt;chr&gt;</th><th scope=col>&lt;dbl&gt;</th></tr>\n",
       "</thead>\n",
       "<tbody>\n",
       "\t<tr><th scope=row>1</th><td> 6</td><td>AML</td><td>8.9 </td><td>NA</td><td>0</td><td>NA</td><td>NA</td><td>NA</td><td>NA</td><td>NA</td><td>NA</td></tr>\n",
       "\t<tr><th scope=row>2</th><td> 6</td><td>AML</td><td>3.5 </td><td>NA</td><td>0</td><td>NA</td><td>NA</td><td>NA</td><td>NA</td><td>NA</td><td>NA</td></tr>\n",
       "\t<tr><th scope=row>3</th><td> 6</td><td>AML</td><td>13.2</td><td>NA</td><td>0</td><td>NA</td><td>NA</td><td>NA</td><td>NA</td><td>NA</td><td>NA</td></tr>\n",
       "\t<tr><th scope=row>4</th><td> 6</td><td>AML</td><td>x   </td><td>NA</td><td>0</td><td>NA</td><td>NA</td><td>NA</td><td>NA</td><td>NA</td><td>NA</td></tr>\n",
       "\t<tr><th scope=row>5</th><td> 6</td><td>AML</td><td>0   </td><td>NA</td><td>0</td><td>NA</td><td>NA</td><td>NA</td><td>NA</td><td>NA</td><td>NA</td></tr>\n",
       "\t<tr><th scope=row>6</th><td>16</td><td>HD </td><td>0   </td><td>NA</td><td>0</td><td>NA</td><td>NA</td><td>NA</td><td>NA</td><td>NA</td><td>NA</td></tr>\n",
       "</tbody>\n",
       "</table>\n"
      ],
      "text/latex": [
       "A data.frame: 6 × 11\n",
       "\\begin{tabular}{r|lllllllllll}\n",
       "  & Age & Disease\\_type & TE\\_fold & Pass & CD3 & EM & CM & Naïve & SCM & TE & EM\\%\\\\\n",
       "  & <dbl> & <chr> & <chr> & <lgl> & <int> & <chr> & <chr> & <chr> & <chr> & <chr> & <dbl>\\\\\n",
       "\\hline\n",
       "\t1 &  6 & AML & 8.9  & NA & 0 & NA & NA & NA & NA & NA & NA\\\\\n",
       "\t2 &  6 & AML & 3.5  & NA & 0 & NA & NA & NA & NA & NA & NA\\\\\n",
       "\t3 &  6 & AML & 13.2 & NA & 0 & NA & NA & NA & NA & NA & NA\\\\\n",
       "\t4 &  6 & AML & x    & NA & 0 & NA & NA & NA & NA & NA & NA\\\\\n",
       "\t5 &  6 & AML & 0    & NA & 0 & NA & NA & NA & NA & NA & NA\\\\\n",
       "\t6 & 16 & HD  & 0    & NA & 0 & NA & NA & NA & NA & NA & NA\\\\\n",
       "\\end{tabular}\n"
      ],
      "text/markdown": [
       "\n",
       "A data.frame: 6 × 11\n",
       "\n",
       "| <!--/--> | Age &lt;dbl&gt; | Disease_type &lt;chr&gt; | TE_fold &lt;chr&gt; | Pass &lt;lgl&gt; | CD3 &lt;int&gt; | EM &lt;chr&gt; | CM &lt;chr&gt; | Naïve &lt;chr&gt; | SCM &lt;chr&gt; | TE &lt;chr&gt; | EM% &lt;dbl&gt; |\n",
       "|---|---|---|---|---|---|---|---|---|---|---|---|\n",
       "| 1 |  6 | AML | 8.9  | NA | 0 | NA | NA | NA | NA | NA | NA |\n",
       "| 2 |  6 | AML | 3.5  | NA | 0 | NA | NA | NA | NA | NA | NA |\n",
       "| 3 |  6 | AML | 13.2 | NA | 0 | NA | NA | NA | NA | NA | NA |\n",
       "| 4 |  6 | AML | x    | NA | 0 | NA | NA | NA | NA | NA | NA |\n",
       "| 5 |  6 | AML | 0    | NA | 0 | NA | NA | NA | NA | NA | NA |\n",
       "| 6 | 16 | HD  | 0    | NA | 0 | NA | NA | NA | NA | NA | NA |\n",
       "\n"
      ],
      "text/plain": [
       "  Age Disease_type TE_fold Pass CD3 EM CM Naïve SCM TE EM%\n",
       "1  6  AML          8.9     NA   0   NA NA NA    NA  NA NA \n",
       "2  6  AML          3.5     NA   0   NA NA NA    NA  NA NA \n",
       "3  6  AML          13.2    NA   0   NA NA NA    NA  NA NA \n",
       "4  6  AML          x       NA   0   NA NA NA    NA  NA NA \n",
       "5  6  AML          0       NA   0   NA NA NA    NA  NA NA \n",
       "6 16  HD           0       NA   0   NA NA NA    NA  NA NA "
      ]
     },
     "metadata": {},
     "output_type": "display_data"
    }
   ],
   "source": [
    "head(ATC_Tcells_NCR[,5:15])"
   ]
  },
  {
   "cell_type": "code",
   "execution_count": 49,
   "metadata": {},
   "outputs": [],
   "source": [
    "ATC_Tcells_NCR$FOLD[ATC_Tcells_NCR$FOLD == \"x\"] <- NA"
   ]
  },
  {
   "cell_type": "code",
   "execution_count": 50,
   "metadata": {},
   "outputs": [
    {
     "name": "stderr",
     "output_type": "stream",
     "text": [
      "Warning message in FUN(newX[, i], ...):\n",
      "“NAs introduced by coercion”\n",
      "Warning message in FUN(newX[, i], ...):\n",
      "“NAs introduced by coercion”\n",
      "Warning message in FUN(newX[, i], ...):\n",
      "“NAs introduced by coercion”\n",
      "Warning message in FUN(newX[, i], ...):\n",
      "“NAs introduced by coercion”\n",
      "Warning message in FUN(newX[, i], ...):\n",
      "“NAs introduced by coercion”\n",
      "Warning message in FUN(newX[, i], ...):\n",
      "“NAs introduced by coercion”\n"
     ]
    }
   ],
   "source": [
    "cols <- c(\"FOLD\", \"EM\", \"CM\", \"SCM\", \"TE\", \"Naïve\")\n",
    "ATC_Tcells_NCR[,cols] <- apply(ATC_Tcells_NCR[,cols],2, function(x) as.numeric(as.character(x)))"
   ]
  },
  {
   "cell_type": "code",
   "execution_count": 51,
   "metadata": {
    "scrolled": true
   },
   "outputs": [
    {
     "data": {
      "text/html": [
       "<style>\n",
       ".list-inline {list-style: none; margin:0; padding: 0}\n",
       ".list-inline>li {display: inline-block}\n",
       ".list-inline>li:not(:last-child)::after {content: \"\\00b7\"; padding: 0 .5ex}\n",
       "</style>\n",
       "<ol class=list-inline><li>'Patient'</li><li>'cycle'</li><li>'FOLD'</li><li>'ATC'</li><li>'Age'</li><li>'Disease_type'</li><li>'TE_fold'</li><li>'Pass'</li><li>'CD3'</li><li>'EM'</li><li>'CM'</li><li>'Naïve'</li><li>'SCM'</li><li>'TE'</li><li>'EM%'</li><li>'CM%'</li><li>'Naïve%'</li><li>'SCM%'</li><li>'TE%'</li><li>'Naïve/TE'</li><li>'N+CM+SCM/TE+EM'</li><li>'PD-1'</li><li>'PDL1'</li><li>'LAG3'</li><li>'TIM3'</li><li>'CTLA4'</li><li>'PD1%'</li><li>'PDL1%'</li><li>'LAG3%'</li><li>'TIM3%'</li><li>'CTLA4%'</li><li>'Any NCR'</li><li>'PD1 + LAG3 + TIM3'</li></ol>\n"
      ],
      "text/latex": [
       "\\begin{enumerate*}\n",
       "\\item 'Patient'\n",
       "\\item 'cycle'\n",
       "\\item 'FOLD'\n",
       "\\item 'ATC'\n",
       "\\item 'Age'\n",
       "\\item 'Disease\\_type'\n",
       "\\item 'TE\\_fold'\n",
       "\\item 'Pass'\n",
       "\\item 'CD3'\n",
       "\\item 'EM'\n",
       "\\item 'CM'\n",
       "\\item 'Naïve'\n",
       "\\item 'SCM'\n",
       "\\item 'TE'\n",
       "\\item 'EM\\%'\n",
       "\\item 'CM\\%'\n",
       "\\item 'Naïve\\%'\n",
       "\\item 'SCM\\%'\n",
       "\\item 'TE\\%'\n",
       "\\item 'Naïve/TE'\n",
       "\\item 'N+CM+SCM/TE+EM'\n",
       "\\item 'PD-1'\n",
       "\\item 'PDL1'\n",
       "\\item 'LAG3'\n",
       "\\item 'TIM3'\n",
       "\\item 'CTLA4'\n",
       "\\item 'PD1\\%'\n",
       "\\item 'PDL1\\%'\n",
       "\\item 'LAG3\\%'\n",
       "\\item 'TIM3\\%'\n",
       "\\item 'CTLA4\\%'\n",
       "\\item 'Any NCR'\n",
       "\\item 'PD1 + LAG3 + TIM3'\n",
       "\\end{enumerate*}\n"
      ],
      "text/markdown": [
       "1. 'Patient'\n",
       "2. 'cycle'\n",
       "3. 'FOLD'\n",
       "4. 'ATC'\n",
       "5. 'Age'\n",
       "6. 'Disease_type'\n",
       "7. 'TE_fold'\n",
       "8. 'Pass'\n",
       "9. 'CD3'\n",
       "10. 'EM'\n",
       "11. 'CM'\n",
       "12. 'Naïve'\n",
       "13. 'SCM'\n",
       "14. 'TE'\n",
       "15. 'EM%'\n",
       "16. 'CM%'\n",
       "17. 'Naïve%'\n",
       "18. 'SCM%'\n",
       "19. 'TE%'\n",
       "20. 'Naïve/TE'\n",
       "21. 'N+CM+SCM/TE+EM'\n",
       "22. 'PD-1'\n",
       "23. 'PDL1'\n",
       "24. 'LAG3'\n",
       "25. 'TIM3'\n",
       "26. 'CTLA4'\n",
       "27. 'PD1%'\n",
       "28. 'PDL1%'\n",
       "29. 'LAG3%'\n",
       "30. 'TIM3%'\n",
       "31. 'CTLA4%'\n",
       "32. 'Any NCR'\n",
       "33. 'PD1 + LAG3 + TIM3'\n",
       "\n",
       "\n"
      ],
      "text/plain": [
       " [1] \"Patient\"           \"cycle\"             \"FOLD\"             \n",
       " [4] \"ATC\"               \"Age\"               \"Disease_type\"     \n",
       " [7] \"TE_fold\"           \"Pass\"              \"CD3\"              \n",
       "[10] \"EM\"                \"CM\"                \"Naïve\"            \n",
       "[13] \"SCM\"               \"TE\"                \"EM%\"              \n",
       "[16] \"CM%\"               \"Naïve%\"            \"SCM%\"             \n",
       "[19] \"TE%\"               \"Naïve/TE\"          \"N+CM+SCM/TE+EM\"   \n",
       "[22] \"PD-1\"              \"PDL1\"              \"LAG3\"             \n",
       "[25] \"TIM3\"              \"CTLA4\"             \"PD1%\"             \n",
       "[28] \"PDL1%\"             \"LAG3%\"             \"TIM3%\"            \n",
       "[31] \"CTLA4%\"            \"Any NCR\"           \"PD1 + LAG3 + TIM3\""
      ]
     },
     "metadata": {},
     "output_type": "display_data"
    }
   ],
   "source": [
    "colnames(ATC_Tcells_NCR)"
   ]
  },
  {
   "cell_type": "code",
   "execution_count": 52,
   "metadata": {},
   "outputs": [
    {
     "data": {
      "text/html": [
       "<table class=\"dataframe\">\n",
       "<caption>A data.frame: 6 × 33</caption>\n",
       "<thead>\n",
       "\t<tr><th></th><th scope=col>Patient</th><th scope=col>cycle</th><th scope=col>FOLD</th><th scope=col>ATC</th><th scope=col>Age</th><th scope=col>Disease_type</th><th scope=col>TE_fold</th><th scope=col>Pass</th><th scope=col>CD3</th><th scope=col>EM</th><th scope=col>⋯</th><th scope=col>LAG3</th><th scope=col>TIM3</th><th scope=col>CTLA4</th><th scope=col>PD1%</th><th scope=col>PDL1%</th><th scope=col>LAG3%</th><th scope=col>TIM3%</th><th scope=col>CTLA4%</th><th scope=col>Any NCR</th><th scope=col>PD1 + LAG3 + TIM3</th></tr>\n",
       "\t<tr><th></th><th scope=col>&lt;int&gt;</th><th scope=col>&lt;int&gt;</th><th scope=col>&lt;dbl&gt;</th><th scope=col>&lt;dbl&gt;</th><th scope=col>&lt;dbl&gt;</th><th scope=col>&lt;chr&gt;</th><th scope=col>&lt;chr&gt;</th><th scope=col>&lt;lgl&gt;</th><th scope=col>&lt;int&gt;</th><th scope=col>&lt;dbl&gt;</th><th scope=col>⋯</th><th scope=col>&lt;int&gt;</th><th scope=col>&lt;int&gt;</th><th scope=col>&lt;int&gt;</th><th scope=col>&lt;dbl&gt;</th><th scope=col>&lt;dbl&gt;</th><th scope=col>&lt;dbl&gt;</th><th scope=col>&lt;dbl&gt;</th><th scope=col>&lt;dbl&gt;</th><th scope=col>&lt;dbl&gt;</th><th scope=col>&lt;dbl&gt;</th></tr>\n",
       "</thead>\n",
       "<tbody>\n",
       "\t<tr><th scope=row>1</th><td>320</td><td>1</td><td> 8.9</td><td>0</td><td> 6</td><td>AML</td><td>8.9 </td><td>NA</td><td>0</td><td>NA</td><td>⋯</td><td>NA</td><td>NA</td><td>NA</td><td>NA</td><td>NA</td><td>NA</td><td>NA</td><td>NA</td><td>NA</td><td>NA</td></tr>\n",
       "\t<tr><th scope=row>2</th><td>320</td><td>2</td><td> 3.5</td><td>0</td><td> 6</td><td>AML</td><td>3.5 </td><td>NA</td><td>0</td><td>NA</td><td>⋯</td><td>NA</td><td>NA</td><td>NA</td><td>NA</td><td>NA</td><td>NA</td><td>NA</td><td>NA</td><td>NA</td><td>NA</td></tr>\n",
       "\t<tr><th scope=row>3</th><td>320</td><td>3</td><td>13.2</td><td>0</td><td> 6</td><td>AML</td><td>13.2</td><td>NA</td><td>0</td><td>NA</td><td>⋯</td><td>NA</td><td>NA</td><td>NA</td><td>NA</td><td>NA</td><td>NA</td><td>NA</td><td>NA</td><td>NA</td><td>NA</td></tr>\n",
       "\t<tr><th scope=row>4</th><td>320</td><td>4</td><td>  NA</td><td>0</td><td> 6</td><td>AML</td><td>x   </td><td>NA</td><td>0</td><td>NA</td><td>⋯</td><td>NA</td><td>NA</td><td>NA</td><td>NA</td><td>NA</td><td>NA</td><td>NA</td><td>NA</td><td>NA</td><td>NA</td></tr>\n",
       "\t<tr><th scope=row>5</th><td>320</td><td>5</td><td> 0.0</td><td>0</td><td> 6</td><td>AML</td><td>0   </td><td>NA</td><td>0</td><td>NA</td><td>⋯</td><td>NA</td><td>NA</td><td>NA</td><td>NA</td><td>NA</td><td>NA</td><td>NA</td><td>NA</td><td>NA</td><td>NA</td></tr>\n",
       "\t<tr><th scope=row>6</th><td>321</td><td>1</td><td> 0.0</td><td>0</td><td>16</td><td>HD </td><td>0   </td><td>NA</td><td>0</td><td>NA</td><td>⋯</td><td>NA</td><td>NA</td><td>NA</td><td>NA</td><td>NA</td><td>NA</td><td>NA</td><td>NA</td><td>NA</td><td>NA</td></tr>\n",
       "</tbody>\n",
       "</table>\n"
      ],
      "text/latex": [
       "A data.frame: 6 × 33\n",
       "\\begin{tabular}{r|lllllllllllllllllllll}\n",
       "  & Patient & cycle & FOLD & ATC & Age & Disease\\_type & TE\\_fold & Pass & CD3 & EM & ⋯ & LAG3 & TIM3 & CTLA4 & PD1\\% & PDL1\\% & LAG3\\% & TIM3\\% & CTLA4\\% & Any NCR & PD1 + LAG3 + TIM3\\\\\n",
       "  & <int> & <int> & <dbl> & <dbl> & <dbl> & <chr> & <chr> & <lgl> & <int> & <dbl> & ⋯ & <int> & <int> & <int> & <dbl> & <dbl> & <dbl> & <dbl> & <dbl> & <dbl> & <dbl>\\\\\n",
       "\\hline\n",
       "\t1 & 320 & 1 &  8.9 & 0 &  6 & AML & 8.9  & NA & 0 & NA & ⋯ & NA & NA & NA & NA & NA & NA & NA & NA & NA & NA\\\\\n",
       "\t2 & 320 & 2 &  3.5 & 0 &  6 & AML & 3.5  & NA & 0 & NA & ⋯ & NA & NA & NA & NA & NA & NA & NA & NA & NA & NA\\\\\n",
       "\t3 & 320 & 3 & 13.2 & 0 &  6 & AML & 13.2 & NA & 0 & NA & ⋯ & NA & NA & NA & NA & NA & NA & NA & NA & NA & NA\\\\\n",
       "\t4 & 320 & 4 &   NA & 0 &  6 & AML & x    & NA & 0 & NA & ⋯ & NA & NA & NA & NA & NA & NA & NA & NA & NA & NA\\\\\n",
       "\t5 & 320 & 5 &  0.0 & 0 &  6 & AML & 0    & NA & 0 & NA & ⋯ & NA & NA & NA & NA & NA & NA & NA & NA & NA & NA\\\\\n",
       "\t6 & 321 & 1 &  0.0 & 0 & 16 & HD  & 0    & NA & 0 & NA & ⋯ & NA & NA & NA & NA & NA & NA & NA & NA & NA & NA\\\\\n",
       "\\end{tabular}\n"
      ],
      "text/markdown": [
       "\n",
       "A data.frame: 6 × 33\n",
       "\n",
       "| <!--/--> | Patient &lt;int&gt; | cycle &lt;int&gt; | FOLD &lt;dbl&gt; | ATC &lt;dbl&gt; | Age &lt;dbl&gt; | Disease_type &lt;chr&gt; | TE_fold &lt;chr&gt; | Pass &lt;lgl&gt; | CD3 &lt;int&gt; | EM &lt;dbl&gt; | ⋯ ⋯ | LAG3 &lt;int&gt; | TIM3 &lt;int&gt; | CTLA4 &lt;int&gt; | PD1% &lt;dbl&gt; | PDL1% &lt;dbl&gt; | LAG3% &lt;dbl&gt; | TIM3% &lt;dbl&gt; | CTLA4% &lt;dbl&gt; | Any NCR &lt;dbl&gt; | PD1 + LAG3 + TIM3 &lt;dbl&gt; |\n",
       "|---|---|---|---|---|---|---|---|---|---|---|---|---|---|---|---|---|---|---|---|---|---|\n",
       "| 1 | 320 | 1 |  8.9 | 0 |  6 | AML | 8.9  | NA | 0 | NA | ⋯ | NA | NA | NA | NA | NA | NA | NA | NA | NA | NA |\n",
       "| 2 | 320 | 2 |  3.5 | 0 |  6 | AML | 3.5  | NA | 0 | NA | ⋯ | NA | NA | NA | NA | NA | NA | NA | NA | NA | NA |\n",
       "| 3 | 320 | 3 | 13.2 | 0 |  6 | AML | 13.2 | NA | 0 | NA | ⋯ | NA | NA | NA | NA | NA | NA | NA | NA | NA | NA |\n",
       "| 4 | 320 | 4 |   NA | 0 |  6 | AML | x    | NA | 0 | NA | ⋯ | NA | NA | NA | NA | NA | NA | NA | NA | NA | NA |\n",
       "| 5 | 320 | 5 |  0.0 | 0 |  6 | AML | 0    | NA | 0 | NA | ⋯ | NA | NA | NA | NA | NA | NA | NA | NA | NA | NA |\n",
       "| 6 | 321 | 1 |  0.0 | 0 | 16 | HD  | 0    | NA | 0 | NA | ⋯ | NA | NA | NA | NA | NA | NA | NA | NA | NA | NA |\n",
       "\n"
      ],
      "text/plain": [
       "  Patient cycle FOLD ATC Age Disease_type TE_fold Pass CD3 EM ⋯ LAG3 TIM3 CTLA4\n",
       "1 320     1      8.9 0    6  AML          8.9     NA   0   NA ⋯ NA   NA   NA   \n",
       "2 320     2      3.5 0    6  AML          3.5     NA   0   NA ⋯ NA   NA   NA   \n",
       "3 320     3     13.2 0    6  AML          13.2    NA   0   NA ⋯ NA   NA   NA   \n",
       "4 320     4       NA 0    6  AML          x       NA   0   NA ⋯ NA   NA   NA   \n",
       "5 320     5      0.0 0    6  AML          0       NA   0   NA ⋯ NA   NA   NA   \n",
       "6 321     1      0.0 0   16  HD           0       NA   0   NA ⋯ NA   NA   NA   \n",
       "  PD1% PDL1% LAG3% TIM3% CTLA4% Any NCR PD1 + LAG3 + TIM3\n",
       "1 NA   NA    NA    NA    NA     NA      NA               \n",
       "2 NA   NA    NA    NA    NA     NA      NA               \n",
       "3 NA   NA    NA    NA    NA     NA      NA               \n",
       "4 NA   NA    NA    NA    NA     NA      NA               \n",
       "5 NA   NA    NA    NA    NA     NA      NA               \n",
       "6 NA   NA    NA    NA    NA     NA      NA               "
      ]
     },
     "metadata": {},
     "output_type": "display_data"
    }
   ],
   "source": [
    "head(ATC_Tcells_NCR)"
   ]
  },
  {
   "cell_type": "code",
   "execution_count": 53,
   "metadata": {},
   "outputs": [],
   "source": [
    "ATC_Tcells_NCR$cycle[ATC_Tcells_NCR$cycle == 1] <- \"01\"\n",
    "ATC_Tcells_NCR$cycle[ATC_Tcells_NCR$cycle == 2] <- \"02\"\n",
    "ATC_Tcells_NCR$cycle[ATC_Tcells_NCR$cycle == 3] <- \"03\"\n",
    "ATC_Tcells_NCR$cycle[ATC_Tcells_NCR$cycle == 4] <- \"04\"\n",
    "ATC_Tcells_NCR$cycle[ATC_Tcells_NCR$cycle == 5] <- \"05\""
   ]
  },
  {
   "cell_type": "code",
   "execution_count": 54,
   "metadata": {},
   "outputs": [
    {
     "data": {
      "text/html": [
       "<table class=\"dataframe\">\n",
       "<caption>A data.frame: 6 × 33</caption>\n",
       "<thead>\n",
       "\t<tr><th></th><th scope=col>Patient</th><th scope=col>cycle</th><th scope=col>FOLD</th><th scope=col>ATC</th><th scope=col>Age</th><th scope=col>Disease_type</th><th scope=col>TE_fold</th><th scope=col>Pass</th><th scope=col>CD3</th><th scope=col>EM</th><th scope=col>⋯</th><th scope=col>LAG3</th><th scope=col>TIM3</th><th scope=col>CTLA4</th><th scope=col>PD1%</th><th scope=col>PDL1%</th><th scope=col>LAG3%</th><th scope=col>TIM3%</th><th scope=col>CTLA4%</th><th scope=col>Any NCR</th><th scope=col>PD1 + LAG3 + TIM3</th></tr>\n",
       "\t<tr><th></th><th scope=col>&lt;int&gt;</th><th scope=col>&lt;chr&gt;</th><th scope=col>&lt;dbl&gt;</th><th scope=col>&lt;dbl&gt;</th><th scope=col>&lt;dbl&gt;</th><th scope=col>&lt;chr&gt;</th><th scope=col>&lt;chr&gt;</th><th scope=col>&lt;lgl&gt;</th><th scope=col>&lt;int&gt;</th><th scope=col>&lt;dbl&gt;</th><th scope=col>⋯</th><th scope=col>&lt;int&gt;</th><th scope=col>&lt;int&gt;</th><th scope=col>&lt;int&gt;</th><th scope=col>&lt;dbl&gt;</th><th scope=col>&lt;dbl&gt;</th><th scope=col>&lt;dbl&gt;</th><th scope=col>&lt;dbl&gt;</th><th scope=col>&lt;dbl&gt;</th><th scope=col>&lt;dbl&gt;</th><th scope=col>&lt;dbl&gt;</th></tr>\n",
       "</thead>\n",
       "<tbody>\n",
       "\t<tr><th scope=row>1</th><td>320</td><td>01</td><td> 8.9</td><td>0</td><td> 6</td><td>AML</td><td>8.9 </td><td>NA</td><td>0</td><td>NA</td><td>⋯</td><td>NA</td><td>NA</td><td>NA</td><td>NA</td><td>NA</td><td>NA</td><td>NA</td><td>NA</td><td>NA</td><td>NA</td></tr>\n",
       "\t<tr><th scope=row>2</th><td>320</td><td>02</td><td> 3.5</td><td>0</td><td> 6</td><td>AML</td><td>3.5 </td><td>NA</td><td>0</td><td>NA</td><td>⋯</td><td>NA</td><td>NA</td><td>NA</td><td>NA</td><td>NA</td><td>NA</td><td>NA</td><td>NA</td><td>NA</td><td>NA</td></tr>\n",
       "\t<tr><th scope=row>3</th><td>320</td><td>03</td><td>13.2</td><td>0</td><td> 6</td><td>AML</td><td>13.2</td><td>NA</td><td>0</td><td>NA</td><td>⋯</td><td>NA</td><td>NA</td><td>NA</td><td>NA</td><td>NA</td><td>NA</td><td>NA</td><td>NA</td><td>NA</td><td>NA</td></tr>\n",
       "\t<tr><th scope=row>4</th><td>320</td><td>04</td><td>  NA</td><td>0</td><td> 6</td><td>AML</td><td>x   </td><td>NA</td><td>0</td><td>NA</td><td>⋯</td><td>NA</td><td>NA</td><td>NA</td><td>NA</td><td>NA</td><td>NA</td><td>NA</td><td>NA</td><td>NA</td><td>NA</td></tr>\n",
       "\t<tr><th scope=row>5</th><td>320</td><td>05</td><td> 0.0</td><td>0</td><td> 6</td><td>AML</td><td>0   </td><td>NA</td><td>0</td><td>NA</td><td>⋯</td><td>NA</td><td>NA</td><td>NA</td><td>NA</td><td>NA</td><td>NA</td><td>NA</td><td>NA</td><td>NA</td><td>NA</td></tr>\n",
       "\t<tr><th scope=row>6</th><td>321</td><td>01</td><td> 0.0</td><td>0</td><td>16</td><td>HD </td><td>0   </td><td>NA</td><td>0</td><td>NA</td><td>⋯</td><td>NA</td><td>NA</td><td>NA</td><td>NA</td><td>NA</td><td>NA</td><td>NA</td><td>NA</td><td>NA</td><td>NA</td></tr>\n",
       "</tbody>\n",
       "</table>\n"
      ],
      "text/latex": [
       "A data.frame: 6 × 33\n",
       "\\begin{tabular}{r|lllllllllllllllllllll}\n",
       "  & Patient & cycle & FOLD & ATC & Age & Disease\\_type & TE\\_fold & Pass & CD3 & EM & ⋯ & LAG3 & TIM3 & CTLA4 & PD1\\% & PDL1\\% & LAG3\\% & TIM3\\% & CTLA4\\% & Any NCR & PD1 + LAG3 + TIM3\\\\\n",
       "  & <int> & <chr> & <dbl> & <dbl> & <dbl> & <chr> & <chr> & <lgl> & <int> & <dbl> & ⋯ & <int> & <int> & <int> & <dbl> & <dbl> & <dbl> & <dbl> & <dbl> & <dbl> & <dbl>\\\\\n",
       "\\hline\n",
       "\t1 & 320 & 01 &  8.9 & 0 &  6 & AML & 8.9  & NA & 0 & NA & ⋯ & NA & NA & NA & NA & NA & NA & NA & NA & NA & NA\\\\\n",
       "\t2 & 320 & 02 &  3.5 & 0 &  6 & AML & 3.5  & NA & 0 & NA & ⋯ & NA & NA & NA & NA & NA & NA & NA & NA & NA & NA\\\\\n",
       "\t3 & 320 & 03 & 13.2 & 0 &  6 & AML & 13.2 & NA & 0 & NA & ⋯ & NA & NA & NA & NA & NA & NA & NA & NA & NA & NA\\\\\n",
       "\t4 & 320 & 04 &   NA & 0 &  6 & AML & x    & NA & 0 & NA & ⋯ & NA & NA & NA & NA & NA & NA & NA & NA & NA & NA\\\\\n",
       "\t5 & 320 & 05 &  0.0 & 0 &  6 & AML & 0    & NA & 0 & NA & ⋯ & NA & NA & NA & NA & NA & NA & NA & NA & NA & NA\\\\\n",
       "\t6 & 321 & 01 &  0.0 & 0 & 16 & HD  & 0    & NA & 0 & NA & ⋯ & NA & NA & NA & NA & NA & NA & NA & NA & NA & NA\\\\\n",
       "\\end{tabular}\n"
      ],
      "text/markdown": [
       "\n",
       "A data.frame: 6 × 33\n",
       "\n",
       "| <!--/--> | Patient &lt;int&gt; | cycle &lt;chr&gt; | FOLD &lt;dbl&gt; | ATC &lt;dbl&gt; | Age &lt;dbl&gt; | Disease_type &lt;chr&gt; | TE_fold &lt;chr&gt; | Pass &lt;lgl&gt; | CD3 &lt;int&gt; | EM &lt;dbl&gt; | ⋯ ⋯ | LAG3 &lt;int&gt; | TIM3 &lt;int&gt; | CTLA4 &lt;int&gt; | PD1% &lt;dbl&gt; | PDL1% &lt;dbl&gt; | LAG3% &lt;dbl&gt; | TIM3% &lt;dbl&gt; | CTLA4% &lt;dbl&gt; | Any NCR &lt;dbl&gt; | PD1 + LAG3 + TIM3 &lt;dbl&gt; |\n",
       "|---|---|---|---|---|---|---|---|---|---|---|---|---|---|---|---|---|---|---|---|---|---|\n",
       "| 1 | 320 | 01 |  8.9 | 0 |  6 | AML | 8.9  | NA | 0 | NA | ⋯ | NA | NA | NA | NA | NA | NA | NA | NA | NA | NA |\n",
       "| 2 | 320 | 02 |  3.5 | 0 |  6 | AML | 3.5  | NA | 0 | NA | ⋯ | NA | NA | NA | NA | NA | NA | NA | NA | NA | NA |\n",
       "| 3 | 320 | 03 | 13.2 | 0 |  6 | AML | 13.2 | NA | 0 | NA | ⋯ | NA | NA | NA | NA | NA | NA | NA | NA | NA | NA |\n",
       "| 4 | 320 | 04 |   NA | 0 |  6 | AML | x    | NA | 0 | NA | ⋯ | NA | NA | NA | NA | NA | NA | NA | NA | NA | NA |\n",
       "| 5 | 320 | 05 |  0.0 | 0 |  6 | AML | 0    | NA | 0 | NA | ⋯ | NA | NA | NA | NA | NA | NA | NA | NA | NA | NA |\n",
       "| 6 | 321 | 01 |  0.0 | 0 | 16 | HD  | 0    | NA | 0 | NA | ⋯ | NA | NA | NA | NA | NA | NA | NA | NA | NA | NA |\n",
       "\n"
      ],
      "text/plain": [
       "  Patient cycle FOLD ATC Age Disease_type TE_fold Pass CD3 EM ⋯ LAG3 TIM3 CTLA4\n",
       "1 320     01     8.9 0    6  AML          8.9     NA   0   NA ⋯ NA   NA   NA   \n",
       "2 320     02     3.5 0    6  AML          3.5     NA   0   NA ⋯ NA   NA   NA   \n",
       "3 320     03    13.2 0    6  AML          13.2    NA   0   NA ⋯ NA   NA   NA   \n",
       "4 320     04      NA 0    6  AML          x       NA   0   NA ⋯ NA   NA   NA   \n",
       "5 320     05     0.0 0    6  AML          0       NA   0   NA ⋯ NA   NA   NA   \n",
       "6 321     01     0.0 0   16  HD           0       NA   0   NA ⋯ NA   NA   NA   \n",
       "  PD1% PDL1% LAG3% TIM3% CTLA4% Any NCR PD1 + LAG3 + TIM3\n",
       "1 NA   NA    NA    NA    NA     NA      NA               \n",
       "2 NA   NA    NA    NA    NA     NA      NA               \n",
       "3 NA   NA    NA    NA    NA     NA      NA               \n",
       "4 NA   NA    NA    NA    NA     NA      NA               \n",
       "5 NA   NA    NA    NA    NA     NA      NA               \n",
       "6 NA   NA    NA    NA    NA     NA      NA               "
      ]
     },
     "metadata": {},
     "output_type": "display_data"
    }
   ],
   "source": [
    "head(ATC_Tcells_NCR)"
   ]
  },
  {
   "cell_type": "markdown",
   "metadata": {},
   "source": [
    "## Cohort cleanup"
   ]
  },
  {
   "cell_type": "code",
   "execution_count": 55,
   "metadata": {},
   "outputs": [],
   "source": [
    "ATC_Tcells_NCR$Disease_type[ATC_Tcells_NCR$Disease_type == \"Hepatoblastoma\"] <- \"HB\"\n",
    "ATC_Tcells_NCR$Disease_type[ATC_Tcells_NCR$Disease_type == \"Ewings\"] <- \"EWS\"\n",
    "ATC_Tcells_NCR$Disease_type[ATC_Tcells_NCR$Disease_type == \"Burkitts\"] <- \"BL\"\n",
    "ATC_Tcells_NCR$Disease_type[ATC_Tcells_NCR$Disease_type == \"Burkitts \"] <- \"BL\"\n",
    "ATC_Tcells_NCR$Disease_type[ATC_Tcells_NCR$Disease_type == \"Burkitt's\"] <- \"BL\"\n",
    "ATC_Tcells_NCR$Disease_type[ATC_Tcells_NCR$Disease_type == \"Wilms\"] <- \"WILMS\"\n",
    "ATC_Tcells_NCR$Disease_type[ATC_Tcells_NCR$Disease_type == \"B cell lymphoma\"] <- \"BLL\"\n",
    "ATC_Tcells_NCR$Disease_type[ATC_Tcells_NCR$Disease_type == \"B lymphoblastic lymphoma\"] <- \"BLL\"\n",
    "ATC_Tcells_NCR$Disease_type[ATC_Tcells_NCR$Disease_type == \"NBL\"] <- \"NB\"\n",
    "ATC_Tcells_NCR$Disease_type[ATC_Tcells_NCR$Disease_type == \"aLL\"] <- \"ALL\""
   ]
  },
  {
   "cell_type": "markdown",
   "metadata": {},
   "source": [
    "Typos according to DB"
   ]
  },
  {
   "cell_type": "code",
   "execution_count": 56,
   "metadata": {},
   "outputs": [],
   "source": [
    "ATC_Tcells_NCR$Disease_type[ATC_Tcells_NCR$Disease_type == \"DLMCL\"] <- \"DLBCL\"\n",
    "ATC_Tcells_NCR$Disease_type[ATC_Tcells_NCR$Disease_type == \"SML\"] <- \"CML\""
   ]
  },
  {
   "cell_type": "code",
   "execution_count": 57,
   "metadata": {},
   "outputs": [
    {
     "data": {
      "text/plain": [
       "\n",
       "  ALCL    ALL    AML   ARMS     BL    BLL    CML  DLBCL   ERMS    EWS     HB \n",
       "    10    115     55      5     20     10     20     15     25     30     20 \n",
       "    HD HR ALL  MS NB     NB     OS  PMBCL    RMS SR ALL  T-ALL  WILMS \n",
       "    40     65      5     20     60     10     15     15     20     15 "
      ]
     },
     "metadata": {},
     "output_type": "display_data"
    }
   ],
   "source": [
    "table(ATC_Tcells_NCR$Disease_type)"
   ]
  },
  {
   "cell_type": "code",
   "execution_count": 58,
   "metadata": {},
   "outputs": [],
   "source": [
    "leuk <- c(\"T-ALL\", \"SR ALL\", \"HR ALL\", \"ALL\", \"AML\", \"CML\")\n",
    "lymph <- c(\"ALCL\", \"BL\", \"BLL\", \"PMBCL\", \"HD\", \"CLBCL\", \"DLBCL\")\n",
    "solid <- c(\"ARMS\", \"EWS\", \"HB\", \"MS NB\", \"NB\", \"OS\", \"RMS\", \"WILMS\", \"ERMS\")"
   ]
  },
  {
   "cell_type": "code",
   "execution_count": 59,
   "metadata": {},
   "outputs": [],
   "source": [
    "ATC_Tcells_NCR$cancergroup[ATC_Tcells_NCR$Disease_type %in% leuk] <- \"Leukemia\"\n",
    "ATC_Tcells_NCR$cancergroup[ATC_Tcells_NCR$Disease_type %in% lymph] <- \"Lymphoma\"\n",
    "ATC_Tcells_NCR$cancergroup[ATC_Tcells_NCR$Disease_type %in% solid] <- \"Solid\""
   ]
  },
  {
   "cell_type": "code",
   "execution_count": 61,
   "metadata": {},
   "outputs": [
    {
     "data": {
      "text/plain": [
       "\n",
       "Leukemia Lymphoma    Solid     <NA> \n",
       "     290      105      195        0 "
      ]
     },
     "metadata": {},
     "output_type": "display_data"
    }
   ],
   "source": [
    "table(ATC_Tcells_NCR$cancergroup, useNA = \"always\")"
   ]
  },
  {
   "cell_type": "code",
   "execution_count": 62,
   "metadata": {},
   "outputs": [
    {
     "data": {
      "text/html": [
       "<table class=\"dataframe\">\n",
       "<caption>A data.frame: 6 × 34</caption>\n",
       "<thead>\n",
       "\t<tr><th></th><th scope=col>Patient</th><th scope=col>cycle</th><th scope=col>FOLD</th><th scope=col>ATC</th><th scope=col>Age</th><th scope=col>Disease_type</th><th scope=col>TE_fold</th><th scope=col>Pass</th><th scope=col>CD3</th><th scope=col>EM</th><th scope=col>⋯</th><th scope=col>TIM3</th><th scope=col>CTLA4</th><th scope=col>PD1%</th><th scope=col>PDL1%</th><th scope=col>LAG3%</th><th scope=col>TIM3%</th><th scope=col>CTLA4%</th><th scope=col>Any NCR</th><th scope=col>PD1 + LAG3 + TIM3</th><th scope=col>cancergroup</th></tr>\n",
       "\t<tr><th></th><th scope=col>&lt;int&gt;</th><th scope=col>&lt;chr&gt;</th><th scope=col>&lt;dbl&gt;</th><th scope=col>&lt;dbl&gt;</th><th scope=col>&lt;dbl&gt;</th><th scope=col>&lt;chr&gt;</th><th scope=col>&lt;chr&gt;</th><th scope=col>&lt;lgl&gt;</th><th scope=col>&lt;int&gt;</th><th scope=col>&lt;dbl&gt;</th><th scope=col>⋯</th><th scope=col>&lt;int&gt;</th><th scope=col>&lt;int&gt;</th><th scope=col>&lt;dbl&gt;</th><th scope=col>&lt;dbl&gt;</th><th scope=col>&lt;dbl&gt;</th><th scope=col>&lt;dbl&gt;</th><th scope=col>&lt;dbl&gt;</th><th scope=col>&lt;dbl&gt;</th><th scope=col>&lt;dbl&gt;</th><th scope=col>&lt;chr&gt;</th></tr>\n",
       "</thead>\n",
       "<tbody>\n",
       "\t<tr><th scope=row>1</th><td>320</td><td>01</td><td> 8.9</td><td>0</td><td> 6</td><td>AML</td><td>8.9 </td><td>NA</td><td>0</td><td>NA</td><td>⋯</td><td>NA</td><td>NA</td><td>NA</td><td>NA</td><td>NA</td><td>NA</td><td>NA</td><td>NA</td><td>NA</td><td>Leukemia</td></tr>\n",
       "\t<tr><th scope=row>2</th><td>320</td><td>02</td><td> 3.5</td><td>0</td><td> 6</td><td>AML</td><td>3.5 </td><td>NA</td><td>0</td><td>NA</td><td>⋯</td><td>NA</td><td>NA</td><td>NA</td><td>NA</td><td>NA</td><td>NA</td><td>NA</td><td>NA</td><td>NA</td><td>Leukemia</td></tr>\n",
       "\t<tr><th scope=row>3</th><td>320</td><td>03</td><td>13.2</td><td>0</td><td> 6</td><td>AML</td><td>13.2</td><td>NA</td><td>0</td><td>NA</td><td>⋯</td><td>NA</td><td>NA</td><td>NA</td><td>NA</td><td>NA</td><td>NA</td><td>NA</td><td>NA</td><td>NA</td><td>Leukemia</td></tr>\n",
       "\t<tr><th scope=row>4</th><td>320</td><td>04</td><td>  NA</td><td>0</td><td> 6</td><td>AML</td><td>x   </td><td>NA</td><td>0</td><td>NA</td><td>⋯</td><td>NA</td><td>NA</td><td>NA</td><td>NA</td><td>NA</td><td>NA</td><td>NA</td><td>NA</td><td>NA</td><td>Leukemia</td></tr>\n",
       "\t<tr><th scope=row>5</th><td>320</td><td>05</td><td> 0.0</td><td>0</td><td> 6</td><td>AML</td><td>0   </td><td>NA</td><td>0</td><td>NA</td><td>⋯</td><td>NA</td><td>NA</td><td>NA</td><td>NA</td><td>NA</td><td>NA</td><td>NA</td><td>NA</td><td>NA</td><td>Leukemia</td></tr>\n",
       "\t<tr><th scope=row>6</th><td>321</td><td>01</td><td> 0.0</td><td>0</td><td>16</td><td>HD </td><td>0   </td><td>NA</td><td>0</td><td>NA</td><td>⋯</td><td>NA</td><td>NA</td><td>NA</td><td>NA</td><td>NA</td><td>NA</td><td>NA</td><td>NA</td><td>NA</td><td>Lymphoma</td></tr>\n",
       "</tbody>\n",
       "</table>\n"
      ],
      "text/latex": [
       "A data.frame: 6 × 34\n",
       "\\begin{tabular}{r|lllllllllllllllllllll}\n",
       "  & Patient & cycle & FOLD & ATC & Age & Disease\\_type & TE\\_fold & Pass & CD3 & EM & ⋯ & TIM3 & CTLA4 & PD1\\% & PDL1\\% & LAG3\\% & TIM3\\% & CTLA4\\% & Any NCR & PD1 + LAG3 + TIM3 & cancergroup\\\\\n",
       "  & <int> & <chr> & <dbl> & <dbl> & <dbl> & <chr> & <chr> & <lgl> & <int> & <dbl> & ⋯ & <int> & <int> & <dbl> & <dbl> & <dbl> & <dbl> & <dbl> & <dbl> & <dbl> & <chr>\\\\\n",
       "\\hline\n",
       "\t1 & 320 & 01 &  8.9 & 0 &  6 & AML & 8.9  & NA & 0 & NA & ⋯ & NA & NA & NA & NA & NA & NA & NA & NA & NA & Leukemia\\\\\n",
       "\t2 & 320 & 02 &  3.5 & 0 &  6 & AML & 3.5  & NA & 0 & NA & ⋯ & NA & NA & NA & NA & NA & NA & NA & NA & NA & Leukemia\\\\\n",
       "\t3 & 320 & 03 & 13.2 & 0 &  6 & AML & 13.2 & NA & 0 & NA & ⋯ & NA & NA & NA & NA & NA & NA & NA & NA & NA & Leukemia\\\\\n",
       "\t4 & 320 & 04 &   NA & 0 &  6 & AML & x    & NA & 0 & NA & ⋯ & NA & NA & NA & NA & NA & NA & NA & NA & NA & Leukemia\\\\\n",
       "\t5 & 320 & 05 &  0.0 & 0 &  6 & AML & 0    & NA & 0 & NA & ⋯ & NA & NA & NA & NA & NA & NA & NA & NA & NA & Leukemia\\\\\n",
       "\t6 & 321 & 01 &  0.0 & 0 & 16 & HD  & 0    & NA & 0 & NA & ⋯ & NA & NA & NA & NA & NA & NA & NA & NA & NA & Lymphoma\\\\\n",
       "\\end{tabular}\n"
      ],
      "text/markdown": [
       "\n",
       "A data.frame: 6 × 34\n",
       "\n",
       "| <!--/--> | Patient &lt;int&gt; | cycle &lt;chr&gt; | FOLD &lt;dbl&gt; | ATC &lt;dbl&gt; | Age &lt;dbl&gt; | Disease_type &lt;chr&gt; | TE_fold &lt;chr&gt; | Pass &lt;lgl&gt; | CD3 &lt;int&gt; | EM &lt;dbl&gt; | ⋯ ⋯ | TIM3 &lt;int&gt; | CTLA4 &lt;int&gt; | PD1% &lt;dbl&gt; | PDL1% &lt;dbl&gt; | LAG3% &lt;dbl&gt; | TIM3% &lt;dbl&gt; | CTLA4% &lt;dbl&gt; | Any NCR &lt;dbl&gt; | PD1 + LAG3 + TIM3 &lt;dbl&gt; | cancergroup &lt;chr&gt; |\n",
       "|---|---|---|---|---|---|---|---|---|---|---|---|---|---|---|---|---|---|---|---|---|---|\n",
       "| 1 | 320 | 01 |  8.9 | 0 |  6 | AML | 8.9  | NA | 0 | NA | ⋯ | NA | NA | NA | NA | NA | NA | NA | NA | NA | Leukemia |\n",
       "| 2 | 320 | 02 |  3.5 | 0 |  6 | AML | 3.5  | NA | 0 | NA | ⋯ | NA | NA | NA | NA | NA | NA | NA | NA | NA | Leukemia |\n",
       "| 3 | 320 | 03 | 13.2 | 0 |  6 | AML | 13.2 | NA | 0 | NA | ⋯ | NA | NA | NA | NA | NA | NA | NA | NA | NA | Leukemia |\n",
       "| 4 | 320 | 04 |   NA | 0 |  6 | AML | x    | NA | 0 | NA | ⋯ | NA | NA | NA | NA | NA | NA | NA | NA | NA | Leukemia |\n",
       "| 5 | 320 | 05 |  0.0 | 0 |  6 | AML | 0    | NA | 0 | NA | ⋯ | NA | NA | NA | NA | NA | NA | NA | NA | NA | Leukemia |\n",
       "| 6 | 321 | 01 |  0.0 | 0 | 16 | HD  | 0    | NA | 0 | NA | ⋯ | NA | NA | NA | NA | NA | NA | NA | NA | NA | Lymphoma |\n",
       "\n"
      ],
      "text/plain": [
       "  Patient cycle FOLD ATC Age Disease_type TE_fold Pass CD3 EM ⋯ TIM3 CTLA4 PD1%\n",
       "1 320     01     8.9 0    6  AML          8.9     NA   0   NA ⋯ NA   NA    NA  \n",
       "2 320     02     3.5 0    6  AML          3.5     NA   0   NA ⋯ NA   NA    NA  \n",
       "3 320     03    13.2 0    6  AML          13.2    NA   0   NA ⋯ NA   NA    NA  \n",
       "4 320     04      NA 0    6  AML          x       NA   0   NA ⋯ NA   NA    NA  \n",
       "5 320     05     0.0 0    6  AML          0       NA   0   NA ⋯ NA   NA    NA  \n",
       "6 321     01     0.0 0   16  HD           0       NA   0   NA ⋯ NA   NA    NA  \n",
       "  PDL1% LAG3% TIM3% CTLA4% Any NCR PD1 + LAG3 + TIM3 cancergroup\n",
       "1 NA    NA    NA    NA     NA      NA                Leukemia   \n",
       "2 NA    NA    NA    NA     NA      NA                Leukemia   \n",
       "3 NA    NA    NA    NA     NA      NA                Leukemia   \n",
       "4 NA    NA    NA    NA     NA      NA                Leukemia   \n",
       "5 NA    NA    NA    NA     NA      NA                Leukemia   \n",
       "6 NA    NA    NA    NA     NA      NA                Lymphoma   "
      ]
     },
     "metadata": {},
     "output_type": "display_data"
    }
   ],
   "source": [
    "head(ATC_Tcells_NCR)"
   ]
  },
  {
   "cell_type": "code",
   "execution_count": 63,
   "metadata": {},
   "outputs": [],
   "source": [
    "ATC_Tcells_NCR$Patient <- paste(\"CHP_\", ATC_Tcells_NCR$Patient, sep = \"\")"
   ]
  },
  {
   "cell_type": "code",
   "execution_count": 64,
   "metadata": {},
   "outputs": [],
   "source": [
    "ATC_Tcells_NCR$sample_id <- paste( ATC_Tcells_NCR$Patient, \"_\", ATC_Tcells_NCR$cycle, sep = \"\")"
   ]
  },
  {
   "cell_type": "code",
   "execution_count": 65,
   "metadata": {},
   "outputs": [
    {
     "data": {
      "text/html": [
       "<table class=\"dataframe\">\n",
       "<caption>A data.frame: 6 × 35</caption>\n",
       "<thead>\n",
       "\t<tr><th></th><th scope=col>Patient</th><th scope=col>cycle</th><th scope=col>FOLD</th><th scope=col>ATC</th><th scope=col>Age</th><th scope=col>Disease_type</th><th scope=col>TE_fold</th><th scope=col>Pass</th><th scope=col>CD3</th><th scope=col>EM</th><th scope=col>⋯</th><th scope=col>CTLA4</th><th scope=col>PD1%</th><th scope=col>PDL1%</th><th scope=col>LAG3%</th><th scope=col>TIM3%</th><th scope=col>CTLA4%</th><th scope=col>Any NCR</th><th scope=col>PD1 + LAG3 + TIM3</th><th scope=col>cancergroup</th><th scope=col>sample_id</th></tr>\n",
       "\t<tr><th></th><th scope=col>&lt;chr&gt;</th><th scope=col>&lt;chr&gt;</th><th scope=col>&lt;dbl&gt;</th><th scope=col>&lt;dbl&gt;</th><th scope=col>&lt;dbl&gt;</th><th scope=col>&lt;chr&gt;</th><th scope=col>&lt;chr&gt;</th><th scope=col>&lt;lgl&gt;</th><th scope=col>&lt;int&gt;</th><th scope=col>&lt;dbl&gt;</th><th scope=col>⋯</th><th scope=col>&lt;int&gt;</th><th scope=col>&lt;dbl&gt;</th><th scope=col>&lt;dbl&gt;</th><th scope=col>&lt;dbl&gt;</th><th scope=col>&lt;dbl&gt;</th><th scope=col>&lt;dbl&gt;</th><th scope=col>&lt;dbl&gt;</th><th scope=col>&lt;dbl&gt;</th><th scope=col>&lt;chr&gt;</th><th scope=col>&lt;chr&gt;</th></tr>\n",
       "</thead>\n",
       "<tbody>\n",
       "\t<tr><th scope=row>1</th><td>CHP_320</td><td>01</td><td> 8.9</td><td>0</td><td> 6</td><td>AML</td><td>8.9 </td><td>NA</td><td>0</td><td>NA</td><td>⋯</td><td>NA</td><td>NA</td><td>NA</td><td>NA</td><td>NA</td><td>NA</td><td>NA</td><td>NA</td><td>Leukemia</td><td>CHP_320_01</td></tr>\n",
       "\t<tr><th scope=row>2</th><td>CHP_320</td><td>02</td><td> 3.5</td><td>0</td><td> 6</td><td>AML</td><td>3.5 </td><td>NA</td><td>0</td><td>NA</td><td>⋯</td><td>NA</td><td>NA</td><td>NA</td><td>NA</td><td>NA</td><td>NA</td><td>NA</td><td>NA</td><td>Leukemia</td><td>CHP_320_02</td></tr>\n",
       "\t<tr><th scope=row>3</th><td>CHP_320</td><td>03</td><td>13.2</td><td>0</td><td> 6</td><td>AML</td><td>13.2</td><td>NA</td><td>0</td><td>NA</td><td>⋯</td><td>NA</td><td>NA</td><td>NA</td><td>NA</td><td>NA</td><td>NA</td><td>NA</td><td>NA</td><td>Leukemia</td><td>CHP_320_03</td></tr>\n",
       "\t<tr><th scope=row>4</th><td>CHP_320</td><td>04</td><td>  NA</td><td>0</td><td> 6</td><td>AML</td><td>x   </td><td>NA</td><td>0</td><td>NA</td><td>⋯</td><td>NA</td><td>NA</td><td>NA</td><td>NA</td><td>NA</td><td>NA</td><td>NA</td><td>NA</td><td>Leukemia</td><td>CHP_320_04</td></tr>\n",
       "\t<tr><th scope=row>5</th><td>CHP_320</td><td>05</td><td> 0.0</td><td>0</td><td> 6</td><td>AML</td><td>0   </td><td>NA</td><td>0</td><td>NA</td><td>⋯</td><td>NA</td><td>NA</td><td>NA</td><td>NA</td><td>NA</td><td>NA</td><td>NA</td><td>NA</td><td>Leukemia</td><td>CHP_320_05</td></tr>\n",
       "\t<tr><th scope=row>6</th><td>CHP_321</td><td>01</td><td> 0.0</td><td>0</td><td>16</td><td>HD </td><td>0   </td><td>NA</td><td>0</td><td>NA</td><td>⋯</td><td>NA</td><td>NA</td><td>NA</td><td>NA</td><td>NA</td><td>NA</td><td>NA</td><td>NA</td><td>Lymphoma</td><td>CHP_321_01</td></tr>\n",
       "</tbody>\n",
       "</table>\n"
      ],
      "text/latex": [
       "A data.frame: 6 × 35\n",
       "\\begin{tabular}{r|lllllllllllllllllllll}\n",
       "  & Patient & cycle & FOLD & ATC & Age & Disease\\_type & TE\\_fold & Pass & CD3 & EM & ⋯ & CTLA4 & PD1\\% & PDL1\\% & LAG3\\% & TIM3\\% & CTLA4\\% & Any NCR & PD1 + LAG3 + TIM3 & cancergroup & sample\\_id\\\\\n",
       "  & <chr> & <chr> & <dbl> & <dbl> & <dbl> & <chr> & <chr> & <lgl> & <int> & <dbl> & ⋯ & <int> & <dbl> & <dbl> & <dbl> & <dbl> & <dbl> & <dbl> & <dbl> & <chr> & <chr>\\\\\n",
       "\\hline\n",
       "\t1 & CHP\\_320 & 01 &  8.9 & 0 &  6 & AML & 8.9  & NA & 0 & NA & ⋯ & NA & NA & NA & NA & NA & NA & NA & NA & Leukemia & CHP\\_320\\_01\\\\\n",
       "\t2 & CHP\\_320 & 02 &  3.5 & 0 &  6 & AML & 3.5  & NA & 0 & NA & ⋯ & NA & NA & NA & NA & NA & NA & NA & NA & Leukemia & CHP\\_320\\_02\\\\\n",
       "\t3 & CHP\\_320 & 03 & 13.2 & 0 &  6 & AML & 13.2 & NA & 0 & NA & ⋯ & NA & NA & NA & NA & NA & NA & NA & NA & Leukemia & CHP\\_320\\_03\\\\\n",
       "\t4 & CHP\\_320 & 04 &   NA & 0 &  6 & AML & x    & NA & 0 & NA & ⋯ & NA & NA & NA & NA & NA & NA & NA & NA & Leukemia & CHP\\_320\\_04\\\\\n",
       "\t5 & CHP\\_320 & 05 &  0.0 & 0 &  6 & AML & 0    & NA & 0 & NA & ⋯ & NA & NA & NA & NA & NA & NA & NA & NA & Leukemia & CHP\\_320\\_05\\\\\n",
       "\t6 & CHP\\_321 & 01 &  0.0 & 0 & 16 & HD  & 0    & NA & 0 & NA & ⋯ & NA & NA & NA & NA & NA & NA & NA & NA & Lymphoma & CHP\\_321\\_01\\\\\n",
       "\\end{tabular}\n"
      ],
      "text/markdown": [
       "\n",
       "A data.frame: 6 × 35\n",
       "\n",
       "| <!--/--> | Patient &lt;chr&gt; | cycle &lt;chr&gt; | FOLD &lt;dbl&gt; | ATC &lt;dbl&gt; | Age &lt;dbl&gt; | Disease_type &lt;chr&gt; | TE_fold &lt;chr&gt; | Pass &lt;lgl&gt; | CD3 &lt;int&gt; | EM &lt;dbl&gt; | ⋯ ⋯ | CTLA4 &lt;int&gt; | PD1% &lt;dbl&gt; | PDL1% &lt;dbl&gt; | LAG3% &lt;dbl&gt; | TIM3% &lt;dbl&gt; | CTLA4% &lt;dbl&gt; | Any NCR &lt;dbl&gt; | PD1 + LAG3 + TIM3 &lt;dbl&gt; | cancergroup &lt;chr&gt; | sample_id &lt;chr&gt; |\n",
       "|---|---|---|---|---|---|---|---|---|---|---|---|---|---|---|---|---|---|---|---|---|---|\n",
       "| 1 | CHP_320 | 01 |  8.9 | 0 |  6 | AML | 8.9  | NA | 0 | NA | ⋯ | NA | NA | NA | NA | NA | NA | NA | NA | Leukemia | CHP_320_01 |\n",
       "| 2 | CHP_320 | 02 |  3.5 | 0 |  6 | AML | 3.5  | NA | 0 | NA | ⋯ | NA | NA | NA | NA | NA | NA | NA | NA | Leukemia | CHP_320_02 |\n",
       "| 3 | CHP_320 | 03 | 13.2 | 0 |  6 | AML | 13.2 | NA | 0 | NA | ⋯ | NA | NA | NA | NA | NA | NA | NA | NA | Leukemia | CHP_320_03 |\n",
       "| 4 | CHP_320 | 04 |   NA | 0 |  6 | AML | x    | NA | 0 | NA | ⋯ | NA | NA | NA | NA | NA | NA | NA | NA | Leukemia | CHP_320_04 |\n",
       "| 5 | CHP_320 | 05 |  0.0 | 0 |  6 | AML | 0    | NA | 0 | NA | ⋯ | NA | NA | NA | NA | NA | NA | NA | NA | Leukemia | CHP_320_05 |\n",
       "| 6 | CHP_321 | 01 |  0.0 | 0 | 16 | HD  | 0    | NA | 0 | NA | ⋯ | NA | NA | NA | NA | NA | NA | NA | NA | Lymphoma | CHP_321_01 |\n",
       "\n"
      ],
      "text/plain": [
       "  Patient cycle FOLD ATC Age Disease_type TE_fold Pass CD3 EM ⋯ CTLA4 PD1%\n",
       "1 CHP_320 01     8.9 0    6  AML          8.9     NA   0   NA ⋯ NA    NA  \n",
       "2 CHP_320 02     3.5 0    6  AML          3.5     NA   0   NA ⋯ NA    NA  \n",
       "3 CHP_320 03    13.2 0    6  AML          13.2    NA   0   NA ⋯ NA    NA  \n",
       "4 CHP_320 04      NA 0    6  AML          x       NA   0   NA ⋯ NA    NA  \n",
       "5 CHP_320 05     0.0 0    6  AML          0       NA   0   NA ⋯ NA    NA  \n",
       "6 CHP_321 01     0.0 0   16  HD           0       NA   0   NA ⋯ NA    NA  \n",
       "  PDL1% LAG3% TIM3% CTLA4% Any NCR PD1 + LAG3 + TIM3 cancergroup sample_id \n",
       "1 NA    NA    NA    NA     NA      NA                Leukemia    CHP_320_01\n",
       "2 NA    NA    NA    NA     NA      NA                Leukemia    CHP_320_02\n",
       "3 NA    NA    NA    NA     NA      NA                Leukemia    CHP_320_03\n",
       "4 NA    NA    NA    NA     NA      NA                Leukemia    CHP_320_04\n",
       "5 NA    NA    NA    NA     NA      NA                Leukemia    CHP_320_05\n",
       "6 NA    NA    NA    NA     NA      NA                Lymphoma    CHP_321_01"
      ]
     },
     "metadata": {},
     "output_type": "display_data"
    }
   ],
   "source": [
    "head(ATC_Tcells_NCR)"
   ]
  },
  {
   "cell_type": "code",
   "execution_count": 66,
   "metadata": {},
   "outputs": [],
   "source": [
    "write.csv(ATC_Tcells_NCR,\n",
    "         file = paste0(datapath, \"INT_metadata_flow.csv\"),row.names = F)"
   ]
  },
  {
   "cell_type": "code",
   "execution_count": null,
   "metadata": {},
   "outputs": [],
   "source": []
  }
 ],
 "metadata": {
  "kernelspec": {
   "display_name": "R 4.0",
   "language": "R",
   "name": "ir40"
  },
  "language_info": {
   "codemirror_mode": "r",
   "file_extension": ".r",
   "mimetype": "text/x-r-source",
   "name": "R",
   "pygments_lexer": "r",
   "version": "4.0.3"
  },
  "toc": {
   "base_numbering": 1,
   "nav_menu": {},
   "number_sections": false,
   "sideBar": true,
   "skip_h1_title": false,
   "title_cell": "Table of Contents",
   "title_sidebar": "Contents",
   "toc_cell": true,
   "toc_position": {
    "height": "calc(100% - 180px)",
    "left": "10px",
    "top": "150px",
    "width": "180px"
   },
   "toc_section_display": true,
   "toc_window_display": true
  }
 },
 "nbformat": 4,
 "nbformat_minor": 2
}
