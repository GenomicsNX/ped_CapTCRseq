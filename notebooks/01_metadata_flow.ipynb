{
 "cells": [
  {
   "cell_type": "markdown",
   "metadata": {
    "toc": true
   },
   "source": [
    "<h1>Table of Contents<span class=\"tocSkip\"></span></h1>\n",
    "<div class=\"toc\"><ul class=\"toc-item\"><li><span><a href=\"#Dependencies\" data-toc-modified-id=\"Dependencies-1\">Dependencies</a></span></li><li><span><a href=\"#Functions\" data-toc-modified-id=\"Functions-2\">Functions</a></span></li><li><span><a href=\"#Paths\" data-toc-modified-id=\"Paths-3\">Paths</a></span></li><li><span><a href=\"#Main\" data-toc-modified-id=\"Main-4\">Main</a></span><ul class=\"toc-item\"><li><span><a href=\"#Cleanup-ATC-file\" data-toc-modified-id=\"Cleanup-ATC-file-4.1\">Cleanup ATC file</a></span></li><li><span><a href=\"#Clean-up-NCR-file\" data-toc-modified-id=\"Clean-up-NCR-file-4.2\">Clean up NCR file</a></span></li><li><span><a href=\"#Clean-up-T-cells-file\" data-toc-modified-id=\"Clean-up-T-cells-file-4.3\">Clean up T cells file</a></span></li><li><span><a href=\"#Create-master-table-for-clinical-and-flow-data\" data-toc-modified-id=\"Create-master-table-for-clinical-and-flow-data-4.4\">Create master table for clinical and flow data</a></span></li><li><span><a href=\"#Cohort-cleanup\" data-toc-modified-id=\"Cohort-cleanup-4.5\">Cohort cleanup</a></span></li></ul></li></ul></div>"
   ]
  },
  {
   "cell_type": "code",
   "execution_count": 1,
   "metadata": {
    "vscode": {
     "languageId": "r"
    }
   },
   "outputs": [
    {
     "data": {
      "text/html": [
       "'en_US.UTF-8/en_US.UTF-8/en_US.UTF-8/C/en_US.UTF-8/C'"
      ],
      "text/latex": [
       "'en\\_US.UTF-8/en\\_US.UTF-8/en\\_US.UTF-8/C/en\\_US.UTF-8/C'"
      ],
      "text/markdown": [
       "'en_US.UTF-8/en_US.UTF-8/en_US.UTF-8/C/en_US.UTF-8/C'"
      ],
      "text/plain": [
       "[1] \"en_US.UTF-8/en_US.UTF-8/en_US.UTF-8/C/en_US.UTF-8/C\""
      ]
     },
     "metadata": {},
     "output_type": "display_data"
    }
   ],
   "source": [
    "Sys.setlocale(category = \"LC_ALL\", locale = \"en_US.UTF-8\")"
   ]
  },
  {
   "cell_type": "markdown",
   "metadata": {},
   "source": [
    "# Dependencies"
   ]
  },
  {
   "cell_type": "code",
   "execution_count": 2,
   "metadata": {
    "vscode": {
     "languageId": "r"
    }
   },
   "outputs": [
    {
     "name": "stderr",
     "output_type": "stream",
     "text": [
      "Loading required package: grid\n",
      "\n",
      "========================================\n",
      "ComplexHeatmap version 2.14.0\n",
      "Bioconductor page: http://bioconductor.org/packages/ComplexHeatmap/\n",
      "Github page: https://github.com/jokergoo/ComplexHeatmap\n",
      "Documentation: http://jokergoo.github.io/ComplexHeatmap-reference\n",
      "\n",
      "If you use it in published research, please cite either one:\n",
      "- Gu, Z. Complex Heatmap Visualization. iMeta 2022.\n",
      "- Gu, Z. Complex heatmaps reveal patterns and correlations in multidimensional \n",
      "    genomic data. Bioinformatics 2016.\n",
      "\n",
      "\n",
      "The new InteractiveComplexHeatmap package can directly export static \n",
      "complex heatmaps into an interactive Shiny app with zero effort. Have a try!\n",
      "\n",
      "This message can be suppressed by:\n",
      "  suppressPackageStartupMessages(library(ComplexHeatmap))\n",
      "========================================\n",
      "\n",
      "\n",
      "========================================\n",
      "circlize version 0.4.15\n",
      "CRAN page: https://cran.r-project.org/package=circlize\n",
      "Github page: https://github.com/jokergoo/circlize\n",
      "Documentation: https://jokergoo.github.io/circlize_book/book/\n",
      "\n",
      "If you use it in published research, please cite:\n",
      "Gu, Z. circlize implements and enhances circular visualization\n",
      "  in R. Bioinformatics 2014.\n",
      "\n",
      "This message can be suppressed by:\n",
      "  suppressPackageStartupMessages(library(circlize))\n",
      "========================================\n",
      "\n",
      "\n"
     ]
    }
   ],
   "source": [
    "library(ggplot2)\n",
    "library(gridExtra)\n",
    "library(ComplexHeatmap)\n",
    "library(circlize)"
   ]
  },
  {
   "cell_type": "markdown",
   "metadata": {},
   "source": [
    "# Functions"
   ]
  },
  {
   "cell_type": "markdown",
   "metadata": {},
   "source": [
    "# Paths"
   ]
  },
  {
   "cell_type": "code",
   "execution_count": 3,
   "metadata": {
    "vscode": {
     "languageId": "r"
    }
   },
   "outputs": [],
   "source": [
    "datapath <- \"/Users/anabbi/OneDrive - UHN/Documents/INTERCEPT/Data/\"\n",
    "plotpath <- \"/Users/anabbi/OneDrive - UHN/Documents/INTERCEPT/Plots/\"\n",
    "manifestpath <- \"/Users/anabbi/OneDrive - UHN/Documents/INTERCEPT/Manifests/\"\n",
    "\n",
    "gitpath <- \"/Users/anabbi/git/ped_CapTCRseq/\""
   ]
  },
  {
   "cell_type": "markdown",
   "metadata": {},
   "source": [
    "# Main"
   ]
  },
  {
   "cell_type": "markdown",
   "metadata": {},
   "source": [
    "All csv files are from \"Toronto expansion and NCR data 4.xlsx\""
   ]
  },
  {
   "cell_type": "markdown",
   "metadata": {},
   "source": [
    "## Cleanup ATC file"
   ]
  },
  {
   "cell_type": "markdown",
   "metadata": {},
   "source": [
    "On excel, copy row 2:end of \"ATC count\" sheet to a new spreadsheet, adjust columns:\n",
    "\" ID#\tAge\t\tFOLD\tATC\tFOLD1\tATC1\tFOLD2\tATC2\tFOLD3\tATC3\tFOLD4\tATC4\"\n",
    "save as ATC_count.csv"
   ]
  },
  {
   "cell_type": "code",
   "execution_count": 4,
   "metadata": {
    "vscode": {
     "languageId": "r"
    }
   },
   "outputs": [],
   "source": [
    "ATCs <- read.csv(paste0(datapath, \"Flow/ATC_count.csv\"),\n",
    "                 header = T, check.names = F, stringsAsFactors = F, \n",
    "                 na.strings = c(\"NA\",\"\", \"#DIV/0!\",\"#VALUE!\",\"#REF!\"))"
   ]
  },
  {
   "cell_type": "code",
   "execution_count": 5,
   "metadata": {
    "scrolled": true,
    "vscode": {
     "languageId": "r"
    }
   },
   "outputs": [
    {
     "data": {
      "text/html": [
       "<table class=\"dataframe\">\n",
       "<caption>A data.frame: 6 x 13</caption>\n",
       "<thead>\n",
       "\t<tr><th></th><th scope=col> ID#</th><th scope=col>Age</th><th scope=col></th><th scope=col>FOLD</th><th scope=col>ATC</th><th scope=col>FOLD1</th><th scope=col>ATC1</th><th scope=col>FOLD2</th><th scope=col>ATC2</th><th scope=col>FOLD3</th><th scope=col>ATC3</th><th scope=col>FOLD4</th><th scope=col>ATC4</th></tr>\n",
       "\t<tr><th></th><th scope=col>&lt;int&gt;</th><th scope=col>&lt;dbl&gt;</th><th scope=col>&lt;chr&gt;</th><th scope=col>&lt;chr&gt;</th><th scope=col>&lt;dbl&gt;</th><th scope=col>&lt;chr&gt;</th><th scope=col>&lt;dbl&gt;</th><th scope=col>&lt;chr&gt;</th><th scope=col>&lt;dbl&gt;</th><th scope=col>&lt;chr&gt;</th><th scope=col>&lt;dbl&gt;</th><th scope=col>&lt;chr&gt;</th><th scope=col>&lt;dbl&gt;</th></tr>\n",
       "</thead>\n",
       "<tbody>\n",
       "\t<tr><th scope=row>221</th><td>320</td><td>NA</td><td>AML   </td><td>8.9</td><td>  0.00</td><td>3.5</td><td>   0.00</td><td>13.2</td><td>  0.00</td><td>x  </td><td>  0.00</td><td>0</td><td>  0.0</td></tr>\n",
       "\t<tr><th scope=row>222</th><td>321</td><td>NA</td><td>HD    </td><td>0  </td><td>  0.00</td><td>0  </td><td>   0.00</td><td>0   </td><td>  0.00</td><td>0  </td><td>  0.00</td><td>0</td><td>  0.0</td></tr>\n",
       "\t<tr><th scope=row>223</th><td>322</td><td>NA</td><td>DLBCL </td><td>1.1</td><td>  0.00</td><td>0.4</td><td>   0.00</td><td>4.3 </td><td>  0.00</td><td>4.7</td><td>  0.00</td><td>1</td><td>  0.0</td></tr>\n",
       "\t<tr><th scope=row>224</th><td>323</td><td>NA</td><td>HR ALL</td><td>0  </td><td>154.75</td><td>0  </td><td>1397.28</td><td>0   </td><td>786.24</td><td>0  </td><td>563.68</td><td>0</td><td>979.5</td></tr>\n",
       "\t<tr><th scope=row>225</th><td>324</td><td>NA</td><td>T-ALL </td><td>0  </td><td>  0.00</td><td>0  </td><td>   0.00</td><td>0   </td><td>  0.00</td><td>0  </td><td>  0.00</td><td>0</td><td>  0.0</td></tr>\n",
       "\t<tr><th scope=row>226</th><td>325</td><td>NA</td><td>ERMS  </td><td>0  </td><td>    NA</td><td>0  </td><td> 927.46</td><td>0   </td><td>624.72</td><td>0  </td><td>163.77</td><td>0</td><td>  0.0</td></tr>\n",
       "</tbody>\n",
       "</table>\n"
      ],
      "text/latex": [
       "A data.frame: 6 x 13\n",
       "\\begin{tabular}{r|lllllllllllll}\n",
       "  &  ID\\# & Age &  & FOLD & ATC & FOLD1 & ATC1 & FOLD2 & ATC2 & FOLD3 & ATC3 & FOLD4 & ATC4\\\\\n",
       "  & <int> & <dbl> & <chr> & <chr> & <dbl> & <chr> & <dbl> & <chr> & <dbl> & <chr> & <dbl> & <chr> & <dbl>\\\\\n",
       "\\hline\n",
       "\t221 & 320 & NA & AML    & 8.9 &   0.00 & 3.5 &    0.00 & 13.2 &   0.00 & x   &   0.00 & 0 &   0.0\\\\\n",
       "\t222 & 321 & NA & HD     & 0   &   0.00 & 0   &    0.00 & 0    &   0.00 & 0   &   0.00 & 0 &   0.0\\\\\n",
       "\t223 & 322 & NA & DLBCL  & 1.1 &   0.00 & 0.4 &    0.00 & 4.3  &   0.00 & 4.7 &   0.00 & 1 &   0.0\\\\\n",
       "\t224 & 323 & NA & HR ALL & 0   & 154.75 & 0   & 1397.28 & 0    & 786.24 & 0   & 563.68 & 0 & 979.5\\\\\n",
       "\t225 & 324 & NA & T-ALL  & 0   &   0.00 & 0   &    0.00 & 0    &   0.00 & 0   &   0.00 & 0 &   0.0\\\\\n",
       "\t226 & 325 & NA & ERMS   & 0   &     NA & 0   &  927.46 & 0    & 624.72 & 0   & 163.77 & 0 &   0.0\\\\\n",
       "\\end{tabular}\n"
      ],
      "text/markdown": [
       "\n",
       "A data.frame: 6 x 13\n",
       "\n",
       "| <!--/--> |  ID# &lt;int&gt; | Age &lt;dbl&gt; | <!----> &lt;chr&gt; | FOLD &lt;chr&gt; | ATC &lt;dbl&gt; | FOLD1 &lt;chr&gt; | ATC1 &lt;dbl&gt; | FOLD2 &lt;chr&gt; | ATC2 &lt;dbl&gt; | FOLD3 &lt;chr&gt; | ATC3 &lt;dbl&gt; | FOLD4 &lt;chr&gt; | ATC4 &lt;dbl&gt; |\n",
       "|---|---|---|---|---|---|---|---|---|---|---|---|---|---|\n",
       "| 221 | 320 | NA | AML    | 8.9 |   0.00 | 3.5 |    0.00 | 13.2 |   0.00 | x   |   0.00 | 0 |   0.0 |\n",
       "| 222 | 321 | NA | HD     | 0   |   0.00 | 0   |    0.00 | 0    |   0.00 | 0   |   0.00 | 0 |   0.0 |\n",
       "| 223 | 322 | NA | DLBCL  | 1.1 |   0.00 | 0.4 |    0.00 | 4.3  |   0.00 | 4.7 |   0.00 | 1 |   0.0 |\n",
       "| 224 | 323 | NA | HR ALL | 0   | 154.75 | 0   | 1397.28 | 0    | 786.24 | 0   | 563.68 | 0 | 979.5 |\n",
       "| 225 | 324 | NA | T-ALL  | 0   |   0.00 | 0   |    0.00 | 0    |   0.00 | 0   |   0.00 | 0 |   0.0 |\n",
       "| 226 | 325 | NA | ERMS   | 0   |     NA | 0   |  927.46 | 0    | 624.72 | 0   | 163.77 | 0 |   0.0 |\n",
       "\n"
      ],
      "text/plain": [
       "     ID# Age        FOLD ATC    FOLD1 ATC1    FOLD2 ATC2   FOLD3 ATC3   FOLD4\n",
       "221 320  NA  AML    8.9    0.00 3.5      0.00 13.2    0.00 x       0.00 0    \n",
       "222 321  NA  HD     0      0.00 0        0.00 0       0.00 0       0.00 0    \n",
       "223 322  NA  DLBCL  1.1    0.00 0.4      0.00 4.3     0.00 4.7     0.00 1    \n",
       "224 323  NA  HR ALL 0    154.75 0     1397.28 0     786.24 0     563.68 0    \n",
       "225 324  NA  T-ALL  0      0.00 0        0.00 0       0.00 0       0.00 0    \n",
       "226 325  NA  ERMS   0        NA 0      927.46 0     624.72 0     163.77 0    \n",
       "    ATC4 \n",
       "221   0.0\n",
       "222   0.0\n",
       "223   0.0\n",
       "224 979.5\n",
       "225   0.0\n",
       "226   0.0"
      ]
     },
     "metadata": {},
     "output_type": "display_data"
    }
   ],
   "source": [
    "head(ATCs[221:338,])"
   ]
  },
  {
   "cell_type": "markdown",
   "metadata": {},
   "source": [
    "Subset to include patients 330 to 437"
   ]
  },
  {
   "cell_type": "code",
   "execution_count": 6,
   "metadata": {
    "scrolled": true,
    "vscode": {
     "languageId": "r"
    }
   },
   "outputs": [],
   "source": [
    "ATC_subset <- ATCs[221:338,]"
   ]
  },
  {
   "cell_type": "code",
   "execution_count": 7,
   "metadata": {
    "vscode": {
     "languageId": "r"
    }
   },
   "outputs": [],
   "source": [
    "ATCssubset1 <- ATC_subset[,c(\"FOLD\", \"ATC\")]\n",
    "ATCssubset2 <- ATC_subset[,c(\"FOLD1\", \"ATC1\")]\n",
    "ATCssubset3 <- ATC_subset[,c(\"FOLD2\", \"ATC2\")]\n",
    "ATCssubset4 <- ATC_subset[,c(\"FOLD3\", \"ATC3\")]\n",
    "ATCssubset5 <- ATC_subset[,c(\"FOLD4\", \"ATC4\")]"
   ]
  },
  {
   "cell_type": "code",
   "execution_count": 8,
   "metadata": {
    "vscode": {
     "languageId": "r"
    }
   },
   "outputs": [
    {
     "data": {
      "text/html": [
       "<style>\n",
       ".list-inline {list-style: none; margin:0; padding: 0}\n",
       ".list-inline>li {display: inline-block}\n",
       ".list-inline>li:not(:last-child)::after {content: \"\\00b7\"; padding: 0 .5ex}\n",
       "</style>\n",
       "<ol class=list-inline><li>' ID#'</li><li>'Age'</li><li>''</li><li>'FOLD'</li><li>'ATC'</li><li>'FOLD1'</li><li>'ATC1'</li><li>'FOLD2'</li><li>'ATC2'</li><li>'FOLD3'</li><li>'ATC3'</li><li>'FOLD4'</li><li>'ATC4'</li></ol>\n"
      ],
      "text/latex": [
       "\\begin{enumerate*}\n",
       "\\item ' ID\\#'\n",
       "\\item 'Age'\n",
       "\\item ''\n",
       "\\item 'FOLD'\n",
       "\\item 'ATC'\n",
       "\\item 'FOLD1'\n",
       "\\item 'ATC1'\n",
       "\\item 'FOLD2'\n",
       "\\item 'ATC2'\n",
       "\\item 'FOLD3'\n",
       "\\item 'ATC3'\n",
       "\\item 'FOLD4'\n",
       "\\item 'ATC4'\n",
       "\\end{enumerate*}\n"
      ],
      "text/markdown": [
       "1. ' ID#'\n",
       "2. 'Age'\n",
       "3. ''\n",
       "4. 'FOLD'\n",
       "5. 'ATC'\n",
       "6. 'FOLD1'\n",
       "7. 'ATC1'\n",
       "8. 'FOLD2'\n",
       "9. 'ATC2'\n",
       "10. 'FOLD3'\n",
       "11. 'ATC3'\n",
       "12. 'FOLD4'\n",
       "13. 'ATC4'\n",
       "\n",
       "\n"
      ],
      "text/plain": [
       " [1] \" ID#\"  \"Age\"   \"\"      \"FOLD\"  \"ATC\"   \"FOLD1\" \"ATC1\"  \"FOLD2\" \"ATC2\" \n",
       "[10] \"FOLD3\" \"ATC3\"  \"FOLD4\" \"ATC4\" "
      ]
     },
     "metadata": {},
     "output_type": "display_data"
    }
   ],
   "source": [
    "colnames(ATC_subset)"
   ]
  },
  {
   "cell_type": "code",
   "execution_count": 9,
   "metadata": {
    "vscode": {
     "languageId": "r"
    }
   },
   "outputs": [
    {
     "data": {
      "text/html": [
       "<style>\n",
       ".list-inline {list-style: none; margin:0; padding: 0}\n",
       ".list-inline>li {display: inline-block}\n",
       ".list-inline>li:not(:last-child)::after {content: \"\\00b7\"; padding: 0 .5ex}\n",
       "</style>\n",
       "<ol class=list-inline><li>118</li><li>2</li></ol>\n"
      ],
      "text/latex": [
       "\\begin{enumerate*}\n",
       "\\item 118\n",
       "\\item 2\n",
       "\\end{enumerate*}\n"
      ],
      "text/markdown": [
       "1. 118\n",
       "2. 2\n",
       "\n",
       "\n"
      ],
      "text/plain": [
       "[1] 118   2"
      ]
     },
     "metadata": {},
     "output_type": "display_data"
    }
   ],
   "source": [
    "dim(ATCssubset1)"
   ]
  },
  {
   "cell_type": "code",
   "execution_count": 10,
   "metadata": {
    "vscode": {
     "languageId": "r"
    }
   },
   "outputs": [],
   "source": [
    "ATCssubset1 <- cbind(ATC_subset$` ID#`, ATCssubset1)\n",
    "ATCssubset2 <- cbind(ATC_subset$` ID#`, ATCssubset2)\n",
    "ATCssubset3 <- cbind(ATC_subset$` ID#`, ATCssubset3)\n",
    "ATCssubset4 <- cbind(ATC_subset$` ID#`, ATCssubset4)\n",
    "ATCssubset5 <- cbind(ATC_subset$` ID#`, ATCssubset5)"
   ]
  },
  {
   "cell_type": "code",
   "execution_count": 11,
   "metadata": {
    "vscode": {
     "languageId": "r"
    }
   },
   "outputs": [],
   "source": [
    "colnames(ATCssubset1) <- c(\"Patient\", \"FOLD\", \"ATC\")\n",
    "colnames(ATCssubset2) <- c(\"Patient\", \"FOLD\", \"ATC\")\n",
    "colnames(ATCssubset3) <- c(\"Patient\", \"FOLD\", \"ATC\")\n",
    "colnames(ATCssubset4) <- c(\"Patient\", \"FOLD\", \"ATC\")\n",
    "colnames(ATCssubset5) <- c(\"Patient\", \"FOLD\", \"ATC\")"
   ]
  },
  {
   "cell_type": "code",
   "execution_count": 12,
   "metadata": {
    "vscode": {
     "languageId": "r"
    }
   },
   "outputs": [],
   "source": [
    "ATCssubset1$cycle <- \"01\"\n",
    "ATCssubset2$cycle <- \"02\"\n",
    "ATCssubset3$cycle <- \"03\"\n",
    "ATCssubset4$cycle <- \"04\"\n",
    "ATCssubset5$cycle <- \"05\""
   ]
  },
  {
   "cell_type": "code",
   "execution_count": 13,
   "metadata": {
    "vscode": {
     "languageId": "r"
    }
   },
   "outputs": [],
   "source": [
    "myATCdf <- rbind(ATCssubset1, ATCssubset2,ATCssubset3, ATCssubset4,ATCssubset5)"
   ]
  },
  {
   "cell_type": "code",
   "execution_count": 14,
   "metadata": {
    "vscode": {
     "languageId": "r"
    }
   },
   "outputs": [
    {
     "data": {
      "text/html": [
       "<table class=\"dataframe\">\n",
       "<caption>A data.frame: 6 x 4</caption>\n",
       "<thead>\n",
       "\t<tr><th></th><th scope=col>Patient</th><th scope=col>FOLD</th><th scope=col>ATC</th><th scope=col>cycle</th></tr>\n",
       "\t<tr><th></th><th scope=col>&lt;int&gt;</th><th scope=col>&lt;chr&gt;</th><th scope=col>&lt;dbl&gt;</th><th scope=col>&lt;chr&gt;</th></tr>\n",
       "</thead>\n",
       "<tbody>\n",
       "\t<tr><th scope=row>221</th><td>320</td><td>8.9</td><td>  0.00</td><td>01</td></tr>\n",
       "\t<tr><th scope=row>222</th><td>321</td><td>0  </td><td>  0.00</td><td>01</td></tr>\n",
       "\t<tr><th scope=row>223</th><td>322</td><td>1.1</td><td>  0.00</td><td>01</td></tr>\n",
       "\t<tr><th scope=row>224</th><td>323</td><td>0  </td><td>154.75</td><td>01</td></tr>\n",
       "\t<tr><th scope=row>225</th><td>324</td><td>0  </td><td>  0.00</td><td>01</td></tr>\n",
       "\t<tr><th scope=row>226</th><td>325</td><td>0  </td><td>    NA</td><td>01</td></tr>\n",
       "</tbody>\n",
       "</table>\n"
      ],
      "text/latex": [
       "A data.frame: 6 x 4\n",
       "\\begin{tabular}{r|llll}\n",
       "  & Patient & FOLD & ATC & cycle\\\\\n",
       "  & <int> & <chr> & <dbl> & <chr>\\\\\n",
       "\\hline\n",
       "\t221 & 320 & 8.9 &   0.00 & 01\\\\\n",
       "\t222 & 321 & 0   &   0.00 & 01\\\\\n",
       "\t223 & 322 & 1.1 &   0.00 & 01\\\\\n",
       "\t224 & 323 & 0   & 154.75 & 01\\\\\n",
       "\t225 & 324 & 0   &   0.00 & 01\\\\\n",
       "\t226 & 325 & 0   &     NA & 01\\\\\n",
       "\\end{tabular}\n"
      ],
      "text/markdown": [
       "\n",
       "A data.frame: 6 x 4\n",
       "\n",
       "| <!--/--> | Patient &lt;int&gt; | FOLD &lt;chr&gt; | ATC &lt;dbl&gt; | cycle &lt;chr&gt; |\n",
       "|---|---|---|---|---|\n",
       "| 221 | 320 | 8.9 |   0.00 | 01 |\n",
       "| 222 | 321 | 0   |   0.00 | 01 |\n",
       "| 223 | 322 | 1.1 |   0.00 | 01 |\n",
       "| 224 | 323 | 0   | 154.75 | 01 |\n",
       "| 225 | 324 | 0   |   0.00 | 01 |\n",
       "| 226 | 325 | 0   |     NA | 01 |\n",
       "\n"
      ],
      "text/plain": [
       "    Patient FOLD ATC    cycle\n",
       "221 320     8.9    0.00 01   \n",
       "222 321     0      0.00 01   \n",
       "223 322     1.1    0.00 01   \n",
       "224 323     0    154.75 01   \n",
       "225 324     0      0.00 01   \n",
       "226 325     0        NA 01   "
      ]
     },
     "metadata": {},
     "output_type": "display_data"
    }
   ],
   "source": [
    "head(myATCdf)"
   ]
  },
  {
   "cell_type": "code",
   "execution_count": 15,
   "metadata": {
    "vscode": {
     "languageId": "r"
    }
   },
   "outputs": [],
   "source": [
    "write.csv(myATCdf, file = paste(datapath, \"ATC_df.csv\", sep = \"\"),row.names = F)"
   ]
  },
  {
   "cell_type": "markdown",
   "metadata": {},
   "source": [
    "## Clean up NCR file"
   ]
  },
  {
   "cell_type": "markdown",
   "metadata": {},
   "source": [
    "Copy \"NCRs pre\" sheet to a new spreadsheet (values only), save as NCRs.csv"
   ]
  },
  {
   "cell_type": "code",
   "execution_count": 16,
   "metadata": {
    "vscode": {
     "languageId": "r"
    }
   },
   "outputs": [],
   "source": [
    "NCRs <- read.csv(paste0(datapath, \"Flow/NCRs.csv\"),header = T, check.names = F, stringsAsFactors = F, \n",
    "                 na.strings = c(\"NA\",\"\", \"#DIV/0!\",\"#VALUE!\",\"#REF!\"))"
   ]
  },
  {
   "cell_type": "code",
   "execution_count": 17,
   "metadata": {
    "vscode": {
     "languageId": "r"
    }
   },
   "outputs": [
    {
     "data": {
      "text/html": [
       "<table class=\"dataframe\">\n",
       "<caption>A data.frame: 6 x 305</caption>\n",
       "<thead>\n",
       "\t<tr><th></th><th scope=col> ID#</th><th scope=col>Age</th><th scope=col>DX</th><th scope=col>TE Fold</th><th scope=col>CD3</th><th scope=col>PD-1</th><th scope=col>PDL1</th><th scope=col>LAG3</th><th scope=col>TIM3</th><th scope=col>CTLA4</th><th scope=col>...</th><th scope=col>LAG3</th><th scope=col>TIM3</th><th scope=col>CTLA4</th><th scope=col>PD1%</th><th scope=col>PDL1%</th><th scope=col>LAG3%</th><th scope=col>TIM3%</th><th scope=col>CTLA4%</th><th scope=col>Any NCR</th><th scope=col>PD1 + LAG3 + TIM3</th></tr>\n",
       "\t<tr><th></th><th scope=col>&lt;int&gt;</th><th scope=col>&lt;dbl&gt;</th><th scope=col>&lt;chr&gt;</th><th scope=col>&lt;chr&gt;</th><th scope=col>&lt;int&gt;</th><th scope=col>&lt;chr&gt;</th><th scope=col>&lt;int&gt;</th><th scope=col>&lt;chr&gt;</th><th scope=col>&lt;chr&gt;</th><th scope=col>&lt;int&gt;</th><th scope=col>...</th><th scope=col>&lt;int&gt;</th><th scope=col>&lt;int&gt;</th><th scope=col>&lt;lgl&gt;</th><th scope=col>&lt;lgl&gt;</th><th scope=col>&lt;lgl&gt;</th><th scope=col>&lt;lgl&gt;</th><th scope=col>&lt;lgl&gt;</th><th scope=col>&lt;lgl&gt;</th><th scope=col>&lt;lgl&gt;</th><th scope=col>&lt;lgl&gt;</th></tr>\n",
       "</thead>\n",
       "<tbody>\n",
       "\t<tr><th scope=row>221</th><td>320</td><td> 6</td><td>AML   </td><td>NA</td><td>0</td><td>NA</td><td>NA</td><td>NA</td><td>NA</td><td>NA</td><td>...</td><td>NA</td><td>NA</td><td>NA</td><td>NA</td><td>NA</td><td>NA</td><td>NA</td><td>NA</td><td>NA</td><td>NA</td></tr>\n",
       "\t<tr><th scope=row>222</th><td>321</td><td>16</td><td>HD    </td><td>NA</td><td>0</td><td>NA</td><td>NA</td><td>NA</td><td>NA</td><td>NA</td><td>...</td><td>NA</td><td>NA</td><td>NA</td><td>NA</td><td>NA</td><td>NA</td><td>NA</td><td>NA</td><td>NA</td><td>NA</td></tr>\n",
       "\t<tr><th scope=row>223</th><td>322</td><td>18</td><td>DLBCL </td><td>NA</td><td>0</td><td>NA</td><td>NA</td><td>NA</td><td>NA</td><td>NA</td><td>...</td><td>NA</td><td>NA</td><td>NA</td><td>NA</td><td>NA</td><td>NA</td><td>NA</td><td>NA</td><td>NA</td><td>NA</td></tr>\n",
       "\t<tr><th scope=row>224</th><td>323</td><td> 1</td><td>HR ALL</td><td>NA</td><td>0</td><td>NA</td><td>NA</td><td>NA</td><td>NA</td><td>NA</td><td>...</td><td>NA</td><td>NA</td><td>NA</td><td>NA</td><td>NA</td><td>NA</td><td>NA</td><td>NA</td><td>NA</td><td>NA</td></tr>\n",
       "\t<tr><th scope=row>225</th><td>324</td><td>12</td><td>T-ALL </td><td>NA</td><td>0</td><td>NA</td><td>NA</td><td>NA</td><td>NA</td><td>NA</td><td>...</td><td>NA</td><td>NA</td><td>NA</td><td>NA</td><td>NA</td><td>NA</td><td>NA</td><td>NA</td><td>NA</td><td>NA</td></tr>\n",
       "\t<tr><th scope=row>226</th><td>325</td><td> 2</td><td>ERMS  </td><td>NA</td><td>0</td><td>NA</td><td>NA</td><td>NA</td><td>NA</td><td>NA</td><td>...</td><td>NA</td><td>NA</td><td>NA</td><td>NA</td><td>NA</td><td>NA</td><td>NA</td><td>NA</td><td>NA</td><td>NA</td></tr>\n",
       "</tbody>\n",
       "</table>\n"
      ],
      "text/latex": [
       "A data.frame: 6 x 305\n",
       "\\begin{tabular}{r|lllllllllllllllllllll}\n",
       "  &  ID\\# & Age & DX & TE Fold & CD3 & PD-1 & PDL1 & LAG3 & TIM3 & CTLA4 & ... & LAG3 & TIM3 & CTLA4 & PD1\\% & PDL1\\% & LAG3\\% & TIM3\\% & CTLA4\\% & Any NCR & PD1 + LAG3 + TIM3\\\\\n",
       "  & <int> & <dbl> & <chr> & <chr> & <int> & <chr> & <int> & <chr> & <chr> & <int> & ... & <int> & <int> & <lgl> & <lgl> & <lgl> & <lgl> & <lgl> & <lgl> & <lgl> & <lgl>\\\\\n",
       "\\hline\n",
       "\t221 & 320 &  6 & AML    & NA & 0 & NA & NA & NA & NA & NA & ... & NA & NA & NA & NA & NA & NA & NA & NA & NA & NA\\\\\n",
       "\t222 & 321 & 16 & HD     & NA & 0 & NA & NA & NA & NA & NA & ... & NA & NA & NA & NA & NA & NA & NA & NA & NA & NA\\\\\n",
       "\t223 & 322 & 18 & DLBCL  & NA & 0 & NA & NA & NA & NA & NA & ... & NA & NA & NA & NA & NA & NA & NA & NA & NA & NA\\\\\n",
       "\t224 & 323 &  1 & HR ALL & NA & 0 & NA & NA & NA & NA & NA & ... & NA & NA & NA & NA & NA & NA & NA & NA & NA & NA\\\\\n",
       "\t225 & 324 & 12 & T-ALL  & NA & 0 & NA & NA & NA & NA & NA & ... & NA & NA & NA & NA & NA & NA & NA & NA & NA & NA\\\\\n",
       "\t226 & 325 &  2 & ERMS   & NA & 0 & NA & NA & NA & NA & NA & ... & NA & NA & NA & NA & NA & NA & NA & NA & NA & NA\\\\\n",
       "\\end{tabular}\n"
      ],
      "text/markdown": [
       "\n",
       "A data.frame: 6 x 305\n",
       "\n",
       "| <!--/--> |  ID# &lt;int&gt; | Age &lt;dbl&gt; | DX &lt;chr&gt; | TE Fold &lt;chr&gt; | CD3 &lt;int&gt; | PD-1 &lt;chr&gt; | PDL1 &lt;int&gt; | LAG3 &lt;chr&gt; | TIM3 &lt;chr&gt; | CTLA4 &lt;int&gt; | ... ... | LAG3 &lt;int&gt; | TIM3 &lt;int&gt; | CTLA4 &lt;lgl&gt; | PD1% &lt;lgl&gt; | PDL1% &lt;lgl&gt; | LAG3% &lt;lgl&gt; | TIM3% &lt;lgl&gt; | CTLA4% &lt;lgl&gt; | Any NCR &lt;lgl&gt; | PD1 + LAG3 + TIM3 &lt;lgl&gt; |\n",
       "|---|---|---|---|---|---|---|---|---|---|---|---|---|---|---|---|---|---|---|---|---|---|\n",
       "| 221 | 320 |  6 | AML    | NA | 0 | NA | NA | NA | NA | NA | ... | NA | NA | NA | NA | NA | NA | NA | NA | NA | NA |\n",
       "| 222 | 321 | 16 | HD     | NA | 0 | NA | NA | NA | NA | NA | ... | NA | NA | NA | NA | NA | NA | NA | NA | NA | NA |\n",
       "| 223 | 322 | 18 | DLBCL  | NA | 0 | NA | NA | NA | NA | NA | ... | NA | NA | NA | NA | NA | NA | NA | NA | NA | NA |\n",
       "| 224 | 323 |  1 | HR ALL | NA | 0 | NA | NA | NA | NA | NA | ... | NA | NA | NA | NA | NA | NA | NA | NA | NA | NA |\n",
       "| 225 | 324 | 12 | T-ALL  | NA | 0 | NA | NA | NA | NA | NA | ... | NA | NA | NA | NA | NA | NA | NA | NA | NA | NA |\n",
       "| 226 | 325 |  2 | ERMS   | NA | 0 | NA | NA | NA | NA | NA | ... | NA | NA | NA | NA | NA | NA | NA | NA | NA | NA |\n",
       "\n"
      ],
      "text/plain": [
       "     ID# Age DX     TE Fold CD3 PD-1 PDL1 LAG3 TIM3 CTLA4 ... LAG3 TIM3 CTLA4\n",
       "221 320   6  AML    NA      0   NA   NA   NA   NA   NA    ... NA   NA   NA   \n",
       "222 321  16  HD     NA      0   NA   NA   NA   NA   NA    ... NA   NA   NA   \n",
       "223 322  18  DLBCL  NA      0   NA   NA   NA   NA   NA    ... NA   NA   NA   \n",
       "224 323   1  HR ALL NA      0   NA   NA   NA   NA   NA    ... NA   NA   NA   \n",
       "225 324  12  T-ALL  NA      0   NA   NA   NA   NA   NA    ... NA   NA   NA   \n",
       "226 325   2  ERMS   NA      0   NA   NA   NA   NA   NA    ... NA   NA   NA   \n",
       "    PD1% PDL1% LAG3% TIM3% CTLA4% Any NCR PD1 + LAG3 + TIM3\n",
       "221 NA   NA    NA    NA    NA     NA      NA               \n",
       "222 NA   NA    NA    NA    NA     NA      NA               \n",
       "223 NA   NA    NA    NA    NA     NA      NA               \n",
       "224 NA   NA    NA    NA    NA     NA      NA               \n",
       "225 NA   NA    NA    NA    NA     NA      NA               \n",
       "226 NA   NA    NA    NA    NA     NA      NA               "
      ]
     },
     "metadata": {},
     "output_type": "display_data"
    }
   ],
   "source": [
    "head(NCRs[221:nrow(NCRs),])"
   ]
  },
  {
   "cell_type": "markdown",
   "metadata": {},
   "source": [
    "Subset to include patients 330 to 437"
   ]
  },
  {
   "cell_type": "code",
   "execution_count": 18,
   "metadata": {
    "vscode": {
     "languageId": "r"
    }
   },
   "outputs": [],
   "source": [
    "NCRssubset <- NCRs[221:nrow(NCRs),]"
   ]
  },
  {
   "cell_type": "code",
   "execution_count": 19,
   "metadata": {
    "vscode": {
     "languageId": "r"
    }
   },
   "outputs": [
    {
     "data": {
      "text/html": [
       "<table class=\"dataframe\">\n",
       "<caption>A data.frame: 6 x 305</caption>\n",
       "<thead>\n",
       "\t<tr><th></th><th scope=col> ID#</th><th scope=col>Age</th><th scope=col>DX</th><th scope=col>TE Fold</th><th scope=col>CD3</th><th scope=col>PD-1</th><th scope=col>PDL1</th><th scope=col>LAG3</th><th scope=col>TIM3</th><th scope=col>CTLA4</th><th scope=col>...</th><th scope=col>LAG3</th><th scope=col>TIM3</th><th scope=col>CTLA4</th><th scope=col>PD1%</th><th scope=col>PDL1%</th><th scope=col>LAG3%</th><th scope=col>TIM3%</th><th scope=col>CTLA4%</th><th scope=col>Any NCR</th><th scope=col>PD1 + LAG3 + TIM3</th></tr>\n",
       "\t<tr><th></th><th scope=col>&lt;int&gt;</th><th scope=col>&lt;dbl&gt;</th><th scope=col>&lt;chr&gt;</th><th scope=col>&lt;chr&gt;</th><th scope=col>&lt;int&gt;</th><th scope=col>&lt;chr&gt;</th><th scope=col>&lt;int&gt;</th><th scope=col>&lt;chr&gt;</th><th scope=col>&lt;chr&gt;</th><th scope=col>&lt;int&gt;</th><th scope=col>...</th><th scope=col>&lt;int&gt;</th><th scope=col>&lt;int&gt;</th><th scope=col>&lt;lgl&gt;</th><th scope=col>&lt;lgl&gt;</th><th scope=col>&lt;lgl&gt;</th><th scope=col>&lt;lgl&gt;</th><th scope=col>&lt;lgl&gt;</th><th scope=col>&lt;lgl&gt;</th><th scope=col>&lt;lgl&gt;</th><th scope=col>&lt;lgl&gt;</th></tr>\n",
       "</thead>\n",
       "<tbody>\n",
       "\t<tr><th scope=row>221</th><td>320</td><td> 6</td><td>AML   </td><td>NA</td><td>0</td><td>NA</td><td>NA</td><td>NA</td><td>NA</td><td>NA</td><td>...</td><td>NA</td><td>NA</td><td>NA</td><td>NA</td><td>NA</td><td>NA</td><td>NA</td><td>NA</td><td>NA</td><td>NA</td></tr>\n",
       "\t<tr><th scope=row>222</th><td>321</td><td>16</td><td>HD    </td><td>NA</td><td>0</td><td>NA</td><td>NA</td><td>NA</td><td>NA</td><td>NA</td><td>...</td><td>NA</td><td>NA</td><td>NA</td><td>NA</td><td>NA</td><td>NA</td><td>NA</td><td>NA</td><td>NA</td><td>NA</td></tr>\n",
       "\t<tr><th scope=row>223</th><td>322</td><td>18</td><td>DLBCL </td><td>NA</td><td>0</td><td>NA</td><td>NA</td><td>NA</td><td>NA</td><td>NA</td><td>...</td><td>NA</td><td>NA</td><td>NA</td><td>NA</td><td>NA</td><td>NA</td><td>NA</td><td>NA</td><td>NA</td><td>NA</td></tr>\n",
       "\t<tr><th scope=row>224</th><td>323</td><td> 1</td><td>HR ALL</td><td>NA</td><td>0</td><td>NA</td><td>NA</td><td>NA</td><td>NA</td><td>NA</td><td>...</td><td>NA</td><td>NA</td><td>NA</td><td>NA</td><td>NA</td><td>NA</td><td>NA</td><td>NA</td><td>NA</td><td>NA</td></tr>\n",
       "\t<tr><th scope=row>225</th><td>324</td><td>12</td><td>T-ALL </td><td>NA</td><td>0</td><td>NA</td><td>NA</td><td>NA</td><td>NA</td><td>NA</td><td>...</td><td>NA</td><td>NA</td><td>NA</td><td>NA</td><td>NA</td><td>NA</td><td>NA</td><td>NA</td><td>NA</td><td>NA</td></tr>\n",
       "\t<tr><th scope=row>226</th><td>325</td><td> 2</td><td>ERMS  </td><td>NA</td><td>0</td><td>NA</td><td>NA</td><td>NA</td><td>NA</td><td>NA</td><td>...</td><td>NA</td><td>NA</td><td>NA</td><td>NA</td><td>NA</td><td>NA</td><td>NA</td><td>NA</td><td>NA</td><td>NA</td></tr>\n",
       "</tbody>\n",
       "</table>\n"
      ],
      "text/latex": [
       "A data.frame: 6 x 305\n",
       "\\begin{tabular}{r|lllllllllllllllllllll}\n",
       "  &  ID\\# & Age & DX & TE Fold & CD3 & PD-1 & PDL1 & LAG3 & TIM3 & CTLA4 & ... & LAG3 & TIM3 & CTLA4 & PD1\\% & PDL1\\% & LAG3\\% & TIM3\\% & CTLA4\\% & Any NCR & PD1 + LAG3 + TIM3\\\\\n",
       "  & <int> & <dbl> & <chr> & <chr> & <int> & <chr> & <int> & <chr> & <chr> & <int> & ... & <int> & <int> & <lgl> & <lgl> & <lgl> & <lgl> & <lgl> & <lgl> & <lgl> & <lgl>\\\\\n",
       "\\hline\n",
       "\t221 & 320 &  6 & AML    & NA & 0 & NA & NA & NA & NA & NA & ... & NA & NA & NA & NA & NA & NA & NA & NA & NA & NA\\\\\n",
       "\t222 & 321 & 16 & HD     & NA & 0 & NA & NA & NA & NA & NA & ... & NA & NA & NA & NA & NA & NA & NA & NA & NA & NA\\\\\n",
       "\t223 & 322 & 18 & DLBCL  & NA & 0 & NA & NA & NA & NA & NA & ... & NA & NA & NA & NA & NA & NA & NA & NA & NA & NA\\\\\n",
       "\t224 & 323 &  1 & HR ALL & NA & 0 & NA & NA & NA & NA & NA & ... & NA & NA & NA & NA & NA & NA & NA & NA & NA & NA\\\\\n",
       "\t225 & 324 & 12 & T-ALL  & NA & 0 & NA & NA & NA & NA & NA & ... & NA & NA & NA & NA & NA & NA & NA & NA & NA & NA\\\\\n",
       "\t226 & 325 &  2 & ERMS   & NA & 0 & NA & NA & NA & NA & NA & ... & NA & NA & NA & NA & NA & NA & NA & NA & NA & NA\\\\\n",
       "\\end{tabular}\n"
      ],
      "text/markdown": [
       "\n",
       "A data.frame: 6 x 305\n",
       "\n",
       "| <!--/--> |  ID# &lt;int&gt; | Age &lt;dbl&gt; | DX &lt;chr&gt; | TE Fold &lt;chr&gt; | CD3 &lt;int&gt; | PD-1 &lt;chr&gt; | PDL1 &lt;int&gt; | LAG3 &lt;chr&gt; | TIM3 &lt;chr&gt; | CTLA4 &lt;int&gt; | ... ... | LAG3 &lt;int&gt; | TIM3 &lt;int&gt; | CTLA4 &lt;lgl&gt; | PD1% &lt;lgl&gt; | PDL1% &lt;lgl&gt; | LAG3% &lt;lgl&gt; | TIM3% &lt;lgl&gt; | CTLA4% &lt;lgl&gt; | Any NCR &lt;lgl&gt; | PD1 + LAG3 + TIM3 &lt;lgl&gt; |\n",
       "|---|---|---|---|---|---|---|---|---|---|---|---|---|---|---|---|---|---|---|---|---|---|\n",
       "| 221 | 320 |  6 | AML    | NA | 0 | NA | NA | NA | NA | NA | ... | NA | NA | NA | NA | NA | NA | NA | NA | NA | NA |\n",
       "| 222 | 321 | 16 | HD     | NA | 0 | NA | NA | NA | NA | NA | ... | NA | NA | NA | NA | NA | NA | NA | NA | NA | NA |\n",
       "| 223 | 322 | 18 | DLBCL  | NA | 0 | NA | NA | NA | NA | NA | ... | NA | NA | NA | NA | NA | NA | NA | NA | NA | NA |\n",
       "| 224 | 323 |  1 | HR ALL | NA | 0 | NA | NA | NA | NA | NA | ... | NA | NA | NA | NA | NA | NA | NA | NA | NA | NA |\n",
       "| 225 | 324 | 12 | T-ALL  | NA | 0 | NA | NA | NA | NA | NA | ... | NA | NA | NA | NA | NA | NA | NA | NA | NA | NA |\n",
       "| 226 | 325 |  2 | ERMS   | NA | 0 | NA | NA | NA | NA | NA | ... | NA | NA | NA | NA | NA | NA | NA | NA | NA | NA |\n",
       "\n"
      ],
      "text/plain": [
       "     ID# Age DX     TE Fold CD3 PD-1 PDL1 LAG3 TIM3 CTLA4 ... LAG3 TIM3 CTLA4\n",
       "221 320   6  AML    NA      0   NA   NA   NA   NA   NA    ... NA   NA   NA   \n",
       "222 321  16  HD     NA      0   NA   NA   NA   NA   NA    ... NA   NA   NA   \n",
       "223 322  18  DLBCL  NA      0   NA   NA   NA   NA   NA    ... NA   NA   NA   \n",
       "224 323   1  HR ALL NA      0   NA   NA   NA   NA   NA    ... NA   NA   NA   \n",
       "225 324  12  T-ALL  NA      0   NA   NA   NA   NA   NA    ... NA   NA   NA   \n",
       "226 325   2  ERMS   NA      0   NA   NA   NA   NA   NA    ... NA   NA   NA   \n",
       "    PD1% PDL1% LAG3% TIM3% CTLA4% Any NCR PD1 + LAG3 + TIM3\n",
       "221 NA   NA    NA    NA    NA     NA      NA               \n",
       "222 NA   NA    NA    NA    NA     NA      NA               \n",
       "223 NA   NA    NA    NA    NA     NA      NA               \n",
       "224 NA   NA    NA    NA    NA     NA      NA               \n",
       "225 NA   NA    NA    NA    NA     NA      NA               \n",
       "226 NA   NA    NA    NA    NA     NA      NA               "
      ]
     },
     "metadata": {},
     "output_type": "display_data"
    }
   ],
   "source": [
    "head(NCRssubset)"
   ]
  },
  {
   "cell_type": "markdown",
   "metadata": {},
   "source": [
    "Get empty columns. They indicate serial samplesets for each patient"
   ]
  },
  {
   "cell_type": "code",
   "execution_count": 20,
   "metadata": {
    "scrolled": true,
    "vscode": {
     "languageId": "r"
    }
   },
   "outputs": [],
   "source": [
    "subsets <- grep(\"^$\", colnames(NCRssubset))"
   ]
  },
  {
   "cell_type": "code",
   "execution_count": 21,
   "metadata": {
    "vscode": {
     "languageId": "r"
    }
   },
   "outputs": [
    {
     "data": {
      "text/html": [
       "<style>\n",
       ".list-inline {list-style: none; margin:0; padding: 0}\n",
       ".list-inline>li {display: inline-block}\n",
       ".list-inline>li:not(:last-child)::after {content: \"\\00b7\"; padding: 0 .5ex}\n",
       "</style>\n",
       "<ol class=list-inline><li>18</li><li>34</li><li>50</li><li>66</li><li>82</li><li>98</li><li>114</li><li>130</li><li>146</li><li>162</li><li>178</li><li>194</li><li>210</li><li>226</li><li>242</li><li>258</li><li>274</li><li>290</li></ol>\n"
      ],
      "text/latex": [
       "\\begin{enumerate*}\n",
       "\\item 18\n",
       "\\item 34\n",
       "\\item 50\n",
       "\\item 66\n",
       "\\item 82\n",
       "\\item 98\n",
       "\\item 114\n",
       "\\item 130\n",
       "\\item 146\n",
       "\\item 162\n",
       "\\item 178\n",
       "\\item 194\n",
       "\\item 210\n",
       "\\item 226\n",
       "\\item 242\n",
       "\\item 258\n",
       "\\item 274\n",
       "\\item 290\n",
       "\\end{enumerate*}\n"
      ],
      "text/markdown": [
       "1. 18\n",
       "2. 34\n",
       "3. 50\n",
       "4. 66\n",
       "5. 82\n",
       "6. 98\n",
       "7. 114\n",
       "8. 130\n",
       "9. 146\n",
       "10. 162\n",
       "11. 178\n",
       "12. 194\n",
       "13. 210\n",
       "14. 226\n",
       "15. 242\n",
       "16. 258\n",
       "17. 274\n",
       "18. 290\n",
       "\n",
       "\n"
      ],
      "text/plain": [
       " [1]  18  34  50  66  82  98 114 130 146 162 178 194 210 226 242 258 274 290"
      ]
     },
     "metadata": {},
     "output_type": "display_data"
    }
   ],
   "source": [
    "subsets"
   ]
  },
  {
   "cell_type": "code",
   "execution_count": 39,
   "metadata": {
    "vscode": {
     "languageId": "r"
    }
   },
   "outputs": [
    {
     "data": {
      "text/html": [
       "<table class=\"dataframe\">\n",
       "<caption>A data.frame: 1 x 15</caption>\n",
       "<thead>\n",
       "\t<tr><th></th><th scope=col>TE Fold</th><th scope=col>Pass?</th><th scope=col>CD3</th><th scope=col>PD-1</th><th scope=col>PDL1</th><th scope=col>LAG3</th><th scope=col>TIM3</th><th scope=col>CTLA4</th><th scope=col>PD1%</th><th scope=col>PDL1%</th><th scope=col>LAG3%</th><th scope=col>TIM3%</th><th scope=col>CTLA4%</th><th scope=col>Any NCR</th><th scope=col>PD1 + LAG3 + TIM3</th></tr>\n",
       "\t<tr><th></th><th scope=col>&lt;chr&gt;</th><th scope=col>&lt;int&gt;</th><th scope=col>&lt;int&gt;</th><th scope=col>&lt;chr&gt;</th><th scope=col>&lt;int&gt;</th><th scope=col>&lt;chr&gt;</th><th scope=col>&lt;chr&gt;</th><th scope=col>&lt;int&gt;</th><th scope=col>&lt;dbl&gt;</th><th scope=col>&lt;dbl&gt;</th><th scope=col>&lt;dbl&gt;</th><th scope=col>&lt;dbl&gt;</th><th scope=col>&lt;dbl&gt;</th><th scope=col>&lt;dbl&gt;</th><th scope=col>&lt;dbl&gt;</th></tr>\n",
       "</thead>\n",
       "<tbody>\n",
       "\t<tr><th scope=row>308</th><td>NA</td><td>NA</td><td>2373</td><td>690</td><td>NA</td><td>116</td><td>690</td><td>NA</td><td>NA</td><td>NA</td><td>NA</td><td>NA</td><td>NA</td><td>NA</td><td>NA</td></tr>\n",
       "</tbody>\n",
       "</table>\n"
      ],
      "text/latex": [
       "A data.frame: 1 x 15\n",
       "\\begin{tabular}{r|lllllllllllllll}\n",
       "  & TE Fold & Pass? & CD3 & PD-1 & PDL1 & LAG3 & TIM3 & CTLA4 & PD1\\% & PDL1\\% & LAG3\\% & TIM3\\% & CTLA4\\% & Any NCR & PD1 + LAG3 + TIM3\\\\\n",
       "  & <chr> & <int> & <int> & <chr> & <int> & <chr> & <chr> & <int> & <dbl> & <dbl> & <dbl> & <dbl> & <dbl> & <dbl> & <dbl>\\\\\n",
       "\\hline\n",
       "\t308 & NA & NA & 2373 & 690 & NA & 116 & 690 & NA & NA & NA & NA & NA & NA & NA & NA\\\\\n",
       "\\end{tabular}\n"
      ],
      "text/markdown": [
       "\n",
       "A data.frame: 1 x 15\n",
       "\n",
       "| <!--/--> | TE Fold &lt;chr&gt; | Pass? &lt;int&gt; | CD3 &lt;int&gt; | PD-1 &lt;chr&gt; | PDL1 &lt;int&gt; | LAG3 &lt;chr&gt; | TIM3 &lt;chr&gt; | CTLA4 &lt;int&gt; | PD1% &lt;dbl&gt; | PDL1% &lt;dbl&gt; | LAG3% &lt;dbl&gt; | TIM3% &lt;dbl&gt; | CTLA4% &lt;dbl&gt; | Any NCR &lt;dbl&gt; | PD1 + LAG3 + TIM3 &lt;dbl&gt; |\n",
       "|---|---|---|---|---|---|---|---|---|---|---|---|---|---|---|---|\n",
       "| 308 | NA | NA | 2373 | 690 | NA | 116 | 690 | NA | NA | NA | NA | NA | NA | NA | NA |\n",
       "\n"
      ],
      "text/plain": [
       "    TE Fold Pass? CD3  PD-1 PDL1 LAG3 TIM3 CTLA4 PD1% PDL1% LAG3% TIM3% CTLA4%\n",
       "308 NA      NA    2373 690  NA   116  690  NA    NA   NA    NA    NA    NA    \n",
       "    Any NCR PD1 + LAG3 + TIM3\n",
       "308 NA      NA               "
      ]
     },
     "metadata": {},
     "output_type": "display_data"
    }
   ],
   "source": [
    "NCRssubset[ NCRssubset$` ID#` == \"407\",19:33]"
   ]
  },
  {
   "cell_type": "markdown",
   "metadata": {},
   "source": [
    "Save each sampleset then rbind"
   ]
  },
  {
   "cell_type": "code",
   "execution_count": 40,
   "metadata": {
    "vscode": {
     "languageId": "r"
    }
   },
   "outputs": [],
   "source": [
    "NCRssubset1 <- NCRssubset[,1:17]\n",
    "NCRssubset2 <- NCRssubset[,c(1:3,19:33)]\n",
    "NCRssubset3 <- NCRssubset[,c(1:3,35:49)]\n",
    "NCRssubset4 <- NCRssubset[,c(1:3,51:65)]\n",
    "NCRssubset5 <- NCRssubset[,c(1:3,67:81)]"
   ]
  },
  {
   "cell_type": "code",
   "execution_count": 42,
   "metadata": {
    "vscode": {
     "languageId": "r"
    }
   },
   "outputs": [
    {
     "data": {
      "text/html": [
       "<style>\n",
       ".list-inline {list-style: none; margin:0; padding: 0}\n",
       ".list-inline>li {display: inline-block}\n",
       ".list-inline>li:not(:last-child)::after {content: \"\\00b7\"; padding: 0 .5ex}\n",
       "</style>\n",
       "<ol class=list-inline><li>' ID#'</li><li>'Age'</li><li>'DX'</li><li>'TE Fold'</li><li>'Pass?'</li><li>'CD3'</li><li>'PD-1'</li><li>'PDL1'</li><li>'LAG3'</li><li>'TIM3'</li><li>'CTLA4'</li><li>'PD1%'</li><li>'PDL1%'</li><li>'LAG3%'</li><li>'TIM3%'</li><li>'CTLA4%'</li><li>'Any NCR'</li><li>'PD1 + LAG3 + TIM3'</li></ol>\n"
      ],
      "text/latex": [
       "\\begin{enumerate*}\n",
       "\\item ' ID\\#'\n",
       "\\item 'Age'\n",
       "\\item 'DX'\n",
       "\\item 'TE Fold'\n",
       "\\item 'Pass?'\n",
       "\\item 'CD3'\n",
       "\\item 'PD-1'\n",
       "\\item 'PDL1'\n",
       "\\item 'LAG3'\n",
       "\\item 'TIM3'\n",
       "\\item 'CTLA4'\n",
       "\\item 'PD1\\%'\n",
       "\\item 'PDL1\\%'\n",
       "\\item 'LAG3\\%'\n",
       "\\item 'TIM3\\%'\n",
       "\\item 'CTLA4\\%'\n",
       "\\item 'Any NCR'\n",
       "\\item 'PD1 + LAG3 + TIM3'\n",
       "\\end{enumerate*}\n"
      ],
      "text/markdown": [
       "1. ' ID#'\n",
       "2. 'Age'\n",
       "3. 'DX'\n",
       "4. 'TE Fold'\n",
       "5. 'Pass?'\n",
       "6. 'CD3'\n",
       "7. 'PD-1'\n",
       "8. 'PDL1'\n",
       "9. 'LAG3'\n",
       "10. 'TIM3'\n",
       "11. 'CTLA4'\n",
       "12. 'PD1%'\n",
       "13. 'PDL1%'\n",
       "14. 'LAG3%'\n",
       "15. 'TIM3%'\n",
       "16. 'CTLA4%'\n",
       "17. 'Any NCR'\n",
       "18. 'PD1 + LAG3 + TIM3'\n",
       "\n",
       "\n"
      ],
      "text/plain": [
       " [1] \" ID#\"              \"Age\"               \"DX\"               \n",
       " [4] \"TE Fold\"           \"Pass?\"             \"CD3\"              \n",
       " [7] \"PD-1\"              \"PDL1\"              \"LAG3\"             \n",
       "[10] \"TIM3\"              \"CTLA4\"             \"PD1%\"             \n",
       "[13] \"PDL1%\"             \"LAG3%\"             \"TIM3%\"            \n",
       "[16] \"CTLA4%\"            \"Any NCR\"           \"PD1 + LAG3 + TIM3\""
      ]
     },
     "metadata": {},
     "output_type": "display_data"
    }
   ],
   "source": [
    "colnames(NCRssubset2)"
   ]
  },
  {
   "cell_type": "code",
   "execution_count": 43,
   "metadata": {
    "vscode": {
     "languageId": "r"
    }
   },
   "outputs": [],
   "source": [
    "NCRssubset1$`Pass?` <- NA"
   ]
  },
  {
   "cell_type": "code",
   "execution_count": 44,
   "metadata": {
    "vscode": {
     "languageId": "r"
    }
   },
   "outputs": [],
   "source": [
    "NCRssubset1$cycle <- \"01\"\n",
    "NCRssubset2$cycle <- \"02\"\n",
    "NCRssubset3$cycle <- \"03\"\n",
    "NCRssubset4$cycle <- \"04\"\n",
    "NCRssubset5$cycle <- \"05\""
   ]
  },
  {
   "cell_type": "code",
   "execution_count": 45,
   "metadata": {
    "vscode": {
     "languageId": "r"
    }
   },
   "outputs": [],
   "source": [
    "myNCRdf <- rbind(\n",
    "    NCRssubset1,\n",
    "    NCRssubset2,\n",
    "    NCRssubset3,\n",
    "    NCRssubset4,\n",
    "    NCRssubset5\n",
    ")\n"
   ]
  },
  {
   "cell_type": "markdown",
   "metadata": {},
   "source": [
    "Reorder columns and colnames cleanup"
   ]
  },
  {
   "cell_type": "code",
   "execution_count": 46,
   "metadata": {
    "vscode": {
     "languageId": "r"
    }
   },
   "outputs": [
    {
     "data": {
      "text/html": [
       "<table class=\"dataframe\">\n",
       "<caption>A data.frame: 6 x 19</caption>\n",
       "<thead>\n",
       "\t<tr><th></th><th scope=col> ID#</th><th scope=col>Age</th><th scope=col>DX</th><th scope=col>TE Fold</th><th scope=col>CD3</th><th scope=col>PD-1</th><th scope=col>PDL1</th><th scope=col>LAG3</th><th scope=col>TIM3</th><th scope=col>CTLA4</th><th scope=col>PD1%</th><th scope=col>PDL1%</th><th scope=col>LAG3%</th><th scope=col>TIM3%</th><th scope=col>CTLA4%</th><th scope=col>Any NCR</th><th scope=col>PD1 + LAG3 + TIM3</th><th scope=col>Pass?</th><th scope=col>cycle</th></tr>\n",
       "\t<tr><th></th><th scope=col>&lt;int&gt;</th><th scope=col>&lt;dbl&gt;</th><th scope=col>&lt;chr&gt;</th><th scope=col>&lt;chr&gt;</th><th scope=col>&lt;int&gt;</th><th scope=col>&lt;chr&gt;</th><th scope=col>&lt;int&gt;</th><th scope=col>&lt;chr&gt;</th><th scope=col>&lt;chr&gt;</th><th scope=col>&lt;int&gt;</th><th scope=col>&lt;dbl&gt;</th><th scope=col>&lt;dbl&gt;</th><th scope=col>&lt;dbl&gt;</th><th scope=col>&lt;dbl&gt;</th><th scope=col>&lt;dbl&gt;</th><th scope=col>&lt;dbl&gt;</th><th scope=col>&lt;dbl&gt;</th><th scope=col>&lt;int&gt;</th><th scope=col>&lt;chr&gt;</th></tr>\n",
       "</thead>\n",
       "<tbody>\n",
       "\t<tr><th scope=row>221</th><td>320</td><td> 6</td><td>AML   </td><td>NA</td><td>0</td><td>NA</td><td>NA</td><td>NA</td><td>NA</td><td>NA</td><td>NA</td><td>NA</td><td>NA</td><td>NA</td><td>NA</td><td>NA</td><td>NA</td><td>NA</td><td>01</td></tr>\n",
       "\t<tr><th scope=row>222</th><td>321</td><td>16</td><td>HD    </td><td>NA</td><td>0</td><td>NA</td><td>NA</td><td>NA</td><td>NA</td><td>NA</td><td>NA</td><td>NA</td><td>NA</td><td>NA</td><td>NA</td><td>NA</td><td>NA</td><td>NA</td><td>01</td></tr>\n",
       "\t<tr><th scope=row>223</th><td>322</td><td>18</td><td>DLBCL </td><td>NA</td><td>0</td><td>NA</td><td>NA</td><td>NA</td><td>NA</td><td>NA</td><td>NA</td><td>NA</td><td>NA</td><td>NA</td><td>NA</td><td>NA</td><td>NA</td><td>NA</td><td>01</td></tr>\n",
       "\t<tr><th scope=row>224</th><td>323</td><td> 1</td><td>HR ALL</td><td>NA</td><td>0</td><td>NA</td><td>NA</td><td>NA</td><td>NA</td><td>NA</td><td>NA</td><td>NA</td><td>NA</td><td>NA</td><td>NA</td><td>NA</td><td>NA</td><td>NA</td><td>01</td></tr>\n",
       "\t<tr><th scope=row>225</th><td>324</td><td>12</td><td>T-ALL </td><td>NA</td><td>0</td><td>NA</td><td>NA</td><td>NA</td><td>NA</td><td>NA</td><td>NA</td><td>NA</td><td>NA</td><td>NA</td><td>NA</td><td>NA</td><td>NA</td><td>NA</td><td>01</td></tr>\n",
       "\t<tr><th scope=row>226</th><td>325</td><td> 2</td><td>ERMS  </td><td>NA</td><td>0</td><td>NA</td><td>NA</td><td>NA</td><td>NA</td><td>NA</td><td>NA</td><td>NA</td><td>NA</td><td>NA</td><td>NA</td><td>NA</td><td>NA</td><td>NA</td><td>01</td></tr>\n",
       "</tbody>\n",
       "</table>\n"
      ],
      "text/latex": [
       "A data.frame: 6 x 19\n",
       "\\begin{tabular}{r|lllllllllllllllllll}\n",
       "  &  ID\\# & Age & DX & TE Fold & CD3 & PD-1 & PDL1 & LAG3 & TIM3 & CTLA4 & PD1\\% & PDL1\\% & LAG3\\% & TIM3\\% & CTLA4\\% & Any NCR & PD1 + LAG3 + TIM3 & Pass? & cycle\\\\\n",
       "  & <int> & <dbl> & <chr> & <chr> & <int> & <chr> & <int> & <chr> & <chr> & <int> & <dbl> & <dbl> & <dbl> & <dbl> & <dbl> & <dbl> & <dbl> & <int> & <chr>\\\\\n",
       "\\hline\n",
       "\t221 & 320 &  6 & AML    & NA & 0 & NA & NA & NA & NA & NA & NA & NA & NA & NA & NA & NA & NA & NA & 01\\\\\n",
       "\t222 & 321 & 16 & HD     & NA & 0 & NA & NA & NA & NA & NA & NA & NA & NA & NA & NA & NA & NA & NA & 01\\\\\n",
       "\t223 & 322 & 18 & DLBCL  & NA & 0 & NA & NA & NA & NA & NA & NA & NA & NA & NA & NA & NA & NA & NA & 01\\\\\n",
       "\t224 & 323 &  1 & HR ALL & NA & 0 & NA & NA & NA & NA & NA & NA & NA & NA & NA & NA & NA & NA & NA & 01\\\\\n",
       "\t225 & 324 & 12 & T-ALL  & NA & 0 & NA & NA & NA & NA & NA & NA & NA & NA & NA & NA & NA & NA & NA & 01\\\\\n",
       "\t226 & 325 &  2 & ERMS   & NA & 0 & NA & NA & NA & NA & NA & NA & NA & NA & NA & NA & NA & NA & NA & 01\\\\\n",
       "\\end{tabular}\n"
      ],
      "text/markdown": [
       "\n",
       "A data.frame: 6 x 19\n",
       "\n",
       "| <!--/--> |  ID# &lt;int&gt; | Age &lt;dbl&gt; | DX &lt;chr&gt; | TE Fold &lt;chr&gt; | CD3 &lt;int&gt; | PD-1 &lt;chr&gt; | PDL1 &lt;int&gt; | LAG3 &lt;chr&gt; | TIM3 &lt;chr&gt; | CTLA4 &lt;int&gt; | PD1% &lt;dbl&gt; | PDL1% &lt;dbl&gt; | LAG3% &lt;dbl&gt; | TIM3% &lt;dbl&gt; | CTLA4% &lt;dbl&gt; | Any NCR &lt;dbl&gt; | PD1 + LAG3 + TIM3 &lt;dbl&gt; | Pass? &lt;int&gt; | cycle &lt;chr&gt; |\n",
       "|---|---|---|---|---|---|---|---|---|---|---|---|---|---|---|---|---|---|---|---|\n",
       "| 221 | 320 |  6 | AML    | NA | 0 | NA | NA | NA | NA | NA | NA | NA | NA | NA | NA | NA | NA | NA | 01 |\n",
       "| 222 | 321 | 16 | HD     | NA | 0 | NA | NA | NA | NA | NA | NA | NA | NA | NA | NA | NA | NA | NA | 01 |\n",
       "| 223 | 322 | 18 | DLBCL  | NA | 0 | NA | NA | NA | NA | NA | NA | NA | NA | NA | NA | NA | NA | NA | 01 |\n",
       "| 224 | 323 |  1 | HR ALL | NA | 0 | NA | NA | NA | NA | NA | NA | NA | NA | NA | NA | NA | NA | NA | 01 |\n",
       "| 225 | 324 | 12 | T-ALL  | NA | 0 | NA | NA | NA | NA | NA | NA | NA | NA | NA | NA | NA | NA | NA | 01 |\n",
       "| 226 | 325 |  2 | ERMS   | NA | 0 | NA | NA | NA | NA | NA | NA | NA | NA | NA | NA | NA | NA | NA | 01 |\n",
       "\n"
      ],
      "text/plain": [
       "     ID# Age DX     TE Fold CD3 PD-1 PDL1 LAG3 TIM3 CTLA4 PD1% PDL1% LAG3%\n",
       "221 320   6  AML    NA      0   NA   NA   NA   NA   NA    NA   NA    NA   \n",
       "222 321  16  HD     NA      0   NA   NA   NA   NA   NA    NA   NA    NA   \n",
       "223 322  18  DLBCL  NA      0   NA   NA   NA   NA   NA    NA   NA    NA   \n",
       "224 323   1  HR ALL NA      0   NA   NA   NA   NA   NA    NA   NA    NA   \n",
       "225 324  12  T-ALL  NA      0   NA   NA   NA   NA   NA    NA   NA    NA   \n",
       "226 325   2  ERMS   NA      0   NA   NA   NA   NA   NA    NA   NA    NA   \n",
       "    TIM3% CTLA4% Any NCR PD1 + LAG3 + TIM3 Pass? cycle\n",
       "221 NA    NA     NA      NA                NA    01   \n",
       "222 NA    NA     NA      NA                NA    01   \n",
       "223 NA    NA     NA      NA                NA    01   \n",
       "224 NA    NA     NA      NA                NA    01   \n",
       "225 NA    NA     NA      NA                NA    01   \n",
       "226 NA    NA     NA      NA                NA    01   "
      ]
     },
     "metadata": {},
     "output_type": "display_data"
    }
   ],
   "source": [
    "head(myNCRdf)"
   ]
  },
  {
   "cell_type": "code",
   "execution_count": 47,
   "metadata": {
    "vscode": {
     "languageId": "r"
    }
   },
   "outputs": [],
   "source": [
    "myNCRdf <- myNCRdf[, c(1,19,2:4,18,5:17)]"
   ]
  },
  {
   "cell_type": "code",
   "execution_count": 48,
   "metadata": {
    "vscode": {
     "languageId": "r"
    }
   },
   "outputs": [
    {
     "data": {
      "text/html": [
       "<style>\n",
       ".list-inline {list-style: none; margin:0; padding: 0}\n",
       ".list-inline>li {display: inline-block}\n",
       ".list-inline>li:not(:last-child)::after {content: \"\\00b7\"; padding: 0 .5ex}\n",
       "</style>\n",
       "<ol class=list-inline><li>' ID#'</li><li>'DX'</li><li>'TE Fold'</li><li>'Pass?'</li></ol>\n"
      ],
      "text/latex": [
       "\\begin{enumerate*}\n",
       "\\item ' ID\\#'\n",
       "\\item 'DX'\n",
       "\\item 'TE Fold'\n",
       "\\item 'Pass?'\n",
       "\\end{enumerate*}\n"
      ],
      "text/markdown": [
       "1. ' ID#'\n",
       "2. 'DX'\n",
       "3. 'TE Fold'\n",
       "4. 'Pass?'\n",
       "\n",
       "\n"
      ],
      "text/plain": [
       "[1] \" ID#\"    \"DX\"      \"TE Fold\" \"Pass?\"  "
      ]
     },
     "metadata": {},
     "output_type": "display_data"
    }
   ],
   "source": [
    "colnames(myNCRdf)[c(1,4,5,6)]"
   ]
  },
  {
   "cell_type": "code",
   "execution_count": 49,
   "metadata": {
    "scrolled": true,
    "vscode": {
     "languageId": "r"
    }
   },
   "outputs": [],
   "source": [
    "colnames(myNCRdf)[c(1,4,5,6)] <- c(\"Patient\", \"Disease_type\", \"TE_fold\", \"Pass\")"
   ]
  },
  {
   "cell_type": "markdown",
   "metadata": {},
   "source": [
    "Assign -1 to all \"x\" values. These are samples that failed the flow experiment"
   ]
  },
  {
   "cell_type": "code",
   "execution_count": 50,
   "metadata": {
    "vscode": {
     "languageId": "r"
    }
   },
   "outputs": [
    {
     "data": {
      "text/html": [
       "<style>\n",
       ".list-inline {list-style: none; margin:0; padding: 0}\n",
       ".list-inline>li {display: inline-block}\n",
       ".list-inline>li:not(:last-child)::after {content: \"\\00b7\"; padding: 0 .5ex}\n",
       "</style>\n",
       "<ol class=list-inline><li>NA</li><li>NA</li><li>NA</li><li>NA</li><li>NA</li><li>NA</li><li>NA</li><li>NA</li><li>NA</li><li>NA</li><li>'113'</li><li>NA</li><li>'340'</li><li>NA</li><li>NA</li><li>'24'</li><li>NA</li><li>NA</li><li>NA</li><li>NA</li><li>NA</li><li>'176'</li><li>'4'</li><li>'191'</li><li>NA</li><li>NA</li><li>'33'</li><li>'305'</li><li>'61'</li><li>'117'</li><li>'51'</li><li>'857'</li><li>'106'</li><li>'98'</li><li>'440'</li><li>NA</li><li>'29'</li><li>'195'</li><li>'148'</li><li>'32'</li><li>NA</li><li>'693'</li><li>'201'</li><li>'120'</li><li>'303'</li><li>'84'</li><li>'273'</li><li>'46'</li><li>'112'</li><li>'123'</li><li>'78'</li><li>'311'</li><li>'95'</li><li>'11'</li><li>NA</li><li>'84'</li><li>NA</li><li>'5'</li><li>'71'</li><li>NA</li><li>NA</li><li>'159'</li><li>NA</li><li>'21'</li><li>'64'</li><li>'46'</li><li>'6'</li><li>'100'</li><li>NA</li><li>NA</li><li>'1154'</li><li>'9'</li><li>'5'</li><li>'411'</li><li>'94'</li><li>'14'</li><li>'42'</li><li>'41'</li><li>'19'</li><li>'15'</li><li>'17'</li><li>'26'</li><li>'24'</li><li>'27'</li><li>'9'</li><li>'93'</li><li>NA</li><li>'640'</li><li>'274'</li><li>'641'</li><li>'2'</li><li>'22'</li><li>'x'</li><li>'426'</li><li>NA</li><li>NA</li><li>NA</li><li>NA</li><li>NA</li><li>NA</li><li>'x'</li><li>'64'</li><li>'x'</li><li>'x'</li><li>'11'</li><li>NA</li><li>'227'</li><li>'158'</li><li>'48'</li><li>'20'</li><li>'259'</li><li>'381'</li><li>'333'</li><li>'383'</li><li>'626'</li><li>NA</li><li>NA</li><li>NA</li><li>NA</li><li>NA</li><li>NA</li><li>NA</li><li>NA</li><li>NA</li><li>NA</li><li>NA</li><li>NA</li><li>NA</li><li>'530'</li><li>NA</li><li>'x'</li><li>NA</li><li>NA</li><li>NA</li><li>NA</li><li>NA</li><li>NA</li><li>NA</li><li>NA</li><li>'176'</li><li>'4'</li><li>'138'</li><li>NA</li><li>NA</li><li>NA</li><li>'50'</li><li>'549'</li><li>'797'</li><li>'41'</li><li>'298'</li><li>'118'</li><li>'151'</li><li>NA</li><li>NA</li><li>'80'</li><li>'73'</li><li>'645'</li><li>NA</li><li>NA</li><li>'1241'</li><li>'176'</li><li>NA</li><li>'153'</li><li>NA</li><li>NA</li><li>NA</li><li>NA</li><li>NA</li><li>NA</li><li>NA</li><li>NA</li><li>NA</li><li>NA</li><li>NA</li><li>NA</li><li>NA</li><li>NA</li><li>NA</li><li>NA</li><li>NA</li><li>NA</li><li>NA</li><li>NA</li><li>'42'</li><li>NA</li><li>'254'</li><li>'476'</li><li>'90'</li><li>'28'</li><li>'249'</li><li>'262'</li><li>'879'</li><li>'111'</li><li>'261'</li><li>'407'</li><li>'26'</li><li>'660'</li><li>'38'</li><li>'620'</li><li>'1'</li><li>...</li><li>'1065'</li><li>'1075'</li><li>NA</li><li>NA</li><li>NA</li><li>NA</li><li>'957'</li><li>NA</li><li>'610'</li><li>NA</li><li>NA</li><li>NA</li><li>NA</li><li>NA</li><li>NA</li><li>NA</li><li>NA</li><li>'91'</li><li>NA</li><li>'75'</li><li>NA</li><li>'31'</li><li>'225'</li><li>NA</li><li>NA</li><li>NA</li><li>'1163'</li><li>'31'</li><li>NA</li><li>'435'</li><li>'680'</li><li>NA</li><li>'129'</li><li>'411'</li><li>'x'</li><li>NA</li><li>NA</li><li>'84'</li><li>'717'</li><li>NA</li><li>NA</li><li>'387'</li><li>'652'</li><li>'343'</li><li>'693'</li><li>'236'</li><li>NA</li><li>NA</li><li>NA</li><li>NA</li><li>NA</li><li>NA</li><li>'411'</li><li>NA</li><li>'138'</li><li>NA</li><li>'165'</li><li>'308'</li><li>'269'</li><li>'x'</li><li>NA</li><li>NA</li><li>NA</li><li>'64'</li><li>NA</li><li>NA</li><li>NA</li><li>NA</li><li>NA</li><li>'312'</li><li>NA</li><li>NA</li><li>NA</li><li>NA</li><li>NA</li><li>NA</li><li>NA</li><li>NA</li><li>NA</li><li>NA</li><li>NA</li><li>NA</li><li>NA</li><li>NA</li><li>NA</li><li>NA</li><li>NA</li><li>NA</li><li>NA</li><li>NA</li><li>NA</li><li>NA</li><li>'x'</li><li>NA</li><li>'472'</li><li>NA</li><li>NA</li><li>NA</li><li>NA</li><li>NA</li><li>NA</li><li>NA</li><li>NA</li><li>'176'</li><li>'4'</li><li>'497'</li><li>NA</li><li>NA</li><li>NA</li><li>'15'</li><li>'16'</li><li>NA</li><li>'70'</li><li>'136'</li><li>NA</li><li>'123'</li><li>NA</li><li>NA</li><li>'220'</li><li>'158'</li><li>NA</li><li>NA</li><li>NA</li><li>NA</li><li>NA</li><li>NA</li><li>'586'</li><li>NA</li><li>NA</li><li>'186'</li><li>NA</li><li>NA</li><li>NA</li><li>NA</li><li>NA</li><li>'636'</li><li>NA</li><li>'1020'</li><li>NA</li><li>NA</li><li>'49'</li><li>NA</li><li>NA</li><li>NA</li><li>NA</li><li>'76'</li><li>NA</li><li>'408'</li><li>'877'</li><li>NA</li><li>NA</li><li>'525'</li><li>'396'</li><li>NA</li><li>NA</li><li>NA</li><li>'164'</li><li>NA</li><li>NA</li><li>'129'</li><li>'629'</li><li>NA</li><li>NA</li><li>NA</li><li>NA</li><li>NA</li><li>NA</li><li>NA</li><li>NA</li><li>NA</li><li>'496'</li><li>NA</li><li>NA</li><li>NA</li><li>'454'</li><li>NA</li><li>'347'</li><li>'283'</li><li>NA</li><li>NA</li><li>'444'</li><li>NA</li><li>NA</li><li>NA</li><li>NA</li><li>NA</li><li>NA</li><li>NA</li><li>NA</li><li>NA</li><li>NA</li><li>NA</li><li>NA</li><li>NA</li><li>NA</li><li>NA</li><li>NA</li><li>NA</li><li>NA</li><li>NA</li></ol>\n"
      ],
      "text/latex": [
       "\\begin{enumerate*}\n",
       "\\item NA\n",
       "\\item NA\n",
       "\\item NA\n",
       "\\item NA\n",
       "\\item NA\n",
       "\\item NA\n",
       "\\item NA\n",
       "\\item NA\n",
       "\\item NA\n",
       "\\item NA\n",
       "\\item '113'\n",
       "\\item NA\n",
       "\\item '340'\n",
       "\\item NA\n",
       "\\item NA\n",
       "\\item '24'\n",
       "\\item NA\n",
       "\\item NA\n",
       "\\item NA\n",
       "\\item NA\n",
       "\\item NA\n",
       "\\item '176'\n",
       "\\item '4'\n",
       "\\item '191'\n",
       "\\item NA\n",
       "\\item NA\n",
       "\\item '33'\n",
       "\\item '305'\n",
       "\\item '61'\n",
       "\\item '117'\n",
       "\\item '51'\n",
       "\\item '857'\n",
       "\\item '106'\n",
       "\\item '98'\n",
       "\\item '440'\n",
       "\\item NA\n",
       "\\item '29'\n",
       "\\item '195'\n",
       "\\item '148'\n",
       "\\item '32'\n",
       "\\item NA\n",
       "\\item '693'\n",
       "\\item '201'\n",
       "\\item '120'\n",
       "\\item '303'\n",
       "\\item '84'\n",
       "\\item '273'\n",
       "\\item '46'\n",
       "\\item '112'\n",
       "\\item '123'\n",
       "\\item '78'\n",
       "\\item '311'\n",
       "\\item '95'\n",
       "\\item '11'\n",
       "\\item NA\n",
       "\\item '84'\n",
       "\\item NA\n",
       "\\item '5'\n",
       "\\item '71'\n",
       "\\item NA\n",
       "\\item NA\n",
       "\\item '159'\n",
       "\\item NA\n",
       "\\item '21'\n",
       "\\item '64'\n",
       "\\item '46'\n",
       "\\item '6'\n",
       "\\item '100'\n",
       "\\item NA\n",
       "\\item NA\n",
       "\\item '1154'\n",
       "\\item '9'\n",
       "\\item '5'\n",
       "\\item '411'\n",
       "\\item '94'\n",
       "\\item '14'\n",
       "\\item '42'\n",
       "\\item '41'\n",
       "\\item '19'\n",
       "\\item '15'\n",
       "\\item '17'\n",
       "\\item '26'\n",
       "\\item '24'\n",
       "\\item '27'\n",
       "\\item '9'\n",
       "\\item '93'\n",
       "\\item NA\n",
       "\\item '640'\n",
       "\\item '274'\n",
       "\\item '641'\n",
       "\\item '2'\n",
       "\\item '22'\n",
       "\\item 'x'\n",
       "\\item '426'\n",
       "\\item NA\n",
       "\\item NA\n",
       "\\item NA\n",
       "\\item NA\n",
       "\\item NA\n",
       "\\item NA\n",
       "\\item 'x'\n",
       "\\item '64'\n",
       "\\item 'x'\n",
       "\\item 'x'\n",
       "\\item '11'\n",
       "\\item NA\n",
       "\\item '227'\n",
       "\\item '158'\n",
       "\\item '48'\n",
       "\\item '20'\n",
       "\\item '259'\n",
       "\\item '381'\n",
       "\\item '333'\n",
       "\\item '383'\n",
       "\\item '626'\n",
       "\\item NA\n",
       "\\item NA\n",
       "\\item NA\n",
       "\\item NA\n",
       "\\item NA\n",
       "\\item NA\n",
       "\\item NA\n",
       "\\item NA\n",
       "\\item NA\n",
       "\\item NA\n",
       "\\item NA\n",
       "\\item NA\n",
       "\\item NA\n",
       "\\item '530'\n",
       "\\item NA\n",
       "\\item 'x'\n",
       "\\item NA\n",
       "\\item NA\n",
       "\\item NA\n",
       "\\item NA\n",
       "\\item NA\n",
       "\\item NA\n",
       "\\item NA\n",
       "\\item NA\n",
       "\\item '176'\n",
       "\\item '4'\n",
       "\\item '138'\n",
       "\\item NA\n",
       "\\item NA\n",
       "\\item NA\n",
       "\\item '50'\n",
       "\\item '549'\n",
       "\\item '797'\n",
       "\\item '41'\n",
       "\\item '298'\n",
       "\\item '118'\n",
       "\\item '151'\n",
       "\\item NA\n",
       "\\item NA\n",
       "\\item '80'\n",
       "\\item '73'\n",
       "\\item '645'\n",
       "\\item NA\n",
       "\\item NA\n",
       "\\item '1241'\n",
       "\\item '176'\n",
       "\\item NA\n",
       "\\item '153'\n",
       "\\item NA\n",
       "\\item NA\n",
       "\\item NA\n",
       "\\item NA\n",
       "\\item NA\n",
       "\\item NA\n",
       "\\item NA\n",
       "\\item NA\n",
       "\\item NA\n",
       "\\item NA\n",
       "\\item NA\n",
       "\\item NA\n",
       "\\item NA\n",
       "\\item NA\n",
       "\\item NA\n",
       "\\item NA\n",
       "\\item NA\n",
       "\\item NA\n",
       "\\item NA\n",
       "\\item NA\n",
       "\\item '42'\n",
       "\\item NA\n",
       "\\item '254'\n",
       "\\item '476'\n",
       "\\item '90'\n",
       "\\item '28'\n",
       "\\item '249'\n",
       "\\item '262'\n",
       "\\item '879'\n",
       "\\item '111'\n",
       "\\item '261'\n",
       "\\item '407'\n",
       "\\item '26'\n",
       "\\item '660'\n",
       "\\item '38'\n",
       "\\item '620'\n",
       "\\item '1'\n",
       "\\item ...\n",
       "\\item '1065'\n",
       "\\item '1075'\n",
       "\\item NA\n",
       "\\item NA\n",
       "\\item NA\n",
       "\\item NA\n",
       "\\item '957'\n",
       "\\item NA\n",
       "\\item '610'\n",
       "\\item NA\n",
       "\\item NA\n",
       "\\item NA\n",
       "\\item NA\n",
       "\\item NA\n",
       "\\item NA\n",
       "\\item NA\n",
       "\\item NA\n",
       "\\item '91'\n",
       "\\item NA\n",
       "\\item '75'\n",
       "\\item NA\n",
       "\\item '31'\n",
       "\\item '225'\n",
       "\\item NA\n",
       "\\item NA\n",
       "\\item NA\n",
       "\\item '1163'\n",
       "\\item '31'\n",
       "\\item NA\n",
       "\\item '435'\n",
       "\\item '680'\n",
       "\\item NA\n",
       "\\item '129'\n",
       "\\item '411'\n",
       "\\item 'x'\n",
       "\\item NA\n",
       "\\item NA\n",
       "\\item '84'\n",
       "\\item '717'\n",
       "\\item NA\n",
       "\\item NA\n",
       "\\item '387'\n",
       "\\item '652'\n",
       "\\item '343'\n",
       "\\item '693'\n",
       "\\item '236'\n",
       "\\item NA\n",
       "\\item NA\n",
       "\\item NA\n",
       "\\item NA\n",
       "\\item NA\n",
       "\\item NA\n",
       "\\item '411'\n",
       "\\item NA\n",
       "\\item '138'\n",
       "\\item NA\n",
       "\\item '165'\n",
       "\\item '308'\n",
       "\\item '269'\n",
       "\\item 'x'\n",
       "\\item NA\n",
       "\\item NA\n",
       "\\item NA\n",
       "\\item '64'\n",
       "\\item NA\n",
       "\\item NA\n",
       "\\item NA\n",
       "\\item NA\n",
       "\\item NA\n",
       "\\item '312'\n",
       "\\item NA\n",
       "\\item NA\n",
       "\\item NA\n",
       "\\item NA\n",
       "\\item NA\n",
       "\\item NA\n",
       "\\item NA\n",
       "\\item NA\n",
       "\\item NA\n",
       "\\item NA\n",
       "\\item NA\n",
       "\\item NA\n",
       "\\item NA\n",
       "\\item NA\n",
       "\\item NA\n",
       "\\item NA\n",
       "\\item NA\n",
       "\\item NA\n",
       "\\item NA\n",
       "\\item NA\n",
       "\\item NA\n",
       "\\item NA\n",
       "\\item 'x'\n",
       "\\item NA\n",
       "\\item '472'\n",
       "\\item NA\n",
       "\\item NA\n",
       "\\item NA\n",
       "\\item NA\n",
       "\\item NA\n",
       "\\item NA\n",
       "\\item NA\n",
       "\\item NA\n",
       "\\item '176'\n",
       "\\item '4'\n",
       "\\item '497'\n",
       "\\item NA\n",
       "\\item NA\n",
       "\\item NA\n",
       "\\item '15'\n",
       "\\item '16'\n",
       "\\item NA\n",
       "\\item '70'\n",
       "\\item '136'\n",
       "\\item NA\n",
       "\\item '123'\n",
       "\\item NA\n",
       "\\item NA\n",
       "\\item '220'\n",
       "\\item '158'\n",
       "\\item NA\n",
       "\\item NA\n",
       "\\item NA\n",
       "\\item NA\n",
       "\\item NA\n",
       "\\item NA\n",
       "\\item '586'\n",
       "\\item NA\n",
       "\\item NA\n",
       "\\item '186'\n",
       "\\item NA\n",
       "\\item NA\n",
       "\\item NA\n",
       "\\item NA\n",
       "\\item NA\n",
       "\\item '636'\n",
       "\\item NA\n",
       "\\item '1020'\n",
       "\\item NA\n",
       "\\item NA\n",
       "\\item '49'\n",
       "\\item NA\n",
       "\\item NA\n",
       "\\item NA\n",
       "\\item NA\n",
       "\\item '76'\n",
       "\\item NA\n",
       "\\item '408'\n",
       "\\item '877'\n",
       "\\item NA\n",
       "\\item NA\n",
       "\\item '525'\n",
       "\\item '396'\n",
       "\\item NA\n",
       "\\item NA\n",
       "\\item NA\n",
       "\\item '164'\n",
       "\\item NA\n",
       "\\item NA\n",
       "\\item '129'\n",
       "\\item '629'\n",
       "\\item NA\n",
       "\\item NA\n",
       "\\item NA\n",
       "\\item NA\n",
       "\\item NA\n",
       "\\item NA\n",
       "\\item NA\n",
       "\\item NA\n",
       "\\item NA\n",
       "\\item '496'\n",
       "\\item NA\n",
       "\\item NA\n",
       "\\item NA\n",
       "\\item '454'\n",
       "\\item NA\n",
       "\\item '347'\n",
       "\\item '283'\n",
       "\\item NA\n",
       "\\item NA\n",
       "\\item '444'\n",
       "\\item NA\n",
       "\\item NA\n",
       "\\item NA\n",
       "\\item NA\n",
       "\\item NA\n",
       "\\item NA\n",
       "\\item NA\n",
       "\\item NA\n",
       "\\item NA\n",
       "\\item NA\n",
       "\\item NA\n",
       "\\item NA\n",
       "\\item NA\n",
       "\\item NA\n",
       "\\item NA\n",
       "\\item NA\n",
       "\\item NA\n",
       "\\item NA\n",
       "\\item NA\n",
       "\\end{enumerate*}\n"
      ],
      "text/markdown": [
       "1. NA\n",
       "2. NA\n",
       "3. NA\n",
       "4. NA\n",
       "5. NA\n",
       "6. NA\n",
       "7. NA\n",
       "8. NA\n",
       "9. NA\n",
       "10. NA\n",
       "11. '113'\n",
       "12. NA\n",
       "13. '340'\n",
       "14. NA\n",
       "15. NA\n",
       "16. '24'\n",
       "17. NA\n",
       "18. NA\n",
       "19. NA\n",
       "20. NA\n",
       "21. NA\n",
       "22. '176'\n",
       "23. '4'\n",
       "24. '191'\n",
       "25. NA\n",
       "26. NA\n",
       "27. '33'\n",
       "28. '305'\n",
       "29. '61'\n",
       "30. '117'\n",
       "31. '51'\n",
       "32. '857'\n",
       "33. '106'\n",
       "34. '98'\n",
       "35. '440'\n",
       "36. NA\n",
       "37. '29'\n",
       "38. '195'\n",
       "39. '148'\n",
       "40. '32'\n",
       "41. NA\n",
       "42. '693'\n",
       "43. '201'\n",
       "44. '120'\n",
       "45. '303'\n",
       "46. '84'\n",
       "47. '273'\n",
       "48. '46'\n",
       "49. '112'\n",
       "50. '123'\n",
       "51. '78'\n",
       "52. '311'\n",
       "53. '95'\n",
       "54. '11'\n",
       "55. NA\n",
       "56. '84'\n",
       "57. NA\n",
       "58. '5'\n",
       "59. '71'\n",
       "60. NA\n",
       "61. NA\n",
       "62. '159'\n",
       "63. NA\n",
       "64. '21'\n",
       "65. '64'\n",
       "66. '46'\n",
       "67. '6'\n",
       "68. '100'\n",
       "69. NA\n",
       "70. NA\n",
       "71. '1154'\n",
       "72. '9'\n",
       "73. '5'\n",
       "74. '411'\n",
       "75. '94'\n",
       "76. '14'\n",
       "77. '42'\n",
       "78. '41'\n",
       "79. '19'\n",
       "80. '15'\n",
       "81. '17'\n",
       "82. '26'\n",
       "83. '24'\n",
       "84. '27'\n",
       "85. '9'\n",
       "86. '93'\n",
       "87. NA\n",
       "88. '640'\n",
       "89. '274'\n",
       "90. '641'\n",
       "91. '2'\n",
       "92. '22'\n",
       "93. 'x'\n",
       "94. '426'\n",
       "95. NA\n",
       "96. NA\n",
       "97. NA\n",
       "98. NA\n",
       "99. NA\n",
       "100. NA\n",
       "101. 'x'\n",
       "102. '64'\n",
       "103. 'x'\n",
       "104. 'x'\n",
       "105. '11'\n",
       "106. NA\n",
       "107. '227'\n",
       "108. '158'\n",
       "109. '48'\n",
       "110. '20'\n",
       "111. '259'\n",
       "112. '381'\n",
       "113. '333'\n",
       "114. '383'\n",
       "115. '626'\n",
       "116. NA\n",
       "117. NA\n",
       "118. NA\n",
       "119. NA\n",
       "120. NA\n",
       "121. NA\n",
       "122. NA\n",
       "123. NA\n",
       "124. NA\n",
       "125. NA\n",
       "126. NA\n",
       "127. NA\n",
       "128. NA\n",
       "129. '530'\n",
       "130. NA\n",
       "131. 'x'\n",
       "132. NA\n",
       "133. NA\n",
       "134. NA\n",
       "135. NA\n",
       "136. NA\n",
       "137. NA\n",
       "138. NA\n",
       "139. NA\n",
       "140. '176'\n",
       "141. '4'\n",
       "142. '138'\n",
       "143. NA\n",
       "144. NA\n",
       "145. NA\n",
       "146. '50'\n",
       "147. '549'\n",
       "148. '797'\n",
       "149. '41'\n",
       "150. '298'\n",
       "151. '118'\n",
       "152. '151'\n",
       "153. NA\n",
       "154. NA\n",
       "155. '80'\n",
       "156. '73'\n",
       "157. '645'\n",
       "158. NA\n",
       "159. NA\n",
       "160. '1241'\n",
       "161. '176'\n",
       "162. NA\n",
       "163. '153'\n",
       "164. NA\n",
       "165. NA\n",
       "166. NA\n",
       "167. NA\n",
       "168. NA\n",
       "169. NA\n",
       "170. NA\n",
       "171. NA\n",
       "172. NA\n",
       "173. NA\n",
       "174. NA\n",
       "175. NA\n",
       "176. NA\n",
       "177. NA\n",
       "178. NA\n",
       "179. NA\n",
       "180. NA\n",
       "181. NA\n",
       "182. NA\n",
       "183. NA\n",
       "184. '42'\n",
       "185. NA\n",
       "186. '254'\n",
       "187. '476'\n",
       "188. '90'\n",
       "189. '28'\n",
       "190. '249'\n",
       "191. '262'\n",
       "192. '879'\n",
       "193. '111'\n",
       "194. '261'\n",
       "195. '407'\n",
       "196. '26'\n",
       "197. '660'\n",
       "198. '38'\n",
       "199. '620'\n",
       "200. '1'\n",
       "201. ...\n",
       "202. '1065'\n",
       "203. '1075'\n",
       "204. NA\n",
       "205. NA\n",
       "206. NA\n",
       "207. NA\n",
       "208. '957'\n",
       "209. NA\n",
       "210. '610'\n",
       "211. NA\n",
       "212. NA\n",
       "213. NA\n",
       "214. NA\n",
       "215. NA\n",
       "216. NA\n",
       "217. NA\n",
       "218. NA\n",
       "219. '91'\n",
       "220. NA\n",
       "221. '75'\n",
       "222. NA\n",
       "223. '31'\n",
       "224. '225'\n",
       "225. NA\n",
       "226. NA\n",
       "227. NA\n",
       "228. '1163'\n",
       "229. '31'\n",
       "230. NA\n",
       "231. '435'\n",
       "232. '680'\n",
       "233. NA\n",
       "234. '129'\n",
       "235. '411'\n",
       "236. 'x'\n",
       "237. NA\n",
       "238. NA\n",
       "239. '84'\n",
       "240. '717'\n",
       "241. NA\n",
       "242. NA\n",
       "243. '387'\n",
       "244. '652'\n",
       "245. '343'\n",
       "246. '693'\n",
       "247. '236'\n",
       "248. NA\n",
       "249. NA\n",
       "250. NA\n",
       "251. NA\n",
       "252. NA\n",
       "253. NA\n",
       "254. '411'\n",
       "255. NA\n",
       "256. '138'\n",
       "257. NA\n",
       "258. '165'\n",
       "259. '308'\n",
       "260. '269'\n",
       "261. 'x'\n",
       "262. NA\n",
       "263. NA\n",
       "264. NA\n",
       "265. '64'\n",
       "266. NA\n",
       "267. NA\n",
       "268. NA\n",
       "269. NA\n",
       "270. NA\n",
       "271. '312'\n",
       "272. NA\n",
       "273. NA\n",
       "274. NA\n",
       "275. NA\n",
       "276. NA\n",
       "277. NA\n",
       "278. NA\n",
       "279. NA\n",
       "280. NA\n",
       "281. NA\n",
       "282. NA\n",
       "283. NA\n",
       "284. NA\n",
       "285. NA\n",
       "286. NA\n",
       "287. NA\n",
       "288. NA\n",
       "289. NA\n",
       "290. NA\n",
       "291. NA\n",
       "292. NA\n",
       "293. NA\n",
       "294. 'x'\n",
       "295. NA\n",
       "296. '472'\n",
       "297. NA\n",
       "298. NA\n",
       "299. NA\n",
       "300. NA\n",
       "301. NA\n",
       "302. NA\n",
       "303. NA\n",
       "304. NA\n",
       "305. '176'\n",
       "306. '4'\n",
       "307. '497'\n",
       "308. NA\n",
       "309. NA\n",
       "310. NA\n",
       "311. '15'\n",
       "312. '16'\n",
       "313. NA\n",
       "314. '70'\n",
       "315. '136'\n",
       "316. NA\n",
       "317. '123'\n",
       "318. NA\n",
       "319. NA\n",
       "320. '220'\n",
       "321. '158'\n",
       "322. NA\n",
       "323. NA\n",
       "324. NA\n",
       "325. NA\n",
       "326. NA\n",
       "327. NA\n",
       "328. '586'\n",
       "329. NA\n",
       "330. NA\n",
       "331. '186'\n",
       "332. NA\n",
       "333. NA\n",
       "334. NA\n",
       "335. NA\n",
       "336. NA\n",
       "337. '636'\n",
       "338. NA\n",
       "339. '1020'\n",
       "340. NA\n",
       "341. NA\n",
       "342. '49'\n",
       "343. NA\n",
       "344. NA\n",
       "345. NA\n",
       "346. NA\n",
       "347. '76'\n",
       "348. NA\n",
       "349. '408'\n",
       "350. '877'\n",
       "351. NA\n",
       "352. NA\n",
       "353. '525'\n",
       "354. '396'\n",
       "355. NA\n",
       "356. NA\n",
       "357. NA\n",
       "358. '164'\n",
       "359. NA\n",
       "360. NA\n",
       "361. '129'\n",
       "362. '629'\n",
       "363. NA\n",
       "364. NA\n",
       "365. NA\n",
       "366. NA\n",
       "367. NA\n",
       "368. NA\n",
       "369. NA\n",
       "370. NA\n",
       "371. NA\n",
       "372. '496'\n",
       "373. NA\n",
       "374. NA\n",
       "375. NA\n",
       "376. '454'\n",
       "377. NA\n",
       "378. '347'\n",
       "379. '283'\n",
       "380. NA\n",
       "381. NA\n",
       "382. '444'\n",
       "383. NA\n",
       "384. NA\n",
       "385. NA\n",
       "386. NA\n",
       "387. NA\n",
       "388. NA\n",
       "389. NA\n",
       "390. NA\n",
       "391. NA\n",
       "392. NA\n",
       "393. NA\n",
       "394. NA\n",
       "395. NA\n",
       "396. NA\n",
       "397. NA\n",
       "398. NA\n",
       "399. NA\n",
       "400. NA\n",
       "401. NA\n",
       "\n",
       "\n"
      ],
      "text/plain": [
       "  [1] NA     NA     NA     NA     NA     NA     NA     NA     NA     NA    \n",
       " [11] \"113\"  NA     \"340\"  NA     NA     \"24\"   NA     NA     NA     NA    \n",
       " [21] NA     \"176\"  \"4\"    \"191\"  NA     NA     \"33\"   \"305\"  \"61\"   \"117\" \n",
       " [31] \"51\"   \"857\"  \"106\"  \"98\"   \"440\"  NA     \"29\"   \"195\"  \"148\"  \"32\"  \n",
       " [41] NA     \"693\"  \"201\"  \"120\"  \"303\"  \"84\"   \"273\"  \"46\"   \"112\"  \"123\" \n",
       " [51] \"78\"   \"311\"  \"95\"   \"11\"   NA     \"84\"   NA     \"5\"    \"71\"   NA    \n",
       " [61] NA     \"159\"  NA     \"21\"   \"64\"   \"46\"   \"6\"    \"100\"  NA     NA    \n",
       " [71] \"1154\" \"9\"    \"5\"    \"411\"  \"94\"   \"14\"   \"42\"   \"41\"   \"19\"   \"15\"  \n",
       " [81] \"17\"   \"26\"   \"24\"   \"27\"   \"9\"    \"93\"   NA     \"640\"  \"274\"  \"641\" \n",
       " [91] \"2\"    \"22\"   \"x\"    \"426\"  NA     NA     NA     NA     NA     NA    \n",
       "[101] \"x\"    \"64\"   \"x\"    \"x\"    \"11\"   NA     \"227\"  \"158\"  \"48\"   \"20\"  \n",
       "[111] \"259\"  \"381\"  \"333\"  \"383\"  \"626\"  NA     NA     NA     NA     NA    \n",
       "[121] NA     NA     NA     NA     NA     NA     NA     NA     \"530\"  NA    \n",
       "[131] \"x\"    NA     NA     NA     NA     NA     NA     NA     NA     \"176\" \n",
       "[141] \"4\"    \"138\"  NA     NA     NA     \"50\"   \"549\"  \"797\"  \"41\"   \"298\" \n",
       "[151] \"118\"  \"151\"  NA     NA     \"80\"   \"73\"   \"645\"  NA     NA     \"1241\"\n",
       "[161] \"176\"  NA     \"153\"  NA     NA     NA     NA     NA     NA     NA    \n",
       "[171] NA     NA     NA     NA     NA     NA     NA     NA     NA     NA    \n",
       "[181] NA     NA     NA     \"42\"   NA     \"254\"  \"476\"  \"90\"   \"28\"   \"249\" \n",
       "[191] \"262\"  \"879\"  \"111\"  \"261\"  \"407\"  \"26\"   \"660\"  \"38\"   \"620\"  \"1\"   \n",
       "[201] \"18\"   \"27\"   \"54\"   \"66\"   \"52\"   \"690\"  \"666\"  \"170\"  NA     \"11\"  \n",
       "[211] NA     \"265\"  NA     NA     NA     \"346\"  \"74\"   \"235\"  \"80\"   \"118\" \n",
       "[221] NA     \"72\"   \"203\"  NA     \"68\"   NA     \"1070\" \"319\"  \"230\"  NA    \n",
       "[231] NA     NA     NA     NA     NA     NA     NA     NA     NA     NA    \n",
       "[241] NA     NA     NA     NA     NA     NA     \"54\"   NA     \"772\"  NA    \n",
       "[251] NA     NA     NA     NA     NA     NA     NA     \"176\"  \"4\"    \"595\" \n",
       "[261] NA     NA     NA     \"850\"  \"98\"   NA     \"215\"  \"399\"  NA     \"134\" \n",
       "[271] NA     NA     \"310\"  \"1360\" \"589\"  NA     NA     \"1259\" NA     NA    \n",
       "[281] NA     NA     NA     NA     NA     NA     NA     NA     NA     NA    \n",
       "[291] NA     NA     NA     NA     NA     NA     NA     NA     \"144\"  \"99\"  \n",
       "[301] NA     \"120\"  \"25\"   \"160\"  \"66\"   \"415\"  \"31\"   \"29\"   \"63\"   \"37\"  \n",
       "[311] \"x\"    NA     \"799\"  \"28\"   \"4\"    \"30\"   \"654\"  \"651\"  \"71\"   \"27\"  \n",
       "[321] \"106\"  \"113\"  NA     \"731\"  \"484\"  NA     NA     \"744\"  \"x\"    \"286\" \n",
       "[331] \"265\"  \"265\"  NA     \"169\"  \"1027\" \"188\"  \"126\"  \"103\"  NA     \"200\" \n",
       "[341] NA     \"441\"  \"300\"  NA     NA     NA     NA     NA     NA     NA    \n",
       "[351] NA     NA     NA     NA     NA     NA     NA     NA     NA     NA    \n",
       "[361] NA     NA     NA     NA     \"218\"  NA     \"577\"  NA     NA     NA    \n",
       "[371] NA     NA     NA     NA     NA     \"176\"  \"4\"    \"1176\" NA     NA    \n",
       "[381] NA     \"447\"  NA     NA     \"293\"  \"314\"  NA     \"219\"  NA     NA    \n",
       "[391] \"1065\" \"1075\" NA     NA     NA     NA     \"957\"  NA     \"610\"  NA    \n",
       "[401] NA     NA     NA     NA     NA     NA     NA     \"91\"   NA     \"75\"  \n",
       "[411] NA     \"31\"   \"225\"  NA     NA     NA     \"1163\" \"31\"   NA     \"435\" \n",
       "[421] \"680\"  NA     \"129\"  \"411\"  \"x\"    NA     NA     \"84\"   \"717\"  NA    \n",
       "[431] NA     \"387\"  \"652\"  \"343\"  \"693\"  \"236\"  NA     NA     NA     NA    \n",
       "[441] NA     NA     \"411\"  NA     \"138\"  NA     \"165\"  \"308\"  \"269\"  \"x\"   \n",
       "[451] NA     NA     NA     \"64\"   NA     NA     NA     NA     NA     \"312\" \n",
       "[461] NA     NA     NA     NA     NA     NA     NA     NA     NA     NA    \n",
       "[471] NA     NA     NA     NA     NA     NA     NA     NA     NA     NA    \n",
       "[481] NA     NA     \"x\"    NA     \"472\"  NA     NA     NA     NA     NA    \n",
       "[491] NA     NA     NA     \"176\"  \"4\"    \"497\"  NA     NA     NA     \"15\"  \n",
       "[501] \"16\"   NA     \"70\"   \"136\"  NA     \"123\"  NA     NA     \"220\"  \"158\" \n",
       "[511] NA     NA     NA     NA     NA     NA     \"586\"  NA     NA     \"186\" \n",
       "[521] NA     NA     NA     NA     NA     \"636\"  NA     \"1020\" NA     NA    \n",
       "[531] \"49\"   NA     NA     NA     NA     \"76\"   NA     \"408\"  \"877\"  NA    \n",
       "[541] NA     \"525\"  \"396\"  NA     NA     NA     \"164\"  NA     NA     \"129\" \n",
       "[551] \"629\"  NA     NA     NA     NA     NA     NA     NA     NA     NA    \n",
       "[561] \"496\"  NA     NA     NA     \"454\"  NA     \"347\"  \"283\"  NA     NA    \n",
       "[571] \"444\"  NA     NA     NA     NA     NA     NA     NA     NA     NA    \n",
       "[581] NA     NA     NA     NA     NA     NA     NA     NA     NA     NA    "
      ]
     },
     "metadata": {},
     "output_type": "display_data"
    }
   ],
   "source": [
    "myNCRdf$`PD-1`"
   ]
  },
  {
   "cell_type": "code",
   "execution_count": 51,
   "metadata": {
    "vscode": {
     "languageId": "r"
    }
   },
   "outputs": [],
   "source": [
    "myNCRdf$`PD-1` <- gsub(\"x\", -1, myNCRdf$`PD-1`)\n",
    "myNCRdf$LAG3 <- gsub(\"x\", -1, myNCRdf$LAG3)\n",
    "myNCRdf$TIM3 <- gsub(\"x\", -1, myNCRdf$TIM3)"
   ]
  },
  {
   "cell_type": "code",
   "execution_count": 52,
   "metadata": {
    "vscode": {
     "languageId": "r"
    }
   },
   "outputs": [],
   "source": [
    "myNCRdf$`PD-1` <- as.numeric(myNCRdf$`PD-1`)\n",
    "myNCRdf$LAG3 <- as.numeric(myNCRdf$LAG3)\n",
    "myNCRdf$TIM3 <- as.numeric(myNCRdf$TIM3)"
   ]
  },
  {
   "cell_type": "code",
   "execution_count": 53,
   "metadata": {
    "vscode": {
     "languageId": "r"
    }
   },
   "outputs": [
    {
     "data": {
      "text/html": [
       "<table class=\"dataframe\">\n",
       "<caption>A data.frame: 6 x 19</caption>\n",
       "<thead>\n",
       "\t<tr><th></th><th scope=col>Patient</th><th scope=col>cycle</th><th scope=col>Age</th><th scope=col>Disease_type</th><th scope=col>TE_fold</th><th scope=col>Pass</th><th scope=col>CD3</th><th scope=col>PD-1</th><th scope=col>PDL1</th><th scope=col>LAG3</th><th scope=col>TIM3</th><th scope=col>CTLA4</th><th scope=col>PD1%</th><th scope=col>PDL1%</th><th scope=col>LAG3%</th><th scope=col>TIM3%</th><th scope=col>CTLA4%</th><th scope=col>Any NCR</th><th scope=col>PD1 + LAG3 + TIM3</th></tr>\n",
       "\t<tr><th></th><th scope=col>&lt;int&gt;</th><th scope=col>&lt;chr&gt;</th><th scope=col>&lt;dbl&gt;</th><th scope=col>&lt;chr&gt;</th><th scope=col>&lt;chr&gt;</th><th scope=col>&lt;int&gt;</th><th scope=col>&lt;int&gt;</th><th scope=col>&lt;dbl&gt;</th><th scope=col>&lt;int&gt;</th><th scope=col>&lt;dbl&gt;</th><th scope=col>&lt;dbl&gt;</th><th scope=col>&lt;int&gt;</th><th scope=col>&lt;dbl&gt;</th><th scope=col>&lt;dbl&gt;</th><th scope=col>&lt;dbl&gt;</th><th scope=col>&lt;dbl&gt;</th><th scope=col>&lt;dbl&gt;</th><th scope=col>&lt;dbl&gt;</th><th scope=col>&lt;dbl&gt;</th></tr>\n",
       "</thead>\n",
       "<tbody>\n",
       "\t<tr><th scope=row>221</th><td>320</td><td>01</td><td> 6</td><td>AML   </td><td>NA</td><td>NA</td><td>0</td><td>NA</td><td>NA</td><td>NA</td><td>NA</td><td>NA</td><td>NA</td><td>NA</td><td>NA</td><td>NA</td><td>NA</td><td>NA</td><td>NA</td></tr>\n",
       "\t<tr><th scope=row>222</th><td>321</td><td>01</td><td>16</td><td>HD    </td><td>NA</td><td>NA</td><td>0</td><td>NA</td><td>NA</td><td>NA</td><td>NA</td><td>NA</td><td>NA</td><td>NA</td><td>NA</td><td>NA</td><td>NA</td><td>NA</td><td>NA</td></tr>\n",
       "\t<tr><th scope=row>223</th><td>322</td><td>01</td><td>18</td><td>DLBCL </td><td>NA</td><td>NA</td><td>0</td><td>NA</td><td>NA</td><td>NA</td><td>NA</td><td>NA</td><td>NA</td><td>NA</td><td>NA</td><td>NA</td><td>NA</td><td>NA</td><td>NA</td></tr>\n",
       "\t<tr><th scope=row>224</th><td>323</td><td>01</td><td> 1</td><td>HR ALL</td><td>NA</td><td>NA</td><td>0</td><td>NA</td><td>NA</td><td>NA</td><td>NA</td><td>NA</td><td>NA</td><td>NA</td><td>NA</td><td>NA</td><td>NA</td><td>NA</td><td>NA</td></tr>\n",
       "\t<tr><th scope=row>225</th><td>324</td><td>01</td><td>12</td><td>T-ALL </td><td>NA</td><td>NA</td><td>0</td><td>NA</td><td>NA</td><td>NA</td><td>NA</td><td>NA</td><td>NA</td><td>NA</td><td>NA</td><td>NA</td><td>NA</td><td>NA</td><td>NA</td></tr>\n",
       "\t<tr><th scope=row>226</th><td>325</td><td>01</td><td> 2</td><td>ERMS  </td><td>NA</td><td>NA</td><td>0</td><td>NA</td><td>NA</td><td>NA</td><td>NA</td><td>NA</td><td>NA</td><td>NA</td><td>NA</td><td>NA</td><td>NA</td><td>NA</td><td>NA</td></tr>\n",
       "</tbody>\n",
       "</table>\n"
      ],
      "text/latex": [
       "A data.frame: 6 x 19\n",
       "\\begin{tabular}{r|lllllllllllllllllll}\n",
       "  & Patient & cycle & Age & Disease\\_type & TE\\_fold & Pass & CD3 & PD-1 & PDL1 & LAG3 & TIM3 & CTLA4 & PD1\\% & PDL1\\% & LAG3\\% & TIM3\\% & CTLA4\\% & Any NCR & PD1 + LAG3 + TIM3\\\\\n",
       "  & <int> & <chr> & <dbl> & <chr> & <chr> & <int> & <int> & <dbl> & <int> & <dbl> & <dbl> & <int> & <dbl> & <dbl> & <dbl> & <dbl> & <dbl> & <dbl> & <dbl>\\\\\n",
       "\\hline\n",
       "\t221 & 320 & 01 &  6 & AML    & NA & NA & 0 & NA & NA & NA & NA & NA & NA & NA & NA & NA & NA & NA & NA\\\\\n",
       "\t222 & 321 & 01 & 16 & HD     & NA & NA & 0 & NA & NA & NA & NA & NA & NA & NA & NA & NA & NA & NA & NA\\\\\n",
       "\t223 & 322 & 01 & 18 & DLBCL  & NA & NA & 0 & NA & NA & NA & NA & NA & NA & NA & NA & NA & NA & NA & NA\\\\\n",
       "\t224 & 323 & 01 &  1 & HR ALL & NA & NA & 0 & NA & NA & NA & NA & NA & NA & NA & NA & NA & NA & NA & NA\\\\\n",
       "\t225 & 324 & 01 & 12 & T-ALL  & NA & NA & 0 & NA & NA & NA & NA & NA & NA & NA & NA & NA & NA & NA & NA\\\\\n",
       "\t226 & 325 & 01 &  2 & ERMS   & NA & NA & 0 & NA & NA & NA & NA & NA & NA & NA & NA & NA & NA & NA & NA\\\\\n",
       "\\end{tabular}\n"
      ],
      "text/markdown": [
       "\n",
       "A data.frame: 6 x 19\n",
       "\n",
       "| <!--/--> | Patient &lt;int&gt; | cycle &lt;chr&gt; | Age &lt;dbl&gt; | Disease_type &lt;chr&gt; | TE_fold &lt;chr&gt; | Pass &lt;int&gt; | CD3 &lt;int&gt; | PD-1 &lt;dbl&gt; | PDL1 &lt;int&gt; | LAG3 &lt;dbl&gt; | TIM3 &lt;dbl&gt; | CTLA4 &lt;int&gt; | PD1% &lt;dbl&gt; | PDL1% &lt;dbl&gt; | LAG3% &lt;dbl&gt; | TIM3% &lt;dbl&gt; | CTLA4% &lt;dbl&gt; | Any NCR &lt;dbl&gt; | PD1 + LAG3 + TIM3 &lt;dbl&gt; |\n",
       "|---|---|---|---|---|---|---|---|---|---|---|---|---|---|---|---|---|---|---|---|\n",
       "| 221 | 320 | 01 |  6 | AML    | NA | NA | 0 | NA | NA | NA | NA | NA | NA | NA | NA | NA | NA | NA | NA |\n",
       "| 222 | 321 | 01 | 16 | HD     | NA | NA | 0 | NA | NA | NA | NA | NA | NA | NA | NA | NA | NA | NA | NA |\n",
       "| 223 | 322 | 01 | 18 | DLBCL  | NA | NA | 0 | NA | NA | NA | NA | NA | NA | NA | NA | NA | NA | NA | NA |\n",
       "| 224 | 323 | 01 |  1 | HR ALL | NA | NA | 0 | NA | NA | NA | NA | NA | NA | NA | NA | NA | NA | NA | NA |\n",
       "| 225 | 324 | 01 | 12 | T-ALL  | NA | NA | 0 | NA | NA | NA | NA | NA | NA | NA | NA | NA | NA | NA | NA |\n",
       "| 226 | 325 | 01 |  2 | ERMS   | NA | NA | 0 | NA | NA | NA | NA | NA | NA | NA | NA | NA | NA | NA | NA |\n",
       "\n"
      ],
      "text/plain": [
       "    Patient cycle Age Disease_type TE_fold Pass CD3 PD-1 PDL1 LAG3 TIM3 CTLA4\n",
       "221 320     01     6  AML          NA      NA   0   NA   NA   NA   NA   NA   \n",
       "222 321     01    16  HD           NA      NA   0   NA   NA   NA   NA   NA   \n",
       "223 322     01    18  DLBCL        NA      NA   0   NA   NA   NA   NA   NA   \n",
       "224 323     01     1  HR ALL       NA      NA   0   NA   NA   NA   NA   NA   \n",
       "225 324     01    12  T-ALL        NA      NA   0   NA   NA   NA   NA   NA   \n",
       "226 325     01     2  ERMS         NA      NA   0   NA   NA   NA   NA   NA   \n",
       "    PD1% PDL1% LAG3% TIM3% CTLA4% Any NCR PD1 + LAG3 + TIM3\n",
       "221 NA   NA    NA    NA    NA     NA      NA               \n",
       "222 NA   NA    NA    NA    NA     NA      NA               \n",
       "223 NA   NA    NA    NA    NA     NA      NA               \n",
       "224 NA   NA    NA    NA    NA     NA      NA               \n",
       "225 NA   NA    NA    NA    NA     NA      NA               \n",
       "226 NA   NA    NA    NA    NA     NA      NA               "
      ]
     },
     "metadata": {},
     "output_type": "display_data"
    }
   ],
   "source": [
    "head(myNCRdf)"
   ]
  },
  {
   "cell_type": "code",
   "execution_count": 54,
   "metadata": {
    "vscode": {
     "languageId": "r"
    }
   },
   "outputs": [
    {
     "data": {
      "text/html": [
       "<style>\n",
       ".list-inline {list-style: none; margin:0; padding: 0}\n",
       ".list-inline>li {display: inline-block}\n",
       ".list-inline>li:not(:last-child)::after {content: \"\\00b7\"; padding: 0 .5ex}\n",
       "</style>\n",
       "<ol class=list-inline><li>590</li><li>19</li></ol>\n"
      ],
      "text/latex": [
       "\\begin{enumerate*}\n",
       "\\item 590\n",
       "\\item 19\n",
       "\\end{enumerate*}\n"
      ],
      "text/markdown": [
       "1. 590\n",
       "2. 19\n",
       "\n",
       "\n"
      ],
      "text/plain": [
       "[1] 590  19"
      ]
     },
     "metadata": {},
     "output_type": "display_data"
    }
   ],
   "source": [
    "dim(myNCRdf)"
   ]
  },
  {
   "cell_type": "markdown",
   "metadata": {},
   "source": [
    "Generate percentage NCRs"
   ]
  },
  {
   "cell_type": "code",
   "execution_count": 57,
   "metadata": {
    "vscode": {
     "languageId": "r"
    }
   },
   "outputs": [
    {
     "data": {
      "text/html": [
       "<table class=\"dataframe\">\n",
       "<caption>A data.frame: 5 x 19</caption>\n",
       "<thead>\n",
       "\t<tr><th></th><th scope=col>Patient</th><th scope=col>cycle</th><th scope=col>Age</th><th scope=col>Disease_type</th><th scope=col>TE_fold</th><th scope=col>Pass</th><th scope=col>CD3</th><th scope=col>PD-1</th><th scope=col>PDL1</th><th scope=col>LAG3</th><th scope=col>TIM3</th><th scope=col>CTLA4</th><th scope=col>PD1%</th><th scope=col>PDL1%</th><th scope=col>LAG3%</th><th scope=col>TIM3%</th><th scope=col>CTLA4%</th><th scope=col>Any NCR</th><th scope=col>PD1 + LAG3 + TIM3</th></tr>\n",
       "\t<tr><th></th><th scope=col>&lt;int&gt;</th><th scope=col>&lt;chr&gt;</th><th scope=col>&lt;dbl&gt;</th><th scope=col>&lt;chr&gt;</th><th scope=col>&lt;chr&gt;</th><th scope=col>&lt;int&gt;</th><th scope=col>&lt;int&gt;</th><th scope=col>&lt;dbl&gt;</th><th scope=col>&lt;int&gt;</th><th scope=col>&lt;dbl&gt;</th><th scope=col>&lt;dbl&gt;</th><th scope=col>&lt;int&gt;</th><th scope=col>&lt;dbl&gt;</th><th scope=col>&lt;dbl&gt;</th><th scope=col>&lt;dbl&gt;</th><th scope=col>&lt;dbl&gt;</th><th scope=col>&lt;dbl&gt;</th><th scope=col>&lt;dbl&gt;</th><th scope=col>&lt;dbl&gt;</th></tr>\n",
       "</thead>\n",
       "<tbody>\n",
       "\t<tr><th scope=row>308</th><td>407</td><td>01</td><td>12</td><td>DLMCL</td><td>NA</td><td>NA</td><td>2219</td><td>640</td><td>NA</td><td>325</td><td>640</td><td>NA</td><td>28.84182</td><td>NA</td><td>14.646237</td><td>28.84182</td><td>NA</td><td>NA</td><td>NA</td></tr>\n",
       "\t<tr><th scope=row>3081</th><td>407</td><td>02</td><td>12</td><td>DLMCL</td><td>NA</td><td>NA</td><td>2373</td><td>690</td><td>NA</td><td>116</td><td>690</td><td>NA</td><td>29.07712</td><td>NA</td><td> 4.888327</td><td>29.07712</td><td>NA</td><td>NA</td><td>NA</td></tr>\n",
       "\t<tr><th scope=row>3082</th><td>407</td><td>03</td><td>12</td><td>DLMCL</td><td>NA</td><td>NA</td><td>   0</td><td>731</td><td>NA</td><td> 29</td><td>731</td><td>NA</td><td>     Inf</td><td>NA</td><td>      Inf</td><td>     Inf</td><td>NA</td><td>NA</td><td>NA</td></tr>\n",
       "\t<tr><th scope=row>3083</th><td>407</td><td>04</td><td>12</td><td>DLMCL</td><td>NA</td><td>NA</td><td>   0</td><td> NA</td><td>NA</td><td> NA</td><td> NA</td><td>NA</td><td>      NA</td><td>NA</td><td>       NA</td><td>      NA</td><td>NA</td><td>NA</td><td>NA</td></tr>\n",
       "\t<tr><th scope=row>3084</th><td>407</td><td>05</td><td>12</td><td>DLMCL</td><td>NA</td><td>NA</td><td>   0</td><td> NA</td><td>NA</td><td> NA</td><td> NA</td><td>NA</td><td>      NA</td><td>NA</td><td>       NA</td><td>      NA</td><td>NA</td><td>NA</td><td>NA</td></tr>\n",
       "</tbody>\n",
       "</table>\n"
      ],
      "text/latex": [
       "A data.frame: 5 x 19\n",
       "\\begin{tabular}{r|lllllllllllllllllll}\n",
       "  & Patient & cycle & Age & Disease\\_type & TE\\_fold & Pass & CD3 & PD-1 & PDL1 & LAG3 & TIM3 & CTLA4 & PD1\\% & PDL1\\% & LAG3\\% & TIM3\\% & CTLA4\\% & Any NCR & PD1 + LAG3 + TIM3\\\\\n",
       "  & <int> & <chr> & <dbl> & <chr> & <chr> & <int> & <int> & <dbl> & <int> & <dbl> & <dbl> & <int> & <dbl> & <dbl> & <dbl> & <dbl> & <dbl> & <dbl> & <dbl>\\\\\n",
       "\\hline\n",
       "\t308 & 407 & 01 & 12 & DLMCL & NA & NA & 2219 & 640 & NA & 325 & 640 & NA & 28.84182 & NA & 14.646237 & 28.84182 & NA & NA & NA\\\\\n",
       "\t3081 & 407 & 02 & 12 & DLMCL & NA & NA & 2373 & 690 & NA & 116 & 690 & NA & 29.07712 & NA &  4.888327 & 29.07712 & NA & NA & NA\\\\\n",
       "\t3082 & 407 & 03 & 12 & DLMCL & NA & NA &    0 & 731 & NA &  29 & 731 & NA &      Inf & NA &       Inf &      Inf & NA & NA & NA\\\\\n",
       "\t3083 & 407 & 04 & 12 & DLMCL & NA & NA &    0 &  NA & NA &  NA &  NA & NA &       NA & NA &        NA &       NA & NA & NA & NA\\\\\n",
       "\t3084 & 407 & 05 & 12 & DLMCL & NA & NA &    0 &  NA & NA &  NA &  NA & NA &       NA & NA &        NA &       NA & NA & NA & NA\\\\\n",
       "\\end{tabular}\n"
      ],
      "text/markdown": [
       "\n",
       "A data.frame: 5 x 19\n",
       "\n",
       "| <!--/--> | Patient &lt;int&gt; | cycle &lt;chr&gt; | Age &lt;dbl&gt; | Disease_type &lt;chr&gt; | TE_fold &lt;chr&gt; | Pass &lt;int&gt; | CD3 &lt;int&gt; | PD-1 &lt;dbl&gt; | PDL1 &lt;int&gt; | LAG3 &lt;dbl&gt; | TIM3 &lt;dbl&gt; | CTLA4 &lt;int&gt; | PD1% &lt;dbl&gt; | PDL1% &lt;dbl&gt; | LAG3% &lt;dbl&gt; | TIM3% &lt;dbl&gt; | CTLA4% &lt;dbl&gt; | Any NCR &lt;dbl&gt; | PD1 + LAG3 + TIM3 &lt;dbl&gt; |\n",
       "|---|---|---|---|---|---|---|---|---|---|---|---|---|---|---|---|---|---|---|---|\n",
       "| 308 | 407 | 01 | 12 | DLMCL | NA | NA | 2219 | 640 | NA | 325 | 640 | NA | 28.84182 | NA | 14.646237 | 28.84182 | NA | NA | NA |\n",
       "| 3081 | 407 | 02 | 12 | DLMCL | NA | NA | 2373 | 690 | NA | 116 | 690 | NA | 29.07712 | NA |  4.888327 | 29.07712 | NA | NA | NA |\n",
       "| 3082 | 407 | 03 | 12 | DLMCL | NA | NA |    0 | 731 | NA |  29 | 731 | NA |      Inf | NA |       Inf |      Inf | NA | NA | NA |\n",
       "| 3083 | 407 | 04 | 12 | DLMCL | NA | NA |    0 |  NA | NA |  NA |  NA | NA |       NA | NA |        NA |       NA | NA | NA | NA |\n",
       "| 3084 | 407 | 05 | 12 | DLMCL | NA | NA |    0 |  NA | NA |  NA |  NA | NA |       NA | NA |        NA |       NA | NA | NA | NA |\n",
       "\n"
      ],
      "text/plain": [
       "     Patient cycle Age Disease_type TE_fold Pass CD3  PD-1 PDL1 LAG3 TIM3 CTLA4\n",
       "308  407     01    12  DLMCL        NA      NA   2219 640  NA   325  640  NA   \n",
       "3081 407     02    12  DLMCL        NA      NA   2373 690  NA   116  690  NA   \n",
       "3082 407     03    12  DLMCL        NA      NA      0 731  NA    29  731  NA   \n",
       "3083 407     04    12  DLMCL        NA      NA      0  NA  NA    NA   NA  NA   \n",
       "3084 407     05    12  DLMCL        NA      NA      0  NA  NA    NA   NA  NA   \n",
       "     PD1%     PDL1% LAG3%     TIM3%    CTLA4% Any NCR PD1 + LAG3 + TIM3\n",
       "308  28.84182 NA    14.646237 28.84182 NA     NA      NA               \n",
       "3081 29.07712 NA     4.888327 29.07712 NA     NA      NA               \n",
       "3082      Inf NA          Inf      Inf NA     NA      NA               \n",
       "3083       NA NA           NA       NA NA     NA      NA               \n",
       "3084       NA NA           NA       NA NA     NA      NA               "
      ]
     },
     "metadata": {},
     "output_type": "display_data"
    }
   ],
   "source": [
    "head(myNCRdf[ myNCRdf$Patient == \"407\",])"
   ]
  },
  {
   "cell_type": "code",
   "execution_count": 56,
   "metadata": {
    "vscode": {
     "languageId": "r"
    }
   },
   "outputs": [],
   "source": [
    "myNCRdf$`PD1%` <- (myNCRdf$`PD-1`/myNCRdf$CD3)* 100\n",
    "myNCRdf$`PDL1%` <- (myNCRdf$PDL1/myNCRdf$CD3)* 100\n",
    "myNCRdf$`LAG3%` <- (myNCRdf$LAG3/myNCRdf$CD3)* 100\n",
    "myNCRdf$`TIM3%` <- (myNCRdf$TIM3/myNCRdf$CD3)* 100\n",
    "myNCRdf$`CTLA4%` <- (myNCRdf$CTLA4/myNCRdf$CD3)* 100"
   ]
  },
  {
   "cell_type": "code",
   "execution_count": null,
   "metadata": {
    "vscode": {
     "languageId": "r"
    }
   },
   "outputs": [],
   "source": [
    "write.csv(myNCRdf,file = paste0(datapath, \"NCR_df.csv\"),row.names = F)"
   ]
  },
  {
   "cell_type": "markdown",
   "metadata": {},
   "source": [
    "## Clean up T cells file\n"
   ]
  },
  {
   "cell_type": "markdown",
   "metadata": {},
   "source": [
    "Copy \"Pre Memory Subsets\" sheet to a new spreadsheet (values only)\n",
    "\n",
    "move the first 3 colnames up to align the the other colnames\n",
    "remove row 2. save as Tsubsets.csv"
   ]
  },
  {
   "cell_type": "code",
   "execution_count": null,
   "metadata": {
    "vscode": {
     "languageId": "r"
    }
   },
   "outputs": [],
   "source": [
    "Tcells <- read.csv(paste0(datapath, \"Flow/Tsubsets.csv\"),header = T, \n",
    "                 check.names = F, stringsAsFactors = F,\n",
    "                 na.strings = c(\"NA\",\"\",\"#DIV/0!\",\"#VALUE!\",\"#REF!\"))"
   ]
  },
  {
   "cell_type": "code",
   "execution_count": null,
   "metadata": {
    "scrolled": true,
    "vscode": {
     "languageId": "r"
    }
   },
   "outputs": [],
   "source": [
    "head(Tcells)"
   ]
  },
  {
   "cell_type": "markdown",
   "metadata": {},
   "source": [
    "Subset to include patients 330 to 437"
   ]
  },
  {
   "cell_type": "code",
   "execution_count": null,
   "metadata": {
    "vscode": {
     "languageId": "r"
    }
   },
   "outputs": [],
   "source": [
    "Tcellsubset <- Tcells[221:nrow(Tcells),]"
   ]
  },
  {
   "cell_type": "markdown",
   "metadata": {},
   "source": [
    "Get empty columns and seperate serial samples"
   ]
  },
  {
   "cell_type": "code",
   "execution_count": null,
   "metadata": {
    "scrolled": true,
    "vscode": {
     "languageId": "r"
    }
   },
   "outputs": [],
   "source": [
    "grep(\"^$\", colnames(Tcellsubset))"
   ]
  },
  {
   "cell_type": "code",
   "execution_count": null,
   "metadata": {
    "vscode": {
     "languageId": "r"
    }
   },
   "outputs": [],
   "source": [
    "Tcellsubset1 <- Tcellsubset[,1:18]\n",
    "Tcellsubset2 <- Tcellsubset[,c(1:3,20:34)]\n",
    "Tcellsubset3 <- Tcellsubset[,c(1:3,36:50)]\n",
    "Tcellsubset4 <- Tcellsubset[,c(1:3,52:66)]\n",
    "Tcellsubset5 <- Tcellsubset[,c(1:3,68:82)]"
   ]
  },
  {
   "cell_type": "code",
   "execution_count": null,
   "metadata": {
    "vscode": {
     "languageId": "r"
    }
   },
   "outputs": [],
   "source": [
    "Tcellsubset1$cycle <- \"01\"\n",
    "Tcellsubset2$cycle <- \"02\"\n",
    "Tcellsubset3$cycle <- \"03\"\n",
    "Tcellsubset4$cycle <- \"04\"\n",
    "Tcellsubset5$cycle <- \"05\""
   ]
  },
  {
   "cell_type": "code",
   "execution_count": null,
   "metadata": {
    "vscode": {
     "languageId": "r"
    }
   },
   "outputs": [],
   "source": [
    "myTcellsdf <- rbind(Tcellsubset1,\n",
    "                Tcellsubset2,\n",
    "                Tcellsubset3,\n",
    "                Tcellsubset4,\n",
    "                Tcellsubset5)"
   ]
  },
  {
   "cell_type": "code",
   "execution_count": null,
   "metadata": {
    "vscode": {
     "languageId": "r"
    }
   },
   "outputs": [],
   "source": [
    "myTcellsdf <- myTcellsdf[, c(1,19,2:4,5:18)]"
   ]
  },
  {
   "cell_type": "code",
   "execution_count": null,
   "metadata": {
    "scrolled": true,
    "vscode": {
     "languageId": "r"
    }
   },
   "outputs": [],
   "source": [
    "colnames(myTcellsdf)[c(1,4,5,6)] <- c(\"Patient\", \"Disease_type\", \"TE_fold\", \"Pass\")"
   ]
  },
  {
   "cell_type": "code",
   "execution_count": null,
   "metadata": {
    "vscode": {
     "languageId": "r"
    }
   },
   "outputs": [],
   "source": [
    "head(myTcellsdf)"
   ]
  },
  {
   "cell_type": "code",
   "execution_count": null,
   "metadata": {
    "vscode": {
     "languageId": "r"
    }
   },
   "outputs": [],
   "source": [
    "write.csv(myTcellsdf,file = paste0(datapath, \"Tcells_df.csv\"),\n",
    "         row.names = F)"
   ]
  },
  {
   "cell_type": "markdown",
   "metadata": {},
   "source": [
    "## Create master table for clinical and flow data"
   ]
  },
  {
   "cell_type": "code",
   "execution_count": null,
   "metadata": {
    "vscode": {
     "languageId": "r"
    }
   },
   "outputs": [],
   "source": [
    "Tcells <- read.csv(paste0(datapath, \"Tcells_df.csv\"),\n",
    "                 header = T, stringsAsFactors = F,check.names = F)"
   ]
  },
  {
   "cell_type": "code",
   "execution_count": null,
   "metadata": {
    "vscode": {
     "languageId": "r"
    }
   },
   "outputs": [],
   "source": [
    "NCRs <- read.csv(paste0(datapath, \"NCR_df.csv\"),\n",
    "                 header = T, stringsAsFactors = F,check.names = F)"
   ]
  },
  {
   "cell_type": "code",
   "execution_count": null,
   "metadata": {
    "vscode": {
     "languageId": "r"
    }
   },
   "outputs": [],
   "source": [
    "ATCs <- read.csv(paste0(datapath, \"ATC_df.csv\"),\n",
    "                 header = T, stringsAsFactors = F,check.names = F)"
   ]
  },
  {
   "cell_type": "code",
   "execution_count": null,
   "metadata": {
    "vscode": {
     "languageId": "r"
    }
   },
   "outputs": [],
   "source": [
    "ATC_Tcells <- merge(ATCs, Tcells, by = c(\"Patient\", \"cycle\"))"
   ]
  },
  {
   "cell_type": "code",
   "execution_count": null,
   "metadata": {
    "vscode": {
     "languageId": "r"
    }
   },
   "outputs": [],
   "source": [
    "dim(ATCs)\n",
    "dim(Tcells)\n",
    "dim(ATC_Tcells)"
   ]
  },
  {
   "cell_type": "code",
   "execution_count": null,
   "metadata": {
    "vscode": {
     "languageId": "r"
    }
   },
   "outputs": [],
   "source": [
    "ATC_Tcells_NCR <- merge(ATC_Tcells, NCRs[,!colnames(NCRs)%in% c(\"Disease_type\", \"Age\", \"TE_fold\", \"Pass\", \"CD3\")], by = c(\"Patient\", \"cycle\"))"
   ]
  },
  {
   "cell_type": "code",
   "execution_count": null,
   "metadata": {
    "vscode": {
     "languageId": "r"
    }
   },
   "outputs": [],
   "source": [
    "head(ATC_Tcells_NCR[,5:15])"
   ]
  },
  {
   "cell_type": "code",
   "execution_count": null,
   "metadata": {
    "vscode": {
     "languageId": "r"
    }
   },
   "outputs": [],
   "source": [
    "ATC_Tcells_NCR$FOLD[ATC_Tcells_NCR$FOLD == \"x\"] <- NA"
   ]
  },
  {
   "cell_type": "code",
   "execution_count": null,
   "metadata": {
    "vscode": {
     "languageId": "r"
    }
   },
   "outputs": [],
   "source": [
    "cols <- c(\"FOLD\", \"EM\", \"CM\", \"SCM\", \"TE\", \"Naïve\")\n",
    "ATC_Tcells_NCR[,cols] <- apply(ATC_Tcells_NCR[,cols],2, function(x) as.numeric(as.character(x)))"
   ]
  },
  {
   "cell_type": "code",
   "execution_count": null,
   "metadata": {
    "scrolled": true,
    "vscode": {
     "languageId": "r"
    }
   },
   "outputs": [],
   "source": [
    "colnames(ATC_Tcells_NCR)"
   ]
  },
  {
   "cell_type": "code",
   "execution_count": null,
   "metadata": {
    "vscode": {
     "languageId": "r"
    }
   },
   "outputs": [],
   "source": [
    "head(ATC_Tcells_NCR)"
   ]
  },
  {
   "cell_type": "code",
   "execution_count": null,
   "metadata": {
    "vscode": {
     "languageId": "r"
    }
   },
   "outputs": [],
   "source": [
    "ATC_Tcells_NCR$cycle[ATC_Tcells_NCR$cycle == 1] <- \"01\"\n",
    "ATC_Tcells_NCR$cycle[ATC_Tcells_NCR$cycle == 2] <- \"02\"\n",
    "ATC_Tcells_NCR$cycle[ATC_Tcells_NCR$cycle == 3] <- \"03\"\n",
    "ATC_Tcells_NCR$cycle[ATC_Tcells_NCR$cycle == 4] <- \"04\"\n",
    "ATC_Tcells_NCR$cycle[ATC_Tcells_NCR$cycle == 5] <- \"05\""
   ]
  },
  {
   "cell_type": "code",
   "execution_count": null,
   "metadata": {
    "vscode": {
     "languageId": "r"
    }
   },
   "outputs": [],
   "source": [
    "head(ATC_Tcells_NCR)"
   ]
  },
  {
   "cell_type": "markdown",
   "metadata": {},
   "source": [
    "## Cohort cleanup"
   ]
  },
  {
   "cell_type": "code",
   "execution_count": null,
   "metadata": {
    "vscode": {
     "languageId": "r"
    }
   },
   "outputs": [],
   "source": [
    "ATC_Tcells_NCR$Disease_type[ATC_Tcells_NCR$Disease_type == \"Hepatoblastoma\"] <- \"HB\"\n",
    "ATC_Tcells_NCR$Disease_type[ATC_Tcells_NCR$Disease_type == \"Ewings\"] <- \"EWS\"\n",
    "ATC_Tcells_NCR$Disease_type[ATC_Tcells_NCR$Disease_type == \"Burkitts\"] <- \"BL\"\n",
    "ATC_Tcells_NCR$Disease_type[ATC_Tcells_NCR$Disease_type == \"Burkitts \"] <- \"BL\"\n",
    "ATC_Tcells_NCR$Disease_type[ATC_Tcells_NCR$Disease_type == \"Burkitt's\"] <- \"BL\"\n",
    "ATC_Tcells_NCR$Disease_type[ATC_Tcells_NCR$Disease_type == \"Wilms\"] <- \"WILMS\"\n",
    "ATC_Tcells_NCR$Disease_type[ATC_Tcells_NCR$Disease_type == \"B cell lymphoma\"] <- \"BLL\"\n",
    "ATC_Tcells_NCR$Disease_type[ATC_Tcells_NCR$Disease_type == \"B lymphoblastic lymphoma\"] <- \"BLL\"\n",
    "ATC_Tcells_NCR$Disease_type[ATC_Tcells_NCR$Disease_type == \"NBL\"] <- \"NB\"\n",
    "ATC_Tcells_NCR$Disease_type[ATC_Tcells_NCR$Disease_type == \"aLL\"] <- \"ALL\""
   ]
  },
  {
   "cell_type": "markdown",
   "metadata": {},
   "source": [
    "Typos according to DB"
   ]
  },
  {
   "cell_type": "code",
   "execution_count": null,
   "metadata": {
    "vscode": {
     "languageId": "r"
    }
   },
   "outputs": [],
   "source": [
    "ATC_Tcells_NCR$Disease_type[ATC_Tcells_NCR$Disease_type == \"DLMCL\"] <- \"DLBCL\"\n",
    "ATC_Tcells_NCR$Disease_type[ATC_Tcells_NCR$Disease_type == \"SML\"] <- \"CML\""
   ]
  },
  {
   "cell_type": "code",
   "execution_count": null,
   "metadata": {
    "vscode": {
     "languageId": "r"
    }
   },
   "outputs": [],
   "source": [
    "table(ATC_Tcells_NCR$Disease_type)"
   ]
  },
  {
   "cell_type": "code",
   "execution_count": null,
   "metadata": {
    "vscode": {
     "languageId": "r"
    }
   },
   "outputs": [],
   "source": [
    "leuk <- c(\"T-ALL\", \"SR ALL\", \"HR ALL\", \"ALL\", \"AML\", \"CML\")\n",
    "lymph <- c(\"ALCL\", \"BL\", \"BLL\", \"PMBCL\", \"HD\", \"CLBCL\", \"DLBCL\")\n",
    "solid <- c(\"ARMS\", \"EWS\", \"HB\", \"MS NB\", \"NB\", \"OS\", \"RMS\", \"WILMS\", \"ERMS\")"
   ]
  },
  {
   "cell_type": "code",
   "execution_count": null,
   "metadata": {
    "vscode": {
     "languageId": "r"
    }
   },
   "outputs": [],
   "source": [
    "ATC_Tcells_NCR$cancergroup[ATC_Tcells_NCR$Disease_type %in% leuk] <- \"Leukemia\"\n",
    "ATC_Tcells_NCR$cancergroup[ATC_Tcells_NCR$Disease_type %in% lymph] <- \"Lymphoma\"\n",
    "ATC_Tcells_NCR$cancergroup[ATC_Tcells_NCR$Disease_type %in% solid] <- \"Solid\""
   ]
  },
  {
   "cell_type": "code",
   "execution_count": null,
   "metadata": {
    "vscode": {
     "languageId": "r"
    }
   },
   "outputs": [],
   "source": [
    "table(ATC_Tcells_NCR$cancergroup, useNA = \"always\")"
   ]
  },
  {
   "cell_type": "code",
   "execution_count": null,
   "metadata": {
    "vscode": {
     "languageId": "r"
    }
   },
   "outputs": [],
   "source": [
    "head(ATC_Tcells_NCR)"
   ]
  },
  {
   "cell_type": "code",
   "execution_count": null,
   "metadata": {
    "vscode": {
     "languageId": "r"
    }
   },
   "outputs": [],
   "source": [
    "ATC_Tcells_NCR$Patient <- paste(\"CHP_\", ATC_Tcells_NCR$Patient, sep = \"\")"
   ]
  },
  {
   "cell_type": "code",
   "execution_count": null,
   "metadata": {
    "vscode": {
     "languageId": "r"
    }
   },
   "outputs": [],
   "source": [
    "ATC_Tcells_NCR$sample_id <- paste( ATC_Tcells_NCR$Patient, \"_\", ATC_Tcells_NCR$cycle, sep = \"\")"
   ]
  },
  {
   "cell_type": "code",
   "execution_count": null,
   "metadata": {
    "vscode": {
     "languageId": "r"
    }
   },
   "outputs": [],
   "source": [
    "head(ATC_Tcells_NCR)"
   ]
  },
  {
   "cell_type": "code",
   "execution_count": null,
   "metadata": {
    "vscode": {
     "languageId": "r"
    }
   },
   "outputs": [],
   "source": [
    "write.csv(ATC_Tcells_NCR,\n",
    "         file = paste0(datapath, \"INT_metadata_flow.csv\"),row.names = F)"
   ]
  },
  {
   "cell_type": "code",
   "execution_count": null,
   "metadata": {
    "vscode": {
     "languageId": "r"
    }
   },
   "outputs": [],
   "source": []
  }
 ],
 "metadata": {
  "kernelspec": {
   "display_name": "R 4.0",
   "language": "R",
   "name": "ir40"
  },
  "language_info": {
   "codemirror_mode": "r",
   "file_extension": ".r",
   "mimetype": "text/x-r-source",
   "name": "R",
   "pygments_lexer": "r",
   "version": "4.2.2"
  },
  "toc": {
   "base_numbering": 1,
   "nav_menu": {},
   "number_sections": false,
   "sideBar": true,
   "skip_h1_title": false,
   "title_cell": "Table of Contents",
   "title_sidebar": "Contents",
   "toc_cell": true,
   "toc_position": {
    "height": "calc(100% - 180px)",
    "left": "10px",
    "top": "150px",
    "width": "180px"
   },
   "toc_section_display": true,
   "toc_window_display": true
  }
 },
 "nbformat": 4,
 "nbformat_minor": 2
}
