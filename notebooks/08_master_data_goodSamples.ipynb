{
 "cells": [
  {
   "cell_type": "markdown",
   "metadata": {},
   "source": [
    "# Dependencies"
   ]
  },
  {
   "cell_type": "markdown",
   "metadata": {},
   "source": [
    "# Functions"
   ]
  },
  {
   "cell_type": "markdown",
   "metadata": {},
   "source": [
    "# Paths"
   ]
  },
  {
   "cell_type": "code",
   "execution_count": 1,
   "metadata": {
    "vscode": {
     "languageId": "r"
    }
   },
   "outputs": [],
   "source": [
    "datapath <- \"/Users/anabbi/OneDrive - UHN/Documents/INTERCEPT/Data/\"\n",
    "plotpath <- \"/Users/anabbi/OneDrive - UHN/Documents/INTERCEPT/Plots/\"\n",
    "manifestpath <- \"/Users/anabbi/OneDrive - UHN/Documents/INTERCEPT/Manifests/\"\n",
    "\n",
    "gitpath <- \"/Users/anabbi/git/ped_CapTCRseq/\""
   ]
  },
  {
   "cell_type": "markdown",
   "metadata": {},
   "source": [
    "# Main"
   ]
  },
  {
   "cell_type": "markdown",
   "metadata": {},
   "source": [
    "# PBMC"
   ]
  },
  {
   "cell_type": "code",
   "execution_count": 2,
   "metadata": {
    "vscode": {
     "languageId": "r"
    }
   },
   "outputs": [],
   "source": [
    "load(file = paste0(datapath, \"capTCRseq/PBMC_GoodSamples.RData\"))"
   ]
  },
  {
   "cell_type": "code",
   "execution_count": 3,
   "metadata": {
    "vscode": {
     "languageId": "r"
    }
   },
   "outputs": [
    {
     "data": {
      "text/html": [
       "<table class=\"dataframe\">\n",
       "<caption>A data.frame: 6 x 95</caption>\n",
       "<thead>\n",
       "\t<tr><th></th><th scope=col>basename</th><th scope=col>mysample_id</th><th scope=col>Shipped</th><th scope=col>DNAextracted</th><th scope=col>DNAused</th><th scope=col>libbatch</th><th scope=col>librarypassed</th><th scope=col>Library preparation</th><th scope=col>libraryyield</th><th scope=col>captureyield</th><th scope=col>...</th><th scope=col>TRA.chains</th><th scope=col>TRB.chains</th><th scope=col>TRD.chains</th><th scope=col>TRG.chains</th><th scope=col>TRA.TRD.chains</th><th scope=col>IGH.chains</th><th scope=col>IGK.chains</th><th scope=col>IGL.chains</th><th scope=col>chains</th><th scope=col>percaligned</th></tr>\n",
       "\t<tr><th></th><th scope=col>&lt;chr&gt;</th><th scope=col>&lt;chr&gt;</th><th scope=col>&lt;chr&gt;</th><th scope=col>&lt;dbl&gt;</th><th scope=col>&lt;dbl&gt;</th><th scope=col>&lt;chr&gt;</th><th scope=col>&lt;chr&gt;</th><th scope=col>&lt;chr&gt;</th><th scope=col>&lt;dbl&gt;</th><th scope=col>&lt;dbl&gt;</th><th scope=col>...</th><th scope=col>&lt;int&gt;</th><th scope=col>&lt;int&gt;</th><th scope=col>&lt;int&gt;</th><th scope=col>&lt;int&gt;</th><th scope=col>&lt;int&gt;</th><th scope=col>&lt;int&gt;</th><th scope=col>&lt;int&gt;</th><th scope=col>&lt;int&gt;</th><th scope=col>&lt;int&gt;</th><th scope=col>&lt;dbl&gt;</th></tr>\n",
       "</thead>\n",
       "<tbody>\n",
       "\t<tr><th scope=row>1</th><td>CHP-328-04-PBMC-DNA</td><td>CHP_328_04</td><td>n = 320</td><td>111.996</td><td>111.996</td><td>200711_M04827_0406_000000000-D8W43</td><td>Passed</td><td>n = 281</td><td> 720.0</td><td>915.8</td><td>...</td><td>3567638</td><td>454942</td><td>103912</td><td>2044714</td><td>3898342</td><td>202</td><td>122</td><td>26</td><td>0</td><td>0.8890611</td></tr>\n",
       "\t<tr><th scope=row>2</th><td>CHP-328-05-PBMC-DNA</td><td>CHP_328_05</td><td>n = 320</td><td>125.870</td><td>125.870</td><td>200711_M04827_0406_000000000-D8W43</td><td>Passed</td><td>n = 281</td><td>1516.8</td><td>535.8</td><td>...</td><td>3457123</td><td>274168</td><td>150033</td><td> 776859</td><td>  92562</td><td> 43</td><td>  0</td><td> 0</td><td>0</td><td>0.8872281</td></tr>\n",
       "\t<tr><th scope=row>4</th><td>CHP-351-03-PBMC-DNA</td><td>CHP_351_03</td><td>n = 320</td><td>410.060</td><td>114.000</td><td>191210_M04827_0319_000000000-D7M28</td><td>Passed</td><td>n = 281</td><td>1219.2</td><td>695.4</td><td>...</td><td>2878428</td><td>324281</td><td>121251</td><td>1619395</td><td>2503466</td><td>370</td><td> 37</td><td>72</td><td>0</td><td>0.8748030</td></tr>\n",
       "\t<tr><th scope=row>5</th><td>CHP-353-04-PBMC-DNA</td><td>CHP_353_04</td><td>n = 320</td><td> 55.488</td><td> 55.488</td><td>200711_M04827_0406_000000000-D8W43</td><td>Passed</td><td>n = 281</td><td>1440.0</td><td>874.0</td><td>...</td><td>3122579</td><td>481025</td><td> 45904</td><td>2374736</td><td>1638907</td><td>204</td><td> 81</td><td>21</td><td>0</td><td>0.9093651</td></tr>\n",
       "\t<tr><th scope=row>6</th><td>CHP-363-04-PBMC-DNA</td><td>CHP_363_04</td><td>n = 320</td><td>509.934</td><td> 73.200</td><td>191210_M04827_0319_000000000-D7M28</td><td>Passed</td><td>n = 281</td><td>1228.8</td><td>619.4</td><td>...</td><td>2223241</td><td>270054</td><td> 70711</td><td>1056268</td><td>2800244</td><td>370</td><td>118</td><td>27</td><td>0</td><td>0.8106374</td></tr>\n",
       "\t<tr><th scope=row>7</th><td>CHP-369-01-PBMC-DNA</td><td>CHP_369_01</td><td>n = 320</td><td>126.000</td><td>113.000</td><td>191223_M04827_0328_000000000-D7VLK</td><td>Passed</td><td>n = 281</td><td> 628.8</td><td>915.8</td><td>...</td><td>7339655</td><td>668267</td><td> 96297</td><td>2899593</td><td>3688473</td><td>288</td><td> 80</td><td>28</td><td>0</td><td>0.9161272</td></tr>\n",
       "</tbody>\n",
       "</table>\n"
      ],
      "text/latex": [
       "A data.frame: 6 x 95\n",
       "\\begin{tabular}{r|lllllllllllllllllllll}\n",
       "  & basename & mysample\\_id & Shipped & DNAextracted & DNAused & libbatch & librarypassed & Library preparation & libraryyield & captureyield & ... & TRA.chains & TRB.chains & TRD.chains & TRG.chains & TRA.TRD.chains & IGH.chains & IGK.chains & IGL.chains & chains & percaligned\\\\\n",
       "  & <chr> & <chr> & <chr> & <dbl> & <dbl> & <chr> & <chr> & <chr> & <dbl> & <dbl> & ... & <int> & <int> & <int> & <int> & <int> & <int> & <int> & <int> & <int> & <dbl>\\\\\n",
       "\\hline\n",
       "\t1 & CHP-328-04-PBMC-DNA & CHP\\_328\\_04 & n = 320 & 111.996 & 111.996 & 200711\\_M04827\\_0406\\_000000000-D8W43 & Passed & n = 281 &  720.0 & 915.8 & ... & 3567638 & 454942 & 103912 & 2044714 & 3898342 & 202 & 122 & 26 & 0 & 0.8890611\\\\\n",
       "\t2 & CHP-328-05-PBMC-DNA & CHP\\_328\\_05 & n = 320 & 125.870 & 125.870 & 200711\\_M04827\\_0406\\_000000000-D8W43 & Passed & n = 281 & 1516.8 & 535.8 & ... & 3457123 & 274168 & 150033 &  776859 &   92562 &  43 &   0 &  0 & 0 & 0.8872281\\\\\n",
       "\t4 & CHP-351-03-PBMC-DNA & CHP\\_351\\_03 & n = 320 & 410.060 & 114.000 & 191210\\_M04827\\_0319\\_000000000-D7M28 & Passed & n = 281 & 1219.2 & 695.4 & ... & 2878428 & 324281 & 121251 & 1619395 & 2503466 & 370 &  37 & 72 & 0 & 0.8748030\\\\\n",
       "\t5 & CHP-353-04-PBMC-DNA & CHP\\_353\\_04 & n = 320 &  55.488 &  55.488 & 200711\\_M04827\\_0406\\_000000000-D8W43 & Passed & n = 281 & 1440.0 & 874.0 & ... & 3122579 & 481025 &  45904 & 2374736 & 1638907 & 204 &  81 & 21 & 0 & 0.9093651\\\\\n",
       "\t6 & CHP-363-04-PBMC-DNA & CHP\\_363\\_04 & n = 320 & 509.934 &  73.200 & 191210\\_M04827\\_0319\\_000000000-D7M28 & Passed & n = 281 & 1228.8 & 619.4 & ... & 2223241 & 270054 &  70711 & 1056268 & 2800244 & 370 & 118 & 27 & 0 & 0.8106374\\\\\n",
       "\t7 & CHP-369-01-PBMC-DNA & CHP\\_369\\_01 & n = 320 & 126.000 & 113.000 & 191223\\_M04827\\_0328\\_000000000-D7VLK & Passed & n = 281 &  628.8 & 915.8 & ... & 7339655 & 668267 &  96297 & 2899593 & 3688473 & 288 &  80 & 28 & 0 & 0.9161272\\\\\n",
       "\\end{tabular}\n"
      ],
      "text/markdown": [
       "\n",
       "A data.frame: 6 x 95\n",
       "\n",
       "| <!--/--> | basename &lt;chr&gt; | mysample_id &lt;chr&gt; | Shipped &lt;chr&gt; | DNAextracted &lt;dbl&gt; | DNAused &lt;dbl&gt; | libbatch &lt;chr&gt; | librarypassed &lt;chr&gt; | Library preparation &lt;chr&gt; | libraryyield &lt;dbl&gt; | captureyield &lt;dbl&gt; | ... ... | TRA.chains &lt;int&gt; | TRB.chains &lt;int&gt; | TRD.chains &lt;int&gt; | TRG.chains &lt;int&gt; | TRA.TRD.chains &lt;int&gt; | IGH.chains &lt;int&gt; | IGK.chains &lt;int&gt; | IGL.chains &lt;int&gt; | chains &lt;int&gt; | percaligned &lt;dbl&gt; |\n",
       "|---|---|---|---|---|---|---|---|---|---|---|---|---|---|---|---|---|---|---|---|---|---|\n",
       "| 1 | CHP-328-04-PBMC-DNA | CHP_328_04 | n = 320 | 111.996 | 111.996 | 200711_M04827_0406_000000000-D8W43 | Passed | n = 281 |  720.0 | 915.8 | ... | 3567638 | 454942 | 103912 | 2044714 | 3898342 | 202 | 122 | 26 | 0 | 0.8890611 |\n",
       "| 2 | CHP-328-05-PBMC-DNA | CHP_328_05 | n = 320 | 125.870 | 125.870 | 200711_M04827_0406_000000000-D8W43 | Passed | n = 281 | 1516.8 | 535.8 | ... | 3457123 | 274168 | 150033 |  776859 |   92562 |  43 |   0 |  0 | 0 | 0.8872281 |\n",
       "| 4 | CHP-351-03-PBMC-DNA | CHP_351_03 | n = 320 | 410.060 | 114.000 | 191210_M04827_0319_000000000-D7M28 | Passed | n = 281 | 1219.2 | 695.4 | ... | 2878428 | 324281 | 121251 | 1619395 | 2503466 | 370 |  37 | 72 | 0 | 0.8748030 |\n",
       "| 5 | CHP-353-04-PBMC-DNA | CHP_353_04 | n = 320 |  55.488 |  55.488 | 200711_M04827_0406_000000000-D8W43 | Passed | n = 281 | 1440.0 | 874.0 | ... | 3122579 | 481025 |  45904 | 2374736 | 1638907 | 204 |  81 | 21 | 0 | 0.9093651 |\n",
       "| 6 | CHP-363-04-PBMC-DNA | CHP_363_04 | n = 320 | 509.934 |  73.200 | 191210_M04827_0319_000000000-D7M28 | Passed | n = 281 | 1228.8 | 619.4 | ... | 2223241 | 270054 |  70711 | 1056268 | 2800244 | 370 | 118 | 27 | 0 | 0.8106374 |\n",
       "| 7 | CHP-369-01-PBMC-DNA | CHP_369_01 | n = 320 | 126.000 | 113.000 | 191223_M04827_0328_000000000-D7VLK | Passed | n = 281 |  628.8 | 915.8 | ... | 7339655 | 668267 |  96297 | 2899593 | 3688473 | 288 |  80 | 28 | 0 | 0.9161272 |\n",
       "\n"
      ],
      "text/plain": [
       "  basename            mysample_id Shipped DNAextracted DNAused\n",
       "1 CHP-328-04-PBMC-DNA CHP_328_04  n = 320 111.996      111.996\n",
       "2 CHP-328-05-PBMC-DNA CHP_328_05  n = 320 125.870      125.870\n",
       "4 CHP-351-03-PBMC-DNA CHP_351_03  n = 320 410.060      114.000\n",
       "5 CHP-353-04-PBMC-DNA CHP_353_04  n = 320  55.488       55.488\n",
       "6 CHP-363-04-PBMC-DNA CHP_363_04  n = 320 509.934       73.200\n",
       "7 CHP-369-01-PBMC-DNA CHP_369_01  n = 320 126.000      113.000\n",
       "  libbatch                           librarypassed Library preparation\n",
       "1 200711_M04827_0406_000000000-D8W43 Passed        n = 281            \n",
       "2 200711_M04827_0406_000000000-D8W43 Passed        n = 281            \n",
       "4 191210_M04827_0319_000000000-D7M28 Passed        n = 281            \n",
       "5 200711_M04827_0406_000000000-D8W43 Passed        n = 281            \n",
       "6 191210_M04827_0319_000000000-D7M28 Passed        n = 281            \n",
       "7 191223_M04827_0328_000000000-D7VLK Passed        n = 281            \n",
       "  libraryyield captureyield ... TRA.chains TRB.chains TRD.chains TRG.chains\n",
       "1  720.0       915.8        ... 3567638    454942     103912     2044714   \n",
       "2 1516.8       535.8        ... 3457123    274168     150033      776859   \n",
       "4 1219.2       695.4        ... 2878428    324281     121251     1619395   \n",
       "5 1440.0       874.0        ... 3122579    481025      45904     2374736   \n",
       "6 1228.8       619.4        ... 2223241    270054      70711     1056268   \n",
       "7  628.8       915.8        ... 7339655    668267      96297     2899593   \n",
       "  TRA.TRD.chains IGH.chains IGK.chains IGL.chains chains percaligned\n",
       "1 3898342        202        122        26         0      0.8890611  \n",
       "2   92562         43          0         0         0      0.8872281  \n",
       "4 2503466        370         37        72         0      0.8748030  \n",
       "5 1638907        204         81        21         0      0.9093651  \n",
       "6 2800244        370        118        27         0      0.8106374  \n",
       "7 3688473        288         80        28         0      0.9161272  "
      ]
     },
     "metadata": {},
     "output_type": "display_data"
    }
   ],
   "source": [
    "head(subset_pbmc)"
   ]
  },
  {
   "cell_type": "code",
   "execution_count": 4,
   "metadata": {
    "vscode": {
     "languageId": "r"
    }
   },
   "outputs": [
    {
     "name": "stderr",
     "output_type": "stream",
     "text": [
      "Warning message in load(file = paste0(datapath, \"capTCRseq/meta_div_TRB.RData\")):\n",
      "\"strings not representable in native encoding will be translated to UTF-8\"\n"
     ]
    }
   ],
   "source": [
    "load(file = paste0(datapath,\"capTCRseq/meta_div_TRB.RData\"))"
   ]
  },
  {
   "cell_type": "code",
   "execution_count": 5,
   "metadata": {
    "vscode": {
     "languageId": "r"
    }
   },
   "outputs": [
    {
     "data": {
      "text/html": [
       "<table class=\"dataframe\">\n",
       "<caption>A data.frame: 7 x 58</caption>\n",
       "<thead>\n",
       "\t<tr><th></th><th scope=col>sample_id</th><th scope=col>Patient</th><th scope=col>cycle</th><th scope=col>FOLD</th><th scope=col>ATC</th><th scope=col>Age</th><th scope=col>Disease_type</th><th scope=col>TE_fold</th><th scope=col>Pass</th><th scope=col>CD3</th><th scope=col>...</th><th scope=col>observed_Shannon</th><th scope=col>estimated_Shannon</th><th scope=col>SE_Shannon</th><th scope=col>observed_Simpson</th><th scope=col>estimated_Simpson</th><th scope=col>SE_Simpson</th><th scope=col>file</th><th scope=col>basename</th><th scope=col>Group</th><th scope=col>sampletype</th></tr>\n",
       "\t<tr><th></th><th scope=col>&lt;chr&gt;</th><th scope=col>&lt;chr&gt;</th><th scope=col>&lt;chr&gt;</th><th scope=col>&lt;dbl&gt;</th><th scope=col>&lt;dbl&gt;</th><th scope=col>&lt;dbl&gt;</th><th scope=col>&lt;chr&gt;</th><th scope=col>&lt;chr&gt;</th><th scope=col>&lt;lgl&gt;</th><th scope=col>&lt;int&gt;</th><th scope=col>...</th><th scope=col>&lt;dbl&gt;</th><th scope=col>&lt;dbl&gt;</th><th scope=col>&lt;dbl&gt;</th><th scope=col>&lt;dbl&gt;</th><th scope=col>&lt;dbl&gt;</th><th scope=col>&lt;dbl&gt;</th><th scope=col>&lt;chr&gt;</th><th scope=col>&lt;chr&gt;</th><th scope=col>&lt;chr&gt;</th><th scope=col>&lt;chr&gt;</th></tr>\n",
       "</thead>\n",
       "<tbody>\n",
       "\t<tr><th scope=row>372</th><td>CHP_372   </td><td>CHP_372</td><td>X00</td><td>NA</td><td>NA</td><td>NA</td><td>BL</td><td>NA</td><td>NA</td><td> NA</td><td>...</td><td>2.406</td><td>2.412</td><td>0.047</td><td>1.739</td><td>1.740</td><td>0.034</td><td>batchFFPE_3Apr2020/mixcr/clones/CLONES_TRBCHP_372-FFPE-DNA_S1.txt   </td><td>CHP_372-FFPE-DNA_S1</td><td>CHP</td><td>Tumor</td></tr>\n",
       "\t<tr><th scope=row>373</th><td>CHP_372_01</td><td>CHP_372</td><td>X01</td><td> 1</td><td> 0</td><td>21</td><td>BL</td><td>1 </td><td>NA</td><td>328</td><td>...</td><td>2.784</td><td>2.815</td><td>0.155</td><td>2.328</td><td>2.351</td><td>0.188</td><td>batch1_cfDNA_30Jan2020/mixcr/clones/CLONES_TRBCHP_372-01-cfDNA.txt  </td><td>CHP_372-01-cfDNA   </td><td>CHP</td><td>cfDNA</td></tr>\n",
       "\t<tr><th scope=row>374</th><td>CHP_372_01</td><td>CHP_372</td><td>X01</td><td> 1</td><td> 0</td><td>21</td><td>BL</td><td>1 </td><td>NA</td><td>328</td><td>...</td><td>2.724</td><td>2.733</td><td>0.060</td><td>2.553</td><td>2.565</td><td>0.081</td><td>batch_reseq_24Feb2020/mixcr/clones/CLONES_TRBCHP_372-01-PBMC-DNA.txt</td><td>CHP_372-01-PBMC-DNA</td><td>CHP</td><td>PBMC </td></tr>\n",
       "\t<tr><th scope=row>375</th><td>CHP_372_02</td><td>CHP_372</td><td>X02</td><td> 0</td><td> 0</td><td>21</td><td>BL</td><td>0 </td><td>NA</td><td>  0</td><td>...</td><td>   NA</td><td>   NA</td><td>   NA</td><td>   NA</td><td>   NA</td><td>   NA</td><td>NA                                                                  </td><td>NA                 </td><td>CHP</td><td>NA   </td></tr>\n",
       "\t<tr><th scope=row>376</th><td>CHP_372_03</td><td>CHP_372</td><td>X03</td><td> 0</td><td> 0</td><td>21</td><td>BL</td><td>0 </td><td>NA</td><td>  0</td><td>...</td><td>   NA</td><td>   NA</td><td>   NA</td><td>   NA</td><td>   NA</td><td>   NA</td><td>NA                                                                  </td><td>NA                 </td><td>CHP</td><td>NA   </td></tr>\n",
       "\t<tr><th scope=row>377</th><td>CHP_372_04</td><td>CHP_372</td><td>X04</td><td> 0</td><td> 0</td><td>21</td><td>BL</td><td>0 </td><td>NA</td><td>  0</td><td>...</td><td>   NA</td><td>   NA</td><td>   NA</td><td>   NA</td><td>   NA</td><td>   NA</td><td>NA                                                                  </td><td>NA                 </td><td>CHP</td><td>NA   </td></tr>\n",
       "\t<tr><th scope=row>378</th><td>CHP_372_05</td><td>CHP_372</td><td>X05</td><td> 0</td><td> 0</td><td>21</td><td>BL</td><td>0 </td><td>NA</td><td>  0</td><td>...</td><td>   NA</td><td>   NA</td><td>   NA</td><td>   NA</td><td>   NA</td><td>   NA</td><td>NA                                                                  </td><td>NA                 </td><td>CHP</td><td>NA   </td></tr>\n",
       "</tbody>\n",
       "</table>\n"
      ],
      "text/latex": [
       "A data.frame: 7 x 58\n",
       "\\begin{tabular}{r|lllllllllllllllllllll}\n",
       "  & sample\\_id & Patient & cycle & FOLD & ATC & Age & Disease\\_type & TE\\_fold & Pass & CD3 & ... & observed\\_Shannon & estimated\\_Shannon & SE\\_Shannon & observed\\_Simpson & estimated\\_Simpson & SE\\_Simpson & file & basename & Group & sampletype\\\\\n",
       "  & <chr> & <chr> & <chr> & <dbl> & <dbl> & <dbl> & <chr> & <chr> & <lgl> & <int> & ... & <dbl> & <dbl> & <dbl> & <dbl> & <dbl> & <dbl> & <chr> & <chr> & <chr> & <chr>\\\\\n",
       "\\hline\n",
       "\t372 & CHP\\_372    & CHP\\_372 & X00 & NA & NA & NA & BL & NA & NA &  NA & ... & 2.406 & 2.412 & 0.047 & 1.739 & 1.740 & 0.034 & batchFFPE\\_3Apr2020/mixcr/clones/CLONES\\_TRBCHP\\_372-FFPE-DNA\\_S1.txt    & CHP\\_372-FFPE-DNA\\_S1 & CHP & Tumor\\\\\n",
       "\t373 & CHP\\_372\\_01 & CHP\\_372 & X01 &  1 &  0 & 21 & BL & 1  & NA & 328 & ... & 2.784 & 2.815 & 0.155 & 2.328 & 2.351 & 0.188 & batch1\\_cfDNA\\_30Jan2020/mixcr/clones/CLONES\\_TRBCHP\\_372-01-cfDNA.txt   & CHP\\_372-01-cfDNA    & CHP & cfDNA\\\\\n",
       "\t374 & CHP\\_372\\_01 & CHP\\_372 & X01 &  1 &  0 & 21 & BL & 1  & NA & 328 & ... & 2.724 & 2.733 & 0.060 & 2.553 & 2.565 & 0.081 & batch\\_reseq\\_24Feb2020/mixcr/clones/CLONES\\_TRBCHP\\_372-01-PBMC-DNA.txt & CHP\\_372-01-PBMC-DNA & CHP & PBMC \\\\\n",
       "\t375 & CHP\\_372\\_02 & CHP\\_372 & X02 &  0 &  0 & 21 & BL & 0  & NA &   0 & ... &    NA &    NA &    NA &    NA &    NA &    NA & NA                                                                   & NA                  & CHP & NA   \\\\\n",
       "\t376 & CHP\\_372\\_03 & CHP\\_372 & X03 &  0 &  0 & 21 & BL & 0  & NA &   0 & ... &    NA &    NA &    NA &    NA &    NA &    NA & NA                                                                   & NA                  & CHP & NA   \\\\\n",
       "\t377 & CHP\\_372\\_04 & CHP\\_372 & X04 &  0 &  0 & 21 & BL & 0  & NA &   0 & ... &    NA &    NA &    NA &    NA &    NA &    NA & NA                                                                   & NA                  & CHP & NA   \\\\\n",
       "\t378 & CHP\\_372\\_05 & CHP\\_372 & X05 &  0 &  0 & 21 & BL & 0  & NA &   0 & ... &    NA &    NA &    NA &    NA &    NA &    NA & NA                                                                   & NA                  & CHP & NA   \\\\\n",
       "\\end{tabular}\n"
      ],
      "text/markdown": [
       "\n",
       "A data.frame: 7 x 58\n",
       "\n",
       "| <!--/--> | sample_id &lt;chr&gt; | Patient &lt;chr&gt; | cycle &lt;chr&gt; | FOLD &lt;dbl&gt; | ATC &lt;dbl&gt; | Age &lt;dbl&gt; | Disease_type &lt;chr&gt; | TE_fold &lt;chr&gt; | Pass &lt;lgl&gt; | CD3 &lt;int&gt; | ... ... | observed_Shannon &lt;dbl&gt; | estimated_Shannon &lt;dbl&gt; | SE_Shannon &lt;dbl&gt; | observed_Simpson &lt;dbl&gt; | estimated_Simpson &lt;dbl&gt; | SE_Simpson &lt;dbl&gt; | file &lt;chr&gt; | basename &lt;chr&gt; | Group &lt;chr&gt; | sampletype &lt;chr&gt; |\n",
       "|---|---|---|---|---|---|---|---|---|---|---|---|---|---|---|---|---|---|---|---|---|---|\n",
       "| 372 | CHP_372    | CHP_372 | X00 | NA | NA | NA | BL | NA | NA |  NA | ... | 2.406 | 2.412 | 0.047 | 1.739 | 1.740 | 0.034 | batchFFPE_3Apr2020/mixcr/clones/CLONES_TRBCHP_372-FFPE-DNA_S1.txt    | CHP_372-FFPE-DNA_S1 | CHP | Tumor |\n",
       "| 373 | CHP_372_01 | CHP_372 | X01 |  1 |  0 | 21 | BL | 1  | NA | 328 | ... | 2.784 | 2.815 | 0.155 | 2.328 | 2.351 | 0.188 | batch1_cfDNA_30Jan2020/mixcr/clones/CLONES_TRBCHP_372-01-cfDNA.txt   | CHP_372-01-cfDNA    | CHP | cfDNA |\n",
       "| 374 | CHP_372_01 | CHP_372 | X01 |  1 |  0 | 21 | BL | 1  | NA | 328 | ... | 2.724 | 2.733 | 0.060 | 2.553 | 2.565 | 0.081 | batch_reseq_24Feb2020/mixcr/clones/CLONES_TRBCHP_372-01-PBMC-DNA.txt | CHP_372-01-PBMC-DNA | CHP | PBMC  |\n",
       "| 375 | CHP_372_02 | CHP_372 | X02 |  0 |  0 | 21 | BL | 0  | NA |   0 | ... |    NA |    NA |    NA |    NA |    NA |    NA | NA                                                                   | NA                  | CHP | NA    |\n",
       "| 376 | CHP_372_03 | CHP_372 | X03 |  0 |  0 | 21 | BL | 0  | NA |   0 | ... |    NA |    NA |    NA |    NA |    NA |    NA | NA                                                                   | NA                  | CHP | NA    |\n",
       "| 377 | CHP_372_04 | CHP_372 | X04 |  0 |  0 | 21 | BL | 0  | NA |   0 | ... |    NA |    NA |    NA |    NA |    NA |    NA | NA                                                                   | NA                  | CHP | NA    |\n",
       "| 378 | CHP_372_05 | CHP_372 | X05 |  0 |  0 | 21 | BL | 0  | NA |   0 | ... |    NA |    NA |    NA |    NA |    NA |    NA | NA                                                                   | NA                  | CHP | NA    |\n",
       "\n"
      ],
      "text/plain": [
       "    sample_id  Patient cycle FOLD ATC Age Disease_type TE_fold Pass CD3 ...\n",
       "372 CHP_372    CHP_372 X00   NA   NA  NA  BL           NA      NA    NA ...\n",
       "373 CHP_372_01 CHP_372 X01    1    0  21  BL           1       NA   328 ...\n",
       "374 CHP_372_01 CHP_372 X01    1    0  21  BL           1       NA   328 ...\n",
       "375 CHP_372_02 CHP_372 X02    0    0  21  BL           0       NA     0 ...\n",
       "376 CHP_372_03 CHP_372 X03    0    0  21  BL           0       NA     0 ...\n",
       "377 CHP_372_04 CHP_372 X04    0    0  21  BL           0       NA     0 ...\n",
       "378 CHP_372_05 CHP_372 X05    0    0  21  BL           0       NA     0 ...\n",
       "    observed_Shannon estimated_Shannon SE_Shannon observed_Simpson\n",
       "372 2.406            2.412             0.047      1.739           \n",
       "373 2.784            2.815             0.155      2.328           \n",
       "374 2.724            2.733             0.060      2.553           \n",
       "375    NA               NA                NA         NA           \n",
       "376    NA               NA                NA         NA           \n",
       "377    NA               NA                NA         NA           \n",
       "378    NA               NA                NA         NA           \n",
       "    estimated_Simpson SE_Simpson\n",
       "372 1.740             0.034     \n",
       "373 2.351             0.188     \n",
       "374 2.565             0.081     \n",
       "375    NA                NA     \n",
       "376    NA                NA     \n",
       "377    NA                NA     \n",
       "378    NA                NA     \n",
       "    file                                                                \n",
       "372 batchFFPE_3Apr2020/mixcr/clones/CLONES_TRBCHP_372-FFPE-DNA_S1.txt   \n",
       "373 batch1_cfDNA_30Jan2020/mixcr/clones/CLONES_TRBCHP_372-01-cfDNA.txt  \n",
       "374 batch_reseq_24Feb2020/mixcr/clones/CLONES_TRBCHP_372-01-PBMC-DNA.txt\n",
       "375 NA                                                                  \n",
       "376 NA                                                                  \n",
       "377 NA                                                                  \n",
       "378 NA                                                                  \n",
       "    basename            Group sampletype\n",
       "372 CHP_372-FFPE-DNA_S1 CHP   Tumor     \n",
       "373 CHP_372-01-cfDNA    CHP   cfDNA     \n",
       "374 CHP_372-01-PBMC-DNA CHP   PBMC      \n",
       "375 NA                  CHP   NA        \n",
       "376 NA                  CHP   NA        \n",
       "377 NA                  CHP   NA        \n",
       "378 NA                  CHP   NA        "
      ]
     },
     "metadata": {},
     "output_type": "display_data"
    }
   ],
   "source": [
    "meta_div[ meta_div$Patient == \"CHP_372\",]"
   ]
  },
  {
   "cell_type": "code",
   "execution_count": 6,
   "metadata": {
    "vscode": {
     "languageId": "r"
    }
   },
   "outputs": [
    {
     "data": {
      "text/html": [
       "<style>\n",
       ".list-inline {list-style: none; margin:0; padding: 0}\n",
       ".list-inline>li {display: inline-block}\n",
       ".list-inline>li:not(:last-child)::after {content: \"\\00b7\"; padding: 0 .5ex}\n",
       "</style>\n",
       "<ol class=list-inline><li>248</li><li>95</li></ol>\n"
      ],
      "text/latex": [
       "\\begin{enumerate*}\n",
       "\\item 248\n",
       "\\item 95\n",
       "\\end{enumerate*}\n"
      ],
      "text/markdown": [
       "1. 248\n",
       "2. 95\n",
       "\n",
       "\n"
      ],
      "text/plain": [
       "[1] 248  95"
      ]
     },
     "metadata": {},
     "output_type": "display_data"
    }
   ],
   "source": [
    "dim(subset_pbmc)"
   ]
  },
  {
   "cell_type": "code",
   "execution_count": 7,
   "metadata": {
    "vscode": {
     "languageId": "r"
    }
   },
   "outputs": [
    {
     "data": {
      "text/html": [
       "<style>\n",
       ".list-inline {list-style: none; margin:0; padding: 0}\n",
       ".list-inline>li {display: inline-block}\n",
       ".list-inline>li:not(:last-child)::after {content: \"\\00b7\"; padding: 0 .5ex}\n",
       "</style>\n",
       "<ol class=list-inline><li>'datapath'</li><li>'gitpath'</li><li>'manifestpath'</li><li>'meta_div'</li><li>'plotpath'</li><li>'subset_pbmc'</li></ol>\n"
      ],
      "text/latex": [
       "\\begin{enumerate*}\n",
       "\\item 'datapath'\n",
       "\\item 'gitpath'\n",
       "\\item 'manifestpath'\n",
       "\\item 'meta\\_div'\n",
       "\\item 'plotpath'\n",
       "\\item 'subset\\_pbmc'\n",
       "\\end{enumerate*}\n"
      ],
      "text/markdown": [
       "1. 'datapath'\n",
       "2. 'gitpath'\n",
       "3. 'manifestpath'\n",
       "4. 'meta_div'\n",
       "5. 'plotpath'\n",
       "6. 'subset_pbmc'\n",
       "\n",
       "\n"
      ],
      "text/plain": [
       "[1] \"datapath\"     \"gitpath\"      \"manifestpath\" \"meta_div\"     \"plotpath\"    \n",
       "[6] \"subset_pbmc\" "
      ]
     },
     "metadata": {},
     "output_type": "display_data"
    }
   ],
   "source": [
    "ls()"
   ]
  },
  {
   "cell_type": "code",
   "execution_count": 8,
   "metadata": {
    "vscode": {
     "languageId": "r"
    }
   },
   "outputs": [
    {
     "data": {
      "text/html": [
       "841"
      ],
      "text/latex": [
       "841"
      ],
      "text/markdown": [
       "841"
      ],
      "text/plain": [
       "[1] 841"
      ]
     },
     "metadata": {},
     "output_type": "display_data"
    }
   ],
   "source": [
    "length(meta_div$sampletype)"
   ]
  },
  {
   "cell_type": "code",
   "execution_count": 9,
   "metadata": {
    "vscode": {
     "languageId": "r"
    }
   },
   "outputs": [],
   "source": [
    "load(file = paste0(datapath, \"capTCRseq/cfDNA_GoodSamples.RData\"))"
   ]
  },
  {
   "cell_type": "code",
   "execution_count": 10,
   "metadata": {
    "vscode": {
     "languageId": "r"
    }
   },
   "outputs": [
    {
     "data": {
      "text/html": [
       "<table class=\"dataframe\">\n",
       "<caption>A data.frame: 6 x 96</caption>\n",
       "<thead>\n",
       "\t<tr><th></th><th scope=col>basename</th><th scope=col>mysample_id</th><th scope=col>DNA samples</th><th scope=col>DNAextracted</th><th scope=col>DNAused</th><th scope=col>librarypassed</th><th scope=col>libbatch</th><th scope=col>Library preparation</th><th scope=col>libraryyield</th><th scope=col>DNAforcapture</th><th scope=col>...</th><th scope=col>TRA.chains</th><th scope=col>TRB.chains</th><th scope=col>TRD.chains</th><th scope=col>TRG.chains</th><th scope=col>TRA.TRD.chains</th><th scope=col>IGH.chains</th><th scope=col>IGK.chains</th><th scope=col>IGL.chains</th><th scope=col>chains</th><th scope=col>percaligned</th></tr>\n",
       "\t<tr><th></th><th scope=col>&lt;chr&gt;</th><th scope=col>&lt;chr&gt;</th><th scope=col>&lt;chr&gt;</th><th scope=col>&lt;dbl&gt;</th><th scope=col>&lt;dbl&gt;</th><th scope=col>&lt;chr&gt;</th><th scope=col>&lt;chr&gt;</th><th scope=col>&lt;chr&gt;</th><th scope=col>&lt;dbl&gt;</th><th scope=col>&lt;dbl&gt;</th><th scope=col>...</th><th scope=col>&lt;int&gt;</th><th scope=col>&lt;int&gt;</th><th scope=col>&lt;int&gt;</th><th scope=col>&lt;int&gt;</th><th scope=col>&lt;int&gt;</th><th scope=col>&lt;int&gt;</th><th scope=col>&lt;int&gt;</th><th scope=col>&lt;int&gt;</th><th scope=col>&lt;int&gt;</th><th scope=col>&lt;dbl&gt;</th></tr>\n",
       "</thead>\n",
       "<tbody>\n",
       "\t<tr><th scope=row>1</th><td>CHP_323-03_cfDNA</td><td>CHP_323_03</td><td>n = 316</td><td>142.96</td><td>20.000</td><td>Passed</td><td>191017_M04827_0284_000000000-D77P2</td><td>n = 316</td><td>305.28</td><td>305.28</td><td>...</td><td>3553899</td><td>549158</td><td>111175</td><td>593458</td><td>4272584</td><td>128</td><td> 0</td><td> 0</td><td>0</td><td>0.8600238</td></tr>\n",
       "\t<tr><th scope=row>2</th><td>CHP_323-05_cfDNA</td><td>CHP_323_05</td><td>n = 316</td><td> 39.56</td><td>20.000</td><td>Passed</td><td>200117_M04827_0343_000000000-D82R9</td><td>n = 316</td><td>614.40</td><td>501.44</td><td>...</td><td>2772203</td><td>255738</td><td>101783</td><td>378530</td><td>3919109</td><td>  0</td><td> 0</td><td> 0</td><td>0</td><td>0.8734095</td></tr>\n",
       "\t<tr><th scope=row>3</th><td>CHP_324-04_cfDNA</td><td>CHP_324_04</td><td>n = 316</td><td> 99.84</td><td>20.000</td><td>Passed</td><td>200108_M04827_0336_000000000-D7Y8P</td><td>n = 316</td><td>264.00</td><td>264.00</td><td>...</td><td>1918562</td><td>560107</td><td>102545</td><td>159952</td><td> 459396</td><td> 78</td><td>28</td><td>28</td><td>0</td><td>0.7406572</td></tr>\n",
       "\t<tr><th scope=row>4</th><td>CHP_324-05_cfDNA</td><td>CHP_324_05</td><td>n = 316</td><td> 17.16</td><td> 9.576</td><td>Passed</td><td>200213_M04827_0362_000000000-D8682</td><td>n = 316</td><td>330.24</td><td>330.24</td><td>...</td><td>1012748</td><td>193564</td><td> 39073</td><td> 89307</td><td>2693686</td><td> 43</td><td>62</td><td> 0</td><td>0</td><td>0.8925282</td></tr>\n",
       "\t<tr><th scope=row>5</th><td>CHP_326-05_cfDNA</td><td>CHP_326_05</td><td>n = 316</td><td> 12.68</td><td> 9.432</td><td>Passed</td><td>200213_M04827_0362_000000000-D8682</td><td>n = 316</td><td>314.88</td><td>314.88</td><td>...</td><td>1074994</td><td>218543</td><td> 36623</td><td>159705</td><td>2667817</td><td>128</td><td> 0</td><td> 0</td><td>0</td><td>0.8737865</td></tr>\n",
       "\t<tr><th scope=row>6</th><td>CHP_328-05_cfDNA</td><td>CHP_328_05</td><td>n = 316</td><td> 14.60</td><td>11.988</td><td>Passed</td><td>200213_M04827_0362_000000000-D8682</td><td>n = 316</td><td>293.76</td><td>293.76</td><td>...</td><td> 958051</td><td>174406</td><td> 38165</td><td>113414</td><td>2939570</td><td> 13</td><td> 0</td><td> 0</td><td>0</td><td>0.8914028</td></tr>\n",
       "</tbody>\n",
       "</table>\n"
      ],
      "text/latex": [
       "A data.frame: 6 x 96\n",
       "\\begin{tabular}{r|lllllllllllllllllllll}\n",
       "  & basename & mysample\\_id & DNA samples & DNAextracted & DNAused & librarypassed & libbatch & Library preparation & libraryyield & DNAforcapture & ... & TRA.chains & TRB.chains & TRD.chains & TRG.chains & TRA.TRD.chains & IGH.chains & IGK.chains & IGL.chains & chains & percaligned\\\\\n",
       "  & <chr> & <chr> & <chr> & <dbl> & <dbl> & <chr> & <chr> & <chr> & <dbl> & <dbl> & ... & <int> & <int> & <int> & <int> & <int> & <int> & <int> & <int> & <int> & <dbl>\\\\\n",
       "\\hline\n",
       "\t1 & CHP\\_323-03\\_cfDNA & CHP\\_323\\_03 & n = 316 & 142.96 & 20.000 & Passed & 191017\\_M04827\\_0284\\_000000000-D77P2 & n = 316 & 305.28 & 305.28 & ... & 3553899 & 549158 & 111175 & 593458 & 4272584 & 128 &  0 &  0 & 0 & 0.8600238\\\\\n",
       "\t2 & CHP\\_323-05\\_cfDNA & CHP\\_323\\_05 & n = 316 &  39.56 & 20.000 & Passed & 200117\\_M04827\\_0343\\_000000000-D82R9 & n = 316 & 614.40 & 501.44 & ... & 2772203 & 255738 & 101783 & 378530 & 3919109 &   0 &  0 &  0 & 0 & 0.8734095\\\\\n",
       "\t3 & CHP\\_324-04\\_cfDNA & CHP\\_324\\_04 & n = 316 &  99.84 & 20.000 & Passed & 200108\\_M04827\\_0336\\_000000000-D7Y8P & n = 316 & 264.00 & 264.00 & ... & 1918562 & 560107 & 102545 & 159952 &  459396 &  78 & 28 & 28 & 0 & 0.7406572\\\\\n",
       "\t4 & CHP\\_324-05\\_cfDNA & CHP\\_324\\_05 & n = 316 &  17.16 &  9.576 & Passed & 200213\\_M04827\\_0362\\_000000000-D8682 & n = 316 & 330.24 & 330.24 & ... & 1012748 & 193564 &  39073 &  89307 & 2693686 &  43 & 62 &  0 & 0 & 0.8925282\\\\\n",
       "\t5 & CHP\\_326-05\\_cfDNA & CHP\\_326\\_05 & n = 316 &  12.68 &  9.432 & Passed & 200213\\_M04827\\_0362\\_000000000-D8682 & n = 316 & 314.88 & 314.88 & ... & 1074994 & 218543 &  36623 & 159705 & 2667817 & 128 &  0 &  0 & 0 & 0.8737865\\\\\n",
       "\t6 & CHP\\_328-05\\_cfDNA & CHP\\_328\\_05 & n = 316 &  14.60 & 11.988 & Passed & 200213\\_M04827\\_0362\\_000000000-D8682 & n = 316 & 293.76 & 293.76 & ... &  958051 & 174406 &  38165 & 113414 & 2939570 &  13 &  0 &  0 & 0 & 0.8914028\\\\\n",
       "\\end{tabular}\n"
      ],
      "text/markdown": [
       "\n",
       "A data.frame: 6 x 96\n",
       "\n",
       "| <!--/--> | basename &lt;chr&gt; | mysample_id &lt;chr&gt; | DNA samples &lt;chr&gt; | DNAextracted &lt;dbl&gt; | DNAused &lt;dbl&gt; | librarypassed &lt;chr&gt; | libbatch &lt;chr&gt; | Library preparation &lt;chr&gt; | libraryyield &lt;dbl&gt; | DNAforcapture &lt;dbl&gt; | ... ... | TRA.chains &lt;int&gt; | TRB.chains &lt;int&gt; | TRD.chains &lt;int&gt; | TRG.chains &lt;int&gt; | TRA.TRD.chains &lt;int&gt; | IGH.chains &lt;int&gt; | IGK.chains &lt;int&gt; | IGL.chains &lt;int&gt; | chains &lt;int&gt; | percaligned &lt;dbl&gt; |\n",
       "|---|---|---|---|---|---|---|---|---|---|---|---|---|---|---|---|---|---|---|---|---|---|\n",
       "| 1 | CHP_323-03_cfDNA | CHP_323_03 | n = 316 | 142.96 | 20.000 | Passed | 191017_M04827_0284_000000000-D77P2 | n = 316 | 305.28 | 305.28 | ... | 3553899 | 549158 | 111175 | 593458 | 4272584 | 128 |  0 |  0 | 0 | 0.8600238 |\n",
       "| 2 | CHP_323-05_cfDNA | CHP_323_05 | n = 316 |  39.56 | 20.000 | Passed | 200117_M04827_0343_000000000-D82R9 | n = 316 | 614.40 | 501.44 | ... | 2772203 | 255738 | 101783 | 378530 | 3919109 |   0 |  0 |  0 | 0 | 0.8734095 |\n",
       "| 3 | CHP_324-04_cfDNA | CHP_324_04 | n = 316 |  99.84 | 20.000 | Passed | 200108_M04827_0336_000000000-D7Y8P | n = 316 | 264.00 | 264.00 | ... | 1918562 | 560107 | 102545 | 159952 |  459396 |  78 | 28 | 28 | 0 | 0.7406572 |\n",
       "| 4 | CHP_324-05_cfDNA | CHP_324_05 | n = 316 |  17.16 |  9.576 | Passed | 200213_M04827_0362_000000000-D8682 | n = 316 | 330.24 | 330.24 | ... | 1012748 | 193564 |  39073 |  89307 | 2693686 |  43 | 62 |  0 | 0 | 0.8925282 |\n",
       "| 5 | CHP_326-05_cfDNA | CHP_326_05 | n = 316 |  12.68 |  9.432 | Passed | 200213_M04827_0362_000000000-D8682 | n = 316 | 314.88 | 314.88 | ... | 1074994 | 218543 |  36623 | 159705 | 2667817 | 128 |  0 |  0 | 0 | 0.8737865 |\n",
       "| 6 | CHP_328-05_cfDNA | CHP_328_05 | n = 316 |  14.60 | 11.988 | Passed | 200213_M04827_0362_000000000-D8682 | n = 316 | 293.76 | 293.76 | ... |  958051 | 174406 |  38165 | 113414 | 2939570 |  13 |  0 |  0 | 0 | 0.8914028 |\n",
       "\n"
      ],
      "text/plain": [
       "  basename         mysample_id DNA samples DNAextracted DNAused librarypassed\n",
       "1 CHP_323-03_cfDNA CHP_323_03  n = 316     142.96       20.000  Passed       \n",
       "2 CHP_323-05_cfDNA CHP_323_05  n = 316      39.56       20.000  Passed       \n",
       "3 CHP_324-04_cfDNA CHP_324_04  n = 316      99.84       20.000  Passed       \n",
       "4 CHP_324-05_cfDNA CHP_324_05  n = 316      17.16        9.576  Passed       \n",
       "5 CHP_326-05_cfDNA CHP_326_05  n = 316      12.68        9.432  Passed       \n",
       "6 CHP_328-05_cfDNA CHP_328_05  n = 316      14.60       11.988  Passed       \n",
       "  libbatch                           Library preparation libraryyield\n",
       "1 191017_M04827_0284_000000000-D77P2 n = 316             305.28      \n",
       "2 200117_M04827_0343_000000000-D82R9 n = 316             614.40      \n",
       "3 200108_M04827_0336_000000000-D7Y8P n = 316             264.00      \n",
       "4 200213_M04827_0362_000000000-D8682 n = 316             330.24      \n",
       "5 200213_M04827_0362_000000000-D8682 n = 316             314.88      \n",
       "6 200213_M04827_0362_000000000-D8682 n = 316             293.76      \n",
       "  DNAforcapture ... TRA.chains TRB.chains TRD.chains TRG.chains TRA.TRD.chains\n",
       "1 305.28        ... 3553899    549158     111175     593458     4272584       \n",
       "2 501.44        ... 2772203    255738     101783     378530     3919109       \n",
       "3 264.00        ... 1918562    560107     102545     159952      459396       \n",
       "4 330.24        ... 1012748    193564      39073      89307     2693686       \n",
       "5 314.88        ... 1074994    218543      36623     159705     2667817       \n",
       "6 293.76        ...  958051    174406      38165     113414     2939570       \n",
       "  IGH.chains IGK.chains IGL.chains chains percaligned\n",
       "1 128         0          0         0      0.8600238  \n",
       "2   0         0          0         0      0.8734095  \n",
       "3  78        28         28         0      0.7406572  \n",
       "4  43        62          0         0      0.8925282  \n",
       "5 128         0          0         0      0.8737865  \n",
       "6  13         0          0         0      0.8914028  "
      ]
     },
     "metadata": {},
     "output_type": "display_data"
    }
   ],
   "source": [
    "head(subset_cfdna)"
   ]
  },
  {
   "cell_type": "code",
   "execution_count": 11,
   "metadata": {
    "vscode": {
     "languageId": "r"
    }
   },
   "outputs": [
    {
     "data": {
      "text/plain": [
       "\n",
       "  ALCL    ALL    AML   ARMS     BL    BLL    CML  DLBCL   ERMS    EWS     HB \n",
       "    15    159     74      8     33     15     25     21     39     44     25 \n",
       "    HD HR ALL    LFS  MS NB     NB Normal     OS  PMBCL    RMS SR ALL  T-ALL \n",
       "    60     93     10      5     25     14     86     14     15     17     26 \n",
       " WILMS \n",
       "    18 "
      ]
     },
     "metadata": {},
     "output_type": "display_data"
    }
   ],
   "source": [
    "table(meta_div$Disease_type)"
   ]
  },
  {
   "cell_type": "code",
   "execution_count": 12,
   "metadata": {
    "vscode": {
     "languageId": "r"
    }
   },
   "outputs": [],
   "source": [
    "meta_div_goodsamples <- meta_div[ which(meta_div$sampletype == \"Tumor\"),] # all tumours\n",
    "meta_div_goodsamples <- rbind(\n",
    "meta_div[ which(meta_div$basename %in% subset_pbmc$basename),], #good pbmcs\n",
    "meta_div[ which(meta_div$basename %in% subset_cfdna$basename),], # good cfDNAs\n",
    "meta_div[ is.na(meta_div$basename),], # all flow-only data\n",
    "meta_div[ which(meta_div$Disease_type == \"LFS\"),], # add LFS\n",
    "meta_div_goodsamples)\n"
   ]
  },
  {
   "cell_type": "code",
   "execution_count": 13,
   "metadata": {
    "vscode": {
     "languageId": "r"
    }
   },
   "outputs": [],
   "source": [
    "#rm(meta_div_goodsamples)"
   ]
  },
  {
   "cell_type": "code",
   "execution_count": 14,
   "metadata": {
    "vscode": {
     "languageId": "r"
    }
   },
   "outputs": [
    {
     "data": {
      "text/html": [
       "<style>\n",
       ".list-inline {list-style: none; margin:0; padding: 0}\n",
       ".list-inline>li {display: inline-block}\n",
       ".list-inline>li:not(:last-child)::after {content: \"\\00b7\"; padding: 0 .5ex}\n",
       "</style>\n",
       "<ol class=list-inline><li>841</li><li>58</li></ol>\n"
      ],
      "text/latex": [
       "\\begin{enumerate*}\n",
       "\\item 841\n",
       "\\item 58\n",
       "\\end{enumerate*}\n"
      ],
      "text/markdown": [
       "1. 841\n",
       "2. 58\n",
       "\n",
       "\n"
      ],
      "text/plain": [
       "[1] 841  58"
      ]
     },
     "metadata": {},
     "output_type": "display_data"
    }
   ],
   "source": [
    "dim(meta_div)"
   ]
  },
  {
   "cell_type": "code",
   "execution_count": 15,
   "metadata": {
    "vscode": {
     "languageId": "r"
    }
   },
   "outputs": [
    {
     "data": {
      "text/html": [
       "<style>\n",
       ".list-inline {list-style: none; margin:0; padding: 0}\n",
       ".list-inline>li {display: inline-block}\n",
       ".list-inline>li:not(:last-child)::after {content: \"\\00b7\"; padding: 0 .5ex}\n",
       "</style>\n",
       "<ol class=list-inline><li>810</li><li>58</li></ol>\n"
      ],
      "text/latex": [
       "\\begin{enumerate*}\n",
       "\\item 810\n",
       "\\item 58\n",
       "\\end{enumerate*}\n"
      ],
      "text/markdown": [
       "1. 810\n",
       "2. 58\n",
       "\n",
       "\n"
      ],
      "text/plain": [
       "[1] 810  58"
      ]
     },
     "metadata": {},
     "output_type": "display_data"
    }
   ],
   "source": [
    "dim(meta_div_goodsamples)"
   ]
  },
  {
   "cell_type": "code",
   "execution_count": 16,
   "metadata": {
    "vscode": {
     "languageId": "r"
    }
   },
   "outputs": [
    {
     "data": {
      "text/plain": [
       "\n",
       " PBMC Tumor cfDNA  <NA> \n",
       "  258    18   278   256 "
      ]
     },
     "metadata": {},
     "output_type": "display_data"
    }
   ],
   "source": [
    "table(meta_div_goodsamples$sampletype, useNA = \"ifany\")"
   ]
  },
  {
   "cell_type": "code",
   "execution_count": 17,
   "metadata": {
    "vscode": {
     "languageId": "r"
    }
   },
   "outputs": [
    {
     "data": {
      "text/html": [
       "<table class=\"dataframe\">\n",
       "<caption>A data.frame: 6 x 95</caption>\n",
       "<thead>\n",
       "\t<tr><th></th><th scope=col>basename</th><th scope=col>mysample_id</th><th scope=col>Shipped</th><th scope=col>DNAextracted</th><th scope=col>DNAused</th><th scope=col>libbatch</th><th scope=col>librarypassed</th><th scope=col>Library preparation</th><th scope=col>libraryyield</th><th scope=col>captureyield</th><th scope=col>...</th><th scope=col>TRA.chains</th><th scope=col>TRB.chains</th><th scope=col>TRD.chains</th><th scope=col>TRG.chains</th><th scope=col>TRA.TRD.chains</th><th scope=col>IGH.chains</th><th scope=col>IGK.chains</th><th scope=col>IGL.chains</th><th scope=col>chains</th><th scope=col>percaligned</th></tr>\n",
       "\t<tr><th></th><th scope=col>&lt;chr&gt;</th><th scope=col>&lt;chr&gt;</th><th scope=col>&lt;chr&gt;</th><th scope=col>&lt;dbl&gt;</th><th scope=col>&lt;dbl&gt;</th><th scope=col>&lt;chr&gt;</th><th scope=col>&lt;chr&gt;</th><th scope=col>&lt;chr&gt;</th><th scope=col>&lt;dbl&gt;</th><th scope=col>&lt;dbl&gt;</th><th scope=col>...</th><th scope=col>&lt;int&gt;</th><th scope=col>&lt;int&gt;</th><th scope=col>&lt;int&gt;</th><th scope=col>&lt;int&gt;</th><th scope=col>&lt;int&gt;</th><th scope=col>&lt;int&gt;</th><th scope=col>&lt;int&gt;</th><th scope=col>&lt;int&gt;</th><th scope=col>&lt;int&gt;</th><th scope=col>&lt;dbl&gt;</th></tr>\n",
       "</thead>\n",
       "<tbody>\n",
       "\t<tr><th scope=row>1</th><td>CHP-328-04-PBMC-DNA</td><td>CHP_328_04</td><td>n = 320</td><td>111.996</td><td>111.996</td><td>200711_M04827_0406_000000000-D8W43</td><td>Passed</td><td>n = 281</td><td> 720.0</td><td>915.8</td><td>...</td><td>3567638</td><td>454942</td><td>103912</td><td>2044714</td><td>3898342</td><td>202</td><td>122</td><td>26</td><td>0</td><td>0.8890611</td></tr>\n",
       "\t<tr><th scope=row>2</th><td>CHP-328-05-PBMC-DNA</td><td>CHP_328_05</td><td>n = 320</td><td>125.870</td><td>125.870</td><td>200711_M04827_0406_000000000-D8W43</td><td>Passed</td><td>n = 281</td><td>1516.8</td><td>535.8</td><td>...</td><td>3457123</td><td>274168</td><td>150033</td><td> 776859</td><td>  92562</td><td> 43</td><td>  0</td><td> 0</td><td>0</td><td>0.8872281</td></tr>\n",
       "\t<tr><th scope=row>4</th><td>CHP-351-03-PBMC-DNA</td><td>CHP_351_03</td><td>n = 320</td><td>410.060</td><td>114.000</td><td>191210_M04827_0319_000000000-D7M28</td><td>Passed</td><td>n = 281</td><td>1219.2</td><td>695.4</td><td>...</td><td>2878428</td><td>324281</td><td>121251</td><td>1619395</td><td>2503466</td><td>370</td><td> 37</td><td>72</td><td>0</td><td>0.8748030</td></tr>\n",
       "\t<tr><th scope=row>5</th><td>CHP-353-04-PBMC-DNA</td><td>CHP_353_04</td><td>n = 320</td><td> 55.488</td><td> 55.488</td><td>200711_M04827_0406_000000000-D8W43</td><td>Passed</td><td>n = 281</td><td>1440.0</td><td>874.0</td><td>...</td><td>3122579</td><td>481025</td><td> 45904</td><td>2374736</td><td>1638907</td><td>204</td><td> 81</td><td>21</td><td>0</td><td>0.9093651</td></tr>\n",
       "\t<tr><th scope=row>6</th><td>CHP-363-04-PBMC-DNA</td><td>CHP_363_04</td><td>n = 320</td><td>509.934</td><td> 73.200</td><td>191210_M04827_0319_000000000-D7M28</td><td>Passed</td><td>n = 281</td><td>1228.8</td><td>619.4</td><td>...</td><td>2223241</td><td>270054</td><td> 70711</td><td>1056268</td><td>2800244</td><td>370</td><td>118</td><td>27</td><td>0</td><td>0.8106374</td></tr>\n",
       "\t<tr><th scope=row>7</th><td>CHP-369-01-PBMC-DNA</td><td>CHP_369_01</td><td>n = 320</td><td>126.000</td><td>113.000</td><td>191223_M04827_0328_000000000-D7VLK</td><td>Passed</td><td>n = 281</td><td> 628.8</td><td>915.8</td><td>...</td><td>7339655</td><td>668267</td><td> 96297</td><td>2899593</td><td>3688473</td><td>288</td><td> 80</td><td>28</td><td>0</td><td>0.9161272</td></tr>\n",
       "</tbody>\n",
       "</table>\n"
      ],
      "text/latex": [
       "A data.frame: 6 x 95\n",
       "\\begin{tabular}{r|lllllllllllllllllllll}\n",
       "  & basename & mysample\\_id & Shipped & DNAextracted & DNAused & libbatch & librarypassed & Library preparation & libraryyield & captureyield & ... & TRA.chains & TRB.chains & TRD.chains & TRG.chains & TRA.TRD.chains & IGH.chains & IGK.chains & IGL.chains & chains & percaligned\\\\\n",
       "  & <chr> & <chr> & <chr> & <dbl> & <dbl> & <chr> & <chr> & <chr> & <dbl> & <dbl> & ... & <int> & <int> & <int> & <int> & <int> & <int> & <int> & <int> & <int> & <dbl>\\\\\n",
       "\\hline\n",
       "\t1 & CHP-328-04-PBMC-DNA & CHP\\_328\\_04 & n = 320 & 111.996 & 111.996 & 200711\\_M04827\\_0406\\_000000000-D8W43 & Passed & n = 281 &  720.0 & 915.8 & ... & 3567638 & 454942 & 103912 & 2044714 & 3898342 & 202 & 122 & 26 & 0 & 0.8890611\\\\\n",
       "\t2 & CHP-328-05-PBMC-DNA & CHP\\_328\\_05 & n = 320 & 125.870 & 125.870 & 200711\\_M04827\\_0406\\_000000000-D8W43 & Passed & n = 281 & 1516.8 & 535.8 & ... & 3457123 & 274168 & 150033 &  776859 &   92562 &  43 &   0 &  0 & 0 & 0.8872281\\\\\n",
       "\t4 & CHP-351-03-PBMC-DNA & CHP\\_351\\_03 & n = 320 & 410.060 & 114.000 & 191210\\_M04827\\_0319\\_000000000-D7M28 & Passed & n = 281 & 1219.2 & 695.4 & ... & 2878428 & 324281 & 121251 & 1619395 & 2503466 & 370 &  37 & 72 & 0 & 0.8748030\\\\\n",
       "\t5 & CHP-353-04-PBMC-DNA & CHP\\_353\\_04 & n = 320 &  55.488 &  55.488 & 200711\\_M04827\\_0406\\_000000000-D8W43 & Passed & n = 281 & 1440.0 & 874.0 & ... & 3122579 & 481025 &  45904 & 2374736 & 1638907 & 204 &  81 & 21 & 0 & 0.9093651\\\\\n",
       "\t6 & CHP-363-04-PBMC-DNA & CHP\\_363\\_04 & n = 320 & 509.934 &  73.200 & 191210\\_M04827\\_0319\\_000000000-D7M28 & Passed & n = 281 & 1228.8 & 619.4 & ... & 2223241 & 270054 &  70711 & 1056268 & 2800244 & 370 & 118 & 27 & 0 & 0.8106374\\\\\n",
       "\t7 & CHP-369-01-PBMC-DNA & CHP\\_369\\_01 & n = 320 & 126.000 & 113.000 & 191223\\_M04827\\_0328\\_000000000-D7VLK & Passed & n = 281 &  628.8 & 915.8 & ... & 7339655 & 668267 &  96297 & 2899593 & 3688473 & 288 &  80 & 28 & 0 & 0.9161272\\\\\n",
       "\\end{tabular}\n"
      ],
      "text/markdown": [
       "\n",
       "A data.frame: 6 x 95\n",
       "\n",
       "| <!--/--> | basename &lt;chr&gt; | mysample_id &lt;chr&gt; | Shipped &lt;chr&gt; | DNAextracted &lt;dbl&gt; | DNAused &lt;dbl&gt; | libbatch &lt;chr&gt; | librarypassed &lt;chr&gt; | Library preparation &lt;chr&gt; | libraryyield &lt;dbl&gt; | captureyield &lt;dbl&gt; | ... ... | TRA.chains &lt;int&gt; | TRB.chains &lt;int&gt; | TRD.chains &lt;int&gt; | TRG.chains &lt;int&gt; | TRA.TRD.chains &lt;int&gt; | IGH.chains &lt;int&gt; | IGK.chains &lt;int&gt; | IGL.chains &lt;int&gt; | chains &lt;int&gt; | percaligned &lt;dbl&gt; |\n",
       "|---|---|---|---|---|---|---|---|---|---|---|---|---|---|---|---|---|---|---|---|---|---|\n",
       "| 1 | CHP-328-04-PBMC-DNA | CHP_328_04 | n = 320 | 111.996 | 111.996 | 200711_M04827_0406_000000000-D8W43 | Passed | n = 281 |  720.0 | 915.8 | ... | 3567638 | 454942 | 103912 | 2044714 | 3898342 | 202 | 122 | 26 | 0 | 0.8890611 |\n",
       "| 2 | CHP-328-05-PBMC-DNA | CHP_328_05 | n = 320 | 125.870 | 125.870 | 200711_M04827_0406_000000000-D8W43 | Passed | n = 281 | 1516.8 | 535.8 | ... | 3457123 | 274168 | 150033 |  776859 |   92562 |  43 |   0 |  0 | 0 | 0.8872281 |\n",
       "| 4 | CHP-351-03-PBMC-DNA | CHP_351_03 | n = 320 | 410.060 | 114.000 | 191210_M04827_0319_000000000-D7M28 | Passed | n = 281 | 1219.2 | 695.4 | ... | 2878428 | 324281 | 121251 | 1619395 | 2503466 | 370 |  37 | 72 | 0 | 0.8748030 |\n",
       "| 5 | CHP-353-04-PBMC-DNA | CHP_353_04 | n = 320 |  55.488 |  55.488 | 200711_M04827_0406_000000000-D8W43 | Passed | n = 281 | 1440.0 | 874.0 | ... | 3122579 | 481025 |  45904 | 2374736 | 1638907 | 204 |  81 | 21 | 0 | 0.9093651 |\n",
       "| 6 | CHP-363-04-PBMC-DNA | CHP_363_04 | n = 320 | 509.934 |  73.200 | 191210_M04827_0319_000000000-D7M28 | Passed | n = 281 | 1228.8 | 619.4 | ... | 2223241 | 270054 |  70711 | 1056268 | 2800244 | 370 | 118 | 27 | 0 | 0.8106374 |\n",
       "| 7 | CHP-369-01-PBMC-DNA | CHP_369_01 | n = 320 | 126.000 | 113.000 | 191223_M04827_0328_000000000-D7VLK | Passed | n = 281 |  628.8 | 915.8 | ... | 7339655 | 668267 |  96297 | 2899593 | 3688473 | 288 |  80 | 28 | 0 | 0.9161272 |\n",
       "\n"
      ],
      "text/plain": [
       "  basename            mysample_id Shipped DNAextracted DNAused\n",
       "1 CHP-328-04-PBMC-DNA CHP_328_04  n = 320 111.996      111.996\n",
       "2 CHP-328-05-PBMC-DNA CHP_328_05  n = 320 125.870      125.870\n",
       "4 CHP-351-03-PBMC-DNA CHP_351_03  n = 320 410.060      114.000\n",
       "5 CHP-353-04-PBMC-DNA CHP_353_04  n = 320  55.488       55.488\n",
       "6 CHP-363-04-PBMC-DNA CHP_363_04  n = 320 509.934       73.200\n",
       "7 CHP-369-01-PBMC-DNA CHP_369_01  n = 320 126.000      113.000\n",
       "  libbatch                           librarypassed Library preparation\n",
       "1 200711_M04827_0406_000000000-D8W43 Passed        n = 281            \n",
       "2 200711_M04827_0406_000000000-D8W43 Passed        n = 281            \n",
       "4 191210_M04827_0319_000000000-D7M28 Passed        n = 281            \n",
       "5 200711_M04827_0406_000000000-D8W43 Passed        n = 281            \n",
       "6 191210_M04827_0319_000000000-D7M28 Passed        n = 281            \n",
       "7 191223_M04827_0328_000000000-D7VLK Passed        n = 281            \n",
       "  libraryyield captureyield ... TRA.chains TRB.chains TRD.chains TRG.chains\n",
       "1  720.0       915.8        ... 3567638    454942     103912     2044714   \n",
       "2 1516.8       535.8        ... 3457123    274168     150033      776859   \n",
       "4 1219.2       695.4        ... 2878428    324281     121251     1619395   \n",
       "5 1440.0       874.0        ... 3122579    481025      45904     2374736   \n",
       "6 1228.8       619.4        ... 2223241    270054      70711     1056268   \n",
       "7  628.8       915.8        ... 7339655    668267      96297     2899593   \n",
       "  TRA.TRD.chains IGH.chains IGK.chains IGL.chains chains percaligned\n",
       "1 3898342        202        122        26         0      0.8890611  \n",
       "2   92562         43          0         0         0      0.8872281  \n",
       "4 2503466        370         37        72         0      0.8748030  \n",
       "5 1638907        204         81        21         0      0.9093651  \n",
       "6 2800244        370        118        27         0      0.8106374  \n",
       "7 3688473        288         80        28         0      0.9161272  "
      ]
     },
     "metadata": {},
     "output_type": "display_data"
    }
   ],
   "source": [
    "head(subset_pbmc)"
   ]
  },
  {
   "cell_type": "code",
   "execution_count": 18,
   "metadata": {
    "vscode": {
     "languageId": "r"
    }
   },
   "outputs": [
    {
     "data": {
      "text/html": [
       "<table class=\"dataframe\">\n",
       "<caption>A data.frame: 1 x 95</caption>\n",
       "<thead>\n",
       "\t<tr><th></th><th scope=col>basename</th><th scope=col>mysample_id</th><th scope=col>Shipped</th><th scope=col>DNAextracted</th><th scope=col>DNAused</th><th scope=col>libbatch</th><th scope=col>librarypassed</th><th scope=col>Library preparation</th><th scope=col>libraryyield</th><th scope=col>captureyield</th><th scope=col>...</th><th scope=col>TRA.chains</th><th scope=col>TRB.chains</th><th scope=col>TRD.chains</th><th scope=col>TRG.chains</th><th scope=col>TRA.TRD.chains</th><th scope=col>IGH.chains</th><th scope=col>IGK.chains</th><th scope=col>IGL.chains</th><th scope=col>chains</th><th scope=col>percaligned</th></tr>\n",
       "\t<tr><th></th><th scope=col>&lt;chr&gt;</th><th scope=col>&lt;chr&gt;</th><th scope=col>&lt;chr&gt;</th><th scope=col>&lt;dbl&gt;</th><th scope=col>&lt;dbl&gt;</th><th scope=col>&lt;chr&gt;</th><th scope=col>&lt;chr&gt;</th><th scope=col>&lt;chr&gt;</th><th scope=col>&lt;dbl&gt;</th><th scope=col>&lt;dbl&gt;</th><th scope=col>...</th><th scope=col>&lt;int&gt;</th><th scope=col>&lt;int&gt;</th><th scope=col>&lt;int&gt;</th><th scope=col>&lt;int&gt;</th><th scope=col>&lt;int&gt;</th><th scope=col>&lt;int&gt;</th><th scope=col>&lt;int&gt;</th><th scope=col>&lt;int&gt;</th><th scope=col>&lt;int&gt;</th><th scope=col>&lt;dbl&gt;</th></tr>\n",
       "</thead>\n",
       "<tbody>\n",
       "\t<tr><th scope=row>145</th><td>CHP_372-01-PBMC-DNA</td><td>CHP_372_01</td><td>n = 320</td><td>9260</td><td>600</td><td>190607_M04827_0206_000000000-D6C75</td><td>Passed</td><td>n = 281</td><td>5040</td><td>58.14</td><td>...</td><td>4296299</td><td>945719</td><td>188076</td><td>381059</td><td>288983</td><td>0</td><td>0</td><td>0</td><td>0</td><td>0.6784307</td></tr>\n",
       "</tbody>\n",
       "</table>\n"
      ],
      "text/latex": [
       "A data.frame: 1 x 95\n",
       "\\begin{tabular}{r|lllllllllllllllllllll}\n",
       "  & basename & mysample\\_id & Shipped & DNAextracted & DNAused & libbatch & librarypassed & Library preparation & libraryyield & captureyield & ... & TRA.chains & TRB.chains & TRD.chains & TRG.chains & TRA.TRD.chains & IGH.chains & IGK.chains & IGL.chains & chains & percaligned\\\\\n",
       "  & <chr> & <chr> & <chr> & <dbl> & <dbl> & <chr> & <chr> & <chr> & <dbl> & <dbl> & ... & <int> & <int> & <int> & <int> & <int> & <int> & <int> & <int> & <int> & <dbl>\\\\\n",
       "\\hline\n",
       "\t145 & CHP\\_372-01-PBMC-DNA & CHP\\_372\\_01 & n = 320 & 9260 & 600 & 190607\\_M04827\\_0206\\_000000000-D6C75 & Passed & n = 281 & 5040 & 58.14 & ... & 4296299 & 945719 & 188076 & 381059 & 288983 & 0 & 0 & 0 & 0 & 0.6784307\\\\\n",
       "\\end{tabular}\n"
      ],
      "text/markdown": [
       "\n",
       "A data.frame: 1 x 95\n",
       "\n",
       "| <!--/--> | basename &lt;chr&gt; | mysample_id &lt;chr&gt; | Shipped &lt;chr&gt; | DNAextracted &lt;dbl&gt; | DNAused &lt;dbl&gt; | libbatch &lt;chr&gt; | librarypassed &lt;chr&gt; | Library preparation &lt;chr&gt; | libraryyield &lt;dbl&gt; | captureyield &lt;dbl&gt; | ... ... | TRA.chains &lt;int&gt; | TRB.chains &lt;int&gt; | TRD.chains &lt;int&gt; | TRG.chains &lt;int&gt; | TRA.TRD.chains &lt;int&gt; | IGH.chains &lt;int&gt; | IGK.chains &lt;int&gt; | IGL.chains &lt;int&gt; | chains &lt;int&gt; | percaligned &lt;dbl&gt; |\n",
       "|---|---|---|---|---|---|---|---|---|---|---|---|---|---|---|---|---|---|---|---|---|---|\n",
       "| 145 | CHP_372-01-PBMC-DNA | CHP_372_01 | n = 320 | 9260 | 600 | 190607_M04827_0206_000000000-D6C75 | Passed | n = 281 | 5040 | 58.14 | ... | 4296299 | 945719 | 188076 | 381059 | 288983 | 0 | 0 | 0 | 0 | 0.6784307 |\n",
       "\n"
      ],
      "text/plain": [
       "    basename            mysample_id Shipped DNAextracted DNAused\n",
       "145 CHP_372-01-PBMC-DNA CHP_372_01  n = 320 9260         600    \n",
       "    libbatch                           librarypassed Library preparation\n",
       "145 190607_M04827_0206_000000000-D6C75 Passed        n = 281            \n",
       "    libraryyield captureyield ... TRA.chains TRB.chains TRD.chains TRG.chains\n",
       "145 5040         58.14        ... 4296299    945719     188076     381059    \n",
       "    TRA.TRD.chains IGH.chains IGK.chains IGL.chains chains percaligned\n",
       "145 288983         0          0          0          0      0.6784307  "
      ]
     },
     "metadata": {},
     "output_type": "display_data"
    }
   ],
   "source": [
    "subset_pbmc[ grepl(\"372\",subset_pbmc$mysample_id),]"
   ]
  },
  {
   "cell_type": "code",
   "execution_count": 19,
   "metadata": {
    "vscode": {
     "languageId": "r"
    }
   },
   "outputs": [
    {
     "data": {
      "text/html": [
       "<style>\n",
       ".list-inline {list-style: none; margin:0; padding: 0}\n",
       ".list-inline>li {display: inline-block}\n",
       ".list-inline>li:not(:last-child)::after {content: \"\\00b7\"; padding: 0 .5ex}\n",
       "</style>\n",
       "<ol class=list-inline><li>278</li><li>96</li></ol>\n"
      ],
      "text/latex": [
       "\\begin{enumerate*}\n",
       "\\item 278\n",
       "\\item 96\n",
       "\\end{enumerate*}\n"
      ],
      "text/markdown": [
       "1. 278\n",
       "2. 96\n",
       "\n",
       "\n"
      ],
      "text/plain": [
       "[1] 278  96"
      ]
     },
     "metadata": {},
     "output_type": "display_data"
    }
   ],
   "source": [
    "dim(subset_cfdna)"
   ]
  },
  {
   "cell_type": "code",
   "execution_count": 20,
   "metadata": {
    "vscode": {
     "languageId": "r"
    }
   },
   "outputs": [
    {
     "data": {
      "text/html": [
       "<table class=\"dataframe\">\n",
       "<caption>A data.frame: 7 x 58</caption>\n",
       "<thead>\n",
       "\t<tr><th></th><th scope=col>sample_id</th><th scope=col>Patient</th><th scope=col>cycle</th><th scope=col>FOLD</th><th scope=col>ATC</th><th scope=col>Age</th><th scope=col>Disease_type</th><th scope=col>TE_fold</th><th scope=col>Pass</th><th scope=col>CD3</th><th scope=col>...</th><th scope=col>observed_Shannon</th><th scope=col>estimated_Shannon</th><th scope=col>SE_Shannon</th><th scope=col>observed_Simpson</th><th scope=col>estimated_Simpson</th><th scope=col>SE_Simpson</th><th scope=col>file</th><th scope=col>basename</th><th scope=col>Group</th><th scope=col>sampletype</th></tr>\n",
       "\t<tr><th></th><th scope=col>&lt;chr&gt;</th><th scope=col>&lt;chr&gt;</th><th scope=col>&lt;chr&gt;</th><th scope=col>&lt;dbl&gt;</th><th scope=col>&lt;dbl&gt;</th><th scope=col>&lt;dbl&gt;</th><th scope=col>&lt;chr&gt;</th><th scope=col>&lt;chr&gt;</th><th scope=col>&lt;lgl&gt;</th><th scope=col>&lt;int&gt;</th><th scope=col>...</th><th scope=col>&lt;dbl&gt;</th><th scope=col>&lt;dbl&gt;</th><th scope=col>&lt;dbl&gt;</th><th scope=col>&lt;dbl&gt;</th><th scope=col>&lt;dbl&gt;</th><th scope=col>&lt;dbl&gt;</th><th scope=col>&lt;chr&gt;</th><th scope=col>&lt;chr&gt;</th><th scope=col>&lt;chr&gt;</th><th scope=col>&lt;chr&gt;</th></tr>\n",
       "</thead>\n",
       "<tbody>\n",
       "\t<tr><th scope=row>374</th><td>CHP_372_01</td><td>CHP_372</td><td>X01</td><td> 1</td><td> 0</td><td>21</td><td>BL</td><td>1 </td><td>NA</td><td>328</td><td>...</td><td>2.724</td><td>2.733</td><td>0.060</td><td>2.553</td><td>2.565</td><td>0.081</td><td>batch_reseq_24Feb2020/mixcr/clones/CLONES_TRBCHP_372-01-PBMC-DNA.txt</td><td>CHP_372-01-PBMC-DNA</td><td>CHP</td><td>PBMC </td></tr>\n",
       "\t<tr><th scope=row>373</th><td>CHP_372_01</td><td>CHP_372</td><td>X01</td><td> 1</td><td> 0</td><td>21</td><td>BL</td><td>1 </td><td>NA</td><td>328</td><td>...</td><td>2.784</td><td>2.815</td><td>0.155</td><td>2.328</td><td>2.351</td><td>0.188</td><td>batch1_cfDNA_30Jan2020/mixcr/clones/CLONES_TRBCHP_372-01-cfDNA.txt  </td><td>CHP_372-01-cfDNA   </td><td>CHP</td><td>cfDNA</td></tr>\n",
       "\t<tr><th scope=row>375</th><td>CHP_372_02</td><td>CHP_372</td><td>X02</td><td> 0</td><td> 0</td><td>21</td><td>BL</td><td>0 </td><td>NA</td><td>  0</td><td>...</td><td>   NA</td><td>   NA</td><td>   NA</td><td>   NA</td><td>   NA</td><td>   NA</td><td>NA                                                                  </td><td>NA                 </td><td>CHP</td><td>NA   </td></tr>\n",
       "\t<tr><th scope=row>376</th><td>CHP_372_03</td><td>CHP_372</td><td>X03</td><td> 0</td><td> 0</td><td>21</td><td>BL</td><td>0 </td><td>NA</td><td>  0</td><td>...</td><td>   NA</td><td>   NA</td><td>   NA</td><td>   NA</td><td>   NA</td><td>   NA</td><td>NA                                                                  </td><td>NA                 </td><td>CHP</td><td>NA   </td></tr>\n",
       "\t<tr><th scope=row>377</th><td>CHP_372_04</td><td>CHP_372</td><td>X04</td><td> 0</td><td> 0</td><td>21</td><td>BL</td><td>0 </td><td>NA</td><td>  0</td><td>...</td><td>   NA</td><td>   NA</td><td>   NA</td><td>   NA</td><td>   NA</td><td>   NA</td><td>NA                                                                  </td><td>NA                 </td><td>CHP</td><td>NA   </td></tr>\n",
       "\t<tr><th scope=row>378</th><td>CHP_372_05</td><td>CHP_372</td><td>X05</td><td> 0</td><td> 0</td><td>21</td><td>BL</td><td>0 </td><td>NA</td><td>  0</td><td>...</td><td>   NA</td><td>   NA</td><td>   NA</td><td>   NA</td><td>   NA</td><td>   NA</td><td>NA                                                                  </td><td>NA                 </td><td>CHP</td><td>NA   </td></tr>\n",
       "\t<tr><th scope=row>372</th><td>CHP_372   </td><td>CHP_372</td><td>X00</td><td>NA</td><td>NA</td><td>NA</td><td>BL</td><td>NA</td><td>NA</td><td> NA</td><td>...</td><td>2.406</td><td>2.412</td><td>0.047</td><td>1.739</td><td>1.740</td><td>0.034</td><td>batchFFPE_3Apr2020/mixcr/clones/CLONES_TRBCHP_372-FFPE-DNA_S1.txt   </td><td>CHP_372-FFPE-DNA_S1</td><td>CHP</td><td>Tumor</td></tr>\n",
       "</tbody>\n",
       "</table>\n"
      ],
      "text/latex": [
       "A data.frame: 7 x 58\n",
       "\\begin{tabular}{r|lllllllllllllllllllll}\n",
       "  & sample\\_id & Patient & cycle & FOLD & ATC & Age & Disease\\_type & TE\\_fold & Pass & CD3 & ... & observed\\_Shannon & estimated\\_Shannon & SE\\_Shannon & observed\\_Simpson & estimated\\_Simpson & SE\\_Simpson & file & basename & Group & sampletype\\\\\n",
       "  & <chr> & <chr> & <chr> & <dbl> & <dbl> & <dbl> & <chr> & <chr> & <lgl> & <int> & ... & <dbl> & <dbl> & <dbl> & <dbl> & <dbl> & <dbl> & <chr> & <chr> & <chr> & <chr>\\\\\n",
       "\\hline\n",
       "\t374 & CHP\\_372\\_01 & CHP\\_372 & X01 &  1 &  0 & 21 & BL & 1  & NA & 328 & ... & 2.724 & 2.733 & 0.060 & 2.553 & 2.565 & 0.081 & batch\\_reseq\\_24Feb2020/mixcr/clones/CLONES\\_TRBCHP\\_372-01-PBMC-DNA.txt & CHP\\_372-01-PBMC-DNA & CHP & PBMC \\\\\n",
       "\t373 & CHP\\_372\\_01 & CHP\\_372 & X01 &  1 &  0 & 21 & BL & 1  & NA & 328 & ... & 2.784 & 2.815 & 0.155 & 2.328 & 2.351 & 0.188 & batch1\\_cfDNA\\_30Jan2020/mixcr/clones/CLONES\\_TRBCHP\\_372-01-cfDNA.txt   & CHP\\_372-01-cfDNA    & CHP & cfDNA\\\\\n",
       "\t375 & CHP\\_372\\_02 & CHP\\_372 & X02 &  0 &  0 & 21 & BL & 0  & NA &   0 & ... &    NA &    NA &    NA &    NA &    NA &    NA & NA                                                                   & NA                  & CHP & NA   \\\\\n",
       "\t376 & CHP\\_372\\_03 & CHP\\_372 & X03 &  0 &  0 & 21 & BL & 0  & NA &   0 & ... &    NA &    NA &    NA &    NA &    NA &    NA & NA                                                                   & NA                  & CHP & NA   \\\\\n",
       "\t377 & CHP\\_372\\_04 & CHP\\_372 & X04 &  0 &  0 & 21 & BL & 0  & NA &   0 & ... &    NA &    NA &    NA &    NA &    NA &    NA & NA                                                                   & NA                  & CHP & NA   \\\\\n",
       "\t378 & CHP\\_372\\_05 & CHP\\_372 & X05 &  0 &  0 & 21 & BL & 0  & NA &   0 & ... &    NA &    NA &    NA &    NA &    NA &    NA & NA                                                                   & NA                  & CHP & NA   \\\\\n",
       "\t372 & CHP\\_372    & CHP\\_372 & X00 & NA & NA & NA & BL & NA & NA &  NA & ... & 2.406 & 2.412 & 0.047 & 1.739 & 1.740 & 0.034 & batchFFPE\\_3Apr2020/mixcr/clones/CLONES\\_TRBCHP\\_372-FFPE-DNA\\_S1.txt    & CHP\\_372-FFPE-DNA\\_S1 & CHP & Tumor\\\\\n",
       "\\end{tabular}\n"
      ],
      "text/markdown": [
       "\n",
       "A data.frame: 7 x 58\n",
       "\n",
       "| <!--/--> | sample_id &lt;chr&gt; | Patient &lt;chr&gt; | cycle &lt;chr&gt; | FOLD &lt;dbl&gt; | ATC &lt;dbl&gt; | Age &lt;dbl&gt; | Disease_type &lt;chr&gt; | TE_fold &lt;chr&gt; | Pass &lt;lgl&gt; | CD3 &lt;int&gt; | ... ... | observed_Shannon &lt;dbl&gt; | estimated_Shannon &lt;dbl&gt; | SE_Shannon &lt;dbl&gt; | observed_Simpson &lt;dbl&gt; | estimated_Simpson &lt;dbl&gt; | SE_Simpson &lt;dbl&gt; | file &lt;chr&gt; | basename &lt;chr&gt; | Group &lt;chr&gt; | sampletype &lt;chr&gt; |\n",
       "|---|---|---|---|---|---|---|---|---|---|---|---|---|---|---|---|---|---|---|---|---|---|\n",
       "| 374 | CHP_372_01 | CHP_372 | X01 |  1 |  0 | 21 | BL | 1  | NA | 328 | ... | 2.724 | 2.733 | 0.060 | 2.553 | 2.565 | 0.081 | batch_reseq_24Feb2020/mixcr/clones/CLONES_TRBCHP_372-01-PBMC-DNA.txt | CHP_372-01-PBMC-DNA | CHP | PBMC  |\n",
       "| 373 | CHP_372_01 | CHP_372 | X01 |  1 |  0 | 21 | BL | 1  | NA | 328 | ... | 2.784 | 2.815 | 0.155 | 2.328 | 2.351 | 0.188 | batch1_cfDNA_30Jan2020/mixcr/clones/CLONES_TRBCHP_372-01-cfDNA.txt   | CHP_372-01-cfDNA    | CHP | cfDNA |\n",
       "| 375 | CHP_372_02 | CHP_372 | X02 |  0 |  0 | 21 | BL | 0  | NA |   0 | ... |    NA |    NA |    NA |    NA |    NA |    NA | NA                                                                   | NA                  | CHP | NA    |\n",
       "| 376 | CHP_372_03 | CHP_372 | X03 |  0 |  0 | 21 | BL | 0  | NA |   0 | ... |    NA |    NA |    NA |    NA |    NA |    NA | NA                                                                   | NA                  | CHP | NA    |\n",
       "| 377 | CHP_372_04 | CHP_372 | X04 |  0 |  0 | 21 | BL | 0  | NA |   0 | ... |    NA |    NA |    NA |    NA |    NA |    NA | NA                                                                   | NA                  | CHP | NA    |\n",
       "| 378 | CHP_372_05 | CHP_372 | X05 |  0 |  0 | 21 | BL | 0  | NA |   0 | ... |    NA |    NA |    NA |    NA |    NA |    NA | NA                                                                   | NA                  | CHP | NA    |\n",
       "| 372 | CHP_372    | CHP_372 | X00 | NA | NA | NA | BL | NA | NA |  NA | ... | 2.406 | 2.412 | 0.047 | 1.739 | 1.740 | 0.034 | batchFFPE_3Apr2020/mixcr/clones/CLONES_TRBCHP_372-FFPE-DNA_S1.txt    | CHP_372-FFPE-DNA_S1 | CHP | Tumor |\n",
       "\n"
      ],
      "text/plain": [
       "    sample_id  Patient cycle FOLD ATC Age Disease_type TE_fold Pass CD3 ...\n",
       "374 CHP_372_01 CHP_372 X01    1    0  21  BL           1       NA   328 ...\n",
       "373 CHP_372_01 CHP_372 X01    1    0  21  BL           1       NA   328 ...\n",
       "375 CHP_372_02 CHP_372 X02    0    0  21  BL           0       NA     0 ...\n",
       "376 CHP_372_03 CHP_372 X03    0    0  21  BL           0       NA     0 ...\n",
       "377 CHP_372_04 CHP_372 X04    0    0  21  BL           0       NA     0 ...\n",
       "378 CHP_372_05 CHP_372 X05    0    0  21  BL           0       NA     0 ...\n",
       "372 CHP_372    CHP_372 X00   NA   NA  NA  BL           NA      NA    NA ...\n",
       "    observed_Shannon estimated_Shannon SE_Shannon observed_Simpson\n",
       "374 2.724            2.733             0.060      2.553           \n",
       "373 2.784            2.815             0.155      2.328           \n",
       "375    NA               NA                NA         NA           \n",
       "376    NA               NA                NA         NA           \n",
       "377    NA               NA                NA         NA           \n",
       "378    NA               NA                NA         NA           \n",
       "372 2.406            2.412             0.047      1.739           \n",
       "    estimated_Simpson SE_Simpson\n",
       "374 2.565             0.081     \n",
       "373 2.351             0.188     \n",
       "375    NA                NA     \n",
       "376    NA                NA     \n",
       "377    NA                NA     \n",
       "378    NA                NA     \n",
       "372 1.740             0.034     \n",
       "    file                                                                \n",
       "374 batch_reseq_24Feb2020/mixcr/clones/CLONES_TRBCHP_372-01-PBMC-DNA.txt\n",
       "373 batch1_cfDNA_30Jan2020/mixcr/clones/CLONES_TRBCHP_372-01-cfDNA.txt  \n",
       "375 NA                                                                  \n",
       "376 NA                                                                  \n",
       "377 NA                                                                  \n",
       "378 NA                                                                  \n",
       "372 batchFFPE_3Apr2020/mixcr/clones/CLONES_TRBCHP_372-FFPE-DNA_S1.txt   \n",
       "    basename            Group sampletype\n",
       "374 CHP_372-01-PBMC-DNA CHP   PBMC      \n",
       "373 CHP_372-01-cfDNA    CHP   cfDNA     \n",
       "375 NA                  CHP   NA        \n",
       "376 NA                  CHP   NA        \n",
       "377 NA                  CHP   NA        \n",
       "378 NA                  CHP   NA        \n",
       "372 CHP_372-FFPE-DNA_S1 CHP   Tumor     "
      ]
     },
     "metadata": {},
     "output_type": "display_data"
    }
   ],
   "source": [
    "meta_div_goodsamples[ meta_div_goodsamples$Patient == \"CHP_372\",]"
   ]
  },
  {
   "cell_type": "code",
   "execution_count": 21,
   "metadata": {
    "vscode": {
     "languageId": "r"
    }
   },
   "outputs": [],
   "source": [
    "readr::write_rds(meta_div_goodsamples, paste0(datapath, \"capTCRseq/meta_div_goodsamples.rds\"))"
   ]
  },
  {
   "cell_type": "code",
   "execution_count": null,
   "metadata": {
    "vscode": {
     "languageId": "r"
    }
   },
   "outputs": [],
   "source": []
  }
 ],
 "metadata": {
  "kernelspec": {
   "display_name": "R 4.0",
   "language": "R",
   "name": "ir40"
  },
  "language_info": {
   "codemirror_mode": "r",
   "file_extension": ".r",
   "mimetype": "text/x-r-source",
   "name": "R",
   "pygments_lexer": "r",
   "version": "4.2.2"
  },
  "toc": {
   "base_numbering": 1,
   "nav_menu": {},
   "number_sections": false,
   "sideBar": true,
   "skip_h1_title": false,
   "title_cell": "Table of Contents",
   "title_sidebar": "Contents",
   "toc_cell": true,
   "toc_position": {
    "height": "calc(100% - 180px)",
    "left": "10px",
    "top": "150px",
    "width": "206.5px"
   },
   "toc_section_display": true,
   "toc_window_display": true
  }
 },
 "nbformat": 4,
 "nbformat_minor": 2
}
