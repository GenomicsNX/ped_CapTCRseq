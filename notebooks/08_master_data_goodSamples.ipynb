{
 "cells": [
  {
   "cell_type": "markdown",
   "metadata": {},
   "source": [
    "# Dependencies"
   ]
  },
  {
   "cell_type": "markdown",
   "metadata": {},
   "source": [
    "# Functions"
   ]
  },
  {
   "cell_type": "markdown",
   "metadata": {},
   "source": [
    "# Paths"
   ]
  },
  {
   "cell_type": "code",
   "execution_count": 1,
   "metadata": {
    "vscode": {
     "languageId": "r"
    }
   },
   "outputs": [],
   "source": [
    "datapath <- \"/Users/anabbi/OneDrive - UHN/Documents/INTERCEPT/Data/\"\n",
    "plotpath <- \"/Users/anabbi/OneDrive - UHN/Documents/INTERCEPT/Plots/\"\n",
    "manifestpath <- \"/Users/anabbi/OneDrive - UHN/Documents/INTERCEPT/Manifests/\"\n",
    "\n",
    "gitpath <- \"/Users/anabbi/git/ped_CapTCRseq/\""
   ]
  },
  {
   "cell_type": "markdown",
   "metadata": {},
   "source": [
    "# Main"
   ]
  },
  {
   "cell_type": "markdown",
   "metadata": {},
   "source": [
    "# PBMC"
   ]
  },
  {
   "cell_type": "code",
   "execution_count": 2,
   "metadata": {
    "vscode": {
     "languageId": "r"
    }
   },
   "outputs": [],
   "source": [
    "load(file = paste0(datapath, \"capTCRseq/PBMC_GoodSamples.RData\"))"
   ]
  },
  {
   "cell_type": "code",
   "execution_count": 3,
   "metadata": {
    "vscode": {
     "languageId": "r"
    }
   },
   "outputs": [
    {
     "data": {
      "text/html": [
       "<table class=\"dataframe\">\n",
       "<caption>A data.frame: 6 x 95</caption>\n",
       "<thead>\n",
       "\t<tr><th></th><th scope=col>basename</th><th scope=col>mysample_id</th><th scope=col>Shipped</th><th scope=col>DNAextracted</th><th scope=col>DNAused</th><th scope=col>libbatch</th><th scope=col>librarypassed</th><th scope=col>Library preparation</th><th scope=col>libraryyield</th><th scope=col>captureyield</th><th scope=col>...</th><th scope=col>TRA.chains</th><th scope=col>TRB.chains</th><th scope=col>TRD.chains</th><th scope=col>TRG.chains</th><th scope=col>TRA.TRD.chains</th><th scope=col>IGH.chains</th><th scope=col>IGK.chains</th><th scope=col>IGL.chains</th><th scope=col>chains</th><th scope=col>percaligned</th></tr>\n",
       "\t<tr><th></th><th scope=col>&lt;chr&gt;</th><th scope=col>&lt;chr&gt;</th><th scope=col>&lt;chr&gt;</th><th scope=col>&lt;dbl&gt;</th><th scope=col>&lt;dbl&gt;</th><th scope=col>&lt;chr&gt;</th><th scope=col>&lt;chr&gt;</th><th scope=col>&lt;chr&gt;</th><th scope=col>&lt;dbl&gt;</th><th scope=col>&lt;dbl&gt;</th><th scope=col>...</th><th scope=col>&lt;int&gt;</th><th scope=col>&lt;int&gt;</th><th scope=col>&lt;int&gt;</th><th scope=col>&lt;int&gt;</th><th scope=col>&lt;int&gt;</th><th scope=col>&lt;int&gt;</th><th scope=col>&lt;int&gt;</th><th scope=col>&lt;int&gt;</th><th scope=col>&lt;int&gt;</th><th scope=col>&lt;dbl&gt;</th></tr>\n",
       "</thead>\n",
       "<tbody>\n",
       "\t<tr><th scope=row>1</th><td>CHP-328-04-PBMC-DNA</td><td>CHP_328_04</td><td>n = 320</td><td>111.996</td><td>111.996</td><td>200711_M04827_0406_000000000-D8W43</td><td>Passed</td><td>n = 281</td><td> 720.0</td><td>915.8</td><td>...</td><td>3567638</td><td>454942</td><td>103912</td><td>2044714</td><td>3898342</td><td>202</td><td>122</td><td>26</td><td>0</td><td>0.8890611</td></tr>\n",
       "\t<tr><th scope=row>2</th><td>CHP-328-05-PBMC-DNA</td><td>CHP_328_05</td><td>n = 320</td><td>125.870</td><td>125.870</td><td>200711_M04827_0406_000000000-D8W43</td><td>Passed</td><td>n = 281</td><td>1516.8</td><td>535.8</td><td>...</td><td>3457123</td><td>274168</td><td>150033</td><td> 776859</td><td>  92562</td><td> 43</td><td>  0</td><td> 0</td><td>0</td><td>0.8872281</td></tr>\n",
       "\t<tr><th scope=row>4</th><td>CHP-351-03-PBMC-DNA</td><td>CHP_351_03</td><td>n = 320</td><td>410.060</td><td>114.000</td><td>191210_M04827_0319_000000000-D7M28</td><td>Passed</td><td>n = 281</td><td>1219.2</td><td>695.4</td><td>...</td><td>2878428</td><td>324281</td><td>121251</td><td>1619395</td><td>2503466</td><td>370</td><td> 37</td><td>72</td><td>0</td><td>0.8748030</td></tr>\n",
       "\t<tr><th scope=row>5</th><td>CHP-353-04-PBMC-DNA</td><td>CHP_353_04</td><td>n = 320</td><td> 55.488</td><td> 55.488</td><td>200711_M04827_0406_000000000-D8W43</td><td>Passed</td><td>n = 281</td><td>1440.0</td><td>874.0</td><td>...</td><td>3122579</td><td>481025</td><td> 45904</td><td>2374736</td><td>1638907</td><td>204</td><td> 81</td><td>21</td><td>0</td><td>0.9093651</td></tr>\n",
       "\t<tr><th scope=row>6</th><td>CHP-363-04-PBMC-DNA</td><td>CHP_363_04</td><td>n = 320</td><td>509.934</td><td> 73.200</td><td>191210_M04827_0319_000000000-D7M28</td><td>Passed</td><td>n = 281</td><td>1228.8</td><td>619.4</td><td>...</td><td>2223241</td><td>270054</td><td> 70711</td><td>1056268</td><td>2800244</td><td>370</td><td>118</td><td>27</td><td>0</td><td>0.8106374</td></tr>\n",
       "\t<tr><th scope=row>7</th><td>CHP-369-01-PBMC-DNA</td><td>CHP_369_01</td><td>n = 320</td><td>126.000</td><td>113.000</td><td>191223_M04827_0328_000000000-D7VLK</td><td>Passed</td><td>n = 281</td><td> 628.8</td><td>915.8</td><td>...</td><td>7339655</td><td>668267</td><td> 96297</td><td>2899593</td><td>3688473</td><td>288</td><td> 80</td><td>28</td><td>0</td><td>0.9161272</td></tr>\n",
       "</tbody>\n",
       "</table>\n"
      ],
      "text/latex": [
       "A data.frame: 6 x 95\n",
       "\\begin{tabular}{r|lllllllllllllllllllll}\n",
       "  & basename & mysample\\_id & Shipped & DNAextracted & DNAused & libbatch & librarypassed & Library preparation & libraryyield & captureyield & ... & TRA.chains & TRB.chains & TRD.chains & TRG.chains & TRA.TRD.chains & IGH.chains & IGK.chains & IGL.chains & chains & percaligned\\\\\n",
       "  & <chr> & <chr> & <chr> & <dbl> & <dbl> & <chr> & <chr> & <chr> & <dbl> & <dbl> & ... & <int> & <int> & <int> & <int> & <int> & <int> & <int> & <int> & <int> & <dbl>\\\\\n",
       "\\hline\n",
       "\t1 & CHP-328-04-PBMC-DNA & CHP\\_328\\_04 & n = 320 & 111.996 & 111.996 & 200711\\_M04827\\_0406\\_000000000-D8W43 & Passed & n = 281 &  720.0 & 915.8 & ... & 3567638 & 454942 & 103912 & 2044714 & 3898342 & 202 & 122 & 26 & 0 & 0.8890611\\\\\n",
       "\t2 & CHP-328-05-PBMC-DNA & CHP\\_328\\_05 & n = 320 & 125.870 & 125.870 & 200711\\_M04827\\_0406\\_000000000-D8W43 & Passed & n = 281 & 1516.8 & 535.8 & ... & 3457123 & 274168 & 150033 &  776859 &   92562 &  43 &   0 &  0 & 0 & 0.8872281\\\\\n",
       "\t4 & CHP-351-03-PBMC-DNA & CHP\\_351\\_03 & n = 320 & 410.060 & 114.000 & 191210\\_M04827\\_0319\\_000000000-D7M28 & Passed & n = 281 & 1219.2 & 695.4 & ... & 2878428 & 324281 & 121251 & 1619395 & 2503466 & 370 &  37 & 72 & 0 & 0.8748030\\\\\n",
       "\t5 & CHP-353-04-PBMC-DNA & CHP\\_353\\_04 & n = 320 &  55.488 &  55.488 & 200711\\_M04827\\_0406\\_000000000-D8W43 & Passed & n = 281 & 1440.0 & 874.0 & ... & 3122579 & 481025 &  45904 & 2374736 & 1638907 & 204 &  81 & 21 & 0 & 0.9093651\\\\\n",
       "\t6 & CHP-363-04-PBMC-DNA & CHP\\_363\\_04 & n = 320 & 509.934 &  73.200 & 191210\\_M04827\\_0319\\_000000000-D7M28 & Passed & n = 281 & 1228.8 & 619.4 & ... & 2223241 & 270054 &  70711 & 1056268 & 2800244 & 370 & 118 & 27 & 0 & 0.8106374\\\\\n",
       "\t7 & CHP-369-01-PBMC-DNA & CHP\\_369\\_01 & n = 320 & 126.000 & 113.000 & 191223\\_M04827\\_0328\\_000000000-D7VLK & Passed & n = 281 &  628.8 & 915.8 & ... & 7339655 & 668267 &  96297 & 2899593 & 3688473 & 288 &  80 & 28 & 0 & 0.9161272\\\\\n",
       "\\end{tabular}\n"
      ],
      "text/markdown": [
       "\n",
       "A data.frame: 6 x 95\n",
       "\n",
       "| <!--/--> | basename &lt;chr&gt; | mysample_id &lt;chr&gt; | Shipped &lt;chr&gt; | DNAextracted &lt;dbl&gt; | DNAused &lt;dbl&gt; | libbatch &lt;chr&gt; | librarypassed &lt;chr&gt; | Library preparation &lt;chr&gt; | libraryyield &lt;dbl&gt; | captureyield &lt;dbl&gt; | ... ... | TRA.chains &lt;int&gt; | TRB.chains &lt;int&gt; | TRD.chains &lt;int&gt; | TRG.chains &lt;int&gt; | TRA.TRD.chains &lt;int&gt; | IGH.chains &lt;int&gt; | IGK.chains &lt;int&gt; | IGL.chains &lt;int&gt; | chains &lt;int&gt; | percaligned &lt;dbl&gt; |\n",
       "|---|---|---|---|---|---|---|---|---|---|---|---|---|---|---|---|---|---|---|---|---|---|\n",
       "| 1 | CHP-328-04-PBMC-DNA | CHP_328_04 | n = 320 | 111.996 | 111.996 | 200711_M04827_0406_000000000-D8W43 | Passed | n = 281 |  720.0 | 915.8 | ... | 3567638 | 454942 | 103912 | 2044714 | 3898342 | 202 | 122 | 26 | 0 | 0.8890611 |\n",
       "| 2 | CHP-328-05-PBMC-DNA | CHP_328_05 | n = 320 | 125.870 | 125.870 | 200711_M04827_0406_000000000-D8W43 | Passed | n = 281 | 1516.8 | 535.8 | ... | 3457123 | 274168 | 150033 |  776859 |   92562 |  43 |   0 |  0 | 0 | 0.8872281 |\n",
       "| 4 | CHP-351-03-PBMC-DNA | CHP_351_03 | n = 320 | 410.060 | 114.000 | 191210_M04827_0319_000000000-D7M28 | Passed | n = 281 | 1219.2 | 695.4 | ... | 2878428 | 324281 | 121251 | 1619395 | 2503466 | 370 |  37 | 72 | 0 | 0.8748030 |\n",
       "| 5 | CHP-353-04-PBMC-DNA | CHP_353_04 | n = 320 |  55.488 |  55.488 | 200711_M04827_0406_000000000-D8W43 | Passed | n = 281 | 1440.0 | 874.0 | ... | 3122579 | 481025 |  45904 | 2374736 | 1638907 | 204 |  81 | 21 | 0 | 0.9093651 |\n",
       "| 6 | CHP-363-04-PBMC-DNA | CHP_363_04 | n = 320 | 509.934 |  73.200 | 191210_M04827_0319_000000000-D7M28 | Passed | n = 281 | 1228.8 | 619.4 | ... | 2223241 | 270054 |  70711 | 1056268 | 2800244 | 370 | 118 | 27 | 0 | 0.8106374 |\n",
       "| 7 | CHP-369-01-PBMC-DNA | CHP_369_01 | n = 320 | 126.000 | 113.000 | 191223_M04827_0328_000000000-D7VLK | Passed | n = 281 |  628.8 | 915.8 | ... | 7339655 | 668267 |  96297 | 2899593 | 3688473 | 288 |  80 | 28 | 0 | 0.9161272 |\n",
       "\n"
      ],
      "text/plain": [
       "  basename            mysample_id Shipped DNAextracted DNAused\n",
       "1 CHP-328-04-PBMC-DNA CHP_328_04  n = 320 111.996      111.996\n",
       "2 CHP-328-05-PBMC-DNA CHP_328_05  n = 320 125.870      125.870\n",
       "4 CHP-351-03-PBMC-DNA CHP_351_03  n = 320 410.060      114.000\n",
       "5 CHP-353-04-PBMC-DNA CHP_353_04  n = 320  55.488       55.488\n",
       "6 CHP-363-04-PBMC-DNA CHP_363_04  n = 320 509.934       73.200\n",
       "7 CHP-369-01-PBMC-DNA CHP_369_01  n = 320 126.000      113.000\n",
       "  libbatch                           librarypassed Library preparation\n",
       "1 200711_M04827_0406_000000000-D8W43 Passed        n = 281            \n",
       "2 200711_M04827_0406_000000000-D8W43 Passed        n = 281            \n",
       "4 191210_M04827_0319_000000000-D7M28 Passed        n = 281            \n",
       "5 200711_M04827_0406_000000000-D8W43 Passed        n = 281            \n",
       "6 191210_M04827_0319_000000000-D7M28 Passed        n = 281            \n",
       "7 191223_M04827_0328_000000000-D7VLK Passed        n = 281            \n",
       "  libraryyield captureyield ... TRA.chains TRB.chains TRD.chains TRG.chains\n",
       "1  720.0       915.8        ... 3567638    454942     103912     2044714   \n",
       "2 1516.8       535.8        ... 3457123    274168     150033      776859   \n",
       "4 1219.2       695.4        ... 2878428    324281     121251     1619395   \n",
       "5 1440.0       874.0        ... 3122579    481025      45904     2374736   \n",
       "6 1228.8       619.4        ... 2223241    270054      70711     1056268   \n",
       "7  628.8       915.8        ... 7339655    668267      96297     2899593   \n",
       "  TRA.TRD.chains IGH.chains IGK.chains IGL.chains chains percaligned\n",
       "1 3898342        202        122        26         0      0.8890611  \n",
       "2   92562         43          0         0         0      0.8872281  \n",
       "4 2503466        370         37        72         0      0.8748030  \n",
       "5 1638907        204         81        21         0      0.9093651  \n",
       "6 2800244        370        118        27         0      0.8106374  \n",
       "7 3688473        288         80        28         0      0.9161272  "
      ]
     },
     "metadata": {},
     "output_type": "display_data"
    }
   ],
   "source": [
    "head(subset_pbmc)"
   ]
  },
  {
   "cell_type": "code",
   "execution_count": 4,
   "metadata": {
    "vscode": {
     "languageId": "r"
    }
   },
   "outputs": [
    {
     "name": "stderr",
     "output_type": "stream",
     "text": [
      "Warning message in load(file = paste0(datapath, \"capTCRseq/meta_div_TRB.RData\")):\n",
      "\"strings not representable in native encoding will be translated to UTF-8\"\n"
     ]
    }
   ],
   "source": [
    "load(file = paste0(datapath,\"capTCRseq/meta_div_TRB.RData\"))"
   ]
  },
  {
   "cell_type": "code",
   "execution_count": 5,
   "metadata": {
    "vscode": {
     "languageId": "r"
    }
   },
   "outputs": [
    {
     "data": {
      "text/html": [
       "<style>\n",
       ".list-inline {list-style: none; margin:0; padding: 0}\n",
       ".list-inline>li {display: inline-block}\n",
       ".list-inline>li:not(:last-child)::after {content: \"\\00b7\"; padding: 0 .5ex}\n",
       "</style>\n",
       "<ol class=list-inline><li>238</li><li>95</li></ol>\n"
      ],
      "text/latex": [
       "\\begin{enumerate*}\n",
       "\\item 238\n",
       "\\item 95\n",
       "\\end{enumerate*}\n"
      ],
      "text/markdown": [
       "1. 238\n",
       "2. 95\n",
       "\n",
       "\n"
      ],
      "text/plain": [
       "[1] 238  95"
      ]
     },
     "metadata": {},
     "output_type": "display_data"
    }
   ],
   "source": [
    "dim(subset_pbmc)"
   ]
  },
  {
   "cell_type": "code",
   "execution_count": 6,
   "metadata": {
    "vscode": {
     "languageId": "r"
    }
   },
   "outputs": [
    {
     "data": {
      "text/html": [
       "<style>\n",
       ".list-inline {list-style: none; margin:0; padding: 0}\n",
       ".list-inline>li {display: inline-block}\n",
       ".list-inline>li:not(:last-child)::after {content: \"\\00b7\"; padding: 0 .5ex}\n",
       "</style>\n",
       "<ol class=list-inline><li>'datapath'</li><li>'gitpath'</li><li>'manifestpath'</li><li>'meta_div'</li><li>'plotpath'</li><li>'subset_pbmc'</li></ol>\n"
      ],
      "text/latex": [
       "\\begin{enumerate*}\n",
       "\\item 'datapath'\n",
       "\\item 'gitpath'\n",
       "\\item 'manifestpath'\n",
       "\\item 'meta\\_div'\n",
       "\\item 'plotpath'\n",
       "\\item 'subset\\_pbmc'\n",
       "\\end{enumerate*}\n"
      ],
      "text/markdown": [
       "1. 'datapath'\n",
       "2. 'gitpath'\n",
       "3. 'manifestpath'\n",
       "4. 'meta_div'\n",
       "5. 'plotpath'\n",
       "6. 'subset_pbmc'\n",
       "\n",
       "\n"
      ],
      "text/plain": [
       "[1] \"datapath\"     \"gitpath\"      \"manifestpath\" \"meta_div\"     \"plotpath\"    \n",
       "[6] \"subset_pbmc\" "
      ]
     },
     "metadata": {},
     "output_type": "display_data"
    }
   ],
   "source": [
    "ls()"
   ]
  },
  {
   "cell_type": "code",
   "execution_count": 7,
   "metadata": {
    "vscode": {
     "languageId": "r"
    }
   },
   "outputs": [
    {
     "data": {
      "text/html": [
       "<table class=\"dataframe\">\n",
       "<caption>A data.frame: 841 x 58</caption>\n",
       "<thead>\n",
       "\t<tr><th></th><th scope=col>sample_id</th><th scope=col>Patient</th><th scope=col>cycle</th><th scope=col>FOLD</th><th scope=col>ATC</th><th scope=col>Age</th><th scope=col>Disease_type</th><th scope=col>TE_fold</th><th scope=col>Pass</th><th scope=col>CD3</th><th scope=col>...</th><th scope=col>observed_Shannon</th><th scope=col>estimated_Shannon</th><th scope=col>SE_Shannon</th><th scope=col>observed_Simpson</th><th scope=col>estimated_Simpson</th><th scope=col>SE_Simpson</th><th scope=col>file</th><th scope=col>basename</th><th scope=col>Group</th><th scope=col>sampletype</th></tr>\n",
       "\t<tr><th></th><th scope=col>&lt;chr&gt;</th><th scope=col>&lt;chr&gt;</th><th scope=col>&lt;chr&gt;</th><th scope=col>&lt;dbl&gt;</th><th scope=col>&lt;dbl&gt;</th><th scope=col>&lt;dbl&gt;</th><th scope=col>&lt;chr&gt;</th><th scope=col>&lt;chr&gt;</th><th scope=col>&lt;lgl&gt;</th><th scope=col>&lt;int&gt;</th><th scope=col>...</th><th scope=col>&lt;dbl&gt;</th><th scope=col>&lt;dbl&gt;</th><th scope=col>&lt;dbl&gt;</th><th scope=col>&lt;dbl&gt;</th><th scope=col>&lt;dbl&gt;</th><th scope=col>&lt;dbl&gt;</th><th scope=col>&lt;chr&gt;</th><th scope=col>&lt;chr&gt;</th><th scope=col>&lt;chr&gt;</th><th scope=col>&lt;chr&gt;</th></tr>\n",
       "</thead>\n",
       "<tbody>\n",
       "\t<tr><th scope=row>1</th><td>CHP_10YO_M_00  </td><td>CHP_10YO_M  </td><td>X00</td><td>  NA</td><td>     NA</td><td>NA</td><td>Normal</td><td>NA  </td><td>NA</td><td>NA</td><td>...</td><td>10.591</td><td>10.601</td><td>0.074</td><td> 8.556</td><td> 8.561</td><td>0.097</td><td>batchNormal_16Apr2020/mixcr/clones/CLONES_TRBCHP_10YO-M_PBMC_DNA.txt  </td><td>CHP_10YO-M_PBMC_DNA  </td><td>CHP</td><td>PBMC </td></tr>\n",
       "\t<tr><th scope=row>2</th><td>CHP_11YO_M_00  </td><td>CHP_11YO_M  </td><td>X00</td><td>  NA</td><td>     NA</td><td>NA</td><td>Normal</td><td>NA  </td><td>NA</td><td>NA</td><td>...</td><td>11.607</td><td>11.614</td><td>0.055</td><td>10.406</td><td>10.414</td><td>0.074</td><td>batchNormal_16Apr2020/mixcr/clones/CLONES_TRBCHP_11YO-M_PBMC_DNA.txt  </td><td>CHP_11YO-M_PBMC_DNA  </td><td>CHP</td><td>PBMC </td></tr>\n",
       "\t<tr><th scope=row>3</th><td>CHP_15YO_F_A_00</td><td>CHP_15YO_F_A</td><td>X00</td><td>  NA</td><td>     NA</td><td>NA</td><td>Normal</td><td>NA  </td><td>NA</td><td>NA</td><td>...</td><td> 8.982</td><td> 8.989</td><td>0.042</td><td> 8.560</td><td> 8.570</td><td>0.060</td><td>batchNormal_16Apr2020/mixcr/clones/CLONES_TRBCHP_15YO-F-A_PBMC_DNA.txt</td><td>CHP_15YO-F-A_PBMC_DNA</td><td>CHP</td><td>PBMC </td></tr>\n",
       "\t<tr><th scope=row>4</th><td>CHP_15YO_F_B_00</td><td>CHP_15YO_F_B</td><td>X00</td><td>  NA</td><td>     NA</td><td>NA</td><td>Normal</td><td>NA  </td><td>NA</td><td>NA</td><td>...</td><td> 6.330</td><td> 6.334</td><td>0.039</td><td> 5.870</td><td> 5.876</td><td>0.059</td><td>batchNormal_16Apr2020/mixcr/clones/CLONES_TRBCHP_15YO-F-B_PBMC_DNA.txt</td><td>CHP_15YO-F-B_PBMC_DNA</td><td>CHP</td><td>PBMC </td></tr>\n",
       "\t<tr><th scope=row>5</th><td>CHP_15YO_M_00  </td><td>CHP_15YO_M  </td><td>X00</td><td>  NA</td><td>     NA</td><td>NA</td><td>Normal</td><td>NA  </td><td>NA</td><td>NA</td><td>...</td><td>21.110</td><td>21.120</td><td>0.040</td><td>20.321</td><td>20.339</td><td>0.079</td><td>batchNormal_16Apr2020/mixcr/clones/CLONES_TRBCHP_15YO-M_PBMC_DNA.txt  </td><td>CHP_15YO-M_PBMC_DNA  </td><td>CHP</td><td>PBMC </td></tr>\n",
       "\t<tr><th scope=row>6</th><td>CHP_16YO_M_00  </td><td>CHP_16YO_M  </td><td>X00</td><td>  NA</td><td>     NA</td><td>NA</td><td>Normal</td><td>NA  </td><td>NA</td><td>NA</td><td>...</td><td> 3.972</td><td> 3.973</td><td>0.007</td><td> 3.944</td><td> 3.946</td><td>0.012</td><td>batchNormal_16Apr2020/mixcr/clones/CLONES_TRBCHP_16YO-M_PBMC_DNA.txt  </td><td>CHP_16YO-M_PBMC_DNA  </td><td>CHP</td><td>PBMC </td></tr>\n",
       "\t<tr><th scope=row>7</th><td>CHP_1YO_M_A_00 </td><td>CHP_1YO_M_A </td><td>X00</td><td>  NA</td><td>     NA</td><td>NA</td><td>Normal</td><td>NA  </td><td>NA</td><td>NA</td><td>...</td><td>34.170</td><td>34.191</td><td>0.131</td><td>25.198</td><td>25.213</td><td>0.217</td><td>batchNormal_16Apr2020/mixcr/clones/CLONES_TRBCHP_1YO-M-A_PBMC_DNA.txt </td><td>CHP_1YO-M-A_PBMC_DNA </td><td>CHP</td><td>PBMC </td></tr>\n",
       "\t<tr><th scope=row>8</th><td>CHP_1YO_M_B_00 </td><td>CHP_1YO_M_B </td><td>X00</td><td>  NA</td><td>     NA</td><td>NA</td><td>Normal</td><td>NA  </td><td>NA</td><td>NA</td><td>...</td><td> 2.013</td><td> 2.014</td><td>0.010</td><td> 1.993</td><td> 1.994</td><td>0.006</td><td>batchNormal_16Apr2020/mixcr/clones/CLONES_TRBCHP_1YO-M-B_PBMC_DNA.txt </td><td>CHP_1YO-M-B_PBMC_DNA </td><td>CHP</td><td>PBMC </td></tr>\n",
       "\t<tr><th scope=row>9</th><td>CHP_2YO_M_00   </td><td>CHP_2YO_M   </td><td>X00</td><td>  NA</td><td>     NA</td><td>NA</td><td>Normal</td><td>NA  </td><td>NA</td><td>NA</td><td>...</td><td> 7.910</td><td> 7.916</td><td>0.053</td><td> 7.245</td><td> 7.253</td><td>0.059</td><td>batchNormal_16Apr2020/mixcr/clones/CLONES_TRBCHP_2YO-M_PBMC_DNA.txt   </td><td>CHP_2YO-M_PBMC_DNA   </td><td>CHP</td><td>PBMC </td></tr>\n",
       "\t<tr><th scope=row>14</th><td>CHP_320_01     </td><td>CHP_320     </td><td>X01</td><td> 8.9</td><td>   0.00</td><td> 6</td><td>AML   </td><td>8.9 </td><td>NA</td><td> 0</td><td>...</td><td>    NA</td><td>    NA</td><td>   NA</td><td>    NA</td><td>    NA</td><td>   NA</td><td>NA                                                                    </td><td>NA                   </td><td>CHP</td><td>NA   </td></tr>\n",
       "\t<tr><th scope=row>15</th><td>CHP_320_02     </td><td>CHP_320     </td><td>X02</td><td> 3.5</td><td>   0.00</td><td> 6</td><td>AML   </td><td>3.5 </td><td>NA</td><td> 0</td><td>...</td><td>    NA</td><td>    NA</td><td>   NA</td><td>    NA</td><td>    NA</td><td>   NA</td><td>NA                                                                    </td><td>NA                   </td><td>CHP</td><td>NA   </td></tr>\n",
       "\t<tr><th scope=row>16</th><td>CHP_320_03     </td><td>CHP_320     </td><td>X03</td><td>13.2</td><td>   0.00</td><td> 6</td><td>AML   </td><td>13.2</td><td>NA</td><td> 0</td><td>...</td><td>    NA</td><td>    NA</td><td>   NA</td><td>    NA</td><td>    NA</td><td>   NA</td><td>NA                                                                    </td><td>NA                   </td><td>CHP</td><td>NA   </td></tr>\n",
       "\t<tr><th scope=row>17</th><td>CHP_320_04     </td><td>CHP_320     </td><td>X04</td><td>  NA</td><td>   0.00</td><td> 6</td><td>AML   </td><td>x   </td><td>NA</td><td> 0</td><td>...</td><td>    NA</td><td>    NA</td><td>   NA</td><td>    NA</td><td>    NA</td><td>   NA</td><td>NA                                                                    </td><td>NA                   </td><td>CHP</td><td>NA   </td></tr>\n",
       "\t<tr><th scope=row>18</th><td>CHP_320_05     </td><td>CHP_320     </td><td>X05</td><td> 0.0</td><td>   0.00</td><td> 6</td><td>AML   </td><td>0   </td><td>NA</td><td> 0</td><td>...</td><td>    NA</td><td>    NA</td><td>   NA</td><td>    NA</td><td>    NA</td><td>   NA</td><td>NA                                                                    </td><td>NA                   </td><td>CHP</td><td>NA   </td></tr>\n",
       "\t<tr><th scope=row>19</th><td>CHP_321_01     </td><td>CHP_321     </td><td>X01</td><td> 0.0</td><td>   0.00</td><td>16</td><td>HD    </td><td>0   </td><td>NA</td><td> 0</td><td>...</td><td>    NA</td><td>    NA</td><td>   NA</td><td>    NA</td><td>    NA</td><td>   NA</td><td>NA                                                                    </td><td>NA                   </td><td>CHP</td><td>NA   </td></tr>\n",
       "\t<tr><th scope=row>20</th><td>CHP_321_02     </td><td>CHP_321     </td><td>X02</td><td> 0.0</td><td>   0.00</td><td>16</td><td>HD    </td><td>0   </td><td>NA</td><td> 0</td><td>...</td><td>    NA</td><td>    NA</td><td>   NA</td><td>    NA</td><td>    NA</td><td>   NA</td><td>NA                                                                    </td><td>NA                   </td><td>CHP</td><td>NA   </td></tr>\n",
       "\t<tr><th scope=row>21</th><td>CHP_321_03     </td><td>CHP_321     </td><td>X03</td><td> 0.0</td><td>   0.00</td><td>16</td><td>HD    </td><td>0   </td><td>NA</td><td> 0</td><td>...</td><td>    NA</td><td>    NA</td><td>   NA</td><td>    NA</td><td>    NA</td><td>   NA</td><td>NA                                                                    </td><td>NA                   </td><td>CHP</td><td>NA   </td></tr>\n",
       "\t<tr><th scope=row>22</th><td>CHP_321_04     </td><td>CHP_321     </td><td>X04</td><td> 0.0</td><td>   0.00</td><td>16</td><td>HD    </td><td>0   </td><td>NA</td><td> 0</td><td>...</td><td>    NA</td><td>    NA</td><td>   NA</td><td>    NA</td><td>    NA</td><td>   NA</td><td>NA                                                                    </td><td>NA                   </td><td>CHP</td><td>NA   </td></tr>\n",
       "\t<tr><th scope=row>23</th><td>CHP_321_05     </td><td>CHP_321     </td><td>X05</td><td> 0.0</td><td>   0.00</td><td>16</td><td>HD    </td><td>0   </td><td>NA</td><td> 0</td><td>...</td><td>    NA</td><td>    NA</td><td>   NA</td><td>    NA</td><td>    NA</td><td>   NA</td><td>NA                                                                    </td><td>NA                   </td><td>CHP</td><td>NA   </td></tr>\n",
       "\t<tr><th scope=row>24</th><td>CHP_322_01     </td><td>CHP_322     </td><td>X01</td><td> 1.1</td><td>   0.00</td><td>18</td><td>DLBCL </td><td>1.1 </td><td>NA</td><td> 0</td><td>...</td><td>    NA</td><td>    NA</td><td>   NA</td><td>    NA</td><td>    NA</td><td>   NA</td><td>NA                                                                    </td><td>NA                   </td><td>CHP</td><td>NA   </td></tr>\n",
       "\t<tr><th scope=row>25</th><td>CHP_322_02     </td><td>CHP_322     </td><td>X02</td><td> 0.4</td><td>   0.00</td><td>18</td><td>DLBCL </td><td>0.4 </td><td>NA</td><td> 0</td><td>...</td><td>    NA</td><td>    NA</td><td>   NA</td><td>    NA</td><td>    NA</td><td>   NA</td><td>NA                                                                    </td><td>NA                   </td><td>CHP</td><td>NA   </td></tr>\n",
       "\t<tr><th scope=row>26</th><td>CHP_322_03     </td><td>CHP_322     </td><td>X03</td><td> 4.3</td><td>   0.00</td><td>18</td><td>DLBCL </td><td>4.3 </td><td>NA</td><td> 0</td><td>...</td><td>    NA</td><td>    NA</td><td>   NA</td><td>    NA</td><td>    NA</td><td>   NA</td><td>NA                                                                    </td><td>NA                   </td><td>CHP</td><td>NA   </td></tr>\n",
       "\t<tr><th scope=row>27</th><td>CHP_322_04     </td><td>CHP_322     </td><td>X04</td><td> 4.7</td><td>   0.00</td><td>18</td><td>DLBCL </td><td>4.7 </td><td>NA</td><td> 0</td><td>...</td><td>    NA</td><td>    NA</td><td>   NA</td><td>    NA</td><td>    NA</td><td>   NA</td><td>NA                                                                    </td><td>NA                   </td><td>CHP</td><td>NA   </td></tr>\n",
       "\t<tr><th scope=row>28</th><td>CHP_322_05     </td><td>CHP_322     </td><td>X05</td><td> 1.0</td><td>   0.00</td><td>18</td><td>DLBCL </td><td>1   </td><td>NA</td><td> 0</td><td>...</td><td>    NA</td><td>    NA</td><td>   NA</td><td>    NA</td><td>    NA</td><td>   NA</td><td>NA                                                                    </td><td>NA                   </td><td>CHP</td><td>NA   </td></tr>\n",
       "\t<tr><th scope=row>29</th><td>CHP_323_01     </td><td>CHP_323     </td><td>X01</td><td> 0.0</td><td> 154.75</td><td> 1</td><td>HR ALL</td><td>0   </td><td>NA</td><td> 0</td><td>...</td><td>    NA</td><td>    NA</td><td>   NA</td><td>    NA</td><td>    NA</td><td>   NA</td><td>NA                                                                    </td><td>NA                   </td><td>CHP</td><td>NA   </td></tr>\n",
       "\t<tr><th scope=row>30</th><td>CHP_323_02     </td><td>CHP_323     </td><td>X02</td><td> 0.0</td><td>1397.28</td><td> 1</td><td>HR ALL</td><td>0   </td><td>NA</td><td> 0</td><td>...</td><td>    NA</td><td>    NA</td><td>   NA</td><td>    NA</td><td>    NA</td><td>   NA</td><td>NA                                                                    </td><td>NA                   </td><td>CHP</td><td>NA   </td></tr>\n",
       "\t<tr><th scope=row>31</th><td>CHP_323_03     </td><td>CHP_323     </td><td>X03</td><td> 0.0</td><td> 786.24</td><td> 1</td><td>HR ALL</td><td>0   </td><td>NA</td><td> 0</td><td>...</td><td>37.722</td><td>37.986</td><td>0.341</td><td>33.204</td><td>33.544</td><td>0.591</td><td>batch4_19Aug2019/mixcr/clones/CLONES_TRBCHP_323-03-PBMC-DNA.txt       </td><td>CHP_323-03-PBMC-DNA  </td><td>CHP</td><td>PBMC </td></tr>\n",
       "\t<tr><th scope=row>32</th><td>CHP_323_03     </td><td>CHP_323     </td><td>X03</td><td> 0.0</td><td> 786.24</td><td> 1</td><td>HR ALL</td><td>0   </td><td>NA</td><td> 0</td><td>...</td><td>43.423</td><td>43.456</td><td>0.140</td><td>31.052</td><td>31.063</td><td>0.162</td><td>batch3a9_cfDNA_10Jul2020/mixcr/clones/CLONES_TRBCHP_323-03_cfDNA.txt  </td><td>CHP_323-03_cfDNA     </td><td>CHP</td><td>cfDNA</td></tr>\n",
       "\t<tr><th scope=row>33</th><td>CHP_323_04     </td><td>CHP_323     </td><td>X04</td><td> 0.0</td><td> 563.68</td><td> 1</td><td>HR ALL</td><td>0   </td><td>NA</td><td> 0</td><td>...</td><td>13.184</td><td>13.414</td><td>0.469</td><td> 8.985</td><td> 9.094</td><td>0.542</td><td>batch7_25Oct2019/mixcr/clones/CLONES_TRBCHP_323-04-PBMC-DNA.txt       </td><td>CHP_323-04-PBMC-DNA  </td><td>CHP</td><td>PBMC </td></tr>\n",
       "\t<tr><th scope=row>34</th><td>CHP_323_05     </td><td>CHP_323     </td><td>X05</td><td> 0.0</td><td> 979.50</td><td> 1</td><td>HR ALL</td><td>0   </td><td>NA</td><td> 0</td><td>...</td><td>81.753</td><td>85.174</td><td>2.310</td><td>32.669</td><td>33.190</td><td>2.206</td><td>batch7_25Oct2019/mixcr/clones/CLONES_TRBCHP_323-05-PBMC-DNA.txt       </td><td>CHP_323-05-PBMC-DNA  </td><td>CHP</td><td>PBMC </td></tr>\n",
       "\t<tr><th scope=row>...</th><td>...</td><td>...</td><td>...</td><td>...</td><td>...</td><td>...</td><td>...</td><td>...</td><td>...</td><td>...</td><td></td><td>...</td><td>...</td><td>...</td><td>...</td><td>...</td><td>...</td><td>...</td><td>...</td><td>...</td><td>...</td></tr>\n",
       "\t<tr><th scope=row>816</th><td>CHP_434_03     </td><td>CHP_434     </td><td>X03</td><td> 0</td><td> 0</td><td>12</td><td>HD    </td><td>0 </td><td>NA</td><td> 0</td><td>...</td><td>     NA</td><td>     NA</td><td>   NA</td><td>     NA</td><td>     NA</td><td>   NA</td><td>NA                                                                 </td><td>NA                   </td><td>CHP</td><td>NA  </td></tr>\n",
       "\t<tr><th scope=row>817</th><td>CHP_434_04     </td><td>CHP_434     </td><td>X04</td><td> 0</td><td> 0</td><td>12</td><td>HD    </td><td>0 </td><td>NA</td><td> 0</td><td>...</td><td>     NA</td><td>     NA</td><td>   NA</td><td>     NA</td><td>     NA</td><td>   NA</td><td>NA                                                                 </td><td>NA                   </td><td>CHP</td><td>NA  </td></tr>\n",
       "\t<tr><th scope=row>818</th><td>CHP_434_05     </td><td>CHP_434     </td><td>X05</td><td> 0</td><td> 0</td><td>12</td><td>HD    </td><td>0 </td><td>NA</td><td> 0</td><td>...</td><td>     NA</td><td>     NA</td><td>   NA</td><td>     NA</td><td>     NA</td><td>   NA</td><td>NA                                                                 </td><td>NA                   </td><td>CHP</td><td>NA  </td></tr>\n",
       "\t<tr><th scope=row>819</th><td>CHP_435_01     </td><td>CHP_435     </td><td>X01</td><td> 0</td><td> 0</td><td> 0</td><td>CML   </td><td>0 </td><td>NA</td><td> 0</td><td>...</td><td>     NA</td><td>     NA</td><td>   NA</td><td>     NA</td><td>     NA</td><td>   NA</td><td>NA                                                                 </td><td>NA                   </td><td>CHP</td><td>NA  </td></tr>\n",
       "\t<tr><th scope=row>820</th><td>CHP_435_02     </td><td>CHP_435     </td><td>X02</td><td> 0</td><td> 0</td><td> 0</td><td>CML   </td><td>0 </td><td>NA</td><td> 0</td><td>...</td><td>     NA</td><td>     NA</td><td>   NA</td><td>     NA</td><td>     NA</td><td>   NA</td><td>NA                                                                 </td><td>NA                   </td><td>CHP</td><td>NA  </td></tr>\n",
       "\t<tr><th scope=row>821</th><td>CHP_435_03     </td><td>CHP_435     </td><td>X03</td><td> 0</td><td> 0</td><td> 0</td><td>CML   </td><td>0 </td><td>NA</td><td> 0</td><td>...</td><td>     NA</td><td>     NA</td><td>   NA</td><td>     NA</td><td>     NA</td><td>   NA</td><td>NA                                                                 </td><td>NA                   </td><td>CHP</td><td>NA  </td></tr>\n",
       "\t<tr><th scope=row>822</th><td>CHP_435_04     </td><td>CHP_435     </td><td>X04</td><td> 0</td><td> 0</td><td> 0</td><td>CML   </td><td>0 </td><td>NA</td><td> 0</td><td>...</td><td>     NA</td><td>     NA</td><td>   NA</td><td>     NA</td><td>     NA</td><td>   NA</td><td>NA                                                                 </td><td>NA                   </td><td>CHP</td><td>NA  </td></tr>\n",
       "\t<tr><th scope=row>823</th><td>CHP_435_05     </td><td>CHP_435     </td><td>X05</td><td> 0</td><td> 0</td><td> 0</td><td>CML   </td><td>0 </td><td>NA</td><td> 0</td><td>...</td><td>     NA</td><td>     NA</td><td>   NA</td><td>     NA</td><td>     NA</td><td>   NA</td><td>NA                                                                 </td><td>NA                   </td><td>CHP</td><td>NA  </td></tr>\n",
       "\t<tr><th scope=row>824</th><td>CHP_436_01     </td><td>CHP_436     </td><td>X01</td><td> 0</td><td> 0</td><td>15</td><td>OS    </td><td>0 </td><td>NA</td><td> 0</td><td>...</td><td>     NA</td><td>     NA</td><td>   NA</td><td>     NA</td><td>     NA</td><td>   NA</td><td>NA                                                                 </td><td>NA                   </td><td>CHP</td><td>NA  </td></tr>\n",
       "\t<tr><th scope=row>825</th><td>CHP_436_02     </td><td>CHP_436     </td><td>X02</td><td> 0</td><td> 0</td><td>15</td><td>OS    </td><td>0 </td><td>NA</td><td> 0</td><td>...</td><td>     NA</td><td>     NA</td><td>   NA</td><td>     NA</td><td>     NA</td><td>   NA</td><td>NA                                                                 </td><td>NA                   </td><td>CHP</td><td>NA  </td></tr>\n",
       "\t<tr><th scope=row>826</th><td>CHP_436_03     </td><td>CHP_436     </td><td>X03</td><td> 0</td><td> 0</td><td>15</td><td>OS    </td><td>0 </td><td>NA</td><td> 0</td><td>...</td><td>     NA</td><td>     NA</td><td>   NA</td><td>     NA</td><td>     NA</td><td>   NA</td><td>NA                                                                 </td><td>NA                   </td><td>CHP</td><td>NA  </td></tr>\n",
       "\t<tr><th scope=row>827</th><td>CHP_436_04     </td><td>CHP_436     </td><td>X04</td><td> 0</td><td> 0</td><td>15</td><td>OS    </td><td>0 </td><td>NA</td><td> 0</td><td>...</td><td>     NA</td><td>     NA</td><td>   NA</td><td>     NA</td><td>     NA</td><td>   NA</td><td>NA                                                                 </td><td>NA                   </td><td>CHP</td><td>NA  </td></tr>\n",
       "\t<tr><th scope=row>828</th><td>CHP_436_05     </td><td>CHP_436     </td><td>X05</td><td> 0</td><td> 0</td><td>15</td><td>OS    </td><td>0 </td><td>NA</td><td> 0</td><td>...</td><td>     NA</td><td>     NA</td><td>   NA</td><td>     NA</td><td>     NA</td><td>   NA</td><td>NA                                                                 </td><td>NA                   </td><td>CHP</td><td>NA  </td></tr>\n",
       "\t<tr><th scope=row>829</th><td>CHP_437_01     </td><td>CHP_437     </td><td>X01</td><td> 0</td><td> 0</td><td> 9</td><td>OS    </td><td>0 </td><td>NA</td><td> 0</td><td>...</td><td>     NA</td><td>     NA</td><td>   NA</td><td>     NA</td><td>     NA</td><td>   NA</td><td>NA                                                                 </td><td>NA                   </td><td>CHP</td><td>NA  </td></tr>\n",
       "\t<tr><th scope=row>830</th><td>CHP_437_02     </td><td>CHP_437     </td><td>X02</td><td> 0</td><td> 0</td><td> 9</td><td>OS    </td><td>0 </td><td>NA</td><td> 0</td><td>...</td><td>     NA</td><td>     NA</td><td>   NA</td><td>     NA</td><td>     NA</td><td>   NA</td><td>NA                                                                 </td><td>NA                   </td><td>CHP</td><td>NA  </td></tr>\n",
       "\t<tr><th scope=row>831</th><td>CHP_437_03     </td><td>CHP_437     </td><td>X03</td><td> 0</td><td> 0</td><td> 9</td><td>OS    </td><td>0 </td><td>NA</td><td> 0</td><td>...</td><td>     NA</td><td>     NA</td><td>   NA</td><td>     NA</td><td>     NA</td><td>   NA</td><td>NA                                                                 </td><td>NA                   </td><td>CHP</td><td>NA  </td></tr>\n",
       "\t<tr><th scope=row>832</th><td>CHP_437_04     </td><td>CHP_437     </td><td>X04</td><td> 0</td><td> 0</td><td> 9</td><td>OS    </td><td>0 </td><td>NA</td><td> 0</td><td>...</td><td>     NA</td><td>     NA</td><td>   NA</td><td>     NA</td><td>     NA</td><td>   NA</td><td>NA                                                                 </td><td>NA                   </td><td>CHP</td><td>NA  </td></tr>\n",
       "\t<tr><th scope=row>833</th><td>CHP_437_05     </td><td>CHP_437     </td><td>X05</td><td> 0</td><td> 0</td><td> 9</td><td>OS    </td><td>0 </td><td>NA</td><td> 0</td><td>...</td><td>     NA</td><td>     NA</td><td>   NA</td><td>     NA</td><td>     NA</td><td>   NA</td><td>NA                                                                 </td><td>NA                   </td><td>CHP</td><td>NA  </td></tr>\n",
       "\t<tr><th scope=row>834</th><td>CHP_5YO_M_00   </td><td>CHP_5YO_M   </td><td>X00</td><td>NA</td><td>NA</td><td>NA</td><td>Normal</td><td>NA</td><td>NA</td><td>NA</td><td>...</td><td>  2.095</td><td>  2.096</td><td>0.015</td><td>  2.008</td><td>  2.009</td><td>0.011</td><td>batchNormal_16Apr2020/mixcr/clones/CLONES_TRBCHP_5YO-M_PBMC_DNA.txt</td><td>CHP_5YO-M_PBMC_DNA   </td><td>CHP</td><td>PBMC</td></tr>\n",
       "\t<tr><th scope=row>835</th><td>CHP_8MO_F_00   </td><td>CHP_8MO_F   </td><td>X00</td><td>NA</td><td>NA</td><td>NA</td><td>Normal</td><td>NA</td><td>NA</td><td>NA</td><td>...</td><td> 13.505</td><td> 13.513</td><td>0.048</td><td> 12.313</td><td> 12.322</td><td>0.080</td><td>batchNormal_16Apr2020/mixcr/clones/CLONES_TRBCHP_8MO-F_PBMC_DNA.txt</td><td>CHP_8MO-F_PBMC_DNA   </td><td>CHP</td><td>PBMC</td></tr>\n",
       "\t<tr><th scope=row>836</th><td>LFS_TCR_4535_00</td><td>LFS_TCR_4535</td><td>X00</td><td>NA</td><td>NA</td><td>NA</td><td>LFS   </td><td>NA</td><td>NA</td><td>NA</td><td>...</td><td>111.546</td><td>132.345</td><td>4.693</td><td> 87.466</td><td>104.069</td><td>5.950</td><td>batch2_Aug62019/mixcr/clones/CLONES_TRBLFS_TCR-4535-PBMC-DNA.txt   </td><td>LFS_TCR-4535-PBMC-DNA</td><td>LFS</td><td>PBMC</td></tr>\n",
       "\t<tr><th scope=row>837</th><td>LFS_TCR_4570_00</td><td>LFS_TCR_4570</td><td>X00</td><td>NA</td><td>NA</td><td>NA</td><td>LFS   </td><td>NA</td><td>NA</td><td>NA</td><td>...</td><td>111.026</td><td>113.748</td><td>1.872</td><td> 75.856</td><td> 77.286</td><td>2.093</td><td>batch2_Aug62019/mixcr/clones/CLONES_TRBLFS_TCR-4570-PBMC-DNA.txt   </td><td>LFS_TCR-4570-PBMC-DNA</td><td>LFS</td><td>PBMC</td></tr>\n",
       "\t<tr><th scope=row>838</th><td>LFS_TCR_4602_00</td><td>LFS_TCR_4602</td><td>X00</td><td>NA</td><td>NA</td><td>NA</td><td>LFS   </td><td>NA</td><td>NA</td><td>NA</td><td>...</td><td>119.742</td><td>133.858</td><td>4.066</td><td> 87.139</td><td> 97.203</td><td>4.926</td><td>batch2_Aug62019/mixcr/clones/CLONES_TRBLFS_TCR-4602-PBMC-DNA.txt   </td><td>LFS_TCR-4602-PBMC-DNA</td><td>LFS</td><td>PBMC</td></tr>\n",
       "\t<tr><th scope=row>839</th><td>LFS_TCR_4758_00</td><td>LFS_TCR_4758</td><td>X00</td><td>NA</td><td>NA</td><td>NA</td><td>LFS   </td><td>NA</td><td>NA</td><td>NA</td><td>...</td><td>160.804</td><td>166.181</td><td>2.137</td><td>114.462</td><td>117.599</td><td>2.862</td><td>batch2_Aug62019/mixcr/clones/CLONES_TRBLFS_TCR-4758-PBMC-DNA.txt   </td><td>LFS_TCR-4758-PBMC-DNA</td><td>LFS</td><td>PBMC</td></tr>\n",
       "\t<tr><th scope=row>840</th><td>LFS_TCR_4759_00</td><td>LFS_TCR_4759</td><td>X00</td><td>NA</td><td>NA</td><td>NA</td><td>LFS   </td><td>NA</td><td>NA</td><td>NA</td><td>...</td><td>135.493</td><td>158.592</td><td>4.687</td><td>110.989</td><td>134.832</td><td>6.804</td><td>batch2_Aug62019/mixcr/clones/CLONES_TRBLFS_TCR-4759-PBMC-DNA.txt   </td><td>LFS_TCR-4759-PBMC-DNA</td><td>LFS</td><td>PBMC</td></tr>\n",
       "\t<tr><th scope=row>841</th><td>LFS_TCR_4783_00</td><td>LFS_TCR_4783</td><td>X00</td><td>NA</td><td>NA</td><td>NA</td><td>LFS   </td><td>NA</td><td>NA</td><td>NA</td><td>...</td><td> 43.751</td><td> 50.645</td><td>2.601</td><td> 36.238</td><td> 43.942</td><td>3.066</td><td>batch2_Aug62019/mixcr/clones/CLONES_TRBLFS_TCR-4783-PBMC-DNA.txt   </td><td>LFS_TCR-4783-PBMC-DNA</td><td>LFS</td><td>PBMC</td></tr>\n",
       "\t<tr><th scope=row>842</th><td>LFS_TCR_4837_00</td><td>LFS_TCR_4837</td><td>X00</td><td>NA</td><td>NA</td><td>NA</td><td>LFS   </td><td>NA</td><td>NA</td><td>NA</td><td>...</td><td>136.482</td><td>156.898</td><td>4.880</td><td> 75.022</td><td> 81.973</td><td>7.744</td><td>batch2_Aug62019/mixcr/clones/CLONES_TRBLFS_TCR-4837-PBMC-DNA.txt   </td><td>LFS_TCR-4837-PBMC-DNA</td><td>LFS</td><td>PBMC</td></tr>\n",
       "\t<tr><th scope=row>843</th><td>LFS_TCR_4838_00</td><td>LFS_TCR_4838</td><td>X00</td><td>NA</td><td>NA</td><td>NA</td><td>LFS   </td><td>NA</td><td>NA</td><td>NA</td><td>...</td><td>113.899</td><td>136.258</td><td>4.725</td><td> 93.572</td><td>115.204</td><td>6.021</td><td>batch2_Aug62019/mixcr/clones/CLONES_TRBLFS_TCR-4838-PBMC-DNA.txt   </td><td>LFS_TCR-4838-PBMC-DNA</td><td>LFS</td><td>PBMC</td></tr>\n",
       "\t<tr><th scope=row>844</th><td>LFS_TCR_5014_00</td><td>LFS_TCR_5014</td><td>X00</td><td>NA</td><td>NA</td><td>NA</td><td>LFS   </td><td>NA</td><td>NA</td><td>NA</td><td>...</td><td>102.732</td><td>111.120</td><td>2.849</td><td> 75.625</td><td> 81.893</td><td>4.115</td><td>batch2_Aug62019/mixcr/clones/CLONES_TRBLFS_TCR-5014-PBMC-DNA.txt   </td><td>LFS_TCR-5014-PBMC-DNA</td><td>LFS</td><td>PBMC</td></tr>\n",
       "\t<tr><th scope=row>845</th><td>LFS_TCR_5067_00</td><td>LFS_TCR_5067</td><td>X00</td><td>NA</td><td>NA</td><td>NA</td><td>LFS   </td><td>NA</td><td>NA</td><td>NA</td><td>...</td><td>125.870</td><td>136.024</td><td>3.966</td><td> 69.751</td><td> 73.201</td><td>4.318</td><td>batch2_Aug62019/mixcr/clones/CLONES_TRBLFS_TCR-5067-PBMC-DNA.txt   </td><td>LFS_TCR-5067-PBMC-DNA</td><td>LFS</td><td>PBMC</td></tr>\n",
       "</tbody>\n",
       "</table>\n"
      ],
      "text/latex": [
       "A data.frame: 841 x 58\n",
       "\\begin{tabular}{r|lllllllllllllllllllll}\n",
       "  & sample\\_id & Patient & cycle & FOLD & ATC & Age & Disease\\_type & TE\\_fold & Pass & CD3 & ... & observed\\_Shannon & estimated\\_Shannon & SE\\_Shannon & observed\\_Simpson & estimated\\_Simpson & SE\\_Simpson & file & basename & Group & sampletype\\\\\n",
       "  & <chr> & <chr> & <chr> & <dbl> & <dbl> & <dbl> & <chr> & <chr> & <lgl> & <int> & ... & <dbl> & <dbl> & <dbl> & <dbl> & <dbl> & <dbl> & <chr> & <chr> & <chr> & <chr>\\\\\n",
       "\\hline\n",
       "\t1 & CHP\\_10YO\\_M\\_00   & CHP\\_10YO\\_M   & X00 &   NA &      NA & NA & Normal & NA   & NA & NA & ... & 10.591 & 10.601 & 0.074 &  8.556 &  8.561 & 0.097 & batchNormal\\_16Apr2020/mixcr/clones/CLONES\\_TRBCHP\\_10YO-M\\_PBMC\\_DNA.txt   & CHP\\_10YO-M\\_PBMC\\_DNA   & CHP & PBMC \\\\\n",
       "\t2 & CHP\\_11YO\\_M\\_00   & CHP\\_11YO\\_M   & X00 &   NA &      NA & NA & Normal & NA   & NA & NA & ... & 11.607 & 11.614 & 0.055 & 10.406 & 10.414 & 0.074 & batchNormal\\_16Apr2020/mixcr/clones/CLONES\\_TRBCHP\\_11YO-M\\_PBMC\\_DNA.txt   & CHP\\_11YO-M\\_PBMC\\_DNA   & CHP & PBMC \\\\\n",
       "\t3 & CHP\\_15YO\\_F\\_A\\_00 & CHP\\_15YO\\_F\\_A & X00 &   NA &      NA & NA & Normal & NA   & NA & NA & ... &  8.982 &  8.989 & 0.042 &  8.560 &  8.570 & 0.060 & batchNormal\\_16Apr2020/mixcr/clones/CLONES\\_TRBCHP\\_15YO-F-A\\_PBMC\\_DNA.txt & CHP\\_15YO-F-A\\_PBMC\\_DNA & CHP & PBMC \\\\\n",
       "\t4 & CHP\\_15YO\\_F\\_B\\_00 & CHP\\_15YO\\_F\\_B & X00 &   NA &      NA & NA & Normal & NA   & NA & NA & ... &  6.330 &  6.334 & 0.039 &  5.870 &  5.876 & 0.059 & batchNormal\\_16Apr2020/mixcr/clones/CLONES\\_TRBCHP\\_15YO-F-B\\_PBMC\\_DNA.txt & CHP\\_15YO-F-B\\_PBMC\\_DNA & CHP & PBMC \\\\\n",
       "\t5 & CHP\\_15YO\\_M\\_00   & CHP\\_15YO\\_M   & X00 &   NA &      NA & NA & Normal & NA   & NA & NA & ... & 21.110 & 21.120 & 0.040 & 20.321 & 20.339 & 0.079 & batchNormal\\_16Apr2020/mixcr/clones/CLONES\\_TRBCHP\\_15YO-M\\_PBMC\\_DNA.txt   & CHP\\_15YO-M\\_PBMC\\_DNA   & CHP & PBMC \\\\\n",
       "\t6 & CHP\\_16YO\\_M\\_00   & CHP\\_16YO\\_M   & X00 &   NA &      NA & NA & Normal & NA   & NA & NA & ... &  3.972 &  3.973 & 0.007 &  3.944 &  3.946 & 0.012 & batchNormal\\_16Apr2020/mixcr/clones/CLONES\\_TRBCHP\\_16YO-M\\_PBMC\\_DNA.txt   & CHP\\_16YO-M\\_PBMC\\_DNA   & CHP & PBMC \\\\\n",
       "\t7 & CHP\\_1YO\\_M\\_A\\_00  & CHP\\_1YO\\_M\\_A  & X00 &   NA &      NA & NA & Normal & NA   & NA & NA & ... & 34.170 & 34.191 & 0.131 & 25.198 & 25.213 & 0.217 & batchNormal\\_16Apr2020/mixcr/clones/CLONES\\_TRBCHP\\_1YO-M-A\\_PBMC\\_DNA.txt  & CHP\\_1YO-M-A\\_PBMC\\_DNA  & CHP & PBMC \\\\\n",
       "\t8 & CHP\\_1YO\\_M\\_B\\_00  & CHP\\_1YO\\_M\\_B  & X00 &   NA &      NA & NA & Normal & NA   & NA & NA & ... &  2.013 &  2.014 & 0.010 &  1.993 &  1.994 & 0.006 & batchNormal\\_16Apr2020/mixcr/clones/CLONES\\_TRBCHP\\_1YO-M-B\\_PBMC\\_DNA.txt  & CHP\\_1YO-M-B\\_PBMC\\_DNA  & CHP & PBMC \\\\\n",
       "\t9 & CHP\\_2YO\\_M\\_00    & CHP\\_2YO\\_M    & X00 &   NA &      NA & NA & Normal & NA   & NA & NA & ... &  7.910 &  7.916 & 0.053 &  7.245 &  7.253 & 0.059 & batchNormal\\_16Apr2020/mixcr/clones/CLONES\\_TRBCHP\\_2YO-M\\_PBMC\\_DNA.txt    & CHP\\_2YO-M\\_PBMC\\_DNA    & CHP & PBMC \\\\\n",
       "\t14 & CHP\\_320\\_01      & CHP\\_320      & X01 &  8.9 &    0.00 &  6 & AML    & 8.9  & NA &  0 & ... &     NA &     NA &    NA &     NA &     NA &    NA & NA                                                                     & NA                    & CHP & NA   \\\\\n",
       "\t15 & CHP\\_320\\_02      & CHP\\_320      & X02 &  3.5 &    0.00 &  6 & AML    & 3.5  & NA &  0 & ... &     NA &     NA &    NA &     NA &     NA &    NA & NA                                                                     & NA                    & CHP & NA   \\\\\n",
       "\t16 & CHP\\_320\\_03      & CHP\\_320      & X03 & 13.2 &    0.00 &  6 & AML    & 13.2 & NA &  0 & ... &     NA &     NA &    NA &     NA &     NA &    NA & NA                                                                     & NA                    & CHP & NA   \\\\\n",
       "\t17 & CHP\\_320\\_04      & CHP\\_320      & X04 &   NA &    0.00 &  6 & AML    & x    & NA &  0 & ... &     NA &     NA &    NA &     NA &     NA &    NA & NA                                                                     & NA                    & CHP & NA   \\\\\n",
       "\t18 & CHP\\_320\\_05      & CHP\\_320      & X05 &  0.0 &    0.00 &  6 & AML    & 0    & NA &  0 & ... &     NA &     NA &    NA &     NA &     NA &    NA & NA                                                                     & NA                    & CHP & NA   \\\\\n",
       "\t19 & CHP\\_321\\_01      & CHP\\_321      & X01 &  0.0 &    0.00 & 16 & HD     & 0    & NA &  0 & ... &     NA &     NA &    NA &     NA &     NA &    NA & NA                                                                     & NA                    & CHP & NA   \\\\\n",
       "\t20 & CHP\\_321\\_02      & CHP\\_321      & X02 &  0.0 &    0.00 & 16 & HD     & 0    & NA &  0 & ... &     NA &     NA &    NA &     NA &     NA &    NA & NA                                                                     & NA                    & CHP & NA   \\\\\n",
       "\t21 & CHP\\_321\\_03      & CHP\\_321      & X03 &  0.0 &    0.00 & 16 & HD     & 0    & NA &  0 & ... &     NA &     NA &    NA &     NA &     NA &    NA & NA                                                                     & NA                    & CHP & NA   \\\\\n",
       "\t22 & CHP\\_321\\_04      & CHP\\_321      & X04 &  0.0 &    0.00 & 16 & HD     & 0    & NA &  0 & ... &     NA &     NA &    NA &     NA &     NA &    NA & NA                                                                     & NA                    & CHP & NA   \\\\\n",
       "\t23 & CHP\\_321\\_05      & CHP\\_321      & X05 &  0.0 &    0.00 & 16 & HD     & 0    & NA &  0 & ... &     NA &     NA &    NA &     NA &     NA &    NA & NA                                                                     & NA                    & CHP & NA   \\\\\n",
       "\t24 & CHP\\_322\\_01      & CHP\\_322      & X01 &  1.1 &    0.00 & 18 & DLBCL  & 1.1  & NA &  0 & ... &     NA &     NA &    NA &     NA &     NA &    NA & NA                                                                     & NA                    & CHP & NA   \\\\\n",
       "\t25 & CHP\\_322\\_02      & CHP\\_322      & X02 &  0.4 &    0.00 & 18 & DLBCL  & 0.4  & NA &  0 & ... &     NA &     NA &    NA &     NA &     NA &    NA & NA                                                                     & NA                    & CHP & NA   \\\\\n",
       "\t26 & CHP\\_322\\_03      & CHP\\_322      & X03 &  4.3 &    0.00 & 18 & DLBCL  & 4.3  & NA &  0 & ... &     NA &     NA &    NA &     NA &     NA &    NA & NA                                                                     & NA                    & CHP & NA   \\\\\n",
       "\t27 & CHP\\_322\\_04      & CHP\\_322      & X04 &  4.7 &    0.00 & 18 & DLBCL  & 4.7  & NA &  0 & ... &     NA &     NA &    NA &     NA &     NA &    NA & NA                                                                     & NA                    & CHP & NA   \\\\\n",
       "\t28 & CHP\\_322\\_05      & CHP\\_322      & X05 &  1.0 &    0.00 & 18 & DLBCL  & 1    & NA &  0 & ... &     NA &     NA &    NA &     NA &     NA &    NA & NA                                                                     & NA                    & CHP & NA   \\\\\n",
       "\t29 & CHP\\_323\\_01      & CHP\\_323      & X01 &  0.0 &  154.75 &  1 & HR ALL & 0    & NA &  0 & ... &     NA &     NA &    NA &     NA &     NA &    NA & NA                                                                     & NA                    & CHP & NA   \\\\\n",
       "\t30 & CHP\\_323\\_02      & CHP\\_323      & X02 &  0.0 & 1397.28 &  1 & HR ALL & 0    & NA &  0 & ... &     NA &     NA &    NA &     NA &     NA &    NA & NA                                                                     & NA                    & CHP & NA   \\\\\n",
       "\t31 & CHP\\_323\\_03      & CHP\\_323      & X03 &  0.0 &  786.24 &  1 & HR ALL & 0    & NA &  0 & ... & 37.722 & 37.986 & 0.341 & 33.204 & 33.544 & 0.591 & batch4\\_19Aug2019/mixcr/clones/CLONES\\_TRBCHP\\_323-03-PBMC-DNA.txt        & CHP\\_323-03-PBMC-DNA   & CHP & PBMC \\\\\n",
       "\t32 & CHP\\_323\\_03      & CHP\\_323      & X03 &  0.0 &  786.24 &  1 & HR ALL & 0    & NA &  0 & ... & 43.423 & 43.456 & 0.140 & 31.052 & 31.063 & 0.162 & batch3a9\\_cfDNA\\_10Jul2020/mixcr/clones/CLONES\\_TRBCHP\\_323-03\\_cfDNA.txt   & CHP\\_323-03\\_cfDNA      & CHP & cfDNA\\\\\n",
       "\t33 & CHP\\_323\\_04      & CHP\\_323      & X04 &  0.0 &  563.68 &  1 & HR ALL & 0    & NA &  0 & ... & 13.184 & 13.414 & 0.469 &  8.985 &  9.094 & 0.542 & batch7\\_25Oct2019/mixcr/clones/CLONES\\_TRBCHP\\_323-04-PBMC-DNA.txt        & CHP\\_323-04-PBMC-DNA   & CHP & PBMC \\\\\n",
       "\t34 & CHP\\_323\\_05      & CHP\\_323      & X05 &  0.0 &  979.50 &  1 & HR ALL & 0    & NA &  0 & ... & 81.753 & 85.174 & 2.310 & 32.669 & 33.190 & 2.206 & batch7\\_25Oct2019/mixcr/clones/CLONES\\_TRBCHP\\_323-05-PBMC-DNA.txt        & CHP\\_323-05-PBMC-DNA   & CHP & PBMC \\\\\n",
       "\t... & ... & ... & ... & ... & ... & ... & ... & ... & ... & ... &  & ... & ... & ... & ... & ... & ... & ... & ... & ... & ...\\\\\n",
       "\t816 & CHP\\_434\\_03      & CHP\\_434      & X03 &  0 &  0 & 12 & HD     & 0  & NA &  0 & ... &      NA &      NA &    NA &      NA &      NA &    NA & NA                                                                  & NA                    & CHP & NA  \\\\\n",
       "\t817 & CHP\\_434\\_04      & CHP\\_434      & X04 &  0 &  0 & 12 & HD     & 0  & NA &  0 & ... &      NA &      NA &    NA &      NA &      NA &    NA & NA                                                                  & NA                    & CHP & NA  \\\\\n",
       "\t818 & CHP\\_434\\_05      & CHP\\_434      & X05 &  0 &  0 & 12 & HD     & 0  & NA &  0 & ... &      NA &      NA &    NA &      NA &      NA &    NA & NA                                                                  & NA                    & CHP & NA  \\\\\n",
       "\t819 & CHP\\_435\\_01      & CHP\\_435      & X01 &  0 &  0 &  0 & CML    & 0  & NA &  0 & ... &      NA &      NA &    NA &      NA &      NA &    NA & NA                                                                  & NA                    & CHP & NA  \\\\\n",
       "\t820 & CHP\\_435\\_02      & CHP\\_435      & X02 &  0 &  0 &  0 & CML    & 0  & NA &  0 & ... &      NA &      NA &    NA &      NA &      NA &    NA & NA                                                                  & NA                    & CHP & NA  \\\\\n",
       "\t821 & CHP\\_435\\_03      & CHP\\_435      & X03 &  0 &  0 &  0 & CML    & 0  & NA &  0 & ... &      NA &      NA &    NA &      NA &      NA &    NA & NA                                                                  & NA                    & CHP & NA  \\\\\n",
       "\t822 & CHP\\_435\\_04      & CHP\\_435      & X04 &  0 &  0 &  0 & CML    & 0  & NA &  0 & ... &      NA &      NA &    NA &      NA &      NA &    NA & NA                                                                  & NA                    & CHP & NA  \\\\\n",
       "\t823 & CHP\\_435\\_05      & CHP\\_435      & X05 &  0 &  0 &  0 & CML    & 0  & NA &  0 & ... &      NA &      NA &    NA &      NA &      NA &    NA & NA                                                                  & NA                    & CHP & NA  \\\\\n",
       "\t824 & CHP\\_436\\_01      & CHP\\_436      & X01 &  0 &  0 & 15 & OS     & 0  & NA &  0 & ... &      NA &      NA &    NA &      NA &      NA &    NA & NA                                                                  & NA                    & CHP & NA  \\\\\n",
       "\t825 & CHP\\_436\\_02      & CHP\\_436      & X02 &  0 &  0 & 15 & OS     & 0  & NA &  0 & ... &      NA &      NA &    NA &      NA &      NA &    NA & NA                                                                  & NA                    & CHP & NA  \\\\\n",
       "\t826 & CHP\\_436\\_03      & CHP\\_436      & X03 &  0 &  0 & 15 & OS     & 0  & NA &  0 & ... &      NA &      NA &    NA &      NA &      NA &    NA & NA                                                                  & NA                    & CHP & NA  \\\\\n",
       "\t827 & CHP\\_436\\_04      & CHP\\_436      & X04 &  0 &  0 & 15 & OS     & 0  & NA &  0 & ... &      NA &      NA &    NA &      NA &      NA &    NA & NA                                                                  & NA                    & CHP & NA  \\\\\n",
       "\t828 & CHP\\_436\\_05      & CHP\\_436      & X05 &  0 &  0 & 15 & OS     & 0  & NA &  0 & ... &      NA &      NA &    NA &      NA &      NA &    NA & NA                                                                  & NA                    & CHP & NA  \\\\\n",
       "\t829 & CHP\\_437\\_01      & CHP\\_437      & X01 &  0 &  0 &  9 & OS     & 0  & NA &  0 & ... &      NA &      NA &    NA &      NA &      NA &    NA & NA                                                                  & NA                    & CHP & NA  \\\\\n",
       "\t830 & CHP\\_437\\_02      & CHP\\_437      & X02 &  0 &  0 &  9 & OS     & 0  & NA &  0 & ... &      NA &      NA &    NA &      NA &      NA &    NA & NA                                                                  & NA                    & CHP & NA  \\\\\n",
       "\t831 & CHP\\_437\\_03      & CHP\\_437      & X03 &  0 &  0 &  9 & OS     & 0  & NA &  0 & ... &      NA &      NA &    NA &      NA &      NA &    NA & NA                                                                  & NA                    & CHP & NA  \\\\\n",
       "\t832 & CHP\\_437\\_04      & CHP\\_437      & X04 &  0 &  0 &  9 & OS     & 0  & NA &  0 & ... &      NA &      NA &    NA &      NA &      NA &    NA & NA                                                                  & NA                    & CHP & NA  \\\\\n",
       "\t833 & CHP\\_437\\_05      & CHP\\_437      & X05 &  0 &  0 &  9 & OS     & 0  & NA &  0 & ... &      NA &      NA &    NA &      NA &      NA &    NA & NA                                                                  & NA                    & CHP & NA  \\\\\n",
       "\t834 & CHP\\_5YO\\_M\\_00    & CHP\\_5YO\\_M    & X00 & NA & NA & NA & Normal & NA & NA & NA & ... &   2.095 &   2.096 & 0.015 &   2.008 &   2.009 & 0.011 & batchNormal\\_16Apr2020/mixcr/clones/CLONES\\_TRBCHP\\_5YO-M\\_PBMC\\_DNA.txt & CHP\\_5YO-M\\_PBMC\\_DNA    & CHP & PBMC\\\\\n",
       "\t835 & CHP\\_8MO\\_F\\_00    & CHP\\_8MO\\_F    & X00 & NA & NA & NA & Normal & NA & NA & NA & ... &  13.505 &  13.513 & 0.048 &  12.313 &  12.322 & 0.080 & batchNormal\\_16Apr2020/mixcr/clones/CLONES\\_TRBCHP\\_8MO-F\\_PBMC\\_DNA.txt & CHP\\_8MO-F\\_PBMC\\_DNA    & CHP & PBMC\\\\\n",
       "\t836 & LFS\\_TCR\\_4535\\_00 & LFS\\_TCR\\_4535 & X00 & NA & NA & NA & LFS    & NA & NA & NA & ... & 111.546 & 132.345 & 4.693 &  87.466 & 104.069 & 5.950 & batch2\\_Aug62019/mixcr/clones/CLONES\\_TRBLFS\\_TCR-4535-PBMC-DNA.txt    & LFS\\_TCR-4535-PBMC-DNA & LFS & PBMC\\\\\n",
       "\t837 & LFS\\_TCR\\_4570\\_00 & LFS\\_TCR\\_4570 & X00 & NA & NA & NA & LFS    & NA & NA & NA & ... & 111.026 & 113.748 & 1.872 &  75.856 &  77.286 & 2.093 & batch2\\_Aug62019/mixcr/clones/CLONES\\_TRBLFS\\_TCR-4570-PBMC-DNA.txt    & LFS\\_TCR-4570-PBMC-DNA & LFS & PBMC\\\\\n",
       "\t838 & LFS\\_TCR\\_4602\\_00 & LFS\\_TCR\\_4602 & X00 & NA & NA & NA & LFS    & NA & NA & NA & ... & 119.742 & 133.858 & 4.066 &  87.139 &  97.203 & 4.926 & batch2\\_Aug62019/mixcr/clones/CLONES\\_TRBLFS\\_TCR-4602-PBMC-DNA.txt    & LFS\\_TCR-4602-PBMC-DNA & LFS & PBMC\\\\\n",
       "\t839 & LFS\\_TCR\\_4758\\_00 & LFS\\_TCR\\_4758 & X00 & NA & NA & NA & LFS    & NA & NA & NA & ... & 160.804 & 166.181 & 2.137 & 114.462 & 117.599 & 2.862 & batch2\\_Aug62019/mixcr/clones/CLONES\\_TRBLFS\\_TCR-4758-PBMC-DNA.txt    & LFS\\_TCR-4758-PBMC-DNA & LFS & PBMC\\\\\n",
       "\t840 & LFS\\_TCR\\_4759\\_00 & LFS\\_TCR\\_4759 & X00 & NA & NA & NA & LFS    & NA & NA & NA & ... & 135.493 & 158.592 & 4.687 & 110.989 & 134.832 & 6.804 & batch2\\_Aug62019/mixcr/clones/CLONES\\_TRBLFS\\_TCR-4759-PBMC-DNA.txt    & LFS\\_TCR-4759-PBMC-DNA & LFS & PBMC\\\\\n",
       "\t841 & LFS\\_TCR\\_4783\\_00 & LFS\\_TCR\\_4783 & X00 & NA & NA & NA & LFS    & NA & NA & NA & ... &  43.751 &  50.645 & 2.601 &  36.238 &  43.942 & 3.066 & batch2\\_Aug62019/mixcr/clones/CLONES\\_TRBLFS\\_TCR-4783-PBMC-DNA.txt    & LFS\\_TCR-4783-PBMC-DNA & LFS & PBMC\\\\\n",
       "\t842 & LFS\\_TCR\\_4837\\_00 & LFS\\_TCR\\_4837 & X00 & NA & NA & NA & LFS    & NA & NA & NA & ... & 136.482 & 156.898 & 4.880 &  75.022 &  81.973 & 7.744 & batch2\\_Aug62019/mixcr/clones/CLONES\\_TRBLFS\\_TCR-4837-PBMC-DNA.txt    & LFS\\_TCR-4837-PBMC-DNA & LFS & PBMC\\\\\n",
       "\t843 & LFS\\_TCR\\_4838\\_00 & LFS\\_TCR\\_4838 & X00 & NA & NA & NA & LFS    & NA & NA & NA & ... & 113.899 & 136.258 & 4.725 &  93.572 & 115.204 & 6.021 & batch2\\_Aug62019/mixcr/clones/CLONES\\_TRBLFS\\_TCR-4838-PBMC-DNA.txt    & LFS\\_TCR-4838-PBMC-DNA & LFS & PBMC\\\\\n",
       "\t844 & LFS\\_TCR\\_5014\\_00 & LFS\\_TCR\\_5014 & X00 & NA & NA & NA & LFS    & NA & NA & NA & ... & 102.732 & 111.120 & 2.849 &  75.625 &  81.893 & 4.115 & batch2\\_Aug62019/mixcr/clones/CLONES\\_TRBLFS\\_TCR-5014-PBMC-DNA.txt    & LFS\\_TCR-5014-PBMC-DNA & LFS & PBMC\\\\\n",
       "\t845 & LFS\\_TCR\\_5067\\_00 & LFS\\_TCR\\_5067 & X00 & NA & NA & NA & LFS    & NA & NA & NA & ... & 125.870 & 136.024 & 3.966 &  69.751 &  73.201 & 4.318 & batch2\\_Aug62019/mixcr/clones/CLONES\\_TRBLFS\\_TCR-5067-PBMC-DNA.txt    & LFS\\_TCR-5067-PBMC-DNA & LFS & PBMC\\\\\n",
       "\\end{tabular}\n"
      ],
      "text/markdown": [
       "\n",
       "A data.frame: 841 x 58\n",
       "\n",
       "| <!--/--> | sample_id &lt;chr&gt; | Patient &lt;chr&gt; | cycle &lt;chr&gt; | FOLD &lt;dbl&gt; | ATC &lt;dbl&gt; | Age &lt;dbl&gt; | Disease_type &lt;chr&gt; | TE_fold &lt;chr&gt; | Pass &lt;lgl&gt; | CD3 &lt;int&gt; | ... ... | observed_Shannon &lt;dbl&gt; | estimated_Shannon &lt;dbl&gt; | SE_Shannon &lt;dbl&gt; | observed_Simpson &lt;dbl&gt; | estimated_Simpson &lt;dbl&gt; | SE_Simpson &lt;dbl&gt; | file &lt;chr&gt; | basename &lt;chr&gt; | Group &lt;chr&gt; | sampletype &lt;chr&gt; |\n",
       "|---|---|---|---|---|---|---|---|---|---|---|---|---|---|---|---|---|---|---|---|---|---|\n",
       "| 1 | CHP_10YO_M_00   | CHP_10YO_M   | X00 |   NA |      NA | NA | Normal | NA   | NA | NA | ... | 10.591 | 10.601 | 0.074 |  8.556 |  8.561 | 0.097 | batchNormal_16Apr2020/mixcr/clones/CLONES_TRBCHP_10YO-M_PBMC_DNA.txt   | CHP_10YO-M_PBMC_DNA   | CHP | PBMC  |\n",
       "| 2 | CHP_11YO_M_00   | CHP_11YO_M   | X00 |   NA |      NA | NA | Normal | NA   | NA | NA | ... | 11.607 | 11.614 | 0.055 | 10.406 | 10.414 | 0.074 | batchNormal_16Apr2020/mixcr/clones/CLONES_TRBCHP_11YO-M_PBMC_DNA.txt   | CHP_11YO-M_PBMC_DNA   | CHP | PBMC  |\n",
       "| 3 | CHP_15YO_F_A_00 | CHP_15YO_F_A | X00 |   NA |      NA | NA | Normal | NA   | NA | NA | ... |  8.982 |  8.989 | 0.042 |  8.560 |  8.570 | 0.060 | batchNormal_16Apr2020/mixcr/clones/CLONES_TRBCHP_15YO-F-A_PBMC_DNA.txt | CHP_15YO-F-A_PBMC_DNA | CHP | PBMC  |\n",
       "| 4 | CHP_15YO_F_B_00 | CHP_15YO_F_B | X00 |   NA |      NA | NA | Normal | NA   | NA | NA | ... |  6.330 |  6.334 | 0.039 |  5.870 |  5.876 | 0.059 | batchNormal_16Apr2020/mixcr/clones/CLONES_TRBCHP_15YO-F-B_PBMC_DNA.txt | CHP_15YO-F-B_PBMC_DNA | CHP | PBMC  |\n",
       "| 5 | CHP_15YO_M_00   | CHP_15YO_M   | X00 |   NA |      NA | NA | Normal | NA   | NA | NA | ... | 21.110 | 21.120 | 0.040 | 20.321 | 20.339 | 0.079 | batchNormal_16Apr2020/mixcr/clones/CLONES_TRBCHP_15YO-M_PBMC_DNA.txt   | CHP_15YO-M_PBMC_DNA   | CHP | PBMC  |\n",
       "| 6 | CHP_16YO_M_00   | CHP_16YO_M   | X00 |   NA |      NA | NA | Normal | NA   | NA | NA | ... |  3.972 |  3.973 | 0.007 |  3.944 |  3.946 | 0.012 | batchNormal_16Apr2020/mixcr/clones/CLONES_TRBCHP_16YO-M_PBMC_DNA.txt   | CHP_16YO-M_PBMC_DNA   | CHP | PBMC  |\n",
       "| 7 | CHP_1YO_M_A_00  | CHP_1YO_M_A  | X00 |   NA |      NA | NA | Normal | NA   | NA | NA | ... | 34.170 | 34.191 | 0.131 | 25.198 | 25.213 | 0.217 | batchNormal_16Apr2020/mixcr/clones/CLONES_TRBCHP_1YO-M-A_PBMC_DNA.txt  | CHP_1YO-M-A_PBMC_DNA  | CHP | PBMC  |\n",
       "| 8 | CHP_1YO_M_B_00  | CHP_1YO_M_B  | X00 |   NA |      NA | NA | Normal | NA   | NA | NA | ... |  2.013 |  2.014 | 0.010 |  1.993 |  1.994 | 0.006 | batchNormal_16Apr2020/mixcr/clones/CLONES_TRBCHP_1YO-M-B_PBMC_DNA.txt  | CHP_1YO-M-B_PBMC_DNA  | CHP | PBMC  |\n",
       "| 9 | CHP_2YO_M_00    | CHP_2YO_M    | X00 |   NA |      NA | NA | Normal | NA   | NA | NA | ... |  7.910 |  7.916 | 0.053 |  7.245 |  7.253 | 0.059 | batchNormal_16Apr2020/mixcr/clones/CLONES_TRBCHP_2YO-M_PBMC_DNA.txt    | CHP_2YO-M_PBMC_DNA    | CHP | PBMC  |\n",
       "| 14 | CHP_320_01      | CHP_320      | X01 |  8.9 |    0.00 |  6 | AML    | 8.9  | NA |  0 | ... |     NA |     NA |    NA |     NA |     NA |    NA | NA                                                                     | NA                    | CHP | NA    |\n",
       "| 15 | CHP_320_02      | CHP_320      | X02 |  3.5 |    0.00 |  6 | AML    | 3.5  | NA |  0 | ... |     NA |     NA |    NA |     NA |     NA |    NA | NA                                                                     | NA                    | CHP | NA    |\n",
       "| 16 | CHP_320_03      | CHP_320      | X03 | 13.2 |    0.00 |  6 | AML    | 13.2 | NA |  0 | ... |     NA |     NA |    NA |     NA |     NA |    NA | NA                                                                     | NA                    | CHP | NA    |\n",
       "| 17 | CHP_320_04      | CHP_320      | X04 |   NA |    0.00 |  6 | AML    | x    | NA |  0 | ... |     NA |     NA |    NA |     NA |     NA |    NA | NA                                                                     | NA                    | CHP | NA    |\n",
       "| 18 | CHP_320_05      | CHP_320      | X05 |  0.0 |    0.00 |  6 | AML    | 0    | NA |  0 | ... |     NA |     NA |    NA |     NA |     NA |    NA | NA                                                                     | NA                    | CHP | NA    |\n",
       "| 19 | CHP_321_01      | CHP_321      | X01 |  0.0 |    0.00 | 16 | HD     | 0    | NA |  0 | ... |     NA |     NA |    NA |     NA |     NA |    NA | NA                                                                     | NA                    | CHP | NA    |\n",
       "| 20 | CHP_321_02      | CHP_321      | X02 |  0.0 |    0.00 | 16 | HD     | 0    | NA |  0 | ... |     NA |     NA |    NA |     NA |     NA |    NA | NA                                                                     | NA                    | CHP | NA    |\n",
       "| 21 | CHP_321_03      | CHP_321      | X03 |  0.0 |    0.00 | 16 | HD     | 0    | NA |  0 | ... |     NA |     NA |    NA |     NA |     NA |    NA | NA                                                                     | NA                    | CHP | NA    |\n",
       "| 22 | CHP_321_04      | CHP_321      | X04 |  0.0 |    0.00 | 16 | HD     | 0    | NA |  0 | ... |     NA |     NA |    NA |     NA |     NA |    NA | NA                                                                     | NA                    | CHP | NA    |\n",
       "| 23 | CHP_321_05      | CHP_321      | X05 |  0.0 |    0.00 | 16 | HD     | 0    | NA |  0 | ... |     NA |     NA |    NA |     NA |     NA |    NA | NA                                                                     | NA                    | CHP | NA    |\n",
       "| 24 | CHP_322_01      | CHP_322      | X01 |  1.1 |    0.00 | 18 | DLBCL  | 1.1  | NA |  0 | ... |     NA |     NA |    NA |     NA |     NA |    NA | NA                                                                     | NA                    | CHP | NA    |\n",
       "| 25 | CHP_322_02      | CHP_322      | X02 |  0.4 |    0.00 | 18 | DLBCL  | 0.4  | NA |  0 | ... |     NA |     NA |    NA |     NA |     NA |    NA | NA                                                                     | NA                    | CHP | NA    |\n",
       "| 26 | CHP_322_03      | CHP_322      | X03 |  4.3 |    0.00 | 18 | DLBCL  | 4.3  | NA |  0 | ... |     NA |     NA |    NA |     NA |     NA |    NA | NA                                                                     | NA                    | CHP | NA    |\n",
       "| 27 | CHP_322_04      | CHP_322      | X04 |  4.7 |    0.00 | 18 | DLBCL  | 4.7  | NA |  0 | ... |     NA |     NA |    NA |     NA |     NA |    NA | NA                                                                     | NA                    | CHP | NA    |\n",
       "| 28 | CHP_322_05      | CHP_322      | X05 |  1.0 |    0.00 | 18 | DLBCL  | 1    | NA |  0 | ... |     NA |     NA |    NA |     NA |     NA |    NA | NA                                                                     | NA                    | CHP | NA    |\n",
       "| 29 | CHP_323_01      | CHP_323      | X01 |  0.0 |  154.75 |  1 | HR ALL | 0    | NA |  0 | ... |     NA |     NA |    NA |     NA |     NA |    NA | NA                                                                     | NA                    | CHP | NA    |\n",
       "| 30 | CHP_323_02      | CHP_323      | X02 |  0.0 | 1397.28 |  1 | HR ALL | 0    | NA |  0 | ... |     NA |     NA |    NA |     NA |     NA |    NA | NA                                                                     | NA                    | CHP | NA    |\n",
       "| 31 | CHP_323_03      | CHP_323      | X03 |  0.0 |  786.24 |  1 | HR ALL | 0    | NA |  0 | ... | 37.722 | 37.986 | 0.341 | 33.204 | 33.544 | 0.591 | batch4_19Aug2019/mixcr/clones/CLONES_TRBCHP_323-03-PBMC-DNA.txt        | CHP_323-03-PBMC-DNA   | CHP | PBMC  |\n",
       "| 32 | CHP_323_03      | CHP_323      | X03 |  0.0 |  786.24 |  1 | HR ALL | 0    | NA |  0 | ... | 43.423 | 43.456 | 0.140 | 31.052 | 31.063 | 0.162 | batch3a9_cfDNA_10Jul2020/mixcr/clones/CLONES_TRBCHP_323-03_cfDNA.txt   | CHP_323-03_cfDNA      | CHP | cfDNA |\n",
       "| 33 | CHP_323_04      | CHP_323      | X04 |  0.0 |  563.68 |  1 | HR ALL | 0    | NA |  0 | ... | 13.184 | 13.414 | 0.469 |  8.985 |  9.094 | 0.542 | batch7_25Oct2019/mixcr/clones/CLONES_TRBCHP_323-04-PBMC-DNA.txt        | CHP_323-04-PBMC-DNA   | CHP | PBMC  |\n",
       "| 34 | CHP_323_05      | CHP_323      | X05 |  0.0 |  979.50 |  1 | HR ALL | 0    | NA |  0 | ... | 81.753 | 85.174 | 2.310 | 32.669 | 33.190 | 2.206 | batch7_25Oct2019/mixcr/clones/CLONES_TRBCHP_323-05-PBMC-DNA.txt        | CHP_323-05-PBMC-DNA   | CHP | PBMC  |\n",
       "| ... | ... | ... | ... | ... | ... | ... | ... | ... | ... | ... | <!----> | ... | ... | ... | ... | ... | ... | ... | ... | ... | ... |\n",
       "| 816 | CHP_434_03      | CHP_434      | X03 |  0 |  0 | 12 | HD     | 0  | NA |  0 | ... |      NA |      NA |    NA |      NA |      NA |    NA | NA                                                                  | NA                    | CHP | NA   |\n",
       "| 817 | CHP_434_04      | CHP_434      | X04 |  0 |  0 | 12 | HD     | 0  | NA |  0 | ... |      NA |      NA |    NA |      NA |      NA |    NA | NA                                                                  | NA                    | CHP | NA   |\n",
       "| 818 | CHP_434_05      | CHP_434      | X05 |  0 |  0 | 12 | HD     | 0  | NA |  0 | ... |      NA |      NA |    NA |      NA |      NA |    NA | NA                                                                  | NA                    | CHP | NA   |\n",
       "| 819 | CHP_435_01      | CHP_435      | X01 |  0 |  0 |  0 | CML    | 0  | NA |  0 | ... |      NA |      NA |    NA |      NA |      NA |    NA | NA                                                                  | NA                    | CHP | NA   |\n",
       "| 820 | CHP_435_02      | CHP_435      | X02 |  0 |  0 |  0 | CML    | 0  | NA |  0 | ... |      NA |      NA |    NA |      NA |      NA |    NA | NA                                                                  | NA                    | CHP | NA   |\n",
       "| 821 | CHP_435_03      | CHP_435      | X03 |  0 |  0 |  0 | CML    | 0  | NA |  0 | ... |      NA |      NA |    NA |      NA |      NA |    NA | NA                                                                  | NA                    | CHP | NA   |\n",
       "| 822 | CHP_435_04      | CHP_435      | X04 |  0 |  0 |  0 | CML    | 0  | NA |  0 | ... |      NA |      NA |    NA |      NA |      NA |    NA | NA                                                                  | NA                    | CHP | NA   |\n",
       "| 823 | CHP_435_05      | CHP_435      | X05 |  0 |  0 |  0 | CML    | 0  | NA |  0 | ... |      NA |      NA |    NA |      NA |      NA |    NA | NA                                                                  | NA                    | CHP | NA   |\n",
       "| 824 | CHP_436_01      | CHP_436      | X01 |  0 |  0 | 15 | OS     | 0  | NA |  0 | ... |      NA |      NA |    NA |      NA |      NA |    NA | NA                                                                  | NA                    | CHP | NA   |\n",
       "| 825 | CHP_436_02      | CHP_436      | X02 |  0 |  0 | 15 | OS     | 0  | NA |  0 | ... |      NA |      NA |    NA |      NA |      NA |    NA | NA                                                                  | NA                    | CHP | NA   |\n",
       "| 826 | CHP_436_03      | CHP_436      | X03 |  0 |  0 | 15 | OS     | 0  | NA |  0 | ... |      NA |      NA |    NA |      NA |      NA |    NA | NA                                                                  | NA                    | CHP | NA   |\n",
       "| 827 | CHP_436_04      | CHP_436      | X04 |  0 |  0 | 15 | OS     | 0  | NA |  0 | ... |      NA |      NA |    NA |      NA |      NA |    NA | NA                                                                  | NA                    | CHP | NA   |\n",
       "| 828 | CHP_436_05      | CHP_436      | X05 |  0 |  0 | 15 | OS     | 0  | NA |  0 | ... |      NA |      NA |    NA |      NA |      NA |    NA | NA                                                                  | NA                    | CHP | NA   |\n",
       "| 829 | CHP_437_01      | CHP_437      | X01 |  0 |  0 |  9 | OS     | 0  | NA |  0 | ... |      NA |      NA |    NA |      NA |      NA |    NA | NA                                                                  | NA                    | CHP | NA   |\n",
       "| 830 | CHP_437_02      | CHP_437      | X02 |  0 |  0 |  9 | OS     | 0  | NA |  0 | ... |      NA |      NA |    NA |      NA |      NA |    NA | NA                                                                  | NA                    | CHP | NA   |\n",
       "| 831 | CHP_437_03      | CHP_437      | X03 |  0 |  0 |  9 | OS     | 0  | NA |  0 | ... |      NA |      NA |    NA |      NA |      NA |    NA | NA                                                                  | NA                    | CHP | NA   |\n",
       "| 832 | CHP_437_04      | CHP_437      | X04 |  0 |  0 |  9 | OS     | 0  | NA |  0 | ... |      NA |      NA |    NA |      NA |      NA |    NA | NA                                                                  | NA                    | CHP | NA   |\n",
       "| 833 | CHP_437_05      | CHP_437      | X05 |  0 |  0 |  9 | OS     | 0  | NA |  0 | ... |      NA |      NA |    NA |      NA |      NA |    NA | NA                                                                  | NA                    | CHP | NA   |\n",
       "| 834 | CHP_5YO_M_00    | CHP_5YO_M    | X00 | NA | NA | NA | Normal | NA | NA | NA | ... |   2.095 |   2.096 | 0.015 |   2.008 |   2.009 | 0.011 | batchNormal_16Apr2020/mixcr/clones/CLONES_TRBCHP_5YO-M_PBMC_DNA.txt | CHP_5YO-M_PBMC_DNA    | CHP | PBMC |\n",
       "| 835 | CHP_8MO_F_00    | CHP_8MO_F    | X00 | NA | NA | NA | Normal | NA | NA | NA | ... |  13.505 |  13.513 | 0.048 |  12.313 |  12.322 | 0.080 | batchNormal_16Apr2020/mixcr/clones/CLONES_TRBCHP_8MO-F_PBMC_DNA.txt | CHP_8MO-F_PBMC_DNA    | CHP | PBMC |\n",
       "| 836 | LFS_TCR_4535_00 | LFS_TCR_4535 | X00 | NA | NA | NA | LFS    | NA | NA | NA | ... | 111.546 | 132.345 | 4.693 |  87.466 | 104.069 | 5.950 | batch2_Aug62019/mixcr/clones/CLONES_TRBLFS_TCR-4535-PBMC-DNA.txt    | LFS_TCR-4535-PBMC-DNA | LFS | PBMC |\n",
       "| 837 | LFS_TCR_4570_00 | LFS_TCR_4570 | X00 | NA | NA | NA | LFS    | NA | NA | NA | ... | 111.026 | 113.748 | 1.872 |  75.856 |  77.286 | 2.093 | batch2_Aug62019/mixcr/clones/CLONES_TRBLFS_TCR-4570-PBMC-DNA.txt    | LFS_TCR-4570-PBMC-DNA | LFS | PBMC |\n",
       "| 838 | LFS_TCR_4602_00 | LFS_TCR_4602 | X00 | NA | NA | NA | LFS    | NA | NA | NA | ... | 119.742 | 133.858 | 4.066 |  87.139 |  97.203 | 4.926 | batch2_Aug62019/mixcr/clones/CLONES_TRBLFS_TCR-4602-PBMC-DNA.txt    | LFS_TCR-4602-PBMC-DNA | LFS | PBMC |\n",
       "| 839 | LFS_TCR_4758_00 | LFS_TCR_4758 | X00 | NA | NA | NA | LFS    | NA | NA | NA | ... | 160.804 | 166.181 | 2.137 | 114.462 | 117.599 | 2.862 | batch2_Aug62019/mixcr/clones/CLONES_TRBLFS_TCR-4758-PBMC-DNA.txt    | LFS_TCR-4758-PBMC-DNA | LFS | PBMC |\n",
       "| 840 | LFS_TCR_4759_00 | LFS_TCR_4759 | X00 | NA | NA | NA | LFS    | NA | NA | NA | ... | 135.493 | 158.592 | 4.687 | 110.989 | 134.832 | 6.804 | batch2_Aug62019/mixcr/clones/CLONES_TRBLFS_TCR-4759-PBMC-DNA.txt    | LFS_TCR-4759-PBMC-DNA | LFS | PBMC |\n",
       "| 841 | LFS_TCR_4783_00 | LFS_TCR_4783 | X00 | NA | NA | NA | LFS    | NA | NA | NA | ... |  43.751 |  50.645 | 2.601 |  36.238 |  43.942 | 3.066 | batch2_Aug62019/mixcr/clones/CLONES_TRBLFS_TCR-4783-PBMC-DNA.txt    | LFS_TCR-4783-PBMC-DNA | LFS | PBMC |\n",
       "| 842 | LFS_TCR_4837_00 | LFS_TCR_4837 | X00 | NA | NA | NA | LFS    | NA | NA | NA | ... | 136.482 | 156.898 | 4.880 |  75.022 |  81.973 | 7.744 | batch2_Aug62019/mixcr/clones/CLONES_TRBLFS_TCR-4837-PBMC-DNA.txt    | LFS_TCR-4837-PBMC-DNA | LFS | PBMC |\n",
       "| 843 | LFS_TCR_4838_00 | LFS_TCR_4838 | X00 | NA | NA | NA | LFS    | NA | NA | NA | ... | 113.899 | 136.258 | 4.725 |  93.572 | 115.204 | 6.021 | batch2_Aug62019/mixcr/clones/CLONES_TRBLFS_TCR-4838-PBMC-DNA.txt    | LFS_TCR-4838-PBMC-DNA | LFS | PBMC |\n",
       "| 844 | LFS_TCR_5014_00 | LFS_TCR_5014 | X00 | NA | NA | NA | LFS    | NA | NA | NA | ... | 102.732 | 111.120 | 2.849 |  75.625 |  81.893 | 4.115 | batch2_Aug62019/mixcr/clones/CLONES_TRBLFS_TCR-5014-PBMC-DNA.txt    | LFS_TCR-5014-PBMC-DNA | LFS | PBMC |\n",
       "| 845 | LFS_TCR_5067_00 | LFS_TCR_5067 | X00 | NA | NA | NA | LFS    | NA | NA | NA | ... | 125.870 | 136.024 | 3.966 |  69.751 |  73.201 | 4.318 | batch2_Aug62019/mixcr/clones/CLONES_TRBLFS_TCR-5067-PBMC-DNA.txt    | LFS_TCR-5067-PBMC-DNA | LFS | PBMC |\n",
       "\n"
      ],
      "text/plain": [
       "    sample_id       Patient      cycle FOLD ATC     Age Disease_type TE_fold\n",
       "1   CHP_10YO_M_00   CHP_10YO_M   X00     NA      NA NA  Normal       NA     \n",
       "2   CHP_11YO_M_00   CHP_11YO_M   X00     NA      NA NA  Normal       NA     \n",
       "3   CHP_15YO_F_A_00 CHP_15YO_F_A X00     NA      NA NA  Normal       NA     \n",
       "4   CHP_15YO_F_B_00 CHP_15YO_F_B X00     NA      NA NA  Normal       NA     \n",
       "5   CHP_15YO_M_00   CHP_15YO_M   X00     NA      NA NA  Normal       NA     \n",
       "6   CHP_16YO_M_00   CHP_16YO_M   X00     NA      NA NA  Normal       NA     \n",
       "7   CHP_1YO_M_A_00  CHP_1YO_M_A  X00     NA      NA NA  Normal       NA     \n",
       "8   CHP_1YO_M_B_00  CHP_1YO_M_B  X00     NA      NA NA  Normal       NA     \n",
       "9   CHP_2YO_M_00    CHP_2YO_M    X00     NA      NA NA  Normal       NA     \n",
       "14  CHP_320_01      CHP_320      X01    8.9    0.00  6  AML          8.9    \n",
       "15  CHP_320_02      CHP_320      X02    3.5    0.00  6  AML          3.5    \n",
       "16  CHP_320_03      CHP_320      X03   13.2    0.00  6  AML          13.2   \n",
       "17  CHP_320_04      CHP_320      X04     NA    0.00  6  AML          x      \n",
       "18  CHP_320_05      CHP_320      X05    0.0    0.00  6  AML          0      \n",
       "19  CHP_321_01      CHP_321      X01    0.0    0.00 16  HD           0      \n",
       "20  CHP_321_02      CHP_321      X02    0.0    0.00 16  HD           0      \n",
       "21  CHP_321_03      CHP_321      X03    0.0    0.00 16  HD           0      \n",
       "22  CHP_321_04      CHP_321      X04    0.0    0.00 16  HD           0      \n",
       "23  CHP_321_05      CHP_321      X05    0.0    0.00 16  HD           0      \n",
       "24  CHP_322_01      CHP_322      X01    1.1    0.00 18  DLBCL        1.1    \n",
       "25  CHP_322_02      CHP_322      X02    0.4    0.00 18  DLBCL        0.4    \n",
       "26  CHP_322_03      CHP_322      X03    4.3    0.00 18  DLBCL        4.3    \n",
       "27  CHP_322_04      CHP_322      X04    4.7    0.00 18  DLBCL        4.7    \n",
       "28  CHP_322_05      CHP_322      X05    1.0    0.00 18  DLBCL        1      \n",
       "29  CHP_323_01      CHP_323      X01    0.0  154.75  1  HR ALL       0      \n",
       "30  CHP_323_02      CHP_323      X02    0.0 1397.28  1  HR ALL       0      \n",
       "31  CHP_323_03      CHP_323      X03    0.0  786.24  1  HR ALL       0      \n",
       "32  CHP_323_03      CHP_323      X03    0.0  786.24  1  HR ALL       0      \n",
       "33  CHP_323_04      CHP_323      X04    0.0  563.68  1  HR ALL       0      \n",
       "34  CHP_323_05      CHP_323      X05    0.0  979.50  1  HR ALL       0      \n",
       "... ...             ...          ...   ...  ...     ... ...          ...    \n",
       "816 CHP_434_03      CHP_434      X03    0    0      12  HD           0      \n",
       "817 CHP_434_04      CHP_434      X04    0    0      12  HD           0      \n",
       "818 CHP_434_05      CHP_434      X05    0    0      12  HD           0      \n",
       "819 CHP_435_01      CHP_435      X01    0    0       0  CML          0      \n",
       "820 CHP_435_02      CHP_435      X02    0    0       0  CML          0      \n",
       "821 CHP_435_03      CHP_435      X03    0    0       0  CML          0      \n",
       "822 CHP_435_04      CHP_435      X04    0    0       0  CML          0      \n",
       "823 CHP_435_05      CHP_435      X05    0    0       0  CML          0      \n",
       "824 CHP_436_01      CHP_436      X01    0    0      15  OS           0      \n",
       "825 CHP_436_02      CHP_436      X02    0    0      15  OS           0      \n",
       "826 CHP_436_03      CHP_436      X03    0    0      15  OS           0      \n",
       "827 CHP_436_04      CHP_436      X04    0    0      15  OS           0      \n",
       "828 CHP_436_05      CHP_436      X05    0    0      15  OS           0      \n",
       "829 CHP_437_01      CHP_437      X01    0    0       9  OS           0      \n",
       "830 CHP_437_02      CHP_437      X02    0    0       9  OS           0      \n",
       "831 CHP_437_03      CHP_437      X03    0    0       9  OS           0      \n",
       "832 CHP_437_04      CHP_437      X04    0    0       9  OS           0      \n",
       "833 CHP_437_05      CHP_437      X05    0    0       9  OS           0      \n",
       "834 CHP_5YO_M_00    CHP_5YO_M    X00   NA   NA      NA  Normal       NA     \n",
       "835 CHP_8MO_F_00    CHP_8MO_F    X00   NA   NA      NA  Normal       NA     \n",
       "836 LFS_TCR_4535_00 LFS_TCR_4535 X00   NA   NA      NA  LFS          NA     \n",
       "837 LFS_TCR_4570_00 LFS_TCR_4570 X00   NA   NA      NA  LFS          NA     \n",
       "838 LFS_TCR_4602_00 LFS_TCR_4602 X00   NA   NA      NA  LFS          NA     \n",
       "839 LFS_TCR_4758_00 LFS_TCR_4758 X00   NA   NA      NA  LFS          NA     \n",
       "840 LFS_TCR_4759_00 LFS_TCR_4759 X00   NA   NA      NA  LFS          NA     \n",
       "841 LFS_TCR_4783_00 LFS_TCR_4783 X00   NA   NA      NA  LFS          NA     \n",
       "842 LFS_TCR_4837_00 LFS_TCR_4837 X00   NA   NA      NA  LFS          NA     \n",
       "843 LFS_TCR_4838_00 LFS_TCR_4838 X00   NA   NA      NA  LFS          NA     \n",
       "844 LFS_TCR_5014_00 LFS_TCR_5014 X00   NA   NA      NA  LFS          NA     \n",
       "845 LFS_TCR_5067_00 LFS_TCR_5067 X00   NA   NA      NA  LFS          NA     \n",
       "    Pass CD3 ... observed_Shannon estimated_Shannon SE_Shannon observed_Simpson\n",
       "1   NA   NA  ... 10.591           10.601            0.074       8.556          \n",
       "2   NA   NA  ... 11.607           11.614            0.055      10.406          \n",
       "3   NA   NA  ...  8.982            8.989            0.042       8.560          \n",
       "4   NA   NA  ...  6.330            6.334            0.039       5.870          \n",
       "5   NA   NA  ... 21.110           21.120            0.040      20.321          \n",
       "6   NA   NA  ...  3.972            3.973            0.007       3.944          \n",
       "7   NA   NA  ... 34.170           34.191            0.131      25.198          \n",
       "8   NA   NA  ...  2.013            2.014            0.010       1.993          \n",
       "9   NA   NA  ...  7.910            7.916            0.053       7.245          \n",
       "14  NA    0  ...     NA               NA               NA          NA          \n",
       "15  NA    0  ...     NA               NA               NA          NA          \n",
       "16  NA    0  ...     NA               NA               NA          NA          \n",
       "17  NA    0  ...     NA               NA               NA          NA          \n",
       "18  NA    0  ...     NA               NA               NA          NA          \n",
       "19  NA    0  ...     NA               NA               NA          NA          \n",
       "20  NA    0  ...     NA               NA               NA          NA          \n",
       "21  NA    0  ...     NA               NA               NA          NA          \n",
       "22  NA    0  ...     NA               NA               NA          NA          \n",
       "23  NA    0  ...     NA               NA               NA          NA          \n",
       "24  NA    0  ...     NA               NA               NA          NA          \n",
       "25  NA    0  ...     NA               NA               NA          NA          \n",
       "26  NA    0  ...     NA               NA               NA          NA          \n",
       "27  NA    0  ...     NA               NA               NA          NA          \n",
       "28  NA    0  ...     NA               NA               NA          NA          \n",
       "29  NA    0  ...     NA               NA               NA          NA          \n",
       "30  NA    0  ...     NA               NA               NA          NA          \n",
       "31  NA    0  ... 37.722           37.986            0.341      33.204          \n",
       "32  NA    0  ... 43.423           43.456            0.140      31.052          \n",
       "33  NA    0  ... 13.184           13.414            0.469       8.985          \n",
       "34  NA    0  ... 81.753           85.174            2.310      32.669          \n",
       "... ...  ...     ...              ...               ...        ...             \n",
       "816 NA    0  ...      NA               NA              NA           NA         \n",
       "817 NA    0  ...      NA               NA              NA           NA         \n",
       "818 NA    0  ...      NA               NA              NA           NA         \n",
       "819 NA    0  ...      NA               NA              NA           NA         \n",
       "820 NA    0  ...      NA               NA              NA           NA         \n",
       "821 NA    0  ...      NA               NA              NA           NA         \n",
       "822 NA    0  ...      NA               NA              NA           NA         \n",
       "823 NA    0  ...      NA               NA              NA           NA         \n",
       "824 NA    0  ...      NA               NA              NA           NA         \n",
       "825 NA    0  ...      NA               NA              NA           NA         \n",
       "826 NA    0  ...      NA               NA              NA           NA         \n",
       "827 NA    0  ...      NA               NA              NA           NA         \n",
       "828 NA    0  ...      NA               NA              NA           NA         \n",
       "829 NA    0  ...      NA               NA              NA           NA         \n",
       "830 NA    0  ...      NA               NA              NA           NA         \n",
       "831 NA    0  ...      NA               NA              NA           NA         \n",
       "832 NA    0  ...      NA               NA              NA           NA         \n",
       "833 NA    0  ...      NA               NA              NA           NA         \n",
       "834 NA   NA  ...   2.095            2.096           0.015        2.008         \n",
       "835 NA   NA  ...  13.505           13.513           0.048       12.313         \n",
       "836 NA   NA  ... 111.546          132.345           4.693       87.466         \n",
       "837 NA   NA  ... 111.026          113.748           1.872       75.856         \n",
       "838 NA   NA  ... 119.742          133.858           4.066       87.139         \n",
       "839 NA   NA  ... 160.804          166.181           2.137      114.462         \n",
       "840 NA   NA  ... 135.493          158.592           4.687      110.989         \n",
       "841 NA   NA  ...  43.751           50.645           2.601       36.238         \n",
       "842 NA   NA  ... 136.482          156.898           4.880       75.022         \n",
       "843 NA   NA  ... 113.899          136.258           4.725       93.572         \n",
       "844 NA   NA  ... 102.732          111.120           2.849       75.625         \n",
       "845 NA   NA  ... 125.870          136.024           3.966       69.751         \n",
       "    estimated_Simpson SE_Simpson\n",
       "1    8.561            0.097     \n",
       "2   10.414            0.074     \n",
       "3    8.570            0.060     \n",
       "4    5.876            0.059     \n",
       "5   20.339            0.079     \n",
       "6    3.946            0.012     \n",
       "7   25.213            0.217     \n",
       "8    1.994            0.006     \n",
       "9    7.253            0.059     \n",
       "14      NA               NA     \n",
       "15      NA               NA     \n",
       "16      NA               NA     \n",
       "17      NA               NA     \n",
       "18      NA               NA     \n",
       "19      NA               NA     \n",
       "20      NA               NA     \n",
       "21      NA               NA     \n",
       "22      NA               NA     \n",
       "23      NA               NA     \n",
       "24      NA               NA     \n",
       "25      NA               NA     \n",
       "26      NA               NA     \n",
       "27      NA               NA     \n",
       "28      NA               NA     \n",
       "29      NA               NA     \n",
       "30      NA               NA     \n",
       "31  33.544            0.591     \n",
       "32  31.063            0.162     \n",
       "33   9.094            0.542     \n",
       "34  33.190            2.206     \n",
       "... ...               ...       \n",
       "816      NA              NA     \n",
       "817      NA              NA     \n",
       "818      NA              NA     \n",
       "819      NA              NA     \n",
       "820      NA              NA     \n",
       "821      NA              NA     \n",
       "822      NA              NA     \n",
       "823      NA              NA     \n",
       "824      NA              NA     \n",
       "825      NA              NA     \n",
       "826      NA              NA     \n",
       "827      NA              NA     \n",
       "828      NA              NA     \n",
       "829      NA              NA     \n",
       "830      NA              NA     \n",
       "831      NA              NA     \n",
       "832      NA              NA     \n",
       "833      NA              NA     \n",
       "834   2.009           0.011     \n",
       "835  12.322           0.080     \n",
       "836 104.069           5.950     \n",
       "837  77.286           2.093     \n",
       "838  97.203           4.926     \n",
       "839 117.599           2.862     \n",
       "840 134.832           6.804     \n",
       "841  43.942           3.066     \n",
       "842  81.973           7.744     \n",
       "843 115.204           6.021     \n",
       "844  81.893           4.115     \n",
       "845  73.201           4.318     \n",
       "    file                                                                  \n",
       "1   batchNormal_16Apr2020/mixcr/clones/CLONES_TRBCHP_10YO-M_PBMC_DNA.txt  \n",
       "2   batchNormal_16Apr2020/mixcr/clones/CLONES_TRBCHP_11YO-M_PBMC_DNA.txt  \n",
       "3   batchNormal_16Apr2020/mixcr/clones/CLONES_TRBCHP_15YO-F-A_PBMC_DNA.txt\n",
       "4   batchNormal_16Apr2020/mixcr/clones/CLONES_TRBCHP_15YO-F-B_PBMC_DNA.txt\n",
       "5   batchNormal_16Apr2020/mixcr/clones/CLONES_TRBCHP_15YO-M_PBMC_DNA.txt  \n",
       "6   batchNormal_16Apr2020/mixcr/clones/CLONES_TRBCHP_16YO-M_PBMC_DNA.txt  \n",
       "7   batchNormal_16Apr2020/mixcr/clones/CLONES_TRBCHP_1YO-M-A_PBMC_DNA.txt \n",
       "8   batchNormal_16Apr2020/mixcr/clones/CLONES_TRBCHP_1YO-M-B_PBMC_DNA.txt \n",
       "9   batchNormal_16Apr2020/mixcr/clones/CLONES_TRBCHP_2YO-M_PBMC_DNA.txt   \n",
       "14  NA                                                                    \n",
       "15  NA                                                                    \n",
       "16  NA                                                                    \n",
       "17  NA                                                                    \n",
       "18  NA                                                                    \n",
       "19  NA                                                                    \n",
       "20  NA                                                                    \n",
       "21  NA                                                                    \n",
       "22  NA                                                                    \n",
       "23  NA                                                                    \n",
       "24  NA                                                                    \n",
       "25  NA                                                                    \n",
       "26  NA                                                                    \n",
       "27  NA                                                                    \n",
       "28  NA                                                                    \n",
       "29  NA                                                                    \n",
       "30  NA                                                                    \n",
       "31  batch4_19Aug2019/mixcr/clones/CLONES_TRBCHP_323-03-PBMC-DNA.txt       \n",
       "32  batch3a9_cfDNA_10Jul2020/mixcr/clones/CLONES_TRBCHP_323-03_cfDNA.txt  \n",
       "33  batch7_25Oct2019/mixcr/clones/CLONES_TRBCHP_323-04-PBMC-DNA.txt       \n",
       "34  batch7_25Oct2019/mixcr/clones/CLONES_TRBCHP_323-05-PBMC-DNA.txt       \n",
       "... ...                                                                   \n",
       "816 NA                                                                    \n",
       "817 NA                                                                    \n",
       "818 NA                                                                    \n",
       "819 NA                                                                    \n",
       "820 NA                                                                    \n",
       "821 NA                                                                    \n",
       "822 NA                                                                    \n",
       "823 NA                                                                    \n",
       "824 NA                                                                    \n",
       "825 NA                                                                    \n",
       "826 NA                                                                    \n",
       "827 NA                                                                    \n",
       "828 NA                                                                    \n",
       "829 NA                                                                    \n",
       "830 NA                                                                    \n",
       "831 NA                                                                    \n",
       "832 NA                                                                    \n",
       "833 NA                                                                    \n",
       "834 batchNormal_16Apr2020/mixcr/clones/CLONES_TRBCHP_5YO-M_PBMC_DNA.txt   \n",
       "835 batchNormal_16Apr2020/mixcr/clones/CLONES_TRBCHP_8MO-F_PBMC_DNA.txt   \n",
       "836 batch2_Aug62019/mixcr/clones/CLONES_TRBLFS_TCR-4535-PBMC-DNA.txt      \n",
       "837 batch2_Aug62019/mixcr/clones/CLONES_TRBLFS_TCR-4570-PBMC-DNA.txt      \n",
       "838 batch2_Aug62019/mixcr/clones/CLONES_TRBLFS_TCR-4602-PBMC-DNA.txt      \n",
       "839 batch2_Aug62019/mixcr/clones/CLONES_TRBLFS_TCR-4758-PBMC-DNA.txt      \n",
       "840 batch2_Aug62019/mixcr/clones/CLONES_TRBLFS_TCR-4759-PBMC-DNA.txt      \n",
       "841 batch2_Aug62019/mixcr/clones/CLONES_TRBLFS_TCR-4783-PBMC-DNA.txt      \n",
       "842 batch2_Aug62019/mixcr/clones/CLONES_TRBLFS_TCR-4837-PBMC-DNA.txt      \n",
       "843 batch2_Aug62019/mixcr/clones/CLONES_TRBLFS_TCR-4838-PBMC-DNA.txt      \n",
       "844 batch2_Aug62019/mixcr/clones/CLONES_TRBLFS_TCR-5014-PBMC-DNA.txt      \n",
       "845 batch2_Aug62019/mixcr/clones/CLONES_TRBLFS_TCR-5067-PBMC-DNA.txt      \n",
       "    basename              Group sampletype\n",
       "1   CHP_10YO-M_PBMC_DNA   CHP   PBMC      \n",
       "2   CHP_11YO-M_PBMC_DNA   CHP   PBMC      \n",
       "3   CHP_15YO-F-A_PBMC_DNA CHP   PBMC      \n",
       "4   CHP_15YO-F-B_PBMC_DNA CHP   PBMC      \n",
       "5   CHP_15YO-M_PBMC_DNA   CHP   PBMC      \n",
       "6   CHP_16YO-M_PBMC_DNA   CHP   PBMC      \n",
       "7   CHP_1YO-M-A_PBMC_DNA  CHP   PBMC      \n",
       "8   CHP_1YO-M-B_PBMC_DNA  CHP   PBMC      \n",
       "9   CHP_2YO-M_PBMC_DNA    CHP   PBMC      \n",
       "14  NA                    CHP   NA        \n",
       "15  NA                    CHP   NA        \n",
       "16  NA                    CHP   NA        \n",
       "17  NA                    CHP   NA        \n",
       "18  NA                    CHP   NA        \n",
       "19  NA                    CHP   NA        \n",
       "20  NA                    CHP   NA        \n",
       "21  NA                    CHP   NA        \n",
       "22  NA                    CHP   NA        \n",
       "23  NA                    CHP   NA        \n",
       "24  NA                    CHP   NA        \n",
       "25  NA                    CHP   NA        \n",
       "26  NA                    CHP   NA        \n",
       "27  NA                    CHP   NA        \n",
       "28  NA                    CHP   NA        \n",
       "29  NA                    CHP   NA        \n",
       "30  NA                    CHP   NA        \n",
       "31  CHP_323-03-PBMC-DNA   CHP   PBMC      \n",
       "32  CHP_323-03_cfDNA      CHP   cfDNA     \n",
       "33  CHP_323-04-PBMC-DNA   CHP   PBMC      \n",
       "34  CHP_323-05-PBMC-DNA   CHP   PBMC      \n",
       "... ...                   ...   ...       \n",
       "816 NA                    CHP   NA        \n",
       "817 NA                    CHP   NA        \n",
       "818 NA                    CHP   NA        \n",
       "819 NA                    CHP   NA        \n",
       "820 NA                    CHP   NA        \n",
       "821 NA                    CHP   NA        \n",
       "822 NA                    CHP   NA        \n",
       "823 NA                    CHP   NA        \n",
       "824 NA                    CHP   NA        \n",
       "825 NA                    CHP   NA        \n",
       "826 NA                    CHP   NA        \n",
       "827 NA                    CHP   NA        \n",
       "828 NA                    CHP   NA        \n",
       "829 NA                    CHP   NA        \n",
       "830 NA                    CHP   NA        \n",
       "831 NA                    CHP   NA        \n",
       "832 NA                    CHP   NA        \n",
       "833 NA                    CHP   NA        \n",
       "834 CHP_5YO-M_PBMC_DNA    CHP   PBMC      \n",
       "835 CHP_8MO-F_PBMC_DNA    CHP   PBMC      \n",
       "836 LFS_TCR-4535-PBMC-DNA LFS   PBMC      \n",
       "837 LFS_TCR-4570-PBMC-DNA LFS   PBMC      \n",
       "838 LFS_TCR-4602-PBMC-DNA LFS   PBMC      \n",
       "839 LFS_TCR-4758-PBMC-DNA LFS   PBMC      \n",
       "840 LFS_TCR-4759-PBMC-DNA LFS   PBMC      \n",
       "841 LFS_TCR-4783-PBMC-DNA LFS   PBMC      \n",
       "842 LFS_TCR-4837-PBMC-DNA LFS   PBMC      \n",
       "843 LFS_TCR-4838-PBMC-DNA LFS   PBMC      \n",
       "844 LFS_TCR-5014-PBMC-DNA LFS   PBMC      \n",
       "845 LFS_TCR-5067-PBMC-DNA LFS   PBMC      "
      ]
     },
     "metadata": {},
     "output_type": "display_data"
    }
   ],
   "source": [
    "meta_div"
   ]
  },
  {
   "cell_type": "code",
   "execution_count": 8,
   "metadata": {
    "vscode": {
     "languageId": "r"
    }
   },
   "outputs": [
    {
     "data": {
      "text/html": [
       "841"
      ],
      "text/latex": [
       "841"
      ],
      "text/markdown": [
       "841"
      ],
      "text/plain": [
       "[1] 841"
      ]
     },
     "metadata": {},
     "output_type": "display_data"
    }
   ],
   "source": [
    "length(meta_div$sampletype)"
   ]
  },
  {
   "cell_type": "code",
   "execution_count": 9,
   "metadata": {
    "vscode": {
     "languageId": "r"
    }
   },
   "outputs": [],
   "source": [
    "load(file = paste0(datapath, \"capTCRseq/cfDNA_GoodSamples.RData\"))"
   ]
  },
  {
   "cell_type": "code",
   "execution_count": 10,
   "metadata": {
    "vscode": {
     "languageId": "r"
    }
   },
   "outputs": [
    {
     "data": {
      "text/html": [
       "<table class=\"dataframe\">\n",
       "<caption>A data.frame: 6 x 96</caption>\n",
       "<thead>\n",
       "\t<tr><th></th><th scope=col>basename</th><th scope=col>mysample_id</th><th scope=col>DNA samples</th><th scope=col>DNAextracted</th><th scope=col>DNAused</th><th scope=col>librarypassed</th><th scope=col>libbatch</th><th scope=col>Library preparation</th><th scope=col>libraryyield</th><th scope=col>DNAforcapture</th><th scope=col>...</th><th scope=col>TRA.chains</th><th scope=col>TRB.chains</th><th scope=col>TRD.chains</th><th scope=col>TRG.chains</th><th scope=col>TRA.TRD.chains</th><th scope=col>IGH.chains</th><th scope=col>IGK.chains</th><th scope=col>IGL.chains</th><th scope=col>chains</th><th scope=col>percaligned</th></tr>\n",
       "\t<tr><th></th><th scope=col>&lt;chr&gt;</th><th scope=col>&lt;chr&gt;</th><th scope=col>&lt;chr&gt;</th><th scope=col>&lt;dbl&gt;</th><th scope=col>&lt;dbl&gt;</th><th scope=col>&lt;chr&gt;</th><th scope=col>&lt;chr&gt;</th><th scope=col>&lt;chr&gt;</th><th scope=col>&lt;dbl&gt;</th><th scope=col>&lt;dbl&gt;</th><th scope=col>...</th><th scope=col>&lt;int&gt;</th><th scope=col>&lt;int&gt;</th><th scope=col>&lt;int&gt;</th><th scope=col>&lt;int&gt;</th><th scope=col>&lt;int&gt;</th><th scope=col>&lt;int&gt;</th><th scope=col>&lt;int&gt;</th><th scope=col>&lt;int&gt;</th><th scope=col>&lt;int&gt;</th><th scope=col>&lt;dbl&gt;</th></tr>\n",
       "</thead>\n",
       "<tbody>\n",
       "\t<tr><th scope=row>1</th><td>CHP_323-03_cfDNA</td><td>CHP_323_03</td><td>n = 316</td><td>142.96</td><td>20.000</td><td>Passed</td><td>191017_M04827_0284_000000000-D77P2</td><td>n = 316</td><td>305.28</td><td>305.28</td><td>...</td><td>3553899</td><td>549158</td><td>111175</td><td>593458</td><td>4272584</td><td>128</td><td> 0</td><td> 0</td><td>0</td><td>0.8600238</td></tr>\n",
       "\t<tr><th scope=row>2</th><td>CHP_323-05_cfDNA</td><td>CHP_323_05</td><td>n = 316</td><td> 39.56</td><td>20.000</td><td>Passed</td><td>200117_M04827_0343_000000000-D82R9</td><td>n = 316</td><td>614.40</td><td>501.44</td><td>...</td><td>2772203</td><td>255738</td><td>101783</td><td>378530</td><td>3919109</td><td>  0</td><td> 0</td><td> 0</td><td>0</td><td>0.8734095</td></tr>\n",
       "\t<tr><th scope=row>3</th><td>CHP_324-04_cfDNA</td><td>CHP_324_04</td><td>n = 316</td><td> 99.84</td><td>20.000</td><td>Passed</td><td>200108_M04827_0336_000000000-D7Y8P</td><td>n = 316</td><td>264.00</td><td>264.00</td><td>...</td><td>1918562</td><td>560107</td><td>102545</td><td>159952</td><td> 459396</td><td> 78</td><td>28</td><td>28</td><td>0</td><td>0.7406572</td></tr>\n",
       "\t<tr><th scope=row>4</th><td>CHP_324-05_cfDNA</td><td>CHP_324_05</td><td>n = 316</td><td> 17.16</td><td> 9.576</td><td>Passed</td><td>200213_M04827_0362_000000000-D8682</td><td>n = 316</td><td>330.24</td><td>330.24</td><td>...</td><td>1012748</td><td>193564</td><td> 39073</td><td> 89307</td><td>2693686</td><td> 43</td><td>62</td><td> 0</td><td>0</td><td>0.8925282</td></tr>\n",
       "\t<tr><th scope=row>5</th><td>CHP_326-05_cfDNA</td><td>CHP_326_05</td><td>n = 316</td><td> 12.68</td><td> 9.432</td><td>Passed</td><td>200213_M04827_0362_000000000-D8682</td><td>n = 316</td><td>314.88</td><td>314.88</td><td>...</td><td>1074994</td><td>218543</td><td> 36623</td><td>159705</td><td>2667817</td><td>128</td><td> 0</td><td> 0</td><td>0</td><td>0.8737865</td></tr>\n",
       "\t<tr><th scope=row>6</th><td>CHP_328-05_cfDNA</td><td>CHP_328_05</td><td>n = 316</td><td> 14.60</td><td>11.988</td><td>Passed</td><td>200213_M04827_0362_000000000-D8682</td><td>n = 316</td><td>293.76</td><td>293.76</td><td>...</td><td> 958051</td><td>174406</td><td> 38165</td><td>113414</td><td>2939570</td><td> 13</td><td> 0</td><td> 0</td><td>0</td><td>0.8914028</td></tr>\n",
       "</tbody>\n",
       "</table>\n"
      ],
      "text/latex": [
       "A data.frame: 6 x 96\n",
       "\\begin{tabular}{r|lllllllllllllllllllll}\n",
       "  & basename & mysample\\_id & DNA samples & DNAextracted & DNAused & librarypassed & libbatch & Library preparation & libraryyield & DNAforcapture & ... & TRA.chains & TRB.chains & TRD.chains & TRG.chains & TRA.TRD.chains & IGH.chains & IGK.chains & IGL.chains & chains & percaligned\\\\\n",
       "  & <chr> & <chr> & <chr> & <dbl> & <dbl> & <chr> & <chr> & <chr> & <dbl> & <dbl> & ... & <int> & <int> & <int> & <int> & <int> & <int> & <int> & <int> & <int> & <dbl>\\\\\n",
       "\\hline\n",
       "\t1 & CHP\\_323-03\\_cfDNA & CHP\\_323\\_03 & n = 316 & 142.96 & 20.000 & Passed & 191017\\_M04827\\_0284\\_000000000-D77P2 & n = 316 & 305.28 & 305.28 & ... & 3553899 & 549158 & 111175 & 593458 & 4272584 & 128 &  0 &  0 & 0 & 0.8600238\\\\\n",
       "\t2 & CHP\\_323-05\\_cfDNA & CHP\\_323\\_05 & n = 316 &  39.56 & 20.000 & Passed & 200117\\_M04827\\_0343\\_000000000-D82R9 & n = 316 & 614.40 & 501.44 & ... & 2772203 & 255738 & 101783 & 378530 & 3919109 &   0 &  0 &  0 & 0 & 0.8734095\\\\\n",
       "\t3 & CHP\\_324-04\\_cfDNA & CHP\\_324\\_04 & n = 316 &  99.84 & 20.000 & Passed & 200108\\_M04827\\_0336\\_000000000-D7Y8P & n = 316 & 264.00 & 264.00 & ... & 1918562 & 560107 & 102545 & 159952 &  459396 &  78 & 28 & 28 & 0 & 0.7406572\\\\\n",
       "\t4 & CHP\\_324-05\\_cfDNA & CHP\\_324\\_05 & n = 316 &  17.16 &  9.576 & Passed & 200213\\_M04827\\_0362\\_000000000-D8682 & n = 316 & 330.24 & 330.24 & ... & 1012748 & 193564 &  39073 &  89307 & 2693686 &  43 & 62 &  0 & 0 & 0.8925282\\\\\n",
       "\t5 & CHP\\_326-05\\_cfDNA & CHP\\_326\\_05 & n = 316 &  12.68 &  9.432 & Passed & 200213\\_M04827\\_0362\\_000000000-D8682 & n = 316 & 314.88 & 314.88 & ... & 1074994 & 218543 &  36623 & 159705 & 2667817 & 128 &  0 &  0 & 0 & 0.8737865\\\\\n",
       "\t6 & CHP\\_328-05\\_cfDNA & CHP\\_328\\_05 & n = 316 &  14.60 & 11.988 & Passed & 200213\\_M04827\\_0362\\_000000000-D8682 & n = 316 & 293.76 & 293.76 & ... &  958051 & 174406 &  38165 & 113414 & 2939570 &  13 &  0 &  0 & 0 & 0.8914028\\\\\n",
       "\\end{tabular}\n"
      ],
      "text/markdown": [
       "\n",
       "A data.frame: 6 x 96\n",
       "\n",
       "| <!--/--> | basename &lt;chr&gt; | mysample_id &lt;chr&gt; | DNA samples &lt;chr&gt; | DNAextracted &lt;dbl&gt; | DNAused &lt;dbl&gt; | librarypassed &lt;chr&gt; | libbatch &lt;chr&gt; | Library preparation &lt;chr&gt; | libraryyield &lt;dbl&gt; | DNAforcapture &lt;dbl&gt; | ... ... | TRA.chains &lt;int&gt; | TRB.chains &lt;int&gt; | TRD.chains &lt;int&gt; | TRG.chains &lt;int&gt; | TRA.TRD.chains &lt;int&gt; | IGH.chains &lt;int&gt; | IGK.chains &lt;int&gt; | IGL.chains &lt;int&gt; | chains &lt;int&gt; | percaligned &lt;dbl&gt; |\n",
       "|---|---|---|---|---|---|---|---|---|---|---|---|---|---|---|---|---|---|---|---|---|---|\n",
       "| 1 | CHP_323-03_cfDNA | CHP_323_03 | n = 316 | 142.96 | 20.000 | Passed | 191017_M04827_0284_000000000-D77P2 | n = 316 | 305.28 | 305.28 | ... | 3553899 | 549158 | 111175 | 593458 | 4272584 | 128 |  0 |  0 | 0 | 0.8600238 |\n",
       "| 2 | CHP_323-05_cfDNA | CHP_323_05 | n = 316 |  39.56 | 20.000 | Passed | 200117_M04827_0343_000000000-D82R9 | n = 316 | 614.40 | 501.44 | ... | 2772203 | 255738 | 101783 | 378530 | 3919109 |   0 |  0 |  0 | 0 | 0.8734095 |\n",
       "| 3 | CHP_324-04_cfDNA | CHP_324_04 | n = 316 |  99.84 | 20.000 | Passed | 200108_M04827_0336_000000000-D7Y8P | n = 316 | 264.00 | 264.00 | ... | 1918562 | 560107 | 102545 | 159952 |  459396 |  78 | 28 | 28 | 0 | 0.7406572 |\n",
       "| 4 | CHP_324-05_cfDNA | CHP_324_05 | n = 316 |  17.16 |  9.576 | Passed | 200213_M04827_0362_000000000-D8682 | n = 316 | 330.24 | 330.24 | ... | 1012748 | 193564 |  39073 |  89307 | 2693686 |  43 | 62 |  0 | 0 | 0.8925282 |\n",
       "| 5 | CHP_326-05_cfDNA | CHP_326_05 | n = 316 |  12.68 |  9.432 | Passed | 200213_M04827_0362_000000000-D8682 | n = 316 | 314.88 | 314.88 | ... | 1074994 | 218543 |  36623 | 159705 | 2667817 | 128 |  0 |  0 | 0 | 0.8737865 |\n",
       "| 6 | CHP_328-05_cfDNA | CHP_328_05 | n = 316 |  14.60 | 11.988 | Passed | 200213_M04827_0362_000000000-D8682 | n = 316 | 293.76 | 293.76 | ... |  958051 | 174406 |  38165 | 113414 | 2939570 |  13 |  0 |  0 | 0 | 0.8914028 |\n",
       "\n"
      ],
      "text/plain": [
       "  basename         mysample_id DNA samples DNAextracted DNAused librarypassed\n",
       "1 CHP_323-03_cfDNA CHP_323_03  n = 316     142.96       20.000  Passed       \n",
       "2 CHP_323-05_cfDNA CHP_323_05  n = 316      39.56       20.000  Passed       \n",
       "3 CHP_324-04_cfDNA CHP_324_04  n = 316      99.84       20.000  Passed       \n",
       "4 CHP_324-05_cfDNA CHP_324_05  n = 316      17.16        9.576  Passed       \n",
       "5 CHP_326-05_cfDNA CHP_326_05  n = 316      12.68        9.432  Passed       \n",
       "6 CHP_328-05_cfDNA CHP_328_05  n = 316      14.60       11.988  Passed       \n",
       "  libbatch                           Library preparation libraryyield\n",
       "1 191017_M04827_0284_000000000-D77P2 n = 316             305.28      \n",
       "2 200117_M04827_0343_000000000-D82R9 n = 316             614.40      \n",
       "3 200108_M04827_0336_000000000-D7Y8P n = 316             264.00      \n",
       "4 200213_M04827_0362_000000000-D8682 n = 316             330.24      \n",
       "5 200213_M04827_0362_000000000-D8682 n = 316             314.88      \n",
       "6 200213_M04827_0362_000000000-D8682 n = 316             293.76      \n",
       "  DNAforcapture ... TRA.chains TRB.chains TRD.chains TRG.chains TRA.TRD.chains\n",
       "1 305.28        ... 3553899    549158     111175     593458     4272584       \n",
       "2 501.44        ... 2772203    255738     101783     378530     3919109       \n",
       "3 264.00        ... 1918562    560107     102545     159952      459396       \n",
       "4 330.24        ... 1012748    193564      39073      89307     2693686       \n",
       "5 314.88        ... 1074994    218543      36623     159705     2667817       \n",
       "6 293.76        ...  958051    174406      38165     113414     2939570       \n",
       "  IGH.chains IGK.chains IGL.chains chains percaligned\n",
       "1 128         0          0         0      0.8600238  \n",
       "2   0         0          0         0      0.8734095  \n",
       "3  78        28         28         0      0.7406572  \n",
       "4  43        62          0         0      0.8925282  \n",
       "5 128         0          0         0      0.8737865  \n",
       "6  13         0          0         0      0.8914028  "
      ]
     },
     "metadata": {},
     "output_type": "display_data"
    }
   ],
   "source": [
    "head(subset_cfdna)"
   ]
  },
  {
   "cell_type": "code",
   "execution_count": 11,
   "metadata": {
    "vscode": {
     "languageId": "r"
    }
   },
   "outputs": [],
   "source": []
  },
  {
   "cell_type": "code",
   "execution_count": 28,
   "metadata": {
    "vscode": {
     "languageId": "r"
    }
   },
   "outputs": [],
   "source": [
    "meta_div_goodsamples <- meta_div[ which(meta_div$sampletype == \"Tumor\"),] # all tumours\n",
    "meta_div_goodsamples <- rbind(\n",
    "meta_div[ which(meta_div$basename %in% subset_pbmc$basename),], #good pbmcs\n",
    "meta_div[ which(meta_div$basename %in% subset_cfdna$basename),], # good cfDNAs\n",
    "meta_div[ is.na(meta_div$basename),], # all flow-only data\n",
    "meta_div_goodsamples)\n"
   ]
  },
  {
   "cell_type": "code",
   "execution_count": 27,
   "metadata": {
    "vscode": {
     "languageId": "r"
    }
   },
   "outputs": [],
   "source": [
    "rm(meta_div_goodsamples)"
   ]
  },
  {
   "cell_type": "code",
   "execution_count": 29,
   "metadata": {
    "vscode": {
     "languageId": "r"
    }
   },
   "outputs": [
    {
     "data": {
      "text/html": [
       "<style>\n",
       ".list-inline {list-style: none; margin:0; padding: 0}\n",
       ".list-inline>li {display: inline-block}\n",
       ".list-inline>li:not(:last-child)::after {content: \"\\00b7\"; padding: 0 .5ex}\n",
       "</style>\n",
       "<ol class=list-inline><li>841</li><li>58</li></ol>\n"
      ],
      "text/latex": [
       "\\begin{enumerate*}\n",
       "\\item 841\n",
       "\\item 58\n",
       "\\end{enumerate*}\n"
      ],
      "text/markdown": [
       "1. 841\n",
       "2. 58\n",
       "\n",
       "\n"
      ],
      "text/plain": [
       "[1] 841  58"
      ]
     },
     "metadata": {},
     "output_type": "display_data"
    }
   ],
   "source": [
    "dim(meta_div)"
   ]
  },
  {
   "cell_type": "code",
   "execution_count": 30,
   "metadata": {
    "vscode": {
     "languageId": "r"
    }
   },
   "outputs": [
    {
     "data": {
      "text/html": [
       "<style>\n",
       ".list-inline {list-style: none; margin:0; padding: 0}\n",
       ".list-inline>li {display: inline-block}\n",
       ".list-inline>li:not(:last-child)::after {content: \"\\00b7\"; padding: 0 .5ex}\n",
       "</style>\n",
       "<ol class=list-inline><li>773</li><li>58</li></ol>\n"
      ],
      "text/latex": [
       "\\begin{enumerate*}\n",
       "\\item 773\n",
       "\\item 58\n",
       "\\end{enumerate*}\n"
      ],
      "text/markdown": [
       "1. 773\n",
       "2. 58\n",
       "\n",
       "\n"
      ],
      "text/plain": [
       "[1] 773  58"
      ]
     },
     "metadata": {},
     "output_type": "display_data"
    }
   ],
   "source": [
    "dim(meta_div_goodsamples)"
   ]
  },
  {
   "cell_type": "code",
   "execution_count": 32,
   "metadata": {
    "vscode": {
     "languageId": "r"
    }
   },
   "outputs": [
    {
     "data": {
      "text/plain": [
       "\n",
       " PBMC Tumor cfDNA  <NA> \n",
       "  281    18   286   256 "
      ]
     },
     "metadata": {},
     "output_type": "display_data"
    }
   ],
   "source": [
    "table(meta_div$sampletype, useNA = \"ifany\")"
   ]
  },
  {
   "cell_type": "code",
   "execution_count": 33,
   "metadata": {
    "vscode": {
     "languageId": "r"
    }
   },
   "outputs": [
    {
     "data": {
      "text/html": [
       "<style>\n",
       ".list-inline {list-style: none; margin:0; padding: 0}\n",
       ".list-inline>li {display: inline-block}\n",
       ".list-inline>li:not(:last-child)::after {content: \"\\00b7\"; padding: 0 .5ex}\n",
       "</style>\n",
       "<ol class=list-inline><li>238</li><li>95</li></ol>\n"
      ],
      "text/latex": [
       "\\begin{enumerate*}\n",
       "\\item 238\n",
       "\\item 95\n",
       "\\end{enumerate*}\n"
      ],
      "text/markdown": [
       "1. 238\n",
       "2. 95\n",
       "\n",
       "\n"
      ],
      "text/plain": [
       "[1] 238  95"
      ]
     },
     "metadata": {},
     "output_type": "display_data"
    }
   ],
   "source": [
    "dim(subset_pbmc)"
   ]
  },
  {
   "cell_type": "code",
   "execution_count": 34,
   "metadata": {
    "vscode": {
     "languageId": "r"
    }
   },
   "outputs": [
    {
     "data": {
      "text/html": [
       "<style>\n",
       ".list-inline {list-style: none; margin:0; padding: 0}\n",
       ".list-inline>li {display: inline-block}\n",
       ".list-inline>li:not(:last-child)::after {content: \"\\00b7\"; padding: 0 .5ex}\n",
       "</style>\n",
       "<ol class=list-inline><li>261</li><li>96</li></ol>\n"
      ],
      "text/latex": [
       "\\begin{enumerate*}\n",
       "\\item 261\n",
       "\\item 96\n",
       "\\end{enumerate*}\n"
      ],
      "text/markdown": [
       "1. 261\n",
       "2. 96\n",
       "\n",
       "\n"
      ],
      "text/plain": [
       "[1] 261  96"
      ]
     },
     "metadata": {},
     "output_type": "display_data"
    }
   ],
   "source": [
    "dim(subset_cfdna)"
   ]
  },
  {
   "cell_type": "code",
   "execution_count": 35,
   "metadata": {
    "vscode": {
     "languageId": "r"
    }
   },
   "outputs": [],
   "source": [
    "readr::write_rds(meta_div_goodsamples, paste0(datapath, \"capTCRseq/meta_div_goodsamples.rds\"))"
   ]
  },
  {
   "cell_type": "code",
   "execution_count": null,
   "metadata": {
    "vscode": {
     "languageId": "r"
    }
   },
   "outputs": [],
   "source": []
  }
 ],
 "metadata": {
  "kernelspec": {
   "display_name": "R 4.0",
   "language": "R",
   "name": "ir40"
  },
  "language_info": {
   "codemirror_mode": "r",
   "file_extension": ".r",
   "mimetype": "text/x-r-source",
   "name": "R",
   "pygments_lexer": "r",
   "version": "4.2.2"
  },
  "toc": {
   "base_numbering": 1,
   "nav_menu": {},
   "number_sections": false,
   "sideBar": true,
   "skip_h1_title": false,
   "title_cell": "Table of Contents",
   "title_sidebar": "Contents",
   "toc_cell": true,
   "toc_position": {
    "height": "calc(100% - 180px)",
    "left": "10px",
    "top": "150px",
    "width": "206.5px"
   },
   "toc_section_display": true,
   "toc_window_display": true
  }
 },
 "nbformat": 4,
 "nbformat_minor": 2
}
