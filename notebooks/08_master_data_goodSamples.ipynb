{
 "cells": [
  {
   "attachments": {},
   "cell_type": "markdown",
   "metadata": {},
   "source": [
    "# Dependencies"
   ]
  },
  {
   "attachments": {},
   "cell_type": "markdown",
   "metadata": {},
   "source": [
    "# Functions"
   ]
  },
  {
   "attachments": {},
   "cell_type": "markdown",
   "metadata": {},
   "source": [
    "# Paths"
   ]
  },
  {
   "cell_type": "code",
   "execution_count": 37,
   "metadata": {
    "vscode": {
     "languageId": "r"
    }
   },
   "outputs": [],
   "source": [
    "datapath <- \"/Users/anabbi/OneDrive - UHN/Documents/INTERCEPT/Data/\"\n",
    "plotpath <- \"/Users/anabbi/OneDrive - UHN/Documents/INTERCEPT/Plots/\"\n",
    "manifestpath <- \"/Users/anabbi/OneDrive - UHN/Documents/INTERCEPT/Manifests/\"\n",
    "\n",
    "gitpath <- \"/Users/anabbi/git/ped_CapTCRseq/\""
   ]
  },
  {
   "attachments": {},
   "cell_type": "markdown",
   "metadata": {},
   "source": [
    "# Main"
   ]
  },
  {
   "attachments": {},
   "cell_type": "markdown",
   "metadata": {},
   "source": [
    "# PBMC"
   ]
  },
  {
   "cell_type": "code",
   "execution_count": 38,
   "metadata": {
    "vscode": {
     "languageId": "r"
    }
   },
   "outputs": [],
   "source": [
    "load(file = paste0(datapath, \"capTCRseq/PBMC_GoodSamples.RData\"))"
   ]
  },
  {
   "cell_type": "code",
   "execution_count": 39,
   "metadata": {
    "vscode": {
     "languageId": "r"
    }
   },
   "outputs": [
    {
     "data": {
      "text/html": [
       "<table class=\"dataframe\">\n",
       "<caption>A data.frame: 6 x 95</caption>\n",
       "<thead>\n",
       "\t<tr><th></th><th scope=col>basename</th><th scope=col>mysample_id</th><th scope=col>Shipped</th><th scope=col>DNAextracted</th><th scope=col>DNAused</th><th scope=col>libbatch</th><th scope=col>librarypassed</th><th scope=col>Library preparation</th><th scope=col>libraryyield</th><th scope=col>captureyield</th><th scope=col>...</th><th scope=col>TRA.chains</th><th scope=col>TRB.chains</th><th scope=col>TRD.chains</th><th scope=col>TRG.chains</th><th scope=col>TRA.TRD.chains</th><th scope=col>IGH.chains</th><th scope=col>IGK.chains</th><th scope=col>IGL.chains</th><th scope=col>chains</th><th scope=col>percaligned</th></tr>\n",
       "\t<tr><th></th><th scope=col>&lt;chr&gt;</th><th scope=col>&lt;chr&gt;</th><th scope=col>&lt;chr&gt;</th><th scope=col>&lt;dbl&gt;</th><th scope=col>&lt;dbl&gt;</th><th scope=col>&lt;chr&gt;</th><th scope=col>&lt;chr&gt;</th><th scope=col>&lt;chr&gt;</th><th scope=col>&lt;dbl&gt;</th><th scope=col>&lt;dbl&gt;</th><th scope=col>...</th><th scope=col>&lt;int&gt;</th><th scope=col>&lt;int&gt;</th><th scope=col>&lt;int&gt;</th><th scope=col>&lt;int&gt;</th><th scope=col>&lt;int&gt;</th><th scope=col>&lt;int&gt;</th><th scope=col>&lt;int&gt;</th><th scope=col>&lt;int&gt;</th><th scope=col>&lt;int&gt;</th><th scope=col>&lt;dbl&gt;</th></tr>\n",
       "</thead>\n",
       "<tbody>\n",
       "\t<tr><th scope=row>1</th><td>CHP-328-04-PBMC-DNA</td><td>CHP_328_04</td><td>n = 320</td><td>111.996</td><td>111.996</td><td>200711_M04827_0406_000000000-D8W43</td><td>Passed</td><td>n = 281</td><td> 720.0</td><td>915.80</td><td>...</td><td>3567638</td><td>454942</td><td>103912</td><td>2044714</td><td>3898342</td><td>202</td><td>122</td><td>26</td><td>0</td><td>0.8890611</td></tr>\n",
       "\t<tr><th scope=row>2</th><td>CHP-328-05-PBMC-DNA</td><td>CHP_328_05</td><td>n = 320</td><td>125.870</td><td>125.870</td><td>200711_M04827_0406_000000000-D8W43</td><td>Passed</td><td>n = 281</td><td>1516.8</td><td>535.80</td><td>...</td><td>3457123</td><td>274168</td><td>150033</td><td> 776859</td><td>  92562</td><td> 43</td><td>  0</td><td> 0</td><td>0</td><td>0.8872281</td></tr>\n",
       "\t<tr><th scope=row>4</th><td>CHP-351-03-PBMC-DNA</td><td>CHP_351_03</td><td>n = 320</td><td>410.060</td><td>114.000</td><td>191210_M04827_0319_000000000-D7M28</td><td>Passed</td><td>n = 281</td><td>1219.2</td><td>695.40</td><td>...</td><td>2878428</td><td>324281</td><td>121251</td><td>1619395</td><td>2503466</td><td>370</td><td> 37</td><td>72</td><td>0</td><td>0.8748030</td></tr>\n",
       "\t<tr><th scope=row>7</th><td>CHP-369-01-PBMC-DNA</td><td>CHP_369_01</td><td>n = 320</td><td>126.000</td><td>113.000</td><td>191223_M04827_0328_000000000-D7VLK</td><td>Passed</td><td>n = 281</td><td> 628.8</td><td>915.80</td><td>...</td><td>7339655</td><td>668267</td><td> 96297</td><td>2899593</td><td>3688473</td><td>288</td><td> 80</td><td>28</td><td>0</td><td>0.9161272</td></tr>\n",
       "\t<tr><th scope=row>9</th><td>CHP-377-02-PBMC-DNA</td><td>CHP_377_02</td><td>n = 320</td><td>400.000</td><td>109.400</td><td>191210_M04827_0319_000000000-D7M28</td><td>Passed</td><td>n = 281</td><td>1248.0</td><td>695.40</td><td>...</td><td>1647669</td><td>163699</td><td> 40220</td><td> 635362</td><td>2289337</td><td>287</td><td> 90</td><td>22</td><td>0</td><td>0.8262173</td></tr>\n",
       "\t<tr><th scope=row>14</th><td>CHP-411-02-PBMC-DNA</td><td>CHP_411_02</td><td>n = 320</td><td>312.000</td><td>312.000</td><td>200110_M04827_0338_000000000-D7YGN</td><td>Passed</td><td>n = 281</td><td> 542.4</td><td>177.46</td><td>...</td><td> 940026</td><td>242188</td><td> 17601</td><td> 415881</td><td> 656693</td><td>  0</td><td>  0</td><td> 0</td><td>0</td><td>0.9125061</td></tr>\n",
       "</tbody>\n",
       "</table>\n"
      ],
      "text/latex": [
       "A data.frame: 6 x 95\n",
       "\\begin{tabular}{r|lllllllllllllllllllll}\n",
       "  & basename & mysample\\_id & Shipped & DNAextracted & DNAused & libbatch & librarypassed & Library preparation & libraryyield & captureyield & ... & TRA.chains & TRB.chains & TRD.chains & TRG.chains & TRA.TRD.chains & IGH.chains & IGK.chains & IGL.chains & chains & percaligned\\\\\n",
       "  & <chr> & <chr> & <chr> & <dbl> & <dbl> & <chr> & <chr> & <chr> & <dbl> & <dbl> & ... & <int> & <int> & <int> & <int> & <int> & <int> & <int> & <int> & <int> & <dbl>\\\\\n",
       "\\hline\n",
       "\t1 & CHP-328-04-PBMC-DNA & CHP\\_328\\_04 & n = 320 & 111.996 & 111.996 & 200711\\_M04827\\_0406\\_000000000-D8W43 & Passed & n = 281 &  720.0 & 915.80 & ... & 3567638 & 454942 & 103912 & 2044714 & 3898342 & 202 & 122 & 26 & 0 & 0.8890611\\\\\n",
       "\t2 & CHP-328-05-PBMC-DNA & CHP\\_328\\_05 & n = 320 & 125.870 & 125.870 & 200711\\_M04827\\_0406\\_000000000-D8W43 & Passed & n = 281 & 1516.8 & 535.80 & ... & 3457123 & 274168 & 150033 &  776859 &   92562 &  43 &   0 &  0 & 0 & 0.8872281\\\\\n",
       "\t4 & CHP-351-03-PBMC-DNA & CHP\\_351\\_03 & n = 320 & 410.060 & 114.000 & 191210\\_M04827\\_0319\\_000000000-D7M28 & Passed & n = 281 & 1219.2 & 695.40 & ... & 2878428 & 324281 & 121251 & 1619395 & 2503466 & 370 &  37 & 72 & 0 & 0.8748030\\\\\n",
       "\t7 & CHP-369-01-PBMC-DNA & CHP\\_369\\_01 & n = 320 & 126.000 & 113.000 & 191223\\_M04827\\_0328\\_000000000-D7VLK & Passed & n = 281 &  628.8 & 915.80 & ... & 7339655 & 668267 &  96297 & 2899593 & 3688473 & 288 &  80 & 28 & 0 & 0.9161272\\\\\n",
       "\t9 & CHP-377-02-PBMC-DNA & CHP\\_377\\_02 & n = 320 & 400.000 & 109.400 & 191210\\_M04827\\_0319\\_000000000-D7M28 & Passed & n = 281 & 1248.0 & 695.40 & ... & 1647669 & 163699 &  40220 &  635362 & 2289337 & 287 &  90 & 22 & 0 & 0.8262173\\\\\n",
       "\t14 & CHP-411-02-PBMC-DNA & CHP\\_411\\_02 & n = 320 & 312.000 & 312.000 & 200110\\_M04827\\_0338\\_000000000-D7YGN & Passed & n = 281 &  542.4 & 177.46 & ... &  940026 & 242188 &  17601 &  415881 &  656693 &   0 &   0 &  0 & 0 & 0.9125061\\\\\n",
       "\\end{tabular}\n"
      ],
      "text/markdown": [
       "\n",
       "A data.frame: 6 x 95\n",
       "\n",
       "| <!--/--> | basename &lt;chr&gt; | mysample_id &lt;chr&gt; | Shipped &lt;chr&gt; | DNAextracted &lt;dbl&gt; | DNAused &lt;dbl&gt; | libbatch &lt;chr&gt; | librarypassed &lt;chr&gt; | Library preparation &lt;chr&gt; | libraryyield &lt;dbl&gt; | captureyield &lt;dbl&gt; | ... ... | TRA.chains &lt;int&gt; | TRB.chains &lt;int&gt; | TRD.chains &lt;int&gt; | TRG.chains &lt;int&gt; | TRA.TRD.chains &lt;int&gt; | IGH.chains &lt;int&gt; | IGK.chains &lt;int&gt; | IGL.chains &lt;int&gt; | chains &lt;int&gt; | percaligned &lt;dbl&gt; |\n",
       "|---|---|---|---|---|---|---|---|---|---|---|---|---|---|---|---|---|---|---|---|---|---|\n",
       "| 1 | CHP-328-04-PBMC-DNA | CHP_328_04 | n = 320 | 111.996 | 111.996 | 200711_M04827_0406_000000000-D8W43 | Passed | n = 281 |  720.0 | 915.80 | ... | 3567638 | 454942 | 103912 | 2044714 | 3898342 | 202 | 122 | 26 | 0 | 0.8890611 |\n",
       "| 2 | CHP-328-05-PBMC-DNA | CHP_328_05 | n = 320 | 125.870 | 125.870 | 200711_M04827_0406_000000000-D8W43 | Passed | n = 281 | 1516.8 | 535.80 | ... | 3457123 | 274168 | 150033 |  776859 |   92562 |  43 |   0 |  0 | 0 | 0.8872281 |\n",
       "| 4 | CHP-351-03-PBMC-DNA | CHP_351_03 | n = 320 | 410.060 | 114.000 | 191210_M04827_0319_000000000-D7M28 | Passed | n = 281 | 1219.2 | 695.40 | ... | 2878428 | 324281 | 121251 | 1619395 | 2503466 | 370 |  37 | 72 | 0 | 0.8748030 |\n",
       "| 7 | CHP-369-01-PBMC-DNA | CHP_369_01 | n = 320 | 126.000 | 113.000 | 191223_M04827_0328_000000000-D7VLK | Passed | n = 281 |  628.8 | 915.80 | ... | 7339655 | 668267 |  96297 | 2899593 | 3688473 | 288 |  80 | 28 | 0 | 0.9161272 |\n",
       "| 9 | CHP-377-02-PBMC-DNA | CHP_377_02 | n = 320 | 400.000 | 109.400 | 191210_M04827_0319_000000000-D7M28 | Passed | n = 281 | 1248.0 | 695.40 | ... | 1647669 | 163699 |  40220 |  635362 | 2289337 | 287 |  90 | 22 | 0 | 0.8262173 |\n",
       "| 14 | CHP-411-02-PBMC-DNA | CHP_411_02 | n = 320 | 312.000 | 312.000 | 200110_M04827_0338_000000000-D7YGN | Passed | n = 281 |  542.4 | 177.46 | ... |  940026 | 242188 |  17601 |  415881 |  656693 |   0 |   0 |  0 | 0 | 0.9125061 |\n",
       "\n"
      ],
      "text/plain": [
       "   basename            mysample_id Shipped DNAextracted DNAused\n",
       "1  CHP-328-04-PBMC-DNA CHP_328_04  n = 320 111.996      111.996\n",
       "2  CHP-328-05-PBMC-DNA CHP_328_05  n = 320 125.870      125.870\n",
       "4  CHP-351-03-PBMC-DNA CHP_351_03  n = 320 410.060      114.000\n",
       "7  CHP-369-01-PBMC-DNA CHP_369_01  n = 320 126.000      113.000\n",
       "9  CHP-377-02-PBMC-DNA CHP_377_02  n = 320 400.000      109.400\n",
       "14 CHP-411-02-PBMC-DNA CHP_411_02  n = 320 312.000      312.000\n",
       "   libbatch                           librarypassed Library preparation\n",
       "1  200711_M04827_0406_000000000-D8W43 Passed        n = 281            \n",
       "2  200711_M04827_0406_000000000-D8W43 Passed        n = 281            \n",
       "4  191210_M04827_0319_000000000-D7M28 Passed        n = 281            \n",
       "7  191223_M04827_0328_000000000-D7VLK Passed        n = 281            \n",
       "9  191210_M04827_0319_000000000-D7M28 Passed        n = 281            \n",
       "14 200110_M04827_0338_000000000-D7YGN Passed        n = 281            \n",
       "   libraryyield captureyield ... TRA.chains TRB.chains TRD.chains TRG.chains\n",
       "1   720.0       915.80       ... 3567638    454942     103912     2044714   \n",
       "2  1516.8       535.80       ... 3457123    274168     150033      776859   \n",
       "4  1219.2       695.40       ... 2878428    324281     121251     1619395   \n",
       "7   628.8       915.80       ... 7339655    668267      96297     2899593   \n",
       "9  1248.0       695.40       ... 1647669    163699      40220      635362   \n",
       "14  542.4       177.46       ...  940026    242188      17601      415881   \n",
       "   TRA.TRD.chains IGH.chains IGK.chains IGL.chains chains percaligned\n",
       "1  3898342        202        122        26         0      0.8890611  \n",
       "2    92562         43          0         0         0      0.8872281  \n",
       "4  2503466        370         37        72         0      0.8748030  \n",
       "7  3688473        288         80        28         0      0.9161272  \n",
       "9  2289337        287         90        22         0      0.8262173  \n",
       "14  656693          0          0         0         0      0.9125061  "
      ]
     },
     "metadata": {},
     "output_type": "display_data"
    }
   ],
   "source": [
    "head(subset_pbmc)"
   ]
  },
  {
   "cell_type": "code",
   "execution_count": 40,
   "metadata": {
    "vscode": {
     "languageId": "r"
    }
   },
   "outputs": [],
   "source": [
    "load(file = paste0(datapath,\"capTCRseq/meta_div_TRB.RData\"))"
   ]
  },
  {
   "cell_type": "code",
   "execution_count": 41,
   "metadata": {
    "vscode": {
     "languageId": "r"
    }
   },
   "outputs": [
    {
     "data": {
      "text/html": [
       "<style>\n",
       ".list-inline {list-style: none; margin:0; padding: 0}\n",
       ".list-inline>li {display: inline-block}\n",
       ".list-inline>li:not(:last-child)::after {content: \"\\00b7\"; padding: 0 .5ex}\n",
       "</style>\n",
       "<ol class=list-inline><li>210</li><li>95</li></ol>\n"
      ],
      "text/latex": [
       "\\begin{enumerate*}\n",
       "\\item 210\n",
       "\\item 95\n",
       "\\end{enumerate*}\n"
      ],
      "text/markdown": [
       "1. 210\n",
       "2. 95\n",
       "\n",
       "\n"
      ],
      "text/plain": [
       "[1] 210  95"
      ]
     },
     "metadata": {},
     "output_type": "display_data"
    }
   ],
   "source": [
    "dim(subset_pbmc)"
   ]
  },
  {
   "cell_type": "code",
   "execution_count": 42,
   "metadata": {
    "vscode": {
     "languageId": "r"
    }
   },
   "outputs": [
    {
     "data": {
      "text/html": [
       "841"
      ],
      "text/latex": [
       "841"
      ],
      "text/markdown": [
       "841"
      ],
      "text/plain": [
       "[1] 841"
      ]
     },
     "metadata": {},
     "output_type": "display_data"
    }
   ],
   "source": [
    "length(meta_div$sampletype)"
   ]
  },
  {
   "cell_type": "code",
   "execution_count": 43,
   "metadata": {
    "vscode": {
     "languageId": "r"
    }
   },
   "outputs": [],
   "source": [
    "load(file = paste0(datapath, \"capTCRseq/cfDNA_GoodSamples.RData\"))"
   ]
  },
  {
   "cell_type": "code",
   "execution_count": 44,
   "metadata": {
    "vscode": {
     "languageId": "r"
    }
   },
   "outputs": [
    {
     "data": {
      "text/html": [
       "<table class=\"dataframe\">\n",
       "<caption>A data.frame: 6 x 96</caption>\n",
       "<thead>\n",
       "\t<tr><th></th><th scope=col>basename</th><th scope=col>mysample_id</th><th scope=col>DNA samples</th><th scope=col>DNAextracted</th><th scope=col>DNAused</th><th scope=col>librarypassed</th><th scope=col>libbatch</th><th scope=col>Library preparation</th><th scope=col>libraryyield</th><th scope=col>DNAforcapture</th><th scope=col>...</th><th scope=col>TRA.chains</th><th scope=col>TRB.chains</th><th scope=col>TRD.chains</th><th scope=col>TRG.chains</th><th scope=col>TRA.TRD.chains</th><th scope=col>IGH.chains</th><th scope=col>IGK.chains</th><th scope=col>IGL.chains</th><th scope=col>chains</th><th scope=col>percaligned</th></tr>\n",
       "\t<tr><th></th><th scope=col>&lt;chr&gt;</th><th scope=col>&lt;chr&gt;</th><th scope=col>&lt;chr&gt;</th><th scope=col>&lt;dbl&gt;</th><th scope=col>&lt;dbl&gt;</th><th scope=col>&lt;chr&gt;</th><th scope=col>&lt;chr&gt;</th><th scope=col>&lt;chr&gt;</th><th scope=col>&lt;dbl&gt;</th><th scope=col>&lt;dbl&gt;</th><th scope=col>...</th><th scope=col>&lt;int&gt;</th><th scope=col>&lt;int&gt;</th><th scope=col>&lt;int&gt;</th><th scope=col>&lt;int&gt;</th><th scope=col>&lt;int&gt;</th><th scope=col>&lt;int&gt;</th><th scope=col>&lt;int&gt;</th><th scope=col>&lt;int&gt;</th><th scope=col>&lt;int&gt;</th><th scope=col>&lt;dbl&gt;</th></tr>\n",
       "</thead>\n",
       "<tbody>\n",
       "\t<tr><th scope=row>1</th><td>CHP_323-03_cfDNA</td><td>CHP_323_03</td><td>n = 316</td><td>142.96</td><td>20.000</td><td>Passed</td><td>191017_M04827_0284_000000000-D77P2</td><td>n = 316</td><td>305.28</td><td>305.28</td><td>...</td><td>3553899</td><td>549158</td><td>111175</td><td>593458</td><td>4272584</td><td>128</td><td> 0</td><td> 0</td><td>0</td><td>0.8600238</td></tr>\n",
       "\t<tr><th scope=row>2</th><td>CHP_323-05_cfDNA</td><td>CHP_323_05</td><td>n = 316</td><td> 39.56</td><td>20.000</td><td>Passed</td><td>200117_M04827_0343_000000000-D82R9</td><td>n = 316</td><td>614.40</td><td>501.44</td><td>...</td><td>2772203</td><td>255738</td><td>101783</td><td>378530</td><td>3919109</td><td>  0</td><td> 0</td><td> 0</td><td>0</td><td>0.8734095</td></tr>\n",
       "\t<tr><th scope=row>3</th><td>CHP_324-04_cfDNA</td><td>CHP_324_04</td><td>n = 316</td><td> 99.84</td><td>20.000</td><td>Passed</td><td>200108_M04827_0336_000000000-D7Y8P</td><td>n = 316</td><td>264.00</td><td>264.00</td><td>...</td><td>1918562</td><td>560107</td><td>102545</td><td>159952</td><td> 459396</td><td> 78</td><td>28</td><td>28</td><td>0</td><td>0.7406572</td></tr>\n",
       "\t<tr><th scope=row>4</th><td>CHP_324-05_cfDNA</td><td>CHP_324_05</td><td>n = 316</td><td> 17.16</td><td> 9.576</td><td>Passed</td><td>200213_M04827_0362_000000000-D8682</td><td>n = 316</td><td>330.24</td><td>330.24</td><td>...</td><td>1012748</td><td>193564</td><td> 39073</td><td> 89307</td><td>2693686</td><td> 43</td><td>62</td><td> 0</td><td>0</td><td>0.8925282</td></tr>\n",
       "\t<tr><th scope=row>5</th><td>CHP_326-05_cfDNA</td><td>CHP_326_05</td><td>n = 316</td><td> 12.68</td><td> 9.432</td><td>Passed</td><td>200213_M04827_0362_000000000-D8682</td><td>n = 316</td><td>314.88</td><td>314.88</td><td>...</td><td>1074994</td><td>218543</td><td> 36623</td><td>159705</td><td>2667817</td><td>128</td><td> 0</td><td> 0</td><td>0</td><td>0.8737865</td></tr>\n",
       "\t<tr><th scope=row>6</th><td>CHP_328-05_cfDNA</td><td>CHP_328_05</td><td>n = 316</td><td> 14.60</td><td>11.988</td><td>Passed</td><td>200213_M04827_0362_000000000-D8682</td><td>n = 316</td><td>293.76</td><td>293.76</td><td>...</td><td> 958051</td><td>174406</td><td> 38165</td><td>113414</td><td>2939570</td><td> 13</td><td> 0</td><td> 0</td><td>0</td><td>0.8914028</td></tr>\n",
       "</tbody>\n",
       "</table>\n"
      ],
      "text/latex": [
       "A data.frame: 6 x 96\n",
       "\\begin{tabular}{r|lllllllllllllllllllll}\n",
       "  & basename & mysample\\_id & DNA samples & DNAextracted & DNAused & librarypassed & libbatch & Library preparation & libraryyield & DNAforcapture & ... & TRA.chains & TRB.chains & TRD.chains & TRG.chains & TRA.TRD.chains & IGH.chains & IGK.chains & IGL.chains & chains & percaligned\\\\\n",
       "  & <chr> & <chr> & <chr> & <dbl> & <dbl> & <chr> & <chr> & <chr> & <dbl> & <dbl> & ... & <int> & <int> & <int> & <int> & <int> & <int> & <int> & <int> & <int> & <dbl>\\\\\n",
       "\\hline\n",
       "\t1 & CHP\\_323-03\\_cfDNA & CHP\\_323\\_03 & n = 316 & 142.96 & 20.000 & Passed & 191017\\_M04827\\_0284\\_000000000-D77P2 & n = 316 & 305.28 & 305.28 & ... & 3553899 & 549158 & 111175 & 593458 & 4272584 & 128 &  0 &  0 & 0 & 0.8600238\\\\\n",
       "\t2 & CHP\\_323-05\\_cfDNA & CHP\\_323\\_05 & n = 316 &  39.56 & 20.000 & Passed & 200117\\_M04827\\_0343\\_000000000-D82R9 & n = 316 & 614.40 & 501.44 & ... & 2772203 & 255738 & 101783 & 378530 & 3919109 &   0 &  0 &  0 & 0 & 0.8734095\\\\\n",
       "\t3 & CHP\\_324-04\\_cfDNA & CHP\\_324\\_04 & n = 316 &  99.84 & 20.000 & Passed & 200108\\_M04827\\_0336\\_000000000-D7Y8P & n = 316 & 264.00 & 264.00 & ... & 1918562 & 560107 & 102545 & 159952 &  459396 &  78 & 28 & 28 & 0 & 0.7406572\\\\\n",
       "\t4 & CHP\\_324-05\\_cfDNA & CHP\\_324\\_05 & n = 316 &  17.16 &  9.576 & Passed & 200213\\_M04827\\_0362\\_000000000-D8682 & n = 316 & 330.24 & 330.24 & ... & 1012748 & 193564 &  39073 &  89307 & 2693686 &  43 & 62 &  0 & 0 & 0.8925282\\\\\n",
       "\t5 & CHP\\_326-05\\_cfDNA & CHP\\_326\\_05 & n = 316 &  12.68 &  9.432 & Passed & 200213\\_M04827\\_0362\\_000000000-D8682 & n = 316 & 314.88 & 314.88 & ... & 1074994 & 218543 &  36623 & 159705 & 2667817 & 128 &  0 &  0 & 0 & 0.8737865\\\\\n",
       "\t6 & CHP\\_328-05\\_cfDNA & CHP\\_328\\_05 & n = 316 &  14.60 & 11.988 & Passed & 200213\\_M04827\\_0362\\_000000000-D8682 & n = 316 & 293.76 & 293.76 & ... &  958051 & 174406 &  38165 & 113414 & 2939570 &  13 &  0 &  0 & 0 & 0.8914028\\\\\n",
       "\\end{tabular}\n"
      ],
      "text/markdown": [
       "\n",
       "A data.frame: 6 x 96\n",
       "\n",
       "| <!--/--> | basename &lt;chr&gt; | mysample_id &lt;chr&gt; | DNA samples &lt;chr&gt; | DNAextracted &lt;dbl&gt; | DNAused &lt;dbl&gt; | librarypassed &lt;chr&gt; | libbatch &lt;chr&gt; | Library preparation &lt;chr&gt; | libraryyield &lt;dbl&gt; | DNAforcapture &lt;dbl&gt; | ... ... | TRA.chains &lt;int&gt; | TRB.chains &lt;int&gt; | TRD.chains &lt;int&gt; | TRG.chains &lt;int&gt; | TRA.TRD.chains &lt;int&gt; | IGH.chains &lt;int&gt; | IGK.chains &lt;int&gt; | IGL.chains &lt;int&gt; | chains &lt;int&gt; | percaligned &lt;dbl&gt; |\n",
       "|---|---|---|---|---|---|---|---|---|---|---|---|---|---|---|---|---|---|---|---|---|---|\n",
       "| 1 | CHP_323-03_cfDNA | CHP_323_03 | n = 316 | 142.96 | 20.000 | Passed | 191017_M04827_0284_000000000-D77P2 | n = 316 | 305.28 | 305.28 | ... | 3553899 | 549158 | 111175 | 593458 | 4272584 | 128 |  0 |  0 | 0 | 0.8600238 |\n",
       "| 2 | CHP_323-05_cfDNA | CHP_323_05 | n = 316 |  39.56 | 20.000 | Passed | 200117_M04827_0343_000000000-D82R9 | n = 316 | 614.40 | 501.44 | ... | 2772203 | 255738 | 101783 | 378530 | 3919109 |   0 |  0 |  0 | 0 | 0.8734095 |\n",
       "| 3 | CHP_324-04_cfDNA | CHP_324_04 | n = 316 |  99.84 | 20.000 | Passed | 200108_M04827_0336_000000000-D7Y8P | n = 316 | 264.00 | 264.00 | ... | 1918562 | 560107 | 102545 | 159952 |  459396 |  78 | 28 | 28 | 0 | 0.7406572 |\n",
       "| 4 | CHP_324-05_cfDNA | CHP_324_05 | n = 316 |  17.16 |  9.576 | Passed | 200213_M04827_0362_000000000-D8682 | n = 316 | 330.24 | 330.24 | ... | 1012748 | 193564 |  39073 |  89307 | 2693686 |  43 | 62 |  0 | 0 | 0.8925282 |\n",
       "| 5 | CHP_326-05_cfDNA | CHP_326_05 | n = 316 |  12.68 |  9.432 | Passed | 200213_M04827_0362_000000000-D8682 | n = 316 | 314.88 | 314.88 | ... | 1074994 | 218543 |  36623 | 159705 | 2667817 | 128 |  0 |  0 | 0 | 0.8737865 |\n",
       "| 6 | CHP_328-05_cfDNA | CHP_328_05 | n = 316 |  14.60 | 11.988 | Passed | 200213_M04827_0362_000000000-D8682 | n = 316 | 293.76 | 293.76 | ... |  958051 | 174406 |  38165 | 113414 | 2939570 |  13 |  0 |  0 | 0 | 0.8914028 |\n",
       "\n"
      ],
      "text/plain": [
       "  basename         mysample_id DNA samples DNAextracted DNAused librarypassed\n",
       "1 CHP_323-03_cfDNA CHP_323_03  n = 316     142.96       20.000  Passed       \n",
       "2 CHP_323-05_cfDNA CHP_323_05  n = 316      39.56       20.000  Passed       \n",
       "3 CHP_324-04_cfDNA CHP_324_04  n = 316      99.84       20.000  Passed       \n",
       "4 CHP_324-05_cfDNA CHP_324_05  n = 316      17.16        9.576  Passed       \n",
       "5 CHP_326-05_cfDNA CHP_326_05  n = 316      12.68        9.432  Passed       \n",
       "6 CHP_328-05_cfDNA CHP_328_05  n = 316      14.60       11.988  Passed       \n",
       "  libbatch                           Library preparation libraryyield\n",
       "1 191017_M04827_0284_000000000-D77P2 n = 316             305.28      \n",
       "2 200117_M04827_0343_000000000-D82R9 n = 316             614.40      \n",
       "3 200108_M04827_0336_000000000-D7Y8P n = 316             264.00      \n",
       "4 200213_M04827_0362_000000000-D8682 n = 316             330.24      \n",
       "5 200213_M04827_0362_000000000-D8682 n = 316             314.88      \n",
       "6 200213_M04827_0362_000000000-D8682 n = 316             293.76      \n",
       "  DNAforcapture ... TRA.chains TRB.chains TRD.chains TRG.chains TRA.TRD.chains\n",
       "1 305.28        ... 3553899    549158     111175     593458     4272584       \n",
       "2 501.44        ... 2772203    255738     101783     378530     3919109       \n",
       "3 264.00        ... 1918562    560107     102545     159952      459396       \n",
       "4 330.24        ... 1012748    193564      39073      89307     2693686       \n",
       "5 314.88        ... 1074994    218543      36623     159705     2667817       \n",
       "6 293.76        ...  958051    174406      38165     113414     2939570       \n",
       "  IGH.chains IGK.chains IGL.chains chains percaligned\n",
       "1 128         0          0         0      0.8600238  \n",
       "2   0         0          0         0      0.8734095  \n",
       "3  78        28         28         0      0.7406572  \n",
       "4  43        62          0         0      0.8925282  \n",
       "5 128         0          0         0      0.8737865  \n",
       "6  13         0          0         0      0.8914028  "
      ]
     },
     "metadata": {},
     "output_type": "display_data"
    }
   ],
   "source": [
    "head(subset_cfdna)"
   ]
  },
  {
   "cell_type": "code",
   "execution_count": 45,
   "metadata": {
    "vscode": {
     "languageId": "r"
    }
   },
   "outputs": [
    {
     "data": {
      "text/plain": [
       "\n",
       "  ALCL    ALL    AML   ARMS     BL    BLL    CML  DLBCL   ERMS    EWS     HB \n",
       "    15    159     74      8     33     15     25     21     39     44     25 \n",
       "    HD HR ALL    LFS  MS NB     NB Normal     OS  PMBCL    RMS SR ALL  T-ALL \n",
       "    60     93     10      5     25     14     86     14     15     17     26 \n",
       " WILMS \n",
       "    18 "
      ]
     },
     "metadata": {},
     "output_type": "display_data"
    }
   ],
   "source": [
    "table(meta_div$Disease_type)"
   ]
  },
  {
   "cell_type": "code",
   "execution_count": 46,
   "metadata": {
    "vscode": {
     "languageId": "r"
    }
   },
   "outputs": [],
   "source": [
    "meta_div_goodsamples <- meta_div[ which(meta_div$sampletype == \"Tumor\"),] # all tumours\n",
    "meta_div_goodsamples <- rbind(\n",
    "meta_div[ which(meta_div$basename %in% subset_pbmc$basename),], #good pbmcs\n",
    "meta_div[ which(meta_div$basename %in% subset_cfdna$basename),], # good cfDNAs\n",
    "meta_div[ is.na(meta_div$basename),], # all flow-only data\n",
    "meta_div[ which(meta_div$Disease_type == \"LFS\"),], # add LFS\n",
    "meta_div_goodsamples)\n"
   ]
  },
  {
   "cell_type": "code",
   "execution_count": 47,
   "metadata": {
    "vscode": {
     "languageId": "r"
    }
   },
   "outputs": [],
   "source": [
    "#rm(meta_div_goodsamples)"
   ]
  },
  {
   "cell_type": "code",
   "execution_count": 48,
   "metadata": {
    "vscode": {
     "languageId": "r"
    }
   },
   "outputs": [
    {
     "data": {
      "text/html": [
       "<style>\n",
       ".list-inline {list-style: none; margin:0; padding: 0}\n",
       ".list-inline>li {display: inline-block}\n",
       ".list-inline>li:not(:last-child)::after {content: \"\\00b7\"; padding: 0 .5ex}\n",
       "</style>\n",
       "<ol class=list-inline><li>841</li><li>58</li></ol>\n"
      ],
      "text/latex": [
       "\\begin{enumerate*}\n",
       "\\item 841\n",
       "\\item 58\n",
       "\\end{enumerate*}\n"
      ],
      "text/markdown": [
       "1. 841\n",
       "2. 58\n",
       "\n",
       "\n"
      ],
      "text/plain": [
       "[1] 841  58"
      ]
     },
     "metadata": {},
     "output_type": "display_data"
    }
   ],
   "source": [
    "dim(meta_div)"
   ]
  },
  {
   "cell_type": "code",
   "execution_count": 49,
   "metadata": {
    "vscode": {
     "languageId": "r"
    }
   },
   "outputs": [
    {
     "data": {
      "text/html": [
       "<style>\n",
       ".list-inline {list-style: none; margin:0; padding: 0}\n",
       ".list-inline>li {display: inline-block}\n",
       ".list-inline>li:not(:last-child)::after {content: \"\\00b7\"; padding: 0 .5ex}\n",
       "</style>\n",
       "<ol class=list-inline><li>768</li><li>58</li></ol>\n"
      ],
      "text/latex": [
       "\\begin{enumerate*}\n",
       "\\item 768\n",
       "\\item 58\n",
       "\\end{enumerate*}\n"
      ],
      "text/markdown": [
       "1. 768\n",
       "2. 58\n",
       "\n",
       "\n"
      ],
      "text/plain": [
       "[1] 768  58"
      ]
     },
     "metadata": {},
     "output_type": "display_data"
    }
   ],
   "source": [
    "dim(meta_div_goodsamples)"
   ]
  },
  {
   "cell_type": "code",
   "execution_count": 50,
   "metadata": {
    "vscode": {
     "languageId": "r"
    }
   },
   "outputs": [
    {
     "data": {
      "text/plain": [
       "\n",
       " PBMC Tumor cfDNA  <NA> \n",
       "  220    18   274   256 "
      ]
     },
     "metadata": {},
     "output_type": "display_data"
    }
   ],
   "source": [
    "table(meta_div_goodsamples$sampletype, useNA = \"ifany\")"
   ]
  },
  {
   "cell_type": "code",
   "execution_count": 51,
   "metadata": {
    "vscode": {
     "languageId": "r"
    }
   },
   "outputs": [
    {
     "data": {
      "text/html": [
       "<table class=\"dataframe\">\n",
       "<caption>A data.frame: 6 x 95</caption>\n",
       "<thead>\n",
       "\t<tr><th></th><th scope=col>basename</th><th scope=col>mysample_id</th><th scope=col>Shipped</th><th scope=col>DNAextracted</th><th scope=col>DNAused</th><th scope=col>libbatch</th><th scope=col>librarypassed</th><th scope=col>Library preparation</th><th scope=col>libraryyield</th><th scope=col>captureyield</th><th scope=col>...</th><th scope=col>TRA.chains</th><th scope=col>TRB.chains</th><th scope=col>TRD.chains</th><th scope=col>TRG.chains</th><th scope=col>TRA.TRD.chains</th><th scope=col>IGH.chains</th><th scope=col>IGK.chains</th><th scope=col>IGL.chains</th><th scope=col>chains</th><th scope=col>percaligned</th></tr>\n",
       "\t<tr><th></th><th scope=col>&lt;chr&gt;</th><th scope=col>&lt;chr&gt;</th><th scope=col>&lt;chr&gt;</th><th scope=col>&lt;dbl&gt;</th><th scope=col>&lt;dbl&gt;</th><th scope=col>&lt;chr&gt;</th><th scope=col>&lt;chr&gt;</th><th scope=col>&lt;chr&gt;</th><th scope=col>&lt;dbl&gt;</th><th scope=col>&lt;dbl&gt;</th><th scope=col>...</th><th scope=col>&lt;int&gt;</th><th scope=col>&lt;int&gt;</th><th scope=col>&lt;int&gt;</th><th scope=col>&lt;int&gt;</th><th scope=col>&lt;int&gt;</th><th scope=col>&lt;int&gt;</th><th scope=col>&lt;int&gt;</th><th scope=col>&lt;int&gt;</th><th scope=col>&lt;int&gt;</th><th scope=col>&lt;dbl&gt;</th></tr>\n",
       "</thead>\n",
       "<tbody>\n",
       "\t<tr><th scope=row>1</th><td>CHP-328-04-PBMC-DNA</td><td>CHP_328_04</td><td>n = 320</td><td>111.996</td><td>111.996</td><td>200711_M04827_0406_000000000-D8W43</td><td>Passed</td><td>n = 281</td><td> 720.0</td><td>915.80</td><td>...</td><td>3567638</td><td>454942</td><td>103912</td><td>2044714</td><td>3898342</td><td>202</td><td>122</td><td>26</td><td>0</td><td>0.8890611</td></tr>\n",
       "\t<tr><th scope=row>2</th><td>CHP-328-05-PBMC-DNA</td><td>CHP_328_05</td><td>n = 320</td><td>125.870</td><td>125.870</td><td>200711_M04827_0406_000000000-D8W43</td><td>Passed</td><td>n = 281</td><td>1516.8</td><td>535.80</td><td>...</td><td>3457123</td><td>274168</td><td>150033</td><td> 776859</td><td>  92562</td><td> 43</td><td>  0</td><td> 0</td><td>0</td><td>0.8872281</td></tr>\n",
       "\t<tr><th scope=row>4</th><td>CHP-351-03-PBMC-DNA</td><td>CHP_351_03</td><td>n = 320</td><td>410.060</td><td>114.000</td><td>191210_M04827_0319_000000000-D7M28</td><td>Passed</td><td>n = 281</td><td>1219.2</td><td>695.40</td><td>...</td><td>2878428</td><td>324281</td><td>121251</td><td>1619395</td><td>2503466</td><td>370</td><td> 37</td><td>72</td><td>0</td><td>0.8748030</td></tr>\n",
       "\t<tr><th scope=row>7</th><td>CHP-369-01-PBMC-DNA</td><td>CHP_369_01</td><td>n = 320</td><td>126.000</td><td>113.000</td><td>191223_M04827_0328_000000000-D7VLK</td><td>Passed</td><td>n = 281</td><td> 628.8</td><td>915.80</td><td>...</td><td>7339655</td><td>668267</td><td> 96297</td><td>2899593</td><td>3688473</td><td>288</td><td> 80</td><td>28</td><td>0</td><td>0.9161272</td></tr>\n",
       "\t<tr><th scope=row>9</th><td>CHP-377-02-PBMC-DNA</td><td>CHP_377_02</td><td>n = 320</td><td>400.000</td><td>109.400</td><td>191210_M04827_0319_000000000-D7M28</td><td>Passed</td><td>n = 281</td><td>1248.0</td><td>695.40</td><td>...</td><td>1647669</td><td>163699</td><td> 40220</td><td> 635362</td><td>2289337</td><td>287</td><td> 90</td><td>22</td><td>0</td><td>0.8262173</td></tr>\n",
       "\t<tr><th scope=row>14</th><td>CHP-411-02-PBMC-DNA</td><td>CHP_411_02</td><td>n = 320</td><td>312.000</td><td>312.000</td><td>200110_M04827_0338_000000000-D7YGN</td><td>Passed</td><td>n = 281</td><td> 542.4</td><td>177.46</td><td>...</td><td> 940026</td><td>242188</td><td> 17601</td><td> 415881</td><td> 656693</td><td>  0</td><td>  0</td><td> 0</td><td>0</td><td>0.9125061</td></tr>\n",
       "</tbody>\n",
       "</table>\n"
      ],
      "text/latex": [
       "A data.frame: 6 x 95\n",
       "\\begin{tabular}{r|lllllllllllllllllllll}\n",
       "  & basename & mysample\\_id & Shipped & DNAextracted & DNAused & libbatch & librarypassed & Library preparation & libraryyield & captureyield & ... & TRA.chains & TRB.chains & TRD.chains & TRG.chains & TRA.TRD.chains & IGH.chains & IGK.chains & IGL.chains & chains & percaligned\\\\\n",
       "  & <chr> & <chr> & <chr> & <dbl> & <dbl> & <chr> & <chr> & <chr> & <dbl> & <dbl> & ... & <int> & <int> & <int> & <int> & <int> & <int> & <int> & <int> & <int> & <dbl>\\\\\n",
       "\\hline\n",
       "\t1 & CHP-328-04-PBMC-DNA & CHP\\_328\\_04 & n = 320 & 111.996 & 111.996 & 200711\\_M04827\\_0406\\_000000000-D8W43 & Passed & n = 281 &  720.0 & 915.80 & ... & 3567638 & 454942 & 103912 & 2044714 & 3898342 & 202 & 122 & 26 & 0 & 0.8890611\\\\\n",
       "\t2 & CHP-328-05-PBMC-DNA & CHP\\_328\\_05 & n = 320 & 125.870 & 125.870 & 200711\\_M04827\\_0406\\_000000000-D8W43 & Passed & n = 281 & 1516.8 & 535.80 & ... & 3457123 & 274168 & 150033 &  776859 &   92562 &  43 &   0 &  0 & 0 & 0.8872281\\\\\n",
       "\t4 & CHP-351-03-PBMC-DNA & CHP\\_351\\_03 & n = 320 & 410.060 & 114.000 & 191210\\_M04827\\_0319\\_000000000-D7M28 & Passed & n = 281 & 1219.2 & 695.40 & ... & 2878428 & 324281 & 121251 & 1619395 & 2503466 & 370 &  37 & 72 & 0 & 0.8748030\\\\\n",
       "\t7 & CHP-369-01-PBMC-DNA & CHP\\_369\\_01 & n = 320 & 126.000 & 113.000 & 191223\\_M04827\\_0328\\_000000000-D7VLK & Passed & n = 281 &  628.8 & 915.80 & ... & 7339655 & 668267 &  96297 & 2899593 & 3688473 & 288 &  80 & 28 & 0 & 0.9161272\\\\\n",
       "\t9 & CHP-377-02-PBMC-DNA & CHP\\_377\\_02 & n = 320 & 400.000 & 109.400 & 191210\\_M04827\\_0319\\_000000000-D7M28 & Passed & n = 281 & 1248.0 & 695.40 & ... & 1647669 & 163699 &  40220 &  635362 & 2289337 & 287 &  90 & 22 & 0 & 0.8262173\\\\\n",
       "\t14 & CHP-411-02-PBMC-DNA & CHP\\_411\\_02 & n = 320 & 312.000 & 312.000 & 200110\\_M04827\\_0338\\_000000000-D7YGN & Passed & n = 281 &  542.4 & 177.46 & ... &  940026 & 242188 &  17601 &  415881 &  656693 &   0 &   0 &  0 & 0 & 0.9125061\\\\\n",
       "\\end{tabular}\n"
      ],
      "text/markdown": [
       "\n",
       "A data.frame: 6 x 95\n",
       "\n",
       "| <!--/--> | basename &lt;chr&gt; | mysample_id &lt;chr&gt; | Shipped &lt;chr&gt; | DNAextracted &lt;dbl&gt; | DNAused &lt;dbl&gt; | libbatch &lt;chr&gt; | librarypassed &lt;chr&gt; | Library preparation &lt;chr&gt; | libraryyield &lt;dbl&gt; | captureyield &lt;dbl&gt; | ... ... | TRA.chains &lt;int&gt; | TRB.chains &lt;int&gt; | TRD.chains &lt;int&gt; | TRG.chains &lt;int&gt; | TRA.TRD.chains &lt;int&gt; | IGH.chains &lt;int&gt; | IGK.chains &lt;int&gt; | IGL.chains &lt;int&gt; | chains &lt;int&gt; | percaligned &lt;dbl&gt; |\n",
       "|---|---|---|---|---|---|---|---|---|---|---|---|---|---|---|---|---|---|---|---|---|---|\n",
       "| 1 | CHP-328-04-PBMC-DNA | CHP_328_04 | n = 320 | 111.996 | 111.996 | 200711_M04827_0406_000000000-D8W43 | Passed | n = 281 |  720.0 | 915.80 | ... | 3567638 | 454942 | 103912 | 2044714 | 3898342 | 202 | 122 | 26 | 0 | 0.8890611 |\n",
       "| 2 | CHP-328-05-PBMC-DNA | CHP_328_05 | n = 320 | 125.870 | 125.870 | 200711_M04827_0406_000000000-D8W43 | Passed | n = 281 | 1516.8 | 535.80 | ... | 3457123 | 274168 | 150033 |  776859 |   92562 |  43 |   0 |  0 | 0 | 0.8872281 |\n",
       "| 4 | CHP-351-03-PBMC-DNA | CHP_351_03 | n = 320 | 410.060 | 114.000 | 191210_M04827_0319_000000000-D7M28 | Passed | n = 281 | 1219.2 | 695.40 | ... | 2878428 | 324281 | 121251 | 1619395 | 2503466 | 370 |  37 | 72 | 0 | 0.8748030 |\n",
       "| 7 | CHP-369-01-PBMC-DNA | CHP_369_01 | n = 320 | 126.000 | 113.000 | 191223_M04827_0328_000000000-D7VLK | Passed | n = 281 |  628.8 | 915.80 | ... | 7339655 | 668267 |  96297 | 2899593 | 3688473 | 288 |  80 | 28 | 0 | 0.9161272 |\n",
       "| 9 | CHP-377-02-PBMC-DNA | CHP_377_02 | n = 320 | 400.000 | 109.400 | 191210_M04827_0319_000000000-D7M28 | Passed | n = 281 | 1248.0 | 695.40 | ... | 1647669 | 163699 |  40220 |  635362 | 2289337 | 287 |  90 | 22 | 0 | 0.8262173 |\n",
       "| 14 | CHP-411-02-PBMC-DNA | CHP_411_02 | n = 320 | 312.000 | 312.000 | 200110_M04827_0338_000000000-D7YGN | Passed | n = 281 |  542.4 | 177.46 | ... |  940026 | 242188 |  17601 |  415881 |  656693 |   0 |   0 |  0 | 0 | 0.9125061 |\n",
       "\n"
      ],
      "text/plain": [
       "   basename            mysample_id Shipped DNAextracted DNAused\n",
       "1  CHP-328-04-PBMC-DNA CHP_328_04  n = 320 111.996      111.996\n",
       "2  CHP-328-05-PBMC-DNA CHP_328_05  n = 320 125.870      125.870\n",
       "4  CHP-351-03-PBMC-DNA CHP_351_03  n = 320 410.060      114.000\n",
       "7  CHP-369-01-PBMC-DNA CHP_369_01  n = 320 126.000      113.000\n",
       "9  CHP-377-02-PBMC-DNA CHP_377_02  n = 320 400.000      109.400\n",
       "14 CHP-411-02-PBMC-DNA CHP_411_02  n = 320 312.000      312.000\n",
       "   libbatch                           librarypassed Library preparation\n",
       "1  200711_M04827_0406_000000000-D8W43 Passed        n = 281            \n",
       "2  200711_M04827_0406_000000000-D8W43 Passed        n = 281            \n",
       "4  191210_M04827_0319_000000000-D7M28 Passed        n = 281            \n",
       "7  191223_M04827_0328_000000000-D7VLK Passed        n = 281            \n",
       "9  191210_M04827_0319_000000000-D7M28 Passed        n = 281            \n",
       "14 200110_M04827_0338_000000000-D7YGN Passed        n = 281            \n",
       "   libraryyield captureyield ... TRA.chains TRB.chains TRD.chains TRG.chains\n",
       "1   720.0       915.80       ... 3567638    454942     103912     2044714   \n",
       "2  1516.8       535.80       ... 3457123    274168     150033      776859   \n",
       "4  1219.2       695.40       ... 2878428    324281     121251     1619395   \n",
       "7   628.8       915.80       ... 7339655    668267      96297     2899593   \n",
       "9  1248.0       695.40       ... 1647669    163699      40220      635362   \n",
       "14  542.4       177.46       ...  940026    242188      17601      415881   \n",
       "   TRA.TRD.chains IGH.chains IGK.chains IGL.chains chains percaligned\n",
       "1  3898342        202        122        26         0      0.8890611  \n",
       "2    92562         43          0         0         0      0.8872281  \n",
       "4  2503466        370         37        72         0      0.8748030  \n",
       "7  3688473        288         80        28         0      0.9161272  \n",
       "9  2289337        287         90        22         0      0.8262173  \n",
       "14  656693          0          0         0         0      0.9125061  "
      ]
     },
     "metadata": {},
     "output_type": "display_data"
    }
   ],
   "source": [
    "head(subset_pbmc)"
   ]
  },
  {
   "cell_type": "code",
   "execution_count": 52,
   "metadata": {
    "vscode": {
     "languageId": "r"
    }
   },
   "outputs": [
    {
     "data": {
      "text/html": [
       "<table class=\"dataframe\">\n",
       "<caption>A data.frame: 1 x 95</caption>\n",
       "<thead>\n",
       "\t<tr><th></th><th scope=col>basename</th><th scope=col>mysample_id</th><th scope=col>Shipped</th><th scope=col>DNAextracted</th><th scope=col>DNAused</th><th scope=col>libbatch</th><th scope=col>librarypassed</th><th scope=col>Library preparation</th><th scope=col>libraryyield</th><th scope=col>captureyield</th><th scope=col>...</th><th scope=col>TRA.chains</th><th scope=col>TRB.chains</th><th scope=col>TRD.chains</th><th scope=col>TRG.chains</th><th scope=col>TRA.TRD.chains</th><th scope=col>IGH.chains</th><th scope=col>IGK.chains</th><th scope=col>IGL.chains</th><th scope=col>chains</th><th scope=col>percaligned</th></tr>\n",
       "\t<tr><th></th><th scope=col>&lt;chr&gt;</th><th scope=col>&lt;chr&gt;</th><th scope=col>&lt;chr&gt;</th><th scope=col>&lt;dbl&gt;</th><th scope=col>&lt;dbl&gt;</th><th scope=col>&lt;chr&gt;</th><th scope=col>&lt;chr&gt;</th><th scope=col>&lt;chr&gt;</th><th scope=col>&lt;dbl&gt;</th><th scope=col>&lt;dbl&gt;</th><th scope=col>...</th><th scope=col>&lt;int&gt;</th><th scope=col>&lt;int&gt;</th><th scope=col>&lt;int&gt;</th><th scope=col>&lt;int&gt;</th><th scope=col>&lt;int&gt;</th><th scope=col>&lt;int&gt;</th><th scope=col>&lt;int&gt;</th><th scope=col>&lt;int&gt;</th><th scope=col>&lt;int&gt;</th><th scope=col>&lt;dbl&gt;</th></tr>\n",
       "</thead>\n",
       "<tbody>\n",
       "\t<tr><th scope=row>145</th><td>CHP_372-01-PBMC-DNA</td><td>CHP_372_01</td><td>n = 320</td><td>9260</td><td>600</td><td>190607_M04827_0206_000000000-D6C75</td><td>Passed</td><td>n = 281</td><td>5040</td><td>58.14</td><td>...</td><td>4296299</td><td>945719</td><td>188076</td><td>381059</td><td>288983</td><td>0</td><td>0</td><td>0</td><td>0</td><td>0.6784307</td></tr>\n",
       "</tbody>\n",
       "</table>\n"
      ],
      "text/latex": [
       "A data.frame: 1 x 95\n",
       "\\begin{tabular}{r|lllllllllllllllllllll}\n",
       "  & basename & mysample\\_id & Shipped & DNAextracted & DNAused & libbatch & librarypassed & Library preparation & libraryyield & captureyield & ... & TRA.chains & TRB.chains & TRD.chains & TRG.chains & TRA.TRD.chains & IGH.chains & IGK.chains & IGL.chains & chains & percaligned\\\\\n",
       "  & <chr> & <chr> & <chr> & <dbl> & <dbl> & <chr> & <chr> & <chr> & <dbl> & <dbl> & ... & <int> & <int> & <int> & <int> & <int> & <int> & <int> & <int> & <int> & <dbl>\\\\\n",
       "\\hline\n",
       "\t145 & CHP\\_372-01-PBMC-DNA & CHP\\_372\\_01 & n = 320 & 9260 & 600 & 190607\\_M04827\\_0206\\_000000000-D6C75 & Passed & n = 281 & 5040 & 58.14 & ... & 4296299 & 945719 & 188076 & 381059 & 288983 & 0 & 0 & 0 & 0 & 0.6784307\\\\\n",
       "\\end{tabular}\n"
      ],
      "text/markdown": [
       "\n",
       "A data.frame: 1 x 95\n",
       "\n",
       "| <!--/--> | basename &lt;chr&gt; | mysample_id &lt;chr&gt; | Shipped &lt;chr&gt; | DNAextracted &lt;dbl&gt; | DNAused &lt;dbl&gt; | libbatch &lt;chr&gt; | librarypassed &lt;chr&gt; | Library preparation &lt;chr&gt; | libraryyield &lt;dbl&gt; | captureyield &lt;dbl&gt; | ... ... | TRA.chains &lt;int&gt; | TRB.chains &lt;int&gt; | TRD.chains &lt;int&gt; | TRG.chains &lt;int&gt; | TRA.TRD.chains &lt;int&gt; | IGH.chains &lt;int&gt; | IGK.chains &lt;int&gt; | IGL.chains &lt;int&gt; | chains &lt;int&gt; | percaligned &lt;dbl&gt; |\n",
       "|---|---|---|---|---|---|---|---|---|---|---|---|---|---|---|---|---|---|---|---|---|---|\n",
       "| 145 | CHP_372-01-PBMC-DNA | CHP_372_01 | n = 320 | 9260 | 600 | 190607_M04827_0206_000000000-D6C75 | Passed | n = 281 | 5040 | 58.14 | ... | 4296299 | 945719 | 188076 | 381059 | 288983 | 0 | 0 | 0 | 0 | 0.6784307 |\n",
       "\n"
      ],
      "text/plain": [
       "    basename            mysample_id Shipped DNAextracted DNAused\n",
       "145 CHP_372-01-PBMC-DNA CHP_372_01  n = 320 9260         600    \n",
       "    libbatch                           librarypassed Library preparation\n",
       "145 190607_M04827_0206_000000000-D6C75 Passed        n = 281            \n",
       "    libraryyield captureyield ... TRA.chains TRB.chains TRD.chains TRG.chains\n",
       "145 5040         58.14        ... 4296299    945719     188076     381059    \n",
       "    TRA.TRD.chains IGH.chains IGK.chains IGL.chains chains percaligned\n",
       "145 288983         0          0          0          0      0.6784307  "
      ]
     },
     "metadata": {},
     "output_type": "display_data"
    }
   ],
   "source": [
    "subset_pbmc[ grepl(\"372\",subset_pbmc$mysample_id),]"
   ]
  },
  {
   "cell_type": "code",
   "execution_count": 53,
   "metadata": {
    "vscode": {
     "languageId": "r"
    }
   },
   "outputs": [
    {
     "data": {
      "text/html": [
       "<style>\n",
       ".list-inline {list-style: none; margin:0; padding: 0}\n",
       ".list-inline>li {display: inline-block}\n",
       ".list-inline>li:not(:last-child)::after {content: \"\\00b7\"; padding: 0 .5ex}\n",
       "</style>\n",
       "<ol class=list-inline><li>274</li><li>96</li></ol>\n"
      ],
      "text/latex": [
       "\\begin{enumerate*}\n",
       "\\item 274\n",
       "\\item 96\n",
       "\\end{enumerate*}\n"
      ],
      "text/markdown": [
       "1. 274\n",
       "2. 96\n",
       "\n",
       "\n"
      ],
      "text/plain": [
       "[1] 274  96"
      ]
     },
     "metadata": {},
     "output_type": "display_data"
    }
   ],
   "source": [
    "dim(subset_cfdna)"
   ]
  },
  {
   "cell_type": "code",
   "execution_count": 54,
   "metadata": {
    "vscode": {
     "languageId": "r"
    }
   },
   "outputs": [
    {
     "data": {
      "text/html": [
       "<table class=\"dataframe\">\n",
       "<caption>A data.frame: 7 x 58</caption>\n",
       "<thead>\n",
       "\t<tr><th></th><th scope=col>sample_id</th><th scope=col>Patient</th><th scope=col>cycle</th><th scope=col>FOLD</th><th scope=col>ATC</th><th scope=col>Age</th><th scope=col>Disease_type</th><th scope=col>TE_fold</th><th scope=col>Pass</th><th scope=col>CD3</th><th scope=col>...</th><th scope=col>observed_Shannon</th><th scope=col>estimated_Shannon</th><th scope=col>SE_Shannon</th><th scope=col>observed_Simpson</th><th scope=col>estimated_Simpson</th><th scope=col>SE_Simpson</th><th scope=col>file</th><th scope=col>basename</th><th scope=col>Group</th><th scope=col>sampletype</th></tr>\n",
       "\t<tr><th></th><th scope=col>&lt;chr&gt;</th><th scope=col>&lt;chr&gt;</th><th scope=col>&lt;chr&gt;</th><th scope=col>&lt;dbl&gt;</th><th scope=col>&lt;dbl&gt;</th><th scope=col>&lt;dbl&gt;</th><th scope=col>&lt;chr&gt;</th><th scope=col>&lt;chr&gt;</th><th scope=col>&lt;lgl&gt;</th><th scope=col>&lt;int&gt;</th><th scope=col>...</th><th scope=col>&lt;dbl&gt;</th><th scope=col>&lt;dbl&gt;</th><th scope=col>&lt;dbl&gt;</th><th scope=col>&lt;dbl&gt;</th><th scope=col>&lt;dbl&gt;</th><th scope=col>&lt;dbl&gt;</th><th scope=col>&lt;chr&gt;</th><th scope=col>&lt;chr&gt;</th><th scope=col>&lt;chr&gt;</th><th scope=col>&lt;chr&gt;</th></tr>\n",
       "</thead>\n",
       "<tbody>\n",
       "\t<tr><th scope=row>374</th><td>CHP_372_01</td><td>CHP_372</td><td>X01</td><td> 1</td><td> 0</td><td>21</td><td>BL</td><td>1 </td><td>NA</td><td>328</td><td>...</td><td>2.724</td><td>2.733</td><td>0.060</td><td>2.553</td><td>2.565</td><td>0.081</td><td>batch_reseq_24Feb2020/mixcr/clones/CLONES_TRBCHP_372-01-PBMC-DNA.txt</td><td>CHP_372-01-PBMC-DNA</td><td>CHP</td><td>PBMC </td></tr>\n",
       "\t<tr><th scope=row>373</th><td>CHP_372_01</td><td>CHP_372</td><td>X01</td><td> 1</td><td> 0</td><td>21</td><td>BL</td><td>1 </td><td>NA</td><td>328</td><td>...</td><td>2.784</td><td>2.815</td><td>0.155</td><td>2.328</td><td>2.351</td><td>0.188</td><td>batch1_cfDNA_30Jan2020/mixcr/clones/CLONES_TRBCHP_372-01-cfDNA.txt  </td><td>CHP_372-01-cfDNA   </td><td>CHP</td><td>cfDNA</td></tr>\n",
       "\t<tr><th scope=row>375</th><td>CHP_372_02</td><td>CHP_372</td><td>X02</td><td> 0</td><td> 0</td><td>21</td><td>BL</td><td>0 </td><td>NA</td><td>  0</td><td>...</td><td>   NA</td><td>   NA</td><td>   NA</td><td>   NA</td><td>   NA</td><td>   NA</td><td>NA                                                                  </td><td>NA                 </td><td>CHP</td><td>NA   </td></tr>\n",
       "\t<tr><th scope=row>376</th><td>CHP_372_03</td><td>CHP_372</td><td>X03</td><td> 0</td><td> 0</td><td>21</td><td>BL</td><td>0 </td><td>NA</td><td>  0</td><td>...</td><td>   NA</td><td>   NA</td><td>   NA</td><td>   NA</td><td>   NA</td><td>   NA</td><td>NA                                                                  </td><td>NA                 </td><td>CHP</td><td>NA   </td></tr>\n",
       "\t<tr><th scope=row>377</th><td>CHP_372_04</td><td>CHP_372</td><td>X04</td><td> 0</td><td> 0</td><td>21</td><td>BL</td><td>0 </td><td>NA</td><td>  0</td><td>...</td><td>   NA</td><td>   NA</td><td>   NA</td><td>   NA</td><td>   NA</td><td>   NA</td><td>NA                                                                  </td><td>NA                 </td><td>CHP</td><td>NA   </td></tr>\n",
       "\t<tr><th scope=row>378</th><td>CHP_372_05</td><td>CHP_372</td><td>X05</td><td> 0</td><td> 0</td><td>21</td><td>BL</td><td>0 </td><td>NA</td><td>  0</td><td>...</td><td>   NA</td><td>   NA</td><td>   NA</td><td>   NA</td><td>   NA</td><td>   NA</td><td>NA                                                                  </td><td>NA                 </td><td>CHP</td><td>NA   </td></tr>\n",
       "\t<tr><th scope=row>372</th><td>CHP_372   </td><td>CHP_372</td><td>X00</td><td>NA</td><td>NA</td><td>NA</td><td>BL</td><td>NA</td><td>NA</td><td> NA</td><td>...</td><td>2.406</td><td>2.412</td><td>0.047</td><td>1.739</td><td>1.740</td><td>0.034</td><td>batchFFPE_3Apr2020/mixcr/clones/CLONES_TRBCHP_372-FFPE-DNA_S1.txt   </td><td>CHP_372-FFPE-DNA_S1</td><td>CHP</td><td>Tumor</td></tr>\n",
       "</tbody>\n",
       "</table>\n"
      ],
      "text/latex": [
       "A data.frame: 7 x 58\n",
       "\\begin{tabular}{r|lllllllllllllllllllll}\n",
       "  & sample\\_id & Patient & cycle & FOLD & ATC & Age & Disease\\_type & TE\\_fold & Pass & CD3 & ... & observed\\_Shannon & estimated\\_Shannon & SE\\_Shannon & observed\\_Simpson & estimated\\_Simpson & SE\\_Simpson & file & basename & Group & sampletype\\\\\n",
       "  & <chr> & <chr> & <chr> & <dbl> & <dbl> & <dbl> & <chr> & <chr> & <lgl> & <int> & ... & <dbl> & <dbl> & <dbl> & <dbl> & <dbl> & <dbl> & <chr> & <chr> & <chr> & <chr>\\\\\n",
       "\\hline\n",
       "\t374 & CHP\\_372\\_01 & CHP\\_372 & X01 &  1 &  0 & 21 & BL & 1  & NA & 328 & ... & 2.724 & 2.733 & 0.060 & 2.553 & 2.565 & 0.081 & batch\\_reseq\\_24Feb2020/mixcr/clones/CLONES\\_TRBCHP\\_372-01-PBMC-DNA.txt & CHP\\_372-01-PBMC-DNA & CHP & PBMC \\\\\n",
       "\t373 & CHP\\_372\\_01 & CHP\\_372 & X01 &  1 &  0 & 21 & BL & 1  & NA & 328 & ... & 2.784 & 2.815 & 0.155 & 2.328 & 2.351 & 0.188 & batch1\\_cfDNA\\_30Jan2020/mixcr/clones/CLONES\\_TRBCHP\\_372-01-cfDNA.txt   & CHP\\_372-01-cfDNA    & CHP & cfDNA\\\\\n",
       "\t375 & CHP\\_372\\_02 & CHP\\_372 & X02 &  0 &  0 & 21 & BL & 0  & NA &   0 & ... &    NA &    NA &    NA &    NA &    NA &    NA & NA                                                                   & NA                  & CHP & NA   \\\\\n",
       "\t376 & CHP\\_372\\_03 & CHP\\_372 & X03 &  0 &  0 & 21 & BL & 0  & NA &   0 & ... &    NA &    NA &    NA &    NA &    NA &    NA & NA                                                                   & NA                  & CHP & NA   \\\\\n",
       "\t377 & CHP\\_372\\_04 & CHP\\_372 & X04 &  0 &  0 & 21 & BL & 0  & NA &   0 & ... &    NA &    NA &    NA &    NA &    NA &    NA & NA                                                                   & NA                  & CHP & NA   \\\\\n",
       "\t378 & CHP\\_372\\_05 & CHP\\_372 & X05 &  0 &  0 & 21 & BL & 0  & NA &   0 & ... &    NA &    NA &    NA &    NA &    NA &    NA & NA                                                                   & NA                  & CHP & NA   \\\\\n",
       "\t372 & CHP\\_372    & CHP\\_372 & X00 & NA & NA & NA & BL & NA & NA &  NA & ... & 2.406 & 2.412 & 0.047 & 1.739 & 1.740 & 0.034 & batchFFPE\\_3Apr2020/mixcr/clones/CLONES\\_TRBCHP\\_372-FFPE-DNA\\_S1.txt    & CHP\\_372-FFPE-DNA\\_S1 & CHP & Tumor\\\\\n",
       "\\end{tabular}\n"
      ],
      "text/markdown": [
       "\n",
       "A data.frame: 7 x 58\n",
       "\n",
       "| <!--/--> | sample_id &lt;chr&gt; | Patient &lt;chr&gt; | cycle &lt;chr&gt; | FOLD &lt;dbl&gt; | ATC &lt;dbl&gt; | Age &lt;dbl&gt; | Disease_type &lt;chr&gt; | TE_fold &lt;chr&gt; | Pass &lt;lgl&gt; | CD3 &lt;int&gt; | ... ... | observed_Shannon &lt;dbl&gt; | estimated_Shannon &lt;dbl&gt; | SE_Shannon &lt;dbl&gt; | observed_Simpson &lt;dbl&gt; | estimated_Simpson &lt;dbl&gt; | SE_Simpson &lt;dbl&gt; | file &lt;chr&gt; | basename &lt;chr&gt; | Group &lt;chr&gt; | sampletype &lt;chr&gt; |\n",
       "|---|---|---|---|---|---|---|---|---|---|---|---|---|---|---|---|---|---|---|---|---|---|\n",
       "| 374 | CHP_372_01 | CHP_372 | X01 |  1 |  0 | 21 | BL | 1  | NA | 328 | ... | 2.724 | 2.733 | 0.060 | 2.553 | 2.565 | 0.081 | batch_reseq_24Feb2020/mixcr/clones/CLONES_TRBCHP_372-01-PBMC-DNA.txt | CHP_372-01-PBMC-DNA | CHP | PBMC  |\n",
       "| 373 | CHP_372_01 | CHP_372 | X01 |  1 |  0 | 21 | BL | 1  | NA | 328 | ... | 2.784 | 2.815 | 0.155 | 2.328 | 2.351 | 0.188 | batch1_cfDNA_30Jan2020/mixcr/clones/CLONES_TRBCHP_372-01-cfDNA.txt   | CHP_372-01-cfDNA    | CHP | cfDNA |\n",
       "| 375 | CHP_372_02 | CHP_372 | X02 |  0 |  0 | 21 | BL | 0  | NA |   0 | ... |    NA |    NA |    NA |    NA |    NA |    NA | NA                                                                   | NA                  | CHP | NA    |\n",
       "| 376 | CHP_372_03 | CHP_372 | X03 |  0 |  0 | 21 | BL | 0  | NA |   0 | ... |    NA |    NA |    NA |    NA |    NA |    NA | NA                                                                   | NA                  | CHP | NA    |\n",
       "| 377 | CHP_372_04 | CHP_372 | X04 |  0 |  0 | 21 | BL | 0  | NA |   0 | ... |    NA |    NA |    NA |    NA |    NA |    NA | NA                                                                   | NA                  | CHP | NA    |\n",
       "| 378 | CHP_372_05 | CHP_372 | X05 |  0 |  0 | 21 | BL | 0  | NA |   0 | ... |    NA |    NA |    NA |    NA |    NA |    NA | NA                                                                   | NA                  | CHP | NA    |\n",
       "| 372 | CHP_372    | CHP_372 | X00 | NA | NA | NA | BL | NA | NA |  NA | ... | 2.406 | 2.412 | 0.047 | 1.739 | 1.740 | 0.034 | batchFFPE_3Apr2020/mixcr/clones/CLONES_TRBCHP_372-FFPE-DNA_S1.txt    | CHP_372-FFPE-DNA_S1 | CHP | Tumor |\n",
       "\n"
      ],
      "text/plain": [
       "    sample_id  Patient cycle FOLD ATC Age Disease_type TE_fold Pass CD3 ...\n",
       "374 CHP_372_01 CHP_372 X01    1    0  21  BL           1       NA   328 ...\n",
       "373 CHP_372_01 CHP_372 X01    1    0  21  BL           1       NA   328 ...\n",
       "375 CHP_372_02 CHP_372 X02    0    0  21  BL           0       NA     0 ...\n",
       "376 CHP_372_03 CHP_372 X03    0    0  21  BL           0       NA     0 ...\n",
       "377 CHP_372_04 CHP_372 X04    0    0  21  BL           0       NA     0 ...\n",
       "378 CHP_372_05 CHP_372 X05    0    0  21  BL           0       NA     0 ...\n",
       "372 CHP_372    CHP_372 X00   NA   NA  NA  BL           NA      NA    NA ...\n",
       "    observed_Shannon estimated_Shannon SE_Shannon observed_Simpson\n",
       "374 2.724            2.733             0.060      2.553           \n",
       "373 2.784            2.815             0.155      2.328           \n",
       "375    NA               NA                NA         NA           \n",
       "376    NA               NA                NA         NA           \n",
       "377    NA               NA                NA         NA           \n",
       "378    NA               NA                NA         NA           \n",
       "372 2.406            2.412             0.047      1.739           \n",
       "    estimated_Simpson SE_Simpson\n",
       "374 2.565             0.081     \n",
       "373 2.351             0.188     \n",
       "375    NA                NA     \n",
       "376    NA                NA     \n",
       "377    NA                NA     \n",
       "378    NA                NA     \n",
       "372 1.740             0.034     \n",
       "    file                                                                \n",
       "374 batch_reseq_24Feb2020/mixcr/clones/CLONES_TRBCHP_372-01-PBMC-DNA.txt\n",
       "373 batch1_cfDNA_30Jan2020/mixcr/clones/CLONES_TRBCHP_372-01-cfDNA.txt  \n",
       "375 NA                                                                  \n",
       "376 NA                                                                  \n",
       "377 NA                                                                  \n",
       "378 NA                                                                  \n",
       "372 batchFFPE_3Apr2020/mixcr/clones/CLONES_TRBCHP_372-FFPE-DNA_S1.txt   \n",
       "    basename            Group sampletype\n",
       "374 CHP_372-01-PBMC-DNA CHP   PBMC      \n",
       "373 CHP_372-01-cfDNA    CHP   cfDNA     \n",
       "375 NA                  CHP   NA        \n",
       "376 NA                  CHP   NA        \n",
       "377 NA                  CHP   NA        \n",
       "378 NA                  CHP   NA        \n",
       "372 CHP_372-FFPE-DNA_S1 CHP   Tumor     "
      ]
     },
     "metadata": {},
     "output_type": "display_data"
    }
   ],
   "source": [
    "meta_div_goodsamples[ meta_div_goodsamples$Patient == \"CHP_372\",]"
   ]
  },
  {
   "attachments": {},
   "cell_type": "markdown",
   "metadata": {},
   "source": [
    "remove  patients before CHP_330"
   ]
  },
  {
   "cell_type": "code",
   "execution_count": 55,
   "metadata": {
    "vscode": {
     "languageId": "r"
    }
   },
   "outputs": [],
   "source": [
    "rmsamples <- as.numeric(unique(gsub(\"CHP_\", \"\", meta_div_goodsamples$Patient[grepl(\"CHP\", meta_div_goodsamples$Patient) &\n",
    "meta_div_goodsamples$Disease_type != \"Normal\"])))"
   ]
  },
  {
   "cell_type": "code",
   "execution_count": 56,
   "metadata": {
    "vscode": {
     "languageId": "r"
    }
   },
   "outputs": [],
   "source": [
    "rmsamples <- paste0(\"CHP_\", rmsamples[ which(rmsamples < 330)])"
   ]
  },
  {
   "cell_type": "code",
   "execution_count": 57,
   "metadata": {
    "vscode": {
     "languageId": "r"
    }
   },
   "outputs": [
    {
     "data": {
      "text/html": [
       "<style>\n",
       ".list-inline {list-style: none; margin:0; padding: 0}\n",
       ".list-inline>li {display: inline-block}\n",
       ".list-inline>li:not(:last-child)::after {content: \"\\00b7\"; padding: 0 .5ex}\n",
       "</style>\n",
       "<ol class=list-inline><li>'CHP_320'</li><li>'CHP_321'</li><li>'CHP_322'</li><li>'CHP_323'</li><li>'CHP_324'</li><li>'CHP_325'</li><li>'CHP_326'</li><li>'CHP_327'</li><li>'CHP_328'</li><li>'CHP_329'</li></ol>\n"
      ],
      "text/latex": [
       "\\begin{enumerate*}\n",
       "\\item 'CHP\\_320'\n",
       "\\item 'CHP\\_321'\n",
       "\\item 'CHP\\_322'\n",
       "\\item 'CHP\\_323'\n",
       "\\item 'CHP\\_324'\n",
       "\\item 'CHP\\_325'\n",
       "\\item 'CHP\\_326'\n",
       "\\item 'CHP\\_327'\n",
       "\\item 'CHP\\_328'\n",
       "\\item 'CHP\\_329'\n",
       "\\end{enumerate*}\n"
      ],
      "text/markdown": [
       "1. 'CHP_320'\n",
       "2. 'CHP_321'\n",
       "3. 'CHP_322'\n",
       "4. 'CHP_323'\n",
       "5. 'CHP_324'\n",
       "6. 'CHP_325'\n",
       "7. 'CHP_326'\n",
       "8. 'CHP_327'\n",
       "9. 'CHP_328'\n",
       "10. 'CHP_329'\n",
       "\n",
       "\n"
      ],
      "text/plain": [
       " [1] \"CHP_320\" \"CHP_321\" \"CHP_322\" \"CHP_323\" \"CHP_324\" \"CHP_325\" \"CHP_326\"\n",
       " [8] \"CHP_327\" \"CHP_328\" \"CHP_329\""
      ]
     },
     "metadata": {},
     "output_type": "display_data"
    }
   ],
   "source": [
    "sort(rmsamples)"
   ]
  },
  {
   "cell_type": "code",
   "execution_count": 58,
   "metadata": {
    "vscode": {
     "languageId": "r"
    }
   },
   "outputs": [],
   "source": [
    "meta_div_goodsamples  <- meta_div_goodsamples[!meta_div_goodsamples$Patient %in% rmsamples,]"
   ]
  },
  {
   "cell_type": "code",
   "execution_count": null,
   "metadata": {
    "vscode": {
     "languageId": "r"
    }
   },
   "outputs": [],
   "source": []
  },
  {
   "cell_type": "code",
   "execution_count": 59,
   "metadata": {
    "vscode": {
     "languageId": "r"
    }
   },
   "outputs": [
    {
     "data": {
      "text/plain": [
       "\n",
       " PBMC Tumor cfDNA  <NA> \n",
       "  215    18   267   215 "
      ]
     },
     "metadata": {},
     "output_type": "display_data"
    }
   ],
   "source": [
    "table(meta_div_goodsamples$sampletype, useNA = \"ifany\")"
   ]
  },
  {
   "cell_type": "code",
   "execution_count": 61,
   "metadata": {
    "vscode": {
     "languageId": "r"
    }
   },
   "outputs": [],
   "source": [
    "meta_div_goodsamples$sampletype[is.na(meta_div_goodsamples$sampletype)] <- \"PBMC\" #if NA, they are Flow data only (no TRB), so the sample is PBMC"
   ]
  },
  {
   "cell_type": "code",
   "execution_count": 62,
   "metadata": {
    "vscode": {
     "languageId": "r"
    }
   },
   "outputs": [],
   "source": [
    "readr::write_rds(meta_div_goodsamples, paste0(datapath, \"capTCRseq/meta_div_goodsamples.rds\"))"
   ]
  },
  {
   "cell_type": "code",
   "execution_count": null,
   "metadata": {
    "vscode": {
     "languageId": "r"
    }
   },
   "outputs": [],
   "source": []
  }
 ],
 "metadata": {
  "kernelspec": {
   "display_name": "R 4.0",
   "language": "R",
   "name": "ir40"
  },
  "language_info": {
   "codemirror_mode": "r",
   "file_extension": ".r",
   "mimetype": "text/x-r-source",
   "name": "R",
   "pygments_lexer": "r",
   "version": "4.2.2"
  },
  "toc": {
   "base_numbering": 1,
   "nav_menu": {},
   "number_sections": false,
   "sideBar": true,
   "skip_h1_title": false,
   "title_cell": "Table of Contents",
   "title_sidebar": "Contents",
   "toc_cell": true,
   "toc_position": {
    "height": "calc(100% - 180px)",
    "left": "10px",
    "top": "150px",
    "width": "206.5px"
   },
   "toc_section_display": true,
   "toc_window_display": true
  }
 },
 "nbformat": 4,
 "nbformat_minor": 2
}
