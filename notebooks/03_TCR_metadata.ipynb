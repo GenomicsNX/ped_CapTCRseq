{
 "cells": [
  {
   "cell_type": "code",
   "execution_count": 1,
   "metadata": {
    "vscode": {
     "languageId": "r"
    }
   },
   "outputs": [
    {
     "data": {
      "text/html": [
       "'en_US.UTF-8/en_US.UTF-8/en_US.UTF-8/C/en_US.UTF-8/C'"
      ],
      "text/latex": [
       "'en\\_US.UTF-8/en\\_US.UTF-8/en\\_US.UTF-8/C/en\\_US.UTF-8/C'"
      ],
      "text/markdown": [
       "'en_US.UTF-8/en_US.UTF-8/en_US.UTF-8/C/en_US.UTF-8/C'"
      ],
      "text/plain": [
       "[1] \"en_US.UTF-8/en_US.UTF-8/en_US.UTF-8/C/en_US.UTF-8/C\""
      ]
     },
     "metadata": {},
     "output_type": "display_data"
    }
   ],
   "source": [
    "Sys.setlocale(category = \"LC_ALL\", locale = \"en_US.UTF-8\")"
   ]
  },
  {
   "attachments": {},
   "cell_type": "markdown",
   "metadata": {},
   "source": [
    "# Dependencies"
   ]
  },
  {
   "cell_type": "code",
   "execution_count": 2,
   "metadata": {
    "vscode": {
     "languageId": "r"
    }
   },
   "outputs": [],
   "source": [
    "library(ggplot2)"
   ]
  },
  {
   "attachments": {},
   "cell_type": "markdown",
   "metadata": {},
   "source": [
    "# Functions"
   ]
  },
  {
   "cell_type": "code",
   "execution_count": 3,
   "metadata": {
    "vscode": {
     "languageId": "r"
    }
   },
   "outputs": [],
   "source": [
    "histp <- function(df, var){\n",
    "    myp <- ggplot(data = df, aes(x = eval(parse(text = var)))) + \n",
    "    geom_histogram() + myplot + myaxis + labs(x = var)\n",
    "    return(myp)\n",
    "}"
   ]
  },
  {
   "cell_type": "code",
   "execution_count": 4,
   "metadata": {
    "vscode": {
     "languageId": "r"
    }
   },
   "outputs": [],
   "source": [
    "source(\"/Users/anabbi/git/ped_CapTCRseq/R/ggplot2_theme.R\")\n",
    "source(\"/Users/anabbi/git/ped_CapTCRseq/R/color_schemes.R\")"
   ]
  },
  {
   "attachments": {},
   "cell_type": "markdown",
   "metadata": {},
   "source": [
    "# Paths"
   ]
  },
  {
   "cell_type": "code",
   "execution_count": 5,
   "metadata": {
    "vscode": {
     "languageId": "r"
    }
   },
   "outputs": [],
   "source": [
    "datapath <- \"/Users/anabbi/OneDrive - UHN/Documents/INTERCEPT/Data/\"\n",
    "plotpath <- \"/Users/anabbi/OneDrive - UHN/Documents/INTERCEPT/Plots/\"\n",
    "manifestpath <- \"/Users/anabbi/OneDrive - UHN/Documents/INTERCEPT/Manifests/\"\n",
    "\n",
    "gitpath <- \"/Users/anabbi/git/ped_CapTCRseq/\""
   ]
  },
  {
   "attachments": {},
   "cell_type": "markdown",
   "metadata": {},
   "source": [
    "# Main"
   ]
  },
  {
   "cell_type": "code",
   "execution_count": 6,
   "metadata": {
    "vscode": {
     "languageId": "r"
    }
   },
   "outputs": [],
   "source": [
    "metadata <- read.csv(file = paste0(datapath, \"INT_metadata_flow.csv\"), \n",
    "                     header = T, stringsAsFactors = F, colClasses = c(\"cycle\" = \"character\"), check.names = F)"
   ]
  },
  {
   "cell_type": "code",
   "execution_count": 7,
   "metadata": {
    "vscode": {
     "languageId": "r"
    }
   },
   "outputs": [
    {
     "data": {
      "text/html": [
       "<table class=\"dataframe\">\n",
       "<caption>A data.frame: 6 x 40</caption>\n",
       "<thead>\n",
       "\t<tr><th></th><th scope=col>Patient</th><th scope=col>cycle</th><th scope=col>FOLD</th><th scope=col>ATC</th><th scope=col>Age</th><th scope=col>Disease_type</th><th scope=col>TE_fold</th><th scope=col>CD3</th><th scope=col>EM</th><th scope=col>CM</th><th scope=col>...</th><th scope=col>Any NCR</th><th scope=col>PD1 + LAG3 + TIM3</th><th scope=col>cancergroup</th><th scope=col>agegroup</th><th scope=col>foldgroup</th><th scope=col>sample_id</th><th scope=col>Remission</th><th scope=col>Relapse</th><th scope=col>Transplant</th><th scope=col>CART</th></tr>\n",
       "\t<tr><th></th><th scope=col>&lt;chr&gt;</th><th scope=col>&lt;chr&gt;</th><th scope=col>&lt;dbl&gt;</th><th scope=col>&lt;dbl&gt;</th><th scope=col>&lt;dbl&gt;</th><th scope=col>&lt;chr&gt;</th><th scope=col>&lt;dbl&gt;</th><th scope=col>&lt;int&gt;</th><th scope=col>&lt;int&gt;</th><th scope=col>&lt;int&gt;</th><th scope=col>...</th><th scope=col>&lt;dbl&gt;</th><th scope=col>&lt;dbl&gt;</th><th scope=col>&lt;chr&gt;</th><th scope=col>&lt;chr&gt;</th><th scope=col>&lt;chr&gt;</th><th scope=col>&lt;chr&gt;</th><th scope=col>&lt;int&gt;</th><th scope=col>&lt;int&gt;</th><th scope=col>&lt;int&gt;</th><th scope=col>&lt;int&gt;</th></tr>\n",
       "</thead>\n",
       "<tbody>\n",
       "\t<tr><th scope=row>1</th><td>CHP_319</td><td>01</td><td>1.4</td><td>0</td><td>1</td><td>HR ALL</td><td>1.4</td><td>0</td><td>NA</td><td>NA</td><td>...</td><td>NA</td><td>NA</td><td>Leukemia</td><td>&lt; 2 yrs </td><td>Low </td><td>CHP_319_01</td><td>NA</td><td>1</td><td>NA</td><td> 1</td></tr>\n",
       "\t<tr><th scope=row>2</th><td>CHP_319</td><td>02</td><td>7.9</td><td>0</td><td>1</td><td>HR ALL</td><td>7.9</td><td>0</td><td>NA</td><td>NA</td><td>...</td><td>NA</td><td>NA</td><td>Leukemia</td><td>&lt; 2 yrs </td><td>High</td><td>CHP_319_02</td><td>NA</td><td>1</td><td>NA</td><td> 1</td></tr>\n",
       "\t<tr><th scope=row>3</th><td>CHP_319</td><td>03</td><td>1.8</td><td>0</td><td>1</td><td>HR ALL</td><td>1.8</td><td>0</td><td>NA</td><td>NA</td><td>...</td><td>NA</td><td>NA</td><td>Leukemia</td><td>&lt; 2 yrs </td><td>Low </td><td>CHP_319_03</td><td>NA</td><td>1</td><td>NA</td><td> 1</td></tr>\n",
       "\t<tr><th scope=row>4</th><td>CHP_319</td><td>04</td><td>1.5</td><td>0</td><td>1</td><td>HR ALL</td><td>1.5</td><td>0</td><td>NA</td><td>NA</td><td>...</td><td>NA</td><td>NA</td><td>Leukemia</td><td>&lt; 2 yrs </td><td>Low </td><td>CHP_319_04</td><td>NA</td><td>1</td><td>NA</td><td> 1</td></tr>\n",
       "\t<tr><th scope=row>5</th><td>CHP_319</td><td>05</td><td>1.2</td><td>0</td><td>1</td><td>HR ALL</td><td>1.2</td><td>0</td><td>NA</td><td>NA</td><td>...</td><td>NA</td><td>NA</td><td>Leukemia</td><td>&lt; 2 yrs </td><td>Low </td><td>CHP_319_05</td><td>NA</td><td>1</td><td>NA</td><td> 1</td></tr>\n",
       "\t<tr><th scope=row>6</th><td>CHP_320</td><td>01</td><td>8.9</td><td>0</td><td>6</td><td>AML   </td><td>8.9</td><td>0</td><td>NA</td><td>NA</td><td>...</td><td>NA</td><td>NA</td><td>Leukemia</td><td>5-11 yrs</td><td>High</td><td>CHP_320_01</td><td>NA</td><td>1</td><td>NA</td><td>NA</td></tr>\n",
       "</tbody>\n",
       "</table>\n"
      ],
      "text/latex": [
       "A data.frame: 6 x 40\n",
       "\\begin{tabular}{r|lllllllllllllllllllll}\n",
       "  & Patient & cycle & FOLD & ATC & Age & Disease\\_type & TE\\_fold & CD3 & EM & CM & ... & Any NCR & PD1 + LAG3 + TIM3 & cancergroup & agegroup & foldgroup & sample\\_id & Remission & Relapse & Transplant & CART\\\\\n",
       "  & <chr> & <chr> & <dbl> & <dbl> & <dbl> & <chr> & <dbl> & <int> & <int> & <int> & ... & <dbl> & <dbl> & <chr> & <chr> & <chr> & <chr> & <int> & <int> & <int> & <int>\\\\\n",
       "\\hline\n",
       "\t1 & CHP\\_319 & 01 & 1.4 & 0 & 1 & HR ALL & 1.4 & 0 & NA & NA & ... & NA & NA & Leukemia & < 2 yrs  & Low  & CHP\\_319\\_01 & NA & 1 & NA &  1\\\\\n",
       "\t2 & CHP\\_319 & 02 & 7.9 & 0 & 1 & HR ALL & 7.9 & 0 & NA & NA & ... & NA & NA & Leukemia & < 2 yrs  & High & CHP\\_319\\_02 & NA & 1 & NA &  1\\\\\n",
       "\t3 & CHP\\_319 & 03 & 1.8 & 0 & 1 & HR ALL & 1.8 & 0 & NA & NA & ... & NA & NA & Leukemia & < 2 yrs  & Low  & CHP\\_319\\_03 & NA & 1 & NA &  1\\\\\n",
       "\t4 & CHP\\_319 & 04 & 1.5 & 0 & 1 & HR ALL & 1.5 & 0 & NA & NA & ... & NA & NA & Leukemia & < 2 yrs  & Low  & CHP\\_319\\_04 & NA & 1 & NA &  1\\\\\n",
       "\t5 & CHP\\_319 & 05 & 1.2 & 0 & 1 & HR ALL & 1.2 & 0 & NA & NA & ... & NA & NA & Leukemia & < 2 yrs  & Low  & CHP\\_319\\_05 & NA & 1 & NA &  1\\\\\n",
       "\t6 & CHP\\_320 & 01 & 8.9 & 0 & 6 & AML    & 8.9 & 0 & NA & NA & ... & NA & NA & Leukemia & 5-11 yrs & High & CHP\\_320\\_01 & NA & 1 & NA & NA\\\\\n",
       "\\end{tabular}\n"
      ],
      "text/markdown": [
       "\n",
       "A data.frame: 6 x 40\n",
       "\n",
       "| <!--/--> | Patient &lt;chr&gt; | cycle &lt;chr&gt; | FOLD &lt;dbl&gt; | ATC &lt;dbl&gt; | Age &lt;dbl&gt; | Disease_type &lt;chr&gt; | TE_fold &lt;dbl&gt; | CD3 &lt;int&gt; | EM &lt;int&gt; | CM &lt;int&gt; | ... ... | Any NCR &lt;dbl&gt; | PD1 + LAG3 + TIM3 &lt;dbl&gt; | cancergroup &lt;chr&gt; | agegroup &lt;chr&gt; | foldgroup &lt;chr&gt; | sample_id &lt;chr&gt; | Remission &lt;int&gt; | Relapse &lt;int&gt; | Transplant &lt;int&gt; | CART &lt;int&gt; |\n",
       "|---|---|---|---|---|---|---|---|---|---|---|---|---|---|---|---|---|---|---|---|---|---|\n",
       "| 1 | CHP_319 | 01 | 1.4 | 0 | 1 | HR ALL | 1.4 | 0 | NA | NA | ... | NA | NA | Leukemia | &lt; 2 yrs  | Low  | CHP_319_01 | NA | 1 | NA |  1 |\n",
       "| 2 | CHP_319 | 02 | 7.9 | 0 | 1 | HR ALL | 7.9 | 0 | NA | NA | ... | NA | NA | Leukemia | &lt; 2 yrs  | High | CHP_319_02 | NA | 1 | NA |  1 |\n",
       "| 3 | CHP_319 | 03 | 1.8 | 0 | 1 | HR ALL | 1.8 | 0 | NA | NA | ... | NA | NA | Leukemia | &lt; 2 yrs  | Low  | CHP_319_03 | NA | 1 | NA |  1 |\n",
       "| 4 | CHP_319 | 04 | 1.5 | 0 | 1 | HR ALL | 1.5 | 0 | NA | NA | ... | NA | NA | Leukemia | &lt; 2 yrs  | Low  | CHP_319_04 | NA | 1 | NA |  1 |\n",
       "| 5 | CHP_319 | 05 | 1.2 | 0 | 1 | HR ALL | 1.2 | 0 | NA | NA | ... | NA | NA | Leukemia | &lt; 2 yrs  | Low  | CHP_319_05 | NA | 1 | NA |  1 |\n",
       "| 6 | CHP_320 | 01 | 8.9 | 0 | 6 | AML    | 8.9 | 0 | NA | NA | ... | NA | NA | Leukemia | 5-11 yrs | High | CHP_320_01 | NA | 1 | NA | NA |\n",
       "\n"
      ],
      "text/plain": [
       "  Patient cycle FOLD ATC Age Disease_type TE_fold CD3 EM CM ... Any NCR\n",
       "1 CHP_319 01    1.4  0   1   HR ALL       1.4     0   NA NA ... NA     \n",
       "2 CHP_319 02    7.9  0   1   HR ALL       7.9     0   NA NA ... NA     \n",
       "3 CHP_319 03    1.8  0   1   HR ALL       1.8     0   NA NA ... NA     \n",
       "4 CHP_319 04    1.5  0   1   HR ALL       1.5     0   NA NA ... NA     \n",
       "5 CHP_319 05    1.2  0   1   HR ALL       1.2     0   NA NA ... NA     \n",
       "6 CHP_320 01    8.9  0   6   AML          8.9     0   NA NA ... NA     \n",
       "  PD1 + LAG3 + TIM3 cancergroup agegroup foldgroup sample_id  Remission Relapse\n",
       "1 NA                Leukemia    < 2 yrs  Low       CHP_319_01 NA        1      \n",
       "2 NA                Leukemia    < 2 yrs  High      CHP_319_02 NA        1      \n",
       "3 NA                Leukemia    < 2 yrs  Low       CHP_319_03 NA        1      \n",
       "4 NA                Leukemia    < 2 yrs  Low       CHP_319_04 NA        1      \n",
       "5 NA                Leukemia    < 2 yrs  Low       CHP_319_05 NA        1      \n",
       "6 NA                Leukemia    5-11 yrs High      CHP_320_01 NA        1      \n",
       "  Transplant CART\n",
       "1 NA          1  \n",
       "2 NA          1  \n",
       "3 NA          1  \n",
       "4 NA          1  \n",
       "5 NA          1  \n",
       "6 NA         NA  "
      ]
     },
     "metadata": {},
     "output_type": "display_data"
    }
   ],
   "source": [
    "head(metadata)"
   ]
  },
  {
   "attachments": {},
   "cell_type": "markdown",
   "metadata": {},
   "source": [
    "## TRB"
   ]
  },
  {
   "cell_type": "code",
   "execution_count": 8,
   "metadata": {
    "vscode": {
     "languageId": "r"
    }
   },
   "outputs": [],
   "source": [
    "divstats <- read.csv(paste0(datapath, \"capTCRseq/divstats_TRBCHP.csv\"), \n",
    "                     header = T, stringsAsFactors = F, row.names = 1)"
   ]
  },
  {
   "cell_type": "code",
   "execution_count": 9,
   "metadata": {
    "vscode": {
     "languageId": "r"
    }
   },
   "outputs": [
    {
     "data": {
      "text/html": [
       "<table class=\"dataframe\">\n",
       "<caption>A data.frame: 6 x 22</caption>\n",
       "<thead>\n",
       "\t<tr><th></th><th scope=col>TRB</th><th scope=col>Reads</th><th scope=col>CPKR</th><th scope=col>Average_reads</th><th scope=col>VMR</th><th scope=col>Max_reads</th><th scope=col>Singletons</th><th scope=col>Doubletons</th><th scope=col>qD</th><th scope=col>Sample_Coverage</th><th scope=col>...</th><th scope=col>SE_Richeness</th><th scope=col>observed_Shannon</th><th scope=col>estimated_Shannon</th><th scope=col>SE_Shannon</th><th scope=col>observed_Simpson</th><th scope=col>estimated_Simpson</th><th scope=col>SE_Simpson</th><th scope=col>sample_id</th><th scope=col>basename</th><th scope=col>file</th></tr>\n",
       "\t<tr><th></th><th scope=col>&lt;int&gt;</th><th scope=col>&lt;int&gt;</th><th scope=col>&lt;dbl&gt;</th><th scope=col>&lt;dbl&gt;</th><th scope=col>&lt;dbl&gt;</th><th scope=col>&lt;int&gt;</th><th scope=col>&lt;int&gt;</th><th scope=col>&lt;int&gt;</th><th scope=col>&lt;dbl&gt;</th><th scope=col>&lt;dbl&gt;</th><th scope=col>...</th><th scope=col>&lt;dbl&gt;</th><th scope=col>&lt;dbl&gt;</th><th scope=col>&lt;dbl&gt;</th><th scope=col>&lt;dbl&gt;</th><th scope=col>&lt;dbl&gt;</th><th scope=col>&lt;dbl&gt;</th><th scope=col>&lt;dbl&gt;</th><th scope=col>&lt;chr&gt;</th><th scope=col>&lt;chr&gt;</th><th scope=col>&lt;chr&gt;</th></tr>\n",
       "</thead>\n",
       "<tbody>\n",
       "\t<tr><th scope=row>CHP_381-05_cfDNA</th><td>NA</td><td>NA</td><td>NA</td><td>NA</td><td>NA</td><td>NA</td><td>NA</td><td>NA</td><td>NA</td><td>NA</td><td>...</td><td>NA</td><td>NA</td><td>NA</td><td>NA</td><td>NA</td><td>NA</td><td>NA</td><td>CHP_381_05</td><td>CHP_381-05_cfDNA   </td><td>NA</td></tr>\n",
       "\t<tr><th scope=row>CHP_391-02_cfDNA</th><td>NA</td><td>NA</td><td>NA</td><td>NA</td><td>NA</td><td>NA</td><td>NA</td><td>NA</td><td>NA</td><td>NA</td><td>...</td><td>NA</td><td>NA</td><td>NA</td><td>NA</td><td>NA</td><td>NA</td><td>NA</td><td>CHP_391_02</td><td>CHP_391-02_cfDNA   </td><td>NA</td></tr>\n",
       "\t<tr><th scope=row>CHP_392-01_cfDNA</th><td>NA</td><td>NA</td><td>NA</td><td>NA</td><td>NA</td><td>NA</td><td>NA</td><td>NA</td><td>NA</td><td>NA</td><td>...</td><td>NA</td><td>NA</td><td>NA</td><td>NA</td><td>NA</td><td>NA</td><td>NA</td><td>CHP_392_01</td><td>CHP_392-01_cfDNA   </td><td>NA</td></tr>\n",
       "\t<tr><th scope=row>CHP_398-01_cfDNA</th><td>NA</td><td>NA</td><td>NA</td><td>NA</td><td>NA</td><td>NA</td><td>NA</td><td>NA</td><td>NA</td><td>NA</td><td>...</td><td>NA</td><td>NA</td><td>NA</td><td>NA</td><td>NA</td><td>NA</td><td>NA</td><td>CHP_398_01</td><td>CHP_398-01_cfDNA   </td><td>NA</td></tr>\n",
       "\t<tr><th scope=row>CHP_401-03_cfDNA</th><td>NA</td><td>NA</td><td>NA</td><td>NA</td><td>NA</td><td>NA</td><td>NA</td><td>NA</td><td>NA</td><td>NA</td><td>...</td><td>NA</td><td>NA</td><td>NA</td><td>NA</td><td>NA</td><td>NA</td><td>NA</td><td>CHP_401_03</td><td>CHP_401-03_cfDNA   </td><td>NA</td></tr>\n",
       "\t<tr><th scope=row>CHP_419-FFPE-DNA_S2</th><td>NA</td><td>NA</td><td>NA</td><td>NA</td><td>NA</td><td>NA</td><td>NA</td><td>NA</td><td>NA</td><td>NA</td><td>...</td><td>NA</td><td>NA</td><td>NA</td><td>NA</td><td>NA</td><td>NA</td><td>NA</td><td>CHP_419   </td><td>CHP_419-FFPE-DNA_S2</td><td>NA</td></tr>\n",
       "</tbody>\n",
       "</table>\n"
      ],
      "text/latex": [
       "A data.frame: 6 x 22\n",
       "\\begin{tabular}{r|lllllllllllllllllllll}\n",
       "  & TRB & Reads & CPKR & Average\\_reads & VMR & Max\\_reads & Singletons & Doubletons & qD & Sample\\_Coverage & ... & SE\\_Richeness & observed\\_Shannon & estimated\\_Shannon & SE\\_Shannon & observed\\_Simpson & estimated\\_Simpson & SE\\_Simpson & sample\\_id & basename & file\\\\\n",
       "  & <int> & <int> & <dbl> & <dbl> & <dbl> & <int> & <int> & <int> & <dbl> & <dbl> & ... & <dbl> & <dbl> & <dbl> & <dbl> & <dbl> & <dbl> & <dbl> & <chr> & <chr> & <chr>\\\\\n",
       "\\hline\n",
       "\tCHP\\_381-05\\_cfDNA & NA & NA & NA & NA & NA & NA & NA & NA & NA & NA & ... & NA & NA & NA & NA & NA & NA & NA & CHP\\_381\\_05 & CHP\\_381-05\\_cfDNA    & NA\\\\\n",
       "\tCHP\\_391-02\\_cfDNA & NA & NA & NA & NA & NA & NA & NA & NA & NA & NA & ... & NA & NA & NA & NA & NA & NA & NA & CHP\\_391\\_02 & CHP\\_391-02\\_cfDNA    & NA\\\\\n",
       "\tCHP\\_392-01\\_cfDNA & NA & NA & NA & NA & NA & NA & NA & NA & NA & NA & ... & NA & NA & NA & NA & NA & NA & NA & CHP\\_392\\_01 & CHP\\_392-01\\_cfDNA    & NA\\\\\n",
       "\tCHP\\_398-01\\_cfDNA & NA & NA & NA & NA & NA & NA & NA & NA & NA & NA & ... & NA & NA & NA & NA & NA & NA & NA & CHP\\_398\\_01 & CHP\\_398-01\\_cfDNA    & NA\\\\\n",
       "\tCHP\\_401-03\\_cfDNA & NA & NA & NA & NA & NA & NA & NA & NA & NA & NA & ... & NA & NA & NA & NA & NA & NA & NA & CHP\\_401\\_03 & CHP\\_401-03\\_cfDNA    & NA\\\\\n",
       "\tCHP\\_419-FFPE-DNA\\_S2 & NA & NA & NA & NA & NA & NA & NA & NA & NA & NA & ... & NA & NA & NA & NA & NA & NA & NA & CHP\\_419    & CHP\\_419-FFPE-DNA\\_S2 & NA\\\\\n",
       "\\end{tabular}\n"
      ],
      "text/markdown": [
       "\n",
       "A data.frame: 6 x 22\n",
       "\n",
       "| <!--/--> | TRB &lt;int&gt; | Reads &lt;int&gt; | CPKR &lt;dbl&gt; | Average_reads &lt;dbl&gt; | VMR &lt;dbl&gt; | Max_reads &lt;int&gt; | Singletons &lt;int&gt; | Doubletons &lt;int&gt; | qD &lt;dbl&gt; | Sample_Coverage &lt;dbl&gt; | ... ... | SE_Richeness &lt;dbl&gt; | observed_Shannon &lt;dbl&gt; | estimated_Shannon &lt;dbl&gt; | SE_Shannon &lt;dbl&gt; | observed_Simpson &lt;dbl&gt; | estimated_Simpson &lt;dbl&gt; | SE_Simpson &lt;dbl&gt; | sample_id &lt;chr&gt; | basename &lt;chr&gt; | file &lt;chr&gt; |\n",
       "|---|---|---|---|---|---|---|---|---|---|---|---|---|---|---|---|---|---|---|---|---|---|\n",
       "| CHP_381-05_cfDNA | NA | NA | NA | NA | NA | NA | NA | NA | NA | NA | ... | NA | NA | NA | NA | NA | NA | NA | CHP_381_05 | CHP_381-05_cfDNA    | NA |\n",
       "| CHP_391-02_cfDNA | NA | NA | NA | NA | NA | NA | NA | NA | NA | NA | ... | NA | NA | NA | NA | NA | NA | NA | CHP_391_02 | CHP_391-02_cfDNA    | NA |\n",
       "| CHP_392-01_cfDNA | NA | NA | NA | NA | NA | NA | NA | NA | NA | NA | ... | NA | NA | NA | NA | NA | NA | NA | CHP_392_01 | CHP_392-01_cfDNA    | NA |\n",
       "| CHP_398-01_cfDNA | NA | NA | NA | NA | NA | NA | NA | NA | NA | NA | ... | NA | NA | NA | NA | NA | NA | NA | CHP_398_01 | CHP_398-01_cfDNA    | NA |\n",
       "| CHP_401-03_cfDNA | NA | NA | NA | NA | NA | NA | NA | NA | NA | NA | ... | NA | NA | NA | NA | NA | NA | NA | CHP_401_03 | CHP_401-03_cfDNA    | NA |\n",
       "| CHP_419-FFPE-DNA_S2 | NA | NA | NA | NA | NA | NA | NA | NA | NA | NA | ... | NA | NA | NA | NA | NA | NA | NA | CHP_419    | CHP_419-FFPE-DNA_S2 | NA |\n",
       "\n"
      ],
      "text/plain": [
       "                    TRB Reads CPKR Average_reads VMR Max_reads Singletons\n",
       "CHP_381-05_cfDNA    NA  NA    NA   NA            NA  NA        NA        \n",
       "CHP_391-02_cfDNA    NA  NA    NA   NA            NA  NA        NA        \n",
       "CHP_392-01_cfDNA    NA  NA    NA   NA            NA  NA        NA        \n",
       "CHP_398-01_cfDNA    NA  NA    NA   NA            NA  NA        NA        \n",
       "CHP_401-03_cfDNA    NA  NA    NA   NA            NA  NA        NA        \n",
       "CHP_419-FFPE-DNA_S2 NA  NA    NA   NA            NA  NA        NA        \n",
       "                    Doubletons qD Sample_Coverage ... SE_Richeness\n",
       "CHP_381-05_cfDNA    NA         NA NA              ... NA          \n",
       "CHP_391-02_cfDNA    NA         NA NA              ... NA          \n",
       "CHP_392-01_cfDNA    NA         NA NA              ... NA          \n",
       "CHP_398-01_cfDNA    NA         NA NA              ... NA          \n",
       "CHP_401-03_cfDNA    NA         NA NA              ... NA          \n",
       "CHP_419-FFPE-DNA_S2 NA         NA NA              ... NA          \n",
       "                    observed_Shannon estimated_Shannon SE_Shannon\n",
       "CHP_381-05_cfDNA    NA               NA                NA        \n",
       "CHP_391-02_cfDNA    NA               NA                NA        \n",
       "CHP_392-01_cfDNA    NA               NA                NA        \n",
       "CHP_398-01_cfDNA    NA               NA                NA        \n",
       "CHP_401-03_cfDNA    NA               NA                NA        \n",
       "CHP_419-FFPE-DNA_S2 NA               NA                NA        \n",
       "                    observed_Simpson estimated_Simpson SE_Simpson sample_id \n",
       "CHP_381-05_cfDNA    NA               NA                NA         CHP_381_05\n",
       "CHP_391-02_cfDNA    NA               NA                NA         CHP_391_02\n",
       "CHP_392-01_cfDNA    NA               NA                NA         CHP_392_01\n",
       "CHP_398-01_cfDNA    NA               NA                NA         CHP_398_01\n",
       "CHP_401-03_cfDNA    NA               NA                NA         CHP_401_03\n",
       "CHP_419-FFPE-DNA_S2 NA               NA                NA         CHP_419   \n",
       "                    basename            file\n",
       "CHP_381-05_cfDNA    CHP_381-05_cfDNA    NA  \n",
       "CHP_391-02_cfDNA    CHP_391-02_cfDNA    NA  \n",
       "CHP_392-01_cfDNA    CHP_392-01_cfDNA    NA  \n",
       "CHP_398-01_cfDNA    CHP_398-01_cfDNA    NA  \n",
       "CHP_401-03_cfDNA    CHP_401-03_cfDNA    NA  \n",
       "CHP_419-FFPE-DNA_S2 CHP_419-FFPE-DNA_S2 NA  "
      ]
     },
     "metadata": {},
     "output_type": "display_data"
    }
   ],
   "source": [
    "tail(divstats)"
   ]
  },
  {
   "cell_type": "code",
   "execution_count": 10,
   "metadata": {
    "vscode": {
     "languageId": "r"
    }
   },
   "outputs": [],
   "source": [
    "lfs <- divstats$sample_id[grepl(\"LFS\", divstats$sample_id)]\n",
    "normals <- divstats$sample_id[grepl(\"YO\", divstats$sample_id) | grepl(\"MO\", divstats$sample_id)]"
   ]
  },
  {
   "cell_type": "code",
   "execution_count": 11,
   "metadata": {
    "vscode": {
     "languageId": "r"
    }
   },
   "outputs": [],
   "source": [
    "#merge div file with metadata, keep all samples\n",
    "meta_div <- merge(metadata, divstats, by = \"sample_id\", all = TRUE)"
   ]
  },
  {
   "cell_type": "code",
   "execution_count": 12,
   "metadata": {
    "vscode": {
     "languageId": "r"
    }
   },
   "outputs": [
    {
     "data": {
      "text/html": [
       "<style>\n",
       ".list-inline {list-style: none; margin:0; padding: 0}\n",
       ".list-inline>li {display: inline-block}\n",
       ".list-inline>li:not(:last-child)::after {content: \"\\00b7\"; padding: 0 .5ex}\n",
       "</style>\n",
       "<ol class=list-inline><li>'sample_id'</li><li>'Patient'</li><li>'cycle'</li><li>'FOLD'</li><li>'ATC'</li><li>'Age'</li><li>'Disease_type'</li><li>'TE_fold'</li><li>'CD3'</li><li>'EM'</li><li>'CM'</li><li>'Naïve'</li><li>'SCM'</li><li>'TE'</li><li>'EM%'</li><li>'CM%'</li><li>'Naïve%'</li><li>'SCM%'</li><li>'TE%'</li><li>'Naïve/TE'</li><li>'N+CM+SCM/TE+EM'</li><li>'PD-1'</li><li>'PDL1'</li><li>'LAG3'</li><li>'TIM3'</li><li>'CTLA4'</li><li>'PD1%'</li><li>'PDL1%'</li><li>'LAG3%'</li><li>'TIM3%'</li><li>'CTLA4%'</li><li>'Any NCR'</li><li>'PD1 + LAG3 + TIM3'</li><li>'cancergroup'</li><li>'agegroup'</li><li>'foldgroup'</li><li>'Remission'</li><li>'Relapse'</li><li>'Transplant'</li><li>'CART'</li><li>'TRB'</li><li>'Reads'</li><li>'CPKR'</li><li>'Average_reads'</li><li>'VMR'</li><li>'Max_reads'</li><li>'Singletons'</li><li>'Doubletons'</li><li>'qD'</li><li>'Sample_Coverage'</li><li>'observed_Richness'</li><li>'estimated_Richness'</li><li>'SE_Richeness'</li><li>'observed_Shannon'</li><li>'estimated_Shannon'</li><li>'SE_Shannon'</li><li>'observed_Simpson'</li><li>'estimated_Simpson'</li><li>'SE_Simpson'</li><li>'basename'</li><li>'file'</li></ol>\n"
      ],
      "text/latex": [
       "\\begin{enumerate*}\n",
       "\\item 'sample\\_id'\n",
       "\\item 'Patient'\n",
       "\\item 'cycle'\n",
       "\\item 'FOLD'\n",
       "\\item 'ATC'\n",
       "\\item 'Age'\n",
       "\\item 'Disease\\_type'\n",
       "\\item 'TE\\_fold'\n",
       "\\item 'CD3'\n",
       "\\item 'EM'\n",
       "\\item 'CM'\n",
       "\\item 'Naïve'\n",
       "\\item 'SCM'\n",
       "\\item 'TE'\n",
       "\\item 'EM\\%'\n",
       "\\item 'CM\\%'\n",
       "\\item 'Naïve\\%'\n",
       "\\item 'SCM\\%'\n",
       "\\item 'TE\\%'\n",
       "\\item 'Naïve/TE'\n",
       "\\item 'N+CM+SCM/TE+EM'\n",
       "\\item 'PD-1'\n",
       "\\item 'PDL1'\n",
       "\\item 'LAG3'\n",
       "\\item 'TIM3'\n",
       "\\item 'CTLA4'\n",
       "\\item 'PD1\\%'\n",
       "\\item 'PDL1\\%'\n",
       "\\item 'LAG3\\%'\n",
       "\\item 'TIM3\\%'\n",
       "\\item 'CTLA4\\%'\n",
       "\\item 'Any NCR'\n",
       "\\item 'PD1 + LAG3 + TIM3'\n",
       "\\item 'cancergroup'\n",
       "\\item 'agegroup'\n",
       "\\item 'foldgroup'\n",
       "\\item 'Remission'\n",
       "\\item 'Relapse'\n",
       "\\item 'Transplant'\n",
       "\\item 'CART'\n",
       "\\item 'TRB'\n",
       "\\item 'Reads'\n",
       "\\item 'CPKR'\n",
       "\\item 'Average\\_reads'\n",
       "\\item 'VMR'\n",
       "\\item 'Max\\_reads'\n",
       "\\item 'Singletons'\n",
       "\\item 'Doubletons'\n",
       "\\item 'qD'\n",
       "\\item 'Sample\\_Coverage'\n",
       "\\item 'observed\\_Richness'\n",
       "\\item 'estimated\\_Richness'\n",
       "\\item 'SE\\_Richeness'\n",
       "\\item 'observed\\_Shannon'\n",
       "\\item 'estimated\\_Shannon'\n",
       "\\item 'SE\\_Shannon'\n",
       "\\item 'observed\\_Simpson'\n",
       "\\item 'estimated\\_Simpson'\n",
       "\\item 'SE\\_Simpson'\n",
       "\\item 'basename'\n",
       "\\item 'file'\n",
       "\\end{enumerate*}\n"
      ],
      "text/markdown": [
       "1. 'sample_id'\n",
       "2. 'Patient'\n",
       "3. 'cycle'\n",
       "4. 'FOLD'\n",
       "5. 'ATC'\n",
       "6. 'Age'\n",
       "7. 'Disease_type'\n",
       "8. 'TE_fold'\n",
       "9. 'CD3'\n",
       "10. 'EM'\n",
       "11. 'CM'\n",
       "12. 'Naïve'\n",
       "13. 'SCM'\n",
       "14. 'TE'\n",
       "15. 'EM%'\n",
       "16. 'CM%'\n",
       "17. 'Naïve%'\n",
       "18. 'SCM%'\n",
       "19. 'TE%'\n",
       "20. 'Naïve/TE'\n",
       "21. 'N+CM+SCM/TE+EM'\n",
       "22. 'PD-1'\n",
       "23. 'PDL1'\n",
       "24. 'LAG3'\n",
       "25. 'TIM3'\n",
       "26. 'CTLA4'\n",
       "27. 'PD1%'\n",
       "28. 'PDL1%'\n",
       "29. 'LAG3%'\n",
       "30. 'TIM3%'\n",
       "31. 'CTLA4%'\n",
       "32. 'Any NCR'\n",
       "33. 'PD1 + LAG3 + TIM3'\n",
       "34. 'cancergroup'\n",
       "35. 'agegroup'\n",
       "36. 'foldgroup'\n",
       "37. 'Remission'\n",
       "38. 'Relapse'\n",
       "39. 'Transplant'\n",
       "40. 'CART'\n",
       "41. 'TRB'\n",
       "42. 'Reads'\n",
       "43. 'CPKR'\n",
       "44. 'Average_reads'\n",
       "45. 'VMR'\n",
       "46. 'Max_reads'\n",
       "47. 'Singletons'\n",
       "48. 'Doubletons'\n",
       "49. 'qD'\n",
       "50. 'Sample_Coverage'\n",
       "51. 'observed_Richness'\n",
       "52. 'estimated_Richness'\n",
       "53. 'SE_Richeness'\n",
       "54. 'observed_Shannon'\n",
       "55. 'estimated_Shannon'\n",
       "56. 'SE_Shannon'\n",
       "57. 'observed_Simpson'\n",
       "58. 'estimated_Simpson'\n",
       "59. 'SE_Simpson'\n",
       "60. 'basename'\n",
       "61. 'file'\n",
       "\n",
       "\n"
      ],
      "text/plain": [
       " [1] \"sample_id\"          \"Patient\"            \"cycle\"             \n",
       " [4] \"FOLD\"               \"ATC\"                \"Age\"               \n",
       " [7] \"Disease_type\"       \"TE_fold\"            \"CD3\"               \n",
       "[10] \"EM\"                 \"CM\"                 \"Naïve\"             \n",
       "[13] \"SCM\"                \"TE\"                 \"EM%\"               \n",
       "[16] \"CM%\"                \"Naïve%\"             \"SCM%\"              \n",
       "[19] \"TE%\"                \"Naïve/TE\"           \"N+CM+SCM/TE+EM\"    \n",
       "[22] \"PD-1\"               \"PDL1\"               \"LAG3\"              \n",
       "[25] \"TIM3\"               \"CTLA4\"              \"PD1%\"              \n",
       "[28] \"PDL1%\"              \"LAG3%\"              \"TIM3%\"             \n",
       "[31] \"CTLA4%\"             \"Any NCR\"            \"PD1 + LAG3 + TIM3\" \n",
       "[34] \"cancergroup\"        \"agegroup\"           \"foldgroup\"         \n",
       "[37] \"Remission\"          \"Relapse\"            \"Transplant\"        \n",
       "[40] \"CART\"               \"TRB\"                \"Reads\"             \n",
       "[43] \"CPKR\"               \"Average_reads\"      \"VMR\"               \n",
       "[46] \"Max_reads\"          \"Singletons\"         \"Doubletons\"        \n",
       "[49] \"qD\"                 \"Sample_Coverage\"    \"observed_Richness\" \n",
       "[52] \"estimated_Richness\" \"SE_Richeness\"       \"observed_Shannon\"  \n",
       "[55] \"estimated_Shannon\"  \"SE_Shannon\"         \"observed_Simpson\"  \n",
       "[58] \"estimated_Simpson\"  \"SE_Simpson\"         \"basename\"          \n",
       "[61] \"file\"              "
      ]
     },
     "metadata": {},
     "output_type": "display_data"
    }
   ],
   "source": [
    "colnames(meta_div)"
   ]
  },
  {
   "cell_type": "code",
   "execution_count": 13,
   "metadata": {
    "vscode": {
     "languageId": "r"
    }
   },
   "outputs": [],
   "source": [
    "#create a group for LFS and non-LFS\n",
    "meta_div$Group <- NA\n",
    "meta_div$Group[grepl(\"LFS\", meta_div$sample_id)] <- \"LFS\"\n",
    "meta_div$Group[grepl(\"CHP\", meta_div$sample_id)] <- \"CHP\""
   ]
  },
  {
   "cell_type": "code",
   "execution_count": 14,
   "metadata": {
    "vscode": {
     "languageId": "r"
    }
   },
   "outputs": [],
   "source": [
    "#create sample type\n",
    "meta_div$sampletype <- NA\n",
    "meta_div$sampletype[grepl(\"PBMC\", meta_div$basename)] <- \"PBMC\"\n",
    "meta_div$sampletype[grepl(\"cfDNA\", meta_div$basename)] <- \"cfDNA\"\n",
    "meta_div$sampletype[grepl(\"FFPE\", meta_div$basename)] <- \"Tumor\""
   ]
  },
  {
   "cell_type": "code",
   "execution_count": 15,
   "metadata": {
    "vscode": {
     "languageId": "r"
    }
   },
   "outputs": [],
   "source": [
    "#add Patient id for normals, lfs \n",
    "meta_div$Patient[meta_div$sample_id %in% c(lfs, normals)] <- \n",
    "substr(meta_div$sample_id[meta_div$sample_id %in% c(lfs, normals)],1,\n",
    "       nchar(meta_div$sample_id[meta_div$sample_id %in% c(lfs, normals)])-3)"
   ]
  },
  {
   "cell_type": "code",
   "execution_count": 16,
   "metadata": {
    "vscode": {
     "languageId": "r"
    }
   },
   "outputs": [],
   "source": [
    "# few samples we sequenced but was not in David's file\n",
    "meta_div$Patient[ is.na(meta_div$Patient) & meta_div$sampletype != \"Tumor\"] <- \n",
    "substr(meta_div$sample_id[ is.na(meta_div$Patient) & meta_div$sampletype != \"Tumor\"],1,\n",
    "       nchar(meta_div$sample_id[ is.na(meta_div$Patient) & meta_div$sampletype != \"Tumor\"])-3)"
   ]
  },
  {
   "cell_type": "code",
   "execution_count": 17,
   "metadata": {
    "vscode": {
     "languageId": "r"
    }
   },
   "outputs": [],
   "source": [
    "# Patient id same as sampel_id for tumor samples\n",
    "meta_div$Patient[ is.na(meta_div$Patient)] <- meta_div$sample_id[ is.na(meta_div$Patient)]"
   ]
  },
  {
   "cell_type": "code",
   "execution_count": 18,
   "metadata": {
    "vscode": {
     "languageId": "r"
    }
   },
   "outputs": [],
   "source": [
    "#overwrite cycle for consistency\n",
    "\n",
    "meta_div$cycle <- NA\n",
    "meta_div$cycle <- substr(meta_div$sample_id,\n",
    "       nchar(meta_div$sample_id)-1, nchar(meta_div$sample_id))"
   ]
  },
  {
   "cell_type": "code",
   "execution_count": 19,
   "metadata": {
    "vscode": {
     "languageId": "r"
    }
   },
   "outputs": [],
   "source": [
    "#add X to prevent numeric\n",
    "meta_div$cycle <- paste0(\"X\", meta_div$cycle)"
   ]
  },
  {
   "cell_type": "code",
   "execution_count": 20,
   "metadata": {
    "vscode": {
     "languageId": "r"
    }
   },
   "outputs": [],
   "source": [
    "# cycle for tumors are 00\n",
    "meta_div$cycle[ which(meta_div$sampletype == \"Tumor\")] <- \"X00\""
   ]
  },
  {
   "cell_type": "code",
   "execution_count": 21,
   "metadata": {
    "vscode": {
     "languageId": "r"
    }
   },
   "outputs": [
    {
     "data": {
      "text/plain": [
       "\n",
       "X00 X01 X02 X03 X04 X05 \n",
       " 42 159 173 166 155 154 "
      ]
     },
     "metadata": {},
     "output_type": "display_data"
    }
   ],
   "source": [
    "table(meta_div$cycle)"
   ]
  },
  {
   "cell_type": "code",
   "execution_count": 22,
   "metadata": {
    "vscode": {
     "languageId": "r"
    }
   },
   "outputs": [],
   "source": [
    "#Disease_type for normals = Normal and lfs = LFS\n",
    "meta_div$Disease_type[ meta_div$sample_id %in% normals] <- \"Normal\"\n",
    "\n",
    "meta_div$Disease_type[ meta_div$sample_id %in% lfs] <- \"LFS\""
   ]
  },
  {
   "cell_type": "code",
   "execution_count": 23,
   "metadata": {
    "vscode": {
     "languageId": "r"
    }
   },
   "outputs": [
    {
     "data": {
      "text/plain": [
       "\n",
       "  ALCL    ALL    AML   ARMS     BL    BLL    CML  DLBCL   ERMS    EWS     HB \n",
       "    14    159     74      8     31     14     25     20     35     44     25 \n",
       "    HD HR ALL    LFS  MS NB     NB Normal     OS  PMBCL    RMS SR ALL  T-ALL \n",
       "    56     98     10      5     24     14     83     13     15     17     26 \n",
       " WILMS   <NA> \n",
       "    18     21 "
      ]
     },
     "metadata": {},
     "output_type": "display_data"
    }
   ],
   "source": [
    "table(meta_div$Disease_type, useNA = \"always\")"
   ]
  },
  {
   "cell_type": "code",
   "execution_count": 24,
   "metadata": {
    "vscode": {
     "languageId": "r"
    }
   },
   "outputs": [],
   "source": [
    "#minor fix\n",
    "meta_div$Patient[ meta_div$Patient == \"CHP_404_A\"] <- \"CHP_404\"\n",
    "meta_div$Patient[ meta_div$Patient == \"CHP_404_B\"] <- \"CHP_404\"\n",
    "meta_div$Patient[ meta_div$Patient == \"CHP_344_A\"] <- \"CHP_344\""
   ]
  },
  {
   "cell_type": "code",
   "execution_count": 25,
   "metadata": {
    "vscode": {
     "languageId": "r"
    }
   },
   "outputs": [],
   "source": [
    "# add dx for tumors\n",
    "for(i in unique(meta_div$Patient[ which(meta_div$sampletype == \"Tumor\")])){\n",
    "   # print(i)\n",
    "    tmp <- meta_div[ meta_div$Patient == i,]\n",
    "    cancer <- names(table(tmp$Disease_type)[1])\n",
    "    meta_div$Disease_type[ meta_div$Patient == i &\n",
    "                          meta_div$sampletype %in% \"Tumor\"] <- cancer\n",
    "}"
   ]
  },
  {
   "cell_type": "code",
   "execution_count": 26,
   "metadata": {
    "vscode": {
     "languageId": "r"
    }
   },
   "outputs": [
    {
     "data": {
      "text/html": [
       "<table class=\"dataframe\">\n",
       "<caption>A data.frame: 3 x 63</caption>\n",
       "<thead>\n",
       "\t<tr><th></th><th scope=col>sample_id</th><th scope=col>Patient</th><th scope=col>cycle</th><th scope=col>FOLD</th><th scope=col>ATC</th><th scope=col>Age</th><th scope=col>Disease_type</th><th scope=col>TE_fold</th><th scope=col>CD3</th><th scope=col>EM</th><th scope=col>...</th><th scope=col>observed_Shannon</th><th scope=col>estimated_Shannon</th><th scope=col>SE_Shannon</th><th scope=col>observed_Simpson</th><th scope=col>estimated_Simpson</th><th scope=col>SE_Simpson</th><th scope=col>basename</th><th scope=col>file</th><th scope=col>Group</th><th scope=col>sampletype</th></tr>\n",
       "\t<tr><th></th><th scope=col>&lt;chr&gt;</th><th scope=col>&lt;chr&gt;</th><th scope=col>&lt;chr&gt;</th><th scope=col>&lt;dbl&gt;</th><th scope=col>&lt;dbl&gt;</th><th scope=col>&lt;dbl&gt;</th><th scope=col>&lt;chr&gt;</th><th scope=col>&lt;dbl&gt;</th><th scope=col>&lt;int&gt;</th><th scope=col>&lt;int&gt;</th><th scope=col>...</th><th scope=col>&lt;dbl&gt;</th><th scope=col>&lt;dbl&gt;</th><th scope=col>&lt;dbl&gt;</th><th scope=col>&lt;dbl&gt;</th><th scope=col>&lt;dbl&gt;</th><th scope=col>&lt;dbl&gt;</th><th scope=col>&lt;chr&gt;</th><th scope=col>&lt;chr&gt;</th><th scope=col>&lt;chr&gt;</th><th scope=col>&lt;chr&gt;</th></tr>\n",
       "</thead>\n",
       "<tbody>\n",
       "\t<tr><th scope=row>10</th><td>CHP_303_05</td><td>CHP_303</td><td>X05</td><td>NA</td><td>NA</td><td>NA</td><td>NA</td><td>NA</td><td>NA</td><td>NA</td><td>...</td><td>191.496</td><td>194.714</td><td>1.412</td><td>158.597</td><td>161.725</td><td>2.028</td><td>CHP_303-05-PBMC-DNA</td><td>batch4_19Aug2019/mixcr/clones/CLONES_TRBCHP_303-05-PBMC-DNA.txt                </td><td>CHP</td><td>PBMC </td></tr>\n",
       "\t<tr><th scope=row>11</th><td>CHP_315_05</td><td>CHP_315</td><td>X05</td><td>NA</td><td>NA</td><td>NA</td><td>NA</td><td>NA</td><td>NA</td><td>NA</td><td>...</td><td> 15.470</td><td> 15.793</td><td>0.691</td><td>  9.026</td><td>  9.138</td><td>0.674</td><td>CHP_315-05-PBMC-DNA</td><td>batch4_19Aug2019/mixcr/clones/CLONES_TRBCHP_315-05-PBMC-DNA.txt                </td><td>CHP</td><td>PBMC </td></tr>\n",
       "\t<tr><th scope=row>12</th><td>CHP_315_05</td><td>CHP_315</td><td>X05</td><td>NA</td><td>NA</td><td>NA</td><td>NA</td><td>NA</td><td>NA</td><td>NA</td><td>...</td><td>  1.000</td><td>  1.000</td><td>0.000</td><td>  1.000</td><td>  1.000</td><td>0.000</td><td>CHP_315-05_cfDNA   </td><td>remaining_batch_2_cfDNA_15April2021/mixcr/clones/CLONES_TRBCHP_315-05_cfDNA.txt</td><td>CHP</td><td>cfDNA</td></tr>\n",
       "</tbody>\n",
       "</table>\n"
      ],
      "text/latex": [
       "A data.frame: 3 x 63\n",
       "\\begin{tabular}{r|lllllllllllllllllllll}\n",
       "  & sample\\_id & Patient & cycle & FOLD & ATC & Age & Disease\\_type & TE\\_fold & CD3 & EM & ... & observed\\_Shannon & estimated\\_Shannon & SE\\_Shannon & observed\\_Simpson & estimated\\_Simpson & SE\\_Simpson & basename & file & Group & sampletype\\\\\n",
       "  & <chr> & <chr> & <chr> & <dbl> & <dbl> & <dbl> & <chr> & <dbl> & <int> & <int> & ... & <dbl> & <dbl> & <dbl> & <dbl> & <dbl> & <dbl> & <chr> & <chr> & <chr> & <chr>\\\\\n",
       "\\hline\n",
       "\t10 & CHP\\_303\\_05 & CHP\\_303 & X05 & NA & NA & NA & NA & NA & NA & NA & ... & 191.496 & 194.714 & 1.412 & 158.597 & 161.725 & 2.028 & CHP\\_303-05-PBMC-DNA & batch4\\_19Aug2019/mixcr/clones/CLONES\\_TRBCHP\\_303-05-PBMC-DNA.txt                 & CHP & PBMC \\\\\n",
       "\t11 & CHP\\_315\\_05 & CHP\\_315 & X05 & NA & NA & NA & NA & NA & NA & NA & ... &  15.470 &  15.793 & 0.691 &   9.026 &   9.138 & 0.674 & CHP\\_315-05-PBMC-DNA & batch4\\_19Aug2019/mixcr/clones/CLONES\\_TRBCHP\\_315-05-PBMC-DNA.txt                 & CHP & PBMC \\\\\n",
       "\t12 & CHP\\_315\\_05 & CHP\\_315 & X05 & NA & NA & NA & NA & NA & NA & NA & ... &   1.000 &   1.000 & 0.000 &   1.000 &   1.000 & 0.000 & CHP\\_315-05\\_cfDNA    & remaining\\_batch\\_2\\_cfDNA\\_15April2021/mixcr/clones/CLONES\\_TRBCHP\\_315-05\\_cfDNA.txt & CHP & cfDNA\\\\\n",
       "\\end{tabular}\n"
      ],
      "text/markdown": [
       "\n",
       "A data.frame: 3 x 63\n",
       "\n",
       "| <!--/--> | sample_id &lt;chr&gt; | Patient &lt;chr&gt; | cycle &lt;chr&gt; | FOLD &lt;dbl&gt; | ATC &lt;dbl&gt; | Age &lt;dbl&gt; | Disease_type &lt;chr&gt; | TE_fold &lt;dbl&gt; | CD3 &lt;int&gt; | EM &lt;int&gt; | ... ... | observed_Shannon &lt;dbl&gt; | estimated_Shannon &lt;dbl&gt; | SE_Shannon &lt;dbl&gt; | observed_Simpson &lt;dbl&gt; | estimated_Simpson &lt;dbl&gt; | SE_Simpson &lt;dbl&gt; | basename &lt;chr&gt; | file &lt;chr&gt; | Group &lt;chr&gt; | sampletype &lt;chr&gt; |\n",
       "|---|---|---|---|---|---|---|---|---|---|---|---|---|---|---|---|---|---|---|---|---|---|\n",
       "| 10 | CHP_303_05 | CHP_303 | X05 | NA | NA | NA | NA | NA | NA | NA | ... | 191.496 | 194.714 | 1.412 | 158.597 | 161.725 | 2.028 | CHP_303-05-PBMC-DNA | batch4_19Aug2019/mixcr/clones/CLONES_TRBCHP_303-05-PBMC-DNA.txt                 | CHP | PBMC  |\n",
       "| 11 | CHP_315_05 | CHP_315 | X05 | NA | NA | NA | NA | NA | NA | NA | ... |  15.470 |  15.793 | 0.691 |   9.026 |   9.138 | 0.674 | CHP_315-05-PBMC-DNA | batch4_19Aug2019/mixcr/clones/CLONES_TRBCHP_315-05-PBMC-DNA.txt                 | CHP | PBMC  |\n",
       "| 12 | CHP_315_05 | CHP_315 | X05 | NA | NA | NA | NA | NA | NA | NA | ... |   1.000 |   1.000 | 0.000 |   1.000 |   1.000 | 0.000 | CHP_315-05_cfDNA    | remaining_batch_2_cfDNA_15April2021/mixcr/clones/CLONES_TRBCHP_315-05_cfDNA.txt | CHP | cfDNA |\n",
       "\n"
      ],
      "text/plain": [
       "   sample_id  Patient cycle FOLD ATC Age Disease_type TE_fold CD3 EM ...\n",
       "10 CHP_303_05 CHP_303 X05   NA   NA  NA  NA           NA      NA  NA ...\n",
       "11 CHP_315_05 CHP_315 X05   NA   NA  NA  NA           NA      NA  NA ...\n",
       "12 CHP_315_05 CHP_315 X05   NA   NA  NA  NA           NA      NA  NA ...\n",
       "   observed_Shannon estimated_Shannon SE_Shannon observed_Simpson\n",
       "10 191.496          194.714           1.412      158.597         \n",
       "11  15.470           15.793           0.691        9.026         \n",
       "12   1.000            1.000           0.000        1.000         \n",
       "   estimated_Simpson SE_Simpson basename           \n",
       "10 161.725           2.028      CHP_303-05-PBMC-DNA\n",
       "11   9.138           0.674      CHP_315-05-PBMC-DNA\n",
       "12   1.000           0.000      CHP_315-05_cfDNA   \n",
       "   file                                                                           \n",
       "10 batch4_19Aug2019/mixcr/clones/CLONES_TRBCHP_303-05-PBMC-DNA.txt                \n",
       "11 batch4_19Aug2019/mixcr/clones/CLONES_TRBCHP_315-05-PBMC-DNA.txt                \n",
       "12 remaining_batch_2_cfDNA_15April2021/mixcr/clones/CLONES_TRBCHP_315-05_cfDNA.txt\n",
       "   Group sampletype\n",
       "10 CHP   PBMC      \n",
       "11 CHP   PBMC      \n",
       "12 CHP   cfDNA     "
      ]
     },
     "metadata": {},
     "output_type": "display_data"
    }
   ],
   "source": [
    "meta_div[ is.na(meta_div$Disease_type),]"
   ]
  },
  {
   "cell_type": "code",
   "execution_count": 27,
   "metadata": {
    "vscode": {
     "languageId": "r"
    }
   },
   "outputs": [
    {
     "data": {
      "text/html": [
       "<table class=\"dataframe\">\n",
       "<caption>A data.frame: 260 x 63</caption>\n",
       "<thead>\n",
       "\t<tr><th></th><th scope=col>sample_id</th><th scope=col>Patient</th><th scope=col>cycle</th><th scope=col>FOLD</th><th scope=col>ATC</th><th scope=col>Age</th><th scope=col>Disease_type</th><th scope=col>TE_fold</th><th scope=col>CD3</th><th scope=col>EM</th><th scope=col>...</th><th scope=col>observed_Shannon</th><th scope=col>estimated_Shannon</th><th scope=col>SE_Shannon</th><th scope=col>observed_Simpson</th><th scope=col>estimated_Simpson</th><th scope=col>SE_Simpson</th><th scope=col>basename</th><th scope=col>file</th><th scope=col>Group</th><th scope=col>sampletype</th></tr>\n",
       "\t<tr><th></th><th scope=col>&lt;chr&gt;</th><th scope=col>&lt;chr&gt;</th><th scope=col>&lt;chr&gt;</th><th scope=col>&lt;dbl&gt;</th><th scope=col>&lt;dbl&gt;</th><th scope=col>&lt;dbl&gt;</th><th scope=col>&lt;chr&gt;</th><th scope=col>&lt;dbl&gt;</th><th scope=col>&lt;int&gt;</th><th scope=col>&lt;int&gt;</th><th scope=col>...</th><th scope=col>&lt;dbl&gt;</th><th scope=col>&lt;dbl&gt;</th><th scope=col>&lt;dbl&gt;</th><th scope=col>&lt;dbl&gt;</th><th scope=col>&lt;dbl&gt;</th><th scope=col>&lt;dbl&gt;</th><th scope=col>&lt;chr&gt;</th><th scope=col>&lt;chr&gt;</th><th scope=col>&lt;chr&gt;</th><th scope=col>&lt;chr&gt;</th></tr>\n",
       "</thead>\n",
       "<tbody>\n",
       "\t<tr><th scope=row>13</th><td>CHP_319_01</td><td>CHP_319</td><td>X01</td><td> 1.4</td><td>   0.00</td><td> 1</td><td>HR ALL</td><td> 1.4</td><td>0</td><td>NA</td><td>...</td><td>NA</td><td>NA</td><td>NA</td><td>NA</td><td>NA</td><td>NA</td><td>NA</td><td>NA</td><td>CHP</td><td>NA</td></tr>\n",
       "\t<tr><th scope=row>14</th><td>CHP_319_02</td><td>CHP_319</td><td>X02</td><td> 7.9</td><td>   0.00</td><td> 1</td><td>HR ALL</td><td> 7.9</td><td>0</td><td>NA</td><td>...</td><td>NA</td><td>NA</td><td>NA</td><td>NA</td><td>NA</td><td>NA</td><td>NA</td><td>NA</td><td>CHP</td><td>NA</td></tr>\n",
       "\t<tr><th scope=row>15</th><td>CHP_319_03</td><td>CHP_319</td><td>X03</td><td> 1.8</td><td>   0.00</td><td> 1</td><td>HR ALL</td><td> 1.8</td><td>0</td><td>NA</td><td>...</td><td>NA</td><td>NA</td><td>NA</td><td>NA</td><td>NA</td><td>NA</td><td>NA</td><td>NA</td><td>CHP</td><td>NA</td></tr>\n",
       "\t<tr><th scope=row>16</th><td>CHP_319_04</td><td>CHP_319</td><td>X04</td><td> 1.5</td><td>   0.00</td><td> 1</td><td>HR ALL</td><td> 1.5</td><td>0</td><td>NA</td><td>...</td><td>NA</td><td>NA</td><td>NA</td><td>NA</td><td>NA</td><td>NA</td><td>NA</td><td>NA</td><td>CHP</td><td>NA</td></tr>\n",
       "\t<tr><th scope=row>18</th><td>CHP_320_01</td><td>CHP_320</td><td>X01</td><td> 8.9</td><td>   0.00</td><td> 6</td><td>AML   </td><td> 8.9</td><td>0</td><td>NA</td><td>...</td><td>NA</td><td>NA</td><td>NA</td><td>NA</td><td>NA</td><td>NA</td><td>NA</td><td>NA</td><td>CHP</td><td>NA</td></tr>\n",
       "\t<tr><th scope=row>19</th><td>CHP_320_02</td><td>CHP_320</td><td>X02</td><td> 3.5</td><td>   0.00</td><td> 6</td><td>AML   </td><td> 3.5</td><td>0</td><td>NA</td><td>...</td><td>NA</td><td>NA</td><td>NA</td><td>NA</td><td>NA</td><td>NA</td><td>NA</td><td>NA</td><td>CHP</td><td>NA</td></tr>\n",
       "\t<tr><th scope=row>20</th><td>CHP_320_03</td><td>CHP_320</td><td>X03</td><td>13.2</td><td>   0.00</td><td> 6</td><td>AML   </td><td>13.2</td><td>0</td><td>NA</td><td>...</td><td>NA</td><td>NA</td><td>NA</td><td>NA</td><td>NA</td><td>NA</td><td>NA</td><td>NA</td><td>CHP</td><td>NA</td></tr>\n",
       "\t<tr><th scope=row>21</th><td>CHP_320_04</td><td>CHP_320</td><td>X04</td><td>  NA</td><td>   0.00</td><td> 6</td><td>AML   </td><td>  NA</td><td>0</td><td>NA</td><td>...</td><td>NA</td><td>NA</td><td>NA</td><td>NA</td><td>NA</td><td>NA</td><td>NA</td><td>NA</td><td>CHP</td><td>NA</td></tr>\n",
       "\t<tr><th scope=row>22</th><td>CHP_320_05</td><td>CHP_320</td><td>X05</td><td> 0.0</td><td>   0.00</td><td> 6</td><td>AML   </td><td> 0.0</td><td>0</td><td>NA</td><td>...</td><td>NA</td><td>NA</td><td>NA</td><td>NA</td><td>NA</td><td>NA</td><td>NA</td><td>NA</td><td>CHP</td><td>NA</td></tr>\n",
       "\t<tr><th scope=row>23</th><td>CHP_321_01</td><td>CHP_321</td><td>X01</td><td> 0.0</td><td>   0.00</td><td>16</td><td>HD    </td><td> 0.0</td><td>0</td><td>NA</td><td>...</td><td>NA</td><td>NA</td><td>NA</td><td>NA</td><td>NA</td><td>NA</td><td>NA</td><td>NA</td><td>CHP</td><td>NA</td></tr>\n",
       "\t<tr><th scope=row>24</th><td>CHP_321_02</td><td>CHP_321</td><td>X02</td><td> 0.0</td><td>   0.00</td><td>16</td><td>HD    </td><td> 0.0</td><td>0</td><td>NA</td><td>...</td><td>NA</td><td>NA</td><td>NA</td><td>NA</td><td>NA</td><td>NA</td><td>NA</td><td>NA</td><td>CHP</td><td>NA</td></tr>\n",
       "\t<tr><th scope=row>25</th><td>CHP_321_03</td><td>CHP_321</td><td>X03</td><td> 0.0</td><td>   0.00</td><td>16</td><td>HD    </td><td> 0.0</td><td>0</td><td>NA</td><td>...</td><td>NA</td><td>NA</td><td>NA</td><td>NA</td><td>NA</td><td>NA</td><td>NA</td><td>NA</td><td>CHP</td><td>NA</td></tr>\n",
       "\t<tr><th scope=row>26</th><td>CHP_321_04</td><td>CHP_321</td><td>X04</td><td> 0.0</td><td>   0.00</td><td>16</td><td>HD    </td><td> 0.0</td><td>0</td><td>NA</td><td>...</td><td>NA</td><td>NA</td><td>NA</td><td>NA</td><td>NA</td><td>NA</td><td>NA</td><td>NA</td><td>CHP</td><td>NA</td></tr>\n",
       "\t<tr><th scope=row>27</th><td>CHP_321_05</td><td>CHP_321</td><td>X05</td><td> 0.0</td><td>   0.00</td><td>16</td><td>HD    </td><td> 0.0</td><td>0</td><td>NA</td><td>...</td><td>NA</td><td>NA</td><td>NA</td><td>NA</td><td>NA</td><td>NA</td><td>NA</td><td>NA</td><td>CHP</td><td>NA</td></tr>\n",
       "\t<tr><th scope=row>28</th><td>CHP_322_01</td><td>CHP_322</td><td>X01</td><td> 1.1</td><td>   0.00</td><td>18</td><td>DLBCL </td><td> 1.1</td><td>0</td><td>NA</td><td>...</td><td>NA</td><td>NA</td><td>NA</td><td>NA</td><td>NA</td><td>NA</td><td>NA</td><td>NA</td><td>CHP</td><td>NA</td></tr>\n",
       "\t<tr><th scope=row>29</th><td>CHP_322_02</td><td>CHP_322</td><td>X02</td><td> 0.4</td><td>   0.00</td><td>18</td><td>DLBCL </td><td> 0.4</td><td>0</td><td>NA</td><td>...</td><td>NA</td><td>NA</td><td>NA</td><td>NA</td><td>NA</td><td>NA</td><td>NA</td><td>NA</td><td>CHP</td><td>NA</td></tr>\n",
       "\t<tr><th scope=row>30</th><td>CHP_322_03</td><td>CHP_322</td><td>X03</td><td> 4.3</td><td>   0.00</td><td>18</td><td>DLBCL </td><td> 4.3</td><td>0</td><td>NA</td><td>...</td><td>NA</td><td>NA</td><td>NA</td><td>NA</td><td>NA</td><td>NA</td><td>NA</td><td>NA</td><td>CHP</td><td>NA</td></tr>\n",
       "\t<tr><th scope=row>31</th><td>CHP_322_04</td><td>CHP_322</td><td>X04</td><td> 4.7</td><td>   0.00</td><td>18</td><td>DLBCL </td><td> 4.7</td><td>0</td><td>NA</td><td>...</td><td>NA</td><td>NA</td><td>NA</td><td>NA</td><td>NA</td><td>NA</td><td>NA</td><td>NA</td><td>CHP</td><td>NA</td></tr>\n",
       "\t<tr><th scope=row>32</th><td>CHP_322_05</td><td>CHP_322</td><td>X05</td><td> 1.0</td><td>   0.00</td><td>18</td><td>DLBCL </td><td> 1.0</td><td>0</td><td>NA</td><td>...</td><td>NA</td><td>NA</td><td>NA</td><td>NA</td><td>NA</td><td>NA</td><td>NA</td><td>NA</td><td>CHP</td><td>NA</td></tr>\n",
       "\t<tr><th scope=row>33</th><td>CHP_323_01</td><td>CHP_323</td><td>X01</td><td> 0.0</td><td> 154.75</td><td> 1</td><td>HR ALL</td><td> 0.0</td><td>0</td><td>NA</td><td>...</td><td>NA</td><td>NA</td><td>NA</td><td>NA</td><td>NA</td><td>NA</td><td>NA</td><td>NA</td><td>CHP</td><td>NA</td></tr>\n",
       "\t<tr><th scope=row>34</th><td>CHP_323_02</td><td>CHP_323</td><td>X02</td><td> 0.0</td><td>1397.28</td><td> 1</td><td>HR ALL</td><td> 0.0</td><td>0</td><td>NA</td><td>...</td><td>NA</td><td>NA</td><td>NA</td><td>NA</td><td>NA</td><td>NA</td><td>NA</td><td>NA</td><td>CHP</td><td>NA</td></tr>\n",
       "\t<tr><th scope=row>40</th><td>CHP_324_01</td><td>CHP_324</td><td>X01</td><td> 0.0</td><td>   0.00</td><td>12</td><td>T-ALL </td><td> 0.0</td><td>0</td><td>NA</td><td>...</td><td>NA</td><td>NA</td><td>NA</td><td>NA</td><td>NA</td><td>NA</td><td>NA</td><td>NA</td><td>CHP</td><td>NA</td></tr>\n",
       "\t<tr><th scope=row>41</th><td>CHP_324_02</td><td>CHP_324</td><td>X02</td><td> 0.0</td><td>   0.00</td><td>12</td><td>T-ALL </td><td> 0.0</td><td>0</td><td>NA</td><td>...</td><td>NA</td><td>NA</td><td>NA</td><td>NA</td><td>NA</td><td>NA</td><td>NA</td><td>NA</td><td>CHP</td><td>NA</td></tr>\n",
       "\t<tr><th scope=row>42</th><td>CHP_324_03</td><td>CHP_324</td><td>X03</td><td> 0.0</td><td>   0.00</td><td>12</td><td>T-ALL </td><td> 0.0</td><td>0</td><td>NA</td><td>...</td><td>NA</td><td>NA</td><td>NA</td><td>NA</td><td>NA</td><td>NA</td><td>NA</td><td>NA</td><td>CHP</td><td>NA</td></tr>\n",
       "\t<tr><th scope=row>46</th><td>CHP_325_01</td><td>CHP_325</td><td>X01</td><td> 0.0</td><td>     NA</td><td> 2</td><td>ERMS  </td><td> 0.0</td><td>0</td><td>NA</td><td>...</td><td>NA</td><td>NA</td><td>NA</td><td>NA</td><td>NA</td><td>NA</td><td>NA</td><td>NA</td><td>CHP</td><td>NA</td></tr>\n",
       "\t<tr><th scope=row>47</th><td>CHP_325_02</td><td>CHP_325</td><td>X02</td><td> 0.0</td><td> 927.46</td><td> 2</td><td>ERMS  </td><td> 0.0</td><td>0</td><td>NA</td><td>...</td><td>NA</td><td>NA</td><td>NA</td><td>NA</td><td>NA</td><td>NA</td><td>NA</td><td>NA</td><td>CHP</td><td>NA</td></tr>\n",
       "\t<tr><th scope=row>48</th><td>CHP_325_03</td><td>CHP_325</td><td>X03</td><td> 0.0</td><td> 624.72</td><td> 2</td><td>ERMS  </td><td> 0.0</td><td>0</td><td>NA</td><td>...</td><td>NA</td><td>NA</td><td>NA</td><td>NA</td><td>NA</td><td>NA</td><td>NA</td><td>NA</td><td>CHP</td><td>NA</td></tr>\n",
       "\t<tr><th scope=row>49</th><td>CHP_325_04</td><td>CHP_325</td><td>X04</td><td> 0.0</td><td> 163.77</td><td> 2</td><td>ERMS  </td><td> 0.0</td><td>0</td><td>NA</td><td>...</td><td>NA</td><td>NA</td><td>NA</td><td>NA</td><td>NA</td><td>NA</td><td>NA</td><td>NA</td><td>CHP</td><td>NA</td></tr>\n",
       "\t<tr><th scope=row>50</th><td>CHP_325_05</td><td>CHP_325</td><td>X05</td><td> 0.0</td><td>   0.00</td><td> 2</td><td>ERMS  </td><td> 0.0</td><td>0</td><td>NA</td><td>...</td><td>NA</td><td>NA</td><td>NA</td><td>NA</td><td>NA</td><td>NA</td><td>NA</td><td>NA</td><td>CHP</td><td>NA</td></tr>\n",
       "\t<tr><th scope=row>51</th><td>CHP_326_01</td><td>CHP_326</td><td>X01</td><td> 0.0</td><td>  77.52</td><td> 4</td><td>SR ALL</td><td> 0.0</td><td>0</td><td>NA</td><td>...</td><td>NA</td><td>NA</td><td>NA</td><td>NA</td><td>NA</td><td>NA</td><td>NA</td><td>NA</td><td>CHP</td><td>NA</td></tr>\n",
       "\t<tr><th scope=row>...</th><td>...</td><td>...</td><td>...</td><td>...</td><td>...</td><td>...</td><td>...</td><td>...</td><td>...</td><td>...</td><td></td><td>...</td><td>...</td><td>...</td><td>...</td><td>...</td><td>...</td><td>...</td><td>...</td><td>...</td><td>...</td></tr>\n",
       "\t<tr><th scope=row>808</th><td>CHP_432_01</td><td>CHP_432</td><td>X01</td><td>2.7</td><td>0</td><td>15</td><td>OS  </td><td>2.7</td><td>2138</td><td> 15</td><td>...</td><td>NA</td><td>NA</td><td>NA</td><td>NA</td><td>NA</td><td>NA</td><td>NA</td><td>NA</td><td>CHP</td><td>NA</td></tr>\n",
       "\t<tr><th scope=row>809</th><td>CHP_432_02</td><td>CHP_432</td><td>X02</td><td>0.0</td><td>0</td><td>15</td><td>OS  </td><td>0.0</td><td>   0</td><td> NA</td><td>...</td><td>NA</td><td>NA</td><td>NA</td><td>NA</td><td>NA</td><td>NA</td><td>NA</td><td>NA</td><td>CHP</td><td>NA</td></tr>\n",
       "\t<tr><th scope=row>810</th><td>CHP_432_03</td><td>CHP_432</td><td>X03</td><td>0.0</td><td>0</td><td>15</td><td>OS  </td><td>0.0</td><td>   0</td><td> NA</td><td>...</td><td>NA</td><td>NA</td><td>NA</td><td>NA</td><td>NA</td><td>NA</td><td>NA</td><td>NA</td><td>CHP</td><td>NA</td></tr>\n",
       "\t<tr><th scope=row>811</th><td>CHP_432_04</td><td>CHP_432</td><td>X04</td><td>0.0</td><td>0</td><td>15</td><td>OS  </td><td>0.0</td><td>   0</td><td> NA</td><td>...</td><td>NA</td><td>NA</td><td>NA</td><td>NA</td><td>NA</td><td>NA</td><td>NA</td><td>NA</td><td>CHP</td><td>NA</td></tr>\n",
       "\t<tr><th scope=row>812</th><td>CHP_432_05</td><td>CHP_432</td><td>X05</td><td>0.0</td><td>0</td><td>15</td><td>OS  </td><td>0.0</td><td>   0</td><td> NA</td><td>...</td><td>NA</td><td>NA</td><td>NA</td><td>NA</td><td>NA</td><td>NA</td><td>NA</td><td>NA</td><td>CHP</td><td>NA</td></tr>\n",
       "\t<tr><th scope=row>813</th><td>CHP_433_01</td><td>CHP_433</td><td>X01</td><td>1.1</td><td>0</td><td>16</td><td>ALCL</td><td>1.1</td><td>2822</td><td> 27</td><td>...</td><td>NA</td><td>NA</td><td>NA</td><td>NA</td><td>NA</td><td>NA</td><td>NA</td><td>NA</td><td>CHP</td><td>NA</td></tr>\n",
       "\t<tr><th scope=row>814</th><td>CHP_433_02</td><td>CHP_433</td><td>X02</td><td>0.0</td><td>0</td><td>16</td><td>ALCL</td><td>0.0</td><td>   0</td><td> NA</td><td>...</td><td>NA</td><td>NA</td><td>NA</td><td>NA</td><td>NA</td><td>NA</td><td>NA</td><td>NA</td><td>CHP</td><td>NA</td></tr>\n",
       "\t<tr><th scope=row>815</th><td>CHP_433_03</td><td>CHP_433</td><td>X03</td><td>0.0</td><td>0</td><td>16</td><td>ALCL</td><td>0.0</td><td>   0</td><td> NA</td><td>...</td><td>NA</td><td>NA</td><td>NA</td><td>NA</td><td>NA</td><td>NA</td><td>NA</td><td>NA</td><td>CHP</td><td>NA</td></tr>\n",
       "\t<tr><th scope=row>816</th><td>CHP_433_04</td><td>CHP_433</td><td>X04</td><td>0.0</td><td>0</td><td>16</td><td>ALCL</td><td>0.0</td><td>   0</td><td> NA</td><td>...</td><td>NA</td><td>NA</td><td>NA</td><td>NA</td><td>NA</td><td>NA</td><td>NA</td><td>NA</td><td>CHP</td><td>NA</td></tr>\n",
       "\t<tr><th scope=row>817</th><td>CHP_433_05</td><td>CHP_433</td><td>X05</td><td>0.0</td><td>0</td><td>16</td><td>ALCL</td><td>0.0</td><td>   0</td><td> NA</td><td>...</td><td>NA</td><td>NA</td><td>NA</td><td>NA</td><td>NA</td><td>NA</td><td>NA</td><td>NA</td><td>CHP</td><td>NA</td></tr>\n",
       "\t<tr><th scope=row>818</th><td>CHP_434_01</td><td>CHP_434</td><td>X01</td><td>4.5</td><td>0</td><td>12</td><td>HD  </td><td>4.5</td><td>3272</td><td>145</td><td>...</td><td>NA</td><td>NA</td><td>NA</td><td>NA</td><td>NA</td><td>NA</td><td>NA</td><td>NA</td><td>CHP</td><td>NA</td></tr>\n",
       "\t<tr><th scope=row>819</th><td>CHP_434_02</td><td>CHP_434</td><td>X02</td><td>0.0</td><td>0</td><td>12</td><td>HD  </td><td>0.0</td><td>   0</td><td> NA</td><td>...</td><td>NA</td><td>NA</td><td>NA</td><td>NA</td><td>NA</td><td>NA</td><td>NA</td><td>NA</td><td>CHP</td><td>NA</td></tr>\n",
       "\t<tr><th scope=row>820</th><td>CHP_434_03</td><td>CHP_434</td><td>X03</td><td>0.0</td><td>0</td><td>12</td><td>HD  </td><td>0.0</td><td>   0</td><td> NA</td><td>...</td><td>NA</td><td>NA</td><td>NA</td><td>NA</td><td>NA</td><td>NA</td><td>NA</td><td>NA</td><td>CHP</td><td>NA</td></tr>\n",
       "\t<tr><th scope=row>821</th><td>CHP_434_04</td><td>CHP_434</td><td>X04</td><td>0.0</td><td>0</td><td>12</td><td>HD  </td><td>0.0</td><td>   0</td><td> NA</td><td>...</td><td>NA</td><td>NA</td><td>NA</td><td>NA</td><td>NA</td><td>NA</td><td>NA</td><td>NA</td><td>CHP</td><td>NA</td></tr>\n",
       "\t<tr><th scope=row>822</th><td>CHP_434_05</td><td>CHP_434</td><td>X05</td><td>0.0</td><td>0</td><td>12</td><td>HD  </td><td>0.0</td><td>   0</td><td> NA</td><td>...</td><td>NA</td><td>NA</td><td>NA</td><td>NA</td><td>NA</td><td>NA</td><td>NA</td><td>NA</td><td>CHP</td><td>NA</td></tr>\n",
       "\t<tr><th scope=row>823</th><td>CHP_435_01</td><td>CHP_435</td><td>X01</td><td>0.0</td><td>0</td><td> 0</td><td>CML </td><td>0.0</td><td>   0</td><td> NA</td><td>...</td><td>NA</td><td>NA</td><td>NA</td><td>NA</td><td>NA</td><td>NA</td><td>NA</td><td>NA</td><td>CHP</td><td>NA</td></tr>\n",
       "\t<tr><th scope=row>824</th><td>CHP_435_02</td><td>CHP_435</td><td>X02</td><td>0.0</td><td>0</td><td> 0</td><td>CML </td><td>0.0</td><td>   0</td><td> NA</td><td>...</td><td>NA</td><td>NA</td><td>NA</td><td>NA</td><td>NA</td><td>NA</td><td>NA</td><td>NA</td><td>CHP</td><td>NA</td></tr>\n",
       "\t<tr><th scope=row>825</th><td>CHP_435_03</td><td>CHP_435</td><td>X03</td><td>0.0</td><td>0</td><td> 0</td><td>CML </td><td>0.0</td><td>   0</td><td> NA</td><td>...</td><td>NA</td><td>NA</td><td>NA</td><td>NA</td><td>NA</td><td>NA</td><td>NA</td><td>NA</td><td>CHP</td><td>NA</td></tr>\n",
       "\t<tr><th scope=row>826</th><td>CHP_435_04</td><td>CHP_435</td><td>X04</td><td>0.0</td><td>0</td><td> 0</td><td>CML </td><td>0.0</td><td>   0</td><td> NA</td><td>...</td><td>NA</td><td>NA</td><td>NA</td><td>NA</td><td>NA</td><td>NA</td><td>NA</td><td>NA</td><td>CHP</td><td>NA</td></tr>\n",
       "\t<tr><th scope=row>827</th><td>CHP_435_05</td><td>CHP_435</td><td>X05</td><td>0.0</td><td>0</td><td> 0</td><td>CML </td><td>0.0</td><td>   0</td><td> NA</td><td>...</td><td>NA</td><td>NA</td><td>NA</td><td>NA</td><td>NA</td><td>NA</td><td>NA</td><td>NA</td><td>CHP</td><td>NA</td></tr>\n",
       "\t<tr><th scope=row>828</th><td>CHP_436_01</td><td>CHP_436</td><td>X01</td><td>0.0</td><td>0</td><td>15</td><td>OS  </td><td>0.0</td><td>   0</td><td> NA</td><td>...</td><td>NA</td><td>NA</td><td>NA</td><td>NA</td><td>NA</td><td>NA</td><td>NA</td><td>NA</td><td>CHP</td><td>NA</td></tr>\n",
       "\t<tr><th scope=row>829</th><td>CHP_436_02</td><td>CHP_436</td><td>X02</td><td>0.0</td><td>0</td><td>15</td><td>OS  </td><td>0.0</td><td>   0</td><td> NA</td><td>...</td><td>NA</td><td>NA</td><td>NA</td><td>NA</td><td>NA</td><td>NA</td><td>NA</td><td>NA</td><td>CHP</td><td>NA</td></tr>\n",
       "\t<tr><th scope=row>830</th><td>CHP_436_03</td><td>CHP_436</td><td>X03</td><td>0.0</td><td>0</td><td>15</td><td>OS  </td><td>0.0</td><td>   0</td><td> NA</td><td>...</td><td>NA</td><td>NA</td><td>NA</td><td>NA</td><td>NA</td><td>NA</td><td>NA</td><td>NA</td><td>CHP</td><td>NA</td></tr>\n",
       "\t<tr><th scope=row>831</th><td>CHP_436_04</td><td>CHP_436</td><td>X04</td><td>0.0</td><td>0</td><td>15</td><td>OS  </td><td>0.0</td><td>   0</td><td> NA</td><td>...</td><td>NA</td><td>NA</td><td>NA</td><td>NA</td><td>NA</td><td>NA</td><td>NA</td><td>NA</td><td>CHP</td><td>NA</td></tr>\n",
       "\t<tr><th scope=row>832</th><td>CHP_436_05</td><td>CHP_436</td><td>X05</td><td>0.0</td><td>0</td><td>15</td><td>OS  </td><td>0.0</td><td>   0</td><td> NA</td><td>...</td><td>NA</td><td>NA</td><td>NA</td><td>NA</td><td>NA</td><td>NA</td><td>NA</td><td>NA</td><td>CHP</td><td>NA</td></tr>\n",
       "\t<tr><th scope=row>833</th><td>CHP_437_01</td><td>CHP_437</td><td>X01</td><td>0.0</td><td>0</td><td> 9</td><td>OS  </td><td>0.0</td><td>   0</td><td> NA</td><td>...</td><td>NA</td><td>NA</td><td>NA</td><td>NA</td><td>NA</td><td>NA</td><td>NA</td><td>NA</td><td>CHP</td><td>NA</td></tr>\n",
       "\t<tr><th scope=row>834</th><td>CHP_437_02</td><td>CHP_437</td><td>X02</td><td>0.0</td><td>0</td><td> 9</td><td>OS  </td><td>0.0</td><td>   0</td><td> NA</td><td>...</td><td>NA</td><td>NA</td><td>NA</td><td>NA</td><td>NA</td><td>NA</td><td>NA</td><td>NA</td><td>CHP</td><td>NA</td></tr>\n",
       "\t<tr><th scope=row>835</th><td>CHP_437_03</td><td>CHP_437</td><td>X03</td><td>0.0</td><td>0</td><td> 9</td><td>OS  </td><td>0.0</td><td>   0</td><td> NA</td><td>...</td><td>NA</td><td>NA</td><td>NA</td><td>NA</td><td>NA</td><td>NA</td><td>NA</td><td>NA</td><td>CHP</td><td>NA</td></tr>\n",
       "\t<tr><th scope=row>836</th><td>CHP_437_04</td><td>CHP_437</td><td>X04</td><td>0.0</td><td>0</td><td> 9</td><td>OS  </td><td>0.0</td><td>   0</td><td> NA</td><td>...</td><td>NA</td><td>NA</td><td>NA</td><td>NA</td><td>NA</td><td>NA</td><td>NA</td><td>NA</td><td>CHP</td><td>NA</td></tr>\n",
       "\t<tr><th scope=row>837</th><td>CHP_437_05</td><td>CHP_437</td><td>X05</td><td>0.0</td><td>0</td><td> 9</td><td>OS  </td><td>0.0</td><td>   0</td><td> NA</td><td>...</td><td>NA</td><td>NA</td><td>NA</td><td>NA</td><td>NA</td><td>NA</td><td>NA</td><td>NA</td><td>CHP</td><td>NA</td></tr>\n",
       "</tbody>\n",
       "</table>\n"
      ],
      "text/latex": [
       "A data.frame: 260 x 63\n",
       "\\begin{tabular}{r|lllllllllllllllllllll}\n",
       "  & sample\\_id & Patient & cycle & FOLD & ATC & Age & Disease\\_type & TE\\_fold & CD3 & EM & ... & observed\\_Shannon & estimated\\_Shannon & SE\\_Shannon & observed\\_Simpson & estimated\\_Simpson & SE\\_Simpson & basename & file & Group & sampletype\\\\\n",
       "  & <chr> & <chr> & <chr> & <dbl> & <dbl> & <dbl> & <chr> & <dbl> & <int> & <int> & ... & <dbl> & <dbl> & <dbl> & <dbl> & <dbl> & <dbl> & <chr> & <chr> & <chr> & <chr>\\\\\n",
       "\\hline\n",
       "\t13 & CHP\\_319\\_01 & CHP\\_319 & X01 &  1.4 &    0.00 &  1 & HR ALL &  1.4 & 0 & NA & ... & NA & NA & NA & NA & NA & NA & NA & NA & CHP & NA\\\\\n",
       "\t14 & CHP\\_319\\_02 & CHP\\_319 & X02 &  7.9 &    0.00 &  1 & HR ALL &  7.9 & 0 & NA & ... & NA & NA & NA & NA & NA & NA & NA & NA & CHP & NA\\\\\n",
       "\t15 & CHP\\_319\\_03 & CHP\\_319 & X03 &  1.8 &    0.00 &  1 & HR ALL &  1.8 & 0 & NA & ... & NA & NA & NA & NA & NA & NA & NA & NA & CHP & NA\\\\\n",
       "\t16 & CHP\\_319\\_04 & CHP\\_319 & X04 &  1.5 &    0.00 &  1 & HR ALL &  1.5 & 0 & NA & ... & NA & NA & NA & NA & NA & NA & NA & NA & CHP & NA\\\\\n",
       "\t18 & CHP\\_320\\_01 & CHP\\_320 & X01 &  8.9 &    0.00 &  6 & AML    &  8.9 & 0 & NA & ... & NA & NA & NA & NA & NA & NA & NA & NA & CHP & NA\\\\\n",
       "\t19 & CHP\\_320\\_02 & CHP\\_320 & X02 &  3.5 &    0.00 &  6 & AML    &  3.5 & 0 & NA & ... & NA & NA & NA & NA & NA & NA & NA & NA & CHP & NA\\\\\n",
       "\t20 & CHP\\_320\\_03 & CHP\\_320 & X03 & 13.2 &    0.00 &  6 & AML    & 13.2 & 0 & NA & ... & NA & NA & NA & NA & NA & NA & NA & NA & CHP & NA\\\\\n",
       "\t21 & CHP\\_320\\_04 & CHP\\_320 & X04 &   NA &    0.00 &  6 & AML    &   NA & 0 & NA & ... & NA & NA & NA & NA & NA & NA & NA & NA & CHP & NA\\\\\n",
       "\t22 & CHP\\_320\\_05 & CHP\\_320 & X05 &  0.0 &    0.00 &  6 & AML    &  0.0 & 0 & NA & ... & NA & NA & NA & NA & NA & NA & NA & NA & CHP & NA\\\\\n",
       "\t23 & CHP\\_321\\_01 & CHP\\_321 & X01 &  0.0 &    0.00 & 16 & HD     &  0.0 & 0 & NA & ... & NA & NA & NA & NA & NA & NA & NA & NA & CHP & NA\\\\\n",
       "\t24 & CHP\\_321\\_02 & CHP\\_321 & X02 &  0.0 &    0.00 & 16 & HD     &  0.0 & 0 & NA & ... & NA & NA & NA & NA & NA & NA & NA & NA & CHP & NA\\\\\n",
       "\t25 & CHP\\_321\\_03 & CHP\\_321 & X03 &  0.0 &    0.00 & 16 & HD     &  0.0 & 0 & NA & ... & NA & NA & NA & NA & NA & NA & NA & NA & CHP & NA\\\\\n",
       "\t26 & CHP\\_321\\_04 & CHP\\_321 & X04 &  0.0 &    0.00 & 16 & HD     &  0.0 & 0 & NA & ... & NA & NA & NA & NA & NA & NA & NA & NA & CHP & NA\\\\\n",
       "\t27 & CHP\\_321\\_05 & CHP\\_321 & X05 &  0.0 &    0.00 & 16 & HD     &  0.0 & 0 & NA & ... & NA & NA & NA & NA & NA & NA & NA & NA & CHP & NA\\\\\n",
       "\t28 & CHP\\_322\\_01 & CHP\\_322 & X01 &  1.1 &    0.00 & 18 & DLBCL  &  1.1 & 0 & NA & ... & NA & NA & NA & NA & NA & NA & NA & NA & CHP & NA\\\\\n",
       "\t29 & CHP\\_322\\_02 & CHP\\_322 & X02 &  0.4 &    0.00 & 18 & DLBCL  &  0.4 & 0 & NA & ... & NA & NA & NA & NA & NA & NA & NA & NA & CHP & NA\\\\\n",
       "\t30 & CHP\\_322\\_03 & CHP\\_322 & X03 &  4.3 &    0.00 & 18 & DLBCL  &  4.3 & 0 & NA & ... & NA & NA & NA & NA & NA & NA & NA & NA & CHP & NA\\\\\n",
       "\t31 & CHP\\_322\\_04 & CHP\\_322 & X04 &  4.7 &    0.00 & 18 & DLBCL  &  4.7 & 0 & NA & ... & NA & NA & NA & NA & NA & NA & NA & NA & CHP & NA\\\\\n",
       "\t32 & CHP\\_322\\_05 & CHP\\_322 & X05 &  1.0 &    0.00 & 18 & DLBCL  &  1.0 & 0 & NA & ... & NA & NA & NA & NA & NA & NA & NA & NA & CHP & NA\\\\\n",
       "\t33 & CHP\\_323\\_01 & CHP\\_323 & X01 &  0.0 &  154.75 &  1 & HR ALL &  0.0 & 0 & NA & ... & NA & NA & NA & NA & NA & NA & NA & NA & CHP & NA\\\\\n",
       "\t34 & CHP\\_323\\_02 & CHP\\_323 & X02 &  0.0 & 1397.28 &  1 & HR ALL &  0.0 & 0 & NA & ... & NA & NA & NA & NA & NA & NA & NA & NA & CHP & NA\\\\\n",
       "\t40 & CHP\\_324\\_01 & CHP\\_324 & X01 &  0.0 &    0.00 & 12 & T-ALL  &  0.0 & 0 & NA & ... & NA & NA & NA & NA & NA & NA & NA & NA & CHP & NA\\\\\n",
       "\t41 & CHP\\_324\\_02 & CHP\\_324 & X02 &  0.0 &    0.00 & 12 & T-ALL  &  0.0 & 0 & NA & ... & NA & NA & NA & NA & NA & NA & NA & NA & CHP & NA\\\\\n",
       "\t42 & CHP\\_324\\_03 & CHP\\_324 & X03 &  0.0 &    0.00 & 12 & T-ALL  &  0.0 & 0 & NA & ... & NA & NA & NA & NA & NA & NA & NA & NA & CHP & NA\\\\\n",
       "\t46 & CHP\\_325\\_01 & CHP\\_325 & X01 &  0.0 &      NA &  2 & ERMS   &  0.0 & 0 & NA & ... & NA & NA & NA & NA & NA & NA & NA & NA & CHP & NA\\\\\n",
       "\t47 & CHP\\_325\\_02 & CHP\\_325 & X02 &  0.0 &  927.46 &  2 & ERMS   &  0.0 & 0 & NA & ... & NA & NA & NA & NA & NA & NA & NA & NA & CHP & NA\\\\\n",
       "\t48 & CHP\\_325\\_03 & CHP\\_325 & X03 &  0.0 &  624.72 &  2 & ERMS   &  0.0 & 0 & NA & ... & NA & NA & NA & NA & NA & NA & NA & NA & CHP & NA\\\\\n",
       "\t49 & CHP\\_325\\_04 & CHP\\_325 & X04 &  0.0 &  163.77 &  2 & ERMS   &  0.0 & 0 & NA & ... & NA & NA & NA & NA & NA & NA & NA & NA & CHP & NA\\\\\n",
       "\t50 & CHP\\_325\\_05 & CHP\\_325 & X05 &  0.0 &    0.00 &  2 & ERMS   &  0.0 & 0 & NA & ... & NA & NA & NA & NA & NA & NA & NA & NA & CHP & NA\\\\\n",
       "\t51 & CHP\\_326\\_01 & CHP\\_326 & X01 &  0.0 &   77.52 &  4 & SR ALL &  0.0 & 0 & NA & ... & NA & NA & NA & NA & NA & NA & NA & NA & CHP & NA\\\\\n",
       "\t... & ... & ... & ... & ... & ... & ... & ... & ... & ... & ... &  & ... & ... & ... & ... & ... & ... & ... & ... & ... & ...\\\\\n",
       "\t808 & CHP\\_432\\_01 & CHP\\_432 & X01 & 2.7 & 0 & 15 & OS   & 2.7 & 2138 &  15 & ... & NA & NA & NA & NA & NA & NA & NA & NA & CHP & NA\\\\\n",
       "\t809 & CHP\\_432\\_02 & CHP\\_432 & X02 & 0.0 & 0 & 15 & OS   & 0.0 &    0 &  NA & ... & NA & NA & NA & NA & NA & NA & NA & NA & CHP & NA\\\\\n",
       "\t810 & CHP\\_432\\_03 & CHP\\_432 & X03 & 0.0 & 0 & 15 & OS   & 0.0 &    0 &  NA & ... & NA & NA & NA & NA & NA & NA & NA & NA & CHP & NA\\\\\n",
       "\t811 & CHP\\_432\\_04 & CHP\\_432 & X04 & 0.0 & 0 & 15 & OS   & 0.0 &    0 &  NA & ... & NA & NA & NA & NA & NA & NA & NA & NA & CHP & NA\\\\\n",
       "\t812 & CHP\\_432\\_05 & CHP\\_432 & X05 & 0.0 & 0 & 15 & OS   & 0.0 &    0 &  NA & ... & NA & NA & NA & NA & NA & NA & NA & NA & CHP & NA\\\\\n",
       "\t813 & CHP\\_433\\_01 & CHP\\_433 & X01 & 1.1 & 0 & 16 & ALCL & 1.1 & 2822 &  27 & ... & NA & NA & NA & NA & NA & NA & NA & NA & CHP & NA\\\\\n",
       "\t814 & CHP\\_433\\_02 & CHP\\_433 & X02 & 0.0 & 0 & 16 & ALCL & 0.0 &    0 &  NA & ... & NA & NA & NA & NA & NA & NA & NA & NA & CHP & NA\\\\\n",
       "\t815 & CHP\\_433\\_03 & CHP\\_433 & X03 & 0.0 & 0 & 16 & ALCL & 0.0 &    0 &  NA & ... & NA & NA & NA & NA & NA & NA & NA & NA & CHP & NA\\\\\n",
       "\t816 & CHP\\_433\\_04 & CHP\\_433 & X04 & 0.0 & 0 & 16 & ALCL & 0.0 &    0 &  NA & ... & NA & NA & NA & NA & NA & NA & NA & NA & CHP & NA\\\\\n",
       "\t817 & CHP\\_433\\_05 & CHP\\_433 & X05 & 0.0 & 0 & 16 & ALCL & 0.0 &    0 &  NA & ... & NA & NA & NA & NA & NA & NA & NA & NA & CHP & NA\\\\\n",
       "\t818 & CHP\\_434\\_01 & CHP\\_434 & X01 & 4.5 & 0 & 12 & HD   & 4.5 & 3272 & 145 & ... & NA & NA & NA & NA & NA & NA & NA & NA & CHP & NA\\\\\n",
       "\t819 & CHP\\_434\\_02 & CHP\\_434 & X02 & 0.0 & 0 & 12 & HD   & 0.0 &    0 &  NA & ... & NA & NA & NA & NA & NA & NA & NA & NA & CHP & NA\\\\\n",
       "\t820 & CHP\\_434\\_03 & CHP\\_434 & X03 & 0.0 & 0 & 12 & HD   & 0.0 &    0 &  NA & ... & NA & NA & NA & NA & NA & NA & NA & NA & CHP & NA\\\\\n",
       "\t821 & CHP\\_434\\_04 & CHP\\_434 & X04 & 0.0 & 0 & 12 & HD   & 0.0 &    0 &  NA & ... & NA & NA & NA & NA & NA & NA & NA & NA & CHP & NA\\\\\n",
       "\t822 & CHP\\_434\\_05 & CHP\\_434 & X05 & 0.0 & 0 & 12 & HD   & 0.0 &    0 &  NA & ... & NA & NA & NA & NA & NA & NA & NA & NA & CHP & NA\\\\\n",
       "\t823 & CHP\\_435\\_01 & CHP\\_435 & X01 & 0.0 & 0 &  0 & CML  & 0.0 &    0 &  NA & ... & NA & NA & NA & NA & NA & NA & NA & NA & CHP & NA\\\\\n",
       "\t824 & CHP\\_435\\_02 & CHP\\_435 & X02 & 0.0 & 0 &  0 & CML  & 0.0 &    0 &  NA & ... & NA & NA & NA & NA & NA & NA & NA & NA & CHP & NA\\\\\n",
       "\t825 & CHP\\_435\\_03 & CHP\\_435 & X03 & 0.0 & 0 &  0 & CML  & 0.0 &    0 &  NA & ... & NA & NA & NA & NA & NA & NA & NA & NA & CHP & NA\\\\\n",
       "\t826 & CHP\\_435\\_04 & CHP\\_435 & X04 & 0.0 & 0 &  0 & CML  & 0.0 &    0 &  NA & ... & NA & NA & NA & NA & NA & NA & NA & NA & CHP & NA\\\\\n",
       "\t827 & CHP\\_435\\_05 & CHP\\_435 & X05 & 0.0 & 0 &  0 & CML  & 0.0 &    0 &  NA & ... & NA & NA & NA & NA & NA & NA & NA & NA & CHP & NA\\\\\n",
       "\t828 & CHP\\_436\\_01 & CHP\\_436 & X01 & 0.0 & 0 & 15 & OS   & 0.0 &    0 &  NA & ... & NA & NA & NA & NA & NA & NA & NA & NA & CHP & NA\\\\\n",
       "\t829 & CHP\\_436\\_02 & CHP\\_436 & X02 & 0.0 & 0 & 15 & OS   & 0.0 &    0 &  NA & ... & NA & NA & NA & NA & NA & NA & NA & NA & CHP & NA\\\\\n",
       "\t830 & CHP\\_436\\_03 & CHP\\_436 & X03 & 0.0 & 0 & 15 & OS   & 0.0 &    0 &  NA & ... & NA & NA & NA & NA & NA & NA & NA & NA & CHP & NA\\\\\n",
       "\t831 & CHP\\_436\\_04 & CHP\\_436 & X04 & 0.0 & 0 & 15 & OS   & 0.0 &    0 &  NA & ... & NA & NA & NA & NA & NA & NA & NA & NA & CHP & NA\\\\\n",
       "\t832 & CHP\\_436\\_05 & CHP\\_436 & X05 & 0.0 & 0 & 15 & OS   & 0.0 &    0 &  NA & ... & NA & NA & NA & NA & NA & NA & NA & NA & CHP & NA\\\\\n",
       "\t833 & CHP\\_437\\_01 & CHP\\_437 & X01 & 0.0 & 0 &  9 & OS   & 0.0 &    0 &  NA & ... & NA & NA & NA & NA & NA & NA & NA & NA & CHP & NA\\\\\n",
       "\t834 & CHP\\_437\\_02 & CHP\\_437 & X02 & 0.0 & 0 &  9 & OS   & 0.0 &    0 &  NA & ... & NA & NA & NA & NA & NA & NA & NA & NA & CHP & NA\\\\\n",
       "\t835 & CHP\\_437\\_03 & CHP\\_437 & X03 & 0.0 & 0 &  9 & OS   & 0.0 &    0 &  NA & ... & NA & NA & NA & NA & NA & NA & NA & NA & CHP & NA\\\\\n",
       "\t836 & CHP\\_437\\_04 & CHP\\_437 & X04 & 0.0 & 0 &  9 & OS   & 0.0 &    0 &  NA & ... & NA & NA & NA & NA & NA & NA & NA & NA & CHP & NA\\\\\n",
       "\t837 & CHP\\_437\\_05 & CHP\\_437 & X05 & 0.0 & 0 &  9 & OS   & 0.0 &    0 &  NA & ... & NA & NA & NA & NA & NA & NA & NA & NA & CHP & NA\\\\\n",
       "\\end{tabular}\n"
      ],
      "text/markdown": [
       "\n",
       "A data.frame: 260 x 63\n",
       "\n",
       "| <!--/--> | sample_id &lt;chr&gt; | Patient &lt;chr&gt; | cycle &lt;chr&gt; | FOLD &lt;dbl&gt; | ATC &lt;dbl&gt; | Age &lt;dbl&gt; | Disease_type &lt;chr&gt; | TE_fold &lt;dbl&gt; | CD3 &lt;int&gt; | EM &lt;int&gt; | ... ... | observed_Shannon &lt;dbl&gt; | estimated_Shannon &lt;dbl&gt; | SE_Shannon &lt;dbl&gt; | observed_Simpson &lt;dbl&gt; | estimated_Simpson &lt;dbl&gt; | SE_Simpson &lt;dbl&gt; | basename &lt;chr&gt; | file &lt;chr&gt; | Group &lt;chr&gt; | sampletype &lt;chr&gt; |\n",
       "|---|---|---|---|---|---|---|---|---|---|---|---|---|---|---|---|---|---|---|---|---|---|\n",
       "| 13 | CHP_319_01 | CHP_319 | X01 |  1.4 |    0.00 |  1 | HR ALL |  1.4 | 0 | NA | ... | NA | NA | NA | NA | NA | NA | NA | NA | CHP | NA |\n",
       "| 14 | CHP_319_02 | CHP_319 | X02 |  7.9 |    0.00 |  1 | HR ALL |  7.9 | 0 | NA | ... | NA | NA | NA | NA | NA | NA | NA | NA | CHP | NA |\n",
       "| 15 | CHP_319_03 | CHP_319 | X03 |  1.8 |    0.00 |  1 | HR ALL |  1.8 | 0 | NA | ... | NA | NA | NA | NA | NA | NA | NA | NA | CHP | NA |\n",
       "| 16 | CHP_319_04 | CHP_319 | X04 |  1.5 |    0.00 |  1 | HR ALL |  1.5 | 0 | NA | ... | NA | NA | NA | NA | NA | NA | NA | NA | CHP | NA |\n",
       "| 18 | CHP_320_01 | CHP_320 | X01 |  8.9 |    0.00 |  6 | AML    |  8.9 | 0 | NA | ... | NA | NA | NA | NA | NA | NA | NA | NA | CHP | NA |\n",
       "| 19 | CHP_320_02 | CHP_320 | X02 |  3.5 |    0.00 |  6 | AML    |  3.5 | 0 | NA | ... | NA | NA | NA | NA | NA | NA | NA | NA | CHP | NA |\n",
       "| 20 | CHP_320_03 | CHP_320 | X03 | 13.2 |    0.00 |  6 | AML    | 13.2 | 0 | NA | ... | NA | NA | NA | NA | NA | NA | NA | NA | CHP | NA |\n",
       "| 21 | CHP_320_04 | CHP_320 | X04 |   NA |    0.00 |  6 | AML    |   NA | 0 | NA | ... | NA | NA | NA | NA | NA | NA | NA | NA | CHP | NA |\n",
       "| 22 | CHP_320_05 | CHP_320 | X05 |  0.0 |    0.00 |  6 | AML    |  0.0 | 0 | NA | ... | NA | NA | NA | NA | NA | NA | NA | NA | CHP | NA |\n",
       "| 23 | CHP_321_01 | CHP_321 | X01 |  0.0 |    0.00 | 16 | HD     |  0.0 | 0 | NA | ... | NA | NA | NA | NA | NA | NA | NA | NA | CHP | NA |\n",
       "| 24 | CHP_321_02 | CHP_321 | X02 |  0.0 |    0.00 | 16 | HD     |  0.0 | 0 | NA | ... | NA | NA | NA | NA | NA | NA | NA | NA | CHP | NA |\n",
       "| 25 | CHP_321_03 | CHP_321 | X03 |  0.0 |    0.00 | 16 | HD     |  0.0 | 0 | NA | ... | NA | NA | NA | NA | NA | NA | NA | NA | CHP | NA |\n",
       "| 26 | CHP_321_04 | CHP_321 | X04 |  0.0 |    0.00 | 16 | HD     |  0.0 | 0 | NA | ... | NA | NA | NA | NA | NA | NA | NA | NA | CHP | NA |\n",
       "| 27 | CHP_321_05 | CHP_321 | X05 |  0.0 |    0.00 | 16 | HD     |  0.0 | 0 | NA | ... | NA | NA | NA | NA | NA | NA | NA | NA | CHP | NA |\n",
       "| 28 | CHP_322_01 | CHP_322 | X01 |  1.1 |    0.00 | 18 | DLBCL  |  1.1 | 0 | NA | ... | NA | NA | NA | NA | NA | NA | NA | NA | CHP | NA |\n",
       "| 29 | CHP_322_02 | CHP_322 | X02 |  0.4 |    0.00 | 18 | DLBCL  |  0.4 | 0 | NA | ... | NA | NA | NA | NA | NA | NA | NA | NA | CHP | NA |\n",
       "| 30 | CHP_322_03 | CHP_322 | X03 |  4.3 |    0.00 | 18 | DLBCL  |  4.3 | 0 | NA | ... | NA | NA | NA | NA | NA | NA | NA | NA | CHP | NA |\n",
       "| 31 | CHP_322_04 | CHP_322 | X04 |  4.7 |    0.00 | 18 | DLBCL  |  4.7 | 0 | NA | ... | NA | NA | NA | NA | NA | NA | NA | NA | CHP | NA |\n",
       "| 32 | CHP_322_05 | CHP_322 | X05 |  1.0 |    0.00 | 18 | DLBCL  |  1.0 | 0 | NA | ... | NA | NA | NA | NA | NA | NA | NA | NA | CHP | NA |\n",
       "| 33 | CHP_323_01 | CHP_323 | X01 |  0.0 |  154.75 |  1 | HR ALL |  0.0 | 0 | NA | ... | NA | NA | NA | NA | NA | NA | NA | NA | CHP | NA |\n",
       "| 34 | CHP_323_02 | CHP_323 | X02 |  0.0 | 1397.28 |  1 | HR ALL |  0.0 | 0 | NA | ... | NA | NA | NA | NA | NA | NA | NA | NA | CHP | NA |\n",
       "| 40 | CHP_324_01 | CHP_324 | X01 |  0.0 |    0.00 | 12 | T-ALL  |  0.0 | 0 | NA | ... | NA | NA | NA | NA | NA | NA | NA | NA | CHP | NA |\n",
       "| 41 | CHP_324_02 | CHP_324 | X02 |  0.0 |    0.00 | 12 | T-ALL  |  0.0 | 0 | NA | ... | NA | NA | NA | NA | NA | NA | NA | NA | CHP | NA |\n",
       "| 42 | CHP_324_03 | CHP_324 | X03 |  0.0 |    0.00 | 12 | T-ALL  |  0.0 | 0 | NA | ... | NA | NA | NA | NA | NA | NA | NA | NA | CHP | NA |\n",
       "| 46 | CHP_325_01 | CHP_325 | X01 |  0.0 |      NA |  2 | ERMS   |  0.0 | 0 | NA | ... | NA | NA | NA | NA | NA | NA | NA | NA | CHP | NA |\n",
       "| 47 | CHP_325_02 | CHP_325 | X02 |  0.0 |  927.46 |  2 | ERMS   |  0.0 | 0 | NA | ... | NA | NA | NA | NA | NA | NA | NA | NA | CHP | NA |\n",
       "| 48 | CHP_325_03 | CHP_325 | X03 |  0.0 |  624.72 |  2 | ERMS   |  0.0 | 0 | NA | ... | NA | NA | NA | NA | NA | NA | NA | NA | CHP | NA |\n",
       "| 49 | CHP_325_04 | CHP_325 | X04 |  0.0 |  163.77 |  2 | ERMS   |  0.0 | 0 | NA | ... | NA | NA | NA | NA | NA | NA | NA | NA | CHP | NA |\n",
       "| 50 | CHP_325_05 | CHP_325 | X05 |  0.0 |    0.00 |  2 | ERMS   |  0.0 | 0 | NA | ... | NA | NA | NA | NA | NA | NA | NA | NA | CHP | NA |\n",
       "| 51 | CHP_326_01 | CHP_326 | X01 |  0.0 |   77.52 |  4 | SR ALL |  0.0 | 0 | NA | ... | NA | NA | NA | NA | NA | NA | NA | NA | CHP | NA |\n",
       "| ... | ... | ... | ... | ... | ... | ... | ... | ... | ... | ... | <!----> | ... | ... | ... | ... | ... | ... | ... | ... | ... | ... |\n",
       "| 808 | CHP_432_01 | CHP_432 | X01 | 2.7 | 0 | 15 | OS   | 2.7 | 2138 |  15 | ... | NA | NA | NA | NA | NA | NA | NA | NA | CHP | NA |\n",
       "| 809 | CHP_432_02 | CHP_432 | X02 | 0.0 | 0 | 15 | OS   | 0.0 |    0 |  NA | ... | NA | NA | NA | NA | NA | NA | NA | NA | CHP | NA |\n",
       "| 810 | CHP_432_03 | CHP_432 | X03 | 0.0 | 0 | 15 | OS   | 0.0 |    0 |  NA | ... | NA | NA | NA | NA | NA | NA | NA | NA | CHP | NA |\n",
       "| 811 | CHP_432_04 | CHP_432 | X04 | 0.0 | 0 | 15 | OS   | 0.0 |    0 |  NA | ... | NA | NA | NA | NA | NA | NA | NA | NA | CHP | NA |\n",
       "| 812 | CHP_432_05 | CHP_432 | X05 | 0.0 | 0 | 15 | OS   | 0.0 |    0 |  NA | ... | NA | NA | NA | NA | NA | NA | NA | NA | CHP | NA |\n",
       "| 813 | CHP_433_01 | CHP_433 | X01 | 1.1 | 0 | 16 | ALCL | 1.1 | 2822 |  27 | ... | NA | NA | NA | NA | NA | NA | NA | NA | CHP | NA |\n",
       "| 814 | CHP_433_02 | CHP_433 | X02 | 0.0 | 0 | 16 | ALCL | 0.0 |    0 |  NA | ... | NA | NA | NA | NA | NA | NA | NA | NA | CHP | NA |\n",
       "| 815 | CHP_433_03 | CHP_433 | X03 | 0.0 | 0 | 16 | ALCL | 0.0 |    0 |  NA | ... | NA | NA | NA | NA | NA | NA | NA | NA | CHP | NA |\n",
       "| 816 | CHP_433_04 | CHP_433 | X04 | 0.0 | 0 | 16 | ALCL | 0.0 |    0 |  NA | ... | NA | NA | NA | NA | NA | NA | NA | NA | CHP | NA |\n",
       "| 817 | CHP_433_05 | CHP_433 | X05 | 0.0 | 0 | 16 | ALCL | 0.0 |    0 |  NA | ... | NA | NA | NA | NA | NA | NA | NA | NA | CHP | NA |\n",
       "| 818 | CHP_434_01 | CHP_434 | X01 | 4.5 | 0 | 12 | HD   | 4.5 | 3272 | 145 | ... | NA | NA | NA | NA | NA | NA | NA | NA | CHP | NA |\n",
       "| 819 | CHP_434_02 | CHP_434 | X02 | 0.0 | 0 | 12 | HD   | 0.0 |    0 |  NA | ... | NA | NA | NA | NA | NA | NA | NA | NA | CHP | NA |\n",
       "| 820 | CHP_434_03 | CHP_434 | X03 | 0.0 | 0 | 12 | HD   | 0.0 |    0 |  NA | ... | NA | NA | NA | NA | NA | NA | NA | NA | CHP | NA |\n",
       "| 821 | CHP_434_04 | CHP_434 | X04 | 0.0 | 0 | 12 | HD   | 0.0 |    0 |  NA | ... | NA | NA | NA | NA | NA | NA | NA | NA | CHP | NA |\n",
       "| 822 | CHP_434_05 | CHP_434 | X05 | 0.0 | 0 | 12 | HD   | 0.0 |    0 |  NA | ... | NA | NA | NA | NA | NA | NA | NA | NA | CHP | NA |\n",
       "| 823 | CHP_435_01 | CHP_435 | X01 | 0.0 | 0 |  0 | CML  | 0.0 |    0 |  NA | ... | NA | NA | NA | NA | NA | NA | NA | NA | CHP | NA |\n",
       "| 824 | CHP_435_02 | CHP_435 | X02 | 0.0 | 0 |  0 | CML  | 0.0 |    0 |  NA | ... | NA | NA | NA | NA | NA | NA | NA | NA | CHP | NA |\n",
       "| 825 | CHP_435_03 | CHP_435 | X03 | 0.0 | 0 |  0 | CML  | 0.0 |    0 |  NA | ... | NA | NA | NA | NA | NA | NA | NA | NA | CHP | NA |\n",
       "| 826 | CHP_435_04 | CHP_435 | X04 | 0.0 | 0 |  0 | CML  | 0.0 |    0 |  NA | ... | NA | NA | NA | NA | NA | NA | NA | NA | CHP | NA |\n",
       "| 827 | CHP_435_05 | CHP_435 | X05 | 0.0 | 0 |  0 | CML  | 0.0 |    0 |  NA | ... | NA | NA | NA | NA | NA | NA | NA | NA | CHP | NA |\n",
       "| 828 | CHP_436_01 | CHP_436 | X01 | 0.0 | 0 | 15 | OS   | 0.0 |    0 |  NA | ... | NA | NA | NA | NA | NA | NA | NA | NA | CHP | NA |\n",
       "| 829 | CHP_436_02 | CHP_436 | X02 | 0.0 | 0 | 15 | OS   | 0.0 |    0 |  NA | ... | NA | NA | NA | NA | NA | NA | NA | NA | CHP | NA |\n",
       "| 830 | CHP_436_03 | CHP_436 | X03 | 0.0 | 0 | 15 | OS   | 0.0 |    0 |  NA | ... | NA | NA | NA | NA | NA | NA | NA | NA | CHP | NA |\n",
       "| 831 | CHP_436_04 | CHP_436 | X04 | 0.0 | 0 | 15 | OS   | 0.0 |    0 |  NA | ... | NA | NA | NA | NA | NA | NA | NA | NA | CHP | NA |\n",
       "| 832 | CHP_436_05 | CHP_436 | X05 | 0.0 | 0 | 15 | OS   | 0.0 |    0 |  NA | ... | NA | NA | NA | NA | NA | NA | NA | NA | CHP | NA |\n",
       "| 833 | CHP_437_01 | CHP_437 | X01 | 0.0 | 0 |  9 | OS   | 0.0 |    0 |  NA | ... | NA | NA | NA | NA | NA | NA | NA | NA | CHP | NA |\n",
       "| 834 | CHP_437_02 | CHP_437 | X02 | 0.0 | 0 |  9 | OS   | 0.0 |    0 |  NA | ... | NA | NA | NA | NA | NA | NA | NA | NA | CHP | NA |\n",
       "| 835 | CHP_437_03 | CHP_437 | X03 | 0.0 | 0 |  9 | OS   | 0.0 |    0 |  NA | ... | NA | NA | NA | NA | NA | NA | NA | NA | CHP | NA |\n",
       "| 836 | CHP_437_04 | CHP_437 | X04 | 0.0 | 0 |  9 | OS   | 0.0 |    0 |  NA | ... | NA | NA | NA | NA | NA | NA | NA | NA | CHP | NA |\n",
       "| 837 | CHP_437_05 | CHP_437 | X05 | 0.0 | 0 |  9 | OS   | 0.0 |    0 |  NA | ... | NA | NA | NA | NA | NA | NA | NA | NA | CHP | NA |\n",
       "\n"
      ],
      "text/plain": [
       "    sample_id  Patient cycle FOLD ATC     Age Disease_type TE_fold CD3  EM  ...\n",
       "13  CHP_319_01 CHP_319 X01    1.4    0.00  1  HR ALL        1.4    0    NA  ...\n",
       "14  CHP_319_02 CHP_319 X02    7.9    0.00  1  HR ALL        7.9    0    NA  ...\n",
       "15  CHP_319_03 CHP_319 X03    1.8    0.00  1  HR ALL        1.8    0    NA  ...\n",
       "16  CHP_319_04 CHP_319 X04    1.5    0.00  1  HR ALL        1.5    0    NA  ...\n",
       "18  CHP_320_01 CHP_320 X01    8.9    0.00  6  AML           8.9    0    NA  ...\n",
       "19  CHP_320_02 CHP_320 X02    3.5    0.00  6  AML           3.5    0    NA  ...\n",
       "20  CHP_320_03 CHP_320 X03   13.2    0.00  6  AML          13.2    0    NA  ...\n",
       "21  CHP_320_04 CHP_320 X04     NA    0.00  6  AML            NA    0    NA  ...\n",
       "22  CHP_320_05 CHP_320 X05    0.0    0.00  6  AML           0.0    0    NA  ...\n",
       "23  CHP_321_01 CHP_321 X01    0.0    0.00 16  HD            0.0    0    NA  ...\n",
       "24  CHP_321_02 CHP_321 X02    0.0    0.00 16  HD            0.0    0    NA  ...\n",
       "25  CHP_321_03 CHP_321 X03    0.0    0.00 16  HD            0.0    0    NA  ...\n",
       "26  CHP_321_04 CHP_321 X04    0.0    0.00 16  HD            0.0    0    NA  ...\n",
       "27  CHP_321_05 CHP_321 X05    0.0    0.00 16  HD            0.0    0    NA  ...\n",
       "28  CHP_322_01 CHP_322 X01    1.1    0.00 18  DLBCL         1.1    0    NA  ...\n",
       "29  CHP_322_02 CHP_322 X02    0.4    0.00 18  DLBCL         0.4    0    NA  ...\n",
       "30  CHP_322_03 CHP_322 X03    4.3    0.00 18  DLBCL         4.3    0    NA  ...\n",
       "31  CHP_322_04 CHP_322 X04    4.7    0.00 18  DLBCL         4.7    0    NA  ...\n",
       "32  CHP_322_05 CHP_322 X05    1.0    0.00 18  DLBCL         1.0    0    NA  ...\n",
       "33  CHP_323_01 CHP_323 X01    0.0  154.75  1  HR ALL        0.0    0    NA  ...\n",
       "34  CHP_323_02 CHP_323 X02    0.0 1397.28  1  HR ALL        0.0    0    NA  ...\n",
       "40  CHP_324_01 CHP_324 X01    0.0    0.00 12  T-ALL         0.0    0    NA  ...\n",
       "41  CHP_324_02 CHP_324 X02    0.0    0.00 12  T-ALL         0.0    0    NA  ...\n",
       "42  CHP_324_03 CHP_324 X03    0.0    0.00 12  T-ALL         0.0    0    NA  ...\n",
       "46  CHP_325_01 CHP_325 X01    0.0      NA  2  ERMS          0.0    0    NA  ...\n",
       "47  CHP_325_02 CHP_325 X02    0.0  927.46  2  ERMS          0.0    0    NA  ...\n",
       "48  CHP_325_03 CHP_325 X03    0.0  624.72  2  ERMS          0.0    0    NA  ...\n",
       "49  CHP_325_04 CHP_325 X04    0.0  163.77  2  ERMS          0.0    0    NA  ...\n",
       "50  CHP_325_05 CHP_325 X05    0.0    0.00  2  ERMS          0.0    0    NA  ...\n",
       "51  CHP_326_01 CHP_326 X01    0.0   77.52  4  SR ALL        0.0    0    NA  ...\n",
       "... ...        ...     ...   ...  ...     ... ...          ...     ...  ...    \n",
       "808 CHP_432_01 CHP_432 X01   2.7  0       15  OS           2.7     2138  15 ...\n",
       "809 CHP_432_02 CHP_432 X02   0.0  0       15  OS           0.0        0  NA ...\n",
       "810 CHP_432_03 CHP_432 X03   0.0  0       15  OS           0.0        0  NA ...\n",
       "811 CHP_432_04 CHP_432 X04   0.0  0       15  OS           0.0        0  NA ...\n",
       "812 CHP_432_05 CHP_432 X05   0.0  0       15  OS           0.0        0  NA ...\n",
       "813 CHP_433_01 CHP_433 X01   1.1  0       16  ALCL         1.1     2822  27 ...\n",
       "814 CHP_433_02 CHP_433 X02   0.0  0       16  ALCL         0.0        0  NA ...\n",
       "815 CHP_433_03 CHP_433 X03   0.0  0       16  ALCL         0.0        0  NA ...\n",
       "816 CHP_433_04 CHP_433 X04   0.0  0       16  ALCL         0.0        0  NA ...\n",
       "817 CHP_433_05 CHP_433 X05   0.0  0       16  ALCL         0.0        0  NA ...\n",
       "818 CHP_434_01 CHP_434 X01   4.5  0       12  HD           4.5     3272 145 ...\n",
       "819 CHP_434_02 CHP_434 X02   0.0  0       12  HD           0.0        0  NA ...\n",
       "820 CHP_434_03 CHP_434 X03   0.0  0       12  HD           0.0        0  NA ...\n",
       "821 CHP_434_04 CHP_434 X04   0.0  0       12  HD           0.0        0  NA ...\n",
       "822 CHP_434_05 CHP_434 X05   0.0  0       12  HD           0.0        0  NA ...\n",
       "823 CHP_435_01 CHP_435 X01   0.0  0        0  CML          0.0        0  NA ...\n",
       "824 CHP_435_02 CHP_435 X02   0.0  0        0  CML          0.0        0  NA ...\n",
       "825 CHP_435_03 CHP_435 X03   0.0  0        0  CML          0.0        0  NA ...\n",
       "826 CHP_435_04 CHP_435 X04   0.0  0        0  CML          0.0        0  NA ...\n",
       "827 CHP_435_05 CHP_435 X05   0.0  0        0  CML          0.0        0  NA ...\n",
       "828 CHP_436_01 CHP_436 X01   0.0  0       15  OS           0.0        0  NA ...\n",
       "829 CHP_436_02 CHP_436 X02   0.0  0       15  OS           0.0        0  NA ...\n",
       "830 CHP_436_03 CHP_436 X03   0.0  0       15  OS           0.0        0  NA ...\n",
       "831 CHP_436_04 CHP_436 X04   0.0  0       15  OS           0.0        0  NA ...\n",
       "832 CHP_436_05 CHP_436 X05   0.0  0       15  OS           0.0        0  NA ...\n",
       "833 CHP_437_01 CHP_437 X01   0.0  0        9  OS           0.0        0  NA ...\n",
       "834 CHP_437_02 CHP_437 X02   0.0  0        9  OS           0.0        0  NA ...\n",
       "835 CHP_437_03 CHP_437 X03   0.0  0        9  OS           0.0        0  NA ...\n",
       "836 CHP_437_04 CHP_437 X04   0.0  0        9  OS           0.0        0  NA ...\n",
       "837 CHP_437_05 CHP_437 X05   0.0  0        9  OS           0.0        0  NA ...\n",
       "    observed_Shannon estimated_Shannon SE_Shannon observed_Simpson\n",
       "13  NA               NA                NA         NA              \n",
       "14  NA               NA                NA         NA              \n",
       "15  NA               NA                NA         NA              \n",
       "16  NA               NA                NA         NA              \n",
       "18  NA               NA                NA         NA              \n",
       "19  NA               NA                NA         NA              \n",
       "20  NA               NA                NA         NA              \n",
       "21  NA               NA                NA         NA              \n",
       "22  NA               NA                NA         NA              \n",
       "23  NA               NA                NA         NA              \n",
       "24  NA               NA                NA         NA              \n",
       "25  NA               NA                NA         NA              \n",
       "26  NA               NA                NA         NA              \n",
       "27  NA               NA                NA         NA              \n",
       "28  NA               NA                NA         NA              \n",
       "29  NA               NA                NA         NA              \n",
       "30  NA               NA                NA         NA              \n",
       "31  NA               NA                NA         NA              \n",
       "32  NA               NA                NA         NA              \n",
       "33  NA               NA                NA         NA              \n",
       "34  NA               NA                NA         NA              \n",
       "40  NA               NA                NA         NA              \n",
       "41  NA               NA                NA         NA              \n",
       "42  NA               NA                NA         NA              \n",
       "46  NA               NA                NA         NA              \n",
       "47  NA               NA                NA         NA              \n",
       "48  NA               NA                NA         NA              \n",
       "49  NA               NA                NA         NA              \n",
       "50  NA               NA                NA         NA              \n",
       "51  NA               NA                NA         NA              \n",
       "... ...              ...               ...        ...             \n",
       "808 NA               NA                NA         NA              \n",
       "809 NA               NA                NA         NA              \n",
       "810 NA               NA                NA         NA              \n",
       "811 NA               NA                NA         NA              \n",
       "812 NA               NA                NA         NA              \n",
       "813 NA               NA                NA         NA              \n",
       "814 NA               NA                NA         NA              \n",
       "815 NA               NA                NA         NA              \n",
       "816 NA               NA                NA         NA              \n",
       "817 NA               NA                NA         NA              \n",
       "818 NA               NA                NA         NA              \n",
       "819 NA               NA                NA         NA              \n",
       "820 NA               NA                NA         NA              \n",
       "821 NA               NA                NA         NA              \n",
       "822 NA               NA                NA         NA              \n",
       "823 NA               NA                NA         NA              \n",
       "824 NA               NA                NA         NA              \n",
       "825 NA               NA                NA         NA              \n",
       "826 NA               NA                NA         NA              \n",
       "827 NA               NA                NA         NA              \n",
       "828 NA               NA                NA         NA              \n",
       "829 NA               NA                NA         NA              \n",
       "830 NA               NA                NA         NA              \n",
       "831 NA               NA                NA         NA              \n",
       "832 NA               NA                NA         NA              \n",
       "833 NA               NA                NA         NA              \n",
       "834 NA               NA                NA         NA              \n",
       "835 NA               NA                NA         NA              \n",
       "836 NA               NA                NA         NA              \n",
       "837 NA               NA                NA         NA              \n",
       "    estimated_Simpson SE_Simpson basename file Group sampletype\n",
       "13  NA                NA         NA       NA   CHP   NA        \n",
       "14  NA                NA         NA       NA   CHP   NA        \n",
       "15  NA                NA         NA       NA   CHP   NA        \n",
       "16  NA                NA         NA       NA   CHP   NA        \n",
       "18  NA                NA         NA       NA   CHP   NA        \n",
       "19  NA                NA         NA       NA   CHP   NA        \n",
       "20  NA                NA         NA       NA   CHP   NA        \n",
       "21  NA                NA         NA       NA   CHP   NA        \n",
       "22  NA                NA         NA       NA   CHP   NA        \n",
       "23  NA                NA         NA       NA   CHP   NA        \n",
       "24  NA                NA         NA       NA   CHP   NA        \n",
       "25  NA                NA         NA       NA   CHP   NA        \n",
       "26  NA                NA         NA       NA   CHP   NA        \n",
       "27  NA                NA         NA       NA   CHP   NA        \n",
       "28  NA                NA         NA       NA   CHP   NA        \n",
       "29  NA                NA         NA       NA   CHP   NA        \n",
       "30  NA                NA         NA       NA   CHP   NA        \n",
       "31  NA                NA         NA       NA   CHP   NA        \n",
       "32  NA                NA         NA       NA   CHP   NA        \n",
       "33  NA                NA         NA       NA   CHP   NA        \n",
       "34  NA                NA         NA       NA   CHP   NA        \n",
       "40  NA                NA         NA       NA   CHP   NA        \n",
       "41  NA                NA         NA       NA   CHP   NA        \n",
       "42  NA                NA         NA       NA   CHP   NA        \n",
       "46  NA                NA         NA       NA   CHP   NA        \n",
       "47  NA                NA         NA       NA   CHP   NA        \n",
       "48  NA                NA         NA       NA   CHP   NA        \n",
       "49  NA                NA         NA       NA   CHP   NA        \n",
       "50  NA                NA         NA       NA   CHP   NA        \n",
       "51  NA                NA         NA       NA   CHP   NA        \n",
       "... ...               ...        ...      ...  ...   ...       \n",
       "808 NA                NA         NA       NA   CHP   NA        \n",
       "809 NA                NA         NA       NA   CHP   NA        \n",
       "810 NA                NA         NA       NA   CHP   NA        \n",
       "811 NA                NA         NA       NA   CHP   NA        \n",
       "812 NA                NA         NA       NA   CHP   NA        \n",
       "813 NA                NA         NA       NA   CHP   NA        \n",
       "814 NA                NA         NA       NA   CHP   NA        \n",
       "815 NA                NA         NA       NA   CHP   NA        \n",
       "816 NA                NA         NA       NA   CHP   NA        \n",
       "817 NA                NA         NA       NA   CHP   NA        \n",
       "818 NA                NA         NA       NA   CHP   NA        \n",
       "819 NA                NA         NA       NA   CHP   NA        \n",
       "820 NA                NA         NA       NA   CHP   NA        \n",
       "821 NA                NA         NA       NA   CHP   NA        \n",
       "822 NA                NA         NA       NA   CHP   NA        \n",
       "823 NA                NA         NA       NA   CHP   NA        \n",
       "824 NA                NA         NA       NA   CHP   NA        \n",
       "825 NA                NA         NA       NA   CHP   NA        \n",
       "826 NA                NA         NA       NA   CHP   NA        \n",
       "827 NA                NA         NA       NA   CHP   NA        \n",
       "828 NA                NA         NA       NA   CHP   NA        \n",
       "829 NA                NA         NA       NA   CHP   NA        \n",
       "830 NA                NA         NA       NA   CHP   NA        \n",
       "831 NA                NA         NA       NA   CHP   NA        \n",
       "832 NA                NA         NA       NA   CHP   NA        \n",
       "833 NA                NA         NA       NA   CHP   NA        \n",
       "834 NA                NA         NA       NA   CHP   NA        \n",
       "835 NA                NA         NA       NA   CHP   NA        \n",
       "836 NA                NA         NA       NA   CHP   NA        \n",
       "837 NA                NA         NA       NA   CHP   NA        "
      ]
     },
     "metadata": {},
     "output_type": "display_data"
    }
   ],
   "source": [
    "#all NA in sampletype are those with flow data but we did not squence.\n",
    "meta_div[ is.na(meta_div$sampletype),]"
   ]
  },
  {
   "cell_type": "code",
   "execution_count": 28,
   "metadata": {
    "vscode": {
     "languageId": "r"
    }
   },
   "outputs": [
    {
     "data": {
      "text/html": [
       "<table class=\"dataframe\">\n",
       "<caption>A data.frame: 3 x 63</caption>\n",
       "<thead>\n",
       "\t<tr><th></th><th scope=col>sample_id</th><th scope=col>Patient</th><th scope=col>cycle</th><th scope=col>FOLD</th><th scope=col>ATC</th><th scope=col>Age</th><th scope=col>Disease_type</th><th scope=col>TE_fold</th><th scope=col>CD3</th><th scope=col>EM</th><th scope=col>...</th><th scope=col>observed_Shannon</th><th scope=col>estimated_Shannon</th><th scope=col>SE_Shannon</th><th scope=col>observed_Simpson</th><th scope=col>estimated_Simpson</th><th scope=col>SE_Simpson</th><th scope=col>basename</th><th scope=col>file</th><th scope=col>Group</th><th scope=col>sampletype</th></tr>\n",
       "\t<tr><th></th><th scope=col>&lt;chr&gt;</th><th scope=col>&lt;chr&gt;</th><th scope=col>&lt;chr&gt;</th><th scope=col>&lt;dbl&gt;</th><th scope=col>&lt;dbl&gt;</th><th scope=col>&lt;dbl&gt;</th><th scope=col>&lt;chr&gt;</th><th scope=col>&lt;dbl&gt;</th><th scope=col>&lt;int&gt;</th><th scope=col>&lt;int&gt;</th><th scope=col>...</th><th scope=col>&lt;dbl&gt;</th><th scope=col>&lt;dbl&gt;</th><th scope=col>&lt;dbl&gt;</th><th scope=col>&lt;dbl&gt;</th><th scope=col>&lt;dbl&gt;</th><th scope=col>&lt;dbl&gt;</th><th scope=col>&lt;chr&gt;</th><th scope=col>&lt;chr&gt;</th><th scope=col>&lt;chr&gt;</th><th scope=col>&lt;chr&gt;</th></tr>\n",
       "</thead>\n",
       "<tbody>\n",
       "\t<tr><th scope=row>10</th><td>CHP_303_05</td><td>CHP_303</td><td>X05</td><td>NA</td><td>NA</td><td>NA</td><td>NA</td><td>NA</td><td>NA</td><td>NA</td><td>...</td><td>191.496</td><td>194.714</td><td>1.412</td><td>158.597</td><td>161.725</td><td>2.028</td><td>CHP_303-05-PBMC-DNA</td><td>batch4_19Aug2019/mixcr/clones/CLONES_TRBCHP_303-05-PBMC-DNA.txt                </td><td>CHP</td><td>PBMC </td></tr>\n",
       "\t<tr><th scope=row>11</th><td>CHP_315_05</td><td>CHP_315</td><td>X05</td><td>NA</td><td>NA</td><td>NA</td><td>NA</td><td>NA</td><td>NA</td><td>NA</td><td>...</td><td> 15.470</td><td> 15.793</td><td>0.691</td><td>  9.026</td><td>  9.138</td><td>0.674</td><td>CHP_315-05-PBMC-DNA</td><td>batch4_19Aug2019/mixcr/clones/CLONES_TRBCHP_315-05-PBMC-DNA.txt                </td><td>CHP</td><td>PBMC </td></tr>\n",
       "\t<tr><th scope=row>12</th><td>CHP_315_05</td><td>CHP_315</td><td>X05</td><td>NA</td><td>NA</td><td>NA</td><td>NA</td><td>NA</td><td>NA</td><td>NA</td><td>...</td><td>  1.000</td><td>  1.000</td><td>0.000</td><td>  1.000</td><td>  1.000</td><td>0.000</td><td>CHP_315-05_cfDNA   </td><td>remaining_batch_2_cfDNA_15April2021/mixcr/clones/CLONES_TRBCHP_315-05_cfDNA.txt</td><td>CHP</td><td>cfDNA</td></tr>\n",
       "</tbody>\n",
       "</table>\n"
      ],
      "text/latex": [
       "A data.frame: 3 x 63\n",
       "\\begin{tabular}{r|lllllllllllllllllllll}\n",
       "  & sample\\_id & Patient & cycle & FOLD & ATC & Age & Disease\\_type & TE\\_fold & CD3 & EM & ... & observed\\_Shannon & estimated\\_Shannon & SE\\_Shannon & observed\\_Simpson & estimated\\_Simpson & SE\\_Simpson & basename & file & Group & sampletype\\\\\n",
       "  & <chr> & <chr> & <chr> & <dbl> & <dbl> & <dbl> & <chr> & <dbl> & <int> & <int> & ... & <dbl> & <dbl> & <dbl> & <dbl> & <dbl> & <dbl> & <chr> & <chr> & <chr> & <chr>\\\\\n",
       "\\hline\n",
       "\t10 & CHP\\_303\\_05 & CHP\\_303 & X05 & NA & NA & NA & NA & NA & NA & NA & ... & 191.496 & 194.714 & 1.412 & 158.597 & 161.725 & 2.028 & CHP\\_303-05-PBMC-DNA & batch4\\_19Aug2019/mixcr/clones/CLONES\\_TRBCHP\\_303-05-PBMC-DNA.txt                 & CHP & PBMC \\\\\n",
       "\t11 & CHP\\_315\\_05 & CHP\\_315 & X05 & NA & NA & NA & NA & NA & NA & NA & ... &  15.470 &  15.793 & 0.691 &   9.026 &   9.138 & 0.674 & CHP\\_315-05-PBMC-DNA & batch4\\_19Aug2019/mixcr/clones/CLONES\\_TRBCHP\\_315-05-PBMC-DNA.txt                 & CHP & PBMC \\\\\n",
       "\t12 & CHP\\_315\\_05 & CHP\\_315 & X05 & NA & NA & NA & NA & NA & NA & NA & ... &   1.000 &   1.000 & 0.000 &   1.000 &   1.000 & 0.000 & CHP\\_315-05\\_cfDNA    & remaining\\_batch\\_2\\_cfDNA\\_15April2021/mixcr/clones/CLONES\\_TRBCHP\\_315-05\\_cfDNA.txt & CHP & cfDNA\\\\\n",
       "\\end{tabular}\n"
      ],
      "text/markdown": [
       "\n",
       "A data.frame: 3 x 63\n",
       "\n",
       "| <!--/--> | sample_id &lt;chr&gt; | Patient &lt;chr&gt; | cycle &lt;chr&gt; | FOLD &lt;dbl&gt; | ATC &lt;dbl&gt; | Age &lt;dbl&gt; | Disease_type &lt;chr&gt; | TE_fold &lt;dbl&gt; | CD3 &lt;int&gt; | EM &lt;int&gt; | ... ... | observed_Shannon &lt;dbl&gt; | estimated_Shannon &lt;dbl&gt; | SE_Shannon &lt;dbl&gt; | observed_Simpson &lt;dbl&gt; | estimated_Simpson &lt;dbl&gt; | SE_Simpson &lt;dbl&gt; | basename &lt;chr&gt; | file &lt;chr&gt; | Group &lt;chr&gt; | sampletype &lt;chr&gt; |\n",
       "|---|---|---|---|---|---|---|---|---|---|---|---|---|---|---|---|---|---|---|---|---|---|\n",
       "| 10 | CHP_303_05 | CHP_303 | X05 | NA | NA | NA | NA | NA | NA | NA | ... | 191.496 | 194.714 | 1.412 | 158.597 | 161.725 | 2.028 | CHP_303-05-PBMC-DNA | batch4_19Aug2019/mixcr/clones/CLONES_TRBCHP_303-05-PBMC-DNA.txt                 | CHP | PBMC  |\n",
       "| 11 | CHP_315_05 | CHP_315 | X05 | NA | NA | NA | NA | NA | NA | NA | ... |  15.470 |  15.793 | 0.691 |   9.026 |   9.138 | 0.674 | CHP_315-05-PBMC-DNA | batch4_19Aug2019/mixcr/clones/CLONES_TRBCHP_315-05-PBMC-DNA.txt                 | CHP | PBMC  |\n",
       "| 12 | CHP_315_05 | CHP_315 | X05 | NA | NA | NA | NA | NA | NA | NA | ... |   1.000 |   1.000 | 0.000 |   1.000 |   1.000 | 0.000 | CHP_315-05_cfDNA    | remaining_batch_2_cfDNA_15April2021/mixcr/clones/CLONES_TRBCHP_315-05_cfDNA.txt | CHP | cfDNA |\n",
       "\n"
      ],
      "text/plain": [
       "   sample_id  Patient cycle FOLD ATC Age Disease_type TE_fold CD3 EM ...\n",
       "10 CHP_303_05 CHP_303 X05   NA   NA  NA  NA           NA      NA  NA ...\n",
       "11 CHP_315_05 CHP_315 X05   NA   NA  NA  NA           NA      NA  NA ...\n",
       "12 CHP_315_05 CHP_315 X05   NA   NA  NA  NA           NA      NA  NA ...\n",
       "   observed_Shannon estimated_Shannon SE_Shannon observed_Simpson\n",
       "10 191.496          194.714           1.412      158.597         \n",
       "11  15.470           15.793           0.691        9.026         \n",
       "12   1.000            1.000           0.000        1.000         \n",
       "   estimated_Simpson SE_Simpson basename           \n",
       "10 161.725           2.028      CHP_303-05-PBMC-DNA\n",
       "11   9.138           0.674      CHP_315-05-PBMC-DNA\n",
       "12   1.000           0.000      CHP_315-05_cfDNA   \n",
       "   file                                                                           \n",
       "10 batch4_19Aug2019/mixcr/clones/CLONES_TRBCHP_303-05-PBMC-DNA.txt                \n",
       "11 batch4_19Aug2019/mixcr/clones/CLONES_TRBCHP_315-05-PBMC-DNA.txt                \n",
       "12 remaining_batch_2_cfDNA_15April2021/mixcr/clones/CLONES_TRBCHP_315-05_cfDNA.txt\n",
       "   Group sampletype\n",
       "10 CHP   PBMC      \n",
       "11 CHP   PBMC      \n",
       "12 CHP   cfDNA     "
      ]
     },
     "metadata": {},
     "output_type": "display_data"
    }
   ],
   "source": [
    "meta_div[ is.na(meta_div$Disease_type),]"
   ]
  },
  {
   "cell_type": "code",
   "execution_count": 29,
   "metadata": {
    "vscode": {
     "languageId": "r"
    }
   },
   "outputs": [],
   "source": [
    "# old samples. Remove them!"
   ]
  },
  {
   "cell_type": "code",
   "execution_count": 30,
   "metadata": {
    "vscode": {
     "languageId": "r"
    }
   },
   "outputs": [],
   "source": [
    "meta_div <- meta_div[ !is.na(meta_div$Disease_type),]"
   ]
  },
  {
   "cell_type": "code",
   "execution_count": 31,
   "metadata": {
    "vscode": {
     "languageId": "r"
    }
   },
   "outputs": [
    {
     "data": {
      "text/plain": [
       "\n",
       "Leukemia Lymphoma    Solid     <NA> \n",
       "     399      148      257       42 "
      ]
     },
     "metadata": {},
     "output_type": "display_data"
    }
   ],
   "source": [
    "table(meta_div$cancergroup, useNA = \"always\")"
   ]
  },
  {
   "cell_type": "code",
   "execution_count": 32,
   "metadata": {
    "vscode": {
     "languageId": "r"
    }
   },
   "outputs": [
    {
     "data": {
      "text/plain": [
       "\n",
       "  ALCL    ALL    AML   ARMS     BL    BLL    CML  DLBCL   ERMS    EWS     HB \n",
       "    15    159     74      8     33     15     25     21     39     44     25 \n",
       "    HD HR ALL    LFS  MS NB     NB Normal     OS  PMBCL    RMS SR ALL  T-ALL \n",
       "    60     98     10      5     25     14     86     14     15     17     26 \n",
       " WILMS   <NA> \n",
       "    18      0 "
      ]
     },
     "metadata": {},
     "output_type": "display_data"
    }
   ],
   "source": [
    "table(meta_div$Disease_type, useNA = \"always\")"
   ]
  },
  {
   "cell_type": "code",
   "execution_count": 33,
   "metadata": {
    "vscode": {
     "languageId": "r"
    }
   },
   "outputs": [],
   "source": [
    "meta_div$cancergroup[ meta_div$sampletype == \"Tumor\"] <- \"Solid\"\n",
    "meta_div$cancergroup[ meta_div$Disease_type == \"Normal\"] <- \"Normal\"\n",
    "meta_div$cancergroup[ meta_div$Disease_type == \"LFS\"] <- \"LFS\""
   ]
  },
  {
   "cell_type": "code",
   "execution_count": 34,
   "metadata": {
    "vscode": {
     "languageId": "r"
    }
   },
   "outputs": [
    {
     "data": {
      "text/plain": [
       "\n",
       "Leukemia      LFS Lymphoma   Normal    Solid     <NA> \n",
       "     399       10      148       14      275        0 "
      ]
     },
     "metadata": {},
     "output_type": "display_data"
    }
   ],
   "source": [
    "table(meta_div$cancergroup, useNA = \"always\")"
   ]
  },
  {
   "cell_type": "code",
   "execution_count": 38,
   "metadata": {
    "vscode": {
     "languageId": "r"
    }
   },
   "outputs": [
    {
     "data": {
      "text/plain": [
       "\n",
       " 1 \n",
       "50 "
      ]
     },
     "metadata": {},
     "output_type": "display_data"
    }
   ],
   "source": [
    "table(meta_div$Transplant)"
   ]
  },
  {
   "cell_type": "code",
   "execution_count": 35,
   "metadata": {
    "vscode": {
     "languageId": "r"
    }
   },
   "outputs": [],
   "source": [
    "save(meta_div, file = paste0(datapath,\"capTCRseq/meta_div_TRB.RData\"))"
   ]
  },
  {
   "attachments": {},
   "cell_type": "markdown",
   "metadata": {},
   "source": [
    "## to do: TRA"
   ]
  },
  {
   "cell_type": "code",
   "execution_count": null,
   "metadata": {
    "vscode": {
     "languageId": "r"
    }
   },
   "outputs": [],
   "source": []
  },
  {
   "cell_type": "code",
   "execution_count": null,
   "metadata": {
    "vscode": {
     "languageId": "r"
    }
   },
   "outputs": [],
   "source": []
  }
 ],
 "metadata": {
  "kernelspec": {
   "display_name": "R 4.0",
   "language": "R",
   "name": "ir40"
  },
  "language_info": {
   "codemirror_mode": "r",
   "file_extension": ".r",
   "mimetype": "text/x-r-source",
   "name": "R",
   "pygments_lexer": "r",
   "version": "4.2.2"
  },
  "toc": {
   "base_numbering": 1,
   "nav_menu": {},
   "number_sections": false,
   "sideBar": true,
   "skip_h1_title": false,
   "title_cell": "Table of Contents",
   "title_sidebar": "Contents",
   "toc_cell": true,
   "toc_position": {
    "height": "calc(100% - 180px)",
    "left": "10px",
    "top": "150px",
    "width": "217.301px"
   },
   "toc_section_display": true,
   "toc_window_display": true
  }
 },
 "nbformat": 4,
 "nbformat_minor": 2
}
