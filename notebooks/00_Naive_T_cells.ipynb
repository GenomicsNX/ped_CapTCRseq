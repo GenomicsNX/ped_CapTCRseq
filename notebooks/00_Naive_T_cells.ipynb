{
 "cells": [
  {
   "cell_type": "code",
   "execution_count": 1,
   "metadata": {
    "vscode": {
     "languageId": "r"
    }
   },
   "outputs": [
    {
     "data": {
      "text/html": [
       "'en_US.UTF-8/en_US.UTF-8/en_US.UTF-8/C/en_US.UTF-8/C'"
      ],
      "text/latex": [
       "'en\\_US.UTF-8/en\\_US.UTF-8/en\\_US.UTF-8/C/en\\_US.UTF-8/C'"
      ],
      "text/markdown": [
       "'en_US.UTF-8/en_US.UTF-8/en_US.UTF-8/C/en_US.UTF-8/C'"
      ],
      "text/plain": [
       "[1] \"en_US.UTF-8/en_US.UTF-8/en_US.UTF-8/C/en_US.UTF-8/C\""
      ]
     },
     "metadata": {},
     "output_type": "display_data"
    }
   ],
   "source": [
    "Sys.setlocale(category = \"LC_ALL\", locale = \"en_US.UTF-8\")"
   ]
  },
  {
   "attachments": {},
   "cell_type": "markdown",
   "metadata": {},
   "source": [
    "# Dependencies"
   ]
  },
  {
   "cell_type": "code",
   "execution_count": 2,
   "metadata": {
    "vscode": {
     "languageId": "r"
    }
   },
   "outputs": [],
   "source": [
    "pacman::p_load(dplyr, ggplot2, ggbeeswarm, ggpubr, ggsignif)"
   ]
  },
  {
   "attachments": {},
   "cell_type": "markdown",
   "metadata": {},
   "source": [
    "# Functions"
   ]
  },
  {
   "cell_type": "code",
   "execution_count": 3,
   "metadata": {
    "vscode": {
     "languageId": "r"
    }
   },
   "outputs": [],
   "source": [
    "baseplot_flow.fx <- function(df, x, y, clr, clr_palette, sampletype) {\n",
    "  if (sampletype == \"PBMC\") {\n",
    "    mybreaks <- c(1, 20, 40, 60, 80, 100) }\n",
    "\n",
    "  myp <- ggplot(\n",
    "    df,\n",
    "    aes(x = eval(as.name(x)), y = eval(as.name(y)))\n",
    "  ) +\n",
    "    geom_boxplot() + #\n",
    "    geom_beeswarm(aes(color = eval(as.name(clr))), cex = 2) +\n",
    "    scale_color_manual(values = clr_palette) +\n",
    "    myplot +\n",
    "    myaxis +\n",
    "    theme(axis.text.x = element_text(angle = 45, hjust = 1), axis.title.x = element_blank()) +\n",
    "    scale_y_continuous(breaks = mybreaks, labels = mybreaks)\n",
    "  return(myp)\n",
    "}\n"
   ]
  },
  {
   "cell_type": "code",
   "execution_count": 4,
   "metadata": {
    "vscode": {
     "languageId": "r"
    }
   },
   "outputs": [],
   "source": [
    "source(\"/Users/anabbi/git/ped_CapTCRseq/R/ggplot2_theme.R\")\n",
    "source(\"/Users/anabbi/git/ped_CapTCRseq/R/color_schemes.R\")\n",
    "source(\"/Users/anabbi/git/ped_CapTCRseq/R/Misc_functions.R\")"
   ]
  },
  {
   "attachments": {},
   "cell_type": "markdown",
   "metadata": {},
   "source": [
    "# Paths"
   ]
  },
  {
   "cell_type": "code",
   "execution_count": 5,
   "metadata": {
    "vscode": {
     "languageId": "r"
    }
   },
   "outputs": [],
   "source": [
    "datapath <- \"/Users/anabbi/OneDrive - UHN/Documents/INTERCEPT/Data/\"\n",
    "plotpath <- \"/Users/anabbi/OneDrive - UHN/Documents/INTERCEPT/Plots/\"\n",
    "manifestpath <- \"/Users/anabbi/OneDrive - UHN/Documents/INTERCEPT/Manifests/\"\n",
    "gitpath <- \"/Users/anabbi/git/ped_CapTCRseq/\""
   ]
  },
  {
   "cell_type": "code",
   "execution_count": 6,
   "metadata": {
    "vscode": {
     "languageId": "r"
    }
   },
   "outputs": [],
   "source": [
    "h4hpath <- \"/Users/anabbi/Desktop/H4H/INTERCEPT/\""
   ]
  },
  {
   "attachments": {},
   "cell_type": "markdown",
   "metadata": {},
   "source": [
    "# Main"
   ]
  },
  {
   "cell_type": "code",
   "execution_count": 7,
   "metadata": {
    "vscode": {
     "languageId": "r"
    }
   },
   "outputs": [],
   "source": [
    "meta_div <- readr::read_rds(paste0(datapath, \"capTCRseq/meta_div_goodsamples.rds\"))"
   ]
  },
  {
   "cell_type": "code",
   "execution_count": 8,
   "metadata": {
    "vscode": {
     "languageId": "r"
    }
   },
   "outputs": [],
   "source": [
    "meta_div <- meta_div[ !is.na(meta_div$CD3), ]"
   ]
  },
  {
   "cell_type": "code",
   "execution_count": 9,
   "metadata": {
    "vscode": {
     "languageId": "r"
    }
   },
   "outputs": [],
   "source": [
    "meta_div <- meta_div[ meta_div$cancergroup != \"Normal\", ]\n",
    "meta_div <- meta_div[ meta_div$cancergroup != \"LFS\", ]"
   ]
  },
  {
   "cell_type": "code",
   "execution_count": 10,
   "metadata": {
    "vscode": {
     "languageId": "r"
    }
   },
   "outputs": [],
   "source": [
    "meta_div$cancergroup[ which(meta_div$cancergroup == \"Solid\")] <- \"Solid tumors\""
   ]
  },
  {
   "cell_type": "code",
   "execution_count": 11,
   "metadata": {
    "vscode": {
     "languageId": "r"
    }
   },
   "outputs": [
    {
     "data": {
      "text/plain": [
       "\n",
       "cfDNA  PBMC  <NA> \n",
       "  273   456     0 "
      ]
     },
     "metadata": {},
     "output_type": "display_data"
    }
   ],
   "source": [
    "table(meta_div$sampletype, useNA = \"always\")"
   ]
  },
  {
   "cell_type": "code",
   "execution_count": 12,
   "metadata": {
    "vscode": {
     "languageId": "r"
    }
   },
   "outputs": [],
   "source": [
    "pbmc <- meta_div[ which(meta_div$sampletype == \"PBMC\"),]"
   ]
  },
  {
   "cell_type": "code",
   "execution_count": 13,
   "metadata": {
    "vscode": {
     "languageId": "r"
    }
   },
   "outputs": [
    {
     "data": {
      "text/html": [
       "<style>\n",
       ".list-inline {list-style: none; margin:0; padding: 0}\n",
       ".list-inline>li {display: inline-block}\n",
       ".list-inline>li:not(:last-child)::after {content: \"\\00b7\"; padding: 0 .5ex}\n",
       "</style>\n",
       "<ol class=list-inline><li>456</li><li>63</li></ol>\n"
      ],
      "text/latex": [
       "\\begin{enumerate*}\n",
       "\\item 456\n",
       "\\item 63\n",
       "\\end{enumerate*}\n"
      ],
      "text/markdown": [
       "1. 456\n",
       "2. 63\n",
       "\n",
       "\n"
      ],
      "text/plain": [
       "[1] 456  63"
      ]
     },
     "metadata": {},
     "output_type": "display_data"
    }
   ],
   "source": [
    "dim(pbmc)"
   ]
  },
  {
   "cell_type": "code",
   "execution_count": 14,
   "metadata": {
    "vscode": {
     "languageId": "r"
    }
   },
   "outputs": [],
   "source": [
    "names(group_col)[ names(group_col) == \"Solid\"] <- \"Solid tumors\""
   ]
  },
  {
   "cell_type": "code",
   "execution_count": 15,
   "metadata": {
    "vscode": {
     "languageId": "r"
    }
   },
   "outputs": [],
   "source": [
    "pbmc <- pbmc[ pbmc$CD3 > 0,]"
   ]
  },
  {
   "cell_type": "code",
   "execution_count": 16,
   "metadata": {
    "vscode": {
     "languageId": "r"
    }
   },
   "outputs": [
    {
     "data": {
      "text/html": [
       "<style>\n",
       ".list-inline {list-style: none; margin:0; padding: 0}\n",
       ".list-inline>li {display: inline-block}\n",
       ".list-inline>li:not(:last-child)::after {content: \"\\00b7\"; padding: 0 .5ex}\n",
       "</style>\n",
       "<ol class=list-inline><li>160</li><li>63</li></ol>\n"
      ],
      "text/latex": [
       "\\begin{enumerate*}\n",
       "\\item 160\n",
       "\\item 63\n",
       "\\end{enumerate*}\n"
      ],
      "text/markdown": [
       "1. 160\n",
       "2. 63\n",
       "\n",
       "\n"
      ],
      "text/plain": [
       "[1] 160  63"
      ]
     },
     "metadata": {},
     "output_type": "display_data"
    }
   ],
   "source": [
    "dim(pbmc)"
   ]
  },
  {
   "attachments": {},
   "cell_type": "markdown",
   "metadata": {},
   "source": [
    "## rms"
   ]
  },
  {
   "cell_type": "code",
   "execution_count": 60,
   "metadata": {
    "vscode": {
     "languageId": "r"
    }
   },
   "outputs": [],
   "source": [
    "pacman::p_load(rms)"
   ]
  },
  {
   "cell_type": "code",
   "execution_count": 61,
   "metadata": {
    "vscode": {
     "languageId": "r"
    }
   },
   "outputs": [
    {
     "data": {
      "text/html": [
       "<style>\n",
       ".list-inline {list-style: none; margin:0; padding: 0}\n",
       ".list-inline>li {display: inline-block}\n",
       ".list-inline>li:not(:last-child)::after {content: \"\\00b7\"; padding: 0 .5ex}\n",
       "</style>\n",
       "<ol class=list-inline><li>'sample_id'</li><li>'Patient'</li><li>'cycle'</li><li>'FOLD'</li><li>'ATC'</li><li>'Age'</li><li>'Disease_type'</li><li>'TE_fold'</li><li>'Pass'</li><li>'CD3'</li><li>'EM'</li><li>'CM'</li><li>'Na..ve'</li><li>'SCM'</li><li>'TE'</li><li>'EM.'</li><li>'CM.'</li><li>'Na..ve.'</li><li>'SCM.'</li><li>'TE.'</li><li>'Na..ve.TE'</li><li>'N.CM.SCM.TE.EM'</li><li>'PD.1'</li><li>'PDL1'</li><li>'LAG3'</li><li>'TIM3'</li><li>'CTLA4'</li><li>'PD1.'</li><li>'PDL1.'</li><li>'LAG3.'</li><li>'TIM3.'</li><li>'CTLA4.'</li><li>'Any.NCR'</li><li>'PD1...LAG3...TIM3'</li><li>'cancergroup'</li><li>'TRB'</li><li>'Reads'</li><li>'CPKR'</li><li>'Average_reads'</li><li>'VMR'</li><li>'Max_reads'</li><li>'Singletons'</li><li>'Doubletons'</li><li>'qD'</li><li>'Sample_Coverage'</li><li>'observed_Richness'</li><li>'estimated_Richness'</li><li>'SE_Richeness'</li><li>'observed_Shannon'</li><li>'estimated_Shannon'</li><li>'SE_Shannon'</li><li>'observed_Simpson'</li><li>'estimated_Simpson'</li><li>'SE_Simpson'</li><li>'file'</li><li>'basename'</li><li>'Group'</li><li>'sampletype'</li><li>'agegroup'</li><li>'Cyclegroup'</li></ol>\n"
      ],
      "text/latex": [
       "\\begin{enumerate*}\n",
       "\\item 'sample\\_id'\n",
       "\\item 'Patient'\n",
       "\\item 'cycle'\n",
       "\\item 'FOLD'\n",
       "\\item 'ATC'\n",
       "\\item 'Age'\n",
       "\\item 'Disease\\_type'\n",
       "\\item 'TE\\_fold'\n",
       "\\item 'Pass'\n",
       "\\item 'CD3'\n",
       "\\item 'EM'\n",
       "\\item 'CM'\n",
       "\\item 'Na..ve'\n",
       "\\item 'SCM'\n",
       "\\item 'TE'\n",
       "\\item 'EM.'\n",
       "\\item 'CM.'\n",
       "\\item 'Na..ve.'\n",
       "\\item 'SCM.'\n",
       "\\item 'TE.'\n",
       "\\item 'Na..ve.TE'\n",
       "\\item 'N.CM.SCM.TE.EM'\n",
       "\\item 'PD.1'\n",
       "\\item 'PDL1'\n",
       "\\item 'LAG3'\n",
       "\\item 'TIM3'\n",
       "\\item 'CTLA4'\n",
       "\\item 'PD1.'\n",
       "\\item 'PDL1.'\n",
       "\\item 'LAG3.'\n",
       "\\item 'TIM3.'\n",
       "\\item 'CTLA4.'\n",
       "\\item 'Any.NCR'\n",
       "\\item 'PD1...LAG3...TIM3'\n",
       "\\item 'cancergroup'\n",
       "\\item 'TRB'\n",
       "\\item 'Reads'\n",
       "\\item 'CPKR'\n",
       "\\item 'Average\\_reads'\n",
       "\\item 'VMR'\n",
       "\\item 'Max\\_reads'\n",
       "\\item 'Singletons'\n",
       "\\item 'Doubletons'\n",
       "\\item 'qD'\n",
       "\\item 'Sample\\_Coverage'\n",
       "\\item 'observed\\_Richness'\n",
       "\\item 'estimated\\_Richness'\n",
       "\\item 'SE\\_Richeness'\n",
       "\\item 'observed\\_Shannon'\n",
       "\\item 'estimated\\_Shannon'\n",
       "\\item 'SE\\_Shannon'\n",
       "\\item 'observed\\_Simpson'\n",
       "\\item 'estimated\\_Simpson'\n",
       "\\item 'SE\\_Simpson'\n",
       "\\item 'file'\n",
       "\\item 'basename'\n",
       "\\item 'Group'\n",
       "\\item 'sampletype'\n",
       "\\item 'agegroup'\n",
       "\\item 'Cyclegroup'\n",
       "\\end{enumerate*}\n"
      ],
      "text/markdown": [
       "1. 'sample_id'\n",
       "2. 'Patient'\n",
       "3. 'cycle'\n",
       "4. 'FOLD'\n",
       "5. 'ATC'\n",
       "6. 'Age'\n",
       "7. 'Disease_type'\n",
       "8. 'TE_fold'\n",
       "9. 'Pass'\n",
       "10. 'CD3'\n",
       "11. 'EM'\n",
       "12. 'CM'\n",
       "13. 'Na..ve'\n",
       "14. 'SCM'\n",
       "15. 'TE'\n",
       "16. 'EM.'\n",
       "17. 'CM.'\n",
       "18. 'Na..ve.'\n",
       "19. 'SCM.'\n",
       "20. 'TE.'\n",
       "21. 'Na..ve.TE'\n",
       "22. 'N.CM.SCM.TE.EM'\n",
       "23. 'PD.1'\n",
       "24. 'PDL1'\n",
       "25. 'LAG3'\n",
       "26. 'TIM3'\n",
       "27. 'CTLA4'\n",
       "28. 'PD1.'\n",
       "29. 'PDL1.'\n",
       "30. 'LAG3.'\n",
       "31. 'TIM3.'\n",
       "32. 'CTLA4.'\n",
       "33. 'Any.NCR'\n",
       "34. 'PD1...LAG3...TIM3'\n",
       "35. 'cancergroup'\n",
       "36. 'TRB'\n",
       "37. 'Reads'\n",
       "38. 'CPKR'\n",
       "39. 'Average_reads'\n",
       "40. 'VMR'\n",
       "41. 'Max_reads'\n",
       "42. 'Singletons'\n",
       "43. 'Doubletons'\n",
       "44. 'qD'\n",
       "45. 'Sample_Coverage'\n",
       "46. 'observed_Richness'\n",
       "47. 'estimated_Richness'\n",
       "48. 'SE_Richeness'\n",
       "49. 'observed_Shannon'\n",
       "50. 'estimated_Shannon'\n",
       "51. 'SE_Shannon'\n",
       "52. 'observed_Simpson'\n",
       "53. 'estimated_Simpson'\n",
       "54. 'SE_Simpson'\n",
       "55. 'file'\n",
       "56. 'basename'\n",
       "57. 'Group'\n",
       "58. 'sampletype'\n",
       "59. 'agegroup'\n",
       "60. 'Cyclegroup'\n",
       "\n",
       "\n"
      ],
      "text/plain": [
       " [1] \"sample_id\"          \"Patient\"            \"cycle\"             \n",
       " [4] \"FOLD\"               \"ATC\"                \"Age\"               \n",
       " [7] \"Disease_type\"       \"TE_fold\"            \"Pass\"              \n",
       "[10] \"CD3\"                \"EM\"                 \"CM\"                \n",
       "[13] \"Na..ve\"             \"SCM\"                \"TE\"                \n",
       "[16] \"EM.\"                \"CM.\"                \"Na..ve.\"           \n",
       "[19] \"SCM.\"               \"TE.\"                \"Na..ve.TE\"         \n",
       "[22] \"N.CM.SCM.TE.EM\"     \"PD.1\"               \"PDL1\"              \n",
       "[25] \"LAG3\"               \"TIM3\"               \"CTLA4\"             \n",
       "[28] \"PD1.\"               \"PDL1.\"              \"LAG3.\"             \n",
       "[31] \"TIM3.\"              \"CTLA4.\"             \"Any.NCR\"           \n",
       "[34] \"PD1...LAG3...TIM3\"  \"cancergroup\"        \"TRB\"               \n",
       "[37] \"Reads\"              \"CPKR\"               \"Average_reads\"     \n",
       "[40] \"VMR\"                \"Max_reads\"          \"Singletons\"        \n",
       "[43] \"Doubletons\"         \"qD\"                 \"Sample_Coverage\"   \n",
       "[46] \"observed_Richness\"  \"estimated_Richness\" \"SE_Richeness\"      \n",
       "[49] \"observed_Shannon\"   \"estimated_Shannon\"  \"SE_Shannon\"        \n",
       "[52] \"observed_Simpson\"   \"estimated_Simpson\"  \"SE_Simpson\"        \n",
       "[55] \"file\"               \"basename\"           \"Group\"             \n",
       "[58] \"sampletype\"         \"agegroup\"           \"Cyclegroup\"        "
      ]
     },
     "metadata": {},
     "output_type": "display_data"
    }
   ],
   "source": [
    "colnames(pbmc)"
   ]
  },
  {
   "cell_type": "code",
   "execution_count": 62,
   "metadata": {
    "vscode": {
     "languageId": "r"
    }
   },
   "outputs": [],
   "source": [
    "dd <- datadist(pbmc[ , c(\"cycle\", \"Disease_type\", \"Age\", \"Na..ve.\", \"TE.\",\"SCM.\", \"CM.\", \"EM.\", \"cancergroup\", \"agegroup\")])\n",
    "options(datadist=\"dd\")"
   ]
  },
  {
   "cell_type": "code",
   "execution_count": 63,
   "metadata": {
    "vscode": {
     "languageId": "r"
    }
   },
   "outputs": [],
   "source": [
    "options(prType=\"plain\")"
   ]
  },
  {
   "cell_type": "code",
   "execution_count": 64,
   "metadata": {
    "vscode": {
     "languageId": "r"
    }
   },
   "outputs": [],
   "source": [
    "f <- ols(Na..ve. ~ cycle + cancergroup + Age, data = pbmc)\n"
   ]
  },
  {
   "cell_type": "code",
   "execution_count": 65,
   "metadata": {
    "vscode": {
     "languageId": "r"
    }
   },
   "outputs": [
    {
     "data": {
      "text/plain": [
       "Frequencies of Missing Values Due to Each Variable\n",
       "    Na..ve.       cycle cancergroup         Age \n",
       "          3           0           0           0 \n",
       "\n",
       "Linear Regression Model\n",
       "\n",
       "ols(formula = Na..ve. ~ cycle + cancergroup + Age, data = pbmc)\n",
       "\n",
       "\n",
       "                 Model Likelihood    Discrimination    \n",
       "                       Ratio Test           Indexes    \n",
       "Obs      157    LR chi2     20.16    R2       0.120    \n",
       "sigma20.4064    d.f.            7    R2 adj   0.079    \n",
       "d.f.     149    Pr(> chi2) 0.0052    g        8.462    \n",
       "\n",
       "Residuals\n",
       "\n",
       "    Min      1Q  Median      3Q     Max \n",
       "-31.533 -14.712  -4.469  13.417  57.077 \n",
       "\n",
       "\n",
       "                         Coef    S.E.   t     Pr(>|t|)\n",
       "Intercept                31.8870 4.0101  7.95 <0.0001 \n",
       "cycle=X02                -7.2730 4.5225 -1.61 0.1099  \n",
       "cycle=X03                -5.2002 4.5648 -1.14 0.2564  \n",
       "cycle=X04                -8.9495 5.3187 -1.68 0.0945  \n",
       "cycle=X05                -5.6100 5.6073 -1.00 0.3187  \n",
       "cancergroup=Lymphoma     -0.9562 5.7967 -0.16 0.8692  \n",
       "cancergroup=Solid tumors  6.5511 3.5079  1.87 0.0638  \n",
       "Age                      -0.8523 0.2928 -2.91 0.0042  \n"
      ]
     },
     "metadata": {},
     "output_type": "display_data"
    }
   ],
   "source": [
    "f"
   ]
  },
  {
   "cell_type": "code",
   "execution_count": 66,
   "metadata": {
    "vscode": {
     "languageId": "r"
    }
   },
   "outputs": [
    {
     "data": {
      "text/html": [
       "<table class=\"dataframe\">\n",
       "<caption>A anova.rms: 5 x 5 of type dbl</caption>\n",
       "<thead>\n",
       "\t<tr><th></th><th scope=col>d.f.</th><th scope=col>Partial SS</th><th scope=col>MS</th><th scope=col>F</th><th scope=col>P</th></tr>\n",
       "</thead>\n",
       "<tbody>\n",
       "\t<tr><th scope=row>cycle</th><td>  4</td><td> 1735.515</td><td> 433.8788</td><td>1.041927</td><td>0.387662509</td></tr>\n",
       "\t<tr><th scope=row>cancergroup</th><td>  2</td><td> 1729.386</td><td> 864.6932</td><td>2.076495</td><td>0.128981905</td></tr>\n",
       "\t<tr><th scope=row>Age</th><td>  1</td><td> 3529.126</td><td>3529.1260</td><td>8.474928</td><td>0.004154124</td></tr>\n",
       "\t<tr><th scope=row>TOTAL</th><td>  7</td><td> 8500.730</td><td>1214.3901</td><td>2.916265</td><td>0.006895736</td></tr>\n",
       "\t<tr><th scope=row>ERROR</th><td>149</td><td>62046.521</td><td> 416.4196</td><td>      NA</td><td>         NA</td></tr>\n",
       "</tbody>\n",
       "</table>\n"
      ],
      "text/latex": [
       "A anova.rms: 5 x 5 of type dbl\n",
       "\\begin{tabular}{r|lllll}\n",
       "  & d.f. & Partial SS & MS & F & P\\\\\n",
       "\\hline\n",
       "\tcycle &   4 &  1735.515 &  433.8788 & 1.041927 & 0.387662509\\\\\n",
       "\tcancergroup &   2 &  1729.386 &  864.6932 & 2.076495 & 0.128981905\\\\\n",
       "\tAge &   1 &  3529.126 & 3529.1260 & 8.474928 & 0.004154124\\\\\n",
       "\tTOTAL &   7 &  8500.730 & 1214.3901 & 2.916265 & 0.006895736\\\\\n",
       "\tERROR & 149 & 62046.521 &  416.4196 &       NA &          NA\\\\\n",
       "\\end{tabular}\n"
      ],
      "text/markdown": [
       "\n",
       "A anova.rms: 5 x 5 of type dbl\n",
       "\n",
       "| <!--/--> | d.f. | Partial SS | MS | F | P |\n",
       "|---|---|---|---|---|---|\n",
       "| cycle |   4 |  1735.515 |  433.8788 | 1.041927 | 0.387662509 |\n",
       "| cancergroup |   2 |  1729.386 |  864.6932 | 2.076495 | 0.128981905 |\n",
       "| Age |   1 |  3529.126 | 3529.1260 | 8.474928 | 0.004154124 |\n",
       "| TOTAL |   7 |  8500.730 | 1214.3901 | 2.916265 | 0.006895736 |\n",
       "| ERROR | 149 | 62046.521 |  416.4196 |       NA |          NA |\n",
       "\n"
      ],
      "text/plain": [
       "            d.f. Partial SS MS        F        P          \n",
       "cycle         4   1735.515   433.8788 1.041927 0.387662509\n",
       "cancergroup   2   1729.386   864.6932 2.076495 0.128981905\n",
       "Age           1   3529.126  3529.1260 8.474928 0.004154124\n",
       "TOTAL         7   8500.730  1214.3901 2.916265 0.006895736\n",
       "ERROR       149  62046.521   416.4196       NA          NA"
      ]
     },
     "metadata": {},
     "output_type": "display_data"
    }
   ],
   "source": [
    "anova(f)"
   ]
  },
  {
   "cell_type": "code",
   "execution_count": 67,
   "metadata": {
    "vscode": {
     "languageId": "r"
    }
   },
   "outputs": [
    {
     "data": {
      "text/plain": [
       "Frequencies of Missing Values Due to Each Variable\n",
       "    Na..ve.       cycle cancergroup    agegroup \n",
       "          3           0           0           0 \n",
       "\n",
       "Linear Regression Model\n",
       "\n",
       "ols(formula = Na..ve. ~ cycle + cancergroup + agegroup, data = pbmc)\n",
       "\n",
       "\n",
       "                 Model Likelihood    Discrimination    \n",
       "                       Ratio Test           Indexes    \n",
       "Obs      157    LR chi2     34.50    R2       0.197    \n",
       "sigma19.6943    d.f.           10    R2 adj   0.142    \n",
       "d.f.     146    Pr(> chi2) 0.0002    g       10.343    \n",
       "\n",
       "Residuals\n",
       "\n",
       "    Min      1Q  Median      3Q     Max \n",
       "-35.559 -14.523  -6.462  13.389  55.057 \n",
       "\n",
       "\n",
       "                         Coef     S.E.   t     Pr(>|t|)\n",
       "Intercept                 38.4916 4.3130  8.92 <0.0001 \n",
       "cycle=X02                 -6.2435 4.3724 -1.43 0.1554  \n",
       "cycle=X03                 -2.4136 4.4494 -0.54 0.5883  \n",
       "cycle=X04                 -9.5381 5.1378 -1.86 0.0654  \n",
       "cycle=X05                 -2.7792 5.4709 -0.51 0.6122  \n",
       "cancergroup=Lymphoma      -5.0934 5.7841 -0.88 0.3800  \n",
       "cancergroup=Solid tumors   7.0217 3.4941  2.01 0.0463  \n",
       "agegroup=2-4 yrs         -18.7148 5.4756 -3.42 0.0008  \n",
       "agegroup=5-11 yrs        -20.1213 4.5513 -4.42 <0.0001 \n",
       "agegroup=12-17 yrs       -16.8333 4.9116 -3.43 0.0008  \n",
       "agegroup=>= 18 yrs       -16.7010 6.9405 -2.41 0.0174  \n"
      ]
     },
     "metadata": {},
     "output_type": "display_data"
    }
   ],
   "source": [
    "f <- ols(Na..ve. ~ cycle + cancergroup + agegroup, data = pbmc)\n",
    "f"
   ]
  },
  {
   "attachments": {},
   "cell_type": "markdown",
   "metadata": {},
   "source": [
    "## plots for age groups"
   ]
  },
  {
   "attachments": {},
   "cell_type": "markdown",
   "metadata": {},
   "source": [
    "### PBMC"
   ]
  },
  {
   "cell_type": "code",
   "execution_count": 68,
   "metadata": {
    "vscode": {
     "languageId": "r"
    }
   },
   "outputs": [
    {
     "data": {
      "text/plain": [
       "\n",
       "  < 2 yrs   2-4 yrs  5-11 yrs 12-17 yrs >= 18 yrs \n",
       "       36        22        46        43        13 "
      ]
     },
     "metadata": {},
     "output_type": "display_data"
    }
   ],
   "source": [
    "table(pbmc$agegroup)"
   ]
  },
  {
   "cell_type": "code",
   "execution_count": 69,
   "metadata": {
    "vscode": {
     "languageId": "r"
    }
   },
   "outputs": [],
   "source": [
    "pbmc$agegroup <- factor(pbmc$agegroup, levels = c(\"< 2 yrs\", \"2-4 yrs\", \"5-11 yrs\", \"12-17 yrs\", \">= 18 yrs\"))"
   ]
  },
  {
   "cell_type": "code",
   "execution_count": 70,
   "metadata": {
    "vscode": {
     "languageId": "r"
    }
   },
   "outputs": [],
   "source": [
    "pbmc$Cyclegroup <- NA\n",
    "pbmc$Cyclegroup[ pbmc$cycle == \"X01\"] <- \"Baseline\"\n",
    "pbmc$Cyclegroup[ pbmc$cycle %in% c(\"X02\", \"X03\")] <- \"Early chemo\"\n",
    "pbmc$Cyclegroup[ pbmc$cycle %in% c(\"X04\", \"X05\")] <- \"Late chemo\""
   ]
  },
  {
   "cell_type": "code",
   "execution_count": 114,
   "metadata": {
    "vscode": {
     "languageId": "r"
    }
   },
   "outputs": [
    {
     "data": {
      "text/plain": [
       "Linear Regression Model\n",
       "\n",
       "ols(formula = Na..ve. ~ agegroup + cancergroup, data = pbmc[pbmc$Cyclegroup == \n",
       "    \"Baseline\", ])\n",
       "\n",
       "                 Model Likelihood    Discrimination    \n",
       "                       Ratio Test           Indexes    \n",
       "Obs       51    LR chi2     23.03    R2       0.363    \n",
       "sigma19.3141    d.f.            6    R2 adj   0.277    \n",
       "d.f.      44    Pr(> chi2) 0.0008    g       14.921    \n",
       "\n",
       "Residuals\n",
       "\n",
       "    Min      1Q  Median      3Q     Max \n",
       "-32.435 -13.274  -2.323  11.431  48.381 \n",
       "\n",
       "\n",
       "                         Coef     S.E.    t     Pr(>|t|)\n",
       "Intercept                 31.6319  6.1757  5.12 <0.0001 \n",
       "agegroup=2-4 yrs         -14.6862 10.0156 -1.47 0.1497  \n",
       "agegroup=5-11 yrs        -29.0646  7.9668 -3.65 0.0007  \n",
       "agegroup=12-17 yrs       -20.0530  8.1240 -2.47 0.0175  \n",
       "agegroup=>= 18 yrs       -21.6792 10.7975 -2.01 0.0508  \n",
       "cancergroup=Lymphoma      13.6811  9.4233  1.45 0.1536  \n",
       "cancergroup=Solid tumors  23.9734  6.6584  3.60 0.0008  \n"
      ]
     },
     "metadata": {},
     "output_type": "display_data"
    }
   ],
   "source": [
    "f <- ols(Na..ve. ~  agegroup + cancergroup, data = pbmc[pbmc$Cyclegroup == \"Baseline\",])\n",
    "f"
   ]
  },
  {
   "cell_type": "code",
   "execution_count": 111,
   "metadata": {
    "vscode": {
     "languageId": "r"
    }
   },
   "outputs": [
    {
     "data": {
      "text/plain": [
       "Frequencies of Missing Values Due to Each Variable\n",
       "    Na..ve.    agegroup cancergroup \n",
       "          3           0           0 \n",
       "\n",
       "Linear Regression Model\n",
       "\n",
       "ols(formula = Na..ve. ~ agegroup + cancergroup, data = pbmc[pbmc$Cyclegroup == \n",
       "    \"Early chemo\", ])\n",
       "\n",
       "\n",
       "                 Model Likelihood    Discrimination    \n",
       "                       Ratio Test           Indexes    \n",
       "Obs       67    LR chi2      7.96    R2       0.112    \n",
       "sigma19.9060    d.f.            6    R2 adj   0.023    \n",
       "d.f.      60    Pr(> chi2) 0.2409    g        7.303    \n",
       "\n",
       "Residuals\n",
       "\n",
       "    Min      1Q  Median      3Q     Max \n",
       "-23.726 -16.246  -5.422  14.657  42.213 \n",
       "\n",
       "\n",
       "                         Coef     S.E.    t     Pr(>|t|)\n",
       "Intercept                 32.1550  6.3289  5.08 <0.0001 \n",
       "agegroup=2-4 yrs          -9.9274  8.1386 -1.22 0.2273  \n",
       "agegroup=5-11 yrs        -12.8178  7.2311 -1.77 0.0814  \n",
       "agegroup=12-17 yrs        -7.4430  8.1344 -0.92 0.3639  \n",
       "agegroup=>= 18 yrs       -10.4624 10.9458 -0.96 0.3430  \n",
       "cancergroup=Lymphoma     -15.6520  9.1536 -1.71 0.0924  \n",
       "cancergroup=Solid tumors  -0.8888  5.3046 -0.17 0.8675  \n"
      ]
     },
     "metadata": {},
     "output_type": "display_data"
    }
   ],
   "source": [
    "f <- ols(Na..ve. ~  agegroup + cancergroup, data = pbmc[pbmc$Cyclegroup == \"Early chemo\",])\n",
    "f\n"
   ]
  },
  {
   "cell_type": "code",
   "execution_count": 113,
   "metadata": {
    "vscode": {
     "languageId": "r"
    }
   },
   "outputs": [
    {
     "data": {
      "text/plain": [
       "Linear Regression Model\n",
       "\n",
       "ols(formula = Na..ve. ~ agegroup + cancergroup, data = pbmc[pbmc$Cyclegroup == \n",
       "    \"Late chemo\", ])\n",
       "\n",
       "                 Model Likelihood    Discrimination    \n",
       "                       Ratio Test           Indexes    \n",
       "Obs       39    LR chi2     16.60    R2       0.347    \n",
       "sigma18.5433    d.f.            6    R2 adj   0.224    \n",
       "d.f.      32    Pr(> chi2) 0.0109    g       13.520    \n",
       "\n",
       "Residuals\n",
       "\n",
       "    Min      1Q  Median      3Q     Max \n",
       "-34.856 -12.963  -1.511  12.142  27.963 \n",
       "\n",
       "\n",
       "                         Coef     S.E.    t     Pr(>|t|)\n",
       "Intercept                 39.5181  7.1715  5.51 <0.0001 \n",
       "agegroup=2-4 yrs         -29.1849 11.1491 -2.62 0.0134  \n",
       "agegroup=5-11 yrs        -21.4562  8.0906 -2.65 0.0123  \n",
       "agegroup=12-17 yrs       -27.0896  8.8918 -3.05 0.0046  \n",
       "agegroup=>= 18 yrs       -23.5021 15.6869 -1.50 0.1439  \n",
       "cancergroup=Lymphoma     -10.6804 11.8023 -0.90 0.3723  \n",
       "cancergroup=Solid tumors   3.1000  6.5457  0.47 0.6390  \n"
      ]
     },
     "metadata": {},
     "output_type": "display_data"
    }
   ],
   "source": [
    "f <- ols(Na..ve. ~  agegroup + cancergroup, data = pbmc[pbmc$Cyclegroup == \"Late chemo\",])\n",
    "f"
   ]
  },
  {
   "cell_type": "code",
   "execution_count": 119,
   "metadata": {
    "vscode": {
     "languageId": "r"
    }
   },
   "outputs": [],
   "source": [
    "annotation_df <- data.frame(\n",
    "  Cyclegroup = c(\"Baseline\",\"Baseline\", \"Baseline\", \"Late chemo\", \"Late chemo\", \"Late chemo\"),\n",
    "  start = c(\"< 2 yrs\", \"< 2 yrs\", \"< 2 yrs\", \"< 2 yrs\", \"< 2 yrs\", \"< 2 yrs\"),\n",
    "  end = c(\"5-11 yrs\", \"12-17 yrs\", \">= 18 yrs\", \"2-4 yrs\", \"5-11 yrs\", \"12-17 yrs\"),\n",
    "  y = c(80,90,100,80,90,100),\n",
    "  label = c(\"p = 0.0007\", \"p = 0.02\",\"p = 0.05\", \"p = 0.01\", \"p = 0.01\", \"p = 0.005\") )"
   ]
  },
  {
   "cell_type": "code",
   "execution_count": 120,
   "metadata": {
    "vscode": {
     "languageId": "r"
    }
   },
   "outputs": [],
   "source": [
    "p_pbmc <- baseplot_flow.fx(pbmc, \"agegroup\", \"Na..ve.\", \"cancergroup\", group_col, \"PBMC\")"
   ]
  },
  {
   "cell_type": "code",
   "execution_count": 121,
   "metadata": {
    "vscode": {
     "languageId": "r"
    }
   },
   "outputs": [
    {
     "name": "stderr",
     "output_type": "stream",
     "text": [
      "Warning message in geom_signif(data = annotation_df, aes(xmin = start, xmax = end, :\n",
      "“\u001b[1m\u001b[22mIgnoring unknown aesthetics: \u001b[32mxmin\u001b[39m, \u001b[32mxmax\u001b[39m, \u001b[32mannotations\u001b[39m, and \u001b[32my_position\u001b[39m”\n",
      "Warning message:\n",
      "“\u001b[1m\u001b[22mRemoved 3 rows containing non-finite values (`stat_boxplot()`).”\n",
      "Warning message:\n",
      "“\u001b[1m\u001b[22mRemoved 3 rows containing missing values (`geom_point()`).”\n"
     ]
    },
    {
     "data": {
      "image/png": "[encoded data removed]",
      "text/plain": [
       "plot without title"
      ]
     },
     "metadata": {
      "image/png": {
       "height": 420,
       "width": 420
      }
     },
     "output_type": "display_data"
    }
   ],
   "source": [
    "p_pbmc <- p_pbmc + \n",
    "geom_signif(\n",
    "    data = annotation_df,\n",
    "    aes(xmin = start, xmax = end, annotations = label, y_position = y),\n",
    "    textsize = 5, vjust = 0, tip_length = 0.01,\n",
    "    manual = TRUE\n",
    "  ) +\n",
    "facet_wrap(~Cyclegroup, nrow = 1) + \n",
    "labs( y = \"% Naive T cells\")\n",
    "\n",
    "p_pbmc"
   ]
  },
  {
   "cell_type": "code",
   "execution_count": 122,
   "metadata": {
    "vscode": {
     "languageId": "r"
    }
   },
   "outputs": [
    {
     "name": "stderr",
     "output_type": "stream",
     "text": [
      "Warning message:\n",
      "“\u001b[1m\u001b[22mRemoved 3 rows containing non-finite values (`stat_boxplot()`).”\n",
      "Warning message:\n",
      "“\u001b[1m\u001b[22mRemoved 3 rows containing missing values (`geom_point()`).”\n"
     ]
    },
    {
     "data": {
      "text/html": [
       "<strong>pdf:</strong> 2"
      ],
      "text/latex": [
       "\\textbf{pdf:} 2"
      ],
      "text/markdown": [
       "**pdf:** 2"
      ],
      "text/plain": [
       "pdf \n",
       "  2 "
      ]
     },
     "metadata": {},
     "output_type": "display_data"
    }
   ],
   "source": [
    "pdf(paste0(plotpath, \"pbmc_Naive_age_facet_cycle.pdf\"), width = 8, height = 6)\n",
    "p_pbmc + theme(legend.position = \"bottom\")+ \n",
    "theme(strip.background = element_blank(),\n",
    "          strip.text = element_text(size = 15),\n",
    "          strip.placement = \"outside\",\n",
    "          panel.border = element_rect(color = \"black\", fill = NA, size = 0.5))\n",
    "dev.off()"
   ]
  },
  {
   "attachments": {},
   "cell_type": "markdown",
   "metadata": {},
   "source": [
    "## Plots for cancer groups"
   ]
  },
  {
   "cell_type": "code",
   "execution_count": 96,
   "metadata": {
    "vscode": {
     "languageId": "r"
    }
   },
   "outputs": [
    {
     "data": {
      "text/plain": [
       "Linear Regression Model\n",
       "\n",
       "ols(formula = Na..ve. ~ cancergroup + Age, data = pbmc[pbmc$Cyclegroup == \n",
       "    \"Baseline\", ])\n",
       "\n",
       "                 Model Likelihood    Discrimination    \n",
       "                       Ratio Test           Indexes    \n",
       "Obs       51    LR chi2     13.56    R2       0.233    \n",
       "sigma20.5062    d.f.            3    R2 adj   0.184    \n",
       "d.f.      47    Pr(> chi2) 0.0036    g       12.368    \n",
       "\n",
       "Residuals\n",
       "\n",
       "    Min      1Q  Median      3Q     Max \n",
       "-33.950 -13.923  -1.097   7.718  55.401 \n",
       "\n",
       "\n",
       "                         Coef    S.E.   t     Pr(>|t|)\n",
       "Intercept                24.7191 5.3026  4.66 <0.0001 \n",
       "cancergroup=Lymphoma     17.3274 9.7408  1.78 0.0817  \n",
       "cancergroup=Solid tumors 21.6641 6.3601  3.41 0.0014  \n",
       "Age                      -1.0746 0.4886 -2.20 0.0328  \n"
      ]
     },
     "metadata": {},
     "output_type": "display_data"
    }
   ],
   "source": [
    "f <- ols(Na..ve. ~  cancergroup + Age, data = pbmc[pbmc$Cyclegroup == \"Baseline\",])\n",
    "f"
   ]
  },
  {
   "cell_type": "code",
   "execution_count": 97,
   "metadata": {
    "vscode": {
     "languageId": "r"
    }
   },
   "outputs": [
    {
     "data": {
      "text/plain": [
       "Frequencies of Missing Values Due to Each Variable\n",
       "    Na..ve. cancergroup         Age \n",
       "          3           0           0 \n",
       "\n",
       "Linear Regression Model\n",
       "\n",
       "ols(formula = Na..ve. ~ cancergroup + Age, data = pbmc[pbmc$Cyclegroup == \n",
       "    \"Early chemo\", ])\n",
       "\n",
       "\n",
       "                 Model Likelihood    Discrimination    \n",
       "                       Ratio Test           Indexes    \n",
       "Obs       67    LR chi2      6.19    R2       0.088    \n",
       "sigma19.6842    d.f.            3    R2 adj   0.045    \n",
       "d.f.      63    Pr(> chi2) 0.1025    g        6.384    \n",
       "\n",
       "Residuals\n",
       "\n",
       "    Min      1Q  Median      3Q     Max \n",
       "-27.378 -17.264  -3.955  11.822  42.953 \n",
       "\n",
       "\n",
       "                         Coef     S.E.   t     Pr(>|t|)\n",
       "Intercept                 28.5683 4.9851  5.73 <0.0001 \n",
       "cancergroup=Lymphoma     -11.4171 8.5789 -1.33 0.1880  \n",
       "cancergroup=Solid tumors  -2.1971 5.1482 -0.43 0.6710  \n",
       "Age                       -0.5951 0.4487 -1.33 0.1895  \n"
      ]
     },
     "metadata": {},
     "output_type": "display_data"
    }
   ],
   "source": [
    "f <- ols(Na..ve. ~  cancergroup + Age, data = pbmc[pbmc$Cyclegroup == \"Early chemo\",])\n",
    "f"
   ]
  },
  {
   "cell_type": "code",
   "execution_count": 98,
   "metadata": {
    "vscode": {
     "languageId": "r"
    }
   },
   "outputs": [
    {
     "data": {
      "text/plain": [
       "Linear Regression Model\n",
       "\n",
       "ols(formula = Na..ve. ~ cancergroup + Age, data = pbmc[pbmc$Cyclegroup == \n",
       "    \"Late chemo\", ])\n",
       "\n",
       "                 Model Likelihood    Discrimination    \n",
       "                       Ratio Test           Indexes    \n",
       "Obs       39    LR chi2     10.40    R2       0.234    \n",
       "sigma19.1982    d.f.            3    R2 adj   0.168    \n",
       "d.f.      35    Pr(> chi2) 0.0155    g       11.613    \n",
       "\n",
       "Residuals\n",
       "\n",
       "    Min      1Q  Median      3Q     Max \n",
       "-31.691 -15.974   2.067  14.746  36.230 \n",
       "\n",
       "\n",
       "                         Coef    S.E.    t     Pr(>|t|)\n",
       "Intercept                31.6404  6.4479  4.91 <0.0001 \n",
       "cancergroup=Lymphoma     -6.7341 11.9246 -0.56 0.5759  \n",
       "cancergroup=Solid tumors  3.3619  6.6336  0.51 0.6155  \n",
       "Age                      -1.4598  0.5755 -2.54 0.0158  \n"
      ]
     },
     "metadata": {},
     "output_type": "display_data"
    }
   ],
   "source": [
    "f <- ols(Na..ve. ~  cancergroup + Age, data = pbmc[pbmc$Cyclegroup == \"Late chemo\",])\n",
    "f"
   ]
  },
  {
   "cell_type": "code",
   "execution_count": 107,
   "metadata": {
    "vscode": {
     "languageId": "r"
    }
   },
   "outputs": [],
   "source": [
    "annotation_df <- data.frame(\n",
    "  Cyclegroup = \"Baseline\",\n",
    "  start = \"Leukemia\",\n",
    "  end = \"Solid tumors\",\n",
    "  y = 100,\n",
    "  label = \"p = 0.001\" )"
   ]
  },
  {
   "cell_type": "code",
   "execution_count": 108,
   "metadata": {
    "vscode": {
     "languageId": "r"
    }
   },
   "outputs": [],
   "source": [
    "p_pbmc <- baseplot_flow.fx(pbmc, \"cancergroup\", \"Na..ve.\", \"cycle\", rep(\"grey\",5), \"PBMC\")"
   ]
  },
  {
   "cell_type": "code",
   "execution_count": 109,
   "metadata": {
    "vscode": {
     "languageId": "r"
    }
   },
   "outputs": [
    {
     "name": "stderr",
     "output_type": "stream",
     "text": [
      "Warning message in geom_signif(data = annotation_df, aes(xmin = start, xmax = end, :\n",
      "“\u001b[1m\u001b[22mIgnoring unknown aesthetics: \u001b[32mxmin\u001b[39m, \u001b[32mxmax\u001b[39m, \u001b[32mannotations\u001b[39m, and \u001b[32my_position\u001b[39m”\n",
      "Warning message:\n",
      "“\u001b[1m\u001b[22mRemoved 3 rows containing non-finite values (`stat_boxplot()`).”\n",
      "Warning message:\n",
      "“\u001b[1m\u001b[22mRemoved 3 rows containing missing values (`geom_point()`).”\n"
     ]
    },
    {
     "data": {
      "image/png": "[encoded data removed]",
      "text/plain": [
       "plot without title"
      ]
     },
     "metadata": {
      "image/png": {
       "height": 420,
       "width": 420
      }
     },
     "output_type": "display_data"
    }
   ],
   "source": [
    "p_pbmc <- p_pbmc + \n",
    "geom_signif(\n",
    "    data = annotation_df,\n",
    "    aes(xmin = start, xmax = end, annotations = label, y_position = y),\n",
    "    textsize = 5, vjust = 0, tip_length = 0.01,\n",
    "    manual = TRUE\n",
    "  ) +\n",
    "facet_wrap(~Cyclegroup, nrow = 1) + \n",
    "labs( y = \"% Naive T cells\")\n",
    "\n",
    "p_pbmc"
   ]
  },
  {
   "cell_type": "code",
   "execution_count": 110,
   "metadata": {
    "vscode": {
     "languageId": "r"
    }
   },
   "outputs": [
    {
     "name": "stderr",
     "output_type": "stream",
     "text": [
      "Warning message:\n",
      "“\u001b[1m\u001b[22mRemoved 3 rows containing non-finite values (`stat_boxplot()`).”\n",
      "Warning message:\n",
      "“\u001b[1m\u001b[22mRemoved 3 rows containing missing values (`geom_point()`).”\n"
     ]
    },
    {
     "data": {
      "text/html": [
       "<strong>pdf:</strong> 2"
      ],
      "text/latex": [
       "\\textbf{pdf:} 2"
      ],
      "text/markdown": [
       "**pdf:** 2"
      ],
      "text/plain": [
       "pdf \n",
       "  2 "
      ]
     },
     "metadata": {},
     "output_type": "display_data"
    }
   ],
   "source": [
    "pdf(paste0(plotpath, \"pbmc_Naive_cancergroup_facet.pdf\"), width = 8, height = 6)\n",
    "p_pbmc + theme(legend.position = \"none\")+ \n",
    "theme(strip.background = element_blank(),\n",
    "          strip.text = element_text(size = 15),\n",
    "          strip.placement = \"outside\",\n",
    "          panel.border = element_rect(color = \"black\", fill = NA, size = 0.5))\n",
    "dev.off()"
   ]
  },
  {
   "cell_type": "code",
   "execution_count": null,
   "metadata": {
    "vscode": {
     "languageId": "r"
    }
   },
   "outputs": [],
   "source": []
  },
  {
   "cell_type": "code",
   "execution_count": null,
   "metadata": {
    "vscode": {
     "languageId": "r"
    }
   },
   "outputs": [],
   "source": []
  },
  {
   "cell_type": "code",
   "execution_count": null,
   "metadata": {
    "vscode": {
     "languageId": "r"
    }
   },
   "outputs": [],
   "source": []
  },
  {
   "cell_type": "code",
   "execution_count": null,
   "metadata": {
    "vscode": {
     "languageId": "r"
    }
   },
   "outputs": [],
   "source": []
  },
  {
   "cell_type": "code",
   "execution_count": null,
   "metadata": {
    "vscode": {
     "languageId": "r"
    }
   },
   "outputs": [],
   "source": []
  },
  {
   "cell_type": "code",
   "execution_count": null,
   "metadata": {
    "vscode": {
     "languageId": "r"
    }
   },
   "outputs": [],
   "source": []
  },
  {
   "cell_type": "code",
   "execution_count": null,
   "metadata": {
    "vscode": {
     "languageId": "r"
    }
   },
   "outputs": [],
   "source": []
  }
 ],
 "metadata": {
  "kernelspec": {
   "display_name": "R 4.0",
   "language": "R",
   "name": "ir40"
  },
  "language_info": {
   "codemirror_mode": "r",
   "file_extension": ".r",
   "mimetype": "text/x-r-source",
   "name": "R",
   "pygments_lexer": "r",
   "version": "4.2.2"
  },
  "toc": {
   "base_numbering": 1,
   "nav_menu": {},
   "number_sections": false,
   "sideBar": true,
   "skip_h1_title": false,
   "title_cell": "Table of Contents",
   "title_sidebar": "Contents",
   "toc_cell": true,
   "toc_position": {
    "height": "calc(100% - 180px)",
    "left": "10px",
    "top": "150px",
    "width": "186.15px"
   },
   "toc_section_display": true,
   "toc_window_display": true
  }
 },
 "nbformat": 4,
 "nbformat_minor": 2
}
