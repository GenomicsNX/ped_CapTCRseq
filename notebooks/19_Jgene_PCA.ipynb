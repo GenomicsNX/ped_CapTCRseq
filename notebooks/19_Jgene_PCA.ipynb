{
 "cells": [
  {
   "attachments": {},
   "cell_type": "markdown",
   "metadata": {},
   "source": [
    "# Dependencies"
   ]
  },
  {
   "cell_type": "code",
   "execution_count": 39,
   "metadata": {
    "vscode": {
     "languageId": "r"
    }
   },
   "outputs": [],
   "source": [
    "pacman::p_load(factoextra, dplyr)"
   ]
  },
  {
   "attachments": {},
   "cell_type": "markdown",
   "metadata": {},
   "source": [
    "# Functions"
   ]
  },
  {
   "attachments": {},
   "cell_type": "markdown",
   "metadata": {},
   "source": [
    "# Paths"
   ]
  },
  {
   "cell_type": "code",
   "execution_count": 40,
   "metadata": {
    "vscode": {
     "languageId": "r"
    }
   },
   "outputs": [],
   "source": [
    "datapath <- \"/Users/anabbi/OneDrive - UHN/Documents/INTERCEPT/Data/\"\n",
    "plotpath <- \"/Users/anabbi/OneDrive - UHN/Documents/INTERCEPT/Plots/\"\n",
    "manifestpath <- \"/Users/anabbi/OneDrive - UHN/Documents/INTERCEPT/Manifests/\"\n",
    "gitpath <- \"/Users/anabbi/git/ped_CapTCRseq/\"\n",
    "h4hpath <- \"/Users/anabbi/Desktop/H4H/INTERCEPT/\""
   ]
  },
  {
   "attachments": {},
   "cell_type": "markdown",
   "metadata": {},
   "source": [
    "# Main"
   ]
  },
  {
   "cell_type": "code",
   "execution_count": 41,
   "metadata": {
    "vscode": {
     "languageId": "r"
    }
   },
   "outputs": [],
   "source": [
    "meta_div <- readr::read_rds(paste0(datapath, \"capTCRseq/meta_div_goodsamples.rds\"))"
   ]
  },
  {
   "cell_type": "code",
   "execution_count": 42,
   "metadata": {
    "vscode": {
     "languageId": "r"
    }
   },
   "outputs": [],
   "source": [
    "meta_div <- meta_div[ !is.na(meta_div$TRB), ]"
   ]
  },
  {
   "cell_type": "code",
   "execution_count": 43,
   "metadata": {
    "vscode": {
     "languageId": "r"
    }
   },
   "outputs": [
    {
     "data": {
      "text/plain": [
       "\n",
       " PBMC Tumor cfDNA \n",
       "  258    17   270 "
      ]
     },
     "metadata": {},
     "output_type": "display_data"
    }
   ],
   "source": [
    "table(meta_div$sampletype)"
   ]
  },
  {
   "cell_type": "code",
   "execution_count": 44,
   "metadata": {
    "vscode": {
     "languageId": "r"
    }
   },
   "outputs": [],
   "source": [
    "meta_div <- meta_div[ meta_div$sampletype == \"PBMC\",]"
   ]
  },
  {
   "cell_type": "code",
   "execution_count": 45,
   "metadata": {
    "vscode": {
     "languageId": "r"
    }
   },
   "outputs": [
    {
     "data": {
      "text/html": [
       "<table class=\"dataframe\">\n",
       "<caption>A data.frame: 6 x 58</caption>\n",
       "<thead>\n",
       "\t<tr><th></th><th scope=col>sample_id</th><th scope=col>Patient</th><th scope=col>cycle</th><th scope=col>FOLD</th><th scope=col>ATC</th><th scope=col>Age</th><th scope=col>Disease_type</th><th scope=col>TE_fold</th><th scope=col>Pass</th><th scope=col>CD3</th><th scope=col>...</th><th scope=col>observed_Shannon</th><th scope=col>estimated_Shannon</th><th scope=col>SE_Shannon</th><th scope=col>observed_Simpson</th><th scope=col>estimated_Simpson</th><th scope=col>SE_Simpson</th><th scope=col>file</th><th scope=col>basename</th><th scope=col>Group</th><th scope=col>sampletype</th></tr>\n",
       "\t<tr><th></th><th scope=col>&lt;chr&gt;</th><th scope=col>&lt;chr&gt;</th><th scope=col>&lt;chr&gt;</th><th scope=col>&lt;dbl&gt;</th><th scope=col>&lt;dbl&gt;</th><th scope=col>&lt;dbl&gt;</th><th scope=col>&lt;chr&gt;</th><th scope=col>&lt;chr&gt;</th><th scope=col>&lt;lgl&gt;</th><th scope=col>&lt;int&gt;</th><th scope=col>...</th><th scope=col>&lt;dbl&gt;</th><th scope=col>&lt;dbl&gt;</th><th scope=col>&lt;dbl&gt;</th><th scope=col>&lt;dbl&gt;</th><th scope=col>&lt;dbl&gt;</th><th scope=col>&lt;dbl&gt;</th><th scope=col>&lt;chr&gt;</th><th scope=col>&lt;chr&gt;</th><th scope=col>&lt;chr&gt;</th><th scope=col>&lt;chr&gt;</th></tr>\n",
       "</thead>\n",
       "<tbody>\n",
       "\t<tr><th scope=row>1</th><td>CHP_10YO_M_00  </td><td>CHP_10YO_M  </td><td>X00</td><td>NA</td><td>NA</td><td>NA</td><td>Normal</td><td>NA</td><td>NA</td><td>NA</td><td>...</td><td>10.591</td><td>10.601</td><td>0.074</td><td> 8.556</td><td> 8.561</td><td>0.097</td><td>batchNormal_16Apr2020/mixcr/clones/CLONES_TRBCHP_10YO-M_PBMC_DNA.txt  </td><td>CHP_10YO-M_PBMC_DNA  </td><td>CHP</td><td>PBMC</td></tr>\n",
       "\t<tr><th scope=row>2</th><td>CHP_11YO_M_00  </td><td>CHP_11YO_M  </td><td>X00</td><td>NA</td><td>NA</td><td>NA</td><td>Normal</td><td>NA</td><td>NA</td><td>NA</td><td>...</td><td>11.607</td><td>11.614</td><td>0.055</td><td>10.406</td><td>10.414</td><td>0.074</td><td>batchNormal_16Apr2020/mixcr/clones/CLONES_TRBCHP_11YO-M_PBMC_DNA.txt  </td><td>CHP_11YO-M_PBMC_DNA  </td><td>CHP</td><td>PBMC</td></tr>\n",
       "\t<tr><th scope=row>3</th><td>CHP_15YO_F_A_00</td><td>CHP_15YO_F_A</td><td>X00</td><td>NA</td><td>NA</td><td>NA</td><td>Normal</td><td>NA</td><td>NA</td><td>NA</td><td>...</td><td> 8.982</td><td> 8.989</td><td>0.042</td><td> 8.560</td><td> 8.570</td><td>0.060</td><td>batchNormal_16Apr2020/mixcr/clones/CLONES_TRBCHP_15YO-F-A_PBMC_DNA.txt</td><td>CHP_15YO-F-A_PBMC_DNA</td><td>CHP</td><td>PBMC</td></tr>\n",
       "\t<tr><th scope=row>4</th><td>CHP_15YO_F_B_00</td><td>CHP_15YO_F_B</td><td>X00</td><td>NA</td><td>NA</td><td>NA</td><td>Normal</td><td>NA</td><td>NA</td><td>NA</td><td>...</td><td> 6.330</td><td> 6.334</td><td>0.039</td><td> 5.870</td><td> 5.876</td><td>0.059</td><td>batchNormal_16Apr2020/mixcr/clones/CLONES_TRBCHP_15YO-F-B_PBMC_DNA.txt</td><td>CHP_15YO-F-B_PBMC_DNA</td><td>CHP</td><td>PBMC</td></tr>\n",
       "\t<tr><th scope=row>5</th><td>CHP_15YO_M_00  </td><td>CHP_15YO_M  </td><td>X00</td><td>NA</td><td>NA</td><td>NA</td><td>Normal</td><td>NA</td><td>NA</td><td>NA</td><td>...</td><td>21.110</td><td>21.120</td><td>0.040</td><td>20.321</td><td>20.339</td><td>0.079</td><td>batchNormal_16Apr2020/mixcr/clones/CLONES_TRBCHP_15YO-M_PBMC_DNA.txt  </td><td>CHP_15YO-M_PBMC_DNA  </td><td>CHP</td><td>PBMC</td></tr>\n",
       "\t<tr><th scope=row>6</th><td>CHP_16YO_M_00  </td><td>CHP_16YO_M  </td><td>X00</td><td>NA</td><td>NA</td><td>NA</td><td>Normal</td><td>NA</td><td>NA</td><td>NA</td><td>...</td><td> 3.972</td><td> 3.973</td><td>0.007</td><td> 3.944</td><td> 3.946</td><td>0.012</td><td>batchNormal_16Apr2020/mixcr/clones/CLONES_TRBCHP_16YO-M_PBMC_DNA.txt  </td><td>CHP_16YO-M_PBMC_DNA  </td><td>CHP</td><td>PBMC</td></tr>\n",
       "</tbody>\n",
       "</table>\n"
      ],
      "text/latex": [
       "A data.frame: 6 x 58\n",
       "\\begin{tabular}{r|lllllllllllllllllllll}\n",
       "  & sample\\_id & Patient & cycle & FOLD & ATC & Age & Disease\\_type & TE\\_fold & Pass & CD3 & ... & observed\\_Shannon & estimated\\_Shannon & SE\\_Shannon & observed\\_Simpson & estimated\\_Simpson & SE\\_Simpson & file & basename & Group & sampletype\\\\\n",
       "  & <chr> & <chr> & <chr> & <dbl> & <dbl> & <dbl> & <chr> & <chr> & <lgl> & <int> & ... & <dbl> & <dbl> & <dbl> & <dbl> & <dbl> & <dbl> & <chr> & <chr> & <chr> & <chr>\\\\\n",
       "\\hline\n",
       "\t1 & CHP\\_10YO\\_M\\_00   & CHP\\_10YO\\_M   & X00 & NA & NA & NA & Normal & NA & NA & NA & ... & 10.591 & 10.601 & 0.074 &  8.556 &  8.561 & 0.097 & batchNormal\\_16Apr2020/mixcr/clones/CLONES\\_TRBCHP\\_10YO-M\\_PBMC\\_DNA.txt   & CHP\\_10YO-M\\_PBMC\\_DNA   & CHP & PBMC\\\\\n",
       "\t2 & CHP\\_11YO\\_M\\_00   & CHP\\_11YO\\_M   & X00 & NA & NA & NA & Normal & NA & NA & NA & ... & 11.607 & 11.614 & 0.055 & 10.406 & 10.414 & 0.074 & batchNormal\\_16Apr2020/mixcr/clones/CLONES\\_TRBCHP\\_11YO-M\\_PBMC\\_DNA.txt   & CHP\\_11YO-M\\_PBMC\\_DNA   & CHP & PBMC\\\\\n",
       "\t3 & CHP\\_15YO\\_F\\_A\\_00 & CHP\\_15YO\\_F\\_A & X00 & NA & NA & NA & Normal & NA & NA & NA & ... &  8.982 &  8.989 & 0.042 &  8.560 &  8.570 & 0.060 & batchNormal\\_16Apr2020/mixcr/clones/CLONES\\_TRBCHP\\_15YO-F-A\\_PBMC\\_DNA.txt & CHP\\_15YO-F-A\\_PBMC\\_DNA & CHP & PBMC\\\\\n",
       "\t4 & CHP\\_15YO\\_F\\_B\\_00 & CHP\\_15YO\\_F\\_B & X00 & NA & NA & NA & Normal & NA & NA & NA & ... &  6.330 &  6.334 & 0.039 &  5.870 &  5.876 & 0.059 & batchNormal\\_16Apr2020/mixcr/clones/CLONES\\_TRBCHP\\_15YO-F-B\\_PBMC\\_DNA.txt & CHP\\_15YO-F-B\\_PBMC\\_DNA & CHP & PBMC\\\\\n",
       "\t5 & CHP\\_15YO\\_M\\_00   & CHP\\_15YO\\_M   & X00 & NA & NA & NA & Normal & NA & NA & NA & ... & 21.110 & 21.120 & 0.040 & 20.321 & 20.339 & 0.079 & batchNormal\\_16Apr2020/mixcr/clones/CLONES\\_TRBCHP\\_15YO-M\\_PBMC\\_DNA.txt   & CHP\\_15YO-M\\_PBMC\\_DNA   & CHP & PBMC\\\\\n",
       "\t6 & CHP\\_16YO\\_M\\_00   & CHP\\_16YO\\_M   & X00 & NA & NA & NA & Normal & NA & NA & NA & ... &  3.972 &  3.973 & 0.007 &  3.944 &  3.946 & 0.012 & batchNormal\\_16Apr2020/mixcr/clones/CLONES\\_TRBCHP\\_16YO-M\\_PBMC\\_DNA.txt   & CHP\\_16YO-M\\_PBMC\\_DNA   & CHP & PBMC\\\\\n",
       "\\end{tabular}\n"
      ],
      "text/markdown": [
       "\n",
       "A data.frame: 6 x 58\n",
       "\n",
       "| <!--/--> | sample_id &lt;chr&gt; | Patient &lt;chr&gt; | cycle &lt;chr&gt; | FOLD &lt;dbl&gt; | ATC &lt;dbl&gt; | Age &lt;dbl&gt; | Disease_type &lt;chr&gt; | TE_fold &lt;chr&gt; | Pass &lt;lgl&gt; | CD3 &lt;int&gt; | ... ... | observed_Shannon &lt;dbl&gt; | estimated_Shannon &lt;dbl&gt; | SE_Shannon &lt;dbl&gt; | observed_Simpson &lt;dbl&gt; | estimated_Simpson &lt;dbl&gt; | SE_Simpson &lt;dbl&gt; | file &lt;chr&gt; | basename &lt;chr&gt; | Group &lt;chr&gt; | sampletype &lt;chr&gt; |\n",
       "|---|---|---|---|---|---|---|---|---|---|---|---|---|---|---|---|---|---|---|---|---|---|\n",
       "| 1 | CHP_10YO_M_00   | CHP_10YO_M   | X00 | NA | NA | NA | Normal | NA | NA | NA | ... | 10.591 | 10.601 | 0.074 |  8.556 |  8.561 | 0.097 | batchNormal_16Apr2020/mixcr/clones/CLONES_TRBCHP_10YO-M_PBMC_DNA.txt   | CHP_10YO-M_PBMC_DNA   | CHP | PBMC |\n",
       "| 2 | CHP_11YO_M_00   | CHP_11YO_M   | X00 | NA | NA | NA | Normal | NA | NA | NA | ... | 11.607 | 11.614 | 0.055 | 10.406 | 10.414 | 0.074 | batchNormal_16Apr2020/mixcr/clones/CLONES_TRBCHP_11YO-M_PBMC_DNA.txt   | CHP_11YO-M_PBMC_DNA   | CHP | PBMC |\n",
       "| 3 | CHP_15YO_F_A_00 | CHP_15YO_F_A | X00 | NA | NA | NA | Normal | NA | NA | NA | ... |  8.982 |  8.989 | 0.042 |  8.560 |  8.570 | 0.060 | batchNormal_16Apr2020/mixcr/clones/CLONES_TRBCHP_15YO-F-A_PBMC_DNA.txt | CHP_15YO-F-A_PBMC_DNA | CHP | PBMC |\n",
       "| 4 | CHP_15YO_F_B_00 | CHP_15YO_F_B | X00 | NA | NA | NA | Normal | NA | NA | NA | ... |  6.330 |  6.334 | 0.039 |  5.870 |  5.876 | 0.059 | batchNormal_16Apr2020/mixcr/clones/CLONES_TRBCHP_15YO-F-B_PBMC_DNA.txt | CHP_15YO-F-B_PBMC_DNA | CHP | PBMC |\n",
       "| 5 | CHP_15YO_M_00   | CHP_15YO_M   | X00 | NA | NA | NA | Normal | NA | NA | NA | ... | 21.110 | 21.120 | 0.040 | 20.321 | 20.339 | 0.079 | batchNormal_16Apr2020/mixcr/clones/CLONES_TRBCHP_15YO-M_PBMC_DNA.txt   | CHP_15YO-M_PBMC_DNA   | CHP | PBMC |\n",
       "| 6 | CHP_16YO_M_00   | CHP_16YO_M   | X00 | NA | NA | NA | Normal | NA | NA | NA | ... |  3.972 |  3.973 | 0.007 |  3.944 |  3.946 | 0.012 | batchNormal_16Apr2020/mixcr/clones/CLONES_TRBCHP_16YO-M_PBMC_DNA.txt   | CHP_16YO-M_PBMC_DNA   | CHP | PBMC |\n",
       "\n"
      ],
      "text/plain": [
       "  sample_id       Patient      cycle FOLD ATC Age Disease_type TE_fold Pass CD3\n",
       "1 CHP_10YO_M_00   CHP_10YO_M   X00   NA   NA  NA  Normal       NA      NA   NA \n",
       "2 CHP_11YO_M_00   CHP_11YO_M   X00   NA   NA  NA  Normal       NA      NA   NA \n",
       "3 CHP_15YO_F_A_00 CHP_15YO_F_A X00   NA   NA  NA  Normal       NA      NA   NA \n",
       "4 CHP_15YO_F_B_00 CHP_15YO_F_B X00   NA   NA  NA  Normal       NA      NA   NA \n",
       "5 CHP_15YO_M_00   CHP_15YO_M   X00   NA   NA  NA  Normal       NA      NA   NA \n",
       "6 CHP_16YO_M_00   CHP_16YO_M   X00   NA   NA  NA  Normal       NA      NA   NA \n",
       "  ... observed_Shannon estimated_Shannon SE_Shannon observed_Simpson\n",
       "1 ... 10.591           10.601            0.074       8.556          \n",
       "2 ... 11.607           11.614            0.055      10.406          \n",
       "3 ...  8.982            8.989            0.042       8.560          \n",
       "4 ...  6.330            6.334            0.039       5.870          \n",
       "5 ... 21.110           21.120            0.040      20.321          \n",
       "6 ...  3.972            3.973            0.007       3.944          \n",
       "  estimated_Simpson SE_Simpson\n",
       "1  8.561            0.097     \n",
       "2 10.414            0.074     \n",
       "3  8.570            0.060     \n",
       "4  5.876            0.059     \n",
       "5 20.339            0.079     \n",
       "6  3.946            0.012     \n",
       "  file                                                                  \n",
       "1 batchNormal_16Apr2020/mixcr/clones/CLONES_TRBCHP_10YO-M_PBMC_DNA.txt  \n",
       "2 batchNormal_16Apr2020/mixcr/clones/CLONES_TRBCHP_11YO-M_PBMC_DNA.txt  \n",
       "3 batchNormal_16Apr2020/mixcr/clones/CLONES_TRBCHP_15YO-F-A_PBMC_DNA.txt\n",
       "4 batchNormal_16Apr2020/mixcr/clones/CLONES_TRBCHP_15YO-F-B_PBMC_DNA.txt\n",
       "5 batchNormal_16Apr2020/mixcr/clones/CLONES_TRBCHP_15YO-M_PBMC_DNA.txt  \n",
       "6 batchNormal_16Apr2020/mixcr/clones/CLONES_TRBCHP_16YO-M_PBMC_DNA.txt  \n",
       "  basename              Group sampletype\n",
       "1 CHP_10YO-M_PBMC_DNA   CHP   PBMC      \n",
       "2 CHP_11YO-M_PBMC_DNA   CHP   PBMC      \n",
       "3 CHP_15YO-F-A_PBMC_DNA CHP   PBMC      \n",
       "4 CHP_15YO-F-B_PBMC_DNA CHP   PBMC      \n",
       "5 CHP_15YO-M_PBMC_DNA   CHP   PBMC      \n",
       "6 CHP_16YO-M_PBMC_DNA   CHP   PBMC      "
      ]
     },
     "metadata": {},
     "output_type": "display_data"
    }
   ],
   "source": [
    "head(meta_div)"
   ]
  },
  {
   "cell_type": "code",
   "execution_count": 46,
   "metadata": {
    "vscode": {
     "languageId": "r"
    }
   },
   "outputs": [],
   "source": [
    "int_v_j_cdr3_l <- readr::read_rds(paste0(datapath, \"capTCRseq/int_pbmc_v_j_cdr3_l.rds\"))"
   ]
  },
  {
   "cell_type": "code",
   "execution_count": 47,
   "metadata": {
    "vscode": {
     "languageId": "r"
    }
   },
   "outputs": [],
   "source": [
    "# should be done for all files\n",
    "jfreq <- int_v_j_cdr3_l %>% group_by(TRBJ) %>% tally() %>% arrange(desc(n)) %>% mutate(freq = n/sum(n))"
   ]
  },
  {
   "cell_type": "code",
   "execution_count": 48,
   "metadata": {
    "vscode": {
     "languageId": "r"
    }
   },
   "outputs": [
    {
     "data": {
      "text/html": [
       "<table class=\"dataframe\">\n",
       "<caption>A tibble: 13 x 3</caption>\n",
       "<thead>\n",
       "\t<tr><th scope=col>TRBJ</th><th scope=col>n</th><th scope=col>freq</th></tr>\n",
       "\t<tr><th scope=col>&lt;chr&gt;</th><th scope=col>&lt;int&gt;</th><th scope=col>&lt;dbl&gt;</th></tr>\n",
       "</thead>\n",
       "<tbody>\n",
       "\t<tr><td>TRBJ2-7</td><td>11105</td><td>0.17207717</td></tr>\n",
       "\t<tr><td>TRBJ1-1</td><td> 9419</td><td>0.14595181</td></tr>\n",
       "\t<tr><td>TRBJ2-1</td><td> 8526</td><td>0.13211436</td></tr>\n",
       "\t<tr><td>TRBJ1-2</td><td> 7361</td><td>0.11406214</td></tr>\n",
       "\t<tr><td>TRBJ2-3</td><td> 6091</td><td>0.09438289</td></tr>\n",
       "\t<tr><td>TRBJ1-5</td><td> 4676</td><td>0.07245681</td></tr>\n",
       "\t<tr><td>TRBJ2-5</td><td> 3857</td><td>0.05976602</td></tr>\n",
       "\t<tr><td>TRBJ2-2</td><td> 3833</td><td>0.05939413</td></tr>\n",
       "\t<tr><td>TRBJ1-6</td><td> 2850</td><td>0.04416208</td></tr>\n",
       "\t<tr><td>TRBJ1-4</td><td> 2708</td><td>0.04196173</td></tr>\n",
       "\t<tr><td>TRBJ1-3</td><td> 2350</td><td>0.03641435</td></tr>\n",
       "\t<tr><td>TRBJ2-6</td><td> 1070</td><td>0.01658015</td></tr>\n",
       "\t<tr><td>TRBJ2-4</td><td>  689</td><td>0.01067638</td></tr>\n",
       "</tbody>\n",
       "</table>\n"
      ],
      "text/latex": [
       "A tibble: 13 x 3\n",
       "\\begin{tabular}{lll}\n",
       " TRBJ & n & freq\\\\\n",
       " <chr> & <int> & <dbl>\\\\\n",
       "\\hline\n",
       "\t TRBJ2-7 & 11105 & 0.17207717\\\\\n",
       "\t TRBJ1-1 &  9419 & 0.14595181\\\\\n",
       "\t TRBJ2-1 &  8526 & 0.13211436\\\\\n",
       "\t TRBJ1-2 &  7361 & 0.11406214\\\\\n",
       "\t TRBJ2-3 &  6091 & 0.09438289\\\\\n",
       "\t TRBJ1-5 &  4676 & 0.07245681\\\\\n",
       "\t TRBJ2-5 &  3857 & 0.05976602\\\\\n",
       "\t TRBJ2-2 &  3833 & 0.05939413\\\\\n",
       "\t TRBJ1-6 &  2850 & 0.04416208\\\\\n",
       "\t TRBJ1-4 &  2708 & 0.04196173\\\\\n",
       "\t TRBJ1-3 &  2350 & 0.03641435\\\\\n",
       "\t TRBJ2-6 &  1070 & 0.01658015\\\\\n",
       "\t TRBJ2-4 &   689 & 0.01067638\\\\\n",
       "\\end{tabular}\n"
      ],
      "text/markdown": [
       "\n",
       "A tibble: 13 x 3\n",
       "\n",
       "| TRBJ &lt;chr&gt; | n &lt;int&gt; | freq &lt;dbl&gt; |\n",
       "|---|---|---|\n",
       "| TRBJ2-7 | 11105 | 0.17207717 |\n",
       "| TRBJ1-1 |  9419 | 0.14595181 |\n",
       "| TRBJ2-1 |  8526 | 0.13211436 |\n",
       "| TRBJ1-2 |  7361 | 0.11406214 |\n",
       "| TRBJ2-3 |  6091 | 0.09438289 |\n",
       "| TRBJ1-5 |  4676 | 0.07245681 |\n",
       "| TRBJ2-5 |  3857 | 0.05976602 |\n",
       "| TRBJ2-2 |  3833 | 0.05939413 |\n",
       "| TRBJ1-6 |  2850 | 0.04416208 |\n",
       "| TRBJ1-4 |  2708 | 0.04196173 |\n",
       "| TRBJ1-3 |  2350 | 0.03641435 |\n",
       "| TRBJ2-6 |  1070 | 0.01658015 |\n",
       "| TRBJ2-4 |   689 | 0.01067638 |\n",
       "\n"
      ],
      "text/plain": [
       "   TRBJ    n     freq      \n",
       "1  TRBJ2-7 11105 0.17207717\n",
       "2  TRBJ1-1  9419 0.14595181\n",
       "3  TRBJ2-1  8526 0.13211436\n",
       "4  TRBJ1-2  7361 0.11406214\n",
       "5  TRBJ2-3  6091 0.09438289\n",
       "6  TRBJ1-5  4676 0.07245681\n",
       "7  TRBJ2-5  3857 0.05976602\n",
       "8  TRBJ2-2  3833 0.05939413\n",
       "9  TRBJ1-6  2850 0.04416208\n",
       "10 TRBJ1-4  2708 0.04196173\n",
       "11 TRBJ1-3  2350 0.03641435\n",
       "12 TRBJ2-6  1070 0.01658015\n",
       "13 TRBJ2-4   689 0.01067638"
      ]
     },
     "metadata": {},
     "output_type": "display_data"
    }
   ],
   "source": [
    "jfreq"
   ]
  },
  {
   "cell_type": "code",
   "execution_count": 49,
   "metadata": {
    "vscode": {
     "languageId": "r"
    }
   },
   "outputs": [],
   "source": [
    "readr::write_rds(jfreq, paste0(datapath, \"capTCRseq/jfreq_int_pbmc.rds\"))"
   ]
  },
  {
   "cell_type": "code",
   "execution_count": 50,
   "metadata": {
    "vscode": {
     "languageId": "r"
    }
   },
   "outputs": [
    {
     "data": {
      "text/plain": [
       "   Min. 1st Qu.  Median    Mean 3rd Qu.    Max. \n",
       "0.01068 0.04196 0.05977 0.07692 0.11406 0.17208 "
      ]
     },
     "metadata": {},
     "output_type": "display_data"
    }
   ],
   "source": [
    "summary(jfreq$freq)"
   ]
  },
  {
   "cell_type": "code",
   "execution_count": 51,
   "metadata": {
    "vscode": {
     "languageId": "r"
    }
   },
   "outputs": [
    {
     "data": {
      "image/png": "[encoded data removed]",
      "text/plain": [
       "Plot with title \"Histogram of jfreq$freq\""
      ]
     },
     "metadata": {
      "image/png": {
       "height": 420,
       "width": 420
      }
     },
     "output_type": "display_data"
    }
   ],
   "source": [
    "hist(jfreq$freq, breaks = 100)"
   ]
  },
  {
   "cell_type": "code",
   "execution_count": 52,
   "metadata": {
    "vscode": {
     "languageId": "r"
    }
   },
   "outputs": [],
   "source": [
    "jgene_mat <- as.data.frame.matrix(table(int_v_j_cdr3_l %>% select(basename, TRBJ  )))"
   ]
  },
  {
   "cell_type": "code",
   "execution_count": 53,
   "metadata": {
    "vscode": {
     "languageId": "r"
    }
   },
   "outputs": [
    {
     "data": {
      "text/html": [
       "<table class=\"dataframe\">\n",
       "<caption>A data.frame: 6 x 13</caption>\n",
       "<thead>\n",
       "\t<tr><th></th><th scope=col>TRBJ1-1</th><th scope=col>TRBJ1-2</th><th scope=col>TRBJ1-3</th><th scope=col>TRBJ1-4</th><th scope=col>TRBJ1-5</th><th scope=col>TRBJ1-6</th><th scope=col>TRBJ2-1</th><th scope=col>TRBJ2-2</th><th scope=col>TRBJ2-3</th><th scope=col>TRBJ2-4</th><th scope=col>TRBJ2-5</th><th scope=col>TRBJ2-6</th><th scope=col>TRBJ2-7</th></tr>\n",
       "\t<tr><th></th><th scope=col>&lt;int&gt;</th><th scope=col>&lt;int&gt;</th><th scope=col>&lt;int&gt;</th><th scope=col>&lt;int&gt;</th><th scope=col>&lt;int&gt;</th><th scope=col>&lt;int&gt;</th><th scope=col>&lt;int&gt;</th><th scope=col>&lt;int&gt;</th><th scope=col>&lt;int&gt;</th><th scope=col>&lt;int&gt;</th><th scope=col>&lt;int&gt;</th><th scope=col>&lt;int&gt;</th><th scope=col>&lt;int&gt;</th></tr>\n",
       "</thead>\n",
       "<tbody>\n",
       "\t<tr><th scope=row>CHP-328-04-PBMC-DNA</th><td> 52</td><td> 46</td><td>16</td><td>21</td><td> 37</td><td>12</td><td> 60</td><td>21</td><td> 51</td><td> 4</td><td>31</td><td> 7</td><td> 94</td></tr>\n",
       "\t<tr><th scope=row>CHP-328-05-PBMC-DNA</th><td> 22</td><td> 13</td><td> 4</td><td> 5</td><td>  8</td><td> 3</td><td> 25</td><td> 9</td><td> 19</td><td> 4</td><td> 5</td><td> 1</td><td> 33</td></tr>\n",
       "\t<tr><th scope=row>CHP-351-03-PBMC-DNA</th><td>114</td><td>100</td><td>40</td><td>38</td><td> 72</td><td>42</td><td>151</td><td>70</td><td>107</td><td>10</td><td>89</td><td>20</td><td>238</td></tr>\n",
       "\t<tr><th scope=row>CHP-353-04-PBMC-DNA</th><td>359</td><td>269</td><td>73</td><td>83</td><td>138</td><td>82</td><td>159</td><td>78</td><td> 96</td><td> 5</td><td>87</td><td>26</td><td>239</td></tr>\n",
       "\t<tr><th scope=row>CHP-363-04-PBMC-DNA</th><td>105</td><td> 79</td><td>24</td><td>34</td><td> 65</td><td>40</td><td> 84</td><td>43</td><td> 69</td><td> 3</td><td>41</td><td>20</td><td>144</td></tr>\n",
       "\t<tr><th scope=row>CHP-369-01-PBMC-DNA</th><td> 76</td><td> 62</td><td>26</td><td>25</td><td> 46</td><td>16</td><td> 95</td><td>51</td><td> 82</td><td>10</td><td>53</td><td>12</td><td>173</td></tr>\n",
       "</tbody>\n",
       "</table>\n"
      ],
      "text/latex": [
       "A data.frame: 6 x 13\n",
       "\\begin{tabular}{r|lllllllllllll}\n",
       "  & TRBJ1-1 & TRBJ1-2 & TRBJ1-3 & TRBJ1-4 & TRBJ1-5 & TRBJ1-6 & TRBJ2-1 & TRBJ2-2 & TRBJ2-3 & TRBJ2-4 & TRBJ2-5 & TRBJ2-6 & TRBJ2-7\\\\\n",
       "  & <int> & <int> & <int> & <int> & <int> & <int> & <int> & <int> & <int> & <int> & <int> & <int> & <int>\\\\\n",
       "\\hline\n",
       "\tCHP-328-04-PBMC-DNA &  52 &  46 & 16 & 21 &  37 & 12 &  60 & 21 &  51 &  4 & 31 &  7 &  94\\\\\n",
       "\tCHP-328-05-PBMC-DNA &  22 &  13 &  4 &  5 &   8 &  3 &  25 &  9 &  19 &  4 &  5 &  1 &  33\\\\\n",
       "\tCHP-351-03-PBMC-DNA & 114 & 100 & 40 & 38 &  72 & 42 & 151 & 70 & 107 & 10 & 89 & 20 & 238\\\\\n",
       "\tCHP-353-04-PBMC-DNA & 359 & 269 & 73 & 83 & 138 & 82 & 159 & 78 &  96 &  5 & 87 & 26 & 239\\\\\n",
       "\tCHP-363-04-PBMC-DNA & 105 &  79 & 24 & 34 &  65 & 40 &  84 & 43 &  69 &  3 & 41 & 20 & 144\\\\\n",
       "\tCHP-369-01-PBMC-DNA &  76 &  62 & 26 & 25 &  46 & 16 &  95 & 51 &  82 & 10 & 53 & 12 & 173\\\\\n",
       "\\end{tabular}\n"
      ],
      "text/markdown": [
       "\n",
       "A data.frame: 6 x 13\n",
       "\n",
       "| <!--/--> | TRBJ1-1 &lt;int&gt; | TRBJ1-2 &lt;int&gt; | TRBJ1-3 &lt;int&gt; | TRBJ1-4 &lt;int&gt; | TRBJ1-5 &lt;int&gt; | TRBJ1-6 &lt;int&gt; | TRBJ2-1 &lt;int&gt; | TRBJ2-2 &lt;int&gt; | TRBJ2-3 &lt;int&gt; | TRBJ2-4 &lt;int&gt; | TRBJ2-5 &lt;int&gt; | TRBJ2-6 &lt;int&gt; | TRBJ2-7 &lt;int&gt; |\n",
       "|---|---|---|---|---|---|---|---|---|---|---|---|---|---|\n",
       "| CHP-328-04-PBMC-DNA |  52 |  46 | 16 | 21 |  37 | 12 |  60 | 21 |  51 |  4 | 31 |  7 |  94 |\n",
       "| CHP-328-05-PBMC-DNA |  22 |  13 |  4 |  5 |   8 |  3 |  25 |  9 |  19 |  4 |  5 |  1 |  33 |\n",
       "| CHP-351-03-PBMC-DNA | 114 | 100 | 40 | 38 |  72 | 42 | 151 | 70 | 107 | 10 | 89 | 20 | 238 |\n",
       "| CHP-353-04-PBMC-DNA | 359 | 269 | 73 | 83 | 138 | 82 | 159 | 78 |  96 |  5 | 87 | 26 | 239 |\n",
       "| CHP-363-04-PBMC-DNA | 105 |  79 | 24 | 34 |  65 | 40 |  84 | 43 |  69 |  3 | 41 | 20 | 144 |\n",
       "| CHP-369-01-PBMC-DNA |  76 |  62 | 26 | 25 |  46 | 16 |  95 | 51 |  82 | 10 | 53 | 12 | 173 |\n",
       "\n"
      ],
      "text/plain": [
       "                    TRBJ1-1 TRBJ1-2 TRBJ1-3 TRBJ1-4 TRBJ1-5 TRBJ1-6 TRBJ2-1\n",
       "CHP-328-04-PBMC-DNA  52      46     16      21       37     12       60    \n",
       "CHP-328-05-PBMC-DNA  22      13      4       5        8      3       25    \n",
       "CHP-351-03-PBMC-DNA 114     100     40      38       72     42      151    \n",
       "CHP-353-04-PBMC-DNA 359     269     73      83      138     82      159    \n",
       "CHP-363-04-PBMC-DNA 105      79     24      34       65     40       84    \n",
       "CHP-369-01-PBMC-DNA  76      62     26      25       46     16       95    \n",
       "                    TRBJ2-2 TRBJ2-3 TRBJ2-4 TRBJ2-5 TRBJ2-6 TRBJ2-7\n",
       "CHP-328-04-PBMC-DNA 21       51      4      31       7       94    \n",
       "CHP-328-05-PBMC-DNA  9       19      4       5       1       33    \n",
       "CHP-351-03-PBMC-DNA 70      107     10      89      20      238    \n",
       "CHP-353-04-PBMC-DNA 78       96      5      87      26      239    \n",
       "CHP-363-04-PBMC-DNA 43       69      3      41      20      144    \n",
       "CHP-369-01-PBMC-DNA 51       82     10      53      12      173    "
      ]
     },
     "metadata": {},
     "output_type": "display_data"
    }
   ],
   "source": [
    "head(jgene_mat)"
   ]
  },
  {
   "cell_type": "code",
   "execution_count": 54,
   "metadata": {
    "vscode": {
     "languageId": "r"
    }
   },
   "outputs": [],
   "source": [
    "readr::write_rds(jgene_mat, paste0(datapath, \"capTCRseq/int__pbmc_jgene_matrix.rds\"))"
   ]
  },
  {
   "cell_type": "code",
   "execution_count": 55,
   "metadata": {
    "vscode": {
     "languageId": "r"
    }
   },
   "outputs": [
    {
     "data": {
      "text/html": [
       "<style>\n",
       ".list-inline {list-style: none; margin:0; padding: 0}\n",
       ".list-inline>li {display: inline-block}\n",
       ".list-inline>li:not(:last-child)::after {content: \"\\00b7\"; padding: 0 .5ex}\n",
       "</style>\n",
       "<ol class=list-inline><li>258</li><li>13</li></ol>\n"
      ],
      "text/latex": [
       "\\begin{enumerate*}\n",
       "\\item 258\n",
       "\\item 13\n",
       "\\end{enumerate*}\n"
      ],
      "text/markdown": [
       "1. 258\n",
       "2. 13\n",
       "\n",
       "\n"
      ],
      "text/plain": [
       "[1] 258  13"
      ]
     },
     "metadata": {},
     "output_type": "display_data"
    }
   ],
   "source": [
    "dim(jgene_mat)"
   ]
  },
  {
   "cell_type": "code",
   "execution_count": 56,
   "metadata": {
    "vscode": {
     "languageId": "r"
    }
   },
   "outputs": [],
   "source": [
    "cormat <- cor(jgene_mat)"
   ]
  },
  {
   "cell_type": "code",
   "execution_count": 57,
   "metadata": {
    "vscode": {
     "languageId": "r"
    }
   },
   "outputs": [],
   "source": [
    "#vgene_mat_hf[,c(\"TRBV10-3\", \"TRBV7-9\", \"TRBV13\")]"
   ]
  },
  {
   "cell_type": "code",
   "execution_count": 58,
   "metadata": {
    "vscode": {
     "languageId": "r"
    }
   },
   "outputs": [
    {
     "data": {
      "text/plain": [
       "   Min. 1st Qu.  Median    Mean 3rd Qu.    Max. \n",
       " 0.6524  0.8824  0.9129  0.8909  0.9390  1.0000 "
      ]
     },
     "metadata": {},
     "output_type": "display_data"
    }
   ],
   "source": [
    "summary(as.vector(cormat) )\n",
    "\n",
    "# generally high correlation"
   ]
  },
  {
   "attachments": {},
   "cell_type": "markdown",
   "metadata": {},
   "source": [
    "PCA"
   ]
  },
  {
   "cell_type": "code",
   "execution_count": 59,
   "metadata": {
    "vscode": {
     "languageId": "r"
    }
   },
   "outputs": [
    {
     "data": {
      "text/html": [
       "<table class=\"dataframe\">\n",
       "<caption>A data.frame: 258 x 13</caption>\n",
       "<thead>\n",
       "\t<tr><th></th><th scope=col>TRBJ1-1</th><th scope=col>TRBJ1-2</th><th scope=col>TRBJ1-3</th><th scope=col>TRBJ1-4</th><th scope=col>TRBJ1-5</th><th scope=col>TRBJ1-6</th><th scope=col>TRBJ2-1</th><th scope=col>TRBJ2-2</th><th scope=col>TRBJ2-3</th><th scope=col>TRBJ2-4</th><th scope=col>TRBJ2-5</th><th scope=col>TRBJ2-6</th><th scope=col>TRBJ2-7</th></tr>\n",
       "\t<tr><th></th><th scope=col>&lt;int&gt;</th><th scope=col>&lt;int&gt;</th><th scope=col>&lt;int&gt;</th><th scope=col>&lt;int&gt;</th><th scope=col>&lt;int&gt;</th><th scope=col>&lt;int&gt;</th><th scope=col>&lt;int&gt;</th><th scope=col>&lt;int&gt;</th><th scope=col>&lt;int&gt;</th><th scope=col>&lt;int&gt;</th><th scope=col>&lt;int&gt;</th><th scope=col>&lt;int&gt;</th><th scope=col>&lt;int&gt;</th></tr>\n",
       "</thead>\n",
       "<tbody>\n",
       "\t<tr><th scope=row>CHP-328-04-PBMC-DNA</th><td> 52</td><td> 46</td><td>16</td><td>21</td><td> 37</td><td>12</td><td> 60</td><td>21</td><td> 51</td><td> 4</td><td>31</td><td> 7</td><td> 94</td></tr>\n",
       "\t<tr><th scope=row>CHP-328-05-PBMC-DNA</th><td> 22</td><td> 13</td><td> 4</td><td> 5</td><td>  8</td><td> 3</td><td> 25</td><td> 9</td><td> 19</td><td> 4</td><td> 5</td><td> 1</td><td> 33</td></tr>\n",
       "\t<tr><th scope=row>CHP-351-03-PBMC-DNA</th><td>114</td><td>100</td><td>40</td><td>38</td><td> 72</td><td>42</td><td>151</td><td>70</td><td>107</td><td>10</td><td>89</td><td>20</td><td>238</td></tr>\n",
       "\t<tr><th scope=row>CHP-353-04-PBMC-DNA</th><td>359</td><td>269</td><td>73</td><td>83</td><td>138</td><td>82</td><td>159</td><td>78</td><td> 96</td><td> 5</td><td>87</td><td>26</td><td>239</td></tr>\n",
       "\t<tr><th scope=row>CHP-363-04-PBMC-DNA</th><td>105</td><td> 79</td><td>24</td><td>34</td><td> 65</td><td>40</td><td> 84</td><td>43</td><td> 69</td><td> 3</td><td>41</td><td>20</td><td>144</td></tr>\n",
       "\t<tr><th scope=row>CHP-369-01-PBMC-DNA</th><td> 76</td><td> 62</td><td>26</td><td>25</td><td> 46</td><td>16</td><td> 95</td><td>51</td><td> 82</td><td>10</td><td>53</td><td>12</td><td>173</td></tr>\n",
       "\t<tr><th scope=row>CHP-371-03-PBMC-DNA</th><td>113</td><td> 57</td><td>12</td><td>20</td><td> 42</td><td>23</td><td>110</td><td>41</td><td> 53</td><td> 2</td><td>23</td><td>12</td><td>103</td></tr>\n",
       "\t<tr><th scope=row>CHP-377-02-PBMC-DNA</th><td> 83</td><td> 73</td><td>18</td><td>31</td><td> 49</td><td>26</td><td> 61</td><td>39</td><td> 42</td><td> 3</td><td>24</td><td>11</td><td> 53</td></tr>\n",
       "\t<tr><th scope=row>CHP-386-04-PBMC-DNA</th><td> 99</td><td> 70</td><td>28</td><td>26</td><td> 46</td><td>23</td><td> 64</td><td>51</td><td> 72</td><td> 2</td><td>17</td><td>23</td><td>143</td></tr>\n",
       "\t<tr><th scope=row>CHP-386-05-PBMC-DNA</th><td> 34</td><td> 28</td><td>11</td><td>10</td><td> 20</td><td>25</td><td> 46</td><td>25</td><td> 38</td><td> 0</td><td> 8</td><td> 7</td><td> 86</td></tr>\n",
       "\t<tr><th scope=row>CHP-398-02-PBMC-DNA</th><td> 81</td><td> 69</td><td>20</td><td>18</td><td> 45</td><td>33</td><td> 64</td><td>28</td><td> 23</td><td> 3</td><td>32</td><td> 8</td><td> 81</td></tr>\n",
       "\t<tr><th scope=row>CHP-404-03-PBMC-DNA</th><td> 30</td><td> 18</td><td> 6</td><td> 6</td><td> 16</td><td>11</td><td> 21</td><td> 8</td><td> 21</td><td> 1</td><td> 7</td><td> 4</td><td> 27</td></tr>\n",
       "\t<tr><th scope=row>CHP-411-02-PBMC-DNA</th><td>220</td><td>165</td><td>54</td><td>50</td><td> 78</td><td>50</td><td>130</td><td>69</td><td>111</td><td>11</td><td>76</td><td>22</td><td>205</td></tr>\n",
       "\t<tr><th scope=row>CHP-416-02-PBMC-DNA</th><td> 13</td><td> 11</td><td> 6</td><td> 8</td><td>  8</td><td> 6</td><td> 12</td><td> 6</td><td>  7</td><td> 4</td><td> 3</td><td> 1</td><td> 15</td></tr>\n",
       "\t<tr><th scope=row>CHP_10YO-M_PBMC_DNA</th><td>  6</td><td>  7</td><td> 0</td><td> 0</td><td>  0</td><td> 1</td><td>  0</td><td> 1</td><td>  1</td><td> 0</td><td> 1</td><td> 0</td><td>  2</td></tr>\n",
       "\t<tr><th scope=row>CHP_11YO-M_PBMC_DNA</th><td>  2</td><td>  3</td><td> 2</td><td> 0</td><td>  1</td><td> 2</td><td>  2</td><td> 1</td><td>  1</td><td> 0</td><td> 0</td><td> 1</td><td>  1</td></tr>\n",
       "\t<tr><th scope=row>CHP_15YO-F-A_PBMC_DNA</th><td>  1</td><td>  0</td><td> 0</td><td> 0</td><td>  3</td><td> 2</td><td>  1</td><td> 1</td><td>  2</td><td> 0</td><td> 1</td><td> 0</td><td>  0</td></tr>\n",
       "\t<tr><th scope=row>CHP_15YO-F-B_PBMC_DNA</th><td>  0</td><td>  0</td><td> 2</td><td> 1</td><td>  0</td><td> 1</td><td>  1</td><td> 1</td><td>  1</td><td> 0</td><td> 0</td><td> 0</td><td>  0</td></tr>\n",
       "\t<tr><th scope=row>CHP_15YO-M_PBMC_DNA</th><td>  6</td><td>  4</td><td> 2</td><td> 1</td><td>  0</td><td> 1</td><td>  0</td><td> 0</td><td>  3</td><td> 0</td><td> 1</td><td> 1</td><td>  4</td></tr>\n",
       "\t<tr><th scope=row>CHP_16YO-M_PBMC_DNA</th><td>  0</td><td>  0</td><td> 1</td><td> 0</td><td>  1</td><td> 0</td><td>  0</td><td> 1</td><td>  0</td><td> 1</td><td> 0</td><td> 0</td><td>  0</td></tr>\n",
       "\t<tr><th scope=row>CHP_1YO-M-A_PBMC_DNA</th><td>  8</td><td>  8</td><td> 2</td><td> 0</td><td>  3</td><td> 2</td><td>  2</td><td> 6</td><td>  7</td><td> 1</td><td> 1</td><td> 1</td><td>  9</td></tr>\n",
       "\t<tr><th scope=row>CHP_1YO-M-B_PBMC_DNA</th><td>  0</td><td>  1</td><td> 0</td><td> 0</td><td>  1</td><td> 0</td><td>  0</td><td> 0</td><td>  1</td><td> 0</td><td> 0</td><td> 0</td><td>  0</td></tr>\n",
       "\t<tr><th scope=row>CHP_2YO-M_PBMC_DNA</th><td>  1</td><td>  2</td><td> 0</td><td> 0</td><td>  0</td><td> 0</td><td>  2</td><td> 1</td><td>  2</td><td> 0</td><td> 0</td><td> 0</td><td>  2</td></tr>\n",
       "\t<tr><th scope=row>CHP_323-03-PBMC-DNA</th><td>  7</td><td>  4</td><td> 3</td><td> 1</td><td>  3</td><td> 1</td><td>  6</td><td> 2</td><td>  5</td><td> 0</td><td> 2</td><td> 0</td><td> 10</td></tr>\n",
       "\t<tr><th scope=row>CHP_323-05-PBMC-DNA</th><td> 19</td><td> 17</td><td> 2</td><td>10</td><td> 10</td><td>10</td><td> 16</td><td> 9</td><td> 18</td><td> 2</td><td>10</td><td> 1</td><td> 29</td></tr>\n",
       "\t<tr><th scope=row>CHP_324-05_PBMC-DNA</th><td> 30</td><td> 32</td><td> 8</td><td> 8</td><td> 18</td><td>10</td><td> 30</td><td>16</td><td> 19</td><td> 4</td><td>12</td><td> 7</td><td> 33</td></tr>\n",
       "\t<tr><th scope=row>CHP_330-05-PBMC-DNA</th><td> 21</td><td> 18</td><td> 5</td><td> 7</td><td> 15</td><td> 7</td><td> 14</td><td> 3</td><td> 16</td><td> 2</td><td> 2</td><td> 1</td><td> 21</td></tr>\n",
       "\t<tr><th scope=row>CHP_331-04-PBMC-DNA</th><td>  3</td><td>  4</td><td> 1</td><td> 0</td><td>  4</td><td> 2</td><td>  6</td><td> 4</td><td>  1</td><td> 2</td><td> 1</td><td> 0</td><td>  8</td></tr>\n",
       "\t<tr><th scope=row>CHP_331-05-PBMC-DNA</th><td> 27</td><td> 16</td><td> 6</td><td> 5</td><td> 11</td><td> 2</td><td> 27</td><td> 9</td><td> 15</td><td> 2</td><td> 7</td><td> 1</td><td> 28</td></tr>\n",
       "\t<tr><th scope=row>CHP_335-03-PBMC-DNA</th><td> 26</td><td> 18</td><td> 5</td><td> 5</td><td> 17</td><td> 8</td><td> 26</td><td> 5</td><td> 14</td><td> 3</td><td>12</td><td> 2</td><td> 37</td></tr>\n",
       "\t<tr><th scope=row>...</th><td>...</td><td>...</td><td>...</td><td>...</td><td>...</td><td>...</td><td>...</td><td>...</td><td>...</td><td>...</td><td>...</td><td>...</td><td>...</td></tr>\n",
       "\t<tr><th scope=row>CHP_412-01_PBMC-DNA</th><td>  9</td><td> 6</td><td> 1</td><td> 3</td><td> 3</td><td> 2</td><td> 7</td><td> 1</td><td> 5</td><td>0</td><td> 5</td><td> 0</td><td>  9</td></tr>\n",
       "\t<tr><th scope=row>CHP_412-02-PBMC-DNA</th><td> 52</td><td>52</td><td>16</td><td>17</td><td>32</td><td>22</td><td>44</td><td>29</td><td>28</td><td>2</td><td>18</td><td> 8</td><td> 80</td></tr>\n",
       "\t<tr><th scope=row>CHP_412-03-PBMC-DNA</th><td>  4</td><td> 5</td><td> 1</td><td> 3</td><td> 3</td><td> 0</td><td> 3</td><td> 3</td><td> 4</td><td>0</td><td> 0</td><td> 0</td><td>  6</td></tr>\n",
       "\t<tr><th scope=row>CHP_413-01_PBMC-DNA</th><td>  1</td><td> 3</td><td> 1</td><td> 2</td><td> 1</td><td> 3</td><td> 3</td><td> 1</td><td> 4</td><td>1</td><td> 4</td><td> 0</td><td>  6</td></tr>\n",
       "\t<tr><th scope=row>CHP_413-02_PBMC-DNA</th><td> 33</td><td>30</td><td> 7</td><td>11</td><td>22</td><td> 9</td><td>32</td><td>19</td><td>21</td><td>1</td><td>23</td><td> 5</td><td> 47</td></tr>\n",
       "\t<tr><th scope=row>CHP_414-01_PBMC-DNA</th><td>  3</td><td> 3</td><td> 1</td><td> 1</td><td> 0</td><td> 0</td><td> 3</td><td> 0</td><td> 1</td><td>0</td><td> 0</td><td> 0</td><td>  1</td></tr>\n",
       "\t<tr><th scope=row>CHP_414-02-PBMC-DNA</th><td>138</td><td>98</td><td>26</td><td>27</td><td>45</td><td>39</td><td>82</td><td>43</td><td>74</td><td>8</td><td>41</td><td>16</td><td>113</td></tr>\n",
       "\t<tr><th scope=row>CHP_414-03_PBMC-DNA</th><td> 94</td><td>68</td><td>25</td><td>26</td><td>30</td><td>30</td><td>41</td><td>17</td><td>29</td><td>6</td><td>32</td><td> 6</td><td> 83</td></tr>\n",
       "\t<tr><th scope=row>CHP_415-01-PBMC-DNA</th><td> 15</td><td>28</td><td> 7</td><td> 6</td><td>12</td><td> 2</td><td> 9</td><td> 8</td><td>10</td><td>1</td><td> 9</td><td> 2</td><td> 19</td></tr>\n",
       "\t<tr><th scope=row>CHP_415-02_PBMC-DNA</th><td> 16</td><td> 6</td><td> 6</td><td> 3</td><td> 2</td><td> 1</td><td> 9</td><td> 7</td><td> 9</td><td>1</td><td> 3</td><td> 0</td><td> 18</td></tr>\n",
       "\t<tr><th scope=row>CHP_415-03_PBMC-DNA</th><td>  1</td><td> 4</td><td> 2</td><td> 0</td><td> 1</td><td> 1</td><td> 1</td><td> 2</td><td> 0</td><td>0</td><td> 0</td><td> 0</td><td>  1</td></tr>\n",
       "\t<tr><th scope=row>CHP_416-01-PBMC-DNA</th><td> 62</td><td>61</td><td>28</td><td>21</td><td>26</td><td>14</td><td>59</td><td>30</td><td>48</td><td>1</td><td>32</td><td> 4</td><td> 91</td></tr>\n",
       "\t<tr><th scope=row>CHP_417-01_PBMC-DNA</th><td> 11</td><td> 4</td><td> 3</td><td> 3</td><td> 6</td><td> 1</td><td> 9</td><td> 7</td><td> 7</td><td>0</td><td> 7</td><td> 2</td><td> 19</td></tr>\n",
       "\t<tr><th scope=row>CHP_418-01-PBMC-DNA</th><td> 20</td><td>22</td><td> 4</td><td> 9</td><td>16</td><td> 8</td><td>14</td><td> 6</td><td>11</td><td>2</td><td> 3</td><td> 1</td><td> 21</td></tr>\n",
       "\t<tr><th scope=row>CHP_418-02_PBMC-DNA</th><td> 10</td><td>17</td><td> 3</td><td> 2</td><td> 4</td><td> 6</td><td> 5</td><td> 6</td><td>12</td><td>0</td><td> 5</td><td> 0</td><td> 12</td></tr>\n",
       "\t<tr><th scope=row>CHP_419-02_PBMC-DNA</th><td> 26</td><td>15</td><td> 3</td><td> 3</td><td> 9</td><td> 9</td><td>29</td><td> 6</td><td>23</td><td>1</td><td>10</td><td> 1</td><td> 26</td></tr>\n",
       "\t<tr><th scope=row>CHP_420-01_PBMC-DNA</th><td> 66</td><td>61</td><td>19</td><td>22</td><td>43</td><td>15</td><td>80</td><td>31</td><td>81</td><td>9</td><td>62</td><td> 8</td><td> 93</td></tr>\n",
       "\t<tr><th scope=row>CHP_422-01_-PBMC-DN</th><td>  9</td><td> 4</td><td> 0</td><td> 1</td><td> 1</td><td> 0</td><td> 7</td><td> 5</td><td> 6</td><td>2</td><td> 3</td><td> 0</td><td>111</td></tr>\n",
       "\t<tr><th scope=row>CHP_5YO-M_PBMC_DNA</th><td>  0</td><td> 0</td><td> 0</td><td> 0</td><td> 2</td><td> 0</td><td> 1</td><td> 1</td><td> 0</td><td>0</td><td> 0</td><td> 0</td><td>  0</td></tr>\n",
       "\t<tr><th scope=row>CHP_8MO-F_PBMC_DNA</th><td>  2</td><td> 4</td><td> 0</td><td> 0</td><td> 1</td><td> 1</td><td> 3</td><td> 2</td><td> 0</td><td>0</td><td> 0</td><td> 0</td><td>  5</td></tr>\n",
       "\t<tr><th scope=row>LFS_TCR-4535-PBMC-DNA</th><td> 16</td><td>14</td><td> 7</td><td> 6</td><td>17</td><td> 7</td><td>17</td><td> 7</td><td>14</td><td>1</td><td>13</td><td> 1</td><td> 25</td></tr>\n",
       "\t<tr><th scope=row>LFS_TCR-4570-PBMC-DNA</th><td> 21</td><td>20</td><td> 6</td><td> 8</td><td>16</td><td> 5</td><td>18</td><td>10</td><td>20</td><td>5</td><td>18</td><td> 1</td><td> 28</td></tr>\n",
       "\t<tr><th scope=row>LFS_TCR-4602-PBMC-DNA</th><td> 46</td><td>18</td><td> 6</td><td> 9</td><td>12</td><td> 4</td><td>26</td><td>10</td><td>11</td><td>2</td><td>10</td><td> 0</td><td> 12</td></tr>\n",
       "\t<tr><th scope=row>LFS_TCR-4758-PBMC-DNA</th><td> 33</td><td>24</td><td>18</td><td> 7</td><td>12</td><td> 4</td><td>29</td><td>19</td><td>19</td><td>2</td><td>22</td><td> 9</td><td> 42</td></tr>\n",
       "\t<tr><th scope=row>LFS_TCR-4759-PBMC-DNA</th><td> 26</td><td>19</td><td> 8</td><td> 8</td><td>15</td><td> 6</td><td>28</td><td>17</td><td>19</td><td>1</td><td> 5</td><td> 1</td><td> 16</td></tr>\n",
       "\t<tr><th scope=row>LFS_TCR-4783-PBMC-DNA</th><td> 13</td><td> 4</td><td> 4</td><td> 3</td><td> 4</td><td> 5</td><td> 6</td><td> 2</td><td> 4</td><td>1</td><td> 1</td><td> 2</td><td>  5</td></tr>\n",
       "\t<tr><th scope=row>LFS_TCR-4837-PBMC-DNA</th><td> 39</td><td>24</td><td>12</td><td>11</td><td>23</td><td> 5</td><td>33</td><td>11</td><td>14</td><td>2</td><td> 4</td><td> 4</td><td> 23</td></tr>\n",
       "\t<tr><th scope=row>LFS_TCR-4838-PBMC-DNA</th><td> 28</td><td>17</td><td> 3</td><td>10</td><td>11</td><td> 9</td><td>22</td><td> 9</td><td>11</td><td>0</td><td> 6</td><td> 1</td><td> 17</td></tr>\n",
       "\t<tr><th scope=row>LFS_TCR-5014-PBMC-DNA</th><td> 21</td><td>13</td><td> 5</td><td> 8</td><td>12</td><td> 6</td><td>11</td><td> 8</td><td>14</td><td>1</td><td> 8</td><td> 5</td><td> 30</td></tr>\n",
       "\t<tr><th scope=row>LFS_TCR-5067-PBMC-DNA</th><td> 29</td><td>21</td><td>11</td><td> 5</td><td>17</td><td> 8</td><td>17</td><td>19</td><td>17</td><td>3</td><td>17</td><td> 1</td><td> 38</td></tr>\n",
       "</tbody>\n",
       "</table>\n"
      ],
      "text/latex": [
       "A data.frame: 258 x 13\n",
       "\\begin{tabular}{r|lllllllllllll}\n",
       "  & TRBJ1-1 & TRBJ1-2 & TRBJ1-3 & TRBJ1-4 & TRBJ1-5 & TRBJ1-6 & TRBJ2-1 & TRBJ2-2 & TRBJ2-3 & TRBJ2-4 & TRBJ2-5 & TRBJ2-6 & TRBJ2-7\\\\\n",
       "  & <int> & <int> & <int> & <int> & <int> & <int> & <int> & <int> & <int> & <int> & <int> & <int> & <int>\\\\\n",
       "\\hline\n",
       "\tCHP-328-04-PBMC-DNA &  52 &  46 & 16 & 21 &  37 & 12 &  60 & 21 &  51 &  4 & 31 &  7 &  94\\\\\n",
       "\tCHP-328-05-PBMC-DNA &  22 &  13 &  4 &  5 &   8 &  3 &  25 &  9 &  19 &  4 &  5 &  1 &  33\\\\\n",
       "\tCHP-351-03-PBMC-DNA & 114 & 100 & 40 & 38 &  72 & 42 & 151 & 70 & 107 & 10 & 89 & 20 & 238\\\\\n",
       "\tCHP-353-04-PBMC-DNA & 359 & 269 & 73 & 83 & 138 & 82 & 159 & 78 &  96 &  5 & 87 & 26 & 239\\\\\n",
       "\tCHP-363-04-PBMC-DNA & 105 &  79 & 24 & 34 &  65 & 40 &  84 & 43 &  69 &  3 & 41 & 20 & 144\\\\\n",
       "\tCHP-369-01-PBMC-DNA &  76 &  62 & 26 & 25 &  46 & 16 &  95 & 51 &  82 & 10 & 53 & 12 & 173\\\\\n",
       "\tCHP-371-03-PBMC-DNA & 113 &  57 & 12 & 20 &  42 & 23 & 110 & 41 &  53 &  2 & 23 & 12 & 103\\\\\n",
       "\tCHP-377-02-PBMC-DNA &  83 &  73 & 18 & 31 &  49 & 26 &  61 & 39 &  42 &  3 & 24 & 11 &  53\\\\\n",
       "\tCHP-386-04-PBMC-DNA &  99 &  70 & 28 & 26 &  46 & 23 &  64 & 51 &  72 &  2 & 17 & 23 & 143\\\\\n",
       "\tCHP-386-05-PBMC-DNA &  34 &  28 & 11 & 10 &  20 & 25 &  46 & 25 &  38 &  0 &  8 &  7 &  86\\\\\n",
       "\tCHP-398-02-PBMC-DNA &  81 &  69 & 20 & 18 &  45 & 33 &  64 & 28 &  23 &  3 & 32 &  8 &  81\\\\\n",
       "\tCHP-404-03-PBMC-DNA &  30 &  18 &  6 &  6 &  16 & 11 &  21 &  8 &  21 &  1 &  7 &  4 &  27\\\\\n",
       "\tCHP-411-02-PBMC-DNA & 220 & 165 & 54 & 50 &  78 & 50 & 130 & 69 & 111 & 11 & 76 & 22 & 205\\\\\n",
       "\tCHP-416-02-PBMC-DNA &  13 &  11 &  6 &  8 &   8 &  6 &  12 &  6 &   7 &  4 &  3 &  1 &  15\\\\\n",
       "\tCHP\\_10YO-M\\_PBMC\\_DNA &   6 &   7 &  0 &  0 &   0 &  1 &   0 &  1 &   1 &  0 &  1 &  0 &   2\\\\\n",
       "\tCHP\\_11YO-M\\_PBMC\\_DNA &   2 &   3 &  2 &  0 &   1 &  2 &   2 &  1 &   1 &  0 &  0 &  1 &   1\\\\\n",
       "\tCHP\\_15YO-F-A\\_PBMC\\_DNA &   1 &   0 &  0 &  0 &   3 &  2 &   1 &  1 &   2 &  0 &  1 &  0 &   0\\\\\n",
       "\tCHP\\_15YO-F-B\\_PBMC\\_DNA &   0 &   0 &  2 &  1 &   0 &  1 &   1 &  1 &   1 &  0 &  0 &  0 &   0\\\\\n",
       "\tCHP\\_15YO-M\\_PBMC\\_DNA &   6 &   4 &  2 &  1 &   0 &  1 &   0 &  0 &   3 &  0 &  1 &  1 &   4\\\\\n",
       "\tCHP\\_16YO-M\\_PBMC\\_DNA &   0 &   0 &  1 &  0 &   1 &  0 &   0 &  1 &   0 &  1 &  0 &  0 &   0\\\\\n",
       "\tCHP\\_1YO-M-A\\_PBMC\\_DNA &   8 &   8 &  2 &  0 &   3 &  2 &   2 &  6 &   7 &  1 &  1 &  1 &   9\\\\\n",
       "\tCHP\\_1YO-M-B\\_PBMC\\_DNA &   0 &   1 &  0 &  0 &   1 &  0 &   0 &  0 &   1 &  0 &  0 &  0 &   0\\\\\n",
       "\tCHP\\_2YO-M\\_PBMC\\_DNA &   1 &   2 &  0 &  0 &   0 &  0 &   2 &  1 &   2 &  0 &  0 &  0 &   2\\\\\n",
       "\tCHP\\_323-03-PBMC-DNA &   7 &   4 &  3 &  1 &   3 &  1 &   6 &  2 &   5 &  0 &  2 &  0 &  10\\\\\n",
       "\tCHP\\_323-05-PBMC-DNA &  19 &  17 &  2 & 10 &  10 & 10 &  16 &  9 &  18 &  2 & 10 &  1 &  29\\\\\n",
       "\tCHP\\_324-05\\_PBMC-DNA &  30 &  32 &  8 &  8 &  18 & 10 &  30 & 16 &  19 &  4 & 12 &  7 &  33\\\\\n",
       "\tCHP\\_330-05-PBMC-DNA &  21 &  18 &  5 &  7 &  15 &  7 &  14 &  3 &  16 &  2 &  2 &  1 &  21\\\\\n",
       "\tCHP\\_331-04-PBMC-DNA &   3 &   4 &  1 &  0 &   4 &  2 &   6 &  4 &   1 &  2 &  1 &  0 &   8\\\\\n",
       "\tCHP\\_331-05-PBMC-DNA &  27 &  16 &  6 &  5 &  11 &  2 &  27 &  9 &  15 &  2 &  7 &  1 &  28\\\\\n",
       "\tCHP\\_335-03-PBMC-DNA &  26 &  18 &  5 &  5 &  17 &  8 &  26 &  5 &  14 &  3 & 12 &  2 &  37\\\\\n",
       "\t... & ... & ... & ... & ... & ... & ... & ... & ... & ... & ... & ... & ... & ...\\\\\n",
       "\tCHP\\_412-01\\_PBMC-DNA &   9 &  6 &  1 &  3 &  3 &  2 &  7 &  1 &  5 & 0 &  5 &  0 &   9\\\\\n",
       "\tCHP\\_412-02-PBMC-DNA &  52 & 52 & 16 & 17 & 32 & 22 & 44 & 29 & 28 & 2 & 18 &  8 &  80\\\\\n",
       "\tCHP\\_412-03-PBMC-DNA &   4 &  5 &  1 &  3 &  3 &  0 &  3 &  3 &  4 & 0 &  0 &  0 &   6\\\\\n",
       "\tCHP\\_413-01\\_PBMC-DNA &   1 &  3 &  1 &  2 &  1 &  3 &  3 &  1 &  4 & 1 &  4 &  0 &   6\\\\\n",
       "\tCHP\\_413-02\\_PBMC-DNA &  33 & 30 &  7 & 11 & 22 &  9 & 32 & 19 & 21 & 1 & 23 &  5 &  47\\\\\n",
       "\tCHP\\_414-01\\_PBMC-DNA &   3 &  3 &  1 &  1 &  0 &  0 &  3 &  0 &  1 & 0 &  0 &  0 &   1\\\\\n",
       "\tCHP\\_414-02-PBMC-DNA & 138 & 98 & 26 & 27 & 45 & 39 & 82 & 43 & 74 & 8 & 41 & 16 & 113\\\\\n",
       "\tCHP\\_414-03\\_PBMC-DNA &  94 & 68 & 25 & 26 & 30 & 30 & 41 & 17 & 29 & 6 & 32 &  6 &  83\\\\\n",
       "\tCHP\\_415-01-PBMC-DNA &  15 & 28 &  7 &  6 & 12 &  2 &  9 &  8 & 10 & 1 &  9 &  2 &  19\\\\\n",
       "\tCHP\\_415-02\\_PBMC-DNA &  16 &  6 &  6 &  3 &  2 &  1 &  9 &  7 &  9 & 1 &  3 &  0 &  18\\\\\n",
       "\tCHP\\_415-03\\_PBMC-DNA &   1 &  4 &  2 &  0 &  1 &  1 &  1 &  2 &  0 & 0 &  0 &  0 &   1\\\\\n",
       "\tCHP\\_416-01-PBMC-DNA &  62 & 61 & 28 & 21 & 26 & 14 & 59 & 30 & 48 & 1 & 32 &  4 &  91\\\\\n",
       "\tCHP\\_417-01\\_PBMC-DNA &  11 &  4 &  3 &  3 &  6 &  1 &  9 &  7 &  7 & 0 &  7 &  2 &  19\\\\\n",
       "\tCHP\\_418-01-PBMC-DNA &  20 & 22 &  4 &  9 & 16 &  8 & 14 &  6 & 11 & 2 &  3 &  1 &  21\\\\\n",
       "\tCHP\\_418-02\\_PBMC-DNA &  10 & 17 &  3 &  2 &  4 &  6 &  5 &  6 & 12 & 0 &  5 &  0 &  12\\\\\n",
       "\tCHP\\_419-02\\_PBMC-DNA &  26 & 15 &  3 &  3 &  9 &  9 & 29 &  6 & 23 & 1 & 10 &  1 &  26\\\\\n",
       "\tCHP\\_420-01\\_PBMC-DNA &  66 & 61 & 19 & 22 & 43 & 15 & 80 & 31 & 81 & 9 & 62 &  8 &  93\\\\\n",
       "\tCHP\\_422-01\\_-PBMC-DN &   9 &  4 &  0 &  1 &  1 &  0 &  7 &  5 &  6 & 2 &  3 &  0 & 111\\\\\n",
       "\tCHP\\_5YO-M\\_PBMC\\_DNA &   0 &  0 &  0 &  0 &  2 &  0 &  1 &  1 &  0 & 0 &  0 &  0 &   0\\\\\n",
       "\tCHP\\_8MO-F\\_PBMC\\_DNA &   2 &  4 &  0 &  0 &  1 &  1 &  3 &  2 &  0 & 0 &  0 &  0 &   5\\\\\n",
       "\tLFS\\_TCR-4535-PBMC-DNA &  16 & 14 &  7 &  6 & 17 &  7 & 17 &  7 & 14 & 1 & 13 &  1 &  25\\\\\n",
       "\tLFS\\_TCR-4570-PBMC-DNA &  21 & 20 &  6 &  8 & 16 &  5 & 18 & 10 & 20 & 5 & 18 &  1 &  28\\\\\n",
       "\tLFS\\_TCR-4602-PBMC-DNA &  46 & 18 &  6 &  9 & 12 &  4 & 26 & 10 & 11 & 2 & 10 &  0 &  12\\\\\n",
       "\tLFS\\_TCR-4758-PBMC-DNA &  33 & 24 & 18 &  7 & 12 &  4 & 29 & 19 & 19 & 2 & 22 &  9 &  42\\\\\n",
       "\tLFS\\_TCR-4759-PBMC-DNA &  26 & 19 &  8 &  8 & 15 &  6 & 28 & 17 & 19 & 1 &  5 &  1 &  16\\\\\n",
       "\tLFS\\_TCR-4783-PBMC-DNA &  13 &  4 &  4 &  3 &  4 &  5 &  6 &  2 &  4 & 1 &  1 &  2 &   5\\\\\n",
       "\tLFS\\_TCR-4837-PBMC-DNA &  39 & 24 & 12 & 11 & 23 &  5 & 33 & 11 & 14 & 2 &  4 &  4 &  23\\\\\n",
       "\tLFS\\_TCR-4838-PBMC-DNA &  28 & 17 &  3 & 10 & 11 &  9 & 22 &  9 & 11 & 0 &  6 &  1 &  17\\\\\n",
       "\tLFS\\_TCR-5014-PBMC-DNA &  21 & 13 &  5 &  8 & 12 &  6 & 11 &  8 & 14 & 1 &  8 &  5 &  30\\\\\n",
       "\tLFS\\_TCR-5067-PBMC-DNA &  29 & 21 & 11 &  5 & 17 &  8 & 17 & 19 & 17 & 3 & 17 &  1 &  38\\\\\n",
       "\\end{tabular}\n"
      ],
      "text/markdown": [
       "\n",
       "A data.frame: 258 x 13\n",
       "\n",
       "| <!--/--> | TRBJ1-1 &lt;int&gt; | TRBJ1-2 &lt;int&gt; | TRBJ1-3 &lt;int&gt; | TRBJ1-4 &lt;int&gt; | TRBJ1-5 &lt;int&gt; | TRBJ1-6 &lt;int&gt; | TRBJ2-1 &lt;int&gt; | TRBJ2-2 &lt;int&gt; | TRBJ2-3 &lt;int&gt; | TRBJ2-4 &lt;int&gt; | TRBJ2-5 &lt;int&gt; | TRBJ2-6 &lt;int&gt; | TRBJ2-7 &lt;int&gt; |\n",
       "|---|---|---|---|---|---|---|---|---|---|---|---|---|---|\n",
       "| CHP-328-04-PBMC-DNA |  52 |  46 | 16 | 21 |  37 | 12 |  60 | 21 |  51 |  4 | 31 |  7 |  94 |\n",
       "| CHP-328-05-PBMC-DNA |  22 |  13 |  4 |  5 |   8 |  3 |  25 |  9 |  19 |  4 |  5 |  1 |  33 |\n",
       "| CHP-351-03-PBMC-DNA | 114 | 100 | 40 | 38 |  72 | 42 | 151 | 70 | 107 | 10 | 89 | 20 | 238 |\n",
       "| CHP-353-04-PBMC-DNA | 359 | 269 | 73 | 83 | 138 | 82 | 159 | 78 |  96 |  5 | 87 | 26 | 239 |\n",
       "| CHP-363-04-PBMC-DNA | 105 |  79 | 24 | 34 |  65 | 40 |  84 | 43 |  69 |  3 | 41 | 20 | 144 |\n",
       "| CHP-369-01-PBMC-DNA |  76 |  62 | 26 | 25 |  46 | 16 |  95 | 51 |  82 | 10 | 53 | 12 | 173 |\n",
       "| CHP-371-03-PBMC-DNA | 113 |  57 | 12 | 20 |  42 | 23 | 110 | 41 |  53 |  2 | 23 | 12 | 103 |\n",
       "| CHP-377-02-PBMC-DNA |  83 |  73 | 18 | 31 |  49 | 26 |  61 | 39 |  42 |  3 | 24 | 11 |  53 |\n",
       "| CHP-386-04-PBMC-DNA |  99 |  70 | 28 | 26 |  46 | 23 |  64 | 51 |  72 |  2 | 17 | 23 | 143 |\n",
       "| CHP-386-05-PBMC-DNA |  34 |  28 | 11 | 10 |  20 | 25 |  46 | 25 |  38 |  0 |  8 |  7 |  86 |\n",
       "| CHP-398-02-PBMC-DNA |  81 |  69 | 20 | 18 |  45 | 33 |  64 | 28 |  23 |  3 | 32 |  8 |  81 |\n",
       "| CHP-404-03-PBMC-DNA |  30 |  18 |  6 |  6 |  16 | 11 |  21 |  8 |  21 |  1 |  7 |  4 |  27 |\n",
       "| CHP-411-02-PBMC-DNA | 220 | 165 | 54 | 50 |  78 | 50 | 130 | 69 | 111 | 11 | 76 | 22 | 205 |\n",
       "| CHP-416-02-PBMC-DNA |  13 |  11 |  6 |  8 |   8 |  6 |  12 |  6 |   7 |  4 |  3 |  1 |  15 |\n",
       "| CHP_10YO-M_PBMC_DNA |   6 |   7 |  0 |  0 |   0 |  1 |   0 |  1 |   1 |  0 |  1 |  0 |   2 |\n",
       "| CHP_11YO-M_PBMC_DNA |   2 |   3 |  2 |  0 |   1 |  2 |   2 |  1 |   1 |  0 |  0 |  1 |   1 |\n",
       "| CHP_15YO-F-A_PBMC_DNA |   1 |   0 |  0 |  0 |   3 |  2 |   1 |  1 |   2 |  0 |  1 |  0 |   0 |\n",
       "| CHP_15YO-F-B_PBMC_DNA |   0 |   0 |  2 |  1 |   0 |  1 |   1 |  1 |   1 |  0 |  0 |  0 |   0 |\n",
       "| CHP_15YO-M_PBMC_DNA |   6 |   4 |  2 |  1 |   0 |  1 |   0 |  0 |   3 |  0 |  1 |  1 |   4 |\n",
       "| CHP_16YO-M_PBMC_DNA |   0 |   0 |  1 |  0 |   1 |  0 |   0 |  1 |   0 |  1 |  0 |  0 |   0 |\n",
       "| CHP_1YO-M-A_PBMC_DNA |   8 |   8 |  2 |  0 |   3 |  2 |   2 |  6 |   7 |  1 |  1 |  1 |   9 |\n",
       "| CHP_1YO-M-B_PBMC_DNA |   0 |   1 |  0 |  0 |   1 |  0 |   0 |  0 |   1 |  0 |  0 |  0 |   0 |\n",
       "| CHP_2YO-M_PBMC_DNA |   1 |   2 |  0 |  0 |   0 |  0 |   2 |  1 |   2 |  0 |  0 |  0 |   2 |\n",
       "| CHP_323-03-PBMC-DNA |   7 |   4 |  3 |  1 |   3 |  1 |   6 |  2 |   5 |  0 |  2 |  0 |  10 |\n",
       "| CHP_323-05-PBMC-DNA |  19 |  17 |  2 | 10 |  10 | 10 |  16 |  9 |  18 |  2 | 10 |  1 |  29 |\n",
       "| CHP_324-05_PBMC-DNA |  30 |  32 |  8 |  8 |  18 | 10 |  30 | 16 |  19 |  4 | 12 |  7 |  33 |\n",
       "| CHP_330-05-PBMC-DNA |  21 |  18 |  5 |  7 |  15 |  7 |  14 |  3 |  16 |  2 |  2 |  1 |  21 |\n",
       "| CHP_331-04-PBMC-DNA |   3 |   4 |  1 |  0 |   4 |  2 |   6 |  4 |   1 |  2 |  1 |  0 |   8 |\n",
       "| CHP_331-05-PBMC-DNA |  27 |  16 |  6 |  5 |  11 |  2 |  27 |  9 |  15 |  2 |  7 |  1 |  28 |\n",
       "| CHP_335-03-PBMC-DNA |  26 |  18 |  5 |  5 |  17 |  8 |  26 |  5 |  14 |  3 | 12 |  2 |  37 |\n",
       "| ... | ... | ... | ... | ... | ... | ... | ... | ... | ... | ... | ... | ... | ... |\n",
       "| CHP_412-01_PBMC-DNA |   9 |  6 |  1 |  3 |  3 |  2 |  7 |  1 |  5 | 0 |  5 |  0 |   9 |\n",
       "| CHP_412-02-PBMC-DNA |  52 | 52 | 16 | 17 | 32 | 22 | 44 | 29 | 28 | 2 | 18 |  8 |  80 |\n",
       "| CHP_412-03-PBMC-DNA |   4 |  5 |  1 |  3 |  3 |  0 |  3 |  3 |  4 | 0 |  0 |  0 |   6 |\n",
       "| CHP_413-01_PBMC-DNA |   1 |  3 |  1 |  2 |  1 |  3 |  3 |  1 |  4 | 1 |  4 |  0 |   6 |\n",
       "| CHP_413-02_PBMC-DNA |  33 | 30 |  7 | 11 | 22 |  9 | 32 | 19 | 21 | 1 | 23 |  5 |  47 |\n",
       "| CHP_414-01_PBMC-DNA |   3 |  3 |  1 |  1 |  0 |  0 |  3 |  0 |  1 | 0 |  0 |  0 |   1 |\n",
       "| CHP_414-02-PBMC-DNA | 138 | 98 | 26 | 27 | 45 | 39 | 82 | 43 | 74 | 8 | 41 | 16 | 113 |\n",
       "| CHP_414-03_PBMC-DNA |  94 | 68 | 25 | 26 | 30 | 30 | 41 | 17 | 29 | 6 | 32 |  6 |  83 |\n",
       "| CHP_415-01-PBMC-DNA |  15 | 28 |  7 |  6 | 12 |  2 |  9 |  8 | 10 | 1 |  9 |  2 |  19 |\n",
       "| CHP_415-02_PBMC-DNA |  16 |  6 |  6 |  3 |  2 |  1 |  9 |  7 |  9 | 1 |  3 |  0 |  18 |\n",
       "| CHP_415-03_PBMC-DNA |   1 |  4 |  2 |  0 |  1 |  1 |  1 |  2 |  0 | 0 |  0 |  0 |   1 |\n",
       "| CHP_416-01-PBMC-DNA |  62 | 61 | 28 | 21 | 26 | 14 | 59 | 30 | 48 | 1 | 32 |  4 |  91 |\n",
       "| CHP_417-01_PBMC-DNA |  11 |  4 |  3 |  3 |  6 |  1 |  9 |  7 |  7 | 0 |  7 |  2 |  19 |\n",
       "| CHP_418-01-PBMC-DNA |  20 | 22 |  4 |  9 | 16 |  8 | 14 |  6 | 11 | 2 |  3 |  1 |  21 |\n",
       "| CHP_418-02_PBMC-DNA |  10 | 17 |  3 |  2 |  4 |  6 |  5 |  6 | 12 | 0 |  5 |  0 |  12 |\n",
       "| CHP_419-02_PBMC-DNA |  26 | 15 |  3 |  3 |  9 |  9 | 29 |  6 | 23 | 1 | 10 |  1 |  26 |\n",
       "| CHP_420-01_PBMC-DNA |  66 | 61 | 19 | 22 | 43 | 15 | 80 | 31 | 81 | 9 | 62 |  8 |  93 |\n",
       "| CHP_422-01_-PBMC-DN |   9 |  4 |  0 |  1 |  1 |  0 |  7 |  5 |  6 | 2 |  3 |  0 | 111 |\n",
       "| CHP_5YO-M_PBMC_DNA |   0 |  0 |  0 |  0 |  2 |  0 |  1 |  1 |  0 | 0 |  0 |  0 |   0 |\n",
       "| CHP_8MO-F_PBMC_DNA |   2 |  4 |  0 |  0 |  1 |  1 |  3 |  2 |  0 | 0 |  0 |  0 |   5 |\n",
       "| LFS_TCR-4535-PBMC-DNA |  16 | 14 |  7 |  6 | 17 |  7 | 17 |  7 | 14 | 1 | 13 |  1 |  25 |\n",
       "| LFS_TCR-4570-PBMC-DNA |  21 | 20 |  6 |  8 | 16 |  5 | 18 | 10 | 20 | 5 | 18 |  1 |  28 |\n",
       "| LFS_TCR-4602-PBMC-DNA |  46 | 18 |  6 |  9 | 12 |  4 | 26 | 10 | 11 | 2 | 10 |  0 |  12 |\n",
       "| LFS_TCR-4758-PBMC-DNA |  33 | 24 | 18 |  7 | 12 |  4 | 29 | 19 | 19 | 2 | 22 |  9 |  42 |\n",
       "| LFS_TCR-4759-PBMC-DNA |  26 | 19 |  8 |  8 | 15 |  6 | 28 | 17 | 19 | 1 |  5 |  1 |  16 |\n",
       "| LFS_TCR-4783-PBMC-DNA |  13 |  4 |  4 |  3 |  4 |  5 |  6 |  2 |  4 | 1 |  1 |  2 |   5 |\n",
       "| LFS_TCR-4837-PBMC-DNA |  39 | 24 | 12 | 11 | 23 |  5 | 33 | 11 | 14 | 2 |  4 |  4 |  23 |\n",
       "| LFS_TCR-4838-PBMC-DNA |  28 | 17 |  3 | 10 | 11 |  9 | 22 |  9 | 11 | 0 |  6 |  1 |  17 |\n",
       "| LFS_TCR-5014-PBMC-DNA |  21 | 13 |  5 |  8 | 12 |  6 | 11 |  8 | 14 | 1 |  8 |  5 |  30 |\n",
       "| LFS_TCR-5067-PBMC-DNA |  29 | 21 | 11 |  5 | 17 |  8 | 17 | 19 | 17 | 3 | 17 |  1 |  38 |\n",
       "\n"
      ],
      "text/plain": [
       "                      TRBJ1-1 TRBJ1-2 TRBJ1-3 TRBJ1-4 TRBJ1-5 TRBJ1-6 TRBJ2-1\n",
       "CHP-328-04-PBMC-DNA    52      46     16      21       37     12       60    \n",
       "CHP-328-05-PBMC-DNA    22      13      4       5        8      3       25    \n",
       "CHP-351-03-PBMC-DNA   114     100     40      38       72     42      151    \n",
       "CHP-353-04-PBMC-DNA   359     269     73      83      138     82      159    \n",
       "CHP-363-04-PBMC-DNA   105      79     24      34       65     40       84    \n",
       "CHP-369-01-PBMC-DNA    76      62     26      25       46     16       95    \n",
       "CHP-371-03-PBMC-DNA   113      57     12      20       42     23      110    \n",
       "CHP-377-02-PBMC-DNA    83      73     18      31       49     26       61    \n",
       "CHP-386-04-PBMC-DNA    99      70     28      26       46     23       64    \n",
       "CHP-386-05-PBMC-DNA    34      28     11      10       20     25       46    \n",
       "CHP-398-02-PBMC-DNA    81      69     20      18       45     33       64    \n",
       "CHP-404-03-PBMC-DNA    30      18      6       6       16     11       21    \n",
       "CHP-411-02-PBMC-DNA   220     165     54      50       78     50      130    \n",
       "CHP-416-02-PBMC-DNA    13      11      6       8        8      6       12    \n",
       "CHP_10YO-M_PBMC_DNA     6       7      0       0        0      1        0    \n",
       "CHP_11YO-M_PBMC_DNA     2       3      2       0        1      2        2    \n",
       "CHP_15YO-F-A_PBMC_DNA   1       0      0       0        3      2        1    \n",
       "CHP_15YO-F-B_PBMC_DNA   0       0      2       1        0      1        1    \n",
       "CHP_15YO-M_PBMC_DNA     6       4      2       1        0      1        0    \n",
       "CHP_16YO-M_PBMC_DNA     0       0      1       0        1      0        0    \n",
       "CHP_1YO-M-A_PBMC_DNA    8       8      2       0        3      2        2    \n",
       "CHP_1YO-M-B_PBMC_DNA    0       1      0       0        1      0        0    \n",
       "CHP_2YO-M_PBMC_DNA      1       2      0       0        0      0        2    \n",
       "CHP_323-03-PBMC-DNA     7       4      3       1        3      1        6    \n",
       "CHP_323-05-PBMC-DNA    19      17      2      10       10     10       16    \n",
       "CHP_324-05_PBMC-DNA    30      32      8       8       18     10       30    \n",
       "CHP_330-05-PBMC-DNA    21      18      5       7       15      7       14    \n",
       "CHP_331-04-PBMC-DNA     3       4      1       0        4      2        6    \n",
       "CHP_331-05-PBMC-DNA    27      16      6       5       11      2       27    \n",
       "CHP_335-03-PBMC-DNA    26      18      5       5       17      8       26    \n",
       "...                   ...     ...     ...     ...     ...     ...     ...    \n",
       "CHP_412-01_PBMC-DNA     9      6       1       3       3       2       7     \n",
       "CHP_412-02-PBMC-DNA    52     52      16      17      32      22      44     \n",
       "CHP_412-03-PBMC-DNA     4      5       1       3       3       0       3     \n",
       "CHP_413-01_PBMC-DNA     1      3       1       2       1       3       3     \n",
       "CHP_413-02_PBMC-DNA    33     30       7      11      22       9      32     \n",
       "CHP_414-01_PBMC-DNA     3      3       1       1       0       0       3     \n",
       "CHP_414-02-PBMC-DNA   138     98      26      27      45      39      82     \n",
       "CHP_414-03_PBMC-DNA    94     68      25      26      30      30      41     \n",
       "CHP_415-01-PBMC-DNA    15     28       7       6      12       2       9     \n",
       "CHP_415-02_PBMC-DNA    16      6       6       3       2       1       9     \n",
       "CHP_415-03_PBMC-DNA     1      4       2       0       1       1       1     \n",
       "CHP_416-01-PBMC-DNA    62     61      28      21      26      14      59     \n",
       "CHP_417-01_PBMC-DNA    11      4       3       3       6       1       9     \n",
       "CHP_418-01-PBMC-DNA    20     22       4       9      16       8      14     \n",
       "CHP_418-02_PBMC-DNA    10     17       3       2       4       6       5     \n",
       "CHP_419-02_PBMC-DNA    26     15       3       3       9       9      29     \n",
       "CHP_420-01_PBMC-DNA    66     61      19      22      43      15      80     \n",
       "CHP_422-01_-PBMC-DN     9      4       0       1       1       0       7     \n",
       "CHP_5YO-M_PBMC_DNA      0      0       0       0       2       0       1     \n",
       "CHP_8MO-F_PBMC_DNA      2      4       0       0       1       1       3     \n",
       "LFS_TCR-4535-PBMC-DNA  16     14       7       6      17       7      17     \n",
       "LFS_TCR-4570-PBMC-DNA  21     20       6       8      16       5      18     \n",
       "LFS_TCR-4602-PBMC-DNA  46     18       6       9      12       4      26     \n",
       "LFS_TCR-4758-PBMC-DNA  33     24      18       7      12       4      29     \n",
       "LFS_TCR-4759-PBMC-DNA  26     19       8       8      15       6      28     \n",
       "LFS_TCR-4783-PBMC-DNA  13      4       4       3       4       5       6     \n",
       "LFS_TCR-4837-PBMC-DNA  39     24      12      11      23       5      33     \n",
       "LFS_TCR-4838-PBMC-DNA  28     17       3      10      11       9      22     \n",
       "LFS_TCR-5014-PBMC-DNA  21     13       5       8      12       6      11     \n",
       "LFS_TCR-5067-PBMC-DNA  29     21      11       5      17       8      17     \n",
       "                      TRBJ2-2 TRBJ2-3 TRBJ2-4 TRBJ2-5 TRBJ2-6 TRBJ2-7\n",
       "CHP-328-04-PBMC-DNA   21       51      4      31       7       94    \n",
       "CHP-328-05-PBMC-DNA    9       19      4       5       1       33    \n",
       "CHP-351-03-PBMC-DNA   70      107     10      89      20      238    \n",
       "CHP-353-04-PBMC-DNA   78       96      5      87      26      239    \n",
       "CHP-363-04-PBMC-DNA   43       69      3      41      20      144    \n",
       "CHP-369-01-PBMC-DNA   51       82     10      53      12      173    \n",
       "CHP-371-03-PBMC-DNA   41       53      2      23      12      103    \n",
       "CHP-377-02-PBMC-DNA   39       42      3      24      11       53    \n",
       "CHP-386-04-PBMC-DNA   51       72      2      17      23      143    \n",
       "CHP-386-05-PBMC-DNA   25       38      0       8       7       86    \n",
       "CHP-398-02-PBMC-DNA   28       23      3      32       8       81    \n",
       "CHP-404-03-PBMC-DNA    8       21      1       7       4       27    \n",
       "CHP-411-02-PBMC-DNA   69      111     11      76      22      205    \n",
       "CHP-416-02-PBMC-DNA    6        7      4       3       1       15    \n",
       "CHP_10YO-M_PBMC_DNA    1        1      0       1       0        2    \n",
       "CHP_11YO-M_PBMC_DNA    1        1      0       0       1        1    \n",
       "CHP_15YO-F-A_PBMC_DNA  1        2      0       1       0        0    \n",
       "CHP_15YO-F-B_PBMC_DNA  1        1      0       0       0        0    \n",
       "CHP_15YO-M_PBMC_DNA    0        3      0       1       1        4    \n",
       "CHP_16YO-M_PBMC_DNA    1        0      1       0       0        0    \n",
       "CHP_1YO-M-A_PBMC_DNA   6        7      1       1       1        9    \n",
       "CHP_1YO-M-B_PBMC_DNA   0        1      0       0       0        0    \n",
       "CHP_2YO-M_PBMC_DNA     1        2      0       0       0        2    \n",
       "CHP_323-03-PBMC-DNA    2        5      0       2       0       10    \n",
       "CHP_323-05-PBMC-DNA    9       18      2      10       1       29    \n",
       "CHP_324-05_PBMC-DNA   16       19      4      12       7       33    \n",
       "CHP_330-05-PBMC-DNA    3       16      2       2       1       21    \n",
       "CHP_331-04-PBMC-DNA    4        1      2       1       0        8    \n",
       "CHP_331-05-PBMC-DNA    9       15      2       7       1       28    \n",
       "CHP_335-03-PBMC-DNA    5       14      3      12       2       37    \n",
       "...                   ...     ...     ...     ...     ...     ...    \n",
       "CHP_412-01_PBMC-DNA    1       5      0        5       0        9    \n",
       "CHP_412-02-PBMC-DNA   29      28      2       18       8       80    \n",
       "CHP_412-03-PBMC-DNA    3       4      0        0       0        6    \n",
       "CHP_413-01_PBMC-DNA    1       4      1        4       0        6    \n",
       "CHP_413-02_PBMC-DNA   19      21      1       23       5       47    \n",
       "CHP_414-01_PBMC-DNA    0       1      0        0       0        1    \n",
       "CHP_414-02-PBMC-DNA   43      74      8       41      16      113    \n",
       "CHP_414-03_PBMC-DNA   17      29      6       32       6       83    \n",
       "CHP_415-01-PBMC-DNA    8      10      1        9       2       19    \n",
       "CHP_415-02_PBMC-DNA    7       9      1        3       0       18    \n",
       "CHP_415-03_PBMC-DNA    2       0      0        0       0        1    \n",
       "CHP_416-01-PBMC-DNA   30      48      1       32       4       91    \n",
       "CHP_417-01_PBMC-DNA    7       7      0        7       2       19    \n",
       "CHP_418-01-PBMC-DNA    6      11      2        3       1       21    \n",
       "CHP_418-02_PBMC-DNA    6      12      0        5       0       12    \n",
       "CHP_419-02_PBMC-DNA    6      23      1       10       1       26    \n",
       "CHP_420-01_PBMC-DNA   31      81      9       62       8       93    \n",
       "CHP_422-01_-PBMC-DN    5       6      2        3       0      111    \n",
       "CHP_5YO-M_PBMC_DNA     1       0      0        0       0        0    \n",
       "CHP_8MO-F_PBMC_DNA     2       0      0        0       0        5    \n",
       "LFS_TCR-4535-PBMC-DNA  7      14      1       13       1       25    \n",
       "LFS_TCR-4570-PBMC-DNA 10      20      5       18       1       28    \n",
       "LFS_TCR-4602-PBMC-DNA 10      11      2       10       0       12    \n",
       "LFS_TCR-4758-PBMC-DNA 19      19      2       22       9       42    \n",
       "LFS_TCR-4759-PBMC-DNA 17      19      1        5       1       16    \n",
       "LFS_TCR-4783-PBMC-DNA  2       4      1        1       2        5    \n",
       "LFS_TCR-4837-PBMC-DNA 11      14      2        4       4       23    \n",
       "LFS_TCR-4838-PBMC-DNA  9      11      0        6       1       17    \n",
       "LFS_TCR-5014-PBMC-DNA  8      14      1        8       5       30    \n",
       "LFS_TCR-5067-PBMC-DNA 19      17      3       17       1       38    "
      ]
     },
     "metadata": {},
     "output_type": "display_data"
    }
   ],
   "source": [
    "jgene_mat"
   ]
  },
  {
   "cell_type": "code",
   "execution_count": 60,
   "metadata": {
    "vscode": {
     "languageId": "r"
    }
   },
   "outputs": [],
   "source": [
    "mypca <- prcomp(jgene_mat, scale = TRUE)"
   ]
  },
  {
   "cell_type": "code",
   "execution_count": 61,
   "metadata": {
    "vscode": {
     "languageId": "r"
    }
   },
   "outputs": [],
   "source": [
    "out <- mypca$x\n",
    "mydf <- data.frame(out)"
   ]
  },
  {
   "cell_type": "code",
   "execution_count": 62,
   "metadata": {
    "vscode": {
     "languageId": "r"
    }
   },
   "outputs": [
    {
     "data": {
      "text/html": [
       "<table class=\"dataframe\">\n",
       "<caption>A matrix: 6 x 13 of type dbl</caption>\n",
       "<thead>\n",
       "\t<tr><th></th><th scope=col>PC1</th><th scope=col>PC2</th><th scope=col>PC3</th><th scope=col>PC4</th><th scope=col>PC5</th><th scope=col>PC6</th><th scope=col>PC7</th><th scope=col>PC8</th><th scope=col>PC9</th><th scope=col>PC10</th><th scope=col>PC11</th><th scope=col>PC12</th><th scope=col>PC13</th></tr>\n",
       "</thead>\n",
       "<tbody>\n",
       "\t<tr><th scope=row>CHP-328-04-PBMC-DNA</th><td> -2.177149</td><td>-0.1661816</td><td> 0.3687299</td><td>-0.2752007</td><td>-0.2077164</td><td>-0.60414725</td><td>-0.16201849</td><td>-0.01511295</td><td> 0.43047095</td><td> 0.03822050</td><td> 0.01436271</td><td>-0.12182549</td><td>-0.10655211</td></tr>\n",
       "\t<tr><th scope=row>CHP-328-05-PBMC-DNA</th><td>  1.190934</td><td>-0.6575784</td><td>-0.2299612</td><td>-0.2202804</td><td> 0.2093163</td><td>-0.09342315</td><td>-0.13692283</td><td>-0.27253515</td><td>-0.09391664</td><td> 0.14894586</td><td> 0.01185951</td><td>-0.04047046</td><td> 0.05524235</td></tr>\n",
       "\t<tr><th scope=row>CHP-351-03-PBMC-DNA</th><td> -9.601222</td><td>-1.0593635</td><td> 1.6247639</td><td>-0.1968443</td><td>-1.0710003</td><td>-0.18135382</td><td>-0.80772967</td><td> 0.82671338</td><td> 0.19270228</td><td> 0.04732945</td><td>-0.03199291</td><td> 0.17698111</td><td>-0.07509704</td></tr>\n",
       "\t<tr><th scope=row>CHP-353-04-PBMC-DNA</th><td>-15.586967</td><td> 4.2694615</td><td>-1.8066360</td><td> 1.6357500</td><td>-0.8766210</td><td>-0.14746343</td><td> 0.46986389</td><td>-0.46606503</td><td> 0.35418411</td><td> 0.63144634</td><td>-0.48800149</td><td> 0.11867217</td><td>-0.03119597</td></tr>\n",
       "\t<tr><th scope=row>CHP-363-04-PBMC-DNA</th><td> -5.791357</td><td> 1.0336797</td><td> 1.2500966</td><td> 0.8037380</td><td> 0.6086951</td><td> 0.14274773</td><td>-0.04513192</td><td> 0.49346464</td><td> 0.63107768</td><td>-0.24398997</td><td>-0.10398872</td><td>-0.05122336</td><td>-0.01076443</td></tr>\n",
       "\t<tr><th scope=row>CHP-369-01-PBMC-DNA</th><td> -5.409429</td><td>-1.7081537</td><td> 0.8792851</td><td>-0.2725720</td><td>-0.4129596</td><td>-0.69994928</td><td>-0.79020279</td><td> 0.15719192</td><td>-0.07271708</td><td> 0.19836678</td><td>-0.43235948</td><td>-0.08481869</td><td> 0.07813747</td></tr>\n",
       "</tbody>\n",
       "</table>\n"
      ],
      "text/latex": [
       "A matrix: 6 x 13 of type dbl\n",
       "\\begin{tabular}{r|lllllllllllll}\n",
       "  & PC1 & PC2 & PC3 & PC4 & PC5 & PC6 & PC7 & PC8 & PC9 & PC10 & PC11 & PC12 & PC13\\\\\n",
       "\\hline\n",
       "\tCHP-328-04-PBMC-DNA &  -2.177149 & -0.1661816 &  0.3687299 & -0.2752007 & -0.2077164 & -0.60414725 & -0.16201849 & -0.01511295 &  0.43047095 &  0.03822050 &  0.01436271 & -0.12182549 & -0.10655211\\\\\n",
       "\tCHP-328-05-PBMC-DNA &   1.190934 & -0.6575784 & -0.2299612 & -0.2202804 &  0.2093163 & -0.09342315 & -0.13692283 & -0.27253515 & -0.09391664 &  0.14894586 &  0.01185951 & -0.04047046 &  0.05524235\\\\\n",
       "\tCHP-351-03-PBMC-DNA &  -9.601222 & -1.0593635 &  1.6247639 & -0.1968443 & -1.0710003 & -0.18135382 & -0.80772967 &  0.82671338 &  0.19270228 &  0.04732945 & -0.03199291 &  0.17698111 & -0.07509704\\\\\n",
       "\tCHP-353-04-PBMC-DNA & -15.586967 &  4.2694615 & -1.8066360 &  1.6357500 & -0.8766210 & -0.14746343 &  0.46986389 & -0.46606503 &  0.35418411 &  0.63144634 & -0.48800149 &  0.11867217 & -0.03119597\\\\\n",
       "\tCHP-363-04-PBMC-DNA &  -5.791357 &  1.0336797 &  1.2500966 &  0.8037380 &  0.6086951 &  0.14274773 & -0.04513192 &  0.49346464 &  0.63107768 & -0.24398997 & -0.10398872 & -0.05122336 & -0.01076443\\\\\n",
       "\tCHP-369-01-PBMC-DNA &  -5.409429 & -1.7081537 &  0.8792851 & -0.2725720 & -0.4129596 & -0.69994928 & -0.79020279 &  0.15719192 & -0.07271708 &  0.19836678 & -0.43235948 & -0.08481869 &  0.07813747\\\\\n",
       "\\end{tabular}\n"
      ],
      "text/markdown": [
       "\n",
       "A matrix: 6 x 13 of type dbl\n",
       "\n",
       "| <!--/--> | PC1 | PC2 | PC3 | PC4 | PC5 | PC6 | PC7 | PC8 | PC9 | PC10 | PC11 | PC12 | PC13 |\n",
       "|---|---|---|---|---|---|---|---|---|---|---|---|---|---|\n",
       "| CHP-328-04-PBMC-DNA |  -2.177149 | -0.1661816 |  0.3687299 | -0.2752007 | -0.2077164 | -0.60414725 | -0.16201849 | -0.01511295 |  0.43047095 |  0.03822050 |  0.01436271 | -0.12182549 | -0.10655211 |\n",
       "| CHP-328-05-PBMC-DNA |   1.190934 | -0.6575784 | -0.2299612 | -0.2202804 |  0.2093163 | -0.09342315 | -0.13692283 | -0.27253515 | -0.09391664 |  0.14894586 |  0.01185951 | -0.04047046 |  0.05524235 |\n",
       "| CHP-351-03-PBMC-DNA |  -9.601222 | -1.0593635 |  1.6247639 | -0.1968443 | -1.0710003 | -0.18135382 | -0.80772967 |  0.82671338 |  0.19270228 |  0.04732945 | -0.03199291 |  0.17698111 | -0.07509704 |\n",
       "| CHP-353-04-PBMC-DNA | -15.586967 |  4.2694615 | -1.8066360 |  1.6357500 | -0.8766210 | -0.14746343 |  0.46986389 | -0.46606503 |  0.35418411 |  0.63144634 | -0.48800149 |  0.11867217 | -0.03119597 |\n",
       "| CHP-363-04-PBMC-DNA |  -5.791357 |  1.0336797 |  1.2500966 |  0.8037380 |  0.6086951 |  0.14274773 | -0.04513192 |  0.49346464 |  0.63107768 | -0.24398997 | -0.10398872 | -0.05122336 | -0.01076443 |\n",
       "| CHP-369-01-PBMC-DNA |  -5.409429 | -1.7081537 |  0.8792851 | -0.2725720 | -0.4129596 | -0.69994928 | -0.79020279 |  0.15719192 | -0.07271708 |  0.19836678 | -0.43235948 | -0.08481869 |  0.07813747 |\n",
       "\n"
      ],
      "text/plain": [
       "                    PC1        PC2        PC3        PC4        PC5       \n",
       "CHP-328-04-PBMC-DNA  -2.177149 -0.1661816  0.3687299 -0.2752007 -0.2077164\n",
       "CHP-328-05-PBMC-DNA   1.190934 -0.6575784 -0.2299612 -0.2202804  0.2093163\n",
       "CHP-351-03-PBMC-DNA  -9.601222 -1.0593635  1.6247639 -0.1968443 -1.0710003\n",
       "CHP-353-04-PBMC-DNA -15.586967  4.2694615 -1.8066360  1.6357500 -0.8766210\n",
       "CHP-363-04-PBMC-DNA  -5.791357  1.0336797  1.2500966  0.8037380  0.6086951\n",
       "CHP-369-01-PBMC-DNA  -5.409429 -1.7081537  0.8792851 -0.2725720 -0.4129596\n",
       "                    PC6         PC7         PC8         PC9         PC10       \n",
       "CHP-328-04-PBMC-DNA -0.60414725 -0.16201849 -0.01511295  0.43047095  0.03822050\n",
       "CHP-328-05-PBMC-DNA -0.09342315 -0.13692283 -0.27253515 -0.09391664  0.14894586\n",
       "CHP-351-03-PBMC-DNA -0.18135382 -0.80772967  0.82671338  0.19270228  0.04732945\n",
       "CHP-353-04-PBMC-DNA -0.14746343  0.46986389 -0.46606503  0.35418411  0.63144634\n",
       "CHP-363-04-PBMC-DNA  0.14274773 -0.04513192  0.49346464  0.63107768 -0.24398997\n",
       "CHP-369-01-PBMC-DNA -0.69994928 -0.79020279  0.15719192 -0.07271708  0.19836678\n",
       "                    PC11        PC12        PC13       \n",
       "CHP-328-04-PBMC-DNA  0.01436271 -0.12182549 -0.10655211\n",
       "CHP-328-05-PBMC-DNA  0.01185951 -0.04047046  0.05524235\n",
       "CHP-351-03-PBMC-DNA -0.03199291  0.17698111 -0.07509704\n",
       "CHP-353-04-PBMC-DNA -0.48800149  0.11867217 -0.03119597\n",
       "CHP-363-04-PBMC-DNA -0.10398872 -0.05122336 -0.01076443\n",
       "CHP-369-01-PBMC-DNA -0.43235948 -0.08481869  0.07813747"
      ]
     },
     "metadata": {},
     "output_type": "display_data"
    }
   ],
   "source": [
    "head(out)"
   ]
  },
  {
   "cell_type": "code",
   "execution_count": 63,
   "metadata": {
    "vscode": {
     "languageId": "r"
    }
   },
   "outputs": [],
   "source": [
    "p0 <- fviz_pca_ind(mypca,geom = \"point\", pointshape = 16, pointsize = 2, alpha = 1,\n",
    "                    ellipse.alpha = 0, invisible=\"quali\", repel = TRUE,\n",
    "                       title = \"PCA of frequent J genes (n = 13)\")"
   ]
  },
  {
   "cell_type": "code",
   "execution_count": 64,
   "metadata": {
    "vscode": {
     "languageId": "r"
    }
   },
   "outputs": [
    {
     "data": {
      "image/png": "[encoded data removed]",
      "text/plain": [
       "plot without title"
      ]
     },
     "metadata": {
      "image/png": {
       "height": 420,
       "width": 420
      }
     },
     "output_type": "display_data"
    }
   ],
   "source": [
    "p0"
   ]
  },
  {
   "cell_type": "code",
   "execution_count": 65,
   "metadata": {
    "vscode": {
     "languageId": "r"
    }
   },
   "outputs": [],
   "source": [
    "readr::write_rds(mydf, paste0(datapath, \"/capTCRseq/INT_PBMC_J_PCA_postqc.rds\"))"
   ]
  },
  {
   "cell_type": "code",
   "execution_count": null,
   "metadata": {
    "vscode": {
     "languageId": "r"
    }
   },
   "outputs": [],
   "source": []
  }
 ],
 "metadata": {
  "kernelspec": {
   "display_name": "R 4.0",
   "language": "R",
   "name": "ir40"
  },
  "language_info": {
   "codemirror_mode": "r",
   "file_extension": ".r",
   "mimetype": "text/x-r-source",
   "name": "R",
   "pygments_lexer": "r",
   "version": "4.2.2"
  },
  "orig_nbformat": 4,
  "vscode": {
   "interpreter": {
    "hash": "aee8b7b246df8f9039afb4144a1f6fd8d2ca17a180786b69acc140d282b71a49"
   }
  }
 },
 "nbformat": 4,
 "nbformat_minor": 2
}
