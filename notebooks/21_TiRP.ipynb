{
 "cells": [
  {
   "cell_type": "code",
   "execution_count": 1,
   "metadata": {
    "vscode": {
     "languageId": "r"
    }
   },
   "outputs": [
    {
     "data": {
      "text/html": [
       "'en_US.UTF-8/en_US.UTF-8/en_US.UTF-8/C/en_US.UTF-8/C'"
      ],
      "text/latex": [
       "'en\\_US.UTF-8/en\\_US.UTF-8/en\\_US.UTF-8/C/en\\_US.UTF-8/C'"
      ],
      "text/markdown": [
       "'en_US.UTF-8/en_US.UTF-8/en_US.UTF-8/C/en_US.UTF-8/C'"
      ],
      "text/plain": [
       "[1] \"en_US.UTF-8/en_US.UTF-8/en_US.UTF-8/C/en_US.UTF-8/C\""
      ]
     },
     "metadata": {},
     "output_type": "display_data"
    }
   ],
   "source": [
    "Sys.setlocale(category = \"LC_ALL\", locale = \"en_US.UTF-8\")"
   ]
  },
  {
   "cell_type": "markdown",
   "metadata": {},
   "source": [
    "# Dependencies"
   ]
  },
  {
   "cell_type": "code",
   "execution_count": 2,
   "metadata": {
    "vscode": {
     "languageId": "r"
    }
   },
   "outputs": [],
   "source": [
    "pacman::p_load(dplyr, ggplot2, ggbeeswarm, ggpubr, ggsignif, rms)"
   ]
  },
  {
   "cell_type": "markdown",
   "metadata": {},
   "source": [
    "# Functions"
   ]
  },
  {
   "cell_type": "code",
   "execution_count": 3,
   "metadata": {
    "vscode": {
     "languageId": "r"
    }
   },
   "outputs": [],
   "source": [
    "source(\"/Users/anabbi/git/ped_CapTCRseq/R/ggplot2_theme.R\")\n",
    "source(\"/Users/anabbi/git/ped_CapTCRseq/R/color_schemes.R\")\n",
    "source(\"/Users/anabbi/git/ped_CapTCRseq/R/Misc_functions.R\")"
   ]
  },
  {
   "cell_type": "markdown",
   "metadata": {},
   "source": [
    "# Paths"
   ]
  },
  {
   "cell_type": "code",
   "execution_count": 4,
   "metadata": {
    "vscode": {
     "languageId": "r"
    }
   },
   "outputs": [],
   "source": [
    "datapath <- \"/Users/anabbi/OneDrive - UHN/Documents/INTERCEPT/Data/\"\n",
    "plotpath <- \"/Users/anabbi/OneDrive - UHN/Documents/INTERCEPT/Plots/\"\n",
    "manifestpath <- \"/Users/anabbi/OneDrive - UHN/Documents/INTERCEPT/Manifests/\"\n",
    "gitpath <- \"/Users/anabbi/git/ped_CapTCRseq/\""
   ]
  },
  {
   "cell_type": "code",
   "execution_count": 5,
   "metadata": {
    "vscode": {
     "languageId": "r"
    }
   },
   "outputs": [],
   "source": [
    "h4hpath <- \"/Users/anabbi/Desktop/H4H/INTERCEPT/\""
   ]
  },
  {
   "cell_type": "markdown",
   "metadata": {},
   "source": [
    "# Main"
   ]
  },
  {
   "cell_type": "code",
   "execution_count": 6,
   "metadata": {
    "vscode": {
     "languageId": "r"
    }
   },
   "outputs": [],
   "source": [
    "load(file = paste0(datapath,\"capTCRseq/TRBfiles.RData\"))"
   ]
  },
  {
   "cell_type": "code",
   "execution_count": 7,
   "metadata": {
    "vscode": {
     "languageId": "r"
    }
   },
   "outputs": [
    {
     "data": {
      "text/html": [
       "<style>\n",
       ".list-inline {list-style: none; margin:0; padding: 0}\n",
       ".list-inline>li {display: inline-block}\n",
       ".list-inline>li:not(:last-child)::after {content: \"\\00b7\"; padding: 0 .5ex}\n",
       "</style>\n",
       "<ol class=list-inline><li>603</li><li>3</li></ol>\n"
      ],
      "text/latex": [
       "\\begin{enumerate*}\n",
       "\\item 603\n",
       "\\item 3\n",
       "\\end{enumerate*}\n"
      ],
      "text/markdown": [
       "1. 603\n",
       "2. 3\n",
       "\n",
       "\n"
      ],
      "text/plain": [
       "[1] 603   3"
      ]
     },
     "metadata": {},
     "output_type": "display_data"
    }
   ],
   "source": [
    "dim(file_df_dedup_trb)"
   ]
  },
  {
   "cell_type": "code",
   "execution_count": 57,
   "metadata": {
    "vscode": {
     "languageId": "r"
    }
   },
   "outputs": [],
   "source": [
    "meta_div <- readr::read_rds(paste0(datapath, \"capTCRseq/meta_div_goodsamples.rds\"))"
   ]
  },
  {
   "cell_type": "code",
   "execution_count": 67,
   "metadata": {
    "vscode": {
     "languageId": "r"
    }
   },
   "outputs": [
    {
     "data": {
      "text/html": [
       "<style>\n",
       ".list-inline {list-style: none; margin:0; padding: 0}\n",
       ".list-inline>li {display: inline-block}\n",
       ".list-inline>li:not(:last-child)::after {content: \"\\00b7\"; padding: 0 .5ex}\n",
       "</style>\n",
       "<ol class=list-inline><li>40</li><li>58</li></ol>\n"
      ],
      "text/latex": [
       "\\begin{enumerate*}\n",
       "\\item 40\n",
       "\\item 58\n",
       "\\end{enumerate*}\n"
      ],
      "text/markdown": [
       "1. 40\n",
       "2. 58\n",
       "\n",
       "\n"
      ],
      "text/plain": [
       "[1] 40 58"
      ]
     },
     "metadata": {},
     "output_type": "display_data"
    }
   ],
   "source": [
    "dim(meta_div[!is.na(meta_div$TRB) & !is.na(meta_div$CD3)& meta_div$cycle == \"X05\" & meta_div$sampletype == \"PBMC\",])"
   ]
  },
  {
   "cell_type": "code",
   "execution_count": 71,
   "metadata": {
    "vscode": {
     "languageId": "r"
    }
   },
   "outputs": [
    {
     "data": {
      "text/html": [
       "<style>\n",
       ".list-inline {list-style: none; margin:0; padding: 0}\n",
       ".list-inline>li {display: inline-block}\n",
       ".list-inline>li:not(:last-child)::after {content: \"\\00b7\"; padding: 0 .5ex}\n",
       "</style>\n",
       "<ol class=list-inline><li>485</li><li>58</li></ol>\n"
      ],
      "text/latex": [
       "\\begin{enumerate*}\n",
       "\\item 485\n",
       "\\item 58\n",
       "\\end{enumerate*}\n"
      ],
      "text/markdown": [
       "1. 485\n",
       "2. 58\n",
       "\n",
       "\n"
      ],
      "text/plain": [
       "[1] 485  58"
      ]
     },
     "metadata": {},
     "output_type": "display_data"
    }
   ],
   "source": [
    "dim(meta_div[!is.na(meta_div$FOLD) & meta_div$sampletype == \"PBMC\",])"
   ]
  },
  {
   "cell_type": "code",
   "execution_count": 9,
   "metadata": {
    "vscode": {
     "languageId": "r"
    }
   },
   "outputs": [],
   "source": [
    "#meta_div <- meta_div[ !is.na(meta_div$TRB), ]"
   ]
  },
  {
   "cell_type": "code",
   "execution_count": 10,
   "metadata": {
    "vscode": {
     "languageId": "r"
    }
   },
   "outputs": [],
   "source": [
    "names(group_col)[ names(group_col) == \"Solid\"] <- \"Solid tumors\""
   ]
  },
  {
   "cell_type": "code",
   "execution_count": 11,
   "metadata": {
    "vscode": {
     "languageId": "r"
    }
   },
   "outputs": [],
   "source": [
    "meta_div$cancergroup[ which(meta_div$cancergroup == \"Solid\")] <- \"Solid tumors\""
   ]
  },
  {
   "cell_type": "code",
   "execution_count": 12,
   "metadata": {
    "vscode": {
     "languageId": "r"
    }
   },
   "outputs": [],
   "source": [
    "# get good samples\n",
    "file_df_dedup_trb <- file_df_dedup_trb[ file_df_dedup_trb$samplename %in% meta_div$basename, ]"
   ]
  },
  {
   "cell_type": "code",
   "execution_count": 13,
   "metadata": {
    "vscode": {
     "languageId": "r"
    }
   },
   "outputs": [
    {
     "data": {
      "text/html": [
       "<style>\n",
       ".list-inline {list-style: none; margin:0; padding: 0}\n",
       ".list-inline>li {display: inline-block}\n",
       ".list-inline>li:not(:last-child)::after {content: \"\\00b7\"; padding: 0 .5ex}\n",
       "</style>\n",
       "<ol class=list-inline><li>554</li><li>3</li></ol>\n"
      ],
      "text/latex": [
       "\\begin{enumerate*}\n",
       "\\item 554\n",
       "\\item 3\n",
       "\\end{enumerate*}\n"
      ],
      "text/markdown": [
       "1. 554\n",
       "2. 3\n",
       "\n",
       "\n"
      ],
      "text/plain": [
       "[1] 554   3"
      ]
     },
     "metadata": {},
     "output_type": "display_data"
    }
   ],
   "source": [
    "dim(file_df_dedup_trb)"
   ]
  },
  {
   "cell_type": "code",
   "execution_count": 15,
   "metadata": {
    "vscode": {
     "languageId": "r"
    }
   },
   "outputs": [],
   "source": [
    "file_df_dedup_trb$Patient <- meta_div$Patient[match(file_df_dedup_trb$samplename, meta_div$basename)]"
   ]
  },
  {
   "cell_type": "code",
   "execution_count": 16,
   "metadata": {
    "vscode": {
     "languageId": "r"
    }
   },
   "outputs": [],
   "source": [
    "#replace - with _\n",
    "file_df_dedup_trb$Patient <- gsub(\"-\", \"_\", file_df_dedup_trb$Patient)"
   ]
  },
  {
   "cell_type": "code",
   "execution_count": 17,
   "metadata": {
    "vscode": {
     "languageId": "r"
    }
   },
   "outputs": [
    {
     "data": {
      "text/html": [
       "<table class=\"dataframe\">\n",
       "<caption>A data.frame: 9 x 4</caption>\n",
       "<thead>\n",
       "\t<tr><th></th><th scope=col>file_list</th><th scope=col>samplename</th><th scope=col>size</th><th scope=col>Patient</th></tr>\n",
       "\t<tr><th></th><th scope=col>&lt;chr&gt;</th><th scope=col>&lt;chr&gt;</th><th scope=col>&lt;dbl&gt;</th><th scope=col>&lt;chr&gt;</th></tr>\n",
       "</thead>\n",
       "<tbody>\n",
       "\t<tr><th scope=row>17</th><td>batch1_cfDNA_30Jan2020/mixcr/clones/CLONES_TRBCHP_347-01-cfDNA.txt             </td><td>CHP_347-01-cfDNA   </td><td>1825</td><td>CHP_347</td></tr>\n",
       "\t<tr><th scope=row>37</th><td>batch1_cfDNA_30Jan2020/mixcr/clones/CLONES_TRBCHP_377-01-cfDNA.txt             </td><td>CHP_377-01-cfDNA   </td><td> 965</td><td>CHP_377</td></tr>\n",
       "\t<tr><th scope=row>307</th><td>batch5_cfDNA_25Jun2020/mixcr/clones/CLONES_TRBCHP_366-05_cfDNA.txt             </td><td>CHP_366-05_cfDNA   </td><td> 744</td><td>CHP_366</td></tr>\n",
       "\t<tr><th scope=row>342</th><td>batch7_cfDNA_29Jun2020/mixcr/clones/CLONES_TRBCHP_381-05_cfDNA.txt             </td><td>CHP_381-05_cfDNA   </td><td>1229</td><td>CHP_381</td></tr>\n",
       "\t<tr><th scope=row>350</th><td>batch7_cfDNA_29Jun2020/mixcr/clones/CLONES_TRBCHP_391-02_cfDNA.txt             </td><td>CHP_391-02_cfDNA   </td><td> 811</td><td>CHP_391</td></tr>\n",
       "\t<tr><th scope=row>351</th><td>batch7_cfDNA_29Jun2020/mixcr/clones/CLONES_TRBCHP_392-01_cfDNA.txt             </td><td>CHP_392-01_cfDNA   </td><td>1289</td><td>CHP_392</td></tr>\n",
       "\t<tr><th scope=row>359</th><td>batch7_cfDNA_29Jun2020/mixcr/clones/CLONES_TRBCHP_398-01_cfDNA.txt             </td><td>CHP_398-01_cfDNA   </td><td>2330</td><td>CHP_398</td></tr>\n",
       "\t<tr><th scope=row>409</th><td>batchFFPE_3Apr2020/mixcr/clones/CLONES_TRBCHP_419-FFPE-DNA_S2.txt              </td><td>CHP_419-FFPE-DNA_S2</td><td> 810</td><td>CHP_419</td></tr>\n",
       "\t<tr><th scope=row>1148</th><td>remaining_batch_2_cfDNA_15April2021/mixcr/clones/CLONES_TRBCHP_401-03_cfDNA.txt</td><td>CHP_401-03_cfDNA   </td><td> 731</td><td>CHP_401</td></tr>\n",
       "</tbody>\n",
       "</table>\n"
      ],
      "text/latex": [
       "A data.frame: 9 x 4\n",
       "\\begin{tabular}{r|llll}\n",
       "  & file\\_list & samplename & size & Patient\\\\\n",
       "  & <chr> & <chr> & <dbl> & <chr>\\\\\n",
       "\\hline\n",
       "\t17 & batch1\\_cfDNA\\_30Jan2020/mixcr/clones/CLONES\\_TRBCHP\\_347-01-cfDNA.txt              & CHP\\_347-01-cfDNA    & 1825 & CHP\\_347\\\\\n",
       "\t37 & batch1\\_cfDNA\\_30Jan2020/mixcr/clones/CLONES\\_TRBCHP\\_377-01-cfDNA.txt              & CHP\\_377-01-cfDNA    &  965 & CHP\\_377\\\\\n",
       "\t307 & batch5\\_cfDNA\\_25Jun2020/mixcr/clones/CLONES\\_TRBCHP\\_366-05\\_cfDNA.txt              & CHP\\_366-05\\_cfDNA    &  744 & CHP\\_366\\\\\n",
       "\t342 & batch7\\_cfDNA\\_29Jun2020/mixcr/clones/CLONES\\_TRBCHP\\_381-05\\_cfDNA.txt              & CHP\\_381-05\\_cfDNA    & 1229 & CHP\\_381\\\\\n",
       "\t350 & batch7\\_cfDNA\\_29Jun2020/mixcr/clones/CLONES\\_TRBCHP\\_391-02\\_cfDNA.txt              & CHP\\_391-02\\_cfDNA    &  811 & CHP\\_391\\\\\n",
       "\t351 & batch7\\_cfDNA\\_29Jun2020/mixcr/clones/CLONES\\_TRBCHP\\_392-01\\_cfDNA.txt              & CHP\\_392-01\\_cfDNA    & 1289 & CHP\\_392\\\\\n",
       "\t359 & batch7\\_cfDNA\\_29Jun2020/mixcr/clones/CLONES\\_TRBCHP\\_398-01\\_cfDNA.txt              & CHP\\_398-01\\_cfDNA    & 2330 & CHP\\_398\\\\\n",
       "\t409 & batchFFPE\\_3Apr2020/mixcr/clones/CLONES\\_TRBCHP\\_419-FFPE-DNA\\_S2.txt               & CHP\\_419-FFPE-DNA\\_S2 &  810 & CHP\\_419\\\\\n",
       "\t1148 & remaining\\_batch\\_2\\_cfDNA\\_15April2021/mixcr/clones/CLONES\\_TRBCHP\\_401-03\\_cfDNA.txt & CHP\\_401-03\\_cfDNA    &  731 & CHP\\_401\\\\\n",
       "\\end{tabular}\n"
      ],
      "text/markdown": [
       "\n",
       "A data.frame: 9 x 4\n",
       "\n",
       "| <!--/--> | file_list &lt;chr&gt; | samplename &lt;chr&gt; | size &lt;dbl&gt; | Patient &lt;chr&gt; |\n",
       "|---|---|---|---|---|\n",
       "| 17 | batch1_cfDNA_30Jan2020/mixcr/clones/CLONES_TRBCHP_347-01-cfDNA.txt              | CHP_347-01-cfDNA    | 1825 | CHP_347 |\n",
       "| 37 | batch1_cfDNA_30Jan2020/mixcr/clones/CLONES_TRBCHP_377-01-cfDNA.txt              | CHP_377-01-cfDNA    |  965 | CHP_377 |\n",
       "| 307 | batch5_cfDNA_25Jun2020/mixcr/clones/CLONES_TRBCHP_366-05_cfDNA.txt              | CHP_366-05_cfDNA    |  744 | CHP_366 |\n",
       "| 342 | batch7_cfDNA_29Jun2020/mixcr/clones/CLONES_TRBCHP_381-05_cfDNA.txt              | CHP_381-05_cfDNA    | 1229 | CHP_381 |\n",
       "| 350 | batch7_cfDNA_29Jun2020/mixcr/clones/CLONES_TRBCHP_391-02_cfDNA.txt              | CHP_391-02_cfDNA    |  811 | CHP_391 |\n",
       "| 351 | batch7_cfDNA_29Jun2020/mixcr/clones/CLONES_TRBCHP_392-01_cfDNA.txt              | CHP_392-01_cfDNA    | 1289 | CHP_392 |\n",
       "| 359 | batch7_cfDNA_29Jun2020/mixcr/clones/CLONES_TRBCHP_398-01_cfDNA.txt              | CHP_398-01_cfDNA    | 2330 | CHP_398 |\n",
       "| 409 | batchFFPE_3Apr2020/mixcr/clones/CLONES_TRBCHP_419-FFPE-DNA_S2.txt               | CHP_419-FFPE-DNA_S2 |  810 | CHP_419 |\n",
       "| 1148 | remaining_batch_2_cfDNA_15April2021/mixcr/clones/CLONES_TRBCHP_401-03_cfDNA.txt | CHP_401-03_cfDNA    |  731 | CHP_401 |\n",
       "\n"
      ],
      "text/plain": [
       "     file_list                                                                      \n",
       "17   batch1_cfDNA_30Jan2020/mixcr/clones/CLONES_TRBCHP_347-01-cfDNA.txt             \n",
       "37   batch1_cfDNA_30Jan2020/mixcr/clones/CLONES_TRBCHP_377-01-cfDNA.txt             \n",
       "307  batch5_cfDNA_25Jun2020/mixcr/clones/CLONES_TRBCHP_366-05_cfDNA.txt             \n",
       "342  batch7_cfDNA_29Jun2020/mixcr/clones/CLONES_TRBCHP_381-05_cfDNA.txt             \n",
       "350  batch7_cfDNA_29Jun2020/mixcr/clones/CLONES_TRBCHP_391-02_cfDNA.txt             \n",
       "351  batch7_cfDNA_29Jun2020/mixcr/clones/CLONES_TRBCHP_392-01_cfDNA.txt             \n",
       "359  batch7_cfDNA_29Jun2020/mixcr/clones/CLONES_TRBCHP_398-01_cfDNA.txt             \n",
       "409  batchFFPE_3Apr2020/mixcr/clones/CLONES_TRBCHP_419-FFPE-DNA_S2.txt              \n",
       "1148 remaining_batch_2_cfDNA_15April2021/mixcr/clones/CLONES_TRBCHP_401-03_cfDNA.txt\n",
       "     samplename          size Patient\n",
       "17   CHP_347-01-cfDNA    1825 CHP_347\n",
       "37   CHP_377-01-cfDNA     965 CHP_377\n",
       "307  CHP_366-05_cfDNA     744 CHP_366\n",
       "342  CHP_381-05_cfDNA    1229 CHP_381\n",
       "350  CHP_391-02_cfDNA     811 CHP_391\n",
       "351  CHP_392-01_cfDNA    1289 CHP_392\n",
       "359  CHP_398-01_cfDNA    2330 CHP_398\n",
       "409  CHP_419-FFPE-DNA_S2  810 CHP_419\n",
       "1148 CHP_401-03_cfDNA     731 CHP_401"
      ]
     },
     "metadata": {},
     "output_type": "display_data"
    }
   ],
   "source": [
    "file_df_dedup_trb[ !file_df_dedup_trb$file_list %in% meta_div$file, ] # 9 files with no productive cdr3s"
   ]
  },
  {
   "cell_type": "code",
   "execution_count": 18,
   "metadata": {
    "vscode": {
     "languageId": "r"
    }
   },
   "outputs": [],
   "source": [
    "file_df_dedup_trb <- file_df_dedup_trb[ file_df_dedup_trb$file_list %in% meta_div$file, ]"
   ]
  },
  {
   "cell_type": "code",
   "execution_count": 19,
   "metadata": {
    "vscode": {
     "languageId": "r"
    }
   },
   "outputs": [],
   "source": [
    "#readr::write_rds(file_df_dedup_trb, paste0(h4hpath, \"analysis/TiRP/TRBfiles_goodsamples.rds\"))"
   ]
  },
  {
   "cell_type": "code",
   "execution_count": 20,
   "metadata": {
    "vscode": {
     "languageId": "r"
    }
   },
   "outputs": [
    {
     "data": {
      "text/html": [
       "<style>\n",
       ".list-inline {list-style: none; margin:0; padding: 0}\n",
       ".list-inline>li {display: inline-block}\n",
       ".list-inline>li:not(:last-child)::after {content: \"\\00b7\"; padding: 0 .5ex}\n",
       "</style>\n",
       "<ol class=list-inline><li>'sample_id'</li><li>'Patient'</li><li>'cycle'</li><li>'FOLD'</li><li>'ATC'</li><li>'Age'</li><li>'Disease_type'</li><li>'TE_fold'</li><li>'Pass'</li><li>'CD3'</li><li>'EM'</li><li>'CM'</li><li>'Naïve'</li><li>'SCM'</li><li>'TE'</li><li>'EM.'</li><li>'CM.'</li><li>'Naïve.'</li><li>'SCM.'</li><li>'TE.'</li><li>'Naïve.TE'</li><li>'N.CM.SCM.TE.EM'</li><li>'PD.1'</li><li>'PDL1'</li><li>'LAG3'</li><li>'TIM3'</li><li>'CTLA4'</li><li>'PD1.'</li><li>'PDL1.'</li><li>'LAG3.'</li><li>'TIM3.'</li><li>'CTLA4.'</li><li>'Any.NCR'</li><li>'PD1...LAG3...TIM3'</li><li>'cancergroup'</li><li>'TRB'</li><li>'Reads'</li><li>'CPKR'</li><li>'Average_reads'</li><li>'VMR'</li><li>'Max_reads'</li><li>'Singletons'</li><li>'Doubletons'</li><li>'qD'</li><li>'Sample_Coverage'</li><li>'observed_Richness'</li><li>'estimated_Richness'</li><li>'SE_Richeness'</li><li>'observed_Shannon'</li><li>'estimated_Shannon'</li><li>'SE_Shannon'</li><li>'observed_Simpson'</li><li>'estimated_Simpson'</li><li>'SE_Simpson'</li><li>'file'</li><li>'basename'</li><li>'Group'</li><li>'sampletype'</li></ol>\n"
      ],
      "text/latex": [
       "\\begin{enumerate*}\n",
       "\\item 'sample\\_id'\n",
       "\\item 'Patient'\n",
       "\\item 'cycle'\n",
       "\\item 'FOLD'\n",
       "\\item 'ATC'\n",
       "\\item 'Age'\n",
       "\\item 'Disease\\_type'\n",
       "\\item 'TE\\_fold'\n",
       "\\item 'Pass'\n",
       "\\item 'CD3'\n",
       "\\item 'EM'\n",
       "\\item 'CM'\n",
       "\\item 'Naïve'\n",
       "\\item 'SCM'\n",
       "\\item 'TE'\n",
       "\\item 'EM.'\n",
       "\\item 'CM.'\n",
       "\\item 'Naïve.'\n",
       "\\item 'SCM.'\n",
       "\\item 'TE.'\n",
       "\\item 'Naïve.TE'\n",
       "\\item 'N.CM.SCM.TE.EM'\n",
       "\\item 'PD.1'\n",
       "\\item 'PDL1'\n",
       "\\item 'LAG3'\n",
       "\\item 'TIM3'\n",
       "\\item 'CTLA4'\n",
       "\\item 'PD1.'\n",
       "\\item 'PDL1.'\n",
       "\\item 'LAG3.'\n",
       "\\item 'TIM3.'\n",
       "\\item 'CTLA4.'\n",
       "\\item 'Any.NCR'\n",
       "\\item 'PD1...LAG3...TIM3'\n",
       "\\item 'cancergroup'\n",
       "\\item 'TRB'\n",
       "\\item 'Reads'\n",
       "\\item 'CPKR'\n",
       "\\item 'Average\\_reads'\n",
       "\\item 'VMR'\n",
       "\\item 'Max\\_reads'\n",
       "\\item 'Singletons'\n",
       "\\item 'Doubletons'\n",
       "\\item 'qD'\n",
       "\\item 'Sample\\_Coverage'\n",
       "\\item 'observed\\_Richness'\n",
       "\\item 'estimated\\_Richness'\n",
       "\\item 'SE\\_Richeness'\n",
       "\\item 'observed\\_Shannon'\n",
       "\\item 'estimated\\_Shannon'\n",
       "\\item 'SE\\_Shannon'\n",
       "\\item 'observed\\_Simpson'\n",
       "\\item 'estimated\\_Simpson'\n",
       "\\item 'SE\\_Simpson'\n",
       "\\item 'file'\n",
       "\\item 'basename'\n",
       "\\item 'Group'\n",
       "\\item 'sampletype'\n",
       "\\end{enumerate*}\n"
      ],
      "text/markdown": [
       "1. 'sample_id'\n",
       "2. 'Patient'\n",
       "3. 'cycle'\n",
       "4. 'FOLD'\n",
       "5. 'ATC'\n",
       "6. 'Age'\n",
       "7. 'Disease_type'\n",
       "8. 'TE_fold'\n",
       "9. 'Pass'\n",
       "10. 'CD3'\n",
       "11. 'EM'\n",
       "12. 'CM'\n",
       "13. 'Naïve'\n",
       "14. 'SCM'\n",
       "15. 'TE'\n",
       "16. 'EM.'\n",
       "17. 'CM.'\n",
       "18. 'Naïve.'\n",
       "19. 'SCM.'\n",
       "20. 'TE.'\n",
       "21. 'Naïve.TE'\n",
       "22. 'N.CM.SCM.TE.EM'\n",
       "23. 'PD.1'\n",
       "24. 'PDL1'\n",
       "25. 'LAG3'\n",
       "26. 'TIM3'\n",
       "27. 'CTLA4'\n",
       "28. 'PD1.'\n",
       "29. 'PDL1.'\n",
       "30. 'LAG3.'\n",
       "31. 'TIM3.'\n",
       "32. 'CTLA4.'\n",
       "33. 'Any.NCR'\n",
       "34. 'PD1...LAG3...TIM3'\n",
       "35. 'cancergroup'\n",
       "36. 'TRB'\n",
       "37. 'Reads'\n",
       "38. 'CPKR'\n",
       "39. 'Average_reads'\n",
       "40. 'VMR'\n",
       "41. 'Max_reads'\n",
       "42. 'Singletons'\n",
       "43. 'Doubletons'\n",
       "44. 'qD'\n",
       "45. 'Sample_Coverage'\n",
       "46. 'observed_Richness'\n",
       "47. 'estimated_Richness'\n",
       "48. 'SE_Richeness'\n",
       "49. 'observed_Shannon'\n",
       "50. 'estimated_Shannon'\n",
       "51. 'SE_Shannon'\n",
       "52. 'observed_Simpson'\n",
       "53. 'estimated_Simpson'\n",
       "54. 'SE_Simpson'\n",
       "55. 'file'\n",
       "56. 'basename'\n",
       "57. 'Group'\n",
       "58. 'sampletype'\n",
       "\n",
       "\n"
      ],
      "text/plain": [
       " [1] \"sample_id\"          \"Patient\"            \"cycle\"             \n",
       " [4] \"FOLD\"               \"ATC\"                \"Age\"               \n",
       " [7] \"Disease_type\"       \"TE_fold\"            \"Pass\"              \n",
       "[10] \"CD3\"                \"EM\"                 \"CM\"                \n",
       "[13] \"Naïve\"              \"SCM\"                \"TE\"                \n",
       "[16] \"EM.\"                \"CM.\"                \"Naïve.\"            \n",
       "[19] \"SCM.\"               \"TE.\"                \"Naïve.TE\"          \n",
       "[22] \"N.CM.SCM.TE.EM\"     \"PD.1\"               \"PDL1\"              \n",
       "[25] \"LAG3\"               \"TIM3\"               \"CTLA4\"             \n",
       "[28] \"PD1.\"               \"PDL1.\"              \"LAG3.\"             \n",
       "[31] \"TIM3.\"              \"CTLA4.\"             \"Any.NCR\"           \n",
       "[34] \"PD1...LAG3...TIM3\"  \"cancergroup\"        \"TRB\"               \n",
       "[37] \"Reads\"              \"CPKR\"               \"Average_reads\"     \n",
       "[40] \"VMR\"                \"Max_reads\"          \"Singletons\"        \n",
       "[43] \"Doubletons\"         \"qD\"                 \"Sample_Coverage\"   \n",
       "[46] \"observed_Richness\"  \"estimated_Richness\" \"SE_Richeness\"      \n",
       "[49] \"observed_Shannon\"   \"estimated_Shannon\"  \"SE_Shannon\"        \n",
       "[52] \"observed_Simpson\"   \"estimated_Simpson\"  \"SE_Simpson\"        \n",
       "[55] \"file\"               \"basename\"           \"Group\"             \n",
       "[58] \"sampletype\"        "
      ]
     },
     "metadata": {},
     "output_type": "display_data"
    }
   ],
   "source": [
    "colnames(meta_div)"
   ]
  },
  {
   "attachments": {},
   "cell_type": "markdown",
   "metadata": {},
   "source": [
    "Tirp output"
   ]
  },
  {
   "cell_type": "code",
   "execution_count": 21,
   "metadata": {
    "vscode": {
     "languageId": "r"
    }
   },
   "outputs": [],
   "source": [
    "tirpoutfiles <- list.files(h4hpath, pattern = \"tirp.csv\", full.names = TRUE, recursive = T)"
   ]
  },
  {
   "cell_type": "code",
   "execution_count": 22,
   "metadata": {
    "vscode": {
     "languageId": "r"
    }
   },
   "outputs": [],
   "source": [
    "#tirpoutfiles <- tirpoutfiles[ grepl(\"PBMC\", tirpoutfiles) ]"
   ]
  },
  {
   "attachments": {},
   "cell_type": "markdown",
   "metadata": {},
   "source": [
    "bind median tirp to meta_div"
   ]
  },
  {
   "cell_type": "code",
   "execution_count": 23,
   "metadata": {
    "vscode": {
     "languageId": "r"
    }
   },
   "outputs": [],
   "source": [
    "meta_div$TiRP <- NA"
   ]
  },
  {
   "cell_type": "code",
   "execution_count": 24,
   "metadata": {
    "vscode": {
     "languageId": "r"
    }
   },
   "outputs": [],
   "source": [
    "myvector <- vector(\"list\", length(tirpoutfiles) )\n",
    "\n",
    "for (i in 1:length(tirpoutfiles)) {\n",
    "    tirpout <- read.table(tirpoutfiles[i],\n",
    "        sep = \",\",\n",
    "        header = T, stringsAsFactors = F, row.names = 1\n",
    "    )\n",
    "if(nrow(tirpout) > 10) {\n",
    "    myvector[i] <- median(tirpout$TiRP)\n",
    "}\n",
    "else {\n",
    "    myvector[i] <- median(tirpout$TiRP)\n",
    "}\n",
    "    names(myvector)[i] <- tirpout$samplename[1]\n",
    "    \n",
    "}"
   ]
  },
  {
   "cell_type": "code",
   "execution_count": 25,
   "metadata": {
    "vscode": {
     "languageId": "r"
    }
   },
   "outputs": [
    {
     "data": {
      "text/html": [
       "<table class=\"dataframe\">\n",
       "<caption>A data.frame: 6 x 19</caption>\n",
       "<thead>\n",
       "\t<tr><th></th><th scope=col>v_gene</th><th scope=col>cdr3</th><th scope=col>vgene</th><th scope=col>length</th><th scope=col>Jmotif</th><th scope=col>cdr3MR</th><th scope=col>perc_score</th><th scope=col>pos_score</th><th scope=col>vgene_score</th><th scope=col>p107_score</th><th scope=col>Jmotif_score</th><th scope=col>p113_score</th><th scope=col>length_score</th><th scope=col>total_score</th><th scope=col>vTiRP</th><th scope=col>mTiRP</th><th scope=col>jTiRP</th><th scope=col>TiRP</th><th scope=col>samplename</th></tr>\n",
       "\t<tr><th></th><th scope=col>&lt;chr&gt;</th><th scope=col>&lt;chr&gt;</th><th scope=col>&lt;chr&gt;</th><th scope=col>&lt;int&gt;</th><th scope=col>&lt;chr&gt;</th><th scope=col>&lt;chr&gt;</th><th scope=col>&lt;dbl&gt;</th><th scope=col>&lt;dbl&gt;</th><th scope=col>&lt;dbl&gt;</th><th scope=col>&lt;dbl&gt;</th><th scope=col>&lt;dbl&gt;</th><th scope=col>&lt;dbl&gt;</th><th scope=col>&lt;dbl&gt;</th><th scope=col>&lt;dbl&gt;</th><th scope=col>&lt;dbl&gt;</th><th scope=col>&lt;dbl&gt;</th><th scope=col>&lt;dbl&gt;</th><th scope=col>&lt;dbl&gt;</th><th scope=col>&lt;chr&gt;</th></tr>\n",
       "</thead>\n",
       "<tbody>\n",
       "\t<tr><th scope=row>1</th><td>TRBV2   </td><td>CASISVTMNTEAFF  </td><td>TCRBV02-01</td><td>14</td><td>other</td><td>SVTM  </td><td>-0.06506151</td><td>0.09802139</td><td>-0.18371367</td><td>0.00000000</td><td> 0.08755235</td><td>0.00000000</td><td>-0.01902781</td><td>-0.08222925</td><td>-0.159933470</td><td>-0.10376356</td><td> 0.05502848</td><td>-0.2086686</td><td>LFS_TCR-5067-PBMC-DNA</td></tr>\n",
       "\t<tr><th scope=row>2</th><td>TRBV6-1 </td><td>CASRRQEVTEAFF   </td><td>TCRBV06-01</td><td>13</td><td>other</td><td>RQE   </td><td>-0.15121867</td><td>0.04238840</td><td> 0.12484295</td><td>0.07958403</td><td> 0.08755235</td><td>0.10337216</td><td> 0.00000000</td><td> 0.28652122</td><td> 1.481947453</td><td>-0.62306281</td><td> 0.49230497</td><td> 1.3511896</td><td>LFS_TCR-5067-PBMC-DNA</td></tr>\n",
       "\t<tr><th scope=row>3</th><td>TRBV19  </td><td>CASKRAGFLDNQPQHF</td><td>TCRBV19-01</td><td>16</td><td>QPQHF</td><td>RAGFLD</td><td> 0.07824230</td><td>0.10238754</td><td> 0.00000000</td><td>0.11303075</td><td>-0.03418246</td><td>0.00000000</td><td> 0.04333654</td><td> 0.30281468</td><td> 1.095330581</td><td> 0.78470645</td><td>-0.45992418</td><td> 1.4201129</td><td>LFS_TCR-5067-PBMC-DNA</td></tr>\n",
       "\t<tr><th scope=row>4</th><td>TRBV10-2</td><td>CASSESQSGTMGGYTF</td><td>TCRBV10-02</td><td>16</td><td>GGYTF</td><td>ESQSGT</td><td>-0.18444107</td><td>0.24748557</td><td> 0.00000000</td><td>0.00000000</td><td> 0.04476292</td><td>0.07685997</td><td> 0.04333654</td><td> 0.22800395</td><td> 0.617197124</td><td> 0.28730658</td><td> 0.19915090</td><td> 1.1036546</td><td>LFS_TCR-5067-PBMC-DNA</td></tr>\n",
       "\t<tr><th scope=row>5</th><td>TRBV27  </td><td>CASSLSLAGYNEQFF </td><td>TCRBV27-01</td><td>15</td><td>NEQFF</td><td>LSLAG </td><td> 0.05051233</td><td>0.00000000</td><td>-0.08561152</td><td>0.00000000</td><td>-0.02326415</td><td>0.14335211</td><td> 0.00000000</td><td> 0.08498876</td><td> 0.255050245</td><td> 0.05097524</td><td> 0.19265792</td><td> 0.4986834</td><td>LFS_TCR-5067-PBMC-DNA</td></tr>\n",
       "\t<tr><th scope=row>6</th><td>TRBV11-2</td><td>CASSLPGGDTDTQYF </td><td>TCRBV11-02</td><td>15</td><td>DTQYF</td><td>LPGGD </td><td>-0.06433656</td><td>0.06350366</td><td>-0.14794708</td><td>0.00000000</td><td>-0.02404515</td><td>0.04927728</td><td> 0.00000000</td><td>-0.12354786</td><td>-0.008636562</td><td>-0.16622115</td><td>-0.20859348</td><td>-0.3834512</td><td>LFS_TCR-5067-PBMC-DNA</td></tr>\n",
       "</tbody>\n",
       "</table>\n"
      ],
      "text/latex": [
       "A data.frame: 6 x 19\n",
       "\\begin{tabular}{r|lllllllllllllllllll}\n",
       "  & v\\_gene & cdr3 & vgene & length & Jmotif & cdr3MR & perc\\_score & pos\\_score & vgene\\_score & p107\\_score & Jmotif\\_score & p113\\_score & length\\_score & total\\_score & vTiRP & mTiRP & jTiRP & TiRP & samplename\\\\\n",
       "  & <chr> & <chr> & <chr> & <int> & <chr> & <chr> & <dbl> & <dbl> & <dbl> & <dbl> & <dbl> & <dbl> & <dbl> & <dbl> & <dbl> & <dbl> & <dbl> & <dbl> & <chr>\\\\\n",
       "\\hline\n",
       "\t1 & TRBV2    & CASISVTMNTEAFF   & TCRBV02-01 & 14 & other & SVTM   & -0.06506151 & 0.09802139 & -0.18371367 & 0.00000000 &  0.08755235 & 0.00000000 & -0.01902781 & -0.08222925 & -0.159933470 & -0.10376356 &  0.05502848 & -0.2086686 & LFS\\_TCR-5067-PBMC-DNA\\\\\n",
       "\t2 & TRBV6-1  & CASRRQEVTEAFF    & TCRBV06-01 & 13 & other & RQE    & -0.15121867 & 0.04238840 &  0.12484295 & 0.07958403 &  0.08755235 & 0.10337216 &  0.00000000 &  0.28652122 &  1.481947453 & -0.62306281 &  0.49230497 &  1.3511896 & LFS\\_TCR-5067-PBMC-DNA\\\\\n",
       "\t3 & TRBV19   & CASKRAGFLDNQPQHF & TCRBV19-01 & 16 & QPQHF & RAGFLD &  0.07824230 & 0.10238754 &  0.00000000 & 0.11303075 & -0.03418246 & 0.00000000 &  0.04333654 &  0.30281468 &  1.095330581 &  0.78470645 & -0.45992418 &  1.4201129 & LFS\\_TCR-5067-PBMC-DNA\\\\\n",
       "\t4 & TRBV10-2 & CASSESQSGTMGGYTF & TCRBV10-02 & 16 & GGYTF & ESQSGT & -0.18444107 & 0.24748557 &  0.00000000 & 0.00000000 &  0.04476292 & 0.07685997 &  0.04333654 &  0.22800395 &  0.617197124 &  0.28730658 &  0.19915090 &  1.1036546 & LFS\\_TCR-5067-PBMC-DNA\\\\\n",
       "\t5 & TRBV27   & CASSLSLAGYNEQFF  & TCRBV27-01 & 15 & NEQFF & LSLAG  &  0.05051233 & 0.00000000 & -0.08561152 & 0.00000000 & -0.02326415 & 0.14335211 &  0.00000000 &  0.08498876 &  0.255050245 &  0.05097524 &  0.19265792 &  0.4986834 & LFS\\_TCR-5067-PBMC-DNA\\\\\n",
       "\t6 & TRBV11-2 & CASSLPGGDTDTQYF  & TCRBV11-02 & 15 & DTQYF & LPGGD  & -0.06433656 & 0.06350366 & -0.14794708 & 0.00000000 & -0.02404515 & 0.04927728 &  0.00000000 & -0.12354786 & -0.008636562 & -0.16622115 & -0.20859348 & -0.3834512 & LFS\\_TCR-5067-PBMC-DNA\\\\\n",
       "\\end{tabular}\n"
      ],
      "text/markdown": [
       "\n",
       "A data.frame: 6 x 19\n",
       "\n",
       "| <!--/--> | v_gene &lt;chr&gt; | cdr3 &lt;chr&gt; | vgene &lt;chr&gt; | length &lt;int&gt; | Jmotif &lt;chr&gt; | cdr3MR &lt;chr&gt; | perc_score &lt;dbl&gt; | pos_score &lt;dbl&gt; | vgene_score &lt;dbl&gt; | p107_score &lt;dbl&gt; | Jmotif_score &lt;dbl&gt; | p113_score &lt;dbl&gt; | length_score &lt;dbl&gt; | total_score &lt;dbl&gt; | vTiRP &lt;dbl&gt; | mTiRP &lt;dbl&gt; | jTiRP &lt;dbl&gt; | TiRP &lt;dbl&gt; | samplename &lt;chr&gt; |\n",
       "|---|---|---|---|---|---|---|---|---|---|---|---|---|---|---|---|---|---|---|---|\n",
       "| 1 | TRBV2    | CASISVTMNTEAFF   | TCRBV02-01 | 14 | other | SVTM   | -0.06506151 | 0.09802139 | -0.18371367 | 0.00000000 |  0.08755235 | 0.00000000 | -0.01902781 | -0.08222925 | -0.159933470 | -0.10376356 |  0.05502848 | -0.2086686 | LFS_TCR-5067-PBMC-DNA |\n",
       "| 2 | TRBV6-1  | CASRRQEVTEAFF    | TCRBV06-01 | 13 | other | RQE    | -0.15121867 | 0.04238840 |  0.12484295 | 0.07958403 |  0.08755235 | 0.10337216 |  0.00000000 |  0.28652122 |  1.481947453 | -0.62306281 |  0.49230497 |  1.3511896 | LFS_TCR-5067-PBMC-DNA |\n",
       "| 3 | TRBV19   | CASKRAGFLDNQPQHF | TCRBV19-01 | 16 | QPQHF | RAGFLD |  0.07824230 | 0.10238754 |  0.00000000 | 0.11303075 | -0.03418246 | 0.00000000 |  0.04333654 |  0.30281468 |  1.095330581 |  0.78470645 | -0.45992418 |  1.4201129 | LFS_TCR-5067-PBMC-DNA |\n",
       "| 4 | TRBV10-2 | CASSESQSGTMGGYTF | TCRBV10-02 | 16 | GGYTF | ESQSGT | -0.18444107 | 0.24748557 |  0.00000000 | 0.00000000 |  0.04476292 | 0.07685997 |  0.04333654 |  0.22800395 |  0.617197124 |  0.28730658 |  0.19915090 |  1.1036546 | LFS_TCR-5067-PBMC-DNA |\n",
       "| 5 | TRBV27   | CASSLSLAGYNEQFF  | TCRBV27-01 | 15 | NEQFF | LSLAG  |  0.05051233 | 0.00000000 | -0.08561152 | 0.00000000 | -0.02326415 | 0.14335211 |  0.00000000 |  0.08498876 |  0.255050245 |  0.05097524 |  0.19265792 |  0.4986834 | LFS_TCR-5067-PBMC-DNA |\n",
       "| 6 | TRBV11-2 | CASSLPGGDTDTQYF  | TCRBV11-02 | 15 | DTQYF | LPGGD  | -0.06433656 | 0.06350366 | -0.14794708 | 0.00000000 | -0.02404515 | 0.04927728 |  0.00000000 | -0.12354786 | -0.008636562 | -0.16622115 | -0.20859348 | -0.3834512 | LFS_TCR-5067-PBMC-DNA |\n",
       "\n"
      ],
      "text/plain": [
       "  v_gene   cdr3             vgene      length Jmotif cdr3MR perc_score \n",
       "1 TRBV2    CASISVTMNTEAFF   TCRBV02-01 14     other  SVTM   -0.06506151\n",
       "2 TRBV6-1  CASRRQEVTEAFF    TCRBV06-01 13     other  RQE    -0.15121867\n",
       "3 TRBV19   CASKRAGFLDNQPQHF TCRBV19-01 16     QPQHF  RAGFLD  0.07824230\n",
       "4 TRBV10-2 CASSESQSGTMGGYTF TCRBV10-02 16     GGYTF  ESQSGT -0.18444107\n",
       "5 TRBV27   CASSLSLAGYNEQFF  TCRBV27-01 15     NEQFF  LSLAG   0.05051233\n",
       "6 TRBV11-2 CASSLPGGDTDTQYF  TCRBV11-02 15     DTQYF  LPGGD  -0.06433656\n",
       "  pos_score  vgene_score p107_score Jmotif_score p113_score length_score\n",
       "1 0.09802139 -0.18371367 0.00000000  0.08755235  0.00000000 -0.01902781 \n",
       "2 0.04238840  0.12484295 0.07958403  0.08755235  0.10337216  0.00000000 \n",
       "3 0.10238754  0.00000000 0.11303075 -0.03418246  0.00000000  0.04333654 \n",
       "4 0.24748557  0.00000000 0.00000000  0.04476292  0.07685997  0.04333654 \n",
       "5 0.00000000 -0.08561152 0.00000000 -0.02326415  0.14335211  0.00000000 \n",
       "6 0.06350366 -0.14794708 0.00000000 -0.02404515  0.04927728  0.00000000 \n",
       "  total_score vTiRP        mTiRP       jTiRP       TiRP      \n",
       "1 -0.08222925 -0.159933470 -0.10376356  0.05502848 -0.2086686\n",
       "2  0.28652122  1.481947453 -0.62306281  0.49230497  1.3511896\n",
       "3  0.30281468  1.095330581  0.78470645 -0.45992418  1.4201129\n",
       "4  0.22800395  0.617197124  0.28730658  0.19915090  1.1036546\n",
       "5  0.08498876  0.255050245  0.05097524  0.19265792  0.4986834\n",
       "6 -0.12354786 -0.008636562 -0.16622115 -0.20859348 -0.3834512\n",
       "  samplename           \n",
       "1 LFS_TCR-5067-PBMC-DNA\n",
       "2 LFS_TCR-5067-PBMC-DNA\n",
       "3 LFS_TCR-5067-PBMC-DNA\n",
       "4 LFS_TCR-5067-PBMC-DNA\n",
       "5 LFS_TCR-5067-PBMC-DNA\n",
       "6 LFS_TCR-5067-PBMC-DNA"
      ]
     },
     "metadata": {},
     "output_type": "display_data"
    }
   ],
   "source": [
    "head(tirpout)"
   ]
  },
  {
   "cell_type": "code",
   "execution_count": 26,
   "metadata": {
    "vscode": {
     "languageId": "r"
    }
   },
   "outputs": [],
   "source": [
    "#meta_div$TiRP <- NA"
   ]
  },
  {
   "cell_type": "code",
   "execution_count": 27,
   "metadata": {
    "vscode": {
     "languageId": "r"
    }
   },
   "outputs": [],
   "source": [
    "tmp <- as.data.frame( unlist(myvector) ) "
   ]
  },
  {
   "cell_type": "code",
   "execution_count": 28,
   "metadata": {
    "vscode": {
     "languageId": "r"
    }
   },
   "outputs": [],
   "source": [
    "meta_div$TiRP <-  tmp[ match(meta_div$basename, rownames(tmp)),1] "
   ]
  },
  {
   "cell_type": "code",
   "execution_count": 29,
   "metadata": {
    "vscode": {
     "languageId": "r"
    }
   },
   "outputs": [],
   "source": [
    "meta_div$TiRP <- as.numeric(as.character(meta_div$TiRP))"
   ]
  },
  {
   "cell_type": "code",
   "execution_count": 30,
   "metadata": {
    "vscode": {
     "languageId": "r"
    }
   },
   "outputs": [
    {
     "data": {
      "text/html": [
       "<style>\n",
       ".list-inline {list-style: none; margin:0; padding: 0}\n",
       ".list-inline>li {display: inline-block}\n",
       ".list-inline>li:not(:last-child)::after {content: \"\\00b7\"; padding: 0 .5ex}\n",
       "</style>\n",
       "<ol class=list-inline><li>'sample_id'</li><li>'Patient'</li><li>'cycle'</li><li>'FOLD'</li><li>'ATC'</li><li>'Age'</li><li>'Disease_type'</li><li>'TE_fold'</li><li>'Pass'</li><li>'CD3'</li><li>'EM'</li><li>'CM'</li><li>'Naïve'</li><li>'SCM'</li><li>'TE'</li><li>'EM.'</li><li>'CM.'</li><li>'Naïve.'</li><li>'SCM.'</li><li>'TE.'</li><li>'Naïve.TE'</li><li>'N.CM.SCM.TE.EM'</li><li>'PD.1'</li><li>'PDL1'</li><li>'LAG3'</li><li>'TIM3'</li><li>'CTLA4'</li><li>'PD1.'</li><li>'PDL1.'</li><li>'LAG3.'</li><li>'TIM3.'</li><li>'CTLA4.'</li><li>'Any.NCR'</li><li>'PD1...LAG3...TIM3'</li><li>'cancergroup'</li><li>'TRB'</li><li>'Reads'</li><li>'CPKR'</li><li>'Average_reads'</li><li>'VMR'</li><li>'Max_reads'</li><li>'Singletons'</li><li>'Doubletons'</li><li>'qD'</li><li>'Sample_Coverage'</li><li>'observed_Richness'</li><li>'estimated_Richness'</li><li>'SE_Richeness'</li><li>'observed_Shannon'</li><li>'estimated_Shannon'</li><li>'SE_Shannon'</li><li>'observed_Simpson'</li><li>'estimated_Simpson'</li><li>'SE_Simpson'</li><li>'file'</li><li>'basename'</li><li>'Group'</li><li>'sampletype'</li><li>'TiRP'</li></ol>\n"
      ],
      "text/latex": [
       "\\begin{enumerate*}\n",
       "\\item 'sample\\_id'\n",
       "\\item 'Patient'\n",
       "\\item 'cycle'\n",
       "\\item 'FOLD'\n",
       "\\item 'ATC'\n",
       "\\item 'Age'\n",
       "\\item 'Disease\\_type'\n",
       "\\item 'TE\\_fold'\n",
       "\\item 'Pass'\n",
       "\\item 'CD3'\n",
       "\\item 'EM'\n",
       "\\item 'CM'\n",
       "\\item 'Naïve'\n",
       "\\item 'SCM'\n",
       "\\item 'TE'\n",
       "\\item 'EM.'\n",
       "\\item 'CM.'\n",
       "\\item 'Naïve.'\n",
       "\\item 'SCM.'\n",
       "\\item 'TE.'\n",
       "\\item 'Naïve.TE'\n",
       "\\item 'N.CM.SCM.TE.EM'\n",
       "\\item 'PD.1'\n",
       "\\item 'PDL1'\n",
       "\\item 'LAG3'\n",
       "\\item 'TIM3'\n",
       "\\item 'CTLA4'\n",
       "\\item 'PD1.'\n",
       "\\item 'PDL1.'\n",
       "\\item 'LAG3.'\n",
       "\\item 'TIM3.'\n",
       "\\item 'CTLA4.'\n",
       "\\item 'Any.NCR'\n",
       "\\item 'PD1...LAG3...TIM3'\n",
       "\\item 'cancergroup'\n",
       "\\item 'TRB'\n",
       "\\item 'Reads'\n",
       "\\item 'CPKR'\n",
       "\\item 'Average\\_reads'\n",
       "\\item 'VMR'\n",
       "\\item 'Max\\_reads'\n",
       "\\item 'Singletons'\n",
       "\\item 'Doubletons'\n",
       "\\item 'qD'\n",
       "\\item 'Sample\\_Coverage'\n",
       "\\item 'observed\\_Richness'\n",
       "\\item 'estimated\\_Richness'\n",
       "\\item 'SE\\_Richeness'\n",
       "\\item 'observed\\_Shannon'\n",
       "\\item 'estimated\\_Shannon'\n",
       "\\item 'SE\\_Shannon'\n",
       "\\item 'observed\\_Simpson'\n",
       "\\item 'estimated\\_Simpson'\n",
       "\\item 'SE\\_Simpson'\n",
       "\\item 'file'\n",
       "\\item 'basename'\n",
       "\\item 'Group'\n",
       "\\item 'sampletype'\n",
       "\\item 'TiRP'\n",
       "\\end{enumerate*}\n"
      ],
      "text/markdown": [
       "1. 'sample_id'\n",
       "2. 'Patient'\n",
       "3. 'cycle'\n",
       "4. 'FOLD'\n",
       "5. 'ATC'\n",
       "6. 'Age'\n",
       "7. 'Disease_type'\n",
       "8. 'TE_fold'\n",
       "9. 'Pass'\n",
       "10. 'CD3'\n",
       "11. 'EM'\n",
       "12. 'CM'\n",
       "13. 'Naïve'\n",
       "14. 'SCM'\n",
       "15. 'TE'\n",
       "16. 'EM.'\n",
       "17. 'CM.'\n",
       "18. 'Naïve.'\n",
       "19. 'SCM.'\n",
       "20. 'TE.'\n",
       "21. 'Naïve.TE'\n",
       "22. 'N.CM.SCM.TE.EM'\n",
       "23. 'PD.1'\n",
       "24. 'PDL1'\n",
       "25. 'LAG3'\n",
       "26. 'TIM3'\n",
       "27. 'CTLA4'\n",
       "28. 'PD1.'\n",
       "29. 'PDL1.'\n",
       "30. 'LAG3.'\n",
       "31. 'TIM3.'\n",
       "32. 'CTLA4.'\n",
       "33. 'Any.NCR'\n",
       "34. 'PD1...LAG3...TIM3'\n",
       "35. 'cancergroup'\n",
       "36. 'TRB'\n",
       "37. 'Reads'\n",
       "38. 'CPKR'\n",
       "39. 'Average_reads'\n",
       "40. 'VMR'\n",
       "41. 'Max_reads'\n",
       "42. 'Singletons'\n",
       "43. 'Doubletons'\n",
       "44. 'qD'\n",
       "45. 'Sample_Coverage'\n",
       "46. 'observed_Richness'\n",
       "47. 'estimated_Richness'\n",
       "48. 'SE_Richeness'\n",
       "49. 'observed_Shannon'\n",
       "50. 'estimated_Shannon'\n",
       "51. 'SE_Shannon'\n",
       "52. 'observed_Simpson'\n",
       "53. 'estimated_Simpson'\n",
       "54. 'SE_Simpson'\n",
       "55. 'file'\n",
       "56. 'basename'\n",
       "57. 'Group'\n",
       "58. 'sampletype'\n",
       "59. 'TiRP'\n",
       "\n",
       "\n"
      ],
      "text/plain": [
       " [1] \"sample_id\"          \"Patient\"            \"cycle\"             \n",
       " [4] \"FOLD\"               \"ATC\"                \"Age\"               \n",
       " [7] \"Disease_type\"       \"TE_fold\"            \"Pass\"              \n",
       "[10] \"CD3\"                \"EM\"                 \"CM\"                \n",
       "[13] \"Naïve\"              \"SCM\"                \"TE\"                \n",
       "[16] \"EM.\"                \"CM.\"                \"Naïve.\"            \n",
       "[19] \"SCM.\"               \"TE.\"                \"Naïve.TE\"          \n",
       "[22] \"N.CM.SCM.TE.EM\"     \"PD.1\"               \"PDL1\"              \n",
       "[25] \"LAG3\"               \"TIM3\"               \"CTLA4\"             \n",
       "[28] \"PD1.\"               \"PDL1.\"              \"LAG3.\"             \n",
       "[31] \"TIM3.\"              \"CTLA4.\"             \"Any.NCR\"           \n",
       "[34] \"PD1...LAG3...TIM3\"  \"cancergroup\"        \"TRB\"               \n",
       "[37] \"Reads\"              \"CPKR\"               \"Average_reads\"     \n",
       "[40] \"VMR\"                \"Max_reads\"          \"Singletons\"        \n",
       "[43] \"Doubletons\"         \"qD\"                 \"Sample_Coverage\"   \n",
       "[46] \"observed_Richness\"  \"estimated_Richness\" \"SE_Richeness\"      \n",
       "[49] \"observed_Shannon\"   \"estimated_Shannon\"  \"SE_Shannon\"        \n",
       "[52] \"observed_Simpson\"   \"estimated_Simpson\"  \"SE_Simpson\"        \n",
       "[55] \"file\"               \"basename\"           \"Group\"             \n",
       "[58] \"sampletype\"         \"TiRP\"              "
      ]
     },
     "metadata": {},
     "output_type": "display_data"
    }
   ],
   "source": [
    "colnames(meta_div)"
   ]
  },
  {
   "cell_type": "code",
   "execution_count": 31,
   "metadata": {
    "vscode": {
     "languageId": "r"
    }
   },
   "outputs": [],
   "source": [
    "meta_div$fold_group <- NA\n",
    "meta_div$fold_group[meta_div$FOLD <= 2] <- \"Fail (< 2 fold)\"\n",
    "meta_div$fold_group[meta_div$FOLD >= 5] <- \"Pass (> 5 fold)\""
   ]
  },
  {
   "cell_type": "code",
   "execution_count": 32,
   "metadata": {
    "vscode": {
     "languageId": "r"
    }
   },
   "outputs": [],
   "source": [
    "tirp_pbmc <- meta_div[ !is.na(meta_div$fold_group) & meta_div$sampletype == \"PBMC\" & !is.na(meta_div$TiRP), ]\n",
    "\n",
    "tirp_cfdna <- meta_div[ !is.na(meta_div$fold_group) & meta_div$sampletype == \"cfDNA\" & !is.na(meta_div$TiRP), ]"
   ]
  },
  {
   "cell_type": "code",
   "execution_count": 33,
   "metadata": {
    "vscode": {
     "languageId": "r"
    }
   },
   "outputs": [
    {
     "data": {
      "text/html": [
       "<style>\n",
       ".list-inline {list-style: none; margin:0; padding: 0}\n",
       ".list-inline>li {display: inline-block}\n",
       ".list-inline>li:not(:last-child)::after {content: \"\\00b7\"; padding: 0 .5ex}\n",
       "</style>\n",
       "<ol class=list-inline><li>199</li><li>60</li></ol>\n"
      ],
      "text/latex": [
       "\\begin{enumerate*}\n",
       "\\item 199\n",
       "\\item 60\n",
       "\\end{enumerate*}\n"
      ],
      "text/markdown": [
       "1. 199\n",
       "2. 60\n",
       "\n",
       "\n"
      ],
      "text/plain": [
       "[1] 199  60"
      ]
     },
     "metadata": {},
     "output_type": "display_data"
    }
   ],
   "source": [
    "dim(tirp_pbmc)"
   ]
  },
  {
   "cell_type": "code",
   "execution_count": 48,
   "metadata": {
    "vscode": {
     "languageId": "r"
    }
   },
   "outputs": [],
   "source": [
    "p1 <- ggplot(\n",
    "  data = tirp_pbmc,\n",
    "  aes(x = fold_group, y = TiRP )\n",
    ") +\n",
    "  geom_boxplot() + #  \n",
    "  geom_beeswarm(aes(color = cancergroup), cex = 1.2) +\n",
    "  scale_color_manual(values= group_col[c(\"Leukemia\", \"Lymphoma\", \"Solid tumors\")]) +\n",
    "  myplot +\n",
    "  myaxis +\n",
    "  theme( legend.position = \"none\", \n",
    "    axis.text.x = element_text(angle = 45, hjust = 1),\n",
    "    axis.title.x = element_blank()\n",
    "  ) + \n",
    "  geom_pwc(\n",
    "    mapping = aes( x = fold_group, y = TiRP ), data = tirp_pbmc,\n",
    "    p.adjust.method = \"none\", label = \"p\", size = 0.5,\n",
    "    method = \"t_test\", step.increase = 0.1) + # does not allow multiple testing, shows pool.sd = F\n",
    "    labs(y = \"TiRP score\", title = \"TiRP (PBMC, n = 199)\") \n"
   ]
  },
  {
   "cell_type": "code",
   "execution_count": 49,
   "metadata": {
    "vscode": {
     "languageId": "r"
    }
   },
   "outputs": [
    {
     "data": {
      "text/html": [
       "<style>\n",
       ".list-inline {list-style: none; margin:0; padding: 0}\n",
       ".list-inline>li {display: inline-block}\n",
       ".list-inline>li:not(:last-child)::after {content: \"\\00b7\"; padding: 0 .5ex}\n",
       "</style>\n",
       "<ol class=list-inline><li>208</li><li>60</li></ol>\n"
      ],
      "text/latex": [
       "\\begin{enumerate*}\n",
       "\\item 208\n",
       "\\item 60\n",
       "\\end{enumerate*}\n"
      ],
      "text/markdown": [
       "1. 208\n",
       "2. 60\n",
       "\n",
       "\n"
      ],
      "text/plain": [
       "[1] 208  60"
      ]
     },
     "metadata": {},
     "output_type": "display_data"
    }
   ],
   "source": [
    "dim(tirp_cfdna)"
   ]
  },
  {
   "cell_type": "code",
   "execution_count": 50,
   "metadata": {
    "vscode": {
     "languageId": "r"
    }
   },
   "outputs": [],
   "source": [
    "p2 <- ggplot(\n",
    "  data = tirp_cfdna,\n",
    "  aes(x = fold_group, y = TiRP )\n",
    ") +\n",
    "  geom_boxplot() + #  \n",
    "  geom_beeswarm(aes(color = cancergroup), cex = 2) +\n",
    "  scale_color_manual(values= group_col[c(\"Leukemia\", \"Lymphoma\", \"Solid tumors\")]) +\n",
    "  myplot +\n",
    "  myaxis +\n",
    "  theme( legend.position = \"none\", \n",
    "    axis.text.x = element_text(angle = 45, hjust = 1),\n",
    "    axis.title.x = element_blank()\n",
    "  ) + \n",
    "  geom_pwc(\n",
    "    mapping = aes( x = fold_group, y = TiRP ), data = tirp_cfdna,\n",
    "    p.adjust.method = \"none\", label = \"p\", size = 0.5,\n",
    "    method = \"t_test\", step.increase = 0.1) + # does not allow multiple testing, shows pool.sd = F\n",
    "    labs(y = \"TiRP score\", title = \"TiRP (cfDNA, n = 208)\") \n"
   ]
  },
  {
   "cell_type": "code",
   "execution_count": 51,
   "metadata": {
    "vscode": {
     "languageId": "r"
    }
   },
   "outputs": [
    {
     "data": {
      "image/png": "[encoded data removed]",
      "text/plain": [
       "plot without title"
      ]
     },
     "metadata": {
      "image/png": {
       "height": 420,
       "width": 420
      }
     },
     "output_type": "display_data"
    }
   ],
   "source": [
    "p1"
   ]
  },
  {
   "cell_type": "code",
   "execution_count": 52,
   "metadata": {
    "vscode": {
     "languageId": "r"
    }
   },
   "outputs": [],
   "source": [
    "aligned_p <- cowplot::plot_grid(p1, p2, align = \"h\", nrow = 1)"
   ]
  },
  {
   "cell_type": "code",
   "execution_count": 53,
   "metadata": {
    "vscode": {
     "languageId": "r"
    }
   },
   "outputs": [
    {
     "data": {
      "text/html": [
       "<strong>pdf:</strong> 2"
      ],
      "text/latex": [
       "\\textbf{pdf:} 2"
      ],
      "text/markdown": [
       "**pdf:** 2"
      ],
      "text/plain": [
       "pdf \n",
       "  2 "
      ]
     },
     "metadata": {},
     "output_type": "display_data"
    }
   ],
   "source": [
    "pdf(paste0(plotpath, \"tirp_foldgroups.pdf\"), width = 6, height = 6)\n",
    "aligned_p\n",
    "dev.off()"
   ]
  },
  {
   "cell_type": "code",
   "execution_count": 54,
   "metadata": {
    "vscode": {
     "languageId": "r"
    }
   },
   "outputs": [],
   "source": [
    "dd <- datadist(tirp_pbmc[ , c(\"cycle\", \"Disease_type\", \"Age\", \"cancergroup\", \"TiRP\", \"fold_group\")])\n",
    "options(datadist=\"dd\")"
   ]
  },
  {
   "cell_type": "code",
   "execution_count": 55,
   "metadata": {
    "vscode": {
     "languageId": "r"
    }
   },
   "outputs": [],
   "source": [
    "f <- ols(TiRP ~ cycle + cancergroup + Age, data = tirp_pbmc)"
   ]
  },
  {
   "cell_type": "code",
   "execution_count": 56,
   "metadata": {
    "vscode": {
     "languageId": "r"
    }
   },
   "outputs": [
    {
     "data": {
      "text/plain": [
       "Linear Regression Model\n",
       "\n",
       "ols(formula = TiRP ~ cycle + cancergroup + Age, data = tirp_pbmc)\n",
       "\n",
       "                Model Likelihood    Discrimination    \n",
       "                      Ratio Test           Indexes    \n",
       "Obs     199    LR chi2     24.70    R2       0.117    \n",
       "sigma0.2305    d.f.            7    R2 adj   0.084    \n",
       "d.f.    191    Pr(> chi2) 0.0009    g        0.092    \n",
       "\n",
       "Residuals\n",
       "\n",
       "      Min        1Q    Median        3Q       Max \n",
       "-1.636910 -0.076610  0.007564  0.085461  1.233449 \n",
       "\n",
       "\n",
       "                         Coef    S.E.   t     Pr(>|t|)\n",
       "Intercept                 0.3659 0.0446  8.20 <0.0001 \n",
       "cycle=X02                 0.0615 0.0509  1.21 0.2282  \n",
       "cycle=X03                 0.1389 0.0512  2.71 0.0073  \n",
       "cycle=X04                 0.0836 0.0534  1.56 0.1193  \n",
       "cycle=X05                 0.1024 0.0545  1.88 0.0619  \n",
       "cancergroup=Lymphoma     -0.1350 0.0494 -2.73 0.0069  \n",
       "cancergroup=Solid tumors  0.0366 0.0376  0.97 0.3311  \n",
       "Age                      -0.0039 0.0028 -1.41 0.1609  \n"
      ]
     },
     "metadata": {},
     "output_type": "display_data"
    }
   ],
   "source": [
    "f"
   ]
  },
  {
   "attachments": {},
   "cell_type": "markdown",
   "metadata": {},
   "source": [
    "To do: normalize Tirp by cancergroup\n",
    "\n",
    "To do: weigh in clonefraction x tirp"
   ]
  },
  {
   "cell_type": "code",
   "execution_count": 103,
   "metadata": {
    "vscode": {
     "languageId": "r"
    }
   },
   "outputs": [
    {
     "data": {
      "image/png": "[encoded data removed]",
      "text/plain": [
       "plot without title"
      ]
     },
     "metadata": {
      "image/png": {
       "height": 420,
       "width": 420
      }
     },
     "output_type": "display_data"
    }
   ],
   "source": [
    "ggplot(\n",
    "  data = tirp_tmp,\n",
    "  aes(x = cancergroup, y = TiRP )\n",
    ") +\n",
    "  geom_boxplot() + #  \n",
    "  geom_beeswarm(aes(color = cancergroup), cex = 1) +\n",
    "  scale_color_manual(values= group_col[c(\"Leukemia\", \"Lymphoma\", \"Solid tumors\")]) +\n",
    "  myplot +\n",
    "  myaxis +\n",
    "  theme( legend.position = \"none\", \n",
    "    axis.text.x = element_text(angle = 45, hjust = 1),\n",
    "    axis.title.x = element_blank()\n",
    "  ) \n"
   ]
  },
  {
   "cell_type": "code",
   "execution_count": 102,
   "metadata": {
    "vscode": {
     "languageId": "r"
    }
   },
   "outputs": [
    {
     "data": {
      "text/plain": [
       "Linear Regression Model\n",
       "\n",
       "ols(formula = TiRP ~ cycle + cancergroup + Age, data = tirp_tmp)\n",
       "\n",
       "                Model Likelihood    Discrimination    \n",
       "                      Ratio Test           Indexes    \n",
       "Obs     199    LR chi2     24.70    R2       0.117    \n",
       "sigma0.2305    d.f.            7    R2 adj   0.084    \n",
       "d.f.    191    Pr(> chi2) 0.0009    g        0.092    \n",
       "\n",
       "Residuals\n",
       "\n",
       "      Min        1Q    Median        3Q       Max \n",
       "-1.636910 -0.076610  0.007564  0.085461  1.233449 \n",
       "\n",
       "\n",
       "                     Coef    S.E.   t     Pr(>|t|)\n",
       "Intercept             0.3659 0.0446  8.20 <0.0001 \n",
       "cycle=X02             0.0615 0.0509  1.21 0.2282  \n",
       "cycle=X03             0.1389 0.0512  2.71 0.0073  \n",
       "cycle=X04             0.0836 0.0534  1.56 0.1193  \n",
       "cycle=X05             0.1024 0.0545  1.88 0.0619  \n",
       "cancergroup=Lymphoma -0.1350 0.0494 -2.73 0.0069  \n",
       "cancergroup=Solid     0.0366 0.0376  0.97 0.3311  \n",
       "Age                  -0.0039 0.0028 -1.41 0.1609  \n"
      ]
     },
     "metadata": {},
     "output_type": "display_data"
    }
   ],
   "source": [
    "f"
   ]
  },
  {
   "cell_type": "code",
   "execution_count": null,
   "metadata": {
    "vscode": {
     "languageId": "r"
    }
   },
   "outputs": [],
   "source": []
  }
 ],
 "metadata": {
  "kernelspec": {
   "display_name": "R 4.0",
   "language": "R",
   "name": "ir40"
  },
  "language_info": {
   "codemirror_mode": "r",
   "file_extension": ".r",
   "mimetype": "text/x-r-source",
   "name": "R",
   "pygments_lexer": "r",
   "version": "4.2.2"
  },
  "toc": {
   "base_numbering": 1,
   "nav_menu": {},
   "number_sections": false,
   "sideBar": true,
   "skip_h1_title": false,
   "title_cell": "Table of Contents",
   "title_sidebar": "Contents",
   "toc_cell": true,
   "toc_position": {
    "height": "calc(100% - 180px)",
    "left": "10px",
    "top": "150px",
    "width": "186.15px"
   },
   "toc_section_display": true,
   "toc_window_display": true
  }
 },
 "nbformat": 4,
 "nbformat_minor": 2
}
