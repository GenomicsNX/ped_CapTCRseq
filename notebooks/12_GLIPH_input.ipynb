{
 "cells": [
  {
   "cell_type": "markdown",
   "metadata": {},
   "source": [
    "# Dependencies"
   ]
  },
  {
   "cell_type": "code",
   "execution_count": 1,
   "metadata": {
    "vscode": {
     "languageId": "r"
    }
   },
   "outputs": [],
   "source": [
    "pacman::p_load(data.table)"
   ]
  },
  {
   "cell_type": "markdown",
   "metadata": {},
   "source": [
    "# Functions"
   ]
  },
  {
   "cell_type": "code",
   "execution_count": 2,
   "metadata": {
    "vscode": {
     "languageId": "r"
    }
   },
   "outputs": [],
   "source": [
    "toString_onefle.fx <- function(df, tostringvar){\n",
    "    setDT(df)\n",
    "    ab <- df[, .(tostringvar = toString( eval(parse( text = tostringvar))), #bind subjects\n",
    "                 count = sum(count)),  #get sum of counts\n",
    "             by = c(\"CDR3b\", \"TRBV\", \"TRBJ\")] #get duplicates sequences with the same cdr3 + TRBV + TRBJ\n",
    "    df_ab <- merge(df, ab, by = c(\"CDR3b\",\"TRBV\",\"TRBJ\")) # merge together\n",
    "    df_ab_dedup <- dplyr::distinct(df_ab, CDR3b, TRBV, TRBJ, tostringvar, .keep_all= TRUE)\n",
    "    \n",
    "    return(df_ab_dedup[, c(\"CDR3b\", \"TRBV\", \"TRBJ\", \"samplename\", \n",
    "                           \"count.y\", \"clonefraction\", \"tostringvar\", \"file\")])\n",
    "}"
   ]
  },
  {
   "cell_type": "code",
   "execution_count": 3,
   "metadata": {
    "vscode": {
     "languageId": "r"
    }
   },
   "outputs": [],
   "source": [
    "#source(\"/Users/anabbi/git/ped_CapTCRseq/R/Immune_diversity.R\")"
   ]
  },
  {
   "cell_type": "markdown",
   "metadata": {},
   "source": [
    "# Paths"
   ]
  },
  {
   "cell_type": "code",
   "execution_count": 4,
   "metadata": {
    "vscode": {
     "languageId": "r"
    }
   },
   "outputs": [],
   "source": [
    "datapath <- \"/Users/anabbi/OneDrive - UHN/Documents/INTERCEPT/Data/\"\n",
    "plotpath <- \"/Users/anabbi/OneDrive - UHN/Documents/INTERCEPT/Plots/\"\n",
    "manifestpath <- \"/Users/anabbi/OneDrive - UHN/Documents/INTERCEPT/Manifests/\"\n",
    "\n",
    "gitpath <- \"/Users/anabbi/git/ped_CapTCRseq/\""
   ]
  },
  {
   "cell_type": "code",
   "execution_count": 5,
   "metadata": {
    "vscode": {
     "languageId": "r"
    }
   },
   "outputs": [],
   "source": [
    "h4hpath <- \"/Users/anabbi/Desktop/H4H/INTERCEPT/NextSeq/\""
   ]
  },
  {
   "cell_type": "markdown",
   "metadata": {},
   "source": [
    "# Main"
   ]
  },
  {
   "cell_type": "markdown",
   "metadata": {},
   "source": [
    "## Cleanup INT data"
   ]
  },
  {
   "cell_type": "code",
   "execution_count": 6,
   "metadata": {
    "vscode": {
     "languageId": "r"
    }
   },
   "outputs": [],
   "source": [
    "meta_div <- readr::read_rds(file = paste0(datapath,\"capTCRseq/meta_div_goodsamples.rds\"))"
   ]
  },
  {
   "cell_type": "code",
   "execution_count": 7,
   "metadata": {
    "vscode": {
     "languageId": "r"
    }
   },
   "outputs": [
    {
     "data": {
      "text/html": [
       "<style>\n",
       ".list-inline {list-style: none; margin:0; padding: 0}\n",
       ".list-inline>li {display: inline-block}\n",
       ".list-inline>li:not(:last-child)::after {content: \"\\00b7\"; padding: 0 .5ex}\n",
       "</style>\n",
       "<ol class=list-inline><li>'datapath'</li><li>'gitpath'</li><li>'h4hpath'</li><li>'manifestpath'</li><li>'meta_div'</li><li>'plotpath'</li><li>'toString_onefle.fx'</li></ol>\n"
      ],
      "text/latex": [
       "\\begin{enumerate*}\n",
       "\\item 'datapath'\n",
       "\\item 'gitpath'\n",
       "\\item 'h4hpath'\n",
       "\\item 'manifestpath'\n",
       "\\item 'meta\\_div'\n",
       "\\item 'plotpath'\n",
       "\\item 'toString\\_onefle.fx'\n",
       "\\end{enumerate*}\n"
      ],
      "text/markdown": [
       "1. 'datapath'\n",
       "2. 'gitpath'\n",
       "3. 'h4hpath'\n",
       "4. 'manifestpath'\n",
       "5. 'meta_div'\n",
       "6. 'plotpath'\n",
       "7. 'toString_onefle.fx'\n",
       "\n",
       "\n"
      ],
      "text/plain": [
       "[1] \"datapath\"           \"gitpath\"            \"h4hpath\"           \n",
       "[4] \"manifestpath\"       \"meta_div\"           \"plotpath\"          \n",
       "[7] \"toString_onefle.fx\""
      ]
     },
     "metadata": {},
     "output_type": "display_data"
    }
   ],
   "source": [
    "ls()"
   ]
  },
  {
   "cell_type": "code",
   "execution_count": 8,
   "metadata": {
    "vscode": {
     "languageId": "r"
    }
   },
   "outputs": [
    {
     "data": {
      "text/html": [
       "<table class=\"dataframe\">\n",
       "<caption>A data.frame: 1 x 58</caption>\n",
       "<thead>\n",
       "\t<tr><th></th><th scope=col>sample_id</th><th scope=col>Patient</th><th scope=col>cycle</th><th scope=col>FOLD</th><th scope=col>ATC</th><th scope=col>Age</th><th scope=col>Disease_type</th><th scope=col>TE_fold</th><th scope=col>Pass</th><th scope=col>CD3</th><th scope=col>...</th><th scope=col>observed_Shannon</th><th scope=col>estimated_Shannon</th><th scope=col>SE_Shannon</th><th scope=col>observed_Simpson</th><th scope=col>estimated_Simpson</th><th scope=col>SE_Simpson</th><th scope=col>file</th><th scope=col>basename</th><th scope=col>Group</th><th scope=col>sampletype</th></tr>\n",
       "\t<tr><th></th><th scope=col>&lt;chr&gt;</th><th scope=col>&lt;chr&gt;</th><th scope=col>&lt;chr&gt;</th><th scope=col>&lt;dbl&gt;</th><th scope=col>&lt;dbl&gt;</th><th scope=col>&lt;dbl&gt;</th><th scope=col>&lt;chr&gt;</th><th scope=col>&lt;chr&gt;</th><th scope=col>&lt;lgl&gt;</th><th scope=col>&lt;int&gt;</th><th scope=col>...</th><th scope=col>&lt;dbl&gt;</th><th scope=col>&lt;dbl&gt;</th><th scope=col>&lt;dbl&gt;</th><th scope=col>&lt;dbl&gt;</th><th scope=col>&lt;dbl&gt;</th><th scope=col>&lt;dbl&gt;</th><th scope=col>&lt;chr&gt;</th><th scope=col>&lt;chr&gt;</th><th scope=col>&lt;chr&gt;</th><th scope=col>&lt;chr&gt;</th></tr>\n",
       "</thead>\n",
       "<tbody>\n",
       "\t<tr><th scope=row>212</th><td>CHP_352_01</td><td>CHP_352</td><td>X01</td><td>1.2</td><td>763.14</td><td>17</td><td>HR ALL</td><td>1.2</td><td>NA</td><td>2337</td><td>...</td><td>13.963</td><td>14.333</td><td>0.548</td><td>11.114</td><td>11.444</td><td>0.781</td><td>batch1_jul52019/mixcr/clones/CLONES_TRBCHP_352-01-PBMC-DNA.txt</td><td>CHP_352-01-PBMC-DNA</td><td>CHP</td><td>PBMC</td></tr>\n",
       "</tbody>\n",
       "</table>\n"
      ],
      "text/latex": [
       "A data.frame: 1 x 58\n",
       "\\begin{tabular}{r|lllllllllllllllllllll}\n",
       "  & sample\\_id & Patient & cycle & FOLD & ATC & Age & Disease\\_type & TE\\_fold & Pass & CD3 & ... & observed\\_Shannon & estimated\\_Shannon & SE\\_Shannon & observed\\_Simpson & estimated\\_Simpson & SE\\_Simpson & file & basename & Group & sampletype\\\\\n",
       "  & <chr> & <chr> & <chr> & <dbl> & <dbl> & <dbl> & <chr> & <chr> & <lgl> & <int> & ... & <dbl> & <dbl> & <dbl> & <dbl> & <dbl> & <dbl> & <chr> & <chr> & <chr> & <chr>\\\\\n",
       "\\hline\n",
       "\t212 & CHP\\_352\\_01 & CHP\\_352 & X01 & 1.2 & 763.14 & 17 & HR ALL & 1.2 & NA & 2337 & ... & 13.963 & 14.333 & 0.548 & 11.114 & 11.444 & 0.781 & batch1\\_jul52019/mixcr/clones/CLONES\\_TRBCHP\\_352-01-PBMC-DNA.txt & CHP\\_352-01-PBMC-DNA & CHP & PBMC\\\\\n",
       "\\end{tabular}\n"
      ],
      "text/markdown": [
       "\n",
       "A data.frame: 1 x 58\n",
       "\n",
       "| <!--/--> | sample_id &lt;chr&gt; | Patient &lt;chr&gt; | cycle &lt;chr&gt; | FOLD &lt;dbl&gt; | ATC &lt;dbl&gt; | Age &lt;dbl&gt; | Disease_type &lt;chr&gt; | TE_fold &lt;chr&gt; | Pass &lt;lgl&gt; | CD3 &lt;int&gt; | ... ... | observed_Shannon &lt;dbl&gt; | estimated_Shannon &lt;dbl&gt; | SE_Shannon &lt;dbl&gt; | observed_Simpson &lt;dbl&gt; | estimated_Simpson &lt;dbl&gt; | SE_Simpson &lt;dbl&gt; | file &lt;chr&gt; | basename &lt;chr&gt; | Group &lt;chr&gt; | sampletype &lt;chr&gt; |\n",
       "|---|---|---|---|---|---|---|---|---|---|---|---|---|---|---|---|---|---|---|---|---|---|\n",
       "| 212 | CHP_352_01 | CHP_352 | X01 | 1.2 | 763.14 | 17 | HR ALL | 1.2 | NA | 2337 | ... | 13.963 | 14.333 | 0.548 | 11.114 | 11.444 | 0.781 | batch1_jul52019/mixcr/clones/CLONES_TRBCHP_352-01-PBMC-DNA.txt | CHP_352-01-PBMC-DNA | CHP | PBMC |\n",
       "\n"
      ],
      "text/plain": [
       "    sample_id  Patient cycle FOLD ATC    Age Disease_type TE_fold Pass CD3  ...\n",
       "212 CHP_352_01 CHP_352 X01   1.2  763.14 17  HR ALL       1.2     NA   2337 ...\n",
       "    observed_Shannon estimated_Shannon SE_Shannon observed_Simpson\n",
       "212 13.963           14.333            0.548      11.114          \n",
       "    estimated_Simpson SE_Simpson\n",
       "212 11.444            0.781     \n",
       "    file                                                          \n",
       "212 batch1_jul52019/mixcr/clones/CLONES_TRBCHP_352-01-PBMC-DNA.txt\n",
       "    basename            Group sampletype\n",
       "212 CHP_352-01-PBMC-DNA CHP   PBMC      "
      ]
     },
     "metadata": {},
     "output_type": "display_data"
    }
   ],
   "source": [
    "meta_div[ grepl(\"CHP_352\", meta_div$basename), ]"
   ]
  },
  {
   "cell_type": "code",
   "execution_count": 9,
   "metadata": {
    "vscode": {
     "languageId": "r"
    }
   },
   "outputs": [],
   "source": [
    "load(file = paste0(datapath,\"capTCRseq/TRBfiles.RData\"))"
   ]
  },
  {
   "cell_type": "code",
   "execution_count": 10,
   "metadata": {
    "vscode": {
     "languageId": "r"
    }
   },
   "outputs": [
    {
     "data": {
      "text/html": [
       "<style>\n",
       ".list-inline {list-style: none; margin:0; padding: 0}\n",
       ".list-inline>li {display: inline-block}\n",
       ".list-inline>li:not(:last-child)::after {content: \"\\00b7\"; padding: 0 .5ex}\n",
       "</style>\n",
       "<ol class=list-inline><li>603</li><li>3</li></ol>\n"
      ],
      "text/latex": [
       "\\begin{enumerate*}\n",
       "\\item 603\n",
       "\\item 3\n",
       "\\end{enumerate*}\n"
      ],
      "text/markdown": [
       "1. 603\n",
       "2. 3\n",
       "\n",
       "\n"
      ],
      "text/plain": [
       "[1] 603   3"
      ]
     },
     "metadata": {},
     "output_type": "display_data"
    }
   ],
   "source": [
    "dim(file_df_dedup_trb)"
   ]
  },
  {
   "cell_type": "code",
   "execution_count": 11,
   "metadata": {
    "vscode": {
     "languageId": "r"
    }
   },
   "outputs": [],
   "source": [
    "# get good samples\n",
    "file_df_dedup_trb <- file_df_dedup_trb[ file_df_dedup_trb$samplename %in% meta_div$basename, ]"
   ]
  },
  {
   "cell_type": "code",
   "execution_count": 12,
   "metadata": {
    "vscode": {
     "languageId": "r"
    }
   },
   "outputs": [
    {
     "data": {
      "text/html": [
       "<style>\n",
       ".list-inline {list-style: none; margin:0; padding: 0}\n",
       ".list-inline>li {display: inline-block}\n",
       ".list-inline>li:not(:last-child)::after {content: \"\\00b7\"; padding: 0 .5ex}\n",
       "</style>\n",
       "<ol class=list-inline><li>554</li><li>3</li></ol>\n"
      ],
      "text/latex": [
       "\\begin{enumerate*}\n",
       "\\item 554\n",
       "\\item 3\n",
       "\\end{enumerate*}\n"
      ],
      "text/markdown": [
       "1. 554\n",
       "2. 3\n",
       "\n",
       "\n"
      ],
      "text/plain": [
       "[1] 554   3"
      ]
     },
     "metadata": {},
     "output_type": "display_data"
    }
   ],
   "source": [
    "dim(file_df_dedup_trb)"
   ]
  },
  {
   "cell_type": "code",
   "execution_count": 13,
   "metadata": {
    "vscode": {
     "languageId": "r"
    }
   },
   "outputs": [],
   "source": [
    "file_df_dedup_trb$Patient <- meta_div$Patient[match(file_df_dedup_trb$samplename, meta_div$basename)]"
   ]
  },
  {
   "cell_type": "code",
   "execution_count": 14,
   "metadata": {
    "vscode": {
     "languageId": "r"
    }
   },
   "outputs": [
    {
     "data": {
      "text/html": [
       "<style>\n",
       ".list-inline {list-style: none; margin:0; padding: 0}\n",
       ".list-inline>li {display: inline-block}\n",
       ".list-inline>li:not(:last-child)::after {content: \"\\00b7\"; padding: 0 .5ex}\n",
       "</style>\n",
       "<ol class=list-inline><li>554</li><li>4</li></ol>\n"
      ],
      "text/latex": [
       "\\begin{enumerate*}\n",
       "\\item 554\n",
       "\\item 4\n",
       "\\end{enumerate*}\n"
      ],
      "text/markdown": [
       "1. 554\n",
       "2. 4\n",
       "\n",
       "\n"
      ],
      "text/plain": [
       "[1] 554   4"
      ]
     },
     "metadata": {},
     "output_type": "display_data"
    }
   ],
   "source": [
    "dim(file_df_dedup_trb)"
   ]
  },
  {
   "cell_type": "code",
   "execution_count": 15,
   "metadata": {
    "vscode": {
     "languageId": "r"
    }
   },
   "outputs": [],
   "source": [
    "#replace - with _\n",
    "file_df_dedup_trb$Patient <- gsub(\"-\", \"_\", file_df_dedup_trb$Patient)"
   ]
  },
  {
   "cell_type": "code",
   "execution_count": 16,
   "metadata": {
    "vscode": {
     "languageId": "r"
    }
   },
   "outputs": [
    {
     "data": {
      "text/html": [
       "<table class=\"dataframe\">\n",
       "<caption>A data.frame: 6 x 4</caption>\n",
       "<thead>\n",
       "\t<tr><th></th><th scope=col>file_list</th><th scope=col>samplename</th><th scope=col>size</th><th scope=col>Patient</th></tr>\n",
       "\t<tr><th></th><th scope=col>&lt;chr&gt;</th><th scope=col>&lt;chr&gt;</th><th scope=col>&lt;dbl&gt;</th><th scope=col>&lt;chr&gt;</th></tr>\n",
       "</thead>\n",
       "<tbody>\n",
       "\t<tr><th scope=row>2</th><td>batch_reseq_24Feb2020/mixcr/clones/CLONES_TRBCHP_350-01-PBMC-DNA.txt</td><td>CHP_350-01-PBMC-DNA</td><td> 85631</td><td>CHP_350</td></tr>\n",
       "\t<tr><th scope=row>3</th><td>batch_reseq_24Feb2020/mixcr/clones/CLONES_TRBCHP_350-02-PBMC-DNA.txt</td><td>CHP_350-02-PBMC-DNA</td><td>143632</td><td>CHP_350</td></tr>\n",
       "\t<tr><th scope=row>4</th><td>batch_reseq_24Feb2020/mixcr/clones/CLONES_TRBCHP_350-03-PBMC-DNA.txt</td><td>CHP_350-03-PBMC-DNA</td><td>107190</td><td>CHP_350</td></tr>\n",
       "\t<tr><th scope=row>5</th><td>batch_reseq_24Feb2020/mixcr/clones/CLONES_TRBCHP_350-04-PBMC-DNA.txt</td><td>CHP_350-04-PBMC-DNA</td><td> 54188</td><td>CHP_350</td></tr>\n",
       "\t<tr><th scope=row>7</th><td>batch_reseq_24Feb2020/mixcr/clones/CLONES_TRBCHP_354-01-PBMC-DNA.txt</td><td>CHP_354-01-PBMC-DNA</td><td>  3728</td><td>CHP_354</td></tr>\n",
       "\t<tr><th scope=row>8</th><td>batch_reseq_24Feb2020/mixcr/clones/CLONES_TRBCHP_356-03-PBMC-DNA.txt</td><td>CHP_356-03-PBMC-DNA</td><td>  1573</td><td>CHP_356</td></tr>\n",
       "</tbody>\n",
       "</table>\n"
      ],
      "text/latex": [
       "A data.frame: 6 x 4\n",
       "\\begin{tabular}{r|llll}\n",
       "  & file\\_list & samplename & size & Patient\\\\\n",
       "  & <chr> & <chr> & <dbl> & <chr>\\\\\n",
       "\\hline\n",
       "\t2 & batch\\_reseq\\_24Feb2020/mixcr/clones/CLONES\\_TRBCHP\\_350-01-PBMC-DNA.txt & CHP\\_350-01-PBMC-DNA &  85631 & CHP\\_350\\\\\n",
       "\t3 & batch\\_reseq\\_24Feb2020/mixcr/clones/CLONES\\_TRBCHP\\_350-02-PBMC-DNA.txt & CHP\\_350-02-PBMC-DNA & 143632 & CHP\\_350\\\\\n",
       "\t4 & batch\\_reseq\\_24Feb2020/mixcr/clones/CLONES\\_TRBCHP\\_350-03-PBMC-DNA.txt & CHP\\_350-03-PBMC-DNA & 107190 & CHP\\_350\\\\\n",
       "\t5 & batch\\_reseq\\_24Feb2020/mixcr/clones/CLONES\\_TRBCHP\\_350-04-PBMC-DNA.txt & CHP\\_350-04-PBMC-DNA &  54188 & CHP\\_350\\\\\n",
       "\t7 & batch\\_reseq\\_24Feb2020/mixcr/clones/CLONES\\_TRBCHP\\_354-01-PBMC-DNA.txt & CHP\\_354-01-PBMC-DNA &   3728 & CHP\\_354\\\\\n",
       "\t8 & batch\\_reseq\\_24Feb2020/mixcr/clones/CLONES\\_TRBCHP\\_356-03-PBMC-DNA.txt & CHP\\_356-03-PBMC-DNA &   1573 & CHP\\_356\\\\\n",
       "\\end{tabular}\n"
      ],
      "text/markdown": [
       "\n",
       "A data.frame: 6 x 4\n",
       "\n",
       "| <!--/--> | file_list &lt;chr&gt; | samplename &lt;chr&gt; | size &lt;dbl&gt; | Patient &lt;chr&gt; |\n",
       "|---|---|---|---|---|\n",
       "| 2 | batch_reseq_24Feb2020/mixcr/clones/CLONES_TRBCHP_350-01-PBMC-DNA.txt | CHP_350-01-PBMC-DNA |  85631 | CHP_350 |\n",
       "| 3 | batch_reseq_24Feb2020/mixcr/clones/CLONES_TRBCHP_350-02-PBMC-DNA.txt | CHP_350-02-PBMC-DNA | 143632 | CHP_350 |\n",
       "| 4 | batch_reseq_24Feb2020/mixcr/clones/CLONES_TRBCHP_350-03-PBMC-DNA.txt | CHP_350-03-PBMC-DNA | 107190 | CHP_350 |\n",
       "| 5 | batch_reseq_24Feb2020/mixcr/clones/CLONES_TRBCHP_350-04-PBMC-DNA.txt | CHP_350-04-PBMC-DNA |  54188 | CHP_350 |\n",
       "| 7 | batch_reseq_24Feb2020/mixcr/clones/CLONES_TRBCHP_354-01-PBMC-DNA.txt | CHP_354-01-PBMC-DNA |   3728 | CHP_354 |\n",
       "| 8 | batch_reseq_24Feb2020/mixcr/clones/CLONES_TRBCHP_356-03-PBMC-DNA.txt | CHP_356-03-PBMC-DNA |   1573 | CHP_356 |\n",
       "\n"
      ],
      "text/plain": [
       "  file_list                                                           \n",
       "2 batch_reseq_24Feb2020/mixcr/clones/CLONES_TRBCHP_350-01-PBMC-DNA.txt\n",
       "3 batch_reseq_24Feb2020/mixcr/clones/CLONES_TRBCHP_350-02-PBMC-DNA.txt\n",
       "4 batch_reseq_24Feb2020/mixcr/clones/CLONES_TRBCHP_350-03-PBMC-DNA.txt\n",
       "5 batch_reseq_24Feb2020/mixcr/clones/CLONES_TRBCHP_350-04-PBMC-DNA.txt\n",
       "7 batch_reseq_24Feb2020/mixcr/clones/CLONES_TRBCHP_354-01-PBMC-DNA.txt\n",
       "8 batch_reseq_24Feb2020/mixcr/clones/CLONES_TRBCHP_356-03-PBMC-DNA.txt\n",
       "  samplename          size   Patient\n",
       "2 CHP_350-01-PBMC-DNA  85631 CHP_350\n",
       "3 CHP_350-02-PBMC-DNA 143632 CHP_350\n",
       "4 CHP_350-03-PBMC-DNA 107190 CHP_350\n",
       "5 CHP_350-04-PBMC-DNA  54188 CHP_350\n",
       "7 CHP_354-01-PBMC-DNA   3728 CHP_354\n",
       "8 CHP_356-03-PBMC-DNA   1573 CHP_356"
      ]
     },
     "metadata": {},
     "output_type": "display_data"
    }
   ],
   "source": [
    "head(file_df_dedup_trb)"
   ]
  },
  {
   "cell_type": "code",
   "execution_count": 17,
   "metadata": {
    "vscode": {
     "languageId": "r"
    }
   },
   "outputs": [
    {
     "data": {
      "text/html": [
       "<table class=\"dataframe\">\n",
       "<caption>A data.frame: 6 x 58</caption>\n",
       "<thead>\n",
       "\t<tr><th></th><th scope=col>sample_id</th><th scope=col>Patient</th><th scope=col>cycle</th><th scope=col>FOLD</th><th scope=col>ATC</th><th scope=col>Age</th><th scope=col>Disease_type</th><th scope=col>TE_fold</th><th scope=col>Pass</th><th scope=col>CD3</th><th scope=col>...</th><th scope=col>observed_Shannon</th><th scope=col>estimated_Shannon</th><th scope=col>SE_Shannon</th><th scope=col>observed_Simpson</th><th scope=col>estimated_Simpson</th><th scope=col>SE_Simpson</th><th scope=col>file</th><th scope=col>basename</th><th scope=col>Group</th><th scope=col>sampletype</th></tr>\n",
       "\t<tr><th></th><th scope=col>&lt;chr&gt;</th><th scope=col>&lt;chr&gt;</th><th scope=col>&lt;chr&gt;</th><th scope=col>&lt;dbl&gt;</th><th scope=col>&lt;dbl&gt;</th><th scope=col>&lt;dbl&gt;</th><th scope=col>&lt;chr&gt;</th><th scope=col>&lt;chr&gt;</th><th scope=col>&lt;lgl&gt;</th><th scope=col>&lt;int&gt;</th><th scope=col>...</th><th scope=col>&lt;dbl&gt;</th><th scope=col>&lt;dbl&gt;</th><th scope=col>&lt;dbl&gt;</th><th scope=col>&lt;dbl&gt;</th><th scope=col>&lt;dbl&gt;</th><th scope=col>&lt;dbl&gt;</th><th scope=col>&lt;chr&gt;</th><th scope=col>&lt;chr&gt;</th><th scope=col>&lt;chr&gt;</th><th scope=col>&lt;chr&gt;</th></tr>\n",
       "</thead>\n",
       "<tbody>\n",
       "\t<tr><th scope=row>406</th><td>CHP_377_01</td><td>CHP_377</td><td>X01</td><td>0.9</td><td>277.95</td><td>18</td><td>HR ALL</td><td>0.9</td><td>NA</td><td>  93</td><td>...</td><td>118.300</td><td>118.368</td><td>0.223</td><td>92.572</td><td>92.618</td><td>0.285</td><td>remaining_batch_1_20April2021/mixcr/clones/CLONES_TRBCHP_377-01_PBMC-DNA.txt   </td><td>CHP_377-01_PBMC-DNA</td><td>CHP</td><td>PBMC </td></tr>\n",
       "\t<tr><th scope=row>410</th><td>CHP_377_03</td><td>CHP_377</td><td>X03</td><td>0.0</td><td>  0.00</td><td>18</td><td>HR ALL</td><td>0  </td><td>NA</td><td>   0</td><td>...</td><td> 46.358</td><td> 46.378</td><td>0.113</td><td>31.829</td><td>31.837</td><td>0.174</td><td>remaining_batch_2_22April2021/mixcr/clones/CLONES_TRBCHP_377-03_PBMC-DNA.txt   </td><td>CHP_377-03_PBMC-DNA</td><td>CHP</td><td>PBMC </td></tr>\n",
       "\t<tr><th scope=row>412</th><td>CHP_377_04</td><td>CHP_377</td><td>X04</td><td>1.6</td><td>  0.00</td><td>18</td><td>HR ALL</td><td>1.6</td><td>NA</td><td>2437</td><td>...</td><td>177.663</td><td>186.596</td><td>3.303</td><td>88.276</td><td>90.414</td><td>4.938</td><td>batch11_23Apr2020/mixcr/clones/CLONES_TRBCHP_377-04_PBMC_DNA.txt               </td><td>CHP_377-04_PBMC_DNA</td><td>CHP</td><td>PBMC </td></tr>\n",
       "\t<tr><th scope=row>407</th><td>CHP_377_01</td><td>CHP_377</td><td>X01</td><td>0.9</td><td>277.95</td><td>18</td><td>HR ALL</td><td>0.9</td><td>NA</td><td>  93</td><td>...</td><td>     NA</td><td>     NA</td><td>   NA</td><td>    NA</td><td>    NA</td><td>   NA</td><td>NA                                                                             </td><td>CHP_377-01-cfDNA   </td><td>CHP</td><td>cfDNA</td></tr>\n",
       "\t<tr><th scope=row>408</th><td>CHP_377_02</td><td>CHP_377</td><td>X02</td><td>0.0</td><td>  0.00</td><td>18</td><td>HR ALL</td><td>0  </td><td>NA</td><td>   0</td><td>...</td><td>  2.729</td><td>  2.731</td><td>0.035</td><td> 2.308</td><td> 2.308</td><td>0.020</td><td>remaining_batch_4_cfDNA_15April2021/mixcr/clones/CLONES_TRBCHP_377-02_cfDNA.txt</td><td>CHP_377-02_cfDNA   </td><td>CHP</td><td>cfDNA</td></tr>\n",
       "\t<tr><th scope=row>411</th><td>CHP_377_03</td><td>CHP_377</td><td>X03</td><td>0.0</td><td>  0.00</td><td>18</td><td>HR ALL</td><td>0  </td><td>NA</td><td>   0</td><td>...</td><td>  1.036</td><td>  1.037</td><td>0.006</td><td> 1.012</td><td> 1.012</td><td>0.002</td><td>remaining_batch_4_cfDNA_15April2021/mixcr/clones/CLONES_TRBCHP_377-03_cfDNA.txt</td><td>CHP_377-03_cfDNA   </td><td>CHP</td><td>cfDNA</td></tr>\n",
       "</tbody>\n",
       "</table>\n"
      ],
      "text/latex": [
       "A data.frame: 6 x 58\n",
       "\\begin{tabular}{r|lllllllllllllllllllll}\n",
       "  & sample\\_id & Patient & cycle & FOLD & ATC & Age & Disease\\_type & TE\\_fold & Pass & CD3 & ... & observed\\_Shannon & estimated\\_Shannon & SE\\_Shannon & observed\\_Simpson & estimated\\_Simpson & SE\\_Simpson & file & basename & Group & sampletype\\\\\n",
       "  & <chr> & <chr> & <chr> & <dbl> & <dbl> & <dbl> & <chr> & <chr> & <lgl> & <int> & ... & <dbl> & <dbl> & <dbl> & <dbl> & <dbl> & <dbl> & <chr> & <chr> & <chr> & <chr>\\\\\n",
       "\\hline\n",
       "\t406 & CHP\\_377\\_01 & CHP\\_377 & X01 & 0.9 & 277.95 & 18 & HR ALL & 0.9 & NA &   93 & ... & 118.300 & 118.368 & 0.223 & 92.572 & 92.618 & 0.285 & remaining\\_batch\\_1\\_20April2021/mixcr/clones/CLONES\\_TRBCHP\\_377-01\\_PBMC-DNA.txt    & CHP\\_377-01\\_PBMC-DNA & CHP & PBMC \\\\\n",
       "\t410 & CHP\\_377\\_03 & CHP\\_377 & X03 & 0.0 &   0.00 & 18 & HR ALL & 0   & NA &    0 & ... &  46.358 &  46.378 & 0.113 & 31.829 & 31.837 & 0.174 & remaining\\_batch\\_2\\_22April2021/mixcr/clones/CLONES\\_TRBCHP\\_377-03\\_PBMC-DNA.txt    & CHP\\_377-03\\_PBMC-DNA & CHP & PBMC \\\\\n",
       "\t412 & CHP\\_377\\_04 & CHP\\_377 & X04 & 1.6 &   0.00 & 18 & HR ALL & 1.6 & NA & 2437 & ... & 177.663 & 186.596 & 3.303 & 88.276 & 90.414 & 4.938 & batch11\\_23Apr2020/mixcr/clones/CLONES\\_TRBCHP\\_377-04\\_PBMC\\_DNA.txt                & CHP\\_377-04\\_PBMC\\_DNA & CHP & PBMC \\\\\n",
       "\t407 & CHP\\_377\\_01 & CHP\\_377 & X01 & 0.9 & 277.95 & 18 & HR ALL & 0.9 & NA &   93 & ... &      NA &      NA &    NA &     NA &     NA &    NA & NA                                                                              & CHP\\_377-01-cfDNA    & CHP & cfDNA\\\\\n",
       "\t408 & CHP\\_377\\_02 & CHP\\_377 & X02 & 0.0 &   0.00 & 18 & HR ALL & 0   & NA &    0 & ... &   2.729 &   2.731 & 0.035 &  2.308 &  2.308 & 0.020 & remaining\\_batch\\_4\\_cfDNA\\_15April2021/mixcr/clones/CLONES\\_TRBCHP\\_377-02\\_cfDNA.txt & CHP\\_377-02\\_cfDNA    & CHP & cfDNA\\\\\n",
       "\t411 & CHP\\_377\\_03 & CHP\\_377 & X03 & 0.0 &   0.00 & 18 & HR ALL & 0   & NA &    0 & ... &   1.036 &   1.037 & 0.006 &  1.012 &  1.012 & 0.002 & remaining\\_batch\\_4\\_cfDNA\\_15April2021/mixcr/clones/CLONES\\_TRBCHP\\_377-03\\_cfDNA.txt & CHP\\_377-03\\_cfDNA    & CHP & cfDNA\\\\\n",
       "\\end{tabular}\n"
      ],
      "text/markdown": [
       "\n",
       "A data.frame: 6 x 58\n",
       "\n",
       "| <!--/--> | sample_id &lt;chr&gt; | Patient &lt;chr&gt; | cycle &lt;chr&gt; | FOLD &lt;dbl&gt; | ATC &lt;dbl&gt; | Age &lt;dbl&gt; | Disease_type &lt;chr&gt; | TE_fold &lt;chr&gt; | Pass &lt;lgl&gt; | CD3 &lt;int&gt; | ... ... | observed_Shannon &lt;dbl&gt; | estimated_Shannon &lt;dbl&gt; | SE_Shannon &lt;dbl&gt; | observed_Simpson &lt;dbl&gt; | estimated_Simpson &lt;dbl&gt; | SE_Simpson &lt;dbl&gt; | file &lt;chr&gt; | basename &lt;chr&gt; | Group &lt;chr&gt; | sampletype &lt;chr&gt; |\n",
       "|---|---|---|---|---|---|---|---|---|---|---|---|---|---|---|---|---|---|---|---|---|---|\n",
       "| 406 | CHP_377_01 | CHP_377 | X01 | 0.9 | 277.95 | 18 | HR ALL | 0.9 | NA |   93 | ... | 118.300 | 118.368 | 0.223 | 92.572 | 92.618 | 0.285 | remaining_batch_1_20April2021/mixcr/clones/CLONES_TRBCHP_377-01_PBMC-DNA.txt    | CHP_377-01_PBMC-DNA | CHP | PBMC  |\n",
       "| 410 | CHP_377_03 | CHP_377 | X03 | 0.0 |   0.00 | 18 | HR ALL | 0   | NA |    0 | ... |  46.358 |  46.378 | 0.113 | 31.829 | 31.837 | 0.174 | remaining_batch_2_22April2021/mixcr/clones/CLONES_TRBCHP_377-03_PBMC-DNA.txt    | CHP_377-03_PBMC-DNA | CHP | PBMC  |\n",
       "| 412 | CHP_377_04 | CHP_377 | X04 | 1.6 |   0.00 | 18 | HR ALL | 1.6 | NA | 2437 | ... | 177.663 | 186.596 | 3.303 | 88.276 | 90.414 | 4.938 | batch11_23Apr2020/mixcr/clones/CLONES_TRBCHP_377-04_PBMC_DNA.txt                | CHP_377-04_PBMC_DNA | CHP | PBMC  |\n",
       "| 407 | CHP_377_01 | CHP_377 | X01 | 0.9 | 277.95 | 18 | HR ALL | 0.9 | NA |   93 | ... |      NA |      NA |    NA |     NA |     NA |    NA | NA                                                                              | CHP_377-01-cfDNA    | CHP | cfDNA |\n",
       "| 408 | CHP_377_02 | CHP_377 | X02 | 0.0 |   0.00 | 18 | HR ALL | 0   | NA |    0 | ... |   2.729 |   2.731 | 0.035 |  2.308 |  2.308 | 0.020 | remaining_batch_4_cfDNA_15April2021/mixcr/clones/CLONES_TRBCHP_377-02_cfDNA.txt | CHP_377-02_cfDNA    | CHP | cfDNA |\n",
       "| 411 | CHP_377_03 | CHP_377 | X03 | 0.0 |   0.00 | 18 | HR ALL | 0   | NA |    0 | ... |   1.036 |   1.037 | 0.006 |  1.012 |  1.012 | 0.002 | remaining_batch_4_cfDNA_15April2021/mixcr/clones/CLONES_TRBCHP_377-03_cfDNA.txt | CHP_377-03_cfDNA    | CHP | cfDNA |\n",
       "\n"
      ],
      "text/plain": [
       "    sample_id  Patient cycle FOLD ATC    Age Disease_type TE_fold Pass CD3  ...\n",
       "406 CHP_377_01 CHP_377 X01   0.9  277.95 18  HR ALL       0.9     NA     93 ...\n",
       "410 CHP_377_03 CHP_377 X03   0.0    0.00 18  HR ALL       0       NA      0 ...\n",
       "412 CHP_377_04 CHP_377 X04   1.6    0.00 18  HR ALL       1.6     NA   2437 ...\n",
       "407 CHP_377_01 CHP_377 X01   0.9  277.95 18  HR ALL       0.9     NA     93 ...\n",
       "408 CHP_377_02 CHP_377 X02   0.0    0.00 18  HR ALL       0       NA      0 ...\n",
       "411 CHP_377_03 CHP_377 X03   0.0    0.00 18  HR ALL       0       NA      0 ...\n",
       "    observed_Shannon estimated_Shannon SE_Shannon observed_Simpson\n",
       "406 118.300          118.368           0.223      92.572          \n",
       "410  46.358           46.378           0.113      31.829          \n",
       "412 177.663          186.596           3.303      88.276          \n",
       "407      NA               NA              NA          NA          \n",
       "408   2.729            2.731           0.035       2.308          \n",
       "411   1.036            1.037           0.006       1.012          \n",
       "    estimated_Simpson SE_Simpson\n",
       "406 92.618            0.285     \n",
       "410 31.837            0.174     \n",
       "412 90.414            4.938     \n",
       "407     NA               NA     \n",
       "408  2.308            0.020     \n",
       "411  1.012            0.002     \n",
       "    file                                                                           \n",
       "406 remaining_batch_1_20April2021/mixcr/clones/CLONES_TRBCHP_377-01_PBMC-DNA.txt   \n",
       "410 remaining_batch_2_22April2021/mixcr/clones/CLONES_TRBCHP_377-03_PBMC-DNA.txt   \n",
       "412 batch11_23Apr2020/mixcr/clones/CLONES_TRBCHP_377-04_PBMC_DNA.txt               \n",
       "407 NA                                                                             \n",
       "408 remaining_batch_4_cfDNA_15April2021/mixcr/clones/CLONES_TRBCHP_377-02_cfDNA.txt\n",
       "411 remaining_batch_4_cfDNA_15April2021/mixcr/clones/CLONES_TRBCHP_377-03_cfDNA.txt\n",
       "    basename            Group sampletype\n",
       "406 CHP_377-01_PBMC-DNA CHP   PBMC      \n",
       "410 CHP_377-03_PBMC-DNA CHP   PBMC      \n",
       "412 CHP_377-04_PBMC_DNA CHP   PBMC      \n",
       "407 CHP_377-01-cfDNA    CHP   cfDNA     \n",
       "408 CHP_377-02_cfDNA    CHP   cfDNA     \n",
       "411 CHP_377-03_cfDNA    CHP   cfDNA     "
      ]
     },
     "metadata": {},
     "output_type": "display_data"
    }
   ],
   "source": [
    "meta_div[ grepl(\"CHP_377\", meta_div$basename), ]"
   ]
  },
  {
   "cell_type": "code",
   "execution_count": 18,
   "metadata": {
    "vscode": {
     "languageId": "r"
    }
   },
   "outputs": [
    {
     "data": {
      "text/html": [
       "<table class=\"dataframe\">\n",
       "<caption>A data.frame: 9 x 4</caption>\n",
       "<thead>\n",
       "\t<tr><th></th><th scope=col>file_list</th><th scope=col>samplename</th><th scope=col>size</th><th scope=col>Patient</th></tr>\n",
       "\t<tr><th></th><th scope=col>&lt;chr&gt;</th><th scope=col>&lt;chr&gt;</th><th scope=col>&lt;dbl&gt;</th><th scope=col>&lt;chr&gt;</th></tr>\n",
       "</thead>\n",
       "<tbody>\n",
       "\t<tr><th scope=row>17</th><td>batch1_cfDNA_30Jan2020/mixcr/clones/CLONES_TRBCHP_347-01-cfDNA.txt             </td><td>CHP_347-01-cfDNA   </td><td>1825</td><td>CHP_347</td></tr>\n",
       "\t<tr><th scope=row>37</th><td>batch1_cfDNA_30Jan2020/mixcr/clones/CLONES_TRBCHP_377-01-cfDNA.txt             </td><td>CHP_377-01-cfDNA   </td><td> 965</td><td>CHP_377</td></tr>\n",
       "\t<tr><th scope=row>307</th><td>batch5_cfDNA_25Jun2020/mixcr/clones/CLONES_TRBCHP_366-05_cfDNA.txt             </td><td>CHP_366-05_cfDNA   </td><td> 744</td><td>CHP_366</td></tr>\n",
       "\t<tr><th scope=row>342</th><td>batch7_cfDNA_29Jun2020/mixcr/clones/CLONES_TRBCHP_381-05_cfDNA.txt             </td><td>CHP_381-05_cfDNA   </td><td>1229</td><td>CHP_381</td></tr>\n",
       "\t<tr><th scope=row>350</th><td>batch7_cfDNA_29Jun2020/mixcr/clones/CLONES_TRBCHP_391-02_cfDNA.txt             </td><td>CHP_391-02_cfDNA   </td><td> 811</td><td>CHP_391</td></tr>\n",
       "\t<tr><th scope=row>351</th><td>batch7_cfDNA_29Jun2020/mixcr/clones/CLONES_TRBCHP_392-01_cfDNA.txt             </td><td>CHP_392-01_cfDNA   </td><td>1289</td><td>CHP_392</td></tr>\n",
       "\t<tr><th scope=row>359</th><td>batch7_cfDNA_29Jun2020/mixcr/clones/CLONES_TRBCHP_398-01_cfDNA.txt             </td><td>CHP_398-01_cfDNA   </td><td>2330</td><td>CHP_398</td></tr>\n",
       "\t<tr><th scope=row>409</th><td>batchFFPE_3Apr2020/mixcr/clones/CLONES_TRBCHP_419-FFPE-DNA_S2.txt              </td><td>CHP_419-FFPE-DNA_S2</td><td> 810</td><td>CHP_419</td></tr>\n",
       "\t<tr><th scope=row>1148</th><td>remaining_batch_2_cfDNA_15April2021/mixcr/clones/CLONES_TRBCHP_401-03_cfDNA.txt</td><td>CHP_401-03_cfDNA   </td><td> 731</td><td>CHP_401</td></tr>\n",
       "</tbody>\n",
       "</table>\n"
      ],
      "text/latex": [
       "A data.frame: 9 x 4\n",
       "\\begin{tabular}{r|llll}\n",
       "  & file\\_list & samplename & size & Patient\\\\\n",
       "  & <chr> & <chr> & <dbl> & <chr>\\\\\n",
       "\\hline\n",
       "\t17 & batch1\\_cfDNA\\_30Jan2020/mixcr/clones/CLONES\\_TRBCHP\\_347-01-cfDNA.txt              & CHP\\_347-01-cfDNA    & 1825 & CHP\\_347\\\\\n",
       "\t37 & batch1\\_cfDNA\\_30Jan2020/mixcr/clones/CLONES\\_TRBCHP\\_377-01-cfDNA.txt              & CHP\\_377-01-cfDNA    &  965 & CHP\\_377\\\\\n",
       "\t307 & batch5\\_cfDNA\\_25Jun2020/mixcr/clones/CLONES\\_TRBCHP\\_366-05\\_cfDNA.txt              & CHP\\_366-05\\_cfDNA    &  744 & CHP\\_366\\\\\n",
       "\t342 & batch7\\_cfDNA\\_29Jun2020/mixcr/clones/CLONES\\_TRBCHP\\_381-05\\_cfDNA.txt              & CHP\\_381-05\\_cfDNA    & 1229 & CHP\\_381\\\\\n",
       "\t350 & batch7\\_cfDNA\\_29Jun2020/mixcr/clones/CLONES\\_TRBCHP\\_391-02\\_cfDNA.txt              & CHP\\_391-02\\_cfDNA    &  811 & CHP\\_391\\\\\n",
       "\t351 & batch7\\_cfDNA\\_29Jun2020/mixcr/clones/CLONES\\_TRBCHP\\_392-01\\_cfDNA.txt              & CHP\\_392-01\\_cfDNA    & 1289 & CHP\\_392\\\\\n",
       "\t359 & batch7\\_cfDNA\\_29Jun2020/mixcr/clones/CLONES\\_TRBCHP\\_398-01\\_cfDNA.txt              & CHP\\_398-01\\_cfDNA    & 2330 & CHP\\_398\\\\\n",
       "\t409 & batchFFPE\\_3Apr2020/mixcr/clones/CLONES\\_TRBCHP\\_419-FFPE-DNA\\_S2.txt               & CHP\\_419-FFPE-DNA\\_S2 &  810 & CHP\\_419\\\\\n",
       "\t1148 & remaining\\_batch\\_2\\_cfDNA\\_15April2021/mixcr/clones/CLONES\\_TRBCHP\\_401-03\\_cfDNA.txt & CHP\\_401-03\\_cfDNA    &  731 & CHP\\_401\\\\\n",
       "\\end{tabular}\n"
      ],
      "text/markdown": [
       "\n",
       "A data.frame: 9 x 4\n",
       "\n",
       "| <!--/--> | file_list &lt;chr&gt; | samplename &lt;chr&gt; | size &lt;dbl&gt; | Patient &lt;chr&gt; |\n",
       "|---|---|---|---|---|\n",
       "| 17 | batch1_cfDNA_30Jan2020/mixcr/clones/CLONES_TRBCHP_347-01-cfDNA.txt              | CHP_347-01-cfDNA    | 1825 | CHP_347 |\n",
       "| 37 | batch1_cfDNA_30Jan2020/mixcr/clones/CLONES_TRBCHP_377-01-cfDNA.txt              | CHP_377-01-cfDNA    |  965 | CHP_377 |\n",
       "| 307 | batch5_cfDNA_25Jun2020/mixcr/clones/CLONES_TRBCHP_366-05_cfDNA.txt              | CHP_366-05_cfDNA    |  744 | CHP_366 |\n",
       "| 342 | batch7_cfDNA_29Jun2020/mixcr/clones/CLONES_TRBCHP_381-05_cfDNA.txt              | CHP_381-05_cfDNA    | 1229 | CHP_381 |\n",
       "| 350 | batch7_cfDNA_29Jun2020/mixcr/clones/CLONES_TRBCHP_391-02_cfDNA.txt              | CHP_391-02_cfDNA    |  811 | CHP_391 |\n",
       "| 351 | batch7_cfDNA_29Jun2020/mixcr/clones/CLONES_TRBCHP_392-01_cfDNA.txt              | CHP_392-01_cfDNA    | 1289 | CHP_392 |\n",
       "| 359 | batch7_cfDNA_29Jun2020/mixcr/clones/CLONES_TRBCHP_398-01_cfDNA.txt              | CHP_398-01_cfDNA    | 2330 | CHP_398 |\n",
       "| 409 | batchFFPE_3Apr2020/mixcr/clones/CLONES_TRBCHP_419-FFPE-DNA_S2.txt               | CHP_419-FFPE-DNA_S2 |  810 | CHP_419 |\n",
       "| 1148 | remaining_batch_2_cfDNA_15April2021/mixcr/clones/CLONES_TRBCHP_401-03_cfDNA.txt | CHP_401-03_cfDNA    |  731 | CHP_401 |\n",
       "\n"
      ],
      "text/plain": [
       "     file_list                                                                      \n",
       "17   batch1_cfDNA_30Jan2020/mixcr/clones/CLONES_TRBCHP_347-01-cfDNA.txt             \n",
       "37   batch1_cfDNA_30Jan2020/mixcr/clones/CLONES_TRBCHP_377-01-cfDNA.txt             \n",
       "307  batch5_cfDNA_25Jun2020/mixcr/clones/CLONES_TRBCHP_366-05_cfDNA.txt             \n",
       "342  batch7_cfDNA_29Jun2020/mixcr/clones/CLONES_TRBCHP_381-05_cfDNA.txt             \n",
       "350  batch7_cfDNA_29Jun2020/mixcr/clones/CLONES_TRBCHP_391-02_cfDNA.txt             \n",
       "351  batch7_cfDNA_29Jun2020/mixcr/clones/CLONES_TRBCHP_392-01_cfDNA.txt             \n",
       "359  batch7_cfDNA_29Jun2020/mixcr/clones/CLONES_TRBCHP_398-01_cfDNA.txt             \n",
       "409  batchFFPE_3Apr2020/mixcr/clones/CLONES_TRBCHP_419-FFPE-DNA_S2.txt              \n",
       "1148 remaining_batch_2_cfDNA_15April2021/mixcr/clones/CLONES_TRBCHP_401-03_cfDNA.txt\n",
       "     samplename          size Patient\n",
       "17   CHP_347-01-cfDNA    1825 CHP_347\n",
       "37   CHP_377-01-cfDNA     965 CHP_377\n",
       "307  CHP_366-05_cfDNA     744 CHP_366\n",
       "342  CHP_381-05_cfDNA    1229 CHP_381\n",
       "350  CHP_391-02_cfDNA     811 CHP_391\n",
       "351  CHP_392-01_cfDNA    1289 CHP_392\n",
       "359  CHP_398-01_cfDNA    2330 CHP_398\n",
       "409  CHP_419-FFPE-DNA_S2  810 CHP_419\n",
       "1148 CHP_401-03_cfDNA     731 CHP_401"
      ]
     },
     "metadata": {},
     "output_type": "display_data"
    }
   ],
   "source": [
    "file_df_dedup_trb[ !file_df_dedup_trb$file_list %in% meta_div$file, ] # 9 files with no productive cdr3s"
   ]
  },
  {
   "attachments": {},
   "cell_type": "markdown",
   "metadata": {},
   "source": [
    "## Only PBMC"
   ]
  },
  {
   "cell_type": "code",
   "execution_count": 20,
   "metadata": {
    "vscode": {
     "languageId": "r"
    }
   },
   "outputs": [],
   "source": [
    "#only PBMC\n",
    "file_df_dedup_trb <- file_df_dedup_trb[ grepl(\"PBMC\", file_df_dedup_trb$samplename), ]"
   ]
  },
  {
   "attachments": {},
   "cell_type": "markdown",
   "metadata": {},
   "source": [
    "## Only 01 and LFS"
   ]
  },
  {
   "cell_type": "code",
   "execution_count": 27,
   "metadata": {
    "vscode": {
     "languageId": "r"
    }
   },
   "outputs": [],
   "source": [
    "lfs <- file_df_dedup_trb[ grepl(\"LFS\", file_df_dedup_trb$samplename), ]\n",
    "file_df_dedup_trb <- file_df_dedup_trb[ grepl(\"-01\", file_df_dedup_trb$samplename), ]"
   ]
  },
  {
   "cell_type": "code",
   "execution_count": 28,
   "metadata": {
    "vscode": {
     "languageId": "r"
    }
   },
   "outputs": [],
   "source": [
    "file_df_dedup_trb <- rbind(file_df_dedup_trb, lfs)"
   ]
  },
  {
   "cell_type": "code",
   "execution_count": 29,
   "metadata": {
    "vscode": {
     "languageId": "r"
    }
   },
   "outputs": [
    {
     "data": {
      "text/html": [
       "<table class=\"dataframe\">\n",
       "<caption>A data.frame: 57 x 4</caption>\n",
       "<thead>\n",
       "\t<tr><th></th><th scope=col>file_list</th><th scope=col>samplename</th><th scope=col>size</th><th scope=col>Patient</th></tr>\n",
       "\t<tr><th></th><th scope=col>&lt;chr&gt;</th><th scope=col>&lt;chr&gt;</th><th scope=col>&lt;dbl&gt;</th><th scope=col>&lt;chr&gt;</th></tr>\n",
       "</thead>\n",
       "<tbody>\n",
       "\t<tr><th scope=row>2</th><td>batch_reseq_24Feb2020/mixcr/clones/CLONES_TRBCHP_350-01-PBMC-DNA.txt        </td><td>CHP_350-01-PBMC-DNA  </td><td> 85631</td><td>CHP_350     </td></tr>\n",
       "\t<tr><th scope=row>7</th><td>batch_reseq_24Feb2020/mixcr/clones/CLONES_TRBCHP_354-01-PBMC-DNA.txt        </td><td>CHP_354-01-PBMC-DNA  </td><td>  3728</td><td>CHP_354     </td></tr>\n",
       "\t<tr><th scope=row>11</th><td>batch_reseq_24Feb2020/mixcr/clones/CLONES_TRBCHP_366-01-PBMC-DNA.txt        </td><td>CHP_366-01-PBMC-DNA  </td><td> 77717</td><td>CHP_366     </td></tr>\n",
       "\t<tr><th scope=row>12</th><td>batch_reseq_24Feb2020/mixcr/clones/CLONES_TRBCHP_367-01-PBMC-DNA.txt        </td><td>CHP_367-01-PBMC-DNA  </td><td> 19649</td><td>CHP_367     </td></tr>\n",
       "\t<tr><th scope=row>13</th><td>batch_reseq_24Feb2020/mixcr/clones/CLONES_TRBCHP_372-01-PBMC-DNA.txt        </td><td>CHP_372-01-PBMC-DNA  </td><td>  1553</td><td>CHP_372     </td></tr>\n",
       "\t<tr><th scope=row>39</th><td>batch1_jul52019/mixcr/clones/CLONES_TRBCHP_346-01-PBMC-DNA.txt              </td><td>CHP_346-01-PBMC-DNA  </td><td> 17729</td><td>CHP_346     </td></tr>\n",
       "\t<tr><th scope=row>42</th><td>batch1_jul52019/mixcr/clones/CLONES_TRBCHP_349-01-PBMC-DNA.txt              </td><td>CHP_349-01-PBMC-DNA  </td><td>  7801</td><td>CHP_349     </td></tr>\n",
       "\t<tr><th scope=row>50</th><td>batch1_jul52019/mixcr/clones/CLONES_TRBCHP_352-01-PBMC-DNA.txt              </td><td>CHP_352-01-PBMC-DNA  </td><td> 13371</td><td>CHP_352     </td></tr>\n",
       "\t<tr><th scope=row>100</th><td>batch11_23Apr2020/mixcr/clones/CLONES_TRBCHP_404-01_PBMC_DNA.txt            </td><td>CHP_404-01_PBMC_DNA  </td><td>189279</td><td>CHP_404     </td></tr>\n",
       "\t<tr><th scope=row>102</th><td>batch11_23Apr2020/mixcr/clones/CLONES_TRBCHP_405-01_PBMC_DNA.txt            </td><td>CHP_405-01_PBMC_DNA  </td><td> 39306</td><td>CHP_405     </td></tr>\n",
       "\t<tr><th scope=row>105</th><td>batch11_23Apr2020/mixcr/clones/CLONES_TRBCHP_409-01_PBMC_DNA.txt            </td><td>CHP_409-01_PBMC_DNA  </td><td> 82609</td><td>CHP_409     </td></tr>\n",
       "\t<tr><th scope=row>139</th><td>batch12_30Apr2021/mixcr/clones/CLONES_TRBCHP_408-01_PBMC-DNA.txt            </td><td>CHP_408-01_PBMC-DNA  </td><td>  9260</td><td>CHP_408     </td></tr>\n",
       "\t<tr><th scope=row>143</th><td>batch12_30Apr2021/mixcr/clones/CLONES_TRBCHP_410-01_PBMC-DNA.txt            </td><td>CHP_410-01_PBMC-DNA  </td><td>107786</td><td>CHP_410     </td></tr>\n",
       "\t<tr><th scope=row>145</th><td>batch12_30Apr2021/mixcr/clones/CLONES_TRBCHP_412-01_PBMC-DNA.txt            </td><td>CHP_412-01_PBMC-DNA  </td><td> 32041</td><td>CHP_412     </td></tr>\n",
       "\t<tr><th scope=row>146</th><td>batch12_30Apr2021/mixcr/clones/CLONES_TRBCHP_413-01_PBMC-DNA.txt            </td><td>CHP_413-01_PBMC-DNA  </td><td> 23850</td><td>CHP_413     </td></tr>\n",
       "\t<tr><th scope=row>147</th><td>batch12_30Apr2021/mixcr/clones/CLONES_TRBCHP_417-01_PBMC-DNA.txt            </td><td>CHP_417-01_PBMC-DNA  </td><td> 57637</td><td>CHP_417     </td></tr>\n",
       "\t<tr><th scope=row>164</th><td>batch13_26Aug2020/mixcr/clones/CLONES_TRBCHP_411-01-PBMC-DNA.txt            </td><td>CHP_411-01-PBMC-DNA  </td><td>204568</td><td>CHP_411     </td></tr>\n",
       "\t<tr><th scope=row>168</th><td>batch13_26Aug2020/mixcr/clones/CLONES_TRBCHP_415-01-PBMC-DNA.txt            </td><td>CHP_415-01-PBMC-DNA  </td><td> 59247</td><td>CHP_415     </td></tr>\n",
       "\t<tr><th scope=row>169</th><td>batch13_26Aug2020/mixcr/clones/CLONES_TRBCHP_416-01-PBMC-DNA.txt            </td><td>CHP_416-01-PBMC-DNA  </td><td>273394</td><td>CHP_416     </td></tr>\n",
       "\t<tr><th scope=row>170</th><td>batch13_26Aug2020/mixcr/clones/CLONES_TRBCHP_418-01-PBMC-DNA.txt            </td><td>CHP_418-01-PBMC-DNA  </td><td> 72960</td><td>CHP_418     </td></tr>\n",
       "\t<tr><th scope=row>171</th><td>batch13_26Aug2020/mixcr/clones/CLONES_TRBCHP_422-01_-PBMC-DN.txt            </td><td>CHP_422-01_-PBMC-DN  </td><td>157965</td><td>CHP_422     </td></tr>\n",
       "\t<tr><th scope=row>208</th><td>batch2_Aug62019/mixcr/clones/CLONES_TRBCHP_348-01-PBMC-DNA.txt              </td><td>CHP_348-01-PBMC-DNA  </td><td> 41323</td><td>CHP_348     </td></tr>\n",
       "\t<tr><th scope=row>233</th><td>batch3_19Aug2019/mixcr/clones/CLONES_TRBCHP_373-01-PBMC-DNA.txt             </td><td>CHP_373-01-PBMC-DNA  </td><td>162463</td><td>CHP_373     </td></tr>\n",
       "\t<tr><th scope=row>238</th><td>batch3_19Aug2019/mixcr/clones/CLONES_TRBCHP_378-01-PBMC-DNA.txt             </td><td>CHP_378-01-PBMC-DNA  </td><td>334304</td><td>CHP_378     </td></tr>\n",
       "\t<tr><th scope=row>272</th><td>batch4_19Aug2019/mixcr/clones/CLONES_TRBCHP_347-01-PBMC-DNA.txt             </td><td>CHP_347-01-PBMC-DNA  </td><td> 88287</td><td>CHP_347     </td></tr>\n",
       "\t<tr><th scope=row>274</th><td>batch4_19Aug2019/mixcr/clones/CLONES_TRBCHP_355-01-PBMC-DNA.txt             </td><td>CHP_355-01-PBMC-DNA  </td><td>  7839</td><td>CHP_355     </td></tr>\n",
       "\t<tr><th scope=row>276</th><td>batch4_19Aug2019/mixcr/clones/CLONES_TRBCHP_357-01-PBMC-DNA.txt             </td><td>CHP_357-01-PBMC-DNA  </td><td>190088</td><td>CHP_357     </td></tr>\n",
       "\t<tr><th scope=row>278</th><td>batch4_19Aug2019/mixcr/clones/CLONES_TRBCHP_361-01-PBMC-DNA.txt             </td><td>CHP_361-01-PBMC-DNA  </td><td> 62550</td><td>CHP_361     </td></tr>\n",
       "\t<tr><th scope=row>281</th><td>batch4_19Aug2019/mixcr/clones/CLONES_TRBCHP_364-01-PBMC-DNA.txt             </td><td>CHP_364-01-PBMC-DNA  </td><td> 63025</td><td>CHP_364     </td></tr>\n",
       "\t<tr><th scope=row>324</th><td>batch7_25Oct2019/mixcr/clones/CLONES_TRBCHP_353-01-PBMC-DNA.txt             </td><td>CHP_353-01-PBMC-DNA  </td><td>106813</td><td>CHP_353     </td></tr>\n",
       "\t<tr><th scope=row>331</th><td>batch7_25Oct2019/mixcr/clones/CLONES_TRBCHP_362-01-PBMC-DNA.txt             </td><td>CHP_362-01-PBMC-DNA  </td><td> 74075</td><td>CHP_362     </td></tr>\n",
       "\t<tr><th scope=row>334</th><td>batch7_25Oct2019/mixcr/clones/CLONES_TRBCHP_368-01-PBMC-DNA.txt             </td><td>CHP_368-01-PBMC-DNA  </td><td>129710</td><td>CHP_368     </td></tr>\n",
       "\t<tr><th scope=row>336</th><td>batch7_25Oct2019/mixcr/clones/CLONES_TRBCHP_370-01-PBMC-DNA.txt             </td><td>CHP_370-01-PBMC-DNA  </td><td>  7645</td><td>CHP_370     </td></tr>\n",
       "\t<tr><th scope=row>382</th><td>batch8_14Jan2020/mixcr/clones/CLONES_TRBCHP_387-01-PBMC-DNA.txt             </td><td>CHP_387-01-PBMC-DNA  </td><td>146388</td><td>CHP_387     </td></tr>\n",
       "\t<tr><th scope=row>383</th><td>batch8_14Jan2020/mixcr/clones/CLONES_TRBCHP_394-01-PBMC-DNA.txt             </td><td>CHP_394-01-PBMC-DNA  </td><td>   749</td><td>CHP_394     </td></tr>\n",
       "\t<tr><th scope=row>385</th><td>batch8_14Jan2020/mixcr/clones/CLONES_TRBCHP_396-01-PBMC-DNA.txt             </td><td>CHP_396-01-PBMC-DNA  </td><td>172903</td><td>CHP_396     </td></tr>\n",
       "\t<tr><th scope=row>387</th><td>batch8_14Jan2020/mixcr/clones/CLONES_TRBCHP_397-01-PBMC-DNA.txt             </td><td>CHP_397-01-PBMC-DNA  </td><td>100489</td><td>CHP_397     </td></tr>\n",
       "\t<tr><th scope=row>388</th><td>batch8_14Jan2020/mixcr/clones/CLONES_TRBCHP_399-01-PBMC-DNA.txt             </td><td>CHP_399-01-PBMC-DNA  </td><td> 17144</td><td>CHP_399     </td></tr>\n",
       "\t<tr><th scope=row>1091</th><td>remaining_batch_1_20April2021/mixcr/clones/CLONES_TRBCHP_377-01_PBMC-DNA.txt</td><td>CHP_377-01_PBMC-DNA  </td><td>112960</td><td>CHP_377     </td></tr>\n",
       "\t<tr><th scope=row>1098</th><td>remaining_batch_1_20April2021/mixcr/clones/CLONES_TRBCHP_401-01_PBMC-DNA.txt</td><td>CHP_401-01_PBMC-DNA  </td><td> 68867</td><td>CHP_401     </td></tr>\n",
       "\t<tr><th scope=row>1118</th><td>remaining_batch_2_22April2021/mixcr/clones/CLONES_TRBCHP_363-01_PBMC-DNA.txt</td><td>CHP_363-01_PBMC-DNA  </td><td>429197</td><td>CHP_363     </td></tr>\n",
       "\t<tr><th scope=row>1119</th><td>remaining_batch_2_22April2021/mixcr/clones/CLONES_TRBCHP_365-01_PBMC-DNA.txt</td><td>CHP_365-01_PBMC-DNA  </td><td>247129</td><td>CHP_365     </td></tr>\n",
       "\t<tr><th scope=row>1123</th><td>remaining_batch_2_22April2021/mixcr/clones/CLONES_TRBCHP_371-01_PBMC-DNA.txt</td><td>CHP_371-01_PBMC-DNA  </td><td>314086</td><td>CHP_371     </td></tr>\n",
       "\t<tr><th scope=row>1127</th><td>remaining_batch_2_22April2021/mixcr/clones/CLONES_TRBCHP_381-01_PBMC-DNA.txt</td><td>CHP_381-01_PBMC-DNA  </td><td>381572</td><td>CHP_381     </td></tr>\n",
       "\t<tr><th scope=row>1156</th><td>remaining_batch_3_4May2021/mixcr/clones/CLONES_TRBCHP_414-01_PBMC-DNA.txt   </td><td>CHP_414-01_PBMC-DNA  </td><td>  8756</td><td>CHP_414     </td></tr>\n",
       "\t<tr><th scope=row>1162</th><td>remaining_batch_3_4May2021/mixcr/clones/CLONES_TRBCHP_420-01_PBMC-DNA.txt   </td><td>CHP_420-01_PBMC-DNA  </td><td>342671</td><td>CHP_420     </td></tr>\n",
       "\t<tr><th scope=row>1183</th><td>remaining_batch_4_28June2021/mixcr/clones/CLONES_TRBCHP-369-01-PBMC-DNA.txt </td><td>CHP-369-01-PBMC-DNA  </td><td>397379</td><td>CHP_369     </td></tr>\n",
       "\t<tr><th scope=row>210</th><td>batch2_Aug62019/mixcr/clones/CLONES_TRBLFS_TCR-4535-PBMC-DNA.txt            </td><td>LFS_TCR-4535-PBMC-DNA</td><td> 72862</td><td>LFS_TCR_4535</td></tr>\n",
       "\t<tr><th scope=row>211</th><td>batch2_Aug62019/mixcr/clones/CLONES_TRBLFS_TCR-4570-PBMC-DNA.txt            </td><td>LFS_TCR-4570-PBMC-DNA</td><td> 83028</td><td>LFS_TCR_4570</td></tr>\n",
       "\t<tr><th scope=row>212</th><td>batch2_Aug62019/mixcr/clones/CLONES_TRBLFS_TCR-4602-PBMC-DNA.txt            </td><td>LFS_TCR-4602-PBMC-DNA</td><td> 82122</td><td>LFS_TCR_4602</td></tr>\n",
       "\t<tr><th scope=row>213</th><td>batch2_Aug62019/mixcr/clones/CLONES_TRBLFS_TCR-4758-PBMC-DNA.txt            </td><td>LFS_TCR-4758-PBMC-DNA</td><td>110069</td><td>LFS_TCR_4758</td></tr>\n",
       "\t<tr><th scope=row>214</th><td>batch2_Aug62019/mixcr/clones/CLONES_TRBLFS_TCR-4759-PBMC-DNA.txt            </td><td>LFS_TCR-4759-PBMC-DNA</td><td> 79260</td><td>LFS_TCR_4759</td></tr>\n",
       "\t<tr><th scope=row>215</th><td>batch2_Aug62019/mixcr/clones/CLONES_TRBLFS_TCR-4783-PBMC-DNA.txt            </td><td>LFS_TCR-4783-PBMC-DNA</td><td> 31046</td><td>LFS_TCR_4783</td></tr>\n",
       "\t<tr><th scope=row>216</th><td>batch2_Aug62019/mixcr/clones/CLONES_TRBLFS_TCR-4837-PBMC-DNA.txt            </td><td>LFS_TCR-4837-PBMC-DNA</td><td> 92461</td><td>LFS_TCR_4837</td></tr>\n",
       "\t<tr><th scope=row>217</th><td>batch2_Aug62019/mixcr/clones/CLONES_TRBLFS_TCR-4838-PBMC-DNA.txt            </td><td>LFS_TCR-4838-PBMC-DNA</td><td> 64321</td><td>LFS_TCR_4838</td></tr>\n",
       "\t<tr><th scope=row>218</th><td>batch2_Aug62019/mixcr/clones/CLONES_TRBLFS_TCR-5014-PBMC-DNA.txt            </td><td>LFS_TCR-5014-PBMC-DNA</td><td> 70230</td><td>LFS_TCR_5014</td></tr>\n",
       "\t<tr><th scope=row>219</th><td>batch2_Aug62019/mixcr/clones/CLONES_TRBLFS_TCR-5067-PBMC-DNA.txt            </td><td>LFS_TCR-5067-PBMC-DNA</td><td> 95722</td><td>LFS_TCR_5067</td></tr>\n",
       "</tbody>\n",
       "</table>\n"
      ],
      "text/latex": [
       "A data.frame: 57 x 4\n",
       "\\begin{tabular}{r|llll}\n",
       "  & file\\_list & samplename & size & Patient\\\\\n",
       "  & <chr> & <chr> & <dbl> & <chr>\\\\\n",
       "\\hline\n",
       "\t2 & batch\\_reseq\\_24Feb2020/mixcr/clones/CLONES\\_TRBCHP\\_350-01-PBMC-DNA.txt         & CHP\\_350-01-PBMC-DNA   &  85631 & CHP\\_350     \\\\\n",
       "\t7 & batch\\_reseq\\_24Feb2020/mixcr/clones/CLONES\\_TRBCHP\\_354-01-PBMC-DNA.txt         & CHP\\_354-01-PBMC-DNA   &   3728 & CHP\\_354     \\\\\n",
       "\t11 & batch\\_reseq\\_24Feb2020/mixcr/clones/CLONES\\_TRBCHP\\_366-01-PBMC-DNA.txt         & CHP\\_366-01-PBMC-DNA   &  77717 & CHP\\_366     \\\\\n",
       "\t12 & batch\\_reseq\\_24Feb2020/mixcr/clones/CLONES\\_TRBCHP\\_367-01-PBMC-DNA.txt         & CHP\\_367-01-PBMC-DNA   &  19649 & CHP\\_367     \\\\\n",
       "\t13 & batch\\_reseq\\_24Feb2020/mixcr/clones/CLONES\\_TRBCHP\\_372-01-PBMC-DNA.txt         & CHP\\_372-01-PBMC-DNA   &   1553 & CHP\\_372     \\\\\n",
       "\t39 & batch1\\_jul52019/mixcr/clones/CLONES\\_TRBCHP\\_346-01-PBMC-DNA.txt               & CHP\\_346-01-PBMC-DNA   &  17729 & CHP\\_346     \\\\\n",
       "\t42 & batch1\\_jul52019/mixcr/clones/CLONES\\_TRBCHP\\_349-01-PBMC-DNA.txt               & CHP\\_349-01-PBMC-DNA   &   7801 & CHP\\_349     \\\\\n",
       "\t50 & batch1\\_jul52019/mixcr/clones/CLONES\\_TRBCHP\\_352-01-PBMC-DNA.txt               & CHP\\_352-01-PBMC-DNA   &  13371 & CHP\\_352     \\\\\n",
       "\t100 & batch11\\_23Apr2020/mixcr/clones/CLONES\\_TRBCHP\\_404-01\\_PBMC\\_DNA.txt             & CHP\\_404-01\\_PBMC\\_DNA   & 189279 & CHP\\_404     \\\\\n",
       "\t102 & batch11\\_23Apr2020/mixcr/clones/CLONES\\_TRBCHP\\_405-01\\_PBMC\\_DNA.txt             & CHP\\_405-01\\_PBMC\\_DNA   &  39306 & CHP\\_405     \\\\\n",
       "\t105 & batch11\\_23Apr2020/mixcr/clones/CLONES\\_TRBCHP\\_409-01\\_PBMC\\_DNA.txt             & CHP\\_409-01\\_PBMC\\_DNA   &  82609 & CHP\\_409     \\\\\n",
       "\t139 & batch12\\_30Apr2021/mixcr/clones/CLONES\\_TRBCHP\\_408-01\\_PBMC-DNA.txt             & CHP\\_408-01\\_PBMC-DNA   &   9260 & CHP\\_408     \\\\\n",
       "\t143 & batch12\\_30Apr2021/mixcr/clones/CLONES\\_TRBCHP\\_410-01\\_PBMC-DNA.txt             & CHP\\_410-01\\_PBMC-DNA   & 107786 & CHP\\_410     \\\\\n",
       "\t145 & batch12\\_30Apr2021/mixcr/clones/CLONES\\_TRBCHP\\_412-01\\_PBMC-DNA.txt             & CHP\\_412-01\\_PBMC-DNA   &  32041 & CHP\\_412     \\\\\n",
       "\t146 & batch12\\_30Apr2021/mixcr/clones/CLONES\\_TRBCHP\\_413-01\\_PBMC-DNA.txt             & CHP\\_413-01\\_PBMC-DNA   &  23850 & CHP\\_413     \\\\\n",
       "\t147 & batch12\\_30Apr2021/mixcr/clones/CLONES\\_TRBCHP\\_417-01\\_PBMC-DNA.txt             & CHP\\_417-01\\_PBMC-DNA   &  57637 & CHP\\_417     \\\\\n",
       "\t164 & batch13\\_26Aug2020/mixcr/clones/CLONES\\_TRBCHP\\_411-01-PBMC-DNA.txt             & CHP\\_411-01-PBMC-DNA   & 204568 & CHP\\_411     \\\\\n",
       "\t168 & batch13\\_26Aug2020/mixcr/clones/CLONES\\_TRBCHP\\_415-01-PBMC-DNA.txt             & CHP\\_415-01-PBMC-DNA   &  59247 & CHP\\_415     \\\\\n",
       "\t169 & batch13\\_26Aug2020/mixcr/clones/CLONES\\_TRBCHP\\_416-01-PBMC-DNA.txt             & CHP\\_416-01-PBMC-DNA   & 273394 & CHP\\_416     \\\\\n",
       "\t170 & batch13\\_26Aug2020/mixcr/clones/CLONES\\_TRBCHP\\_418-01-PBMC-DNA.txt             & CHP\\_418-01-PBMC-DNA   &  72960 & CHP\\_418     \\\\\n",
       "\t171 & batch13\\_26Aug2020/mixcr/clones/CLONES\\_TRBCHP\\_422-01\\_-PBMC-DN.txt             & CHP\\_422-01\\_-PBMC-DN   & 157965 & CHP\\_422     \\\\\n",
       "\t208 & batch2\\_Aug62019/mixcr/clones/CLONES\\_TRBCHP\\_348-01-PBMC-DNA.txt               & CHP\\_348-01-PBMC-DNA   &  41323 & CHP\\_348     \\\\\n",
       "\t233 & batch3\\_19Aug2019/mixcr/clones/CLONES\\_TRBCHP\\_373-01-PBMC-DNA.txt              & CHP\\_373-01-PBMC-DNA   & 162463 & CHP\\_373     \\\\\n",
       "\t238 & batch3\\_19Aug2019/mixcr/clones/CLONES\\_TRBCHP\\_378-01-PBMC-DNA.txt              & CHP\\_378-01-PBMC-DNA   & 334304 & CHP\\_378     \\\\\n",
       "\t272 & batch4\\_19Aug2019/mixcr/clones/CLONES\\_TRBCHP\\_347-01-PBMC-DNA.txt              & CHP\\_347-01-PBMC-DNA   &  88287 & CHP\\_347     \\\\\n",
       "\t274 & batch4\\_19Aug2019/mixcr/clones/CLONES\\_TRBCHP\\_355-01-PBMC-DNA.txt              & CHP\\_355-01-PBMC-DNA   &   7839 & CHP\\_355     \\\\\n",
       "\t276 & batch4\\_19Aug2019/mixcr/clones/CLONES\\_TRBCHP\\_357-01-PBMC-DNA.txt              & CHP\\_357-01-PBMC-DNA   & 190088 & CHP\\_357     \\\\\n",
       "\t278 & batch4\\_19Aug2019/mixcr/clones/CLONES\\_TRBCHP\\_361-01-PBMC-DNA.txt              & CHP\\_361-01-PBMC-DNA   &  62550 & CHP\\_361     \\\\\n",
       "\t281 & batch4\\_19Aug2019/mixcr/clones/CLONES\\_TRBCHP\\_364-01-PBMC-DNA.txt              & CHP\\_364-01-PBMC-DNA   &  63025 & CHP\\_364     \\\\\n",
       "\t324 & batch7\\_25Oct2019/mixcr/clones/CLONES\\_TRBCHP\\_353-01-PBMC-DNA.txt              & CHP\\_353-01-PBMC-DNA   & 106813 & CHP\\_353     \\\\\n",
       "\t331 & batch7\\_25Oct2019/mixcr/clones/CLONES\\_TRBCHP\\_362-01-PBMC-DNA.txt              & CHP\\_362-01-PBMC-DNA   &  74075 & CHP\\_362     \\\\\n",
       "\t334 & batch7\\_25Oct2019/mixcr/clones/CLONES\\_TRBCHP\\_368-01-PBMC-DNA.txt              & CHP\\_368-01-PBMC-DNA   & 129710 & CHP\\_368     \\\\\n",
       "\t336 & batch7\\_25Oct2019/mixcr/clones/CLONES\\_TRBCHP\\_370-01-PBMC-DNA.txt              & CHP\\_370-01-PBMC-DNA   &   7645 & CHP\\_370     \\\\\n",
       "\t382 & batch8\\_14Jan2020/mixcr/clones/CLONES\\_TRBCHP\\_387-01-PBMC-DNA.txt              & CHP\\_387-01-PBMC-DNA   & 146388 & CHP\\_387     \\\\\n",
       "\t383 & batch8\\_14Jan2020/mixcr/clones/CLONES\\_TRBCHP\\_394-01-PBMC-DNA.txt              & CHP\\_394-01-PBMC-DNA   &    749 & CHP\\_394     \\\\\n",
       "\t385 & batch8\\_14Jan2020/mixcr/clones/CLONES\\_TRBCHP\\_396-01-PBMC-DNA.txt              & CHP\\_396-01-PBMC-DNA   & 172903 & CHP\\_396     \\\\\n",
       "\t387 & batch8\\_14Jan2020/mixcr/clones/CLONES\\_TRBCHP\\_397-01-PBMC-DNA.txt              & CHP\\_397-01-PBMC-DNA   & 100489 & CHP\\_397     \\\\\n",
       "\t388 & batch8\\_14Jan2020/mixcr/clones/CLONES\\_TRBCHP\\_399-01-PBMC-DNA.txt              & CHP\\_399-01-PBMC-DNA   &  17144 & CHP\\_399     \\\\\n",
       "\t1091 & remaining\\_batch\\_1\\_20April2021/mixcr/clones/CLONES\\_TRBCHP\\_377-01\\_PBMC-DNA.txt & CHP\\_377-01\\_PBMC-DNA   & 112960 & CHP\\_377     \\\\\n",
       "\t1098 & remaining\\_batch\\_1\\_20April2021/mixcr/clones/CLONES\\_TRBCHP\\_401-01\\_PBMC-DNA.txt & CHP\\_401-01\\_PBMC-DNA   &  68867 & CHP\\_401     \\\\\n",
       "\t1118 & remaining\\_batch\\_2\\_22April2021/mixcr/clones/CLONES\\_TRBCHP\\_363-01\\_PBMC-DNA.txt & CHP\\_363-01\\_PBMC-DNA   & 429197 & CHP\\_363     \\\\\n",
       "\t1119 & remaining\\_batch\\_2\\_22April2021/mixcr/clones/CLONES\\_TRBCHP\\_365-01\\_PBMC-DNA.txt & CHP\\_365-01\\_PBMC-DNA   & 247129 & CHP\\_365     \\\\\n",
       "\t1123 & remaining\\_batch\\_2\\_22April2021/mixcr/clones/CLONES\\_TRBCHP\\_371-01\\_PBMC-DNA.txt & CHP\\_371-01\\_PBMC-DNA   & 314086 & CHP\\_371     \\\\\n",
       "\t1127 & remaining\\_batch\\_2\\_22April2021/mixcr/clones/CLONES\\_TRBCHP\\_381-01\\_PBMC-DNA.txt & CHP\\_381-01\\_PBMC-DNA   & 381572 & CHP\\_381     \\\\\n",
       "\t1156 & remaining\\_batch\\_3\\_4May2021/mixcr/clones/CLONES\\_TRBCHP\\_414-01\\_PBMC-DNA.txt    & CHP\\_414-01\\_PBMC-DNA   &   8756 & CHP\\_414     \\\\\n",
       "\t1162 & remaining\\_batch\\_3\\_4May2021/mixcr/clones/CLONES\\_TRBCHP\\_420-01\\_PBMC-DNA.txt    & CHP\\_420-01\\_PBMC-DNA   & 342671 & CHP\\_420     \\\\\n",
       "\t1183 & remaining\\_batch\\_4\\_28June2021/mixcr/clones/CLONES\\_TRBCHP-369-01-PBMC-DNA.txt  & CHP-369-01-PBMC-DNA   & 397379 & CHP\\_369     \\\\\n",
       "\t210 & batch2\\_Aug62019/mixcr/clones/CLONES\\_TRBLFS\\_TCR-4535-PBMC-DNA.txt             & LFS\\_TCR-4535-PBMC-DNA &  72862 & LFS\\_TCR\\_4535\\\\\n",
       "\t211 & batch2\\_Aug62019/mixcr/clones/CLONES\\_TRBLFS\\_TCR-4570-PBMC-DNA.txt             & LFS\\_TCR-4570-PBMC-DNA &  83028 & LFS\\_TCR\\_4570\\\\\n",
       "\t212 & batch2\\_Aug62019/mixcr/clones/CLONES\\_TRBLFS\\_TCR-4602-PBMC-DNA.txt             & LFS\\_TCR-4602-PBMC-DNA &  82122 & LFS\\_TCR\\_4602\\\\\n",
       "\t213 & batch2\\_Aug62019/mixcr/clones/CLONES\\_TRBLFS\\_TCR-4758-PBMC-DNA.txt             & LFS\\_TCR-4758-PBMC-DNA & 110069 & LFS\\_TCR\\_4758\\\\\n",
       "\t214 & batch2\\_Aug62019/mixcr/clones/CLONES\\_TRBLFS\\_TCR-4759-PBMC-DNA.txt             & LFS\\_TCR-4759-PBMC-DNA &  79260 & LFS\\_TCR\\_4759\\\\\n",
       "\t215 & batch2\\_Aug62019/mixcr/clones/CLONES\\_TRBLFS\\_TCR-4783-PBMC-DNA.txt             & LFS\\_TCR-4783-PBMC-DNA &  31046 & LFS\\_TCR\\_4783\\\\\n",
       "\t216 & batch2\\_Aug62019/mixcr/clones/CLONES\\_TRBLFS\\_TCR-4837-PBMC-DNA.txt             & LFS\\_TCR-4837-PBMC-DNA &  92461 & LFS\\_TCR\\_4837\\\\\n",
       "\t217 & batch2\\_Aug62019/mixcr/clones/CLONES\\_TRBLFS\\_TCR-4838-PBMC-DNA.txt             & LFS\\_TCR-4838-PBMC-DNA &  64321 & LFS\\_TCR\\_4838\\\\\n",
       "\t218 & batch2\\_Aug62019/mixcr/clones/CLONES\\_TRBLFS\\_TCR-5014-PBMC-DNA.txt             & LFS\\_TCR-5014-PBMC-DNA &  70230 & LFS\\_TCR\\_5014\\\\\n",
       "\t219 & batch2\\_Aug62019/mixcr/clones/CLONES\\_TRBLFS\\_TCR-5067-PBMC-DNA.txt             & LFS\\_TCR-5067-PBMC-DNA &  95722 & LFS\\_TCR\\_5067\\\\\n",
       "\\end{tabular}\n"
      ],
      "text/markdown": [
       "\n",
       "A data.frame: 57 x 4\n",
       "\n",
       "| <!--/--> | file_list &lt;chr&gt; | samplename &lt;chr&gt; | size &lt;dbl&gt; | Patient &lt;chr&gt; |\n",
       "|---|---|---|---|---|\n",
       "| 2 | batch_reseq_24Feb2020/mixcr/clones/CLONES_TRBCHP_350-01-PBMC-DNA.txt         | CHP_350-01-PBMC-DNA   |  85631 | CHP_350      |\n",
       "| 7 | batch_reseq_24Feb2020/mixcr/clones/CLONES_TRBCHP_354-01-PBMC-DNA.txt         | CHP_354-01-PBMC-DNA   |   3728 | CHP_354      |\n",
       "| 11 | batch_reseq_24Feb2020/mixcr/clones/CLONES_TRBCHP_366-01-PBMC-DNA.txt         | CHP_366-01-PBMC-DNA   |  77717 | CHP_366      |\n",
       "| 12 | batch_reseq_24Feb2020/mixcr/clones/CLONES_TRBCHP_367-01-PBMC-DNA.txt         | CHP_367-01-PBMC-DNA   |  19649 | CHP_367      |\n",
       "| 13 | batch_reseq_24Feb2020/mixcr/clones/CLONES_TRBCHP_372-01-PBMC-DNA.txt         | CHP_372-01-PBMC-DNA   |   1553 | CHP_372      |\n",
       "| 39 | batch1_jul52019/mixcr/clones/CLONES_TRBCHP_346-01-PBMC-DNA.txt               | CHP_346-01-PBMC-DNA   |  17729 | CHP_346      |\n",
       "| 42 | batch1_jul52019/mixcr/clones/CLONES_TRBCHP_349-01-PBMC-DNA.txt               | CHP_349-01-PBMC-DNA   |   7801 | CHP_349      |\n",
       "| 50 | batch1_jul52019/mixcr/clones/CLONES_TRBCHP_352-01-PBMC-DNA.txt               | CHP_352-01-PBMC-DNA   |  13371 | CHP_352      |\n",
       "| 100 | batch11_23Apr2020/mixcr/clones/CLONES_TRBCHP_404-01_PBMC_DNA.txt             | CHP_404-01_PBMC_DNA   | 189279 | CHP_404      |\n",
       "| 102 | batch11_23Apr2020/mixcr/clones/CLONES_TRBCHP_405-01_PBMC_DNA.txt             | CHP_405-01_PBMC_DNA   |  39306 | CHP_405      |\n",
       "| 105 | batch11_23Apr2020/mixcr/clones/CLONES_TRBCHP_409-01_PBMC_DNA.txt             | CHP_409-01_PBMC_DNA   |  82609 | CHP_409      |\n",
       "| 139 | batch12_30Apr2021/mixcr/clones/CLONES_TRBCHP_408-01_PBMC-DNA.txt             | CHP_408-01_PBMC-DNA   |   9260 | CHP_408      |\n",
       "| 143 | batch12_30Apr2021/mixcr/clones/CLONES_TRBCHP_410-01_PBMC-DNA.txt             | CHP_410-01_PBMC-DNA   | 107786 | CHP_410      |\n",
       "| 145 | batch12_30Apr2021/mixcr/clones/CLONES_TRBCHP_412-01_PBMC-DNA.txt             | CHP_412-01_PBMC-DNA   |  32041 | CHP_412      |\n",
       "| 146 | batch12_30Apr2021/mixcr/clones/CLONES_TRBCHP_413-01_PBMC-DNA.txt             | CHP_413-01_PBMC-DNA   |  23850 | CHP_413      |\n",
       "| 147 | batch12_30Apr2021/mixcr/clones/CLONES_TRBCHP_417-01_PBMC-DNA.txt             | CHP_417-01_PBMC-DNA   |  57637 | CHP_417      |\n",
       "| 164 | batch13_26Aug2020/mixcr/clones/CLONES_TRBCHP_411-01-PBMC-DNA.txt             | CHP_411-01-PBMC-DNA   | 204568 | CHP_411      |\n",
       "| 168 | batch13_26Aug2020/mixcr/clones/CLONES_TRBCHP_415-01-PBMC-DNA.txt             | CHP_415-01-PBMC-DNA   |  59247 | CHP_415      |\n",
       "| 169 | batch13_26Aug2020/mixcr/clones/CLONES_TRBCHP_416-01-PBMC-DNA.txt             | CHP_416-01-PBMC-DNA   | 273394 | CHP_416      |\n",
       "| 170 | batch13_26Aug2020/mixcr/clones/CLONES_TRBCHP_418-01-PBMC-DNA.txt             | CHP_418-01-PBMC-DNA   |  72960 | CHP_418      |\n",
       "| 171 | batch13_26Aug2020/mixcr/clones/CLONES_TRBCHP_422-01_-PBMC-DN.txt             | CHP_422-01_-PBMC-DN   | 157965 | CHP_422      |\n",
       "| 208 | batch2_Aug62019/mixcr/clones/CLONES_TRBCHP_348-01-PBMC-DNA.txt               | CHP_348-01-PBMC-DNA   |  41323 | CHP_348      |\n",
       "| 233 | batch3_19Aug2019/mixcr/clones/CLONES_TRBCHP_373-01-PBMC-DNA.txt              | CHP_373-01-PBMC-DNA   | 162463 | CHP_373      |\n",
       "| 238 | batch3_19Aug2019/mixcr/clones/CLONES_TRBCHP_378-01-PBMC-DNA.txt              | CHP_378-01-PBMC-DNA   | 334304 | CHP_378      |\n",
       "| 272 | batch4_19Aug2019/mixcr/clones/CLONES_TRBCHP_347-01-PBMC-DNA.txt              | CHP_347-01-PBMC-DNA   |  88287 | CHP_347      |\n",
       "| 274 | batch4_19Aug2019/mixcr/clones/CLONES_TRBCHP_355-01-PBMC-DNA.txt              | CHP_355-01-PBMC-DNA   |   7839 | CHP_355      |\n",
       "| 276 | batch4_19Aug2019/mixcr/clones/CLONES_TRBCHP_357-01-PBMC-DNA.txt              | CHP_357-01-PBMC-DNA   | 190088 | CHP_357      |\n",
       "| 278 | batch4_19Aug2019/mixcr/clones/CLONES_TRBCHP_361-01-PBMC-DNA.txt              | CHP_361-01-PBMC-DNA   |  62550 | CHP_361      |\n",
       "| 281 | batch4_19Aug2019/mixcr/clones/CLONES_TRBCHP_364-01-PBMC-DNA.txt              | CHP_364-01-PBMC-DNA   |  63025 | CHP_364      |\n",
       "| 324 | batch7_25Oct2019/mixcr/clones/CLONES_TRBCHP_353-01-PBMC-DNA.txt              | CHP_353-01-PBMC-DNA   | 106813 | CHP_353      |\n",
       "| 331 | batch7_25Oct2019/mixcr/clones/CLONES_TRBCHP_362-01-PBMC-DNA.txt              | CHP_362-01-PBMC-DNA   |  74075 | CHP_362      |\n",
       "| 334 | batch7_25Oct2019/mixcr/clones/CLONES_TRBCHP_368-01-PBMC-DNA.txt              | CHP_368-01-PBMC-DNA   | 129710 | CHP_368      |\n",
       "| 336 | batch7_25Oct2019/mixcr/clones/CLONES_TRBCHP_370-01-PBMC-DNA.txt              | CHP_370-01-PBMC-DNA   |   7645 | CHP_370      |\n",
       "| 382 | batch8_14Jan2020/mixcr/clones/CLONES_TRBCHP_387-01-PBMC-DNA.txt              | CHP_387-01-PBMC-DNA   | 146388 | CHP_387      |\n",
       "| 383 | batch8_14Jan2020/mixcr/clones/CLONES_TRBCHP_394-01-PBMC-DNA.txt              | CHP_394-01-PBMC-DNA   |    749 | CHP_394      |\n",
       "| 385 | batch8_14Jan2020/mixcr/clones/CLONES_TRBCHP_396-01-PBMC-DNA.txt              | CHP_396-01-PBMC-DNA   | 172903 | CHP_396      |\n",
       "| 387 | batch8_14Jan2020/mixcr/clones/CLONES_TRBCHP_397-01-PBMC-DNA.txt              | CHP_397-01-PBMC-DNA   | 100489 | CHP_397      |\n",
       "| 388 | batch8_14Jan2020/mixcr/clones/CLONES_TRBCHP_399-01-PBMC-DNA.txt              | CHP_399-01-PBMC-DNA   |  17144 | CHP_399      |\n",
       "| 1091 | remaining_batch_1_20April2021/mixcr/clones/CLONES_TRBCHP_377-01_PBMC-DNA.txt | CHP_377-01_PBMC-DNA   | 112960 | CHP_377      |\n",
       "| 1098 | remaining_batch_1_20April2021/mixcr/clones/CLONES_TRBCHP_401-01_PBMC-DNA.txt | CHP_401-01_PBMC-DNA   |  68867 | CHP_401      |\n",
       "| 1118 | remaining_batch_2_22April2021/mixcr/clones/CLONES_TRBCHP_363-01_PBMC-DNA.txt | CHP_363-01_PBMC-DNA   | 429197 | CHP_363      |\n",
       "| 1119 | remaining_batch_2_22April2021/mixcr/clones/CLONES_TRBCHP_365-01_PBMC-DNA.txt | CHP_365-01_PBMC-DNA   | 247129 | CHP_365      |\n",
       "| 1123 | remaining_batch_2_22April2021/mixcr/clones/CLONES_TRBCHP_371-01_PBMC-DNA.txt | CHP_371-01_PBMC-DNA   | 314086 | CHP_371      |\n",
       "| 1127 | remaining_batch_2_22April2021/mixcr/clones/CLONES_TRBCHP_381-01_PBMC-DNA.txt | CHP_381-01_PBMC-DNA   | 381572 | CHP_381      |\n",
       "| 1156 | remaining_batch_3_4May2021/mixcr/clones/CLONES_TRBCHP_414-01_PBMC-DNA.txt    | CHP_414-01_PBMC-DNA   |   8756 | CHP_414      |\n",
       "| 1162 | remaining_batch_3_4May2021/mixcr/clones/CLONES_TRBCHP_420-01_PBMC-DNA.txt    | CHP_420-01_PBMC-DNA   | 342671 | CHP_420      |\n",
       "| 1183 | remaining_batch_4_28June2021/mixcr/clones/CLONES_TRBCHP-369-01-PBMC-DNA.txt  | CHP-369-01-PBMC-DNA   | 397379 | CHP_369      |\n",
       "| 210 | batch2_Aug62019/mixcr/clones/CLONES_TRBLFS_TCR-4535-PBMC-DNA.txt             | LFS_TCR-4535-PBMC-DNA |  72862 | LFS_TCR_4535 |\n",
       "| 211 | batch2_Aug62019/mixcr/clones/CLONES_TRBLFS_TCR-4570-PBMC-DNA.txt             | LFS_TCR-4570-PBMC-DNA |  83028 | LFS_TCR_4570 |\n",
       "| 212 | batch2_Aug62019/mixcr/clones/CLONES_TRBLFS_TCR-4602-PBMC-DNA.txt             | LFS_TCR-4602-PBMC-DNA |  82122 | LFS_TCR_4602 |\n",
       "| 213 | batch2_Aug62019/mixcr/clones/CLONES_TRBLFS_TCR-4758-PBMC-DNA.txt             | LFS_TCR-4758-PBMC-DNA | 110069 | LFS_TCR_4758 |\n",
       "| 214 | batch2_Aug62019/mixcr/clones/CLONES_TRBLFS_TCR-4759-PBMC-DNA.txt             | LFS_TCR-4759-PBMC-DNA |  79260 | LFS_TCR_4759 |\n",
       "| 215 | batch2_Aug62019/mixcr/clones/CLONES_TRBLFS_TCR-4783-PBMC-DNA.txt             | LFS_TCR-4783-PBMC-DNA |  31046 | LFS_TCR_4783 |\n",
       "| 216 | batch2_Aug62019/mixcr/clones/CLONES_TRBLFS_TCR-4837-PBMC-DNA.txt             | LFS_TCR-4837-PBMC-DNA |  92461 | LFS_TCR_4837 |\n",
       "| 217 | batch2_Aug62019/mixcr/clones/CLONES_TRBLFS_TCR-4838-PBMC-DNA.txt             | LFS_TCR-4838-PBMC-DNA |  64321 | LFS_TCR_4838 |\n",
       "| 218 | batch2_Aug62019/mixcr/clones/CLONES_TRBLFS_TCR-5014-PBMC-DNA.txt             | LFS_TCR-5014-PBMC-DNA |  70230 | LFS_TCR_5014 |\n",
       "| 219 | batch2_Aug62019/mixcr/clones/CLONES_TRBLFS_TCR-5067-PBMC-DNA.txt             | LFS_TCR-5067-PBMC-DNA |  95722 | LFS_TCR_5067 |\n",
       "\n"
      ],
      "text/plain": [
       "     file_list                                                                   \n",
       "2    batch_reseq_24Feb2020/mixcr/clones/CLONES_TRBCHP_350-01-PBMC-DNA.txt        \n",
       "7    batch_reseq_24Feb2020/mixcr/clones/CLONES_TRBCHP_354-01-PBMC-DNA.txt        \n",
       "11   batch_reseq_24Feb2020/mixcr/clones/CLONES_TRBCHP_366-01-PBMC-DNA.txt        \n",
       "12   batch_reseq_24Feb2020/mixcr/clones/CLONES_TRBCHP_367-01-PBMC-DNA.txt        \n",
       "13   batch_reseq_24Feb2020/mixcr/clones/CLONES_TRBCHP_372-01-PBMC-DNA.txt        \n",
       "39   batch1_jul52019/mixcr/clones/CLONES_TRBCHP_346-01-PBMC-DNA.txt              \n",
       "42   batch1_jul52019/mixcr/clones/CLONES_TRBCHP_349-01-PBMC-DNA.txt              \n",
       "50   batch1_jul52019/mixcr/clones/CLONES_TRBCHP_352-01-PBMC-DNA.txt              \n",
       "100  batch11_23Apr2020/mixcr/clones/CLONES_TRBCHP_404-01_PBMC_DNA.txt            \n",
       "102  batch11_23Apr2020/mixcr/clones/CLONES_TRBCHP_405-01_PBMC_DNA.txt            \n",
       "105  batch11_23Apr2020/mixcr/clones/CLONES_TRBCHP_409-01_PBMC_DNA.txt            \n",
       "139  batch12_30Apr2021/mixcr/clones/CLONES_TRBCHP_408-01_PBMC-DNA.txt            \n",
       "143  batch12_30Apr2021/mixcr/clones/CLONES_TRBCHP_410-01_PBMC-DNA.txt            \n",
       "145  batch12_30Apr2021/mixcr/clones/CLONES_TRBCHP_412-01_PBMC-DNA.txt            \n",
       "146  batch12_30Apr2021/mixcr/clones/CLONES_TRBCHP_413-01_PBMC-DNA.txt            \n",
       "147  batch12_30Apr2021/mixcr/clones/CLONES_TRBCHP_417-01_PBMC-DNA.txt            \n",
       "164  batch13_26Aug2020/mixcr/clones/CLONES_TRBCHP_411-01-PBMC-DNA.txt            \n",
       "168  batch13_26Aug2020/mixcr/clones/CLONES_TRBCHP_415-01-PBMC-DNA.txt            \n",
       "169  batch13_26Aug2020/mixcr/clones/CLONES_TRBCHP_416-01-PBMC-DNA.txt            \n",
       "170  batch13_26Aug2020/mixcr/clones/CLONES_TRBCHP_418-01-PBMC-DNA.txt            \n",
       "171  batch13_26Aug2020/mixcr/clones/CLONES_TRBCHP_422-01_-PBMC-DN.txt            \n",
       "208  batch2_Aug62019/mixcr/clones/CLONES_TRBCHP_348-01-PBMC-DNA.txt              \n",
       "233  batch3_19Aug2019/mixcr/clones/CLONES_TRBCHP_373-01-PBMC-DNA.txt             \n",
       "238  batch3_19Aug2019/mixcr/clones/CLONES_TRBCHP_378-01-PBMC-DNA.txt             \n",
       "272  batch4_19Aug2019/mixcr/clones/CLONES_TRBCHP_347-01-PBMC-DNA.txt             \n",
       "274  batch4_19Aug2019/mixcr/clones/CLONES_TRBCHP_355-01-PBMC-DNA.txt             \n",
       "276  batch4_19Aug2019/mixcr/clones/CLONES_TRBCHP_357-01-PBMC-DNA.txt             \n",
       "278  batch4_19Aug2019/mixcr/clones/CLONES_TRBCHP_361-01-PBMC-DNA.txt             \n",
       "281  batch4_19Aug2019/mixcr/clones/CLONES_TRBCHP_364-01-PBMC-DNA.txt             \n",
       "324  batch7_25Oct2019/mixcr/clones/CLONES_TRBCHP_353-01-PBMC-DNA.txt             \n",
       "331  batch7_25Oct2019/mixcr/clones/CLONES_TRBCHP_362-01-PBMC-DNA.txt             \n",
       "334  batch7_25Oct2019/mixcr/clones/CLONES_TRBCHP_368-01-PBMC-DNA.txt             \n",
       "336  batch7_25Oct2019/mixcr/clones/CLONES_TRBCHP_370-01-PBMC-DNA.txt             \n",
       "382  batch8_14Jan2020/mixcr/clones/CLONES_TRBCHP_387-01-PBMC-DNA.txt             \n",
       "383  batch8_14Jan2020/mixcr/clones/CLONES_TRBCHP_394-01-PBMC-DNA.txt             \n",
       "385  batch8_14Jan2020/mixcr/clones/CLONES_TRBCHP_396-01-PBMC-DNA.txt             \n",
       "387  batch8_14Jan2020/mixcr/clones/CLONES_TRBCHP_397-01-PBMC-DNA.txt             \n",
       "388  batch8_14Jan2020/mixcr/clones/CLONES_TRBCHP_399-01-PBMC-DNA.txt             \n",
       "1091 remaining_batch_1_20April2021/mixcr/clones/CLONES_TRBCHP_377-01_PBMC-DNA.txt\n",
       "1098 remaining_batch_1_20April2021/mixcr/clones/CLONES_TRBCHP_401-01_PBMC-DNA.txt\n",
       "1118 remaining_batch_2_22April2021/mixcr/clones/CLONES_TRBCHP_363-01_PBMC-DNA.txt\n",
       "1119 remaining_batch_2_22April2021/mixcr/clones/CLONES_TRBCHP_365-01_PBMC-DNA.txt\n",
       "1123 remaining_batch_2_22April2021/mixcr/clones/CLONES_TRBCHP_371-01_PBMC-DNA.txt\n",
       "1127 remaining_batch_2_22April2021/mixcr/clones/CLONES_TRBCHP_381-01_PBMC-DNA.txt\n",
       "1156 remaining_batch_3_4May2021/mixcr/clones/CLONES_TRBCHP_414-01_PBMC-DNA.txt   \n",
       "1162 remaining_batch_3_4May2021/mixcr/clones/CLONES_TRBCHP_420-01_PBMC-DNA.txt   \n",
       "1183 remaining_batch_4_28June2021/mixcr/clones/CLONES_TRBCHP-369-01-PBMC-DNA.txt \n",
       "210  batch2_Aug62019/mixcr/clones/CLONES_TRBLFS_TCR-4535-PBMC-DNA.txt            \n",
       "211  batch2_Aug62019/mixcr/clones/CLONES_TRBLFS_TCR-4570-PBMC-DNA.txt            \n",
       "212  batch2_Aug62019/mixcr/clones/CLONES_TRBLFS_TCR-4602-PBMC-DNA.txt            \n",
       "213  batch2_Aug62019/mixcr/clones/CLONES_TRBLFS_TCR-4758-PBMC-DNA.txt            \n",
       "214  batch2_Aug62019/mixcr/clones/CLONES_TRBLFS_TCR-4759-PBMC-DNA.txt            \n",
       "215  batch2_Aug62019/mixcr/clones/CLONES_TRBLFS_TCR-4783-PBMC-DNA.txt            \n",
       "216  batch2_Aug62019/mixcr/clones/CLONES_TRBLFS_TCR-4837-PBMC-DNA.txt            \n",
       "217  batch2_Aug62019/mixcr/clones/CLONES_TRBLFS_TCR-4838-PBMC-DNA.txt            \n",
       "218  batch2_Aug62019/mixcr/clones/CLONES_TRBLFS_TCR-5014-PBMC-DNA.txt            \n",
       "219  batch2_Aug62019/mixcr/clones/CLONES_TRBLFS_TCR-5067-PBMC-DNA.txt            \n",
       "     samplename            size   Patient     \n",
       "2    CHP_350-01-PBMC-DNA    85631 CHP_350     \n",
       "7    CHP_354-01-PBMC-DNA     3728 CHP_354     \n",
       "11   CHP_366-01-PBMC-DNA    77717 CHP_366     \n",
       "12   CHP_367-01-PBMC-DNA    19649 CHP_367     \n",
       "13   CHP_372-01-PBMC-DNA     1553 CHP_372     \n",
       "39   CHP_346-01-PBMC-DNA    17729 CHP_346     \n",
       "42   CHP_349-01-PBMC-DNA     7801 CHP_349     \n",
       "50   CHP_352-01-PBMC-DNA    13371 CHP_352     \n",
       "100  CHP_404-01_PBMC_DNA   189279 CHP_404     \n",
       "102  CHP_405-01_PBMC_DNA    39306 CHP_405     \n",
       "105  CHP_409-01_PBMC_DNA    82609 CHP_409     \n",
       "139  CHP_408-01_PBMC-DNA     9260 CHP_408     \n",
       "143  CHP_410-01_PBMC-DNA   107786 CHP_410     \n",
       "145  CHP_412-01_PBMC-DNA    32041 CHP_412     \n",
       "146  CHP_413-01_PBMC-DNA    23850 CHP_413     \n",
       "147  CHP_417-01_PBMC-DNA    57637 CHP_417     \n",
       "164  CHP_411-01-PBMC-DNA   204568 CHP_411     \n",
       "168  CHP_415-01-PBMC-DNA    59247 CHP_415     \n",
       "169  CHP_416-01-PBMC-DNA   273394 CHP_416     \n",
       "170  CHP_418-01-PBMC-DNA    72960 CHP_418     \n",
       "171  CHP_422-01_-PBMC-DN   157965 CHP_422     \n",
       "208  CHP_348-01-PBMC-DNA    41323 CHP_348     \n",
       "233  CHP_373-01-PBMC-DNA   162463 CHP_373     \n",
       "238  CHP_378-01-PBMC-DNA   334304 CHP_378     \n",
       "272  CHP_347-01-PBMC-DNA    88287 CHP_347     \n",
       "274  CHP_355-01-PBMC-DNA     7839 CHP_355     \n",
       "276  CHP_357-01-PBMC-DNA   190088 CHP_357     \n",
       "278  CHP_361-01-PBMC-DNA    62550 CHP_361     \n",
       "281  CHP_364-01-PBMC-DNA    63025 CHP_364     \n",
       "324  CHP_353-01-PBMC-DNA   106813 CHP_353     \n",
       "331  CHP_362-01-PBMC-DNA    74075 CHP_362     \n",
       "334  CHP_368-01-PBMC-DNA   129710 CHP_368     \n",
       "336  CHP_370-01-PBMC-DNA     7645 CHP_370     \n",
       "382  CHP_387-01-PBMC-DNA   146388 CHP_387     \n",
       "383  CHP_394-01-PBMC-DNA      749 CHP_394     \n",
       "385  CHP_396-01-PBMC-DNA   172903 CHP_396     \n",
       "387  CHP_397-01-PBMC-DNA   100489 CHP_397     \n",
       "388  CHP_399-01-PBMC-DNA    17144 CHP_399     \n",
       "1091 CHP_377-01_PBMC-DNA   112960 CHP_377     \n",
       "1098 CHP_401-01_PBMC-DNA    68867 CHP_401     \n",
       "1118 CHP_363-01_PBMC-DNA   429197 CHP_363     \n",
       "1119 CHP_365-01_PBMC-DNA   247129 CHP_365     \n",
       "1123 CHP_371-01_PBMC-DNA   314086 CHP_371     \n",
       "1127 CHP_381-01_PBMC-DNA   381572 CHP_381     \n",
       "1156 CHP_414-01_PBMC-DNA     8756 CHP_414     \n",
       "1162 CHP_420-01_PBMC-DNA   342671 CHP_420     \n",
       "1183 CHP-369-01-PBMC-DNA   397379 CHP_369     \n",
       "210  LFS_TCR-4535-PBMC-DNA  72862 LFS_TCR_4535\n",
       "211  LFS_TCR-4570-PBMC-DNA  83028 LFS_TCR_4570\n",
       "212  LFS_TCR-4602-PBMC-DNA  82122 LFS_TCR_4602\n",
       "213  LFS_TCR-4758-PBMC-DNA 110069 LFS_TCR_4758\n",
       "214  LFS_TCR-4759-PBMC-DNA  79260 LFS_TCR_4759\n",
       "215  LFS_TCR-4783-PBMC-DNA  31046 LFS_TCR_4783\n",
       "216  LFS_TCR-4837-PBMC-DNA  92461 LFS_TCR_4837\n",
       "217  LFS_TCR-4838-PBMC-DNA  64321 LFS_TCR_4838\n",
       "218  LFS_TCR-5014-PBMC-DNA  70230 LFS_TCR_5014\n",
       "219  LFS_TCR-5067-PBMC-DNA  95722 LFS_TCR_5067"
      ]
     },
     "metadata": {},
     "output_type": "display_data"
    }
   ],
   "source": [
    "file_df_dedup_trb"
   ]
  },
  {
   "cell_type": "code",
   "execution_count": 30,
   "metadata": {
    "vscode": {
     "languageId": "r"
    }
   },
   "outputs": [],
   "source": [
    "taball_list <- list()\n",
    "\n",
    "for(p in unique(file_df_dedup_trb$Patient)){\n",
    "    \n",
    "    mypatient <- file_df_dedup_trb[ file_df_dedup_trb$Patient == p,]\n",
    "    \n",
    "    myplist <- list()\n",
    "    for(i in 1:nrow(mypatient)){\n",
    "        onefle <- read.table(paste0(h4hpath, mypatient$file_list[i]), sep = \"\\t\", header = TRUE, stringsAsFactors = F)  \n",
    "        # Remove non-productive\n",
    "        onefle <- onefle[!grepl(\"_\", onefle$aaSeqCDR3),]\n",
    "        onefle <- onefle[!grepl(\"[*]\", onefle$aaSeqCDR3),]\n",
    "        onefle$CDR3b <- onefle$aaSeqCDR3\n",
    "        #next if the file has no productive cdr3\n",
    "        if(nrow(onefle) == 0){ next}\n",
    "        #remove scores\n",
    "        onefle$TRBV <- gsub(\"[*]0.*\", \"\", onefle$allVHitsWithScore)\n",
    "        onefle$TRBJ <- gsub(\"[*]0.*\", \"\", onefle$allJHitsWithScore)\n",
    "        #remove extra long cdr3s\n",
    "        onefle <- onefle[ nchar(onefle$aaSeqCDR3) <= 25,]\n",
    "        #next if the file has no productive cdr3\n",
    "        if(nrow(onefle) == 0){ next}\n",
    "        onefle$count <- onefle$cloneCount\n",
    "        onefle$clonefraction <- onefle$cloneFraction\n",
    "        onefle$file <- paste0(h4hpath, mypatient$file_list[i])\n",
    "        onefle$samplename <- mypatient$samplename[i]\n",
    "    \n",
    "        onefle1 <- toString_onefle.fx(onefle, \"nSeqCDR3\")\n",
    "    \n",
    "        myplist[length(myplist) + 1] <- list(onefle1[,c(\"CDR3b\", \"TRBV\", \"TRBJ\", \"samplename\", \n",
    "                                                     \"count.y\", \"clonefraction\",\"tostringvar\", \"file\")])\n",
    "    }\n",
    "    gliph_input <- do.call(\"rbind\", myplist)\n",
    "\n",
    "    colnames(gliph_input)[ colnames(gliph_input) == \"tostringvar\"] <- \"nSeqCDR3\"\n",
    "    colnames(gliph_input)[ colnames(gliph_input) == \"count.y\"] <- \"count\"\n",
    "\n",
    "    #bind those with the same cdr3 + TRBV\n",
    "    setDT(gliph_input)\n",
    "\n",
    "    ab <- gliph_input[, .(subject = toString(samplename), #bind subjects\n",
    "                          file = toString(file), #bind filenames\n",
    "                          count = sum(count)),  #get sum of counts\n",
    "                      by = c(\"CDR3b\", \"TRBV\", \"TRBJ\")] #get duplicates sequences with the same cdr3 + TRBV + TRBJ\n",
    "\n",
    "    gliph_input_ab <- merge(gliph_input, ab, by = c(\"CDR3b\",\"TRBV\",\"TRBJ\")) # merge together\n",
    "\n",
    "    #dedup\n",
    "    gliph_input_ab_dedup <- dplyr::distinct(gliph_input_ab, CDR3b, TRBV, TRBJ, subject, .keep_all= TRUE)\n",
    "\n",
    "\n",
    "    taball_list[length(taball_list) + 1] <- list(gliph_input_ab_dedup[,c(\"CDR3b\", \"TRBV\", \"TRBJ\", \"subject\", \n",
    "                                                     \"count.y\", \"clonefraction\",\"file.y\")])\n",
    "\n",
    "    }"
   ]
  },
  {
   "cell_type": "code",
   "execution_count": 31,
   "metadata": {
    "vscode": {
     "languageId": "r"
    }
   },
   "outputs": [],
   "source": [
    "taball <- do.call(\"rbind\", taball_list)"
   ]
  },
  {
   "cell_type": "code",
   "execution_count": 32,
   "metadata": {
    "vscode": {
     "languageId": "r"
    }
   },
   "outputs": [],
   "source": [
    "#some cleanup\n",
    "#taball$`subject:condition` <- substr(taball$subject, 1, 7)\n",
    "colnames(taball)[ colnames(taball) == \"count.y\"] <- \"count\"\n",
    "colnames(taball)[ colnames(taball) == \"file.y\"] <- \"file\""
   ]
  },
  {
   "cell_type": "code",
   "execution_count": 33,
   "metadata": {
    "vscode": {
     "languageId": "r"
    }
   },
   "outputs": [],
   "source": [
    "taball$`subject:condition` <- meta_div$Patient[match(taball$subject, meta_div$basename)]"
   ]
  },
  {
   "cell_type": "code",
   "execution_count": 34,
   "metadata": {
    "vscode": {
     "languageId": "r"
    }
   },
   "outputs": [
    {
     "data": {
      "text/html": [
       "<table class=\"dataframe\">\n",
       "<caption>A data.table: 6 x 8</caption>\n",
       "<thead>\n",
       "\t<tr><th scope=col>CDR3b</th><th scope=col>TRBV</th><th scope=col>TRBJ</th><th scope=col>subject</th><th scope=col>count</th><th scope=col>clonefraction</th><th scope=col>file</th><th scope=col>subject:condition</th></tr>\n",
       "\t<tr><th scope=col>&lt;chr&gt;</th><th scope=col>&lt;chr&gt;</th><th scope=col>&lt;chr&gt;</th><th scope=col>&lt;chr&gt;</th><th scope=col>&lt;int&gt;</th><th scope=col>&lt;dbl&gt;</th><th scope=col>&lt;chr&gt;</th><th scope=col>&lt;chr&gt;</th></tr>\n",
       "</thead>\n",
       "<tbody>\n",
       "\t<tr><td>CAIEGSSYNSPLHF</td><td>TRBV10-3</td><td>TRBJ1-6</td><td>CHP_350-01-PBMC-DNA</td><td> 9</td><td>0.003945638</td><td>/Users/anabbi/Desktop/H4H/INTERCEPT/NextSeq/batch_reseq_24Feb2020/mixcr/clones/CLONES_TRBCHP_350-01-PBMC-DNA.txt</td><td>CHP_350</td></tr>\n",
       "\t<tr><td>CASFDGGGVGAFF </td><td>TRBV25-1</td><td>TRBJ1-1</td><td>CHP_350-01-PBMC-DNA</td><td>11</td><td>0.004822446</td><td>/Users/anabbi/Desktop/H4H/INTERCEPT/NextSeq/batch_reseq_24Feb2020/mixcr/clones/CLONES_TRBCHP_350-01-PBMC-DNA.txt</td><td>CHP_350</td></tr>\n",
       "\t<tr><td>CASGASYNEQFF  </td><td>TRBV12-4</td><td>TRBJ2-1</td><td>CHP_350-01-PBMC-DNA</td><td> 5</td><td>0.002192021</td><td>/Users/anabbi/Desktop/H4H/INTERCEPT/NextSeq/batch_reseq_24Feb2020/mixcr/clones/CLONES_TRBCHP_350-01-PBMC-DNA.txt</td><td>CHP_350</td></tr>\n",
       "\t<tr><td>CASGHSSYNEQFF </td><td>TRBV5-6 </td><td>TRBJ2-1</td><td>CHP_350-01-PBMC-DNA</td><td> 6</td><td>0.002630425</td><td>/Users/anabbi/Desktop/H4H/INTERCEPT/NextSeq/batch_reseq_24Feb2020/mixcr/clones/CLONES_TRBCHP_350-01-PBMC-DNA.txt</td><td>CHP_350</td></tr>\n",
       "\t<tr><td>CASNLKGRVGGYTF</td><td>TRBV28  </td><td>TRBJ1-2</td><td>CHP_350-01-PBMC-DNA</td><td>12</td><td>0.005260851</td><td>/Users/anabbi/Desktop/H4H/INTERCEPT/NextSeq/batch_reseq_24Feb2020/mixcr/clones/CLONES_TRBCHP_350-01-PBMC-DNA.txt</td><td>CHP_350</td></tr>\n",
       "\t<tr><td>CASRDTSFTEAFF </td><td>TRBV2   </td><td>TRBJ1-1</td><td>CHP_350-01-PBMC-DNA</td><td>21</td><td>0.009206488</td><td>/Users/anabbi/Desktop/H4H/INTERCEPT/NextSeq/batch_reseq_24Feb2020/mixcr/clones/CLONES_TRBCHP_350-01-PBMC-DNA.txt</td><td>CHP_350</td></tr>\n",
       "</tbody>\n",
       "</table>\n"
      ],
      "text/latex": [
       "A data.table: 6 x 8\n",
       "\\begin{tabular}{llllllll}\n",
       " CDR3b & TRBV & TRBJ & subject & count & clonefraction & file & subject:condition\\\\\n",
       " <chr> & <chr> & <chr> & <chr> & <int> & <dbl> & <chr> & <chr>\\\\\n",
       "\\hline\n",
       "\t CAIEGSSYNSPLHF & TRBV10-3 & TRBJ1-6 & CHP\\_350-01-PBMC-DNA &  9 & 0.003945638 & /Users/anabbi/Desktop/H4H/INTERCEPT/NextSeq/batch\\_reseq\\_24Feb2020/mixcr/clones/CLONES\\_TRBCHP\\_350-01-PBMC-DNA.txt & CHP\\_350\\\\\n",
       "\t CASFDGGGVGAFF  & TRBV25-1 & TRBJ1-1 & CHP\\_350-01-PBMC-DNA & 11 & 0.004822446 & /Users/anabbi/Desktop/H4H/INTERCEPT/NextSeq/batch\\_reseq\\_24Feb2020/mixcr/clones/CLONES\\_TRBCHP\\_350-01-PBMC-DNA.txt & CHP\\_350\\\\\n",
       "\t CASGASYNEQFF   & TRBV12-4 & TRBJ2-1 & CHP\\_350-01-PBMC-DNA &  5 & 0.002192021 & /Users/anabbi/Desktop/H4H/INTERCEPT/NextSeq/batch\\_reseq\\_24Feb2020/mixcr/clones/CLONES\\_TRBCHP\\_350-01-PBMC-DNA.txt & CHP\\_350\\\\\n",
       "\t CASGHSSYNEQFF  & TRBV5-6  & TRBJ2-1 & CHP\\_350-01-PBMC-DNA &  6 & 0.002630425 & /Users/anabbi/Desktop/H4H/INTERCEPT/NextSeq/batch\\_reseq\\_24Feb2020/mixcr/clones/CLONES\\_TRBCHP\\_350-01-PBMC-DNA.txt & CHP\\_350\\\\\n",
       "\t CASNLKGRVGGYTF & TRBV28   & TRBJ1-2 & CHP\\_350-01-PBMC-DNA & 12 & 0.005260851 & /Users/anabbi/Desktop/H4H/INTERCEPT/NextSeq/batch\\_reseq\\_24Feb2020/mixcr/clones/CLONES\\_TRBCHP\\_350-01-PBMC-DNA.txt & CHP\\_350\\\\\n",
       "\t CASRDTSFTEAFF  & TRBV2    & TRBJ1-1 & CHP\\_350-01-PBMC-DNA & 21 & 0.009206488 & /Users/anabbi/Desktop/H4H/INTERCEPT/NextSeq/batch\\_reseq\\_24Feb2020/mixcr/clones/CLONES\\_TRBCHP\\_350-01-PBMC-DNA.txt & CHP\\_350\\\\\n",
       "\\end{tabular}\n"
      ],
      "text/markdown": [
       "\n",
       "A data.table: 6 x 8\n",
       "\n",
       "| CDR3b &lt;chr&gt; | TRBV &lt;chr&gt; | TRBJ &lt;chr&gt; | subject &lt;chr&gt; | count &lt;int&gt; | clonefraction &lt;dbl&gt; | file &lt;chr&gt; | subject:condition &lt;chr&gt; |\n",
       "|---|---|---|---|---|---|---|---|\n",
       "| CAIEGSSYNSPLHF | TRBV10-3 | TRBJ1-6 | CHP_350-01-PBMC-DNA |  9 | 0.003945638 | /Users/anabbi/Desktop/H4H/INTERCEPT/NextSeq/batch_reseq_24Feb2020/mixcr/clones/CLONES_TRBCHP_350-01-PBMC-DNA.txt | CHP_350 |\n",
       "| CASFDGGGVGAFF  | TRBV25-1 | TRBJ1-1 | CHP_350-01-PBMC-DNA | 11 | 0.004822446 | /Users/anabbi/Desktop/H4H/INTERCEPT/NextSeq/batch_reseq_24Feb2020/mixcr/clones/CLONES_TRBCHP_350-01-PBMC-DNA.txt | CHP_350 |\n",
       "| CASGASYNEQFF   | TRBV12-4 | TRBJ2-1 | CHP_350-01-PBMC-DNA |  5 | 0.002192021 | /Users/anabbi/Desktop/H4H/INTERCEPT/NextSeq/batch_reseq_24Feb2020/mixcr/clones/CLONES_TRBCHP_350-01-PBMC-DNA.txt | CHP_350 |\n",
       "| CASGHSSYNEQFF  | TRBV5-6  | TRBJ2-1 | CHP_350-01-PBMC-DNA |  6 | 0.002630425 | /Users/anabbi/Desktop/H4H/INTERCEPT/NextSeq/batch_reseq_24Feb2020/mixcr/clones/CLONES_TRBCHP_350-01-PBMC-DNA.txt | CHP_350 |\n",
       "| CASNLKGRVGGYTF | TRBV28   | TRBJ1-2 | CHP_350-01-PBMC-DNA | 12 | 0.005260851 | /Users/anabbi/Desktop/H4H/INTERCEPT/NextSeq/batch_reseq_24Feb2020/mixcr/clones/CLONES_TRBCHP_350-01-PBMC-DNA.txt | CHP_350 |\n",
       "| CASRDTSFTEAFF  | TRBV2    | TRBJ1-1 | CHP_350-01-PBMC-DNA | 21 | 0.009206488 | /Users/anabbi/Desktop/H4H/INTERCEPT/NextSeq/batch_reseq_24Feb2020/mixcr/clones/CLONES_TRBCHP_350-01-PBMC-DNA.txt | CHP_350 |\n",
       "\n"
      ],
      "text/plain": [
       "  CDR3b          TRBV     TRBJ    subject             count clonefraction\n",
       "1 CAIEGSSYNSPLHF TRBV10-3 TRBJ1-6 CHP_350-01-PBMC-DNA  9    0.003945638  \n",
       "2 CASFDGGGVGAFF  TRBV25-1 TRBJ1-1 CHP_350-01-PBMC-DNA 11    0.004822446  \n",
       "3 CASGASYNEQFF   TRBV12-4 TRBJ2-1 CHP_350-01-PBMC-DNA  5    0.002192021  \n",
       "4 CASGHSSYNEQFF  TRBV5-6  TRBJ2-1 CHP_350-01-PBMC-DNA  6    0.002630425  \n",
       "5 CASNLKGRVGGYTF TRBV28   TRBJ1-2 CHP_350-01-PBMC-DNA 12    0.005260851  \n",
       "6 CASRDTSFTEAFF  TRBV2    TRBJ1-1 CHP_350-01-PBMC-DNA 21    0.009206488  \n",
       "  file                                                                                                            \n",
       "1 /Users/anabbi/Desktop/H4H/INTERCEPT/NextSeq/batch_reseq_24Feb2020/mixcr/clones/CLONES_TRBCHP_350-01-PBMC-DNA.txt\n",
       "2 /Users/anabbi/Desktop/H4H/INTERCEPT/NextSeq/batch_reseq_24Feb2020/mixcr/clones/CLONES_TRBCHP_350-01-PBMC-DNA.txt\n",
       "3 /Users/anabbi/Desktop/H4H/INTERCEPT/NextSeq/batch_reseq_24Feb2020/mixcr/clones/CLONES_TRBCHP_350-01-PBMC-DNA.txt\n",
       "4 /Users/anabbi/Desktop/H4H/INTERCEPT/NextSeq/batch_reseq_24Feb2020/mixcr/clones/CLONES_TRBCHP_350-01-PBMC-DNA.txt\n",
       "5 /Users/anabbi/Desktop/H4H/INTERCEPT/NextSeq/batch_reseq_24Feb2020/mixcr/clones/CLONES_TRBCHP_350-01-PBMC-DNA.txt\n",
       "6 /Users/anabbi/Desktop/H4H/INTERCEPT/NextSeq/batch_reseq_24Feb2020/mixcr/clones/CLONES_TRBCHP_350-01-PBMC-DNA.txt\n",
       "  subject:condition\n",
       "1 CHP_350          \n",
       "2 CHP_350          \n",
       "3 CHP_350          \n",
       "4 CHP_350          \n",
       "5 CHP_350          \n",
       "6 CHP_350          "
      ]
     },
     "metadata": {},
     "output_type": "display_data"
    }
   ],
   "source": [
    "head(taball)"
   ]
  },
  {
   "cell_type": "code",
   "execution_count": 35,
   "metadata": {
    "vscode": {
     "languageId": "r"
    }
   },
   "outputs": [],
   "source": [
    "taball <- taball[,c(1,2,3,8,5,6,4,7)]"
   ]
  },
  {
   "cell_type": "code",
   "execution_count": 36,
   "metadata": {
    "vscode": {
     "languageId": "r"
    }
   },
   "outputs": [],
   "source": [
    "taball$index <- 1:nrow(taball)"
   ]
  },
  {
   "cell_type": "code",
   "execution_count": 37,
   "metadata": {
    "vscode": {
     "languageId": "r"
    }
   },
   "outputs": [
    {
     "data": {
      "text/html": [
       "<table class=\"dataframe\">\n",
       "<caption>A data.table: 6 x 9</caption>\n",
       "<thead>\n",
       "\t<tr><th scope=col>CDR3b</th><th scope=col>TRBV</th><th scope=col>TRBJ</th><th scope=col>subject:condition</th><th scope=col>count</th><th scope=col>clonefraction</th><th scope=col>subject</th><th scope=col>file</th><th scope=col>index</th></tr>\n",
       "\t<tr><th scope=col>&lt;chr&gt;</th><th scope=col>&lt;chr&gt;</th><th scope=col>&lt;chr&gt;</th><th scope=col>&lt;chr&gt;</th><th scope=col>&lt;int&gt;</th><th scope=col>&lt;dbl&gt;</th><th scope=col>&lt;chr&gt;</th><th scope=col>&lt;chr&gt;</th><th scope=col>&lt;int&gt;</th></tr>\n",
       "</thead>\n",
       "<tbody>\n",
       "\t<tr><td>CAIEGSSYNSPLHF</td><td>TRBV10-3</td><td>TRBJ1-6</td><td>CHP_350</td><td> 9</td><td>0.003945638</td><td>CHP_350-01-PBMC-DNA</td><td>/Users/anabbi/Desktop/H4H/INTERCEPT/NextSeq/batch_reseq_24Feb2020/mixcr/clones/CLONES_TRBCHP_350-01-PBMC-DNA.txt</td><td>1</td></tr>\n",
       "\t<tr><td>CASFDGGGVGAFF </td><td>TRBV25-1</td><td>TRBJ1-1</td><td>CHP_350</td><td>11</td><td>0.004822446</td><td>CHP_350-01-PBMC-DNA</td><td>/Users/anabbi/Desktop/H4H/INTERCEPT/NextSeq/batch_reseq_24Feb2020/mixcr/clones/CLONES_TRBCHP_350-01-PBMC-DNA.txt</td><td>2</td></tr>\n",
       "\t<tr><td>CASGASYNEQFF  </td><td>TRBV12-4</td><td>TRBJ2-1</td><td>CHP_350</td><td> 5</td><td>0.002192021</td><td>CHP_350-01-PBMC-DNA</td><td>/Users/anabbi/Desktop/H4H/INTERCEPT/NextSeq/batch_reseq_24Feb2020/mixcr/clones/CLONES_TRBCHP_350-01-PBMC-DNA.txt</td><td>3</td></tr>\n",
       "\t<tr><td>CASGHSSYNEQFF </td><td>TRBV5-6 </td><td>TRBJ2-1</td><td>CHP_350</td><td> 6</td><td>0.002630425</td><td>CHP_350-01-PBMC-DNA</td><td>/Users/anabbi/Desktop/H4H/INTERCEPT/NextSeq/batch_reseq_24Feb2020/mixcr/clones/CLONES_TRBCHP_350-01-PBMC-DNA.txt</td><td>4</td></tr>\n",
       "\t<tr><td>CASNLKGRVGGYTF</td><td>TRBV28  </td><td>TRBJ1-2</td><td>CHP_350</td><td>12</td><td>0.005260851</td><td>CHP_350-01-PBMC-DNA</td><td>/Users/anabbi/Desktop/H4H/INTERCEPT/NextSeq/batch_reseq_24Feb2020/mixcr/clones/CLONES_TRBCHP_350-01-PBMC-DNA.txt</td><td>5</td></tr>\n",
       "\t<tr><td>CASRDTSFTEAFF </td><td>TRBV2   </td><td>TRBJ1-1</td><td>CHP_350</td><td>21</td><td>0.009206488</td><td>CHP_350-01-PBMC-DNA</td><td>/Users/anabbi/Desktop/H4H/INTERCEPT/NextSeq/batch_reseq_24Feb2020/mixcr/clones/CLONES_TRBCHP_350-01-PBMC-DNA.txt</td><td>6</td></tr>\n",
       "</tbody>\n",
       "</table>\n"
      ],
      "text/latex": [
       "A data.table: 6 x 9\n",
       "\\begin{tabular}{lllllllll}\n",
       " CDR3b & TRBV & TRBJ & subject:condition & count & clonefraction & subject & file & index\\\\\n",
       " <chr> & <chr> & <chr> & <chr> & <int> & <dbl> & <chr> & <chr> & <int>\\\\\n",
       "\\hline\n",
       "\t CAIEGSSYNSPLHF & TRBV10-3 & TRBJ1-6 & CHP\\_350 &  9 & 0.003945638 & CHP\\_350-01-PBMC-DNA & /Users/anabbi/Desktop/H4H/INTERCEPT/NextSeq/batch\\_reseq\\_24Feb2020/mixcr/clones/CLONES\\_TRBCHP\\_350-01-PBMC-DNA.txt & 1\\\\\n",
       "\t CASFDGGGVGAFF  & TRBV25-1 & TRBJ1-1 & CHP\\_350 & 11 & 0.004822446 & CHP\\_350-01-PBMC-DNA & /Users/anabbi/Desktop/H4H/INTERCEPT/NextSeq/batch\\_reseq\\_24Feb2020/mixcr/clones/CLONES\\_TRBCHP\\_350-01-PBMC-DNA.txt & 2\\\\\n",
       "\t CASGASYNEQFF   & TRBV12-4 & TRBJ2-1 & CHP\\_350 &  5 & 0.002192021 & CHP\\_350-01-PBMC-DNA & /Users/anabbi/Desktop/H4H/INTERCEPT/NextSeq/batch\\_reseq\\_24Feb2020/mixcr/clones/CLONES\\_TRBCHP\\_350-01-PBMC-DNA.txt & 3\\\\\n",
       "\t CASGHSSYNEQFF  & TRBV5-6  & TRBJ2-1 & CHP\\_350 &  6 & 0.002630425 & CHP\\_350-01-PBMC-DNA & /Users/anabbi/Desktop/H4H/INTERCEPT/NextSeq/batch\\_reseq\\_24Feb2020/mixcr/clones/CLONES\\_TRBCHP\\_350-01-PBMC-DNA.txt & 4\\\\\n",
       "\t CASNLKGRVGGYTF & TRBV28   & TRBJ1-2 & CHP\\_350 & 12 & 0.005260851 & CHP\\_350-01-PBMC-DNA & /Users/anabbi/Desktop/H4H/INTERCEPT/NextSeq/batch\\_reseq\\_24Feb2020/mixcr/clones/CLONES\\_TRBCHP\\_350-01-PBMC-DNA.txt & 5\\\\\n",
       "\t CASRDTSFTEAFF  & TRBV2    & TRBJ1-1 & CHP\\_350 & 21 & 0.009206488 & CHP\\_350-01-PBMC-DNA & /Users/anabbi/Desktop/H4H/INTERCEPT/NextSeq/batch\\_reseq\\_24Feb2020/mixcr/clones/CLONES\\_TRBCHP\\_350-01-PBMC-DNA.txt & 6\\\\\n",
       "\\end{tabular}\n"
      ],
      "text/markdown": [
       "\n",
       "A data.table: 6 x 9\n",
       "\n",
       "| CDR3b &lt;chr&gt; | TRBV &lt;chr&gt; | TRBJ &lt;chr&gt; | subject:condition &lt;chr&gt; | count &lt;int&gt; | clonefraction &lt;dbl&gt; | subject &lt;chr&gt; | file &lt;chr&gt; | index &lt;int&gt; |\n",
       "|---|---|---|---|---|---|---|---|---|\n",
       "| CAIEGSSYNSPLHF | TRBV10-3 | TRBJ1-6 | CHP_350 |  9 | 0.003945638 | CHP_350-01-PBMC-DNA | /Users/anabbi/Desktop/H4H/INTERCEPT/NextSeq/batch_reseq_24Feb2020/mixcr/clones/CLONES_TRBCHP_350-01-PBMC-DNA.txt | 1 |\n",
       "| CASFDGGGVGAFF  | TRBV25-1 | TRBJ1-1 | CHP_350 | 11 | 0.004822446 | CHP_350-01-PBMC-DNA | /Users/anabbi/Desktop/H4H/INTERCEPT/NextSeq/batch_reseq_24Feb2020/mixcr/clones/CLONES_TRBCHP_350-01-PBMC-DNA.txt | 2 |\n",
       "| CASGASYNEQFF   | TRBV12-4 | TRBJ2-1 | CHP_350 |  5 | 0.002192021 | CHP_350-01-PBMC-DNA | /Users/anabbi/Desktop/H4H/INTERCEPT/NextSeq/batch_reseq_24Feb2020/mixcr/clones/CLONES_TRBCHP_350-01-PBMC-DNA.txt | 3 |\n",
       "| CASGHSSYNEQFF  | TRBV5-6  | TRBJ2-1 | CHP_350 |  6 | 0.002630425 | CHP_350-01-PBMC-DNA | /Users/anabbi/Desktop/H4H/INTERCEPT/NextSeq/batch_reseq_24Feb2020/mixcr/clones/CLONES_TRBCHP_350-01-PBMC-DNA.txt | 4 |\n",
       "| CASNLKGRVGGYTF | TRBV28   | TRBJ1-2 | CHP_350 | 12 | 0.005260851 | CHP_350-01-PBMC-DNA | /Users/anabbi/Desktop/H4H/INTERCEPT/NextSeq/batch_reseq_24Feb2020/mixcr/clones/CLONES_TRBCHP_350-01-PBMC-DNA.txt | 5 |\n",
       "| CASRDTSFTEAFF  | TRBV2    | TRBJ1-1 | CHP_350 | 21 | 0.009206488 | CHP_350-01-PBMC-DNA | /Users/anabbi/Desktop/H4H/INTERCEPT/NextSeq/batch_reseq_24Feb2020/mixcr/clones/CLONES_TRBCHP_350-01-PBMC-DNA.txt | 6 |\n",
       "\n"
      ],
      "text/plain": [
       "  CDR3b          TRBV     TRBJ    subject:condition count clonefraction\n",
       "1 CAIEGSSYNSPLHF TRBV10-3 TRBJ1-6 CHP_350            9    0.003945638  \n",
       "2 CASFDGGGVGAFF  TRBV25-1 TRBJ1-1 CHP_350           11    0.004822446  \n",
       "3 CASGASYNEQFF   TRBV12-4 TRBJ2-1 CHP_350            5    0.002192021  \n",
       "4 CASGHSSYNEQFF  TRBV5-6  TRBJ2-1 CHP_350            6    0.002630425  \n",
       "5 CASNLKGRVGGYTF TRBV28   TRBJ1-2 CHP_350           12    0.005260851  \n",
       "6 CASRDTSFTEAFF  TRBV2    TRBJ1-1 CHP_350           21    0.009206488  \n",
       "  subject            \n",
       "1 CHP_350-01-PBMC-DNA\n",
       "2 CHP_350-01-PBMC-DNA\n",
       "3 CHP_350-01-PBMC-DNA\n",
       "4 CHP_350-01-PBMC-DNA\n",
       "5 CHP_350-01-PBMC-DNA\n",
       "6 CHP_350-01-PBMC-DNA\n",
       "  file                                                                                                            \n",
       "1 /Users/anabbi/Desktop/H4H/INTERCEPT/NextSeq/batch_reseq_24Feb2020/mixcr/clones/CLONES_TRBCHP_350-01-PBMC-DNA.txt\n",
       "2 /Users/anabbi/Desktop/H4H/INTERCEPT/NextSeq/batch_reseq_24Feb2020/mixcr/clones/CLONES_TRBCHP_350-01-PBMC-DNA.txt\n",
       "3 /Users/anabbi/Desktop/H4H/INTERCEPT/NextSeq/batch_reseq_24Feb2020/mixcr/clones/CLONES_TRBCHP_350-01-PBMC-DNA.txt\n",
       "4 /Users/anabbi/Desktop/H4H/INTERCEPT/NextSeq/batch_reseq_24Feb2020/mixcr/clones/CLONES_TRBCHP_350-01-PBMC-DNA.txt\n",
       "5 /Users/anabbi/Desktop/H4H/INTERCEPT/NextSeq/batch_reseq_24Feb2020/mixcr/clones/CLONES_TRBCHP_350-01-PBMC-DNA.txt\n",
       "6 /Users/anabbi/Desktop/H4H/INTERCEPT/NextSeq/batch_reseq_24Feb2020/mixcr/clones/CLONES_TRBCHP_350-01-PBMC-DNA.txt\n",
       "  index\n",
       "1 1    \n",
       "2 2    \n",
       "3 3    \n",
       "4 4    \n",
       "5 5    \n",
       "6 6    "
      ]
     },
     "metadata": {},
     "output_type": "display_data"
    }
   ],
   "source": [
    "head(taball)"
   ]
  },
  {
   "cell_type": "code",
   "execution_count": 39,
   "metadata": {
    "vscode": {
     "languageId": "r"
    }
   },
   "outputs": [],
   "source": [
    "readr::write_rds(taball, file = paste0(datapath, \"capTCRseq/INT_01_LFS_gliph_input.rds\"))"
   ]
  },
  {
   "cell_type": "code",
   "execution_count": 41,
   "metadata": {
    "vscode": {
     "languageId": "r"
    }
   },
   "outputs": [
    {
     "data": {
      "text/html": [
       "57"
      ],
      "text/latex": [
       "57"
      ],
      "text/markdown": [
       "57"
      ],
      "text/plain": [
       "[1] 57"
      ]
     },
     "metadata": {},
     "output_type": "display_data"
    }
   ],
   "source": [
    "length(table(taball$`subject:condition`))"
   ]
  },
  {
   "cell_type": "code",
   "execution_count": null,
   "metadata": {
    "vscode": {
     "languageId": "r"
    }
   },
   "outputs": [],
   "source": []
  },
  {
   "cell_type": "code",
   "execution_count": null,
   "metadata": {
    "vscode": {
     "languageId": "r"
    }
   },
   "outputs": [],
   "source": []
  },
  {
   "cell_type": "code",
   "execution_count": 32,
   "metadata": {
    "vscode": {
     "languageId": "r"
    }
   },
   "outputs": [],
   "source": [
    "#save(taball, file = \"/Users/anabbi/Desktop/H4H/INTERCEPT/Adaptive/tsv_cleanup/gliphinput/INT_gliph_input.RData\")"
   ]
  },
  {
   "cell_type": "markdown",
   "metadata": {},
   "source": [
    "## Cleanup VDJdb file - curated by Shirin"
   ]
  },
  {
   "cell_type": "code",
   "execution_count": 33,
   "metadata": {
    "vscode": {
     "languageId": "r"
    }
   },
   "outputs": [],
   "source": [
    "VDJdb_tcr <- read.table(file = paste0(datapath, \"CapTCRseq/VDJdb_MinimalScoreConfidence3.tsv\"), sep = \"\\t\", header = T)"
   ]
  },
  {
   "cell_type": "code",
   "execution_count": 34,
   "metadata": {
    "vscode": {
     "languageId": "r"
    }
   },
   "outputs": [
    {
     "data": {
      "text/html": [
       "<style>\n",
       ".list-inline {list-style: none; margin:0; padding: 0}\n",
       ".list-inline>li {display: inline-block}\n",
       ".list-inline>li:not(:last-child)::after {content: \"\\00b7\"; padding: 0 .5ex}\n",
       "</style>\n",
       "<ol class=list-inline><li>'complex.id'</li><li>'Gene'</li><li>'aaSeqCDR3'</li><li>'V'</li><li>'J'</li><li>'MHC.A'</li><li>'MHC.B'</li><li>'MHC.class'</li><li>'Epitope'</li><li>'Epitope.gene'</li><li>'Epitope.species'</li><li>'Reference'</li></ol>\n"
      ],
      "text/latex": [
       "\\begin{enumerate*}\n",
       "\\item 'complex.id'\n",
       "\\item 'Gene'\n",
       "\\item 'aaSeqCDR3'\n",
       "\\item 'V'\n",
       "\\item 'J'\n",
       "\\item 'MHC.A'\n",
       "\\item 'MHC.B'\n",
       "\\item 'MHC.class'\n",
       "\\item 'Epitope'\n",
       "\\item 'Epitope.gene'\n",
       "\\item 'Epitope.species'\n",
       "\\item 'Reference'\n",
       "\\end{enumerate*}\n"
      ],
      "text/markdown": [
       "1. 'complex.id'\n",
       "2. 'Gene'\n",
       "3. 'aaSeqCDR3'\n",
       "4. 'V'\n",
       "5. 'J'\n",
       "6. 'MHC.A'\n",
       "7. 'MHC.B'\n",
       "8. 'MHC.class'\n",
       "9. 'Epitope'\n",
       "10. 'Epitope.gene'\n",
       "11. 'Epitope.species'\n",
       "12. 'Reference'\n",
       "\n",
       "\n"
      ],
      "text/plain": [
       " [1] \"complex.id\"      \"Gene\"            \"aaSeqCDR3\"       \"V\"              \n",
       " [5] \"J\"               \"MHC.A\"           \"MHC.B\"           \"MHC.class\"      \n",
       " [9] \"Epitope\"         \"Epitope.gene\"    \"Epitope.species\" \"Reference\"      "
      ]
     },
     "metadata": {},
     "output_type": "display_data"
    }
   ],
   "source": [
    "colnames(VDJdb_tcr)"
   ]
  },
  {
   "cell_type": "code",
   "execution_count": 35,
   "metadata": {
    "vscode": {
     "languageId": "r"
    }
   },
   "outputs": [
    {
     "data": {
      "text/html": [
       "<table class=\"dataframe\">\n",
       "<caption>A data.frame: 6 x 12</caption>\n",
       "<thead>\n",
       "\t<tr><th></th><th scope=col>complex.id</th><th scope=col>Gene</th><th scope=col>aaSeqCDR3</th><th scope=col>V</th><th scope=col>J</th><th scope=col>MHC.A</th><th scope=col>MHC.B</th><th scope=col>MHC.class</th><th scope=col>Epitope</th><th scope=col>Epitope.gene</th><th scope=col>Epitope.species</th><th scope=col>Reference</th></tr>\n",
       "\t<tr><th></th><th scope=col>&lt;int&gt;</th><th scope=col>&lt;chr&gt;</th><th scope=col>&lt;chr&gt;</th><th scope=col>&lt;chr&gt;</th><th scope=col>&lt;chr&gt;</th><th scope=col>&lt;chr&gt;</th><th scope=col>&lt;chr&gt;</th><th scope=col>&lt;chr&gt;</th><th scope=col>&lt;chr&gt;</th><th scope=col>&lt;chr&gt;</th><th scope=col>&lt;chr&gt;</th><th scope=col>&lt;chr&gt;</th></tr>\n",
       "</thead>\n",
       "<tbody>\n",
       "\t<tr><th scope=row>1</th><td>0</td><td>TRB</td><td>CAISGQAVSTDTQYF</td><td>TRBV10-3*01</td><td>TRBJ2-3*01</td><td>HLA-A*02   </td><td>NA</td><td>MHCI</td><td>KLVALGINAV</td><td>NS3  </td><td>HCV</td><td>PMID:27252176</td></tr>\n",
       "\t<tr><th scope=row>2</th><td>0</td><td>TRB</td><td>CASDSNTEAFF    </td><td>TRBV25-1*01</td><td>TRBJ1-1*01</td><td>HLA-A*02   </td><td>NA</td><td>MHCI</td><td>KLVALGINAV</td><td>NS3  </td><td>HCV</td><td>PMID:27252176</td></tr>\n",
       "\t<tr><th scope=row>3</th><td>0</td><td>TRB</td><td>CASGWGSQPQHF   </td><td>TRBV7-9*01 </td><td>TRBJ1-5*01</td><td>HLA-A*11:01</td><td>NA</td><td>MHCI</td><td>AVFDRKSDAK</td><td>EBNA4</td><td>EBV</td><td>PMID:23267020</td></tr>\n",
       "\t<tr><th scope=row>4</th><td>0</td><td>TRB</td><td>CASKGQGARDGYTF </td><td>TRBV6-6*01 </td><td>TRBJ1-2*01</td><td>HLA-B*35:01</td><td>NA</td><td>MHCI</td><td>IPSINVHHY </td><td>pp65 </td><td>CMV</td><td>PMID:23267020</td></tr>\n",
       "\t<tr><th scope=row>5</th><td>0</td><td>TRB</td><td>CASKMRGDVYEQYF </td><td>TRBV18*01  </td><td>TRBJ2-7*01</td><td>HLA-B*08:01</td><td>NA</td><td>MHCI</td><td>RAKFKQLL  </td><td>BZLF1</td><td>EBV</td><td>PMID:23267020</td></tr>\n",
       "\t<tr><th scope=row>6</th><td>0</td><td>TRB</td><td>CASMGNSAGANVLTF</td><td>TRBV10-1*01</td><td>TRBJ2-6*01</td><td>HLA-A*02   </td><td>NA</td><td>MHCI</td><td>NLVPMVATV </td><td>pp65 </td><td>CMV</td><td>PMID:9971792 </td></tr>\n",
       "</tbody>\n",
       "</table>\n"
      ],
      "text/latex": [
       "A data.frame: 6 x 12\n",
       "\\begin{tabular}{r|llllllllllll}\n",
       "  & complex.id & Gene & aaSeqCDR3 & V & J & MHC.A & MHC.B & MHC.class & Epitope & Epitope.gene & Epitope.species & Reference\\\\\n",
       "  & <int> & <chr> & <chr> & <chr> & <chr> & <chr> & <chr> & <chr> & <chr> & <chr> & <chr> & <chr>\\\\\n",
       "\\hline\n",
       "\t1 & 0 & TRB & CAISGQAVSTDTQYF & TRBV10-3*01 & TRBJ2-3*01 & HLA-A*02    & NA & MHCI & KLVALGINAV & NS3   & HCV & PMID:27252176\\\\\n",
       "\t2 & 0 & TRB & CASDSNTEAFF     & TRBV25-1*01 & TRBJ1-1*01 & HLA-A*02    & NA & MHCI & KLVALGINAV & NS3   & HCV & PMID:27252176\\\\\n",
       "\t3 & 0 & TRB & CASGWGSQPQHF    & TRBV7-9*01  & TRBJ1-5*01 & HLA-A*11:01 & NA & MHCI & AVFDRKSDAK & EBNA4 & EBV & PMID:23267020\\\\\n",
       "\t4 & 0 & TRB & CASKGQGARDGYTF  & TRBV6-6*01  & TRBJ1-2*01 & HLA-B*35:01 & NA & MHCI & IPSINVHHY  & pp65  & CMV & PMID:23267020\\\\\n",
       "\t5 & 0 & TRB & CASKMRGDVYEQYF  & TRBV18*01   & TRBJ2-7*01 & HLA-B*08:01 & NA & MHCI & RAKFKQLL   & BZLF1 & EBV & PMID:23267020\\\\\n",
       "\t6 & 0 & TRB & CASMGNSAGANVLTF & TRBV10-1*01 & TRBJ2-6*01 & HLA-A*02    & NA & MHCI & NLVPMVATV  & pp65  & CMV & PMID:9971792 \\\\\n",
       "\\end{tabular}\n"
      ],
      "text/markdown": [
       "\n",
       "A data.frame: 6 x 12\n",
       "\n",
       "| <!--/--> | complex.id &lt;int&gt; | Gene &lt;chr&gt; | aaSeqCDR3 &lt;chr&gt; | V &lt;chr&gt; | J &lt;chr&gt; | MHC.A &lt;chr&gt; | MHC.B &lt;chr&gt; | MHC.class &lt;chr&gt; | Epitope &lt;chr&gt; | Epitope.gene &lt;chr&gt; | Epitope.species &lt;chr&gt; | Reference &lt;chr&gt; |\n",
       "|---|---|---|---|---|---|---|---|---|---|---|---|---|\n",
       "| 1 | 0 | TRB | CAISGQAVSTDTQYF | TRBV10-3*01 | TRBJ2-3*01 | HLA-A*02    | NA | MHCI | KLVALGINAV | NS3   | HCV | PMID:27252176 |\n",
       "| 2 | 0 | TRB | CASDSNTEAFF     | TRBV25-1*01 | TRBJ1-1*01 | HLA-A*02    | NA | MHCI | KLVALGINAV | NS3   | HCV | PMID:27252176 |\n",
       "| 3 | 0 | TRB | CASGWGSQPQHF    | TRBV7-9*01  | TRBJ1-5*01 | HLA-A*11:01 | NA | MHCI | AVFDRKSDAK | EBNA4 | EBV | PMID:23267020 |\n",
       "| 4 | 0 | TRB | CASKGQGARDGYTF  | TRBV6-6*01  | TRBJ1-2*01 | HLA-B*35:01 | NA | MHCI | IPSINVHHY  | pp65  | CMV | PMID:23267020 |\n",
       "| 5 | 0 | TRB | CASKMRGDVYEQYF  | TRBV18*01   | TRBJ2-7*01 | HLA-B*08:01 | NA | MHCI | RAKFKQLL   | BZLF1 | EBV | PMID:23267020 |\n",
       "| 6 | 0 | TRB | CASMGNSAGANVLTF | TRBV10-1*01 | TRBJ2-6*01 | HLA-A*02    | NA | MHCI | NLVPMVATV  | pp65  | CMV | PMID:9971792  |\n",
       "\n"
      ],
      "text/plain": [
       "  complex.id Gene aaSeqCDR3       V           J          MHC.A       MHC.B\n",
       "1 0          TRB  CAISGQAVSTDTQYF TRBV10-3*01 TRBJ2-3*01 HLA-A*02    NA   \n",
       "2 0          TRB  CASDSNTEAFF     TRBV25-1*01 TRBJ1-1*01 HLA-A*02    NA   \n",
       "3 0          TRB  CASGWGSQPQHF    TRBV7-9*01  TRBJ1-5*01 HLA-A*11:01 NA   \n",
       "4 0          TRB  CASKGQGARDGYTF  TRBV6-6*01  TRBJ1-2*01 HLA-B*35:01 NA   \n",
       "5 0          TRB  CASKMRGDVYEQYF  TRBV18*01   TRBJ2-7*01 HLA-B*08:01 NA   \n",
       "6 0          TRB  CASMGNSAGANVLTF TRBV10-1*01 TRBJ2-6*01 HLA-A*02    NA   \n",
       "  MHC.class Epitope    Epitope.gene Epitope.species Reference    \n",
       "1 MHCI      KLVALGINAV NS3          HCV             PMID:27252176\n",
       "2 MHCI      KLVALGINAV NS3          HCV             PMID:27252176\n",
       "3 MHCI      AVFDRKSDAK EBNA4        EBV             PMID:23267020\n",
       "4 MHCI      IPSINVHHY  pp65         CMV             PMID:23267020\n",
       "5 MHCI      RAKFKQLL   BZLF1        EBV             PMID:23267020\n",
       "6 MHCI      NLVPMVATV  pp65         CMV             PMID:9971792 "
      ]
     },
     "metadata": {},
     "output_type": "display_data"
    }
   ],
   "source": [
    "head(VDJdb_tcr)"
   ]
  },
  {
   "cell_type": "code",
   "execution_count": 36,
   "metadata": {
    "vscode": {
     "languageId": "r"
    }
   },
   "outputs": [],
   "source": [
    "VDJdb_tcr$`subject:condition` <- paste0(\"VDJdb:\",VDJdb_tcr$Epitope.gene,\"_\", VDJdb_tcr$Epitope.species)\n",
    "VDJdb_tcr$count <- 1\n",
    "VDJdb_tcr$clonefraction <- 1\n",
    "VDJdb_tcr$subject <- \"VDJdb\"\n",
    "VDJdb_tcr$file <- \"VDJdb_MinimalScoreConfidence3.tsv\"\n",
    "VDJdb_tcr$index <- 1:nrow(VDJdb_tcr)"
   ]
  },
  {
   "cell_type": "code",
   "execution_count": 37,
   "metadata": {
    "vscode": {
     "languageId": "r"
    }
   },
   "outputs": [],
   "source": [
    "VDJdb_tcr_cleanup <- VDJdb_tcr[, c(\"aaSeqCDR3\", \"V\", \"J\", \"subject:condition\", \"count\", \n",
    "                                   \"clonefraction\", \"subject\", \"file\", \"index\")]"
   ]
  },
  {
   "cell_type": "code",
   "execution_count": 38,
   "metadata": {
    "vscode": {
     "languageId": "r"
    }
   },
   "outputs": [
    {
     "data": {
      "text/html": [
       "<table class=\"dataframe\">\n",
       "<caption>A data.frame: 6 x 9</caption>\n",
       "<thead>\n",
       "\t<tr><th></th><th scope=col>aaSeqCDR3</th><th scope=col>V</th><th scope=col>J</th><th scope=col>subject:condition</th><th scope=col>count</th><th scope=col>clonefraction</th><th scope=col>subject</th><th scope=col>file</th><th scope=col>index</th></tr>\n",
       "\t<tr><th></th><th scope=col>&lt;chr&gt;</th><th scope=col>&lt;chr&gt;</th><th scope=col>&lt;chr&gt;</th><th scope=col>&lt;chr&gt;</th><th scope=col>&lt;dbl&gt;</th><th scope=col>&lt;dbl&gt;</th><th scope=col>&lt;chr&gt;</th><th scope=col>&lt;chr&gt;</th><th scope=col>&lt;int&gt;</th></tr>\n",
       "</thead>\n",
       "<tbody>\n",
       "\t<tr><th scope=row>1</th><td>CAISGQAVSTDTQYF</td><td>TRBV10-3*01</td><td>TRBJ2-3*01</td><td>VDJdb:NS3_HCV  </td><td>1</td><td>1</td><td>VDJdb</td><td>VDJdb_MinimalScoreConfidence3.tsv</td><td>1</td></tr>\n",
       "\t<tr><th scope=row>2</th><td>CASDSNTEAFF    </td><td>TRBV25-1*01</td><td>TRBJ1-1*01</td><td>VDJdb:NS3_HCV  </td><td>1</td><td>1</td><td>VDJdb</td><td>VDJdb_MinimalScoreConfidence3.tsv</td><td>2</td></tr>\n",
       "\t<tr><th scope=row>3</th><td>CASGWGSQPQHF   </td><td>TRBV7-9*01 </td><td>TRBJ1-5*01</td><td>VDJdb:EBNA4_EBV</td><td>1</td><td>1</td><td>VDJdb</td><td>VDJdb_MinimalScoreConfidence3.tsv</td><td>3</td></tr>\n",
       "\t<tr><th scope=row>4</th><td>CASKGQGARDGYTF </td><td>TRBV6-6*01 </td><td>TRBJ1-2*01</td><td>VDJdb:pp65_CMV </td><td>1</td><td>1</td><td>VDJdb</td><td>VDJdb_MinimalScoreConfidence3.tsv</td><td>4</td></tr>\n",
       "\t<tr><th scope=row>5</th><td>CASKMRGDVYEQYF </td><td>TRBV18*01  </td><td>TRBJ2-7*01</td><td>VDJdb:BZLF1_EBV</td><td>1</td><td>1</td><td>VDJdb</td><td>VDJdb_MinimalScoreConfidence3.tsv</td><td>5</td></tr>\n",
       "\t<tr><th scope=row>6</th><td>CASMGNSAGANVLTF</td><td>TRBV10-1*01</td><td>TRBJ2-6*01</td><td>VDJdb:pp65_CMV </td><td>1</td><td>1</td><td>VDJdb</td><td>VDJdb_MinimalScoreConfidence3.tsv</td><td>6</td></tr>\n",
       "</tbody>\n",
       "</table>\n"
      ],
      "text/latex": [
       "A data.frame: 6 x 9\n",
       "\\begin{tabular}{r|lllllllll}\n",
       "  & aaSeqCDR3 & V & J & subject:condition & count & clonefraction & subject & file & index\\\\\n",
       "  & <chr> & <chr> & <chr> & <chr> & <dbl> & <dbl> & <chr> & <chr> & <int>\\\\\n",
       "\\hline\n",
       "\t1 & CAISGQAVSTDTQYF & TRBV10-3*01 & TRBJ2-3*01 & VDJdb:NS3\\_HCV   & 1 & 1 & VDJdb & VDJdb\\_MinimalScoreConfidence3.tsv & 1\\\\\n",
       "\t2 & CASDSNTEAFF     & TRBV25-1*01 & TRBJ1-1*01 & VDJdb:NS3\\_HCV   & 1 & 1 & VDJdb & VDJdb\\_MinimalScoreConfidence3.tsv & 2\\\\\n",
       "\t3 & CASGWGSQPQHF    & TRBV7-9*01  & TRBJ1-5*01 & VDJdb:EBNA4\\_EBV & 1 & 1 & VDJdb & VDJdb\\_MinimalScoreConfidence3.tsv & 3\\\\\n",
       "\t4 & CASKGQGARDGYTF  & TRBV6-6*01  & TRBJ1-2*01 & VDJdb:pp65\\_CMV  & 1 & 1 & VDJdb & VDJdb\\_MinimalScoreConfidence3.tsv & 4\\\\\n",
       "\t5 & CASKMRGDVYEQYF  & TRBV18*01   & TRBJ2-7*01 & VDJdb:BZLF1\\_EBV & 1 & 1 & VDJdb & VDJdb\\_MinimalScoreConfidence3.tsv & 5\\\\\n",
       "\t6 & CASMGNSAGANVLTF & TRBV10-1*01 & TRBJ2-6*01 & VDJdb:pp65\\_CMV  & 1 & 1 & VDJdb & VDJdb\\_MinimalScoreConfidence3.tsv & 6\\\\\n",
       "\\end{tabular}\n"
      ],
      "text/markdown": [
       "\n",
       "A data.frame: 6 x 9\n",
       "\n",
       "| <!--/--> | aaSeqCDR3 &lt;chr&gt; | V &lt;chr&gt; | J &lt;chr&gt; | subject:condition &lt;chr&gt; | count &lt;dbl&gt; | clonefraction &lt;dbl&gt; | subject &lt;chr&gt; | file &lt;chr&gt; | index &lt;int&gt; |\n",
       "|---|---|---|---|---|---|---|---|---|---|\n",
       "| 1 | CAISGQAVSTDTQYF | TRBV10-3*01 | TRBJ2-3*01 | VDJdb:NS3_HCV   | 1 | 1 | VDJdb | VDJdb_MinimalScoreConfidence3.tsv | 1 |\n",
       "| 2 | CASDSNTEAFF     | TRBV25-1*01 | TRBJ1-1*01 | VDJdb:NS3_HCV   | 1 | 1 | VDJdb | VDJdb_MinimalScoreConfidence3.tsv | 2 |\n",
       "| 3 | CASGWGSQPQHF    | TRBV7-9*01  | TRBJ1-5*01 | VDJdb:EBNA4_EBV | 1 | 1 | VDJdb | VDJdb_MinimalScoreConfidence3.tsv | 3 |\n",
       "| 4 | CASKGQGARDGYTF  | TRBV6-6*01  | TRBJ1-2*01 | VDJdb:pp65_CMV  | 1 | 1 | VDJdb | VDJdb_MinimalScoreConfidence3.tsv | 4 |\n",
       "| 5 | CASKMRGDVYEQYF  | TRBV18*01   | TRBJ2-7*01 | VDJdb:BZLF1_EBV | 1 | 1 | VDJdb | VDJdb_MinimalScoreConfidence3.tsv | 5 |\n",
       "| 6 | CASMGNSAGANVLTF | TRBV10-1*01 | TRBJ2-6*01 | VDJdb:pp65_CMV  | 1 | 1 | VDJdb | VDJdb_MinimalScoreConfidence3.tsv | 6 |\n",
       "\n"
      ],
      "text/plain": [
       "  aaSeqCDR3       V           J          subject:condition count clonefraction\n",
       "1 CAISGQAVSTDTQYF TRBV10-3*01 TRBJ2-3*01 VDJdb:NS3_HCV     1     1            \n",
       "2 CASDSNTEAFF     TRBV25-1*01 TRBJ1-1*01 VDJdb:NS3_HCV     1     1            \n",
       "3 CASGWGSQPQHF    TRBV7-9*01  TRBJ1-5*01 VDJdb:EBNA4_EBV   1     1            \n",
       "4 CASKGQGARDGYTF  TRBV6-6*01  TRBJ1-2*01 VDJdb:pp65_CMV    1     1            \n",
       "5 CASKMRGDVYEQYF  TRBV18*01   TRBJ2-7*01 VDJdb:BZLF1_EBV   1     1            \n",
       "6 CASMGNSAGANVLTF TRBV10-1*01 TRBJ2-6*01 VDJdb:pp65_CMV    1     1            \n",
       "  subject file                              index\n",
       "1 VDJdb   VDJdb_MinimalScoreConfidence3.tsv 1    \n",
       "2 VDJdb   VDJdb_MinimalScoreConfidence3.tsv 2    \n",
       "3 VDJdb   VDJdb_MinimalScoreConfidence3.tsv 3    \n",
       "4 VDJdb   VDJdb_MinimalScoreConfidence3.tsv 4    \n",
       "5 VDJdb   VDJdb_MinimalScoreConfidence3.tsv 5    \n",
       "6 VDJdb   VDJdb_MinimalScoreConfidence3.tsv 6    "
      ]
     },
     "metadata": {},
     "output_type": "display_data"
    }
   ],
   "source": [
    "head(VDJdb_tcr_cleanup)"
   ]
  },
  {
   "cell_type": "code",
   "execution_count": 39,
   "metadata": {
    "vscode": {
     "languageId": "r"
    }
   },
   "outputs": [],
   "source": [
    "colnames(VDJdb_tcr_cleanup)[1:3] <- c('CDR3b', 'TRBV', 'TRBJ')"
   ]
  },
  {
   "cell_type": "code",
   "execution_count": 40,
   "metadata": {
    "vscode": {
     "languageId": "r"
    }
   },
   "outputs": [],
   "source": [
    "VDJdb_tcr_cleanup$TRBV <- gsub(\"[*]0.*\", \"\", VDJdb_tcr_cleanup$TRBV)\n",
    "VDJdb_tcr_cleanup$TRBJ <- gsub(\"[*]0.*\", \"\", VDJdb_tcr_cleanup$TRBJ)"
   ]
  },
  {
   "cell_type": "code",
   "execution_count": 41,
   "metadata": {
    "vscode": {
     "languageId": "r"
    }
   },
   "outputs": [
    {
     "data": {
      "text/html": [
       "<table class=\"dataframe\">\n",
       "<caption>A data.frame: 6 x 9</caption>\n",
       "<thead>\n",
       "\t<tr><th></th><th scope=col>CDR3b</th><th scope=col>TRBV</th><th scope=col>TRBJ</th><th scope=col>subject:condition</th><th scope=col>count</th><th scope=col>clonefraction</th><th scope=col>subject</th><th scope=col>file</th><th scope=col>index</th></tr>\n",
       "\t<tr><th></th><th scope=col>&lt;chr&gt;</th><th scope=col>&lt;chr&gt;</th><th scope=col>&lt;chr&gt;</th><th scope=col>&lt;chr&gt;</th><th scope=col>&lt;dbl&gt;</th><th scope=col>&lt;dbl&gt;</th><th scope=col>&lt;chr&gt;</th><th scope=col>&lt;chr&gt;</th><th scope=col>&lt;int&gt;</th></tr>\n",
       "</thead>\n",
       "<tbody>\n",
       "\t<tr><th scope=row>1</th><td>CAISGQAVSTDTQYF</td><td>TRBV10-3</td><td>TRBJ2-3</td><td>VDJdb:NS3_HCV  </td><td>1</td><td>1</td><td>VDJdb</td><td>VDJdb_MinimalScoreConfidence3.tsv</td><td>1</td></tr>\n",
       "\t<tr><th scope=row>2</th><td>CASDSNTEAFF    </td><td>TRBV25-1</td><td>TRBJ1-1</td><td>VDJdb:NS3_HCV  </td><td>1</td><td>1</td><td>VDJdb</td><td>VDJdb_MinimalScoreConfidence3.tsv</td><td>2</td></tr>\n",
       "\t<tr><th scope=row>3</th><td>CASGWGSQPQHF   </td><td>TRBV7-9 </td><td>TRBJ1-5</td><td>VDJdb:EBNA4_EBV</td><td>1</td><td>1</td><td>VDJdb</td><td>VDJdb_MinimalScoreConfidence3.tsv</td><td>3</td></tr>\n",
       "\t<tr><th scope=row>4</th><td>CASKGQGARDGYTF </td><td>TRBV6-6 </td><td>TRBJ1-2</td><td>VDJdb:pp65_CMV </td><td>1</td><td>1</td><td>VDJdb</td><td>VDJdb_MinimalScoreConfidence3.tsv</td><td>4</td></tr>\n",
       "\t<tr><th scope=row>5</th><td>CASKMRGDVYEQYF </td><td>TRBV18  </td><td>TRBJ2-7</td><td>VDJdb:BZLF1_EBV</td><td>1</td><td>1</td><td>VDJdb</td><td>VDJdb_MinimalScoreConfidence3.tsv</td><td>5</td></tr>\n",
       "\t<tr><th scope=row>6</th><td>CASMGNSAGANVLTF</td><td>TRBV10-1</td><td>TRBJ2-6</td><td>VDJdb:pp65_CMV </td><td>1</td><td>1</td><td>VDJdb</td><td>VDJdb_MinimalScoreConfidence3.tsv</td><td>6</td></tr>\n",
       "</tbody>\n",
       "</table>\n"
      ],
      "text/latex": [
       "A data.frame: 6 x 9\n",
       "\\begin{tabular}{r|lllllllll}\n",
       "  & CDR3b & TRBV & TRBJ & subject:condition & count & clonefraction & subject & file & index\\\\\n",
       "  & <chr> & <chr> & <chr> & <chr> & <dbl> & <dbl> & <chr> & <chr> & <int>\\\\\n",
       "\\hline\n",
       "\t1 & CAISGQAVSTDTQYF & TRBV10-3 & TRBJ2-3 & VDJdb:NS3\\_HCV   & 1 & 1 & VDJdb & VDJdb\\_MinimalScoreConfidence3.tsv & 1\\\\\n",
       "\t2 & CASDSNTEAFF     & TRBV25-1 & TRBJ1-1 & VDJdb:NS3\\_HCV   & 1 & 1 & VDJdb & VDJdb\\_MinimalScoreConfidence3.tsv & 2\\\\\n",
       "\t3 & CASGWGSQPQHF    & TRBV7-9  & TRBJ1-5 & VDJdb:EBNA4\\_EBV & 1 & 1 & VDJdb & VDJdb\\_MinimalScoreConfidence3.tsv & 3\\\\\n",
       "\t4 & CASKGQGARDGYTF  & TRBV6-6  & TRBJ1-2 & VDJdb:pp65\\_CMV  & 1 & 1 & VDJdb & VDJdb\\_MinimalScoreConfidence3.tsv & 4\\\\\n",
       "\t5 & CASKMRGDVYEQYF  & TRBV18   & TRBJ2-7 & VDJdb:BZLF1\\_EBV & 1 & 1 & VDJdb & VDJdb\\_MinimalScoreConfidence3.tsv & 5\\\\\n",
       "\t6 & CASMGNSAGANVLTF & TRBV10-1 & TRBJ2-6 & VDJdb:pp65\\_CMV  & 1 & 1 & VDJdb & VDJdb\\_MinimalScoreConfidence3.tsv & 6\\\\\n",
       "\\end{tabular}\n"
      ],
      "text/markdown": [
       "\n",
       "A data.frame: 6 x 9\n",
       "\n",
       "| <!--/--> | CDR3b &lt;chr&gt; | TRBV &lt;chr&gt; | TRBJ &lt;chr&gt; | subject:condition &lt;chr&gt; | count &lt;dbl&gt; | clonefraction &lt;dbl&gt; | subject &lt;chr&gt; | file &lt;chr&gt; | index &lt;int&gt; |\n",
       "|---|---|---|---|---|---|---|---|---|---|\n",
       "| 1 | CAISGQAVSTDTQYF | TRBV10-3 | TRBJ2-3 | VDJdb:NS3_HCV   | 1 | 1 | VDJdb | VDJdb_MinimalScoreConfidence3.tsv | 1 |\n",
       "| 2 | CASDSNTEAFF     | TRBV25-1 | TRBJ1-1 | VDJdb:NS3_HCV   | 1 | 1 | VDJdb | VDJdb_MinimalScoreConfidence3.tsv | 2 |\n",
       "| 3 | CASGWGSQPQHF    | TRBV7-9  | TRBJ1-5 | VDJdb:EBNA4_EBV | 1 | 1 | VDJdb | VDJdb_MinimalScoreConfidence3.tsv | 3 |\n",
       "| 4 | CASKGQGARDGYTF  | TRBV6-6  | TRBJ1-2 | VDJdb:pp65_CMV  | 1 | 1 | VDJdb | VDJdb_MinimalScoreConfidence3.tsv | 4 |\n",
       "| 5 | CASKMRGDVYEQYF  | TRBV18   | TRBJ2-7 | VDJdb:BZLF1_EBV | 1 | 1 | VDJdb | VDJdb_MinimalScoreConfidence3.tsv | 5 |\n",
       "| 6 | CASMGNSAGANVLTF | TRBV10-1 | TRBJ2-6 | VDJdb:pp65_CMV  | 1 | 1 | VDJdb | VDJdb_MinimalScoreConfidence3.tsv | 6 |\n",
       "\n"
      ],
      "text/plain": [
       "  CDR3b           TRBV     TRBJ    subject:condition count clonefraction\n",
       "1 CAISGQAVSTDTQYF TRBV10-3 TRBJ2-3 VDJdb:NS3_HCV     1     1            \n",
       "2 CASDSNTEAFF     TRBV25-1 TRBJ1-1 VDJdb:NS3_HCV     1     1            \n",
       "3 CASGWGSQPQHF    TRBV7-9  TRBJ1-5 VDJdb:EBNA4_EBV   1     1            \n",
       "4 CASKGQGARDGYTF  TRBV6-6  TRBJ1-2 VDJdb:pp65_CMV    1     1            \n",
       "5 CASKMRGDVYEQYF  TRBV18   TRBJ2-7 VDJdb:BZLF1_EBV   1     1            \n",
       "6 CASMGNSAGANVLTF TRBV10-1 TRBJ2-6 VDJdb:pp65_CMV    1     1            \n",
       "  subject file                              index\n",
       "1 VDJdb   VDJdb_MinimalScoreConfidence3.tsv 1    \n",
       "2 VDJdb   VDJdb_MinimalScoreConfidence3.tsv 2    \n",
       "3 VDJdb   VDJdb_MinimalScoreConfidence3.tsv 3    \n",
       "4 VDJdb   VDJdb_MinimalScoreConfidence3.tsv 4    \n",
       "5 VDJdb   VDJdb_MinimalScoreConfidence3.tsv 5    \n",
       "6 VDJdb   VDJdb_MinimalScoreConfidence3.tsv 6    "
      ]
     },
     "metadata": {},
     "output_type": "display_data"
    }
   ],
   "source": [
    "head(VDJdb_tcr_cleanup)"
   ]
  },
  {
   "cell_type": "code",
   "execution_count": 42,
   "metadata": {
    "vscode": {
     "languageId": "r"
    }
   },
   "outputs": [],
   "source": [
    "readr::write_rds(VDJdb_tcr_cleanup, file = paste0(datapath, \"capTCRseq/VDJdb_tcr_cleanup.rds\"))"
   ]
  },
  {
   "cell_type": "code",
   "execution_count": 188,
   "metadata": {
    "vscode": {
     "languageId": "r"
    }
   },
   "outputs": [],
   "source": [
    "readr::read_rds(file = paste0(datapath, \"capTCRseq/VDJdb_tcr_cleanup.rds\"))"
   ]
  },
  {
   "cell_type": "code",
   "execution_count": 189,
   "metadata": {
    "vscode": {
     "languageId": "r"
    }
   },
   "outputs": [],
   "source": [
    "#save(VDJdb_tcr_cleanup, \n",
    "#     file = \"/Users/anabbi/Desktop/H4H/INTERCEPT/Adaptive/tsv_cleanup/gliphinput/VDJdb_tcr_cleanup.RData\")"
   ]
  },
  {
   "cell_type": "markdown",
   "metadata": {},
   "source": [
    "## Cleanup Adaptive data"
   ]
  },
  {
   "cell_type": "markdown",
   "metadata": {},
   "source": [
    "get a list of files"
   ]
  },
  {
   "cell_type": "code",
   "execution_count": 17,
   "metadata": {
    "vscode": {
     "languageId": "r"
    }
   },
   "outputs": [],
   "source": [
    "file_list <- list.files(\"/Users/anabbi/Desktop/H4H/projects/INTERCEPT/Adaptive/\", \n",
    "                        pattern = \".tsv\", full.names = T, recursive = T)"
   ]
  },
  {
   "cell_type": "code",
   "execution_count": 19,
   "metadata": {
    "vscode": {
     "languageId": "r"
    }
   },
   "outputs": [],
   "source": [
    "file_list <- file_list[ !grepl(\"SampleOverview\", file_list)]"
   ]
  },
  {
   "cell_type": "code",
   "execution_count": 21,
   "metadata": {
    "vscode": {
     "languageId": "r"
    }
   },
   "outputs": [],
   "source": [
    "file_list1 <- list.files(\"/Users/anabbi/Desktop/H4H/pughlab/external_data/Adaptive/emerson2017\", \n",
    "                        pattern = \".tsv\", full.names = T, recursive = T)"
   ]
  },
  {
   "cell_type": "code",
   "execution_count": 22,
   "metadata": {
    "vscode": {
     "languageId": "r"
    }
   },
   "outputs": [],
   "source": [
    "file_list1 <- file_list1[ !grepl(\"SampleOverview\", file_list1)]"
   ]
  },
  {
   "cell_type": "code",
   "execution_count": 23,
   "metadata": {
    "vscode": {
     "languageId": "r"
    }
   },
   "outputs": [],
   "source": [
    "allfiles <- c(file_list, file_list1)"
   ]
  },
  {
   "cell_type": "markdown",
   "metadata": {},
   "source": [
    "take out files starting with Keck in emerson data and keep for validation"
   ]
  },
  {
   "cell_type": "code",
   "execution_count": 29,
   "metadata": {
    "vscode": {
     "languageId": "r"
    }
   },
   "outputs": [],
   "source": [
    "allfiles <- allfiles[ !grepl(\"Keck\", allfiles)]\n",
    "allfiles <- allfiles[ !grepl(\"Denver\", allfiles)]"
   ]
  },
  {
   "cell_type": "code",
   "execution_count": 135,
   "metadata": {
    "vscode": {
     "languageId": "r"
    }
   },
   "outputs": [],
   "source": [
    "adaptivefiles <- allfiles"
   ]
  },
  {
   "cell_type": "code",
   "execution_count": 136,
   "metadata": {
    "vscode": {
     "languageId": "r"
    }
   },
   "outputs": [
    {
     "data": {
      "text/html": [
       "<style>\n",
       ".list-inline {list-style: none; margin:0; padding: 0}\n",
       ".list-inline>li {display: inline-block}\n",
       ".list-inline>li:not(:last-child)::after {content: \"\\00b7\"; padding: 0 .5ex}\n",
       "</style>\n",
       "<ol class=list-inline><li>'/Users/anabbi/Desktop/H4H/projects/INTERCEPT/Adaptive//Carey_Preterm2017/Adult_1_15-04.tsv'</li><li>'/Users/anabbi/Desktop/H4H/projects/INTERCEPT/Adaptive//Carey_Preterm2017/Adult_2_15-07.tsv'</li><li>'/Users/anabbi/Desktop/H4H/projects/INTERCEPT/Adaptive//Carey_Preterm2017/Adult_3_15-03.tsv'</li><li>'/Users/anabbi/Desktop/H4H/projects/INTERCEPT/Adaptive//Carey_Preterm2017/Adult_4_15-05.tsv'</li><li>'/Users/anabbi/Desktop/H4H/projects/INTERCEPT/Adaptive//Carey_Preterm2017/Adult_5_15-06.tsv'</li><li>'/Users/anabbi/Desktop/H4H/projects/INTERCEPT/Adaptive//Carey_Preterm2017/Cord_1_NWK206.tsv'</li></ol>\n"
      ],
      "text/latex": [
       "\\begin{enumerate*}\n",
       "\\item '/Users/anabbi/Desktop/H4H/projects/INTERCEPT/Adaptive//Carey\\_Preterm2017/Adult\\_1\\_15-04.tsv'\n",
       "\\item '/Users/anabbi/Desktop/H4H/projects/INTERCEPT/Adaptive//Carey\\_Preterm2017/Adult\\_2\\_15-07.tsv'\n",
       "\\item '/Users/anabbi/Desktop/H4H/projects/INTERCEPT/Adaptive//Carey\\_Preterm2017/Adult\\_3\\_15-03.tsv'\n",
       "\\item '/Users/anabbi/Desktop/H4H/projects/INTERCEPT/Adaptive//Carey\\_Preterm2017/Adult\\_4\\_15-05.tsv'\n",
       "\\item '/Users/anabbi/Desktop/H4H/projects/INTERCEPT/Adaptive//Carey\\_Preterm2017/Adult\\_5\\_15-06.tsv'\n",
       "\\item '/Users/anabbi/Desktop/H4H/projects/INTERCEPT/Adaptive//Carey\\_Preterm2017/Cord\\_1\\_NWK206.tsv'\n",
       "\\end{enumerate*}\n"
      ],
      "text/markdown": [
       "1. '/Users/anabbi/Desktop/H4H/projects/INTERCEPT/Adaptive//Carey_Preterm2017/Adult_1_15-04.tsv'\n",
       "2. '/Users/anabbi/Desktop/H4H/projects/INTERCEPT/Adaptive//Carey_Preterm2017/Adult_2_15-07.tsv'\n",
       "3. '/Users/anabbi/Desktop/H4H/projects/INTERCEPT/Adaptive//Carey_Preterm2017/Adult_3_15-03.tsv'\n",
       "4. '/Users/anabbi/Desktop/H4H/projects/INTERCEPT/Adaptive//Carey_Preterm2017/Adult_4_15-05.tsv'\n",
       "5. '/Users/anabbi/Desktop/H4H/projects/INTERCEPT/Adaptive//Carey_Preterm2017/Adult_5_15-06.tsv'\n",
       "6. '/Users/anabbi/Desktop/H4H/projects/INTERCEPT/Adaptive//Carey_Preterm2017/Cord_1_NWK206.tsv'\n",
       "\n",
       "\n"
      ],
      "text/plain": [
       "[1] \"/Users/anabbi/Desktop/H4H/projects/INTERCEPT/Adaptive//Carey_Preterm2017/Adult_1_15-04.tsv\"\n",
       "[2] \"/Users/anabbi/Desktop/H4H/projects/INTERCEPT/Adaptive//Carey_Preterm2017/Adult_2_15-07.tsv\"\n",
       "[3] \"/Users/anabbi/Desktop/H4H/projects/INTERCEPT/Adaptive//Carey_Preterm2017/Adult_3_15-03.tsv\"\n",
       "[4] \"/Users/anabbi/Desktop/H4H/projects/INTERCEPT/Adaptive//Carey_Preterm2017/Adult_4_15-05.tsv\"\n",
       "[5] \"/Users/anabbi/Desktop/H4H/projects/INTERCEPT/Adaptive//Carey_Preterm2017/Adult_5_15-06.tsv\"\n",
       "[6] \"/Users/anabbi/Desktop/H4H/projects/INTERCEPT/Adaptive//Carey_Preterm2017/Cord_1_NWK206.tsv\""
      ]
     },
     "metadata": {},
     "output_type": "display_data"
    }
   ],
   "source": [
    "head(adaptivefiles)"
   ]
  },
  {
   "cell_type": "code",
   "execution_count": 137,
   "metadata": {
    "vscode": {
     "languageId": "r"
    }
   },
   "outputs": [],
   "source": [
    "adaptivefiles <- gsub(\"/Users/anabbi/Desktop/H4H/projects/INTERCEPT/Adaptive//\", \n",
    "                      \"/cluster/projects/pughlab/projects/INTERCEPT/Adaptive/\", adaptivefiles)"
   ]
  },
  {
   "cell_type": "code",
   "execution_count": 138,
   "metadata": {
    "vscode": {
     "languageId": "r"
    }
   },
   "outputs": [],
   "source": [
    "adaptivefiles <- gsub(\"/Users/anabbi/Desktop/H4H/pughlab/external_data/\", \n",
    "                     \"/cluster/projects/pughlab/external_data/\", adaptivefiles)"
   ]
  },
  {
   "cell_type": "code",
   "execution_count": 139,
   "metadata": {
    "vscode": {
     "languageId": "r"
    }
   },
   "outputs": [],
   "source": [
    "write.table(adaptivefiles[grepl(\"emerson\", adaptivefiles)], \n",
    "            file = \"/Users/anabbi/Desktop/H4H/INTERCEPT/Adaptive/tsv_cleanup/emersonadaptivefiles.txt\", \n",
    "            row.names = F, quote = F)"
   ]
  },
  {
   "cell_type": "code",
   "execution_count": 92,
   "metadata": {
    "vscode": {
     "languageId": "r"
    }
   },
   "outputs": [],
   "source": [
    "#on h4h\n",
    "clean_adaptive <- function(filename, outpath){\n",
    "    \n",
    "f1 <- read.table(filename, sep = \"\\t\", header = T, stringsAsFactors = F)    \n",
    "\n",
    "    #remove unproductive\n",
    "f1 <- f1[f1$amino_acid != \"\",]\n",
    "f1 <- f1[!grepl(\"[*]\", f1$amino_acid),]\n",
    "f1 <- f1[!grepl(\"_\", f1$amino_acid),]\n",
    "    \n",
    "f1_clean <- f1[, c(\"amino_acid\", \"v_resolved\", \"j_resolved\", \"rearrangement\", \n",
    "                   \"seq_reads\", \"frequency\", \"sample_name\")]\n",
    "#add filename\n",
    "f1_clean$file <- filename    \n",
    "colnames(f1_clean) <- c(\"CDR3b\", \"TRBV\", \"TRBJ\", \"rearrangement\", \"clonecount\", \"clonefraction\", \"sample_id\", \"file\")\n",
    "    \n",
    "    \n",
    "#replaqce TCRB with TRB\n",
    "f1_clean$TRBV <- gsub(\"TCRB\", \"TRB\", f1_clean$TRBV)\n",
    "f1_clean$TRBJ <- gsub(\"TCRB\", \"TRB\", f1_clean$TRBJ)\n",
    "\n",
    "f1_clean$TRBV <- gsub(\"[*].*\", \"\", f1_clean$TRBV)\n",
    "f1_clean$TRBJ <- gsub(\"[*].*\", \"\", f1_clean$TRBJ)\n",
    "    \n",
    "write.table(f1_clean, paste0(outpath, f1_clean$sample_id[1]) , sep = \"\\t\", quote = F, row.names = F)    \n",
    "       \n",
    "}"
   ]
  },
  {
   "cell_type": "markdown",
   "metadata": {},
   "source": [
    "Run on h4h see \"Adaptive/tsv_cleanup\""
   ]
  },
  {
   "cell_type": "markdown",
   "metadata": {},
   "source": [
    "### compile all adaptive files together and cleanup"
   ]
  },
  {
   "cell_type": "markdown",
   "metadata": {},
   "source": [
    "test here, run on h4h"
   ]
  },
  {
   "cell_type": "code",
   "execution_count": 142,
   "metadata": {
    "vscode": {
     "languageId": "r"
    }
   },
   "outputs": [],
   "source": [
    "myfilelist <- list.files(\"/Users/anabbi/Desktop/H4H/projects/INTERCEPT/Adaptive/tsv_cleanup/\", \n",
    "                        pattern = \".txt\", full.names = T, recursive = T)"
   ]
  },
  {
   "cell_type": "code",
   "execution_count": 155,
   "metadata": {
    "vscode": {
     "languageId": "r"
    }
   },
   "outputs": [],
   "source": [
    "myfilelist <- myfilelist[!grepl(\"files\", myfilelist)]"
   ]
  },
  {
   "cell_type": "code",
   "execution_count": 161,
   "metadata": {
    "vscode": {
     "languageId": "r"
    }
   },
   "outputs": [
    {
     "data": {
      "text/html": [
       "<style>\n",
       ".list-inline {list-style: none; margin:0; padding: 0}\n",
       ".list-inline>li {display: inline-block}\n",
       ".list-inline>li:not(:last-child)::after {content: \"\\00b7\"; padding: 0 .5ex}\n",
       "</style>\n",
       "<ol class=list-inline><li>'/Users/anabbi/Desktop/H4H/projects/INTERCEPT/Adaptive/tsv_cleanup//Carey_Preterm2017/Adult_1_15-04.txt'</li><li>'/Users/anabbi/Desktop/H4H/projects/INTERCEPT/Adaptive/tsv_cleanup//Carey_Preterm2017/Adult_2_15-07.txt'</li><li>'/Users/anabbi/Desktop/H4H/projects/INTERCEPT/Adaptive/tsv_cleanup//Carey_Preterm2017/Adult_3_15-03.txt'</li><li>'/Users/anabbi/Desktop/H4H/projects/INTERCEPT/Adaptive/tsv_cleanup//Carey_Preterm2017/Adult_4_15-05.txt'</li><li>'/Users/anabbi/Desktop/H4H/projects/INTERCEPT/Adaptive/tsv_cleanup//Carey_Preterm2017/Adult_5_15-06.txt'</li><li>'/Users/anabbi/Desktop/H4H/projects/INTERCEPT/Adaptive/tsv_cleanup//Carey_Preterm2017/Cord_1_NWK206.txt'</li></ol>\n"
      ],
      "text/latex": [
       "\\begin{enumerate*}\n",
       "\\item '/Users/anabbi/Desktop/H4H/projects/INTERCEPT/Adaptive/tsv\\_cleanup//Carey\\_Preterm2017/Adult\\_1\\_15-04.txt'\n",
       "\\item '/Users/anabbi/Desktop/H4H/projects/INTERCEPT/Adaptive/tsv\\_cleanup//Carey\\_Preterm2017/Adult\\_2\\_15-07.txt'\n",
       "\\item '/Users/anabbi/Desktop/H4H/projects/INTERCEPT/Adaptive/tsv\\_cleanup//Carey\\_Preterm2017/Adult\\_3\\_15-03.txt'\n",
       "\\item '/Users/anabbi/Desktop/H4H/projects/INTERCEPT/Adaptive/tsv\\_cleanup//Carey\\_Preterm2017/Adult\\_4\\_15-05.txt'\n",
       "\\item '/Users/anabbi/Desktop/H4H/projects/INTERCEPT/Adaptive/tsv\\_cleanup//Carey\\_Preterm2017/Adult\\_5\\_15-06.txt'\n",
       "\\item '/Users/anabbi/Desktop/H4H/projects/INTERCEPT/Adaptive/tsv\\_cleanup//Carey\\_Preterm2017/Cord\\_1\\_NWK206.txt'\n",
       "\\end{enumerate*}\n"
      ],
      "text/markdown": [
       "1. '/Users/anabbi/Desktop/H4H/projects/INTERCEPT/Adaptive/tsv_cleanup//Carey_Preterm2017/Adult_1_15-04.txt'\n",
       "2. '/Users/anabbi/Desktop/H4H/projects/INTERCEPT/Adaptive/tsv_cleanup//Carey_Preterm2017/Adult_2_15-07.txt'\n",
       "3. '/Users/anabbi/Desktop/H4H/projects/INTERCEPT/Adaptive/tsv_cleanup//Carey_Preterm2017/Adult_3_15-03.txt'\n",
       "4. '/Users/anabbi/Desktop/H4H/projects/INTERCEPT/Adaptive/tsv_cleanup//Carey_Preterm2017/Adult_4_15-05.txt'\n",
       "5. '/Users/anabbi/Desktop/H4H/projects/INTERCEPT/Adaptive/tsv_cleanup//Carey_Preterm2017/Adult_5_15-06.txt'\n",
       "6. '/Users/anabbi/Desktop/H4H/projects/INTERCEPT/Adaptive/tsv_cleanup//Carey_Preterm2017/Cord_1_NWK206.txt'\n",
       "\n",
       "\n"
      ],
      "text/plain": [
       "[1] \"/Users/anabbi/Desktop/H4H/projects/INTERCEPT/Adaptive/tsv_cleanup//Carey_Preterm2017/Adult_1_15-04.txt\"\n",
       "[2] \"/Users/anabbi/Desktop/H4H/projects/INTERCEPT/Adaptive/tsv_cleanup//Carey_Preterm2017/Adult_2_15-07.txt\"\n",
       "[3] \"/Users/anabbi/Desktop/H4H/projects/INTERCEPT/Adaptive/tsv_cleanup//Carey_Preterm2017/Adult_3_15-03.txt\"\n",
       "[4] \"/Users/anabbi/Desktop/H4H/projects/INTERCEPT/Adaptive/tsv_cleanup//Carey_Preterm2017/Adult_4_15-05.txt\"\n",
       "[5] \"/Users/anabbi/Desktop/H4H/projects/INTERCEPT/Adaptive/tsv_cleanup//Carey_Preterm2017/Adult_5_15-06.txt\"\n",
       "[6] \"/Users/anabbi/Desktop/H4H/projects/INTERCEPT/Adaptive/tsv_cleanup//Carey_Preterm2017/Cord_1_NWK206.txt\""
      ]
     },
     "metadata": {},
     "output_type": "display_data"
    }
   ],
   "source": [
    "head(myfilelist)"
   ]
  },
  {
   "cell_type": "code",
   "execution_count": 157,
   "metadata": {
    "vscode": {
     "languageId": "r"
    }
   },
   "outputs": [],
   "source": [
    "mylst <- lapply(myfilelist[1:3], function(x){\n",
    "    read.table(x, sep = \"\\t\", header = T)\n",
    "})"
   ]
  },
  {
   "cell_type": "code",
   "execution_count": 159,
   "metadata": {
    "scrolled": false,
    "vscode": {
     "languageId": "r"
    }
   },
   "outputs": [],
   "source": [
    "mydf <- do.call(\"rbind\", mylst)"
   ]
  },
  {
   "cell_type": "code",
   "execution_count": 165,
   "metadata": {
    "vscode": {
     "languageId": "r"
    }
   },
   "outputs": [],
   "source": [
    "#cleanup\n",
    "mydf$rearrangement <- NULL\n",
    "mydf$`subject:condition` <- mydf$sample_id\n",
    "mydf$subject <- mydf$sample_id\n",
    "mydf$sample_id <- NULL\n",
    "mydf$index <- 1:nrow(mydf)"
   ]
  },
  {
   "cell_type": "code",
   "execution_count": 171,
   "metadata": {
    "vscode": {
     "languageId": "r"
    }
   },
   "outputs": [],
   "source": [
    "#order\n",
    "mydf <- mydf[,c(\"CDR3b\", \"TRBV\", \"TRBJ\", \"subject:condition\", \"clonecount\", \n",
    "               \"clonefraction\", \"subject\", \"file\", \"index\")]"
   ]
  },
  {
   "cell_type": "code",
   "execution_count": 174,
   "metadata": {
    "vscode": {
     "languageId": "r"
    }
   },
   "outputs": [],
   "source": [
    "colnames(mydf)[ colnames(mydf) == \"clonecount\"] <- \"count\""
   ]
  },
  {
   "cell_type": "code",
   "execution_count": 179,
   "metadata": {
    "vscode": {
     "languageId": "r"
    }
   },
   "outputs": [],
   "source": [
    "mydf$`subject:condition` <- paste(mydf$subject, \":\", mydf$index, sep = \"\")"
   ]
  },
  {
   "cell_type": "markdown",
   "metadata": {},
   "source": [
    "#save, then rbind with tabal and vdjdb, bind index with subject to create subject:condition, \n"
   ]
  },
  {
   "cell_type": "code",
   "execution_count": null,
   "metadata": {
    "vscode": {
     "languageId": "r"
    }
   },
   "outputs": [],
   "source": []
  },
  {
   "cell_type": "code",
   "execution_count": null,
   "metadata": {
    "vscode": {
     "languageId": "r"
    }
   },
   "outputs": [],
   "source": []
  },
  {
   "attachments": {},
   "cell_type": "markdown",
   "metadata": {},
   "source": [
    "# backup"
   ]
  },
  {
   "cell_type": "code",
   "execution_count": 32,
   "metadata": {
    "vscode": {
     "languageId": "r"
    }
   },
   "outputs": [],
   "source": [
    "#bind those with the same cdr3 + TRBV + TRBJ\n",
    "setDT(covidfle_uniq)\n",
    "\n",
    "ab <- covidfle_uniq[, .(subject = toString(`subject:condition`), #bind subjects\n",
    "                        count = sum(count)),  #get sum of counts\n",
    "                    by = c(\"CDR3b\", \"TRBV\", \"TRBJ\")] #get duplicates sequences with the same cdr3 + TRBV + TRBJ\n",
    "\n",
    "covidfle_uniq_ab <- merge(covidfle_uniq, ab, by = c(\"CDR3b\",\"TRBV\",\"TRBJ\")) # merge together"
   ]
  },
  {
   "cell_type": "code",
   "execution_count": 33,
   "metadata": {
    "vscode": {
     "languageId": "r"
    }
   },
   "outputs": [
    {
     "data": {
      "text/html": [
       "<style>\n",
       ".list-inline {list-style: none; margin:0; padding: 0}\n",
       ".list-inline>li {display: inline-block}\n",
       ".list-inline>li:not(:last-child)::after {content: \"\\00b7\"; padding: 0 .5ex}\n",
       "</style>\n",
       "<ol class=list-inline><li>156033</li><li>7</li></ol>\n"
      ],
      "text/latex": [
       "\\begin{enumerate*}\n",
       "\\item 156033\n",
       "\\item 7\n",
       "\\end{enumerate*}\n"
      ],
      "text/markdown": [
       "1. 156033\n",
       "2. 7\n",
       "\n",
       "\n"
      ],
      "text/plain": [
       "[1] 156033      7"
      ]
     },
     "metadata": {},
     "output_type": "display_data"
    }
   ],
   "source": [
    "dim(covidfle_uniq_ab)"
   ]
  },
  {
   "cell_type": "code",
   "execution_count": 34,
   "metadata": {
    "vscode": {
     "languageId": "r"
    }
   },
   "outputs": [
    {
     "data": {
      "text/html": [
       "<style>\n",
       ".list-inline {list-style: none; margin:0; padding: 0}\n",
       ".list-inline>li {display: inline-block}\n",
       ".list-inline>li:not(:last-child)::after {content: \"\\00b7\"; padding: 0 .5ex}\n",
       "</style>\n",
       "<ol class=list-inline><li>'CDR3b'</li><li>'TRBV'</li><li>'TRBJ'</li><li>'subject:condition'</li><li>'count.x'</li><li>'subject'</li><li>'count.y'</li></ol>\n"
      ],
      "text/latex": [
       "\\begin{enumerate*}\n",
       "\\item 'CDR3b'\n",
       "\\item 'TRBV'\n",
       "\\item 'TRBJ'\n",
       "\\item 'subject:condition'\n",
       "\\item 'count.x'\n",
       "\\item 'subject'\n",
       "\\item 'count.y'\n",
       "\\end{enumerate*}\n"
      ],
      "text/markdown": [
       "1. 'CDR3b'\n",
       "2. 'TRBV'\n",
       "3. 'TRBJ'\n",
       "4. 'subject:condition'\n",
       "5. 'count.x'\n",
       "6. 'subject'\n",
       "7. 'count.y'\n",
       "\n",
       "\n"
      ],
      "text/plain": [
       "[1] \"CDR3b\"             \"TRBV\"              \"TRBJ\"             \n",
       "[4] \"subject:condition\" \"count.x\"           \"subject\"          \n",
       "[7] \"count.y\"          "
      ]
     },
     "metadata": {},
     "output_type": "display_data"
    }
   ],
   "source": [
    "colnames(covidfle_uniq_ab)"
   ]
  },
  {
   "cell_type": "code",
   "execution_count": 35,
   "metadata": {
    "vscode": {
     "languageId": "r"
    }
   },
   "outputs": [],
   "source": [
    "#dedup\n",
    "covidfle_uniq_ab_dedup <- dplyr::distinct(covidfle_uniq_ab, \n",
    "                                          CDR3b, TRBV, TRBJ, subject, .keep_all= TRUE)"
   ]
  },
  {
   "cell_type": "code",
   "execution_count": 36,
   "metadata": {
    "vscode": {
     "languageId": "r"
    }
   },
   "outputs": [
    {
     "data": {
      "text/html": [
       "<table class=\"dataframe\">\n",
       "<caption>A data.table: 6 × 7</caption>\n",
       "<thead>\n",
       "\t<tr><th scope=col>CDR3b</th><th scope=col>TRBV</th><th scope=col>TRBJ</th><th scope=col>subject:condition</th><th scope=col>count.x</th><th scope=col>subject</th><th scope=col>count.y</th></tr>\n",
       "\t<tr><th scope=col>&lt;chr&gt;</th><th scope=col>&lt;chr&gt;</th><th scope=col>&lt;chr&gt;</th><th scope=col>&lt;chr&gt;</th><th scope=col>&lt;int&gt;</th><th scope=col>&lt;chr&gt;</th><th scope=col>&lt;int&gt;</th></tr>\n",
       "</thead>\n",
       "<tbody>\n",
       "\t<tr><td>AGVKITNSYEQYF   </td><td>TCRBV20-X </td><td>TCRBJ02-07</td><td>eHO134</td><td>1</td><td>eHO134</td><td>1</td></tr>\n",
       "\t<tr><td>AKNIQYF         </td><td>TCRBV27-01</td><td>TCRBJ02-04</td><td>eQD126</td><td>1</td><td>eQD126</td><td>1</td></tr>\n",
       "\t<tr><td>APYASKRAGYDNEQFF</td><td>TCRBV06-X </td><td>TCRBJ02-01</td><td>eHO141</td><td>1</td><td>eHO141</td><td>1</td></tr>\n",
       "\t<tr><td>ARLFSGANVLTF    </td><td>TCRBV07-02</td><td>TCRBJ02-06</td><td>eXL27 </td><td>1</td><td>eXL27 </td><td>1</td></tr>\n",
       "\t<tr><td>CAAAAPDTQYF     </td><td>TCRBV06-X </td><td>TCRBJ02-03</td><td>eOX46 </td><td>1</td><td>eOX46 </td><td>1</td></tr>\n",
       "\t<tr><td>CAAADRMTDTQYF   </td><td>TCRBV24-01</td><td>TCRBJ02-03</td><td>eHO130</td><td>1</td><td>eHO130</td><td>1</td></tr>\n",
       "</tbody>\n",
       "</table>\n"
      ],
      "text/latex": [
       "A data.table: 6 × 7\n",
       "\\begin{tabular}{lllllll}\n",
       " CDR3b & TRBV & TRBJ & subject:condition & count.x & subject & count.y\\\\\n",
       " <chr> & <chr> & <chr> & <chr> & <int> & <chr> & <int>\\\\\n",
       "\\hline\n",
       "\t AGVKITNSYEQYF    & TCRBV20-X  & TCRBJ02-07 & eHO134 & 1 & eHO134 & 1\\\\\n",
       "\t AKNIQYF          & TCRBV27-01 & TCRBJ02-04 & eQD126 & 1 & eQD126 & 1\\\\\n",
       "\t APYASKRAGYDNEQFF & TCRBV06-X  & TCRBJ02-01 & eHO141 & 1 & eHO141 & 1\\\\\n",
       "\t ARLFSGANVLTF     & TCRBV07-02 & TCRBJ02-06 & eXL27  & 1 & eXL27  & 1\\\\\n",
       "\t CAAAAPDTQYF      & TCRBV06-X  & TCRBJ02-03 & eOX46  & 1 & eOX46  & 1\\\\\n",
       "\t CAAADRMTDTQYF    & TCRBV24-01 & TCRBJ02-03 & eHO130 & 1 & eHO130 & 1\\\\\n",
       "\\end{tabular}\n"
      ],
      "text/markdown": [
       "\n",
       "A data.table: 6 × 7\n",
       "\n",
       "| CDR3b &lt;chr&gt; | TRBV &lt;chr&gt; | TRBJ &lt;chr&gt; | subject:condition &lt;chr&gt; | count.x &lt;int&gt; | subject &lt;chr&gt; | count.y &lt;int&gt; |\n",
       "|---|---|---|---|---|---|---|\n",
       "| AGVKITNSYEQYF    | TCRBV20-X  | TCRBJ02-07 | eHO134 | 1 | eHO134 | 1 |\n",
       "| AKNIQYF          | TCRBV27-01 | TCRBJ02-04 | eQD126 | 1 | eQD126 | 1 |\n",
       "| APYASKRAGYDNEQFF | TCRBV06-X  | TCRBJ02-01 | eHO141 | 1 | eHO141 | 1 |\n",
       "| ARLFSGANVLTF     | TCRBV07-02 | TCRBJ02-06 | eXL27  | 1 | eXL27  | 1 |\n",
       "| CAAAAPDTQYF      | TCRBV06-X  | TCRBJ02-03 | eOX46  | 1 | eOX46  | 1 |\n",
       "| CAAADRMTDTQYF    | TCRBV24-01 | TCRBJ02-03 | eHO130 | 1 | eHO130 | 1 |\n",
       "\n"
      ],
      "text/plain": [
       "  CDR3b            TRBV       TRBJ       subject:condition count.x subject\n",
       "1 AGVKITNSYEQYF    TCRBV20-X  TCRBJ02-07 eHO134            1       eHO134 \n",
       "2 AKNIQYF          TCRBV27-01 TCRBJ02-04 eQD126            1       eQD126 \n",
       "3 APYASKRAGYDNEQFF TCRBV06-X  TCRBJ02-01 eHO141            1       eHO141 \n",
       "4 ARLFSGANVLTF     TCRBV07-02 TCRBJ02-06 eXL27             1       eXL27  \n",
       "5 CAAAAPDTQYF      TCRBV06-X  TCRBJ02-03 eOX46             1       eOX46  \n",
       "6 CAAADRMTDTQYF    TCRBV24-01 TCRBJ02-03 eHO130            1       eHO130 \n",
       "  count.y\n",
       "1 1      \n",
       "2 1      \n",
       "3 1      \n",
       "4 1      \n",
       "5 1      \n",
       "6 1      "
      ]
     },
     "metadata": {},
     "output_type": "display_data"
    }
   ],
   "source": [
    "head(covidfle_uniq_ab_dedup)"
   ]
  },
  {
   "cell_type": "code",
   "execution_count": 40,
   "metadata": {
    "vscode": {
     "languageId": "r"
    }
   },
   "outputs": [
    {
     "data": {
      "text/html": [
       "<style>\n",
       ".list-inline {list-style: none; margin:0; padding: 0}\n",
       ".list-inline>li {display: inline-block}\n",
       ".list-inline>li:not(:last-child)::after {content: \"\\00b7\"; padding: 0 .5ex}\n",
       "</style>\n",
       "<ol class=list-inline><li>148678</li><li>7</li></ol>\n"
      ],
      "text/latex": [
       "\\begin{enumerate*}\n",
       "\\item 148678\n",
       "\\item 7\n",
       "\\end{enumerate*}\n"
      ],
      "text/markdown": [
       "1. 148678\n",
       "2. 7\n",
       "\n",
       "\n"
      ],
      "text/plain": [
       "[1] 148678      7"
      ]
     },
     "metadata": {},
     "output_type": "display_data"
    }
   ],
   "source": [
    "dim(covidfle_uniq_ab_dedup)"
   ]
  },
  {
   "cell_type": "code",
   "execution_count": 38,
   "metadata": {
    "vscode": {
     "languageId": "r"
    }
   },
   "outputs": [],
   "source": [
    "#replaqce TCRB with TRB\n",
    "covidfle_uniq_ab_dedup$TRBV <- gsub(\"TCRB\", \"TRB\", covidfle_uniq_ab_dedup$TRBV)\n",
    "covidfle_uniq_ab_dedup$TRBJ <- gsub(\"TCRB\", \"TRB\", covidfle_uniq_ab_dedup$TRBJ)"
   ]
  },
  {
   "cell_type": "code",
   "execution_count": 41,
   "metadata": {
    "vscode": {
     "languageId": "r"
    }
   },
   "outputs": [
    {
     "data": {
      "text/html": [
       "<table class=\"dataframe\">\n",
       "<caption>A data.table: 6 × 7</caption>\n",
       "<thead>\n",
       "\t<tr><th scope=col>CDR3b</th><th scope=col>TRBV</th><th scope=col>TRBJ</th><th scope=col>subject:condition</th><th scope=col>count.x</th><th scope=col>subject</th><th scope=col>count.y</th></tr>\n",
       "\t<tr><th scope=col>&lt;chr&gt;</th><th scope=col>&lt;chr&gt;</th><th scope=col>&lt;chr&gt;</th><th scope=col>&lt;chr&gt;</th><th scope=col>&lt;int&gt;</th><th scope=col>&lt;chr&gt;</th><th scope=col>&lt;int&gt;</th></tr>\n",
       "</thead>\n",
       "<tbody>\n",
       "\t<tr><td>CASSIRSSYEQYF  </td><td>TRBV19-01      </td><td>TRBJ02-07</td><td>eOX46 </td><td>1</td><td>eOX46, ePD84, eHO128, eHO132, eHO125, ePD83, eHO136, eLH41, eHO124, ePD86, eLH42, eHO130, ePD76, eQD137, eQD123, eMR20, eEE243, eHH173, eHH174, eQD124, eHH169, eEE228, eXL27, eQD115, eXL36, eMR12, eLH47, eDH113, eEE226, eXL37, eDH96, eXL30</td><td>32</td></tr>\n",
       "\t<tr><td>CASSQTGGRNQPQHF</td><td>TRBV12-X       </td><td>TRBJ01-05</td><td>eLH41 </td><td>1</td><td>eLH41, eJL164, eXL31, eHO132, ePD86, eAV88, ePD84, eEE243, eXL37, eQD118, eEE224, eXL27, eMR12, eOX56, eLH47, eMR18, eLH46, eQD136, eOX43, eOX54, ePD76                                                                                        </td><td>21</td></tr>\n",
       "\t<tr><td>CASSLAGAYEQYF  </td><td>TRBV05-01      </td><td>TRBJ02-07</td><td>eJL143</td><td>1</td><td>eJL143, ePD79, eHH175, eLH45, eHO126, eXL31, eLH49, eLH42, eJL157, eHO135, eLH54, eMR14, eLH47, eAV91, eQD109, eQD111, eMR23, eQD123, eMR15                                                                                                    </td><td>19</td></tr>\n",
       "\t<tr><td>CASSFSYEQYF    </td><td>TRBV12-03/12-04</td><td>TRBJ02-07</td><td>eEE243</td><td>1</td><td>eEE243, eHH175, eXL30, eHO130, eJL149, eAV88, eXL27, eOX54, eEE224, eEE228, eOX49, eEE226, eOX52, eEE240, eOX46, eOX43, eXL31                                                                                                                  </td><td>17</td></tr>\n",
       "\t<tr><td>CASSLSAPQETQYF </td><td>TRBV27-01      </td><td>TRBJ02-05</td><td>eMR17 </td><td>1</td><td>eMR17, eJL161, eHO134, eQD124, eMR13, eQD111, eQD121, eHO140, eMR12, eQD125, eLH47, eEE226, eQD126, eQD114, eQD110, eQD120                                                                                                                     </td><td>16</td></tr>\n",
       "\t<tr><td>CASSVGETQYF    </td><td>TRBV09-01      </td><td>TRBJ02-05</td><td>eOX56 </td><td>1</td><td>eOX56, eEE224, eEE226, eEE228, eOX49, eOX54, eOX52, eXL27, eXL30, eOX43, eOX46, eXL32, eEE240, eAV88, eQD128, eHH175                                                                                                                           </td><td>16</td></tr>\n",
       "</tbody>\n",
       "</table>\n"
      ],
      "text/latex": [
       "A data.table: 6 × 7\n",
       "\\begin{tabular}{lllllll}\n",
       " CDR3b & TRBV & TRBJ & subject:condition & count.x & subject & count.y\\\\\n",
       " <chr> & <chr> & <chr> & <chr> & <int> & <chr> & <int>\\\\\n",
       "\\hline\n",
       "\t CASSIRSSYEQYF   & TRBV19-01       & TRBJ02-07 & eOX46  & 1 & eOX46, ePD84, eHO128, eHO132, eHO125, ePD83, eHO136, eLH41, eHO124, ePD86, eLH42, eHO130, ePD76, eQD137, eQD123, eMR20, eEE243, eHH173, eHH174, eQD124, eHH169, eEE228, eXL27, eQD115, eXL36, eMR12, eLH47, eDH113, eEE226, eXL37, eDH96, eXL30 & 32\\\\\n",
       "\t CASSQTGGRNQPQHF & TRBV12-X        & TRBJ01-05 & eLH41  & 1 & eLH41, eJL164, eXL31, eHO132, ePD86, eAV88, ePD84, eEE243, eXL37, eQD118, eEE224, eXL27, eMR12, eOX56, eLH47, eMR18, eLH46, eQD136, eOX43, eOX54, ePD76                                                                                         & 21\\\\\n",
       "\t CASSLAGAYEQYF   & TRBV05-01       & TRBJ02-07 & eJL143 & 1 & eJL143, ePD79, eHH175, eLH45, eHO126, eXL31, eLH49, eLH42, eJL157, eHO135, eLH54, eMR14, eLH47, eAV91, eQD109, eQD111, eMR23, eQD123, eMR15                                                                                                     & 19\\\\\n",
       "\t CASSFSYEQYF     & TRBV12-03/12-04 & TRBJ02-07 & eEE243 & 1 & eEE243, eHH175, eXL30, eHO130, eJL149, eAV88, eXL27, eOX54, eEE224, eEE228, eOX49, eEE226, eOX52, eEE240, eOX46, eOX43, eXL31                                                                                                                   & 17\\\\\n",
       "\t CASSLSAPQETQYF  & TRBV27-01       & TRBJ02-05 & eMR17  & 1 & eMR17, eJL161, eHO134, eQD124, eMR13, eQD111, eQD121, eHO140, eMR12, eQD125, eLH47, eEE226, eQD126, eQD114, eQD110, eQD120                                                                                                                      & 16\\\\\n",
       "\t CASSVGETQYF     & TRBV09-01       & TRBJ02-05 & eOX56  & 1 & eOX56, eEE224, eEE226, eEE228, eOX49, eOX54, eOX52, eXL27, eXL30, eOX43, eOX46, eXL32, eEE240, eAV88, eQD128, eHH175                                                                                                                            & 16\\\\\n",
       "\\end{tabular}\n"
      ],
      "text/markdown": [
       "\n",
       "A data.table: 6 × 7\n",
       "\n",
       "| CDR3b &lt;chr&gt; | TRBV &lt;chr&gt; | TRBJ &lt;chr&gt; | subject:condition &lt;chr&gt; | count.x &lt;int&gt; | subject &lt;chr&gt; | count.y &lt;int&gt; |\n",
       "|---|---|---|---|---|---|---|\n",
       "| CASSIRSSYEQYF   | TRBV19-01       | TRBJ02-07 | eOX46  | 1 | eOX46, ePD84, eHO128, eHO132, eHO125, ePD83, eHO136, eLH41, eHO124, ePD86, eLH42, eHO130, ePD76, eQD137, eQD123, eMR20, eEE243, eHH173, eHH174, eQD124, eHH169, eEE228, eXL27, eQD115, eXL36, eMR12, eLH47, eDH113, eEE226, eXL37, eDH96, eXL30 | 32 |\n",
       "| CASSQTGGRNQPQHF | TRBV12-X        | TRBJ01-05 | eLH41  | 1 | eLH41, eJL164, eXL31, eHO132, ePD86, eAV88, ePD84, eEE243, eXL37, eQD118, eEE224, eXL27, eMR12, eOX56, eLH47, eMR18, eLH46, eQD136, eOX43, eOX54, ePD76                                                                                         | 21 |\n",
       "| CASSLAGAYEQYF   | TRBV05-01       | TRBJ02-07 | eJL143 | 1 | eJL143, ePD79, eHH175, eLH45, eHO126, eXL31, eLH49, eLH42, eJL157, eHO135, eLH54, eMR14, eLH47, eAV91, eQD109, eQD111, eMR23, eQD123, eMR15                                                                                                     | 19 |\n",
       "| CASSFSYEQYF     | TRBV12-03/12-04 | TRBJ02-07 | eEE243 | 1 | eEE243, eHH175, eXL30, eHO130, eJL149, eAV88, eXL27, eOX54, eEE224, eEE228, eOX49, eEE226, eOX52, eEE240, eOX46, eOX43, eXL31                                                                                                                   | 17 |\n",
       "| CASSLSAPQETQYF  | TRBV27-01       | TRBJ02-05 | eMR17  | 1 | eMR17, eJL161, eHO134, eQD124, eMR13, eQD111, eQD121, eHO140, eMR12, eQD125, eLH47, eEE226, eQD126, eQD114, eQD110, eQD120                                                                                                                      | 16 |\n",
       "| CASSVGETQYF     | TRBV09-01       | TRBJ02-05 | eOX56  | 1 | eOX56, eEE224, eEE226, eEE228, eOX49, eOX54, eOX52, eXL27, eXL30, eOX43, eOX46, eXL32, eEE240, eAV88, eQD128, eHH175                                                                                                                            | 16 |\n",
       "\n"
      ],
      "text/plain": [
       "  CDR3b           TRBV            TRBJ      subject:condition count.x\n",
       "1 CASSIRSSYEQYF   TRBV19-01       TRBJ02-07 eOX46             1      \n",
       "2 CASSQTGGRNQPQHF TRBV12-X        TRBJ01-05 eLH41             1      \n",
       "3 CASSLAGAYEQYF   TRBV05-01       TRBJ02-07 eJL143            1      \n",
       "4 CASSFSYEQYF     TRBV12-03/12-04 TRBJ02-07 eEE243            1      \n",
       "5 CASSLSAPQETQYF  TRBV27-01       TRBJ02-05 eMR17             1      \n",
       "6 CASSVGETQYF     TRBV09-01       TRBJ02-05 eOX56             1      \n",
       "  subject                                                                                                                                                                                                                                        \n",
       "1 eOX46, ePD84, eHO128, eHO132, eHO125, ePD83, eHO136, eLH41, eHO124, ePD86, eLH42, eHO130, ePD76, eQD137, eQD123, eMR20, eEE243, eHH173, eHH174, eQD124, eHH169, eEE228, eXL27, eQD115, eXL36, eMR12, eLH47, eDH113, eEE226, eXL37, eDH96, eXL30\n",
       "2 eLH41, eJL164, eXL31, eHO132, ePD86, eAV88, ePD84, eEE243, eXL37, eQD118, eEE224, eXL27, eMR12, eOX56, eLH47, eMR18, eLH46, eQD136, eOX43, eOX54, ePD76                                                                                        \n",
       "3 eJL143, ePD79, eHH175, eLH45, eHO126, eXL31, eLH49, eLH42, eJL157, eHO135, eLH54, eMR14, eLH47, eAV91, eQD109, eQD111, eMR23, eQD123, eMR15                                                                                                    \n",
       "4 eEE243, eHH175, eXL30, eHO130, eJL149, eAV88, eXL27, eOX54, eEE224, eEE228, eOX49, eEE226, eOX52, eEE240, eOX46, eOX43, eXL31                                                                                                                  \n",
       "5 eMR17, eJL161, eHO134, eQD124, eMR13, eQD111, eQD121, eHO140, eMR12, eQD125, eLH47, eEE226, eQD126, eQD114, eQD110, eQD120                                                                                                                     \n",
       "6 eOX56, eEE224, eEE226, eEE228, eOX49, eOX54, eOX52, eXL27, eXL30, eOX43, eOX46, eXL32, eEE240, eAV88, eQD128, eHH175                                                                                                                           \n",
       "  count.y\n",
       "1 32     \n",
       "2 21     \n",
       "3 19     \n",
       "4 17     \n",
       "5 16     \n",
       "6 16     "
      ]
     },
     "metadata": {},
     "output_type": "display_data"
    }
   ],
   "source": [
    "head(covidfle_uniq_ab_dedup[order(covidfle_uniq_ab_dedup$count.y, decreasing = T),])"
   ]
  },
  {
   "cell_type": "code",
   "execution_count": 42,
   "metadata": {
    "vscode": {
     "languageId": "r"
    }
   },
   "outputs": [],
   "source": [
    "covidfle_uniq_ab_dedup$file <- \"COVID_specific_TCRB.tsv\""
   ]
  },
  {
   "cell_type": "code",
   "execution_count": 45,
   "metadata": {
    "vscode": {
     "languageId": "r"
    }
   },
   "outputs": [],
   "source": [
    "covidfle_uniq_ab_dedup$clonefraction <- 1"
   ]
  },
  {
   "cell_type": "code",
   "execution_count": 47,
   "metadata": {
    "vscode": {
     "languageId": "r"
    }
   },
   "outputs": [],
   "source": [
    "covidfle_uniq_ab_dedup_subset <- covidfle_uniq_ab_dedup[,c(\"CDR3b\", \"TRBV\", \"TRBJ\", \"subject:condition\",\n",
    "                                                          \"count.y\", \"clonefraction\", \"subject\",\"file\")]"
   ]
  },
  {
   "cell_type": "code",
   "execution_count": 49,
   "metadata": {
    "vscode": {
     "languageId": "r"
    }
   },
   "outputs": [],
   "source": [
    "colnames(covidfle_uniq_ab_dedup_subset)[ colnames(covidfle_uniq_ab_dedup_subset) == \"count.y\"] <- \"count\""
   ]
  },
  {
   "cell_type": "code",
   "execution_count": 73,
   "metadata": {
    "vscode": {
     "languageId": "r"
    }
   },
   "outputs": [],
   "source": [
    "covidfle_uniq_ab_dedup_subset$index <- 1:nrow(covidfle_uniq_ab_dedup_subset)"
   ]
  },
  {
   "cell_type": "code",
   "execution_count": 74,
   "metadata": {
    "vscode": {
     "languageId": "r"
    }
   },
   "outputs": [],
   "source": [
    "save(covidfle_uniq_ab_dedup_subset, file = paste0(datapath, \"capTCRseq/covidfle_uniq_ab_dedup_subset.RData\"))"
   ]
  },
  {
   "cell_type": "markdown",
   "metadata": {},
   "source": [
    "# bind all"
   ]
  },
  {
   "cell_type": "code",
   "execution_count": 162,
   "metadata": {
    "vscode": {
     "languageId": "r"
    }
   },
   "outputs": [],
   "source": [
    "load(file = paste0(datapath, \"capTCRseq/INT_gliph_input.RData\"))"
   ]
  },
  {
   "cell_type": "code",
   "execution_count": 163,
   "metadata": {
    "vscode": {
     "languageId": "r"
    }
   },
   "outputs": [
    {
     "data": {
      "text/html": [
       "<table class=\"dataframe\">\n",
       "<caption>A data.table: 6 × 9</caption>\n",
       "<thead>\n",
       "\t<tr><th scope=col>CDR3b</th><th scope=col>TRBV</th><th scope=col>TRBJ</th><th scope=col>subject:condition</th><th scope=col>count</th><th scope=col>clonefraction</th><th scope=col>subject</th><th scope=col>file</th><th scope=col>index</th></tr>\n",
       "\t<tr><th scope=col>&lt;chr&gt;</th><th scope=col>&lt;chr&gt;</th><th scope=col>&lt;chr&gt;</th><th scope=col>&lt;chr&gt;</th><th scope=col>&lt;int&gt;</th><th scope=col>&lt;dbl&gt;</th><th scope=col>&lt;chr&gt;</th><th scope=col>&lt;chr&gt;</th><th scope=col>&lt;int&gt;</th></tr>\n",
       "</thead>\n",
       "<tbody>\n",
       "\t<tr><td>CAIRDPEQGITDTQYF </td><td>TRBV10-3</td><td>TRBJ2-3</td><td>CHP_315</td><td>24</td><td>0.025369979</td><td>CHP_315-05-PBMC-DNA</td><td>/Users/anabbi/Desktop/H4H/INTERCEPT/NextSeq/batch4_19Aug2019/mixcr/clones/CLONES_TRBCHP_315-05-PBMC-DNA.txt</td><td>1</td></tr>\n",
       "\t<tr><td>CAIRGTGADQPQHF   </td><td>TRBV10-3</td><td>TRBJ1-5</td><td>CHP_315</td><td>21</td><td>0.022198732</td><td>CHP_315-05-PBMC-DNA</td><td>/Users/anabbi/Desktop/H4H/INTERCEPT/NextSeq/batch4_19Aug2019/mixcr/clones/CLONES_TRBCHP_315-05-PBMC-DNA.txt</td><td>2</td></tr>\n",
       "\t<tr><td>CAISGVWGGDTQYF   </td><td>TRBV10-3</td><td>TRBJ2-3</td><td>CHP_315</td><td>12</td><td>0.012684989</td><td>CHP_315-05-PBMC-DNA</td><td>/Users/anabbi/Desktop/H4H/INTERCEPT/NextSeq/batch4_19Aug2019/mixcr/clones/CLONES_TRBCHP_315-05-PBMC-DNA.txt</td><td>3</td></tr>\n",
       "\t<tr><td>CASRLAGTGSPLHF   </td><td>TRBV6-1 </td><td>TRBJ1-6</td><td>CHP_315</td><td> 2</td><td>0.002114165</td><td>CHP_315-05-PBMC-DNA</td><td>/Users/anabbi/Desktop/H4H/INTERCEPT/NextSeq/batch4_19Aug2019/mixcr/clones/CLONES_TRBCHP_315-05-PBMC-DNA.txt</td><td>4</td></tr>\n",
       "\t<tr><td>CASSDPQGTEAFF    </td><td>TRBV6-2 </td><td>TRBJ1-1</td><td>CHP_315</td><td>21</td><td>0.022198732</td><td>CHP_315-05-PBMC-DNA</td><td>/Users/anabbi/Desktop/H4H/INTERCEPT/NextSeq/batch4_19Aug2019/mixcr/clones/CLONES_TRBCHP_315-05-PBMC-DNA.txt</td><td>5</td></tr>\n",
       "\t<tr><td>CASSEEPGTSGYNEQFF</td><td>TRBV2   </td><td>TRBJ2-1</td><td>CHP_315</td><td> 6</td><td>0.006342495</td><td>CHP_315-05-PBMC-DNA</td><td>/Users/anabbi/Desktop/H4H/INTERCEPT/NextSeq/batch4_19Aug2019/mixcr/clones/CLONES_TRBCHP_315-05-PBMC-DNA.txt</td><td>6</td></tr>\n",
       "</tbody>\n",
       "</table>\n"
      ],
      "text/latex": [
       "A data.table: 6 × 9\n",
       "\\begin{tabular}{lllllllll}\n",
       " CDR3b & TRBV & TRBJ & subject:condition & count & clonefraction & subject & file & index\\\\\n",
       " <chr> & <chr> & <chr> & <chr> & <int> & <dbl> & <chr> & <chr> & <int>\\\\\n",
       "\\hline\n",
       "\t CAIRDPEQGITDTQYF  & TRBV10-3 & TRBJ2-3 & CHP\\_315 & 24 & 0.025369979 & CHP\\_315-05-PBMC-DNA & /Users/anabbi/Desktop/H4H/INTERCEPT/NextSeq/batch4\\_19Aug2019/mixcr/clones/CLONES\\_TRBCHP\\_315-05-PBMC-DNA.txt & 1\\\\\n",
       "\t CAIRGTGADQPQHF    & TRBV10-3 & TRBJ1-5 & CHP\\_315 & 21 & 0.022198732 & CHP\\_315-05-PBMC-DNA & /Users/anabbi/Desktop/H4H/INTERCEPT/NextSeq/batch4\\_19Aug2019/mixcr/clones/CLONES\\_TRBCHP\\_315-05-PBMC-DNA.txt & 2\\\\\n",
       "\t CAISGVWGGDTQYF    & TRBV10-3 & TRBJ2-3 & CHP\\_315 & 12 & 0.012684989 & CHP\\_315-05-PBMC-DNA & /Users/anabbi/Desktop/H4H/INTERCEPT/NextSeq/batch4\\_19Aug2019/mixcr/clones/CLONES\\_TRBCHP\\_315-05-PBMC-DNA.txt & 3\\\\\n",
       "\t CASRLAGTGSPLHF    & TRBV6-1  & TRBJ1-6 & CHP\\_315 &  2 & 0.002114165 & CHP\\_315-05-PBMC-DNA & /Users/anabbi/Desktop/H4H/INTERCEPT/NextSeq/batch4\\_19Aug2019/mixcr/clones/CLONES\\_TRBCHP\\_315-05-PBMC-DNA.txt & 4\\\\\n",
       "\t CASSDPQGTEAFF     & TRBV6-2  & TRBJ1-1 & CHP\\_315 & 21 & 0.022198732 & CHP\\_315-05-PBMC-DNA & /Users/anabbi/Desktop/H4H/INTERCEPT/NextSeq/batch4\\_19Aug2019/mixcr/clones/CLONES\\_TRBCHP\\_315-05-PBMC-DNA.txt & 5\\\\\n",
       "\t CASSEEPGTSGYNEQFF & TRBV2    & TRBJ2-1 & CHP\\_315 &  6 & 0.006342495 & CHP\\_315-05-PBMC-DNA & /Users/anabbi/Desktop/H4H/INTERCEPT/NextSeq/batch4\\_19Aug2019/mixcr/clones/CLONES\\_TRBCHP\\_315-05-PBMC-DNA.txt & 6\\\\\n",
       "\\end{tabular}\n"
      ],
      "text/markdown": [
       "\n",
       "A data.table: 6 × 9\n",
       "\n",
       "| CDR3b &lt;chr&gt; | TRBV &lt;chr&gt; | TRBJ &lt;chr&gt; | subject:condition &lt;chr&gt; | count &lt;int&gt; | clonefraction &lt;dbl&gt; | subject &lt;chr&gt; | file &lt;chr&gt; | index &lt;int&gt; |\n",
       "|---|---|---|---|---|---|---|---|---|\n",
       "| CAIRDPEQGITDTQYF  | TRBV10-3 | TRBJ2-3 | CHP_315 | 24 | 0.025369979 | CHP_315-05-PBMC-DNA | /Users/anabbi/Desktop/H4H/INTERCEPT/NextSeq/batch4_19Aug2019/mixcr/clones/CLONES_TRBCHP_315-05-PBMC-DNA.txt | 1 |\n",
       "| CAIRGTGADQPQHF    | TRBV10-3 | TRBJ1-5 | CHP_315 | 21 | 0.022198732 | CHP_315-05-PBMC-DNA | /Users/anabbi/Desktop/H4H/INTERCEPT/NextSeq/batch4_19Aug2019/mixcr/clones/CLONES_TRBCHP_315-05-PBMC-DNA.txt | 2 |\n",
       "| CAISGVWGGDTQYF    | TRBV10-3 | TRBJ2-3 | CHP_315 | 12 | 0.012684989 | CHP_315-05-PBMC-DNA | /Users/anabbi/Desktop/H4H/INTERCEPT/NextSeq/batch4_19Aug2019/mixcr/clones/CLONES_TRBCHP_315-05-PBMC-DNA.txt | 3 |\n",
       "| CASRLAGTGSPLHF    | TRBV6-1  | TRBJ1-6 | CHP_315 |  2 | 0.002114165 | CHP_315-05-PBMC-DNA | /Users/anabbi/Desktop/H4H/INTERCEPT/NextSeq/batch4_19Aug2019/mixcr/clones/CLONES_TRBCHP_315-05-PBMC-DNA.txt | 4 |\n",
       "| CASSDPQGTEAFF     | TRBV6-2  | TRBJ1-1 | CHP_315 | 21 | 0.022198732 | CHP_315-05-PBMC-DNA | /Users/anabbi/Desktop/H4H/INTERCEPT/NextSeq/batch4_19Aug2019/mixcr/clones/CLONES_TRBCHP_315-05-PBMC-DNA.txt | 5 |\n",
       "| CASSEEPGTSGYNEQFF | TRBV2    | TRBJ2-1 | CHP_315 |  6 | 0.006342495 | CHP_315-05-PBMC-DNA | /Users/anabbi/Desktop/H4H/INTERCEPT/NextSeq/batch4_19Aug2019/mixcr/clones/CLONES_TRBCHP_315-05-PBMC-DNA.txt | 6 |\n",
       "\n"
      ],
      "text/plain": [
       "  CDR3b             TRBV     TRBJ    subject:condition count clonefraction\n",
       "1 CAIRDPEQGITDTQYF  TRBV10-3 TRBJ2-3 CHP_315           24    0.025369979  \n",
       "2 CAIRGTGADQPQHF    TRBV10-3 TRBJ1-5 CHP_315           21    0.022198732  \n",
       "3 CAISGVWGGDTQYF    TRBV10-3 TRBJ2-3 CHP_315           12    0.012684989  \n",
       "4 CASRLAGTGSPLHF    TRBV6-1  TRBJ1-6 CHP_315            2    0.002114165  \n",
       "5 CASSDPQGTEAFF     TRBV6-2  TRBJ1-1 CHP_315           21    0.022198732  \n",
       "6 CASSEEPGTSGYNEQFF TRBV2    TRBJ2-1 CHP_315            6    0.006342495  \n",
       "  subject            \n",
       "1 CHP_315-05-PBMC-DNA\n",
       "2 CHP_315-05-PBMC-DNA\n",
       "3 CHP_315-05-PBMC-DNA\n",
       "4 CHP_315-05-PBMC-DNA\n",
       "5 CHP_315-05-PBMC-DNA\n",
       "6 CHP_315-05-PBMC-DNA\n",
       "  file                                                                                                       \n",
       "1 /Users/anabbi/Desktop/H4H/INTERCEPT/NextSeq/batch4_19Aug2019/mixcr/clones/CLONES_TRBCHP_315-05-PBMC-DNA.txt\n",
       "2 /Users/anabbi/Desktop/H4H/INTERCEPT/NextSeq/batch4_19Aug2019/mixcr/clones/CLONES_TRBCHP_315-05-PBMC-DNA.txt\n",
       "3 /Users/anabbi/Desktop/H4H/INTERCEPT/NextSeq/batch4_19Aug2019/mixcr/clones/CLONES_TRBCHP_315-05-PBMC-DNA.txt\n",
       "4 /Users/anabbi/Desktop/H4H/INTERCEPT/NextSeq/batch4_19Aug2019/mixcr/clones/CLONES_TRBCHP_315-05-PBMC-DNA.txt\n",
       "5 /Users/anabbi/Desktop/H4H/INTERCEPT/NextSeq/batch4_19Aug2019/mixcr/clones/CLONES_TRBCHP_315-05-PBMC-DNA.txt\n",
       "6 /Users/anabbi/Desktop/H4H/INTERCEPT/NextSeq/batch4_19Aug2019/mixcr/clones/CLONES_TRBCHP_315-05-PBMC-DNA.txt\n",
       "  index\n",
       "1 1    \n",
       "2 2    \n",
       "3 3    \n",
       "4 4    \n",
       "5 5    \n",
       "6 6    "
      ]
     },
     "metadata": {},
     "output_type": "display_data"
    }
   ],
   "source": [
    "head(taball)"
   ]
  },
  {
   "cell_type": "code",
   "execution_count": 7,
   "metadata": {
    "vscode": {
     "languageId": "r"
    }
   },
   "outputs": [],
   "source": [
    "#load(file = paste0(datapath, \"capTCRseq/covidfle_uniq_ab_dedup_subset.RData\"))"
   ]
  },
  {
   "cell_type": "code",
   "execution_count": 8,
   "metadata": {
    "vscode": {
     "languageId": "r"
    }
   },
   "outputs": [],
   "source": [
    "load(file = paste0(datapath, \"capTCRseq/VDJdb_tcr_cleanup.RData\"))"
   ]
  },
  {
   "cell_type": "code",
   "execution_count": 9,
   "metadata": {
    "vscode": {
     "languageId": "r"
    }
   },
   "outputs": [],
   "source": [
    "gliph_int_covid_tcr <- rbind(taball, covidfle_uniq_ab_dedup_subset, VDJdb_tcr_cleanup)"
   ]
  },
  {
   "cell_type": "code",
   "execution_count": 10,
   "metadata": {
    "scrolled": true,
    "vscode": {
     "languageId": "r"
    }
   },
   "outputs": [],
   "source": [
    "gliph_int_covid_tcr$CDR3a <- NA"
   ]
  },
  {
   "cell_type": "code",
   "execution_count": 11,
   "metadata": {
    "vscode": {
     "languageId": "r"
    }
   },
   "outputs": [],
   "source": [
    "gliph_int_covid_tcr <- gliph_int_covid_tcr[,c('CDR3b','TRBV','TRBJ','CDR3a', 'subject:condition','count',\n",
    "                                              'clonefraction','subject','file','index')]"
   ]
  },
  {
   "cell_type": "code",
   "execution_count": 12,
   "metadata": {
    "vscode": {
     "languageId": "r"
    }
   },
   "outputs": [],
   "source": [
    "#bind subject and index to be able to map back to gliph_int_covid_tcr\n",
    "gliph_int_covid_tcr$`subject:condition` <- paste(gliph_int_covid_tcr$`subject:condition`,\n",
    "                                                 gliph_int_covid_tcr$index, sep = \":\")"
   ]
  },
  {
   "cell_type": "code",
   "execution_count": 13,
   "metadata": {
    "vscode": {
     "languageId": "r"
    }
   },
   "outputs": [],
   "source": [
    "save(gliph_int_covid_tcr, file = paste0(datapath, \"capTCRseq/gliph_int_covid_tcr.RData\"))"
   ]
  },
  {
   "cell_type": "code",
   "execution_count": 14,
   "metadata": {
    "vscode": {
     "languageId": "r"
    }
   },
   "outputs": [],
   "source": [
    "#remove header and select cols 1:6 for gliph to work\n",
    "write.table(gliph_int_covid_tcr[,1:6], file = paste0(h4hpath,'/GLIPH/gliph_int_covid_tcr.txt'),\n",
    "         sep = \"\\t\", quote = F, row.names = F, col.names = F)"
   ]
  },
  {
   "cell_type": "code",
   "execution_count": 182,
   "metadata": {
    "vscode": {
     "languageId": "r"
    }
   },
   "outputs": [],
   "source": [
    "load(file = paste0(datapath, \"capTCRseq/gliph_int_covid_tcr.RData\"))"
   ]
  },
  {
   "cell_type": "code",
   "execution_count": 183,
   "metadata": {
    "vscode": {
     "languageId": "r"
    }
   },
   "outputs": [
    {
     "data": {
      "text/html": [
       "<table class=\"dataframe\">\n",
       "<caption>A data.table: 6 × 10</caption>\n",
       "<thead>\n",
       "\t<tr><th scope=col>CDR3b</th><th scope=col>TRBV</th><th scope=col>TRBJ</th><th scope=col>CDR3a</th><th scope=col>subject:condition</th><th scope=col>count</th><th scope=col>clonefraction</th><th scope=col>subject</th><th scope=col>file</th><th scope=col>index</th></tr>\n",
       "\t<tr><th scope=col>&lt;chr&gt;</th><th scope=col>&lt;chr&gt;</th><th scope=col>&lt;chr&gt;</th><th scope=col>&lt;lgl&gt;</th><th scope=col>&lt;chr&gt;</th><th scope=col>&lt;dbl&gt;</th><th scope=col>&lt;dbl&gt;</th><th scope=col>&lt;chr&gt;</th><th scope=col>&lt;chr&gt;</th><th scope=col>&lt;int&gt;</th></tr>\n",
       "</thead>\n",
       "<tbody>\n",
       "\t<tr><td>CAIRDPEQGITDTQYF </td><td>TRBV10-3</td><td>TRBJ2-3</td><td>NA</td><td>CHP_315:1</td><td>24</td><td>0.025369979</td><td>CHP_315-05-PBMC-DNA</td><td>/Users/anabbi/Desktop/H4H/INTERCEPT/NextSeq/batch4_19Aug2019/mixcr/clones/CLONES_TRBCHP_315-05-PBMC-DNA.txt</td><td>1</td></tr>\n",
       "\t<tr><td>CAIRGTGADQPQHF   </td><td>TRBV10-3</td><td>TRBJ1-5</td><td>NA</td><td>CHP_315:2</td><td>21</td><td>0.022198732</td><td>CHP_315-05-PBMC-DNA</td><td>/Users/anabbi/Desktop/H4H/INTERCEPT/NextSeq/batch4_19Aug2019/mixcr/clones/CLONES_TRBCHP_315-05-PBMC-DNA.txt</td><td>2</td></tr>\n",
       "\t<tr><td>CAISGVWGGDTQYF   </td><td>TRBV10-3</td><td>TRBJ2-3</td><td>NA</td><td>CHP_315:3</td><td>12</td><td>0.012684989</td><td>CHP_315-05-PBMC-DNA</td><td>/Users/anabbi/Desktop/H4H/INTERCEPT/NextSeq/batch4_19Aug2019/mixcr/clones/CLONES_TRBCHP_315-05-PBMC-DNA.txt</td><td>3</td></tr>\n",
       "\t<tr><td>CASRLAGTGSPLHF   </td><td>TRBV6-1 </td><td>TRBJ1-6</td><td>NA</td><td>CHP_315:4</td><td> 2</td><td>0.002114165</td><td>CHP_315-05-PBMC-DNA</td><td>/Users/anabbi/Desktop/H4H/INTERCEPT/NextSeq/batch4_19Aug2019/mixcr/clones/CLONES_TRBCHP_315-05-PBMC-DNA.txt</td><td>4</td></tr>\n",
       "\t<tr><td>CASSDPQGTEAFF    </td><td>TRBV6-2 </td><td>TRBJ1-1</td><td>NA</td><td>CHP_315:5</td><td>21</td><td>0.022198732</td><td>CHP_315-05-PBMC-DNA</td><td>/Users/anabbi/Desktop/H4H/INTERCEPT/NextSeq/batch4_19Aug2019/mixcr/clones/CLONES_TRBCHP_315-05-PBMC-DNA.txt</td><td>5</td></tr>\n",
       "\t<tr><td>CASSEEPGTSGYNEQFF</td><td>TRBV2   </td><td>TRBJ2-1</td><td>NA</td><td>CHP_315:6</td><td> 6</td><td>0.006342495</td><td>CHP_315-05-PBMC-DNA</td><td>/Users/anabbi/Desktop/H4H/INTERCEPT/NextSeq/batch4_19Aug2019/mixcr/clones/CLONES_TRBCHP_315-05-PBMC-DNA.txt</td><td>6</td></tr>\n",
       "</tbody>\n",
       "</table>\n"
      ],
      "text/latex": [
       "A data.table: 6 × 10\n",
       "\\begin{tabular}{llllllllll}\n",
       " CDR3b & TRBV & TRBJ & CDR3a & subject:condition & count & clonefraction & subject & file & index\\\\\n",
       " <chr> & <chr> & <chr> & <lgl> & <chr> & <dbl> & <dbl> & <chr> & <chr> & <int>\\\\\n",
       "\\hline\n",
       "\t CAIRDPEQGITDTQYF  & TRBV10-3 & TRBJ2-3 & NA & CHP\\_315:1 & 24 & 0.025369979 & CHP\\_315-05-PBMC-DNA & /Users/anabbi/Desktop/H4H/INTERCEPT/NextSeq/batch4\\_19Aug2019/mixcr/clones/CLONES\\_TRBCHP\\_315-05-PBMC-DNA.txt & 1\\\\\n",
       "\t CAIRGTGADQPQHF    & TRBV10-3 & TRBJ1-5 & NA & CHP\\_315:2 & 21 & 0.022198732 & CHP\\_315-05-PBMC-DNA & /Users/anabbi/Desktop/H4H/INTERCEPT/NextSeq/batch4\\_19Aug2019/mixcr/clones/CLONES\\_TRBCHP\\_315-05-PBMC-DNA.txt & 2\\\\\n",
       "\t CAISGVWGGDTQYF    & TRBV10-3 & TRBJ2-3 & NA & CHP\\_315:3 & 12 & 0.012684989 & CHP\\_315-05-PBMC-DNA & /Users/anabbi/Desktop/H4H/INTERCEPT/NextSeq/batch4\\_19Aug2019/mixcr/clones/CLONES\\_TRBCHP\\_315-05-PBMC-DNA.txt & 3\\\\\n",
       "\t CASRLAGTGSPLHF    & TRBV6-1  & TRBJ1-6 & NA & CHP\\_315:4 &  2 & 0.002114165 & CHP\\_315-05-PBMC-DNA & /Users/anabbi/Desktop/H4H/INTERCEPT/NextSeq/batch4\\_19Aug2019/mixcr/clones/CLONES\\_TRBCHP\\_315-05-PBMC-DNA.txt & 4\\\\\n",
       "\t CASSDPQGTEAFF     & TRBV6-2  & TRBJ1-1 & NA & CHP\\_315:5 & 21 & 0.022198732 & CHP\\_315-05-PBMC-DNA & /Users/anabbi/Desktop/H4H/INTERCEPT/NextSeq/batch4\\_19Aug2019/mixcr/clones/CLONES\\_TRBCHP\\_315-05-PBMC-DNA.txt & 5\\\\\n",
       "\t CASSEEPGTSGYNEQFF & TRBV2    & TRBJ2-1 & NA & CHP\\_315:6 &  6 & 0.006342495 & CHP\\_315-05-PBMC-DNA & /Users/anabbi/Desktop/H4H/INTERCEPT/NextSeq/batch4\\_19Aug2019/mixcr/clones/CLONES\\_TRBCHP\\_315-05-PBMC-DNA.txt & 6\\\\\n",
       "\\end{tabular}\n"
      ],
      "text/markdown": [
       "\n",
       "A data.table: 6 × 10\n",
       "\n",
       "| CDR3b &lt;chr&gt; | TRBV &lt;chr&gt; | TRBJ &lt;chr&gt; | CDR3a &lt;lgl&gt; | subject:condition &lt;chr&gt; | count &lt;dbl&gt; | clonefraction &lt;dbl&gt; | subject &lt;chr&gt; | file &lt;chr&gt; | index &lt;int&gt; |\n",
       "|---|---|---|---|---|---|---|---|---|---|\n",
       "| CAIRDPEQGITDTQYF  | TRBV10-3 | TRBJ2-3 | NA | CHP_315:1 | 24 | 0.025369979 | CHP_315-05-PBMC-DNA | /Users/anabbi/Desktop/H4H/INTERCEPT/NextSeq/batch4_19Aug2019/mixcr/clones/CLONES_TRBCHP_315-05-PBMC-DNA.txt | 1 |\n",
       "| CAIRGTGADQPQHF    | TRBV10-3 | TRBJ1-5 | NA | CHP_315:2 | 21 | 0.022198732 | CHP_315-05-PBMC-DNA | /Users/anabbi/Desktop/H4H/INTERCEPT/NextSeq/batch4_19Aug2019/mixcr/clones/CLONES_TRBCHP_315-05-PBMC-DNA.txt | 2 |\n",
       "| CAISGVWGGDTQYF    | TRBV10-3 | TRBJ2-3 | NA | CHP_315:3 | 12 | 0.012684989 | CHP_315-05-PBMC-DNA | /Users/anabbi/Desktop/H4H/INTERCEPT/NextSeq/batch4_19Aug2019/mixcr/clones/CLONES_TRBCHP_315-05-PBMC-DNA.txt | 3 |\n",
       "| CASRLAGTGSPLHF    | TRBV6-1  | TRBJ1-6 | NA | CHP_315:4 |  2 | 0.002114165 | CHP_315-05-PBMC-DNA | /Users/anabbi/Desktop/H4H/INTERCEPT/NextSeq/batch4_19Aug2019/mixcr/clones/CLONES_TRBCHP_315-05-PBMC-DNA.txt | 4 |\n",
       "| CASSDPQGTEAFF     | TRBV6-2  | TRBJ1-1 | NA | CHP_315:5 | 21 | 0.022198732 | CHP_315-05-PBMC-DNA | /Users/anabbi/Desktop/H4H/INTERCEPT/NextSeq/batch4_19Aug2019/mixcr/clones/CLONES_TRBCHP_315-05-PBMC-DNA.txt | 5 |\n",
       "| CASSEEPGTSGYNEQFF | TRBV2    | TRBJ2-1 | NA | CHP_315:6 |  6 | 0.006342495 | CHP_315-05-PBMC-DNA | /Users/anabbi/Desktop/H4H/INTERCEPT/NextSeq/batch4_19Aug2019/mixcr/clones/CLONES_TRBCHP_315-05-PBMC-DNA.txt | 6 |\n",
       "\n"
      ],
      "text/plain": [
       "  CDR3b             TRBV     TRBJ    CDR3a subject:condition count\n",
       "1 CAIRDPEQGITDTQYF  TRBV10-3 TRBJ2-3 NA    CHP_315:1         24   \n",
       "2 CAIRGTGADQPQHF    TRBV10-3 TRBJ1-5 NA    CHP_315:2         21   \n",
       "3 CAISGVWGGDTQYF    TRBV10-3 TRBJ2-3 NA    CHP_315:3         12   \n",
       "4 CASRLAGTGSPLHF    TRBV6-1  TRBJ1-6 NA    CHP_315:4          2   \n",
       "5 CASSDPQGTEAFF     TRBV6-2  TRBJ1-1 NA    CHP_315:5         21   \n",
       "6 CASSEEPGTSGYNEQFF TRBV2    TRBJ2-1 NA    CHP_315:6          6   \n",
       "  clonefraction subject            \n",
       "1 0.025369979   CHP_315-05-PBMC-DNA\n",
       "2 0.022198732   CHP_315-05-PBMC-DNA\n",
       "3 0.012684989   CHP_315-05-PBMC-DNA\n",
       "4 0.002114165   CHP_315-05-PBMC-DNA\n",
       "5 0.022198732   CHP_315-05-PBMC-DNA\n",
       "6 0.006342495   CHP_315-05-PBMC-DNA\n",
       "  file                                                                                                       \n",
       "1 /Users/anabbi/Desktop/H4H/INTERCEPT/NextSeq/batch4_19Aug2019/mixcr/clones/CLONES_TRBCHP_315-05-PBMC-DNA.txt\n",
       "2 /Users/anabbi/Desktop/H4H/INTERCEPT/NextSeq/batch4_19Aug2019/mixcr/clones/CLONES_TRBCHP_315-05-PBMC-DNA.txt\n",
       "3 /Users/anabbi/Desktop/H4H/INTERCEPT/NextSeq/batch4_19Aug2019/mixcr/clones/CLONES_TRBCHP_315-05-PBMC-DNA.txt\n",
       "4 /Users/anabbi/Desktop/H4H/INTERCEPT/NextSeq/batch4_19Aug2019/mixcr/clones/CLONES_TRBCHP_315-05-PBMC-DNA.txt\n",
       "5 /Users/anabbi/Desktop/H4H/INTERCEPT/NextSeq/batch4_19Aug2019/mixcr/clones/CLONES_TRBCHP_315-05-PBMC-DNA.txt\n",
       "6 /Users/anabbi/Desktop/H4H/INTERCEPT/NextSeq/batch4_19Aug2019/mixcr/clones/CLONES_TRBCHP_315-05-PBMC-DNA.txt\n",
       "  index\n",
       "1 1    \n",
       "2 2    \n",
       "3 3    \n",
       "4 4    \n",
       "5 5    \n",
       "6 6    "
      ]
     },
     "metadata": {},
     "output_type": "display_data"
    }
   ],
   "source": [
    "head(gliph_int_covid_tcr)"
   ]
  },
  {
   "cell_type": "code",
   "execution_count": 6,
   "metadata": {
    "vscode": {
     "languageId": "r"
    }
   },
   "outputs": [],
   "source": [
    "mylist <- list()\n",
    "\n",
    "for(i in 1:nrow(file_df_dedup_trb)){\n",
    "    \n",
    "    onefle <- read.table(paste0(h4hpath, file_df_dedup_trb$file_list[i]), \n",
    "                         sep = \"\\t\", header = TRUE, stringsAsFactors = F)  \n",
    "    # Remove non-productive\n",
    "    onefle <- onefle[!grepl(\"_\", onefle$aaSeqCDR3),]\n",
    "    onefle <- onefle[!grepl(\"[*]\", onefle$aaSeqCDR3),]\n",
    "    onefle$CDR3b <- onefle$aaSeqCDR3\n",
    "    #next if the file has no productive cdr3\n",
    "    if(nrow(onefle) == 0){ next}\n",
    "    #remove scores\n",
    "    onefle$TRBV <- gsub(\"[*]0.*\", \"\", onefle$allVHitsWithScore)\n",
    "    onefle$TRBJ <- gsub(\"[*]0.*\", \"\", onefle$allJHitsWithScore)\n",
    "\n",
    "    onefle$count <- onefle$cloneCount\n",
    "    onefle$clonefraction <- onefle$cloneFraction\n",
    "    onefle$nSeqCDR3 <- onefle$nSeqCDR3\n",
    "    onefle$file <- paste0(h4hpath, file_df_dedup_trb$file_list[i])\n",
    "    onefle$subject.condition <- file_df_dedup_trb$samplename[i]\n",
    "    mylist[length(mylist) + 1] <- list(onefle[,c(\"CDR3b\", \"TRBV\", \"TRBJ\", \"subject.condition\", \n",
    "                                                 \"count\", \"clonefraction\",\"nSeqCDR3\", \"file\")])\n",
    "}"
   ]
  },
  {
   "cell_type": "code",
   "execution_count": 7,
   "metadata": {
    "vscode": {
     "languageId": "r"
    }
   },
   "outputs": [
    {
     "data": {
      "text/html": [
       "580"
      ],
      "text/latex": [
       "580"
      ],
      "text/markdown": [
       "580"
      ],
      "text/plain": [
       "[1] 580"
      ]
     },
     "metadata": {},
     "output_type": "display_data"
    }
   ],
   "source": [
    "length(mylist)"
   ]
  },
  {
   "cell_type": "code",
   "execution_count": 8,
   "metadata": {
    "vscode": {
     "languageId": "r"
    }
   },
   "outputs": [],
   "source": [
    "gliph_input <- do.call(\"rbind\", mylist)"
   ]
  },
  {
   "cell_type": "code",
   "execution_count": 9,
   "metadata": {
    "vscode": {
     "languageId": "r"
    }
   },
   "outputs": [
    {
     "data": {
      "text/html": [
       "<style>\n",
       ".list-inline {list-style: none; margin:0; padding: 0}\n",
       ".list-inline>li {display: inline-block}\n",
       ".list-inline>li:not(:last-child)::after {content: \"\\00b7\"; padding: 0 .5ex}\n",
       "</style>\n",
       "<ol class=list-inline><li>72634</li><li>8</li></ol>\n"
      ],
      "text/latex": [
       "\\begin{enumerate*}\n",
       "\\item 72634\n",
       "\\item 8\n",
       "\\end{enumerate*}\n"
      ],
      "text/markdown": [
       "1. 72634\n",
       "2. 8\n",
       "\n",
       "\n"
      ],
      "text/plain": [
       "[1] 72634     8"
      ]
     },
     "metadata": {},
     "output_type": "display_data"
    }
   ],
   "source": [
    "dim(gliph_input)"
   ]
  },
  {
   "cell_type": "code",
   "execution_count": 10,
   "metadata": {
    "vscode": {
     "languageId": "r"
    }
   },
   "outputs": [
    {
     "data": {
      "text/html": [
       "<table class=\"dataframe\">\n",
       "<caption>A data.frame: 6 × 8</caption>\n",
       "<thead>\n",
       "\t<tr><th></th><th scope=col>CDR3b</th><th scope=col>TRBV</th><th scope=col>TRBJ</th><th scope=col>subject.condition</th><th scope=col>count</th><th scope=col>clonefraction</th><th scope=col>nSeqCDR3</th><th scope=col>file</th></tr>\n",
       "\t<tr><th></th><th scope=col>&lt;chr&gt;</th><th scope=col>&lt;chr&gt;</th><th scope=col>&lt;chr&gt;</th><th scope=col>&lt;chr&gt;</th><th scope=col>&lt;int&gt;</th><th scope=col>&lt;dbl&gt;</th><th scope=col>&lt;chr&gt;</th><th scope=col>&lt;chr&gt;</th></tr>\n",
       "</thead>\n",
       "<tbody>\n",
       "\t<tr><th scope=row>1</th><td>CASSFYGREADTQYF</td><td>TRBV7-2</td><td>TRBJ2-3</td><td>CHP_315-05-PBMC-DNA</td><td>187</td><td>0.19767442</td><td>TGTGCCAGCAGCTTCTATGGCAGGGAAGCAGATACGCAGTATTTT</td><td>/Users/anabbi/Desktop/H4H/INTERCEPT/NextSeq/batch4_19Aug2019/mixcr/clones/CLONES_TRBCHP_315-05-PBMC-DNA.txt</td></tr>\n",
       "\t<tr><th scope=row>3</th><td>CASSLMGGDSTEAFF</td><td>TRBV7-3</td><td>TRBJ1-1</td><td>CHP_315-05-PBMC-DNA</td><td> 48</td><td>0.05073996</td><td>TGTGCCAGCAGCTTAATGGGGGGAGATAGCACTGAAGCTTTCTTT</td><td>/Users/anabbi/Desktop/H4H/INTERCEPT/NextSeq/batch4_19Aug2019/mixcr/clones/CLONES_TRBCHP_315-05-PBMC-DNA.txt</td></tr>\n",
       "\t<tr><th scope=row>4</th><td>CASSLTGTGVEKLFF</td><td>TRBV7-3</td><td>TRBJ1-4</td><td>CHP_315-05-PBMC-DNA</td><td> 48</td><td>0.05073996</td><td>TGTGCCAGCAGCTTAACCGGGACAGGGGTTGAAAAACTGTTTTTT</td><td>/Users/anabbi/Desktop/H4H/INTERCEPT/NextSeq/batch4_19Aug2019/mixcr/clones/CLONES_TRBCHP_315-05-PBMC-DNA.txt</td></tr>\n",
       "\t<tr><th scope=row>5</th><td>CASSQRGQSTEQYF </td><td>TRBV14 </td><td>TRBJ2-7</td><td>CHP_315-05-PBMC-DNA</td><td> 42</td><td>0.04439746</td><td>TGTGCCAGCAGCCAACGGGGACAGTCAACCGAGCAGTACTTC   </td><td>/Users/anabbi/Desktop/H4H/INTERCEPT/NextSeq/batch4_19Aug2019/mixcr/clones/CLONES_TRBCHP_315-05-PBMC-DNA.txt</td></tr>\n",
       "\t<tr><th scope=row>6</th><td>CASSYQAGVGETQYF</td><td>TRBV6-6</td><td>TRBJ2-5</td><td>CHP_315-05-PBMC-DNA</td><td> 32</td><td>0.03382664</td><td>TGTGCCAGCAGTTACCAAGCGGGGGTGGGTGAGACCCAGTACTTC</td><td>/Users/anabbi/Desktop/H4H/INTERCEPT/NextSeq/batch4_19Aug2019/mixcr/clones/CLONES_TRBCHP_315-05-PBMC-DNA.txt</td></tr>\n",
       "\t<tr><th scope=row>9</th><td>CASSVVGVYNSPLHF</td><td>TRBV7-2</td><td>TRBJ1-6</td><td>CHP_315-05-PBMC-DNA</td><td> 29</td><td>0.03065539</td><td>TGTGCCAGCAGCGTAGTAGGGGTCTATAATTCACCCCTCCACTTT</td><td>/Users/anabbi/Desktop/H4H/INTERCEPT/NextSeq/batch4_19Aug2019/mixcr/clones/CLONES_TRBCHP_315-05-PBMC-DNA.txt</td></tr>\n",
       "</tbody>\n",
       "</table>\n"
      ],
      "text/latex": [
       "A data.frame: 6 × 8\n",
       "\\begin{tabular}{r|llllllll}\n",
       "  & CDR3b & TRBV & TRBJ & subject.condition & count & clonefraction & nSeqCDR3 & file\\\\\n",
       "  & <chr> & <chr> & <chr> & <chr> & <int> & <dbl> & <chr> & <chr>\\\\\n",
       "\\hline\n",
       "\t1 & CASSFYGREADTQYF & TRBV7-2 & TRBJ2-3 & CHP\\_315-05-PBMC-DNA & 187 & 0.19767442 & TGTGCCAGCAGCTTCTATGGCAGGGAAGCAGATACGCAGTATTTT & /Users/anabbi/Desktop/H4H/INTERCEPT/NextSeq/batch4\\_19Aug2019/mixcr/clones/CLONES\\_TRBCHP\\_315-05-PBMC-DNA.txt\\\\\n",
       "\t3 & CASSLMGGDSTEAFF & TRBV7-3 & TRBJ1-1 & CHP\\_315-05-PBMC-DNA &  48 & 0.05073996 & TGTGCCAGCAGCTTAATGGGGGGAGATAGCACTGAAGCTTTCTTT & /Users/anabbi/Desktop/H4H/INTERCEPT/NextSeq/batch4\\_19Aug2019/mixcr/clones/CLONES\\_TRBCHP\\_315-05-PBMC-DNA.txt\\\\\n",
       "\t4 & CASSLTGTGVEKLFF & TRBV7-3 & TRBJ1-4 & CHP\\_315-05-PBMC-DNA &  48 & 0.05073996 & TGTGCCAGCAGCTTAACCGGGACAGGGGTTGAAAAACTGTTTTTT & /Users/anabbi/Desktop/H4H/INTERCEPT/NextSeq/batch4\\_19Aug2019/mixcr/clones/CLONES\\_TRBCHP\\_315-05-PBMC-DNA.txt\\\\\n",
       "\t5 & CASSQRGQSTEQYF  & TRBV14  & TRBJ2-7 & CHP\\_315-05-PBMC-DNA &  42 & 0.04439746 & TGTGCCAGCAGCCAACGGGGACAGTCAACCGAGCAGTACTTC    & /Users/anabbi/Desktop/H4H/INTERCEPT/NextSeq/batch4\\_19Aug2019/mixcr/clones/CLONES\\_TRBCHP\\_315-05-PBMC-DNA.txt\\\\\n",
       "\t6 & CASSYQAGVGETQYF & TRBV6-6 & TRBJ2-5 & CHP\\_315-05-PBMC-DNA &  32 & 0.03382664 & TGTGCCAGCAGTTACCAAGCGGGGGTGGGTGAGACCCAGTACTTC & /Users/anabbi/Desktop/H4H/INTERCEPT/NextSeq/batch4\\_19Aug2019/mixcr/clones/CLONES\\_TRBCHP\\_315-05-PBMC-DNA.txt\\\\\n",
       "\t9 & CASSVVGVYNSPLHF & TRBV7-2 & TRBJ1-6 & CHP\\_315-05-PBMC-DNA &  29 & 0.03065539 & TGTGCCAGCAGCGTAGTAGGGGTCTATAATTCACCCCTCCACTTT & /Users/anabbi/Desktop/H4H/INTERCEPT/NextSeq/batch4\\_19Aug2019/mixcr/clones/CLONES\\_TRBCHP\\_315-05-PBMC-DNA.txt\\\\\n",
       "\\end{tabular}\n"
      ],
      "text/markdown": [
       "\n",
       "A data.frame: 6 × 8\n",
       "\n",
       "| <!--/--> | CDR3b &lt;chr&gt; | TRBV &lt;chr&gt; | TRBJ &lt;chr&gt; | subject.condition &lt;chr&gt; | count &lt;int&gt; | clonefraction &lt;dbl&gt; | nSeqCDR3 &lt;chr&gt; | file &lt;chr&gt; |\n",
       "|---|---|---|---|---|---|---|---|---|\n",
       "| 1 | CASSFYGREADTQYF | TRBV7-2 | TRBJ2-3 | CHP_315-05-PBMC-DNA | 187 | 0.19767442 | TGTGCCAGCAGCTTCTATGGCAGGGAAGCAGATACGCAGTATTTT | /Users/anabbi/Desktop/H4H/INTERCEPT/NextSeq/batch4_19Aug2019/mixcr/clones/CLONES_TRBCHP_315-05-PBMC-DNA.txt |\n",
       "| 3 | CASSLMGGDSTEAFF | TRBV7-3 | TRBJ1-1 | CHP_315-05-PBMC-DNA |  48 | 0.05073996 | TGTGCCAGCAGCTTAATGGGGGGAGATAGCACTGAAGCTTTCTTT | /Users/anabbi/Desktop/H4H/INTERCEPT/NextSeq/batch4_19Aug2019/mixcr/clones/CLONES_TRBCHP_315-05-PBMC-DNA.txt |\n",
       "| 4 | CASSLTGTGVEKLFF | TRBV7-3 | TRBJ1-4 | CHP_315-05-PBMC-DNA |  48 | 0.05073996 | TGTGCCAGCAGCTTAACCGGGACAGGGGTTGAAAAACTGTTTTTT | /Users/anabbi/Desktop/H4H/INTERCEPT/NextSeq/batch4_19Aug2019/mixcr/clones/CLONES_TRBCHP_315-05-PBMC-DNA.txt |\n",
       "| 5 | CASSQRGQSTEQYF  | TRBV14  | TRBJ2-7 | CHP_315-05-PBMC-DNA |  42 | 0.04439746 | TGTGCCAGCAGCCAACGGGGACAGTCAACCGAGCAGTACTTC    | /Users/anabbi/Desktop/H4H/INTERCEPT/NextSeq/batch4_19Aug2019/mixcr/clones/CLONES_TRBCHP_315-05-PBMC-DNA.txt |\n",
       "| 6 | CASSYQAGVGETQYF | TRBV6-6 | TRBJ2-5 | CHP_315-05-PBMC-DNA |  32 | 0.03382664 | TGTGCCAGCAGTTACCAAGCGGGGGTGGGTGAGACCCAGTACTTC | /Users/anabbi/Desktop/H4H/INTERCEPT/NextSeq/batch4_19Aug2019/mixcr/clones/CLONES_TRBCHP_315-05-PBMC-DNA.txt |\n",
       "| 9 | CASSVVGVYNSPLHF | TRBV7-2 | TRBJ1-6 | CHP_315-05-PBMC-DNA |  29 | 0.03065539 | TGTGCCAGCAGCGTAGTAGGGGTCTATAATTCACCCCTCCACTTT | /Users/anabbi/Desktop/H4H/INTERCEPT/NextSeq/batch4_19Aug2019/mixcr/clones/CLONES_TRBCHP_315-05-PBMC-DNA.txt |\n",
       "\n"
      ],
      "text/plain": [
       "  CDR3b           TRBV    TRBJ    subject.condition   count clonefraction\n",
       "1 CASSFYGREADTQYF TRBV7-2 TRBJ2-3 CHP_315-05-PBMC-DNA 187   0.19767442   \n",
       "3 CASSLMGGDSTEAFF TRBV7-3 TRBJ1-1 CHP_315-05-PBMC-DNA  48   0.05073996   \n",
       "4 CASSLTGTGVEKLFF TRBV7-3 TRBJ1-4 CHP_315-05-PBMC-DNA  48   0.05073996   \n",
       "5 CASSQRGQSTEQYF  TRBV14  TRBJ2-7 CHP_315-05-PBMC-DNA  42   0.04439746   \n",
       "6 CASSYQAGVGETQYF TRBV6-6 TRBJ2-5 CHP_315-05-PBMC-DNA  32   0.03382664   \n",
       "9 CASSVVGVYNSPLHF TRBV7-2 TRBJ1-6 CHP_315-05-PBMC-DNA  29   0.03065539   \n",
       "  nSeqCDR3                                     \n",
       "1 TGTGCCAGCAGCTTCTATGGCAGGGAAGCAGATACGCAGTATTTT\n",
       "3 TGTGCCAGCAGCTTAATGGGGGGAGATAGCACTGAAGCTTTCTTT\n",
       "4 TGTGCCAGCAGCTTAACCGGGACAGGGGTTGAAAAACTGTTTTTT\n",
       "5 TGTGCCAGCAGCCAACGGGGACAGTCAACCGAGCAGTACTTC   \n",
       "6 TGTGCCAGCAGTTACCAAGCGGGGGTGGGTGAGACCCAGTACTTC\n",
       "9 TGTGCCAGCAGCGTAGTAGGGGTCTATAATTCACCCCTCCACTTT\n",
       "  file                                                                                                       \n",
       "1 /Users/anabbi/Desktop/H4H/INTERCEPT/NextSeq/batch4_19Aug2019/mixcr/clones/CLONES_TRBCHP_315-05-PBMC-DNA.txt\n",
       "3 /Users/anabbi/Desktop/H4H/INTERCEPT/NextSeq/batch4_19Aug2019/mixcr/clones/CLONES_TRBCHP_315-05-PBMC-DNA.txt\n",
       "4 /Users/anabbi/Desktop/H4H/INTERCEPT/NextSeq/batch4_19Aug2019/mixcr/clones/CLONES_TRBCHP_315-05-PBMC-DNA.txt\n",
       "5 /Users/anabbi/Desktop/H4H/INTERCEPT/NextSeq/batch4_19Aug2019/mixcr/clones/CLONES_TRBCHP_315-05-PBMC-DNA.txt\n",
       "6 /Users/anabbi/Desktop/H4H/INTERCEPT/NextSeq/batch4_19Aug2019/mixcr/clones/CLONES_TRBCHP_315-05-PBMC-DNA.txt\n",
       "9 /Users/anabbi/Desktop/H4H/INTERCEPT/NextSeq/batch4_19Aug2019/mixcr/clones/CLONES_TRBCHP_315-05-PBMC-DNA.txt"
      ]
     },
     "metadata": {},
     "output_type": "display_data"
    }
   ],
   "source": [
    "head(gliph_input)"
   ]
  },
  {
   "cell_type": "code",
   "execution_count": 11,
   "metadata": {
    "vscode": {
     "languageId": "r"
    }
   },
   "outputs": [],
   "source": []
  },
  {
   "cell_type": "code",
   "execution_count": 12,
   "metadata": {
    "vscode": {
     "languageId": "r"
    }
   },
   "outputs": [],
   "source": [
    "library(data.table)\n",
    "\n",
    "#bind those with the same cdr3 + TRBV\n",
    "setDT(gliph_input)\n",
    "\n",
    "ab <- gliph_input[, .(subject = toString(subject.condition), #bind subjects\n",
    "                      file = toString(file), #bind filenames\n",
    "                      count = sum(count)),  #get sum of counts\n",
    "                  by = c(\"CDR3b\", \"TRBV\", \"TRBJ\")] #get duplicates sequences with the same cdr3 + TRBV + TRBJ\n",
    "\n",
    "gliph_input_ab <- merge(gliph_input, ab, by = c(\"CDR3b\",\"TRBV\",\"TRBJ\")) # merge together"
   ]
  },
  {
   "cell_type": "code",
   "execution_count": 13,
   "metadata": {
    "vscode": {
     "languageId": "r"
    }
   },
   "outputs": [
    {
     "data": {
      "text/html": [
       "<table class=\"dataframe\">\n",
       "<caption>A data.table: 6 × 11</caption>\n",
       "<thead>\n",
       "\t<tr><th scope=col>CDR3b</th><th scope=col>TRBV</th><th scope=col>TRBJ</th><th scope=col>subject.condition</th><th scope=col>count.x</th><th scope=col>clonefraction</th><th scope=col>nSeqCDR3</th><th scope=col>file.x</th><th scope=col>subject</th><th scope=col>file.y</th><th scope=col>count.y</th></tr>\n",
       "\t<tr><th scope=col>&lt;chr&gt;</th><th scope=col>&lt;chr&gt;</th><th scope=col>&lt;chr&gt;</th><th scope=col>&lt;chr&gt;</th><th scope=col>&lt;int&gt;</th><th scope=col>&lt;dbl&gt;</th><th scope=col>&lt;chr&gt;</th><th scope=col>&lt;chr&gt;</th><th scope=col>&lt;chr&gt;</th><th scope=col>&lt;chr&gt;</th><th scope=col>&lt;int&gt;</th></tr>\n",
       "</thead>\n",
       "<tbody>\n",
       "\t<tr><td>ADITWRGGQPQHF   </td><td>TRBV3-2 </td><td>TRBJ1-5</td><td>CHP_387-02_PBMC_DNA</td><td> 12</td><td>0.0017035775</td><td>GCCGACATTACCTGGAGAGGGGGTCAGCCCCAGCATTTT         </td><td>/Users/anabbi/Desktop/H4H/INTERCEPT/NextSeq/batch11_23Apr2020/mixcr/clones/CLONES_TRBCHP_387-02_PBMC_DNA.txt           </td><td>CHP_387-02_PBMC_DNA                     </td><td>/Users/anabbi/Desktop/H4H/INTERCEPT/NextSeq/batch11_23Apr2020/mixcr/clones/CLONES_TRBCHP_387-02_PBMC_DNA.txt                                                                                                              </td><td> 12</td></tr>\n",
       "\t<tr><td>CAAAGGGEAFF     </td><td>TRBV28  </td><td>TRBJ1-1</td><td>CHP_396-03_PBMC_DNA</td><td> 16</td><td>0.0033105731</td><td>TGTGCCGCAGCGGGGGGAGGTGAAGCTTTCTTT               </td><td>/Users/anabbi/Desktop/H4H/INTERCEPT/NextSeq/batch11_23Apr2020/mixcr/clones/CLONES_TRBCHP_396-03_PBMC_DNA.txt           </td><td>CHP_396-03_PBMC_DNA, CHP_396-04-PBMC-DNA</td><td>/Users/anabbi/Desktop/H4H/INTERCEPT/NextSeq/batch11_23Apr2020/mixcr/clones/CLONES_TRBCHP_396-03_PBMC_DNA.txt, /Users/anabbi/Desktop/H4H/INTERCEPT/NextSeq/batch13_26Aug2020/mixcr/clones/CLONES_TRBCHP_396-04-PBMC-DNA.txt</td><td>340</td></tr>\n",
       "\t<tr><td>CAAAGGGEAFF     </td><td>TRBV28  </td><td>TRBJ1-1</td><td>CHP_396-04-PBMC-DNA</td><td>324</td><td>0.0012697069</td><td>TGTGCCGCAGCGGGGGGAGGTGAAGCTTTCTTT               </td><td>/Users/anabbi/Desktop/H4H/INTERCEPT/NextSeq/batch13_26Aug2020/mixcr/clones/CLONES_TRBCHP_396-04-PBMC-DNA.txt           </td><td>CHP_396-03_PBMC_DNA, CHP_396-04-PBMC-DNA</td><td>/Users/anabbi/Desktop/H4H/INTERCEPT/NextSeq/batch11_23Apr2020/mixcr/clones/CLONES_TRBCHP_396-03_PBMC_DNA.txt, /Users/anabbi/Desktop/H4H/INTERCEPT/NextSeq/batch13_26Aug2020/mixcr/clones/CLONES_TRBCHP_396-04-PBMC-DNA.txt</td><td>340</td></tr>\n",
       "\t<tr><td>CAAAGGSGVGYEQYF </td><td>TRBV3-1 </td><td>TRBJ2-7</td><td>CHP_393-05-PBMC-DNA</td><td>151</td><td>0.0012674058</td><td>TGTGCCGCCGCCGGGGGCAGCGGGGTGGGCTACGAGCAGTACTTC   </td><td>/Users/anabbi/Desktop/H4H/INTERCEPT/NextSeq/batch13_26Aug2020/mixcr/clones/CLONES_TRBCHP_393-05-PBMC-DNA.txt           </td><td>CHP_393-05-PBMC-DNA                     </td><td>/Users/anabbi/Desktop/H4H/INTERCEPT/NextSeq/batch13_26Aug2020/mixcr/clones/CLONES_TRBCHP_393-05-PBMC-DNA.txt                                                                                                              </td><td>151</td></tr>\n",
       "\t<tr><td>CAAARGFDEQYF    </td><td>TRBV10-3</td><td>TRBJ2-7</td><td>CHP-411-02-PBMC-DNA</td><td> 20</td><td>0.0001310135</td><td>TGTGCCGCCGCACGGGGTTTCGACGAGCAGTACTTC            </td><td>/Users/anabbi/Desktop/H4H/INTERCEPT/NextSeq/remaining_batch_4_28June2021/mixcr/clones/CLONES_TRBCHP-411-02-PBMC-DNA.txt</td><td>CHP-411-02-PBMC-DNA                     </td><td>/Users/anabbi/Desktop/H4H/INTERCEPT/NextSeq/remaining_batch_4_28June2021/mixcr/clones/CLONES_TRBCHP-411-02-PBMC-DNA.txt                                                                                                   </td><td> 20</td></tr>\n",
       "\t<tr><td>CAACEPEVRDTDTQYF</td><td>TRBV28  </td><td>TRBJ2-3</td><td>CHP_338-05-PBMC-DNA</td><td> 11</td><td>0.0026397888</td><td>TGTGCCGCCTGCGAACCTGAAGTACGGGACACAGATACGCAGTATTTT</td><td>/Users/anabbi/Desktop/H4H/INTERCEPT/NextSeq/batch2_Aug62019/mixcr/clones/CLONES_TRBCHP_338-05-PBMC-DNA.txt             </td><td>CHP_338-05-PBMC-DNA, CHP_338-05-PBMC-DNA</td><td>/Users/anabbi/Desktop/H4H/INTERCEPT/NextSeq/batch2_Aug62019/mixcr/clones/CLONES_TRBCHP_338-05-PBMC-DNA.txt, /Users/anabbi/Desktop/H4H/INTERCEPT/NextSeq/batch2_Aug62019/mixcr/clones/CLONES_TRBCHP_338-05-PBMC-DNA.txt    </td><td> 12</td></tr>\n",
       "</tbody>\n",
       "</table>\n"
      ],
      "text/latex": [
       "A data.table: 6 × 11\n",
       "\\begin{tabular}{lllllllllll}\n",
       " CDR3b & TRBV & TRBJ & subject.condition & count.x & clonefraction & nSeqCDR3 & file.x & subject & file.y & count.y\\\\\n",
       " <chr> & <chr> & <chr> & <chr> & <int> & <dbl> & <chr> & <chr> & <chr> & <chr> & <int>\\\\\n",
       "\\hline\n",
       "\t ADITWRGGQPQHF    & TRBV3-2  & TRBJ1-5 & CHP\\_387-02\\_PBMC\\_DNA &  12 & 0.0017035775 & GCCGACATTACCTGGAGAGGGGGTCAGCCCCAGCATTTT          & /Users/anabbi/Desktop/H4H/INTERCEPT/NextSeq/batch11\\_23Apr2020/mixcr/clones/CLONES\\_TRBCHP\\_387-02\\_PBMC\\_DNA.txt            & CHP\\_387-02\\_PBMC\\_DNA                      & /Users/anabbi/Desktop/H4H/INTERCEPT/NextSeq/batch11\\_23Apr2020/mixcr/clones/CLONES\\_TRBCHP\\_387-02\\_PBMC\\_DNA.txt                                                                                                               &  12\\\\\n",
       "\t CAAAGGGEAFF      & TRBV28   & TRBJ1-1 & CHP\\_396-03\\_PBMC\\_DNA &  16 & 0.0033105731 & TGTGCCGCAGCGGGGGGAGGTGAAGCTTTCTTT                & /Users/anabbi/Desktop/H4H/INTERCEPT/NextSeq/batch11\\_23Apr2020/mixcr/clones/CLONES\\_TRBCHP\\_396-03\\_PBMC\\_DNA.txt            & CHP\\_396-03\\_PBMC\\_DNA, CHP\\_396-04-PBMC-DNA & /Users/anabbi/Desktop/H4H/INTERCEPT/NextSeq/batch11\\_23Apr2020/mixcr/clones/CLONES\\_TRBCHP\\_396-03\\_PBMC\\_DNA.txt, /Users/anabbi/Desktop/H4H/INTERCEPT/NextSeq/batch13\\_26Aug2020/mixcr/clones/CLONES\\_TRBCHP\\_396-04-PBMC-DNA.txt & 340\\\\\n",
       "\t CAAAGGGEAFF      & TRBV28   & TRBJ1-1 & CHP\\_396-04-PBMC-DNA & 324 & 0.0012697069 & TGTGCCGCAGCGGGGGGAGGTGAAGCTTTCTTT                & /Users/anabbi/Desktop/H4H/INTERCEPT/NextSeq/batch13\\_26Aug2020/mixcr/clones/CLONES\\_TRBCHP\\_396-04-PBMC-DNA.txt            & CHP\\_396-03\\_PBMC\\_DNA, CHP\\_396-04-PBMC-DNA & /Users/anabbi/Desktop/H4H/INTERCEPT/NextSeq/batch11\\_23Apr2020/mixcr/clones/CLONES\\_TRBCHP\\_396-03\\_PBMC\\_DNA.txt, /Users/anabbi/Desktop/H4H/INTERCEPT/NextSeq/batch13\\_26Aug2020/mixcr/clones/CLONES\\_TRBCHP\\_396-04-PBMC-DNA.txt & 340\\\\\n",
       "\t CAAAGGSGVGYEQYF  & TRBV3-1  & TRBJ2-7 & CHP\\_393-05-PBMC-DNA & 151 & 0.0012674058 & TGTGCCGCCGCCGGGGGCAGCGGGGTGGGCTACGAGCAGTACTTC    & /Users/anabbi/Desktop/H4H/INTERCEPT/NextSeq/batch13\\_26Aug2020/mixcr/clones/CLONES\\_TRBCHP\\_393-05-PBMC-DNA.txt            & CHP\\_393-05-PBMC-DNA                      & /Users/anabbi/Desktop/H4H/INTERCEPT/NextSeq/batch13\\_26Aug2020/mixcr/clones/CLONES\\_TRBCHP\\_393-05-PBMC-DNA.txt                                                                                                               & 151\\\\\n",
       "\t CAAARGFDEQYF     & TRBV10-3 & TRBJ2-7 & CHP-411-02-PBMC-DNA &  20 & 0.0001310135 & TGTGCCGCCGCACGGGGTTTCGACGAGCAGTACTTC             & /Users/anabbi/Desktop/H4H/INTERCEPT/NextSeq/remaining\\_batch\\_4\\_28June2021/mixcr/clones/CLONES\\_TRBCHP-411-02-PBMC-DNA.txt & CHP-411-02-PBMC-DNA                      & /Users/anabbi/Desktop/H4H/INTERCEPT/NextSeq/remaining\\_batch\\_4\\_28June2021/mixcr/clones/CLONES\\_TRBCHP-411-02-PBMC-DNA.txt                                                                                                    &  20\\\\\n",
       "\t CAACEPEVRDTDTQYF & TRBV28   & TRBJ2-3 & CHP\\_338-05-PBMC-DNA &  11 & 0.0026397888 & TGTGCCGCCTGCGAACCTGAAGTACGGGACACAGATACGCAGTATTTT & /Users/anabbi/Desktop/H4H/INTERCEPT/NextSeq/batch2\\_Aug62019/mixcr/clones/CLONES\\_TRBCHP\\_338-05-PBMC-DNA.txt              & CHP\\_338-05-PBMC-DNA, CHP\\_338-05-PBMC-DNA & /Users/anabbi/Desktop/H4H/INTERCEPT/NextSeq/batch2\\_Aug62019/mixcr/clones/CLONES\\_TRBCHP\\_338-05-PBMC-DNA.txt, /Users/anabbi/Desktop/H4H/INTERCEPT/NextSeq/batch2\\_Aug62019/mixcr/clones/CLONES\\_TRBCHP\\_338-05-PBMC-DNA.txt     &  12\\\\\n",
       "\\end{tabular}\n"
      ],
      "text/markdown": [
       "\n",
       "A data.table: 6 × 11\n",
       "\n",
       "| CDR3b &lt;chr&gt; | TRBV &lt;chr&gt; | TRBJ &lt;chr&gt; | subject.condition &lt;chr&gt; | count.x &lt;int&gt; | clonefraction &lt;dbl&gt; | nSeqCDR3 &lt;chr&gt; | file.x &lt;chr&gt; | subject &lt;chr&gt; | file.y &lt;chr&gt; | count.y &lt;int&gt; |\n",
       "|---|---|---|---|---|---|---|---|---|---|---|\n",
       "| ADITWRGGQPQHF    | TRBV3-2  | TRBJ1-5 | CHP_387-02_PBMC_DNA |  12 | 0.0017035775 | GCCGACATTACCTGGAGAGGGGGTCAGCCCCAGCATTTT          | /Users/anabbi/Desktop/H4H/INTERCEPT/NextSeq/batch11_23Apr2020/mixcr/clones/CLONES_TRBCHP_387-02_PBMC_DNA.txt            | CHP_387-02_PBMC_DNA                      | /Users/anabbi/Desktop/H4H/INTERCEPT/NextSeq/batch11_23Apr2020/mixcr/clones/CLONES_TRBCHP_387-02_PBMC_DNA.txt                                                                                                               |  12 |\n",
       "| CAAAGGGEAFF      | TRBV28   | TRBJ1-1 | CHP_396-03_PBMC_DNA |  16 | 0.0033105731 | TGTGCCGCAGCGGGGGGAGGTGAAGCTTTCTTT                | /Users/anabbi/Desktop/H4H/INTERCEPT/NextSeq/batch11_23Apr2020/mixcr/clones/CLONES_TRBCHP_396-03_PBMC_DNA.txt            | CHP_396-03_PBMC_DNA, CHP_396-04-PBMC-DNA | /Users/anabbi/Desktop/H4H/INTERCEPT/NextSeq/batch11_23Apr2020/mixcr/clones/CLONES_TRBCHP_396-03_PBMC_DNA.txt, /Users/anabbi/Desktop/H4H/INTERCEPT/NextSeq/batch13_26Aug2020/mixcr/clones/CLONES_TRBCHP_396-04-PBMC-DNA.txt | 340 |\n",
       "| CAAAGGGEAFF      | TRBV28   | TRBJ1-1 | CHP_396-04-PBMC-DNA | 324 | 0.0012697069 | TGTGCCGCAGCGGGGGGAGGTGAAGCTTTCTTT                | /Users/anabbi/Desktop/H4H/INTERCEPT/NextSeq/batch13_26Aug2020/mixcr/clones/CLONES_TRBCHP_396-04-PBMC-DNA.txt            | CHP_396-03_PBMC_DNA, CHP_396-04-PBMC-DNA | /Users/anabbi/Desktop/H4H/INTERCEPT/NextSeq/batch11_23Apr2020/mixcr/clones/CLONES_TRBCHP_396-03_PBMC_DNA.txt, /Users/anabbi/Desktop/H4H/INTERCEPT/NextSeq/batch13_26Aug2020/mixcr/clones/CLONES_TRBCHP_396-04-PBMC-DNA.txt | 340 |\n",
       "| CAAAGGSGVGYEQYF  | TRBV3-1  | TRBJ2-7 | CHP_393-05-PBMC-DNA | 151 | 0.0012674058 | TGTGCCGCCGCCGGGGGCAGCGGGGTGGGCTACGAGCAGTACTTC    | /Users/anabbi/Desktop/H4H/INTERCEPT/NextSeq/batch13_26Aug2020/mixcr/clones/CLONES_TRBCHP_393-05-PBMC-DNA.txt            | CHP_393-05-PBMC-DNA                      | /Users/anabbi/Desktop/H4H/INTERCEPT/NextSeq/batch13_26Aug2020/mixcr/clones/CLONES_TRBCHP_393-05-PBMC-DNA.txt                                                                                                               | 151 |\n",
       "| CAAARGFDEQYF     | TRBV10-3 | TRBJ2-7 | CHP-411-02-PBMC-DNA |  20 | 0.0001310135 | TGTGCCGCCGCACGGGGTTTCGACGAGCAGTACTTC             | /Users/anabbi/Desktop/H4H/INTERCEPT/NextSeq/remaining_batch_4_28June2021/mixcr/clones/CLONES_TRBCHP-411-02-PBMC-DNA.txt | CHP-411-02-PBMC-DNA                      | /Users/anabbi/Desktop/H4H/INTERCEPT/NextSeq/remaining_batch_4_28June2021/mixcr/clones/CLONES_TRBCHP-411-02-PBMC-DNA.txt                                                                                                    |  20 |\n",
       "| CAACEPEVRDTDTQYF | TRBV28   | TRBJ2-3 | CHP_338-05-PBMC-DNA |  11 | 0.0026397888 | TGTGCCGCCTGCGAACCTGAAGTACGGGACACAGATACGCAGTATTTT | /Users/anabbi/Desktop/H4H/INTERCEPT/NextSeq/batch2_Aug62019/mixcr/clones/CLONES_TRBCHP_338-05-PBMC-DNA.txt              | CHP_338-05-PBMC-DNA, CHP_338-05-PBMC-DNA | /Users/anabbi/Desktop/H4H/INTERCEPT/NextSeq/batch2_Aug62019/mixcr/clones/CLONES_TRBCHP_338-05-PBMC-DNA.txt, /Users/anabbi/Desktop/H4H/INTERCEPT/NextSeq/batch2_Aug62019/mixcr/clones/CLONES_TRBCHP_338-05-PBMC-DNA.txt     |  12 |\n",
       "\n"
      ],
      "text/plain": [
       "  CDR3b            TRBV     TRBJ    subject.condition   count.x clonefraction\n",
       "1 ADITWRGGQPQHF    TRBV3-2  TRBJ1-5 CHP_387-02_PBMC_DNA  12     0.0017035775 \n",
       "2 CAAAGGGEAFF      TRBV28   TRBJ1-1 CHP_396-03_PBMC_DNA  16     0.0033105731 \n",
       "3 CAAAGGGEAFF      TRBV28   TRBJ1-1 CHP_396-04-PBMC-DNA 324     0.0012697069 \n",
       "4 CAAAGGSGVGYEQYF  TRBV3-1  TRBJ2-7 CHP_393-05-PBMC-DNA 151     0.0012674058 \n",
       "5 CAAARGFDEQYF     TRBV10-3 TRBJ2-7 CHP-411-02-PBMC-DNA  20     0.0001310135 \n",
       "6 CAACEPEVRDTDTQYF TRBV28   TRBJ2-3 CHP_338-05-PBMC-DNA  11     0.0026397888 \n",
       "  nSeqCDR3                                        \n",
       "1 GCCGACATTACCTGGAGAGGGGGTCAGCCCCAGCATTTT         \n",
       "2 TGTGCCGCAGCGGGGGGAGGTGAAGCTTTCTTT               \n",
       "3 TGTGCCGCAGCGGGGGGAGGTGAAGCTTTCTTT               \n",
       "4 TGTGCCGCCGCCGGGGGCAGCGGGGTGGGCTACGAGCAGTACTTC   \n",
       "5 TGTGCCGCCGCACGGGGTTTCGACGAGCAGTACTTC            \n",
       "6 TGTGCCGCCTGCGAACCTGAAGTACGGGACACAGATACGCAGTATTTT\n",
       "  file.x                                                                                                                 \n",
       "1 /Users/anabbi/Desktop/H4H/INTERCEPT/NextSeq/batch11_23Apr2020/mixcr/clones/CLONES_TRBCHP_387-02_PBMC_DNA.txt           \n",
       "2 /Users/anabbi/Desktop/H4H/INTERCEPT/NextSeq/batch11_23Apr2020/mixcr/clones/CLONES_TRBCHP_396-03_PBMC_DNA.txt           \n",
       "3 /Users/anabbi/Desktop/H4H/INTERCEPT/NextSeq/batch13_26Aug2020/mixcr/clones/CLONES_TRBCHP_396-04-PBMC-DNA.txt           \n",
       "4 /Users/anabbi/Desktop/H4H/INTERCEPT/NextSeq/batch13_26Aug2020/mixcr/clones/CLONES_TRBCHP_393-05-PBMC-DNA.txt           \n",
       "5 /Users/anabbi/Desktop/H4H/INTERCEPT/NextSeq/remaining_batch_4_28June2021/mixcr/clones/CLONES_TRBCHP-411-02-PBMC-DNA.txt\n",
       "6 /Users/anabbi/Desktop/H4H/INTERCEPT/NextSeq/batch2_Aug62019/mixcr/clones/CLONES_TRBCHP_338-05-PBMC-DNA.txt             \n",
       "  subject                                 \n",
       "1 CHP_387-02_PBMC_DNA                     \n",
       "2 CHP_396-03_PBMC_DNA, CHP_396-04-PBMC-DNA\n",
       "3 CHP_396-03_PBMC_DNA, CHP_396-04-PBMC-DNA\n",
       "4 CHP_393-05-PBMC-DNA                     \n",
       "5 CHP-411-02-PBMC-DNA                     \n",
       "6 CHP_338-05-PBMC-DNA, CHP_338-05-PBMC-DNA\n",
       "  file.y                                                                                                                                                                                                                    \n",
       "1 /Users/anabbi/Desktop/H4H/INTERCEPT/NextSeq/batch11_23Apr2020/mixcr/clones/CLONES_TRBCHP_387-02_PBMC_DNA.txt                                                                                                              \n",
       "2 /Users/anabbi/Desktop/H4H/INTERCEPT/NextSeq/batch11_23Apr2020/mixcr/clones/CLONES_TRBCHP_396-03_PBMC_DNA.txt, /Users/anabbi/Desktop/H4H/INTERCEPT/NextSeq/batch13_26Aug2020/mixcr/clones/CLONES_TRBCHP_396-04-PBMC-DNA.txt\n",
       "3 /Users/anabbi/Desktop/H4H/INTERCEPT/NextSeq/batch11_23Apr2020/mixcr/clones/CLONES_TRBCHP_396-03_PBMC_DNA.txt, /Users/anabbi/Desktop/H4H/INTERCEPT/NextSeq/batch13_26Aug2020/mixcr/clones/CLONES_TRBCHP_396-04-PBMC-DNA.txt\n",
       "4 /Users/anabbi/Desktop/H4H/INTERCEPT/NextSeq/batch13_26Aug2020/mixcr/clones/CLONES_TRBCHP_393-05-PBMC-DNA.txt                                                                                                              \n",
       "5 /Users/anabbi/Desktop/H4H/INTERCEPT/NextSeq/remaining_batch_4_28June2021/mixcr/clones/CLONES_TRBCHP-411-02-PBMC-DNA.txt                                                                                                   \n",
       "6 /Users/anabbi/Desktop/H4H/INTERCEPT/NextSeq/batch2_Aug62019/mixcr/clones/CLONES_TRBCHP_338-05-PBMC-DNA.txt, /Users/anabbi/Desktop/H4H/INTERCEPT/NextSeq/batch2_Aug62019/mixcr/clones/CLONES_TRBCHP_338-05-PBMC-DNA.txt    \n",
       "  count.y\n",
       "1  12    \n",
       "2 340    \n",
       "3 340    \n",
       "4 151    \n",
       "5  20    \n",
       "6  12    "
      ]
     },
     "metadata": {},
     "output_type": "display_data"
    }
   ],
   "source": [
    "head(gliph_input_ab)"
   ]
  },
  {
   "cell_type": "code",
   "execution_count": 14,
   "metadata": {
    "vscode": {
     "languageId": "r"
    }
   },
   "outputs": [],
   "source": [
    "#dedup\n",
    "gliph_input_ab_dedup <- dplyr::distinct(gliph_input_ab, CDR3b, TRBV, TRBJ, subject, .keep_all= TRUE)"
   ]
  },
  {
   "cell_type": "code",
   "execution_count": 15,
   "metadata": {
    "vscode": {
     "languageId": "r"
    }
   },
   "outputs": [
    {
     "data": {
      "text/html": [
       "<style>\n",
       ".list-inline {list-style: none; margin:0; padding: 0}\n",
       ".list-inline>li {display: inline-block}\n",
       ".list-inline>li:not(:last-child)::after {content: \"\\00b7\"; padding: 0 .5ex}\n",
       "</style>\n",
       "<ol class=list-inline><li>72634</li><li>11</li></ol>\n"
      ],
      "text/latex": [
       "\\begin{enumerate*}\n",
       "\\item 72634\n",
       "\\item 11\n",
       "\\end{enumerate*}\n"
      ],
      "text/markdown": [
       "1. 72634\n",
       "2. 11\n",
       "\n",
       "\n"
      ],
      "text/plain": [
       "[1] 72634    11"
      ]
     },
     "metadata": {},
     "output_type": "display_data"
    },
    {
     "data": {
      "text/html": [
       "<style>\n",
       ".list-inline {list-style: none; margin:0; padding: 0}\n",
       ".list-inline>li {display: inline-block}\n",
       ".list-inline>li:not(:last-child)::after {content: \"\\00b7\"; padding: 0 .5ex}\n",
       "</style>\n",
       "<ol class=list-inline><li>68956</li><li>11</li></ol>\n"
      ],
      "text/latex": [
       "\\begin{enumerate*}\n",
       "\\item 68956\n",
       "\\item 11\n",
       "\\end{enumerate*}\n"
      ],
      "text/markdown": [
       "1. 68956\n",
       "2. 11\n",
       "\n",
       "\n"
      ],
      "text/plain": [
       "[1] 68956    11"
      ]
     },
     "metadata": {},
     "output_type": "display_data"
    }
   ],
   "source": [
    "dim(gliph_input_ab)\n",
    "dim(gliph_input_ab_dedup)"
   ]
  },
  {
   "cell_type": "code",
   "execution_count": 16,
   "metadata": {
    "vscode": {
     "languageId": "r"
    }
   },
   "outputs": [
    {
     "data": {
      "text/html": [
       "'/Users/anabbi/OneDrive - UHN/Documents/INTERCEPT/Data/'"
      ],
      "text/latex": [
       "'/Users/anabbi/OneDrive - UHN/Documents/INTERCEPT/Data/'"
      ],
      "text/markdown": [
       "'/Users/anabbi/OneDrive - UHN/Documents/INTERCEPT/Data/'"
      ],
      "text/plain": [
       "[1] \"/Users/anabbi/OneDrive - UHN/Documents/INTERCEPT/Data/\""
      ]
     },
     "metadata": {},
     "output_type": "display_data"
    }
   ],
   "source": [
    "datapath"
   ]
  },
  {
   "cell_type": "code",
   "execution_count": 17,
   "metadata": {
    "vscode": {
     "languageId": "r"
    }
   },
   "outputs": [],
   "source": [
    "#index column incase I want to map gliph_input_dedup_ab_subset back to gliph_input_dedup_ab\n",
    "gliph_input_ab_dedup$index <- 1:nrow(gliph_input_ab_dedup)"
   ]
  },
  {
   "cell_type": "code",
   "execution_count": 18,
   "metadata": {
    "vscode": {
     "languageId": "r"
    }
   },
   "outputs": [],
   "source": [
    "save(gliph_input_ab_dedup, file = paste0(datapath, \"capTCRseq/gliph_input_ab_dedup.RData\"))"
   ]
  },
  {
   "cell_type": "code",
   "execution_count": 19,
   "metadata": {
    "vscode": {
     "languageId": "r"
    }
   },
   "outputs": [
    {
     "data": {
      "text/html": [
       "<style>\n",
       ".list-inline {list-style: none; margin:0; padding: 0}\n",
       ".list-inline>li {display: inline-block}\n",
       ".list-inline>li:not(:last-child)::after {content: \"\\00b7\"; padding: 0 .5ex}\n",
       "</style>\n",
       "<ol class=list-inline><li>'CDR3b'</li><li>'TRBV'</li><li>'TRBJ'</li><li>'subject.condition'</li><li>'count.x'</li><li>'clonefraction'</li><li>'nSeqCDR3'</li><li>'file.x'</li><li>'subject'</li><li>'file.y'</li><li>'count.y'</li><li>'index'</li></ol>\n"
      ],
      "text/latex": [
       "\\begin{enumerate*}\n",
       "\\item 'CDR3b'\n",
       "\\item 'TRBV'\n",
       "\\item 'TRBJ'\n",
       "\\item 'subject.condition'\n",
       "\\item 'count.x'\n",
       "\\item 'clonefraction'\n",
       "\\item 'nSeqCDR3'\n",
       "\\item 'file.x'\n",
       "\\item 'subject'\n",
       "\\item 'file.y'\n",
       "\\item 'count.y'\n",
       "\\item 'index'\n",
       "\\end{enumerate*}\n"
      ],
      "text/markdown": [
       "1. 'CDR3b'\n",
       "2. 'TRBV'\n",
       "3. 'TRBJ'\n",
       "4. 'subject.condition'\n",
       "5. 'count.x'\n",
       "6. 'clonefraction'\n",
       "7. 'nSeqCDR3'\n",
       "8. 'file.x'\n",
       "9. 'subject'\n",
       "10. 'file.y'\n",
       "11. 'count.y'\n",
       "12. 'index'\n",
       "\n",
       "\n"
      ],
      "text/plain": [
       " [1] \"CDR3b\"             \"TRBV\"              \"TRBJ\"             \n",
       " [4] \"subject.condition\" \"count.x\"           \"clonefraction\"    \n",
       " [7] \"nSeqCDR3\"          \"file.x\"            \"subject\"          \n",
       "[10] \"file.y\"            \"count.y\"           \"index\"            "
      ]
     },
     "metadata": {},
     "output_type": "display_data"
    }
   ],
   "source": [
    "colnames(gliph_input_ab_dedup)"
   ]
  },
  {
   "cell_type": "code",
   "execution_count": 20,
   "metadata": {
    "vscode": {
     "languageId": "r"
    }
   },
   "outputs": [],
   "source": [
    "#reorder and subset to input to gliph\n",
    "gliph_input_ab_dedup_subset <- gliph_input_ab_dedup[, c(\"CDR3b\", \"TRBV\", \"TRBJ\", \"subject\", \"count.y\", \"file.y\", \"index\")]\n",
    "                                                         "
   ]
  },
  {
   "cell_type": "code",
   "execution_count": 21,
   "metadata": {
    "vscode": {
     "languageId": "r"
    }
   },
   "outputs": [],
   "source": [
    "colnames(gliph_input_ab_dedup_subset) <- c(\"CDR3b\", \"TRBV\", \"TRBJ\", \"subject:condition\", \"count\", \"file\", \"index\")"
   ]
  },
  {
   "cell_type": "code",
   "execution_count": 22,
   "metadata": {
    "vscode": {
     "languageId": "r"
    }
   },
   "outputs": [],
   "source": [
    "save(gliph_input_ab_dedup_subset, file = paste0(datapath, \"capTCRseq/gliph_input_ab_dedup_subset.RData\"))"
   ]
  },
  {
   "cell_type": "code",
   "execution_count": null,
   "metadata": {
    "vscode": {
     "languageId": "r"
    }
   },
   "outputs": [],
   "source": []
  },
  {
   "cell_type": "code",
   "execution_count": null,
   "metadata": {
    "vscode": {
     "languageId": "r"
    }
   },
   "outputs": [],
   "source": []
  },
  {
   "cell_type": "code",
   "execution_count": null,
   "metadata": {
    "vscode": {
     "languageId": "r"
    }
   },
   "outputs": [],
   "source": []
  },
  {
   "cell_type": "markdown",
   "metadata": {},
   "source": [
    "## Cleanup Adaptive data"
   ]
  },
  {
   "cell_type": "code",
   "execution_count": 6,
   "metadata": {
    "vscode": {
     "languageId": "r"
    }
   },
   "outputs": [],
   "source": [
    "emerson <- read.table('/Users/anabbi/Desktop/H4H/pughlab/external_data/Adaptive/emerson2017/P00496.tsv', sep = \"\\t\", header = F)"
   ]
  },
  {
   "cell_type": "code",
   "execution_count": 7,
   "metadata": {
    "vscode": {
     "languageId": "r"
    }
   },
   "outputs": [
    {
     "data": {
      "text/html": [
       "<table class=\"dataframe\">\n",
       "<caption>A data.frame: 6 × 118</caption>\n",
       "<thead>\n",
       "\t<tr><th></th><th scope=col>V1</th><th scope=col>V2</th><th scope=col>V3</th><th scope=col>V4</th><th scope=col>V5</th><th scope=col>V6</th><th scope=col>V7</th><th scope=col>V8</th><th scope=col>V9</th><th scope=col>V10</th><th scope=col>⋯</th><th scope=col>V109</th><th scope=col>V110</th><th scope=col>V111</th><th scope=col>V112</th><th scope=col>V113</th><th scope=col>V114</th><th scope=col>V115</th><th scope=col>V116</th><th scope=col>V117</th><th scope=col>V118</th></tr>\n",
       "\t<tr><th></th><th scope=col>&lt;chr&gt;</th><th scope=col>&lt;chr&gt;</th><th scope=col>&lt;chr&gt;</th><th scope=col>&lt;chr&gt;</th><th scope=col>&lt;chr&gt;</th><th scope=col>&lt;chr&gt;</th><th scope=col>&lt;chr&gt;</th><th scope=col>&lt;chr&gt;</th><th scope=col>&lt;chr&gt;</th><th scope=col>&lt;chr&gt;</th><th scope=col>⋯</th><th scope=col>&lt;chr&gt;</th><th scope=col>&lt;chr&gt;</th><th scope=col>&lt;chr&gt;</th><th scope=col>&lt;chr&gt;</th><th scope=col>&lt;chr&gt;</th><th scope=col>&lt;chr&gt;</th><th scope=col>&lt;chr&gt;</th><th scope=col>&lt;chr&gt;</th><th scope=col>&lt;chr&gt;</th><th scope=col>&lt;chr&gt;</th></tr>\n",
       "</thead>\n",
       "<tbody>\n",
       "\t<tr><th scope=row>1</th><td>sample_name</td><td>species</td><td>locus</td><td>product_subtype</td><td>kit_pool</td><td>sku</td><td>test_name</td><td>sample_catalog_tags                                                                                                                                                                                                                                                                                                                                                                                                                                     </td><td>sample_rich_tags</td><td>sample_rich_tags_json</td><td>⋯</td><td>cdr3_rearrangement                        </td><td>cdr3_amino_acid</td><td>cdr3_start_index</td><td>cdr3_rearrangement_length</td><td>chosen_v_family</td><td>chosen_v_gene</td><td>chosen_v_allele</td><td>chosen_j_family</td><td>chosen_j_gene</td><td>chosen_j_allele</td></tr>\n",
       "\t<tr><th scope=row>2</th><td>P00496     </td><td>Human  </td><td>TCRB </td><td>UltraDeep      </td><td>        </td><td>   </td><td>         </td><td>Age (Range):35-60 Years,Age (Range):45-65 Years (Late Adulthood),Age (Range):50-54 Years,Age:50 Years,Biological Sex:Female,Ethnic Group:Non-Hispanic or Latino,HLA MHC class I:HLA-A*02,HLA MHC class I:HLA-A*34,HLA MHC class I:HLA-B*15,HLA MHC class I:HLA-B*38,Racial Group:Asian or Pacific Islander,Tissue Source:PBMC,Tissue Source:Peripheral blood lymphocytes (PBL),Tissue Source:T cells,Tissue Source:gDNA,Virus Diseases:Cytomegalovirus +</td><td>null            </td><td>                     </td><td>⋯</td><td>TGTGCCAGCAGCCTGACTCTAAACACTGAAGCTTTCTTT   </td><td>CASSLTLNTEAFF  </td><td>327             </td><td>39                       </td><td>TCRBV05        </td><td>05           </td><td>01             </td><td>TCRBJ01        </td><td>01           </td><td>01             </td></tr>\n",
       "\t<tr><th scope=row>3</th><td>P00496     </td><td>Human  </td><td>TCRB </td><td>UltraDeep      </td><td>        </td><td>   </td><td>         </td><td>Age (Range):35-60 Years,Age (Range):45-65 Years (Late Adulthood),Age (Range):50-54 Years,Age:50 Years,Biological Sex:Female,Ethnic Group:Non-Hispanic or Latino,HLA MHC class I:HLA-A*02,HLA MHC class I:HLA-A*34,HLA MHC class I:HLA-B*15,HLA MHC class I:HLA-B*38,Racial Group:Asian or Pacific Islander,Tissue Source:PBMC,Tissue Source:Peripheral blood lymphocytes (PBL),Tissue Source:T cells,Tissue Source:gDNA,Virus Diseases:Cytomegalovirus +</td><td>null            </td><td>                     </td><td>⋯</td><td>TGTGCCAGCAGCTTGGAACTCAATCAGCCCCAGCATTTT   </td><td>CASSLELNQPQHF  </td><td>327             </td><td>39                       </td><td>TCRBV05        </td><td>05           </td><td>01             </td><td>TCRBJ01        </td><td>05           </td><td>01             </td></tr>\n",
       "\t<tr><th scope=row>4</th><td>P00496     </td><td>Human  </td><td>TCRB </td><td>UltraDeep      </td><td>        </td><td>   </td><td>         </td><td>Age (Range):35-60 Years,Age (Range):45-65 Years (Late Adulthood),Age (Range):50-54 Years,Age:50 Years,Biological Sex:Female,Ethnic Group:Non-Hispanic or Latino,HLA MHC class I:HLA-A*02,HLA MHC class I:HLA-A*34,HLA MHC class I:HLA-B*15,HLA MHC class I:HLA-B*38,Racial Group:Asian or Pacific Islander,Tissue Source:PBMC,Tissue Source:Peripheral blood lymphocytes (PBL),Tissue Source:T cells,Tissue Source:gDNA,Virus Diseases:Cytomegalovirus +</td><td>null            </td><td>                     </td><td>⋯</td><td>TGTGCCAGCGCCCGGGGGAACACTGAAGCTTTCTTT      </td><td>CASARGNTEAFF   </td><td>327             </td><td>36                       </td><td>TCRBV05        </td><td>05           </td><td>01             </td><td>TCRBJ01        </td><td>01           </td><td>01             </td></tr>\n",
       "\t<tr><th scope=row>5</th><td>P00496     </td><td>Human  </td><td>TCRB </td><td>UltraDeep      </td><td>        </td><td>   </td><td>         </td><td>Age (Range):35-60 Years,Age (Range):45-65 Years (Late Adulthood),Age (Range):50-54 Years,Age:50 Years,Biological Sex:Female,Ethnic Group:Non-Hispanic or Latino,HLA MHC class I:HLA-A*02,HLA MHC class I:HLA-A*34,HLA MHC class I:HLA-B*15,HLA MHC class I:HLA-B*38,Racial Group:Asian or Pacific Islander,Tissue Source:PBMC,Tissue Source:Peripheral blood lymphocytes (PBL),Tissue Source:T cells,Tissue Source:gDNA,Virus Diseases:Cytomegalovirus +</td><td>null            </td><td>                     </td><td>⋯</td><td>                                          </td><td>               </td><td>                </td><td>0                        </td><td>               </td><td>             </td><td>               </td><td>               </td><td>             </td><td>               </td></tr>\n",
       "\t<tr><th scope=row>6</th><td>P00496     </td><td>Human  </td><td>TCRB </td><td>UltraDeep      </td><td>        </td><td>   </td><td>         </td><td>Age (Range):35-60 Years,Age (Range):45-65 Years (Late Adulthood),Age (Range):50-54 Years,Age:50 Years,Biological Sex:Female,Ethnic Group:Non-Hispanic or Latino,HLA MHC class I:HLA-A*02,HLA MHC class I:HLA-A*34,HLA MHC class I:HLA-B*15,HLA MHC class I:HLA-B*38,Racial Group:Asian or Pacific Islander,Tissue Source:PBMC,Tissue Source:Peripheral blood lymphocytes (PBL),Tissue Source:T cells,Tissue Source:gDNA,Virus Diseases:Cytomegalovirus +</td><td>null            </td><td>                     </td><td>⋯</td><td>TGTGCCAGCAGACCCAAGAGCTCCTACAATGAGCAGTTCTTC</td><td>CASRPKSSYNEQFF </td><td>327             </td><td>42                       </td><td>TCRBV05        </td><td>05           </td><td>01             </td><td>TCRBJ02        </td><td>01           </td><td>01             </td></tr>\n",
       "</tbody>\n",
       "</table>\n"
      ],
      "text/latex": [
       "A data.frame: 6 × 118\n",
       "\\begin{tabular}{r|lllllllllllllllllllll}\n",
       "  & V1 & V2 & V3 & V4 & V5 & V6 & V7 & V8 & V9 & V10 & ⋯ & V109 & V110 & V111 & V112 & V113 & V114 & V115 & V116 & V117 & V118\\\\\n",
       "  & <chr> & <chr> & <chr> & <chr> & <chr> & <chr> & <chr> & <chr> & <chr> & <chr> & ⋯ & <chr> & <chr> & <chr> & <chr> & <chr> & <chr> & <chr> & <chr> & <chr> & <chr>\\\\\n",
       "\\hline\n",
       "\t1 & sample\\_name & species & locus & product\\_subtype & kit\\_pool & sku & test\\_name & sample\\_catalog\\_tags                                                                                                                                                                                                                                                                                                                                                                                                                                      & sample\\_rich\\_tags & sample\\_rich\\_tags\\_json & ⋯ & cdr3\\_rearrangement                         & cdr3\\_amino\\_acid & cdr3\\_start\\_index & cdr3\\_rearrangement\\_length & chosen\\_v\\_family & chosen\\_v\\_gene & chosen\\_v\\_allele & chosen\\_j\\_family & chosen\\_j\\_gene & chosen\\_j\\_allele\\\\\n",
       "\t2 & P00496      & Human   & TCRB  & UltraDeep       &          &     &           & Age (Range):35-60 Years,Age (Range):45-65 Years (Late Adulthood),Age (Range):50-54 Years,Age:50 Years,Biological Sex:Female,Ethnic Group:Non-Hispanic or Latino,HLA MHC class I:HLA-A*02,HLA MHC class I:HLA-A*34,HLA MHC class I:HLA-B*15,HLA MHC class I:HLA-B*38,Racial Group:Asian or Pacific Islander,Tissue Source:PBMC,Tissue Source:Peripheral blood lymphocytes (PBL),Tissue Source:T cells,Tissue Source:gDNA,Virus Diseases:Cytomegalovirus + & null             &                       & ⋯ & TGTGCCAGCAGCCTGACTCTAAACACTGAAGCTTTCTTT    & CASSLTLNTEAFF   & 327              & 39                        & TCRBV05         & 05            & 01              & TCRBJ01         & 01            & 01             \\\\\n",
       "\t3 & P00496      & Human   & TCRB  & UltraDeep       &          &     &           & Age (Range):35-60 Years,Age (Range):45-65 Years (Late Adulthood),Age (Range):50-54 Years,Age:50 Years,Biological Sex:Female,Ethnic Group:Non-Hispanic or Latino,HLA MHC class I:HLA-A*02,HLA MHC class I:HLA-A*34,HLA MHC class I:HLA-B*15,HLA MHC class I:HLA-B*38,Racial Group:Asian or Pacific Islander,Tissue Source:PBMC,Tissue Source:Peripheral blood lymphocytes (PBL),Tissue Source:T cells,Tissue Source:gDNA,Virus Diseases:Cytomegalovirus + & null             &                       & ⋯ & TGTGCCAGCAGCTTGGAACTCAATCAGCCCCAGCATTTT    & CASSLELNQPQHF   & 327              & 39                        & TCRBV05         & 05            & 01              & TCRBJ01         & 05            & 01             \\\\\n",
       "\t4 & P00496      & Human   & TCRB  & UltraDeep       &          &     &           & Age (Range):35-60 Years,Age (Range):45-65 Years (Late Adulthood),Age (Range):50-54 Years,Age:50 Years,Biological Sex:Female,Ethnic Group:Non-Hispanic or Latino,HLA MHC class I:HLA-A*02,HLA MHC class I:HLA-A*34,HLA MHC class I:HLA-B*15,HLA MHC class I:HLA-B*38,Racial Group:Asian or Pacific Islander,Tissue Source:PBMC,Tissue Source:Peripheral blood lymphocytes (PBL),Tissue Source:T cells,Tissue Source:gDNA,Virus Diseases:Cytomegalovirus + & null             &                       & ⋯ & TGTGCCAGCGCCCGGGGGAACACTGAAGCTTTCTTT       & CASARGNTEAFF    & 327              & 36                        & TCRBV05         & 05            & 01              & TCRBJ01         & 01            & 01             \\\\\n",
       "\t5 & P00496      & Human   & TCRB  & UltraDeep       &          &     &           & Age (Range):35-60 Years,Age (Range):45-65 Years (Late Adulthood),Age (Range):50-54 Years,Age:50 Years,Biological Sex:Female,Ethnic Group:Non-Hispanic or Latino,HLA MHC class I:HLA-A*02,HLA MHC class I:HLA-A*34,HLA MHC class I:HLA-B*15,HLA MHC class I:HLA-B*38,Racial Group:Asian or Pacific Islander,Tissue Source:PBMC,Tissue Source:Peripheral blood lymphocytes (PBL),Tissue Source:T cells,Tissue Source:gDNA,Virus Diseases:Cytomegalovirus + & null             &                       & ⋯ &                                            &                 &                  & 0                         &                 &               &                 &                 &               &                \\\\\n",
       "\t6 & P00496      & Human   & TCRB  & UltraDeep       &          &     &           & Age (Range):35-60 Years,Age (Range):45-65 Years (Late Adulthood),Age (Range):50-54 Years,Age:50 Years,Biological Sex:Female,Ethnic Group:Non-Hispanic or Latino,HLA MHC class I:HLA-A*02,HLA MHC class I:HLA-A*34,HLA MHC class I:HLA-B*15,HLA MHC class I:HLA-B*38,Racial Group:Asian or Pacific Islander,Tissue Source:PBMC,Tissue Source:Peripheral blood lymphocytes (PBL),Tissue Source:T cells,Tissue Source:gDNA,Virus Diseases:Cytomegalovirus + & null             &                       & ⋯ & TGTGCCAGCAGACCCAAGAGCTCCTACAATGAGCAGTTCTTC & CASRPKSSYNEQFF  & 327              & 42                        & TCRBV05         & 05            & 01              & TCRBJ02         & 01            & 01             \\\\\n",
       "\\end{tabular}\n"
      ],
      "text/markdown": [
       "\n",
       "A data.frame: 6 × 118\n",
       "\n",
       "| <!--/--> | V1 &lt;chr&gt; | V2 &lt;chr&gt; | V3 &lt;chr&gt; | V4 &lt;chr&gt; | V5 &lt;chr&gt; | V6 &lt;chr&gt; | V7 &lt;chr&gt; | V8 &lt;chr&gt; | V9 &lt;chr&gt; | V10 &lt;chr&gt; | ⋯ ⋯ | V109 &lt;chr&gt; | V110 &lt;chr&gt; | V111 &lt;chr&gt; | V112 &lt;chr&gt; | V113 &lt;chr&gt; | V114 &lt;chr&gt; | V115 &lt;chr&gt; | V116 &lt;chr&gt; | V117 &lt;chr&gt; | V118 &lt;chr&gt; |\n",
       "|---|---|---|---|---|---|---|---|---|---|---|---|---|---|---|---|---|---|---|---|---|---|\n",
       "| 1 | sample_name | species | locus | product_subtype | kit_pool | sku | test_name | sample_catalog_tags                                                                                                                                                                                                                                                                                                                                                                                                                                      | sample_rich_tags | sample_rich_tags_json | ⋯ | cdr3_rearrangement                         | cdr3_amino_acid | cdr3_start_index | cdr3_rearrangement_length | chosen_v_family | chosen_v_gene | chosen_v_allele | chosen_j_family | chosen_j_gene | chosen_j_allele |\n",
       "| 2 | P00496      | Human   | TCRB  | UltraDeep       | <!----> | <!----> | <!----> | Age (Range):35-60 Years,Age (Range):45-65 Years (Late Adulthood),Age (Range):50-54 Years,Age:50 Years,Biological Sex:Female,Ethnic Group:Non-Hispanic or Latino,HLA MHC class I:HLA-A*02,HLA MHC class I:HLA-A*34,HLA MHC class I:HLA-B*15,HLA MHC class I:HLA-B*38,Racial Group:Asian or Pacific Islander,Tissue Source:PBMC,Tissue Source:Peripheral blood lymphocytes (PBL),Tissue Source:T cells,Tissue Source:gDNA,Virus Diseases:Cytomegalovirus + | null             | <!----> | ⋯ | TGTGCCAGCAGCCTGACTCTAAACACTGAAGCTTTCTTT    | CASSLTLNTEAFF   | 327              | 39                        | TCRBV05         | 05            | 01              | TCRBJ01         | 01            | 01              |\n",
       "| 3 | P00496      | Human   | TCRB  | UltraDeep       | <!----> | <!----> | <!----> | Age (Range):35-60 Years,Age (Range):45-65 Years (Late Adulthood),Age (Range):50-54 Years,Age:50 Years,Biological Sex:Female,Ethnic Group:Non-Hispanic or Latino,HLA MHC class I:HLA-A*02,HLA MHC class I:HLA-A*34,HLA MHC class I:HLA-B*15,HLA MHC class I:HLA-B*38,Racial Group:Asian or Pacific Islander,Tissue Source:PBMC,Tissue Source:Peripheral blood lymphocytes (PBL),Tissue Source:T cells,Tissue Source:gDNA,Virus Diseases:Cytomegalovirus + | null             | <!----> | ⋯ | TGTGCCAGCAGCTTGGAACTCAATCAGCCCCAGCATTTT    | CASSLELNQPQHF   | 327              | 39                        | TCRBV05         | 05            | 01              | TCRBJ01         | 05            | 01              |\n",
       "| 4 | P00496      | Human   | TCRB  | UltraDeep       | <!----> | <!----> | <!----> | Age (Range):35-60 Years,Age (Range):45-65 Years (Late Adulthood),Age (Range):50-54 Years,Age:50 Years,Biological Sex:Female,Ethnic Group:Non-Hispanic or Latino,HLA MHC class I:HLA-A*02,HLA MHC class I:HLA-A*34,HLA MHC class I:HLA-B*15,HLA MHC class I:HLA-B*38,Racial Group:Asian or Pacific Islander,Tissue Source:PBMC,Tissue Source:Peripheral blood lymphocytes (PBL),Tissue Source:T cells,Tissue Source:gDNA,Virus Diseases:Cytomegalovirus + | null             | <!----> | ⋯ | TGTGCCAGCGCCCGGGGGAACACTGAAGCTTTCTTT       | CASARGNTEAFF    | 327              | 36                        | TCRBV05         | 05            | 01              | TCRBJ01         | 01            | 01              |\n",
       "| 5 | P00496      | Human   | TCRB  | UltraDeep       | <!----> | <!----> | <!----> | Age (Range):35-60 Years,Age (Range):45-65 Years (Late Adulthood),Age (Range):50-54 Years,Age:50 Years,Biological Sex:Female,Ethnic Group:Non-Hispanic or Latino,HLA MHC class I:HLA-A*02,HLA MHC class I:HLA-A*34,HLA MHC class I:HLA-B*15,HLA MHC class I:HLA-B*38,Racial Group:Asian or Pacific Islander,Tissue Source:PBMC,Tissue Source:Peripheral blood lymphocytes (PBL),Tissue Source:T cells,Tissue Source:gDNA,Virus Diseases:Cytomegalovirus + | null             | <!----> | ⋯ | <!----> | <!----> | <!----> | 0                         | <!----> | <!----> | <!----> | <!----> | <!----> | <!----> |\n",
       "| 6 | P00496      | Human   | TCRB  | UltraDeep       | <!----> | <!----> | <!----> | Age (Range):35-60 Years,Age (Range):45-65 Years (Late Adulthood),Age (Range):50-54 Years,Age:50 Years,Biological Sex:Female,Ethnic Group:Non-Hispanic or Latino,HLA MHC class I:HLA-A*02,HLA MHC class I:HLA-A*34,HLA MHC class I:HLA-B*15,HLA MHC class I:HLA-B*38,Racial Group:Asian or Pacific Islander,Tissue Source:PBMC,Tissue Source:Peripheral blood lymphocytes (PBL),Tissue Source:T cells,Tissue Source:gDNA,Virus Diseases:Cytomegalovirus + | null             | <!----> | ⋯ | TGTGCCAGCAGACCCAAGAGCTCCTACAATGAGCAGTTCTTC | CASRPKSSYNEQFF  | 327              | 42                        | TCRBV05         | 05            | 01              | TCRBJ02         | 01            | 01              |\n",
       "\n"
      ],
      "text/plain": [
       "  V1          V2      V3    V4              V5       V6  V7       \n",
       "1 sample_name species locus product_subtype kit_pool sku test_name\n",
       "2 P00496      Human   TCRB  UltraDeep                             \n",
       "3 P00496      Human   TCRB  UltraDeep                             \n",
       "4 P00496      Human   TCRB  UltraDeep                             \n",
       "5 P00496      Human   TCRB  UltraDeep                             \n",
       "6 P00496      Human   TCRB  UltraDeep                             \n",
       "  V8                                                                                                                                                                                                                                                                                                                                                                                                                                                      \n",
       "1 sample_catalog_tags                                                                                                                                                                                                                                                                                                                                                                                                                                     \n",
       "2 Age (Range):35-60 Years,Age (Range):45-65 Years (Late Adulthood),Age (Range):50-54 Years,Age:50 Years,Biological Sex:Female,Ethnic Group:Non-Hispanic or Latino,HLA MHC class I:HLA-A*02,HLA MHC class I:HLA-A*34,HLA MHC class I:HLA-B*15,HLA MHC class I:HLA-B*38,Racial Group:Asian or Pacific Islander,Tissue Source:PBMC,Tissue Source:Peripheral blood lymphocytes (PBL),Tissue Source:T cells,Tissue Source:gDNA,Virus Diseases:Cytomegalovirus +\n",
       "3 Age (Range):35-60 Years,Age (Range):45-65 Years (Late Adulthood),Age (Range):50-54 Years,Age:50 Years,Biological Sex:Female,Ethnic Group:Non-Hispanic or Latino,HLA MHC class I:HLA-A*02,HLA MHC class I:HLA-A*34,HLA MHC class I:HLA-B*15,HLA MHC class I:HLA-B*38,Racial Group:Asian or Pacific Islander,Tissue Source:PBMC,Tissue Source:Peripheral blood lymphocytes (PBL),Tissue Source:T cells,Tissue Source:gDNA,Virus Diseases:Cytomegalovirus +\n",
       "4 Age (Range):35-60 Years,Age (Range):45-65 Years (Late Adulthood),Age (Range):50-54 Years,Age:50 Years,Biological Sex:Female,Ethnic Group:Non-Hispanic or Latino,HLA MHC class I:HLA-A*02,HLA MHC class I:HLA-A*34,HLA MHC class I:HLA-B*15,HLA MHC class I:HLA-B*38,Racial Group:Asian or Pacific Islander,Tissue Source:PBMC,Tissue Source:Peripheral blood lymphocytes (PBL),Tissue Source:T cells,Tissue Source:gDNA,Virus Diseases:Cytomegalovirus +\n",
       "5 Age (Range):35-60 Years,Age (Range):45-65 Years (Late Adulthood),Age (Range):50-54 Years,Age:50 Years,Biological Sex:Female,Ethnic Group:Non-Hispanic or Latino,HLA MHC class I:HLA-A*02,HLA MHC class I:HLA-A*34,HLA MHC class I:HLA-B*15,HLA MHC class I:HLA-B*38,Racial Group:Asian or Pacific Islander,Tissue Source:PBMC,Tissue Source:Peripheral blood lymphocytes (PBL),Tissue Source:T cells,Tissue Source:gDNA,Virus Diseases:Cytomegalovirus +\n",
       "6 Age (Range):35-60 Years,Age (Range):45-65 Years (Late Adulthood),Age (Range):50-54 Years,Age:50 Years,Biological Sex:Female,Ethnic Group:Non-Hispanic or Latino,HLA MHC class I:HLA-A*02,HLA MHC class I:HLA-A*34,HLA MHC class I:HLA-B*15,HLA MHC class I:HLA-B*38,Racial Group:Asian or Pacific Islander,Tissue Source:PBMC,Tissue Source:Peripheral blood lymphocytes (PBL),Tissue Source:T cells,Tissue Source:gDNA,Virus Diseases:Cytomegalovirus +\n",
       "  V9               V10                   ⋯\n",
       "1 sample_rich_tags sample_rich_tags_json ⋯\n",
       "2 null                                   ⋯\n",
       "3 null                                   ⋯\n",
       "4 null                                   ⋯\n",
       "5 null                                   ⋯\n",
       "6 null                                   ⋯\n",
       "  V109                                       V110            V111            \n",
       "1 cdr3_rearrangement                         cdr3_amino_acid cdr3_start_index\n",
       "2 TGTGCCAGCAGCCTGACTCTAAACACTGAAGCTTTCTTT    CASSLTLNTEAFF   327             \n",
       "3 TGTGCCAGCAGCTTGGAACTCAATCAGCCCCAGCATTTT    CASSLELNQPQHF   327             \n",
       "4 TGTGCCAGCGCCCGGGGGAACACTGAAGCTTTCTTT       CASARGNTEAFF    327             \n",
       "5                                                                            \n",
       "6 TGTGCCAGCAGACCCAAGAGCTCCTACAATGAGCAGTTCTTC CASRPKSSYNEQFF  327             \n",
       "  V112                      V113            V114          V115           \n",
       "1 cdr3_rearrangement_length chosen_v_family chosen_v_gene chosen_v_allele\n",
       "2 39                        TCRBV05         05            01             \n",
       "3 39                        TCRBV05         05            01             \n",
       "4 36                        TCRBV05         05            01             \n",
       "5 0                                                                      \n",
       "6 42                        TCRBV05         05            01             \n",
       "  V116            V117          V118           \n",
       "1 chosen_j_family chosen_j_gene chosen_j_allele\n",
       "2 TCRBJ01         01            01             \n",
       "3 TCRBJ01         05            01             \n",
       "4 TCRBJ01         01            01             \n",
       "5                                              \n",
       "6 TCRBJ02         01            01             "
      ]
     },
     "metadata": {},
     "output_type": "display_data"
    }
   ],
   "source": [
    "head(emerson)"
   ]
  },
  {
   "cell_type": "code",
   "execution_count": 23,
   "metadata": {
    "vscode": {
     "languageId": "r"
    }
   },
   "outputs": [
    {
     "data": {
      "text/html": [
       "<style>\n",
       ".list-inline {list-style: none; margin:0; padding: 0}\n",
       ".list-inline>li {display: inline-block}\n",
       ".list-inline>li:not(:last-child)::after {content: \"\\00b7\"; padding: 0 .5ex}\n",
       "</style>\n",
       "<ol class=list-inline><li>162651</li><li>6</li></ol>\n"
      ],
      "text/latex": [
       "\\begin{enumerate*}\n",
       "\\item 162651\n",
       "\\item 6\n",
       "\\end{enumerate*}\n"
      ],
      "text/markdown": [
       "1. 162651\n",
       "2. 6\n",
       "\n",
       "\n"
      ],
      "text/plain": [
       "[1] 162651      6"
      ]
     },
     "metadata": {},
     "output_type": "display_data"
    }
   ],
   "source": [
    "dim(covidfle)"
   ]
  },
  {
   "cell_type": "code",
   "execution_count": 24,
   "metadata": {
    "vscode": {
     "languageId": "r"
    }
   },
   "outputs": [],
   "source": [
    "#remove unproductive\n",
    "covidfle <- covidfle[!grepl(\"[*]\", covidfle$V1),]\n",
    "covidfle <- covidfle[ covidfle$V1 != \"unproductive\",]"
   ]
  },
  {
   "cell_type": "code",
   "execution_count": 25,
   "metadata": {
    "vscode": {
     "languageId": "r"
    }
   },
   "outputs": [
    {
     "data": {
      "text/html": [
       "<style>\n",
       ".list-inline {list-style: none; margin:0; padding: 0}\n",
       ".list-inline>li {display: inline-block}\n",
       ".list-inline>li:not(:last-child)::after {content: \"\\00b7\"; padding: 0 .5ex}\n",
       "</style>\n",
       "<ol class=list-inline><li>160130</li><li>6</li></ol>\n"
      ],
      "text/latex": [
       "\\begin{enumerate*}\n",
       "\\item 160130\n",
       "\\item 6\n",
       "\\end{enumerate*}\n"
      ],
      "text/markdown": [
       "1. 160130\n",
       "2. 6\n",
       "\n",
       "\n"
      ],
      "text/plain": [
       "[1] 160130      6"
      ]
     },
     "metadata": {},
     "output_type": "display_data"
    }
   ],
   "source": [
    "dim(covidfle)"
   ]
  },
  {
   "cell_type": "code",
   "execution_count": 26,
   "metadata": {
    "vscode": {
     "languageId": "r"
    }
   },
   "outputs": [],
   "source": [
    "#remove duplicated entries\n",
    "covidfle_uniq <- unique(covidfle)"
   ]
  },
  {
   "cell_type": "code",
   "execution_count": 27,
   "metadata": {
    "vscode": {
     "languageId": "r"
    }
   },
   "outputs": [
    {
     "data": {
      "text/html": [
       "<style>\n",
       ".list-inline {list-style: none; margin:0; padding: 0}\n",
       ".list-inline>li {display: inline-block}\n",
       ".list-inline>li:not(:last-child)::after {content: \"\\00b7\"; padding: 0 .5ex}\n",
       "</style>\n",
       "<ol class=list-inline><li>156033</li><li>6</li></ol>\n"
      ],
      "text/latex": [
       "\\begin{enumerate*}\n",
       "\\item 156033\n",
       "\\item 6\n",
       "\\end{enumerate*}\n"
      ],
      "text/markdown": [
       "1. 156033\n",
       "2. 6\n",
       "\n",
       "\n"
      ],
      "text/plain": [
       "[1] 156033      6"
      ]
     },
     "metadata": {},
     "output_type": "display_data"
    }
   ],
   "source": [
    "dim(covidfle_uniq)"
   ]
  },
  {
   "cell_type": "code",
   "execution_count": 28,
   "metadata": {
    "vscode": {
     "languageId": "r"
    }
   },
   "outputs": [],
   "source": [
    "covidfle_uniq$V4 <- NULL"
   ]
  },
  {
   "cell_type": "code",
   "execution_count": 29,
   "metadata": {
    "vscode": {
     "languageId": "r"
    }
   },
   "outputs": [
    {
     "data": {
      "text/html": [
       "<table class=\"dataframe\">\n",
       "<caption>A data.frame: 6 × 5</caption>\n",
       "<thead>\n",
       "\t<tr><th></th><th scope=col>V1</th><th scope=col>V2</th><th scope=col>V3</th><th scope=col>V5</th><th scope=col>V6</th></tr>\n",
       "\t<tr><th></th><th scope=col>&lt;chr&gt;</th><th scope=col>&lt;chr&gt;</th><th scope=col>&lt;chr&gt;</th><th scope=col>&lt;chr&gt;</th><th scope=col>&lt;int&gt;</th></tr>\n",
       "</thead>\n",
       "<tbody>\n",
       "\t<tr><th scope=row>1</th><td>CASGRHNSPLHF   </td><td>TCRBV12-03/12-04</td><td>TCRBJ01-06</td><td>eJL143</td><td>1</td></tr>\n",
       "\t<tr><th scope=row>2</th><td>CASRPAGVRNEQFF </td><td>TCRBV06-06      </td><td>TCRBJ02-01</td><td>eJL146</td><td>1</td></tr>\n",
       "\t<tr><th scope=row>3</th><td>CSASPRTLWGEQFF </td><td>TCRBV20-X       </td><td>TCRBJ02-01</td><td>eJL146</td><td>1</td></tr>\n",
       "\t<tr><th scope=row>4</th><td>CASSLVTSVKDTQYF</td><td>TCRBV05-01      </td><td>TCRBJ02-03</td><td>eJL146</td><td>1</td></tr>\n",
       "\t<tr><th scope=row>5</th><td>CASSAIVAVYGYTF </td><td>TCRBV07-08      </td><td>TCRBJ01-02</td><td>eJL146</td><td>1</td></tr>\n",
       "\t<tr><th scope=row>6</th><td>CSVYSAGELFF    </td><td>TCRBV29-01      </td><td>TCRBJ02-02</td><td>eJL146</td><td>1</td></tr>\n",
       "</tbody>\n",
       "</table>\n"
      ],
      "text/latex": [
       "A data.frame: 6 × 5\n",
       "\\begin{tabular}{r|lllll}\n",
       "  & V1 & V2 & V3 & V5 & V6\\\\\n",
       "  & <chr> & <chr> & <chr> & <chr> & <int>\\\\\n",
       "\\hline\n",
       "\t1 & CASGRHNSPLHF    & TCRBV12-03/12-04 & TCRBJ01-06 & eJL143 & 1\\\\\n",
       "\t2 & CASRPAGVRNEQFF  & TCRBV06-06       & TCRBJ02-01 & eJL146 & 1\\\\\n",
       "\t3 & CSASPRTLWGEQFF  & TCRBV20-X        & TCRBJ02-01 & eJL146 & 1\\\\\n",
       "\t4 & CASSLVTSVKDTQYF & TCRBV05-01       & TCRBJ02-03 & eJL146 & 1\\\\\n",
       "\t5 & CASSAIVAVYGYTF  & TCRBV07-08       & TCRBJ01-02 & eJL146 & 1\\\\\n",
       "\t6 & CSVYSAGELFF     & TCRBV29-01       & TCRBJ02-02 & eJL146 & 1\\\\\n",
       "\\end{tabular}\n"
      ],
      "text/markdown": [
       "\n",
       "A data.frame: 6 × 5\n",
       "\n",
       "| <!--/--> | V1 &lt;chr&gt; | V2 &lt;chr&gt; | V3 &lt;chr&gt; | V5 &lt;chr&gt; | V6 &lt;int&gt; |\n",
       "|---|---|---|---|---|---|\n",
       "| 1 | CASGRHNSPLHF    | TCRBV12-03/12-04 | TCRBJ01-06 | eJL143 | 1 |\n",
       "| 2 | CASRPAGVRNEQFF  | TCRBV06-06       | TCRBJ02-01 | eJL146 | 1 |\n",
       "| 3 | CSASPRTLWGEQFF  | TCRBV20-X        | TCRBJ02-01 | eJL146 | 1 |\n",
       "| 4 | CASSLVTSVKDTQYF | TCRBV05-01       | TCRBJ02-03 | eJL146 | 1 |\n",
       "| 5 | CASSAIVAVYGYTF  | TCRBV07-08       | TCRBJ01-02 | eJL146 | 1 |\n",
       "| 6 | CSVYSAGELFF     | TCRBV29-01       | TCRBJ02-02 | eJL146 | 1 |\n",
       "\n"
      ],
      "text/plain": [
       "  V1              V2               V3         V5     V6\n",
       "1 CASGRHNSPLHF    TCRBV12-03/12-04 TCRBJ01-06 eJL143 1 \n",
       "2 CASRPAGVRNEQFF  TCRBV06-06       TCRBJ02-01 eJL146 1 \n",
       "3 CSASPRTLWGEQFF  TCRBV20-X        TCRBJ02-01 eJL146 1 \n",
       "4 CASSLVTSVKDTQYF TCRBV05-01       TCRBJ02-03 eJL146 1 \n",
       "5 CASSAIVAVYGYTF  TCRBV07-08       TCRBJ01-02 eJL146 1 \n",
       "6 CSVYSAGELFF     TCRBV29-01       TCRBJ02-02 eJL146 1 "
      ]
     },
     "metadata": {},
     "output_type": "display_data"
    }
   ],
   "source": [
    "head(covidfle_uniq)"
   ]
  },
  {
   "cell_type": "code",
   "execution_count": 30,
   "metadata": {
    "vscode": {
     "languageId": "r"
    }
   },
   "outputs": [],
   "source": [
    "colnames(covidfle_uniq) <- c(\"CDR3b\", \"TRBV\", \"TRBJ\", \"subject:condition\", \"count\")"
   ]
  },
  {
   "cell_type": "code",
   "execution_count": 31,
   "metadata": {
    "vscode": {
     "languageId": "r"
    }
   },
   "outputs": [
    {
     "data": {
      "text/html": [
       "<style>\n",
       ".list-inline {list-style: none; margin:0; padding: 0}\n",
       ".list-inline>li {display: inline-block}\n",
       ".list-inline>li:not(:last-child)::after {content: \"\\00b7\"; padding: 0 .5ex}\n",
       "</style>\n",
       "<ol class=list-inline><li>'CDR3b'</li><li>'TRBV'</li><li>'TRBJ'</li><li>'subject:condition'</li><li>'count'</li></ol>\n"
      ],
      "text/latex": [
       "\\begin{enumerate*}\n",
       "\\item 'CDR3b'\n",
       "\\item 'TRBV'\n",
       "\\item 'TRBJ'\n",
       "\\item 'subject:condition'\n",
       "\\item 'count'\n",
       "\\end{enumerate*}\n"
      ],
      "text/markdown": [
       "1. 'CDR3b'\n",
       "2. 'TRBV'\n",
       "3. 'TRBJ'\n",
       "4. 'subject:condition'\n",
       "5. 'count'\n",
       "\n",
       "\n"
      ],
      "text/plain": [
       "[1] \"CDR3b\"             \"TRBV\"              \"TRBJ\"             \n",
       "[4] \"subject:condition\" \"count\"            "
      ]
     },
     "metadata": {},
     "output_type": "display_data"
    }
   ],
   "source": [
    "colnames(covidfle_uniq)"
   ]
  },
  {
   "cell_type": "code",
   "execution_count": 32,
   "metadata": {
    "vscode": {
     "languageId": "r"
    }
   },
   "outputs": [],
   "source": [
    "#bind those with the same cdr3 + TRBV + TRBJ\n",
    "setDT(covidfle_uniq)\n",
    "\n",
    "ab <- covidfle_uniq[, .(subject = toString(`subject:condition`), #bind subjects\n",
    "                        count = sum(count)),  #get sum of counts\n",
    "                    by = c(\"CDR3b\", \"TRBV\", \"TRBJ\")] #get duplicates sequences with the same cdr3 + TRBV + TRBJ\n",
    "\n",
    "covidfle_uniq_ab <- merge(covidfle_uniq, ab, by = c(\"CDR3b\",\"TRBV\",\"TRBJ\")) # merge together"
   ]
  },
  {
   "cell_type": "code",
   "execution_count": 33,
   "metadata": {
    "vscode": {
     "languageId": "r"
    }
   },
   "outputs": [
    {
     "data": {
      "text/html": [
       "<style>\n",
       ".list-inline {list-style: none; margin:0; padding: 0}\n",
       ".list-inline>li {display: inline-block}\n",
       ".list-inline>li:not(:last-child)::after {content: \"\\00b7\"; padding: 0 .5ex}\n",
       "</style>\n",
       "<ol class=list-inline><li>156033</li><li>7</li></ol>\n"
      ],
      "text/latex": [
       "\\begin{enumerate*}\n",
       "\\item 156033\n",
       "\\item 7\n",
       "\\end{enumerate*}\n"
      ],
      "text/markdown": [
       "1. 156033\n",
       "2. 7\n",
       "\n",
       "\n"
      ],
      "text/plain": [
       "[1] 156033      7"
      ]
     },
     "metadata": {},
     "output_type": "display_data"
    }
   ],
   "source": [
    "dim(covidfle_uniq_ab)"
   ]
  },
  {
   "cell_type": "code",
   "execution_count": 34,
   "metadata": {
    "vscode": {
     "languageId": "r"
    }
   },
   "outputs": [
    {
     "data": {
      "text/html": [
       "<style>\n",
       ".list-inline {list-style: none; margin:0; padding: 0}\n",
       ".list-inline>li {display: inline-block}\n",
       ".list-inline>li:not(:last-child)::after {content: \"\\00b7\"; padding: 0 .5ex}\n",
       "</style>\n",
       "<ol class=list-inline><li>'CDR3b'</li><li>'TRBV'</li><li>'TRBJ'</li><li>'subject:condition'</li><li>'count.x'</li><li>'subject'</li><li>'count.y'</li></ol>\n"
      ],
      "text/latex": [
       "\\begin{enumerate*}\n",
       "\\item 'CDR3b'\n",
       "\\item 'TRBV'\n",
       "\\item 'TRBJ'\n",
       "\\item 'subject:condition'\n",
       "\\item 'count.x'\n",
       "\\item 'subject'\n",
       "\\item 'count.y'\n",
       "\\end{enumerate*}\n"
      ],
      "text/markdown": [
       "1. 'CDR3b'\n",
       "2. 'TRBV'\n",
       "3. 'TRBJ'\n",
       "4. 'subject:condition'\n",
       "5. 'count.x'\n",
       "6. 'subject'\n",
       "7. 'count.y'\n",
       "\n",
       "\n"
      ],
      "text/plain": [
       "[1] \"CDR3b\"             \"TRBV\"              \"TRBJ\"             \n",
       "[4] \"subject:condition\" \"count.x\"           \"subject\"          \n",
       "[7] \"count.y\"          "
      ]
     },
     "metadata": {},
     "output_type": "display_data"
    }
   ],
   "source": [
    "colnames(covidfle_uniq_ab)"
   ]
  },
  {
   "cell_type": "code",
   "execution_count": 35,
   "metadata": {
    "vscode": {
     "languageId": "r"
    }
   },
   "outputs": [],
   "source": [
    "#dedup\n",
    "covidfle_uniq_ab_dedup <- dplyr::distinct(covidfle_uniq_ab, \n",
    "                                          CDR3b, TRBV, TRBJ, subject, .keep_all= TRUE)"
   ]
  },
  {
   "cell_type": "code",
   "execution_count": 36,
   "metadata": {
    "vscode": {
     "languageId": "r"
    }
   },
   "outputs": [
    {
     "data": {
      "text/html": [
       "<table class=\"dataframe\">\n",
       "<caption>A data.table: 6 × 7</caption>\n",
       "<thead>\n",
       "\t<tr><th scope=col>CDR3b</th><th scope=col>TRBV</th><th scope=col>TRBJ</th><th scope=col>subject:condition</th><th scope=col>count.x</th><th scope=col>subject</th><th scope=col>count.y</th></tr>\n",
       "\t<tr><th scope=col>&lt;chr&gt;</th><th scope=col>&lt;chr&gt;</th><th scope=col>&lt;chr&gt;</th><th scope=col>&lt;chr&gt;</th><th scope=col>&lt;int&gt;</th><th scope=col>&lt;chr&gt;</th><th scope=col>&lt;int&gt;</th></tr>\n",
       "</thead>\n",
       "<tbody>\n",
       "\t<tr><td>AGVKITNSYEQYF   </td><td>TCRBV20-X </td><td>TCRBJ02-07</td><td>eHO134</td><td>1</td><td>eHO134</td><td>1</td></tr>\n",
       "\t<tr><td>AKNIQYF         </td><td>TCRBV27-01</td><td>TCRBJ02-04</td><td>eQD126</td><td>1</td><td>eQD126</td><td>1</td></tr>\n",
       "\t<tr><td>APYASKRAGYDNEQFF</td><td>TCRBV06-X </td><td>TCRBJ02-01</td><td>eHO141</td><td>1</td><td>eHO141</td><td>1</td></tr>\n",
       "\t<tr><td>ARLFSGANVLTF    </td><td>TCRBV07-02</td><td>TCRBJ02-06</td><td>eXL27 </td><td>1</td><td>eXL27 </td><td>1</td></tr>\n",
       "\t<tr><td>CAAAAPDTQYF     </td><td>TCRBV06-X </td><td>TCRBJ02-03</td><td>eOX46 </td><td>1</td><td>eOX46 </td><td>1</td></tr>\n",
       "\t<tr><td>CAAADRMTDTQYF   </td><td>TCRBV24-01</td><td>TCRBJ02-03</td><td>eHO130</td><td>1</td><td>eHO130</td><td>1</td></tr>\n",
       "</tbody>\n",
       "</table>\n"
      ],
      "text/latex": [
       "A data.table: 6 × 7\n",
       "\\begin{tabular}{lllllll}\n",
       " CDR3b & TRBV & TRBJ & subject:condition & count.x & subject & count.y\\\\\n",
       " <chr> & <chr> & <chr> & <chr> & <int> & <chr> & <int>\\\\\n",
       "\\hline\n",
       "\t AGVKITNSYEQYF    & TCRBV20-X  & TCRBJ02-07 & eHO134 & 1 & eHO134 & 1\\\\\n",
       "\t AKNIQYF          & TCRBV27-01 & TCRBJ02-04 & eQD126 & 1 & eQD126 & 1\\\\\n",
       "\t APYASKRAGYDNEQFF & TCRBV06-X  & TCRBJ02-01 & eHO141 & 1 & eHO141 & 1\\\\\n",
       "\t ARLFSGANVLTF     & TCRBV07-02 & TCRBJ02-06 & eXL27  & 1 & eXL27  & 1\\\\\n",
       "\t CAAAAPDTQYF      & TCRBV06-X  & TCRBJ02-03 & eOX46  & 1 & eOX46  & 1\\\\\n",
       "\t CAAADRMTDTQYF    & TCRBV24-01 & TCRBJ02-03 & eHO130 & 1 & eHO130 & 1\\\\\n",
       "\\end{tabular}\n"
      ],
      "text/markdown": [
       "\n",
       "A data.table: 6 × 7\n",
       "\n",
       "| CDR3b &lt;chr&gt; | TRBV &lt;chr&gt; | TRBJ &lt;chr&gt; | subject:condition &lt;chr&gt; | count.x &lt;int&gt; | subject &lt;chr&gt; | count.y &lt;int&gt; |\n",
       "|---|---|---|---|---|---|---|\n",
       "| AGVKITNSYEQYF    | TCRBV20-X  | TCRBJ02-07 | eHO134 | 1 | eHO134 | 1 |\n",
       "| AKNIQYF          | TCRBV27-01 | TCRBJ02-04 | eQD126 | 1 | eQD126 | 1 |\n",
       "| APYASKRAGYDNEQFF | TCRBV06-X  | TCRBJ02-01 | eHO141 | 1 | eHO141 | 1 |\n",
       "| ARLFSGANVLTF     | TCRBV07-02 | TCRBJ02-06 | eXL27  | 1 | eXL27  | 1 |\n",
       "| CAAAAPDTQYF      | TCRBV06-X  | TCRBJ02-03 | eOX46  | 1 | eOX46  | 1 |\n",
       "| CAAADRMTDTQYF    | TCRBV24-01 | TCRBJ02-03 | eHO130 | 1 | eHO130 | 1 |\n",
       "\n"
      ],
      "text/plain": [
       "  CDR3b            TRBV       TRBJ       subject:condition count.x subject\n",
       "1 AGVKITNSYEQYF    TCRBV20-X  TCRBJ02-07 eHO134            1       eHO134 \n",
       "2 AKNIQYF          TCRBV27-01 TCRBJ02-04 eQD126            1       eQD126 \n",
       "3 APYASKRAGYDNEQFF TCRBV06-X  TCRBJ02-01 eHO141            1       eHO141 \n",
       "4 ARLFSGANVLTF     TCRBV07-02 TCRBJ02-06 eXL27             1       eXL27  \n",
       "5 CAAAAPDTQYF      TCRBV06-X  TCRBJ02-03 eOX46             1       eOX46  \n",
       "6 CAAADRMTDTQYF    TCRBV24-01 TCRBJ02-03 eHO130            1       eHO130 \n",
       "  count.y\n",
       "1 1      \n",
       "2 1      \n",
       "3 1      \n",
       "4 1      \n",
       "5 1      \n",
       "6 1      "
      ]
     },
     "metadata": {},
     "output_type": "display_data"
    }
   ],
   "source": [
    "head(covidfle_uniq_ab_dedup)"
   ]
  },
  {
   "cell_type": "code",
   "execution_count": 40,
   "metadata": {
    "vscode": {
     "languageId": "r"
    }
   },
   "outputs": [
    {
     "data": {
      "text/html": [
       "<style>\n",
       ".list-inline {list-style: none; margin:0; padding: 0}\n",
       ".list-inline>li {display: inline-block}\n",
       ".list-inline>li:not(:last-child)::after {content: \"\\00b7\"; padding: 0 .5ex}\n",
       "</style>\n",
       "<ol class=list-inline><li>148678</li><li>7</li></ol>\n"
      ],
      "text/latex": [
       "\\begin{enumerate*}\n",
       "\\item 148678\n",
       "\\item 7\n",
       "\\end{enumerate*}\n"
      ],
      "text/markdown": [
       "1. 148678\n",
       "2. 7\n",
       "\n",
       "\n"
      ],
      "text/plain": [
       "[1] 148678      7"
      ]
     },
     "metadata": {},
     "output_type": "display_data"
    }
   ],
   "source": [
    "dim(covidfle_uniq_ab_dedup)"
   ]
  },
  {
   "cell_type": "code",
   "execution_count": 38,
   "metadata": {
    "vscode": {
     "languageId": "r"
    }
   },
   "outputs": [],
   "source": [
    "#replaqce TCRB with TRB\n",
    "covidfle_uniq_ab_dedup$TRBV <- gsub(\"TCRB\", \"TRB\", covidfle_uniq_ab_dedup$TRBV)\n",
    "covidfle_uniq_ab_dedup$TRBJ <- gsub(\"TCRB\", \"TRB\", covidfle_uniq_ab_dedup$TRBJ)"
   ]
  },
  {
   "cell_type": "code",
   "execution_count": 41,
   "metadata": {
    "vscode": {
     "languageId": "r"
    }
   },
   "outputs": [
    {
     "data": {
      "text/html": [
       "<table class=\"dataframe\">\n",
       "<caption>A data.table: 6 × 7</caption>\n",
       "<thead>\n",
       "\t<tr><th scope=col>CDR3b</th><th scope=col>TRBV</th><th scope=col>TRBJ</th><th scope=col>subject:condition</th><th scope=col>count.x</th><th scope=col>subject</th><th scope=col>count.y</th></tr>\n",
       "\t<tr><th scope=col>&lt;chr&gt;</th><th scope=col>&lt;chr&gt;</th><th scope=col>&lt;chr&gt;</th><th scope=col>&lt;chr&gt;</th><th scope=col>&lt;int&gt;</th><th scope=col>&lt;chr&gt;</th><th scope=col>&lt;int&gt;</th></tr>\n",
       "</thead>\n",
       "<tbody>\n",
       "\t<tr><td>CASSIRSSYEQYF  </td><td>TRBV19-01      </td><td>TRBJ02-07</td><td>eOX46 </td><td>1</td><td>eOX46, ePD84, eHO128, eHO132, eHO125, ePD83, eHO136, eLH41, eHO124, ePD86, eLH42, eHO130, ePD76, eQD137, eQD123, eMR20, eEE243, eHH173, eHH174, eQD124, eHH169, eEE228, eXL27, eQD115, eXL36, eMR12, eLH47, eDH113, eEE226, eXL37, eDH96, eXL30</td><td>32</td></tr>\n",
       "\t<tr><td>CASSQTGGRNQPQHF</td><td>TRBV12-X       </td><td>TRBJ01-05</td><td>eLH41 </td><td>1</td><td>eLH41, eJL164, eXL31, eHO132, ePD86, eAV88, ePD84, eEE243, eXL37, eQD118, eEE224, eXL27, eMR12, eOX56, eLH47, eMR18, eLH46, eQD136, eOX43, eOX54, ePD76                                                                                        </td><td>21</td></tr>\n",
       "\t<tr><td>CASSLAGAYEQYF  </td><td>TRBV05-01      </td><td>TRBJ02-07</td><td>eJL143</td><td>1</td><td>eJL143, ePD79, eHH175, eLH45, eHO126, eXL31, eLH49, eLH42, eJL157, eHO135, eLH54, eMR14, eLH47, eAV91, eQD109, eQD111, eMR23, eQD123, eMR15                                                                                                    </td><td>19</td></tr>\n",
       "\t<tr><td>CASSFSYEQYF    </td><td>TRBV12-03/12-04</td><td>TRBJ02-07</td><td>eEE243</td><td>1</td><td>eEE243, eHH175, eXL30, eHO130, eJL149, eAV88, eXL27, eOX54, eEE224, eEE228, eOX49, eEE226, eOX52, eEE240, eOX46, eOX43, eXL31                                                                                                                  </td><td>17</td></tr>\n",
       "\t<tr><td>CASSLSAPQETQYF </td><td>TRBV27-01      </td><td>TRBJ02-05</td><td>eMR17 </td><td>1</td><td>eMR17, eJL161, eHO134, eQD124, eMR13, eQD111, eQD121, eHO140, eMR12, eQD125, eLH47, eEE226, eQD126, eQD114, eQD110, eQD120                                                                                                                     </td><td>16</td></tr>\n",
       "\t<tr><td>CASSVGETQYF    </td><td>TRBV09-01      </td><td>TRBJ02-05</td><td>eOX56 </td><td>1</td><td>eOX56, eEE224, eEE226, eEE228, eOX49, eOX54, eOX52, eXL27, eXL30, eOX43, eOX46, eXL32, eEE240, eAV88, eQD128, eHH175                                                                                                                           </td><td>16</td></tr>\n",
       "</tbody>\n",
       "</table>\n"
      ],
      "text/latex": [
       "A data.table: 6 × 7\n",
       "\\begin{tabular}{lllllll}\n",
       " CDR3b & TRBV & TRBJ & subject:condition & count.x & subject & count.y\\\\\n",
       " <chr> & <chr> & <chr> & <chr> & <int> & <chr> & <int>\\\\\n",
       "\\hline\n",
       "\t CASSIRSSYEQYF   & TRBV19-01       & TRBJ02-07 & eOX46  & 1 & eOX46, ePD84, eHO128, eHO132, eHO125, ePD83, eHO136, eLH41, eHO124, ePD86, eLH42, eHO130, ePD76, eQD137, eQD123, eMR20, eEE243, eHH173, eHH174, eQD124, eHH169, eEE228, eXL27, eQD115, eXL36, eMR12, eLH47, eDH113, eEE226, eXL37, eDH96, eXL30 & 32\\\\\n",
       "\t CASSQTGGRNQPQHF & TRBV12-X        & TRBJ01-05 & eLH41  & 1 & eLH41, eJL164, eXL31, eHO132, ePD86, eAV88, ePD84, eEE243, eXL37, eQD118, eEE224, eXL27, eMR12, eOX56, eLH47, eMR18, eLH46, eQD136, eOX43, eOX54, ePD76                                                                                         & 21\\\\\n",
       "\t CASSLAGAYEQYF   & TRBV05-01       & TRBJ02-07 & eJL143 & 1 & eJL143, ePD79, eHH175, eLH45, eHO126, eXL31, eLH49, eLH42, eJL157, eHO135, eLH54, eMR14, eLH47, eAV91, eQD109, eQD111, eMR23, eQD123, eMR15                                                                                                     & 19\\\\\n",
       "\t CASSFSYEQYF     & TRBV12-03/12-04 & TRBJ02-07 & eEE243 & 1 & eEE243, eHH175, eXL30, eHO130, eJL149, eAV88, eXL27, eOX54, eEE224, eEE228, eOX49, eEE226, eOX52, eEE240, eOX46, eOX43, eXL31                                                                                                                   & 17\\\\\n",
       "\t CASSLSAPQETQYF  & TRBV27-01       & TRBJ02-05 & eMR17  & 1 & eMR17, eJL161, eHO134, eQD124, eMR13, eQD111, eQD121, eHO140, eMR12, eQD125, eLH47, eEE226, eQD126, eQD114, eQD110, eQD120                                                                                                                      & 16\\\\\n",
       "\t CASSVGETQYF     & TRBV09-01       & TRBJ02-05 & eOX56  & 1 & eOX56, eEE224, eEE226, eEE228, eOX49, eOX54, eOX52, eXL27, eXL30, eOX43, eOX46, eXL32, eEE240, eAV88, eQD128, eHH175                                                                                                                            & 16\\\\\n",
       "\\end{tabular}\n"
      ],
      "text/markdown": [
       "\n",
       "A data.table: 6 × 7\n",
       "\n",
       "| CDR3b &lt;chr&gt; | TRBV &lt;chr&gt; | TRBJ &lt;chr&gt; | subject:condition &lt;chr&gt; | count.x &lt;int&gt; | subject &lt;chr&gt; | count.y &lt;int&gt; |\n",
       "|---|---|---|---|---|---|---|\n",
       "| CASSIRSSYEQYF   | TRBV19-01       | TRBJ02-07 | eOX46  | 1 | eOX46, ePD84, eHO128, eHO132, eHO125, ePD83, eHO136, eLH41, eHO124, ePD86, eLH42, eHO130, ePD76, eQD137, eQD123, eMR20, eEE243, eHH173, eHH174, eQD124, eHH169, eEE228, eXL27, eQD115, eXL36, eMR12, eLH47, eDH113, eEE226, eXL37, eDH96, eXL30 | 32 |\n",
       "| CASSQTGGRNQPQHF | TRBV12-X        | TRBJ01-05 | eLH41  | 1 | eLH41, eJL164, eXL31, eHO132, ePD86, eAV88, ePD84, eEE243, eXL37, eQD118, eEE224, eXL27, eMR12, eOX56, eLH47, eMR18, eLH46, eQD136, eOX43, eOX54, ePD76                                                                                         | 21 |\n",
       "| CASSLAGAYEQYF   | TRBV05-01       | TRBJ02-07 | eJL143 | 1 | eJL143, ePD79, eHH175, eLH45, eHO126, eXL31, eLH49, eLH42, eJL157, eHO135, eLH54, eMR14, eLH47, eAV91, eQD109, eQD111, eMR23, eQD123, eMR15                                                                                                     | 19 |\n",
       "| CASSFSYEQYF     | TRBV12-03/12-04 | TRBJ02-07 | eEE243 | 1 | eEE243, eHH175, eXL30, eHO130, eJL149, eAV88, eXL27, eOX54, eEE224, eEE228, eOX49, eEE226, eOX52, eEE240, eOX46, eOX43, eXL31                                                                                                                   | 17 |\n",
       "| CASSLSAPQETQYF  | TRBV27-01       | TRBJ02-05 | eMR17  | 1 | eMR17, eJL161, eHO134, eQD124, eMR13, eQD111, eQD121, eHO140, eMR12, eQD125, eLH47, eEE226, eQD126, eQD114, eQD110, eQD120                                                                                                                      | 16 |\n",
       "| CASSVGETQYF     | TRBV09-01       | TRBJ02-05 | eOX56  | 1 | eOX56, eEE224, eEE226, eEE228, eOX49, eOX54, eOX52, eXL27, eXL30, eOX43, eOX46, eXL32, eEE240, eAV88, eQD128, eHH175                                                                                                                            | 16 |\n",
       "\n"
      ],
      "text/plain": [
       "  CDR3b           TRBV            TRBJ      subject:condition count.x\n",
       "1 CASSIRSSYEQYF   TRBV19-01       TRBJ02-07 eOX46             1      \n",
       "2 CASSQTGGRNQPQHF TRBV12-X        TRBJ01-05 eLH41             1      \n",
       "3 CASSLAGAYEQYF   TRBV05-01       TRBJ02-07 eJL143            1      \n",
       "4 CASSFSYEQYF     TRBV12-03/12-04 TRBJ02-07 eEE243            1      \n",
       "5 CASSLSAPQETQYF  TRBV27-01       TRBJ02-05 eMR17             1      \n",
       "6 CASSVGETQYF     TRBV09-01       TRBJ02-05 eOX56             1      \n",
       "  subject                                                                                                                                                                                                                                        \n",
       "1 eOX46, ePD84, eHO128, eHO132, eHO125, ePD83, eHO136, eLH41, eHO124, ePD86, eLH42, eHO130, ePD76, eQD137, eQD123, eMR20, eEE243, eHH173, eHH174, eQD124, eHH169, eEE228, eXL27, eQD115, eXL36, eMR12, eLH47, eDH113, eEE226, eXL37, eDH96, eXL30\n",
       "2 eLH41, eJL164, eXL31, eHO132, ePD86, eAV88, ePD84, eEE243, eXL37, eQD118, eEE224, eXL27, eMR12, eOX56, eLH47, eMR18, eLH46, eQD136, eOX43, eOX54, ePD76                                                                                        \n",
       "3 eJL143, ePD79, eHH175, eLH45, eHO126, eXL31, eLH49, eLH42, eJL157, eHO135, eLH54, eMR14, eLH47, eAV91, eQD109, eQD111, eMR23, eQD123, eMR15                                                                                                    \n",
       "4 eEE243, eHH175, eXL30, eHO130, eJL149, eAV88, eXL27, eOX54, eEE224, eEE228, eOX49, eEE226, eOX52, eEE240, eOX46, eOX43, eXL31                                                                                                                  \n",
       "5 eMR17, eJL161, eHO134, eQD124, eMR13, eQD111, eQD121, eHO140, eMR12, eQD125, eLH47, eEE226, eQD126, eQD114, eQD110, eQD120                                                                                                                     \n",
       "6 eOX56, eEE224, eEE226, eEE228, eOX49, eOX54, eOX52, eXL27, eXL30, eOX43, eOX46, eXL32, eEE240, eAV88, eQD128, eHH175                                                                                                                           \n",
       "  count.y\n",
       "1 32     \n",
       "2 21     \n",
       "3 19     \n",
       "4 17     \n",
       "5 16     \n",
       "6 16     "
      ]
     },
     "metadata": {},
     "output_type": "display_data"
    }
   ],
   "source": [
    "head(covidfle_uniq_ab_dedup[order(covidfle_uniq_ab_dedup$count.y, decreasing = T),])"
   ]
  },
  {
   "cell_type": "code",
   "execution_count": 42,
   "metadata": {
    "vscode": {
     "languageId": "r"
    }
   },
   "outputs": [],
   "source": [
    "covidfle_uniq_ab_dedup$file <- \"COVID_specific_TCRB.tsv\""
   ]
  },
  {
   "cell_type": "code",
   "execution_count": 45,
   "metadata": {
    "vscode": {
     "languageId": "r"
    }
   },
   "outputs": [],
   "source": [
    "covidfle_uniq_ab_dedup$clonefraction <- 1"
   ]
  },
  {
   "cell_type": "code",
   "execution_count": 46,
   "metadata": {
    "vscode": {
     "languageId": "r"
    }
   },
   "outputs": [
    {
     "data": {
      "text/html": [
       "<style>\n",
       ".list-inline {list-style: none; margin:0; padding: 0}\n",
       ".list-inline>li {display: inline-block}\n",
       ".list-inline>li:not(:last-child)::after {content: \"\\00b7\"; padding: 0 .5ex}\n",
       "</style>\n",
       "<ol class=list-inline><li>'CDR3b'</li><li>'TRBV'</li><li>'TRBJ'</li><li>'subject:condition'</li><li>'count.x'</li><li>'subject'</li><li>'count.y'</li><li>'file'</li><li>'clonefraction'</li></ol>\n"
      ],
      "text/latex": [
       "\\begin{enumerate*}\n",
       "\\item 'CDR3b'\n",
       "\\item 'TRBV'\n",
       "\\item 'TRBJ'\n",
       "\\item 'subject:condition'\n",
       "\\item 'count.x'\n",
       "\\item 'subject'\n",
       "\\item 'count.y'\n",
       "\\item 'file'\n",
       "\\item 'clonefraction'\n",
       "\\end{enumerate*}\n"
      ],
      "text/markdown": [
       "1. 'CDR3b'\n",
       "2. 'TRBV'\n",
       "3. 'TRBJ'\n",
       "4. 'subject:condition'\n",
       "5. 'count.x'\n",
       "6. 'subject'\n",
       "7. 'count.y'\n",
       "8. 'file'\n",
       "9. 'clonefraction'\n",
       "\n",
       "\n"
      ],
      "text/plain": [
       "[1] \"CDR3b\"             \"TRBV\"              \"TRBJ\"             \n",
       "[4] \"subject:condition\" \"count.x\"           \"subject\"          \n",
       "[7] \"count.y\"           \"file\"              \"clonefraction\"    "
      ]
     },
     "metadata": {},
     "output_type": "display_data"
    }
   ],
   "source": [
    "colnames(covidfle_uniq_ab_dedup)"
   ]
  },
  {
   "cell_type": "code",
   "execution_count": 47,
   "metadata": {
    "vscode": {
     "languageId": "r"
    }
   },
   "outputs": [],
   "source": [
    "covidfle_uniq_ab_dedup_subset <- covidfle_uniq_ab_dedup[,c(\"CDR3b\", \"TRBV\", \"TRBJ\", \"subject:condition\",\n",
    "                                                          \"count.y\", \"clonefraction\", \"subject\",\"file\")]"
   ]
  },
  {
   "cell_type": "code",
   "execution_count": 49,
   "metadata": {
    "vscode": {
     "languageId": "r"
    }
   },
   "outputs": [],
   "source": [
    "colnames(covidfle_uniq_ab_dedup_subset)[ colnames(covidfle_uniq_ab_dedup_subset) == \"count.y\"] <- \"count\""
   ]
  },
  {
   "cell_type": "code",
   "execution_count": 73,
   "metadata": {
    "vscode": {
     "languageId": "r"
    }
   },
   "outputs": [],
   "source": [
    "covidfle_uniq_ab_dedup_subset$index <- 1:nrow(covidfle_uniq_ab_dedup_subset)"
   ]
  },
  {
   "cell_type": "code",
   "execution_count": 74,
   "metadata": {
    "vscode": {
     "languageId": "r"
    }
   },
   "outputs": [],
   "source": [
    "save(covidfle_uniq_ab_dedup_subset, file = paste0(datapath, \"capTCRseq/covidfle_uniq_ab_dedup_subset.RData\"))"
   ]
  },
  {
   "cell_type": "code",
   "execution_count": 65,
   "metadata": {
    "vscode": {
     "languageId": "r"
    }
   },
   "outputs": [],
   "source": [
    "#write.table(covidfle_uniq_ab_dedup_subset, file = '/Users/anabbi/Desktop/H4H/projects/COVID-19/tcr-cap/Adaptive/MIRA/ImmuneCODE-MIRA-Release002.1/COVID_specific_TCRB_clean.tsv',\n",
    "#            sep = \"\\t\", quote = F, row.names = F)"
   ]
  }
 ],
 "metadata": {
  "kernelspec": {
   "display_name": "R 4.0",
   "language": "R",
   "name": "ir40"
  },
  "language_info": {
   "codemirror_mode": "r",
   "file_extension": ".r",
   "mimetype": "text/x-r-source",
   "name": "R",
   "pygments_lexer": "r",
   "version": "4.2.2"
  },
  "toc": {
   "base_numbering": 1,
   "nav_menu": {},
   "number_sections": false,
   "sideBar": true,
   "skip_h1_title": false,
   "title_cell": "Table of Contents",
   "title_sidebar": "Contents",
   "toc_cell": true,
   "toc_position": {
    "height": "calc(100% - 180px)",
    "left": "10px",
    "top": "150px",
    "width": "186.15px"
   },
   "toc_section_display": true,
   "toc_window_display": true
  }
 },
 "nbformat": 4,
 "nbformat_minor": 2
}
