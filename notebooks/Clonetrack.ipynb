{
 "cells": [
  {
   "cell_type": "markdown",
   "metadata": {
    "toc": true
   },
   "source": [
    "<h1>Table of Contents<span class=\"tocSkip\"></span></h1>\n",
    "<div class=\"toc\"><ul class=\"toc-item\"><li><span><a href=\"#Dependencies\" data-toc-modified-id=\"Dependencies-1\">Dependencies</a></span></li><li><span><a href=\"#Functions\" data-toc-modified-id=\"Functions-2\">Functions</a></span></li><li><span><a href=\"#Paths\" data-toc-modified-id=\"Paths-3\">Paths</a></span></li><li><span><a href=\"#Main\" data-toc-modified-id=\"Main-4\">Main</a></span></li><li><span><a href=\"#T-ALL-patients\" data-toc-modified-id=\"T-ALL-patients-5\">T-ALL patients</a></span><ul class=\"toc-item\"><li><ul class=\"toc-item\"><li><span><a href=\"#375\" data-toc-modified-id=\"375-5.0.1\">375</a></span></li><li><span><a href=\"#387\" data-toc-modified-id=\"387-5.0.2\">387</a></span></li><li><span><a href=\"#395\" data-toc-modified-id=\"395-5.0.3\">395</a></span></li></ul></li></ul></li><li><span><a href=\"#color-clones,-track-GLIPH\" data-toc-modified-id=\"color-clones,-track-GLIPH-6\">color clones, track GLIPH</a></span></li><li><span><a href=\"#this-ensures-alluvial-is-plotted-if-two-non-consecutive-samples-have-recurring-cdr3\" data-toc-modified-id=\"this-ensures-alluvial-is-plotted-if-two-non-consecutive-samples-have-recurring-cdr3-7\">this ensures alluvial is plotted if two non consecutive samples have recurring cdr3</a></span></li></ul></div>"
   ]
  },
  {
   "cell_type": "markdown",
   "metadata": {},
   "source": [
    "# Dependencies"
   ]
  },
  {
   "cell_type": "code",
   "execution_count": 1,
   "metadata": {
    "scrolled": true
   },
   "outputs": [
    {
     "name": "stderr",
     "output_type": "stream",
     "text": [
      "Loading required package: ggplot2\n",
      "\n"
     ]
    }
   ],
   "source": [
    "library(ggalluvial)\n",
    "library(randomcoloR)"
   ]
  },
  {
   "cell_type": "markdown",
   "metadata": {},
   "source": [
    "# Functions"
   ]
  },
  {
   "cell_type": "code",
   "execution_count": 2,
   "metadata": {},
   "outputs": [],
   "source": [
    "source(\"/Users/anabbi/git/ped_CapTCRseq/R/clonetrack.R\")"
   ]
  },
  {
   "cell_type": "markdown",
   "metadata": {},
   "source": [
    "# Paths"
   ]
  },
  {
   "cell_type": "code",
   "execution_count": 3,
   "metadata": {},
   "outputs": [],
   "source": [
    "datapath <- \"/Users/anabbi/OneDrive - UHN/Documents/INTERCEPT/Data/\"\n",
    "plotpath <- \"/Users/anabbi/OneDrive - UHN/Documents/INTERCEPT/Plots/\"\n",
    "manifestpath <- \"/Users/anabbi/OneDrive - UHN/Documents/INTERCEPT/Manifests/\"\n",
    "\n",
    "gitpath <- \"/Users/anabbi/git/ped_CapTCRseq/\""
   ]
  },
  {
   "cell_type": "markdown",
   "metadata": {},
   "source": [
    "# Main"
   ]
  },
  {
   "cell_type": "code",
   "execution_count": 4,
   "metadata": {},
   "outputs": [
    {
     "data": {
      "text/html": [
       "<pre class=language-r><code>function (compldfle, plotpath, chain, countfrac, clnefrc, plottitle) \n",
       "{\n",
       "<span style=white-space:pre-wrap>    if (!(countfrac %in% c(\"cloneFraction\", \"cloneCount\"))) {</span>\n",
       "<span style=white-space:pre-wrap>        stop(\"Error: unknown argument \", countfrac, \". Please provide either cloneFraction or cloneCount.\")</span>\n",
       "<span style=white-space:pre-wrap>    }</span>\n",
       "<span style=white-space:pre-wrap>    message(\"list of samples to track clones: \")</span>\n",
       "<span style=white-space:pre-wrap>    mysamples &lt;- unique(compldfle$samplename)</span>\n",
       "<span style=white-space:pre-wrap>    print(mysamples)</span>\n",
       "<span style=white-space:pre-wrap>    CDR3_fraction &lt;- compldfle[, c(\"samplename\", \"nSeqCDR3\", </span>\n",
       "<span style=white-space:pre-wrap>        \"cloneFraction\", \"cloneCount\")]</span>\n",
       "<span style=white-space:pre-wrap>    CDR3_fraction &lt;- CDR3_fraction[CDR3_fraction$cloneFraction &gt; </span>\n",
       "<span style=white-space:pre-wrap>        clnefrc, ]</span>\n",
       "<span style=white-space:pre-wrap>    recurring &lt;- unique(CDR3_fraction$nSeqCDR3[duplicated(CDR3_fraction$nSeqCDR3)])</span>\n",
       "<span style=white-space:pre-wrap>    notrecurring &lt;- CDR3_fraction$nSeqCDR3[!CDR3_fraction$nSeqCDR3 %in% </span>\n",
       "<span style=white-space:pre-wrap>        recurring]</span>\n",
       "<span style=white-space:pre-wrap>    message(\"Total number of recurring clonotypes: \")</span>\n",
       "<span style=white-space:pre-wrap>    print(length(recurring))</span>\n",
       "<span style=white-space:pre-wrap>    if (length(recurring) == 0) {</span>\n",
       "<span style=white-space:pre-wrap>        mydummy_df &lt;- as.data.frame(matrix(ncol = 4, nrow = length(mysamples)))</span>\n",
       "<span style=white-space:pre-wrap>        colnames(mydummy_df) &lt;- colnames(CDR3_fraction)</span>\n",
       "<span style=white-space:pre-wrap>        mydummy_df$samplename &lt;- mysamples</span>\n",
       "<span style=white-space:pre-wrap>        mydummy_df$nSeqCDR3 &lt;- \"XXXXX\"</span>\n",
       "<span style=white-space:pre-wrap>        mydummy_df$cloneFraction &lt;- 0</span>\n",
       "<span style=white-space:pre-wrap>        mydummy_df$cloneCount &lt;- 0</span>\n",
       "<span style=white-space:pre-wrap>        CDR3_fraction &lt;- rbind(CDR3_fraction, mydummy_df)</span>\n",
       "<span style=white-space:pre-wrap>        recurring &lt;- \"XXXXX\"</span>\n",
       "<span style=white-space:pre-wrap>    }</span>\n",
       "<span style=white-space:pre-wrap>    if (length(recurring) &gt; 50) {</span>\n",
       "<span style=white-space:pre-wrap>        recurring_df &lt;- CDR3_fraction[CDR3_fraction$nSeqCDR3 %in% </span>\n",
       "<span style=white-space:pre-wrap>            recurring, ]</span>\n",
       "<span style=white-space:pre-wrap>        recurringcdr3_ordered &lt;- unique(recurring_df$nSeqCDR3[order(recurring_df$cloneCount, </span>\n",
       "<span style=white-space:pre-wrap>            decreasing = TRUE)])</span>\n",
       "<span style=white-space:pre-wrap>        message(\"Total number of recurring clonotypes &gt; 50 \")</span>\n",
       "<span style=white-space:pre-wrap>        message(\"Tracking top 10 recurring clonotypes \")</span>\n",
       "<span style=white-space:pre-wrap>        myColors &lt;- distinctColorPalette(10)</span>\n",
       "<span style=white-space:pre-wrap>        myColors &lt;- c(myColors, rep(\"white\", length(recurring) - </span>\n",
       "<span style=white-space:pre-wrap>            10), rep(\"white\", length(notrecurring)))</span>\n",
       "<span style=white-space:pre-wrap>        names(myColors) &lt;- c(recurringcdr3_ordered, notrecurring)</span>\n",
       "<span style=white-space:pre-wrap>        message(\"these are what we color: \")</span>\n",
       "<span style=white-space:pre-wrap>        print(myColors[myColors != \"white\"])</span>\n",
       "<span style=white-space:pre-wrap>    }</span>\n",
       "<span style=white-space:pre-wrap>    else {</span>\n",
       "<span style=white-space:pre-wrap>        myColors &lt;- distinctColorPalette(length(recurring))</span>\n",
       "<span style=white-space:pre-wrap>        myColors &lt;- c(myColors, rep(\"white\", length(notrecurring)))</span>\n",
       "<span style=white-space:pre-wrap>        names(myColors) &lt;- c(recurring, notrecurring)</span>\n",
       "<span style=white-space:pre-wrap>        myColors[names(myColors) == \"XXXXX\"] &lt;- \"white\"</span>\n",
       "<span style=white-space:pre-wrap>        message(\"these are what we color: \")</span>\n",
       "<span style=white-space:pre-wrap>        print(myColors[myColors != \"white\"])</span>\n",
       "<span style=white-space:pre-wrap>    }</span>\n",
       "<span style=white-space:pre-wrap>    for (c in recurring) {</span>\n",
       "<span style=white-space:pre-wrap>        tmp &lt;- CDR3_fraction[CDR3_fraction$nSeqCDR3 == c, ]</span>\n",
       "<span style=white-space:pre-wrap>        nonexsiting &lt;- mysamples[!mysamples %in% tmp$samplename]</span>\n",
       "<span style=white-space:pre-wrap>        if (length(nonexsiting) &gt; 0) {</span>\n",
       "<span style=white-space:pre-wrap>            newentries &lt;- data.frame(samplename = nonexsiting, </span>\n",
       "<span style=white-space:pre-wrap>                nSeqCDR3 = c, cloneFraction = 0, cloneCount = 0)</span>\n",
       "<span style=white-space:pre-wrap>            CDR3_fraction &lt;- rbind(CDR3_fraction, newentries)</span>\n",
       "<span style=white-space:pre-wrap>        }</span>\n",
       "<span style=white-space:pre-wrap>    }</span>\n",
       "<span style=white-space:pre-wrap>    p &lt;- ggplot(CDR3_fraction, aes(x = samplename, y = eval(as.name(countfrac)), </span>\n",
       "<span style=white-space:pre-wrap>        fill = nSeqCDR3, stratum = nSeqCDR3, alluvium = nSeqCDR3, </span>\n",
       "<span style=white-space:pre-wrap>        label = nSeqCDR3))</span>\n",
       "<span style=white-space:pre-wrap>    myp &lt;- p + geom_alluvium(decreasing = FALSE) + geom_stratum(decreasing = FALSE, </span>\n",
       "<span style=white-space:pre-wrap>        stat = \"alluvium\") + scale_fill_manual(breaks = names(myColors[myColors != </span>\n",
       "<span style=white-space:pre-wrap>        \"white\"]), values = myColors) + theme(axis.title.y = element_text(size = 50), </span>\n",
       "<span style=white-space:pre-wrap>        axis.title.x = element_blank(), axis.line = element_line(color = \"black\"), </span>\n",
       "<span style=white-space:pre-wrap>        axis.text = element_text(size = 50), axis.text.x = element_text(angle = 45, </span>\n",
       "<span style=white-space:pre-wrap>            hjust = 1), plot.title = element_text(size = 50, </span>\n",
       "<span style=white-space:pre-wrap>            hjust = 0.5)) + theme(panel.grid.major = element_blank(), </span>\n",
       "<span style=white-space:pre-wrap>        panel.grid.minor = element_blank(), panel.background = element_rect(fill = \"transparent\", </span>\n",
       "<span style=white-space:pre-wrap>            colour = NA), legend.key = element_rect(fill = \"white\", </span>\n",
       "<span style=white-space:pre-wrap>            colour = \"white\"), legend.position = \"none\", plot.margin = unit(c(0.2, </span>\n",
       "<span style=white-space:pre-wrap>            0, 0, 0), \"cm\")) + labs(y = countfrac) + labs(title = plottitle)</span>\n",
       "<span style=white-space:pre-wrap>    pdf(paste0(plotpath, \"clonetrack_\", mysamples[1], chain, </span>\n",
       "<span style=white-space:pre-wrap>        countfrac, \".pdf\"), width = 15, height = 20, useDingbats = FALSE, </span>\n",
       "<span style=white-space:pre-wrap>        onefile = FALSE)</span>\n",
       "<span style=white-space:pre-wrap>    print(myp)</span>\n",
       "<span style=white-space:pre-wrap>    dev.off()</span>\n",
       "}</code></pre>"
      ],
      "text/latex": [
       "\\begin{minted}{r}\n",
       "function (compldfle, plotpath, chain, countfrac, clnefrc, plottitle) \n",
       "\\{\n",
       "    if (!(countfrac \\%in\\% c(\"cloneFraction\", \"cloneCount\"))) \\{\n",
       "        stop(\"Error: unknown argument \", countfrac, \". Please provide either cloneFraction or cloneCount.\")\n",
       "    \\}\n",
       "    message(\"list of samples to track clones: \")\n",
       "    mysamples <- unique(compldfle\\$samplename)\n",
       "    print(mysamples)\n",
       "    CDR3\\_fraction <- compldfle{[}, c(\"samplename\", \"nSeqCDR3\", \n",
       "        \"cloneFraction\", \"cloneCount\"){]}\n",
       "    CDR3\\_fraction <- CDR3\\_fraction{[}CDR3\\_fraction\\$cloneFraction > \n",
       "        clnefrc, {]}\n",
       "    recurring <- unique(CDR3\\_fraction\\$nSeqCDR3{[}duplicated(CDR3\\_fraction\\$nSeqCDR3){]})\n",
       "    notrecurring <- CDR3\\_fraction\\$nSeqCDR3{[}!CDR3\\_fraction\\$nSeqCDR3 \\%in\\% \n",
       "        recurring{]}\n",
       "    message(\"Total number of recurring clonotypes: \")\n",
       "    print(length(recurring))\n",
       "    if (length(recurring) == 0) \\{\n",
       "        mydummy\\_df <- as.data.frame(matrix(ncol = 4, nrow = length(mysamples)))\n",
       "        colnames(mydummy\\_df) <- colnames(CDR3\\_fraction)\n",
       "        mydummy\\_df\\$samplename <- mysamples\n",
       "        mydummy\\_df\\$nSeqCDR3 <- \"XXXXX\"\n",
       "        mydummy\\_df\\$cloneFraction <- 0\n",
       "        mydummy\\_df\\$cloneCount <- 0\n",
       "        CDR3\\_fraction <- rbind(CDR3\\_fraction, mydummy\\_df)\n",
       "        recurring <- \"XXXXX\"\n",
       "    \\}\n",
       "    if (length(recurring) > 50) \\{\n",
       "        recurring\\_df <- CDR3\\_fraction{[}CDR3\\_fraction\\$nSeqCDR3 \\%in\\% \n",
       "            recurring, {]}\n",
       "        recurringcdr3\\_ordered <- unique(recurring\\_df\\$nSeqCDR3{[}order(recurring\\_df\\$cloneCount, \n",
       "            decreasing = TRUE){]})\n",
       "        message(\"Total number of recurring clonotypes > 50 \")\n",
       "        message(\"Tracking top 10 recurring clonotypes \")\n",
       "        myColors <- distinctColorPalette(10)\n",
       "        myColors <- c(myColors, rep(\"white\", length(recurring) - \n",
       "            10), rep(\"white\", length(notrecurring)))\n",
       "        names(myColors) <- c(recurringcdr3\\_ordered, notrecurring)\n",
       "        message(\"these are what we color: \")\n",
       "        print(myColors{[}myColors != \"white\"{]})\n",
       "    \\}\n",
       "    else \\{\n",
       "        myColors <- distinctColorPalette(length(recurring))\n",
       "        myColors <- c(myColors, rep(\"white\", length(notrecurring)))\n",
       "        names(myColors) <- c(recurring, notrecurring)\n",
       "        myColors{[}names(myColors) == \"XXXXX\"{]} <- \"white\"\n",
       "        message(\"these are what we color: \")\n",
       "        print(myColors{[}myColors != \"white\"{]})\n",
       "    \\}\n",
       "    for (c in recurring) \\{\n",
       "        tmp <- CDR3\\_fraction{[}CDR3\\_fraction\\$nSeqCDR3 == c, {]}\n",
       "        nonexsiting <- mysamples{[}!mysamples \\%in\\% tmp\\$samplename{]}\n",
       "        if (length(nonexsiting) > 0) \\{\n",
       "            newentries <- data.frame(samplename = nonexsiting, \n",
       "                nSeqCDR3 = c, cloneFraction = 0, cloneCount = 0)\n",
       "            CDR3\\_fraction <- rbind(CDR3\\_fraction, newentries)\n",
       "        \\}\n",
       "    \\}\n",
       "    p <- ggplot(CDR3\\_fraction, aes(x = samplename, y = eval(as.name(countfrac)), \n",
       "        fill = nSeqCDR3, stratum = nSeqCDR3, alluvium = nSeqCDR3, \n",
       "        label = nSeqCDR3))\n",
       "    myp <- p + geom\\_alluvium(decreasing = FALSE) + geom\\_stratum(decreasing = FALSE, \n",
       "        stat = \"alluvium\") + scale\\_fill\\_manual(breaks = names(myColors{[}myColors != \n",
       "        \"white\"{]}), values = myColors) + theme(axis.title.y = element\\_text(size = 50), \n",
       "        axis.title.x = element\\_blank(), axis.line = element\\_line(color = \"black\"), \n",
       "        axis.text = element\\_text(size = 50), axis.text.x = element\\_text(angle = 45, \n",
       "            hjust = 1), plot.title = element\\_text(size = 50, \n",
       "            hjust = 0.5)) + theme(panel.grid.major = element\\_blank(), \n",
       "        panel.grid.minor = element\\_blank(), panel.background = element\\_rect(fill = \"transparent\", \n",
       "            colour = NA), legend.key = element\\_rect(fill = \"white\", \n",
       "            colour = \"white\"), legend.position = \"none\", plot.margin = unit(c(0.2, \n",
       "            0, 0, 0), \"cm\")) + labs(y = countfrac) + labs(title = plottitle)\n",
       "    pdf(paste0(plotpath, \"clonetrack\\_\", mysamples{[}1{]}, chain, \n",
       "        countfrac, \".pdf\"), width = 15, height = 20, useDingbats = FALSE, \n",
       "        onefile = FALSE)\n",
       "    print(myp)\n",
       "    dev.off()\n",
       "\\}\n",
       "\\end{minted}"
      ],
      "text/markdown": [
       "```r\n",
       "function (compldfle, plotpath, chain, countfrac, clnefrc, plottitle) \n",
       "{\n",
       "    if (!(countfrac %in% c(\"cloneFraction\", \"cloneCount\"))) {\n",
       "        stop(\"Error: unknown argument \", countfrac, \". Please provide either cloneFraction or cloneCount.\")\n",
       "    }\n",
       "    message(\"list of samples to track clones: \")\n",
       "    mysamples <- unique(compldfle$samplename)\n",
       "    print(mysamples)\n",
       "    CDR3_fraction <- compldfle[, c(\"samplename\", \"nSeqCDR3\", \n",
       "        \"cloneFraction\", \"cloneCount\")]\n",
       "    CDR3_fraction <- CDR3_fraction[CDR3_fraction$cloneFraction > \n",
       "        clnefrc, ]\n",
       "    recurring <- unique(CDR3_fraction$nSeqCDR3[duplicated(CDR3_fraction$nSeqCDR3)])\n",
       "    notrecurring <- CDR3_fraction$nSeqCDR3[!CDR3_fraction$nSeqCDR3 %in% \n",
       "        recurring]\n",
       "    message(\"Total number of recurring clonotypes: \")\n",
       "    print(length(recurring))\n",
       "    if (length(recurring) == 0) {\n",
       "        mydummy_df <- as.data.frame(matrix(ncol = 4, nrow = length(mysamples)))\n",
       "        colnames(mydummy_df) <- colnames(CDR3_fraction)\n",
       "        mydummy_df$samplename <- mysamples\n",
       "        mydummy_df$nSeqCDR3 <- \"XXXXX\"\n",
       "        mydummy_df$cloneFraction <- 0\n",
       "        mydummy_df$cloneCount <- 0\n",
       "        CDR3_fraction <- rbind(CDR3_fraction, mydummy_df)\n",
       "        recurring <- \"XXXXX\"\n",
       "    }\n",
       "    if (length(recurring) > 50) {\n",
       "        recurring_df <- CDR3_fraction[CDR3_fraction$nSeqCDR3 %in% \n",
       "            recurring, ]\n",
       "        recurringcdr3_ordered <- unique(recurring_df$nSeqCDR3[order(recurring_df$cloneCount, \n",
       "            decreasing = TRUE)])\n",
       "        message(\"Total number of recurring clonotypes > 50 \")\n",
       "        message(\"Tracking top 10 recurring clonotypes \")\n",
       "        myColors <- distinctColorPalette(10)\n",
       "        myColors <- c(myColors, rep(\"white\", length(recurring) - \n",
       "            10), rep(\"white\", length(notrecurring)))\n",
       "        names(myColors) <- c(recurringcdr3_ordered, notrecurring)\n",
       "        message(\"these are what we color: \")\n",
       "        print(myColors[myColors != \"white\"])\n",
       "    }\n",
       "    else {\n",
       "        myColors <- distinctColorPalette(length(recurring))\n",
       "        myColors <- c(myColors, rep(\"white\", length(notrecurring)))\n",
       "        names(myColors) <- c(recurring, notrecurring)\n",
       "        myColors[names(myColors) == \"XXXXX\"] <- \"white\"\n",
       "        message(\"these are what we color: \")\n",
       "        print(myColors[myColors != \"white\"])\n",
       "    }\n",
       "    for (c in recurring) {\n",
       "        tmp <- CDR3_fraction[CDR3_fraction$nSeqCDR3 == c, ]\n",
       "        nonexsiting <- mysamples[!mysamples %in% tmp$samplename]\n",
       "        if (length(nonexsiting) > 0) {\n",
       "            newentries <- data.frame(samplename = nonexsiting, \n",
       "                nSeqCDR3 = c, cloneFraction = 0, cloneCount = 0)\n",
       "            CDR3_fraction <- rbind(CDR3_fraction, newentries)\n",
       "        }\n",
       "    }\n",
       "    p <- ggplot(CDR3_fraction, aes(x = samplename, y = eval(as.name(countfrac)), \n",
       "        fill = nSeqCDR3, stratum = nSeqCDR3, alluvium = nSeqCDR3, \n",
       "        label = nSeqCDR3))\n",
       "    myp <- p + geom_alluvium(decreasing = FALSE) + geom_stratum(decreasing = FALSE, \n",
       "        stat = \"alluvium\") + scale_fill_manual(breaks = names(myColors[myColors != \n",
       "        \"white\"]), values = myColors) + theme(axis.title.y = element_text(size = 50), \n",
       "        axis.title.x = element_blank(), axis.line = element_line(color = \"black\"), \n",
       "        axis.text = element_text(size = 50), axis.text.x = element_text(angle = 45, \n",
       "            hjust = 1), plot.title = element_text(size = 50, \n",
       "            hjust = 0.5)) + theme(panel.grid.major = element_blank(), \n",
       "        panel.grid.minor = element_blank(), panel.background = element_rect(fill = \"transparent\", \n",
       "            colour = NA), legend.key = element_rect(fill = \"white\", \n",
       "            colour = \"white\"), legend.position = \"none\", plot.margin = unit(c(0.2, \n",
       "            0, 0, 0), \"cm\")) + labs(y = countfrac) + labs(title = plottitle)\n",
       "    pdf(paste0(plotpath, \"clonetrack_\", mysamples[1], chain, \n",
       "        countfrac, \".pdf\"), width = 15, height = 20, useDingbats = FALSE, \n",
       "        onefile = FALSE)\n",
       "    print(myp)\n",
       "    dev.off()\n",
       "}\n",
       "```"
      ],
      "text/plain": [
       "function (compldfle, plotpath, chain, countfrac, clnefrc, plottitle) \n",
       "{\n",
       "    if (!(countfrac %in% c(\"cloneFraction\", \"cloneCount\"))) {\n",
       "        stop(\"Error: unknown argument \", countfrac, \". Please provide either cloneFraction or cloneCount.\")\n",
       "    }\n",
       "    message(\"list of samples to track clones: \")\n",
       "    mysamples <- unique(compldfle$samplename)\n",
       "    print(mysamples)\n",
       "    CDR3_fraction <- compldfle[, c(\"samplename\", \"nSeqCDR3\", \n",
       "        \"cloneFraction\", \"cloneCount\")]\n",
       "    CDR3_fraction <- CDR3_fraction[CDR3_fraction$cloneFraction > \n",
       "        clnefrc, ]\n",
       "    recurring <- unique(CDR3_fraction$nSeqCDR3[duplicated(CDR3_fraction$nSeqCDR3)])\n",
       "    notrecurring <- CDR3_fraction$nSeqCDR3[!CDR3_fraction$nSeqCDR3 %in% \n",
       "        recurring]\n",
       "    message(\"Total number of recurring clonotypes: \")\n",
       "    print(length(recurring))\n",
       "    if (length(recurring) == 0) {\n",
       "        mydummy_df <- as.data.frame(matrix(ncol = 4, nrow = length(mysamples)))\n",
       "        colnames(mydummy_df) <- colnames(CDR3_fraction)\n",
       "        mydummy_df$samplename <- mysamples\n",
       "        mydummy_df$nSeqCDR3 <- \"XXXXX\"\n",
       "        mydummy_df$cloneFraction <- 0\n",
       "        mydummy_df$cloneCount <- 0\n",
       "        CDR3_fraction <- rbind(CDR3_fraction, mydummy_df)\n",
       "        recurring <- \"XXXXX\"\n",
       "    }\n",
       "    if (length(recurring) > 50) {\n",
       "        recurring_df <- CDR3_fraction[CDR3_fraction$nSeqCDR3 %in% \n",
       "            recurring, ]\n",
       "        recurringcdr3_ordered <- unique(recurring_df$nSeqCDR3[order(recurring_df$cloneCount, \n",
       "            decreasing = TRUE)])\n",
       "        message(\"Total number of recurring clonotypes > 50 \")\n",
       "        message(\"Tracking top 10 recurring clonotypes \")\n",
       "        myColors <- distinctColorPalette(10)\n",
       "        myColors <- c(myColors, rep(\"white\", length(recurring) - \n",
       "            10), rep(\"white\", length(notrecurring)))\n",
       "        names(myColors) <- c(recurringcdr3_ordered, notrecurring)\n",
       "        message(\"these are what we color: \")\n",
       "        print(myColors[myColors != \"white\"])\n",
       "    }\n",
       "    else {\n",
       "        myColors <- distinctColorPalette(length(recurring))\n",
       "        myColors <- c(myColors, rep(\"white\", length(notrecurring)))\n",
       "        names(myColors) <- c(recurring, notrecurring)\n",
       "        myColors[names(myColors) == \"XXXXX\"] <- \"white\"\n",
       "        message(\"these are what we color: \")\n",
       "        print(myColors[myColors != \"white\"])\n",
       "    }\n",
       "    for (c in recurring) {\n",
       "        tmp <- CDR3_fraction[CDR3_fraction$nSeqCDR3 == c, ]\n",
       "        nonexsiting <- mysamples[!mysamples %in% tmp$samplename]\n",
       "        if (length(nonexsiting) > 0) {\n",
       "            newentries <- data.frame(samplename = nonexsiting, \n",
       "                nSeqCDR3 = c, cloneFraction = 0, cloneCount = 0)\n",
       "            CDR3_fraction <- rbind(CDR3_fraction, newentries)\n",
       "        }\n",
       "    }\n",
       "    p <- ggplot(CDR3_fraction, aes(x = samplename, y = eval(as.name(countfrac)), \n",
       "        fill = nSeqCDR3, stratum = nSeqCDR3, alluvium = nSeqCDR3, \n",
       "        label = nSeqCDR3))\n",
       "    myp <- p + geom_alluvium(decreasing = FALSE) + geom_stratum(decreasing = FALSE, \n",
       "        stat = \"alluvium\") + scale_fill_manual(breaks = names(myColors[myColors != \n",
       "        \"white\"]), values = myColors) + theme(axis.title.y = element_text(size = 50), \n",
       "        axis.title.x = element_blank(), axis.line = element_line(color = \"black\"), \n",
       "        axis.text = element_text(size = 50), axis.text.x = element_text(angle = 45, \n",
       "            hjust = 1), plot.title = element_text(size = 50, \n",
       "            hjust = 0.5)) + theme(panel.grid.major = element_blank(), \n",
       "        panel.grid.minor = element_blank(), panel.background = element_rect(fill = \"transparent\", \n",
       "            colour = NA), legend.key = element_rect(fill = \"white\", \n",
       "            colour = \"white\"), legend.position = \"none\", plot.margin = unit(c(0.2, \n",
       "            0, 0, 0), \"cm\")) + labs(y = countfrac) + labs(title = plottitle)\n",
       "    pdf(paste0(plotpath, \"clonetrack_\", mysamples[1], chain, \n",
       "        countfrac, \".pdf\"), width = 15, height = 20, useDingbats = FALSE, \n",
       "        onefile = FALSE)\n",
       "    print(myp)\n",
       "    dev.off()\n",
       "}"
      ]
     },
     "metadata": {},
     "output_type": "display_data"
    }
   ],
   "source": [
    "plot_clonetracks.fx"
   ]
  },
  {
   "cell_type": "code",
   "execution_count": 5,
   "metadata": {},
   "outputs": [],
   "source": [
    "load(file = paste0(datapath, \"capTCRseq/int_load_meta.RData\"))"
   ]
  },
  {
   "cell_type": "code",
   "execution_count": 6,
   "metadata": {},
   "outputs": [],
   "source": [
    "h4hpath <- \"/Users/anabbi/Desktop/H4H/INTERCEPT/NextSeq/immunarch/cloneslinks/\""
   ]
  },
  {
   "cell_type": "code",
   "execution_count": 7,
   "metadata": {},
   "outputs": [],
   "source": [
    "file_list <- list.files(h4hpath, pattern = paste0(\"CLONES_\", \"TRB\"), recursive = T)"
   ]
  },
  {
   "cell_type": "code",
   "execution_count": 8,
   "metadata": {},
   "outputs": [],
   "source": [
    "file_list <- file_list[!grepl(\"_2000000\", file_list)]\n",
    "file_list <- file_list[!grepl(\"immunarch\", file_list)]"
   ]
  },
  {
   "cell_type": "code",
   "execution_count": 9,
   "metadata": {},
   "outputs": [
    {
     "data": {
      "text/html": [
       "<table class=\"dataframe\">\n",
       "<caption>A tibble: 18 × 68</caption>\n",
       "<thead>\n",
       "\t<tr><th scope=col>Sample</th><th scope=col>sample_id</th><th scope=col>Patient</th><th scope=col>cycle</th><th scope=col>FOLD</th><th scope=col>ATC</th><th scope=col>Age</th><th scope=col>Disease_type</th><th scope=col>TE_fold</th><th scope=col>Pass</th><th scope=col>⋯</th><th scope=col>q0_aa</th><th scope=col>q0_v</th><th scope=col>q0_j</th><th scope=col>q0_aav</th><th scope=col>q0_vj</th><th scope=col>q1_aa</th><th scope=col>q1_v</th><th scope=col>q1_j</th><th scope=col>q1_aav</th><th scope=col>q1_vj</th></tr>\n",
       "\t<tr><th scope=col>&lt;chr&gt;</th><th scope=col>&lt;chr&gt;</th><th scope=col>&lt;chr&gt;</th><th scope=col>&lt;chr&gt;</th><th scope=col>&lt;dbl&gt;</th><th scope=col>&lt;dbl&gt;</th><th scope=col>&lt;dbl&gt;</th><th scope=col>&lt;chr&gt;</th><th scope=col>&lt;chr&gt;</th><th scope=col>&lt;lgl&gt;</th><th scope=col>⋯</th><th scope=col>&lt;dbl&gt;</th><th scope=col>&lt;dbl&gt;</th><th scope=col>&lt;dbl&gt;</th><th scope=col>&lt;dbl&gt;</th><th scope=col>&lt;dbl&gt;</th><th scope=col>&lt;dbl&gt;</th><th scope=col>&lt;dbl&gt;</th><th scope=col>&lt;dbl&gt;</th><th scope=col>&lt;dbl&gt;</th><th scope=col>&lt;dbl&gt;</th></tr>\n",
       "</thead>\n",
       "<tbody>\n",
       "\t<tr><td>CHP_324-04_cfDNA   </td><td>CHP_324_04</td><td>CHP_324</td><td>X04</td><td>0.0</td><td>   0.00</td><td>12</td><td>T-ALL</td><td>0  </td><td>NA</td><td>⋯</td><td>  2</td><td> 2</td><td> 2</td><td>  2</td><td> 2.0</td><td>  1.995557</td><td> 1.995557</td><td> 1.995557</td><td>  1.995557</td><td> 1.995557</td></tr>\n",
       "\t<tr><td>CHP_324-05_cfDNA   </td><td>CHP_324_05</td><td>CHP_324</td><td>X05</td><td>0.0</td><td>   0.00</td><td>12</td><td>T-ALL</td><td>0  </td><td>NA</td><td>⋯</td><td>  4</td><td> 3</td><td> 4</td><td>  4</td><td> 3.5</td><td>  3.770348</td><td> 2.579926</td><td> 3.770348</td><td>  3.770348</td><td> 3.175137</td></tr>\n",
       "\t<tr><td>CHP_324-05_PBMC-DNA</td><td>CHP_324_05</td><td>CHP_324</td><td>X05</td><td>0.0</td><td>   0.00</td><td>12</td><td>T-ALL</td><td>0  </td><td>NA</td><td>⋯</td><td>295</td><td>45</td><td>14</td><td>295</td><td>29.5</td><td>165.892624</td><td>31.274714</td><td>10.258785</td><td>165.892624</td><td>20.766750</td></tr>\n",
       "\t<tr><td>CHP_375-01-PBMC-DNA</td><td>CHP_375_01</td><td>CHP_375</td><td>X01</td><td>1.8</td><td>   0.00</td><td>14</td><td>T-ALL</td><td>1.8</td><td>NA</td><td>⋯</td><td> 12</td><td>11</td><td> 7</td><td> 12</td><td> 9.0</td><td>  2.223439</td><td> 1.582499</td><td> 1.911728</td><td>  2.223439</td><td> 1.747113</td></tr>\n",
       "\t<tr><td>CHP_375-02_cfDNA   </td><td>CHP_375_02</td><td>CHP_375</td><td>X02</td><td>0.0</td><td>   0.00</td><td>14</td><td>T-ALL</td><td>0  </td><td>NA</td><td>⋯</td><td> 17</td><td>13</td><td> 9</td><td> 17</td><td>11.0</td><td>  6.286238</td><td> 5.996816</td><td> 4.215088</td><td>  6.286238</td><td> 5.105952</td></tr>\n",
       "\t<tr><td>CHP_375-02-PBMC-DNA</td><td>CHP_375_02</td><td>CHP_375</td><td>X02</td><td>0.0</td><td>   0.00</td><td>14</td><td>T-ALL</td><td>0  </td><td>NA</td><td>⋯</td><td>647</td><td>55</td><td>14</td><td>648</td><td>34.5</td><td>510.397557</td><td>38.308064</td><td>10.809847</td><td>510.643258</td><td>24.558955</td></tr>\n",
       "\t<tr><td>CHP_375-03_cfDNA   </td><td>CHP_375_03</td><td>CHP_375</td><td>X03</td><td>0.0</td><td>   0.00</td><td>14</td><td>T-ALL</td><td>0  </td><td>NA</td><td>⋯</td><td> 17</td><td>13</td><td> 9</td><td> 17</td><td>11.0</td><td>  6.336502</td><td> 6.283103</td><td> 3.798558</td><td>  6.336502</td><td> 5.040831</td></tr>\n",
       "\t<tr><td>CHP_375-04_cfDNA   </td><td>CHP_375_04</td><td>CHP_375</td><td>X04</td><td>0.6</td><td>   0.00</td><td>14</td><td>T-ALL</td><td>0.6</td><td>NA</td><td>⋯</td><td> 33</td><td>21</td><td> 9</td><td> 33</td><td>15.0</td><td> 19.821220</td><td>13.584535</td><td> 6.235886</td><td> 19.821220</td><td> 9.910210</td></tr>\n",
       "\t<tr><td>CHP_375-05_cfDNA   </td><td>CHP_375_05</td><td>CHP_375</td><td>X05</td><td>0.5</td><td>   0.00</td><td>14</td><td>T-ALL</td><td>0.5</td><td>NA</td><td>⋯</td><td> 66</td><td>32</td><td>13</td><td> 66</td><td>22.5</td><td> 30.624927</td><td>16.204228</td><td> 9.052041</td><td> 30.624927</td><td>12.628134</td></tr>\n",
       "\t<tr><td>CHP_375-05_PBMC_DNA</td><td>CHP_375_05</td><td>CHP_375</td><td>X05</td><td>0.5</td><td>   0.00</td><td>14</td><td>T-ALL</td><td>0.5</td><td>NA</td><td>⋯</td><td>357</td><td>50</td><td>14</td><td>357</td><td>32.0</td><td>181.991052</td><td>31.517568</td><td>10.122672</td><td>181.991052</td><td>20.820120</td></tr>\n",
       "\t<tr><td>CHP_387-01_cfDNA   </td><td>CHP_387_01</td><td>CHP_387</td><td>X01</td><td>0.8</td><td> 288.99</td><td>13</td><td>T-ALL</td><td>0.8</td><td>NA</td><td>⋯</td><td> 10</td><td> 5</td><td> 7</td><td> 10</td><td> 6.0</td><td>  1.177048</td><td> 1.024859</td><td> 1.174655</td><td>  1.177048</td><td> 1.099757</td></tr>\n",
       "\t<tr><td>CHP_387-01-PBMC-DNA</td><td>CHP_387_01</td><td>CHP_387</td><td>X01</td><td>0.8</td><td> 288.99</td><td>13</td><td>T-ALL</td><td>0.8</td><td>NA</td><td>⋯</td><td>358</td><td>48</td><td>14</td><td>358</td><td>31.0</td><td>  6.703836</td><td> 3.327969</td><td> 2.942895</td><td>  6.703836</td><td> 3.135432</td></tr>\n",
       "\t<tr><td>CHP_387-02_cfDNA   </td><td>CHP_387_02</td><td>CHP_387</td><td>X02</td><td>4.9</td><td> 254.80</td><td>13</td><td>T-ALL</td><td>4.9</td><td>NA</td><td>⋯</td><td>  5</td><td> 5</td><td> 3</td><td>  5</td><td> 4.0</td><td>  2.195205</td><td> 2.195205</td><td> 2.068134</td><td>  2.195205</td><td> 2.131669</td></tr>\n",
       "\t<tr><td>CHP_387-02_PBMC_DNA</td><td>CHP_387_02</td><td>CHP_387</td><td>X02</td><td>4.9</td><td> 254.80</td><td>13</td><td>T-ALL</td><td>4.9</td><td>NA</td><td>⋯</td><td>855</td><td>54</td><td>14</td><td>855</td><td>34.0</td><td>605.462963</td><td>35.009446</td><td>11.946509</td><td>605.462963</td><td>23.477977</td></tr>\n",
       "\t<tr><td>CHP_387-03_cfDNA   </td><td>CHP_387_03</td><td>CHP_387</td><td>X03</td><td> NA</td><td> 483.72</td><td>13</td><td>T-ALL</td><td>x  </td><td>NA</td><td>⋯</td><td> 11</td><td> 8</td><td> 5</td><td> 11</td><td> 6.5</td><td>  6.018764</td><td> 4.383900</td><td> 4.218440</td><td>  6.018764</td><td> 4.301170</td></tr>\n",
       "\t<tr><td>CHP_387-03_PBMC_DNA</td><td>CHP_387_03</td><td>CHP_387</td><td>X03</td><td> NA</td><td> 483.72</td><td>13</td><td>T-ALL</td><td>x  </td><td>NA</td><td>⋯</td><td> 91</td><td>40</td><td>14</td><td> 91</td><td>27.0</td><td> 64.240499</td><td>23.441863</td><td>11.512896</td><td> 64.240499</td><td>17.477379</td></tr>\n",
       "\t<tr><td>CHP_395-01_cfDNA   </td><td>CHP_395_01</td><td>CHP_395</td><td>X01</td><td>2.7</td><td>5875.96</td><td>11</td><td>T-ALL</td><td>2.7</td><td>NA</td><td>⋯</td><td>  4</td><td> 2</td><td> 3</td><td>  4</td><td> 2.5</td><td>  1.214059</td><td> 1.000702</td><td> 1.213211</td><td>  1.214059</td><td> 1.106957</td></tr>\n",
       "\t<tr><td>CHP_395-02_cfDNA   </td><td>CHP_395_02</td><td>CHP_395</td><td>X02</td><td>1.0</td><td>     NA</td><td>11</td><td>T-ALL</td><td>1  </td><td>NA</td><td>⋯</td><td> 26</td><td>17</td><td> 9</td><td> 26</td><td>13.0</td><td>  7.496205</td><td> 6.662522</td><td> 5.091726</td><td>  7.496205</td><td> 5.877124</td></tr>\n",
       "</tbody>\n",
       "</table>\n"
      ],
      "text/latex": [
       "A tibble: 18 × 68\n",
       "\\begin{tabular}{lllllllllllllllllllll}\n",
       " Sample & sample\\_id & Patient & cycle & FOLD & ATC & Age & Disease\\_type & TE\\_fold & Pass & ⋯ & q0\\_aa & q0\\_v & q0\\_j & q0\\_aav & q0\\_vj & q1\\_aa & q1\\_v & q1\\_j & q1\\_aav & q1\\_vj\\\\\n",
       " <chr> & <chr> & <chr> & <chr> & <dbl> & <dbl> & <dbl> & <chr> & <chr> & <lgl> & ⋯ & <dbl> & <dbl> & <dbl> & <dbl> & <dbl> & <dbl> & <dbl> & <dbl> & <dbl> & <dbl>\\\\\n",
       "\\hline\n",
       "\t CHP\\_324-04\\_cfDNA    & CHP\\_324\\_04 & CHP\\_324 & X04 & 0.0 &    0.00 & 12 & T-ALL & 0   & NA & ⋯ &   2 &  2 &  2 &   2 &  2.0 &   1.995557 &  1.995557 &  1.995557 &   1.995557 &  1.995557\\\\\n",
       "\t CHP\\_324-05\\_cfDNA    & CHP\\_324\\_05 & CHP\\_324 & X05 & 0.0 &    0.00 & 12 & T-ALL & 0   & NA & ⋯ &   4 &  3 &  4 &   4 &  3.5 &   3.770348 &  2.579926 &  3.770348 &   3.770348 &  3.175137\\\\\n",
       "\t CHP\\_324-05\\_PBMC-DNA & CHP\\_324\\_05 & CHP\\_324 & X05 & 0.0 &    0.00 & 12 & T-ALL & 0   & NA & ⋯ & 295 & 45 & 14 & 295 & 29.5 & 165.892624 & 31.274714 & 10.258785 & 165.892624 & 20.766750\\\\\n",
       "\t CHP\\_375-01-PBMC-DNA & CHP\\_375\\_01 & CHP\\_375 & X01 & 1.8 &    0.00 & 14 & T-ALL & 1.8 & NA & ⋯ &  12 & 11 &  7 &  12 &  9.0 &   2.223439 &  1.582499 &  1.911728 &   2.223439 &  1.747113\\\\\n",
       "\t CHP\\_375-02\\_cfDNA    & CHP\\_375\\_02 & CHP\\_375 & X02 & 0.0 &    0.00 & 14 & T-ALL & 0   & NA & ⋯ &  17 & 13 &  9 &  17 & 11.0 &   6.286238 &  5.996816 &  4.215088 &   6.286238 &  5.105952\\\\\n",
       "\t CHP\\_375-02-PBMC-DNA & CHP\\_375\\_02 & CHP\\_375 & X02 & 0.0 &    0.00 & 14 & T-ALL & 0   & NA & ⋯ & 647 & 55 & 14 & 648 & 34.5 & 510.397557 & 38.308064 & 10.809847 & 510.643258 & 24.558955\\\\\n",
       "\t CHP\\_375-03\\_cfDNA    & CHP\\_375\\_03 & CHP\\_375 & X03 & 0.0 &    0.00 & 14 & T-ALL & 0   & NA & ⋯ &  17 & 13 &  9 &  17 & 11.0 &   6.336502 &  6.283103 &  3.798558 &   6.336502 &  5.040831\\\\\n",
       "\t CHP\\_375-04\\_cfDNA    & CHP\\_375\\_04 & CHP\\_375 & X04 & 0.6 &    0.00 & 14 & T-ALL & 0.6 & NA & ⋯ &  33 & 21 &  9 &  33 & 15.0 &  19.821220 & 13.584535 &  6.235886 &  19.821220 &  9.910210\\\\\n",
       "\t CHP\\_375-05\\_cfDNA    & CHP\\_375\\_05 & CHP\\_375 & X05 & 0.5 &    0.00 & 14 & T-ALL & 0.5 & NA & ⋯ &  66 & 32 & 13 &  66 & 22.5 &  30.624927 & 16.204228 &  9.052041 &  30.624927 & 12.628134\\\\\n",
       "\t CHP\\_375-05\\_PBMC\\_DNA & CHP\\_375\\_05 & CHP\\_375 & X05 & 0.5 &    0.00 & 14 & T-ALL & 0.5 & NA & ⋯ & 357 & 50 & 14 & 357 & 32.0 & 181.991052 & 31.517568 & 10.122672 & 181.991052 & 20.820120\\\\\n",
       "\t CHP\\_387-01\\_cfDNA    & CHP\\_387\\_01 & CHP\\_387 & X01 & 0.8 &  288.99 & 13 & T-ALL & 0.8 & NA & ⋯ &  10 &  5 &  7 &  10 &  6.0 &   1.177048 &  1.024859 &  1.174655 &   1.177048 &  1.099757\\\\\n",
       "\t CHP\\_387-01-PBMC-DNA & CHP\\_387\\_01 & CHP\\_387 & X01 & 0.8 &  288.99 & 13 & T-ALL & 0.8 & NA & ⋯ & 358 & 48 & 14 & 358 & 31.0 &   6.703836 &  3.327969 &  2.942895 &   6.703836 &  3.135432\\\\\n",
       "\t CHP\\_387-02\\_cfDNA    & CHP\\_387\\_02 & CHP\\_387 & X02 & 4.9 &  254.80 & 13 & T-ALL & 4.9 & NA & ⋯ &   5 &  5 &  3 &   5 &  4.0 &   2.195205 &  2.195205 &  2.068134 &   2.195205 &  2.131669\\\\\n",
       "\t CHP\\_387-02\\_PBMC\\_DNA & CHP\\_387\\_02 & CHP\\_387 & X02 & 4.9 &  254.80 & 13 & T-ALL & 4.9 & NA & ⋯ & 855 & 54 & 14 & 855 & 34.0 & 605.462963 & 35.009446 & 11.946509 & 605.462963 & 23.477977\\\\\n",
       "\t CHP\\_387-03\\_cfDNA    & CHP\\_387\\_03 & CHP\\_387 & X03 &  NA &  483.72 & 13 & T-ALL & x   & NA & ⋯ &  11 &  8 &  5 &  11 &  6.5 &   6.018764 &  4.383900 &  4.218440 &   6.018764 &  4.301170\\\\\n",
       "\t CHP\\_387-03\\_PBMC\\_DNA & CHP\\_387\\_03 & CHP\\_387 & X03 &  NA &  483.72 & 13 & T-ALL & x   & NA & ⋯ &  91 & 40 & 14 &  91 & 27.0 &  64.240499 & 23.441863 & 11.512896 &  64.240499 & 17.477379\\\\\n",
       "\t CHP\\_395-01\\_cfDNA    & CHP\\_395\\_01 & CHP\\_395 & X01 & 2.7 & 5875.96 & 11 & T-ALL & 2.7 & NA & ⋯ &   4 &  2 &  3 &   4 &  2.5 &   1.214059 &  1.000702 &  1.213211 &   1.214059 &  1.106957\\\\\n",
       "\t CHP\\_395-02\\_cfDNA    & CHP\\_395\\_02 & CHP\\_395 & X02 & 1.0 &      NA & 11 & T-ALL & 1   & NA & ⋯ &  26 & 17 &  9 &  26 & 13.0 &   7.496205 &  6.662522 &  5.091726 &   7.496205 &  5.877124\\\\\n",
       "\\end{tabular}\n"
      ],
      "text/markdown": [
       "\n",
       "A tibble: 18 × 68\n",
       "\n",
       "| Sample &lt;chr&gt; | sample_id &lt;chr&gt; | Patient &lt;chr&gt; | cycle &lt;chr&gt; | FOLD &lt;dbl&gt; | ATC &lt;dbl&gt; | Age &lt;dbl&gt; | Disease_type &lt;chr&gt; | TE_fold &lt;chr&gt; | Pass &lt;lgl&gt; | ⋯ ⋯ | q0_aa &lt;dbl&gt; | q0_v &lt;dbl&gt; | q0_j &lt;dbl&gt; | q0_aav &lt;dbl&gt; | q0_vj &lt;dbl&gt; | q1_aa &lt;dbl&gt; | q1_v &lt;dbl&gt; | q1_j &lt;dbl&gt; | q1_aav &lt;dbl&gt; | q1_vj &lt;dbl&gt; |\n",
       "|---|---|---|---|---|---|---|---|---|---|---|---|---|---|---|---|---|---|---|---|---|\n",
       "| CHP_324-04_cfDNA    | CHP_324_04 | CHP_324 | X04 | 0.0 |    0.00 | 12 | T-ALL | 0   | NA | ⋯ |   2 |  2 |  2 |   2 |  2.0 |   1.995557 |  1.995557 |  1.995557 |   1.995557 |  1.995557 |\n",
       "| CHP_324-05_cfDNA    | CHP_324_05 | CHP_324 | X05 | 0.0 |    0.00 | 12 | T-ALL | 0   | NA | ⋯ |   4 |  3 |  4 |   4 |  3.5 |   3.770348 |  2.579926 |  3.770348 |   3.770348 |  3.175137 |\n",
       "| CHP_324-05_PBMC-DNA | CHP_324_05 | CHP_324 | X05 | 0.0 |    0.00 | 12 | T-ALL | 0   | NA | ⋯ | 295 | 45 | 14 | 295 | 29.5 | 165.892624 | 31.274714 | 10.258785 | 165.892624 | 20.766750 |\n",
       "| CHP_375-01-PBMC-DNA | CHP_375_01 | CHP_375 | X01 | 1.8 |    0.00 | 14 | T-ALL | 1.8 | NA | ⋯ |  12 | 11 |  7 |  12 |  9.0 |   2.223439 |  1.582499 |  1.911728 |   2.223439 |  1.747113 |\n",
       "| CHP_375-02_cfDNA    | CHP_375_02 | CHP_375 | X02 | 0.0 |    0.00 | 14 | T-ALL | 0   | NA | ⋯ |  17 | 13 |  9 |  17 | 11.0 |   6.286238 |  5.996816 |  4.215088 |   6.286238 |  5.105952 |\n",
       "| CHP_375-02-PBMC-DNA | CHP_375_02 | CHP_375 | X02 | 0.0 |    0.00 | 14 | T-ALL | 0   | NA | ⋯ | 647 | 55 | 14 | 648 | 34.5 | 510.397557 | 38.308064 | 10.809847 | 510.643258 | 24.558955 |\n",
       "| CHP_375-03_cfDNA    | CHP_375_03 | CHP_375 | X03 | 0.0 |    0.00 | 14 | T-ALL | 0   | NA | ⋯ |  17 | 13 |  9 |  17 | 11.0 |   6.336502 |  6.283103 |  3.798558 |   6.336502 |  5.040831 |\n",
       "| CHP_375-04_cfDNA    | CHP_375_04 | CHP_375 | X04 | 0.6 |    0.00 | 14 | T-ALL | 0.6 | NA | ⋯ |  33 | 21 |  9 |  33 | 15.0 |  19.821220 | 13.584535 |  6.235886 |  19.821220 |  9.910210 |\n",
       "| CHP_375-05_cfDNA    | CHP_375_05 | CHP_375 | X05 | 0.5 |    0.00 | 14 | T-ALL | 0.5 | NA | ⋯ |  66 | 32 | 13 |  66 | 22.5 |  30.624927 | 16.204228 |  9.052041 |  30.624927 | 12.628134 |\n",
       "| CHP_375-05_PBMC_DNA | CHP_375_05 | CHP_375 | X05 | 0.5 |    0.00 | 14 | T-ALL | 0.5 | NA | ⋯ | 357 | 50 | 14 | 357 | 32.0 | 181.991052 | 31.517568 | 10.122672 | 181.991052 | 20.820120 |\n",
       "| CHP_387-01_cfDNA    | CHP_387_01 | CHP_387 | X01 | 0.8 |  288.99 | 13 | T-ALL | 0.8 | NA | ⋯ |  10 |  5 |  7 |  10 |  6.0 |   1.177048 |  1.024859 |  1.174655 |   1.177048 |  1.099757 |\n",
       "| CHP_387-01-PBMC-DNA | CHP_387_01 | CHP_387 | X01 | 0.8 |  288.99 | 13 | T-ALL | 0.8 | NA | ⋯ | 358 | 48 | 14 | 358 | 31.0 |   6.703836 |  3.327969 |  2.942895 |   6.703836 |  3.135432 |\n",
       "| CHP_387-02_cfDNA    | CHP_387_02 | CHP_387 | X02 | 4.9 |  254.80 | 13 | T-ALL | 4.9 | NA | ⋯ |   5 |  5 |  3 |   5 |  4.0 |   2.195205 |  2.195205 |  2.068134 |   2.195205 |  2.131669 |\n",
       "| CHP_387-02_PBMC_DNA | CHP_387_02 | CHP_387 | X02 | 4.9 |  254.80 | 13 | T-ALL | 4.9 | NA | ⋯ | 855 | 54 | 14 | 855 | 34.0 | 605.462963 | 35.009446 | 11.946509 | 605.462963 | 23.477977 |\n",
       "| CHP_387-03_cfDNA    | CHP_387_03 | CHP_387 | X03 |  NA |  483.72 | 13 | T-ALL | x   | NA | ⋯ |  11 |  8 |  5 |  11 |  6.5 |   6.018764 |  4.383900 |  4.218440 |   6.018764 |  4.301170 |\n",
       "| CHP_387-03_PBMC_DNA | CHP_387_03 | CHP_387 | X03 |  NA |  483.72 | 13 | T-ALL | x   | NA | ⋯ |  91 | 40 | 14 |  91 | 27.0 |  64.240499 | 23.441863 | 11.512896 |  64.240499 | 17.477379 |\n",
       "| CHP_395-01_cfDNA    | CHP_395_01 | CHP_395 | X01 | 2.7 | 5875.96 | 11 | T-ALL | 2.7 | NA | ⋯ |   4 |  2 |  3 |   4 |  2.5 |   1.214059 |  1.000702 |  1.213211 |   1.214059 |  1.106957 |\n",
       "| CHP_395-02_cfDNA    | CHP_395_02 | CHP_395 | X02 | 1.0 |      NA | 11 | T-ALL | 1   | NA | ⋯ |  26 | 17 |  9 |  26 | 13.0 |   7.496205 |  6.662522 |  5.091726 |   7.496205 |  5.877124 |\n",
       "\n"
      ],
      "text/plain": [
       "   Sample              sample_id  Patient cycle FOLD ATC     Age Disease_type\n",
       "1  CHP_324-04_cfDNA    CHP_324_04 CHP_324 X04   0.0     0.00 12  T-ALL       \n",
       "2  CHP_324-05_cfDNA    CHP_324_05 CHP_324 X05   0.0     0.00 12  T-ALL       \n",
       "3  CHP_324-05_PBMC-DNA CHP_324_05 CHP_324 X05   0.0     0.00 12  T-ALL       \n",
       "4  CHP_375-01-PBMC-DNA CHP_375_01 CHP_375 X01   1.8     0.00 14  T-ALL       \n",
       "5  CHP_375-02_cfDNA    CHP_375_02 CHP_375 X02   0.0     0.00 14  T-ALL       \n",
       "6  CHP_375-02-PBMC-DNA CHP_375_02 CHP_375 X02   0.0     0.00 14  T-ALL       \n",
       "7  CHP_375-03_cfDNA    CHP_375_03 CHP_375 X03   0.0     0.00 14  T-ALL       \n",
       "8  CHP_375-04_cfDNA    CHP_375_04 CHP_375 X04   0.6     0.00 14  T-ALL       \n",
       "9  CHP_375-05_cfDNA    CHP_375_05 CHP_375 X05   0.5     0.00 14  T-ALL       \n",
       "10 CHP_375-05_PBMC_DNA CHP_375_05 CHP_375 X05   0.5     0.00 14  T-ALL       \n",
       "11 CHP_387-01_cfDNA    CHP_387_01 CHP_387 X01   0.8   288.99 13  T-ALL       \n",
       "12 CHP_387-01-PBMC-DNA CHP_387_01 CHP_387 X01   0.8   288.99 13  T-ALL       \n",
       "13 CHP_387-02_cfDNA    CHP_387_02 CHP_387 X02   4.9   254.80 13  T-ALL       \n",
       "14 CHP_387-02_PBMC_DNA CHP_387_02 CHP_387 X02   4.9   254.80 13  T-ALL       \n",
       "15 CHP_387-03_cfDNA    CHP_387_03 CHP_387 X03    NA   483.72 13  T-ALL       \n",
       "16 CHP_387-03_PBMC_DNA CHP_387_03 CHP_387 X03    NA   483.72 13  T-ALL       \n",
       "17 CHP_395-01_cfDNA    CHP_395_01 CHP_395 X01   2.7  5875.96 11  T-ALL       \n",
       "18 CHP_395-02_cfDNA    CHP_395_02 CHP_395 X02   1.0       NA 11  T-ALL       \n",
       "   TE_fold Pass ⋯ q0_aa q0_v q0_j q0_aav q0_vj q1_aa      q1_v      q1_j     \n",
       "1  0       NA   ⋯   2    2    2     2     2.0    1.995557  1.995557  1.995557\n",
       "2  0       NA   ⋯   4    3    4     4     3.5    3.770348  2.579926  3.770348\n",
       "3  0       NA   ⋯ 295   45   14   295    29.5  165.892624 31.274714 10.258785\n",
       "4  1.8     NA   ⋯  12   11    7    12     9.0    2.223439  1.582499  1.911728\n",
       "5  0       NA   ⋯  17   13    9    17    11.0    6.286238  5.996816  4.215088\n",
       "6  0       NA   ⋯ 647   55   14   648    34.5  510.397557 38.308064 10.809847\n",
       "7  0       NA   ⋯  17   13    9    17    11.0    6.336502  6.283103  3.798558\n",
       "8  0.6     NA   ⋯  33   21    9    33    15.0   19.821220 13.584535  6.235886\n",
       "9  0.5     NA   ⋯  66   32   13    66    22.5   30.624927 16.204228  9.052041\n",
       "10 0.5     NA   ⋯ 357   50   14   357    32.0  181.991052 31.517568 10.122672\n",
       "11 0.8     NA   ⋯  10    5    7    10     6.0    1.177048  1.024859  1.174655\n",
       "12 0.8     NA   ⋯ 358   48   14   358    31.0    6.703836  3.327969  2.942895\n",
       "13 4.9     NA   ⋯   5    5    3     5     4.0    2.195205  2.195205  2.068134\n",
       "14 4.9     NA   ⋯ 855   54   14   855    34.0  605.462963 35.009446 11.946509\n",
       "15 x       NA   ⋯  11    8    5    11     6.5    6.018764  4.383900  4.218440\n",
       "16 x       NA   ⋯  91   40   14    91    27.0   64.240499 23.441863 11.512896\n",
       "17 2.7     NA   ⋯   4    2    3     4     2.5    1.214059  1.000702  1.213211\n",
       "18 1       NA   ⋯  26   17    9    26    13.0    7.496205  6.662522  5.091726\n",
       "   q1_aav     q1_vj    \n",
       "1    1.995557  1.995557\n",
       "2    3.770348  3.175137\n",
       "3  165.892624 20.766750\n",
       "4    2.223439  1.747113\n",
       "5    6.286238  5.105952\n",
       "6  510.643258 24.558955\n",
       "7    6.336502  5.040831\n",
       "8   19.821220  9.910210\n",
       "9   30.624927 12.628134\n",
       "10 181.991052 20.820120\n",
       "11   1.177048  1.099757\n",
       "12   6.703836  3.135432\n",
       "13   2.195205  2.131669\n",
       "14 605.462963 23.477977\n",
       "15   6.018764  4.301170\n",
       "16  64.240499 17.477379\n",
       "17   1.214059  1.106957\n",
       "18   7.496205  5.877124"
      ]
     },
     "metadata": {},
     "output_type": "display_data"
    }
   ],
   "source": [
    "int_load$meta[ int_load$meta$Disease_type == \"T-ALL\",]"
   ]
  },
  {
   "cell_type": "markdown",
   "metadata": {},
   "source": [
    "# T-ALL patients"
   ]
  },
  {
   "cell_type": "markdown",
   "metadata": {},
   "source": [
    "### 375"
   ]
  },
  {
   "cell_type": "code",
   "execution_count": 47,
   "metadata": {},
   "outputs": [],
   "source": [
    "chp375 <- file_list[grepl(\"375\", file_list)]"
   ]
  },
  {
   "cell_type": "code",
   "execution_count": 48,
   "metadata": {},
   "outputs": [
    {
     "data": {
      "text/html": [
       "<style>\n",
       ".list-inline {list-style: none; margin:0; padding: 0}\n",
       ".list-inline>li {display: inline-block}\n",
       ".list-inline>li:not(:last-child)::after {content: \"\\00b7\"; padding: 0 .5ex}\n",
       "</style>\n",
       "<ol class=list-inline><li>'CLONES_TRBCHP_375-01-PBMC-DNA.txt'</li><li>'CLONES_TRBCHP_375-02_cfDNA.txt'</li><li>'CLONES_TRBCHP_375-02-PBMC-DNA.txt'</li><li>'CLONES_TRBCHP_375-03_cfDNA.txt'</li><li>'CLONES_TRBCHP_375-04_cfDNA.txt'</li><li>'CLONES_TRBCHP_375-05_cfDNA.txt'</li><li>'CLONES_TRBCHP_375-05_PBMC_DNA.txt'</li></ol>\n"
      ],
      "text/latex": [
       "\\begin{enumerate*}\n",
       "\\item 'CLONES\\_TRBCHP\\_375-01-PBMC-DNA.txt'\n",
       "\\item 'CLONES\\_TRBCHP\\_375-02\\_cfDNA.txt'\n",
       "\\item 'CLONES\\_TRBCHP\\_375-02-PBMC-DNA.txt'\n",
       "\\item 'CLONES\\_TRBCHP\\_375-03\\_cfDNA.txt'\n",
       "\\item 'CLONES\\_TRBCHP\\_375-04\\_cfDNA.txt'\n",
       "\\item 'CLONES\\_TRBCHP\\_375-05\\_cfDNA.txt'\n",
       "\\item 'CLONES\\_TRBCHP\\_375-05\\_PBMC\\_DNA.txt'\n",
       "\\end{enumerate*}\n"
      ],
      "text/markdown": [
       "1. 'CLONES_TRBCHP_375-01-PBMC-DNA.txt'\n",
       "2. 'CLONES_TRBCHP_375-02_cfDNA.txt'\n",
       "3. 'CLONES_TRBCHP_375-02-PBMC-DNA.txt'\n",
       "4. 'CLONES_TRBCHP_375-03_cfDNA.txt'\n",
       "5. 'CLONES_TRBCHP_375-04_cfDNA.txt'\n",
       "6. 'CLONES_TRBCHP_375-05_cfDNA.txt'\n",
       "7. 'CLONES_TRBCHP_375-05_PBMC_DNA.txt'\n",
       "\n",
       "\n"
      ],
      "text/plain": [
       "[1] \"CLONES_TRBCHP_375-01-PBMC-DNA.txt\" \"CLONES_TRBCHP_375-02_cfDNA.txt\"   \n",
       "[3] \"CLONES_TRBCHP_375-02-PBMC-DNA.txt\" \"CLONES_TRBCHP_375-03_cfDNA.txt\"   \n",
       "[5] \"CLONES_TRBCHP_375-04_cfDNA.txt\"    \"CLONES_TRBCHP_375-05_cfDNA.txt\"   \n",
       "[7] \"CLONES_TRBCHP_375-05_PBMC_DNA.txt\""
      ]
     },
     "metadata": {},
     "output_type": "display_data"
    }
   ],
   "source": [
    "chp375"
   ]
  },
  {
   "cell_type": "code",
   "execution_count": 49,
   "metadata": {},
   "outputs": [
    {
     "name": "stderr",
     "output_type": "stream",
     "text": [
      "my files:\n",
      "\n"
     ]
    },
    {
     "name": "stdout",
     "output_type": "stream",
     "text": [
      "[1] \"CLONES_TRBCHP_375-01-PBMC-DNA.txt\" \"CLONES_TRBCHP_375-02_cfDNA.txt\"   \n",
      "[3] \"CLONES_TRBCHP_375-02-PBMC-DNA.txt\" \"CLONES_TRBCHP_375-03_cfDNA.txt\"   \n",
      "[5] \"CLONES_TRBCHP_375-04_cfDNA.txt\"    \"CLONES_TRBCHP_375-05_cfDNA.txt\"   \n",
      "[7] \"CLONES_TRBCHP_375-05_PBMC_DNA.txt\"\n"
     ]
    },
    {
     "name": "stderr",
     "output_type": "stream",
     "text": [
      "Total recovered clonotypes:\n",
      "\n"
     ]
    },
    {
     "name": "stdout",
     "output_type": "stream",
     "text": [
      "[1] 1168\n"
     ]
    },
    {
     "name": "stderr",
     "output_type": "stream",
     "text": [
      "Total out-of-frame clonotypes:\n",
      "\n"
     ]
    },
    {
     "name": "stdout",
     "output_type": "stream",
     "text": [
      "[1] 252\n"
     ]
    },
    {
     "name": "stderr",
     "output_type": "stream",
     "text": [
      "Total clonotypes with stop codon:\n",
      "\n"
     ]
    },
    {
     "name": "stdout",
     "output_type": "stream",
     "text": [
      "[1] 28\n"
     ]
    },
    {
     "name": "stderr",
     "output_type": "stream",
     "text": [
      "Total productive clonotypes:\n",
      "\n"
     ]
    },
    {
     "name": "stdout",
     "output_type": "stream",
     "text": [
      "[1] 888\n"
     ]
    },
    {
     "name": "stderr",
     "output_type": "stream",
     "text": [
      "Output contains in_frame clonotypes only\n",
      "\n"
     ]
    }
   ],
   "source": [
    "cdr3df <- cdr3_dataframe.fx(h4hpath, \"TRB\", chp375, \"inframe\")"
   ]
  },
  {
   "cell_type": "code",
   "execution_count": 54,
   "metadata": {},
   "outputs": [],
   "source": [
    "compldfle <- cdr3df"
   ]
  },
  {
   "cell_type": "code",
   "execution_count": 56,
   "metadata": {},
   "outputs": [
    {
     "name": "stderr",
     "output_type": "stream",
     "text": [
      "list of samples to track clones: \n",
      "\n"
     ]
    },
    {
     "name": "stdout",
     "output_type": "stream",
     "text": [
      "[1] \"CHP_375-01-PBMC-DNA\" \"CHP_375-02_cfDNA\"    \"CHP_375-02-PBMC-DNA\"\n",
      "[4] \"CHP_375-03_cfDNA\"    \"CHP_375-04_cfDNA\"    \"CHP_375-05_cfDNA\"   \n",
      "[7] \"CHP_375-05_PBMC_DNA\"\n"
     ]
    },
    {
     "name": "stderr",
     "output_type": "stream",
     "text": [
      "Total number of recurring clonotypes: \n",
      "\n"
     ]
    },
    {
     "name": "stdout",
     "output_type": "stream",
     "text": [
      "[1] 7\n"
     ]
    },
    {
     "name": "stderr",
     "output_type": "stream",
     "text": [
      "these are what we color: \n",
      "\n"
     ]
    },
    {
     "name": "stdout",
     "output_type": "stream",
     "text": [
      "TGTGCCAGCAGTTACGAGTCTCTTGGGGAACGACTCTATGGCTACACCTTC \n",
      "                                          \"#D5D16C\" \n",
      "      TGTGCCAGCAGTGAACTAGCGGGGGGGTACAATGAGCAGTTCTTC \n",
      "                                          \"#D67072\" \n",
      "TGTGCCAGCAGTCCCGAGTTTCAGGGCGTCTCTGGAAACACCATATATTTT \n",
      "                                          \"#B09ED4\" \n",
      "   TGTGCCAGCAGCTCGGGACTAGCGGGGGGGCAAGAGACCCAGTACTTC \n",
      "                                          \"#85E275\" \n",
      "         TGTGCCAGCAGCTTTGCCCCAGGGGTAAGCGAGCAGTACTTC \n",
      "                                          \"#D3CDC1\" \n",
      "            TGCAGTGCGTCCCAGGAGAGAGCCTATGGCTACACCTTC \n",
      "                                          \"#7FD6C8\" \n",
      "      TGTGCCAGCAGCCACAGGGGGTGGGTCAATCAGCCCCAGCATTTT \n",
      "                                          \"#BA57D2\" \n"
     ]
    }
   ],
   "source": [
    "message(\"list of samples to track clones: \")\n",
    "    mysamples <- unique(compldfle$samplename)\n",
    "    print(mysamples)\n",
    "    CDR3_fraction <- compldfle[, c(\"samplename\", \"nSeqCDR3\", \n",
    "        \"cloneFraction\", \"cloneCount\")]\n",
    "    CDR3_fraction <- CDR3_fraction[CDR3_fraction$cloneFraction > \n",
    "        0, ]\n",
    "    recurring <- unique(CDR3_fraction$nSeqCDR3[duplicated(CDR3_fraction$nSeqCDR3)])\n",
    "    notrecurring <- CDR3_fraction$nSeqCDR3[!CDR3_fraction$nSeqCDR3 %in% \n",
    "        recurring]\n",
    "    message(\"Total number of recurring clonotypes: \")\n",
    "    print(length(recurring))\n",
    "    if (length(recurring) == 0) {\n",
    "        mydummy_df <- as.data.frame(matrix(ncol = 4, nrow = length(mysamples)))\n",
    "        colnames(mydummy_df) <- colnames(CDR3_fraction)\n",
    "        mydummy_df$samplename <- mysamples\n",
    "        mydummy_df$nSeqCDR3 <- \"XXXXX\"\n",
    "        mydummy_df$cloneFraction <- 0\n",
    "        mydummy_df$cloneCount <- 0\n",
    "        CDR3_fraction <- rbind(CDR3_fraction, mydummy_df)\n",
    "        recurring <- \"XXXXX\"\n",
    "    }\n",
    "    if (length(recurring) > 50) {\n",
    "        recurring_df <- CDR3_fraction[CDR3_fraction$nSeqCDR3 %in% \n",
    "            recurring, ]\n",
    "        recurringcdr3_ordered <- unique(recurring_df$nSeqCDR3[order(recurring_df$cloneCount, \n",
    "            decreasing = TRUE)])\n",
    "        message(\"Total number of recurring clonotypes > 50 \")\n",
    "        message(\"Tracking top 10 recurring clonotypes \")\n",
    "        myColors <- distinctColorPalette(10)\n",
    "        myColors <- c(myColors, rep(\"white\", length(recurring) - \n",
    "            10), rep(\"white\", length(notrecurring)))\n",
    "        names(myColors) <- c(recurringcdr3_ordered, notrecurring)\n",
    "        message(\"these are what we color: \")\n",
    "        print(myColors[myColors != \"white\"])\n",
    "    } else {\n",
    "        myColors <- distinctColorPalette(length(recurring))\n",
    "        myColors <- c(myColors, rep(\"white\", length(notrecurring)))\n",
    "        names(myColors) <- c(recurring, notrecurring)\n",
    "        myColors[names(myColors) == \"XXXXX\"] <- \"white\"\n",
    "        message(\"these are what we color: \")\n",
    "        print(myColors[myColors != \"white\"])\n",
    "    }\n",
    "    for (c in recurring) {\n",
    "        tmp <- CDR3_fraction[CDR3_fraction$nSeqCDR3 == c, ]\n",
    "        nonexsiting <- mysamples[!mysamples %in% tmp$samplename]\n",
    "        if (length(nonexsiting) > 0) {\n",
    "            newentries <- data.frame(samplename = nonexsiting, \n",
    "                nSeqCDR3 = c, cloneFraction = 0, cloneCount = 0)\n",
    "            CDR3_fraction <- rbind(CDR3_fraction, newentries)\n",
    "        }\n",
    "    }\n",
    "    "
   ]
  },
  {
   "cell_type": "code",
   "execution_count": 78,
   "metadata": {},
   "outputs": [
    {
     "data": {
      "text/html": [
       "<table class=\"dataframe\">\n",
       "<caption>A data.frame: 6 × 4</caption>\n",
       "<thead>\n",
       "\t<tr><th></th><th scope=col>samplename</th><th scope=col>nSeqCDR3</th><th scope=col>cloneFraction</th><th scope=col>cloneCount</th></tr>\n",
       "\t<tr><th></th><th scope=col>&lt;chr&gt;</th><th scope=col>&lt;chr&gt;</th><th scope=col>&lt;dbl&gt;</th><th scope=col>&lt;dbl&gt;</th></tr>\n",
       "</thead>\n",
       "<tbody>\n",
       "\t<tr><th scope=row>3</th><td>CHP_375-01-PBMC-DNA</td><td>TGTGCCAGCAGTGAACTAGCGGGGGGGTACAATGAGCAGTTCTTC   </td><td>0.2162162</td><td>8</td></tr>\n",
       "\t<tr><th scope=row>5</th><td>CHP_375-01-PBMC-DNA</td><td>TGTGCCAGTAGTCTTCACGGGGACAGGGGATTTTATGGCTACACCTTC</td><td>0.1351351</td><td>5</td></tr>\n",
       "\t<tr><th scope=row>6</th><td>CHP_375-01-PBMC-DNA</td><td>TGTGCCAGCAGTGACTCTAGCGGGGGGGCCAATGAGCAGTTCTTC   </td><td>0.1351351</td><td>5</td></tr>\n",
       "\t<tr><th scope=row>7</th><td>CHP_375-01-PBMC-DNA</td><td>TGTGCCAGCAGCCACAGGGGGTGGGTCAATCAGCCCCAGCATTTT   </td><td>0.1351351</td><td>5</td></tr>\n",
       "\t<tr><th scope=row>8</th><td>CHP_375-01-PBMC-DNA</td><td>TGTGCCAGCAGCTTAGGGGGGTACCAAGAGACCCAGTACTTC      </td><td>0.1351351</td><td>5</td></tr>\n",
       "\t<tr><th scope=row>9</th><td>CHP_375-01-PBMC-DNA</td><td>TGTGCCAGCAATCCGGGGCCGGGGGTTAACACTGAAGCTTTCTTT   </td><td>0.1081081</td><td>4</td></tr>\n",
       "</tbody>\n",
       "</table>\n"
      ],
      "text/latex": [
       "A data.frame: 6 × 4\n",
       "\\begin{tabular}{r|llll}\n",
       "  & samplename & nSeqCDR3 & cloneFraction & cloneCount\\\\\n",
       "  & <chr> & <chr> & <dbl> & <dbl>\\\\\n",
       "\\hline\n",
       "\t3 & CHP\\_375-01-PBMC-DNA & TGTGCCAGCAGTGAACTAGCGGGGGGGTACAATGAGCAGTTCTTC    & 0.2162162 & 8\\\\\n",
       "\t5 & CHP\\_375-01-PBMC-DNA & TGTGCCAGTAGTCTTCACGGGGACAGGGGATTTTATGGCTACACCTTC & 0.1351351 & 5\\\\\n",
       "\t6 & CHP\\_375-01-PBMC-DNA & TGTGCCAGCAGTGACTCTAGCGGGGGGGCCAATGAGCAGTTCTTC    & 0.1351351 & 5\\\\\n",
       "\t7 & CHP\\_375-01-PBMC-DNA & TGTGCCAGCAGCCACAGGGGGTGGGTCAATCAGCCCCAGCATTTT    & 0.1351351 & 5\\\\\n",
       "\t8 & CHP\\_375-01-PBMC-DNA & TGTGCCAGCAGCTTAGGGGGGTACCAAGAGACCCAGTACTTC       & 0.1351351 & 5\\\\\n",
       "\t9 & CHP\\_375-01-PBMC-DNA & TGTGCCAGCAATCCGGGGCCGGGGGTTAACACTGAAGCTTTCTTT    & 0.1081081 & 4\\\\\n",
       "\\end{tabular}\n"
      ],
      "text/markdown": [
       "\n",
       "A data.frame: 6 × 4\n",
       "\n",
       "| <!--/--> | samplename &lt;chr&gt; | nSeqCDR3 &lt;chr&gt; | cloneFraction &lt;dbl&gt; | cloneCount &lt;dbl&gt; |\n",
       "|---|---|---|---|---|\n",
       "| 3 | CHP_375-01-PBMC-DNA | TGTGCCAGCAGTGAACTAGCGGGGGGGTACAATGAGCAGTTCTTC    | 0.2162162 | 8 |\n",
       "| 5 | CHP_375-01-PBMC-DNA | TGTGCCAGTAGTCTTCACGGGGACAGGGGATTTTATGGCTACACCTTC | 0.1351351 | 5 |\n",
       "| 6 | CHP_375-01-PBMC-DNA | TGTGCCAGCAGTGACTCTAGCGGGGGGGCCAATGAGCAGTTCTTC    | 0.1351351 | 5 |\n",
       "| 7 | CHP_375-01-PBMC-DNA | TGTGCCAGCAGCCACAGGGGGTGGGTCAATCAGCCCCAGCATTTT    | 0.1351351 | 5 |\n",
       "| 8 | CHP_375-01-PBMC-DNA | TGTGCCAGCAGCTTAGGGGGGTACCAAGAGACCCAGTACTTC       | 0.1351351 | 5 |\n",
       "| 9 | CHP_375-01-PBMC-DNA | TGTGCCAGCAATCCGGGGCCGGGGGTTAACACTGAAGCTTTCTTT    | 0.1081081 | 4 |\n",
       "\n"
      ],
      "text/plain": [
       "  samplename          nSeqCDR3                                        \n",
       "3 CHP_375-01-PBMC-DNA TGTGCCAGCAGTGAACTAGCGGGGGGGTACAATGAGCAGTTCTTC   \n",
       "5 CHP_375-01-PBMC-DNA TGTGCCAGTAGTCTTCACGGGGACAGGGGATTTTATGGCTACACCTTC\n",
       "6 CHP_375-01-PBMC-DNA TGTGCCAGCAGTGACTCTAGCGGGGGGGCCAATGAGCAGTTCTTC   \n",
       "7 CHP_375-01-PBMC-DNA TGTGCCAGCAGCCACAGGGGGTGGGTCAATCAGCCCCAGCATTTT   \n",
       "8 CHP_375-01-PBMC-DNA TGTGCCAGCAGCTTAGGGGGGTACCAAGAGACCCAGTACTTC      \n",
       "9 CHP_375-01-PBMC-DNA TGTGCCAGCAATCCGGGGCCGGGGGTTAACACTGAAGCTTTCTTT   \n",
       "  cloneFraction cloneCount\n",
       "3 0.2162162     8         \n",
       "5 0.1351351     5         \n",
       "6 0.1351351     5         \n",
       "7 0.1351351     5         \n",
       "8 0.1351351     5         \n",
       "9 0.1081081     4         "
      ]
     },
     "metadata": {},
     "output_type": "display_data"
    }
   ],
   "source": [
    "head(CDR3_fraction)"
   ]
  },
  {
   "cell_type": "code",
   "execution_count": 79,
   "metadata": {},
   "outputs": [],
   "source": [
    "p <- ggplot(CDR3_fraction, aes(x = samplename, y = cloneCount, \n",
    "        fill = nSeqCDR3, stratum = nSeqCDR3, alluvium = nSeqCDR3, \n",
    "        label = nSeqCDR3))\n",
    "    myp <- p + geom_alluvium(decreasing = FALSE) + geom_stratum(decreasing = FALSE, \n",
    "        stat = \"alluvium\") + scale_fill_manual(breaks = names(myColors[myColors != \n",
    "        \"white\"]), values = myColors) + theme(axis.title.y = element_text(size = 50), \n",
    "        axis.title.x = element_blank(), axis.line = element_line(color = \"black\"), \n",
    "        axis.text = element_text(size = 50), axis.text.x = element_text(angle = 45, \n",
    "            hjust = 1), plot.title = element_text(size = 50, \n",
    "            hjust = 0.5)) + theme(panel.grid.major = element_blank(), \n",
    "        panel.grid.minor = element_blank(), panel.background = element_rect(fill = \"transparent\", \n",
    "            colour = NA), legend.key = element_rect(fill = \"white\", \n",
    "            colour = \"white\"), legend.position = \"none\", plot.margin = unit(c(0.2, \n",
    "            0, 0, 0), \"cm\")) "
   ]
  },
  {
   "cell_type": "code",
   "execution_count": 50,
   "metadata": {},
   "outputs": [
    {
     "name": "stderr",
     "output_type": "stream",
     "text": [
      "list of samples to track clones: \n",
      "\n"
     ]
    },
    {
     "name": "stdout",
     "output_type": "stream",
     "text": [
      "[1] \"CHP_375-01-PBMC-DNA\" \"CHP_375-02_cfDNA\"    \"CHP_375-02-PBMC-DNA\"\n",
      "[4] \"CHP_375-03_cfDNA\"    \"CHP_375-04_cfDNA\"    \"CHP_375-05_cfDNA\"   \n",
      "[7] \"CHP_375-05_PBMC_DNA\"\n"
     ]
    },
    {
     "name": "stderr",
     "output_type": "stream",
     "text": [
      "Total number of recurring clonotypes: \n",
      "\n"
     ]
    },
    {
     "name": "stdout",
     "output_type": "stream",
     "text": [
      "[1] 7\n"
     ]
    },
    {
     "name": "stderr",
     "output_type": "stream",
     "text": [
      "these are what we color: \n",
      "\n"
     ]
    },
    {
     "name": "stdout",
     "output_type": "stream",
     "text": [
      "TGTGCCAGCAGTTACGAGTCTCTTGGGGAACGACTCTATGGCTACACCTTC \n",
      "                                          \"#ACCFD2\" \n",
      "      TGTGCCAGCAGTGAACTAGCGGGGGGGTACAATGAGCAGTTCTTC \n",
      "                                          \"#8BDFAA\" \n",
      "TGTGCCAGCAGTCCCGAGTTTCAGGGCGTCTCTGGAAACACCATATATTTT \n",
      "                                          \"#DBAD78\" \n",
      "   TGTGCCAGCAGCTCGGGACTAGCGGGGGGGCAAGAGACCCAGTACTTC \n",
      "                                          \"#DA6794\" \n",
      "         TGTGCCAGCAGCTTTGCCCCAGGGGTAAGCGAGCAGTACTTC \n",
      "                                          \"#B454D7\" \n",
      "            TGCAGTGCGTCCCAGGAGAGAGCCTATGGCTACACCTTC \n",
      "                                          \"#B39CD3\" \n",
      "      TGTGCCAGCAGCCACAGGGGGTGGGTCAATCAGCCCCAGCATTTT \n",
      "                                          \"#B5E25E\" \n"
     ]
    },
    {
     "data": {
      "text/html": [
       "<strong>pdf:</strong> 2"
      ],
      "text/latex": [
       "\\textbf{pdf:} 2"
      ],
      "text/markdown": [
       "**pdf:** 2"
      ],
      "text/plain": [
       "pdf \n",
       "  2 "
      ]
     },
     "metadata": {},
     "output_type": "display_data"
    }
   ],
   "source": [
    "plot_clonetracks.fx(cdr3df, plotpath, \"TRB\", \"cloneFraction\", 0, \"T-ALL (PBMC)\")"
   ]
  },
  {
   "cell_type": "code",
   "execution_count": 15,
   "metadata": {},
   "outputs": [],
   "source": [
    "cfdnafile <- file_list[grepl(\"375\", file_list)]"
   ]
  },
  {
   "cell_type": "code",
   "execution_count": 16,
   "metadata": {},
   "outputs": [],
   "source": [
    "cfdnafile <- cfdnafile[grepl(\"cfDNA\", cfdnafile)]"
   ]
  },
  {
   "cell_type": "code",
   "execution_count": 17,
   "metadata": {},
   "outputs": [
    {
     "data": {
      "text/html": [
       "<style>\n",
       ".list-inline {list-style: none; margin:0; padding: 0}\n",
       ".list-inline>li {display: inline-block}\n",
       ".list-inline>li:not(:last-child)::after {content: \"\\00b7\"; padding: 0 .5ex}\n",
       "</style>\n",
       "<ol class=list-inline><li>'batch10_cfDNA_13Jul2020/mixcr/clones/CLONES_TRBCHP_375-02_cfDNA.txt'</li><li>'batch11_cfDNA_11Sep2020/mixcr/clones/CLONES_TRBCHP_375-04_cfDNA.txt'</li><li>'batch13_cfDNA_11Sep2020/mixcr/clones/CLONES_TRBCHP_375-03_cfDNA.txt'</li><li>'batch13_cfDNA_11Sep2020/mixcr/clones/CLONES_TRBCHP_375-05_cfDNA.txt'</li></ol>\n"
      ],
      "text/latex": [
       "\\begin{enumerate*}\n",
       "\\item 'batch10\\_cfDNA\\_13Jul2020/mixcr/clones/CLONES\\_TRBCHP\\_375-02\\_cfDNA.txt'\n",
       "\\item 'batch11\\_cfDNA\\_11Sep2020/mixcr/clones/CLONES\\_TRBCHP\\_375-04\\_cfDNA.txt'\n",
       "\\item 'batch13\\_cfDNA\\_11Sep2020/mixcr/clones/CLONES\\_TRBCHP\\_375-03\\_cfDNA.txt'\n",
       "\\item 'batch13\\_cfDNA\\_11Sep2020/mixcr/clones/CLONES\\_TRBCHP\\_375-05\\_cfDNA.txt'\n",
       "\\end{enumerate*}\n"
      ],
      "text/markdown": [
       "1. 'batch10_cfDNA_13Jul2020/mixcr/clones/CLONES_TRBCHP_375-02_cfDNA.txt'\n",
       "2. 'batch11_cfDNA_11Sep2020/mixcr/clones/CLONES_TRBCHP_375-04_cfDNA.txt'\n",
       "3. 'batch13_cfDNA_11Sep2020/mixcr/clones/CLONES_TRBCHP_375-03_cfDNA.txt'\n",
       "4. 'batch13_cfDNA_11Sep2020/mixcr/clones/CLONES_TRBCHP_375-05_cfDNA.txt'\n",
       "\n",
       "\n"
      ],
      "text/plain": [
       "[1] \"batch10_cfDNA_13Jul2020/mixcr/clones/CLONES_TRBCHP_375-02_cfDNA.txt\"\n",
       "[2] \"batch11_cfDNA_11Sep2020/mixcr/clones/CLONES_TRBCHP_375-04_cfDNA.txt\"\n",
       "[3] \"batch13_cfDNA_11Sep2020/mixcr/clones/CLONES_TRBCHP_375-03_cfDNA.txt\"\n",
       "[4] \"batch13_cfDNA_11Sep2020/mixcr/clones/CLONES_TRBCHP_375-05_cfDNA.txt\""
      ]
     },
     "metadata": {},
     "output_type": "display_data"
    }
   ],
   "source": [
    "cfdnafile"
   ]
  },
  {
   "cell_type": "code",
   "execution_count": 18,
   "metadata": {},
   "outputs": [
    {
     "name": "stderr",
     "output_type": "stream",
     "text": [
      "my files:\n",
      "\n"
     ]
    },
    {
     "name": "stdout",
     "output_type": "stream",
     "text": [
      "[1] \"batch10_cfDNA_13Jul2020/mixcr/clones/CLONES_TRBCHP_375-02_cfDNA.txt\"\n",
      "[2] \"batch11_cfDNA_11Sep2020/mixcr/clones/CLONES_TRBCHP_375-04_cfDNA.txt\"\n",
      "[3] \"batch13_cfDNA_11Sep2020/mixcr/clones/CLONES_TRBCHP_375-03_cfDNA.txt\"\n",
      "[4] \"batch13_cfDNA_11Sep2020/mixcr/clones/CLONES_TRBCHP_375-05_cfDNA.txt\"\n"
     ]
    },
    {
     "name": "stderr",
     "output_type": "stream",
     "text": [
      "Total recovered clonotypes:\n",
      "\n"
     ]
    },
    {
     "name": "stdout",
     "output_type": "stream",
     "text": [
      "[1] 138\n"
     ]
    },
    {
     "name": "stderr",
     "output_type": "stream",
     "text": [
      "Total out-of-frame clonotypes:\n",
      "\n"
     ]
    },
    {
     "name": "stdout",
     "output_type": "stream",
     "text": [
      "[1] 33\n"
     ]
    },
    {
     "name": "stderr",
     "output_type": "stream",
     "text": [
      "Total clonotypes with stop codon:\n",
      "\n"
     ]
    },
    {
     "name": "stdout",
     "output_type": "stream",
     "text": [
      "[1] 4\n"
     ]
    },
    {
     "name": "stderr",
     "output_type": "stream",
     "text": [
      "Total productive clonotypes:\n",
      "\n"
     ]
    },
    {
     "name": "stdout",
     "output_type": "stream",
     "text": [
      "[1] 101\n"
     ]
    },
    {
     "name": "stderr",
     "output_type": "stream",
     "text": [
      "Output contains in_frame clonotypes only\n",
      "\n"
     ]
    }
   ],
   "source": [
    "cdr3df <- cdr3_dataframe.fx(h4hpath, \"TRB\", cfdnafile, \"inframe\")"
   ]
  },
  {
   "cell_type": "code",
   "execution_count": 19,
   "metadata": {},
   "outputs": [],
   "source": [
    "cdr3df$samplename <- gsub(\"_cfDNA.txt\", \"\", cdr3df$samplename)"
   ]
  },
  {
   "cell_type": "code",
   "execution_count": 20,
   "metadata": {},
   "outputs": [
    {
     "name": "stderr",
     "output_type": "stream",
     "text": [
      "list of samples to track clones: \n",
      "\n"
     ]
    },
    {
     "name": "stdout",
     "output_type": "stream",
     "text": [
      "[1] \"CHP_375-02\" \"CHP_375-04\" \"CHP_375-03\" \"CHP_375-05\"\n"
     ]
    },
    {
     "name": "stderr",
     "output_type": "stream",
     "text": [
      "Total number of recurring clonotypes: \n",
      "\n"
     ]
    },
    {
     "name": "stdout",
     "output_type": "stream",
     "text": [
      "[1] 0\n"
     ]
    },
    {
     "name": "stderr",
     "output_type": "stream",
     "text": [
      "these are what we color: \n",
      "\n"
     ]
    },
    {
     "name": "stdout",
     "output_type": "stream",
     "text": [
      "named character(0)\n"
     ]
    },
    {
     "data": {
      "text/html": [
       "<strong>pdf:</strong> 2"
      ],
      "text/latex": [
       "\\textbf{pdf:} 2"
      ],
      "text/markdown": [
       "**pdf:** 2"
      ],
      "text/plain": [
       "pdf \n",
       "  2 "
      ]
     },
     "metadata": {},
     "output_type": "display_data"
    }
   ],
   "source": [
    "plot_clonetracks.fx(cdr3df, plotpath, \"TRB\", \"cloneFraction\", 0, \"T-ALL (cfDNA)\")"
   ]
  },
  {
   "cell_type": "code",
   "execution_count": null,
   "metadata": {},
   "outputs": [],
   "source": []
  },
  {
   "cell_type": "markdown",
   "metadata": {},
   "source": [
    "### 387"
   ]
  },
  {
   "cell_type": "code",
   "execution_count": 21,
   "metadata": {},
   "outputs": [],
   "source": [
    "pbmcfile <- file_list[grepl(\"387\", file_list)]"
   ]
  },
  {
   "cell_type": "code",
   "execution_count": 22,
   "metadata": {},
   "outputs": [],
   "source": [
    "pbmcfile <- pbmcfile[grepl(\"PBMC\", pbmcfile)]"
   ]
  },
  {
   "cell_type": "code",
   "execution_count": 23,
   "metadata": {},
   "outputs": [
    {
     "data": {
      "text/html": [
       "<style>\n",
       ".list-inline {list-style: none; margin:0; padding: 0}\n",
       ".list-inline>li {display: inline-block}\n",
       ".list-inline>li:not(:last-child)::after {content: \"\\00b7\"; padding: 0 .5ex}\n",
       "</style>\n",
       "<ol class=list-inline><li>'batch11_23Apr2020/mixcr/clones/CLONES_TRBCHP_387-02_PBMC_DNA.txt'</li><li>'batch11_23Apr2020/mixcr/clones/CLONES_TRBCHP_387-03_PBMC_DNA.txt'</li><li>'batch8_14Jan2020/mixcr/clones/CLONES_TRBCHP_387-01-PBMC-DNA.txt'</li></ol>\n"
      ],
      "text/latex": [
       "\\begin{enumerate*}\n",
       "\\item 'batch11\\_23Apr2020/mixcr/clones/CLONES\\_TRBCHP\\_387-02\\_PBMC\\_DNA.txt'\n",
       "\\item 'batch11\\_23Apr2020/mixcr/clones/CLONES\\_TRBCHP\\_387-03\\_PBMC\\_DNA.txt'\n",
       "\\item 'batch8\\_14Jan2020/mixcr/clones/CLONES\\_TRBCHP\\_387-01-PBMC-DNA.txt'\n",
       "\\end{enumerate*}\n"
      ],
      "text/markdown": [
       "1. 'batch11_23Apr2020/mixcr/clones/CLONES_TRBCHP_387-02_PBMC_DNA.txt'\n",
       "2. 'batch11_23Apr2020/mixcr/clones/CLONES_TRBCHP_387-03_PBMC_DNA.txt'\n",
       "3. 'batch8_14Jan2020/mixcr/clones/CLONES_TRBCHP_387-01-PBMC-DNA.txt'\n",
       "\n",
       "\n"
      ],
      "text/plain": [
       "[1] \"batch11_23Apr2020/mixcr/clones/CLONES_TRBCHP_387-02_PBMC_DNA.txt\"\n",
       "[2] \"batch11_23Apr2020/mixcr/clones/CLONES_TRBCHP_387-03_PBMC_DNA.txt\"\n",
       "[3] \"batch8_14Jan2020/mixcr/clones/CLONES_TRBCHP_387-01-PBMC-DNA.txt\" "
      ]
     },
     "metadata": {},
     "output_type": "display_data"
    }
   ],
   "source": [
    "pbmcfile"
   ]
  },
  {
   "cell_type": "code",
   "execution_count": 24,
   "metadata": {},
   "outputs": [
    {
     "name": "stderr",
     "output_type": "stream",
     "text": [
      "my files:\n",
      "\n"
     ]
    },
    {
     "name": "stdout",
     "output_type": "stream",
     "text": [
      "[1] \"batch11_23Apr2020/mixcr/clones/CLONES_TRBCHP_387-02_PBMC_DNA.txt\"\n",
      "[2] \"batch11_23Apr2020/mixcr/clones/CLONES_TRBCHP_387-03_PBMC_DNA.txt\"\n",
      "[3] \"batch8_14Jan2020/mixcr/clones/CLONES_TRBCHP_387-01-PBMC-DNA.txt\" \n"
     ]
    },
    {
     "name": "stderr",
     "output_type": "stream",
     "text": [
      "Total recovered clonotypes:\n",
      "\n"
     ]
    },
    {
     "name": "stdout",
     "output_type": "stream",
     "text": [
      "[1] 1323\n"
     ]
    },
    {
     "name": "stderr",
     "output_type": "stream",
     "text": [
      "Total out-of-frame clonotypes:\n",
      "\n"
     ]
    },
    {
     "name": "stdout",
     "output_type": "stream",
     "text": [
      "[1] 334\n"
     ]
    },
    {
     "name": "stderr",
     "output_type": "stream",
     "text": [
      "Total clonotypes with stop codon:\n",
      "\n"
     ]
    },
    {
     "name": "stdout",
     "output_type": "stream",
     "text": [
      "[1] 26\n"
     ]
    },
    {
     "name": "stderr",
     "output_type": "stream",
     "text": [
      "Total productive clonotypes:\n",
      "\n"
     ]
    },
    {
     "name": "stdout",
     "output_type": "stream",
     "text": [
      "[1] 963\n"
     ]
    },
    {
     "name": "stderr",
     "output_type": "stream",
     "text": [
      "Output contains in_frame clonotypes only\n",
      "\n"
     ]
    }
   ],
   "source": [
    "cdr3df <- cdr3_dataframe.fx(h4hpath, \"TRB\", pbmcfile, \"inframe\")"
   ]
  },
  {
   "cell_type": "code",
   "execution_count": 25,
   "metadata": {},
   "outputs": [],
   "source": [
    "cdr3df$samplename <- gsub(\"_PBMC_DNA.txt\", \"\", cdr3df$samplename)\n",
    "cdr3df$samplename <- gsub(\"-PBMC-DNA.txt\", \"\", cdr3df$samplename)"
   ]
  },
  {
   "cell_type": "code",
   "execution_count": 26,
   "metadata": {},
   "outputs": [
    {
     "name": "stderr",
     "output_type": "stream",
     "text": [
      "list of samples to track clones: \n",
      "\n"
     ]
    },
    {
     "name": "stdout",
     "output_type": "stream",
     "text": [
      "[1] \"CHP_387-02\" \"CHP_387-03\" \"CHP_387-01\"\n"
     ]
    },
    {
     "name": "stderr",
     "output_type": "stream",
     "text": [
      "Total number of recurring clonotypes: \n",
      "\n"
     ]
    },
    {
     "name": "stdout",
     "output_type": "stream",
     "text": [
      "[1] 11\n"
     ]
    },
    {
     "name": "stderr",
     "output_type": "stream",
     "text": [
      "these are what we color: \n",
      "\n"
     ]
    },
    {
     "name": "stdout",
     "output_type": "stream",
     "text": [
      "            TGTGCCAGCAGCCGCAATACCCAGCCCCAGGTGGGACGGTCCAATGAGCAGTTCTTC \n",
      "                                                            \"#87E3C5\" \n",
      "                           TGTGCCAGCAGGTCTAGCGGTTCCTACAATGAGCAGTTCTTC \n",
      "                                                            \"#D86CD2\" \n",
      "                                 TGTGCCAGCAGCTTAGTAAGGGGTGAAGCTTTCTTT \n",
      "                                                            \"#8588D3\" \n",
      "               TGTGCCAGCAGCTTAATCGTCCGGGACAGAGCCATGAACACTGAAGCTTTCTTT \n",
      "                                                            \"#D78A5C\" \n",
      "                        TGTGCCAGCAGCGCAGGGGGGCAGGTCAATCAGCCCCAGCATTTT \n",
      "                                                            \"#CDD557\" \n",
      "                           TGTGCCAGCAGTTACAGCTCTGGGGCCAACGTCCTGACTTTC \n",
      "                                                            \"#79DF70\" \n",
      "                           TGTGCCAGCAGCCCGACAGGGGTATACGAAAAACTGTTTTTT \n",
      "                                                            \"#D6D6B5\" \n",
      "                           TGCGCCAGCAGGCAGCGCTTAGCCAAAAACATTCAGTACTTC \n",
      "                                                            \"#DA6793\" \n",
      "TGTGCCACCAGTGACCTCACTAGCGGGGGGTCGTCCAGCGGGGGATGGGTTTACAATGAGCAGTTCTTC \n",
      "                                                            \"#A244E1\" \n",
      "                        TGTGCCAGCAGTTCCCTCAGGGGGAGCAATCAGCCCCAGCATTTT \n",
      "                                                            \"#86BED0\" \n",
      "                           TGTGCCAGCAGTGACCTGACAGGGTTTAAGGGCTACACCTTC \n",
      "                                                            \"#D9B8D5\" \n"
     ]
    },
    {
     "data": {
      "text/html": [
       "<strong>pdf:</strong> 2"
      ],
      "text/latex": [
       "\\textbf{pdf:} 2"
      ],
      "text/markdown": [
       "**pdf:** 2"
      ],
      "text/plain": [
       "pdf \n",
       "  2 "
      ]
     },
     "metadata": {},
     "output_type": "display_data"
    }
   ],
   "source": [
    "plot_clonetracks.fx(cdr3df, plotpath, \"TRB\", \"cloneFraction\", 0, \"T-ALL (PBMC)\")"
   ]
  },
  {
   "cell_type": "code",
   "execution_count": 27,
   "metadata": {},
   "outputs": [],
   "source": [
    "cfdnafile <- file_list[grepl(\"387\", file_list)]"
   ]
  },
  {
   "cell_type": "code",
   "execution_count": 28,
   "metadata": {},
   "outputs": [],
   "source": [
    "cfdnafile <- cfdnafile[grepl(\"cfDNA\", cfdnafile)]"
   ]
  },
  {
   "cell_type": "code",
   "execution_count": 29,
   "metadata": {},
   "outputs": [
    {
     "data": {
      "text/html": [
       "<style>\n",
       ".list-inline {list-style: none; margin:0; padding: 0}\n",
       ".list-inline>li {display: inline-block}\n",
       ".list-inline>li:not(:last-child)::after {content: \"\\00b7\"; padding: 0 .5ex}\n",
       "</style>\n",
       "<ol class=list-inline><li>'batch11_cfDNA_11Sep2020/mixcr/clones/CLONES_TRBCHP_387-03_cfDNA.txt'</li><li>'batch7_cfDNA_29Jun2020/mixcr/clones/CLONES_TRBCHP_387-01_cfDNA.txt'</li><li>'remaining_batch_2_cfDNA_15April2021/mixcr/clones/CLONES_TRBCHP_387-02_cfDNA.txt'</li></ol>\n"
      ],
      "text/latex": [
       "\\begin{enumerate*}\n",
       "\\item 'batch11\\_cfDNA\\_11Sep2020/mixcr/clones/CLONES\\_TRBCHP\\_387-03\\_cfDNA.txt'\n",
       "\\item 'batch7\\_cfDNA\\_29Jun2020/mixcr/clones/CLONES\\_TRBCHP\\_387-01\\_cfDNA.txt'\n",
       "\\item 'remaining\\_batch\\_2\\_cfDNA\\_15April2021/mixcr/clones/CLONES\\_TRBCHP\\_387-02\\_cfDNA.txt'\n",
       "\\end{enumerate*}\n"
      ],
      "text/markdown": [
       "1. 'batch11_cfDNA_11Sep2020/mixcr/clones/CLONES_TRBCHP_387-03_cfDNA.txt'\n",
       "2. 'batch7_cfDNA_29Jun2020/mixcr/clones/CLONES_TRBCHP_387-01_cfDNA.txt'\n",
       "3. 'remaining_batch_2_cfDNA_15April2021/mixcr/clones/CLONES_TRBCHP_387-02_cfDNA.txt'\n",
       "\n",
       "\n"
      ],
      "text/plain": [
       "[1] \"batch11_cfDNA_11Sep2020/mixcr/clones/CLONES_TRBCHP_387-03_cfDNA.txt\"            \n",
       "[2] \"batch7_cfDNA_29Jun2020/mixcr/clones/CLONES_TRBCHP_387-01_cfDNA.txt\"             \n",
       "[3] \"remaining_batch_2_cfDNA_15April2021/mixcr/clones/CLONES_TRBCHP_387-02_cfDNA.txt\""
      ]
     },
     "metadata": {},
     "output_type": "display_data"
    }
   ],
   "source": [
    "cfdnafile"
   ]
  },
  {
   "cell_type": "code",
   "execution_count": 30,
   "metadata": {},
   "outputs": [
    {
     "name": "stderr",
     "output_type": "stream",
     "text": [
      "my files:\n",
      "\n"
     ]
    },
    {
     "name": "stdout",
     "output_type": "stream",
     "text": [
      "[1] \"batch11_cfDNA_11Sep2020/mixcr/clones/CLONES_TRBCHP_387-03_cfDNA.txt\"            \n",
      "[2] \"batch7_cfDNA_29Jun2020/mixcr/clones/CLONES_TRBCHP_387-01_cfDNA.txt\"             \n",
      "[3] \"remaining_batch_2_cfDNA_15April2021/mixcr/clones/CLONES_TRBCHP_387-02_cfDNA.txt\"\n"
     ]
    },
    {
     "name": "stderr",
     "output_type": "stream",
     "text": [
      "Total recovered clonotypes:\n",
      "\n"
     ]
    },
    {
     "name": "stdout",
     "output_type": "stream",
     "text": [
      "[1] 26\n"
     ]
    },
    {
     "name": "stderr",
     "output_type": "stream",
     "text": [
      "Total out-of-frame clonotypes:\n",
      "\n"
     ]
    },
    {
     "name": "stdout",
     "output_type": "stream",
     "text": [
      "[1] 6\n"
     ]
    },
    {
     "name": "stderr",
     "output_type": "stream",
     "text": [
      "Total clonotypes with stop codon:\n",
      "\n"
     ]
    },
    {
     "name": "stdout",
     "output_type": "stream",
     "text": [
      "[1] 1\n"
     ]
    },
    {
     "name": "stderr",
     "output_type": "stream",
     "text": [
      "Total productive clonotypes:\n",
      "\n"
     ]
    },
    {
     "name": "stdout",
     "output_type": "stream",
     "text": [
      "[1] 19\n"
     ]
    },
    {
     "name": "stderr",
     "output_type": "stream",
     "text": [
      "Output contains in_frame clonotypes only\n",
      "\n"
     ]
    }
   ],
   "source": [
    "cdr3df <- cdr3_dataframe.fx(h4hpath, \"TRB\", cfdnafile, \"inframe\")"
   ]
  },
  {
   "cell_type": "code",
   "execution_count": 31,
   "metadata": {},
   "outputs": [],
   "source": [
    "cdr3df$samplename <- gsub(\"_cfDNA.txt\", \"\", cdr3df$samplename)"
   ]
  },
  {
   "cell_type": "code",
   "execution_count": 32,
   "metadata": {},
   "outputs": [
    {
     "name": "stderr",
     "output_type": "stream",
     "text": [
      "list of samples to track clones: \n",
      "\n"
     ]
    },
    {
     "name": "stdout",
     "output_type": "stream",
     "text": [
      "[1] \"CHP_387-03\" \"CHP_387-01\" \"CHP_387-02\"\n"
     ]
    },
    {
     "name": "stderr",
     "output_type": "stream",
     "text": [
      "Total number of recurring clonotypes: \n",
      "\n"
     ]
    },
    {
     "name": "stdout",
     "output_type": "stream",
     "text": [
      "[1] 0\n"
     ]
    },
    {
     "name": "stderr",
     "output_type": "stream",
     "text": [
      "these are what we color: \n",
      "\n"
     ]
    },
    {
     "name": "stdout",
     "output_type": "stream",
     "text": [
      "named character(0)\n"
     ]
    },
    {
     "data": {
      "text/html": [
       "<strong>pdf:</strong> 2"
      ],
      "text/latex": [
       "\\textbf{pdf:} 2"
      ],
      "text/markdown": [
       "**pdf:** 2"
      ],
      "text/plain": [
       "pdf \n",
       "  2 "
      ]
     },
     "metadata": {},
     "output_type": "display_data"
    }
   ],
   "source": [
    "plot_clonetracks.fx(cdr3df, plotpath, \"TRB\", \"cloneFraction\", 0, \"T-ALL (cfDNA)\")"
   ]
  },
  {
   "cell_type": "markdown",
   "metadata": {},
   "source": [
    "### 395"
   ]
  },
  {
   "cell_type": "code",
   "execution_count": 33,
   "metadata": {},
   "outputs": [],
   "source": [
    "cfdnafile <- file_list[grepl(\"395\", file_list)]"
   ]
  },
  {
   "cell_type": "code",
   "execution_count": 34,
   "metadata": {},
   "outputs": [
    {
     "data": {
      "text/html": [
       "<style>\n",
       ".list-inline {list-style: none; margin:0; padding: 0}\n",
       ".list-inline>li {display: inline-block}\n",
       ".list-inline>li:not(:last-child)::after {content: \"\\00b7\"; padding: 0 .5ex}\n",
       "</style>\n",
       "<ol class=list-inline><li>'batch7_cfDNA_29Jun2020/mixcr/clones/CLONES_TRBCHP_395-01_cfDNA.txt'</li><li>'priority_pool2/mixcr/clones/CLONES_TRBCHP_395-02_cfDNA.txt'</li></ol>\n"
      ],
      "text/latex": [
       "\\begin{enumerate*}\n",
       "\\item 'batch7\\_cfDNA\\_29Jun2020/mixcr/clones/CLONES\\_TRBCHP\\_395-01\\_cfDNA.txt'\n",
       "\\item 'priority\\_pool2/mixcr/clones/CLONES\\_TRBCHP\\_395-02\\_cfDNA.txt'\n",
       "\\end{enumerate*}\n"
      ],
      "text/markdown": [
       "1. 'batch7_cfDNA_29Jun2020/mixcr/clones/CLONES_TRBCHP_395-01_cfDNA.txt'\n",
       "2. 'priority_pool2/mixcr/clones/CLONES_TRBCHP_395-02_cfDNA.txt'\n",
       "\n",
       "\n"
      ],
      "text/plain": [
       "[1] \"batch7_cfDNA_29Jun2020/mixcr/clones/CLONES_TRBCHP_395-01_cfDNA.txt\"\n",
       "[2] \"priority_pool2/mixcr/clones/CLONES_TRBCHP_395-02_cfDNA.txt\"        "
      ]
     },
     "metadata": {},
     "output_type": "display_data"
    }
   ],
   "source": [
    "cfdnafile"
   ]
  },
  {
   "cell_type": "code",
   "execution_count": 40,
   "metadata": {},
   "outputs": [
    {
     "ename": "ERROR",
     "evalue": "Error in cdr3_dataframe.fx(h4hpath, \"TRB\", cfdnafile, \"inframe\"): object 'cfdnafile' not found\n",
     "output_type": "error",
     "traceback": [
      "Error in cdr3_dataframe.fx(h4hpath, \"TRB\", cfdnafile, \"inframe\"): object 'cfdnafile' not found\nTraceback:\n",
      "1. cdr3_dataframe.fx(h4hpath, \"TRB\", cfdnafile, \"inframe\")"
     ]
    }
   ],
   "source": [
    "cdr3df <- cdr3_dataframe.fx(h4hpath, \"TRB\", cfdnafile, \"inframe\")"
   ]
  },
  {
   "cell_type": "code",
   "execution_count": 36,
   "metadata": {},
   "outputs": [],
   "source": [
    "cdr3df$samplename <- gsub(\"_cfDNA.txt\", \"\", cdr3df$samplename)"
   ]
  },
  {
   "cell_type": "code",
   "execution_count": 37,
   "metadata": {},
   "outputs": [
    {
     "name": "stderr",
     "output_type": "stream",
     "text": [
      "list of samples to track clones: \n",
      "\n"
     ]
    },
    {
     "name": "stdout",
     "output_type": "stream",
     "text": [
      "[1] \"CHP_395-01\" \"CHP_395-02\"\n"
     ]
    },
    {
     "name": "stderr",
     "output_type": "stream",
     "text": [
      "Total number of recurring clonotypes: \n",
      "\n"
     ]
    },
    {
     "name": "stdout",
     "output_type": "stream",
     "text": [
      "[1] 1\n"
     ]
    },
    {
     "name": "stderr",
     "output_type": "stream",
     "text": [
      "these are what we color: \n",
      "\n"
     ]
    },
    {
     "name": "stdout",
     "output_type": "stream",
     "text": [
      "TGCAGTGCTAGAGACAGGGGCCTGAACACTGAAGCTTTCTTT \n",
      "                                 \"#BDB3B1\" \n"
     ]
    },
    {
     "data": {
      "text/html": [
       "<strong>pdf:</strong> 2"
      ],
      "text/latex": [
       "\\textbf{pdf:} 2"
      ],
      "text/markdown": [
       "**pdf:** 2"
      ],
      "text/plain": [
       "pdf \n",
       "  2 "
      ]
     },
     "metadata": {},
     "output_type": "display_data"
    }
   ],
   "source": [
    "plot_clonetracks.fx(cdr3df, plotpath, \"TRB\", \"cloneFraction\", 0, \"T-ALL (cfDNA)\")"
   ]
  },
  {
   "cell_type": "markdown",
   "metadata": {},
   "source": [
    "# color clones, track GLIPH"
   ]
  },
  {
   "cell_type": "code",
   "execution_count": 4,
   "metadata": {},
   "outputs": [],
   "source": [
    "gliph <- read.table(file = \"~/Downloads/demo_cluster.txt\", sep = \",\", header = T)"
   ]
  },
  {
   "cell_type": "code",
   "execution_count": 5,
   "metadata": {},
   "outputs": [
    {
     "data": {
      "text/html": [
       "<table class=\"dataframe\">\n",
       "<caption>A data.frame: 6 × 20</caption>\n",
       "<thead>\n",
       "\t<tr><th></th><th scope=col>index</th><th scope=col>pattern</th><th scope=col>Fisher_score</th><th scope=col>number_subject</th><th scope=col>number_unique_cdr3</th><th scope=col>final_score</th><th scope=col>hla_score</th><th scope=col>vb_score</th><th scope=col>expansion_score</th><th scope=col>length_score</th><th scope=col>cluster_size_score</th><th scope=col>type</th><th scope=col>ulTcRb</th><th scope=col>TcRb</th><th scope=col>V</th><th scope=col>J</th><th scope=col>TcRa</th><th scope=col>Sample</th><th scope=col>Freq</th><th scope=col>HLA.A</th></tr>\n",
       "\t<tr><th></th><th scope=col>&lt;int&gt;</th><th scope=col>&lt;chr&gt;</th><th scope=col>&lt;dbl&gt;</th><th scope=col>&lt;int&gt;</th><th scope=col>&lt;int&gt;</th><th scope=col>&lt;dbl&gt;</th><th scope=col>&lt;dbl&gt;</th><th scope=col>&lt;dbl&gt;</th><th scope=col>&lt;dbl&gt;</th><th scope=col>&lt;dbl&gt;</th><th scope=col>&lt;dbl&gt;</th><th scope=col>&lt;chr&gt;</th><th scope=col>&lt;chr&gt;</th><th scope=col>&lt;chr&gt;</th><th scope=col>&lt;chr&gt;</th><th scope=col>&lt;chr&gt;</th><th scope=col>&lt;chr&gt;</th><th scope=col>&lt;chr&gt;</th><th scope=col>&lt;dbl&gt;</th><th scope=col>&lt;chr&gt;</th></tr>\n",
       "</thead>\n",
       "<tbody>\n",
       "\t<tr><th scope=row>1</th><td>1</td><td>SVAL</td><td>4.4e-19</td><td>10</td><td>16</td><td>5.7e-13</td><td>4e-04</td><td>0.001</td><td>0.45</td><td>0.037</td><td>8.6e-05</td><td>motif-SVAL</td><td>CASSVaLASGANVLTF</td><td>CASSVALASGANVLTF</td><td>TRBV9</td><td>TRBJ2-6</td><td>CAGAGGGGFKTIF </td><td>02/0152:MegaIL2</td><td>2</td><td>-</td></tr>\n",
       "\t<tr><th scope=row>2</th><td>1</td><td>SVAL</td><td>4.4e-19</td><td>10</td><td>16</td><td>5.7e-13</td><td>4e-04</td><td>0.001</td><td>0.45</td><td>0.037</td><td>8.6e-05</td><td>motif-SVAL</td><td>CASSValsNYGYTF  </td><td>CASSVALSNYGYTF  </td><td>TRBV9</td><td>TRBJ1-2</td><td>CAVVASGGSYIPTF</td><td>01/1013:MtbLys </td><td>2</td><td>-</td></tr>\n",
       "\t<tr><th scope=row>3</th><td>1</td><td>SVAL</td><td>4.4e-19</td><td>10</td><td>16</td><td>5.7e-13</td><td>4e-04</td><td>0.001</td><td>0.45</td><td>0.037</td><td>8.6e-05</td><td>motif-SVAL</td><td>CASSValyGQsvTF  </td><td>CASSVALYGQSVTF  </td><td>TRBV9</td><td>TRBJ1-2</td><td>CAAFSGTYKYIF  </td><td>09/0328:MtbLys </td><td>1</td><td>-</td></tr>\n",
       "\t<tr><th scope=row>4</th><td>1</td><td>SVAL</td><td>4.4e-19</td><td>10</td><td>16</td><td>5.7e-13</td><td>4e-04</td><td>0.001</td><td>0.45</td><td>0.037</td><td>8.6e-05</td><td>motif-SVAL</td><td>CASSValLAGTQYF  </td><td>CASSVALLAGTQYF  </td><td>TRBV9</td><td>TRBJ2-3</td><td>CAGPGGTSYGKLTF</td><td>09/0671:MtbLys </td><td>1</td><td>-</td></tr>\n",
       "\t<tr><th scope=row>5</th><td>1</td><td>SVAL</td><td>4.4e-19</td><td>10</td><td>16</td><td>5.7e-13</td><td>4e-04</td><td>0.001</td><td>0.45</td><td>0.037</td><td>8.6e-05</td><td>motif-SVAL</td><td>CASSValgAGGGYTF </td><td>CASSVALGAGGGYTF </td><td>TRBV9</td><td>TRBJ1-2</td><td>CAGPSGGSYIPTF </td><td>09/0328:MtbLys </td><td>1</td><td>-</td></tr>\n",
       "\t<tr><th scope=row>6</th><td>1</td><td>SVAL</td><td>4.4e-19</td><td>10</td><td>16</td><td>5.7e-13</td><td>4e-04</td><td>0.001</td><td>0.45</td><td>0.037</td><td>8.6e-05</td><td>motif-SVAL</td><td>CASSVallgETQYF  </td><td>CASSVALLGETQYF  </td><td>TRBV9</td><td>TRBJ2-5</td><td>CAGAPTGNQFYF  </td><td>09/0772:MtbLys </td><td>1</td><td>-</td></tr>\n",
       "</tbody>\n",
       "</table>\n"
      ],
      "text/latex": [
       "A data.frame: 6 × 20\n",
       "\\begin{tabular}{r|llllllllllllllllllll}\n",
       "  & index & pattern & Fisher\\_score & number\\_subject & number\\_unique\\_cdr3 & final\\_score & hla\\_score & vb\\_score & expansion\\_score & length\\_score & cluster\\_size\\_score & type & ulTcRb & TcRb & V & J & TcRa & Sample & Freq & HLA.A\\\\\n",
       "  & <int> & <chr> & <dbl> & <int> & <int> & <dbl> & <dbl> & <dbl> & <dbl> & <dbl> & <dbl> & <chr> & <chr> & <chr> & <chr> & <chr> & <chr> & <chr> & <dbl> & <chr>\\\\\n",
       "\\hline\n",
       "\t1 & 1 & SVAL & 4.4e-19 & 10 & 16 & 5.7e-13 & 4e-04 & 0.001 & 0.45 & 0.037 & 8.6e-05 & motif-SVAL & CASSVaLASGANVLTF & CASSVALASGANVLTF & TRBV9 & TRBJ2-6 & CAGAGGGGFKTIF  & 02/0152:MegaIL2 & 2 & -\\\\\n",
       "\t2 & 1 & SVAL & 4.4e-19 & 10 & 16 & 5.7e-13 & 4e-04 & 0.001 & 0.45 & 0.037 & 8.6e-05 & motif-SVAL & CASSValsNYGYTF   & CASSVALSNYGYTF   & TRBV9 & TRBJ1-2 & CAVVASGGSYIPTF & 01/1013:MtbLys  & 2 & -\\\\\n",
       "\t3 & 1 & SVAL & 4.4e-19 & 10 & 16 & 5.7e-13 & 4e-04 & 0.001 & 0.45 & 0.037 & 8.6e-05 & motif-SVAL & CASSValyGQsvTF   & CASSVALYGQSVTF   & TRBV9 & TRBJ1-2 & CAAFSGTYKYIF   & 09/0328:MtbLys  & 1 & -\\\\\n",
       "\t4 & 1 & SVAL & 4.4e-19 & 10 & 16 & 5.7e-13 & 4e-04 & 0.001 & 0.45 & 0.037 & 8.6e-05 & motif-SVAL & CASSValLAGTQYF   & CASSVALLAGTQYF   & TRBV9 & TRBJ2-3 & CAGPGGTSYGKLTF & 09/0671:MtbLys  & 1 & -\\\\\n",
       "\t5 & 1 & SVAL & 4.4e-19 & 10 & 16 & 5.7e-13 & 4e-04 & 0.001 & 0.45 & 0.037 & 8.6e-05 & motif-SVAL & CASSValgAGGGYTF  & CASSVALGAGGGYTF  & TRBV9 & TRBJ1-2 & CAGPSGGSYIPTF  & 09/0328:MtbLys  & 1 & -\\\\\n",
       "\t6 & 1 & SVAL & 4.4e-19 & 10 & 16 & 5.7e-13 & 4e-04 & 0.001 & 0.45 & 0.037 & 8.6e-05 & motif-SVAL & CASSVallgETQYF   & CASSVALLGETQYF   & TRBV9 & TRBJ2-5 & CAGAPTGNQFYF   & 09/0772:MtbLys  & 1 & -\\\\\n",
       "\\end{tabular}\n"
      ],
      "text/markdown": [
       "\n",
       "A data.frame: 6 × 20\n",
       "\n",
       "| <!--/--> | index &lt;int&gt; | pattern &lt;chr&gt; | Fisher_score &lt;dbl&gt; | number_subject &lt;int&gt; | number_unique_cdr3 &lt;int&gt; | final_score &lt;dbl&gt; | hla_score &lt;dbl&gt; | vb_score &lt;dbl&gt; | expansion_score &lt;dbl&gt; | length_score &lt;dbl&gt; | cluster_size_score &lt;dbl&gt; | type &lt;chr&gt; | ulTcRb &lt;chr&gt; | TcRb &lt;chr&gt; | V &lt;chr&gt; | J &lt;chr&gt; | TcRa &lt;chr&gt; | Sample &lt;chr&gt; | Freq &lt;dbl&gt; | HLA.A &lt;chr&gt; |\n",
       "|---|---|---|---|---|---|---|---|---|---|---|---|---|---|---|---|---|---|---|---|---|\n",
       "| 1 | 1 | SVAL | 4.4e-19 | 10 | 16 | 5.7e-13 | 4e-04 | 0.001 | 0.45 | 0.037 | 8.6e-05 | motif-SVAL | CASSVaLASGANVLTF | CASSVALASGANVLTF | TRBV9 | TRBJ2-6 | CAGAGGGGFKTIF  | 02/0152:MegaIL2 | 2 | - |\n",
       "| 2 | 1 | SVAL | 4.4e-19 | 10 | 16 | 5.7e-13 | 4e-04 | 0.001 | 0.45 | 0.037 | 8.6e-05 | motif-SVAL | CASSValsNYGYTF   | CASSVALSNYGYTF   | TRBV9 | TRBJ1-2 | CAVVASGGSYIPTF | 01/1013:MtbLys  | 2 | - |\n",
       "| 3 | 1 | SVAL | 4.4e-19 | 10 | 16 | 5.7e-13 | 4e-04 | 0.001 | 0.45 | 0.037 | 8.6e-05 | motif-SVAL | CASSValyGQsvTF   | CASSVALYGQSVTF   | TRBV9 | TRBJ1-2 | CAAFSGTYKYIF   | 09/0328:MtbLys  | 1 | - |\n",
       "| 4 | 1 | SVAL | 4.4e-19 | 10 | 16 | 5.7e-13 | 4e-04 | 0.001 | 0.45 | 0.037 | 8.6e-05 | motif-SVAL | CASSValLAGTQYF   | CASSVALLAGTQYF   | TRBV9 | TRBJ2-3 | CAGPGGTSYGKLTF | 09/0671:MtbLys  | 1 | - |\n",
       "| 5 | 1 | SVAL | 4.4e-19 | 10 | 16 | 5.7e-13 | 4e-04 | 0.001 | 0.45 | 0.037 | 8.6e-05 | motif-SVAL | CASSValgAGGGYTF  | CASSVALGAGGGYTF  | TRBV9 | TRBJ1-2 | CAGPSGGSYIPTF  | 09/0328:MtbLys  | 1 | - |\n",
       "| 6 | 1 | SVAL | 4.4e-19 | 10 | 16 | 5.7e-13 | 4e-04 | 0.001 | 0.45 | 0.037 | 8.6e-05 | motif-SVAL | CASSVallgETQYF   | CASSVALLGETQYF   | TRBV9 | TRBJ2-5 | CAGAPTGNQFYF   | 09/0772:MtbLys  | 1 | - |\n",
       "\n"
      ],
      "text/plain": [
       "  index pattern Fisher_score number_subject number_unique_cdr3 final_score\n",
       "1 1     SVAL    4.4e-19      10             16                 5.7e-13    \n",
       "2 1     SVAL    4.4e-19      10             16                 5.7e-13    \n",
       "3 1     SVAL    4.4e-19      10             16                 5.7e-13    \n",
       "4 1     SVAL    4.4e-19      10             16                 5.7e-13    \n",
       "5 1     SVAL    4.4e-19      10             16                 5.7e-13    \n",
       "6 1     SVAL    4.4e-19      10             16                 5.7e-13    \n",
       "  hla_score vb_score expansion_score length_score cluster_size_score type      \n",
       "1 4e-04     0.001    0.45            0.037        8.6e-05            motif-SVAL\n",
       "2 4e-04     0.001    0.45            0.037        8.6e-05            motif-SVAL\n",
       "3 4e-04     0.001    0.45            0.037        8.6e-05            motif-SVAL\n",
       "4 4e-04     0.001    0.45            0.037        8.6e-05            motif-SVAL\n",
       "5 4e-04     0.001    0.45            0.037        8.6e-05            motif-SVAL\n",
       "6 4e-04     0.001    0.45            0.037        8.6e-05            motif-SVAL\n",
       "  ulTcRb           TcRb             V     J       TcRa          \n",
       "1 CASSVaLASGANVLTF CASSVALASGANVLTF TRBV9 TRBJ2-6 CAGAGGGGFKTIF \n",
       "2 CASSValsNYGYTF   CASSVALSNYGYTF   TRBV9 TRBJ1-2 CAVVASGGSYIPTF\n",
       "3 CASSValyGQsvTF   CASSVALYGQSVTF   TRBV9 TRBJ1-2 CAAFSGTYKYIF  \n",
       "4 CASSValLAGTQYF   CASSVALLAGTQYF   TRBV9 TRBJ2-3 CAGPGGTSYGKLTF\n",
       "5 CASSValgAGGGYTF  CASSVALGAGGGYTF  TRBV9 TRBJ1-2 CAGPSGGSYIPTF \n",
       "6 CASSVallgETQYF   CASSVALLGETQYF   TRBV9 TRBJ2-5 CAGAPTGNQFYF  \n",
       "  Sample          Freq HLA.A\n",
       "1 02/0152:MegaIL2 2    -    \n",
       "2 01/1013:MtbLys  2    -    \n",
       "3 09/0328:MtbLys  1    -    \n",
       "4 09/0671:MtbLys  1    -    \n",
       "5 09/0328:MtbLys  1    -    \n",
       "6 09/0772:MtbLys  1    -    "
      ]
     },
     "metadata": {},
     "output_type": "display_data"
    }
   ],
   "source": [
    "head(gliph[,1:20])"
   ]
  },
  {
   "cell_type": "code",
   "execution_count": 6,
   "metadata": {},
   "outputs": [],
   "source": [
    "gliphdf <- gliph[1:50,]"
   ]
  },
  {
   "cell_type": "code",
   "execution_count": 9,
   "metadata": {},
   "outputs": [
    {
     "name": "stderr",
     "output_type": "stream",
     "text": [
      "\n",
      "Attaching package: ‘dplyr’\n",
      "\n",
      "\n",
      "The following objects are masked from ‘package:stats’:\n",
      "\n",
      "    filter, lag\n",
      "\n",
      "\n",
      "The following objects are masked from ‘package:base’:\n",
      "\n",
      "    intersect, setdiff, setequal, union\n",
      "\n",
      "\n"
     ]
    }
   ],
   "source": [
    "library(dplyr)"
   ]
  },
  {
   "cell_type": "code",
   "execution_count": 10,
   "metadata": {},
   "outputs": [],
   "source": [
    "#get cdr3 occuring in more than one sample\n",
    "tmp <- gliphdf %>% \n",
    "group_by(TcRb) %>%\n",
    "filter(n() > 1) %>% \n",
    "group_by(TcRb, Sample) %>% \n",
    "filter(n() == 1)"
   ]
  },
  {
   "cell_type": "code",
   "execution_count": 11,
   "metadata": {},
   "outputs": [
    {
     "data": {
      "text/html": [
       "<table class=\"dataframe\">\n",
       "<caption>A grouped_df: 4 × 30</caption>\n",
       "<thead>\n",
       "\t<tr><th scope=col>index</th><th scope=col>pattern</th><th scope=col>Fisher_score</th><th scope=col>number_subject</th><th scope=col>number_unique_cdr3</th><th scope=col>final_score</th><th scope=col>hla_score</th><th scope=col>vb_score</th><th scope=col>expansion_score</th><th scope=col>length_score</th><th scope=col>⋯</th><th scope=col>HLA.B</th><th scope=col>HLA.C</th><th scope=col>HLA.DPA1</th><th scope=col>HLA.DPB1</th><th scope=col>HLA.DQA1</th><th scope=col>HLA.DQB1</th><th scope=col>HLA.DRB1</th><th scope=col>HLA.DRB3</th><th scope=col>HLA.DRB4</th><th scope=col>HLA.DRB5</th></tr>\n",
       "\t<tr><th scope=col>&lt;int&gt;</th><th scope=col>&lt;chr&gt;</th><th scope=col>&lt;dbl&gt;</th><th scope=col>&lt;int&gt;</th><th scope=col>&lt;int&gt;</th><th scope=col>&lt;dbl&gt;</th><th scope=col>&lt;dbl&gt;</th><th scope=col>&lt;dbl&gt;</th><th scope=col>&lt;dbl&gt;</th><th scope=col>&lt;dbl&gt;</th><th scope=col>⋯</th><th scope=col>&lt;chr&gt;</th><th scope=col>&lt;chr&gt;</th><th scope=col>&lt;chr&gt;</th><th scope=col>&lt;chr&gt;</th><th scope=col>&lt;chr&gt;</th><th scope=col>&lt;chr&gt;</th><th scope=col>&lt;chr&gt;</th><th scope=col>&lt;chr&gt;</th><th scope=col>&lt;chr&gt;</th><th scope=col>&lt;chr&gt;</th></tr>\n",
       "</thead>\n",
       "<tbody>\n",
       "\t<tr><td>1</td><td>SVAL</td><td>4.4e-19</td><td>10</td><td>16</td><td>5.7e-13</td><td>0.0004</td><td>0.001</td><td>0.45</td><td>0.037</td><td>⋯</td><td>-</td><td>-</td><td>DPA1*02:01/DPA1*02:02</td><td>DPB1*01:01/DPB1*01:01 </td><td>DQA1*01:02/DQA1*05:05 </td><td>DQB1*03:01/DQB1*06:02!</td><td>DRB1*03:01/DRB1*15:03!</td><td>DRB3*02:02             </td><td>-         </td><td>DRB5*01:01!</td></tr>\n",
       "\t<tr><td>1</td><td>SVAL</td><td>4.4e-19</td><td>10</td><td>16</td><td>5.7e-13</td><td>0.0004</td><td>0.001</td><td>0.45</td><td>0.037</td><td>⋯</td><td>-</td><td>-</td><td>DPA1*01:03/DPA1*04:01</td><td>DPB1*02:01/DPB1*105:01</td><td>DQA1*01:02/DQA1*02:01 </td><td>DQB1*03:03/DQB1*06:02!</td><td>DRB1*07:01/DRB1*15:03!</td><td>-                      </td><td>DRB4*01:03</td><td>DRB5*01:01!</td></tr>\n",
       "\t<tr><td>7</td><td>QFIG</td><td>3.1e-08</td><td> 3</td><td> 3</td><td>1.0e-08</td><td>0.0370</td><td>0.001</td><td>0.21</td><td>0.220</td><td>⋯</td><td>-</td><td>-</td><td>DPA1*02:01/DPA1*02:02</td><td>DPB1*01:01/DPB1*13:01 </td><td>DQA1*01:02/DQA1*05:02!</td><td>DQB1*03:19/DQB1*06:02 </td><td>DRB1*11:01!/DRB1*15:03</td><td>DRB3*02:02!/DRB3*02:02!</td><td>-         </td><td>-          </td></tr>\n",
       "\t<tr><td>7</td><td>QFIG</td><td>3.1e-08</td><td> 3</td><td> 3</td><td>1.0e-08</td><td>0.0370</td><td>0.001</td><td>0.21</td><td>0.220</td><td>⋯</td><td>-</td><td>-</td><td>DPA1*02:01/DPA1*02:02</td><td>DPB1*01:01/DPB1*13:01 </td><td>DQA1*01:02/DQA1*05:02!</td><td>DQB1*03:19/DQB1*06:02 </td><td>DRB1*11:01!/DRB1*15:03</td><td>DRB3*02:02!/DRB3*02:02!</td><td>-         </td><td>-          </td></tr>\n",
       "</tbody>\n",
       "</table>\n"
      ],
      "text/latex": [
       "A grouped\\_df: 4 × 30\n",
       "\\begin{tabular}{lllllllllllllllllllll}\n",
       " index & pattern & Fisher\\_score & number\\_subject & number\\_unique\\_cdr3 & final\\_score & hla\\_score & vb\\_score & expansion\\_score & length\\_score & ⋯ & HLA.B & HLA.C & HLA.DPA1 & HLA.DPB1 & HLA.DQA1 & HLA.DQB1 & HLA.DRB1 & HLA.DRB3 & HLA.DRB4 & HLA.DRB5\\\\\n",
       " <int> & <chr> & <dbl> & <int> & <int> & <dbl> & <dbl> & <dbl> & <dbl> & <dbl> & ⋯ & <chr> & <chr> & <chr> & <chr> & <chr> & <chr> & <chr> & <chr> & <chr> & <chr>\\\\\n",
       "\\hline\n",
       "\t 1 & SVAL & 4.4e-19 & 10 & 16 & 5.7e-13 & 0.0004 & 0.001 & 0.45 & 0.037 & ⋯ & - & - & DPA1*02:01/DPA1*02:02 & DPB1*01:01/DPB1*01:01  & DQA1*01:02/DQA1*05:05  & DQB1*03:01/DQB1*06:02! & DRB1*03:01/DRB1*15:03! & DRB3*02:02              & -          & DRB5*01:01!\\\\\n",
       "\t 1 & SVAL & 4.4e-19 & 10 & 16 & 5.7e-13 & 0.0004 & 0.001 & 0.45 & 0.037 & ⋯ & - & - & DPA1*01:03/DPA1*04:01 & DPB1*02:01/DPB1*105:01 & DQA1*01:02/DQA1*02:01  & DQB1*03:03/DQB1*06:02! & DRB1*07:01/DRB1*15:03! & -                       & DRB4*01:03 & DRB5*01:01!\\\\\n",
       "\t 7 & QFIG & 3.1e-08 &  3 &  3 & 1.0e-08 & 0.0370 & 0.001 & 0.21 & 0.220 & ⋯ & - & - & DPA1*02:01/DPA1*02:02 & DPB1*01:01/DPB1*13:01  & DQA1*01:02/DQA1*05:02! & DQB1*03:19/DQB1*06:02  & DRB1*11:01!/DRB1*15:03 & DRB3*02:02!/DRB3*02:02! & -          & -          \\\\\n",
       "\t 7 & QFIG & 3.1e-08 &  3 &  3 & 1.0e-08 & 0.0370 & 0.001 & 0.21 & 0.220 & ⋯ & - & - & DPA1*02:01/DPA1*02:02 & DPB1*01:01/DPB1*13:01  & DQA1*01:02/DQA1*05:02! & DQB1*03:19/DQB1*06:02  & DRB1*11:01!/DRB1*15:03 & DRB3*02:02!/DRB3*02:02! & -          & -          \\\\\n",
       "\\end{tabular}\n"
      ],
      "text/markdown": [
       "\n",
       "A grouped_df: 4 × 30\n",
       "\n",
       "| index &lt;int&gt; | pattern &lt;chr&gt; | Fisher_score &lt;dbl&gt; | number_subject &lt;int&gt; | number_unique_cdr3 &lt;int&gt; | final_score &lt;dbl&gt; | hla_score &lt;dbl&gt; | vb_score &lt;dbl&gt; | expansion_score &lt;dbl&gt; | length_score &lt;dbl&gt; | ⋯ ⋯ | HLA.B &lt;chr&gt; | HLA.C &lt;chr&gt; | HLA.DPA1 &lt;chr&gt; | HLA.DPB1 &lt;chr&gt; | HLA.DQA1 &lt;chr&gt; | HLA.DQB1 &lt;chr&gt; | HLA.DRB1 &lt;chr&gt; | HLA.DRB3 &lt;chr&gt; | HLA.DRB4 &lt;chr&gt; | HLA.DRB5 &lt;chr&gt; |\n",
       "|---|---|---|---|---|---|---|---|---|---|---|---|---|---|---|---|---|---|---|---|---|\n",
       "| 1 | SVAL | 4.4e-19 | 10 | 16 | 5.7e-13 | 0.0004 | 0.001 | 0.45 | 0.037 | ⋯ | - | - | DPA1*02:01/DPA1*02:02 | DPB1*01:01/DPB1*01:01  | DQA1*01:02/DQA1*05:05  | DQB1*03:01/DQB1*06:02! | DRB1*03:01/DRB1*15:03! | DRB3*02:02              | -          | DRB5*01:01! |\n",
       "| 1 | SVAL | 4.4e-19 | 10 | 16 | 5.7e-13 | 0.0004 | 0.001 | 0.45 | 0.037 | ⋯ | - | - | DPA1*01:03/DPA1*04:01 | DPB1*02:01/DPB1*105:01 | DQA1*01:02/DQA1*02:01  | DQB1*03:03/DQB1*06:02! | DRB1*07:01/DRB1*15:03! | -                       | DRB4*01:03 | DRB5*01:01! |\n",
       "| 7 | QFIG | 3.1e-08 |  3 |  3 | 1.0e-08 | 0.0370 | 0.001 | 0.21 | 0.220 | ⋯ | - | - | DPA1*02:01/DPA1*02:02 | DPB1*01:01/DPB1*13:01  | DQA1*01:02/DQA1*05:02! | DQB1*03:19/DQB1*06:02  | DRB1*11:01!/DRB1*15:03 | DRB3*02:02!/DRB3*02:02! | -          | -           |\n",
       "| 7 | QFIG | 3.1e-08 |  3 |  3 | 1.0e-08 | 0.0370 | 0.001 | 0.21 | 0.220 | ⋯ | - | - | DPA1*02:01/DPA1*02:02 | DPB1*01:01/DPB1*13:01  | DQA1*01:02/DQA1*05:02! | DQB1*03:19/DQB1*06:02  | DRB1*11:01!/DRB1*15:03 | DRB3*02:02!/DRB3*02:02! | -          | -           |\n",
       "\n"
      ],
      "text/plain": [
       "  index pattern Fisher_score number_subject number_unique_cdr3 final_score\n",
       "1 1     SVAL    4.4e-19      10             16                 5.7e-13    \n",
       "2 1     SVAL    4.4e-19      10             16                 5.7e-13    \n",
       "3 7     QFIG    3.1e-08       3              3                 1.0e-08    \n",
       "4 7     QFIG    3.1e-08       3              3                 1.0e-08    \n",
       "  hla_score vb_score expansion_score length_score ⋯ HLA.B HLA.C\n",
       "1 0.0004    0.001    0.45            0.037        ⋯ -     -    \n",
       "2 0.0004    0.001    0.45            0.037        ⋯ -     -    \n",
       "3 0.0370    0.001    0.21            0.220        ⋯ -     -    \n",
       "4 0.0370    0.001    0.21            0.220        ⋯ -     -    \n",
       "  HLA.DPA1              HLA.DPB1               HLA.DQA1              \n",
       "1 DPA1*02:01/DPA1*02:02 DPB1*01:01/DPB1*01:01  DQA1*01:02/DQA1*05:05 \n",
       "2 DPA1*01:03/DPA1*04:01 DPB1*02:01/DPB1*105:01 DQA1*01:02/DQA1*02:01 \n",
       "3 DPA1*02:01/DPA1*02:02 DPB1*01:01/DPB1*13:01  DQA1*01:02/DQA1*05:02!\n",
       "4 DPA1*02:01/DPA1*02:02 DPB1*01:01/DPB1*13:01  DQA1*01:02/DQA1*05:02!\n",
       "  HLA.DQB1               HLA.DRB1               HLA.DRB3               \n",
       "1 DQB1*03:01/DQB1*06:02! DRB1*03:01/DRB1*15:03! DRB3*02:02             \n",
       "2 DQB1*03:03/DQB1*06:02! DRB1*07:01/DRB1*15:03! -                      \n",
       "3 DQB1*03:19/DQB1*06:02  DRB1*11:01!/DRB1*15:03 DRB3*02:02!/DRB3*02:02!\n",
       "4 DQB1*03:19/DQB1*06:02  DRB1*11:01!/DRB1*15:03 DRB3*02:02!/DRB3*02:02!\n",
       "  HLA.DRB4   HLA.DRB5   \n",
       "1 -          DRB5*01:01!\n",
       "2 DRB4*01:03 DRB5*01:01!\n",
       "3 -          -          \n",
       "4 -          -          "
      ]
     },
     "metadata": {},
     "output_type": "display_data"
    }
   ],
   "source": [
    "tmp"
   ]
  },
  {
   "cell_type": "code",
   "execution_count": 12,
   "metadata": {},
   "outputs": [
    {
     "data": {
      "text/html": [
       "<style>\n",
       ".list-inline {list-style: none; margin:0; padding: 0}\n",
       ".list-inline>li {display: inline-block}\n",
       ".list-inline>li:not(:last-child)::after {content: \"\\00b7\"; padding: 0 .5ex}\n",
       "</style>\n",
       "<ol class=list-inline><li>'09/0772:MtbLys'</li><li>'09/0531:MtbLys'</li></ol>\n"
      ],
      "text/latex": [
       "\\begin{enumerate*}\n",
       "\\item '09/0772:MtbLys'\n",
       "\\item '09/0531:MtbLys'\n",
       "\\end{enumerate*}\n"
      ],
      "text/markdown": [
       "1. '09/0772:MtbLys'\n",
       "2. '09/0531:MtbLys'\n",
       "\n",
       "\n"
      ],
      "text/plain": [
       "[1] \"09/0772:MtbLys\" \"09/0531:MtbLys\""
      ]
     },
     "metadata": {},
     "output_type": "display_data"
    }
   ],
   "source": [
    "gliphdf[ gliphdf$TcRb == \"CASSVALLGETQYF\",\"Sample\"]"
   ]
  },
  {
   "cell_type": "code",
   "execution_count": 13,
   "metadata": {},
   "outputs": [
    {
     "name": "stderr",
     "output_type": "stream",
     "text": [
      "Total number of recurring clonotypes: \n",
      "\n"
     ]
    },
    {
     "name": "stdout",
     "output_type": "stream",
     "text": [
      "[1] 6\n"
     ]
    }
   ],
   "source": [
    "recurring_cdr3 <- unique(gliphdf$TcRb[duplicated(gliphdf$TcRb)])\n",
    "notrecurring_cdr3 <- gliphdf$TcRb[!gliphdf$TcRb %in% recurring_cdr3]\n",
    "\n",
    "message(\"Total number of recurring clonotypes: \")\n",
    "print(length(recurring_cdr3))"
   ]
  },
  {
   "cell_type": "code",
   "execution_count": 14,
   "metadata": {},
   "outputs": [
    {
     "data": {
      "text/html": [
       "<style>\n",
       ".list-inline {list-style: none; margin:0; padding: 0}\n",
       ".list-inline>li {display: inline-block}\n",
       ".list-inline>li:not(:last-child)::after {content: \"\\00b7\"; padding: 0 .5ex}\n",
       "</style>\n",
       "<ol class=list-inline><li>'CASSVALLGETQYF'</li><li>'CASSPGTESNQPQHF'</li><li>'CASSLGTESNQPQHF'</li><li>'CASSSGTESNQPQHF'</li><li>'CASSFGTESNQPQHF'</li><li>'CASSQFIGDTDQSDTQYF'</li></ol>\n"
      ],
      "text/latex": [
       "\\begin{enumerate*}\n",
       "\\item 'CASSVALLGETQYF'\n",
       "\\item 'CASSPGTESNQPQHF'\n",
       "\\item 'CASSLGTESNQPQHF'\n",
       "\\item 'CASSSGTESNQPQHF'\n",
       "\\item 'CASSFGTESNQPQHF'\n",
       "\\item 'CASSQFIGDTDQSDTQYF'\n",
       "\\end{enumerate*}\n"
      ],
      "text/markdown": [
       "1. 'CASSVALLGETQYF'\n",
       "2. 'CASSPGTESNQPQHF'\n",
       "3. 'CASSLGTESNQPQHF'\n",
       "4. 'CASSSGTESNQPQHF'\n",
       "5. 'CASSFGTESNQPQHF'\n",
       "6. 'CASSQFIGDTDQSDTQYF'\n",
       "\n",
       "\n"
      ],
      "text/plain": [
       "[1] \"CASSVALLGETQYF\"     \"CASSPGTESNQPQHF\"    \"CASSLGTESNQPQHF\"   \n",
       "[4] \"CASSSGTESNQPQHF\"    \"CASSFGTESNQPQHF\"    \"CASSQFIGDTDQSDTQYF\""
      ]
     },
     "metadata": {},
     "output_type": "display_data"
    }
   ],
   "source": [
    "recurring_cdr3"
   ]
  },
  {
   "cell_type": "code",
   "execution_count": 15,
   "metadata": {},
   "outputs": [],
   "source": [
    " #   if (length(recurring_cdr3) == 0) {\n",
    " #       mydummy_df <- as.data.frame(matrix(ncol = ncol(gliphdf), nrow = length(mysamples)))\n",
    " #       colnames(mydummy_df) <- colnames(gliphdf)\n",
    "  #      mydummy_df$Sample <- mysamples\n",
    "   #     mydummy_df$TcRb <- \"XXXXX\"\n",
    "    #    mydummy_df$Freq <- 0\n",
    " #       gliphdf <- rbind(gliphdf, mydummy_df)\n",
    " #       recurring_cdr3 <- \"XXXXX\"\n",
    "  #  }"
   ]
  },
  {
   "cell_type": "code",
   "execution_count": 16,
   "metadata": {},
   "outputs": [
    {
     "name": "stderr",
     "output_type": "stream",
     "text": [
      "these are what we color: \n",
      "\n"
     ]
    },
    {
     "name": "stdout",
     "output_type": "stream",
     "text": [
      "    CASSVALLGETQYF    CASSPGTESNQPQHF    CASSLGTESNQPQHF    CASSSGTESNQPQHF \n",
      "         \"#DDC47C\"          \"#A2DACC\"          \"#B4AAD5\"          \"#BE5ED5\" \n",
      "   CASSFGTESNQPQHF CASSQFIGDTDQSDTQYF \n",
      "         \"#E27682\"          \"#A7E46C\" \n"
     ]
    }
   ],
   "source": [
    "\n",
    "    myColors <- distinctColorPalette(length(recurring_cdr3))\n",
    "    myColors <- c(myColors, rep(\"white\", length(notrecurring_cdr3)))\n",
    "    names(myColors) <- c(recurring_cdr3, notrecurring_cdr3)\n",
    "  #  myColors[names(myColors) == \"XXXXX\"] <- \"white\"\n",
    "    message(\"these are what we color: \")\n",
    "    print(myColors[myColors != \"white\"])\n",
    "    "
   ]
  },
  {
   "cell_type": "code",
   "execution_count": 17,
   "metadata": {},
   "outputs": [],
   "source": [
    "alluvialdf <- gliphdf#[, c(\"Sample\", \"TcRb\", \"Freq\")]"
   ]
  },
  {
   "cell_type": "code",
   "execution_count": 18,
   "metadata": {},
   "outputs": [],
   "source": [
    "alluvialdf$xx <- paste(alluvialdf$pattern, alluvialdf$TcRb, sep = \":\")"
   ]
  },
  {
   "cell_type": "code",
   "execution_count": 63,
   "metadata": {},
   "outputs": [],
   "source": [
    "alluvialdf$p_sample <- paste(alluvialdf$pattern, alluvialdf$Sample, sep = \"_\")"
   ]
  },
  {
   "cell_type": "code",
   "execution_count": 64,
   "metadata": {},
   "outputs": [
    {
     "data": {
      "text/html": [
       "<style>\n",
       ".list-inline {list-style: none; margin:0; padding: 0}\n",
       ".list-inline>li {display: inline-block}\n",
       ".list-inline>li:not(:last-child)::after {content: \"\\00b7\"; padding: 0 .5ex}\n",
       "</style>\n",
       "<ol class=list-inline><li>'SVAL_09/0328:MtbLys'</li><li>'SVAL_01/0943:MtbLys'</li><li>'SVAL_09/0328:MtbLys'</li><li>'SVAL_09/0671:MtbLys'</li><li>'SVAL_09/0328:MtbLys'</li><li>'SVAL_09/0671:MtbLys'</li><li>'GLVL_09/0717:MtbLys'</li><li>'TESN_03/0480:MtbLys'</li><li>'TESN_03/0480:MtbLys'</li><li>'TESN_03/0480:MtbLys'</li><li>'TESN_03/0480:MtbLys'</li><li>'EEPR_09/0730:MtbLys'</li><li>'EEPR_03/0493:MtbLys'</li><li>'EEPR_03/0493:MtbLys'</li><li>'SQFL_03/0302:MtbLys'</li><li>'S%GTESNQP_03/0480:MtbLys'</li><li>'S%GTESNQP_03/0480:MtbLys'</li></ol>\n"
      ],
      "text/latex": [
       "\\begin{enumerate*}\n",
       "\\item 'SVAL\\_09/0328:MtbLys'\n",
       "\\item 'SVAL\\_01/0943:MtbLys'\n",
       "\\item 'SVAL\\_09/0328:MtbLys'\n",
       "\\item 'SVAL\\_09/0671:MtbLys'\n",
       "\\item 'SVAL\\_09/0328:MtbLys'\n",
       "\\item 'SVAL\\_09/0671:MtbLys'\n",
       "\\item 'GLVL\\_09/0717:MtbLys'\n",
       "\\item 'TESN\\_03/0480:MtbLys'\n",
       "\\item 'TESN\\_03/0480:MtbLys'\n",
       "\\item 'TESN\\_03/0480:MtbLys'\n",
       "\\item 'TESN\\_03/0480:MtbLys'\n",
       "\\item 'EEPR\\_09/0730:MtbLys'\n",
       "\\item 'EEPR\\_03/0493:MtbLys'\n",
       "\\item 'EEPR\\_03/0493:MtbLys'\n",
       "\\item 'SQFL\\_03/0302:MtbLys'\n",
       "\\item 'S\\%GTESNQP\\_03/0480:MtbLys'\n",
       "\\item 'S\\%GTESNQP\\_03/0480:MtbLys'\n",
       "\\end{enumerate*}\n"
      ],
      "text/markdown": [
       "1. 'SVAL_09/0328:MtbLys'\n",
       "2. 'SVAL_01/0943:MtbLys'\n",
       "3. 'SVAL_09/0328:MtbLys'\n",
       "4. 'SVAL_09/0671:MtbLys'\n",
       "5. 'SVAL_09/0328:MtbLys'\n",
       "6. 'SVAL_09/0671:MtbLys'\n",
       "7. 'GLVL_09/0717:MtbLys'\n",
       "8. 'TESN_03/0480:MtbLys'\n",
       "9. 'TESN_03/0480:MtbLys'\n",
       "10. 'TESN_03/0480:MtbLys'\n",
       "11. 'TESN_03/0480:MtbLys'\n",
       "12. 'EEPR_09/0730:MtbLys'\n",
       "13. 'EEPR_03/0493:MtbLys'\n",
       "14. 'EEPR_03/0493:MtbLys'\n",
       "15. 'SQFL_03/0302:MtbLys'\n",
       "16. 'S%GTESNQP_03/0480:MtbLys'\n",
       "17. 'S%GTESNQP_03/0480:MtbLys'\n",
       "\n",
       "\n"
      ],
      "text/plain": [
       " [1] \"SVAL_09/0328:MtbLys\"      \"SVAL_01/0943:MtbLys\"     \n",
       " [3] \"SVAL_09/0328:MtbLys\"      \"SVAL_09/0671:MtbLys\"     \n",
       " [5] \"SVAL_09/0328:MtbLys\"      \"SVAL_09/0671:MtbLys\"     \n",
       " [7] \"GLVL_09/0717:MtbLys\"      \"TESN_03/0480:MtbLys\"     \n",
       " [9] \"TESN_03/0480:MtbLys\"      \"TESN_03/0480:MtbLys\"     \n",
       "[11] \"TESN_03/0480:MtbLys\"      \"EEPR_09/0730:MtbLys\"     \n",
       "[13] \"EEPR_03/0493:MtbLys\"      \"EEPR_03/0493:MtbLys\"     \n",
       "[15] \"SQFL_03/0302:MtbLys\"      \"S%GTESNQP_03/0480:MtbLys\"\n",
       "[17] \"S%GTESNQP_03/0480:MtbLys\""
      ]
     },
     "metadata": {},
     "output_type": "display_data"
    }
   ],
   "source": [
    "alluvialdf$p_sample[duplicated(alluvialdf$p_sample)]"
   ]
  },
  {
   "cell_type": "code",
   "execution_count": 19,
   "metadata": {},
   "outputs": [
    {
     "data": {
      "text/html": [
       "<table class=\"dataframe\">\n",
       "<caption>A data.frame: 2 × 20</caption>\n",
       "<thead>\n",
       "\t<tr><th></th><th scope=col>index</th><th scope=col>pattern</th><th scope=col>Fisher_score</th><th scope=col>number_subject</th><th scope=col>number_unique_cdr3</th><th scope=col>final_score</th><th scope=col>hla_score</th><th scope=col>vb_score</th><th scope=col>expansion_score</th><th scope=col>length_score</th><th scope=col>cluster_size_score</th><th scope=col>type</th><th scope=col>ulTcRb</th><th scope=col>TcRb</th><th scope=col>V</th><th scope=col>J</th><th scope=col>TcRa</th><th scope=col>Sample</th><th scope=col>Freq</th><th scope=col>HLA.A</th></tr>\n",
       "\t<tr><th></th><th scope=col>&lt;int&gt;</th><th scope=col>&lt;chr&gt;</th><th scope=col>&lt;dbl&gt;</th><th scope=col>&lt;int&gt;</th><th scope=col>&lt;int&gt;</th><th scope=col>&lt;dbl&gt;</th><th scope=col>&lt;dbl&gt;</th><th scope=col>&lt;dbl&gt;</th><th scope=col>&lt;dbl&gt;</th><th scope=col>&lt;dbl&gt;</th><th scope=col>&lt;dbl&gt;</th><th scope=col>&lt;chr&gt;</th><th scope=col>&lt;chr&gt;</th><th scope=col>&lt;chr&gt;</th><th scope=col>&lt;chr&gt;</th><th scope=col>&lt;chr&gt;</th><th scope=col>&lt;chr&gt;</th><th scope=col>&lt;chr&gt;</th><th scope=col>&lt;dbl&gt;</th><th scope=col>&lt;chr&gt;</th></tr>\n",
       "</thead>\n",
       "<tbody>\n",
       "\t<tr><th scope=row>6</th><td>1</td><td>SVAL</td><td>4.4e-19</td><td>10</td><td>16</td><td>5.7e-13</td><td>4e-04</td><td>0.001</td><td>0.45</td><td>0.037</td><td>8.6e-05</td><td>motif-SVAL</td><td>CASSVallgETQYF</td><td>CASSVALLGETQYF</td><td>TRBV9</td><td>TRBJ2-5</td><td>CAGAPTGNQFYF  </td><td>09/0772:MtbLys</td><td>1</td><td>-</td></tr>\n",
       "\t<tr><th scope=row>7</th><td>1</td><td>SVAL</td><td>4.4e-19</td><td>10</td><td>16</td><td>5.7e-13</td><td>4e-04</td><td>0.001</td><td>0.45</td><td>0.037</td><td>8.6e-05</td><td>motif-SVAL</td><td>CASSVallgETQYF</td><td>CASSVALLGETQYF</td><td>TRBV9</td><td>TRBJ2-5</td><td>CAGTGGTSYGKLTF</td><td>09/0531:MtbLys</td><td>1</td><td>-</td></tr>\n",
       "</tbody>\n",
       "</table>\n"
      ],
      "text/latex": [
       "A data.frame: 2 × 20\n",
       "\\begin{tabular}{r|llllllllllllllllllll}\n",
       "  & index & pattern & Fisher\\_score & number\\_subject & number\\_unique\\_cdr3 & final\\_score & hla\\_score & vb\\_score & expansion\\_score & length\\_score & cluster\\_size\\_score & type & ulTcRb & TcRb & V & J & TcRa & Sample & Freq & HLA.A\\\\\n",
       "  & <int> & <chr> & <dbl> & <int> & <int> & <dbl> & <dbl> & <dbl> & <dbl> & <dbl> & <dbl> & <chr> & <chr> & <chr> & <chr> & <chr> & <chr> & <chr> & <dbl> & <chr>\\\\\n",
       "\\hline\n",
       "\t6 & 1 & SVAL & 4.4e-19 & 10 & 16 & 5.7e-13 & 4e-04 & 0.001 & 0.45 & 0.037 & 8.6e-05 & motif-SVAL & CASSVallgETQYF & CASSVALLGETQYF & TRBV9 & TRBJ2-5 & CAGAPTGNQFYF   & 09/0772:MtbLys & 1 & -\\\\\n",
       "\t7 & 1 & SVAL & 4.4e-19 & 10 & 16 & 5.7e-13 & 4e-04 & 0.001 & 0.45 & 0.037 & 8.6e-05 & motif-SVAL & CASSVallgETQYF & CASSVALLGETQYF & TRBV9 & TRBJ2-5 & CAGTGGTSYGKLTF & 09/0531:MtbLys & 1 & -\\\\\n",
       "\\end{tabular}\n"
      ],
      "text/markdown": [
       "\n",
       "A data.frame: 2 × 20\n",
       "\n",
       "| <!--/--> | index &lt;int&gt; | pattern &lt;chr&gt; | Fisher_score &lt;dbl&gt; | number_subject &lt;int&gt; | number_unique_cdr3 &lt;int&gt; | final_score &lt;dbl&gt; | hla_score &lt;dbl&gt; | vb_score &lt;dbl&gt; | expansion_score &lt;dbl&gt; | length_score &lt;dbl&gt; | cluster_size_score &lt;dbl&gt; | type &lt;chr&gt; | ulTcRb &lt;chr&gt; | TcRb &lt;chr&gt; | V &lt;chr&gt; | J &lt;chr&gt; | TcRa &lt;chr&gt; | Sample &lt;chr&gt; | Freq &lt;dbl&gt; | HLA.A &lt;chr&gt; |\n",
       "|---|---|---|---|---|---|---|---|---|---|---|---|---|---|---|---|---|---|---|---|---|\n",
       "| 6 | 1 | SVAL | 4.4e-19 | 10 | 16 | 5.7e-13 | 4e-04 | 0.001 | 0.45 | 0.037 | 8.6e-05 | motif-SVAL | CASSVallgETQYF | CASSVALLGETQYF | TRBV9 | TRBJ2-5 | CAGAPTGNQFYF   | 09/0772:MtbLys | 1 | - |\n",
       "| 7 | 1 | SVAL | 4.4e-19 | 10 | 16 | 5.7e-13 | 4e-04 | 0.001 | 0.45 | 0.037 | 8.6e-05 | motif-SVAL | CASSVallgETQYF | CASSVALLGETQYF | TRBV9 | TRBJ2-5 | CAGTGGTSYGKLTF | 09/0531:MtbLys | 1 | - |\n",
       "\n"
      ],
      "text/plain": [
       "  index pattern Fisher_score number_subject number_unique_cdr3 final_score\n",
       "6 1     SVAL    4.4e-19      10             16                 5.7e-13    \n",
       "7 1     SVAL    4.4e-19      10             16                 5.7e-13    \n",
       "  hla_score vb_score expansion_score length_score cluster_size_score type      \n",
       "6 4e-04     0.001    0.45            0.037        8.6e-05            motif-SVAL\n",
       "7 4e-04     0.001    0.45            0.037        8.6e-05            motif-SVAL\n",
       "  ulTcRb         TcRb           V     J       TcRa           Sample        \n",
       "6 CASSVallgETQYF CASSVALLGETQYF TRBV9 TRBJ2-5 CAGAPTGNQFYF   09/0772:MtbLys\n",
       "7 CASSVallgETQYF CASSVALLGETQYF TRBV9 TRBJ2-5 CAGTGGTSYGKLTF 09/0531:MtbLys\n",
       "  Freq HLA.A\n",
       "6 1    -    \n",
       "7 1    -    "
      ]
     },
     "metadata": {},
     "output_type": "display_data"
    }
   ],
   "source": [
    "alluvialdf[alluvialdf$xx == \"SVAL:CASSVALLGETQYF\",1:20]"
   ]
  },
  {
   "cell_type": "code",
   "execution_count": 65,
   "metadata": {},
   "outputs": [],
   "source": [
    "# has to be unique\n",
    "#alluvialdf <- alluvialdf[ !duplicated(alluvialdf$xx),]"
   ]
  },
  {
   "cell_type": "code",
   "execution_count": 20,
   "metadata": {},
   "outputs": [],
   "source": [
    "alluvialdf <- alluvialdf[, c(\"xx\", colnames(alluvialdf)[1:19])]"
   ]
  },
  {
   "cell_type": "code",
   "execution_count": 22,
   "metadata": {},
   "outputs": [],
   "source": [
    "#recurrent motifs\n",
    "mytab <- as.data.frame(table(alluvialdf$pattern), stringsAsFactors = F)\n",
    "\n",
    "recur_motifs <- mytab$Var1[ mytab$Freq > 1]"
   ]
  },
  {
   "cell_type": "code",
   "execution_count": 23,
   "metadata": {},
   "outputs": [
    {
     "data": {
      "text/html": [
       "<table class=\"dataframe\">\n",
       "<caption>A data.frame: 7 × 2</caption>\n",
       "<thead>\n",
       "\t<tr><th scope=col>Var1</th><th scope=col>Freq</th></tr>\n",
       "\t<tr><th scope=col>&lt;chr&gt;</th><th scope=col>&lt;int&gt;</th></tr>\n",
       "</thead>\n",
       "<tbody>\n",
       "\t<tr><td>EEPR     </td><td> 5</td></tr>\n",
       "\t<tr><td>GLVL     </td><td> 8</td></tr>\n",
       "\t<tr><td>QFIG     </td><td> 3</td></tr>\n",
       "\t<tr><td>S%GTESNQP</td><td> 5</td></tr>\n",
       "\t<tr><td>SQFL     </td><td> 4</td></tr>\n",
       "\t<tr><td>SVAL     </td><td>17</td></tr>\n",
       "\t<tr><td>TESN     </td><td> 8</td></tr>\n",
       "</tbody>\n",
       "</table>\n"
      ],
      "text/latex": [
       "A data.frame: 7 × 2\n",
       "\\begin{tabular}{ll}\n",
       " Var1 & Freq\\\\\n",
       " <chr> & <int>\\\\\n",
       "\\hline\n",
       "\t EEPR      &  5\\\\\n",
       "\t GLVL      &  8\\\\\n",
       "\t QFIG      &  3\\\\\n",
       "\t S\\%GTESNQP &  5\\\\\n",
       "\t SQFL      &  4\\\\\n",
       "\t SVAL      & 17\\\\\n",
       "\t TESN      &  8\\\\\n",
       "\\end{tabular}\n"
      ],
      "text/markdown": [
       "\n",
       "A data.frame: 7 × 2\n",
       "\n",
       "| Var1 &lt;chr&gt; | Freq &lt;int&gt; |\n",
       "|---|---|\n",
       "| EEPR      |  5 |\n",
       "| GLVL      |  8 |\n",
       "| QFIG      |  3 |\n",
       "| S%GTESNQP |  5 |\n",
       "| SQFL      |  4 |\n",
       "| SVAL      | 17 |\n",
       "| TESN      |  8 |\n",
       "\n"
      ],
      "text/plain": [
       "  Var1      Freq\n",
       "1 EEPR       5  \n",
       "2 GLVL       8  \n",
       "3 QFIG       3  \n",
       "4 S%GTESNQP  5  \n",
       "5 SQFL       4  \n",
       "6 SVAL      17  \n",
       "7 TESN       8  "
      ]
     },
     "metadata": {},
     "output_type": "display_data"
    }
   ],
   "source": [
    "mytab"
   ]
  },
  {
   "cell_type": "code",
   "execution_count": 24,
   "metadata": {},
   "outputs": [
    {
     "data": {
      "text/html": [
       "<style>\n",
       ".list-inline {list-style: none; margin:0; padding: 0}\n",
       ".list-inline>li {display: inline-block}\n",
       ".list-inline>li:not(:last-child)::after {content: \"\\00b7\"; padding: 0 .5ex}\n",
       "</style>\n",
       "<ol class=list-inline><li>'EEPR'</li><li>'GLVL'</li><li>'QFIG'</li><li>'S%GTESNQP'</li><li>'SQFL'</li><li>'SVAL'</li><li>'TESN'</li></ol>\n"
      ],
      "text/latex": [
       "\\begin{enumerate*}\n",
       "\\item 'EEPR'\n",
       "\\item 'GLVL'\n",
       "\\item 'QFIG'\n",
       "\\item 'S\\%GTESNQP'\n",
       "\\item 'SQFL'\n",
       "\\item 'SVAL'\n",
       "\\item 'TESN'\n",
       "\\end{enumerate*}\n"
      ],
      "text/markdown": [
       "1. 'EEPR'\n",
       "2. 'GLVL'\n",
       "3. 'QFIG'\n",
       "4. 'S%GTESNQP'\n",
       "5. 'SQFL'\n",
       "6. 'SVAL'\n",
       "7. 'TESN'\n",
       "\n",
       "\n"
      ],
      "text/plain": [
       "[1] \"EEPR\"      \"GLVL\"      \"QFIG\"      \"S%GTESNQP\" \"SQFL\"      \"SVAL\"     \n",
       "[7] \"TESN\"     "
      ]
     },
     "metadata": {},
     "output_type": "display_data"
    }
   ],
   "source": [
    "recur_motifs"
   ]
  },
  {
   "cell_type": "code",
   "execution_count": 25,
   "metadata": {},
   "outputs": [],
   "source": [
    "motifColors <- distinctColorPalette(length(recur_motifs))"
   ]
  },
  {
   "cell_type": "code",
   "execution_count": 26,
   "metadata": {},
   "outputs": [
    {
     "data": {
      "text/html": [
       "<style>\n",
       ".list-inline {list-style: none; margin:0; padding: 0}\n",
       ".list-inline>li {display: inline-block}\n",
       ".list-inline>li:not(:last-child)::after {content: \"\\00b7\"; padding: 0 .5ex}\n",
       "</style>\n",
       "<ol class=list-inline><li>'#B2E56C'</li><li>'#DFB872'</li><li>'#CDCBCD'</li><li>'#9898D9'</li><li>'#E1759E'</li><li>'#BF55DB'</li></ol>\n"
      ],
      "text/latex": [
       "\\begin{enumerate*}\n",
       "\\item '\\#B2E56C'\n",
       "\\item '\\#DFB872'\n",
       "\\item '\\#CDCBCD'\n",
       "\\item '\\#9898D9'\n",
       "\\item '\\#E1759E'\n",
       "\\item '\\#BF55DB'\n",
       "\\end{enumerate*}\n"
      ],
      "text/markdown": [
       "1. '#B2E56C'\n",
       "2. '#DFB872'\n",
       "3. '#CDCBCD'\n",
       "4. '#9898D9'\n",
       "5. '#E1759E'\n",
       "6. '#BF55DB'\n",
       "\n",
       "\n"
      ],
      "text/plain": [
       "[1] \"#B2E56C\" \"#DFB872\" \"#CDCBCD\" \"#9898D9\" \"#E1759E\" \"#BF55DB\""
      ]
     },
     "metadata": {},
     "output_type": "display_data"
    }
   ],
   "source": [
    "head(motifColors)"
   ]
  },
  {
   "cell_type": "code",
   "execution_count": 27,
   "metadata": {},
   "outputs": [],
   "source": [
    "recurringmotifColors <- vector()\n",
    "\n",
    "for(i in 1:nrow(mytab)){\n",
    "   tm <- rep(motifColors[i], mytab$Freq[i]) \n",
    "    names(tm) <- alluvialdf$xx[ alluvialdf$pattern == mytab$Var1[i]]\n",
    "    recurringmotifColors <- c(recurringmotifColors, tm)\n",
    "}"
   ]
  },
  {
   "cell_type": "code",
   "execution_count": 28,
   "metadata": {},
   "outputs": [],
   "source": [
    "recurringmotifColors_all <- c(myColors, recurringmotifColors)"
   ]
  },
  {
   "cell_type": "code",
   "execution_count": 42,
   "metadata": {},
   "outputs": [
    {
     "data": {
      "text/html": [
       "<strong>SVAL:CASSVALSNYGYTF:</strong> '#BF55DB'"
      ],
      "text/latex": [
       "\\textbf{SVAL:CASSVALSNYGYTF:} '\\#BF55DB'"
      ],
      "text/markdown": [
       "**SVAL:CASSVALSNYGYTF:** '#BF55DB'"
      ],
      "text/plain": [
       "SVAL:CASSVALSNYGYTF \n",
       "          \"#BF55DB\" "
      ]
     },
     "metadata": {},
     "output_type": "display_data"
    }
   ],
   "source": [
    "recurringmotifColors_all[\"SVAL:CASSVALSNYGYTF\"]"
   ]
  },
  {
   "cell_type": "code",
   "execution_count": 40,
   "metadata": {},
   "outputs": [
    {
     "data": {
      "text/html": [
       "<table class=\"dataframe\">\n",
       "<caption>A data.frame: 50 × 20</caption>\n",
       "<thead>\n",
       "\t<tr><th></th><th scope=col>xx</th><th scope=col>index</th><th scope=col>pattern</th><th scope=col>Fisher_score</th><th scope=col>number_subject</th><th scope=col>number_unique_cdr3</th><th scope=col>final_score</th><th scope=col>hla_score</th><th scope=col>vb_score</th><th scope=col>expansion_score</th><th scope=col>length_score</th><th scope=col>cluster_size_score</th><th scope=col>type</th><th scope=col>ulTcRb</th><th scope=col>TcRb</th><th scope=col>V</th><th scope=col>J</th><th scope=col>TcRa</th><th scope=col>Sample</th><th scope=col>Freq</th></tr>\n",
       "\t<tr><th></th><th scope=col>&lt;chr&gt;</th><th scope=col>&lt;int&gt;</th><th scope=col>&lt;chr&gt;</th><th scope=col>&lt;dbl&gt;</th><th scope=col>&lt;int&gt;</th><th scope=col>&lt;int&gt;</th><th scope=col>&lt;dbl&gt;</th><th scope=col>&lt;dbl&gt;</th><th scope=col>&lt;dbl&gt;</th><th scope=col>&lt;dbl&gt;</th><th scope=col>&lt;dbl&gt;</th><th scope=col>&lt;dbl&gt;</th><th scope=col>&lt;chr&gt;</th><th scope=col>&lt;chr&gt;</th><th scope=col>&lt;chr&gt;</th><th scope=col>&lt;chr&gt;</th><th scope=col>&lt;chr&gt;</th><th scope=col>&lt;chr&gt;</th><th scope=col>&lt;chr&gt;</th><th scope=col>&lt;dbl&gt;</th></tr>\n",
       "</thead>\n",
       "<tbody>\n",
       "\t<tr><th scope=row>1</th><td>SVAL:CASSVALASGANVLTF    </td><td>1</td><td>SVAL     </td><td>4.4e-19</td><td>10</td><td>16</td><td>5.7e-13</td><td>0.0004</td><td>0.001</td><td>0.450</td><td>0.037</td><td>8.6e-05</td><td>motif-SVAL                     </td><td>CASSVaLASGANVLTF   </td><td>CASSVALASGANVLTF   </td><td>TRBV9   </td><td>TRBJ2-6</td><td>CAGAGGGGFKTIF   </td><td>02/0152:MegaIL2 </td><td>2</td></tr>\n",
       "\t<tr><th scope=row>2</th><td>SVAL:CASSVALSNYGYTF      </td><td>1</td><td>SVAL     </td><td>4.4e-19</td><td>10</td><td>16</td><td>5.7e-13</td><td>0.0004</td><td>0.001</td><td>0.450</td><td>0.037</td><td>8.6e-05</td><td>motif-SVAL                     </td><td>CASSValsNYGYTF     </td><td>CASSVALSNYGYTF     </td><td>TRBV9   </td><td>TRBJ1-2</td><td>CAVVASGGSYIPTF  </td><td>01/1013:MtbLys  </td><td>2</td></tr>\n",
       "\t<tr><th scope=row>3</th><td>SVAL:CASSVALYGQSVTF      </td><td>1</td><td>SVAL     </td><td>4.4e-19</td><td>10</td><td>16</td><td>5.7e-13</td><td>0.0004</td><td>0.001</td><td>0.450</td><td>0.037</td><td>8.6e-05</td><td>motif-SVAL                     </td><td>CASSValyGQsvTF     </td><td>CASSVALYGQSVTF     </td><td>TRBV9   </td><td>TRBJ1-2</td><td>CAAFSGTYKYIF    </td><td>09/0328:MtbLys  </td><td>1</td></tr>\n",
       "\t<tr><th scope=row>4</th><td>SVAL:CASSVALLAGTQYF      </td><td>1</td><td>SVAL     </td><td>4.4e-19</td><td>10</td><td>16</td><td>5.7e-13</td><td>0.0004</td><td>0.001</td><td>0.450</td><td>0.037</td><td>8.6e-05</td><td>motif-SVAL                     </td><td>CASSValLAGTQYF     </td><td>CASSVALLAGTQYF     </td><td>TRBV9   </td><td>TRBJ2-3</td><td>CAGPGGTSYGKLTF  </td><td>09/0671:MtbLys  </td><td>1</td></tr>\n",
       "\t<tr><th scope=row>5</th><td>SVAL:CASSVALGAGGGYTF     </td><td>1</td><td>SVAL     </td><td>4.4e-19</td><td>10</td><td>16</td><td>5.7e-13</td><td>0.0004</td><td>0.001</td><td>0.450</td><td>0.037</td><td>8.6e-05</td><td>motif-SVAL                     </td><td>CASSValgAGGGYTF    </td><td>CASSVALGAGGGYTF    </td><td>TRBV9   </td><td>TRBJ1-2</td><td>CAGPSGGSYIPTF   </td><td>09/0328:MtbLys  </td><td>1</td></tr>\n",
       "\t<tr><th scope=row>6</th><td>SVAL:CASSVALLGETQYF      </td><td>1</td><td>SVAL     </td><td>4.4e-19</td><td>10</td><td>16</td><td>5.7e-13</td><td>0.0004</td><td>0.001</td><td>0.450</td><td>0.037</td><td>8.6e-05</td><td>motif-SVAL                     </td><td>CASSVallgETQYF     </td><td>CASSVALLGETQYF     </td><td>TRBV9   </td><td>TRBJ2-5</td><td>CAGAPTGNQFYF    </td><td>09/0772:MtbLys  </td><td>1</td></tr>\n",
       "\t<tr><th scope=row>7</th><td>SVAL:CASSVALLGETQYF      </td><td>1</td><td>SVAL     </td><td>4.4e-19</td><td>10</td><td>16</td><td>5.7e-13</td><td>0.0004</td><td>0.001</td><td>0.450</td><td>0.037</td><td>8.6e-05</td><td>motif-SVAL                     </td><td>CASSVallgETQYF     </td><td>CASSVALLGETQYF     </td><td>TRBV9   </td><td>TRBJ2-5</td><td>CAGTGGTSYGKLTF  </td><td>09/0531:MtbLys  </td><td>1</td></tr>\n",
       "\t<tr><th scope=row>8</th><td>SVAL:CASSVALMGGELFF      </td><td>1</td><td>SVAL     </td><td>4.4e-19</td><td>10</td><td>16</td><td>5.7e-13</td><td>0.0004</td><td>0.001</td><td>0.450</td><td>0.037</td><td>8.6e-05</td><td>motif-SVAL                     </td><td>CASSValmgGELFF     </td><td>CASSVALMGGELFF     </td><td>TRBV9   </td><td>TRBJ2-2</td><td>CASLSGTYKYIF    </td><td>09/0018:MegaIFNg</td><td>1</td></tr>\n",
       "\t<tr><th scope=row>9</th><td>SVAL:CASSVALAGANGYTF     </td><td>1</td><td>SVAL     </td><td>4.4e-19</td><td>10</td><td>16</td><td>5.7e-13</td><td>0.0004</td><td>0.001</td><td>0.450</td><td>0.037</td><td>8.6e-05</td><td>motif-SVAL                     </td><td>CASSVaLAGanGYTF    </td><td>CASSVALAGANGYTF    </td><td>TRBV9   </td><td>TRBJ1-2</td><td>CAGPVQGGNKLVF   </td><td>01/0943:MtbLys  </td><td>1</td></tr>\n",
       "\t<tr><th scope=row>10</th><td>SVAL:CASSVALSGTGTQYF     </td><td>1</td><td>SVAL     </td><td>4.4e-19</td><td>10</td><td>16</td><td>5.7e-13</td><td>0.0004</td><td>0.001</td><td>0.450</td><td>0.037</td><td>8.6e-05</td><td>motif-SVAL                     </td><td>CASSValsGTGTQYF    </td><td>CASSVALSGTGTQYF    </td><td>TRBV9   </td><td>TRBJ2-3</td><td>CAGPGGTSYGKLTF  </td><td>01/0943:MtbLys  </td><td>1</td></tr>\n",
       "\t<tr><th scope=row>11</th><td>SVAL:CASSVALAGNTIYF      </td><td>1</td><td>SVAL     </td><td>4.4e-19</td><td>10</td><td>16</td><td>5.7e-13</td><td>0.0004</td><td>0.001</td><td>0.450</td><td>0.037</td><td>8.6e-05</td><td>motif-SVAL                     </td><td>CASSVaLAGNTIYF     </td><td>CASSVALAGNTIYF     </td><td>TRBV9   </td><td>TRBJ1-3</td><td>CAGDLSQGGKLIF   </td><td>09/0328:MtbLys  </td><td>2</td></tr>\n",
       "\t<tr><th scope=row>12</th><td>SVAL:CASSVALAGAEYF       </td><td>1</td><td>SVAL     </td><td>4.4e-19</td><td>10</td><td>16</td><td>5.7e-13</td><td>0.0004</td><td>0.001</td><td>0.450</td><td>0.037</td><td>8.6e-05</td><td>motif-SVAL                     </td><td>CASSVaLAGaeYF      </td><td>CASSVALAGAEYF      </td><td>TRBV9   </td><td>TRBJ2-3</td><td>CAVGGLSGANSKLTF </td><td>01/0873:MegaIL2 </td><td>2</td></tr>\n",
       "\t<tr><th scope=row>13</th><td>SVAL:CASSVALYANEQFF      </td><td>1</td><td>SVAL     </td><td>4.4e-19</td><td>10</td><td>16</td><td>5.7e-13</td><td>0.0004</td><td>0.001</td><td>0.450</td><td>0.037</td><td>8.6e-05</td><td>motif-SVAL                     </td><td>CASSValyaNEQFF     </td><td>CASSVALYANEQFF     </td><td>TRBV9   </td><td>TRBJ2-1</td><td>CAGPTTGYALNF    </td><td>09/0018:MtbLys  </td><td>1</td></tr>\n",
       "\t<tr><th scope=row>14</th><td>SVAL:CASSVALLGGTQYF      </td><td>1</td><td>SVAL     </td><td>4.4e-19</td><td>10</td><td>16</td><td>5.7e-13</td><td>0.0004</td><td>0.001</td><td>0.450</td><td>0.037</td><td>8.6e-05</td><td>motif-SVAL                     </td><td>CASSVallGGTQYF     </td><td>CASSVALLGGTQYF     </td><td>TRBV9   </td><td>TRBJ2-3</td><td>CAGGGIGTSYGKLTF </td><td>09/0671:MtbLys  </td><td>1</td></tr>\n",
       "\t<tr><th scope=row>15</th><td>SVAL:CASSVALFGEGYTF      </td><td>1</td><td>SVAL     </td><td>4.4e-19</td><td>10</td><td>16</td><td>5.7e-13</td><td>0.0004</td><td>0.001</td><td>0.450</td><td>0.037</td><td>8.6e-05</td><td>motif-SVAL                     </td><td>CASSValfgeGYTF     </td><td>CASSVALFGEGYTF     </td><td>TRBV9   </td><td>TRBJ1-2</td><td>CAGPSGTSYGKLTF  </td><td>09/0328:MtbLys  </td><td>1</td></tr>\n",
       "\t<tr><th scope=row>16</th><td>SVAL:CASSVALGGGNIQYF     </td><td>1</td><td>SVAL     </td><td>4.4e-19</td><td>10</td><td>16</td><td>5.7e-13</td><td>0.0004</td><td>0.001</td><td>0.450</td><td>0.037</td><td>8.6e-05</td><td>motif-SVAL                     </td><td>CASSValGGgNIQYF    </td><td>CASSVALGGGNIQYF    </td><td>TRBV9   </td><td>TRBJ2-4</td><td>CAGVGGTSYGKLTF  </td><td>09/0671:MtbLys  </td><td>1</td></tr>\n",
       "\t<tr><th scope=row>17</th><td>SVAL:CASSVALATGEQYF      </td><td>1</td><td>SVAL     </td><td>4.4e-19</td><td>10</td><td>16</td><td>5.7e-13</td><td>0.0004</td><td>0.001</td><td>0.450</td><td>0.037</td><td>8.6e-05</td><td>motif-SVAL                     </td><td>CASSValaTGEQYF     </td><td>CASSVALATGEQYF     </td><td>TRBV9   </td><td>TRBJ2-7</td><td>CAGPTGGSYIPTF   </td><td>03/0492:MegaIL2 </td><td>1</td></tr>\n",
       "\t<tr><th scope=row>18</th><td>GLVL:CASGLVLVTNTGELFF    </td><td>2</td><td>GLVL     </td><td>3.3e-10</td><td> 7</td><td> 8</td><td>2.5e-09</td><td>0.0280</td><td>0.001</td><td>1.000</td><td>0.110</td><td>8.3e-04</td><td>motif-GLVL                     </td><td>CASGLvlvtNTGELFF   </td><td>CASGLVLVTNTGELFF   </td><td>TRBV12-5</td><td>TRBJ2-2</td><td>CIPFYSGSARQLTF  </td><td>09/0717:MtbLys  </td><td>1</td></tr>\n",
       "\t<tr><th scope=row>19</th><td>GLVL:CASGLVLAGGPLEQFF    </td><td>2</td><td>GLVL     </td><td>3.3e-10</td><td> 7</td><td> 8</td><td>2.5e-09</td><td>0.0280</td><td>0.001</td><td>1.000</td><td>0.110</td><td>8.3e-04</td><td>motif-GLVL                     </td><td>CASGLvLAGGplEQFF   </td><td>CASGLVLAGGPLEQFF   </td><td>TRBV12-5</td><td>TRBJ2-1</td><td>CAQAEDTGRRALTF  </td><td>09/0717:MtbLys  </td><td>1</td></tr>\n",
       "\t<tr><th scope=row>20</th><td>GLVL:CASGLVLRPWRDLNNEQFF </td><td>2</td><td>GLVL     </td><td>3.3e-10</td><td> 7</td><td> 8</td><td>2.5e-09</td><td>0.0280</td><td>0.001</td><td>1.000</td><td>0.110</td><td>8.3e-04</td><td>motif-GLVL                     </td><td>CASGLvlrpwrdlnNEQFF</td><td>CASGLVLRPWRDLNNEQFF</td><td>TRBV12-5</td><td>TRBJ2-1</td><td>CAARGETSGSRLTF  </td><td>01/1013:MtbLys  </td><td>1</td></tr>\n",
       "\t<tr><th scope=row>21</th><td>GLVL:CASGLVLGEAVATNEKLFF </td><td>2</td><td>GLVL     </td><td>3.3e-10</td><td> 7</td><td> 8</td><td>2.5e-09</td><td>0.0280</td><td>0.001</td><td>1.000</td><td>0.110</td><td>8.3e-04</td><td>motif-GLVL                     </td><td>CASGLvlgeavaTNEKLFF</td><td>CASGLVLGEAVATNEKLFF</td><td>TRBV12-5</td><td>TRBJ1-4</td><td>CAVRDLDTGRRALTF </td><td>09/0263:MtbLys  </td><td>1</td></tr>\n",
       "\t<tr><th scope=row>22</th><td>GLVL:CASGLVLGREGNQPQHF   </td><td>2</td><td>GLVL     </td><td>3.3e-10</td><td> 7</td><td> 8</td><td>2.5e-09</td><td>0.0280</td><td>0.001</td><td>1.000</td><td>0.110</td><td>8.3e-04</td><td>motif-GLVL                     </td><td>CASGLvlgREgNQPQHF  </td><td>CASGLVLGREGNQPQHF  </td><td>TRBV12-5</td><td>TRBJ1-5</td><td>CAVEDPTDKLIF    </td><td>01/0385:MtbLys  </td><td>1</td></tr>\n",
       "\t<tr><th scope=row>23</th><td>GLVL:CASGLVLGAQTEAFF     </td><td>2</td><td>GLVL     </td><td>3.3e-10</td><td> 7</td><td> 8</td><td>2.5e-09</td><td>0.0280</td><td>0.001</td><td>1.000</td><td>0.110</td><td>8.3e-04</td><td>motif-GLVL                     </td><td>CASGLvlgaqTEAFF    </td><td>CASGLVLGAQTEAFF    </td><td>TRBV12-5</td><td>TRBJ1-1</td><td>CIPYMDTGRRALTF  </td><td>01/0960:MtbLys  </td><td>1</td></tr>\n",
       "\t<tr><th scope=row>24</th><td>GLVL:CASGLVLGQGPTPQHF    </td><td>2</td><td>GLVL     </td><td>3.3e-10</td><td> 7</td><td> 8</td><td>2.5e-09</td><td>0.0280</td><td>0.001</td><td>1.000</td><td>0.110</td><td>8.3e-04</td><td>motif-GLVL                     </td><td>CASGLvlGQGptPQHF   </td><td>CASGLVLGQGPTPQHF   </td><td>TRBV12-5</td><td>TRBJ1-5</td><td>CAENPFTGRRALTF  </td><td>09/0730:MtbLys  </td><td>1</td></tr>\n",
       "\t<tr><th scope=row>25</th><td>GLVL:CASGLVLTGGYNTEAFF   </td><td>2</td><td>GLVL     </td><td>3.3e-10</td><td> 7</td><td> 8</td><td>2.5e-09</td><td>0.0280</td><td>0.001</td><td>1.000</td><td>0.110</td><td>8.3e-04</td><td>motif-GLVL                     </td><td>CASGLvlTGGyNTEAFF  </td><td>CASGLVLTGGYNTEAFF  </td><td>TRBV12-5</td><td>TRBJ1-1</td><td>CATDWDTGRRALTF  </td><td>01/0329:MtbLys  </td><td>1</td></tr>\n",
       "\t<tr><th scope=row>26</th><td>TESN:CASSRGTESNTEAFF     </td><td>3</td><td>TESN     </td><td>3.7e-10</td><td> 4</td><td> 7</td><td>4.7e-13</td><td>0.0210</td><td>0.001</td><td>0.026</td><td>0.001</td><td>8.6e-04</td><td>motif-TESN                     </td><td>CASSRGTesNTEAFF    </td><td>CASSRGTESNTEAFF    </td><td>TRBV5-1 </td><td>TRBJ1-1</td><td>CALRGDTGRRALTF  </td><td>01/0882:MtbLys  </td><td>2</td></tr>\n",
       "\t<tr><th scope=row>27</th><td>TESN:CASSLGTESNQPQHF     </td><td>3</td><td>TESN     </td><td>3.7e-10</td><td> 4</td><td> 7</td><td>4.7e-13</td><td>0.0210</td><td>0.001</td><td>0.026</td><td>0.001</td><td>8.6e-04</td><td>motif-TESN                     </td><td>CASSLGTeSNQPQHF    </td><td>CASSLGTESNQPQHF    </td><td>TRBV7-2 </td><td>TRBJ1-5</td><td>NA              </td><td>03/0480:MtbLys  </td><td>5</td></tr>\n",
       "\t<tr><th scope=row>28</th><td>TESN:CASSSGTESNQPQHF     </td><td>3</td><td>TESN     </td><td>3.7e-10</td><td> 4</td><td> 7</td><td>4.7e-13</td><td>0.0210</td><td>0.001</td><td>0.026</td><td>0.001</td><td>8.6e-04</td><td>motif-TESN                     </td><td>CASSSGTeSNQPQHF    </td><td>CASSSGTESNQPQHF    </td><td>TRBV7-2 </td><td>TRBJ1-5</td><td>NA              </td><td>01/0873:MtbLys  </td><td>1</td></tr>\n",
       "\t<tr><th scope=row>29</th><td>TESN:CASSPGTESNSPLHF     </td><td>3</td><td>TESN     </td><td>3.7e-10</td><td> 4</td><td> 7</td><td>4.7e-13</td><td>0.0210</td><td>0.001</td><td>0.026</td><td>0.001</td><td>8.6e-04</td><td>motif-TESN                     </td><td>CASSPGTesNSPLHF    </td><td>CASSPGTESNSPLHF    </td><td>TRBV7-2 </td><td>TRBJ1-6</td><td>NA              </td><td>03/0480:MtbLys  </td><td>1</td></tr>\n",
       "\t<tr><th scope=row>30</th><td>TESN:CASTGGTESNQPQHF     </td><td>3</td><td>TESN     </td><td>3.7e-10</td><td> 4</td><td> 7</td><td>4.7e-13</td><td>0.0210</td><td>0.001</td><td>0.026</td><td>0.001</td><td>8.6e-04</td><td>motif-TESN                     </td><td>CASTgGTeSNQPQHF    </td><td>CASTGGTESNQPQHF    </td><td>TRBV6-1 </td><td>TRBJ1-5</td><td>CALVYSGGYQKVTF  </td><td>03/0480:MtbLys  </td><td>2</td></tr>\n",
       "\t<tr><th scope=row>31</th><td>TESN:CASSPGTESNQPQHF     </td><td>3</td><td>TESN     </td><td>3.7e-10</td><td> 4</td><td> 7</td><td>4.7e-13</td><td>0.0210</td><td>0.001</td><td>0.026</td><td>0.001</td><td>8.6e-04</td><td>motif-TESN                     </td><td>CASSPGTeSNQPQHF    </td><td>CASSPGTESNQPQHF    </td><td>TRBV7-2 </td><td>TRBJ1-5</td><td>CALMNSGGYQKVTF  </td><td>03/0480:MtbLys  </td><td>2</td></tr>\n",
       "\t<tr><th scope=row>32</th><td>TESN:CASSPGTESNQPQHF     </td><td>3</td><td>TESN     </td><td>3.7e-10</td><td> 4</td><td> 7</td><td>4.7e-13</td><td>0.0210</td><td>0.001</td><td>0.026</td><td>0.001</td><td>8.6e-04</td><td>motif-TESN                     </td><td>CASSPGTeSNQPQHF    </td><td>CASSPGTESNQPQHF    </td><td>TRBV7-2 </td><td>TRBJ1-5</td><td>NA              </td><td>09/0671:MtbLys  </td><td>1</td></tr>\n",
       "\t<tr><th scope=row>33</th><td>TESN:CASSFGTESNQPQHF     </td><td>3</td><td>TESN     </td><td>3.7e-10</td><td> 4</td><td> 7</td><td>4.7e-13</td><td>0.0210</td><td>0.001</td><td>0.026</td><td>0.001</td><td>8.6e-04</td><td>motif-TESN                     </td><td>CASSfGTeSNQPQHF    </td><td>CASSFGTESNQPQHF    </td><td>TRBV7-2 </td><td>TRBJ1-5</td><td>CALILSGGYQKVTF  </td><td>03/0480:MtbLys  </td><td>3</td></tr>\n",
       "\t<tr><th scope=row>34</th><td>EEPR:CSVEEPRGQPQHF       </td><td>4</td><td>EEPR     </td><td>1.0e-08</td><td> 2</td><td> 5</td><td>2.5e-12</td><td>0.0036</td><td>0.001</td><td>0.480</td><td>0.001</td><td>1.5e-03</td><td>motif-EEPR                     </td><td>CSVEepRGQPQHF      </td><td>CSVEEPRGQPQHF      </td><td>TRBV29-1</td><td>TRBJ1-5</td><td>CAVIEAAGNKLTF   </td><td>09/0730:MtbLys  </td><td>1</td></tr>\n",
       "\t<tr><th scope=row>35</th><td>EEPR:CSVEEPRHTEAFF       </td><td>4</td><td>EEPR     </td><td>1.0e-08</td><td> 2</td><td> 5</td><td>2.5e-12</td><td>0.0036</td><td>0.001</td><td>0.480</td><td>0.001</td><td>1.5e-03</td><td>motif-EEPR                     </td><td>CSVEeprhTEAFF      </td><td>CSVEEPRHTEAFF      </td><td>TRBV29-1</td><td>TRBJ1-1</td><td>CAVRPNYGQNFVF   </td><td>09/0730:MtbLys  </td><td>1</td></tr>\n",
       "\t<tr><th scope=row>36</th><td>EEPR:CSVEEPRGTAFF        </td><td>4</td><td>EEPR     </td><td>1.0e-08</td><td> 2</td><td> 5</td><td>2.5e-12</td><td>0.0036</td><td>0.001</td><td>0.480</td><td>0.001</td><td>1.5e-03</td><td>motif-EEPR                     </td><td>CSVEepRGtAFF       </td><td>CSVEEPRGTAFF       </td><td>TRBV29-1</td><td>TRBJ1-1</td><td>NA              </td><td>03/0493:MtbLys  </td><td>1</td></tr>\n",
       "\t<tr><th scope=row>37</th><td>EEPR:CSVEEPRNTIYF        </td><td>4</td><td>EEPR     </td><td>1.0e-08</td><td> 2</td><td> 5</td><td>2.5e-12</td><td>0.0036</td><td>0.001</td><td>0.480</td><td>0.001</td><td>1.5e-03</td><td>motif-EEPR                     </td><td>CSVEeprNTIYF       </td><td>CSVEEPRNTIYF       </td><td>TRBV29-1</td><td>TRBJ1-3</td><td>CAVRLTGNQFYF    </td><td>03/0493:MtbLys  </td><td>2</td></tr>\n",
       "\t<tr><th scope=row>38</th><td>EEPR:CSVEEPRQTEQFF       </td><td>4</td><td>EEPR     </td><td>1.0e-08</td><td> 2</td><td> 5</td><td>2.5e-12</td><td>0.0036</td><td>0.001</td><td>0.480</td><td>0.001</td><td>1.5e-03</td><td>motif-EEPR                     </td><td>CSVEeprqtEQFF      </td><td>CSVEEPRQTEQFF      </td><td>TRBV29-1</td><td>TRBJ2-1</td><td>CEGGFNKFYF      </td><td>03/0493:MtbLys  </td><td>1</td></tr>\n",
       "\t<tr><th scope=row>39</th><td>SQFL:CASSQFLDPLYTF       </td><td>5</td><td>SQFL     </td><td>1.7e-08</td><td> 3</td><td> 4</td><td>1.6e-07</td><td>0.0360</td><td>0.010</td><td>1.000</td><td>0.190</td><td>2.3e-03</td><td>motif-QFL motif-SQFL           </td><td>CASSQfldplYTF      </td><td>CASSQFLDPLYTF      </td><td>TRBV3-1 </td><td>TRBJ1-2</td><td>CAVTSNTNAGKSTF  </td><td>03/0302:MtbLys  </td><td>1</td></tr>\n",
       "\t<tr><th scope=row>40</th><td>SQFL:CASSQFLGDEQFF       </td><td>5</td><td>SQFL     </td><td>1.7e-08</td><td> 3</td><td> 4</td><td>1.6e-07</td><td>0.0360</td><td>0.010</td><td>1.000</td><td>0.190</td><td>2.3e-03</td><td>motif-QFL motif-SQFL           </td><td>CASSQflgdEQFF      </td><td>CASSQFLGDEQFF      </td><td>TRBV3-1 </td><td>TRBJ2-1</td><td>CAALPGIQGGKLIF  </td><td>09/0334:MtbLys  </td><td>1</td></tr>\n",
       "\t<tr><th scope=row>41</th><td>SQFL:CASSQFLAAQTQYF      </td><td>5</td><td>SQFL     </td><td>1.7e-08</td><td> 3</td><td> 4</td><td>1.6e-07</td><td>0.0360</td><td>0.010</td><td>1.000</td><td>0.190</td><td>2.3e-03</td><td>motif-QFL motif-SQFL           </td><td>CASSQfLAaqTQYF     </td><td>CASSQFLAAQTQYF     </td><td>TRBV3-1 </td><td>TRBJ2-3</td><td>NA              </td><td>03/0302:MtbLys  </td><td>1</td></tr>\n",
       "\t<tr><th scope=row>42</th><td>SQFL:CASSQFLIAGTNTEAFF   </td><td>5</td><td>SQFL     </td><td>1.7e-08</td><td> 3</td><td> 4</td><td>1.6e-07</td><td>0.0360</td><td>0.010</td><td>1.000</td><td>0.190</td><td>2.3e-03</td><td>motif-QFL motif-SQFL           </td><td>CASSQfliaGTNTEAFF  </td><td>CASSQFLIAGTNTEAFF  </td><td>TRBV14  </td><td>TRBJ1-1</td><td>CIPLSYNTDKLIF   </td><td>09/0531:MtbLys  </td><td>1</td></tr>\n",
       "\t<tr><th scope=row>43</th><td>S%GTESNQP:CASSLGTESNQPQHF</td><td>6</td><td>S%GTESNQP</td><td>2.0e-08</td><td> 3</td><td> 4</td><td>6.2e-13</td><td>0.0110</td><td>0.001</td><td>0.025</td><td>0.001</td><td>2.3e-03</td><td>motif-TESN global-S%GTESNQP    </td><td>CASSLGTeSNQPQHF    </td><td>CASSLGTESNQPQHF    </td><td>TRBV7-2 </td><td>TRBJ1-5</td><td>NA              </td><td>03/0480:MtbLys  </td><td>5</td></tr>\n",
       "\t<tr><th scope=row>44</th><td>S%GTESNQP:CASSSGTESNQPQHF</td><td>6</td><td>S%GTESNQP</td><td>2.0e-08</td><td> 3</td><td> 4</td><td>6.2e-13</td><td>0.0110</td><td>0.001</td><td>0.025</td><td>0.001</td><td>2.3e-03</td><td>motif-TESN global-S%GTESNQP    </td><td>CASSSGTeSNQPQHF    </td><td>CASSSGTESNQPQHF    </td><td>TRBV7-2 </td><td>TRBJ1-5</td><td>NA              </td><td>01/0873:MtbLys  </td><td>1</td></tr>\n",
       "\t<tr><th scope=row>45</th><td>S%GTESNQP:CASSPGTESNQPQHF</td><td>6</td><td>S%GTESNQP</td><td>2.0e-08</td><td> 3</td><td> 4</td><td>6.2e-13</td><td>0.0110</td><td>0.001</td><td>0.025</td><td>0.001</td><td>2.3e-03</td><td>motif-TESN global-S%GTESNQP    </td><td>CASSPGTeSNQPQHF    </td><td>CASSPGTESNQPQHF    </td><td>TRBV7-2 </td><td>TRBJ1-5</td><td>CALMNSGGYQKVTF  </td><td>03/0480:MtbLys  </td><td>2</td></tr>\n",
       "\t<tr><th scope=row>46</th><td>S%GTESNQP:CASSPGTESNQPQHF</td><td>6</td><td>S%GTESNQP</td><td>2.0e-08</td><td> 3</td><td> 4</td><td>6.2e-13</td><td>0.0110</td><td>0.001</td><td>0.025</td><td>0.001</td><td>2.3e-03</td><td>motif-TESN global-S%GTESNQP    </td><td>CASSPGTeSNQPQHF    </td><td>CASSPGTESNQPQHF    </td><td>TRBV7-2 </td><td>TRBJ1-5</td><td>NA              </td><td>09/0671:MtbLys  </td><td>1</td></tr>\n",
       "\t<tr><th scope=row>47</th><td>S%GTESNQP:CASSFGTESNQPQHF</td><td>6</td><td>S%GTESNQP</td><td>2.0e-08</td><td> 3</td><td> 4</td><td>6.2e-13</td><td>0.0110</td><td>0.001</td><td>0.025</td><td>0.001</td><td>2.3e-03</td><td>motif-TESN global-S%GTESNQP    </td><td>CASSfGTeSNQPQHF    </td><td>CASSFGTESNQPQHF    </td><td>TRBV7-2 </td><td>TRBJ1-5</td><td>CALILSGGYQKVTF  </td><td>03/0480:MtbLys  </td><td>3</td></tr>\n",
       "\t<tr><th scope=row>48</th><td>QFIG:CASSQFIGDTDQSDTQYF  </td><td>7</td><td>QFIG     </td><td>3.1e-08</td><td> 3</td><td> 3</td><td>1.0e-08</td><td>0.0370</td><td>0.001</td><td>0.210</td><td>0.220</td><td>6.2e-03</td><td>motif-QFI motif-SQFI motif-QFIG</td><td>CASSQfigdtdqsDTQYF </td><td>CASSQFIGDTDQSDTQYF </td><td>TRBV4-3 </td><td>TRBJ2-3</td><td>NA              </td><td>01/0873:MtbLys  </td><td>2</td></tr>\n",
       "\t<tr><th scope=row>49</th><td>QFIG:CASSQFIGDTDQSDTQYF  </td><td>7</td><td>QFIG     </td><td>3.1e-08</td><td> 3</td><td> 3</td><td>1.0e-08</td><td>0.0370</td><td>0.001</td><td>0.210</td><td>0.220</td><td>6.2e-03</td><td>motif-QFI motif-SQFI motif-QFIG</td><td>CASSQfigdtdqsDTQYF </td><td>CASSQFIGDTDQSDTQYF </td><td>TRBV4-3 </td><td>TRBJ2-3</td><td>CVVNDWAGRRALTF  </td><td>01/0873:MegaIFNg</td><td>1</td></tr>\n",
       "\t<tr><th scope=row>50</th><td>QFIG:CASSQFIGGEYEQYF     </td><td>7</td><td>QFIG     </td><td>3.1e-08</td><td> 3</td><td> 3</td><td>1.0e-08</td><td>0.0370</td><td>0.001</td><td>0.210</td><td>0.220</td><td>6.2e-03</td><td>motif-QFI motif-SQFI motif-QFIG</td><td>CASSQfiGGeYEQYF    </td><td>CASSQFIGGEYEQYF    </td><td>TRBV3-1 </td><td>TRBJ2-7</td><td>CAVSGNRGSTLGRLYF</td><td>09/0334:MtbLys  </td><td>2</td></tr>\n",
       "</tbody>\n",
       "</table>\n"
      ],
      "text/latex": [
       "A data.frame: 50 × 20\n",
       "\\begin{tabular}{r|llllllllllllllllllll}\n",
       "  & xx & index & pattern & Fisher\\_score & number\\_subject & number\\_unique\\_cdr3 & final\\_score & hla\\_score & vb\\_score & expansion\\_score & length\\_score & cluster\\_size\\_score & type & ulTcRb & TcRb & V & J & TcRa & Sample & Freq\\\\\n",
       "  & <chr> & <int> & <chr> & <dbl> & <int> & <int> & <dbl> & <dbl> & <dbl> & <dbl> & <dbl> & <dbl> & <chr> & <chr> & <chr> & <chr> & <chr> & <chr> & <chr> & <dbl>\\\\\n",
       "\\hline\n",
       "\t1 & SVAL:CASSVALASGANVLTF     & 1 & SVAL      & 4.4e-19 & 10 & 16 & 5.7e-13 & 0.0004 & 0.001 & 0.450 & 0.037 & 8.6e-05 & motif-SVAL                      & CASSVaLASGANVLTF    & CASSVALASGANVLTF    & TRBV9    & TRBJ2-6 & CAGAGGGGFKTIF    & 02/0152:MegaIL2  & 2\\\\\n",
       "\t2 & SVAL:CASSVALSNYGYTF       & 1 & SVAL      & 4.4e-19 & 10 & 16 & 5.7e-13 & 0.0004 & 0.001 & 0.450 & 0.037 & 8.6e-05 & motif-SVAL                      & CASSValsNYGYTF      & CASSVALSNYGYTF      & TRBV9    & TRBJ1-2 & CAVVASGGSYIPTF   & 01/1013:MtbLys   & 2\\\\\n",
       "\t3 & SVAL:CASSVALYGQSVTF       & 1 & SVAL      & 4.4e-19 & 10 & 16 & 5.7e-13 & 0.0004 & 0.001 & 0.450 & 0.037 & 8.6e-05 & motif-SVAL                      & CASSValyGQsvTF      & CASSVALYGQSVTF      & TRBV9    & TRBJ1-2 & CAAFSGTYKYIF     & 09/0328:MtbLys   & 1\\\\\n",
       "\t4 & SVAL:CASSVALLAGTQYF       & 1 & SVAL      & 4.4e-19 & 10 & 16 & 5.7e-13 & 0.0004 & 0.001 & 0.450 & 0.037 & 8.6e-05 & motif-SVAL                      & CASSValLAGTQYF      & CASSVALLAGTQYF      & TRBV9    & TRBJ2-3 & CAGPGGTSYGKLTF   & 09/0671:MtbLys   & 1\\\\\n",
       "\t5 & SVAL:CASSVALGAGGGYTF      & 1 & SVAL      & 4.4e-19 & 10 & 16 & 5.7e-13 & 0.0004 & 0.001 & 0.450 & 0.037 & 8.6e-05 & motif-SVAL                      & CASSValgAGGGYTF     & CASSVALGAGGGYTF     & TRBV9    & TRBJ1-2 & CAGPSGGSYIPTF    & 09/0328:MtbLys   & 1\\\\\n",
       "\t6 & SVAL:CASSVALLGETQYF       & 1 & SVAL      & 4.4e-19 & 10 & 16 & 5.7e-13 & 0.0004 & 0.001 & 0.450 & 0.037 & 8.6e-05 & motif-SVAL                      & CASSVallgETQYF      & CASSVALLGETQYF      & TRBV9    & TRBJ2-5 & CAGAPTGNQFYF     & 09/0772:MtbLys   & 1\\\\\n",
       "\t7 & SVAL:CASSVALLGETQYF       & 1 & SVAL      & 4.4e-19 & 10 & 16 & 5.7e-13 & 0.0004 & 0.001 & 0.450 & 0.037 & 8.6e-05 & motif-SVAL                      & CASSVallgETQYF      & CASSVALLGETQYF      & TRBV9    & TRBJ2-5 & CAGTGGTSYGKLTF   & 09/0531:MtbLys   & 1\\\\\n",
       "\t8 & SVAL:CASSVALMGGELFF       & 1 & SVAL      & 4.4e-19 & 10 & 16 & 5.7e-13 & 0.0004 & 0.001 & 0.450 & 0.037 & 8.6e-05 & motif-SVAL                      & CASSValmgGELFF      & CASSVALMGGELFF      & TRBV9    & TRBJ2-2 & CASLSGTYKYIF     & 09/0018:MegaIFNg & 1\\\\\n",
       "\t9 & SVAL:CASSVALAGANGYTF      & 1 & SVAL      & 4.4e-19 & 10 & 16 & 5.7e-13 & 0.0004 & 0.001 & 0.450 & 0.037 & 8.6e-05 & motif-SVAL                      & CASSVaLAGanGYTF     & CASSVALAGANGYTF     & TRBV9    & TRBJ1-2 & CAGPVQGGNKLVF    & 01/0943:MtbLys   & 1\\\\\n",
       "\t10 & SVAL:CASSVALSGTGTQYF      & 1 & SVAL      & 4.4e-19 & 10 & 16 & 5.7e-13 & 0.0004 & 0.001 & 0.450 & 0.037 & 8.6e-05 & motif-SVAL                      & CASSValsGTGTQYF     & CASSVALSGTGTQYF     & TRBV9    & TRBJ2-3 & CAGPGGTSYGKLTF   & 01/0943:MtbLys   & 1\\\\\n",
       "\t11 & SVAL:CASSVALAGNTIYF       & 1 & SVAL      & 4.4e-19 & 10 & 16 & 5.7e-13 & 0.0004 & 0.001 & 0.450 & 0.037 & 8.6e-05 & motif-SVAL                      & CASSVaLAGNTIYF      & CASSVALAGNTIYF      & TRBV9    & TRBJ1-3 & CAGDLSQGGKLIF    & 09/0328:MtbLys   & 2\\\\\n",
       "\t12 & SVAL:CASSVALAGAEYF        & 1 & SVAL      & 4.4e-19 & 10 & 16 & 5.7e-13 & 0.0004 & 0.001 & 0.450 & 0.037 & 8.6e-05 & motif-SVAL                      & CASSVaLAGaeYF       & CASSVALAGAEYF       & TRBV9    & TRBJ2-3 & CAVGGLSGANSKLTF  & 01/0873:MegaIL2  & 2\\\\\n",
       "\t13 & SVAL:CASSVALYANEQFF       & 1 & SVAL      & 4.4e-19 & 10 & 16 & 5.7e-13 & 0.0004 & 0.001 & 0.450 & 0.037 & 8.6e-05 & motif-SVAL                      & CASSValyaNEQFF      & CASSVALYANEQFF      & TRBV9    & TRBJ2-1 & CAGPTTGYALNF     & 09/0018:MtbLys   & 1\\\\\n",
       "\t14 & SVAL:CASSVALLGGTQYF       & 1 & SVAL      & 4.4e-19 & 10 & 16 & 5.7e-13 & 0.0004 & 0.001 & 0.450 & 0.037 & 8.6e-05 & motif-SVAL                      & CASSVallGGTQYF      & CASSVALLGGTQYF      & TRBV9    & TRBJ2-3 & CAGGGIGTSYGKLTF  & 09/0671:MtbLys   & 1\\\\\n",
       "\t15 & SVAL:CASSVALFGEGYTF       & 1 & SVAL      & 4.4e-19 & 10 & 16 & 5.7e-13 & 0.0004 & 0.001 & 0.450 & 0.037 & 8.6e-05 & motif-SVAL                      & CASSValfgeGYTF      & CASSVALFGEGYTF      & TRBV9    & TRBJ1-2 & CAGPSGTSYGKLTF   & 09/0328:MtbLys   & 1\\\\\n",
       "\t16 & SVAL:CASSVALGGGNIQYF      & 1 & SVAL      & 4.4e-19 & 10 & 16 & 5.7e-13 & 0.0004 & 0.001 & 0.450 & 0.037 & 8.6e-05 & motif-SVAL                      & CASSValGGgNIQYF     & CASSVALGGGNIQYF     & TRBV9    & TRBJ2-4 & CAGVGGTSYGKLTF   & 09/0671:MtbLys   & 1\\\\\n",
       "\t17 & SVAL:CASSVALATGEQYF       & 1 & SVAL      & 4.4e-19 & 10 & 16 & 5.7e-13 & 0.0004 & 0.001 & 0.450 & 0.037 & 8.6e-05 & motif-SVAL                      & CASSValaTGEQYF      & CASSVALATGEQYF      & TRBV9    & TRBJ2-7 & CAGPTGGSYIPTF    & 03/0492:MegaIL2  & 1\\\\\n",
       "\t18 & GLVL:CASGLVLVTNTGELFF     & 2 & GLVL      & 3.3e-10 &  7 &  8 & 2.5e-09 & 0.0280 & 0.001 & 1.000 & 0.110 & 8.3e-04 & motif-GLVL                      & CASGLvlvtNTGELFF    & CASGLVLVTNTGELFF    & TRBV12-5 & TRBJ2-2 & CIPFYSGSARQLTF   & 09/0717:MtbLys   & 1\\\\\n",
       "\t19 & GLVL:CASGLVLAGGPLEQFF     & 2 & GLVL      & 3.3e-10 &  7 &  8 & 2.5e-09 & 0.0280 & 0.001 & 1.000 & 0.110 & 8.3e-04 & motif-GLVL                      & CASGLvLAGGplEQFF    & CASGLVLAGGPLEQFF    & TRBV12-5 & TRBJ2-1 & CAQAEDTGRRALTF   & 09/0717:MtbLys   & 1\\\\\n",
       "\t20 & GLVL:CASGLVLRPWRDLNNEQFF  & 2 & GLVL      & 3.3e-10 &  7 &  8 & 2.5e-09 & 0.0280 & 0.001 & 1.000 & 0.110 & 8.3e-04 & motif-GLVL                      & CASGLvlrpwrdlnNEQFF & CASGLVLRPWRDLNNEQFF & TRBV12-5 & TRBJ2-1 & CAARGETSGSRLTF   & 01/1013:MtbLys   & 1\\\\\n",
       "\t21 & GLVL:CASGLVLGEAVATNEKLFF  & 2 & GLVL      & 3.3e-10 &  7 &  8 & 2.5e-09 & 0.0280 & 0.001 & 1.000 & 0.110 & 8.3e-04 & motif-GLVL                      & CASGLvlgeavaTNEKLFF & CASGLVLGEAVATNEKLFF & TRBV12-5 & TRBJ1-4 & CAVRDLDTGRRALTF  & 09/0263:MtbLys   & 1\\\\\n",
       "\t22 & GLVL:CASGLVLGREGNQPQHF    & 2 & GLVL      & 3.3e-10 &  7 &  8 & 2.5e-09 & 0.0280 & 0.001 & 1.000 & 0.110 & 8.3e-04 & motif-GLVL                      & CASGLvlgREgNQPQHF   & CASGLVLGREGNQPQHF   & TRBV12-5 & TRBJ1-5 & CAVEDPTDKLIF     & 01/0385:MtbLys   & 1\\\\\n",
       "\t23 & GLVL:CASGLVLGAQTEAFF      & 2 & GLVL      & 3.3e-10 &  7 &  8 & 2.5e-09 & 0.0280 & 0.001 & 1.000 & 0.110 & 8.3e-04 & motif-GLVL                      & CASGLvlgaqTEAFF     & CASGLVLGAQTEAFF     & TRBV12-5 & TRBJ1-1 & CIPYMDTGRRALTF   & 01/0960:MtbLys   & 1\\\\\n",
       "\t24 & GLVL:CASGLVLGQGPTPQHF     & 2 & GLVL      & 3.3e-10 &  7 &  8 & 2.5e-09 & 0.0280 & 0.001 & 1.000 & 0.110 & 8.3e-04 & motif-GLVL                      & CASGLvlGQGptPQHF    & CASGLVLGQGPTPQHF    & TRBV12-5 & TRBJ1-5 & CAENPFTGRRALTF   & 09/0730:MtbLys   & 1\\\\\n",
       "\t25 & GLVL:CASGLVLTGGYNTEAFF    & 2 & GLVL      & 3.3e-10 &  7 &  8 & 2.5e-09 & 0.0280 & 0.001 & 1.000 & 0.110 & 8.3e-04 & motif-GLVL                      & CASGLvlTGGyNTEAFF   & CASGLVLTGGYNTEAFF   & TRBV12-5 & TRBJ1-1 & CATDWDTGRRALTF   & 01/0329:MtbLys   & 1\\\\\n",
       "\t26 & TESN:CASSRGTESNTEAFF      & 3 & TESN      & 3.7e-10 &  4 &  7 & 4.7e-13 & 0.0210 & 0.001 & 0.026 & 0.001 & 8.6e-04 & motif-TESN                      & CASSRGTesNTEAFF     & CASSRGTESNTEAFF     & TRBV5-1  & TRBJ1-1 & CALRGDTGRRALTF   & 01/0882:MtbLys   & 2\\\\\n",
       "\t27 & TESN:CASSLGTESNQPQHF      & 3 & TESN      & 3.7e-10 &  4 &  7 & 4.7e-13 & 0.0210 & 0.001 & 0.026 & 0.001 & 8.6e-04 & motif-TESN                      & CASSLGTeSNQPQHF     & CASSLGTESNQPQHF     & TRBV7-2  & TRBJ1-5 & NA               & 03/0480:MtbLys   & 5\\\\\n",
       "\t28 & TESN:CASSSGTESNQPQHF      & 3 & TESN      & 3.7e-10 &  4 &  7 & 4.7e-13 & 0.0210 & 0.001 & 0.026 & 0.001 & 8.6e-04 & motif-TESN                      & CASSSGTeSNQPQHF     & CASSSGTESNQPQHF     & TRBV7-2  & TRBJ1-5 & NA               & 01/0873:MtbLys   & 1\\\\\n",
       "\t29 & TESN:CASSPGTESNSPLHF      & 3 & TESN      & 3.7e-10 &  4 &  7 & 4.7e-13 & 0.0210 & 0.001 & 0.026 & 0.001 & 8.6e-04 & motif-TESN                      & CASSPGTesNSPLHF     & CASSPGTESNSPLHF     & TRBV7-2  & TRBJ1-6 & NA               & 03/0480:MtbLys   & 1\\\\\n",
       "\t30 & TESN:CASTGGTESNQPQHF      & 3 & TESN      & 3.7e-10 &  4 &  7 & 4.7e-13 & 0.0210 & 0.001 & 0.026 & 0.001 & 8.6e-04 & motif-TESN                      & CASTgGTeSNQPQHF     & CASTGGTESNQPQHF     & TRBV6-1  & TRBJ1-5 & CALVYSGGYQKVTF   & 03/0480:MtbLys   & 2\\\\\n",
       "\t31 & TESN:CASSPGTESNQPQHF      & 3 & TESN      & 3.7e-10 &  4 &  7 & 4.7e-13 & 0.0210 & 0.001 & 0.026 & 0.001 & 8.6e-04 & motif-TESN                      & CASSPGTeSNQPQHF     & CASSPGTESNQPQHF     & TRBV7-2  & TRBJ1-5 & CALMNSGGYQKVTF   & 03/0480:MtbLys   & 2\\\\\n",
       "\t32 & TESN:CASSPGTESNQPQHF      & 3 & TESN      & 3.7e-10 &  4 &  7 & 4.7e-13 & 0.0210 & 0.001 & 0.026 & 0.001 & 8.6e-04 & motif-TESN                      & CASSPGTeSNQPQHF     & CASSPGTESNQPQHF     & TRBV7-2  & TRBJ1-5 & NA               & 09/0671:MtbLys   & 1\\\\\n",
       "\t33 & TESN:CASSFGTESNQPQHF      & 3 & TESN      & 3.7e-10 &  4 &  7 & 4.7e-13 & 0.0210 & 0.001 & 0.026 & 0.001 & 8.6e-04 & motif-TESN                      & CASSfGTeSNQPQHF     & CASSFGTESNQPQHF     & TRBV7-2  & TRBJ1-5 & CALILSGGYQKVTF   & 03/0480:MtbLys   & 3\\\\\n",
       "\t34 & EEPR:CSVEEPRGQPQHF        & 4 & EEPR      & 1.0e-08 &  2 &  5 & 2.5e-12 & 0.0036 & 0.001 & 0.480 & 0.001 & 1.5e-03 & motif-EEPR                      & CSVEepRGQPQHF       & CSVEEPRGQPQHF       & TRBV29-1 & TRBJ1-5 & CAVIEAAGNKLTF    & 09/0730:MtbLys   & 1\\\\\n",
       "\t35 & EEPR:CSVEEPRHTEAFF        & 4 & EEPR      & 1.0e-08 &  2 &  5 & 2.5e-12 & 0.0036 & 0.001 & 0.480 & 0.001 & 1.5e-03 & motif-EEPR                      & CSVEeprhTEAFF       & CSVEEPRHTEAFF       & TRBV29-1 & TRBJ1-1 & CAVRPNYGQNFVF    & 09/0730:MtbLys   & 1\\\\\n",
       "\t36 & EEPR:CSVEEPRGTAFF         & 4 & EEPR      & 1.0e-08 &  2 &  5 & 2.5e-12 & 0.0036 & 0.001 & 0.480 & 0.001 & 1.5e-03 & motif-EEPR                      & CSVEepRGtAFF        & CSVEEPRGTAFF        & TRBV29-1 & TRBJ1-1 & NA               & 03/0493:MtbLys   & 1\\\\\n",
       "\t37 & EEPR:CSVEEPRNTIYF         & 4 & EEPR      & 1.0e-08 &  2 &  5 & 2.5e-12 & 0.0036 & 0.001 & 0.480 & 0.001 & 1.5e-03 & motif-EEPR                      & CSVEeprNTIYF        & CSVEEPRNTIYF        & TRBV29-1 & TRBJ1-3 & CAVRLTGNQFYF     & 03/0493:MtbLys   & 2\\\\\n",
       "\t38 & EEPR:CSVEEPRQTEQFF        & 4 & EEPR      & 1.0e-08 &  2 &  5 & 2.5e-12 & 0.0036 & 0.001 & 0.480 & 0.001 & 1.5e-03 & motif-EEPR                      & CSVEeprqtEQFF       & CSVEEPRQTEQFF       & TRBV29-1 & TRBJ2-1 & CEGGFNKFYF       & 03/0493:MtbLys   & 1\\\\\n",
       "\t39 & SQFL:CASSQFLDPLYTF        & 5 & SQFL      & 1.7e-08 &  3 &  4 & 1.6e-07 & 0.0360 & 0.010 & 1.000 & 0.190 & 2.3e-03 & motif-QFL motif-SQFL            & CASSQfldplYTF       & CASSQFLDPLYTF       & TRBV3-1  & TRBJ1-2 & CAVTSNTNAGKSTF   & 03/0302:MtbLys   & 1\\\\\n",
       "\t40 & SQFL:CASSQFLGDEQFF        & 5 & SQFL      & 1.7e-08 &  3 &  4 & 1.6e-07 & 0.0360 & 0.010 & 1.000 & 0.190 & 2.3e-03 & motif-QFL motif-SQFL            & CASSQflgdEQFF       & CASSQFLGDEQFF       & TRBV3-1  & TRBJ2-1 & CAALPGIQGGKLIF   & 09/0334:MtbLys   & 1\\\\\n",
       "\t41 & SQFL:CASSQFLAAQTQYF       & 5 & SQFL      & 1.7e-08 &  3 &  4 & 1.6e-07 & 0.0360 & 0.010 & 1.000 & 0.190 & 2.3e-03 & motif-QFL motif-SQFL            & CASSQfLAaqTQYF      & CASSQFLAAQTQYF      & TRBV3-1  & TRBJ2-3 & NA               & 03/0302:MtbLys   & 1\\\\\n",
       "\t42 & SQFL:CASSQFLIAGTNTEAFF    & 5 & SQFL      & 1.7e-08 &  3 &  4 & 1.6e-07 & 0.0360 & 0.010 & 1.000 & 0.190 & 2.3e-03 & motif-QFL motif-SQFL            & CASSQfliaGTNTEAFF   & CASSQFLIAGTNTEAFF   & TRBV14   & TRBJ1-1 & CIPLSYNTDKLIF    & 09/0531:MtbLys   & 1\\\\\n",
       "\t43 & S\\%GTESNQP:CASSLGTESNQPQHF & 6 & S\\%GTESNQP & 2.0e-08 &  3 &  4 & 6.2e-13 & 0.0110 & 0.001 & 0.025 & 0.001 & 2.3e-03 & motif-TESN global-S\\%GTESNQP     & CASSLGTeSNQPQHF     & CASSLGTESNQPQHF     & TRBV7-2  & TRBJ1-5 & NA               & 03/0480:MtbLys   & 5\\\\\n",
       "\t44 & S\\%GTESNQP:CASSSGTESNQPQHF & 6 & S\\%GTESNQP & 2.0e-08 &  3 &  4 & 6.2e-13 & 0.0110 & 0.001 & 0.025 & 0.001 & 2.3e-03 & motif-TESN global-S\\%GTESNQP     & CASSSGTeSNQPQHF     & CASSSGTESNQPQHF     & TRBV7-2  & TRBJ1-5 & NA               & 01/0873:MtbLys   & 1\\\\\n",
       "\t45 & S\\%GTESNQP:CASSPGTESNQPQHF & 6 & S\\%GTESNQP & 2.0e-08 &  3 &  4 & 6.2e-13 & 0.0110 & 0.001 & 0.025 & 0.001 & 2.3e-03 & motif-TESN global-S\\%GTESNQP     & CASSPGTeSNQPQHF     & CASSPGTESNQPQHF     & TRBV7-2  & TRBJ1-5 & CALMNSGGYQKVTF   & 03/0480:MtbLys   & 2\\\\\n",
       "\t46 & S\\%GTESNQP:CASSPGTESNQPQHF & 6 & S\\%GTESNQP & 2.0e-08 &  3 &  4 & 6.2e-13 & 0.0110 & 0.001 & 0.025 & 0.001 & 2.3e-03 & motif-TESN global-S\\%GTESNQP     & CASSPGTeSNQPQHF     & CASSPGTESNQPQHF     & TRBV7-2  & TRBJ1-5 & NA               & 09/0671:MtbLys   & 1\\\\\n",
       "\t47 & S\\%GTESNQP:CASSFGTESNQPQHF & 6 & S\\%GTESNQP & 2.0e-08 &  3 &  4 & 6.2e-13 & 0.0110 & 0.001 & 0.025 & 0.001 & 2.3e-03 & motif-TESN global-S\\%GTESNQP     & CASSfGTeSNQPQHF     & CASSFGTESNQPQHF     & TRBV7-2  & TRBJ1-5 & CALILSGGYQKVTF   & 03/0480:MtbLys   & 3\\\\\n",
       "\t48 & QFIG:CASSQFIGDTDQSDTQYF   & 7 & QFIG      & 3.1e-08 &  3 &  3 & 1.0e-08 & 0.0370 & 0.001 & 0.210 & 0.220 & 6.2e-03 & motif-QFI motif-SQFI motif-QFIG & CASSQfigdtdqsDTQYF  & CASSQFIGDTDQSDTQYF  & TRBV4-3  & TRBJ2-3 & NA               & 01/0873:MtbLys   & 2\\\\\n",
       "\t49 & QFIG:CASSQFIGDTDQSDTQYF   & 7 & QFIG      & 3.1e-08 &  3 &  3 & 1.0e-08 & 0.0370 & 0.001 & 0.210 & 0.220 & 6.2e-03 & motif-QFI motif-SQFI motif-QFIG & CASSQfigdtdqsDTQYF  & CASSQFIGDTDQSDTQYF  & TRBV4-3  & TRBJ2-3 & CVVNDWAGRRALTF   & 01/0873:MegaIFNg & 1\\\\\n",
       "\t50 & QFIG:CASSQFIGGEYEQYF      & 7 & QFIG      & 3.1e-08 &  3 &  3 & 1.0e-08 & 0.0370 & 0.001 & 0.210 & 0.220 & 6.2e-03 & motif-QFI motif-SQFI motif-QFIG & CASSQfiGGeYEQYF     & CASSQFIGGEYEQYF     & TRBV3-1  & TRBJ2-7 & CAVSGNRGSTLGRLYF & 09/0334:MtbLys   & 2\\\\\n",
       "\\end{tabular}\n"
      ],
      "text/markdown": [
       "\n",
       "A data.frame: 50 × 20\n",
       "\n",
       "| <!--/--> | xx &lt;chr&gt; | index &lt;int&gt; | pattern &lt;chr&gt; | Fisher_score &lt;dbl&gt; | number_subject &lt;int&gt; | number_unique_cdr3 &lt;int&gt; | final_score &lt;dbl&gt; | hla_score &lt;dbl&gt; | vb_score &lt;dbl&gt; | expansion_score &lt;dbl&gt; | length_score &lt;dbl&gt; | cluster_size_score &lt;dbl&gt; | type &lt;chr&gt; | ulTcRb &lt;chr&gt; | TcRb &lt;chr&gt; | V &lt;chr&gt; | J &lt;chr&gt; | TcRa &lt;chr&gt; | Sample &lt;chr&gt; | Freq &lt;dbl&gt; |\n",
       "|---|---|---|---|---|---|---|---|---|---|---|---|---|---|---|---|---|---|---|---|---|\n",
       "| 1 | SVAL:CASSVALASGANVLTF     | 1 | SVAL      | 4.4e-19 | 10 | 16 | 5.7e-13 | 0.0004 | 0.001 | 0.450 | 0.037 | 8.6e-05 | motif-SVAL                      | CASSVaLASGANVLTF    | CASSVALASGANVLTF    | TRBV9    | TRBJ2-6 | CAGAGGGGFKTIF    | 02/0152:MegaIL2  | 2 |\n",
       "| 2 | SVAL:CASSVALSNYGYTF       | 1 | SVAL      | 4.4e-19 | 10 | 16 | 5.7e-13 | 0.0004 | 0.001 | 0.450 | 0.037 | 8.6e-05 | motif-SVAL                      | CASSValsNYGYTF      | CASSVALSNYGYTF      | TRBV9    | TRBJ1-2 | CAVVASGGSYIPTF   | 01/1013:MtbLys   | 2 |\n",
       "| 3 | SVAL:CASSVALYGQSVTF       | 1 | SVAL      | 4.4e-19 | 10 | 16 | 5.7e-13 | 0.0004 | 0.001 | 0.450 | 0.037 | 8.6e-05 | motif-SVAL                      | CASSValyGQsvTF      | CASSVALYGQSVTF      | TRBV9    | TRBJ1-2 | CAAFSGTYKYIF     | 09/0328:MtbLys   | 1 |\n",
       "| 4 | SVAL:CASSVALLAGTQYF       | 1 | SVAL      | 4.4e-19 | 10 | 16 | 5.7e-13 | 0.0004 | 0.001 | 0.450 | 0.037 | 8.6e-05 | motif-SVAL                      | CASSValLAGTQYF      | CASSVALLAGTQYF      | TRBV9    | TRBJ2-3 | CAGPGGTSYGKLTF   | 09/0671:MtbLys   | 1 |\n",
       "| 5 | SVAL:CASSVALGAGGGYTF      | 1 | SVAL      | 4.4e-19 | 10 | 16 | 5.7e-13 | 0.0004 | 0.001 | 0.450 | 0.037 | 8.6e-05 | motif-SVAL                      | CASSValgAGGGYTF     | CASSVALGAGGGYTF     | TRBV9    | TRBJ1-2 | CAGPSGGSYIPTF    | 09/0328:MtbLys   | 1 |\n",
       "| 6 | SVAL:CASSVALLGETQYF       | 1 | SVAL      | 4.4e-19 | 10 | 16 | 5.7e-13 | 0.0004 | 0.001 | 0.450 | 0.037 | 8.6e-05 | motif-SVAL                      | CASSVallgETQYF      | CASSVALLGETQYF      | TRBV9    | TRBJ2-5 | CAGAPTGNQFYF     | 09/0772:MtbLys   | 1 |\n",
       "| 7 | SVAL:CASSVALLGETQYF       | 1 | SVAL      | 4.4e-19 | 10 | 16 | 5.7e-13 | 0.0004 | 0.001 | 0.450 | 0.037 | 8.6e-05 | motif-SVAL                      | CASSVallgETQYF      | CASSVALLGETQYF      | TRBV9    | TRBJ2-5 | CAGTGGTSYGKLTF   | 09/0531:MtbLys   | 1 |\n",
       "| 8 | SVAL:CASSVALMGGELFF       | 1 | SVAL      | 4.4e-19 | 10 | 16 | 5.7e-13 | 0.0004 | 0.001 | 0.450 | 0.037 | 8.6e-05 | motif-SVAL                      | CASSValmgGELFF      | CASSVALMGGELFF      | TRBV9    | TRBJ2-2 | CASLSGTYKYIF     | 09/0018:MegaIFNg | 1 |\n",
       "| 9 | SVAL:CASSVALAGANGYTF      | 1 | SVAL      | 4.4e-19 | 10 | 16 | 5.7e-13 | 0.0004 | 0.001 | 0.450 | 0.037 | 8.6e-05 | motif-SVAL                      | CASSVaLAGanGYTF     | CASSVALAGANGYTF     | TRBV9    | TRBJ1-2 | CAGPVQGGNKLVF    | 01/0943:MtbLys   | 1 |\n",
       "| 10 | SVAL:CASSVALSGTGTQYF      | 1 | SVAL      | 4.4e-19 | 10 | 16 | 5.7e-13 | 0.0004 | 0.001 | 0.450 | 0.037 | 8.6e-05 | motif-SVAL                      | CASSValsGTGTQYF     | CASSVALSGTGTQYF     | TRBV9    | TRBJ2-3 | CAGPGGTSYGKLTF   | 01/0943:MtbLys   | 1 |\n",
       "| 11 | SVAL:CASSVALAGNTIYF       | 1 | SVAL      | 4.4e-19 | 10 | 16 | 5.7e-13 | 0.0004 | 0.001 | 0.450 | 0.037 | 8.6e-05 | motif-SVAL                      | CASSVaLAGNTIYF      | CASSVALAGNTIYF      | TRBV9    | TRBJ1-3 | CAGDLSQGGKLIF    | 09/0328:MtbLys   | 2 |\n",
       "| 12 | SVAL:CASSVALAGAEYF        | 1 | SVAL      | 4.4e-19 | 10 | 16 | 5.7e-13 | 0.0004 | 0.001 | 0.450 | 0.037 | 8.6e-05 | motif-SVAL                      | CASSVaLAGaeYF       | CASSVALAGAEYF       | TRBV9    | TRBJ2-3 | CAVGGLSGANSKLTF  | 01/0873:MegaIL2  | 2 |\n",
       "| 13 | SVAL:CASSVALYANEQFF       | 1 | SVAL      | 4.4e-19 | 10 | 16 | 5.7e-13 | 0.0004 | 0.001 | 0.450 | 0.037 | 8.6e-05 | motif-SVAL                      | CASSValyaNEQFF      | CASSVALYANEQFF      | TRBV9    | TRBJ2-1 | CAGPTTGYALNF     | 09/0018:MtbLys   | 1 |\n",
       "| 14 | SVAL:CASSVALLGGTQYF       | 1 | SVAL      | 4.4e-19 | 10 | 16 | 5.7e-13 | 0.0004 | 0.001 | 0.450 | 0.037 | 8.6e-05 | motif-SVAL                      | CASSVallGGTQYF      | CASSVALLGGTQYF      | TRBV9    | TRBJ2-3 | CAGGGIGTSYGKLTF  | 09/0671:MtbLys   | 1 |\n",
       "| 15 | SVAL:CASSVALFGEGYTF       | 1 | SVAL      | 4.4e-19 | 10 | 16 | 5.7e-13 | 0.0004 | 0.001 | 0.450 | 0.037 | 8.6e-05 | motif-SVAL                      | CASSValfgeGYTF      | CASSVALFGEGYTF      | TRBV9    | TRBJ1-2 | CAGPSGTSYGKLTF   | 09/0328:MtbLys   | 1 |\n",
       "| 16 | SVAL:CASSVALGGGNIQYF      | 1 | SVAL      | 4.4e-19 | 10 | 16 | 5.7e-13 | 0.0004 | 0.001 | 0.450 | 0.037 | 8.6e-05 | motif-SVAL                      | CASSValGGgNIQYF     | CASSVALGGGNIQYF     | TRBV9    | TRBJ2-4 | CAGVGGTSYGKLTF   | 09/0671:MtbLys   | 1 |\n",
       "| 17 | SVAL:CASSVALATGEQYF       | 1 | SVAL      | 4.4e-19 | 10 | 16 | 5.7e-13 | 0.0004 | 0.001 | 0.450 | 0.037 | 8.6e-05 | motif-SVAL                      | CASSValaTGEQYF      | CASSVALATGEQYF      | TRBV9    | TRBJ2-7 | CAGPTGGSYIPTF    | 03/0492:MegaIL2  | 1 |\n",
       "| 18 | GLVL:CASGLVLVTNTGELFF     | 2 | GLVL      | 3.3e-10 |  7 |  8 | 2.5e-09 | 0.0280 | 0.001 | 1.000 | 0.110 | 8.3e-04 | motif-GLVL                      | CASGLvlvtNTGELFF    | CASGLVLVTNTGELFF    | TRBV12-5 | TRBJ2-2 | CIPFYSGSARQLTF   | 09/0717:MtbLys   | 1 |\n",
       "| 19 | GLVL:CASGLVLAGGPLEQFF     | 2 | GLVL      | 3.3e-10 |  7 |  8 | 2.5e-09 | 0.0280 | 0.001 | 1.000 | 0.110 | 8.3e-04 | motif-GLVL                      | CASGLvLAGGplEQFF    | CASGLVLAGGPLEQFF    | TRBV12-5 | TRBJ2-1 | CAQAEDTGRRALTF   | 09/0717:MtbLys   | 1 |\n",
       "| 20 | GLVL:CASGLVLRPWRDLNNEQFF  | 2 | GLVL      | 3.3e-10 |  7 |  8 | 2.5e-09 | 0.0280 | 0.001 | 1.000 | 0.110 | 8.3e-04 | motif-GLVL                      | CASGLvlrpwrdlnNEQFF | CASGLVLRPWRDLNNEQFF | TRBV12-5 | TRBJ2-1 | CAARGETSGSRLTF   | 01/1013:MtbLys   | 1 |\n",
       "| 21 | GLVL:CASGLVLGEAVATNEKLFF  | 2 | GLVL      | 3.3e-10 |  7 |  8 | 2.5e-09 | 0.0280 | 0.001 | 1.000 | 0.110 | 8.3e-04 | motif-GLVL                      | CASGLvlgeavaTNEKLFF | CASGLVLGEAVATNEKLFF | TRBV12-5 | TRBJ1-4 | CAVRDLDTGRRALTF  | 09/0263:MtbLys   | 1 |\n",
       "| 22 | GLVL:CASGLVLGREGNQPQHF    | 2 | GLVL      | 3.3e-10 |  7 |  8 | 2.5e-09 | 0.0280 | 0.001 | 1.000 | 0.110 | 8.3e-04 | motif-GLVL                      | CASGLvlgREgNQPQHF   | CASGLVLGREGNQPQHF   | TRBV12-5 | TRBJ1-5 | CAVEDPTDKLIF     | 01/0385:MtbLys   | 1 |\n",
       "| 23 | GLVL:CASGLVLGAQTEAFF      | 2 | GLVL      | 3.3e-10 |  7 |  8 | 2.5e-09 | 0.0280 | 0.001 | 1.000 | 0.110 | 8.3e-04 | motif-GLVL                      | CASGLvlgaqTEAFF     | CASGLVLGAQTEAFF     | TRBV12-5 | TRBJ1-1 | CIPYMDTGRRALTF   | 01/0960:MtbLys   | 1 |\n",
       "| 24 | GLVL:CASGLVLGQGPTPQHF     | 2 | GLVL      | 3.3e-10 |  7 |  8 | 2.5e-09 | 0.0280 | 0.001 | 1.000 | 0.110 | 8.3e-04 | motif-GLVL                      | CASGLvlGQGptPQHF    | CASGLVLGQGPTPQHF    | TRBV12-5 | TRBJ1-5 | CAENPFTGRRALTF   | 09/0730:MtbLys   | 1 |\n",
       "| 25 | GLVL:CASGLVLTGGYNTEAFF    | 2 | GLVL      | 3.3e-10 |  7 |  8 | 2.5e-09 | 0.0280 | 0.001 | 1.000 | 0.110 | 8.3e-04 | motif-GLVL                      | CASGLvlTGGyNTEAFF   | CASGLVLTGGYNTEAFF   | TRBV12-5 | TRBJ1-1 | CATDWDTGRRALTF   | 01/0329:MtbLys   | 1 |\n",
       "| 26 | TESN:CASSRGTESNTEAFF      | 3 | TESN      | 3.7e-10 |  4 |  7 | 4.7e-13 | 0.0210 | 0.001 | 0.026 | 0.001 | 8.6e-04 | motif-TESN                      | CASSRGTesNTEAFF     | CASSRGTESNTEAFF     | TRBV5-1  | TRBJ1-1 | CALRGDTGRRALTF   | 01/0882:MtbLys   | 2 |\n",
       "| 27 | TESN:CASSLGTESNQPQHF      | 3 | TESN      | 3.7e-10 |  4 |  7 | 4.7e-13 | 0.0210 | 0.001 | 0.026 | 0.001 | 8.6e-04 | motif-TESN                      | CASSLGTeSNQPQHF     | CASSLGTESNQPQHF     | TRBV7-2  | TRBJ1-5 | NA               | 03/0480:MtbLys   | 5 |\n",
       "| 28 | TESN:CASSSGTESNQPQHF      | 3 | TESN      | 3.7e-10 |  4 |  7 | 4.7e-13 | 0.0210 | 0.001 | 0.026 | 0.001 | 8.6e-04 | motif-TESN                      | CASSSGTeSNQPQHF     | CASSSGTESNQPQHF     | TRBV7-2  | TRBJ1-5 | NA               | 01/0873:MtbLys   | 1 |\n",
       "| 29 | TESN:CASSPGTESNSPLHF      | 3 | TESN      | 3.7e-10 |  4 |  7 | 4.7e-13 | 0.0210 | 0.001 | 0.026 | 0.001 | 8.6e-04 | motif-TESN                      | CASSPGTesNSPLHF     | CASSPGTESNSPLHF     | TRBV7-2  | TRBJ1-6 | NA               | 03/0480:MtbLys   | 1 |\n",
       "| 30 | TESN:CASTGGTESNQPQHF      | 3 | TESN      | 3.7e-10 |  4 |  7 | 4.7e-13 | 0.0210 | 0.001 | 0.026 | 0.001 | 8.6e-04 | motif-TESN                      | CASTgGTeSNQPQHF     | CASTGGTESNQPQHF     | TRBV6-1  | TRBJ1-5 | CALVYSGGYQKVTF   | 03/0480:MtbLys   | 2 |\n",
       "| 31 | TESN:CASSPGTESNQPQHF      | 3 | TESN      | 3.7e-10 |  4 |  7 | 4.7e-13 | 0.0210 | 0.001 | 0.026 | 0.001 | 8.6e-04 | motif-TESN                      | CASSPGTeSNQPQHF     | CASSPGTESNQPQHF     | TRBV7-2  | TRBJ1-5 | CALMNSGGYQKVTF   | 03/0480:MtbLys   | 2 |\n",
       "| 32 | TESN:CASSPGTESNQPQHF      | 3 | TESN      | 3.7e-10 |  4 |  7 | 4.7e-13 | 0.0210 | 0.001 | 0.026 | 0.001 | 8.6e-04 | motif-TESN                      | CASSPGTeSNQPQHF     | CASSPGTESNQPQHF     | TRBV7-2  | TRBJ1-5 | NA               | 09/0671:MtbLys   | 1 |\n",
       "| 33 | TESN:CASSFGTESNQPQHF      | 3 | TESN      | 3.7e-10 |  4 |  7 | 4.7e-13 | 0.0210 | 0.001 | 0.026 | 0.001 | 8.6e-04 | motif-TESN                      | CASSfGTeSNQPQHF     | CASSFGTESNQPQHF     | TRBV7-2  | TRBJ1-5 | CALILSGGYQKVTF   | 03/0480:MtbLys   | 3 |\n",
       "| 34 | EEPR:CSVEEPRGQPQHF        | 4 | EEPR      | 1.0e-08 |  2 |  5 | 2.5e-12 | 0.0036 | 0.001 | 0.480 | 0.001 | 1.5e-03 | motif-EEPR                      | CSVEepRGQPQHF       | CSVEEPRGQPQHF       | TRBV29-1 | TRBJ1-5 | CAVIEAAGNKLTF    | 09/0730:MtbLys   | 1 |\n",
       "| 35 | EEPR:CSVEEPRHTEAFF        | 4 | EEPR      | 1.0e-08 |  2 |  5 | 2.5e-12 | 0.0036 | 0.001 | 0.480 | 0.001 | 1.5e-03 | motif-EEPR                      | CSVEeprhTEAFF       | CSVEEPRHTEAFF       | TRBV29-1 | TRBJ1-1 | CAVRPNYGQNFVF    | 09/0730:MtbLys   | 1 |\n",
       "| 36 | EEPR:CSVEEPRGTAFF         | 4 | EEPR      | 1.0e-08 |  2 |  5 | 2.5e-12 | 0.0036 | 0.001 | 0.480 | 0.001 | 1.5e-03 | motif-EEPR                      | CSVEepRGtAFF        | CSVEEPRGTAFF        | TRBV29-1 | TRBJ1-1 | NA               | 03/0493:MtbLys   | 1 |\n",
       "| 37 | EEPR:CSVEEPRNTIYF         | 4 | EEPR      | 1.0e-08 |  2 |  5 | 2.5e-12 | 0.0036 | 0.001 | 0.480 | 0.001 | 1.5e-03 | motif-EEPR                      | CSVEeprNTIYF        | CSVEEPRNTIYF        | TRBV29-1 | TRBJ1-3 | CAVRLTGNQFYF     | 03/0493:MtbLys   | 2 |\n",
       "| 38 | EEPR:CSVEEPRQTEQFF        | 4 | EEPR      | 1.0e-08 |  2 |  5 | 2.5e-12 | 0.0036 | 0.001 | 0.480 | 0.001 | 1.5e-03 | motif-EEPR                      | CSVEeprqtEQFF       | CSVEEPRQTEQFF       | TRBV29-1 | TRBJ2-1 | CEGGFNKFYF       | 03/0493:MtbLys   | 1 |\n",
       "| 39 | SQFL:CASSQFLDPLYTF        | 5 | SQFL      | 1.7e-08 |  3 |  4 | 1.6e-07 | 0.0360 | 0.010 | 1.000 | 0.190 | 2.3e-03 | motif-QFL motif-SQFL            | CASSQfldplYTF       | CASSQFLDPLYTF       | TRBV3-1  | TRBJ1-2 | CAVTSNTNAGKSTF   | 03/0302:MtbLys   | 1 |\n",
       "| 40 | SQFL:CASSQFLGDEQFF        | 5 | SQFL      | 1.7e-08 |  3 |  4 | 1.6e-07 | 0.0360 | 0.010 | 1.000 | 0.190 | 2.3e-03 | motif-QFL motif-SQFL            | CASSQflgdEQFF       | CASSQFLGDEQFF       | TRBV3-1  | TRBJ2-1 | CAALPGIQGGKLIF   | 09/0334:MtbLys   | 1 |\n",
       "| 41 | SQFL:CASSQFLAAQTQYF       | 5 | SQFL      | 1.7e-08 |  3 |  4 | 1.6e-07 | 0.0360 | 0.010 | 1.000 | 0.190 | 2.3e-03 | motif-QFL motif-SQFL            | CASSQfLAaqTQYF      | CASSQFLAAQTQYF      | TRBV3-1  | TRBJ2-3 | NA               | 03/0302:MtbLys   | 1 |\n",
       "| 42 | SQFL:CASSQFLIAGTNTEAFF    | 5 | SQFL      | 1.7e-08 |  3 |  4 | 1.6e-07 | 0.0360 | 0.010 | 1.000 | 0.190 | 2.3e-03 | motif-QFL motif-SQFL            | CASSQfliaGTNTEAFF   | CASSQFLIAGTNTEAFF   | TRBV14   | TRBJ1-1 | CIPLSYNTDKLIF    | 09/0531:MtbLys   | 1 |\n",
       "| 43 | S%GTESNQP:CASSLGTESNQPQHF | 6 | S%GTESNQP | 2.0e-08 |  3 |  4 | 6.2e-13 | 0.0110 | 0.001 | 0.025 | 0.001 | 2.3e-03 | motif-TESN global-S%GTESNQP     | CASSLGTeSNQPQHF     | CASSLGTESNQPQHF     | TRBV7-2  | TRBJ1-5 | NA               | 03/0480:MtbLys   | 5 |\n",
       "| 44 | S%GTESNQP:CASSSGTESNQPQHF | 6 | S%GTESNQP | 2.0e-08 |  3 |  4 | 6.2e-13 | 0.0110 | 0.001 | 0.025 | 0.001 | 2.3e-03 | motif-TESN global-S%GTESNQP     | CASSSGTeSNQPQHF     | CASSSGTESNQPQHF     | TRBV7-2  | TRBJ1-5 | NA               | 01/0873:MtbLys   | 1 |\n",
       "| 45 | S%GTESNQP:CASSPGTESNQPQHF | 6 | S%GTESNQP | 2.0e-08 |  3 |  4 | 6.2e-13 | 0.0110 | 0.001 | 0.025 | 0.001 | 2.3e-03 | motif-TESN global-S%GTESNQP     | CASSPGTeSNQPQHF     | CASSPGTESNQPQHF     | TRBV7-2  | TRBJ1-5 | CALMNSGGYQKVTF   | 03/0480:MtbLys   | 2 |\n",
       "| 46 | S%GTESNQP:CASSPGTESNQPQHF | 6 | S%GTESNQP | 2.0e-08 |  3 |  4 | 6.2e-13 | 0.0110 | 0.001 | 0.025 | 0.001 | 2.3e-03 | motif-TESN global-S%GTESNQP     | CASSPGTeSNQPQHF     | CASSPGTESNQPQHF     | TRBV7-2  | TRBJ1-5 | NA               | 09/0671:MtbLys   | 1 |\n",
       "| 47 | S%GTESNQP:CASSFGTESNQPQHF | 6 | S%GTESNQP | 2.0e-08 |  3 |  4 | 6.2e-13 | 0.0110 | 0.001 | 0.025 | 0.001 | 2.3e-03 | motif-TESN global-S%GTESNQP     | CASSfGTeSNQPQHF     | CASSFGTESNQPQHF     | TRBV7-2  | TRBJ1-5 | CALILSGGYQKVTF   | 03/0480:MtbLys   | 3 |\n",
       "| 48 | QFIG:CASSQFIGDTDQSDTQYF   | 7 | QFIG      | 3.1e-08 |  3 |  3 | 1.0e-08 | 0.0370 | 0.001 | 0.210 | 0.220 | 6.2e-03 | motif-QFI motif-SQFI motif-QFIG | CASSQfigdtdqsDTQYF  | CASSQFIGDTDQSDTQYF  | TRBV4-3  | TRBJ2-3 | NA               | 01/0873:MtbLys   | 2 |\n",
       "| 49 | QFIG:CASSQFIGDTDQSDTQYF   | 7 | QFIG      | 3.1e-08 |  3 |  3 | 1.0e-08 | 0.0370 | 0.001 | 0.210 | 0.220 | 6.2e-03 | motif-QFI motif-SQFI motif-QFIG | CASSQfigdtdqsDTQYF  | CASSQFIGDTDQSDTQYF  | TRBV4-3  | TRBJ2-3 | CVVNDWAGRRALTF   | 01/0873:MegaIFNg | 1 |\n",
       "| 50 | QFIG:CASSQFIGGEYEQYF      | 7 | QFIG      | 3.1e-08 |  3 |  3 | 1.0e-08 | 0.0370 | 0.001 | 0.210 | 0.220 | 6.2e-03 | motif-QFI motif-SQFI motif-QFIG | CASSQfiGGeYEQYF     | CASSQFIGGEYEQYF     | TRBV3-1  | TRBJ2-7 | CAVSGNRGSTLGRLYF | 09/0334:MtbLys   | 2 |\n",
       "\n"
      ],
      "text/plain": [
       "   xx                        index pattern   Fisher_score number_subject\n",
       "1  SVAL:CASSVALASGANVLTF     1     SVAL      4.4e-19      10            \n",
       "2  SVAL:CASSVALSNYGYTF       1     SVAL      4.4e-19      10            \n",
       "3  SVAL:CASSVALYGQSVTF       1     SVAL      4.4e-19      10            \n",
       "4  SVAL:CASSVALLAGTQYF       1     SVAL      4.4e-19      10            \n",
       "5  SVAL:CASSVALGAGGGYTF      1     SVAL      4.4e-19      10            \n",
       "6  SVAL:CASSVALLGETQYF       1     SVAL      4.4e-19      10            \n",
       "7  SVAL:CASSVALLGETQYF       1     SVAL      4.4e-19      10            \n",
       "8  SVAL:CASSVALMGGELFF       1     SVAL      4.4e-19      10            \n",
       "9  SVAL:CASSVALAGANGYTF      1     SVAL      4.4e-19      10            \n",
       "10 SVAL:CASSVALSGTGTQYF      1     SVAL      4.4e-19      10            \n",
       "11 SVAL:CASSVALAGNTIYF       1     SVAL      4.4e-19      10            \n",
       "12 SVAL:CASSVALAGAEYF        1     SVAL      4.4e-19      10            \n",
       "13 SVAL:CASSVALYANEQFF       1     SVAL      4.4e-19      10            \n",
       "14 SVAL:CASSVALLGGTQYF       1     SVAL      4.4e-19      10            \n",
       "15 SVAL:CASSVALFGEGYTF       1     SVAL      4.4e-19      10            \n",
       "16 SVAL:CASSVALGGGNIQYF      1     SVAL      4.4e-19      10            \n",
       "17 SVAL:CASSVALATGEQYF       1     SVAL      4.4e-19      10            \n",
       "18 GLVL:CASGLVLVTNTGELFF     2     GLVL      3.3e-10       7            \n",
       "19 GLVL:CASGLVLAGGPLEQFF     2     GLVL      3.3e-10       7            \n",
       "20 GLVL:CASGLVLRPWRDLNNEQFF  2     GLVL      3.3e-10       7            \n",
       "21 GLVL:CASGLVLGEAVATNEKLFF  2     GLVL      3.3e-10       7            \n",
       "22 GLVL:CASGLVLGREGNQPQHF    2     GLVL      3.3e-10       7            \n",
       "23 GLVL:CASGLVLGAQTEAFF      2     GLVL      3.3e-10       7            \n",
       "24 GLVL:CASGLVLGQGPTPQHF     2     GLVL      3.3e-10       7            \n",
       "25 GLVL:CASGLVLTGGYNTEAFF    2     GLVL      3.3e-10       7            \n",
       "26 TESN:CASSRGTESNTEAFF      3     TESN      3.7e-10       4            \n",
       "27 TESN:CASSLGTESNQPQHF      3     TESN      3.7e-10       4            \n",
       "28 TESN:CASSSGTESNQPQHF      3     TESN      3.7e-10       4            \n",
       "29 TESN:CASSPGTESNSPLHF      3     TESN      3.7e-10       4            \n",
       "30 TESN:CASTGGTESNQPQHF      3     TESN      3.7e-10       4            \n",
       "31 TESN:CASSPGTESNQPQHF      3     TESN      3.7e-10       4            \n",
       "32 TESN:CASSPGTESNQPQHF      3     TESN      3.7e-10       4            \n",
       "33 TESN:CASSFGTESNQPQHF      3     TESN      3.7e-10       4            \n",
       "34 EEPR:CSVEEPRGQPQHF        4     EEPR      1.0e-08       2            \n",
       "35 EEPR:CSVEEPRHTEAFF        4     EEPR      1.0e-08       2            \n",
       "36 EEPR:CSVEEPRGTAFF         4     EEPR      1.0e-08       2            \n",
       "37 EEPR:CSVEEPRNTIYF         4     EEPR      1.0e-08       2            \n",
       "38 EEPR:CSVEEPRQTEQFF        4     EEPR      1.0e-08       2            \n",
       "39 SQFL:CASSQFLDPLYTF        5     SQFL      1.7e-08       3            \n",
       "40 SQFL:CASSQFLGDEQFF        5     SQFL      1.7e-08       3            \n",
       "41 SQFL:CASSQFLAAQTQYF       5     SQFL      1.7e-08       3            \n",
       "42 SQFL:CASSQFLIAGTNTEAFF    5     SQFL      1.7e-08       3            \n",
       "43 S%GTESNQP:CASSLGTESNQPQHF 6     S%GTESNQP 2.0e-08       3            \n",
       "44 S%GTESNQP:CASSSGTESNQPQHF 6     S%GTESNQP 2.0e-08       3            \n",
       "45 S%GTESNQP:CASSPGTESNQPQHF 6     S%GTESNQP 2.0e-08       3            \n",
       "46 S%GTESNQP:CASSPGTESNQPQHF 6     S%GTESNQP 2.0e-08       3            \n",
       "47 S%GTESNQP:CASSFGTESNQPQHF 6     S%GTESNQP 2.0e-08       3            \n",
       "48 QFIG:CASSQFIGDTDQSDTQYF   7     QFIG      3.1e-08       3            \n",
       "49 QFIG:CASSQFIGDTDQSDTQYF   7     QFIG      3.1e-08       3            \n",
       "50 QFIG:CASSQFIGGEYEQYF      7     QFIG      3.1e-08       3            \n",
       "   number_unique_cdr3 final_score hla_score vb_score expansion_score\n",
       "1  16                 5.7e-13     0.0004    0.001    0.450          \n",
       "2  16                 5.7e-13     0.0004    0.001    0.450          \n",
       "3  16                 5.7e-13     0.0004    0.001    0.450          \n",
       "4  16                 5.7e-13     0.0004    0.001    0.450          \n",
       "5  16                 5.7e-13     0.0004    0.001    0.450          \n",
       "6  16                 5.7e-13     0.0004    0.001    0.450          \n",
       "7  16                 5.7e-13     0.0004    0.001    0.450          \n",
       "8  16                 5.7e-13     0.0004    0.001    0.450          \n",
       "9  16                 5.7e-13     0.0004    0.001    0.450          \n",
       "10 16                 5.7e-13     0.0004    0.001    0.450          \n",
       "11 16                 5.7e-13     0.0004    0.001    0.450          \n",
       "12 16                 5.7e-13     0.0004    0.001    0.450          \n",
       "13 16                 5.7e-13     0.0004    0.001    0.450          \n",
       "14 16                 5.7e-13     0.0004    0.001    0.450          \n",
       "15 16                 5.7e-13     0.0004    0.001    0.450          \n",
       "16 16                 5.7e-13     0.0004    0.001    0.450          \n",
       "17 16                 5.7e-13     0.0004    0.001    0.450          \n",
       "18  8                 2.5e-09     0.0280    0.001    1.000          \n",
       "19  8                 2.5e-09     0.0280    0.001    1.000          \n",
       "20  8                 2.5e-09     0.0280    0.001    1.000          \n",
       "21  8                 2.5e-09     0.0280    0.001    1.000          \n",
       "22  8                 2.5e-09     0.0280    0.001    1.000          \n",
       "23  8                 2.5e-09     0.0280    0.001    1.000          \n",
       "24  8                 2.5e-09     0.0280    0.001    1.000          \n",
       "25  8                 2.5e-09     0.0280    0.001    1.000          \n",
       "26  7                 4.7e-13     0.0210    0.001    0.026          \n",
       "27  7                 4.7e-13     0.0210    0.001    0.026          \n",
       "28  7                 4.7e-13     0.0210    0.001    0.026          \n",
       "29  7                 4.7e-13     0.0210    0.001    0.026          \n",
       "30  7                 4.7e-13     0.0210    0.001    0.026          \n",
       "31  7                 4.7e-13     0.0210    0.001    0.026          \n",
       "32  7                 4.7e-13     0.0210    0.001    0.026          \n",
       "33  7                 4.7e-13     0.0210    0.001    0.026          \n",
       "34  5                 2.5e-12     0.0036    0.001    0.480          \n",
       "35  5                 2.5e-12     0.0036    0.001    0.480          \n",
       "36  5                 2.5e-12     0.0036    0.001    0.480          \n",
       "37  5                 2.5e-12     0.0036    0.001    0.480          \n",
       "38  5                 2.5e-12     0.0036    0.001    0.480          \n",
       "39  4                 1.6e-07     0.0360    0.010    1.000          \n",
       "40  4                 1.6e-07     0.0360    0.010    1.000          \n",
       "41  4                 1.6e-07     0.0360    0.010    1.000          \n",
       "42  4                 1.6e-07     0.0360    0.010    1.000          \n",
       "43  4                 6.2e-13     0.0110    0.001    0.025          \n",
       "44  4                 6.2e-13     0.0110    0.001    0.025          \n",
       "45  4                 6.2e-13     0.0110    0.001    0.025          \n",
       "46  4                 6.2e-13     0.0110    0.001    0.025          \n",
       "47  4                 6.2e-13     0.0110    0.001    0.025          \n",
       "48  3                 1.0e-08     0.0370    0.001    0.210          \n",
       "49  3                 1.0e-08     0.0370    0.001    0.210          \n",
       "50  3                 1.0e-08     0.0370    0.001    0.210          \n",
       "   length_score cluster_size_score type                           \n",
       "1  0.037        8.6e-05            motif-SVAL                     \n",
       "2  0.037        8.6e-05            motif-SVAL                     \n",
       "3  0.037        8.6e-05            motif-SVAL                     \n",
       "4  0.037        8.6e-05            motif-SVAL                     \n",
       "5  0.037        8.6e-05            motif-SVAL                     \n",
       "6  0.037        8.6e-05            motif-SVAL                     \n",
       "7  0.037        8.6e-05            motif-SVAL                     \n",
       "8  0.037        8.6e-05            motif-SVAL                     \n",
       "9  0.037        8.6e-05            motif-SVAL                     \n",
       "10 0.037        8.6e-05            motif-SVAL                     \n",
       "11 0.037        8.6e-05            motif-SVAL                     \n",
       "12 0.037        8.6e-05            motif-SVAL                     \n",
       "13 0.037        8.6e-05            motif-SVAL                     \n",
       "14 0.037        8.6e-05            motif-SVAL                     \n",
       "15 0.037        8.6e-05            motif-SVAL                     \n",
       "16 0.037        8.6e-05            motif-SVAL                     \n",
       "17 0.037        8.6e-05            motif-SVAL                     \n",
       "18 0.110        8.3e-04            motif-GLVL                     \n",
       "19 0.110        8.3e-04            motif-GLVL                     \n",
       "20 0.110        8.3e-04            motif-GLVL                     \n",
       "21 0.110        8.3e-04            motif-GLVL                     \n",
       "22 0.110        8.3e-04            motif-GLVL                     \n",
       "23 0.110        8.3e-04            motif-GLVL                     \n",
       "24 0.110        8.3e-04            motif-GLVL                     \n",
       "25 0.110        8.3e-04            motif-GLVL                     \n",
       "26 0.001        8.6e-04            motif-TESN                     \n",
       "27 0.001        8.6e-04            motif-TESN                     \n",
       "28 0.001        8.6e-04            motif-TESN                     \n",
       "29 0.001        8.6e-04            motif-TESN                     \n",
       "30 0.001        8.6e-04            motif-TESN                     \n",
       "31 0.001        8.6e-04            motif-TESN                     \n",
       "32 0.001        8.6e-04            motif-TESN                     \n",
       "33 0.001        8.6e-04            motif-TESN                     \n",
       "34 0.001        1.5e-03            motif-EEPR                     \n",
       "35 0.001        1.5e-03            motif-EEPR                     \n",
       "36 0.001        1.5e-03            motif-EEPR                     \n",
       "37 0.001        1.5e-03            motif-EEPR                     \n",
       "38 0.001        1.5e-03            motif-EEPR                     \n",
       "39 0.190        2.3e-03            motif-QFL motif-SQFL           \n",
       "40 0.190        2.3e-03            motif-QFL motif-SQFL           \n",
       "41 0.190        2.3e-03            motif-QFL motif-SQFL           \n",
       "42 0.190        2.3e-03            motif-QFL motif-SQFL           \n",
       "43 0.001        2.3e-03            motif-TESN global-S%GTESNQP    \n",
       "44 0.001        2.3e-03            motif-TESN global-S%GTESNQP    \n",
       "45 0.001        2.3e-03            motif-TESN global-S%GTESNQP    \n",
       "46 0.001        2.3e-03            motif-TESN global-S%GTESNQP    \n",
       "47 0.001        2.3e-03            motif-TESN global-S%GTESNQP    \n",
       "48 0.220        6.2e-03            motif-QFI motif-SQFI motif-QFIG\n",
       "49 0.220        6.2e-03            motif-QFI motif-SQFI motif-QFIG\n",
       "50 0.220        6.2e-03            motif-QFI motif-SQFI motif-QFIG\n",
       "   ulTcRb              TcRb                V        J       TcRa            \n",
       "1  CASSVaLASGANVLTF    CASSVALASGANVLTF    TRBV9    TRBJ2-6 CAGAGGGGFKTIF   \n",
       "2  CASSValsNYGYTF      CASSVALSNYGYTF      TRBV9    TRBJ1-2 CAVVASGGSYIPTF  \n",
       "3  CASSValyGQsvTF      CASSVALYGQSVTF      TRBV9    TRBJ1-2 CAAFSGTYKYIF    \n",
       "4  CASSValLAGTQYF      CASSVALLAGTQYF      TRBV9    TRBJ2-3 CAGPGGTSYGKLTF  \n",
       "5  CASSValgAGGGYTF     CASSVALGAGGGYTF     TRBV9    TRBJ1-2 CAGPSGGSYIPTF   \n",
       "6  CASSVallgETQYF      CASSVALLGETQYF      TRBV9    TRBJ2-5 CAGAPTGNQFYF    \n",
       "7  CASSVallgETQYF      CASSVALLGETQYF      TRBV9    TRBJ2-5 CAGTGGTSYGKLTF  \n",
       "8  CASSValmgGELFF      CASSVALMGGELFF      TRBV9    TRBJ2-2 CASLSGTYKYIF    \n",
       "9  CASSVaLAGanGYTF     CASSVALAGANGYTF     TRBV9    TRBJ1-2 CAGPVQGGNKLVF   \n",
       "10 CASSValsGTGTQYF     CASSVALSGTGTQYF     TRBV9    TRBJ2-3 CAGPGGTSYGKLTF  \n",
       "11 CASSVaLAGNTIYF      CASSVALAGNTIYF      TRBV9    TRBJ1-3 CAGDLSQGGKLIF   \n",
       "12 CASSVaLAGaeYF       CASSVALAGAEYF       TRBV9    TRBJ2-3 CAVGGLSGANSKLTF \n",
       "13 CASSValyaNEQFF      CASSVALYANEQFF      TRBV9    TRBJ2-1 CAGPTTGYALNF    \n",
       "14 CASSVallGGTQYF      CASSVALLGGTQYF      TRBV9    TRBJ2-3 CAGGGIGTSYGKLTF \n",
       "15 CASSValfgeGYTF      CASSVALFGEGYTF      TRBV9    TRBJ1-2 CAGPSGTSYGKLTF  \n",
       "16 CASSValGGgNIQYF     CASSVALGGGNIQYF     TRBV9    TRBJ2-4 CAGVGGTSYGKLTF  \n",
       "17 CASSValaTGEQYF      CASSVALATGEQYF      TRBV9    TRBJ2-7 CAGPTGGSYIPTF   \n",
       "18 CASGLvlvtNTGELFF    CASGLVLVTNTGELFF    TRBV12-5 TRBJ2-2 CIPFYSGSARQLTF  \n",
       "19 CASGLvLAGGplEQFF    CASGLVLAGGPLEQFF    TRBV12-5 TRBJ2-1 CAQAEDTGRRALTF  \n",
       "20 CASGLvlrpwrdlnNEQFF CASGLVLRPWRDLNNEQFF TRBV12-5 TRBJ2-1 CAARGETSGSRLTF  \n",
       "21 CASGLvlgeavaTNEKLFF CASGLVLGEAVATNEKLFF TRBV12-5 TRBJ1-4 CAVRDLDTGRRALTF \n",
       "22 CASGLvlgREgNQPQHF   CASGLVLGREGNQPQHF   TRBV12-5 TRBJ1-5 CAVEDPTDKLIF    \n",
       "23 CASGLvlgaqTEAFF     CASGLVLGAQTEAFF     TRBV12-5 TRBJ1-1 CIPYMDTGRRALTF  \n",
       "24 CASGLvlGQGptPQHF    CASGLVLGQGPTPQHF    TRBV12-5 TRBJ1-5 CAENPFTGRRALTF  \n",
       "25 CASGLvlTGGyNTEAFF   CASGLVLTGGYNTEAFF   TRBV12-5 TRBJ1-1 CATDWDTGRRALTF  \n",
       "26 CASSRGTesNTEAFF     CASSRGTESNTEAFF     TRBV5-1  TRBJ1-1 CALRGDTGRRALTF  \n",
       "27 CASSLGTeSNQPQHF     CASSLGTESNQPQHF     TRBV7-2  TRBJ1-5 NA              \n",
       "28 CASSSGTeSNQPQHF     CASSSGTESNQPQHF     TRBV7-2  TRBJ1-5 NA              \n",
       "29 CASSPGTesNSPLHF     CASSPGTESNSPLHF     TRBV7-2  TRBJ1-6 NA              \n",
       "30 CASTgGTeSNQPQHF     CASTGGTESNQPQHF     TRBV6-1  TRBJ1-5 CALVYSGGYQKVTF  \n",
       "31 CASSPGTeSNQPQHF     CASSPGTESNQPQHF     TRBV7-2  TRBJ1-5 CALMNSGGYQKVTF  \n",
       "32 CASSPGTeSNQPQHF     CASSPGTESNQPQHF     TRBV7-2  TRBJ1-5 NA              \n",
       "33 CASSfGTeSNQPQHF     CASSFGTESNQPQHF     TRBV7-2  TRBJ1-5 CALILSGGYQKVTF  \n",
       "34 CSVEepRGQPQHF       CSVEEPRGQPQHF       TRBV29-1 TRBJ1-5 CAVIEAAGNKLTF   \n",
       "35 CSVEeprhTEAFF       CSVEEPRHTEAFF       TRBV29-1 TRBJ1-1 CAVRPNYGQNFVF   \n",
       "36 CSVEepRGtAFF        CSVEEPRGTAFF        TRBV29-1 TRBJ1-1 NA              \n",
       "37 CSVEeprNTIYF        CSVEEPRNTIYF        TRBV29-1 TRBJ1-3 CAVRLTGNQFYF    \n",
       "38 CSVEeprqtEQFF       CSVEEPRQTEQFF       TRBV29-1 TRBJ2-1 CEGGFNKFYF      \n",
       "39 CASSQfldplYTF       CASSQFLDPLYTF       TRBV3-1  TRBJ1-2 CAVTSNTNAGKSTF  \n",
       "40 CASSQflgdEQFF       CASSQFLGDEQFF       TRBV3-1  TRBJ2-1 CAALPGIQGGKLIF  \n",
       "41 CASSQfLAaqTQYF      CASSQFLAAQTQYF      TRBV3-1  TRBJ2-3 NA              \n",
       "42 CASSQfliaGTNTEAFF   CASSQFLIAGTNTEAFF   TRBV14   TRBJ1-1 CIPLSYNTDKLIF   \n",
       "43 CASSLGTeSNQPQHF     CASSLGTESNQPQHF     TRBV7-2  TRBJ1-5 NA              \n",
       "44 CASSSGTeSNQPQHF     CASSSGTESNQPQHF     TRBV7-2  TRBJ1-5 NA              \n",
       "45 CASSPGTeSNQPQHF     CASSPGTESNQPQHF     TRBV7-2  TRBJ1-5 CALMNSGGYQKVTF  \n",
       "46 CASSPGTeSNQPQHF     CASSPGTESNQPQHF     TRBV7-2  TRBJ1-5 NA              \n",
       "47 CASSfGTeSNQPQHF     CASSFGTESNQPQHF     TRBV7-2  TRBJ1-5 CALILSGGYQKVTF  \n",
       "48 CASSQfigdtdqsDTQYF  CASSQFIGDTDQSDTQYF  TRBV4-3  TRBJ2-3 NA              \n",
       "49 CASSQfigdtdqsDTQYF  CASSQFIGDTDQSDTQYF  TRBV4-3  TRBJ2-3 CVVNDWAGRRALTF  \n",
       "50 CASSQfiGGeYEQYF     CASSQFIGGEYEQYF     TRBV3-1  TRBJ2-7 CAVSGNRGSTLGRLYF\n",
       "   Sample           Freq\n",
       "1  02/0152:MegaIL2  2   \n",
       "2  01/1013:MtbLys   2   \n",
       "3  09/0328:MtbLys   1   \n",
       "4  09/0671:MtbLys   1   \n",
       "5  09/0328:MtbLys   1   \n",
       "6  09/0772:MtbLys   1   \n",
       "7  09/0531:MtbLys   1   \n",
       "8  09/0018:MegaIFNg 1   \n",
       "9  01/0943:MtbLys   1   \n",
       "10 01/0943:MtbLys   1   \n",
       "11 09/0328:MtbLys   2   \n",
       "12 01/0873:MegaIL2  2   \n",
       "13 09/0018:MtbLys   1   \n",
       "14 09/0671:MtbLys   1   \n",
       "15 09/0328:MtbLys   1   \n",
       "16 09/0671:MtbLys   1   \n",
       "17 03/0492:MegaIL2  1   \n",
       "18 09/0717:MtbLys   1   \n",
       "19 09/0717:MtbLys   1   \n",
       "20 01/1013:MtbLys   1   \n",
       "21 09/0263:MtbLys   1   \n",
       "22 01/0385:MtbLys   1   \n",
       "23 01/0960:MtbLys   1   \n",
       "24 09/0730:MtbLys   1   \n",
       "25 01/0329:MtbLys   1   \n",
       "26 01/0882:MtbLys   2   \n",
       "27 03/0480:MtbLys   5   \n",
       "28 01/0873:MtbLys   1   \n",
       "29 03/0480:MtbLys   1   \n",
       "30 03/0480:MtbLys   2   \n",
       "31 03/0480:MtbLys   2   \n",
       "32 09/0671:MtbLys   1   \n",
       "33 03/0480:MtbLys   3   \n",
       "34 09/0730:MtbLys   1   \n",
       "35 09/0730:MtbLys   1   \n",
       "36 03/0493:MtbLys   1   \n",
       "37 03/0493:MtbLys   2   \n",
       "38 03/0493:MtbLys   1   \n",
       "39 03/0302:MtbLys   1   \n",
       "40 09/0334:MtbLys   1   \n",
       "41 03/0302:MtbLys   1   \n",
       "42 09/0531:MtbLys   1   \n",
       "43 03/0480:MtbLys   5   \n",
       "44 01/0873:MtbLys   1   \n",
       "45 03/0480:MtbLys   2   \n",
       "46 09/0671:MtbLys   1   \n",
       "47 03/0480:MtbLys   3   \n",
       "48 01/0873:MtbLys   2   \n",
       "49 01/0873:MegaIFNg 1   \n",
       "50 09/0334:MtbLys   2   "
      ]
     },
     "metadata": {},
     "output_type": "display_data"
    }
   ],
   "source": [
    "alluvialdf"
   ]
  },
  {
   "cell_type": "code",
   "execution_count": 83,
   "metadata": {},
   "outputs": [
    {
     "name": "stderr",
     "output_type": "stream",
     "text": [
      "Warning message:\n",
      "“Ignoring unknown aesthetics: order”\n"
     ]
    }
   ],
   "source": [
    "P <- ggplot(alluvialdf[1:10,], \n",
    "      aes(x = Sample, stratum = TcRb, y = Freq, alluvium = pattern)) +\n",
    "    #ggplot2::scale_x_discrete(expand = c(.1, .1)) +\n",
    "    #ggplot2::scale_fill_manual(values=recurringmotifColors_all) +\n",
    "scale_fill_manual(breaks = names(recurringmotifColors_all[recurringmotifColors_all != \"white\"]), values = recurringmotifColors_all) +\n",
    "    ggalluvial::stat_stratum(geom = \"stratum\", \n",
    "                             alpha = .5, ggplot2::aes(fill = pattern)) +\n",
    "    #ggalluvial::stat_stratum(geom = \"text\", ggplot2::aes(label = stratum), size = 3) +\n",
    "   # ggalluvial::geom_flow(ggplot2::aes(alluvium = xx, fill = xx)) + \n",
    "\n",
    "geom_flow(aes(fill = xx, order = sample(x = 10)), stat = \"alluvium\") +\n",
    "\n",
    "    ggplot2::scale_y_continuous(name=\"Freq\") +\n",
    "    ggplot2::theme_light() +\n",
    "    ggplot2::theme(plot.title=ggplot2::element_text(face=\"bold\",size=20),\n",
    "                   axis.text.x=ggplot2::element_text(angle = 30, hjust = 1),\n",
    "                   axis.text.y=ggplot2::element_text(size=8),\n",
    "                   axis.title.x=ggplot2::element_blank(),\n",
    "                   axis.title.y=ggplot2::element_text(size=16),\n",
    "                   legend.position=\"bottom\")"
   ]
  },
  {
   "cell_type": "code",
   "execution_count": 84,
   "metadata": {},
   "outputs": [
    {
     "name": "stderr",
     "output_type": "stream",
     "text": [
      "ERROR while rich displaying an object: Error in f(...): Data is not in a recognized alluvial form (see `help('alluvial-data')` for details).\n",
      "\n",
      "Traceback:\n",
      "1. tryCatch(withCallingHandlers({\n",
      " .     if (!mime %in% names(repr::mime2repr)) \n",
      " .         stop(\"No repr_* for mimetype \", mime, \" in repr::mime2repr\")\n",
      " .     rpr <- repr::mime2repr[[mime]](obj)\n",
      " .     if (is.null(rpr)) \n",
      " .         return(NULL)\n",
      " .     prepare_content(is.raw(rpr), rpr)\n",
      " . }, error = error_handler), error = outer_handler)\n",
      "2. tryCatchList(expr, classes, parentenv, handlers)\n",
      "3. tryCatchOne(expr, names, parentenv, handlers[[1L]])\n",
      "4. doTryCatch(return(expr), name, parentenv, handler)\n",
      "5. withCallingHandlers({\n",
      " .     if (!mime %in% names(repr::mime2repr)) \n",
      " .         stop(\"No repr_* for mimetype \", mime, \" in repr::mime2repr\")\n",
      " .     rpr <- repr::mime2repr[[mime]](obj)\n",
      " .     if (is.null(rpr)) \n",
      " .         return(NULL)\n",
      " .     prepare_content(is.raw(rpr), rpr)\n",
      " . }, error = error_handler)\n",
      "6. repr::mime2repr[[mime]](obj)\n",
      "7. repr_text.default(obj)\n",
      "8. paste(capture.output(print(obj)), collapse = \"\\n\")\n",
      "9. capture.output(print(obj))\n",
      "10. evalVis(expr)\n",
      "11. withVisible(eval(expr, pf))\n",
      "12. eval(expr, pf)\n",
      "13. eval(expr, pf)\n",
      "14. print(obj)\n",
      "15. print.ggplot(obj)\n",
      "16. ggplot_build(x)\n",
      "17. ggplot_build.ggplot(x)\n",
      "18. by_layer(function(l, d) l$compute_statistic(d, layout))\n",
      "19. f(l = layers[[i]], d = data[[i]])\n",
      "20. l$compute_statistic(d, layout)\n",
      "21. f(..., self = self)\n",
      "22. self$stat$setup_data(data, self$computed_stat_params)\n",
      "23. f(...)\n",
      "24. stop(\"Data is not in a recognized alluvial form \", \"(see `help('alluvial-data')` for details).\")\n"
     ]
    },
    {
     "data": {
      "image/png": "[encoded data removed]",
      "text/plain": [
       "plot without title"
      ]
     },
     "metadata": {
      "image/png": {
       "height": 420,
       "width": 420
      }
     },
     "output_type": "display_data"
    }
   ],
   "source": [
    "P"
   ]
  },
  {
   "cell_type": "code",
   "execution_count": null,
   "metadata": {},
   "outputs": [],
   "source": []
  },
  {
   "cell_type": "code",
   "execution_count": null,
   "metadata": {},
   "outputs": [],
   "source": []
  },
  {
   "cell_type": "code",
   "execution_count": null,
   "metadata": {},
   "outputs": [],
   "source": []
  },
  {
   "cell_type": "code",
   "execution_count": 31,
   "metadata": {},
   "outputs": [],
   "source": [
    "  ucb_df <- as.data.frame(UCBAdmissions)\n",
    "  ucb_df$Admit <- NULL\n",
    "  ucb_df$Highlight <- FALSE\n",
    "  ucb_df$Highlight[ucb_df$Gender=='Female' & ucb_df$Dept %in% c('A','D')] <- TRUE"
   ]
  },
  {
   "cell_type": "code",
   "execution_count": 32,
   "metadata": {},
   "outputs": [],
   "source": [
    "ucb_lodes <- ggalluvial::to_lodes_form(ucb_df, axes = 1:2, id = \"cohort\")"
   ]
  },
  {
   "cell_type": "code",
   "execution_count": 35,
   "metadata": {},
   "outputs": [
    {
     "data": {
      "text/html": [
       "<table class=\"dataframe\">\n",
       "<caption>A data.frame: 48 × 5</caption>\n",
       "<thead>\n",
       "\t<tr><th scope=col>Freq</th><th scope=col>Highlight</th><th scope=col>cohort</th><th scope=col>x</th><th scope=col>stratum</th></tr>\n",
       "\t<tr><th scope=col>&lt;dbl&gt;</th><th scope=col>&lt;lgl&gt;</th><th scope=col>&lt;int&gt;</th><th scope=col>&lt;fct&gt;</th><th scope=col>&lt;fct&gt;</th></tr>\n",
       "</thead>\n",
       "<tbody>\n",
       "\t<tr><td>512</td><td>FALSE</td><td> 1</td><td>Gender</td><td>Male  </td></tr>\n",
       "\t<tr><td>313</td><td>FALSE</td><td> 2</td><td>Gender</td><td>Male  </td></tr>\n",
       "\t<tr><td> 89</td><td> TRUE</td><td> 3</td><td>Gender</td><td>Female</td></tr>\n",
       "\t<tr><td> 19</td><td> TRUE</td><td> 4</td><td>Gender</td><td>Female</td></tr>\n",
       "\t<tr><td>353</td><td>FALSE</td><td> 5</td><td>Gender</td><td>Male  </td></tr>\n",
       "\t<tr><td>207</td><td>FALSE</td><td> 6</td><td>Gender</td><td>Male  </td></tr>\n",
       "\t<tr><td> 17</td><td>FALSE</td><td> 7</td><td>Gender</td><td>Female</td></tr>\n",
       "\t<tr><td>  8</td><td>FALSE</td><td> 8</td><td>Gender</td><td>Female</td></tr>\n",
       "\t<tr><td>120</td><td>FALSE</td><td> 9</td><td>Gender</td><td>Male  </td></tr>\n",
       "\t<tr><td>205</td><td>FALSE</td><td>10</td><td>Gender</td><td>Male  </td></tr>\n",
       "\t<tr><td>202</td><td>FALSE</td><td>11</td><td>Gender</td><td>Female</td></tr>\n",
       "\t<tr><td>391</td><td>FALSE</td><td>12</td><td>Gender</td><td>Female</td></tr>\n",
       "\t<tr><td>138</td><td>FALSE</td><td>13</td><td>Gender</td><td>Male  </td></tr>\n",
       "\t<tr><td>279</td><td>FALSE</td><td>14</td><td>Gender</td><td>Male  </td></tr>\n",
       "\t<tr><td>131</td><td> TRUE</td><td>15</td><td>Gender</td><td>Female</td></tr>\n",
       "\t<tr><td>244</td><td> TRUE</td><td>16</td><td>Gender</td><td>Female</td></tr>\n",
       "\t<tr><td> 53</td><td>FALSE</td><td>17</td><td>Gender</td><td>Male  </td></tr>\n",
       "\t<tr><td>138</td><td>FALSE</td><td>18</td><td>Gender</td><td>Male  </td></tr>\n",
       "\t<tr><td> 94</td><td>FALSE</td><td>19</td><td>Gender</td><td>Female</td></tr>\n",
       "\t<tr><td>299</td><td>FALSE</td><td>20</td><td>Gender</td><td>Female</td></tr>\n",
       "\t<tr><td> 22</td><td>FALSE</td><td>21</td><td>Gender</td><td>Male  </td></tr>\n",
       "\t<tr><td>351</td><td>FALSE</td><td>22</td><td>Gender</td><td>Male  </td></tr>\n",
       "\t<tr><td> 24</td><td>FALSE</td><td>23</td><td>Gender</td><td>Female</td></tr>\n",
       "\t<tr><td>317</td><td>FALSE</td><td>24</td><td>Gender</td><td>Female</td></tr>\n",
       "\t<tr><td>512</td><td>FALSE</td><td> 1</td><td>Dept  </td><td>A     </td></tr>\n",
       "\t<tr><td>313</td><td>FALSE</td><td> 2</td><td>Dept  </td><td>A     </td></tr>\n",
       "\t<tr><td> 89</td><td> TRUE</td><td> 3</td><td>Dept  </td><td>A     </td></tr>\n",
       "\t<tr><td> 19</td><td> TRUE</td><td> 4</td><td>Dept  </td><td>A     </td></tr>\n",
       "\t<tr><td>353</td><td>FALSE</td><td> 5</td><td>Dept  </td><td>B     </td></tr>\n",
       "\t<tr><td>207</td><td>FALSE</td><td> 6</td><td>Dept  </td><td>B     </td></tr>\n",
       "\t<tr><td> 17</td><td>FALSE</td><td> 7</td><td>Dept  </td><td>B     </td></tr>\n",
       "\t<tr><td>  8</td><td>FALSE</td><td> 8</td><td>Dept  </td><td>B     </td></tr>\n",
       "\t<tr><td>120</td><td>FALSE</td><td> 9</td><td>Dept  </td><td>C     </td></tr>\n",
       "\t<tr><td>205</td><td>FALSE</td><td>10</td><td>Dept  </td><td>C     </td></tr>\n",
       "\t<tr><td>202</td><td>FALSE</td><td>11</td><td>Dept  </td><td>C     </td></tr>\n",
       "\t<tr><td>391</td><td>FALSE</td><td>12</td><td>Dept  </td><td>C     </td></tr>\n",
       "\t<tr><td>138</td><td>FALSE</td><td>13</td><td>Dept  </td><td>D     </td></tr>\n",
       "\t<tr><td>279</td><td>FALSE</td><td>14</td><td>Dept  </td><td>D     </td></tr>\n",
       "\t<tr><td>131</td><td> TRUE</td><td>15</td><td>Dept  </td><td>D     </td></tr>\n",
       "\t<tr><td>244</td><td> TRUE</td><td>16</td><td>Dept  </td><td>D     </td></tr>\n",
       "\t<tr><td> 53</td><td>FALSE</td><td>17</td><td>Dept  </td><td>E     </td></tr>\n",
       "\t<tr><td>138</td><td>FALSE</td><td>18</td><td>Dept  </td><td>E     </td></tr>\n",
       "\t<tr><td> 94</td><td>FALSE</td><td>19</td><td>Dept  </td><td>E     </td></tr>\n",
       "\t<tr><td>299</td><td>FALSE</td><td>20</td><td>Dept  </td><td>E     </td></tr>\n",
       "\t<tr><td> 22</td><td>FALSE</td><td>21</td><td>Dept  </td><td>F     </td></tr>\n",
       "\t<tr><td>351</td><td>FALSE</td><td>22</td><td>Dept  </td><td>F     </td></tr>\n",
       "\t<tr><td> 24</td><td>FALSE</td><td>23</td><td>Dept  </td><td>F     </td></tr>\n",
       "\t<tr><td>317</td><td>FALSE</td><td>24</td><td>Dept  </td><td>F     </td></tr>\n",
       "</tbody>\n",
       "</table>\n"
      ],
      "text/latex": [
       "A data.frame: 48 × 5\n",
       "\\begin{tabular}{lllll}\n",
       " Freq & Highlight & cohort & x & stratum\\\\\n",
       " <dbl> & <lgl> & <int> & <fct> & <fct>\\\\\n",
       "\\hline\n",
       "\t 512 & FALSE &  1 & Gender & Male  \\\\\n",
       "\t 313 & FALSE &  2 & Gender & Male  \\\\\n",
       "\t  89 &  TRUE &  3 & Gender & Female\\\\\n",
       "\t  19 &  TRUE &  4 & Gender & Female\\\\\n",
       "\t 353 & FALSE &  5 & Gender & Male  \\\\\n",
       "\t 207 & FALSE &  6 & Gender & Male  \\\\\n",
       "\t  17 & FALSE &  7 & Gender & Female\\\\\n",
       "\t   8 & FALSE &  8 & Gender & Female\\\\\n",
       "\t 120 & FALSE &  9 & Gender & Male  \\\\\n",
       "\t 205 & FALSE & 10 & Gender & Male  \\\\\n",
       "\t 202 & FALSE & 11 & Gender & Female\\\\\n",
       "\t 391 & FALSE & 12 & Gender & Female\\\\\n",
       "\t 138 & FALSE & 13 & Gender & Male  \\\\\n",
       "\t 279 & FALSE & 14 & Gender & Male  \\\\\n",
       "\t 131 &  TRUE & 15 & Gender & Female\\\\\n",
       "\t 244 &  TRUE & 16 & Gender & Female\\\\\n",
       "\t  53 & FALSE & 17 & Gender & Male  \\\\\n",
       "\t 138 & FALSE & 18 & Gender & Male  \\\\\n",
       "\t  94 & FALSE & 19 & Gender & Female\\\\\n",
       "\t 299 & FALSE & 20 & Gender & Female\\\\\n",
       "\t  22 & FALSE & 21 & Gender & Male  \\\\\n",
       "\t 351 & FALSE & 22 & Gender & Male  \\\\\n",
       "\t  24 & FALSE & 23 & Gender & Female\\\\\n",
       "\t 317 & FALSE & 24 & Gender & Female\\\\\n",
       "\t 512 & FALSE &  1 & Dept   & A     \\\\\n",
       "\t 313 & FALSE &  2 & Dept   & A     \\\\\n",
       "\t  89 &  TRUE &  3 & Dept   & A     \\\\\n",
       "\t  19 &  TRUE &  4 & Dept   & A     \\\\\n",
       "\t 353 & FALSE &  5 & Dept   & B     \\\\\n",
       "\t 207 & FALSE &  6 & Dept   & B     \\\\\n",
       "\t  17 & FALSE &  7 & Dept   & B     \\\\\n",
       "\t   8 & FALSE &  8 & Dept   & B     \\\\\n",
       "\t 120 & FALSE &  9 & Dept   & C     \\\\\n",
       "\t 205 & FALSE & 10 & Dept   & C     \\\\\n",
       "\t 202 & FALSE & 11 & Dept   & C     \\\\\n",
       "\t 391 & FALSE & 12 & Dept   & C     \\\\\n",
       "\t 138 & FALSE & 13 & Dept   & D     \\\\\n",
       "\t 279 & FALSE & 14 & Dept   & D     \\\\\n",
       "\t 131 &  TRUE & 15 & Dept   & D     \\\\\n",
       "\t 244 &  TRUE & 16 & Dept   & D     \\\\\n",
       "\t  53 & FALSE & 17 & Dept   & E     \\\\\n",
       "\t 138 & FALSE & 18 & Dept   & E     \\\\\n",
       "\t  94 & FALSE & 19 & Dept   & E     \\\\\n",
       "\t 299 & FALSE & 20 & Dept   & E     \\\\\n",
       "\t  22 & FALSE & 21 & Dept   & F     \\\\\n",
       "\t 351 & FALSE & 22 & Dept   & F     \\\\\n",
       "\t  24 & FALSE & 23 & Dept   & F     \\\\\n",
       "\t 317 & FALSE & 24 & Dept   & F     \\\\\n",
       "\\end{tabular}\n"
      ],
      "text/markdown": [
       "\n",
       "A data.frame: 48 × 5\n",
       "\n",
       "| Freq &lt;dbl&gt; | Highlight &lt;lgl&gt; | cohort &lt;int&gt; | x &lt;fct&gt; | stratum &lt;fct&gt; |\n",
       "|---|---|---|---|---|\n",
       "| 512 | FALSE |  1 | Gender | Male   |\n",
       "| 313 | FALSE |  2 | Gender | Male   |\n",
       "|  89 |  TRUE |  3 | Gender | Female |\n",
       "|  19 |  TRUE |  4 | Gender | Female |\n",
       "| 353 | FALSE |  5 | Gender | Male   |\n",
       "| 207 | FALSE |  6 | Gender | Male   |\n",
       "|  17 | FALSE |  7 | Gender | Female |\n",
       "|   8 | FALSE |  8 | Gender | Female |\n",
       "| 120 | FALSE |  9 | Gender | Male   |\n",
       "| 205 | FALSE | 10 | Gender | Male   |\n",
       "| 202 | FALSE | 11 | Gender | Female |\n",
       "| 391 | FALSE | 12 | Gender | Female |\n",
       "| 138 | FALSE | 13 | Gender | Male   |\n",
       "| 279 | FALSE | 14 | Gender | Male   |\n",
       "| 131 |  TRUE | 15 | Gender | Female |\n",
       "| 244 |  TRUE | 16 | Gender | Female |\n",
       "|  53 | FALSE | 17 | Gender | Male   |\n",
       "| 138 | FALSE | 18 | Gender | Male   |\n",
       "|  94 | FALSE | 19 | Gender | Female |\n",
       "| 299 | FALSE | 20 | Gender | Female |\n",
       "|  22 | FALSE | 21 | Gender | Male   |\n",
       "| 351 | FALSE | 22 | Gender | Male   |\n",
       "|  24 | FALSE | 23 | Gender | Female |\n",
       "| 317 | FALSE | 24 | Gender | Female |\n",
       "| 512 | FALSE |  1 | Dept   | A      |\n",
       "| 313 | FALSE |  2 | Dept   | A      |\n",
       "|  89 |  TRUE |  3 | Dept   | A      |\n",
       "|  19 |  TRUE |  4 | Dept   | A      |\n",
       "| 353 | FALSE |  5 | Dept   | B      |\n",
       "| 207 | FALSE |  6 | Dept   | B      |\n",
       "|  17 | FALSE |  7 | Dept   | B      |\n",
       "|   8 | FALSE |  8 | Dept   | B      |\n",
       "| 120 | FALSE |  9 | Dept   | C      |\n",
       "| 205 | FALSE | 10 | Dept   | C      |\n",
       "| 202 | FALSE | 11 | Dept   | C      |\n",
       "| 391 | FALSE | 12 | Dept   | C      |\n",
       "| 138 | FALSE | 13 | Dept   | D      |\n",
       "| 279 | FALSE | 14 | Dept   | D      |\n",
       "| 131 |  TRUE | 15 | Dept   | D      |\n",
       "| 244 |  TRUE | 16 | Dept   | D      |\n",
       "|  53 | FALSE | 17 | Dept   | E      |\n",
       "| 138 | FALSE | 18 | Dept   | E      |\n",
       "|  94 | FALSE | 19 | Dept   | E      |\n",
       "| 299 | FALSE | 20 | Dept   | E      |\n",
       "|  22 | FALSE | 21 | Dept   | F      |\n",
       "| 351 | FALSE | 22 | Dept   | F      |\n",
       "|  24 | FALSE | 23 | Dept   | F      |\n",
       "| 317 | FALSE | 24 | Dept   | F      |\n",
       "\n"
      ],
      "text/plain": [
       "   Freq Highlight cohort x      stratum\n",
       "1  512  FALSE      1     Gender Male   \n",
       "2  313  FALSE      2     Gender Male   \n",
       "3   89   TRUE      3     Gender Female \n",
       "4   19   TRUE      4     Gender Female \n",
       "5  353  FALSE      5     Gender Male   \n",
       "6  207  FALSE      6     Gender Male   \n",
       "7   17  FALSE      7     Gender Female \n",
       "8    8  FALSE      8     Gender Female \n",
       "9  120  FALSE      9     Gender Male   \n",
       "10 205  FALSE     10     Gender Male   \n",
       "11 202  FALSE     11     Gender Female \n",
       "12 391  FALSE     12     Gender Female \n",
       "13 138  FALSE     13     Gender Male   \n",
       "14 279  FALSE     14     Gender Male   \n",
       "15 131   TRUE     15     Gender Female \n",
       "16 244   TRUE     16     Gender Female \n",
       "17  53  FALSE     17     Gender Male   \n",
       "18 138  FALSE     18     Gender Male   \n",
       "19  94  FALSE     19     Gender Female \n",
       "20 299  FALSE     20     Gender Female \n",
       "21  22  FALSE     21     Gender Male   \n",
       "22 351  FALSE     22     Gender Male   \n",
       "23  24  FALSE     23     Gender Female \n",
       "24 317  FALSE     24     Gender Female \n",
       "25 512  FALSE      1     Dept   A      \n",
       "26 313  FALSE      2     Dept   A      \n",
       "27  89   TRUE      3     Dept   A      \n",
       "28  19   TRUE      4     Dept   A      \n",
       "29 353  FALSE      5     Dept   B      \n",
       "30 207  FALSE      6     Dept   B      \n",
       "31  17  FALSE      7     Dept   B      \n",
       "32   8  FALSE      8     Dept   B      \n",
       "33 120  FALSE      9     Dept   C      \n",
       "34 205  FALSE     10     Dept   C      \n",
       "35 202  FALSE     11     Dept   C      \n",
       "36 391  FALSE     12     Dept   C      \n",
       "37 138  FALSE     13     Dept   D      \n",
       "38 279  FALSE     14     Dept   D      \n",
       "39 131   TRUE     15     Dept   D      \n",
       "40 244   TRUE     16     Dept   D      \n",
       "41  53  FALSE     17     Dept   E      \n",
       "42 138  FALSE     18     Dept   E      \n",
       "43  94  FALSE     19     Dept   E      \n",
       "44 299  FALSE     20     Dept   E      \n",
       "45  22  FALSE     21     Dept   F      \n",
       "46 351  FALSE     22     Dept   F      \n",
       "47  24  FALSE     23     Dept   F      \n",
       "48 317  FALSE     24     Dept   F      "
      ]
     },
     "metadata": {},
     "output_type": "display_data"
    }
   ],
   "source": [
    "ucb_lodes"
   ]
  },
  {
   "cell_type": "code",
   "execution_count": 33,
   "metadata": {},
   "outputs": [],
   "source": [
    "\n",
    "  \n",
    "  \n",
    "  col_vector <- RColorBrewer::brewer.pal(9, 'Set1')\n",
    "  all_colors <- grDevices::colorRampPalette(col_vector)\n",
    "  \n",
    "  plot_palette <- c(col_vector[1:length(levels(ucb_df$Gender))], col_vector[1:length(levels(ucb_df$Dept))])\n",
    "  plot_palette <- stats::setNames(plot_palette, c(levels(ucb_df$Gender), levels(ucb_df$Dept)))\n",
    "  \n",
    "  P <- ggplot2::ggplot(ucb_lodes, ggplot2::aes(x = x, stratum = stratum, y = Freq)) +\n",
    "    ggplot2::scale_x_discrete(expand = c(.1, .1)) +\n",
    "    ggplot2::scale_fill_manual(values=plot_palette) +\n",
    "    ggalluvial::stat_stratum(geom = \"stratum\", alpha = .5, ggplot2::aes(fill = stratum)) +\n",
    "    ggalluvial::stat_stratum(geom = \"text\", ggplot2::aes(label = stratum), size = 3) +\n",
    "    ggalluvial::geom_flow(ggplot2::aes(alluvium = cohort, fill = stratum)) +\n",
    "    ggplot2::ggtitle(\"test with highlights - 1\") +\n",
    "    ggplot2::scale_y_continuous(name=\"Freq\") +\n",
    "    ggplot2::theme_light() +\n",
    "    ggplot2::theme(plot.title=ggplot2::element_text(face=\"bold\",size=20),\n",
    "                   axis.text.x=ggplot2::element_text(size=16),\n",
    "                   axis.text.y=ggplot2::element_text(size=8),\n",
    "                   axis.title.x=ggplot2::element_blank(),\n",
    "                   axis.title.y=ggplot2::element_text(size=16),\n",
    "                   legend.position=\"none\")\n"
   ]
  },
  {
   "cell_type": "code",
   "execution_count": 34,
   "metadata": {},
   "outputs": [
    {
     "name": "stderr",
     "output_type": "stream",
     "text": [
      "Warning message:\n",
      "“`spread_()` was deprecated in tidyr 1.2.0.\n",
      "Please use `spread()` instead.\n",
      "\u001b[90mThis warning is displayed once every 8 hours.\u001b[39m\n",
      "\u001b[90mCall `lifecycle::last_lifecycle_warnings()` to see where this warning was generated.\u001b[39m”\n",
      "Warning message:\n",
      "“The `.dots` argument of `group_by()` is deprecated as of dplyr 1.0.0.\n",
      "\u001b[90mThis warning is displayed once every 8 hours.\u001b[39m\n",
      "\u001b[90mCall `lifecycle::last_lifecycle_warnings()` to see where this warning was generated.\u001b[39m”\n"
     ]
    },
    {
     "data": {
      "image/png": "[encoded data removed]",
      "text/plain": [
       "plot without title"
      ]
     },
     "metadata": {
      "image/png": {
       "height": 420,
       "width": 420
      }
     },
     "output_type": "display_data"
    }
   ],
   "source": [
    "P"
   ]
  },
  {
   "cell_type": "code",
   "execution_count": null,
   "metadata": {},
   "outputs": [],
   "source": [
    "plot_palette <- stats::setNames(rep(\"grey80\",length(plot_palette)), names(plot_palette))\n",
    "  high_colors <- data.frame(ID=c('Female','A','D'), color=c('black','red','blue'))\n",
    "  high_colors <- high_colors[match(names(plot_palette)[names(plot_palette) %in% high_colors$ID], high_colors$ID),]\n",
    "  plot_palette[names(plot_palette) %in% high_colors$ID] <- high_colors$color\n",
    "  \n",
    "  P <- ggplot2::ggplot(ucb_lodes, ggplot2::aes(x = x, stratum = stratum, y = Freq)) +\n",
    "    ggplot2::scale_x_discrete(expand = c(.1, .1)) +\n",
    "    ggplot2::scale_fill_manual(values=plot_palette) +\n",
    "    ggalluvial::stat_stratum(geom = \"stratum\", alpha = .5, ggplot2::aes(fill = stratum)) +\n",
    "    ggalluvial::stat_stratum(geom = \"text\", ggplot2::aes(label = stratum), size = 3) +\n",
    "    ggalluvial::geom_flow(ggplot2::aes(alluvium = cohort, fill = stratum)) +\n",
    "    ggplot2::ggtitle(\"test with highlights - 2\") +\n",
    "    ggplot2::scale_y_continuous(name=\"Freq\") +\n",
    "    ggplot2::theme_light() +\n",
    "    ggplot2::theme(plot.title=ggplot2::element_text(face=\"bold\",size=20),\n",
    "                   axis.text.x=ggplot2::element_text(size=16),\n",
    "                   axis.text.y=ggplot2::element_text(size=8),\n",
    "                   axis.title.x=ggplot2::element_blank(),\n",
    "                   axis.title.y=ggplot2::element_text(size=16),\n",
    "                   legend.position=\"none\")\n"
   ]
  },
  {
   "cell_type": "code",
   "execution_count": null,
   "metadata": {},
   "outputs": [],
   "source": []
  },
  {
   "cell_type": "code",
   "execution_count": null,
   "metadata": {},
   "outputs": [],
   "source": []
  },
  {
   "cell_type": "code",
   "execution_count": null,
   "metadata": {},
   "outputs": [],
   "source": []
  },
  {
   "cell_type": "code",
   "execution_count": 124,
   "metadata": {},
   "outputs": [],
   "source": [
    "p <- ggplot(data = alluvialdf[ !duplicated(alluvialdf$TcRb),], aes(x = Sample, y = Freq, \n",
    "                                   stratum = TcRb, alluvium = xx))\n",
    "myp <- p + \n",
    "geom_stratum(aes(fill = TcRb), decreasing = FALSE, stat = \"alluvium\") +\n",
    "geom_alluvium(aes(fill = xx),decreasing = FALSE) + \n",
    "\n",
    "scale_fill_manual(breaks = names(recurringmotifColors_all[recurringmotifColors_all != \"white\"]), values = recurringmotifColors_all) \n"
   ]
  },
  {
   "cell_type": "code",
   "execution_count": 49,
   "metadata": {},
   "outputs": [],
   "source": [
    "alluvialdf[2,\"TcRb\"] <- \"CASSVALASGANVLTF\"\n",
    "alluvialdf[2,\"xx\"] <- \"SVAL:CASSVALASGANVLTF\""
   ]
  },
  {
   "cell_type": "code",
   "execution_count": 48,
   "metadata": {},
   "outputs": [
    {
     "data": {
      "text/html": [
       "<table class=\"dataframe\">\n",
       "<caption>A data.frame: 50 × 20</caption>\n",
       "<thead>\n",
       "\t<tr><th></th><th scope=col>xx</th><th scope=col>index</th><th scope=col>pattern</th><th scope=col>Fisher_score</th><th scope=col>number_subject</th><th scope=col>number_unique_cdr3</th><th scope=col>final_score</th><th scope=col>hla_score</th><th scope=col>vb_score</th><th scope=col>expansion_score</th><th scope=col>length_score</th><th scope=col>cluster_size_score</th><th scope=col>type</th><th scope=col>ulTcRb</th><th scope=col>TcRb</th><th scope=col>V</th><th scope=col>J</th><th scope=col>TcRa</th><th scope=col>Sample</th><th scope=col>Freq</th></tr>\n",
       "\t<tr><th></th><th scope=col>&lt;chr&gt;</th><th scope=col>&lt;int&gt;</th><th scope=col>&lt;chr&gt;</th><th scope=col>&lt;dbl&gt;</th><th scope=col>&lt;int&gt;</th><th scope=col>&lt;int&gt;</th><th scope=col>&lt;dbl&gt;</th><th scope=col>&lt;dbl&gt;</th><th scope=col>&lt;dbl&gt;</th><th scope=col>&lt;dbl&gt;</th><th scope=col>&lt;dbl&gt;</th><th scope=col>&lt;dbl&gt;</th><th scope=col>&lt;chr&gt;</th><th scope=col>&lt;chr&gt;</th><th scope=col>&lt;chr&gt;</th><th scope=col>&lt;chr&gt;</th><th scope=col>&lt;chr&gt;</th><th scope=col>&lt;chr&gt;</th><th scope=col>&lt;chr&gt;</th><th scope=col>&lt;dbl&gt;</th></tr>\n",
       "</thead>\n",
       "<tbody>\n",
       "\t<tr><th scope=row>1</th><td>SVAL:CASSVALASGANVLTF    </td><td>1</td><td>SVAL     </td><td>4.4e-19</td><td>10</td><td>16</td><td>5.7e-13</td><td>0.0004</td><td>0.001</td><td>0.450</td><td>0.037</td><td>8.6e-05</td><td>motif-SVAL                     </td><td>CASSVaLASGANVLTF   </td><td>CASSVALASGANVLTF   </td><td>TRBV9   </td><td>TRBJ2-6</td><td>CAGAGGGGFKTIF   </td><td>02/0152:MegaIL2 </td><td>2</td></tr>\n",
       "\t<tr><th scope=row>2</th><td>SVAL:CASSVALSNYGYTF      </td><td>1</td><td>SVAL     </td><td>4.4e-19</td><td>10</td><td>16</td><td>5.7e-13</td><td>0.0004</td><td>0.001</td><td>0.450</td><td>0.037</td><td>8.6e-05</td><td>motif-SVAL                     </td><td>CASSValsNYGYTF     </td><td>CASSVALASGANVLTF   </td><td>TRBV9   </td><td>TRBJ1-2</td><td>CAVVASGGSYIPTF  </td><td>01/1013:MtbLys  </td><td>2</td></tr>\n",
       "\t<tr><th scope=row>3</th><td>SVAL:CASSVALYGQSVTF      </td><td>1</td><td>SVAL     </td><td>4.4e-19</td><td>10</td><td>16</td><td>5.7e-13</td><td>0.0004</td><td>0.001</td><td>0.450</td><td>0.037</td><td>8.6e-05</td><td>motif-SVAL                     </td><td>CASSValyGQsvTF     </td><td>CASSVALYGQSVTF     </td><td>TRBV9   </td><td>TRBJ1-2</td><td>CAAFSGTYKYIF    </td><td>09/0328:MtbLys  </td><td>1</td></tr>\n",
       "\t<tr><th scope=row>4</th><td>SVAL:CASSVALLAGTQYF      </td><td>1</td><td>SVAL     </td><td>4.4e-19</td><td>10</td><td>16</td><td>5.7e-13</td><td>0.0004</td><td>0.001</td><td>0.450</td><td>0.037</td><td>8.6e-05</td><td>motif-SVAL                     </td><td>CASSValLAGTQYF     </td><td>CASSVALLAGTQYF     </td><td>TRBV9   </td><td>TRBJ2-3</td><td>CAGPGGTSYGKLTF  </td><td>09/0671:MtbLys  </td><td>1</td></tr>\n",
       "\t<tr><th scope=row>5</th><td>SVAL:CASSVALGAGGGYTF     </td><td>1</td><td>SVAL     </td><td>4.4e-19</td><td>10</td><td>16</td><td>5.7e-13</td><td>0.0004</td><td>0.001</td><td>0.450</td><td>0.037</td><td>8.6e-05</td><td>motif-SVAL                     </td><td>CASSValgAGGGYTF    </td><td>CASSVALGAGGGYTF    </td><td>TRBV9   </td><td>TRBJ1-2</td><td>CAGPSGGSYIPTF   </td><td>09/0328:MtbLys  </td><td>1</td></tr>\n",
       "\t<tr><th scope=row>6</th><td>SVAL:CASSVALLGETQYF      </td><td>1</td><td>SVAL     </td><td>4.4e-19</td><td>10</td><td>16</td><td>5.7e-13</td><td>0.0004</td><td>0.001</td><td>0.450</td><td>0.037</td><td>8.6e-05</td><td>motif-SVAL                     </td><td>CASSVallgETQYF     </td><td>CASSVALLGETQYF     </td><td>TRBV9   </td><td>TRBJ2-5</td><td>CAGAPTGNQFYF    </td><td>09/0772:MtbLys  </td><td>1</td></tr>\n",
       "\t<tr><th scope=row>7</th><td>SVAL:CASSVALLGETQYF      </td><td>1</td><td>SVAL     </td><td>4.4e-19</td><td>10</td><td>16</td><td>5.7e-13</td><td>0.0004</td><td>0.001</td><td>0.450</td><td>0.037</td><td>8.6e-05</td><td>motif-SVAL                     </td><td>CASSVallgETQYF     </td><td>CASSVALLGETQYF     </td><td>TRBV9   </td><td>TRBJ2-5</td><td>CAGTGGTSYGKLTF  </td><td>09/0531:MtbLys  </td><td>1</td></tr>\n",
       "\t<tr><th scope=row>8</th><td>SVAL:CASSVALMGGELFF      </td><td>1</td><td>SVAL     </td><td>4.4e-19</td><td>10</td><td>16</td><td>5.7e-13</td><td>0.0004</td><td>0.001</td><td>0.450</td><td>0.037</td><td>8.6e-05</td><td>motif-SVAL                     </td><td>CASSValmgGELFF     </td><td>CASSVALMGGELFF     </td><td>TRBV9   </td><td>TRBJ2-2</td><td>CASLSGTYKYIF    </td><td>09/0018:MegaIFNg</td><td>1</td></tr>\n",
       "\t<tr><th scope=row>9</th><td>SVAL:CASSVALAGANGYTF     </td><td>1</td><td>SVAL     </td><td>4.4e-19</td><td>10</td><td>16</td><td>5.7e-13</td><td>0.0004</td><td>0.001</td><td>0.450</td><td>0.037</td><td>8.6e-05</td><td>motif-SVAL                     </td><td>CASSVaLAGanGYTF    </td><td>CASSVALAGANGYTF    </td><td>TRBV9   </td><td>TRBJ1-2</td><td>CAGPVQGGNKLVF   </td><td>01/0943:MtbLys  </td><td>1</td></tr>\n",
       "\t<tr><th scope=row>10</th><td>SVAL:CASSVALSGTGTQYF     </td><td>1</td><td>SVAL     </td><td>4.4e-19</td><td>10</td><td>16</td><td>5.7e-13</td><td>0.0004</td><td>0.001</td><td>0.450</td><td>0.037</td><td>8.6e-05</td><td>motif-SVAL                     </td><td>CASSValsGTGTQYF    </td><td>CASSVALSGTGTQYF    </td><td>TRBV9   </td><td>TRBJ2-3</td><td>CAGPGGTSYGKLTF  </td><td>01/0943:MtbLys  </td><td>1</td></tr>\n",
       "\t<tr><th scope=row>11</th><td>SVAL:CASSVALAGNTIYF      </td><td>1</td><td>SVAL     </td><td>4.4e-19</td><td>10</td><td>16</td><td>5.7e-13</td><td>0.0004</td><td>0.001</td><td>0.450</td><td>0.037</td><td>8.6e-05</td><td>motif-SVAL                     </td><td>CASSVaLAGNTIYF     </td><td>CASSVALAGNTIYF     </td><td>TRBV9   </td><td>TRBJ1-3</td><td>CAGDLSQGGKLIF   </td><td>09/0328:MtbLys  </td><td>2</td></tr>\n",
       "\t<tr><th scope=row>12</th><td>SVAL:CASSVALAGAEYF       </td><td>1</td><td>SVAL     </td><td>4.4e-19</td><td>10</td><td>16</td><td>5.7e-13</td><td>0.0004</td><td>0.001</td><td>0.450</td><td>0.037</td><td>8.6e-05</td><td>motif-SVAL                     </td><td>CASSVaLAGaeYF      </td><td>CASSVALAGAEYF      </td><td>TRBV9   </td><td>TRBJ2-3</td><td>CAVGGLSGANSKLTF </td><td>01/0873:MegaIL2 </td><td>2</td></tr>\n",
       "\t<tr><th scope=row>13</th><td>SVAL:CASSVALYANEQFF      </td><td>1</td><td>SVAL     </td><td>4.4e-19</td><td>10</td><td>16</td><td>5.7e-13</td><td>0.0004</td><td>0.001</td><td>0.450</td><td>0.037</td><td>8.6e-05</td><td>motif-SVAL                     </td><td>CASSValyaNEQFF     </td><td>CASSVALYANEQFF     </td><td>TRBV9   </td><td>TRBJ2-1</td><td>CAGPTTGYALNF    </td><td>09/0018:MtbLys  </td><td>1</td></tr>\n",
       "\t<tr><th scope=row>14</th><td>SVAL:CASSVALLGGTQYF      </td><td>1</td><td>SVAL     </td><td>4.4e-19</td><td>10</td><td>16</td><td>5.7e-13</td><td>0.0004</td><td>0.001</td><td>0.450</td><td>0.037</td><td>8.6e-05</td><td>motif-SVAL                     </td><td>CASSVallGGTQYF     </td><td>CASSVALLGGTQYF     </td><td>TRBV9   </td><td>TRBJ2-3</td><td>CAGGGIGTSYGKLTF </td><td>09/0671:MtbLys  </td><td>1</td></tr>\n",
       "\t<tr><th scope=row>15</th><td>SVAL:CASSVALFGEGYTF      </td><td>1</td><td>SVAL     </td><td>4.4e-19</td><td>10</td><td>16</td><td>5.7e-13</td><td>0.0004</td><td>0.001</td><td>0.450</td><td>0.037</td><td>8.6e-05</td><td>motif-SVAL                     </td><td>CASSValfgeGYTF     </td><td>CASSVALFGEGYTF     </td><td>TRBV9   </td><td>TRBJ1-2</td><td>CAGPSGTSYGKLTF  </td><td>09/0328:MtbLys  </td><td>1</td></tr>\n",
       "\t<tr><th scope=row>16</th><td>SVAL:CASSVALGGGNIQYF     </td><td>1</td><td>SVAL     </td><td>4.4e-19</td><td>10</td><td>16</td><td>5.7e-13</td><td>0.0004</td><td>0.001</td><td>0.450</td><td>0.037</td><td>8.6e-05</td><td>motif-SVAL                     </td><td>CASSValGGgNIQYF    </td><td>CASSVALGGGNIQYF    </td><td>TRBV9   </td><td>TRBJ2-4</td><td>CAGVGGTSYGKLTF  </td><td>09/0671:MtbLys  </td><td>1</td></tr>\n",
       "\t<tr><th scope=row>17</th><td>SVAL:CASSVALATGEQYF      </td><td>1</td><td>SVAL     </td><td>4.4e-19</td><td>10</td><td>16</td><td>5.7e-13</td><td>0.0004</td><td>0.001</td><td>0.450</td><td>0.037</td><td>8.6e-05</td><td>motif-SVAL                     </td><td>CASSValaTGEQYF     </td><td>CASSVALATGEQYF     </td><td>TRBV9   </td><td>TRBJ2-7</td><td>CAGPTGGSYIPTF   </td><td>03/0492:MegaIL2 </td><td>1</td></tr>\n",
       "\t<tr><th scope=row>18</th><td>GLVL:CASGLVLVTNTGELFF    </td><td>2</td><td>GLVL     </td><td>3.3e-10</td><td> 7</td><td> 8</td><td>2.5e-09</td><td>0.0280</td><td>0.001</td><td>1.000</td><td>0.110</td><td>8.3e-04</td><td>motif-GLVL                     </td><td>CASGLvlvtNTGELFF   </td><td>CASGLVLVTNTGELFF   </td><td>TRBV12-5</td><td>TRBJ2-2</td><td>CIPFYSGSARQLTF  </td><td>09/0717:MtbLys  </td><td>1</td></tr>\n",
       "\t<tr><th scope=row>19</th><td>GLVL:CASGLVLAGGPLEQFF    </td><td>2</td><td>GLVL     </td><td>3.3e-10</td><td> 7</td><td> 8</td><td>2.5e-09</td><td>0.0280</td><td>0.001</td><td>1.000</td><td>0.110</td><td>8.3e-04</td><td>motif-GLVL                     </td><td>CASGLvLAGGplEQFF   </td><td>CASGLVLAGGPLEQFF   </td><td>TRBV12-5</td><td>TRBJ2-1</td><td>CAQAEDTGRRALTF  </td><td>09/0717:MtbLys  </td><td>1</td></tr>\n",
       "\t<tr><th scope=row>20</th><td>GLVL:CASGLVLRPWRDLNNEQFF </td><td>2</td><td>GLVL     </td><td>3.3e-10</td><td> 7</td><td> 8</td><td>2.5e-09</td><td>0.0280</td><td>0.001</td><td>1.000</td><td>0.110</td><td>8.3e-04</td><td>motif-GLVL                     </td><td>CASGLvlrpwrdlnNEQFF</td><td>CASGLVLRPWRDLNNEQFF</td><td>TRBV12-5</td><td>TRBJ2-1</td><td>CAARGETSGSRLTF  </td><td>01/1013:MtbLys  </td><td>1</td></tr>\n",
       "\t<tr><th scope=row>21</th><td>GLVL:CASGLVLGEAVATNEKLFF </td><td>2</td><td>GLVL     </td><td>3.3e-10</td><td> 7</td><td> 8</td><td>2.5e-09</td><td>0.0280</td><td>0.001</td><td>1.000</td><td>0.110</td><td>8.3e-04</td><td>motif-GLVL                     </td><td>CASGLvlgeavaTNEKLFF</td><td>CASGLVLGEAVATNEKLFF</td><td>TRBV12-5</td><td>TRBJ1-4</td><td>CAVRDLDTGRRALTF </td><td>09/0263:MtbLys  </td><td>1</td></tr>\n",
       "\t<tr><th scope=row>22</th><td>GLVL:CASGLVLGREGNQPQHF   </td><td>2</td><td>GLVL     </td><td>3.3e-10</td><td> 7</td><td> 8</td><td>2.5e-09</td><td>0.0280</td><td>0.001</td><td>1.000</td><td>0.110</td><td>8.3e-04</td><td>motif-GLVL                     </td><td>CASGLvlgREgNQPQHF  </td><td>CASGLVLGREGNQPQHF  </td><td>TRBV12-5</td><td>TRBJ1-5</td><td>CAVEDPTDKLIF    </td><td>01/0385:MtbLys  </td><td>1</td></tr>\n",
       "\t<tr><th scope=row>23</th><td>GLVL:CASGLVLGAQTEAFF     </td><td>2</td><td>GLVL     </td><td>3.3e-10</td><td> 7</td><td> 8</td><td>2.5e-09</td><td>0.0280</td><td>0.001</td><td>1.000</td><td>0.110</td><td>8.3e-04</td><td>motif-GLVL                     </td><td>CASGLvlgaqTEAFF    </td><td>CASGLVLGAQTEAFF    </td><td>TRBV12-5</td><td>TRBJ1-1</td><td>CIPYMDTGRRALTF  </td><td>01/0960:MtbLys  </td><td>1</td></tr>\n",
       "\t<tr><th scope=row>24</th><td>GLVL:CASGLVLGQGPTPQHF    </td><td>2</td><td>GLVL     </td><td>3.3e-10</td><td> 7</td><td> 8</td><td>2.5e-09</td><td>0.0280</td><td>0.001</td><td>1.000</td><td>0.110</td><td>8.3e-04</td><td>motif-GLVL                     </td><td>CASGLvlGQGptPQHF   </td><td>CASGLVLGQGPTPQHF   </td><td>TRBV12-5</td><td>TRBJ1-5</td><td>CAENPFTGRRALTF  </td><td>09/0730:MtbLys  </td><td>1</td></tr>\n",
       "\t<tr><th scope=row>25</th><td>GLVL:CASGLVLTGGYNTEAFF   </td><td>2</td><td>GLVL     </td><td>3.3e-10</td><td> 7</td><td> 8</td><td>2.5e-09</td><td>0.0280</td><td>0.001</td><td>1.000</td><td>0.110</td><td>8.3e-04</td><td>motif-GLVL                     </td><td>CASGLvlTGGyNTEAFF  </td><td>CASGLVLTGGYNTEAFF  </td><td>TRBV12-5</td><td>TRBJ1-1</td><td>CATDWDTGRRALTF  </td><td>01/0329:MtbLys  </td><td>1</td></tr>\n",
       "\t<tr><th scope=row>26</th><td>TESN:CASSRGTESNTEAFF     </td><td>3</td><td>TESN     </td><td>3.7e-10</td><td> 4</td><td> 7</td><td>4.7e-13</td><td>0.0210</td><td>0.001</td><td>0.026</td><td>0.001</td><td>8.6e-04</td><td>motif-TESN                     </td><td>CASSRGTesNTEAFF    </td><td>CASSRGTESNTEAFF    </td><td>TRBV5-1 </td><td>TRBJ1-1</td><td>CALRGDTGRRALTF  </td><td>01/0882:MtbLys  </td><td>2</td></tr>\n",
       "\t<tr><th scope=row>27</th><td>TESN:CASSLGTESNQPQHF     </td><td>3</td><td>TESN     </td><td>3.7e-10</td><td> 4</td><td> 7</td><td>4.7e-13</td><td>0.0210</td><td>0.001</td><td>0.026</td><td>0.001</td><td>8.6e-04</td><td>motif-TESN                     </td><td>CASSLGTeSNQPQHF    </td><td>CASSLGTESNQPQHF    </td><td>TRBV7-2 </td><td>TRBJ1-5</td><td>NA              </td><td>03/0480:MtbLys  </td><td>5</td></tr>\n",
       "\t<tr><th scope=row>28</th><td>TESN:CASSSGTESNQPQHF     </td><td>3</td><td>TESN     </td><td>3.7e-10</td><td> 4</td><td> 7</td><td>4.7e-13</td><td>0.0210</td><td>0.001</td><td>0.026</td><td>0.001</td><td>8.6e-04</td><td>motif-TESN                     </td><td>CASSSGTeSNQPQHF    </td><td>CASSSGTESNQPQHF    </td><td>TRBV7-2 </td><td>TRBJ1-5</td><td>NA              </td><td>01/0873:MtbLys  </td><td>1</td></tr>\n",
       "\t<tr><th scope=row>29</th><td>TESN:CASSPGTESNSPLHF     </td><td>3</td><td>TESN     </td><td>3.7e-10</td><td> 4</td><td> 7</td><td>4.7e-13</td><td>0.0210</td><td>0.001</td><td>0.026</td><td>0.001</td><td>8.6e-04</td><td>motif-TESN                     </td><td>CASSPGTesNSPLHF    </td><td>CASSPGTESNSPLHF    </td><td>TRBV7-2 </td><td>TRBJ1-6</td><td>NA              </td><td>03/0480:MtbLys  </td><td>1</td></tr>\n",
       "\t<tr><th scope=row>30</th><td>TESN:CASTGGTESNQPQHF     </td><td>3</td><td>TESN     </td><td>3.7e-10</td><td> 4</td><td> 7</td><td>4.7e-13</td><td>0.0210</td><td>0.001</td><td>0.026</td><td>0.001</td><td>8.6e-04</td><td>motif-TESN                     </td><td>CASTgGTeSNQPQHF    </td><td>CASTGGTESNQPQHF    </td><td>TRBV6-1 </td><td>TRBJ1-5</td><td>CALVYSGGYQKVTF  </td><td>03/0480:MtbLys  </td><td>2</td></tr>\n",
       "\t<tr><th scope=row>31</th><td>TESN:CASSPGTESNQPQHF     </td><td>3</td><td>TESN     </td><td>3.7e-10</td><td> 4</td><td> 7</td><td>4.7e-13</td><td>0.0210</td><td>0.001</td><td>0.026</td><td>0.001</td><td>8.6e-04</td><td>motif-TESN                     </td><td>CASSPGTeSNQPQHF    </td><td>CASSPGTESNQPQHF    </td><td>TRBV7-2 </td><td>TRBJ1-5</td><td>CALMNSGGYQKVTF  </td><td>03/0480:MtbLys  </td><td>2</td></tr>\n",
       "\t<tr><th scope=row>32</th><td>TESN:CASSPGTESNQPQHF     </td><td>3</td><td>TESN     </td><td>3.7e-10</td><td> 4</td><td> 7</td><td>4.7e-13</td><td>0.0210</td><td>0.001</td><td>0.026</td><td>0.001</td><td>8.6e-04</td><td>motif-TESN                     </td><td>CASSPGTeSNQPQHF    </td><td>CASSPGTESNQPQHF    </td><td>TRBV7-2 </td><td>TRBJ1-5</td><td>NA              </td><td>09/0671:MtbLys  </td><td>1</td></tr>\n",
       "\t<tr><th scope=row>33</th><td>TESN:CASSFGTESNQPQHF     </td><td>3</td><td>TESN     </td><td>3.7e-10</td><td> 4</td><td> 7</td><td>4.7e-13</td><td>0.0210</td><td>0.001</td><td>0.026</td><td>0.001</td><td>8.6e-04</td><td>motif-TESN                     </td><td>CASSfGTeSNQPQHF    </td><td>CASSFGTESNQPQHF    </td><td>TRBV7-2 </td><td>TRBJ1-5</td><td>CALILSGGYQKVTF  </td><td>03/0480:MtbLys  </td><td>3</td></tr>\n",
       "\t<tr><th scope=row>34</th><td>EEPR:CSVEEPRGQPQHF       </td><td>4</td><td>EEPR     </td><td>1.0e-08</td><td> 2</td><td> 5</td><td>2.5e-12</td><td>0.0036</td><td>0.001</td><td>0.480</td><td>0.001</td><td>1.5e-03</td><td>motif-EEPR                     </td><td>CSVEepRGQPQHF      </td><td>CSVEEPRGQPQHF      </td><td>TRBV29-1</td><td>TRBJ1-5</td><td>CAVIEAAGNKLTF   </td><td>09/0730:MtbLys  </td><td>1</td></tr>\n",
       "\t<tr><th scope=row>35</th><td>EEPR:CSVEEPRHTEAFF       </td><td>4</td><td>EEPR     </td><td>1.0e-08</td><td> 2</td><td> 5</td><td>2.5e-12</td><td>0.0036</td><td>0.001</td><td>0.480</td><td>0.001</td><td>1.5e-03</td><td>motif-EEPR                     </td><td>CSVEeprhTEAFF      </td><td>CSVEEPRHTEAFF      </td><td>TRBV29-1</td><td>TRBJ1-1</td><td>CAVRPNYGQNFVF   </td><td>09/0730:MtbLys  </td><td>1</td></tr>\n",
       "\t<tr><th scope=row>36</th><td>EEPR:CSVEEPRGTAFF        </td><td>4</td><td>EEPR     </td><td>1.0e-08</td><td> 2</td><td> 5</td><td>2.5e-12</td><td>0.0036</td><td>0.001</td><td>0.480</td><td>0.001</td><td>1.5e-03</td><td>motif-EEPR                     </td><td>CSVEepRGtAFF       </td><td>CSVEEPRGTAFF       </td><td>TRBV29-1</td><td>TRBJ1-1</td><td>NA              </td><td>03/0493:MtbLys  </td><td>1</td></tr>\n",
       "\t<tr><th scope=row>37</th><td>EEPR:CSVEEPRNTIYF        </td><td>4</td><td>EEPR     </td><td>1.0e-08</td><td> 2</td><td> 5</td><td>2.5e-12</td><td>0.0036</td><td>0.001</td><td>0.480</td><td>0.001</td><td>1.5e-03</td><td>motif-EEPR                     </td><td>CSVEeprNTIYF       </td><td>CSVEEPRNTIYF       </td><td>TRBV29-1</td><td>TRBJ1-3</td><td>CAVRLTGNQFYF    </td><td>03/0493:MtbLys  </td><td>2</td></tr>\n",
       "\t<tr><th scope=row>38</th><td>EEPR:CSVEEPRQTEQFF       </td><td>4</td><td>EEPR     </td><td>1.0e-08</td><td> 2</td><td> 5</td><td>2.5e-12</td><td>0.0036</td><td>0.001</td><td>0.480</td><td>0.001</td><td>1.5e-03</td><td>motif-EEPR                     </td><td>CSVEeprqtEQFF      </td><td>CSVEEPRQTEQFF      </td><td>TRBV29-1</td><td>TRBJ2-1</td><td>CEGGFNKFYF      </td><td>03/0493:MtbLys  </td><td>1</td></tr>\n",
       "\t<tr><th scope=row>39</th><td>SQFL:CASSQFLDPLYTF       </td><td>5</td><td>SQFL     </td><td>1.7e-08</td><td> 3</td><td> 4</td><td>1.6e-07</td><td>0.0360</td><td>0.010</td><td>1.000</td><td>0.190</td><td>2.3e-03</td><td>motif-QFL motif-SQFL           </td><td>CASSQfldplYTF      </td><td>CASSQFLDPLYTF      </td><td>TRBV3-1 </td><td>TRBJ1-2</td><td>CAVTSNTNAGKSTF  </td><td>03/0302:MtbLys  </td><td>1</td></tr>\n",
       "\t<tr><th scope=row>40</th><td>SQFL:CASSQFLGDEQFF       </td><td>5</td><td>SQFL     </td><td>1.7e-08</td><td> 3</td><td> 4</td><td>1.6e-07</td><td>0.0360</td><td>0.010</td><td>1.000</td><td>0.190</td><td>2.3e-03</td><td>motif-QFL motif-SQFL           </td><td>CASSQflgdEQFF      </td><td>CASSQFLGDEQFF      </td><td>TRBV3-1 </td><td>TRBJ2-1</td><td>CAALPGIQGGKLIF  </td><td>09/0334:MtbLys  </td><td>1</td></tr>\n",
       "\t<tr><th scope=row>41</th><td>SQFL:CASSQFLAAQTQYF      </td><td>5</td><td>SQFL     </td><td>1.7e-08</td><td> 3</td><td> 4</td><td>1.6e-07</td><td>0.0360</td><td>0.010</td><td>1.000</td><td>0.190</td><td>2.3e-03</td><td>motif-QFL motif-SQFL           </td><td>CASSQfLAaqTQYF     </td><td>CASSQFLAAQTQYF     </td><td>TRBV3-1 </td><td>TRBJ2-3</td><td>NA              </td><td>03/0302:MtbLys  </td><td>1</td></tr>\n",
       "\t<tr><th scope=row>42</th><td>SQFL:CASSQFLIAGTNTEAFF   </td><td>5</td><td>SQFL     </td><td>1.7e-08</td><td> 3</td><td> 4</td><td>1.6e-07</td><td>0.0360</td><td>0.010</td><td>1.000</td><td>0.190</td><td>2.3e-03</td><td>motif-QFL motif-SQFL           </td><td>CASSQfliaGTNTEAFF  </td><td>CASSQFLIAGTNTEAFF  </td><td>TRBV14  </td><td>TRBJ1-1</td><td>CIPLSYNTDKLIF   </td><td>09/0531:MtbLys  </td><td>1</td></tr>\n",
       "\t<tr><th scope=row>43</th><td>S%GTESNQP:CASSLGTESNQPQHF</td><td>6</td><td>S%GTESNQP</td><td>2.0e-08</td><td> 3</td><td> 4</td><td>6.2e-13</td><td>0.0110</td><td>0.001</td><td>0.025</td><td>0.001</td><td>2.3e-03</td><td>motif-TESN global-S%GTESNQP    </td><td>CASSLGTeSNQPQHF    </td><td>CASSLGTESNQPQHF    </td><td>TRBV7-2 </td><td>TRBJ1-5</td><td>NA              </td><td>03/0480:MtbLys  </td><td>5</td></tr>\n",
       "\t<tr><th scope=row>44</th><td>S%GTESNQP:CASSSGTESNQPQHF</td><td>6</td><td>S%GTESNQP</td><td>2.0e-08</td><td> 3</td><td> 4</td><td>6.2e-13</td><td>0.0110</td><td>0.001</td><td>0.025</td><td>0.001</td><td>2.3e-03</td><td>motif-TESN global-S%GTESNQP    </td><td>CASSSGTeSNQPQHF    </td><td>CASSSGTESNQPQHF    </td><td>TRBV7-2 </td><td>TRBJ1-5</td><td>NA              </td><td>01/0873:MtbLys  </td><td>1</td></tr>\n",
       "\t<tr><th scope=row>45</th><td>S%GTESNQP:CASSPGTESNQPQHF</td><td>6</td><td>S%GTESNQP</td><td>2.0e-08</td><td> 3</td><td> 4</td><td>6.2e-13</td><td>0.0110</td><td>0.001</td><td>0.025</td><td>0.001</td><td>2.3e-03</td><td>motif-TESN global-S%GTESNQP    </td><td>CASSPGTeSNQPQHF    </td><td>CASSPGTESNQPQHF    </td><td>TRBV7-2 </td><td>TRBJ1-5</td><td>CALMNSGGYQKVTF  </td><td>03/0480:MtbLys  </td><td>2</td></tr>\n",
       "\t<tr><th scope=row>46</th><td>S%GTESNQP:CASSPGTESNQPQHF</td><td>6</td><td>S%GTESNQP</td><td>2.0e-08</td><td> 3</td><td> 4</td><td>6.2e-13</td><td>0.0110</td><td>0.001</td><td>0.025</td><td>0.001</td><td>2.3e-03</td><td>motif-TESN global-S%GTESNQP    </td><td>CASSPGTeSNQPQHF    </td><td>CASSPGTESNQPQHF    </td><td>TRBV7-2 </td><td>TRBJ1-5</td><td>NA              </td><td>09/0671:MtbLys  </td><td>1</td></tr>\n",
       "\t<tr><th scope=row>47</th><td>S%GTESNQP:CASSFGTESNQPQHF</td><td>6</td><td>S%GTESNQP</td><td>2.0e-08</td><td> 3</td><td> 4</td><td>6.2e-13</td><td>0.0110</td><td>0.001</td><td>0.025</td><td>0.001</td><td>2.3e-03</td><td>motif-TESN global-S%GTESNQP    </td><td>CASSfGTeSNQPQHF    </td><td>CASSFGTESNQPQHF    </td><td>TRBV7-2 </td><td>TRBJ1-5</td><td>CALILSGGYQKVTF  </td><td>03/0480:MtbLys  </td><td>3</td></tr>\n",
       "\t<tr><th scope=row>48</th><td>QFIG:CASSQFIGDTDQSDTQYF  </td><td>7</td><td>QFIG     </td><td>3.1e-08</td><td> 3</td><td> 3</td><td>1.0e-08</td><td>0.0370</td><td>0.001</td><td>0.210</td><td>0.220</td><td>6.2e-03</td><td>motif-QFI motif-SQFI motif-QFIG</td><td>CASSQfigdtdqsDTQYF </td><td>CASSQFIGDTDQSDTQYF </td><td>TRBV4-3 </td><td>TRBJ2-3</td><td>NA              </td><td>01/0873:MtbLys  </td><td>2</td></tr>\n",
       "\t<tr><th scope=row>49</th><td>QFIG:CASSQFIGDTDQSDTQYF  </td><td>7</td><td>QFIG     </td><td>3.1e-08</td><td> 3</td><td> 3</td><td>1.0e-08</td><td>0.0370</td><td>0.001</td><td>0.210</td><td>0.220</td><td>6.2e-03</td><td>motif-QFI motif-SQFI motif-QFIG</td><td>CASSQfigdtdqsDTQYF </td><td>CASSQFIGDTDQSDTQYF </td><td>TRBV4-3 </td><td>TRBJ2-3</td><td>CVVNDWAGRRALTF  </td><td>01/0873:MegaIFNg</td><td>1</td></tr>\n",
       "\t<tr><th scope=row>50</th><td>QFIG:CASSQFIGGEYEQYF     </td><td>7</td><td>QFIG     </td><td>3.1e-08</td><td> 3</td><td> 3</td><td>1.0e-08</td><td>0.0370</td><td>0.001</td><td>0.210</td><td>0.220</td><td>6.2e-03</td><td>motif-QFI motif-SQFI motif-QFIG</td><td>CASSQfiGGeYEQYF    </td><td>CASSQFIGGEYEQYF    </td><td>TRBV3-1 </td><td>TRBJ2-7</td><td>CAVSGNRGSTLGRLYF</td><td>09/0334:MtbLys  </td><td>2</td></tr>\n",
       "</tbody>\n",
       "</table>\n"
      ],
      "text/latex": [
       "A data.frame: 50 × 20\n",
       "\\begin{tabular}{r|llllllllllllllllllll}\n",
       "  & xx & index & pattern & Fisher\\_score & number\\_subject & number\\_unique\\_cdr3 & final\\_score & hla\\_score & vb\\_score & expansion\\_score & length\\_score & cluster\\_size\\_score & type & ulTcRb & TcRb & V & J & TcRa & Sample & Freq\\\\\n",
       "  & <chr> & <int> & <chr> & <dbl> & <int> & <int> & <dbl> & <dbl> & <dbl> & <dbl> & <dbl> & <dbl> & <chr> & <chr> & <chr> & <chr> & <chr> & <chr> & <chr> & <dbl>\\\\\n",
       "\\hline\n",
       "\t1 & SVAL:CASSVALASGANVLTF     & 1 & SVAL      & 4.4e-19 & 10 & 16 & 5.7e-13 & 0.0004 & 0.001 & 0.450 & 0.037 & 8.6e-05 & motif-SVAL                      & CASSVaLASGANVLTF    & CASSVALASGANVLTF    & TRBV9    & TRBJ2-6 & CAGAGGGGFKTIF    & 02/0152:MegaIL2  & 2\\\\\n",
       "\t2 & SVAL:CASSVALSNYGYTF       & 1 & SVAL      & 4.4e-19 & 10 & 16 & 5.7e-13 & 0.0004 & 0.001 & 0.450 & 0.037 & 8.6e-05 & motif-SVAL                      & CASSValsNYGYTF      & CASSVALASGANVLTF    & TRBV9    & TRBJ1-2 & CAVVASGGSYIPTF   & 01/1013:MtbLys   & 2\\\\\n",
       "\t3 & SVAL:CASSVALYGQSVTF       & 1 & SVAL      & 4.4e-19 & 10 & 16 & 5.7e-13 & 0.0004 & 0.001 & 0.450 & 0.037 & 8.6e-05 & motif-SVAL                      & CASSValyGQsvTF      & CASSVALYGQSVTF      & TRBV9    & TRBJ1-2 & CAAFSGTYKYIF     & 09/0328:MtbLys   & 1\\\\\n",
       "\t4 & SVAL:CASSVALLAGTQYF       & 1 & SVAL      & 4.4e-19 & 10 & 16 & 5.7e-13 & 0.0004 & 0.001 & 0.450 & 0.037 & 8.6e-05 & motif-SVAL                      & CASSValLAGTQYF      & CASSVALLAGTQYF      & TRBV9    & TRBJ2-3 & CAGPGGTSYGKLTF   & 09/0671:MtbLys   & 1\\\\\n",
       "\t5 & SVAL:CASSVALGAGGGYTF      & 1 & SVAL      & 4.4e-19 & 10 & 16 & 5.7e-13 & 0.0004 & 0.001 & 0.450 & 0.037 & 8.6e-05 & motif-SVAL                      & CASSValgAGGGYTF     & CASSVALGAGGGYTF     & TRBV9    & TRBJ1-2 & CAGPSGGSYIPTF    & 09/0328:MtbLys   & 1\\\\\n",
       "\t6 & SVAL:CASSVALLGETQYF       & 1 & SVAL      & 4.4e-19 & 10 & 16 & 5.7e-13 & 0.0004 & 0.001 & 0.450 & 0.037 & 8.6e-05 & motif-SVAL                      & CASSVallgETQYF      & CASSVALLGETQYF      & TRBV9    & TRBJ2-5 & CAGAPTGNQFYF     & 09/0772:MtbLys   & 1\\\\\n",
       "\t7 & SVAL:CASSVALLGETQYF       & 1 & SVAL      & 4.4e-19 & 10 & 16 & 5.7e-13 & 0.0004 & 0.001 & 0.450 & 0.037 & 8.6e-05 & motif-SVAL                      & CASSVallgETQYF      & CASSVALLGETQYF      & TRBV9    & TRBJ2-5 & CAGTGGTSYGKLTF   & 09/0531:MtbLys   & 1\\\\\n",
       "\t8 & SVAL:CASSVALMGGELFF       & 1 & SVAL      & 4.4e-19 & 10 & 16 & 5.7e-13 & 0.0004 & 0.001 & 0.450 & 0.037 & 8.6e-05 & motif-SVAL                      & CASSValmgGELFF      & CASSVALMGGELFF      & TRBV9    & TRBJ2-2 & CASLSGTYKYIF     & 09/0018:MegaIFNg & 1\\\\\n",
       "\t9 & SVAL:CASSVALAGANGYTF      & 1 & SVAL      & 4.4e-19 & 10 & 16 & 5.7e-13 & 0.0004 & 0.001 & 0.450 & 0.037 & 8.6e-05 & motif-SVAL                      & CASSVaLAGanGYTF     & CASSVALAGANGYTF     & TRBV9    & TRBJ1-2 & CAGPVQGGNKLVF    & 01/0943:MtbLys   & 1\\\\\n",
       "\t10 & SVAL:CASSVALSGTGTQYF      & 1 & SVAL      & 4.4e-19 & 10 & 16 & 5.7e-13 & 0.0004 & 0.001 & 0.450 & 0.037 & 8.6e-05 & motif-SVAL                      & CASSValsGTGTQYF     & CASSVALSGTGTQYF     & TRBV9    & TRBJ2-3 & CAGPGGTSYGKLTF   & 01/0943:MtbLys   & 1\\\\\n",
       "\t11 & SVAL:CASSVALAGNTIYF       & 1 & SVAL      & 4.4e-19 & 10 & 16 & 5.7e-13 & 0.0004 & 0.001 & 0.450 & 0.037 & 8.6e-05 & motif-SVAL                      & CASSVaLAGNTIYF      & CASSVALAGNTIYF      & TRBV9    & TRBJ1-3 & CAGDLSQGGKLIF    & 09/0328:MtbLys   & 2\\\\\n",
       "\t12 & SVAL:CASSVALAGAEYF        & 1 & SVAL      & 4.4e-19 & 10 & 16 & 5.7e-13 & 0.0004 & 0.001 & 0.450 & 0.037 & 8.6e-05 & motif-SVAL                      & CASSVaLAGaeYF       & CASSVALAGAEYF       & TRBV9    & TRBJ2-3 & CAVGGLSGANSKLTF  & 01/0873:MegaIL2  & 2\\\\\n",
       "\t13 & SVAL:CASSVALYANEQFF       & 1 & SVAL      & 4.4e-19 & 10 & 16 & 5.7e-13 & 0.0004 & 0.001 & 0.450 & 0.037 & 8.6e-05 & motif-SVAL                      & CASSValyaNEQFF      & CASSVALYANEQFF      & TRBV9    & TRBJ2-1 & CAGPTTGYALNF     & 09/0018:MtbLys   & 1\\\\\n",
       "\t14 & SVAL:CASSVALLGGTQYF       & 1 & SVAL      & 4.4e-19 & 10 & 16 & 5.7e-13 & 0.0004 & 0.001 & 0.450 & 0.037 & 8.6e-05 & motif-SVAL                      & CASSVallGGTQYF      & CASSVALLGGTQYF      & TRBV9    & TRBJ2-3 & CAGGGIGTSYGKLTF  & 09/0671:MtbLys   & 1\\\\\n",
       "\t15 & SVAL:CASSVALFGEGYTF       & 1 & SVAL      & 4.4e-19 & 10 & 16 & 5.7e-13 & 0.0004 & 0.001 & 0.450 & 0.037 & 8.6e-05 & motif-SVAL                      & CASSValfgeGYTF      & CASSVALFGEGYTF      & TRBV9    & TRBJ1-2 & CAGPSGTSYGKLTF   & 09/0328:MtbLys   & 1\\\\\n",
       "\t16 & SVAL:CASSVALGGGNIQYF      & 1 & SVAL      & 4.4e-19 & 10 & 16 & 5.7e-13 & 0.0004 & 0.001 & 0.450 & 0.037 & 8.6e-05 & motif-SVAL                      & CASSValGGgNIQYF     & CASSVALGGGNIQYF     & TRBV9    & TRBJ2-4 & CAGVGGTSYGKLTF   & 09/0671:MtbLys   & 1\\\\\n",
       "\t17 & SVAL:CASSVALATGEQYF       & 1 & SVAL      & 4.4e-19 & 10 & 16 & 5.7e-13 & 0.0004 & 0.001 & 0.450 & 0.037 & 8.6e-05 & motif-SVAL                      & CASSValaTGEQYF      & CASSVALATGEQYF      & TRBV9    & TRBJ2-7 & CAGPTGGSYIPTF    & 03/0492:MegaIL2  & 1\\\\\n",
       "\t18 & GLVL:CASGLVLVTNTGELFF     & 2 & GLVL      & 3.3e-10 &  7 &  8 & 2.5e-09 & 0.0280 & 0.001 & 1.000 & 0.110 & 8.3e-04 & motif-GLVL                      & CASGLvlvtNTGELFF    & CASGLVLVTNTGELFF    & TRBV12-5 & TRBJ2-2 & CIPFYSGSARQLTF   & 09/0717:MtbLys   & 1\\\\\n",
       "\t19 & GLVL:CASGLVLAGGPLEQFF     & 2 & GLVL      & 3.3e-10 &  7 &  8 & 2.5e-09 & 0.0280 & 0.001 & 1.000 & 0.110 & 8.3e-04 & motif-GLVL                      & CASGLvLAGGplEQFF    & CASGLVLAGGPLEQFF    & TRBV12-5 & TRBJ2-1 & CAQAEDTGRRALTF   & 09/0717:MtbLys   & 1\\\\\n",
       "\t20 & GLVL:CASGLVLRPWRDLNNEQFF  & 2 & GLVL      & 3.3e-10 &  7 &  8 & 2.5e-09 & 0.0280 & 0.001 & 1.000 & 0.110 & 8.3e-04 & motif-GLVL                      & CASGLvlrpwrdlnNEQFF & CASGLVLRPWRDLNNEQFF & TRBV12-5 & TRBJ2-1 & CAARGETSGSRLTF   & 01/1013:MtbLys   & 1\\\\\n",
       "\t21 & GLVL:CASGLVLGEAVATNEKLFF  & 2 & GLVL      & 3.3e-10 &  7 &  8 & 2.5e-09 & 0.0280 & 0.001 & 1.000 & 0.110 & 8.3e-04 & motif-GLVL                      & CASGLvlgeavaTNEKLFF & CASGLVLGEAVATNEKLFF & TRBV12-5 & TRBJ1-4 & CAVRDLDTGRRALTF  & 09/0263:MtbLys   & 1\\\\\n",
       "\t22 & GLVL:CASGLVLGREGNQPQHF    & 2 & GLVL      & 3.3e-10 &  7 &  8 & 2.5e-09 & 0.0280 & 0.001 & 1.000 & 0.110 & 8.3e-04 & motif-GLVL                      & CASGLvlgREgNQPQHF   & CASGLVLGREGNQPQHF   & TRBV12-5 & TRBJ1-5 & CAVEDPTDKLIF     & 01/0385:MtbLys   & 1\\\\\n",
       "\t23 & GLVL:CASGLVLGAQTEAFF      & 2 & GLVL      & 3.3e-10 &  7 &  8 & 2.5e-09 & 0.0280 & 0.001 & 1.000 & 0.110 & 8.3e-04 & motif-GLVL                      & CASGLvlgaqTEAFF     & CASGLVLGAQTEAFF     & TRBV12-5 & TRBJ1-1 & CIPYMDTGRRALTF   & 01/0960:MtbLys   & 1\\\\\n",
       "\t24 & GLVL:CASGLVLGQGPTPQHF     & 2 & GLVL      & 3.3e-10 &  7 &  8 & 2.5e-09 & 0.0280 & 0.001 & 1.000 & 0.110 & 8.3e-04 & motif-GLVL                      & CASGLvlGQGptPQHF    & CASGLVLGQGPTPQHF    & TRBV12-5 & TRBJ1-5 & CAENPFTGRRALTF   & 09/0730:MtbLys   & 1\\\\\n",
       "\t25 & GLVL:CASGLVLTGGYNTEAFF    & 2 & GLVL      & 3.3e-10 &  7 &  8 & 2.5e-09 & 0.0280 & 0.001 & 1.000 & 0.110 & 8.3e-04 & motif-GLVL                      & CASGLvlTGGyNTEAFF   & CASGLVLTGGYNTEAFF   & TRBV12-5 & TRBJ1-1 & CATDWDTGRRALTF   & 01/0329:MtbLys   & 1\\\\\n",
       "\t26 & TESN:CASSRGTESNTEAFF      & 3 & TESN      & 3.7e-10 &  4 &  7 & 4.7e-13 & 0.0210 & 0.001 & 0.026 & 0.001 & 8.6e-04 & motif-TESN                      & CASSRGTesNTEAFF     & CASSRGTESNTEAFF     & TRBV5-1  & TRBJ1-1 & CALRGDTGRRALTF   & 01/0882:MtbLys   & 2\\\\\n",
       "\t27 & TESN:CASSLGTESNQPQHF      & 3 & TESN      & 3.7e-10 &  4 &  7 & 4.7e-13 & 0.0210 & 0.001 & 0.026 & 0.001 & 8.6e-04 & motif-TESN                      & CASSLGTeSNQPQHF     & CASSLGTESNQPQHF     & TRBV7-2  & TRBJ1-5 & NA               & 03/0480:MtbLys   & 5\\\\\n",
       "\t28 & TESN:CASSSGTESNQPQHF      & 3 & TESN      & 3.7e-10 &  4 &  7 & 4.7e-13 & 0.0210 & 0.001 & 0.026 & 0.001 & 8.6e-04 & motif-TESN                      & CASSSGTeSNQPQHF     & CASSSGTESNQPQHF     & TRBV7-2  & TRBJ1-5 & NA               & 01/0873:MtbLys   & 1\\\\\n",
       "\t29 & TESN:CASSPGTESNSPLHF      & 3 & TESN      & 3.7e-10 &  4 &  7 & 4.7e-13 & 0.0210 & 0.001 & 0.026 & 0.001 & 8.6e-04 & motif-TESN                      & CASSPGTesNSPLHF     & CASSPGTESNSPLHF     & TRBV7-2  & TRBJ1-6 & NA               & 03/0480:MtbLys   & 1\\\\\n",
       "\t30 & TESN:CASTGGTESNQPQHF      & 3 & TESN      & 3.7e-10 &  4 &  7 & 4.7e-13 & 0.0210 & 0.001 & 0.026 & 0.001 & 8.6e-04 & motif-TESN                      & CASTgGTeSNQPQHF     & CASTGGTESNQPQHF     & TRBV6-1  & TRBJ1-5 & CALVYSGGYQKVTF   & 03/0480:MtbLys   & 2\\\\\n",
       "\t31 & TESN:CASSPGTESNQPQHF      & 3 & TESN      & 3.7e-10 &  4 &  7 & 4.7e-13 & 0.0210 & 0.001 & 0.026 & 0.001 & 8.6e-04 & motif-TESN                      & CASSPGTeSNQPQHF     & CASSPGTESNQPQHF     & TRBV7-2  & TRBJ1-5 & CALMNSGGYQKVTF   & 03/0480:MtbLys   & 2\\\\\n",
       "\t32 & TESN:CASSPGTESNQPQHF      & 3 & TESN      & 3.7e-10 &  4 &  7 & 4.7e-13 & 0.0210 & 0.001 & 0.026 & 0.001 & 8.6e-04 & motif-TESN                      & CASSPGTeSNQPQHF     & CASSPGTESNQPQHF     & TRBV7-2  & TRBJ1-5 & NA               & 09/0671:MtbLys   & 1\\\\\n",
       "\t33 & TESN:CASSFGTESNQPQHF      & 3 & TESN      & 3.7e-10 &  4 &  7 & 4.7e-13 & 0.0210 & 0.001 & 0.026 & 0.001 & 8.6e-04 & motif-TESN                      & CASSfGTeSNQPQHF     & CASSFGTESNQPQHF     & TRBV7-2  & TRBJ1-5 & CALILSGGYQKVTF   & 03/0480:MtbLys   & 3\\\\\n",
       "\t34 & EEPR:CSVEEPRGQPQHF        & 4 & EEPR      & 1.0e-08 &  2 &  5 & 2.5e-12 & 0.0036 & 0.001 & 0.480 & 0.001 & 1.5e-03 & motif-EEPR                      & CSVEepRGQPQHF       & CSVEEPRGQPQHF       & TRBV29-1 & TRBJ1-5 & CAVIEAAGNKLTF    & 09/0730:MtbLys   & 1\\\\\n",
       "\t35 & EEPR:CSVEEPRHTEAFF        & 4 & EEPR      & 1.0e-08 &  2 &  5 & 2.5e-12 & 0.0036 & 0.001 & 0.480 & 0.001 & 1.5e-03 & motif-EEPR                      & CSVEeprhTEAFF       & CSVEEPRHTEAFF       & TRBV29-1 & TRBJ1-1 & CAVRPNYGQNFVF    & 09/0730:MtbLys   & 1\\\\\n",
       "\t36 & EEPR:CSVEEPRGTAFF         & 4 & EEPR      & 1.0e-08 &  2 &  5 & 2.5e-12 & 0.0036 & 0.001 & 0.480 & 0.001 & 1.5e-03 & motif-EEPR                      & CSVEepRGtAFF        & CSVEEPRGTAFF        & TRBV29-1 & TRBJ1-1 & NA               & 03/0493:MtbLys   & 1\\\\\n",
       "\t37 & EEPR:CSVEEPRNTIYF         & 4 & EEPR      & 1.0e-08 &  2 &  5 & 2.5e-12 & 0.0036 & 0.001 & 0.480 & 0.001 & 1.5e-03 & motif-EEPR                      & CSVEeprNTIYF        & CSVEEPRNTIYF        & TRBV29-1 & TRBJ1-3 & CAVRLTGNQFYF     & 03/0493:MtbLys   & 2\\\\\n",
       "\t38 & EEPR:CSVEEPRQTEQFF        & 4 & EEPR      & 1.0e-08 &  2 &  5 & 2.5e-12 & 0.0036 & 0.001 & 0.480 & 0.001 & 1.5e-03 & motif-EEPR                      & CSVEeprqtEQFF       & CSVEEPRQTEQFF       & TRBV29-1 & TRBJ2-1 & CEGGFNKFYF       & 03/0493:MtbLys   & 1\\\\\n",
       "\t39 & SQFL:CASSQFLDPLYTF        & 5 & SQFL      & 1.7e-08 &  3 &  4 & 1.6e-07 & 0.0360 & 0.010 & 1.000 & 0.190 & 2.3e-03 & motif-QFL motif-SQFL            & CASSQfldplYTF       & CASSQFLDPLYTF       & TRBV3-1  & TRBJ1-2 & CAVTSNTNAGKSTF   & 03/0302:MtbLys   & 1\\\\\n",
       "\t40 & SQFL:CASSQFLGDEQFF        & 5 & SQFL      & 1.7e-08 &  3 &  4 & 1.6e-07 & 0.0360 & 0.010 & 1.000 & 0.190 & 2.3e-03 & motif-QFL motif-SQFL            & CASSQflgdEQFF       & CASSQFLGDEQFF       & TRBV3-1  & TRBJ2-1 & CAALPGIQGGKLIF   & 09/0334:MtbLys   & 1\\\\\n",
       "\t41 & SQFL:CASSQFLAAQTQYF       & 5 & SQFL      & 1.7e-08 &  3 &  4 & 1.6e-07 & 0.0360 & 0.010 & 1.000 & 0.190 & 2.3e-03 & motif-QFL motif-SQFL            & CASSQfLAaqTQYF      & CASSQFLAAQTQYF      & TRBV3-1  & TRBJ2-3 & NA               & 03/0302:MtbLys   & 1\\\\\n",
       "\t42 & SQFL:CASSQFLIAGTNTEAFF    & 5 & SQFL      & 1.7e-08 &  3 &  4 & 1.6e-07 & 0.0360 & 0.010 & 1.000 & 0.190 & 2.3e-03 & motif-QFL motif-SQFL            & CASSQfliaGTNTEAFF   & CASSQFLIAGTNTEAFF   & TRBV14   & TRBJ1-1 & CIPLSYNTDKLIF    & 09/0531:MtbLys   & 1\\\\\n",
       "\t43 & S\\%GTESNQP:CASSLGTESNQPQHF & 6 & S\\%GTESNQP & 2.0e-08 &  3 &  4 & 6.2e-13 & 0.0110 & 0.001 & 0.025 & 0.001 & 2.3e-03 & motif-TESN global-S\\%GTESNQP     & CASSLGTeSNQPQHF     & CASSLGTESNQPQHF     & TRBV7-2  & TRBJ1-5 & NA               & 03/0480:MtbLys   & 5\\\\\n",
       "\t44 & S\\%GTESNQP:CASSSGTESNQPQHF & 6 & S\\%GTESNQP & 2.0e-08 &  3 &  4 & 6.2e-13 & 0.0110 & 0.001 & 0.025 & 0.001 & 2.3e-03 & motif-TESN global-S\\%GTESNQP     & CASSSGTeSNQPQHF     & CASSSGTESNQPQHF     & TRBV7-2  & TRBJ1-5 & NA               & 01/0873:MtbLys   & 1\\\\\n",
       "\t45 & S\\%GTESNQP:CASSPGTESNQPQHF & 6 & S\\%GTESNQP & 2.0e-08 &  3 &  4 & 6.2e-13 & 0.0110 & 0.001 & 0.025 & 0.001 & 2.3e-03 & motif-TESN global-S\\%GTESNQP     & CASSPGTeSNQPQHF     & CASSPGTESNQPQHF     & TRBV7-2  & TRBJ1-5 & CALMNSGGYQKVTF   & 03/0480:MtbLys   & 2\\\\\n",
       "\t46 & S\\%GTESNQP:CASSPGTESNQPQHF & 6 & S\\%GTESNQP & 2.0e-08 &  3 &  4 & 6.2e-13 & 0.0110 & 0.001 & 0.025 & 0.001 & 2.3e-03 & motif-TESN global-S\\%GTESNQP     & CASSPGTeSNQPQHF     & CASSPGTESNQPQHF     & TRBV7-2  & TRBJ1-5 & NA               & 09/0671:MtbLys   & 1\\\\\n",
       "\t47 & S\\%GTESNQP:CASSFGTESNQPQHF & 6 & S\\%GTESNQP & 2.0e-08 &  3 &  4 & 6.2e-13 & 0.0110 & 0.001 & 0.025 & 0.001 & 2.3e-03 & motif-TESN global-S\\%GTESNQP     & CASSfGTeSNQPQHF     & CASSFGTESNQPQHF     & TRBV7-2  & TRBJ1-5 & CALILSGGYQKVTF   & 03/0480:MtbLys   & 3\\\\\n",
       "\t48 & QFIG:CASSQFIGDTDQSDTQYF   & 7 & QFIG      & 3.1e-08 &  3 &  3 & 1.0e-08 & 0.0370 & 0.001 & 0.210 & 0.220 & 6.2e-03 & motif-QFI motif-SQFI motif-QFIG & CASSQfigdtdqsDTQYF  & CASSQFIGDTDQSDTQYF  & TRBV4-3  & TRBJ2-3 & NA               & 01/0873:MtbLys   & 2\\\\\n",
       "\t49 & QFIG:CASSQFIGDTDQSDTQYF   & 7 & QFIG      & 3.1e-08 &  3 &  3 & 1.0e-08 & 0.0370 & 0.001 & 0.210 & 0.220 & 6.2e-03 & motif-QFI motif-SQFI motif-QFIG & CASSQfigdtdqsDTQYF  & CASSQFIGDTDQSDTQYF  & TRBV4-3  & TRBJ2-3 & CVVNDWAGRRALTF   & 01/0873:MegaIFNg & 1\\\\\n",
       "\t50 & QFIG:CASSQFIGGEYEQYF      & 7 & QFIG      & 3.1e-08 &  3 &  3 & 1.0e-08 & 0.0370 & 0.001 & 0.210 & 0.220 & 6.2e-03 & motif-QFI motif-SQFI motif-QFIG & CASSQfiGGeYEQYF     & CASSQFIGGEYEQYF     & TRBV3-1  & TRBJ2-7 & CAVSGNRGSTLGRLYF & 09/0334:MtbLys   & 2\\\\\n",
       "\\end{tabular}\n"
      ],
      "text/markdown": [
       "\n",
       "A data.frame: 50 × 20\n",
       "\n",
       "| <!--/--> | xx &lt;chr&gt; | index &lt;int&gt; | pattern &lt;chr&gt; | Fisher_score &lt;dbl&gt; | number_subject &lt;int&gt; | number_unique_cdr3 &lt;int&gt; | final_score &lt;dbl&gt; | hla_score &lt;dbl&gt; | vb_score &lt;dbl&gt; | expansion_score &lt;dbl&gt; | length_score &lt;dbl&gt; | cluster_size_score &lt;dbl&gt; | type &lt;chr&gt; | ulTcRb &lt;chr&gt; | TcRb &lt;chr&gt; | V &lt;chr&gt; | J &lt;chr&gt; | TcRa &lt;chr&gt; | Sample &lt;chr&gt; | Freq &lt;dbl&gt; |\n",
       "|---|---|---|---|---|---|---|---|---|---|---|---|---|---|---|---|---|---|---|---|---|\n",
       "| 1 | SVAL:CASSVALASGANVLTF     | 1 | SVAL      | 4.4e-19 | 10 | 16 | 5.7e-13 | 0.0004 | 0.001 | 0.450 | 0.037 | 8.6e-05 | motif-SVAL                      | CASSVaLASGANVLTF    | CASSVALASGANVLTF    | TRBV9    | TRBJ2-6 | CAGAGGGGFKTIF    | 02/0152:MegaIL2  | 2 |\n",
       "| 2 | SVAL:CASSVALSNYGYTF       | 1 | SVAL      | 4.4e-19 | 10 | 16 | 5.7e-13 | 0.0004 | 0.001 | 0.450 | 0.037 | 8.6e-05 | motif-SVAL                      | CASSValsNYGYTF      | CASSVALASGANVLTF    | TRBV9    | TRBJ1-2 | CAVVASGGSYIPTF   | 01/1013:MtbLys   | 2 |\n",
       "| 3 | SVAL:CASSVALYGQSVTF       | 1 | SVAL      | 4.4e-19 | 10 | 16 | 5.7e-13 | 0.0004 | 0.001 | 0.450 | 0.037 | 8.6e-05 | motif-SVAL                      | CASSValyGQsvTF      | CASSVALYGQSVTF      | TRBV9    | TRBJ1-2 | CAAFSGTYKYIF     | 09/0328:MtbLys   | 1 |\n",
       "| 4 | SVAL:CASSVALLAGTQYF       | 1 | SVAL      | 4.4e-19 | 10 | 16 | 5.7e-13 | 0.0004 | 0.001 | 0.450 | 0.037 | 8.6e-05 | motif-SVAL                      | CASSValLAGTQYF      | CASSVALLAGTQYF      | TRBV9    | TRBJ2-3 | CAGPGGTSYGKLTF   | 09/0671:MtbLys   | 1 |\n",
       "| 5 | SVAL:CASSVALGAGGGYTF      | 1 | SVAL      | 4.4e-19 | 10 | 16 | 5.7e-13 | 0.0004 | 0.001 | 0.450 | 0.037 | 8.6e-05 | motif-SVAL                      | CASSValgAGGGYTF     | CASSVALGAGGGYTF     | TRBV9    | TRBJ1-2 | CAGPSGGSYIPTF    | 09/0328:MtbLys   | 1 |\n",
       "| 6 | SVAL:CASSVALLGETQYF       | 1 | SVAL      | 4.4e-19 | 10 | 16 | 5.7e-13 | 0.0004 | 0.001 | 0.450 | 0.037 | 8.6e-05 | motif-SVAL                      | CASSVallgETQYF      | CASSVALLGETQYF      | TRBV9    | TRBJ2-5 | CAGAPTGNQFYF     | 09/0772:MtbLys   | 1 |\n",
       "| 7 | SVAL:CASSVALLGETQYF       | 1 | SVAL      | 4.4e-19 | 10 | 16 | 5.7e-13 | 0.0004 | 0.001 | 0.450 | 0.037 | 8.6e-05 | motif-SVAL                      | CASSVallgETQYF      | CASSVALLGETQYF      | TRBV9    | TRBJ2-5 | CAGTGGTSYGKLTF   | 09/0531:MtbLys   | 1 |\n",
       "| 8 | SVAL:CASSVALMGGELFF       | 1 | SVAL      | 4.4e-19 | 10 | 16 | 5.7e-13 | 0.0004 | 0.001 | 0.450 | 0.037 | 8.6e-05 | motif-SVAL                      | CASSValmgGELFF      | CASSVALMGGELFF      | TRBV9    | TRBJ2-2 | CASLSGTYKYIF     | 09/0018:MegaIFNg | 1 |\n",
       "| 9 | SVAL:CASSVALAGANGYTF      | 1 | SVAL      | 4.4e-19 | 10 | 16 | 5.7e-13 | 0.0004 | 0.001 | 0.450 | 0.037 | 8.6e-05 | motif-SVAL                      | CASSVaLAGanGYTF     | CASSVALAGANGYTF     | TRBV9    | TRBJ1-2 | CAGPVQGGNKLVF    | 01/0943:MtbLys   | 1 |\n",
       "| 10 | SVAL:CASSVALSGTGTQYF      | 1 | SVAL      | 4.4e-19 | 10 | 16 | 5.7e-13 | 0.0004 | 0.001 | 0.450 | 0.037 | 8.6e-05 | motif-SVAL                      | CASSValsGTGTQYF     | CASSVALSGTGTQYF     | TRBV9    | TRBJ2-3 | CAGPGGTSYGKLTF   | 01/0943:MtbLys   | 1 |\n",
       "| 11 | SVAL:CASSVALAGNTIYF       | 1 | SVAL      | 4.4e-19 | 10 | 16 | 5.7e-13 | 0.0004 | 0.001 | 0.450 | 0.037 | 8.6e-05 | motif-SVAL                      | CASSVaLAGNTIYF      | CASSVALAGNTIYF      | TRBV9    | TRBJ1-3 | CAGDLSQGGKLIF    | 09/0328:MtbLys   | 2 |\n",
       "| 12 | SVAL:CASSVALAGAEYF        | 1 | SVAL      | 4.4e-19 | 10 | 16 | 5.7e-13 | 0.0004 | 0.001 | 0.450 | 0.037 | 8.6e-05 | motif-SVAL                      | CASSVaLAGaeYF       | CASSVALAGAEYF       | TRBV9    | TRBJ2-3 | CAVGGLSGANSKLTF  | 01/0873:MegaIL2  | 2 |\n",
       "| 13 | SVAL:CASSVALYANEQFF       | 1 | SVAL      | 4.4e-19 | 10 | 16 | 5.7e-13 | 0.0004 | 0.001 | 0.450 | 0.037 | 8.6e-05 | motif-SVAL                      | CASSValyaNEQFF      | CASSVALYANEQFF      | TRBV9    | TRBJ2-1 | CAGPTTGYALNF     | 09/0018:MtbLys   | 1 |\n",
       "| 14 | SVAL:CASSVALLGGTQYF       | 1 | SVAL      | 4.4e-19 | 10 | 16 | 5.7e-13 | 0.0004 | 0.001 | 0.450 | 0.037 | 8.6e-05 | motif-SVAL                      | CASSVallGGTQYF      | CASSVALLGGTQYF      | TRBV9    | TRBJ2-3 | CAGGGIGTSYGKLTF  | 09/0671:MtbLys   | 1 |\n",
       "| 15 | SVAL:CASSVALFGEGYTF       | 1 | SVAL      | 4.4e-19 | 10 | 16 | 5.7e-13 | 0.0004 | 0.001 | 0.450 | 0.037 | 8.6e-05 | motif-SVAL                      | CASSValfgeGYTF      | CASSVALFGEGYTF      | TRBV9    | TRBJ1-2 | CAGPSGTSYGKLTF   | 09/0328:MtbLys   | 1 |\n",
       "| 16 | SVAL:CASSVALGGGNIQYF      | 1 | SVAL      | 4.4e-19 | 10 | 16 | 5.7e-13 | 0.0004 | 0.001 | 0.450 | 0.037 | 8.6e-05 | motif-SVAL                      | CASSValGGgNIQYF     | CASSVALGGGNIQYF     | TRBV9    | TRBJ2-4 | CAGVGGTSYGKLTF   | 09/0671:MtbLys   | 1 |\n",
       "| 17 | SVAL:CASSVALATGEQYF       | 1 | SVAL      | 4.4e-19 | 10 | 16 | 5.7e-13 | 0.0004 | 0.001 | 0.450 | 0.037 | 8.6e-05 | motif-SVAL                      | CASSValaTGEQYF      | CASSVALATGEQYF      | TRBV9    | TRBJ2-7 | CAGPTGGSYIPTF    | 03/0492:MegaIL2  | 1 |\n",
       "| 18 | GLVL:CASGLVLVTNTGELFF     | 2 | GLVL      | 3.3e-10 |  7 |  8 | 2.5e-09 | 0.0280 | 0.001 | 1.000 | 0.110 | 8.3e-04 | motif-GLVL                      | CASGLvlvtNTGELFF    | CASGLVLVTNTGELFF    | TRBV12-5 | TRBJ2-2 | CIPFYSGSARQLTF   | 09/0717:MtbLys   | 1 |\n",
       "| 19 | GLVL:CASGLVLAGGPLEQFF     | 2 | GLVL      | 3.3e-10 |  7 |  8 | 2.5e-09 | 0.0280 | 0.001 | 1.000 | 0.110 | 8.3e-04 | motif-GLVL                      | CASGLvLAGGplEQFF    | CASGLVLAGGPLEQFF    | TRBV12-5 | TRBJ2-1 | CAQAEDTGRRALTF   | 09/0717:MtbLys   | 1 |\n",
       "| 20 | GLVL:CASGLVLRPWRDLNNEQFF  | 2 | GLVL      | 3.3e-10 |  7 |  8 | 2.5e-09 | 0.0280 | 0.001 | 1.000 | 0.110 | 8.3e-04 | motif-GLVL                      | CASGLvlrpwrdlnNEQFF | CASGLVLRPWRDLNNEQFF | TRBV12-5 | TRBJ2-1 | CAARGETSGSRLTF   | 01/1013:MtbLys   | 1 |\n",
       "| 21 | GLVL:CASGLVLGEAVATNEKLFF  | 2 | GLVL      | 3.3e-10 |  7 |  8 | 2.5e-09 | 0.0280 | 0.001 | 1.000 | 0.110 | 8.3e-04 | motif-GLVL                      | CASGLvlgeavaTNEKLFF | CASGLVLGEAVATNEKLFF | TRBV12-5 | TRBJ1-4 | CAVRDLDTGRRALTF  | 09/0263:MtbLys   | 1 |\n",
       "| 22 | GLVL:CASGLVLGREGNQPQHF    | 2 | GLVL      | 3.3e-10 |  7 |  8 | 2.5e-09 | 0.0280 | 0.001 | 1.000 | 0.110 | 8.3e-04 | motif-GLVL                      | CASGLvlgREgNQPQHF   | CASGLVLGREGNQPQHF   | TRBV12-5 | TRBJ1-5 | CAVEDPTDKLIF     | 01/0385:MtbLys   | 1 |\n",
       "| 23 | GLVL:CASGLVLGAQTEAFF      | 2 | GLVL      | 3.3e-10 |  7 |  8 | 2.5e-09 | 0.0280 | 0.001 | 1.000 | 0.110 | 8.3e-04 | motif-GLVL                      | CASGLvlgaqTEAFF     | CASGLVLGAQTEAFF     | TRBV12-5 | TRBJ1-1 | CIPYMDTGRRALTF   | 01/0960:MtbLys   | 1 |\n",
       "| 24 | GLVL:CASGLVLGQGPTPQHF     | 2 | GLVL      | 3.3e-10 |  7 |  8 | 2.5e-09 | 0.0280 | 0.001 | 1.000 | 0.110 | 8.3e-04 | motif-GLVL                      | CASGLvlGQGptPQHF    | CASGLVLGQGPTPQHF    | TRBV12-5 | TRBJ1-5 | CAENPFTGRRALTF   | 09/0730:MtbLys   | 1 |\n",
       "| 25 | GLVL:CASGLVLTGGYNTEAFF    | 2 | GLVL      | 3.3e-10 |  7 |  8 | 2.5e-09 | 0.0280 | 0.001 | 1.000 | 0.110 | 8.3e-04 | motif-GLVL                      | CASGLvlTGGyNTEAFF   | CASGLVLTGGYNTEAFF   | TRBV12-5 | TRBJ1-1 | CATDWDTGRRALTF   | 01/0329:MtbLys   | 1 |\n",
       "| 26 | TESN:CASSRGTESNTEAFF      | 3 | TESN      | 3.7e-10 |  4 |  7 | 4.7e-13 | 0.0210 | 0.001 | 0.026 | 0.001 | 8.6e-04 | motif-TESN                      | CASSRGTesNTEAFF     | CASSRGTESNTEAFF     | TRBV5-1  | TRBJ1-1 | CALRGDTGRRALTF   | 01/0882:MtbLys   | 2 |\n",
       "| 27 | TESN:CASSLGTESNQPQHF      | 3 | TESN      | 3.7e-10 |  4 |  7 | 4.7e-13 | 0.0210 | 0.001 | 0.026 | 0.001 | 8.6e-04 | motif-TESN                      | CASSLGTeSNQPQHF     | CASSLGTESNQPQHF     | TRBV7-2  | TRBJ1-5 | NA               | 03/0480:MtbLys   | 5 |\n",
       "| 28 | TESN:CASSSGTESNQPQHF      | 3 | TESN      | 3.7e-10 |  4 |  7 | 4.7e-13 | 0.0210 | 0.001 | 0.026 | 0.001 | 8.6e-04 | motif-TESN                      | CASSSGTeSNQPQHF     | CASSSGTESNQPQHF     | TRBV7-2  | TRBJ1-5 | NA               | 01/0873:MtbLys   | 1 |\n",
       "| 29 | TESN:CASSPGTESNSPLHF      | 3 | TESN      | 3.7e-10 |  4 |  7 | 4.7e-13 | 0.0210 | 0.001 | 0.026 | 0.001 | 8.6e-04 | motif-TESN                      | CASSPGTesNSPLHF     | CASSPGTESNSPLHF     | TRBV7-2  | TRBJ1-6 | NA               | 03/0480:MtbLys   | 1 |\n",
       "| 30 | TESN:CASTGGTESNQPQHF      | 3 | TESN      | 3.7e-10 |  4 |  7 | 4.7e-13 | 0.0210 | 0.001 | 0.026 | 0.001 | 8.6e-04 | motif-TESN                      | CASTgGTeSNQPQHF     | CASTGGTESNQPQHF     | TRBV6-1  | TRBJ1-5 | CALVYSGGYQKVTF   | 03/0480:MtbLys   | 2 |\n",
       "| 31 | TESN:CASSPGTESNQPQHF      | 3 | TESN      | 3.7e-10 |  4 |  7 | 4.7e-13 | 0.0210 | 0.001 | 0.026 | 0.001 | 8.6e-04 | motif-TESN                      | CASSPGTeSNQPQHF     | CASSPGTESNQPQHF     | TRBV7-2  | TRBJ1-5 | CALMNSGGYQKVTF   | 03/0480:MtbLys   | 2 |\n",
       "| 32 | TESN:CASSPGTESNQPQHF      | 3 | TESN      | 3.7e-10 |  4 |  7 | 4.7e-13 | 0.0210 | 0.001 | 0.026 | 0.001 | 8.6e-04 | motif-TESN                      | CASSPGTeSNQPQHF     | CASSPGTESNQPQHF     | TRBV7-2  | TRBJ1-5 | NA               | 09/0671:MtbLys   | 1 |\n",
       "| 33 | TESN:CASSFGTESNQPQHF      | 3 | TESN      | 3.7e-10 |  4 |  7 | 4.7e-13 | 0.0210 | 0.001 | 0.026 | 0.001 | 8.6e-04 | motif-TESN                      | CASSfGTeSNQPQHF     | CASSFGTESNQPQHF     | TRBV7-2  | TRBJ1-5 | CALILSGGYQKVTF   | 03/0480:MtbLys   | 3 |\n",
       "| 34 | EEPR:CSVEEPRGQPQHF        | 4 | EEPR      | 1.0e-08 |  2 |  5 | 2.5e-12 | 0.0036 | 0.001 | 0.480 | 0.001 | 1.5e-03 | motif-EEPR                      | CSVEepRGQPQHF       | CSVEEPRGQPQHF       | TRBV29-1 | TRBJ1-5 | CAVIEAAGNKLTF    | 09/0730:MtbLys   | 1 |\n",
       "| 35 | EEPR:CSVEEPRHTEAFF        | 4 | EEPR      | 1.0e-08 |  2 |  5 | 2.5e-12 | 0.0036 | 0.001 | 0.480 | 0.001 | 1.5e-03 | motif-EEPR                      | CSVEeprhTEAFF       | CSVEEPRHTEAFF       | TRBV29-1 | TRBJ1-1 | CAVRPNYGQNFVF    | 09/0730:MtbLys   | 1 |\n",
       "| 36 | EEPR:CSVEEPRGTAFF         | 4 | EEPR      | 1.0e-08 |  2 |  5 | 2.5e-12 | 0.0036 | 0.001 | 0.480 | 0.001 | 1.5e-03 | motif-EEPR                      | CSVEepRGtAFF        | CSVEEPRGTAFF        | TRBV29-1 | TRBJ1-1 | NA               | 03/0493:MtbLys   | 1 |\n",
       "| 37 | EEPR:CSVEEPRNTIYF         | 4 | EEPR      | 1.0e-08 |  2 |  5 | 2.5e-12 | 0.0036 | 0.001 | 0.480 | 0.001 | 1.5e-03 | motif-EEPR                      | CSVEeprNTIYF        | CSVEEPRNTIYF        | TRBV29-1 | TRBJ1-3 | CAVRLTGNQFYF     | 03/0493:MtbLys   | 2 |\n",
       "| 38 | EEPR:CSVEEPRQTEQFF        | 4 | EEPR      | 1.0e-08 |  2 |  5 | 2.5e-12 | 0.0036 | 0.001 | 0.480 | 0.001 | 1.5e-03 | motif-EEPR                      | CSVEeprqtEQFF       | CSVEEPRQTEQFF       | TRBV29-1 | TRBJ2-1 | CEGGFNKFYF       | 03/0493:MtbLys   | 1 |\n",
       "| 39 | SQFL:CASSQFLDPLYTF        | 5 | SQFL      | 1.7e-08 |  3 |  4 | 1.6e-07 | 0.0360 | 0.010 | 1.000 | 0.190 | 2.3e-03 | motif-QFL motif-SQFL            | CASSQfldplYTF       | CASSQFLDPLYTF       | TRBV3-1  | TRBJ1-2 | CAVTSNTNAGKSTF   | 03/0302:MtbLys   | 1 |\n",
       "| 40 | SQFL:CASSQFLGDEQFF        | 5 | SQFL      | 1.7e-08 |  3 |  4 | 1.6e-07 | 0.0360 | 0.010 | 1.000 | 0.190 | 2.3e-03 | motif-QFL motif-SQFL            | CASSQflgdEQFF       | CASSQFLGDEQFF       | TRBV3-1  | TRBJ2-1 | CAALPGIQGGKLIF   | 09/0334:MtbLys   | 1 |\n",
       "| 41 | SQFL:CASSQFLAAQTQYF       | 5 | SQFL      | 1.7e-08 |  3 |  4 | 1.6e-07 | 0.0360 | 0.010 | 1.000 | 0.190 | 2.3e-03 | motif-QFL motif-SQFL            | CASSQfLAaqTQYF      | CASSQFLAAQTQYF      | TRBV3-1  | TRBJ2-3 | NA               | 03/0302:MtbLys   | 1 |\n",
       "| 42 | SQFL:CASSQFLIAGTNTEAFF    | 5 | SQFL      | 1.7e-08 |  3 |  4 | 1.6e-07 | 0.0360 | 0.010 | 1.000 | 0.190 | 2.3e-03 | motif-QFL motif-SQFL            | CASSQfliaGTNTEAFF   | CASSQFLIAGTNTEAFF   | TRBV14   | TRBJ1-1 | CIPLSYNTDKLIF    | 09/0531:MtbLys   | 1 |\n",
       "| 43 | S%GTESNQP:CASSLGTESNQPQHF | 6 | S%GTESNQP | 2.0e-08 |  3 |  4 | 6.2e-13 | 0.0110 | 0.001 | 0.025 | 0.001 | 2.3e-03 | motif-TESN global-S%GTESNQP     | CASSLGTeSNQPQHF     | CASSLGTESNQPQHF     | TRBV7-2  | TRBJ1-5 | NA               | 03/0480:MtbLys   | 5 |\n",
       "| 44 | S%GTESNQP:CASSSGTESNQPQHF | 6 | S%GTESNQP | 2.0e-08 |  3 |  4 | 6.2e-13 | 0.0110 | 0.001 | 0.025 | 0.001 | 2.3e-03 | motif-TESN global-S%GTESNQP     | CASSSGTeSNQPQHF     | CASSSGTESNQPQHF     | TRBV7-2  | TRBJ1-5 | NA               | 01/0873:MtbLys   | 1 |\n",
       "| 45 | S%GTESNQP:CASSPGTESNQPQHF | 6 | S%GTESNQP | 2.0e-08 |  3 |  4 | 6.2e-13 | 0.0110 | 0.001 | 0.025 | 0.001 | 2.3e-03 | motif-TESN global-S%GTESNQP     | CASSPGTeSNQPQHF     | CASSPGTESNQPQHF     | TRBV7-2  | TRBJ1-5 | CALMNSGGYQKVTF   | 03/0480:MtbLys   | 2 |\n",
       "| 46 | S%GTESNQP:CASSPGTESNQPQHF | 6 | S%GTESNQP | 2.0e-08 |  3 |  4 | 6.2e-13 | 0.0110 | 0.001 | 0.025 | 0.001 | 2.3e-03 | motif-TESN global-S%GTESNQP     | CASSPGTeSNQPQHF     | CASSPGTESNQPQHF     | TRBV7-2  | TRBJ1-5 | NA               | 09/0671:MtbLys   | 1 |\n",
       "| 47 | S%GTESNQP:CASSFGTESNQPQHF | 6 | S%GTESNQP | 2.0e-08 |  3 |  4 | 6.2e-13 | 0.0110 | 0.001 | 0.025 | 0.001 | 2.3e-03 | motif-TESN global-S%GTESNQP     | CASSfGTeSNQPQHF     | CASSFGTESNQPQHF     | TRBV7-2  | TRBJ1-5 | CALILSGGYQKVTF   | 03/0480:MtbLys   | 3 |\n",
       "| 48 | QFIG:CASSQFIGDTDQSDTQYF   | 7 | QFIG      | 3.1e-08 |  3 |  3 | 1.0e-08 | 0.0370 | 0.001 | 0.210 | 0.220 | 6.2e-03 | motif-QFI motif-SQFI motif-QFIG | CASSQfigdtdqsDTQYF  | CASSQFIGDTDQSDTQYF  | TRBV4-3  | TRBJ2-3 | NA               | 01/0873:MtbLys   | 2 |\n",
       "| 49 | QFIG:CASSQFIGDTDQSDTQYF   | 7 | QFIG      | 3.1e-08 |  3 |  3 | 1.0e-08 | 0.0370 | 0.001 | 0.210 | 0.220 | 6.2e-03 | motif-QFI motif-SQFI motif-QFIG | CASSQfigdtdqsDTQYF  | CASSQFIGDTDQSDTQYF  | TRBV4-3  | TRBJ2-3 | CVVNDWAGRRALTF   | 01/0873:MegaIFNg | 1 |\n",
       "| 50 | QFIG:CASSQFIGGEYEQYF      | 7 | QFIG      | 3.1e-08 |  3 |  3 | 1.0e-08 | 0.0370 | 0.001 | 0.210 | 0.220 | 6.2e-03 | motif-QFI motif-SQFI motif-QFIG | CASSQfiGGeYEQYF     | CASSQFIGGEYEQYF     | TRBV3-1  | TRBJ2-7 | CAVSGNRGSTLGRLYF | 09/0334:MtbLys   | 2 |\n",
       "\n"
      ],
      "text/plain": [
       "   xx                        index pattern   Fisher_score number_subject\n",
       "1  SVAL:CASSVALASGANVLTF     1     SVAL      4.4e-19      10            \n",
       "2  SVAL:CASSVALSNYGYTF       1     SVAL      4.4e-19      10            \n",
       "3  SVAL:CASSVALYGQSVTF       1     SVAL      4.4e-19      10            \n",
       "4  SVAL:CASSVALLAGTQYF       1     SVAL      4.4e-19      10            \n",
       "5  SVAL:CASSVALGAGGGYTF      1     SVAL      4.4e-19      10            \n",
       "6  SVAL:CASSVALLGETQYF       1     SVAL      4.4e-19      10            \n",
       "7  SVAL:CASSVALLGETQYF       1     SVAL      4.4e-19      10            \n",
       "8  SVAL:CASSVALMGGELFF       1     SVAL      4.4e-19      10            \n",
       "9  SVAL:CASSVALAGANGYTF      1     SVAL      4.4e-19      10            \n",
       "10 SVAL:CASSVALSGTGTQYF      1     SVAL      4.4e-19      10            \n",
       "11 SVAL:CASSVALAGNTIYF       1     SVAL      4.4e-19      10            \n",
       "12 SVAL:CASSVALAGAEYF        1     SVAL      4.4e-19      10            \n",
       "13 SVAL:CASSVALYANEQFF       1     SVAL      4.4e-19      10            \n",
       "14 SVAL:CASSVALLGGTQYF       1     SVAL      4.4e-19      10            \n",
       "15 SVAL:CASSVALFGEGYTF       1     SVAL      4.4e-19      10            \n",
       "16 SVAL:CASSVALGGGNIQYF      1     SVAL      4.4e-19      10            \n",
       "17 SVAL:CASSVALATGEQYF       1     SVAL      4.4e-19      10            \n",
       "18 GLVL:CASGLVLVTNTGELFF     2     GLVL      3.3e-10       7            \n",
       "19 GLVL:CASGLVLAGGPLEQFF     2     GLVL      3.3e-10       7            \n",
       "20 GLVL:CASGLVLRPWRDLNNEQFF  2     GLVL      3.3e-10       7            \n",
       "21 GLVL:CASGLVLGEAVATNEKLFF  2     GLVL      3.3e-10       7            \n",
       "22 GLVL:CASGLVLGREGNQPQHF    2     GLVL      3.3e-10       7            \n",
       "23 GLVL:CASGLVLGAQTEAFF      2     GLVL      3.3e-10       7            \n",
       "24 GLVL:CASGLVLGQGPTPQHF     2     GLVL      3.3e-10       7            \n",
       "25 GLVL:CASGLVLTGGYNTEAFF    2     GLVL      3.3e-10       7            \n",
       "26 TESN:CASSRGTESNTEAFF      3     TESN      3.7e-10       4            \n",
       "27 TESN:CASSLGTESNQPQHF      3     TESN      3.7e-10       4            \n",
       "28 TESN:CASSSGTESNQPQHF      3     TESN      3.7e-10       4            \n",
       "29 TESN:CASSPGTESNSPLHF      3     TESN      3.7e-10       4            \n",
       "30 TESN:CASTGGTESNQPQHF      3     TESN      3.7e-10       4            \n",
       "31 TESN:CASSPGTESNQPQHF      3     TESN      3.7e-10       4            \n",
       "32 TESN:CASSPGTESNQPQHF      3     TESN      3.7e-10       4            \n",
       "33 TESN:CASSFGTESNQPQHF      3     TESN      3.7e-10       4            \n",
       "34 EEPR:CSVEEPRGQPQHF        4     EEPR      1.0e-08       2            \n",
       "35 EEPR:CSVEEPRHTEAFF        4     EEPR      1.0e-08       2            \n",
       "36 EEPR:CSVEEPRGTAFF         4     EEPR      1.0e-08       2            \n",
       "37 EEPR:CSVEEPRNTIYF         4     EEPR      1.0e-08       2            \n",
       "38 EEPR:CSVEEPRQTEQFF        4     EEPR      1.0e-08       2            \n",
       "39 SQFL:CASSQFLDPLYTF        5     SQFL      1.7e-08       3            \n",
       "40 SQFL:CASSQFLGDEQFF        5     SQFL      1.7e-08       3            \n",
       "41 SQFL:CASSQFLAAQTQYF       5     SQFL      1.7e-08       3            \n",
       "42 SQFL:CASSQFLIAGTNTEAFF    5     SQFL      1.7e-08       3            \n",
       "43 S%GTESNQP:CASSLGTESNQPQHF 6     S%GTESNQP 2.0e-08       3            \n",
       "44 S%GTESNQP:CASSSGTESNQPQHF 6     S%GTESNQP 2.0e-08       3            \n",
       "45 S%GTESNQP:CASSPGTESNQPQHF 6     S%GTESNQP 2.0e-08       3            \n",
       "46 S%GTESNQP:CASSPGTESNQPQHF 6     S%GTESNQP 2.0e-08       3            \n",
       "47 S%GTESNQP:CASSFGTESNQPQHF 6     S%GTESNQP 2.0e-08       3            \n",
       "48 QFIG:CASSQFIGDTDQSDTQYF   7     QFIG      3.1e-08       3            \n",
       "49 QFIG:CASSQFIGDTDQSDTQYF   7     QFIG      3.1e-08       3            \n",
       "50 QFIG:CASSQFIGGEYEQYF      7     QFIG      3.1e-08       3            \n",
       "   number_unique_cdr3 final_score hla_score vb_score expansion_score\n",
       "1  16                 5.7e-13     0.0004    0.001    0.450          \n",
       "2  16                 5.7e-13     0.0004    0.001    0.450          \n",
       "3  16                 5.7e-13     0.0004    0.001    0.450          \n",
       "4  16                 5.7e-13     0.0004    0.001    0.450          \n",
       "5  16                 5.7e-13     0.0004    0.001    0.450          \n",
       "6  16                 5.7e-13     0.0004    0.001    0.450          \n",
       "7  16                 5.7e-13     0.0004    0.001    0.450          \n",
       "8  16                 5.7e-13     0.0004    0.001    0.450          \n",
       "9  16                 5.7e-13     0.0004    0.001    0.450          \n",
       "10 16                 5.7e-13     0.0004    0.001    0.450          \n",
       "11 16                 5.7e-13     0.0004    0.001    0.450          \n",
       "12 16                 5.7e-13     0.0004    0.001    0.450          \n",
       "13 16                 5.7e-13     0.0004    0.001    0.450          \n",
       "14 16                 5.7e-13     0.0004    0.001    0.450          \n",
       "15 16                 5.7e-13     0.0004    0.001    0.450          \n",
       "16 16                 5.7e-13     0.0004    0.001    0.450          \n",
       "17 16                 5.7e-13     0.0004    0.001    0.450          \n",
       "18  8                 2.5e-09     0.0280    0.001    1.000          \n",
       "19  8                 2.5e-09     0.0280    0.001    1.000          \n",
       "20  8                 2.5e-09     0.0280    0.001    1.000          \n",
       "21  8                 2.5e-09     0.0280    0.001    1.000          \n",
       "22  8                 2.5e-09     0.0280    0.001    1.000          \n",
       "23  8                 2.5e-09     0.0280    0.001    1.000          \n",
       "24  8                 2.5e-09     0.0280    0.001    1.000          \n",
       "25  8                 2.5e-09     0.0280    0.001    1.000          \n",
       "26  7                 4.7e-13     0.0210    0.001    0.026          \n",
       "27  7                 4.7e-13     0.0210    0.001    0.026          \n",
       "28  7                 4.7e-13     0.0210    0.001    0.026          \n",
       "29  7                 4.7e-13     0.0210    0.001    0.026          \n",
       "30  7                 4.7e-13     0.0210    0.001    0.026          \n",
       "31  7                 4.7e-13     0.0210    0.001    0.026          \n",
       "32  7                 4.7e-13     0.0210    0.001    0.026          \n",
       "33  7                 4.7e-13     0.0210    0.001    0.026          \n",
       "34  5                 2.5e-12     0.0036    0.001    0.480          \n",
       "35  5                 2.5e-12     0.0036    0.001    0.480          \n",
       "36  5                 2.5e-12     0.0036    0.001    0.480          \n",
       "37  5                 2.5e-12     0.0036    0.001    0.480          \n",
       "38  5                 2.5e-12     0.0036    0.001    0.480          \n",
       "39  4                 1.6e-07     0.0360    0.010    1.000          \n",
       "40  4                 1.6e-07     0.0360    0.010    1.000          \n",
       "41  4                 1.6e-07     0.0360    0.010    1.000          \n",
       "42  4                 1.6e-07     0.0360    0.010    1.000          \n",
       "43  4                 6.2e-13     0.0110    0.001    0.025          \n",
       "44  4                 6.2e-13     0.0110    0.001    0.025          \n",
       "45  4                 6.2e-13     0.0110    0.001    0.025          \n",
       "46  4                 6.2e-13     0.0110    0.001    0.025          \n",
       "47  4                 6.2e-13     0.0110    0.001    0.025          \n",
       "48  3                 1.0e-08     0.0370    0.001    0.210          \n",
       "49  3                 1.0e-08     0.0370    0.001    0.210          \n",
       "50  3                 1.0e-08     0.0370    0.001    0.210          \n",
       "   length_score cluster_size_score type                           \n",
       "1  0.037        8.6e-05            motif-SVAL                     \n",
       "2  0.037        8.6e-05            motif-SVAL                     \n",
       "3  0.037        8.6e-05            motif-SVAL                     \n",
       "4  0.037        8.6e-05            motif-SVAL                     \n",
       "5  0.037        8.6e-05            motif-SVAL                     \n",
       "6  0.037        8.6e-05            motif-SVAL                     \n",
       "7  0.037        8.6e-05            motif-SVAL                     \n",
       "8  0.037        8.6e-05            motif-SVAL                     \n",
       "9  0.037        8.6e-05            motif-SVAL                     \n",
       "10 0.037        8.6e-05            motif-SVAL                     \n",
       "11 0.037        8.6e-05            motif-SVAL                     \n",
       "12 0.037        8.6e-05            motif-SVAL                     \n",
       "13 0.037        8.6e-05            motif-SVAL                     \n",
       "14 0.037        8.6e-05            motif-SVAL                     \n",
       "15 0.037        8.6e-05            motif-SVAL                     \n",
       "16 0.037        8.6e-05            motif-SVAL                     \n",
       "17 0.037        8.6e-05            motif-SVAL                     \n",
       "18 0.110        8.3e-04            motif-GLVL                     \n",
       "19 0.110        8.3e-04            motif-GLVL                     \n",
       "20 0.110        8.3e-04            motif-GLVL                     \n",
       "21 0.110        8.3e-04            motif-GLVL                     \n",
       "22 0.110        8.3e-04            motif-GLVL                     \n",
       "23 0.110        8.3e-04            motif-GLVL                     \n",
       "24 0.110        8.3e-04            motif-GLVL                     \n",
       "25 0.110        8.3e-04            motif-GLVL                     \n",
       "26 0.001        8.6e-04            motif-TESN                     \n",
       "27 0.001        8.6e-04            motif-TESN                     \n",
       "28 0.001        8.6e-04            motif-TESN                     \n",
       "29 0.001        8.6e-04            motif-TESN                     \n",
       "30 0.001        8.6e-04            motif-TESN                     \n",
       "31 0.001        8.6e-04            motif-TESN                     \n",
       "32 0.001        8.6e-04            motif-TESN                     \n",
       "33 0.001        8.6e-04            motif-TESN                     \n",
       "34 0.001        1.5e-03            motif-EEPR                     \n",
       "35 0.001        1.5e-03            motif-EEPR                     \n",
       "36 0.001        1.5e-03            motif-EEPR                     \n",
       "37 0.001        1.5e-03            motif-EEPR                     \n",
       "38 0.001        1.5e-03            motif-EEPR                     \n",
       "39 0.190        2.3e-03            motif-QFL motif-SQFL           \n",
       "40 0.190        2.3e-03            motif-QFL motif-SQFL           \n",
       "41 0.190        2.3e-03            motif-QFL motif-SQFL           \n",
       "42 0.190        2.3e-03            motif-QFL motif-SQFL           \n",
       "43 0.001        2.3e-03            motif-TESN global-S%GTESNQP    \n",
       "44 0.001        2.3e-03            motif-TESN global-S%GTESNQP    \n",
       "45 0.001        2.3e-03            motif-TESN global-S%GTESNQP    \n",
       "46 0.001        2.3e-03            motif-TESN global-S%GTESNQP    \n",
       "47 0.001        2.3e-03            motif-TESN global-S%GTESNQP    \n",
       "48 0.220        6.2e-03            motif-QFI motif-SQFI motif-QFIG\n",
       "49 0.220        6.2e-03            motif-QFI motif-SQFI motif-QFIG\n",
       "50 0.220        6.2e-03            motif-QFI motif-SQFI motif-QFIG\n",
       "   ulTcRb              TcRb                V        J       TcRa            \n",
       "1  CASSVaLASGANVLTF    CASSVALASGANVLTF    TRBV9    TRBJ2-6 CAGAGGGGFKTIF   \n",
       "2  CASSValsNYGYTF      CASSVALASGANVLTF    TRBV9    TRBJ1-2 CAVVASGGSYIPTF  \n",
       "3  CASSValyGQsvTF      CASSVALYGQSVTF      TRBV9    TRBJ1-2 CAAFSGTYKYIF    \n",
       "4  CASSValLAGTQYF      CASSVALLAGTQYF      TRBV9    TRBJ2-3 CAGPGGTSYGKLTF  \n",
       "5  CASSValgAGGGYTF     CASSVALGAGGGYTF     TRBV9    TRBJ1-2 CAGPSGGSYIPTF   \n",
       "6  CASSVallgETQYF      CASSVALLGETQYF      TRBV9    TRBJ2-5 CAGAPTGNQFYF    \n",
       "7  CASSVallgETQYF      CASSVALLGETQYF      TRBV9    TRBJ2-5 CAGTGGTSYGKLTF  \n",
       "8  CASSValmgGELFF      CASSVALMGGELFF      TRBV9    TRBJ2-2 CASLSGTYKYIF    \n",
       "9  CASSVaLAGanGYTF     CASSVALAGANGYTF     TRBV9    TRBJ1-2 CAGPVQGGNKLVF   \n",
       "10 CASSValsGTGTQYF     CASSVALSGTGTQYF     TRBV9    TRBJ2-3 CAGPGGTSYGKLTF  \n",
       "11 CASSVaLAGNTIYF      CASSVALAGNTIYF      TRBV9    TRBJ1-3 CAGDLSQGGKLIF   \n",
       "12 CASSVaLAGaeYF       CASSVALAGAEYF       TRBV9    TRBJ2-3 CAVGGLSGANSKLTF \n",
       "13 CASSValyaNEQFF      CASSVALYANEQFF      TRBV9    TRBJ2-1 CAGPTTGYALNF    \n",
       "14 CASSVallGGTQYF      CASSVALLGGTQYF      TRBV9    TRBJ2-3 CAGGGIGTSYGKLTF \n",
       "15 CASSValfgeGYTF      CASSVALFGEGYTF      TRBV9    TRBJ1-2 CAGPSGTSYGKLTF  \n",
       "16 CASSValGGgNIQYF     CASSVALGGGNIQYF     TRBV9    TRBJ2-4 CAGVGGTSYGKLTF  \n",
       "17 CASSValaTGEQYF      CASSVALATGEQYF      TRBV9    TRBJ2-7 CAGPTGGSYIPTF   \n",
       "18 CASGLvlvtNTGELFF    CASGLVLVTNTGELFF    TRBV12-5 TRBJ2-2 CIPFYSGSARQLTF  \n",
       "19 CASGLvLAGGplEQFF    CASGLVLAGGPLEQFF    TRBV12-5 TRBJ2-1 CAQAEDTGRRALTF  \n",
       "20 CASGLvlrpwrdlnNEQFF CASGLVLRPWRDLNNEQFF TRBV12-5 TRBJ2-1 CAARGETSGSRLTF  \n",
       "21 CASGLvlgeavaTNEKLFF CASGLVLGEAVATNEKLFF TRBV12-5 TRBJ1-4 CAVRDLDTGRRALTF \n",
       "22 CASGLvlgREgNQPQHF   CASGLVLGREGNQPQHF   TRBV12-5 TRBJ1-5 CAVEDPTDKLIF    \n",
       "23 CASGLvlgaqTEAFF     CASGLVLGAQTEAFF     TRBV12-5 TRBJ1-1 CIPYMDTGRRALTF  \n",
       "24 CASGLvlGQGptPQHF    CASGLVLGQGPTPQHF    TRBV12-5 TRBJ1-5 CAENPFTGRRALTF  \n",
       "25 CASGLvlTGGyNTEAFF   CASGLVLTGGYNTEAFF   TRBV12-5 TRBJ1-1 CATDWDTGRRALTF  \n",
       "26 CASSRGTesNTEAFF     CASSRGTESNTEAFF     TRBV5-1  TRBJ1-1 CALRGDTGRRALTF  \n",
       "27 CASSLGTeSNQPQHF     CASSLGTESNQPQHF     TRBV7-2  TRBJ1-5 NA              \n",
       "28 CASSSGTeSNQPQHF     CASSSGTESNQPQHF     TRBV7-2  TRBJ1-5 NA              \n",
       "29 CASSPGTesNSPLHF     CASSPGTESNSPLHF     TRBV7-2  TRBJ1-6 NA              \n",
       "30 CASTgGTeSNQPQHF     CASTGGTESNQPQHF     TRBV6-1  TRBJ1-5 CALVYSGGYQKVTF  \n",
       "31 CASSPGTeSNQPQHF     CASSPGTESNQPQHF     TRBV7-2  TRBJ1-5 CALMNSGGYQKVTF  \n",
       "32 CASSPGTeSNQPQHF     CASSPGTESNQPQHF     TRBV7-2  TRBJ1-5 NA              \n",
       "33 CASSfGTeSNQPQHF     CASSFGTESNQPQHF     TRBV7-2  TRBJ1-5 CALILSGGYQKVTF  \n",
       "34 CSVEepRGQPQHF       CSVEEPRGQPQHF       TRBV29-1 TRBJ1-5 CAVIEAAGNKLTF   \n",
       "35 CSVEeprhTEAFF       CSVEEPRHTEAFF       TRBV29-1 TRBJ1-1 CAVRPNYGQNFVF   \n",
       "36 CSVEepRGtAFF        CSVEEPRGTAFF        TRBV29-1 TRBJ1-1 NA              \n",
       "37 CSVEeprNTIYF        CSVEEPRNTIYF        TRBV29-1 TRBJ1-3 CAVRLTGNQFYF    \n",
       "38 CSVEeprqtEQFF       CSVEEPRQTEQFF       TRBV29-1 TRBJ2-1 CEGGFNKFYF      \n",
       "39 CASSQfldplYTF       CASSQFLDPLYTF       TRBV3-1  TRBJ1-2 CAVTSNTNAGKSTF  \n",
       "40 CASSQflgdEQFF       CASSQFLGDEQFF       TRBV3-1  TRBJ2-1 CAALPGIQGGKLIF  \n",
       "41 CASSQfLAaqTQYF      CASSQFLAAQTQYF      TRBV3-1  TRBJ2-3 NA              \n",
       "42 CASSQfliaGTNTEAFF   CASSQFLIAGTNTEAFF   TRBV14   TRBJ1-1 CIPLSYNTDKLIF   \n",
       "43 CASSLGTeSNQPQHF     CASSLGTESNQPQHF     TRBV7-2  TRBJ1-5 NA              \n",
       "44 CASSSGTeSNQPQHF     CASSSGTESNQPQHF     TRBV7-2  TRBJ1-5 NA              \n",
       "45 CASSPGTeSNQPQHF     CASSPGTESNQPQHF     TRBV7-2  TRBJ1-5 CALMNSGGYQKVTF  \n",
       "46 CASSPGTeSNQPQHF     CASSPGTESNQPQHF     TRBV7-2  TRBJ1-5 NA              \n",
       "47 CASSfGTeSNQPQHF     CASSFGTESNQPQHF     TRBV7-2  TRBJ1-5 CALILSGGYQKVTF  \n",
       "48 CASSQfigdtdqsDTQYF  CASSQFIGDTDQSDTQYF  TRBV4-3  TRBJ2-3 NA              \n",
       "49 CASSQfigdtdqsDTQYF  CASSQFIGDTDQSDTQYF  TRBV4-3  TRBJ2-3 CVVNDWAGRRALTF  \n",
       "50 CASSQfiGGeYEQYF     CASSQFIGGEYEQYF     TRBV3-1  TRBJ2-7 CAVSGNRGSTLGRLYF\n",
       "   Sample           Freq\n",
       "1  02/0152:MegaIL2  2   \n",
       "2  01/1013:MtbLys   2   \n",
       "3  09/0328:MtbLys   1   \n",
       "4  09/0671:MtbLys   1   \n",
       "5  09/0328:MtbLys   1   \n",
       "6  09/0772:MtbLys   1   \n",
       "7  09/0531:MtbLys   1   \n",
       "8  09/0018:MegaIFNg 1   \n",
       "9  01/0943:MtbLys   1   \n",
       "10 01/0943:MtbLys   1   \n",
       "11 09/0328:MtbLys   2   \n",
       "12 01/0873:MegaIL2  2   \n",
       "13 09/0018:MtbLys   1   \n",
       "14 09/0671:MtbLys   1   \n",
       "15 09/0328:MtbLys   1   \n",
       "16 09/0671:MtbLys   1   \n",
       "17 03/0492:MegaIL2  1   \n",
       "18 09/0717:MtbLys   1   \n",
       "19 09/0717:MtbLys   1   \n",
       "20 01/1013:MtbLys   1   \n",
       "21 09/0263:MtbLys   1   \n",
       "22 01/0385:MtbLys   1   \n",
       "23 01/0960:MtbLys   1   \n",
       "24 09/0730:MtbLys   1   \n",
       "25 01/0329:MtbLys   1   \n",
       "26 01/0882:MtbLys   2   \n",
       "27 03/0480:MtbLys   5   \n",
       "28 01/0873:MtbLys   1   \n",
       "29 03/0480:MtbLys   1   \n",
       "30 03/0480:MtbLys   2   \n",
       "31 03/0480:MtbLys   2   \n",
       "32 09/0671:MtbLys   1   \n",
       "33 03/0480:MtbLys   3   \n",
       "34 09/0730:MtbLys   1   \n",
       "35 09/0730:MtbLys   1   \n",
       "36 03/0493:MtbLys   1   \n",
       "37 03/0493:MtbLys   2   \n",
       "38 03/0493:MtbLys   1   \n",
       "39 03/0302:MtbLys   1   \n",
       "40 09/0334:MtbLys   1   \n",
       "41 03/0302:MtbLys   1   \n",
       "42 09/0531:MtbLys   1   \n",
       "43 03/0480:MtbLys   5   \n",
       "44 01/0873:MtbLys   1   \n",
       "45 03/0480:MtbLys   2   \n",
       "46 09/0671:MtbLys   1   \n",
       "47 03/0480:MtbLys   3   \n",
       "48 01/0873:MtbLys   2   \n",
       "49 01/0873:MegaIFNg 1   \n",
       "50 09/0334:MtbLys   2   "
      ]
     },
     "metadata": {},
     "output_type": "display_data"
    }
   ],
   "source": [
    "alluvialdf"
   ]
  },
  {
   "cell_type": "code",
   "execution_count": 163,
   "metadata": {},
   "outputs": [
    {
     "data": {
      "image/png": "[encoded data removed]",
      "text/plain": [
       "plot without title"
      ]
     },
     "metadata": {
      "image/png": {
       "height": 420,
       "width": 420
      }
     },
     "output_type": "display_data"
    }
   ],
   "source": [
    "ggplot(data = alluvialdf[ !duplicated(alluvialdf$TcRb),], aes(x = Sample, y = Freq, \n",
    "                                   stratum = TcRb, alluvium = xx)) +\n",
    "  geom_alluvium(aes(fill=xx)) +\n",
    "  geom_stratum(aes(fill=TcRb)) +\n",
    "\n",
    "  theme_minimal() + theme(legend.position = \"bottom\", axis.text.x = element_text(angle = 30, hjust = 1)) +\n",
    "scale_fill_manual(\n",
    "                  values = recurringmotifColors_all) "
   ]
  },
  {
   "cell_type": "code",
   "execution_count": 125,
   "metadata": {},
   "outputs": [
    {
     "data": {
      "image/png": "[encoded data removed]",
      "text/plain": [
       "plot without title"
      ]
     },
     "metadata": {
      "image/png": {
       "height": 420,
       "width": 420
      }
     },
     "output_type": "display_data"
    }
   ],
   "source": [
    "myp + theme(legend.position = \"bottom\")"
   ]
  },
  {
   "cell_type": "code",
   "execution_count": 137,
   "metadata": {},
   "outputs": [],
   "source": [
    "tmp <- ggalluvial::to_lodes_form(alluvialdf[, c(\"xx\", \"TcRb\", \"Sample\",\"Freq\")], axes = 1:2, id = \"id\")"
   ]
  },
  {
   "cell_type": "code",
   "execution_count": 138,
   "metadata": {},
   "outputs": [
    {
     "data": {
      "text/html": [
       "<table class=\"dataframe\">\n",
       "<caption>A data.frame: 6 × 5</caption>\n",
       "<thead>\n",
       "\t<tr><th></th><th scope=col>Sample</th><th scope=col>Freq</th><th scope=col>id</th><th scope=col>x</th><th scope=col>stratum</th></tr>\n",
       "\t<tr><th></th><th scope=col>&lt;chr&gt;</th><th scope=col>&lt;dbl&gt;</th><th scope=col>&lt;int&gt;</th><th scope=col>&lt;fct&gt;</th><th scope=col>&lt;fct&gt;</th></tr>\n",
       "</thead>\n",
       "<tbody>\n",
       "\t<tr><th scope=row>1</th><td>02/0152:MegaIL2</td><td>2</td><td>1</td><td>xx</td><td>SVAL:CASSVALASGANVLTF</td></tr>\n",
       "\t<tr><th scope=row>2</th><td>01/1013:MtbLys </td><td>2</td><td>2</td><td>xx</td><td>SVAL:CASSVALSNYGYTF  </td></tr>\n",
       "\t<tr><th scope=row>3</th><td>09/0328:MtbLys </td><td>1</td><td>3</td><td>xx</td><td>SVAL:CASSVALYGQSVTF  </td></tr>\n",
       "\t<tr><th scope=row>4</th><td>09/0671:MtbLys </td><td>1</td><td>4</td><td>xx</td><td>SVAL:CASSVALLAGTQYF  </td></tr>\n",
       "\t<tr><th scope=row>5</th><td>09/0328:MtbLys </td><td>1</td><td>5</td><td>xx</td><td>SVAL:CASSVALGAGGGYTF </td></tr>\n",
       "\t<tr><th scope=row>6</th><td>09/0772:MtbLys </td><td>1</td><td>6</td><td>xx</td><td>SVAL:CASSVALLGETQYF  </td></tr>\n",
       "</tbody>\n",
       "</table>\n"
      ],
      "text/latex": [
       "A data.frame: 6 × 5\n",
       "\\begin{tabular}{r|lllll}\n",
       "  & Sample & Freq & id & x & stratum\\\\\n",
       "  & <chr> & <dbl> & <int> & <fct> & <fct>\\\\\n",
       "\\hline\n",
       "\t1 & 02/0152:MegaIL2 & 2 & 1 & xx & SVAL:CASSVALASGANVLTF\\\\\n",
       "\t2 & 01/1013:MtbLys  & 2 & 2 & xx & SVAL:CASSVALSNYGYTF  \\\\\n",
       "\t3 & 09/0328:MtbLys  & 1 & 3 & xx & SVAL:CASSVALYGQSVTF  \\\\\n",
       "\t4 & 09/0671:MtbLys  & 1 & 4 & xx & SVAL:CASSVALLAGTQYF  \\\\\n",
       "\t5 & 09/0328:MtbLys  & 1 & 5 & xx & SVAL:CASSVALGAGGGYTF \\\\\n",
       "\t6 & 09/0772:MtbLys  & 1 & 6 & xx & SVAL:CASSVALLGETQYF  \\\\\n",
       "\\end{tabular}\n"
      ],
      "text/markdown": [
       "\n",
       "A data.frame: 6 × 5\n",
       "\n",
       "| <!--/--> | Sample &lt;chr&gt; | Freq &lt;dbl&gt; | id &lt;int&gt; | x &lt;fct&gt; | stratum &lt;fct&gt; |\n",
       "|---|---|---|---|---|---|\n",
       "| 1 | 02/0152:MegaIL2 | 2 | 1 | xx | SVAL:CASSVALASGANVLTF |\n",
       "| 2 | 01/1013:MtbLys  | 2 | 2 | xx | SVAL:CASSVALSNYGYTF   |\n",
       "| 3 | 09/0328:MtbLys  | 1 | 3 | xx | SVAL:CASSVALYGQSVTF   |\n",
       "| 4 | 09/0671:MtbLys  | 1 | 4 | xx | SVAL:CASSVALLAGTQYF   |\n",
       "| 5 | 09/0328:MtbLys  | 1 | 5 | xx | SVAL:CASSVALGAGGGYTF  |\n",
       "| 6 | 09/0772:MtbLys  | 1 | 6 | xx | SVAL:CASSVALLGETQYF   |\n",
       "\n"
      ],
      "text/plain": [
       "  Sample          Freq id x  stratum              \n",
       "1 02/0152:MegaIL2 2    1  xx SVAL:CASSVALASGANVLTF\n",
       "2 01/1013:MtbLys  2    2  xx SVAL:CASSVALSNYGYTF  \n",
       "3 09/0328:MtbLys  1    3  xx SVAL:CASSVALYGQSVTF  \n",
       "4 09/0671:MtbLys  1    4  xx SVAL:CASSVALLAGTQYF  \n",
       "5 09/0328:MtbLys  1    5  xx SVAL:CASSVALGAGGGYTF \n",
       "6 09/0772:MtbLys  1    6  xx SVAL:CASSVALLGETQYF  "
      ]
     },
     "metadata": {},
     "output_type": "display_data"
    }
   ],
   "source": [
    "head(tmp)"
   ]
  },
  {
   "cell_type": "code",
   "execution_count": 141,
   "metadata": {},
   "outputs": [
    {
     "data": {
      "image/png": "[encoded data removed]",
      "text/plain": [
       "plot without title"
      ]
     },
     "metadata": {
      "image/png": {
       "height": 420,
       "width": 420
      }
     },
     "output_type": "display_data"
    }
   ],
   "source": [
    "ggplot(ucb_lodes, ggplot2::aes(x = x, stratum = stratum, y = Freq)) +\n",
    " #   ggplot2::scale_fill_manual(values=plot_palette) +\n",
    "    ggalluvial::stat_stratum(geom = \"stratum\", alpha = .5, ggplot2::aes(fill = stratum)) +\n",
    "  #  ggalluvial::stat_stratum(geom = \"text\", ggplot2::aes(label = stratum), size = 3) +\n",
    "    ggalluvial::geom_flow(ggplot2::aes(alluvium = cohort, fill = stratum)) +\n",
    "    ggplot2::scale_y_continuous(name=\"Freq\") +\n",
    "    ggplot2::theme_light() +\n",
    "    ggplot2::theme(plot.title=ggplot2::element_text(face=\"bold\",size=20),\n",
    "                   axis.text.x=ggplot2::element_text(size=16),\n",
    "                   axis.text.y=ggplot2::element_text(size=8),\n",
    "                   axis.title.x=ggplot2::element_blank(),\n",
    "                   axis.title.y=ggplot2::element_text(size=16),\n",
    "                   legend.position=\"none\")"
   ]
  },
  {
   "cell_type": "code",
   "execution_count": null,
   "metadata": {},
   "outputs": [],
   "source": []
  },
  {
   "cell_type": "code",
   "execution_count": 215,
   "metadata": {},
   "outputs": [
    {
     "name": "stderr",
     "output_type": "stream",
     "text": [
      "ERROR while rich displaying an object: Error in f(...): Data is not in a recognized alluvial form (see `help('alluvial-data')` for details).\n",
      "\n",
      "Traceback:\n",
      "1. tryCatch(withCallingHandlers({\n",
      " .     if (!mime %in% names(repr::mime2repr)) \n",
      " .         stop(\"No repr_* for mimetype \", mime, \" in repr::mime2repr\")\n",
      " .     rpr <- repr::mime2repr[[mime]](obj)\n",
      " .     if (is.null(rpr)) \n",
      " .         return(NULL)\n",
      " .     prepare_content(is.raw(rpr), rpr)\n",
      " . }, error = error_handler), error = outer_handler)\n",
      "2. tryCatchList(expr, classes, parentenv, handlers)\n",
      "3. tryCatchOne(expr, names, parentenv, handlers[[1L]])\n",
      "4. doTryCatch(return(expr), name, parentenv, handler)\n",
      "5. withCallingHandlers({\n",
      " .     if (!mime %in% names(repr::mime2repr)) \n",
      " .         stop(\"No repr_* for mimetype \", mime, \" in repr::mime2repr\")\n",
      " .     rpr <- repr::mime2repr[[mime]](obj)\n",
      " .     if (is.null(rpr)) \n",
      " .         return(NULL)\n",
      " .     prepare_content(is.raw(rpr), rpr)\n",
      " . }, error = error_handler)\n",
      "6. repr::mime2repr[[mime]](obj)\n",
      "7. repr_text.default(obj)\n",
      "8. paste(capture.output(print(obj)), collapse = \"\\n\")\n",
      "9. capture.output(print(obj))\n",
      "10. evalVis(expr)\n",
      "11. withVisible(eval(expr, pf))\n",
      "12. eval(expr, pf)\n",
      "13. eval(expr, pf)\n",
      "14. print(obj)\n",
      "15. print.ggplot(obj)\n",
      "16. ggplot_build(x)\n",
      "17. ggplot_build.ggplot(x)\n",
      "18. by_layer(function(l, d) l$compute_statistic(d, layout))\n",
      "19. f(l = layers[[i]], d = data[[i]])\n",
      "20. l$compute_statistic(d, layout)\n",
      "21. f(..., self = self)\n",
      "22. self$stat$setup_data(data, self$computed_stat_params)\n",
      "23. f(...)\n",
      "24. stop(\"Data is not in a recognized alluvial form \", \"(see `help('alluvial-data')` for details).\")\n"
     ]
    },
    {
     "data": {
      "image/png": "[encoded data removed]",
      "text/plain": [
       "plot without title"
      ]
     },
     "metadata": {
      "image/png": {
       "height": 420,
       "width": 420
      }
     },
     "output_type": "display_data"
    }
   ],
   "source": [
    "p <- ggplot(data = alluvialdf, aes(x = Sample, y = Freq, \n",
    "        fill = pattern, stratum = TcRb, alluvium = pattern))\n",
    "    myp <- p + geom_alluvium(decreasing = FALSE) + \n",
    "geom_stratum(decreasing = FALSE, stat = \"alluvium\") + \n",
    "scale_fill_manual(breaks = names(myColors[myColors != \"white\"]), values = myColors) + \n",
    "theme(axis.title.y = element_text(size = 50), \n",
    "axis.title.x = element_blank(), axis.line = element_line(color = \"black\"), \n",
    "      axis.text = element_text(size = 50), axis.text.x = element_text(angle = 45, \n",
    "                                                                      hjust = 1), plot.title = element_text(size = 50, \n",
    "                                                                                                            hjust = 0.5)) + theme(panel.grid.major = element_blank(), \n",
    "        panel.grid.minor = element_blank(), panel.background = element_rect(fill = \"transparent\", \n",
    "            colour = NA), legend.key = element_rect(fill = \"white\", \n",
    "            colour = \"white\"), legend.position = \"none\", plot.margin = unit(c(0.2, \n",
    "            0, 0, 0), \"cm\"))# + labs(y = countfrac) + labs(title = plottitle)\n",
    "myp"
   ]
  },
  {
   "cell_type": "code",
   "execution_count": null,
   "metadata": {},
   "outputs": [],
   "source": []
  },
  {
   "cell_type": "code",
   "execution_count": null,
   "metadata": {},
   "outputs": [],
   "source": []
  },
  {
   "cell_type": "code",
   "execution_count": null,
   "metadata": {},
   "outputs": [],
   "source": []
  },
  {
   "cell_type": "code",
   "execution_count": 140,
   "metadata": {},
   "outputs": [],
   "source": [
    "colnames(alluvialdf)[3] <- \"xxx\""
   ]
  },
  {
   "cell_type": "code",
   "execution_count": 151,
   "metadata": {},
   "outputs": [
    {
     "data": {
      "text/html": [
       "<table class=\"dataframe\">\n",
       "<caption>A data.frame: 6 × 3</caption>\n",
       "<thead>\n",
       "\t<tr><th></th><th scope=col>Sample</th><th scope=col>TcRb</th><th scope=col>xxx</th></tr>\n",
       "\t<tr><th></th><th scope=col>&lt;chr&gt;</th><th scope=col>&lt;chr&gt;</th><th scope=col>&lt;dbl&gt;</th></tr>\n",
       "</thead>\n",
       "<tbody>\n",
       "\t<tr><th scope=row>180</th><td>01/0329:MtbLys</td><td>CASSQFIGDTDQSDTQYF</td><td>0</td></tr>\n",
       "\t<tr><th scope=row>181</th><td>01/0882:MtbLys</td><td>CASSQFIGDTDQSDTQYF</td><td>0</td></tr>\n",
       "\t<tr><th scope=row>182</th><td>03/0480:MtbLys</td><td>CASSQFIGDTDQSDTQYF</td><td>0</td></tr>\n",
       "\t<tr><th scope=row>183</th><td>03/0493:MtbLys</td><td>CASSQFIGDTDQSDTQYF</td><td>0</td></tr>\n",
       "\t<tr><th scope=row>184</th><td>03/0302:MtbLys</td><td>CASSQFIGDTDQSDTQYF</td><td>0</td></tr>\n",
       "\t<tr><th scope=row>185</th><td>09/0334:MtbLys</td><td>CASSQFIGDTDQSDTQYF</td><td>0</td></tr>\n",
       "</tbody>\n",
       "</table>\n"
      ],
      "text/latex": [
       "A data.frame: 6 × 3\n",
       "\\begin{tabular}{r|lll}\n",
       "  & Sample & TcRb & xxx\\\\\n",
       "  & <chr> & <chr> & <dbl>\\\\\n",
       "\\hline\n",
       "\t180 & 01/0329:MtbLys & CASSQFIGDTDQSDTQYF & 0\\\\\n",
       "\t181 & 01/0882:MtbLys & CASSQFIGDTDQSDTQYF & 0\\\\\n",
       "\t182 & 03/0480:MtbLys & CASSQFIGDTDQSDTQYF & 0\\\\\n",
       "\t183 & 03/0493:MtbLys & CASSQFIGDTDQSDTQYF & 0\\\\\n",
       "\t184 & 03/0302:MtbLys & CASSQFIGDTDQSDTQYF & 0\\\\\n",
       "\t185 & 09/0334:MtbLys & CASSQFIGDTDQSDTQYF & 0\\\\\n",
       "\\end{tabular}\n"
      ],
      "text/markdown": [
       "\n",
       "A data.frame: 6 × 3\n",
       "\n",
       "| <!--/--> | Sample &lt;chr&gt; | TcRb &lt;chr&gt; | xxx &lt;dbl&gt; |\n",
       "|---|---|---|---|\n",
       "| 180 | 01/0329:MtbLys | CASSQFIGDTDQSDTQYF | 0 |\n",
       "| 181 | 01/0882:MtbLys | CASSQFIGDTDQSDTQYF | 0 |\n",
       "| 182 | 03/0480:MtbLys | CASSQFIGDTDQSDTQYF | 0 |\n",
       "| 183 | 03/0493:MtbLys | CASSQFIGDTDQSDTQYF | 0 |\n",
       "| 184 | 03/0302:MtbLys | CASSQFIGDTDQSDTQYF | 0 |\n",
       "| 185 | 09/0334:MtbLys | CASSQFIGDTDQSDTQYF | 0 |\n",
       "\n"
      ],
      "text/plain": [
       "    Sample         TcRb               xxx\n",
       "180 01/0329:MtbLys CASSQFIGDTDQSDTQYF 0  \n",
       "181 01/0882:MtbLys CASSQFIGDTDQSDTQYF 0  \n",
       "182 03/0480:MtbLys CASSQFIGDTDQSDTQYF 0  \n",
       "183 03/0493:MtbLys CASSQFIGDTDQSDTQYF 0  \n",
       "184 03/0302:MtbLys CASSQFIGDTDQSDTQYF 0  \n",
       "185 09/0334:MtbLys CASSQFIGDTDQSDTQYF 0  "
      ]
     },
     "metadata": {},
     "output_type": "display_data"
    }
   ],
   "source": [
    "tail(alluvialdf)"
   ]
  },
  {
   "cell_type": "code",
   "execution_count": 142,
   "metadata": {},
   "outputs": [
    {
     "data": {
      "text/html": [
       "923"
      ],
      "text/latex": [
       "923"
      ],
      "text/markdown": [
       "923"
      ],
      "text/plain": [
       "[1] 923"
      ]
     },
     "metadata": {},
     "output_type": "display_data"
    }
   ],
   "source": [
    "length(CDR3_fraction$samplename)"
   ]
  },
  {
   "cell_type": "code",
   "execution_count": 143,
   "metadata": {},
   "outputs": [
    {
     "data": {
      "text/html": [
       "<table class=\"dataframe\">\n",
       "<caption>A data.frame: 6 × 4</caption>\n",
       "<thead>\n",
       "\t<tr><th></th><th scope=col>samplename</th><th scope=col>nSeqCDR3</th><th scope=col>cloneFraction</th><th scope=col>cloneCount</th></tr>\n",
       "\t<tr><th></th><th scope=col>&lt;chr&gt;</th><th scope=col>&lt;chr&gt;</th><th scope=col>&lt;dbl&gt;</th><th scope=col>&lt;dbl&gt;</th></tr>\n",
       "</thead>\n",
       "<tbody>\n",
       "\t<tr><th scope=row>3</th><td>CHP_375-01-PBMC-DNA</td><td>TGTGCCAGCAGTGAACTAGCGGGGGGGTACAATGAGCAGTTCTTC   </td><td>0.2162162</td><td>8</td></tr>\n",
       "\t<tr><th scope=row>5</th><td>CHP_375-01-PBMC-DNA</td><td>TGTGCCAGTAGTCTTCACGGGGACAGGGGATTTTATGGCTACACCTTC</td><td>0.1351351</td><td>5</td></tr>\n",
       "\t<tr><th scope=row>6</th><td>CHP_375-01-PBMC-DNA</td><td>TGTGCCAGCAGTGACTCTAGCGGGGGGGCCAATGAGCAGTTCTTC   </td><td>0.1351351</td><td>5</td></tr>\n",
       "\t<tr><th scope=row>7</th><td>CHP_375-01-PBMC-DNA</td><td>TGTGCCAGCAGCCACAGGGGGTGGGTCAATCAGCCCCAGCATTTT   </td><td>0.1351351</td><td>5</td></tr>\n",
       "\t<tr><th scope=row>8</th><td>CHP_375-01-PBMC-DNA</td><td>TGTGCCAGCAGCTTAGGGGGGTACCAAGAGACCCAGTACTTC      </td><td>0.1351351</td><td>5</td></tr>\n",
       "\t<tr><th scope=row>9</th><td>CHP_375-01-PBMC-DNA</td><td>TGTGCCAGCAATCCGGGGCCGGGGGTTAACACTGAAGCTTTCTTT   </td><td>0.1081081</td><td>4</td></tr>\n",
       "</tbody>\n",
       "</table>\n"
      ],
      "text/latex": [
       "A data.frame: 6 × 4\n",
       "\\begin{tabular}{r|llll}\n",
       "  & samplename & nSeqCDR3 & cloneFraction & cloneCount\\\\\n",
       "  & <chr> & <chr> & <dbl> & <dbl>\\\\\n",
       "\\hline\n",
       "\t3 & CHP\\_375-01-PBMC-DNA & TGTGCCAGCAGTGAACTAGCGGGGGGGTACAATGAGCAGTTCTTC    & 0.2162162 & 8\\\\\n",
       "\t5 & CHP\\_375-01-PBMC-DNA & TGTGCCAGTAGTCTTCACGGGGACAGGGGATTTTATGGCTACACCTTC & 0.1351351 & 5\\\\\n",
       "\t6 & CHP\\_375-01-PBMC-DNA & TGTGCCAGCAGTGACTCTAGCGGGGGGGCCAATGAGCAGTTCTTC    & 0.1351351 & 5\\\\\n",
       "\t7 & CHP\\_375-01-PBMC-DNA & TGTGCCAGCAGCCACAGGGGGTGGGTCAATCAGCCCCAGCATTTT    & 0.1351351 & 5\\\\\n",
       "\t8 & CHP\\_375-01-PBMC-DNA & TGTGCCAGCAGCTTAGGGGGGTACCAAGAGACCCAGTACTTC       & 0.1351351 & 5\\\\\n",
       "\t9 & CHP\\_375-01-PBMC-DNA & TGTGCCAGCAATCCGGGGCCGGGGGTTAACACTGAAGCTTTCTTT    & 0.1081081 & 4\\\\\n",
       "\\end{tabular}\n"
      ],
      "text/markdown": [
       "\n",
       "A data.frame: 6 × 4\n",
       "\n",
       "| <!--/--> | samplename &lt;chr&gt; | nSeqCDR3 &lt;chr&gt; | cloneFraction &lt;dbl&gt; | cloneCount &lt;dbl&gt; |\n",
       "|---|---|---|---|---|\n",
       "| 3 | CHP_375-01-PBMC-DNA | TGTGCCAGCAGTGAACTAGCGGGGGGGTACAATGAGCAGTTCTTC    | 0.2162162 | 8 |\n",
       "| 5 | CHP_375-01-PBMC-DNA | TGTGCCAGTAGTCTTCACGGGGACAGGGGATTTTATGGCTACACCTTC | 0.1351351 | 5 |\n",
       "| 6 | CHP_375-01-PBMC-DNA | TGTGCCAGCAGTGACTCTAGCGGGGGGGCCAATGAGCAGTTCTTC    | 0.1351351 | 5 |\n",
       "| 7 | CHP_375-01-PBMC-DNA | TGTGCCAGCAGCCACAGGGGGTGGGTCAATCAGCCCCAGCATTTT    | 0.1351351 | 5 |\n",
       "| 8 | CHP_375-01-PBMC-DNA | TGTGCCAGCAGCTTAGGGGGGTACCAAGAGACCCAGTACTTC       | 0.1351351 | 5 |\n",
       "| 9 | CHP_375-01-PBMC-DNA | TGTGCCAGCAATCCGGGGCCGGGGGTTAACACTGAAGCTTTCTTT    | 0.1081081 | 4 |\n",
       "\n"
      ],
      "text/plain": [
       "  samplename          nSeqCDR3                                        \n",
       "3 CHP_375-01-PBMC-DNA TGTGCCAGCAGTGAACTAGCGGGGGGGTACAATGAGCAGTTCTTC   \n",
       "5 CHP_375-01-PBMC-DNA TGTGCCAGTAGTCTTCACGGGGACAGGGGATTTTATGGCTACACCTTC\n",
       "6 CHP_375-01-PBMC-DNA TGTGCCAGCAGTGACTCTAGCGGGGGGGCCAATGAGCAGTTCTTC   \n",
       "7 CHP_375-01-PBMC-DNA TGTGCCAGCAGCCACAGGGGGTGGGTCAATCAGCCCCAGCATTTT   \n",
       "8 CHP_375-01-PBMC-DNA TGTGCCAGCAGCTTAGGGGGGTACCAAGAGACCCAGTACTTC      \n",
       "9 CHP_375-01-PBMC-DNA TGTGCCAGCAATCCGGGGCCGGGGGTTAACACTGAAGCTTTCTTT   \n",
       "  cloneFraction cloneCount\n",
       "3 0.2162162     8         \n",
       "5 0.1351351     5         \n",
       "6 0.1351351     5         \n",
       "7 0.1351351     5         \n",
       "8 0.1351351     5         \n",
       "9 0.1081081     4         "
      ]
     },
     "metadata": {},
     "output_type": "display_data"
    }
   ],
   "source": [
    "head(CDR3_fraction)"
   ]
  },
  {
   "cell_type": "code",
   "execution_count": 144,
   "metadata": {
    "scrolled": true
   },
   "outputs": [
    {
     "data": {
      "image/png": "[encoded data removed]",
      "text/plain": [
       "plot without title"
      ]
     },
     "metadata": {
      "image/png": {
       "height": 420,
       "width": 420
      }
     },
     "output_type": "display_data"
    }
   ],
   "source": [
    "p <- ggplot(as.data.frame(CDR3_fraction), aes(x = samplename, y = cloneFraction, \n",
    "        fill = nSeqCDR3, stratum = nSeqCDR3, alluvium = nSeqCDR3, \n",
    "        label = nSeqCDR3))\n",
    "    myp <- p + geom_alluvium(decreasing = FALSE) + geom_stratum(decreasing = FALSE, \n",
    "        stat = \"alluvium\") + scale_fill_manual(breaks = names(myColors[myColors != \n",
    "        \"white\"]), values = myColors) + theme(axis.title.y = element_text(size = 50), \n",
    "        axis.title.x = element_blank(), axis.line = element_line(color = \"black\"), \n",
    "        axis.text = element_text(size = 50), axis.text.x = element_text(angle = 45, \n",
    "            hjust = 1), plot.title = element_text(size = 50, \n",
    "            hjust = 0.5)) + theme(panel.grid.major = element_blank(), \n",
    "        panel.grid.minor = element_blank(), panel.background = element_rect(fill = \"transparent\", \n",
    "            colour = NA), legend.key = element_rect(fill = \"white\", \n",
    "            colour = \"white\"), legend.position = \"none\", plot.margin = unit(c(0.2, \n",
    "            0, 0, 0), \"cm\")) \n",
    "\n",
    "    print(myp)"
   ]
  },
  {
   "cell_type": "code",
   "execution_count": null,
   "metadata": {},
   "outputs": [],
   "source": []
  }
 ],
 "metadata": {
  "kernelspec": {
   "display_name": "R 4.0",
   "language": "R",
   "name": "ir40"
  },
  "language_info": {
   "codemirror_mode": "r",
   "file_extension": ".r",
   "mimetype": "text/x-r-source",
   "name": "R",
   "pygments_lexer": "r",
   "version": "4.0.3"
  },
  "toc": {
   "base_numbering": 1,
   "nav_menu": {},
   "number_sections": false,
   "sideBar": true,
   "skip_h1_title": false,
   "title_cell": "Table of Contents",
   "title_sidebar": "Contents",
   "toc_cell": true,
   "toc_position": {
    "height": "calc(100% - 180px)",
    "left": "10px",
    "top": "150px",
    "width": "217.3px"
   },
   "toc_section_display": true,
   "toc_window_display": true
  }
 },
 "nbformat": 4,
 "nbformat_minor": 2
}
