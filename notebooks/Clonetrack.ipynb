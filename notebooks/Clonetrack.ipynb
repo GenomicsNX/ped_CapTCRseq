{
 "cells": [
  {
   "cell_type": "markdown",
   "metadata": {},
   "source": [
    "# Dependencies"
   ]
  },
  {
   "cell_type": "code",
   "execution_count": 2,
   "metadata": {
    "vscode": {
     "languageId": "r"
    }
   },
   "outputs": [
    {
     "data": {
      "text/html": [
       "'en_US.UTF-8/en_US.UTF-8/en_US.UTF-8/C/en_US.UTF-8/C'"
      ],
      "text/latex": [
       "'en\\_US.UTF-8/en\\_US.UTF-8/en\\_US.UTF-8/C/en\\_US.UTF-8/C'"
      ],
      "text/markdown": [
       "'en_US.UTF-8/en_US.UTF-8/en_US.UTF-8/C/en_US.UTF-8/C'"
      ],
      "text/plain": [
       "[1] \"en_US.UTF-8/en_US.UTF-8/en_US.UTF-8/C/en_US.UTF-8/C\""
      ]
     },
     "metadata": {},
     "output_type": "display_data"
    }
   ],
   "source": [
    "Sys.setlocale(category = \"LC_ALL\", locale = \"en_US.UTF-8\")"
   ]
  },
  {
   "cell_type": "code",
   "execution_count": 3,
   "metadata": {
    "scrolled": true,
    "vscode": {
     "languageId": "r"
    }
   },
   "outputs": [
    {
     "name": "stderr",
     "output_type": "stream",
     "text": [
      "Loading required package: ggplot2\n",
      "\n"
     ]
    }
   ],
   "source": [
    "library(ggalluvial)\n",
    "library(randomcoloR)"
   ]
  },
  {
   "cell_type": "markdown",
   "metadata": {},
   "source": [
    "# Functions"
   ]
  },
  {
   "cell_type": "code",
   "execution_count": 4,
   "metadata": {
    "vscode": {
     "languageId": "r"
    }
   },
   "outputs": [],
   "source": [
    "source(\"/Users/anabbi/git/ped_CapTCRseq/R/clonetrack.R\")"
   ]
  },
  {
   "cell_type": "code",
   "execution_count": 5,
   "metadata": {
    "vscode": {
     "languageId": "r"
    }
   },
   "outputs": [],
   "source": [
    "trbbarplot.fx <- function(metadta, pat, sampletype) {\n",
    "      pat_sample <- metadta[metadta$Patient == pat & metadta$sampletype == sampletype, ] # should not contain NA\n",
    "      # TRB bar plot\n",
    "      barpt <- ggplot(data = pat_sample, aes(y = TRB, x = basename)) +\n",
    "            geom_bar(fill = \"#f3b94e\", colour = \"#030303\", stat = \"identity\") +\n",
    "            theme(\n",
    "                  axis.title.x = element_blank(),\n",
    "                  axis.text.x = element_blank(),\n",
    "                  axis.line = element_line(color = \"black\"),\n",
    "                  axis.text = element_text(size = 15),\n",
    "                  axis.title = element_text(size = 15),\n",
    "                  legend.position = \"none\"\n",
    "            ) +\n",
    "            theme(\n",
    "                  panel.grid.major = element_blank(),\n",
    "                  panel.grid.minor = element_blank(),\n",
    "                  panel.background = element_rect(fill = \"transparent\", colour = NA),\n",
    "                  panel.border = element_blank(),\n",
    "                  plot.margin = unit(c(0, 0, 0, 0), \"cm\")\n",
    "            )\n",
    "      return(barpt)\n",
    "}\n"
   ]
  },
  {
   "cell_type": "markdown",
   "metadata": {},
   "source": [
    "# Paths"
   ]
  },
  {
   "cell_type": "code",
   "execution_count": 2,
   "metadata": {
    "vscode": {
     "languageId": "r"
    }
   },
   "outputs": [],
   "source": [
    "datapath <- \"/Users/anabbi/OneDrive - UHN/Documents/INTERCEPT/Data/\"\n",
    "plotpath <- \"/Users/anabbi/OneDrive - UHN/Documents/INTERCEPT/Plots/\"\n",
    "manifestpath <- \"/Users/anabbi/OneDrive - UHN/Documents/INTERCEPT/Manifests/\"\n",
    "\n",
    "gitpath <- \"/Users/anabbi/git/ped_CapTCRseq/\""
   ]
  },
  {
   "cell_type": "code",
   "execution_count": 3,
   "metadata": {
    "vscode": {
     "languageId": "r"
    }
   },
   "outputs": [],
   "source": [
    "h4hpath <- \"/Users/anabbi/Desktop/H4H/INTERCEPT/\""
   ]
  },
  {
   "cell_type": "markdown",
   "metadata": {},
   "source": [
    "# Main"
   ]
  },
  {
   "cell_type": "code",
   "execution_count": 4,
   "metadata": {
    "vscode": {
     "languageId": "r"
    }
   },
   "outputs": [],
   "source": [
    "meta_div <- readr::read_rds(paste0(datapath, \"capTCRseq/meta_div_goodsamples.rds\"))"
   ]
  },
  {
   "cell_type": "code",
   "execution_count": 5,
   "metadata": {
    "vscode": {
     "languageId": "r"
    }
   },
   "outputs": [],
   "source": [
    "meta_div <- meta_div[ !is.na(meta_div$TRB),]"
   ]
  },
  {
   "cell_type": "code",
   "execution_count": 6,
   "metadata": {
    "vscode": {
     "languageId": "r"
    }
   },
   "outputs": [
    {
     "data": {
      "text/html": [
       "<table class=\"dataframe\">\n",
       "<caption>A data.frame: 6 x 58</caption>\n",
       "<thead>\n",
       "\t<tr><th></th><th scope=col>sample_id</th><th scope=col>Patient</th><th scope=col>cycle</th><th scope=col>FOLD</th><th scope=col>ATC</th><th scope=col>Age</th><th scope=col>Disease_type</th><th scope=col>TE_fold</th><th scope=col>Pass</th><th scope=col>CD3</th><th scope=col>...</th><th scope=col>observed_Shannon</th><th scope=col>estimated_Shannon</th><th scope=col>SE_Shannon</th><th scope=col>observed_Simpson</th><th scope=col>estimated_Simpson</th><th scope=col>SE_Simpson</th><th scope=col>file</th><th scope=col>basename</th><th scope=col>Group</th><th scope=col>sampletype</th></tr>\n",
       "\t<tr><th></th><th scope=col>&lt;chr&gt;</th><th scope=col>&lt;chr&gt;</th><th scope=col>&lt;chr&gt;</th><th scope=col>&lt;dbl&gt;</th><th scope=col>&lt;dbl&gt;</th><th scope=col>&lt;dbl&gt;</th><th scope=col>&lt;chr&gt;</th><th scope=col>&lt;chr&gt;</th><th scope=col>&lt;lgl&gt;</th><th scope=col>&lt;int&gt;</th><th scope=col>...</th><th scope=col>&lt;dbl&gt;</th><th scope=col>&lt;dbl&gt;</th><th scope=col>&lt;dbl&gt;</th><th scope=col>&lt;dbl&gt;</th><th scope=col>&lt;dbl&gt;</th><th scope=col>&lt;dbl&gt;</th><th scope=col>&lt;chr&gt;</th><th scope=col>&lt;chr&gt;</th><th scope=col>&lt;chr&gt;</th><th scope=col>&lt;chr&gt;</th></tr>\n",
       "</thead>\n",
       "<tbody>\n",
       "\t<tr><th scope=row>1</th><td>CHP_10YO_M_00  </td><td>CHP_10YO_M  </td><td>X00</td><td>NA</td><td>NA</td><td>NA</td><td>Normal</td><td>NA</td><td>NA</td><td>NA</td><td>...</td><td>10.591</td><td>10.601</td><td>0.074</td><td> 8.556</td><td> 8.561</td><td>0.097</td><td>batchNormal_16Apr2020/mixcr/clones/CLONES_TRBCHP_10YO-M_PBMC_DNA.txt  </td><td>CHP_10YO-M_PBMC_DNA  </td><td>CHP</td><td>PBMC</td></tr>\n",
       "\t<tr><th scope=row>2</th><td>CHP_11YO_M_00  </td><td>CHP_11YO_M  </td><td>X00</td><td>NA</td><td>NA</td><td>NA</td><td>Normal</td><td>NA</td><td>NA</td><td>NA</td><td>...</td><td>11.607</td><td>11.614</td><td>0.055</td><td>10.406</td><td>10.414</td><td>0.074</td><td>batchNormal_16Apr2020/mixcr/clones/CLONES_TRBCHP_11YO-M_PBMC_DNA.txt  </td><td>CHP_11YO-M_PBMC_DNA  </td><td>CHP</td><td>PBMC</td></tr>\n",
       "\t<tr><th scope=row>3</th><td>CHP_15YO_F_A_00</td><td>CHP_15YO_F_A</td><td>X00</td><td>NA</td><td>NA</td><td>NA</td><td>Normal</td><td>NA</td><td>NA</td><td>NA</td><td>...</td><td> 8.982</td><td> 8.989</td><td>0.042</td><td> 8.560</td><td> 8.570</td><td>0.060</td><td>batchNormal_16Apr2020/mixcr/clones/CLONES_TRBCHP_15YO-F-A_PBMC_DNA.txt</td><td>CHP_15YO-F-A_PBMC_DNA</td><td>CHP</td><td>PBMC</td></tr>\n",
       "\t<tr><th scope=row>4</th><td>CHP_15YO_F_B_00</td><td>CHP_15YO_F_B</td><td>X00</td><td>NA</td><td>NA</td><td>NA</td><td>Normal</td><td>NA</td><td>NA</td><td>NA</td><td>...</td><td> 6.330</td><td> 6.334</td><td>0.039</td><td> 5.870</td><td> 5.876</td><td>0.059</td><td>batchNormal_16Apr2020/mixcr/clones/CLONES_TRBCHP_15YO-F-B_PBMC_DNA.txt</td><td>CHP_15YO-F-B_PBMC_DNA</td><td>CHP</td><td>PBMC</td></tr>\n",
       "\t<tr><th scope=row>5</th><td>CHP_15YO_M_00  </td><td>CHP_15YO_M  </td><td>X00</td><td>NA</td><td>NA</td><td>NA</td><td>Normal</td><td>NA</td><td>NA</td><td>NA</td><td>...</td><td>21.110</td><td>21.120</td><td>0.040</td><td>20.321</td><td>20.339</td><td>0.079</td><td>batchNormal_16Apr2020/mixcr/clones/CLONES_TRBCHP_15YO-M_PBMC_DNA.txt  </td><td>CHP_15YO-M_PBMC_DNA  </td><td>CHP</td><td>PBMC</td></tr>\n",
       "\t<tr><th scope=row>6</th><td>CHP_16YO_M_00  </td><td>CHP_16YO_M  </td><td>X00</td><td>NA</td><td>NA</td><td>NA</td><td>Normal</td><td>NA</td><td>NA</td><td>NA</td><td>...</td><td> 3.972</td><td> 3.973</td><td>0.007</td><td> 3.944</td><td> 3.946</td><td>0.012</td><td>batchNormal_16Apr2020/mixcr/clones/CLONES_TRBCHP_16YO-M_PBMC_DNA.txt  </td><td>CHP_16YO-M_PBMC_DNA  </td><td>CHP</td><td>PBMC</td></tr>\n",
       "</tbody>\n",
       "</table>\n"
      ],
      "text/latex": [
       "A data.frame: 6 x 58\n",
       "\\begin{tabular}{r|lllllllllllllllllllll}\n",
       "  & sample\\_id & Patient & cycle & FOLD & ATC & Age & Disease\\_type & TE\\_fold & Pass & CD3 & ... & observed\\_Shannon & estimated\\_Shannon & SE\\_Shannon & observed\\_Simpson & estimated\\_Simpson & SE\\_Simpson & file & basename & Group & sampletype\\\\\n",
       "  & <chr> & <chr> & <chr> & <dbl> & <dbl> & <dbl> & <chr> & <chr> & <lgl> & <int> & ... & <dbl> & <dbl> & <dbl> & <dbl> & <dbl> & <dbl> & <chr> & <chr> & <chr> & <chr>\\\\\n",
       "\\hline\n",
       "\t1 & CHP\\_10YO\\_M\\_00   & CHP\\_10YO\\_M   & X00 & NA & NA & NA & Normal & NA & NA & NA & ... & 10.591 & 10.601 & 0.074 &  8.556 &  8.561 & 0.097 & batchNormal\\_16Apr2020/mixcr/clones/CLONES\\_TRBCHP\\_10YO-M\\_PBMC\\_DNA.txt   & CHP\\_10YO-M\\_PBMC\\_DNA   & CHP & PBMC\\\\\n",
       "\t2 & CHP\\_11YO\\_M\\_00   & CHP\\_11YO\\_M   & X00 & NA & NA & NA & Normal & NA & NA & NA & ... & 11.607 & 11.614 & 0.055 & 10.406 & 10.414 & 0.074 & batchNormal\\_16Apr2020/mixcr/clones/CLONES\\_TRBCHP\\_11YO-M\\_PBMC\\_DNA.txt   & CHP\\_11YO-M\\_PBMC\\_DNA   & CHP & PBMC\\\\\n",
       "\t3 & CHP\\_15YO\\_F\\_A\\_00 & CHP\\_15YO\\_F\\_A & X00 & NA & NA & NA & Normal & NA & NA & NA & ... &  8.982 &  8.989 & 0.042 &  8.560 &  8.570 & 0.060 & batchNormal\\_16Apr2020/mixcr/clones/CLONES\\_TRBCHP\\_15YO-F-A\\_PBMC\\_DNA.txt & CHP\\_15YO-F-A\\_PBMC\\_DNA & CHP & PBMC\\\\\n",
       "\t4 & CHP\\_15YO\\_F\\_B\\_00 & CHP\\_15YO\\_F\\_B & X00 & NA & NA & NA & Normal & NA & NA & NA & ... &  6.330 &  6.334 & 0.039 &  5.870 &  5.876 & 0.059 & batchNormal\\_16Apr2020/mixcr/clones/CLONES\\_TRBCHP\\_15YO-F-B\\_PBMC\\_DNA.txt & CHP\\_15YO-F-B\\_PBMC\\_DNA & CHP & PBMC\\\\\n",
       "\t5 & CHP\\_15YO\\_M\\_00   & CHP\\_15YO\\_M   & X00 & NA & NA & NA & Normal & NA & NA & NA & ... & 21.110 & 21.120 & 0.040 & 20.321 & 20.339 & 0.079 & batchNormal\\_16Apr2020/mixcr/clones/CLONES\\_TRBCHP\\_15YO-M\\_PBMC\\_DNA.txt   & CHP\\_15YO-M\\_PBMC\\_DNA   & CHP & PBMC\\\\\n",
       "\t6 & CHP\\_16YO\\_M\\_00   & CHP\\_16YO\\_M   & X00 & NA & NA & NA & Normal & NA & NA & NA & ... &  3.972 &  3.973 & 0.007 &  3.944 &  3.946 & 0.012 & batchNormal\\_16Apr2020/mixcr/clones/CLONES\\_TRBCHP\\_16YO-M\\_PBMC\\_DNA.txt   & CHP\\_16YO-M\\_PBMC\\_DNA   & CHP & PBMC\\\\\n",
       "\\end{tabular}\n"
      ],
      "text/markdown": [
       "\n",
       "A data.frame: 6 x 58\n",
       "\n",
       "| <!--/--> | sample_id &lt;chr&gt; | Patient &lt;chr&gt; | cycle &lt;chr&gt; | FOLD &lt;dbl&gt; | ATC &lt;dbl&gt; | Age &lt;dbl&gt; | Disease_type &lt;chr&gt; | TE_fold &lt;chr&gt; | Pass &lt;lgl&gt; | CD3 &lt;int&gt; | ... ... | observed_Shannon &lt;dbl&gt; | estimated_Shannon &lt;dbl&gt; | SE_Shannon &lt;dbl&gt; | observed_Simpson &lt;dbl&gt; | estimated_Simpson &lt;dbl&gt; | SE_Simpson &lt;dbl&gt; | file &lt;chr&gt; | basename &lt;chr&gt; | Group &lt;chr&gt; | sampletype &lt;chr&gt; |\n",
       "|---|---|---|---|---|---|---|---|---|---|---|---|---|---|---|---|---|---|---|---|---|---|\n",
       "| 1 | CHP_10YO_M_00   | CHP_10YO_M   | X00 | NA | NA | NA | Normal | NA | NA | NA | ... | 10.591 | 10.601 | 0.074 |  8.556 |  8.561 | 0.097 | batchNormal_16Apr2020/mixcr/clones/CLONES_TRBCHP_10YO-M_PBMC_DNA.txt   | CHP_10YO-M_PBMC_DNA   | CHP | PBMC |\n",
       "| 2 | CHP_11YO_M_00   | CHP_11YO_M   | X00 | NA | NA | NA | Normal | NA | NA | NA | ... | 11.607 | 11.614 | 0.055 | 10.406 | 10.414 | 0.074 | batchNormal_16Apr2020/mixcr/clones/CLONES_TRBCHP_11YO-M_PBMC_DNA.txt   | CHP_11YO-M_PBMC_DNA   | CHP | PBMC |\n",
       "| 3 | CHP_15YO_F_A_00 | CHP_15YO_F_A | X00 | NA | NA | NA | Normal | NA | NA | NA | ... |  8.982 |  8.989 | 0.042 |  8.560 |  8.570 | 0.060 | batchNormal_16Apr2020/mixcr/clones/CLONES_TRBCHP_15YO-F-A_PBMC_DNA.txt | CHP_15YO-F-A_PBMC_DNA | CHP | PBMC |\n",
       "| 4 | CHP_15YO_F_B_00 | CHP_15YO_F_B | X00 | NA | NA | NA | Normal | NA | NA | NA | ... |  6.330 |  6.334 | 0.039 |  5.870 |  5.876 | 0.059 | batchNormal_16Apr2020/mixcr/clones/CLONES_TRBCHP_15YO-F-B_PBMC_DNA.txt | CHP_15YO-F-B_PBMC_DNA | CHP | PBMC |\n",
       "| 5 | CHP_15YO_M_00   | CHP_15YO_M   | X00 | NA | NA | NA | Normal | NA | NA | NA | ... | 21.110 | 21.120 | 0.040 | 20.321 | 20.339 | 0.079 | batchNormal_16Apr2020/mixcr/clones/CLONES_TRBCHP_15YO-M_PBMC_DNA.txt   | CHP_15YO-M_PBMC_DNA   | CHP | PBMC |\n",
       "| 6 | CHP_16YO_M_00   | CHP_16YO_M   | X00 | NA | NA | NA | Normal | NA | NA | NA | ... |  3.972 |  3.973 | 0.007 |  3.944 |  3.946 | 0.012 | batchNormal_16Apr2020/mixcr/clones/CLONES_TRBCHP_16YO-M_PBMC_DNA.txt   | CHP_16YO-M_PBMC_DNA   | CHP | PBMC |\n",
       "\n"
      ],
      "text/plain": [
       "  sample_id       Patient      cycle FOLD ATC Age Disease_type TE_fold Pass CD3\n",
       "1 CHP_10YO_M_00   CHP_10YO_M   X00   NA   NA  NA  Normal       NA      NA   NA \n",
       "2 CHP_11YO_M_00   CHP_11YO_M   X00   NA   NA  NA  Normal       NA      NA   NA \n",
       "3 CHP_15YO_F_A_00 CHP_15YO_F_A X00   NA   NA  NA  Normal       NA      NA   NA \n",
       "4 CHP_15YO_F_B_00 CHP_15YO_F_B X00   NA   NA  NA  Normal       NA      NA   NA \n",
       "5 CHP_15YO_M_00   CHP_15YO_M   X00   NA   NA  NA  Normal       NA      NA   NA \n",
       "6 CHP_16YO_M_00   CHP_16YO_M   X00   NA   NA  NA  Normal       NA      NA   NA \n",
       "  ... observed_Shannon estimated_Shannon SE_Shannon observed_Simpson\n",
       "1 ... 10.591           10.601            0.074       8.556          \n",
       "2 ... 11.607           11.614            0.055      10.406          \n",
       "3 ...  8.982            8.989            0.042       8.560          \n",
       "4 ...  6.330            6.334            0.039       5.870          \n",
       "5 ... 21.110           21.120            0.040      20.321          \n",
       "6 ...  3.972            3.973            0.007       3.944          \n",
       "  estimated_Simpson SE_Simpson\n",
       "1  8.561            0.097     \n",
       "2 10.414            0.074     \n",
       "3  8.570            0.060     \n",
       "4  5.876            0.059     \n",
       "5 20.339            0.079     \n",
       "6  3.946            0.012     \n",
       "  file                                                                  \n",
       "1 batchNormal_16Apr2020/mixcr/clones/CLONES_TRBCHP_10YO-M_PBMC_DNA.txt  \n",
       "2 batchNormal_16Apr2020/mixcr/clones/CLONES_TRBCHP_11YO-M_PBMC_DNA.txt  \n",
       "3 batchNormal_16Apr2020/mixcr/clones/CLONES_TRBCHP_15YO-F-A_PBMC_DNA.txt\n",
       "4 batchNormal_16Apr2020/mixcr/clones/CLONES_TRBCHP_15YO-F-B_PBMC_DNA.txt\n",
       "5 batchNormal_16Apr2020/mixcr/clones/CLONES_TRBCHP_15YO-M_PBMC_DNA.txt  \n",
       "6 batchNormal_16Apr2020/mixcr/clones/CLONES_TRBCHP_16YO-M_PBMC_DNA.txt  \n",
       "  basename              Group sampletype\n",
       "1 CHP_10YO-M_PBMC_DNA   CHP   PBMC      \n",
       "2 CHP_11YO-M_PBMC_DNA   CHP   PBMC      \n",
       "3 CHP_15YO-F-A_PBMC_DNA CHP   PBMC      \n",
       "4 CHP_15YO-F-B_PBMC_DNA CHP   PBMC      \n",
       "5 CHP_15YO-M_PBMC_DNA   CHP   PBMC      \n",
       "6 CHP_16YO-M_PBMC_DNA   CHP   PBMC      "
      ]
     },
     "metadata": {},
     "output_type": "display_data"
    }
   ],
   "source": [
    "head(meta_div)"
   ]
  },
  {
   "cell_type": "code",
   "execution_count": 13,
   "metadata": {
    "vscode": {
     "languageId": "r"
    }
   },
   "outputs": [
    {
     "data": {
      "text/html": [
       "<table class=\"dataframe\">\n",
       "<caption>A data.frame: 6 x 6</caption>\n",
       "<thead>\n",
       "\t<tr><th></th><th scope=col>Patient</th><th scope=col>cycle</th><th scope=col>sampletype</th><th scope=col>TRB</th><th scope=col>Reads</th><th scope=col>file</th></tr>\n",
       "\t<tr><th></th><th scope=col>&lt;chr&gt;</th><th scope=col>&lt;chr&gt;</th><th scope=col>&lt;chr&gt;</th><th scope=col>&lt;int&gt;</th><th scope=col>&lt;int&gt;</th><th scope=col>&lt;chr&gt;</th></tr>\n",
       "</thead>\n",
       "<tbody>\n",
       "\t<tr><th scope=row>478</th><td>CHP_387</td><td>X01</td><td>PBMC </td><td>279</td><td>14179</td><td>batch8_14Jan2020/mixcr/clones/CLONES_TRBCHP_387-01-PBMC-DNA.txt                </td></tr>\n",
       "\t<tr><th scope=row>479</th><td>CHP_387</td><td>X02</td><td>PBMC </td><td>626</td><td> 5145</td><td>batch11_23Apr2020/mixcr/clones/CLONES_TRBCHP_387-02_PBMC_DNA.txt               </td></tr>\n",
       "\t<tr><th scope=row>481</th><td>CHP_387</td><td>X03</td><td>PBMC </td><td> 58</td><td>  343</td><td>batch11_23Apr2020/mixcr/clones/CLONES_TRBCHP_387-03_PBMC_DNA.txt               </td></tr>\n",
       "\t<tr><th scope=row>477</th><td>CHP_387</td><td>X01</td><td>cfDNA</td><td>  5</td><td>15263</td><td>batch7_cfDNA_29Jun2020/mixcr/clones/CLONES_TRBCHP_387-01_cfDNA.txt             </td></tr>\n",
       "\t<tr><th scope=row>480</th><td>CHP_387</td><td>X02</td><td>cfDNA</td><td>  4</td><td> 1749</td><td>remaining_batch_2_cfDNA_15April2021/mixcr/clones/CLONES_TRBCHP_387-02_cfDNA.txt</td></tr>\n",
       "\t<tr><th scope=row>482</th><td>CHP_387</td><td>X03</td><td>cfDNA</td><td> 10</td><td> 8141</td><td>batch11_cfDNA_11Sep2020/mixcr/clones/CLONES_TRBCHP_387-03_cfDNA.txt            </td></tr>\n",
       "</tbody>\n",
       "</table>\n"
      ],
      "text/latex": [
       "A data.frame: 6 x 6\n",
       "\\begin{tabular}{r|llllll}\n",
       "  & Patient & cycle & sampletype & TRB & Reads & file\\\\\n",
       "  & <chr> & <chr> & <chr> & <int> & <int> & <chr>\\\\\n",
       "\\hline\n",
       "\t478 & CHP\\_387 & X01 & PBMC  & 279 & 14179 & batch8\\_14Jan2020/mixcr/clones/CLONES\\_TRBCHP\\_387-01-PBMC-DNA.txt                \\\\\n",
       "\t479 & CHP\\_387 & X02 & PBMC  & 626 &  5145 & batch11\\_23Apr2020/mixcr/clones/CLONES\\_TRBCHP\\_387-02\\_PBMC\\_DNA.txt               \\\\\n",
       "\t481 & CHP\\_387 & X03 & PBMC  &  58 &   343 & batch11\\_23Apr2020/mixcr/clones/CLONES\\_TRBCHP\\_387-03\\_PBMC\\_DNA.txt               \\\\\n",
       "\t477 & CHP\\_387 & X01 & cfDNA &   5 & 15263 & batch7\\_cfDNA\\_29Jun2020/mixcr/clones/CLONES\\_TRBCHP\\_387-01\\_cfDNA.txt             \\\\\n",
       "\t480 & CHP\\_387 & X02 & cfDNA &   4 &  1749 & remaining\\_batch\\_2\\_cfDNA\\_15April2021/mixcr/clones/CLONES\\_TRBCHP\\_387-02\\_cfDNA.txt\\\\\n",
       "\t482 & CHP\\_387 & X03 & cfDNA &  10 &  8141 & batch11\\_cfDNA\\_11Sep2020/mixcr/clones/CLONES\\_TRBCHP\\_387-03\\_cfDNA.txt            \\\\\n",
       "\\end{tabular}\n"
      ],
      "text/markdown": [
       "\n",
       "A data.frame: 6 x 6\n",
       "\n",
       "| <!--/--> | Patient &lt;chr&gt; | cycle &lt;chr&gt; | sampletype &lt;chr&gt; | TRB &lt;int&gt; | Reads &lt;int&gt; | file &lt;chr&gt; |\n",
       "|---|---|---|---|---|---|---|\n",
       "| 478 | CHP_387 | X01 | PBMC  | 279 | 14179 | batch8_14Jan2020/mixcr/clones/CLONES_TRBCHP_387-01-PBMC-DNA.txt                 |\n",
       "| 479 | CHP_387 | X02 | PBMC  | 626 |  5145 | batch11_23Apr2020/mixcr/clones/CLONES_TRBCHP_387-02_PBMC_DNA.txt                |\n",
       "| 481 | CHP_387 | X03 | PBMC  |  58 |   343 | batch11_23Apr2020/mixcr/clones/CLONES_TRBCHP_387-03_PBMC_DNA.txt                |\n",
       "| 477 | CHP_387 | X01 | cfDNA |   5 | 15263 | batch7_cfDNA_29Jun2020/mixcr/clones/CLONES_TRBCHP_387-01_cfDNA.txt              |\n",
       "| 480 | CHP_387 | X02 | cfDNA |   4 |  1749 | remaining_batch_2_cfDNA_15April2021/mixcr/clones/CLONES_TRBCHP_387-02_cfDNA.txt |\n",
       "| 482 | CHP_387 | X03 | cfDNA |  10 |  8141 | batch11_cfDNA_11Sep2020/mixcr/clones/CLONES_TRBCHP_387-03_cfDNA.txt             |\n",
       "\n"
      ],
      "text/plain": [
       "    Patient cycle sampletype TRB Reads\n",
       "478 CHP_387 X01   PBMC       279 14179\n",
       "479 CHP_387 X02   PBMC       626  5145\n",
       "481 CHP_387 X03   PBMC        58   343\n",
       "477 CHP_387 X01   cfDNA        5 15263\n",
       "480 CHP_387 X02   cfDNA        4  1749\n",
       "482 CHP_387 X03   cfDNA       10  8141\n",
       "    file                                                                           \n",
       "478 batch8_14Jan2020/mixcr/clones/CLONES_TRBCHP_387-01-PBMC-DNA.txt                \n",
       "479 batch11_23Apr2020/mixcr/clones/CLONES_TRBCHP_387-02_PBMC_DNA.txt               \n",
       "481 batch11_23Apr2020/mixcr/clones/CLONES_TRBCHP_387-03_PBMC_DNA.txt               \n",
       "477 batch7_cfDNA_29Jun2020/mixcr/clones/CLONES_TRBCHP_387-01_cfDNA.txt             \n",
       "480 remaining_batch_2_cfDNA_15April2021/mixcr/clones/CLONES_TRBCHP_387-02_cfDNA.txt\n",
       "482 batch11_cfDNA_11Sep2020/mixcr/clones/CLONES_TRBCHP_387-03_cfDNA.txt            "
      ]
     },
     "metadata": {},
     "output_type": "display_data"
    }
   ],
   "source": [
    "meta_div[ meta_div$Patient == \"CHP_387\",c(\"Patient\", \"cycle\", \"sampletype\", \"TRB\", \"Reads\", \"file\")]"
   ]
  },
  {
   "attachments": {},
   "cell_type": "markdown",
   "metadata": {},
   "source": [
    "## T-ALL"
   ]
  },
  {
   "cell_type": "code",
   "execution_count": 55,
   "metadata": {
    "vscode": {
     "languageId": "r"
    }
   },
   "outputs": [],
   "source": [
    "tall <- meta_div[ meta_div$Disease_type == \"T-ALL\",]"
   ]
  },
  {
   "cell_type": "code",
   "execution_count": 56,
   "metadata": {
    "vscode": {
     "languageId": "r"
    }
   },
   "outputs": [
    {
     "data": {
      "text/plain": [
       "\n",
       "CHP_324 CHP_375 CHP_387 CHP_395 \n",
       "      3       6       6       2 "
      ]
     },
     "metadata": {},
     "output_type": "display_data"
    }
   ],
   "source": [
    "table(tall$Patient)"
   ]
  },
  {
   "cell_type": "markdown",
   "metadata": {},
   "source": [
    "### 375"
   ]
  },
  {
   "cell_type": "code",
   "execution_count": 57,
   "metadata": {
    "vscode": {
     "languageId": "r"
    }
   },
   "outputs": [
    {
     "data": {
      "text/html": [
       "<style>\n",
       ".list-inline {list-style: none; margin:0; padding: 0}\n",
       ".list-inline>li {display: inline-block}\n",
       ".list-inline>li:not(:last-child)::after {content: \"\\00b7\"; padding: 0 .5ex}\n",
       "</style>\n",
       "<ol class=list-inline><li>'sample_id'</li><li>'Patient'</li><li>'cycle'</li><li>'FOLD'</li><li>'ATC'</li><li>'Age'</li><li>'Disease_type'</li><li>'TE_fold'</li><li>'Pass'</li><li>'CD3'</li><li>'EM'</li><li>'CM'</li><li>'Naïve'</li><li>'SCM'</li><li>'TE'</li><li>'EM.'</li><li>'CM.'</li><li>'Naïve.'</li><li>'SCM.'</li><li>'TE.'</li><li>'Naïve.TE'</li><li>'N.CM.SCM.TE.EM'</li><li>'PD.1'</li><li>'PDL1'</li><li>'LAG3'</li><li>'TIM3'</li><li>'CTLA4'</li><li>'PD1.'</li><li>'PDL1.'</li><li>'LAG3.'</li><li>'TIM3.'</li><li>'CTLA4.'</li><li>'Any.NCR'</li><li>'PD1...LAG3...TIM3'</li><li>'cancergroup'</li><li>'TRB'</li><li>'Reads'</li><li>'CPKR'</li><li>'Average_reads'</li><li>'VMR'</li><li>'Max_reads'</li><li>'Singletons'</li><li>'Doubletons'</li><li>'qD'</li><li>'Sample_Coverage'</li><li>'observed_Richness'</li><li>'estimated_Richness'</li><li>'SE_Richeness'</li><li>'observed_Shannon'</li><li>'estimated_Shannon'</li><li>'SE_Shannon'</li><li>'observed_Simpson'</li><li>'estimated_Simpson'</li><li>'SE_Simpson'</li><li>'file'</li><li>'basename'</li><li>'Group'</li><li>'sampletype'</li></ol>\n"
      ],
      "text/latex": [
       "\\begin{enumerate*}\n",
       "\\item 'sample\\_id'\n",
       "\\item 'Patient'\n",
       "\\item 'cycle'\n",
       "\\item 'FOLD'\n",
       "\\item 'ATC'\n",
       "\\item 'Age'\n",
       "\\item 'Disease\\_type'\n",
       "\\item 'TE\\_fold'\n",
       "\\item 'Pass'\n",
       "\\item 'CD3'\n",
       "\\item 'EM'\n",
       "\\item 'CM'\n",
       "\\item 'Naïve'\n",
       "\\item 'SCM'\n",
       "\\item 'TE'\n",
       "\\item 'EM.'\n",
       "\\item 'CM.'\n",
       "\\item 'Naïve.'\n",
       "\\item 'SCM.'\n",
       "\\item 'TE.'\n",
       "\\item 'Naïve.TE'\n",
       "\\item 'N.CM.SCM.TE.EM'\n",
       "\\item 'PD.1'\n",
       "\\item 'PDL1'\n",
       "\\item 'LAG3'\n",
       "\\item 'TIM3'\n",
       "\\item 'CTLA4'\n",
       "\\item 'PD1.'\n",
       "\\item 'PDL1.'\n",
       "\\item 'LAG3.'\n",
       "\\item 'TIM3.'\n",
       "\\item 'CTLA4.'\n",
       "\\item 'Any.NCR'\n",
       "\\item 'PD1...LAG3...TIM3'\n",
       "\\item 'cancergroup'\n",
       "\\item 'TRB'\n",
       "\\item 'Reads'\n",
       "\\item 'CPKR'\n",
       "\\item 'Average\\_reads'\n",
       "\\item 'VMR'\n",
       "\\item 'Max\\_reads'\n",
       "\\item 'Singletons'\n",
       "\\item 'Doubletons'\n",
       "\\item 'qD'\n",
       "\\item 'Sample\\_Coverage'\n",
       "\\item 'observed\\_Richness'\n",
       "\\item 'estimated\\_Richness'\n",
       "\\item 'SE\\_Richeness'\n",
       "\\item 'observed\\_Shannon'\n",
       "\\item 'estimated\\_Shannon'\n",
       "\\item 'SE\\_Shannon'\n",
       "\\item 'observed\\_Simpson'\n",
       "\\item 'estimated\\_Simpson'\n",
       "\\item 'SE\\_Simpson'\n",
       "\\item 'file'\n",
       "\\item 'basename'\n",
       "\\item 'Group'\n",
       "\\item 'sampletype'\n",
       "\\end{enumerate*}\n"
      ],
      "text/markdown": [
       "1. 'sample_id'\n",
       "2. 'Patient'\n",
       "3. 'cycle'\n",
       "4. 'FOLD'\n",
       "5. 'ATC'\n",
       "6. 'Age'\n",
       "7. 'Disease_type'\n",
       "8. 'TE_fold'\n",
       "9. 'Pass'\n",
       "10. 'CD3'\n",
       "11. 'EM'\n",
       "12. 'CM'\n",
       "13. 'Naïve'\n",
       "14. 'SCM'\n",
       "15. 'TE'\n",
       "16. 'EM.'\n",
       "17. 'CM.'\n",
       "18. 'Naïve.'\n",
       "19. 'SCM.'\n",
       "20. 'TE.'\n",
       "21. 'Naïve.TE'\n",
       "22. 'N.CM.SCM.TE.EM'\n",
       "23. 'PD.1'\n",
       "24. 'PDL1'\n",
       "25. 'LAG3'\n",
       "26. 'TIM3'\n",
       "27. 'CTLA4'\n",
       "28. 'PD1.'\n",
       "29. 'PDL1.'\n",
       "30. 'LAG3.'\n",
       "31. 'TIM3.'\n",
       "32. 'CTLA4.'\n",
       "33. 'Any.NCR'\n",
       "34. 'PD1...LAG3...TIM3'\n",
       "35. 'cancergroup'\n",
       "36. 'TRB'\n",
       "37. 'Reads'\n",
       "38. 'CPKR'\n",
       "39. 'Average_reads'\n",
       "40. 'VMR'\n",
       "41. 'Max_reads'\n",
       "42. 'Singletons'\n",
       "43. 'Doubletons'\n",
       "44. 'qD'\n",
       "45. 'Sample_Coverage'\n",
       "46. 'observed_Richness'\n",
       "47. 'estimated_Richness'\n",
       "48. 'SE_Richeness'\n",
       "49. 'observed_Shannon'\n",
       "50. 'estimated_Shannon'\n",
       "51. 'SE_Shannon'\n",
       "52. 'observed_Simpson'\n",
       "53. 'estimated_Simpson'\n",
       "54. 'SE_Simpson'\n",
       "55. 'file'\n",
       "56. 'basename'\n",
       "57. 'Group'\n",
       "58. 'sampletype'\n",
       "\n",
       "\n"
      ],
      "text/plain": [
       " [1] \"sample_id\"          \"Patient\"            \"cycle\"             \n",
       " [4] \"FOLD\"               \"ATC\"                \"Age\"               \n",
       " [7] \"Disease_type\"       \"TE_fold\"            \"Pass\"              \n",
       "[10] \"CD3\"                \"EM\"                 \"CM\"                \n",
       "[13] \"Na<U+00EF>ve\"       \"SCM\"                \"TE\"                \n",
       "[16] \"EM.\"                \"CM.\"                \"Na<U+00EF>ve.\"     \n",
       "[19] \"SCM.\"               \"TE.\"                \"Na<U+00EF>ve.TE\"   \n",
       "[22] \"N.CM.SCM.TE.EM\"     \"PD.1\"               \"PDL1\"              \n",
       "[25] \"LAG3\"               \"TIM3\"               \"CTLA4\"             \n",
       "[28] \"PD1.\"               \"PDL1.\"              \"LAG3.\"             \n",
       "[31] \"TIM3.\"              \"CTLA4.\"             \"Any.NCR\"           \n",
       "[34] \"PD1...LAG3...TIM3\"  \"cancergroup\"        \"TRB\"               \n",
       "[37] \"Reads\"              \"CPKR\"               \"Average_reads\"     \n",
       "[40] \"VMR\"                \"Max_reads\"          \"Singletons\"        \n",
       "[43] \"Doubletons\"         \"qD\"                 \"Sample_Coverage\"   \n",
       "[46] \"observed_Richness\"  \"estimated_Richness\" \"SE_Richeness\"      \n",
       "[49] \"observed_Shannon\"   \"estimated_Shannon\"  \"SE_Shannon\"        \n",
       "[52] \"observed_Simpson\"   \"estimated_Simpson\"  \"SE_Simpson\"        \n",
       "[55] \"file\"               \"basename\"           \"Group\"             \n",
       "[58] \"sampletype\"        "
      ]
     },
     "metadata": {},
     "output_type": "display_data"
    }
   ],
   "source": [
    "colnames(tall)"
   ]
  },
  {
   "cell_type": "code",
   "execution_count": 58,
   "metadata": {
    "vscode": {
     "languageId": "r"
    }
   },
   "outputs": [],
   "source": [
    "CHP_387 <- tall$file[ tall$Patient == \"CHP_387\" & tall$sampletype == \"PBMC\"]"
   ]
  },
  {
   "cell_type": "code",
   "execution_count": 59,
   "metadata": {
    "vscode": {
     "languageId": "r"
    }
   },
   "outputs": [
    {
     "name": "stderr",
     "output_type": "stream",
     "text": [
      "my files:\n",
      "\n"
     ]
    },
    {
     "name": "stdout",
     "output_type": "stream",
     "text": [
      "[1] \"batch8_14Jan2020/mixcr/clones/CLONES_TRBCHP_387-01-PBMC-DNA.txt\" \n",
      "[2] \"batch11_23Apr2020/mixcr/clones/CLONES_TRBCHP_387-02_PBMC_DNA.txt\"\n",
      "[3] \"batch11_23Apr2020/mixcr/clones/CLONES_TRBCHP_387-03_PBMC_DNA.txt\"\n"
     ]
    },
    {
     "name": "stderr",
     "output_type": "stream",
     "text": [
      "Total recovered clonotypes:\n",
      "\n"
     ]
    },
    {
     "name": "stdout",
     "output_type": "stream",
     "text": [
      "[1] 1323\n"
     ]
    },
    {
     "name": "stderr",
     "output_type": "stream",
     "text": [
      "Total out-of-frame clonotypes:\n",
      "\n"
     ]
    },
    {
     "name": "stdout",
     "output_type": "stream",
     "text": [
      "[1] 334\n"
     ]
    },
    {
     "name": "stderr",
     "output_type": "stream",
     "text": [
      "Total clonotypes with stop codon:\n",
      "\n"
     ]
    },
    {
     "name": "stdout",
     "output_type": "stream",
     "text": [
      "[1] 26\n"
     ]
    },
    {
     "name": "stderr",
     "output_type": "stream",
     "text": [
      "Total productive clonotypes:\n",
      "\n"
     ]
    },
    {
     "name": "stdout",
     "output_type": "stream",
     "text": [
      "[1] 963\n"
     ]
    },
    {
     "name": "stderr",
     "output_type": "stream",
     "text": [
      "Output contains in_frame clonotypes only\n",
      "\n"
     ]
    }
   ],
   "source": [
    "cdr3df <- cdr3_dataframe.fx(paste0(h4hpath,\"NextSeq/\"), \"TRB\", CHP_387, \"inframe\")"
   ]
  },
  {
   "cell_type": "code",
   "execution_count": 60,
   "metadata": {
    "vscode": {
     "languageId": "r"
    }
   },
   "outputs": [
    {
     "name": "stderr",
     "output_type": "stream",
     "text": [
      "list of samples to track clones: \n",
      "\n"
     ]
    },
    {
     "name": "stdout",
     "output_type": "stream",
     "text": [
      "[1] \"CHP_387-01-PBMC-DNA\" \"CHP_387-02_PBMC_DNA\" \"CHP_387-03_PBMC_DNA\"\n"
     ]
    },
    {
     "name": "stderr",
     "output_type": "stream",
     "text": [
      "Total number of recurring clonotypes: \n",
      "\n"
     ]
    },
    {
     "name": "stdout",
     "output_type": "stream",
     "text": [
      "[1] 11\n"
     ]
    },
    {
     "name": "stderr",
     "output_type": "stream",
     "text": [
      "these are what we color: \n",
      "\n"
     ]
    },
    {
     "name": "stdout",
     "output_type": "stream",
     "text": [
      "                           TGTGCCAGCAGCCCGACAGGGGTATACGAAAAACTGTTTTTT \n",
      "                                                            \"#8495D9\" \n",
      "               TGTGCCAGCAGCTTAATCGTCCGGGACAGAGCCATGAACACTGAAGCTTTCTTT \n",
      "                                                            \"#D3B271\" \n",
      "                           TGTGCCAGCAGGTCTAGCGGTTCCTACAATGAGCAGTTCTTC \n",
      "                                                            \"#D9E260\" \n",
      "                        TGTGCCAGCAGTTCCCTCAGGGGGAGCAATCAGCCCCAGCATTTT \n",
      "                                                            \"#D871BC\" \n",
      "                                 TGTGCCAGCAGCTTAGTAAGGGGTGAAGCTTTCTTT \n",
      "                                                            \"#85EB60\" \n",
      "                           TGCGCCAGCAGGCAGCGCTTAGCCAAAAACATTCAGTACTTC \n",
      "                                                            \"#D5BACE\" \n",
      "            TGTGCCAGCAGCCGCAATACCCAGCCCCAGGTGGGACGGTCCAATGAGCAGTTCTTC \n",
      "                                                            \"#AD56E0\" \n",
      "TGTGCCACCAGTGACCTCACTAGCGGGGGGTCGTCCAGCGGGGGATGGGTTTACAATGAGCAGTTCTTC \n",
      "                                                            \"#DB6A5F\" \n",
      "                        TGTGCCAGCAGCGCAGGGGGGCAGGTCAATCAGCCCCAGCATTTT \n",
      "                                                            \"#CEDDBE\" \n",
      "                           TGTGCCAGCAGTTACAGCTCTGGGGCCAACGTCCTGACTTTC \n",
      "                                                            \"#79CED3\" \n",
      "                           TGTGCCAGCAGTGACCTGACAGGGTTTAAGGGCTACACCTTC \n",
      "                                                            \"#80E0A2\" \n"
     ]
    }
   ],
   "source": [
    "p387 <- plot_clonetracks.fx(cdr3df, plotpath, \"TRB\", \"cloneFraction\", 0, \"T-ALL (PBMC)\", 222)"
   ]
  },
  {
   "cell_type": "code",
   "execution_count": 62,
   "metadata": {
    "vscode": {
     "languageId": "r"
    }
   },
   "outputs": [],
   "source": [
    " p2 <- trbbarplot.fx(meta_div,  \"CHP_387\", \"PBMC\")"
   ]
  },
  {
   "cell_type": "code",
   "execution_count": 63,
   "metadata": {
    "vscode": {
     "languageId": "r"
    }
   },
   "outputs": [
    {
     "data": {
      "text/html": [
       "<strong>pdf:</strong> 2"
      ],
      "text/latex": [
       "\\textbf{pdf:} 2"
      ],
      "text/markdown": [
       "**pdf:** 2"
      ],
      "text/plain": [
       "pdf \n",
       "  2 "
      ]
     },
     "metadata": {},
     "output_type": "display_data"
    }
   ],
   "source": [
    "#pdf(paste0(plotpath, \"CHP_387_TRB.pdf\"), width = 10, height = 15)\n",
    "#cowplot::plot_grid(p2, p387 + theme(plot.title = element_blank()),ncol = 1, align = \"v\", rel_heights = c(0.2, 1))\n",
    "#dev.off()"
   ]
  },
  {
   "cell_type": "code",
   "execution_count": 93,
   "metadata": {
    "vscode": {
     "languageId": "r"
    }
   },
   "outputs": [
    {
     "data": {
      "text/html": [
       "<strong>pdf:</strong> 2"
      ],
      "text/latex": [
       "\\textbf{pdf:} 2"
      ],
      "text/markdown": [
       "**pdf:** 2"
      ],
      "text/plain": [
       "pdf \n",
       "  2 "
      ]
     },
     "metadata": {},
     "output_type": "display_data"
    }
   ],
   "source": [
    "cairo_pdf(paste0(plotpath, \"CHP_387_TRB.pdf\"), width = 10, height = 15)\n",
    "p387 + theme(axis.title.x = element_text(size = 15) ) + labs(y = \"TCR\\U03B2 clone fraction\", x = \"Sample prior to chemotherapy cycle\") + \n",
    "scale_x_discrete(labels = c(\"Pre-cycle 1\", \"Pre-cycle 2\", \"Pre-cycle 3\"))\n",
    "dev.off()"
   ]
  },
  {
   "attachments": {},
   "cell_type": "markdown",
   "metadata": {},
   "source": [
    "## Solid tumors"
   ]
  },
  {
   "cell_type": "code",
   "execution_count": 115,
   "metadata": {
    "vscode": {
     "languageId": "r"
    }
   },
   "outputs": [
    {
     "data": {
      "text/html": [
       "<table class=\"dataframe\">\n",
       "<caption>A data.frame: 17 x 2</caption>\n",
       "<thead>\n",
       "\t<tr><th></th><th scope=col>Patient</th><th scope=col>Disease_type</th></tr>\n",
       "\t<tr><th></th><th scope=col>&lt;chr&gt;</th><th scope=col>&lt;chr&gt;</th></tr>\n",
       "</thead>\n",
       "<tbody>\n",
       "\t<tr><th scope=row>159</th><td>CHP_344</td><td>BL   </td></tr>\n",
       "\t<tr><th scope=row>281</th><td>CHP_361</td><td>HD   </td></tr>\n",
       "\t<tr><th scope=row>308</th><td>CHP_364</td><td>OS   </td></tr>\n",
       "\t<tr><th scope=row>324</th><td>CHP_366</td><td>HD   </td></tr>\n",
       "\t<tr><th scope=row>354</th><td>CHP_370</td><td>ALCL </td></tr>\n",
       "\t<tr><th scope=row>372</th><td>CHP_372</td><td>BL   </td></tr>\n",
       "\t<tr><th scope=row>426</th><td>CHP_380</td><td>HD   </td></tr>\n",
       "\t<tr><th scope=row>493</th><td>CHP_389</td><td>HD   </td></tr>\n",
       "\t<tr><th scope=row>501</th><td>CHP_390</td><td>OS   </td></tr>\n",
       "\t<tr><th scope=row>532</th><td>CHP_394</td><td>ERMS </td></tr>\n",
       "\t<tr><th scope=row>583</th><td>CHP_400</td><td>PMBCL</td></tr>\n",
       "\t<tr><th scope=row>592</th><td>CHP_401</td><td>ERMS </td></tr>\n",
       "\t<tr><th scope=row>626</th><td>CHP_404</td><td>ERMS </td></tr>\n",
       "\t<tr><th scope=row>627</th><td>CHP_404</td><td>ERMS </td></tr>\n",
       "\t<tr><th scope=row>642</th><td>CHP_407</td><td>DLBCL</td></tr>\n",
       "\t<tr><th scope=row>682</th><td>CHP_412</td><td>BLL  </td></tr>\n",
       "\t<tr><th scope=row>727</th><td>CHP_418</td><td>NB   </td></tr>\n",
       "</tbody>\n",
       "</table>\n"
      ],
      "text/latex": [
       "A data.frame: 17 x 2\n",
       "\\begin{tabular}{r|ll}\n",
       "  & Patient & Disease\\_type\\\\\n",
       "  & <chr> & <chr>\\\\\n",
       "\\hline\n",
       "\t159 & CHP\\_344 & BL   \\\\\n",
       "\t281 & CHP\\_361 & HD   \\\\\n",
       "\t308 & CHP\\_364 & OS   \\\\\n",
       "\t324 & CHP\\_366 & HD   \\\\\n",
       "\t354 & CHP\\_370 & ALCL \\\\\n",
       "\t372 & CHP\\_372 & BL   \\\\\n",
       "\t426 & CHP\\_380 & HD   \\\\\n",
       "\t493 & CHP\\_389 & HD   \\\\\n",
       "\t501 & CHP\\_390 & OS   \\\\\n",
       "\t532 & CHP\\_394 & ERMS \\\\\n",
       "\t583 & CHP\\_400 & PMBCL\\\\\n",
       "\t592 & CHP\\_401 & ERMS \\\\\n",
       "\t626 & CHP\\_404 & ERMS \\\\\n",
       "\t627 & CHP\\_404 & ERMS \\\\\n",
       "\t642 & CHP\\_407 & DLBCL\\\\\n",
       "\t682 & CHP\\_412 & BLL  \\\\\n",
       "\t727 & CHP\\_418 & NB   \\\\\n",
       "\\end{tabular}\n"
      ],
      "text/markdown": [
       "\n",
       "A data.frame: 17 x 2\n",
       "\n",
       "| <!--/--> | Patient &lt;chr&gt; | Disease_type &lt;chr&gt; |\n",
       "|---|---|---|\n",
       "| 159 | CHP_344 | BL    |\n",
       "| 281 | CHP_361 | HD    |\n",
       "| 308 | CHP_364 | OS    |\n",
       "| 324 | CHP_366 | HD    |\n",
       "| 354 | CHP_370 | ALCL  |\n",
       "| 372 | CHP_372 | BL    |\n",
       "| 426 | CHP_380 | HD    |\n",
       "| 493 | CHP_389 | HD    |\n",
       "| 501 | CHP_390 | OS    |\n",
       "| 532 | CHP_394 | ERMS  |\n",
       "| 583 | CHP_400 | PMBCL |\n",
       "| 592 | CHP_401 | ERMS  |\n",
       "| 626 | CHP_404 | ERMS  |\n",
       "| 627 | CHP_404 | ERMS  |\n",
       "| 642 | CHP_407 | DLBCL |\n",
       "| 682 | CHP_412 | BLL   |\n",
       "| 727 | CHP_418 | NB    |\n",
       "\n"
      ],
      "text/plain": [
       "    Patient Disease_type\n",
       "159 CHP_344 BL          \n",
       "281 CHP_361 HD          \n",
       "308 CHP_364 OS          \n",
       "324 CHP_366 HD          \n",
       "354 CHP_370 ALCL        \n",
       "372 CHP_372 BL          \n",
       "426 CHP_380 HD          \n",
       "493 CHP_389 HD          \n",
       "501 CHP_390 OS          \n",
       "532 CHP_394 ERMS        \n",
       "583 CHP_400 PMBCL       \n",
       "592 CHP_401 ERMS        \n",
       "626 CHP_404 ERMS        \n",
       "627 CHP_404 ERMS        \n",
       "642 CHP_407 DLBCL       \n",
       "682 CHP_412 BLL         \n",
       "727 CHP_418 NB          "
      ]
     },
     "metadata": {},
     "output_type": "display_data"
    }
   ],
   "source": [
    "meta_div[ grepl(\"FFPE\", meta_div$basename), c(\"Patient\", \"Disease_type\") ]"
   ]
  },
  {
   "cell_type": "code",
   "execution_count": 166,
   "metadata": {
    "vscode": {
     "languageId": "r"
    }
   },
   "outputs": [],
   "source": [
    "myCHP <- \"CHP_364\""
   ]
  },
  {
   "cell_type": "code",
   "execution_count": 171,
   "metadata": {
    "vscode": {
     "languageId": "r"
    }
   },
   "outputs": [],
   "source": [
    "mycase <- meta_div$file[ meta_div$Patient == myCHP]\n",
    "mycase <- mycase[ !grepl(\"cfDNA\", mycase) ]"
   ]
  },
  {
   "cell_type": "code",
   "execution_count": 172,
   "metadata": {
    "vscode": {
     "languageId": "r"
    }
   },
   "outputs": [
    {
     "name": "stderr",
     "output_type": "stream",
     "text": [
      "my files:\n",
      "\n"
     ]
    },
    {
     "name": "stdout",
     "output_type": "stream",
     "text": [
      "[1] \"batch4_19Aug2019/mixcr/clones/CLONES_TRBCHP_364-01-PBMC-DNA.txt\"  \n",
      "[2] \"batch4_19Aug2019/mixcr/clones/CLONES_TRBCHP_364-02-PBMC-DNA.txt\"  \n",
      "[3] \"batch4_19Aug2019/mixcr/clones/CLONES_TRBCHP_364-04-PBMC-DNA.txt\"  \n",
      "[4] \"batchFFPE_3Apr2020/mixcr/clones/CLONES_TRBCHP_364-FFPE-DNA_S1.txt\"\n"
     ]
    },
    {
     "name": "stderr",
     "output_type": "stream",
     "text": [
      "Total recovered clonotypes:\n",
      "\n"
     ]
    },
    {
     "name": "stdout",
     "output_type": "stream",
     "text": [
      "[1] 426\n"
     ]
    },
    {
     "name": "stderr",
     "output_type": "stream",
     "text": [
      "Total out-of-frame clonotypes:\n",
      "\n"
     ]
    },
    {
     "name": "stdout",
     "output_type": "stream",
     "text": [
      "[1] 87\n"
     ]
    },
    {
     "name": "stderr",
     "output_type": "stream",
     "text": [
      "Total clonotypes with stop codon:\n",
      "\n"
     ]
    },
    {
     "name": "stdout",
     "output_type": "stream",
     "text": [
      "[1] 12\n"
     ]
    },
    {
     "name": "stderr",
     "output_type": "stream",
     "text": [
      "Total productive clonotypes:\n",
      "\n"
     ]
    },
    {
     "name": "stdout",
     "output_type": "stream",
     "text": [
      "[1] 327\n"
     ]
    },
    {
     "name": "stderr",
     "output_type": "stream",
     "text": [
      "Output contains in_frame clonotypes only\n",
      "\n"
     ]
    }
   ],
   "source": [
    "cdr3df <- cdr3_dataframe.fx(paste0(h4hpath,\"NextSeq/\"), \"TRB\", mycase, \"inframe\")"
   ]
  },
  {
   "cell_type": "code",
   "execution_count": 173,
   "metadata": {
    "vscode": {
     "languageId": "r"
    }
   },
   "outputs": [
    {
     "data": {
      "text/plain": [
       "\n",
       "CHP_364-01-PBMC-DNA CHP_364-02-PBMC-DNA CHP_364-04-PBMC-DNA CHP_364-FFPE-DNA_S1 \n",
       "                125                  75                 117                  10 "
      ]
     },
     "metadata": {},
     "output_type": "display_data"
    }
   ],
   "source": [
    "table(cdr3df$samplename)"
   ]
  },
  {
   "cell_type": "code",
   "execution_count": 174,
   "metadata": {
    "vscode": {
     "languageId": "r"
    }
   },
   "outputs": [],
   "source": [
    "cdr3df$samplename <- factor(cdr3df$samplename, levels = c(\"CHP_364-FFPE-DNA_S1\", \"CHP_364-01-PBMC-DNA\", \"CHP_364-02-PBMC-DNA\", \"CHP_364-04-PBMC-DNA\"))"
   ]
  },
  {
   "cell_type": "code",
   "execution_count": 175,
   "metadata": {
    "vscode": {
     "languageId": "r"
    }
   },
   "outputs": [
    {
     "name": "stderr",
     "output_type": "stream",
     "text": [
      "list of samples to track clones: \n",
      "\n"
     ]
    },
    {
     "name": "stdout",
     "output_type": "stream",
     "text": [
      "[1] CHP_364-01-PBMC-DNA CHP_364-02-PBMC-DNA CHP_364-04-PBMC-DNA\n",
      "[4] CHP_364-FFPE-DNA_S1\n",
      "4 Levels: CHP_364-FFPE-DNA_S1 CHP_364-01-PBMC-DNA ... CHP_364-04-PBMC-DNA\n"
     ]
    },
    {
     "name": "stderr",
     "output_type": "stream",
     "text": [
      "Total number of recurring clonotypes: \n",
      "\n"
     ]
    },
    {
     "name": "stdout",
     "output_type": "stream",
     "text": [
      "[1] 4\n"
     ]
    },
    {
     "name": "stderr",
     "output_type": "stream",
     "text": [
      "these are what we color: \n",
      "\n"
     ]
    },
    {
     "name": "stdout",
     "output_type": "stream",
     "text": [
      "TGTGCCATCAGTGGACCCGGGACTAGCGGGAGGGCACAAGATACGCAGTATTTT \n",
      "                                             \"#A3CECE\" \n",
      "            TGTGCCAGCAGTGGACTAGCGGGAGCAGATACGCAGTATTTT \n",
      "                                             \"#B5E079\" \n",
      "               TGTGCCAGCAGTGCAGGGAACACCGGGGAGCTGTTTTTT \n",
      "                                             \"#BB74D2\" \n",
      "                  TGTGCCAGCAGCTTGCTAGAACAGCCCCAGCATTTT \n",
      "                                             \"#DE9788\" \n"
     ]
    },
    {
     "data": {
      "image/png": "[encoded data removed]",
      "text/plain": [
       "plot without title"
      ]
     },
     "metadata": {
      "image/png": {
       "height": 420,
       "width": 420
      }
     },
     "output_type": "display_data"
    }
   ],
   "source": [
    "p <- plot_clonetracks.fx(cdr3df, plotpath, \"TRB\", \"cloneFraction\", 0, \"Osteosarcoma\", 422)\n",
    "p"
   ]
  },
  {
   "cell_type": "code",
   "execution_count": 176,
   "metadata": {
    "vscode": {
     "languageId": "r"
    }
   },
   "outputs": [
    {
     "data": {
      "text/html": [
       "<strong>pdf:</strong> 2"
      ],
      "text/latex": [
       "\\textbf{pdf:} 2"
      ],
      "text/markdown": [
       "**pdf:** 2"
      ],
      "text/plain": [
       "pdf \n",
       "  2 "
      ]
     },
     "metadata": {},
     "output_type": "display_data"
    }
   ],
   "source": [
    "cairo_pdf(paste0(plotpath, \"CHP_364_OS_FFPE_PBMC_TRB.pdf\"), width = 10, height = 15)\n",
    "p387 + theme(axis.title.x = element_text(size = 15) ) + labs(y = \"TCR\\U03B2 clone fraction\", x = \"Sample prior to chemotherapy cycle\") + \n",
    "scale_x_discrete(labels = c(\"Tumor\", \"Pre-cycle 1\", \"Pre-cycle 2\", \"Pre-cycle 3\"))\n",
    "dev.off()"
   ]
  },
  {
   "attachments": {},
   "cell_type": "markdown",
   "metadata": {
    "vscode": {
     "languageId": "r"
    }
   },
   "source": [
    "# CSF"
   ]
  },
  {
   "cell_type": "code",
   "execution_count": 147,
   "metadata": {
    "vscode": {
     "languageId": "r"
    }
   },
   "outputs": [],
   "source": [
    "myfle <- list.files( \"~/Desktop/H4H/pughlab/pediatric/projects/TCR_HSJ/NextSeq/\", recursive = T, pattern = \"CLONES_TRA\", full.names = TRUE)"
   ]
  },
  {
   "cell_type": "code",
   "execution_count": 148,
   "metadata": {
    "vscode": {
     "languageId": "r"
    }
   },
   "outputs": [],
   "source": [
    "myfle <- myfle[! grepl(\"20000\", myfle) ]"
   ]
  },
  {
   "cell_type": "code",
   "execution_count": 149,
   "metadata": {
    "vscode": {
     "languageId": "r"
    }
   },
   "outputs": [
    {
     "data": {
      "text/html": [
       "<style>\n",
       ".list-inline {list-style: none; margin:0; padding: 0}\n",
       ".list-inline>li {display: inline-block}\n",
       ".list-inline>li:not(:last-child)::after {content: \"\\00b7\"; padding: 0 .5ex}\n",
       "</style>\n",
       "<ol class=list-inline><li>'/Users/anabbi/Desktop/H4H/pughlab/pediatric/projects/TCR_HSJ/NextSeq//batch1/mixcr/clones/CLONES_TRAIPD_HSJ023_Tumor.txt'</li><li>'/Users/anabbi/Desktop/H4H/pughlab/pediatric/projects/TCR_HSJ/NextSeq//batch1/mixcr/clones/CLONES_TRAIPD_HSJ050_Tumor.txt'</li><li>'/Users/anabbi/Desktop/H4H/pughlab/pediatric/projects/TCR_HSJ/NextSeq//batch1/mixcr/clones/CLONES_TRAIPD_HSJ051_Tumor.txt'</li><li>'/Users/anabbi/Desktop/H4H/pughlab/pediatric/projects/TCR_HSJ/NextSeq//batch2/mixcr/clones/CLONES_TRA023-CSF.txt'</li><li>'/Users/anabbi/Desktop/H4H/pughlab/pediatric/projects/TCR_HSJ/NextSeq//batch2/mixcr/clones/CLONES_TRA051-CSF.txt'</li><li>'/Users/anabbi/Desktop/H4H/pughlab/pediatric/projects/TCR_HSJ/NextSeq//batch2/mixcr/clones/CLONES_TRA051R-CSF.txt'</li><li>'/Users/anabbi/Desktop/H4H/pughlab/pediatric/projects/TCR_HSJ/NextSeq//batch2/mixcr/clones/CLONES_TRA19-CSF.txt'</li><li>'/Users/anabbi/Desktop/H4H/pughlab/pediatric/projects/TCR_HSJ/NextSeq//batch2/mixcr/clones/CLONES_TRA41-CSF.txt'</li><li>'/Users/anabbi/Desktop/H4H/pughlab/pediatric/projects/TCR_HSJ/NextSeq//batch2/mixcr/clones/CLONES_TRA67-CSF.txt'</li><li>'/Users/anabbi/Desktop/H4H/pughlab/pediatric/projects/TCR_HSJ/NextSeq//batch2/mixcr/clones/CLONES_TRA76-Tum.txt'</li><li>'/Users/anabbi/Desktop/H4H/pughlab/pediatric/projects/TCR_HSJ/NextSeq//batch2/mixcr/clones/CLONES_TRA77-Tum.txt'</li><li>'/Users/anabbi/Desktop/H4H/pughlab/pediatric/projects/TCR_HSJ/NextSeq//batch3/mixcr/clones/CLONES_TRA023-Plasma.txt'</li><li>'/Users/anabbi/Desktop/H4H/pughlab/pediatric/projects/TCR_HSJ/NextSeq//batch3/mixcr/clones/CLONES_TRA50-CSF.txt'</li><li>'/Users/anabbi/Desktop/H4H/pughlab/pediatric/projects/TCR_HSJ/NextSeq//batch3/mixcr/clones/CLONES_TRA67-Tum.txt'</li><li>'/Users/anabbi/Desktop/H4H/pughlab/pediatric/projects/TCR_HSJ/NextSeq//batch3/mixcr/clones/CLONES_TRA68-Plasma.txt'</li><li>'/Users/anabbi/Desktop/H4H/pughlab/pediatric/projects/TCR_HSJ/NextSeq//batch3/mixcr/clones/CLONES_TRA68-Tum.txt'</li><li>'/Users/anabbi/Desktop/H4H/pughlab/pediatric/projects/TCR_HSJ/NextSeq//batch3/mixcr/clones/CLONES_TRA76-CSF.txt'</li><li>'/Users/anabbi/Desktop/H4H/pughlab/pediatric/projects/TCR_HSJ/NextSeq//batch3/mixcr/clones/CLONES_TRA76-Plasma.txt'</li><li>'/Users/anabbi/Desktop/H4H/pughlab/pediatric/projects/TCR_HSJ/NextSeq//batch3/mixcr/clones/CLONES_TRA77-CSF.txt'</li><li>'/Users/anabbi/Desktop/H4H/pughlab/pediatric/projects/TCR_HSJ/NextSeq//batch3/mixcr/clones/CLONES_TRA77-Plasma.txt'</li></ol>\n"
      ],
      "text/latex": [
       "\\begin{enumerate*}\n",
       "\\item '/Users/anabbi/Desktop/H4H/pughlab/pediatric/projects/TCR\\_HSJ/NextSeq//batch1/mixcr/clones/CLONES\\_TRAIPD\\_HSJ023\\_Tumor.txt'\n",
       "\\item '/Users/anabbi/Desktop/H4H/pughlab/pediatric/projects/TCR\\_HSJ/NextSeq//batch1/mixcr/clones/CLONES\\_TRAIPD\\_HSJ050\\_Tumor.txt'\n",
       "\\item '/Users/anabbi/Desktop/H4H/pughlab/pediatric/projects/TCR\\_HSJ/NextSeq//batch1/mixcr/clones/CLONES\\_TRAIPD\\_HSJ051\\_Tumor.txt'\n",
       "\\item '/Users/anabbi/Desktop/H4H/pughlab/pediatric/projects/TCR\\_HSJ/NextSeq//batch2/mixcr/clones/CLONES\\_TRA023-CSF.txt'\n",
       "\\item '/Users/anabbi/Desktop/H4H/pughlab/pediatric/projects/TCR\\_HSJ/NextSeq//batch2/mixcr/clones/CLONES\\_TRA051-CSF.txt'\n",
       "\\item '/Users/anabbi/Desktop/H4H/pughlab/pediatric/projects/TCR\\_HSJ/NextSeq//batch2/mixcr/clones/CLONES\\_TRA051R-CSF.txt'\n",
       "\\item '/Users/anabbi/Desktop/H4H/pughlab/pediatric/projects/TCR\\_HSJ/NextSeq//batch2/mixcr/clones/CLONES\\_TRA19-CSF.txt'\n",
       "\\item '/Users/anabbi/Desktop/H4H/pughlab/pediatric/projects/TCR\\_HSJ/NextSeq//batch2/mixcr/clones/CLONES\\_TRA41-CSF.txt'\n",
       "\\item '/Users/anabbi/Desktop/H4H/pughlab/pediatric/projects/TCR\\_HSJ/NextSeq//batch2/mixcr/clones/CLONES\\_TRA67-CSF.txt'\n",
       "\\item '/Users/anabbi/Desktop/H4H/pughlab/pediatric/projects/TCR\\_HSJ/NextSeq//batch2/mixcr/clones/CLONES\\_TRA76-Tum.txt'\n",
       "\\item '/Users/anabbi/Desktop/H4H/pughlab/pediatric/projects/TCR\\_HSJ/NextSeq//batch2/mixcr/clones/CLONES\\_TRA77-Tum.txt'\n",
       "\\item '/Users/anabbi/Desktop/H4H/pughlab/pediatric/projects/TCR\\_HSJ/NextSeq//batch3/mixcr/clones/CLONES\\_TRA023-Plasma.txt'\n",
       "\\item '/Users/anabbi/Desktop/H4H/pughlab/pediatric/projects/TCR\\_HSJ/NextSeq//batch3/mixcr/clones/CLONES\\_TRA50-CSF.txt'\n",
       "\\item '/Users/anabbi/Desktop/H4H/pughlab/pediatric/projects/TCR\\_HSJ/NextSeq//batch3/mixcr/clones/CLONES\\_TRA67-Tum.txt'\n",
       "\\item '/Users/anabbi/Desktop/H4H/pughlab/pediatric/projects/TCR\\_HSJ/NextSeq//batch3/mixcr/clones/CLONES\\_TRA68-Plasma.txt'\n",
       "\\item '/Users/anabbi/Desktop/H4H/pughlab/pediatric/projects/TCR\\_HSJ/NextSeq//batch3/mixcr/clones/CLONES\\_TRA68-Tum.txt'\n",
       "\\item '/Users/anabbi/Desktop/H4H/pughlab/pediatric/projects/TCR\\_HSJ/NextSeq//batch3/mixcr/clones/CLONES\\_TRA76-CSF.txt'\n",
       "\\item '/Users/anabbi/Desktop/H4H/pughlab/pediatric/projects/TCR\\_HSJ/NextSeq//batch3/mixcr/clones/CLONES\\_TRA76-Plasma.txt'\n",
       "\\item '/Users/anabbi/Desktop/H4H/pughlab/pediatric/projects/TCR\\_HSJ/NextSeq//batch3/mixcr/clones/CLONES\\_TRA77-CSF.txt'\n",
       "\\item '/Users/anabbi/Desktop/H4H/pughlab/pediatric/projects/TCR\\_HSJ/NextSeq//batch3/mixcr/clones/CLONES\\_TRA77-Plasma.txt'\n",
       "\\end{enumerate*}\n"
      ],
      "text/markdown": [
       "1. '/Users/anabbi/Desktop/H4H/pughlab/pediatric/projects/TCR_HSJ/NextSeq//batch1/mixcr/clones/CLONES_TRAIPD_HSJ023_Tumor.txt'\n",
       "2. '/Users/anabbi/Desktop/H4H/pughlab/pediatric/projects/TCR_HSJ/NextSeq//batch1/mixcr/clones/CLONES_TRAIPD_HSJ050_Tumor.txt'\n",
       "3. '/Users/anabbi/Desktop/H4H/pughlab/pediatric/projects/TCR_HSJ/NextSeq//batch1/mixcr/clones/CLONES_TRAIPD_HSJ051_Tumor.txt'\n",
       "4. '/Users/anabbi/Desktop/H4H/pughlab/pediatric/projects/TCR_HSJ/NextSeq//batch2/mixcr/clones/CLONES_TRA023-CSF.txt'\n",
       "5. '/Users/anabbi/Desktop/H4H/pughlab/pediatric/projects/TCR_HSJ/NextSeq//batch2/mixcr/clones/CLONES_TRA051-CSF.txt'\n",
       "6. '/Users/anabbi/Desktop/H4H/pughlab/pediatric/projects/TCR_HSJ/NextSeq//batch2/mixcr/clones/CLONES_TRA051R-CSF.txt'\n",
       "7. '/Users/anabbi/Desktop/H4H/pughlab/pediatric/projects/TCR_HSJ/NextSeq//batch2/mixcr/clones/CLONES_TRA19-CSF.txt'\n",
       "8. '/Users/anabbi/Desktop/H4H/pughlab/pediatric/projects/TCR_HSJ/NextSeq//batch2/mixcr/clones/CLONES_TRA41-CSF.txt'\n",
       "9. '/Users/anabbi/Desktop/H4H/pughlab/pediatric/projects/TCR_HSJ/NextSeq//batch2/mixcr/clones/CLONES_TRA67-CSF.txt'\n",
       "10. '/Users/anabbi/Desktop/H4H/pughlab/pediatric/projects/TCR_HSJ/NextSeq//batch2/mixcr/clones/CLONES_TRA76-Tum.txt'\n",
       "11. '/Users/anabbi/Desktop/H4H/pughlab/pediatric/projects/TCR_HSJ/NextSeq//batch2/mixcr/clones/CLONES_TRA77-Tum.txt'\n",
       "12. '/Users/anabbi/Desktop/H4H/pughlab/pediatric/projects/TCR_HSJ/NextSeq//batch3/mixcr/clones/CLONES_TRA023-Plasma.txt'\n",
       "13. '/Users/anabbi/Desktop/H4H/pughlab/pediatric/projects/TCR_HSJ/NextSeq//batch3/mixcr/clones/CLONES_TRA50-CSF.txt'\n",
       "14. '/Users/anabbi/Desktop/H4H/pughlab/pediatric/projects/TCR_HSJ/NextSeq//batch3/mixcr/clones/CLONES_TRA67-Tum.txt'\n",
       "15. '/Users/anabbi/Desktop/H4H/pughlab/pediatric/projects/TCR_HSJ/NextSeq//batch3/mixcr/clones/CLONES_TRA68-Plasma.txt'\n",
       "16. '/Users/anabbi/Desktop/H4H/pughlab/pediatric/projects/TCR_HSJ/NextSeq//batch3/mixcr/clones/CLONES_TRA68-Tum.txt'\n",
       "17. '/Users/anabbi/Desktop/H4H/pughlab/pediatric/projects/TCR_HSJ/NextSeq//batch3/mixcr/clones/CLONES_TRA76-CSF.txt'\n",
       "18. '/Users/anabbi/Desktop/H4H/pughlab/pediatric/projects/TCR_HSJ/NextSeq//batch3/mixcr/clones/CLONES_TRA76-Plasma.txt'\n",
       "19. '/Users/anabbi/Desktop/H4H/pughlab/pediatric/projects/TCR_HSJ/NextSeq//batch3/mixcr/clones/CLONES_TRA77-CSF.txt'\n",
       "20. '/Users/anabbi/Desktop/H4H/pughlab/pediatric/projects/TCR_HSJ/NextSeq//batch3/mixcr/clones/CLONES_TRA77-Plasma.txt'\n",
       "\n",
       "\n"
      ],
      "text/plain": [
       " [1] \"/Users/anabbi/Desktop/H4H/pughlab/pediatric/projects/TCR_HSJ/NextSeq//batch1/mixcr/clones/CLONES_TRAIPD_HSJ023_Tumor.txt\"\n",
       " [2] \"/Users/anabbi/Desktop/H4H/pughlab/pediatric/projects/TCR_HSJ/NextSeq//batch1/mixcr/clones/CLONES_TRAIPD_HSJ050_Tumor.txt\"\n",
       " [3] \"/Users/anabbi/Desktop/H4H/pughlab/pediatric/projects/TCR_HSJ/NextSeq//batch1/mixcr/clones/CLONES_TRAIPD_HSJ051_Tumor.txt\"\n",
       " [4] \"/Users/anabbi/Desktop/H4H/pughlab/pediatric/projects/TCR_HSJ/NextSeq//batch2/mixcr/clones/CLONES_TRA023-CSF.txt\"         \n",
       " [5] \"/Users/anabbi/Desktop/H4H/pughlab/pediatric/projects/TCR_HSJ/NextSeq//batch2/mixcr/clones/CLONES_TRA051-CSF.txt\"         \n",
       " [6] \"/Users/anabbi/Desktop/H4H/pughlab/pediatric/projects/TCR_HSJ/NextSeq//batch2/mixcr/clones/CLONES_TRA051R-CSF.txt\"        \n",
       " [7] \"/Users/anabbi/Desktop/H4H/pughlab/pediatric/projects/TCR_HSJ/NextSeq//batch2/mixcr/clones/CLONES_TRA19-CSF.txt\"          \n",
       " [8] \"/Users/anabbi/Desktop/H4H/pughlab/pediatric/projects/TCR_HSJ/NextSeq//batch2/mixcr/clones/CLONES_TRA41-CSF.txt\"          \n",
       " [9] \"/Users/anabbi/Desktop/H4H/pughlab/pediatric/projects/TCR_HSJ/NextSeq//batch2/mixcr/clones/CLONES_TRA67-CSF.txt\"          \n",
       "[10] \"/Users/anabbi/Desktop/H4H/pughlab/pediatric/projects/TCR_HSJ/NextSeq//batch2/mixcr/clones/CLONES_TRA76-Tum.txt\"          \n",
       "[11] \"/Users/anabbi/Desktop/H4H/pughlab/pediatric/projects/TCR_HSJ/NextSeq//batch2/mixcr/clones/CLONES_TRA77-Tum.txt\"          \n",
       "[12] \"/Users/anabbi/Desktop/H4H/pughlab/pediatric/projects/TCR_HSJ/NextSeq//batch3/mixcr/clones/CLONES_TRA023-Plasma.txt\"      \n",
       "[13] \"/Users/anabbi/Desktop/H4H/pughlab/pediatric/projects/TCR_HSJ/NextSeq//batch3/mixcr/clones/CLONES_TRA50-CSF.txt\"          \n",
       "[14] \"/Users/anabbi/Desktop/H4H/pughlab/pediatric/projects/TCR_HSJ/NextSeq//batch3/mixcr/clones/CLONES_TRA67-Tum.txt\"          \n",
       "[15] \"/Users/anabbi/Desktop/H4H/pughlab/pediatric/projects/TCR_HSJ/NextSeq//batch3/mixcr/clones/CLONES_TRA68-Plasma.txt\"       \n",
       "[16] \"/Users/anabbi/Desktop/H4H/pughlab/pediatric/projects/TCR_HSJ/NextSeq//batch3/mixcr/clones/CLONES_TRA68-Tum.txt\"          \n",
       "[17] \"/Users/anabbi/Desktop/H4H/pughlab/pediatric/projects/TCR_HSJ/NextSeq//batch3/mixcr/clones/CLONES_TRA76-CSF.txt\"          \n",
       "[18] \"/Users/anabbi/Desktop/H4H/pughlab/pediatric/projects/TCR_HSJ/NextSeq//batch3/mixcr/clones/CLONES_TRA76-Plasma.txt\"       \n",
       "[19] \"/Users/anabbi/Desktop/H4H/pughlab/pediatric/projects/TCR_HSJ/NextSeq//batch3/mixcr/clones/CLONES_TRA77-CSF.txt\"          \n",
       "[20] \"/Users/anabbi/Desktop/H4H/pughlab/pediatric/projects/TCR_HSJ/NextSeq//batch3/mixcr/clones/CLONES_TRA77-Plasma.txt\"       "
      ]
     },
     "metadata": {},
     "output_type": "display_data"
    }
   ],
   "source": [
    "myfle"
   ]
  },
  {
   "cell_type": "code",
   "execution_count": 168,
   "metadata": {
    "vscode": {
     "languageId": "r"
    }
   },
   "outputs": [],
   "source": [
    "mycase <- \"67\" #  51 TRB no clones"
   ]
  },
  {
   "cell_type": "code",
   "execution_count": 169,
   "metadata": {
    "vscode": {
     "languageId": "r"
    }
   },
   "outputs": [],
   "source": [
    "HSJ <- myfle[ grepl(mycase, myfle) ]"
   ]
  },
  {
   "cell_type": "code",
   "execution_count": 170,
   "metadata": {
    "vscode": {
     "languageId": "r"
    }
   },
   "outputs": [
    {
     "data": {
      "text/html": [
       "<style>\n",
       ".list-inline {list-style: none; margin:0; padding: 0}\n",
       ".list-inline>li {display: inline-block}\n",
       ".list-inline>li:not(:last-child)::after {content: \"\\00b7\"; padding: 0 .5ex}\n",
       "</style>\n",
       "<ol class=list-inline><li>'/Users/anabbi/Desktop/H4H/pughlab/pediatric/projects/TCR_HSJ/NextSeq//batch2/mixcr/clones/CLONES_TRA67-CSF.txt'</li><li>'/Users/anabbi/Desktop/H4H/pughlab/pediatric/projects/TCR_HSJ/NextSeq//batch3/mixcr/clones/CLONES_TRA67-Tum.txt'</li></ol>\n"
      ],
      "text/latex": [
       "\\begin{enumerate*}\n",
       "\\item '/Users/anabbi/Desktop/H4H/pughlab/pediatric/projects/TCR\\_HSJ/NextSeq//batch2/mixcr/clones/CLONES\\_TRA67-CSF.txt'\n",
       "\\item '/Users/anabbi/Desktop/H4H/pughlab/pediatric/projects/TCR\\_HSJ/NextSeq//batch3/mixcr/clones/CLONES\\_TRA67-Tum.txt'\n",
       "\\end{enumerate*}\n"
      ],
      "text/markdown": [
       "1. '/Users/anabbi/Desktop/H4H/pughlab/pediatric/projects/TCR_HSJ/NextSeq//batch2/mixcr/clones/CLONES_TRA67-CSF.txt'\n",
       "2. '/Users/anabbi/Desktop/H4H/pughlab/pediatric/projects/TCR_HSJ/NextSeq//batch3/mixcr/clones/CLONES_TRA67-Tum.txt'\n",
       "\n",
       "\n"
      ],
      "text/plain": [
       "[1] \"/Users/anabbi/Desktop/H4H/pughlab/pediatric/projects/TCR_HSJ/NextSeq//batch2/mixcr/clones/CLONES_TRA67-CSF.txt\"\n",
       "[2] \"/Users/anabbi/Desktop/H4H/pughlab/pediatric/projects/TCR_HSJ/NextSeq//batch3/mixcr/clones/CLONES_TRA67-Tum.txt\""
      ]
     },
     "metadata": {},
     "output_type": "display_data"
    }
   ],
   "source": [
    "HSJ"
   ]
  },
  {
   "cell_type": "code",
   "execution_count": 171,
   "metadata": {
    "vscode": {
     "languageId": "r"
    }
   },
   "outputs": [
    {
     "name": "stderr",
     "output_type": "stream",
     "text": [
      "my files:\n",
      "\n"
     ]
    },
    {
     "name": "stdout",
     "output_type": "stream",
     "text": [
      "[1] \"/Users/anabbi/Desktop/H4H/pughlab/pediatric/projects/TCR_HSJ/NextSeq//batch2/mixcr/clones/CLONES_TRA67-CSF.txt\"\n",
      "[2] \"/Users/anabbi/Desktop/H4H/pughlab/pediatric/projects/TCR_HSJ/NextSeq//batch3/mixcr/clones/CLONES_TRA67-Tum.txt\"\n"
     ]
    },
    {
     "name": "stderr",
     "output_type": "stream",
     "text": [
      "Total recovered clonotypes:\n",
      "\n"
     ]
    },
    {
     "name": "stdout",
     "output_type": "stream",
     "text": [
      "[1] 130\n"
     ]
    },
    {
     "name": "stderr",
     "output_type": "stream",
     "text": [
      "Total out-of-frame clonotypes:\n",
      "\n"
     ]
    },
    {
     "name": "stdout",
     "output_type": "stream",
     "text": [
      "[1] 63\n"
     ]
    },
    {
     "name": "stderr",
     "output_type": "stream",
     "text": [
      "Total clonotypes with stop codon:\n",
      "\n"
     ]
    },
    {
     "name": "stdout",
     "output_type": "stream",
     "text": [
      "[1] 7\n"
     ]
    },
    {
     "name": "stderr",
     "output_type": "stream",
     "text": [
      "Total productive clonotypes:\n",
      "\n"
     ]
    },
    {
     "name": "stdout",
     "output_type": "stream",
     "text": [
      "[1] 60\n"
     ]
    },
    {
     "name": "stderr",
     "output_type": "stream",
     "text": [
      "Output contains in_frame clonotypes only\n",
      "\n"
     ]
    }
   ],
   "source": [
    "cdr3df <- cdr3_dataframe.fx(\"\", \"TRA\", HSJ, \"inframe\")"
   ]
  },
  {
   "cell_type": "code",
   "execution_count": 173,
   "metadata": {
    "vscode": {
     "languageId": "r"
    }
   },
   "outputs": [
    {
     "data": {
      "text/plain": [
       "\n",
       "67-CSF 67-Tum \n",
       "    32     28 "
      ]
     },
     "metadata": {},
     "output_type": "display_data"
    }
   ],
   "source": [
    "table(cdr3df$samplename)"
   ]
  },
  {
   "cell_type": "code",
   "execution_count": 174,
   "metadata": {
    "vscode": {
     "languageId": "r"
    }
   },
   "outputs": [],
   "source": [
    "cdr3df$samplename[ cdr3df$samplename == \"67-CSF\"] <- \"CSF\"\n",
    "#cdr3df$samplename[ cdr3df$samplename == \"77-Plasma\"] <- \"Plasma\"\n",
    "cdr3df$samplename[ cdr3df$samplename == \"67-Tum\"] <- \"Tumor\""
   ]
  },
  {
   "cell_type": "code",
   "execution_count": 175,
   "metadata": {
    "vscode": {
     "languageId": "r"
    }
   },
   "outputs": [],
   "source": [
    "cdr3df$samplename <- factor(cdr3df$samplename, levels = c(\"Tumor\", \"CSF\"))"
   ]
  },
  {
   "cell_type": "code",
   "execution_count": 176,
   "metadata": {
    "vscode": {
     "languageId": "r"
    }
   },
   "outputs": [
    {
     "name": "stderr",
     "output_type": "stream",
     "text": [
      "list of samples to track clones: \n",
      "\n"
     ]
    },
    {
     "name": "stdout",
     "output_type": "stream",
     "text": [
      "[1] CSF   Tumor\n",
      "Levels: Tumor CSF\n"
     ]
    },
    {
     "name": "stderr",
     "output_type": "stream",
     "text": [
      "Total number of recurring clonotypes: \n",
      "\n"
     ]
    },
    {
     "name": "stdout",
     "output_type": "stream",
     "text": [
      "[1] 3\n"
     ]
    },
    {
     "name": "stderr",
     "output_type": "stream",
     "text": [
      "these are what we color: \n",
      "\n"
     ]
    },
    {
     "name": "stdout",
     "output_type": "stream",
     "text": [
      "TGTGTGGTGAACCTATATGCTGGCAACAACCGTAAGCTGATTTGG \n",
      "                                    \"#BD6BCA\" \n",
      "TGTGCTGGGCAGCACAGTGCTGTGATTTATAGCACATTCATCTTT \n",
      "                                    \"#B4D77B\" \n",
      "TGTGCTGTGAGTGCGGGGTACAGCAGTGCTTCCAAGATAATCTTT \n",
      "                                    \"#B4C0C3\" \n"
     ]
    },
    {
     "data": {
      "image/png": "[encoded data removed]",
      "text/plain": [
       "plot without title"
      ]
     },
     "metadata": {
      "image/png": {
       "height": 420,
       "width": 420
      }
     },
     "output_type": "display_data"
    }
   ],
   "source": [
    "p <- plot_clonetracks.fx(cdr3df, plotpath, \"TRA\", \"cloneFraction\", 0, \"HSJ67\", 222)\n",
    "p"
   ]
  },
  {
   "cell_type": "code",
   "execution_count": 177,
   "metadata": {
    "vscode": {
     "languageId": "r"
    }
   },
   "outputs": [
    {
     "data": {
      "text/html": [
       "<strong>pdf:</strong> 2"
      ],
      "text/latex": [
       "\\textbf{pdf:} 2"
      ],
      "text/markdown": [
       "**pdf:** 2"
      ],
      "text/plain": [
       "pdf \n",
       "  2 "
      ]
     },
     "metadata": {},
     "output_type": "display_data"
    }
   ],
   "source": [
    "cairo_pdf(paste0(plotpath, \"HSJ_67_Tum_CSF_TRA.pdf\"), width = 10, height = 15)\n",
    "p + theme(axis.title.x = element_text(size = 15) ) + labs(y = \"TCR\\U03B1 clone fraction\", x = \"\", title = \"\")\n",
    "dev.off()"
   ]
  },
  {
   "cell_type": "code",
   "execution_count": null,
   "metadata": {
    "vscode": {
     "languageId": "r"
    }
   },
   "outputs": [],
   "source": []
  }
 ],
 "metadata": {
  "kernelspec": {
   "display_name": "R 4.0",
   "language": "R",
   "name": "ir40"
  },
  "language_info": {
   "codemirror_mode": "r",
   "file_extension": ".r",
   "mimetype": "text/x-r-source",
   "name": "R",
   "pygments_lexer": "r",
   "version": "4.2.2"
  },
  "toc": {
   "base_numbering": 1,
   "nav_menu": {},
   "number_sections": false,
   "sideBar": true,
   "skip_h1_title": false,
   "title_cell": "Table of Contents",
   "title_sidebar": "Contents",
   "toc_cell": true,
   "toc_position": {
    "height": "calc(100% - 180px)",
    "left": "10px",
    "top": "150px",
    "width": "217.3px"
   },
   "toc_section_display": true,
   "toc_window_display": true
  }
 },
 "nbformat": 4,
 "nbformat_minor": 2
}
