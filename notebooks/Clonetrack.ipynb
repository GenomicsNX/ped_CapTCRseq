{
 "cells": [
  {
   "cell_type": "markdown",
   "metadata": {},
   "source": [
    "# Dependencies"
   ]
  },
  {
   "cell_type": "code",
   "execution_count": null,
   "metadata": {
    "vscode": {
     "languageId": "r"
    }
   },
   "outputs": [],
   "source": [
    "Sys.setlocale(category = \"LC_ALL\", locale = \"en_US.UTF-8\")"
   ]
  },
  {
   "cell_type": "code",
   "execution_count": 1,
   "metadata": {
    "scrolled": true,
    "vscode": {
     "languageId": "r"
    }
   },
   "outputs": [
    {
     "name": "stderr",
     "output_type": "stream",
     "text": [
      "Loading required package: ggplot2\n",
      "\n"
     ]
    }
   ],
   "source": [
    "library(ggalluvial)\n",
    "library(randomcoloR)"
   ]
  },
  {
   "cell_type": "markdown",
   "metadata": {},
   "source": [
    "# Functions"
   ]
  },
  {
   "cell_type": "code",
   "execution_count": 50,
   "metadata": {
    "vscode": {
     "languageId": "r"
    }
   },
   "outputs": [],
   "source": [
    "source(\"/Users/anabbi/git/ped_CapTCRseq/R/clonetrack.R\")"
   ]
  },
  {
   "cell_type": "code",
   "execution_count": null,
   "metadata": {
    "vscode": {
     "languageId": "r"
    }
   },
   "outputs": [],
   "source": [
    "trbbarplot.fx <- function(metadta, pat, sampletype) {\n",
    "      pat_sample <- metadta[metadta$Patient == pat & metadta$sampletype == sampletype, ] # should not contain NA\n",
    "      # TRB bar plot\n",
    "      barpt <- ggplot(data = pat_sample, aes(y = TRB, x = basename)) +\n",
    "            geom_bar(fill = \"#f3b94e\", colour = \"#030303\", stat = \"identity\") +\n",
    "            theme(\n",
    "                  axis.title.x = element_blank(),\n",
    "                  axis.text.x = element_blank(),\n",
    "                  axis.line = element_line(color = \"black\"),\n",
    "                  axis.text = element_text(size = 15),\n",
    "                  axis.title = element_text(size = 15),\n",
    "                  legend.position = \"none\"\n",
    "            ) +\n",
    "            theme(\n",
    "                  panel.grid.major = element_blank(),\n",
    "                  panel.grid.minor = element_blank(),\n",
    "                  panel.background = element_rect(fill = \"transparent\", colour = NA),\n",
    "                  panel.border = element_blank(),\n",
    "                  plot.margin = unit(c(0, 0, 0, 0), \"cm\")\n",
    "            )\n",
    "      return(barpt)\n",
    "}\n"
   ]
  },
  {
   "cell_type": "markdown",
   "metadata": {},
   "source": [
    "# Paths"
   ]
  },
  {
   "cell_type": "code",
   "execution_count": 51,
   "metadata": {
    "vscode": {
     "languageId": "r"
    }
   },
   "outputs": [],
   "source": [
    "datapath <- \"/Users/anabbi/OneDrive - UHN/Documents/INTERCEPT/Data/\"\n",
    "plotpath <- \"/Users/anabbi/OneDrive - UHN/Documents/INTERCEPT/Plots/\"\n",
    "manifestpath <- \"/Users/anabbi/OneDrive - UHN/Documents/INTERCEPT/Manifests/\"\n",
    "\n",
    "gitpath <- \"/Users/anabbi/git/ped_CapTCRseq/\""
   ]
  },
  {
   "cell_type": "code",
   "execution_count": 52,
   "metadata": {
    "vscode": {
     "languageId": "r"
    }
   },
   "outputs": [],
   "source": [
    "h4hpath <- \"/Users/anabbi/Desktop/H4H/INTERCEPT/\""
   ]
  },
  {
   "cell_type": "markdown",
   "metadata": {},
   "source": [
    "# Main"
   ]
  },
  {
   "cell_type": "code",
   "execution_count": 53,
   "metadata": {
    "vscode": {
     "languageId": "r"
    }
   },
   "outputs": [],
   "source": [
    "meta_div <- readr::read_rds(paste0(datapath, \"capTCRseq/meta_div_goodsamples.rds\"))"
   ]
  },
  {
   "cell_type": "code",
   "execution_count": 54,
   "metadata": {
    "vscode": {
     "languageId": "r"
    }
   },
   "outputs": [],
   "source": [
    "meta_div <- meta_div[ !is.na(meta_div$TRB),]"
   ]
  },
  {
   "attachments": {},
   "cell_type": "markdown",
   "metadata": {},
   "source": [
    "## T-ALL"
   ]
  },
  {
   "cell_type": "code",
   "execution_count": 55,
   "metadata": {
    "vscode": {
     "languageId": "r"
    }
   },
   "outputs": [],
   "source": [
    "tall <- meta_div[ meta_div$Disease_type == \"T-ALL\",]"
   ]
  },
  {
   "cell_type": "code",
   "execution_count": 56,
   "metadata": {
    "vscode": {
     "languageId": "r"
    }
   },
   "outputs": [
    {
     "data": {
      "text/plain": [
       "\n",
       "CHP_324 CHP_375 CHP_387 CHP_395 \n",
       "      3       6       6       2 "
      ]
     },
     "metadata": {},
     "output_type": "display_data"
    }
   ],
   "source": [
    "table(tall$Patient)"
   ]
  },
  {
   "cell_type": "markdown",
   "metadata": {},
   "source": [
    "### 375"
   ]
  },
  {
   "cell_type": "code",
   "execution_count": 57,
   "metadata": {
    "vscode": {
     "languageId": "r"
    }
   },
   "outputs": [
    {
     "data": {
      "text/html": [
       "<style>\n",
       ".list-inline {list-style: none; margin:0; padding: 0}\n",
       ".list-inline>li {display: inline-block}\n",
       ".list-inline>li:not(:last-child)::after {content: \"\\00b7\"; padding: 0 .5ex}\n",
       "</style>\n",
       "<ol class=list-inline><li>'sample_id'</li><li>'Patient'</li><li>'cycle'</li><li>'FOLD'</li><li>'ATC'</li><li>'Age'</li><li>'Disease_type'</li><li>'TE_fold'</li><li>'Pass'</li><li>'CD3'</li><li>'EM'</li><li>'CM'</li><li>'Naïve'</li><li>'SCM'</li><li>'TE'</li><li>'EM.'</li><li>'CM.'</li><li>'Naïve.'</li><li>'SCM.'</li><li>'TE.'</li><li>'Naïve.TE'</li><li>'N.CM.SCM.TE.EM'</li><li>'PD.1'</li><li>'PDL1'</li><li>'LAG3'</li><li>'TIM3'</li><li>'CTLA4'</li><li>'PD1.'</li><li>'PDL1.'</li><li>'LAG3.'</li><li>'TIM3.'</li><li>'CTLA4.'</li><li>'Any.NCR'</li><li>'PD1...LAG3...TIM3'</li><li>'cancergroup'</li><li>'TRB'</li><li>'Reads'</li><li>'CPKR'</li><li>'Average_reads'</li><li>'VMR'</li><li>'Max_reads'</li><li>'Singletons'</li><li>'Doubletons'</li><li>'qD'</li><li>'Sample_Coverage'</li><li>'observed_Richness'</li><li>'estimated_Richness'</li><li>'SE_Richeness'</li><li>'observed_Shannon'</li><li>'estimated_Shannon'</li><li>'SE_Shannon'</li><li>'observed_Simpson'</li><li>'estimated_Simpson'</li><li>'SE_Simpson'</li><li>'file'</li><li>'basename'</li><li>'Group'</li><li>'sampletype'</li></ol>\n"
      ],
      "text/latex": [
       "\\begin{enumerate*}\n",
       "\\item 'sample\\_id'\n",
       "\\item 'Patient'\n",
       "\\item 'cycle'\n",
       "\\item 'FOLD'\n",
       "\\item 'ATC'\n",
       "\\item 'Age'\n",
       "\\item 'Disease\\_type'\n",
       "\\item 'TE\\_fold'\n",
       "\\item 'Pass'\n",
       "\\item 'CD3'\n",
       "\\item 'EM'\n",
       "\\item 'CM'\n",
       "\\item 'Naïve'\n",
       "\\item 'SCM'\n",
       "\\item 'TE'\n",
       "\\item 'EM.'\n",
       "\\item 'CM.'\n",
       "\\item 'Naïve.'\n",
       "\\item 'SCM.'\n",
       "\\item 'TE.'\n",
       "\\item 'Naïve.TE'\n",
       "\\item 'N.CM.SCM.TE.EM'\n",
       "\\item 'PD.1'\n",
       "\\item 'PDL1'\n",
       "\\item 'LAG3'\n",
       "\\item 'TIM3'\n",
       "\\item 'CTLA4'\n",
       "\\item 'PD1.'\n",
       "\\item 'PDL1.'\n",
       "\\item 'LAG3.'\n",
       "\\item 'TIM3.'\n",
       "\\item 'CTLA4.'\n",
       "\\item 'Any.NCR'\n",
       "\\item 'PD1...LAG3...TIM3'\n",
       "\\item 'cancergroup'\n",
       "\\item 'TRB'\n",
       "\\item 'Reads'\n",
       "\\item 'CPKR'\n",
       "\\item 'Average\\_reads'\n",
       "\\item 'VMR'\n",
       "\\item 'Max\\_reads'\n",
       "\\item 'Singletons'\n",
       "\\item 'Doubletons'\n",
       "\\item 'qD'\n",
       "\\item 'Sample\\_Coverage'\n",
       "\\item 'observed\\_Richness'\n",
       "\\item 'estimated\\_Richness'\n",
       "\\item 'SE\\_Richeness'\n",
       "\\item 'observed\\_Shannon'\n",
       "\\item 'estimated\\_Shannon'\n",
       "\\item 'SE\\_Shannon'\n",
       "\\item 'observed\\_Simpson'\n",
       "\\item 'estimated\\_Simpson'\n",
       "\\item 'SE\\_Simpson'\n",
       "\\item 'file'\n",
       "\\item 'basename'\n",
       "\\item 'Group'\n",
       "\\item 'sampletype'\n",
       "\\end{enumerate*}\n"
      ],
      "text/markdown": [
       "1. 'sample_id'\n",
       "2. 'Patient'\n",
       "3. 'cycle'\n",
       "4. 'FOLD'\n",
       "5. 'ATC'\n",
       "6. 'Age'\n",
       "7. 'Disease_type'\n",
       "8. 'TE_fold'\n",
       "9. 'Pass'\n",
       "10. 'CD3'\n",
       "11. 'EM'\n",
       "12. 'CM'\n",
       "13. 'Naïve'\n",
       "14. 'SCM'\n",
       "15. 'TE'\n",
       "16. 'EM.'\n",
       "17. 'CM.'\n",
       "18. 'Naïve.'\n",
       "19. 'SCM.'\n",
       "20. 'TE.'\n",
       "21. 'Naïve.TE'\n",
       "22. 'N.CM.SCM.TE.EM'\n",
       "23. 'PD.1'\n",
       "24. 'PDL1'\n",
       "25. 'LAG3'\n",
       "26. 'TIM3'\n",
       "27. 'CTLA4'\n",
       "28. 'PD1.'\n",
       "29. 'PDL1.'\n",
       "30. 'LAG3.'\n",
       "31. 'TIM3.'\n",
       "32. 'CTLA4.'\n",
       "33. 'Any.NCR'\n",
       "34. 'PD1...LAG3...TIM3'\n",
       "35. 'cancergroup'\n",
       "36. 'TRB'\n",
       "37. 'Reads'\n",
       "38. 'CPKR'\n",
       "39. 'Average_reads'\n",
       "40. 'VMR'\n",
       "41. 'Max_reads'\n",
       "42. 'Singletons'\n",
       "43. 'Doubletons'\n",
       "44. 'qD'\n",
       "45. 'Sample_Coverage'\n",
       "46. 'observed_Richness'\n",
       "47. 'estimated_Richness'\n",
       "48. 'SE_Richeness'\n",
       "49. 'observed_Shannon'\n",
       "50. 'estimated_Shannon'\n",
       "51. 'SE_Shannon'\n",
       "52. 'observed_Simpson'\n",
       "53. 'estimated_Simpson'\n",
       "54. 'SE_Simpson'\n",
       "55. 'file'\n",
       "56. 'basename'\n",
       "57. 'Group'\n",
       "58. 'sampletype'\n",
       "\n",
       "\n"
      ],
      "text/plain": [
       " [1] \"sample_id\"          \"Patient\"            \"cycle\"             \n",
       " [4] \"FOLD\"               \"ATC\"                \"Age\"               \n",
       " [7] \"Disease_type\"       \"TE_fold\"            \"Pass\"              \n",
       "[10] \"CD3\"                \"EM\"                 \"CM\"                \n",
       "[13] \"Na<U+00EF>ve\"       \"SCM\"                \"TE\"                \n",
       "[16] \"EM.\"                \"CM.\"                \"Na<U+00EF>ve.\"     \n",
       "[19] \"SCM.\"               \"TE.\"                \"Na<U+00EF>ve.TE\"   \n",
       "[22] \"N.CM.SCM.TE.EM\"     \"PD.1\"               \"PDL1\"              \n",
       "[25] \"LAG3\"               \"TIM3\"               \"CTLA4\"             \n",
       "[28] \"PD1.\"               \"PDL1.\"              \"LAG3.\"             \n",
       "[31] \"TIM3.\"              \"CTLA4.\"             \"Any.NCR\"           \n",
       "[34] \"PD1...LAG3...TIM3\"  \"cancergroup\"        \"TRB\"               \n",
       "[37] \"Reads\"              \"CPKR\"               \"Average_reads\"     \n",
       "[40] \"VMR\"                \"Max_reads\"          \"Singletons\"        \n",
       "[43] \"Doubletons\"         \"qD\"                 \"Sample_Coverage\"   \n",
       "[46] \"observed_Richness\"  \"estimated_Richness\" \"SE_Richeness\"      \n",
       "[49] \"observed_Shannon\"   \"estimated_Shannon\"  \"SE_Shannon\"        \n",
       "[52] \"observed_Simpson\"   \"estimated_Simpson\"  \"SE_Simpson\"        \n",
       "[55] \"file\"               \"basename\"           \"Group\"             \n",
       "[58] \"sampletype\"        "
      ]
     },
     "metadata": {},
     "output_type": "display_data"
    }
   ],
   "source": [
    "colnames(tall)"
   ]
  },
  {
   "cell_type": "code",
   "execution_count": 58,
   "metadata": {
    "vscode": {
     "languageId": "r"
    }
   },
   "outputs": [],
   "source": [
    "CHP_387 <- tall$file[ tall$Patient == \"CHP_387\" & tall$sampletype == \"PBMC\"]"
   ]
  },
  {
   "cell_type": "code",
   "execution_count": 59,
   "metadata": {
    "vscode": {
     "languageId": "r"
    }
   },
   "outputs": [
    {
     "name": "stderr",
     "output_type": "stream",
     "text": [
      "my files:\n",
      "\n"
     ]
    },
    {
     "name": "stdout",
     "output_type": "stream",
     "text": [
      "[1] \"batch8_14Jan2020/mixcr/clones/CLONES_TRBCHP_387-01-PBMC-DNA.txt\" \n",
      "[2] \"batch11_23Apr2020/mixcr/clones/CLONES_TRBCHP_387-02_PBMC_DNA.txt\"\n",
      "[3] \"batch11_23Apr2020/mixcr/clones/CLONES_TRBCHP_387-03_PBMC_DNA.txt\"\n"
     ]
    },
    {
     "name": "stderr",
     "output_type": "stream",
     "text": [
      "Total recovered clonotypes:\n",
      "\n"
     ]
    },
    {
     "name": "stdout",
     "output_type": "stream",
     "text": [
      "[1] 1323\n"
     ]
    },
    {
     "name": "stderr",
     "output_type": "stream",
     "text": [
      "Total out-of-frame clonotypes:\n",
      "\n"
     ]
    },
    {
     "name": "stdout",
     "output_type": "stream",
     "text": [
      "[1] 334\n"
     ]
    },
    {
     "name": "stderr",
     "output_type": "stream",
     "text": [
      "Total clonotypes with stop codon:\n",
      "\n"
     ]
    },
    {
     "name": "stdout",
     "output_type": "stream",
     "text": [
      "[1] 26\n"
     ]
    },
    {
     "name": "stderr",
     "output_type": "stream",
     "text": [
      "Total productive clonotypes:\n",
      "\n"
     ]
    },
    {
     "name": "stdout",
     "output_type": "stream",
     "text": [
      "[1] 963\n"
     ]
    },
    {
     "name": "stderr",
     "output_type": "stream",
     "text": [
      "Output contains in_frame clonotypes only\n",
      "\n"
     ]
    }
   ],
   "source": [
    "cdr3df <- cdr3_dataframe.fx(paste0(h4hpath,\"NextSeq/\"), \"TRB\", CHP_387, \"inframe\")"
   ]
  },
  {
   "cell_type": "code",
   "execution_count": 60,
   "metadata": {
    "vscode": {
     "languageId": "r"
    }
   },
   "outputs": [
    {
     "name": "stderr",
     "output_type": "stream",
     "text": [
      "list of samples to track clones: \n",
      "\n"
     ]
    },
    {
     "name": "stdout",
     "output_type": "stream",
     "text": [
      "[1] \"CHP_387-01-PBMC-DNA\" \"CHP_387-02_PBMC_DNA\" \"CHP_387-03_PBMC_DNA\"\n"
     ]
    },
    {
     "name": "stderr",
     "output_type": "stream",
     "text": [
      "Total number of recurring clonotypes: \n",
      "\n"
     ]
    },
    {
     "name": "stdout",
     "output_type": "stream",
     "text": [
      "[1] 11\n"
     ]
    },
    {
     "name": "stderr",
     "output_type": "stream",
     "text": [
      "these are what we color: \n",
      "\n"
     ]
    },
    {
     "name": "stdout",
     "output_type": "stream",
     "text": [
      "                           TGTGCCAGCAGCCCGACAGGGGTATACGAAAAACTGTTTTTT \n",
      "                                                            \"#8495D9\" \n",
      "               TGTGCCAGCAGCTTAATCGTCCGGGACAGAGCCATGAACACTGAAGCTTTCTTT \n",
      "                                                            \"#D3B271\" \n",
      "                           TGTGCCAGCAGGTCTAGCGGTTCCTACAATGAGCAGTTCTTC \n",
      "                                                            \"#D9E260\" \n",
      "                        TGTGCCAGCAGTTCCCTCAGGGGGAGCAATCAGCCCCAGCATTTT \n",
      "                                                            \"#D871BC\" \n",
      "                                 TGTGCCAGCAGCTTAGTAAGGGGTGAAGCTTTCTTT \n",
      "                                                            \"#85EB60\" \n",
      "                           TGCGCCAGCAGGCAGCGCTTAGCCAAAAACATTCAGTACTTC \n",
      "                                                            \"#D5BACE\" \n",
      "            TGTGCCAGCAGCCGCAATACCCAGCCCCAGGTGGGACGGTCCAATGAGCAGTTCTTC \n",
      "                                                            \"#AD56E0\" \n",
      "TGTGCCACCAGTGACCTCACTAGCGGGGGGTCGTCCAGCGGGGGATGGGTTTACAATGAGCAGTTCTTC \n",
      "                                                            \"#DB6A5F\" \n",
      "                        TGTGCCAGCAGCGCAGGGGGGCAGGTCAATCAGCCCCAGCATTTT \n",
      "                                                            \"#CEDDBE\" \n",
      "                           TGTGCCAGCAGTTACAGCTCTGGGGCCAACGTCCTGACTTTC \n",
      "                                                            \"#79CED3\" \n",
      "                           TGTGCCAGCAGTGACCTGACAGGGTTTAAGGGCTACACCTTC \n",
      "                                                            \"#80E0A2\" \n"
     ]
    }
   ],
   "source": [
    "p387 <- plot_clonetracks.fx(cdr3df, plotpath, \"TRB\", \"cloneFraction\", 0, \"T-ALL (PBMC)\", 222)"
   ]
  },
  {
   "cell_type": "code",
   "execution_count": 62,
   "metadata": {
    "vscode": {
     "languageId": "r"
    }
   },
   "outputs": [],
   "source": [
    " p2 <- trbbarplot.fx(meta_div,  \"CHP_387\", \"PBMC\")"
   ]
  },
  {
   "cell_type": "code",
   "execution_count": 63,
   "metadata": {
    "vscode": {
     "languageId": "r"
    }
   },
   "outputs": [
    {
     "data": {
      "text/html": [
       "<strong>pdf:</strong> 2"
      ],
      "text/latex": [
       "\\textbf{pdf:} 2"
      ],
      "text/markdown": [
       "**pdf:** 2"
      ],
      "text/plain": [
       "pdf \n",
       "  2 "
      ]
     },
     "metadata": {},
     "output_type": "display_data"
    }
   ],
   "source": [
    "#pdf(paste0(plotpath, \"CHP_387_TRB.pdf\"), width = 10, height = 15)\n",
    "#cowplot::plot_grid(p2, p387 + theme(plot.title = element_blank()),ncol = 1, align = \"v\", rel_heights = c(0.2, 1))\n",
    "#dev.off()"
   ]
  },
  {
   "cell_type": "code",
   "execution_count": 93,
   "metadata": {
    "vscode": {
     "languageId": "r"
    }
   },
   "outputs": [
    {
     "data": {
      "text/html": [
       "<strong>pdf:</strong> 2"
      ],
      "text/latex": [
       "\\textbf{pdf:} 2"
      ],
      "text/markdown": [
       "**pdf:** 2"
      ],
      "text/plain": [
       "pdf \n",
       "  2 "
      ]
     },
     "metadata": {},
     "output_type": "display_data"
    }
   ],
   "source": [
    "cairo_pdf(paste0(plotpath, \"CHP_387_TRB.pdf\"), width = 10, height = 15)\n",
    "p387 + theme(axis.title.x = element_text(size = 15) ) + labs(y = \"TCR\\U03B2 clone fraction\", x = \"Sample prior to chemotherapy cycle\") + \n",
    "scale_x_discrete(labels = c(\"Pre-cycle 1\", \"Pre-cycle 2\", \"Pre-cycle 3\"))\n",
    "dev.off()"
   ]
  },
  {
   "attachments": {},
   "cell_type": "markdown",
   "metadata": {},
   "source": [
    "## Solid tumors"
   ]
  },
  {
   "cell_type": "code",
   "execution_count": 115,
   "metadata": {
    "vscode": {
     "languageId": "r"
    }
   },
   "outputs": [
    {
     "data": {
      "text/html": [
       "<table class=\"dataframe\">\n",
       "<caption>A data.frame: 17 x 2</caption>\n",
       "<thead>\n",
       "\t<tr><th></th><th scope=col>Patient</th><th scope=col>Disease_type</th></tr>\n",
       "\t<tr><th></th><th scope=col>&lt;chr&gt;</th><th scope=col>&lt;chr&gt;</th></tr>\n",
       "</thead>\n",
       "<tbody>\n",
       "\t<tr><th scope=row>159</th><td>CHP_344</td><td>BL   </td></tr>\n",
       "\t<tr><th scope=row>281</th><td>CHP_361</td><td>HD   </td></tr>\n",
       "\t<tr><th scope=row>308</th><td>CHP_364</td><td>OS   </td></tr>\n",
       "\t<tr><th scope=row>324</th><td>CHP_366</td><td>HD   </td></tr>\n",
       "\t<tr><th scope=row>354</th><td>CHP_370</td><td>ALCL </td></tr>\n",
       "\t<tr><th scope=row>372</th><td>CHP_372</td><td>BL   </td></tr>\n",
       "\t<tr><th scope=row>426</th><td>CHP_380</td><td>HD   </td></tr>\n",
       "\t<tr><th scope=row>493</th><td>CHP_389</td><td>HD   </td></tr>\n",
       "\t<tr><th scope=row>501</th><td>CHP_390</td><td>OS   </td></tr>\n",
       "\t<tr><th scope=row>532</th><td>CHP_394</td><td>ERMS </td></tr>\n",
       "\t<tr><th scope=row>583</th><td>CHP_400</td><td>PMBCL</td></tr>\n",
       "\t<tr><th scope=row>592</th><td>CHP_401</td><td>ERMS </td></tr>\n",
       "\t<tr><th scope=row>626</th><td>CHP_404</td><td>ERMS </td></tr>\n",
       "\t<tr><th scope=row>627</th><td>CHP_404</td><td>ERMS </td></tr>\n",
       "\t<tr><th scope=row>642</th><td>CHP_407</td><td>DLBCL</td></tr>\n",
       "\t<tr><th scope=row>682</th><td>CHP_412</td><td>BLL  </td></tr>\n",
       "\t<tr><th scope=row>727</th><td>CHP_418</td><td>NB   </td></tr>\n",
       "</tbody>\n",
       "</table>\n"
      ],
      "text/latex": [
       "A data.frame: 17 x 2\n",
       "\\begin{tabular}{r|ll}\n",
       "  & Patient & Disease\\_type\\\\\n",
       "  & <chr> & <chr>\\\\\n",
       "\\hline\n",
       "\t159 & CHP\\_344 & BL   \\\\\n",
       "\t281 & CHP\\_361 & HD   \\\\\n",
       "\t308 & CHP\\_364 & OS   \\\\\n",
       "\t324 & CHP\\_366 & HD   \\\\\n",
       "\t354 & CHP\\_370 & ALCL \\\\\n",
       "\t372 & CHP\\_372 & BL   \\\\\n",
       "\t426 & CHP\\_380 & HD   \\\\\n",
       "\t493 & CHP\\_389 & HD   \\\\\n",
       "\t501 & CHP\\_390 & OS   \\\\\n",
       "\t532 & CHP\\_394 & ERMS \\\\\n",
       "\t583 & CHP\\_400 & PMBCL\\\\\n",
       "\t592 & CHP\\_401 & ERMS \\\\\n",
       "\t626 & CHP\\_404 & ERMS \\\\\n",
       "\t627 & CHP\\_404 & ERMS \\\\\n",
       "\t642 & CHP\\_407 & DLBCL\\\\\n",
       "\t682 & CHP\\_412 & BLL  \\\\\n",
       "\t727 & CHP\\_418 & NB   \\\\\n",
       "\\end{tabular}\n"
      ],
      "text/markdown": [
       "\n",
       "A data.frame: 17 x 2\n",
       "\n",
       "| <!--/--> | Patient &lt;chr&gt; | Disease_type &lt;chr&gt; |\n",
       "|---|---|---|\n",
       "| 159 | CHP_344 | BL    |\n",
       "| 281 | CHP_361 | HD    |\n",
       "| 308 | CHP_364 | OS    |\n",
       "| 324 | CHP_366 | HD    |\n",
       "| 354 | CHP_370 | ALCL  |\n",
       "| 372 | CHP_372 | BL    |\n",
       "| 426 | CHP_380 | HD    |\n",
       "| 493 | CHP_389 | HD    |\n",
       "| 501 | CHP_390 | OS    |\n",
       "| 532 | CHP_394 | ERMS  |\n",
       "| 583 | CHP_400 | PMBCL |\n",
       "| 592 | CHP_401 | ERMS  |\n",
       "| 626 | CHP_404 | ERMS  |\n",
       "| 627 | CHP_404 | ERMS  |\n",
       "| 642 | CHP_407 | DLBCL |\n",
       "| 682 | CHP_412 | BLL   |\n",
       "| 727 | CHP_418 | NB    |\n",
       "\n"
      ],
      "text/plain": [
       "    Patient Disease_type\n",
       "159 CHP_344 BL          \n",
       "281 CHP_361 HD          \n",
       "308 CHP_364 OS          \n",
       "324 CHP_366 HD          \n",
       "354 CHP_370 ALCL        \n",
       "372 CHP_372 BL          \n",
       "426 CHP_380 HD          \n",
       "493 CHP_389 HD          \n",
       "501 CHP_390 OS          \n",
       "532 CHP_394 ERMS        \n",
       "583 CHP_400 PMBCL       \n",
       "592 CHP_401 ERMS        \n",
       "626 CHP_404 ERMS        \n",
       "627 CHP_404 ERMS        \n",
       "642 CHP_407 DLBCL       \n",
       "682 CHP_412 BLL         \n",
       "727 CHP_418 NB          "
      ]
     },
     "metadata": {},
     "output_type": "display_data"
    }
   ],
   "source": [
    "meta_div[ grepl(\"FFPE\", meta_div$basename), c(\"Patient\", \"Disease_type\") ]"
   ]
  },
  {
   "cell_type": "code",
   "execution_count": 166,
   "metadata": {
    "vscode": {
     "languageId": "r"
    }
   },
   "outputs": [],
   "source": [
    "myCHP <- \"CHP_364\""
   ]
  },
  {
   "cell_type": "code",
   "execution_count": 171,
   "metadata": {
    "vscode": {
     "languageId": "r"
    }
   },
   "outputs": [],
   "source": [
    "mycase <- meta_div$file[ meta_div$Patient == myCHP]\n",
    "mycase <- mycase[ !grepl(\"cfDNA\", mycase) ]"
   ]
  },
  {
   "cell_type": "code",
   "execution_count": 172,
   "metadata": {
    "vscode": {
     "languageId": "r"
    }
   },
   "outputs": [
    {
     "name": "stderr",
     "output_type": "stream",
     "text": [
      "my files:\n",
      "\n"
     ]
    },
    {
     "name": "stdout",
     "output_type": "stream",
     "text": [
      "[1] \"batch4_19Aug2019/mixcr/clones/CLONES_TRBCHP_364-01-PBMC-DNA.txt\"  \n",
      "[2] \"batch4_19Aug2019/mixcr/clones/CLONES_TRBCHP_364-02-PBMC-DNA.txt\"  \n",
      "[3] \"batch4_19Aug2019/mixcr/clones/CLONES_TRBCHP_364-04-PBMC-DNA.txt\"  \n",
      "[4] \"batchFFPE_3Apr2020/mixcr/clones/CLONES_TRBCHP_364-FFPE-DNA_S1.txt\"\n"
     ]
    },
    {
     "name": "stderr",
     "output_type": "stream",
     "text": [
      "Total recovered clonotypes:\n",
      "\n"
     ]
    },
    {
     "name": "stdout",
     "output_type": "stream",
     "text": [
      "[1] 426\n"
     ]
    },
    {
     "name": "stderr",
     "output_type": "stream",
     "text": [
      "Total out-of-frame clonotypes:\n",
      "\n"
     ]
    },
    {
     "name": "stdout",
     "output_type": "stream",
     "text": [
      "[1] 87\n"
     ]
    },
    {
     "name": "stderr",
     "output_type": "stream",
     "text": [
      "Total clonotypes with stop codon:\n",
      "\n"
     ]
    },
    {
     "name": "stdout",
     "output_type": "stream",
     "text": [
      "[1] 12\n"
     ]
    },
    {
     "name": "stderr",
     "output_type": "stream",
     "text": [
      "Total productive clonotypes:\n",
      "\n"
     ]
    },
    {
     "name": "stdout",
     "output_type": "stream",
     "text": [
      "[1] 327\n"
     ]
    },
    {
     "name": "stderr",
     "output_type": "stream",
     "text": [
      "Output contains in_frame clonotypes only\n",
      "\n"
     ]
    }
   ],
   "source": [
    "cdr3df <- cdr3_dataframe.fx(paste0(h4hpath,\"NextSeq/\"), \"TRB\", mycase, \"inframe\")"
   ]
  },
  {
   "cell_type": "code",
   "execution_count": 173,
   "metadata": {
    "vscode": {
     "languageId": "r"
    }
   },
   "outputs": [
    {
     "data": {
      "text/plain": [
       "\n",
       "CHP_364-01-PBMC-DNA CHP_364-02-PBMC-DNA CHP_364-04-PBMC-DNA CHP_364-FFPE-DNA_S1 \n",
       "                125                  75                 117                  10 "
      ]
     },
     "metadata": {},
     "output_type": "display_data"
    }
   ],
   "source": [
    "table(cdr3df$samplename)"
   ]
  },
  {
   "cell_type": "code",
   "execution_count": 174,
   "metadata": {
    "vscode": {
     "languageId": "r"
    }
   },
   "outputs": [],
   "source": [
    "cdr3df$samplename <- factor(cdr3df$samplename, levels = c(\"CHP_364-FFPE-DNA_S1\", \"CHP_364-01-PBMC-DNA\", \"CHP_364-02-PBMC-DNA\", \"CHP_364-04-PBMC-DNA\"))"
   ]
  },
  {
   "cell_type": "code",
   "execution_count": 175,
   "metadata": {
    "vscode": {
     "languageId": "r"
    }
   },
   "outputs": [
    {
     "name": "stderr",
     "output_type": "stream",
     "text": [
      "list of samples to track clones: \n",
      "\n"
     ]
    },
    {
     "name": "stdout",
     "output_type": "stream",
     "text": [
      "[1] CHP_364-01-PBMC-DNA CHP_364-02-PBMC-DNA CHP_364-04-PBMC-DNA\n",
      "[4] CHP_364-FFPE-DNA_S1\n",
      "4 Levels: CHP_364-FFPE-DNA_S1 CHP_364-01-PBMC-DNA ... CHP_364-04-PBMC-DNA\n"
     ]
    },
    {
     "name": "stderr",
     "output_type": "stream",
     "text": [
      "Total number of recurring clonotypes: \n",
      "\n"
     ]
    },
    {
     "name": "stdout",
     "output_type": "stream",
     "text": [
      "[1] 4\n"
     ]
    },
    {
     "name": "stderr",
     "output_type": "stream",
     "text": [
      "these are what we color: \n",
      "\n"
     ]
    },
    {
     "name": "stdout",
     "output_type": "stream",
     "text": [
      "TGTGCCATCAGTGGACCCGGGACTAGCGGGAGGGCACAAGATACGCAGTATTTT \n",
      "                                             \"#A3CECE\" \n",
      "            TGTGCCAGCAGTGGACTAGCGGGAGCAGATACGCAGTATTTT \n",
      "                                             \"#B5E079\" \n",
      "               TGTGCCAGCAGTGCAGGGAACACCGGGGAGCTGTTTTTT \n",
      "                                             \"#BB74D2\" \n",
      "                  TGTGCCAGCAGCTTGCTAGAACAGCCCCAGCATTTT \n",
      "                                             \"#DE9788\" \n"
     ]
    },
    {
     "data": {
      "image/png": "[encoded data removed]",
      "text/plain": [
       "plot without title"
      ]
     },
     "metadata": {
      "image/png": {
       "height": 420,
       "width": 420
      }
     },
     "output_type": "display_data"
    }
   ],
   "source": [
    "p <- plot_clonetracks.fx(cdr3df, plotpath, \"TRB\", \"cloneFraction\", 0, \"Osteosarcoma\", 422)\n",
    "p"
   ]
  },
  {
   "cell_type": "code",
   "execution_count": 176,
   "metadata": {
    "vscode": {
     "languageId": "r"
    }
   },
   "outputs": [
    {
     "data": {
      "text/html": [
       "<strong>pdf:</strong> 2"
      ],
      "text/latex": [
       "\\textbf{pdf:} 2"
      ],
      "text/markdown": [
       "**pdf:** 2"
      ],
      "text/plain": [
       "pdf \n",
       "  2 "
      ]
     },
     "metadata": {},
     "output_type": "display_data"
    }
   ],
   "source": [
    "cairo_pdf(paste0(plotpath, \"CHP_364_OS_FFPE_PBMC_TRB.pdf\"), width = 10, height = 15)\n",
    "p387 + theme(axis.title.x = element_text(size = 15) ) + labs(y = \"TCR\\U03B2 clone fraction\", x = \"Sample prior to chemotherapy cycle\") + \n",
    "scale_x_discrete(labels = c(\"Tumor\", \"Pre-cycle 1\", \"Pre-cycle 2\", \"Pre-cycle 3\"))\n",
    "dev.off()"
   ]
  },
  {
   "cell_type": "code",
   "execution_count": 108,
   "metadata": {
    "vscode": {
     "languageId": "r"
    }
   },
   "outputs": [],
   "source": []
  }
 ],
 "metadata": {
  "kernelspec": {
   "display_name": "R 4.0",
   "language": "R",
   "name": "ir40"
  },
  "language_info": {
   "codemirror_mode": "r",
   "file_extension": ".r",
   "mimetype": "text/x-r-source",
   "name": "R",
   "pygments_lexer": "r",
   "version": "4.2.2"
  },
  "toc": {
   "base_numbering": 1,
   "nav_menu": {},
   "number_sections": false,
   "sideBar": true,
   "skip_h1_title": false,
   "title_cell": "Table of Contents",
   "title_sidebar": "Contents",
   "toc_cell": true,
   "toc_position": {
    "height": "calc(100% - 180px)",
    "left": "10px",
    "top": "150px",
    "width": "217.3px"
   },
   "toc_section_display": true,
   "toc_window_display": true
  }
 },
 "nbformat": 4,
 "nbformat_minor": 2
}
