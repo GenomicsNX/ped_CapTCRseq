{
 "cells": [
  {
   "cell_type": "markdown",
   "metadata": {
    "toc": true
   },
   "source": [
    "<h1>Table of Contents<span class=\"tocSkip\"></span></h1>\n",
    "<div class=\"toc\"><ul class=\"toc-item\"><li><span><a href=\"#Dependencies\" data-toc-modified-id=\"Dependencies-1\">Dependencies</a></span></li><li><span><a href=\"#Functions\" data-toc-modified-id=\"Functions-2\">Functions</a></span></li><li><span><a href=\"#Paths\" data-toc-modified-id=\"Paths-3\">Paths</a></span></li><li><span><a href=\"#Main\" data-toc-modified-id=\"Main-4\">Main</a></span><ul class=\"toc-item\"><li><span><a href=\"#Cleanup-INT-data\" data-toc-modified-id=\"Cleanup-INT-data-4.1\">Cleanup INT data</a></span></li><li><span><a href=\"#Cleanup-Adaptive-data\" data-toc-modified-id=\"Cleanup-Adaptive-data-4.2\">Cleanup Adaptive data</a></span></li></ul></li><li><span><a href=\"#CLeanup-COVID-TCR-data\" data-toc-modified-id=\"CLeanup-COVID-TCR-data-5\">CLeanup COVID TCR data</a></span><ul class=\"toc-item\"><li><span><a href=\"#Cleanup-VDJdb-file---curated-by-Shirin\" data-toc-modified-id=\"Cleanup-VDJdb-file---curated-by-Shirin-5.1\">Cleanup VDJdb file - curated by Shirin</a></span></li></ul></li><li><span><a href=\"#bind-all\" data-toc-modified-id=\"bind-all-6\">bind all</a></span></li><li><span><a href=\"#Backup\" data-toc-modified-id=\"Backup-7\">Backup</a></span></li></ul></div>"
   ]
  },
  {
   "cell_type": "markdown",
   "metadata": {},
   "source": [
    "# Dependencies"
   ]
  },
  {
   "cell_type": "code",
   "execution_count": 1,
   "metadata": {},
   "outputs": [],
   "source": [
    "pacman::p_load(data.table)"
   ]
  },
  {
   "cell_type": "markdown",
   "metadata": {},
   "source": [
    "# Functions"
   ]
  },
  {
   "cell_type": "code",
   "execution_count": 2,
   "metadata": {},
   "outputs": [],
   "source": [
    "toString_onefle.fx <- function(df, tostringvar){\n",
    "    setDT(df)\n",
    "    ab <- df[, .(tostringvar = toString( eval(parse( text = tostringvar))), #bind subjects\n",
    "                 count = sum(count)),  #get sum of counts\n",
    "             by = c(\"CDR3b\", \"TRBV\", \"TRBJ\")] #get duplicates sequences with the same cdr3 + TRBV + TRBJ\n",
    "    df_ab <- merge(df, ab, by = c(\"CDR3b\",\"TRBV\",\"TRBJ\")) # merge together\n",
    "    df_ab_dedup <- dplyr::distinct(df_ab, CDR3b, TRBV, TRBJ, tostringvar, .keep_all= TRUE)\n",
    "    \n",
    "    return(df_ab_dedup[, c(\"CDR3b\", \"TRBV\", \"TRBJ\", \"samplename\", \n",
    "                           \"count.y\", \"clonefraction\", \"tostringvar\", \"file\")])\n",
    "}"
   ]
  },
  {
   "cell_type": "code",
   "execution_count": 3,
   "metadata": {},
   "outputs": [],
   "source": [
    "#source(\"/Users/anabbi/git/ped_CapTCRseq/R/Immune_diversity.R\")"
   ]
  },
  {
   "cell_type": "markdown",
   "metadata": {},
   "source": [
    "# Paths"
   ]
  },
  {
   "cell_type": "code",
   "execution_count": 4,
   "metadata": {},
   "outputs": [],
   "source": [
    "datapath <- \"/Users/anabbi/OneDrive - UHN/Documents/INTERCEPT/Data/\"\n",
    "plotpath <- \"/Users/anabbi/OneDrive - UHN/Documents/INTERCEPT/Plots/\"\n",
    "manifestpath <- \"/Users/anabbi/OneDrive - UHN/Documents/INTERCEPT/Manifests/\"\n",
    "\n",
    "gitpath <- \"/Users/anabbi/git/ped_CapTCRseq/\""
   ]
  },
  {
   "cell_type": "code",
   "execution_count": 5,
   "metadata": {},
   "outputs": [],
   "source": [
    "h4hpath <- \"/Users/anabbi/Desktop/H4H/INTERCEPT/NextSeq/\""
   ]
  },
  {
   "cell_type": "markdown",
   "metadata": {},
   "source": [
    "# Main"
   ]
  },
  {
   "cell_type": "markdown",
   "metadata": {},
   "source": [
    "## Cleanup INT data"
   ]
  },
  {
   "cell_type": "code",
   "execution_count": 6,
   "metadata": {},
   "outputs": [],
   "source": [
    "load(file = paste0(datapath,\"capTCRseq/TRBfiles.RData\"))"
   ]
  },
  {
   "cell_type": "code",
   "execution_count": 8,
   "metadata": {},
   "outputs": [],
   "source": [
    "file_df_dedup_trb$patient <- substr(file_df_dedup_trb$samplename, 1,7)"
   ]
  },
  {
   "cell_type": "code",
   "execution_count": 9,
   "metadata": {},
   "outputs": [
    {
     "data": {
      "text/html": [
       "<table class=\"dataframe\">\n",
       "<caption>A data.frame: 6 × 4</caption>\n",
       "<thead>\n",
       "\t<tr><th></th><th scope=col>file_list</th><th scope=col>samplename</th><th scope=col>size</th><th scope=col>patient</th></tr>\n",
       "\t<tr><th></th><th scope=col>&lt;chr&gt;</th><th scope=col>&lt;chr&gt;</th><th scope=col>&lt;dbl&gt;</th><th scope=col>&lt;chr&gt;</th></tr>\n",
       "</thead>\n",
       "<tbody>\n",
       "\t<tr><th scope=row>264</th><td>batch4_19Aug2019/mixcr/clones/CLONES_TRBCHP_315-05-PBMC-DNA.txt     </td><td>CHP_315-05-PBMC-DNA</td><td> 16011</td><td>CHP_315</td></tr>\n",
       "\t<tr><th scope=row>2</th><td>batch_reseq_24Feb2020/mixcr/clones/CLONES_TRBCHP_350-01-PBMC-DNA.txt</td><td>CHP_350-01-PBMC-DNA</td><td> 85631</td><td>CHP_350</td></tr>\n",
       "\t<tr><th scope=row>3</th><td>batch_reseq_24Feb2020/mixcr/clones/CLONES_TRBCHP_350-02-PBMC-DNA.txt</td><td>CHP_350-02-PBMC-DNA</td><td>143632</td><td>CHP_350</td></tr>\n",
       "\t<tr><th scope=row>4</th><td>batch_reseq_24Feb2020/mixcr/clones/CLONES_TRBCHP_350-03-PBMC-DNA.txt</td><td>CHP_350-03-PBMC-DNA</td><td>107190</td><td>CHP_350</td></tr>\n",
       "\t<tr><th scope=row>5</th><td>batch_reseq_24Feb2020/mixcr/clones/CLONES_TRBCHP_350-04-PBMC-DNA.txt</td><td>CHP_350-04-PBMC-DNA</td><td> 54188</td><td>CHP_350</td></tr>\n",
       "\t<tr><th scope=row>6</th><td>batch_reseq_24Feb2020/mixcr/clones/CLONES_TRBCHP_353-02-PBMC-DNA.txt</td><td>CHP_353-02-PBMC-DNA</td><td>  9062</td><td>CHP_353</td></tr>\n",
       "</tbody>\n",
       "</table>\n"
      ],
      "text/latex": [
       "A data.frame: 6 × 4\n",
       "\\begin{tabular}{r|llll}\n",
       "  & file\\_list & samplename & size & patient\\\\\n",
       "  & <chr> & <chr> & <dbl> & <chr>\\\\\n",
       "\\hline\n",
       "\t264 & batch4\\_19Aug2019/mixcr/clones/CLONES\\_TRBCHP\\_315-05-PBMC-DNA.txt      & CHP\\_315-05-PBMC-DNA &  16011 & CHP\\_315\\\\\n",
       "\t2 & batch\\_reseq\\_24Feb2020/mixcr/clones/CLONES\\_TRBCHP\\_350-01-PBMC-DNA.txt & CHP\\_350-01-PBMC-DNA &  85631 & CHP\\_350\\\\\n",
       "\t3 & batch\\_reseq\\_24Feb2020/mixcr/clones/CLONES\\_TRBCHP\\_350-02-PBMC-DNA.txt & CHP\\_350-02-PBMC-DNA & 143632 & CHP\\_350\\\\\n",
       "\t4 & batch\\_reseq\\_24Feb2020/mixcr/clones/CLONES\\_TRBCHP\\_350-03-PBMC-DNA.txt & CHP\\_350-03-PBMC-DNA & 107190 & CHP\\_350\\\\\n",
       "\t5 & batch\\_reseq\\_24Feb2020/mixcr/clones/CLONES\\_TRBCHP\\_350-04-PBMC-DNA.txt & CHP\\_350-04-PBMC-DNA &  54188 & CHP\\_350\\\\\n",
       "\t6 & batch\\_reseq\\_24Feb2020/mixcr/clones/CLONES\\_TRBCHP\\_353-02-PBMC-DNA.txt & CHP\\_353-02-PBMC-DNA &   9062 & CHP\\_353\\\\\n",
       "\\end{tabular}\n"
      ],
      "text/markdown": [
       "\n",
       "A data.frame: 6 × 4\n",
       "\n",
       "| <!--/--> | file_list &lt;chr&gt; | samplename &lt;chr&gt; | size &lt;dbl&gt; | patient &lt;chr&gt; |\n",
       "|---|---|---|---|---|\n",
       "| 264 | batch4_19Aug2019/mixcr/clones/CLONES_TRBCHP_315-05-PBMC-DNA.txt      | CHP_315-05-PBMC-DNA |  16011 | CHP_315 |\n",
       "| 2 | batch_reseq_24Feb2020/mixcr/clones/CLONES_TRBCHP_350-01-PBMC-DNA.txt | CHP_350-01-PBMC-DNA |  85631 | CHP_350 |\n",
       "| 3 | batch_reseq_24Feb2020/mixcr/clones/CLONES_TRBCHP_350-02-PBMC-DNA.txt | CHP_350-02-PBMC-DNA | 143632 | CHP_350 |\n",
       "| 4 | batch_reseq_24Feb2020/mixcr/clones/CLONES_TRBCHP_350-03-PBMC-DNA.txt | CHP_350-03-PBMC-DNA | 107190 | CHP_350 |\n",
       "| 5 | batch_reseq_24Feb2020/mixcr/clones/CLONES_TRBCHP_350-04-PBMC-DNA.txt | CHP_350-04-PBMC-DNA |  54188 | CHP_350 |\n",
       "| 6 | batch_reseq_24Feb2020/mixcr/clones/CLONES_TRBCHP_353-02-PBMC-DNA.txt | CHP_353-02-PBMC-DNA |   9062 | CHP_353 |\n",
       "\n"
      ],
      "text/plain": [
       "    file_list                                                           \n",
       "264 batch4_19Aug2019/mixcr/clones/CLONES_TRBCHP_315-05-PBMC-DNA.txt     \n",
       "2   batch_reseq_24Feb2020/mixcr/clones/CLONES_TRBCHP_350-01-PBMC-DNA.txt\n",
       "3   batch_reseq_24Feb2020/mixcr/clones/CLONES_TRBCHP_350-02-PBMC-DNA.txt\n",
       "4   batch_reseq_24Feb2020/mixcr/clones/CLONES_TRBCHP_350-03-PBMC-DNA.txt\n",
       "5   batch_reseq_24Feb2020/mixcr/clones/CLONES_TRBCHP_350-04-PBMC-DNA.txt\n",
       "6   batch_reseq_24Feb2020/mixcr/clones/CLONES_TRBCHP_353-02-PBMC-DNA.txt\n",
       "    samplename          size   patient\n",
       "264 CHP_315-05-PBMC-DNA  16011 CHP_315\n",
       "2   CHP_350-01-PBMC-DNA  85631 CHP_350\n",
       "3   CHP_350-02-PBMC-DNA 143632 CHP_350\n",
       "4   CHP_350-03-PBMC-DNA 107190 CHP_350\n",
       "5   CHP_350-04-PBMC-DNA  54188 CHP_350\n",
       "6   CHP_353-02-PBMC-DNA   9062 CHP_353"
      ]
     },
     "metadata": {},
     "output_type": "display_data"
    }
   ],
   "source": [
    "head(file_df_dedup_trb)"
   ]
  },
  {
   "cell_type": "code",
   "execution_count": 11,
   "metadata": {},
   "outputs": [],
   "source": [
    "taball_list <- list()\n",
    "\n",
    "for(p in unique(file_df_dedup_trb$patient)){\n",
    "    \n",
    "    mypatient <- file_df_dedup_trb[ file_df_dedup_trb$patient == p,]\n",
    "    \n",
    "    myplist <- list()\n",
    "    for(i in 1:nrow(mypatient)){\n",
    "        onefle <- read.table(paste0(h4hpath, mypatient$file_list[i]), sep = \"\\t\", header = TRUE, stringsAsFactors = F)  \n",
    "        # Remove non-productive\n",
    "        onefle <- onefle[!grepl(\"_\", onefle$aaSeqCDR3),]\n",
    "        onefle <- onefle[!grepl(\"[*]\", onefle$aaSeqCDR3),]\n",
    "        onefle$CDR3b <- onefle$aaSeqCDR3\n",
    "        #next if the file has no productive cdr3\n",
    "        if(nrow(onefle) == 0){ next}\n",
    "        #remove scores\n",
    "        onefle$TRBV <- gsub(\"[*]0.*\", \"\", onefle$allVHitsWithScore)\n",
    "        onefle$TRBJ <- gsub(\"[*]0.*\", \"\", onefle$allJHitsWithScore)\n",
    "        #remove extra long cdr3s\n",
    "        onefle <- onefle[ nchar(onefle$aaSeqCDR3) <= 25,]\n",
    "        #next if the file has no productive cdr3\n",
    "        if(nrow(onefle) == 0){ next}\n",
    "        onefle$count <- onefle$cloneCount\n",
    "        onefle$clonefraction <- onefle$cloneFraction\n",
    "        onefle$file <- paste0(h4hpath, mypatient$file_list[i])\n",
    "        onefle$samplename <- mypatient$samplename[i]\n",
    "    \n",
    "        onefle1 <- toString_onefle.fx(onefle, \"nSeqCDR3\")\n",
    "    \n",
    "        myplist[length(myplist) + 1] <- list(onefle1[,c(\"CDR3b\", \"TRBV\", \"TRBJ\", \"samplename\", \n",
    "                                                     \"count.y\", \"clonefraction\",\"tostringvar\", \"file\")])\n",
    "    }\n",
    "    gliph_input <- do.call(\"rbind\", myplist)\n",
    "\n",
    "    colnames(gliph_input)[ colnames(gliph_input) == \"tostringvar\"] <- \"nSeqCDR3\"\n",
    "    colnames(gliph_input)[ colnames(gliph_input) == \"count.y\"] <- \"count\"\n",
    "\n",
    "    #bind those with the same cdr3 + TRBV\n",
    "    setDT(gliph_input)\n",
    "\n",
    "    ab <- gliph_input[, .(subject = toString(samplename), #bind subjects\n",
    "                          file = toString(file), #bind filenames\n",
    "                          count = sum(count)),  #get sum of counts\n",
    "                      by = c(\"CDR3b\", \"TRBV\", \"TRBJ\")] #get duplicates sequences with the same cdr3 + TRBV + TRBJ\n",
    "\n",
    "    gliph_input_ab <- merge(gliph_input, ab, by = c(\"CDR3b\",\"TRBV\",\"TRBJ\")) # merge together\n",
    "\n",
    "    #dedup\n",
    "    gliph_input_ab_dedup <- dplyr::distinct(gliph_input_ab, CDR3b, TRBV, TRBJ, subject, .keep_all= TRUE)\n",
    "\n",
    "\n",
    "    taball_list[length(taball_list) + 1] <- list(gliph_input_ab_dedup[,c(\"CDR3b\", \"TRBV\", \"TRBJ\", \"subject\", \n",
    "                                                     \"count.y\", \"clonefraction\",\"file.y\")])\n",
    "\n",
    "    }"
   ]
  },
  {
   "cell_type": "code",
   "execution_count": 12,
   "metadata": {},
   "outputs": [],
   "source": [
    "taball <- do.call(\"rbind\", taball_list)"
   ]
  },
  {
   "cell_type": "code",
   "execution_count": 13,
   "metadata": {},
   "outputs": [],
   "source": [
    "#some cleanup\n",
    "taball$`subject:condition` <- substr(taball$subject, 1, 7)\n",
    "colnames(taball)[ colnames(taball) == \"count.y\"] <- \"count\"\n",
    "colnames(taball)[ colnames(taball) == \"file.y\"] <- \"file\""
   ]
  },
  {
   "cell_type": "code",
   "execution_count": 14,
   "metadata": {},
   "outputs": [
    {
     "data": {
      "text/html": [
       "<table class=\"dataframe\">\n",
       "<caption>A data.table: 6 × 8</caption>\n",
       "<thead>\n",
       "\t<tr><th scope=col>CDR3b</th><th scope=col>TRBV</th><th scope=col>TRBJ</th><th scope=col>subject</th><th scope=col>count</th><th scope=col>clonefraction</th><th scope=col>file</th><th scope=col>subject:condition</th></tr>\n",
       "\t<tr><th scope=col>&lt;chr&gt;</th><th scope=col>&lt;chr&gt;</th><th scope=col>&lt;chr&gt;</th><th scope=col>&lt;chr&gt;</th><th scope=col>&lt;int&gt;</th><th scope=col>&lt;dbl&gt;</th><th scope=col>&lt;chr&gt;</th><th scope=col>&lt;chr&gt;</th></tr>\n",
       "</thead>\n",
       "<tbody>\n",
       "\t<tr><td>CAIRDPEQGITDTQYF </td><td>TRBV10-3</td><td>TRBJ2-3</td><td>CHP_315-05-PBMC-DNA</td><td>24</td><td>0.025369979</td><td>/Users/anabbi/Desktop/H4H/INTERCEPT/NextSeq/batch4_19Aug2019/mixcr/clones/CLONES_TRBCHP_315-05-PBMC-DNA.txt</td><td>CHP_315</td></tr>\n",
       "\t<tr><td>CAIRGTGADQPQHF   </td><td>TRBV10-3</td><td>TRBJ1-5</td><td>CHP_315-05-PBMC-DNA</td><td>21</td><td>0.022198732</td><td>/Users/anabbi/Desktop/H4H/INTERCEPT/NextSeq/batch4_19Aug2019/mixcr/clones/CLONES_TRBCHP_315-05-PBMC-DNA.txt</td><td>CHP_315</td></tr>\n",
       "\t<tr><td>CAISGVWGGDTQYF   </td><td>TRBV10-3</td><td>TRBJ2-3</td><td>CHP_315-05-PBMC-DNA</td><td>12</td><td>0.012684989</td><td>/Users/anabbi/Desktop/H4H/INTERCEPT/NextSeq/batch4_19Aug2019/mixcr/clones/CLONES_TRBCHP_315-05-PBMC-DNA.txt</td><td>CHP_315</td></tr>\n",
       "\t<tr><td>CASRLAGTGSPLHF   </td><td>TRBV6-1 </td><td>TRBJ1-6</td><td>CHP_315-05-PBMC-DNA</td><td> 2</td><td>0.002114165</td><td>/Users/anabbi/Desktop/H4H/INTERCEPT/NextSeq/batch4_19Aug2019/mixcr/clones/CLONES_TRBCHP_315-05-PBMC-DNA.txt</td><td>CHP_315</td></tr>\n",
       "\t<tr><td>CASSDPQGTEAFF    </td><td>TRBV6-2 </td><td>TRBJ1-1</td><td>CHP_315-05-PBMC-DNA</td><td>21</td><td>0.022198732</td><td>/Users/anabbi/Desktop/H4H/INTERCEPT/NextSeq/batch4_19Aug2019/mixcr/clones/CLONES_TRBCHP_315-05-PBMC-DNA.txt</td><td>CHP_315</td></tr>\n",
       "\t<tr><td>CASSEEPGTSGYNEQFF</td><td>TRBV2   </td><td>TRBJ2-1</td><td>CHP_315-05-PBMC-DNA</td><td> 6</td><td>0.006342495</td><td>/Users/anabbi/Desktop/H4H/INTERCEPT/NextSeq/batch4_19Aug2019/mixcr/clones/CLONES_TRBCHP_315-05-PBMC-DNA.txt</td><td>CHP_315</td></tr>\n",
       "</tbody>\n",
       "</table>\n"
      ],
      "text/latex": [
       "A data.table: 6 × 8\n",
       "\\begin{tabular}{llllllll}\n",
       " CDR3b & TRBV & TRBJ & subject & count & clonefraction & file & subject:condition\\\\\n",
       " <chr> & <chr> & <chr> & <chr> & <int> & <dbl> & <chr> & <chr>\\\\\n",
       "\\hline\n",
       "\t CAIRDPEQGITDTQYF  & TRBV10-3 & TRBJ2-3 & CHP\\_315-05-PBMC-DNA & 24 & 0.025369979 & /Users/anabbi/Desktop/H4H/INTERCEPT/NextSeq/batch4\\_19Aug2019/mixcr/clones/CLONES\\_TRBCHP\\_315-05-PBMC-DNA.txt & CHP\\_315\\\\\n",
       "\t CAIRGTGADQPQHF    & TRBV10-3 & TRBJ1-5 & CHP\\_315-05-PBMC-DNA & 21 & 0.022198732 & /Users/anabbi/Desktop/H4H/INTERCEPT/NextSeq/batch4\\_19Aug2019/mixcr/clones/CLONES\\_TRBCHP\\_315-05-PBMC-DNA.txt & CHP\\_315\\\\\n",
       "\t CAISGVWGGDTQYF    & TRBV10-3 & TRBJ2-3 & CHP\\_315-05-PBMC-DNA & 12 & 0.012684989 & /Users/anabbi/Desktop/H4H/INTERCEPT/NextSeq/batch4\\_19Aug2019/mixcr/clones/CLONES\\_TRBCHP\\_315-05-PBMC-DNA.txt & CHP\\_315\\\\\n",
       "\t CASRLAGTGSPLHF    & TRBV6-1  & TRBJ1-6 & CHP\\_315-05-PBMC-DNA &  2 & 0.002114165 & /Users/anabbi/Desktop/H4H/INTERCEPT/NextSeq/batch4\\_19Aug2019/mixcr/clones/CLONES\\_TRBCHP\\_315-05-PBMC-DNA.txt & CHP\\_315\\\\\n",
       "\t CASSDPQGTEAFF     & TRBV6-2  & TRBJ1-1 & CHP\\_315-05-PBMC-DNA & 21 & 0.022198732 & /Users/anabbi/Desktop/H4H/INTERCEPT/NextSeq/batch4\\_19Aug2019/mixcr/clones/CLONES\\_TRBCHP\\_315-05-PBMC-DNA.txt & CHP\\_315\\\\\n",
       "\t CASSEEPGTSGYNEQFF & TRBV2    & TRBJ2-1 & CHP\\_315-05-PBMC-DNA &  6 & 0.006342495 & /Users/anabbi/Desktop/H4H/INTERCEPT/NextSeq/batch4\\_19Aug2019/mixcr/clones/CLONES\\_TRBCHP\\_315-05-PBMC-DNA.txt & CHP\\_315\\\\\n",
       "\\end{tabular}\n"
      ],
      "text/markdown": [
       "\n",
       "A data.table: 6 × 8\n",
       "\n",
       "| CDR3b &lt;chr&gt; | TRBV &lt;chr&gt; | TRBJ &lt;chr&gt; | subject &lt;chr&gt; | count &lt;int&gt; | clonefraction &lt;dbl&gt; | file &lt;chr&gt; | subject:condition &lt;chr&gt; |\n",
       "|---|---|---|---|---|---|---|---|\n",
       "| CAIRDPEQGITDTQYF  | TRBV10-3 | TRBJ2-3 | CHP_315-05-PBMC-DNA | 24 | 0.025369979 | /Users/anabbi/Desktop/H4H/INTERCEPT/NextSeq/batch4_19Aug2019/mixcr/clones/CLONES_TRBCHP_315-05-PBMC-DNA.txt | CHP_315 |\n",
       "| CAIRGTGADQPQHF    | TRBV10-3 | TRBJ1-5 | CHP_315-05-PBMC-DNA | 21 | 0.022198732 | /Users/anabbi/Desktop/H4H/INTERCEPT/NextSeq/batch4_19Aug2019/mixcr/clones/CLONES_TRBCHP_315-05-PBMC-DNA.txt | CHP_315 |\n",
       "| CAISGVWGGDTQYF    | TRBV10-3 | TRBJ2-3 | CHP_315-05-PBMC-DNA | 12 | 0.012684989 | /Users/anabbi/Desktop/H4H/INTERCEPT/NextSeq/batch4_19Aug2019/mixcr/clones/CLONES_TRBCHP_315-05-PBMC-DNA.txt | CHP_315 |\n",
       "| CASRLAGTGSPLHF    | TRBV6-1  | TRBJ1-6 | CHP_315-05-PBMC-DNA |  2 | 0.002114165 | /Users/anabbi/Desktop/H4H/INTERCEPT/NextSeq/batch4_19Aug2019/mixcr/clones/CLONES_TRBCHP_315-05-PBMC-DNA.txt | CHP_315 |\n",
       "| CASSDPQGTEAFF     | TRBV6-2  | TRBJ1-1 | CHP_315-05-PBMC-DNA | 21 | 0.022198732 | /Users/anabbi/Desktop/H4H/INTERCEPT/NextSeq/batch4_19Aug2019/mixcr/clones/CLONES_TRBCHP_315-05-PBMC-DNA.txt | CHP_315 |\n",
       "| CASSEEPGTSGYNEQFF | TRBV2    | TRBJ2-1 | CHP_315-05-PBMC-DNA |  6 | 0.006342495 | /Users/anabbi/Desktop/H4H/INTERCEPT/NextSeq/batch4_19Aug2019/mixcr/clones/CLONES_TRBCHP_315-05-PBMC-DNA.txt | CHP_315 |\n",
       "\n"
      ],
      "text/plain": [
       "  CDR3b             TRBV     TRBJ    subject             count clonefraction\n",
       "1 CAIRDPEQGITDTQYF  TRBV10-3 TRBJ2-3 CHP_315-05-PBMC-DNA 24    0.025369979  \n",
       "2 CAIRGTGADQPQHF    TRBV10-3 TRBJ1-5 CHP_315-05-PBMC-DNA 21    0.022198732  \n",
       "3 CAISGVWGGDTQYF    TRBV10-3 TRBJ2-3 CHP_315-05-PBMC-DNA 12    0.012684989  \n",
       "4 CASRLAGTGSPLHF    TRBV6-1  TRBJ1-6 CHP_315-05-PBMC-DNA  2    0.002114165  \n",
       "5 CASSDPQGTEAFF     TRBV6-2  TRBJ1-1 CHP_315-05-PBMC-DNA 21    0.022198732  \n",
       "6 CASSEEPGTSGYNEQFF TRBV2    TRBJ2-1 CHP_315-05-PBMC-DNA  6    0.006342495  \n",
       "  file                                                                                                       \n",
       "1 /Users/anabbi/Desktop/H4H/INTERCEPT/NextSeq/batch4_19Aug2019/mixcr/clones/CLONES_TRBCHP_315-05-PBMC-DNA.txt\n",
       "2 /Users/anabbi/Desktop/H4H/INTERCEPT/NextSeq/batch4_19Aug2019/mixcr/clones/CLONES_TRBCHP_315-05-PBMC-DNA.txt\n",
       "3 /Users/anabbi/Desktop/H4H/INTERCEPT/NextSeq/batch4_19Aug2019/mixcr/clones/CLONES_TRBCHP_315-05-PBMC-DNA.txt\n",
       "4 /Users/anabbi/Desktop/H4H/INTERCEPT/NextSeq/batch4_19Aug2019/mixcr/clones/CLONES_TRBCHP_315-05-PBMC-DNA.txt\n",
       "5 /Users/anabbi/Desktop/H4H/INTERCEPT/NextSeq/batch4_19Aug2019/mixcr/clones/CLONES_TRBCHP_315-05-PBMC-DNA.txt\n",
       "6 /Users/anabbi/Desktop/H4H/INTERCEPT/NextSeq/batch4_19Aug2019/mixcr/clones/CLONES_TRBCHP_315-05-PBMC-DNA.txt\n",
       "  subject:condition\n",
       "1 CHP_315          \n",
       "2 CHP_315          \n",
       "3 CHP_315          \n",
       "4 CHP_315          \n",
       "5 CHP_315          \n",
       "6 CHP_315          "
      ]
     },
     "metadata": {},
     "output_type": "display_data"
    }
   ],
   "source": [
    "head(taball)"
   ]
  },
  {
   "cell_type": "code",
   "execution_count": 15,
   "metadata": {},
   "outputs": [],
   "source": [
    "taball <- taball[,c(1,2,3,8,5,6,4,7)]"
   ]
  },
  {
   "cell_type": "code",
   "execution_count": 71,
   "metadata": {},
   "outputs": [],
   "source": [
    "taball$index <- 1:nrow(taball)"
   ]
  },
  {
   "cell_type": "code",
   "execution_count": 72,
   "metadata": {},
   "outputs": [],
   "source": [
    "save(taball, file = paste0(datapath, \"capTCRseq/INT_gliph_input.RData\"))"
   ]
  },
  {
   "cell_type": "markdown",
   "metadata": {},
   "source": [
    "## Cleanup Adaptive data"
   ]
  },
  {
   "cell_type": "code",
   "execution_count": null,
   "metadata": {},
   "outputs": [],
   "source": [
    "emerson <- read.table('/Users/anabbi/Desktop/H4H/pughlab/external_data/Adaptive/emerson2017/P00001.tsv',\n",
    "                       sep = \"\\t\", header = F)"
   ]
  },
  {
   "cell_type": "code",
   "execution_count": 23,
   "metadata": {},
   "outputs": [
    {
     "data": {
      "text/html": [
       "<style>\n",
       ".list-inline {list-style: none; margin:0; padding: 0}\n",
       ".list-inline>li {display: inline-block}\n",
       ".list-inline>li:not(:last-child)::after {content: \"\\00b7\"; padding: 0 .5ex}\n",
       "</style>\n",
       "<ol class=list-inline><li>162651</li><li>6</li></ol>\n"
      ],
      "text/latex": [
       "\\begin{enumerate*}\n",
       "\\item 162651\n",
       "\\item 6\n",
       "\\end{enumerate*}\n"
      ],
      "text/markdown": [
       "1. 162651\n",
       "2. 6\n",
       "\n",
       "\n"
      ],
      "text/plain": [
       "[1] 162651      6"
      ]
     },
     "metadata": {},
     "output_type": "display_data"
    }
   ],
   "source": [
    "dim(covidfle)"
   ]
  },
  {
   "cell_type": "code",
   "execution_count": 24,
   "metadata": {},
   "outputs": [],
   "source": [
    "#remove unproductive\n",
    "covidfle <- covidfle[!grepl(\"[*]\", covidfle$V1),]\n",
    "covidfle <- covidfle[ covidfle$V1 != \"unproductive\",]"
   ]
  },
  {
   "cell_type": "code",
   "execution_count": 25,
   "metadata": {},
   "outputs": [
    {
     "data": {
      "text/html": [
       "<style>\n",
       ".list-inline {list-style: none; margin:0; padding: 0}\n",
       ".list-inline>li {display: inline-block}\n",
       ".list-inline>li:not(:last-child)::after {content: \"\\00b7\"; padding: 0 .5ex}\n",
       "</style>\n",
       "<ol class=list-inline><li>160130</li><li>6</li></ol>\n"
      ],
      "text/latex": [
       "\\begin{enumerate*}\n",
       "\\item 160130\n",
       "\\item 6\n",
       "\\end{enumerate*}\n"
      ],
      "text/markdown": [
       "1. 160130\n",
       "2. 6\n",
       "\n",
       "\n"
      ],
      "text/plain": [
       "[1] 160130      6"
      ]
     },
     "metadata": {},
     "output_type": "display_data"
    }
   ],
   "source": [
    "dim(covidfle)"
   ]
  },
  {
   "cell_type": "code",
   "execution_count": 26,
   "metadata": {},
   "outputs": [],
   "source": [
    "#remove duplicated entries\n",
    "covidfle_uniq <- unique(covidfle)"
   ]
  },
  {
   "cell_type": "code",
   "execution_count": 27,
   "metadata": {},
   "outputs": [
    {
     "data": {
      "text/html": [
       "<style>\n",
       ".list-inline {list-style: none; margin:0; padding: 0}\n",
       ".list-inline>li {display: inline-block}\n",
       ".list-inline>li:not(:last-child)::after {content: \"\\00b7\"; padding: 0 .5ex}\n",
       "</style>\n",
       "<ol class=list-inline><li>156033</li><li>6</li></ol>\n"
      ],
      "text/latex": [
       "\\begin{enumerate*}\n",
       "\\item 156033\n",
       "\\item 6\n",
       "\\end{enumerate*}\n"
      ],
      "text/markdown": [
       "1. 156033\n",
       "2. 6\n",
       "\n",
       "\n"
      ],
      "text/plain": [
       "[1] 156033      6"
      ]
     },
     "metadata": {},
     "output_type": "display_data"
    }
   ],
   "source": [
    "dim(covidfle_uniq)"
   ]
  },
  {
   "cell_type": "code",
   "execution_count": 28,
   "metadata": {},
   "outputs": [],
   "source": [
    "covidfle_uniq$V4 <- NULL"
   ]
  },
  {
   "cell_type": "code",
   "execution_count": 29,
   "metadata": {},
   "outputs": [
    {
     "data": {
      "text/html": [
       "<table class=\"dataframe\">\n",
       "<caption>A data.frame: 6 × 5</caption>\n",
       "<thead>\n",
       "\t<tr><th></th><th scope=col>V1</th><th scope=col>V2</th><th scope=col>V3</th><th scope=col>V5</th><th scope=col>V6</th></tr>\n",
       "\t<tr><th></th><th scope=col>&lt;chr&gt;</th><th scope=col>&lt;chr&gt;</th><th scope=col>&lt;chr&gt;</th><th scope=col>&lt;chr&gt;</th><th scope=col>&lt;int&gt;</th></tr>\n",
       "</thead>\n",
       "<tbody>\n",
       "\t<tr><th scope=row>1</th><td>CASGRHNSPLHF   </td><td>TCRBV12-03/12-04</td><td>TCRBJ01-06</td><td>eJL143</td><td>1</td></tr>\n",
       "\t<tr><th scope=row>2</th><td>CASRPAGVRNEQFF </td><td>TCRBV06-06      </td><td>TCRBJ02-01</td><td>eJL146</td><td>1</td></tr>\n",
       "\t<tr><th scope=row>3</th><td>CSASPRTLWGEQFF </td><td>TCRBV20-X       </td><td>TCRBJ02-01</td><td>eJL146</td><td>1</td></tr>\n",
       "\t<tr><th scope=row>4</th><td>CASSLVTSVKDTQYF</td><td>TCRBV05-01      </td><td>TCRBJ02-03</td><td>eJL146</td><td>1</td></tr>\n",
       "\t<tr><th scope=row>5</th><td>CASSAIVAVYGYTF </td><td>TCRBV07-08      </td><td>TCRBJ01-02</td><td>eJL146</td><td>1</td></tr>\n",
       "\t<tr><th scope=row>6</th><td>CSVYSAGELFF    </td><td>TCRBV29-01      </td><td>TCRBJ02-02</td><td>eJL146</td><td>1</td></tr>\n",
       "</tbody>\n",
       "</table>\n"
      ],
      "text/latex": [
       "A data.frame: 6 × 5\n",
       "\\begin{tabular}{r|lllll}\n",
       "  & V1 & V2 & V3 & V5 & V6\\\\\n",
       "  & <chr> & <chr> & <chr> & <chr> & <int>\\\\\n",
       "\\hline\n",
       "\t1 & CASGRHNSPLHF    & TCRBV12-03/12-04 & TCRBJ01-06 & eJL143 & 1\\\\\n",
       "\t2 & CASRPAGVRNEQFF  & TCRBV06-06       & TCRBJ02-01 & eJL146 & 1\\\\\n",
       "\t3 & CSASPRTLWGEQFF  & TCRBV20-X        & TCRBJ02-01 & eJL146 & 1\\\\\n",
       "\t4 & CASSLVTSVKDTQYF & TCRBV05-01       & TCRBJ02-03 & eJL146 & 1\\\\\n",
       "\t5 & CASSAIVAVYGYTF  & TCRBV07-08       & TCRBJ01-02 & eJL146 & 1\\\\\n",
       "\t6 & CSVYSAGELFF     & TCRBV29-01       & TCRBJ02-02 & eJL146 & 1\\\\\n",
       "\\end{tabular}\n"
      ],
      "text/markdown": [
       "\n",
       "A data.frame: 6 × 5\n",
       "\n",
       "| <!--/--> | V1 &lt;chr&gt; | V2 &lt;chr&gt; | V3 &lt;chr&gt; | V5 &lt;chr&gt; | V6 &lt;int&gt; |\n",
       "|---|---|---|---|---|---|\n",
       "| 1 | CASGRHNSPLHF    | TCRBV12-03/12-04 | TCRBJ01-06 | eJL143 | 1 |\n",
       "| 2 | CASRPAGVRNEQFF  | TCRBV06-06       | TCRBJ02-01 | eJL146 | 1 |\n",
       "| 3 | CSASPRTLWGEQFF  | TCRBV20-X        | TCRBJ02-01 | eJL146 | 1 |\n",
       "| 4 | CASSLVTSVKDTQYF | TCRBV05-01       | TCRBJ02-03 | eJL146 | 1 |\n",
       "| 5 | CASSAIVAVYGYTF  | TCRBV07-08       | TCRBJ01-02 | eJL146 | 1 |\n",
       "| 6 | CSVYSAGELFF     | TCRBV29-01       | TCRBJ02-02 | eJL146 | 1 |\n",
       "\n"
      ],
      "text/plain": [
       "  V1              V2               V3         V5     V6\n",
       "1 CASGRHNSPLHF    TCRBV12-03/12-04 TCRBJ01-06 eJL143 1 \n",
       "2 CASRPAGVRNEQFF  TCRBV06-06       TCRBJ02-01 eJL146 1 \n",
       "3 CSASPRTLWGEQFF  TCRBV20-X        TCRBJ02-01 eJL146 1 \n",
       "4 CASSLVTSVKDTQYF TCRBV05-01       TCRBJ02-03 eJL146 1 \n",
       "5 CASSAIVAVYGYTF  TCRBV07-08       TCRBJ01-02 eJL146 1 \n",
       "6 CSVYSAGELFF     TCRBV29-01       TCRBJ02-02 eJL146 1 "
      ]
     },
     "metadata": {},
     "output_type": "display_data"
    }
   ],
   "source": [
    "head(covidfle_uniq)"
   ]
  },
  {
   "cell_type": "code",
   "execution_count": 30,
   "metadata": {},
   "outputs": [],
   "source": [
    "colnames(covidfle_uniq) <- c(\"CDR3b\", \"TRBV\", \"TRBJ\", \"subject:condition\", \"count\")"
   ]
  },
  {
   "cell_type": "code",
   "execution_count": 31,
   "metadata": {},
   "outputs": [
    {
     "data": {
      "text/html": [
       "<style>\n",
       ".list-inline {list-style: none; margin:0; padding: 0}\n",
       ".list-inline>li {display: inline-block}\n",
       ".list-inline>li:not(:last-child)::after {content: \"\\00b7\"; padding: 0 .5ex}\n",
       "</style>\n",
       "<ol class=list-inline><li>'CDR3b'</li><li>'TRBV'</li><li>'TRBJ'</li><li>'subject:condition'</li><li>'count'</li></ol>\n"
      ],
      "text/latex": [
       "\\begin{enumerate*}\n",
       "\\item 'CDR3b'\n",
       "\\item 'TRBV'\n",
       "\\item 'TRBJ'\n",
       "\\item 'subject:condition'\n",
       "\\item 'count'\n",
       "\\end{enumerate*}\n"
      ],
      "text/markdown": [
       "1. 'CDR3b'\n",
       "2. 'TRBV'\n",
       "3. 'TRBJ'\n",
       "4. 'subject:condition'\n",
       "5. 'count'\n",
       "\n",
       "\n"
      ],
      "text/plain": [
       "[1] \"CDR3b\"             \"TRBV\"              \"TRBJ\"             \n",
       "[4] \"subject:condition\" \"count\"            "
      ]
     },
     "metadata": {},
     "output_type": "display_data"
    }
   ],
   "source": [
    "colnames(covidfle_uniq)"
   ]
  },
  {
   "cell_type": "code",
   "execution_count": 32,
   "metadata": {},
   "outputs": [],
   "source": [
    "#bind those with the same cdr3 + TRBV + TRBJ\n",
    "setDT(covidfle_uniq)\n",
    "\n",
    "ab <- covidfle_uniq[, .(subject = toString(`subject:condition`), #bind subjects\n",
    "                        count = sum(count)),  #get sum of counts\n",
    "                    by = c(\"CDR3b\", \"TRBV\", \"TRBJ\")] #get duplicates sequences with the same cdr3 + TRBV + TRBJ\n",
    "\n",
    "covidfle_uniq_ab <- merge(covidfle_uniq, ab, by = c(\"CDR3b\",\"TRBV\",\"TRBJ\")) # merge together"
   ]
  },
  {
   "cell_type": "code",
   "execution_count": 33,
   "metadata": {},
   "outputs": [
    {
     "data": {
      "text/html": [
       "<style>\n",
       ".list-inline {list-style: none; margin:0; padding: 0}\n",
       ".list-inline>li {display: inline-block}\n",
       ".list-inline>li:not(:last-child)::after {content: \"\\00b7\"; padding: 0 .5ex}\n",
       "</style>\n",
       "<ol class=list-inline><li>156033</li><li>7</li></ol>\n"
      ],
      "text/latex": [
       "\\begin{enumerate*}\n",
       "\\item 156033\n",
       "\\item 7\n",
       "\\end{enumerate*}\n"
      ],
      "text/markdown": [
       "1. 156033\n",
       "2. 7\n",
       "\n",
       "\n"
      ],
      "text/plain": [
       "[1] 156033      7"
      ]
     },
     "metadata": {},
     "output_type": "display_data"
    }
   ],
   "source": [
    "dim(covidfle_uniq_ab)"
   ]
  },
  {
   "cell_type": "code",
   "execution_count": 34,
   "metadata": {},
   "outputs": [
    {
     "data": {
      "text/html": [
       "<style>\n",
       ".list-inline {list-style: none; margin:0; padding: 0}\n",
       ".list-inline>li {display: inline-block}\n",
       ".list-inline>li:not(:last-child)::after {content: \"\\00b7\"; padding: 0 .5ex}\n",
       "</style>\n",
       "<ol class=list-inline><li>'CDR3b'</li><li>'TRBV'</li><li>'TRBJ'</li><li>'subject:condition'</li><li>'count.x'</li><li>'subject'</li><li>'count.y'</li></ol>\n"
      ],
      "text/latex": [
       "\\begin{enumerate*}\n",
       "\\item 'CDR3b'\n",
       "\\item 'TRBV'\n",
       "\\item 'TRBJ'\n",
       "\\item 'subject:condition'\n",
       "\\item 'count.x'\n",
       "\\item 'subject'\n",
       "\\item 'count.y'\n",
       "\\end{enumerate*}\n"
      ],
      "text/markdown": [
       "1. 'CDR3b'\n",
       "2. 'TRBV'\n",
       "3. 'TRBJ'\n",
       "4. 'subject:condition'\n",
       "5. 'count.x'\n",
       "6. 'subject'\n",
       "7. 'count.y'\n",
       "\n",
       "\n"
      ],
      "text/plain": [
       "[1] \"CDR3b\"             \"TRBV\"              \"TRBJ\"             \n",
       "[4] \"subject:condition\" \"count.x\"           \"subject\"          \n",
       "[7] \"count.y\"          "
      ]
     },
     "metadata": {},
     "output_type": "display_data"
    }
   ],
   "source": [
    "colnames(covidfle_uniq_ab)"
   ]
  },
  {
   "cell_type": "code",
   "execution_count": 35,
   "metadata": {},
   "outputs": [],
   "source": [
    "#dedup\n",
    "covidfle_uniq_ab_dedup <- dplyr::distinct(covidfle_uniq_ab, \n",
    "                                          CDR3b, TRBV, TRBJ, subject, .keep_all= TRUE)"
   ]
  },
  {
   "cell_type": "code",
   "execution_count": 36,
   "metadata": {},
   "outputs": [
    {
     "data": {
      "text/html": [
       "<table class=\"dataframe\">\n",
       "<caption>A data.table: 6 × 7</caption>\n",
       "<thead>\n",
       "\t<tr><th scope=col>CDR3b</th><th scope=col>TRBV</th><th scope=col>TRBJ</th><th scope=col>subject:condition</th><th scope=col>count.x</th><th scope=col>subject</th><th scope=col>count.y</th></tr>\n",
       "\t<tr><th scope=col>&lt;chr&gt;</th><th scope=col>&lt;chr&gt;</th><th scope=col>&lt;chr&gt;</th><th scope=col>&lt;chr&gt;</th><th scope=col>&lt;int&gt;</th><th scope=col>&lt;chr&gt;</th><th scope=col>&lt;int&gt;</th></tr>\n",
       "</thead>\n",
       "<tbody>\n",
       "\t<tr><td>AGVKITNSYEQYF   </td><td>TCRBV20-X </td><td>TCRBJ02-07</td><td>eHO134</td><td>1</td><td>eHO134</td><td>1</td></tr>\n",
       "\t<tr><td>AKNIQYF         </td><td>TCRBV27-01</td><td>TCRBJ02-04</td><td>eQD126</td><td>1</td><td>eQD126</td><td>1</td></tr>\n",
       "\t<tr><td>APYASKRAGYDNEQFF</td><td>TCRBV06-X </td><td>TCRBJ02-01</td><td>eHO141</td><td>1</td><td>eHO141</td><td>1</td></tr>\n",
       "\t<tr><td>ARLFSGANVLTF    </td><td>TCRBV07-02</td><td>TCRBJ02-06</td><td>eXL27 </td><td>1</td><td>eXL27 </td><td>1</td></tr>\n",
       "\t<tr><td>CAAAAPDTQYF     </td><td>TCRBV06-X </td><td>TCRBJ02-03</td><td>eOX46 </td><td>1</td><td>eOX46 </td><td>1</td></tr>\n",
       "\t<tr><td>CAAADRMTDTQYF   </td><td>TCRBV24-01</td><td>TCRBJ02-03</td><td>eHO130</td><td>1</td><td>eHO130</td><td>1</td></tr>\n",
       "</tbody>\n",
       "</table>\n"
      ],
      "text/latex": [
       "A data.table: 6 × 7\n",
       "\\begin{tabular}{lllllll}\n",
       " CDR3b & TRBV & TRBJ & subject:condition & count.x & subject & count.y\\\\\n",
       " <chr> & <chr> & <chr> & <chr> & <int> & <chr> & <int>\\\\\n",
       "\\hline\n",
       "\t AGVKITNSYEQYF    & TCRBV20-X  & TCRBJ02-07 & eHO134 & 1 & eHO134 & 1\\\\\n",
       "\t AKNIQYF          & TCRBV27-01 & TCRBJ02-04 & eQD126 & 1 & eQD126 & 1\\\\\n",
       "\t APYASKRAGYDNEQFF & TCRBV06-X  & TCRBJ02-01 & eHO141 & 1 & eHO141 & 1\\\\\n",
       "\t ARLFSGANVLTF     & TCRBV07-02 & TCRBJ02-06 & eXL27  & 1 & eXL27  & 1\\\\\n",
       "\t CAAAAPDTQYF      & TCRBV06-X  & TCRBJ02-03 & eOX46  & 1 & eOX46  & 1\\\\\n",
       "\t CAAADRMTDTQYF    & TCRBV24-01 & TCRBJ02-03 & eHO130 & 1 & eHO130 & 1\\\\\n",
       "\\end{tabular}\n"
      ],
      "text/markdown": [
       "\n",
       "A data.table: 6 × 7\n",
       "\n",
       "| CDR3b &lt;chr&gt; | TRBV &lt;chr&gt; | TRBJ &lt;chr&gt; | subject:condition &lt;chr&gt; | count.x &lt;int&gt; | subject &lt;chr&gt; | count.y &lt;int&gt; |\n",
       "|---|---|---|---|---|---|---|\n",
       "| AGVKITNSYEQYF    | TCRBV20-X  | TCRBJ02-07 | eHO134 | 1 | eHO134 | 1 |\n",
       "| AKNIQYF          | TCRBV27-01 | TCRBJ02-04 | eQD126 | 1 | eQD126 | 1 |\n",
       "| APYASKRAGYDNEQFF | TCRBV06-X  | TCRBJ02-01 | eHO141 | 1 | eHO141 | 1 |\n",
       "| ARLFSGANVLTF     | TCRBV07-02 | TCRBJ02-06 | eXL27  | 1 | eXL27  | 1 |\n",
       "| CAAAAPDTQYF      | TCRBV06-X  | TCRBJ02-03 | eOX46  | 1 | eOX46  | 1 |\n",
       "| CAAADRMTDTQYF    | TCRBV24-01 | TCRBJ02-03 | eHO130 | 1 | eHO130 | 1 |\n",
       "\n"
      ],
      "text/plain": [
       "  CDR3b            TRBV       TRBJ       subject:condition count.x subject\n",
       "1 AGVKITNSYEQYF    TCRBV20-X  TCRBJ02-07 eHO134            1       eHO134 \n",
       "2 AKNIQYF          TCRBV27-01 TCRBJ02-04 eQD126            1       eQD126 \n",
       "3 APYASKRAGYDNEQFF TCRBV06-X  TCRBJ02-01 eHO141            1       eHO141 \n",
       "4 ARLFSGANVLTF     TCRBV07-02 TCRBJ02-06 eXL27             1       eXL27  \n",
       "5 CAAAAPDTQYF      TCRBV06-X  TCRBJ02-03 eOX46             1       eOX46  \n",
       "6 CAAADRMTDTQYF    TCRBV24-01 TCRBJ02-03 eHO130            1       eHO130 \n",
       "  count.y\n",
       "1 1      \n",
       "2 1      \n",
       "3 1      \n",
       "4 1      \n",
       "5 1      \n",
       "6 1      "
      ]
     },
     "metadata": {},
     "output_type": "display_data"
    }
   ],
   "source": [
    "head(covidfle_uniq_ab_dedup)"
   ]
  },
  {
   "cell_type": "code",
   "execution_count": 40,
   "metadata": {},
   "outputs": [
    {
     "data": {
      "text/html": [
       "<style>\n",
       ".list-inline {list-style: none; margin:0; padding: 0}\n",
       ".list-inline>li {display: inline-block}\n",
       ".list-inline>li:not(:last-child)::after {content: \"\\00b7\"; padding: 0 .5ex}\n",
       "</style>\n",
       "<ol class=list-inline><li>148678</li><li>7</li></ol>\n"
      ],
      "text/latex": [
       "\\begin{enumerate*}\n",
       "\\item 148678\n",
       "\\item 7\n",
       "\\end{enumerate*}\n"
      ],
      "text/markdown": [
       "1. 148678\n",
       "2. 7\n",
       "\n",
       "\n"
      ],
      "text/plain": [
       "[1] 148678      7"
      ]
     },
     "metadata": {},
     "output_type": "display_data"
    }
   ],
   "source": [
    "dim(covidfle_uniq_ab_dedup)"
   ]
  },
  {
   "cell_type": "code",
   "execution_count": 38,
   "metadata": {},
   "outputs": [],
   "source": [
    "#replaqce TCRB with TRB\n",
    "covidfle_uniq_ab_dedup$TRBV <- gsub(\"TCRB\", \"TRB\", covidfle_uniq_ab_dedup$TRBV)\n",
    "covidfle_uniq_ab_dedup$TRBJ <- gsub(\"TCRB\", \"TRB\", covidfle_uniq_ab_dedup$TRBJ)"
   ]
  },
  {
   "cell_type": "code",
   "execution_count": 41,
   "metadata": {},
   "outputs": [
    {
     "data": {
      "text/html": [
       "<table class=\"dataframe\">\n",
       "<caption>A data.table: 6 × 7</caption>\n",
       "<thead>\n",
       "\t<tr><th scope=col>CDR3b</th><th scope=col>TRBV</th><th scope=col>TRBJ</th><th scope=col>subject:condition</th><th scope=col>count.x</th><th scope=col>subject</th><th scope=col>count.y</th></tr>\n",
       "\t<tr><th scope=col>&lt;chr&gt;</th><th scope=col>&lt;chr&gt;</th><th scope=col>&lt;chr&gt;</th><th scope=col>&lt;chr&gt;</th><th scope=col>&lt;int&gt;</th><th scope=col>&lt;chr&gt;</th><th scope=col>&lt;int&gt;</th></tr>\n",
       "</thead>\n",
       "<tbody>\n",
       "\t<tr><td>CASSIRSSYEQYF  </td><td>TRBV19-01      </td><td>TRBJ02-07</td><td>eOX46 </td><td>1</td><td>eOX46, ePD84, eHO128, eHO132, eHO125, ePD83, eHO136, eLH41, eHO124, ePD86, eLH42, eHO130, ePD76, eQD137, eQD123, eMR20, eEE243, eHH173, eHH174, eQD124, eHH169, eEE228, eXL27, eQD115, eXL36, eMR12, eLH47, eDH113, eEE226, eXL37, eDH96, eXL30</td><td>32</td></tr>\n",
       "\t<tr><td>CASSQTGGRNQPQHF</td><td>TRBV12-X       </td><td>TRBJ01-05</td><td>eLH41 </td><td>1</td><td>eLH41, eJL164, eXL31, eHO132, ePD86, eAV88, ePD84, eEE243, eXL37, eQD118, eEE224, eXL27, eMR12, eOX56, eLH47, eMR18, eLH46, eQD136, eOX43, eOX54, ePD76                                                                                        </td><td>21</td></tr>\n",
       "\t<tr><td>CASSLAGAYEQYF  </td><td>TRBV05-01      </td><td>TRBJ02-07</td><td>eJL143</td><td>1</td><td>eJL143, ePD79, eHH175, eLH45, eHO126, eXL31, eLH49, eLH42, eJL157, eHO135, eLH54, eMR14, eLH47, eAV91, eQD109, eQD111, eMR23, eQD123, eMR15                                                                                                    </td><td>19</td></tr>\n",
       "\t<tr><td>CASSFSYEQYF    </td><td>TRBV12-03/12-04</td><td>TRBJ02-07</td><td>eEE243</td><td>1</td><td>eEE243, eHH175, eXL30, eHO130, eJL149, eAV88, eXL27, eOX54, eEE224, eEE228, eOX49, eEE226, eOX52, eEE240, eOX46, eOX43, eXL31                                                                                                                  </td><td>17</td></tr>\n",
       "\t<tr><td>CASSLSAPQETQYF </td><td>TRBV27-01      </td><td>TRBJ02-05</td><td>eMR17 </td><td>1</td><td>eMR17, eJL161, eHO134, eQD124, eMR13, eQD111, eQD121, eHO140, eMR12, eQD125, eLH47, eEE226, eQD126, eQD114, eQD110, eQD120                                                                                                                     </td><td>16</td></tr>\n",
       "\t<tr><td>CASSVGETQYF    </td><td>TRBV09-01      </td><td>TRBJ02-05</td><td>eOX56 </td><td>1</td><td>eOX56, eEE224, eEE226, eEE228, eOX49, eOX54, eOX52, eXL27, eXL30, eOX43, eOX46, eXL32, eEE240, eAV88, eQD128, eHH175                                                                                                                           </td><td>16</td></tr>\n",
       "</tbody>\n",
       "</table>\n"
      ],
      "text/latex": [
       "A data.table: 6 × 7\n",
       "\\begin{tabular}{lllllll}\n",
       " CDR3b & TRBV & TRBJ & subject:condition & count.x & subject & count.y\\\\\n",
       " <chr> & <chr> & <chr> & <chr> & <int> & <chr> & <int>\\\\\n",
       "\\hline\n",
       "\t CASSIRSSYEQYF   & TRBV19-01       & TRBJ02-07 & eOX46  & 1 & eOX46, ePD84, eHO128, eHO132, eHO125, ePD83, eHO136, eLH41, eHO124, ePD86, eLH42, eHO130, ePD76, eQD137, eQD123, eMR20, eEE243, eHH173, eHH174, eQD124, eHH169, eEE228, eXL27, eQD115, eXL36, eMR12, eLH47, eDH113, eEE226, eXL37, eDH96, eXL30 & 32\\\\\n",
       "\t CASSQTGGRNQPQHF & TRBV12-X        & TRBJ01-05 & eLH41  & 1 & eLH41, eJL164, eXL31, eHO132, ePD86, eAV88, ePD84, eEE243, eXL37, eQD118, eEE224, eXL27, eMR12, eOX56, eLH47, eMR18, eLH46, eQD136, eOX43, eOX54, ePD76                                                                                         & 21\\\\\n",
       "\t CASSLAGAYEQYF   & TRBV05-01       & TRBJ02-07 & eJL143 & 1 & eJL143, ePD79, eHH175, eLH45, eHO126, eXL31, eLH49, eLH42, eJL157, eHO135, eLH54, eMR14, eLH47, eAV91, eQD109, eQD111, eMR23, eQD123, eMR15                                                                                                     & 19\\\\\n",
       "\t CASSFSYEQYF     & TRBV12-03/12-04 & TRBJ02-07 & eEE243 & 1 & eEE243, eHH175, eXL30, eHO130, eJL149, eAV88, eXL27, eOX54, eEE224, eEE228, eOX49, eEE226, eOX52, eEE240, eOX46, eOX43, eXL31                                                                                                                   & 17\\\\\n",
       "\t CASSLSAPQETQYF  & TRBV27-01       & TRBJ02-05 & eMR17  & 1 & eMR17, eJL161, eHO134, eQD124, eMR13, eQD111, eQD121, eHO140, eMR12, eQD125, eLH47, eEE226, eQD126, eQD114, eQD110, eQD120                                                                                                                      & 16\\\\\n",
       "\t CASSVGETQYF     & TRBV09-01       & TRBJ02-05 & eOX56  & 1 & eOX56, eEE224, eEE226, eEE228, eOX49, eOX54, eOX52, eXL27, eXL30, eOX43, eOX46, eXL32, eEE240, eAV88, eQD128, eHH175                                                                                                                            & 16\\\\\n",
       "\\end{tabular}\n"
      ],
      "text/markdown": [
       "\n",
       "A data.table: 6 × 7\n",
       "\n",
       "| CDR3b &lt;chr&gt; | TRBV &lt;chr&gt; | TRBJ &lt;chr&gt; | subject:condition &lt;chr&gt; | count.x &lt;int&gt; | subject &lt;chr&gt; | count.y &lt;int&gt; |\n",
       "|---|---|---|---|---|---|---|\n",
       "| CASSIRSSYEQYF   | TRBV19-01       | TRBJ02-07 | eOX46  | 1 | eOX46, ePD84, eHO128, eHO132, eHO125, ePD83, eHO136, eLH41, eHO124, ePD86, eLH42, eHO130, ePD76, eQD137, eQD123, eMR20, eEE243, eHH173, eHH174, eQD124, eHH169, eEE228, eXL27, eQD115, eXL36, eMR12, eLH47, eDH113, eEE226, eXL37, eDH96, eXL30 | 32 |\n",
       "| CASSQTGGRNQPQHF | TRBV12-X        | TRBJ01-05 | eLH41  | 1 | eLH41, eJL164, eXL31, eHO132, ePD86, eAV88, ePD84, eEE243, eXL37, eQD118, eEE224, eXL27, eMR12, eOX56, eLH47, eMR18, eLH46, eQD136, eOX43, eOX54, ePD76                                                                                         | 21 |\n",
       "| CASSLAGAYEQYF   | TRBV05-01       | TRBJ02-07 | eJL143 | 1 | eJL143, ePD79, eHH175, eLH45, eHO126, eXL31, eLH49, eLH42, eJL157, eHO135, eLH54, eMR14, eLH47, eAV91, eQD109, eQD111, eMR23, eQD123, eMR15                                                                                                     | 19 |\n",
       "| CASSFSYEQYF     | TRBV12-03/12-04 | TRBJ02-07 | eEE243 | 1 | eEE243, eHH175, eXL30, eHO130, eJL149, eAV88, eXL27, eOX54, eEE224, eEE228, eOX49, eEE226, eOX52, eEE240, eOX46, eOX43, eXL31                                                                                                                   | 17 |\n",
       "| CASSLSAPQETQYF  | TRBV27-01       | TRBJ02-05 | eMR17  | 1 | eMR17, eJL161, eHO134, eQD124, eMR13, eQD111, eQD121, eHO140, eMR12, eQD125, eLH47, eEE226, eQD126, eQD114, eQD110, eQD120                                                                                                                      | 16 |\n",
       "| CASSVGETQYF     | TRBV09-01       | TRBJ02-05 | eOX56  | 1 | eOX56, eEE224, eEE226, eEE228, eOX49, eOX54, eOX52, eXL27, eXL30, eOX43, eOX46, eXL32, eEE240, eAV88, eQD128, eHH175                                                                                                                            | 16 |\n",
       "\n"
      ],
      "text/plain": [
       "  CDR3b           TRBV            TRBJ      subject:condition count.x\n",
       "1 CASSIRSSYEQYF   TRBV19-01       TRBJ02-07 eOX46             1      \n",
       "2 CASSQTGGRNQPQHF TRBV12-X        TRBJ01-05 eLH41             1      \n",
       "3 CASSLAGAYEQYF   TRBV05-01       TRBJ02-07 eJL143            1      \n",
       "4 CASSFSYEQYF     TRBV12-03/12-04 TRBJ02-07 eEE243            1      \n",
       "5 CASSLSAPQETQYF  TRBV27-01       TRBJ02-05 eMR17             1      \n",
       "6 CASSVGETQYF     TRBV09-01       TRBJ02-05 eOX56             1      \n",
       "  subject                                                                                                                                                                                                                                        \n",
       "1 eOX46, ePD84, eHO128, eHO132, eHO125, ePD83, eHO136, eLH41, eHO124, ePD86, eLH42, eHO130, ePD76, eQD137, eQD123, eMR20, eEE243, eHH173, eHH174, eQD124, eHH169, eEE228, eXL27, eQD115, eXL36, eMR12, eLH47, eDH113, eEE226, eXL37, eDH96, eXL30\n",
       "2 eLH41, eJL164, eXL31, eHO132, ePD86, eAV88, ePD84, eEE243, eXL37, eQD118, eEE224, eXL27, eMR12, eOX56, eLH47, eMR18, eLH46, eQD136, eOX43, eOX54, ePD76                                                                                        \n",
       "3 eJL143, ePD79, eHH175, eLH45, eHO126, eXL31, eLH49, eLH42, eJL157, eHO135, eLH54, eMR14, eLH47, eAV91, eQD109, eQD111, eMR23, eQD123, eMR15                                                                                                    \n",
       "4 eEE243, eHH175, eXL30, eHO130, eJL149, eAV88, eXL27, eOX54, eEE224, eEE228, eOX49, eEE226, eOX52, eEE240, eOX46, eOX43, eXL31                                                                                                                  \n",
       "5 eMR17, eJL161, eHO134, eQD124, eMR13, eQD111, eQD121, eHO140, eMR12, eQD125, eLH47, eEE226, eQD126, eQD114, eQD110, eQD120                                                                                                                     \n",
       "6 eOX56, eEE224, eEE226, eEE228, eOX49, eOX54, eOX52, eXL27, eXL30, eOX43, eOX46, eXL32, eEE240, eAV88, eQD128, eHH175                                                                                                                           \n",
       "  count.y\n",
       "1 32     \n",
       "2 21     \n",
       "3 19     \n",
       "4 17     \n",
       "5 16     \n",
       "6 16     "
      ]
     },
     "metadata": {},
     "output_type": "display_data"
    }
   ],
   "source": [
    "head(covidfle_uniq_ab_dedup[order(covidfle_uniq_ab_dedup$count.y, decreasing = T),])"
   ]
  },
  {
   "cell_type": "code",
   "execution_count": 42,
   "metadata": {},
   "outputs": [],
   "source": [
    "covidfle_uniq_ab_dedup$file <- \"COVID_specific_TCRB.tsv\""
   ]
  },
  {
   "cell_type": "code",
   "execution_count": 45,
   "metadata": {},
   "outputs": [],
   "source": [
    "covidfle_uniq_ab_dedup$clonefraction <- 1"
   ]
  },
  {
   "cell_type": "code",
   "execution_count": 46,
   "metadata": {},
   "outputs": [
    {
     "data": {
      "text/html": [
       "<style>\n",
       ".list-inline {list-style: none; margin:0; padding: 0}\n",
       ".list-inline>li {display: inline-block}\n",
       ".list-inline>li:not(:last-child)::after {content: \"\\00b7\"; padding: 0 .5ex}\n",
       "</style>\n",
       "<ol class=list-inline><li>'CDR3b'</li><li>'TRBV'</li><li>'TRBJ'</li><li>'subject:condition'</li><li>'count.x'</li><li>'subject'</li><li>'count.y'</li><li>'file'</li><li>'clonefraction'</li></ol>\n"
      ],
      "text/latex": [
       "\\begin{enumerate*}\n",
       "\\item 'CDR3b'\n",
       "\\item 'TRBV'\n",
       "\\item 'TRBJ'\n",
       "\\item 'subject:condition'\n",
       "\\item 'count.x'\n",
       "\\item 'subject'\n",
       "\\item 'count.y'\n",
       "\\item 'file'\n",
       "\\item 'clonefraction'\n",
       "\\end{enumerate*}\n"
      ],
      "text/markdown": [
       "1. 'CDR3b'\n",
       "2. 'TRBV'\n",
       "3. 'TRBJ'\n",
       "4. 'subject:condition'\n",
       "5. 'count.x'\n",
       "6. 'subject'\n",
       "7. 'count.y'\n",
       "8. 'file'\n",
       "9. 'clonefraction'\n",
       "\n",
       "\n"
      ],
      "text/plain": [
       "[1] \"CDR3b\"             \"TRBV\"              \"TRBJ\"             \n",
       "[4] \"subject:condition\" \"count.x\"           \"subject\"          \n",
       "[7] \"count.y\"           \"file\"              \"clonefraction\"    "
      ]
     },
     "metadata": {},
     "output_type": "display_data"
    }
   ],
   "source": [
    "colnames(covidfle_uniq_ab_dedup)"
   ]
  },
  {
   "cell_type": "code",
   "execution_count": 47,
   "metadata": {},
   "outputs": [],
   "source": [
    "covidfle_uniq_ab_dedup_subset <- covidfle_uniq_ab_dedup[,c(\"CDR3b\", \"TRBV\", \"TRBJ\", \"subject:condition\",\n",
    "                                                          \"count.y\", \"clonefraction\", \"subject\",\"file\")]"
   ]
  },
  {
   "cell_type": "code",
   "execution_count": 49,
   "metadata": {},
   "outputs": [],
   "source": [
    "colnames(covidfle_uniq_ab_dedup_subset)[ colnames(covidfle_uniq_ab_dedup_subset) == \"count.y\"] <- \"count\""
   ]
  },
  {
   "cell_type": "code",
   "execution_count": 73,
   "metadata": {},
   "outputs": [],
   "source": [
    "covidfle_uniq_ab_dedup_subset$index <- 1:nrow(covidfle_uniq_ab_dedup_subset)"
   ]
  },
  {
   "cell_type": "code",
   "execution_count": 74,
   "metadata": {},
   "outputs": [],
   "source": [
    "save(covidfle_uniq_ab_dedup_subset, file = paste0(datapath, \"capTCRseq/covidfle_uniq_ab_dedup_subset.RData\"))"
   ]
  },
  {
   "cell_type": "code",
   "execution_count": 65,
   "metadata": {},
   "outputs": [],
   "source": [
    "#write.table(covidfle_uniq_ab_dedup_subset, file = '/Users/anabbi/Desktop/H4H/projects/COVID-19/tcr-cap/Adaptive/MIRA/ImmuneCODE-MIRA-Release002.1/COVID_specific_TCRB_clean.tsv',\n",
    "#            sep = \"\\t\", quote = F, row.names = F)"
   ]
  },
  {
   "cell_type": "code",
   "execution_count": null,
   "metadata": {},
   "outputs": [],
   "source": []
  },
  {
   "cell_type": "markdown",
   "metadata": {},
   "source": [
    "# CLeanup COVID TCR data"
   ]
  },
  {
   "cell_type": "code",
   "execution_count": 15,
   "metadata": {},
   "outputs": [],
   "source": [
    "file_list <- list.files(\"/Users/anabbi/Desktop/H4H/projects/COVID-19/tcr-cap/Adaptive/ImmuneCODE-Review-002/original_set/Original/\", \n",
    "                        pattern = \"TCRB\", full.names = T)"
   ]
  },
  {
   "cell_type": "code",
   "execution_count": 16,
   "metadata": {},
   "outputs": [
    {
     "data": {
      "text/html": [
       "<style>\n",
       ".list-inline {list-style: none; margin:0; padding: 0}\n",
       ".list-inline>li {display: inline-block}\n",
       ".list-inline>li:not(:last-child)::after {content: \"\\00b7\"; padding: 0 .5ex}\n",
       "</style>\n",
       "<ol class=list-inline><li>'/Users/anabbi/Desktop/H4H/projects/COVID-19/tcr-cap/Adaptive/ImmuneCODE-Review-002/original_set/Original//KHBR20-00206_TCRB.tsv'</li><li>'/Users/anabbi/Desktop/H4H/projects/COVID-19/tcr-cap/Adaptive/ImmuneCODE-Review-002/original_set/Original//L-I-replacement_TCRB.tsv'</li><li>'/Users/anabbi/Desktop/H4H/projects/COVID-19/tcr-cap/Adaptive/ImmuneCODE-Review-002/original_set/Original//P0008108_TCRB.tsv'</li><li>'/Users/anabbi/Desktop/H4H/projects/COVID-19/tcr-cap/Adaptive/ImmuneCODE-Review-002/original_set/Original//P0008111_TCRB.tsv'</li><li>'/Users/anabbi/Desktop/H4H/projects/COVID-19/tcr-cap/Adaptive/ImmuneCODE-Review-002/original_set/Original//Q-E-replacement_TCRB.tsv'</li><li>'/Users/anabbi/Desktop/H4H/projects/COVID-19/tcr-cap/Adaptive/ImmuneCODE-Review-002/original_set/Original//SIXED-replacement_TCRB.tsv'</li></ol>\n"
      ],
      "text/latex": [
       "\\begin{enumerate*}\n",
       "\\item '/Users/anabbi/Desktop/H4H/projects/COVID-19/tcr-cap/Adaptive/ImmuneCODE-Review-002/original\\_set/Original//KHBR20-00206\\_TCRB.tsv'\n",
       "\\item '/Users/anabbi/Desktop/H4H/projects/COVID-19/tcr-cap/Adaptive/ImmuneCODE-Review-002/original\\_set/Original//L-I-replacement\\_TCRB.tsv'\n",
       "\\item '/Users/anabbi/Desktop/H4H/projects/COVID-19/tcr-cap/Adaptive/ImmuneCODE-Review-002/original\\_set/Original//P0008108\\_TCRB.tsv'\n",
       "\\item '/Users/anabbi/Desktop/H4H/projects/COVID-19/tcr-cap/Adaptive/ImmuneCODE-Review-002/original\\_set/Original//P0008111\\_TCRB.tsv'\n",
       "\\item '/Users/anabbi/Desktop/H4H/projects/COVID-19/tcr-cap/Adaptive/ImmuneCODE-Review-002/original\\_set/Original//Q-E-replacement\\_TCRB.tsv'\n",
       "\\item '/Users/anabbi/Desktop/H4H/projects/COVID-19/tcr-cap/Adaptive/ImmuneCODE-Review-002/original\\_set/Original//SIXED-replacement\\_TCRB.tsv'\n",
       "\\end{enumerate*}\n"
      ],
      "text/markdown": [
       "1. '/Users/anabbi/Desktop/H4H/projects/COVID-19/tcr-cap/Adaptive/ImmuneCODE-Review-002/original_set/Original//KHBR20-00206_TCRB.tsv'\n",
       "2. '/Users/anabbi/Desktop/H4H/projects/COVID-19/tcr-cap/Adaptive/ImmuneCODE-Review-002/original_set/Original//L-I-replacement_TCRB.tsv'\n",
       "3. '/Users/anabbi/Desktop/H4H/projects/COVID-19/tcr-cap/Adaptive/ImmuneCODE-Review-002/original_set/Original//P0008108_TCRB.tsv'\n",
       "4. '/Users/anabbi/Desktop/H4H/projects/COVID-19/tcr-cap/Adaptive/ImmuneCODE-Review-002/original_set/Original//P0008111_TCRB.tsv'\n",
       "5. '/Users/anabbi/Desktop/H4H/projects/COVID-19/tcr-cap/Adaptive/ImmuneCODE-Review-002/original_set/Original//Q-E-replacement_TCRB.tsv'\n",
       "6. '/Users/anabbi/Desktop/H4H/projects/COVID-19/tcr-cap/Adaptive/ImmuneCODE-Review-002/original_set/Original//SIXED-replacement_TCRB.tsv'\n",
       "\n",
       "\n"
      ],
      "text/plain": [
       "[1] \"/Users/anabbi/Desktop/H4H/projects/COVID-19/tcr-cap/Adaptive/ImmuneCODE-Review-002/original_set/Original//KHBR20-00206_TCRB.tsv\"     \n",
       "[2] \"/Users/anabbi/Desktop/H4H/projects/COVID-19/tcr-cap/Adaptive/ImmuneCODE-Review-002/original_set/Original//L-I-replacement_TCRB.tsv\"  \n",
       "[3] \"/Users/anabbi/Desktop/H4H/projects/COVID-19/tcr-cap/Adaptive/ImmuneCODE-Review-002/original_set/Original//P0008108_TCRB.tsv\"         \n",
       "[4] \"/Users/anabbi/Desktop/H4H/projects/COVID-19/tcr-cap/Adaptive/ImmuneCODE-Review-002/original_set/Original//P0008111_TCRB.tsv\"         \n",
       "[5] \"/Users/anabbi/Desktop/H4H/projects/COVID-19/tcr-cap/Adaptive/ImmuneCODE-Review-002/original_set/Original//Q-E-replacement_TCRB.tsv\"  \n",
       "[6] \"/Users/anabbi/Desktop/H4H/projects/COVID-19/tcr-cap/Adaptive/ImmuneCODE-Review-002/original_set/Original//SIXED-replacement_TCRB.tsv\""
      ]
     },
     "metadata": {},
     "output_type": "display_data"
    }
   ],
   "source": [
    "tail(file_list)"
   ]
  },
  {
   "cell_type": "code",
   "execution_count": 17,
   "metadata": {},
   "outputs": [],
   "source": [
    "file_df <- as.data.frame(file_list)"
   ]
  },
  {
   "cell_type": "code",
   "execution_count": 18,
   "metadata": {},
   "outputs": [],
   "source": [
    "file_df$samplename <- gsub(\"_TCRB.tsv\", \"\", file_df$file_list)\n",
    "file_df$samplename <- gsub(\".*/Original//\", \"\", file_df$samplename)"
   ]
  },
  {
   "cell_type": "code",
   "execution_count": 19,
   "metadata": {},
   "outputs": [
    {
     "data": {
      "text/html": [
       "<table class=\"dataframe\">\n",
       "<caption>A data.frame: 6 × 2</caption>\n",
       "<thead>\n",
       "\t<tr><th></th><th scope=col>file_list</th><th scope=col>samplename</th></tr>\n",
       "\t<tr><th></th><th scope=col>&lt;chr&gt;</th><th scope=col>&lt;chr&gt;</th></tr>\n",
       "</thead>\n",
       "<tbody>\n",
       "\t<tr><th scope=row>1</th><td>/Users/anabbi/Desktop/H4H/projects/COVID-19/tcr-cap/Adaptive/ImmuneCODE-Review-002/original_set/Original//1001_TCRB.tsv       </td><td>1001       </td></tr>\n",
       "\t<tr><th scope=row>2</th><td>/Users/anabbi/Desktop/H4H/projects/COVID-19/tcr-cap/Adaptive/ImmuneCODE-Review-002/original_set/Original//1002_TCRB.tsv       </td><td>1002       </td></tr>\n",
       "\t<tr><th scope=row>3</th><td>/Users/anabbi/Desktop/H4H/projects/COVID-19/tcr-cap/Adaptive/ImmuneCODE-Review-002/original_set/Original//1003_TCRB.tsv       </td><td>1003       </td></tr>\n",
       "\t<tr><th scope=row>4</th><td>/Users/anabbi/Desktop/H4H/projects/COVID-19/tcr-cap/Adaptive/ImmuneCODE-Review-002/original_set/Original//1003-BS-445_TCRB.tsv</td><td>1003-BS-445</td></tr>\n",
       "\t<tr><th scope=row>5</th><td>/Users/anabbi/Desktop/H4H/projects/COVID-19/tcr-cap/Adaptive/ImmuneCODE-Review-002/original_set/Original//1004_TCRB.tsv       </td><td>1004       </td></tr>\n",
       "\t<tr><th scope=row>6</th><td>/Users/anabbi/Desktop/H4H/projects/COVID-19/tcr-cap/Adaptive/ImmuneCODE-Review-002/original_set/Original//1004-BM-132_TCRB.tsv</td><td>1004-BM-132</td></tr>\n",
       "</tbody>\n",
       "</table>\n"
      ],
      "text/latex": [
       "A data.frame: 6 × 2\n",
       "\\begin{tabular}{r|ll}\n",
       "  & file\\_list & samplename\\\\\n",
       "  & <chr> & <chr>\\\\\n",
       "\\hline\n",
       "\t1 & /Users/anabbi/Desktop/H4H/projects/COVID-19/tcr-cap/Adaptive/ImmuneCODE-Review-002/original\\_set/Original//1001\\_TCRB.tsv        & 1001       \\\\\n",
       "\t2 & /Users/anabbi/Desktop/H4H/projects/COVID-19/tcr-cap/Adaptive/ImmuneCODE-Review-002/original\\_set/Original//1002\\_TCRB.tsv        & 1002       \\\\\n",
       "\t3 & /Users/anabbi/Desktop/H4H/projects/COVID-19/tcr-cap/Adaptive/ImmuneCODE-Review-002/original\\_set/Original//1003\\_TCRB.tsv        & 1003       \\\\\n",
       "\t4 & /Users/anabbi/Desktop/H4H/projects/COVID-19/tcr-cap/Adaptive/ImmuneCODE-Review-002/original\\_set/Original//1003-BS-445\\_TCRB.tsv & 1003-BS-445\\\\\n",
       "\t5 & /Users/anabbi/Desktop/H4H/projects/COVID-19/tcr-cap/Adaptive/ImmuneCODE-Review-002/original\\_set/Original//1004\\_TCRB.tsv        & 1004       \\\\\n",
       "\t6 & /Users/anabbi/Desktop/H4H/projects/COVID-19/tcr-cap/Adaptive/ImmuneCODE-Review-002/original\\_set/Original//1004-BM-132\\_TCRB.tsv & 1004-BM-132\\\\\n",
       "\\end{tabular}\n"
      ],
      "text/markdown": [
       "\n",
       "A data.frame: 6 × 2\n",
       "\n",
       "| <!--/--> | file_list &lt;chr&gt; | samplename &lt;chr&gt; |\n",
       "|---|---|---|\n",
       "| 1 | /Users/anabbi/Desktop/H4H/projects/COVID-19/tcr-cap/Adaptive/ImmuneCODE-Review-002/original_set/Original//1001_TCRB.tsv        | 1001        |\n",
       "| 2 | /Users/anabbi/Desktop/H4H/projects/COVID-19/tcr-cap/Adaptive/ImmuneCODE-Review-002/original_set/Original//1002_TCRB.tsv        | 1002        |\n",
       "| 3 | /Users/anabbi/Desktop/H4H/projects/COVID-19/tcr-cap/Adaptive/ImmuneCODE-Review-002/original_set/Original//1003_TCRB.tsv        | 1003        |\n",
       "| 4 | /Users/anabbi/Desktop/H4H/projects/COVID-19/tcr-cap/Adaptive/ImmuneCODE-Review-002/original_set/Original//1003-BS-445_TCRB.tsv | 1003-BS-445 |\n",
       "| 5 | /Users/anabbi/Desktop/H4H/projects/COVID-19/tcr-cap/Adaptive/ImmuneCODE-Review-002/original_set/Original//1004_TCRB.tsv        | 1004        |\n",
       "| 6 | /Users/anabbi/Desktop/H4H/projects/COVID-19/tcr-cap/Adaptive/ImmuneCODE-Review-002/original_set/Original//1004-BM-132_TCRB.tsv | 1004-BM-132 |\n",
       "\n"
      ],
      "text/plain": [
       "  file_list                                                                                                                     \n",
       "1 /Users/anabbi/Desktop/H4H/projects/COVID-19/tcr-cap/Adaptive/ImmuneCODE-Review-002/original_set/Original//1001_TCRB.tsv       \n",
       "2 /Users/anabbi/Desktop/H4H/projects/COVID-19/tcr-cap/Adaptive/ImmuneCODE-Review-002/original_set/Original//1002_TCRB.tsv       \n",
       "3 /Users/anabbi/Desktop/H4H/projects/COVID-19/tcr-cap/Adaptive/ImmuneCODE-Review-002/original_set/Original//1003_TCRB.tsv       \n",
       "4 /Users/anabbi/Desktop/H4H/projects/COVID-19/tcr-cap/Adaptive/ImmuneCODE-Review-002/original_set/Original//1003-BS-445_TCRB.tsv\n",
       "5 /Users/anabbi/Desktop/H4H/projects/COVID-19/tcr-cap/Adaptive/ImmuneCODE-Review-002/original_set/Original//1004_TCRB.tsv       \n",
       "6 /Users/anabbi/Desktop/H4H/projects/COVID-19/tcr-cap/Adaptive/ImmuneCODE-Review-002/original_set/Original//1004-BM-132_TCRB.tsv\n",
       "  samplename \n",
       "1 1001       \n",
       "2 1002       \n",
       "3 1003       \n",
       "4 1003-BS-445\n",
       "5 1004       \n",
       "6 1004-BM-132"
      ]
     },
     "metadata": {},
     "output_type": "display_data"
    }
   ],
   "source": [
    "head(file_df)"
   ]
  },
  {
   "cell_type": "code",
   "execution_count": null,
   "metadata": {},
   "outputs": [],
   "source": []
  },
  {
   "cell_type": "code",
   "execution_count": null,
   "metadata": {},
   "outputs": [],
   "source": []
  },
  {
   "cell_type": "code",
   "execution_count": null,
   "metadata": {},
   "outputs": [],
   "source": [
    "file_df$size <- NA\n",
    "for(i in 1:nrow(file_df)){\n",
    "    file_df$size[i] <- file.size(paste0(h4hpath,file_df$file_list[i]))\n",
    "}"
   ]
  },
  {
   "cell_type": "code",
   "execution_count": null,
   "metadata": {},
   "outputs": [],
   "source": [
    "head(file_df)"
   ]
  },
  {
   "cell_type": "code",
   "execution_count": null,
   "metadata": {},
   "outputs": [],
   "source": [
    "file_df[ grepl(\"383-03\", file_df$file_list),]"
   ]
  },
  {
   "cell_type": "code",
   "execution_count": null,
   "metadata": {},
   "outputs": [],
   "source": [
    "file_df <- file_df[ !grepl(\"immunarch\", file_df$file_list),]"
   ]
  },
  {
   "cell_type": "code",
   "execution_count": null,
   "metadata": {},
   "outputs": [],
   "source": [
    "#if duplicated keep the bigger file corresponding to deeper seqeuncing.\n",
    "file_df_dedup <- file_df[0,]\n",
    "\n",
    "for(s in unique(file_df$samplename)){\n",
    "    tmp <- file_df[ file_df$samplename == s,]\n",
    "    if(nrow(tmp) ==1 ){\n",
    "        file_df_dedup <- rbind(file_df_dedup, tmp)\n",
    "    }\n",
    "    if(nrow(tmp) > 1 ){\n",
    "        file_df_dedup <- rbind(file_df_dedup, tmp[ tmp$size == max(tmp$size),])\n",
    "    }    \n",
    "}"
   ]
  },
  {
   "cell_type": "code",
   "execution_count": null,
   "metadata": {},
   "outputs": [],
   "source": []
  },
  {
   "cell_type": "code",
   "execution_count": null,
   "metadata": {},
   "outputs": [],
   "source": []
  },
  {
   "cell_type": "code",
   "execution_count": 22,
   "metadata": {},
   "outputs": [],
   "source": [
    "covidfle <- read.table('/Users/anabbi/Desktop/H4H/projects/COVID-19/tcr-cap/Adaptive/ImmuneCODE-Review-002/original_set/Original/',\n"
   ]
  },
  {
   "cell_type": "code",
   "execution_count": 23,
   "metadata": {},
   "outputs": [
    {
     "data": {
      "text/html": [
       "<style>\n",
       ".list-inline {list-style: none; margin:0; padding: 0}\n",
       ".list-inline>li {display: inline-block}\n",
       ".list-inline>li:not(:last-child)::after {content: \"\\00b7\"; padding: 0 .5ex}\n",
       "</style>\n",
       "<ol class=list-inline><li>162651</li><li>6</li></ol>\n"
      ],
      "text/latex": [
       "\\begin{enumerate*}\n",
       "\\item 162651\n",
       "\\item 6\n",
       "\\end{enumerate*}\n"
      ],
      "text/markdown": [
       "1. 162651\n",
       "2. 6\n",
       "\n",
       "\n"
      ],
      "text/plain": [
       "[1] 162651      6"
      ]
     },
     "metadata": {},
     "output_type": "display_data"
    }
   ],
   "source": [
    "dim(covidfle)"
   ]
  },
  {
   "cell_type": "code",
   "execution_count": 24,
   "metadata": {},
   "outputs": [],
   "source": [
    "#remove unproductive\n",
    "covidfle <- covidfle[!grepl(\"[*]\", covidfle$V1),]\n",
    "covidfle <- covidfle[ covidfle$V1 != \"unproductive\",]"
   ]
  },
  {
   "cell_type": "code",
   "execution_count": 25,
   "metadata": {},
   "outputs": [
    {
     "data": {
      "text/html": [
       "<style>\n",
       ".list-inline {list-style: none; margin:0; padding: 0}\n",
       ".list-inline>li {display: inline-block}\n",
       ".list-inline>li:not(:last-child)::after {content: \"\\00b7\"; padding: 0 .5ex}\n",
       "</style>\n",
       "<ol class=list-inline><li>160130</li><li>6</li></ol>\n"
      ],
      "text/latex": [
       "\\begin{enumerate*}\n",
       "\\item 160130\n",
       "\\item 6\n",
       "\\end{enumerate*}\n"
      ],
      "text/markdown": [
       "1. 160130\n",
       "2. 6\n",
       "\n",
       "\n"
      ],
      "text/plain": [
       "[1] 160130      6"
      ]
     },
     "metadata": {},
     "output_type": "display_data"
    }
   ],
   "source": [
    "dim(covidfle)"
   ]
  },
  {
   "cell_type": "code",
   "execution_count": 26,
   "metadata": {},
   "outputs": [],
   "source": [
    "#remove duplicated entries\n",
    "covidfle_uniq <- unique(covidfle)"
   ]
  },
  {
   "cell_type": "code",
   "execution_count": 27,
   "metadata": {},
   "outputs": [
    {
     "data": {
      "text/html": [
       "<style>\n",
       ".list-inline {list-style: none; margin:0; padding: 0}\n",
       ".list-inline>li {display: inline-block}\n",
       ".list-inline>li:not(:last-child)::after {content: \"\\00b7\"; padding: 0 .5ex}\n",
       "</style>\n",
       "<ol class=list-inline><li>156033</li><li>6</li></ol>\n"
      ],
      "text/latex": [
       "\\begin{enumerate*}\n",
       "\\item 156033\n",
       "\\item 6\n",
       "\\end{enumerate*}\n"
      ],
      "text/markdown": [
       "1. 156033\n",
       "2. 6\n",
       "\n",
       "\n"
      ],
      "text/plain": [
       "[1] 156033      6"
      ]
     },
     "metadata": {},
     "output_type": "display_data"
    }
   ],
   "source": [
    "dim(covidfle_uniq)"
   ]
  },
  {
   "cell_type": "code",
   "execution_count": 28,
   "metadata": {},
   "outputs": [],
   "source": [
    "covidfle_uniq$V4 <- NULL"
   ]
  },
  {
   "cell_type": "code",
   "execution_count": 29,
   "metadata": {},
   "outputs": [
    {
     "data": {
      "text/html": [
       "<table class=\"dataframe\">\n",
       "<caption>A data.frame: 6 × 5</caption>\n",
       "<thead>\n",
       "\t<tr><th></th><th scope=col>V1</th><th scope=col>V2</th><th scope=col>V3</th><th scope=col>V5</th><th scope=col>V6</th></tr>\n",
       "\t<tr><th></th><th scope=col>&lt;chr&gt;</th><th scope=col>&lt;chr&gt;</th><th scope=col>&lt;chr&gt;</th><th scope=col>&lt;chr&gt;</th><th scope=col>&lt;int&gt;</th></tr>\n",
       "</thead>\n",
       "<tbody>\n",
       "\t<tr><th scope=row>1</th><td>CASGRHNSPLHF   </td><td>TCRBV12-03/12-04</td><td>TCRBJ01-06</td><td>eJL143</td><td>1</td></tr>\n",
       "\t<tr><th scope=row>2</th><td>CASRPAGVRNEQFF </td><td>TCRBV06-06      </td><td>TCRBJ02-01</td><td>eJL146</td><td>1</td></tr>\n",
       "\t<tr><th scope=row>3</th><td>CSASPRTLWGEQFF </td><td>TCRBV20-X       </td><td>TCRBJ02-01</td><td>eJL146</td><td>1</td></tr>\n",
       "\t<tr><th scope=row>4</th><td>CASSLVTSVKDTQYF</td><td>TCRBV05-01      </td><td>TCRBJ02-03</td><td>eJL146</td><td>1</td></tr>\n",
       "\t<tr><th scope=row>5</th><td>CASSAIVAVYGYTF </td><td>TCRBV07-08      </td><td>TCRBJ01-02</td><td>eJL146</td><td>1</td></tr>\n",
       "\t<tr><th scope=row>6</th><td>CSVYSAGELFF    </td><td>TCRBV29-01      </td><td>TCRBJ02-02</td><td>eJL146</td><td>1</td></tr>\n",
       "</tbody>\n",
       "</table>\n"
      ],
      "text/latex": [
       "A data.frame: 6 × 5\n",
       "\\begin{tabular}{r|lllll}\n",
       "  & V1 & V2 & V3 & V5 & V6\\\\\n",
       "  & <chr> & <chr> & <chr> & <chr> & <int>\\\\\n",
       "\\hline\n",
       "\t1 & CASGRHNSPLHF    & TCRBV12-03/12-04 & TCRBJ01-06 & eJL143 & 1\\\\\n",
       "\t2 & CASRPAGVRNEQFF  & TCRBV06-06       & TCRBJ02-01 & eJL146 & 1\\\\\n",
       "\t3 & CSASPRTLWGEQFF  & TCRBV20-X        & TCRBJ02-01 & eJL146 & 1\\\\\n",
       "\t4 & CASSLVTSVKDTQYF & TCRBV05-01       & TCRBJ02-03 & eJL146 & 1\\\\\n",
       "\t5 & CASSAIVAVYGYTF  & TCRBV07-08       & TCRBJ01-02 & eJL146 & 1\\\\\n",
       "\t6 & CSVYSAGELFF     & TCRBV29-01       & TCRBJ02-02 & eJL146 & 1\\\\\n",
       "\\end{tabular}\n"
      ],
      "text/markdown": [
       "\n",
       "A data.frame: 6 × 5\n",
       "\n",
       "| <!--/--> | V1 &lt;chr&gt; | V2 &lt;chr&gt; | V3 &lt;chr&gt; | V5 &lt;chr&gt; | V6 &lt;int&gt; |\n",
       "|---|---|---|---|---|---|\n",
       "| 1 | CASGRHNSPLHF    | TCRBV12-03/12-04 | TCRBJ01-06 | eJL143 | 1 |\n",
       "| 2 | CASRPAGVRNEQFF  | TCRBV06-06       | TCRBJ02-01 | eJL146 | 1 |\n",
       "| 3 | CSASPRTLWGEQFF  | TCRBV20-X        | TCRBJ02-01 | eJL146 | 1 |\n",
       "| 4 | CASSLVTSVKDTQYF | TCRBV05-01       | TCRBJ02-03 | eJL146 | 1 |\n",
       "| 5 | CASSAIVAVYGYTF  | TCRBV07-08       | TCRBJ01-02 | eJL146 | 1 |\n",
       "| 6 | CSVYSAGELFF     | TCRBV29-01       | TCRBJ02-02 | eJL146 | 1 |\n",
       "\n"
      ],
      "text/plain": [
       "  V1              V2               V3         V5     V6\n",
       "1 CASGRHNSPLHF    TCRBV12-03/12-04 TCRBJ01-06 eJL143 1 \n",
       "2 CASRPAGVRNEQFF  TCRBV06-06       TCRBJ02-01 eJL146 1 \n",
       "3 CSASPRTLWGEQFF  TCRBV20-X        TCRBJ02-01 eJL146 1 \n",
       "4 CASSLVTSVKDTQYF TCRBV05-01       TCRBJ02-03 eJL146 1 \n",
       "5 CASSAIVAVYGYTF  TCRBV07-08       TCRBJ01-02 eJL146 1 \n",
       "6 CSVYSAGELFF     TCRBV29-01       TCRBJ02-02 eJL146 1 "
      ]
     },
     "metadata": {},
     "output_type": "display_data"
    }
   ],
   "source": [
    "head(covidfle_uniq)"
   ]
  },
  {
   "cell_type": "code",
   "execution_count": 30,
   "metadata": {},
   "outputs": [],
   "source": [
    "colnames(covidfle_uniq) <- c(\"CDR3b\", \"TRBV\", \"TRBJ\", \"subject:condition\", \"count\")"
   ]
  },
  {
   "cell_type": "code",
   "execution_count": 31,
   "metadata": {},
   "outputs": [
    {
     "data": {
      "text/html": [
       "<style>\n",
       ".list-inline {list-style: none; margin:0; padding: 0}\n",
       ".list-inline>li {display: inline-block}\n",
       ".list-inline>li:not(:last-child)::after {content: \"\\00b7\"; padding: 0 .5ex}\n",
       "</style>\n",
       "<ol class=list-inline><li>'CDR3b'</li><li>'TRBV'</li><li>'TRBJ'</li><li>'subject:condition'</li><li>'count'</li></ol>\n"
      ],
      "text/latex": [
       "\\begin{enumerate*}\n",
       "\\item 'CDR3b'\n",
       "\\item 'TRBV'\n",
       "\\item 'TRBJ'\n",
       "\\item 'subject:condition'\n",
       "\\item 'count'\n",
       "\\end{enumerate*}\n"
      ],
      "text/markdown": [
       "1. 'CDR3b'\n",
       "2. 'TRBV'\n",
       "3. 'TRBJ'\n",
       "4. 'subject:condition'\n",
       "5. 'count'\n",
       "\n",
       "\n"
      ],
      "text/plain": [
       "[1] \"CDR3b\"             \"TRBV\"              \"TRBJ\"             \n",
       "[4] \"subject:condition\" \"count\"            "
      ]
     },
     "metadata": {},
     "output_type": "display_data"
    }
   ],
   "source": [
    "colnames(covidfle_uniq)"
   ]
  },
  {
   "cell_type": "code",
   "execution_count": 32,
   "metadata": {},
   "outputs": [],
   "source": [
    "#bind those with the same cdr3 + TRBV + TRBJ\n",
    "setDT(covidfle_uniq)\n",
    "\n",
    "ab <- covidfle_uniq[, .(subject = toString(`subject:condition`), #bind subjects\n",
    "                        count = sum(count)),  #get sum of counts\n",
    "                    by = c(\"CDR3b\", \"TRBV\", \"TRBJ\")] #get duplicates sequences with the same cdr3 + TRBV + TRBJ\n",
    "\n",
    "covidfle_uniq_ab <- merge(covidfle_uniq, ab, by = c(\"CDR3b\",\"TRBV\",\"TRBJ\")) # merge together"
   ]
  },
  {
   "cell_type": "code",
   "execution_count": 33,
   "metadata": {},
   "outputs": [
    {
     "data": {
      "text/html": [
       "<style>\n",
       ".list-inline {list-style: none; margin:0; padding: 0}\n",
       ".list-inline>li {display: inline-block}\n",
       ".list-inline>li:not(:last-child)::after {content: \"\\00b7\"; padding: 0 .5ex}\n",
       "</style>\n",
       "<ol class=list-inline><li>156033</li><li>7</li></ol>\n"
      ],
      "text/latex": [
       "\\begin{enumerate*}\n",
       "\\item 156033\n",
       "\\item 7\n",
       "\\end{enumerate*}\n"
      ],
      "text/markdown": [
       "1. 156033\n",
       "2. 7\n",
       "\n",
       "\n"
      ],
      "text/plain": [
       "[1] 156033      7"
      ]
     },
     "metadata": {},
     "output_type": "display_data"
    }
   ],
   "source": [
    "dim(covidfle_uniq_ab)"
   ]
  },
  {
   "cell_type": "code",
   "execution_count": 34,
   "metadata": {},
   "outputs": [
    {
     "data": {
      "text/html": [
       "<style>\n",
       ".list-inline {list-style: none; margin:0; padding: 0}\n",
       ".list-inline>li {display: inline-block}\n",
       ".list-inline>li:not(:last-child)::after {content: \"\\00b7\"; padding: 0 .5ex}\n",
       "</style>\n",
       "<ol class=list-inline><li>'CDR3b'</li><li>'TRBV'</li><li>'TRBJ'</li><li>'subject:condition'</li><li>'count.x'</li><li>'subject'</li><li>'count.y'</li></ol>\n"
      ],
      "text/latex": [
       "\\begin{enumerate*}\n",
       "\\item 'CDR3b'\n",
       "\\item 'TRBV'\n",
       "\\item 'TRBJ'\n",
       "\\item 'subject:condition'\n",
       "\\item 'count.x'\n",
       "\\item 'subject'\n",
       "\\item 'count.y'\n",
       "\\end{enumerate*}\n"
      ],
      "text/markdown": [
       "1. 'CDR3b'\n",
       "2. 'TRBV'\n",
       "3. 'TRBJ'\n",
       "4. 'subject:condition'\n",
       "5. 'count.x'\n",
       "6. 'subject'\n",
       "7. 'count.y'\n",
       "\n",
       "\n"
      ],
      "text/plain": [
       "[1] \"CDR3b\"             \"TRBV\"              \"TRBJ\"             \n",
       "[4] \"subject:condition\" \"count.x\"           \"subject\"          \n",
       "[7] \"count.y\"          "
      ]
     },
     "metadata": {},
     "output_type": "display_data"
    }
   ],
   "source": [
    "colnames(covidfle_uniq_ab)"
   ]
  },
  {
   "cell_type": "code",
   "execution_count": 35,
   "metadata": {},
   "outputs": [],
   "source": [
    "#dedup\n",
    "covidfle_uniq_ab_dedup <- dplyr::distinct(covidfle_uniq_ab, \n",
    "                                          CDR3b, TRBV, TRBJ, subject, .keep_all= TRUE)"
   ]
  },
  {
   "cell_type": "code",
   "execution_count": 36,
   "metadata": {},
   "outputs": [
    {
     "data": {
      "text/html": [
       "<table class=\"dataframe\">\n",
       "<caption>A data.table: 6 × 7</caption>\n",
       "<thead>\n",
       "\t<tr><th scope=col>CDR3b</th><th scope=col>TRBV</th><th scope=col>TRBJ</th><th scope=col>subject:condition</th><th scope=col>count.x</th><th scope=col>subject</th><th scope=col>count.y</th></tr>\n",
       "\t<tr><th scope=col>&lt;chr&gt;</th><th scope=col>&lt;chr&gt;</th><th scope=col>&lt;chr&gt;</th><th scope=col>&lt;chr&gt;</th><th scope=col>&lt;int&gt;</th><th scope=col>&lt;chr&gt;</th><th scope=col>&lt;int&gt;</th></tr>\n",
       "</thead>\n",
       "<tbody>\n",
       "\t<tr><td>AGVKITNSYEQYF   </td><td>TCRBV20-X </td><td>TCRBJ02-07</td><td>eHO134</td><td>1</td><td>eHO134</td><td>1</td></tr>\n",
       "\t<tr><td>AKNIQYF         </td><td>TCRBV27-01</td><td>TCRBJ02-04</td><td>eQD126</td><td>1</td><td>eQD126</td><td>1</td></tr>\n",
       "\t<tr><td>APYASKRAGYDNEQFF</td><td>TCRBV06-X </td><td>TCRBJ02-01</td><td>eHO141</td><td>1</td><td>eHO141</td><td>1</td></tr>\n",
       "\t<tr><td>ARLFSGANVLTF    </td><td>TCRBV07-02</td><td>TCRBJ02-06</td><td>eXL27 </td><td>1</td><td>eXL27 </td><td>1</td></tr>\n",
       "\t<tr><td>CAAAAPDTQYF     </td><td>TCRBV06-X </td><td>TCRBJ02-03</td><td>eOX46 </td><td>1</td><td>eOX46 </td><td>1</td></tr>\n",
       "\t<tr><td>CAAADRMTDTQYF   </td><td>TCRBV24-01</td><td>TCRBJ02-03</td><td>eHO130</td><td>1</td><td>eHO130</td><td>1</td></tr>\n",
       "</tbody>\n",
       "</table>\n"
      ],
      "text/latex": [
       "A data.table: 6 × 7\n",
       "\\begin{tabular}{lllllll}\n",
       " CDR3b & TRBV & TRBJ & subject:condition & count.x & subject & count.y\\\\\n",
       " <chr> & <chr> & <chr> & <chr> & <int> & <chr> & <int>\\\\\n",
       "\\hline\n",
       "\t AGVKITNSYEQYF    & TCRBV20-X  & TCRBJ02-07 & eHO134 & 1 & eHO134 & 1\\\\\n",
       "\t AKNIQYF          & TCRBV27-01 & TCRBJ02-04 & eQD126 & 1 & eQD126 & 1\\\\\n",
       "\t APYASKRAGYDNEQFF & TCRBV06-X  & TCRBJ02-01 & eHO141 & 1 & eHO141 & 1\\\\\n",
       "\t ARLFSGANVLTF     & TCRBV07-02 & TCRBJ02-06 & eXL27  & 1 & eXL27  & 1\\\\\n",
       "\t CAAAAPDTQYF      & TCRBV06-X  & TCRBJ02-03 & eOX46  & 1 & eOX46  & 1\\\\\n",
       "\t CAAADRMTDTQYF    & TCRBV24-01 & TCRBJ02-03 & eHO130 & 1 & eHO130 & 1\\\\\n",
       "\\end{tabular}\n"
      ],
      "text/markdown": [
       "\n",
       "A data.table: 6 × 7\n",
       "\n",
       "| CDR3b &lt;chr&gt; | TRBV &lt;chr&gt; | TRBJ &lt;chr&gt; | subject:condition &lt;chr&gt; | count.x &lt;int&gt; | subject &lt;chr&gt; | count.y &lt;int&gt; |\n",
       "|---|---|---|---|---|---|---|\n",
       "| AGVKITNSYEQYF    | TCRBV20-X  | TCRBJ02-07 | eHO134 | 1 | eHO134 | 1 |\n",
       "| AKNIQYF          | TCRBV27-01 | TCRBJ02-04 | eQD126 | 1 | eQD126 | 1 |\n",
       "| APYASKRAGYDNEQFF | TCRBV06-X  | TCRBJ02-01 | eHO141 | 1 | eHO141 | 1 |\n",
       "| ARLFSGANVLTF     | TCRBV07-02 | TCRBJ02-06 | eXL27  | 1 | eXL27  | 1 |\n",
       "| CAAAAPDTQYF      | TCRBV06-X  | TCRBJ02-03 | eOX46  | 1 | eOX46  | 1 |\n",
       "| CAAADRMTDTQYF    | TCRBV24-01 | TCRBJ02-03 | eHO130 | 1 | eHO130 | 1 |\n",
       "\n"
      ],
      "text/plain": [
       "  CDR3b            TRBV       TRBJ       subject:condition count.x subject\n",
       "1 AGVKITNSYEQYF    TCRBV20-X  TCRBJ02-07 eHO134            1       eHO134 \n",
       "2 AKNIQYF          TCRBV27-01 TCRBJ02-04 eQD126            1       eQD126 \n",
       "3 APYASKRAGYDNEQFF TCRBV06-X  TCRBJ02-01 eHO141            1       eHO141 \n",
       "4 ARLFSGANVLTF     TCRBV07-02 TCRBJ02-06 eXL27             1       eXL27  \n",
       "5 CAAAAPDTQYF      TCRBV06-X  TCRBJ02-03 eOX46             1       eOX46  \n",
       "6 CAAADRMTDTQYF    TCRBV24-01 TCRBJ02-03 eHO130            1       eHO130 \n",
       "  count.y\n",
       "1 1      \n",
       "2 1      \n",
       "3 1      \n",
       "4 1      \n",
       "5 1      \n",
       "6 1      "
      ]
     },
     "metadata": {},
     "output_type": "display_data"
    }
   ],
   "source": [
    "head(covidfle_uniq_ab_dedup)"
   ]
  },
  {
   "cell_type": "code",
   "execution_count": 40,
   "metadata": {},
   "outputs": [
    {
     "data": {
      "text/html": [
       "<style>\n",
       ".list-inline {list-style: none; margin:0; padding: 0}\n",
       ".list-inline>li {display: inline-block}\n",
       ".list-inline>li:not(:last-child)::after {content: \"\\00b7\"; padding: 0 .5ex}\n",
       "</style>\n",
       "<ol class=list-inline><li>148678</li><li>7</li></ol>\n"
      ],
      "text/latex": [
       "\\begin{enumerate*}\n",
       "\\item 148678\n",
       "\\item 7\n",
       "\\end{enumerate*}\n"
      ],
      "text/markdown": [
       "1. 148678\n",
       "2. 7\n",
       "\n",
       "\n"
      ],
      "text/plain": [
       "[1] 148678      7"
      ]
     },
     "metadata": {},
     "output_type": "display_data"
    }
   ],
   "source": [
    "dim(covidfle_uniq_ab_dedup)"
   ]
  },
  {
   "cell_type": "code",
   "execution_count": 38,
   "metadata": {},
   "outputs": [],
   "source": [
    "#replaqce TCRB with TRB\n",
    "covidfle_uniq_ab_dedup$TRBV <- gsub(\"TCRB\", \"TRB\", covidfle_uniq_ab_dedup$TRBV)\n",
    "covidfle_uniq_ab_dedup$TRBJ <- gsub(\"TCRB\", \"TRB\", covidfle_uniq_ab_dedup$TRBJ)"
   ]
  },
  {
   "cell_type": "code",
   "execution_count": 41,
   "metadata": {},
   "outputs": [
    {
     "data": {
      "text/html": [
       "<table class=\"dataframe\">\n",
       "<caption>A data.table: 6 × 7</caption>\n",
       "<thead>\n",
       "\t<tr><th scope=col>CDR3b</th><th scope=col>TRBV</th><th scope=col>TRBJ</th><th scope=col>subject:condition</th><th scope=col>count.x</th><th scope=col>subject</th><th scope=col>count.y</th></tr>\n",
       "\t<tr><th scope=col>&lt;chr&gt;</th><th scope=col>&lt;chr&gt;</th><th scope=col>&lt;chr&gt;</th><th scope=col>&lt;chr&gt;</th><th scope=col>&lt;int&gt;</th><th scope=col>&lt;chr&gt;</th><th scope=col>&lt;int&gt;</th></tr>\n",
       "</thead>\n",
       "<tbody>\n",
       "\t<tr><td>CASSIRSSYEQYF  </td><td>TRBV19-01      </td><td>TRBJ02-07</td><td>eOX46 </td><td>1</td><td>eOX46, ePD84, eHO128, eHO132, eHO125, ePD83, eHO136, eLH41, eHO124, ePD86, eLH42, eHO130, ePD76, eQD137, eQD123, eMR20, eEE243, eHH173, eHH174, eQD124, eHH169, eEE228, eXL27, eQD115, eXL36, eMR12, eLH47, eDH113, eEE226, eXL37, eDH96, eXL30</td><td>32</td></tr>\n",
       "\t<tr><td>CASSQTGGRNQPQHF</td><td>TRBV12-X       </td><td>TRBJ01-05</td><td>eLH41 </td><td>1</td><td>eLH41, eJL164, eXL31, eHO132, ePD86, eAV88, ePD84, eEE243, eXL37, eQD118, eEE224, eXL27, eMR12, eOX56, eLH47, eMR18, eLH46, eQD136, eOX43, eOX54, ePD76                                                                                        </td><td>21</td></tr>\n",
       "\t<tr><td>CASSLAGAYEQYF  </td><td>TRBV05-01      </td><td>TRBJ02-07</td><td>eJL143</td><td>1</td><td>eJL143, ePD79, eHH175, eLH45, eHO126, eXL31, eLH49, eLH42, eJL157, eHO135, eLH54, eMR14, eLH47, eAV91, eQD109, eQD111, eMR23, eQD123, eMR15                                                                                                    </td><td>19</td></tr>\n",
       "\t<tr><td>CASSFSYEQYF    </td><td>TRBV12-03/12-04</td><td>TRBJ02-07</td><td>eEE243</td><td>1</td><td>eEE243, eHH175, eXL30, eHO130, eJL149, eAV88, eXL27, eOX54, eEE224, eEE228, eOX49, eEE226, eOX52, eEE240, eOX46, eOX43, eXL31                                                                                                                  </td><td>17</td></tr>\n",
       "\t<tr><td>CASSLSAPQETQYF </td><td>TRBV27-01      </td><td>TRBJ02-05</td><td>eMR17 </td><td>1</td><td>eMR17, eJL161, eHO134, eQD124, eMR13, eQD111, eQD121, eHO140, eMR12, eQD125, eLH47, eEE226, eQD126, eQD114, eQD110, eQD120                                                                                                                     </td><td>16</td></tr>\n",
       "\t<tr><td>CASSVGETQYF    </td><td>TRBV09-01      </td><td>TRBJ02-05</td><td>eOX56 </td><td>1</td><td>eOX56, eEE224, eEE226, eEE228, eOX49, eOX54, eOX52, eXL27, eXL30, eOX43, eOX46, eXL32, eEE240, eAV88, eQD128, eHH175                                                                                                                           </td><td>16</td></tr>\n",
       "</tbody>\n",
       "</table>\n"
      ],
      "text/latex": [
       "A data.table: 6 × 7\n",
       "\\begin{tabular}{lllllll}\n",
       " CDR3b & TRBV & TRBJ & subject:condition & count.x & subject & count.y\\\\\n",
       " <chr> & <chr> & <chr> & <chr> & <int> & <chr> & <int>\\\\\n",
       "\\hline\n",
       "\t CASSIRSSYEQYF   & TRBV19-01       & TRBJ02-07 & eOX46  & 1 & eOX46, ePD84, eHO128, eHO132, eHO125, ePD83, eHO136, eLH41, eHO124, ePD86, eLH42, eHO130, ePD76, eQD137, eQD123, eMR20, eEE243, eHH173, eHH174, eQD124, eHH169, eEE228, eXL27, eQD115, eXL36, eMR12, eLH47, eDH113, eEE226, eXL37, eDH96, eXL30 & 32\\\\\n",
       "\t CASSQTGGRNQPQHF & TRBV12-X        & TRBJ01-05 & eLH41  & 1 & eLH41, eJL164, eXL31, eHO132, ePD86, eAV88, ePD84, eEE243, eXL37, eQD118, eEE224, eXL27, eMR12, eOX56, eLH47, eMR18, eLH46, eQD136, eOX43, eOX54, ePD76                                                                                         & 21\\\\\n",
       "\t CASSLAGAYEQYF   & TRBV05-01       & TRBJ02-07 & eJL143 & 1 & eJL143, ePD79, eHH175, eLH45, eHO126, eXL31, eLH49, eLH42, eJL157, eHO135, eLH54, eMR14, eLH47, eAV91, eQD109, eQD111, eMR23, eQD123, eMR15                                                                                                     & 19\\\\\n",
       "\t CASSFSYEQYF     & TRBV12-03/12-04 & TRBJ02-07 & eEE243 & 1 & eEE243, eHH175, eXL30, eHO130, eJL149, eAV88, eXL27, eOX54, eEE224, eEE228, eOX49, eEE226, eOX52, eEE240, eOX46, eOX43, eXL31                                                                                                                   & 17\\\\\n",
       "\t CASSLSAPQETQYF  & TRBV27-01       & TRBJ02-05 & eMR17  & 1 & eMR17, eJL161, eHO134, eQD124, eMR13, eQD111, eQD121, eHO140, eMR12, eQD125, eLH47, eEE226, eQD126, eQD114, eQD110, eQD120                                                                                                                      & 16\\\\\n",
       "\t CASSVGETQYF     & TRBV09-01       & TRBJ02-05 & eOX56  & 1 & eOX56, eEE224, eEE226, eEE228, eOX49, eOX54, eOX52, eXL27, eXL30, eOX43, eOX46, eXL32, eEE240, eAV88, eQD128, eHH175                                                                                                                            & 16\\\\\n",
       "\\end{tabular}\n"
      ],
      "text/markdown": [
       "\n",
       "A data.table: 6 × 7\n",
       "\n",
       "| CDR3b &lt;chr&gt; | TRBV &lt;chr&gt; | TRBJ &lt;chr&gt; | subject:condition &lt;chr&gt; | count.x &lt;int&gt; | subject &lt;chr&gt; | count.y &lt;int&gt; |\n",
       "|---|---|---|---|---|---|---|\n",
       "| CASSIRSSYEQYF   | TRBV19-01       | TRBJ02-07 | eOX46  | 1 | eOX46, ePD84, eHO128, eHO132, eHO125, ePD83, eHO136, eLH41, eHO124, ePD86, eLH42, eHO130, ePD76, eQD137, eQD123, eMR20, eEE243, eHH173, eHH174, eQD124, eHH169, eEE228, eXL27, eQD115, eXL36, eMR12, eLH47, eDH113, eEE226, eXL37, eDH96, eXL30 | 32 |\n",
       "| CASSQTGGRNQPQHF | TRBV12-X        | TRBJ01-05 | eLH41  | 1 | eLH41, eJL164, eXL31, eHO132, ePD86, eAV88, ePD84, eEE243, eXL37, eQD118, eEE224, eXL27, eMR12, eOX56, eLH47, eMR18, eLH46, eQD136, eOX43, eOX54, ePD76                                                                                         | 21 |\n",
       "| CASSLAGAYEQYF   | TRBV05-01       | TRBJ02-07 | eJL143 | 1 | eJL143, ePD79, eHH175, eLH45, eHO126, eXL31, eLH49, eLH42, eJL157, eHO135, eLH54, eMR14, eLH47, eAV91, eQD109, eQD111, eMR23, eQD123, eMR15                                                                                                     | 19 |\n",
       "| CASSFSYEQYF     | TRBV12-03/12-04 | TRBJ02-07 | eEE243 | 1 | eEE243, eHH175, eXL30, eHO130, eJL149, eAV88, eXL27, eOX54, eEE224, eEE228, eOX49, eEE226, eOX52, eEE240, eOX46, eOX43, eXL31                                                                                                                   | 17 |\n",
       "| CASSLSAPQETQYF  | TRBV27-01       | TRBJ02-05 | eMR17  | 1 | eMR17, eJL161, eHO134, eQD124, eMR13, eQD111, eQD121, eHO140, eMR12, eQD125, eLH47, eEE226, eQD126, eQD114, eQD110, eQD120                                                                                                                      | 16 |\n",
       "| CASSVGETQYF     | TRBV09-01       | TRBJ02-05 | eOX56  | 1 | eOX56, eEE224, eEE226, eEE228, eOX49, eOX54, eOX52, eXL27, eXL30, eOX43, eOX46, eXL32, eEE240, eAV88, eQD128, eHH175                                                                                                                            | 16 |\n",
       "\n"
      ],
      "text/plain": [
       "  CDR3b           TRBV            TRBJ      subject:condition count.x\n",
       "1 CASSIRSSYEQYF   TRBV19-01       TRBJ02-07 eOX46             1      \n",
       "2 CASSQTGGRNQPQHF TRBV12-X        TRBJ01-05 eLH41             1      \n",
       "3 CASSLAGAYEQYF   TRBV05-01       TRBJ02-07 eJL143            1      \n",
       "4 CASSFSYEQYF     TRBV12-03/12-04 TRBJ02-07 eEE243            1      \n",
       "5 CASSLSAPQETQYF  TRBV27-01       TRBJ02-05 eMR17             1      \n",
       "6 CASSVGETQYF     TRBV09-01       TRBJ02-05 eOX56             1      \n",
       "  subject                                                                                                                                                                                                                                        \n",
       "1 eOX46, ePD84, eHO128, eHO132, eHO125, ePD83, eHO136, eLH41, eHO124, ePD86, eLH42, eHO130, ePD76, eQD137, eQD123, eMR20, eEE243, eHH173, eHH174, eQD124, eHH169, eEE228, eXL27, eQD115, eXL36, eMR12, eLH47, eDH113, eEE226, eXL37, eDH96, eXL30\n",
       "2 eLH41, eJL164, eXL31, eHO132, ePD86, eAV88, ePD84, eEE243, eXL37, eQD118, eEE224, eXL27, eMR12, eOX56, eLH47, eMR18, eLH46, eQD136, eOX43, eOX54, ePD76                                                                                        \n",
       "3 eJL143, ePD79, eHH175, eLH45, eHO126, eXL31, eLH49, eLH42, eJL157, eHO135, eLH54, eMR14, eLH47, eAV91, eQD109, eQD111, eMR23, eQD123, eMR15                                                                                                    \n",
       "4 eEE243, eHH175, eXL30, eHO130, eJL149, eAV88, eXL27, eOX54, eEE224, eEE228, eOX49, eEE226, eOX52, eEE240, eOX46, eOX43, eXL31                                                                                                                  \n",
       "5 eMR17, eJL161, eHO134, eQD124, eMR13, eQD111, eQD121, eHO140, eMR12, eQD125, eLH47, eEE226, eQD126, eQD114, eQD110, eQD120                                                                                                                     \n",
       "6 eOX56, eEE224, eEE226, eEE228, eOX49, eOX54, eOX52, eXL27, eXL30, eOX43, eOX46, eXL32, eEE240, eAV88, eQD128, eHH175                                                                                                                           \n",
       "  count.y\n",
       "1 32     \n",
       "2 21     \n",
       "3 19     \n",
       "4 17     \n",
       "5 16     \n",
       "6 16     "
      ]
     },
     "metadata": {},
     "output_type": "display_data"
    }
   ],
   "source": [
    "head(covidfle_uniq_ab_dedup[order(covidfle_uniq_ab_dedup$count.y, decreasing = T),])"
   ]
  },
  {
   "cell_type": "code",
   "execution_count": 42,
   "metadata": {},
   "outputs": [],
   "source": [
    "covidfle_uniq_ab_dedup$file <- \"COVID_specific_TCRB.tsv\""
   ]
  },
  {
   "cell_type": "code",
   "execution_count": 45,
   "metadata": {},
   "outputs": [],
   "source": [
    "covidfle_uniq_ab_dedup$clonefraction <- 1"
   ]
  },
  {
   "cell_type": "code",
   "execution_count": 46,
   "metadata": {},
   "outputs": [
    {
     "data": {
      "text/html": [
       "<style>\n",
       ".list-inline {list-style: none; margin:0; padding: 0}\n",
       ".list-inline>li {display: inline-block}\n",
       ".list-inline>li:not(:last-child)::after {content: \"\\00b7\"; padding: 0 .5ex}\n",
       "</style>\n",
       "<ol class=list-inline><li>'CDR3b'</li><li>'TRBV'</li><li>'TRBJ'</li><li>'subject:condition'</li><li>'count.x'</li><li>'subject'</li><li>'count.y'</li><li>'file'</li><li>'clonefraction'</li></ol>\n"
      ],
      "text/latex": [
       "\\begin{enumerate*}\n",
       "\\item 'CDR3b'\n",
       "\\item 'TRBV'\n",
       "\\item 'TRBJ'\n",
       "\\item 'subject:condition'\n",
       "\\item 'count.x'\n",
       "\\item 'subject'\n",
       "\\item 'count.y'\n",
       "\\item 'file'\n",
       "\\item 'clonefraction'\n",
       "\\end{enumerate*}\n"
      ],
      "text/markdown": [
       "1. 'CDR3b'\n",
       "2. 'TRBV'\n",
       "3. 'TRBJ'\n",
       "4. 'subject:condition'\n",
       "5. 'count.x'\n",
       "6. 'subject'\n",
       "7. 'count.y'\n",
       "8. 'file'\n",
       "9. 'clonefraction'\n",
       "\n",
       "\n"
      ],
      "text/plain": [
       "[1] \"CDR3b\"             \"TRBV\"              \"TRBJ\"             \n",
       "[4] \"subject:condition\" \"count.x\"           \"subject\"          \n",
       "[7] \"count.y\"           \"file\"              \"clonefraction\"    "
      ]
     },
     "metadata": {},
     "output_type": "display_data"
    }
   ],
   "source": [
    "colnames(covidfle_uniq_ab_dedup)"
   ]
  },
  {
   "cell_type": "code",
   "execution_count": 47,
   "metadata": {},
   "outputs": [],
   "source": [
    "covidfle_uniq_ab_dedup_subset <- covidfle_uniq_ab_dedup[,c(\"CDR3b\", \"TRBV\", \"TRBJ\", \"subject:condition\",\n",
    "                                                          \"count.y\", \"clonefraction\", \"subject\",\"file\")]"
   ]
  },
  {
   "cell_type": "code",
   "execution_count": 49,
   "metadata": {},
   "outputs": [],
   "source": [
    "colnames(covidfle_uniq_ab_dedup_subset)[ colnames(covidfle_uniq_ab_dedup_subset) == \"count.y\"] <- \"count\""
   ]
  },
  {
   "cell_type": "code",
   "execution_count": 73,
   "metadata": {},
   "outputs": [],
   "source": [
    "covidfle_uniq_ab_dedup_subset$index <- 1:nrow(covidfle_uniq_ab_dedup_subset)"
   ]
  },
  {
   "cell_type": "code",
   "execution_count": 74,
   "metadata": {},
   "outputs": [],
   "source": [
    "save(covidfle_uniq_ab_dedup_subset, file = paste0(datapath, \"capTCRseq/covidfle_uniq_ab_dedup_subset.RData\"))"
   ]
  },
  {
   "cell_type": "code",
   "execution_count": 65,
   "metadata": {},
   "outputs": [],
   "source": [
    "#write.table(covidfle_uniq_ab_dedup_subset, file = '/Users/anabbi/Desktop/H4H/projects/COVID-19/tcr-cap/Adaptive/MIRA/ImmuneCODE-MIRA-Release002.1/COVID_specific_TCRB_clean.tsv',\n",
    "#            sep = \"\\t\", quote = F, row.names = F)"
   ]
  },
  {
   "cell_type": "markdown",
   "metadata": {},
   "source": [
    "## Cleanup VDJdb file - curated by Shirin"
   ]
  },
  {
   "cell_type": "code",
   "execution_count": 80,
   "metadata": {},
   "outputs": [],
   "source": [
    "VDJdb_tcr <- read.table(file = paste0(datapath, \"CapTCRseq/VDJdb_MinimalScoreConfidence3.tsv\"), sep = \"\\t\", header = T)"
   ]
  },
  {
   "cell_type": "code",
   "execution_count": 81,
   "metadata": {},
   "outputs": [
    {
     "data": {
      "text/html": [
       "<style>\n",
       ".list-inline {list-style: none; margin:0; padding: 0}\n",
       ".list-inline>li {display: inline-block}\n",
       ".list-inline>li:not(:last-child)::after {content: \"\\00b7\"; padding: 0 .5ex}\n",
       "</style>\n",
       "<ol class=list-inline><li>'complex.id'</li><li>'Gene'</li><li>'aaSeqCDR3'</li><li>'V'</li><li>'J'</li><li>'MHC.A'</li><li>'MHC.B'</li><li>'MHC.class'</li><li>'Epitope'</li><li>'Epitope.gene'</li><li>'Epitope.species'</li><li>'Reference'</li></ol>\n"
      ],
      "text/latex": [
       "\\begin{enumerate*}\n",
       "\\item 'complex.id'\n",
       "\\item 'Gene'\n",
       "\\item 'aaSeqCDR3'\n",
       "\\item 'V'\n",
       "\\item 'J'\n",
       "\\item 'MHC.A'\n",
       "\\item 'MHC.B'\n",
       "\\item 'MHC.class'\n",
       "\\item 'Epitope'\n",
       "\\item 'Epitope.gene'\n",
       "\\item 'Epitope.species'\n",
       "\\item 'Reference'\n",
       "\\end{enumerate*}\n"
      ],
      "text/markdown": [
       "1. 'complex.id'\n",
       "2. 'Gene'\n",
       "3. 'aaSeqCDR3'\n",
       "4. 'V'\n",
       "5. 'J'\n",
       "6. 'MHC.A'\n",
       "7. 'MHC.B'\n",
       "8. 'MHC.class'\n",
       "9. 'Epitope'\n",
       "10. 'Epitope.gene'\n",
       "11. 'Epitope.species'\n",
       "12. 'Reference'\n",
       "\n",
       "\n"
      ],
      "text/plain": [
       " [1] \"complex.id\"      \"Gene\"            \"aaSeqCDR3\"       \"V\"              \n",
       " [5] \"J\"               \"MHC.A\"           \"MHC.B\"           \"MHC.class\"      \n",
       " [9] \"Epitope\"         \"Epitope.gene\"    \"Epitope.species\" \"Reference\"      "
      ]
     },
     "metadata": {},
     "output_type": "display_data"
    }
   ],
   "source": [
    "colnames(VDJdb_tcr)"
   ]
  },
  {
   "cell_type": "code",
   "execution_count": 82,
   "metadata": {},
   "outputs": [],
   "source": [
    "VDJdb_tcr$`subject:condition` <- \"VDJdb\"\n",
    "VDJdb_tcr$count <- 1\n",
    "VDJdb_tcr$clonefraction <- 1\n",
    "VDJdb_tcr$subject <- \"VDJdb\"\n",
    "VDJdb_tcr$file <- \"VDJdb_MinimalScoreConfidence3.tsv\"\n",
    "VDJdb_tcr$index <- 1:nrow(VDJdb_tcr)"
   ]
  },
  {
   "cell_type": "code",
   "execution_count": 83,
   "metadata": {},
   "outputs": [],
   "source": [
    "VDJdb_tcr_cleanup <- VDJdb_tcr[, c(\"aaSeqCDR3\", \"V\", \"J\", \"subject:condition\", \"count\", \n",
    "                                   \"clonefraction\", \"subject\", \"file\", \"index\")]"
   ]
  },
  {
   "cell_type": "code",
   "execution_count": 23,
   "metadata": {},
   "outputs": [
    {
     "data": {
      "text/html": [
       "<style>\n",
       ".list-inline {list-style: none; margin:0; padding: 0}\n",
       ".list-inline>li {display: inline-block}\n",
       ".list-inline>li:not(:last-child)::after {content: \"\\00b7\"; padding: 0 .5ex}\n",
       "</style>\n",
       "<ol class=list-inline><li>'CDR3b'</li><li>'TRBV'</li><li>'TRBJ'</li><li>'subject:condition'</li><li>'count'</li><li>'clonefraction'</li><li>'subject'</li><li>'file'</li><li>'index'</li></ol>\n"
      ],
      "text/latex": [
       "\\begin{enumerate*}\n",
       "\\item 'CDR3b'\n",
       "\\item 'TRBV'\n",
       "\\item 'TRBJ'\n",
       "\\item 'subject:condition'\n",
       "\\item 'count'\n",
       "\\item 'clonefraction'\n",
       "\\item 'subject'\n",
       "\\item 'file'\n",
       "\\item 'index'\n",
       "\\end{enumerate*}\n"
      ],
      "text/markdown": [
       "1. 'CDR3b'\n",
       "2. 'TRBV'\n",
       "3. 'TRBJ'\n",
       "4. 'subject:condition'\n",
       "5. 'count'\n",
       "6. 'clonefraction'\n",
       "7. 'subject'\n",
       "8. 'file'\n",
       "9. 'index'\n",
       "\n",
       "\n"
      ],
      "text/plain": [
       "[1] \"CDR3b\"             \"TRBV\"              \"TRBJ\"             \n",
       "[4] \"subject:condition\" \"count\"             \"clonefraction\"    \n",
       "[7] \"subject\"           \"file\"              \"index\"            "
      ]
     },
     "metadata": {},
     "output_type": "display_data"
    }
   ],
   "source": [
    "colnames(covidfle_uniq_ab_dedup_subset)"
   ]
  },
  {
   "cell_type": "code",
   "execution_count": 85,
   "metadata": {},
   "outputs": [],
   "source": [
    "colnames(VDJdb_tcr_cleanup)[1:3] <- c('CDR3b', 'TRBV', 'TRBJ')"
   ]
  },
  {
   "cell_type": "code",
   "execution_count": 86,
   "metadata": {},
   "outputs": [],
   "source": [
    "VDJdb_tcr_cleanup$TRBV <- gsub(\"[*]0.*\", \"\", VDJdb_tcr_cleanup$TRBV)\n",
    "VDJdb_tcr_cleanup$TRBJ <- gsub(\"[*]0.*\", \"\", VDJdb_tcr_cleanup$TRBJ)"
   ]
  },
  {
   "cell_type": "code",
   "execution_count": 87,
   "metadata": {},
   "outputs": [
    {
     "data": {
      "text/html": [
       "<table class=\"dataframe\">\n",
       "<caption>A data.frame: 6 × 9</caption>\n",
       "<thead>\n",
       "\t<tr><th></th><th scope=col>CDR3b</th><th scope=col>TRBV</th><th scope=col>TRBJ</th><th scope=col>subject:condition</th><th scope=col>count</th><th scope=col>clonefraction</th><th scope=col>subject</th><th scope=col>file</th><th scope=col>index</th></tr>\n",
       "\t<tr><th></th><th scope=col>&lt;chr&gt;</th><th scope=col>&lt;chr&gt;</th><th scope=col>&lt;chr&gt;</th><th scope=col>&lt;chr&gt;</th><th scope=col>&lt;dbl&gt;</th><th scope=col>&lt;dbl&gt;</th><th scope=col>&lt;chr&gt;</th><th scope=col>&lt;chr&gt;</th><th scope=col>&lt;int&gt;</th></tr>\n",
       "</thead>\n",
       "<tbody>\n",
       "\t<tr><th scope=row>1</th><td>CAISGQAVSTDTQYF</td><td>TRBV10-3</td><td>TRBJ2-3</td><td>VDJdb</td><td>1</td><td>1</td><td>VDJdb</td><td>VDJdb_MinimalScoreConfidence3.tsv</td><td>1</td></tr>\n",
       "\t<tr><th scope=row>2</th><td>CASDSNTEAFF    </td><td>TRBV25-1</td><td>TRBJ1-1</td><td>VDJdb</td><td>1</td><td>1</td><td>VDJdb</td><td>VDJdb_MinimalScoreConfidence3.tsv</td><td>2</td></tr>\n",
       "\t<tr><th scope=row>3</th><td>CASGWGSQPQHF   </td><td>TRBV7-9 </td><td>TRBJ1-5</td><td>VDJdb</td><td>1</td><td>1</td><td>VDJdb</td><td>VDJdb_MinimalScoreConfidence3.tsv</td><td>3</td></tr>\n",
       "\t<tr><th scope=row>4</th><td>CASKGQGARDGYTF </td><td>TRBV6-6 </td><td>TRBJ1-2</td><td>VDJdb</td><td>1</td><td>1</td><td>VDJdb</td><td>VDJdb_MinimalScoreConfidence3.tsv</td><td>4</td></tr>\n",
       "\t<tr><th scope=row>5</th><td>CASKMRGDVYEQYF </td><td>TRBV18  </td><td>TRBJ2-7</td><td>VDJdb</td><td>1</td><td>1</td><td>VDJdb</td><td>VDJdb_MinimalScoreConfidence3.tsv</td><td>5</td></tr>\n",
       "\t<tr><th scope=row>6</th><td>CASMGNSAGANVLTF</td><td>TRBV10-1</td><td>TRBJ2-6</td><td>VDJdb</td><td>1</td><td>1</td><td>VDJdb</td><td>VDJdb_MinimalScoreConfidence3.tsv</td><td>6</td></tr>\n",
       "</tbody>\n",
       "</table>\n"
      ],
      "text/latex": [
       "A data.frame: 6 × 9\n",
       "\\begin{tabular}{r|lllllllll}\n",
       "  & CDR3b & TRBV & TRBJ & subject:condition & count & clonefraction & subject & file & index\\\\\n",
       "  & <chr> & <chr> & <chr> & <chr> & <dbl> & <dbl> & <chr> & <chr> & <int>\\\\\n",
       "\\hline\n",
       "\t1 & CAISGQAVSTDTQYF & TRBV10-3 & TRBJ2-3 & VDJdb & 1 & 1 & VDJdb & VDJdb\\_MinimalScoreConfidence3.tsv & 1\\\\\n",
       "\t2 & CASDSNTEAFF     & TRBV25-1 & TRBJ1-1 & VDJdb & 1 & 1 & VDJdb & VDJdb\\_MinimalScoreConfidence3.tsv & 2\\\\\n",
       "\t3 & CASGWGSQPQHF    & TRBV7-9  & TRBJ1-5 & VDJdb & 1 & 1 & VDJdb & VDJdb\\_MinimalScoreConfidence3.tsv & 3\\\\\n",
       "\t4 & CASKGQGARDGYTF  & TRBV6-6  & TRBJ1-2 & VDJdb & 1 & 1 & VDJdb & VDJdb\\_MinimalScoreConfidence3.tsv & 4\\\\\n",
       "\t5 & CASKMRGDVYEQYF  & TRBV18   & TRBJ2-7 & VDJdb & 1 & 1 & VDJdb & VDJdb\\_MinimalScoreConfidence3.tsv & 5\\\\\n",
       "\t6 & CASMGNSAGANVLTF & TRBV10-1 & TRBJ2-6 & VDJdb & 1 & 1 & VDJdb & VDJdb\\_MinimalScoreConfidence3.tsv & 6\\\\\n",
       "\\end{tabular}\n"
      ],
      "text/markdown": [
       "\n",
       "A data.frame: 6 × 9\n",
       "\n",
       "| <!--/--> | CDR3b &lt;chr&gt; | TRBV &lt;chr&gt; | TRBJ &lt;chr&gt; | subject:condition &lt;chr&gt; | count &lt;dbl&gt; | clonefraction &lt;dbl&gt; | subject &lt;chr&gt; | file &lt;chr&gt; | index &lt;int&gt; |\n",
       "|---|---|---|---|---|---|---|---|---|---|\n",
       "| 1 | CAISGQAVSTDTQYF | TRBV10-3 | TRBJ2-3 | VDJdb | 1 | 1 | VDJdb | VDJdb_MinimalScoreConfidence3.tsv | 1 |\n",
       "| 2 | CASDSNTEAFF     | TRBV25-1 | TRBJ1-1 | VDJdb | 1 | 1 | VDJdb | VDJdb_MinimalScoreConfidence3.tsv | 2 |\n",
       "| 3 | CASGWGSQPQHF    | TRBV7-9  | TRBJ1-5 | VDJdb | 1 | 1 | VDJdb | VDJdb_MinimalScoreConfidence3.tsv | 3 |\n",
       "| 4 | CASKGQGARDGYTF  | TRBV6-6  | TRBJ1-2 | VDJdb | 1 | 1 | VDJdb | VDJdb_MinimalScoreConfidence3.tsv | 4 |\n",
       "| 5 | CASKMRGDVYEQYF  | TRBV18   | TRBJ2-7 | VDJdb | 1 | 1 | VDJdb | VDJdb_MinimalScoreConfidence3.tsv | 5 |\n",
       "| 6 | CASMGNSAGANVLTF | TRBV10-1 | TRBJ2-6 | VDJdb | 1 | 1 | VDJdb | VDJdb_MinimalScoreConfidence3.tsv | 6 |\n",
       "\n"
      ],
      "text/plain": [
       "  CDR3b           TRBV     TRBJ    subject:condition count clonefraction\n",
       "1 CAISGQAVSTDTQYF TRBV10-3 TRBJ2-3 VDJdb             1     1            \n",
       "2 CASDSNTEAFF     TRBV25-1 TRBJ1-1 VDJdb             1     1            \n",
       "3 CASGWGSQPQHF    TRBV7-9  TRBJ1-5 VDJdb             1     1            \n",
       "4 CASKGQGARDGYTF  TRBV6-6  TRBJ1-2 VDJdb             1     1            \n",
       "5 CASKMRGDVYEQYF  TRBV18   TRBJ2-7 VDJdb             1     1            \n",
       "6 CASMGNSAGANVLTF TRBV10-1 TRBJ2-6 VDJdb             1     1            \n",
       "  subject file                              index\n",
       "1 VDJdb   VDJdb_MinimalScoreConfidence3.tsv 1    \n",
       "2 VDJdb   VDJdb_MinimalScoreConfidence3.tsv 2    \n",
       "3 VDJdb   VDJdb_MinimalScoreConfidence3.tsv 3    \n",
       "4 VDJdb   VDJdb_MinimalScoreConfidence3.tsv 4    \n",
       "5 VDJdb   VDJdb_MinimalScoreConfidence3.tsv 5    \n",
       "6 VDJdb   VDJdb_MinimalScoreConfidence3.tsv 6    "
      ]
     },
     "metadata": {},
     "output_type": "display_data"
    }
   ],
   "source": [
    "head(VDJdb_tcr_cleanup)"
   ]
  },
  {
   "cell_type": "code",
   "execution_count": 88,
   "metadata": {},
   "outputs": [],
   "source": [
    "save(VDJdb_tcr_cleanup, file = paste0(datapath, \"capTCRseq/VDJdb_tcr_cleanup.RData\"))"
   ]
  },
  {
   "cell_type": "markdown",
   "metadata": {},
   "source": [
    "# bind all"
   ]
  },
  {
   "cell_type": "code",
   "execution_count": 6,
   "metadata": {},
   "outputs": [],
   "source": [
    "load(file = paste0(datapath, \"capTCRseq/INT_gliph_input.RData\"))"
   ]
  },
  {
   "cell_type": "code",
   "execution_count": 7,
   "metadata": {},
   "outputs": [],
   "source": [
    "load(file = paste0(datapath, \"capTCRseq/covidfle_uniq_ab_dedup_subset.RData\"))"
   ]
  },
  {
   "cell_type": "code",
   "execution_count": 8,
   "metadata": {},
   "outputs": [],
   "source": [
    "load(file = paste0(datapath, \"capTCRseq/VDJdb_tcr_cleanup.RData\"))"
   ]
  },
  {
   "cell_type": "code",
   "execution_count": 9,
   "metadata": {},
   "outputs": [],
   "source": [
    "gliph_int_covid_tcr <- rbind(taball, covidfle_uniq_ab_dedup_subset, VDJdb_tcr_cleanup)"
   ]
  },
  {
   "cell_type": "code",
   "execution_count": 10,
   "metadata": {
    "scrolled": true
   },
   "outputs": [],
   "source": [
    "gliph_int_covid_tcr$CDR3a <- NA"
   ]
  },
  {
   "cell_type": "code",
   "execution_count": 11,
   "metadata": {},
   "outputs": [],
   "source": [
    "gliph_int_covid_tcr <- gliph_int_covid_tcr[,c('CDR3b','TRBV','TRBJ','CDR3a', 'subject:condition','count',\n",
    "                                              'clonefraction','subject','file','index')]"
   ]
  },
  {
   "cell_type": "code",
   "execution_count": 12,
   "metadata": {},
   "outputs": [],
   "source": [
    "#bind subject and index to be able to map back to gliph_int_covid_tcr\n",
    "gliph_int_covid_tcr$`subject:condition` <- paste(gliph_int_covid_tcr$`subject:condition`,\n",
    "                                                 gliph_int_covid_tcr$index, sep = \":\")"
   ]
  },
  {
   "cell_type": "code",
   "execution_count": 13,
   "metadata": {},
   "outputs": [],
   "source": [
    "save(gliph_int_covid_tcr, file = paste0(datapath, \"capTCRseq/gliph_int_covid_tcr.RData\"))"
   ]
  },
  {
   "cell_type": "code",
   "execution_count": 14,
   "metadata": {},
   "outputs": [],
   "source": [
    "#remove header and select cols 1:6 for gliph to work\n",
    "write.table(gliph_int_covid_tcr[,1:6], file = paste0(h4hpath,'/GLIPH/gliph_int_covid_tcr.txt'),\n",
    "         sep = \"\\t\", quote = F, row.names = F, col.names = F)"
   ]
  },
  {
   "cell_type": "markdown",
   "metadata": {},
   "source": [
    "# Backup"
   ]
  },
  {
   "cell_type": "code",
   "execution_count": null,
   "metadata": {},
   "outputs": [],
   "source": []
  },
  {
   "cell_type": "code",
   "execution_count": 6,
   "metadata": {},
   "outputs": [],
   "source": [
    "mylist <- list()\n",
    "\n",
    "for(i in 1:nrow(file_df_dedup_trb)){\n",
    "    \n",
    "    onefle <- read.table(paste0(h4hpath, file_df_dedup_trb$file_list[i]), \n",
    "                         sep = \"\\t\", header = TRUE, stringsAsFactors = F)  \n",
    "    # Remove non-productive\n",
    "    onefle <- onefle[!grepl(\"_\", onefle$aaSeqCDR3),]\n",
    "    onefle <- onefle[!grepl(\"[*]\", onefle$aaSeqCDR3),]\n",
    "    onefle$CDR3b <- onefle$aaSeqCDR3\n",
    "    #next if the file has no productive cdr3\n",
    "    if(nrow(onefle) == 0){ next}\n",
    "    #remove scores\n",
    "    onefle$TRBV <- gsub(\"[*]0.*\", \"\", onefle$allVHitsWithScore)\n",
    "    onefle$TRBJ <- gsub(\"[*]0.*\", \"\", onefle$allJHitsWithScore)\n",
    "\n",
    "    onefle$count <- onefle$cloneCount\n",
    "    onefle$clonefraction <- onefle$cloneFraction\n",
    "    onefle$nSeqCDR3 <- onefle$nSeqCDR3\n",
    "    onefle$file <- paste0(h4hpath, file_df_dedup_trb$file_list[i])\n",
    "    onefle$subject.condition <- file_df_dedup_trb$samplename[i]\n",
    "    mylist[length(mylist) + 1] <- list(onefle[,c(\"CDR3b\", \"TRBV\", \"TRBJ\", \"subject.condition\", \n",
    "                                                 \"count\", \"clonefraction\",\"nSeqCDR3\", \"file\")])\n",
    "}"
   ]
  },
  {
   "cell_type": "code",
   "execution_count": 7,
   "metadata": {},
   "outputs": [
    {
     "data": {
      "text/html": [
       "580"
      ],
      "text/latex": [
       "580"
      ],
      "text/markdown": [
       "580"
      ],
      "text/plain": [
       "[1] 580"
      ]
     },
     "metadata": {},
     "output_type": "display_data"
    }
   ],
   "source": [
    "length(mylist)"
   ]
  },
  {
   "cell_type": "code",
   "execution_count": 8,
   "metadata": {},
   "outputs": [],
   "source": [
    "gliph_input <- do.call(\"rbind\", mylist)"
   ]
  },
  {
   "cell_type": "code",
   "execution_count": 9,
   "metadata": {},
   "outputs": [
    {
     "data": {
      "text/html": [
       "<style>\n",
       ".list-inline {list-style: none; margin:0; padding: 0}\n",
       ".list-inline>li {display: inline-block}\n",
       ".list-inline>li:not(:last-child)::after {content: \"\\00b7\"; padding: 0 .5ex}\n",
       "</style>\n",
       "<ol class=list-inline><li>72634</li><li>8</li></ol>\n"
      ],
      "text/latex": [
       "\\begin{enumerate*}\n",
       "\\item 72634\n",
       "\\item 8\n",
       "\\end{enumerate*}\n"
      ],
      "text/markdown": [
       "1. 72634\n",
       "2. 8\n",
       "\n",
       "\n"
      ],
      "text/plain": [
       "[1] 72634     8"
      ]
     },
     "metadata": {},
     "output_type": "display_data"
    }
   ],
   "source": [
    "dim(gliph_input)"
   ]
  },
  {
   "cell_type": "code",
   "execution_count": 10,
   "metadata": {},
   "outputs": [
    {
     "data": {
      "text/html": [
       "<table class=\"dataframe\">\n",
       "<caption>A data.frame: 6 × 8</caption>\n",
       "<thead>\n",
       "\t<tr><th></th><th scope=col>CDR3b</th><th scope=col>TRBV</th><th scope=col>TRBJ</th><th scope=col>subject.condition</th><th scope=col>count</th><th scope=col>clonefraction</th><th scope=col>nSeqCDR3</th><th scope=col>file</th></tr>\n",
       "\t<tr><th></th><th scope=col>&lt;chr&gt;</th><th scope=col>&lt;chr&gt;</th><th scope=col>&lt;chr&gt;</th><th scope=col>&lt;chr&gt;</th><th scope=col>&lt;int&gt;</th><th scope=col>&lt;dbl&gt;</th><th scope=col>&lt;chr&gt;</th><th scope=col>&lt;chr&gt;</th></tr>\n",
       "</thead>\n",
       "<tbody>\n",
       "\t<tr><th scope=row>1</th><td>CASSFYGREADTQYF</td><td>TRBV7-2</td><td>TRBJ2-3</td><td>CHP_315-05-PBMC-DNA</td><td>187</td><td>0.19767442</td><td>TGTGCCAGCAGCTTCTATGGCAGGGAAGCAGATACGCAGTATTTT</td><td>/Users/anabbi/Desktop/H4H/INTERCEPT/NextSeq/batch4_19Aug2019/mixcr/clones/CLONES_TRBCHP_315-05-PBMC-DNA.txt</td></tr>\n",
       "\t<tr><th scope=row>3</th><td>CASSLMGGDSTEAFF</td><td>TRBV7-3</td><td>TRBJ1-1</td><td>CHP_315-05-PBMC-DNA</td><td> 48</td><td>0.05073996</td><td>TGTGCCAGCAGCTTAATGGGGGGAGATAGCACTGAAGCTTTCTTT</td><td>/Users/anabbi/Desktop/H4H/INTERCEPT/NextSeq/batch4_19Aug2019/mixcr/clones/CLONES_TRBCHP_315-05-PBMC-DNA.txt</td></tr>\n",
       "\t<tr><th scope=row>4</th><td>CASSLTGTGVEKLFF</td><td>TRBV7-3</td><td>TRBJ1-4</td><td>CHP_315-05-PBMC-DNA</td><td> 48</td><td>0.05073996</td><td>TGTGCCAGCAGCTTAACCGGGACAGGGGTTGAAAAACTGTTTTTT</td><td>/Users/anabbi/Desktop/H4H/INTERCEPT/NextSeq/batch4_19Aug2019/mixcr/clones/CLONES_TRBCHP_315-05-PBMC-DNA.txt</td></tr>\n",
       "\t<tr><th scope=row>5</th><td>CASSQRGQSTEQYF </td><td>TRBV14 </td><td>TRBJ2-7</td><td>CHP_315-05-PBMC-DNA</td><td> 42</td><td>0.04439746</td><td>TGTGCCAGCAGCCAACGGGGACAGTCAACCGAGCAGTACTTC   </td><td>/Users/anabbi/Desktop/H4H/INTERCEPT/NextSeq/batch4_19Aug2019/mixcr/clones/CLONES_TRBCHP_315-05-PBMC-DNA.txt</td></tr>\n",
       "\t<tr><th scope=row>6</th><td>CASSYQAGVGETQYF</td><td>TRBV6-6</td><td>TRBJ2-5</td><td>CHP_315-05-PBMC-DNA</td><td> 32</td><td>0.03382664</td><td>TGTGCCAGCAGTTACCAAGCGGGGGTGGGTGAGACCCAGTACTTC</td><td>/Users/anabbi/Desktop/H4H/INTERCEPT/NextSeq/batch4_19Aug2019/mixcr/clones/CLONES_TRBCHP_315-05-PBMC-DNA.txt</td></tr>\n",
       "\t<tr><th scope=row>9</th><td>CASSVVGVYNSPLHF</td><td>TRBV7-2</td><td>TRBJ1-6</td><td>CHP_315-05-PBMC-DNA</td><td> 29</td><td>0.03065539</td><td>TGTGCCAGCAGCGTAGTAGGGGTCTATAATTCACCCCTCCACTTT</td><td>/Users/anabbi/Desktop/H4H/INTERCEPT/NextSeq/batch4_19Aug2019/mixcr/clones/CLONES_TRBCHP_315-05-PBMC-DNA.txt</td></tr>\n",
       "</tbody>\n",
       "</table>\n"
      ],
      "text/latex": [
       "A data.frame: 6 × 8\n",
       "\\begin{tabular}{r|llllllll}\n",
       "  & CDR3b & TRBV & TRBJ & subject.condition & count & clonefraction & nSeqCDR3 & file\\\\\n",
       "  & <chr> & <chr> & <chr> & <chr> & <int> & <dbl> & <chr> & <chr>\\\\\n",
       "\\hline\n",
       "\t1 & CASSFYGREADTQYF & TRBV7-2 & TRBJ2-3 & CHP\\_315-05-PBMC-DNA & 187 & 0.19767442 & TGTGCCAGCAGCTTCTATGGCAGGGAAGCAGATACGCAGTATTTT & /Users/anabbi/Desktop/H4H/INTERCEPT/NextSeq/batch4\\_19Aug2019/mixcr/clones/CLONES\\_TRBCHP\\_315-05-PBMC-DNA.txt\\\\\n",
       "\t3 & CASSLMGGDSTEAFF & TRBV7-3 & TRBJ1-1 & CHP\\_315-05-PBMC-DNA &  48 & 0.05073996 & TGTGCCAGCAGCTTAATGGGGGGAGATAGCACTGAAGCTTTCTTT & /Users/anabbi/Desktop/H4H/INTERCEPT/NextSeq/batch4\\_19Aug2019/mixcr/clones/CLONES\\_TRBCHP\\_315-05-PBMC-DNA.txt\\\\\n",
       "\t4 & CASSLTGTGVEKLFF & TRBV7-3 & TRBJ1-4 & CHP\\_315-05-PBMC-DNA &  48 & 0.05073996 & TGTGCCAGCAGCTTAACCGGGACAGGGGTTGAAAAACTGTTTTTT & /Users/anabbi/Desktop/H4H/INTERCEPT/NextSeq/batch4\\_19Aug2019/mixcr/clones/CLONES\\_TRBCHP\\_315-05-PBMC-DNA.txt\\\\\n",
       "\t5 & CASSQRGQSTEQYF  & TRBV14  & TRBJ2-7 & CHP\\_315-05-PBMC-DNA &  42 & 0.04439746 & TGTGCCAGCAGCCAACGGGGACAGTCAACCGAGCAGTACTTC    & /Users/anabbi/Desktop/H4H/INTERCEPT/NextSeq/batch4\\_19Aug2019/mixcr/clones/CLONES\\_TRBCHP\\_315-05-PBMC-DNA.txt\\\\\n",
       "\t6 & CASSYQAGVGETQYF & TRBV6-6 & TRBJ2-5 & CHP\\_315-05-PBMC-DNA &  32 & 0.03382664 & TGTGCCAGCAGTTACCAAGCGGGGGTGGGTGAGACCCAGTACTTC & /Users/anabbi/Desktop/H4H/INTERCEPT/NextSeq/batch4\\_19Aug2019/mixcr/clones/CLONES\\_TRBCHP\\_315-05-PBMC-DNA.txt\\\\\n",
       "\t9 & CASSVVGVYNSPLHF & TRBV7-2 & TRBJ1-6 & CHP\\_315-05-PBMC-DNA &  29 & 0.03065539 & TGTGCCAGCAGCGTAGTAGGGGTCTATAATTCACCCCTCCACTTT & /Users/anabbi/Desktop/H4H/INTERCEPT/NextSeq/batch4\\_19Aug2019/mixcr/clones/CLONES\\_TRBCHP\\_315-05-PBMC-DNA.txt\\\\\n",
       "\\end{tabular}\n"
      ],
      "text/markdown": [
       "\n",
       "A data.frame: 6 × 8\n",
       "\n",
       "| <!--/--> | CDR3b &lt;chr&gt; | TRBV &lt;chr&gt; | TRBJ &lt;chr&gt; | subject.condition &lt;chr&gt; | count &lt;int&gt; | clonefraction &lt;dbl&gt; | nSeqCDR3 &lt;chr&gt; | file &lt;chr&gt; |\n",
       "|---|---|---|---|---|---|---|---|---|\n",
       "| 1 | CASSFYGREADTQYF | TRBV7-2 | TRBJ2-3 | CHP_315-05-PBMC-DNA | 187 | 0.19767442 | TGTGCCAGCAGCTTCTATGGCAGGGAAGCAGATACGCAGTATTTT | /Users/anabbi/Desktop/H4H/INTERCEPT/NextSeq/batch4_19Aug2019/mixcr/clones/CLONES_TRBCHP_315-05-PBMC-DNA.txt |\n",
       "| 3 | CASSLMGGDSTEAFF | TRBV7-3 | TRBJ1-1 | CHP_315-05-PBMC-DNA |  48 | 0.05073996 | TGTGCCAGCAGCTTAATGGGGGGAGATAGCACTGAAGCTTTCTTT | /Users/anabbi/Desktop/H4H/INTERCEPT/NextSeq/batch4_19Aug2019/mixcr/clones/CLONES_TRBCHP_315-05-PBMC-DNA.txt |\n",
       "| 4 | CASSLTGTGVEKLFF | TRBV7-3 | TRBJ1-4 | CHP_315-05-PBMC-DNA |  48 | 0.05073996 | TGTGCCAGCAGCTTAACCGGGACAGGGGTTGAAAAACTGTTTTTT | /Users/anabbi/Desktop/H4H/INTERCEPT/NextSeq/batch4_19Aug2019/mixcr/clones/CLONES_TRBCHP_315-05-PBMC-DNA.txt |\n",
       "| 5 | CASSQRGQSTEQYF  | TRBV14  | TRBJ2-7 | CHP_315-05-PBMC-DNA |  42 | 0.04439746 | TGTGCCAGCAGCCAACGGGGACAGTCAACCGAGCAGTACTTC    | /Users/anabbi/Desktop/H4H/INTERCEPT/NextSeq/batch4_19Aug2019/mixcr/clones/CLONES_TRBCHP_315-05-PBMC-DNA.txt |\n",
       "| 6 | CASSYQAGVGETQYF | TRBV6-6 | TRBJ2-5 | CHP_315-05-PBMC-DNA |  32 | 0.03382664 | TGTGCCAGCAGTTACCAAGCGGGGGTGGGTGAGACCCAGTACTTC | /Users/anabbi/Desktop/H4H/INTERCEPT/NextSeq/batch4_19Aug2019/mixcr/clones/CLONES_TRBCHP_315-05-PBMC-DNA.txt |\n",
       "| 9 | CASSVVGVYNSPLHF | TRBV7-2 | TRBJ1-6 | CHP_315-05-PBMC-DNA |  29 | 0.03065539 | TGTGCCAGCAGCGTAGTAGGGGTCTATAATTCACCCCTCCACTTT | /Users/anabbi/Desktop/H4H/INTERCEPT/NextSeq/batch4_19Aug2019/mixcr/clones/CLONES_TRBCHP_315-05-PBMC-DNA.txt |\n",
       "\n"
      ],
      "text/plain": [
       "  CDR3b           TRBV    TRBJ    subject.condition   count clonefraction\n",
       "1 CASSFYGREADTQYF TRBV7-2 TRBJ2-3 CHP_315-05-PBMC-DNA 187   0.19767442   \n",
       "3 CASSLMGGDSTEAFF TRBV7-3 TRBJ1-1 CHP_315-05-PBMC-DNA  48   0.05073996   \n",
       "4 CASSLTGTGVEKLFF TRBV7-3 TRBJ1-4 CHP_315-05-PBMC-DNA  48   0.05073996   \n",
       "5 CASSQRGQSTEQYF  TRBV14  TRBJ2-7 CHP_315-05-PBMC-DNA  42   0.04439746   \n",
       "6 CASSYQAGVGETQYF TRBV6-6 TRBJ2-5 CHP_315-05-PBMC-DNA  32   0.03382664   \n",
       "9 CASSVVGVYNSPLHF TRBV7-2 TRBJ1-6 CHP_315-05-PBMC-DNA  29   0.03065539   \n",
       "  nSeqCDR3                                     \n",
       "1 TGTGCCAGCAGCTTCTATGGCAGGGAAGCAGATACGCAGTATTTT\n",
       "3 TGTGCCAGCAGCTTAATGGGGGGAGATAGCACTGAAGCTTTCTTT\n",
       "4 TGTGCCAGCAGCTTAACCGGGACAGGGGTTGAAAAACTGTTTTTT\n",
       "5 TGTGCCAGCAGCCAACGGGGACAGTCAACCGAGCAGTACTTC   \n",
       "6 TGTGCCAGCAGTTACCAAGCGGGGGTGGGTGAGACCCAGTACTTC\n",
       "9 TGTGCCAGCAGCGTAGTAGGGGTCTATAATTCACCCCTCCACTTT\n",
       "  file                                                                                                       \n",
       "1 /Users/anabbi/Desktop/H4H/INTERCEPT/NextSeq/batch4_19Aug2019/mixcr/clones/CLONES_TRBCHP_315-05-PBMC-DNA.txt\n",
       "3 /Users/anabbi/Desktop/H4H/INTERCEPT/NextSeq/batch4_19Aug2019/mixcr/clones/CLONES_TRBCHP_315-05-PBMC-DNA.txt\n",
       "4 /Users/anabbi/Desktop/H4H/INTERCEPT/NextSeq/batch4_19Aug2019/mixcr/clones/CLONES_TRBCHP_315-05-PBMC-DNA.txt\n",
       "5 /Users/anabbi/Desktop/H4H/INTERCEPT/NextSeq/batch4_19Aug2019/mixcr/clones/CLONES_TRBCHP_315-05-PBMC-DNA.txt\n",
       "6 /Users/anabbi/Desktop/H4H/INTERCEPT/NextSeq/batch4_19Aug2019/mixcr/clones/CLONES_TRBCHP_315-05-PBMC-DNA.txt\n",
       "9 /Users/anabbi/Desktop/H4H/INTERCEPT/NextSeq/batch4_19Aug2019/mixcr/clones/CLONES_TRBCHP_315-05-PBMC-DNA.txt"
      ]
     },
     "metadata": {},
     "output_type": "display_data"
    }
   ],
   "source": [
    "head(gliph_input)"
   ]
  },
  {
   "cell_type": "code",
   "execution_count": 11,
   "metadata": {},
   "outputs": [],
   "source": []
  },
  {
   "cell_type": "code",
   "execution_count": 12,
   "metadata": {},
   "outputs": [],
   "source": [
    "library(data.table)\n",
    "\n",
    "#bind those with the same cdr3 + TRBV\n",
    "setDT(gliph_input)\n",
    "\n",
    "ab <- gliph_input[, .(subject = toString(subject.condition), #bind subjects\n",
    "                      file = toString(file), #bind filenames\n",
    "                      count = sum(count)),  #get sum of counts\n",
    "                  by = c(\"CDR3b\", \"TRBV\", \"TRBJ\")] #get duplicates sequences with the same cdr3 + TRBV + TRBJ\n",
    "\n",
    "gliph_input_ab <- merge(gliph_input, ab, by = c(\"CDR3b\",\"TRBV\",\"TRBJ\")) # merge together"
   ]
  },
  {
   "cell_type": "code",
   "execution_count": 13,
   "metadata": {},
   "outputs": [
    {
     "data": {
      "text/html": [
       "<table class=\"dataframe\">\n",
       "<caption>A data.table: 6 × 11</caption>\n",
       "<thead>\n",
       "\t<tr><th scope=col>CDR3b</th><th scope=col>TRBV</th><th scope=col>TRBJ</th><th scope=col>subject.condition</th><th scope=col>count.x</th><th scope=col>clonefraction</th><th scope=col>nSeqCDR3</th><th scope=col>file.x</th><th scope=col>subject</th><th scope=col>file.y</th><th scope=col>count.y</th></tr>\n",
       "\t<tr><th scope=col>&lt;chr&gt;</th><th scope=col>&lt;chr&gt;</th><th scope=col>&lt;chr&gt;</th><th scope=col>&lt;chr&gt;</th><th scope=col>&lt;int&gt;</th><th scope=col>&lt;dbl&gt;</th><th scope=col>&lt;chr&gt;</th><th scope=col>&lt;chr&gt;</th><th scope=col>&lt;chr&gt;</th><th scope=col>&lt;chr&gt;</th><th scope=col>&lt;int&gt;</th></tr>\n",
       "</thead>\n",
       "<tbody>\n",
       "\t<tr><td>ADITWRGGQPQHF   </td><td>TRBV3-2 </td><td>TRBJ1-5</td><td>CHP_387-02_PBMC_DNA</td><td> 12</td><td>0.0017035775</td><td>GCCGACATTACCTGGAGAGGGGGTCAGCCCCAGCATTTT         </td><td>/Users/anabbi/Desktop/H4H/INTERCEPT/NextSeq/batch11_23Apr2020/mixcr/clones/CLONES_TRBCHP_387-02_PBMC_DNA.txt           </td><td>CHP_387-02_PBMC_DNA                     </td><td>/Users/anabbi/Desktop/H4H/INTERCEPT/NextSeq/batch11_23Apr2020/mixcr/clones/CLONES_TRBCHP_387-02_PBMC_DNA.txt                                                                                                              </td><td> 12</td></tr>\n",
       "\t<tr><td>CAAAGGGEAFF     </td><td>TRBV28  </td><td>TRBJ1-1</td><td>CHP_396-03_PBMC_DNA</td><td> 16</td><td>0.0033105731</td><td>TGTGCCGCAGCGGGGGGAGGTGAAGCTTTCTTT               </td><td>/Users/anabbi/Desktop/H4H/INTERCEPT/NextSeq/batch11_23Apr2020/mixcr/clones/CLONES_TRBCHP_396-03_PBMC_DNA.txt           </td><td>CHP_396-03_PBMC_DNA, CHP_396-04-PBMC-DNA</td><td>/Users/anabbi/Desktop/H4H/INTERCEPT/NextSeq/batch11_23Apr2020/mixcr/clones/CLONES_TRBCHP_396-03_PBMC_DNA.txt, /Users/anabbi/Desktop/H4H/INTERCEPT/NextSeq/batch13_26Aug2020/mixcr/clones/CLONES_TRBCHP_396-04-PBMC-DNA.txt</td><td>340</td></tr>\n",
       "\t<tr><td>CAAAGGGEAFF     </td><td>TRBV28  </td><td>TRBJ1-1</td><td>CHP_396-04-PBMC-DNA</td><td>324</td><td>0.0012697069</td><td>TGTGCCGCAGCGGGGGGAGGTGAAGCTTTCTTT               </td><td>/Users/anabbi/Desktop/H4H/INTERCEPT/NextSeq/batch13_26Aug2020/mixcr/clones/CLONES_TRBCHP_396-04-PBMC-DNA.txt           </td><td>CHP_396-03_PBMC_DNA, CHP_396-04-PBMC-DNA</td><td>/Users/anabbi/Desktop/H4H/INTERCEPT/NextSeq/batch11_23Apr2020/mixcr/clones/CLONES_TRBCHP_396-03_PBMC_DNA.txt, /Users/anabbi/Desktop/H4H/INTERCEPT/NextSeq/batch13_26Aug2020/mixcr/clones/CLONES_TRBCHP_396-04-PBMC-DNA.txt</td><td>340</td></tr>\n",
       "\t<tr><td>CAAAGGSGVGYEQYF </td><td>TRBV3-1 </td><td>TRBJ2-7</td><td>CHP_393-05-PBMC-DNA</td><td>151</td><td>0.0012674058</td><td>TGTGCCGCCGCCGGGGGCAGCGGGGTGGGCTACGAGCAGTACTTC   </td><td>/Users/anabbi/Desktop/H4H/INTERCEPT/NextSeq/batch13_26Aug2020/mixcr/clones/CLONES_TRBCHP_393-05-PBMC-DNA.txt           </td><td>CHP_393-05-PBMC-DNA                     </td><td>/Users/anabbi/Desktop/H4H/INTERCEPT/NextSeq/batch13_26Aug2020/mixcr/clones/CLONES_TRBCHP_393-05-PBMC-DNA.txt                                                                                                              </td><td>151</td></tr>\n",
       "\t<tr><td>CAAARGFDEQYF    </td><td>TRBV10-3</td><td>TRBJ2-7</td><td>CHP-411-02-PBMC-DNA</td><td> 20</td><td>0.0001310135</td><td>TGTGCCGCCGCACGGGGTTTCGACGAGCAGTACTTC            </td><td>/Users/anabbi/Desktop/H4H/INTERCEPT/NextSeq/remaining_batch_4_28June2021/mixcr/clones/CLONES_TRBCHP-411-02-PBMC-DNA.txt</td><td>CHP-411-02-PBMC-DNA                     </td><td>/Users/anabbi/Desktop/H4H/INTERCEPT/NextSeq/remaining_batch_4_28June2021/mixcr/clones/CLONES_TRBCHP-411-02-PBMC-DNA.txt                                                                                                   </td><td> 20</td></tr>\n",
       "\t<tr><td>CAACEPEVRDTDTQYF</td><td>TRBV28  </td><td>TRBJ2-3</td><td>CHP_338-05-PBMC-DNA</td><td> 11</td><td>0.0026397888</td><td>TGTGCCGCCTGCGAACCTGAAGTACGGGACACAGATACGCAGTATTTT</td><td>/Users/anabbi/Desktop/H4H/INTERCEPT/NextSeq/batch2_Aug62019/mixcr/clones/CLONES_TRBCHP_338-05-PBMC-DNA.txt             </td><td>CHP_338-05-PBMC-DNA, CHP_338-05-PBMC-DNA</td><td>/Users/anabbi/Desktop/H4H/INTERCEPT/NextSeq/batch2_Aug62019/mixcr/clones/CLONES_TRBCHP_338-05-PBMC-DNA.txt, /Users/anabbi/Desktop/H4H/INTERCEPT/NextSeq/batch2_Aug62019/mixcr/clones/CLONES_TRBCHP_338-05-PBMC-DNA.txt    </td><td> 12</td></tr>\n",
       "</tbody>\n",
       "</table>\n"
      ],
      "text/latex": [
       "A data.table: 6 × 11\n",
       "\\begin{tabular}{lllllllllll}\n",
       " CDR3b & TRBV & TRBJ & subject.condition & count.x & clonefraction & nSeqCDR3 & file.x & subject & file.y & count.y\\\\\n",
       " <chr> & <chr> & <chr> & <chr> & <int> & <dbl> & <chr> & <chr> & <chr> & <chr> & <int>\\\\\n",
       "\\hline\n",
       "\t ADITWRGGQPQHF    & TRBV3-2  & TRBJ1-5 & CHP\\_387-02\\_PBMC\\_DNA &  12 & 0.0017035775 & GCCGACATTACCTGGAGAGGGGGTCAGCCCCAGCATTTT          & /Users/anabbi/Desktop/H4H/INTERCEPT/NextSeq/batch11\\_23Apr2020/mixcr/clones/CLONES\\_TRBCHP\\_387-02\\_PBMC\\_DNA.txt            & CHP\\_387-02\\_PBMC\\_DNA                      & /Users/anabbi/Desktop/H4H/INTERCEPT/NextSeq/batch11\\_23Apr2020/mixcr/clones/CLONES\\_TRBCHP\\_387-02\\_PBMC\\_DNA.txt                                                                                                               &  12\\\\\n",
       "\t CAAAGGGEAFF      & TRBV28   & TRBJ1-1 & CHP\\_396-03\\_PBMC\\_DNA &  16 & 0.0033105731 & TGTGCCGCAGCGGGGGGAGGTGAAGCTTTCTTT                & /Users/anabbi/Desktop/H4H/INTERCEPT/NextSeq/batch11\\_23Apr2020/mixcr/clones/CLONES\\_TRBCHP\\_396-03\\_PBMC\\_DNA.txt            & CHP\\_396-03\\_PBMC\\_DNA, CHP\\_396-04-PBMC-DNA & /Users/anabbi/Desktop/H4H/INTERCEPT/NextSeq/batch11\\_23Apr2020/mixcr/clones/CLONES\\_TRBCHP\\_396-03\\_PBMC\\_DNA.txt, /Users/anabbi/Desktop/H4H/INTERCEPT/NextSeq/batch13\\_26Aug2020/mixcr/clones/CLONES\\_TRBCHP\\_396-04-PBMC-DNA.txt & 340\\\\\n",
       "\t CAAAGGGEAFF      & TRBV28   & TRBJ1-1 & CHP\\_396-04-PBMC-DNA & 324 & 0.0012697069 & TGTGCCGCAGCGGGGGGAGGTGAAGCTTTCTTT                & /Users/anabbi/Desktop/H4H/INTERCEPT/NextSeq/batch13\\_26Aug2020/mixcr/clones/CLONES\\_TRBCHP\\_396-04-PBMC-DNA.txt            & CHP\\_396-03\\_PBMC\\_DNA, CHP\\_396-04-PBMC-DNA & /Users/anabbi/Desktop/H4H/INTERCEPT/NextSeq/batch11\\_23Apr2020/mixcr/clones/CLONES\\_TRBCHP\\_396-03\\_PBMC\\_DNA.txt, /Users/anabbi/Desktop/H4H/INTERCEPT/NextSeq/batch13\\_26Aug2020/mixcr/clones/CLONES\\_TRBCHP\\_396-04-PBMC-DNA.txt & 340\\\\\n",
       "\t CAAAGGSGVGYEQYF  & TRBV3-1  & TRBJ2-7 & CHP\\_393-05-PBMC-DNA & 151 & 0.0012674058 & TGTGCCGCCGCCGGGGGCAGCGGGGTGGGCTACGAGCAGTACTTC    & /Users/anabbi/Desktop/H4H/INTERCEPT/NextSeq/batch13\\_26Aug2020/mixcr/clones/CLONES\\_TRBCHP\\_393-05-PBMC-DNA.txt            & CHP\\_393-05-PBMC-DNA                      & /Users/anabbi/Desktop/H4H/INTERCEPT/NextSeq/batch13\\_26Aug2020/mixcr/clones/CLONES\\_TRBCHP\\_393-05-PBMC-DNA.txt                                                                                                               & 151\\\\\n",
       "\t CAAARGFDEQYF     & TRBV10-3 & TRBJ2-7 & CHP-411-02-PBMC-DNA &  20 & 0.0001310135 & TGTGCCGCCGCACGGGGTTTCGACGAGCAGTACTTC             & /Users/anabbi/Desktop/H4H/INTERCEPT/NextSeq/remaining\\_batch\\_4\\_28June2021/mixcr/clones/CLONES\\_TRBCHP-411-02-PBMC-DNA.txt & CHP-411-02-PBMC-DNA                      & /Users/anabbi/Desktop/H4H/INTERCEPT/NextSeq/remaining\\_batch\\_4\\_28June2021/mixcr/clones/CLONES\\_TRBCHP-411-02-PBMC-DNA.txt                                                                                                    &  20\\\\\n",
       "\t CAACEPEVRDTDTQYF & TRBV28   & TRBJ2-3 & CHP\\_338-05-PBMC-DNA &  11 & 0.0026397888 & TGTGCCGCCTGCGAACCTGAAGTACGGGACACAGATACGCAGTATTTT & /Users/anabbi/Desktop/H4H/INTERCEPT/NextSeq/batch2\\_Aug62019/mixcr/clones/CLONES\\_TRBCHP\\_338-05-PBMC-DNA.txt              & CHP\\_338-05-PBMC-DNA, CHP\\_338-05-PBMC-DNA & /Users/anabbi/Desktop/H4H/INTERCEPT/NextSeq/batch2\\_Aug62019/mixcr/clones/CLONES\\_TRBCHP\\_338-05-PBMC-DNA.txt, /Users/anabbi/Desktop/H4H/INTERCEPT/NextSeq/batch2\\_Aug62019/mixcr/clones/CLONES\\_TRBCHP\\_338-05-PBMC-DNA.txt     &  12\\\\\n",
       "\\end{tabular}\n"
      ],
      "text/markdown": [
       "\n",
       "A data.table: 6 × 11\n",
       "\n",
       "| CDR3b &lt;chr&gt; | TRBV &lt;chr&gt; | TRBJ &lt;chr&gt; | subject.condition &lt;chr&gt; | count.x &lt;int&gt; | clonefraction &lt;dbl&gt; | nSeqCDR3 &lt;chr&gt; | file.x &lt;chr&gt; | subject &lt;chr&gt; | file.y &lt;chr&gt; | count.y &lt;int&gt; |\n",
       "|---|---|---|---|---|---|---|---|---|---|---|\n",
       "| ADITWRGGQPQHF    | TRBV3-2  | TRBJ1-5 | CHP_387-02_PBMC_DNA |  12 | 0.0017035775 | GCCGACATTACCTGGAGAGGGGGTCAGCCCCAGCATTTT          | /Users/anabbi/Desktop/H4H/INTERCEPT/NextSeq/batch11_23Apr2020/mixcr/clones/CLONES_TRBCHP_387-02_PBMC_DNA.txt            | CHP_387-02_PBMC_DNA                      | /Users/anabbi/Desktop/H4H/INTERCEPT/NextSeq/batch11_23Apr2020/mixcr/clones/CLONES_TRBCHP_387-02_PBMC_DNA.txt                                                                                                               |  12 |\n",
       "| CAAAGGGEAFF      | TRBV28   | TRBJ1-1 | CHP_396-03_PBMC_DNA |  16 | 0.0033105731 | TGTGCCGCAGCGGGGGGAGGTGAAGCTTTCTTT                | /Users/anabbi/Desktop/H4H/INTERCEPT/NextSeq/batch11_23Apr2020/mixcr/clones/CLONES_TRBCHP_396-03_PBMC_DNA.txt            | CHP_396-03_PBMC_DNA, CHP_396-04-PBMC-DNA | /Users/anabbi/Desktop/H4H/INTERCEPT/NextSeq/batch11_23Apr2020/mixcr/clones/CLONES_TRBCHP_396-03_PBMC_DNA.txt, /Users/anabbi/Desktop/H4H/INTERCEPT/NextSeq/batch13_26Aug2020/mixcr/clones/CLONES_TRBCHP_396-04-PBMC-DNA.txt | 340 |\n",
       "| CAAAGGGEAFF      | TRBV28   | TRBJ1-1 | CHP_396-04-PBMC-DNA | 324 | 0.0012697069 | TGTGCCGCAGCGGGGGGAGGTGAAGCTTTCTTT                | /Users/anabbi/Desktop/H4H/INTERCEPT/NextSeq/batch13_26Aug2020/mixcr/clones/CLONES_TRBCHP_396-04-PBMC-DNA.txt            | CHP_396-03_PBMC_DNA, CHP_396-04-PBMC-DNA | /Users/anabbi/Desktop/H4H/INTERCEPT/NextSeq/batch11_23Apr2020/mixcr/clones/CLONES_TRBCHP_396-03_PBMC_DNA.txt, /Users/anabbi/Desktop/H4H/INTERCEPT/NextSeq/batch13_26Aug2020/mixcr/clones/CLONES_TRBCHP_396-04-PBMC-DNA.txt | 340 |\n",
       "| CAAAGGSGVGYEQYF  | TRBV3-1  | TRBJ2-7 | CHP_393-05-PBMC-DNA | 151 | 0.0012674058 | TGTGCCGCCGCCGGGGGCAGCGGGGTGGGCTACGAGCAGTACTTC    | /Users/anabbi/Desktop/H4H/INTERCEPT/NextSeq/batch13_26Aug2020/mixcr/clones/CLONES_TRBCHP_393-05-PBMC-DNA.txt            | CHP_393-05-PBMC-DNA                      | /Users/anabbi/Desktop/H4H/INTERCEPT/NextSeq/batch13_26Aug2020/mixcr/clones/CLONES_TRBCHP_393-05-PBMC-DNA.txt                                                                                                               | 151 |\n",
       "| CAAARGFDEQYF     | TRBV10-3 | TRBJ2-7 | CHP-411-02-PBMC-DNA |  20 | 0.0001310135 | TGTGCCGCCGCACGGGGTTTCGACGAGCAGTACTTC             | /Users/anabbi/Desktop/H4H/INTERCEPT/NextSeq/remaining_batch_4_28June2021/mixcr/clones/CLONES_TRBCHP-411-02-PBMC-DNA.txt | CHP-411-02-PBMC-DNA                      | /Users/anabbi/Desktop/H4H/INTERCEPT/NextSeq/remaining_batch_4_28June2021/mixcr/clones/CLONES_TRBCHP-411-02-PBMC-DNA.txt                                                                                                    |  20 |\n",
       "| CAACEPEVRDTDTQYF | TRBV28   | TRBJ2-3 | CHP_338-05-PBMC-DNA |  11 | 0.0026397888 | TGTGCCGCCTGCGAACCTGAAGTACGGGACACAGATACGCAGTATTTT | /Users/anabbi/Desktop/H4H/INTERCEPT/NextSeq/batch2_Aug62019/mixcr/clones/CLONES_TRBCHP_338-05-PBMC-DNA.txt              | CHP_338-05-PBMC-DNA, CHP_338-05-PBMC-DNA | /Users/anabbi/Desktop/H4H/INTERCEPT/NextSeq/batch2_Aug62019/mixcr/clones/CLONES_TRBCHP_338-05-PBMC-DNA.txt, /Users/anabbi/Desktop/H4H/INTERCEPT/NextSeq/batch2_Aug62019/mixcr/clones/CLONES_TRBCHP_338-05-PBMC-DNA.txt     |  12 |\n",
       "\n"
      ],
      "text/plain": [
       "  CDR3b            TRBV     TRBJ    subject.condition   count.x clonefraction\n",
       "1 ADITWRGGQPQHF    TRBV3-2  TRBJ1-5 CHP_387-02_PBMC_DNA  12     0.0017035775 \n",
       "2 CAAAGGGEAFF      TRBV28   TRBJ1-1 CHP_396-03_PBMC_DNA  16     0.0033105731 \n",
       "3 CAAAGGGEAFF      TRBV28   TRBJ1-1 CHP_396-04-PBMC-DNA 324     0.0012697069 \n",
       "4 CAAAGGSGVGYEQYF  TRBV3-1  TRBJ2-7 CHP_393-05-PBMC-DNA 151     0.0012674058 \n",
       "5 CAAARGFDEQYF     TRBV10-3 TRBJ2-7 CHP-411-02-PBMC-DNA  20     0.0001310135 \n",
       "6 CAACEPEVRDTDTQYF TRBV28   TRBJ2-3 CHP_338-05-PBMC-DNA  11     0.0026397888 \n",
       "  nSeqCDR3                                        \n",
       "1 GCCGACATTACCTGGAGAGGGGGTCAGCCCCAGCATTTT         \n",
       "2 TGTGCCGCAGCGGGGGGAGGTGAAGCTTTCTTT               \n",
       "3 TGTGCCGCAGCGGGGGGAGGTGAAGCTTTCTTT               \n",
       "4 TGTGCCGCCGCCGGGGGCAGCGGGGTGGGCTACGAGCAGTACTTC   \n",
       "5 TGTGCCGCCGCACGGGGTTTCGACGAGCAGTACTTC            \n",
       "6 TGTGCCGCCTGCGAACCTGAAGTACGGGACACAGATACGCAGTATTTT\n",
       "  file.x                                                                                                                 \n",
       "1 /Users/anabbi/Desktop/H4H/INTERCEPT/NextSeq/batch11_23Apr2020/mixcr/clones/CLONES_TRBCHP_387-02_PBMC_DNA.txt           \n",
       "2 /Users/anabbi/Desktop/H4H/INTERCEPT/NextSeq/batch11_23Apr2020/mixcr/clones/CLONES_TRBCHP_396-03_PBMC_DNA.txt           \n",
       "3 /Users/anabbi/Desktop/H4H/INTERCEPT/NextSeq/batch13_26Aug2020/mixcr/clones/CLONES_TRBCHP_396-04-PBMC-DNA.txt           \n",
       "4 /Users/anabbi/Desktop/H4H/INTERCEPT/NextSeq/batch13_26Aug2020/mixcr/clones/CLONES_TRBCHP_393-05-PBMC-DNA.txt           \n",
       "5 /Users/anabbi/Desktop/H4H/INTERCEPT/NextSeq/remaining_batch_4_28June2021/mixcr/clones/CLONES_TRBCHP-411-02-PBMC-DNA.txt\n",
       "6 /Users/anabbi/Desktop/H4H/INTERCEPT/NextSeq/batch2_Aug62019/mixcr/clones/CLONES_TRBCHP_338-05-PBMC-DNA.txt             \n",
       "  subject                                 \n",
       "1 CHP_387-02_PBMC_DNA                     \n",
       "2 CHP_396-03_PBMC_DNA, CHP_396-04-PBMC-DNA\n",
       "3 CHP_396-03_PBMC_DNA, CHP_396-04-PBMC-DNA\n",
       "4 CHP_393-05-PBMC-DNA                     \n",
       "5 CHP-411-02-PBMC-DNA                     \n",
       "6 CHP_338-05-PBMC-DNA, CHP_338-05-PBMC-DNA\n",
       "  file.y                                                                                                                                                                                                                    \n",
       "1 /Users/anabbi/Desktop/H4H/INTERCEPT/NextSeq/batch11_23Apr2020/mixcr/clones/CLONES_TRBCHP_387-02_PBMC_DNA.txt                                                                                                              \n",
       "2 /Users/anabbi/Desktop/H4H/INTERCEPT/NextSeq/batch11_23Apr2020/mixcr/clones/CLONES_TRBCHP_396-03_PBMC_DNA.txt, /Users/anabbi/Desktop/H4H/INTERCEPT/NextSeq/batch13_26Aug2020/mixcr/clones/CLONES_TRBCHP_396-04-PBMC-DNA.txt\n",
       "3 /Users/anabbi/Desktop/H4H/INTERCEPT/NextSeq/batch11_23Apr2020/mixcr/clones/CLONES_TRBCHP_396-03_PBMC_DNA.txt, /Users/anabbi/Desktop/H4H/INTERCEPT/NextSeq/batch13_26Aug2020/mixcr/clones/CLONES_TRBCHP_396-04-PBMC-DNA.txt\n",
       "4 /Users/anabbi/Desktop/H4H/INTERCEPT/NextSeq/batch13_26Aug2020/mixcr/clones/CLONES_TRBCHP_393-05-PBMC-DNA.txt                                                                                                              \n",
       "5 /Users/anabbi/Desktop/H4H/INTERCEPT/NextSeq/remaining_batch_4_28June2021/mixcr/clones/CLONES_TRBCHP-411-02-PBMC-DNA.txt                                                                                                   \n",
       "6 /Users/anabbi/Desktop/H4H/INTERCEPT/NextSeq/batch2_Aug62019/mixcr/clones/CLONES_TRBCHP_338-05-PBMC-DNA.txt, /Users/anabbi/Desktop/H4H/INTERCEPT/NextSeq/batch2_Aug62019/mixcr/clones/CLONES_TRBCHP_338-05-PBMC-DNA.txt    \n",
       "  count.y\n",
       "1  12    \n",
       "2 340    \n",
       "3 340    \n",
       "4 151    \n",
       "5  20    \n",
       "6  12    "
      ]
     },
     "metadata": {},
     "output_type": "display_data"
    }
   ],
   "source": [
    "head(gliph_input_ab)"
   ]
  },
  {
   "cell_type": "code",
   "execution_count": 14,
   "metadata": {},
   "outputs": [],
   "source": [
    "#dedup\n",
    "gliph_input_ab_dedup <- dplyr::distinct(gliph_input_ab, CDR3b, TRBV, TRBJ, subject, .keep_all= TRUE)"
   ]
  },
  {
   "cell_type": "code",
   "execution_count": 15,
   "metadata": {},
   "outputs": [
    {
     "data": {
      "text/html": [
       "<style>\n",
       ".list-inline {list-style: none; margin:0; padding: 0}\n",
       ".list-inline>li {display: inline-block}\n",
       ".list-inline>li:not(:last-child)::after {content: \"\\00b7\"; padding: 0 .5ex}\n",
       "</style>\n",
       "<ol class=list-inline><li>72634</li><li>11</li></ol>\n"
      ],
      "text/latex": [
       "\\begin{enumerate*}\n",
       "\\item 72634\n",
       "\\item 11\n",
       "\\end{enumerate*}\n"
      ],
      "text/markdown": [
       "1. 72634\n",
       "2. 11\n",
       "\n",
       "\n"
      ],
      "text/plain": [
       "[1] 72634    11"
      ]
     },
     "metadata": {},
     "output_type": "display_data"
    },
    {
     "data": {
      "text/html": [
       "<style>\n",
       ".list-inline {list-style: none; margin:0; padding: 0}\n",
       ".list-inline>li {display: inline-block}\n",
       ".list-inline>li:not(:last-child)::after {content: \"\\00b7\"; padding: 0 .5ex}\n",
       "</style>\n",
       "<ol class=list-inline><li>68956</li><li>11</li></ol>\n"
      ],
      "text/latex": [
       "\\begin{enumerate*}\n",
       "\\item 68956\n",
       "\\item 11\n",
       "\\end{enumerate*}\n"
      ],
      "text/markdown": [
       "1. 68956\n",
       "2. 11\n",
       "\n",
       "\n"
      ],
      "text/plain": [
       "[1] 68956    11"
      ]
     },
     "metadata": {},
     "output_type": "display_data"
    }
   ],
   "source": [
    "dim(gliph_input_ab)\n",
    "dim(gliph_input_ab_dedup)"
   ]
  },
  {
   "cell_type": "code",
   "execution_count": 16,
   "metadata": {},
   "outputs": [
    {
     "data": {
      "text/html": [
       "'/Users/anabbi/OneDrive - UHN/Documents/INTERCEPT/Data/'"
      ],
      "text/latex": [
       "'/Users/anabbi/OneDrive - UHN/Documents/INTERCEPT/Data/'"
      ],
      "text/markdown": [
       "'/Users/anabbi/OneDrive - UHN/Documents/INTERCEPT/Data/'"
      ],
      "text/plain": [
       "[1] \"/Users/anabbi/OneDrive - UHN/Documents/INTERCEPT/Data/\""
      ]
     },
     "metadata": {},
     "output_type": "display_data"
    }
   ],
   "source": [
    "datapath"
   ]
  },
  {
   "cell_type": "code",
   "execution_count": 17,
   "metadata": {},
   "outputs": [],
   "source": [
    "#index column incase I want to map gliph_input_dedup_ab_subset back to gliph_input_dedup_ab\n",
    "gliph_input_ab_dedup$index <- 1:nrow(gliph_input_ab_dedup)"
   ]
  },
  {
   "cell_type": "code",
   "execution_count": 18,
   "metadata": {},
   "outputs": [],
   "source": [
    "save(gliph_input_ab_dedup, file = paste0(datapath, \"capTCRseq/gliph_input_ab_dedup.RData\"))"
   ]
  },
  {
   "cell_type": "code",
   "execution_count": 19,
   "metadata": {},
   "outputs": [
    {
     "data": {
      "text/html": [
       "<style>\n",
       ".list-inline {list-style: none; margin:0; padding: 0}\n",
       ".list-inline>li {display: inline-block}\n",
       ".list-inline>li:not(:last-child)::after {content: \"\\00b7\"; padding: 0 .5ex}\n",
       "</style>\n",
       "<ol class=list-inline><li>'CDR3b'</li><li>'TRBV'</li><li>'TRBJ'</li><li>'subject.condition'</li><li>'count.x'</li><li>'clonefraction'</li><li>'nSeqCDR3'</li><li>'file.x'</li><li>'subject'</li><li>'file.y'</li><li>'count.y'</li><li>'index'</li></ol>\n"
      ],
      "text/latex": [
       "\\begin{enumerate*}\n",
       "\\item 'CDR3b'\n",
       "\\item 'TRBV'\n",
       "\\item 'TRBJ'\n",
       "\\item 'subject.condition'\n",
       "\\item 'count.x'\n",
       "\\item 'clonefraction'\n",
       "\\item 'nSeqCDR3'\n",
       "\\item 'file.x'\n",
       "\\item 'subject'\n",
       "\\item 'file.y'\n",
       "\\item 'count.y'\n",
       "\\item 'index'\n",
       "\\end{enumerate*}\n"
      ],
      "text/markdown": [
       "1. 'CDR3b'\n",
       "2. 'TRBV'\n",
       "3. 'TRBJ'\n",
       "4. 'subject.condition'\n",
       "5. 'count.x'\n",
       "6. 'clonefraction'\n",
       "7. 'nSeqCDR3'\n",
       "8. 'file.x'\n",
       "9. 'subject'\n",
       "10. 'file.y'\n",
       "11. 'count.y'\n",
       "12. 'index'\n",
       "\n",
       "\n"
      ],
      "text/plain": [
       " [1] \"CDR3b\"             \"TRBV\"              \"TRBJ\"             \n",
       " [4] \"subject.condition\" \"count.x\"           \"clonefraction\"    \n",
       " [7] \"nSeqCDR3\"          \"file.x\"            \"subject\"          \n",
       "[10] \"file.y\"            \"count.y\"           \"index\"            "
      ]
     },
     "metadata": {},
     "output_type": "display_data"
    }
   ],
   "source": [
    "colnames(gliph_input_ab_dedup)"
   ]
  },
  {
   "cell_type": "code",
   "execution_count": 20,
   "metadata": {},
   "outputs": [],
   "source": [
    "#reorder and subset to input to gliph\n",
    "gliph_input_ab_dedup_subset <- gliph_input_ab_dedup[, c(\"CDR3b\", \"TRBV\", \"TRBJ\", \"subject\", \"count.y\", \"file.y\", \"index\")]\n",
    "                                                         "
   ]
  },
  {
   "cell_type": "code",
   "execution_count": 21,
   "metadata": {},
   "outputs": [],
   "source": [
    "colnames(gliph_input_ab_dedup_subset) <- c(\"CDR3b\", \"TRBV\", \"TRBJ\", \"subject:condition\", \"count\", \"file\", \"index\")"
   ]
  },
  {
   "cell_type": "code",
   "execution_count": 22,
   "metadata": {},
   "outputs": [],
   "source": [
    "save(gliph_input_ab_dedup_subset, file = paste0(datapath, \"capTCRseq/gliph_input_ab_dedup_subset.RData\"))"
   ]
  }
 ],
 "metadata": {
  "kernelspec": {
   "display_name": "R 4.0",
   "language": "R",
   "name": "ir40"
  },
  "language_info": {
   "codemirror_mode": "r",
   "file_extension": ".r",
   "mimetype": "text/x-r-source",
   "name": "R",
   "pygments_lexer": "r",
   "version": "4.0.3"
  },
  "toc": {
   "base_numbering": 1,
   "nav_menu": {},
   "number_sections": false,
   "sideBar": true,
   "skip_h1_title": false,
   "title_cell": "Table of Contents",
   "title_sidebar": "Contents",
   "toc_cell": true,
   "toc_position": {
    "height": "calc(100% - 180px)",
    "left": "10px",
    "top": "150px",
    "width": "186.15px"
   },
   "toc_section_display": true,
   "toc_window_display": true
  }
 },
 "nbformat": 4,
 "nbformat_minor": 2
}
