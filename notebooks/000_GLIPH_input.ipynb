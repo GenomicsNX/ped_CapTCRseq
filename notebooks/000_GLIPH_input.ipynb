{
 "cells": [
  {
   "cell_type": "markdown",
   "metadata": {
    "toc": true
   },
   "source": [
    "<h1>Table of Contents<span class=\"tocSkip\"></span></h1>\n",
    "<div class=\"toc\"><ul class=\"toc-item\"><li><span><a href=\"#Dependencies\" data-toc-modified-id=\"Dependencies-1\">Dependencies</a></span></li><li><span><a href=\"#Functions\" data-toc-modified-id=\"Functions-2\">Functions</a></span></li><li><span><a href=\"#Paths\" data-toc-modified-id=\"Paths-3\">Paths</a></span></li><li><span><a href=\"#Main\" data-toc-modified-id=\"Main-4\">Main</a></span><ul class=\"toc-item\"><li><span><a href=\"#Cleanup-INT-data\" data-toc-modified-id=\"Cleanup-INT-data-4.1\">Cleanup INT data</a></span></li><li><span><a href=\"#Cleanup-VDJdb-file---curated-by-Shirin\" data-toc-modified-id=\"Cleanup-VDJdb-file---curated-by-Shirin-4.2\">Cleanup VDJdb file - curated by Shirin</a></span></li><li><span><a href=\"#Cleanup-Adaptive-data\" data-toc-modified-id=\"Cleanup-Adaptive-data-4.3\">Cleanup Adaptive data</a></span><ul class=\"toc-item\"><li><span><a href=\"#compile-all-adaptive-files-together-and-cleanup\" data-toc-modified-id=\"compile-all-adaptive-files-together-and-cleanup-4.3.1\">compile all adaptive files together and cleanup</a></span></li></ul></li></ul></li><li><span><a href=\"#bind-all\" data-toc-modified-id=\"bind-all-5\">bind all</a></span></li><li><span><a href=\"#Backup\" data-toc-modified-id=\"Backup-6\">Backup</a></span><ul class=\"toc-item\"><li><span><a href=\"#Cleanup-Adaptive-data\" data-toc-modified-id=\"Cleanup-Adaptive-data-6.1\">Cleanup Adaptive data</a></span></li></ul></li></ul></div>"
   ]
  },
  {
   "cell_type": "markdown",
   "metadata": {},
   "source": [
    "# Dependencies"
   ]
  },
  {
   "cell_type": "code",
   "execution_count": 1,
   "metadata": {},
   "outputs": [],
   "source": [
    "pacman::p_load(data.table)"
   ]
  },
  {
   "cell_type": "markdown",
   "metadata": {},
   "source": [
    "# Functions"
   ]
  },
  {
   "cell_type": "code",
   "execution_count": 2,
   "metadata": {},
   "outputs": [],
   "source": [
    "toString_onefle.fx <- function(df, tostringvar){\n",
    "    setDT(df)\n",
    "    ab <- df[, .(tostringvar = toString( eval(parse( text = tostringvar))), #bind subjects\n",
    "                 count = sum(count)),  #get sum of counts\n",
    "             by = c(\"CDR3b\", \"TRBV\", \"TRBJ\")] #get duplicates sequences with the same cdr3 + TRBV + TRBJ\n",
    "    df_ab <- merge(df, ab, by = c(\"CDR3b\",\"TRBV\",\"TRBJ\")) # merge together\n",
    "    df_ab_dedup <- dplyr::distinct(df_ab, CDR3b, TRBV, TRBJ, tostringvar, .keep_all= TRUE)\n",
    "    \n",
    "    return(df_ab_dedup[, c(\"CDR3b\", \"TRBV\", \"TRBJ\", \"samplename\", \n",
    "                           \"count.y\", \"clonefraction\", \"tostringvar\", \"file\")])\n",
    "}"
   ]
  },
  {
   "cell_type": "code",
   "execution_count": 3,
   "metadata": {},
   "outputs": [],
   "source": [
    "#source(\"/Users/anabbi/git/ped_CapTCRseq/R/Immune_diversity.R\")"
   ]
  },
  {
   "cell_type": "markdown",
   "metadata": {},
   "source": [
    "# Paths"
   ]
  },
  {
   "cell_type": "code",
   "execution_count": 1,
   "metadata": {},
   "outputs": [],
   "source": [
    "datapath <- \"/Users/anabbi/OneDrive - UHN/Documents/INTERCEPT/Data/\"\n",
    "plotpath <- \"/Users/anabbi/OneDrive - UHN/Documents/INTERCEPT/Plots/\"\n",
    "manifestpath <- \"/Users/anabbi/OneDrive - UHN/Documents/INTERCEPT/Manifests/\"\n",
    "\n",
    "gitpath <- \"/Users/anabbi/git/ped_CapTCRseq/\""
   ]
  },
  {
   "cell_type": "code",
   "execution_count": 2,
   "metadata": {},
   "outputs": [],
   "source": [
    "h4hpath <- \"/Users/anabbi/Desktop/H4H/INTERCEPT/NextSeq/\""
   ]
  },
  {
   "cell_type": "markdown",
   "metadata": {},
   "source": [
    "# Main"
   ]
  },
  {
   "cell_type": "markdown",
   "metadata": {},
   "source": [
    "## Cleanup INT data"
   ]
  },
  {
   "cell_type": "code",
   "execution_count": 3,
   "metadata": {},
   "outputs": [],
   "source": [
    "load(file = paste0(datapath,\"capTCRseq/TRBfiles.RData\"))"
   ]
  },
  {
   "cell_type": "code",
   "execution_count": 8,
   "metadata": {},
   "outputs": [],
   "source": [
    "file_df_dedup_trb$patient <- substr(file_df_dedup_trb$samplename, 1,7)"
   ]
  },
  {
   "cell_type": "code",
   "execution_count": 9,
   "metadata": {},
   "outputs": [
    {
     "data": {
      "text/html": [
       "<table class=\"dataframe\">\n",
       "<caption>A data.frame: 6 × 4</caption>\n",
       "<thead>\n",
       "\t<tr><th></th><th scope=col>file_list</th><th scope=col>samplename</th><th scope=col>size</th><th scope=col>patient</th></tr>\n",
       "\t<tr><th></th><th scope=col>&lt;chr&gt;</th><th scope=col>&lt;chr&gt;</th><th scope=col>&lt;dbl&gt;</th><th scope=col>&lt;chr&gt;</th></tr>\n",
       "</thead>\n",
       "<tbody>\n",
       "\t<tr><th scope=row>264</th><td>batch4_19Aug2019/mixcr/clones/CLONES_TRBCHP_315-05-PBMC-DNA.txt     </td><td>CHP_315-05-PBMC-DNA</td><td> 16011</td><td>CHP_315</td></tr>\n",
       "\t<tr><th scope=row>2</th><td>batch_reseq_24Feb2020/mixcr/clones/CLONES_TRBCHP_350-01-PBMC-DNA.txt</td><td>CHP_350-01-PBMC-DNA</td><td> 85631</td><td>CHP_350</td></tr>\n",
       "\t<tr><th scope=row>3</th><td>batch_reseq_24Feb2020/mixcr/clones/CLONES_TRBCHP_350-02-PBMC-DNA.txt</td><td>CHP_350-02-PBMC-DNA</td><td>143632</td><td>CHP_350</td></tr>\n",
       "\t<tr><th scope=row>4</th><td>batch_reseq_24Feb2020/mixcr/clones/CLONES_TRBCHP_350-03-PBMC-DNA.txt</td><td>CHP_350-03-PBMC-DNA</td><td>107190</td><td>CHP_350</td></tr>\n",
       "\t<tr><th scope=row>5</th><td>batch_reseq_24Feb2020/mixcr/clones/CLONES_TRBCHP_350-04-PBMC-DNA.txt</td><td>CHP_350-04-PBMC-DNA</td><td> 54188</td><td>CHP_350</td></tr>\n",
       "\t<tr><th scope=row>6</th><td>batch_reseq_24Feb2020/mixcr/clones/CLONES_TRBCHP_353-02-PBMC-DNA.txt</td><td>CHP_353-02-PBMC-DNA</td><td>  9062</td><td>CHP_353</td></tr>\n",
       "</tbody>\n",
       "</table>\n"
      ],
      "text/latex": [
       "A data.frame: 6 × 4\n",
       "\\begin{tabular}{r|llll}\n",
       "  & file\\_list & samplename & size & patient\\\\\n",
       "  & <chr> & <chr> & <dbl> & <chr>\\\\\n",
       "\\hline\n",
       "\t264 & batch4\\_19Aug2019/mixcr/clones/CLONES\\_TRBCHP\\_315-05-PBMC-DNA.txt      & CHP\\_315-05-PBMC-DNA &  16011 & CHP\\_315\\\\\n",
       "\t2 & batch\\_reseq\\_24Feb2020/mixcr/clones/CLONES\\_TRBCHP\\_350-01-PBMC-DNA.txt & CHP\\_350-01-PBMC-DNA &  85631 & CHP\\_350\\\\\n",
       "\t3 & batch\\_reseq\\_24Feb2020/mixcr/clones/CLONES\\_TRBCHP\\_350-02-PBMC-DNA.txt & CHP\\_350-02-PBMC-DNA & 143632 & CHP\\_350\\\\\n",
       "\t4 & batch\\_reseq\\_24Feb2020/mixcr/clones/CLONES\\_TRBCHP\\_350-03-PBMC-DNA.txt & CHP\\_350-03-PBMC-DNA & 107190 & CHP\\_350\\\\\n",
       "\t5 & batch\\_reseq\\_24Feb2020/mixcr/clones/CLONES\\_TRBCHP\\_350-04-PBMC-DNA.txt & CHP\\_350-04-PBMC-DNA &  54188 & CHP\\_350\\\\\n",
       "\t6 & batch\\_reseq\\_24Feb2020/mixcr/clones/CLONES\\_TRBCHP\\_353-02-PBMC-DNA.txt & CHP\\_353-02-PBMC-DNA &   9062 & CHP\\_353\\\\\n",
       "\\end{tabular}\n"
      ],
      "text/markdown": [
       "\n",
       "A data.frame: 6 × 4\n",
       "\n",
       "| <!--/--> | file_list &lt;chr&gt; | samplename &lt;chr&gt; | size &lt;dbl&gt; | patient &lt;chr&gt; |\n",
       "|---|---|---|---|---|\n",
       "| 264 | batch4_19Aug2019/mixcr/clones/CLONES_TRBCHP_315-05-PBMC-DNA.txt      | CHP_315-05-PBMC-DNA |  16011 | CHP_315 |\n",
       "| 2 | batch_reseq_24Feb2020/mixcr/clones/CLONES_TRBCHP_350-01-PBMC-DNA.txt | CHP_350-01-PBMC-DNA |  85631 | CHP_350 |\n",
       "| 3 | batch_reseq_24Feb2020/mixcr/clones/CLONES_TRBCHP_350-02-PBMC-DNA.txt | CHP_350-02-PBMC-DNA | 143632 | CHP_350 |\n",
       "| 4 | batch_reseq_24Feb2020/mixcr/clones/CLONES_TRBCHP_350-03-PBMC-DNA.txt | CHP_350-03-PBMC-DNA | 107190 | CHP_350 |\n",
       "| 5 | batch_reseq_24Feb2020/mixcr/clones/CLONES_TRBCHP_350-04-PBMC-DNA.txt | CHP_350-04-PBMC-DNA |  54188 | CHP_350 |\n",
       "| 6 | batch_reseq_24Feb2020/mixcr/clones/CLONES_TRBCHP_353-02-PBMC-DNA.txt | CHP_353-02-PBMC-DNA |   9062 | CHP_353 |\n",
       "\n"
      ],
      "text/plain": [
       "    file_list                                                           \n",
       "264 batch4_19Aug2019/mixcr/clones/CLONES_TRBCHP_315-05-PBMC-DNA.txt     \n",
       "2   batch_reseq_24Feb2020/mixcr/clones/CLONES_TRBCHP_350-01-PBMC-DNA.txt\n",
       "3   batch_reseq_24Feb2020/mixcr/clones/CLONES_TRBCHP_350-02-PBMC-DNA.txt\n",
       "4   batch_reseq_24Feb2020/mixcr/clones/CLONES_TRBCHP_350-03-PBMC-DNA.txt\n",
       "5   batch_reseq_24Feb2020/mixcr/clones/CLONES_TRBCHP_350-04-PBMC-DNA.txt\n",
       "6   batch_reseq_24Feb2020/mixcr/clones/CLONES_TRBCHP_353-02-PBMC-DNA.txt\n",
       "    samplename          size   patient\n",
       "264 CHP_315-05-PBMC-DNA  16011 CHP_315\n",
       "2   CHP_350-01-PBMC-DNA  85631 CHP_350\n",
       "3   CHP_350-02-PBMC-DNA 143632 CHP_350\n",
       "4   CHP_350-03-PBMC-DNA 107190 CHP_350\n",
       "5   CHP_350-04-PBMC-DNA  54188 CHP_350\n",
       "6   CHP_353-02-PBMC-DNA   9062 CHP_353"
      ]
     },
     "metadata": {},
     "output_type": "display_data"
    }
   ],
   "source": [
    "head(file_df_dedup_trb)"
   ]
  },
  {
   "cell_type": "code",
   "execution_count": 11,
   "metadata": {},
   "outputs": [],
   "source": [
    "taball_list <- list()\n",
    "\n",
    "for(p in unique(file_df_dedup_trb$patient)){\n",
    "    \n",
    "    mypatient <- file_df_dedup_trb[ file_df_dedup_trb$patient == p,]\n",
    "    \n",
    "    myplist <- list()\n",
    "    for(i in 1:nrow(mypatient)){\n",
    "        onefle <- read.table(paste0(h4hpath, mypatient$file_list[i]), sep = \"\\t\", header = TRUE, stringsAsFactors = F)  \n",
    "        # Remove non-productive\n",
    "        onefle <- onefle[!grepl(\"_\", onefle$aaSeqCDR3),]\n",
    "        onefle <- onefle[!grepl(\"[*]\", onefle$aaSeqCDR3),]\n",
    "        onefle$CDR3b <- onefle$aaSeqCDR3\n",
    "        #next if the file has no productive cdr3\n",
    "        if(nrow(onefle) == 0){ next}\n",
    "        #remove scores\n",
    "        onefle$TRBV <- gsub(\"[*]0.*\", \"\", onefle$allVHitsWithScore)\n",
    "        onefle$TRBJ <- gsub(\"[*]0.*\", \"\", onefle$allJHitsWithScore)\n",
    "        #remove extra long cdr3s\n",
    "        onefle <- onefle[ nchar(onefle$aaSeqCDR3) <= 25,]\n",
    "        #next if the file has no productive cdr3\n",
    "        if(nrow(onefle) == 0){ next}\n",
    "        onefle$count <- onefle$cloneCount\n",
    "        onefle$clonefraction <- onefle$cloneFraction\n",
    "        onefle$file <- paste0(h4hpath, mypatient$file_list[i])\n",
    "        onefle$samplename <- mypatient$samplename[i]\n",
    "    \n",
    "        onefle1 <- toString_onefle.fx(onefle, \"nSeqCDR3\")\n",
    "    \n",
    "        myplist[length(myplist) + 1] <- list(onefle1[,c(\"CDR3b\", \"TRBV\", \"TRBJ\", \"samplename\", \n",
    "                                                     \"count.y\", \"clonefraction\",\"tostringvar\", \"file\")])\n",
    "    }\n",
    "    gliph_input <- do.call(\"rbind\", myplist)\n",
    "\n",
    "    colnames(gliph_input)[ colnames(gliph_input) == \"tostringvar\"] <- \"nSeqCDR3\"\n",
    "    colnames(gliph_input)[ colnames(gliph_input) == \"count.y\"] <- \"count\"\n",
    "\n",
    "    #bind those with the same cdr3 + TRBV\n",
    "    setDT(gliph_input)\n",
    "\n",
    "    ab <- gliph_input[, .(subject = toString(samplename), #bind subjects\n",
    "                          file = toString(file), #bind filenames\n",
    "                          count = sum(count)),  #get sum of counts\n",
    "                      by = c(\"CDR3b\", \"TRBV\", \"TRBJ\")] #get duplicates sequences with the same cdr3 + TRBV + TRBJ\n",
    "\n",
    "    gliph_input_ab <- merge(gliph_input, ab, by = c(\"CDR3b\",\"TRBV\",\"TRBJ\")) # merge together\n",
    "\n",
    "    #dedup\n",
    "    gliph_input_ab_dedup <- dplyr::distinct(gliph_input_ab, CDR3b, TRBV, TRBJ, subject, .keep_all= TRUE)\n",
    "\n",
    "\n",
    "    taball_list[length(taball_list) + 1] <- list(gliph_input_ab_dedup[,c(\"CDR3b\", \"TRBV\", \"TRBJ\", \"subject\", \n",
    "                                                     \"count.y\", \"clonefraction\",\"file.y\")])\n",
    "\n",
    "    }"
   ]
  },
  {
   "cell_type": "code",
   "execution_count": 12,
   "metadata": {},
   "outputs": [],
   "source": [
    "taball <- do.call(\"rbind\", taball_list)"
   ]
  },
  {
   "cell_type": "code",
   "execution_count": 13,
   "metadata": {},
   "outputs": [],
   "source": [
    "#some cleanup\n",
    "taball$`subject:condition` <- substr(taball$subject, 1, 7)\n",
    "colnames(taball)[ colnames(taball) == \"count.y\"] <- \"count\"\n",
    "colnames(taball)[ colnames(taball) == \"file.y\"] <- \"file\""
   ]
  },
  {
   "cell_type": "code",
   "execution_count": 14,
   "metadata": {},
   "outputs": [
    {
     "data": {
      "text/html": [
       "<table class=\"dataframe\">\n",
       "<caption>A data.table: 6 × 8</caption>\n",
       "<thead>\n",
       "\t<tr><th scope=col>CDR3b</th><th scope=col>TRBV</th><th scope=col>TRBJ</th><th scope=col>subject</th><th scope=col>count</th><th scope=col>clonefraction</th><th scope=col>file</th><th scope=col>subject:condition</th></tr>\n",
       "\t<tr><th scope=col>&lt;chr&gt;</th><th scope=col>&lt;chr&gt;</th><th scope=col>&lt;chr&gt;</th><th scope=col>&lt;chr&gt;</th><th scope=col>&lt;int&gt;</th><th scope=col>&lt;dbl&gt;</th><th scope=col>&lt;chr&gt;</th><th scope=col>&lt;chr&gt;</th></tr>\n",
       "</thead>\n",
       "<tbody>\n",
       "\t<tr><td>CAIRDPEQGITDTQYF </td><td>TRBV10-3</td><td>TRBJ2-3</td><td>CHP_315-05-PBMC-DNA</td><td>24</td><td>0.025369979</td><td>/Users/anabbi/Desktop/H4H/INTERCEPT/NextSeq/batch4_19Aug2019/mixcr/clones/CLONES_TRBCHP_315-05-PBMC-DNA.txt</td><td>CHP_315</td></tr>\n",
       "\t<tr><td>CAIRGTGADQPQHF   </td><td>TRBV10-3</td><td>TRBJ1-5</td><td>CHP_315-05-PBMC-DNA</td><td>21</td><td>0.022198732</td><td>/Users/anabbi/Desktop/H4H/INTERCEPT/NextSeq/batch4_19Aug2019/mixcr/clones/CLONES_TRBCHP_315-05-PBMC-DNA.txt</td><td>CHP_315</td></tr>\n",
       "\t<tr><td>CAISGVWGGDTQYF   </td><td>TRBV10-3</td><td>TRBJ2-3</td><td>CHP_315-05-PBMC-DNA</td><td>12</td><td>0.012684989</td><td>/Users/anabbi/Desktop/H4H/INTERCEPT/NextSeq/batch4_19Aug2019/mixcr/clones/CLONES_TRBCHP_315-05-PBMC-DNA.txt</td><td>CHP_315</td></tr>\n",
       "\t<tr><td>CASRLAGTGSPLHF   </td><td>TRBV6-1 </td><td>TRBJ1-6</td><td>CHP_315-05-PBMC-DNA</td><td> 2</td><td>0.002114165</td><td>/Users/anabbi/Desktop/H4H/INTERCEPT/NextSeq/batch4_19Aug2019/mixcr/clones/CLONES_TRBCHP_315-05-PBMC-DNA.txt</td><td>CHP_315</td></tr>\n",
       "\t<tr><td>CASSDPQGTEAFF    </td><td>TRBV6-2 </td><td>TRBJ1-1</td><td>CHP_315-05-PBMC-DNA</td><td>21</td><td>0.022198732</td><td>/Users/anabbi/Desktop/H4H/INTERCEPT/NextSeq/batch4_19Aug2019/mixcr/clones/CLONES_TRBCHP_315-05-PBMC-DNA.txt</td><td>CHP_315</td></tr>\n",
       "\t<tr><td>CASSEEPGTSGYNEQFF</td><td>TRBV2   </td><td>TRBJ2-1</td><td>CHP_315-05-PBMC-DNA</td><td> 6</td><td>0.006342495</td><td>/Users/anabbi/Desktop/H4H/INTERCEPT/NextSeq/batch4_19Aug2019/mixcr/clones/CLONES_TRBCHP_315-05-PBMC-DNA.txt</td><td>CHP_315</td></tr>\n",
       "</tbody>\n",
       "</table>\n"
      ],
      "text/latex": [
       "A data.table: 6 × 8\n",
       "\\begin{tabular}{llllllll}\n",
       " CDR3b & TRBV & TRBJ & subject & count & clonefraction & file & subject:condition\\\\\n",
       " <chr> & <chr> & <chr> & <chr> & <int> & <dbl> & <chr> & <chr>\\\\\n",
       "\\hline\n",
       "\t CAIRDPEQGITDTQYF  & TRBV10-3 & TRBJ2-3 & CHP\\_315-05-PBMC-DNA & 24 & 0.025369979 & /Users/anabbi/Desktop/H4H/INTERCEPT/NextSeq/batch4\\_19Aug2019/mixcr/clones/CLONES\\_TRBCHP\\_315-05-PBMC-DNA.txt & CHP\\_315\\\\\n",
       "\t CAIRGTGADQPQHF    & TRBV10-3 & TRBJ1-5 & CHP\\_315-05-PBMC-DNA & 21 & 0.022198732 & /Users/anabbi/Desktop/H4H/INTERCEPT/NextSeq/batch4\\_19Aug2019/mixcr/clones/CLONES\\_TRBCHP\\_315-05-PBMC-DNA.txt & CHP\\_315\\\\\n",
       "\t CAISGVWGGDTQYF    & TRBV10-3 & TRBJ2-3 & CHP\\_315-05-PBMC-DNA & 12 & 0.012684989 & /Users/anabbi/Desktop/H4H/INTERCEPT/NextSeq/batch4\\_19Aug2019/mixcr/clones/CLONES\\_TRBCHP\\_315-05-PBMC-DNA.txt & CHP\\_315\\\\\n",
       "\t CASRLAGTGSPLHF    & TRBV6-1  & TRBJ1-6 & CHP\\_315-05-PBMC-DNA &  2 & 0.002114165 & /Users/anabbi/Desktop/H4H/INTERCEPT/NextSeq/batch4\\_19Aug2019/mixcr/clones/CLONES\\_TRBCHP\\_315-05-PBMC-DNA.txt & CHP\\_315\\\\\n",
       "\t CASSDPQGTEAFF     & TRBV6-2  & TRBJ1-1 & CHP\\_315-05-PBMC-DNA & 21 & 0.022198732 & /Users/anabbi/Desktop/H4H/INTERCEPT/NextSeq/batch4\\_19Aug2019/mixcr/clones/CLONES\\_TRBCHP\\_315-05-PBMC-DNA.txt & CHP\\_315\\\\\n",
       "\t CASSEEPGTSGYNEQFF & TRBV2    & TRBJ2-1 & CHP\\_315-05-PBMC-DNA &  6 & 0.006342495 & /Users/anabbi/Desktop/H4H/INTERCEPT/NextSeq/batch4\\_19Aug2019/mixcr/clones/CLONES\\_TRBCHP\\_315-05-PBMC-DNA.txt & CHP\\_315\\\\\n",
       "\\end{tabular}\n"
      ],
      "text/markdown": [
       "\n",
       "A data.table: 6 × 8\n",
       "\n",
       "| CDR3b &lt;chr&gt; | TRBV &lt;chr&gt; | TRBJ &lt;chr&gt; | subject &lt;chr&gt; | count &lt;int&gt; | clonefraction &lt;dbl&gt; | file &lt;chr&gt; | subject:condition &lt;chr&gt; |\n",
       "|---|---|---|---|---|---|---|---|\n",
       "| CAIRDPEQGITDTQYF  | TRBV10-3 | TRBJ2-3 | CHP_315-05-PBMC-DNA | 24 | 0.025369979 | /Users/anabbi/Desktop/H4H/INTERCEPT/NextSeq/batch4_19Aug2019/mixcr/clones/CLONES_TRBCHP_315-05-PBMC-DNA.txt | CHP_315 |\n",
       "| CAIRGTGADQPQHF    | TRBV10-3 | TRBJ1-5 | CHP_315-05-PBMC-DNA | 21 | 0.022198732 | /Users/anabbi/Desktop/H4H/INTERCEPT/NextSeq/batch4_19Aug2019/mixcr/clones/CLONES_TRBCHP_315-05-PBMC-DNA.txt | CHP_315 |\n",
       "| CAISGVWGGDTQYF    | TRBV10-3 | TRBJ2-3 | CHP_315-05-PBMC-DNA | 12 | 0.012684989 | /Users/anabbi/Desktop/H4H/INTERCEPT/NextSeq/batch4_19Aug2019/mixcr/clones/CLONES_TRBCHP_315-05-PBMC-DNA.txt | CHP_315 |\n",
       "| CASRLAGTGSPLHF    | TRBV6-1  | TRBJ1-6 | CHP_315-05-PBMC-DNA |  2 | 0.002114165 | /Users/anabbi/Desktop/H4H/INTERCEPT/NextSeq/batch4_19Aug2019/mixcr/clones/CLONES_TRBCHP_315-05-PBMC-DNA.txt | CHP_315 |\n",
       "| CASSDPQGTEAFF     | TRBV6-2  | TRBJ1-1 | CHP_315-05-PBMC-DNA | 21 | 0.022198732 | /Users/anabbi/Desktop/H4H/INTERCEPT/NextSeq/batch4_19Aug2019/mixcr/clones/CLONES_TRBCHP_315-05-PBMC-DNA.txt | CHP_315 |\n",
       "| CASSEEPGTSGYNEQFF | TRBV2    | TRBJ2-1 | CHP_315-05-PBMC-DNA |  6 | 0.006342495 | /Users/anabbi/Desktop/H4H/INTERCEPT/NextSeq/batch4_19Aug2019/mixcr/clones/CLONES_TRBCHP_315-05-PBMC-DNA.txt | CHP_315 |\n",
       "\n"
      ],
      "text/plain": [
       "  CDR3b             TRBV     TRBJ    subject             count clonefraction\n",
       "1 CAIRDPEQGITDTQYF  TRBV10-3 TRBJ2-3 CHP_315-05-PBMC-DNA 24    0.025369979  \n",
       "2 CAIRGTGADQPQHF    TRBV10-3 TRBJ1-5 CHP_315-05-PBMC-DNA 21    0.022198732  \n",
       "3 CAISGVWGGDTQYF    TRBV10-3 TRBJ2-3 CHP_315-05-PBMC-DNA 12    0.012684989  \n",
       "4 CASRLAGTGSPLHF    TRBV6-1  TRBJ1-6 CHP_315-05-PBMC-DNA  2    0.002114165  \n",
       "5 CASSDPQGTEAFF     TRBV6-2  TRBJ1-1 CHP_315-05-PBMC-DNA 21    0.022198732  \n",
       "6 CASSEEPGTSGYNEQFF TRBV2    TRBJ2-1 CHP_315-05-PBMC-DNA  6    0.006342495  \n",
       "  file                                                                                                       \n",
       "1 /Users/anabbi/Desktop/H4H/INTERCEPT/NextSeq/batch4_19Aug2019/mixcr/clones/CLONES_TRBCHP_315-05-PBMC-DNA.txt\n",
       "2 /Users/anabbi/Desktop/H4H/INTERCEPT/NextSeq/batch4_19Aug2019/mixcr/clones/CLONES_TRBCHP_315-05-PBMC-DNA.txt\n",
       "3 /Users/anabbi/Desktop/H4H/INTERCEPT/NextSeq/batch4_19Aug2019/mixcr/clones/CLONES_TRBCHP_315-05-PBMC-DNA.txt\n",
       "4 /Users/anabbi/Desktop/H4H/INTERCEPT/NextSeq/batch4_19Aug2019/mixcr/clones/CLONES_TRBCHP_315-05-PBMC-DNA.txt\n",
       "5 /Users/anabbi/Desktop/H4H/INTERCEPT/NextSeq/batch4_19Aug2019/mixcr/clones/CLONES_TRBCHP_315-05-PBMC-DNA.txt\n",
       "6 /Users/anabbi/Desktop/H4H/INTERCEPT/NextSeq/batch4_19Aug2019/mixcr/clones/CLONES_TRBCHP_315-05-PBMC-DNA.txt\n",
       "  subject:condition\n",
       "1 CHP_315          \n",
       "2 CHP_315          \n",
       "3 CHP_315          \n",
       "4 CHP_315          \n",
       "5 CHP_315          \n",
       "6 CHP_315          "
      ]
     },
     "metadata": {},
     "output_type": "display_data"
    }
   ],
   "source": [
    "head(taball)"
   ]
  },
  {
   "cell_type": "code",
   "execution_count": 15,
   "metadata": {},
   "outputs": [],
   "source": [
    "taball <- taball[,c(1,2,3,8,5,6,4,7)]"
   ]
  },
  {
   "cell_type": "code",
   "execution_count": 71,
   "metadata": {},
   "outputs": [],
   "source": [
    "taball$index <- 1:nrow(taball)"
   ]
  },
  {
   "cell_type": "code",
   "execution_count": 72,
   "metadata": {},
   "outputs": [],
   "source": [
    "save(taball, file = paste0(datapath, \"capTCRseq/INT_gliph_input.RData\"))"
   ]
  },
  {
   "cell_type": "code",
   "execution_count": 187,
   "metadata": {},
   "outputs": [],
   "source": [
    "#save(taball, file = \"/Users/anabbi/Desktop/H4H/INTERCEPT/Adaptive/tsv_cleanup/gliphinput/INT_gliph_input.RData\")"
   ]
  },
  {
   "cell_type": "markdown",
   "metadata": {},
   "source": [
    "## Cleanup VDJdb file - curated by Shirin"
   ]
  },
  {
   "cell_type": "code",
   "execution_count": 6,
   "metadata": {},
   "outputs": [],
   "source": [
    "VDJdb_tcr <- read.table(file = paste0(datapath, \"CapTCRseq/VDJdb_MinimalScoreConfidence3.tsv\"), sep = \"\\t\", header = T)"
   ]
  },
  {
   "cell_type": "code",
   "execution_count": 7,
   "metadata": {},
   "outputs": [
    {
     "data": {
      "text/html": [
       "<style>\n",
       ".list-inline {list-style: none; margin:0; padding: 0}\n",
       ".list-inline>li {display: inline-block}\n",
       ".list-inline>li:not(:last-child)::after {content: \"\\00b7\"; padding: 0 .5ex}\n",
       "</style>\n",
       "<ol class=list-inline><li>'complex.id'</li><li>'Gene'</li><li>'aaSeqCDR3'</li><li>'V'</li><li>'J'</li><li>'MHC.A'</li><li>'MHC.B'</li><li>'MHC.class'</li><li>'Epitope'</li><li>'Epitope.gene'</li><li>'Epitope.species'</li><li>'Reference'</li></ol>\n"
      ],
      "text/latex": [
       "\\begin{enumerate*}\n",
       "\\item 'complex.id'\n",
       "\\item 'Gene'\n",
       "\\item 'aaSeqCDR3'\n",
       "\\item 'V'\n",
       "\\item 'J'\n",
       "\\item 'MHC.A'\n",
       "\\item 'MHC.B'\n",
       "\\item 'MHC.class'\n",
       "\\item 'Epitope'\n",
       "\\item 'Epitope.gene'\n",
       "\\item 'Epitope.species'\n",
       "\\item 'Reference'\n",
       "\\end{enumerate*}\n"
      ],
      "text/markdown": [
       "1. 'complex.id'\n",
       "2. 'Gene'\n",
       "3. 'aaSeqCDR3'\n",
       "4. 'V'\n",
       "5. 'J'\n",
       "6. 'MHC.A'\n",
       "7. 'MHC.B'\n",
       "8. 'MHC.class'\n",
       "9. 'Epitope'\n",
       "10. 'Epitope.gene'\n",
       "11. 'Epitope.species'\n",
       "12. 'Reference'\n",
       "\n",
       "\n"
      ],
      "text/plain": [
       " [1] \"complex.id\"      \"Gene\"            \"aaSeqCDR3\"       \"V\"              \n",
       " [5] \"J\"               \"MHC.A\"           \"MHC.B\"           \"MHC.class\"      \n",
       " [9] \"Epitope\"         \"Epitope.gene\"    \"Epitope.species\" \"Reference\"      "
      ]
     },
     "metadata": {},
     "output_type": "display_data"
    }
   ],
   "source": [
    "colnames(VDJdb_tcr)"
   ]
  },
  {
   "cell_type": "code",
   "execution_count": 8,
   "metadata": {},
   "outputs": [
    {
     "data": {
      "text/html": [
       "<table class=\"dataframe\">\n",
       "<caption>A data.frame: 6 × 12</caption>\n",
       "<thead>\n",
       "\t<tr><th></th><th scope=col>complex.id</th><th scope=col>Gene</th><th scope=col>aaSeqCDR3</th><th scope=col>V</th><th scope=col>J</th><th scope=col>MHC.A</th><th scope=col>MHC.B</th><th scope=col>MHC.class</th><th scope=col>Epitope</th><th scope=col>Epitope.gene</th><th scope=col>Epitope.species</th><th scope=col>Reference</th></tr>\n",
       "\t<tr><th></th><th scope=col>&lt;int&gt;</th><th scope=col>&lt;chr&gt;</th><th scope=col>&lt;chr&gt;</th><th scope=col>&lt;chr&gt;</th><th scope=col>&lt;chr&gt;</th><th scope=col>&lt;chr&gt;</th><th scope=col>&lt;chr&gt;</th><th scope=col>&lt;chr&gt;</th><th scope=col>&lt;chr&gt;</th><th scope=col>&lt;chr&gt;</th><th scope=col>&lt;chr&gt;</th><th scope=col>&lt;chr&gt;</th></tr>\n",
       "</thead>\n",
       "<tbody>\n",
       "\t<tr><th scope=row>1</th><td>0</td><td>TRB</td><td>CAISGQAVSTDTQYF</td><td>TRBV10-3*01</td><td>TRBJ2-3*01</td><td>HLA-A*02   </td><td>NA</td><td>MHCI</td><td>KLVALGINAV</td><td>NS3  </td><td>HCV</td><td>PMID:27252176</td></tr>\n",
       "\t<tr><th scope=row>2</th><td>0</td><td>TRB</td><td>CASDSNTEAFF    </td><td>TRBV25-1*01</td><td>TRBJ1-1*01</td><td>HLA-A*02   </td><td>NA</td><td>MHCI</td><td>KLVALGINAV</td><td>NS3  </td><td>HCV</td><td>PMID:27252176</td></tr>\n",
       "\t<tr><th scope=row>3</th><td>0</td><td>TRB</td><td>CASGWGSQPQHF   </td><td>TRBV7-9*01 </td><td>TRBJ1-5*01</td><td>HLA-A*11:01</td><td>NA</td><td>MHCI</td><td>AVFDRKSDAK</td><td>EBNA4</td><td>EBV</td><td>PMID:23267020</td></tr>\n",
       "\t<tr><th scope=row>4</th><td>0</td><td>TRB</td><td>CASKGQGARDGYTF </td><td>TRBV6-6*01 </td><td>TRBJ1-2*01</td><td>HLA-B*35:01</td><td>NA</td><td>MHCI</td><td>IPSINVHHY </td><td>pp65 </td><td>CMV</td><td>PMID:23267020</td></tr>\n",
       "\t<tr><th scope=row>5</th><td>0</td><td>TRB</td><td>CASKMRGDVYEQYF </td><td>TRBV18*01  </td><td>TRBJ2-7*01</td><td>HLA-B*08:01</td><td>NA</td><td>MHCI</td><td>RAKFKQLL  </td><td>BZLF1</td><td>EBV</td><td>PMID:23267020</td></tr>\n",
       "\t<tr><th scope=row>6</th><td>0</td><td>TRB</td><td>CASMGNSAGANVLTF</td><td>TRBV10-1*01</td><td>TRBJ2-6*01</td><td>HLA-A*02   </td><td>NA</td><td>MHCI</td><td>NLVPMVATV </td><td>pp65 </td><td>CMV</td><td>PMID:9971792 </td></tr>\n",
       "</tbody>\n",
       "</table>\n"
      ],
      "text/latex": [
       "A data.frame: 6 × 12\n",
       "\\begin{tabular}{r|llllllllllll}\n",
       "  & complex.id & Gene & aaSeqCDR3 & V & J & MHC.A & MHC.B & MHC.class & Epitope & Epitope.gene & Epitope.species & Reference\\\\\n",
       "  & <int> & <chr> & <chr> & <chr> & <chr> & <chr> & <chr> & <chr> & <chr> & <chr> & <chr> & <chr>\\\\\n",
       "\\hline\n",
       "\t1 & 0 & TRB & CAISGQAVSTDTQYF & TRBV10-3*01 & TRBJ2-3*01 & HLA-A*02    & NA & MHCI & KLVALGINAV & NS3   & HCV & PMID:27252176\\\\\n",
       "\t2 & 0 & TRB & CASDSNTEAFF     & TRBV25-1*01 & TRBJ1-1*01 & HLA-A*02    & NA & MHCI & KLVALGINAV & NS3   & HCV & PMID:27252176\\\\\n",
       "\t3 & 0 & TRB & CASGWGSQPQHF    & TRBV7-9*01  & TRBJ1-5*01 & HLA-A*11:01 & NA & MHCI & AVFDRKSDAK & EBNA4 & EBV & PMID:23267020\\\\\n",
       "\t4 & 0 & TRB & CASKGQGARDGYTF  & TRBV6-6*01  & TRBJ1-2*01 & HLA-B*35:01 & NA & MHCI & IPSINVHHY  & pp65  & CMV & PMID:23267020\\\\\n",
       "\t5 & 0 & TRB & CASKMRGDVYEQYF  & TRBV18*01   & TRBJ2-7*01 & HLA-B*08:01 & NA & MHCI & RAKFKQLL   & BZLF1 & EBV & PMID:23267020\\\\\n",
       "\t6 & 0 & TRB & CASMGNSAGANVLTF & TRBV10-1*01 & TRBJ2-6*01 & HLA-A*02    & NA & MHCI & NLVPMVATV  & pp65  & CMV & PMID:9971792 \\\\\n",
       "\\end{tabular}\n"
      ],
      "text/markdown": [
       "\n",
       "A data.frame: 6 × 12\n",
       "\n",
       "| <!--/--> | complex.id &lt;int&gt; | Gene &lt;chr&gt; | aaSeqCDR3 &lt;chr&gt; | V &lt;chr&gt; | J &lt;chr&gt; | MHC.A &lt;chr&gt; | MHC.B &lt;chr&gt; | MHC.class &lt;chr&gt; | Epitope &lt;chr&gt; | Epitope.gene &lt;chr&gt; | Epitope.species &lt;chr&gt; | Reference &lt;chr&gt; |\n",
       "|---|---|---|---|---|---|---|---|---|---|---|---|---|\n",
       "| 1 | 0 | TRB | CAISGQAVSTDTQYF | TRBV10-3*01 | TRBJ2-3*01 | HLA-A*02    | NA | MHCI | KLVALGINAV | NS3   | HCV | PMID:27252176 |\n",
       "| 2 | 0 | TRB | CASDSNTEAFF     | TRBV25-1*01 | TRBJ1-1*01 | HLA-A*02    | NA | MHCI | KLVALGINAV | NS3   | HCV | PMID:27252176 |\n",
       "| 3 | 0 | TRB | CASGWGSQPQHF    | TRBV7-9*01  | TRBJ1-5*01 | HLA-A*11:01 | NA | MHCI | AVFDRKSDAK | EBNA4 | EBV | PMID:23267020 |\n",
       "| 4 | 0 | TRB | CASKGQGARDGYTF  | TRBV6-6*01  | TRBJ1-2*01 | HLA-B*35:01 | NA | MHCI | IPSINVHHY  | pp65  | CMV | PMID:23267020 |\n",
       "| 5 | 0 | TRB | CASKMRGDVYEQYF  | TRBV18*01   | TRBJ2-7*01 | HLA-B*08:01 | NA | MHCI | RAKFKQLL   | BZLF1 | EBV | PMID:23267020 |\n",
       "| 6 | 0 | TRB | CASMGNSAGANVLTF | TRBV10-1*01 | TRBJ2-6*01 | HLA-A*02    | NA | MHCI | NLVPMVATV  | pp65  | CMV | PMID:9971792  |\n",
       "\n"
      ],
      "text/plain": [
       "  complex.id Gene aaSeqCDR3       V           J          MHC.A       MHC.B\n",
       "1 0          TRB  CAISGQAVSTDTQYF TRBV10-3*01 TRBJ2-3*01 HLA-A*02    NA   \n",
       "2 0          TRB  CASDSNTEAFF     TRBV25-1*01 TRBJ1-1*01 HLA-A*02    NA   \n",
       "3 0          TRB  CASGWGSQPQHF    TRBV7-9*01  TRBJ1-5*01 HLA-A*11:01 NA   \n",
       "4 0          TRB  CASKGQGARDGYTF  TRBV6-6*01  TRBJ1-2*01 HLA-B*35:01 NA   \n",
       "5 0          TRB  CASKMRGDVYEQYF  TRBV18*01   TRBJ2-7*01 HLA-B*08:01 NA   \n",
       "6 0          TRB  CASMGNSAGANVLTF TRBV10-1*01 TRBJ2-6*01 HLA-A*02    NA   \n",
       "  MHC.class Epitope    Epitope.gene Epitope.species Reference    \n",
       "1 MHCI      KLVALGINAV NS3          HCV             PMID:27252176\n",
       "2 MHCI      KLVALGINAV NS3          HCV             PMID:27252176\n",
       "3 MHCI      AVFDRKSDAK EBNA4        EBV             PMID:23267020\n",
       "4 MHCI      IPSINVHHY  pp65         CMV             PMID:23267020\n",
       "5 MHCI      RAKFKQLL   BZLF1        EBV             PMID:23267020\n",
       "6 MHCI      NLVPMVATV  pp65         CMV             PMID:9971792 "
      ]
     },
     "metadata": {},
     "output_type": "display_data"
    }
   ],
   "source": [
    "head(VDJdb_tcr)"
   ]
  },
  {
   "cell_type": "code",
   "execution_count": 9,
   "metadata": {},
   "outputs": [],
   "source": [
    "VDJdb_tcr$`subject:condition` <- paste0(\"VDJdb:\",VDJdb_tcr$Epitope.gene,\"_\", VDJdb_tcr$Epitope.species)\n",
    "VDJdb_tcr$count <- 1\n",
    "VDJdb_tcr$clonefraction <- 1\n",
    "VDJdb_tcr$subject <- \"VDJdb\"\n",
    "VDJdb_tcr$file <- \"VDJdb_MinimalScoreConfidence3.tsv\"\n",
    "VDJdb_tcr$index <- 1:nrow(VDJdb_tcr)"
   ]
  },
  {
   "cell_type": "code",
   "execution_count": 10,
   "metadata": {},
   "outputs": [],
   "source": [
    "VDJdb_tcr_cleanup <- VDJdb_tcr[, c(\"aaSeqCDR3\", \"V\", \"J\", \"subject:condition\", \"count\", \n",
    "                                   \"clonefraction\", \"subject\", \"file\", \"index\")]"
   ]
  },
  {
   "cell_type": "code",
   "execution_count": 12,
   "metadata": {},
   "outputs": [
    {
     "data": {
      "text/html": [
       "<table class=\"dataframe\">\n",
       "<caption>A data.frame: 6 × 9</caption>\n",
       "<thead>\n",
       "\t<tr><th></th><th scope=col>aaSeqCDR3</th><th scope=col>V</th><th scope=col>J</th><th scope=col>subject:condition</th><th scope=col>count</th><th scope=col>clonefraction</th><th scope=col>subject</th><th scope=col>file</th><th scope=col>index</th></tr>\n",
       "\t<tr><th></th><th scope=col>&lt;chr&gt;</th><th scope=col>&lt;chr&gt;</th><th scope=col>&lt;chr&gt;</th><th scope=col>&lt;chr&gt;</th><th scope=col>&lt;dbl&gt;</th><th scope=col>&lt;dbl&gt;</th><th scope=col>&lt;chr&gt;</th><th scope=col>&lt;chr&gt;</th><th scope=col>&lt;int&gt;</th></tr>\n",
       "</thead>\n",
       "<tbody>\n",
       "\t<tr><th scope=row>1</th><td>CAISGQAVSTDTQYF</td><td>TRBV10-3*01</td><td>TRBJ2-3*01</td><td>VDJdb:NS3_HCV  </td><td>1</td><td>1</td><td>VDJdb</td><td>VDJdb_MinimalScoreConfidence3.tsv</td><td>1</td></tr>\n",
       "\t<tr><th scope=row>2</th><td>CASDSNTEAFF    </td><td>TRBV25-1*01</td><td>TRBJ1-1*01</td><td>VDJdb:NS3_HCV  </td><td>1</td><td>1</td><td>VDJdb</td><td>VDJdb_MinimalScoreConfidence3.tsv</td><td>2</td></tr>\n",
       "\t<tr><th scope=row>3</th><td>CASGWGSQPQHF   </td><td>TRBV7-9*01 </td><td>TRBJ1-5*01</td><td>VDJdb:EBNA4_EBV</td><td>1</td><td>1</td><td>VDJdb</td><td>VDJdb_MinimalScoreConfidence3.tsv</td><td>3</td></tr>\n",
       "\t<tr><th scope=row>4</th><td>CASKGQGARDGYTF </td><td>TRBV6-6*01 </td><td>TRBJ1-2*01</td><td>VDJdb:pp65_CMV </td><td>1</td><td>1</td><td>VDJdb</td><td>VDJdb_MinimalScoreConfidence3.tsv</td><td>4</td></tr>\n",
       "\t<tr><th scope=row>5</th><td>CASKMRGDVYEQYF </td><td>TRBV18*01  </td><td>TRBJ2-7*01</td><td>VDJdb:BZLF1_EBV</td><td>1</td><td>1</td><td>VDJdb</td><td>VDJdb_MinimalScoreConfidence3.tsv</td><td>5</td></tr>\n",
       "\t<tr><th scope=row>6</th><td>CASMGNSAGANVLTF</td><td>TRBV10-1*01</td><td>TRBJ2-6*01</td><td>VDJdb:pp65_CMV </td><td>1</td><td>1</td><td>VDJdb</td><td>VDJdb_MinimalScoreConfidence3.tsv</td><td>6</td></tr>\n",
       "</tbody>\n",
       "</table>\n"
      ],
      "text/latex": [
       "A data.frame: 6 × 9\n",
       "\\begin{tabular}{r|lllllllll}\n",
       "  & aaSeqCDR3 & V & J & subject:condition & count & clonefraction & subject & file & index\\\\\n",
       "  & <chr> & <chr> & <chr> & <chr> & <dbl> & <dbl> & <chr> & <chr> & <int>\\\\\n",
       "\\hline\n",
       "\t1 & CAISGQAVSTDTQYF & TRBV10-3*01 & TRBJ2-3*01 & VDJdb:NS3\\_HCV   & 1 & 1 & VDJdb & VDJdb\\_MinimalScoreConfidence3.tsv & 1\\\\\n",
       "\t2 & CASDSNTEAFF     & TRBV25-1*01 & TRBJ1-1*01 & VDJdb:NS3\\_HCV   & 1 & 1 & VDJdb & VDJdb\\_MinimalScoreConfidence3.tsv & 2\\\\\n",
       "\t3 & CASGWGSQPQHF    & TRBV7-9*01  & TRBJ1-5*01 & VDJdb:EBNA4\\_EBV & 1 & 1 & VDJdb & VDJdb\\_MinimalScoreConfidence3.tsv & 3\\\\\n",
       "\t4 & CASKGQGARDGYTF  & TRBV6-6*01  & TRBJ1-2*01 & VDJdb:pp65\\_CMV  & 1 & 1 & VDJdb & VDJdb\\_MinimalScoreConfidence3.tsv & 4\\\\\n",
       "\t5 & CASKMRGDVYEQYF  & TRBV18*01   & TRBJ2-7*01 & VDJdb:BZLF1\\_EBV & 1 & 1 & VDJdb & VDJdb\\_MinimalScoreConfidence3.tsv & 5\\\\\n",
       "\t6 & CASMGNSAGANVLTF & TRBV10-1*01 & TRBJ2-6*01 & VDJdb:pp65\\_CMV  & 1 & 1 & VDJdb & VDJdb\\_MinimalScoreConfidence3.tsv & 6\\\\\n",
       "\\end{tabular}\n"
      ],
      "text/markdown": [
       "\n",
       "A data.frame: 6 × 9\n",
       "\n",
       "| <!--/--> | aaSeqCDR3 &lt;chr&gt; | V &lt;chr&gt; | J &lt;chr&gt; | subject:condition &lt;chr&gt; | count &lt;dbl&gt; | clonefraction &lt;dbl&gt; | subject &lt;chr&gt; | file &lt;chr&gt; | index &lt;int&gt; |\n",
       "|---|---|---|---|---|---|---|---|---|---|\n",
       "| 1 | CAISGQAVSTDTQYF | TRBV10-3*01 | TRBJ2-3*01 | VDJdb:NS3_HCV   | 1 | 1 | VDJdb | VDJdb_MinimalScoreConfidence3.tsv | 1 |\n",
       "| 2 | CASDSNTEAFF     | TRBV25-1*01 | TRBJ1-1*01 | VDJdb:NS3_HCV   | 1 | 1 | VDJdb | VDJdb_MinimalScoreConfidence3.tsv | 2 |\n",
       "| 3 | CASGWGSQPQHF    | TRBV7-9*01  | TRBJ1-5*01 | VDJdb:EBNA4_EBV | 1 | 1 | VDJdb | VDJdb_MinimalScoreConfidence3.tsv | 3 |\n",
       "| 4 | CASKGQGARDGYTF  | TRBV6-6*01  | TRBJ1-2*01 | VDJdb:pp65_CMV  | 1 | 1 | VDJdb | VDJdb_MinimalScoreConfidence3.tsv | 4 |\n",
       "| 5 | CASKMRGDVYEQYF  | TRBV18*01   | TRBJ2-7*01 | VDJdb:BZLF1_EBV | 1 | 1 | VDJdb | VDJdb_MinimalScoreConfidence3.tsv | 5 |\n",
       "| 6 | CASMGNSAGANVLTF | TRBV10-1*01 | TRBJ2-6*01 | VDJdb:pp65_CMV  | 1 | 1 | VDJdb | VDJdb_MinimalScoreConfidence3.tsv | 6 |\n",
       "\n"
      ],
      "text/plain": [
       "  aaSeqCDR3       V           J          subject:condition count clonefraction\n",
       "1 CAISGQAVSTDTQYF TRBV10-3*01 TRBJ2-3*01 VDJdb:NS3_HCV     1     1            \n",
       "2 CASDSNTEAFF     TRBV25-1*01 TRBJ1-1*01 VDJdb:NS3_HCV     1     1            \n",
       "3 CASGWGSQPQHF    TRBV7-9*01  TRBJ1-5*01 VDJdb:EBNA4_EBV   1     1            \n",
       "4 CASKGQGARDGYTF  TRBV6-6*01  TRBJ1-2*01 VDJdb:pp65_CMV    1     1            \n",
       "5 CASKMRGDVYEQYF  TRBV18*01   TRBJ2-7*01 VDJdb:BZLF1_EBV   1     1            \n",
       "6 CASMGNSAGANVLTF TRBV10-1*01 TRBJ2-6*01 VDJdb:pp65_CMV    1     1            \n",
       "  subject file                              index\n",
       "1 VDJdb   VDJdb_MinimalScoreConfidence3.tsv 1    \n",
       "2 VDJdb   VDJdb_MinimalScoreConfidence3.tsv 2    \n",
       "3 VDJdb   VDJdb_MinimalScoreConfidence3.tsv 3    \n",
       "4 VDJdb   VDJdb_MinimalScoreConfidence3.tsv 4    \n",
       "5 VDJdb   VDJdb_MinimalScoreConfidence3.tsv 5    \n",
       "6 VDJdb   VDJdb_MinimalScoreConfidence3.tsv 6    "
      ]
     },
     "metadata": {},
     "output_type": "display_data"
    }
   ],
   "source": [
    "head(VDJdb_tcr_cleanup)"
   ]
  },
  {
   "cell_type": "code",
   "execution_count": 13,
   "metadata": {},
   "outputs": [],
   "source": [
    "colnames(VDJdb_tcr_cleanup)[1:3] <- c('CDR3b', 'TRBV', 'TRBJ')"
   ]
  },
  {
   "cell_type": "code",
   "execution_count": 14,
   "metadata": {},
   "outputs": [],
   "source": [
    "VDJdb_tcr_cleanup$TRBV <- gsub(\"[*]0.*\", \"\", VDJdb_tcr_cleanup$TRBV)\n",
    "VDJdb_tcr_cleanup$TRBJ <- gsub(\"[*]0.*\", \"\", VDJdb_tcr_cleanup$TRBJ)"
   ]
  },
  {
   "cell_type": "code",
   "execution_count": 15,
   "metadata": {},
   "outputs": [
    {
     "data": {
      "text/html": [
       "<table class=\"dataframe\">\n",
       "<caption>A data.frame: 6 × 9</caption>\n",
       "<thead>\n",
       "\t<tr><th></th><th scope=col>CDR3b</th><th scope=col>TRBV</th><th scope=col>TRBJ</th><th scope=col>subject:condition</th><th scope=col>count</th><th scope=col>clonefraction</th><th scope=col>subject</th><th scope=col>file</th><th scope=col>index</th></tr>\n",
       "\t<tr><th></th><th scope=col>&lt;chr&gt;</th><th scope=col>&lt;chr&gt;</th><th scope=col>&lt;chr&gt;</th><th scope=col>&lt;chr&gt;</th><th scope=col>&lt;dbl&gt;</th><th scope=col>&lt;dbl&gt;</th><th scope=col>&lt;chr&gt;</th><th scope=col>&lt;chr&gt;</th><th scope=col>&lt;int&gt;</th></tr>\n",
       "</thead>\n",
       "<tbody>\n",
       "\t<tr><th scope=row>1</th><td>CAISGQAVSTDTQYF</td><td>TRBV10-3</td><td>TRBJ2-3</td><td>VDJdb:NS3_HCV  </td><td>1</td><td>1</td><td>VDJdb</td><td>VDJdb_MinimalScoreConfidence3.tsv</td><td>1</td></tr>\n",
       "\t<tr><th scope=row>2</th><td>CASDSNTEAFF    </td><td>TRBV25-1</td><td>TRBJ1-1</td><td>VDJdb:NS3_HCV  </td><td>1</td><td>1</td><td>VDJdb</td><td>VDJdb_MinimalScoreConfidence3.tsv</td><td>2</td></tr>\n",
       "\t<tr><th scope=row>3</th><td>CASGWGSQPQHF   </td><td>TRBV7-9 </td><td>TRBJ1-5</td><td>VDJdb:EBNA4_EBV</td><td>1</td><td>1</td><td>VDJdb</td><td>VDJdb_MinimalScoreConfidence3.tsv</td><td>3</td></tr>\n",
       "\t<tr><th scope=row>4</th><td>CASKGQGARDGYTF </td><td>TRBV6-6 </td><td>TRBJ1-2</td><td>VDJdb:pp65_CMV </td><td>1</td><td>1</td><td>VDJdb</td><td>VDJdb_MinimalScoreConfidence3.tsv</td><td>4</td></tr>\n",
       "\t<tr><th scope=row>5</th><td>CASKMRGDVYEQYF </td><td>TRBV18  </td><td>TRBJ2-7</td><td>VDJdb:BZLF1_EBV</td><td>1</td><td>1</td><td>VDJdb</td><td>VDJdb_MinimalScoreConfidence3.tsv</td><td>5</td></tr>\n",
       "\t<tr><th scope=row>6</th><td>CASMGNSAGANVLTF</td><td>TRBV10-1</td><td>TRBJ2-6</td><td>VDJdb:pp65_CMV </td><td>1</td><td>1</td><td>VDJdb</td><td>VDJdb_MinimalScoreConfidence3.tsv</td><td>6</td></tr>\n",
       "</tbody>\n",
       "</table>\n"
      ],
      "text/latex": [
       "A data.frame: 6 × 9\n",
       "\\begin{tabular}{r|lllllllll}\n",
       "  & CDR3b & TRBV & TRBJ & subject:condition & count & clonefraction & subject & file & index\\\\\n",
       "  & <chr> & <chr> & <chr> & <chr> & <dbl> & <dbl> & <chr> & <chr> & <int>\\\\\n",
       "\\hline\n",
       "\t1 & CAISGQAVSTDTQYF & TRBV10-3 & TRBJ2-3 & VDJdb:NS3\\_HCV   & 1 & 1 & VDJdb & VDJdb\\_MinimalScoreConfidence3.tsv & 1\\\\\n",
       "\t2 & CASDSNTEAFF     & TRBV25-1 & TRBJ1-1 & VDJdb:NS3\\_HCV   & 1 & 1 & VDJdb & VDJdb\\_MinimalScoreConfidence3.tsv & 2\\\\\n",
       "\t3 & CASGWGSQPQHF    & TRBV7-9  & TRBJ1-5 & VDJdb:EBNA4\\_EBV & 1 & 1 & VDJdb & VDJdb\\_MinimalScoreConfidence3.tsv & 3\\\\\n",
       "\t4 & CASKGQGARDGYTF  & TRBV6-6  & TRBJ1-2 & VDJdb:pp65\\_CMV  & 1 & 1 & VDJdb & VDJdb\\_MinimalScoreConfidence3.tsv & 4\\\\\n",
       "\t5 & CASKMRGDVYEQYF  & TRBV18   & TRBJ2-7 & VDJdb:BZLF1\\_EBV & 1 & 1 & VDJdb & VDJdb\\_MinimalScoreConfidence3.tsv & 5\\\\\n",
       "\t6 & CASMGNSAGANVLTF & TRBV10-1 & TRBJ2-6 & VDJdb:pp65\\_CMV  & 1 & 1 & VDJdb & VDJdb\\_MinimalScoreConfidence3.tsv & 6\\\\\n",
       "\\end{tabular}\n"
      ],
      "text/markdown": [
       "\n",
       "A data.frame: 6 × 9\n",
       "\n",
       "| <!--/--> | CDR3b &lt;chr&gt; | TRBV &lt;chr&gt; | TRBJ &lt;chr&gt; | subject:condition &lt;chr&gt; | count &lt;dbl&gt; | clonefraction &lt;dbl&gt; | subject &lt;chr&gt; | file &lt;chr&gt; | index &lt;int&gt; |\n",
       "|---|---|---|---|---|---|---|---|---|---|\n",
       "| 1 | CAISGQAVSTDTQYF | TRBV10-3 | TRBJ2-3 | VDJdb:NS3_HCV   | 1 | 1 | VDJdb | VDJdb_MinimalScoreConfidence3.tsv | 1 |\n",
       "| 2 | CASDSNTEAFF     | TRBV25-1 | TRBJ1-1 | VDJdb:NS3_HCV   | 1 | 1 | VDJdb | VDJdb_MinimalScoreConfidence3.tsv | 2 |\n",
       "| 3 | CASGWGSQPQHF    | TRBV7-9  | TRBJ1-5 | VDJdb:EBNA4_EBV | 1 | 1 | VDJdb | VDJdb_MinimalScoreConfidence3.tsv | 3 |\n",
       "| 4 | CASKGQGARDGYTF  | TRBV6-6  | TRBJ1-2 | VDJdb:pp65_CMV  | 1 | 1 | VDJdb | VDJdb_MinimalScoreConfidence3.tsv | 4 |\n",
       "| 5 | CASKMRGDVYEQYF  | TRBV18   | TRBJ2-7 | VDJdb:BZLF1_EBV | 1 | 1 | VDJdb | VDJdb_MinimalScoreConfidence3.tsv | 5 |\n",
       "| 6 | CASMGNSAGANVLTF | TRBV10-1 | TRBJ2-6 | VDJdb:pp65_CMV  | 1 | 1 | VDJdb | VDJdb_MinimalScoreConfidence3.tsv | 6 |\n",
       "\n"
      ],
      "text/plain": [
       "  CDR3b           TRBV     TRBJ    subject:condition count clonefraction\n",
       "1 CAISGQAVSTDTQYF TRBV10-3 TRBJ2-3 VDJdb:NS3_HCV     1     1            \n",
       "2 CASDSNTEAFF     TRBV25-1 TRBJ1-1 VDJdb:NS3_HCV     1     1            \n",
       "3 CASGWGSQPQHF    TRBV7-9  TRBJ1-5 VDJdb:EBNA4_EBV   1     1            \n",
       "4 CASKGQGARDGYTF  TRBV6-6  TRBJ1-2 VDJdb:pp65_CMV    1     1            \n",
       "5 CASKMRGDVYEQYF  TRBV18   TRBJ2-7 VDJdb:BZLF1_EBV   1     1            \n",
       "6 CASMGNSAGANVLTF TRBV10-1 TRBJ2-6 VDJdb:pp65_CMV    1     1            \n",
       "  subject file                              index\n",
       "1 VDJdb   VDJdb_MinimalScoreConfidence3.tsv 1    \n",
       "2 VDJdb   VDJdb_MinimalScoreConfidence3.tsv 2    \n",
       "3 VDJdb   VDJdb_MinimalScoreConfidence3.tsv 3    \n",
       "4 VDJdb   VDJdb_MinimalScoreConfidence3.tsv 4    \n",
       "5 VDJdb   VDJdb_MinimalScoreConfidence3.tsv 5    \n",
       "6 VDJdb   VDJdb_MinimalScoreConfidence3.tsv 6    "
      ]
     },
     "metadata": {},
     "output_type": "display_data"
    }
   ],
   "source": [
    "head(VDJdb_tcr_cleanup)"
   ]
  },
  {
   "cell_type": "code",
   "execution_count": 16,
   "metadata": {},
   "outputs": [],
   "source": [
    "save(VDJdb_tcr_cleanup, file = paste0(datapath, \"capTCRseq/VDJdb_tcr_cleanup.RData\"))"
   ]
  },
  {
   "cell_type": "code",
   "execution_count": 188,
   "metadata": {},
   "outputs": [],
   "source": [
    "load(file = paste0(datapath, \"capTCRseq/VDJdb_tcr_cleanup.RData\"))"
   ]
  },
  {
   "cell_type": "code",
   "execution_count": 189,
   "metadata": {},
   "outputs": [],
   "source": [
    "#save(VDJdb_tcr_cleanup, \n",
    "#     file = \"/Users/anabbi/Desktop/H4H/INTERCEPT/Adaptive/tsv_cleanup/gliphinput/VDJdb_tcr_cleanup.RData\")"
   ]
  },
  {
   "cell_type": "markdown",
   "metadata": {},
   "source": [
    "## Cleanup Adaptive data"
   ]
  },
  {
   "cell_type": "markdown",
   "metadata": {},
   "source": [
    "get a list of files"
   ]
  },
  {
   "cell_type": "code",
   "execution_count": 17,
   "metadata": {},
   "outputs": [],
   "source": [
    "file_list <- list.files(\"/Users/anabbi/Desktop/H4H/projects/INTERCEPT/Adaptive/\", \n",
    "                        pattern = \".tsv\", full.names = T, recursive = T)"
   ]
  },
  {
   "cell_type": "code",
   "execution_count": 19,
   "metadata": {},
   "outputs": [],
   "source": [
    "file_list <- file_list[ !grepl(\"SampleOverview\", file_list)]"
   ]
  },
  {
   "cell_type": "code",
   "execution_count": 21,
   "metadata": {},
   "outputs": [],
   "source": [
    "file_list1 <- list.files(\"/Users/anabbi/Desktop/H4H/pughlab/external_data/Adaptive/emerson2017\", \n",
    "                        pattern = \".tsv\", full.names = T, recursive = T)"
   ]
  },
  {
   "cell_type": "code",
   "execution_count": 22,
   "metadata": {},
   "outputs": [],
   "source": [
    "file_list1 <- file_list1[ !grepl(\"SampleOverview\", file_list1)]"
   ]
  },
  {
   "cell_type": "code",
   "execution_count": 23,
   "metadata": {},
   "outputs": [],
   "source": [
    "allfiles <- c(file_list, file_list1)"
   ]
  },
  {
   "cell_type": "markdown",
   "metadata": {},
   "source": [
    "take out files starting with Keck in emerson data and keep for validation"
   ]
  },
  {
   "cell_type": "code",
   "execution_count": 29,
   "metadata": {},
   "outputs": [],
   "source": [
    "allfiles <- allfiles[ !grepl(\"Keck\", allfiles)]\n",
    "allfiles <- allfiles[ !grepl(\"Denver\", allfiles)]"
   ]
  },
  {
   "cell_type": "code",
   "execution_count": 135,
   "metadata": {},
   "outputs": [],
   "source": [
    "adaptivefiles <- allfiles"
   ]
  },
  {
   "cell_type": "code",
   "execution_count": 136,
   "metadata": {},
   "outputs": [
    {
     "data": {
      "text/html": [
       "<style>\n",
       ".list-inline {list-style: none; margin:0; padding: 0}\n",
       ".list-inline>li {display: inline-block}\n",
       ".list-inline>li:not(:last-child)::after {content: \"\\00b7\"; padding: 0 .5ex}\n",
       "</style>\n",
       "<ol class=list-inline><li>'/Users/anabbi/Desktop/H4H/projects/INTERCEPT/Adaptive//Carey_Preterm2017/Adult_1_15-04.tsv'</li><li>'/Users/anabbi/Desktop/H4H/projects/INTERCEPT/Adaptive//Carey_Preterm2017/Adult_2_15-07.tsv'</li><li>'/Users/anabbi/Desktop/H4H/projects/INTERCEPT/Adaptive//Carey_Preterm2017/Adult_3_15-03.tsv'</li><li>'/Users/anabbi/Desktop/H4H/projects/INTERCEPT/Adaptive//Carey_Preterm2017/Adult_4_15-05.tsv'</li><li>'/Users/anabbi/Desktop/H4H/projects/INTERCEPT/Adaptive//Carey_Preterm2017/Adult_5_15-06.tsv'</li><li>'/Users/anabbi/Desktop/H4H/projects/INTERCEPT/Adaptive//Carey_Preterm2017/Cord_1_NWK206.tsv'</li></ol>\n"
      ],
      "text/latex": [
       "\\begin{enumerate*}\n",
       "\\item '/Users/anabbi/Desktop/H4H/projects/INTERCEPT/Adaptive//Carey\\_Preterm2017/Adult\\_1\\_15-04.tsv'\n",
       "\\item '/Users/anabbi/Desktop/H4H/projects/INTERCEPT/Adaptive//Carey\\_Preterm2017/Adult\\_2\\_15-07.tsv'\n",
       "\\item '/Users/anabbi/Desktop/H4H/projects/INTERCEPT/Adaptive//Carey\\_Preterm2017/Adult\\_3\\_15-03.tsv'\n",
       "\\item '/Users/anabbi/Desktop/H4H/projects/INTERCEPT/Adaptive//Carey\\_Preterm2017/Adult\\_4\\_15-05.tsv'\n",
       "\\item '/Users/anabbi/Desktop/H4H/projects/INTERCEPT/Adaptive//Carey\\_Preterm2017/Adult\\_5\\_15-06.tsv'\n",
       "\\item '/Users/anabbi/Desktop/H4H/projects/INTERCEPT/Adaptive//Carey\\_Preterm2017/Cord\\_1\\_NWK206.tsv'\n",
       "\\end{enumerate*}\n"
      ],
      "text/markdown": [
       "1. '/Users/anabbi/Desktop/H4H/projects/INTERCEPT/Adaptive//Carey_Preterm2017/Adult_1_15-04.tsv'\n",
       "2. '/Users/anabbi/Desktop/H4H/projects/INTERCEPT/Adaptive//Carey_Preterm2017/Adult_2_15-07.tsv'\n",
       "3. '/Users/anabbi/Desktop/H4H/projects/INTERCEPT/Adaptive//Carey_Preterm2017/Adult_3_15-03.tsv'\n",
       "4. '/Users/anabbi/Desktop/H4H/projects/INTERCEPT/Adaptive//Carey_Preterm2017/Adult_4_15-05.tsv'\n",
       "5. '/Users/anabbi/Desktop/H4H/projects/INTERCEPT/Adaptive//Carey_Preterm2017/Adult_5_15-06.tsv'\n",
       "6. '/Users/anabbi/Desktop/H4H/projects/INTERCEPT/Adaptive//Carey_Preterm2017/Cord_1_NWK206.tsv'\n",
       "\n",
       "\n"
      ],
      "text/plain": [
       "[1] \"/Users/anabbi/Desktop/H4H/projects/INTERCEPT/Adaptive//Carey_Preterm2017/Adult_1_15-04.tsv\"\n",
       "[2] \"/Users/anabbi/Desktop/H4H/projects/INTERCEPT/Adaptive//Carey_Preterm2017/Adult_2_15-07.tsv\"\n",
       "[3] \"/Users/anabbi/Desktop/H4H/projects/INTERCEPT/Adaptive//Carey_Preterm2017/Adult_3_15-03.tsv\"\n",
       "[4] \"/Users/anabbi/Desktop/H4H/projects/INTERCEPT/Adaptive//Carey_Preterm2017/Adult_4_15-05.tsv\"\n",
       "[5] \"/Users/anabbi/Desktop/H4H/projects/INTERCEPT/Adaptive//Carey_Preterm2017/Adult_5_15-06.tsv\"\n",
       "[6] \"/Users/anabbi/Desktop/H4H/projects/INTERCEPT/Adaptive//Carey_Preterm2017/Cord_1_NWK206.tsv\""
      ]
     },
     "metadata": {},
     "output_type": "display_data"
    }
   ],
   "source": [
    "head(adaptivefiles)"
   ]
  },
  {
   "cell_type": "code",
   "execution_count": 137,
   "metadata": {},
   "outputs": [],
   "source": [
    "adaptivefiles <- gsub(\"/Users/anabbi/Desktop/H4H/projects/INTERCEPT/Adaptive//\", \n",
    "                      \"/cluster/projects/pughlab/projects/INTERCEPT/Adaptive/\", adaptivefiles)"
   ]
  },
  {
   "cell_type": "code",
   "execution_count": 138,
   "metadata": {},
   "outputs": [],
   "source": [
    "adaptivefiles <- gsub(\"/Users/anabbi/Desktop/H4H/pughlab/external_data/\", \n",
    "                     \"/cluster/projects/pughlab/external_data/\", adaptivefiles)"
   ]
  },
  {
   "cell_type": "code",
   "execution_count": 139,
   "metadata": {},
   "outputs": [],
   "source": [
    "write.table(adaptivefiles[grepl(\"emerson\", adaptivefiles)], \n",
    "            file = \"/Users/anabbi/Desktop/H4H/INTERCEPT/Adaptive/tsv_cleanup/emersonadaptivefiles.txt\", \n",
    "            row.names = F, quote = F)"
   ]
  },
  {
   "cell_type": "code",
   "execution_count": 140,
   "metadata": {},
   "outputs": [
    {
     "data": {
      "text/html": [
       "<style>\n",
       ".list-inline {list-style: none; margin:0; padding: 0}\n",
       ".list-inline>li {display: inline-block}\n",
       ".list-inline>li:not(:last-child)::after {content: \"\\00b7\"; padding: 0 .5ex}\n",
       "</style>\n",
       "<ol class=list-inline><li>'/cluster/projects/pughlab/external_data/Adaptive/emerson2017/P00001.tsv'</li><li>'/cluster/projects/pughlab/external_data/Adaptive/emerson2017/P00002.tsv'</li><li>'/cluster/projects/pughlab/external_data/Adaptive/emerson2017/P00003.tsv'</li><li>'/cluster/projects/pughlab/external_data/Adaptive/emerson2017/P00004.tsv'</li><li>'/cluster/projects/pughlab/external_data/Adaptive/emerson2017/P00005.tsv'</li><li>'/cluster/projects/pughlab/external_data/Adaptive/emerson2017/P00006.tsv'</li><li>'/cluster/projects/pughlab/external_data/Adaptive/emerson2017/P00007.tsv'</li><li>'/cluster/projects/pughlab/external_data/Adaptive/emerson2017/P00008.tsv'</li><li>'/cluster/projects/pughlab/external_data/Adaptive/emerson2017/P00009.tsv'</li><li>'/cluster/projects/pughlab/external_data/Adaptive/emerson2017/P00010.tsv'</li><li>'/cluster/projects/pughlab/external_data/Adaptive/emerson2017/P00011.tsv'</li><li>'/cluster/projects/pughlab/external_data/Adaptive/emerson2017/P00012.tsv'</li><li>'/cluster/projects/pughlab/external_data/Adaptive/emerson2017/P00013.tsv'</li><li>'/cluster/projects/pughlab/external_data/Adaptive/emerson2017/P00014.tsv'</li><li>'/cluster/projects/pughlab/external_data/Adaptive/emerson2017/P00015.tsv'</li><li>'/cluster/projects/pughlab/external_data/Adaptive/emerson2017/P00016.tsv'</li><li>'/cluster/projects/pughlab/external_data/Adaptive/emerson2017/P00017.tsv'</li><li>'/cluster/projects/pughlab/external_data/Adaptive/emerson2017/P00018.tsv'</li><li>'/cluster/projects/pughlab/external_data/Adaptive/emerson2017/P00019.tsv'</li><li>'/cluster/projects/pughlab/external_data/Adaptive/emerson2017/P00020.tsv'</li><li>'/cluster/projects/pughlab/external_data/Adaptive/emerson2017/P00021.tsv'</li><li>'/cluster/projects/pughlab/external_data/Adaptive/emerson2017/P00022.tsv'</li><li>'/cluster/projects/pughlab/external_data/Adaptive/emerson2017/P00023.tsv'</li><li>'/cluster/projects/pughlab/external_data/Adaptive/emerson2017/P00024.tsv'</li><li>'/cluster/projects/pughlab/external_data/Adaptive/emerson2017/P00025.tsv'</li><li>'/cluster/projects/pughlab/external_data/Adaptive/emerson2017/P00026.tsv'</li><li>'/cluster/projects/pughlab/external_data/Adaptive/emerson2017/P00027.tsv'</li><li>'/cluster/projects/pughlab/external_data/Adaptive/emerson2017/P00028.tsv'</li><li>'/cluster/projects/pughlab/external_data/Adaptive/emerson2017/P00029.tsv'</li><li>'/cluster/projects/pughlab/external_data/Adaptive/emerson2017/P00030.tsv'</li><li>'/cluster/projects/pughlab/external_data/Adaptive/emerson2017/P00031.tsv'</li><li>'/cluster/projects/pughlab/external_data/Adaptive/emerson2017/P00032.tsv'</li><li>'/cluster/projects/pughlab/external_data/Adaptive/emerson2017/P00033.tsv'</li><li>'/cluster/projects/pughlab/external_data/Adaptive/emerson2017/P00034.tsv'</li><li>'/cluster/projects/pughlab/external_data/Adaptive/emerson2017/P00035.tsv'</li><li>'/cluster/projects/pughlab/external_data/Adaptive/emerson2017/P00036.tsv'</li><li>'/cluster/projects/pughlab/external_data/Adaptive/emerson2017/P00037.tsv'</li><li>'/cluster/projects/pughlab/external_data/Adaptive/emerson2017/P00038.tsv'</li><li>'/cluster/projects/pughlab/external_data/Adaptive/emerson2017/P00039.tsv'</li><li>'/cluster/projects/pughlab/external_data/Adaptive/emerson2017/P00040.tsv'</li><li>'/cluster/projects/pughlab/external_data/Adaptive/emerson2017/P00041.tsv'</li><li>'/cluster/projects/pughlab/external_data/Adaptive/emerson2017/P00042.tsv'</li><li>'/cluster/projects/pughlab/external_data/Adaptive/emerson2017/P00043.tsv'</li><li>'/cluster/projects/pughlab/external_data/Adaptive/emerson2017/P00044.tsv'</li><li>'/cluster/projects/pughlab/external_data/Adaptive/emerson2017/P00045.tsv'</li><li>'/cluster/projects/pughlab/external_data/Adaptive/emerson2017/P00046.tsv'</li><li>'/cluster/projects/pughlab/external_data/Adaptive/emerson2017/P00047.tsv'</li><li>'/cluster/projects/pughlab/external_data/Adaptive/emerson2017/P00048.tsv'</li><li>'/cluster/projects/pughlab/external_data/Adaptive/emerson2017/P00049.tsv'</li><li>'/cluster/projects/pughlab/external_data/Adaptive/emerson2017/P00050.tsv'</li><li>'/cluster/projects/pughlab/external_data/Adaptive/emerson2017/P00051.tsv'</li><li>'/cluster/projects/pughlab/external_data/Adaptive/emerson2017/P00052.tsv'</li><li>'/cluster/projects/pughlab/external_data/Adaptive/emerson2017/P00053.tsv'</li><li>'/cluster/projects/pughlab/external_data/Adaptive/emerson2017/P00054.tsv'</li><li>'/cluster/projects/pughlab/external_data/Adaptive/emerson2017/P00055.tsv'</li><li>'/cluster/projects/pughlab/external_data/Adaptive/emerson2017/P00056.tsv'</li><li>'/cluster/projects/pughlab/external_data/Adaptive/emerson2017/P00057.tsv'</li><li>'/cluster/projects/pughlab/external_data/Adaptive/emerson2017/P00058.tsv'</li><li>'/cluster/projects/pughlab/external_data/Adaptive/emerson2017/P00059.tsv'</li><li>'/cluster/projects/pughlab/external_data/Adaptive/emerson2017/P00060.tsv'</li><li>'/cluster/projects/pughlab/external_data/Adaptive/emerson2017/P00061.tsv'</li><li>'/cluster/projects/pughlab/external_data/Adaptive/emerson2017/P00062.tsv'</li><li>'/cluster/projects/pughlab/external_data/Adaptive/emerson2017/P00063.tsv'</li><li>'/cluster/projects/pughlab/external_data/Adaptive/emerson2017/P00064.tsv'</li><li>'/cluster/projects/pughlab/external_data/Adaptive/emerson2017/P00065.tsv'</li><li>'/cluster/projects/pughlab/external_data/Adaptive/emerson2017/P00066.tsv'</li><li>'/cluster/projects/pughlab/external_data/Adaptive/emerson2017/P00067.tsv'</li><li>'/cluster/projects/pughlab/external_data/Adaptive/emerson2017/P00068.tsv'</li><li>'/cluster/projects/pughlab/external_data/Adaptive/emerson2017/P00069.tsv'</li><li>'/cluster/projects/pughlab/external_data/Adaptive/emerson2017/P00070.tsv'</li><li>'/cluster/projects/pughlab/external_data/Adaptive/emerson2017/P00071.tsv'</li><li>'/cluster/projects/pughlab/external_data/Adaptive/emerson2017/P00072.tsv'</li><li>'/cluster/projects/pughlab/external_data/Adaptive/emerson2017/P00073.tsv'</li><li>'/cluster/projects/pughlab/external_data/Adaptive/emerson2017/P00074.tsv'</li><li>'/cluster/projects/pughlab/external_data/Adaptive/emerson2017/P00075.tsv'</li><li>'/cluster/projects/pughlab/external_data/Adaptive/emerson2017/P00076.tsv'</li><li>'/cluster/projects/pughlab/external_data/Adaptive/emerson2017/P00077.tsv'</li><li>'/cluster/projects/pughlab/external_data/Adaptive/emerson2017/P00078.tsv'</li><li>'/cluster/projects/pughlab/external_data/Adaptive/emerson2017/P00079.tsv'</li><li>'/cluster/projects/pughlab/external_data/Adaptive/emerson2017/P00080.tsv'</li><li>'/cluster/projects/pughlab/external_data/Adaptive/emerson2017/P00081.tsv'</li><li>'/cluster/projects/pughlab/external_data/Adaptive/emerson2017/P00083.tsv'</li><li>'/cluster/projects/pughlab/external_data/Adaptive/emerson2017/P00084.tsv'</li><li>'/cluster/projects/pughlab/external_data/Adaptive/emerson2017/P00085.tsv'</li><li>'/cluster/projects/pughlab/external_data/Adaptive/emerson2017/P00086.tsv'</li><li>'/cluster/projects/pughlab/external_data/Adaptive/emerson2017/P00087.tsv'</li><li>'/cluster/projects/pughlab/external_data/Adaptive/emerson2017/P00088.tsv'</li><li>'/cluster/projects/pughlab/external_data/Adaptive/emerson2017/P00089.tsv'</li><li>'/cluster/projects/pughlab/external_data/Adaptive/emerson2017/P00090.tsv'</li><li>'/cluster/projects/pughlab/external_data/Adaptive/emerson2017/P00091.tsv'</li><li>'/cluster/projects/pughlab/external_data/Adaptive/emerson2017/P00092.tsv'</li><li>'/cluster/projects/pughlab/external_data/Adaptive/emerson2017/P00093.tsv'</li><li>'/cluster/projects/pughlab/external_data/Adaptive/emerson2017/P00094.tsv'</li><li>'/cluster/projects/pughlab/external_data/Adaptive/emerson2017/P00095.tsv'</li><li>'/cluster/projects/pughlab/external_data/Adaptive/emerson2017/P00096.tsv'</li><li>'/cluster/projects/pughlab/external_data/Adaptive/emerson2017/P00097.tsv'</li><li>'/cluster/projects/pughlab/external_data/Adaptive/emerson2017/P00098.tsv'</li><li>'/cluster/projects/pughlab/external_data/Adaptive/emerson2017/P00099.tsv'</li><li>'/cluster/projects/pughlab/external_data/Adaptive/emerson2017/P00100.tsv'</li><li>'/cluster/projects/pughlab/external_data/Adaptive/emerson2017/P00101.tsv'</li><li>'/cluster/projects/pughlab/external_data/Adaptive/emerson2017/P00102.tsv'</li><li>'/cluster/projects/pughlab/external_data/Adaptive/emerson2017/P00103.tsv'</li><li>'/cluster/projects/pughlab/external_data/Adaptive/emerson2017/P00104.tsv'</li><li>'/cluster/projects/pughlab/external_data/Adaptive/emerson2017/P00105.tsv'</li><li>'/cluster/projects/pughlab/external_data/Adaptive/emerson2017/P00106.tsv'</li><li>'/cluster/projects/pughlab/external_data/Adaptive/emerson2017/P00107.tsv'</li><li>'/cluster/projects/pughlab/external_data/Adaptive/emerson2017/P00108.tsv'</li><li>'/cluster/projects/pughlab/external_data/Adaptive/emerson2017/P00109.tsv'</li><li>'/cluster/projects/pughlab/external_data/Adaptive/emerson2017/P00110.tsv'</li><li>'/cluster/projects/pughlab/external_data/Adaptive/emerson2017/P00111.tsv'</li><li>'/cluster/projects/pughlab/external_data/Adaptive/emerson2017/P00112.tsv'</li><li>'/cluster/projects/pughlab/external_data/Adaptive/emerson2017/P00113.tsv'</li><li>'/cluster/projects/pughlab/external_data/Adaptive/emerson2017/P00114.tsv'</li><li>'/cluster/projects/pughlab/external_data/Adaptive/emerson2017/P00115.tsv'</li><li>'/cluster/projects/pughlab/external_data/Adaptive/emerson2017/P00116.tsv'</li><li>'/cluster/projects/pughlab/external_data/Adaptive/emerson2017/P00117.tsv'</li><li>'/cluster/projects/pughlab/external_data/Adaptive/emerson2017/P00118.tsv'</li><li>'/cluster/projects/pughlab/external_data/Adaptive/emerson2017/P00119.tsv'</li><li>'/cluster/projects/pughlab/external_data/Adaptive/emerson2017/P00120.tsv'</li><li>'/cluster/projects/pughlab/external_data/Adaptive/emerson2017/P00121.tsv'</li><li>'/cluster/projects/pughlab/external_data/Adaptive/emerson2017/P00122.tsv'</li><li>'/cluster/projects/pughlab/external_data/Adaptive/emerson2017/P00123.tsv'</li><li>'/cluster/projects/pughlab/external_data/Adaptive/emerson2017/P00124.tsv'</li><li>'/cluster/projects/pughlab/external_data/Adaptive/emerson2017/P00125.tsv'</li><li>'/cluster/projects/pughlab/external_data/Adaptive/emerson2017/P00126.tsv'</li><li>'/cluster/projects/pughlab/external_data/Adaptive/emerson2017/P00127.tsv'</li><li>'/cluster/projects/pughlab/external_data/Adaptive/emerson2017/P00128.tsv'</li><li>'/cluster/projects/pughlab/external_data/Adaptive/emerson2017/P00129.tsv'</li><li>'/cluster/projects/pughlab/external_data/Adaptive/emerson2017/P00130.tsv'</li><li>'/cluster/projects/pughlab/external_data/Adaptive/emerson2017/P00131.tsv'</li><li>'/cluster/projects/pughlab/external_data/Adaptive/emerson2017/P00132.tsv'</li><li>'/cluster/projects/pughlab/external_data/Adaptive/emerson2017/P00133.tsv'</li><li>'/cluster/projects/pughlab/external_data/Adaptive/emerson2017/P00134.tsv'</li><li>'/cluster/projects/pughlab/external_data/Adaptive/emerson2017/P00135.tsv'</li><li>'/cluster/projects/pughlab/external_data/Adaptive/emerson2017/P00136.tsv'</li><li>'/cluster/projects/pughlab/external_data/Adaptive/emerson2017/P00137.tsv'</li><li>'/cluster/projects/pughlab/external_data/Adaptive/emerson2017/P00138.tsv'</li><li>'/cluster/projects/pughlab/external_data/Adaptive/emerson2017/P00139.tsv'</li><li>'/cluster/projects/pughlab/external_data/Adaptive/emerson2017/P00140.tsv'</li><li>'/cluster/projects/pughlab/external_data/Adaptive/emerson2017/P00141.tsv'</li><li>'/cluster/projects/pughlab/external_data/Adaptive/emerson2017/P00142.tsv'</li><li>'/cluster/projects/pughlab/external_data/Adaptive/emerson2017/P00143.tsv'</li><li>'/cluster/projects/pughlab/external_data/Adaptive/emerson2017/P00144.tsv'</li><li>'/cluster/projects/pughlab/external_data/Adaptive/emerson2017/P00145.tsv'</li><li>'/cluster/projects/pughlab/external_data/Adaptive/emerson2017/P00146.tsv'</li><li>'/cluster/projects/pughlab/external_data/Adaptive/emerson2017/P00147.tsv'</li><li>'/cluster/projects/pughlab/external_data/Adaptive/emerson2017/P00148.tsv'</li><li>'/cluster/projects/pughlab/external_data/Adaptive/emerson2017/P00149.tsv'</li><li>'/cluster/projects/pughlab/external_data/Adaptive/emerson2017/P00150.tsv'</li><li>'/cluster/projects/pughlab/external_data/Adaptive/emerson2017/P00151.tsv'</li><li>'/cluster/projects/pughlab/external_data/Adaptive/emerson2017/P00152.tsv'</li><li>'/cluster/projects/pughlab/external_data/Adaptive/emerson2017/P00153.tsv'</li><li>'/cluster/projects/pughlab/external_data/Adaptive/emerson2017/P00154.tsv'</li><li>'/cluster/projects/pughlab/external_data/Adaptive/emerson2017/P00155.tsv'</li><li>'/cluster/projects/pughlab/external_data/Adaptive/emerson2017/P00156.tsv'</li><li>'/cluster/projects/pughlab/external_data/Adaptive/emerson2017/P00157.tsv'</li><li>'/cluster/projects/pughlab/external_data/Adaptive/emerson2017/P00158.tsv'</li><li>'/cluster/projects/pughlab/external_data/Adaptive/emerson2017/P00159.tsv'</li><li>'/cluster/projects/pughlab/external_data/Adaptive/emerson2017/P00160.tsv'</li><li>'/cluster/projects/pughlab/external_data/Adaptive/emerson2017/P00161.tsv'</li><li>'/cluster/projects/pughlab/external_data/Adaptive/emerson2017/P00162.tsv'</li><li>'/cluster/projects/pughlab/external_data/Adaptive/emerson2017/P00163.tsv'</li><li>'/cluster/projects/pughlab/external_data/Adaptive/emerson2017/P00164.tsv'</li><li>'/cluster/projects/pughlab/external_data/Adaptive/emerson2017/P00165.tsv'</li><li>'/cluster/projects/pughlab/external_data/Adaptive/emerson2017/P00166.tsv'</li><li>'/cluster/projects/pughlab/external_data/Adaptive/emerson2017/P00167.tsv'</li><li>'/cluster/projects/pughlab/external_data/Adaptive/emerson2017/P00168.tsv'</li><li>'/cluster/projects/pughlab/external_data/Adaptive/emerson2017/P00169.tsv'</li><li>'/cluster/projects/pughlab/external_data/Adaptive/emerson2017/P00170.tsv'</li><li>'/cluster/projects/pughlab/external_data/Adaptive/emerson2017/P00171.tsv'</li><li>'/cluster/projects/pughlab/external_data/Adaptive/emerson2017/P00172.tsv'</li><li>'/cluster/projects/pughlab/external_data/Adaptive/emerson2017/P00173.tsv'</li><li>'/cluster/projects/pughlab/external_data/Adaptive/emerson2017/P00174.tsv'</li><li>'/cluster/projects/pughlab/external_data/Adaptive/emerson2017/P00175.tsv'</li><li>'/cluster/projects/pughlab/external_data/Adaptive/emerson2017/P00176.tsv'</li><li>'/cluster/projects/pughlab/external_data/Adaptive/emerson2017/P00177.tsv'</li><li>'/cluster/projects/pughlab/external_data/Adaptive/emerson2017/P00178.tsv'</li><li>'/cluster/projects/pughlab/external_data/Adaptive/emerson2017/P00179.tsv'</li><li>'/cluster/projects/pughlab/external_data/Adaptive/emerson2017/P00180.tsv'</li><li>'/cluster/projects/pughlab/external_data/Adaptive/emerson2017/P00181.tsv'</li><li>'/cluster/projects/pughlab/external_data/Adaptive/emerson2017/P00182.tsv'</li><li>'/cluster/projects/pughlab/external_data/Adaptive/emerson2017/P00183.tsv'</li><li>'/cluster/projects/pughlab/external_data/Adaptive/emerson2017/P00184.tsv'</li><li>'/cluster/projects/pughlab/external_data/Adaptive/emerson2017/P00185.tsv'</li><li>'/cluster/projects/pughlab/external_data/Adaptive/emerson2017/P00186.tsv'</li><li>'/cluster/projects/pughlab/external_data/Adaptive/emerson2017/P00187.tsv'</li><li>'/cluster/projects/pughlab/external_data/Adaptive/emerson2017/P00188.tsv'</li><li>'/cluster/projects/pughlab/external_data/Adaptive/emerson2017/P00189.tsv'</li><li>'/cluster/projects/pughlab/external_data/Adaptive/emerson2017/P00190.tsv'</li><li>'/cluster/projects/pughlab/external_data/Adaptive/emerson2017/P00191.tsv'</li><li>'/cluster/projects/pughlab/external_data/Adaptive/emerson2017/P00192.tsv'</li><li>'/cluster/projects/pughlab/external_data/Adaptive/emerson2017/P00193.tsv'</li><li>'/cluster/projects/pughlab/external_data/Adaptive/emerson2017/P00194.tsv'</li><li>'/cluster/projects/pughlab/external_data/Adaptive/emerson2017/P00195.tsv'</li><li>'/cluster/projects/pughlab/external_data/Adaptive/emerson2017/P00196.tsv'</li><li>'/cluster/projects/pughlab/external_data/Adaptive/emerson2017/P00197.tsv'</li><li>'/cluster/projects/pughlab/external_data/Adaptive/emerson2017/P00198.tsv'</li><li>'/cluster/projects/pughlab/external_data/Adaptive/emerson2017/P00199.tsv'</li><li>'/cluster/projects/pughlab/external_data/Adaptive/emerson2017/P00200.tsv'</li><li>'/cluster/projects/pughlab/external_data/Adaptive/emerson2017/P00201.tsv'</li><li>⋯</li><li>'/cluster/projects/pughlab/external_data/Adaptive/emerson2017/P00468.tsv'</li><li>'/cluster/projects/pughlab/external_data/Adaptive/emerson2017/P00469.tsv'</li><li>'/cluster/projects/pughlab/external_data/Adaptive/emerson2017/P00470.tsv'</li><li>'/cluster/projects/pughlab/external_data/Adaptive/emerson2017/P00471.tsv'</li><li>'/cluster/projects/pughlab/external_data/Adaptive/emerson2017/P00472.tsv'</li><li>'/cluster/projects/pughlab/external_data/Adaptive/emerson2017/P00473.tsv'</li><li>'/cluster/projects/pughlab/external_data/Adaptive/emerson2017/P00474.tsv'</li><li>'/cluster/projects/pughlab/external_data/Adaptive/emerson2017/P00475.tsv'</li><li>'/cluster/projects/pughlab/external_data/Adaptive/emerson2017/P00476.tsv'</li><li>'/cluster/projects/pughlab/external_data/Adaptive/emerson2017/P00477.tsv'</li><li>'/cluster/projects/pughlab/external_data/Adaptive/emerson2017/P00478.tsv'</li><li>'/cluster/projects/pughlab/external_data/Adaptive/emerson2017/P00479.tsv'</li><li>'/cluster/projects/pughlab/external_data/Adaptive/emerson2017/P00480.tsv'</li><li>'/cluster/projects/pughlab/external_data/Adaptive/emerson2017/P00481.tsv'</li><li>'/cluster/projects/pughlab/external_data/Adaptive/emerson2017/P00482.tsv'</li><li>'/cluster/projects/pughlab/external_data/Adaptive/emerson2017/P00483.tsv'</li><li>'/cluster/projects/pughlab/external_data/Adaptive/emerson2017/P00484.tsv'</li><li>'/cluster/projects/pughlab/external_data/Adaptive/emerson2017/P00485.tsv'</li><li>'/cluster/projects/pughlab/external_data/Adaptive/emerson2017/P00486.tsv'</li><li>'/cluster/projects/pughlab/external_data/Adaptive/emerson2017/P00487.tsv'</li><li>'/cluster/projects/pughlab/external_data/Adaptive/emerson2017/P00488.tsv'</li><li>'/cluster/projects/pughlab/external_data/Adaptive/emerson2017/P00489.tsv'</li><li>'/cluster/projects/pughlab/external_data/Adaptive/emerson2017/P00490.tsv'</li><li>'/cluster/projects/pughlab/external_data/Adaptive/emerson2017/P00491.tsv'</li><li>'/cluster/projects/pughlab/external_data/Adaptive/emerson2017/P00492.tsv'</li><li>'/cluster/projects/pughlab/external_data/Adaptive/emerson2017/P00493.tsv'</li><li>'/cluster/projects/pughlab/external_data/Adaptive/emerson2017/P00494.tsv'</li><li>'/cluster/projects/pughlab/external_data/Adaptive/emerson2017/P00495.tsv'</li><li>'/cluster/projects/pughlab/external_data/Adaptive/emerson2017/P00496.tsv'</li><li>'/cluster/projects/pughlab/external_data/Adaptive/emerson2017/P00497.tsv'</li><li>'/cluster/projects/pughlab/external_data/Adaptive/emerson2017/P00498.tsv'</li><li>'/cluster/projects/pughlab/external_data/Adaptive/emerson2017/P00499.tsv'</li><li>'/cluster/projects/pughlab/external_data/Adaptive/emerson2017/P00500.tsv'</li><li>'/cluster/projects/pughlab/external_data/Adaptive/emerson2017/P00501.tsv'</li><li>'/cluster/projects/pughlab/external_data/Adaptive/emerson2017/P00502.tsv'</li><li>'/cluster/projects/pughlab/external_data/Adaptive/emerson2017/P00503.tsv'</li><li>'/cluster/projects/pughlab/external_data/Adaptive/emerson2017/P00504.tsv'</li><li>'/cluster/projects/pughlab/external_data/Adaptive/emerson2017/P00505.tsv'</li><li>'/cluster/projects/pughlab/external_data/Adaptive/emerson2017/P00506.tsv'</li><li>'/cluster/projects/pughlab/external_data/Adaptive/emerson2017/P00507.tsv'</li><li>'/cluster/projects/pughlab/external_data/Adaptive/emerson2017/P00508.tsv'</li><li>'/cluster/projects/pughlab/external_data/Adaptive/emerson2017/P00509.tsv'</li><li>'/cluster/projects/pughlab/external_data/Adaptive/emerson2017/P00510.tsv'</li><li>'/cluster/projects/pughlab/external_data/Adaptive/emerson2017/P00511.tsv'</li><li>'/cluster/projects/pughlab/external_data/Adaptive/emerson2017/P00512.tsv'</li><li>'/cluster/projects/pughlab/external_data/Adaptive/emerson2017/P00513.tsv'</li><li>'/cluster/projects/pughlab/external_data/Adaptive/emerson2017/P00514.tsv'</li><li>'/cluster/projects/pughlab/external_data/Adaptive/emerson2017/P00515.tsv'</li><li>'/cluster/projects/pughlab/external_data/Adaptive/emerson2017/P00516.tsv'</li><li>'/cluster/projects/pughlab/external_data/Adaptive/emerson2017/P00517.tsv'</li><li>'/cluster/projects/pughlab/external_data/Adaptive/emerson2017/P00518.tsv'</li><li>'/cluster/projects/pughlab/external_data/Adaptive/emerson2017/P00519.tsv'</li><li>'/cluster/projects/pughlab/external_data/Adaptive/emerson2017/P00520.tsv'</li><li>'/cluster/projects/pughlab/external_data/Adaptive/emerson2017/P00521.tsv'</li><li>'/cluster/projects/pughlab/external_data/Adaptive/emerson2017/P00522.tsv'</li><li>'/cluster/projects/pughlab/external_data/Adaptive/emerson2017/P00523.tsv'</li><li>'/cluster/projects/pughlab/external_data/Adaptive/emerson2017/P00524.tsv'</li><li>'/cluster/projects/pughlab/external_data/Adaptive/emerson2017/P00525.tsv'</li><li>'/cluster/projects/pughlab/external_data/Adaptive/emerson2017/P00526.tsv'</li><li>'/cluster/projects/pughlab/external_data/Adaptive/emerson2017/P00527.tsv'</li><li>'/cluster/projects/pughlab/external_data/Adaptive/emerson2017/P00528.tsv'</li><li>'/cluster/projects/pughlab/external_data/Adaptive/emerson2017/P00529.tsv'</li><li>'/cluster/projects/pughlab/external_data/Adaptive/emerson2017/P00530.tsv'</li><li>'/cluster/projects/pughlab/external_data/Adaptive/emerson2017/P00531.tsv'</li><li>'/cluster/projects/pughlab/external_data/Adaptive/emerson2017/P00532.tsv'</li><li>'/cluster/projects/pughlab/external_data/Adaptive/emerson2017/P00533.tsv'</li><li>'/cluster/projects/pughlab/external_data/Adaptive/emerson2017/P00534.tsv'</li><li>'/cluster/projects/pughlab/external_data/Adaptive/emerson2017/P00535.tsv'</li><li>'/cluster/projects/pughlab/external_data/Adaptive/emerson2017/P00536.tsv'</li><li>'/cluster/projects/pughlab/external_data/Adaptive/emerson2017/P00537.tsv'</li><li>'/cluster/projects/pughlab/external_data/Adaptive/emerson2017/P00538.tsv'</li><li>'/cluster/projects/pughlab/external_data/Adaptive/emerson2017/P00539.tsv'</li><li>'/cluster/projects/pughlab/external_data/Adaptive/emerson2017/P00540.tsv'</li><li>'/cluster/projects/pughlab/external_data/Adaptive/emerson2017/P00541.tsv'</li><li>'/cluster/projects/pughlab/external_data/Adaptive/emerson2017/P00542.tsv'</li><li>'/cluster/projects/pughlab/external_data/Adaptive/emerson2017/P00543.tsv'</li><li>'/cluster/projects/pughlab/external_data/Adaptive/emerson2017/P00544.tsv'</li><li>'/cluster/projects/pughlab/external_data/Adaptive/emerson2017/P00545.tsv'</li><li>'/cluster/projects/pughlab/external_data/Adaptive/emerson2017/P00546.tsv'</li><li>'/cluster/projects/pughlab/external_data/Adaptive/emerson2017/P00547.tsv'</li><li>'/cluster/projects/pughlab/external_data/Adaptive/emerson2017/P00548.tsv'</li><li>'/cluster/projects/pughlab/external_data/Adaptive/emerson2017/P00549.tsv'</li><li>'/cluster/projects/pughlab/external_data/Adaptive/emerson2017/P00550.tsv'</li><li>'/cluster/projects/pughlab/external_data/Adaptive/emerson2017/P00551.tsv'</li><li>'/cluster/projects/pughlab/external_data/Adaptive/emerson2017/P00552.tsv'</li><li>'/cluster/projects/pughlab/external_data/Adaptive/emerson2017/P00553.tsv'</li><li>'/cluster/projects/pughlab/external_data/Adaptive/emerson2017/P00554.tsv'</li><li>'/cluster/projects/pughlab/external_data/Adaptive/emerson2017/P00555.tsv'</li><li>'/cluster/projects/pughlab/external_data/Adaptive/emerson2017/P00556.tsv'</li><li>'/cluster/projects/pughlab/external_data/Adaptive/emerson2017/P00557.tsv'</li><li>'/cluster/projects/pughlab/external_data/Adaptive/emerson2017/P00558.tsv'</li><li>'/cluster/projects/pughlab/external_data/Adaptive/emerson2017/P00559.tsv'</li><li>'/cluster/projects/pughlab/external_data/Adaptive/emerson2017/P00560.tsv'</li><li>'/cluster/projects/pughlab/external_data/Adaptive/emerson2017/P00561.tsv'</li><li>'/cluster/projects/pughlab/external_data/Adaptive/emerson2017/P00562.tsv'</li><li>'/cluster/projects/pughlab/external_data/Adaptive/emerson2017/P00563.tsv'</li><li>'/cluster/projects/pughlab/external_data/Adaptive/emerson2017/P00564.tsv'</li><li>'/cluster/projects/pughlab/external_data/Adaptive/emerson2017/P00565.tsv'</li><li>'/cluster/projects/pughlab/external_data/Adaptive/emerson2017/P00566.tsv'</li><li>'/cluster/projects/pughlab/external_data/Adaptive/emerson2017/P00567.tsv'</li><li>'/cluster/projects/pughlab/external_data/Adaptive/emerson2017/P00568.tsv'</li><li>'/cluster/projects/pughlab/external_data/Adaptive/emerson2017/P00569.tsv'</li><li>'/cluster/projects/pughlab/external_data/Adaptive/emerson2017/P00570.tsv'</li><li>'/cluster/projects/pughlab/external_data/Adaptive/emerson2017/P00571.tsv'</li><li>'/cluster/projects/pughlab/external_data/Adaptive/emerson2017/P00572.tsv'</li><li>'/cluster/projects/pughlab/external_data/Adaptive/emerson2017/P00573.tsv'</li><li>'/cluster/projects/pughlab/external_data/Adaptive/emerson2017/P00574.tsv'</li><li>'/cluster/projects/pughlab/external_data/Adaptive/emerson2017/P00575.tsv'</li><li>'/cluster/projects/pughlab/external_data/Adaptive/emerson2017/P00576.tsv'</li><li>'/cluster/projects/pughlab/external_data/Adaptive/emerson2017/P00577.tsv'</li><li>'/cluster/projects/pughlab/external_data/Adaptive/emerson2017/P00578.tsv'</li><li>'/cluster/projects/pughlab/external_data/Adaptive/emerson2017/P00579.tsv'</li><li>'/cluster/projects/pughlab/external_data/Adaptive/emerson2017/P00580.tsv'</li><li>'/cluster/projects/pughlab/external_data/Adaptive/emerson2017/P00581.tsv'</li><li>'/cluster/projects/pughlab/external_data/Adaptive/emerson2017/P00582.tsv'</li><li>'/cluster/projects/pughlab/external_data/Adaptive/emerson2017/P00583.tsv'</li><li>'/cluster/projects/pughlab/external_data/Adaptive/emerson2017/P00584.tsv'</li><li>'/cluster/projects/pughlab/external_data/Adaptive/emerson2017/P00585.tsv'</li><li>'/cluster/projects/pughlab/external_data/Adaptive/emerson2017/P00586.tsv'</li><li>'/cluster/projects/pughlab/external_data/Adaptive/emerson2017/P00587.tsv'</li><li>'/cluster/projects/pughlab/external_data/Adaptive/emerson2017/P00588.tsv'</li><li>'/cluster/projects/pughlab/external_data/Adaptive/emerson2017/P00589.tsv'</li><li>'/cluster/projects/pughlab/external_data/Adaptive/emerson2017/P00590.tsv'</li><li>'/cluster/projects/pughlab/external_data/Adaptive/emerson2017/P00591.tsv'</li><li>'/cluster/projects/pughlab/external_data/Adaptive/emerson2017/P00592.tsv'</li><li>'/cluster/projects/pughlab/external_data/Adaptive/emerson2017/P00593.tsv'</li><li>'/cluster/projects/pughlab/external_data/Adaptive/emerson2017/P00594.tsv'</li><li>'/cluster/projects/pughlab/external_data/Adaptive/emerson2017/P00595.tsv'</li><li>'/cluster/projects/pughlab/external_data/Adaptive/emerson2017/P00596.tsv'</li><li>'/cluster/projects/pughlab/external_data/Adaptive/emerson2017/P00597.tsv'</li><li>'/cluster/projects/pughlab/external_data/Adaptive/emerson2017/P00598.tsv'</li><li>'/cluster/projects/pughlab/external_data/Adaptive/emerson2017/P00599.tsv'</li><li>'/cluster/projects/pughlab/external_data/Adaptive/emerson2017/P00600.tsv'</li><li>'/cluster/projects/pughlab/external_data/Adaptive/emerson2017/P00601.tsv'</li><li>'/cluster/projects/pughlab/external_data/Adaptive/emerson2017/P00602.tsv'</li><li>'/cluster/projects/pughlab/external_data/Adaptive/emerson2017/P00603.tsv'</li><li>'/cluster/projects/pughlab/external_data/Adaptive/emerson2017/P00604.tsv'</li><li>'/cluster/projects/pughlab/external_data/Adaptive/emerson2017/P00605.tsv'</li><li>'/cluster/projects/pughlab/external_data/Adaptive/emerson2017/P00606.tsv'</li><li>'/cluster/projects/pughlab/external_data/Adaptive/emerson2017/P00607.tsv'</li><li>'/cluster/projects/pughlab/external_data/Adaptive/emerson2017/P00608.tsv'</li><li>'/cluster/projects/pughlab/external_data/Adaptive/emerson2017/P00609.tsv'</li><li>'/cluster/projects/pughlab/external_data/Adaptive/emerson2017/P00610.tsv'</li><li>'/cluster/projects/pughlab/external_data/Adaptive/emerson2017/P00611.tsv'</li><li>'/cluster/projects/pughlab/external_data/Adaptive/emerson2017/P00612.tsv'</li><li>'/cluster/projects/pughlab/external_data/Adaptive/emerson2017/P00613.tsv'</li><li>'/cluster/projects/pughlab/external_data/Adaptive/emerson2017/P00614.tsv'</li><li>'/cluster/projects/pughlab/external_data/Adaptive/emerson2017/P00615.tsv'</li><li>'/cluster/projects/pughlab/external_data/Adaptive/emerson2017/P00616.tsv'</li><li>'/cluster/projects/pughlab/external_data/Adaptive/emerson2017/P00617.tsv'</li><li>'/cluster/projects/pughlab/external_data/Adaptive/emerson2017/P00618.tsv'</li><li>'/cluster/projects/pughlab/external_data/Adaptive/emerson2017/P00619.tsv'</li><li>'/cluster/projects/pughlab/external_data/Adaptive/emerson2017/P00620.tsv'</li><li>'/cluster/projects/pughlab/external_data/Adaptive/emerson2017/P00621.tsv'</li><li>'/cluster/projects/pughlab/external_data/Adaptive/emerson2017/P00622.tsv'</li><li>'/cluster/projects/pughlab/external_data/Adaptive/emerson2017/P00623.tsv'</li><li>'/cluster/projects/pughlab/external_data/Adaptive/emerson2017/P00624.tsv'</li><li>'/cluster/projects/pughlab/external_data/Adaptive/emerson2017/P00625.tsv'</li><li>'/cluster/projects/pughlab/external_data/Adaptive/emerson2017/P00626.tsv'</li><li>'/cluster/projects/pughlab/external_data/Adaptive/emerson2017/P00627.tsv'</li><li>'/cluster/projects/pughlab/external_data/Adaptive/emerson2017/P00628.tsv'</li><li>'/cluster/projects/pughlab/external_data/Adaptive/emerson2017/P00629.tsv'</li><li>'/cluster/projects/pughlab/external_data/Adaptive/emerson2017/P00630.tsv'</li><li>'/cluster/projects/pughlab/external_data/Adaptive/emerson2017/P00631.tsv'</li><li>'/cluster/projects/pughlab/external_data/Adaptive/emerson2017/P00632.tsv'</li><li>'/cluster/projects/pughlab/external_data/Adaptive/emerson2017/P00633.tsv'</li><li>'/cluster/projects/pughlab/external_data/Adaptive/emerson2017/P00634.tsv'</li><li>'/cluster/projects/pughlab/external_data/Adaptive/emerson2017/P00635.tsv'</li><li>'/cluster/projects/pughlab/external_data/Adaptive/emerson2017/P00636.tsv'</li><li>'/cluster/projects/pughlab/external_data/Adaptive/emerson2017/P00637.tsv'</li><li>'/cluster/projects/pughlab/external_data/Adaptive/emerson2017/P00638.tsv'</li><li>'/cluster/projects/pughlab/external_data/Adaptive/emerson2017/P00639.tsv'</li><li>'/cluster/projects/pughlab/external_data/Adaptive/emerson2017/P00640.tsv'</li><li>'/cluster/projects/pughlab/external_data/Adaptive/emerson2017/P00641.tsv'</li><li>'/cluster/projects/pughlab/external_data/Adaptive/emerson2017/P00642.tsv'</li><li>'/cluster/projects/pughlab/external_data/Adaptive/emerson2017/P00643.tsv'</li><li>'/cluster/projects/pughlab/external_data/Adaptive/emerson2017/P00644.tsv'</li><li>'/cluster/projects/pughlab/external_data/Adaptive/emerson2017/P00645.tsv'</li><li>'/cluster/projects/pughlab/external_data/Adaptive/emerson2017/P00646.tsv'</li><li>'/cluster/projects/pughlab/external_data/Adaptive/emerson2017/P00647.tsv'</li><li>'/cluster/projects/pughlab/external_data/Adaptive/emerson2017/P00648.tsv'</li><li>'/cluster/projects/pughlab/external_data/Adaptive/emerson2017/P00649.tsv'</li><li>'/cluster/projects/pughlab/external_data/Adaptive/emerson2017/P00650.tsv'</li><li>'/cluster/projects/pughlab/external_data/Adaptive/emerson2017/P00651.tsv'</li><li>'/cluster/projects/pughlab/external_data/Adaptive/emerson2017/P00652.tsv'</li><li>'/cluster/projects/pughlab/external_data/Adaptive/emerson2017/P00653.tsv'</li><li>'/cluster/projects/pughlab/external_data/Adaptive/emerson2017/P00654.tsv'</li><li>'/cluster/projects/pughlab/external_data/Adaptive/emerson2017/P00655.tsv'</li><li>'/cluster/projects/pughlab/external_data/Adaptive/emerson2017/P00656.tsv'</li><li>'/cluster/projects/pughlab/external_data/Adaptive/emerson2017/P00657.tsv'</li><li>'/cluster/projects/pughlab/external_data/Adaptive/emerson2017/P00658.tsv'</li><li>'/cluster/projects/pughlab/external_data/Adaptive/emerson2017/P00659.tsv'</li><li>'/cluster/projects/pughlab/external_data/Adaptive/emerson2017/P00660.tsv'</li><li>'/cluster/projects/pughlab/external_data/Adaptive/emerson2017/P00661.tsv'</li><li>'/cluster/projects/pughlab/external_data/Adaptive/emerson2017/P00662.tsv'</li><li>'/cluster/projects/pughlab/external_data/Adaptive/emerson2017/P00663.tsv'</li><li>'/cluster/projects/pughlab/external_data/Adaptive/emerson2017/P00665.tsv'</li><li>'/cluster/projects/pughlab/external_data/Adaptive/emerson2017/P00666.tsv'</li><li>'/cluster/projects/pughlab/external_data/Adaptive/emerson2017/P00667.tsv'</li><li>'/cluster/projects/pughlab/external_data/Adaptive/emerson2017/P00668.tsv'</li></ol>\n"
      ],
      "text/latex": [
       "\\begin{enumerate*}\n",
       "\\item '/cluster/projects/pughlab/external\\_data/Adaptive/emerson2017/P00001.tsv'\n",
       "\\item '/cluster/projects/pughlab/external\\_data/Adaptive/emerson2017/P00002.tsv'\n",
       "\\item '/cluster/projects/pughlab/external\\_data/Adaptive/emerson2017/P00003.tsv'\n",
       "\\item '/cluster/projects/pughlab/external\\_data/Adaptive/emerson2017/P00004.tsv'\n",
       "\\item '/cluster/projects/pughlab/external\\_data/Adaptive/emerson2017/P00005.tsv'\n",
       "\\item '/cluster/projects/pughlab/external\\_data/Adaptive/emerson2017/P00006.tsv'\n",
       "\\item '/cluster/projects/pughlab/external\\_data/Adaptive/emerson2017/P00007.tsv'\n",
       "\\item '/cluster/projects/pughlab/external\\_data/Adaptive/emerson2017/P00008.tsv'\n",
       "\\item '/cluster/projects/pughlab/external\\_data/Adaptive/emerson2017/P00009.tsv'\n",
       "\\item '/cluster/projects/pughlab/external\\_data/Adaptive/emerson2017/P00010.tsv'\n",
       "\\item '/cluster/projects/pughlab/external\\_data/Adaptive/emerson2017/P00011.tsv'\n",
       "\\item '/cluster/projects/pughlab/external\\_data/Adaptive/emerson2017/P00012.tsv'\n",
       "\\item '/cluster/projects/pughlab/external\\_data/Adaptive/emerson2017/P00013.tsv'\n",
       "\\item '/cluster/projects/pughlab/external\\_data/Adaptive/emerson2017/P00014.tsv'\n",
       "\\item '/cluster/projects/pughlab/external\\_data/Adaptive/emerson2017/P00015.tsv'\n",
       "\\item '/cluster/projects/pughlab/external\\_data/Adaptive/emerson2017/P00016.tsv'\n",
       "\\item '/cluster/projects/pughlab/external\\_data/Adaptive/emerson2017/P00017.tsv'\n",
       "\\item '/cluster/projects/pughlab/external\\_data/Adaptive/emerson2017/P00018.tsv'\n",
       "\\item '/cluster/projects/pughlab/external\\_data/Adaptive/emerson2017/P00019.tsv'\n",
       "\\item '/cluster/projects/pughlab/external\\_data/Adaptive/emerson2017/P00020.tsv'\n",
       "\\item '/cluster/projects/pughlab/external\\_data/Adaptive/emerson2017/P00021.tsv'\n",
       "\\item '/cluster/projects/pughlab/external\\_data/Adaptive/emerson2017/P00022.tsv'\n",
       "\\item '/cluster/projects/pughlab/external\\_data/Adaptive/emerson2017/P00023.tsv'\n",
       "\\item '/cluster/projects/pughlab/external\\_data/Adaptive/emerson2017/P00024.tsv'\n",
       "\\item '/cluster/projects/pughlab/external\\_data/Adaptive/emerson2017/P00025.tsv'\n",
       "\\item '/cluster/projects/pughlab/external\\_data/Adaptive/emerson2017/P00026.tsv'\n",
       "\\item '/cluster/projects/pughlab/external\\_data/Adaptive/emerson2017/P00027.tsv'\n",
       "\\item '/cluster/projects/pughlab/external\\_data/Adaptive/emerson2017/P00028.tsv'\n",
       "\\item '/cluster/projects/pughlab/external\\_data/Adaptive/emerson2017/P00029.tsv'\n",
       "\\item '/cluster/projects/pughlab/external\\_data/Adaptive/emerson2017/P00030.tsv'\n",
       "\\item '/cluster/projects/pughlab/external\\_data/Adaptive/emerson2017/P00031.tsv'\n",
       "\\item '/cluster/projects/pughlab/external\\_data/Adaptive/emerson2017/P00032.tsv'\n",
       "\\item '/cluster/projects/pughlab/external\\_data/Adaptive/emerson2017/P00033.tsv'\n",
       "\\item '/cluster/projects/pughlab/external\\_data/Adaptive/emerson2017/P00034.tsv'\n",
       "\\item '/cluster/projects/pughlab/external\\_data/Adaptive/emerson2017/P00035.tsv'\n",
       "\\item '/cluster/projects/pughlab/external\\_data/Adaptive/emerson2017/P00036.tsv'\n",
       "\\item '/cluster/projects/pughlab/external\\_data/Adaptive/emerson2017/P00037.tsv'\n",
       "\\item '/cluster/projects/pughlab/external\\_data/Adaptive/emerson2017/P00038.tsv'\n",
       "\\item '/cluster/projects/pughlab/external\\_data/Adaptive/emerson2017/P00039.tsv'\n",
       "\\item '/cluster/projects/pughlab/external\\_data/Adaptive/emerson2017/P00040.tsv'\n",
       "\\item '/cluster/projects/pughlab/external\\_data/Adaptive/emerson2017/P00041.tsv'\n",
       "\\item '/cluster/projects/pughlab/external\\_data/Adaptive/emerson2017/P00042.tsv'\n",
       "\\item '/cluster/projects/pughlab/external\\_data/Adaptive/emerson2017/P00043.tsv'\n",
       "\\item '/cluster/projects/pughlab/external\\_data/Adaptive/emerson2017/P00044.tsv'\n",
       "\\item '/cluster/projects/pughlab/external\\_data/Adaptive/emerson2017/P00045.tsv'\n",
       "\\item '/cluster/projects/pughlab/external\\_data/Adaptive/emerson2017/P00046.tsv'\n",
       "\\item '/cluster/projects/pughlab/external\\_data/Adaptive/emerson2017/P00047.tsv'\n",
       "\\item '/cluster/projects/pughlab/external\\_data/Adaptive/emerson2017/P00048.tsv'\n",
       "\\item '/cluster/projects/pughlab/external\\_data/Adaptive/emerson2017/P00049.tsv'\n",
       "\\item '/cluster/projects/pughlab/external\\_data/Adaptive/emerson2017/P00050.tsv'\n",
       "\\item '/cluster/projects/pughlab/external\\_data/Adaptive/emerson2017/P00051.tsv'\n",
       "\\item '/cluster/projects/pughlab/external\\_data/Adaptive/emerson2017/P00052.tsv'\n",
       "\\item '/cluster/projects/pughlab/external\\_data/Adaptive/emerson2017/P00053.tsv'\n",
       "\\item '/cluster/projects/pughlab/external\\_data/Adaptive/emerson2017/P00054.tsv'\n",
       "\\item '/cluster/projects/pughlab/external\\_data/Adaptive/emerson2017/P00055.tsv'\n",
       "\\item '/cluster/projects/pughlab/external\\_data/Adaptive/emerson2017/P00056.tsv'\n",
       "\\item '/cluster/projects/pughlab/external\\_data/Adaptive/emerson2017/P00057.tsv'\n",
       "\\item '/cluster/projects/pughlab/external\\_data/Adaptive/emerson2017/P00058.tsv'\n",
       "\\item '/cluster/projects/pughlab/external\\_data/Adaptive/emerson2017/P00059.tsv'\n",
       "\\item '/cluster/projects/pughlab/external\\_data/Adaptive/emerson2017/P00060.tsv'\n",
       "\\item '/cluster/projects/pughlab/external\\_data/Adaptive/emerson2017/P00061.tsv'\n",
       "\\item '/cluster/projects/pughlab/external\\_data/Adaptive/emerson2017/P00062.tsv'\n",
       "\\item '/cluster/projects/pughlab/external\\_data/Adaptive/emerson2017/P00063.tsv'\n",
       "\\item '/cluster/projects/pughlab/external\\_data/Adaptive/emerson2017/P00064.tsv'\n",
       "\\item '/cluster/projects/pughlab/external\\_data/Adaptive/emerson2017/P00065.tsv'\n",
       "\\item '/cluster/projects/pughlab/external\\_data/Adaptive/emerson2017/P00066.tsv'\n",
       "\\item '/cluster/projects/pughlab/external\\_data/Adaptive/emerson2017/P00067.tsv'\n",
       "\\item '/cluster/projects/pughlab/external\\_data/Adaptive/emerson2017/P00068.tsv'\n",
       "\\item '/cluster/projects/pughlab/external\\_data/Adaptive/emerson2017/P00069.tsv'\n",
       "\\item '/cluster/projects/pughlab/external\\_data/Adaptive/emerson2017/P00070.tsv'\n",
       "\\item '/cluster/projects/pughlab/external\\_data/Adaptive/emerson2017/P00071.tsv'\n",
       "\\item '/cluster/projects/pughlab/external\\_data/Adaptive/emerson2017/P00072.tsv'\n",
       "\\item '/cluster/projects/pughlab/external\\_data/Adaptive/emerson2017/P00073.tsv'\n",
       "\\item '/cluster/projects/pughlab/external\\_data/Adaptive/emerson2017/P00074.tsv'\n",
       "\\item '/cluster/projects/pughlab/external\\_data/Adaptive/emerson2017/P00075.tsv'\n",
       "\\item '/cluster/projects/pughlab/external\\_data/Adaptive/emerson2017/P00076.tsv'\n",
       "\\item '/cluster/projects/pughlab/external\\_data/Adaptive/emerson2017/P00077.tsv'\n",
       "\\item '/cluster/projects/pughlab/external\\_data/Adaptive/emerson2017/P00078.tsv'\n",
       "\\item '/cluster/projects/pughlab/external\\_data/Adaptive/emerson2017/P00079.tsv'\n",
       "\\item '/cluster/projects/pughlab/external\\_data/Adaptive/emerson2017/P00080.tsv'\n",
       "\\item '/cluster/projects/pughlab/external\\_data/Adaptive/emerson2017/P00081.tsv'\n",
       "\\item '/cluster/projects/pughlab/external\\_data/Adaptive/emerson2017/P00083.tsv'\n",
       "\\item '/cluster/projects/pughlab/external\\_data/Adaptive/emerson2017/P00084.tsv'\n",
       "\\item '/cluster/projects/pughlab/external\\_data/Adaptive/emerson2017/P00085.tsv'\n",
       "\\item '/cluster/projects/pughlab/external\\_data/Adaptive/emerson2017/P00086.tsv'\n",
       "\\item '/cluster/projects/pughlab/external\\_data/Adaptive/emerson2017/P00087.tsv'\n",
       "\\item '/cluster/projects/pughlab/external\\_data/Adaptive/emerson2017/P00088.tsv'\n",
       "\\item '/cluster/projects/pughlab/external\\_data/Adaptive/emerson2017/P00089.tsv'\n",
       "\\item '/cluster/projects/pughlab/external\\_data/Adaptive/emerson2017/P00090.tsv'\n",
       "\\item '/cluster/projects/pughlab/external\\_data/Adaptive/emerson2017/P00091.tsv'\n",
       "\\item '/cluster/projects/pughlab/external\\_data/Adaptive/emerson2017/P00092.tsv'\n",
       "\\item '/cluster/projects/pughlab/external\\_data/Adaptive/emerson2017/P00093.tsv'\n",
       "\\item '/cluster/projects/pughlab/external\\_data/Adaptive/emerson2017/P00094.tsv'\n",
       "\\item '/cluster/projects/pughlab/external\\_data/Adaptive/emerson2017/P00095.tsv'\n",
       "\\item '/cluster/projects/pughlab/external\\_data/Adaptive/emerson2017/P00096.tsv'\n",
       "\\item '/cluster/projects/pughlab/external\\_data/Adaptive/emerson2017/P00097.tsv'\n",
       "\\item '/cluster/projects/pughlab/external\\_data/Adaptive/emerson2017/P00098.tsv'\n",
       "\\item '/cluster/projects/pughlab/external\\_data/Adaptive/emerson2017/P00099.tsv'\n",
       "\\item '/cluster/projects/pughlab/external\\_data/Adaptive/emerson2017/P00100.tsv'\n",
       "\\item '/cluster/projects/pughlab/external\\_data/Adaptive/emerson2017/P00101.tsv'\n",
       "\\item '/cluster/projects/pughlab/external\\_data/Adaptive/emerson2017/P00102.tsv'\n",
       "\\item '/cluster/projects/pughlab/external\\_data/Adaptive/emerson2017/P00103.tsv'\n",
       "\\item '/cluster/projects/pughlab/external\\_data/Adaptive/emerson2017/P00104.tsv'\n",
       "\\item '/cluster/projects/pughlab/external\\_data/Adaptive/emerson2017/P00105.tsv'\n",
       "\\item '/cluster/projects/pughlab/external\\_data/Adaptive/emerson2017/P00106.tsv'\n",
       "\\item '/cluster/projects/pughlab/external\\_data/Adaptive/emerson2017/P00107.tsv'\n",
       "\\item '/cluster/projects/pughlab/external\\_data/Adaptive/emerson2017/P00108.tsv'\n",
       "\\item '/cluster/projects/pughlab/external\\_data/Adaptive/emerson2017/P00109.tsv'\n",
       "\\item '/cluster/projects/pughlab/external\\_data/Adaptive/emerson2017/P00110.tsv'\n",
       "\\item '/cluster/projects/pughlab/external\\_data/Adaptive/emerson2017/P00111.tsv'\n",
       "\\item '/cluster/projects/pughlab/external\\_data/Adaptive/emerson2017/P00112.tsv'\n",
       "\\item '/cluster/projects/pughlab/external\\_data/Adaptive/emerson2017/P00113.tsv'\n",
       "\\item '/cluster/projects/pughlab/external\\_data/Adaptive/emerson2017/P00114.tsv'\n",
       "\\item '/cluster/projects/pughlab/external\\_data/Adaptive/emerson2017/P00115.tsv'\n",
       "\\item '/cluster/projects/pughlab/external\\_data/Adaptive/emerson2017/P00116.tsv'\n",
       "\\item '/cluster/projects/pughlab/external\\_data/Adaptive/emerson2017/P00117.tsv'\n",
       "\\item '/cluster/projects/pughlab/external\\_data/Adaptive/emerson2017/P00118.tsv'\n",
       "\\item '/cluster/projects/pughlab/external\\_data/Adaptive/emerson2017/P00119.tsv'\n",
       "\\item '/cluster/projects/pughlab/external\\_data/Adaptive/emerson2017/P00120.tsv'\n",
       "\\item '/cluster/projects/pughlab/external\\_data/Adaptive/emerson2017/P00121.tsv'\n",
       "\\item '/cluster/projects/pughlab/external\\_data/Adaptive/emerson2017/P00122.tsv'\n",
       "\\item '/cluster/projects/pughlab/external\\_data/Adaptive/emerson2017/P00123.tsv'\n",
       "\\item '/cluster/projects/pughlab/external\\_data/Adaptive/emerson2017/P00124.tsv'\n",
       "\\item '/cluster/projects/pughlab/external\\_data/Adaptive/emerson2017/P00125.tsv'\n",
       "\\item '/cluster/projects/pughlab/external\\_data/Adaptive/emerson2017/P00126.tsv'\n",
       "\\item '/cluster/projects/pughlab/external\\_data/Adaptive/emerson2017/P00127.tsv'\n",
       "\\item '/cluster/projects/pughlab/external\\_data/Adaptive/emerson2017/P00128.tsv'\n",
       "\\item '/cluster/projects/pughlab/external\\_data/Adaptive/emerson2017/P00129.tsv'\n",
       "\\item '/cluster/projects/pughlab/external\\_data/Adaptive/emerson2017/P00130.tsv'\n",
       "\\item '/cluster/projects/pughlab/external\\_data/Adaptive/emerson2017/P00131.tsv'\n",
       "\\item '/cluster/projects/pughlab/external\\_data/Adaptive/emerson2017/P00132.tsv'\n",
       "\\item '/cluster/projects/pughlab/external\\_data/Adaptive/emerson2017/P00133.tsv'\n",
       "\\item '/cluster/projects/pughlab/external\\_data/Adaptive/emerson2017/P00134.tsv'\n",
       "\\item '/cluster/projects/pughlab/external\\_data/Adaptive/emerson2017/P00135.tsv'\n",
       "\\item '/cluster/projects/pughlab/external\\_data/Adaptive/emerson2017/P00136.tsv'\n",
       "\\item '/cluster/projects/pughlab/external\\_data/Adaptive/emerson2017/P00137.tsv'\n",
       "\\item '/cluster/projects/pughlab/external\\_data/Adaptive/emerson2017/P00138.tsv'\n",
       "\\item '/cluster/projects/pughlab/external\\_data/Adaptive/emerson2017/P00139.tsv'\n",
       "\\item '/cluster/projects/pughlab/external\\_data/Adaptive/emerson2017/P00140.tsv'\n",
       "\\item '/cluster/projects/pughlab/external\\_data/Adaptive/emerson2017/P00141.tsv'\n",
       "\\item '/cluster/projects/pughlab/external\\_data/Adaptive/emerson2017/P00142.tsv'\n",
       "\\item '/cluster/projects/pughlab/external\\_data/Adaptive/emerson2017/P00143.tsv'\n",
       "\\item '/cluster/projects/pughlab/external\\_data/Adaptive/emerson2017/P00144.tsv'\n",
       "\\item '/cluster/projects/pughlab/external\\_data/Adaptive/emerson2017/P00145.tsv'\n",
       "\\item '/cluster/projects/pughlab/external\\_data/Adaptive/emerson2017/P00146.tsv'\n",
       "\\item '/cluster/projects/pughlab/external\\_data/Adaptive/emerson2017/P00147.tsv'\n",
       "\\item '/cluster/projects/pughlab/external\\_data/Adaptive/emerson2017/P00148.tsv'\n",
       "\\item '/cluster/projects/pughlab/external\\_data/Adaptive/emerson2017/P00149.tsv'\n",
       "\\item '/cluster/projects/pughlab/external\\_data/Adaptive/emerson2017/P00150.tsv'\n",
       "\\item '/cluster/projects/pughlab/external\\_data/Adaptive/emerson2017/P00151.tsv'\n",
       "\\item '/cluster/projects/pughlab/external\\_data/Adaptive/emerson2017/P00152.tsv'\n",
       "\\item '/cluster/projects/pughlab/external\\_data/Adaptive/emerson2017/P00153.tsv'\n",
       "\\item '/cluster/projects/pughlab/external\\_data/Adaptive/emerson2017/P00154.tsv'\n",
       "\\item '/cluster/projects/pughlab/external\\_data/Adaptive/emerson2017/P00155.tsv'\n",
       "\\item '/cluster/projects/pughlab/external\\_data/Adaptive/emerson2017/P00156.tsv'\n",
       "\\item '/cluster/projects/pughlab/external\\_data/Adaptive/emerson2017/P00157.tsv'\n",
       "\\item '/cluster/projects/pughlab/external\\_data/Adaptive/emerson2017/P00158.tsv'\n",
       "\\item '/cluster/projects/pughlab/external\\_data/Adaptive/emerson2017/P00159.tsv'\n",
       "\\item '/cluster/projects/pughlab/external\\_data/Adaptive/emerson2017/P00160.tsv'\n",
       "\\item '/cluster/projects/pughlab/external\\_data/Adaptive/emerson2017/P00161.tsv'\n",
       "\\item '/cluster/projects/pughlab/external\\_data/Adaptive/emerson2017/P00162.tsv'\n",
       "\\item '/cluster/projects/pughlab/external\\_data/Adaptive/emerson2017/P00163.tsv'\n",
       "\\item '/cluster/projects/pughlab/external\\_data/Adaptive/emerson2017/P00164.tsv'\n",
       "\\item '/cluster/projects/pughlab/external\\_data/Adaptive/emerson2017/P00165.tsv'\n",
       "\\item '/cluster/projects/pughlab/external\\_data/Adaptive/emerson2017/P00166.tsv'\n",
       "\\item '/cluster/projects/pughlab/external\\_data/Adaptive/emerson2017/P00167.tsv'\n",
       "\\item '/cluster/projects/pughlab/external\\_data/Adaptive/emerson2017/P00168.tsv'\n",
       "\\item '/cluster/projects/pughlab/external\\_data/Adaptive/emerson2017/P00169.tsv'\n",
       "\\item '/cluster/projects/pughlab/external\\_data/Adaptive/emerson2017/P00170.tsv'\n",
       "\\item '/cluster/projects/pughlab/external\\_data/Adaptive/emerson2017/P00171.tsv'\n",
       "\\item '/cluster/projects/pughlab/external\\_data/Adaptive/emerson2017/P00172.tsv'\n",
       "\\item '/cluster/projects/pughlab/external\\_data/Adaptive/emerson2017/P00173.tsv'\n",
       "\\item '/cluster/projects/pughlab/external\\_data/Adaptive/emerson2017/P00174.tsv'\n",
       "\\item '/cluster/projects/pughlab/external\\_data/Adaptive/emerson2017/P00175.tsv'\n",
       "\\item '/cluster/projects/pughlab/external\\_data/Adaptive/emerson2017/P00176.tsv'\n",
       "\\item '/cluster/projects/pughlab/external\\_data/Adaptive/emerson2017/P00177.tsv'\n",
       "\\item '/cluster/projects/pughlab/external\\_data/Adaptive/emerson2017/P00178.tsv'\n",
       "\\item '/cluster/projects/pughlab/external\\_data/Adaptive/emerson2017/P00179.tsv'\n",
       "\\item '/cluster/projects/pughlab/external\\_data/Adaptive/emerson2017/P00180.tsv'\n",
       "\\item '/cluster/projects/pughlab/external\\_data/Adaptive/emerson2017/P00181.tsv'\n",
       "\\item '/cluster/projects/pughlab/external\\_data/Adaptive/emerson2017/P00182.tsv'\n",
       "\\item '/cluster/projects/pughlab/external\\_data/Adaptive/emerson2017/P00183.tsv'\n",
       "\\item '/cluster/projects/pughlab/external\\_data/Adaptive/emerson2017/P00184.tsv'\n",
       "\\item '/cluster/projects/pughlab/external\\_data/Adaptive/emerson2017/P00185.tsv'\n",
       "\\item '/cluster/projects/pughlab/external\\_data/Adaptive/emerson2017/P00186.tsv'\n",
       "\\item '/cluster/projects/pughlab/external\\_data/Adaptive/emerson2017/P00187.tsv'\n",
       "\\item '/cluster/projects/pughlab/external\\_data/Adaptive/emerson2017/P00188.tsv'\n",
       "\\item '/cluster/projects/pughlab/external\\_data/Adaptive/emerson2017/P00189.tsv'\n",
       "\\item '/cluster/projects/pughlab/external\\_data/Adaptive/emerson2017/P00190.tsv'\n",
       "\\item '/cluster/projects/pughlab/external\\_data/Adaptive/emerson2017/P00191.tsv'\n",
       "\\item '/cluster/projects/pughlab/external\\_data/Adaptive/emerson2017/P00192.tsv'\n",
       "\\item '/cluster/projects/pughlab/external\\_data/Adaptive/emerson2017/P00193.tsv'\n",
       "\\item '/cluster/projects/pughlab/external\\_data/Adaptive/emerson2017/P00194.tsv'\n",
       "\\item '/cluster/projects/pughlab/external\\_data/Adaptive/emerson2017/P00195.tsv'\n",
       "\\item '/cluster/projects/pughlab/external\\_data/Adaptive/emerson2017/P00196.tsv'\n",
       "\\item '/cluster/projects/pughlab/external\\_data/Adaptive/emerson2017/P00197.tsv'\n",
       "\\item '/cluster/projects/pughlab/external\\_data/Adaptive/emerson2017/P00198.tsv'\n",
       "\\item '/cluster/projects/pughlab/external\\_data/Adaptive/emerson2017/P00199.tsv'\n",
       "\\item '/cluster/projects/pughlab/external\\_data/Adaptive/emerson2017/P00200.tsv'\n",
       "\\item '/cluster/projects/pughlab/external\\_data/Adaptive/emerson2017/P00201.tsv'\n",
       "\\item ⋯\n",
       "\\item '/cluster/projects/pughlab/external\\_data/Adaptive/emerson2017/P00468.tsv'\n",
       "\\item '/cluster/projects/pughlab/external\\_data/Adaptive/emerson2017/P00469.tsv'\n",
       "\\item '/cluster/projects/pughlab/external\\_data/Adaptive/emerson2017/P00470.tsv'\n",
       "\\item '/cluster/projects/pughlab/external\\_data/Adaptive/emerson2017/P00471.tsv'\n",
       "\\item '/cluster/projects/pughlab/external\\_data/Adaptive/emerson2017/P00472.tsv'\n",
       "\\item '/cluster/projects/pughlab/external\\_data/Adaptive/emerson2017/P00473.tsv'\n",
       "\\item '/cluster/projects/pughlab/external\\_data/Adaptive/emerson2017/P00474.tsv'\n",
       "\\item '/cluster/projects/pughlab/external\\_data/Adaptive/emerson2017/P00475.tsv'\n",
       "\\item '/cluster/projects/pughlab/external\\_data/Adaptive/emerson2017/P00476.tsv'\n",
       "\\item '/cluster/projects/pughlab/external\\_data/Adaptive/emerson2017/P00477.tsv'\n",
       "\\item '/cluster/projects/pughlab/external\\_data/Adaptive/emerson2017/P00478.tsv'\n",
       "\\item '/cluster/projects/pughlab/external\\_data/Adaptive/emerson2017/P00479.tsv'\n",
       "\\item '/cluster/projects/pughlab/external\\_data/Adaptive/emerson2017/P00480.tsv'\n",
       "\\item '/cluster/projects/pughlab/external\\_data/Adaptive/emerson2017/P00481.tsv'\n",
       "\\item '/cluster/projects/pughlab/external\\_data/Adaptive/emerson2017/P00482.tsv'\n",
       "\\item '/cluster/projects/pughlab/external\\_data/Adaptive/emerson2017/P00483.tsv'\n",
       "\\item '/cluster/projects/pughlab/external\\_data/Adaptive/emerson2017/P00484.tsv'\n",
       "\\item '/cluster/projects/pughlab/external\\_data/Adaptive/emerson2017/P00485.tsv'\n",
       "\\item '/cluster/projects/pughlab/external\\_data/Adaptive/emerson2017/P00486.tsv'\n",
       "\\item '/cluster/projects/pughlab/external\\_data/Adaptive/emerson2017/P00487.tsv'\n",
       "\\item '/cluster/projects/pughlab/external\\_data/Adaptive/emerson2017/P00488.tsv'\n",
       "\\item '/cluster/projects/pughlab/external\\_data/Adaptive/emerson2017/P00489.tsv'\n",
       "\\item '/cluster/projects/pughlab/external\\_data/Adaptive/emerson2017/P00490.tsv'\n",
       "\\item '/cluster/projects/pughlab/external\\_data/Adaptive/emerson2017/P00491.tsv'\n",
       "\\item '/cluster/projects/pughlab/external\\_data/Adaptive/emerson2017/P00492.tsv'\n",
       "\\item '/cluster/projects/pughlab/external\\_data/Adaptive/emerson2017/P00493.tsv'\n",
       "\\item '/cluster/projects/pughlab/external\\_data/Adaptive/emerson2017/P00494.tsv'\n",
       "\\item '/cluster/projects/pughlab/external\\_data/Adaptive/emerson2017/P00495.tsv'\n",
       "\\item '/cluster/projects/pughlab/external\\_data/Adaptive/emerson2017/P00496.tsv'\n",
       "\\item '/cluster/projects/pughlab/external\\_data/Adaptive/emerson2017/P00497.tsv'\n",
       "\\item '/cluster/projects/pughlab/external\\_data/Adaptive/emerson2017/P00498.tsv'\n",
       "\\item '/cluster/projects/pughlab/external\\_data/Adaptive/emerson2017/P00499.tsv'\n",
       "\\item '/cluster/projects/pughlab/external\\_data/Adaptive/emerson2017/P00500.tsv'\n",
       "\\item '/cluster/projects/pughlab/external\\_data/Adaptive/emerson2017/P00501.tsv'\n",
       "\\item '/cluster/projects/pughlab/external\\_data/Adaptive/emerson2017/P00502.tsv'\n",
       "\\item '/cluster/projects/pughlab/external\\_data/Adaptive/emerson2017/P00503.tsv'\n",
       "\\item '/cluster/projects/pughlab/external\\_data/Adaptive/emerson2017/P00504.tsv'\n",
       "\\item '/cluster/projects/pughlab/external\\_data/Adaptive/emerson2017/P00505.tsv'\n",
       "\\item '/cluster/projects/pughlab/external\\_data/Adaptive/emerson2017/P00506.tsv'\n",
       "\\item '/cluster/projects/pughlab/external\\_data/Adaptive/emerson2017/P00507.tsv'\n",
       "\\item '/cluster/projects/pughlab/external\\_data/Adaptive/emerson2017/P00508.tsv'\n",
       "\\item '/cluster/projects/pughlab/external\\_data/Adaptive/emerson2017/P00509.tsv'\n",
       "\\item '/cluster/projects/pughlab/external\\_data/Adaptive/emerson2017/P00510.tsv'\n",
       "\\item '/cluster/projects/pughlab/external\\_data/Adaptive/emerson2017/P00511.tsv'\n",
       "\\item '/cluster/projects/pughlab/external\\_data/Adaptive/emerson2017/P00512.tsv'\n",
       "\\item '/cluster/projects/pughlab/external\\_data/Adaptive/emerson2017/P00513.tsv'\n",
       "\\item '/cluster/projects/pughlab/external\\_data/Adaptive/emerson2017/P00514.tsv'\n",
       "\\item '/cluster/projects/pughlab/external\\_data/Adaptive/emerson2017/P00515.tsv'\n",
       "\\item '/cluster/projects/pughlab/external\\_data/Adaptive/emerson2017/P00516.tsv'\n",
       "\\item '/cluster/projects/pughlab/external\\_data/Adaptive/emerson2017/P00517.tsv'\n",
       "\\item '/cluster/projects/pughlab/external\\_data/Adaptive/emerson2017/P00518.tsv'\n",
       "\\item '/cluster/projects/pughlab/external\\_data/Adaptive/emerson2017/P00519.tsv'\n",
       "\\item '/cluster/projects/pughlab/external\\_data/Adaptive/emerson2017/P00520.tsv'\n",
       "\\item '/cluster/projects/pughlab/external\\_data/Adaptive/emerson2017/P00521.tsv'\n",
       "\\item '/cluster/projects/pughlab/external\\_data/Adaptive/emerson2017/P00522.tsv'\n",
       "\\item '/cluster/projects/pughlab/external\\_data/Adaptive/emerson2017/P00523.tsv'\n",
       "\\item '/cluster/projects/pughlab/external\\_data/Adaptive/emerson2017/P00524.tsv'\n",
       "\\item '/cluster/projects/pughlab/external\\_data/Adaptive/emerson2017/P00525.tsv'\n",
       "\\item '/cluster/projects/pughlab/external\\_data/Adaptive/emerson2017/P00526.tsv'\n",
       "\\item '/cluster/projects/pughlab/external\\_data/Adaptive/emerson2017/P00527.tsv'\n",
       "\\item '/cluster/projects/pughlab/external\\_data/Adaptive/emerson2017/P00528.tsv'\n",
       "\\item '/cluster/projects/pughlab/external\\_data/Adaptive/emerson2017/P00529.tsv'\n",
       "\\item '/cluster/projects/pughlab/external\\_data/Adaptive/emerson2017/P00530.tsv'\n",
       "\\item '/cluster/projects/pughlab/external\\_data/Adaptive/emerson2017/P00531.tsv'\n",
       "\\item '/cluster/projects/pughlab/external\\_data/Adaptive/emerson2017/P00532.tsv'\n",
       "\\item '/cluster/projects/pughlab/external\\_data/Adaptive/emerson2017/P00533.tsv'\n",
       "\\item '/cluster/projects/pughlab/external\\_data/Adaptive/emerson2017/P00534.tsv'\n",
       "\\item '/cluster/projects/pughlab/external\\_data/Adaptive/emerson2017/P00535.tsv'\n",
       "\\item '/cluster/projects/pughlab/external\\_data/Adaptive/emerson2017/P00536.tsv'\n",
       "\\item '/cluster/projects/pughlab/external\\_data/Adaptive/emerson2017/P00537.tsv'\n",
       "\\item '/cluster/projects/pughlab/external\\_data/Adaptive/emerson2017/P00538.tsv'\n",
       "\\item '/cluster/projects/pughlab/external\\_data/Adaptive/emerson2017/P00539.tsv'\n",
       "\\item '/cluster/projects/pughlab/external\\_data/Adaptive/emerson2017/P00540.tsv'\n",
       "\\item '/cluster/projects/pughlab/external\\_data/Adaptive/emerson2017/P00541.tsv'\n",
       "\\item '/cluster/projects/pughlab/external\\_data/Adaptive/emerson2017/P00542.tsv'\n",
       "\\item '/cluster/projects/pughlab/external\\_data/Adaptive/emerson2017/P00543.tsv'\n",
       "\\item '/cluster/projects/pughlab/external\\_data/Adaptive/emerson2017/P00544.tsv'\n",
       "\\item '/cluster/projects/pughlab/external\\_data/Adaptive/emerson2017/P00545.tsv'\n",
       "\\item '/cluster/projects/pughlab/external\\_data/Adaptive/emerson2017/P00546.tsv'\n",
       "\\item '/cluster/projects/pughlab/external\\_data/Adaptive/emerson2017/P00547.tsv'\n",
       "\\item '/cluster/projects/pughlab/external\\_data/Adaptive/emerson2017/P00548.tsv'\n",
       "\\item '/cluster/projects/pughlab/external\\_data/Adaptive/emerson2017/P00549.tsv'\n",
       "\\item '/cluster/projects/pughlab/external\\_data/Adaptive/emerson2017/P00550.tsv'\n",
       "\\item '/cluster/projects/pughlab/external\\_data/Adaptive/emerson2017/P00551.tsv'\n",
       "\\item '/cluster/projects/pughlab/external\\_data/Adaptive/emerson2017/P00552.tsv'\n",
       "\\item '/cluster/projects/pughlab/external\\_data/Adaptive/emerson2017/P00553.tsv'\n",
       "\\item '/cluster/projects/pughlab/external\\_data/Adaptive/emerson2017/P00554.tsv'\n",
       "\\item '/cluster/projects/pughlab/external\\_data/Adaptive/emerson2017/P00555.tsv'\n",
       "\\item '/cluster/projects/pughlab/external\\_data/Adaptive/emerson2017/P00556.tsv'\n",
       "\\item '/cluster/projects/pughlab/external\\_data/Adaptive/emerson2017/P00557.tsv'\n",
       "\\item '/cluster/projects/pughlab/external\\_data/Adaptive/emerson2017/P00558.tsv'\n",
       "\\item '/cluster/projects/pughlab/external\\_data/Adaptive/emerson2017/P00559.tsv'\n",
       "\\item '/cluster/projects/pughlab/external\\_data/Adaptive/emerson2017/P00560.tsv'\n",
       "\\item '/cluster/projects/pughlab/external\\_data/Adaptive/emerson2017/P00561.tsv'\n",
       "\\item '/cluster/projects/pughlab/external\\_data/Adaptive/emerson2017/P00562.tsv'\n",
       "\\item '/cluster/projects/pughlab/external\\_data/Adaptive/emerson2017/P00563.tsv'\n",
       "\\item '/cluster/projects/pughlab/external\\_data/Adaptive/emerson2017/P00564.tsv'\n",
       "\\item '/cluster/projects/pughlab/external\\_data/Adaptive/emerson2017/P00565.tsv'\n",
       "\\item '/cluster/projects/pughlab/external\\_data/Adaptive/emerson2017/P00566.tsv'\n",
       "\\item '/cluster/projects/pughlab/external\\_data/Adaptive/emerson2017/P00567.tsv'\n",
       "\\item '/cluster/projects/pughlab/external\\_data/Adaptive/emerson2017/P00568.tsv'\n",
       "\\item '/cluster/projects/pughlab/external\\_data/Adaptive/emerson2017/P00569.tsv'\n",
       "\\item '/cluster/projects/pughlab/external\\_data/Adaptive/emerson2017/P00570.tsv'\n",
       "\\item '/cluster/projects/pughlab/external\\_data/Adaptive/emerson2017/P00571.tsv'\n",
       "\\item '/cluster/projects/pughlab/external\\_data/Adaptive/emerson2017/P00572.tsv'\n",
       "\\item '/cluster/projects/pughlab/external\\_data/Adaptive/emerson2017/P00573.tsv'\n",
       "\\item '/cluster/projects/pughlab/external\\_data/Adaptive/emerson2017/P00574.tsv'\n",
       "\\item '/cluster/projects/pughlab/external\\_data/Adaptive/emerson2017/P00575.tsv'\n",
       "\\item '/cluster/projects/pughlab/external\\_data/Adaptive/emerson2017/P00576.tsv'\n",
       "\\item '/cluster/projects/pughlab/external\\_data/Adaptive/emerson2017/P00577.tsv'\n",
       "\\item '/cluster/projects/pughlab/external\\_data/Adaptive/emerson2017/P00578.tsv'\n",
       "\\item '/cluster/projects/pughlab/external\\_data/Adaptive/emerson2017/P00579.tsv'\n",
       "\\item '/cluster/projects/pughlab/external\\_data/Adaptive/emerson2017/P00580.tsv'\n",
       "\\item '/cluster/projects/pughlab/external\\_data/Adaptive/emerson2017/P00581.tsv'\n",
       "\\item '/cluster/projects/pughlab/external\\_data/Adaptive/emerson2017/P00582.tsv'\n",
       "\\item '/cluster/projects/pughlab/external\\_data/Adaptive/emerson2017/P00583.tsv'\n",
       "\\item '/cluster/projects/pughlab/external\\_data/Adaptive/emerson2017/P00584.tsv'\n",
       "\\item '/cluster/projects/pughlab/external\\_data/Adaptive/emerson2017/P00585.tsv'\n",
       "\\item '/cluster/projects/pughlab/external\\_data/Adaptive/emerson2017/P00586.tsv'\n",
       "\\item '/cluster/projects/pughlab/external\\_data/Adaptive/emerson2017/P00587.tsv'\n",
       "\\item '/cluster/projects/pughlab/external\\_data/Adaptive/emerson2017/P00588.tsv'\n",
       "\\item '/cluster/projects/pughlab/external\\_data/Adaptive/emerson2017/P00589.tsv'\n",
       "\\item '/cluster/projects/pughlab/external\\_data/Adaptive/emerson2017/P00590.tsv'\n",
       "\\item '/cluster/projects/pughlab/external\\_data/Adaptive/emerson2017/P00591.tsv'\n",
       "\\item '/cluster/projects/pughlab/external\\_data/Adaptive/emerson2017/P00592.tsv'\n",
       "\\item '/cluster/projects/pughlab/external\\_data/Adaptive/emerson2017/P00593.tsv'\n",
       "\\item '/cluster/projects/pughlab/external\\_data/Adaptive/emerson2017/P00594.tsv'\n",
       "\\item '/cluster/projects/pughlab/external\\_data/Adaptive/emerson2017/P00595.tsv'\n",
       "\\item '/cluster/projects/pughlab/external\\_data/Adaptive/emerson2017/P00596.tsv'\n",
       "\\item '/cluster/projects/pughlab/external\\_data/Adaptive/emerson2017/P00597.tsv'\n",
       "\\item '/cluster/projects/pughlab/external\\_data/Adaptive/emerson2017/P00598.tsv'\n",
       "\\item '/cluster/projects/pughlab/external\\_data/Adaptive/emerson2017/P00599.tsv'\n",
       "\\item '/cluster/projects/pughlab/external\\_data/Adaptive/emerson2017/P00600.tsv'\n",
       "\\item '/cluster/projects/pughlab/external\\_data/Adaptive/emerson2017/P00601.tsv'\n",
       "\\item '/cluster/projects/pughlab/external\\_data/Adaptive/emerson2017/P00602.tsv'\n",
       "\\item '/cluster/projects/pughlab/external\\_data/Adaptive/emerson2017/P00603.tsv'\n",
       "\\item '/cluster/projects/pughlab/external\\_data/Adaptive/emerson2017/P00604.tsv'\n",
       "\\item '/cluster/projects/pughlab/external\\_data/Adaptive/emerson2017/P00605.tsv'\n",
       "\\item '/cluster/projects/pughlab/external\\_data/Adaptive/emerson2017/P00606.tsv'\n",
       "\\item '/cluster/projects/pughlab/external\\_data/Adaptive/emerson2017/P00607.tsv'\n",
       "\\item '/cluster/projects/pughlab/external\\_data/Adaptive/emerson2017/P00608.tsv'\n",
       "\\item '/cluster/projects/pughlab/external\\_data/Adaptive/emerson2017/P00609.tsv'\n",
       "\\item '/cluster/projects/pughlab/external\\_data/Adaptive/emerson2017/P00610.tsv'\n",
       "\\item '/cluster/projects/pughlab/external\\_data/Adaptive/emerson2017/P00611.tsv'\n",
       "\\item '/cluster/projects/pughlab/external\\_data/Adaptive/emerson2017/P00612.tsv'\n",
       "\\item '/cluster/projects/pughlab/external\\_data/Adaptive/emerson2017/P00613.tsv'\n",
       "\\item '/cluster/projects/pughlab/external\\_data/Adaptive/emerson2017/P00614.tsv'\n",
       "\\item '/cluster/projects/pughlab/external\\_data/Adaptive/emerson2017/P00615.tsv'\n",
       "\\item '/cluster/projects/pughlab/external\\_data/Adaptive/emerson2017/P00616.tsv'\n",
       "\\item '/cluster/projects/pughlab/external\\_data/Adaptive/emerson2017/P00617.tsv'\n",
       "\\item '/cluster/projects/pughlab/external\\_data/Adaptive/emerson2017/P00618.tsv'\n",
       "\\item '/cluster/projects/pughlab/external\\_data/Adaptive/emerson2017/P00619.tsv'\n",
       "\\item '/cluster/projects/pughlab/external\\_data/Adaptive/emerson2017/P00620.tsv'\n",
       "\\item '/cluster/projects/pughlab/external\\_data/Adaptive/emerson2017/P00621.tsv'\n",
       "\\item '/cluster/projects/pughlab/external\\_data/Adaptive/emerson2017/P00622.tsv'\n",
       "\\item '/cluster/projects/pughlab/external\\_data/Adaptive/emerson2017/P00623.tsv'\n",
       "\\item '/cluster/projects/pughlab/external\\_data/Adaptive/emerson2017/P00624.tsv'\n",
       "\\item '/cluster/projects/pughlab/external\\_data/Adaptive/emerson2017/P00625.tsv'\n",
       "\\item '/cluster/projects/pughlab/external\\_data/Adaptive/emerson2017/P00626.tsv'\n",
       "\\item '/cluster/projects/pughlab/external\\_data/Adaptive/emerson2017/P00627.tsv'\n",
       "\\item '/cluster/projects/pughlab/external\\_data/Adaptive/emerson2017/P00628.tsv'\n",
       "\\item '/cluster/projects/pughlab/external\\_data/Adaptive/emerson2017/P00629.tsv'\n",
       "\\item '/cluster/projects/pughlab/external\\_data/Adaptive/emerson2017/P00630.tsv'\n",
       "\\item '/cluster/projects/pughlab/external\\_data/Adaptive/emerson2017/P00631.tsv'\n",
       "\\item '/cluster/projects/pughlab/external\\_data/Adaptive/emerson2017/P00632.tsv'\n",
       "\\item '/cluster/projects/pughlab/external\\_data/Adaptive/emerson2017/P00633.tsv'\n",
       "\\item '/cluster/projects/pughlab/external\\_data/Adaptive/emerson2017/P00634.tsv'\n",
       "\\item '/cluster/projects/pughlab/external\\_data/Adaptive/emerson2017/P00635.tsv'\n",
       "\\item '/cluster/projects/pughlab/external\\_data/Adaptive/emerson2017/P00636.tsv'\n",
       "\\item '/cluster/projects/pughlab/external\\_data/Adaptive/emerson2017/P00637.tsv'\n",
       "\\item '/cluster/projects/pughlab/external\\_data/Adaptive/emerson2017/P00638.tsv'\n",
       "\\item '/cluster/projects/pughlab/external\\_data/Adaptive/emerson2017/P00639.tsv'\n",
       "\\item '/cluster/projects/pughlab/external\\_data/Adaptive/emerson2017/P00640.tsv'\n",
       "\\item '/cluster/projects/pughlab/external\\_data/Adaptive/emerson2017/P00641.tsv'\n",
       "\\item '/cluster/projects/pughlab/external\\_data/Adaptive/emerson2017/P00642.tsv'\n",
       "\\item '/cluster/projects/pughlab/external\\_data/Adaptive/emerson2017/P00643.tsv'\n",
       "\\item '/cluster/projects/pughlab/external\\_data/Adaptive/emerson2017/P00644.tsv'\n",
       "\\item '/cluster/projects/pughlab/external\\_data/Adaptive/emerson2017/P00645.tsv'\n",
       "\\item '/cluster/projects/pughlab/external\\_data/Adaptive/emerson2017/P00646.tsv'\n",
       "\\item '/cluster/projects/pughlab/external\\_data/Adaptive/emerson2017/P00647.tsv'\n",
       "\\item '/cluster/projects/pughlab/external\\_data/Adaptive/emerson2017/P00648.tsv'\n",
       "\\item '/cluster/projects/pughlab/external\\_data/Adaptive/emerson2017/P00649.tsv'\n",
       "\\item '/cluster/projects/pughlab/external\\_data/Adaptive/emerson2017/P00650.tsv'\n",
       "\\item '/cluster/projects/pughlab/external\\_data/Adaptive/emerson2017/P00651.tsv'\n",
       "\\item '/cluster/projects/pughlab/external\\_data/Adaptive/emerson2017/P00652.tsv'\n",
       "\\item '/cluster/projects/pughlab/external\\_data/Adaptive/emerson2017/P00653.tsv'\n",
       "\\item '/cluster/projects/pughlab/external\\_data/Adaptive/emerson2017/P00654.tsv'\n",
       "\\item '/cluster/projects/pughlab/external\\_data/Adaptive/emerson2017/P00655.tsv'\n",
       "\\item '/cluster/projects/pughlab/external\\_data/Adaptive/emerson2017/P00656.tsv'\n",
       "\\item '/cluster/projects/pughlab/external\\_data/Adaptive/emerson2017/P00657.tsv'\n",
       "\\item '/cluster/projects/pughlab/external\\_data/Adaptive/emerson2017/P00658.tsv'\n",
       "\\item '/cluster/projects/pughlab/external\\_data/Adaptive/emerson2017/P00659.tsv'\n",
       "\\item '/cluster/projects/pughlab/external\\_data/Adaptive/emerson2017/P00660.tsv'\n",
       "\\item '/cluster/projects/pughlab/external\\_data/Adaptive/emerson2017/P00661.tsv'\n",
       "\\item '/cluster/projects/pughlab/external\\_data/Adaptive/emerson2017/P00662.tsv'\n",
       "\\item '/cluster/projects/pughlab/external\\_data/Adaptive/emerson2017/P00663.tsv'\n",
       "\\item '/cluster/projects/pughlab/external\\_data/Adaptive/emerson2017/P00665.tsv'\n",
       "\\item '/cluster/projects/pughlab/external\\_data/Adaptive/emerson2017/P00666.tsv'\n",
       "\\item '/cluster/projects/pughlab/external\\_data/Adaptive/emerson2017/P00667.tsv'\n",
       "\\item '/cluster/projects/pughlab/external\\_data/Adaptive/emerson2017/P00668.tsv'\n",
       "\\end{enumerate*}\n"
      ],
      "text/markdown": [
       "1. '/cluster/projects/pughlab/external_data/Adaptive/emerson2017/P00001.tsv'\n",
       "2. '/cluster/projects/pughlab/external_data/Adaptive/emerson2017/P00002.tsv'\n",
       "3. '/cluster/projects/pughlab/external_data/Adaptive/emerson2017/P00003.tsv'\n",
       "4. '/cluster/projects/pughlab/external_data/Adaptive/emerson2017/P00004.tsv'\n",
       "5. '/cluster/projects/pughlab/external_data/Adaptive/emerson2017/P00005.tsv'\n",
       "6. '/cluster/projects/pughlab/external_data/Adaptive/emerson2017/P00006.tsv'\n",
       "7. '/cluster/projects/pughlab/external_data/Adaptive/emerson2017/P00007.tsv'\n",
       "8. '/cluster/projects/pughlab/external_data/Adaptive/emerson2017/P00008.tsv'\n",
       "9. '/cluster/projects/pughlab/external_data/Adaptive/emerson2017/P00009.tsv'\n",
       "10. '/cluster/projects/pughlab/external_data/Adaptive/emerson2017/P00010.tsv'\n",
       "11. '/cluster/projects/pughlab/external_data/Adaptive/emerson2017/P00011.tsv'\n",
       "12. '/cluster/projects/pughlab/external_data/Adaptive/emerson2017/P00012.tsv'\n",
       "13. '/cluster/projects/pughlab/external_data/Adaptive/emerson2017/P00013.tsv'\n",
       "14. '/cluster/projects/pughlab/external_data/Adaptive/emerson2017/P00014.tsv'\n",
       "15. '/cluster/projects/pughlab/external_data/Adaptive/emerson2017/P00015.tsv'\n",
       "16. '/cluster/projects/pughlab/external_data/Adaptive/emerson2017/P00016.tsv'\n",
       "17. '/cluster/projects/pughlab/external_data/Adaptive/emerson2017/P00017.tsv'\n",
       "18. '/cluster/projects/pughlab/external_data/Adaptive/emerson2017/P00018.tsv'\n",
       "19. '/cluster/projects/pughlab/external_data/Adaptive/emerson2017/P00019.tsv'\n",
       "20. '/cluster/projects/pughlab/external_data/Adaptive/emerson2017/P00020.tsv'\n",
       "21. '/cluster/projects/pughlab/external_data/Adaptive/emerson2017/P00021.tsv'\n",
       "22. '/cluster/projects/pughlab/external_data/Adaptive/emerson2017/P00022.tsv'\n",
       "23. '/cluster/projects/pughlab/external_data/Adaptive/emerson2017/P00023.tsv'\n",
       "24. '/cluster/projects/pughlab/external_data/Adaptive/emerson2017/P00024.tsv'\n",
       "25. '/cluster/projects/pughlab/external_data/Adaptive/emerson2017/P00025.tsv'\n",
       "26. '/cluster/projects/pughlab/external_data/Adaptive/emerson2017/P00026.tsv'\n",
       "27. '/cluster/projects/pughlab/external_data/Adaptive/emerson2017/P00027.tsv'\n",
       "28. '/cluster/projects/pughlab/external_data/Adaptive/emerson2017/P00028.tsv'\n",
       "29. '/cluster/projects/pughlab/external_data/Adaptive/emerson2017/P00029.tsv'\n",
       "30. '/cluster/projects/pughlab/external_data/Adaptive/emerson2017/P00030.tsv'\n",
       "31. '/cluster/projects/pughlab/external_data/Adaptive/emerson2017/P00031.tsv'\n",
       "32. '/cluster/projects/pughlab/external_data/Adaptive/emerson2017/P00032.tsv'\n",
       "33. '/cluster/projects/pughlab/external_data/Adaptive/emerson2017/P00033.tsv'\n",
       "34. '/cluster/projects/pughlab/external_data/Adaptive/emerson2017/P00034.tsv'\n",
       "35. '/cluster/projects/pughlab/external_data/Adaptive/emerson2017/P00035.tsv'\n",
       "36. '/cluster/projects/pughlab/external_data/Adaptive/emerson2017/P00036.tsv'\n",
       "37. '/cluster/projects/pughlab/external_data/Adaptive/emerson2017/P00037.tsv'\n",
       "38. '/cluster/projects/pughlab/external_data/Adaptive/emerson2017/P00038.tsv'\n",
       "39. '/cluster/projects/pughlab/external_data/Adaptive/emerson2017/P00039.tsv'\n",
       "40. '/cluster/projects/pughlab/external_data/Adaptive/emerson2017/P00040.tsv'\n",
       "41. '/cluster/projects/pughlab/external_data/Adaptive/emerson2017/P00041.tsv'\n",
       "42. '/cluster/projects/pughlab/external_data/Adaptive/emerson2017/P00042.tsv'\n",
       "43. '/cluster/projects/pughlab/external_data/Adaptive/emerson2017/P00043.tsv'\n",
       "44. '/cluster/projects/pughlab/external_data/Adaptive/emerson2017/P00044.tsv'\n",
       "45. '/cluster/projects/pughlab/external_data/Adaptive/emerson2017/P00045.tsv'\n",
       "46. '/cluster/projects/pughlab/external_data/Adaptive/emerson2017/P00046.tsv'\n",
       "47. '/cluster/projects/pughlab/external_data/Adaptive/emerson2017/P00047.tsv'\n",
       "48. '/cluster/projects/pughlab/external_data/Adaptive/emerson2017/P00048.tsv'\n",
       "49. '/cluster/projects/pughlab/external_data/Adaptive/emerson2017/P00049.tsv'\n",
       "50. '/cluster/projects/pughlab/external_data/Adaptive/emerson2017/P00050.tsv'\n",
       "51. '/cluster/projects/pughlab/external_data/Adaptive/emerson2017/P00051.tsv'\n",
       "52. '/cluster/projects/pughlab/external_data/Adaptive/emerson2017/P00052.tsv'\n",
       "53. '/cluster/projects/pughlab/external_data/Adaptive/emerson2017/P00053.tsv'\n",
       "54. '/cluster/projects/pughlab/external_data/Adaptive/emerson2017/P00054.tsv'\n",
       "55. '/cluster/projects/pughlab/external_data/Adaptive/emerson2017/P00055.tsv'\n",
       "56. '/cluster/projects/pughlab/external_data/Adaptive/emerson2017/P00056.tsv'\n",
       "57. '/cluster/projects/pughlab/external_data/Adaptive/emerson2017/P00057.tsv'\n",
       "58. '/cluster/projects/pughlab/external_data/Adaptive/emerson2017/P00058.tsv'\n",
       "59. '/cluster/projects/pughlab/external_data/Adaptive/emerson2017/P00059.tsv'\n",
       "60. '/cluster/projects/pughlab/external_data/Adaptive/emerson2017/P00060.tsv'\n",
       "61. '/cluster/projects/pughlab/external_data/Adaptive/emerson2017/P00061.tsv'\n",
       "62. '/cluster/projects/pughlab/external_data/Adaptive/emerson2017/P00062.tsv'\n",
       "63. '/cluster/projects/pughlab/external_data/Adaptive/emerson2017/P00063.tsv'\n",
       "64. '/cluster/projects/pughlab/external_data/Adaptive/emerson2017/P00064.tsv'\n",
       "65. '/cluster/projects/pughlab/external_data/Adaptive/emerson2017/P00065.tsv'\n",
       "66. '/cluster/projects/pughlab/external_data/Adaptive/emerson2017/P00066.tsv'\n",
       "67. '/cluster/projects/pughlab/external_data/Adaptive/emerson2017/P00067.tsv'\n",
       "68. '/cluster/projects/pughlab/external_data/Adaptive/emerson2017/P00068.tsv'\n",
       "69. '/cluster/projects/pughlab/external_data/Adaptive/emerson2017/P00069.tsv'\n",
       "70. '/cluster/projects/pughlab/external_data/Adaptive/emerson2017/P00070.tsv'\n",
       "71. '/cluster/projects/pughlab/external_data/Adaptive/emerson2017/P00071.tsv'\n",
       "72. '/cluster/projects/pughlab/external_data/Adaptive/emerson2017/P00072.tsv'\n",
       "73. '/cluster/projects/pughlab/external_data/Adaptive/emerson2017/P00073.tsv'\n",
       "74. '/cluster/projects/pughlab/external_data/Adaptive/emerson2017/P00074.tsv'\n",
       "75. '/cluster/projects/pughlab/external_data/Adaptive/emerson2017/P00075.tsv'\n",
       "76. '/cluster/projects/pughlab/external_data/Adaptive/emerson2017/P00076.tsv'\n",
       "77. '/cluster/projects/pughlab/external_data/Adaptive/emerson2017/P00077.tsv'\n",
       "78. '/cluster/projects/pughlab/external_data/Adaptive/emerson2017/P00078.tsv'\n",
       "79. '/cluster/projects/pughlab/external_data/Adaptive/emerson2017/P00079.tsv'\n",
       "80. '/cluster/projects/pughlab/external_data/Adaptive/emerson2017/P00080.tsv'\n",
       "81. '/cluster/projects/pughlab/external_data/Adaptive/emerson2017/P00081.tsv'\n",
       "82. '/cluster/projects/pughlab/external_data/Adaptive/emerson2017/P00083.tsv'\n",
       "83. '/cluster/projects/pughlab/external_data/Adaptive/emerson2017/P00084.tsv'\n",
       "84. '/cluster/projects/pughlab/external_data/Adaptive/emerson2017/P00085.tsv'\n",
       "85. '/cluster/projects/pughlab/external_data/Adaptive/emerson2017/P00086.tsv'\n",
       "86. '/cluster/projects/pughlab/external_data/Adaptive/emerson2017/P00087.tsv'\n",
       "87. '/cluster/projects/pughlab/external_data/Adaptive/emerson2017/P00088.tsv'\n",
       "88. '/cluster/projects/pughlab/external_data/Adaptive/emerson2017/P00089.tsv'\n",
       "89. '/cluster/projects/pughlab/external_data/Adaptive/emerson2017/P00090.tsv'\n",
       "90. '/cluster/projects/pughlab/external_data/Adaptive/emerson2017/P00091.tsv'\n",
       "91. '/cluster/projects/pughlab/external_data/Adaptive/emerson2017/P00092.tsv'\n",
       "92. '/cluster/projects/pughlab/external_data/Adaptive/emerson2017/P00093.tsv'\n",
       "93. '/cluster/projects/pughlab/external_data/Adaptive/emerson2017/P00094.tsv'\n",
       "94. '/cluster/projects/pughlab/external_data/Adaptive/emerson2017/P00095.tsv'\n",
       "95. '/cluster/projects/pughlab/external_data/Adaptive/emerson2017/P00096.tsv'\n",
       "96. '/cluster/projects/pughlab/external_data/Adaptive/emerson2017/P00097.tsv'\n",
       "97. '/cluster/projects/pughlab/external_data/Adaptive/emerson2017/P00098.tsv'\n",
       "98. '/cluster/projects/pughlab/external_data/Adaptive/emerson2017/P00099.tsv'\n",
       "99. '/cluster/projects/pughlab/external_data/Adaptive/emerson2017/P00100.tsv'\n",
       "100. '/cluster/projects/pughlab/external_data/Adaptive/emerson2017/P00101.tsv'\n",
       "101. '/cluster/projects/pughlab/external_data/Adaptive/emerson2017/P00102.tsv'\n",
       "102. '/cluster/projects/pughlab/external_data/Adaptive/emerson2017/P00103.tsv'\n",
       "103. '/cluster/projects/pughlab/external_data/Adaptive/emerson2017/P00104.tsv'\n",
       "104. '/cluster/projects/pughlab/external_data/Adaptive/emerson2017/P00105.tsv'\n",
       "105. '/cluster/projects/pughlab/external_data/Adaptive/emerson2017/P00106.tsv'\n",
       "106. '/cluster/projects/pughlab/external_data/Adaptive/emerson2017/P00107.tsv'\n",
       "107. '/cluster/projects/pughlab/external_data/Adaptive/emerson2017/P00108.tsv'\n",
       "108. '/cluster/projects/pughlab/external_data/Adaptive/emerson2017/P00109.tsv'\n",
       "109. '/cluster/projects/pughlab/external_data/Adaptive/emerson2017/P00110.tsv'\n",
       "110. '/cluster/projects/pughlab/external_data/Adaptive/emerson2017/P00111.tsv'\n",
       "111. '/cluster/projects/pughlab/external_data/Adaptive/emerson2017/P00112.tsv'\n",
       "112. '/cluster/projects/pughlab/external_data/Adaptive/emerson2017/P00113.tsv'\n",
       "113. '/cluster/projects/pughlab/external_data/Adaptive/emerson2017/P00114.tsv'\n",
       "114. '/cluster/projects/pughlab/external_data/Adaptive/emerson2017/P00115.tsv'\n",
       "115. '/cluster/projects/pughlab/external_data/Adaptive/emerson2017/P00116.tsv'\n",
       "116. '/cluster/projects/pughlab/external_data/Adaptive/emerson2017/P00117.tsv'\n",
       "117. '/cluster/projects/pughlab/external_data/Adaptive/emerson2017/P00118.tsv'\n",
       "118. '/cluster/projects/pughlab/external_data/Adaptive/emerson2017/P00119.tsv'\n",
       "119. '/cluster/projects/pughlab/external_data/Adaptive/emerson2017/P00120.tsv'\n",
       "120. '/cluster/projects/pughlab/external_data/Adaptive/emerson2017/P00121.tsv'\n",
       "121. '/cluster/projects/pughlab/external_data/Adaptive/emerson2017/P00122.tsv'\n",
       "122. '/cluster/projects/pughlab/external_data/Adaptive/emerson2017/P00123.tsv'\n",
       "123. '/cluster/projects/pughlab/external_data/Adaptive/emerson2017/P00124.tsv'\n",
       "124. '/cluster/projects/pughlab/external_data/Adaptive/emerson2017/P00125.tsv'\n",
       "125. '/cluster/projects/pughlab/external_data/Adaptive/emerson2017/P00126.tsv'\n",
       "126. '/cluster/projects/pughlab/external_data/Adaptive/emerson2017/P00127.tsv'\n",
       "127. '/cluster/projects/pughlab/external_data/Adaptive/emerson2017/P00128.tsv'\n",
       "128. '/cluster/projects/pughlab/external_data/Adaptive/emerson2017/P00129.tsv'\n",
       "129. '/cluster/projects/pughlab/external_data/Adaptive/emerson2017/P00130.tsv'\n",
       "130. '/cluster/projects/pughlab/external_data/Adaptive/emerson2017/P00131.tsv'\n",
       "131. '/cluster/projects/pughlab/external_data/Adaptive/emerson2017/P00132.tsv'\n",
       "132. '/cluster/projects/pughlab/external_data/Adaptive/emerson2017/P00133.tsv'\n",
       "133. '/cluster/projects/pughlab/external_data/Adaptive/emerson2017/P00134.tsv'\n",
       "134. '/cluster/projects/pughlab/external_data/Adaptive/emerson2017/P00135.tsv'\n",
       "135. '/cluster/projects/pughlab/external_data/Adaptive/emerson2017/P00136.tsv'\n",
       "136. '/cluster/projects/pughlab/external_data/Adaptive/emerson2017/P00137.tsv'\n",
       "137. '/cluster/projects/pughlab/external_data/Adaptive/emerson2017/P00138.tsv'\n",
       "138. '/cluster/projects/pughlab/external_data/Adaptive/emerson2017/P00139.tsv'\n",
       "139. '/cluster/projects/pughlab/external_data/Adaptive/emerson2017/P00140.tsv'\n",
       "140. '/cluster/projects/pughlab/external_data/Adaptive/emerson2017/P00141.tsv'\n",
       "141. '/cluster/projects/pughlab/external_data/Adaptive/emerson2017/P00142.tsv'\n",
       "142. '/cluster/projects/pughlab/external_data/Adaptive/emerson2017/P00143.tsv'\n",
       "143. '/cluster/projects/pughlab/external_data/Adaptive/emerson2017/P00144.tsv'\n",
       "144. '/cluster/projects/pughlab/external_data/Adaptive/emerson2017/P00145.tsv'\n",
       "145. '/cluster/projects/pughlab/external_data/Adaptive/emerson2017/P00146.tsv'\n",
       "146. '/cluster/projects/pughlab/external_data/Adaptive/emerson2017/P00147.tsv'\n",
       "147. '/cluster/projects/pughlab/external_data/Adaptive/emerson2017/P00148.tsv'\n",
       "148. '/cluster/projects/pughlab/external_data/Adaptive/emerson2017/P00149.tsv'\n",
       "149. '/cluster/projects/pughlab/external_data/Adaptive/emerson2017/P00150.tsv'\n",
       "150. '/cluster/projects/pughlab/external_data/Adaptive/emerson2017/P00151.tsv'\n",
       "151. '/cluster/projects/pughlab/external_data/Adaptive/emerson2017/P00152.tsv'\n",
       "152. '/cluster/projects/pughlab/external_data/Adaptive/emerson2017/P00153.tsv'\n",
       "153. '/cluster/projects/pughlab/external_data/Adaptive/emerson2017/P00154.tsv'\n",
       "154. '/cluster/projects/pughlab/external_data/Adaptive/emerson2017/P00155.tsv'\n",
       "155. '/cluster/projects/pughlab/external_data/Adaptive/emerson2017/P00156.tsv'\n",
       "156. '/cluster/projects/pughlab/external_data/Adaptive/emerson2017/P00157.tsv'\n",
       "157. '/cluster/projects/pughlab/external_data/Adaptive/emerson2017/P00158.tsv'\n",
       "158. '/cluster/projects/pughlab/external_data/Adaptive/emerson2017/P00159.tsv'\n",
       "159. '/cluster/projects/pughlab/external_data/Adaptive/emerson2017/P00160.tsv'\n",
       "160. '/cluster/projects/pughlab/external_data/Adaptive/emerson2017/P00161.tsv'\n",
       "161. '/cluster/projects/pughlab/external_data/Adaptive/emerson2017/P00162.tsv'\n",
       "162. '/cluster/projects/pughlab/external_data/Adaptive/emerson2017/P00163.tsv'\n",
       "163. '/cluster/projects/pughlab/external_data/Adaptive/emerson2017/P00164.tsv'\n",
       "164. '/cluster/projects/pughlab/external_data/Adaptive/emerson2017/P00165.tsv'\n",
       "165. '/cluster/projects/pughlab/external_data/Adaptive/emerson2017/P00166.tsv'\n",
       "166. '/cluster/projects/pughlab/external_data/Adaptive/emerson2017/P00167.tsv'\n",
       "167. '/cluster/projects/pughlab/external_data/Adaptive/emerson2017/P00168.tsv'\n",
       "168. '/cluster/projects/pughlab/external_data/Adaptive/emerson2017/P00169.tsv'\n",
       "169. '/cluster/projects/pughlab/external_data/Adaptive/emerson2017/P00170.tsv'\n",
       "170. '/cluster/projects/pughlab/external_data/Adaptive/emerson2017/P00171.tsv'\n",
       "171. '/cluster/projects/pughlab/external_data/Adaptive/emerson2017/P00172.tsv'\n",
       "172. '/cluster/projects/pughlab/external_data/Adaptive/emerson2017/P00173.tsv'\n",
       "173. '/cluster/projects/pughlab/external_data/Adaptive/emerson2017/P00174.tsv'\n",
       "174. '/cluster/projects/pughlab/external_data/Adaptive/emerson2017/P00175.tsv'\n",
       "175. '/cluster/projects/pughlab/external_data/Adaptive/emerson2017/P00176.tsv'\n",
       "176. '/cluster/projects/pughlab/external_data/Adaptive/emerson2017/P00177.tsv'\n",
       "177. '/cluster/projects/pughlab/external_data/Adaptive/emerson2017/P00178.tsv'\n",
       "178. '/cluster/projects/pughlab/external_data/Adaptive/emerson2017/P00179.tsv'\n",
       "179. '/cluster/projects/pughlab/external_data/Adaptive/emerson2017/P00180.tsv'\n",
       "180. '/cluster/projects/pughlab/external_data/Adaptive/emerson2017/P00181.tsv'\n",
       "181. '/cluster/projects/pughlab/external_data/Adaptive/emerson2017/P00182.tsv'\n",
       "182. '/cluster/projects/pughlab/external_data/Adaptive/emerson2017/P00183.tsv'\n",
       "183. '/cluster/projects/pughlab/external_data/Adaptive/emerson2017/P00184.tsv'\n",
       "184. '/cluster/projects/pughlab/external_data/Adaptive/emerson2017/P00185.tsv'\n",
       "185. '/cluster/projects/pughlab/external_data/Adaptive/emerson2017/P00186.tsv'\n",
       "186. '/cluster/projects/pughlab/external_data/Adaptive/emerson2017/P00187.tsv'\n",
       "187. '/cluster/projects/pughlab/external_data/Adaptive/emerson2017/P00188.tsv'\n",
       "188. '/cluster/projects/pughlab/external_data/Adaptive/emerson2017/P00189.tsv'\n",
       "189. '/cluster/projects/pughlab/external_data/Adaptive/emerson2017/P00190.tsv'\n",
       "190. '/cluster/projects/pughlab/external_data/Adaptive/emerson2017/P00191.tsv'\n",
       "191. '/cluster/projects/pughlab/external_data/Adaptive/emerson2017/P00192.tsv'\n",
       "192. '/cluster/projects/pughlab/external_data/Adaptive/emerson2017/P00193.tsv'\n",
       "193. '/cluster/projects/pughlab/external_data/Adaptive/emerson2017/P00194.tsv'\n",
       "194. '/cluster/projects/pughlab/external_data/Adaptive/emerson2017/P00195.tsv'\n",
       "195. '/cluster/projects/pughlab/external_data/Adaptive/emerson2017/P00196.tsv'\n",
       "196. '/cluster/projects/pughlab/external_data/Adaptive/emerson2017/P00197.tsv'\n",
       "197. '/cluster/projects/pughlab/external_data/Adaptive/emerson2017/P00198.tsv'\n",
       "198. '/cluster/projects/pughlab/external_data/Adaptive/emerson2017/P00199.tsv'\n",
       "199. '/cluster/projects/pughlab/external_data/Adaptive/emerson2017/P00200.tsv'\n",
       "200. '/cluster/projects/pughlab/external_data/Adaptive/emerson2017/P00201.tsv'\n",
       "201. ⋯\n",
       "202. '/cluster/projects/pughlab/external_data/Adaptive/emerson2017/P00468.tsv'\n",
       "203. '/cluster/projects/pughlab/external_data/Adaptive/emerson2017/P00469.tsv'\n",
       "204. '/cluster/projects/pughlab/external_data/Adaptive/emerson2017/P00470.tsv'\n",
       "205. '/cluster/projects/pughlab/external_data/Adaptive/emerson2017/P00471.tsv'\n",
       "206. '/cluster/projects/pughlab/external_data/Adaptive/emerson2017/P00472.tsv'\n",
       "207. '/cluster/projects/pughlab/external_data/Adaptive/emerson2017/P00473.tsv'\n",
       "208. '/cluster/projects/pughlab/external_data/Adaptive/emerson2017/P00474.tsv'\n",
       "209. '/cluster/projects/pughlab/external_data/Adaptive/emerson2017/P00475.tsv'\n",
       "210. '/cluster/projects/pughlab/external_data/Adaptive/emerson2017/P00476.tsv'\n",
       "211. '/cluster/projects/pughlab/external_data/Adaptive/emerson2017/P00477.tsv'\n",
       "212. '/cluster/projects/pughlab/external_data/Adaptive/emerson2017/P00478.tsv'\n",
       "213. '/cluster/projects/pughlab/external_data/Adaptive/emerson2017/P00479.tsv'\n",
       "214. '/cluster/projects/pughlab/external_data/Adaptive/emerson2017/P00480.tsv'\n",
       "215. '/cluster/projects/pughlab/external_data/Adaptive/emerson2017/P00481.tsv'\n",
       "216. '/cluster/projects/pughlab/external_data/Adaptive/emerson2017/P00482.tsv'\n",
       "217. '/cluster/projects/pughlab/external_data/Adaptive/emerson2017/P00483.tsv'\n",
       "218. '/cluster/projects/pughlab/external_data/Adaptive/emerson2017/P00484.tsv'\n",
       "219. '/cluster/projects/pughlab/external_data/Adaptive/emerson2017/P00485.tsv'\n",
       "220. '/cluster/projects/pughlab/external_data/Adaptive/emerson2017/P00486.tsv'\n",
       "221. '/cluster/projects/pughlab/external_data/Adaptive/emerson2017/P00487.tsv'\n",
       "222. '/cluster/projects/pughlab/external_data/Adaptive/emerson2017/P00488.tsv'\n",
       "223. '/cluster/projects/pughlab/external_data/Adaptive/emerson2017/P00489.tsv'\n",
       "224. '/cluster/projects/pughlab/external_data/Adaptive/emerson2017/P00490.tsv'\n",
       "225. '/cluster/projects/pughlab/external_data/Adaptive/emerson2017/P00491.tsv'\n",
       "226. '/cluster/projects/pughlab/external_data/Adaptive/emerson2017/P00492.tsv'\n",
       "227. '/cluster/projects/pughlab/external_data/Adaptive/emerson2017/P00493.tsv'\n",
       "228. '/cluster/projects/pughlab/external_data/Adaptive/emerson2017/P00494.tsv'\n",
       "229. '/cluster/projects/pughlab/external_data/Adaptive/emerson2017/P00495.tsv'\n",
       "230. '/cluster/projects/pughlab/external_data/Adaptive/emerson2017/P00496.tsv'\n",
       "231. '/cluster/projects/pughlab/external_data/Adaptive/emerson2017/P00497.tsv'\n",
       "232. '/cluster/projects/pughlab/external_data/Adaptive/emerson2017/P00498.tsv'\n",
       "233. '/cluster/projects/pughlab/external_data/Adaptive/emerson2017/P00499.tsv'\n",
       "234. '/cluster/projects/pughlab/external_data/Adaptive/emerson2017/P00500.tsv'\n",
       "235. '/cluster/projects/pughlab/external_data/Adaptive/emerson2017/P00501.tsv'\n",
       "236. '/cluster/projects/pughlab/external_data/Adaptive/emerson2017/P00502.tsv'\n",
       "237. '/cluster/projects/pughlab/external_data/Adaptive/emerson2017/P00503.tsv'\n",
       "238. '/cluster/projects/pughlab/external_data/Adaptive/emerson2017/P00504.tsv'\n",
       "239. '/cluster/projects/pughlab/external_data/Adaptive/emerson2017/P00505.tsv'\n",
       "240. '/cluster/projects/pughlab/external_data/Adaptive/emerson2017/P00506.tsv'\n",
       "241. '/cluster/projects/pughlab/external_data/Adaptive/emerson2017/P00507.tsv'\n",
       "242. '/cluster/projects/pughlab/external_data/Adaptive/emerson2017/P00508.tsv'\n",
       "243. '/cluster/projects/pughlab/external_data/Adaptive/emerson2017/P00509.tsv'\n",
       "244. '/cluster/projects/pughlab/external_data/Adaptive/emerson2017/P00510.tsv'\n",
       "245. '/cluster/projects/pughlab/external_data/Adaptive/emerson2017/P00511.tsv'\n",
       "246. '/cluster/projects/pughlab/external_data/Adaptive/emerson2017/P00512.tsv'\n",
       "247. '/cluster/projects/pughlab/external_data/Adaptive/emerson2017/P00513.tsv'\n",
       "248. '/cluster/projects/pughlab/external_data/Adaptive/emerson2017/P00514.tsv'\n",
       "249. '/cluster/projects/pughlab/external_data/Adaptive/emerson2017/P00515.tsv'\n",
       "250. '/cluster/projects/pughlab/external_data/Adaptive/emerson2017/P00516.tsv'\n",
       "251. '/cluster/projects/pughlab/external_data/Adaptive/emerson2017/P00517.tsv'\n",
       "252. '/cluster/projects/pughlab/external_data/Adaptive/emerson2017/P00518.tsv'\n",
       "253. '/cluster/projects/pughlab/external_data/Adaptive/emerson2017/P00519.tsv'\n",
       "254. '/cluster/projects/pughlab/external_data/Adaptive/emerson2017/P00520.tsv'\n",
       "255. '/cluster/projects/pughlab/external_data/Adaptive/emerson2017/P00521.tsv'\n",
       "256. '/cluster/projects/pughlab/external_data/Adaptive/emerson2017/P00522.tsv'\n",
       "257. '/cluster/projects/pughlab/external_data/Adaptive/emerson2017/P00523.tsv'\n",
       "258. '/cluster/projects/pughlab/external_data/Adaptive/emerson2017/P00524.tsv'\n",
       "259. '/cluster/projects/pughlab/external_data/Adaptive/emerson2017/P00525.tsv'\n",
       "260. '/cluster/projects/pughlab/external_data/Adaptive/emerson2017/P00526.tsv'\n",
       "261. '/cluster/projects/pughlab/external_data/Adaptive/emerson2017/P00527.tsv'\n",
       "262. '/cluster/projects/pughlab/external_data/Adaptive/emerson2017/P00528.tsv'\n",
       "263. '/cluster/projects/pughlab/external_data/Adaptive/emerson2017/P00529.tsv'\n",
       "264. '/cluster/projects/pughlab/external_data/Adaptive/emerson2017/P00530.tsv'\n",
       "265. '/cluster/projects/pughlab/external_data/Adaptive/emerson2017/P00531.tsv'\n",
       "266. '/cluster/projects/pughlab/external_data/Adaptive/emerson2017/P00532.tsv'\n",
       "267. '/cluster/projects/pughlab/external_data/Adaptive/emerson2017/P00533.tsv'\n",
       "268. '/cluster/projects/pughlab/external_data/Adaptive/emerson2017/P00534.tsv'\n",
       "269. '/cluster/projects/pughlab/external_data/Adaptive/emerson2017/P00535.tsv'\n",
       "270. '/cluster/projects/pughlab/external_data/Adaptive/emerson2017/P00536.tsv'\n",
       "271. '/cluster/projects/pughlab/external_data/Adaptive/emerson2017/P00537.tsv'\n",
       "272. '/cluster/projects/pughlab/external_data/Adaptive/emerson2017/P00538.tsv'\n",
       "273. '/cluster/projects/pughlab/external_data/Adaptive/emerson2017/P00539.tsv'\n",
       "274. '/cluster/projects/pughlab/external_data/Adaptive/emerson2017/P00540.tsv'\n",
       "275. '/cluster/projects/pughlab/external_data/Adaptive/emerson2017/P00541.tsv'\n",
       "276. '/cluster/projects/pughlab/external_data/Adaptive/emerson2017/P00542.tsv'\n",
       "277. '/cluster/projects/pughlab/external_data/Adaptive/emerson2017/P00543.tsv'\n",
       "278. '/cluster/projects/pughlab/external_data/Adaptive/emerson2017/P00544.tsv'\n",
       "279. '/cluster/projects/pughlab/external_data/Adaptive/emerson2017/P00545.tsv'\n",
       "280. '/cluster/projects/pughlab/external_data/Adaptive/emerson2017/P00546.tsv'\n",
       "281. '/cluster/projects/pughlab/external_data/Adaptive/emerson2017/P00547.tsv'\n",
       "282. '/cluster/projects/pughlab/external_data/Adaptive/emerson2017/P00548.tsv'\n",
       "283. '/cluster/projects/pughlab/external_data/Adaptive/emerson2017/P00549.tsv'\n",
       "284. '/cluster/projects/pughlab/external_data/Adaptive/emerson2017/P00550.tsv'\n",
       "285. '/cluster/projects/pughlab/external_data/Adaptive/emerson2017/P00551.tsv'\n",
       "286. '/cluster/projects/pughlab/external_data/Adaptive/emerson2017/P00552.tsv'\n",
       "287. '/cluster/projects/pughlab/external_data/Adaptive/emerson2017/P00553.tsv'\n",
       "288. '/cluster/projects/pughlab/external_data/Adaptive/emerson2017/P00554.tsv'\n",
       "289. '/cluster/projects/pughlab/external_data/Adaptive/emerson2017/P00555.tsv'\n",
       "290. '/cluster/projects/pughlab/external_data/Adaptive/emerson2017/P00556.tsv'\n",
       "291. '/cluster/projects/pughlab/external_data/Adaptive/emerson2017/P00557.tsv'\n",
       "292. '/cluster/projects/pughlab/external_data/Adaptive/emerson2017/P00558.tsv'\n",
       "293. '/cluster/projects/pughlab/external_data/Adaptive/emerson2017/P00559.tsv'\n",
       "294. '/cluster/projects/pughlab/external_data/Adaptive/emerson2017/P00560.tsv'\n",
       "295. '/cluster/projects/pughlab/external_data/Adaptive/emerson2017/P00561.tsv'\n",
       "296. '/cluster/projects/pughlab/external_data/Adaptive/emerson2017/P00562.tsv'\n",
       "297. '/cluster/projects/pughlab/external_data/Adaptive/emerson2017/P00563.tsv'\n",
       "298. '/cluster/projects/pughlab/external_data/Adaptive/emerson2017/P00564.tsv'\n",
       "299. '/cluster/projects/pughlab/external_data/Adaptive/emerson2017/P00565.tsv'\n",
       "300. '/cluster/projects/pughlab/external_data/Adaptive/emerson2017/P00566.tsv'\n",
       "301. '/cluster/projects/pughlab/external_data/Adaptive/emerson2017/P00567.tsv'\n",
       "302. '/cluster/projects/pughlab/external_data/Adaptive/emerson2017/P00568.tsv'\n",
       "303. '/cluster/projects/pughlab/external_data/Adaptive/emerson2017/P00569.tsv'\n",
       "304. '/cluster/projects/pughlab/external_data/Adaptive/emerson2017/P00570.tsv'\n",
       "305. '/cluster/projects/pughlab/external_data/Adaptive/emerson2017/P00571.tsv'\n",
       "306. '/cluster/projects/pughlab/external_data/Adaptive/emerson2017/P00572.tsv'\n",
       "307. '/cluster/projects/pughlab/external_data/Adaptive/emerson2017/P00573.tsv'\n",
       "308. '/cluster/projects/pughlab/external_data/Adaptive/emerson2017/P00574.tsv'\n",
       "309. '/cluster/projects/pughlab/external_data/Adaptive/emerson2017/P00575.tsv'\n",
       "310. '/cluster/projects/pughlab/external_data/Adaptive/emerson2017/P00576.tsv'\n",
       "311. '/cluster/projects/pughlab/external_data/Adaptive/emerson2017/P00577.tsv'\n",
       "312. '/cluster/projects/pughlab/external_data/Adaptive/emerson2017/P00578.tsv'\n",
       "313. '/cluster/projects/pughlab/external_data/Adaptive/emerson2017/P00579.tsv'\n",
       "314. '/cluster/projects/pughlab/external_data/Adaptive/emerson2017/P00580.tsv'\n",
       "315. '/cluster/projects/pughlab/external_data/Adaptive/emerson2017/P00581.tsv'\n",
       "316. '/cluster/projects/pughlab/external_data/Adaptive/emerson2017/P00582.tsv'\n",
       "317. '/cluster/projects/pughlab/external_data/Adaptive/emerson2017/P00583.tsv'\n",
       "318. '/cluster/projects/pughlab/external_data/Adaptive/emerson2017/P00584.tsv'\n",
       "319. '/cluster/projects/pughlab/external_data/Adaptive/emerson2017/P00585.tsv'\n",
       "320. '/cluster/projects/pughlab/external_data/Adaptive/emerson2017/P00586.tsv'\n",
       "321. '/cluster/projects/pughlab/external_data/Adaptive/emerson2017/P00587.tsv'\n",
       "322. '/cluster/projects/pughlab/external_data/Adaptive/emerson2017/P00588.tsv'\n",
       "323. '/cluster/projects/pughlab/external_data/Adaptive/emerson2017/P00589.tsv'\n",
       "324. '/cluster/projects/pughlab/external_data/Adaptive/emerson2017/P00590.tsv'\n",
       "325. '/cluster/projects/pughlab/external_data/Adaptive/emerson2017/P00591.tsv'\n",
       "326. '/cluster/projects/pughlab/external_data/Adaptive/emerson2017/P00592.tsv'\n",
       "327. '/cluster/projects/pughlab/external_data/Adaptive/emerson2017/P00593.tsv'\n",
       "328. '/cluster/projects/pughlab/external_data/Adaptive/emerson2017/P00594.tsv'\n",
       "329. '/cluster/projects/pughlab/external_data/Adaptive/emerson2017/P00595.tsv'\n",
       "330. '/cluster/projects/pughlab/external_data/Adaptive/emerson2017/P00596.tsv'\n",
       "331. '/cluster/projects/pughlab/external_data/Adaptive/emerson2017/P00597.tsv'\n",
       "332. '/cluster/projects/pughlab/external_data/Adaptive/emerson2017/P00598.tsv'\n",
       "333. '/cluster/projects/pughlab/external_data/Adaptive/emerson2017/P00599.tsv'\n",
       "334. '/cluster/projects/pughlab/external_data/Adaptive/emerson2017/P00600.tsv'\n",
       "335. '/cluster/projects/pughlab/external_data/Adaptive/emerson2017/P00601.tsv'\n",
       "336. '/cluster/projects/pughlab/external_data/Adaptive/emerson2017/P00602.tsv'\n",
       "337. '/cluster/projects/pughlab/external_data/Adaptive/emerson2017/P00603.tsv'\n",
       "338. '/cluster/projects/pughlab/external_data/Adaptive/emerson2017/P00604.tsv'\n",
       "339. '/cluster/projects/pughlab/external_data/Adaptive/emerson2017/P00605.tsv'\n",
       "340. '/cluster/projects/pughlab/external_data/Adaptive/emerson2017/P00606.tsv'\n",
       "341. '/cluster/projects/pughlab/external_data/Adaptive/emerson2017/P00607.tsv'\n",
       "342. '/cluster/projects/pughlab/external_data/Adaptive/emerson2017/P00608.tsv'\n",
       "343. '/cluster/projects/pughlab/external_data/Adaptive/emerson2017/P00609.tsv'\n",
       "344. '/cluster/projects/pughlab/external_data/Adaptive/emerson2017/P00610.tsv'\n",
       "345. '/cluster/projects/pughlab/external_data/Adaptive/emerson2017/P00611.tsv'\n",
       "346. '/cluster/projects/pughlab/external_data/Adaptive/emerson2017/P00612.tsv'\n",
       "347. '/cluster/projects/pughlab/external_data/Adaptive/emerson2017/P00613.tsv'\n",
       "348. '/cluster/projects/pughlab/external_data/Adaptive/emerson2017/P00614.tsv'\n",
       "349. '/cluster/projects/pughlab/external_data/Adaptive/emerson2017/P00615.tsv'\n",
       "350. '/cluster/projects/pughlab/external_data/Adaptive/emerson2017/P00616.tsv'\n",
       "351. '/cluster/projects/pughlab/external_data/Adaptive/emerson2017/P00617.tsv'\n",
       "352. '/cluster/projects/pughlab/external_data/Adaptive/emerson2017/P00618.tsv'\n",
       "353. '/cluster/projects/pughlab/external_data/Adaptive/emerson2017/P00619.tsv'\n",
       "354. '/cluster/projects/pughlab/external_data/Adaptive/emerson2017/P00620.tsv'\n",
       "355. '/cluster/projects/pughlab/external_data/Adaptive/emerson2017/P00621.tsv'\n",
       "356. '/cluster/projects/pughlab/external_data/Adaptive/emerson2017/P00622.tsv'\n",
       "357. '/cluster/projects/pughlab/external_data/Adaptive/emerson2017/P00623.tsv'\n",
       "358. '/cluster/projects/pughlab/external_data/Adaptive/emerson2017/P00624.tsv'\n",
       "359. '/cluster/projects/pughlab/external_data/Adaptive/emerson2017/P00625.tsv'\n",
       "360. '/cluster/projects/pughlab/external_data/Adaptive/emerson2017/P00626.tsv'\n",
       "361. '/cluster/projects/pughlab/external_data/Adaptive/emerson2017/P00627.tsv'\n",
       "362. '/cluster/projects/pughlab/external_data/Adaptive/emerson2017/P00628.tsv'\n",
       "363. '/cluster/projects/pughlab/external_data/Adaptive/emerson2017/P00629.tsv'\n",
       "364. '/cluster/projects/pughlab/external_data/Adaptive/emerson2017/P00630.tsv'\n",
       "365. '/cluster/projects/pughlab/external_data/Adaptive/emerson2017/P00631.tsv'\n",
       "366. '/cluster/projects/pughlab/external_data/Adaptive/emerson2017/P00632.tsv'\n",
       "367. '/cluster/projects/pughlab/external_data/Adaptive/emerson2017/P00633.tsv'\n",
       "368. '/cluster/projects/pughlab/external_data/Adaptive/emerson2017/P00634.tsv'\n",
       "369. '/cluster/projects/pughlab/external_data/Adaptive/emerson2017/P00635.tsv'\n",
       "370. '/cluster/projects/pughlab/external_data/Adaptive/emerson2017/P00636.tsv'\n",
       "371. '/cluster/projects/pughlab/external_data/Adaptive/emerson2017/P00637.tsv'\n",
       "372. '/cluster/projects/pughlab/external_data/Adaptive/emerson2017/P00638.tsv'\n",
       "373. '/cluster/projects/pughlab/external_data/Adaptive/emerson2017/P00639.tsv'\n",
       "374. '/cluster/projects/pughlab/external_data/Adaptive/emerson2017/P00640.tsv'\n",
       "375. '/cluster/projects/pughlab/external_data/Adaptive/emerson2017/P00641.tsv'\n",
       "376. '/cluster/projects/pughlab/external_data/Adaptive/emerson2017/P00642.tsv'\n",
       "377. '/cluster/projects/pughlab/external_data/Adaptive/emerson2017/P00643.tsv'\n",
       "378. '/cluster/projects/pughlab/external_data/Adaptive/emerson2017/P00644.tsv'\n",
       "379. '/cluster/projects/pughlab/external_data/Adaptive/emerson2017/P00645.tsv'\n",
       "380. '/cluster/projects/pughlab/external_data/Adaptive/emerson2017/P00646.tsv'\n",
       "381. '/cluster/projects/pughlab/external_data/Adaptive/emerson2017/P00647.tsv'\n",
       "382. '/cluster/projects/pughlab/external_data/Adaptive/emerson2017/P00648.tsv'\n",
       "383. '/cluster/projects/pughlab/external_data/Adaptive/emerson2017/P00649.tsv'\n",
       "384. '/cluster/projects/pughlab/external_data/Adaptive/emerson2017/P00650.tsv'\n",
       "385. '/cluster/projects/pughlab/external_data/Adaptive/emerson2017/P00651.tsv'\n",
       "386. '/cluster/projects/pughlab/external_data/Adaptive/emerson2017/P00652.tsv'\n",
       "387. '/cluster/projects/pughlab/external_data/Adaptive/emerson2017/P00653.tsv'\n",
       "388. '/cluster/projects/pughlab/external_data/Adaptive/emerson2017/P00654.tsv'\n",
       "389. '/cluster/projects/pughlab/external_data/Adaptive/emerson2017/P00655.tsv'\n",
       "390. '/cluster/projects/pughlab/external_data/Adaptive/emerson2017/P00656.tsv'\n",
       "391. '/cluster/projects/pughlab/external_data/Adaptive/emerson2017/P00657.tsv'\n",
       "392. '/cluster/projects/pughlab/external_data/Adaptive/emerson2017/P00658.tsv'\n",
       "393. '/cluster/projects/pughlab/external_data/Adaptive/emerson2017/P00659.tsv'\n",
       "394. '/cluster/projects/pughlab/external_data/Adaptive/emerson2017/P00660.tsv'\n",
       "395. '/cluster/projects/pughlab/external_data/Adaptive/emerson2017/P00661.tsv'\n",
       "396. '/cluster/projects/pughlab/external_data/Adaptive/emerson2017/P00662.tsv'\n",
       "397. '/cluster/projects/pughlab/external_data/Adaptive/emerson2017/P00663.tsv'\n",
       "398. '/cluster/projects/pughlab/external_data/Adaptive/emerson2017/P00665.tsv'\n",
       "399. '/cluster/projects/pughlab/external_data/Adaptive/emerson2017/P00666.tsv'\n",
       "400. '/cluster/projects/pughlab/external_data/Adaptive/emerson2017/P00667.tsv'\n",
       "401. '/cluster/projects/pughlab/external_data/Adaptive/emerson2017/P00668.tsv'\n",
       "\n",
       "\n"
      ],
      "text/plain": [
       "  [1] \"/cluster/projects/pughlab/external_data/Adaptive/emerson2017/P00001.tsv\"\n",
       "  [2] \"/cluster/projects/pughlab/external_data/Adaptive/emerson2017/P00002.tsv\"\n",
       "  [3] \"/cluster/projects/pughlab/external_data/Adaptive/emerson2017/P00003.tsv\"\n",
       "  [4] \"/cluster/projects/pughlab/external_data/Adaptive/emerson2017/P00004.tsv\"\n",
       "  [5] \"/cluster/projects/pughlab/external_data/Adaptive/emerson2017/P00005.tsv\"\n",
       "  [6] \"/cluster/projects/pughlab/external_data/Adaptive/emerson2017/P00006.tsv\"\n",
       "  [7] \"/cluster/projects/pughlab/external_data/Adaptive/emerson2017/P00007.tsv\"\n",
       "  [8] \"/cluster/projects/pughlab/external_data/Adaptive/emerson2017/P00008.tsv\"\n",
       "  [9] \"/cluster/projects/pughlab/external_data/Adaptive/emerson2017/P00009.tsv\"\n",
       " [10] \"/cluster/projects/pughlab/external_data/Adaptive/emerson2017/P00010.tsv\"\n",
       " [11] \"/cluster/projects/pughlab/external_data/Adaptive/emerson2017/P00011.tsv\"\n",
       " [12] \"/cluster/projects/pughlab/external_data/Adaptive/emerson2017/P00012.tsv\"\n",
       " [13] \"/cluster/projects/pughlab/external_data/Adaptive/emerson2017/P00013.tsv\"\n",
       " [14] \"/cluster/projects/pughlab/external_data/Adaptive/emerson2017/P00014.tsv\"\n",
       " [15] \"/cluster/projects/pughlab/external_data/Adaptive/emerson2017/P00015.tsv\"\n",
       " [16] \"/cluster/projects/pughlab/external_data/Adaptive/emerson2017/P00016.tsv\"\n",
       " [17] \"/cluster/projects/pughlab/external_data/Adaptive/emerson2017/P00017.tsv\"\n",
       " [18] \"/cluster/projects/pughlab/external_data/Adaptive/emerson2017/P00018.tsv\"\n",
       " [19] \"/cluster/projects/pughlab/external_data/Adaptive/emerson2017/P00019.tsv\"\n",
       " [20] \"/cluster/projects/pughlab/external_data/Adaptive/emerson2017/P00020.tsv\"\n",
       " [21] \"/cluster/projects/pughlab/external_data/Adaptive/emerson2017/P00021.tsv\"\n",
       " [22] \"/cluster/projects/pughlab/external_data/Adaptive/emerson2017/P00022.tsv\"\n",
       " [23] \"/cluster/projects/pughlab/external_data/Adaptive/emerson2017/P00023.tsv\"\n",
       " [24] \"/cluster/projects/pughlab/external_data/Adaptive/emerson2017/P00024.tsv\"\n",
       " [25] \"/cluster/projects/pughlab/external_data/Adaptive/emerson2017/P00025.tsv\"\n",
       " [26] \"/cluster/projects/pughlab/external_data/Adaptive/emerson2017/P00026.tsv\"\n",
       " [27] \"/cluster/projects/pughlab/external_data/Adaptive/emerson2017/P00027.tsv\"\n",
       " [28] \"/cluster/projects/pughlab/external_data/Adaptive/emerson2017/P00028.tsv\"\n",
       " [29] \"/cluster/projects/pughlab/external_data/Adaptive/emerson2017/P00029.tsv\"\n",
       " [30] \"/cluster/projects/pughlab/external_data/Adaptive/emerson2017/P00030.tsv\"\n",
       " [31] \"/cluster/projects/pughlab/external_data/Adaptive/emerson2017/P00031.tsv\"\n",
       " [32] \"/cluster/projects/pughlab/external_data/Adaptive/emerson2017/P00032.tsv\"\n",
       " [33] \"/cluster/projects/pughlab/external_data/Adaptive/emerson2017/P00033.tsv\"\n",
       " [34] \"/cluster/projects/pughlab/external_data/Adaptive/emerson2017/P00034.tsv\"\n",
       " [35] \"/cluster/projects/pughlab/external_data/Adaptive/emerson2017/P00035.tsv\"\n",
       " [36] \"/cluster/projects/pughlab/external_data/Adaptive/emerson2017/P00036.tsv\"\n",
       " [37] \"/cluster/projects/pughlab/external_data/Adaptive/emerson2017/P00037.tsv\"\n",
       " [38] \"/cluster/projects/pughlab/external_data/Adaptive/emerson2017/P00038.tsv\"\n",
       " [39] \"/cluster/projects/pughlab/external_data/Adaptive/emerson2017/P00039.tsv\"\n",
       " [40] \"/cluster/projects/pughlab/external_data/Adaptive/emerson2017/P00040.tsv\"\n",
       " [41] \"/cluster/projects/pughlab/external_data/Adaptive/emerson2017/P00041.tsv\"\n",
       " [42] \"/cluster/projects/pughlab/external_data/Adaptive/emerson2017/P00042.tsv\"\n",
       " [43] \"/cluster/projects/pughlab/external_data/Adaptive/emerson2017/P00043.tsv\"\n",
       " [44] \"/cluster/projects/pughlab/external_data/Adaptive/emerson2017/P00044.tsv\"\n",
       " [45] \"/cluster/projects/pughlab/external_data/Adaptive/emerson2017/P00045.tsv\"\n",
       " [46] \"/cluster/projects/pughlab/external_data/Adaptive/emerson2017/P00046.tsv\"\n",
       " [47] \"/cluster/projects/pughlab/external_data/Adaptive/emerson2017/P00047.tsv\"\n",
       " [48] \"/cluster/projects/pughlab/external_data/Adaptive/emerson2017/P00048.tsv\"\n",
       " [49] \"/cluster/projects/pughlab/external_data/Adaptive/emerson2017/P00049.tsv\"\n",
       " [50] \"/cluster/projects/pughlab/external_data/Adaptive/emerson2017/P00050.tsv\"\n",
       " [51] \"/cluster/projects/pughlab/external_data/Adaptive/emerson2017/P00051.tsv\"\n",
       " [52] \"/cluster/projects/pughlab/external_data/Adaptive/emerson2017/P00052.tsv\"\n",
       " [53] \"/cluster/projects/pughlab/external_data/Adaptive/emerson2017/P00053.tsv\"\n",
       " [54] \"/cluster/projects/pughlab/external_data/Adaptive/emerson2017/P00054.tsv\"\n",
       " [55] \"/cluster/projects/pughlab/external_data/Adaptive/emerson2017/P00055.tsv\"\n",
       " [56] \"/cluster/projects/pughlab/external_data/Adaptive/emerson2017/P00056.tsv\"\n",
       " [57] \"/cluster/projects/pughlab/external_data/Adaptive/emerson2017/P00057.tsv\"\n",
       " [58] \"/cluster/projects/pughlab/external_data/Adaptive/emerson2017/P00058.tsv\"\n",
       " [59] \"/cluster/projects/pughlab/external_data/Adaptive/emerson2017/P00059.tsv\"\n",
       " [60] \"/cluster/projects/pughlab/external_data/Adaptive/emerson2017/P00060.tsv\"\n",
       " [61] \"/cluster/projects/pughlab/external_data/Adaptive/emerson2017/P00061.tsv\"\n",
       " [62] \"/cluster/projects/pughlab/external_data/Adaptive/emerson2017/P00062.tsv\"\n",
       " [63] \"/cluster/projects/pughlab/external_data/Adaptive/emerson2017/P00063.tsv\"\n",
       " [64] \"/cluster/projects/pughlab/external_data/Adaptive/emerson2017/P00064.tsv\"\n",
       " [65] \"/cluster/projects/pughlab/external_data/Adaptive/emerson2017/P00065.tsv\"\n",
       " [66] \"/cluster/projects/pughlab/external_data/Adaptive/emerson2017/P00066.tsv\"\n",
       " [67] \"/cluster/projects/pughlab/external_data/Adaptive/emerson2017/P00067.tsv\"\n",
       " [68] \"/cluster/projects/pughlab/external_data/Adaptive/emerson2017/P00068.tsv\"\n",
       " [69] \"/cluster/projects/pughlab/external_data/Adaptive/emerson2017/P00069.tsv\"\n",
       " [70] \"/cluster/projects/pughlab/external_data/Adaptive/emerson2017/P00070.tsv\"\n",
       " [71] \"/cluster/projects/pughlab/external_data/Adaptive/emerson2017/P00071.tsv\"\n",
       " [72] \"/cluster/projects/pughlab/external_data/Adaptive/emerson2017/P00072.tsv\"\n",
       " [73] \"/cluster/projects/pughlab/external_data/Adaptive/emerson2017/P00073.tsv\"\n",
       " [74] \"/cluster/projects/pughlab/external_data/Adaptive/emerson2017/P00074.tsv\"\n",
       " [75] \"/cluster/projects/pughlab/external_data/Adaptive/emerson2017/P00075.tsv\"\n",
       " [76] \"/cluster/projects/pughlab/external_data/Adaptive/emerson2017/P00076.tsv\"\n",
       " [77] \"/cluster/projects/pughlab/external_data/Adaptive/emerson2017/P00077.tsv\"\n",
       " [78] \"/cluster/projects/pughlab/external_data/Adaptive/emerson2017/P00078.tsv\"\n",
       " [79] \"/cluster/projects/pughlab/external_data/Adaptive/emerson2017/P00079.tsv\"\n",
       " [80] \"/cluster/projects/pughlab/external_data/Adaptive/emerson2017/P00080.tsv\"\n",
       " [81] \"/cluster/projects/pughlab/external_data/Adaptive/emerson2017/P00081.tsv\"\n",
       " [82] \"/cluster/projects/pughlab/external_data/Adaptive/emerson2017/P00083.tsv\"\n",
       " [83] \"/cluster/projects/pughlab/external_data/Adaptive/emerson2017/P00084.tsv\"\n",
       " [84] \"/cluster/projects/pughlab/external_data/Adaptive/emerson2017/P00085.tsv\"\n",
       " [85] \"/cluster/projects/pughlab/external_data/Adaptive/emerson2017/P00086.tsv\"\n",
       " [86] \"/cluster/projects/pughlab/external_data/Adaptive/emerson2017/P00087.tsv\"\n",
       " [87] \"/cluster/projects/pughlab/external_data/Adaptive/emerson2017/P00088.tsv\"\n",
       " [88] \"/cluster/projects/pughlab/external_data/Adaptive/emerson2017/P00089.tsv\"\n",
       " [89] \"/cluster/projects/pughlab/external_data/Adaptive/emerson2017/P00090.tsv\"\n",
       " [90] \"/cluster/projects/pughlab/external_data/Adaptive/emerson2017/P00091.tsv\"\n",
       " [91] \"/cluster/projects/pughlab/external_data/Adaptive/emerson2017/P00092.tsv\"\n",
       " [92] \"/cluster/projects/pughlab/external_data/Adaptive/emerson2017/P00093.tsv\"\n",
       " [93] \"/cluster/projects/pughlab/external_data/Adaptive/emerson2017/P00094.tsv\"\n",
       " [94] \"/cluster/projects/pughlab/external_data/Adaptive/emerson2017/P00095.tsv\"\n",
       " [95] \"/cluster/projects/pughlab/external_data/Adaptive/emerson2017/P00096.tsv\"\n",
       " [96] \"/cluster/projects/pughlab/external_data/Adaptive/emerson2017/P00097.tsv\"\n",
       " [97] \"/cluster/projects/pughlab/external_data/Adaptive/emerson2017/P00098.tsv\"\n",
       " [98] \"/cluster/projects/pughlab/external_data/Adaptive/emerson2017/P00099.tsv\"\n",
       " [99] \"/cluster/projects/pughlab/external_data/Adaptive/emerson2017/P00100.tsv\"\n",
       "[100] \"/cluster/projects/pughlab/external_data/Adaptive/emerson2017/P00101.tsv\"\n",
       "[101] \"/cluster/projects/pughlab/external_data/Adaptive/emerson2017/P00102.tsv\"\n",
       "[102] \"/cluster/projects/pughlab/external_data/Adaptive/emerson2017/P00103.tsv\"\n",
       "[103] \"/cluster/projects/pughlab/external_data/Adaptive/emerson2017/P00104.tsv\"\n",
       "[104] \"/cluster/projects/pughlab/external_data/Adaptive/emerson2017/P00105.tsv\"\n",
       "[105] \"/cluster/projects/pughlab/external_data/Adaptive/emerson2017/P00106.tsv\"\n",
       "[106] \"/cluster/projects/pughlab/external_data/Adaptive/emerson2017/P00107.tsv\"\n",
       "[107] \"/cluster/projects/pughlab/external_data/Adaptive/emerson2017/P00108.tsv\"\n",
       "[108] \"/cluster/projects/pughlab/external_data/Adaptive/emerson2017/P00109.tsv\"\n",
       "[109] \"/cluster/projects/pughlab/external_data/Adaptive/emerson2017/P00110.tsv\"\n",
       "[110] \"/cluster/projects/pughlab/external_data/Adaptive/emerson2017/P00111.tsv\"\n",
       "[111] \"/cluster/projects/pughlab/external_data/Adaptive/emerson2017/P00112.tsv\"\n",
       "[112] \"/cluster/projects/pughlab/external_data/Adaptive/emerson2017/P00113.tsv\"\n",
       "[113] \"/cluster/projects/pughlab/external_data/Adaptive/emerson2017/P00114.tsv\"\n",
       "[114] \"/cluster/projects/pughlab/external_data/Adaptive/emerson2017/P00115.tsv\"\n",
       "[115] \"/cluster/projects/pughlab/external_data/Adaptive/emerson2017/P00116.tsv\"\n",
       "[116] \"/cluster/projects/pughlab/external_data/Adaptive/emerson2017/P00117.tsv\"\n",
       "[117] \"/cluster/projects/pughlab/external_data/Adaptive/emerson2017/P00118.tsv\"\n",
       "[118] \"/cluster/projects/pughlab/external_data/Adaptive/emerson2017/P00119.tsv\"\n",
       "[119] \"/cluster/projects/pughlab/external_data/Adaptive/emerson2017/P00120.tsv\"\n",
       "[120] \"/cluster/projects/pughlab/external_data/Adaptive/emerson2017/P00121.tsv\"\n",
       "[121] \"/cluster/projects/pughlab/external_data/Adaptive/emerson2017/P00122.tsv\"\n",
       "[122] \"/cluster/projects/pughlab/external_data/Adaptive/emerson2017/P00123.tsv\"\n",
       "[123] \"/cluster/projects/pughlab/external_data/Adaptive/emerson2017/P00124.tsv\"\n",
       "[124] \"/cluster/projects/pughlab/external_data/Adaptive/emerson2017/P00125.tsv\"\n",
       "[125] \"/cluster/projects/pughlab/external_data/Adaptive/emerson2017/P00126.tsv\"\n",
       "[126] \"/cluster/projects/pughlab/external_data/Adaptive/emerson2017/P00127.tsv\"\n",
       "[127] \"/cluster/projects/pughlab/external_data/Adaptive/emerson2017/P00128.tsv\"\n",
       "[128] \"/cluster/projects/pughlab/external_data/Adaptive/emerson2017/P00129.tsv\"\n",
       "[129] \"/cluster/projects/pughlab/external_data/Adaptive/emerson2017/P00130.tsv\"\n",
       "[130] \"/cluster/projects/pughlab/external_data/Adaptive/emerson2017/P00131.tsv\"\n",
       "[131] \"/cluster/projects/pughlab/external_data/Adaptive/emerson2017/P00132.tsv\"\n",
       "[132] \"/cluster/projects/pughlab/external_data/Adaptive/emerson2017/P00133.tsv\"\n",
       "[133] \"/cluster/projects/pughlab/external_data/Adaptive/emerson2017/P00134.tsv\"\n",
       "[134] \"/cluster/projects/pughlab/external_data/Adaptive/emerson2017/P00135.tsv\"\n",
       "[135] \"/cluster/projects/pughlab/external_data/Adaptive/emerson2017/P00136.tsv\"\n",
       "[136] \"/cluster/projects/pughlab/external_data/Adaptive/emerson2017/P00137.tsv\"\n",
       "[137] \"/cluster/projects/pughlab/external_data/Adaptive/emerson2017/P00138.tsv\"\n",
       "[138] \"/cluster/projects/pughlab/external_data/Adaptive/emerson2017/P00139.tsv\"\n",
       "[139] \"/cluster/projects/pughlab/external_data/Adaptive/emerson2017/P00140.tsv\"\n",
       "[140] \"/cluster/projects/pughlab/external_data/Adaptive/emerson2017/P00141.tsv\"\n",
       "[141] \"/cluster/projects/pughlab/external_data/Adaptive/emerson2017/P00142.tsv\"\n",
       "[142] \"/cluster/projects/pughlab/external_data/Adaptive/emerson2017/P00143.tsv\"\n",
       "[143] \"/cluster/projects/pughlab/external_data/Adaptive/emerson2017/P00144.tsv\"\n",
       "[144] \"/cluster/projects/pughlab/external_data/Adaptive/emerson2017/P00145.tsv\"\n",
       "[145] \"/cluster/projects/pughlab/external_data/Adaptive/emerson2017/P00146.tsv\"\n",
       "[146] \"/cluster/projects/pughlab/external_data/Adaptive/emerson2017/P00147.tsv\"\n",
       "[147] \"/cluster/projects/pughlab/external_data/Adaptive/emerson2017/P00148.tsv\"\n",
       "[148] \"/cluster/projects/pughlab/external_data/Adaptive/emerson2017/P00149.tsv\"\n",
       "[149] \"/cluster/projects/pughlab/external_data/Adaptive/emerson2017/P00150.tsv\"\n",
       "[150] \"/cluster/projects/pughlab/external_data/Adaptive/emerson2017/P00151.tsv\"\n",
       "[151] \"/cluster/projects/pughlab/external_data/Adaptive/emerson2017/P00152.tsv\"\n",
       "[152] \"/cluster/projects/pughlab/external_data/Adaptive/emerson2017/P00153.tsv\"\n",
       "[153] \"/cluster/projects/pughlab/external_data/Adaptive/emerson2017/P00154.tsv\"\n",
       "[154] \"/cluster/projects/pughlab/external_data/Adaptive/emerson2017/P00155.tsv\"\n",
       "[155] \"/cluster/projects/pughlab/external_data/Adaptive/emerson2017/P00156.tsv\"\n",
       "[156] \"/cluster/projects/pughlab/external_data/Adaptive/emerson2017/P00157.tsv\"\n",
       "[157] \"/cluster/projects/pughlab/external_data/Adaptive/emerson2017/P00158.tsv\"\n",
       "[158] \"/cluster/projects/pughlab/external_data/Adaptive/emerson2017/P00159.tsv\"\n",
       "[159] \"/cluster/projects/pughlab/external_data/Adaptive/emerson2017/P00160.tsv\"\n",
       "[160] \"/cluster/projects/pughlab/external_data/Adaptive/emerson2017/P00161.tsv\"\n",
       "[161] \"/cluster/projects/pughlab/external_data/Adaptive/emerson2017/P00162.tsv\"\n",
       "[162] \"/cluster/projects/pughlab/external_data/Adaptive/emerson2017/P00163.tsv\"\n",
       "[163] \"/cluster/projects/pughlab/external_data/Adaptive/emerson2017/P00164.tsv\"\n",
       "[164] \"/cluster/projects/pughlab/external_data/Adaptive/emerson2017/P00165.tsv\"\n",
       "[165] \"/cluster/projects/pughlab/external_data/Adaptive/emerson2017/P00166.tsv\"\n",
       "[166] \"/cluster/projects/pughlab/external_data/Adaptive/emerson2017/P00167.tsv\"\n",
       "[167] \"/cluster/projects/pughlab/external_data/Adaptive/emerson2017/P00168.tsv\"\n",
       "[168] \"/cluster/projects/pughlab/external_data/Adaptive/emerson2017/P00169.tsv\"\n",
       "[169] \"/cluster/projects/pughlab/external_data/Adaptive/emerson2017/P00170.tsv\"\n",
       "[170] \"/cluster/projects/pughlab/external_data/Adaptive/emerson2017/P00171.tsv\"\n",
       "[171] \"/cluster/projects/pughlab/external_data/Adaptive/emerson2017/P00172.tsv\"\n",
       "[172] \"/cluster/projects/pughlab/external_data/Adaptive/emerson2017/P00173.tsv\"\n",
       "[173] \"/cluster/projects/pughlab/external_data/Adaptive/emerson2017/P00174.tsv\"\n",
       "[174] \"/cluster/projects/pughlab/external_data/Adaptive/emerson2017/P00175.tsv\"\n",
       "[175] \"/cluster/projects/pughlab/external_data/Adaptive/emerson2017/P00176.tsv\"\n",
       "[176] \"/cluster/projects/pughlab/external_data/Adaptive/emerson2017/P00177.tsv\"\n",
       "[177] \"/cluster/projects/pughlab/external_data/Adaptive/emerson2017/P00178.tsv\"\n",
       "[178] \"/cluster/projects/pughlab/external_data/Adaptive/emerson2017/P00179.tsv\"\n",
       "[179] \"/cluster/projects/pughlab/external_data/Adaptive/emerson2017/P00180.tsv\"\n",
       "[180] \"/cluster/projects/pughlab/external_data/Adaptive/emerson2017/P00181.tsv\"\n",
       "[181] \"/cluster/projects/pughlab/external_data/Adaptive/emerson2017/P00182.tsv\"\n",
       "[182] \"/cluster/projects/pughlab/external_data/Adaptive/emerson2017/P00183.tsv\"\n",
       "[183] \"/cluster/projects/pughlab/external_data/Adaptive/emerson2017/P00184.tsv\"\n",
       "[184] \"/cluster/projects/pughlab/external_data/Adaptive/emerson2017/P00185.tsv\"\n",
       "[185] \"/cluster/projects/pughlab/external_data/Adaptive/emerson2017/P00186.tsv\"\n",
       "[186] \"/cluster/projects/pughlab/external_data/Adaptive/emerson2017/P00187.tsv\"\n",
       "[187] \"/cluster/projects/pughlab/external_data/Adaptive/emerson2017/P00188.tsv\"\n",
       "[188] \"/cluster/projects/pughlab/external_data/Adaptive/emerson2017/P00189.tsv\"\n",
       "[189] \"/cluster/projects/pughlab/external_data/Adaptive/emerson2017/P00190.tsv\"\n",
       "[190] \"/cluster/projects/pughlab/external_data/Adaptive/emerson2017/P00191.tsv\"\n",
       "[191] \"/cluster/projects/pughlab/external_data/Adaptive/emerson2017/P00192.tsv\"\n",
       "[192] \"/cluster/projects/pughlab/external_data/Adaptive/emerson2017/P00193.tsv\"\n",
       "[193] \"/cluster/projects/pughlab/external_data/Adaptive/emerson2017/P00194.tsv\"\n",
       "[194] \"/cluster/projects/pughlab/external_data/Adaptive/emerson2017/P00195.tsv\"\n",
       "[195] \"/cluster/projects/pughlab/external_data/Adaptive/emerson2017/P00196.tsv\"\n",
       "[196] \"/cluster/projects/pughlab/external_data/Adaptive/emerson2017/P00197.tsv\"\n",
       "[197] \"/cluster/projects/pughlab/external_data/Adaptive/emerson2017/P00198.tsv\"\n",
       "[198] \"/cluster/projects/pughlab/external_data/Adaptive/emerson2017/P00199.tsv\"\n",
       "[199] \"/cluster/projects/pughlab/external_data/Adaptive/emerson2017/P00200.tsv\"\n",
       "[200] \"/cluster/projects/pughlab/external_data/Adaptive/emerson2017/P00201.tsv\"\n",
       "[201] \"/cluster/projects/pughlab/external_data/Adaptive/emerson2017/P00202.tsv\"\n",
       "[202] \"/cluster/projects/pughlab/external_data/Adaptive/emerson2017/P00203.tsv\"\n",
       "[203] \"/cluster/projects/pughlab/external_data/Adaptive/emerson2017/P00204.tsv\"\n",
       "[204] \"/cluster/projects/pughlab/external_data/Adaptive/emerson2017/P00205.tsv\"\n",
       "[205] \"/cluster/projects/pughlab/external_data/Adaptive/emerson2017/P00206.tsv\"\n",
       "[206] \"/cluster/projects/pughlab/external_data/Adaptive/emerson2017/P00207.tsv\"\n",
       "[207] \"/cluster/projects/pughlab/external_data/Adaptive/emerson2017/P00208.tsv\"\n",
       "[208] \"/cluster/projects/pughlab/external_data/Adaptive/emerson2017/P00209.tsv\"\n",
       "[209] \"/cluster/projects/pughlab/external_data/Adaptive/emerson2017/P00210.tsv\"\n",
       "[210] \"/cluster/projects/pughlab/external_data/Adaptive/emerson2017/P00211.tsv\"\n",
       "[211] \"/cluster/projects/pughlab/external_data/Adaptive/emerson2017/P00212.tsv\"\n",
       "[212] \"/cluster/projects/pughlab/external_data/Adaptive/emerson2017/P00213.tsv\"\n",
       "[213] \"/cluster/projects/pughlab/external_data/Adaptive/emerson2017/P00214.tsv\"\n",
       "[214] \"/cluster/projects/pughlab/external_data/Adaptive/emerson2017/P00215.tsv\"\n",
       "[215] \"/cluster/projects/pughlab/external_data/Adaptive/emerson2017/P00216.tsv\"\n",
       "[216] \"/cluster/projects/pughlab/external_data/Adaptive/emerson2017/P00217.tsv\"\n",
       "[217] \"/cluster/projects/pughlab/external_data/Adaptive/emerson2017/P00218.tsv\"\n",
       "[218] \"/cluster/projects/pughlab/external_data/Adaptive/emerson2017/P00219.tsv\"\n",
       "[219] \"/cluster/projects/pughlab/external_data/Adaptive/emerson2017/P00220.tsv\"\n",
       "[220] \"/cluster/projects/pughlab/external_data/Adaptive/emerson2017/P00221.tsv\"\n",
       "[221] \"/cluster/projects/pughlab/external_data/Adaptive/emerson2017/P00222.tsv\"\n",
       "[222] \"/cluster/projects/pughlab/external_data/Adaptive/emerson2017/P00223.tsv\"\n",
       "[223] \"/cluster/projects/pughlab/external_data/Adaptive/emerson2017/P00224.tsv\"\n",
       "[224] \"/cluster/projects/pughlab/external_data/Adaptive/emerson2017/P00225.tsv\"\n",
       "[225] \"/cluster/projects/pughlab/external_data/Adaptive/emerson2017/P00226.tsv\"\n",
       "[226] \"/cluster/projects/pughlab/external_data/Adaptive/emerson2017/P00227.tsv\"\n",
       "[227] \"/cluster/projects/pughlab/external_data/Adaptive/emerson2017/P00228.tsv\"\n",
       "[228] \"/cluster/projects/pughlab/external_data/Adaptive/emerson2017/P00229.tsv\"\n",
       "[229] \"/cluster/projects/pughlab/external_data/Adaptive/emerson2017/P00230.tsv\"\n",
       "[230] \"/cluster/projects/pughlab/external_data/Adaptive/emerson2017/P00231.tsv\"\n",
       "[231] \"/cluster/projects/pughlab/external_data/Adaptive/emerson2017/P00232.tsv\"\n",
       "[232] \"/cluster/projects/pughlab/external_data/Adaptive/emerson2017/P00233.tsv\"\n",
       "[233] \"/cluster/projects/pughlab/external_data/Adaptive/emerson2017/P00234.tsv\"\n",
       "[234] \"/cluster/projects/pughlab/external_data/Adaptive/emerson2017/P00235.tsv\"\n",
       "[235] \"/cluster/projects/pughlab/external_data/Adaptive/emerson2017/P00236.tsv\"\n",
       "[236] \"/cluster/projects/pughlab/external_data/Adaptive/emerson2017/P00237.tsv\"\n",
       "[237] \"/cluster/projects/pughlab/external_data/Adaptive/emerson2017/P00238.tsv\"\n",
       "[238] \"/cluster/projects/pughlab/external_data/Adaptive/emerson2017/P00239.tsv\"\n",
       "[239] \"/cluster/projects/pughlab/external_data/Adaptive/emerson2017/P00240.tsv\"\n",
       "[240] \"/cluster/projects/pughlab/external_data/Adaptive/emerson2017/P00241.tsv\"\n",
       "[241] \"/cluster/projects/pughlab/external_data/Adaptive/emerson2017/P00242.tsv\"\n",
       "[242] \"/cluster/projects/pughlab/external_data/Adaptive/emerson2017/P00243.tsv\"\n",
       "[243] \"/cluster/projects/pughlab/external_data/Adaptive/emerson2017/P00244.tsv\"\n",
       "[244] \"/cluster/projects/pughlab/external_data/Adaptive/emerson2017/P00245.tsv\"\n",
       "[245] \"/cluster/projects/pughlab/external_data/Adaptive/emerson2017/P00246.tsv\"\n",
       "[246] \"/cluster/projects/pughlab/external_data/Adaptive/emerson2017/P00247.tsv\"\n",
       "[247] \"/cluster/projects/pughlab/external_data/Adaptive/emerson2017/P00248.tsv\"\n",
       "[248] \"/cluster/projects/pughlab/external_data/Adaptive/emerson2017/P00249.tsv\"\n",
       "[249] \"/cluster/projects/pughlab/external_data/Adaptive/emerson2017/P00250.tsv\"\n",
       "[250] \"/cluster/projects/pughlab/external_data/Adaptive/emerson2017/P00251.tsv\"\n",
       "[251] \"/cluster/projects/pughlab/external_data/Adaptive/emerson2017/P00252.tsv\"\n",
       "[252] \"/cluster/projects/pughlab/external_data/Adaptive/emerson2017/P00253.tsv\"\n",
       "[253] \"/cluster/projects/pughlab/external_data/Adaptive/emerson2017/P00254.tsv\"\n",
       "[254] \"/cluster/projects/pughlab/external_data/Adaptive/emerson2017/P00255.tsv\"\n",
       "[255] \"/cluster/projects/pughlab/external_data/Adaptive/emerson2017/P00256.tsv\"\n",
       "[256] \"/cluster/projects/pughlab/external_data/Adaptive/emerson2017/P00257.tsv\"\n",
       "[257] \"/cluster/projects/pughlab/external_data/Adaptive/emerson2017/P00258.tsv\"\n",
       "[258] \"/cluster/projects/pughlab/external_data/Adaptive/emerson2017/P00259.tsv\"\n",
       "[259] \"/cluster/projects/pughlab/external_data/Adaptive/emerson2017/P00260.tsv\"\n",
       "[260] \"/cluster/projects/pughlab/external_data/Adaptive/emerson2017/P00261.tsv\"\n",
       "[261] \"/cluster/projects/pughlab/external_data/Adaptive/emerson2017/P00262.tsv\"\n",
       "[262] \"/cluster/projects/pughlab/external_data/Adaptive/emerson2017/P00263.tsv\"\n",
       "[263] \"/cluster/projects/pughlab/external_data/Adaptive/emerson2017/P00264.tsv\"\n",
       "[264] \"/cluster/projects/pughlab/external_data/Adaptive/emerson2017/P00265.tsv\"\n",
       "[265] \"/cluster/projects/pughlab/external_data/Adaptive/emerson2017/P00266.tsv\"\n",
       "[266] \"/cluster/projects/pughlab/external_data/Adaptive/emerson2017/P00267.tsv\"\n",
       "[267] \"/cluster/projects/pughlab/external_data/Adaptive/emerson2017/P00268.tsv\"\n",
       "[268] \"/cluster/projects/pughlab/external_data/Adaptive/emerson2017/P00269.tsv\"\n",
       "[269] \"/cluster/projects/pughlab/external_data/Adaptive/emerson2017/P00270.tsv\"\n",
       "[270] \"/cluster/projects/pughlab/external_data/Adaptive/emerson2017/P00271.tsv\"\n",
       "[271] \"/cluster/projects/pughlab/external_data/Adaptive/emerson2017/P00272.tsv\"\n",
       "[272] \"/cluster/projects/pughlab/external_data/Adaptive/emerson2017/P00273.tsv\"\n",
       "[273] \"/cluster/projects/pughlab/external_data/Adaptive/emerson2017/P00274.tsv\"\n",
       "[274] \"/cluster/projects/pughlab/external_data/Adaptive/emerson2017/P00275.tsv\"\n",
       "[275] \"/cluster/projects/pughlab/external_data/Adaptive/emerson2017/P00276.tsv\"\n",
       "[276] \"/cluster/projects/pughlab/external_data/Adaptive/emerson2017/P00277.tsv\"\n",
       "[277] \"/cluster/projects/pughlab/external_data/Adaptive/emerson2017/P00278.tsv\"\n",
       "[278] \"/cluster/projects/pughlab/external_data/Adaptive/emerson2017/P00279.tsv\"\n",
       "[279] \"/cluster/projects/pughlab/external_data/Adaptive/emerson2017/P00280.tsv\"\n",
       "[280] \"/cluster/projects/pughlab/external_data/Adaptive/emerson2017/P00281.tsv\"\n",
       "[281] \"/cluster/projects/pughlab/external_data/Adaptive/emerson2017/P00282.tsv\"\n",
       "[282] \"/cluster/projects/pughlab/external_data/Adaptive/emerson2017/P00283.tsv\"\n",
       "[283] \"/cluster/projects/pughlab/external_data/Adaptive/emerson2017/P00284.tsv\"\n",
       "[284] \"/cluster/projects/pughlab/external_data/Adaptive/emerson2017/P00285.tsv\"\n",
       "[285] \"/cluster/projects/pughlab/external_data/Adaptive/emerson2017/P00286.tsv\"\n",
       "[286] \"/cluster/projects/pughlab/external_data/Adaptive/emerson2017/P00287.tsv\"\n",
       "[287] \"/cluster/projects/pughlab/external_data/Adaptive/emerson2017/P00288.tsv\"\n",
       "[288] \"/cluster/projects/pughlab/external_data/Adaptive/emerson2017/P00289.tsv\"\n",
       "[289] \"/cluster/projects/pughlab/external_data/Adaptive/emerson2017/P00290.tsv\"\n",
       "[290] \"/cluster/projects/pughlab/external_data/Adaptive/emerson2017/P00291.tsv\"\n",
       "[291] \"/cluster/projects/pughlab/external_data/Adaptive/emerson2017/P00292.tsv\"\n",
       "[292] \"/cluster/projects/pughlab/external_data/Adaptive/emerson2017/P00293.tsv\"\n",
       "[293] \"/cluster/projects/pughlab/external_data/Adaptive/emerson2017/P00294.tsv\"\n",
       "[294] \"/cluster/projects/pughlab/external_data/Adaptive/emerson2017/P00295.tsv\"\n",
       "[295] \"/cluster/projects/pughlab/external_data/Adaptive/emerson2017/P00296.tsv\"\n",
       "[296] \"/cluster/projects/pughlab/external_data/Adaptive/emerson2017/P00297.tsv\"\n",
       "[297] \"/cluster/projects/pughlab/external_data/Adaptive/emerson2017/P00298.tsv\"\n",
       "[298] \"/cluster/projects/pughlab/external_data/Adaptive/emerson2017/P00299.tsv\"\n",
       "[299] \"/cluster/projects/pughlab/external_data/Adaptive/emerson2017/P00300.tsv\"\n",
       "[300] \"/cluster/projects/pughlab/external_data/Adaptive/emerson2017/P00301.tsv\"\n",
       "[301] \"/cluster/projects/pughlab/external_data/Adaptive/emerson2017/P00302.tsv\"\n",
       "[302] \"/cluster/projects/pughlab/external_data/Adaptive/emerson2017/P00303.tsv\"\n",
       "[303] \"/cluster/projects/pughlab/external_data/Adaptive/emerson2017/P00304.tsv\"\n",
       "[304] \"/cluster/projects/pughlab/external_data/Adaptive/emerson2017/P00305.tsv\"\n",
       "[305] \"/cluster/projects/pughlab/external_data/Adaptive/emerson2017/P00306.tsv\"\n",
       "[306] \"/cluster/projects/pughlab/external_data/Adaptive/emerson2017/P00307.tsv\"\n",
       "[307] \"/cluster/projects/pughlab/external_data/Adaptive/emerson2017/P00308.tsv\"\n",
       "[308] \"/cluster/projects/pughlab/external_data/Adaptive/emerson2017/P00309.tsv\"\n",
       "[309] \"/cluster/projects/pughlab/external_data/Adaptive/emerson2017/P00310.tsv\"\n",
       "[310] \"/cluster/projects/pughlab/external_data/Adaptive/emerson2017/P00311.tsv\"\n",
       "[311] \"/cluster/projects/pughlab/external_data/Adaptive/emerson2017/P00312.tsv\"\n",
       "[312] \"/cluster/projects/pughlab/external_data/Adaptive/emerson2017/P00313.tsv\"\n",
       "[313] \"/cluster/projects/pughlab/external_data/Adaptive/emerson2017/P00314.tsv\"\n",
       "[314] \"/cluster/projects/pughlab/external_data/Adaptive/emerson2017/P00315.tsv\"\n",
       "[315] \"/cluster/projects/pughlab/external_data/Adaptive/emerson2017/P00316.tsv\"\n",
       "[316] \"/cluster/projects/pughlab/external_data/Adaptive/emerson2017/P00317.tsv\"\n",
       "[317] \"/cluster/projects/pughlab/external_data/Adaptive/emerson2017/P00318.tsv\"\n",
       "[318] \"/cluster/projects/pughlab/external_data/Adaptive/emerson2017/P00319.tsv\"\n",
       "[319] \"/cluster/projects/pughlab/external_data/Adaptive/emerson2017/P00320.tsv\"\n",
       "[320] \"/cluster/projects/pughlab/external_data/Adaptive/emerson2017/P00321.tsv\"\n",
       "[321] \"/cluster/projects/pughlab/external_data/Adaptive/emerson2017/P00322.tsv\"\n",
       "[322] \"/cluster/projects/pughlab/external_data/Adaptive/emerson2017/P00323.tsv\"\n",
       "[323] \"/cluster/projects/pughlab/external_data/Adaptive/emerson2017/P00324.tsv\"\n",
       "[324] \"/cluster/projects/pughlab/external_data/Adaptive/emerson2017/P00325.tsv\"\n",
       "[325] \"/cluster/projects/pughlab/external_data/Adaptive/emerson2017/P00326.tsv\"\n",
       "[326] \"/cluster/projects/pughlab/external_data/Adaptive/emerson2017/P00327.tsv\"\n",
       "[327] \"/cluster/projects/pughlab/external_data/Adaptive/emerson2017/P00328.tsv\"\n",
       "[328] \"/cluster/projects/pughlab/external_data/Adaptive/emerson2017/P00329.tsv\"\n",
       "[329] \"/cluster/projects/pughlab/external_data/Adaptive/emerson2017/P00330.tsv\"\n",
       "[330] \"/cluster/projects/pughlab/external_data/Adaptive/emerson2017/P00331.tsv\"\n",
       "[331] \"/cluster/projects/pughlab/external_data/Adaptive/emerson2017/P00332.tsv\"\n",
       "[332] \"/cluster/projects/pughlab/external_data/Adaptive/emerson2017/P00333.tsv\"\n",
       "[333] \"/cluster/projects/pughlab/external_data/Adaptive/emerson2017/P00334.tsv\"\n",
       "[334] \"/cluster/projects/pughlab/external_data/Adaptive/emerson2017/P00335.tsv\"\n",
       "[335] \"/cluster/projects/pughlab/external_data/Adaptive/emerson2017/P00336.tsv\"\n",
       "[336] \"/cluster/projects/pughlab/external_data/Adaptive/emerson2017/P00337.tsv\"\n",
       "[337] \"/cluster/projects/pughlab/external_data/Adaptive/emerson2017/P00338.tsv\"\n",
       "[338] \"/cluster/projects/pughlab/external_data/Adaptive/emerson2017/P00339.tsv\"\n",
       "[339] \"/cluster/projects/pughlab/external_data/Adaptive/emerson2017/P00340.tsv\"\n",
       "[340] \"/cluster/projects/pughlab/external_data/Adaptive/emerson2017/P00341.tsv\"\n",
       "[341] \"/cluster/projects/pughlab/external_data/Adaptive/emerson2017/P00342.tsv\"\n",
       "[342] \"/cluster/projects/pughlab/external_data/Adaptive/emerson2017/P00343.tsv\"\n",
       "[343] \"/cluster/projects/pughlab/external_data/Adaptive/emerson2017/P00344.tsv\"\n",
       "[344] \"/cluster/projects/pughlab/external_data/Adaptive/emerson2017/P00345.tsv\"\n",
       "[345] \"/cluster/projects/pughlab/external_data/Adaptive/emerson2017/P00346.tsv\"\n",
       "[346] \"/cluster/projects/pughlab/external_data/Adaptive/emerson2017/P00347.tsv\"\n",
       "[347] \"/cluster/projects/pughlab/external_data/Adaptive/emerson2017/P00348.tsv\"\n",
       "[348] \"/cluster/projects/pughlab/external_data/Adaptive/emerson2017/P00349.tsv\"\n",
       "[349] \"/cluster/projects/pughlab/external_data/Adaptive/emerson2017/P00350.tsv\"\n",
       "[350] \"/cluster/projects/pughlab/external_data/Adaptive/emerson2017/P00351.tsv\"\n",
       "[351] \"/cluster/projects/pughlab/external_data/Adaptive/emerson2017/P00352.tsv\"\n",
       "[352] \"/cluster/projects/pughlab/external_data/Adaptive/emerson2017/P00353.tsv\"\n",
       "[353] \"/cluster/projects/pughlab/external_data/Adaptive/emerson2017/P00354.tsv\"\n",
       "[354] \"/cluster/projects/pughlab/external_data/Adaptive/emerson2017/P00355.tsv\"\n",
       "[355] \"/cluster/projects/pughlab/external_data/Adaptive/emerson2017/P00356.tsv\"\n",
       "[356] \"/cluster/projects/pughlab/external_data/Adaptive/emerson2017/P00357.tsv\"\n",
       "[357] \"/cluster/projects/pughlab/external_data/Adaptive/emerson2017/P00358.tsv\"\n",
       "[358] \"/cluster/projects/pughlab/external_data/Adaptive/emerson2017/P00359.tsv\"\n",
       "[359] \"/cluster/projects/pughlab/external_data/Adaptive/emerson2017/P00360.tsv\"\n",
       "[360] \"/cluster/projects/pughlab/external_data/Adaptive/emerson2017/P00361.tsv\"\n",
       "[361] \"/cluster/projects/pughlab/external_data/Adaptive/emerson2017/P00362.tsv\"\n",
       "[362] \"/cluster/projects/pughlab/external_data/Adaptive/emerson2017/P00363.tsv\"\n",
       "[363] \"/cluster/projects/pughlab/external_data/Adaptive/emerson2017/P00364.tsv\"\n",
       "[364] \"/cluster/projects/pughlab/external_data/Adaptive/emerson2017/P00365.tsv\"\n",
       "[365] \"/cluster/projects/pughlab/external_data/Adaptive/emerson2017/P00366.tsv\"\n",
       "[366] \"/cluster/projects/pughlab/external_data/Adaptive/emerson2017/P00367.tsv\"\n",
       "[367] \"/cluster/projects/pughlab/external_data/Adaptive/emerson2017/P00368.tsv\"\n",
       "[368] \"/cluster/projects/pughlab/external_data/Adaptive/emerson2017/P00369.tsv\"\n",
       "[369] \"/cluster/projects/pughlab/external_data/Adaptive/emerson2017/P00370.tsv\"\n",
       "[370] \"/cluster/projects/pughlab/external_data/Adaptive/emerson2017/P00371.tsv\"\n",
       "[371] \"/cluster/projects/pughlab/external_data/Adaptive/emerson2017/P00372.tsv\"\n",
       "[372] \"/cluster/projects/pughlab/external_data/Adaptive/emerson2017/P00373.tsv\"\n",
       "[373] \"/cluster/projects/pughlab/external_data/Adaptive/emerson2017/P00374.tsv\"\n",
       "[374] \"/cluster/projects/pughlab/external_data/Adaptive/emerson2017/P00375.tsv\"\n",
       "[375] \"/cluster/projects/pughlab/external_data/Adaptive/emerson2017/P00376.tsv\"\n",
       "[376] \"/cluster/projects/pughlab/external_data/Adaptive/emerson2017/P00377.tsv\"\n",
       "[377] \"/cluster/projects/pughlab/external_data/Adaptive/emerson2017/P00378.tsv\"\n",
       "[378] \"/cluster/projects/pughlab/external_data/Adaptive/emerson2017/P00379.tsv\"\n",
       "[379] \"/cluster/projects/pughlab/external_data/Adaptive/emerson2017/P00380.tsv\"\n",
       "[380] \"/cluster/projects/pughlab/external_data/Adaptive/emerson2017/P00381.tsv\"\n",
       "[381] \"/cluster/projects/pughlab/external_data/Adaptive/emerson2017/P00382.tsv\"\n",
       "[382] \"/cluster/projects/pughlab/external_data/Adaptive/emerson2017/P00383.tsv\"\n",
       "[383] \"/cluster/projects/pughlab/external_data/Adaptive/emerson2017/P00384.tsv\"\n",
       "[384] \"/cluster/projects/pughlab/external_data/Adaptive/emerson2017/P00385.tsv\"\n",
       "[385] \"/cluster/projects/pughlab/external_data/Adaptive/emerson2017/P00386.tsv\"\n",
       "[386] \"/cluster/projects/pughlab/external_data/Adaptive/emerson2017/P00387.tsv\"\n",
       "[387] \"/cluster/projects/pughlab/external_data/Adaptive/emerson2017/P00388.tsv\"\n",
       "[388] \"/cluster/projects/pughlab/external_data/Adaptive/emerson2017/P00389.tsv\"\n",
       "[389] \"/cluster/projects/pughlab/external_data/Adaptive/emerson2017/P00390.tsv\"\n",
       "[390] \"/cluster/projects/pughlab/external_data/Adaptive/emerson2017/P00391.tsv\"\n",
       "[391] \"/cluster/projects/pughlab/external_data/Adaptive/emerson2017/P00392.tsv\"\n",
       "[392] \"/cluster/projects/pughlab/external_data/Adaptive/emerson2017/P00393.tsv\"\n",
       "[393] \"/cluster/projects/pughlab/external_data/Adaptive/emerson2017/P00394.tsv\"\n",
       "[394] \"/cluster/projects/pughlab/external_data/Adaptive/emerson2017/P00395.tsv\"\n",
       "[395] \"/cluster/projects/pughlab/external_data/Adaptive/emerson2017/P00396.tsv\"\n",
       "[396] \"/cluster/projects/pughlab/external_data/Adaptive/emerson2017/P00397.tsv\"\n",
       "[397] \"/cluster/projects/pughlab/external_data/Adaptive/emerson2017/P00398.tsv\"\n",
       "[398] \"/cluster/projects/pughlab/external_data/Adaptive/emerson2017/P00399.tsv\"\n",
       "[399] \"/cluster/projects/pughlab/external_data/Adaptive/emerson2017/P00400.tsv\"\n",
       "[400] \"/cluster/projects/pughlab/external_data/Adaptive/emerson2017/P00401.tsv\"\n",
       "[401] \"/cluster/projects/pughlab/external_data/Adaptive/emerson2017/P00402.tsv\"\n",
       "[402] \"/cluster/projects/pughlab/external_data/Adaptive/emerson2017/P00403.tsv\"\n",
       "[403] \"/cluster/projects/pughlab/external_data/Adaptive/emerson2017/P00404.tsv\"\n",
       "[404] \"/cluster/projects/pughlab/external_data/Adaptive/emerson2017/P00405.tsv\"\n",
       "[405] \"/cluster/projects/pughlab/external_data/Adaptive/emerson2017/P00406.tsv\"\n",
       "[406] \"/cluster/projects/pughlab/external_data/Adaptive/emerson2017/P00407.tsv\"\n",
       "[407] \"/cluster/projects/pughlab/external_data/Adaptive/emerson2017/P00408.tsv\"\n",
       "[408] \"/cluster/projects/pughlab/external_data/Adaptive/emerson2017/P00409.tsv\"\n",
       "[409] \"/cluster/projects/pughlab/external_data/Adaptive/emerson2017/P00410.tsv\"\n",
       "[410] \"/cluster/projects/pughlab/external_data/Adaptive/emerson2017/P00411.tsv\"\n",
       "[411] \"/cluster/projects/pughlab/external_data/Adaptive/emerson2017/P00412.tsv\"\n",
       "[412] \"/cluster/projects/pughlab/external_data/Adaptive/emerson2017/P00413.tsv\"\n",
       "[413] \"/cluster/projects/pughlab/external_data/Adaptive/emerson2017/P00414.tsv\"\n",
       "[414] \"/cluster/projects/pughlab/external_data/Adaptive/emerson2017/P00415.tsv\"\n",
       "[415] \"/cluster/projects/pughlab/external_data/Adaptive/emerson2017/P00416.tsv\"\n",
       "[416] \"/cluster/projects/pughlab/external_data/Adaptive/emerson2017/P00417.tsv\"\n",
       "[417] \"/cluster/projects/pughlab/external_data/Adaptive/emerson2017/P00418.tsv\"\n",
       "[418] \"/cluster/projects/pughlab/external_data/Adaptive/emerson2017/P00419.tsv\"\n",
       "[419] \"/cluster/projects/pughlab/external_data/Adaptive/emerson2017/P00420.tsv\"\n",
       "[420] \"/cluster/projects/pughlab/external_data/Adaptive/emerson2017/P00421.tsv\"\n",
       "[421] \"/cluster/projects/pughlab/external_data/Adaptive/emerson2017/P00422.tsv\"\n",
       "[422] \"/cluster/projects/pughlab/external_data/Adaptive/emerson2017/P00423.tsv\"\n",
       "[423] \"/cluster/projects/pughlab/external_data/Adaptive/emerson2017/P00424.tsv\"\n",
       "[424] \"/cluster/projects/pughlab/external_data/Adaptive/emerson2017/P00425.tsv\"\n",
       "[425] \"/cluster/projects/pughlab/external_data/Adaptive/emerson2017/P00426.tsv\"\n",
       "[426] \"/cluster/projects/pughlab/external_data/Adaptive/emerson2017/P00427.tsv\"\n",
       "[427] \"/cluster/projects/pughlab/external_data/Adaptive/emerson2017/P00428.tsv\"\n",
       "[428] \"/cluster/projects/pughlab/external_data/Adaptive/emerson2017/P00429.tsv\"\n",
       "[429] \"/cluster/projects/pughlab/external_data/Adaptive/emerson2017/P00430.tsv\"\n",
       "[430] \"/cluster/projects/pughlab/external_data/Adaptive/emerson2017/P00431.tsv\"\n",
       "[431] \"/cluster/projects/pughlab/external_data/Adaptive/emerson2017/P00432.tsv\"\n",
       "[432] \"/cluster/projects/pughlab/external_data/Adaptive/emerson2017/P00433.tsv\"\n",
       "[433] \"/cluster/projects/pughlab/external_data/Adaptive/emerson2017/P00434.tsv\"\n",
       "[434] \"/cluster/projects/pughlab/external_data/Adaptive/emerson2017/P00435.tsv\"\n",
       "[435] \"/cluster/projects/pughlab/external_data/Adaptive/emerson2017/P00436.tsv\"\n",
       "[436] \"/cluster/projects/pughlab/external_data/Adaptive/emerson2017/P00437.tsv\"\n",
       "[437] \"/cluster/projects/pughlab/external_data/Adaptive/emerson2017/P00438.tsv\"\n",
       "[438] \"/cluster/projects/pughlab/external_data/Adaptive/emerson2017/P00439.tsv\"\n",
       "[439] \"/cluster/projects/pughlab/external_data/Adaptive/emerson2017/P00440.tsv\"\n",
       "[440] \"/cluster/projects/pughlab/external_data/Adaptive/emerson2017/P00441.tsv\"\n",
       "[441] \"/cluster/projects/pughlab/external_data/Adaptive/emerson2017/P00442.tsv\"\n",
       "[442] \"/cluster/projects/pughlab/external_data/Adaptive/emerson2017/P00443.tsv\"\n",
       "[443] \"/cluster/projects/pughlab/external_data/Adaptive/emerson2017/P00444.tsv\"\n",
       "[444] \"/cluster/projects/pughlab/external_data/Adaptive/emerson2017/P00445.tsv\"\n",
       "[445] \"/cluster/projects/pughlab/external_data/Adaptive/emerson2017/P00446.tsv\"\n",
       "[446] \"/cluster/projects/pughlab/external_data/Adaptive/emerson2017/P00447.tsv\"\n",
       "[447] \"/cluster/projects/pughlab/external_data/Adaptive/emerson2017/P00448.tsv\"\n",
       "[448] \"/cluster/projects/pughlab/external_data/Adaptive/emerson2017/P00449.tsv\"\n",
       "[449] \"/cluster/projects/pughlab/external_data/Adaptive/emerson2017/P00450.tsv\"\n",
       "[450] \"/cluster/projects/pughlab/external_data/Adaptive/emerson2017/P00451.tsv\"\n",
       "[451] \"/cluster/projects/pughlab/external_data/Adaptive/emerson2017/P00452.tsv\"\n",
       "[452] \"/cluster/projects/pughlab/external_data/Adaptive/emerson2017/P00453.tsv\"\n",
       "[453] \"/cluster/projects/pughlab/external_data/Adaptive/emerson2017/P00454.tsv\"\n",
       "[454] \"/cluster/projects/pughlab/external_data/Adaptive/emerson2017/P00455.tsv\"\n",
       "[455] \"/cluster/projects/pughlab/external_data/Adaptive/emerson2017/P00456.tsv\"\n",
       "[456] \"/cluster/projects/pughlab/external_data/Adaptive/emerson2017/P00457.tsv\"\n",
       "[457] \"/cluster/projects/pughlab/external_data/Adaptive/emerson2017/P00458.tsv\"\n",
       "[458] \"/cluster/projects/pughlab/external_data/Adaptive/emerson2017/P00459.tsv\"\n",
       "[459] \"/cluster/projects/pughlab/external_data/Adaptive/emerson2017/P00460.tsv\"\n",
       "[460] \"/cluster/projects/pughlab/external_data/Adaptive/emerson2017/P00461.tsv\"\n",
       "[461] \"/cluster/projects/pughlab/external_data/Adaptive/emerson2017/P00462.tsv\"\n",
       "[462] \"/cluster/projects/pughlab/external_data/Adaptive/emerson2017/P00463.tsv\"\n",
       "[463] \"/cluster/projects/pughlab/external_data/Adaptive/emerson2017/P00464.tsv\"\n",
       "[464] \"/cluster/projects/pughlab/external_data/Adaptive/emerson2017/P00465.tsv\"\n",
       "[465] \"/cluster/projects/pughlab/external_data/Adaptive/emerson2017/P00466.tsv\"\n",
       "[466] \"/cluster/projects/pughlab/external_data/Adaptive/emerson2017/P00467.tsv\"\n",
       "[467] \"/cluster/projects/pughlab/external_data/Adaptive/emerson2017/P00468.tsv\"\n",
       "[468] \"/cluster/projects/pughlab/external_data/Adaptive/emerson2017/P00469.tsv\"\n",
       "[469] \"/cluster/projects/pughlab/external_data/Adaptive/emerson2017/P00470.tsv\"\n",
       "[470] \"/cluster/projects/pughlab/external_data/Adaptive/emerson2017/P00471.tsv\"\n",
       "[471] \"/cluster/projects/pughlab/external_data/Adaptive/emerson2017/P00472.tsv\"\n",
       "[472] \"/cluster/projects/pughlab/external_data/Adaptive/emerson2017/P00473.tsv\"\n",
       "[473] \"/cluster/projects/pughlab/external_data/Adaptive/emerson2017/P00474.tsv\"\n",
       "[474] \"/cluster/projects/pughlab/external_data/Adaptive/emerson2017/P00475.tsv\"\n",
       "[475] \"/cluster/projects/pughlab/external_data/Adaptive/emerson2017/P00476.tsv\"\n",
       "[476] \"/cluster/projects/pughlab/external_data/Adaptive/emerson2017/P00477.tsv\"\n",
       "[477] \"/cluster/projects/pughlab/external_data/Adaptive/emerson2017/P00478.tsv\"\n",
       "[478] \"/cluster/projects/pughlab/external_data/Adaptive/emerson2017/P00479.tsv\"\n",
       "[479] \"/cluster/projects/pughlab/external_data/Adaptive/emerson2017/P00480.tsv\"\n",
       "[480] \"/cluster/projects/pughlab/external_data/Adaptive/emerson2017/P00481.tsv\"\n",
       "[481] \"/cluster/projects/pughlab/external_data/Adaptive/emerson2017/P00482.tsv\"\n",
       "[482] \"/cluster/projects/pughlab/external_data/Adaptive/emerson2017/P00483.tsv\"\n",
       "[483] \"/cluster/projects/pughlab/external_data/Adaptive/emerson2017/P00484.tsv\"\n",
       "[484] \"/cluster/projects/pughlab/external_data/Adaptive/emerson2017/P00485.tsv\"\n",
       "[485] \"/cluster/projects/pughlab/external_data/Adaptive/emerson2017/P00486.tsv\"\n",
       "[486] \"/cluster/projects/pughlab/external_data/Adaptive/emerson2017/P00487.tsv\"\n",
       "[487] \"/cluster/projects/pughlab/external_data/Adaptive/emerson2017/P00488.tsv\"\n",
       "[488] \"/cluster/projects/pughlab/external_data/Adaptive/emerson2017/P00489.tsv\"\n",
       "[489] \"/cluster/projects/pughlab/external_data/Adaptive/emerson2017/P00490.tsv\"\n",
       "[490] \"/cluster/projects/pughlab/external_data/Adaptive/emerson2017/P00491.tsv\"\n",
       "[491] \"/cluster/projects/pughlab/external_data/Adaptive/emerson2017/P00492.tsv\"\n",
       "[492] \"/cluster/projects/pughlab/external_data/Adaptive/emerson2017/P00493.tsv\"\n",
       "[493] \"/cluster/projects/pughlab/external_data/Adaptive/emerson2017/P00494.tsv\"\n",
       "[494] \"/cluster/projects/pughlab/external_data/Adaptive/emerson2017/P00495.tsv\"\n",
       "[495] \"/cluster/projects/pughlab/external_data/Adaptive/emerson2017/P00496.tsv\"\n",
       "[496] \"/cluster/projects/pughlab/external_data/Adaptive/emerson2017/P00497.tsv\"\n",
       "[497] \"/cluster/projects/pughlab/external_data/Adaptive/emerson2017/P00498.tsv\"\n",
       "[498] \"/cluster/projects/pughlab/external_data/Adaptive/emerson2017/P00499.tsv\"\n",
       "[499] \"/cluster/projects/pughlab/external_data/Adaptive/emerson2017/P00500.tsv\"\n",
       "[500] \"/cluster/projects/pughlab/external_data/Adaptive/emerson2017/P00501.tsv\"\n",
       "[501] \"/cluster/projects/pughlab/external_data/Adaptive/emerson2017/P00502.tsv\"\n",
       "[502] \"/cluster/projects/pughlab/external_data/Adaptive/emerson2017/P00503.tsv\"\n",
       "[503] \"/cluster/projects/pughlab/external_data/Adaptive/emerson2017/P00504.tsv\"\n",
       "[504] \"/cluster/projects/pughlab/external_data/Adaptive/emerson2017/P00505.tsv\"\n",
       "[505] \"/cluster/projects/pughlab/external_data/Adaptive/emerson2017/P00506.tsv\"\n",
       "[506] \"/cluster/projects/pughlab/external_data/Adaptive/emerson2017/P00507.tsv\"\n",
       "[507] \"/cluster/projects/pughlab/external_data/Adaptive/emerson2017/P00508.tsv\"\n",
       "[508] \"/cluster/projects/pughlab/external_data/Adaptive/emerson2017/P00509.tsv\"\n",
       "[509] \"/cluster/projects/pughlab/external_data/Adaptive/emerson2017/P00510.tsv\"\n",
       "[510] \"/cluster/projects/pughlab/external_data/Adaptive/emerson2017/P00511.tsv\"\n",
       "[511] \"/cluster/projects/pughlab/external_data/Adaptive/emerson2017/P00512.tsv\"\n",
       "[512] \"/cluster/projects/pughlab/external_data/Adaptive/emerson2017/P00513.tsv\"\n",
       "[513] \"/cluster/projects/pughlab/external_data/Adaptive/emerson2017/P00514.tsv\"\n",
       "[514] \"/cluster/projects/pughlab/external_data/Adaptive/emerson2017/P00515.tsv\"\n",
       "[515] \"/cluster/projects/pughlab/external_data/Adaptive/emerson2017/P00516.tsv\"\n",
       "[516] \"/cluster/projects/pughlab/external_data/Adaptive/emerson2017/P00517.tsv\"\n",
       "[517] \"/cluster/projects/pughlab/external_data/Adaptive/emerson2017/P00518.tsv\"\n",
       "[518] \"/cluster/projects/pughlab/external_data/Adaptive/emerson2017/P00519.tsv\"\n",
       "[519] \"/cluster/projects/pughlab/external_data/Adaptive/emerson2017/P00520.tsv\"\n",
       "[520] \"/cluster/projects/pughlab/external_data/Adaptive/emerson2017/P00521.tsv\"\n",
       "[521] \"/cluster/projects/pughlab/external_data/Adaptive/emerson2017/P00522.tsv\"\n",
       "[522] \"/cluster/projects/pughlab/external_data/Adaptive/emerson2017/P00523.tsv\"\n",
       "[523] \"/cluster/projects/pughlab/external_data/Adaptive/emerson2017/P00524.tsv\"\n",
       "[524] \"/cluster/projects/pughlab/external_data/Adaptive/emerson2017/P00525.tsv\"\n",
       "[525] \"/cluster/projects/pughlab/external_data/Adaptive/emerson2017/P00526.tsv\"\n",
       "[526] \"/cluster/projects/pughlab/external_data/Adaptive/emerson2017/P00527.tsv\"\n",
       "[527] \"/cluster/projects/pughlab/external_data/Adaptive/emerson2017/P00528.tsv\"\n",
       "[528] \"/cluster/projects/pughlab/external_data/Adaptive/emerson2017/P00529.tsv\"\n",
       "[529] \"/cluster/projects/pughlab/external_data/Adaptive/emerson2017/P00530.tsv\"\n",
       "[530] \"/cluster/projects/pughlab/external_data/Adaptive/emerson2017/P00531.tsv\"\n",
       "[531] \"/cluster/projects/pughlab/external_data/Adaptive/emerson2017/P00532.tsv\"\n",
       "[532] \"/cluster/projects/pughlab/external_data/Adaptive/emerson2017/P00533.tsv\"\n",
       "[533] \"/cluster/projects/pughlab/external_data/Adaptive/emerson2017/P00534.tsv\"\n",
       "[534] \"/cluster/projects/pughlab/external_data/Adaptive/emerson2017/P00535.tsv\"\n",
       "[535] \"/cluster/projects/pughlab/external_data/Adaptive/emerson2017/P00536.tsv\"\n",
       "[536] \"/cluster/projects/pughlab/external_data/Adaptive/emerson2017/P00537.tsv\"\n",
       "[537] \"/cluster/projects/pughlab/external_data/Adaptive/emerson2017/P00538.tsv\"\n",
       "[538] \"/cluster/projects/pughlab/external_data/Adaptive/emerson2017/P00539.tsv\"\n",
       "[539] \"/cluster/projects/pughlab/external_data/Adaptive/emerson2017/P00540.tsv\"\n",
       "[540] \"/cluster/projects/pughlab/external_data/Adaptive/emerson2017/P00541.tsv\"\n",
       "[541] \"/cluster/projects/pughlab/external_data/Adaptive/emerson2017/P00542.tsv\"\n",
       "[542] \"/cluster/projects/pughlab/external_data/Adaptive/emerson2017/P00543.tsv\"\n",
       "[543] \"/cluster/projects/pughlab/external_data/Adaptive/emerson2017/P00544.tsv\"\n",
       "[544] \"/cluster/projects/pughlab/external_data/Adaptive/emerson2017/P00545.tsv\"\n",
       "[545] \"/cluster/projects/pughlab/external_data/Adaptive/emerson2017/P00546.tsv\"\n",
       "[546] \"/cluster/projects/pughlab/external_data/Adaptive/emerson2017/P00547.tsv\"\n",
       "[547] \"/cluster/projects/pughlab/external_data/Adaptive/emerson2017/P00548.tsv\"\n",
       "[548] \"/cluster/projects/pughlab/external_data/Adaptive/emerson2017/P00549.tsv\"\n",
       "[549] \"/cluster/projects/pughlab/external_data/Adaptive/emerson2017/P00550.tsv\"\n",
       "[550] \"/cluster/projects/pughlab/external_data/Adaptive/emerson2017/P00551.tsv\"\n",
       "[551] \"/cluster/projects/pughlab/external_data/Adaptive/emerson2017/P00552.tsv\"\n",
       "[552] \"/cluster/projects/pughlab/external_data/Adaptive/emerson2017/P00553.tsv\"\n",
       "[553] \"/cluster/projects/pughlab/external_data/Adaptive/emerson2017/P00554.tsv\"\n",
       "[554] \"/cluster/projects/pughlab/external_data/Adaptive/emerson2017/P00555.tsv\"\n",
       "[555] \"/cluster/projects/pughlab/external_data/Adaptive/emerson2017/P00556.tsv\"\n",
       "[556] \"/cluster/projects/pughlab/external_data/Adaptive/emerson2017/P00557.tsv\"\n",
       "[557] \"/cluster/projects/pughlab/external_data/Adaptive/emerson2017/P00558.tsv\"\n",
       "[558] \"/cluster/projects/pughlab/external_data/Adaptive/emerson2017/P00559.tsv\"\n",
       "[559] \"/cluster/projects/pughlab/external_data/Adaptive/emerson2017/P00560.tsv\"\n",
       "[560] \"/cluster/projects/pughlab/external_data/Adaptive/emerson2017/P00561.tsv\"\n",
       "[561] \"/cluster/projects/pughlab/external_data/Adaptive/emerson2017/P00562.tsv\"\n",
       "[562] \"/cluster/projects/pughlab/external_data/Adaptive/emerson2017/P00563.tsv\"\n",
       "[563] \"/cluster/projects/pughlab/external_data/Adaptive/emerson2017/P00564.tsv\"\n",
       "[564] \"/cluster/projects/pughlab/external_data/Adaptive/emerson2017/P00565.tsv\"\n",
       "[565] \"/cluster/projects/pughlab/external_data/Adaptive/emerson2017/P00566.tsv\"\n",
       "[566] \"/cluster/projects/pughlab/external_data/Adaptive/emerson2017/P00567.tsv\"\n",
       "[567] \"/cluster/projects/pughlab/external_data/Adaptive/emerson2017/P00568.tsv\"\n",
       "[568] \"/cluster/projects/pughlab/external_data/Adaptive/emerson2017/P00569.tsv\"\n",
       "[569] \"/cluster/projects/pughlab/external_data/Adaptive/emerson2017/P00570.tsv\"\n",
       "[570] \"/cluster/projects/pughlab/external_data/Adaptive/emerson2017/P00571.tsv\"\n",
       "[571] \"/cluster/projects/pughlab/external_data/Adaptive/emerson2017/P00572.tsv\"\n",
       "[572] \"/cluster/projects/pughlab/external_data/Adaptive/emerson2017/P00573.tsv\"\n",
       "[573] \"/cluster/projects/pughlab/external_data/Adaptive/emerson2017/P00574.tsv\"\n",
       "[574] \"/cluster/projects/pughlab/external_data/Adaptive/emerson2017/P00575.tsv\"\n",
       "[575] \"/cluster/projects/pughlab/external_data/Adaptive/emerson2017/P00576.tsv\"\n",
       "[576] \"/cluster/projects/pughlab/external_data/Adaptive/emerson2017/P00577.tsv\"\n",
       "[577] \"/cluster/projects/pughlab/external_data/Adaptive/emerson2017/P00578.tsv\"\n",
       "[578] \"/cluster/projects/pughlab/external_data/Adaptive/emerson2017/P00579.tsv\"\n",
       "[579] \"/cluster/projects/pughlab/external_data/Adaptive/emerson2017/P00580.tsv\"\n",
       "[580] \"/cluster/projects/pughlab/external_data/Adaptive/emerson2017/P00581.tsv\"\n",
       "[581] \"/cluster/projects/pughlab/external_data/Adaptive/emerson2017/P00582.tsv\"\n",
       "[582] \"/cluster/projects/pughlab/external_data/Adaptive/emerson2017/P00583.tsv\"\n",
       "[583] \"/cluster/projects/pughlab/external_data/Adaptive/emerson2017/P00584.tsv\"\n",
       "[584] \"/cluster/projects/pughlab/external_data/Adaptive/emerson2017/P00585.tsv\"\n",
       "[585] \"/cluster/projects/pughlab/external_data/Adaptive/emerson2017/P00586.tsv\"\n",
       "[586] \"/cluster/projects/pughlab/external_data/Adaptive/emerson2017/P00587.tsv\"\n",
       "[587] \"/cluster/projects/pughlab/external_data/Adaptive/emerson2017/P00588.tsv\"\n",
       "[588] \"/cluster/projects/pughlab/external_data/Adaptive/emerson2017/P00589.tsv\"\n",
       "[589] \"/cluster/projects/pughlab/external_data/Adaptive/emerson2017/P00590.tsv\"\n",
       "[590] \"/cluster/projects/pughlab/external_data/Adaptive/emerson2017/P00591.tsv\"\n",
       "[591] \"/cluster/projects/pughlab/external_data/Adaptive/emerson2017/P00592.tsv\"\n",
       "[592] \"/cluster/projects/pughlab/external_data/Adaptive/emerson2017/P00593.tsv\"\n",
       "[593] \"/cluster/projects/pughlab/external_data/Adaptive/emerson2017/P00594.tsv\"\n",
       "[594] \"/cluster/projects/pughlab/external_data/Adaptive/emerson2017/P00595.tsv\"\n",
       "[595] \"/cluster/projects/pughlab/external_data/Adaptive/emerson2017/P00596.tsv\"\n",
       "[596] \"/cluster/projects/pughlab/external_data/Adaptive/emerson2017/P00597.tsv\"\n",
       "[597] \"/cluster/projects/pughlab/external_data/Adaptive/emerson2017/P00598.tsv\"\n",
       "[598] \"/cluster/projects/pughlab/external_data/Adaptive/emerson2017/P00599.tsv\"\n",
       "[599] \"/cluster/projects/pughlab/external_data/Adaptive/emerson2017/P00600.tsv\"\n",
       "[600] \"/cluster/projects/pughlab/external_data/Adaptive/emerson2017/P00601.tsv\"\n",
       "[601] \"/cluster/projects/pughlab/external_data/Adaptive/emerson2017/P00602.tsv\"\n",
       "[602] \"/cluster/projects/pughlab/external_data/Adaptive/emerson2017/P00603.tsv\"\n",
       "[603] \"/cluster/projects/pughlab/external_data/Adaptive/emerson2017/P00604.tsv\"\n",
       "[604] \"/cluster/projects/pughlab/external_data/Adaptive/emerson2017/P00605.tsv\"\n",
       "[605] \"/cluster/projects/pughlab/external_data/Adaptive/emerson2017/P00606.tsv\"\n",
       "[606] \"/cluster/projects/pughlab/external_data/Adaptive/emerson2017/P00607.tsv\"\n",
       "[607] \"/cluster/projects/pughlab/external_data/Adaptive/emerson2017/P00608.tsv\"\n",
       "[608] \"/cluster/projects/pughlab/external_data/Adaptive/emerson2017/P00609.tsv\"\n",
       "[609] \"/cluster/projects/pughlab/external_data/Adaptive/emerson2017/P00610.tsv\"\n",
       "[610] \"/cluster/projects/pughlab/external_data/Adaptive/emerson2017/P00611.tsv\"\n",
       "[611] \"/cluster/projects/pughlab/external_data/Adaptive/emerson2017/P00612.tsv\"\n",
       "[612] \"/cluster/projects/pughlab/external_data/Adaptive/emerson2017/P00613.tsv\"\n",
       "[613] \"/cluster/projects/pughlab/external_data/Adaptive/emerson2017/P00614.tsv\"\n",
       "[614] \"/cluster/projects/pughlab/external_data/Adaptive/emerson2017/P00615.tsv\"\n",
       "[615] \"/cluster/projects/pughlab/external_data/Adaptive/emerson2017/P00616.tsv\"\n",
       "[616] \"/cluster/projects/pughlab/external_data/Adaptive/emerson2017/P00617.tsv\"\n",
       "[617] \"/cluster/projects/pughlab/external_data/Adaptive/emerson2017/P00618.tsv\"\n",
       "[618] \"/cluster/projects/pughlab/external_data/Adaptive/emerson2017/P00619.tsv\"\n",
       "[619] \"/cluster/projects/pughlab/external_data/Adaptive/emerson2017/P00620.tsv\"\n",
       "[620] \"/cluster/projects/pughlab/external_data/Adaptive/emerson2017/P00621.tsv\"\n",
       "[621] \"/cluster/projects/pughlab/external_data/Adaptive/emerson2017/P00622.tsv\"\n",
       "[622] \"/cluster/projects/pughlab/external_data/Adaptive/emerson2017/P00623.tsv\"\n",
       "[623] \"/cluster/projects/pughlab/external_data/Adaptive/emerson2017/P00624.tsv\"\n",
       "[624] \"/cluster/projects/pughlab/external_data/Adaptive/emerson2017/P00625.tsv\"\n",
       "[625] \"/cluster/projects/pughlab/external_data/Adaptive/emerson2017/P00626.tsv\"\n",
       "[626] \"/cluster/projects/pughlab/external_data/Adaptive/emerson2017/P00627.tsv\"\n",
       "[627] \"/cluster/projects/pughlab/external_data/Adaptive/emerson2017/P00628.tsv\"\n",
       "[628] \"/cluster/projects/pughlab/external_data/Adaptive/emerson2017/P00629.tsv\"\n",
       "[629] \"/cluster/projects/pughlab/external_data/Adaptive/emerson2017/P00630.tsv\"\n",
       "[630] \"/cluster/projects/pughlab/external_data/Adaptive/emerson2017/P00631.tsv\"\n",
       "[631] \"/cluster/projects/pughlab/external_data/Adaptive/emerson2017/P00632.tsv\"\n",
       "[632] \"/cluster/projects/pughlab/external_data/Adaptive/emerson2017/P00633.tsv\"\n",
       "[633] \"/cluster/projects/pughlab/external_data/Adaptive/emerson2017/P00634.tsv\"\n",
       "[634] \"/cluster/projects/pughlab/external_data/Adaptive/emerson2017/P00635.tsv\"\n",
       "[635] \"/cluster/projects/pughlab/external_data/Adaptive/emerson2017/P00636.tsv\"\n",
       "[636] \"/cluster/projects/pughlab/external_data/Adaptive/emerson2017/P00637.tsv\"\n",
       "[637] \"/cluster/projects/pughlab/external_data/Adaptive/emerson2017/P00638.tsv\"\n",
       "[638] \"/cluster/projects/pughlab/external_data/Adaptive/emerson2017/P00639.tsv\"\n",
       "[639] \"/cluster/projects/pughlab/external_data/Adaptive/emerson2017/P00640.tsv\"\n",
       "[640] \"/cluster/projects/pughlab/external_data/Adaptive/emerson2017/P00641.tsv\"\n",
       "[641] \"/cluster/projects/pughlab/external_data/Adaptive/emerson2017/P00642.tsv\"\n",
       "[642] \"/cluster/projects/pughlab/external_data/Adaptive/emerson2017/P00643.tsv\"\n",
       "[643] \"/cluster/projects/pughlab/external_data/Adaptive/emerson2017/P00644.tsv\"\n",
       "[644] \"/cluster/projects/pughlab/external_data/Adaptive/emerson2017/P00645.tsv\"\n",
       "[645] \"/cluster/projects/pughlab/external_data/Adaptive/emerson2017/P00646.tsv\"\n",
       "[646] \"/cluster/projects/pughlab/external_data/Adaptive/emerson2017/P00647.tsv\"\n",
       "[647] \"/cluster/projects/pughlab/external_data/Adaptive/emerson2017/P00648.tsv\"\n",
       "[648] \"/cluster/projects/pughlab/external_data/Adaptive/emerson2017/P00649.tsv\"\n",
       "[649] \"/cluster/projects/pughlab/external_data/Adaptive/emerson2017/P00650.tsv\"\n",
       "[650] \"/cluster/projects/pughlab/external_data/Adaptive/emerson2017/P00651.tsv\"\n",
       "[651] \"/cluster/projects/pughlab/external_data/Adaptive/emerson2017/P00652.tsv\"\n",
       "[652] \"/cluster/projects/pughlab/external_data/Adaptive/emerson2017/P00653.tsv\"\n",
       "[653] \"/cluster/projects/pughlab/external_data/Adaptive/emerson2017/P00654.tsv\"\n",
       "[654] \"/cluster/projects/pughlab/external_data/Adaptive/emerson2017/P00655.tsv\"\n",
       "[655] \"/cluster/projects/pughlab/external_data/Adaptive/emerson2017/P00656.tsv\"\n",
       "[656] \"/cluster/projects/pughlab/external_data/Adaptive/emerson2017/P00657.tsv\"\n",
       "[657] \"/cluster/projects/pughlab/external_data/Adaptive/emerson2017/P00658.tsv\"\n",
       "[658] \"/cluster/projects/pughlab/external_data/Adaptive/emerson2017/P00659.tsv\"\n",
       "[659] \"/cluster/projects/pughlab/external_data/Adaptive/emerson2017/P00660.tsv\"\n",
       "[660] \"/cluster/projects/pughlab/external_data/Adaptive/emerson2017/P00661.tsv\"\n",
       "[661] \"/cluster/projects/pughlab/external_data/Adaptive/emerson2017/P00662.tsv\"\n",
       "[662] \"/cluster/projects/pughlab/external_data/Adaptive/emerson2017/P00663.tsv\"\n",
       "[663] \"/cluster/projects/pughlab/external_data/Adaptive/emerson2017/P00665.tsv\"\n",
       "[664] \"/cluster/projects/pughlab/external_data/Adaptive/emerson2017/P00666.tsv\"\n",
       "[665] \"/cluster/projects/pughlab/external_data/Adaptive/emerson2017/P00667.tsv\"\n",
       "[666] \"/cluster/projects/pughlab/external_data/Adaptive/emerson2017/P00668.tsv\""
      ]
     },
     "metadata": {},
     "output_type": "display_data"
    }
   ],
   "source": [
    "adaptivefiles[grepl(\"emers\", adaptivefiles)]"
   ]
  },
  {
   "cell_type": "code",
   "execution_count": 92,
   "metadata": {},
   "outputs": [],
   "source": [
    "#on h4h\n",
    "clean_adaptive <- function(filename, outpath){\n",
    "    \n",
    "f1 <- read.table(filename, sep = \"\\t\", header = T, stringsAsFactors = F)    \n",
    "\n",
    "    #remove unproductive\n",
    "f1 <- f1[f1$amino_acid != \"\",]\n",
    "f1 <- f1[!grepl(\"[*]\", f1$amino_acid),]\n",
    "f1 <- f1[!grepl(\"_\", f1$amino_acid),]\n",
    "    \n",
    "f1_clean <- f1[, c(\"amino_acid\", \"v_resolved\", \"j_resolved\", \"rearrangement\", \n",
    "                   \"seq_reads\", \"frequency\", \"sample_name\")]\n",
    "#add filename\n",
    "f1_clean$file <- filename    \n",
    "colnames(f1_clean) <- c(\"CDR3b\", \"TRBV\", \"TRBJ\", \"rearrangement\", \"clonecount\", \"clonefraction\", \"sample_id\", \"file\")\n",
    "    \n",
    "    \n",
    "#replaqce TCRB with TRB\n",
    "f1_clean$TRBV <- gsub(\"TCRB\", \"TRB\", f1_clean$TRBV)\n",
    "f1_clean$TRBJ <- gsub(\"TCRB\", \"TRB\", f1_clean$TRBJ)\n",
    "\n",
    "f1_clean$TRBV <- gsub(\"[*].*\", \"\", f1_clean$TRBV)\n",
    "f1_clean$TRBJ <- gsub(\"[*].*\", \"\", f1_clean$TRBJ)\n",
    "    \n",
    "write.table(f1_clean, paste0(outpath, f1_clean$sample_id[1]) , sep = \"\\t\", quote = F, row.names = F)    \n",
    "       \n",
    "}"
   ]
  },
  {
   "cell_type": "markdown",
   "metadata": {},
   "source": [
    "Run on h4h see \"Adaptive/tsv_cleanup\""
   ]
  },
  {
   "cell_type": "markdown",
   "metadata": {},
   "source": [
    "### compile all adaptive files together and cleanup"
   ]
  },
  {
   "cell_type": "markdown",
   "metadata": {},
   "source": [
    "test here, run on h4h"
   ]
  },
  {
   "cell_type": "code",
   "execution_count": 142,
   "metadata": {},
   "outputs": [],
   "source": [
    "myfilelist <- list.files(\"/Users/anabbi/Desktop/H4H/projects/INTERCEPT/Adaptive/tsv_cleanup/\", \n",
    "                        pattern = \".txt\", full.names = T, recursive = T)"
   ]
  },
  {
   "cell_type": "code",
   "execution_count": 155,
   "metadata": {},
   "outputs": [],
   "source": [
    "myfilelist <- myfilelist[!grepl(\"files\", myfilelist)]"
   ]
  },
  {
   "cell_type": "code",
   "execution_count": 161,
   "metadata": {},
   "outputs": [
    {
     "data": {
      "text/html": [
       "<style>\n",
       ".list-inline {list-style: none; margin:0; padding: 0}\n",
       ".list-inline>li {display: inline-block}\n",
       ".list-inline>li:not(:last-child)::after {content: \"\\00b7\"; padding: 0 .5ex}\n",
       "</style>\n",
       "<ol class=list-inline><li>'/Users/anabbi/Desktop/H4H/projects/INTERCEPT/Adaptive/tsv_cleanup//Carey_Preterm2017/Adult_1_15-04.txt'</li><li>'/Users/anabbi/Desktop/H4H/projects/INTERCEPT/Adaptive/tsv_cleanup//Carey_Preterm2017/Adult_2_15-07.txt'</li><li>'/Users/anabbi/Desktop/H4H/projects/INTERCEPT/Adaptive/tsv_cleanup//Carey_Preterm2017/Adult_3_15-03.txt'</li><li>'/Users/anabbi/Desktop/H4H/projects/INTERCEPT/Adaptive/tsv_cleanup//Carey_Preterm2017/Adult_4_15-05.txt'</li><li>'/Users/anabbi/Desktop/H4H/projects/INTERCEPT/Adaptive/tsv_cleanup//Carey_Preterm2017/Adult_5_15-06.txt'</li><li>'/Users/anabbi/Desktop/H4H/projects/INTERCEPT/Adaptive/tsv_cleanup//Carey_Preterm2017/Cord_1_NWK206.txt'</li></ol>\n"
      ],
      "text/latex": [
       "\\begin{enumerate*}\n",
       "\\item '/Users/anabbi/Desktop/H4H/projects/INTERCEPT/Adaptive/tsv\\_cleanup//Carey\\_Preterm2017/Adult\\_1\\_15-04.txt'\n",
       "\\item '/Users/anabbi/Desktop/H4H/projects/INTERCEPT/Adaptive/tsv\\_cleanup//Carey\\_Preterm2017/Adult\\_2\\_15-07.txt'\n",
       "\\item '/Users/anabbi/Desktop/H4H/projects/INTERCEPT/Adaptive/tsv\\_cleanup//Carey\\_Preterm2017/Adult\\_3\\_15-03.txt'\n",
       "\\item '/Users/anabbi/Desktop/H4H/projects/INTERCEPT/Adaptive/tsv\\_cleanup//Carey\\_Preterm2017/Adult\\_4\\_15-05.txt'\n",
       "\\item '/Users/anabbi/Desktop/H4H/projects/INTERCEPT/Adaptive/tsv\\_cleanup//Carey\\_Preterm2017/Adult\\_5\\_15-06.txt'\n",
       "\\item '/Users/anabbi/Desktop/H4H/projects/INTERCEPT/Adaptive/tsv\\_cleanup//Carey\\_Preterm2017/Cord\\_1\\_NWK206.txt'\n",
       "\\end{enumerate*}\n"
      ],
      "text/markdown": [
       "1. '/Users/anabbi/Desktop/H4H/projects/INTERCEPT/Adaptive/tsv_cleanup//Carey_Preterm2017/Adult_1_15-04.txt'\n",
       "2. '/Users/anabbi/Desktop/H4H/projects/INTERCEPT/Adaptive/tsv_cleanup//Carey_Preterm2017/Adult_2_15-07.txt'\n",
       "3. '/Users/anabbi/Desktop/H4H/projects/INTERCEPT/Adaptive/tsv_cleanup//Carey_Preterm2017/Adult_3_15-03.txt'\n",
       "4. '/Users/anabbi/Desktop/H4H/projects/INTERCEPT/Adaptive/tsv_cleanup//Carey_Preterm2017/Adult_4_15-05.txt'\n",
       "5. '/Users/anabbi/Desktop/H4H/projects/INTERCEPT/Adaptive/tsv_cleanup//Carey_Preterm2017/Adult_5_15-06.txt'\n",
       "6. '/Users/anabbi/Desktop/H4H/projects/INTERCEPT/Adaptive/tsv_cleanup//Carey_Preterm2017/Cord_1_NWK206.txt'\n",
       "\n",
       "\n"
      ],
      "text/plain": [
       "[1] \"/Users/anabbi/Desktop/H4H/projects/INTERCEPT/Adaptive/tsv_cleanup//Carey_Preterm2017/Adult_1_15-04.txt\"\n",
       "[2] \"/Users/anabbi/Desktop/H4H/projects/INTERCEPT/Adaptive/tsv_cleanup//Carey_Preterm2017/Adult_2_15-07.txt\"\n",
       "[3] \"/Users/anabbi/Desktop/H4H/projects/INTERCEPT/Adaptive/tsv_cleanup//Carey_Preterm2017/Adult_3_15-03.txt\"\n",
       "[4] \"/Users/anabbi/Desktop/H4H/projects/INTERCEPT/Adaptive/tsv_cleanup//Carey_Preterm2017/Adult_4_15-05.txt\"\n",
       "[5] \"/Users/anabbi/Desktop/H4H/projects/INTERCEPT/Adaptive/tsv_cleanup//Carey_Preterm2017/Adult_5_15-06.txt\"\n",
       "[6] \"/Users/anabbi/Desktop/H4H/projects/INTERCEPT/Adaptive/tsv_cleanup//Carey_Preterm2017/Cord_1_NWK206.txt\""
      ]
     },
     "metadata": {},
     "output_type": "display_data"
    }
   ],
   "source": [
    "head(myfilelist)"
   ]
  },
  {
   "cell_type": "code",
   "execution_count": 157,
   "metadata": {},
   "outputs": [],
   "source": [
    "mylst <- lapply(myfilelist[1:3], function(x){\n",
    "    read.table(x, sep = \"\\t\", header = T)\n",
    "})"
   ]
  },
  {
   "cell_type": "code",
   "execution_count": 159,
   "metadata": {
    "scrolled": false
   },
   "outputs": [],
   "source": [
    "mydf <- do.call(\"rbind\", mylst)"
   ]
  },
  {
   "cell_type": "code",
   "execution_count": 165,
   "metadata": {},
   "outputs": [],
   "source": [
    "#cleanup\n",
    "mydf$rearrangement <- NULL\n",
    "mydf$`subject:condition` <- mydf$sample_id\n",
    "mydf$subject <- mydf$sample_id\n",
    "mydf$sample_id <- NULL\n",
    "mydf$index <- 1:nrow(mydf)"
   ]
  },
  {
   "cell_type": "code",
   "execution_count": 171,
   "metadata": {},
   "outputs": [],
   "source": [
    "#order\n",
    "mydf <- mydf[,c(\"CDR3b\", \"TRBV\", \"TRBJ\", \"subject:condition\", \"clonecount\", \n",
    "               \"clonefraction\", \"subject\", \"file\", \"index\")]"
   ]
  },
  {
   "cell_type": "code",
   "execution_count": 174,
   "metadata": {},
   "outputs": [],
   "source": [
    "colnames(mydf)[ colnames(mydf) == \"clonecount\"] <- \"count\""
   ]
  },
  {
   "cell_type": "code",
   "execution_count": 179,
   "metadata": {},
   "outputs": [],
   "source": [
    "mydf$`subject:condition` <- paste(mydf$subject, \":\", mydf$index, sep = \"\")"
   ]
  },
  {
   "cell_type": "markdown",
   "metadata": {},
   "source": [
    "#save, then rbind with tabal and vdjdb, bind index with subject to create subject:condition, \n"
   ]
  },
  {
   "cell_type": "code",
   "execution_count": null,
   "metadata": {},
   "outputs": [],
   "source": []
  },
  {
   "cell_type": "code",
   "execution_count": null,
   "metadata": {},
   "outputs": [],
   "source": []
  },
  {
   "cell_type": "code",
   "execution_count": null,
   "metadata": {},
   "outputs": [],
   "source": []
  },
  {
   "cell_type": "code",
   "execution_count": 32,
   "metadata": {},
   "outputs": [],
   "source": [
    "#bind those with the same cdr3 + TRBV + TRBJ\n",
    "setDT(covidfle_uniq)\n",
    "\n",
    "ab <- covidfle_uniq[, .(subject = toString(`subject:condition`), #bind subjects\n",
    "                        count = sum(count)),  #get sum of counts\n",
    "                    by = c(\"CDR3b\", \"TRBV\", \"TRBJ\")] #get duplicates sequences with the same cdr3 + TRBV + TRBJ\n",
    "\n",
    "covidfle_uniq_ab <- merge(covidfle_uniq, ab, by = c(\"CDR3b\",\"TRBV\",\"TRBJ\")) # merge together"
   ]
  },
  {
   "cell_type": "code",
   "execution_count": 33,
   "metadata": {},
   "outputs": [
    {
     "data": {
      "text/html": [
       "<style>\n",
       ".list-inline {list-style: none; margin:0; padding: 0}\n",
       ".list-inline>li {display: inline-block}\n",
       ".list-inline>li:not(:last-child)::after {content: \"\\00b7\"; padding: 0 .5ex}\n",
       "</style>\n",
       "<ol class=list-inline><li>156033</li><li>7</li></ol>\n"
      ],
      "text/latex": [
       "\\begin{enumerate*}\n",
       "\\item 156033\n",
       "\\item 7\n",
       "\\end{enumerate*}\n"
      ],
      "text/markdown": [
       "1. 156033\n",
       "2. 7\n",
       "\n",
       "\n"
      ],
      "text/plain": [
       "[1] 156033      7"
      ]
     },
     "metadata": {},
     "output_type": "display_data"
    }
   ],
   "source": [
    "dim(covidfle_uniq_ab)"
   ]
  },
  {
   "cell_type": "code",
   "execution_count": 34,
   "metadata": {},
   "outputs": [
    {
     "data": {
      "text/html": [
       "<style>\n",
       ".list-inline {list-style: none; margin:0; padding: 0}\n",
       ".list-inline>li {display: inline-block}\n",
       ".list-inline>li:not(:last-child)::after {content: \"\\00b7\"; padding: 0 .5ex}\n",
       "</style>\n",
       "<ol class=list-inline><li>'CDR3b'</li><li>'TRBV'</li><li>'TRBJ'</li><li>'subject:condition'</li><li>'count.x'</li><li>'subject'</li><li>'count.y'</li></ol>\n"
      ],
      "text/latex": [
       "\\begin{enumerate*}\n",
       "\\item 'CDR3b'\n",
       "\\item 'TRBV'\n",
       "\\item 'TRBJ'\n",
       "\\item 'subject:condition'\n",
       "\\item 'count.x'\n",
       "\\item 'subject'\n",
       "\\item 'count.y'\n",
       "\\end{enumerate*}\n"
      ],
      "text/markdown": [
       "1. 'CDR3b'\n",
       "2. 'TRBV'\n",
       "3. 'TRBJ'\n",
       "4. 'subject:condition'\n",
       "5. 'count.x'\n",
       "6. 'subject'\n",
       "7. 'count.y'\n",
       "\n",
       "\n"
      ],
      "text/plain": [
       "[1] \"CDR3b\"             \"TRBV\"              \"TRBJ\"             \n",
       "[4] \"subject:condition\" \"count.x\"           \"subject\"          \n",
       "[7] \"count.y\"          "
      ]
     },
     "metadata": {},
     "output_type": "display_data"
    }
   ],
   "source": [
    "colnames(covidfle_uniq_ab)"
   ]
  },
  {
   "cell_type": "code",
   "execution_count": 35,
   "metadata": {},
   "outputs": [],
   "source": [
    "#dedup\n",
    "covidfle_uniq_ab_dedup <- dplyr::distinct(covidfle_uniq_ab, \n",
    "                                          CDR3b, TRBV, TRBJ, subject, .keep_all= TRUE)"
   ]
  },
  {
   "cell_type": "code",
   "execution_count": 36,
   "metadata": {},
   "outputs": [
    {
     "data": {
      "text/html": [
       "<table class=\"dataframe\">\n",
       "<caption>A data.table: 6 × 7</caption>\n",
       "<thead>\n",
       "\t<tr><th scope=col>CDR3b</th><th scope=col>TRBV</th><th scope=col>TRBJ</th><th scope=col>subject:condition</th><th scope=col>count.x</th><th scope=col>subject</th><th scope=col>count.y</th></tr>\n",
       "\t<tr><th scope=col>&lt;chr&gt;</th><th scope=col>&lt;chr&gt;</th><th scope=col>&lt;chr&gt;</th><th scope=col>&lt;chr&gt;</th><th scope=col>&lt;int&gt;</th><th scope=col>&lt;chr&gt;</th><th scope=col>&lt;int&gt;</th></tr>\n",
       "</thead>\n",
       "<tbody>\n",
       "\t<tr><td>AGVKITNSYEQYF   </td><td>TCRBV20-X </td><td>TCRBJ02-07</td><td>eHO134</td><td>1</td><td>eHO134</td><td>1</td></tr>\n",
       "\t<tr><td>AKNIQYF         </td><td>TCRBV27-01</td><td>TCRBJ02-04</td><td>eQD126</td><td>1</td><td>eQD126</td><td>1</td></tr>\n",
       "\t<tr><td>APYASKRAGYDNEQFF</td><td>TCRBV06-X </td><td>TCRBJ02-01</td><td>eHO141</td><td>1</td><td>eHO141</td><td>1</td></tr>\n",
       "\t<tr><td>ARLFSGANVLTF    </td><td>TCRBV07-02</td><td>TCRBJ02-06</td><td>eXL27 </td><td>1</td><td>eXL27 </td><td>1</td></tr>\n",
       "\t<tr><td>CAAAAPDTQYF     </td><td>TCRBV06-X </td><td>TCRBJ02-03</td><td>eOX46 </td><td>1</td><td>eOX46 </td><td>1</td></tr>\n",
       "\t<tr><td>CAAADRMTDTQYF   </td><td>TCRBV24-01</td><td>TCRBJ02-03</td><td>eHO130</td><td>1</td><td>eHO130</td><td>1</td></tr>\n",
       "</tbody>\n",
       "</table>\n"
      ],
      "text/latex": [
       "A data.table: 6 × 7\n",
       "\\begin{tabular}{lllllll}\n",
       " CDR3b & TRBV & TRBJ & subject:condition & count.x & subject & count.y\\\\\n",
       " <chr> & <chr> & <chr> & <chr> & <int> & <chr> & <int>\\\\\n",
       "\\hline\n",
       "\t AGVKITNSYEQYF    & TCRBV20-X  & TCRBJ02-07 & eHO134 & 1 & eHO134 & 1\\\\\n",
       "\t AKNIQYF          & TCRBV27-01 & TCRBJ02-04 & eQD126 & 1 & eQD126 & 1\\\\\n",
       "\t APYASKRAGYDNEQFF & TCRBV06-X  & TCRBJ02-01 & eHO141 & 1 & eHO141 & 1\\\\\n",
       "\t ARLFSGANVLTF     & TCRBV07-02 & TCRBJ02-06 & eXL27  & 1 & eXL27  & 1\\\\\n",
       "\t CAAAAPDTQYF      & TCRBV06-X  & TCRBJ02-03 & eOX46  & 1 & eOX46  & 1\\\\\n",
       "\t CAAADRMTDTQYF    & TCRBV24-01 & TCRBJ02-03 & eHO130 & 1 & eHO130 & 1\\\\\n",
       "\\end{tabular}\n"
      ],
      "text/markdown": [
       "\n",
       "A data.table: 6 × 7\n",
       "\n",
       "| CDR3b &lt;chr&gt; | TRBV &lt;chr&gt; | TRBJ &lt;chr&gt; | subject:condition &lt;chr&gt; | count.x &lt;int&gt; | subject &lt;chr&gt; | count.y &lt;int&gt; |\n",
       "|---|---|---|---|---|---|---|\n",
       "| AGVKITNSYEQYF    | TCRBV20-X  | TCRBJ02-07 | eHO134 | 1 | eHO134 | 1 |\n",
       "| AKNIQYF          | TCRBV27-01 | TCRBJ02-04 | eQD126 | 1 | eQD126 | 1 |\n",
       "| APYASKRAGYDNEQFF | TCRBV06-X  | TCRBJ02-01 | eHO141 | 1 | eHO141 | 1 |\n",
       "| ARLFSGANVLTF     | TCRBV07-02 | TCRBJ02-06 | eXL27  | 1 | eXL27  | 1 |\n",
       "| CAAAAPDTQYF      | TCRBV06-X  | TCRBJ02-03 | eOX46  | 1 | eOX46  | 1 |\n",
       "| CAAADRMTDTQYF    | TCRBV24-01 | TCRBJ02-03 | eHO130 | 1 | eHO130 | 1 |\n",
       "\n"
      ],
      "text/plain": [
       "  CDR3b            TRBV       TRBJ       subject:condition count.x subject\n",
       "1 AGVKITNSYEQYF    TCRBV20-X  TCRBJ02-07 eHO134            1       eHO134 \n",
       "2 AKNIQYF          TCRBV27-01 TCRBJ02-04 eQD126            1       eQD126 \n",
       "3 APYASKRAGYDNEQFF TCRBV06-X  TCRBJ02-01 eHO141            1       eHO141 \n",
       "4 ARLFSGANVLTF     TCRBV07-02 TCRBJ02-06 eXL27             1       eXL27  \n",
       "5 CAAAAPDTQYF      TCRBV06-X  TCRBJ02-03 eOX46             1       eOX46  \n",
       "6 CAAADRMTDTQYF    TCRBV24-01 TCRBJ02-03 eHO130            1       eHO130 \n",
       "  count.y\n",
       "1 1      \n",
       "2 1      \n",
       "3 1      \n",
       "4 1      \n",
       "5 1      \n",
       "6 1      "
      ]
     },
     "metadata": {},
     "output_type": "display_data"
    }
   ],
   "source": [
    "head(covidfle_uniq_ab_dedup)"
   ]
  },
  {
   "cell_type": "code",
   "execution_count": 40,
   "metadata": {},
   "outputs": [
    {
     "data": {
      "text/html": [
       "<style>\n",
       ".list-inline {list-style: none; margin:0; padding: 0}\n",
       ".list-inline>li {display: inline-block}\n",
       ".list-inline>li:not(:last-child)::after {content: \"\\00b7\"; padding: 0 .5ex}\n",
       "</style>\n",
       "<ol class=list-inline><li>148678</li><li>7</li></ol>\n"
      ],
      "text/latex": [
       "\\begin{enumerate*}\n",
       "\\item 148678\n",
       "\\item 7\n",
       "\\end{enumerate*}\n"
      ],
      "text/markdown": [
       "1. 148678\n",
       "2. 7\n",
       "\n",
       "\n"
      ],
      "text/plain": [
       "[1] 148678      7"
      ]
     },
     "metadata": {},
     "output_type": "display_data"
    }
   ],
   "source": [
    "dim(covidfle_uniq_ab_dedup)"
   ]
  },
  {
   "cell_type": "code",
   "execution_count": 38,
   "metadata": {},
   "outputs": [],
   "source": [
    "#replaqce TCRB with TRB\n",
    "covidfle_uniq_ab_dedup$TRBV <- gsub(\"TCRB\", \"TRB\", covidfle_uniq_ab_dedup$TRBV)\n",
    "covidfle_uniq_ab_dedup$TRBJ <- gsub(\"TCRB\", \"TRB\", covidfle_uniq_ab_dedup$TRBJ)"
   ]
  },
  {
   "cell_type": "code",
   "execution_count": 41,
   "metadata": {},
   "outputs": [
    {
     "data": {
      "text/html": [
       "<table class=\"dataframe\">\n",
       "<caption>A data.table: 6 × 7</caption>\n",
       "<thead>\n",
       "\t<tr><th scope=col>CDR3b</th><th scope=col>TRBV</th><th scope=col>TRBJ</th><th scope=col>subject:condition</th><th scope=col>count.x</th><th scope=col>subject</th><th scope=col>count.y</th></tr>\n",
       "\t<tr><th scope=col>&lt;chr&gt;</th><th scope=col>&lt;chr&gt;</th><th scope=col>&lt;chr&gt;</th><th scope=col>&lt;chr&gt;</th><th scope=col>&lt;int&gt;</th><th scope=col>&lt;chr&gt;</th><th scope=col>&lt;int&gt;</th></tr>\n",
       "</thead>\n",
       "<tbody>\n",
       "\t<tr><td>CASSIRSSYEQYF  </td><td>TRBV19-01      </td><td>TRBJ02-07</td><td>eOX46 </td><td>1</td><td>eOX46, ePD84, eHO128, eHO132, eHO125, ePD83, eHO136, eLH41, eHO124, ePD86, eLH42, eHO130, ePD76, eQD137, eQD123, eMR20, eEE243, eHH173, eHH174, eQD124, eHH169, eEE228, eXL27, eQD115, eXL36, eMR12, eLH47, eDH113, eEE226, eXL37, eDH96, eXL30</td><td>32</td></tr>\n",
       "\t<tr><td>CASSQTGGRNQPQHF</td><td>TRBV12-X       </td><td>TRBJ01-05</td><td>eLH41 </td><td>1</td><td>eLH41, eJL164, eXL31, eHO132, ePD86, eAV88, ePD84, eEE243, eXL37, eQD118, eEE224, eXL27, eMR12, eOX56, eLH47, eMR18, eLH46, eQD136, eOX43, eOX54, ePD76                                                                                        </td><td>21</td></tr>\n",
       "\t<tr><td>CASSLAGAYEQYF  </td><td>TRBV05-01      </td><td>TRBJ02-07</td><td>eJL143</td><td>1</td><td>eJL143, ePD79, eHH175, eLH45, eHO126, eXL31, eLH49, eLH42, eJL157, eHO135, eLH54, eMR14, eLH47, eAV91, eQD109, eQD111, eMR23, eQD123, eMR15                                                                                                    </td><td>19</td></tr>\n",
       "\t<tr><td>CASSFSYEQYF    </td><td>TRBV12-03/12-04</td><td>TRBJ02-07</td><td>eEE243</td><td>1</td><td>eEE243, eHH175, eXL30, eHO130, eJL149, eAV88, eXL27, eOX54, eEE224, eEE228, eOX49, eEE226, eOX52, eEE240, eOX46, eOX43, eXL31                                                                                                                  </td><td>17</td></tr>\n",
       "\t<tr><td>CASSLSAPQETQYF </td><td>TRBV27-01      </td><td>TRBJ02-05</td><td>eMR17 </td><td>1</td><td>eMR17, eJL161, eHO134, eQD124, eMR13, eQD111, eQD121, eHO140, eMR12, eQD125, eLH47, eEE226, eQD126, eQD114, eQD110, eQD120                                                                                                                     </td><td>16</td></tr>\n",
       "\t<tr><td>CASSVGETQYF    </td><td>TRBV09-01      </td><td>TRBJ02-05</td><td>eOX56 </td><td>1</td><td>eOX56, eEE224, eEE226, eEE228, eOX49, eOX54, eOX52, eXL27, eXL30, eOX43, eOX46, eXL32, eEE240, eAV88, eQD128, eHH175                                                                                                                           </td><td>16</td></tr>\n",
       "</tbody>\n",
       "</table>\n"
      ],
      "text/latex": [
       "A data.table: 6 × 7\n",
       "\\begin{tabular}{lllllll}\n",
       " CDR3b & TRBV & TRBJ & subject:condition & count.x & subject & count.y\\\\\n",
       " <chr> & <chr> & <chr> & <chr> & <int> & <chr> & <int>\\\\\n",
       "\\hline\n",
       "\t CASSIRSSYEQYF   & TRBV19-01       & TRBJ02-07 & eOX46  & 1 & eOX46, ePD84, eHO128, eHO132, eHO125, ePD83, eHO136, eLH41, eHO124, ePD86, eLH42, eHO130, ePD76, eQD137, eQD123, eMR20, eEE243, eHH173, eHH174, eQD124, eHH169, eEE228, eXL27, eQD115, eXL36, eMR12, eLH47, eDH113, eEE226, eXL37, eDH96, eXL30 & 32\\\\\n",
       "\t CASSQTGGRNQPQHF & TRBV12-X        & TRBJ01-05 & eLH41  & 1 & eLH41, eJL164, eXL31, eHO132, ePD86, eAV88, ePD84, eEE243, eXL37, eQD118, eEE224, eXL27, eMR12, eOX56, eLH47, eMR18, eLH46, eQD136, eOX43, eOX54, ePD76                                                                                         & 21\\\\\n",
       "\t CASSLAGAYEQYF   & TRBV05-01       & TRBJ02-07 & eJL143 & 1 & eJL143, ePD79, eHH175, eLH45, eHO126, eXL31, eLH49, eLH42, eJL157, eHO135, eLH54, eMR14, eLH47, eAV91, eQD109, eQD111, eMR23, eQD123, eMR15                                                                                                     & 19\\\\\n",
       "\t CASSFSYEQYF     & TRBV12-03/12-04 & TRBJ02-07 & eEE243 & 1 & eEE243, eHH175, eXL30, eHO130, eJL149, eAV88, eXL27, eOX54, eEE224, eEE228, eOX49, eEE226, eOX52, eEE240, eOX46, eOX43, eXL31                                                                                                                   & 17\\\\\n",
       "\t CASSLSAPQETQYF  & TRBV27-01       & TRBJ02-05 & eMR17  & 1 & eMR17, eJL161, eHO134, eQD124, eMR13, eQD111, eQD121, eHO140, eMR12, eQD125, eLH47, eEE226, eQD126, eQD114, eQD110, eQD120                                                                                                                      & 16\\\\\n",
       "\t CASSVGETQYF     & TRBV09-01       & TRBJ02-05 & eOX56  & 1 & eOX56, eEE224, eEE226, eEE228, eOX49, eOX54, eOX52, eXL27, eXL30, eOX43, eOX46, eXL32, eEE240, eAV88, eQD128, eHH175                                                                                                                            & 16\\\\\n",
       "\\end{tabular}\n"
      ],
      "text/markdown": [
       "\n",
       "A data.table: 6 × 7\n",
       "\n",
       "| CDR3b &lt;chr&gt; | TRBV &lt;chr&gt; | TRBJ &lt;chr&gt; | subject:condition &lt;chr&gt; | count.x &lt;int&gt; | subject &lt;chr&gt; | count.y &lt;int&gt; |\n",
       "|---|---|---|---|---|---|---|\n",
       "| CASSIRSSYEQYF   | TRBV19-01       | TRBJ02-07 | eOX46  | 1 | eOX46, ePD84, eHO128, eHO132, eHO125, ePD83, eHO136, eLH41, eHO124, ePD86, eLH42, eHO130, ePD76, eQD137, eQD123, eMR20, eEE243, eHH173, eHH174, eQD124, eHH169, eEE228, eXL27, eQD115, eXL36, eMR12, eLH47, eDH113, eEE226, eXL37, eDH96, eXL30 | 32 |\n",
       "| CASSQTGGRNQPQHF | TRBV12-X        | TRBJ01-05 | eLH41  | 1 | eLH41, eJL164, eXL31, eHO132, ePD86, eAV88, ePD84, eEE243, eXL37, eQD118, eEE224, eXL27, eMR12, eOX56, eLH47, eMR18, eLH46, eQD136, eOX43, eOX54, ePD76                                                                                         | 21 |\n",
       "| CASSLAGAYEQYF   | TRBV05-01       | TRBJ02-07 | eJL143 | 1 | eJL143, ePD79, eHH175, eLH45, eHO126, eXL31, eLH49, eLH42, eJL157, eHO135, eLH54, eMR14, eLH47, eAV91, eQD109, eQD111, eMR23, eQD123, eMR15                                                                                                     | 19 |\n",
       "| CASSFSYEQYF     | TRBV12-03/12-04 | TRBJ02-07 | eEE243 | 1 | eEE243, eHH175, eXL30, eHO130, eJL149, eAV88, eXL27, eOX54, eEE224, eEE228, eOX49, eEE226, eOX52, eEE240, eOX46, eOX43, eXL31                                                                                                                   | 17 |\n",
       "| CASSLSAPQETQYF  | TRBV27-01       | TRBJ02-05 | eMR17  | 1 | eMR17, eJL161, eHO134, eQD124, eMR13, eQD111, eQD121, eHO140, eMR12, eQD125, eLH47, eEE226, eQD126, eQD114, eQD110, eQD120                                                                                                                      | 16 |\n",
       "| CASSVGETQYF     | TRBV09-01       | TRBJ02-05 | eOX56  | 1 | eOX56, eEE224, eEE226, eEE228, eOX49, eOX54, eOX52, eXL27, eXL30, eOX43, eOX46, eXL32, eEE240, eAV88, eQD128, eHH175                                                                                                                            | 16 |\n",
       "\n"
      ],
      "text/plain": [
       "  CDR3b           TRBV            TRBJ      subject:condition count.x\n",
       "1 CASSIRSSYEQYF   TRBV19-01       TRBJ02-07 eOX46             1      \n",
       "2 CASSQTGGRNQPQHF TRBV12-X        TRBJ01-05 eLH41             1      \n",
       "3 CASSLAGAYEQYF   TRBV05-01       TRBJ02-07 eJL143            1      \n",
       "4 CASSFSYEQYF     TRBV12-03/12-04 TRBJ02-07 eEE243            1      \n",
       "5 CASSLSAPQETQYF  TRBV27-01       TRBJ02-05 eMR17             1      \n",
       "6 CASSVGETQYF     TRBV09-01       TRBJ02-05 eOX56             1      \n",
       "  subject                                                                                                                                                                                                                                        \n",
       "1 eOX46, ePD84, eHO128, eHO132, eHO125, ePD83, eHO136, eLH41, eHO124, ePD86, eLH42, eHO130, ePD76, eQD137, eQD123, eMR20, eEE243, eHH173, eHH174, eQD124, eHH169, eEE228, eXL27, eQD115, eXL36, eMR12, eLH47, eDH113, eEE226, eXL37, eDH96, eXL30\n",
       "2 eLH41, eJL164, eXL31, eHO132, ePD86, eAV88, ePD84, eEE243, eXL37, eQD118, eEE224, eXL27, eMR12, eOX56, eLH47, eMR18, eLH46, eQD136, eOX43, eOX54, ePD76                                                                                        \n",
       "3 eJL143, ePD79, eHH175, eLH45, eHO126, eXL31, eLH49, eLH42, eJL157, eHO135, eLH54, eMR14, eLH47, eAV91, eQD109, eQD111, eMR23, eQD123, eMR15                                                                                                    \n",
       "4 eEE243, eHH175, eXL30, eHO130, eJL149, eAV88, eXL27, eOX54, eEE224, eEE228, eOX49, eEE226, eOX52, eEE240, eOX46, eOX43, eXL31                                                                                                                  \n",
       "5 eMR17, eJL161, eHO134, eQD124, eMR13, eQD111, eQD121, eHO140, eMR12, eQD125, eLH47, eEE226, eQD126, eQD114, eQD110, eQD120                                                                                                                     \n",
       "6 eOX56, eEE224, eEE226, eEE228, eOX49, eOX54, eOX52, eXL27, eXL30, eOX43, eOX46, eXL32, eEE240, eAV88, eQD128, eHH175                                                                                                                           \n",
       "  count.y\n",
       "1 32     \n",
       "2 21     \n",
       "3 19     \n",
       "4 17     \n",
       "5 16     \n",
       "6 16     "
      ]
     },
     "metadata": {},
     "output_type": "display_data"
    }
   ],
   "source": [
    "head(covidfle_uniq_ab_dedup[order(covidfle_uniq_ab_dedup$count.y, decreasing = T),])"
   ]
  },
  {
   "cell_type": "code",
   "execution_count": 42,
   "metadata": {},
   "outputs": [],
   "source": [
    "covidfle_uniq_ab_dedup$file <- \"COVID_specific_TCRB.tsv\""
   ]
  },
  {
   "cell_type": "code",
   "execution_count": 45,
   "metadata": {},
   "outputs": [],
   "source": [
    "covidfle_uniq_ab_dedup$clonefraction <- 1"
   ]
  },
  {
   "cell_type": "code",
   "execution_count": 47,
   "metadata": {},
   "outputs": [],
   "source": [
    "covidfle_uniq_ab_dedup_subset <- covidfle_uniq_ab_dedup[,c(\"CDR3b\", \"TRBV\", \"TRBJ\", \"subject:condition\",\n",
    "                                                          \"count.y\", \"clonefraction\", \"subject\",\"file\")]"
   ]
  },
  {
   "cell_type": "code",
   "execution_count": 49,
   "metadata": {},
   "outputs": [],
   "source": [
    "colnames(covidfle_uniq_ab_dedup_subset)[ colnames(covidfle_uniq_ab_dedup_subset) == \"count.y\"] <- \"count\""
   ]
  },
  {
   "cell_type": "code",
   "execution_count": 73,
   "metadata": {},
   "outputs": [],
   "source": [
    "covidfle_uniq_ab_dedup_subset$index <- 1:nrow(covidfle_uniq_ab_dedup_subset)"
   ]
  },
  {
   "cell_type": "code",
   "execution_count": 74,
   "metadata": {},
   "outputs": [],
   "source": [
    "save(covidfle_uniq_ab_dedup_subset, file = paste0(datapath, \"capTCRseq/covidfle_uniq_ab_dedup_subset.RData\"))"
   ]
  },
  {
   "cell_type": "markdown",
   "metadata": {},
   "source": [
    "# bind all"
   ]
  },
  {
   "cell_type": "code",
   "execution_count": 162,
   "metadata": {},
   "outputs": [],
   "source": [
    "load(file = paste0(datapath, \"capTCRseq/INT_gliph_input.RData\"))"
   ]
  },
  {
   "cell_type": "code",
   "execution_count": 163,
   "metadata": {},
   "outputs": [
    {
     "data": {
      "text/html": [
       "<table class=\"dataframe\">\n",
       "<caption>A data.table: 6 × 9</caption>\n",
       "<thead>\n",
       "\t<tr><th scope=col>CDR3b</th><th scope=col>TRBV</th><th scope=col>TRBJ</th><th scope=col>subject:condition</th><th scope=col>count</th><th scope=col>clonefraction</th><th scope=col>subject</th><th scope=col>file</th><th scope=col>index</th></tr>\n",
       "\t<tr><th scope=col>&lt;chr&gt;</th><th scope=col>&lt;chr&gt;</th><th scope=col>&lt;chr&gt;</th><th scope=col>&lt;chr&gt;</th><th scope=col>&lt;int&gt;</th><th scope=col>&lt;dbl&gt;</th><th scope=col>&lt;chr&gt;</th><th scope=col>&lt;chr&gt;</th><th scope=col>&lt;int&gt;</th></tr>\n",
       "</thead>\n",
       "<tbody>\n",
       "\t<tr><td>CAIRDPEQGITDTQYF </td><td>TRBV10-3</td><td>TRBJ2-3</td><td>CHP_315</td><td>24</td><td>0.025369979</td><td>CHP_315-05-PBMC-DNA</td><td>/Users/anabbi/Desktop/H4H/INTERCEPT/NextSeq/batch4_19Aug2019/mixcr/clones/CLONES_TRBCHP_315-05-PBMC-DNA.txt</td><td>1</td></tr>\n",
       "\t<tr><td>CAIRGTGADQPQHF   </td><td>TRBV10-3</td><td>TRBJ1-5</td><td>CHP_315</td><td>21</td><td>0.022198732</td><td>CHP_315-05-PBMC-DNA</td><td>/Users/anabbi/Desktop/H4H/INTERCEPT/NextSeq/batch4_19Aug2019/mixcr/clones/CLONES_TRBCHP_315-05-PBMC-DNA.txt</td><td>2</td></tr>\n",
       "\t<tr><td>CAISGVWGGDTQYF   </td><td>TRBV10-3</td><td>TRBJ2-3</td><td>CHP_315</td><td>12</td><td>0.012684989</td><td>CHP_315-05-PBMC-DNA</td><td>/Users/anabbi/Desktop/H4H/INTERCEPT/NextSeq/batch4_19Aug2019/mixcr/clones/CLONES_TRBCHP_315-05-PBMC-DNA.txt</td><td>3</td></tr>\n",
       "\t<tr><td>CASRLAGTGSPLHF   </td><td>TRBV6-1 </td><td>TRBJ1-6</td><td>CHP_315</td><td> 2</td><td>0.002114165</td><td>CHP_315-05-PBMC-DNA</td><td>/Users/anabbi/Desktop/H4H/INTERCEPT/NextSeq/batch4_19Aug2019/mixcr/clones/CLONES_TRBCHP_315-05-PBMC-DNA.txt</td><td>4</td></tr>\n",
       "\t<tr><td>CASSDPQGTEAFF    </td><td>TRBV6-2 </td><td>TRBJ1-1</td><td>CHP_315</td><td>21</td><td>0.022198732</td><td>CHP_315-05-PBMC-DNA</td><td>/Users/anabbi/Desktop/H4H/INTERCEPT/NextSeq/batch4_19Aug2019/mixcr/clones/CLONES_TRBCHP_315-05-PBMC-DNA.txt</td><td>5</td></tr>\n",
       "\t<tr><td>CASSEEPGTSGYNEQFF</td><td>TRBV2   </td><td>TRBJ2-1</td><td>CHP_315</td><td> 6</td><td>0.006342495</td><td>CHP_315-05-PBMC-DNA</td><td>/Users/anabbi/Desktop/H4H/INTERCEPT/NextSeq/batch4_19Aug2019/mixcr/clones/CLONES_TRBCHP_315-05-PBMC-DNA.txt</td><td>6</td></tr>\n",
       "</tbody>\n",
       "</table>\n"
      ],
      "text/latex": [
       "A data.table: 6 × 9\n",
       "\\begin{tabular}{lllllllll}\n",
       " CDR3b & TRBV & TRBJ & subject:condition & count & clonefraction & subject & file & index\\\\\n",
       " <chr> & <chr> & <chr> & <chr> & <int> & <dbl> & <chr> & <chr> & <int>\\\\\n",
       "\\hline\n",
       "\t CAIRDPEQGITDTQYF  & TRBV10-3 & TRBJ2-3 & CHP\\_315 & 24 & 0.025369979 & CHP\\_315-05-PBMC-DNA & /Users/anabbi/Desktop/H4H/INTERCEPT/NextSeq/batch4\\_19Aug2019/mixcr/clones/CLONES\\_TRBCHP\\_315-05-PBMC-DNA.txt & 1\\\\\n",
       "\t CAIRGTGADQPQHF    & TRBV10-3 & TRBJ1-5 & CHP\\_315 & 21 & 0.022198732 & CHP\\_315-05-PBMC-DNA & /Users/anabbi/Desktop/H4H/INTERCEPT/NextSeq/batch4\\_19Aug2019/mixcr/clones/CLONES\\_TRBCHP\\_315-05-PBMC-DNA.txt & 2\\\\\n",
       "\t CAISGVWGGDTQYF    & TRBV10-3 & TRBJ2-3 & CHP\\_315 & 12 & 0.012684989 & CHP\\_315-05-PBMC-DNA & /Users/anabbi/Desktop/H4H/INTERCEPT/NextSeq/batch4\\_19Aug2019/mixcr/clones/CLONES\\_TRBCHP\\_315-05-PBMC-DNA.txt & 3\\\\\n",
       "\t CASRLAGTGSPLHF    & TRBV6-1  & TRBJ1-6 & CHP\\_315 &  2 & 0.002114165 & CHP\\_315-05-PBMC-DNA & /Users/anabbi/Desktop/H4H/INTERCEPT/NextSeq/batch4\\_19Aug2019/mixcr/clones/CLONES\\_TRBCHP\\_315-05-PBMC-DNA.txt & 4\\\\\n",
       "\t CASSDPQGTEAFF     & TRBV6-2  & TRBJ1-1 & CHP\\_315 & 21 & 0.022198732 & CHP\\_315-05-PBMC-DNA & /Users/anabbi/Desktop/H4H/INTERCEPT/NextSeq/batch4\\_19Aug2019/mixcr/clones/CLONES\\_TRBCHP\\_315-05-PBMC-DNA.txt & 5\\\\\n",
       "\t CASSEEPGTSGYNEQFF & TRBV2    & TRBJ2-1 & CHP\\_315 &  6 & 0.006342495 & CHP\\_315-05-PBMC-DNA & /Users/anabbi/Desktop/H4H/INTERCEPT/NextSeq/batch4\\_19Aug2019/mixcr/clones/CLONES\\_TRBCHP\\_315-05-PBMC-DNA.txt & 6\\\\\n",
       "\\end{tabular}\n"
      ],
      "text/markdown": [
       "\n",
       "A data.table: 6 × 9\n",
       "\n",
       "| CDR3b &lt;chr&gt; | TRBV &lt;chr&gt; | TRBJ &lt;chr&gt; | subject:condition &lt;chr&gt; | count &lt;int&gt; | clonefraction &lt;dbl&gt; | subject &lt;chr&gt; | file &lt;chr&gt; | index &lt;int&gt; |\n",
       "|---|---|---|---|---|---|---|---|---|\n",
       "| CAIRDPEQGITDTQYF  | TRBV10-3 | TRBJ2-3 | CHP_315 | 24 | 0.025369979 | CHP_315-05-PBMC-DNA | /Users/anabbi/Desktop/H4H/INTERCEPT/NextSeq/batch4_19Aug2019/mixcr/clones/CLONES_TRBCHP_315-05-PBMC-DNA.txt | 1 |\n",
       "| CAIRGTGADQPQHF    | TRBV10-3 | TRBJ1-5 | CHP_315 | 21 | 0.022198732 | CHP_315-05-PBMC-DNA | /Users/anabbi/Desktop/H4H/INTERCEPT/NextSeq/batch4_19Aug2019/mixcr/clones/CLONES_TRBCHP_315-05-PBMC-DNA.txt | 2 |\n",
       "| CAISGVWGGDTQYF    | TRBV10-3 | TRBJ2-3 | CHP_315 | 12 | 0.012684989 | CHP_315-05-PBMC-DNA | /Users/anabbi/Desktop/H4H/INTERCEPT/NextSeq/batch4_19Aug2019/mixcr/clones/CLONES_TRBCHP_315-05-PBMC-DNA.txt | 3 |\n",
       "| CASRLAGTGSPLHF    | TRBV6-1  | TRBJ1-6 | CHP_315 |  2 | 0.002114165 | CHP_315-05-PBMC-DNA | /Users/anabbi/Desktop/H4H/INTERCEPT/NextSeq/batch4_19Aug2019/mixcr/clones/CLONES_TRBCHP_315-05-PBMC-DNA.txt | 4 |\n",
       "| CASSDPQGTEAFF     | TRBV6-2  | TRBJ1-1 | CHP_315 | 21 | 0.022198732 | CHP_315-05-PBMC-DNA | /Users/anabbi/Desktop/H4H/INTERCEPT/NextSeq/batch4_19Aug2019/mixcr/clones/CLONES_TRBCHP_315-05-PBMC-DNA.txt | 5 |\n",
       "| CASSEEPGTSGYNEQFF | TRBV2    | TRBJ2-1 | CHP_315 |  6 | 0.006342495 | CHP_315-05-PBMC-DNA | /Users/anabbi/Desktop/H4H/INTERCEPT/NextSeq/batch4_19Aug2019/mixcr/clones/CLONES_TRBCHP_315-05-PBMC-DNA.txt | 6 |\n",
       "\n"
      ],
      "text/plain": [
       "  CDR3b             TRBV     TRBJ    subject:condition count clonefraction\n",
       "1 CAIRDPEQGITDTQYF  TRBV10-3 TRBJ2-3 CHP_315           24    0.025369979  \n",
       "2 CAIRGTGADQPQHF    TRBV10-3 TRBJ1-5 CHP_315           21    0.022198732  \n",
       "3 CAISGVWGGDTQYF    TRBV10-3 TRBJ2-3 CHP_315           12    0.012684989  \n",
       "4 CASRLAGTGSPLHF    TRBV6-1  TRBJ1-6 CHP_315            2    0.002114165  \n",
       "5 CASSDPQGTEAFF     TRBV6-2  TRBJ1-1 CHP_315           21    0.022198732  \n",
       "6 CASSEEPGTSGYNEQFF TRBV2    TRBJ2-1 CHP_315            6    0.006342495  \n",
       "  subject            \n",
       "1 CHP_315-05-PBMC-DNA\n",
       "2 CHP_315-05-PBMC-DNA\n",
       "3 CHP_315-05-PBMC-DNA\n",
       "4 CHP_315-05-PBMC-DNA\n",
       "5 CHP_315-05-PBMC-DNA\n",
       "6 CHP_315-05-PBMC-DNA\n",
       "  file                                                                                                       \n",
       "1 /Users/anabbi/Desktop/H4H/INTERCEPT/NextSeq/batch4_19Aug2019/mixcr/clones/CLONES_TRBCHP_315-05-PBMC-DNA.txt\n",
       "2 /Users/anabbi/Desktop/H4H/INTERCEPT/NextSeq/batch4_19Aug2019/mixcr/clones/CLONES_TRBCHP_315-05-PBMC-DNA.txt\n",
       "3 /Users/anabbi/Desktop/H4H/INTERCEPT/NextSeq/batch4_19Aug2019/mixcr/clones/CLONES_TRBCHP_315-05-PBMC-DNA.txt\n",
       "4 /Users/anabbi/Desktop/H4H/INTERCEPT/NextSeq/batch4_19Aug2019/mixcr/clones/CLONES_TRBCHP_315-05-PBMC-DNA.txt\n",
       "5 /Users/anabbi/Desktop/H4H/INTERCEPT/NextSeq/batch4_19Aug2019/mixcr/clones/CLONES_TRBCHP_315-05-PBMC-DNA.txt\n",
       "6 /Users/anabbi/Desktop/H4H/INTERCEPT/NextSeq/batch4_19Aug2019/mixcr/clones/CLONES_TRBCHP_315-05-PBMC-DNA.txt\n",
       "  index\n",
       "1 1    \n",
       "2 2    \n",
       "3 3    \n",
       "4 4    \n",
       "5 5    \n",
       "6 6    "
      ]
     },
     "metadata": {},
     "output_type": "display_data"
    }
   ],
   "source": [
    "head(taball)"
   ]
  },
  {
   "cell_type": "code",
   "execution_count": 7,
   "metadata": {},
   "outputs": [],
   "source": [
    "#load(file = paste0(datapath, \"capTCRseq/covidfle_uniq_ab_dedup_subset.RData\"))"
   ]
  },
  {
   "cell_type": "code",
   "execution_count": 8,
   "metadata": {},
   "outputs": [],
   "source": [
    "load(file = paste0(datapath, \"capTCRseq/VDJdb_tcr_cleanup.RData\"))"
   ]
  },
  {
   "cell_type": "code",
   "execution_count": 9,
   "metadata": {},
   "outputs": [],
   "source": [
    "gliph_int_covid_tcr <- rbind(taball, covidfle_uniq_ab_dedup_subset, VDJdb_tcr_cleanup)"
   ]
  },
  {
   "cell_type": "code",
   "execution_count": 10,
   "metadata": {
    "scrolled": true
   },
   "outputs": [],
   "source": [
    "gliph_int_covid_tcr$CDR3a <- NA"
   ]
  },
  {
   "cell_type": "code",
   "execution_count": 11,
   "metadata": {},
   "outputs": [],
   "source": [
    "gliph_int_covid_tcr <- gliph_int_covid_tcr[,c('CDR3b','TRBV','TRBJ','CDR3a', 'subject:condition','count',\n",
    "                                              'clonefraction','subject','file','index')]"
   ]
  },
  {
   "cell_type": "code",
   "execution_count": 12,
   "metadata": {},
   "outputs": [],
   "source": [
    "#bind subject and index to be able to map back to gliph_int_covid_tcr\n",
    "gliph_int_covid_tcr$`subject:condition` <- paste(gliph_int_covid_tcr$`subject:condition`,\n",
    "                                                 gliph_int_covid_tcr$index, sep = \":\")"
   ]
  },
  {
   "cell_type": "code",
   "execution_count": 13,
   "metadata": {},
   "outputs": [],
   "source": [
    "save(gliph_int_covid_tcr, file = paste0(datapath, \"capTCRseq/gliph_int_covid_tcr.RData\"))"
   ]
  },
  {
   "cell_type": "code",
   "execution_count": 14,
   "metadata": {},
   "outputs": [],
   "source": [
    "#remove header and select cols 1:6 for gliph to work\n",
    "write.table(gliph_int_covid_tcr[,1:6], file = paste0(h4hpath,'/GLIPH/gliph_int_covid_tcr.txt'),\n",
    "         sep = \"\\t\", quote = F, row.names = F, col.names = F)"
   ]
  },
  {
   "cell_type": "code",
   "execution_count": 182,
   "metadata": {},
   "outputs": [],
   "source": [
    "load(file = paste0(datapath, \"capTCRseq/gliph_int_covid_tcr.RData\"))"
   ]
  },
  {
   "cell_type": "code",
   "execution_count": 183,
   "metadata": {},
   "outputs": [
    {
     "data": {
      "text/html": [
       "<table class=\"dataframe\">\n",
       "<caption>A data.table: 6 × 10</caption>\n",
       "<thead>\n",
       "\t<tr><th scope=col>CDR3b</th><th scope=col>TRBV</th><th scope=col>TRBJ</th><th scope=col>CDR3a</th><th scope=col>subject:condition</th><th scope=col>count</th><th scope=col>clonefraction</th><th scope=col>subject</th><th scope=col>file</th><th scope=col>index</th></tr>\n",
       "\t<tr><th scope=col>&lt;chr&gt;</th><th scope=col>&lt;chr&gt;</th><th scope=col>&lt;chr&gt;</th><th scope=col>&lt;lgl&gt;</th><th scope=col>&lt;chr&gt;</th><th scope=col>&lt;dbl&gt;</th><th scope=col>&lt;dbl&gt;</th><th scope=col>&lt;chr&gt;</th><th scope=col>&lt;chr&gt;</th><th scope=col>&lt;int&gt;</th></tr>\n",
       "</thead>\n",
       "<tbody>\n",
       "\t<tr><td>CAIRDPEQGITDTQYF </td><td>TRBV10-3</td><td>TRBJ2-3</td><td>NA</td><td>CHP_315:1</td><td>24</td><td>0.025369979</td><td>CHP_315-05-PBMC-DNA</td><td>/Users/anabbi/Desktop/H4H/INTERCEPT/NextSeq/batch4_19Aug2019/mixcr/clones/CLONES_TRBCHP_315-05-PBMC-DNA.txt</td><td>1</td></tr>\n",
       "\t<tr><td>CAIRGTGADQPQHF   </td><td>TRBV10-3</td><td>TRBJ1-5</td><td>NA</td><td>CHP_315:2</td><td>21</td><td>0.022198732</td><td>CHP_315-05-PBMC-DNA</td><td>/Users/anabbi/Desktop/H4H/INTERCEPT/NextSeq/batch4_19Aug2019/mixcr/clones/CLONES_TRBCHP_315-05-PBMC-DNA.txt</td><td>2</td></tr>\n",
       "\t<tr><td>CAISGVWGGDTQYF   </td><td>TRBV10-3</td><td>TRBJ2-3</td><td>NA</td><td>CHP_315:3</td><td>12</td><td>0.012684989</td><td>CHP_315-05-PBMC-DNA</td><td>/Users/anabbi/Desktop/H4H/INTERCEPT/NextSeq/batch4_19Aug2019/mixcr/clones/CLONES_TRBCHP_315-05-PBMC-DNA.txt</td><td>3</td></tr>\n",
       "\t<tr><td>CASRLAGTGSPLHF   </td><td>TRBV6-1 </td><td>TRBJ1-6</td><td>NA</td><td>CHP_315:4</td><td> 2</td><td>0.002114165</td><td>CHP_315-05-PBMC-DNA</td><td>/Users/anabbi/Desktop/H4H/INTERCEPT/NextSeq/batch4_19Aug2019/mixcr/clones/CLONES_TRBCHP_315-05-PBMC-DNA.txt</td><td>4</td></tr>\n",
       "\t<tr><td>CASSDPQGTEAFF    </td><td>TRBV6-2 </td><td>TRBJ1-1</td><td>NA</td><td>CHP_315:5</td><td>21</td><td>0.022198732</td><td>CHP_315-05-PBMC-DNA</td><td>/Users/anabbi/Desktop/H4H/INTERCEPT/NextSeq/batch4_19Aug2019/mixcr/clones/CLONES_TRBCHP_315-05-PBMC-DNA.txt</td><td>5</td></tr>\n",
       "\t<tr><td>CASSEEPGTSGYNEQFF</td><td>TRBV2   </td><td>TRBJ2-1</td><td>NA</td><td>CHP_315:6</td><td> 6</td><td>0.006342495</td><td>CHP_315-05-PBMC-DNA</td><td>/Users/anabbi/Desktop/H4H/INTERCEPT/NextSeq/batch4_19Aug2019/mixcr/clones/CLONES_TRBCHP_315-05-PBMC-DNA.txt</td><td>6</td></tr>\n",
       "</tbody>\n",
       "</table>\n"
      ],
      "text/latex": [
       "A data.table: 6 × 10\n",
       "\\begin{tabular}{llllllllll}\n",
       " CDR3b & TRBV & TRBJ & CDR3a & subject:condition & count & clonefraction & subject & file & index\\\\\n",
       " <chr> & <chr> & <chr> & <lgl> & <chr> & <dbl> & <dbl> & <chr> & <chr> & <int>\\\\\n",
       "\\hline\n",
       "\t CAIRDPEQGITDTQYF  & TRBV10-3 & TRBJ2-3 & NA & CHP\\_315:1 & 24 & 0.025369979 & CHP\\_315-05-PBMC-DNA & /Users/anabbi/Desktop/H4H/INTERCEPT/NextSeq/batch4\\_19Aug2019/mixcr/clones/CLONES\\_TRBCHP\\_315-05-PBMC-DNA.txt & 1\\\\\n",
       "\t CAIRGTGADQPQHF    & TRBV10-3 & TRBJ1-5 & NA & CHP\\_315:2 & 21 & 0.022198732 & CHP\\_315-05-PBMC-DNA & /Users/anabbi/Desktop/H4H/INTERCEPT/NextSeq/batch4\\_19Aug2019/mixcr/clones/CLONES\\_TRBCHP\\_315-05-PBMC-DNA.txt & 2\\\\\n",
       "\t CAISGVWGGDTQYF    & TRBV10-3 & TRBJ2-3 & NA & CHP\\_315:3 & 12 & 0.012684989 & CHP\\_315-05-PBMC-DNA & /Users/anabbi/Desktop/H4H/INTERCEPT/NextSeq/batch4\\_19Aug2019/mixcr/clones/CLONES\\_TRBCHP\\_315-05-PBMC-DNA.txt & 3\\\\\n",
       "\t CASRLAGTGSPLHF    & TRBV6-1  & TRBJ1-6 & NA & CHP\\_315:4 &  2 & 0.002114165 & CHP\\_315-05-PBMC-DNA & /Users/anabbi/Desktop/H4H/INTERCEPT/NextSeq/batch4\\_19Aug2019/mixcr/clones/CLONES\\_TRBCHP\\_315-05-PBMC-DNA.txt & 4\\\\\n",
       "\t CASSDPQGTEAFF     & TRBV6-2  & TRBJ1-1 & NA & CHP\\_315:5 & 21 & 0.022198732 & CHP\\_315-05-PBMC-DNA & /Users/anabbi/Desktop/H4H/INTERCEPT/NextSeq/batch4\\_19Aug2019/mixcr/clones/CLONES\\_TRBCHP\\_315-05-PBMC-DNA.txt & 5\\\\\n",
       "\t CASSEEPGTSGYNEQFF & TRBV2    & TRBJ2-1 & NA & CHP\\_315:6 &  6 & 0.006342495 & CHP\\_315-05-PBMC-DNA & /Users/anabbi/Desktop/H4H/INTERCEPT/NextSeq/batch4\\_19Aug2019/mixcr/clones/CLONES\\_TRBCHP\\_315-05-PBMC-DNA.txt & 6\\\\\n",
       "\\end{tabular}\n"
      ],
      "text/markdown": [
       "\n",
       "A data.table: 6 × 10\n",
       "\n",
       "| CDR3b &lt;chr&gt; | TRBV &lt;chr&gt; | TRBJ &lt;chr&gt; | CDR3a &lt;lgl&gt; | subject:condition &lt;chr&gt; | count &lt;dbl&gt; | clonefraction &lt;dbl&gt; | subject &lt;chr&gt; | file &lt;chr&gt; | index &lt;int&gt; |\n",
       "|---|---|---|---|---|---|---|---|---|---|\n",
       "| CAIRDPEQGITDTQYF  | TRBV10-3 | TRBJ2-3 | NA | CHP_315:1 | 24 | 0.025369979 | CHP_315-05-PBMC-DNA | /Users/anabbi/Desktop/H4H/INTERCEPT/NextSeq/batch4_19Aug2019/mixcr/clones/CLONES_TRBCHP_315-05-PBMC-DNA.txt | 1 |\n",
       "| CAIRGTGADQPQHF    | TRBV10-3 | TRBJ1-5 | NA | CHP_315:2 | 21 | 0.022198732 | CHP_315-05-PBMC-DNA | /Users/anabbi/Desktop/H4H/INTERCEPT/NextSeq/batch4_19Aug2019/mixcr/clones/CLONES_TRBCHP_315-05-PBMC-DNA.txt | 2 |\n",
       "| CAISGVWGGDTQYF    | TRBV10-3 | TRBJ2-3 | NA | CHP_315:3 | 12 | 0.012684989 | CHP_315-05-PBMC-DNA | /Users/anabbi/Desktop/H4H/INTERCEPT/NextSeq/batch4_19Aug2019/mixcr/clones/CLONES_TRBCHP_315-05-PBMC-DNA.txt | 3 |\n",
       "| CASRLAGTGSPLHF    | TRBV6-1  | TRBJ1-6 | NA | CHP_315:4 |  2 | 0.002114165 | CHP_315-05-PBMC-DNA | /Users/anabbi/Desktop/H4H/INTERCEPT/NextSeq/batch4_19Aug2019/mixcr/clones/CLONES_TRBCHP_315-05-PBMC-DNA.txt | 4 |\n",
       "| CASSDPQGTEAFF     | TRBV6-2  | TRBJ1-1 | NA | CHP_315:5 | 21 | 0.022198732 | CHP_315-05-PBMC-DNA | /Users/anabbi/Desktop/H4H/INTERCEPT/NextSeq/batch4_19Aug2019/mixcr/clones/CLONES_TRBCHP_315-05-PBMC-DNA.txt | 5 |\n",
       "| CASSEEPGTSGYNEQFF | TRBV2    | TRBJ2-1 | NA | CHP_315:6 |  6 | 0.006342495 | CHP_315-05-PBMC-DNA | /Users/anabbi/Desktop/H4H/INTERCEPT/NextSeq/batch4_19Aug2019/mixcr/clones/CLONES_TRBCHP_315-05-PBMC-DNA.txt | 6 |\n",
       "\n"
      ],
      "text/plain": [
       "  CDR3b             TRBV     TRBJ    CDR3a subject:condition count\n",
       "1 CAIRDPEQGITDTQYF  TRBV10-3 TRBJ2-3 NA    CHP_315:1         24   \n",
       "2 CAIRGTGADQPQHF    TRBV10-3 TRBJ1-5 NA    CHP_315:2         21   \n",
       "3 CAISGVWGGDTQYF    TRBV10-3 TRBJ2-3 NA    CHP_315:3         12   \n",
       "4 CASRLAGTGSPLHF    TRBV6-1  TRBJ1-6 NA    CHP_315:4          2   \n",
       "5 CASSDPQGTEAFF     TRBV6-2  TRBJ1-1 NA    CHP_315:5         21   \n",
       "6 CASSEEPGTSGYNEQFF TRBV2    TRBJ2-1 NA    CHP_315:6          6   \n",
       "  clonefraction subject            \n",
       "1 0.025369979   CHP_315-05-PBMC-DNA\n",
       "2 0.022198732   CHP_315-05-PBMC-DNA\n",
       "3 0.012684989   CHP_315-05-PBMC-DNA\n",
       "4 0.002114165   CHP_315-05-PBMC-DNA\n",
       "5 0.022198732   CHP_315-05-PBMC-DNA\n",
       "6 0.006342495   CHP_315-05-PBMC-DNA\n",
       "  file                                                                                                       \n",
       "1 /Users/anabbi/Desktop/H4H/INTERCEPT/NextSeq/batch4_19Aug2019/mixcr/clones/CLONES_TRBCHP_315-05-PBMC-DNA.txt\n",
       "2 /Users/anabbi/Desktop/H4H/INTERCEPT/NextSeq/batch4_19Aug2019/mixcr/clones/CLONES_TRBCHP_315-05-PBMC-DNA.txt\n",
       "3 /Users/anabbi/Desktop/H4H/INTERCEPT/NextSeq/batch4_19Aug2019/mixcr/clones/CLONES_TRBCHP_315-05-PBMC-DNA.txt\n",
       "4 /Users/anabbi/Desktop/H4H/INTERCEPT/NextSeq/batch4_19Aug2019/mixcr/clones/CLONES_TRBCHP_315-05-PBMC-DNA.txt\n",
       "5 /Users/anabbi/Desktop/H4H/INTERCEPT/NextSeq/batch4_19Aug2019/mixcr/clones/CLONES_TRBCHP_315-05-PBMC-DNA.txt\n",
       "6 /Users/anabbi/Desktop/H4H/INTERCEPT/NextSeq/batch4_19Aug2019/mixcr/clones/CLONES_TRBCHP_315-05-PBMC-DNA.txt\n",
       "  index\n",
       "1 1    \n",
       "2 2    \n",
       "3 3    \n",
       "4 4    \n",
       "5 5    \n",
       "6 6    "
      ]
     },
     "metadata": {},
     "output_type": "display_data"
    }
   ],
   "source": [
    "head(gliph_int_covid_tcr)"
   ]
  },
  {
   "cell_type": "markdown",
   "metadata": {},
   "source": [
    "# Backup"
   ]
  },
  {
   "cell_type": "code",
   "execution_count": null,
   "metadata": {},
   "outputs": [],
   "source": []
  },
  {
   "cell_type": "code",
   "execution_count": 6,
   "metadata": {},
   "outputs": [],
   "source": [
    "mylist <- list()\n",
    "\n",
    "for(i in 1:nrow(file_df_dedup_trb)){\n",
    "    \n",
    "    onefle <- read.table(paste0(h4hpath, file_df_dedup_trb$file_list[i]), \n",
    "                         sep = \"\\t\", header = TRUE, stringsAsFactors = F)  \n",
    "    # Remove non-productive\n",
    "    onefle <- onefle[!grepl(\"_\", onefle$aaSeqCDR3),]\n",
    "    onefle <- onefle[!grepl(\"[*]\", onefle$aaSeqCDR3),]\n",
    "    onefle$CDR3b <- onefle$aaSeqCDR3\n",
    "    #next if the file has no productive cdr3\n",
    "    if(nrow(onefle) == 0){ next}\n",
    "    #remove scores\n",
    "    onefle$TRBV <- gsub(\"[*]0.*\", \"\", onefle$allVHitsWithScore)\n",
    "    onefle$TRBJ <- gsub(\"[*]0.*\", \"\", onefle$allJHitsWithScore)\n",
    "\n",
    "    onefle$count <- onefle$cloneCount\n",
    "    onefle$clonefraction <- onefle$cloneFraction\n",
    "    onefle$nSeqCDR3 <- onefle$nSeqCDR3\n",
    "    onefle$file <- paste0(h4hpath, file_df_dedup_trb$file_list[i])\n",
    "    onefle$subject.condition <- file_df_dedup_trb$samplename[i]\n",
    "    mylist[length(mylist) + 1] <- list(onefle[,c(\"CDR3b\", \"TRBV\", \"TRBJ\", \"subject.condition\", \n",
    "                                                 \"count\", \"clonefraction\",\"nSeqCDR3\", \"file\")])\n",
    "}"
   ]
  },
  {
   "cell_type": "code",
   "execution_count": 7,
   "metadata": {},
   "outputs": [
    {
     "data": {
      "text/html": [
       "580"
      ],
      "text/latex": [
       "580"
      ],
      "text/markdown": [
       "580"
      ],
      "text/plain": [
       "[1] 580"
      ]
     },
     "metadata": {},
     "output_type": "display_data"
    }
   ],
   "source": [
    "length(mylist)"
   ]
  },
  {
   "cell_type": "code",
   "execution_count": 8,
   "metadata": {},
   "outputs": [],
   "source": [
    "gliph_input <- do.call(\"rbind\", mylist)"
   ]
  },
  {
   "cell_type": "code",
   "execution_count": 9,
   "metadata": {},
   "outputs": [
    {
     "data": {
      "text/html": [
       "<style>\n",
       ".list-inline {list-style: none; margin:0; padding: 0}\n",
       ".list-inline>li {display: inline-block}\n",
       ".list-inline>li:not(:last-child)::after {content: \"\\00b7\"; padding: 0 .5ex}\n",
       "</style>\n",
       "<ol class=list-inline><li>72634</li><li>8</li></ol>\n"
      ],
      "text/latex": [
       "\\begin{enumerate*}\n",
       "\\item 72634\n",
       "\\item 8\n",
       "\\end{enumerate*}\n"
      ],
      "text/markdown": [
       "1. 72634\n",
       "2. 8\n",
       "\n",
       "\n"
      ],
      "text/plain": [
       "[1] 72634     8"
      ]
     },
     "metadata": {},
     "output_type": "display_data"
    }
   ],
   "source": [
    "dim(gliph_input)"
   ]
  },
  {
   "cell_type": "code",
   "execution_count": 10,
   "metadata": {},
   "outputs": [
    {
     "data": {
      "text/html": [
       "<table class=\"dataframe\">\n",
       "<caption>A data.frame: 6 × 8</caption>\n",
       "<thead>\n",
       "\t<tr><th></th><th scope=col>CDR3b</th><th scope=col>TRBV</th><th scope=col>TRBJ</th><th scope=col>subject.condition</th><th scope=col>count</th><th scope=col>clonefraction</th><th scope=col>nSeqCDR3</th><th scope=col>file</th></tr>\n",
       "\t<tr><th></th><th scope=col>&lt;chr&gt;</th><th scope=col>&lt;chr&gt;</th><th scope=col>&lt;chr&gt;</th><th scope=col>&lt;chr&gt;</th><th scope=col>&lt;int&gt;</th><th scope=col>&lt;dbl&gt;</th><th scope=col>&lt;chr&gt;</th><th scope=col>&lt;chr&gt;</th></tr>\n",
       "</thead>\n",
       "<tbody>\n",
       "\t<tr><th scope=row>1</th><td>CASSFYGREADTQYF</td><td>TRBV7-2</td><td>TRBJ2-3</td><td>CHP_315-05-PBMC-DNA</td><td>187</td><td>0.19767442</td><td>TGTGCCAGCAGCTTCTATGGCAGGGAAGCAGATACGCAGTATTTT</td><td>/Users/anabbi/Desktop/H4H/INTERCEPT/NextSeq/batch4_19Aug2019/mixcr/clones/CLONES_TRBCHP_315-05-PBMC-DNA.txt</td></tr>\n",
       "\t<tr><th scope=row>3</th><td>CASSLMGGDSTEAFF</td><td>TRBV7-3</td><td>TRBJ1-1</td><td>CHP_315-05-PBMC-DNA</td><td> 48</td><td>0.05073996</td><td>TGTGCCAGCAGCTTAATGGGGGGAGATAGCACTGAAGCTTTCTTT</td><td>/Users/anabbi/Desktop/H4H/INTERCEPT/NextSeq/batch4_19Aug2019/mixcr/clones/CLONES_TRBCHP_315-05-PBMC-DNA.txt</td></tr>\n",
       "\t<tr><th scope=row>4</th><td>CASSLTGTGVEKLFF</td><td>TRBV7-3</td><td>TRBJ1-4</td><td>CHP_315-05-PBMC-DNA</td><td> 48</td><td>0.05073996</td><td>TGTGCCAGCAGCTTAACCGGGACAGGGGTTGAAAAACTGTTTTTT</td><td>/Users/anabbi/Desktop/H4H/INTERCEPT/NextSeq/batch4_19Aug2019/mixcr/clones/CLONES_TRBCHP_315-05-PBMC-DNA.txt</td></tr>\n",
       "\t<tr><th scope=row>5</th><td>CASSQRGQSTEQYF </td><td>TRBV14 </td><td>TRBJ2-7</td><td>CHP_315-05-PBMC-DNA</td><td> 42</td><td>0.04439746</td><td>TGTGCCAGCAGCCAACGGGGACAGTCAACCGAGCAGTACTTC   </td><td>/Users/anabbi/Desktop/H4H/INTERCEPT/NextSeq/batch4_19Aug2019/mixcr/clones/CLONES_TRBCHP_315-05-PBMC-DNA.txt</td></tr>\n",
       "\t<tr><th scope=row>6</th><td>CASSYQAGVGETQYF</td><td>TRBV6-6</td><td>TRBJ2-5</td><td>CHP_315-05-PBMC-DNA</td><td> 32</td><td>0.03382664</td><td>TGTGCCAGCAGTTACCAAGCGGGGGTGGGTGAGACCCAGTACTTC</td><td>/Users/anabbi/Desktop/H4H/INTERCEPT/NextSeq/batch4_19Aug2019/mixcr/clones/CLONES_TRBCHP_315-05-PBMC-DNA.txt</td></tr>\n",
       "\t<tr><th scope=row>9</th><td>CASSVVGVYNSPLHF</td><td>TRBV7-2</td><td>TRBJ1-6</td><td>CHP_315-05-PBMC-DNA</td><td> 29</td><td>0.03065539</td><td>TGTGCCAGCAGCGTAGTAGGGGTCTATAATTCACCCCTCCACTTT</td><td>/Users/anabbi/Desktop/H4H/INTERCEPT/NextSeq/batch4_19Aug2019/mixcr/clones/CLONES_TRBCHP_315-05-PBMC-DNA.txt</td></tr>\n",
       "</tbody>\n",
       "</table>\n"
      ],
      "text/latex": [
       "A data.frame: 6 × 8\n",
       "\\begin{tabular}{r|llllllll}\n",
       "  & CDR3b & TRBV & TRBJ & subject.condition & count & clonefraction & nSeqCDR3 & file\\\\\n",
       "  & <chr> & <chr> & <chr> & <chr> & <int> & <dbl> & <chr> & <chr>\\\\\n",
       "\\hline\n",
       "\t1 & CASSFYGREADTQYF & TRBV7-2 & TRBJ2-3 & CHP\\_315-05-PBMC-DNA & 187 & 0.19767442 & TGTGCCAGCAGCTTCTATGGCAGGGAAGCAGATACGCAGTATTTT & /Users/anabbi/Desktop/H4H/INTERCEPT/NextSeq/batch4\\_19Aug2019/mixcr/clones/CLONES\\_TRBCHP\\_315-05-PBMC-DNA.txt\\\\\n",
       "\t3 & CASSLMGGDSTEAFF & TRBV7-3 & TRBJ1-1 & CHP\\_315-05-PBMC-DNA &  48 & 0.05073996 & TGTGCCAGCAGCTTAATGGGGGGAGATAGCACTGAAGCTTTCTTT & /Users/anabbi/Desktop/H4H/INTERCEPT/NextSeq/batch4\\_19Aug2019/mixcr/clones/CLONES\\_TRBCHP\\_315-05-PBMC-DNA.txt\\\\\n",
       "\t4 & CASSLTGTGVEKLFF & TRBV7-3 & TRBJ1-4 & CHP\\_315-05-PBMC-DNA &  48 & 0.05073996 & TGTGCCAGCAGCTTAACCGGGACAGGGGTTGAAAAACTGTTTTTT & /Users/anabbi/Desktop/H4H/INTERCEPT/NextSeq/batch4\\_19Aug2019/mixcr/clones/CLONES\\_TRBCHP\\_315-05-PBMC-DNA.txt\\\\\n",
       "\t5 & CASSQRGQSTEQYF  & TRBV14  & TRBJ2-7 & CHP\\_315-05-PBMC-DNA &  42 & 0.04439746 & TGTGCCAGCAGCCAACGGGGACAGTCAACCGAGCAGTACTTC    & /Users/anabbi/Desktop/H4H/INTERCEPT/NextSeq/batch4\\_19Aug2019/mixcr/clones/CLONES\\_TRBCHP\\_315-05-PBMC-DNA.txt\\\\\n",
       "\t6 & CASSYQAGVGETQYF & TRBV6-6 & TRBJ2-5 & CHP\\_315-05-PBMC-DNA &  32 & 0.03382664 & TGTGCCAGCAGTTACCAAGCGGGGGTGGGTGAGACCCAGTACTTC & /Users/anabbi/Desktop/H4H/INTERCEPT/NextSeq/batch4\\_19Aug2019/mixcr/clones/CLONES\\_TRBCHP\\_315-05-PBMC-DNA.txt\\\\\n",
       "\t9 & CASSVVGVYNSPLHF & TRBV7-2 & TRBJ1-6 & CHP\\_315-05-PBMC-DNA &  29 & 0.03065539 & TGTGCCAGCAGCGTAGTAGGGGTCTATAATTCACCCCTCCACTTT & /Users/anabbi/Desktop/H4H/INTERCEPT/NextSeq/batch4\\_19Aug2019/mixcr/clones/CLONES\\_TRBCHP\\_315-05-PBMC-DNA.txt\\\\\n",
       "\\end{tabular}\n"
      ],
      "text/markdown": [
       "\n",
       "A data.frame: 6 × 8\n",
       "\n",
       "| <!--/--> | CDR3b &lt;chr&gt; | TRBV &lt;chr&gt; | TRBJ &lt;chr&gt; | subject.condition &lt;chr&gt; | count &lt;int&gt; | clonefraction &lt;dbl&gt; | nSeqCDR3 &lt;chr&gt; | file &lt;chr&gt; |\n",
       "|---|---|---|---|---|---|---|---|---|\n",
       "| 1 | CASSFYGREADTQYF | TRBV7-2 | TRBJ2-3 | CHP_315-05-PBMC-DNA | 187 | 0.19767442 | TGTGCCAGCAGCTTCTATGGCAGGGAAGCAGATACGCAGTATTTT | /Users/anabbi/Desktop/H4H/INTERCEPT/NextSeq/batch4_19Aug2019/mixcr/clones/CLONES_TRBCHP_315-05-PBMC-DNA.txt |\n",
       "| 3 | CASSLMGGDSTEAFF | TRBV7-3 | TRBJ1-1 | CHP_315-05-PBMC-DNA |  48 | 0.05073996 | TGTGCCAGCAGCTTAATGGGGGGAGATAGCACTGAAGCTTTCTTT | /Users/anabbi/Desktop/H4H/INTERCEPT/NextSeq/batch4_19Aug2019/mixcr/clones/CLONES_TRBCHP_315-05-PBMC-DNA.txt |\n",
       "| 4 | CASSLTGTGVEKLFF | TRBV7-3 | TRBJ1-4 | CHP_315-05-PBMC-DNA |  48 | 0.05073996 | TGTGCCAGCAGCTTAACCGGGACAGGGGTTGAAAAACTGTTTTTT | /Users/anabbi/Desktop/H4H/INTERCEPT/NextSeq/batch4_19Aug2019/mixcr/clones/CLONES_TRBCHP_315-05-PBMC-DNA.txt |\n",
       "| 5 | CASSQRGQSTEQYF  | TRBV14  | TRBJ2-7 | CHP_315-05-PBMC-DNA |  42 | 0.04439746 | TGTGCCAGCAGCCAACGGGGACAGTCAACCGAGCAGTACTTC    | /Users/anabbi/Desktop/H4H/INTERCEPT/NextSeq/batch4_19Aug2019/mixcr/clones/CLONES_TRBCHP_315-05-PBMC-DNA.txt |\n",
       "| 6 | CASSYQAGVGETQYF | TRBV6-6 | TRBJ2-5 | CHP_315-05-PBMC-DNA |  32 | 0.03382664 | TGTGCCAGCAGTTACCAAGCGGGGGTGGGTGAGACCCAGTACTTC | /Users/anabbi/Desktop/H4H/INTERCEPT/NextSeq/batch4_19Aug2019/mixcr/clones/CLONES_TRBCHP_315-05-PBMC-DNA.txt |\n",
       "| 9 | CASSVVGVYNSPLHF | TRBV7-2 | TRBJ1-6 | CHP_315-05-PBMC-DNA |  29 | 0.03065539 | TGTGCCAGCAGCGTAGTAGGGGTCTATAATTCACCCCTCCACTTT | /Users/anabbi/Desktop/H4H/INTERCEPT/NextSeq/batch4_19Aug2019/mixcr/clones/CLONES_TRBCHP_315-05-PBMC-DNA.txt |\n",
       "\n"
      ],
      "text/plain": [
       "  CDR3b           TRBV    TRBJ    subject.condition   count clonefraction\n",
       "1 CASSFYGREADTQYF TRBV7-2 TRBJ2-3 CHP_315-05-PBMC-DNA 187   0.19767442   \n",
       "3 CASSLMGGDSTEAFF TRBV7-3 TRBJ1-1 CHP_315-05-PBMC-DNA  48   0.05073996   \n",
       "4 CASSLTGTGVEKLFF TRBV7-3 TRBJ1-4 CHP_315-05-PBMC-DNA  48   0.05073996   \n",
       "5 CASSQRGQSTEQYF  TRBV14  TRBJ2-7 CHP_315-05-PBMC-DNA  42   0.04439746   \n",
       "6 CASSYQAGVGETQYF TRBV6-6 TRBJ2-5 CHP_315-05-PBMC-DNA  32   0.03382664   \n",
       "9 CASSVVGVYNSPLHF TRBV7-2 TRBJ1-6 CHP_315-05-PBMC-DNA  29   0.03065539   \n",
       "  nSeqCDR3                                     \n",
       "1 TGTGCCAGCAGCTTCTATGGCAGGGAAGCAGATACGCAGTATTTT\n",
       "3 TGTGCCAGCAGCTTAATGGGGGGAGATAGCACTGAAGCTTTCTTT\n",
       "4 TGTGCCAGCAGCTTAACCGGGACAGGGGTTGAAAAACTGTTTTTT\n",
       "5 TGTGCCAGCAGCCAACGGGGACAGTCAACCGAGCAGTACTTC   \n",
       "6 TGTGCCAGCAGTTACCAAGCGGGGGTGGGTGAGACCCAGTACTTC\n",
       "9 TGTGCCAGCAGCGTAGTAGGGGTCTATAATTCACCCCTCCACTTT\n",
       "  file                                                                                                       \n",
       "1 /Users/anabbi/Desktop/H4H/INTERCEPT/NextSeq/batch4_19Aug2019/mixcr/clones/CLONES_TRBCHP_315-05-PBMC-DNA.txt\n",
       "3 /Users/anabbi/Desktop/H4H/INTERCEPT/NextSeq/batch4_19Aug2019/mixcr/clones/CLONES_TRBCHP_315-05-PBMC-DNA.txt\n",
       "4 /Users/anabbi/Desktop/H4H/INTERCEPT/NextSeq/batch4_19Aug2019/mixcr/clones/CLONES_TRBCHP_315-05-PBMC-DNA.txt\n",
       "5 /Users/anabbi/Desktop/H4H/INTERCEPT/NextSeq/batch4_19Aug2019/mixcr/clones/CLONES_TRBCHP_315-05-PBMC-DNA.txt\n",
       "6 /Users/anabbi/Desktop/H4H/INTERCEPT/NextSeq/batch4_19Aug2019/mixcr/clones/CLONES_TRBCHP_315-05-PBMC-DNA.txt\n",
       "9 /Users/anabbi/Desktop/H4H/INTERCEPT/NextSeq/batch4_19Aug2019/mixcr/clones/CLONES_TRBCHP_315-05-PBMC-DNA.txt"
      ]
     },
     "metadata": {},
     "output_type": "display_data"
    }
   ],
   "source": [
    "head(gliph_input)"
   ]
  },
  {
   "cell_type": "code",
   "execution_count": 11,
   "metadata": {},
   "outputs": [],
   "source": []
  },
  {
   "cell_type": "code",
   "execution_count": 12,
   "metadata": {},
   "outputs": [],
   "source": [
    "library(data.table)\n",
    "\n",
    "#bind those with the same cdr3 + TRBV\n",
    "setDT(gliph_input)\n",
    "\n",
    "ab <- gliph_input[, .(subject = toString(subject.condition), #bind subjects\n",
    "                      file = toString(file), #bind filenames\n",
    "                      count = sum(count)),  #get sum of counts\n",
    "                  by = c(\"CDR3b\", \"TRBV\", \"TRBJ\")] #get duplicates sequences with the same cdr3 + TRBV + TRBJ\n",
    "\n",
    "gliph_input_ab <- merge(gliph_input, ab, by = c(\"CDR3b\",\"TRBV\",\"TRBJ\")) # merge together"
   ]
  },
  {
   "cell_type": "code",
   "execution_count": 13,
   "metadata": {},
   "outputs": [
    {
     "data": {
      "text/html": [
       "<table class=\"dataframe\">\n",
       "<caption>A data.table: 6 × 11</caption>\n",
       "<thead>\n",
       "\t<tr><th scope=col>CDR3b</th><th scope=col>TRBV</th><th scope=col>TRBJ</th><th scope=col>subject.condition</th><th scope=col>count.x</th><th scope=col>clonefraction</th><th scope=col>nSeqCDR3</th><th scope=col>file.x</th><th scope=col>subject</th><th scope=col>file.y</th><th scope=col>count.y</th></tr>\n",
       "\t<tr><th scope=col>&lt;chr&gt;</th><th scope=col>&lt;chr&gt;</th><th scope=col>&lt;chr&gt;</th><th scope=col>&lt;chr&gt;</th><th scope=col>&lt;int&gt;</th><th scope=col>&lt;dbl&gt;</th><th scope=col>&lt;chr&gt;</th><th scope=col>&lt;chr&gt;</th><th scope=col>&lt;chr&gt;</th><th scope=col>&lt;chr&gt;</th><th scope=col>&lt;int&gt;</th></tr>\n",
       "</thead>\n",
       "<tbody>\n",
       "\t<tr><td>ADITWRGGQPQHF   </td><td>TRBV3-2 </td><td>TRBJ1-5</td><td>CHP_387-02_PBMC_DNA</td><td> 12</td><td>0.0017035775</td><td>GCCGACATTACCTGGAGAGGGGGTCAGCCCCAGCATTTT         </td><td>/Users/anabbi/Desktop/H4H/INTERCEPT/NextSeq/batch11_23Apr2020/mixcr/clones/CLONES_TRBCHP_387-02_PBMC_DNA.txt           </td><td>CHP_387-02_PBMC_DNA                     </td><td>/Users/anabbi/Desktop/H4H/INTERCEPT/NextSeq/batch11_23Apr2020/mixcr/clones/CLONES_TRBCHP_387-02_PBMC_DNA.txt                                                                                                              </td><td> 12</td></tr>\n",
       "\t<tr><td>CAAAGGGEAFF     </td><td>TRBV28  </td><td>TRBJ1-1</td><td>CHP_396-03_PBMC_DNA</td><td> 16</td><td>0.0033105731</td><td>TGTGCCGCAGCGGGGGGAGGTGAAGCTTTCTTT               </td><td>/Users/anabbi/Desktop/H4H/INTERCEPT/NextSeq/batch11_23Apr2020/mixcr/clones/CLONES_TRBCHP_396-03_PBMC_DNA.txt           </td><td>CHP_396-03_PBMC_DNA, CHP_396-04-PBMC-DNA</td><td>/Users/anabbi/Desktop/H4H/INTERCEPT/NextSeq/batch11_23Apr2020/mixcr/clones/CLONES_TRBCHP_396-03_PBMC_DNA.txt, /Users/anabbi/Desktop/H4H/INTERCEPT/NextSeq/batch13_26Aug2020/mixcr/clones/CLONES_TRBCHP_396-04-PBMC-DNA.txt</td><td>340</td></tr>\n",
       "\t<tr><td>CAAAGGGEAFF     </td><td>TRBV28  </td><td>TRBJ1-1</td><td>CHP_396-04-PBMC-DNA</td><td>324</td><td>0.0012697069</td><td>TGTGCCGCAGCGGGGGGAGGTGAAGCTTTCTTT               </td><td>/Users/anabbi/Desktop/H4H/INTERCEPT/NextSeq/batch13_26Aug2020/mixcr/clones/CLONES_TRBCHP_396-04-PBMC-DNA.txt           </td><td>CHP_396-03_PBMC_DNA, CHP_396-04-PBMC-DNA</td><td>/Users/anabbi/Desktop/H4H/INTERCEPT/NextSeq/batch11_23Apr2020/mixcr/clones/CLONES_TRBCHP_396-03_PBMC_DNA.txt, /Users/anabbi/Desktop/H4H/INTERCEPT/NextSeq/batch13_26Aug2020/mixcr/clones/CLONES_TRBCHP_396-04-PBMC-DNA.txt</td><td>340</td></tr>\n",
       "\t<tr><td>CAAAGGSGVGYEQYF </td><td>TRBV3-1 </td><td>TRBJ2-7</td><td>CHP_393-05-PBMC-DNA</td><td>151</td><td>0.0012674058</td><td>TGTGCCGCCGCCGGGGGCAGCGGGGTGGGCTACGAGCAGTACTTC   </td><td>/Users/anabbi/Desktop/H4H/INTERCEPT/NextSeq/batch13_26Aug2020/mixcr/clones/CLONES_TRBCHP_393-05-PBMC-DNA.txt           </td><td>CHP_393-05-PBMC-DNA                     </td><td>/Users/anabbi/Desktop/H4H/INTERCEPT/NextSeq/batch13_26Aug2020/mixcr/clones/CLONES_TRBCHP_393-05-PBMC-DNA.txt                                                                                                              </td><td>151</td></tr>\n",
       "\t<tr><td>CAAARGFDEQYF    </td><td>TRBV10-3</td><td>TRBJ2-7</td><td>CHP-411-02-PBMC-DNA</td><td> 20</td><td>0.0001310135</td><td>TGTGCCGCCGCACGGGGTTTCGACGAGCAGTACTTC            </td><td>/Users/anabbi/Desktop/H4H/INTERCEPT/NextSeq/remaining_batch_4_28June2021/mixcr/clones/CLONES_TRBCHP-411-02-PBMC-DNA.txt</td><td>CHP-411-02-PBMC-DNA                     </td><td>/Users/anabbi/Desktop/H4H/INTERCEPT/NextSeq/remaining_batch_4_28June2021/mixcr/clones/CLONES_TRBCHP-411-02-PBMC-DNA.txt                                                                                                   </td><td> 20</td></tr>\n",
       "\t<tr><td>CAACEPEVRDTDTQYF</td><td>TRBV28  </td><td>TRBJ2-3</td><td>CHP_338-05-PBMC-DNA</td><td> 11</td><td>0.0026397888</td><td>TGTGCCGCCTGCGAACCTGAAGTACGGGACACAGATACGCAGTATTTT</td><td>/Users/anabbi/Desktop/H4H/INTERCEPT/NextSeq/batch2_Aug62019/mixcr/clones/CLONES_TRBCHP_338-05-PBMC-DNA.txt             </td><td>CHP_338-05-PBMC-DNA, CHP_338-05-PBMC-DNA</td><td>/Users/anabbi/Desktop/H4H/INTERCEPT/NextSeq/batch2_Aug62019/mixcr/clones/CLONES_TRBCHP_338-05-PBMC-DNA.txt, /Users/anabbi/Desktop/H4H/INTERCEPT/NextSeq/batch2_Aug62019/mixcr/clones/CLONES_TRBCHP_338-05-PBMC-DNA.txt    </td><td> 12</td></tr>\n",
       "</tbody>\n",
       "</table>\n"
      ],
      "text/latex": [
       "A data.table: 6 × 11\n",
       "\\begin{tabular}{lllllllllll}\n",
       " CDR3b & TRBV & TRBJ & subject.condition & count.x & clonefraction & nSeqCDR3 & file.x & subject & file.y & count.y\\\\\n",
       " <chr> & <chr> & <chr> & <chr> & <int> & <dbl> & <chr> & <chr> & <chr> & <chr> & <int>\\\\\n",
       "\\hline\n",
       "\t ADITWRGGQPQHF    & TRBV3-2  & TRBJ1-5 & CHP\\_387-02\\_PBMC\\_DNA &  12 & 0.0017035775 & GCCGACATTACCTGGAGAGGGGGTCAGCCCCAGCATTTT          & /Users/anabbi/Desktop/H4H/INTERCEPT/NextSeq/batch11\\_23Apr2020/mixcr/clones/CLONES\\_TRBCHP\\_387-02\\_PBMC\\_DNA.txt            & CHP\\_387-02\\_PBMC\\_DNA                      & /Users/anabbi/Desktop/H4H/INTERCEPT/NextSeq/batch11\\_23Apr2020/mixcr/clones/CLONES\\_TRBCHP\\_387-02\\_PBMC\\_DNA.txt                                                                                                               &  12\\\\\n",
       "\t CAAAGGGEAFF      & TRBV28   & TRBJ1-1 & CHP\\_396-03\\_PBMC\\_DNA &  16 & 0.0033105731 & TGTGCCGCAGCGGGGGGAGGTGAAGCTTTCTTT                & /Users/anabbi/Desktop/H4H/INTERCEPT/NextSeq/batch11\\_23Apr2020/mixcr/clones/CLONES\\_TRBCHP\\_396-03\\_PBMC\\_DNA.txt            & CHP\\_396-03\\_PBMC\\_DNA, CHP\\_396-04-PBMC-DNA & /Users/anabbi/Desktop/H4H/INTERCEPT/NextSeq/batch11\\_23Apr2020/mixcr/clones/CLONES\\_TRBCHP\\_396-03\\_PBMC\\_DNA.txt, /Users/anabbi/Desktop/H4H/INTERCEPT/NextSeq/batch13\\_26Aug2020/mixcr/clones/CLONES\\_TRBCHP\\_396-04-PBMC-DNA.txt & 340\\\\\n",
       "\t CAAAGGGEAFF      & TRBV28   & TRBJ1-1 & CHP\\_396-04-PBMC-DNA & 324 & 0.0012697069 & TGTGCCGCAGCGGGGGGAGGTGAAGCTTTCTTT                & /Users/anabbi/Desktop/H4H/INTERCEPT/NextSeq/batch13\\_26Aug2020/mixcr/clones/CLONES\\_TRBCHP\\_396-04-PBMC-DNA.txt            & CHP\\_396-03\\_PBMC\\_DNA, CHP\\_396-04-PBMC-DNA & /Users/anabbi/Desktop/H4H/INTERCEPT/NextSeq/batch11\\_23Apr2020/mixcr/clones/CLONES\\_TRBCHP\\_396-03\\_PBMC\\_DNA.txt, /Users/anabbi/Desktop/H4H/INTERCEPT/NextSeq/batch13\\_26Aug2020/mixcr/clones/CLONES\\_TRBCHP\\_396-04-PBMC-DNA.txt & 340\\\\\n",
       "\t CAAAGGSGVGYEQYF  & TRBV3-1  & TRBJ2-7 & CHP\\_393-05-PBMC-DNA & 151 & 0.0012674058 & TGTGCCGCCGCCGGGGGCAGCGGGGTGGGCTACGAGCAGTACTTC    & /Users/anabbi/Desktop/H4H/INTERCEPT/NextSeq/batch13\\_26Aug2020/mixcr/clones/CLONES\\_TRBCHP\\_393-05-PBMC-DNA.txt            & CHP\\_393-05-PBMC-DNA                      & /Users/anabbi/Desktop/H4H/INTERCEPT/NextSeq/batch13\\_26Aug2020/mixcr/clones/CLONES\\_TRBCHP\\_393-05-PBMC-DNA.txt                                                                                                               & 151\\\\\n",
       "\t CAAARGFDEQYF     & TRBV10-3 & TRBJ2-7 & CHP-411-02-PBMC-DNA &  20 & 0.0001310135 & TGTGCCGCCGCACGGGGTTTCGACGAGCAGTACTTC             & /Users/anabbi/Desktop/H4H/INTERCEPT/NextSeq/remaining\\_batch\\_4\\_28June2021/mixcr/clones/CLONES\\_TRBCHP-411-02-PBMC-DNA.txt & CHP-411-02-PBMC-DNA                      & /Users/anabbi/Desktop/H4H/INTERCEPT/NextSeq/remaining\\_batch\\_4\\_28June2021/mixcr/clones/CLONES\\_TRBCHP-411-02-PBMC-DNA.txt                                                                                                    &  20\\\\\n",
       "\t CAACEPEVRDTDTQYF & TRBV28   & TRBJ2-3 & CHP\\_338-05-PBMC-DNA &  11 & 0.0026397888 & TGTGCCGCCTGCGAACCTGAAGTACGGGACACAGATACGCAGTATTTT & /Users/anabbi/Desktop/H4H/INTERCEPT/NextSeq/batch2\\_Aug62019/mixcr/clones/CLONES\\_TRBCHP\\_338-05-PBMC-DNA.txt              & CHP\\_338-05-PBMC-DNA, CHP\\_338-05-PBMC-DNA & /Users/anabbi/Desktop/H4H/INTERCEPT/NextSeq/batch2\\_Aug62019/mixcr/clones/CLONES\\_TRBCHP\\_338-05-PBMC-DNA.txt, /Users/anabbi/Desktop/H4H/INTERCEPT/NextSeq/batch2\\_Aug62019/mixcr/clones/CLONES\\_TRBCHP\\_338-05-PBMC-DNA.txt     &  12\\\\\n",
       "\\end{tabular}\n"
      ],
      "text/markdown": [
       "\n",
       "A data.table: 6 × 11\n",
       "\n",
       "| CDR3b &lt;chr&gt; | TRBV &lt;chr&gt; | TRBJ &lt;chr&gt; | subject.condition &lt;chr&gt; | count.x &lt;int&gt; | clonefraction &lt;dbl&gt; | nSeqCDR3 &lt;chr&gt; | file.x &lt;chr&gt; | subject &lt;chr&gt; | file.y &lt;chr&gt; | count.y &lt;int&gt; |\n",
       "|---|---|---|---|---|---|---|---|---|---|---|\n",
       "| ADITWRGGQPQHF    | TRBV3-2  | TRBJ1-5 | CHP_387-02_PBMC_DNA |  12 | 0.0017035775 | GCCGACATTACCTGGAGAGGGGGTCAGCCCCAGCATTTT          | /Users/anabbi/Desktop/H4H/INTERCEPT/NextSeq/batch11_23Apr2020/mixcr/clones/CLONES_TRBCHP_387-02_PBMC_DNA.txt            | CHP_387-02_PBMC_DNA                      | /Users/anabbi/Desktop/H4H/INTERCEPT/NextSeq/batch11_23Apr2020/mixcr/clones/CLONES_TRBCHP_387-02_PBMC_DNA.txt                                                                                                               |  12 |\n",
       "| CAAAGGGEAFF      | TRBV28   | TRBJ1-1 | CHP_396-03_PBMC_DNA |  16 | 0.0033105731 | TGTGCCGCAGCGGGGGGAGGTGAAGCTTTCTTT                | /Users/anabbi/Desktop/H4H/INTERCEPT/NextSeq/batch11_23Apr2020/mixcr/clones/CLONES_TRBCHP_396-03_PBMC_DNA.txt            | CHP_396-03_PBMC_DNA, CHP_396-04-PBMC-DNA | /Users/anabbi/Desktop/H4H/INTERCEPT/NextSeq/batch11_23Apr2020/mixcr/clones/CLONES_TRBCHP_396-03_PBMC_DNA.txt, /Users/anabbi/Desktop/H4H/INTERCEPT/NextSeq/batch13_26Aug2020/mixcr/clones/CLONES_TRBCHP_396-04-PBMC-DNA.txt | 340 |\n",
       "| CAAAGGGEAFF      | TRBV28   | TRBJ1-1 | CHP_396-04-PBMC-DNA | 324 | 0.0012697069 | TGTGCCGCAGCGGGGGGAGGTGAAGCTTTCTTT                | /Users/anabbi/Desktop/H4H/INTERCEPT/NextSeq/batch13_26Aug2020/mixcr/clones/CLONES_TRBCHP_396-04-PBMC-DNA.txt            | CHP_396-03_PBMC_DNA, CHP_396-04-PBMC-DNA | /Users/anabbi/Desktop/H4H/INTERCEPT/NextSeq/batch11_23Apr2020/mixcr/clones/CLONES_TRBCHP_396-03_PBMC_DNA.txt, /Users/anabbi/Desktop/H4H/INTERCEPT/NextSeq/batch13_26Aug2020/mixcr/clones/CLONES_TRBCHP_396-04-PBMC-DNA.txt | 340 |\n",
       "| CAAAGGSGVGYEQYF  | TRBV3-1  | TRBJ2-7 | CHP_393-05-PBMC-DNA | 151 | 0.0012674058 | TGTGCCGCCGCCGGGGGCAGCGGGGTGGGCTACGAGCAGTACTTC    | /Users/anabbi/Desktop/H4H/INTERCEPT/NextSeq/batch13_26Aug2020/mixcr/clones/CLONES_TRBCHP_393-05-PBMC-DNA.txt            | CHP_393-05-PBMC-DNA                      | /Users/anabbi/Desktop/H4H/INTERCEPT/NextSeq/batch13_26Aug2020/mixcr/clones/CLONES_TRBCHP_393-05-PBMC-DNA.txt                                                                                                               | 151 |\n",
       "| CAAARGFDEQYF     | TRBV10-3 | TRBJ2-7 | CHP-411-02-PBMC-DNA |  20 | 0.0001310135 | TGTGCCGCCGCACGGGGTTTCGACGAGCAGTACTTC             | /Users/anabbi/Desktop/H4H/INTERCEPT/NextSeq/remaining_batch_4_28June2021/mixcr/clones/CLONES_TRBCHP-411-02-PBMC-DNA.txt | CHP-411-02-PBMC-DNA                      | /Users/anabbi/Desktop/H4H/INTERCEPT/NextSeq/remaining_batch_4_28June2021/mixcr/clones/CLONES_TRBCHP-411-02-PBMC-DNA.txt                                                                                                    |  20 |\n",
       "| CAACEPEVRDTDTQYF | TRBV28   | TRBJ2-3 | CHP_338-05-PBMC-DNA |  11 | 0.0026397888 | TGTGCCGCCTGCGAACCTGAAGTACGGGACACAGATACGCAGTATTTT | /Users/anabbi/Desktop/H4H/INTERCEPT/NextSeq/batch2_Aug62019/mixcr/clones/CLONES_TRBCHP_338-05-PBMC-DNA.txt              | CHP_338-05-PBMC-DNA, CHP_338-05-PBMC-DNA | /Users/anabbi/Desktop/H4H/INTERCEPT/NextSeq/batch2_Aug62019/mixcr/clones/CLONES_TRBCHP_338-05-PBMC-DNA.txt, /Users/anabbi/Desktop/H4H/INTERCEPT/NextSeq/batch2_Aug62019/mixcr/clones/CLONES_TRBCHP_338-05-PBMC-DNA.txt     |  12 |\n",
       "\n"
      ],
      "text/plain": [
       "  CDR3b            TRBV     TRBJ    subject.condition   count.x clonefraction\n",
       "1 ADITWRGGQPQHF    TRBV3-2  TRBJ1-5 CHP_387-02_PBMC_DNA  12     0.0017035775 \n",
       "2 CAAAGGGEAFF      TRBV28   TRBJ1-1 CHP_396-03_PBMC_DNA  16     0.0033105731 \n",
       "3 CAAAGGGEAFF      TRBV28   TRBJ1-1 CHP_396-04-PBMC-DNA 324     0.0012697069 \n",
       "4 CAAAGGSGVGYEQYF  TRBV3-1  TRBJ2-7 CHP_393-05-PBMC-DNA 151     0.0012674058 \n",
       "5 CAAARGFDEQYF     TRBV10-3 TRBJ2-7 CHP-411-02-PBMC-DNA  20     0.0001310135 \n",
       "6 CAACEPEVRDTDTQYF TRBV28   TRBJ2-3 CHP_338-05-PBMC-DNA  11     0.0026397888 \n",
       "  nSeqCDR3                                        \n",
       "1 GCCGACATTACCTGGAGAGGGGGTCAGCCCCAGCATTTT         \n",
       "2 TGTGCCGCAGCGGGGGGAGGTGAAGCTTTCTTT               \n",
       "3 TGTGCCGCAGCGGGGGGAGGTGAAGCTTTCTTT               \n",
       "4 TGTGCCGCCGCCGGGGGCAGCGGGGTGGGCTACGAGCAGTACTTC   \n",
       "5 TGTGCCGCCGCACGGGGTTTCGACGAGCAGTACTTC            \n",
       "6 TGTGCCGCCTGCGAACCTGAAGTACGGGACACAGATACGCAGTATTTT\n",
       "  file.x                                                                                                                 \n",
       "1 /Users/anabbi/Desktop/H4H/INTERCEPT/NextSeq/batch11_23Apr2020/mixcr/clones/CLONES_TRBCHP_387-02_PBMC_DNA.txt           \n",
       "2 /Users/anabbi/Desktop/H4H/INTERCEPT/NextSeq/batch11_23Apr2020/mixcr/clones/CLONES_TRBCHP_396-03_PBMC_DNA.txt           \n",
       "3 /Users/anabbi/Desktop/H4H/INTERCEPT/NextSeq/batch13_26Aug2020/mixcr/clones/CLONES_TRBCHP_396-04-PBMC-DNA.txt           \n",
       "4 /Users/anabbi/Desktop/H4H/INTERCEPT/NextSeq/batch13_26Aug2020/mixcr/clones/CLONES_TRBCHP_393-05-PBMC-DNA.txt           \n",
       "5 /Users/anabbi/Desktop/H4H/INTERCEPT/NextSeq/remaining_batch_4_28June2021/mixcr/clones/CLONES_TRBCHP-411-02-PBMC-DNA.txt\n",
       "6 /Users/anabbi/Desktop/H4H/INTERCEPT/NextSeq/batch2_Aug62019/mixcr/clones/CLONES_TRBCHP_338-05-PBMC-DNA.txt             \n",
       "  subject                                 \n",
       "1 CHP_387-02_PBMC_DNA                     \n",
       "2 CHP_396-03_PBMC_DNA, CHP_396-04-PBMC-DNA\n",
       "3 CHP_396-03_PBMC_DNA, CHP_396-04-PBMC-DNA\n",
       "4 CHP_393-05-PBMC-DNA                     \n",
       "5 CHP-411-02-PBMC-DNA                     \n",
       "6 CHP_338-05-PBMC-DNA, CHP_338-05-PBMC-DNA\n",
       "  file.y                                                                                                                                                                                                                    \n",
       "1 /Users/anabbi/Desktop/H4H/INTERCEPT/NextSeq/batch11_23Apr2020/mixcr/clones/CLONES_TRBCHP_387-02_PBMC_DNA.txt                                                                                                              \n",
       "2 /Users/anabbi/Desktop/H4H/INTERCEPT/NextSeq/batch11_23Apr2020/mixcr/clones/CLONES_TRBCHP_396-03_PBMC_DNA.txt, /Users/anabbi/Desktop/H4H/INTERCEPT/NextSeq/batch13_26Aug2020/mixcr/clones/CLONES_TRBCHP_396-04-PBMC-DNA.txt\n",
       "3 /Users/anabbi/Desktop/H4H/INTERCEPT/NextSeq/batch11_23Apr2020/mixcr/clones/CLONES_TRBCHP_396-03_PBMC_DNA.txt, /Users/anabbi/Desktop/H4H/INTERCEPT/NextSeq/batch13_26Aug2020/mixcr/clones/CLONES_TRBCHP_396-04-PBMC-DNA.txt\n",
       "4 /Users/anabbi/Desktop/H4H/INTERCEPT/NextSeq/batch13_26Aug2020/mixcr/clones/CLONES_TRBCHP_393-05-PBMC-DNA.txt                                                                                                              \n",
       "5 /Users/anabbi/Desktop/H4H/INTERCEPT/NextSeq/remaining_batch_4_28June2021/mixcr/clones/CLONES_TRBCHP-411-02-PBMC-DNA.txt                                                                                                   \n",
       "6 /Users/anabbi/Desktop/H4H/INTERCEPT/NextSeq/batch2_Aug62019/mixcr/clones/CLONES_TRBCHP_338-05-PBMC-DNA.txt, /Users/anabbi/Desktop/H4H/INTERCEPT/NextSeq/batch2_Aug62019/mixcr/clones/CLONES_TRBCHP_338-05-PBMC-DNA.txt    \n",
       "  count.y\n",
       "1  12    \n",
       "2 340    \n",
       "3 340    \n",
       "4 151    \n",
       "5  20    \n",
       "6  12    "
      ]
     },
     "metadata": {},
     "output_type": "display_data"
    }
   ],
   "source": [
    "head(gliph_input_ab)"
   ]
  },
  {
   "cell_type": "code",
   "execution_count": 14,
   "metadata": {},
   "outputs": [],
   "source": [
    "#dedup\n",
    "gliph_input_ab_dedup <- dplyr::distinct(gliph_input_ab, CDR3b, TRBV, TRBJ, subject, .keep_all= TRUE)"
   ]
  },
  {
   "cell_type": "code",
   "execution_count": 15,
   "metadata": {},
   "outputs": [
    {
     "data": {
      "text/html": [
       "<style>\n",
       ".list-inline {list-style: none; margin:0; padding: 0}\n",
       ".list-inline>li {display: inline-block}\n",
       ".list-inline>li:not(:last-child)::after {content: \"\\00b7\"; padding: 0 .5ex}\n",
       "</style>\n",
       "<ol class=list-inline><li>72634</li><li>11</li></ol>\n"
      ],
      "text/latex": [
       "\\begin{enumerate*}\n",
       "\\item 72634\n",
       "\\item 11\n",
       "\\end{enumerate*}\n"
      ],
      "text/markdown": [
       "1. 72634\n",
       "2. 11\n",
       "\n",
       "\n"
      ],
      "text/plain": [
       "[1] 72634    11"
      ]
     },
     "metadata": {},
     "output_type": "display_data"
    },
    {
     "data": {
      "text/html": [
       "<style>\n",
       ".list-inline {list-style: none; margin:0; padding: 0}\n",
       ".list-inline>li {display: inline-block}\n",
       ".list-inline>li:not(:last-child)::after {content: \"\\00b7\"; padding: 0 .5ex}\n",
       "</style>\n",
       "<ol class=list-inline><li>68956</li><li>11</li></ol>\n"
      ],
      "text/latex": [
       "\\begin{enumerate*}\n",
       "\\item 68956\n",
       "\\item 11\n",
       "\\end{enumerate*}\n"
      ],
      "text/markdown": [
       "1. 68956\n",
       "2. 11\n",
       "\n",
       "\n"
      ],
      "text/plain": [
       "[1] 68956    11"
      ]
     },
     "metadata": {},
     "output_type": "display_data"
    }
   ],
   "source": [
    "dim(gliph_input_ab)\n",
    "dim(gliph_input_ab_dedup)"
   ]
  },
  {
   "cell_type": "code",
   "execution_count": 16,
   "metadata": {},
   "outputs": [
    {
     "data": {
      "text/html": [
       "'/Users/anabbi/OneDrive - UHN/Documents/INTERCEPT/Data/'"
      ],
      "text/latex": [
       "'/Users/anabbi/OneDrive - UHN/Documents/INTERCEPT/Data/'"
      ],
      "text/markdown": [
       "'/Users/anabbi/OneDrive - UHN/Documents/INTERCEPT/Data/'"
      ],
      "text/plain": [
       "[1] \"/Users/anabbi/OneDrive - UHN/Documents/INTERCEPT/Data/\""
      ]
     },
     "metadata": {},
     "output_type": "display_data"
    }
   ],
   "source": [
    "datapath"
   ]
  },
  {
   "cell_type": "code",
   "execution_count": 17,
   "metadata": {},
   "outputs": [],
   "source": [
    "#index column incase I want to map gliph_input_dedup_ab_subset back to gliph_input_dedup_ab\n",
    "gliph_input_ab_dedup$index <- 1:nrow(gliph_input_ab_dedup)"
   ]
  },
  {
   "cell_type": "code",
   "execution_count": 18,
   "metadata": {},
   "outputs": [],
   "source": [
    "save(gliph_input_ab_dedup, file = paste0(datapath, \"capTCRseq/gliph_input_ab_dedup.RData\"))"
   ]
  },
  {
   "cell_type": "code",
   "execution_count": 19,
   "metadata": {},
   "outputs": [
    {
     "data": {
      "text/html": [
       "<style>\n",
       ".list-inline {list-style: none; margin:0; padding: 0}\n",
       ".list-inline>li {display: inline-block}\n",
       ".list-inline>li:not(:last-child)::after {content: \"\\00b7\"; padding: 0 .5ex}\n",
       "</style>\n",
       "<ol class=list-inline><li>'CDR3b'</li><li>'TRBV'</li><li>'TRBJ'</li><li>'subject.condition'</li><li>'count.x'</li><li>'clonefraction'</li><li>'nSeqCDR3'</li><li>'file.x'</li><li>'subject'</li><li>'file.y'</li><li>'count.y'</li><li>'index'</li></ol>\n"
      ],
      "text/latex": [
       "\\begin{enumerate*}\n",
       "\\item 'CDR3b'\n",
       "\\item 'TRBV'\n",
       "\\item 'TRBJ'\n",
       "\\item 'subject.condition'\n",
       "\\item 'count.x'\n",
       "\\item 'clonefraction'\n",
       "\\item 'nSeqCDR3'\n",
       "\\item 'file.x'\n",
       "\\item 'subject'\n",
       "\\item 'file.y'\n",
       "\\item 'count.y'\n",
       "\\item 'index'\n",
       "\\end{enumerate*}\n"
      ],
      "text/markdown": [
       "1. 'CDR3b'\n",
       "2. 'TRBV'\n",
       "3. 'TRBJ'\n",
       "4. 'subject.condition'\n",
       "5. 'count.x'\n",
       "6. 'clonefraction'\n",
       "7. 'nSeqCDR3'\n",
       "8. 'file.x'\n",
       "9. 'subject'\n",
       "10. 'file.y'\n",
       "11. 'count.y'\n",
       "12. 'index'\n",
       "\n",
       "\n"
      ],
      "text/plain": [
       " [1] \"CDR3b\"             \"TRBV\"              \"TRBJ\"             \n",
       " [4] \"subject.condition\" \"count.x\"           \"clonefraction\"    \n",
       " [7] \"nSeqCDR3\"          \"file.x\"            \"subject\"          \n",
       "[10] \"file.y\"            \"count.y\"           \"index\"            "
      ]
     },
     "metadata": {},
     "output_type": "display_data"
    }
   ],
   "source": [
    "colnames(gliph_input_ab_dedup)"
   ]
  },
  {
   "cell_type": "code",
   "execution_count": 20,
   "metadata": {},
   "outputs": [],
   "source": [
    "#reorder and subset to input to gliph\n",
    "gliph_input_ab_dedup_subset <- gliph_input_ab_dedup[, c(\"CDR3b\", \"TRBV\", \"TRBJ\", \"subject\", \"count.y\", \"file.y\", \"index\")]\n",
    "                                                         "
   ]
  },
  {
   "cell_type": "code",
   "execution_count": 21,
   "metadata": {},
   "outputs": [],
   "source": [
    "colnames(gliph_input_ab_dedup_subset) <- c(\"CDR3b\", \"TRBV\", \"TRBJ\", \"subject:condition\", \"count\", \"file\", \"index\")"
   ]
  },
  {
   "cell_type": "code",
   "execution_count": 22,
   "metadata": {},
   "outputs": [],
   "source": [
    "save(gliph_input_ab_dedup_subset, file = paste0(datapath, \"capTCRseq/gliph_input_ab_dedup_subset.RData\"))"
   ]
  },
  {
   "cell_type": "code",
   "execution_count": null,
   "metadata": {},
   "outputs": [],
   "source": []
  },
  {
   "cell_type": "code",
   "execution_count": null,
   "metadata": {},
   "outputs": [],
   "source": []
  },
  {
   "cell_type": "code",
   "execution_count": null,
   "metadata": {},
   "outputs": [],
   "source": []
  },
  {
   "cell_type": "markdown",
   "metadata": {},
   "source": [
    "## Cleanup Adaptive data"
   ]
  },
  {
   "cell_type": "code",
   "execution_count": 6,
   "metadata": {},
   "outputs": [],
   "source": [
    "emerson <- read.table('/Users/anabbi/Desktop/H4H/pughlab/external_data/Adaptive/emerson2017/P00496.tsv', sep = \"\\t\", header = F)"
   ]
  },
  {
   "cell_type": "code",
   "execution_count": 7,
   "metadata": {},
   "outputs": [
    {
     "data": {
      "text/html": [
       "<table class=\"dataframe\">\n",
       "<caption>A data.frame: 6 × 118</caption>\n",
       "<thead>\n",
       "\t<tr><th></th><th scope=col>V1</th><th scope=col>V2</th><th scope=col>V3</th><th scope=col>V4</th><th scope=col>V5</th><th scope=col>V6</th><th scope=col>V7</th><th scope=col>V8</th><th scope=col>V9</th><th scope=col>V10</th><th scope=col>⋯</th><th scope=col>V109</th><th scope=col>V110</th><th scope=col>V111</th><th scope=col>V112</th><th scope=col>V113</th><th scope=col>V114</th><th scope=col>V115</th><th scope=col>V116</th><th scope=col>V117</th><th scope=col>V118</th></tr>\n",
       "\t<tr><th></th><th scope=col>&lt;chr&gt;</th><th scope=col>&lt;chr&gt;</th><th scope=col>&lt;chr&gt;</th><th scope=col>&lt;chr&gt;</th><th scope=col>&lt;chr&gt;</th><th scope=col>&lt;chr&gt;</th><th scope=col>&lt;chr&gt;</th><th scope=col>&lt;chr&gt;</th><th scope=col>&lt;chr&gt;</th><th scope=col>&lt;chr&gt;</th><th scope=col>⋯</th><th scope=col>&lt;chr&gt;</th><th scope=col>&lt;chr&gt;</th><th scope=col>&lt;chr&gt;</th><th scope=col>&lt;chr&gt;</th><th scope=col>&lt;chr&gt;</th><th scope=col>&lt;chr&gt;</th><th scope=col>&lt;chr&gt;</th><th scope=col>&lt;chr&gt;</th><th scope=col>&lt;chr&gt;</th><th scope=col>&lt;chr&gt;</th></tr>\n",
       "</thead>\n",
       "<tbody>\n",
       "\t<tr><th scope=row>1</th><td>sample_name</td><td>species</td><td>locus</td><td>product_subtype</td><td>kit_pool</td><td>sku</td><td>test_name</td><td>sample_catalog_tags                                                                                                                                                                                                                                                                                                                                                                                                                                     </td><td>sample_rich_tags</td><td>sample_rich_tags_json</td><td>⋯</td><td>cdr3_rearrangement                        </td><td>cdr3_amino_acid</td><td>cdr3_start_index</td><td>cdr3_rearrangement_length</td><td>chosen_v_family</td><td>chosen_v_gene</td><td>chosen_v_allele</td><td>chosen_j_family</td><td>chosen_j_gene</td><td>chosen_j_allele</td></tr>\n",
       "\t<tr><th scope=row>2</th><td>P00496     </td><td>Human  </td><td>TCRB </td><td>UltraDeep      </td><td>        </td><td>   </td><td>         </td><td>Age (Range):35-60 Years,Age (Range):45-65 Years (Late Adulthood),Age (Range):50-54 Years,Age:50 Years,Biological Sex:Female,Ethnic Group:Non-Hispanic or Latino,HLA MHC class I:HLA-A*02,HLA MHC class I:HLA-A*34,HLA MHC class I:HLA-B*15,HLA MHC class I:HLA-B*38,Racial Group:Asian or Pacific Islander,Tissue Source:PBMC,Tissue Source:Peripheral blood lymphocytes (PBL),Tissue Source:T cells,Tissue Source:gDNA,Virus Diseases:Cytomegalovirus +</td><td>null            </td><td>                     </td><td>⋯</td><td>TGTGCCAGCAGCCTGACTCTAAACACTGAAGCTTTCTTT   </td><td>CASSLTLNTEAFF  </td><td>327             </td><td>39                       </td><td>TCRBV05        </td><td>05           </td><td>01             </td><td>TCRBJ01        </td><td>01           </td><td>01             </td></tr>\n",
       "\t<tr><th scope=row>3</th><td>P00496     </td><td>Human  </td><td>TCRB </td><td>UltraDeep      </td><td>        </td><td>   </td><td>         </td><td>Age (Range):35-60 Years,Age (Range):45-65 Years (Late Adulthood),Age (Range):50-54 Years,Age:50 Years,Biological Sex:Female,Ethnic Group:Non-Hispanic or Latino,HLA MHC class I:HLA-A*02,HLA MHC class I:HLA-A*34,HLA MHC class I:HLA-B*15,HLA MHC class I:HLA-B*38,Racial Group:Asian or Pacific Islander,Tissue Source:PBMC,Tissue Source:Peripheral blood lymphocytes (PBL),Tissue Source:T cells,Tissue Source:gDNA,Virus Diseases:Cytomegalovirus +</td><td>null            </td><td>                     </td><td>⋯</td><td>TGTGCCAGCAGCTTGGAACTCAATCAGCCCCAGCATTTT   </td><td>CASSLELNQPQHF  </td><td>327             </td><td>39                       </td><td>TCRBV05        </td><td>05           </td><td>01             </td><td>TCRBJ01        </td><td>05           </td><td>01             </td></tr>\n",
       "\t<tr><th scope=row>4</th><td>P00496     </td><td>Human  </td><td>TCRB </td><td>UltraDeep      </td><td>        </td><td>   </td><td>         </td><td>Age (Range):35-60 Years,Age (Range):45-65 Years (Late Adulthood),Age (Range):50-54 Years,Age:50 Years,Biological Sex:Female,Ethnic Group:Non-Hispanic or Latino,HLA MHC class I:HLA-A*02,HLA MHC class I:HLA-A*34,HLA MHC class I:HLA-B*15,HLA MHC class I:HLA-B*38,Racial Group:Asian or Pacific Islander,Tissue Source:PBMC,Tissue Source:Peripheral blood lymphocytes (PBL),Tissue Source:T cells,Tissue Source:gDNA,Virus Diseases:Cytomegalovirus +</td><td>null            </td><td>                     </td><td>⋯</td><td>TGTGCCAGCGCCCGGGGGAACACTGAAGCTTTCTTT      </td><td>CASARGNTEAFF   </td><td>327             </td><td>36                       </td><td>TCRBV05        </td><td>05           </td><td>01             </td><td>TCRBJ01        </td><td>01           </td><td>01             </td></tr>\n",
       "\t<tr><th scope=row>5</th><td>P00496     </td><td>Human  </td><td>TCRB </td><td>UltraDeep      </td><td>        </td><td>   </td><td>         </td><td>Age (Range):35-60 Years,Age (Range):45-65 Years (Late Adulthood),Age (Range):50-54 Years,Age:50 Years,Biological Sex:Female,Ethnic Group:Non-Hispanic or Latino,HLA MHC class I:HLA-A*02,HLA MHC class I:HLA-A*34,HLA MHC class I:HLA-B*15,HLA MHC class I:HLA-B*38,Racial Group:Asian or Pacific Islander,Tissue Source:PBMC,Tissue Source:Peripheral blood lymphocytes (PBL),Tissue Source:T cells,Tissue Source:gDNA,Virus Diseases:Cytomegalovirus +</td><td>null            </td><td>                     </td><td>⋯</td><td>                                          </td><td>               </td><td>                </td><td>0                        </td><td>               </td><td>             </td><td>               </td><td>               </td><td>             </td><td>               </td></tr>\n",
       "\t<tr><th scope=row>6</th><td>P00496     </td><td>Human  </td><td>TCRB </td><td>UltraDeep      </td><td>        </td><td>   </td><td>         </td><td>Age (Range):35-60 Years,Age (Range):45-65 Years (Late Adulthood),Age (Range):50-54 Years,Age:50 Years,Biological Sex:Female,Ethnic Group:Non-Hispanic or Latino,HLA MHC class I:HLA-A*02,HLA MHC class I:HLA-A*34,HLA MHC class I:HLA-B*15,HLA MHC class I:HLA-B*38,Racial Group:Asian or Pacific Islander,Tissue Source:PBMC,Tissue Source:Peripheral blood lymphocytes (PBL),Tissue Source:T cells,Tissue Source:gDNA,Virus Diseases:Cytomegalovirus +</td><td>null            </td><td>                     </td><td>⋯</td><td>TGTGCCAGCAGACCCAAGAGCTCCTACAATGAGCAGTTCTTC</td><td>CASRPKSSYNEQFF </td><td>327             </td><td>42                       </td><td>TCRBV05        </td><td>05           </td><td>01             </td><td>TCRBJ02        </td><td>01           </td><td>01             </td></tr>\n",
       "</tbody>\n",
       "</table>\n"
      ],
      "text/latex": [
       "A data.frame: 6 × 118\n",
       "\\begin{tabular}{r|lllllllllllllllllllll}\n",
       "  & V1 & V2 & V3 & V4 & V5 & V6 & V7 & V8 & V9 & V10 & ⋯ & V109 & V110 & V111 & V112 & V113 & V114 & V115 & V116 & V117 & V118\\\\\n",
       "  & <chr> & <chr> & <chr> & <chr> & <chr> & <chr> & <chr> & <chr> & <chr> & <chr> & ⋯ & <chr> & <chr> & <chr> & <chr> & <chr> & <chr> & <chr> & <chr> & <chr> & <chr>\\\\\n",
       "\\hline\n",
       "\t1 & sample\\_name & species & locus & product\\_subtype & kit\\_pool & sku & test\\_name & sample\\_catalog\\_tags                                                                                                                                                                                                                                                                                                                                                                                                                                      & sample\\_rich\\_tags & sample\\_rich\\_tags\\_json & ⋯ & cdr3\\_rearrangement                         & cdr3\\_amino\\_acid & cdr3\\_start\\_index & cdr3\\_rearrangement\\_length & chosen\\_v\\_family & chosen\\_v\\_gene & chosen\\_v\\_allele & chosen\\_j\\_family & chosen\\_j\\_gene & chosen\\_j\\_allele\\\\\n",
       "\t2 & P00496      & Human   & TCRB  & UltraDeep       &          &     &           & Age (Range):35-60 Years,Age (Range):45-65 Years (Late Adulthood),Age (Range):50-54 Years,Age:50 Years,Biological Sex:Female,Ethnic Group:Non-Hispanic or Latino,HLA MHC class I:HLA-A*02,HLA MHC class I:HLA-A*34,HLA MHC class I:HLA-B*15,HLA MHC class I:HLA-B*38,Racial Group:Asian or Pacific Islander,Tissue Source:PBMC,Tissue Source:Peripheral blood lymphocytes (PBL),Tissue Source:T cells,Tissue Source:gDNA,Virus Diseases:Cytomegalovirus + & null             &                       & ⋯ & TGTGCCAGCAGCCTGACTCTAAACACTGAAGCTTTCTTT    & CASSLTLNTEAFF   & 327              & 39                        & TCRBV05         & 05            & 01              & TCRBJ01         & 01            & 01             \\\\\n",
       "\t3 & P00496      & Human   & TCRB  & UltraDeep       &          &     &           & Age (Range):35-60 Years,Age (Range):45-65 Years (Late Adulthood),Age (Range):50-54 Years,Age:50 Years,Biological Sex:Female,Ethnic Group:Non-Hispanic or Latino,HLA MHC class I:HLA-A*02,HLA MHC class I:HLA-A*34,HLA MHC class I:HLA-B*15,HLA MHC class I:HLA-B*38,Racial Group:Asian or Pacific Islander,Tissue Source:PBMC,Tissue Source:Peripheral blood lymphocytes (PBL),Tissue Source:T cells,Tissue Source:gDNA,Virus Diseases:Cytomegalovirus + & null             &                       & ⋯ & TGTGCCAGCAGCTTGGAACTCAATCAGCCCCAGCATTTT    & CASSLELNQPQHF   & 327              & 39                        & TCRBV05         & 05            & 01              & TCRBJ01         & 05            & 01             \\\\\n",
       "\t4 & P00496      & Human   & TCRB  & UltraDeep       &          &     &           & Age (Range):35-60 Years,Age (Range):45-65 Years (Late Adulthood),Age (Range):50-54 Years,Age:50 Years,Biological Sex:Female,Ethnic Group:Non-Hispanic or Latino,HLA MHC class I:HLA-A*02,HLA MHC class I:HLA-A*34,HLA MHC class I:HLA-B*15,HLA MHC class I:HLA-B*38,Racial Group:Asian or Pacific Islander,Tissue Source:PBMC,Tissue Source:Peripheral blood lymphocytes (PBL),Tissue Source:T cells,Tissue Source:gDNA,Virus Diseases:Cytomegalovirus + & null             &                       & ⋯ & TGTGCCAGCGCCCGGGGGAACACTGAAGCTTTCTTT       & CASARGNTEAFF    & 327              & 36                        & TCRBV05         & 05            & 01              & TCRBJ01         & 01            & 01             \\\\\n",
       "\t5 & P00496      & Human   & TCRB  & UltraDeep       &          &     &           & Age (Range):35-60 Years,Age (Range):45-65 Years (Late Adulthood),Age (Range):50-54 Years,Age:50 Years,Biological Sex:Female,Ethnic Group:Non-Hispanic or Latino,HLA MHC class I:HLA-A*02,HLA MHC class I:HLA-A*34,HLA MHC class I:HLA-B*15,HLA MHC class I:HLA-B*38,Racial Group:Asian or Pacific Islander,Tissue Source:PBMC,Tissue Source:Peripheral blood lymphocytes (PBL),Tissue Source:T cells,Tissue Source:gDNA,Virus Diseases:Cytomegalovirus + & null             &                       & ⋯ &                                            &                 &                  & 0                         &                 &               &                 &                 &               &                \\\\\n",
       "\t6 & P00496      & Human   & TCRB  & UltraDeep       &          &     &           & Age (Range):35-60 Years,Age (Range):45-65 Years (Late Adulthood),Age (Range):50-54 Years,Age:50 Years,Biological Sex:Female,Ethnic Group:Non-Hispanic or Latino,HLA MHC class I:HLA-A*02,HLA MHC class I:HLA-A*34,HLA MHC class I:HLA-B*15,HLA MHC class I:HLA-B*38,Racial Group:Asian or Pacific Islander,Tissue Source:PBMC,Tissue Source:Peripheral blood lymphocytes (PBL),Tissue Source:T cells,Tissue Source:gDNA,Virus Diseases:Cytomegalovirus + & null             &                       & ⋯ & TGTGCCAGCAGACCCAAGAGCTCCTACAATGAGCAGTTCTTC & CASRPKSSYNEQFF  & 327              & 42                        & TCRBV05         & 05            & 01              & TCRBJ02         & 01            & 01             \\\\\n",
       "\\end{tabular}\n"
      ],
      "text/markdown": [
       "\n",
       "A data.frame: 6 × 118\n",
       "\n",
       "| <!--/--> | V1 &lt;chr&gt; | V2 &lt;chr&gt; | V3 &lt;chr&gt; | V4 &lt;chr&gt; | V5 &lt;chr&gt; | V6 &lt;chr&gt; | V7 &lt;chr&gt; | V8 &lt;chr&gt; | V9 &lt;chr&gt; | V10 &lt;chr&gt; | ⋯ ⋯ | V109 &lt;chr&gt; | V110 &lt;chr&gt; | V111 &lt;chr&gt; | V112 &lt;chr&gt; | V113 &lt;chr&gt; | V114 &lt;chr&gt; | V115 &lt;chr&gt; | V116 &lt;chr&gt; | V117 &lt;chr&gt; | V118 &lt;chr&gt; |\n",
       "|---|---|---|---|---|---|---|---|---|---|---|---|---|---|---|---|---|---|---|---|---|---|\n",
       "| 1 | sample_name | species | locus | product_subtype | kit_pool | sku | test_name | sample_catalog_tags                                                                                                                                                                                                                                                                                                                                                                                                                                      | sample_rich_tags | sample_rich_tags_json | ⋯ | cdr3_rearrangement                         | cdr3_amino_acid | cdr3_start_index | cdr3_rearrangement_length | chosen_v_family | chosen_v_gene | chosen_v_allele | chosen_j_family | chosen_j_gene | chosen_j_allele |\n",
       "| 2 | P00496      | Human   | TCRB  | UltraDeep       | <!----> | <!----> | <!----> | Age (Range):35-60 Years,Age (Range):45-65 Years (Late Adulthood),Age (Range):50-54 Years,Age:50 Years,Biological Sex:Female,Ethnic Group:Non-Hispanic or Latino,HLA MHC class I:HLA-A*02,HLA MHC class I:HLA-A*34,HLA MHC class I:HLA-B*15,HLA MHC class I:HLA-B*38,Racial Group:Asian or Pacific Islander,Tissue Source:PBMC,Tissue Source:Peripheral blood lymphocytes (PBL),Tissue Source:T cells,Tissue Source:gDNA,Virus Diseases:Cytomegalovirus + | null             | <!----> | ⋯ | TGTGCCAGCAGCCTGACTCTAAACACTGAAGCTTTCTTT    | CASSLTLNTEAFF   | 327              | 39                        | TCRBV05         | 05            | 01              | TCRBJ01         | 01            | 01              |\n",
       "| 3 | P00496      | Human   | TCRB  | UltraDeep       | <!----> | <!----> | <!----> | Age (Range):35-60 Years,Age (Range):45-65 Years (Late Adulthood),Age (Range):50-54 Years,Age:50 Years,Biological Sex:Female,Ethnic Group:Non-Hispanic or Latino,HLA MHC class I:HLA-A*02,HLA MHC class I:HLA-A*34,HLA MHC class I:HLA-B*15,HLA MHC class I:HLA-B*38,Racial Group:Asian or Pacific Islander,Tissue Source:PBMC,Tissue Source:Peripheral blood lymphocytes (PBL),Tissue Source:T cells,Tissue Source:gDNA,Virus Diseases:Cytomegalovirus + | null             | <!----> | ⋯ | TGTGCCAGCAGCTTGGAACTCAATCAGCCCCAGCATTTT    | CASSLELNQPQHF   | 327              | 39                        | TCRBV05         | 05            | 01              | TCRBJ01         | 05            | 01              |\n",
       "| 4 | P00496      | Human   | TCRB  | UltraDeep       | <!----> | <!----> | <!----> | Age (Range):35-60 Years,Age (Range):45-65 Years (Late Adulthood),Age (Range):50-54 Years,Age:50 Years,Biological Sex:Female,Ethnic Group:Non-Hispanic or Latino,HLA MHC class I:HLA-A*02,HLA MHC class I:HLA-A*34,HLA MHC class I:HLA-B*15,HLA MHC class I:HLA-B*38,Racial Group:Asian or Pacific Islander,Tissue Source:PBMC,Tissue Source:Peripheral blood lymphocytes (PBL),Tissue Source:T cells,Tissue Source:gDNA,Virus Diseases:Cytomegalovirus + | null             | <!----> | ⋯ | TGTGCCAGCGCCCGGGGGAACACTGAAGCTTTCTTT       | CASARGNTEAFF    | 327              | 36                        | TCRBV05         | 05            | 01              | TCRBJ01         | 01            | 01              |\n",
       "| 5 | P00496      | Human   | TCRB  | UltraDeep       | <!----> | <!----> | <!----> | Age (Range):35-60 Years,Age (Range):45-65 Years (Late Adulthood),Age (Range):50-54 Years,Age:50 Years,Biological Sex:Female,Ethnic Group:Non-Hispanic or Latino,HLA MHC class I:HLA-A*02,HLA MHC class I:HLA-A*34,HLA MHC class I:HLA-B*15,HLA MHC class I:HLA-B*38,Racial Group:Asian or Pacific Islander,Tissue Source:PBMC,Tissue Source:Peripheral blood lymphocytes (PBL),Tissue Source:T cells,Tissue Source:gDNA,Virus Diseases:Cytomegalovirus + | null             | <!----> | ⋯ | <!----> | <!----> | <!----> | 0                         | <!----> | <!----> | <!----> | <!----> | <!----> | <!----> |\n",
       "| 6 | P00496      | Human   | TCRB  | UltraDeep       | <!----> | <!----> | <!----> | Age (Range):35-60 Years,Age (Range):45-65 Years (Late Adulthood),Age (Range):50-54 Years,Age:50 Years,Biological Sex:Female,Ethnic Group:Non-Hispanic or Latino,HLA MHC class I:HLA-A*02,HLA MHC class I:HLA-A*34,HLA MHC class I:HLA-B*15,HLA MHC class I:HLA-B*38,Racial Group:Asian or Pacific Islander,Tissue Source:PBMC,Tissue Source:Peripheral blood lymphocytes (PBL),Tissue Source:T cells,Tissue Source:gDNA,Virus Diseases:Cytomegalovirus + | null             | <!----> | ⋯ | TGTGCCAGCAGACCCAAGAGCTCCTACAATGAGCAGTTCTTC | CASRPKSSYNEQFF  | 327              | 42                        | TCRBV05         | 05            | 01              | TCRBJ02         | 01            | 01              |\n",
       "\n"
      ],
      "text/plain": [
       "  V1          V2      V3    V4              V5       V6  V7       \n",
       "1 sample_name species locus product_subtype kit_pool sku test_name\n",
       "2 P00496      Human   TCRB  UltraDeep                             \n",
       "3 P00496      Human   TCRB  UltraDeep                             \n",
       "4 P00496      Human   TCRB  UltraDeep                             \n",
       "5 P00496      Human   TCRB  UltraDeep                             \n",
       "6 P00496      Human   TCRB  UltraDeep                             \n",
       "  V8                                                                                                                                                                                                                                                                                                                                                                                                                                                      \n",
       "1 sample_catalog_tags                                                                                                                                                                                                                                                                                                                                                                                                                                     \n",
       "2 Age (Range):35-60 Years,Age (Range):45-65 Years (Late Adulthood),Age (Range):50-54 Years,Age:50 Years,Biological Sex:Female,Ethnic Group:Non-Hispanic or Latino,HLA MHC class I:HLA-A*02,HLA MHC class I:HLA-A*34,HLA MHC class I:HLA-B*15,HLA MHC class I:HLA-B*38,Racial Group:Asian or Pacific Islander,Tissue Source:PBMC,Tissue Source:Peripheral blood lymphocytes (PBL),Tissue Source:T cells,Tissue Source:gDNA,Virus Diseases:Cytomegalovirus +\n",
       "3 Age (Range):35-60 Years,Age (Range):45-65 Years (Late Adulthood),Age (Range):50-54 Years,Age:50 Years,Biological Sex:Female,Ethnic Group:Non-Hispanic or Latino,HLA MHC class I:HLA-A*02,HLA MHC class I:HLA-A*34,HLA MHC class I:HLA-B*15,HLA MHC class I:HLA-B*38,Racial Group:Asian or Pacific Islander,Tissue Source:PBMC,Tissue Source:Peripheral blood lymphocytes (PBL),Tissue Source:T cells,Tissue Source:gDNA,Virus Diseases:Cytomegalovirus +\n",
       "4 Age (Range):35-60 Years,Age (Range):45-65 Years (Late Adulthood),Age (Range):50-54 Years,Age:50 Years,Biological Sex:Female,Ethnic Group:Non-Hispanic or Latino,HLA MHC class I:HLA-A*02,HLA MHC class I:HLA-A*34,HLA MHC class I:HLA-B*15,HLA MHC class I:HLA-B*38,Racial Group:Asian or Pacific Islander,Tissue Source:PBMC,Tissue Source:Peripheral blood lymphocytes (PBL),Tissue Source:T cells,Tissue Source:gDNA,Virus Diseases:Cytomegalovirus +\n",
       "5 Age (Range):35-60 Years,Age (Range):45-65 Years (Late Adulthood),Age (Range):50-54 Years,Age:50 Years,Biological Sex:Female,Ethnic Group:Non-Hispanic or Latino,HLA MHC class I:HLA-A*02,HLA MHC class I:HLA-A*34,HLA MHC class I:HLA-B*15,HLA MHC class I:HLA-B*38,Racial Group:Asian or Pacific Islander,Tissue Source:PBMC,Tissue Source:Peripheral blood lymphocytes (PBL),Tissue Source:T cells,Tissue Source:gDNA,Virus Diseases:Cytomegalovirus +\n",
       "6 Age (Range):35-60 Years,Age (Range):45-65 Years (Late Adulthood),Age (Range):50-54 Years,Age:50 Years,Biological Sex:Female,Ethnic Group:Non-Hispanic or Latino,HLA MHC class I:HLA-A*02,HLA MHC class I:HLA-A*34,HLA MHC class I:HLA-B*15,HLA MHC class I:HLA-B*38,Racial Group:Asian or Pacific Islander,Tissue Source:PBMC,Tissue Source:Peripheral blood lymphocytes (PBL),Tissue Source:T cells,Tissue Source:gDNA,Virus Diseases:Cytomegalovirus +\n",
       "  V9               V10                   ⋯\n",
       "1 sample_rich_tags sample_rich_tags_json ⋯\n",
       "2 null                                   ⋯\n",
       "3 null                                   ⋯\n",
       "4 null                                   ⋯\n",
       "5 null                                   ⋯\n",
       "6 null                                   ⋯\n",
       "  V109                                       V110            V111            \n",
       "1 cdr3_rearrangement                         cdr3_amino_acid cdr3_start_index\n",
       "2 TGTGCCAGCAGCCTGACTCTAAACACTGAAGCTTTCTTT    CASSLTLNTEAFF   327             \n",
       "3 TGTGCCAGCAGCTTGGAACTCAATCAGCCCCAGCATTTT    CASSLELNQPQHF   327             \n",
       "4 TGTGCCAGCGCCCGGGGGAACACTGAAGCTTTCTTT       CASARGNTEAFF    327             \n",
       "5                                                                            \n",
       "6 TGTGCCAGCAGACCCAAGAGCTCCTACAATGAGCAGTTCTTC CASRPKSSYNEQFF  327             \n",
       "  V112                      V113            V114          V115           \n",
       "1 cdr3_rearrangement_length chosen_v_family chosen_v_gene chosen_v_allele\n",
       "2 39                        TCRBV05         05            01             \n",
       "3 39                        TCRBV05         05            01             \n",
       "4 36                        TCRBV05         05            01             \n",
       "5 0                                                                      \n",
       "6 42                        TCRBV05         05            01             \n",
       "  V116            V117          V118           \n",
       "1 chosen_j_family chosen_j_gene chosen_j_allele\n",
       "2 TCRBJ01         01            01             \n",
       "3 TCRBJ01         05            01             \n",
       "4 TCRBJ01         01            01             \n",
       "5                                              \n",
       "6 TCRBJ02         01            01             "
      ]
     },
     "metadata": {},
     "output_type": "display_data"
    }
   ],
   "source": [
    "head(emerson)"
   ]
  },
  {
   "cell_type": "code",
   "execution_count": 23,
   "metadata": {},
   "outputs": [
    {
     "data": {
      "text/html": [
       "<style>\n",
       ".list-inline {list-style: none; margin:0; padding: 0}\n",
       ".list-inline>li {display: inline-block}\n",
       ".list-inline>li:not(:last-child)::after {content: \"\\00b7\"; padding: 0 .5ex}\n",
       "</style>\n",
       "<ol class=list-inline><li>162651</li><li>6</li></ol>\n"
      ],
      "text/latex": [
       "\\begin{enumerate*}\n",
       "\\item 162651\n",
       "\\item 6\n",
       "\\end{enumerate*}\n"
      ],
      "text/markdown": [
       "1. 162651\n",
       "2. 6\n",
       "\n",
       "\n"
      ],
      "text/plain": [
       "[1] 162651      6"
      ]
     },
     "metadata": {},
     "output_type": "display_data"
    }
   ],
   "source": [
    "dim(covidfle)"
   ]
  },
  {
   "cell_type": "code",
   "execution_count": 24,
   "metadata": {},
   "outputs": [],
   "source": [
    "#remove unproductive\n",
    "covidfle <- covidfle[!grepl(\"[*]\", covidfle$V1),]\n",
    "covidfle <- covidfle[ covidfle$V1 != \"unproductive\",]"
   ]
  },
  {
   "cell_type": "code",
   "execution_count": 25,
   "metadata": {},
   "outputs": [
    {
     "data": {
      "text/html": [
       "<style>\n",
       ".list-inline {list-style: none; margin:0; padding: 0}\n",
       ".list-inline>li {display: inline-block}\n",
       ".list-inline>li:not(:last-child)::after {content: \"\\00b7\"; padding: 0 .5ex}\n",
       "</style>\n",
       "<ol class=list-inline><li>160130</li><li>6</li></ol>\n"
      ],
      "text/latex": [
       "\\begin{enumerate*}\n",
       "\\item 160130\n",
       "\\item 6\n",
       "\\end{enumerate*}\n"
      ],
      "text/markdown": [
       "1. 160130\n",
       "2. 6\n",
       "\n",
       "\n"
      ],
      "text/plain": [
       "[1] 160130      6"
      ]
     },
     "metadata": {},
     "output_type": "display_data"
    }
   ],
   "source": [
    "dim(covidfle)"
   ]
  },
  {
   "cell_type": "code",
   "execution_count": 26,
   "metadata": {},
   "outputs": [],
   "source": [
    "#remove duplicated entries\n",
    "covidfle_uniq <- unique(covidfle)"
   ]
  },
  {
   "cell_type": "code",
   "execution_count": 27,
   "metadata": {},
   "outputs": [
    {
     "data": {
      "text/html": [
       "<style>\n",
       ".list-inline {list-style: none; margin:0; padding: 0}\n",
       ".list-inline>li {display: inline-block}\n",
       ".list-inline>li:not(:last-child)::after {content: \"\\00b7\"; padding: 0 .5ex}\n",
       "</style>\n",
       "<ol class=list-inline><li>156033</li><li>6</li></ol>\n"
      ],
      "text/latex": [
       "\\begin{enumerate*}\n",
       "\\item 156033\n",
       "\\item 6\n",
       "\\end{enumerate*}\n"
      ],
      "text/markdown": [
       "1. 156033\n",
       "2. 6\n",
       "\n",
       "\n"
      ],
      "text/plain": [
       "[1] 156033      6"
      ]
     },
     "metadata": {},
     "output_type": "display_data"
    }
   ],
   "source": [
    "dim(covidfle_uniq)"
   ]
  },
  {
   "cell_type": "code",
   "execution_count": 28,
   "metadata": {},
   "outputs": [],
   "source": [
    "covidfle_uniq$V4 <- NULL"
   ]
  },
  {
   "cell_type": "code",
   "execution_count": 29,
   "metadata": {},
   "outputs": [
    {
     "data": {
      "text/html": [
       "<table class=\"dataframe\">\n",
       "<caption>A data.frame: 6 × 5</caption>\n",
       "<thead>\n",
       "\t<tr><th></th><th scope=col>V1</th><th scope=col>V2</th><th scope=col>V3</th><th scope=col>V5</th><th scope=col>V6</th></tr>\n",
       "\t<tr><th></th><th scope=col>&lt;chr&gt;</th><th scope=col>&lt;chr&gt;</th><th scope=col>&lt;chr&gt;</th><th scope=col>&lt;chr&gt;</th><th scope=col>&lt;int&gt;</th></tr>\n",
       "</thead>\n",
       "<tbody>\n",
       "\t<tr><th scope=row>1</th><td>CASGRHNSPLHF   </td><td>TCRBV12-03/12-04</td><td>TCRBJ01-06</td><td>eJL143</td><td>1</td></tr>\n",
       "\t<tr><th scope=row>2</th><td>CASRPAGVRNEQFF </td><td>TCRBV06-06      </td><td>TCRBJ02-01</td><td>eJL146</td><td>1</td></tr>\n",
       "\t<tr><th scope=row>3</th><td>CSASPRTLWGEQFF </td><td>TCRBV20-X       </td><td>TCRBJ02-01</td><td>eJL146</td><td>1</td></tr>\n",
       "\t<tr><th scope=row>4</th><td>CASSLVTSVKDTQYF</td><td>TCRBV05-01      </td><td>TCRBJ02-03</td><td>eJL146</td><td>1</td></tr>\n",
       "\t<tr><th scope=row>5</th><td>CASSAIVAVYGYTF </td><td>TCRBV07-08      </td><td>TCRBJ01-02</td><td>eJL146</td><td>1</td></tr>\n",
       "\t<tr><th scope=row>6</th><td>CSVYSAGELFF    </td><td>TCRBV29-01      </td><td>TCRBJ02-02</td><td>eJL146</td><td>1</td></tr>\n",
       "</tbody>\n",
       "</table>\n"
      ],
      "text/latex": [
       "A data.frame: 6 × 5\n",
       "\\begin{tabular}{r|lllll}\n",
       "  & V1 & V2 & V3 & V5 & V6\\\\\n",
       "  & <chr> & <chr> & <chr> & <chr> & <int>\\\\\n",
       "\\hline\n",
       "\t1 & CASGRHNSPLHF    & TCRBV12-03/12-04 & TCRBJ01-06 & eJL143 & 1\\\\\n",
       "\t2 & CASRPAGVRNEQFF  & TCRBV06-06       & TCRBJ02-01 & eJL146 & 1\\\\\n",
       "\t3 & CSASPRTLWGEQFF  & TCRBV20-X        & TCRBJ02-01 & eJL146 & 1\\\\\n",
       "\t4 & CASSLVTSVKDTQYF & TCRBV05-01       & TCRBJ02-03 & eJL146 & 1\\\\\n",
       "\t5 & CASSAIVAVYGYTF  & TCRBV07-08       & TCRBJ01-02 & eJL146 & 1\\\\\n",
       "\t6 & CSVYSAGELFF     & TCRBV29-01       & TCRBJ02-02 & eJL146 & 1\\\\\n",
       "\\end{tabular}\n"
      ],
      "text/markdown": [
       "\n",
       "A data.frame: 6 × 5\n",
       "\n",
       "| <!--/--> | V1 &lt;chr&gt; | V2 &lt;chr&gt; | V3 &lt;chr&gt; | V5 &lt;chr&gt; | V6 &lt;int&gt; |\n",
       "|---|---|---|---|---|---|\n",
       "| 1 | CASGRHNSPLHF    | TCRBV12-03/12-04 | TCRBJ01-06 | eJL143 | 1 |\n",
       "| 2 | CASRPAGVRNEQFF  | TCRBV06-06       | TCRBJ02-01 | eJL146 | 1 |\n",
       "| 3 | CSASPRTLWGEQFF  | TCRBV20-X        | TCRBJ02-01 | eJL146 | 1 |\n",
       "| 4 | CASSLVTSVKDTQYF | TCRBV05-01       | TCRBJ02-03 | eJL146 | 1 |\n",
       "| 5 | CASSAIVAVYGYTF  | TCRBV07-08       | TCRBJ01-02 | eJL146 | 1 |\n",
       "| 6 | CSVYSAGELFF     | TCRBV29-01       | TCRBJ02-02 | eJL146 | 1 |\n",
       "\n"
      ],
      "text/plain": [
       "  V1              V2               V3         V5     V6\n",
       "1 CASGRHNSPLHF    TCRBV12-03/12-04 TCRBJ01-06 eJL143 1 \n",
       "2 CASRPAGVRNEQFF  TCRBV06-06       TCRBJ02-01 eJL146 1 \n",
       "3 CSASPRTLWGEQFF  TCRBV20-X        TCRBJ02-01 eJL146 1 \n",
       "4 CASSLVTSVKDTQYF TCRBV05-01       TCRBJ02-03 eJL146 1 \n",
       "5 CASSAIVAVYGYTF  TCRBV07-08       TCRBJ01-02 eJL146 1 \n",
       "6 CSVYSAGELFF     TCRBV29-01       TCRBJ02-02 eJL146 1 "
      ]
     },
     "metadata": {},
     "output_type": "display_data"
    }
   ],
   "source": [
    "head(covidfle_uniq)"
   ]
  },
  {
   "cell_type": "code",
   "execution_count": 30,
   "metadata": {},
   "outputs": [],
   "source": [
    "colnames(covidfle_uniq) <- c(\"CDR3b\", \"TRBV\", \"TRBJ\", \"subject:condition\", \"count\")"
   ]
  },
  {
   "cell_type": "code",
   "execution_count": 31,
   "metadata": {},
   "outputs": [
    {
     "data": {
      "text/html": [
       "<style>\n",
       ".list-inline {list-style: none; margin:0; padding: 0}\n",
       ".list-inline>li {display: inline-block}\n",
       ".list-inline>li:not(:last-child)::after {content: \"\\00b7\"; padding: 0 .5ex}\n",
       "</style>\n",
       "<ol class=list-inline><li>'CDR3b'</li><li>'TRBV'</li><li>'TRBJ'</li><li>'subject:condition'</li><li>'count'</li></ol>\n"
      ],
      "text/latex": [
       "\\begin{enumerate*}\n",
       "\\item 'CDR3b'\n",
       "\\item 'TRBV'\n",
       "\\item 'TRBJ'\n",
       "\\item 'subject:condition'\n",
       "\\item 'count'\n",
       "\\end{enumerate*}\n"
      ],
      "text/markdown": [
       "1. 'CDR3b'\n",
       "2. 'TRBV'\n",
       "3. 'TRBJ'\n",
       "4. 'subject:condition'\n",
       "5. 'count'\n",
       "\n",
       "\n"
      ],
      "text/plain": [
       "[1] \"CDR3b\"             \"TRBV\"              \"TRBJ\"             \n",
       "[4] \"subject:condition\" \"count\"            "
      ]
     },
     "metadata": {},
     "output_type": "display_data"
    }
   ],
   "source": [
    "colnames(covidfle_uniq)"
   ]
  },
  {
   "cell_type": "code",
   "execution_count": 32,
   "metadata": {},
   "outputs": [],
   "source": [
    "#bind those with the same cdr3 + TRBV + TRBJ\n",
    "setDT(covidfle_uniq)\n",
    "\n",
    "ab <- covidfle_uniq[, .(subject = toString(`subject:condition`), #bind subjects\n",
    "                        count = sum(count)),  #get sum of counts\n",
    "                    by = c(\"CDR3b\", \"TRBV\", \"TRBJ\")] #get duplicates sequences with the same cdr3 + TRBV + TRBJ\n",
    "\n",
    "covidfle_uniq_ab <- merge(covidfle_uniq, ab, by = c(\"CDR3b\",\"TRBV\",\"TRBJ\")) # merge together"
   ]
  },
  {
   "cell_type": "code",
   "execution_count": 33,
   "metadata": {},
   "outputs": [
    {
     "data": {
      "text/html": [
       "<style>\n",
       ".list-inline {list-style: none; margin:0; padding: 0}\n",
       ".list-inline>li {display: inline-block}\n",
       ".list-inline>li:not(:last-child)::after {content: \"\\00b7\"; padding: 0 .5ex}\n",
       "</style>\n",
       "<ol class=list-inline><li>156033</li><li>7</li></ol>\n"
      ],
      "text/latex": [
       "\\begin{enumerate*}\n",
       "\\item 156033\n",
       "\\item 7\n",
       "\\end{enumerate*}\n"
      ],
      "text/markdown": [
       "1. 156033\n",
       "2. 7\n",
       "\n",
       "\n"
      ],
      "text/plain": [
       "[1] 156033      7"
      ]
     },
     "metadata": {},
     "output_type": "display_data"
    }
   ],
   "source": [
    "dim(covidfle_uniq_ab)"
   ]
  },
  {
   "cell_type": "code",
   "execution_count": 34,
   "metadata": {},
   "outputs": [
    {
     "data": {
      "text/html": [
       "<style>\n",
       ".list-inline {list-style: none; margin:0; padding: 0}\n",
       ".list-inline>li {display: inline-block}\n",
       ".list-inline>li:not(:last-child)::after {content: \"\\00b7\"; padding: 0 .5ex}\n",
       "</style>\n",
       "<ol class=list-inline><li>'CDR3b'</li><li>'TRBV'</li><li>'TRBJ'</li><li>'subject:condition'</li><li>'count.x'</li><li>'subject'</li><li>'count.y'</li></ol>\n"
      ],
      "text/latex": [
       "\\begin{enumerate*}\n",
       "\\item 'CDR3b'\n",
       "\\item 'TRBV'\n",
       "\\item 'TRBJ'\n",
       "\\item 'subject:condition'\n",
       "\\item 'count.x'\n",
       "\\item 'subject'\n",
       "\\item 'count.y'\n",
       "\\end{enumerate*}\n"
      ],
      "text/markdown": [
       "1. 'CDR3b'\n",
       "2. 'TRBV'\n",
       "3. 'TRBJ'\n",
       "4. 'subject:condition'\n",
       "5. 'count.x'\n",
       "6. 'subject'\n",
       "7. 'count.y'\n",
       "\n",
       "\n"
      ],
      "text/plain": [
       "[1] \"CDR3b\"             \"TRBV\"              \"TRBJ\"             \n",
       "[4] \"subject:condition\" \"count.x\"           \"subject\"          \n",
       "[7] \"count.y\"          "
      ]
     },
     "metadata": {},
     "output_type": "display_data"
    }
   ],
   "source": [
    "colnames(covidfle_uniq_ab)"
   ]
  },
  {
   "cell_type": "code",
   "execution_count": 35,
   "metadata": {},
   "outputs": [],
   "source": [
    "#dedup\n",
    "covidfle_uniq_ab_dedup <- dplyr::distinct(covidfle_uniq_ab, \n",
    "                                          CDR3b, TRBV, TRBJ, subject, .keep_all= TRUE)"
   ]
  },
  {
   "cell_type": "code",
   "execution_count": 36,
   "metadata": {},
   "outputs": [
    {
     "data": {
      "text/html": [
       "<table class=\"dataframe\">\n",
       "<caption>A data.table: 6 × 7</caption>\n",
       "<thead>\n",
       "\t<tr><th scope=col>CDR3b</th><th scope=col>TRBV</th><th scope=col>TRBJ</th><th scope=col>subject:condition</th><th scope=col>count.x</th><th scope=col>subject</th><th scope=col>count.y</th></tr>\n",
       "\t<tr><th scope=col>&lt;chr&gt;</th><th scope=col>&lt;chr&gt;</th><th scope=col>&lt;chr&gt;</th><th scope=col>&lt;chr&gt;</th><th scope=col>&lt;int&gt;</th><th scope=col>&lt;chr&gt;</th><th scope=col>&lt;int&gt;</th></tr>\n",
       "</thead>\n",
       "<tbody>\n",
       "\t<tr><td>AGVKITNSYEQYF   </td><td>TCRBV20-X </td><td>TCRBJ02-07</td><td>eHO134</td><td>1</td><td>eHO134</td><td>1</td></tr>\n",
       "\t<tr><td>AKNIQYF         </td><td>TCRBV27-01</td><td>TCRBJ02-04</td><td>eQD126</td><td>1</td><td>eQD126</td><td>1</td></tr>\n",
       "\t<tr><td>APYASKRAGYDNEQFF</td><td>TCRBV06-X </td><td>TCRBJ02-01</td><td>eHO141</td><td>1</td><td>eHO141</td><td>1</td></tr>\n",
       "\t<tr><td>ARLFSGANVLTF    </td><td>TCRBV07-02</td><td>TCRBJ02-06</td><td>eXL27 </td><td>1</td><td>eXL27 </td><td>1</td></tr>\n",
       "\t<tr><td>CAAAAPDTQYF     </td><td>TCRBV06-X </td><td>TCRBJ02-03</td><td>eOX46 </td><td>1</td><td>eOX46 </td><td>1</td></tr>\n",
       "\t<tr><td>CAAADRMTDTQYF   </td><td>TCRBV24-01</td><td>TCRBJ02-03</td><td>eHO130</td><td>1</td><td>eHO130</td><td>1</td></tr>\n",
       "</tbody>\n",
       "</table>\n"
      ],
      "text/latex": [
       "A data.table: 6 × 7\n",
       "\\begin{tabular}{lllllll}\n",
       " CDR3b & TRBV & TRBJ & subject:condition & count.x & subject & count.y\\\\\n",
       " <chr> & <chr> & <chr> & <chr> & <int> & <chr> & <int>\\\\\n",
       "\\hline\n",
       "\t AGVKITNSYEQYF    & TCRBV20-X  & TCRBJ02-07 & eHO134 & 1 & eHO134 & 1\\\\\n",
       "\t AKNIQYF          & TCRBV27-01 & TCRBJ02-04 & eQD126 & 1 & eQD126 & 1\\\\\n",
       "\t APYASKRAGYDNEQFF & TCRBV06-X  & TCRBJ02-01 & eHO141 & 1 & eHO141 & 1\\\\\n",
       "\t ARLFSGANVLTF     & TCRBV07-02 & TCRBJ02-06 & eXL27  & 1 & eXL27  & 1\\\\\n",
       "\t CAAAAPDTQYF      & TCRBV06-X  & TCRBJ02-03 & eOX46  & 1 & eOX46  & 1\\\\\n",
       "\t CAAADRMTDTQYF    & TCRBV24-01 & TCRBJ02-03 & eHO130 & 1 & eHO130 & 1\\\\\n",
       "\\end{tabular}\n"
      ],
      "text/markdown": [
       "\n",
       "A data.table: 6 × 7\n",
       "\n",
       "| CDR3b &lt;chr&gt; | TRBV &lt;chr&gt; | TRBJ &lt;chr&gt; | subject:condition &lt;chr&gt; | count.x &lt;int&gt; | subject &lt;chr&gt; | count.y &lt;int&gt; |\n",
       "|---|---|---|---|---|---|---|\n",
       "| AGVKITNSYEQYF    | TCRBV20-X  | TCRBJ02-07 | eHO134 | 1 | eHO134 | 1 |\n",
       "| AKNIQYF          | TCRBV27-01 | TCRBJ02-04 | eQD126 | 1 | eQD126 | 1 |\n",
       "| APYASKRAGYDNEQFF | TCRBV06-X  | TCRBJ02-01 | eHO141 | 1 | eHO141 | 1 |\n",
       "| ARLFSGANVLTF     | TCRBV07-02 | TCRBJ02-06 | eXL27  | 1 | eXL27  | 1 |\n",
       "| CAAAAPDTQYF      | TCRBV06-X  | TCRBJ02-03 | eOX46  | 1 | eOX46  | 1 |\n",
       "| CAAADRMTDTQYF    | TCRBV24-01 | TCRBJ02-03 | eHO130 | 1 | eHO130 | 1 |\n",
       "\n"
      ],
      "text/plain": [
       "  CDR3b            TRBV       TRBJ       subject:condition count.x subject\n",
       "1 AGVKITNSYEQYF    TCRBV20-X  TCRBJ02-07 eHO134            1       eHO134 \n",
       "2 AKNIQYF          TCRBV27-01 TCRBJ02-04 eQD126            1       eQD126 \n",
       "3 APYASKRAGYDNEQFF TCRBV06-X  TCRBJ02-01 eHO141            1       eHO141 \n",
       "4 ARLFSGANVLTF     TCRBV07-02 TCRBJ02-06 eXL27             1       eXL27  \n",
       "5 CAAAAPDTQYF      TCRBV06-X  TCRBJ02-03 eOX46             1       eOX46  \n",
       "6 CAAADRMTDTQYF    TCRBV24-01 TCRBJ02-03 eHO130            1       eHO130 \n",
       "  count.y\n",
       "1 1      \n",
       "2 1      \n",
       "3 1      \n",
       "4 1      \n",
       "5 1      \n",
       "6 1      "
      ]
     },
     "metadata": {},
     "output_type": "display_data"
    }
   ],
   "source": [
    "head(covidfle_uniq_ab_dedup)"
   ]
  },
  {
   "cell_type": "code",
   "execution_count": 40,
   "metadata": {},
   "outputs": [
    {
     "data": {
      "text/html": [
       "<style>\n",
       ".list-inline {list-style: none; margin:0; padding: 0}\n",
       ".list-inline>li {display: inline-block}\n",
       ".list-inline>li:not(:last-child)::after {content: \"\\00b7\"; padding: 0 .5ex}\n",
       "</style>\n",
       "<ol class=list-inline><li>148678</li><li>7</li></ol>\n"
      ],
      "text/latex": [
       "\\begin{enumerate*}\n",
       "\\item 148678\n",
       "\\item 7\n",
       "\\end{enumerate*}\n"
      ],
      "text/markdown": [
       "1. 148678\n",
       "2. 7\n",
       "\n",
       "\n"
      ],
      "text/plain": [
       "[1] 148678      7"
      ]
     },
     "metadata": {},
     "output_type": "display_data"
    }
   ],
   "source": [
    "dim(covidfle_uniq_ab_dedup)"
   ]
  },
  {
   "cell_type": "code",
   "execution_count": 38,
   "metadata": {},
   "outputs": [],
   "source": [
    "#replaqce TCRB with TRB\n",
    "covidfle_uniq_ab_dedup$TRBV <- gsub(\"TCRB\", \"TRB\", covidfle_uniq_ab_dedup$TRBV)\n",
    "covidfle_uniq_ab_dedup$TRBJ <- gsub(\"TCRB\", \"TRB\", covidfle_uniq_ab_dedup$TRBJ)"
   ]
  },
  {
   "cell_type": "code",
   "execution_count": 41,
   "metadata": {},
   "outputs": [
    {
     "data": {
      "text/html": [
       "<table class=\"dataframe\">\n",
       "<caption>A data.table: 6 × 7</caption>\n",
       "<thead>\n",
       "\t<tr><th scope=col>CDR3b</th><th scope=col>TRBV</th><th scope=col>TRBJ</th><th scope=col>subject:condition</th><th scope=col>count.x</th><th scope=col>subject</th><th scope=col>count.y</th></tr>\n",
       "\t<tr><th scope=col>&lt;chr&gt;</th><th scope=col>&lt;chr&gt;</th><th scope=col>&lt;chr&gt;</th><th scope=col>&lt;chr&gt;</th><th scope=col>&lt;int&gt;</th><th scope=col>&lt;chr&gt;</th><th scope=col>&lt;int&gt;</th></tr>\n",
       "</thead>\n",
       "<tbody>\n",
       "\t<tr><td>CASSIRSSYEQYF  </td><td>TRBV19-01      </td><td>TRBJ02-07</td><td>eOX46 </td><td>1</td><td>eOX46, ePD84, eHO128, eHO132, eHO125, ePD83, eHO136, eLH41, eHO124, ePD86, eLH42, eHO130, ePD76, eQD137, eQD123, eMR20, eEE243, eHH173, eHH174, eQD124, eHH169, eEE228, eXL27, eQD115, eXL36, eMR12, eLH47, eDH113, eEE226, eXL37, eDH96, eXL30</td><td>32</td></tr>\n",
       "\t<tr><td>CASSQTGGRNQPQHF</td><td>TRBV12-X       </td><td>TRBJ01-05</td><td>eLH41 </td><td>1</td><td>eLH41, eJL164, eXL31, eHO132, ePD86, eAV88, ePD84, eEE243, eXL37, eQD118, eEE224, eXL27, eMR12, eOX56, eLH47, eMR18, eLH46, eQD136, eOX43, eOX54, ePD76                                                                                        </td><td>21</td></tr>\n",
       "\t<tr><td>CASSLAGAYEQYF  </td><td>TRBV05-01      </td><td>TRBJ02-07</td><td>eJL143</td><td>1</td><td>eJL143, ePD79, eHH175, eLH45, eHO126, eXL31, eLH49, eLH42, eJL157, eHO135, eLH54, eMR14, eLH47, eAV91, eQD109, eQD111, eMR23, eQD123, eMR15                                                                                                    </td><td>19</td></tr>\n",
       "\t<tr><td>CASSFSYEQYF    </td><td>TRBV12-03/12-04</td><td>TRBJ02-07</td><td>eEE243</td><td>1</td><td>eEE243, eHH175, eXL30, eHO130, eJL149, eAV88, eXL27, eOX54, eEE224, eEE228, eOX49, eEE226, eOX52, eEE240, eOX46, eOX43, eXL31                                                                                                                  </td><td>17</td></tr>\n",
       "\t<tr><td>CASSLSAPQETQYF </td><td>TRBV27-01      </td><td>TRBJ02-05</td><td>eMR17 </td><td>1</td><td>eMR17, eJL161, eHO134, eQD124, eMR13, eQD111, eQD121, eHO140, eMR12, eQD125, eLH47, eEE226, eQD126, eQD114, eQD110, eQD120                                                                                                                     </td><td>16</td></tr>\n",
       "\t<tr><td>CASSVGETQYF    </td><td>TRBV09-01      </td><td>TRBJ02-05</td><td>eOX56 </td><td>1</td><td>eOX56, eEE224, eEE226, eEE228, eOX49, eOX54, eOX52, eXL27, eXL30, eOX43, eOX46, eXL32, eEE240, eAV88, eQD128, eHH175                                                                                                                           </td><td>16</td></tr>\n",
       "</tbody>\n",
       "</table>\n"
      ],
      "text/latex": [
       "A data.table: 6 × 7\n",
       "\\begin{tabular}{lllllll}\n",
       " CDR3b & TRBV & TRBJ & subject:condition & count.x & subject & count.y\\\\\n",
       " <chr> & <chr> & <chr> & <chr> & <int> & <chr> & <int>\\\\\n",
       "\\hline\n",
       "\t CASSIRSSYEQYF   & TRBV19-01       & TRBJ02-07 & eOX46  & 1 & eOX46, ePD84, eHO128, eHO132, eHO125, ePD83, eHO136, eLH41, eHO124, ePD86, eLH42, eHO130, ePD76, eQD137, eQD123, eMR20, eEE243, eHH173, eHH174, eQD124, eHH169, eEE228, eXL27, eQD115, eXL36, eMR12, eLH47, eDH113, eEE226, eXL37, eDH96, eXL30 & 32\\\\\n",
       "\t CASSQTGGRNQPQHF & TRBV12-X        & TRBJ01-05 & eLH41  & 1 & eLH41, eJL164, eXL31, eHO132, ePD86, eAV88, ePD84, eEE243, eXL37, eQD118, eEE224, eXL27, eMR12, eOX56, eLH47, eMR18, eLH46, eQD136, eOX43, eOX54, ePD76                                                                                         & 21\\\\\n",
       "\t CASSLAGAYEQYF   & TRBV05-01       & TRBJ02-07 & eJL143 & 1 & eJL143, ePD79, eHH175, eLH45, eHO126, eXL31, eLH49, eLH42, eJL157, eHO135, eLH54, eMR14, eLH47, eAV91, eQD109, eQD111, eMR23, eQD123, eMR15                                                                                                     & 19\\\\\n",
       "\t CASSFSYEQYF     & TRBV12-03/12-04 & TRBJ02-07 & eEE243 & 1 & eEE243, eHH175, eXL30, eHO130, eJL149, eAV88, eXL27, eOX54, eEE224, eEE228, eOX49, eEE226, eOX52, eEE240, eOX46, eOX43, eXL31                                                                                                                   & 17\\\\\n",
       "\t CASSLSAPQETQYF  & TRBV27-01       & TRBJ02-05 & eMR17  & 1 & eMR17, eJL161, eHO134, eQD124, eMR13, eQD111, eQD121, eHO140, eMR12, eQD125, eLH47, eEE226, eQD126, eQD114, eQD110, eQD120                                                                                                                      & 16\\\\\n",
       "\t CASSVGETQYF     & TRBV09-01       & TRBJ02-05 & eOX56  & 1 & eOX56, eEE224, eEE226, eEE228, eOX49, eOX54, eOX52, eXL27, eXL30, eOX43, eOX46, eXL32, eEE240, eAV88, eQD128, eHH175                                                                                                                            & 16\\\\\n",
       "\\end{tabular}\n"
      ],
      "text/markdown": [
       "\n",
       "A data.table: 6 × 7\n",
       "\n",
       "| CDR3b &lt;chr&gt; | TRBV &lt;chr&gt; | TRBJ &lt;chr&gt; | subject:condition &lt;chr&gt; | count.x &lt;int&gt; | subject &lt;chr&gt; | count.y &lt;int&gt; |\n",
       "|---|---|---|---|---|---|---|\n",
       "| CASSIRSSYEQYF   | TRBV19-01       | TRBJ02-07 | eOX46  | 1 | eOX46, ePD84, eHO128, eHO132, eHO125, ePD83, eHO136, eLH41, eHO124, ePD86, eLH42, eHO130, ePD76, eQD137, eQD123, eMR20, eEE243, eHH173, eHH174, eQD124, eHH169, eEE228, eXL27, eQD115, eXL36, eMR12, eLH47, eDH113, eEE226, eXL37, eDH96, eXL30 | 32 |\n",
       "| CASSQTGGRNQPQHF | TRBV12-X        | TRBJ01-05 | eLH41  | 1 | eLH41, eJL164, eXL31, eHO132, ePD86, eAV88, ePD84, eEE243, eXL37, eQD118, eEE224, eXL27, eMR12, eOX56, eLH47, eMR18, eLH46, eQD136, eOX43, eOX54, ePD76                                                                                         | 21 |\n",
       "| CASSLAGAYEQYF   | TRBV05-01       | TRBJ02-07 | eJL143 | 1 | eJL143, ePD79, eHH175, eLH45, eHO126, eXL31, eLH49, eLH42, eJL157, eHO135, eLH54, eMR14, eLH47, eAV91, eQD109, eQD111, eMR23, eQD123, eMR15                                                                                                     | 19 |\n",
       "| CASSFSYEQYF     | TRBV12-03/12-04 | TRBJ02-07 | eEE243 | 1 | eEE243, eHH175, eXL30, eHO130, eJL149, eAV88, eXL27, eOX54, eEE224, eEE228, eOX49, eEE226, eOX52, eEE240, eOX46, eOX43, eXL31                                                                                                                   | 17 |\n",
       "| CASSLSAPQETQYF  | TRBV27-01       | TRBJ02-05 | eMR17  | 1 | eMR17, eJL161, eHO134, eQD124, eMR13, eQD111, eQD121, eHO140, eMR12, eQD125, eLH47, eEE226, eQD126, eQD114, eQD110, eQD120                                                                                                                      | 16 |\n",
       "| CASSVGETQYF     | TRBV09-01       | TRBJ02-05 | eOX56  | 1 | eOX56, eEE224, eEE226, eEE228, eOX49, eOX54, eOX52, eXL27, eXL30, eOX43, eOX46, eXL32, eEE240, eAV88, eQD128, eHH175                                                                                                                            | 16 |\n",
       "\n"
      ],
      "text/plain": [
       "  CDR3b           TRBV            TRBJ      subject:condition count.x\n",
       "1 CASSIRSSYEQYF   TRBV19-01       TRBJ02-07 eOX46             1      \n",
       "2 CASSQTGGRNQPQHF TRBV12-X        TRBJ01-05 eLH41             1      \n",
       "3 CASSLAGAYEQYF   TRBV05-01       TRBJ02-07 eJL143            1      \n",
       "4 CASSFSYEQYF     TRBV12-03/12-04 TRBJ02-07 eEE243            1      \n",
       "5 CASSLSAPQETQYF  TRBV27-01       TRBJ02-05 eMR17             1      \n",
       "6 CASSVGETQYF     TRBV09-01       TRBJ02-05 eOX56             1      \n",
       "  subject                                                                                                                                                                                                                                        \n",
       "1 eOX46, ePD84, eHO128, eHO132, eHO125, ePD83, eHO136, eLH41, eHO124, ePD86, eLH42, eHO130, ePD76, eQD137, eQD123, eMR20, eEE243, eHH173, eHH174, eQD124, eHH169, eEE228, eXL27, eQD115, eXL36, eMR12, eLH47, eDH113, eEE226, eXL37, eDH96, eXL30\n",
       "2 eLH41, eJL164, eXL31, eHO132, ePD86, eAV88, ePD84, eEE243, eXL37, eQD118, eEE224, eXL27, eMR12, eOX56, eLH47, eMR18, eLH46, eQD136, eOX43, eOX54, ePD76                                                                                        \n",
       "3 eJL143, ePD79, eHH175, eLH45, eHO126, eXL31, eLH49, eLH42, eJL157, eHO135, eLH54, eMR14, eLH47, eAV91, eQD109, eQD111, eMR23, eQD123, eMR15                                                                                                    \n",
       "4 eEE243, eHH175, eXL30, eHO130, eJL149, eAV88, eXL27, eOX54, eEE224, eEE228, eOX49, eEE226, eOX52, eEE240, eOX46, eOX43, eXL31                                                                                                                  \n",
       "5 eMR17, eJL161, eHO134, eQD124, eMR13, eQD111, eQD121, eHO140, eMR12, eQD125, eLH47, eEE226, eQD126, eQD114, eQD110, eQD120                                                                                                                     \n",
       "6 eOX56, eEE224, eEE226, eEE228, eOX49, eOX54, eOX52, eXL27, eXL30, eOX43, eOX46, eXL32, eEE240, eAV88, eQD128, eHH175                                                                                                                           \n",
       "  count.y\n",
       "1 32     \n",
       "2 21     \n",
       "3 19     \n",
       "4 17     \n",
       "5 16     \n",
       "6 16     "
      ]
     },
     "metadata": {},
     "output_type": "display_data"
    }
   ],
   "source": [
    "head(covidfle_uniq_ab_dedup[order(covidfle_uniq_ab_dedup$count.y, decreasing = T),])"
   ]
  },
  {
   "cell_type": "code",
   "execution_count": 42,
   "metadata": {},
   "outputs": [],
   "source": [
    "covidfle_uniq_ab_dedup$file <- \"COVID_specific_TCRB.tsv\""
   ]
  },
  {
   "cell_type": "code",
   "execution_count": 45,
   "metadata": {},
   "outputs": [],
   "source": [
    "covidfle_uniq_ab_dedup$clonefraction <- 1"
   ]
  },
  {
   "cell_type": "code",
   "execution_count": 46,
   "metadata": {},
   "outputs": [
    {
     "data": {
      "text/html": [
       "<style>\n",
       ".list-inline {list-style: none; margin:0; padding: 0}\n",
       ".list-inline>li {display: inline-block}\n",
       ".list-inline>li:not(:last-child)::after {content: \"\\00b7\"; padding: 0 .5ex}\n",
       "</style>\n",
       "<ol class=list-inline><li>'CDR3b'</li><li>'TRBV'</li><li>'TRBJ'</li><li>'subject:condition'</li><li>'count.x'</li><li>'subject'</li><li>'count.y'</li><li>'file'</li><li>'clonefraction'</li></ol>\n"
      ],
      "text/latex": [
       "\\begin{enumerate*}\n",
       "\\item 'CDR3b'\n",
       "\\item 'TRBV'\n",
       "\\item 'TRBJ'\n",
       "\\item 'subject:condition'\n",
       "\\item 'count.x'\n",
       "\\item 'subject'\n",
       "\\item 'count.y'\n",
       "\\item 'file'\n",
       "\\item 'clonefraction'\n",
       "\\end{enumerate*}\n"
      ],
      "text/markdown": [
       "1. 'CDR3b'\n",
       "2. 'TRBV'\n",
       "3. 'TRBJ'\n",
       "4. 'subject:condition'\n",
       "5. 'count.x'\n",
       "6. 'subject'\n",
       "7. 'count.y'\n",
       "8. 'file'\n",
       "9. 'clonefraction'\n",
       "\n",
       "\n"
      ],
      "text/plain": [
       "[1] \"CDR3b\"             \"TRBV\"              \"TRBJ\"             \n",
       "[4] \"subject:condition\" \"count.x\"           \"subject\"          \n",
       "[7] \"count.y\"           \"file\"              \"clonefraction\"    "
      ]
     },
     "metadata": {},
     "output_type": "display_data"
    }
   ],
   "source": [
    "colnames(covidfle_uniq_ab_dedup)"
   ]
  },
  {
   "cell_type": "code",
   "execution_count": 47,
   "metadata": {},
   "outputs": [],
   "source": [
    "covidfle_uniq_ab_dedup_subset <- covidfle_uniq_ab_dedup[,c(\"CDR3b\", \"TRBV\", \"TRBJ\", \"subject:condition\",\n",
    "                                                          \"count.y\", \"clonefraction\", \"subject\",\"file\")]"
   ]
  },
  {
   "cell_type": "code",
   "execution_count": 49,
   "metadata": {},
   "outputs": [],
   "source": [
    "colnames(covidfle_uniq_ab_dedup_subset)[ colnames(covidfle_uniq_ab_dedup_subset) == \"count.y\"] <- \"count\""
   ]
  },
  {
   "cell_type": "code",
   "execution_count": 73,
   "metadata": {},
   "outputs": [],
   "source": [
    "covidfle_uniq_ab_dedup_subset$index <- 1:nrow(covidfle_uniq_ab_dedup_subset)"
   ]
  },
  {
   "cell_type": "code",
   "execution_count": 74,
   "metadata": {},
   "outputs": [],
   "source": [
    "save(covidfle_uniq_ab_dedup_subset, file = paste0(datapath, \"capTCRseq/covidfle_uniq_ab_dedup_subset.RData\"))"
   ]
  },
  {
   "cell_type": "code",
   "execution_count": 65,
   "metadata": {},
   "outputs": [],
   "source": [
    "#write.table(covidfle_uniq_ab_dedup_subset, file = '/Users/anabbi/Desktop/H4H/projects/COVID-19/tcr-cap/Adaptive/MIRA/ImmuneCODE-MIRA-Release002.1/COVID_specific_TCRB_clean.tsv',\n",
    "#            sep = \"\\t\", quote = F, row.names = F)"
   ]
  }
 ],
 "metadata": {
  "kernelspec": {
   "display_name": "R 4.0",
   "language": "R",
   "name": "ir40"
  },
  "language_info": {
   "codemirror_mode": "r",
   "file_extension": ".r",
   "mimetype": "text/x-r-source",
   "name": "R",
   "pygments_lexer": "r",
   "version": "4.0.3"
  },
  "toc": {
   "base_numbering": 1,
   "nav_menu": {},
   "number_sections": false,
   "sideBar": true,
   "skip_h1_title": false,
   "title_cell": "Table of Contents",
   "title_sidebar": "Contents",
   "toc_cell": true,
   "toc_position": {
    "height": "calc(100% - 180px)",
    "left": "10px",
    "top": "150px",
    "width": "186.15px"
   },
   "toc_section_display": true,
   "toc_window_display": true
  }
 },
 "nbformat": 4,
 "nbformat_minor": 2
}
