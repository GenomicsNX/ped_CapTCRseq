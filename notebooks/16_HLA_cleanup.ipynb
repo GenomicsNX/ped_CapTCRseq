{
 "cells": [
  {
   "attachments": {},
   "cell_type": "markdown",
   "metadata": {},
   "source": [
    "# Dependencies"
   ]
  },
  {
   "attachments": {},
   "cell_type": "markdown",
   "metadata": {},
   "source": [
    "# Functions"
   ]
  },
  {
   "cell_type": "code",
   "execution_count": 34,
   "metadata": {
    "vscode": {
     "languageId": "r"
    }
   },
   "outputs": [],
   "source": [
    "hla.fx <- function(datapath, hladf, locus) {\n",
    "    df <- hla[hla$Locus == locus, ] # subset to locus\n",
    "    allalleles <- unique(c(df$Allele.1, df$Allele.2)) # get all alleles\n",
    "# create matrix with sample IDs as row names and alleles as column names\n",
    "    mymat <- matrix(0,\n",
    "        nrow = nrow(df), ncol = length(allalleles),\n",
    "        dimnames = list(df$Sample.ID, allalleles)\n",
    "    )\n",
    "# fill matrix for each sample and allele combination \n",
    "    for (i in 1:nrow(mymat)) {\n",
    "        for (j in 1:ncol(mymat)) {\n",
    "            if (df$Allele.1[i] == colnames(mymat)[j]) {\n",
    "                mymat[i, j] <- 1\n",
    "            }\n",
    "            if (df$Allele.2[i] == colnames(mymat)[j]) {\n",
    "                mymat[i, j] <- mymat[i, j] + 1 # if homozygous, counts to two\n",
    "            }\n",
    "        }\n",
    "    }\n",
    "    write.table(mymat, file = paste0(datapath, \"INT_HLA_\", locus, \".txt\"), quote = F, sep = \"\\t\")\n",
    "}"
   ]
  },
  {
   "cell_type": "code",
   "execution_count": 35,
   "metadata": {
    "vscode": {
     "languageId": "r"
    }
   },
   "outputs": [],
   "source": [
    "source(\"/Users/anabbi/git/ped_CapTCRseq/R/ggplot2_theme.R\")\n",
    "source(\"/Users/anabbi/git/ped_CapTCRseq/R/color_schemes.R\")\n",
    "source(\"/Users/anabbi/git/ped_CapTCRseq/R/Misc_functions.R\")"
   ]
  },
  {
   "attachments": {},
   "cell_type": "markdown",
   "metadata": {},
   "source": [
    "# Paths"
   ]
  },
  {
   "cell_type": "code",
   "execution_count": 36,
   "metadata": {
    "vscode": {
     "languageId": "r"
    }
   },
   "outputs": [],
   "source": [
    "datapath <- \"/Users/anabbi/OneDrive - UHN/Documents/INTERCEPT/Data/\"\n",
    "plotpath <- \"/Users/anabbi/OneDrive - UHN/Documents/INTERCEPT/Plots/\"\n",
    "manifestpath <- \"/Users/anabbi/OneDrive - UHN/Documents/INTERCEPT/Manifests/\"\n",
    "gitpath <- \"/Users/anabbi/git/ped_CapTCRseq/\"\n",
    "h4hpath <- \"/Users/anabbi/Desktop/H4H/INTERCEPT/\""
   ]
  },
  {
   "attachments": {},
   "cell_type": "markdown",
   "metadata": {},
   "source": [
    "# Main"
   ]
  },
  {
   "cell_type": "markdown",
   "metadata": {},
   "source": [
    "# INT"
   ]
  },
  {
   "cell_type": "code",
   "execution_count": 37,
   "metadata": {
    "vscode": {
     "languageId": "r"
    }
   },
   "outputs": [],
   "source": [
    "hla <- xlsx::read.xlsx(file = paste0(datapath, \"/HLA/UHN-20230127-B257-HLA.xlsx\"), sheetIndex = 1)"
   ]
  },
  {
   "cell_type": "code",
   "execution_count": 38,
   "metadata": {
    "vscode": {
     "languageId": "r"
    }
   },
   "outputs": [
    {
     "data": {
      "text/html": [
       "<table class=\"dataframe\">\n",
       "<caption>A data.frame: 10 x 8</caption>\n",
       "<thead>\n",
       "\t<tr><th></th><th scope=col>Sample.ID</th><th scope=col>Locus</th><th scope=col>Allele.1</th><th scope=col>Allele.2</th><th scope=col>Comments</th><th scope=col>Diploid.Ambiguities</th><th scope=col>Allele.1.Ambiguities</th><th scope=col>Allele.2.Ambiguities</th></tr>\n",
       "\t<tr><th></th><th scope=col>&lt;chr&gt;</th><th scope=col>&lt;chr&gt;</th><th scope=col>&lt;chr&gt;</th><th scope=col>&lt;chr&gt;</th><th scope=col>&lt;chr&gt;</th><th scope=col>&lt;chr&gt;</th><th scope=col>&lt;chr&gt;</th><th scope=col>&lt;chr&gt;</th></tr>\n",
       "</thead>\n",
       "<tbody>\n",
       "\t<tr><th scope=row>1</th><td>315-05</td><td>A     </td><td>A*02:01:01   </td><td>A*02:05:01   </td><td></td><td></td><td></td><td></td></tr>\n",
       "\t<tr><th scope=row>2</th><td>315-05</td><td>B     </td><td>B*35:01:01   </td><td>B*49:01:01   </td><td></td><td></td><td></td><td></td></tr>\n",
       "\t<tr><th scope=row>3</th><td>315-05</td><td>C     </td><td>C*04:01:01   </td><td>C*07:01:01   </td><td></td><td></td><td></td><td></td></tr>\n",
       "\t<tr><th scope=row>4</th><td>315-05</td><td>DPA1  </td><td>DPA1*01:03:01</td><td>DPA1*02:02:02</td><td></td><td></td><td></td><td></td></tr>\n",
       "\t<tr><th scope=row>5</th><td>315-05</td><td>DPB1  </td><td>DPB1*01:01:01</td><td>DPB1*04:02:01</td><td></td><td></td><td></td><td></td></tr>\n",
       "\t<tr><th scope=row>6</th><td>315-05</td><td>DQA1  </td><td>DQA1*01:02:01</td><td>DQA1*05:05:01</td><td></td><td></td><td></td><td></td></tr>\n",
       "\t<tr><th scope=row>7</th><td>315-05</td><td>DQB1  </td><td>DQB1*03:19:01</td><td>DQB1*06:04:01</td><td></td><td></td><td></td><td></td></tr>\n",
       "\t<tr><th scope=row>8</th><td>315-05</td><td>DRB1  </td><td>DRB1*13:02:01</td><td>DRB1*13:04   </td><td></td><td></td><td></td><td></td></tr>\n",
       "\t<tr><th scope=row>9</th><td>315-05</td><td>DRB345</td><td>DRB3*02:02:01</td><td>DRB3*03:01:01</td><td></td><td></td><td></td><td></td></tr>\n",
       "\t<tr><th scope=row>10</th><td>319-05</td><td>A     </td><td>A*01:01:01   </td><td>A*03:01:01   </td><td></td><td></td><td></td><td></td></tr>\n",
       "</tbody>\n",
       "</table>\n"
      ],
      "text/latex": [
       "A data.frame: 10 x 8\n",
       "\\begin{tabular}{r|llllllll}\n",
       "  & Sample.ID & Locus & Allele.1 & Allele.2 & Comments & Diploid.Ambiguities & Allele.1.Ambiguities & Allele.2.Ambiguities\\\\\n",
       "  & <chr> & <chr> & <chr> & <chr> & <chr> & <chr> & <chr> & <chr>\\\\\n",
       "\\hline\n",
       "\t1 & 315-05 & A      & A*02:01:01    & A*02:05:01    &  &  &  & \\\\\n",
       "\t2 & 315-05 & B      & B*35:01:01    & B*49:01:01    &  &  &  & \\\\\n",
       "\t3 & 315-05 & C      & C*04:01:01    & C*07:01:01    &  &  &  & \\\\\n",
       "\t4 & 315-05 & DPA1   & DPA1*01:03:01 & DPA1*02:02:02 &  &  &  & \\\\\n",
       "\t5 & 315-05 & DPB1   & DPB1*01:01:01 & DPB1*04:02:01 &  &  &  & \\\\\n",
       "\t6 & 315-05 & DQA1   & DQA1*01:02:01 & DQA1*05:05:01 &  &  &  & \\\\\n",
       "\t7 & 315-05 & DQB1   & DQB1*03:19:01 & DQB1*06:04:01 &  &  &  & \\\\\n",
       "\t8 & 315-05 & DRB1   & DRB1*13:02:01 & DRB1*13:04    &  &  &  & \\\\\n",
       "\t9 & 315-05 & DRB345 & DRB3*02:02:01 & DRB3*03:01:01 &  &  &  & \\\\\n",
       "\t10 & 319-05 & A      & A*01:01:01    & A*03:01:01    &  &  &  & \\\\\n",
       "\\end{tabular}\n"
      ],
      "text/markdown": [
       "\n",
       "A data.frame: 10 x 8\n",
       "\n",
       "| <!--/--> | Sample.ID &lt;chr&gt; | Locus &lt;chr&gt; | Allele.1 &lt;chr&gt; | Allele.2 &lt;chr&gt; | Comments &lt;chr&gt; | Diploid.Ambiguities &lt;chr&gt; | Allele.1.Ambiguities &lt;chr&gt; | Allele.2.Ambiguities &lt;chr&gt; |\n",
       "|---|---|---|---|---|---|---|---|---|\n",
       "| 1 | 315-05 | A      | A*02:01:01    | A*02:05:01    | <!----> | <!----> | <!----> | <!----> |\n",
       "| 2 | 315-05 | B      | B*35:01:01    | B*49:01:01    | <!----> | <!----> | <!----> | <!----> |\n",
       "| 3 | 315-05 | C      | C*04:01:01    | C*07:01:01    | <!----> | <!----> | <!----> | <!----> |\n",
       "| 4 | 315-05 | DPA1   | DPA1*01:03:01 | DPA1*02:02:02 | <!----> | <!----> | <!----> | <!----> |\n",
       "| 5 | 315-05 | DPB1   | DPB1*01:01:01 | DPB1*04:02:01 | <!----> | <!----> | <!----> | <!----> |\n",
       "| 6 | 315-05 | DQA1   | DQA1*01:02:01 | DQA1*05:05:01 | <!----> | <!----> | <!----> | <!----> |\n",
       "| 7 | 315-05 | DQB1   | DQB1*03:19:01 | DQB1*06:04:01 | <!----> | <!----> | <!----> | <!----> |\n",
       "| 8 | 315-05 | DRB1   | DRB1*13:02:01 | DRB1*13:04    | <!----> | <!----> | <!----> | <!----> |\n",
       "| 9 | 315-05 | DRB345 | DRB3*02:02:01 | DRB3*03:01:01 | <!----> | <!----> | <!----> | <!----> |\n",
       "| 10 | 319-05 | A      | A*01:01:01    | A*03:01:01    | <!----> | <!----> | <!----> | <!----> |\n",
       "\n"
      ],
      "text/plain": [
       "   Sample.ID Locus  Allele.1      Allele.2      Comments Diploid.Ambiguities\n",
       "1  315-05    A      A*02:01:01    A*02:05:01                                \n",
       "2  315-05    B      B*35:01:01    B*49:01:01                                \n",
       "3  315-05    C      C*04:01:01    C*07:01:01                                \n",
       "4  315-05    DPA1   DPA1*01:03:01 DPA1*02:02:02                             \n",
       "5  315-05    DPB1   DPB1*01:01:01 DPB1*04:02:01                             \n",
       "6  315-05    DQA1   DQA1*01:02:01 DQA1*05:05:01                             \n",
       "7  315-05    DQB1   DQB1*03:19:01 DQB1*06:04:01                             \n",
       "8  315-05    DRB1   DRB1*13:02:01 DRB1*13:04                                \n",
       "9  315-05    DRB345 DRB3*02:02:01 DRB3*03:01:01                             \n",
       "10 319-05    A      A*01:01:01    A*03:01:01                                \n",
       "   Allele.1.Ambiguities Allele.2.Ambiguities\n",
       "1                                           \n",
       "2                                           \n",
       "3                                           \n",
       "4                                           \n",
       "5                                           \n",
       "6                                           \n",
       "7                                           \n",
       "8                                           \n",
       "9                                           \n",
       "10                                          "
      ]
     },
     "metadata": {},
     "output_type": "display_data"
    }
   ],
   "source": [
    "head(hla,10)"
   ]
  },
  {
   "cell_type": "code",
   "execution_count": 5,
   "metadata": {
    "vscode": {
     "languageId": "r"
    }
   },
   "outputs": [
    {
     "data": {
      "text/html": [
       "<style>\n",
       ".list-inline {list-style: none; margin:0; padding: 0}\n",
       ".list-inline>li {display: inline-block}\n",
       ".list-inline>li:not(:last-child)::after {content: \"\\00b7\"; padding: 0 .5ex}\n",
       "</style>\n",
       "<ol class=list-inline><li>'A'</li><li>'B'</li><li>'C'</li><li>'DPA1'</li><li>'DPB1'</li><li>'DQA1'</li><li>'DQB1'</li><li>'DRB1'</li><li>'DRB345'</li></ol>\n"
      ],
      "text/latex": [
       "\\begin{enumerate*}\n",
       "\\item 'A'\n",
       "\\item 'B'\n",
       "\\item 'C'\n",
       "\\item 'DPA1'\n",
       "\\item 'DPB1'\n",
       "\\item 'DQA1'\n",
       "\\item 'DQB1'\n",
       "\\item 'DRB1'\n",
       "\\item 'DRB345'\n",
       "\\end{enumerate*}\n"
      ],
      "text/markdown": [
       "1. 'A'\n",
       "2. 'B'\n",
       "3. 'C'\n",
       "4. 'DPA1'\n",
       "5. 'DPB1'\n",
       "6. 'DQA1'\n",
       "7. 'DQB1'\n",
       "8. 'DRB1'\n",
       "9. 'DRB345'\n",
       "\n",
       "\n"
      ],
      "text/plain": [
       "[1] \"A\"      \"B\"      \"C\"      \"DPA1\"   \"DPB1\"   \"DQA1\"   \"DQB1\"   \"DRB1\"  \n",
       "[9] \"DRB345\""
      ]
     },
     "metadata": {},
     "output_type": "display_data"
    }
   ],
   "source": [
    "names(table(hla$Locus))"
   ]
  },
  {
   "cell_type": "code",
   "execution_count": 6,
   "metadata": {
    "vscode": {
     "languageId": "r"
    }
   },
   "outputs": [],
   "source": [
    "for(i in names(table(hla$Locus))){\n",
    "    hla.fx(paste0(datapath,\"HLA/\"), hla, i)\n",
    "}"
   ]
  },
  {
   "cell_type": "markdown",
   "metadata": {
    "vscode": {
     "languageId": "r"
    }
   },
   "source": [
    "# Mitchel data"
   ]
  },
  {
   "cell_type": "code",
   "execution_count": 3,
   "metadata": {
    "vscode": {
     "languageId": "r"
    }
   },
   "outputs": [],
   "source": [
    "mitchell <- read.table(\n",
    "    file = paste0(h4hpath, \"Adaptive/Mitchell_Michels2022/SampleOverview_11-23-2022_7-25-05_PM.tsv\"),\n",
    "    sep = \"\\t\", header = T\n",
    ")\n"
   ]
  },
  {
   "cell_type": "code",
   "execution_count": 24,
   "metadata": {
    "vscode": {
     "languageId": "r"
    }
   },
   "outputs": [],
   "source": [
    "mitchell_1 <- mitchell[ !grepl(\"Denver\",mitchell$sample_name), ]\n",
    "mitchell_Denver <- mitchell[ grepl(\"Denver\",mitchell$sample_name), ]"
   ]
  },
  {
   "cell_type": "code",
   "execution_count": 25,
   "metadata": {
    "vscode": {
     "languageId": "r"
    }
   },
   "outputs": [],
   "source": [
    "rownames(mitchell_Denver) <- 1:nrow(mitchell_Denver)"
   ]
  },
  {
   "cell_type": "code",
   "execution_count": 29,
   "metadata": {
    "vscode": {
     "languageId": "r"
    }
   },
   "outputs": [],
   "source": [
    "mitchellvars <- c(\"Years at visit\", \"Years at diagnosis\", \"Male|Female\",\n",
    "                \"Subject |Control \", \"Timepoint\", \"Subject\")"
   ]
  },
  {
   "cell_type": "code",
   "execution_count": 30,
   "metadata": {
    "vscode": {
     "languageId": "r"
    }
   },
   "outputs": [],
   "source": [
    "mitchell_1_tags <- sampletags_columns(mitchell_1, mitchellvars)\n",
    "# mitchell_Denver_tags <- sampletags_columns(mitchell_Denver, c(\"Years at diagnosis\",\n",
    "# \"Male|Female\", \"Type 1 Diabetes\"))"
   ]
  },
  {
   "cell_type": "code",
   "execution_count": 31,
   "metadata": {
    "vscode": {
     "languageId": "r"
    }
   },
   "outputs": [
    {
     "data": {
      "text/html": [
       "<table class=\"dataframe\">\n",
       "<caption>A data.frame: 6 x 7</caption>\n",
       "<thead>\n",
       "\t<tr><th></th><th scope=col>index</th><th scope=col>Years at visit</th><th scope=col>Years at diagnosis</th><th scope=col>Male|Female</th><th scope=col>Subject |Control </th><th scope=col>Timepoint</th><th scope=col>Subject</th></tr>\n",
       "\t<tr><th></th><th scope=col>&lt;chr&gt;</th><th scope=col>&lt;chr&gt;</th><th scope=col>&lt;chr&gt;</th><th scope=col>&lt;chr&gt;</th><th scope=col>&lt;chr&gt;</th><th scope=col>&lt;chr&gt;</th><th scope=col>&lt;chr&gt;</th></tr>\n",
       "</thead>\n",
       "<tbody>\n",
       "\t<tr><th scope=row>1</th><td>1</td><td>3 Years at visit </td><td>NA                                 </td><td>Female</td><td>Control 006</td><td>Timepoint 3</td><td>NA         </td></tr>\n",
       "\t<tr><th scope=row>2</th><td>2</td><td>3 Years at visit </td><td>12.958904109589 Years at diagnosis </td><td>Female</td><td>Subject 001</td><td>Timepoint 1</td><td>Subject 001</td></tr>\n",
       "\t<tr><th scope=row>3</th><td>3</td><td>10 Years at visit</td><td>14.4328767123288 Years at diagnosis</td><td>Male  </td><td>Subject 019</td><td>Timepoint 3</td><td>Subject 019</td></tr>\n",
       "\t<tr><th scope=row>4</th><td>4</td><td>0 Years at visit </td><td>18.0438356164384 Years at diagnosis</td><td>Female</td><td>Subject 021</td><td>Timepoint 1</td><td>Subject 021</td></tr>\n",
       "\t<tr><th scope=row>5</th><td>5</td><td>6 Years at visit </td><td>6.37808219178082 Years at diagnosis</td><td>Female</td><td>Subject 003</td><td>Timepoint 4</td><td>Subject 003</td></tr>\n",
       "\t<tr><th scope=row>6</th><td>6</td><td>12 Years at visit</td><td>NA                                 </td><td>Male  </td><td>Control 012</td><td>Timepoint 4</td><td>NA         </td></tr>\n",
       "</tbody>\n",
       "</table>\n"
      ],
      "text/latex": [
       "A data.frame: 6 x 7\n",
       "\\begin{tabular}{r|lllllll}\n",
       "  & index & Years at visit & Years at diagnosis & Male\\textbar{}Female & Subject \\textbar{}Control  & Timepoint & Subject\\\\\n",
       "  & <chr> & <chr> & <chr> & <chr> & <chr> & <chr> & <chr>\\\\\n",
       "\\hline\n",
       "\t1 & 1 & 3 Years at visit  & NA                                  & Female & Control 006 & Timepoint 3 & NA         \\\\\n",
       "\t2 & 2 & 3 Years at visit  & 12.958904109589 Years at diagnosis  & Female & Subject 001 & Timepoint 1 & Subject 001\\\\\n",
       "\t3 & 3 & 10 Years at visit & 14.4328767123288 Years at diagnosis & Male   & Subject 019 & Timepoint 3 & Subject 019\\\\\n",
       "\t4 & 4 & 0 Years at visit  & 18.0438356164384 Years at diagnosis & Female & Subject 021 & Timepoint 1 & Subject 021\\\\\n",
       "\t5 & 5 & 6 Years at visit  & 6.37808219178082 Years at diagnosis & Female & Subject 003 & Timepoint 4 & Subject 003\\\\\n",
       "\t6 & 6 & 12 Years at visit & NA                                  & Male   & Control 012 & Timepoint 4 & NA         \\\\\n",
       "\\end{tabular}\n"
      ],
      "text/markdown": [
       "\n",
       "A data.frame: 6 x 7\n",
       "\n",
       "| <!--/--> | index &lt;chr&gt; | Years at visit &lt;chr&gt; | Years at diagnosis &lt;chr&gt; | Male|Female &lt;chr&gt; | Subject |Control  &lt;chr&gt; | Timepoint &lt;chr&gt; | Subject &lt;chr&gt; |\n",
       "|---|---|---|---|---|---|---|---|\n",
       "| 1 | 1 | 3 Years at visit  | NA                                  | Female | Control 006 | Timepoint 3 | NA          |\n",
       "| 2 | 2 | 3 Years at visit  | 12.958904109589 Years at diagnosis  | Female | Subject 001 | Timepoint 1 | Subject 001 |\n",
       "| 3 | 3 | 10 Years at visit | 14.4328767123288 Years at diagnosis | Male   | Subject 019 | Timepoint 3 | Subject 019 |\n",
       "| 4 | 4 | 0 Years at visit  | 18.0438356164384 Years at diagnosis | Female | Subject 021 | Timepoint 1 | Subject 021 |\n",
       "| 5 | 5 | 6 Years at visit  | 6.37808219178082 Years at diagnosis | Female | Subject 003 | Timepoint 4 | Subject 003 |\n",
       "| 6 | 6 | 12 Years at visit | NA                                  | Male   | Control 012 | Timepoint 4 | NA          |\n",
       "\n"
      ],
      "text/plain": [
       "  index Years at visit    Years at diagnosis                  Male|Female\n",
       "1 1     3 Years at visit  NA                                  Female     \n",
       "2 2     3 Years at visit  12.958904109589 Years at diagnosis  Female     \n",
       "3 3     10 Years at visit 14.4328767123288 Years at diagnosis Male       \n",
       "4 4     0 Years at visit  18.0438356164384 Years at diagnosis Female     \n",
       "5 5     6 Years at visit  6.37808219178082 Years at diagnosis Female     \n",
       "6 6     12 Years at visit NA                                  Male       \n",
       "  Subject |Control  Timepoint   Subject    \n",
       "1 Control 006       Timepoint 3 NA         \n",
       "2 Subject 001       Timepoint 1 Subject 001\n",
       "3 Subject 019       Timepoint 3 Subject 019\n",
       "4 Subject 021       Timepoint 1 Subject 021\n",
       "5 Subject 003       Timepoint 4 Subject 003\n",
       "6 Control 012       Timepoint 4 NA         "
      ]
     },
     "metadata": {},
     "output_type": "display_data"
    }
   ],
   "source": [
    "head(mitchell_1_tags)"
   ]
  },
  {
   "cell_type": "code",
   "execution_count": 32,
   "metadata": {
    "vscode": {
     "languageId": "r"
    }
   },
   "outputs": [],
   "source": [
    "mitchell_1_tags$study <- \"Mitchell\"\n",
    "mitchell_1_tags$Agegroup <- mitchell_1_tags$`Years at visit`\n",
    "mitchell_1_tags$Sex <- mitchell_1_tags$`Male|Female`\n",
    "mitchell_1_tags$sample_name <- mitchell_1$sample_name[ match(mitchell_1_tags$index, rownames(mitchell_1)) ]\n",
    "mitchell_1_tags$disease[grepl(\"Control\",mitchell_1_tags$`Subject |Control`)] <- \"Ctrl\"\n",
    "mitchell_1_tags$disease[grepl(\"Subject\",mitchell_1_tags$`Subject |Control`)] <- \"T1D\"\n"
   ]
  },
  {
   "cell_type": "code",
   "execution_count": 40,
   "metadata": {
    "vscode": {
     "languageId": "r"
    }
   },
   "outputs": [],
   "source": [
    "splitsampletags <- strsplit(mitchell_1$sample_tags, split = \",\")"
   ]
  },
  {
   "cell_type": "code",
   "execution_count": 45,
   "metadata": {
    "vscode": {
     "languageId": "r"
    }
   },
   "outputs": [],
   "source": [
    "    mydf <- lapply(splitsampletags, function(sampletag) {\n",
    "        y <- unlist(sampletag)\n",
    "        y <- trimws(y) \n",
    "        # get HLA\n",
    "        hla <- y[grepl(\"HLA\", y)]\n",
    "        \n",
    "        } )"
   ]
  },
  {
   "cell_type": "code",
   "execution_count": 48,
   "metadata": {
    "vscode": {
     "languageId": "r"
    }
   },
   "outputs": [],
   "source": [
    "names(mydf) <- mitchell_1$sample_name"
   ]
  },
  {
   "cell_type": "code",
   "execution_count": 61,
   "metadata": {
    "vscode": {
     "languageId": "r"
    }
   },
   "outputs": [],
   "source": [
    "# for each element in the list, create a data frame with each HLA allele as one row and sample_name as column\n",
    "mydf1 <- lapply(mydf, function(x) {\n",
    "    df <- data.frame(matrix(unlist(x), nrow = length(x), ncol = 1))\n",
    "    colnames(df) <- \"HLA\"\n",
    "    df\n",
    "})\n",
    "# add sample_name as column for each element in the list\n",
    "mydf1 <- mapply(cbind, mydf1, sample_name = names(mydf1), SIMPLIFY = FALSE)\n"
   ]
  },
  {
   "cell_type": "code",
   "execution_count": 64,
   "metadata": {
    "vscode": {
     "languageId": "r"
    }
   },
   "outputs": [],
   "source": [
    "mitchel_hla <- do.call(rbind, mydf1)"
   ]
  },
  {
   "cell_type": "code",
   "execution_count": 66,
   "metadata": {
    "vscode": {
     "languageId": "r"
    }
   },
   "outputs": [],
   "source": [
    "rownames(mitchel_hla) <- 1:nrow(mitchel_hla)"
   ]
  },
  {
   "cell_type": "code",
   "execution_count": 67,
   "metadata": {
    "vscode": {
     "languageId": "r"
    }
   },
   "outputs": [
    {
     "data": {
      "text/html": [
       "<table class=\"dataframe\">\n",
       "<caption>A data.frame: 6 x 2</caption>\n",
       "<thead>\n",
       "\t<tr><th></th><th scope=col>HLA</th><th scope=col>sample_name</th></tr>\n",
       "\t<tr><th></th><th scope=col>&lt;chr&gt;</th><th scope=col>&lt;chr&gt;</th></tr>\n",
       "</thead>\n",
       "<tbody>\n",
       "\t<tr><th scope=row>1</th><td>HLA-A*0101   </td><td>310121_TCRB</td></tr>\n",
       "\t<tr><th scope=row>2</th><td>HLA-A*0301   </td><td>310121_TCRB</td></tr>\n",
       "\t<tr><th scope=row>3</th><td>HLA-B*1801   </td><td>310121_TCRB</td></tr>\n",
       "\t<tr><th scope=row>4</th><td>HLA-C*0701   </td><td>310121_TCRB</td></tr>\n",
       "\t<tr><th scope=row>5</th><td>HLA-DPA1*0103</td><td>310121_TCRB</td></tr>\n",
       "\t<tr><th scope=row>6</th><td>HLA-DPB1*0201</td><td>310121_TCRB</td></tr>\n",
       "</tbody>\n",
       "</table>\n"
      ],
      "text/latex": [
       "A data.frame: 6 x 2\n",
       "\\begin{tabular}{r|ll}\n",
       "  & HLA & sample\\_name\\\\\n",
       "  & <chr> & <chr>\\\\\n",
       "\\hline\n",
       "\t1 & HLA-A*0101    & 310121\\_TCRB\\\\\n",
       "\t2 & HLA-A*0301    & 310121\\_TCRB\\\\\n",
       "\t3 & HLA-B*1801    & 310121\\_TCRB\\\\\n",
       "\t4 & HLA-C*0701    & 310121\\_TCRB\\\\\n",
       "\t5 & HLA-DPA1*0103 & 310121\\_TCRB\\\\\n",
       "\t6 & HLA-DPB1*0201 & 310121\\_TCRB\\\\\n",
       "\\end{tabular}\n"
      ],
      "text/markdown": [
       "\n",
       "A data.frame: 6 x 2\n",
       "\n",
       "| <!--/--> | HLA &lt;chr&gt; | sample_name &lt;chr&gt; |\n",
       "|---|---|---|\n",
       "| 1 | HLA-A*0101    | 310121_TCRB |\n",
       "| 2 | HLA-A*0301    | 310121_TCRB |\n",
       "| 3 | HLA-B*1801    | 310121_TCRB |\n",
       "| 4 | HLA-C*0701    | 310121_TCRB |\n",
       "| 5 | HLA-DPA1*0103 | 310121_TCRB |\n",
       "| 6 | HLA-DPB1*0201 | 310121_TCRB |\n",
       "\n"
      ],
      "text/plain": [
       "  HLA           sample_name\n",
       "1 HLA-A*0101    310121_TCRB\n",
       "2 HLA-A*0301    310121_TCRB\n",
       "3 HLA-B*1801    310121_TCRB\n",
       "4 HLA-C*0701    310121_TCRB\n",
       "5 HLA-DPA1*0103 310121_TCRB\n",
       "6 HLA-DPB1*0201 310121_TCRB"
      ]
     },
     "metadata": {},
     "output_type": "display_data"
    }
   ],
   "source": [
    "head(mitchel_hla)"
   ]
  },
  {
   "cell_type": "code",
   "execution_count": 71,
   "metadata": {
    "vscode": {
     "languageId": "r"
    }
   },
   "outputs": [
    {
     "data": {
      "text/html": [
       "<style>\n",
       ".list-inline {list-style: none; margin:0; padding: 0}\n",
       ".list-inline>li {display: inline-block}\n",
       ".list-inline>li:not(:last-child)::after {content: \"\\00b7\"; padding: 0 .5ex}\n",
       "</style>\n",
       "<ol class=list-inline><li>'A'</li><li>'B'</li><li>'C'</li><li>'DPA1'</li><li>'DPB1'</li><li>'DQA1'</li><li>'DQB1'</li><li>'DRB1'</li><li>'DRB345'</li></ol>\n"
      ],
      "text/latex": [
       "\\begin{enumerate*}\n",
       "\\item 'A'\n",
       "\\item 'B'\n",
       "\\item 'C'\n",
       "\\item 'DPA1'\n",
       "\\item 'DPB1'\n",
       "\\item 'DQA1'\n",
       "\\item 'DQB1'\n",
       "\\item 'DRB1'\n",
       "\\item 'DRB345'\n",
       "\\end{enumerate*}\n"
      ],
      "text/markdown": [
       "1. 'A'\n",
       "2. 'B'\n",
       "3. 'C'\n",
       "4. 'DPA1'\n",
       "5. 'DPB1'\n",
       "6. 'DQA1'\n",
       "7. 'DQB1'\n",
       "8. 'DRB1'\n",
       "9. 'DRB345'\n",
       "\n",
       "\n"
      ],
      "text/plain": [
       "[1] \"A\"      \"B\"      \"C\"      \"DPA1\"   \"DPB1\"   \"DQA1\"   \"DQB1\"   \"DRB1\"  \n",
       "[9] \"DRB345\""
      ]
     },
     "metadata": {},
     "output_type": "display_data"
    }
   ],
   "source": [
    "names(table(hla$Locus) )"
   ]
  },
  {
   "cell_type": "code",
   "execution_count": 72,
   "metadata": {
    "vscode": {
     "languageId": "r"
    }
   },
   "outputs": [],
   "source": [
    "allhla_preqc <- matrix(NA, nrow = length(unique(mitchel_hla$sample_name)), ncol = length(unique(mitchel_hla$HLA)),\n",
    "                       dimnames = list(unique(mitchel_hla$sample_name), unique(mitchel_hla$HLA)))"
   ]
  },
  {
   "cell_type": "code",
   "execution_count": 73,
   "metadata": {
    "vscode": {
     "languageId": "r"
    }
   },
   "outputs": [
    {
     "data": {
      "text/html": [
       "<table class=\"dataframe\">\n",
       "<caption>A matrix: 6 x 129 of type lgl</caption>\n",
       "<thead>\n",
       "\t<tr><th></th><th scope=col>HLA-A*0101</th><th scope=col>HLA-A*0301</th><th scope=col>HLA-B*1801</th><th scope=col>HLA-C*0701</th><th scope=col>HLA-DPA1*0103</th><th scope=col>HLA-DPB1*0201</th><th scope=col>HLA-DPB1*0401</th><th scope=col>HLA-DQA1*0301</th><th scope=col>HLA-DQA1*0501</th><th scope=col>HLA-DQB1*0201</th><th scope=col>...</th><th scope=col>HLA-B*4102</th><th scope=col>HLA-C*1703</th><th scope=col>HLA-DPB1*1601</th><th scope=col>HLA-A*0205</th><th scope=col>HLA-B*0706</th><th scope=col>HLA-C*1505</th><th scope=col>HLA-DPB1*12401</th><th scope=col>HLA-DRB1*0405</th><th scope=col>HLA-DQA1*0302</th><th scope=col>HLA-DRB1*0901</th></tr>\n",
       "</thead>\n",
       "<tbody>\n",
       "\t<tr><th scope=row>310121_TCRB</th><td>NA</td><td>NA</td><td>NA</td><td>NA</td><td>NA</td><td>NA</td><td>NA</td><td>NA</td><td>NA</td><td>NA</td><td>...</td><td>NA</td><td>NA</td><td>NA</td><td>NA</td><td>NA</td><td>NA</td><td>NA</td><td>NA</td><td>NA</td><td>NA</td></tr>\n",
       "\t<tr><th scope=row>310102_TCRB</th><td>NA</td><td>NA</td><td>NA</td><td>NA</td><td>NA</td><td>NA</td><td>NA</td><td>NA</td><td>NA</td><td>NA</td><td>...</td><td>NA</td><td>NA</td><td>NA</td><td>NA</td><td>NA</td><td>NA</td><td>NA</td><td>NA</td><td>NA</td><td>NA</td></tr>\n",
       "\t<tr><th scope=row>310156_TCRB</th><td>NA</td><td>NA</td><td>NA</td><td>NA</td><td>NA</td><td>NA</td><td>NA</td><td>NA</td><td>NA</td><td>NA</td><td>...</td><td>NA</td><td>NA</td><td>NA</td><td>NA</td><td>NA</td><td>NA</td><td>NA</td><td>NA</td><td>NA</td><td>NA</td></tr>\n",
       "\t<tr><th scope=row>310204_TCRB</th><td>NA</td><td>NA</td><td>NA</td><td>NA</td><td>NA</td><td>NA</td><td>NA</td><td>NA</td><td>NA</td><td>NA</td><td>...</td><td>NA</td><td>NA</td><td>NA</td><td>NA</td><td>NA</td><td>NA</td><td>NA</td><td>NA</td><td>NA</td><td>NA</td></tr>\n",
       "\t<tr><th scope=row>310245_TCRB</th><td>NA</td><td>NA</td><td>NA</td><td>NA</td><td>NA</td><td>NA</td><td>NA</td><td>NA</td><td>NA</td><td>NA</td><td>...</td><td>NA</td><td>NA</td><td>NA</td><td>NA</td><td>NA</td><td>NA</td><td>NA</td><td>NA</td><td>NA</td><td>NA</td></tr>\n",
       "\t<tr><th scope=row>310186_TCRB</th><td>NA</td><td>NA</td><td>NA</td><td>NA</td><td>NA</td><td>NA</td><td>NA</td><td>NA</td><td>NA</td><td>NA</td><td>...</td><td>NA</td><td>NA</td><td>NA</td><td>NA</td><td>NA</td><td>NA</td><td>NA</td><td>NA</td><td>NA</td><td>NA</td></tr>\n",
       "</tbody>\n",
       "</table>\n"
      ],
      "text/latex": [
       "A matrix: 6 x 129 of type lgl\n",
       "\\begin{tabular}{r|lllllllllllllllllllll}\n",
       "  & HLA-A*0101 & HLA-A*0301 & HLA-B*1801 & HLA-C*0701 & HLA-DPA1*0103 & HLA-DPB1*0201 & HLA-DPB1*0401 & HLA-DQA1*0301 & HLA-DQA1*0501 & HLA-DQB1*0201 & ... & HLA-B*4102 & HLA-C*1703 & HLA-DPB1*1601 & HLA-A*0205 & HLA-B*0706 & HLA-C*1505 & HLA-DPB1*12401 & HLA-DRB1*0405 & HLA-DQA1*0302 & HLA-DRB1*0901\\\\\n",
       "\\hline\n",
       "\t310121\\_TCRB & NA & NA & NA & NA & NA & NA & NA & NA & NA & NA & ... & NA & NA & NA & NA & NA & NA & NA & NA & NA & NA\\\\\n",
       "\t310102\\_TCRB & NA & NA & NA & NA & NA & NA & NA & NA & NA & NA & ... & NA & NA & NA & NA & NA & NA & NA & NA & NA & NA\\\\\n",
       "\t310156\\_TCRB & NA & NA & NA & NA & NA & NA & NA & NA & NA & NA & ... & NA & NA & NA & NA & NA & NA & NA & NA & NA & NA\\\\\n",
       "\t310204\\_TCRB & NA & NA & NA & NA & NA & NA & NA & NA & NA & NA & ... & NA & NA & NA & NA & NA & NA & NA & NA & NA & NA\\\\\n",
       "\t310245\\_TCRB & NA & NA & NA & NA & NA & NA & NA & NA & NA & NA & ... & NA & NA & NA & NA & NA & NA & NA & NA & NA & NA\\\\\n",
       "\t310186\\_TCRB & NA & NA & NA & NA & NA & NA & NA & NA & NA & NA & ... & NA & NA & NA & NA & NA & NA & NA & NA & NA & NA\\\\\n",
       "\\end{tabular}\n"
      ],
      "text/markdown": [
       "\n",
       "A matrix: 6 x 129 of type lgl\n",
       "\n",
       "| <!--/--> | HLA-A*0101 | HLA-A*0301 | HLA-B*1801 | HLA-C*0701 | HLA-DPA1*0103 | HLA-DPB1*0201 | HLA-DPB1*0401 | HLA-DQA1*0301 | HLA-DQA1*0501 | HLA-DQB1*0201 | ... | HLA-B*4102 | HLA-C*1703 | HLA-DPB1*1601 | HLA-A*0205 | HLA-B*0706 | HLA-C*1505 | HLA-DPB1*12401 | HLA-DRB1*0405 | HLA-DQA1*0302 | HLA-DRB1*0901 |\n",
       "|---|---|---|---|---|---|---|---|---|---|---|---|---|---|---|---|---|---|---|---|---|---|\n",
       "| 310121_TCRB | NA | NA | NA | NA | NA | NA | NA | NA | NA | NA | ... | NA | NA | NA | NA | NA | NA | NA | NA | NA | NA |\n",
       "| 310102_TCRB | NA | NA | NA | NA | NA | NA | NA | NA | NA | NA | ... | NA | NA | NA | NA | NA | NA | NA | NA | NA | NA |\n",
       "| 310156_TCRB | NA | NA | NA | NA | NA | NA | NA | NA | NA | NA | ... | NA | NA | NA | NA | NA | NA | NA | NA | NA | NA |\n",
       "| 310204_TCRB | NA | NA | NA | NA | NA | NA | NA | NA | NA | NA | ... | NA | NA | NA | NA | NA | NA | NA | NA | NA | NA |\n",
       "| 310245_TCRB | NA | NA | NA | NA | NA | NA | NA | NA | NA | NA | ... | NA | NA | NA | NA | NA | NA | NA | NA | NA | NA |\n",
       "| 310186_TCRB | NA | NA | NA | NA | NA | NA | NA | NA | NA | NA | ... | NA | NA | NA | NA | NA | NA | NA | NA | NA | NA |\n",
       "\n"
      ],
      "text/plain": [
       "            HLA-A*0101 HLA-A*0301 HLA-B*1801 HLA-C*0701 HLA-DPA1*0103\n",
       "310121_TCRB NA         NA         NA         NA         NA           \n",
       "310102_TCRB NA         NA         NA         NA         NA           \n",
       "310156_TCRB NA         NA         NA         NA         NA           \n",
       "310204_TCRB NA         NA         NA         NA         NA           \n",
       "310245_TCRB NA         NA         NA         NA         NA           \n",
       "310186_TCRB NA         NA         NA         NA         NA           \n",
       "            HLA-DPB1*0201 HLA-DPB1*0401 HLA-DQA1*0301 HLA-DQA1*0501\n",
       "310121_TCRB NA            NA            NA            NA           \n",
       "310102_TCRB NA            NA            NA            NA           \n",
       "310156_TCRB NA            NA            NA            NA           \n",
       "310204_TCRB NA            NA            NA            NA           \n",
       "310245_TCRB NA            NA            NA            NA           \n",
       "310186_TCRB NA            NA            NA            NA           \n",
       "            HLA-DQB1*0201 ... HLA-B*4102 HLA-C*1703 HLA-DPB1*1601 HLA-A*0205\n",
       "310121_TCRB NA            ... NA         NA         NA            NA        \n",
       "310102_TCRB NA            ... NA         NA         NA            NA        \n",
       "310156_TCRB NA            ... NA         NA         NA            NA        \n",
       "310204_TCRB NA            ... NA         NA         NA            NA        \n",
       "310245_TCRB NA            ... NA         NA         NA            NA        \n",
       "310186_TCRB NA            ... NA         NA         NA            NA        \n",
       "            HLA-B*0706 HLA-C*1505 HLA-DPB1*12401 HLA-DRB1*0405 HLA-DQA1*0302\n",
       "310121_TCRB NA         NA         NA             NA            NA           \n",
       "310102_TCRB NA         NA         NA             NA            NA           \n",
       "310156_TCRB NA         NA         NA             NA            NA           \n",
       "310204_TCRB NA         NA         NA             NA            NA           \n",
       "310245_TCRB NA         NA         NA             NA            NA           \n",
       "310186_TCRB NA         NA         NA             NA            NA           \n",
       "            HLA-DRB1*0901\n",
       "310121_TCRB NA           \n",
       "310102_TCRB NA           \n",
       "310156_TCRB NA           \n",
       "310204_TCRB NA           \n",
       "310245_TCRB NA           \n",
       "310186_TCRB NA           "
      ]
     },
     "metadata": {},
     "output_type": "display_data"
    }
   ],
   "source": [
    "head(allhla_preqc)"
   ]
  },
  {
   "cell_type": "code",
   "execution_count": 74,
   "metadata": {
    "vscode": {
     "languageId": "r"
    }
   },
   "outputs": [],
   "source": [
    "for (i in 1:nrow(allhla_preqc)) {\n",
    "    myhla <- mitchel_hla[mitchel_hla$sample_name == rownames(allhla_preqc)[i], \"HLA\"]\n",
    "    allalleles <- unique(myhla)\n",
    "    mytab <- as.data.frame(table(allalleles), stringsAsFactors = F)\n",
    "    allhla_preqc[i, match(mytab$allalleles, colnames(allhla_preqc))] <- mytab$Freq\n",
    "}\n"
   ]
  },
  {
   "cell_type": "code",
   "execution_count": 75,
   "metadata": {
    "vscode": {
     "languageId": "r"
    }
   },
   "outputs": [
    {
     "data": {
      "text/html": [
       "<table class=\"dataframe\">\n",
       "<caption>A matrix: 6 x 129 of type int</caption>\n",
       "<thead>\n",
       "\t<tr><th></th><th scope=col>HLA-A*0101</th><th scope=col>HLA-A*0301</th><th scope=col>HLA-B*1801</th><th scope=col>HLA-C*0701</th><th scope=col>HLA-DPA1*0103</th><th scope=col>HLA-DPB1*0201</th><th scope=col>HLA-DPB1*0401</th><th scope=col>HLA-DQA1*0301</th><th scope=col>HLA-DQA1*0501</th><th scope=col>HLA-DQB1*0201</th><th scope=col>...</th><th scope=col>HLA-B*4102</th><th scope=col>HLA-C*1703</th><th scope=col>HLA-DPB1*1601</th><th scope=col>HLA-A*0205</th><th scope=col>HLA-B*0706</th><th scope=col>HLA-C*1505</th><th scope=col>HLA-DPB1*12401</th><th scope=col>HLA-DRB1*0405</th><th scope=col>HLA-DQA1*0302</th><th scope=col>HLA-DRB1*0901</th></tr>\n",
       "</thead>\n",
       "<tbody>\n",
       "\t<tr><th scope=row>310121_TCRB</th><td> 1</td><td> 1</td><td> 1</td><td> 1</td><td>1</td><td> 1</td><td> 1</td><td> 1</td><td> 1</td><td> 1</td><td>...</td><td>NA</td><td>NA</td><td>NA</td><td>NA</td><td>NA</td><td>NA</td><td>NA</td><td>NA</td><td>NA</td><td>NA</td></tr>\n",
       "\t<tr><th scope=row>310102_TCRB</th><td>NA</td><td> 1</td><td>NA</td><td>NA</td><td>1</td><td> 1</td><td> 1</td><td>NA</td><td>NA</td><td>NA</td><td>...</td><td>NA</td><td>NA</td><td>NA</td><td>NA</td><td>NA</td><td>NA</td><td>NA</td><td>NA</td><td>NA</td><td>NA</td></tr>\n",
       "\t<tr><th scope=row>310156_TCRB</th><td>NA</td><td>NA</td><td> 1</td><td>NA</td><td>1</td><td>NA</td><td>NA</td><td>NA</td><td>NA</td><td>NA</td><td>...</td><td>NA</td><td>NA</td><td>NA</td><td>NA</td><td>NA</td><td>NA</td><td>NA</td><td>NA</td><td>NA</td><td>NA</td></tr>\n",
       "\t<tr><th scope=row>310204_TCRB</th><td>NA</td><td>NA</td><td>NA</td><td>NA</td><td>1</td><td> 1</td><td> 1</td><td> 1</td><td>NA</td><td>NA</td><td>...</td><td>NA</td><td>NA</td><td>NA</td><td>NA</td><td>NA</td><td>NA</td><td>NA</td><td>NA</td><td>NA</td><td>NA</td></tr>\n",
       "\t<tr><th scope=row>310245_TCRB</th><td>NA</td><td>NA</td><td>NA</td><td>NA</td><td>1</td><td>NA</td><td> 1</td><td> 1</td><td>NA</td><td>NA</td><td>...</td><td>NA</td><td>NA</td><td>NA</td><td>NA</td><td>NA</td><td>NA</td><td>NA</td><td>NA</td><td>NA</td><td>NA</td></tr>\n",
       "\t<tr><th scope=row>310186_TCRB</th><td>NA</td><td>NA</td><td> 1</td><td>NA</td><td>1</td><td>NA</td><td>NA</td><td> 1</td><td> 1</td><td> 1</td><td>...</td><td>NA</td><td>NA</td><td>NA</td><td>NA</td><td>NA</td><td>NA</td><td>NA</td><td>NA</td><td>NA</td><td>NA</td></tr>\n",
       "</tbody>\n",
       "</table>\n"
      ],
      "text/latex": [
       "A matrix: 6 x 129 of type int\n",
       "\\begin{tabular}{r|lllllllllllllllllllll}\n",
       "  & HLA-A*0101 & HLA-A*0301 & HLA-B*1801 & HLA-C*0701 & HLA-DPA1*0103 & HLA-DPB1*0201 & HLA-DPB1*0401 & HLA-DQA1*0301 & HLA-DQA1*0501 & HLA-DQB1*0201 & ... & HLA-B*4102 & HLA-C*1703 & HLA-DPB1*1601 & HLA-A*0205 & HLA-B*0706 & HLA-C*1505 & HLA-DPB1*12401 & HLA-DRB1*0405 & HLA-DQA1*0302 & HLA-DRB1*0901\\\\\n",
       "\\hline\n",
       "\t310121\\_TCRB &  1 &  1 &  1 &  1 & 1 &  1 &  1 &  1 &  1 &  1 & ... & NA & NA & NA & NA & NA & NA & NA & NA & NA & NA\\\\\n",
       "\t310102\\_TCRB & NA &  1 & NA & NA & 1 &  1 &  1 & NA & NA & NA & ... & NA & NA & NA & NA & NA & NA & NA & NA & NA & NA\\\\\n",
       "\t310156\\_TCRB & NA & NA &  1 & NA & 1 & NA & NA & NA & NA & NA & ... & NA & NA & NA & NA & NA & NA & NA & NA & NA & NA\\\\\n",
       "\t310204\\_TCRB & NA & NA & NA & NA & 1 &  1 &  1 &  1 & NA & NA & ... & NA & NA & NA & NA & NA & NA & NA & NA & NA & NA\\\\\n",
       "\t310245\\_TCRB & NA & NA & NA & NA & 1 & NA &  1 &  1 & NA & NA & ... & NA & NA & NA & NA & NA & NA & NA & NA & NA & NA\\\\\n",
       "\t310186\\_TCRB & NA & NA &  1 & NA & 1 & NA & NA &  1 &  1 &  1 & ... & NA & NA & NA & NA & NA & NA & NA & NA & NA & NA\\\\\n",
       "\\end{tabular}\n"
      ],
      "text/markdown": [
       "\n",
       "A matrix: 6 x 129 of type int\n",
       "\n",
       "| <!--/--> | HLA-A*0101 | HLA-A*0301 | HLA-B*1801 | HLA-C*0701 | HLA-DPA1*0103 | HLA-DPB1*0201 | HLA-DPB1*0401 | HLA-DQA1*0301 | HLA-DQA1*0501 | HLA-DQB1*0201 | ... | HLA-B*4102 | HLA-C*1703 | HLA-DPB1*1601 | HLA-A*0205 | HLA-B*0706 | HLA-C*1505 | HLA-DPB1*12401 | HLA-DRB1*0405 | HLA-DQA1*0302 | HLA-DRB1*0901 |\n",
       "|---|---|---|---|---|---|---|---|---|---|---|---|---|---|---|---|---|---|---|---|---|---|\n",
       "| 310121_TCRB |  1 |  1 |  1 |  1 | 1 |  1 |  1 |  1 |  1 |  1 | ... | NA | NA | NA | NA | NA | NA | NA | NA | NA | NA |\n",
       "| 310102_TCRB | NA |  1 | NA | NA | 1 |  1 |  1 | NA | NA | NA | ... | NA | NA | NA | NA | NA | NA | NA | NA | NA | NA |\n",
       "| 310156_TCRB | NA | NA |  1 | NA | 1 | NA | NA | NA | NA | NA | ... | NA | NA | NA | NA | NA | NA | NA | NA | NA | NA |\n",
       "| 310204_TCRB | NA | NA | NA | NA | 1 |  1 |  1 |  1 | NA | NA | ... | NA | NA | NA | NA | NA | NA | NA | NA | NA | NA |\n",
       "| 310245_TCRB | NA | NA | NA | NA | 1 | NA |  1 |  1 | NA | NA | ... | NA | NA | NA | NA | NA | NA | NA | NA | NA | NA |\n",
       "| 310186_TCRB | NA | NA |  1 | NA | 1 | NA | NA |  1 |  1 |  1 | ... | NA | NA | NA | NA | NA | NA | NA | NA | NA | NA |\n",
       "\n"
      ],
      "text/plain": [
       "            HLA-A*0101 HLA-A*0301 HLA-B*1801 HLA-C*0701 HLA-DPA1*0103\n",
       "310121_TCRB  1          1          1          1         1            \n",
       "310102_TCRB NA          1         NA         NA         1            \n",
       "310156_TCRB NA         NA          1         NA         1            \n",
       "310204_TCRB NA         NA         NA         NA         1            \n",
       "310245_TCRB NA         NA         NA         NA         1            \n",
       "310186_TCRB NA         NA          1         NA         1            \n",
       "            HLA-DPB1*0201 HLA-DPB1*0401 HLA-DQA1*0301 HLA-DQA1*0501\n",
       "310121_TCRB  1             1             1             1           \n",
       "310102_TCRB  1             1            NA            NA           \n",
       "310156_TCRB NA            NA            NA            NA           \n",
       "310204_TCRB  1             1             1            NA           \n",
       "310245_TCRB NA             1             1            NA           \n",
       "310186_TCRB NA            NA             1             1           \n",
       "            HLA-DQB1*0201 ... HLA-B*4102 HLA-C*1703 HLA-DPB1*1601 HLA-A*0205\n",
       "310121_TCRB  1            ... NA         NA         NA            NA        \n",
       "310102_TCRB NA            ... NA         NA         NA            NA        \n",
       "310156_TCRB NA            ... NA         NA         NA            NA        \n",
       "310204_TCRB NA            ... NA         NA         NA            NA        \n",
       "310245_TCRB NA            ... NA         NA         NA            NA        \n",
       "310186_TCRB  1            ... NA         NA         NA            NA        \n",
       "            HLA-B*0706 HLA-C*1505 HLA-DPB1*12401 HLA-DRB1*0405 HLA-DQA1*0302\n",
       "310121_TCRB NA         NA         NA             NA            NA           \n",
       "310102_TCRB NA         NA         NA             NA            NA           \n",
       "310156_TCRB NA         NA         NA             NA            NA           \n",
       "310204_TCRB NA         NA         NA             NA            NA           \n",
       "310245_TCRB NA         NA         NA             NA            NA           \n",
       "310186_TCRB NA         NA         NA             NA            NA           \n",
       "            HLA-DRB1*0901\n",
       "310121_TCRB NA           \n",
       "310102_TCRB NA           \n",
       "310156_TCRB NA           \n",
       "310204_TCRB NA           \n",
       "310245_TCRB NA           \n",
       "310186_TCRB NA           "
      ]
     },
     "metadata": {},
     "output_type": "display_data"
    }
   ],
   "source": [
    "head(allhla_preqc)"
   ]
  },
  {
   "cell_type": "code",
   "execution_count": 76,
   "metadata": {
    "vscode": {
     "languageId": "r"
    }
   },
   "outputs": [
    {
     "data": {
      "text/html": [
       "<style>\n",
       ".list-inline {list-style: none; margin:0; padding: 0}\n",
       ".list-inline>li {display: inline-block}\n",
       ".list-inline>li:not(:last-child)::after {content: \"\\00b7\"; padding: 0 .5ex}\n",
       "</style>\n",
       "<ol class=list-inline><li>'HLA-A*0206'</li><li>'HLA-A*2902'</li><li>'HLA-B*1801'</li><li>'HLA-B*4002'</li><li>'HLA-C*0305'</li><li>'HLA-C*0501'</li><li>'HLA-DPA1*0103'</li><li>'HLA-DPA1*0201'</li><li>'HLA-DPB1*0202'</li><li>'HLA-DPB1*1401'</li><li>'HLA-DQA1*0301'</li><li>'HLA-DQA1*0501'</li><li>'HLA-DQB1*0201'</li><li>'HLA-DQB1*0302'</li><li>'HLA-DRB1*0301'</li><li>'HLA-DRB1*0407'</li></ol>\n"
      ],
      "text/latex": [
       "\\begin{enumerate*}\n",
       "\\item 'HLA-A*0206'\n",
       "\\item 'HLA-A*2902'\n",
       "\\item 'HLA-B*1801'\n",
       "\\item 'HLA-B*4002'\n",
       "\\item 'HLA-C*0305'\n",
       "\\item 'HLA-C*0501'\n",
       "\\item 'HLA-DPA1*0103'\n",
       "\\item 'HLA-DPA1*0201'\n",
       "\\item 'HLA-DPB1*0202'\n",
       "\\item 'HLA-DPB1*1401'\n",
       "\\item 'HLA-DQA1*0301'\n",
       "\\item 'HLA-DQA1*0501'\n",
       "\\item 'HLA-DQB1*0201'\n",
       "\\item 'HLA-DQB1*0302'\n",
       "\\item 'HLA-DRB1*0301'\n",
       "\\item 'HLA-DRB1*0407'\n",
       "\\end{enumerate*}\n"
      ],
      "text/markdown": [
       "1. 'HLA-A*0206'\n",
       "2. 'HLA-A*2902'\n",
       "3. 'HLA-B*1801'\n",
       "4. 'HLA-B*4002'\n",
       "5. 'HLA-C*0305'\n",
       "6. 'HLA-C*0501'\n",
       "7. 'HLA-DPA1*0103'\n",
       "8. 'HLA-DPA1*0201'\n",
       "9. 'HLA-DPB1*0202'\n",
       "10. 'HLA-DPB1*1401'\n",
       "11. 'HLA-DQA1*0301'\n",
       "12. 'HLA-DQA1*0501'\n",
       "13. 'HLA-DQB1*0201'\n",
       "14. 'HLA-DQB1*0302'\n",
       "15. 'HLA-DRB1*0301'\n",
       "16. 'HLA-DRB1*0407'\n",
       "\n",
       "\n"
      ],
      "text/plain": [
       " [1] \"HLA-A*0206\"    \"HLA-A*2902\"    \"HLA-B*1801\"    \"HLA-B*4002\"   \n",
       " [5] \"HLA-C*0305\"    \"HLA-C*0501\"    \"HLA-DPA1*0103\" \"HLA-DPA1*0201\"\n",
       " [9] \"HLA-DPB1*0202\" \"HLA-DPB1*1401\" \"HLA-DQA1*0301\" \"HLA-DQA1*0501\"\n",
       "[13] \"HLA-DQB1*0201\" \"HLA-DQB1*0302\" \"HLA-DRB1*0301\" \"HLA-DRB1*0407\""
      ]
     },
     "metadata": {},
     "output_type": "display_data"
    }
   ],
   "source": [
    "mitchel_hla[ mitchel_hla$sample_name == \"310186_TCRB\", \"HLA\"]"
   ]
  },
  {
   "cell_type": "code",
   "execution_count": 77,
   "metadata": {
    "vscode": {
     "languageId": "r"
    }
   },
   "outputs": [],
   "source": [
    "readr::write_rds(allhla_preqc, paste0(datapath, \"HLA/mitchel_allhla_preqc.rds\"))"
   ]
  },
  {
   "cell_type": "code",
   "execution_count": null,
   "metadata": {
    "vscode": {
     "languageId": "r"
    }
   },
   "outputs": [],
   "source": []
  }
 ],
 "metadata": {
  "kernelspec": {
   "display_name": "R 4.0",
   "language": "R",
   "name": "ir40"
  },
  "language_info": {
   "codemirror_mode": "r",
   "file_extension": ".r",
   "mimetype": "text/x-r-source",
   "name": "R",
   "pygments_lexer": "r",
   "version": "4.2.2"
  },
  "orig_nbformat": 4,
  "vscode": {
   "interpreter": {
    "hash": "aee8b7b246df8f9039afb4144a1f6fd8d2ca17a180786b69acc140d282b71a49"
   }
  }
 },
 "nbformat": 4,
 "nbformat_minor": 2
}
