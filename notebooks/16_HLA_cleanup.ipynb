{
 "cells": [
  {
   "attachments": {},
   "cell_type": "markdown",
   "metadata": {},
   "source": [
    "# Dependencies"
   ]
  },
  {
   "attachments": {},
   "cell_type": "markdown",
   "metadata": {},
   "source": [
    "# Functions"
   ]
  },
  {
   "attachments": {},
   "cell_type": "markdown",
   "metadata": {},
   "source": [
    "# Paths"
   ]
  },
  {
   "cell_type": "code",
   "execution_count": 1,
   "metadata": {
    "vscode": {
     "languageId": "r"
    }
   },
   "outputs": [],
   "source": [
    "datapath <- \"/Users/anabbi/OneDrive - UHN/Documents/INTERCEPT/Data/\"\n",
    "plotpath <- \"/Users/anabbi/OneDrive - UHN/Documents/INTERCEPT/Plots/\"\n",
    "manifestpath <- \"/Users/anabbi/OneDrive - UHN/Documents/INTERCEPT/Manifests/\"\n",
    "gitpath <- \"/Users/anabbi/git/ped_CapTCRseq/\"\n",
    "h4hpath <- \"/Users/anabbi/Desktop/H4H/INTERCEPT/\""
   ]
  },
  {
   "attachments": {},
   "cell_type": "markdown",
   "metadata": {},
   "source": [
    "# Main"
   ]
  },
  {
   "cell_type": "code",
   "execution_count": 9,
   "metadata": {
    "vscode": {
     "languageId": "r"
    }
   },
   "outputs": [],
   "source": [
    "hla <- xlsx::read.xlsx(file = paste0(datapath, \"/HLA/UHN-20230127-B257-HLA.xlsx\"), sheetIndex = 1)"
   ]
  },
  {
   "cell_type": "code",
   "execution_count": 12,
   "metadata": {
    "vscode": {
     "languageId": "r"
    }
   },
   "outputs": [
    {
     "data": {
      "text/html": [
       "<table class=\"dataframe\">\n",
       "<caption>A data.frame: 20 x 8</caption>\n",
       "<thead>\n",
       "\t<tr><th></th><th scope=col>Sample.ID</th><th scope=col>Locus</th><th scope=col>Allele.1</th><th scope=col>Allele.2</th><th scope=col>Comments</th><th scope=col>Diploid.Ambiguities</th><th scope=col>Allele.1.Ambiguities</th><th scope=col>Allele.2.Ambiguities</th></tr>\n",
       "\t<tr><th></th><th scope=col>&lt;chr&gt;</th><th scope=col>&lt;chr&gt;</th><th scope=col>&lt;chr&gt;</th><th scope=col>&lt;chr&gt;</th><th scope=col>&lt;chr&gt;</th><th scope=col>&lt;chr&gt;</th><th scope=col>&lt;chr&gt;</th><th scope=col>&lt;chr&gt;</th></tr>\n",
       "</thead>\n",
       "<tbody>\n",
       "\t<tr><th scope=row>1</th><td>315-05</td><td>A     </td><td>A*02:01:01   </td><td>A*02:05:01   </td><td></td><td>                           </td><td></td><td></td></tr>\n",
       "\t<tr><th scope=row>2</th><td>315-05</td><td>B     </td><td>B*35:01:01   </td><td>B*49:01:01   </td><td></td><td>                           </td><td></td><td></td></tr>\n",
       "\t<tr><th scope=row>3</th><td>315-05</td><td>C     </td><td>C*04:01:01   </td><td>C*07:01:01   </td><td></td><td>                           </td><td></td><td></td></tr>\n",
       "\t<tr><th scope=row>4</th><td>315-05</td><td>DPA1  </td><td>DPA1*01:03:01</td><td>DPA1*02:02:02</td><td></td><td>                           </td><td></td><td></td></tr>\n",
       "\t<tr><th scope=row>5</th><td>315-05</td><td>DPB1  </td><td>DPB1*01:01:01</td><td>DPB1*04:02:01</td><td></td><td>                           </td><td></td><td></td></tr>\n",
       "\t<tr><th scope=row>6</th><td>315-05</td><td>DQA1  </td><td>DQA1*01:02:01</td><td>DQA1*05:05:01</td><td></td><td>                           </td><td></td><td></td></tr>\n",
       "\t<tr><th scope=row>7</th><td>315-05</td><td>DQB1  </td><td>DQB1*03:19:01</td><td>DQB1*06:04:01</td><td></td><td>                           </td><td></td><td></td></tr>\n",
       "\t<tr><th scope=row>8</th><td>315-05</td><td>DRB1  </td><td>DRB1*13:02:01</td><td>DRB1*13:04   </td><td></td><td>                           </td><td></td><td></td></tr>\n",
       "\t<tr><th scope=row>9</th><td>315-05</td><td>DRB345</td><td>DRB3*02:02:01</td><td>DRB3*03:01:01</td><td></td><td>                           </td><td></td><td></td></tr>\n",
       "\t<tr><th scope=row>10</th><td>319-05</td><td>A     </td><td>A*01:01:01   </td><td>A*03:01:01   </td><td></td><td>                           </td><td></td><td></td></tr>\n",
       "\t<tr><th scope=row>11</th><td>319-05</td><td>B     </td><td>B*07:02:01   </td><td>B*51:01:01   </td><td></td><td>                           </td><td></td><td></td></tr>\n",
       "\t<tr><th scope=row>12</th><td>319-05</td><td>C     </td><td>C*07:02:01   </td><td>C*14:02:01   </td><td></td><td>                           </td><td></td><td></td></tr>\n",
       "\t<tr><th scope=row>13</th><td>319-05</td><td>DPA1  </td><td>DPA1*01:03:01</td><td>DPA1*01:03:01</td><td></td><td>                           </td><td></td><td></td></tr>\n",
       "\t<tr><th scope=row>14</th><td>319-05</td><td>DPB1  </td><td>DPB1*03:01:01</td><td>DPB1*03:01:01</td><td></td><td>                           </td><td></td><td></td></tr>\n",
       "\t<tr><th scope=row>15</th><td>319-05</td><td>DQA1  </td><td>DQA1*05:01:01</td><td>DQA1*05:09:01</td><td></td><td>                           </td><td></td><td></td></tr>\n",
       "\t<tr><th scope=row>16</th><td>319-05</td><td>DQB1  </td><td>DQB1*02:01:01</td><td>DQB1*03:01:01</td><td></td><td>                           </td><td></td><td></td></tr>\n",
       "\t<tr><th scope=row>17</th><td>319-05</td><td>DRB1  </td><td>DRB1*03:01:01</td><td>DRB1*11:01:01</td><td></td><td>DRB1*03:01:08+DRB1*11:01:30</td><td></td><td></td></tr>\n",
       "\t<tr><th scope=row>18</th><td>319-05</td><td>DRB345</td><td>DRB3*01:01:02</td><td>DRB3*02:02:01</td><td></td><td>DRB3*01:91+DRB3*02:133     </td><td></td><td></td></tr>\n",
       "\t<tr><th scope=row>19</th><td>323-03</td><td>A     </td><td>A*11:01:01   </td><td>A*23:01:01   </td><td></td><td>                           </td><td></td><td></td></tr>\n",
       "\t<tr><th scope=row>20</th><td>323-03</td><td>B     </td><td>B*41:01:01   </td><td>B*49:01:01   </td><td></td><td>                           </td><td></td><td></td></tr>\n",
       "</tbody>\n",
       "</table>\n"
      ],
      "text/latex": [
       "A data.frame: 20 x 8\n",
       "\\begin{tabular}{r|llllllll}\n",
       "  & Sample.ID & Locus & Allele.1 & Allele.2 & Comments & Diploid.Ambiguities & Allele.1.Ambiguities & Allele.2.Ambiguities\\\\\n",
       "  & <chr> & <chr> & <chr> & <chr> & <chr> & <chr> & <chr> & <chr>\\\\\n",
       "\\hline\n",
       "\t1 & 315-05 & A      & A*02:01:01    & A*02:05:01    &  &                             &  & \\\\\n",
       "\t2 & 315-05 & B      & B*35:01:01    & B*49:01:01    &  &                             &  & \\\\\n",
       "\t3 & 315-05 & C      & C*04:01:01    & C*07:01:01    &  &                             &  & \\\\\n",
       "\t4 & 315-05 & DPA1   & DPA1*01:03:01 & DPA1*02:02:02 &  &                             &  & \\\\\n",
       "\t5 & 315-05 & DPB1   & DPB1*01:01:01 & DPB1*04:02:01 &  &                             &  & \\\\\n",
       "\t6 & 315-05 & DQA1   & DQA1*01:02:01 & DQA1*05:05:01 &  &                             &  & \\\\\n",
       "\t7 & 315-05 & DQB1   & DQB1*03:19:01 & DQB1*06:04:01 &  &                             &  & \\\\\n",
       "\t8 & 315-05 & DRB1   & DRB1*13:02:01 & DRB1*13:04    &  &                             &  & \\\\\n",
       "\t9 & 315-05 & DRB345 & DRB3*02:02:01 & DRB3*03:01:01 &  &                             &  & \\\\\n",
       "\t10 & 319-05 & A      & A*01:01:01    & A*03:01:01    &  &                             &  & \\\\\n",
       "\t11 & 319-05 & B      & B*07:02:01    & B*51:01:01    &  &                             &  & \\\\\n",
       "\t12 & 319-05 & C      & C*07:02:01    & C*14:02:01    &  &                             &  & \\\\\n",
       "\t13 & 319-05 & DPA1   & DPA1*01:03:01 & DPA1*01:03:01 &  &                             &  & \\\\\n",
       "\t14 & 319-05 & DPB1   & DPB1*03:01:01 & DPB1*03:01:01 &  &                             &  & \\\\\n",
       "\t15 & 319-05 & DQA1   & DQA1*05:01:01 & DQA1*05:09:01 &  &                             &  & \\\\\n",
       "\t16 & 319-05 & DQB1   & DQB1*02:01:01 & DQB1*03:01:01 &  &                             &  & \\\\\n",
       "\t17 & 319-05 & DRB1   & DRB1*03:01:01 & DRB1*11:01:01 &  & DRB1*03:01:08+DRB1*11:01:30 &  & \\\\\n",
       "\t18 & 319-05 & DRB345 & DRB3*01:01:02 & DRB3*02:02:01 &  & DRB3*01:91+DRB3*02:133      &  & \\\\\n",
       "\t19 & 323-03 & A      & A*11:01:01    & A*23:01:01    &  &                             &  & \\\\\n",
       "\t20 & 323-03 & B      & B*41:01:01    & B*49:01:01    &  &                             &  & \\\\\n",
       "\\end{tabular}\n"
      ],
      "text/markdown": [
       "\n",
       "A data.frame: 20 x 8\n",
       "\n",
       "| <!--/--> | Sample.ID &lt;chr&gt; | Locus &lt;chr&gt; | Allele.1 &lt;chr&gt; | Allele.2 &lt;chr&gt; | Comments &lt;chr&gt; | Diploid.Ambiguities &lt;chr&gt; | Allele.1.Ambiguities &lt;chr&gt; | Allele.2.Ambiguities &lt;chr&gt; |\n",
       "|---|---|---|---|---|---|---|---|---|\n",
       "| 1 | 315-05 | A      | A*02:01:01    | A*02:05:01    | <!----> | <!----> | <!----> | <!----> |\n",
       "| 2 | 315-05 | B      | B*35:01:01    | B*49:01:01    | <!----> | <!----> | <!----> | <!----> |\n",
       "| 3 | 315-05 | C      | C*04:01:01    | C*07:01:01    | <!----> | <!----> | <!----> | <!----> |\n",
       "| 4 | 315-05 | DPA1   | DPA1*01:03:01 | DPA1*02:02:02 | <!----> | <!----> | <!----> | <!----> |\n",
       "| 5 | 315-05 | DPB1   | DPB1*01:01:01 | DPB1*04:02:01 | <!----> | <!----> | <!----> | <!----> |\n",
       "| 6 | 315-05 | DQA1   | DQA1*01:02:01 | DQA1*05:05:01 | <!----> | <!----> | <!----> | <!----> |\n",
       "| 7 | 315-05 | DQB1   | DQB1*03:19:01 | DQB1*06:04:01 | <!----> | <!----> | <!----> | <!----> |\n",
       "| 8 | 315-05 | DRB1   | DRB1*13:02:01 | DRB1*13:04    | <!----> | <!----> | <!----> | <!----> |\n",
       "| 9 | 315-05 | DRB345 | DRB3*02:02:01 | DRB3*03:01:01 | <!----> | <!----> | <!----> | <!----> |\n",
       "| 10 | 319-05 | A      | A*01:01:01    | A*03:01:01    | <!----> | <!----> | <!----> | <!----> |\n",
       "| 11 | 319-05 | B      | B*07:02:01    | B*51:01:01    | <!----> | <!----> | <!----> | <!----> |\n",
       "| 12 | 319-05 | C      | C*07:02:01    | C*14:02:01    | <!----> | <!----> | <!----> | <!----> |\n",
       "| 13 | 319-05 | DPA1   | DPA1*01:03:01 | DPA1*01:03:01 | <!----> | <!----> | <!----> | <!----> |\n",
       "| 14 | 319-05 | DPB1   | DPB1*03:01:01 | DPB1*03:01:01 | <!----> | <!----> | <!----> | <!----> |\n",
       "| 15 | 319-05 | DQA1   | DQA1*05:01:01 | DQA1*05:09:01 | <!----> | <!----> | <!----> | <!----> |\n",
       "| 16 | 319-05 | DQB1   | DQB1*02:01:01 | DQB1*03:01:01 | <!----> | <!----> | <!----> | <!----> |\n",
       "| 17 | 319-05 | DRB1   | DRB1*03:01:01 | DRB1*11:01:01 | <!----> | DRB1*03:01:08+DRB1*11:01:30 | <!----> | <!----> |\n",
       "| 18 | 319-05 | DRB345 | DRB3*01:01:02 | DRB3*02:02:01 | <!----> | DRB3*01:91+DRB3*02:133      | <!----> | <!----> |\n",
       "| 19 | 323-03 | A      | A*11:01:01    | A*23:01:01    | <!----> | <!----> | <!----> | <!----> |\n",
       "| 20 | 323-03 | B      | B*41:01:01    | B*49:01:01    | <!----> | <!----> | <!----> | <!----> |\n",
       "\n"
      ],
      "text/plain": [
       "   Sample.ID Locus  Allele.1      Allele.2      Comments\n",
       "1  315-05    A      A*02:01:01    A*02:05:01            \n",
       "2  315-05    B      B*35:01:01    B*49:01:01            \n",
       "3  315-05    C      C*04:01:01    C*07:01:01            \n",
       "4  315-05    DPA1   DPA1*01:03:01 DPA1*02:02:02         \n",
       "5  315-05    DPB1   DPB1*01:01:01 DPB1*04:02:01         \n",
       "6  315-05    DQA1   DQA1*01:02:01 DQA1*05:05:01         \n",
       "7  315-05    DQB1   DQB1*03:19:01 DQB1*06:04:01         \n",
       "8  315-05    DRB1   DRB1*13:02:01 DRB1*13:04            \n",
       "9  315-05    DRB345 DRB3*02:02:01 DRB3*03:01:01         \n",
       "10 319-05    A      A*01:01:01    A*03:01:01            \n",
       "11 319-05    B      B*07:02:01    B*51:01:01            \n",
       "12 319-05    C      C*07:02:01    C*14:02:01            \n",
       "13 319-05    DPA1   DPA1*01:03:01 DPA1*01:03:01         \n",
       "14 319-05    DPB1   DPB1*03:01:01 DPB1*03:01:01         \n",
       "15 319-05    DQA1   DQA1*05:01:01 DQA1*05:09:01         \n",
       "16 319-05    DQB1   DQB1*02:01:01 DQB1*03:01:01         \n",
       "17 319-05    DRB1   DRB1*03:01:01 DRB1*11:01:01         \n",
       "18 319-05    DRB345 DRB3*01:01:02 DRB3*02:02:01         \n",
       "19 323-03    A      A*11:01:01    A*23:01:01            \n",
       "20 323-03    B      B*41:01:01    B*49:01:01            \n",
       "   Diploid.Ambiguities         Allele.1.Ambiguities Allele.2.Ambiguities\n",
       "1                                                                       \n",
       "2                                                                       \n",
       "3                                                                       \n",
       "4                                                                       \n",
       "5                                                                       \n",
       "6                                                                       \n",
       "7                                                                       \n",
       "8                                                                       \n",
       "9                                                                       \n",
       "10                                                                      \n",
       "11                                                                      \n",
       "12                                                                      \n",
       "13                                                                      \n",
       "14                                                                      \n",
       "15                                                                      \n",
       "16                                                                      \n",
       "17 DRB1*03:01:08+DRB1*11:01:30                                          \n",
       "18 DRB3*01:91+DRB3*02:133                                               \n",
       "19                                                                      \n",
       "20                                                                      "
      ]
     },
     "metadata": {},
     "output_type": "display_data"
    }
   ],
   "source": [
    "head(hla,20)"
   ]
  },
  {
   "cell_type": "code",
   "execution_count": null,
   "metadata": {
    "vscode": {
     "languageId": "r"
    }
   },
   "outputs": [],
   "source": []
  },
  {
   "cell_type": "code",
   "execution_count": null,
   "metadata": {
    "vscode": {
     "languageId": "r"
    }
   },
   "outputs": [],
   "source": []
  },
  {
   "cell_type": "code",
   "execution_count": null,
   "metadata": {
    "vscode": {
     "languageId": "r"
    }
   },
   "outputs": [],
   "source": []
  }
 ],
 "metadata": {
  "kernelspec": {
   "display_name": "R",
   "language": "R",
   "name": "ir"
  },
  "language_info": {
   "codemirror_mode": "r",
   "file_extension": ".r",
   "mimetype": "text/x-r-source",
   "name": "R",
   "pygments_lexer": "r",
   "version": "4.2.2"
  },
  "orig_nbformat": 4,
  "vscode": {
   "interpreter": {
    "hash": "aee8b7b246df8f9039afb4144a1f6fd8d2ca17a180786b69acc140d282b71a49"
   }
  }
 },
 "nbformat": 4,
 "nbformat_minor": 2
}
