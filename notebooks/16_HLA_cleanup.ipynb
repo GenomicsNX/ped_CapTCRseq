{
 "cells": [
  {
   "attachments": {},
   "cell_type": "markdown",
   "metadata": {},
   "source": [
    "# Dependencies"
   ]
  },
  {
   "attachments": {},
   "cell_type": "markdown",
   "metadata": {},
   "source": [
    "# Functions"
   ]
  },
  {
   "cell_type": "code",
   "execution_count": 46,
   "metadata": {
    "vscode": {
     "languageId": "r"
    }
   },
   "outputs": [],
   "source": [
    "hla.fx <- function(datapath, hladf, locus) {\n",
    "    df <- hla[hla$Locus == locus, ] # subset to locus\n",
    "    allalleles <- unique(c(df$Allele.1, df$Allele.2)) # get all alleles\n",
    "# create matrix with sample IDs as row names and alleles as column names\n",
    "    mymat <- matrix(0,\n",
    "        nrow = nrow(df), ncol = length(allalleles),\n",
    "        dimnames = list(df$Sample.ID, allalleles)\n",
    "    )\n",
    "# fill matrix for each sample and allele combination \n",
    "    for (i in 1:nrow(mymat)) {\n",
    "        for (j in 1:ncol(mymat)) {\n",
    "            if (df$Allele.1[i] == colnames(mymat)[j]) {\n",
    "                mymat[i, j] <- 1\n",
    "            }\n",
    "            if (df$Allele.2[i] == colnames(mymat)[j]) {\n",
    "                mymat[i, j] <- 1\n",
    "            }\n",
    "        }\n",
    "    }\n",
    "    write.table(mymat, file = paste0(datapath, \"INT_HLA_\", locus, \".txt\"), quote = F)\n",
    "}"
   ]
  },
  {
   "attachments": {},
   "cell_type": "markdown",
   "metadata": {},
   "source": [
    "# Paths"
   ]
  },
  {
   "cell_type": "code",
   "execution_count": 1,
   "metadata": {
    "vscode": {
     "languageId": "r"
    }
   },
   "outputs": [],
   "source": [
    "datapath <- \"/Users/anabbi/OneDrive - UHN/Documents/INTERCEPT/Data/\"\n",
    "plotpath <- \"/Users/anabbi/OneDrive - UHN/Documents/INTERCEPT/Plots/\"\n",
    "manifestpath <- \"/Users/anabbi/OneDrive - UHN/Documents/INTERCEPT/Manifests/\"\n",
    "gitpath <- \"/Users/anabbi/git/ped_CapTCRseq/\"\n",
    "h4hpath <- \"/Users/anabbi/Desktop/H4H/INTERCEPT/\""
   ]
  },
  {
   "attachments": {},
   "cell_type": "markdown",
   "metadata": {},
   "source": [
    "# Main"
   ]
  },
  {
   "cell_type": "code",
   "execution_count": 2,
   "metadata": {
    "vscode": {
     "languageId": "r"
    }
   },
   "outputs": [],
   "source": [
    "hla <- xlsx::read.xlsx(file = paste0(datapath, \"/HLA/UHN-20230127-B257-HLA.xlsx\"), sheetIndex = 1)"
   ]
  },
  {
   "cell_type": "code",
   "execution_count": 37,
   "metadata": {
    "vscode": {
     "languageId": "r"
    }
   },
   "outputs": [
    {
     "data": {
      "text/html": [
       "<table class=\"dataframe\">\n",
       "<caption>A data.frame: 10 x 8</caption>\n",
       "<thead>\n",
       "\t<tr><th></th><th scope=col>Sample.ID</th><th scope=col>Locus</th><th scope=col>Allele.1</th><th scope=col>Allele.2</th><th scope=col>Comments</th><th scope=col>Diploid.Ambiguities</th><th scope=col>Allele.1.Ambiguities</th><th scope=col>Allele.2.Ambiguities</th></tr>\n",
       "\t<tr><th></th><th scope=col>&lt;chr&gt;</th><th scope=col>&lt;chr&gt;</th><th scope=col>&lt;chr&gt;</th><th scope=col>&lt;chr&gt;</th><th scope=col>&lt;chr&gt;</th><th scope=col>&lt;chr&gt;</th><th scope=col>&lt;chr&gt;</th><th scope=col>&lt;chr&gt;</th></tr>\n",
       "</thead>\n",
       "<tbody>\n",
       "\t<tr><th scope=row>1</th><td>315-05</td><td>A     </td><td>A*02:01:01   </td><td>A*02:05:01   </td><td></td><td></td><td></td><td></td></tr>\n",
       "\t<tr><th scope=row>2</th><td>315-05</td><td>B     </td><td>B*35:01:01   </td><td>B*49:01:01   </td><td></td><td></td><td></td><td></td></tr>\n",
       "\t<tr><th scope=row>3</th><td>315-05</td><td>C     </td><td>C*04:01:01   </td><td>C*07:01:01   </td><td></td><td></td><td></td><td></td></tr>\n",
       "\t<tr><th scope=row>4</th><td>315-05</td><td>DPA1  </td><td>DPA1*01:03:01</td><td>DPA1*02:02:02</td><td></td><td></td><td></td><td></td></tr>\n",
       "\t<tr><th scope=row>5</th><td>315-05</td><td>DPB1  </td><td>DPB1*01:01:01</td><td>DPB1*04:02:01</td><td></td><td></td><td></td><td></td></tr>\n",
       "\t<tr><th scope=row>6</th><td>315-05</td><td>DQA1  </td><td>DQA1*01:02:01</td><td>DQA1*05:05:01</td><td></td><td></td><td></td><td></td></tr>\n",
       "\t<tr><th scope=row>7</th><td>315-05</td><td>DQB1  </td><td>DQB1*03:19:01</td><td>DQB1*06:04:01</td><td></td><td></td><td></td><td></td></tr>\n",
       "\t<tr><th scope=row>8</th><td>315-05</td><td>DRB1  </td><td>DRB1*13:02:01</td><td>DRB1*13:04   </td><td></td><td></td><td></td><td></td></tr>\n",
       "\t<tr><th scope=row>9</th><td>315-05</td><td>DRB345</td><td>DRB3*02:02:01</td><td>DRB3*03:01:01</td><td></td><td></td><td></td><td></td></tr>\n",
       "\t<tr><th scope=row>10</th><td>319-05</td><td>A     </td><td>A*01:01:01   </td><td>A*03:01:01   </td><td></td><td></td><td></td><td></td></tr>\n",
       "</tbody>\n",
       "</table>\n"
      ],
      "text/latex": [
       "A data.frame: 10 x 8\n",
       "\\begin{tabular}{r|llllllll}\n",
       "  & Sample.ID & Locus & Allele.1 & Allele.2 & Comments & Diploid.Ambiguities & Allele.1.Ambiguities & Allele.2.Ambiguities\\\\\n",
       "  & <chr> & <chr> & <chr> & <chr> & <chr> & <chr> & <chr> & <chr>\\\\\n",
       "\\hline\n",
       "\t1 & 315-05 & A      & A*02:01:01    & A*02:05:01    &  &  &  & \\\\\n",
       "\t2 & 315-05 & B      & B*35:01:01    & B*49:01:01    &  &  &  & \\\\\n",
       "\t3 & 315-05 & C      & C*04:01:01    & C*07:01:01    &  &  &  & \\\\\n",
       "\t4 & 315-05 & DPA1   & DPA1*01:03:01 & DPA1*02:02:02 &  &  &  & \\\\\n",
       "\t5 & 315-05 & DPB1   & DPB1*01:01:01 & DPB1*04:02:01 &  &  &  & \\\\\n",
       "\t6 & 315-05 & DQA1   & DQA1*01:02:01 & DQA1*05:05:01 &  &  &  & \\\\\n",
       "\t7 & 315-05 & DQB1   & DQB1*03:19:01 & DQB1*06:04:01 &  &  &  & \\\\\n",
       "\t8 & 315-05 & DRB1   & DRB1*13:02:01 & DRB1*13:04    &  &  &  & \\\\\n",
       "\t9 & 315-05 & DRB345 & DRB3*02:02:01 & DRB3*03:01:01 &  &  &  & \\\\\n",
       "\t10 & 319-05 & A      & A*01:01:01    & A*03:01:01    &  &  &  & \\\\\n",
       "\\end{tabular}\n"
      ],
      "text/markdown": [
       "\n",
       "A data.frame: 10 x 8\n",
       "\n",
       "| <!--/--> | Sample.ID &lt;chr&gt; | Locus &lt;chr&gt; | Allele.1 &lt;chr&gt; | Allele.2 &lt;chr&gt; | Comments &lt;chr&gt; | Diploid.Ambiguities &lt;chr&gt; | Allele.1.Ambiguities &lt;chr&gt; | Allele.2.Ambiguities &lt;chr&gt; |\n",
       "|---|---|---|---|---|---|---|---|---|\n",
       "| 1 | 315-05 | A      | A*02:01:01    | A*02:05:01    | <!----> | <!----> | <!----> | <!----> |\n",
       "| 2 | 315-05 | B      | B*35:01:01    | B*49:01:01    | <!----> | <!----> | <!----> | <!----> |\n",
       "| 3 | 315-05 | C      | C*04:01:01    | C*07:01:01    | <!----> | <!----> | <!----> | <!----> |\n",
       "| 4 | 315-05 | DPA1   | DPA1*01:03:01 | DPA1*02:02:02 | <!----> | <!----> | <!----> | <!----> |\n",
       "| 5 | 315-05 | DPB1   | DPB1*01:01:01 | DPB1*04:02:01 | <!----> | <!----> | <!----> | <!----> |\n",
       "| 6 | 315-05 | DQA1   | DQA1*01:02:01 | DQA1*05:05:01 | <!----> | <!----> | <!----> | <!----> |\n",
       "| 7 | 315-05 | DQB1   | DQB1*03:19:01 | DQB1*06:04:01 | <!----> | <!----> | <!----> | <!----> |\n",
       "| 8 | 315-05 | DRB1   | DRB1*13:02:01 | DRB1*13:04    | <!----> | <!----> | <!----> | <!----> |\n",
       "| 9 | 315-05 | DRB345 | DRB3*02:02:01 | DRB3*03:01:01 | <!----> | <!----> | <!----> | <!----> |\n",
       "| 10 | 319-05 | A      | A*01:01:01    | A*03:01:01    | <!----> | <!----> | <!----> | <!----> |\n",
       "\n"
      ],
      "text/plain": [
       "   Sample.ID Locus  Allele.1      Allele.2      Comments Diploid.Ambiguities\n",
       "1  315-05    A      A*02:01:01    A*02:05:01                                \n",
       "2  315-05    B      B*35:01:01    B*49:01:01                                \n",
       "3  315-05    C      C*04:01:01    C*07:01:01                                \n",
       "4  315-05    DPA1   DPA1*01:03:01 DPA1*02:02:02                             \n",
       "5  315-05    DPB1   DPB1*01:01:01 DPB1*04:02:01                             \n",
       "6  315-05    DQA1   DQA1*01:02:01 DQA1*05:05:01                             \n",
       "7  315-05    DQB1   DQB1*03:19:01 DQB1*06:04:01                             \n",
       "8  315-05    DRB1   DRB1*13:02:01 DRB1*13:04                                \n",
       "9  315-05    DRB345 DRB3*02:02:01 DRB3*03:01:01                             \n",
       "10 319-05    A      A*01:01:01    A*03:01:01                                \n",
       "   Allele.1.Ambiguities Allele.2.Ambiguities\n",
       "1                                           \n",
       "2                                           \n",
       "3                                           \n",
       "4                                           \n",
       "5                                           \n",
       "6                                           \n",
       "7                                           \n",
       "8                                           \n",
       "9                                           \n",
       "10                                          "
      ]
     },
     "metadata": {},
     "output_type": "display_data"
    }
   ],
   "source": [
    "head(hla,10)"
   ]
  },
  {
   "cell_type": "code",
   "execution_count": 40,
   "metadata": {
    "vscode": {
     "languageId": "r"
    }
   },
   "outputs": [
    {
     "data": {
      "text/html": [
       "<style>\n",
       ".list-inline {list-style: none; margin:0; padding: 0}\n",
       ".list-inline>li {display: inline-block}\n",
       ".list-inline>li:not(:last-child)::after {content: \"\\00b7\"; padding: 0 .5ex}\n",
       "</style>\n",
       "<ol class=list-inline><li>'A'</li><li>'B'</li><li>'C'</li><li>'DPA1'</li><li>'DPB1'</li><li>'DQA1'</li><li>'DQB1'</li><li>'DRB1'</li><li>'DRB345'</li></ol>\n"
      ],
      "text/latex": [
       "\\begin{enumerate*}\n",
       "\\item 'A'\n",
       "\\item 'B'\n",
       "\\item 'C'\n",
       "\\item 'DPA1'\n",
       "\\item 'DPB1'\n",
       "\\item 'DQA1'\n",
       "\\item 'DQB1'\n",
       "\\item 'DRB1'\n",
       "\\item 'DRB345'\n",
       "\\end{enumerate*}\n"
      ],
      "text/markdown": [
       "1. 'A'\n",
       "2. 'B'\n",
       "3. 'C'\n",
       "4. 'DPA1'\n",
       "5. 'DPB1'\n",
       "6. 'DQA1'\n",
       "7. 'DQB1'\n",
       "8. 'DRB1'\n",
       "9. 'DRB345'\n",
       "\n",
       "\n"
      ],
      "text/plain": [
       "[1] \"A\"      \"B\"      \"C\"      \"DPA1\"   \"DPB1\"   \"DQA1\"   \"DQB1\"   \"DRB1\"  \n",
       "[9] \"DRB345\""
      ]
     },
     "metadata": {},
     "output_type": "display_data"
    }
   ],
   "source": [
    "names(table(hla$Locus))"
   ]
  },
  {
   "cell_type": "code",
   "execution_count": 49,
   "metadata": {
    "vscode": {
     "languageId": "r"
    }
   },
   "outputs": [],
   "source": [
    "for(i in names(table(hla$Locus))){\n",
    "    hla.fx(paste0(datapath,\"HLA/\"), hla, i)\n",
    "}"
   ]
  },
  {
   "cell_type": "code",
   "execution_count": null,
   "metadata": {
    "vscode": {
     "languageId": "r"
    }
   },
   "outputs": [],
   "source": []
  },
  {
   "cell_type": "code",
   "execution_count": null,
   "metadata": {
    "vscode": {
     "languageId": "r"
    }
   },
   "outputs": [],
   "source": []
  }
 ],
 "metadata": {
  "kernelspec": {
   "display_name": "R",
   "language": "R",
   "name": "ir"
  },
  "language_info": {
   "codemirror_mode": "r",
   "file_extension": ".r",
   "mimetype": "text/x-r-source",
   "name": "R",
   "pygments_lexer": "r",
   "version": "4.2.2"
  },
  "orig_nbformat": 4,
  "vscode": {
   "interpreter": {
    "hash": "aee8b7b246df8f9039afb4144a1f6fd8d2ca17a180786b69acc140d282b71a49"
   }
  }
 },
 "nbformat": 4,
 "nbformat_minor": 2
}
