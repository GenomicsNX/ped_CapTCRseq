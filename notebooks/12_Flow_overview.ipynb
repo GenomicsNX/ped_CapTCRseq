{
 "cells": [
  {
   "cell_type": "code",
   "execution_count": 63,
   "metadata": {
    "vscode": {
     "languageId": "r"
    }
   },
   "outputs": [
    {
     "data": {
      "text/html": [
       "'en_US.UTF-8/en_US.UTF-8/en_US.UTF-8/C/en_US.UTF-8/C'"
      ],
      "text/latex": [
       "'en\\_US.UTF-8/en\\_US.UTF-8/en\\_US.UTF-8/C/en\\_US.UTF-8/C'"
      ],
      "text/markdown": [
       "'en_US.UTF-8/en_US.UTF-8/en_US.UTF-8/C/en_US.UTF-8/C'"
      ],
      "text/plain": [
       "[1] \"en_US.UTF-8/en_US.UTF-8/en_US.UTF-8/C/en_US.UTF-8/C\""
      ]
     },
     "metadata": {},
     "output_type": "display_data"
    }
   ],
   "source": [
    "Sys.setlocale(category = \"LC_ALL\", locale = \"en_US.UTF-8\")"
   ]
  },
  {
   "attachments": {},
   "cell_type": "markdown",
   "metadata": {},
   "source": [
    "# Dependencies"
   ]
  },
  {
   "cell_type": "code",
   "execution_count": 64,
   "metadata": {
    "vscode": {
     "languageId": "r"
    }
   },
   "outputs": [],
   "source": [
    "pacman::p_load(dplyr, ggplot2, ggbeeswarm, ggpubr, ggsignif)"
   ]
  },
  {
   "attachments": {},
   "cell_type": "markdown",
   "metadata": {},
   "source": [
    "# Functions"
   ]
  },
  {
   "cell_type": "code",
   "execution_count": 65,
   "metadata": {
    "vscode": {
     "languageId": "r"
    }
   },
   "outputs": [],
   "source": [
    "source(\"/Users/anabbi/git/ped_CapTCRseq/R/ggplot2_theme.R\")\n",
    "source(\"/Users/anabbi/git/ped_CapTCRseq/R/color_schemes.R\")\n",
    "source(\"/Users/anabbi/git/ped_CapTCRseq/R/Misc_functions.R\")"
   ]
  },
  {
   "attachments": {},
   "cell_type": "markdown",
   "metadata": {},
   "source": [
    "# Paths"
   ]
  },
  {
   "cell_type": "code",
   "execution_count": 66,
   "metadata": {
    "vscode": {
     "languageId": "r"
    }
   },
   "outputs": [],
   "source": [
    "datapath <- \"/Users/anabbi/OneDrive - UHN/Documents/INTERCEPT/Data/\"\n",
    "plotpath <- \"/Users/anabbi/OneDrive - UHN/Documents/INTERCEPT/Plots/\"\n",
    "manifestpath <- \"/Users/anabbi/OneDrive - UHN/Documents/INTERCEPT/Manifests/\"\n",
    "gitpath <- \"/Users/anabbi/git/ped_CapTCRseq/\""
   ]
  },
  {
   "cell_type": "code",
   "execution_count": 67,
   "metadata": {
    "vscode": {
     "languageId": "r"
    }
   },
   "outputs": [],
   "source": [
    "h4hpath <- \"/Users/anabbi/Desktop/H4H/INTERCEPT/\""
   ]
  },
  {
   "attachments": {},
   "cell_type": "markdown",
   "metadata": {},
   "source": [
    "# Main"
   ]
  },
  {
   "cell_type": "code",
   "execution_count": 68,
   "metadata": {
    "vscode": {
     "languageId": "r"
    }
   },
   "outputs": [],
   "source": [
    "meta_div <- readr::read_rds(paste0(datapath, \"capTCRseq/meta_div_goodsamples.rds\"))"
   ]
  },
  {
   "cell_type": "code",
   "execution_count": 69,
   "metadata": {
    "vscode": {
     "languageId": "r"
    }
   },
   "outputs": [],
   "source": [
    "meta_div <- meta_div[ !is.na(meta_div$CD3), ]"
   ]
  },
  {
   "cell_type": "code",
   "execution_count": 70,
   "metadata": {
    "vscode": {
     "languageId": "r"
    }
   },
   "outputs": [],
   "source": [
    "meta_div <- meta_div[ meta_div$cancergroup != \"Normal\", ]\n",
    "meta_div <- meta_div[ meta_div$cancergroup != \"LFS\", ]"
   ]
  },
  {
   "attachments": {},
   "cell_type": "markdown",
   "metadata": {},
   "source": [
    "Exclude T-ALLs"
   ]
  },
  {
   "cell_type": "code",
   "execution_count": 72,
   "metadata": {
    "vscode": {
     "languageId": "r"
    }
   },
   "outputs": [
    {
     "data": {
      "text/plain": [
       "\n",
       "  ALCL    ALL    AML   ARMS     BL    BLL    CML  DLBCL   ERMS    EWS     HB \n",
       "    14    143     69      7     26     13     25     20     31     40     25 \n",
       "    HD HR ALL  MS NB     NB     OS  PMBCL    RMS SR ALL  T-ALL  WILMS \n",
       "    49     83      5     23     72     12     15     17     24     16 "
      ]
     },
     "metadata": {},
     "output_type": "display_data"
    }
   ],
   "source": [
    "table(meta_div$Disease_type)"
   ]
  },
  {
   "cell_type": "code",
   "execution_count": 73,
   "metadata": {
    "vscode": {
     "languageId": "r"
    }
   },
   "outputs": [],
   "source": [
    "meta_div <- meta_div[ meta_div$Disease_type != \"T-ALL\", ]"
   ]
  },
  {
   "cell_type": "code",
   "execution_count": 74,
   "metadata": {
    "vscode": {
     "languageId": "r"
    }
   },
   "outputs": [],
   "source": [
    "# meta_div$cancergroup[ which(meta_div$cancergroup == \"Solid\")] <- \"Solid tumors\""
   ]
  },
  {
   "cell_type": "code",
   "execution_count": 75,
   "metadata": {
    "vscode": {
     "languageId": "r"
    }
   },
   "outputs": [],
   "source": [
    "pbmc <- meta_div[ which(meta_div$sampletype == \"PBMC\"),]"
   ]
  },
  {
   "cell_type": "code",
   "execution_count": 76,
   "metadata": {
    "vscode": {
     "languageId": "r"
    }
   },
   "outputs": [
    {
     "data": {
      "text/html": [
       "<style>\n",
       ".list-inline {list-style: none; margin:0; padding: 0}\n",
       ".list-inline>li {display: inline-block}\n",
       ".list-inline>li:not(:last-child)::after {content: \"\\00b7\"; padding: 0 .5ex}\n",
       "</style>\n",
       "<ol class=list-inline><li>443</li><li>64</li></ol>\n"
      ],
      "text/latex": [
       "\\begin{enumerate*}\n",
       "\\item 443\n",
       "\\item 64\n",
       "\\end{enumerate*}\n"
      ],
      "text/markdown": [
       "1. 443\n",
       "2. 64\n",
       "\n",
       "\n"
      ],
      "text/plain": [
       "[1] 443  64"
      ]
     },
     "metadata": {},
     "output_type": "display_data"
    }
   ],
   "source": [
    "dim(pbmc)"
   ]
  },
  {
   "cell_type": "code",
   "execution_count": 77,
   "metadata": {
    "vscode": {
     "languageId": "r"
    }
   },
   "outputs": [],
   "source": [
    "# names(group_col)[ names(group_col) == \"Solid\"] <- \"Solid tumors\""
   ]
  },
  {
   "cell_type": "code",
   "execution_count": 78,
   "metadata": {
    "vscode": {
     "languageId": "r"
    }
   },
   "outputs": [],
   "source": [
    "pbmc <- pbmc[ pbmc$CD3 > 0,]"
   ]
  },
  {
   "attachments": {},
   "cell_type": "markdown",
   "metadata": {},
   "source": [
    "ridgeplot"
   ]
  },
  {
   "cell_type": "code",
   "execution_count": 79,
   "metadata": {
    "vscode": {
     "languageId": "r"
    }
   },
   "outputs": [],
   "source": [
    "library(ggridges)"
   ]
  },
  {
   "cell_type": "code",
   "execution_count": 80,
   "metadata": {
    "vscode": {
     "languageId": "r"
    }
   },
   "outputs": [],
   "source": [
    "pbmc$cancergroup <- factor(pbmc$cancergroup, levels = c(\"Solid tumors\", \"Leukemia\", \"Lymphoma\"))"
   ]
  },
  {
   "cell_type": "code",
   "execution_count": 81,
   "metadata": {
    "vscode": {
     "languageId": "r"
    }
   },
   "outputs": [],
   "source": [
    "ridgeplot.fx <- function(df, x, y, myfill, grids, myxlab){\n",
    "    p <- ggplot(df, aes(x = eval(as.name(x)), y = eval(as.name(y)), fill = eval(as.name(myfill)))) +\n",
    "  geom_density_ridges(alpha = 0.2, scale = 1, from = 0, to = 100) +\n",
    "  theme_ridges(font_size = 13, grid = eval(grids)) + \n",
    "  theme(axis.title.y = element_blank(), legend.position = \"none\") + labs(x = myxlab)\n",
    "  return(p)\n",
    "}"
   ]
  },
  {
   "cell_type": "code",
   "execution_count": 82,
   "metadata": {
    "vscode": {
     "languageId": "r"
    }
   },
   "outputs": [],
   "source": [
    "# pTE <- ridgeplot.fx(pbmc, \"percent_TE\", \"cycle\", \"cancergroup\", \"TRUE\", \"Percent TE\")"
   ]
  },
  {
   "cell_type": "code",
   "execution_count": 83,
   "metadata": {
    "vscode": {
     "languageId": "r"
    }
   },
   "outputs": [],
   "source": [
    "# pEM <- ridgeplot.fx(pbmc, \"percent_EM\", \"cycle\", \"cancergroup\", \"TRUE\", \"Percent EM\")\n",
    "# pCM <- ridgeplot.fx(pbmc, \"percent_CM\", \"cycle\", \"cancergroup\", \"TRUE\", \"Percent CM\")\n",
    "# pSCM <- ridgeplot.fx(pbmc, \"percent_SCM\", \"cycle\", \"cancergroup\", \"TRUE\", \"Percent SCM\")\n",
    "# pN <- ridgeplot.fx(pbmc, \"percent_Naive\", \"cycle\", \"cancergroup\", \"TRUE\", \"Percent Naive\")"
   ]
  },
  {
   "cell_type": "code",
   "execution_count": 84,
   "metadata": {
    "vscode": {
     "languageId": "r"
    }
   },
   "outputs": [],
   "source": [
    "library(cowplot)"
   ]
  },
  {
   "cell_type": "code",
   "execution_count": 85,
   "metadata": {
    "vscode": {
     "languageId": "r"
    }
   },
   "outputs": [],
   "source": [
    "# allp <- plot_grid(pN, pSCM, pCM, pEM, pTE, nrow = 1)"
   ]
  },
  {
   "cell_type": "code",
   "execution_count": 86,
   "metadata": {
    "vscode": {
     "languageId": "r"
    }
   },
   "outputs": [],
   "source": [
    "# pdf(paste0(plotpath, \"Flow_overview.pdf\"), width = 10, height = 4)\n",
    "# allp\n",
    "# dev.off()"
   ]
  },
  {
   "attachments": {},
   "cell_type": "markdown",
   "metadata": {},
   "source": [
    "one plot with facet so the plots align well"
   ]
  },
  {
   "cell_type": "code",
   "execution_count": 87,
   "metadata": {
    "vscode": {
     "languageId": "r"
    }
   },
   "outputs": [],
   "source": [
    "# melt\n",
    "pbmc_m <- reshape2::melt(pbmc, id.vars = c(\"cancergroup\", \"cycle\"), measure.vars = c(\"Naïve%\", \"SCM%\", \"CM%\", \"EM%\", \"TE%\"))"
   ]
  },
  {
   "cell_type": "code",
   "execution_count": 88,
   "metadata": {
    "vscode": {
     "languageId": "r"
    }
   },
   "outputs": [],
   "source": [
    "myp <- ggplot(pbmc_m, aes(x = value, y = cycle, fill = cancergroup, point_color = cancergroup)) +\n",
    "  geom_density_ridges(\n",
    "    alpha = 0.4, from = 0, to = 100,\n",
    "    scale = 1,\n",
    "    panel_scaling = TRUE,\n",
    "    quantile_lines = FALSE, size = 0.2,\n",
    "    jittered_points = TRUE, point_shape = \"|\", point_size = 3, \n",
    "    position = position_points_jitter(height = 0)\n",
    "  ) +\n",
    "  geom_point(data=subset(pbmc_m, cancergroup %in% c(\"Lymphoma\") & cycle %in% c(\"X04\", \"X05\")), aes(),shape=\"|\", size = 3) +\n",
    "  theme_ridges(font_size = 13, grid = TRUE) +\n",
    "  facet_wrap(~variable, nrow = 1, scales = \"free_x\", strip.position = \"bottom\") +\n",
    "  theme(axis.title = element_blank(),\n",
    "    legend.position = \"bottom\",\n",
    "    strip.background.x = element_blank(),\n",
    "    strip.placement = \"outside\"\n",
    "  )\n"
   ]
  },
  {
   "cell_type": "code",
   "execution_count": 89,
   "metadata": {
    "vscode": {
     "languageId": "r"
    }
   },
   "outputs": [
    {
     "name": "stderr",
     "output_type": "stream",
     "text": [
      "Picking joint bandwidth of 8.56\n",
      "\n",
      "Picking joint bandwidth of 2.87\n",
      "\n",
      "Picking joint bandwidth of 7.51\n",
      "\n",
      "Picking joint bandwidth of 1.75\n",
      "\n",
      "Picking joint bandwidth of 13.5\n",
      "\n"
     ]
    },
    {
     "data": {
      "image/png": "[encoded data removed]",
      "text/plain": [
       "plot without title"
      ]
     },
     "metadata": {
      "image/png": {
       "height": 420,
       "width": 420
      }
     },
     "output_type": "display_data"
    }
   ],
   "source": [
    "myp"
   ]
  },
  {
   "cell_type": "code",
   "execution_count": 90,
   "metadata": {
    "vscode": {
     "languageId": "r"
    }
   },
   "outputs": [
    {
     "name": "stderr",
     "output_type": "stream",
     "text": [
      "Picking joint bandwidth of 8.56\n",
      "\n",
      "Picking joint bandwidth of 2.87\n",
      "\n",
      "Picking joint bandwidth of 7.51\n",
      "\n",
      "Picking joint bandwidth of 1.75\n",
      "\n",
      "Picking joint bandwidth of 13.5\n",
      "\n"
     ]
    },
    {
     "data": {
      "text/html": [
       "<strong>pdf:</strong> 2"
      ],
      "text/latex": [
       "\\textbf{pdf:} 2"
      ],
      "text/markdown": [
       "**pdf:** 2"
      ],
      "text/plain": [
       "pdf \n",
       "  2 "
      ]
     },
     "metadata": {},
     "output_type": "display_data"
    }
   ],
   "source": [
    "pdf(paste0(plotpath, \"Flow_overview.pdf\"), width = 8, height = 4)\n",
    "myp\n",
    "dev.off()"
   ]
  },
  {
   "cell_type": "code",
   "execution_count": 91,
   "metadata": {
    "vscode": {
     "languageId": "r"
    }
   },
   "outputs": [],
   "source": [
    "library(ggh4x)\n",
    "library(ggthemes)"
   ]
  },
  {
   "cell_type": "code",
   "execution_count": 92,
   "metadata": {
    "vscode": {
     "languageId": "r"
    }
   },
   "outputs": [],
   "source": [
    "pbmc_m_tcells <- pbmc_m\n",
    "pbmc_m_tcells$type <- \"T-cell subsets (Flow cytometry)\""
   ]
  },
  {
   "cell_type": "code",
   "execution_count": 93,
   "metadata": {
    "vscode": {
     "languageId": "r"
    }
   },
   "outputs": [],
   "source": [
    "myp <- ggplot(pbmc_m_tcells, aes(x = value, y = cycle, fill = cancergroup)) +\n",
    "  geom_density_ridges(\n",
    "    alpha = 0.4, from = 0, to = 100,\n",
    "    scale = 1,\n",
    "    panel_scaling = TRUE,\n",
    "    quantile_lines = FALSE, size = 0.2,\n",
    "    jittered_points = TRUE, point_shape = \"|\", point_size = 3,\n",
    "    position = position_points_jitter(height = 0)\n",
    "  ) +\n",
    "  geom_point(data = subset(pbmc_m_tcells, cancergroup %in% c(\"Lymphoma\") & cycle %in% c(\"X04\", \"X05\")), aes(), shape = \"|\", size = 3) +\n",
    "  #theme_ridges(font_size = 13, grid = TRUE) +\n",
    "  facet_nested(cancergroup ~ type + variable, nest_line = element_line(linetype = 1), switch = \"y\", axes = \"all\", remove_labels = \"all\") +\n",
    "  theme(\n",
    "    panel.grid.minor = element_blank(),\n",
    "    panel.grid.major.y = element_blank(),\n",
    "    panel.grid.major.x = element_line(colour = \"#7f7f7f2a\"),\n",
    "    panel.background = element_blank(),\n",
    "    panel.spacing = unit(.5, \"lines\"),\n",
    "    #panel.border = element_rect(color = \"black\", fill = NA, size = 1),\n",
    "    panel.border = element_blank(),\n",
    "\n",
    "    axis.title = element_blank(),\n",
    "    axis.line = element_line(),\n",
    "\n",
    "    legend.position = \"none\",\n",
    "\n",
    "    strip.background = element_blank(),\n",
    "    strip.placement = \"outside\",\n",
    "    ggh4x.facet.nestline = element_line(colour = \"black\", linewidth = 0.3)\n",
    "  )\n"
   ]
  },
  {
   "cell_type": "code",
   "execution_count": 94,
   "metadata": {
    "vscode": {
     "languageId": "r"
    }
   },
   "outputs": [
    {
     "name": "stderr",
     "output_type": "stream",
     "text": [
      "Picking joint bandwidth of 11.5\n",
      "\n",
      "Picking joint bandwidth of 2.38\n",
      "\n",
      "Picking joint bandwidth of 7.76\n",
      "\n",
      "Picking joint bandwidth of 1.64\n",
      "\n",
      "Picking joint bandwidth of 11.4\n",
      "\n",
      "Picking joint bandwidth of 10\n",
      "\n",
      "Picking joint bandwidth of 2.9\n",
      "\n",
      "Picking joint bandwidth of 7.05\n",
      "\n",
      "Picking joint bandwidth of 1.41\n",
      "\n",
      "Picking joint bandwidth of 16.1\n",
      "\n",
      "Picking joint bandwidth of 4.18\n",
      "\n",
      "Picking joint bandwidth of 3.34\n",
      "\n",
      "Picking joint bandwidth of 7.71\n",
      "\n",
      "Picking joint bandwidth of 2.2\n",
      "\n",
      "Picking joint bandwidth of 13.1\n",
      "\n"
     ]
    },
    {
     "data": {
      "text/html": [
       "<strong>pdf:</strong> 2"
      ],
      "text/latex": [
       "\\textbf{pdf:} 2"
      ],
      "text/markdown": [
       "**pdf:** 2"
      ],
      "text/plain": [
       "pdf \n",
       "  2 "
      ]
     },
     "metadata": {},
     "output_type": "display_data"
    }
   ],
   "source": [
    "pdf(paste0(plotpath, \"Flow_overview_facet.pdf\"), width = 10, height = 9)\n",
    "myp\n",
    "dev.off()"
   ]
  },
  {
   "attachments": {},
   "cell_type": "markdown",
   "metadata": {},
   "source": [
    "NCR"
   ]
  },
  {
   "cell_type": "code",
   "execution_count": 95,
   "metadata": {
    "vscode": {
     "languageId": "r"
    }
   },
   "outputs": [
    {
     "data": {
      "text/html": [
       "<style>\n",
       ".list-inline {list-style: none; margin:0; padding: 0}\n",
       ".list-inline>li {display: inline-block}\n",
       ".list-inline>li:not(:last-child)::after {content: \"\\00b7\"; padding: 0 .5ex}\n",
       "</style>\n",
       "<ol class=list-inline><li>'sample_id'</li><li>'Patient'</li><li>'cycle'</li><li>'FOLD'</li><li>'ATC'</li><li>'Age'</li><li>'Disease_type'</li><li>'TE_fold'</li><li>'CD3'</li><li>'EM'</li><li>'CM'</li><li>'Naïve'</li><li>'SCM'</li><li>'TE'</li><li>'EM%'</li><li>'CM%'</li><li>'Naïve%'</li><li>'SCM%'</li><li>'TE%'</li><li>'Naïve/TE'</li><li>'N+CM+SCM/TE+EM'</li><li>'PD-1'</li><li>'PDL1'</li><li>'LAG3'</li><li>'TIM3'</li><li>'CTLA4'</li><li>'PD1%'</li><li>'PDL1%'</li><li>'LAG3%'</li><li>'TIM3%'</li><li>'CTLA4%'</li><li>'Any NCR'</li><li>'PD1 + LAG3 + TIM3'</li><li>'cancergroup'</li><li>'agegroup'</li><li>'foldgroup'</li><li>'Remission'</li><li>'Relapse'</li><li>'Transplant'</li><li>'CART'</li><li>'TRB'</li><li>'Reads'</li><li>'CPKR'</li><li>'Average_reads'</li><li>'VMR'</li><li>'Max_reads'</li><li>'Singletons'</li><li>'Doubletons'</li><li>'qD'</li><li>'Sample_Coverage'</li><li>'observed_Richness'</li><li>'estimated_Richness'</li><li>'SE_Richeness'</li><li>'observed_Shannon'</li><li>'estimated_Shannon'</li><li>'SE_Shannon'</li><li>'observed_Simpson'</li><li>'estimated_Simpson'</li><li>'SE_Simpson'</li><li>'basename'</li><li>'file'</li><li>'Group'</li><li>'sampletype'</li><li>'log10shann'</li></ol>\n"
      ],
      "text/latex": [
       "\\begin{enumerate*}\n",
       "\\item 'sample\\_id'\n",
       "\\item 'Patient'\n",
       "\\item 'cycle'\n",
       "\\item 'FOLD'\n",
       "\\item 'ATC'\n",
       "\\item 'Age'\n",
       "\\item 'Disease\\_type'\n",
       "\\item 'TE\\_fold'\n",
       "\\item 'CD3'\n",
       "\\item 'EM'\n",
       "\\item 'CM'\n",
       "\\item 'Naïve'\n",
       "\\item 'SCM'\n",
       "\\item 'TE'\n",
       "\\item 'EM\\%'\n",
       "\\item 'CM\\%'\n",
       "\\item 'Naïve\\%'\n",
       "\\item 'SCM\\%'\n",
       "\\item 'TE\\%'\n",
       "\\item 'Naïve/TE'\n",
       "\\item 'N+CM+SCM/TE+EM'\n",
       "\\item 'PD-1'\n",
       "\\item 'PDL1'\n",
       "\\item 'LAG3'\n",
       "\\item 'TIM3'\n",
       "\\item 'CTLA4'\n",
       "\\item 'PD1\\%'\n",
       "\\item 'PDL1\\%'\n",
       "\\item 'LAG3\\%'\n",
       "\\item 'TIM3\\%'\n",
       "\\item 'CTLA4\\%'\n",
       "\\item 'Any NCR'\n",
       "\\item 'PD1 + LAG3 + TIM3'\n",
       "\\item 'cancergroup'\n",
       "\\item 'agegroup'\n",
       "\\item 'foldgroup'\n",
       "\\item 'Remission'\n",
       "\\item 'Relapse'\n",
       "\\item 'Transplant'\n",
       "\\item 'CART'\n",
       "\\item 'TRB'\n",
       "\\item 'Reads'\n",
       "\\item 'CPKR'\n",
       "\\item 'Average\\_reads'\n",
       "\\item 'VMR'\n",
       "\\item 'Max\\_reads'\n",
       "\\item 'Singletons'\n",
       "\\item 'Doubletons'\n",
       "\\item 'qD'\n",
       "\\item 'Sample\\_Coverage'\n",
       "\\item 'observed\\_Richness'\n",
       "\\item 'estimated\\_Richness'\n",
       "\\item 'SE\\_Richeness'\n",
       "\\item 'observed\\_Shannon'\n",
       "\\item 'estimated\\_Shannon'\n",
       "\\item 'SE\\_Shannon'\n",
       "\\item 'observed\\_Simpson'\n",
       "\\item 'estimated\\_Simpson'\n",
       "\\item 'SE\\_Simpson'\n",
       "\\item 'basename'\n",
       "\\item 'file'\n",
       "\\item 'Group'\n",
       "\\item 'sampletype'\n",
       "\\item 'log10shann'\n",
       "\\end{enumerate*}\n"
      ],
      "text/markdown": [
       "1. 'sample_id'\n",
       "2. 'Patient'\n",
       "3. 'cycle'\n",
       "4. 'FOLD'\n",
       "5. 'ATC'\n",
       "6. 'Age'\n",
       "7. 'Disease_type'\n",
       "8. 'TE_fold'\n",
       "9. 'CD3'\n",
       "10. 'EM'\n",
       "11. 'CM'\n",
       "12. 'Naïve'\n",
       "13. 'SCM'\n",
       "14. 'TE'\n",
       "15. 'EM%'\n",
       "16. 'CM%'\n",
       "17. 'Naïve%'\n",
       "18. 'SCM%'\n",
       "19. 'TE%'\n",
       "20. 'Naïve/TE'\n",
       "21. 'N+CM+SCM/TE+EM'\n",
       "22. 'PD-1'\n",
       "23. 'PDL1'\n",
       "24. 'LAG3'\n",
       "25. 'TIM3'\n",
       "26. 'CTLA4'\n",
       "27. 'PD1%'\n",
       "28. 'PDL1%'\n",
       "29. 'LAG3%'\n",
       "30. 'TIM3%'\n",
       "31. 'CTLA4%'\n",
       "32. 'Any NCR'\n",
       "33. 'PD1 + LAG3 + TIM3'\n",
       "34. 'cancergroup'\n",
       "35. 'agegroup'\n",
       "36. 'foldgroup'\n",
       "37. 'Remission'\n",
       "38. 'Relapse'\n",
       "39. 'Transplant'\n",
       "40. 'CART'\n",
       "41. 'TRB'\n",
       "42. 'Reads'\n",
       "43. 'CPKR'\n",
       "44. 'Average_reads'\n",
       "45. 'VMR'\n",
       "46. 'Max_reads'\n",
       "47. 'Singletons'\n",
       "48. 'Doubletons'\n",
       "49. 'qD'\n",
       "50. 'Sample_Coverage'\n",
       "51. 'observed_Richness'\n",
       "52. 'estimated_Richness'\n",
       "53. 'SE_Richeness'\n",
       "54. 'observed_Shannon'\n",
       "55. 'estimated_Shannon'\n",
       "56. 'SE_Shannon'\n",
       "57. 'observed_Simpson'\n",
       "58. 'estimated_Simpson'\n",
       "59. 'SE_Simpson'\n",
       "60. 'basename'\n",
       "61. 'file'\n",
       "62. 'Group'\n",
       "63. 'sampletype'\n",
       "64. 'log10shann'\n",
       "\n",
       "\n"
      ],
      "text/plain": [
       " [1] \"sample_id\"          \"Patient\"            \"cycle\"             \n",
       " [4] \"FOLD\"               \"ATC\"                \"Age\"               \n",
       " [7] \"Disease_type\"       \"TE_fold\"            \"CD3\"               \n",
       "[10] \"EM\"                 \"CM\"                 \"Naïve\"             \n",
       "[13] \"SCM\"                \"TE\"                 \"EM%\"               \n",
       "[16] \"CM%\"                \"Naïve%\"             \"SCM%\"              \n",
       "[19] \"TE%\"                \"Naïve/TE\"           \"N+CM+SCM/TE+EM\"    \n",
       "[22] \"PD-1\"               \"PDL1\"               \"LAG3\"              \n",
       "[25] \"TIM3\"               \"CTLA4\"              \"PD1%\"              \n",
       "[28] \"PDL1%\"              \"LAG3%\"              \"TIM3%\"             \n",
       "[31] \"CTLA4%\"             \"Any NCR\"            \"PD1 + LAG3 + TIM3\" \n",
       "[34] \"cancergroup\"        \"agegroup\"           \"foldgroup\"         \n",
       "[37] \"Remission\"          \"Relapse\"            \"Transplant\"        \n",
       "[40] \"CART\"               \"TRB\"                \"Reads\"             \n",
       "[43] \"CPKR\"               \"Average_reads\"      \"VMR\"               \n",
       "[46] \"Max_reads\"          \"Singletons\"         \"Doubletons\"        \n",
       "[49] \"qD\"                 \"Sample_Coverage\"    \"observed_Richness\" \n",
       "[52] \"estimated_Richness\" \"SE_Richeness\"       \"observed_Shannon\"  \n",
       "[55] \"estimated_Shannon\"  \"SE_Shannon\"         \"observed_Simpson\"  \n",
       "[58] \"estimated_Simpson\"  \"SE_Simpson\"         \"basename\"          \n",
       "[61] \"file\"               \"Group\"              \"sampletype\"        \n",
       "[64] \"log10shann\"        "
      ]
     },
     "metadata": {},
     "output_type": "display_data"
    }
   ],
   "source": [
    "colnames(pbmc)"
   ]
  },
  {
   "cell_type": "code",
   "execution_count": 96,
   "metadata": {
    "vscode": {
     "languageId": "r"
    }
   },
   "outputs": [],
   "source": [
    "# melt\n",
    "pbmc_m <- reshape2::melt(pbmc, id.vars = c(\"cancergroup\", \"cycle\"), measure.vars = c(\"PD1%\", \"LAG3%\", \"TIM3%\"))"
   ]
  },
  {
   "cell_type": "code",
   "execution_count": 97,
   "metadata": {
    "vscode": {
     "languageId": "r"
    }
   },
   "outputs": [],
   "source": [
    "pbmc_m_ncr <- pbmc_m\n",
    "pbmc_m_ncr$type <- \"Exhaustion markers (Flow cytometry)\""
   ]
  },
  {
   "attachments": {},
   "cell_type": "markdown",
   "metadata": {},
   "source": [
    "for now, remove those missed entries till confirmed by DB, then add back in:"
   ]
  },
  {
   "cell_type": "code",
   "execution_count": 98,
   "metadata": {
    "vscode": {
     "languageId": "r"
    }
   },
   "outputs": [],
   "source": [
    "pbmc_m_ncr <- pbmc_m_ncr[ which(pbmc_m_ncr$value <= 100),]"
   ]
  },
  {
   "cell_type": "code",
   "execution_count": 99,
   "metadata": {
    "vscode": {
     "languageId": "r"
    }
   },
   "outputs": [],
   "source": [
    "myp <- ggplot(pbmc_m_ncr, aes(x = value, y = cycle, fill = cancergroup)) +\n",
    "  geom_density_ridges(\n",
    "    alpha = 0.4, from = 0, to = 100,\n",
    "    scale = 1,\n",
    "    panel_scaling = TRUE,\n",
    "    quantile_lines = FALSE, size = 0.2,\n",
    "    jittered_points = TRUE, point_shape = \"|\", point_size = 3,\n",
    "    position = position_points_jitter(height = 0)\n",
    "  ) +\n",
    "  geom_point(data = subset(pbmc_m_ncr, cancergroup %in% c(\"Lymphoma\") & cycle %in% c(\"X04\", \"X05\")), aes(), shape = \"|\", size = 3) +\n",
    "  #theme_ridges(font_size = 13, grid = TRUE) +\n",
    "  facet_nested(cancergroup ~ type + variable, nest_line = element_line(linetype = 1), axes = \"all\", remove_labels = \"all\") +\n",
    "  theme(\n",
    "    panel.grid.minor = element_blank(),\n",
    "    panel.grid.major.y = element_blank(),\n",
    "    panel.grid.major.x = element_line(colour = \"#7f7f7f2a\"),\n",
    "    panel.background = element_blank(),\n",
    "    panel.spacing = unit(.5, \"lines\"),\n",
    "    #panel.border = element_rect(color = \"black\", fill = NA, size = 1),\n",
    "    panel.border = element_blank(),\n",
    "\n",
    "    axis.title = element_blank(),\n",
    "    axis.line = element_line(),\n",
    "\n",
    "    legend.position = \"none\",\n",
    "\n",
    "    strip.background = element_blank(),\n",
    "    strip.placement = \"outside\",\n",
    "    strip.text.y = element_blank(),\n",
    "    ggh4x.facet.nestline = element_line(colour = \"black\", linewidth = 0.3)\n",
    "  )\n"
   ]
  },
  {
   "cell_type": "code",
   "execution_count": 100,
   "metadata": {
    "vscode": {
     "languageId": "r"
    }
   },
   "outputs": [
    {
     "name": "stderr",
     "output_type": "stream",
     "text": [
      "Picking joint bandwidth of 4.62\n",
      "\n",
      "Picking joint bandwidth of 4.64\n",
      "\n",
      "Picking joint bandwidth of 4.73\n",
      "\n",
      "Picking joint bandwidth of 6.41\n",
      "\n",
      "Picking joint bandwidth of 4.46\n",
      "\n",
      "Picking joint bandwidth of 6.51\n",
      "\n",
      "Picking joint bandwidth of 10.3\n",
      "\n",
      "Picking joint bandwidth of 5.41\n",
      "\n",
      "Picking joint bandwidth of 10.9\n",
      "\n"
     ]
    },
    {
     "data": {
      "text/html": [
       "<strong>pdf:</strong> 2"
      ],
      "text/latex": [
       "\\textbf{pdf:} 2"
      ],
      "text/markdown": [
       "**pdf:** 2"
      ],
      "text/plain": [
       "pdf \n",
       "  2 "
      ]
     },
     "metadata": {},
     "output_type": "display_data"
    }
   ],
   "source": [
    "pdf(paste0(plotpath, \"NCR_overview.pdf\"), width = 6, height = 9)\n",
    "myp\n",
    "dev.off()"
   ]
  },
  {
   "attachments": {},
   "cell_type": "markdown",
   "metadata": {
    "vscode": {
     "languageId": "r"
    }
   },
   "source": [
    "stats"
   ]
  },
  {
   "cell_type": "code",
   "execution_count": 101,
   "metadata": {
    "vscode": {
     "languageId": "r"
    }
   },
   "outputs": [],
   "source": [
    "pbmc$cancergroup <- as.character(pbmc$cancergroup)"
   ]
  },
  {
   "cell_type": "code",
   "execution_count": 102,
   "metadata": {
    "vscode": {
     "languageId": "r"
    }
   },
   "outputs": [
    {
     "data": {
      "text/html": [
       "<style>\n",
       ".list-inline {list-style: none; margin:0; padding: 0}\n",
       ".list-inline>li {display: inline-block}\n",
       ".list-inline>li:not(:last-child)::after {content: \"\\00b7\"; padding: 0 .5ex}\n",
       "</style>\n",
       "<ol class=list-inline><li>'sample_id'</li><li>'Patient'</li><li>'cycle'</li><li>'FOLD'</li><li>'ATC'</li><li>'Age'</li><li>'Disease_type'</li><li>'TE_fold'</li><li>'CD3'</li><li>'EM'</li><li>'CM'</li><li>'Naïve'</li><li>'SCM'</li><li>'TE'</li><li>'EM%'</li><li>'CM%'</li><li>'Naïve%'</li><li>'SCM%'</li><li>'TE%'</li><li>'Naïve/TE'</li><li>'N+CM+SCM/TE+EM'</li><li>'PD-1'</li><li>'PDL1'</li><li>'LAG3'</li><li>'TIM3'</li><li>'CTLA4'</li><li>'PD1%'</li><li>'PDL1%'</li><li>'LAG3%'</li><li>'TIM3%'</li><li>'CTLA4%'</li><li>'Any NCR'</li><li>'PD1 + LAG3 + TIM3'</li><li>'cancergroup'</li><li>'agegroup'</li><li>'foldgroup'</li><li>'Remission'</li><li>'Relapse'</li><li>'Transplant'</li><li>'CART'</li><li>'TRB'</li><li>'Reads'</li><li>'CPKR'</li><li>'Average_reads'</li><li>'VMR'</li><li>'Max_reads'</li><li>'Singletons'</li><li>'Doubletons'</li><li>'qD'</li><li>'Sample_Coverage'</li><li>'observed_Richness'</li><li>'estimated_Richness'</li><li>'SE_Richeness'</li><li>'observed_Shannon'</li><li>'estimated_Shannon'</li><li>'SE_Shannon'</li><li>'observed_Simpson'</li><li>'estimated_Simpson'</li><li>'SE_Simpson'</li><li>'basename'</li><li>'file'</li><li>'Group'</li><li>'sampletype'</li><li>'log10shann'</li></ol>\n"
      ],
      "text/latex": [
       "\\begin{enumerate*}\n",
       "\\item 'sample\\_id'\n",
       "\\item 'Patient'\n",
       "\\item 'cycle'\n",
       "\\item 'FOLD'\n",
       "\\item 'ATC'\n",
       "\\item 'Age'\n",
       "\\item 'Disease\\_type'\n",
       "\\item 'TE\\_fold'\n",
       "\\item 'CD3'\n",
       "\\item 'EM'\n",
       "\\item 'CM'\n",
       "\\item 'Naïve'\n",
       "\\item 'SCM'\n",
       "\\item 'TE'\n",
       "\\item 'EM\\%'\n",
       "\\item 'CM\\%'\n",
       "\\item 'Naïve\\%'\n",
       "\\item 'SCM\\%'\n",
       "\\item 'TE\\%'\n",
       "\\item 'Naïve/TE'\n",
       "\\item 'N+CM+SCM/TE+EM'\n",
       "\\item 'PD-1'\n",
       "\\item 'PDL1'\n",
       "\\item 'LAG3'\n",
       "\\item 'TIM3'\n",
       "\\item 'CTLA4'\n",
       "\\item 'PD1\\%'\n",
       "\\item 'PDL1\\%'\n",
       "\\item 'LAG3\\%'\n",
       "\\item 'TIM3\\%'\n",
       "\\item 'CTLA4\\%'\n",
       "\\item 'Any NCR'\n",
       "\\item 'PD1 + LAG3 + TIM3'\n",
       "\\item 'cancergroup'\n",
       "\\item 'agegroup'\n",
       "\\item 'foldgroup'\n",
       "\\item 'Remission'\n",
       "\\item 'Relapse'\n",
       "\\item 'Transplant'\n",
       "\\item 'CART'\n",
       "\\item 'TRB'\n",
       "\\item 'Reads'\n",
       "\\item 'CPKR'\n",
       "\\item 'Average\\_reads'\n",
       "\\item 'VMR'\n",
       "\\item 'Max\\_reads'\n",
       "\\item 'Singletons'\n",
       "\\item 'Doubletons'\n",
       "\\item 'qD'\n",
       "\\item 'Sample\\_Coverage'\n",
       "\\item 'observed\\_Richness'\n",
       "\\item 'estimated\\_Richness'\n",
       "\\item 'SE\\_Richeness'\n",
       "\\item 'observed\\_Shannon'\n",
       "\\item 'estimated\\_Shannon'\n",
       "\\item 'SE\\_Shannon'\n",
       "\\item 'observed\\_Simpson'\n",
       "\\item 'estimated\\_Simpson'\n",
       "\\item 'SE\\_Simpson'\n",
       "\\item 'basename'\n",
       "\\item 'file'\n",
       "\\item 'Group'\n",
       "\\item 'sampletype'\n",
       "\\item 'log10shann'\n",
       "\\end{enumerate*}\n"
      ],
      "text/markdown": [
       "1. 'sample_id'\n",
       "2. 'Patient'\n",
       "3. 'cycle'\n",
       "4. 'FOLD'\n",
       "5. 'ATC'\n",
       "6. 'Age'\n",
       "7. 'Disease_type'\n",
       "8. 'TE_fold'\n",
       "9. 'CD3'\n",
       "10. 'EM'\n",
       "11. 'CM'\n",
       "12. 'Naïve'\n",
       "13. 'SCM'\n",
       "14. 'TE'\n",
       "15. 'EM%'\n",
       "16. 'CM%'\n",
       "17. 'Naïve%'\n",
       "18. 'SCM%'\n",
       "19. 'TE%'\n",
       "20. 'Naïve/TE'\n",
       "21. 'N+CM+SCM/TE+EM'\n",
       "22. 'PD-1'\n",
       "23. 'PDL1'\n",
       "24. 'LAG3'\n",
       "25. 'TIM3'\n",
       "26. 'CTLA4'\n",
       "27. 'PD1%'\n",
       "28. 'PDL1%'\n",
       "29. 'LAG3%'\n",
       "30. 'TIM3%'\n",
       "31. 'CTLA4%'\n",
       "32. 'Any NCR'\n",
       "33. 'PD1 + LAG3 + TIM3'\n",
       "34. 'cancergroup'\n",
       "35. 'agegroup'\n",
       "36. 'foldgroup'\n",
       "37. 'Remission'\n",
       "38. 'Relapse'\n",
       "39. 'Transplant'\n",
       "40. 'CART'\n",
       "41. 'TRB'\n",
       "42. 'Reads'\n",
       "43. 'CPKR'\n",
       "44. 'Average_reads'\n",
       "45. 'VMR'\n",
       "46. 'Max_reads'\n",
       "47. 'Singletons'\n",
       "48. 'Doubletons'\n",
       "49. 'qD'\n",
       "50. 'Sample_Coverage'\n",
       "51. 'observed_Richness'\n",
       "52. 'estimated_Richness'\n",
       "53. 'SE_Richeness'\n",
       "54. 'observed_Shannon'\n",
       "55. 'estimated_Shannon'\n",
       "56. 'SE_Shannon'\n",
       "57. 'observed_Simpson'\n",
       "58. 'estimated_Simpson'\n",
       "59. 'SE_Simpson'\n",
       "60. 'basename'\n",
       "61. 'file'\n",
       "62. 'Group'\n",
       "63. 'sampletype'\n",
       "64. 'log10shann'\n",
       "\n",
       "\n"
      ],
      "text/plain": [
       " [1] \"sample_id\"          \"Patient\"            \"cycle\"             \n",
       " [4] \"FOLD\"               \"ATC\"                \"Age\"               \n",
       " [7] \"Disease_type\"       \"TE_fold\"            \"CD3\"               \n",
       "[10] \"EM\"                 \"CM\"                 \"Naïve\"             \n",
       "[13] \"SCM\"                \"TE\"                 \"EM%\"               \n",
       "[16] \"CM%\"                \"Naïve%\"             \"SCM%\"              \n",
       "[19] \"TE%\"                \"Naïve/TE\"           \"N+CM+SCM/TE+EM\"    \n",
       "[22] \"PD-1\"               \"PDL1\"               \"LAG3\"              \n",
       "[25] \"TIM3\"               \"CTLA4\"              \"PD1%\"              \n",
       "[28] \"PDL1%\"              \"LAG3%\"              \"TIM3%\"             \n",
       "[31] \"CTLA4%\"             \"Any NCR\"            \"PD1 + LAG3 + TIM3\" \n",
       "[34] \"cancergroup\"        \"agegroup\"           \"foldgroup\"         \n",
       "[37] \"Remission\"          \"Relapse\"            \"Transplant\"        \n",
       "[40] \"CART\"               \"TRB\"                \"Reads\"             \n",
       "[43] \"CPKR\"               \"Average_reads\"      \"VMR\"               \n",
       "[46] \"Max_reads\"          \"Singletons\"         \"Doubletons\"        \n",
       "[49] \"qD\"                 \"Sample_Coverage\"    \"observed_Richness\" \n",
       "[52] \"estimated_Richness\" \"SE_Richeness\"       \"observed_Shannon\"  \n",
       "[55] \"estimated_Shannon\"  \"SE_Shannon\"         \"observed_Simpson\"  \n",
       "[58] \"estimated_Simpson\"  \"SE_Simpson\"         \"basename\"          \n",
       "[61] \"file\"               \"Group\"              \"sampletype\"        \n",
       "[64] \"log10shann\"        "
      ]
     },
     "metadata": {},
     "output_type": "display_data"
    }
   ],
   "source": [
    "colnames(pbmc)"
   ]
  },
  {
   "cell_type": "code",
   "execution_count": 129,
   "metadata": {
    "vscode": {
     "languageId": "r"
    }
   },
   "outputs": [],
   "source": [
    "tmp <- pbmc[ pbmc$cycle == \"X01\", ]"
   ]
  },
  {
   "cell_type": "code",
   "execution_count": 134,
   "metadata": {
    "vscode": {
     "languageId": "r"
    }
   },
   "outputs": [
    {
     "data": {
      "text/plain": [
       "$Leukemia\n",
       "   Min. 1st Qu.  Median    Mean 3rd Qu.    Max.    NA's \n",
       " 0.6279  2.0488  4.2779  7.2807 10.9205 21.4610       2 \n",
       "\n",
       "$Lymphoma\n",
       "   Min. 1st Qu.  Median    Mean 3rd Qu.    Max. \n",
       "  13.18   16.84   24.05   38.20   30.10  152.22 \n",
       "\n",
       "$`Solid tumors`\n",
       "   Min. 1st Qu.  Median    Mean 3rd Qu.    Max. \n",
       " 0.7637  5.1805  9.4737 11.2125 12.5997 47.6662 \n"
      ]
     },
     "metadata": {},
     "output_type": "display_data"
    }
   ],
   "source": [
    "tapply(tmp$`TIM3%`, tmp$cancergroup, summary)"
   ]
  },
  {
   "cell_type": "code",
   "execution_count": 135,
   "metadata": {
    "vscode": {
     "languageId": "r"
    }
   },
   "outputs": [
    {
     "data": {
      "text/plain": [
       "\n",
       "\tExact two-sample Kolmogorov-Smirnov test\n",
       "\n",
       "data:  tmp[[mytest]][which(tmp$cancergroup == \"Solid tumors\")] and tmp[[mytest]][which(tmp$cancergroup == \"Lymphoma\")]\n",
       "D = 0.80952, p-value = 0.000294\n",
       "alternative hypothesis: two-sided\n"
      ]
     },
     "metadata": {},
     "output_type": "display_data"
    },
    {
     "data": {
      "text/plain": [
       "\n",
       "\tExact two-sample Kolmogorov-Smirnov test\n",
       "\n",
       "data:  tmp[[mytest]][which(tmp$cancergroup == \"Solid tumors\")] and tmp[[mytest]][which(tmp$cancergroup == \"Leukemia\")]\n",
       "D = 0.4411, p-value = 0.0287\n",
       "alternative hypothesis: two-sided\n"
      ]
     },
     "metadata": {},
     "output_type": "display_data"
    },
    {
     "data": {
      "text/plain": [
       "\n",
       "\tExact two-sample Kolmogorov-Smirnov test\n",
       "\n",
       "data:  tmp[[mytest]][which(tmp$cancergroup == \"Lymphoma\")] and tmp[[mytest]][which(tmp$cancergroup == \"Leukemia\")]\n",
       "D = 0.73684, p-value = 0.001746\n",
       "alternative hypothesis: two-sided\n"
      ]
     },
     "metadata": {},
     "output_type": "display_data"
    }
   ],
   "source": [
    "mytest <- \"TIM3%\"\n",
    "ks.test(tmp[[mytest]][ which(tmp$cancergroup == \"Solid tumors\")], tmp[[mytest]][ which(tmp$cancergroup == \"Lymphoma\")])\n",
    "ks.test(tmp[[mytest]][ which(tmp$cancergroup == \"Solid tumors\")], tmp[[mytest]][ which(tmp$cancergroup == \"Leukemia\")])\n",
    "ks.test(tmp[[mytest]][ which(tmp$cancergroup == \"Lymphoma\")], tmp[[mytest]][ which(tmp$cancergroup == \"Leukemia\")])"
   ]
  },
  {
   "cell_type": "code",
   "execution_count": 160,
   "metadata": {
    "vscode": {
     "languageId": "r"
    }
   },
   "outputs": [],
   "source": [
    "tmp <- pbmc[ pbmc$cancergroup == \"Leukemia\", ]"
   ]
  },
  {
   "cell_type": "code",
   "execution_count": 162,
   "metadata": {
    "vscode": {
     "languageId": "r"
    }
   },
   "outputs": [
    {
     "data": {
      "text/plain": [
       "$X01\n",
       "   Min. 1st Qu.  Median    Mean 3rd Qu.    Max.    NA's \n",
       "  1.200   2.522   3.722   6.807  11.182  18.542       2 \n",
       "\n",
       "$X02\n",
       "   Min. 1st Qu.  Median    Mean 3rd Qu.    Max. \n",
       "  1.595   4.045   8.158  10.002  13.783  24.611 \n",
       "\n",
       "$X03\n",
       "   Min. 1st Qu.  Median    Mean 3rd Qu.    Max. \n",
       "  1.644   2.907   5.578  14.770  26.753  48.999 \n",
       "\n",
       "$X04\n",
       "   Min. 1st Qu.  Median    Mean 3rd Qu.    Max. \n",
       " 0.6907  5.8796 12.6514 17.1606 17.1088 60.8054 \n",
       "\n",
       "$X05\n",
       "   Min. 1st Qu.  Median    Mean 3rd Qu.    Max. \n",
       "  5.103   7.199   8.237  13.443  10.245  41.314 \n"
      ]
     },
     "metadata": {},
     "output_type": "display_data"
    }
   ],
   "source": [
    "tapply(tmp$`LAG3%`, tmp$cycle, summary)"
   ]
  },
  {
   "cell_type": "code",
   "execution_count": 163,
   "metadata": {
    "vscode": {
     "languageId": "r"
    }
   },
   "outputs": [
    {
     "data": {
      "text/plain": [
       "\n",
       "\tExact two-sample Kolmogorov-Smirnov test\n",
       "\n",
       "data:  tmp[[mytest]][which(tmp$cycle == \"X01\")] and tmp[[mytest]][which(tmp$cycle == \"X02\")]\n",
       "D = 0.28618, p-value = 0.389\n",
       "alternative hypothesis: two-sided\n"
      ]
     },
     "metadata": {},
     "output_type": "display_data"
    },
    {
     "data": {
      "text/plain": [
       "\n",
       "\tExact two-sample Kolmogorov-Smirnov test\n",
       "\n",
       "data:  tmp[[mytest]][which(tmp$cycle == \"X01\")] and tmp[[mytest]][which(tmp$cycle == \"X03\")]\n",
       "D = 0.28571, p-value = 0.435\n",
       "alternative hypothesis: two-sided\n"
      ]
     },
     "metadata": {},
     "output_type": "display_data"
    },
    {
     "data": {
      "text/plain": [
       "\n",
       "\tExact two-sample Kolmogorov-Smirnov test\n",
       "\n",
       "data:  tmp[[mytest]][which(tmp$cycle == \"X01\")] and tmp[[mytest]][which(tmp$cycle == \"X04\")]\n",
       "D = 0.41353, p-value = 0.2734\n",
       "alternative hypothesis: two-sided\n"
      ]
     },
     "metadata": {},
     "output_type": "display_data"
    },
    {
     "data": {
      "text/plain": [
       "\n",
       "\tExact two-sample Kolmogorov-Smirnov test\n",
       "\n",
       "data:  tmp[[mytest]][which(tmp$cycle == \"X01\")] and tmp[[mytest]][which(tmp$cycle == \"X05\")]\n",
       "D = 0.63158, p-value = 0.02839\n",
       "alternative hypothesis: two-sided\n"
      ]
     },
     "metadata": {},
     "output_type": "display_data"
    },
    {
     "data": {
      "text/plain": [
       "\n",
       "\tExact two-sample Kolmogorov-Smirnov test\n",
       "\n",
       "data:  tmp[[mytest]][which(tmp$cycle == \"X02\")] and tmp[[mytest]][which(tmp$cycle == \"X03\")]\n",
       "D = 0.28571, p-value = 0.4954\n",
       "alternative hypothesis: two-sided\n"
      ]
     },
     "metadata": {},
     "output_type": "display_data"
    },
    {
     "data": {
      "text/plain": [
       "\n",
       "\tExact two-sample Kolmogorov-Smirnov test\n",
       "\n",
       "data:  tmp[[mytest]][which(tmp$cycle == \"X02\")] and tmp[[mytest]][which(tmp$cycle == \"X04\")]\n",
       "D = 0.25893, p-value = 0.8019\n",
       "alternative hypothesis: two-sided\n"
      ]
     },
     "metadata": {},
     "output_type": "display_data"
    },
    {
     "data": {
      "text/plain": [
       "\n",
       "\tExact two-sample Kolmogorov-Smirnov test\n",
       "\n",
       "data:  tmp[[mytest]][which(tmp$cycle == \"X02\")] and tmp[[mytest]][which(tmp$cycle == \"X05\")]\n",
       "D = 0.375, p-value = 0.483\n",
       "alternative hypothesis: two-sided\n"
      ]
     },
     "metadata": {},
     "output_type": "display_data"
    },
    {
     "data": {
      "text/plain": [
       "\n",
       "\tExact two-sample Kolmogorov-Smirnov test\n",
       "\n",
       "data:  tmp[[mytest]][which(tmp$cycle == \"X03\")] and tmp[[mytest]][which(tmp$cycle == \"X04\")]\n",
       "D = 0.35714, p-value = 0.5699\n",
       "alternative hypothesis: two-sided\n"
      ]
     },
     "metadata": {},
     "output_type": "display_data"
    },
    {
     "data": {
      "text/plain": [
       "\n",
       "\tExact two-sample Kolmogorov-Smirnov test\n",
       "\n",
       "data:  tmp[[mytest]][which(tmp$cycle == \"X03\")] and tmp[[mytest]][which(tmp$cycle == \"X05\")]\n",
       "D = 0.47619, p-value = 0.2268\n",
       "alternative hypothesis: two-sided\n"
      ]
     },
     "metadata": {},
     "output_type": "display_data"
    },
    {
     "data": {
      "text/plain": [
       "\n",
       "\tExact two-sample Kolmogorov-Smirnov test\n",
       "\n",
       "data:  tmp[[mytest]][which(tmp$cycle == \"X04\")] and tmp[[mytest]][which(tmp$cycle == \"X05\")]\n",
       "D = 0.40476, p-value = 0.528\n",
       "alternative hypothesis: two-sided\n"
      ]
     },
     "metadata": {},
     "output_type": "display_data"
    }
   ],
   "source": [
    "mytest <- \"LAG3%\"\n",
    "ks.test(tmp[[mytest]][ which(tmp$cycle == \"X01\")], tmp[[mytest]][ which(tmp$cycle == \"X02\")])\n",
    "ks.test(tmp[[mytest]][ which(tmp$cycle == \"X01\")], tmp[[mytest]][ which(tmp$cycle == \"X03\")])\n",
    "ks.test(tmp[[mytest]][ which(tmp$cycle == \"X01\")], tmp[[mytest]][ which(tmp$cycle == \"X04\")])\n",
    "ks.test(tmp[[mytest]][ which(tmp$cycle == \"X01\")], tmp[[mytest]][ which(tmp$cycle == \"X05\")])\n",
    "ks.test(tmp[[mytest]][ which(tmp$cycle == \"X02\")], tmp[[mytest]][ which(tmp$cycle == \"X03\")])\n",
    "ks.test(tmp[[mytest]][ which(tmp$cycle == \"X02\")], tmp[[mytest]][ which(tmp$cycle == \"X04\")])\n",
    "ks.test(tmp[[mytest]][ which(tmp$cycle == \"X02\")], tmp[[mytest]][ which(tmp$cycle == \"X05\")])\n",
    "ks.test(tmp[[mytest]][ which(tmp$cycle == \"X03\")], tmp[[mytest]][ which(tmp$cycle == \"X04\")])\n",
    "ks.test(tmp[[mytest]][ which(tmp$cycle == \"X03\")], tmp[[mytest]][ which(tmp$cycle == \"X05\")])\n",
    "ks.test(tmp[[mytest]][ which(tmp$cycle == \"X04\")], tmp[[mytest]][ which(tmp$cycle == \"X05\")])"
   ]
  },
  {
   "cell_type": "code",
   "execution_count": null,
   "metadata": {
    "vscode": {
     "languageId": "r"
    }
   },
   "outputs": [],
   "source": []
  },
  {
   "cell_type": "code",
   "execution_count": null,
   "metadata": {
    "vscode": {
     "languageId": "r"
    }
   },
   "outputs": [],
   "source": []
  },
  {
   "cell_type": "code",
   "execution_count": null,
   "metadata": {
    "vscode": {
     "languageId": "r"
    }
   },
   "outputs": [],
   "source": []
  }
 ],
 "metadata": {
  "kernelspec": {
   "display_name": "R 4.0",
   "language": "R",
   "name": "ir40"
  },
  "language_info": {
   "codemirror_mode": "r",
   "file_extension": ".r",
   "mimetype": "text/x-r-source",
   "name": "R",
   "pygments_lexer": "r",
   "version": "4.2.2"
  },
  "toc": {
   "base_numbering": 1,
   "nav_menu": {},
   "number_sections": false,
   "sideBar": true,
   "skip_h1_title": false,
   "title_cell": "Table of Contents",
   "title_sidebar": "Contents",
   "toc_cell": true,
   "toc_position": {
    "height": "calc(100% - 180px)",
    "left": "10px",
    "top": "150px",
    "width": "186.15px"
   },
   "toc_section_display": true,
   "toc_window_display": true
  }
 },
 "nbformat": 4,
 "nbformat_minor": 2
}
