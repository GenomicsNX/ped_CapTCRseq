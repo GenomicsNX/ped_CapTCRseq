{
 "cells": [
  {
   "cell_type": "markdown",
   "metadata": {},
   "source": [
    "# Dependencies"
   ]
  },
  {
   "cell_type": "code",
   "execution_count": 1,
   "metadata": {
    "vscode": {
     "languageId": "r"
    }
   },
   "outputs": [],
   "source": [
    "library(ggplot2)"
   ]
  },
  {
   "cell_type": "markdown",
   "metadata": {},
   "source": [
    "# Functions"
   ]
  },
  {
   "cell_type": "code",
   "execution_count": 2,
   "metadata": {
    "vscode": {
     "languageId": "r"
    }
   },
   "outputs": [],
   "source": [
    "histp <- function(df, var){\n",
    "    myp <- ggplot(data = df, aes(x = eval(parse(text = var)))) + \n",
    "    geom_histogram() + myplot + myaxis + labs(x = var)\n",
    "    return(myp)\n",
    "}"
   ]
  },
  {
   "cell_type": "code",
   "execution_count": 3,
   "metadata": {
    "vscode": {
     "languageId": "r"
    }
   },
   "outputs": [],
   "source": [
    "source(\"/Users/anabbi/git/ped_CapTCRseq/R/ggplot2_theme.R\")\n",
    "source(\"/Users/anabbi/git/ped_CapTCRseq/R/color_schemes.R\")"
   ]
  },
  {
   "cell_type": "markdown",
   "metadata": {},
   "source": [
    "# Paths"
   ]
  },
  {
   "cell_type": "code",
   "execution_count": 4,
   "metadata": {
    "vscode": {
     "languageId": "r"
    }
   },
   "outputs": [],
   "source": [
    "datapath <- \"/Users/anabbi/OneDrive - UHN/Documents/INTERCEPT/Data/\"\n",
    "plotpath <- \"/Users/anabbi/OneDrive - UHN/Documents/INTERCEPT/Plots/\"\n",
    "manifestpath <- \"/Users/anabbi/OneDrive - UHN/Documents/INTERCEPT/Manifests/\"\n",
    "\n",
    "gitpath <- \"/Users/anabbi/git/ped_CapTCRseq/\""
   ]
  },
  {
   "cell_type": "markdown",
   "metadata": {},
   "source": [
    "# Main"
   ]
  },
  {
   "cell_type": "code",
   "execution_count": 5,
   "metadata": {
    "vscode": {
     "languageId": "r"
    }
   },
   "outputs": [],
   "source": [
    "metadata <- read.csv(file = paste0(datapath, \"INT_metadata_flow.csv\"), \n",
    "                     header = T, stringsAsFactors = F, colClasses = c(\"cycle\" = \"character\"))"
   ]
  },
  {
   "cell_type": "code",
   "execution_count": 6,
   "metadata": {
    "vscode": {
     "languageId": "r"
    }
   },
   "outputs": [
    {
     "data": {
      "text/html": [
       "<table class=\"dataframe\">\n",
       "<caption>A data.frame: 6 × 35</caption>\n",
       "<thead>\n",
       "\t<tr><th></th><th scope=col>Patient</th><th scope=col>cycle</th><th scope=col>FOLD</th><th scope=col>ATC</th><th scope=col>Age</th><th scope=col>Disease_type</th><th scope=col>TE_fold</th><th scope=col>Pass</th><th scope=col>CD3</th><th scope=col>EM</th><th scope=col>⋯</th><th scope=col>CTLA4</th><th scope=col>PD1.</th><th scope=col>PDL1.</th><th scope=col>LAG3.</th><th scope=col>TIM3.</th><th scope=col>CTLA4.</th><th scope=col>Any.NCR</th><th scope=col>PD1...LAG3...TIM3</th><th scope=col>cancergroup</th><th scope=col>sample_id</th></tr>\n",
       "\t<tr><th></th><th scope=col>&lt;chr&gt;</th><th scope=col>&lt;chr&gt;</th><th scope=col>&lt;dbl&gt;</th><th scope=col>&lt;dbl&gt;</th><th scope=col>&lt;dbl&gt;</th><th scope=col>&lt;chr&gt;</th><th scope=col>&lt;chr&gt;</th><th scope=col>&lt;lgl&gt;</th><th scope=col>&lt;int&gt;</th><th scope=col>&lt;int&gt;</th><th scope=col>⋯</th><th scope=col>&lt;int&gt;</th><th scope=col>&lt;dbl&gt;</th><th scope=col>&lt;dbl&gt;</th><th scope=col>&lt;dbl&gt;</th><th scope=col>&lt;dbl&gt;</th><th scope=col>&lt;dbl&gt;</th><th scope=col>&lt;dbl&gt;</th><th scope=col>&lt;dbl&gt;</th><th scope=col>&lt;chr&gt;</th><th scope=col>&lt;chr&gt;</th></tr>\n",
       "</thead>\n",
       "<tbody>\n",
       "\t<tr><th scope=row>1</th><td>CHP_320</td><td>01</td><td> 8.9</td><td>0</td><td> 6</td><td>AML</td><td>8.9 </td><td>NA</td><td>0</td><td>NA</td><td>⋯</td><td>NA</td><td>NA</td><td>NA</td><td>NA</td><td>NA</td><td>NA</td><td>NA</td><td>NA</td><td>Leukemia</td><td>CHP_320_01</td></tr>\n",
       "\t<tr><th scope=row>2</th><td>CHP_320</td><td>02</td><td> 3.5</td><td>0</td><td> 6</td><td>AML</td><td>3.5 </td><td>NA</td><td>0</td><td>NA</td><td>⋯</td><td>NA</td><td>NA</td><td>NA</td><td>NA</td><td>NA</td><td>NA</td><td>NA</td><td>NA</td><td>Leukemia</td><td>CHP_320_02</td></tr>\n",
       "\t<tr><th scope=row>3</th><td>CHP_320</td><td>03</td><td>13.2</td><td>0</td><td> 6</td><td>AML</td><td>13.2</td><td>NA</td><td>0</td><td>NA</td><td>⋯</td><td>NA</td><td>NA</td><td>NA</td><td>NA</td><td>NA</td><td>NA</td><td>NA</td><td>NA</td><td>Leukemia</td><td>CHP_320_03</td></tr>\n",
       "\t<tr><th scope=row>4</th><td>CHP_320</td><td>04</td><td>  NA</td><td>0</td><td> 6</td><td>AML</td><td>x   </td><td>NA</td><td>0</td><td>NA</td><td>⋯</td><td>NA</td><td>NA</td><td>NA</td><td>NA</td><td>NA</td><td>NA</td><td>NA</td><td>NA</td><td>Leukemia</td><td>CHP_320_04</td></tr>\n",
       "\t<tr><th scope=row>5</th><td>CHP_320</td><td>05</td><td> 0.0</td><td>0</td><td> 6</td><td>AML</td><td>0   </td><td>NA</td><td>0</td><td>NA</td><td>⋯</td><td>NA</td><td>NA</td><td>NA</td><td>NA</td><td>NA</td><td>NA</td><td>NA</td><td>NA</td><td>Leukemia</td><td>CHP_320_05</td></tr>\n",
       "\t<tr><th scope=row>6</th><td>CHP_321</td><td>01</td><td> 0.0</td><td>0</td><td>16</td><td>HD </td><td>0   </td><td>NA</td><td>0</td><td>NA</td><td>⋯</td><td>NA</td><td>NA</td><td>NA</td><td>NA</td><td>NA</td><td>NA</td><td>NA</td><td>NA</td><td>Lymphoma</td><td>CHP_321_01</td></tr>\n",
       "</tbody>\n",
       "</table>\n"
      ],
      "text/latex": [
       "A data.frame: 6 × 35\n",
       "\\begin{tabular}{r|lllllllllllllllllllll}\n",
       "  & Patient & cycle & FOLD & ATC & Age & Disease\\_type & TE\\_fold & Pass & CD3 & EM & ⋯ & CTLA4 & PD1. & PDL1. & LAG3. & TIM3. & CTLA4. & Any.NCR & PD1...LAG3...TIM3 & cancergroup & sample\\_id\\\\\n",
       "  & <chr> & <chr> & <dbl> & <dbl> & <dbl> & <chr> & <chr> & <lgl> & <int> & <int> & ⋯ & <int> & <dbl> & <dbl> & <dbl> & <dbl> & <dbl> & <dbl> & <dbl> & <chr> & <chr>\\\\\n",
       "\\hline\n",
       "\t1 & CHP\\_320 & 01 &  8.9 & 0 &  6 & AML & 8.9  & NA & 0 & NA & ⋯ & NA & NA & NA & NA & NA & NA & NA & NA & Leukemia & CHP\\_320\\_01\\\\\n",
       "\t2 & CHP\\_320 & 02 &  3.5 & 0 &  6 & AML & 3.5  & NA & 0 & NA & ⋯ & NA & NA & NA & NA & NA & NA & NA & NA & Leukemia & CHP\\_320\\_02\\\\\n",
       "\t3 & CHP\\_320 & 03 & 13.2 & 0 &  6 & AML & 13.2 & NA & 0 & NA & ⋯ & NA & NA & NA & NA & NA & NA & NA & NA & Leukemia & CHP\\_320\\_03\\\\\n",
       "\t4 & CHP\\_320 & 04 &   NA & 0 &  6 & AML & x    & NA & 0 & NA & ⋯ & NA & NA & NA & NA & NA & NA & NA & NA & Leukemia & CHP\\_320\\_04\\\\\n",
       "\t5 & CHP\\_320 & 05 &  0.0 & 0 &  6 & AML & 0    & NA & 0 & NA & ⋯ & NA & NA & NA & NA & NA & NA & NA & NA & Leukemia & CHP\\_320\\_05\\\\\n",
       "\t6 & CHP\\_321 & 01 &  0.0 & 0 & 16 & HD  & 0    & NA & 0 & NA & ⋯ & NA & NA & NA & NA & NA & NA & NA & NA & Lymphoma & CHP\\_321\\_01\\\\\n",
       "\\end{tabular}\n"
      ],
      "text/markdown": [
       "\n",
       "A data.frame: 6 × 35\n",
       "\n",
       "| <!--/--> | Patient &lt;chr&gt; | cycle &lt;chr&gt; | FOLD &lt;dbl&gt; | ATC &lt;dbl&gt; | Age &lt;dbl&gt; | Disease_type &lt;chr&gt; | TE_fold &lt;chr&gt; | Pass &lt;lgl&gt; | CD3 &lt;int&gt; | EM &lt;int&gt; | ⋯ ⋯ | CTLA4 &lt;int&gt; | PD1. &lt;dbl&gt; | PDL1. &lt;dbl&gt; | LAG3. &lt;dbl&gt; | TIM3. &lt;dbl&gt; | CTLA4. &lt;dbl&gt; | Any.NCR &lt;dbl&gt; | PD1...LAG3...TIM3 &lt;dbl&gt; | cancergroup &lt;chr&gt; | sample_id &lt;chr&gt; |\n",
       "|---|---|---|---|---|---|---|---|---|---|---|---|---|---|---|---|---|---|---|---|---|---|\n",
       "| 1 | CHP_320 | 01 |  8.9 | 0 |  6 | AML | 8.9  | NA | 0 | NA | ⋯ | NA | NA | NA | NA | NA | NA | NA | NA | Leukemia | CHP_320_01 |\n",
       "| 2 | CHP_320 | 02 |  3.5 | 0 |  6 | AML | 3.5  | NA | 0 | NA | ⋯ | NA | NA | NA | NA | NA | NA | NA | NA | Leukemia | CHP_320_02 |\n",
       "| 3 | CHP_320 | 03 | 13.2 | 0 |  6 | AML | 13.2 | NA | 0 | NA | ⋯ | NA | NA | NA | NA | NA | NA | NA | NA | Leukemia | CHP_320_03 |\n",
       "| 4 | CHP_320 | 04 |   NA | 0 |  6 | AML | x    | NA | 0 | NA | ⋯ | NA | NA | NA | NA | NA | NA | NA | NA | Leukemia | CHP_320_04 |\n",
       "| 5 | CHP_320 | 05 |  0.0 | 0 |  6 | AML | 0    | NA | 0 | NA | ⋯ | NA | NA | NA | NA | NA | NA | NA | NA | Leukemia | CHP_320_05 |\n",
       "| 6 | CHP_321 | 01 |  0.0 | 0 | 16 | HD  | 0    | NA | 0 | NA | ⋯ | NA | NA | NA | NA | NA | NA | NA | NA | Lymphoma | CHP_321_01 |\n",
       "\n"
      ],
      "text/plain": [
       "  Patient cycle FOLD ATC Age Disease_type TE_fold Pass CD3 EM ⋯ CTLA4 PD1.\n",
       "1 CHP_320 01     8.9 0    6  AML          8.9     NA   0   NA ⋯ NA    NA  \n",
       "2 CHP_320 02     3.5 0    6  AML          3.5     NA   0   NA ⋯ NA    NA  \n",
       "3 CHP_320 03    13.2 0    6  AML          13.2    NA   0   NA ⋯ NA    NA  \n",
       "4 CHP_320 04      NA 0    6  AML          x       NA   0   NA ⋯ NA    NA  \n",
       "5 CHP_320 05     0.0 0    6  AML          0       NA   0   NA ⋯ NA    NA  \n",
       "6 CHP_321 01     0.0 0   16  HD           0       NA   0   NA ⋯ NA    NA  \n",
       "  PDL1. LAG3. TIM3. CTLA4. Any.NCR PD1...LAG3...TIM3 cancergroup sample_id \n",
       "1 NA    NA    NA    NA     NA      NA                Leukemia    CHP_320_01\n",
       "2 NA    NA    NA    NA     NA      NA                Leukemia    CHP_320_02\n",
       "3 NA    NA    NA    NA     NA      NA                Leukemia    CHP_320_03\n",
       "4 NA    NA    NA    NA     NA      NA                Leukemia    CHP_320_04\n",
       "5 NA    NA    NA    NA     NA      NA                Leukemia    CHP_320_05\n",
       "6 NA    NA    NA    NA     NA      NA                Lymphoma    CHP_321_01"
      ]
     },
     "metadata": {},
     "output_type": "display_data"
    }
   ],
   "source": [
    "head(metadata)"
   ]
  },
  {
   "cell_type": "markdown",
   "metadata": {},
   "source": [
    "## TRB"
   ]
  },
  {
   "cell_type": "code",
   "execution_count": 7,
   "metadata": {
    "vscode": {
     "languageId": "r"
    }
   },
   "outputs": [],
   "source": [
    "divstats <- read.csv(paste0(datapath, \"capTCRseq/divstats_TRBCHP.csv\"), \n",
    "                     header = T, stringsAsFactors = F, row.names = 1)"
   ]
  },
  {
   "cell_type": "code",
   "execution_count": 8,
   "metadata": {
    "vscode": {
     "languageId": "r"
    }
   },
   "outputs": [
    {
     "data": {
      "text/html": [
       "<table class=\"dataframe\">\n",
       "<caption>A data.frame: 6 × 22</caption>\n",
       "<thead>\n",
       "\t<tr><th></th><th scope=col>TRB</th><th scope=col>Reads</th><th scope=col>CPKR</th><th scope=col>Average_reads</th><th scope=col>VMR</th><th scope=col>Max_reads</th><th scope=col>Singletons</th><th scope=col>Doubletons</th><th scope=col>qD</th><th scope=col>Sample_Coverage</th><th scope=col>⋯</th><th scope=col>SE_Richeness</th><th scope=col>observed_Shannon</th><th scope=col>estimated_Shannon</th><th scope=col>SE_Shannon</th><th scope=col>observed_Simpson</th><th scope=col>estimated_Simpson</th><th scope=col>SE_Simpson</th><th scope=col>sample_id</th><th scope=col>file</th><th scope=col>basename</th></tr>\n",
       "\t<tr><th></th><th scope=col>&lt;int&gt;</th><th scope=col>&lt;int&gt;</th><th scope=col>&lt;dbl&gt;</th><th scope=col>&lt;dbl&gt;</th><th scope=col>&lt;dbl&gt;</th><th scope=col>&lt;int&gt;</th><th scope=col>&lt;int&gt;</th><th scope=col>&lt;int&gt;</th><th scope=col>&lt;dbl&gt;</th><th scope=col>&lt;dbl&gt;</th><th scope=col>⋯</th><th scope=col>&lt;dbl&gt;</th><th scope=col>&lt;dbl&gt;</th><th scope=col>&lt;dbl&gt;</th><th scope=col>&lt;dbl&gt;</th><th scope=col>&lt;dbl&gt;</th><th scope=col>&lt;dbl&gt;</th><th scope=col>&lt;dbl&gt;</th><th scope=col>&lt;chr&gt;</th><th scope=col>&lt;chr&gt;</th><th scope=col>&lt;chr&gt;</th></tr>\n",
       "</thead>\n",
       "<tbody>\n",
       "\t<tr><th scope=row>CHP_381-05_cfDNA</th><td>NA</td><td>NA</td><td>NA</td><td>NA</td><td>NA</td><td>NA</td><td>NA</td><td>NA</td><td>NA</td><td>NA</td><td>⋯</td><td>NA</td><td>NA</td><td>NA</td><td>NA</td><td>NA</td><td>NA</td><td>NA</td><td>CHP_381_05</td><td>NA</td><td>CHP_381-05_cfDNA   </td></tr>\n",
       "\t<tr><th scope=row>CHP_391-02_cfDNA</th><td>NA</td><td>NA</td><td>NA</td><td>NA</td><td>NA</td><td>NA</td><td>NA</td><td>NA</td><td>NA</td><td>NA</td><td>⋯</td><td>NA</td><td>NA</td><td>NA</td><td>NA</td><td>NA</td><td>NA</td><td>NA</td><td>CHP_391_02</td><td>NA</td><td>CHP_391-02_cfDNA   </td></tr>\n",
       "\t<tr><th scope=row>CHP_392-01_cfDNA</th><td>NA</td><td>NA</td><td>NA</td><td>NA</td><td>NA</td><td>NA</td><td>NA</td><td>NA</td><td>NA</td><td>NA</td><td>⋯</td><td>NA</td><td>NA</td><td>NA</td><td>NA</td><td>NA</td><td>NA</td><td>NA</td><td>CHP_392_01</td><td>NA</td><td>CHP_392-01_cfDNA   </td></tr>\n",
       "\t<tr><th scope=row>CHP_398-01_cfDNA</th><td>NA</td><td>NA</td><td>NA</td><td>NA</td><td>NA</td><td>NA</td><td>NA</td><td>NA</td><td>NA</td><td>NA</td><td>⋯</td><td>NA</td><td>NA</td><td>NA</td><td>NA</td><td>NA</td><td>NA</td><td>NA</td><td>CHP_398_01</td><td>NA</td><td>CHP_398-01_cfDNA   </td></tr>\n",
       "\t<tr><th scope=row>CHP_401-03_cfDNA</th><td>NA</td><td>NA</td><td>NA</td><td>NA</td><td>NA</td><td>NA</td><td>NA</td><td>NA</td><td>NA</td><td>NA</td><td>⋯</td><td>NA</td><td>NA</td><td>NA</td><td>NA</td><td>NA</td><td>NA</td><td>NA</td><td>CHP_401_03</td><td>NA</td><td>CHP_401-03_cfDNA   </td></tr>\n",
       "\t<tr><th scope=row>CHP_419-FFPE-DNA_S2</th><td>NA</td><td>NA</td><td>NA</td><td>NA</td><td>NA</td><td>NA</td><td>NA</td><td>NA</td><td>NA</td><td>NA</td><td>⋯</td><td>NA</td><td>NA</td><td>NA</td><td>NA</td><td>NA</td><td>NA</td><td>NA</td><td>CHP_419   </td><td>NA</td><td>CHP_419-FFPE-DNA_S2</td></tr>\n",
       "</tbody>\n",
       "</table>\n"
      ],
      "text/latex": [
       "A data.frame: 6 × 22\n",
       "\\begin{tabular}{r|lllllllllllllllllllll}\n",
       "  & TRB & Reads & CPKR & Average\\_reads & VMR & Max\\_reads & Singletons & Doubletons & qD & Sample\\_Coverage & ⋯ & SE\\_Richeness & observed\\_Shannon & estimated\\_Shannon & SE\\_Shannon & observed\\_Simpson & estimated\\_Simpson & SE\\_Simpson & sample\\_id & file & basename\\\\\n",
       "  & <int> & <int> & <dbl> & <dbl> & <dbl> & <int> & <int> & <int> & <dbl> & <dbl> & ⋯ & <dbl> & <dbl> & <dbl> & <dbl> & <dbl> & <dbl> & <dbl> & <chr> & <chr> & <chr>\\\\\n",
       "\\hline\n",
       "\tCHP\\_381-05\\_cfDNA & NA & NA & NA & NA & NA & NA & NA & NA & NA & NA & ⋯ & NA & NA & NA & NA & NA & NA & NA & CHP\\_381\\_05 & NA & CHP\\_381-05\\_cfDNA   \\\\\n",
       "\tCHP\\_391-02\\_cfDNA & NA & NA & NA & NA & NA & NA & NA & NA & NA & NA & ⋯ & NA & NA & NA & NA & NA & NA & NA & CHP\\_391\\_02 & NA & CHP\\_391-02\\_cfDNA   \\\\\n",
       "\tCHP\\_392-01\\_cfDNA & NA & NA & NA & NA & NA & NA & NA & NA & NA & NA & ⋯ & NA & NA & NA & NA & NA & NA & NA & CHP\\_392\\_01 & NA & CHP\\_392-01\\_cfDNA   \\\\\n",
       "\tCHP\\_398-01\\_cfDNA & NA & NA & NA & NA & NA & NA & NA & NA & NA & NA & ⋯ & NA & NA & NA & NA & NA & NA & NA & CHP\\_398\\_01 & NA & CHP\\_398-01\\_cfDNA   \\\\\n",
       "\tCHP\\_401-03\\_cfDNA & NA & NA & NA & NA & NA & NA & NA & NA & NA & NA & ⋯ & NA & NA & NA & NA & NA & NA & NA & CHP\\_401\\_03 & NA & CHP\\_401-03\\_cfDNA   \\\\\n",
       "\tCHP\\_419-FFPE-DNA\\_S2 & NA & NA & NA & NA & NA & NA & NA & NA & NA & NA & ⋯ & NA & NA & NA & NA & NA & NA & NA & CHP\\_419    & NA & CHP\\_419-FFPE-DNA\\_S2\\\\\n",
       "\\end{tabular}\n"
      ],
      "text/markdown": [
       "\n",
       "A data.frame: 6 × 22\n",
       "\n",
       "| <!--/--> | TRB &lt;int&gt; | Reads &lt;int&gt; | CPKR &lt;dbl&gt; | Average_reads &lt;dbl&gt; | VMR &lt;dbl&gt; | Max_reads &lt;int&gt; | Singletons &lt;int&gt; | Doubletons &lt;int&gt; | qD &lt;dbl&gt; | Sample_Coverage &lt;dbl&gt; | ⋯ ⋯ | SE_Richeness &lt;dbl&gt; | observed_Shannon &lt;dbl&gt; | estimated_Shannon &lt;dbl&gt; | SE_Shannon &lt;dbl&gt; | observed_Simpson &lt;dbl&gt; | estimated_Simpson &lt;dbl&gt; | SE_Simpson &lt;dbl&gt; | sample_id &lt;chr&gt; | file &lt;chr&gt; | basename &lt;chr&gt; |\n",
       "|---|---|---|---|---|---|---|---|---|---|---|---|---|---|---|---|---|---|---|---|---|---|\n",
       "| CHP_381-05_cfDNA | NA | NA | NA | NA | NA | NA | NA | NA | NA | NA | ⋯ | NA | NA | NA | NA | NA | NA | NA | CHP_381_05 | NA | CHP_381-05_cfDNA    |\n",
       "| CHP_391-02_cfDNA | NA | NA | NA | NA | NA | NA | NA | NA | NA | NA | ⋯ | NA | NA | NA | NA | NA | NA | NA | CHP_391_02 | NA | CHP_391-02_cfDNA    |\n",
       "| CHP_392-01_cfDNA | NA | NA | NA | NA | NA | NA | NA | NA | NA | NA | ⋯ | NA | NA | NA | NA | NA | NA | NA | CHP_392_01 | NA | CHP_392-01_cfDNA    |\n",
       "| CHP_398-01_cfDNA | NA | NA | NA | NA | NA | NA | NA | NA | NA | NA | ⋯ | NA | NA | NA | NA | NA | NA | NA | CHP_398_01 | NA | CHP_398-01_cfDNA    |\n",
       "| CHP_401-03_cfDNA | NA | NA | NA | NA | NA | NA | NA | NA | NA | NA | ⋯ | NA | NA | NA | NA | NA | NA | NA | CHP_401_03 | NA | CHP_401-03_cfDNA    |\n",
       "| CHP_419-FFPE-DNA_S2 | NA | NA | NA | NA | NA | NA | NA | NA | NA | NA | ⋯ | NA | NA | NA | NA | NA | NA | NA | CHP_419    | NA | CHP_419-FFPE-DNA_S2 |\n",
       "\n"
      ],
      "text/plain": [
       "                    TRB Reads CPKR Average_reads VMR Max_reads Singletons\n",
       "CHP_381-05_cfDNA    NA  NA    NA   NA            NA  NA        NA        \n",
       "CHP_391-02_cfDNA    NA  NA    NA   NA            NA  NA        NA        \n",
       "CHP_392-01_cfDNA    NA  NA    NA   NA            NA  NA        NA        \n",
       "CHP_398-01_cfDNA    NA  NA    NA   NA            NA  NA        NA        \n",
       "CHP_401-03_cfDNA    NA  NA    NA   NA            NA  NA        NA        \n",
       "CHP_419-FFPE-DNA_S2 NA  NA    NA   NA            NA  NA        NA        \n",
       "                    Doubletons qD Sample_Coverage ⋯ SE_Richeness\n",
       "CHP_381-05_cfDNA    NA         NA NA              ⋯ NA          \n",
       "CHP_391-02_cfDNA    NA         NA NA              ⋯ NA          \n",
       "CHP_392-01_cfDNA    NA         NA NA              ⋯ NA          \n",
       "CHP_398-01_cfDNA    NA         NA NA              ⋯ NA          \n",
       "CHP_401-03_cfDNA    NA         NA NA              ⋯ NA          \n",
       "CHP_419-FFPE-DNA_S2 NA         NA NA              ⋯ NA          \n",
       "                    observed_Shannon estimated_Shannon SE_Shannon\n",
       "CHP_381-05_cfDNA    NA               NA                NA        \n",
       "CHP_391-02_cfDNA    NA               NA                NA        \n",
       "CHP_392-01_cfDNA    NA               NA                NA        \n",
       "CHP_398-01_cfDNA    NA               NA                NA        \n",
       "CHP_401-03_cfDNA    NA               NA                NA        \n",
       "CHP_419-FFPE-DNA_S2 NA               NA                NA        \n",
       "                    observed_Simpson estimated_Simpson SE_Simpson sample_id \n",
       "CHP_381-05_cfDNA    NA               NA                NA         CHP_381_05\n",
       "CHP_391-02_cfDNA    NA               NA                NA         CHP_391_02\n",
       "CHP_392-01_cfDNA    NA               NA                NA         CHP_392_01\n",
       "CHP_398-01_cfDNA    NA               NA                NA         CHP_398_01\n",
       "CHP_401-03_cfDNA    NA               NA                NA         CHP_401_03\n",
       "CHP_419-FFPE-DNA_S2 NA               NA                NA         CHP_419   \n",
       "                    file basename           \n",
       "CHP_381-05_cfDNA    NA   CHP_381-05_cfDNA   \n",
       "CHP_391-02_cfDNA    NA   CHP_391-02_cfDNA   \n",
       "CHP_392-01_cfDNA    NA   CHP_392-01_cfDNA   \n",
       "CHP_398-01_cfDNA    NA   CHP_398-01_cfDNA   \n",
       "CHP_401-03_cfDNA    NA   CHP_401-03_cfDNA   \n",
       "CHP_419-FFPE-DNA_S2 NA   CHP_419-FFPE-DNA_S2"
      ]
     },
     "metadata": {},
     "output_type": "display_data"
    }
   ],
   "source": [
    "tail(divstats)"
   ]
  },
  {
   "cell_type": "code",
   "execution_count": 9,
   "metadata": {
    "vscode": {
     "languageId": "r"
    }
   },
   "outputs": [],
   "source": [
    "lfs <- divstats$sample_id[grepl(\"LFS\", divstats$sample_id)]\n",
    "normals <- divstats$sample_id[grepl(\"YO\", divstats$sample_id) | grepl(\"MO\", divstats$sample_id)]"
   ]
  },
  {
   "cell_type": "code",
   "execution_count": 10,
   "metadata": {
    "vscode": {
     "languageId": "r"
    }
   },
   "outputs": [],
   "source": [
    "#merge div file with metadata, keep all samples\n",
    "meta_div <- merge(metadata, divstats, by = \"sample_id\", all = TRUE)"
   ]
  },
  {
   "cell_type": "code",
   "execution_count": 11,
   "metadata": {
    "vscode": {
     "languageId": "r"
    }
   },
   "outputs": [
    {
     "data": {
      "text/html": [
       "<style>\n",
       ".list-inline {list-style: none; margin:0; padding: 0}\n",
       ".list-inline>li {display: inline-block}\n",
       ".list-inline>li:not(:last-child)::after {content: \"\\00b7\"; padding: 0 .5ex}\n",
       "</style>\n",
       "<ol class=list-inline><li>'sample_id'</li><li>'Patient'</li><li>'cycle'</li><li>'FOLD'</li><li>'ATC'</li><li>'Age'</li><li>'Disease_type'</li><li>'TE_fold'</li><li>'Pass'</li><li>'CD3'</li><li>'EM'</li><li>'CM'</li><li>'Naïve'</li><li>'SCM'</li><li>'TE'</li><li>'EM.'</li><li>'CM.'</li><li>'Naïve.'</li><li>'SCM.'</li><li>'TE.'</li><li>'Naïve.TE'</li><li>'N.CM.SCM.TE.EM'</li><li>'PD.1'</li><li>'PDL1'</li><li>'LAG3'</li><li>'TIM3'</li><li>'CTLA4'</li><li>'PD1.'</li><li>'PDL1.'</li><li>'LAG3.'</li><li>'TIM3.'</li><li>'CTLA4.'</li><li>'Any.NCR'</li><li>'PD1...LAG3...TIM3'</li><li>'cancergroup'</li><li>'TRB'</li><li>'Reads'</li><li>'CPKR'</li><li>'Average_reads'</li><li>'VMR'</li><li>'Max_reads'</li><li>'Singletons'</li><li>'Doubletons'</li><li>'qD'</li><li>'Sample_Coverage'</li><li>'observed_Richness'</li><li>'estimated_Richness'</li><li>'SE_Richeness'</li><li>'observed_Shannon'</li><li>'estimated_Shannon'</li><li>'SE_Shannon'</li><li>'observed_Simpson'</li><li>'estimated_Simpson'</li><li>'SE_Simpson'</li><li>'file'</li><li>'basename'</li></ol>\n"
      ],
      "text/latex": [
       "\\begin{enumerate*}\n",
       "\\item 'sample\\_id'\n",
       "\\item 'Patient'\n",
       "\\item 'cycle'\n",
       "\\item 'FOLD'\n",
       "\\item 'ATC'\n",
       "\\item 'Age'\n",
       "\\item 'Disease\\_type'\n",
       "\\item 'TE\\_fold'\n",
       "\\item 'Pass'\n",
       "\\item 'CD3'\n",
       "\\item 'EM'\n",
       "\\item 'CM'\n",
       "\\item 'Naïve'\n",
       "\\item 'SCM'\n",
       "\\item 'TE'\n",
       "\\item 'EM.'\n",
       "\\item 'CM.'\n",
       "\\item 'Naïve.'\n",
       "\\item 'SCM.'\n",
       "\\item 'TE.'\n",
       "\\item 'Naïve.TE'\n",
       "\\item 'N.CM.SCM.TE.EM'\n",
       "\\item 'PD.1'\n",
       "\\item 'PDL1'\n",
       "\\item 'LAG3'\n",
       "\\item 'TIM3'\n",
       "\\item 'CTLA4'\n",
       "\\item 'PD1.'\n",
       "\\item 'PDL1.'\n",
       "\\item 'LAG3.'\n",
       "\\item 'TIM3.'\n",
       "\\item 'CTLA4.'\n",
       "\\item 'Any.NCR'\n",
       "\\item 'PD1...LAG3...TIM3'\n",
       "\\item 'cancergroup'\n",
       "\\item 'TRB'\n",
       "\\item 'Reads'\n",
       "\\item 'CPKR'\n",
       "\\item 'Average\\_reads'\n",
       "\\item 'VMR'\n",
       "\\item 'Max\\_reads'\n",
       "\\item 'Singletons'\n",
       "\\item 'Doubletons'\n",
       "\\item 'qD'\n",
       "\\item 'Sample\\_Coverage'\n",
       "\\item 'observed\\_Richness'\n",
       "\\item 'estimated\\_Richness'\n",
       "\\item 'SE\\_Richeness'\n",
       "\\item 'observed\\_Shannon'\n",
       "\\item 'estimated\\_Shannon'\n",
       "\\item 'SE\\_Shannon'\n",
       "\\item 'observed\\_Simpson'\n",
       "\\item 'estimated\\_Simpson'\n",
       "\\item 'SE\\_Simpson'\n",
       "\\item 'file'\n",
       "\\item 'basename'\n",
       "\\end{enumerate*}\n"
      ],
      "text/markdown": [
       "1. 'sample_id'\n",
       "2. 'Patient'\n",
       "3. 'cycle'\n",
       "4. 'FOLD'\n",
       "5. 'ATC'\n",
       "6. 'Age'\n",
       "7. 'Disease_type'\n",
       "8. 'TE_fold'\n",
       "9. 'Pass'\n",
       "10. 'CD3'\n",
       "11. 'EM'\n",
       "12. 'CM'\n",
       "13. 'Naïve'\n",
       "14. 'SCM'\n",
       "15. 'TE'\n",
       "16. 'EM.'\n",
       "17. 'CM.'\n",
       "18. 'Naïve.'\n",
       "19. 'SCM.'\n",
       "20. 'TE.'\n",
       "21. 'Naïve.TE'\n",
       "22. 'N.CM.SCM.TE.EM'\n",
       "23. 'PD.1'\n",
       "24. 'PDL1'\n",
       "25. 'LAG3'\n",
       "26. 'TIM3'\n",
       "27. 'CTLA4'\n",
       "28. 'PD1.'\n",
       "29. 'PDL1.'\n",
       "30. 'LAG3.'\n",
       "31. 'TIM3.'\n",
       "32. 'CTLA4.'\n",
       "33. 'Any.NCR'\n",
       "34. 'PD1...LAG3...TIM3'\n",
       "35. 'cancergroup'\n",
       "36. 'TRB'\n",
       "37. 'Reads'\n",
       "38. 'CPKR'\n",
       "39. 'Average_reads'\n",
       "40. 'VMR'\n",
       "41. 'Max_reads'\n",
       "42. 'Singletons'\n",
       "43. 'Doubletons'\n",
       "44. 'qD'\n",
       "45. 'Sample_Coverage'\n",
       "46. 'observed_Richness'\n",
       "47. 'estimated_Richness'\n",
       "48. 'SE_Richeness'\n",
       "49. 'observed_Shannon'\n",
       "50. 'estimated_Shannon'\n",
       "51. 'SE_Shannon'\n",
       "52. 'observed_Simpson'\n",
       "53. 'estimated_Simpson'\n",
       "54. 'SE_Simpson'\n",
       "55. 'file'\n",
       "56. 'basename'\n",
       "\n",
       "\n"
      ],
      "text/plain": [
       " [1] \"sample_id\"          \"Patient\"            \"cycle\"             \n",
       " [4] \"FOLD\"               \"ATC\"                \"Age\"               \n",
       " [7] \"Disease_type\"       \"TE_fold\"            \"Pass\"              \n",
       "[10] \"CD3\"                \"EM\"                 \"CM\"                \n",
       "[13] \"Naïve\"              \"SCM\"                \"TE\"                \n",
       "[16] \"EM.\"                \"CM.\"                \"Naïve.\"            \n",
       "[19] \"SCM.\"               \"TE.\"                \"Naïve.TE\"          \n",
       "[22] \"N.CM.SCM.TE.EM\"     \"PD.1\"               \"PDL1\"              \n",
       "[25] \"LAG3\"               \"TIM3\"               \"CTLA4\"             \n",
       "[28] \"PD1.\"               \"PDL1.\"              \"LAG3.\"             \n",
       "[31] \"TIM3.\"              \"CTLA4.\"             \"Any.NCR\"           \n",
       "[34] \"PD1...LAG3...TIM3\"  \"cancergroup\"        \"TRB\"               \n",
       "[37] \"Reads\"              \"CPKR\"               \"Average_reads\"     \n",
       "[40] \"VMR\"                \"Max_reads\"          \"Singletons\"        \n",
       "[43] \"Doubletons\"         \"qD\"                 \"Sample_Coverage\"   \n",
       "[46] \"observed_Richness\"  \"estimated_Richness\" \"SE_Richeness\"      \n",
       "[49] \"observed_Shannon\"   \"estimated_Shannon\"  \"SE_Shannon\"        \n",
       "[52] \"observed_Simpson\"   \"estimated_Simpson\"  \"SE_Simpson\"        \n",
       "[55] \"file\"               \"basename\"          "
      ]
     },
     "metadata": {},
     "output_type": "display_data"
    }
   ],
   "source": [
    "colnames(meta_div)"
   ]
  },
  {
   "cell_type": "code",
   "execution_count": 12,
   "metadata": {
    "vscode": {
     "languageId": "r"
    }
   },
   "outputs": [],
   "source": [
    "#create a group for LFS and non-LFS\n",
    "meta_div$Group <- NA\n",
    "meta_div$Group[grepl(\"LFS\", meta_div$sample_id)] <- \"LFS\"\n",
    "meta_div$Group[grepl(\"CHP\", meta_div$sample_id)] <- \"CHP\""
   ]
  },
  {
   "cell_type": "code",
   "execution_count": 13,
   "metadata": {
    "vscode": {
     "languageId": "r"
    }
   },
   "outputs": [
    {
     "data": {
      "text/html": [
       "<table class=\"dataframe\">\n",
       "<caption>A data.frame: 845 × 57</caption>\n",
       "<thead>\n",
       "\t<tr><th scope=col>sample_id</th><th scope=col>Patient</th><th scope=col>cycle</th><th scope=col>FOLD</th><th scope=col>ATC</th><th scope=col>Age</th><th scope=col>Disease_type</th><th scope=col>TE_fold</th><th scope=col>Pass</th><th scope=col>CD3</th><th scope=col>⋯</th><th scope=col>SE_Richeness</th><th scope=col>observed_Shannon</th><th scope=col>estimated_Shannon</th><th scope=col>SE_Shannon</th><th scope=col>observed_Simpson</th><th scope=col>estimated_Simpson</th><th scope=col>SE_Simpson</th><th scope=col>file</th><th scope=col>basename</th><th scope=col>Group</th></tr>\n",
       "\t<tr><th scope=col>&lt;chr&gt;</th><th scope=col>&lt;chr&gt;</th><th scope=col>&lt;chr&gt;</th><th scope=col>&lt;dbl&gt;</th><th scope=col>&lt;dbl&gt;</th><th scope=col>&lt;dbl&gt;</th><th scope=col>&lt;chr&gt;</th><th scope=col>&lt;chr&gt;</th><th scope=col>&lt;lgl&gt;</th><th scope=col>&lt;int&gt;</th><th scope=col>⋯</th><th scope=col>&lt;dbl&gt;</th><th scope=col>&lt;dbl&gt;</th><th scope=col>&lt;dbl&gt;</th><th scope=col>&lt;dbl&gt;</th><th scope=col>&lt;dbl&gt;</th><th scope=col>&lt;dbl&gt;</th><th scope=col>&lt;dbl&gt;</th><th scope=col>&lt;chr&gt;</th><th scope=col>&lt;chr&gt;</th><th scope=col>&lt;chr&gt;</th></tr>\n",
       "</thead>\n",
       "<tbody>\n",
       "\t<tr><td>CHP_10YO_M_00  </td><td>NA     </td><td>NA</td><td>  NA</td><td>     NA</td><td>NA</td><td>NA    </td><td>NA  </td><td>NA</td><td>NA</td><td>⋯</td><td> 7.241</td><td> 10.591</td><td> 10.601</td><td>0.074</td><td>  8.556</td><td>  8.561</td><td>0.097</td><td>batchNormal_16Apr2020/mixcr/clones/CLONES_TRBCHP_10YO-M_PBMC_DNA.txt           </td><td>CHP_10YO-M_PBMC_DNA  </td><td>CHP</td></tr>\n",
       "\t<tr><td>CHP_11YO_M_00  </td><td>NA     </td><td>NA</td><td>  NA</td><td>     NA</td><td>NA</td><td>NA    </td><td>NA  </td><td>NA</td><td>NA</td><td>⋯</td><td> 2.294</td><td> 11.607</td><td> 11.614</td><td>0.055</td><td> 10.406</td><td> 10.414</td><td>0.074</td><td>batchNormal_16Apr2020/mixcr/clones/CLONES_TRBCHP_11YO-M_PBMC_DNA.txt           </td><td>CHP_11YO-M_PBMC_DNA  </td><td>CHP</td></tr>\n",
       "\t<tr><td>CHP_15YO_F_A_00</td><td>NA     </td><td>NA</td><td>  NA</td><td>     NA</td><td>NA</td><td>NA    </td><td>NA  </td><td>NA</td><td>NA</td><td>⋯</td><td> 0.217</td><td>  8.982</td><td>  8.989</td><td>0.042</td><td>  8.560</td><td>  8.570</td><td>0.060</td><td>batchNormal_16Apr2020/mixcr/clones/CLONES_TRBCHP_15YO-F-A_PBMC_DNA.txt         </td><td>CHP_15YO-F-A_PBMC_DNA</td><td>CHP</td></tr>\n",
       "\t<tr><td>CHP_15YO_F_B_00</td><td>NA     </td><td>NA</td><td>  NA</td><td>     NA</td><td>NA</td><td>NA    </td><td>NA  </td><td>NA</td><td>NA</td><td>⋯</td><td> 0.000</td><td>  6.330</td><td>  6.334</td><td>0.039</td><td>  5.870</td><td>  5.876</td><td>0.059</td><td>batchNormal_16Apr2020/mixcr/clones/CLONES_TRBCHP_15YO-F-B_PBMC_DNA.txt         </td><td>CHP_15YO-F-B_PBMC_DNA</td><td>CHP</td></tr>\n",
       "\t<tr><td>CHP_15YO_M_00  </td><td>NA     </td><td>NA</td><td>  NA</td><td>     NA</td><td>NA</td><td>NA    </td><td>NA  </td><td>NA</td><td>NA</td><td>⋯</td><td> 0.218</td><td> 21.110</td><td> 21.120</td><td>0.040</td><td> 20.321</td><td> 20.339</td><td>0.079</td><td>batchNormal_16Apr2020/mixcr/clones/CLONES_TRBCHP_15YO-M_PBMC_DNA.txt           </td><td>CHP_15YO-M_PBMC_DNA  </td><td>CHP</td></tr>\n",
       "\t<tr><td>CHP_16YO_M_00  </td><td>NA     </td><td>NA</td><td>  NA</td><td>     NA</td><td>NA</td><td>NA    </td><td>NA  </td><td>NA</td><td>NA</td><td>⋯</td><td> 0.000</td><td>  3.972</td><td>  3.973</td><td>0.007</td><td>  3.944</td><td>  3.946</td><td>0.012</td><td>batchNormal_16Apr2020/mixcr/clones/CLONES_TRBCHP_16YO-M_PBMC_DNA.txt           </td><td>CHP_16YO-M_PBMC_DNA  </td><td>CHP</td></tr>\n",
       "\t<tr><td>CHP_1YO_M_A_00 </td><td>NA     </td><td>NA</td><td>  NA</td><td>     NA</td><td>NA</td><td>NA    </td><td>NA  </td><td>NA</td><td>NA</td><td>⋯</td><td> 2.328</td><td> 34.170</td><td> 34.191</td><td>0.131</td><td> 25.198</td><td> 25.213</td><td>0.217</td><td>batchNormal_16Apr2020/mixcr/clones/CLONES_TRBCHP_1YO-M-A_PBMC_DNA.txt          </td><td>CHP_1YO-M-A_PBMC_DNA </td><td>CHP</td></tr>\n",
       "\t<tr><td>CHP_1YO_M_B_00 </td><td>NA     </td><td>NA</td><td>  NA</td><td>     NA</td><td>NA</td><td>NA    </td><td>NA  </td><td>NA</td><td>NA</td><td>⋯</td><td> 0.217</td><td>  2.013</td><td>  2.014</td><td>0.010</td><td>  1.993</td><td>  1.994</td><td>0.006</td><td>batchNormal_16Apr2020/mixcr/clones/CLONES_TRBCHP_1YO-M-B_PBMC_DNA.txt          </td><td>CHP_1YO-M-B_PBMC_DNA </td><td>CHP</td></tr>\n",
       "\t<tr><td>CHP_2YO_M_00   </td><td>NA     </td><td>NA</td><td>  NA</td><td>     NA</td><td>NA</td><td>NA    </td><td>NA  </td><td>NA</td><td>NA</td><td>⋯</td><td> 0.002</td><td>  7.910</td><td>  7.916</td><td>0.053</td><td>  7.245</td><td>  7.253</td><td>0.059</td><td>batchNormal_16Apr2020/mixcr/clones/CLONES_TRBCHP_2YO-M_PBMC_DNA.txt            </td><td>CHP_2YO-M_PBMC_DNA   </td><td>CHP</td></tr>\n",
       "\t<tr><td>CHP_303_05     </td><td>NA     </td><td>NA</td><td>  NA</td><td>     NA</td><td>NA</td><td>NA    </td><td>NA  </td><td>NA</td><td>NA</td><td>⋯</td><td>24.235</td><td>191.496</td><td>194.714</td><td>1.481</td><td>158.597</td><td>161.725</td><td>2.010</td><td>batch4_19Aug2019/mixcr/clones/CLONES_TRBCHP_303-05-PBMC-DNA.txt                </td><td>CHP_303-05-PBMC-DNA  </td><td>CHP</td></tr>\n",
       "\t<tr><td>CHP_315_05     </td><td>NA     </td><td>NA</td><td>  NA</td><td>     NA</td><td>NA</td><td>NA    </td><td>NA  </td><td>NA</td><td>NA</td><td>⋯</td><td> 1.321</td><td> 15.470</td><td> 15.793</td><td>0.629</td><td>  9.026</td><td>  9.138</td><td>0.749</td><td>batch4_19Aug2019/mixcr/clones/CLONES_TRBCHP_315-05-PBMC-DNA.txt                </td><td>CHP_315-05-PBMC-DNA  </td><td>CHP</td></tr>\n",
       "\t<tr><td>CHP_315_05     </td><td>NA     </td><td>NA</td><td>  NA</td><td>     NA</td><td>NA</td><td>NA    </td><td>NA  </td><td>NA</td><td>NA</td><td>⋯</td><td> 0.000</td><td>  1.000</td><td>  1.000</td><td>0.000</td><td>  1.000</td><td>  1.000</td><td>0.000</td><td>remaining_batch_2_cfDNA_15April2021/mixcr/clones/CLONES_TRBCHP_315-05_cfDNA.txt</td><td>CHP_315-05_cfDNA     </td><td>CHP</td></tr>\n",
       "\t<tr><td>CHP_319_05     </td><td>NA     </td><td>NA</td><td>  NA</td><td>     NA</td><td>NA</td><td>NA    </td><td>NA  </td><td>NA</td><td>NA</td><td>⋯</td><td> 7.107</td><td> 11.878</td><td> 13.439</td><td>1.238</td><td> 10.248</td><td> 11.626</td><td>1.264</td><td>batch2_Aug62019/mixcr/clones/CLONES_TRBCHP_319-05-PBMC-DNA.txt                 </td><td>CHP_319-05-PBMC-DNA  </td><td>CHP</td></tr>\n",
       "\t<tr><td>CHP_320_01     </td><td>CHP_320</td><td>01</td><td> 8.9</td><td>   0.00</td><td> 6</td><td>AML   </td><td>8.9 </td><td>NA</td><td> 0</td><td>⋯</td><td>    NA</td><td>     NA</td><td>     NA</td><td>   NA</td><td>     NA</td><td>     NA</td><td>   NA</td><td>NA                                                                             </td><td>NA                   </td><td>CHP</td></tr>\n",
       "\t<tr><td>CHP_320_02     </td><td>CHP_320</td><td>02</td><td> 3.5</td><td>   0.00</td><td> 6</td><td>AML   </td><td>3.5 </td><td>NA</td><td> 0</td><td>⋯</td><td>    NA</td><td>     NA</td><td>     NA</td><td>   NA</td><td>     NA</td><td>     NA</td><td>   NA</td><td>NA                                                                             </td><td>NA                   </td><td>CHP</td></tr>\n",
       "\t<tr><td>CHP_320_03     </td><td>CHP_320</td><td>03</td><td>13.2</td><td>   0.00</td><td> 6</td><td>AML   </td><td>13.2</td><td>NA</td><td> 0</td><td>⋯</td><td>    NA</td><td>     NA</td><td>     NA</td><td>   NA</td><td>     NA</td><td>     NA</td><td>   NA</td><td>NA                                                                             </td><td>NA                   </td><td>CHP</td></tr>\n",
       "\t<tr><td>CHP_320_04     </td><td>CHP_320</td><td>04</td><td>  NA</td><td>   0.00</td><td> 6</td><td>AML   </td><td>x   </td><td>NA</td><td> 0</td><td>⋯</td><td>    NA</td><td>     NA</td><td>     NA</td><td>   NA</td><td>     NA</td><td>     NA</td><td>   NA</td><td>NA                                                                             </td><td>NA                   </td><td>CHP</td></tr>\n",
       "\t<tr><td>CHP_320_05     </td><td>CHP_320</td><td>05</td><td> 0.0</td><td>   0.00</td><td> 6</td><td>AML   </td><td>0   </td><td>NA</td><td> 0</td><td>⋯</td><td>    NA</td><td>     NA</td><td>     NA</td><td>   NA</td><td>     NA</td><td>     NA</td><td>   NA</td><td>NA                                                                             </td><td>NA                   </td><td>CHP</td></tr>\n",
       "\t<tr><td>CHP_321_01     </td><td>CHP_321</td><td>01</td><td> 0.0</td><td>   0.00</td><td>16</td><td>HD    </td><td>0   </td><td>NA</td><td> 0</td><td>⋯</td><td>    NA</td><td>     NA</td><td>     NA</td><td>   NA</td><td>     NA</td><td>     NA</td><td>   NA</td><td>NA                                                                             </td><td>NA                   </td><td>CHP</td></tr>\n",
       "\t<tr><td>CHP_321_02     </td><td>CHP_321</td><td>02</td><td> 0.0</td><td>   0.00</td><td>16</td><td>HD    </td><td>0   </td><td>NA</td><td> 0</td><td>⋯</td><td>    NA</td><td>     NA</td><td>     NA</td><td>   NA</td><td>     NA</td><td>     NA</td><td>   NA</td><td>NA                                                                             </td><td>NA                   </td><td>CHP</td></tr>\n",
       "\t<tr><td>CHP_321_03     </td><td>CHP_321</td><td>03</td><td> 0.0</td><td>   0.00</td><td>16</td><td>HD    </td><td>0   </td><td>NA</td><td> 0</td><td>⋯</td><td>    NA</td><td>     NA</td><td>     NA</td><td>   NA</td><td>     NA</td><td>     NA</td><td>   NA</td><td>NA                                                                             </td><td>NA                   </td><td>CHP</td></tr>\n",
       "\t<tr><td>CHP_321_04     </td><td>CHP_321</td><td>04</td><td> 0.0</td><td>   0.00</td><td>16</td><td>HD    </td><td>0   </td><td>NA</td><td> 0</td><td>⋯</td><td>    NA</td><td>     NA</td><td>     NA</td><td>   NA</td><td>     NA</td><td>     NA</td><td>   NA</td><td>NA                                                                             </td><td>NA                   </td><td>CHP</td></tr>\n",
       "\t<tr><td>CHP_321_05     </td><td>CHP_321</td><td>05</td><td> 0.0</td><td>   0.00</td><td>16</td><td>HD    </td><td>0   </td><td>NA</td><td> 0</td><td>⋯</td><td>    NA</td><td>     NA</td><td>     NA</td><td>   NA</td><td>     NA</td><td>     NA</td><td>   NA</td><td>NA                                                                             </td><td>NA                   </td><td>CHP</td></tr>\n",
       "\t<tr><td>CHP_322_01     </td><td>CHP_322</td><td>01</td><td> 1.1</td><td>   0.00</td><td>18</td><td>DLBCL </td><td>1.1 </td><td>NA</td><td> 0</td><td>⋯</td><td>    NA</td><td>     NA</td><td>     NA</td><td>   NA</td><td>     NA</td><td>     NA</td><td>   NA</td><td>NA                                                                             </td><td>NA                   </td><td>CHP</td></tr>\n",
       "\t<tr><td>CHP_322_02     </td><td>CHP_322</td><td>02</td><td> 0.4</td><td>   0.00</td><td>18</td><td>DLBCL </td><td>0.4 </td><td>NA</td><td> 0</td><td>⋯</td><td>    NA</td><td>     NA</td><td>     NA</td><td>   NA</td><td>     NA</td><td>     NA</td><td>   NA</td><td>NA                                                                             </td><td>NA                   </td><td>CHP</td></tr>\n",
       "\t<tr><td>CHP_322_03     </td><td>CHP_322</td><td>03</td><td> 4.3</td><td>   0.00</td><td>18</td><td>DLBCL </td><td>4.3 </td><td>NA</td><td> 0</td><td>⋯</td><td>    NA</td><td>     NA</td><td>     NA</td><td>   NA</td><td>     NA</td><td>     NA</td><td>   NA</td><td>NA                                                                             </td><td>NA                   </td><td>CHP</td></tr>\n",
       "\t<tr><td>CHP_322_04     </td><td>CHP_322</td><td>04</td><td> 4.7</td><td>   0.00</td><td>18</td><td>DLBCL </td><td>4.7 </td><td>NA</td><td> 0</td><td>⋯</td><td>    NA</td><td>     NA</td><td>     NA</td><td>   NA</td><td>     NA</td><td>     NA</td><td>   NA</td><td>NA                                                                             </td><td>NA                   </td><td>CHP</td></tr>\n",
       "\t<tr><td>CHP_322_05     </td><td>CHP_322</td><td>05</td><td> 1.0</td><td>   0.00</td><td>18</td><td>DLBCL </td><td>1   </td><td>NA</td><td> 0</td><td>⋯</td><td>    NA</td><td>     NA</td><td>     NA</td><td>   NA</td><td>     NA</td><td>     NA</td><td>   NA</td><td>NA                                                                             </td><td>NA                   </td><td>CHP</td></tr>\n",
       "\t<tr><td>CHP_323_01     </td><td>CHP_323</td><td>01</td><td> 0.0</td><td> 154.75</td><td> 1</td><td>HR ALL</td><td>0   </td><td>NA</td><td> 0</td><td>⋯</td><td>    NA</td><td>     NA</td><td>     NA</td><td>   NA</td><td>     NA</td><td>     NA</td><td>   NA</td><td>NA                                                                             </td><td>NA                   </td><td>CHP</td></tr>\n",
       "\t<tr><td>CHP_323_02     </td><td>CHP_323</td><td>02</td><td> 0.0</td><td>1397.28</td><td> 1</td><td>HR ALL</td><td>0   </td><td>NA</td><td> 0</td><td>⋯</td><td>    NA</td><td>     NA</td><td>     NA</td><td>   NA</td><td>     NA</td><td>     NA</td><td>   NA</td><td>NA                                                                             </td><td>NA                   </td><td>CHP</td></tr>\n",
       "\t<tr><td>⋮</td><td>⋮</td><td>⋮</td><td>⋮</td><td>⋮</td><td>⋮</td><td>⋮</td><td>⋮</td><td>⋮</td><td>⋮</td><td>⋱</td><td>⋮</td><td>⋮</td><td>⋮</td><td>⋮</td><td>⋮</td><td>⋮</td><td>⋮</td><td>⋮</td><td>⋮</td><td>⋮</td></tr>\n",
       "\t<tr><td>CHP_434_03     </td><td>CHP_434</td><td>03</td><td> 0</td><td> 0</td><td>12</td><td>HD </td><td>0 </td><td>NA</td><td> 0</td><td>⋯</td><td>    NA</td><td>     NA</td><td>     NA</td><td>   NA</td><td>     NA</td><td>     NA</td><td>   NA</td><td>NA                                                                 </td><td>NA                   </td><td>CHP</td></tr>\n",
       "\t<tr><td>CHP_434_04     </td><td>CHP_434</td><td>04</td><td> 0</td><td> 0</td><td>12</td><td>HD </td><td>0 </td><td>NA</td><td> 0</td><td>⋯</td><td>    NA</td><td>     NA</td><td>     NA</td><td>   NA</td><td>     NA</td><td>     NA</td><td>   NA</td><td>NA                                                                 </td><td>NA                   </td><td>CHP</td></tr>\n",
       "\t<tr><td>CHP_434_05     </td><td>CHP_434</td><td>05</td><td> 0</td><td> 0</td><td>12</td><td>HD </td><td>0 </td><td>NA</td><td> 0</td><td>⋯</td><td>    NA</td><td>     NA</td><td>     NA</td><td>   NA</td><td>     NA</td><td>     NA</td><td>   NA</td><td>NA                                                                 </td><td>NA                   </td><td>CHP</td></tr>\n",
       "\t<tr><td>CHP_435_01     </td><td>CHP_435</td><td>01</td><td> 0</td><td> 0</td><td> 0</td><td>CML</td><td>0 </td><td>NA</td><td> 0</td><td>⋯</td><td>    NA</td><td>     NA</td><td>     NA</td><td>   NA</td><td>     NA</td><td>     NA</td><td>   NA</td><td>NA                                                                 </td><td>NA                   </td><td>CHP</td></tr>\n",
       "\t<tr><td>CHP_435_02     </td><td>CHP_435</td><td>02</td><td> 0</td><td> 0</td><td> 0</td><td>CML</td><td>0 </td><td>NA</td><td> 0</td><td>⋯</td><td>    NA</td><td>     NA</td><td>     NA</td><td>   NA</td><td>     NA</td><td>     NA</td><td>   NA</td><td>NA                                                                 </td><td>NA                   </td><td>CHP</td></tr>\n",
       "\t<tr><td>CHP_435_03     </td><td>CHP_435</td><td>03</td><td> 0</td><td> 0</td><td> 0</td><td>CML</td><td>0 </td><td>NA</td><td> 0</td><td>⋯</td><td>    NA</td><td>     NA</td><td>     NA</td><td>   NA</td><td>     NA</td><td>     NA</td><td>   NA</td><td>NA                                                                 </td><td>NA                   </td><td>CHP</td></tr>\n",
       "\t<tr><td>CHP_435_04     </td><td>CHP_435</td><td>04</td><td> 0</td><td> 0</td><td> 0</td><td>CML</td><td>0 </td><td>NA</td><td> 0</td><td>⋯</td><td>    NA</td><td>     NA</td><td>     NA</td><td>   NA</td><td>     NA</td><td>     NA</td><td>   NA</td><td>NA                                                                 </td><td>NA                   </td><td>CHP</td></tr>\n",
       "\t<tr><td>CHP_435_05     </td><td>CHP_435</td><td>05</td><td> 0</td><td> 0</td><td> 0</td><td>CML</td><td>0 </td><td>NA</td><td> 0</td><td>⋯</td><td>    NA</td><td>     NA</td><td>     NA</td><td>   NA</td><td>     NA</td><td>     NA</td><td>   NA</td><td>NA                                                                 </td><td>NA                   </td><td>CHP</td></tr>\n",
       "\t<tr><td>CHP_436_01     </td><td>CHP_436</td><td>01</td><td> 0</td><td> 0</td><td>15</td><td>OS </td><td>0 </td><td>NA</td><td> 0</td><td>⋯</td><td>    NA</td><td>     NA</td><td>     NA</td><td>   NA</td><td>     NA</td><td>     NA</td><td>   NA</td><td>NA                                                                 </td><td>NA                   </td><td>CHP</td></tr>\n",
       "\t<tr><td>CHP_436_02     </td><td>CHP_436</td><td>02</td><td> 0</td><td> 0</td><td>15</td><td>OS </td><td>0 </td><td>NA</td><td> 0</td><td>⋯</td><td>    NA</td><td>     NA</td><td>     NA</td><td>   NA</td><td>     NA</td><td>     NA</td><td>   NA</td><td>NA                                                                 </td><td>NA                   </td><td>CHP</td></tr>\n",
       "\t<tr><td>CHP_436_03     </td><td>CHP_436</td><td>03</td><td> 0</td><td> 0</td><td>15</td><td>OS </td><td>0 </td><td>NA</td><td> 0</td><td>⋯</td><td>    NA</td><td>     NA</td><td>     NA</td><td>   NA</td><td>     NA</td><td>     NA</td><td>   NA</td><td>NA                                                                 </td><td>NA                   </td><td>CHP</td></tr>\n",
       "\t<tr><td>CHP_436_04     </td><td>CHP_436</td><td>04</td><td> 0</td><td> 0</td><td>15</td><td>OS </td><td>0 </td><td>NA</td><td> 0</td><td>⋯</td><td>    NA</td><td>     NA</td><td>     NA</td><td>   NA</td><td>     NA</td><td>     NA</td><td>   NA</td><td>NA                                                                 </td><td>NA                   </td><td>CHP</td></tr>\n",
       "\t<tr><td>CHP_436_05     </td><td>CHP_436</td><td>05</td><td> 0</td><td> 0</td><td>15</td><td>OS </td><td>0 </td><td>NA</td><td> 0</td><td>⋯</td><td>    NA</td><td>     NA</td><td>     NA</td><td>   NA</td><td>     NA</td><td>     NA</td><td>   NA</td><td>NA                                                                 </td><td>NA                   </td><td>CHP</td></tr>\n",
       "\t<tr><td>CHP_437_01     </td><td>CHP_437</td><td>01</td><td> 0</td><td> 0</td><td> 9</td><td>OS </td><td>0 </td><td>NA</td><td> 0</td><td>⋯</td><td>    NA</td><td>     NA</td><td>     NA</td><td>   NA</td><td>     NA</td><td>     NA</td><td>   NA</td><td>NA                                                                 </td><td>NA                   </td><td>CHP</td></tr>\n",
       "\t<tr><td>CHP_437_02     </td><td>CHP_437</td><td>02</td><td> 0</td><td> 0</td><td> 9</td><td>OS </td><td>0 </td><td>NA</td><td> 0</td><td>⋯</td><td>    NA</td><td>     NA</td><td>     NA</td><td>   NA</td><td>     NA</td><td>     NA</td><td>   NA</td><td>NA                                                                 </td><td>NA                   </td><td>CHP</td></tr>\n",
       "\t<tr><td>CHP_437_03     </td><td>CHP_437</td><td>03</td><td> 0</td><td> 0</td><td> 9</td><td>OS </td><td>0 </td><td>NA</td><td> 0</td><td>⋯</td><td>    NA</td><td>     NA</td><td>     NA</td><td>   NA</td><td>     NA</td><td>     NA</td><td>   NA</td><td>NA                                                                 </td><td>NA                   </td><td>CHP</td></tr>\n",
       "\t<tr><td>CHP_437_04     </td><td>CHP_437</td><td>04</td><td> 0</td><td> 0</td><td> 9</td><td>OS </td><td>0 </td><td>NA</td><td> 0</td><td>⋯</td><td>    NA</td><td>     NA</td><td>     NA</td><td>   NA</td><td>     NA</td><td>     NA</td><td>   NA</td><td>NA                                                                 </td><td>NA                   </td><td>CHP</td></tr>\n",
       "\t<tr><td>CHP_437_05     </td><td>CHP_437</td><td>05</td><td> 0</td><td> 0</td><td> 9</td><td>OS </td><td>0 </td><td>NA</td><td> 0</td><td>⋯</td><td>    NA</td><td>     NA</td><td>     NA</td><td>   NA</td><td>     NA</td><td>     NA</td><td>   NA</td><td>NA                                                                 </td><td>NA                   </td><td>CHP</td></tr>\n",
       "\t<tr><td>CHP_5YO_M_00   </td><td>NA     </td><td>NA</td><td>NA</td><td>NA</td><td>NA</td><td>NA </td><td>NA</td><td>NA</td><td>NA</td><td>⋯</td><td> 0.482</td><td>  2.095</td><td>  2.096</td><td>0.015</td><td>  2.008</td><td>  2.009</td><td>0.011</td><td>batchNormal_16Apr2020/mixcr/clones/CLONES_TRBCHP_5YO-M_PBMC_DNA.txt</td><td>CHP_5YO-M_PBMC_DNA   </td><td>CHP</td></tr>\n",
       "\t<tr><td>CHP_8MO_F_00   </td><td>NA     </td><td>NA</td><td>NA</td><td>NA</td><td>NA</td><td>NA </td><td>NA</td><td>NA</td><td>NA</td><td>⋯</td><td> 0.482</td><td> 13.505</td><td> 13.513</td><td>0.048</td><td> 12.313</td><td> 12.322</td><td>0.080</td><td>batchNormal_16Apr2020/mixcr/clones/CLONES_TRBCHP_8MO-F_PBMC_DNA.txt</td><td>CHP_8MO-F_PBMC_DNA   </td><td>CHP</td></tr>\n",
       "\t<tr><td>LFS_TCR_4535_00</td><td>NA     </td><td>NA</td><td>NA</td><td>NA</td><td>NA</td><td>NA </td><td>NA</td><td>NA</td><td>NA</td><td>⋯</td><td> 9.953</td><td>111.546</td><td>132.345</td><td>4.693</td><td> 87.466</td><td>104.069</td><td>5.950</td><td>batch2_Aug62019/mixcr/clones/CLONES_TRBLFS_TCR-4535-PBMC-DNA.txt   </td><td>LFS_TCR-4535-PBMC-DNA</td><td>LFS</td></tr>\n",
       "\t<tr><td>LFS_TCR_4570_00</td><td>NA     </td><td>NA</td><td>NA</td><td>NA</td><td>NA</td><td>NA </td><td>NA</td><td>NA</td><td>NA</td><td>⋯</td><td>31.101</td><td>111.026</td><td>113.748</td><td>1.872</td><td> 75.856</td><td> 77.286</td><td>2.093</td><td>batch2_Aug62019/mixcr/clones/CLONES_TRBLFS_TCR-4570-PBMC-DNA.txt   </td><td>LFS_TCR-4570-PBMC-DNA</td><td>LFS</td></tr>\n",
       "\t<tr><td>LFS_TCR_4602_00</td><td>NA     </td><td>NA</td><td>NA</td><td>NA</td><td>NA</td><td>NA </td><td>NA</td><td>NA</td><td>NA</td><td>⋯</td><td> 4.374</td><td>119.742</td><td>133.858</td><td>4.066</td><td> 87.139</td><td> 97.203</td><td>4.926</td><td>batch2_Aug62019/mixcr/clones/CLONES_TRBLFS_TCR-4602-PBMC-DNA.txt   </td><td>LFS_TCR-4602-PBMC-DNA</td><td>LFS</td></tr>\n",
       "\t<tr><td>LFS_TCR_4758_00</td><td>NA     </td><td>NA</td><td>NA</td><td>NA</td><td>NA</td><td>NA </td><td>NA</td><td>NA</td><td>NA</td><td>⋯</td><td>33.228</td><td>160.804</td><td>166.181</td><td>2.137</td><td>114.462</td><td>117.599</td><td>2.862</td><td>batch2_Aug62019/mixcr/clones/CLONES_TRBLFS_TCR-4758-PBMC-DNA.txt   </td><td>LFS_TCR-4758-PBMC-DNA</td><td>LFS</td></tr>\n",
       "\t<tr><td>LFS_TCR_4759_00</td><td>NA     </td><td>NA</td><td>NA</td><td>NA</td><td>NA</td><td>NA </td><td>NA</td><td>NA</td><td>NA</td><td>⋯</td><td> 5.452</td><td>135.493</td><td>158.592</td><td>4.687</td><td>110.989</td><td>134.832</td><td>6.804</td><td>batch2_Aug62019/mixcr/clones/CLONES_TRBLFS_TCR-4759-PBMC-DNA.txt   </td><td>LFS_TCR-4759-PBMC-DNA</td><td>LFS</td></tr>\n",
       "\t<tr><td>LFS_TCR_4783_00</td><td>NA     </td><td>NA</td><td>NA</td><td>NA</td><td>NA</td><td>NA </td><td>NA</td><td>NA</td><td>NA</td><td>⋯</td><td> 1.731</td><td> 43.751</td><td> 50.645</td><td>2.601</td><td> 36.238</td><td> 43.942</td><td>3.066</td><td>batch2_Aug62019/mixcr/clones/CLONES_TRBLFS_TCR-4783-PBMC-DNA.txt   </td><td>LFS_TCR-4783-PBMC-DNA</td><td>LFS</td></tr>\n",
       "\t<tr><td>LFS_TCR_4837_00</td><td>NA     </td><td>NA</td><td>NA</td><td>NA</td><td>NA</td><td>NA </td><td>NA</td><td>NA</td><td>NA</td><td>⋯</td><td> 7.215</td><td>136.482</td><td>156.898</td><td>4.880</td><td> 75.022</td><td> 81.973</td><td>7.744</td><td>batch2_Aug62019/mixcr/clones/CLONES_TRBLFS_TCR-4837-PBMC-DNA.txt   </td><td>LFS_TCR-4837-PBMC-DNA</td><td>LFS</td></tr>\n",
       "\t<tr><td>LFS_TCR_4838_00</td><td>NA     </td><td>NA</td><td>NA</td><td>NA</td><td>NA</td><td>NA </td><td>NA</td><td>NA</td><td>NA</td><td>⋯</td><td> 7.379</td><td>113.899</td><td>136.258</td><td>4.725</td><td> 93.572</td><td>115.204</td><td>6.021</td><td>batch2_Aug62019/mixcr/clones/CLONES_TRBLFS_TCR-4838-PBMC-DNA.txt   </td><td>LFS_TCR-4838-PBMC-DNA</td><td>LFS</td></tr>\n",
       "\t<tr><td>LFS_TCR_5014_00</td><td>NA     </td><td>NA</td><td>NA</td><td>NA</td><td>NA</td><td>NA </td><td>NA</td><td>NA</td><td>NA</td><td>⋯</td><td> 2.627</td><td>102.732</td><td>111.120</td><td>2.849</td><td> 75.625</td><td> 81.893</td><td>4.115</td><td>batch2_Aug62019/mixcr/clones/CLONES_TRBLFS_TCR-5014-PBMC-DNA.txt   </td><td>LFS_TCR-5014-PBMC-DNA</td><td>LFS</td></tr>\n",
       "\t<tr><td>LFS_TCR_5067_00</td><td>NA     </td><td>NA</td><td>NA</td><td>NA</td><td>NA</td><td>NA </td><td>NA</td><td>NA</td><td>NA</td><td>⋯</td><td> 4.516</td><td>125.870</td><td>136.024</td><td>3.966</td><td> 69.751</td><td> 73.201</td><td>4.318</td><td>batch2_Aug62019/mixcr/clones/CLONES_TRBLFS_TCR-5067-PBMC-DNA.txt   </td><td>LFS_TCR-5067-PBMC-DNA</td><td>LFS</td></tr>\n",
       "</tbody>\n",
       "</table>\n"
      ],
      "text/latex": [
       "A data.frame: 845 × 57\n",
       "\\begin{tabular}{lllllllllllllllllllll}\n",
       " sample\\_id & Patient & cycle & FOLD & ATC & Age & Disease\\_type & TE\\_fold & Pass & CD3 & ⋯ & SE\\_Richeness & observed\\_Shannon & estimated\\_Shannon & SE\\_Shannon & observed\\_Simpson & estimated\\_Simpson & SE\\_Simpson & file & basename & Group\\\\\n",
       " <chr> & <chr> & <chr> & <dbl> & <dbl> & <dbl> & <chr> & <chr> & <lgl> & <int> & ⋯ & <dbl> & <dbl> & <dbl> & <dbl> & <dbl> & <dbl> & <dbl> & <chr> & <chr> & <chr>\\\\\n",
       "\\hline\n",
       "\t CHP\\_10YO\\_M\\_00   & NA      & NA &   NA &      NA & NA & NA     & NA   & NA & NA & ⋯ &  7.241 &  10.591 &  10.601 & 0.074 &   8.556 &   8.561 & 0.097 & batchNormal\\_16Apr2020/mixcr/clones/CLONES\\_TRBCHP\\_10YO-M\\_PBMC\\_DNA.txt            & CHP\\_10YO-M\\_PBMC\\_DNA   & CHP\\\\\n",
       "\t CHP\\_11YO\\_M\\_00   & NA      & NA &   NA &      NA & NA & NA     & NA   & NA & NA & ⋯ &  2.294 &  11.607 &  11.614 & 0.055 &  10.406 &  10.414 & 0.074 & batchNormal\\_16Apr2020/mixcr/clones/CLONES\\_TRBCHP\\_11YO-M\\_PBMC\\_DNA.txt            & CHP\\_11YO-M\\_PBMC\\_DNA   & CHP\\\\\n",
       "\t CHP\\_15YO\\_F\\_A\\_00 & NA      & NA &   NA &      NA & NA & NA     & NA   & NA & NA & ⋯ &  0.217 &   8.982 &   8.989 & 0.042 &   8.560 &   8.570 & 0.060 & batchNormal\\_16Apr2020/mixcr/clones/CLONES\\_TRBCHP\\_15YO-F-A\\_PBMC\\_DNA.txt          & CHP\\_15YO-F-A\\_PBMC\\_DNA & CHP\\\\\n",
       "\t CHP\\_15YO\\_F\\_B\\_00 & NA      & NA &   NA &      NA & NA & NA     & NA   & NA & NA & ⋯ &  0.000 &   6.330 &   6.334 & 0.039 &   5.870 &   5.876 & 0.059 & batchNormal\\_16Apr2020/mixcr/clones/CLONES\\_TRBCHP\\_15YO-F-B\\_PBMC\\_DNA.txt          & CHP\\_15YO-F-B\\_PBMC\\_DNA & CHP\\\\\n",
       "\t CHP\\_15YO\\_M\\_00   & NA      & NA &   NA &      NA & NA & NA     & NA   & NA & NA & ⋯ &  0.218 &  21.110 &  21.120 & 0.040 &  20.321 &  20.339 & 0.079 & batchNormal\\_16Apr2020/mixcr/clones/CLONES\\_TRBCHP\\_15YO-M\\_PBMC\\_DNA.txt            & CHP\\_15YO-M\\_PBMC\\_DNA   & CHP\\\\\n",
       "\t CHP\\_16YO\\_M\\_00   & NA      & NA &   NA &      NA & NA & NA     & NA   & NA & NA & ⋯ &  0.000 &   3.972 &   3.973 & 0.007 &   3.944 &   3.946 & 0.012 & batchNormal\\_16Apr2020/mixcr/clones/CLONES\\_TRBCHP\\_16YO-M\\_PBMC\\_DNA.txt            & CHP\\_16YO-M\\_PBMC\\_DNA   & CHP\\\\\n",
       "\t CHP\\_1YO\\_M\\_A\\_00  & NA      & NA &   NA &      NA & NA & NA     & NA   & NA & NA & ⋯ &  2.328 &  34.170 &  34.191 & 0.131 &  25.198 &  25.213 & 0.217 & batchNormal\\_16Apr2020/mixcr/clones/CLONES\\_TRBCHP\\_1YO-M-A\\_PBMC\\_DNA.txt           & CHP\\_1YO-M-A\\_PBMC\\_DNA  & CHP\\\\\n",
       "\t CHP\\_1YO\\_M\\_B\\_00  & NA      & NA &   NA &      NA & NA & NA     & NA   & NA & NA & ⋯ &  0.217 &   2.013 &   2.014 & 0.010 &   1.993 &   1.994 & 0.006 & batchNormal\\_16Apr2020/mixcr/clones/CLONES\\_TRBCHP\\_1YO-M-B\\_PBMC\\_DNA.txt           & CHP\\_1YO-M-B\\_PBMC\\_DNA  & CHP\\\\\n",
       "\t CHP\\_2YO\\_M\\_00    & NA      & NA &   NA &      NA & NA & NA     & NA   & NA & NA & ⋯ &  0.002 &   7.910 &   7.916 & 0.053 &   7.245 &   7.253 & 0.059 & batchNormal\\_16Apr2020/mixcr/clones/CLONES\\_TRBCHP\\_2YO-M\\_PBMC\\_DNA.txt             & CHP\\_2YO-M\\_PBMC\\_DNA    & CHP\\\\\n",
       "\t CHP\\_303\\_05      & NA      & NA &   NA &      NA & NA & NA     & NA   & NA & NA & ⋯ & 24.235 & 191.496 & 194.714 & 1.481 & 158.597 & 161.725 & 2.010 & batch4\\_19Aug2019/mixcr/clones/CLONES\\_TRBCHP\\_303-05-PBMC-DNA.txt                 & CHP\\_303-05-PBMC-DNA   & CHP\\\\\n",
       "\t CHP\\_315\\_05      & NA      & NA &   NA &      NA & NA & NA     & NA   & NA & NA & ⋯ &  1.321 &  15.470 &  15.793 & 0.629 &   9.026 &   9.138 & 0.749 & batch4\\_19Aug2019/mixcr/clones/CLONES\\_TRBCHP\\_315-05-PBMC-DNA.txt                 & CHP\\_315-05-PBMC-DNA   & CHP\\\\\n",
       "\t CHP\\_315\\_05      & NA      & NA &   NA &      NA & NA & NA     & NA   & NA & NA & ⋯ &  0.000 &   1.000 &   1.000 & 0.000 &   1.000 &   1.000 & 0.000 & remaining\\_batch\\_2\\_cfDNA\\_15April2021/mixcr/clones/CLONES\\_TRBCHP\\_315-05\\_cfDNA.txt & CHP\\_315-05\\_cfDNA      & CHP\\\\\n",
       "\t CHP\\_319\\_05      & NA      & NA &   NA &      NA & NA & NA     & NA   & NA & NA & ⋯ &  7.107 &  11.878 &  13.439 & 1.238 &  10.248 &  11.626 & 1.264 & batch2\\_Aug62019/mixcr/clones/CLONES\\_TRBCHP\\_319-05-PBMC-DNA.txt                  & CHP\\_319-05-PBMC-DNA   & CHP\\\\\n",
       "\t CHP\\_320\\_01      & CHP\\_320 & 01 &  8.9 &    0.00 &  6 & AML    & 8.9  & NA &  0 & ⋯ &     NA &      NA &      NA &    NA &      NA &      NA &    NA & NA                                                                              & NA                    & CHP\\\\\n",
       "\t CHP\\_320\\_02      & CHP\\_320 & 02 &  3.5 &    0.00 &  6 & AML    & 3.5  & NA &  0 & ⋯ &     NA &      NA &      NA &    NA &      NA &      NA &    NA & NA                                                                              & NA                    & CHP\\\\\n",
       "\t CHP\\_320\\_03      & CHP\\_320 & 03 & 13.2 &    0.00 &  6 & AML    & 13.2 & NA &  0 & ⋯ &     NA &      NA &      NA &    NA &      NA &      NA &    NA & NA                                                                              & NA                    & CHP\\\\\n",
       "\t CHP\\_320\\_04      & CHP\\_320 & 04 &   NA &    0.00 &  6 & AML    & x    & NA &  0 & ⋯ &     NA &      NA &      NA &    NA &      NA &      NA &    NA & NA                                                                              & NA                    & CHP\\\\\n",
       "\t CHP\\_320\\_05      & CHP\\_320 & 05 &  0.0 &    0.00 &  6 & AML    & 0    & NA &  0 & ⋯ &     NA &      NA &      NA &    NA &      NA &      NA &    NA & NA                                                                              & NA                    & CHP\\\\\n",
       "\t CHP\\_321\\_01      & CHP\\_321 & 01 &  0.0 &    0.00 & 16 & HD     & 0    & NA &  0 & ⋯ &     NA &      NA &      NA &    NA &      NA &      NA &    NA & NA                                                                              & NA                    & CHP\\\\\n",
       "\t CHP\\_321\\_02      & CHP\\_321 & 02 &  0.0 &    0.00 & 16 & HD     & 0    & NA &  0 & ⋯ &     NA &      NA &      NA &    NA &      NA &      NA &    NA & NA                                                                              & NA                    & CHP\\\\\n",
       "\t CHP\\_321\\_03      & CHP\\_321 & 03 &  0.0 &    0.00 & 16 & HD     & 0    & NA &  0 & ⋯ &     NA &      NA &      NA &    NA &      NA &      NA &    NA & NA                                                                              & NA                    & CHP\\\\\n",
       "\t CHP\\_321\\_04      & CHP\\_321 & 04 &  0.0 &    0.00 & 16 & HD     & 0    & NA &  0 & ⋯ &     NA &      NA &      NA &    NA &      NA &      NA &    NA & NA                                                                              & NA                    & CHP\\\\\n",
       "\t CHP\\_321\\_05      & CHP\\_321 & 05 &  0.0 &    0.00 & 16 & HD     & 0    & NA &  0 & ⋯ &     NA &      NA &      NA &    NA &      NA &      NA &    NA & NA                                                                              & NA                    & CHP\\\\\n",
       "\t CHP\\_322\\_01      & CHP\\_322 & 01 &  1.1 &    0.00 & 18 & DLBCL  & 1.1  & NA &  0 & ⋯ &     NA &      NA &      NA &    NA &      NA &      NA &    NA & NA                                                                              & NA                    & CHP\\\\\n",
       "\t CHP\\_322\\_02      & CHP\\_322 & 02 &  0.4 &    0.00 & 18 & DLBCL  & 0.4  & NA &  0 & ⋯ &     NA &      NA &      NA &    NA &      NA &      NA &    NA & NA                                                                              & NA                    & CHP\\\\\n",
       "\t CHP\\_322\\_03      & CHP\\_322 & 03 &  4.3 &    0.00 & 18 & DLBCL  & 4.3  & NA &  0 & ⋯ &     NA &      NA &      NA &    NA &      NA &      NA &    NA & NA                                                                              & NA                    & CHP\\\\\n",
       "\t CHP\\_322\\_04      & CHP\\_322 & 04 &  4.7 &    0.00 & 18 & DLBCL  & 4.7  & NA &  0 & ⋯ &     NA &      NA &      NA &    NA &      NA &      NA &    NA & NA                                                                              & NA                    & CHP\\\\\n",
       "\t CHP\\_322\\_05      & CHP\\_322 & 05 &  1.0 &    0.00 & 18 & DLBCL  & 1    & NA &  0 & ⋯ &     NA &      NA &      NA &    NA &      NA &      NA &    NA & NA                                                                              & NA                    & CHP\\\\\n",
       "\t CHP\\_323\\_01      & CHP\\_323 & 01 &  0.0 &  154.75 &  1 & HR ALL & 0    & NA &  0 & ⋯ &     NA &      NA &      NA &    NA &      NA &      NA &    NA & NA                                                                              & NA                    & CHP\\\\\n",
       "\t CHP\\_323\\_02      & CHP\\_323 & 02 &  0.0 & 1397.28 &  1 & HR ALL & 0    & NA &  0 & ⋯ &     NA &      NA &      NA &    NA &      NA &      NA &    NA & NA                                                                              & NA                    & CHP\\\\\n",
       "\t ⋮ & ⋮ & ⋮ & ⋮ & ⋮ & ⋮ & ⋮ & ⋮ & ⋮ & ⋮ & ⋱ & ⋮ & ⋮ & ⋮ & ⋮ & ⋮ & ⋮ & ⋮ & ⋮ & ⋮ & ⋮\\\\\n",
       "\t CHP\\_434\\_03      & CHP\\_434 & 03 &  0 &  0 & 12 & HD  & 0  & NA &  0 & ⋯ &     NA &      NA &      NA &    NA &      NA &      NA &    NA & NA                                                                  & NA                    & CHP\\\\\n",
       "\t CHP\\_434\\_04      & CHP\\_434 & 04 &  0 &  0 & 12 & HD  & 0  & NA &  0 & ⋯ &     NA &      NA &      NA &    NA &      NA &      NA &    NA & NA                                                                  & NA                    & CHP\\\\\n",
       "\t CHP\\_434\\_05      & CHP\\_434 & 05 &  0 &  0 & 12 & HD  & 0  & NA &  0 & ⋯ &     NA &      NA &      NA &    NA &      NA &      NA &    NA & NA                                                                  & NA                    & CHP\\\\\n",
       "\t CHP\\_435\\_01      & CHP\\_435 & 01 &  0 &  0 &  0 & CML & 0  & NA &  0 & ⋯ &     NA &      NA &      NA &    NA &      NA &      NA &    NA & NA                                                                  & NA                    & CHP\\\\\n",
       "\t CHP\\_435\\_02      & CHP\\_435 & 02 &  0 &  0 &  0 & CML & 0  & NA &  0 & ⋯ &     NA &      NA &      NA &    NA &      NA &      NA &    NA & NA                                                                  & NA                    & CHP\\\\\n",
       "\t CHP\\_435\\_03      & CHP\\_435 & 03 &  0 &  0 &  0 & CML & 0  & NA &  0 & ⋯ &     NA &      NA &      NA &    NA &      NA &      NA &    NA & NA                                                                  & NA                    & CHP\\\\\n",
       "\t CHP\\_435\\_04      & CHP\\_435 & 04 &  0 &  0 &  0 & CML & 0  & NA &  0 & ⋯ &     NA &      NA &      NA &    NA &      NA &      NA &    NA & NA                                                                  & NA                    & CHP\\\\\n",
       "\t CHP\\_435\\_05      & CHP\\_435 & 05 &  0 &  0 &  0 & CML & 0  & NA &  0 & ⋯ &     NA &      NA &      NA &    NA &      NA &      NA &    NA & NA                                                                  & NA                    & CHP\\\\\n",
       "\t CHP\\_436\\_01      & CHP\\_436 & 01 &  0 &  0 & 15 & OS  & 0  & NA &  0 & ⋯ &     NA &      NA &      NA &    NA &      NA &      NA &    NA & NA                                                                  & NA                    & CHP\\\\\n",
       "\t CHP\\_436\\_02      & CHP\\_436 & 02 &  0 &  0 & 15 & OS  & 0  & NA &  0 & ⋯ &     NA &      NA &      NA &    NA &      NA &      NA &    NA & NA                                                                  & NA                    & CHP\\\\\n",
       "\t CHP\\_436\\_03      & CHP\\_436 & 03 &  0 &  0 & 15 & OS  & 0  & NA &  0 & ⋯ &     NA &      NA &      NA &    NA &      NA &      NA &    NA & NA                                                                  & NA                    & CHP\\\\\n",
       "\t CHP\\_436\\_04      & CHP\\_436 & 04 &  0 &  0 & 15 & OS  & 0  & NA &  0 & ⋯ &     NA &      NA &      NA &    NA &      NA &      NA &    NA & NA                                                                  & NA                    & CHP\\\\\n",
       "\t CHP\\_436\\_05      & CHP\\_436 & 05 &  0 &  0 & 15 & OS  & 0  & NA &  0 & ⋯ &     NA &      NA &      NA &    NA &      NA &      NA &    NA & NA                                                                  & NA                    & CHP\\\\\n",
       "\t CHP\\_437\\_01      & CHP\\_437 & 01 &  0 &  0 &  9 & OS  & 0  & NA &  0 & ⋯ &     NA &      NA &      NA &    NA &      NA &      NA &    NA & NA                                                                  & NA                    & CHP\\\\\n",
       "\t CHP\\_437\\_02      & CHP\\_437 & 02 &  0 &  0 &  9 & OS  & 0  & NA &  0 & ⋯ &     NA &      NA &      NA &    NA &      NA &      NA &    NA & NA                                                                  & NA                    & CHP\\\\\n",
       "\t CHP\\_437\\_03      & CHP\\_437 & 03 &  0 &  0 &  9 & OS  & 0  & NA &  0 & ⋯ &     NA &      NA &      NA &    NA &      NA &      NA &    NA & NA                                                                  & NA                    & CHP\\\\\n",
       "\t CHP\\_437\\_04      & CHP\\_437 & 04 &  0 &  0 &  9 & OS  & 0  & NA &  0 & ⋯ &     NA &      NA &      NA &    NA &      NA &      NA &    NA & NA                                                                  & NA                    & CHP\\\\\n",
       "\t CHP\\_437\\_05      & CHP\\_437 & 05 &  0 &  0 &  9 & OS  & 0  & NA &  0 & ⋯ &     NA &      NA &      NA &    NA &      NA &      NA &    NA & NA                                                                  & NA                    & CHP\\\\\n",
       "\t CHP\\_5YO\\_M\\_00    & NA      & NA & NA & NA & NA & NA  & NA & NA & NA & ⋯ &  0.482 &   2.095 &   2.096 & 0.015 &   2.008 &   2.009 & 0.011 & batchNormal\\_16Apr2020/mixcr/clones/CLONES\\_TRBCHP\\_5YO-M\\_PBMC\\_DNA.txt & CHP\\_5YO-M\\_PBMC\\_DNA    & CHP\\\\\n",
       "\t CHP\\_8MO\\_F\\_00    & NA      & NA & NA & NA & NA & NA  & NA & NA & NA & ⋯ &  0.482 &  13.505 &  13.513 & 0.048 &  12.313 &  12.322 & 0.080 & batchNormal\\_16Apr2020/mixcr/clones/CLONES\\_TRBCHP\\_8MO-F\\_PBMC\\_DNA.txt & CHP\\_8MO-F\\_PBMC\\_DNA    & CHP\\\\\n",
       "\t LFS\\_TCR\\_4535\\_00 & NA      & NA & NA & NA & NA & NA  & NA & NA & NA & ⋯ &  9.953 & 111.546 & 132.345 & 4.693 &  87.466 & 104.069 & 5.950 & batch2\\_Aug62019/mixcr/clones/CLONES\\_TRBLFS\\_TCR-4535-PBMC-DNA.txt    & LFS\\_TCR-4535-PBMC-DNA & LFS\\\\\n",
       "\t LFS\\_TCR\\_4570\\_00 & NA      & NA & NA & NA & NA & NA  & NA & NA & NA & ⋯ & 31.101 & 111.026 & 113.748 & 1.872 &  75.856 &  77.286 & 2.093 & batch2\\_Aug62019/mixcr/clones/CLONES\\_TRBLFS\\_TCR-4570-PBMC-DNA.txt    & LFS\\_TCR-4570-PBMC-DNA & LFS\\\\\n",
       "\t LFS\\_TCR\\_4602\\_00 & NA      & NA & NA & NA & NA & NA  & NA & NA & NA & ⋯ &  4.374 & 119.742 & 133.858 & 4.066 &  87.139 &  97.203 & 4.926 & batch2\\_Aug62019/mixcr/clones/CLONES\\_TRBLFS\\_TCR-4602-PBMC-DNA.txt    & LFS\\_TCR-4602-PBMC-DNA & LFS\\\\\n",
       "\t LFS\\_TCR\\_4758\\_00 & NA      & NA & NA & NA & NA & NA  & NA & NA & NA & ⋯ & 33.228 & 160.804 & 166.181 & 2.137 & 114.462 & 117.599 & 2.862 & batch2\\_Aug62019/mixcr/clones/CLONES\\_TRBLFS\\_TCR-4758-PBMC-DNA.txt    & LFS\\_TCR-4758-PBMC-DNA & LFS\\\\\n",
       "\t LFS\\_TCR\\_4759\\_00 & NA      & NA & NA & NA & NA & NA  & NA & NA & NA & ⋯ &  5.452 & 135.493 & 158.592 & 4.687 & 110.989 & 134.832 & 6.804 & batch2\\_Aug62019/mixcr/clones/CLONES\\_TRBLFS\\_TCR-4759-PBMC-DNA.txt    & LFS\\_TCR-4759-PBMC-DNA & LFS\\\\\n",
       "\t LFS\\_TCR\\_4783\\_00 & NA      & NA & NA & NA & NA & NA  & NA & NA & NA & ⋯ &  1.731 &  43.751 &  50.645 & 2.601 &  36.238 &  43.942 & 3.066 & batch2\\_Aug62019/mixcr/clones/CLONES\\_TRBLFS\\_TCR-4783-PBMC-DNA.txt    & LFS\\_TCR-4783-PBMC-DNA & LFS\\\\\n",
       "\t LFS\\_TCR\\_4837\\_00 & NA      & NA & NA & NA & NA & NA  & NA & NA & NA & ⋯ &  7.215 & 136.482 & 156.898 & 4.880 &  75.022 &  81.973 & 7.744 & batch2\\_Aug62019/mixcr/clones/CLONES\\_TRBLFS\\_TCR-4837-PBMC-DNA.txt    & LFS\\_TCR-4837-PBMC-DNA & LFS\\\\\n",
       "\t LFS\\_TCR\\_4838\\_00 & NA      & NA & NA & NA & NA & NA  & NA & NA & NA & ⋯ &  7.379 & 113.899 & 136.258 & 4.725 &  93.572 & 115.204 & 6.021 & batch2\\_Aug62019/mixcr/clones/CLONES\\_TRBLFS\\_TCR-4838-PBMC-DNA.txt    & LFS\\_TCR-4838-PBMC-DNA & LFS\\\\\n",
       "\t LFS\\_TCR\\_5014\\_00 & NA      & NA & NA & NA & NA & NA  & NA & NA & NA & ⋯ &  2.627 & 102.732 & 111.120 & 2.849 &  75.625 &  81.893 & 4.115 & batch2\\_Aug62019/mixcr/clones/CLONES\\_TRBLFS\\_TCR-5014-PBMC-DNA.txt    & LFS\\_TCR-5014-PBMC-DNA & LFS\\\\\n",
       "\t LFS\\_TCR\\_5067\\_00 & NA      & NA & NA & NA & NA & NA  & NA & NA & NA & ⋯ &  4.516 & 125.870 & 136.024 & 3.966 &  69.751 &  73.201 & 4.318 & batch2\\_Aug62019/mixcr/clones/CLONES\\_TRBLFS\\_TCR-5067-PBMC-DNA.txt    & LFS\\_TCR-5067-PBMC-DNA & LFS\\\\\n",
       "\\end{tabular}\n"
      ],
      "text/markdown": [
       "\n",
       "A data.frame: 845 × 57\n",
       "\n",
       "| sample_id &lt;chr&gt; | Patient &lt;chr&gt; | cycle &lt;chr&gt; | FOLD &lt;dbl&gt; | ATC &lt;dbl&gt; | Age &lt;dbl&gt; | Disease_type &lt;chr&gt; | TE_fold &lt;chr&gt; | Pass &lt;lgl&gt; | CD3 &lt;int&gt; | ⋯ ⋯ | SE_Richeness &lt;dbl&gt; | observed_Shannon &lt;dbl&gt; | estimated_Shannon &lt;dbl&gt; | SE_Shannon &lt;dbl&gt; | observed_Simpson &lt;dbl&gt; | estimated_Simpson &lt;dbl&gt; | SE_Simpson &lt;dbl&gt; | file &lt;chr&gt; | basename &lt;chr&gt; | Group &lt;chr&gt; |\n",
       "|---|---|---|---|---|---|---|---|---|---|---|---|---|---|---|---|---|---|---|---|---|\n",
       "| CHP_10YO_M_00   | NA      | NA |   NA |      NA | NA | NA     | NA   | NA | NA | ⋯ |  7.241 |  10.591 |  10.601 | 0.074 |   8.556 |   8.561 | 0.097 | batchNormal_16Apr2020/mixcr/clones/CLONES_TRBCHP_10YO-M_PBMC_DNA.txt            | CHP_10YO-M_PBMC_DNA   | CHP |\n",
       "| CHP_11YO_M_00   | NA      | NA |   NA |      NA | NA | NA     | NA   | NA | NA | ⋯ |  2.294 |  11.607 |  11.614 | 0.055 |  10.406 |  10.414 | 0.074 | batchNormal_16Apr2020/mixcr/clones/CLONES_TRBCHP_11YO-M_PBMC_DNA.txt            | CHP_11YO-M_PBMC_DNA   | CHP |\n",
       "| CHP_15YO_F_A_00 | NA      | NA |   NA |      NA | NA | NA     | NA   | NA | NA | ⋯ |  0.217 |   8.982 |   8.989 | 0.042 |   8.560 |   8.570 | 0.060 | batchNormal_16Apr2020/mixcr/clones/CLONES_TRBCHP_15YO-F-A_PBMC_DNA.txt          | CHP_15YO-F-A_PBMC_DNA | CHP |\n",
       "| CHP_15YO_F_B_00 | NA      | NA |   NA |      NA | NA | NA     | NA   | NA | NA | ⋯ |  0.000 |   6.330 |   6.334 | 0.039 |   5.870 |   5.876 | 0.059 | batchNormal_16Apr2020/mixcr/clones/CLONES_TRBCHP_15YO-F-B_PBMC_DNA.txt          | CHP_15YO-F-B_PBMC_DNA | CHP |\n",
       "| CHP_15YO_M_00   | NA      | NA |   NA |      NA | NA | NA     | NA   | NA | NA | ⋯ |  0.218 |  21.110 |  21.120 | 0.040 |  20.321 |  20.339 | 0.079 | batchNormal_16Apr2020/mixcr/clones/CLONES_TRBCHP_15YO-M_PBMC_DNA.txt            | CHP_15YO-M_PBMC_DNA   | CHP |\n",
       "| CHP_16YO_M_00   | NA      | NA |   NA |      NA | NA | NA     | NA   | NA | NA | ⋯ |  0.000 |   3.972 |   3.973 | 0.007 |   3.944 |   3.946 | 0.012 | batchNormal_16Apr2020/mixcr/clones/CLONES_TRBCHP_16YO-M_PBMC_DNA.txt            | CHP_16YO-M_PBMC_DNA   | CHP |\n",
       "| CHP_1YO_M_A_00  | NA      | NA |   NA |      NA | NA | NA     | NA   | NA | NA | ⋯ |  2.328 |  34.170 |  34.191 | 0.131 |  25.198 |  25.213 | 0.217 | batchNormal_16Apr2020/mixcr/clones/CLONES_TRBCHP_1YO-M-A_PBMC_DNA.txt           | CHP_1YO-M-A_PBMC_DNA  | CHP |\n",
       "| CHP_1YO_M_B_00  | NA      | NA |   NA |      NA | NA | NA     | NA   | NA | NA | ⋯ |  0.217 |   2.013 |   2.014 | 0.010 |   1.993 |   1.994 | 0.006 | batchNormal_16Apr2020/mixcr/clones/CLONES_TRBCHP_1YO-M-B_PBMC_DNA.txt           | CHP_1YO-M-B_PBMC_DNA  | CHP |\n",
       "| CHP_2YO_M_00    | NA      | NA |   NA |      NA | NA | NA     | NA   | NA | NA | ⋯ |  0.002 |   7.910 |   7.916 | 0.053 |   7.245 |   7.253 | 0.059 | batchNormal_16Apr2020/mixcr/clones/CLONES_TRBCHP_2YO-M_PBMC_DNA.txt             | CHP_2YO-M_PBMC_DNA    | CHP |\n",
       "| CHP_303_05      | NA      | NA |   NA |      NA | NA | NA     | NA   | NA | NA | ⋯ | 24.235 | 191.496 | 194.714 | 1.481 | 158.597 | 161.725 | 2.010 | batch4_19Aug2019/mixcr/clones/CLONES_TRBCHP_303-05-PBMC-DNA.txt                 | CHP_303-05-PBMC-DNA   | CHP |\n",
       "| CHP_315_05      | NA      | NA |   NA |      NA | NA | NA     | NA   | NA | NA | ⋯ |  1.321 |  15.470 |  15.793 | 0.629 |   9.026 |   9.138 | 0.749 | batch4_19Aug2019/mixcr/clones/CLONES_TRBCHP_315-05-PBMC-DNA.txt                 | CHP_315-05-PBMC-DNA   | CHP |\n",
       "| CHP_315_05      | NA      | NA |   NA |      NA | NA | NA     | NA   | NA | NA | ⋯ |  0.000 |   1.000 |   1.000 | 0.000 |   1.000 |   1.000 | 0.000 | remaining_batch_2_cfDNA_15April2021/mixcr/clones/CLONES_TRBCHP_315-05_cfDNA.txt | CHP_315-05_cfDNA      | CHP |\n",
       "| CHP_319_05      | NA      | NA |   NA |      NA | NA | NA     | NA   | NA | NA | ⋯ |  7.107 |  11.878 |  13.439 | 1.238 |  10.248 |  11.626 | 1.264 | batch2_Aug62019/mixcr/clones/CLONES_TRBCHP_319-05-PBMC-DNA.txt                  | CHP_319-05-PBMC-DNA   | CHP |\n",
       "| CHP_320_01      | CHP_320 | 01 |  8.9 |    0.00 |  6 | AML    | 8.9  | NA |  0 | ⋯ |     NA |      NA |      NA |    NA |      NA |      NA |    NA | NA                                                                              | NA                    | CHP |\n",
       "| CHP_320_02      | CHP_320 | 02 |  3.5 |    0.00 |  6 | AML    | 3.5  | NA |  0 | ⋯ |     NA |      NA |      NA |    NA |      NA |      NA |    NA | NA                                                                              | NA                    | CHP |\n",
       "| CHP_320_03      | CHP_320 | 03 | 13.2 |    0.00 |  6 | AML    | 13.2 | NA |  0 | ⋯ |     NA |      NA |      NA |    NA |      NA |      NA |    NA | NA                                                                              | NA                    | CHP |\n",
       "| CHP_320_04      | CHP_320 | 04 |   NA |    0.00 |  6 | AML    | x    | NA |  0 | ⋯ |     NA |      NA |      NA |    NA |      NA |      NA |    NA | NA                                                                              | NA                    | CHP |\n",
       "| CHP_320_05      | CHP_320 | 05 |  0.0 |    0.00 |  6 | AML    | 0    | NA |  0 | ⋯ |     NA |      NA |      NA |    NA |      NA |      NA |    NA | NA                                                                              | NA                    | CHP |\n",
       "| CHP_321_01      | CHP_321 | 01 |  0.0 |    0.00 | 16 | HD     | 0    | NA |  0 | ⋯ |     NA |      NA |      NA |    NA |      NA |      NA |    NA | NA                                                                              | NA                    | CHP |\n",
       "| CHP_321_02      | CHP_321 | 02 |  0.0 |    0.00 | 16 | HD     | 0    | NA |  0 | ⋯ |     NA |      NA |      NA |    NA |      NA |      NA |    NA | NA                                                                              | NA                    | CHP |\n",
       "| CHP_321_03      | CHP_321 | 03 |  0.0 |    0.00 | 16 | HD     | 0    | NA |  0 | ⋯ |     NA |      NA |      NA |    NA |      NA |      NA |    NA | NA                                                                              | NA                    | CHP |\n",
       "| CHP_321_04      | CHP_321 | 04 |  0.0 |    0.00 | 16 | HD     | 0    | NA |  0 | ⋯ |     NA |      NA |      NA |    NA |      NA |      NA |    NA | NA                                                                              | NA                    | CHP |\n",
       "| CHP_321_05      | CHP_321 | 05 |  0.0 |    0.00 | 16 | HD     | 0    | NA |  0 | ⋯ |     NA |      NA |      NA |    NA |      NA |      NA |    NA | NA                                                                              | NA                    | CHP |\n",
       "| CHP_322_01      | CHP_322 | 01 |  1.1 |    0.00 | 18 | DLBCL  | 1.1  | NA |  0 | ⋯ |     NA |      NA |      NA |    NA |      NA |      NA |    NA | NA                                                                              | NA                    | CHP |\n",
       "| CHP_322_02      | CHP_322 | 02 |  0.4 |    0.00 | 18 | DLBCL  | 0.4  | NA |  0 | ⋯ |     NA |      NA |      NA |    NA |      NA |      NA |    NA | NA                                                                              | NA                    | CHP |\n",
       "| CHP_322_03      | CHP_322 | 03 |  4.3 |    0.00 | 18 | DLBCL  | 4.3  | NA |  0 | ⋯ |     NA |      NA |      NA |    NA |      NA |      NA |    NA | NA                                                                              | NA                    | CHP |\n",
       "| CHP_322_04      | CHP_322 | 04 |  4.7 |    0.00 | 18 | DLBCL  | 4.7  | NA |  0 | ⋯ |     NA |      NA |      NA |    NA |      NA |      NA |    NA | NA                                                                              | NA                    | CHP |\n",
       "| CHP_322_05      | CHP_322 | 05 |  1.0 |    0.00 | 18 | DLBCL  | 1    | NA |  0 | ⋯ |     NA |      NA |      NA |    NA |      NA |      NA |    NA | NA                                                                              | NA                    | CHP |\n",
       "| CHP_323_01      | CHP_323 | 01 |  0.0 |  154.75 |  1 | HR ALL | 0    | NA |  0 | ⋯ |     NA |      NA |      NA |    NA |      NA |      NA |    NA | NA                                                                              | NA                    | CHP |\n",
       "| CHP_323_02      | CHP_323 | 02 |  0.0 | 1397.28 |  1 | HR ALL | 0    | NA |  0 | ⋯ |     NA |      NA |      NA |    NA |      NA |      NA |    NA | NA                                                                              | NA                    | CHP |\n",
       "| ⋮ | ⋮ | ⋮ | ⋮ | ⋮ | ⋮ | ⋮ | ⋮ | ⋮ | ⋮ | ⋱ | ⋮ | ⋮ | ⋮ | ⋮ | ⋮ | ⋮ | ⋮ | ⋮ | ⋮ | ⋮ |\n",
       "| CHP_434_03      | CHP_434 | 03 |  0 |  0 | 12 | HD  | 0  | NA |  0 | ⋯ |     NA |      NA |      NA |    NA |      NA |      NA |    NA | NA                                                                  | NA                    | CHP |\n",
       "| CHP_434_04      | CHP_434 | 04 |  0 |  0 | 12 | HD  | 0  | NA |  0 | ⋯ |     NA |      NA |      NA |    NA |      NA |      NA |    NA | NA                                                                  | NA                    | CHP |\n",
       "| CHP_434_05      | CHP_434 | 05 |  0 |  0 | 12 | HD  | 0  | NA |  0 | ⋯ |     NA |      NA |      NA |    NA |      NA |      NA |    NA | NA                                                                  | NA                    | CHP |\n",
       "| CHP_435_01      | CHP_435 | 01 |  0 |  0 |  0 | CML | 0  | NA |  0 | ⋯ |     NA |      NA |      NA |    NA |      NA |      NA |    NA | NA                                                                  | NA                    | CHP |\n",
       "| CHP_435_02      | CHP_435 | 02 |  0 |  0 |  0 | CML | 0  | NA |  0 | ⋯ |     NA |      NA |      NA |    NA |      NA |      NA |    NA | NA                                                                  | NA                    | CHP |\n",
       "| CHP_435_03      | CHP_435 | 03 |  0 |  0 |  0 | CML | 0  | NA |  0 | ⋯ |     NA |      NA |      NA |    NA |      NA |      NA |    NA | NA                                                                  | NA                    | CHP |\n",
       "| CHP_435_04      | CHP_435 | 04 |  0 |  0 |  0 | CML | 0  | NA |  0 | ⋯ |     NA |      NA |      NA |    NA |      NA |      NA |    NA | NA                                                                  | NA                    | CHP |\n",
       "| CHP_435_05      | CHP_435 | 05 |  0 |  0 |  0 | CML | 0  | NA |  0 | ⋯ |     NA |      NA |      NA |    NA |      NA |      NA |    NA | NA                                                                  | NA                    | CHP |\n",
       "| CHP_436_01      | CHP_436 | 01 |  0 |  0 | 15 | OS  | 0  | NA |  0 | ⋯ |     NA |      NA |      NA |    NA |      NA |      NA |    NA | NA                                                                  | NA                    | CHP |\n",
       "| CHP_436_02      | CHP_436 | 02 |  0 |  0 | 15 | OS  | 0  | NA |  0 | ⋯ |     NA |      NA |      NA |    NA |      NA |      NA |    NA | NA                                                                  | NA                    | CHP |\n",
       "| CHP_436_03      | CHP_436 | 03 |  0 |  0 | 15 | OS  | 0  | NA |  0 | ⋯ |     NA |      NA |      NA |    NA |      NA |      NA |    NA | NA                                                                  | NA                    | CHP |\n",
       "| CHP_436_04      | CHP_436 | 04 |  0 |  0 | 15 | OS  | 0  | NA |  0 | ⋯ |     NA |      NA |      NA |    NA |      NA |      NA |    NA | NA                                                                  | NA                    | CHP |\n",
       "| CHP_436_05      | CHP_436 | 05 |  0 |  0 | 15 | OS  | 0  | NA |  0 | ⋯ |     NA |      NA |      NA |    NA |      NA |      NA |    NA | NA                                                                  | NA                    | CHP |\n",
       "| CHP_437_01      | CHP_437 | 01 |  0 |  0 |  9 | OS  | 0  | NA |  0 | ⋯ |     NA |      NA |      NA |    NA |      NA |      NA |    NA | NA                                                                  | NA                    | CHP |\n",
       "| CHP_437_02      | CHP_437 | 02 |  0 |  0 |  9 | OS  | 0  | NA |  0 | ⋯ |     NA |      NA |      NA |    NA |      NA |      NA |    NA | NA                                                                  | NA                    | CHP |\n",
       "| CHP_437_03      | CHP_437 | 03 |  0 |  0 |  9 | OS  | 0  | NA |  0 | ⋯ |     NA |      NA |      NA |    NA |      NA |      NA |    NA | NA                                                                  | NA                    | CHP |\n",
       "| CHP_437_04      | CHP_437 | 04 |  0 |  0 |  9 | OS  | 0  | NA |  0 | ⋯ |     NA |      NA |      NA |    NA |      NA |      NA |    NA | NA                                                                  | NA                    | CHP |\n",
       "| CHP_437_05      | CHP_437 | 05 |  0 |  0 |  9 | OS  | 0  | NA |  0 | ⋯ |     NA |      NA |      NA |    NA |      NA |      NA |    NA | NA                                                                  | NA                    | CHP |\n",
       "| CHP_5YO_M_00    | NA      | NA | NA | NA | NA | NA  | NA | NA | NA | ⋯ |  0.482 |   2.095 |   2.096 | 0.015 |   2.008 |   2.009 | 0.011 | batchNormal_16Apr2020/mixcr/clones/CLONES_TRBCHP_5YO-M_PBMC_DNA.txt | CHP_5YO-M_PBMC_DNA    | CHP |\n",
       "| CHP_8MO_F_00    | NA      | NA | NA | NA | NA | NA  | NA | NA | NA | ⋯ |  0.482 |  13.505 |  13.513 | 0.048 |  12.313 |  12.322 | 0.080 | batchNormal_16Apr2020/mixcr/clones/CLONES_TRBCHP_8MO-F_PBMC_DNA.txt | CHP_8MO-F_PBMC_DNA    | CHP |\n",
       "| LFS_TCR_4535_00 | NA      | NA | NA | NA | NA | NA  | NA | NA | NA | ⋯ |  9.953 | 111.546 | 132.345 | 4.693 |  87.466 | 104.069 | 5.950 | batch2_Aug62019/mixcr/clones/CLONES_TRBLFS_TCR-4535-PBMC-DNA.txt    | LFS_TCR-4535-PBMC-DNA | LFS |\n",
       "| LFS_TCR_4570_00 | NA      | NA | NA | NA | NA | NA  | NA | NA | NA | ⋯ | 31.101 | 111.026 | 113.748 | 1.872 |  75.856 |  77.286 | 2.093 | batch2_Aug62019/mixcr/clones/CLONES_TRBLFS_TCR-4570-PBMC-DNA.txt    | LFS_TCR-4570-PBMC-DNA | LFS |\n",
       "| LFS_TCR_4602_00 | NA      | NA | NA | NA | NA | NA  | NA | NA | NA | ⋯ |  4.374 | 119.742 | 133.858 | 4.066 |  87.139 |  97.203 | 4.926 | batch2_Aug62019/mixcr/clones/CLONES_TRBLFS_TCR-4602-PBMC-DNA.txt    | LFS_TCR-4602-PBMC-DNA | LFS |\n",
       "| LFS_TCR_4758_00 | NA      | NA | NA | NA | NA | NA  | NA | NA | NA | ⋯ | 33.228 | 160.804 | 166.181 | 2.137 | 114.462 | 117.599 | 2.862 | batch2_Aug62019/mixcr/clones/CLONES_TRBLFS_TCR-4758-PBMC-DNA.txt    | LFS_TCR-4758-PBMC-DNA | LFS |\n",
       "| LFS_TCR_4759_00 | NA      | NA | NA | NA | NA | NA  | NA | NA | NA | ⋯ |  5.452 | 135.493 | 158.592 | 4.687 | 110.989 | 134.832 | 6.804 | batch2_Aug62019/mixcr/clones/CLONES_TRBLFS_TCR-4759-PBMC-DNA.txt    | LFS_TCR-4759-PBMC-DNA | LFS |\n",
       "| LFS_TCR_4783_00 | NA      | NA | NA | NA | NA | NA  | NA | NA | NA | ⋯ |  1.731 |  43.751 |  50.645 | 2.601 |  36.238 |  43.942 | 3.066 | batch2_Aug62019/mixcr/clones/CLONES_TRBLFS_TCR-4783-PBMC-DNA.txt    | LFS_TCR-4783-PBMC-DNA | LFS |\n",
       "| LFS_TCR_4837_00 | NA      | NA | NA | NA | NA | NA  | NA | NA | NA | ⋯ |  7.215 | 136.482 | 156.898 | 4.880 |  75.022 |  81.973 | 7.744 | batch2_Aug62019/mixcr/clones/CLONES_TRBLFS_TCR-4837-PBMC-DNA.txt    | LFS_TCR-4837-PBMC-DNA | LFS |\n",
       "| LFS_TCR_4838_00 | NA      | NA | NA | NA | NA | NA  | NA | NA | NA | ⋯ |  7.379 | 113.899 | 136.258 | 4.725 |  93.572 | 115.204 | 6.021 | batch2_Aug62019/mixcr/clones/CLONES_TRBLFS_TCR-4838-PBMC-DNA.txt    | LFS_TCR-4838-PBMC-DNA | LFS |\n",
       "| LFS_TCR_5014_00 | NA      | NA | NA | NA | NA | NA  | NA | NA | NA | ⋯ |  2.627 | 102.732 | 111.120 | 2.849 |  75.625 |  81.893 | 4.115 | batch2_Aug62019/mixcr/clones/CLONES_TRBLFS_TCR-5014-PBMC-DNA.txt    | LFS_TCR-5014-PBMC-DNA | LFS |\n",
       "| LFS_TCR_5067_00 | NA      | NA | NA | NA | NA | NA  | NA | NA | NA | ⋯ |  4.516 | 125.870 | 136.024 | 3.966 |  69.751 |  73.201 | 4.318 | batch2_Aug62019/mixcr/clones/CLONES_TRBLFS_TCR-5067-PBMC-DNA.txt    | LFS_TCR-5067-PBMC-DNA | LFS |\n",
       "\n"
      ],
      "text/plain": [
       "    sample_id       Patient cycle FOLD ATC     Age Disease_type TE_fold Pass\n",
       "1   CHP_10YO_M_00   NA      NA      NA      NA NA  NA           NA      NA  \n",
       "2   CHP_11YO_M_00   NA      NA      NA      NA NA  NA           NA      NA  \n",
       "3   CHP_15YO_F_A_00 NA      NA      NA      NA NA  NA           NA      NA  \n",
       "4   CHP_15YO_F_B_00 NA      NA      NA      NA NA  NA           NA      NA  \n",
       "5   CHP_15YO_M_00   NA      NA      NA      NA NA  NA           NA      NA  \n",
       "6   CHP_16YO_M_00   NA      NA      NA      NA NA  NA           NA      NA  \n",
       "7   CHP_1YO_M_A_00  NA      NA      NA      NA NA  NA           NA      NA  \n",
       "8   CHP_1YO_M_B_00  NA      NA      NA      NA NA  NA           NA      NA  \n",
       "9   CHP_2YO_M_00    NA      NA      NA      NA NA  NA           NA      NA  \n",
       "10  CHP_303_05      NA      NA      NA      NA NA  NA           NA      NA  \n",
       "11  CHP_315_05      NA      NA      NA      NA NA  NA           NA      NA  \n",
       "12  CHP_315_05      NA      NA      NA      NA NA  NA           NA      NA  \n",
       "13  CHP_319_05      NA      NA      NA      NA NA  NA           NA      NA  \n",
       "14  CHP_320_01      CHP_320 01     8.9    0.00  6  AML          8.9     NA  \n",
       "15  CHP_320_02      CHP_320 02     3.5    0.00  6  AML          3.5     NA  \n",
       "16  CHP_320_03      CHP_320 03    13.2    0.00  6  AML          13.2    NA  \n",
       "17  CHP_320_04      CHP_320 04      NA    0.00  6  AML          x       NA  \n",
       "18  CHP_320_05      CHP_320 05     0.0    0.00  6  AML          0       NA  \n",
       "19  CHP_321_01      CHP_321 01     0.0    0.00 16  HD           0       NA  \n",
       "20  CHP_321_02      CHP_321 02     0.0    0.00 16  HD           0       NA  \n",
       "21  CHP_321_03      CHP_321 03     0.0    0.00 16  HD           0       NA  \n",
       "22  CHP_321_04      CHP_321 04     0.0    0.00 16  HD           0       NA  \n",
       "23  CHP_321_05      CHP_321 05     0.0    0.00 16  HD           0       NA  \n",
       "24  CHP_322_01      CHP_322 01     1.1    0.00 18  DLBCL        1.1     NA  \n",
       "25  CHP_322_02      CHP_322 02     0.4    0.00 18  DLBCL        0.4     NA  \n",
       "26  CHP_322_03      CHP_322 03     4.3    0.00 18  DLBCL        4.3     NA  \n",
       "27  CHP_322_04      CHP_322 04     4.7    0.00 18  DLBCL        4.7     NA  \n",
       "28  CHP_322_05      CHP_322 05     1.0    0.00 18  DLBCL        1       NA  \n",
       "29  CHP_323_01      CHP_323 01     0.0  154.75  1  HR ALL       0       NA  \n",
       "30  CHP_323_02      CHP_323 02     0.0 1397.28  1  HR ALL       0       NA  \n",
       "⋮   ⋮               ⋮       ⋮     ⋮    ⋮       ⋮   ⋮            ⋮       ⋮   \n",
       "816 CHP_434_03      CHP_434 03     0    0      12  HD           0       NA  \n",
       "817 CHP_434_04      CHP_434 04     0    0      12  HD           0       NA  \n",
       "818 CHP_434_05      CHP_434 05     0    0      12  HD           0       NA  \n",
       "819 CHP_435_01      CHP_435 01     0    0       0  CML          0       NA  \n",
       "820 CHP_435_02      CHP_435 02     0    0       0  CML          0       NA  \n",
       "821 CHP_435_03      CHP_435 03     0    0       0  CML          0       NA  \n",
       "822 CHP_435_04      CHP_435 04     0    0       0  CML          0       NA  \n",
       "823 CHP_435_05      CHP_435 05     0    0       0  CML          0       NA  \n",
       "824 CHP_436_01      CHP_436 01     0    0      15  OS           0       NA  \n",
       "825 CHP_436_02      CHP_436 02     0    0      15  OS           0       NA  \n",
       "826 CHP_436_03      CHP_436 03     0    0      15  OS           0       NA  \n",
       "827 CHP_436_04      CHP_436 04     0    0      15  OS           0       NA  \n",
       "828 CHP_436_05      CHP_436 05     0    0      15  OS           0       NA  \n",
       "829 CHP_437_01      CHP_437 01     0    0       9  OS           0       NA  \n",
       "830 CHP_437_02      CHP_437 02     0    0       9  OS           0       NA  \n",
       "831 CHP_437_03      CHP_437 03     0    0       9  OS           0       NA  \n",
       "832 CHP_437_04      CHP_437 04     0    0       9  OS           0       NA  \n",
       "833 CHP_437_05      CHP_437 05     0    0       9  OS           0       NA  \n",
       "834 CHP_5YO_M_00    NA      NA    NA   NA      NA  NA           NA      NA  \n",
       "835 CHP_8MO_F_00    NA      NA    NA   NA      NA  NA           NA      NA  \n",
       "836 LFS_TCR_4535_00 NA      NA    NA   NA      NA  NA           NA      NA  \n",
       "837 LFS_TCR_4570_00 NA      NA    NA   NA      NA  NA           NA      NA  \n",
       "838 LFS_TCR_4602_00 NA      NA    NA   NA      NA  NA           NA      NA  \n",
       "839 LFS_TCR_4758_00 NA      NA    NA   NA      NA  NA           NA      NA  \n",
       "840 LFS_TCR_4759_00 NA      NA    NA   NA      NA  NA           NA      NA  \n",
       "841 LFS_TCR_4783_00 NA      NA    NA   NA      NA  NA           NA      NA  \n",
       "842 LFS_TCR_4837_00 NA      NA    NA   NA      NA  NA           NA      NA  \n",
       "843 LFS_TCR_4838_00 NA      NA    NA   NA      NA  NA           NA      NA  \n",
       "844 LFS_TCR_5014_00 NA      NA    NA   NA      NA  NA           NA      NA  \n",
       "845 LFS_TCR_5067_00 NA      NA    NA   NA      NA  NA           NA      NA  \n",
       "    CD3 ⋯ SE_Richeness observed_Shannon estimated_Shannon SE_Shannon\n",
       "1   NA  ⋯  7.241        10.591           10.601           0.074     \n",
       "2   NA  ⋯  2.294        11.607           11.614           0.055     \n",
       "3   NA  ⋯  0.217         8.982            8.989           0.042     \n",
       "4   NA  ⋯  0.000         6.330            6.334           0.039     \n",
       "5   NA  ⋯  0.218        21.110           21.120           0.040     \n",
       "6   NA  ⋯  0.000         3.972            3.973           0.007     \n",
       "7   NA  ⋯  2.328        34.170           34.191           0.131     \n",
       "8   NA  ⋯  0.217         2.013            2.014           0.010     \n",
       "9   NA  ⋯  0.002         7.910            7.916           0.053     \n",
       "10  NA  ⋯ 24.235       191.496          194.714           1.481     \n",
       "11  NA  ⋯  1.321        15.470           15.793           0.629     \n",
       "12  NA  ⋯  0.000         1.000            1.000           0.000     \n",
       "13  NA  ⋯  7.107        11.878           13.439           1.238     \n",
       "14   0  ⋯     NA            NA               NA              NA     \n",
       "15   0  ⋯     NA            NA               NA              NA     \n",
       "16   0  ⋯     NA            NA               NA              NA     \n",
       "17   0  ⋯     NA            NA               NA              NA     \n",
       "18   0  ⋯     NA            NA               NA              NA     \n",
       "19   0  ⋯     NA            NA               NA              NA     \n",
       "20   0  ⋯     NA            NA               NA              NA     \n",
       "21   0  ⋯     NA            NA               NA              NA     \n",
       "22   0  ⋯     NA            NA               NA              NA     \n",
       "23   0  ⋯     NA            NA               NA              NA     \n",
       "24   0  ⋯     NA            NA               NA              NA     \n",
       "25   0  ⋯     NA            NA               NA              NA     \n",
       "26   0  ⋯     NA            NA               NA              NA     \n",
       "27   0  ⋯     NA            NA               NA              NA     \n",
       "28   0  ⋯     NA            NA               NA              NA     \n",
       "29   0  ⋯     NA            NA               NA              NA     \n",
       "30   0  ⋯     NA            NA               NA              NA     \n",
       "⋮   ⋮   ⋱ ⋮            ⋮                ⋮                 ⋮         \n",
       "816  0  ⋯     NA            NA               NA              NA     \n",
       "817  0  ⋯     NA            NA               NA              NA     \n",
       "818  0  ⋯     NA            NA               NA              NA     \n",
       "819  0  ⋯     NA            NA               NA              NA     \n",
       "820  0  ⋯     NA            NA               NA              NA     \n",
       "821  0  ⋯     NA            NA               NA              NA     \n",
       "822  0  ⋯     NA            NA               NA              NA     \n",
       "823  0  ⋯     NA            NA               NA              NA     \n",
       "824  0  ⋯     NA            NA               NA              NA     \n",
       "825  0  ⋯     NA            NA               NA              NA     \n",
       "826  0  ⋯     NA            NA               NA              NA     \n",
       "827  0  ⋯     NA            NA               NA              NA     \n",
       "828  0  ⋯     NA            NA               NA              NA     \n",
       "829  0  ⋯     NA            NA               NA              NA     \n",
       "830  0  ⋯     NA            NA               NA              NA     \n",
       "831  0  ⋯     NA            NA               NA              NA     \n",
       "832  0  ⋯     NA            NA               NA              NA     \n",
       "833  0  ⋯     NA            NA               NA              NA     \n",
       "834 NA  ⋯  0.482         2.095            2.096           0.015     \n",
       "835 NA  ⋯  0.482        13.505           13.513           0.048     \n",
       "836 NA  ⋯  9.953       111.546          132.345           4.693     \n",
       "837 NA  ⋯ 31.101       111.026          113.748           1.872     \n",
       "838 NA  ⋯  4.374       119.742          133.858           4.066     \n",
       "839 NA  ⋯ 33.228       160.804          166.181           2.137     \n",
       "840 NA  ⋯  5.452       135.493          158.592           4.687     \n",
       "841 NA  ⋯  1.731        43.751           50.645           2.601     \n",
       "842 NA  ⋯  7.215       136.482          156.898           4.880     \n",
       "843 NA  ⋯  7.379       113.899          136.258           4.725     \n",
       "844 NA  ⋯  2.627       102.732          111.120           2.849     \n",
       "845 NA  ⋯  4.516       125.870          136.024           3.966     \n",
       "    observed_Simpson estimated_Simpson SE_Simpson\n",
       "1     8.556            8.561           0.097     \n",
       "2    10.406           10.414           0.074     \n",
       "3     8.560            8.570           0.060     \n",
       "4     5.870            5.876           0.059     \n",
       "5    20.321           20.339           0.079     \n",
       "6     3.944            3.946           0.012     \n",
       "7    25.198           25.213           0.217     \n",
       "8     1.993            1.994           0.006     \n",
       "9     7.245            7.253           0.059     \n",
       "10  158.597          161.725           2.010     \n",
       "11    9.026            9.138           0.749     \n",
       "12    1.000            1.000           0.000     \n",
       "13   10.248           11.626           1.264     \n",
       "14       NA               NA              NA     \n",
       "15       NA               NA              NA     \n",
       "16       NA               NA              NA     \n",
       "17       NA               NA              NA     \n",
       "18       NA               NA              NA     \n",
       "19       NA               NA              NA     \n",
       "20       NA               NA              NA     \n",
       "21       NA               NA              NA     \n",
       "22       NA               NA              NA     \n",
       "23       NA               NA              NA     \n",
       "24       NA               NA              NA     \n",
       "25       NA               NA              NA     \n",
       "26       NA               NA              NA     \n",
       "27       NA               NA              NA     \n",
       "28       NA               NA              NA     \n",
       "29       NA               NA              NA     \n",
       "30       NA               NA              NA     \n",
       "⋮   ⋮                ⋮                 ⋮         \n",
       "816      NA               NA              NA     \n",
       "817      NA               NA              NA     \n",
       "818      NA               NA              NA     \n",
       "819      NA               NA              NA     \n",
       "820      NA               NA              NA     \n",
       "821      NA               NA              NA     \n",
       "822      NA               NA              NA     \n",
       "823      NA               NA              NA     \n",
       "824      NA               NA              NA     \n",
       "825      NA               NA              NA     \n",
       "826      NA               NA              NA     \n",
       "827      NA               NA              NA     \n",
       "828      NA               NA              NA     \n",
       "829      NA               NA              NA     \n",
       "830      NA               NA              NA     \n",
       "831      NA               NA              NA     \n",
       "832      NA               NA              NA     \n",
       "833      NA               NA              NA     \n",
       "834   2.008            2.009           0.011     \n",
       "835  12.313           12.322           0.080     \n",
       "836  87.466          104.069           5.950     \n",
       "837  75.856           77.286           2.093     \n",
       "838  87.139           97.203           4.926     \n",
       "839 114.462          117.599           2.862     \n",
       "840 110.989          134.832           6.804     \n",
       "841  36.238           43.942           3.066     \n",
       "842  75.022           81.973           7.744     \n",
       "843  93.572          115.204           6.021     \n",
       "844  75.625           81.893           4.115     \n",
       "845  69.751           73.201           4.318     \n",
       "    file                                                                           \n",
       "1   batchNormal_16Apr2020/mixcr/clones/CLONES_TRBCHP_10YO-M_PBMC_DNA.txt           \n",
       "2   batchNormal_16Apr2020/mixcr/clones/CLONES_TRBCHP_11YO-M_PBMC_DNA.txt           \n",
       "3   batchNormal_16Apr2020/mixcr/clones/CLONES_TRBCHP_15YO-F-A_PBMC_DNA.txt         \n",
       "4   batchNormal_16Apr2020/mixcr/clones/CLONES_TRBCHP_15YO-F-B_PBMC_DNA.txt         \n",
       "5   batchNormal_16Apr2020/mixcr/clones/CLONES_TRBCHP_15YO-M_PBMC_DNA.txt           \n",
       "6   batchNormal_16Apr2020/mixcr/clones/CLONES_TRBCHP_16YO-M_PBMC_DNA.txt           \n",
       "7   batchNormal_16Apr2020/mixcr/clones/CLONES_TRBCHP_1YO-M-A_PBMC_DNA.txt          \n",
       "8   batchNormal_16Apr2020/mixcr/clones/CLONES_TRBCHP_1YO-M-B_PBMC_DNA.txt          \n",
       "9   batchNormal_16Apr2020/mixcr/clones/CLONES_TRBCHP_2YO-M_PBMC_DNA.txt            \n",
       "10  batch4_19Aug2019/mixcr/clones/CLONES_TRBCHP_303-05-PBMC-DNA.txt                \n",
       "11  batch4_19Aug2019/mixcr/clones/CLONES_TRBCHP_315-05-PBMC-DNA.txt                \n",
       "12  remaining_batch_2_cfDNA_15April2021/mixcr/clones/CLONES_TRBCHP_315-05_cfDNA.txt\n",
       "13  batch2_Aug62019/mixcr/clones/CLONES_TRBCHP_319-05-PBMC-DNA.txt                 \n",
       "14  NA                                                                             \n",
       "15  NA                                                                             \n",
       "16  NA                                                                             \n",
       "17  NA                                                                             \n",
       "18  NA                                                                             \n",
       "19  NA                                                                             \n",
       "20  NA                                                                             \n",
       "21  NA                                                                             \n",
       "22  NA                                                                             \n",
       "23  NA                                                                             \n",
       "24  NA                                                                             \n",
       "25  NA                                                                             \n",
       "26  NA                                                                             \n",
       "27  NA                                                                             \n",
       "28  NA                                                                             \n",
       "29  NA                                                                             \n",
       "30  NA                                                                             \n",
       "⋮   ⋮                                                                              \n",
       "816 NA                                                                             \n",
       "817 NA                                                                             \n",
       "818 NA                                                                             \n",
       "819 NA                                                                             \n",
       "820 NA                                                                             \n",
       "821 NA                                                                             \n",
       "822 NA                                                                             \n",
       "823 NA                                                                             \n",
       "824 NA                                                                             \n",
       "825 NA                                                                             \n",
       "826 NA                                                                             \n",
       "827 NA                                                                             \n",
       "828 NA                                                                             \n",
       "829 NA                                                                             \n",
       "830 NA                                                                             \n",
       "831 NA                                                                             \n",
       "832 NA                                                                             \n",
       "833 NA                                                                             \n",
       "834 batchNormal_16Apr2020/mixcr/clones/CLONES_TRBCHP_5YO-M_PBMC_DNA.txt            \n",
       "835 batchNormal_16Apr2020/mixcr/clones/CLONES_TRBCHP_8MO-F_PBMC_DNA.txt            \n",
       "836 batch2_Aug62019/mixcr/clones/CLONES_TRBLFS_TCR-4535-PBMC-DNA.txt               \n",
       "837 batch2_Aug62019/mixcr/clones/CLONES_TRBLFS_TCR-4570-PBMC-DNA.txt               \n",
       "838 batch2_Aug62019/mixcr/clones/CLONES_TRBLFS_TCR-4602-PBMC-DNA.txt               \n",
       "839 batch2_Aug62019/mixcr/clones/CLONES_TRBLFS_TCR-4758-PBMC-DNA.txt               \n",
       "840 batch2_Aug62019/mixcr/clones/CLONES_TRBLFS_TCR-4759-PBMC-DNA.txt               \n",
       "841 batch2_Aug62019/mixcr/clones/CLONES_TRBLFS_TCR-4783-PBMC-DNA.txt               \n",
       "842 batch2_Aug62019/mixcr/clones/CLONES_TRBLFS_TCR-4837-PBMC-DNA.txt               \n",
       "843 batch2_Aug62019/mixcr/clones/CLONES_TRBLFS_TCR-4838-PBMC-DNA.txt               \n",
       "844 batch2_Aug62019/mixcr/clones/CLONES_TRBLFS_TCR-5014-PBMC-DNA.txt               \n",
       "845 batch2_Aug62019/mixcr/clones/CLONES_TRBLFS_TCR-5067-PBMC-DNA.txt               \n",
       "    basename              Group\n",
       "1   CHP_10YO-M_PBMC_DNA   CHP  \n",
       "2   CHP_11YO-M_PBMC_DNA   CHP  \n",
       "3   CHP_15YO-F-A_PBMC_DNA CHP  \n",
       "4   CHP_15YO-F-B_PBMC_DNA CHP  \n",
       "5   CHP_15YO-M_PBMC_DNA   CHP  \n",
       "6   CHP_16YO-M_PBMC_DNA   CHP  \n",
       "7   CHP_1YO-M-A_PBMC_DNA  CHP  \n",
       "8   CHP_1YO-M-B_PBMC_DNA  CHP  \n",
       "9   CHP_2YO-M_PBMC_DNA    CHP  \n",
       "10  CHP_303-05-PBMC-DNA   CHP  \n",
       "11  CHP_315-05-PBMC-DNA   CHP  \n",
       "12  CHP_315-05_cfDNA      CHP  \n",
       "13  CHP_319-05-PBMC-DNA   CHP  \n",
       "14  NA                    CHP  \n",
       "15  NA                    CHP  \n",
       "16  NA                    CHP  \n",
       "17  NA                    CHP  \n",
       "18  NA                    CHP  \n",
       "19  NA                    CHP  \n",
       "20  NA                    CHP  \n",
       "21  NA                    CHP  \n",
       "22  NA                    CHP  \n",
       "23  NA                    CHP  \n",
       "24  NA                    CHP  \n",
       "25  NA                    CHP  \n",
       "26  NA                    CHP  \n",
       "27  NA                    CHP  \n",
       "28  NA                    CHP  \n",
       "29  NA                    CHP  \n",
       "30  NA                    CHP  \n",
       "⋮   ⋮                     ⋮    \n",
       "816 NA                    CHP  \n",
       "817 NA                    CHP  \n",
       "818 NA                    CHP  \n",
       "819 NA                    CHP  \n",
       "820 NA                    CHP  \n",
       "821 NA                    CHP  \n",
       "822 NA                    CHP  \n",
       "823 NA                    CHP  \n",
       "824 NA                    CHP  \n",
       "825 NA                    CHP  \n",
       "826 NA                    CHP  \n",
       "827 NA                    CHP  \n",
       "828 NA                    CHP  \n",
       "829 NA                    CHP  \n",
       "830 NA                    CHP  \n",
       "831 NA                    CHP  \n",
       "832 NA                    CHP  \n",
       "833 NA                    CHP  \n",
       "834 CHP_5YO-M_PBMC_DNA    CHP  \n",
       "835 CHP_8MO-F_PBMC_DNA    CHP  \n",
       "836 LFS_TCR-4535-PBMC-DNA LFS  \n",
       "837 LFS_TCR-4570-PBMC-DNA LFS  \n",
       "838 LFS_TCR-4602-PBMC-DNA LFS  \n",
       "839 LFS_TCR-4758-PBMC-DNA LFS  \n",
       "840 LFS_TCR-4759-PBMC-DNA LFS  \n",
       "841 LFS_TCR-4783-PBMC-DNA LFS  \n",
       "842 LFS_TCR-4837-PBMC-DNA LFS  \n",
       "843 LFS_TCR-4838-PBMC-DNA LFS  \n",
       "844 LFS_TCR-5014-PBMC-DNA LFS  \n",
       "845 LFS_TCR-5067-PBMC-DNA LFS  "
      ]
     },
     "metadata": {},
     "output_type": "display_data"
    }
   ],
   "source": [
    "meta_div"
   ]
  },
  {
   "cell_type": "code",
   "execution_count": 14,
   "metadata": {
    "vscode": {
     "languageId": "r"
    }
   },
   "outputs": [],
   "source": [
    "#create sample type\n",
    "meta_div$sampletype <- NA\n",
    "meta_div$sampletype[grepl(\"PBMC\", meta_div$basename)] <- \"PBMC\"\n",
    "meta_div$sampletype[grepl(\"cfDNA\", meta_div$basename)] <- \"cfDNA\"\n",
    "meta_div$sampletype[grepl(\"FFPE\", meta_div$basename)] <- \"Tumor\""
   ]
  },
  {
   "cell_type": "code",
   "execution_count": 15,
   "metadata": {
    "vscode": {
     "languageId": "r"
    }
   },
   "outputs": [],
   "source": [
    "#add Patient id for normals, lfs \n",
    "meta_div$Patient[meta_div$sample_id %in% c(lfs, normals)] <- \n",
    "substr(meta_div$sample_id[meta_div$sample_id %in% c(lfs, normals)],1,\n",
    "       nchar(meta_div$sample_id[meta_div$sample_id %in% c(lfs, normals)])-3)"
   ]
  },
  {
   "cell_type": "code",
   "execution_count": 16,
   "metadata": {
    "vscode": {
     "languageId": "r"
    }
   },
   "outputs": [],
   "source": [
    "# few samples we sequenced but was not in David's file\n",
    "meta_div$Patient[ is.na(meta_div$Patient) & meta_div$sampletype != \"Tumor\"] <- \n",
    "substr(meta_div$sample_id[ is.na(meta_div$Patient) & meta_div$sampletype != \"Tumor\"],1,\n",
    "       nchar(meta_div$sample_id[ is.na(meta_div$Patient) & meta_div$sampletype != \"Tumor\"])-3)"
   ]
  },
  {
   "cell_type": "code",
   "execution_count": 17,
   "metadata": {
    "vscode": {
     "languageId": "r"
    }
   },
   "outputs": [],
   "source": [
    "# Patient id same as sampel_id for tumor samples\n",
    "meta_div$Patient[ is.na(meta_div$Patient)] <- meta_div$sample_id[ is.na(meta_div$Patient)]"
   ]
  },
  {
   "cell_type": "code",
   "execution_count": 18,
   "metadata": {
    "vscode": {
     "languageId": "r"
    }
   },
   "outputs": [],
   "source": [
    "#overwrite cycle for consistency\n",
    "\n",
    "meta_div$cycle <- NA\n",
    "meta_div$cycle <- substr(meta_div$sample_id,\n",
    "       nchar(meta_div$sample_id)-1, nchar(meta_div$sample_id))"
   ]
  },
  {
   "cell_type": "code",
   "execution_count": 19,
   "metadata": {
    "vscode": {
     "languageId": "r"
    }
   },
   "outputs": [],
   "source": [
    "#add X to prevent numeric\n",
    "meta_div$cycle <- paste0(\"X\", meta_div$cycle)"
   ]
  },
  {
   "cell_type": "code",
   "execution_count": 20,
   "metadata": {
    "vscode": {
     "languageId": "r"
    }
   },
   "outputs": [],
   "source": [
    "# cycle for tumors are 00\n",
    "meta_div$cycle[ which(meta_div$sampletype == \"Tumor\")] <- \"X00\""
   ]
  },
  {
   "cell_type": "code",
   "execution_count": 21,
   "metadata": {
    "vscode": {
     "languageId": "r"
    }
   },
   "outputs": [
    {
     "data": {
      "text/plain": [
       "\n",
       "X00 X01 X02 X03 X04 X05 \n",
       " 42 158 172 165 154 154 "
      ]
     },
     "metadata": {},
     "output_type": "display_data"
    }
   ],
   "source": [
    "table(meta_div$cycle)"
   ]
  },
  {
   "cell_type": "code",
   "execution_count": 22,
   "metadata": {
    "vscode": {
     "languageId": "r"
    }
   },
   "outputs": [],
   "source": [
    "#Disease_type for normals = Normal and lfs = LFS\n",
    "meta_div$Disease_type[ meta_div$sample_id %in% normals] <- \"Normal\"\n",
    "\n",
    "meta_div$Disease_type[ meta_div$sample_id %in% lfs] <- \"LFS\""
   ]
  },
  {
   "cell_type": "code",
   "execution_count": 23,
   "metadata": {
    "vscode": {
     "languageId": "r"
    }
   },
   "outputs": [
    {
     "data": {
      "text/plain": [
       "\n",
       "  ALCL    ALL    AML   ARMS     BL    BLL    CML  DLBCL   ERMS    EWS     HB \n",
       "    14    159     74      8     31     14     25     20     35     44     25 \n",
       "    HD HR ALL    LFS  MS NB     NB Normal     OS  PMBCL    RMS SR ALL  T-ALL \n",
       "    56     93     10      5     24     14     83     13     15     17     26 \n",
       " WILMS   <NA> \n",
       "    18     22 "
      ]
     },
     "metadata": {},
     "output_type": "display_data"
    }
   ],
   "source": [
    "table(meta_div$Disease_type, useNA = \"always\")"
   ]
  },
  {
   "cell_type": "code",
   "execution_count": 24,
   "metadata": {
    "vscode": {
     "languageId": "r"
    }
   },
   "outputs": [
    {
     "data": {
      "text/html": [
       "<table class=\"dataframe\">\n",
       "<caption>A data.frame: 22 × 58</caption>\n",
       "<thead>\n",
       "\t<tr><th></th><th scope=col>sample_id</th><th scope=col>Patient</th><th scope=col>cycle</th><th scope=col>FOLD</th><th scope=col>ATC</th><th scope=col>Age</th><th scope=col>Disease_type</th><th scope=col>TE_fold</th><th scope=col>Pass</th><th scope=col>CD3</th><th scope=col>⋯</th><th scope=col>observed_Shannon</th><th scope=col>estimated_Shannon</th><th scope=col>SE_Shannon</th><th scope=col>observed_Simpson</th><th scope=col>estimated_Simpson</th><th scope=col>SE_Simpson</th><th scope=col>file</th><th scope=col>basename</th><th scope=col>Group</th><th scope=col>sampletype</th></tr>\n",
       "\t<tr><th></th><th scope=col>&lt;chr&gt;</th><th scope=col>&lt;chr&gt;</th><th scope=col>&lt;chr&gt;</th><th scope=col>&lt;dbl&gt;</th><th scope=col>&lt;dbl&gt;</th><th scope=col>&lt;dbl&gt;</th><th scope=col>&lt;chr&gt;</th><th scope=col>&lt;chr&gt;</th><th scope=col>&lt;lgl&gt;</th><th scope=col>&lt;int&gt;</th><th scope=col>⋯</th><th scope=col>&lt;dbl&gt;</th><th scope=col>&lt;dbl&gt;</th><th scope=col>&lt;dbl&gt;</th><th scope=col>&lt;dbl&gt;</th><th scope=col>&lt;dbl&gt;</th><th scope=col>&lt;dbl&gt;</th><th scope=col>&lt;chr&gt;</th><th scope=col>&lt;chr&gt;</th><th scope=col>&lt;chr&gt;</th><th scope=col>&lt;chr&gt;</th></tr>\n",
       "</thead>\n",
       "<tbody>\n",
       "\t<tr><th scope=row>10</th><td>CHP_303_05</td><td>CHP_303  </td><td>X05</td><td>NA</td><td>NA</td><td>NA</td><td>NA</td><td>NA</td><td>NA</td><td>NA</td><td>⋯</td><td>191.496</td><td>194.714</td><td>1.481</td><td>158.597</td><td>161.725</td><td>2.010</td><td>batch4_19Aug2019/mixcr/clones/CLONES_TRBCHP_303-05-PBMC-DNA.txt                </td><td>CHP_303-05-PBMC-DNA</td><td>CHP</td><td>PBMC </td></tr>\n",
       "\t<tr><th scope=row>11</th><td>CHP_315_05</td><td>CHP_315  </td><td>X05</td><td>NA</td><td>NA</td><td>NA</td><td>NA</td><td>NA</td><td>NA</td><td>NA</td><td>⋯</td><td> 15.470</td><td> 15.793</td><td>0.629</td><td>  9.026</td><td>  9.138</td><td>0.749</td><td>batch4_19Aug2019/mixcr/clones/CLONES_TRBCHP_315-05-PBMC-DNA.txt                </td><td>CHP_315-05-PBMC-DNA</td><td>CHP</td><td>PBMC </td></tr>\n",
       "\t<tr><th scope=row>12</th><td>CHP_315_05</td><td>CHP_315  </td><td>X05</td><td>NA</td><td>NA</td><td>NA</td><td>NA</td><td>NA</td><td>NA</td><td>NA</td><td>⋯</td><td>  1.000</td><td>  1.000</td><td>0.000</td><td>  1.000</td><td>  1.000</td><td>0.000</td><td>remaining_batch_2_cfDNA_15April2021/mixcr/clones/CLONES_TRBCHP_315-05_cfDNA.txt</td><td>CHP_315-05_cfDNA   </td><td>CHP</td><td>cfDNA</td></tr>\n",
       "\t<tr><th scope=row>13</th><td>CHP_319_05</td><td>CHP_319  </td><td>X05</td><td>NA</td><td>NA</td><td>NA</td><td>NA</td><td>NA</td><td>NA</td><td>NA</td><td>⋯</td><td> 11.878</td><td> 13.439</td><td>1.238</td><td> 10.248</td><td> 11.626</td><td>1.264</td><td>batch2_Aug62019/mixcr/clones/CLONES_TRBCHP_319-05-PBMC-DNA.txt                 </td><td>CHP_319-05-PBMC-DNA</td><td>CHP</td><td>PBMC </td></tr>\n",
       "\t<tr><th scope=row>159</th><td>CHP_344_A </td><td>CHP_344_A</td><td>X00</td><td>NA</td><td>NA</td><td>NA</td><td>NA</td><td>NA</td><td>NA</td><td>NA</td><td>⋯</td><td>  4.807</td><td>  4.811</td><td>0.055</td><td>  4.009</td><td>  4.013</td><td>0.070</td><td>batchFFPE_3Apr2020/mixcr/clones/CLONES_TRBCHP_344_A-FFPE-DNA.txt               </td><td>CHP_344_A-FFPE-DNA </td><td>CHP</td><td>Tumor</td></tr>\n",
       "\t<tr><th scope=row>281</th><td>CHP_361   </td><td>CHP_361  </td><td>X00</td><td>NA</td><td>NA</td><td>NA</td><td>NA</td><td>NA</td><td>NA</td><td>NA</td><td>⋯</td><td>104.525</td><td>104.826</td><td>0.441</td><td> 83.093</td><td> 83.360</td><td>0.675</td><td>batchFFPE_3Apr2020/mixcr/clones/CLONES_TRBCHP_361-FFPE-DNA_S1.txt              </td><td>CHP_361-FFPE-DNA_S1</td><td>CHP</td><td>Tumor</td></tr>\n",
       "\t<tr><th scope=row>308</th><td>CHP_364   </td><td>CHP_364  </td><td>X00</td><td>NA</td><td>NA</td><td>NA</td><td>NA</td><td>NA</td><td>NA</td><td>NA</td><td>⋯</td><td>  7.124</td><td>  7.136</td><td>0.103</td><td>  5.434</td><td>  5.443</td><td>0.145</td><td>batchFFPE_3Apr2020/mixcr/clones/CLONES_TRBCHP_364-FFPE-DNA_S1.txt              </td><td>CHP_364-FFPE-DNA_S1</td><td>CHP</td><td>Tumor</td></tr>\n",
       "\t<tr><th scope=row>324</th><td>CHP_366   </td><td>CHP_366  </td><td>X00</td><td>NA</td><td>NA</td><td>NA</td><td>NA</td><td>NA</td><td>NA</td><td>NA</td><td>⋯</td><td>  4.720</td><td>  4.726</td><td>0.076</td><td>  3.425</td><td>  3.428</td><td>0.072</td><td>batchFFPE_3Apr2020/mixcr/clones/CLONES_TRBCHP_366-FFPE-DNA_S1.txt              </td><td>CHP_366-FFPE-DNA_S1</td><td>CHP</td><td>Tumor</td></tr>\n",
       "\t<tr><th scope=row>354</th><td>CHP_370   </td><td>CHP_370  </td><td>X00</td><td>NA</td><td>NA</td><td>NA</td><td>NA</td><td>NA</td><td>NA</td><td>NA</td><td>⋯</td><td>  2.555</td><td>  2.555</td><td>0.014</td><td>  2.267</td><td>  2.267</td><td>0.009</td><td>batchFFPE_3Apr2020/mixcr/clones/CLONES_TRBCHP_370-FFPE-DNA_S5.txt              </td><td>CHP_370-FFPE-DNA_S5</td><td>CHP</td><td>Tumor</td></tr>\n",
       "\t<tr><th scope=row>372</th><td>CHP_372   </td><td>CHP_372  </td><td>X00</td><td>NA</td><td>NA</td><td>NA</td><td>NA</td><td>NA</td><td>NA</td><td>NA</td><td>⋯</td><td>  2.406</td><td>  2.412</td><td>0.047</td><td>  1.739</td><td>  1.740</td><td>0.034</td><td>batchFFPE_3Apr2020/mixcr/clones/CLONES_TRBCHP_372-FFPE-DNA_S1.txt              </td><td>CHP_372-FFPE-DNA_S1</td><td>CHP</td><td>Tumor</td></tr>\n",
       "\t<tr><th scope=row>426</th><td>CHP_380   </td><td>CHP_380  </td><td>X00</td><td>NA</td><td>NA</td><td>NA</td><td>NA</td><td>NA</td><td>NA</td><td>NA</td><td>⋯</td><td> 69.578</td><td> 69.844</td><td>0.408</td><td> 57.176</td><td> 57.407</td><td>0.554</td><td>batchFFPE_3Apr2020/mixcr/clones/CLONES_TRBCHP_380-FFPE-DNA_S1.txt              </td><td>CHP_380-FFPE-DNA_S1</td><td>CHP</td><td>Tumor</td></tr>\n",
       "\t<tr><th scope=row>493</th><td>CHP_389   </td><td>CHP_389  </td><td>X00</td><td>NA</td><td>NA</td><td>NA</td><td>NA</td><td>NA</td><td>NA</td><td>NA</td><td>⋯</td><td> 57.330</td><td> 57.437</td><td>0.326</td><td> 41.651</td><td> 41.717</td><td>0.334</td><td>batchFFPE_3Apr2020/mixcr/clones/CLONES_TRBCHP_389-FFPE-DNA_S1.txt              </td><td>CHP_389-FFPE-DNA_S1</td><td>CHP</td><td>Tumor</td></tr>\n",
       "\t<tr><th scope=row>501</th><td>CHP_390   </td><td>CHP_390  </td><td>X00</td><td>NA</td><td>NA</td><td>NA</td><td>NA</td><td>NA</td><td>NA</td><td>NA</td><td>⋯</td><td>  1.748</td><td>  1.749</td><td>0.029</td><td>  1.591</td><td>  1.592</td><td>0.042</td><td>batchFFPE_3Apr2020/mixcr/clones/CLONES_TRBCHP_390-FFPE-DNA_S9.txt              </td><td>CHP_390-FFPE-DNA_S9</td><td>CHP</td><td>Tumor</td></tr>\n",
       "\t<tr><th scope=row>532</th><td>CHP_394   </td><td>CHP_394  </td><td>X00</td><td>NA</td><td>NA</td><td>NA</td><td>NA</td><td>NA</td><td>NA</td><td>NA</td><td>⋯</td><td>  1.987</td><td>  1.989</td><td>0.017</td><td>  1.951</td><td>  1.953</td><td>0.020</td><td>batchFFPE_3Apr2020/mixcr/clones/CLONES_TRBCHP_394-FFPE-DNA_S4.txt              </td><td>CHP_394-FFPE-DNA_S4</td><td>CHP</td><td>Tumor</td></tr>\n",
       "\t<tr><th scope=row>583</th><td>CHP_400   </td><td>CHP_400  </td><td>X00</td><td>NA</td><td>NA</td><td>NA</td><td>NA</td><td>NA</td><td>NA</td><td>NA</td><td>⋯</td><td> 53.667</td><td> 53.792</td><td>0.318</td><td> 42.248</td><td> 42.351</td><td>0.443</td><td>batchFFPE_3Apr2020/mixcr/clones/CLONES_TRBCHP_400-FFPE-DNA_S1.txt              </td><td>CHP_400-FFPE-DNA_S1</td><td>CHP</td><td>Tumor</td></tr>\n",
       "\t<tr><th scope=row>592</th><td>CHP_401   </td><td>CHP_401  </td><td>X00</td><td>NA</td><td>NA</td><td>NA</td><td>NA</td><td>NA</td><td>NA</td><td>NA</td><td>⋯</td><td>  9.153</td><td>  9.198</td><td>0.085</td><td>  8.860</td><td>  8.914</td><td>0.090</td><td>batchFFPE_3Apr2020/mixcr/clones/CLONES_TRBCHP_401-FFPE-DNA_S1.txt              </td><td>CHP_401-FFPE-DNA_S1</td><td>CHP</td><td>Tumor</td></tr>\n",
       "\t<tr><th scope=row>626</th><td>CHP_404_A </td><td>CHP_404_A</td><td>X00</td><td>NA</td><td>NA</td><td>NA</td><td>NA</td><td>NA</td><td>NA</td><td>NA</td><td>⋯</td><td>  8.117</td><td>  8.149</td><td>0.112</td><td>  7.369</td><td>  7.410</td><td>0.187</td><td>batchFFPE_3Apr2020/mixcr/clones/CLONES_TRBCHP_404_A-FFPE-DNA.txt               </td><td>CHP_404_A-FFPE-DNA </td><td>CHP</td><td>Tumor</td></tr>\n",
       "\t<tr><th scope=row>627</th><td>CHP_404_B </td><td>CHP_404_B</td><td>X00</td><td>NA</td><td>NA</td><td>NA</td><td>NA</td><td>NA</td><td>NA</td><td>NA</td><td>⋯</td><td>  7.493</td><td>  7.510</td><td>0.104</td><td>  6.509</td><td>  6.530</td><td>0.153</td><td>batchFFPE_3Apr2020/mixcr/clones/CLONES_TRBCHP_404_B-FFPE-DNA.txt               </td><td>CHP_404_B-FFPE-DNA </td><td>CHP</td><td>Tumor</td></tr>\n",
       "\t<tr><th scope=row>642</th><td>CHP_407   </td><td>CHP_407  </td><td>X00</td><td>NA</td><td>NA</td><td>NA</td><td>NA</td><td>NA</td><td>NA</td><td>NA</td><td>⋯</td><td>  3.244</td><td>  3.245</td><td>0.023</td><td>  2.905</td><td>  2.905</td><td>0.024</td><td>batchFFPE_3Apr2020/mixcr/clones/CLONES_TRBCHP_407-FFPE-DNA_S7.txt              </td><td>CHP_407-FFPE-DNA_S7</td><td>CHP</td><td>Tumor</td></tr>\n",
       "\t<tr><th scope=row>682</th><td>CHP_412   </td><td>CHP_412  </td><td>X00</td><td>NA</td><td>NA</td><td>NA</td><td>NA</td><td>NA</td><td>NA</td><td>NA</td><td>⋯</td><td>113.321</td><td>113.587</td><td>0.380</td><td> 96.718</td><td> 97.033</td><td>0.675</td><td>batchFFPE_3Apr2020/mixcr/clones/CLONES_TRBCHP_412-FFPE-DNA_S1.txt              </td><td>CHP_412-FFPE-DNA_S1</td><td>CHP</td><td>Tumor</td></tr>\n",
       "\t<tr><th scope=row>727</th><td>CHP_418   </td><td>CHP_418  </td><td>X00</td><td>NA</td><td>NA</td><td>NA</td><td>NA</td><td>NA</td><td>NA</td><td>NA</td><td>⋯</td><td>  3.467</td><td>  3.475</td><td>0.091</td><td>  2.723</td><td>  2.728</td><td>0.099</td><td>batchFFPE_3Apr2020/mixcr/clones/CLONES_TRBCHP_418-FFPE-DNA_S2.txt              </td><td>CHP_418-FFPE-DNA_S2</td><td>CHP</td><td>Tumor</td></tr>\n",
       "\t<tr><th scope=row>735</th><td>CHP_419   </td><td>CHP_419  </td><td>X00</td><td>NA</td><td>NA</td><td>NA</td><td>NA</td><td>NA</td><td>NA</td><td>NA</td><td>⋯</td><td>     NA</td><td>     NA</td><td>   NA</td><td>     NA</td><td>     NA</td><td>   NA</td><td>NA                                                                             </td><td>CHP_419-FFPE-DNA_S2</td><td>CHP</td><td>Tumor</td></tr>\n",
       "</tbody>\n",
       "</table>\n"
      ],
      "text/latex": [
       "A data.frame: 22 × 58\n",
       "\\begin{tabular}{r|lllllllllllllllllllll}\n",
       "  & sample\\_id & Patient & cycle & FOLD & ATC & Age & Disease\\_type & TE\\_fold & Pass & CD3 & ⋯ & observed\\_Shannon & estimated\\_Shannon & SE\\_Shannon & observed\\_Simpson & estimated\\_Simpson & SE\\_Simpson & file & basename & Group & sampletype\\\\\n",
       "  & <chr> & <chr> & <chr> & <dbl> & <dbl> & <dbl> & <chr> & <chr> & <lgl> & <int> & ⋯ & <dbl> & <dbl> & <dbl> & <dbl> & <dbl> & <dbl> & <chr> & <chr> & <chr> & <chr>\\\\\n",
       "\\hline\n",
       "\t10 & CHP\\_303\\_05 & CHP\\_303   & X05 & NA & NA & NA & NA & NA & NA & NA & ⋯ & 191.496 & 194.714 & 1.481 & 158.597 & 161.725 & 2.010 & batch4\\_19Aug2019/mixcr/clones/CLONES\\_TRBCHP\\_303-05-PBMC-DNA.txt                 & CHP\\_303-05-PBMC-DNA & CHP & PBMC \\\\\n",
       "\t11 & CHP\\_315\\_05 & CHP\\_315   & X05 & NA & NA & NA & NA & NA & NA & NA & ⋯ &  15.470 &  15.793 & 0.629 &   9.026 &   9.138 & 0.749 & batch4\\_19Aug2019/mixcr/clones/CLONES\\_TRBCHP\\_315-05-PBMC-DNA.txt                 & CHP\\_315-05-PBMC-DNA & CHP & PBMC \\\\\n",
       "\t12 & CHP\\_315\\_05 & CHP\\_315   & X05 & NA & NA & NA & NA & NA & NA & NA & ⋯ &   1.000 &   1.000 & 0.000 &   1.000 &   1.000 & 0.000 & remaining\\_batch\\_2\\_cfDNA\\_15April2021/mixcr/clones/CLONES\\_TRBCHP\\_315-05\\_cfDNA.txt & CHP\\_315-05\\_cfDNA    & CHP & cfDNA\\\\\n",
       "\t13 & CHP\\_319\\_05 & CHP\\_319   & X05 & NA & NA & NA & NA & NA & NA & NA & ⋯ &  11.878 &  13.439 & 1.238 &  10.248 &  11.626 & 1.264 & batch2\\_Aug62019/mixcr/clones/CLONES\\_TRBCHP\\_319-05-PBMC-DNA.txt                  & CHP\\_319-05-PBMC-DNA & CHP & PBMC \\\\\n",
       "\t159 & CHP\\_344\\_A  & CHP\\_344\\_A & X00 & NA & NA & NA & NA & NA & NA & NA & ⋯ &   4.807 &   4.811 & 0.055 &   4.009 &   4.013 & 0.070 & batchFFPE\\_3Apr2020/mixcr/clones/CLONES\\_TRBCHP\\_344\\_A-FFPE-DNA.txt                & CHP\\_344\\_A-FFPE-DNA  & CHP & Tumor\\\\\n",
       "\t281 & CHP\\_361    & CHP\\_361   & X00 & NA & NA & NA & NA & NA & NA & NA & ⋯ & 104.525 & 104.826 & 0.441 &  83.093 &  83.360 & 0.675 & batchFFPE\\_3Apr2020/mixcr/clones/CLONES\\_TRBCHP\\_361-FFPE-DNA\\_S1.txt               & CHP\\_361-FFPE-DNA\\_S1 & CHP & Tumor\\\\\n",
       "\t308 & CHP\\_364    & CHP\\_364   & X00 & NA & NA & NA & NA & NA & NA & NA & ⋯ &   7.124 &   7.136 & 0.103 &   5.434 &   5.443 & 0.145 & batchFFPE\\_3Apr2020/mixcr/clones/CLONES\\_TRBCHP\\_364-FFPE-DNA\\_S1.txt               & CHP\\_364-FFPE-DNA\\_S1 & CHP & Tumor\\\\\n",
       "\t324 & CHP\\_366    & CHP\\_366   & X00 & NA & NA & NA & NA & NA & NA & NA & ⋯ &   4.720 &   4.726 & 0.076 &   3.425 &   3.428 & 0.072 & batchFFPE\\_3Apr2020/mixcr/clones/CLONES\\_TRBCHP\\_366-FFPE-DNA\\_S1.txt               & CHP\\_366-FFPE-DNA\\_S1 & CHP & Tumor\\\\\n",
       "\t354 & CHP\\_370    & CHP\\_370   & X00 & NA & NA & NA & NA & NA & NA & NA & ⋯ &   2.555 &   2.555 & 0.014 &   2.267 &   2.267 & 0.009 & batchFFPE\\_3Apr2020/mixcr/clones/CLONES\\_TRBCHP\\_370-FFPE-DNA\\_S5.txt               & CHP\\_370-FFPE-DNA\\_S5 & CHP & Tumor\\\\\n",
       "\t372 & CHP\\_372    & CHP\\_372   & X00 & NA & NA & NA & NA & NA & NA & NA & ⋯ &   2.406 &   2.412 & 0.047 &   1.739 &   1.740 & 0.034 & batchFFPE\\_3Apr2020/mixcr/clones/CLONES\\_TRBCHP\\_372-FFPE-DNA\\_S1.txt               & CHP\\_372-FFPE-DNA\\_S1 & CHP & Tumor\\\\\n",
       "\t426 & CHP\\_380    & CHP\\_380   & X00 & NA & NA & NA & NA & NA & NA & NA & ⋯ &  69.578 &  69.844 & 0.408 &  57.176 &  57.407 & 0.554 & batchFFPE\\_3Apr2020/mixcr/clones/CLONES\\_TRBCHP\\_380-FFPE-DNA\\_S1.txt               & CHP\\_380-FFPE-DNA\\_S1 & CHP & Tumor\\\\\n",
       "\t493 & CHP\\_389    & CHP\\_389   & X00 & NA & NA & NA & NA & NA & NA & NA & ⋯ &  57.330 &  57.437 & 0.326 &  41.651 &  41.717 & 0.334 & batchFFPE\\_3Apr2020/mixcr/clones/CLONES\\_TRBCHP\\_389-FFPE-DNA\\_S1.txt               & CHP\\_389-FFPE-DNA\\_S1 & CHP & Tumor\\\\\n",
       "\t501 & CHP\\_390    & CHP\\_390   & X00 & NA & NA & NA & NA & NA & NA & NA & ⋯ &   1.748 &   1.749 & 0.029 &   1.591 &   1.592 & 0.042 & batchFFPE\\_3Apr2020/mixcr/clones/CLONES\\_TRBCHP\\_390-FFPE-DNA\\_S9.txt               & CHP\\_390-FFPE-DNA\\_S9 & CHP & Tumor\\\\\n",
       "\t532 & CHP\\_394    & CHP\\_394   & X00 & NA & NA & NA & NA & NA & NA & NA & ⋯ &   1.987 &   1.989 & 0.017 &   1.951 &   1.953 & 0.020 & batchFFPE\\_3Apr2020/mixcr/clones/CLONES\\_TRBCHP\\_394-FFPE-DNA\\_S4.txt               & CHP\\_394-FFPE-DNA\\_S4 & CHP & Tumor\\\\\n",
       "\t583 & CHP\\_400    & CHP\\_400   & X00 & NA & NA & NA & NA & NA & NA & NA & ⋯ &  53.667 &  53.792 & 0.318 &  42.248 &  42.351 & 0.443 & batchFFPE\\_3Apr2020/mixcr/clones/CLONES\\_TRBCHP\\_400-FFPE-DNA\\_S1.txt               & CHP\\_400-FFPE-DNA\\_S1 & CHP & Tumor\\\\\n",
       "\t592 & CHP\\_401    & CHP\\_401   & X00 & NA & NA & NA & NA & NA & NA & NA & ⋯ &   9.153 &   9.198 & 0.085 &   8.860 &   8.914 & 0.090 & batchFFPE\\_3Apr2020/mixcr/clones/CLONES\\_TRBCHP\\_401-FFPE-DNA\\_S1.txt               & CHP\\_401-FFPE-DNA\\_S1 & CHP & Tumor\\\\\n",
       "\t626 & CHP\\_404\\_A  & CHP\\_404\\_A & X00 & NA & NA & NA & NA & NA & NA & NA & ⋯ &   8.117 &   8.149 & 0.112 &   7.369 &   7.410 & 0.187 & batchFFPE\\_3Apr2020/mixcr/clones/CLONES\\_TRBCHP\\_404\\_A-FFPE-DNA.txt                & CHP\\_404\\_A-FFPE-DNA  & CHP & Tumor\\\\\n",
       "\t627 & CHP\\_404\\_B  & CHP\\_404\\_B & X00 & NA & NA & NA & NA & NA & NA & NA & ⋯ &   7.493 &   7.510 & 0.104 &   6.509 &   6.530 & 0.153 & batchFFPE\\_3Apr2020/mixcr/clones/CLONES\\_TRBCHP\\_404\\_B-FFPE-DNA.txt                & CHP\\_404\\_B-FFPE-DNA  & CHP & Tumor\\\\\n",
       "\t642 & CHP\\_407    & CHP\\_407   & X00 & NA & NA & NA & NA & NA & NA & NA & ⋯ &   3.244 &   3.245 & 0.023 &   2.905 &   2.905 & 0.024 & batchFFPE\\_3Apr2020/mixcr/clones/CLONES\\_TRBCHP\\_407-FFPE-DNA\\_S7.txt               & CHP\\_407-FFPE-DNA\\_S7 & CHP & Tumor\\\\\n",
       "\t682 & CHP\\_412    & CHP\\_412   & X00 & NA & NA & NA & NA & NA & NA & NA & ⋯ & 113.321 & 113.587 & 0.380 &  96.718 &  97.033 & 0.675 & batchFFPE\\_3Apr2020/mixcr/clones/CLONES\\_TRBCHP\\_412-FFPE-DNA\\_S1.txt               & CHP\\_412-FFPE-DNA\\_S1 & CHP & Tumor\\\\\n",
       "\t727 & CHP\\_418    & CHP\\_418   & X00 & NA & NA & NA & NA & NA & NA & NA & ⋯ &   3.467 &   3.475 & 0.091 &   2.723 &   2.728 & 0.099 & batchFFPE\\_3Apr2020/mixcr/clones/CLONES\\_TRBCHP\\_418-FFPE-DNA\\_S2.txt               & CHP\\_418-FFPE-DNA\\_S2 & CHP & Tumor\\\\\n",
       "\t735 & CHP\\_419    & CHP\\_419   & X00 & NA & NA & NA & NA & NA & NA & NA & ⋯ &      NA &      NA &    NA &      NA &      NA &    NA & NA                                                                              & CHP\\_419-FFPE-DNA\\_S2 & CHP & Tumor\\\\\n",
       "\\end{tabular}\n"
      ],
      "text/markdown": [
       "\n",
       "A data.frame: 22 × 58\n",
       "\n",
       "| <!--/--> | sample_id &lt;chr&gt; | Patient &lt;chr&gt; | cycle &lt;chr&gt; | FOLD &lt;dbl&gt; | ATC &lt;dbl&gt; | Age &lt;dbl&gt; | Disease_type &lt;chr&gt; | TE_fold &lt;chr&gt; | Pass &lt;lgl&gt; | CD3 &lt;int&gt; | ⋯ ⋯ | observed_Shannon &lt;dbl&gt; | estimated_Shannon &lt;dbl&gt; | SE_Shannon &lt;dbl&gt; | observed_Simpson &lt;dbl&gt; | estimated_Simpson &lt;dbl&gt; | SE_Simpson &lt;dbl&gt; | file &lt;chr&gt; | basename &lt;chr&gt; | Group &lt;chr&gt; | sampletype &lt;chr&gt; |\n",
       "|---|---|---|---|---|---|---|---|---|---|---|---|---|---|---|---|---|---|---|---|---|---|\n",
       "| 10 | CHP_303_05 | CHP_303   | X05 | NA | NA | NA | NA | NA | NA | NA | ⋯ | 191.496 | 194.714 | 1.481 | 158.597 | 161.725 | 2.010 | batch4_19Aug2019/mixcr/clones/CLONES_TRBCHP_303-05-PBMC-DNA.txt                 | CHP_303-05-PBMC-DNA | CHP | PBMC  |\n",
       "| 11 | CHP_315_05 | CHP_315   | X05 | NA | NA | NA | NA | NA | NA | NA | ⋯ |  15.470 |  15.793 | 0.629 |   9.026 |   9.138 | 0.749 | batch4_19Aug2019/mixcr/clones/CLONES_TRBCHP_315-05-PBMC-DNA.txt                 | CHP_315-05-PBMC-DNA | CHP | PBMC  |\n",
       "| 12 | CHP_315_05 | CHP_315   | X05 | NA | NA | NA | NA | NA | NA | NA | ⋯ |   1.000 |   1.000 | 0.000 |   1.000 |   1.000 | 0.000 | remaining_batch_2_cfDNA_15April2021/mixcr/clones/CLONES_TRBCHP_315-05_cfDNA.txt | CHP_315-05_cfDNA    | CHP | cfDNA |\n",
       "| 13 | CHP_319_05 | CHP_319   | X05 | NA | NA | NA | NA | NA | NA | NA | ⋯ |  11.878 |  13.439 | 1.238 |  10.248 |  11.626 | 1.264 | batch2_Aug62019/mixcr/clones/CLONES_TRBCHP_319-05-PBMC-DNA.txt                  | CHP_319-05-PBMC-DNA | CHP | PBMC  |\n",
       "| 159 | CHP_344_A  | CHP_344_A | X00 | NA | NA | NA | NA | NA | NA | NA | ⋯ |   4.807 |   4.811 | 0.055 |   4.009 |   4.013 | 0.070 | batchFFPE_3Apr2020/mixcr/clones/CLONES_TRBCHP_344_A-FFPE-DNA.txt                | CHP_344_A-FFPE-DNA  | CHP | Tumor |\n",
       "| 281 | CHP_361    | CHP_361   | X00 | NA | NA | NA | NA | NA | NA | NA | ⋯ | 104.525 | 104.826 | 0.441 |  83.093 |  83.360 | 0.675 | batchFFPE_3Apr2020/mixcr/clones/CLONES_TRBCHP_361-FFPE-DNA_S1.txt               | CHP_361-FFPE-DNA_S1 | CHP | Tumor |\n",
       "| 308 | CHP_364    | CHP_364   | X00 | NA | NA | NA | NA | NA | NA | NA | ⋯ |   7.124 |   7.136 | 0.103 |   5.434 |   5.443 | 0.145 | batchFFPE_3Apr2020/mixcr/clones/CLONES_TRBCHP_364-FFPE-DNA_S1.txt               | CHP_364-FFPE-DNA_S1 | CHP | Tumor |\n",
       "| 324 | CHP_366    | CHP_366   | X00 | NA | NA | NA | NA | NA | NA | NA | ⋯ |   4.720 |   4.726 | 0.076 |   3.425 |   3.428 | 0.072 | batchFFPE_3Apr2020/mixcr/clones/CLONES_TRBCHP_366-FFPE-DNA_S1.txt               | CHP_366-FFPE-DNA_S1 | CHP | Tumor |\n",
       "| 354 | CHP_370    | CHP_370   | X00 | NA | NA | NA | NA | NA | NA | NA | ⋯ |   2.555 |   2.555 | 0.014 |   2.267 |   2.267 | 0.009 | batchFFPE_3Apr2020/mixcr/clones/CLONES_TRBCHP_370-FFPE-DNA_S5.txt               | CHP_370-FFPE-DNA_S5 | CHP | Tumor |\n",
       "| 372 | CHP_372    | CHP_372   | X00 | NA | NA | NA | NA | NA | NA | NA | ⋯ |   2.406 |   2.412 | 0.047 |   1.739 |   1.740 | 0.034 | batchFFPE_3Apr2020/mixcr/clones/CLONES_TRBCHP_372-FFPE-DNA_S1.txt               | CHP_372-FFPE-DNA_S1 | CHP | Tumor |\n",
       "| 426 | CHP_380    | CHP_380   | X00 | NA | NA | NA | NA | NA | NA | NA | ⋯ |  69.578 |  69.844 | 0.408 |  57.176 |  57.407 | 0.554 | batchFFPE_3Apr2020/mixcr/clones/CLONES_TRBCHP_380-FFPE-DNA_S1.txt               | CHP_380-FFPE-DNA_S1 | CHP | Tumor |\n",
       "| 493 | CHP_389    | CHP_389   | X00 | NA | NA | NA | NA | NA | NA | NA | ⋯ |  57.330 |  57.437 | 0.326 |  41.651 |  41.717 | 0.334 | batchFFPE_3Apr2020/mixcr/clones/CLONES_TRBCHP_389-FFPE-DNA_S1.txt               | CHP_389-FFPE-DNA_S1 | CHP | Tumor |\n",
       "| 501 | CHP_390    | CHP_390   | X00 | NA | NA | NA | NA | NA | NA | NA | ⋯ |   1.748 |   1.749 | 0.029 |   1.591 |   1.592 | 0.042 | batchFFPE_3Apr2020/mixcr/clones/CLONES_TRBCHP_390-FFPE-DNA_S9.txt               | CHP_390-FFPE-DNA_S9 | CHP | Tumor |\n",
       "| 532 | CHP_394    | CHP_394   | X00 | NA | NA | NA | NA | NA | NA | NA | ⋯ |   1.987 |   1.989 | 0.017 |   1.951 |   1.953 | 0.020 | batchFFPE_3Apr2020/mixcr/clones/CLONES_TRBCHP_394-FFPE-DNA_S4.txt               | CHP_394-FFPE-DNA_S4 | CHP | Tumor |\n",
       "| 583 | CHP_400    | CHP_400   | X00 | NA | NA | NA | NA | NA | NA | NA | ⋯ |  53.667 |  53.792 | 0.318 |  42.248 |  42.351 | 0.443 | batchFFPE_3Apr2020/mixcr/clones/CLONES_TRBCHP_400-FFPE-DNA_S1.txt               | CHP_400-FFPE-DNA_S1 | CHP | Tumor |\n",
       "| 592 | CHP_401    | CHP_401   | X00 | NA | NA | NA | NA | NA | NA | NA | ⋯ |   9.153 |   9.198 | 0.085 |   8.860 |   8.914 | 0.090 | batchFFPE_3Apr2020/mixcr/clones/CLONES_TRBCHP_401-FFPE-DNA_S1.txt               | CHP_401-FFPE-DNA_S1 | CHP | Tumor |\n",
       "| 626 | CHP_404_A  | CHP_404_A | X00 | NA | NA | NA | NA | NA | NA | NA | ⋯ |   8.117 |   8.149 | 0.112 |   7.369 |   7.410 | 0.187 | batchFFPE_3Apr2020/mixcr/clones/CLONES_TRBCHP_404_A-FFPE-DNA.txt                | CHP_404_A-FFPE-DNA  | CHP | Tumor |\n",
       "| 627 | CHP_404_B  | CHP_404_B | X00 | NA | NA | NA | NA | NA | NA | NA | ⋯ |   7.493 |   7.510 | 0.104 |   6.509 |   6.530 | 0.153 | batchFFPE_3Apr2020/mixcr/clones/CLONES_TRBCHP_404_B-FFPE-DNA.txt                | CHP_404_B-FFPE-DNA  | CHP | Tumor |\n",
       "| 642 | CHP_407    | CHP_407   | X00 | NA | NA | NA | NA | NA | NA | NA | ⋯ |   3.244 |   3.245 | 0.023 |   2.905 |   2.905 | 0.024 | batchFFPE_3Apr2020/mixcr/clones/CLONES_TRBCHP_407-FFPE-DNA_S7.txt               | CHP_407-FFPE-DNA_S7 | CHP | Tumor |\n",
       "| 682 | CHP_412    | CHP_412   | X00 | NA | NA | NA | NA | NA | NA | NA | ⋯ | 113.321 | 113.587 | 0.380 |  96.718 |  97.033 | 0.675 | batchFFPE_3Apr2020/mixcr/clones/CLONES_TRBCHP_412-FFPE-DNA_S1.txt               | CHP_412-FFPE-DNA_S1 | CHP | Tumor |\n",
       "| 727 | CHP_418    | CHP_418   | X00 | NA | NA | NA | NA | NA | NA | NA | ⋯ |   3.467 |   3.475 | 0.091 |   2.723 |   2.728 | 0.099 | batchFFPE_3Apr2020/mixcr/clones/CLONES_TRBCHP_418-FFPE-DNA_S2.txt               | CHP_418-FFPE-DNA_S2 | CHP | Tumor |\n",
       "| 735 | CHP_419    | CHP_419   | X00 | NA | NA | NA | NA | NA | NA | NA | ⋯ |      NA |      NA |    NA |      NA |      NA |    NA | NA                                                                              | CHP_419-FFPE-DNA_S2 | CHP | Tumor |\n",
       "\n"
      ],
      "text/plain": [
       "    sample_id  Patient   cycle FOLD ATC Age Disease_type TE_fold Pass CD3 ⋯\n",
       "10  CHP_303_05 CHP_303   X05   NA   NA  NA  NA           NA      NA   NA  ⋯\n",
       "11  CHP_315_05 CHP_315   X05   NA   NA  NA  NA           NA      NA   NA  ⋯\n",
       "12  CHP_315_05 CHP_315   X05   NA   NA  NA  NA           NA      NA   NA  ⋯\n",
       "13  CHP_319_05 CHP_319   X05   NA   NA  NA  NA           NA      NA   NA  ⋯\n",
       "159 CHP_344_A  CHP_344_A X00   NA   NA  NA  NA           NA      NA   NA  ⋯\n",
       "281 CHP_361    CHP_361   X00   NA   NA  NA  NA           NA      NA   NA  ⋯\n",
       "308 CHP_364    CHP_364   X00   NA   NA  NA  NA           NA      NA   NA  ⋯\n",
       "324 CHP_366    CHP_366   X00   NA   NA  NA  NA           NA      NA   NA  ⋯\n",
       "354 CHP_370    CHP_370   X00   NA   NA  NA  NA           NA      NA   NA  ⋯\n",
       "372 CHP_372    CHP_372   X00   NA   NA  NA  NA           NA      NA   NA  ⋯\n",
       "426 CHP_380    CHP_380   X00   NA   NA  NA  NA           NA      NA   NA  ⋯\n",
       "493 CHP_389    CHP_389   X00   NA   NA  NA  NA           NA      NA   NA  ⋯\n",
       "501 CHP_390    CHP_390   X00   NA   NA  NA  NA           NA      NA   NA  ⋯\n",
       "532 CHP_394    CHP_394   X00   NA   NA  NA  NA           NA      NA   NA  ⋯\n",
       "583 CHP_400    CHP_400   X00   NA   NA  NA  NA           NA      NA   NA  ⋯\n",
       "592 CHP_401    CHP_401   X00   NA   NA  NA  NA           NA      NA   NA  ⋯\n",
       "626 CHP_404_A  CHP_404_A X00   NA   NA  NA  NA           NA      NA   NA  ⋯\n",
       "627 CHP_404_B  CHP_404_B X00   NA   NA  NA  NA           NA      NA   NA  ⋯\n",
       "642 CHP_407    CHP_407   X00   NA   NA  NA  NA           NA      NA   NA  ⋯\n",
       "682 CHP_412    CHP_412   X00   NA   NA  NA  NA           NA      NA   NA  ⋯\n",
       "727 CHP_418    CHP_418   X00   NA   NA  NA  NA           NA      NA   NA  ⋯\n",
       "735 CHP_419    CHP_419   X00   NA   NA  NA  NA           NA      NA   NA  ⋯\n",
       "    observed_Shannon estimated_Shannon SE_Shannon observed_Simpson\n",
       "10  191.496          194.714           1.481      158.597         \n",
       "11   15.470           15.793           0.629        9.026         \n",
       "12    1.000            1.000           0.000        1.000         \n",
       "13   11.878           13.439           1.238       10.248         \n",
       "159   4.807            4.811           0.055        4.009         \n",
       "281 104.525          104.826           0.441       83.093         \n",
       "308   7.124            7.136           0.103        5.434         \n",
       "324   4.720            4.726           0.076        3.425         \n",
       "354   2.555            2.555           0.014        2.267         \n",
       "372   2.406            2.412           0.047        1.739         \n",
       "426  69.578           69.844           0.408       57.176         \n",
       "493  57.330           57.437           0.326       41.651         \n",
       "501   1.748            1.749           0.029        1.591         \n",
       "532   1.987            1.989           0.017        1.951         \n",
       "583  53.667           53.792           0.318       42.248         \n",
       "592   9.153            9.198           0.085        8.860         \n",
       "626   8.117            8.149           0.112        7.369         \n",
       "627   7.493            7.510           0.104        6.509         \n",
       "642   3.244            3.245           0.023        2.905         \n",
       "682 113.321          113.587           0.380       96.718         \n",
       "727   3.467            3.475           0.091        2.723         \n",
       "735      NA               NA              NA           NA         \n",
       "    estimated_Simpson SE_Simpson\n",
       "10  161.725           2.010     \n",
       "11    9.138           0.749     \n",
       "12    1.000           0.000     \n",
       "13   11.626           1.264     \n",
       "159   4.013           0.070     \n",
       "281  83.360           0.675     \n",
       "308   5.443           0.145     \n",
       "324   3.428           0.072     \n",
       "354   2.267           0.009     \n",
       "372   1.740           0.034     \n",
       "426  57.407           0.554     \n",
       "493  41.717           0.334     \n",
       "501   1.592           0.042     \n",
       "532   1.953           0.020     \n",
       "583  42.351           0.443     \n",
       "592   8.914           0.090     \n",
       "626   7.410           0.187     \n",
       "627   6.530           0.153     \n",
       "642   2.905           0.024     \n",
       "682  97.033           0.675     \n",
       "727   2.728           0.099     \n",
       "735      NA              NA     \n",
       "    file                                                                           \n",
       "10  batch4_19Aug2019/mixcr/clones/CLONES_TRBCHP_303-05-PBMC-DNA.txt                \n",
       "11  batch4_19Aug2019/mixcr/clones/CLONES_TRBCHP_315-05-PBMC-DNA.txt                \n",
       "12  remaining_batch_2_cfDNA_15April2021/mixcr/clones/CLONES_TRBCHP_315-05_cfDNA.txt\n",
       "13  batch2_Aug62019/mixcr/clones/CLONES_TRBCHP_319-05-PBMC-DNA.txt                 \n",
       "159 batchFFPE_3Apr2020/mixcr/clones/CLONES_TRBCHP_344_A-FFPE-DNA.txt               \n",
       "281 batchFFPE_3Apr2020/mixcr/clones/CLONES_TRBCHP_361-FFPE-DNA_S1.txt              \n",
       "308 batchFFPE_3Apr2020/mixcr/clones/CLONES_TRBCHP_364-FFPE-DNA_S1.txt              \n",
       "324 batchFFPE_3Apr2020/mixcr/clones/CLONES_TRBCHP_366-FFPE-DNA_S1.txt              \n",
       "354 batchFFPE_3Apr2020/mixcr/clones/CLONES_TRBCHP_370-FFPE-DNA_S5.txt              \n",
       "372 batchFFPE_3Apr2020/mixcr/clones/CLONES_TRBCHP_372-FFPE-DNA_S1.txt              \n",
       "426 batchFFPE_3Apr2020/mixcr/clones/CLONES_TRBCHP_380-FFPE-DNA_S1.txt              \n",
       "493 batchFFPE_3Apr2020/mixcr/clones/CLONES_TRBCHP_389-FFPE-DNA_S1.txt              \n",
       "501 batchFFPE_3Apr2020/mixcr/clones/CLONES_TRBCHP_390-FFPE-DNA_S9.txt              \n",
       "532 batchFFPE_3Apr2020/mixcr/clones/CLONES_TRBCHP_394-FFPE-DNA_S4.txt              \n",
       "583 batchFFPE_3Apr2020/mixcr/clones/CLONES_TRBCHP_400-FFPE-DNA_S1.txt              \n",
       "592 batchFFPE_3Apr2020/mixcr/clones/CLONES_TRBCHP_401-FFPE-DNA_S1.txt              \n",
       "626 batchFFPE_3Apr2020/mixcr/clones/CLONES_TRBCHP_404_A-FFPE-DNA.txt               \n",
       "627 batchFFPE_3Apr2020/mixcr/clones/CLONES_TRBCHP_404_B-FFPE-DNA.txt               \n",
       "642 batchFFPE_3Apr2020/mixcr/clones/CLONES_TRBCHP_407-FFPE-DNA_S7.txt              \n",
       "682 batchFFPE_3Apr2020/mixcr/clones/CLONES_TRBCHP_412-FFPE-DNA_S1.txt              \n",
       "727 batchFFPE_3Apr2020/mixcr/clones/CLONES_TRBCHP_418-FFPE-DNA_S2.txt              \n",
       "735 NA                                                                             \n",
       "    basename            Group sampletype\n",
       "10  CHP_303-05-PBMC-DNA CHP   PBMC      \n",
       "11  CHP_315-05-PBMC-DNA CHP   PBMC      \n",
       "12  CHP_315-05_cfDNA    CHP   cfDNA     \n",
       "13  CHP_319-05-PBMC-DNA CHP   PBMC      \n",
       "159 CHP_344_A-FFPE-DNA  CHP   Tumor     \n",
       "281 CHP_361-FFPE-DNA_S1 CHP   Tumor     \n",
       "308 CHP_364-FFPE-DNA_S1 CHP   Tumor     \n",
       "324 CHP_366-FFPE-DNA_S1 CHP   Tumor     \n",
       "354 CHP_370-FFPE-DNA_S5 CHP   Tumor     \n",
       "372 CHP_372-FFPE-DNA_S1 CHP   Tumor     \n",
       "426 CHP_380-FFPE-DNA_S1 CHP   Tumor     \n",
       "493 CHP_389-FFPE-DNA_S1 CHP   Tumor     \n",
       "501 CHP_390-FFPE-DNA_S9 CHP   Tumor     \n",
       "532 CHP_394-FFPE-DNA_S4 CHP   Tumor     \n",
       "583 CHP_400-FFPE-DNA_S1 CHP   Tumor     \n",
       "592 CHP_401-FFPE-DNA_S1 CHP   Tumor     \n",
       "626 CHP_404_A-FFPE-DNA  CHP   Tumor     \n",
       "627 CHP_404_B-FFPE-DNA  CHP   Tumor     \n",
       "642 CHP_407-FFPE-DNA_S7 CHP   Tumor     \n",
       "682 CHP_412-FFPE-DNA_S1 CHP   Tumor     \n",
       "727 CHP_418-FFPE-DNA_S2 CHP   Tumor     \n",
       "735 CHP_419-FFPE-DNA_S2 CHP   Tumor     "
      ]
     },
     "metadata": {},
     "output_type": "display_data"
    }
   ],
   "source": [
    "meta_div[ is.na(meta_div$Disease_type),]"
   ]
  },
  {
   "cell_type": "code",
   "execution_count": 25,
   "metadata": {
    "vscode": {
     "languageId": "r"
    }
   },
   "outputs": [],
   "source": [
    "#minor fix\n",
    "meta_div$Patient[ meta_div$Patient == \"CHP_404_A\"] <- \"CHP_404\"\n",
    "meta_div$Patient[ meta_div$Patient == \"CHP_404_B\"] <- \"CHP_404\"\n",
    "meta_div$Patient[ meta_div$Patient == \"CHP_344_A\"] <- \"CHP_344\""
   ]
  },
  {
   "cell_type": "code",
   "execution_count": 26,
   "metadata": {
    "vscode": {
     "languageId": "r"
    }
   },
   "outputs": [],
   "source": [
    "# add dx for tumors\n",
    "for(i in unique(meta_div$Patient[ which(meta_div$sampletype == \"Tumor\")])){\n",
    "   # print(i)\n",
    "    tmp <- meta_div[ meta_div$Patient == i,]\n",
    "    cancer <- names(table(tmp$Disease_type)[1])\n",
    "    meta_div$Disease_type[ meta_div$Patient == i &\n",
    "                          meta_div$sampletype %in% \"Tumor\"] <- cancer\n",
    "}"
   ]
  },
  {
   "cell_type": "code",
   "execution_count": 28,
   "metadata": {
    "vscode": {
     "languageId": "r"
    }
   },
   "outputs": [
    {
     "data": {
      "text/html": [
       "<table class=\"dataframe\">\n",
       "<caption>A data.frame: 4 × 58</caption>\n",
       "<thead>\n",
       "\t<tr><th></th><th scope=col>sample_id</th><th scope=col>Patient</th><th scope=col>cycle</th><th scope=col>FOLD</th><th scope=col>ATC</th><th scope=col>Age</th><th scope=col>Disease_type</th><th scope=col>TE_fold</th><th scope=col>Pass</th><th scope=col>CD3</th><th scope=col>⋯</th><th scope=col>observed_Shannon</th><th scope=col>estimated_Shannon</th><th scope=col>SE_Shannon</th><th scope=col>observed_Simpson</th><th scope=col>estimated_Simpson</th><th scope=col>SE_Simpson</th><th scope=col>file</th><th scope=col>basename</th><th scope=col>Group</th><th scope=col>sampletype</th></tr>\n",
       "\t<tr><th></th><th scope=col>&lt;chr&gt;</th><th scope=col>&lt;chr&gt;</th><th scope=col>&lt;chr&gt;</th><th scope=col>&lt;dbl&gt;</th><th scope=col>&lt;dbl&gt;</th><th scope=col>&lt;dbl&gt;</th><th scope=col>&lt;chr&gt;</th><th scope=col>&lt;chr&gt;</th><th scope=col>&lt;lgl&gt;</th><th scope=col>&lt;int&gt;</th><th scope=col>⋯</th><th scope=col>&lt;dbl&gt;</th><th scope=col>&lt;dbl&gt;</th><th scope=col>&lt;dbl&gt;</th><th scope=col>&lt;dbl&gt;</th><th scope=col>&lt;dbl&gt;</th><th scope=col>&lt;dbl&gt;</th><th scope=col>&lt;chr&gt;</th><th scope=col>&lt;chr&gt;</th><th scope=col>&lt;chr&gt;</th><th scope=col>&lt;chr&gt;</th></tr>\n",
       "</thead>\n",
       "<tbody>\n",
       "\t<tr><th scope=row>10</th><td>CHP_303_05</td><td>CHP_303</td><td>X05</td><td>NA</td><td>NA</td><td>NA</td><td>NA</td><td>NA</td><td>NA</td><td>NA</td><td>⋯</td><td>191.496</td><td>194.714</td><td>1.481</td><td>158.597</td><td>161.725</td><td>2.010</td><td>batch4_19Aug2019/mixcr/clones/CLONES_TRBCHP_303-05-PBMC-DNA.txt                </td><td>CHP_303-05-PBMC-DNA</td><td>CHP</td><td>PBMC </td></tr>\n",
       "\t<tr><th scope=row>11</th><td>CHP_315_05</td><td>CHP_315</td><td>X05</td><td>NA</td><td>NA</td><td>NA</td><td>NA</td><td>NA</td><td>NA</td><td>NA</td><td>⋯</td><td> 15.470</td><td> 15.793</td><td>0.629</td><td>  9.026</td><td>  9.138</td><td>0.749</td><td>batch4_19Aug2019/mixcr/clones/CLONES_TRBCHP_315-05-PBMC-DNA.txt                </td><td>CHP_315-05-PBMC-DNA</td><td>CHP</td><td>PBMC </td></tr>\n",
       "\t<tr><th scope=row>12</th><td>CHP_315_05</td><td>CHP_315</td><td>X05</td><td>NA</td><td>NA</td><td>NA</td><td>NA</td><td>NA</td><td>NA</td><td>NA</td><td>⋯</td><td>  1.000</td><td>  1.000</td><td>0.000</td><td>  1.000</td><td>  1.000</td><td>0.000</td><td>remaining_batch_2_cfDNA_15April2021/mixcr/clones/CLONES_TRBCHP_315-05_cfDNA.txt</td><td>CHP_315-05_cfDNA   </td><td>CHP</td><td>cfDNA</td></tr>\n",
       "\t<tr><th scope=row>13</th><td>CHP_319_05</td><td>CHP_319</td><td>X05</td><td>NA</td><td>NA</td><td>NA</td><td>NA</td><td>NA</td><td>NA</td><td>NA</td><td>⋯</td><td> 11.878</td><td> 13.439</td><td>1.238</td><td> 10.248</td><td> 11.626</td><td>1.264</td><td>batch2_Aug62019/mixcr/clones/CLONES_TRBCHP_319-05-PBMC-DNA.txt                 </td><td>CHP_319-05-PBMC-DNA</td><td>CHP</td><td>PBMC </td></tr>\n",
       "</tbody>\n",
       "</table>\n"
      ],
      "text/latex": [
       "A data.frame: 4 × 58\n",
       "\\begin{tabular}{r|lllllllllllllllllllll}\n",
       "  & sample\\_id & Patient & cycle & FOLD & ATC & Age & Disease\\_type & TE\\_fold & Pass & CD3 & ⋯ & observed\\_Shannon & estimated\\_Shannon & SE\\_Shannon & observed\\_Simpson & estimated\\_Simpson & SE\\_Simpson & file & basename & Group & sampletype\\\\\n",
       "  & <chr> & <chr> & <chr> & <dbl> & <dbl> & <dbl> & <chr> & <chr> & <lgl> & <int> & ⋯ & <dbl> & <dbl> & <dbl> & <dbl> & <dbl> & <dbl> & <chr> & <chr> & <chr> & <chr>\\\\\n",
       "\\hline\n",
       "\t10 & CHP\\_303\\_05 & CHP\\_303 & X05 & NA & NA & NA & NA & NA & NA & NA & ⋯ & 191.496 & 194.714 & 1.481 & 158.597 & 161.725 & 2.010 & batch4\\_19Aug2019/mixcr/clones/CLONES\\_TRBCHP\\_303-05-PBMC-DNA.txt                 & CHP\\_303-05-PBMC-DNA & CHP & PBMC \\\\\n",
       "\t11 & CHP\\_315\\_05 & CHP\\_315 & X05 & NA & NA & NA & NA & NA & NA & NA & ⋯ &  15.470 &  15.793 & 0.629 &   9.026 &   9.138 & 0.749 & batch4\\_19Aug2019/mixcr/clones/CLONES\\_TRBCHP\\_315-05-PBMC-DNA.txt                 & CHP\\_315-05-PBMC-DNA & CHP & PBMC \\\\\n",
       "\t12 & CHP\\_315\\_05 & CHP\\_315 & X05 & NA & NA & NA & NA & NA & NA & NA & ⋯ &   1.000 &   1.000 & 0.000 &   1.000 &   1.000 & 0.000 & remaining\\_batch\\_2\\_cfDNA\\_15April2021/mixcr/clones/CLONES\\_TRBCHP\\_315-05\\_cfDNA.txt & CHP\\_315-05\\_cfDNA    & CHP & cfDNA\\\\\n",
       "\t13 & CHP\\_319\\_05 & CHP\\_319 & X05 & NA & NA & NA & NA & NA & NA & NA & ⋯ &  11.878 &  13.439 & 1.238 &  10.248 &  11.626 & 1.264 & batch2\\_Aug62019/mixcr/clones/CLONES\\_TRBCHP\\_319-05-PBMC-DNA.txt                  & CHP\\_319-05-PBMC-DNA & CHP & PBMC \\\\\n",
       "\\end{tabular}\n"
      ],
      "text/markdown": [
       "\n",
       "A data.frame: 4 × 58\n",
       "\n",
       "| <!--/--> | sample_id &lt;chr&gt; | Patient &lt;chr&gt; | cycle &lt;chr&gt; | FOLD &lt;dbl&gt; | ATC &lt;dbl&gt; | Age &lt;dbl&gt; | Disease_type &lt;chr&gt; | TE_fold &lt;chr&gt; | Pass &lt;lgl&gt; | CD3 &lt;int&gt; | ⋯ ⋯ | observed_Shannon &lt;dbl&gt; | estimated_Shannon &lt;dbl&gt; | SE_Shannon &lt;dbl&gt; | observed_Simpson &lt;dbl&gt; | estimated_Simpson &lt;dbl&gt; | SE_Simpson &lt;dbl&gt; | file &lt;chr&gt; | basename &lt;chr&gt; | Group &lt;chr&gt; | sampletype &lt;chr&gt; |\n",
       "|---|---|---|---|---|---|---|---|---|---|---|---|---|---|---|---|---|---|---|---|---|---|\n",
       "| 10 | CHP_303_05 | CHP_303 | X05 | NA | NA | NA | NA | NA | NA | NA | ⋯ | 191.496 | 194.714 | 1.481 | 158.597 | 161.725 | 2.010 | batch4_19Aug2019/mixcr/clones/CLONES_TRBCHP_303-05-PBMC-DNA.txt                 | CHP_303-05-PBMC-DNA | CHP | PBMC  |\n",
       "| 11 | CHP_315_05 | CHP_315 | X05 | NA | NA | NA | NA | NA | NA | NA | ⋯ |  15.470 |  15.793 | 0.629 |   9.026 |   9.138 | 0.749 | batch4_19Aug2019/mixcr/clones/CLONES_TRBCHP_315-05-PBMC-DNA.txt                 | CHP_315-05-PBMC-DNA | CHP | PBMC  |\n",
       "| 12 | CHP_315_05 | CHP_315 | X05 | NA | NA | NA | NA | NA | NA | NA | ⋯ |   1.000 |   1.000 | 0.000 |   1.000 |   1.000 | 0.000 | remaining_batch_2_cfDNA_15April2021/mixcr/clones/CLONES_TRBCHP_315-05_cfDNA.txt | CHP_315-05_cfDNA    | CHP | cfDNA |\n",
       "| 13 | CHP_319_05 | CHP_319 | X05 | NA | NA | NA | NA | NA | NA | NA | ⋯ |  11.878 |  13.439 | 1.238 |  10.248 |  11.626 | 1.264 | batch2_Aug62019/mixcr/clones/CLONES_TRBCHP_319-05-PBMC-DNA.txt                  | CHP_319-05-PBMC-DNA | CHP | PBMC  |\n",
       "\n"
      ],
      "text/plain": [
       "   sample_id  Patient cycle FOLD ATC Age Disease_type TE_fold Pass CD3 ⋯\n",
       "10 CHP_303_05 CHP_303 X05   NA   NA  NA  NA           NA      NA   NA  ⋯\n",
       "11 CHP_315_05 CHP_315 X05   NA   NA  NA  NA           NA      NA   NA  ⋯\n",
       "12 CHP_315_05 CHP_315 X05   NA   NA  NA  NA           NA      NA   NA  ⋯\n",
       "13 CHP_319_05 CHP_319 X05   NA   NA  NA  NA           NA      NA   NA  ⋯\n",
       "   observed_Shannon estimated_Shannon SE_Shannon observed_Simpson\n",
       "10 191.496          194.714           1.481      158.597         \n",
       "11  15.470           15.793           0.629        9.026         \n",
       "12   1.000            1.000           0.000        1.000         \n",
       "13  11.878           13.439           1.238       10.248         \n",
       "   estimated_Simpson SE_Simpson\n",
       "10 161.725           2.010     \n",
       "11   9.138           0.749     \n",
       "12   1.000           0.000     \n",
       "13  11.626           1.264     \n",
       "   file                                                                           \n",
       "10 batch4_19Aug2019/mixcr/clones/CLONES_TRBCHP_303-05-PBMC-DNA.txt                \n",
       "11 batch4_19Aug2019/mixcr/clones/CLONES_TRBCHP_315-05-PBMC-DNA.txt                \n",
       "12 remaining_batch_2_cfDNA_15April2021/mixcr/clones/CLONES_TRBCHP_315-05_cfDNA.txt\n",
       "13 batch2_Aug62019/mixcr/clones/CLONES_TRBCHP_319-05-PBMC-DNA.txt                 \n",
       "   basename            Group sampletype\n",
       "10 CHP_303-05-PBMC-DNA CHP   PBMC      \n",
       "11 CHP_315-05-PBMC-DNA CHP   PBMC      \n",
       "12 CHP_315-05_cfDNA    CHP   cfDNA     \n",
       "13 CHP_319-05-PBMC-DNA CHP   PBMC      "
      ]
     },
     "metadata": {},
     "output_type": "display_data"
    }
   ],
   "source": [
    "meta_div[ is.na(meta_div$Disease_type),]"
   ]
  },
  {
   "cell_type": "code",
   "execution_count": 29,
   "metadata": {
    "vscode": {
     "languageId": "r"
    }
   },
   "outputs": [
    {
     "data": {
      "text/html": [
       "<table class=\"dataframe\">\n",
       "<caption>A data.frame: 256 × 58</caption>\n",
       "<thead>\n",
       "\t<tr><th></th><th scope=col>sample_id</th><th scope=col>Patient</th><th scope=col>cycle</th><th scope=col>FOLD</th><th scope=col>ATC</th><th scope=col>Age</th><th scope=col>Disease_type</th><th scope=col>TE_fold</th><th scope=col>Pass</th><th scope=col>CD3</th><th scope=col>⋯</th><th scope=col>observed_Shannon</th><th scope=col>estimated_Shannon</th><th scope=col>SE_Shannon</th><th scope=col>observed_Simpson</th><th scope=col>estimated_Simpson</th><th scope=col>SE_Simpson</th><th scope=col>file</th><th scope=col>basename</th><th scope=col>Group</th><th scope=col>sampletype</th></tr>\n",
       "\t<tr><th></th><th scope=col>&lt;chr&gt;</th><th scope=col>&lt;chr&gt;</th><th scope=col>&lt;chr&gt;</th><th scope=col>&lt;dbl&gt;</th><th scope=col>&lt;dbl&gt;</th><th scope=col>&lt;dbl&gt;</th><th scope=col>&lt;chr&gt;</th><th scope=col>&lt;chr&gt;</th><th scope=col>&lt;lgl&gt;</th><th scope=col>&lt;int&gt;</th><th scope=col>⋯</th><th scope=col>&lt;dbl&gt;</th><th scope=col>&lt;dbl&gt;</th><th scope=col>&lt;dbl&gt;</th><th scope=col>&lt;dbl&gt;</th><th scope=col>&lt;dbl&gt;</th><th scope=col>&lt;dbl&gt;</th><th scope=col>&lt;chr&gt;</th><th scope=col>&lt;chr&gt;</th><th scope=col>&lt;chr&gt;</th><th scope=col>&lt;chr&gt;</th></tr>\n",
       "</thead>\n",
       "<tbody>\n",
       "\t<tr><th scope=row>14</th><td>CHP_320_01</td><td>CHP_320</td><td>X01</td><td> 8.9</td><td>   0.00</td><td> 6.0</td><td>AML   </td><td>8.9 </td><td>NA</td><td>0</td><td>⋯</td><td>NA</td><td>NA</td><td>NA</td><td>NA</td><td>NA</td><td>NA</td><td>NA</td><td>NA</td><td>CHP</td><td>NA</td></tr>\n",
       "\t<tr><th scope=row>15</th><td>CHP_320_02</td><td>CHP_320</td><td>X02</td><td> 3.5</td><td>   0.00</td><td> 6.0</td><td>AML   </td><td>3.5 </td><td>NA</td><td>0</td><td>⋯</td><td>NA</td><td>NA</td><td>NA</td><td>NA</td><td>NA</td><td>NA</td><td>NA</td><td>NA</td><td>CHP</td><td>NA</td></tr>\n",
       "\t<tr><th scope=row>16</th><td>CHP_320_03</td><td>CHP_320</td><td>X03</td><td>13.2</td><td>   0.00</td><td> 6.0</td><td>AML   </td><td>13.2</td><td>NA</td><td>0</td><td>⋯</td><td>NA</td><td>NA</td><td>NA</td><td>NA</td><td>NA</td><td>NA</td><td>NA</td><td>NA</td><td>CHP</td><td>NA</td></tr>\n",
       "\t<tr><th scope=row>17</th><td>CHP_320_04</td><td>CHP_320</td><td>X04</td><td>  NA</td><td>   0.00</td><td> 6.0</td><td>AML   </td><td>x   </td><td>NA</td><td>0</td><td>⋯</td><td>NA</td><td>NA</td><td>NA</td><td>NA</td><td>NA</td><td>NA</td><td>NA</td><td>NA</td><td>CHP</td><td>NA</td></tr>\n",
       "\t<tr><th scope=row>18</th><td>CHP_320_05</td><td>CHP_320</td><td>X05</td><td> 0.0</td><td>   0.00</td><td> 6.0</td><td>AML   </td><td>0   </td><td>NA</td><td>0</td><td>⋯</td><td>NA</td><td>NA</td><td>NA</td><td>NA</td><td>NA</td><td>NA</td><td>NA</td><td>NA</td><td>CHP</td><td>NA</td></tr>\n",
       "\t<tr><th scope=row>19</th><td>CHP_321_01</td><td>CHP_321</td><td>X01</td><td> 0.0</td><td>   0.00</td><td>16.0</td><td>HD    </td><td>0   </td><td>NA</td><td>0</td><td>⋯</td><td>NA</td><td>NA</td><td>NA</td><td>NA</td><td>NA</td><td>NA</td><td>NA</td><td>NA</td><td>CHP</td><td>NA</td></tr>\n",
       "\t<tr><th scope=row>20</th><td>CHP_321_02</td><td>CHP_321</td><td>X02</td><td> 0.0</td><td>   0.00</td><td>16.0</td><td>HD    </td><td>0   </td><td>NA</td><td>0</td><td>⋯</td><td>NA</td><td>NA</td><td>NA</td><td>NA</td><td>NA</td><td>NA</td><td>NA</td><td>NA</td><td>CHP</td><td>NA</td></tr>\n",
       "\t<tr><th scope=row>21</th><td>CHP_321_03</td><td>CHP_321</td><td>X03</td><td> 0.0</td><td>   0.00</td><td>16.0</td><td>HD    </td><td>0   </td><td>NA</td><td>0</td><td>⋯</td><td>NA</td><td>NA</td><td>NA</td><td>NA</td><td>NA</td><td>NA</td><td>NA</td><td>NA</td><td>CHP</td><td>NA</td></tr>\n",
       "\t<tr><th scope=row>22</th><td>CHP_321_04</td><td>CHP_321</td><td>X04</td><td> 0.0</td><td>   0.00</td><td>16.0</td><td>HD    </td><td>0   </td><td>NA</td><td>0</td><td>⋯</td><td>NA</td><td>NA</td><td>NA</td><td>NA</td><td>NA</td><td>NA</td><td>NA</td><td>NA</td><td>CHP</td><td>NA</td></tr>\n",
       "\t<tr><th scope=row>23</th><td>CHP_321_05</td><td>CHP_321</td><td>X05</td><td> 0.0</td><td>   0.00</td><td>16.0</td><td>HD    </td><td>0   </td><td>NA</td><td>0</td><td>⋯</td><td>NA</td><td>NA</td><td>NA</td><td>NA</td><td>NA</td><td>NA</td><td>NA</td><td>NA</td><td>CHP</td><td>NA</td></tr>\n",
       "\t<tr><th scope=row>24</th><td>CHP_322_01</td><td>CHP_322</td><td>X01</td><td> 1.1</td><td>   0.00</td><td>18.0</td><td>DLBCL </td><td>1.1 </td><td>NA</td><td>0</td><td>⋯</td><td>NA</td><td>NA</td><td>NA</td><td>NA</td><td>NA</td><td>NA</td><td>NA</td><td>NA</td><td>CHP</td><td>NA</td></tr>\n",
       "\t<tr><th scope=row>25</th><td>CHP_322_02</td><td>CHP_322</td><td>X02</td><td> 0.4</td><td>   0.00</td><td>18.0</td><td>DLBCL </td><td>0.4 </td><td>NA</td><td>0</td><td>⋯</td><td>NA</td><td>NA</td><td>NA</td><td>NA</td><td>NA</td><td>NA</td><td>NA</td><td>NA</td><td>CHP</td><td>NA</td></tr>\n",
       "\t<tr><th scope=row>26</th><td>CHP_322_03</td><td>CHP_322</td><td>X03</td><td> 4.3</td><td>   0.00</td><td>18.0</td><td>DLBCL </td><td>4.3 </td><td>NA</td><td>0</td><td>⋯</td><td>NA</td><td>NA</td><td>NA</td><td>NA</td><td>NA</td><td>NA</td><td>NA</td><td>NA</td><td>CHP</td><td>NA</td></tr>\n",
       "\t<tr><th scope=row>27</th><td>CHP_322_04</td><td>CHP_322</td><td>X04</td><td> 4.7</td><td>   0.00</td><td>18.0</td><td>DLBCL </td><td>4.7 </td><td>NA</td><td>0</td><td>⋯</td><td>NA</td><td>NA</td><td>NA</td><td>NA</td><td>NA</td><td>NA</td><td>NA</td><td>NA</td><td>CHP</td><td>NA</td></tr>\n",
       "\t<tr><th scope=row>28</th><td>CHP_322_05</td><td>CHP_322</td><td>X05</td><td> 1.0</td><td>   0.00</td><td>18.0</td><td>DLBCL </td><td>1   </td><td>NA</td><td>0</td><td>⋯</td><td>NA</td><td>NA</td><td>NA</td><td>NA</td><td>NA</td><td>NA</td><td>NA</td><td>NA</td><td>CHP</td><td>NA</td></tr>\n",
       "\t<tr><th scope=row>29</th><td>CHP_323_01</td><td>CHP_323</td><td>X01</td><td> 0.0</td><td> 154.75</td><td> 1.0</td><td>HR ALL</td><td>0   </td><td>NA</td><td>0</td><td>⋯</td><td>NA</td><td>NA</td><td>NA</td><td>NA</td><td>NA</td><td>NA</td><td>NA</td><td>NA</td><td>CHP</td><td>NA</td></tr>\n",
       "\t<tr><th scope=row>30</th><td>CHP_323_02</td><td>CHP_323</td><td>X02</td><td> 0.0</td><td>1397.28</td><td> 1.0</td><td>HR ALL</td><td>0   </td><td>NA</td><td>0</td><td>⋯</td><td>NA</td><td>NA</td><td>NA</td><td>NA</td><td>NA</td><td>NA</td><td>NA</td><td>NA</td><td>CHP</td><td>NA</td></tr>\n",
       "\t<tr><th scope=row>36</th><td>CHP_324_01</td><td>CHP_324</td><td>X01</td><td> 0.0</td><td>   0.00</td><td>12.0</td><td>T-ALL </td><td>0   </td><td>NA</td><td>0</td><td>⋯</td><td>NA</td><td>NA</td><td>NA</td><td>NA</td><td>NA</td><td>NA</td><td>NA</td><td>NA</td><td>CHP</td><td>NA</td></tr>\n",
       "\t<tr><th scope=row>37</th><td>CHP_324_02</td><td>CHP_324</td><td>X02</td><td> 0.0</td><td>   0.00</td><td>12.0</td><td>T-ALL </td><td>0   </td><td>NA</td><td>0</td><td>⋯</td><td>NA</td><td>NA</td><td>NA</td><td>NA</td><td>NA</td><td>NA</td><td>NA</td><td>NA</td><td>CHP</td><td>NA</td></tr>\n",
       "\t<tr><th scope=row>38</th><td>CHP_324_03</td><td>CHP_324</td><td>X03</td><td> 0.0</td><td>   0.00</td><td>12.0</td><td>T-ALL </td><td>0   </td><td>NA</td><td>0</td><td>⋯</td><td>NA</td><td>NA</td><td>NA</td><td>NA</td><td>NA</td><td>NA</td><td>NA</td><td>NA</td><td>CHP</td><td>NA</td></tr>\n",
       "\t<tr><th scope=row>42</th><td>CHP_325_01</td><td>CHP_325</td><td>X01</td><td> 0.0</td><td>     NA</td><td> 2.0</td><td>ERMS  </td><td>0   </td><td>NA</td><td>0</td><td>⋯</td><td>NA</td><td>NA</td><td>NA</td><td>NA</td><td>NA</td><td>NA</td><td>NA</td><td>NA</td><td>CHP</td><td>NA</td></tr>\n",
       "\t<tr><th scope=row>43</th><td>CHP_325_02</td><td>CHP_325</td><td>X02</td><td> 0.0</td><td> 927.46</td><td> 2.0</td><td>ERMS  </td><td>0   </td><td>NA</td><td>0</td><td>⋯</td><td>NA</td><td>NA</td><td>NA</td><td>NA</td><td>NA</td><td>NA</td><td>NA</td><td>NA</td><td>CHP</td><td>NA</td></tr>\n",
       "\t<tr><th scope=row>44</th><td>CHP_325_03</td><td>CHP_325</td><td>X03</td><td> 0.0</td><td> 624.72</td><td> 2.0</td><td>ERMS  </td><td>0   </td><td>NA</td><td>0</td><td>⋯</td><td>NA</td><td>NA</td><td>NA</td><td>NA</td><td>NA</td><td>NA</td><td>NA</td><td>NA</td><td>CHP</td><td>NA</td></tr>\n",
       "\t<tr><th scope=row>45</th><td>CHP_325_04</td><td>CHP_325</td><td>X04</td><td> 0.0</td><td> 163.77</td><td> 2.0</td><td>ERMS  </td><td>0   </td><td>NA</td><td>0</td><td>⋯</td><td>NA</td><td>NA</td><td>NA</td><td>NA</td><td>NA</td><td>NA</td><td>NA</td><td>NA</td><td>CHP</td><td>NA</td></tr>\n",
       "\t<tr><th scope=row>46</th><td>CHP_325_05</td><td>CHP_325</td><td>X05</td><td> 0.0</td><td>   0.00</td><td> 2.0</td><td>ERMS  </td><td>0   </td><td>NA</td><td>0</td><td>⋯</td><td>NA</td><td>NA</td><td>NA</td><td>NA</td><td>NA</td><td>NA</td><td>NA</td><td>NA</td><td>CHP</td><td>NA</td></tr>\n",
       "\t<tr><th scope=row>47</th><td>CHP_326_01</td><td>CHP_326</td><td>X01</td><td> 0.0</td><td>  77.52</td><td> 4.0</td><td>SR ALL</td><td>0   </td><td>NA</td><td>0</td><td>⋯</td><td>NA</td><td>NA</td><td>NA</td><td>NA</td><td>NA</td><td>NA</td><td>NA</td><td>NA</td><td>CHP</td><td>NA</td></tr>\n",
       "\t<tr><th scope=row>48</th><td>CHP_326_02</td><td>CHP_326</td><td>X02</td><td> 0.0</td><td> 400.14</td><td> 4.0</td><td>SR ALL</td><td>0   </td><td>NA</td><td>0</td><td>⋯</td><td>NA</td><td>NA</td><td>NA</td><td>NA</td><td>NA</td><td>NA</td><td>NA</td><td>NA</td><td>CHP</td><td>NA</td></tr>\n",
       "\t<tr><th scope=row>49</th><td>CHP_326_03</td><td>CHP_326</td><td>X03</td><td> 0.0</td><td> 122.08</td><td> 4.0</td><td>SR ALL</td><td>0   </td><td>NA</td><td>0</td><td>⋯</td><td>NA</td><td>NA</td><td>NA</td><td>NA</td><td>NA</td><td>NA</td><td>NA</td><td>NA</td><td>CHP</td><td>NA</td></tr>\n",
       "\t<tr><th scope=row>50</th><td>CHP_326_04</td><td>CHP_326</td><td>X04</td><td> 0.0</td><td>1242.85</td><td> 4.0</td><td>SR ALL</td><td>0   </td><td>NA</td><td>0</td><td>⋯</td><td>NA</td><td>NA</td><td>NA</td><td>NA</td><td>NA</td><td>NA</td><td>NA</td><td>NA</td><td>CHP</td><td>NA</td></tr>\n",
       "\t<tr><th scope=row>52</th><td>CHP_327_01</td><td>CHP_327</td><td>X01</td><td> 6.8</td><td>   0.00</td><td> 0.6</td><td>HB    </td><td>6.8 </td><td>NA</td><td>0</td><td>⋯</td><td>NA</td><td>NA</td><td>NA</td><td>NA</td><td>NA</td><td>NA</td><td>NA</td><td>NA</td><td>CHP</td><td>NA</td></tr>\n",
       "\t<tr><th scope=row>⋮</th><td>⋮</td><td>⋮</td><td>⋮</td><td>⋮</td><td>⋮</td><td>⋮</td><td>⋮</td><td>⋮</td><td>⋮</td><td>⋮</td><td>⋱</td><td>⋮</td><td>⋮</td><td>⋮</td><td>⋮</td><td>⋮</td><td>⋮</td><td>⋮</td><td>⋮</td><td>⋮</td><td>⋮</td></tr>\n",
       "\t<tr><th scope=row>804</th><td>CHP_432_01</td><td>CHP_432</td><td>X01</td><td>2.7</td><td>0</td><td>15</td><td>OS  </td><td>2.7</td><td>NA</td><td>2138</td><td>⋯</td><td>NA</td><td>NA</td><td>NA</td><td>NA</td><td>NA</td><td>NA</td><td>NA</td><td>NA</td><td>CHP</td><td>NA</td></tr>\n",
       "\t<tr><th scope=row>805</th><td>CHP_432_02</td><td>CHP_432</td><td>X02</td><td>0.0</td><td>0</td><td>15</td><td>OS  </td><td>0  </td><td>NA</td><td>   0</td><td>⋯</td><td>NA</td><td>NA</td><td>NA</td><td>NA</td><td>NA</td><td>NA</td><td>NA</td><td>NA</td><td>CHP</td><td>NA</td></tr>\n",
       "\t<tr><th scope=row>806</th><td>CHP_432_03</td><td>CHP_432</td><td>X03</td><td>0.0</td><td>0</td><td>15</td><td>OS  </td><td>0  </td><td>NA</td><td>   0</td><td>⋯</td><td>NA</td><td>NA</td><td>NA</td><td>NA</td><td>NA</td><td>NA</td><td>NA</td><td>NA</td><td>CHP</td><td>NA</td></tr>\n",
       "\t<tr><th scope=row>807</th><td>CHP_432_04</td><td>CHP_432</td><td>X04</td><td>0.0</td><td>0</td><td>15</td><td>OS  </td><td>0  </td><td>NA</td><td>   0</td><td>⋯</td><td>NA</td><td>NA</td><td>NA</td><td>NA</td><td>NA</td><td>NA</td><td>NA</td><td>NA</td><td>CHP</td><td>NA</td></tr>\n",
       "\t<tr><th scope=row>808</th><td>CHP_432_05</td><td>CHP_432</td><td>X05</td><td>0.0</td><td>0</td><td>15</td><td>OS  </td><td>0  </td><td>NA</td><td>   0</td><td>⋯</td><td>NA</td><td>NA</td><td>NA</td><td>NA</td><td>NA</td><td>NA</td><td>NA</td><td>NA</td><td>CHP</td><td>NA</td></tr>\n",
       "\t<tr><th scope=row>809</th><td>CHP_433_01</td><td>CHP_433</td><td>X01</td><td>1.1</td><td>0</td><td>16</td><td>ALCL</td><td>1.1</td><td>NA</td><td>2822</td><td>⋯</td><td>NA</td><td>NA</td><td>NA</td><td>NA</td><td>NA</td><td>NA</td><td>NA</td><td>NA</td><td>CHP</td><td>NA</td></tr>\n",
       "\t<tr><th scope=row>810</th><td>CHP_433_02</td><td>CHP_433</td><td>X02</td><td>0.0</td><td>0</td><td>16</td><td>ALCL</td><td>0  </td><td>NA</td><td>   0</td><td>⋯</td><td>NA</td><td>NA</td><td>NA</td><td>NA</td><td>NA</td><td>NA</td><td>NA</td><td>NA</td><td>CHP</td><td>NA</td></tr>\n",
       "\t<tr><th scope=row>811</th><td>CHP_433_03</td><td>CHP_433</td><td>X03</td><td>0.0</td><td>0</td><td>16</td><td>ALCL</td><td>0  </td><td>NA</td><td>   0</td><td>⋯</td><td>NA</td><td>NA</td><td>NA</td><td>NA</td><td>NA</td><td>NA</td><td>NA</td><td>NA</td><td>CHP</td><td>NA</td></tr>\n",
       "\t<tr><th scope=row>812</th><td>CHP_433_04</td><td>CHP_433</td><td>X04</td><td>0.0</td><td>0</td><td>16</td><td>ALCL</td><td>0  </td><td>NA</td><td>   0</td><td>⋯</td><td>NA</td><td>NA</td><td>NA</td><td>NA</td><td>NA</td><td>NA</td><td>NA</td><td>NA</td><td>CHP</td><td>NA</td></tr>\n",
       "\t<tr><th scope=row>813</th><td>CHP_433_05</td><td>CHP_433</td><td>X05</td><td>0.0</td><td>0</td><td>16</td><td>ALCL</td><td>0  </td><td>NA</td><td>   0</td><td>⋯</td><td>NA</td><td>NA</td><td>NA</td><td>NA</td><td>NA</td><td>NA</td><td>NA</td><td>NA</td><td>CHP</td><td>NA</td></tr>\n",
       "\t<tr><th scope=row>814</th><td>CHP_434_01</td><td>CHP_434</td><td>X01</td><td>4.5</td><td>0</td><td>12</td><td>HD  </td><td>4.5</td><td>NA</td><td>3272</td><td>⋯</td><td>NA</td><td>NA</td><td>NA</td><td>NA</td><td>NA</td><td>NA</td><td>NA</td><td>NA</td><td>CHP</td><td>NA</td></tr>\n",
       "\t<tr><th scope=row>815</th><td>CHP_434_02</td><td>CHP_434</td><td>X02</td><td>0.0</td><td>0</td><td>12</td><td>HD  </td><td>0  </td><td>NA</td><td>   0</td><td>⋯</td><td>NA</td><td>NA</td><td>NA</td><td>NA</td><td>NA</td><td>NA</td><td>NA</td><td>NA</td><td>CHP</td><td>NA</td></tr>\n",
       "\t<tr><th scope=row>816</th><td>CHP_434_03</td><td>CHP_434</td><td>X03</td><td>0.0</td><td>0</td><td>12</td><td>HD  </td><td>0  </td><td>NA</td><td>   0</td><td>⋯</td><td>NA</td><td>NA</td><td>NA</td><td>NA</td><td>NA</td><td>NA</td><td>NA</td><td>NA</td><td>CHP</td><td>NA</td></tr>\n",
       "\t<tr><th scope=row>817</th><td>CHP_434_04</td><td>CHP_434</td><td>X04</td><td>0.0</td><td>0</td><td>12</td><td>HD  </td><td>0  </td><td>NA</td><td>   0</td><td>⋯</td><td>NA</td><td>NA</td><td>NA</td><td>NA</td><td>NA</td><td>NA</td><td>NA</td><td>NA</td><td>CHP</td><td>NA</td></tr>\n",
       "\t<tr><th scope=row>818</th><td>CHP_434_05</td><td>CHP_434</td><td>X05</td><td>0.0</td><td>0</td><td>12</td><td>HD  </td><td>0  </td><td>NA</td><td>   0</td><td>⋯</td><td>NA</td><td>NA</td><td>NA</td><td>NA</td><td>NA</td><td>NA</td><td>NA</td><td>NA</td><td>CHP</td><td>NA</td></tr>\n",
       "\t<tr><th scope=row>819</th><td>CHP_435_01</td><td>CHP_435</td><td>X01</td><td>0.0</td><td>0</td><td> 0</td><td>CML </td><td>0  </td><td>NA</td><td>   0</td><td>⋯</td><td>NA</td><td>NA</td><td>NA</td><td>NA</td><td>NA</td><td>NA</td><td>NA</td><td>NA</td><td>CHP</td><td>NA</td></tr>\n",
       "\t<tr><th scope=row>820</th><td>CHP_435_02</td><td>CHP_435</td><td>X02</td><td>0.0</td><td>0</td><td> 0</td><td>CML </td><td>0  </td><td>NA</td><td>   0</td><td>⋯</td><td>NA</td><td>NA</td><td>NA</td><td>NA</td><td>NA</td><td>NA</td><td>NA</td><td>NA</td><td>CHP</td><td>NA</td></tr>\n",
       "\t<tr><th scope=row>821</th><td>CHP_435_03</td><td>CHP_435</td><td>X03</td><td>0.0</td><td>0</td><td> 0</td><td>CML </td><td>0  </td><td>NA</td><td>   0</td><td>⋯</td><td>NA</td><td>NA</td><td>NA</td><td>NA</td><td>NA</td><td>NA</td><td>NA</td><td>NA</td><td>CHP</td><td>NA</td></tr>\n",
       "\t<tr><th scope=row>822</th><td>CHP_435_04</td><td>CHP_435</td><td>X04</td><td>0.0</td><td>0</td><td> 0</td><td>CML </td><td>0  </td><td>NA</td><td>   0</td><td>⋯</td><td>NA</td><td>NA</td><td>NA</td><td>NA</td><td>NA</td><td>NA</td><td>NA</td><td>NA</td><td>CHP</td><td>NA</td></tr>\n",
       "\t<tr><th scope=row>823</th><td>CHP_435_05</td><td>CHP_435</td><td>X05</td><td>0.0</td><td>0</td><td> 0</td><td>CML </td><td>0  </td><td>NA</td><td>   0</td><td>⋯</td><td>NA</td><td>NA</td><td>NA</td><td>NA</td><td>NA</td><td>NA</td><td>NA</td><td>NA</td><td>CHP</td><td>NA</td></tr>\n",
       "\t<tr><th scope=row>824</th><td>CHP_436_01</td><td>CHP_436</td><td>X01</td><td>0.0</td><td>0</td><td>15</td><td>OS  </td><td>0  </td><td>NA</td><td>   0</td><td>⋯</td><td>NA</td><td>NA</td><td>NA</td><td>NA</td><td>NA</td><td>NA</td><td>NA</td><td>NA</td><td>CHP</td><td>NA</td></tr>\n",
       "\t<tr><th scope=row>825</th><td>CHP_436_02</td><td>CHP_436</td><td>X02</td><td>0.0</td><td>0</td><td>15</td><td>OS  </td><td>0  </td><td>NA</td><td>   0</td><td>⋯</td><td>NA</td><td>NA</td><td>NA</td><td>NA</td><td>NA</td><td>NA</td><td>NA</td><td>NA</td><td>CHP</td><td>NA</td></tr>\n",
       "\t<tr><th scope=row>826</th><td>CHP_436_03</td><td>CHP_436</td><td>X03</td><td>0.0</td><td>0</td><td>15</td><td>OS  </td><td>0  </td><td>NA</td><td>   0</td><td>⋯</td><td>NA</td><td>NA</td><td>NA</td><td>NA</td><td>NA</td><td>NA</td><td>NA</td><td>NA</td><td>CHP</td><td>NA</td></tr>\n",
       "\t<tr><th scope=row>827</th><td>CHP_436_04</td><td>CHP_436</td><td>X04</td><td>0.0</td><td>0</td><td>15</td><td>OS  </td><td>0  </td><td>NA</td><td>   0</td><td>⋯</td><td>NA</td><td>NA</td><td>NA</td><td>NA</td><td>NA</td><td>NA</td><td>NA</td><td>NA</td><td>CHP</td><td>NA</td></tr>\n",
       "\t<tr><th scope=row>828</th><td>CHP_436_05</td><td>CHP_436</td><td>X05</td><td>0.0</td><td>0</td><td>15</td><td>OS  </td><td>0  </td><td>NA</td><td>   0</td><td>⋯</td><td>NA</td><td>NA</td><td>NA</td><td>NA</td><td>NA</td><td>NA</td><td>NA</td><td>NA</td><td>CHP</td><td>NA</td></tr>\n",
       "\t<tr><th scope=row>829</th><td>CHP_437_01</td><td>CHP_437</td><td>X01</td><td>0.0</td><td>0</td><td> 9</td><td>OS  </td><td>0  </td><td>NA</td><td>   0</td><td>⋯</td><td>NA</td><td>NA</td><td>NA</td><td>NA</td><td>NA</td><td>NA</td><td>NA</td><td>NA</td><td>CHP</td><td>NA</td></tr>\n",
       "\t<tr><th scope=row>830</th><td>CHP_437_02</td><td>CHP_437</td><td>X02</td><td>0.0</td><td>0</td><td> 9</td><td>OS  </td><td>0  </td><td>NA</td><td>   0</td><td>⋯</td><td>NA</td><td>NA</td><td>NA</td><td>NA</td><td>NA</td><td>NA</td><td>NA</td><td>NA</td><td>CHP</td><td>NA</td></tr>\n",
       "\t<tr><th scope=row>831</th><td>CHP_437_03</td><td>CHP_437</td><td>X03</td><td>0.0</td><td>0</td><td> 9</td><td>OS  </td><td>0  </td><td>NA</td><td>   0</td><td>⋯</td><td>NA</td><td>NA</td><td>NA</td><td>NA</td><td>NA</td><td>NA</td><td>NA</td><td>NA</td><td>CHP</td><td>NA</td></tr>\n",
       "\t<tr><th scope=row>832</th><td>CHP_437_04</td><td>CHP_437</td><td>X04</td><td>0.0</td><td>0</td><td> 9</td><td>OS  </td><td>0  </td><td>NA</td><td>   0</td><td>⋯</td><td>NA</td><td>NA</td><td>NA</td><td>NA</td><td>NA</td><td>NA</td><td>NA</td><td>NA</td><td>CHP</td><td>NA</td></tr>\n",
       "\t<tr><th scope=row>833</th><td>CHP_437_05</td><td>CHP_437</td><td>X05</td><td>0.0</td><td>0</td><td> 9</td><td>OS  </td><td>0  </td><td>NA</td><td>   0</td><td>⋯</td><td>NA</td><td>NA</td><td>NA</td><td>NA</td><td>NA</td><td>NA</td><td>NA</td><td>NA</td><td>CHP</td><td>NA</td></tr>\n",
       "</tbody>\n",
       "</table>\n"
      ],
      "text/latex": [
       "A data.frame: 256 × 58\n",
       "\\begin{tabular}{r|lllllllllllllllllllll}\n",
       "  & sample\\_id & Patient & cycle & FOLD & ATC & Age & Disease\\_type & TE\\_fold & Pass & CD3 & ⋯ & observed\\_Shannon & estimated\\_Shannon & SE\\_Shannon & observed\\_Simpson & estimated\\_Simpson & SE\\_Simpson & file & basename & Group & sampletype\\\\\n",
       "  & <chr> & <chr> & <chr> & <dbl> & <dbl> & <dbl> & <chr> & <chr> & <lgl> & <int> & ⋯ & <dbl> & <dbl> & <dbl> & <dbl> & <dbl> & <dbl> & <chr> & <chr> & <chr> & <chr>\\\\\n",
       "\\hline\n",
       "\t14 & CHP\\_320\\_01 & CHP\\_320 & X01 &  8.9 &    0.00 &  6.0 & AML    & 8.9  & NA & 0 & ⋯ & NA & NA & NA & NA & NA & NA & NA & NA & CHP & NA\\\\\n",
       "\t15 & CHP\\_320\\_02 & CHP\\_320 & X02 &  3.5 &    0.00 &  6.0 & AML    & 3.5  & NA & 0 & ⋯ & NA & NA & NA & NA & NA & NA & NA & NA & CHP & NA\\\\\n",
       "\t16 & CHP\\_320\\_03 & CHP\\_320 & X03 & 13.2 &    0.00 &  6.0 & AML    & 13.2 & NA & 0 & ⋯ & NA & NA & NA & NA & NA & NA & NA & NA & CHP & NA\\\\\n",
       "\t17 & CHP\\_320\\_04 & CHP\\_320 & X04 &   NA &    0.00 &  6.0 & AML    & x    & NA & 0 & ⋯ & NA & NA & NA & NA & NA & NA & NA & NA & CHP & NA\\\\\n",
       "\t18 & CHP\\_320\\_05 & CHP\\_320 & X05 &  0.0 &    0.00 &  6.0 & AML    & 0    & NA & 0 & ⋯ & NA & NA & NA & NA & NA & NA & NA & NA & CHP & NA\\\\\n",
       "\t19 & CHP\\_321\\_01 & CHP\\_321 & X01 &  0.0 &    0.00 & 16.0 & HD     & 0    & NA & 0 & ⋯ & NA & NA & NA & NA & NA & NA & NA & NA & CHP & NA\\\\\n",
       "\t20 & CHP\\_321\\_02 & CHP\\_321 & X02 &  0.0 &    0.00 & 16.0 & HD     & 0    & NA & 0 & ⋯ & NA & NA & NA & NA & NA & NA & NA & NA & CHP & NA\\\\\n",
       "\t21 & CHP\\_321\\_03 & CHP\\_321 & X03 &  0.0 &    0.00 & 16.0 & HD     & 0    & NA & 0 & ⋯ & NA & NA & NA & NA & NA & NA & NA & NA & CHP & NA\\\\\n",
       "\t22 & CHP\\_321\\_04 & CHP\\_321 & X04 &  0.0 &    0.00 & 16.0 & HD     & 0    & NA & 0 & ⋯ & NA & NA & NA & NA & NA & NA & NA & NA & CHP & NA\\\\\n",
       "\t23 & CHP\\_321\\_05 & CHP\\_321 & X05 &  0.0 &    0.00 & 16.0 & HD     & 0    & NA & 0 & ⋯ & NA & NA & NA & NA & NA & NA & NA & NA & CHP & NA\\\\\n",
       "\t24 & CHP\\_322\\_01 & CHP\\_322 & X01 &  1.1 &    0.00 & 18.0 & DLBCL  & 1.1  & NA & 0 & ⋯ & NA & NA & NA & NA & NA & NA & NA & NA & CHP & NA\\\\\n",
       "\t25 & CHP\\_322\\_02 & CHP\\_322 & X02 &  0.4 &    0.00 & 18.0 & DLBCL  & 0.4  & NA & 0 & ⋯ & NA & NA & NA & NA & NA & NA & NA & NA & CHP & NA\\\\\n",
       "\t26 & CHP\\_322\\_03 & CHP\\_322 & X03 &  4.3 &    0.00 & 18.0 & DLBCL  & 4.3  & NA & 0 & ⋯ & NA & NA & NA & NA & NA & NA & NA & NA & CHP & NA\\\\\n",
       "\t27 & CHP\\_322\\_04 & CHP\\_322 & X04 &  4.7 &    0.00 & 18.0 & DLBCL  & 4.7  & NA & 0 & ⋯ & NA & NA & NA & NA & NA & NA & NA & NA & CHP & NA\\\\\n",
       "\t28 & CHP\\_322\\_05 & CHP\\_322 & X05 &  1.0 &    0.00 & 18.0 & DLBCL  & 1    & NA & 0 & ⋯ & NA & NA & NA & NA & NA & NA & NA & NA & CHP & NA\\\\\n",
       "\t29 & CHP\\_323\\_01 & CHP\\_323 & X01 &  0.0 &  154.75 &  1.0 & HR ALL & 0    & NA & 0 & ⋯ & NA & NA & NA & NA & NA & NA & NA & NA & CHP & NA\\\\\n",
       "\t30 & CHP\\_323\\_02 & CHP\\_323 & X02 &  0.0 & 1397.28 &  1.0 & HR ALL & 0    & NA & 0 & ⋯ & NA & NA & NA & NA & NA & NA & NA & NA & CHP & NA\\\\\n",
       "\t36 & CHP\\_324\\_01 & CHP\\_324 & X01 &  0.0 &    0.00 & 12.0 & T-ALL  & 0    & NA & 0 & ⋯ & NA & NA & NA & NA & NA & NA & NA & NA & CHP & NA\\\\\n",
       "\t37 & CHP\\_324\\_02 & CHP\\_324 & X02 &  0.0 &    0.00 & 12.0 & T-ALL  & 0    & NA & 0 & ⋯ & NA & NA & NA & NA & NA & NA & NA & NA & CHP & NA\\\\\n",
       "\t38 & CHP\\_324\\_03 & CHP\\_324 & X03 &  0.0 &    0.00 & 12.0 & T-ALL  & 0    & NA & 0 & ⋯ & NA & NA & NA & NA & NA & NA & NA & NA & CHP & NA\\\\\n",
       "\t42 & CHP\\_325\\_01 & CHP\\_325 & X01 &  0.0 &      NA &  2.0 & ERMS   & 0    & NA & 0 & ⋯ & NA & NA & NA & NA & NA & NA & NA & NA & CHP & NA\\\\\n",
       "\t43 & CHP\\_325\\_02 & CHP\\_325 & X02 &  0.0 &  927.46 &  2.0 & ERMS   & 0    & NA & 0 & ⋯ & NA & NA & NA & NA & NA & NA & NA & NA & CHP & NA\\\\\n",
       "\t44 & CHP\\_325\\_03 & CHP\\_325 & X03 &  0.0 &  624.72 &  2.0 & ERMS   & 0    & NA & 0 & ⋯ & NA & NA & NA & NA & NA & NA & NA & NA & CHP & NA\\\\\n",
       "\t45 & CHP\\_325\\_04 & CHP\\_325 & X04 &  0.0 &  163.77 &  2.0 & ERMS   & 0    & NA & 0 & ⋯ & NA & NA & NA & NA & NA & NA & NA & NA & CHP & NA\\\\\n",
       "\t46 & CHP\\_325\\_05 & CHP\\_325 & X05 &  0.0 &    0.00 &  2.0 & ERMS   & 0    & NA & 0 & ⋯ & NA & NA & NA & NA & NA & NA & NA & NA & CHP & NA\\\\\n",
       "\t47 & CHP\\_326\\_01 & CHP\\_326 & X01 &  0.0 &   77.52 &  4.0 & SR ALL & 0    & NA & 0 & ⋯ & NA & NA & NA & NA & NA & NA & NA & NA & CHP & NA\\\\\n",
       "\t48 & CHP\\_326\\_02 & CHP\\_326 & X02 &  0.0 &  400.14 &  4.0 & SR ALL & 0    & NA & 0 & ⋯ & NA & NA & NA & NA & NA & NA & NA & NA & CHP & NA\\\\\n",
       "\t49 & CHP\\_326\\_03 & CHP\\_326 & X03 &  0.0 &  122.08 &  4.0 & SR ALL & 0    & NA & 0 & ⋯ & NA & NA & NA & NA & NA & NA & NA & NA & CHP & NA\\\\\n",
       "\t50 & CHP\\_326\\_04 & CHP\\_326 & X04 &  0.0 & 1242.85 &  4.0 & SR ALL & 0    & NA & 0 & ⋯ & NA & NA & NA & NA & NA & NA & NA & NA & CHP & NA\\\\\n",
       "\t52 & CHP\\_327\\_01 & CHP\\_327 & X01 &  6.8 &    0.00 &  0.6 & HB     & 6.8  & NA & 0 & ⋯ & NA & NA & NA & NA & NA & NA & NA & NA & CHP & NA\\\\\n",
       "\t⋮ & ⋮ & ⋮ & ⋮ & ⋮ & ⋮ & ⋮ & ⋮ & ⋮ & ⋮ & ⋮ & ⋱ & ⋮ & ⋮ & ⋮ & ⋮ & ⋮ & ⋮ & ⋮ & ⋮ & ⋮ & ⋮\\\\\n",
       "\t804 & CHP\\_432\\_01 & CHP\\_432 & X01 & 2.7 & 0 & 15 & OS   & 2.7 & NA & 2138 & ⋯ & NA & NA & NA & NA & NA & NA & NA & NA & CHP & NA\\\\\n",
       "\t805 & CHP\\_432\\_02 & CHP\\_432 & X02 & 0.0 & 0 & 15 & OS   & 0   & NA &    0 & ⋯ & NA & NA & NA & NA & NA & NA & NA & NA & CHP & NA\\\\\n",
       "\t806 & CHP\\_432\\_03 & CHP\\_432 & X03 & 0.0 & 0 & 15 & OS   & 0   & NA &    0 & ⋯ & NA & NA & NA & NA & NA & NA & NA & NA & CHP & NA\\\\\n",
       "\t807 & CHP\\_432\\_04 & CHP\\_432 & X04 & 0.0 & 0 & 15 & OS   & 0   & NA &    0 & ⋯ & NA & NA & NA & NA & NA & NA & NA & NA & CHP & NA\\\\\n",
       "\t808 & CHP\\_432\\_05 & CHP\\_432 & X05 & 0.0 & 0 & 15 & OS   & 0   & NA &    0 & ⋯ & NA & NA & NA & NA & NA & NA & NA & NA & CHP & NA\\\\\n",
       "\t809 & CHP\\_433\\_01 & CHP\\_433 & X01 & 1.1 & 0 & 16 & ALCL & 1.1 & NA & 2822 & ⋯ & NA & NA & NA & NA & NA & NA & NA & NA & CHP & NA\\\\\n",
       "\t810 & CHP\\_433\\_02 & CHP\\_433 & X02 & 0.0 & 0 & 16 & ALCL & 0   & NA &    0 & ⋯ & NA & NA & NA & NA & NA & NA & NA & NA & CHP & NA\\\\\n",
       "\t811 & CHP\\_433\\_03 & CHP\\_433 & X03 & 0.0 & 0 & 16 & ALCL & 0   & NA &    0 & ⋯ & NA & NA & NA & NA & NA & NA & NA & NA & CHP & NA\\\\\n",
       "\t812 & CHP\\_433\\_04 & CHP\\_433 & X04 & 0.0 & 0 & 16 & ALCL & 0   & NA &    0 & ⋯ & NA & NA & NA & NA & NA & NA & NA & NA & CHP & NA\\\\\n",
       "\t813 & CHP\\_433\\_05 & CHP\\_433 & X05 & 0.0 & 0 & 16 & ALCL & 0   & NA &    0 & ⋯ & NA & NA & NA & NA & NA & NA & NA & NA & CHP & NA\\\\\n",
       "\t814 & CHP\\_434\\_01 & CHP\\_434 & X01 & 4.5 & 0 & 12 & HD   & 4.5 & NA & 3272 & ⋯ & NA & NA & NA & NA & NA & NA & NA & NA & CHP & NA\\\\\n",
       "\t815 & CHP\\_434\\_02 & CHP\\_434 & X02 & 0.0 & 0 & 12 & HD   & 0   & NA &    0 & ⋯ & NA & NA & NA & NA & NA & NA & NA & NA & CHP & NA\\\\\n",
       "\t816 & CHP\\_434\\_03 & CHP\\_434 & X03 & 0.0 & 0 & 12 & HD   & 0   & NA &    0 & ⋯ & NA & NA & NA & NA & NA & NA & NA & NA & CHP & NA\\\\\n",
       "\t817 & CHP\\_434\\_04 & CHP\\_434 & X04 & 0.0 & 0 & 12 & HD   & 0   & NA &    0 & ⋯ & NA & NA & NA & NA & NA & NA & NA & NA & CHP & NA\\\\\n",
       "\t818 & CHP\\_434\\_05 & CHP\\_434 & X05 & 0.0 & 0 & 12 & HD   & 0   & NA &    0 & ⋯ & NA & NA & NA & NA & NA & NA & NA & NA & CHP & NA\\\\\n",
       "\t819 & CHP\\_435\\_01 & CHP\\_435 & X01 & 0.0 & 0 &  0 & CML  & 0   & NA &    0 & ⋯ & NA & NA & NA & NA & NA & NA & NA & NA & CHP & NA\\\\\n",
       "\t820 & CHP\\_435\\_02 & CHP\\_435 & X02 & 0.0 & 0 &  0 & CML  & 0   & NA &    0 & ⋯ & NA & NA & NA & NA & NA & NA & NA & NA & CHP & NA\\\\\n",
       "\t821 & CHP\\_435\\_03 & CHP\\_435 & X03 & 0.0 & 0 &  0 & CML  & 0   & NA &    0 & ⋯ & NA & NA & NA & NA & NA & NA & NA & NA & CHP & NA\\\\\n",
       "\t822 & CHP\\_435\\_04 & CHP\\_435 & X04 & 0.0 & 0 &  0 & CML  & 0   & NA &    0 & ⋯ & NA & NA & NA & NA & NA & NA & NA & NA & CHP & NA\\\\\n",
       "\t823 & CHP\\_435\\_05 & CHP\\_435 & X05 & 0.0 & 0 &  0 & CML  & 0   & NA &    0 & ⋯ & NA & NA & NA & NA & NA & NA & NA & NA & CHP & NA\\\\\n",
       "\t824 & CHP\\_436\\_01 & CHP\\_436 & X01 & 0.0 & 0 & 15 & OS   & 0   & NA &    0 & ⋯ & NA & NA & NA & NA & NA & NA & NA & NA & CHP & NA\\\\\n",
       "\t825 & CHP\\_436\\_02 & CHP\\_436 & X02 & 0.0 & 0 & 15 & OS   & 0   & NA &    0 & ⋯ & NA & NA & NA & NA & NA & NA & NA & NA & CHP & NA\\\\\n",
       "\t826 & CHP\\_436\\_03 & CHP\\_436 & X03 & 0.0 & 0 & 15 & OS   & 0   & NA &    0 & ⋯ & NA & NA & NA & NA & NA & NA & NA & NA & CHP & NA\\\\\n",
       "\t827 & CHP\\_436\\_04 & CHP\\_436 & X04 & 0.0 & 0 & 15 & OS   & 0   & NA &    0 & ⋯ & NA & NA & NA & NA & NA & NA & NA & NA & CHP & NA\\\\\n",
       "\t828 & CHP\\_436\\_05 & CHP\\_436 & X05 & 0.0 & 0 & 15 & OS   & 0   & NA &    0 & ⋯ & NA & NA & NA & NA & NA & NA & NA & NA & CHP & NA\\\\\n",
       "\t829 & CHP\\_437\\_01 & CHP\\_437 & X01 & 0.0 & 0 &  9 & OS   & 0   & NA &    0 & ⋯ & NA & NA & NA & NA & NA & NA & NA & NA & CHP & NA\\\\\n",
       "\t830 & CHP\\_437\\_02 & CHP\\_437 & X02 & 0.0 & 0 &  9 & OS   & 0   & NA &    0 & ⋯ & NA & NA & NA & NA & NA & NA & NA & NA & CHP & NA\\\\\n",
       "\t831 & CHP\\_437\\_03 & CHP\\_437 & X03 & 0.0 & 0 &  9 & OS   & 0   & NA &    0 & ⋯ & NA & NA & NA & NA & NA & NA & NA & NA & CHP & NA\\\\\n",
       "\t832 & CHP\\_437\\_04 & CHP\\_437 & X04 & 0.0 & 0 &  9 & OS   & 0   & NA &    0 & ⋯ & NA & NA & NA & NA & NA & NA & NA & NA & CHP & NA\\\\\n",
       "\t833 & CHP\\_437\\_05 & CHP\\_437 & X05 & 0.0 & 0 &  9 & OS   & 0   & NA &    0 & ⋯ & NA & NA & NA & NA & NA & NA & NA & NA & CHP & NA\\\\\n",
       "\\end{tabular}\n"
      ],
      "text/markdown": [
       "\n",
       "A data.frame: 256 × 58\n",
       "\n",
       "| <!--/--> | sample_id &lt;chr&gt; | Patient &lt;chr&gt; | cycle &lt;chr&gt; | FOLD &lt;dbl&gt; | ATC &lt;dbl&gt; | Age &lt;dbl&gt; | Disease_type &lt;chr&gt; | TE_fold &lt;chr&gt; | Pass &lt;lgl&gt; | CD3 &lt;int&gt; | ⋯ ⋯ | observed_Shannon &lt;dbl&gt; | estimated_Shannon &lt;dbl&gt; | SE_Shannon &lt;dbl&gt; | observed_Simpson &lt;dbl&gt; | estimated_Simpson &lt;dbl&gt; | SE_Simpson &lt;dbl&gt; | file &lt;chr&gt; | basename &lt;chr&gt; | Group &lt;chr&gt; | sampletype &lt;chr&gt; |\n",
       "|---|---|---|---|---|---|---|---|---|---|---|---|---|---|---|---|---|---|---|---|---|---|\n",
       "| 14 | CHP_320_01 | CHP_320 | X01 |  8.9 |    0.00 |  6.0 | AML    | 8.9  | NA | 0 | ⋯ | NA | NA | NA | NA | NA | NA | NA | NA | CHP | NA |\n",
       "| 15 | CHP_320_02 | CHP_320 | X02 |  3.5 |    0.00 |  6.0 | AML    | 3.5  | NA | 0 | ⋯ | NA | NA | NA | NA | NA | NA | NA | NA | CHP | NA |\n",
       "| 16 | CHP_320_03 | CHP_320 | X03 | 13.2 |    0.00 |  6.0 | AML    | 13.2 | NA | 0 | ⋯ | NA | NA | NA | NA | NA | NA | NA | NA | CHP | NA |\n",
       "| 17 | CHP_320_04 | CHP_320 | X04 |   NA |    0.00 |  6.0 | AML    | x    | NA | 0 | ⋯ | NA | NA | NA | NA | NA | NA | NA | NA | CHP | NA |\n",
       "| 18 | CHP_320_05 | CHP_320 | X05 |  0.0 |    0.00 |  6.0 | AML    | 0    | NA | 0 | ⋯ | NA | NA | NA | NA | NA | NA | NA | NA | CHP | NA |\n",
       "| 19 | CHP_321_01 | CHP_321 | X01 |  0.0 |    0.00 | 16.0 | HD     | 0    | NA | 0 | ⋯ | NA | NA | NA | NA | NA | NA | NA | NA | CHP | NA |\n",
       "| 20 | CHP_321_02 | CHP_321 | X02 |  0.0 |    0.00 | 16.0 | HD     | 0    | NA | 0 | ⋯ | NA | NA | NA | NA | NA | NA | NA | NA | CHP | NA |\n",
       "| 21 | CHP_321_03 | CHP_321 | X03 |  0.0 |    0.00 | 16.0 | HD     | 0    | NA | 0 | ⋯ | NA | NA | NA | NA | NA | NA | NA | NA | CHP | NA |\n",
       "| 22 | CHP_321_04 | CHP_321 | X04 |  0.0 |    0.00 | 16.0 | HD     | 0    | NA | 0 | ⋯ | NA | NA | NA | NA | NA | NA | NA | NA | CHP | NA |\n",
       "| 23 | CHP_321_05 | CHP_321 | X05 |  0.0 |    0.00 | 16.0 | HD     | 0    | NA | 0 | ⋯ | NA | NA | NA | NA | NA | NA | NA | NA | CHP | NA |\n",
       "| 24 | CHP_322_01 | CHP_322 | X01 |  1.1 |    0.00 | 18.0 | DLBCL  | 1.1  | NA | 0 | ⋯ | NA | NA | NA | NA | NA | NA | NA | NA | CHP | NA |\n",
       "| 25 | CHP_322_02 | CHP_322 | X02 |  0.4 |    0.00 | 18.0 | DLBCL  | 0.4  | NA | 0 | ⋯ | NA | NA | NA | NA | NA | NA | NA | NA | CHP | NA |\n",
       "| 26 | CHP_322_03 | CHP_322 | X03 |  4.3 |    0.00 | 18.0 | DLBCL  | 4.3  | NA | 0 | ⋯ | NA | NA | NA | NA | NA | NA | NA | NA | CHP | NA |\n",
       "| 27 | CHP_322_04 | CHP_322 | X04 |  4.7 |    0.00 | 18.0 | DLBCL  | 4.7  | NA | 0 | ⋯ | NA | NA | NA | NA | NA | NA | NA | NA | CHP | NA |\n",
       "| 28 | CHP_322_05 | CHP_322 | X05 |  1.0 |    0.00 | 18.0 | DLBCL  | 1    | NA | 0 | ⋯ | NA | NA | NA | NA | NA | NA | NA | NA | CHP | NA |\n",
       "| 29 | CHP_323_01 | CHP_323 | X01 |  0.0 |  154.75 |  1.0 | HR ALL | 0    | NA | 0 | ⋯ | NA | NA | NA | NA | NA | NA | NA | NA | CHP | NA |\n",
       "| 30 | CHP_323_02 | CHP_323 | X02 |  0.0 | 1397.28 |  1.0 | HR ALL | 0    | NA | 0 | ⋯ | NA | NA | NA | NA | NA | NA | NA | NA | CHP | NA |\n",
       "| 36 | CHP_324_01 | CHP_324 | X01 |  0.0 |    0.00 | 12.0 | T-ALL  | 0    | NA | 0 | ⋯ | NA | NA | NA | NA | NA | NA | NA | NA | CHP | NA |\n",
       "| 37 | CHP_324_02 | CHP_324 | X02 |  0.0 |    0.00 | 12.0 | T-ALL  | 0    | NA | 0 | ⋯ | NA | NA | NA | NA | NA | NA | NA | NA | CHP | NA |\n",
       "| 38 | CHP_324_03 | CHP_324 | X03 |  0.0 |    0.00 | 12.0 | T-ALL  | 0    | NA | 0 | ⋯ | NA | NA | NA | NA | NA | NA | NA | NA | CHP | NA |\n",
       "| 42 | CHP_325_01 | CHP_325 | X01 |  0.0 |      NA |  2.0 | ERMS   | 0    | NA | 0 | ⋯ | NA | NA | NA | NA | NA | NA | NA | NA | CHP | NA |\n",
       "| 43 | CHP_325_02 | CHP_325 | X02 |  0.0 |  927.46 |  2.0 | ERMS   | 0    | NA | 0 | ⋯ | NA | NA | NA | NA | NA | NA | NA | NA | CHP | NA |\n",
       "| 44 | CHP_325_03 | CHP_325 | X03 |  0.0 |  624.72 |  2.0 | ERMS   | 0    | NA | 0 | ⋯ | NA | NA | NA | NA | NA | NA | NA | NA | CHP | NA |\n",
       "| 45 | CHP_325_04 | CHP_325 | X04 |  0.0 |  163.77 |  2.0 | ERMS   | 0    | NA | 0 | ⋯ | NA | NA | NA | NA | NA | NA | NA | NA | CHP | NA |\n",
       "| 46 | CHP_325_05 | CHP_325 | X05 |  0.0 |    0.00 |  2.0 | ERMS   | 0    | NA | 0 | ⋯ | NA | NA | NA | NA | NA | NA | NA | NA | CHP | NA |\n",
       "| 47 | CHP_326_01 | CHP_326 | X01 |  0.0 |   77.52 |  4.0 | SR ALL | 0    | NA | 0 | ⋯ | NA | NA | NA | NA | NA | NA | NA | NA | CHP | NA |\n",
       "| 48 | CHP_326_02 | CHP_326 | X02 |  0.0 |  400.14 |  4.0 | SR ALL | 0    | NA | 0 | ⋯ | NA | NA | NA | NA | NA | NA | NA | NA | CHP | NA |\n",
       "| 49 | CHP_326_03 | CHP_326 | X03 |  0.0 |  122.08 |  4.0 | SR ALL | 0    | NA | 0 | ⋯ | NA | NA | NA | NA | NA | NA | NA | NA | CHP | NA |\n",
       "| 50 | CHP_326_04 | CHP_326 | X04 |  0.0 | 1242.85 |  4.0 | SR ALL | 0    | NA | 0 | ⋯ | NA | NA | NA | NA | NA | NA | NA | NA | CHP | NA |\n",
       "| 52 | CHP_327_01 | CHP_327 | X01 |  6.8 |    0.00 |  0.6 | HB     | 6.8  | NA | 0 | ⋯ | NA | NA | NA | NA | NA | NA | NA | NA | CHP | NA |\n",
       "| ⋮ | ⋮ | ⋮ | ⋮ | ⋮ | ⋮ | ⋮ | ⋮ | ⋮ | ⋮ | ⋮ | ⋱ | ⋮ | ⋮ | ⋮ | ⋮ | ⋮ | ⋮ | ⋮ | ⋮ | ⋮ | ⋮ |\n",
       "| 804 | CHP_432_01 | CHP_432 | X01 | 2.7 | 0 | 15 | OS   | 2.7 | NA | 2138 | ⋯ | NA | NA | NA | NA | NA | NA | NA | NA | CHP | NA |\n",
       "| 805 | CHP_432_02 | CHP_432 | X02 | 0.0 | 0 | 15 | OS   | 0   | NA |    0 | ⋯ | NA | NA | NA | NA | NA | NA | NA | NA | CHP | NA |\n",
       "| 806 | CHP_432_03 | CHP_432 | X03 | 0.0 | 0 | 15 | OS   | 0   | NA |    0 | ⋯ | NA | NA | NA | NA | NA | NA | NA | NA | CHP | NA |\n",
       "| 807 | CHP_432_04 | CHP_432 | X04 | 0.0 | 0 | 15 | OS   | 0   | NA |    0 | ⋯ | NA | NA | NA | NA | NA | NA | NA | NA | CHP | NA |\n",
       "| 808 | CHP_432_05 | CHP_432 | X05 | 0.0 | 0 | 15 | OS   | 0   | NA |    0 | ⋯ | NA | NA | NA | NA | NA | NA | NA | NA | CHP | NA |\n",
       "| 809 | CHP_433_01 | CHP_433 | X01 | 1.1 | 0 | 16 | ALCL | 1.1 | NA | 2822 | ⋯ | NA | NA | NA | NA | NA | NA | NA | NA | CHP | NA |\n",
       "| 810 | CHP_433_02 | CHP_433 | X02 | 0.0 | 0 | 16 | ALCL | 0   | NA |    0 | ⋯ | NA | NA | NA | NA | NA | NA | NA | NA | CHP | NA |\n",
       "| 811 | CHP_433_03 | CHP_433 | X03 | 0.0 | 0 | 16 | ALCL | 0   | NA |    0 | ⋯ | NA | NA | NA | NA | NA | NA | NA | NA | CHP | NA |\n",
       "| 812 | CHP_433_04 | CHP_433 | X04 | 0.0 | 0 | 16 | ALCL | 0   | NA |    0 | ⋯ | NA | NA | NA | NA | NA | NA | NA | NA | CHP | NA |\n",
       "| 813 | CHP_433_05 | CHP_433 | X05 | 0.0 | 0 | 16 | ALCL | 0   | NA |    0 | ⋯ | NA | NA | NA | NA | NA | NA | NA | NA | CHP | NA |\n",
       "| 814 | CHP_434_01 | CHP_434 | X01 | 4.5 | 0 | 12 | HD   | 4.5 | NA | 3272 | ⋯ | NA | NA | NA | NA | NA | NA | NA | NA | CHP | NA |\n",
       "| 815 | CHP_434_02 | CHP_434 | X02 | 0.0 | 0 | 12 | HD   | 0   | NA |    0 | ⋯ | NA | NA | NA | NA | NA | NA | NA | NA | CHP | NA |\n",
       "| 816 | CHP_434_03 | CHP_434 | X03 | 0.0 | 0 | 12 | HD   | 0   | NA |    0 | ⋯ | NA | NA | NA | NA | NA | NA | NA | NA | CHP | NA |\n",
       "| 817 | CHP_434_04 | CHP_434 | X04 | 0.0 | 0 | 12 | HD   | 0   | NA |    0 | ⋯ | NA | NA | NA | NA | NA | NA | NA | NA | CHP | NA |\n",
       "| 818 | CHP_434_05 | CHP_434 | X05 | 0.0 | 0 | 12 | HD   | 0   | NA |    0 | ⋯ | NA | NA | NA | NA | NA | NA | NA | NA | CHP | NA |\n",
       "| 819 | CHP_435_01 | CHP_435 | X01 | 0.0 | 0 |  0 | CML  | 0   | NA |    0 | ⋯ | NA | NA | NA | NA | NA | NA | NA | NA | CHP | NA |\n",
       "| 820 | CHP_435_02 | CHP_435 | X02 | 0.0 | 0 |  0 | CML  | 0   | NA |    0 | ⋯ | NA | NA | NA | NA | NA | NA | NA | NA | CHP | NA |\n",
       "| 821 | CHP_435_03 | CHP_435 | X03 | 0.0 | 0 |  0 | CML  | 0   | NA |    0 | ⋯ | NA | NA | NA | NA | NA | NA | NA | NA | CHP | NA |\n",
       "| 822 | CHP_435_04 | CHP_435 | X04 | 0.0 | 0 |  0 | CML  | 0   | NA |    0 | ⋯ | NA | NA | NA | NA | NA | NA | NA | NA | CHP | NA |\n",
       "| 823 | CHP_435_05 | CHP_435 | X05 | 0.0 | 0 |  0 | CML  | 0   | NA |    0 | ⋯ | NA | NA | NA | NA | NA | NA | NA | NA | CHP | NA |\n",
       "| 824 | CHP_436_01 | CHP_436 | X01 | 0.0 | 0 | 15 | OS   | 0   | NA |    0 | ⋯ | NA | NA | NA | NA | NA | NA | NA | NA | CHP | NA |\n",
       "| 825 | CHP_436_02 | CHP_436 | X02 | 0.0 | 0 | 15 | OS   | 0   | NA |    0 | ⋯ | NA | NA | NA | NA | NA | NA | NA | NA | CHP | NA |\n",
       "| 826 | CHP_436_03 | CHP_436 | X03 | 0.0 | 0 | 15 | OS   | 0   | NA |    0 | ⋯ | NA | NA | NA | NA | NA | NA | NA | NA | CHP | NA |\n",
       "| 827 | CHP_436_04 | CHP_436 | X04 | 0.0 | 0 | 15 | OS   | 0   | NA |    0 | ⋯ | NA | NA | NA | NA | NA | NA | NA | NA | CHP | NA |\n",
       "| 828 | CHP_436_05 | CHP_436 | X05 | 0.0 | 0 | 15 | OS   | 0   | NA |    0 | ⋯ | NA | NA | NA | NA | NA | NA | NA | NA | CHP | NA |\n",
       "| 829 | CHP_437_01 | CHP_437 | X01 | 0.0 | 0 |  9 | OS   | 0   | NA |    0 | ⋯ | NA | NA | NA | NA | NA | NA | NA | NA | CHP | NA |\n",
       "| 830 | CHP_437_02 | CHP_437 | X02 | 0.0 | 0 |  9 | OS   | 0   | NA |    0 | ⋯ | NA | NA | NA | NA | NA | NA | NA | NA | CHP | NA |\n",
       "| 831 | CHP_437_03 | CHP_437 | X03 | 0.0 | 0 |  9 | OS   | 0   | NA |    0 | ⋯ | NA | NA | NA | NA | NA | NA | NA | NA | CHP | NA |\n",
       "| 832 | CHP_437_04 | CHP_437 | X04 | 0.0 | 0 |  9 | OS   | 0   | NA |    0 | ⋯ | NA | NA | NA | NA | NA | NA | NA | NA | CHP | NA |\n",
       "| 833 | CHP_437_05 | CHP_437 | X05 | 0.0 | 0 |  9 | OS   | 0   | NA |    0 | ⋯ | NA | NA | NA | NA | NA | NA | NA | NA | CHP | NA |\n",
       "\n"
      ],
      "text/plain": [
       "    sample_id  Patient cycle FOLD ATC     Age  Disease_type TE_fold Pass CD3  ⋯\n",
       "14  CHP_320_01 CHP_320 X01    8.9    0.00  6.0 AML          8.9     NA   0    ⋯\n",
       "15  CHP_320_02 CHP_320 X02    3.5    0.00  6.0 AML          3.5     NA   0    ⋯\n",
       "16  CHP_320_03 CHP_320 X03   13.2    0.00  6.0 AML          13.2    NA   0    ⋯\n",
       "17  CHP_320_04 CHP_320 X04     NA    0.00  6.0 AML          x       NA   0    ⋯\n",
       "18  CHP_320_05 CHP_320 X05    0.0    0.00  6.0 AML          0       NA   0    ⋯\n",
       "19  CHP_321_01 CHP_321 X01    0.0    0.00 16.0 HD           0       NA   0    ⋯\n",
       "20  CHP_321_02 CHP_321 X02    0.0    0.00 16.0 HD           0       NA   0    ⋯\n",
       "21  CHP_321_03 CHP_321 X03    0.0    0.00 16.0 HD           0       NA   0    ⋯\n",
       "22  CHP_321_04 CHP_321 X04    0.0    0.00 16.0 HD           0       NA   0    ⋯\n",
       "23  CHP_321_05 CHP_321 X05    0.0    0.00 16.0 HD           0       NA   0    ⋯\n",
       "24  CHP_322_01 CHP_322 X01    1.1    0.00 18.0 DLBCL        1.1     NA   0    ⋯\n",
       "25  CHP_322_02 CHP_322 X02    0.4    0.00 18.0 DLBCL        0.4     NA   0    ⋯\n",
       "26  CHP_322_03 CHP_322 X03    4.3    0.00 18.0 DLBCL        4.3     NA   0    ⋯\n",
       "27  CHP_322_04 CHP_322 X04    4.7    0.00 18.0 DLBCL        4.7     NA   0    ⋯\n",
       "28  CHP_322_05 CHP_322 X05    1.0    0.00 18.0 DLBCL        1       NA   0    ⋯\n",
       "29  CHP_323_01 CHP_323 X01    0.0  154.75  1.0 HR ALL       0       NA   0    ⋯\n",
       "30  CHP_323_02 CHP_323 X02    0.0 1397.28  1.0 HR ALL       0       NA   0    ⋯\n",
       "36  CHP_324_01 CHP_324 X01    0.0    0.00 12.0 T-ALL        0       NA   0    ⋯\n",
       "37  CHP_324_02 CHP_324 X02    0.0    0.00 12.0 T-ALL        0       NA   0    ⋯\n",
       "38  CHP_324_03 CHP_324 X03    0.0    0.00 12.0 T-ALL        0       NA   0    ⋯\n",
       "42  CHP_325_01 CHP_325 X01    0.0      NA  2.0 ERMS         0       NA   0    ⋯\n",
       "43  CHP_325_02 CHP_325 X02    0.0  927.46  2.0 ERMS         0       NA   0    ⋯\n",
       "44  CHP_325_03 CHP_325 X03    0.0  624.72  2.0 ERMS         0       NA   0    ⋯\n",
       "45  CHP_325_04 CHP_325 X04    0.0  163.77  2.0 ERMS         0       NA   0    ⋯\n",
       "46  CHP_325_05 CHP_325 X05    0.0    0.00  2.0 ERMS         0       NA   0    ⋯\n",
       "47  CHP_326_01 CHP_326 X01    0.0   77.52  4.0 SR ALL       0       NA   0    ⋯\n",
       "48  CHP_326_02 CHP_326 X02    0.0  400.14  4.0 SR ALL       0       NA   0    ⋯\n",
       "49  CHP_326_03 CHP_326 X03    0.0  122.08  4.0 SR ALL       0       NA   0    ⋯\n",
       "50  CHP_326_04 CHP_326 X04    0.0 1242.85  4.0 SR ALL       0       NA   0    ⋯\n",
       "52  CHP_327_01 CHP_327 X01    6.8    0.00  0.6 HB           6.8     NA   0    ⋯\n",
       "⋮   ⋮          ⋮       ⋮     ⋮    ⋮       ⋮    ⋮            ⋮       ⋮    ⋮    ⋱\n",
       "804 CHP_432_01 CHP_432 X01   2.7  0       15   OS           2.7     NA   2138 ⋯\n",
       "805 CHP_432_02 CHP_432 X02   0.0  0       15   OS           0       NA      0 ⋯\n",
       "806 CHP_432_03 CHP_432 X03   0.0  0       15   OS           0       NA      0 ⋯\n",
       "807 CHP_432_04 CHP_432 X04   0.0  0       15   OS           0       NA      0 ⋯\n",
       "808 CHP_432_05 CHP_432 X05   0.0  0       15   OS           0       NA      0 ⋯\n",
       "809 CHP_433_01 CHP_433 X01   1.1  0       16   ALCL         1.1     NA   2822 ⋯\n",
       "810 CHP_433_02 CHP_433 X02   0.0  0       16   ALCL         0       NA      0 ⋯\n",
       "811 CHP_433_03 CHP_433 X03   0.0  0       16   ALCL         0       NA      0 ⋯\n",
       "812 CHP_433_04 CHP_433 X04   0.0  0       16   ALCL         0       NA      0 ⋯\n",
       "813 CHP_433_05 CHP_433 X05   0.0  0       16   ALCL         0       NA      0 ⋯\n",
       "814 CHP_434_01 CHP_434 X01   4.5  0       12   HD           4.5     NA   3272 ⋯\n",
       "815 CHP_434_02 CHP_434 X02   0.0  0       12   HD           0       NA      0 ⋯\n",
       "816 CHP_434_03 CHP_434 X03   0.0  0       12   HD           0       NA      0 ⋯\n",
       "817 CHP_434_04 CHP_434 X04   0.0  0       12   HD           0       NA      0 ⋯\n",
       "818 CHP_434_05 CHP_434 X05   0.0  0       12   HD           0       NA      0 ⋯\n",
       "819 CHP_435_01 CHP_435 X01   0.0  0        0   CML          0       NA      0 ⋯\n",
       "820 CHP_435_02 CHP_435 X02   0.0  0        0   CML          0       NA      0 ⋯\n",
       "821 CHP_435_03 CHP_435 X03   0.0  0        0   CML          0       NA      0 ⋯\n",
       "822 CHP_435_04 CHP_435 X04   0.0  0        0   CML          0       NA      0 ⋯\n",
       "823 CHP_435_05 CHP_435 X05   0.0  0        0   CML          0       NA      0 ⋯\n",
       "824 CHP_436_01 CHP_436 X01   0.0  0       15   OS           0       NA      0 ⋯\n",
       "825 CHP_436_02 CHP_436 X02   0.0  0       15   OS           0       NA      0 ⋯\n",
       "826 CHP_436_03 CHP_436 X03   0.0  0       15   OS           0       NA      0 ⋯\n",
       "827 CHP_436_04 CHP_436 X04   0.0  0       15   OS           0       NA      0 ⋯\n",
       "828 CHP_436_05 CHP_436 X05   0.0  0       15   OS           0       NA      0 ⋯\n",
       "829 CHP_437_01 CHP_437 X01   0.0  0        9   OS           0       NA      0 ⋯\n",
       "830 CHP_437_02 CHP_437 X02   0.0  0        9   OS           0       NA      0 ⋯\n",
       "831 CHP_437_03 CHP_437 X03   0.0  0        9   OS           0       NA      0 ⋯\n",
       "832 CHP_437_04 CHP_437 X04   0.0  0        9   OS           0       NA      0 ⋯\n",
       "833 CHP_437_05 CHP_437 X05   0.0  0        9   OS           0       NA      0 ⋯\n",
       "    observed_Shannon estimated_Shannon SE_Shannon observed_Simpson\n",
       "14  NA               NA                NA         NA              \n",
       "15  NA               NA                NA         NA              \n",
       "16  NA               NA                NA         NA              \n",
       "17  NA               NA                NA         NA              \n",
       "18  NA               NA                NA         NA              \n",
       "19  NA               NA                NA         NA              \n",
       "20  NA               NA                NA         NA              \n",
       "21  NA               NA                NA         NA              \n",
       "22  NA               NA                NA         NA              \n",
       "23  NA               NA                NA         NA              \n",
       "24  NA               NA                NA         NA              \n",
       "25  NA               NA                NA         NA              \n",
       "26  NA               NA                NA         NA              \n",
       "27  NA               NA                NA         NA              \n",
       "28  NA               NA                NA         NA              \n",
       "29  NA               NA                NA         NA              \n",
       "30  NA               NA                NA         NA              \n",
       "36  NA               NA                NA         NA              \n",
       "37  NA               NA                NA         NA              \n",
       "38  NA               NA                NA         NA              \n",
       "42  NA               NA                NA         NA              \n",
       "43  NA               NA                NA         NA              \n",
       "44  NA               NA                NA         NA              \n",
       "45  NA               NA                NA         NA              \n",
       "46  NA               NA                NA         NA              \n",
       "47  NA               NA                NA         NA              \n",
       "48  NA               NA                NA         NA              \n",
       "49  NA               NA                NA         NA              \n",
       "50  NA               NA                NA         NA              \n",
       "52  NA               NA                NA         NA              \n",
       "⋮   ⋮                ⋮                 ⋮          ⋮               \n",
       "804 NA               NA                NA         NA              \n",
       "805 NA               NA                NA         NA              \n",
       "806 NA               NA                NA         NA              \n",
       "807 NA               NA                NA         NA              \n",
       "808 NA               NA                NA         NA              \n",
       "809 NA               NA                NA         NA              \n",
       "810 NA               NA                NA         NA              \n",
       "811 NA               NA                NA         NA              \n",
       "812 NA               NA                NA         NA              \n",
       "813 NA               NA                NA         NA              \n",
       "814 NA               NA                NA         NA              \n",
       "815 NA               NA                NA         NA              \n",
       "816 NA               NA                NA         NA              \n",
       "817 NA               NA                NA         NA              \n",
       "818 NA               NA                NA         NA              \n",
       "819 NA               NA                NA         NA              \n",
       "820 NA               NA                NA         NA              \n",
       "821 NA               NA                NA         NA              \n",
       "822 NA               NA                NA         NA              \n",
       "823 NA               NA                NA         NA              \n",
       "824 NA               NA                NA         NA              \n",
       "825 NA               NA                NA         NA              \n",
       "826 NA               NA                NA         NA              \n",
       "827 NA               NA                NA         NA              \n",
       "828 NA               NA                NA         NA              \n",
       "829 NA               NA                NA         NA              \n",
       "830 NA               NA                NA         NA              \n",
       "831 NA               NA                NA         NA              \n",
       "832 NA               NA                NA         NA              \n",
       "833 NA               NA                NA         NA              \n",
       "    estimated_Simpson SE_Simpson file basename Group sampletype\n",
       "14  NA                NA         NA   NA       CHP   NA        \n",
       "15  NA                NA         NA   NA       CHP   NA        \n",
       "16  NA                NA         NA   NA       CHP   NA        \n",
       "17  NA                NA         NA   NA       CHP   NA        \n",
       "18  NA                NA         NA   NA       CHP   NA        \n",
       "19  NA                NA         NA   NA       CHP   NA        \n",
       "20  NA                NA         NA   NA       CHP   NA        \n",
       "21  NA                NA         NA   NA       CHP   NA        \n",
       "22  NA                NA         NA   NA       CHP   NA        \n",
       "23  NA                NA         NA   NA       CHP   NA        \n",
       "24  NA                NA         NA   NA       CHP   NA        \n",
       "25  NA                NA         NA   NA       CHP   NA        \n",
       "26  NA                NA         NA   NA       CHP   NA        \n",
       "27  NA                NA         NA   NA       CHP   NA        \n",
       "28  NA                NA         NA   NA       CHP   NA        \n",
       "29  NA                NA         NA   NA       CHP   NA        \n",
       "30  NA                NA         NA   NA       CHP   NA        \n",
       "36  NA                NA         NA   NA       CHP   NA        \n",
       "37  NA                NA         NA   NA       CHP   NA        \n",
       "38  NA                NA         NA   NA       CHP   NA        \n",
       "42  NA                NA         NA   NA       CHP   NA        \n",
       "43  NA                NA         NA   NA       CHP   NA        \n",
       "44  NA                NA         NA   NA       CHP   NA        \n",
       "45  NA                NA         NA   NA       CHP   NA        \n",
       "46  NA                NA         NA   NA       CHP   NA        \n",
       "47  NA                NA         NA   NA       CHP   NA        \n",
       "48  NA                NA         NA   NA       CHP   NA        \n",
       "49  NA                NA         NA   NA       CHP   NA        \n",
       "50  NA                NA         NA   NA       CHP   NA        \n",
       "52  NA                NA         NA   NA       CHP   NA        \n",
       "⋮   ⋮                 ⋮          ⋮    ⋮        ⋮     ⋮         \n",
       "804 NA                NA         NA   NA       CHP   NA        \n",
       "805 NA                NA         NA   NA       CHP   NA        \n",
       "806 NA                NA         NA   NA       CHP   NA        \n",
       "807 NA                NA         NA   NA       CHP   NA        \n",
       "808 NA                NA         NA   NA       CHP   NA        \n",
       "809 NA                NA         NA   NA       CHP   NA        \n",
       "810 NA                NA         NA   NA       CHP   NA        \n",
       "811 NA                NA         NA   NA       CHP   NA        \n",
       "812 NA                NA         NA   NA       CHP   NA        \n",
       "813 NA                NA         NA   NA       CHP   NA        \n",
       "814 NA                NA         NA   NA       CHP   NA        \n",
       "815 NA                NA         NA   NA       CHP   NA        \n",
       "816 NA                NA         NA   NA       CHP   NA        \n",
       "817 NA                NA         NA   NA       CHP   NA        \n",
       "818 NA                NA         NA   NA       CHP   NA        \n",
       "819 NA                NA         NA   NA       CHP   NA        \n",
       "820 NA                NA         NA   NA       CHP   NA        \n",
       "821 NA                NA         NA   NA       CHP   NA        \n",
       "822 NA                NA         NA   NA       CHP   NA        \n",
       "823 NA                NA         NA   NA       CHP   NA        \n",
       "824 NA                NA         NA   NA       CHP   NA        \n",
       "825 NA                NA         NA   NA       CHP   NA        \n",
       "826 NA                NA         NA   NA       CHP   NA        \n",
       "827 NA                NA         NA   NA       CHP   NA        \n",
       "828 NA                NA         NA   NA       CHP   NA        \n",
       "829 NA                NA         NA   NA       CHP   NA        \n",
       "830 NA                NA         NA   NA       CHP   NA        \n",
       "831 NA                NA         NA   NA       CHP   NA        \n",
       "832 NA                NA         NA   NA       CHP   NA        \n",
       "833 NA                NA         NA   NA       CHP   NA        "
      ]
     },
     "metadata": {},
     "output_type": "display_data"
    }
   ],
   "source": [
    "#all NA in sampletype are those with flow data but we did not squence.\n",
    "meta_div[ is.na(meta_div$sampletype),]"
   ]
  },
  {
   "cell_type": "code",
   "execution_count": 30,
   "metadata": {
    "vscode": {
     "languageId": "r"
    }
   },
   "outputs": [
    {
     "data": {
      "text/html": [
       "<table class=\"dataframe\">\n",
       "<caption>A data.frame: 10 × 58</caption>\n",
       "<thead>\n",
       "\t<tr><th></th><th scope=col>sample_id</th><th scope=col>Patient</th><th scope=col>cycle</th><th scope=col>FOLD</th><th scope=col>ATC</th><th scope=col>Age</th><th scope=col>Disease_type</th><th scope=col>TE_fold</th><th scope=col>Pass</th><th scope=col>CD3</th><th scope=col>⋯</th><th scope=col>observed_Shannon</th><th scope=col>estimated_Shannon</th><th scope=col>SE_Shannon</th><th scope=col>observed_Simpson</th><th scope=col>estimated_Simpson</th><th scope=col>SE_Simpson</th><th scope=col>file</th><th scope=col>basename</th><th scope=col>Group</th><th scope=col>sampletype</th></tr>\n",
       "\t<tr><th></th><th scope=col>&lt;chr&gt;</th><th scope=col>&lt;chr&gt;</th><th scope=col>&lt;chr&gt;</th><th scope=col>&lt;dbl&gt;</th><th scope=col>&lt;dbl&gt;</th><th scope=col>&lt;dbl&gt;</th><th scope=col>&lt;chr&gt;</th><th scope=col>&lt;chr&gt;</th><th scope=col>&lt;lgl&gt;</th><th scope=col>&lt;int&gt;</th><th scope=col>⋯</th><th scope=col>&lt;dbl&gt;</th><th scope=col>&lt;dbl&gt;</th><th scope=col>&lt;dbl&gt;</th><th scope=col>&lt;dbl&gt;</th><th scope=col>&lt;dbl&gt;</th><th scope=col>&lt;dbl&gt;</th><th scope=col>&lt;chr&gt;</th><th scope=col>&lt;chr&gt;</th><th scope=col>&lt;chr&gt;</th><th scope=col>&lt;chr&gt;</th></tr>\n",
       "</thead>\n",
       "<tbody>\n",
       "\t<tr><th scope=row>150</th><td>CHP_344_01</td><td>CHP_344</td><td>X01</td><td> 0</td><td>247.80</td><td> 6</td><td>BL</td><td>0 </td><td>NA</td><td> 0</td><td>⋯</td><td> 6.587</td><td> 6.695</td><td>0.172</td><td> 6.236</td><td> 6.417</td><td>0.287</td><td>batch5_cfDNA_25Jun2020/mixcr/clones/CLONES_TRBCHP_344-01_cfDNA.txt             </td><td>CHP_344-01_cfDNA   </td><td>CHP</td><td>cfDNA</td></tr>\n",
       "\t<tr><th scope=row>151</th><td>CHP_344_02</td><td>CHP_344</td><td>X02</td><td> 0</td><td>829.08</td><td> 6</td><td>BL</td><td>0 </td><td>NA</td><td> 0</td><td>⋯</td><td> 1.646</td><td> 1.656</td><td>0.047</td><td> 1.375</td><td> 1.376</td><td>0.029</td><td>batch3a9_cfDNA_10Jul2020/mixcr/clones/CLONES_TRBCHP_344-02_cfDNA.txt           </td><td>CHP_344-02_cfDNA   </td><td>CHP</td><td>cfDNA</td></tr>\n",
       "\t<tr><th scope=row>152</th><td>CHP_344_02</td><td>CHP_344</td><td>X02</td><td> 0</td><td>829.08</td><td> 6</td><td>BL</td><td>0 </td><td>NA</td><td> 0</td><td>⋯</td><td>12.587</td><td>12.868</td><td>0.355</td><td>11.378</td><td>11.757</td><td>0.529</td><td>batch7_25Oct2019/mixcr/clones/CLONES_TRBCHP_344-02-PBMC-DNA.txt                </td><td>CHP_344-02-PBMC-DNA</td><td>CHP</td><td>PBMC </td></tr>\n",
       "\t<tr><th scope=row>153</th><td>CHP_344_03</td><td>CHP_344</td><td>X03</td><td> 0</td><td> 80.04</td><td> 6</td><td>BL</td><td>0 </td><td>NA</td><td> 0</td><td>⋯</td><td> 9.164</td><td> 9.678</td><td>0.578</td><td> 8.094</td><td> 8.755</td><td>0.726</td><td>batch7_25Oct2019/mixcr/clones/CLONES_TRBCHP_344-03-PBMC-DNA.txt                </td><td>CHP_344-03-PBMC-DNA</td><td>CHP</td><td>PBMC </td></tr>\n",
       "\t<tr><th scope=row>154</th><td>CHP_344_03</td><td>CHP_344</td><td>X03</td><td> 0</td><td> 80.04</td><td> 6</td><td>BL</td><td>0 </td><td>NA</td><td> 0</td><td>⋯</td><td> 1.405</td><td> 1.405</td><td>0.012</td><td> 1.212</td><td> 1.212</td><td>0.008</td><td>remaining_batch_2_cfDNA_15April2021/mixcr/clones/CLONES_TRBCHP_344-03-cfDNA.txt</td><td>CHP_344-03-cfDNA   </td><td>CHP</td><td>cfDNA</td></tr>\n",
       "\t<tr><th scope=row>155</th><td>CHP_344_04</td><td>CHP_344</td><td>X04</td><td> 0</td><td>  0.00</td><td> 6</td><td>BL</td><td>0 </td><td>NA</td><td> 0</td><td>⋯</td><td>91.862</td><td>94.612</td><td>1.464</td><td>69.056</td><td>71.118</td><td>2.342</td><td>batch8_14Jan2020/mixcr/clones/CLONES_TRBCHP_344-04-PBMC-DNA.txt                </td><td>CHP_344-04-PBMC-DNA</td><td>CHP</td><td>PBMC </td></tr>\n",
       "\t<tr><th scope=row>156</th><td>CHP_344_04</td><td>CHP_344</td><td>X04</td><td> 0</td><td>  0.00</td><td> 6</td><td>BL</td><td>0 </td><td>NA</td><td> 0</td><td>⋯</td><td> 5.349</td><td>10.872</td><td>7.331</td><td> 4.765</td><td> 9.000</td><td>6.494</td><td>batch3a9_cfDNA_10Jul2020/mixcr/clones/CLONES_TRBCHP_344-04_cfDNA.txt           </td><td>CHP_344-04_cfDNA   </td><td>CHP</td><td>cfDNA</td></tr>\n",
       "\t<tr><th scope=row>157</th><td>CHP_344_05</td><td>CHP_344</td><td>X05</td><td> 0</td><td>134.32</td><td> 6</td><td>BL</td><td>0 </td><td>NA</td><td> 0</td><td>⋯</td><td> 1.975</td><td> 1.975</td><td>0.003</td><td> 1.952</td><td> 1.952</td><td>0.006</td><td>batch3a9_cfDNA_10Jul2020/mixcr/clones/CLONES_TRBCHP_344-05_cfDNA.txt           </td><td>CHP_344-05_cfDNA   </td><td>CHP</td><td>cfDNA</td></tr>\n",
       "\t<tr><th scope=row>158</th><td>CHP_344_05</td><td>CHP_344</td><td>X05</td><td> 0</td><td>134.32</td><td> 6</td><td>BL</td><td>0 </td><td>NA</td><td> 0</td><td>⋯</td><td>94.598</td><td>98.107</td><td>1.650</td><td>72.744</td><td>75.326</td><td>2.497</td><td>batch4_19Aug2019/mixcr/clones/CLONES_TRBCHP_344-05-PBMC-DNA.txt                </td><td>CHP_344-05-PBMC-DNA</td><td>CHP</td><td>PBMC </td></tr>\n",
       "\t<tr><th scope=row>159</th><td>CHP_344_A </td><td>CHP_344</td><td>X00</td><td>NA</td><td>    NA</td><td>NA</td><td>BL</td><td>NA</td><td>NA</td><td>NA</td><td>⋯</td><td> 4.807</td><td> 4.811</td><td>0.055</td><td> 4.009</td><td> 4.013</td><td>0.070</td><td>batchFFPE_3Apr2020/mixcr/clones/CLONES_TRBCHP_344_A-FFPE-DNA.txt               </td><td>CHP_344_A-FFPE-DNA </td><td>CHP</td><td>Tumor</td></tr>\n",
       "</tbody>\n",
       "</table>\n"
      ],
      "text/latex": [
       "A data.frame: 10 × 58\n",
       "\\begin{tabular}{r|lllllllllllllllllllll}\n",
       "  & sample\\_id & Patient & cycle & FOLD & ATC & Age & Disease\\_type & TE\\_fold & Pass & CD3 & ⋯ & observed\\_Shannon & estimated\\_Shannon & SE\\_Shannon & observed\\_Simpson & estimated\\_Simpson & SE\\_Simpson & file & basename & Group & sampletype\\\\\n",
       "  & <chr> & <chr> & <chr> & <dbl> & <dbl> & <dbl> & <chr> & <chr> & <lgl> & <int> & ⋯ & <dbl> & <dbl> & <dbl> & <dbl> & <dbl> & <dbl> & <chr> & <chr> & <chr> & <chr>\\\\\n",
       "\\hline\n",
       "\t150 & CHP\\_344\\_01 & CHP\\_344 & X01 &  0 & 247.80 &  6 & BL & 0  & NA &  0 & ⋯ &  6.587 &  6.695 & 0.172 &  6.236 &  6.417 & 0.287 & batch5\\_cfDNA\\_25Jun2020/mixcr/clones/CLONES\\_TRBCHP\\_344-01\\_cfDNA.txt              & CHP\\_344-01\\_cfDNA    & CHP & cfDNA\\\\\n",
       "\t151 & CHP\\_344\\_02 & CHP\\_344 & X02 &  0 & 829.08 &  6 & BL & 0  & NA &  0 & ⋯ &  1.646 &  1.656 & 0.047 &  1.375 &  1.376 & 0.029 & batch3a9\\_cfDNA\\_10Jul2020/mixcr/clones/CLONES\\_TRBCHP\\_344-02\\_cfDNA.txt            & CHP\\_344-02\\_cfDNA    & CHP & cfDNA\\\\\n",
       "\t152 & CHP\\_344\\_02 & CHP\\_344 & X02 &  0 & 829.08 &  6 & BL & 0  & NA &  0 & ⋯ & 12.587 & 12.868 & 0.355 & 11.378 & 11.757 & 0.529 & batch7\\_25Oct2019/mixcr/clones/CLONES\\_TRBCHP\\_344-02-PBMC-DNA.txt                 & CHP\\_344-02-PBMC-DNA & CHP & PBMC \\\\\n",
       "\t153 & CHP\\_344\\_03 & CHP\\_344 & X03 &  0 &  80.04 &  6 & BL & 0  & NA &  0 & ⋯ &  9.164 &  9.678 & 0.578 &  8.094 &  8.755 & 0.726 & batch7\\_25Oct2019/mixcr/clones/CLONES\\_TRBCHP\\_344-03-PBMC-DNA.txt                 & CHP\\_344-03-PBMC-DNA & CHP & PBMC \\\\\n",
       "\t154 & CHP\\_344\\_03 & CHP\\_344 & X03 &  0 &  80.04 &  6 & BL & 0  & NA &  0 & ⋯ &  1.405 &  1.405 & 0.012 &  1.212 &  1.212 & 0.008 & remaining\\_batch\\_2\\_cfDNA\\_15April2021/mixcr/clones/CLONES\\_TRBCHP\\_344-03-cfDNA.txt & CHP\\_344-03-cfDNA    & CHP & cfDNA\\\\\n",
       "\t155 & CHP\\_344\\_04 & CHP\\_344 & X04 &  0 &   0.00 &  6 & BL & 0  & NA &  0 & ⋯ & 91.862 & 94.612 & 1.464 & 69.056 & 71.118 & 2.342 & batch8\\_14Jan2020/mixcr/clones/CLONES\\_TRBCHP\\_344-04-PBMC-DNA.txt                 & CHP\\_344-04-PBMC-DNA & CHP & PBMC \\\\\n",
       "\t156 & CHP\\_344\\_04 & CHP\\_344 & X04 &  0 &   0.00 &  6 & BL & 0  & NA &  0 & ⋯ &  5.349 & 10.872 & 7.331 &  4.765 &  9.000 & 6.494 & batch3a9\\_cfDNA\\_10Jul2020/mixcr/clones/CLONES\\_TRBCHP\\_344-04\\_cfDNA.txt            & CHP\\_344-04\\_cfDNA    & CHP & cfDNA\\\\\n",
       "\t157 & CHP\\_344\\_05 & CHP\\_344 & X05 &  0 & 134.32 &  6 & BL & 0  & NA &  0 & ⋯ &  1.975 &  1.975 & 0.003 &  1.952 &  1.952 & 0.006 & batch3a9\\_cfDNA\\_10Jul2020/mixcr/clones/CLONES\\_TRBCHP\\_344-05\\_cfDNA.txt            & CHP\\_344-05\\_cfDNA    & CHP & cfDNA\\\\\n",
       "\t158 & CHP\\_344\\_05 & CHP\\_344 & X05 &  0 & 134.32 &  6 & BL & 0  & NA &  0 & ⋯ & 94.598 & 98.107 & 1.650 & 72.744 & 75.326 & 2.497 & batch4\\_19Aug2019/mixcr/clones/CLONES\\_TRBCHP\\_344-05-PBMC-DNA.txt                 & CHP\\_344-05-PBMC-DNA & CHP & PBMC \\\\\n",
       "\t159 & CHP\\_344\\_A  & CHP\\_344 & X00 & NA &     NA & NA & BL & NA & NA & NA & ⋯ &  4.807 &  4.811 & 0.055 &  4.009 &  4.013 & 0.070 & batchFFPE\\_3Apr2020/mixcr/clones/CLONES\\_TRBCHP\\_344\\_A-FFPE-DNA.txt                & CHP\\_344\\_A-FFPE-DNA  & CHP & Tumor\\\\\n",
       "\\end{tabular}\n"
      ],
      "text/markdown": [
       "\n",
       "A data.frame: 10 × 58\n",
       "\n",
       "| <!--/--> | sample_id &lt;chr&gt; | Patient &lt;chr&gt; | cycle &lt;chr&gt; | FOLD &lt;dbl&gt; | ATC &lt;dbl&gt; | Age &lt;dbl&gt; | Disease_type &lt;chr&gt; | TE_fold &lt;chr&gt; | Pass &lt;lgl&gt; | CD3 &lt;int&gt; | ⋯ ⋯ | observed_Shannon &lt;dbl&gt; | estimated_Shannon &lt;dbl&gt; | SE_Shannon &lt;dbl&gt; | observed_Simpson &lt;dbl&gt; | estimated_Simpson &lt;dbl&gt; | SE_Simpson &lt;dbl&gt; | file &lt;chr&gt; | basename &lt;chr&gt; | Group &lt;chr&gt; | sampletype &lt;chr&gt; |\n",
       "|---|---|---|---|---|---|---|---|---|---|---|---|---|---|---|---|---|---|---|---|---|---|\n",
       "| 150 | CHP_344_01 | CHP_344 | X01 |  0 | 247.80 |  6 | BL | 0  | NA |  0 | ⋯ |  6.587 |  6.695 | 0.172 |  6.236 |  6.417 | 0.287 | batch5_cfDNA_25Jun2020/mixcr/clones/CLONES_TRBCHP_344-01_cfDNA.txt              | CHP_344-01_cfDNA    | CHP | cfDNA |\n",
       "| 151 | CHP_344_02 | CHP_344 | X02 |  0 | 829.08 |  6 | BL | 0  | NA |  0 | ⋯ |  1.646 |  1.656 | 0.047 |  1.375 |  1.376 | 0.029 | batch3a9_cfDNA_10Jul2020/mixcr/clones/CLONES_TRBCHP_344-02_cfDNA.txt            | CHP_344-02_cfDNA    | CHP | cfDNA |\n",
       "| 152 | CHP_344_02 | CHP_344 | X02 |  0 | 829.08 |  6 | BL | 0  | NA |  0 | ⋯ | 12.587 | 12.868 | 0.355 | 11.378 | 11.757 | 0.529 | batch7_25Oct2019/mixcr/clones/CLONES_TRBCHP_344-02-PBMC-DNA.txt                 | CHP_344-02-PBMC-DNA | CHP | PBMC  |\n",
       "| 153 | CHP_344_03 | CHP_344 | X03 |  0 |  80.04 |  6 | BL | 0  | NA |  0 | ⋯ |  9.164 |  9.678 | 0.578 |  8.094 |  8.755 | 0.726 | batch7_25Oct2019/mixcr/clones/CLONES_TRBCHP_344-03-PBMC-DNA.txt                 | CHP_344-03-PBMC-DNA | CHP | PBMC  |\n",
       "| 154 | CHP_344_03 | CHP_344 | X03 |  0 |  80.04 |  6 | BL | 0  | NA |  0 | ⋯ |  1.405 |  1.405 | 0.012 |  1.212 |  1.212 | 0.008 | remaining_batch_2_cfDNA_15April2021/mixcr/clones/CLONES_TRBCHP_344-03-cfDNA.txt | CHP_344-03-cfDNA    | CHP | cfDNA |\n",
       "| 155 | CHP_344_04 | CHP_344 | X04 |  0 |   0.00 |  6 | BL | 0  | NA |  0 | ⋯ | 91.862 | 94.612 | 1.464 | 69.056 | 71.118 | 2.342 | batch8_14Jan2020/mixcr/clones/CLONES_TRBCHP_344-04-PBMC-DNA.txt                 | CHP_344-04-PBMC-DNA | CHP | PBMC  |\n",
       "| 156 | CHP_344_04 | CHP_344 | X04 |  0 |   0.00 |  6 | BL | 0  | NA |  0 | ⋯ |  5.349 | 10.872 | 7.331 |  4.765 |  9.000 | 6.494 | batch3a9_cfDNA_10Jul2020/mixcr/clones/CLONES_TRBCHP_344-04_cfDNA.txt            | CHP_344-04_cfDNA    | CHP | cfDNA |\n",
       "| 157 | CHP_344_05 | CHP_344 | X05 |  0 | 134.32 |  6 | BL | 0  | NA |  0 | ⋯ |  1.975 |  1.975 | 0.003 |  1.952 |  1.952 | 0.006 | batch3a9_cfDNA_10Jul2020/mixcr/clones/CLONES_TRBCHP_344-05_cfDNA.txt            | CHP_344-05_cfDNA    | CHP | cfDNA |\n",
       "| 158 | CHP_344_05 | CHP_344 | X05 |  0 | 134.32 |  6 | BL | 0  | NA |  0 | ⋯ | 94.598 | 98.107 | 1.650 | 72.744 | 75.326 | 2.497 | batch4_19Aug2019/mixcr/clones/CLONES_TRBCHP_344-05-PBMC-DNA.txt                 | CHP_344-05-PBMC-DNA | CHP | PBMC  |\n",
       "| 159 | CHP_344_A  | CHP_344 | X00 | NA |     NA | NA | BL | NA | NA | NA | ⋯ |  4.807 |  4.811 | 0.055 |  4.009 |  4.013 | 0.070 | batchFFPE_3Apr2020/mixcr/clones/CLONES_TRBCHP_344_A-FFPE-DNA.txt                | CHP_344_A-FFPE-DNA  | CHP | Tumor |\n",
       "\n"
      ],
      "text/plain": [
       "    sample_id  Patient cycle FOLD ATC    Age Disease_type TE_fold Pass CD3 ⋯\n",
       "150 CHP_344_01 CHP_344 X01    0   247.80  6  BL           0       NA    0  ⋯\n",
       "151 CHP_344_02 CHP_344 X02    0   829.08  6  BL           0       NA    0  ⋯\n",
       "152 CHP_344_02 CHP_344 X02    0   829.08  6  BL           0       NA    0  ⋯\n",
       "153 CHP_344_03 CHP_344 X03    0    80.04  6  BL           0       NA    0  ⋯\n",
       "154 CHP_344_03 CHP_344 X03    0    80.04  6  BL           0       NA    0  ⋯\n",
       "155 CHP_344_04 CHP_344 X04    0     0.00  6  BL           0       NA    0  ⋯\n",
       "156 CHP_344_04 CHP_344 X04    0     0.00  6  BL           0       NA    0  ⋯\n",
       "157 CHP_344_05 CHP_344 X05    0   134.32  6  BL           0       NA    0  ⋯\n",
       "158 CHP_344_05 CHP_344 X05    0   134.32  6  BL           0       NA    0  ⋯\n",
       "159 CHP_344_A  CHP_344 X00   NA       NA NA  BL           NA      NA   NA  ⋯\n",
       "    observed_Shannon estimated_Shannon SE_Shannon observed_Simpson\n",
       "150  6.587            6.695            0.172       6.236          \n",
       "151  1.646            1.656            0.047       1.375          \n",
       "152 12.587           12.868            0.355      11.378          \n",
       "153  9.164            9.678            0.578       8.094          \n",
       "154  1.405            1.405            0.012       1.212          \n",
       "155 91.862           94.612            1.464      69.056          \n",
       "156  5.349           10.872            7.331       4.765          \n",
       "157  1.975            1.975            0.003       1.952          \n",
       "158 94.598           98.107            1.650      72.744          \n",
       "159  4.807            4.811            0.055       4.009          \n",
       "    estimated_Simpson SE_Simpson\n",
       "150  6.417            0.287     \n",
       "151  1.376            0.029     \n",
       "152 11.757            0.529     \n",
       "153  8.755            0.726     \n",
       "154  1.212            0.008     \n",
       "155 71.118            2.342     \n",
       "156  9.000            6.494     \n",
       "157  1.952            0.006     \n",
       "158 75.326            2.497     \n",
       "159  4.013            0.070     \n",
       "    file                                                                           \n",
       "150 batch5_cfDNA_25Jun2020/mixcr/clones/CLONES_TRBCHP_344-01_cfDNA.txt             \n",
       "151 batch3a9_cfDNA_10Jul2020/mixcr/clones/CLONES_TRBCHP_344-02_cfDNA.txt           \n",
       "152 batch7_25Oct2019/mixcr/clones/CLONES_TRBCHP_344-02-PBMC-DNA.txt                \n",
       "153 batch7_25Oct2019/mixcr/clones/CLONES_TRBCHP_344-03-PBMC-DNA.txt                \n",
       "154 remaining_batch_2_cfDNA_15April2021/mixcr/clones/CLONES_TRBCHP_344-03-cfDNA.txt\n",
       "155 batch8_14Jan2020/mixcr/clones/CLONES_TRBCHP_344-04-PBMC-DNA.txt                \n",
       "156 batch3a9_cfDNA_10Jul2020/mixcr/clones/CLONES_TRBCHP_344-04_cfDNA.txt           \n",
       "157 batch3a9_cfDNA_10Jul2020/mixcr/clones/CLONES_TRBCHP_344-05_cfDNA.txt           \n",
       "158 batch4_19Aug2019/mixcr/clones/CLONES_TRBCHP_344-05-PBMC-DNA.txt                \n",
       "159 batchFFPE_3Apr2020/mixcr/clones/CLONES_TRBCHP_344_A-FFPE-DNA.txt               \n",
       "    basename            Group sampletype\n",
       "150 CHP_344-01_cfDNA    CHP   cfDNA     \n",
       "151 CHP_344-02_cfDNA    CHP   cfDNA     \n",
       "152 CHP_344-02-PBMC-DNA CHP   PBMC      \n",
       "153 CHP_344-03-PBMC-DNA CHP   PBMC      \n",
       "154 CHP_344-03-cfDNA    CHP   cfDNA     \n",
       "155 CHP_344-04-PBMC-DNA CHP   PBMC      \n",
       "156 CHP_344-04_cfDNA    CHP   cfDNA     \n",
       "157 CHP_344-05_cfDNA    CHP   cfDNA     \n",
       "158 CHP_344-05-PBMC-DNA CHP   PBMC      \n",
       "159 CHP_344_A-FFPE-DNA  CHP   Tumor     "
      ]
     },
     "metadata": {},
     "output_type": "display_data"
    }
   ],
   "source": [
    "meta_div[ meta_div$Patient == \"CHP_344\",]"
   ]
  },
  {
   "cell_type": "code",
   "execution_count": 31,
   "metadata": {
    "vscode": {
     "languageId": "r"
    }
   },
   "outputs": [
    {
     "data": {
      "text/html": [
       "<table class=\"dataframe\">\n",
       "<caption>A data.frame: 4 × 58</caption>\n",
       "<thead>\n",
       "\t<tr><th></th><th scope=col>sample_id</th><th scope=col>Patient</th><th scope=col>cycle</th><th scope=col>FOLD</th><th scope=col>ATC</th><th scope=col>Age</th><th scope=col>Disease_type</th><th scope=col>TE_fold</th><th scope=col>Pass</th><th scope=col>CD3</th><th scope=col>⋯</th><th scope=col>observed_Shannon</th><th scope=col>estimated_Shannon</th><th scope=col>SE_Shannon</th><th scope=col>observed_Simpson</th><th scope=col>estimated_Simpson</th><th scope=col>SE_Simpson</th><th scope=col>file</th><th scope=col>basename</th><th scope=col>Group</th><th scope=col>sampletype</th></tr>\n",
       "\t<tr><th></th><th scope=col>&lt;chr&gt;</th><th scope=col>&lt;chr&gt;</th><th scope=col>&lt;chr&gt;</th><th scope=col>&lt;dbl&gt;</th><th scope=col>&lt;dbl&gt;</th><th scope=col>&lt;dbl&gt;</th><th scope=col>&lt;chr&gt;</th><th scope=col>&lt;chr&gt;</th><th scope=col>&lt;lgl&gt;</th><th scope=col>&lt;int&gt;</th><th scope=col>⋯</th><th scope=col>&lt;dbl&gt;</th><th scope=col>&lt;dbl&gt;</th><th scope=col>&lt;dbl&gt;</th><th scope=col>&lt;dbl&gt;</th><th scope=col>&lt;dbl&gt;</th><th scope=col>&lt;dbl&gt;</th><th scope=col>&lt;chr&gt;</th><th scope=col>&lt;chr&gt;</th><th scope=col>&lt;chr&gt;</th><th scope=col>&lt;chr&gt;</th></tr>\n",
       "</thead>\n",
       "<tbody>\n",
       "\t<tr><th scope=row>10</th><td>CHP_303_05</td><td>CHP_303</td><td>X05</td><td>NA</td><td>NA</td><td>NA</td><td>NA</td><td>NA</td><td>NA</td><td>NA</td><td>⋯</td><td>191.496</td><td>194.714</td><td>1.481</td><td>158.597</td><td>161.725</td><td>2.010</td><td>batch4_19Aug2019/mixcr/clones/CLONES_TRBCHP_303-05-PBMC-DNA.txt                </td><td>CHP_303-05-PBMC-DNA</td><td>CHP</td><td>PBMC </td></tr>\n",
       "\t<tr><th scope=row>11</th><td>CHP_315_05</td><td>CHP_315</td><td>X05</td><td>NA</td><td>NA</td><td>NA</td><td>NA</td><td>NA</td><td>NA</td><td>NA</td><td>⋯</td><td> 15.470</td><td> 15.793</td><td>0.629</td><td>  9.026</td><td>  9.138</td><td>0.749</td><td>batch4_19Aug2019/mixcr/clones/CLONES_TRBCHP_315-05-PBMC-DNA.txt                </td><td>CHP_315-05-PBMC-DNA</td><td>CHP</td><td>PBMC </td></tr>\n",
       "\t<tr><th scope=row>12</th><td>CHP_315_05</td><td>CHP_315</td><td>X05</td><td>NA</td><td>NA</td><td>NA</td><td>NA</td><td>NA</td><td>NA</td><td>NA</td><td>⋯</td><td>  1.000</td><td>  1.000</td><td>0.000</td><td>  1.000</td><td>  1.000</td><td>0.000</td><td>remaining_batch_2_cfDNA_15April2021/mixcr/clones/CLONES_TRBCHP_315-05_cfDNA.txt</td><td>CHP_315-05_cfDNA   </td><td>CHP</td><td>cfDNA</td></tr>\n",
       "\t<tr><th scope=row>13</th><td>CHP_319_05</td><td>CHP_319</td><td>X05</td><td>NA</td><td>NA</td><td>NA</td><td>NA</td><td>NA</td><td>NA</td><td>NA</td><td>⋯</td><td> 11.878</td><td> 13.439</td><td>1.238</td><td> 10.248</td><td> 11.626</td><td>1.264</td><td>batch2_Aug62019/mixcr/clones/CLONES_TRBCHP_319-05-PBMC-DNA.txt                 </td><td>CHP_319-05-PBMC-DNA</td><td>CHP</td><td>PBMC </td></tr>\n",
       "</tbody>\n",
       "</table>\n"
      ],
      "text/latex": [
       "A data.frame: 4 × 58\n",
       "\\begin{tabular}{r|lllllllllllllllllllll}\n",
       "  & sample\\_id & Patient & cycle & FOLD & ATC & Age & Disease\\_type & TE\\_fold & Pass & CD3 & ⋯ & observed\\_Shannon & estimated\\_Shannon & SE\\_Shannon & observed\\_Simpson & estimated\\_Simpson & SE\\_Simpson & file & basename & Group & sampletype\\\\\n",
       "  & <chr> & <chr> & <chr> & <dbl> & <dbl> & <dbl> & <chr> & <chr> & <lgl> & <int> & ⋯ & <dbl> & <dbl> & <dbl> & <dbl> & <dbl> & <dbl> & <chr> & <chr> & <chr> & <chr>\\\\\n",
       "\\hline\n",
       "\t10 & CHP\\_303\\_05 & CHP\\_303 & X05 & NA & NA & NA & NA & NA & NA & NA & ⋯ & 191.496 & 194.714 & 1.481 & 158.597 & 161.725 & 2.010 & batch4\\_19Aug2019/mixcr/clones/CLONES\\_TRBCHP\\_303-05-PBMC-DNA.txt                 & CHP\\_303-05-PBMC-DNA & CHP & PBMC \\\\\n",
       "\t11 & CHP\\_315\\_05 & CHP\\_315 & X05 & NA & NA & NA & NA & NA & NA & NA & ⋯ &  15.470 &  15.793 & 0.629 &   9.026 &   9.138 & 0.749 & batch4\\_19Aug2019/mixcr/clones/CLONES\\_TRBCHP\\_315-05-PBMC-DNA.txt                 & CHP\\_315-05-PBMC-DNA & CHP & PBMC \\\\\n",
       "\t12 & CHP\\_315\\_05 & CHP\\_315 & X05 & NA & NA & NA & NA & NA & NA & NA & ⋯ &   1.000 &   1.000 & 0.000 &   1.000 &   1.000 & 0.000 & remaining\\_batch\\_2\\_cfDNA\\_15April2021/mixcr/clones/CLONES\\_TRBCHP\\_315-05\\_cfDNA.txt & CHP\\_315-05\\_cfDNA    & CHP & cfDNA\\\\\n",
       "\t13 & CHP\\_319\\_05 & CHP\\_319 & X05 & NA & NA & NA & NA & NA & NA & NA & ⋯ &  11.878 &  13.439 & 1.238 &  10.248 &  11.626 & 1.264 & batch2\\_Aug62019/mixcr/clones/CLONES\\_TRBCHP\\_319-05-PBMC-DNA.txt                  & CHP\\_319-05-PBMC-DNA & CHP & PBMC \\\\\n",
       "\\end{tabular}\n"
      ],
      "text/markdown": [
       "\n",
       "A data.frame: 4 × 58\n",
       "\n",
       "| <!--/--> | sample_id &lt;chr&gt; | Patient &lt;chr&gt; | cycle &lt;chr&gt; | FOLD &lt;dbl&gt; | ATC &lt;dbl&gt; | Age &lt;dbl&gt; | Disease_type &lt;chr&gt; | TE_fold &lt;chr&gt; | Pass &lt;lgl&gt; | CD3 &lt;int&gt; | ⋯ ⋯ | observed_Shannon &lt;dbl&gt; | estimated_Shannon &lt;dbl&gt; | SE_Shannon &lt;dbl&gt; | observed_Simpson &lt;dbl&gt; | estimated_Simpson &lt;dbl&gt; | SE_Simpson &lt;dbl&gt; | file &lt;chr&gt; | basename &lt;chr&gt; | Group &lt;chr&gt; | sampletype &lt;chr&gt; |\n",
       "|---|---|---|---|---|---|---|---|---|---|---|---|---|---|---|---|---|---|---|---|---|---|\n",
       "| 10 | CHP_303_05 | CHP_303 | X05 | NA | NA | NA | NA | NA | NA | NA | ⋯ | 191.496 | 194.714 | 1.481 | 158.597 | 161.725 | 2.010 | batch4_19Aug2019/mixcr/clones/CLONES_TRBCHP_303-05-PBMC-DNA.txt                 | CHP_303-05-PBMC-DNA | CHP | PBMC  |\n",
       "| 11 | CHP_315_05 | CHP_315 | X05 | NA | NA | NA | NA | NA | NA | NA | ⋯ |  15.470 |  15.793 | 0.629 |   9.026 |   9.138 | 0.749 | batch4_19Aug2019/mixcr/clones/CLONES_TRBCHP_315-05-PBMC-DNA.txt                 | CHP_315-05-PBMC-DNA | CHP | PBMC  |\n",
       "| 12 | CHP_315_05 | CHP_315 | X05 | NA | NA | NA | NA | NA | NA | NA | ⋯ |   1.000 |   1.000 | 0.000 |   1.000 |   1.000 | 0.000 | remaining_batch_2_cfDNA_15April2021/mixcr/clones/CLONES_TRBCHP_315-05_cfDNA.txt | CHP_315-05_cfDNA    | CHP | cfDNA |\n",
       "| 13 | CHP_319_05 | CHP_319 | X05 | NA | NA | NA | NA | NA | NA | NA | ⋯ |  11.878 |  13.439 | 1.238 |  10.248 |  11.626 | 1.264 | batch2_Aug62019/mixcr/clones/CLONES_TRBCHP_319-05-PBMC-DNA.txt                  | CHP_319-05-PBMC-DNA | CHP | PBMC  |\n",
       "\n"
      ],
      "text/plain": [
       "   sample_id  Patient cycle FOLD ATC Age Disease_type TE_fold Pass CD3 ⋯\n",
       "10 CHP_303_05 CHP_303 X05   NA   NA  NA  NA           NA      NA   NA  ⋯\n",
       "11 CHP_315_05 CHP_315 X05   NA   NA  NA  NA           NA      NA   NA  ⋯\n",
       "12 CHP_315_05 CHP_315 X05   NA   NA  NA  NA           NA      NA   NA  ⋯\n",
       "13 CHP_319_05 CHP_319 X05   NA   NA  NA  NA           NA      NA   NA  ⋯\n",
       "   observed_Shannon estimated_Shannon SE_Shannon observed_Simpson\n",
       "10 191.496          194.714           1.481      158.597         \n",
       "11  15.470           15.793           0.629        9.026         \n",
       "12   1.000            1.000           0.000        1.000         \n",
       "13  11.878           13.439           1.238       10.248         \n",
       "   estimated_Simpson SE_Simpson\n",
       "10 161.725           2.010     \n",
       "11   9.138           0.749     \n",
       "12   1.000           0.000     \n",
       "13  11.626           1.264     \n",
       "   file                                                                           \n",
       "10 batch4_19Aug2019/mixcr/clones/CLONES_TRBCHP_303-05-PBMC-DNA.txt                \n",
       "11 batch4_19Aug2019/mixcr/clones/CLONES_TRBCHP_315-05-PBMC-DNA.txt                \n",
       "12 remaining_batch_2_cfDNA_15April2021/mixcr/clones/CLONES_TRBCHP_315-05_cfDNA.txt\n",
       "13 batch2_Aug62019/mixcr/clones/CLONES_TRBCHP_319-05-PBMC-DNA.txt                 \n",
       "   basename            Group sampletype\n",
       "10 CHP_303-05-PBMC-DNA CHP   PBMC      \n",
       "11 CHP_315-05-PBMC-DNA CHP   PBMC      \n",
       "12 CHP_315-05_cfDNA    CHP   cfDNA     \n",
       "13 CHP_319-05-PBMC-DNA CHP   PBMC      "
      ]
     },
     "metadata": {},
     "output_type": "display_data"
    }
   ],
   "source": [
    "meta_div[ is.na(meta_div$Disease_type),]"
   ]
  },
  {
   "cell_type": "code",
   "execution_count": 32,
   "metadata": {
    "vscode": {
     "languageId": "r"
    }
   },
   "outputs": [],
   "source": [
    "# old samples. Remove them!"
   ]
  },
  {
   "cell_type": "code",
   "execution_count": 33,
   "metadata": {
    "vscode": {
     "languageId": "r"
    }
   },
   "outputs": [],
   "source": [
    "meta_div <- meta_div[ !is.na(meta_div$Disease_type),]"
   ]
  },
  {
   "cell_type": "code",
   "execution_count": 34,
   "metadata": {
    "vscode": {
     "languageId": "r"
    }
   },
   "outputs": [
    {
     "data": {
      "text/plain": [
       "\n",
       "Leukemia Lymphoma    Solid     <NA> \n",
       "     394      148      257       42 "
      ]
     },
     "metadata": {},
     "output_type": "display_data"
    }
   ],
   "source": [
    "table(meta_div$cancergroup, useNA = \"always\")"
   ]
  },
  {
   "cell_type": "code",
   "execution_count": 35,
   "metadata": {
    "vscode": {
     "languageId": "r"
    }
   },
   "outputs": [
    {
     "data": {
      "text/plain": [
       "\n",
       "  ALCL    ALL    AML   ARMS     BL    BLL    CML  DLBCL   ERMS    EWS     HB \n",
       "    15    159     74      8     33     15     25     21     39     44     25 \n",
       "    HD HR ALL    LFS  MS NB     NB Normal     OS  PMBCL    RMS SR ALL  T-ALL \n",
       "    60     93     10      5     25     14     86     14     15     17     26 \n",
       " WILMS   <NA> \n",
       "    18      0 "
      ]
     },
     "metadata": {},
     "output_type": "display_data"
    }
   ],
   "source": [
    "table(meta_div$Disease_type, useNA = \"always\")"
   ]
  },
  {
   "cell_type": "code",
   "execution_count": 36,
   "metadata": {
    "vscode": {
     "languageId": "r"
    }
   },
   "outputs": [],
   "source": [
    "meta_div$cancergroup[ meta_div$sampletype == \"Tumor\"] <- \"Solid\"\n",
    "meta_div$cancergroup[ meta_div$Disease_type == \"Normal\"] <- \"Normal\"\n",
    "meta_div$cancergroup[ meta_div$Disease_type == \"LFS\"] <- \"LFS\""
   ]
  },
  {
   "cell_type": "code",
   "execution_count": 37,
   "metadata": {
    "vscode": {
     "languageId": "r"
    }
   },
   "outputs": [
    {
     "data": {
      "text/plain": [
       "\n",
       "Leukemia      LFS Lymphoma   Normal    Solid     <NA> \n",
       "     394       10      148       14      275        0 "
      ]
     },
     "metadata": {},
     "output_type": "display_data"
    }
   ],
   "source": [
    "table(meta_div$cancergroup, useNA = \"always\")"
   ]
  },
  {
   "cell_type": "code",
   "execution_count": 38,
   "metadata": {
    "vscode": {
     "languageId": "r"
    }
   },
   "outputs": [],
   "source": [
    "save(meta_div, file = paste0(datapath,\"capTCRseq/meta_div_TRB.RData\"))"
   ]
  },
  {
   "cell_type": "markdown",
   "metadata": {},
   "source": [
    "## to do: TRA"
   ]
  },
  {
   "cell_type": "code",
   "execution_count": null,
   "metadata": {
    "vscode": {
     "languageId": "r"
    }
   },
   "outputs": [],
   "source": []
  },
  {
   "cell_type": "code",
   "execution_count": null,
   "metadata": {
    "vscode": {
     "languageId": "r"
    }
   },
   "outputs": [],
   "source": []
  }
 ],
 "metadata": {
  "kernelspec": {
   "display_name": "R 4.0",
   "language": "R",
   "name": "ir40"
  },
  "language_info": {
   "codemirror_mode": "r",
   "file_extension": ".r",
   "mimetype": "text/x-r-source",
   "name": "R",
   "pygments_lexer": "r",
   "version": "4.0.3"
  },
  "toc": {
   "base_numbering": 1,
   "nav_menu": {},
   "number_sections": false,
   "sideBar": true,
   "skip_h1_title": false,
   "title_cell": "Table of Contents",
   "title_sidebar": "Contents",
   "toc_cell": true,
   "toc_position": {
    "height": "calc(100% - 180px)",
    "left": "10px",
    "top": "150px",
    "width": "217.301px"
   },
   "toc_section_display": true,
   "toc_window_display": true
  }
 },
 "nbformat": 4,
 "nbformat_minor": 2
}
