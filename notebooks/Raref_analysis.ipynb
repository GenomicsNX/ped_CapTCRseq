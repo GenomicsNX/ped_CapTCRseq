{
 "cells": [
  {
   "cell_type": "markdown",
   "metadata": {},
   "source": [
    "# Dependencies"
   ]
  },
  {
   "cell_type": "code",
   "execution_count": 1,
   "metadata": {
    "vscode": {
     "languageId": "r"
    }
   },
   "outputs": [],
   "source": [
    "library(ggplot2)\n",
    "library(iNEXT)\n",
    "library(parallel)\n",
    "library(cowplot)\n",
    "library(ggbeeswarm)"
   ]
  },
  {
   "cell_type": "markdown",
   "metadata": {},
   "source": [
    "# Functions"
   ]
  },
  {
   "cell_type": "code",
   "execution_count": 2,
   "metadata": {
    "vscode": {
     "languageId": "r"
    }
   },
   "outputs": [],
   "source": [
    "histp <- function(df, var){\n",
    "    myp <- ggplot(data = df, aes(x = eval(parse(text = var)))) + \n",
    "    geom_histogram() + myplot + myaxis + labs(x = var)\n",
    "    return(myp)\n",
    "}"
   ]
  },
  {
   "cell_type": "code",
   "execution_count": 3,
   "metadata": {
    "vscode": {
     "languageId": "r"
    }
   },
   "outputs": [],
   "source": [
    "# From SO to print errors and warnings\n",
    "safe_mclapply <- function(X, FUN, mc.cores, stop.on.error=T, ...){\n",
    "  fun <- function(x){\n",
    "    res_inner <- tryCatch({\n",
    "      withCallingHandlers(\n",
    "        expr = {\n",
    "          FUN(x, ...)\n",
    "        }, \n",
    "        warning = function(e) {\n",
    "          message_parallel(trimws(paste0(\"WARNING [element \", x,\"]: \", e)))\n",
    "          # this line is required to continue FUN execution after the warning\n",
    "          invokeRestart(\"muffleWarning\")\n",
    "        },\n",
    "        error = function(e) {\n",
    "          message_parallel(trimws(paste0(\"ERROR [element \", x,\"]: \", e)))\n",
    "        }\n",
    "      )},\n",
    "      error = function(e){\n",
    "        # error is returned gracefully; other results of this core won't be affected\n",
    "        return(e)\n",
    "      }\n",
    "    )\n",
    "    return(res_inner)\n",
    "  }\n",
    "  \n",
    "  res <- mclapply(X, fun, mc.cores=mc.cores, mc.preschedule = FALSE)\n",
    "  failed <- sapply(res, inherits, what = \"error\")\n",
    "  if (any(failed == T)){\n",
    "    error_indices <- paste0(which(failed == T), collapse=\", \")\n",
    "    error_traces <- paste0(lapply(res[which(failed == T)], function(x) x$message), collapse=\"\\n\\n\")\n",
    "    error_message <- sprintf(\"Elements with following indices failed with an error: %s. Error messages: \\n\\n%s\", \n",
    "                             error_indices,\n",
    "                             error_traces)\n",
    "    if (stop.on.error)\n",
    "      stop(error_message)\n",
    "    else\n",
    "      warning(error_message, \"\\n\\n### Errors will be ignored ###\")\n",
    "  }\n",
    "  return(res[!failed])\n",
    "}\n",
    "\n",
    "#' Function which prints a message using shell echo; useful for printing messages from inside mclapply when running in Rstudio\n",
    "message_parallel <- function(...){\n",
    "  system(sprintf('echo \"\\n%s\\n\"', paste0(..., collapse=\"\")))\n",
    "}"
   ]
  },
  {
   "cell_type": "code",
   "execution_count": 4,
   "metadata": {
    "vscode": {
     "languageId": "r"
    }
   },
   "outputs": [],
   "source": [
    "source(\"/Users/anabbi/git/ped_CapTCRseq/R/ggplot2_theme.R\")\n",
    "source(\"/Users/anabbi/git/ped_CapTCRseq/R/color_schemes.R\")\n",
    "source(\"/Users/anabbi/git/ped_CapTCRseq/R/Immune_Diversity.R\")"
   ]
  },
  {
   "cell_type": "markdown",
   "metadata": {},
   "source": [
    "# Paths"
   ]
  },
  {
   "cell_type": "code",
   "execution_count": 5,
   "metadata": {
    "vscode": {
     "languageId": "r"
    }
   },
   "outputs": [],
   "source": [
    "datapath <- \"/Users/anabbi/OneDrive - UHN/Documents/INTERCEPT/Data/\"\n",
    "plotpath <- \"/Users/anabbi/OneDrive - UHN/Documents/INTERCEPT/Plots/\"\n",
    "manifestpath <- \"/Users/anabbi/OneDrive - UHN/Documents/INTERCEPT/Manifests/\"\n",
    "\n",
    "gitpath <- \"/Users/anabbi/git/ped_CapTCRseq/\""
   ]
  },
  {
   "cell_type": "markdown",
   "metadata": {},
   "source": [
    "# Main"
   ]
  },
  {
   "cell_type": "code",
   "execution_count": 7,
   "metadata": {
    "vscode": {
     "languageId": "r"
    }
   },
   "outputs": [],
   "source": [
    "divstats <- read.csv(paste0(datapath, \"capTCRseq/divstats_TRBCHP.csv\"), header = T, stringsAsFactors = F, row.names = 1)"
   ]
  },
  {
   "cell_type": "code",
   "execution_count": 8,
   "metadata": {
    "vscode": {
     "languageId": "r"
    }
   },
   "outputs": [],
   "source": [
    "emptyids <- sapply(myimmunelist, function(x) length(x) == 0)"
   ]
  },
  {
   "cell_type": "code",
   "execution_count": 9,
   "metadata": {
    "vscode": {
     "languageId": "r"
    }
   },
   "outputs": [],
   "source": [
    "myimmunelist <- myimmunelist[!emptyids]"
   ]
  },
  {
   "cell_type": "code",
   "execution_count": 10,
   "metadata": {
    "vscode": {
     "languageId": "r"
    }
   },
   "outputs": [
    {
     "data": {
      "text/html": [
       "580"
      ],
      "text/latex": [
       "580"
      ],
      "text/markdown": [
       "580"
      ],
      "text/plain": [
       "[1] 580"
      ]
     },
     "metadata": {},
     "output_type": "display_data"
    }
   ],
   "source": [
    "length(myimmunelist)"
   ]
  },
  {
   "cell_type": "markdown",
   "metadata": {},
   "source": [
    "Run interactively on Samwise and copy bac to local"
   ]
  },
  {
   "cell_type": "markdown",
   "metadata": {},
   "source": [
    "out <- safe_mclapply(1:length(myimmunelist), function(x){\n",
    "    iNEXT(myimmunelist[x], c(0,1,2), datatype=\"abundance\", nboot = 50, endpoint = 3505)}, mc.cores = 26)"
   ]
  },
  {
   "cell_type": "markdown",
   "metadata": {},
   "source": [
    "# Load iNEXT output"
   ]
  },
  {
   "cell_type": "code",
   "execution_count": 8,
   "metadata": {
    "vscode": {
     "languageId": "r"
    }
   },
   "outputs": [],
   "source": [
    "load(file = paste0(datapath,\"capTCRseq/inext_out_all.RData\"))"
   ]
  },
  {
   "cell_type": "code",
   "execution_count": 9,
   "metadata": {
    "vscode": {
     "languageId": "r"
    }
   },
   "outputs": [
    {
     "data": {
      "text/plain": [
       "[[1]]\n",
       "Compare 1 assemblages with Hill number order q = .\n",
       "$class: iNEXT\n",
       "\n",
       "$DataInfo: basic data information\n",
       "                      site   n S.obs     SC f1 f2 f3 f4 f5 f6 f7 f8 f9 f10\n",
       "CHP_315-05-PBMC-DNA site.1 192    25 0.9793  4  2  2  4  4  3  0  1  2   0\n",
       "\n",
       "$iNextEst: diversity estimates with rarefied and extrapolated samples.\n",
       "$`CHP_315-05-PBMC-DNA`\n",
       "       m       method order     qD qD.LCL qD.UCL    SC SC.LCL SC.UCL\n",
       "1      1 interpolated     0  1.000  1.000  1.000 0.136  0.106  0.165\n",
       "10    96 interpolated     0 21.846 20.186 23.506 0.942  0.924  0.959\n",
       "20   192     observed     0 25.000 22.395 27.605 0.979  0.964  0.995\n",
       "30  1761 extrapolated     0 28.978 16.737 41.219 1.000  0.998  1.002\n",
       "40  3505 extrapolated     0 28.979 15.794 42.164 1.000  1.000  1.000\n",
       "41     1 interpolated     1  1.000  1.000  1.000 0.136  0.090  0.181\n",
       "50    96 interpolated     1 12.168  9.913 14.423 0.942  0.925  0.959\n",
       "60   192     observed     1 13.126 10.660 15.591 0.979  0.966  0.993\n",
       "70  1761 extrapolated     1 14.196 11.444 16.947 1.000  0.999  1.001\n",
       "80  3505 extrapolated     1 14.196 11.444 16.948 1.000  1.000  1.000\n",
       "81     1 interpolated     2  1.000  1.000  1.000 0.136  0.096  0.175\n",
       "90    96 interpolated     2  6.909  5.101  8.716 0.942  0.920  0.964\n",
       "100  192     observed     2  7.130  5.192  9.068 0.979  0.961  0.997\n",
       "110 1761 extrapolated     2  7.340  5.274  9.406 1.000  0.999  1.001\n",
       "120 3505 extrapolated     2  7.353  5.279  9.428 1.000  1.000  1.000\n",
       "\n",
       "\n",
       "$AsyEst: asymptotic diversity estimates along with related statistics.\n",
       "                 Site         Diversity Observed Estimator  s.e.    LCL    UCL\n",
       "1 CHP_315-05-PBMC-DNA  Species richness   25.000    28.979 5.266 25.554 53.584\n",
       "2 CHP_315-05-PBMC-DNA Shannon diversity   13.126    14.196 1.222 13.126 16.590\n",
       "3 CHP_315-05-PBMC-DNA Simpson diversity    7.130     7.367 1.026  7.130  9.379\n",
       "\n",
       "NOTE: Only show five estimates, call iNEXT.object$iNextEst. to show complete output.\n"
      ]
     },
     "metadata": {},
     "output_type": "display_data"
    }
   ],
   "source": [
    "head(out[1])"
   ]
  },
  {
   "cell_type": "markdown",
   "metadata": {},
   "source": [
    "get sample names"
   ]
  },
  {
   "cell_type": "code",
   "execution_count": 10,
   "metadata": {
    "vscode": {
     "languageId": "r"
    }
   },
   "outputs": [],
   "source": [
    "allnames <- names(out[[1]]$iNextEst)\n",
    "\n",
    "for(i in 2:length(out)){\n",
    "    allnames <- c(allnames, names(out[[i]]$iNextEst))\n",
    "}"
   ]
  },
  {
   "cell_type": "code",
   "execution_count": 11,
   "metadata": {
    "vscode": {
     "languageId": "r"
    }
   },
   "outputs": [
    {
     "data": {
      "text/html": [
       "<style>\n",
       ".list-inline {list-style: none; margin:0; padding: 0}\n",
       ".list-inline>li {display: inline-block}\n",
       ".list-inline>li:not(:last-child)::after {content: \"\\00b7\"; padding: 0 .5ex}\n",
       "</style>\n",
       "<ol class=list-inline><li>'CHP_315-05-PBMC-DNA'</li><li>'CHP_350-01-PBMC-DNA'</li><li>'CHP_350-02-PBMC-DNA'</li><li>'CHP_350-03-PBMC-DNA'</li><li>'CHP_350-04-PBMC-DNA'</li><li>'CHP_353-02-PBMC-DNA'</li></ol>\n"
      ],
      "text/latex": [
       "\\begin{enumerate*}\n",
       "\\item 'CHP\\_315-05-PBMC-DNA'\n",
       "\\item 'CHP\\_350-01-PBMC-DNA'\n",
       "\\item 'CHP\\_350-02-PBMC-DNA'\n",
       "\\item 'CHP\\_350-03-PBMC-DNA'\n",
       "\\item 'CHP\\_350-04-PBMC-DNA'\n",
       "\\item 'CHP\\_353-02-PBMC-DNA'\n",
       "\\end{enumerate*}\n"
      ],
      "text/markdown": [
       "1. 'CHP_315-05-PBMC-DNA'\n",
       "2. 'CHP_350-01-PBMC-DNA'\n",
       "3. 'CHP_350-02-PBMC-DNA'\n",
       "4. 'CHP_350-03-PBMC-DNA'\n",
       "5. 'CHP_350-04-PBMC-DNA'\n",
       "6. 'CHP_353-02-PBMC-DNA'\n",
       "\n",
       "\n"
      ],
      "text/plain": [
       "[1] \"CHP_315-05-PBMC-DNA\" \"CHP_350-01-PBMC-DNA\" \"CHP_350-02-PBMC-DNA\"\n",
       "[4] \"CHP_350-03-PBMC-DNA\" \"CHP_350-04-PBMC-DNA\" \"CHP_353-02-PBMC-DNA\""
      ]
     },
     "metadata": {},
     "output_type": "display_data"
    }
   ],
   "source": [
    "head(allnames)"
   ]
  },
  {
   "cell_type": "markdown",
   "metadata": {},
   "source": [
    "# Plot all samples"
   ]
  },
  {
   "cell_type": "markdown",
   "metadata": {},
   "source": [
    "make a list of plots"
   ]
  },
  {
   "cell_type": "code",
   "execution_count": 159,
   "metadata": {
    "vscode": {
     "languageId": "r"
    }
   },
   "outputs": [],
   "source": [
    "listofplots <- lapply(c(1:length(out)), function(x){ \n",
    "    p <- ggiNEXT(out[[x]], type=1, color.var =\"order\") + \n",
    "    theme_bw(base_size = 10) + labs(title = allnames[x]) +\n",
    "theme(plot.title = element_text(size = 5,hjust = 0.5),\n",
    "     legend.position = \"none\")})"
   ]
  },
  {
   "cell_type": "markdown",
   "metadata": {},
   "source": [
    "add names then subset"
   ]
  },
  {
   "cell_type": "code",
   "execution_count": 160,
   "metadata": {
    "vscode": {
     "languageId": "r"
    }
   },
   "outputs": [],
   "source": [
    "names(listofplots) <- allnames"
   ]
  },
  {
   "cell_type": "code",
   "execution_count": 162,
   "metadata": {
    "vscode": {
     "languageId": "r"
    }
   },
   "outputs": [],
   "source": [
    "library(cowplot)"
   ]
  },
  {
   "cell_type": "code",
   "execution_count": 164,
   "metadata": {
    "vscode": {
     "languageId": "r"
    }
   },
   "outputs": [
    {
     "data": {
      "text/html": [
       "<strong>pdf:</strong> 2"
      ],
      "text/latex": [
       "\\textbf{pdf:} 2"
      ],
      "text/markdown": [
       "**pdf:** 2"
      ],
      "text/plain": [
       "pdf \n",
       "  2 "
      ]
     },
     "metadata": {},
     "output_type": "display_data"
    }
   ],
   "source": [
    "pdf(paste0(plotpath, \"tumor_all_plots.pdf\"),\n",
    "   width = 10, height = 10)\n",
    "plot_grid(plotlist = listofplots[grepl(\"FFPE\", names(listofplots))], ncol = 5)\n",
    "dev.off()"
   ]
  },
  {
   "cell_type": "code",
   "execution_count": 165,
   "metadata": {
    "vscode": {
     "languageId": "r"
    }
   },
   "outputs": [
    {
     "data": {
      "text/html": [
       "<strong>pdf:</strong> 2"
      ],
      "text/latex": [
       "\\textbf{pdf:} 2"
      ],
      "text/markdown": [
       "**pdf:** 2"
      ],
      "text/plain": [
       "pdf \n",
       "  2 "
      ]
     },
     "metadata": {},
     "output_type": "display_data"
    }
   ],
   "source": [
    "pdf(paste0(plotpath, \"pbmc_all_plots.pdf\"),\n",
    "   width = 30, height = 30)\n",
    "plot_grid(plotlist = listofplots[grepl(\"PBMC\", names(listofplots))], ncol = 20)\n",
    "dev.off()"
   ]
  },
  {
   "cell_type": "code",
   "execution_count": 166,
   "metadata": {
    "vscode": {
     "languageId": "r"
    }
   },
   "outputs": [
    {
     "name": "stderr",
     "output_type": "stream",
     "text": [
      "Warning message:\n",
      "“Removed 1 rows containing missing values (geom_point).”\n",
      "Warning message:\n",
      "“Removed 21 row(s) containing missing values (geom_path).”\n",
      "Warning message:\n",
      "“Removed 2 rows containing missing values (geom_point).”\n",
      "Warning message:\n",
      "“Removed 58 row(s) containing missing values (geom_path).”\n",
      "Warning message:\n",
      "“Removed 2 rows containing missing values (geom_point).”\n",
      "Warning message:\n",
      "“Removed 58 row(s) containing missing values (geom_path).”\n"
     ]
    },
    {
     "data": {
      "text/html": [
       "<strong>pdf:</strong> 2"
      ],
      "text/latex": [
       "\\textbf{pdf:} 2"
      ],
      "text/markdown": [
       "**pdf:** 2"
      ],
      "text/plain": [
       "pdf \n",
       "  2 "
      ]
     },
     "metadata": {},
     "output_type": "display_data"
    }
   ],
   "source": [
    "pdf(paste0(plotpath, \"cfdna_all_plots.pdf\"),\n",
    "   width = 30, height = 30)\n",
    "plot_grid(plotlist = listofplots[grepl(\"cfDNA\", names(listofplots))], ncol = 20)\n",
    "dev.off()"
   ]
  },
  {
   "cell_type": "code",
   "execution_count": null,
   "metadata": {
    "vscode": {
     "languageId": "r"
    }
   },
   "outputs": [],
   "source": []
  },
  {
   "cell_type": "code",
   "execution_count": null,
   "metadata": {
    "vscode": {
     "languageId": "r"
    }
   },
   "outputs": [],
   "source": []
  },
  {
   "cell_type": "markdown",
   "metadata": {},
   "source": [
    "# Sample lookup"
   ]
  },
  {
   "cell_type": "code",
   "execution_count": 31,
   "metadata": {
    "vscode": {
     "languageId": "r"
    }
   },
   "outputs": [
    {
     "data": {
      "text/html": [
       "355"
      ],
      "text/latex": [
       "355"
      ],
      "text/markdown": [
       "355"
      ],
      "text/plain": [
       "[1] 355"
      ]
     },
     "metadata": {},
     "output_type": "display_data"
    }
   ],
   "source": [
    "which(grepl(\"394-01\",allnames ))"
   ]
  },
  {
   "cell_type": "code",
   "execution_count": 35,
   "metadata": {
    "vscode": {
     "languageId": "r"
    }
   },
   "outputs": [
    {
     "data": {
      "text/html": [
       "<style>\n",
       ".list-inline {list-style: none; margin:0; padding: 0}\n",
       ".list-inline>li {display: inline-block}\n",
       ".list-inline>li:not(:last-child)::after {content: \"\\00b7\"; padding: 0 .5ex}\n",
       "</style>\n",
       "<ol class=list-inline><li>'age_pal'</li><li>'allnames'</li><li>'cluster_col'</li><li>'cogpal'</li><li>'cohort_col'</li><li>'cri_col'</li><li>'datapath'</li><li>'divstats'</li><li>'divstats_raref'</li><li>'Divstats.fx'</li><li>'gender_pal'</li><li>'gitpath'</li><li>'group_col'</li><li>'histp'</li><li>'i'</li><li>'immunelist_adaptive.fx'</li><li>'immunelistfx'</li><li>'manifestpath'</li><li>'message_parallel'</li><li>'myaxis'</li><li>'mycnpal'</li><li>'myplot'</li><li>'mysample'</li><li>'mysamplename'</li><li>'out'</li><li>'plotpath'</li><li>'qd_0'</li><li>'qd_1'</li><li>'qd_2'</li><li>'race_pal'</li><li>'safe_mclapply'</li></ol>\n"
      ],
      "text/latex": [
       "\\begin{enumerate*}\n",
       "\\item 'age\\_pal'\n",
       "\\item 'allnames'\n",
       "\\item 'cluster\\_col'\n",
       "\\item 'cogpal'\n",
       "\\item 'cohort\\_col'\n",
       "\\item 'cri\\_col'\n",
       "\\item 'datapath'\n",
       "\\item 'divstats'\n",
       "\\item 'divstats\\_raref'\n",
       "\\item 'Divstats.fx'\n",
       "\\item 'gender\\_pal'\n",
       "\\item 'gitpath'\n",
       "\\item 'group\\_col'\n",
       "\\item 'histp'\n",
       "\\item 'i'\n",
       "\\item 'immunelist\\_adaptive.fx'\n",
       "\\item 'immunelistfx'\n",
       "\\item 'manifestpath'\n",
       "\\item 'message\\_parallel'\n",
       "\\item 'myaxis'\n",
       "\\item 'mycnpal'\n",
       "\\item 'myplot'\n",
       "\\item 'mysample'\n",
       "\\item 'mysamplename'\n",
       "\\item 'out'\n",
       "\\item 'plotpath'\n",
       "\\item 'qd\\_0'\n",
       "\\item 'qd\\_1'\n",
       "\\item 'qd\\_2'\n",
       "\\item 'race\\_pal'\n",
       "\\item 'safe\\_mclapply'\n",
       "\\end{enumerate*}\n"
      ],
      "text/markdown": [
       "1. 'age_pal'\n",
       "2. 'allnames'\n",
       "3. 'cluster_col'\n",
       "4. 'cogpal'\n",
       "5. 'cohort_col'\n",
       "6. 'cri_col'\n",
       "7. 'datapath'\n",
       "8. 'divstats'\n",
       "9. 'divstats_raref'\n",
       "10. 'Divstats.fx'\n",
       "11. 'gender_pal'\n",
       "12. 'gitpath'\n",
       "13. 'group_col'\n",
       "14. 'histp'\n",
       "15. 'i'\n",
       "16. 'immunelist_adaptive.fx'\n",
       "17. 'immunelistfx'\n",
       "18. 'manifestpath'\n",
       "19. 'message_parallel'\n",
       "20. 'myaxis'\n",
       "21. 'mycnpal'\n",
       "22. 'myplot'\n",
       "23. 'mysample'\n",
       "24. 'mysamplename'\n",
       "25. 'out'\n",
       "26. 'plotpath'\n",
       "27. 'qd_0'\n",
       "28. 'qd_1'\n",
       "29. 'qd_2'\n",
       "30. 'race_pal'\n",
       "31. 'safe_mclapply'\n",
       "\n",
       "\n"
      ],
      "text/plain": [
       " [1] \"age_pal\"                \"allnames\"               \"cluster_col\"           \n",
       " [4] \"cogpal\"                 \"cohort_col\"             \"cri_col\"               \n",
       " [7] \"datapath\"               \"divstats\"               \"divstats_raref\"        \n",
       "[10] \"Divstats.fx\"            \"gender_pal\"             \"gitpath\"               \n",
       "[13] \"group_col\"              \"histp\"                  \"i\"                     \n",
       "[16] \"immunelist_adaptive.fx\" \"immunelistfx\"           \"manifestpath\"          \n",
       "[19] \"message_parallel\"       \"myaxis\"                 \"mycnpal\"               \n",
       "[22] \"myplot\"                 \"mysample\"               \"mysamplename\"          \n",
       "[25] \"out\"                    \"plotpath\"               \"qd_0\"                  \n",
       "[28] \"qd_1\"                   \"qd_2\"                   \"race_pal\"              \n",
       "[31] \"safe_mclapply\"         "
      ]
     },
     "metadata": {},
     "output_type": "display_data"
    }
   ],
   "source": [
    "ls()"
   ]
  },
  {
   "cell_type": "code",
   "execution_count": 34,
   "metadata": {
    "vscode": {
     "languageId": "r"
    }
   },
   "outputs": [
    {
     "data": {
      "text/html": [
       "<table class=\"dataframe\">\n",
       "<caption>A data.frame: 1 × 26</caption>\n",
       "<thead>\n",
       "\t<tr><th></th><th scope=col>TRB</th><th scope=col>Reads</th><th scope=col>CPKR</th><th scope=col>Average_reads</th><th scope=col>VMR</th><th scope=col>Max_reads</th><th scope=col>Singletons</th><th scope=col>Doubletons</th><th scope=col>qD</th><th scope=col>Sample_Coverage</th><th scope=col>⋯</th><th scope=col>observed_Simpson</th><th scope=col>estimated_Simpson</th><th scope=col>SE_Simpson</th><th scope=col>sample_id</th><th scope=col>file</th><th scope=col>Sample</th><th scope=col>Group</th><th scope=col>Patient</th><th scope=col>Cycle</th><th scope=col>basename</th></tr>\n",
       "\t<tr><th></th><th scope=col>&lt;int&gt;</th><th scope=col>&lt;int&gt;</th><th scope=col>&lt;dbl&gt;</th><th scope=col>&lt;dbl&gt;</th><th scope=col>&lt;dbl&gt;</th><th scope=col>&lt;int&gt;</th><th scope=col>&lt;int&gt;</th><th scope=col>&lt;int&gt;</th><th scope=col>&lt;dbl&gt;</th><th scope=col>&lt;dbl&gt;</th><th scope=col>⋯</th><th scope=col>&lt;dbl&gt;</th><th scope=col>&lt;dbl&gt;</th><th scope=col>&lt;dbl&gt;</th><th scope=col>&lt;chr&gt;</th><th scope=col>&lt;chr&gt;</th><th scope=col>&lt;chr&gt;</th><th scope=col>&lt;chr&gt;</th><th scope=col>&lt;chr&gt;</th><th scope=col>&lt;int&gt;</th><th scope=col>&lt;chr&gt;</th></tr>\n",
       "</thead>\n",
       "<tbody>\n",
       "\t<tr><th scope=row>CHP_394-01-PBMC-DNA</th><td>1</td><td>58</td><td>17.24138</td><td>58</td><td>NA</td><td>58</td><td>0</td><td>0</td><td>1</td><td>1</td><td>⋯</td><td>1</td><td>1</td><td>0</td><td>CHP_394_01</td><td>batch8_14Jan2020/mixcr/clones/CLONES_TRBCHP_394-01-PBMC-DNA.txt</td><td>PBMC</td><td>CHP</td><td>CHP_394</td><td>1</td><td>CHP_394-01-PBMC-DNA</td></tr>\n",
       "</tbody>\n",
       "</table>\n"
      ],
      "text/latex": [
       "A data.frame: 1 × 26\n",
       "\\begin{tabular}{r|lllllllllllllllllllll}\n",
       "  & TRB & Reads & CPKR & Average\\_reads & VMR & Max\\_reads & Singletons & Doubletons & qD & Sample\\_Coverage & ⋯ & observed\\_Simpson & estimated\\_Simpson & SE\\_Simpson & sample\\_id & file & Sample & Group & Patient & Cycle & basename\\\\\n",
       "  & <int> & <int> & <dbl> & <dbl> & <dbl> & <int> & <int> & <int> & <dbl> & <dbl> & ⋯ & <dbl> & <dbl> & <dbl> & <chr> & <chr> & <chr> & <chr> & <chr> & <int> & <chr>\\\\\n",
       "\\hline\n",
       "\tCHP\\_394-01-PBMC-DNA & 1 & 58 & 17.24138 & 58 & NA & 58 & 0 & 0 & 1 & 1 & ⋯ & 1 & 1 & 0 & CHP\\_394\\_01 & batch8\\_14Jan2020/mixcr/clones/CLONES\\_TRBCHP\\_394-01-PBMC-DNA.txt & PBMC & CHP & CHP\\_394 & 1 & CHP\\_394-01-PBMC-DNA\\\\\n",
       "\\end{tabular}\n"
      ],
      "text/markdown": [
       "\n",
       "A data.frame: 1 × 26\n",
       "\n",
       "| <!--/--> | TRB &lt;int&gt; | Reads &lt;int&gt; | CPKR &lt;dbl&gt; | Average_reads &lt;dbl&gt; | VMR &lt;dbl&gt; | Max_reads &lt;int&gt; | Singletons &lt;int&gt; | Doubletons &lt;int&gt; | qD &lt;dbl&gt; | Sample_Coverage &lt;dbl&gt; | ⋯ ⋯ | observed_Simpson &lt;dbl&gt; | estimated_Simpson &lt;dbl&gt; | SE_Simpson &lt;dbl&gt; | sample_id &lt;chr&gt; | file &lt;chr&gt; | Sample &lt;chr&gt; | Group &lt;chr&gt; | Patient &lt;chr&gt; | Cycle &lt;int&gt; | basename &lt;chr&gt; |\n",
       "|---|---|---|---|---|---|---|---|---|---|---|---|---|---|---|---|---|---|---|---|---|---|\n",
       "| CHP_394-01-PBMC-DNA | 1 | 58 | 17.24138 | 58 | NA | 58 | 0 | 0 | 1 | 1 | ⋯ | 1 | 1 | 0 | CHP_394_01 | batch8_14Jan2020/mixcr/clones/CLONES_TRBCHP_394-01-PBMC-DNA.txt | PBMC | CHP | CHP_394 | 1 | CHP_394-01-PBMC-DNA |\n",
       "\n"
      ],
      "text/plain": [
       "                    TRB Reads CPKR     Average_reads VMR Max_reads Singletons\n",
       "CHP_394-01-PBMC-DNA 1   58    17.24138 58            NA  58        0         \n",
       "                    Doubletons qD Sample_Coverage ⋯ observed_Simpson\n",
       "CHP_394-01-PBMC-DNA 0          1  1               ⋯ 1               \n",
       "                    estimated_Simpson SE_Simpson sample_id \n",
       "CHP_394-01-PBMC-DNA 1                 0          CHP_394_01\n",
       "                    file                                                           \n",
       "CHP_394-01-PBMC-DNA batch8_14Jan2020/mixcr/clones/CLONES_TRBCHP_394-01-PBMC-DNA.txt\n",
       "                    Sample Group Patient Cycle basename           \n",
       "CHP_394-01-PBMC-DNA PBMC   CHP   CHP_394 1     CHP_394-01-PBMC-DNA"
      ]
     },
     "metadata": {},
     "output_type": "display_data"
    }
   ],
   "source": [
    "divstats[ grepl(\"394_01\",divstats$sample_id),]"
   ]
  },
  {
   "cell_type": "code",
   "execution_count": 32,
   "metadata": {
    "scrolled": true,
    "vscode": {
     "languageId": "r"
    }
   },
   "outputs": [
    {
     "data": {
      "text/html": [
       "<strong>$`CHP_394-01-PBMC-DNA`</strong> = <table class=\"dataframe\">\n",
       "<caption>A data.frame: 120 × 5</caption>\n",
       "<thead>\n",
       "\t<tr><th scope=col>m</th><th scope=col>method</th><th scope=col>order</th><th scope=col>qD</th><th scope=col>SC</th></tr>\n",
       "\t<tr><th scope=col>&lt;dbl&gt;</th><th scope=col>&lt;chr&gt;</th><th scope=col>&lt;dbl&gt;</th><th scope=col>&lt;dbl&gt;</th><th scope=col>&lt;dbl&gt;</th></tr>\n",
       "</thead>\n",
       "<tbody>\n",
       "\t<tr><td>   1</td><td>interpolated</td><td>0</td><td>1</td><td>1</td></tr>\n",
       "\t<tr><td>   4</td><td>interpolated</td><td>0</td><td>1</td><td>1</td></tr>\n",
       "\t<tr><td>   7</td><td>interpolated</td><td>0</td><td>1</td><td>1</td></tr>\n",
       "\t<tr><td>  10</td><td>interpolated</td><td>0</td><td>1</td><td>1</td></tr>\n",
       "\t<tr><td>  13</td><td>interpolated</td><td>0</td><td>1</td><td>1</td></tr>\n",
       "\t<tr><td>  16</td><td>interpolated</td><td>0</td><td>1</td><td>1</td></tr>\n",
       "\t<tr><td>  19</td><td>interpolated</td><td>0</td><td>1</td><td>1</td></tr>\n",
       "\t<tr><td>  22</td><td>interpolated</td><td>0</td><td>1</td><td>1</td></tr>\n",
       "\t<tr><td>  25</td><td>interpolated</td><td>0</td><td>1</td><td>1</td></tr>\n",
       "\t<tr><td>  29</td><td>interpolated</td><td>0</td><td>1</td><td>1</td></tr>\n",
       "\t<tr><td>  32</td><td>interpolated</td><td>0</td><td>1</td><td>1</td></tr>\n",
       "\t<tr><td>  35</td><td>interpolated</td><td>0</td><td>1</td><td>1</td></tr>\n",
       "\t<tr><td>  38</td><td>interpolated</td><td>0</td><td>1</td><td>1</td></tr>\n",
       "\t<tr><td>  41</td><td>interpolated</td><td>0</td><td>1</td><td>1</td></tr>\n",
       "\t<tr><td>  44</td><td>interpolated</td><td>0</td><td>1</td><td>1</td></tr>\n",
       "\t<tr><td>  47</td><td>interpolated</td><td>0</td><td>1</td><td>1</td></tr>\n",
       "\t<tr><td>  50</td><td>interpolated</td><td>0</td><td>1</td><td>1</td></tr>\n",
       "\t<tr><td>  53</td><td>interpolated</td><td>0</td><td>1</td><td>1</td></tr>\n",
       "\t<tr><td>  57</td><td>interpolated</td><td>0</td><td>1</td><td>1</td></tr>\n",
       "\t<tr><td>  58</td><td>observed    </td><td>0</td><td>1</td><td>1</td></tr>\n",
       "\t<tr><td>  59</td><td>extrapolated</td><td>0</td><td>1</td><td>1</td></tr>\n",
       "\t<tr><td> 240</td><td>extrapolated</td><td>0</td><td>1</td><td>1</td></tr>\n",
       "\t<tr><td> 421</td><td>extrapolated</td><td>0</td><td>1</td><td>1</td></tr>\n",
       "\t<tr><td> 603</td><td>extrapolated</td><td>0</td><td>1</td><td>1</td></tr>\n",
       "\t<tr><td> 784</td><td>extrapolated</td><td>0</td><td>1</td><td>1</td></tr>\n",
       "\t<tr><td> 965</td><td>extrapolated</td><td>0</td><td>1</td><td>1</td></tr>\n",
       "\t<tr><td>1147</td><td>extrapolated</td><td>0</td><td>1</td><td>1</td></tr>\n",
       "\t<tr><td>1328</td><td>extrapolated</td><td>0</td><td>1</td><td>1</td></tr>\n",
       "\t<tr><td>1509</td><td>extrapolated</td><td>0</td><td>1</td><td>1</td></tr>\n",
       "\t<tr><td>1691</td><td>extrapolated</td><td>0</td><td>1</td><td>1</td></tr>\n",
       "\t<tr><td>⋮</td><td>⋮</td><td>⋮</td><td>⋮</td><td>⋮</td></tr>\n",
       "\t<tr><td>  32</td><td>interpolated</td><td>2</td><td>1</td><td>1</td></tr>\n",
       "\t<tr><td>  35</td><td>interpolated</td><td>2</td><td>1</td><td>1</td></tr>\n",
       "\t<tr><td>  38</td><td>interpolated</td><td>2</td><td>1</td><td>1</td></tr>\n",
       "\t<tr><td>  41</td><td>interpolated</td><td>2</td><td>1</td><td>1</td></tr>\n",
       "\t<tr><td>  44</td><td>interpolated</td><td>2</td><td>1</td><td>1</td></tr>\n",
       "\t<tr><td>  47</td><td>interpolated</td><td>2</td><td>1</td><td>1</td></tr>\n",
       "\t<tr><td>  50</td><td>interpolated</td><td>2</td><td>1</td><td>1</td></tr>\n",
       "\t<tr><td>  53</td><td>interpolated</td><td>2</td><td>1</td><td>1</td></tr>\n",
       "\t<tr><td>  57</td><td>interpolated</td><td>2</td><td>1</td><td>1</td></tr>\n",
       "\t<tr><td>  58</td><td>observed    </td><td>2</td><td>1</td><td>1</td></tr>\n",
       "\t<tr><td>  59</td><td>extrapolated</td><td>2</td><td>1</td><td>1</td></tr>\n",
       "\t<tr><td> 240</td><td>extrapolated</td><td>2</td><td>1</td><td>1</td></tr>\n",
       "\t<tr><td> 421</td><td>extrapolated</td><td>2</td><td>1</td><td>1</td></tr>\n",
       "\t<tr><td> 603</td><td>extrapolated</td><td>2</td><td>1</td><td>1</td></tr>\n",
       "\t<tr><td> 784</td><td>extrapolated</td><td>2</td><td>1</td><td>1</td></tr>\n",
       "\t<tr><td> 965</td><td>extrapolated</td><td>2</td><td>1</td><td>1</td></tr>\n",
       "\t<tr><td>1147</td><td>extrapolated</td><td>2</td><td>1</td><td>1</td></tr>\n",
       "\t<tr><td>1328</td><td>extrapolated</td><td>2</td><td>1</td><td>1</td></tr>\n",
       "\t<tr><td>1509</td><td>extrapolated</td><td>2</td><td>1</td><td>1</td></tr>\n",
       "\t<tr><td>1691</td><td>extrapolated</td><td>2</td><td>1</td><td>1</td></tr>\n",
       "\t<tr><td>1872</td><td>extrapolated</td><td>2</td><td>1</td><td>1</td></tr>\n",
       "\t<tr><td>2054</td><td>extrapolated</td><td>2</td><td>1</td><td>1</td></tr>\n",
       "\t<tr><td>2235</td><td>extrapolated</td><td>2</td><td>1</td><td>1</td></tr>\n",
       "\t<tr><td>2416</td><td>extrapolated</td><td>2</td><td>1</td><td>1</td></tr>\n",
       "\t<tr><td>2598</td><td>extrapolated</td><td>2</td><td>1</td><td>1</td></tr>\n",
       "\t<tr><td>2779</td><td>extrapolated</td><td>2</td><td>1</td><td>1</td></tr>\n",
       "\t<tr><td>2960</td><td>extrapolated</td><td>2</td><td>1</td><td>1</td></tr>\n",
       "\t<tr><td>3142</td><td>extrapolated</td><td>2</td><td>1</td><td>1</td></tr>\n",
       "\t<tr><td>3323</td><td>extrapolated</td><td>2</td><td>1</td><td>1</td></tr>\n",
       "\t<tr><td>3505</td><td>extrapolated</td><td>2</td><td>1</td><td>1</td></tr>\n",
       "</tbody>\n",
       "</table>\n"
      ],
      "text/latex": [
       "\\textbf{\\$`CHP\\_394-01-PBMC-DNA`} = A data.frame: 120 × 5\n",
       "\\begin{tabular}{lllll}\n",
       " m & method & order & qD & SC\\\\\n",
       " <dbl> & <chr> & <dbl> & <dbl> & <dbl>\\\\\n",
       "\\hline\n",
       "\t    1 & interpolated & 0 & 1 & 1\\\\\n",
       "\t    4 & interpolated & 0 & 1 & 1\\\\\n",
       "\t    7 & interpolated & 0 & 1 & 1\\\\\n",
       "\t   10 & interpolated & 0 & 1 & 1\\\\\n",
       "\t   13 & interpolated & 0 & 1 & 1\\\\\n",
       "\t   16 & interpolated & 0 & 1 & 1\\\\\n",
       "\t   19 & interpolated & 0 & 1 & 1\\\\\n",
       "\t   22 & interpolated & 0 & 1 & 1\\\\\n",
       "\t   25 & interpolated & 0 & 1 & 1\\\\\n",
       "\t   29 & interpolated & 0 & 1 & 1\\\\\n",
       "\t   32 & interpolated & 0 & 1 & 1\\\\\n",
       "\t   35 & interpolated & 0 & 1 & 1\\\\\n",
       "\t   38 & interpolated & 0 & 1 & 1\\\\\n",
       "\t   41 & interpolated & 0 & 1 & 1\\\\\n",
       "\t   44 & interpolated & 0 & 1 & 1\\\\\n",
       "\t   47 & interpolated & 0 & 1 & 1\\\\\n",
       "\t   50 & interpolated & 0 & 1 & 1\\\\\n",
       "\t   53 & interpolated & 0 & 1 & 1\\\\\n",
       "\t   57 & interpolated & 0 & 1 & 1\\\\\n",
       "\t   58 & observed     & 0 & 1 & 1\\\\\n",
       "\t   59 & extrapolated & 0 & 1 & 1\\\\\n",
       "\t  240 & extrapolated & 0 & 1 & 1\\\\\n",
       "\t  421 & extrapolated & 0 & 1 & 1\\\\\n",
       "\t  603 & extrapolated & 0 & 1 & 1\\\\\n",
       "\t  784 & extrapolated & 0 & 1 & 1\\\\\n",
       "\t  965 & extrapolated & 0 & 1 & 1\\\\\n",
       "\t 1147 & extrapolated & 0 & 1 & 1\\\\\n",
       "\t 1328 & extrapolated & 0 & 1 & 1\\\\\n",
       "\t 1509 & extrapolated & 0 & 1 & 1\\\\\n",
       "\t 1691 & extrapolated & 0 & 1 & 1\\\\\n",
       "\t ⋮ & ⋮ & ⋮ & ⋮ & ⋮\\\\\n",
       "\t   32 & interpolated & 2 & 1 & 1\\\\\n",
       "\t   35 & interpolated & 2 & 1 & 1\\\\\n",
       "\t   38 & interpolated & 2 & 1 & 1\\\\\n",
       "\t   41 & interpolated & 2 & 1 & 1\\\\\n",
       "\t   44 & interpolated & 2 & 1 & 1\\\\\n",
       "\t   47 & interpolated & 2 & 1 & 1\\\\\n",
       "\t   50 & interpolated & 2 & 1 & 1\\\\\n",
       "\t   53 & interpolated & 2 & 1 & 1\\\\\n",
       "\t   57 & interpolated & 2 & 1 & 1\\\\\n",
       "\t   58 & observed     & 2 & 1 & 1\\\\\n",
       "\t   59 & extrapolated & 2 & 1 & 1\\\\\n",
       "\t  240 & extrapolated & 2 & 1 & 1\\\\\n",
       "\t  421 & extrapolated & 2 & 1 & 1\\\\\n",
       "\t  603 & extrapolated & 2 & 1 & 1\\\\\n",
       "\t  784 & extrapolated & 2 & 1 & 1\\\\\n",
       "\t  965 & extrapolated & 2 & 1 & 1\\\\\n",
       "\t 1147 & extrapolated & 2 & 1 & 1\\\\\n",
       "\t 1328 & extrapolated & 2 & 1 & 1\\\\\n",
       "\t 1509 & extrapolated & 2 & 1 & 1\\\\\n",
       "\t 1691 & extrapolated & 2 & 1 & 1\\\\\n",
       "\t 1872 & extrapolated & 2 & 1 & 1\\\\\n",
       "\t 2054 & extrapolated & 2 & 1 & 1\\\\\n",
       "\t 2235 & extrapolated & 2 & 1 & 1\\\\\n",
       "\t 2416 & extrapolated & 2 & 1 & 1\\\\\n",
       "\t 2598 & extrapolated & 2 & 1 & 1\\\\\n",
       "\t 2779 & extrapolated & 2 & 1 & 1\\\\\n",
       "\t 2960 & extrapolated & 2 & 1 & 1\\\\\n",
       "\t 3142 & extrapolated & 2 & 1 & 1\\\\\n",
       "\t 3323 & extrapolated & 2 & 1 & 1\\\\\n",
       "\t 3505 & extrapolated & 2 & 1 & 1\\\\\n",
       "\\end{tabular}\n"
      ],
      "text/markdown": [
       "**$`CHP_394-01-PBMC-DNA`** = \n",
       "A data.frame: 120 × 5\n",
       "\n",
       "| m &lt;dbl&gt; | method &lt;chr&gt; | order &lt;dbl&gt; | qD &lt;dbl&gt; | SC &lt;dbl&gt; |\n",
       "|---|---|---|---|---|\n",
       "|    1 | interpolated | 0 | 1 | 1 |\n",
       "|    4 | interpolated | 0 | 1 | 1 |\n",
       "|    7 | interpolated | 0 | 1 | 1 |\n",
       "|   10 | interpolated | 0 | 1 | 1 |\n",
       "|   13 | interpolated | 0 | 1 | 1 |\n",
       "|   16 | interpolated | 0 | 1 | 1 |\n",
       "|   19 | interpolated | 0 | 1 | 1 |\n",
       "|   22 | interpolated | 0 | 1 | 1 |\n",
       "|   25 | interpolated | 0 | 1 | 1 |\n",
       "|   29 | interpolated | 0 | 1 | 1 |\n",
       "|   32 | interpolated | 0 | 1 | 1 |\n",
       "|   35 | interpolated | 0 | 1 | 1 |\n",
       "|   38 | interpolated | 0 | 1 | 1 |\n",
       "|   41 | interpolated | 0 | 1 | 1 |\n",
       "|   44 | interpolated | 0 | 1 | 1 |\n",
       "|   47 | interpolated | 0 | 1 | 1 |\n",
       "|   50 | interpolated | 0 | 1 | 1 |\n",
       "|   53 | interpolated | 0 | 1 | 1 |\n",
       "|   57 | interpolated | 0 | 1 | 1 |\n",
       "|   58 | observed     | 0 | 1 | 1 |\n",
       "|   59 | extrapolated | 0 | 1 | 1 |\n",
       "|  240 | extrapolated | 0 | 1 | 1 |\n",
       "|  421 | extrapolated | 0 | 1 | 1 |\n",
       "|  603 | extrapolated | 0 | 1 | 1 |\n",
       "|  784 | extrapolated | 0 | 1 | 1 |\n",
       "|  965 | extrapolated | 0 | 1 | 1 |\n",
       "| 1147 | extrapolated | 0 | 1 | 1 |\n",
       "| 1328 | extrapolated | 0 | 1 | 1 |\n",
       "| 1509 | extrapolated | 0 | 1 | 1 |\n",
       "| 1691 | extrapolated | 0 | 1 | 1 |\n",
       "| ⋮ | ⋮ | ⋮ | ⋮ | ⋮ |\n",
       "|   32 | interpolated | 2 | 1 | 1 |\n",
       "|   35 | interpolated | 2 | 1 | 1 |\n",
       "|   38 | interpolated | 2 | 1 | 1 |\n",
       "|   41 | interpolated | 2 | 1 | 1 |\n",
       "|   44 | interpolated | 2 | 1 | 1 |\n",
       "|   47 | interpolated | 2 | 1 | 1 |\n",
       "|   50 | interpolated | 2 | 1 | 1 |\n",
       "|   53 | interpolated | 2 | 1 | 1 |\n",
       "|   57 | interpolated | 2 | 1 | 1 |\n",
       "|   58 | observed     | 2 | 1 | 1 |\n",
       "|   59 | extrapolated | 2 | 1 | 1 |\n",
       "|  240 | extrapolated | 2 | 1 | 1 |\n",
       "|  421 | extrapolated | 2 | 1 | 1 |\n",
       "|  603 | extrapolated | 2 | 1 | 1 |\n",
       "|  784 | extrapolated | 2 | 1 | 1 |\n",
       "|  965 | extrapolated | 2 | 1 | 1 |\n",
       "| 1147 | extrapolated | 2 | 1 | 1 |\n",
       "| 1328 | extrapolated | 2 | 1 | 1 |\n",
       "| 1509 | extrapolated | 2 | 1 | 1 |\n",
       "| 1691 | extrapolated | 2 | 1 | 1 |\n",
       "| 1872 | extrapolated | 2 | 1 | 1 |\n",
       "| 2054 | extrapolated | 2 | 1 | 1 |\n",
       "| 2235 | extrapolated | 2 | 1 | 1 |\n",
       "| 2416 | extrapolated | 2 | 1 | 1 |\n",
       "| 2598 | extrapolated | 2 | 1 | 1 |\n",
       "| 2779 | extrapolated | 2 | 1 | 1 |\n",
       "| 2960 | extrapolated | 2 | 1 | 1 |\n",
       "| 3142 | extrapolated | 2 | 1 | 1 |\n",
       "| 3323 | extrapolated | 2 | 1 | 1 |\n",
       "| 3505 | extrapolated | 2 | 1 | 1 |\n",
       "\n"
      ],
      "text/plain": [
       "$`CHP_394-01-PBMC-DNA`\n",
       "       m       method order qD SC\n",
       "1      1 interpolated     0  1  1\n",
       "2      4 interpolated     0  1  1\n",
       "3      7 interpolated     0  1  1\n",
       "4     10 interpolated     0  1  1\n",
       "5     13 interpolated     0  1  1\n",
       "6     16 interpolated     0  1  1\n",
       "7     19 interpolated     0  1  1\n",
       "8     22 interpolated     0  1  1\n",
       "9     25 interpolated     0  1  1\n",
       "10    29 interpolated     0  1  1\n",
       "11    32 interpolated     0  1  1\n",
       "12    35 interpolated     0  1  1\n",
       "13    38 interpolated     0  1  1\n",
       "14    41 interpolated     0  1  1\n",
       "15    44 interpolated     0  1  1\n",
       "16    47 interpolated     0  1  1\n",
       "17    50 interpolated     0  1  1\n",
       "18    53 interpolated     0  1  1\n",
       "19    57 interpolated     0  1  1\n",
       "20    58     observed     0  1  1\n",
       "21    59 extrapolated     0  1  1\n",
       "22   240 extrapolated     0  1  1\n",
       "23   421 extrapolated     0  1  1\n",
       "24   603 extrapolated     0  1  1\n",
       "25   784 extrapolated     0  1  1\n",
       "26   965 extrapolated     0  1  1\n",
       "27  1147 extrapolated     0  1  1\n",
       "28  1328 extrapolated     0  1  1\n",
       "29  1509 extrapolated     0  1  1\n",
       "30  1691 extrapolated     0  1  1\n",
       "31  1872 extrapolated     0  1  1\n",
       "32  2054 extrapolated     0  1  1\n",
       "33  2235 extrapolated     0  1  1\n",
       "34  2416 extrapolated     0  1  1\n",
       "35  2598 extrapolated     0  1  1\n",
       "36  2779 extrapolated     0  1  1\n",
       "37  2960 extrapolated     0  1  1\n",
       "38  3142 extrapolated     0  1  1\n",
       "39  3323 extrapolated     0  1  1\n",
       "40  3505 extrapolated     0  1  1\n",
       "41     1 interpolated     1  1  1\n",
       "42     4 interpolated     1  1  1\n",
       "43     7 interpolated     1  1  1\n",
       "44    10 interpolated     1  1  1\n",
       "45    13 interpolated     1  1  1\n",
       "46    16 interpolated     1  1  1\n",
       "47    19 interpolated     1  1  1\n",
       "48    22 interpolated     1  1  1\n",
       "49    25 interpolated     1  1  1\n",
       "50    29 interpolated     1  1  1\n",
       "51    32 interpolated     1  1  1\n",
       "52    35 interpolated     1  1  1\n",
       "53    38 interpolated     1  1  1\n",
       "54    41 interpolated     1  1  1\n",
       "55    44 interpolated     1  1  1\n",
       "56    47 interpolated     1  1  1\n",
       "57    50 interpolated     1  1  1\n",
       "58    53 interpolated     1  1  1\n",
       "59    57 interpolated     1  1  1\n",
       "60    58     observed     1  1  1\n",
       "61    59 extrapolated     1  1  1\n",
       "62   240 extrapolated     1  1  1\n",
       "63   421 extrapolated     1  1  1\n",
       "64   603 extrapolated     1  1  1\n",
       "65   784 extrapolated     1  1  1\n",
       "66   965 extrapolated     1  1  1\n",
       "67  1147 extrapolated     1  1  1\n",
       "68  1328 extrapolated     1  1  1\n",
       "69  1509 extrapolated     1  1  1\n",
       "70  1691 extrapolated     1  1  1\n",
       "71  1872 extrapolated     1  1  1\n",
       "72  2054 extrapolated     1  1  1\n",
       "73  2235 extrapolated     1  1  1\n",
       "74  2416 extrapolated     1  1  1\n",
       "75  2598 extrapolated     1  1  1\n",
       "76  2779 extrapolated     1  1  1\n",
       "77  2960 extrapolated     1  1  1\n",
       "78  3142 extrapolated     1  1  1\n",
       "79  3323 extrapolated     1  1  1\n",
       "80  3505 extrapolated     1  1  1\n",
       "81     1 interpolated     2  1  1\n",
       "82     4 interpolated     2  1  1\n",
       "83     7 interpolated     2  1  1\n",
       "84    10 interpolated     2  1  1\n",
       "85    13 interpolated     2  1  1\n",
       "86    16 interpolated     2  1  1\n",
       "87    19 interpolated     2  1  1\n",
       "88    22 interpolated     2  1  1\n",
       "89    25 interpolated     2  1  1\n",
       "90    29 interpolated     2  1  1\n",
       "91    32 interpolated     2  1  1\n",
       "92    35 interpolated     2  1  1\n",
       "93    38 interpolated     2  1  1\n",
       "94    41 interpolated     2  1  1\n",
       "95    44 interpolated     2  1  1\n",
       "96    47 interpolated     2  1  1\n",
       "97    50 interpolated     2  1  1\n",
       "98    53 interpolated     2  1  1\n",
       "99    57 interpolated     2  1  1\n",
       "100   58     observed     2  1  1\n",
       "101   59 extrapolated     2  1  1\n",
       "102  240 extrapolated     2  1  1\n",
       "103  421 extrapolated     2  1  1\n",
       "104  603 extrapolated     2  1  1\n",
       "105  784 extrapolated     2  1  1\n",
       "106  965 extrapolated     2  1  1\n",
       "107 1147 extrapolated     2  1  1\n",
       "108 1328 extrapolated     2  1  1\n",
       "109 1509 extrapolated     2  1  1\n",
       "110 1691 extrapolated     2  1  1\n",
       "111 1872 extrapolated     2  1  1\n",
       "112 2054 extrapolated     2  1  1\n",
       "113 2235 extrapolated     2  1  1\n",
       "114 2416 extrapolated     2  1  1\n",
       "115 2598 extrapolated     2  1  1\n",
       "116 2779 extrapolated     2  1  1\n",
       "117 2960 extrapolated     2  1  1\n",
       "118 3142 extrapolated     2  1  1\n",
       "119 3323 extrapolated     2  1  1\n",
       "120 3505 extrapolated     2  1  1\n"
      ]
     },
     "metadata": {},
     "output_type": "display_data"
    }
   ],
   "source": [
    "out[[355]]$iNextEst"
   ]
  },
  {
   "cell_type": "markdown",
   "metadata": {},
   "source": [
    "# Add rarefied/extrapolated div metrics to divstats"
   ]
  },
  {
   "cell_type": "code",
   "execution_count": 27,
   "metadata": {
    "vscode": {
     "languageId": "r"
    }
   },
   "outputs": [
    {
     "data": {
      "text/html": [
       "<table class=\"dataframe\">\n",
       "<caption>A data.frame: 6 × 26</caption>\n",
       "<thead>\n",
       "\t<tr><th></th><th scope=col>TRB</th><th scope=col>Reads</th><th scope=col>CPKR</th><th scope=col>Average_reads</th><th scope=col>VMR</th><th scope=col>Max_reads</th><th scope=col>Singletons</th><th scope=col>Doubletons</th><th scope=col>qD</th><th scope=col>Sample_Coverage</th><th scope=col>⋯</th><th scope=col>observed_Simpson</th><th scope=col>estimated_Simpson</th><th scope=col>SE_Simpson</th><th scope=col>sample_id</th><th scope=col>file</th><th scope=col>Sample</th><th scope=col>Group</th><th scope=col>Patient</th><th scope=col>Cycle</th><th scope=col>basename</th></tr>\n",
       "\t<tr><th></th><th scope=col>&lt;int&gt;</th><th scope=col>&lt;int&gt;</th><th scope=col>&lt;dbl&gt;</th><th scope=col>&lt;dbl&gt;</th><th scope=col>&lt;dbl&gt;</th><th scope=col>&lt;int&gt;</th><th scope=col>&lt;int&gt;</th><th scope=col>&lt;int&gt;</th><th scope=col>&lt;dbl&gt;</th><th scope=col>&lt;dbl&gt;</th><th scope=col>⋯</th><th scope=col>&lt;dbl&gt;</th><th scope=col>&lt;dbl&gt;</th><th scope=col>&lt;dbl&gt;</th><th scope=col>&lt;chr&gt;</th><th scope=col>&lt;chr&gt;</th><th scope=col>&lt;chr&gt;</th><th scope=col>&lt;chr&gt;</th><th scope=col>&lt;chr&gt;</th><th scope=col>&lt;int&gt;</th><th scope=col>&lt;chr&gt;</th></tr>\n",
       "</thead>\n",
       "<tbody>\n",
       "\t<tr><th scope=row>CHP_315-05-PBMC-DNA</th><td> 27</td><td> 659</td><td> 40.97117</td><td>24.407407</td><td>1.4380040</td><td>187</td><td> 1</td><td> 1</td><td> 27.432</td><td>1.000</td><td>⋯</td><td>  9.026</td><td>  9.138</td><td>0.749</td><td>CHP_315_05</td><td>batch4_19Aug2019/mixcr/clones/CLONES_TRBCHP_315-05-PBMC-DNA.txt     </td><td>PBMC</td><td>CHP</td><td>CHP_315</td><td>5</td><td>CHP_315-05-PBMC-DNA</td></tr>\n",
       "\t<tr><th scope=row>CHP_350-01-PBMC-DNA</th><td>153</td><td>1647</td><td> 92.89617</td><td>10.764706</td><td>0.7872963</td><td> 59</td><td> 5</td><td> 6</td><td>154.893</td><td>1.000</td><td>⋯</td><td> 94.691</td><td>100.406</td><td>3.548</td><td>CHP_350_01</td><td>batch_reseq_24Feb2020/mixcr/clones/CLONES_TRBCHP_350-01-PBMC-DNA.txt</td><td>PBMC</td><td>CHP</td><td>CHP_350</td><td>1</td><td>CHP_350-01-PBMC-DNA</td></tr>\n",
       "\t<tr><th scope=row>CHP_350-02-PBMC-DNA</th><td>269</td><td>2992</td><td> 89.90642</td><td>11.122677</td><td>0.8300771</td><td> 92</td><td>17</td><td> 5</td><td>281.850</td><td>0.997</td><td>⋯</td><td>159.505</td><td>168.431</td><td>5.211</td><td>CHP_350_02</td><td>batch_reseq_24Feb2020/mixcr/clones/CLONES_TRBCHP_350-02-PBMC-DNA.txt</td><td>PBMC</td><td>CHP</td><td>CHP_350</td><td>2</td><td>CHP_350-02-PBMC-DNA</td></tr>\n",
       "\t<tr><th scope=row>CHP_350-03-PBMC-DNA</th><td>207</td><td>2134</td><td> 97.00094</td><td>10.309179</td><td>0.7807083</td><td> 52</td><td> 9</td><td>10</td><td>210.609</td><td>1.000</td><td>⋯</td><td>128.847</td><td>137.062</td><td>3.485</td><td>CHP_350_03</td><td>batch_reseq_24Feb2020/mixcr/clones/CLONES_TRBCHP_350-03-PBMC-DNA.txt</td><td>PBMC</td><td>CHP</td><td>CHP_350</td><td>3</td><td>CHP_350-03-PBMC-DNA</td></tr>\n",
       "\t<tr><th scope=row>CHP_350-04-PBMC-DNA</th><td>106</td><td> 989</td><td>107.17897</td><td> 9.330189</td><td>0.7731222</td><td> 34</td><td>10</td><td> 2</td><td>114.239</td><td>0.993</td><td>⋯</td><td> 66.580</td><td> 71.313</td><td>2.548</td><td>CHP_350_04</td><td>batch_reseq_24Feb2020/mixcr/clones/CLONES_TRBCHP_350-04-PBMC-DNA.txt</td><td>PBMC</td><td>CHP</td><td>CHP_350</td><td>4</td><td>CHP_350-04-PBMC-DNA</td></tr>\n",
       "\t<tr><th scope=row>CHP_353-02-PBMC-DNA</th><td> 16</td><td> 234</td><td> 68.37607</td><td>14.625000</td><td>0.5897147</td><td> 35</td><td> 1</td><td> 0</td><td> 16.000</td><td>1.000</td><td>⋯</td><td> 12.066</td><td> 12.668</td><td>0.655</td><td>CHP_353_02</td><td>batch_reseq_24Feb2020/mixcr/clones/CLONES_TRBCHP_353-02-PBMC-DNA.txt</td><td>PBMC</td><td>CHP</td><td>CHP_353</td><td>2</td><td>CHP_353-02-PBMC-DNA</td></tr>\n",
       "</tbody>\n",
       "</table>\n"
      ],
      "text/latex": [
       "A data.frame: 6 × 26\n",
       "\\begin{tabular}{r|lllllllllllllllllllll}\n",
       "  & TRB & Reads & CPKR & Average\\_reads & VMR & Max\\_reads & Singletons & Doubletons & qD & Sample\\_Coverage & ⋯ & observed\\_Simpson & estimated\\_Simpson & SE\\_Simpson & sample\\_id & file & Sample & Group & Patient & Cycle & basename\\\\\n",
       "  & <int> & <int> & <dbl> & <dbl> & <dbl> & <int> & <int> & <int> & <dbl> & <dbl> & ⋯ & <dbl> & <dbl> & <dbl> & <chr> & <chr> & <chr> & <chr> & <chr> & <int> & <chr>\\\\\n",
       "\\hline\n",
       "\tCHP\\_315-05-PBMC-DNA &  27 &  659 &  40.97117 & 24.407407 & 1.4380040 & 187 &  1 &  1 &  27.432 & 1.000 & ⋯ &   9.026 &   9.138 & 0.749 & CHP\\_315\\_05 & batch4\\_19Aug2019/mixcr/clones/CLONES\\_TRBCHP\\_315-05-PBMC-DNA.txt      & PBMC & CHP & CHP\\_315 & 5 & CHP\\_315-05-PBMC-DNA\\\\\n",
       "\tCHP\\_350-01-PBMC-DNA & 153 & 1647 &  92.89617 & 10.764706 & 0.7872963 &  59 &  5 &  6 & 154.893 & 1.000 & ⋯ &  94.691 & 100.406 & 3.548 & CHP\\_350\\_01 & batch\\_reseq\\_24Feb2020/mixcr/clones/CLONES\\_TRBCHP\\_350-01-PBMC-DNA.txt & PBMC & CHP & CHP\\_350 & 1 & CHP\\_350-01-PBMC-DNA\\\\\n",
       "\tCHP\\_350-02-PBMC-DNA & 269 & 2992 &  89.90642 & 11.122677 & 0.8300771 &  92 & 17 &  5 & 281.850 & 0.997 & ⋯ & 159.505 & 168.431 & 5.211 & CHP\\_350\\_02 & batch\\_reseq\\_24Feb2020/mixcr/clones/CLONES\\_TRBCHP\\_350-02-PBMC-DNA.txt & PBMC & CHP & CHP\\_350 & 2 & CHP\\_350-02-PBMC-DNA\\\\\n",
       "\tCHP\\_350-03-PBMC-DNA & 207 & 2134 &  97.00094 & 10.309179 & 0.7807083 &  52 &  9 & 10 & 210.609 & 1.000 & ⋯ & 128.847 & 137.062 & 3.485 & CHP\\_350\\_03 & batch\\_reseq\\_24Feb2020/mixcr/clones/CLONES\\_TRBCHP\\_350-03-PBMC-DNA.txt & PBMC & CHP & CHP\\_350 & 3 & CHP\\_350-03-PBMC-DNA\\\\\n",
       "\tCHP\\_350-04-PBMC-DNA & 106 &  989 & 107.17897 &  9.330189 & 0.7731222 &  34 & 10 &  2 & 114.239 & 0.993 & ⋯ &  66.580 &  71.313 & 2.548 & CHP\\_350\\_04 & batch\\_reseq\\_24Feb2020/mixcr/clones/CLONES\\_TRBCHP\\_350-04-PBMC-DNA.txt & PBMC & CHP & CHP\\_350 & 4 & CHP\\_350-04-PBMC-DNA\\\\\n",
       "\tCHP\\_353-02-PBMC-DNA &  16 &  234 &  68.37607 & 14.625000 & 0.5897147 &  35 &  1 &  0 &  16.000 & 1.000 & ⋯ &  12.066 &  12.668 & 0.655 & CHP\\_353\\_02 & batch\\_reseq\\_24Feb2020/mixcr/clones/CLONES\\_TRBCHP\\_353-02-PBMC-DNA.txt & PBMC & CHP & CHP\\_353 & 2 & CHP\\_353-02-PBMC-DNA\\\\\n",
       "\\end{tabular}\n"
      ],
      "text/markdown": [
       "\n",
       "A data.frame: 6 × 26\n",
       "\n",
       "| <!--/--> | TRB &lt;int&gt; | Reads &lt;int&gt; | CPKR &lt;dbl&gt; | Average_reads &lt;dbl&gt; | VMR &lt;dbl&gt; | Max_reads &lt;int&gt; | Singletons &lt;int&gt; | Doubletons &lt;int&gt; | qD &lt;dbl&gt; | Sample_Coverage &lt;dbl&gt; | ⋯ ⋯ | observed_Simpson &lt;dbl&gt; | estimated_Simpson &lt;dbl&gt; | SE_Simpson &lt;dbl&gt; | sample_id &lt;chr&gt; | file &lt;chr&gt; | Sample &lt;chr&gt; | Group &lt;chr&gt; | Patient &lt;chr&gt; | Cycle &lt;int&gt; | basename &lt;chr&gt; |\n",
       "|---|---|---|---|---|---|---|---|---|---|---|---|---|---|---|---|---|---|---|---|---|---|\n",
       "| CHP_315-05-PBMC-DNA |  27 |  659 |  40.97117 | 24.407407 | 1.4380040 | 187 |  1 |  1 |  27.432 | 1.000 | ⋯ |   9.026 |   9.138 | 0.749 | CHP_315_05 | batch4_19Aug2019/mixcr/clones/CLONES_TRBCHP_315-05-PBMC-DNA.txt      | PBMC | CHP | CHP_315 | 5 | CHP_315-05-PBMC-DNA |\n",
       "| CHP_350-01-PBMC-DNA | 153 | 1647 |  92.89617 | 10.764706 | 0.7872963 |  59 |  5 |  6 | 154.893 | 1.000 | ⋯ |  94.691 | 100.406 | 3.548 | CHP_350_01 | batch_reseq_24Feb2020/mixcr/clones/CLONES_TRBCHP_350-01-PBMC-DNA.txt | PBMC | CHP | CHP_350 | 1 | CHP_350-01-PBMC-DNA |\n",
       "| CHP_350-02-PBMC-DNA | 269 | 2992 |  89.90642 | 11.122677 | 0.8300771 |  92 | 17 |  5 | 281.850 | 0.997 | ⋯ | 159.505 | 168.431 | 5.211 | CHP_350_02 | batch_reseq_24Feb2020/mixcr/clones/CLONES_TRBCHP_350-02-PBMC-DNA.txt | PBMC | CHP | CHP_350 | 2 | CHP_350-02-PBMC-DNA |\n",
       "| CHP_350-03-PBMC-DNA | 207 | 2134 |  97.00094 | 10.309179 | 0.7807083 |  52 |  9 | 10 | 210.609 | 1.000 | ⋯ | 128.847 | 137.062 | 3.485 | CHP_350_03 | batch_reseq_24Feb2020/mixcr/clones/CLONES_TRBCHP_350-03-PBMC-DNA.txt | PBMC | CHP | CHP_350 | 3 | CHP_350-03-PBMC-DNA |\n",
       "| CHP_350-04-PBMC-DNA | 106 |  989 | 107.17897 |  9.330189 | 0.7731222 |  34 | 10 |  2 | 114.239 | 0.993 | ⋯ |  66.580 |  71.313 | 2.548 | CHP_350_04 | batch_reseq_24Feb2020/mixcr/clones/CLONES_TRBCHP_350-04-PBMC-DNA.txt | PBMC | CHP | CHP_350 | 4 | CHP_350-04-PBMC-DNA |\n",
       "| CHP_353-02-PBMC-DNA |  16 |  234 |  68.37607 | 14.625000 | 0.5897147 |  35 |  1 |  0 |  16.000 | 1.000 | ⋯ |  12.066 |  12.668 | 0.655 | CHP_353_02 | batch_reseq_24Feb2020/mixcr/clones/CLONES_TRBCHP_353-02-PBMC-DNA.txt | PBMC | CHP | CHP_353 | 2 | CHP_353-02-PBMC-DNA |\n",
       "\n"
      ],
      "text/plain": [
       "                    TRB Reads CPKR      Average_reads VMR       Max_reads\n",
       "CHP_315-05-PBMC-DNA  27  659   40.97117 24.407407     1.4380040 187      \n",
       "CHP_350-01-PBMC-DNA 153 1647   92.89617 10.764706     0.7872963  59      \n",
       "CHP_350-02-PBMC-DNA 269 2992   89.90642 11.122677     0.8300771  92      \n",
       "CHP_350-03-PBMC-DNA 207 2134   97.00094 10.309179     0.7807083  52      \n",
       "CHP_350-04-PBMC-DNA 106  989  107.17897  9.330189     0.7731222  34      \n",
       "CHP_353-02-PBMC-DNA  16  234   68.37607 14.625000     0.5897147  35      \n",
       "                    Singletons Doubletons qD      Sample_Coverage ⋯\n",
       "CHP_315-05-PBMC-DNA  1          1          27.432 1.000           ⋯\n",
       "CHP_350-01-PBMC-DNA  5          6         154.893 1.000           ⋯\n",
       "CHP_350-02-PBMC-DNA 17          5         281.850 0.997           ⋯\n",
       "CHP_350-03-PBMC-DNA  9         10         210.609 1.000           ⋯\n",
       "CHP_350-04-PBMC-DNA 10          2         114.239 0.993           ⋯\n",
       "CHP_353-02-PBMC-DNA  1          0          16.000 1.000           ⋯\n",
       "                    observed_Simpson estimated_Simpson SE_Simpson sample_id \n",
       "CHP_315-05-PBMC-DNA   9.026            9.138           0.749      CHP_315_05\n",
       "CHP_350-01-PBMC-DNA  94.691          100.406           3.548      CHP_350_01\n",
       "CHP_350-02-PBMC-DNA 159.505          168.431           5.211      CHP_350_02\n",
       "CHP_350-03-PBMC-DNA 128.847          137.062           3.485      CHP_350_03\n",
       "CHP_350-04-PBMC-DNA  66.580           71.313           2.548      CHP_350_04\n",
       "CHP_353-02-PBMC-DNA  12.066           12.668           0.655      CHP_353_02\n",
       "                    file                                                                \n",
       "CHP_315-05-PBMC-DNA batch4_19Aug2019/mixcr/clones/CLONES_TRBCHP_315-05-PBMC-DNA.txt     \n",
       "CHP_350-01-PBMC-DNA batch_reseq_24Feb2020/mixcr/clones/CLONES_TRBCHP_350-01-PBMC-DNA.txt\n",
       "CHP_350-02-PBMC-DNA batch_reseq_24Feb2020/mixcr/clones/CLONES_TRBCHP_350-02-PBMC-DNA.txt\n",
       "CHP_350-03-PBMC-DNA batch_reseq_24Feb2020/mixcr/clones/CLONES_TRBCHP_350-03-PBMC-DNA.txt\n",
       "CHP_350-04-PBMC-DNA batch_reseq_24Feb2020/mixcr/clones/CLONES_TRBCHP_350-04-PBMC-DNA.txt\n",
       "CHP_353-02-PBMC-DNA batch_reseq_24Feb2020/mixcr/clones/CLONES_TRBCHP_353-02-PBMC-DNA.txt\n",
       "                    Sample Group Patient Cycle basename           \n",
       "CHP_315-05-PBMC-DNA PBMC   CHP   CHP_315 5     CHP_315-05-PBMC-DNA\n",
       "CHP_350-01-PBMC-DNA PBMC   CHP   CHP_350 1     CHP_350-01-PBMC-DNA\n",
       "CHP_350-02-PBMC-DNA PBMC   CHP   CHP_350 2     CHP_350-02-PBMC-DNA\n",
       "CHP_350-03-PBMC-DNA PBMC   CHP   CHP_350 3     CHP_350-03-PBMC-DNA\n",
       "CHP_350-04-PBMC-DNA PBMC   CHP   CHP_350 4     CHP_350-04-PBMC-DNA\n",
       "CHP_353-02-PBMC-DNA PBMC   CHP   CHP_353 2     CHP_353-02-PBMC-DNA"
      ]
     },
     "metadata": {},
     "output_type": "display_data"
    }
   ],
   "source": [
    "head(divstats)"
   ]
  },
  {
   "cell_type": "code",
   "execution_count": 14,
   "metadata": {
    "vscode": {
     "languageId": "r"
    }
   },
   "outputs": [],
   "source": [
    "#get sample names in inext output\n",
    "allnames <- names(out[[1]]$iNextEst)\n",
    "for(i in 2:length(out)){\n",
    "    allnames <- c(allnames, names(out[[i]]$iNextEst))\n",
    "}"
   ]
  },
  {
   "cell_type": "code",
   "execution_count": 29,
   "metadata": {
    "vscode": {
     "languageId": "r"
    }
   },
   "outputs": [
    {
     "data": {
      "text/plain": [
       "    Min.  1st Qu.   Median     Mean  3rd Qu.     Max. \n",
       "     1.0    841.8   3088.5  18710.4  12587.8 363060.0 "
      ]
     },
     "metadata": {},
     "output_type": "display_data"
    }
   ],
   "source": [
    "summary(divstats$Reads)"
   ]
  },
  {
   "cell_type": "code",
   "execution_count": 28,
   "metadata": {
    "vscode": {
     "languageId": "r"
    }
   },
   "outputs": [
    {
     "data": {
      "text/plain": [
       "$cfDNA\n",
       "   Min. 1st Qu.  Median    Mean 3rd Qu.    Max. \n",
       "      1     356    2962    6515    7858   88874 \n",
       "\n",
       "$PBMC\n",
       "    Min.  1st Qu.   Median     Mean  3rd Qu.     Max. \n",
       "    10.0    999.5   3209.5  31264.2  26991.2 363060.0 \n",
       "\n",
       "$Tumor\n",
       "   Min. 1st Qu.  Median    Mean 3rd Qu.    Max. \n",
       "    763    1291    3064    9136   16927   29465 \n"
      ]
     },
     "metadata": {},
     "output_type": "display_data"
    }
   ],
   "source": [
    "tapply(divstats$Reads, divstats$Sample, summary)"
   ]
  },
  {
   "cell_type": "code",
   "execution_count": 15,
   "metadata": {
    "vscode": {
     "languageId": "r"
    }
   },
   "outputs": [],
   "source": [
    "divstats_raref <- divstats"
   ]
  },
  {
   "cell_type": "code",
   "execution_count": 16,
   "metadata": {
    "vscode": {
     "languageId": "r"
    }
   },
   "outputs": [],
   "source": [
    "divstats_raref$qD_0_3505 <- NA\n",
    "divstats_raref$qD_1_3505 <- NA\n",
    "divstats_raref$qD_2_3505 <- NA"
   ]
  },
  {
   "cell_type": "code",
   "execution_count": 17,
   "metadata": {
    "vscode": {
     "languageId": "r"
    }
   },
   "outputs": [],
   "source": [
    "for(i in 1:length(allnames)){\n",
    "    mysample <- out[[i]]$iNextEst[[1]]\n",
    "    mysamplename <- allnames[i]\n",
    "    \n",
    "    qd_0 <- mysample[ mysample$order == 0 & mysample$m == 3505,\"qD\"]\n",
    "    qd_1 <- mysample[ mysample$order == 1 & mysample$m == 3505,\"qD\"]\n",
    "    qd_2 <- mysample[ mysample$order == 2 & mysample$m == 3505,\"qD\"]\n",
    "    \n",
    "    divstats_raref$qD_0_3505[ match(mysamplename, rownames(divstats_raref))] <- qd_0\n",
    "    divstats_raref$qD_1_3505[ match(mysamplename, rownames(divstats_raref))] <- qd_1\n",
    "    divstats_raref$qD_2_3505[ match(mysamplename, rownames(divstats_raref))] <- qd_2\n",
    "}"
   ]
  },
  {
   "cell_type": "code",
   "execution_count": 18,
   "metadata": {
    "vscode": {
     "languageId": "r"
    }
   },
   "outputs": [
    {
     "data": {
      "text/html": [
       "<style>\n",
       ".list-inline {list-style: none; margin:0; padding: 0}\n",
       ".list-inline>li {display: inline-block}\n",
       ".list-inline>li:not(:last-child)::after {content: \"\\00b7\"; padding: 0 .5ex}\n",
       "</style>\n",
       "<ol class=list-inline><li>'TRB'</li><li>'Reads'</li><li>'CPKR'</li><li>'Average_reads'</li><li>'VMR'</li><li>'Max_reads'</li><li>'Singletons'</li><li>'Doubletons'</li><li>'qD'</li><li>'Sample_Coverage'</li><li>'observed_Richness'</li><li>'estimated_Richness'</li><li>'SE_Richeness'</li><li>'observed_Shannon'</li><li>'estimated_Shannon'</li><li>'SE_Shannon'</li><li>'observed_Simpson'</li><li>'estimated_Simpson'</li><li>'SE_Simpson'</li><li>'sample_id'</li><li>'file'</li><li>'Sample'</li><li>'Group'</li><li>'Patient'</li><li>'Cycle'</li><li>'basename'</li><li>'qD_0_3505'</li><li>'qD_1_3505'</li><li>'qD_2_3505'</li></ol>\n"
      ],
      "text/latex": [
       "\\begin{enumerate*}\n",
       "\\item 'TRB'\n",
       "\\item 'Reads'\n",
       "\\item 'CPKR'\n",
       "\\item 'Average\\_reads'\n",
       "\\item 'VMR'\n",
       "\\item 'Max\\_reads'\n",
       "\\item 'Singletons'\n",
       "\\item 'Doubletons'\n",
       "\\item 'qD'\n",
       "\\item 'Sample\\_Coverage'\n",
       "\\item 'observed\\_Richness'\n",
       "\\item 'estimated\\_Richness'\n",
       "\\item 'SE\\_Richeness'\n",
       "\\item 'observed\\_Shannon'\n",
       "\\item 'estimated\\_Shannon'\n",
       "\\item 'SE\\_Shannon'\n",
       "\\item 'observed\\_Simpson'\n",
       "\\item 'estimated\\_Simpson'\n",
       "\\item 'SE\\_Simpson'\n",
       "\\item 'sample\\_id'\n",
       "\\item 'file'\n",
       "\\item 'Sample'\n",
       "\\item 'Group'\n",
       "\\item 'Patient'\n",
       "\\item 'Cycle'\n",
       "\\item 'basename'\n",
       "\\item 'qD\\_0\\_3505'\n",
       "\\item 'qD\\_1\\_3505'\n",
       "\\item 'qD\\_2\\_3505'\n",
       "\\end{enumerate*}\n"
      ],
      "text/markdown": [
       "1. 'TRB'\n",
       "2. 'Reads'\n",
       "3. 'CPKR'\n",
       "4. 'Average_reads'\n",
       "5. 'VMR'\n",
       "6. 'Max_reads'\n",
       "7. 'Singletons'\n",
       "8. 'Doubletons'\n",
       "9. 'qD'\n",
       "10. 'Sample_Coverage'\n",
       "11. 'observed_Richness'\n",
       "12. 'estimated_Richness'\n",
       "13. 'SE_Richeness'\n",
       "14. 'observed_Shannon'\n",
       "15. 'estimated_Shannon'\n",
       "16. 'SE_Shannon'\n",
       "17. 'observed_Simpson'\n",
       "18. 'estimated_Simpson'\n",
       "19. 'SE_Simpson'\n",
       "20. 'sample_id'\n",
       "21. 'file'\n",
       "22. 'Sample'\n",
       "23. 'Group'\n",
       "24. 'Patient'\n",
       "25. 'Cycle'\n",
       "26. 'basename'\n",
       "27. 'qD_0_3505'\n",
       "28. 'qD_1_3505'\n",
       "29. 'qD_2_3505'\n",
       "\n",
       "\n"
      ],
      "text/plain": [
       " [1] \"TRB\"                \"Reads\"              \"CPKR\"              \n",
       " [4] \"Average_reads\"      \"VMR\"                \"Max_reads\"         \n",
       " [7] \"Singletons\"         \"Doubletons\"         \"qD\"                \n",
       "[10] \"Sample_Coverage\"    \"observed_Richness\"  \"estimated_Richness\"\n",
       "[13] \"SE_Richeness\"       \"observed_Shannon\"   \"estimated_Shannon\" \n",
       "[16] \"SE_Shannon\"         \"observed_Simpson\"   \"estimated_Simpson\" \n",
       "[19] \"SE_Simpson\"         \"sample_id\"          \"file\"              \n",
       "[22] \"Sample\"             \"Group\"              \"Patient\"           \n",
       "[25] \"Cycle\"              \"basename\"           \"qD_0_3505\"         \n",
       "[28] \"qD_1_3505\"          \"qD_2_3505\"         "
      ]
     },
     "metadata": {},
     "output_type": "display_data"
    }
   ],
   "source": [
    "colnames(divstats_raref)"
   ]
  },
  {
   "cell_type": "code",
   "execution_count": 19,
   "metadata": {
    "vscode": {
     "languageId": "r"
    }
   },
   "outputs": [
    {
     "data": {
      "text/plain": [
       "    Min.  1st Qu.   Median     Mean  3rd Qu.     Max.     NA's \n",
       "   1.000    3.702   13.439   77.983   89.831 1106.105        1 "
      ]
     },
     "metadata": {},
     "output_type": "display_data"
    }
   ],
   "source": [
    "summary(divstats_raref$qD_1_3505)"
   ]
  },
  {
   "cell_type": "code",
   "execution_count": 20,
   "metadata": {
    "vscode": {
     "languageId": "r"
    }
   },
   "outputs": [
    {
     "data": {
      "text/plain": [
       "   Min. 1st Qu.  Median    Mean 3rd Qu.    Max. \n",
       "   1.00    3.61   13.28   81.62   88.80 1526.86 "
      ]
     },
     "metadata": {},
     "output_type": "display_data"
    }
   ],
   "source": [
    "summary(divstats_raref$observed_Shannon)"
   ]
  },
  {
   "cell_type": "code",
   "execution_count": 21,
   "metadata": {
    "vscode": {
     "languageId": "r"
    }
   },
   "outputs": [
    {
     "data": {
      "text/plain": [
       "   Min. 1st Qu.  Median    Mean 3rd Qu.    Max. \n",
       "   0.00    3.68   13.43   84.18   91.54 1539.29 "
      ]
     },
     "metadata": {},
     "output_type": "display_data"
    }
   ],
   "source": [
    "summary(divstats_raref$estimated_Shannon)"
   ]
  },
  {
   "cell_type": "code",
   "execution_count": 22,
   "metadata": {
    "vscode": {
     "languageId": "r"
    }
   },
   "outputs": [
    {
     "name": "stderr",
     "output_type": "stream",
     "text": [
      "Warning message:\n",
      "“Removed 1 rows containing missing values (geom_point).”\n"
     ]
    },
    {
     "data": {
      "image/png": "[encoded data removed]",
      "text/plain": [
       "plot without title"
      ]
     },
     "metadata": {
      "image/png": {
       "height": 420,
       "width": 420
      }
     },
     "output_type": "display_data"
    }
   ],
   "source": [
    "ggplot(data = divstats_raref, aes( x = qD_1_3505, y = observed_Shannon) ) + geom_point() + myplot + myaxis"
   ]
  },
  {
   "cell_type": "code",
   "execution_count": null,
   "metadata": {
    "vscode": {
     "languageId": "r"
    }
   },
   "outputs": [],
   "source": [
    "write.csv(divstats_raref,\n",
    "          paste0(datapath, \"capTCRseq/divstats_TRBCHP_raref.csv\"), row.names = TRUE)"
   ]
  },
  {
   "cell_type": "markdown",
   "metadata": {},
   "source": [
    "# Plot rarefied and asymp div for baseline PBMC"
   ]
  },
  {
   "cell_type": "code",
   "execution_count": 20,
   "metadata": {
    "vscode": {
     "languageId": "r"
    }
   },
   "outputs": [],
   "source": [
    "metadata <- read.csv(file = paste0(datapath, \"INT_metadata_flow.csv\"),header = T, stringsAsFactors = F)"
   ]
  },
  {
   "cell_type": "code",
   "execution_count": 21,
   "metadata": {
    "scrolled": true,
    "vscode": {
     "languageId": "r"
    }
   },
   "outputs": [
    {
     "data": {
      "text/html": [
       "<table class=\"dataframe\">\n",
       "<caption>A data.frame: 6 × 35</caption>\n",
       "<thead>\n",
       "\t<tr><th></th><th scope=col>Patient</th><th scope=col>cycle</th><th scope=col>FOLD</th><th scope=col>ATC</th><th scope=col>Age</th><th scope=col>Disease_type</th><th scope=col>TE_fold</th><th scope=col>Pass</th><th scope=col>CD3</th><th scope=col>EM</th><th scope=col>⋯</th><th scope=col>CTLA4</th><th scope=col>PD1.</th><th scope=col>PDL1.</th><th scope=col>LAG3.</th><th scope=col>TIM3.</th><th scope=col>CTLA4.</th><th scope=col>Any.NCR</th><th scope=col>PD1...LAG3...TIM3</th><th scope=col>group</th><th scope=col>sample_id</th></tr>\n",
       "\t<tr><th></th><th scope=col>&lt;chr&gt;</th><th scope=col>&lt;int&gt;</th><th scope=col>&lt;dbl&gt;</th><th scope=col>&lt;dbl&gt;</th><th scope=col>&lt;dbl&gt;</th><th scope=col>&lt;chr&gt;</th><th scope=col>&lt;chr&gt;</th><th scope=col>&lt;lgl&gt;</th><th scope=col>&lt;int&gt;</th><th scope=col>&lt;int&gt;</th><th scope=col>⋯</th><th scope=col>&lt;int&gt;</th><th scope=col>&lt;dbl&gt;</th><th scope=col>&lt;dbl&gt;</th><th scope=col>&lt;dbl&gt;</th><th scope=col>&lt;dbl&gt;</th><th scope=col>&lt;dbl&gt;</th><th scope=col>&lt;dbl&gt;</th><th scope=col>&lt;dbl&gt;</th><th scope=col>&lt;chr&gt;</th><th scope=col>&lt;chr&gt;</th></tr>\n",
       "</thead>\n",
       "<tbody>\n",
       "\t<tr><th scope=row>1</th><td>CHP_330</td><td>1</td><td>0.9</td><td>0</td><td>5</td><td>OS    </td><td>0.9</td><td>NA</td><td>2437</td><td> 24</td><td>⋯</td><td>NA</td><td> 4.636849</td><td>NA</td><td> 2.749282</td><td> 4.636849</td><td>NA</td><td>NA</td><td>NA</td><td>Solid   </td><td>CHP_330_01</td></tr>\n",
       "\t<tr><th scope=row>2</th><td>CHP_330</td><td>2</td><td>1.9</td><td>0</td><td>5</td><td>OS    </td><td>1.9</td><td>NA</td><td>2425</td><td> 21</td><td>⋯</td><td>NA</td><td>21.855670</td><td>NA</td><td>11.752577</td><td>21.855670</td><td>NA</td><td>NA</td><td>NA</td><td>Solid   </td><td>CHP_330_02</td></tr>\n",
       "\t<tr><th scope=row>3</th><td>CHP_330</td><td>3</td><td>1.5</td><td>0</td><td>5</td><td>OS    </td><td>1.5</td><td>NA</td><td> 544</td><td> 17</td><td>⋯</td><td>NA</td><td>      Inf</td><td>NA</td><td>      Inf</td><td>      Inf</td><td>NA</td><td>NA</td><td>NA</td><td>Solid   </td><td>CHP_330_03</td></tr>\n",
       "\t<tr><th scope=row>4</th><td>CHP_330</td><td>4</td><td>4.1</td><td>0</td><td>5</td><td>OS    </td><td>4.1</td><td>NA</td><td>2484</td><td>125</td><td>⋯</td><td>NA</td><td> 8.776167</td><td>NA</td><td> 1.610306</td><td> 8.776167</td><td>NA</td><td>NA</td><td>NA</td><td>Solid   </td><td>CHP_330_04</td></tr>\n",
       "\t<tr><th scope=row>5</th><td>CHP_330</td><td>5</td><td>6.2</td><td>0</td><td>5</td><td>OS    </td><td>6.2</td><td>NA</td><td>   0</td><td> NA</td><td>⋯</td><td>NA</td><td>     -Inf</td><td>NA</td><td>     -Inf</td><td>     -Inf</td><td>NA</td><td>NA</td><td>NA</td><td>Solid   </td><td>CHP_330_05</td></tr>\n",
       "\t<tr><th scope=row>6</th><td>CHP_331</td><td>1</td><td>0.0</td><td>0</td><td>5</td><td>SR ALL</td><td>0  </td><td>NA</td><td>   0</td><td> NA</td><td>⋯</td><td>NA</td><td>       NA</td><td>NA</td><td>       NA</td><td>       NA</td><td>NA</td><td>NA</td><td>NA</td><td>Leukemia</td><td>CHP_331_01</td></tr>\n",
       "</tbody>\n",
       "</table>\n"
      ],
      "text/latex": [
       "A data.frame: 6 × 35\n",
       "\\begin{tabular}{r|lllllllllllllllllllll}\n",
       "  & Patient & cycle & FOLD & ATC & Age & Disease\\_type & TE\\_fold & Pass & CD3 & EM & ⋯ & CTLA4 & PD1. & PDL1. & LAG3. & TIM3. & CTLA4. & Any.NCR & PD1...LAG3...TIM3 & group & sample\\_id\\\\\n",
       "  & <chr> & <int> & <dbl> & <dbl> & <dbl> & <chr> & <chr> & <lgl> & <int> & <int> & ⋯ & <int> & <dbl> & <dbl> & <dbl> & <dbl> & <dbl> & <dbl> & <dbl> & <chr> & <chr>\\\\\n",
       "\\hline\n",
       "\t1 & CHP\\_330 & 1 & 0.9 & 0 & 5 & OS     & 0.9 & NA & 2437 &  24 & ⋯ & NA &  4.636849 & NA &  2.749282 &  4.636849 & NA & NA & NA & Solid    & CHP\\_330\\_01\\\\\n",
       "\t2 & CHP\\_330 & 2 & 1.9 & 0 & 5 & OS     & 1.9 & NA & 2425 &  21 & ⋯ & NA & 21.855670 & NA & 11.752577 & 21.855670 & NA & NA & NA & Solid    & CHP\\_330\\_02\\\\\n",
       "\t3 & CHP\\_330 & 3 & 1.5 & 0 & 5 & OS     & 1.5 & NA &  544 &  17 & ⋯ & NA &       Inf & NA &       Inf &       Inf & NA & NA & NA & Solid    & CHP\\_330\\_03\\\\\n",
       "\t4 & CHP\\_330 & 4 & 4.1 & 0 & 5 & OS     & 4.1 & NA & 2484 & 125 & ⋯ & NA &  8.776167 & NA &  1.610306 &  8.776167 & NA & NA & NA & Solid    & CHP\\_330\\_04\\\\\n",
       "\t5 & CHP\\_330 & 5 & 6.2 & 0 & 5 & OS     & 6.2 & NA &    0 &  NA & ⋯ & NA &      -Inf & NA &      -Inf &      -Inf & NA & NA & NA & Solid    & CHP\\_330\\_05\\\\\n",
       "\t6 & CHP\\_331 & 1 & 0.0 & 0 & 5 & SR ALL & 0   & NA &    0 &  NA & ⋯ & NA &        NA & NA &        NA &        NA & NA & NA & NA & Leukemia & CHP\\_331\\_01\\\\\n",
       "\\end{tabular}\n"
      ],
      "text/markdown": [
       "\n",
       "A data.frame: 6 × 35\n",
       "\n",
       "| <!--/--> | Patient &lt;chr&gt; | cycle &lt;int&gt; | FOLD &lt;dbl&gt; | ATC &lt;dbl&gt; | Age &lt;dbl&gt; | Disease_type &lt;chr&gt; | TE_fold &lt;chr&gt; | Pass &lt;lgl&gt; | CD3 &lt;int&gt; | EM &lt;int&gt; | ⋯ ⋯ | CTLA4 &lt;int&gt; | PD1. &lt;dbl&gt; | PDL1. &lt;dbl&gt; | LAG3. &lt;dbl&gt; | TIM3. &lt;dbl&gt; | CTLA4. &lt;dbl&gt; | Any.NCR &lt;dbl&gt; | PD1...LAG3...TIM3 &lt;dbl&gt; | group &lt;chr&gt; | sample_id &lt;chr&gt; |\n",
       "|---|---|---|---|---|---|---|---|---|---|---|---|---|---|---|---|---|---|---|---|---|---|\n",
       "| 1 | CHP_330 | 1 | 0.9 | 0 | 5 | OS     | 0.9 | NA | 2437 |  24 | ⋯ | NA |  4.636849 | NA |  2.749282 |  4.636849 | NA | NA | NA | Solid    | CHP_330_01 |\n",
       "| 2 | CHP_330 | 2 | 1.9 | 0 | 5 | OS     | 1.9 | NA | 2425 |  21 | ⋯ | NA | 21.855670 | NA | 11.752577 | 21.855670 | NA | NA | NA | Solid    | CHP_330_02 |\n",
       "| 3 | CHP_330 | 3 | 1.5 | 0 | 5 | OS     | 1.5 | NA |  544 |  17 | ⋯ | NA |       Inf | NA |       Inf |       Inf | NA | NA | NA | Solid    | CHP_330_03 |\n",
       "| 4 | CHP_330 | 4 | 4.1 | 0 | 5 | OS     | 4.1 | NA | 2484 | 125 | ⋯ | NA |  8.776167 | NA |  1.610306 |  8.776167 | NA | NA | NA | Solid    | CHP_330_04 |\n",
       "| 5 | CHP_330 | 5 | 6.2 | 0 | 5 | OS     | 6.2 | NA |    0 |  NA | ⋯ | NA |      -Inf | NA |      -Inf |      -Inf | NA | NA | NA | Solid    | CHP_330_05 |\n",
       "| 6 | CHP_331 | 1 | 0.0 | 0 | 5 | SR ALL | 0   | NA |    0 |  NA | ⋯ | NA |        NA | NA |        NA |        NA | NA | NA | NA | Leukemia | CHP_331_01 |\n",
       "\n"
      ],
      "text/plain": [
       "  Patient cycle FOLD ATC Age Disease_type TE_fold Pass CD3  EM  ⋯ CTLA4\n",
       "1 CHP_330 1     0.9  0   5   OS           0.9     NA   2437  24 ⋯ NA   \n",
       "2 CHP_330 2     1.9  0   5   OS           1.9     NA   2425  21 ⋯ NA   \n",
       "3 CHP_330 3     1.5  0   5   OS           1.5     NA    544  17 ⋯ NA   \n",
       "4 CHP_330 4     4.1  0   5   OS           4.1     NA   2484 125 ⋯ NA   \n",
       "5 CHP_330 5     6.2  0   5   OS           6.2     NA      0  NA ⋯ NA   \n",
       "6 CHP_331 1     0.0  0   5   SR ALL       0       NA      0  NA ⋯ NA   \n",
       "  PD1.      PDL1. LAG3.     TIM3.     CTLA4. Any.NCR PD1...LAG3...TIM3 group   \n",
       "1  4.636849 NA     2.749282  4.636849 NA     NA      NA                Solid   \n",
       "2 21.855670 NA    11.752577 21.855670 NA     NA      NA                Solid   \n",
       "3       Inf NA          Inf       Inf NA     NA      NA                Solid   \n",
       "4  8.776167 NA     1.610306  8.776167 NA     NA      NA                Solid   \n",
       "5      -Inf NA         -Inf      -Inf NA     NA      NA                Solid   \n",
       "6        NA NA           NA        NA NA     NA      NA                Leukemia\n",
       "  sample_id \n",
       "1 CHP_330_01\n",
       "2 CHP_330_02\n",
       "3 CHP_330_03\n",
       "4 CHP_330_04\n",
       "5 CHP_330_05\n",
       "6 CHP_331_01"
      ]
     },
     "metadata": {},
     "output_type": "display_data"
    }
   ],
   "source": [
    "head(metadata)"
   ]
  },
  {
   "cell_type": "code",
   "execution_count": 22,
   "metadata": {
    "vscode": {
     "languageId": "r"
    }
   },
   "outputs": [
    {
     "data": {
      "text/html": [
       "<table class=\"dataframe\">\n",
       "<caption>A data.frame: 6 × 27</caption>\n",
       "<thead>\n",
       "\t<tr><th></th><th scope=col>TRB</th><th scope=col>Reads</th><th scope=col>CPKR</th><th scope=col>Average_reads</th><th scope=col>VMR</th><th scope=col>Max_reads</th><th scope=col>Singletons</th><th scope=col>Doubletons</th><th scope=col>qD</th><th scope=col>Sample_Coverage</th><th scope=col>⋯</th><th scope=col>estimated_Simpson</th><th scope=col>SE_Simpson</th><th scope=col>Sample</th><th scope=col>Group</th><th scope=col>Patient</th><th scope=col>Cycle</th><th scope=col>sample_id</th><th scope=col>qD_0_3505</th><th scope=col>qD_1_3505</th><th scope=col>qD_2_3505</th></tr>\n",
       "\t<tr><th></th><th scope=col>&lt;int&gt;</th><th scope=col>&lt;int&gt;</th><th scope=col>&lt;dbl&gt;</th><th scope=col>&lt;dbl&gt;</th><th scope=col>&lt;dbl&gt;</th><th scope=col>&lt;int&gt;</th><th scope=col>&lt;int&gt;</th><th scope=col>&lt;int&gt;</th><th scope=col>&lt;dbl&gt;</th><th scope=col>&lt;dbl&gt;</th><th scope=col>⋯</th><th scope=col>&lt;dbl&gt;</th><th scope=col>&lt;dbl&gt;</th><th scope=col>&lt;chr&gt;</th><th scope=col>&lt;chr&gt;</th><th scope=col>&lt;chr&gt;</th><th scope=col>&lt;int&gt;</th><th scope=col>&lt;chr&gt;</th><th scope=col>&lt;dbl&gt;</th><th scope=col>&lt;dbl&gt;</th><th scope=col>&lt;dbl&gt;</th></tr>\n",
       "</thead>\n",
       "<tbody>\n",
       "\t<tr><th scope=row>CHP_315-05-PBMC-DNA</th><td> 25</td><td> 192</td><td>130.20833</td><td> 7.680000</td><td>1.6157205</td><td>63</td><td> 4</td><td> 2</td><td> 27.519</td><td>0.992</td><td>⋯</td><td>  7.367</td><td>1.066</td><td>PBMC</td><td>CHP</td><td>CHP_315</td><td>5</td><td>CHP_315_05</td><td> 28.979</td><td> 14.196</td><td>  7.353</td></tr>\n",
       "\t<tr><th scope=row>CHP_350-01-PBMC-DNA</th><td>153</td><td>1647</td><td> 92.89617</td><td>10.764706</td><td>0.7872963</td><td>59</td><td> 5</td><td> 6</td><td>154.893</td><td>1.000</td><td>⋯</td><td>100.406</td><td>3.380</td><td>PBMC</td><td>CHP</td><td>CHP_350</td><td>1</td><td>CHP_350_01</td><td>154.943</td><td>123.759</td><td> 97.637</td></tr>\n",
       "\t<tr><th scope=row>CHP_350-02-PBMC-DNA</th><td>269</td><td>2992</td><td> 89.90642</td><td>11.122677</td><td>0.8300771</td><td>92</td><td>17</td><td> 5</td><td>281.850</td><td>0.997</td><td>⋯</td><td>168.431</td><td>5.344</td><td>PBMC</td><td>CHP</td><td>CHP_350</td><td>2</td><td>CHP_350_02</td><td>271.772</td><td>209.843</td><td>160.752</td></tr>\n",
       "\t<tr><th scope=row>CHP_350-03-PBMC-DNA</th><td>207</td><td>2134</td><td> 97.00094</td><td>10.309179</td><td>0.7807083</td><td>52</td><td> 9</td><td>10</td><td>210.609</td><td>1.000</td><td>⋯</td><td>137.062</td><td>3.637</td><td>PBMC</td><td>CHP</td><td>CHP_350</td><td>3</td><td>CHP_350_03</td><td>210.077</td><td>163.577</td><td>131.940</td></tr>\n",
       "\t<tr><th scope=row>CHP_350-04-PBMC-DNA</th><td>106</td><td> 989</td><td>107.17897</td><td> 9.330189</td><td>0.7731222</td><td>34</td><td>10</td><td> 2</td><td>114.239</td><td>0.993</td><td>⋯</td><td> 71.313</td><td>2.531</td><td>PBMC</td><td>CHP</td><td>CHP_350</td><td>4</td><td>CHP_350_04</td><td>121.955</td><td> 85.861</td><td> 69.911</td></tr>\n",
       "\t<tr><th scope=row>CHP_353-02-PBMC-DNA</th><td> 16</td><td> 234</td><td> 68.37607</td><td>14.625000</td><td>0.5897147</td><td>35</td><td> 1</td><td> 0</td><td> 16.000</td><td>1.000</td><td>⋯</td><td> 12.668</td><td>0.744</td><td>PBMC</td><td>CHP</td><td>CHP_353</td><td>2</td><td>CHP_353_02</td><td> 16.000</td><td> 13.828</td><td> 12.626</td></tr>\n",
       "</tbody>\n",
       "</table>\n"
      ],
      "text/latex": [
       "A data.frame: 6 × 27\n",
       "\\begin{tabular}{r|lllllllllllllllllllll}\n",
       "  & TRB & Reads & CPKR & Average\\_reads & VMR & Max\\_reads & Singletons & Doubletons & qD & Sample\\_Coverage & ⋯ & estimated\\_Simpson & SE\\_Simpson & Sample & Group & Patient & Cycle & sample\\_id & qD\\_0\\_3505 & qD\\_1\\_3505 & qD\\_2\\_3505\\\\\n",
       "  & <int> & <int> & <dbl> & <dbl> & <dbl> & <int> & <int> & <int> & <dbl> & <dbl> & ⋯ & <dbl> & <dbl> & <chr> & <chr> & <chr> & <int> & <chr> & <dbl> & <dbl> & <dbl>\\\\\n",
       "\\hline\n",
       "\tCHP\\_315-05-PBMC-DNA &  25 &  192 & 130.20833 &  7.680000 & 1.6157205 & 63 &  4 &  2 &  27.519 & 0.992 & ⋯ &   7.367 & 1.066 & PBMC & CHP & CHP\\_315 & 5 & CHP\\_315\\_05 &  28.979 &  14.196 &   7.353\\\\\n",
       "\tCHP\\_350-01-PBMC-DNA & 153 & 1647 &  92.89617 & 10.764706 & 0.7872963 & 59 &  5 &  6 & 154.893 & 1.000 & ⋯ & 100.406 & 3.380 & PBMC & CHP & CHP\\_350 & 1 & CHP\\_350\\_01 & 154.943 & 123.759 &  97.637\\\\\n",
       "\tCHP\\_350-02-PBMC-DNA & 269 & 2992 &  89.90642 & 11.122677 & 0.8300771 & 92 & 17 &  5 & 281.850 & 0.997 & ⋯ & 168.431 & 5.344 & PBMC & CHP & CHP\\_350 & 2 & CHP\\_350\\_02 & 271.772 & 209.843 & 160.752\\\\\n",
       "\tCHP\\_350-03-PBMC-DNA & 207 & 2134 &  97.00094 & 10.309179 & 0.7807083 & 52 &  9 & 10 & 210.609 & 1.000 & ⋯ & 137.062 & 3.637 & PBMC & CHP & CHP\\_350 & 3 & CHP\\_350\\_03 & 210.077 & 163.577 & 131.940\\\\\n",
       "\tCHP\\_350-04-PBMC-DNA & 106 &  989 & 107.17897 &  9.330189 & 0.7731222 & 34 & 10 &  2 & 114.239 & 0.993 & ⋯ &  71.313 & 2.531 & PBMC & CHP & CHP\\_350 & 4 & CHP\\_350\\_04 & 121.955 &  85.861 &  69.911\\\\\n",
       "\tCHP\\_353-02-PBMC-DNA &  16 &  234 &  68.37607 & 14.625000 & 0.5897147 & 35 &  1 &  0 &  16.000 & 1.000 & ⋯ &  12.668 & 0.744 & PBMC & CHP & CHP\\_353 & 2 & CHP\\_353\\_02 &  16.000 &  13.828 &  12.626\\\\\n",
       "\\end{tabular}\n"
      ],
      "text/markdown": [
       "\n",
       "A data.frame: 6 × 27\n",
       "\n",
       "| <!--/--> | TRB &lt;int&gt; | Reads &lt;int&gt; | CPKR &lt;dbl&gt; | Average_reads &lt;dbl&gt; | VMR &lt;dbl&gt; | Max_reads &lt;int&gt; | Singletons &lt;int&gt; | Doubletons &lt;int&gt; | qD &lt;dbl&gt; | Sample_Coverage &lt;dbl&gt; | ⋯ ⋯ | estimated_Simpson &lt;dbl&gt; | SE_Simpson &lt;dbl&gt; | Sample &lt;chr&gt; | Group &lt;chr&gt; | Patient &lt;chr&gt; | Cycle &lt;int&gt; | sample_id &lt;chr&gt; | qD_0_3505 &lt;dbl&gt; | qD_1_3505 &lt;dbl&gt; | qD_2_3505 &lt;dbl&gt; |\n",
       "|---|---|---|---|---|---|---|---|---|---|---|---|---|---|---|---|---|---|---|---|---|---|\n",
       "| CHP_315-05-PBMC-DNA |  25 |  192 | 130.20833 |  7.680000 | 1.6157205 | 63 |  4 |  2 |  27.519 | 0.992 | ⋯ |   7.367 | 1.066 | PBMC | CHP | CHP_315 | 5 | CHP_315_05 |  28.979 |  14.196 |   7.353 |\n",
       "| CHP_350-01-PBMC-DNA | 153 | 1647 |  92.89617 | 10.764706 | 0.7872963 | 59 |  5 |  6 | 154.893 | 1.000 | ⋯ | 100.406 | 3.380 | PBMC | CHP | CHP_350 | 1 | CHP_350_01 | 154.943 | 123.759 |  97.637 |\n",
       "| CHP_350-02-PBMC-DNA | 269 | 2992 |  89.90642 | 11.122677 | 0.8300771 | 92 | 17 |  5 | 281.850 | 0.997 | ⋯ | 168.431 | 5.344 | PBMC | CHP | CHP_350 | 2 | CHP_350_02 | 271.772 | 209.843 | 160.752 |\n",
       "| CHP_350-03-PBMC-DNA | 207 | 2134 |  97.00094 | 10.309179 | 0.7807083 | 52 |  9 | 10 | 210.609 | 1.000 | ⋯ | 137.062 | 3.637 | PBMC | CHP | CHP_350 | 3 | CHP_350_03 | 210.077 | 163.577 | 131.940 |\n",
       "| CHP_350-04-PBMC-DNA | 106 |  989 | 107.17897 |  9.330189 | 0.7731222 | 34 | 10 |  2 | 114.239 | 0.993 | ⋯ |  71.313 | 2.531 | PBMC | CHP | CHP_350 | 4 | CHP_350_04 | 121.955 |  85.861 |  69.911 |\n",
       "| CHP_353-02-PBMC-DNA |  16 |  234 |  68.37607 | 14.625000 | 0.5897147 | 35 |  1 |  0 |  16.000 | 1.000 | ⋯ |  12.668 | 0.744 | PBMC | CHP | CHP_353 | 2 | CHP_353_02 |  16.000 |  13.828 |  12.626 |\n",
       "\n"
      ],
      "text/plain": [
       "                    TRB Reads CPKR      Average_reads VMR       Max_reads\n",
       "CHP_315-05-PBMC-DNA  25  192  130.20833  7.680000     1.6157205 63       \n",
       "CHP_350-01-PBMC-DNA 153 1647   92.89617 10.764706     0.7872963 59       \n",
       "CHP_350-02-PBMC-DNA 269 2992   89.90642 11.122677     0.8300771 92       \n",
       "CHP_350-03-PBMC-DNA 207 2134   97.00094 10.309179     0.7807083 52       \n",
       "CHP_350-04-PBMC-DNA 106  989  107.17897  9.330189     0.7731222 34       \n",
       "CHP_353-02-PBMC-DNA  16  234   68.37607 14.625000     0.5897147 35       \n",
       "                    Singletons Doubletons qD      Sample_Coverage ⋯\n",
       "CHP_315-05-PBMC-DNA  4          2          27.519 0.992           ⋯\n",
       "CHP_350-01-PBMC-DNA  5          6         154.893 1.000           ⋯\n",
       "CHP_350-02-PBMC-DNA 17          5         281.850 0.997           ⋯\n",
       "CHP_350-03-PBMC-DNA  9         10         210.609 1.000           ⋯\n",
       "CHP_350-04-PBMC-DNA 10          2         114.239 0.993           ⋯\n",
       "CHP_353-02-PBMC-DNA  1          0          16.000 1.000           ⋯\n",
       "                    estimated_Simpson SE_Simpson Sample Group Patient Cycle\n",
       "CHP_315-05-PBMC-DNA   7.367           1.066      PBMC   CHP   CHP_315 5    \n",
       "CHP_350-01-PBMC-DNA 100.406           3.380      PBMC   CHP   CHP_350 1    \n",
       "CHP_350-02-PBMC-DNA 168.431           5.344      PBMC   CHP   CHP_350 2    \n",
       "CHP_350-03-PBMC-DNA 137.062           3.637      PBMC   CHP   CHP_350 3    \n",
       "CHP_350-04-PBMC-DNA  71.313           2.531      PBMC   CHP   CHP_350 4    \n",
       "CHP_353-02-PBMC-DNA  12.668           0.744      PBMC   CHP   CHP_353 2    \n",
       "                    sample_id  qD_0_3505 qD_1_3505 qD_2_3505\n",
       "CHP_315-05-PBMC-DNA CHP_315_05  28.979    14.196     7.353  \n",
       "CHP_350-01-PBMC-DNA CHP_350_01 154.943   123.759    97.637  \n",
       "CHP_350-02-PBMC-DNA CHP_350_02 271.772   209.843   160.752  \n",
       "CHP_350-03-PBMC-DNA CHP_350_03 210.077   163.577   131.940  \n",
       "CHP_350-04-PBMC-DNA CHP_350_04 121.955    85.861    69.911  \n",
       "CHP_353-02-PBMC-DNA CHP_353_02  16.000    13.828    12.626  "
      ]
     },
     "metadata": {},
     "output_type": "display_data"
    }
   ],
   "source": [
    "head(divstats_raref)"
   ]
  },
  {
   "cell_type": "code",
   "execution_count": 49,
   "metadata": {
    "vscode": {
     "languageId": "r"
    }
   },
   "outputs": [],
   "source": [
    "pbmc <- divstats_raref[ divstats_raref$Sample == \"PBMC\",]"
   ]
  },
  {
   "cell_type": "code",
   "execution_count": 104,
   "metadata": {
    "vscode": {
     "languageId": "r"
    }
   },
   "outputs": [
    {
     "data": {
      "text/html": [
       "<style>\n",
       ".list-inline {list-style: none; margin:0; padding: 0}\n",
       ".list-inline>li {display: inline-block}\n",
       ".list-inline>li:not(:last-child)::after {content: \"\\00b7\"; padding: 0 .5ex}\n",
       "</style>\n",
       "<ol class=list-inline><li>'Patient'</li><li>'cycle'</li><li>'FOLD'</li><li>'ATC'</li><li>'Age'</li><li>'Disease_type'</li><li>'TE_fold'</li><li>'Pass'</li><li>'CD3'</li><li>'EM'</li><li>'CM'</li><li>'Naïve'</li><li>'SCM'</li><li>'TE'</li><li>'EM.'</li><li>'CM.'</li><li>'Naïve.'</li><li>'SCM.'</li><li>'TE.'</li><li>'Naïve.TE'</li><li>'N.CM.SCM.TE.EM'</li><li>'PD.1'</li><li>'PDL1'</li><li>'LAG3'</li><li>'TIM3'</li><li>'CTLA4'</li><li>'PD1.'</li><li>'PDL1.'</li><li>'LAG3.'</li><li>'TIM3.'</li><li>'CTLA4.'</li><li>'Any.NCR'</li><li>'PD1...LAG3...TIM3'</li><li>'group'</li><li>'sample_id'</li></ol>\n"
      ],
      "text/latex": [
       "\\begin{enumerate*}\n",
       "\\item 'Patient'\n",
       "\\item 'cycle'\n",
       "\\item 'FOLD'\n",
       "\\item 'ATC'\n",
       "\\item 'Age'\n",
       "\\item 'Disease\\_type'\n",
       "\\item 'TE\\_fold'\n",
       "\\item 'Pass'\n",
       "\\item 'CD3'\n",
       "\\item 'EM'\n",
       "\\item 'CM'\n",
       "\\item 'Naïve'\n",
       "\\item 'SCM'\n",
       "\\item 'TE'\n",
       "\\item 'EM.'\n",
       "\\item 'CM.'\n",
       "\\item 'Naïve.'\n",
       "\\item 'SCM.'\n",
       "\\item 'TE.'\n",
       "\\item 'Naïve.TE'\n",
       "\\item 'N.CM.SCM.TE.EM'\n",
       "\\item 'PD.1'\n",
       "\\item 'PDL1'\n",
       "\\item 'LAG3'\n",
       "\\item 'TIM3'\n",
       "\\item 'CTLA4'\n",
       "\\item 'PD1.'\n",
       "\\item 'PDL1.'\n",
       "\\item 'LAG3.'\n",
       "\\item 'TIM3.'\n",
       "\\item 'CTLA4.'\n",
       "\\item 'Any.NCR'\n",
       "\\item 'PD1...LAG3...TIM3'\n",
       "\\item 'group'\n",
       "\\item 'sample\\_id'\n",
       "\\end{enumerate*}\n"
      ],
      "text/markdown": [
       "1. 'Patient'\n",
       "2. 'cycle'\n",
       "3. 'FOLD'\n",
       "4. 'ATC'\n",
       "5. 'Age'\n",
       "6. 'Disease_type'\n",
       "7. 'TE_fold'\n",
       "8. 'Pass'\n",
       "9. 'CD3'\n",
       "10. 'EM'\n",
       "11. 'CM'\n",
       "12. 'Naïve'\n",
       "13. 'SCM'\n",
       "14. 'TE'\n",
       "15. 'EM.'\n",
       "16. 'CM.'\n",
       "17. 'Naïve.'\n",
       "18. 'SCM.'\n",
       "19. 'TE.'\n",
       "20. 'Naïve.TE'\n",
       "21. 'N.CM.SCM.TE.EM'\n",
       "22. 'PD.1'\n",
       "23. 'PDL1'\n",
       "24. 'LAG3'\n",
       "25. 'TIM3'\n",
       "26. 'CTLA4'\n",
       "27. 'PD1.'\n",
       "28. 'PDL1.'\n",
       "29. 'LAG3.'\n",
       "30. 'TIM3.'\n",
       "31. 'CTLA4.'\n",
       "32. 'Any.NCR'\n",
       "33. 'PD1...LAG3...TIM3'\n",
       "34. 'group'\n",
       "35. 'sample_id'\n",
       "\n",
       "\n"
      ],
      "text/plain": [
       " [1] \"Patient\"           \"cycle\"             \"FOLD\"             \n",
       " [4] \"ATC\"               \"Age\"               \"Disease_type\"     \n",
       " [7] \"TE_fold\"           \"Pass\"              \"CD3\"              \n",
       "[10] \"EM\"                \"CM\"                \"Naïve\"            \n",
       "[13] \"SCM\"               \"TE\"                \"EM.\"              \n",
       "[16] \"CM.\"               \"Naïve.\"            \"SCM.\"             \n",
       "[19] \"TE.\"               \"Naïve.TE\"          \"N.CM.SCM.TE.EM\"   \n",
       "[22] \"PD.1\"              \"PDL1\"              \"LAG3\"             \n",
       "[25] \"TIM3\"              \"CTLA4\"             \"PD1.\"             \n",
       "[28] \"PDL1.\"             \"LAG3.\"             \"TIM3.\"            \n",
       "[31] \"CTLA4.\"            \"Any.NCR\"           \"PD1...LAG3...TIM3\"\n",
       "[34] \"group\"             \"sample_id\"        "
      ]
     },
     "metadata": {},
     "output_type": "display_data"
    }
   ],
   "source": [
    "colnames(metadata)"
   ]
  },
  {
   "cell_type": "code",
   "execution_count": 152,
   "metadata": {
    "vscode": {
     "languageId": "r"
    }
   },
   "outputs": [],
   "source": [
    "pbmc_metadata_div <- pbmc\n",
    "pbmc_metadata_div$Disease_type <- metadata$Disease_type[ match(pbmc_metadata_div$sample_id,metadata$sample_id)]\n",
    "pbmc_metadata_div$cancergroup <- metadata$group[ match(pbmc_metadata_div$sample_id,metadata$sample_id)]\n",
    "\n",
    "pbmc_metadata_div$FOLD <- metadata$FOLD[ match(pbmc_metadata_div$sample_id,metadata$sample_id)]\n",
    "pbmc_metadata_div$ATC <- metadata$ATC[ match(pbmc_metadata_div$sample_id,metadata$sample_id)]\n",
    "\n",
    "pbmc_metadata_div$Age <- metadata$Age[ match(pbmc_metadata_div$sample_id,metadata$sample_id)]"
   ]
  },
  {
   "cell_type": "code",
   "execution_count": 153,
   "metadata": {
    "vscode": {
     "languageId": "r"
    }
   },
   "outputs": [],
   "source": [
    "pbmc_metadata_div$Disease_type[grepl(\"LFS\", pbmc_metadata_div$sample_id)] <- \"LFS\"\n",
    "pbmc_metadata_div$Disease_type[grepl(\"YO\", pbmc_metadata_div$sample_id)] <- \"Normal\"\n",
    "pbmc_metadata_div$Disease_type[grepl(\"MO\", pbmc_metadata_div$sample_id)] <- \"Normal\""
   ]
  },
  {
   "cell_type": "code",
   "execution_count": 154,
   "metadata": {
    "vscode": {
     "languageId": "r"
    }
   },
   "outputs": [],
   "source": [
    "pbmc_metadata_div$cancergroup[grepl(\"LFS\", pbmc_metadata_div$sample_id)] <- \"LFS\""
   ]
  },
  {
   "cell_type": "code",
   "execution_count": 155,
   "metadata": {
    "vscode": {
     "languageId": "r"
    }
   },
   "outputs": [
    {
     "data": {
      "text/plain": [
       "\n",
       " 0  1  2  3  4  5 \n",
       "24 45 58 54 44 40 "
      ]
     },
     "metadata": {},
     "output_type": "display_data"
    }
   ],
   "source": [
    "table(pbmc_metadata_div$Cycle)"
   ]
  },
  {
   "cell_type": "code",
   "execution_count": 160,
   "metadata": {
    "vscode": {
     "languageId": "r"
    }
   },
   "outputs": [
    {
     "name": "stderr",
     "output_type": "stream",
     "text": [
      "Warning message:\n",
      "“Removed 36 rows containing missing values (geom_point).”\n"
     ]
    },
    {
     "data": {
      "image/png": "[encoded data removed]",
      "text/plain": [
       "plot without title"
      ]
     },
     "metadata": {
      "image/png": {
       "height": 420,
       "width": 420
      }
     },
     "output_type": "display_data"
    }
   ],
   "source": [
    "ggplot(data = pbmc_metadata_div, \n",
    "       aes( x = qD_1_3505, y = ATC) ) + geom_point() + myplot + myaxis"
   ]
  },
  {
   "cell_type": "code",
   "execution_count": null,
   "metadata": {
    "vscode": {
     "languageId": "r"
    }
   },
   "outputs": [],
   "source": []
  },
  {
   "cell_type": "markdown",
   "metadata": {},
   "source": [
    "Subset to baseline"
   ]
  },
  {
   "cell_type": "code",
   "execution_count": 161,
   "metadata": {
    "vscode": {
     "languageId": "r"
    }
   },
   "outputs": [],
   "source": [
    "pbmc_metadata_div <- pbmc_metadata_div[ pbmc_metadata_div$Cycle %in% c(0,1),]"
   ]
  },
  {
   "cell_type": "code",
   "execution_count": 162,
   "metadata": {
    "vscode": {
     "languageId": "r"
    }
   },
   "outputs": [
    {
     "data": {
      "text/html": [
       "<style>\n",
       ".list-inline {list-style: none; margin:0; padding: 0}\n",
       ".list-inline>li {display: inline-block}\n",
       ".list-inline>li:not(:last-child)::after {content: \"\\00b7\"; padding: 0 .5ex}\n",
       "</style>\n",
       "<ol class=list-inline><li>69</li><li>32</li></ol>\n"
      ],
      "text/latex": [
       "\\begin{enumerate*}\n",
       "\\item 69\n",
       "\\item 32\n",
       "\\end{enumerate*}\n"
      ],
      "text/markdown": [
       "1. 69\n",
       "2. 32\n",
       "\n",
       "\n"
      ],
      "text/plain": [
       "[1] 69 32"
      ]
     },
     "metadata": {},
     "output_type": "display_data"
    }
   ],
   "source": [
    "dim(pbmc_metadata_div)"
   ]
  },
  {
   "cell_type": "code",
   "execution_count": 163,
   "metadata": {
    "vscode": {
     "languageId": "r"
    }
   },
   "outputs": [
    {
     "data": {
      "text/plain": [
       "\n",
       "  ALCL    ALL    AML   ARMS     BL    CML   ERMS    EWS     HB     HD HR ALL \n",
       "     1      8      5      1      2      2      2      3      2      3      7 \n",
       "   LFS     NB Normal     OS  T-ALL  WILMS \n",
       "    10      2     14      4      2      1 "
      ]
     },
     "metadata": {},
     "output_type": "display_data"
    }
   ],
   "source": [
    "table(pbmc_metadata_div$Disease_type)"
   ]
  },
  {
   "cell_type": "code",
   "execution_count": 168,
   "metadata": {
    "vscode": {
     "languageId": "r"
    }
   },
   "outputs": [
    {
     "data": {
      "text/html": [
       "<style>\n",
       ".list-inline {list-style: none; margin:0; padding: 0}\n",
       ".list-inline>li {display: inline-block}\n",
       ".list-inline>li:not(:last-child)::after {content: \"\\00b7\"; padding: 0 .5ex}\n",
       "</style>\n",
       "<ol class=list-inline><li>'TRB'</li><li>'Reads'</li><li>'CPKR'</li><li>'Average_reads'</li><li>'VMR'</li><li>'Max_reads'</li><li>'Singletons'</li><li>'Doubletons'</li><li>'qD'</li><li>'Sample_Coverage'</li><li>'observed_Richness'</li><li>'estimated_Richness'</li><li>'SE_Richeness'</li><li>'observed_Shannon'</li><li>'estimated_Shannon'</li><li>'SE_Shannon'</li><li>'observed_Simpson'</li><li>'estimated_Simpson'</li><li>'SE_Simpson'</li><li>'Sample'</li><li>'Group'</li><li>'Patient'</li><li>'Cycle'</li><li>'sample_id'</li><li>'qD_0_3505'</li><li>'qD_1_3505'</li><li>'qD_2_3505'</li><li>'Disease_type'</li><li>'cancergroup'</li><li>'FOLD'</li><li>'ATC'</li><li>'Age'</li></ol>\n"
      ],
      "text/latex": [
       "\\begin{enumerate*}\n",
       "\\item 'TRB'\n",
       "\\item 'Reads'\n",
       "\\item 'CPKR'\n",
       "\\item 'Average\\_reads'\n",
       "\\item 'VMR'\n",
       "\\item 'Max\\_reads'\n",
       "\\item 'Singletons'\n",
       "\\item 'Doubletons'\n",
       "\\item 'qD'\n",
       "\\item 'Sample\\_Coverage'\n",
       "\\item 'observed\\_Richness'\n",
       "\\item 'estimated\\_Richness'\n",
       "\\item 'SE\\_Richeness'\n",
       "\\item 'observed\\_Shannon'\n",
       "\\item 'estimated\\_Shannon'\n",
       "\\item 'SE\\_Shannon'\n",
       "\\item 'observed\\_Simpson'\n",
       "\\item 'estimated\\_Simpson'\n",
       "\\item 'SE\\_Simpson'\n",
       "\\item 'Sample'\n",
       "\\item 'Group'\n",
       "\\item 'Patient'\n",
       "\\item 'Cycle'\n",
       "\\item 'sample\\_id'\n",
       "\\item 'qD\\_0\\_3505'\n",
       "\\item 'qD\\_1\\_3505'\n",
       "\\item 'qD\\_2\\_3505'\n",
       "\\item 'Disease\\_type'\n",
       "\\item 'cancergroup'\n",
       "\\item 'FOLD'\n",
       "\\item 'ATC'\n",
       "\\item 'Age'\n",
       "\\end{enumerate*}\n"
      ],
      "text/markdown": [
       "1. 'TRB'\n",
       "2. 'Reads'\n",
       "3. 'CPKR'\n",
       "4. 'Average_reads'\n",
       "5. 'VMR'\n",
       "6. 'Max_reads'\n",
       "7. 'Singletons'\n",
       "8. 'Doubletons'\n",
       "9. 'qD'\n",
       "10. 'Sample_Coverage'\n",
       "11. 'observed_Richness'\n",
       "12. 'estimated_Richness'\n",
       "13. 'SE_Richeness'\n",
       "14. 'observed_Shannon'\n",
       "15. 'estimated_Shannon'\n",
       "16. 'SE_Shannon'\n",
       "17. 'observed_Simpson'\n",
       "18. 'estimated_Simpson'\n",
       "19. 'SE_Simpson'\n",
       "20. 'Sample'\n",
       "21. 'Group'\n",
       "22. 'Patient'\n",
       "23. 'Cycle'\n",
       "24. 'sample_id'\n",
       "25. 'qD_0_3505'\n",
       "26. 'qD_1_3505'\n",
       "27. 'qD_2_3505'\n",
       "28. 'Disease_type'\n",
       "29. 'cancergroup'\n",
       "30. 'FOLD'\n",
       "31. 'ATC'\n",
       "32. 'Age'\n",
       "\n",
       "\n"
      ],
      "text/plain": [
       " [1] \"TRB\"                \"Reads\"              \"CPKR\"              \n",
       " [4] \"Average_reads\"      \"VMR\"                \"Max_reads\"         \n",
       " [7] \"Singletons\"         \"Doubletons\"         \"qD\"                \n",
       "[10] \"Sample_Coverage\"    \"observed_Richness\"  \"estimated_Richness\"\n",
       "[13] \"SE_Richeness\"       \"observed_Shannon\"   \"estimated_Shannon\" \n",
       "[16] \"SE_Shannon\"         \"observed_Simpson\"   \"estimated_Simpson\" \n",
       "[19] \"SE_Simpson\"         \"Sample\"             \"Group\"             \n",
       "[22] \"Patient\"            \"Cycle\"              \"sample_id\"         \n",
       "[25] \"qD_0_3505\"          \"qD_1_3505\"          \"qD_2_3505\"         \n",
       "[28] \"Disease_type\"       \"cancergroup\"        \"FOLD\"              \n",
       "[31] \"ATC\"                \"Age\"               "
      ]
     },
     "metadata": {},
     "output_type": "display_data"
    }
   ],
   "source": [
    "colnames(pbmc_metadata_div)"
   ]
  },
  {
   "cell_type": "code",
   "execution_count": 169,
   "metadata": {
    "vscode": {
     "languageId": "r"
    }
   },
   "outputs": [
    {
     "name": "stderr",
     "output_type": "stream",
     "text": [
      "Warning message:\n",
      "“Removed 24 rows containing missing values (geom_point).”\n"
     ]
    },
    {
     "data": {
      "image/png": "[encoded data removed]",
      "text/plain": [
       "plot without title"
      ]
     },
     "metadata": {
      "image/png": {
       "height": 420,
       "width": 420
      }
     },
     "output_type": "display_data"
    }
   ],
   "source": [
    "ggplot(data = pbmc_metadata_div, \n",
    "       aes( x = qD_1_3505, y = FOLD) ) + geom_point() + myplot + myaxis"
   ]
  },
  {
   "cell_type": "code",
   "execution_count": 63,
   "metadata": {
    "vscode": {
     "languageId": "r"
    }
   },
   "outputs": [],
   "source": [
    "myorder <- sort(tapply(pbmc_metadata_div$qD_1_3505, pbmc_metadata_div$Disease_type, median))"
   ]
  },
  {
   "cell_type": "code",
   "execution_count": 65,
   "metadata": {
    "vscode": {
     "languageId": "r"
    }
   },
   "outputs": [],
   "source": [
    "pbmc_metadata_div$Disease_type <- factor(pbmc_metadata_div$Disease_type, levels = names(myorder))"
   ]
  },
  {
   "cell_type": "code",
   "execution_count": 66,
   "metadata": {
    "vscode": {
     "languageId": "r"
    }
   },
   "outputs": [
    {
     "data": {
      "image/png": "[encoded data removed]",
      "text/plain": [
       "plot without title"
      ]
     },
     "metadata": {
      "image/png": {
       "height": 420,
       "width": 420
      }
     },
     "output_type": "display_data"
    }
   ],
   "source": [
    "divplot_cohort <- ggplot(data = pbmc_metadata_div,\n",
    "                 aes(x = Disease_type, y = qD_1_3505)) + \n",
    "geom_beeswarm(size = 5, color = \"light grey\", shape = 16, cex = 0.2) + \n",
    "geom_boxplot(width = 0.5, outlier.colour = NA, fill = NA) + \n",
    "myaxis + myplot +\n",
    "scale_color_manual(values = cohort_col) +\n",
    "theme(legend.position = \"none\", \n",
    "     axis.title.x = element_blank(),\n",
    "     axis.title.y = element_text(size = 40),\n",
    "     axis.text.x = element_text(size = 40),\n",
    "      axis.text.y = element_text(size = 40),\n",
    "     plot.title = element_text(size = 40, hjust = 0.5)) + \n",
    "labs(y = \"Shannon diversity at size = 3505\")\n",
    "divplot_cohort"
   ]
  },
  {
   "cell_type": "code",
   "execution_count": 67,
   "metadata": {
    "vscode": {
     "languageId": "r"
    }
   },
   "outputs": [
    {
     "data": {
      "text/html": [
       "<strong>pdf:</strong> 2"
      ],
      "text/latex": [
       "\\textbf{pdf:} 2"
      ],
      "text/markdown": [
       "**pdf:** 2"
      ],
      "text/plain": [
       "pdf \n",
       "  2 "
      ]
     },
     "metadata": {},
     "output_type": "display_data"
    }
   ],
   "source": [
    "pdf(paste0(plotpath, \"divplot_cohort.pdf\"),\n",
    "   width = 20, height = 10)\n",
    "divplot_cohort\n",
    "dev.off()"
   ]
  },
  {
   "cell_type": "code",
   "execution_count": 78,
   "metadata": {
    "vscode": {
     "languageId": "r"
    }
   },
   "outputs": [],
   "source": [
    "myorder <- sort(tapply(pbmc_metadata_div$qD_1_3505, pbmc_metadata_div$cancergroup, median))"
   ]
  },
  {
   "cell_type": "code",
   "execution_count": 79,
   "metadata": {
    "vscode": {
     "languageId": "r"
    }
   },
   "outputs": [
    {
     "data": {
      "text/html": [
       "<style>\n",
       ".dl-inline {width: auto; margin:0; padding: 0}\n",
       ".dl-inline>dt, .dl-inline>dd {float: none; width: auto; display: inline-block}\n",
       ".dl-inline>dt::after {content: \":\\0020\"; padding-right: .5ex}\n",
       ".dl-inline>dt:not(:first-of-type) {padding-left: .5ex}\n",
       "</style><dl class=dl-inline><dt>Leukemia</dt><dd>75.0625</dd><dt>Lymphoma</dt><dd>84.6305</dd><dt>Solid</dt><dd>88.366</dd><dt>LFS</dt><dd>133.4735</dd></dl>\n"
      ],
      "text/latex": [
       "\\begin{description*}\n",
       "\\item[Leukemia] 75.0625\n",
       "\\item[Lymphoma] 84.6305\n",
       "\\item[Solid] 88.366\n",
       "\\item[LFS] 133.4735\n",
       "\\end{description*}\n"
      ],
      "text/markdown": [
       "Leukemia\n",
       ":   75.0625Lymphoma\n",
       ":   84.6305Solid\n",
       ":   88.366LFS\n",
       ":   133.4735\n",
       "\n"
      ],
      "text/plain": [
       "Leukemia Lymphoma    Solid      LFS \n",
       " 75.0625  84.6305  88.3660 133.4735 "
      ]
     },
     "metadata": {},
     "output_type": "display_data"
    }
   ],
   "source": [
    "myorder"
   ]
  },
  {
   "cell_type": "code",
   "execution_count": 80,
   "metadata": {
    "vscode": {
     "languageId": "r"
    }
   },
   "outputs": [],
   "source": [
    "pbmc_metadata_div$cancergroup <- factor(pbmc_metadata_div$cancergroup, levels = names(myorder))"
   ]
  },
  {
   "cell_type": "code",
   "execution_count": 103,
   "metadata": {
    "vscode": {
     "languageId": "r"
    }
   },
   "outputs": [
    {
     "data": {
      "text/plain": [
       "\n",
       "\tWilcoxon rank sum exact test\n",
       "\n",
       "data:  pbmc_metadata_div$qD_1_3505[pbmc_metadata_div$cancergroup == \"LFS\"] and pbmc_metadata_div$qD_1_3505[pbmc_metadata_div$cancergroup == \"Lymphoma\"]\n",
       "W = 47, p-value = 0.07268\n",
       "alternative hypothesis: true location shift is not equal to 0\n"
      ]
     },
     "metadata": {},
     "output_type": "display_data"
    }
   ],
   "source": [
    "wilcox.test(pbmc_metadata_div$qD_1_3505[ pbmc_metadata_div$cancergroup == \"LFS\"],\n",
    "      pbmc_metadata_div$qD_1_3505[ pbmc_metadata_div$cancergroup == \"Lymphoma\"])"
   ]
  },
  {
   "cell_type": "code",
   "execution_count": 81,
   "metadata": {
    "vscode": {
     "languageId": "r"
    }
   },
   "outputs": [
    {
     "data": {
      "image/png": "[encoded data removed]",
      "text/plain": [
       "plot without title"
      ]
     },
     "metadata": {
      "image/png": {
       "height": 420,
       "width": 420
      }
     },
     "output_type": "display_data"
    }
   ],
   "source": [
    "divplot_cancer <- ggplot(data = pbmc_metadata_div,\n",
    "                 aes(x = cancergroup, y = qD_1_3505)) + \n",
    "geom_beeswarm(size = 5, color = \"light grey\", shape = 16, cex = 2) + \n",
    "geom_boxplot(width = 0.5, outlier.colour = NA, fill = NA) + \n",
    "myaxis + myplot +\n",
    "scale_color_manual(values = cohort_col) +\n",
    "theme(legend.position = \"none\", \n",
    "     axis.title.x = element_blank(),\n",
    "     axis.title.y = element_text(size = 40),\n",
    "     axis.text.x = element_text(size = 40),\n",
    "      axis.text.y = element_text(size = 40),\n",
    "     plot.title = element_text(size = 40, hjust = 0.5)) + \n",
    "labs(y = \"Shannon diversity at size = 3505\")\n",
    "divplot_cancer"
   ]
  },
  {
   "cell_type": "code",
   "execution_count": 82,
   "metadata": {
    "vscode": {
     "languageId": "r"
    }
   },
   "outputs": [
    {
     "data": {
      "text/html": [
       "<strong>pdf:</strong> 2"
      ],
      "text/latex": [
       "\\textbf{pdf:} 2"
      ],
      "text/markdown": [
       "**pdf:** 2"
      ],
      "text/plain": [
       "pdf \n",
       "  2 "
      ]
     },
     "metadata": {},
     "output_type": "display_data"
    }
   ],
   "source": [
    "pdf(paste0(plotpath, \"divplot_cancergroup.pdf\"),\n",
    "   width = 10, height = 10)\n",
    "divplot_cancer\n",
    "dev.off()"
   ]
  },
  {
   "cell_type": "code",
   "execution_count": 83,
   "metadata": {
    "vscode": {
     "languageId": "r"
    }
   },
   "outputs": [
    {
     "data": {
      "image/png": "[encoded data removed]",
      "text/plain": [
       "plot without title"
      ]
     },
     "metadata": {
      "image/png": {
       "height": 420,
       "width": 420
      }
     },
     "output_type": "display_data"
    }
   ],
   "source": [
    "divplot_cancer <- ggplot(data = pbmc_metadata_div,\n",
    "                 aes(x = cancergroup, y = observed_Shannon)) + \n",
    "geom_beeswarm(size = 5, color = \"light grey\", shape = 16, cex = 2) + \n",
    "geom_boxplot(width = 0.5, outlier.colour = NA, fill = NA) + \n",
    "myaxis + myplot +\n",
    "scale_color_manual(values = cohort_col) +\n",
    "theme(legend.position = \"none\", \n",
    "     axis.title.x = element_blank(),\n",
    "     axis.title.y = element_text(size = 40),\n",
    "     axis.text.x = element_text(size = 40),\n",
    "      axis.text.y = element_text(size = 40),\n",
    "     plot.title = element_text(size = 40, hjust = 0.5)) + \n",
    "labs(y = \"Asymptotic Shannon diversity\")\n",
    "divplot_cancer"
   ]
  },
  {
   "cell_type": "code",
   "execution_count": 84,
   "metadata": {
    "vscode": {
     "languageId": "r"
    }
   },
   "outputs": [
    {
     "data": {
      "text/html": [
       "<strong>pdf:</strong> 2"
      ],
      "text/latex": [
       "\\textbf{pdf:} 2"
      ],
      "text/markdown": [
       "**pdf:** 2"
      ],
      "text/plain": [
       "pdf \n",
       "  2 "
      ]
     },
     "metadata": {},
     "output_type": "display_data"
    }
   ],
   "source": [
    "pdf(paste0(plotpath, \"divplot_cancergroup_asymp.pdf\"),\n",
    "   width = 10, height = 10)\n",
    "divplot_cancer\n",
    "dev.off()"
   ]
  },
  {
   "cell_type": "code",
   "execution_count": null,
   "metadata": {
    "vscode": {
     "languageId": "r"
    }
   },
   "outputs": [],
   "source": []
  },
  {
   "cell_type": "code",
   "execution_count": null,
   "metadata": {
    "vscode": {
     "languageId": "r"
    }
   },
   "outputs": [],
   "source": []
  },
  {
   "cell_type": "code",
   "execution_count": null,
   "metadata": {
    "vscode": {
     "languageId": "r"
    }
   },
   "outputs": [],
   "source": []
  },
  {
   "cell_type": "code",
   "execution_count": null,
   "metadata": {
    "vscode": {
     "languageId": "r"
    }
   },
   "outputs": [],
   "source": []
  },
  {
   "cell_type": "code",
   "execution_count": 4,
   "metadata": {
    "vscode": {
     "languageId": "r"
    }
   },
   "outputs": [],
   "source": [
    "divstats <- read.csv(paste0(datapath, \"capTCRseq/divstats_TRBCHP.csv\"), header = T, stringsAsFactors = F, row.names = 1)"
   ]
  },
  {
   "cell_type": "code",
   "execution_count": 5,
   "metadata": {
    "vscode": {
     "languageId": "r"
    }
   },
   "outputs": [
    {
     "data": {
      "text/html": [
       "<style>\n",
       ".list-inline {list-style: none; margin:0; padding: 0}\n",
       ".list-inline>li {display: inline-block}\n",
       ".list-inline>li:not(:last-child)::after {content: \"\\00b7\"; padding: 0 .5ex}\n",
       "</style>\n",
       "<ol class=list-inline><li>514</li><li>19</li></ol>\n"
      ],
      "text/latex": [
       "\\begin{enumerate*}\n",
       "\\item 514\n",
       "\\item 19\n",
       "\\end{enumerate*}\n"
      ],
      "text/markdown": [
       "1. 514\n",
       "2. 19\n",
       "\n",
       "\n"
      ],
      "text/plain": [
       "[1] 514  19"
      ]
     },
     "metadata": {},
     "output_type": "display_data"
    }
   ],
   "source": [
    "dim(divstats)"
   ]
  },
  {
   "cell_type": "markdown",
   "metadata": {},
   "source": [
    "Separate samples"
   ]
  },
  {
   "cell_type": "code",
   "execution_count": 6,
   "metadata": {
    "vscode": {
     "languageId": "r"
    }
   },
   "outputs": [],
   "source": [
    "divstats$Sample <- NA\n",
    "divstats$Sample[grepl(\"PBMC\", rownames(divstats))] <- \"PBMC\"\n",
    "divstats$Sample[grepl(\"cfDNA\", rownames(divstats))] <- \"cfDNA\"\n",
    "divstats$Sample[grepl(\"FFPE\", rownames(divstats))] <- \"Tumor\""
   ]
  },
  {
   "cell_type": "markdown",
   "metadata": {},
   "source": [
    "Separate LFS and non-LFS"
   ]
  },
  {
   "cell_type": "code",
   "execution_count": 48,
   "metadata": {
    "vscode": {
     "languageId": "r"
    }
   },
   "outputs": [],
   "source": [
    "divstats$Group <- NA\n",
    "divstats$Group[grepl(\"LFS\", rownames(divstats))] <- \"LFS\"\n",
    "divstats$Group[grepl(\"CHP\", rownames(divstats))] <- \"CHP\""
   ]
  },
  {
   "cell_type": "code",
   "execution_count": 10,
   "metadata": {
    "vscode": {
     "languageId": "r"
    }
   },
   "outputs": [
    {
     "data": {
      "text/plain": [
       "$cfDNA\n",
       "   Min. 1st Qu.  Median    Mean 3rd Qu.    Max. \n",
       "   1.00    4.00    8.00   15.40   16.25  220.00 \n",
       "\n",
       "$PBMC\n",
       "   Min. 1st Qu.  Median    Mean 3rd Qu.    Max. \n",
       "    2.0    55.0   146.0   253.5   352.0  2237.0 \n",
       "\n",
       "$Tumor\n",
       "   Min. 1st Qu.  Median    Mean 3rd Qu.    Max. \n",
       "   2.00    5.00    9.00   37.71   75.00  145.00 \n"
      ]
     },
     "metadata": {},
     "output_type": "display_data"
    }
   ],
   "source": [
    "tapply(divstats$TRB, divstats$Sample, summary)"
   ]
  },
  {
   "cell_type": "code",
   "execution_count": 81,
   "metadata": {
    "vscode": {
     "languageId": "r"
    }
   },
   "outputs": [
    {
     "name": "stderr",
     "output_type": "stream",
     "text": [
      "`stat_bin()` using `bins = 30`. Pick better value with `binwidth`.\n",
      "\n"
     ]
    },
    {
     "data": {
      "image/png": "[encoded data removed]",
      "text/plain": [
       "plot without title"
      ]
     },
     "metadata": {
      "image/png": {
       "height": 420,
       "width": 420
      }
     },
     "output_type": "display_data"
    }
   ],
   "source": [
    "histp(divstats, \"TRB\")"
   ]
  },
  {
   "cell_type": "markdown",
   "metadata": {},
   "source": [
    "Get patient ids"
   ]
  },
  {
   "cell_type": "code",
   "execution_count": 55,
   "metadata": {
    "vscode": {
     "languageId": "r"
    }
   },
   "outputs": [],
   "source": [
    "divstats$Patient <- NA\n",
    "# CHP\n",
    "divstats$Patient[divstats$Group == \"CHP\"] <- substr(rownames(divstats)[divstats$Group == \"CHP\"],1,7)\n",
    "# Normal samples have either YO or MO\n",
    "divstats$Patient[grepl(\"YO\", rownames(divstats))] <- gsub(\"_PBMC_DNA\", \"\", rownames(divstats)[grepl(\"YO\", rownames(divstats))])\n",
    "divstats$Patient[grepl(\"MO\", rownames(divstats))] <- gsub(\"_PBMC_DNA\", \"\", rownames(divstats)[grepl(\"MO\", rownames(divstats))])\n",
    "# LFS\n",
    "divstats$Patient[divstats$Group == \"LFS\"] <- substr(rownames(divstats)[divstats$Group == \"LFS\"],1,12)"
   ]
  },
  {
   "cell_type": "markdown",
   "metadata": {},
   "source": [
    "Get cycles. For LFS, Normals and Tumors recode to 00"
   ]
  },
  {
   "cell_type": "code",
   "execution_count": 56,
   "metadata": {
    "vscode": {
     "languageId": "r"
    }
   },
   "outputs": [],
   "source": [
    "divstats$Cycle <- NA\n",
    "divstats$Cycle[divstats$Group == \"CHP\"] <- substr(rownames(divstats)[divstats$Group == \"CHP\"],9,10)\n",
    "\n",
    "divstats$Cycle[grepl(\"YO\", rownames(divstats))] <- \"00\"\n",
    "divstats$Cycle[grepl(\"MO\", rownames(divstats))] <- \"00\"\n",
    "divstats$Cycle[ divstats$Sample == \"Tumor\"] <- \"00\"\n",
    "divstats$Cycle[ divstats$Group == \"LFS\"] <- \"00\""
   ]
  },
  {
   "cell_type": "code",
   "execution_count": 89,
   "metadata": {
    "vscode": {
     "languageId": "r"
    }
   },
   "outputs": [
    {
     "data": {
      "text/plain": [
       "\n",
       "  CHP_10YO-M   CHP_11YO-M CHP_15YO-F-A CHP_15YO-F-B   CHP_15YO-M   CHP_16YO-M \n",
       "           1            1            1            1            1            1 \n",
       " CHP_1YO-M-A  CHP_1YO-M-B    CHP_2YO-M      CHP_303      CHP_315      CHP_319 \n",
       "           1            1            1            1            1            1 \n",
       "     CHP_323      CHP_324      CHP_329      CHP_330      CHP_331      CHP_335 \n",
       "           3            1            1            1            2            1 \n",
       "     CHP_336      CHP_337      CHP_338      CHP_339      CHP_340      CHP_342 \n",
       "           1            1            3            2            3            1 \n",
       "     CHP_343      CHP_344      CHP_345      CHP_346      CHP_347      CHP_348 \n",
       "           4            4            4            1            5            5 \n",
       "     CHP_349      CHP_350      CHP_351      CHP_352      CHP_353      CHP_354 \n",
       "           2            5            3            2            4            1 \n",
       "     CHP_355      CHP_356      CHP_357      CHP_358      CHP_359      CHP_360 \n",
       "           2            3            5            4            4            4 \n",
       "     CHP_361      CHP_362      CHP_363      CHP_364      CHP_365      CHP_366 \n",
       "           5            4            4            3            4            4 \n",
       "     CHP_367      CHP_368      CHP_369      CHP_370      CHP_371      CHP_372 \n",
       "           3            3            2            4            2            1 \n",
       "     CHP_373      CHP_374      CHP_375      CHP_376      CHP_377      CHP_378 \n",
       "           3            3            3            2            3            3 \n",
       "     CHP_380      CHP_381      CHP_382      CHP_383      CHP_385      CHP_386 \n",
       "           3            2            4            1            2            1 \n",
       "     CHP_387      CHP_388      CHP_389      CHP_390      CHP_391      CHP_392 \n",
       "           3            2            2            2            3            2 \n",
       "     CHP_393      CHP_394      CHP_396      CHP_397      CHP_398      CHP_399 \n",
       "           2            1            4            5            1            4 \n",
       "   CHP_3YO-F  CHP_3YO-M-A  CHP_3YO-M-B      CHP_400      CHP_401      CHP_402 \n",
       "           1            1            1            1            4            2 \n",
       "     CHP_403      CHP_404      CHP_405      CHP_406      CHP_407      CHP_408 \n",
       "           2            4            4            1            2            1 \n",
       "     CHP_409      CHP_410      CHP_411      CHP_412      CHP_413      CHP_414 \n",
       "           2            1            1            2            1            3 \n",
       "     CHP_415      CHP_416      CHP_418      CHP_419      CHP_420      CHP_422 \n",
       "           3            1            2            1            1            1 \n",
       "   CHP_5YO-M    CHP_8MO-F      CHP-328      CHP-342      CHP-351      CHP-353 \n",
       "           1            1            2            1            1            1 \n",
       "     CHP-363      CHP-369      CHP-371      CHP-377      CHP-386      CHP-398 \n",
       "           1            1            1            1            2            1 \n",
       "     CHP-404      CHP-411      CHP-416      CHP-417 LFS_TCR-4535 LFS_TCR-4570 \n",
       "           1            1            1            1            1            1 \n",
       "LFS_TCR-4602 LFS_TCR-4758 LFS_TCR-4759 LFS_TCR-4783 LFS_TCR-4837 LFS_TCR-4838 \n",
       "           1            1            1            1            1            1 \n",
       "LFS_TCR-5014 LFS_TCR-5067 \n",
       "           1            1 "
      ]
     },
     "metadata": {},
     "output_type": "display_data"
    }
   ],
   "source": [
    "(table(divstats$Patient[ divstats$Sample == \"PBMC\"]))"
   ]
  },
  {
   "cell_type": "code",
   "execution_count": 83,
   "metadata": {
    "vscode": {
     "languageId": "r"
    }
   },
   "outputs": [],
   "source": [
    "write.csv(divstats,\n",
    "          paste0(datapath, \"capTCRseq/divstats_TRBCHP.csv\"), row.names = TRUE)"
   ]
  },
  {
   "cell_type": "markdown",
   "metadata": {},
   "source": [
    "# Test dataset"
   ]
  },
  {
   "cell_type": "code",
   "execution_count": 13,
   "metadata": {
    "vscode": {
     "languageId": "r"
    }
   },
   "outputs": [
    {
     "name": "stderr",
     "output_type": "stream",
     "text": [
      "number of clones in file:CLONES_TRBaddjurkat_112.75_0.25.txt\n",
      "\n"
     ]
    },
    {
     "name": "stdout",
     "output_type": "stream",
     "text": [
      "[1] 159\n"
     ]
    },
    {
     "name": "stderr",
     "output_type": "stream",
     "text": [
      "number of non prodcutive CDR3s:\n",
      "\n"
     ]
    },
    {
     "name": "stdout",
     "output_type": "stream",
     "text": [
      "[1] 0\n"
     ]
    },
    {
     "name": "stderr",
     "output_type": "stream",
     "text": [
      "nonproductive aaCDR3 removed\n",
      "\n",
      "number of clones in file:CLONES_TRBaddjurkat_135.3_0.3.txt\n",
      "\n"
     ]
    },
    {
     "name": "stdout",
     "output_type": "stream",
     "text": [
      "[1] 149\n"
     ]
    },
    {
     "name": "stderr",
     "output_type": "stream",
     "text": [
      "number of non prodcutive CDR3s:\n",
      "\n"
     ]
    },
    {
     "name": "stdout",
     "output_type": "stream",
     "text": [
      "[1] 0\n"
     ]
    },
    {
     "name": "stderr",
     "output_type": "stream",
     "text": [
      "nonproductive aaCDR3 removed\n",
      "\n",
      "number of clones in file:CLONES_TRBaddjurkat_157.85_0.35.txt\n",
      "\n"
     ]
    },
    {
     "name": "stdout",
     "output_type": "stream",
     "text": [
      "[1] 139\n"
     ]
    },
    {
     "name": "stderr",
     "output_type": "stream",
     "text": [
      "number of non prodcutive CDR3s:\n",
      "\n"
     ]
    },
    {
     "name": "stdout",
     "output_type": "stream",
     "text": [
      "[1] 0\n"
     ]
    },
    {
     "name": "stderr",
     "output_type": "stream",
     "text": [
      "nonproductive aaCDR3 removed\n",
      "\n",
      "number of clones in file:CLONES_TRBaddjurkat_180.4_0.4.txt\n",
      "\n"
     ]
    },
    {
     "name": "stdout",
     "output_type": "stream",
     "text": [
      "[1] 126\n"
     ]
    },
    {
     "name": "stderr",
     "output_type": "stream",
     "text": [
      "number of non prodcutive CDR3s:\n",
      "\n"
     ]
    },
    {
     "name": "stdout",
     "output_type": "stream",
     "text": [
      "[1] 0\n"
     ]
    },
    {
     "name": "stderr",
     "output_type": "stream",
     "text": [
      "nonproductive aaCDR3 removed\n",
      "\n",
      "number of clones in file:CLONES_TRBaddjurkat_202.95_0.45.txt\n",
      "\n"
     ]
    },
    {
     "name": "stdout",
     "output_type": "stream",
     "text": [
      "[1] 116\n"
     ]
    },
    {
     "name": "stderr",
     "output_type": "stream",
     "text": [
      "number of non prodcutive CDR3s:\n",
      "\n"
     ]
    },
    {
     "name": "stdout",
     "output_type": "stream",
     "text": [
      "[1] 0\n"
     ]
    },
    {
     "name": "stderr",
     "output_type": "stream",
     "text": [
      "nonproductive aaCDR3 removed\n",
      "\n",
      "number of clones in file:CLONES_TRBaddjurkat_22.55_0.05.txt\n",
      "\n"
     ]
    },
    {
     "name": "stdout",
     "output_type": "stream",
     "text": [
      "[1] 195\n"
     ]
    },
    {
     "name": "stderr",
     "output_type": "stream",
     "text": [
      "number of non prodcutive CDR3s:\n",
      "\n"
     ]
    },
    {
     "name": "stdout",
     "output_type": "stream",
     "text": [
      "[1] 0\n"
     ]
    },
    {
     "name": "stderr",
     "output_type": "stream",
     "text": [
      "nonproductive aaCDR3 removed\n",
      "\n",
      "number of clones in file:CLONES_TRBaddjurkat_225.5_0.5.txt\n",
      "\n"
     ]
    },
    {
     "name": "stdout",
     "output_type": "stream",
     "text": [
      "[1] 106\n"
     ]
    },
    {
     "name": "stderr",
     "output_type": "stream",
     "text": [
      "number of non prodcutive CDR3s:\n",
      "\n"
     ]
    },
    {
     "name": "stdout",
     "output_type": "stream",
     "text": [
      "[1] 0\n"
     ]
    },
    {
     "name": "stderr",
     "output_type": "stream",
     "text": [
      "nonproductive aaCDR3 removed\n",
      "\n",
      "number of clones in file:CLONES_TRBaddjurkat_248.05_0.55.txt\n",
      "\n"
     ]
    },
    {
     "name": "stdout",
     "output_type": "stream",
     "text": [
      "[1] 98\n"
     ]
    },
    {
     "name": "stderr",
     "output_type": "stream",
     "text": [
      "number of non prodcutive CDR3s:\n",
      "\n"
     ]
    },
    {
     "name": "stdout",
     "output_type": "stream",
     "text": [
      "[1] 0\n"
     ]
    },
    {
     "name": "stderr",
     "output_type": "stream",
     "text": [
      "nonproductive aaCDR3 removed\n",
      "\n",
      "number of clones in file:CLONES_TRBaddjurkat_270.6_0.6.txt\n",
      "\n"
     ]
    },
    {
     "name": "stdout",
     "output_type": "stream",
     "text": [
      "[1] 91\n"
     ]
    },
    {
     "name": "stderr",
     "output_type": "stream",
     "text": [
      "number of non prodcutive CDR3s:\n",
      "\n"
     ]
    },
    {
     "name": "stdout",
     "output_type": "stream",
     "text": [
      "[1] 0\n"
     ]
    },
    {
     "name": "stderr",
     "output_type": "stream",
     "text": [
      "nonproductive aaCDR3 removed\n",
      "\n",
      "number of clones in file:CLONES_TRBaddjurkat_293.15_0.65.txt\n",
      "\n"
     ]
    },
    {
     "name": "stdout",
     "output_type": "stream",
     "text": [
      "[1] 78\n"
     ]
    },
    {
     "name": "stderr",
     "output_type": "stream",
     "text": [
      "number of non prodcutive CDR3s:\n",
      "\n"
     ]
    },
    {
     "name": "stdout",
     "output_type": "stream",
     "text": [
      "[1] 0\n"
     ]
    },
    {
     "name": "stderr",
     "output_type": "stream",
     "text": [
      "nonproductive aaCDR3 removed\n",
      "\n",
      "number of clones in file:CLONES_TRBaddjurkat_315.7_0.7.txt\n",
      "\n"
     ]
    },
    {
     "name": "stdout",
     "output_type": "stream",
     "text": [
      "[1] 70\n"
     ]
    },
    {
     "name": "stderr",
     "output_type": "stream",
     "text": [
      "number of non prodcutive CDR3s:\n",
      "\n"
     ]
    },
    {
     "name": "stdout",
     "output_type": "stream",
     "text": [
      "[1] 0\n"
     ]
    },
    {
     "name": "stderr",
     "output_type": "stream",
     "text": [
      "nonproductive aaCDR3 removed\n",
      "\n",
      "number of clones in file:CLONES_TRBaddjurkat_338.25_0.75.txt\n",
      "\n"
     ]
    },
    {
     "name": "stdout",
     "output_type": "stream",
     "text": [
      "[1] 61\n"
     ]
    },
    {
     "name": "stderr",
     "output_type": "stream",
     "text": [
      "number of non prodcutive CDR3s:\n",
      "\n"
     ]
    },
    {
     "name": "stdout",
     "output_type": "stream",
     "text": [
      "[1] 0\n"
     ]
    },
    {
     "name": "stderr",
     "output_type": "stream",
     "text": [
      "nonproductive aaCDR3 removed\n",
      "\n",
      "number of clones in file:CLONES_TRBaddjurkat_360.8_0.8.txt\n",
      "\n"
     ]
    },
    {
     "name": "stdout",
     "output_type": "stream",
     "text": [
      "[1] 47\n"
     ]
    },
    {
     "name": "stderr",
     "output_type": "stream",
     "text": [
      "number of non prodcutive CDR3s:\n",
      "\n"
     ]
    },
    {
     "name": "stdout",
     "output_type": "stream",
     "text": [
      "[1] 0\n"
     ]
    },
    {
     "name": "stderr",
     "output_type": "stream",
     "text": [
      "nonproductive aaCDR3 removed\n",
      "\n",
      "number of clones in file:CLONES_TRBaddjurkat_383.35_0.85.txt\n",
      "\n"
     ]
    },
    {
     "name": "stdout",
     "output_type": "stream",
     "text": [
      "[1] 39\n"
     ]
    },
    {
     "name": "stderr",
     "output_type": "stream",
     "text": [
      "number of non prodcutive CDR3s:\n",
      "\n"
     ]
    },
    {
     "name": "stdout",
     "output_type": "stream",
     "text": [
      "[1] 0\n"
     ]
    },
    {
     "name": "stderr",
     "output_type": "stream",
     "text": [
      "nonproductive aaCDR3 removed\n",
      "\n",
      "number of clones in file:CLONES_TRBaddjurkat_405.9_0.9.txt\n",
      "\n"
     ]
    },
    {
     "name": "stdout",
     "output_type": "stream",
     "text": [
      "[1] 26\n"
     ]
    },
    {
     "name": "stderr",
     "output_type": "stream",
     "text": [
      "number of non prodcutive CDR3s:\n",
      "\n"
     ]
    },
    {
     "name": "stdout",
     "output_type": "stream",
     "text": [
      "[1] 0\n"
     ]
    },
    {
     "name": "stderr",
     "output_type": "stream",
     "text": [
      "nonproductive aaCDR3 removed\n",
      "\n",
      "number of clones in file:CLONES_TRBaddjurkat_428.45_0.95.txt\n",
      "\n"
     ]
    },
    {
     "name": "stdout",
     "output_type": "stream",
     "text": [
      "[1] 14\n"
     ]
    },
    {
     "name": "stderr",
     "output_type": "stream",
     "text": [
      "number of non prodcutive CDR3s:\n",
      "\n"
     ]
    },
    {
     "name": "stdout",
     "output_type": "stream",
     "text": [
      "[1] 0\n"
     ]
    },
    {
     "name": "stderr",
     "output_type": "stream",
     "text": [
      "nonproductive aaCDR3 removed\n",
      "\n",
      "number of clones in file:CLONES_TRBaddjurkat_45.1_0.1.txt\n",
      "\n"
     ]
    },
    {
     "name": "stdout",
     "output_type": "stream",
     "text": [
      "[1] 188\n"
     ]
    },
    {
     "name": "stderr",
     "output_type": "stream",
     "text": [
      "number of non prodcutive CDR3s:\n",
      "\n"
     ]
    },
    {
     "name": "stdout",
     "output_type": "stream",
     "text": [
      "[1] 0\n"
     ]
    },
    {
     "name": "stderr",
     "output_type": "stream",
     "text": [
      "nonproductive aaCDR3 removed\n",
      "\n",
      "number of clones in file:CLONES_TRBaddjurkat_451_1.txt\n",
      "\n"
     ]
    },
    {
     "name": "stdout",
     "output_type": "stream",
     "text": [
      "[1] 1\n"
     ]
    },
    {
     "name": "stderr",
     "output_type": "stream",
     "text": [
      "number of non prodcutive CDR3s:\n",
      "\n"
     ]
    },
    {
     "name": "stdout",
     "output_type": "stream",
     "text": [
      "[1] 0\n"
     ]
    },
    {
     "name": "stderr",
     "output_type": "stream",
     "text": [
      "nonproductive aaCDR3 removed\n",
      "\n",
      "number of clones in file:CLONES_TRBaddjurkat_67.65_0.15.txt\n",
      "\n"
     ]
    },
    {
     "name": "stdout",
     "output_type": "stream",
     "text": [
      "[1] 178\n"
     ]
    },
    {
     "name": "stderr",
     "output_type": "stream",
     "text": [
      "number of non prodcutive CDR3s:\n",
      "\n"
     ]
    },
    {
     "name": "stdout",
     "output_type": "stream",
     "text": [
      "[1] 0\n"
     ]
    },
    {
     "name": "stderr",
     "output_type": "stream",
     "text": [
      "nonproductive aaCDR3 removed\n",
      "\n",
      "number of clones in file:CLONES_TRBaddjurkat_90.2_0.2.txt\n",
      "\n"
     ]
    },
    {
     "name": "stdout",
     "output_type": "stream",
     "text": [
      "[1] 169\n"
     ]
    },
    {
     "name": "stderr",
     "output_type": "stream",
     "text": [
      "number of non prodcutive CDR3s:\n",
      "\n"
     ]
    },
    {
     "name": "stdout",
     "output_type": "stream",
     "text": [
      "[1] 0\n"
     ]
    },
    {
     "name": "stderr",
     "output_type": "stream",
     "text": [
      "nonproductive aaCDR3 removed\n",
      "\n",
      "number of clones in file:CLONES_TRBA037.txt\n",
      "\n"
     ]
    },
    {
     "name": "stdout",
     "output_type": "stream",
     "text": [
      "[1] 256\n"
     ]
    },
    {
     "name": "stderr",
     "output_type": "stream",
     "text": [
      "number of non prodcutive CDR3s:\n",
      "\n"
     ]
    },
    {
     "name": "stdout",
     "output_type": "stream",
     "text": [
      "[1] 55\n"
     ]
    },
    {
     "name": "stderr",
     "output_type": "stream",
     "text": [
      "nonproductive aaCDR3 removed\n",
      "\n"
     ]
    }
   ],
   "source": [
    "file_list <- list.files(paste0(datapath, \"capTCRseq/testdataset/\"), pattern = \"addjurkat\", recursive = T)\n",
    "\n",
    "file_list <- c(file_list, \"CLONES_TRBA037.txt\")\n",
    "\n",
    "file_list <- file_list[!grepl(\"csv\", file_list)]\n",
    "\n",
    "test_immunelist <- immunelistfx(file_list, paste0(datapath, \"capTCRseq/testdataset/\"), \"TRB\")"
   ]
  },
  {
   "cell_type": "code",
   "execution_count": 14,
   "metadata": {
    "vscode": {
     "languageId": "r"
    }
   },
   "outputs": [],
   "source": [
    "divstats_test <- read.csv(paste0(datapath, \"capTCRseq/testdataset/divstats_TRBaddjurkat.csv\"), \n",
    "                          header = T, stringsAsFactors = F, row.names = 1)"
   ]
  },
  {
   "cell_type": "code",
   "execution_count": 15,
   "metadata": {
    "vscode": {
     "languageId": "r"
    }
   },
   "outputs": [
    {
     "data": {
      "text/html": [
       "<table class=\"dataframe\">\n",
       "<caption>A data.frame: 21 × 19</caption>\n",
       "<thead>\n",
       "\t<tr><th></th><th scope=col>TRB</th><th scope=col>Reads</th><th scope=col>CPKR</th><th scope=col>Average_reads</th><th scope=col>VMR</th><th scope=col>Max_reads</th><th scope=col>Singletons</th><th scope=col>Doubletons</th><th scope=col>qD</th><th scope=col>Sample_Coverage</th><th scope=col>observed_Richness</th><th scope=col>estimated_Richness</th><th scope=col>SE_Richeness</th><th scope=col>observed_Shannon</th><th scope=col>estimated_Shannon</th><th scope=col>SE_Shannon</th><th scope=col>observed_Simpson</th><th scope=col>estimated_Simpson</th><th scope=col>SE_Simpson</th></tr>\n",
       "\t<tr><th></th><th scope=col>&lt;int&gt;</th><th scope=col>&lt;int&gt;</th><th scope=col>&lt;dbl&gt;</th><th scope=col>&lt;dbl&gt;</th><th scope=col>&lt;dbl&gt;</th><th scope=col>&lt;int&gt;</th><th scope=col>&lt;int&gt;</th><th scope=col>&lt;int&gt;</th><th scope=col>&lt;dbl&gt;</th><th scope=col>&lt;dbl&gt;</th><th scope=col>&lt;int&gt;</th><th scope=col>&lt;dbl&gt;</th><th scope=col>&lt;dbl&gt;</th><th scope=col>&lt;dbl&gt;</th><th scope=col>&lt;dbl&gt;</th><th scope=col>&lt;dbl&gt;</th><th scope=col>&lt;dbl&gt;</th><th scope=col>&lt;dbl&gt;</th><th scope=col>&lt;dbl&gt;</th></tr>\n",
       "</thead>\n",
       "<tbody>\n",
       "\t<tr><th scope=row>addjurkat_112.75_0.25</th><td>159</td><td>452</td><td>351.769912</td><td>  2.842767</td><td>3.0917208</td><td>112</td><td>58</td><td>44</td><td>188.784</td><td>0.972</td><td>159</td><td>197.143</td><td>13.097</td><td> 71.158</td><td> 91.250</td><td>7.381</td><td> 15.145</td><td> 15.635</td><td> 2.446</td></tr>\n",
       "\t<tr><th scope=row>addjurkat_135.3_0.3</th><td>149</td><td>453</td><td>328.918322</td><td>  3.040268</td><td>3.6000507</td><td>135</td><td>54</td><td>42</td><td>176.332</td><td>0.975</td><td>149</td><td>183.638</td><td>12.332</td><td> 55.794</td><td> 70.304</td><td>5.980</td><td> 10.740</td><td> 10.977</td><td> 1.562</td></tr>\n",
       "\t<tr><th scope=row>addjurkat_157.85_0.35</th><td>139</td><td>451</td><td>308.203991</td><td>  3.244604</td><td>4.0642777</td><td>157</td><td>51</td><td>40</td><td>164.687</td><td>0.977</td><td>139</td><td>171.440</td><td>11.887</td><td> 43.327</td><td> 53.823</td><td>4.720</td><td>  7.989</td><td>  8.115</td><td> 1.040</td></tr>\n",
       "\t<tr><th scope=row>addjurkat_180.4_0.4</th><td>126</td><td>451</td><td>279.379157</td><td>  3.579365</td><td>4.4382934</td><td>180</td><td>45</td><td>35</td><td>148.777</td><td>0.979</td><td>126</td><td>154.864</td><td>11.257</td><td> 32.830</td><td> 39.916</td><td>3.531</td><td>  6.134</td><td>  6.205</td><td> 0.675</td></tr>\n",
       "\t<tr><th scope=row>addjurkat_202.95_0.45</th><td>116</td><td>451</td><td>257.206208</td><td>  3.887931</td><td>4.7816386</td><td>202</td><td>41</td><td>32</td><td>136.710</td><td>0.981</td><td>116</td><td>142.207</td><td>10.709</td><td> 25.357</td><td> 30.335</td><td>2.896</td><td>  4.901</td><td>  4.944</td><td> 0.481</td></tr>\n",
       "\t<tr><th scope=row>addjurkat_22.55_0.05</th><td>195</td><td>451</td><td>432.372506</td><td>  2.312821</td><td>0.8177325</td><td> 22</td><td>72</td><td>51</td><td>233.424</td><td>0.961</td><td>195</td><td>245.711</td><td>15.621</td><td>158.226</td><td>215.800</td><td>9.032</td><td>117.099</td><td>157.815</td><td>14.306</td></tr>\n",
       "\t<tr><th scope=row>addjurkat_225.5_0.5</th><td>106</td><td>451</td><td>235.033259</td><td>  4.254717</td><td>5.0942701</td><td>225</td><td>38</td><td>28</td><td>125.840</td><td>0.981</td><td>106</td><td>131.729</td><td>10.911</td><td> 19.284</td><td> 22.763</td><td>2.549</td><td>  3.969</td><td>  3.995</td><td> 0.366</td></tr>\n",
       "\t<tr><th scope=row>addjurkat_248.05_0.55</th><td> 98</td><td>452</td><td>216.814159</td><td>  4.612245</td><td>5.3912300</td><td>248</td><td>37</td><td>27</td><td>117.423</td><td>0.981</td><td> 98</td><td>123.296</td><td>10.871</td><td> 14.750</td><td> 17.228</td><td>2.000</td><td>  3.292</td><td>  3.309</td><td> 0.282</td></tr>\n",
       "\t<tr><th scope=row>addjurkat_270.6_0.6</th><td> 91</td><td>453</td><td>200.883002</td><td>  4.978022</td><td>5.6473161</td><td>270</td><td>36</td><td>26</td><td>110.007</td><td>0.981</td><td> 91</td><td>115.868</td><td>10.834</td><td> 11.444</td><td> 13.243</td><td>1.452</td><td>  2.796</td><td>  2.808</td><td> 0.227</td></tr>\n",
       "\t<tr><th scope=row>addjurkat_293.15_0.65</th><td> 78</td><td>451</td><td>172.949002</td><td>  5.782051</td><td>5.7009256</td><td>293</td><td>31</td><td>21</td><td> 94.946</td><td>0.982</td><td> 78</td><td>100.830</td><td>10.719</td><td>  8.335</td><td>  9.464</td><td>1.023</td><td>  2.358</td><td>  2.365</td><td> 0.154</td></tr>\n",
       "\t<tr><th scope=row>addjurkat_315.7_0.7</th><td> 70</td><td>452</td><td>154.867257</td><td>  6.457143</td><td>5.7965625</td><td>315</td><td>30</td><td>18</td><td> 87.439</td><td>0.980</td><td> 70</td><td> 94.945</td><td>11.936</td><td>  6.382</td><td>  7.189</td><td>0.775</td><td>  2.052</td><td>  2.056</td><td> 0.129</td></tr>\n",
       "\t<tr><th scope=row>addjurkat_338.25_0.75</th><td> 61</td><td>451</td><td>135.254989</td><td>  7.393443</td><td>5.8224237</td><td>338</td><td>28</td><td>16</td><td> 77.658</td><td>0.980</td><td> 61</td><td> 85.446</td><td>12.131</td><td>  4.734</td><td>  5.271</td><td>0.607</td><td>  1.776</td><td>  1.779</td><td> 0.091</td></tr>\n",
       "\t<tr><th scope=row>addjurkat_360.8_0.8</th><td> 47</td><td>451</td><td>104.212860</td><td>  9.595745</td><td>5.4433970</td><td>360</td><td>19</td><td>13</td><td> 57.331</td><td>0.989</td><td> 47</td><td> 60.854</td><td> 8.308</td><td>  3.488</td><td>  3.765</td><td>0.377</td><td>  1.567</td><td>  1.569</td><td> 0.076</td></tr>\n",
       "\t<tr><th scope=row>addjurkat_383.35_0.85</th><td> 39</td><td>453</td><td> 86.092715</td><td> 11.615385</td><td>5.2553170</td><td>383</td><td>17</td><td>13</td><td> 47.690</td><td>0.992</td><td> 39</td><td> 50.091</td><td> 7.035</td><td>  2.645</td><td>  2.817</td><td>0.227</td><td>  1.397</td><td>  1.399</td><td> 0.054</td></tr>\n",
       "\t<tr><th scope=row>addjurkat_405.9_0.9</th><td> 26</td><td>453</td><td> 57.395143</td><td> 17.423077</td><td>4.5376057</td><td>405</td><td>12</td><td> 6</td><td> 33.574</td><td>0.990</td><td> 26</td><td> 37.974</td><td> 9.146</td><td>  1.940</td><td>  2.032</td><td>0.164</td><td>  1.250</td><td>  1.251</td><td> 0.040</td></tr>\n",
       "\t<tr><th scope=row>addjurkat_428.45_0.95</th><td> 14</td><td>452</td><td> 30.973451</td><td> 32.285714</td><td>3.5278042</td><td>428</td><td> 6</td><td> 3</td><td> 17.787</td><td>0.995</td><td> 14</td><td> 19.987</td><td> 6.467</td><td>  1.402</td><td>  1.436</td><td>0.083</td><td>  1.115</td><td>  1.115</td><td> 0.023</td></tr>\n",
       "\t<tr><th scope=row>addjurkat_45.1_0.1</th><td>188</td><td>454</td><td>414.096916</td><td>  2.414894</td><td>1.3888864</td><td> 45</td><td>69</td><td>51</td><td>223.962</td><td>0.965</td><td>188</td><td>234.574</td><td>14.658</td><td>134.959</td><td>181.201</td><td>8.408</td><td> 64.411</td><td> 74.895</td><td>11.342</td></tr>\n",
       "\t<tr><th scope=row>addjurkat_451_1</th><td>  1</td><td>451</td><td>  2.217295</td><td>451.000000</td><td>       NA</td><td>451</td><td> 0</td><td> 0</td><td>  1.000</td><td>1.000</td><td>  1</td><td>  1.000</td><td> 0.000</td><td>  1.000</td><td>  1.000</td><td>0.000</td><td>  1.000</td><td>  1.000</td><td> 0.000</td></tr>\n",
       "\t<tr><th scope=row>addjurkat_67.65_0.15</th><td>178</td><td>452</td><td>393.805310</td><td>  2.539326</td><td>1.9692990</td><td> 67</td><td>65</td><td>48</td><td>211.895</td><td>0.967</td><td>178</td><td>221.913</td><td>14.239</td><td>111.031</td><td>146.882</td><td>8.417</td><td> 36.653</td><td> 39.799</td><td> 6.981</td></tr>\n",
       "\t<tr><th scope=row>addjurkat_90.2_0.2</th><td>169</td><td>451</td><td>374.722838</td><td>  2.668639</td><td>2.5698558</td><td> 90</td><td>62</td><td>47</td><td>200.852</td><td>0.970</td><td>169</td><td>209.803</td><td>13.551</td><td> 89.185</td><td>116.297</td><td>7.699</td><td> 22.339</td><td> 23.452</td><td> 4.111</td></tr>\n",
       "\t<tr><th scope=row>A037</th><td>201</td><td>451</td><td>445.676275</td><td>  2.243781</td><td>0.5819914</td><td>  7</td><td>74</td><td>53</td><td>240.252</td><td>0.961</td><td>201</td><td>252.546</td><td>15.662</td><td>172.141</td><td>236.839</td><td>9.573</td><td>150.333</td><td>225.000</td><td>11.298</td></tr>\n",
       "</tbody>\n",
       "</table>\n"
      ],
      "text/latex": [
       "A data.frame: 21 × 19\n",
       "\\begin{tabular}{r|lllllllllllllllllll}\n",
       "  & TRB & Reads & CPKR & Average\\_reads & VMR & Max\\_reads & Singletons & Doubletons & qD & Sample\\_Coverage & observed\\_Richness & estimated\\_Richness & SE\\_Richeness & observed\\_Shannon & estimated\\_Shannon & SE\\_Shannon & observed\\_Simpson & estimated\\_Simpson & SE\\_Simpson\\\\\n",
       "  & <int> & <int> & <dbl> & <dbl> & <dbl> & <int> & <int> & <int> & <dbl> & <dbl> & <int> & <dbl> & <dbl> & <dbl> & <dbl> & <dbl> & <dbl> & <dbl> & <dbl>\\\\\n",
       "\\hline\n",
       "\taddjurkat\\_112.75\\_0.25 & 159 & 452 & 351.769912 &   2.842767 & 3.0917208 & 112 & 58 & 44 & 188.784 & 0.972 & 159 & 197.143 & 13.097 &  71.158 &  91.250 & 7.381 &  15.145 &  15.635 &  2.446\\\\\n",
       "\taddjurkat\\_135.3\\_0.3 & 149 & 453 & 328.918322 &   3.040268 & 3.6000507 & 135 & 54 & 42 & 176.332 & 0.975 & 149 & 183.638 & 12.332 &  55.794 &  70.304 & 5.980 &  10.740 &  10.977 &  1.562\\\\\n",
       "\taddjurkat\\_157.85\\_0.35 & 139 & 451 & 308.203991 &   3.244604 & 4.0642777 & 157 & 51 & 40 & 164.687 & 0.977 & 139 & 171.440 & 11.887 &  43.327 &  53.823 & 4.720 &   7.989 &   8.115 &  1.040\\\\\n",
       "\taddjurkat\\_180.4\\_0.4 & 126 & 451 & 279.379157 &   3.579365 & 4.4382934 & 180 & 45 & 35 & 148.777 & 0.979 & 126 & 154.864 & 11.257 &  32.830 &  39.916 & 3.531 &   6.134 &   6.205 &  0.675\\\\\n",
       "\taddjurkat\\_202.95\\_0.45 & 116 & 451 & 257.206208 &   3.887931 & 4.7816386 & 202 & 41 & 32 & 136.710 & 0.981 & 116 & 142.207 & 10.709 &  25.357 &  30.335 & 2.896 &   4.901 &   4.944 &  0.481\\\\\n",
       "\taddjurkat\\_22.55\\_0.05 & 195 & 451 & 432.372506 &   2.312821 & 0.8177325 &  22 & 72 & 51 & 233.424 & 0.961 & 195 & 245.711 & 15.621 & 158.226 & 215.800 & 9.032 & 117.099 & 157.815 & 14.306\\\\\n",
       "\taddjurkat\\_225.5\\_0.5 & 106 & 451 & 235.033259 &   4.254717 & 5.0942701 & 225 & 38 & 28 & 125.840 & 0.981 & 106 & 131.729 & 10.911 &  19.284 &  22.763 & 2.549 &   3.969 &   3.995 &  0.366\\\\\n",
       "\taddjurkat\\_248.05\\_0.55 &  98 & 452 & 216.814159 &   4.612245 & 5.3912300 & 248 & 37 & 27 & 117.423 & 0.981 &  98 & 123.296 & 10.871 &  14.750 &  17.228 & 2.000 &   3.292 &   3.309 &  0.282\\\\\n",
       "\taddjurkat\\_270.6\\_0.6 &  91 & 453 & 200.883002 &   4.978022 & 5.6473161 & 270 & 36 & 26 & 110.007 & 0.981 &  91 & 115.868 & 10.834 &  11.444 &  13.243 & 1.452 &   2.796 &   2.808 &  0.227\\\\\n",
       "\taddjurkat\\_293.15\\_0.65 &  78 & 451 & 172.949002 &   5.782051 & 5.7009256 & 293 & 31 & 21 &  94.946 & 0.982 &  78 & 100.830 & 10.719 &   8.335 &   9.464 & 1.023 &   2.358 &   2.365 &  0.154\\\\\n",
       "\taddjurkat\\_315.7\\_0.7 &  70 & 452 & 154.867257 &   6.457143 & 5.7965625 & 315 & 30 & 18 &  87.439 & 0.980 &  70 &  94.945 & 11.936 &   6.382 &   7.189 & 0.775 &   2.052 &   2.056 &  0.129\\\\\n",
       "\taddjurkat\\_338.25\\_0.75 &  61 & 451 & 135.254989 &   7.393443 & 5.8224237 & 338 & 28 & 16 &  77.658 & 0.980 &  61 &  85.446 & 12.131 &   4.734 &   5.271 & 0.607 &   1.776 &   1.779 &  0.091\\\\\n",
       "\taddjurkat\\_360.8\\_0.8 &  47 & 451 & 104.212860 &   9.595745 & 5.4433970 & 360 & 19 & 13 &  57.331 & 0.989 &  47 &  60.854 &  8.308 &   3.488 &   3.765 & 0.377 &   1.567 &   1.569 &  0.076\\\\\n",
       "\taddjurkat\\_383.35\\_0.85 &  39 & 453 &  86.092715 &  11.615385 & 5.2553170 & 383 & 17 & 13 &  47.690 & 0.992 &  39 &  50.091 &  7.035 &   2.645 &   2.817 & 0.227 &   1.397 &   1.399 &  0.054\\\\\n",
       "\taddjurkat\\_405.9\\_0.9 &  26 & 453 &  57.395143 &  17.423077 & 4.5376057 & 405 & 12 &  6 &  33.574 & 0.990 &  26 &  37.974 &  9.146 &   1.940 &   2.032 & 0.164 &   1.250 &   1.251 &  0.040\\\\\n",
       "\taddjurkat\\_428.45\\_0.95 &  14 & 452 &  30.973451 &  32.285714 & 3.5278042 & 428 &  6 &  3 &  17.787 & 0.995 &  14 &  19.987 &  6.467 &   1.402 &   1.436 & 0.083 &   1.115 &   1.115 &  0.023\\\\\n",
       "\taddjurkat\\_45.1\\_0.1 & 188 & 454 & 414.096916 &   2.414894 & 1.3888864 &  45 & 69 & 51 & 223.962 & 0.965 & 188 & 234.574 & 14.658 & 134.959 & 181.201 & 8.408 &  64.411 &  74.895 & 11.342\\\\\n",
       "\taddjurkat\\_451\\_1 &   1 & 451 &   2.217295 & 451.000000 &        NA & 451 &  0 &  0 &   1.000 & 1.000 &   1 &   1.000 &  0.000 &   1.000 &   1.000 & 0.000 &   1.000 &   1.000 &  0.000\\\\\n",
       "\taddjurkat\\_67.65\\_0.15 & 178 & 452 & 393.805310 &   2.539326 & 1.9692990 &  67 & 65 & 48 & 211.895 & 0.967 & 178 & 221.913 & 14.239 & 111.031 & 146.882 & 8.417 &  36.653 &  39.799 &  6.981\\\\\n",
       "\taddjurkat\\_90.2\\_0.2 & 169 & 451 & 374.722838 &   2.668639 & 2.5698558 &  90 & 62 & 47 & 200.852 & 0.970 & 169 & 209.803 & 13.551 &  89.185 & 116.297 & 7.699 &  22.339 &  23.452 &  4.111\\\\\n",
       "\tA037 & 201 & 451 & 445.676275 &   2.243781 & 0.5819914 &   7 & 74 & 53 & 240.252 & 0.961 & 201 & 252.546 & 15.662 & 172.141 & 236.839 & 9.573 & 150.333 & 225.000 & 11.298\\\\\n",
       "\\end{tabular}\n"
      ],
      "text/markdown": [
       "\n",
       "A data.frame: 21 × 19\n",
       "\n",
       "| <!--/--> | TRB &lt;int&gt; | Reads &lt;int&gt; | CPKR &lt;dbl&gt; | Average_reads &lt;dbl&gt; | VMR &lt;dbl&gt; | Max_reads &lt;int&gt; | Singletons &lt;int&gt; | Doubletons &lt;int&gt; | qD &lt;dbl&gt; | Sample_Coverage &lt;dbl&gt; | observed_Richness &lt;int&gt; | estimated_Richness &lt;dbl&gt; | SE_Richeness &lt;dbl&gt; | observed_Shannon &lt;dbl&gt; | estimated_Shannon &lt;dbl&gt; | SE_Shannon &lt;dbl&gt; | observed_Simpson &lt;dbl&gt; | estimated_Simpson &lt;dbl&gt; | SE_Simpson &lt;dbl&gt; |\n",
       "|---|---|---|---|---|---|---|---|---|---|---|---|---|---|---|---|---|---|---|---|\n",
       "| addjurkat_112.75_0.25 | 159 | 452 | 351.769912 |   2.842767 | 3.0917208 | 112 | 58 | 44 | 188.784 | 0.972 | 159 | 197.143 | 13.097 |  71.158 |  91.250 | 7.381 |  15.145 |  15.635 |  2.446 |\n",
       "| addjurkat_135.3_0.3 | 149 | 453 | 328.918322 |   3.040268 | 3.6000507 | 135 | 54 | 42 | 176.332 | 0.975 | 149 | 183.638 | 12.332 |  55.794 |  70.304 | 5.980 |  10.740 |  10.977 |  1.562 |\n",
       "| addjurkat_157.85_0.35 | 139 | 451 | 308.203991 |   3.244604 | 4.0642777 | 157 | 51 | 40 | 164.687 | 0.977 | 139 | 171.440 | 11.887 |  43.327 |  53.823 | 4.720 |   7.989 |   8.115 |  1.040 |\n",
       "| addjurkat_180.4_0.4 | 126 | 451 | 279.379157 |   3.579365 | 4.4382934 | 180 | 45 | 35 | 148.777 | 0.979 | 126 | 154.864 | 11.257 |  32.830 |  39.916 | 3.531 |   6.134 |   6.205 |  0.675 |\n",
       "| addjurkat_202.95_0.45 | 116 | 451 | 257.206208 |   3.887931 | 4.7816386 | 202 | 41 | 32 | 136.710 | 0.981 | 116 | 142.207 | 10.709 |  25.357 |  30.335 | 2.896 |   4.901 |   4.944 |  0.481 |\n",
       "| addjurkat_22.55_0.05 | 195 | 451 | 432.372506 |   2.312821 | 0.8177325 |  22 | 72 | 51 | 233.424 | 0.961 | 195 | 245.711 | 15.621 | 158.226 | 215.800 | 9.032 | 117.099 | 157.815 | 14.306 |\n",
       "| addjurkat_225.5_0.5 | 106 | 451 | 235.033259 |   4.254717 | 5.0942701 | 225 | 38 | 28 | 125.840 | 0.981 | 106 | 131.729 | 10.911 |  19.284 |  22.763 | 2.549 |   3.969 |   3.995 |  0.366 |\n",
       "| addjurkat_248.05_0.55 |  98 | 452 | 216.814159 |   4.612245 | 5.3912300 | 248 | 37 | 27 | 117.423 | 0.981 |  98 | 123.296 | 10.871 |  14.750 |  17.228 | 2.000 |   3.292 |   3.309 |  0.282 |\n",
       "| addjurkat_270.6_0.6 |  91 | 453 | 200.883002 |   4.978022 | 5.6473161 | 270 | 36 | 26 | 110.007 | 0.981 |  91 | 115.868 | 10.834 |  11.444 |  13.243 | 1.452 |   2.796 |   2.808 |  0.227 |\n",
       "| addjurkat_293.15_0.65 |  78 | 451 | 172.949002 |   5.782051 | 5.7009256 | 293 | 31 | 21 |  94.946 | 0.982 |  78 | 100.830 | 10.719 |   8.335 |   9.464 | 1.023 |   2.358 |   2.365 |  0.154 |\n",
       "| addjurkat_315.7_0.7 |  70 | 452 | 154.867257 |   6.457143 | 5.7965625 | 315 | 30 | 18 |  87.439 | 0.980 |  70 |  94.945 | 11.936 |   6.382 |   7.189 | 0.775 |   2.052 |   2.056 |  0.129 |\n",
       "| addjurkat_338.25_0.75 |  61 | 451 | 135.254989 |   7.393443 | 5.8224237 | 338 | 28 | 16 |  77.658 | 0.980 |  61 |  85.446 | 12.131 |   4.734 |   5.271 | 0.607 |   1.776 |   1.779 |  0.091 |\n",
       "| addjurkat_360.8_0.8 |  47 | 451 | 104.212860 |   9.595745 | 5.4433970 | 360 | 19 | 13 |  57.331 | 0.989 |  47 |  60.854 |  8.308 |   3.488 |   3.765 | 0.377 |   1.567 |   1.569 |  0.076 |\n",
       "| addjurkat_383.35_0.85 |  39 | 453 |  86.092715 |  11.615385 | 5.2553170 | 383 | 17 | 13 |  47.690 | 0.992 |  39 |  50.091 |  7.035 |   2.645 |   2.817 | 0.227 |   1.397 |   1.399 |  0.054 |\n",
       "| addjurkat_405.9_0.9 |  26 | 453 |  57.395143 |  17.423077 | 4.5376057 | 405 | 12 |  6 |  33.574 | 0.990 |  26 |  37.974 |  9.146 |   1.940 |   2.032 | 0.164 |   1.250 |   1.251 |  0.040 |\n",
       "| addjurkat_428.45_0.95 |  14 | 452 |  30.973451 |  32.285714 | 3.5278042 | 428 |  6 |  3 |  17.787 | 0.995 |  14 |  19.987 |  6.467 |   1.402 |   1.436 | 0.083 |   1.115 |   1.115 |  0.023 |\n",
       "| addjurkat_45.1_0.1 | 188 | 454 | 414.096916 |   2.414894 | 1.3888864 |  45 | 69 | 51 | 223.962 | 0.965 | 188 | 234.574 | 14.658 | 134.959 | 181.201 | 8.408 |  64.411 |  74.895 | 11.342 |\n",
       "| addjurkat_451_1 |   1 | 451 |   2.217295 | 451.000000 |        NA | 451 |  0 |  0 |   1.000 | 1.000 |   1 |   1.000 |  0.000 |   1.000 |   1.000 | 0.000 |   1.000 |   1.000 |  0.000 |\n",
       "| addjurkat_67.65_0.15 | 178 | 452 | 393.805310 |   2.539326 | 1.9692990 |  67 | 65 | 48 | 211.895 | 0.967 | 178 | 221.913 | 14.239 | 111.031 | 146.882 | 8.417 |  36.653 |  39.799 |  6.981 |\n",
       "| addjurkat_90.2_0.2 | 169 | 451 | 374.722838 |   2.668639 | 2.5698558 |  90 | 62 | 47 | 200.852 | 0.970 | 169 | 209.803 | 13.551 |  89.185 | 116.297 | 7.699 |  22.339 |  23.452 |  4.111 |\n",
       "| A037 | 201 | 451 | 445.676275 |   2.243781 | 0.5819914 |   7 | 74 | 53 | 240.252 | 0.961 | 201 | 252.546 | 15.662 | 172.141 | 236.839 | 9.573 | 150.333 | 225.000 | 11.298 |\n",
       "\n"
      ],
      "text/plain": [
       "                      TRB Reads CPKR       Average_reads VMR       Max_reads\n",
       "addjurkat_112.75_0.25 159 452   351.769912   2.842767    3.0917208 112      \n",
       "addjurkat_135.3_0.3   149 453   328.918322   3.040268    3.6000507 135      \n",
       "addjurkat_157.85_0.35 139 451   308.203991   3.244604    4.0642777 157      \n",
       "addjurkat_180.4_0.4   126 451   279.379157   3.579365    4.4382934 180      \n",
       "addjurkat_202.95_0.45 116 451   257.206208   3.887931    4.7816386 202      \n",
       "addjurkat_22.55_0.05  195 451   432.372506   2.312821    0.8177325  22      \n",
       "addjurkat_225.5_0.5   106 451   235.033259   4.254717    5.0942701 225      \n",
       "addjurkat_248.05_0.55  98 452   216.814159   4.612245    5.3912300 248      \n",
       "addjurkat_270.6_0.6    91 453   200.883002   4.978022    5.6473161 270      \n",
       "addjurkat_293.15_0.65  78 451   172.949002   5.782051    5.7009256 293      \n",
       "addjurkat_315.7_0.7    70 452   154.867257   6.457143    5.7965625 315      \n",
       "addjurkat_338.25_0.75  61 451   135.254989   7.393443    5.8224237 338      \n",
       "addjurkat_360.8_0.8    47 451   104.212860   9.595745    5.4433970 360      \n",
       "addjurkat_383.35_0.85  39 453    86.092715  11.615385    5.2553170 383      \n",
       "addjurkat_405.9_0.9    26 453    57.395143  17.423077    4.5376057 405      \n",
       "addjurkat_428.45_0.95  14 452    30.973451  32.285714    3.5278042 428      \n",
       "addjurkat_45.1_0.1    188 454   414.096916   2.414894    1.3888864  45      \n",
       "addjurkat_451_1         1 451     2.217295 451.000000           NA 451      \n",
       "addjurkat_67.65_0.15  178 452   393.805310   2.539326    1.9692990  67      \n",
       "addjurkat_90.2_0.2    169 451   374.722838   2.668639    2.5698558  90      \n",
       "A037                  201 451   445.676275   2.243781    0.5819914   7      \n",
       "                      Singletons Doubletons qD      Sample_Coverage\n",
       "addjurkat_112.75_0.25 58         44         188.784 0.972          \n",
       "addjurkat_135.3_0.3   54         42         176.332 0.975          \n",
       "addjurkat_157.85_0.35 51         40         164.687 0.977          \n",
       "addjurkat_180.4_0.4   45         35         148.777 0.979          \n",
       "addjurkat_202.95_0.45 41         32         136.710 0.981          \n",
       "addjurkat_22.55_0.05  72         51         233.424 0.961          \n",
       "addjurkat_225.5_0.5   38         28         125.840 0.981          \n",
       "addjurkat_248.05_0.55 37         27         117.423 0.981          \n",
       "addjurkat_270.6_0.6   36         26         110.007 0.981          \n",
       "addjurkat_293.15_0.65 31         21          94.946 0.982          \n",
       "addjurkat_315.7_0.7   30         18          87.439 0.980          \n",
       "addjurkat_338.25_0.75 28         16          77.658 0.980          \n",
       "addjurkat_360.8_0.8   19         13          57.331 0.989          \n",
       "addjurkat_383.35_0.85 17         13          47.690 0.992          \n",
       "addjurkat_405.9_0.9   12          6          33.574 0.990          \n",
       "addjurkat_428.45_0.95  6          3          17.787 0.995          \n",
       "addjurkat_45.1_0.1    69         51         223.962 0.965          \n",
       "addjurkat_451_1        0          0           1.000 1.000          \n",
       "addjurkat_67.65_0.15  65         48         211.895 0.967          \n",
       "addjurkat_90.2_0.2    62         47         200.852 0.970          \n",
       "A037                  74         53         240.252 0.961          \n",
       "                      observed_Richness estimated_Richness SE_Richeness\n",
       "addjurkat_112.75_0.25 159               197.143            13.097      \n",
       "addjurkat_135.3_0.3   149               183.638            12.332      \n",
       "addjurkat_157.85_0.35 139               171.440            11.887      \n",
       "addjurkat_180.4_0.4   126               154.864            11.257      \n",
       "addjurkat_202.95_0.45 116               142.207            10.709      \n",
       "addjurkat_22.55_0.05  195               245.711            15.621      \n",
       "addjurkat_225.5_0.5   106               131.729            10.911      \n",
       "addjurkat_248.05_0.55  98               123.296            10.871      \n",
       "addjurkat_270.6_0.6    91               115.868            10.834      \n",
       "addjurkat_293.15_0.65  78               100.830            10.719      \n",
       "addjurkat_315.7_0.7    70                94.945            11.936      \n",
       "addjurkat_338.25_0.75  61                85.446            12.131      \n",
       "addjurkat_360.8_0.8    47                60.854             8.308      \n",
       "addjurkat_383.35_0.85  39                50.091             7.035      \n",
       "addjurkat_405.9_0.9    26                37.974             9.146      \n",
       "addjurkat_428.45_0.95  14                19.987             6.467      \n",
       "addjurkat_45.1_0.1    188               234.574            14.658      \n",
       "addjurkat_451_1         1                 1.000             0.000      \n",
       "addjurkat_67.65_0.15  178               221.913            14.239      \n",
       "addjurkat_90.2_0.2    169               209.803            13.551      \n",
       "A037                  201               252.546            15.662      \n",
       "                      observed_Shannon estimated_Shannon SE_Shannon\n",
       "addjurkat_112.75_0.25  71.158           91.250           7.381     \n",
       "addjurkat_135.3_0.3    55.794           70.304           5.980     \n",
       "addjurkat_157.85_0.35  43.327           53.823           4.720     \n",
       "addjurkat_180.4_0.4    32.830           39.916           3.531     \n",
       "addjurkat_202.95_0.45  25.357           30.335           2.896     \n",
       "addjurkat_22.55_0.05  158.226          215.800           9.032     \n",
       "addjurkat_225.5_0.5    19.284           22.763           2.549     \n",
       "addjurkat_248.05_0.55  14.750           17.228           2.000     \n",
       "addjurkat_270.6_0.6    11.444           13.243           1.452     \n",
       "addjurkat_293.15_0.65   8.335            9.464           1.023     \n",
       "addjurkat_315.7_0.7     6.382            7.189           0.775     \n",
       "addjurkat_338.25_0.75   4.734            5.271           0.607     \n",
       "addjurkat_360.8_0.8     3.488            3.765           0.377     \n",
       "addjurkat_383.35_0.85   2.645            2.817           0.227     \n",
       "addjurkat_405.9_0.9     1.940            2.032           0.164     \n",
       "addjurkat_428.45_0.95   1.402            1.436           0.083     \n",
       "addjurkat_45.1_0.1    134.959          181.201           8.408     \n",
       "addjurkat_451_1         1.000            1.000           0.000     \n",
       "addjurkat_67.65_0.15  111.031          146.882           8.417     \n",
       "addjurkat_90.2_0.2     89.185          116.297           7.699     \n",
       "A037                  172.141          236.839           9.573     \n",
       "                      observed_Simpson estimated_Simpson SE_Simpson\n",
       "addjurkat_112.75_0.25  15.145           15.635            2.446    \n",
       "addjurkat_135.3_0.3    10.740           10.977            1.562    \n",
       "addjurkat_157.85_0.35   7.989            8.115            1.040    \n",
       "addjurkat_180.4_0.4     6.134            6.205            0.675    \n",
       "addjurkat_202.95_0.45   4.901            4.944            0.481    \n",
       "addjurkat_22.55_0.05  117.099          157.815           14.306    \n",
       "addjurkat_225.5_0.5     3.969            3.995            0.366    \n",
       "addjurkat_248.05_0.55   3.292            3.309            0.282    \n",
       "addjurkat_270.6_0.6     2.796            2.808            0.227    \n",
       "addjurkat_293.15_0.65   2.358            2.365            0.154    \n",
       "addjurkat_315.7_0.7     2.052            2.056            0.129    \n",
       "addjurkat_338.25_0.75   1.776            1.779            0.091    \n",
       "addjurkat_360.8_0.8     1.567            1.569            0.076    \n",
       "addjurkat_383.35_0.85   1.397            1.399            0.054    \n",
       "addjurkat_405.9_0.9     1.250            1.251            0.040    \n",
       "addjurkat_428.45_0.95   1.115            1.115            0.023    \n",
       "addjurkat_45.1_0.1     64.411           74.895           11.342    \n",
       "addjurkat_451_1         1.000            1.000            0.000    \n",
       "addjurkat_67.65_0.15   36.653           39.799            6.981    \n",
       "addjurkat_90.2_0.2     22.339           23.452            4.111    \n",
       "A037                  150.333          225.000           11.298    "
      ]
     },
     "metadata": {},
     "output_type": "display_data"
    }
   ],
   "source": [
    "divstats_test"
   ]
  },
  {
   "cell_type": "markdown",
   "metadata": {},
   "source": [
    "Number of reads are the same just for test set endpoint to 550"
   ]
  },
  {
   "cell_type": "code",
   "execution_count": 16,
   "metadata": {
    "vscode": {
     "languageId": "r"
    }
   },
   "outputs": [],
   "source": [
    "#just order them\n",
    "test_immunelist <- test_immunelist[c('A037','addjurkat_22.55_0.05','addjurkat_45.1_0.1',\n",
    "                                   'addjurkat_67.65_0.15','addjurkat_90.2_0.2',\n",
    "                                   'addjurkat_112.75_0.25','addjurkat_135.3_0.3','addjurkat_157.85_0.35',\n",
    "                                   'addjurkat_180.4_0.4','addjurkat_202.95_0.45',\n",
    "                                   'addjurkat_225.5_0.5','addjurkat_248.05_0.55','addjurkat_270.6_0.6',\n",
    "                                   'addjurkat_293.15_0.65','addjurkat_315.7_0.7','addjurkat_338.25_0.75',\n",
    "                                   'addjurkat_360.8_0.8','addjurkat_383.35_0.85','addjurkat_405.9_0.9',\n",
    "                                   'addjurkat_428.45_0.95','addjurkat_451_1')]"
   ]
  },
  {
   "cell_type": "code",
   "execution_count": 17,
   "metadata": {
    "vscode": {
     "languageId": "r"
    }
   },
   "outputs": [],
   "source": [
    "out_testdata <- safe_mclapply(1:length(test_immunelist), \n",
    "                     function(x){ iNEXT(test_immunelist[x], c(0,1,2), \n",
    "                                        datatype=\"abundance\", nboot = 50, endpoint = 550)}, mc.cores = 4)"
   ]
  },
  {
   "cell_type": "code",
   "execution_count": 18,
   "metadata": {
    "vscode": {
     "languageId": "r"
    }
   },
   "outputs": [],
   "source": [
    "save(out_testdata, file = paste0(datapath, \"capTCRseq/testdataset/testdata_inextout.RData\"))"
   ]
  },
  {
   "cell_type": "markdown",
   "metadata": {},
   "source": [
    "# Load iNEXT output for testdata"
   ]
  },
  {
   "cell_type": "code",
   "execution_count": 36,
   "metadata": {
    "vscode": {
     "languageId": "r"
    }
   },
   "outputs": [],
   "source": [
    "load(file = paste0(datapath,\"capTCRseq/testdataset/testdata_inextout.RData\"))"
   ]
  },
  {
   "cell_type": "code",
   "execution_count": 37,
   "metadata": {
    "vscode": {
     "languageId": "r"
    }
   },
   "outputs": [
    {
     "data": {
      "text/html": [
       "21"
      ],
      "text/latex": [
       "21"
      ],
      "text/markdown": [
       "21"
      ],
      "text/plain": [
       "[1] 21"
      ]
     },
     "metadata": {},
     "output_type": "display_data"
    }
   ],
   "source": [
    "length(out_testdata)"
   ]
  },
  {
   "cell_type": "markdown",
   "metadata": {},
   "source": [
    "get sample names"
   ]
  },
  {
   "cell_type": "code",
   "execution_count": 38,
   "metadata": {
    "vscode": {
     "languageId": "r"
    }
   },
   "outputs": [],
   "source": [
    "testallnames <- names(out_testdata[[1]]$iNextEst)\n",
    "\n",
    "for(i in 2:length(out_testdata)){\n",
    "    testallnames <- c(testallnames, names(out_testdata[[i]]$iNextEst))\n",
    "}"
   ]
  },
  {
   "cell_type": "markdown",
   "metadata": {},
   "source": [
    "make a list of plots"
   ]
  },
  {
   "cell_type": "code",
   "execution_count": 39,
   "metadata": {
    "vscode": {
     "languageId": "r"
    }
   },
   "outputs": [],
   "source": [
    "testlistofplots <- lapply(c(1:length(out_testdata)), function(x){ \n",
    "    p <- ggiNEXT(out_testdata[[x]], type=1, color.var =\"order\") + \n",
    "    theme_bw(base_size = 10) + labs(title = testallnames[x]) +\n",
    "theme(plot.title = element_text(size = 5,hjust = 0.5),\n",
    "     legend.position = \"none\")})"
   ]
  },
  {
   "cell_type": "code",
   "execution_count": 40,
   "metadata": {
    "vscode": {
     "languageId": "r"
    }
   },
   "outputs": [],
   "source": [
    "names(testlistofplots) <- testallnames"
   ]
  },
  {
   "cell_type": "code",
   "execution_count": 41,
   "metadata": {
    "vscode": {
     "languageId": "r"
    }
   },
   "outputs": [
    {
     "data": {
      "text/html": [
       "<style>\n",
       ".list-inline {list-style: none; margin:0; padding: 0}\n",
       ".list-inline>li {display: inline-block}\n",
       ".list-inline>li:not(:last-child)::after {content: \"\\00b7\"; padding: 0 .5ex}\n",
       "</style>\n",
       "<ol class=list-inline><li>'A037'</li><li>'addjurkat_22.55_0.05'</li><li>'addjurkat_45.1_0.1'</li><li>'addjurkat_67.65_0.15'</li><li>'addjurkat_90.2_0.2'</li><li>'addjurkat_112.75_0.25'</li><li>'addjurkat_135.3_0.3'</li><li>'addjurkat_157.85_0.35'</li><li>'addjurkat_180.4_0.4'</li><li>'addjurkat_202.95_0.45'</li><li>'addjurkat_225.5_0.5'</li><li>'addjurkat_248.05_0.55'</li><li>'addjurkat_270.6_0.6'</li><li>'addjurkat_293.15_0.65'</li><li>'addjurkat_315.7_0.7'</li><li>'addjurkat_338.25_0.75'</li><li>'addjurkat_360.8_0.8'</li><li>'addjurkat_383.35_0.85'</li><li>'addjurkat_405.9_0.9'</li><li>'addjurkat_428.45_0.95'</li><li>'addjurkat_451_1'</li></ol>\n"
      ],
      "text/latex": [
       "\\begin{enumerate*}\n",
       "\\item 'A037'\n",
       "\\item 'addjurkat\\_22.55\\_0.05'\n",
       "\\item 'addjurkat\\_45.1\\_0.1'\n",
       "\\item 'addjurkat\\_67.65\\_0.15'\n",
       "\\item 'addjurkat\\_90.2\\_0.2'\n",
       "\\item 'addjurkat\\_112.75\\_0.25'\n",
       "\\item 'addjurkat\\_135.3\\_0.3'\n",
       "\\item 'addjurkat\\_157.85\\_0.35'\n",
       "\\item 'addjurkat\\_180.4\\_0.4'\n",
       "\\item 'addjurkat\\_202.95\\_0.45'\n",
       "\\item 'addjurkat\\_225.5\\_0.5'\n",
       "\\item 'addjurkat\\_248.05\\_0.55'\n",
       "\\item 'addjurkat\\_270.6\\_0.6'\n",
       "\\item 'addjurkat\\_293.15\\_0.65'\n",
       "\\item 'addjurkat\\_315.7\\_0.7'\n",
       "\\item 'addjurkat\\_338.25\\_0.75'\n",
       "\\item 'addjurkat\\_360.8\\_0.8'\n",
       "\\item 'addjurkat\\_383.35\\_0.85'\n",
       "\\item 'addjurkat\\_405.9\\_0.9'\n",
       "\\item 'addjurkat\\_428.45\\_0.95'\n",
       "\\item 'addjurkat\\_451\\_1'\n",
       "\\end{enumerate*}\n"
      ],
      "text/markdown": [
       "1. 'A037'\n",
       "2. 'addjurkat_22.55_0.05'\n",
       "3. 'addjurkat_45.1_0.1'\n",
       "4. 'addjurkat_67.65_0.15'\n",
       "5. 'addjurkat_90.2_0.2'\n",
       "6. 'addjurkat_112.75_0.25'\n",
       "7. 'addjurkat_135.3_0.3'\n",
       "8. 'addjurkat_157.85_0.35'\n",
       "9. 'addjurkat_180.4_0.4'\n",
       "10. 'addjurkat_202.95_0.45'\n",
       "11. 'addjurkat_225.5_0.5'\n",
       "12. 'addjurkat_248.05_0.55'\n",
       "13. 'addjurkat_270.6_0.6'\n",
       "14. 'addjurkat_293.15_0.65'\n",
       "15. 'addjurkat_315.7_0.7'\n",
       "16. 'addjurkat_338.25_0.75'\n",
       "17. 'addjurkat_360.8_0.8'\n",
       "18. 'addjurkat_383.35_0.85'\n",
       "19. 'addjurkat_405.9_0.9'\n",
       "20. 'addjurkat_428.45_0.95'\n",
       "21. 'addjurkat_451_1'\n",
       "\n",
       "\n"
      ],
      "text/plain": [
       " [1] \"A037\"                  \"addjurkat_22.55_0.05\"  \"addjurkat_45.1_0.1\"   \n",
       " [4] \"addjurkat_67.65_0.15\"  \"addjurkat_90.2_0.2\"    \"addjurkat_112.75_0.25\"\n",
       " [7] \"addjurkat_135.3_0.3\"   \"addjurkat_157.85_0.35\" \"addjurkat_180.4_0.4\"  \n",
       "[10] \"addjurkat_202.95_0.45\" \"addjurkat_225.5_0.5\"   \"addjurkat_248.05_0.55\"\n",
       "[13] \"addjurkat_270.6_0.6\"   \"addjurkat_293.15_0.65\" \"addjurkat_315.7_0.7\"  \n",
       "[16] \"addjurkat_338.25_0.75\" \"addjurkat_360.8_0.8\"   \"addjurkat_383.35_0.85\"\n",
       "[19] \"addjurkat_405.9_0.9\"   \"addjurkat_428.45_0.95\" \"addjurkat_451_1\"      "
      ]
     },
     "metadata": {},
     "output_type": "display_data"
    }
   ],
   "source": [
    "names(testlistofplots)"
   ]
  },
  {
   "cell_type": "code",
   "execution_count": 42,
   "metadata": {
    "vscode": {
     "languageId": "r"
    }
   },
   "outputs": [
    {
     "data": {
      "text/html": [
       "<strong>pdf:</strong> 2"
      ],
      "text/latex": [
       "\\textbf{pdf:} 2"
      ],
      "text/markdown": [
       "**pdf:** 2"
      ],
      "text/plain": [
       "pdf \n",
       "  2 "
      ]
     },
     "metadata": {},
     "output_type": "display_data"
    }
   ],
   "source": [
    "pdf(paste0(plotpath, \"testdata_all_plots.pdf\"),\n",
    "   width = 10, height = 10)\n",
    "plot_grid(plotlist = testlistofplots, ncol = 5)\n",
    "dev.off()"
   ]
  },
  {
   "cell_type": "markdown",
   "metadata": {},
   "source": [
    "# 3D plot from TJP"
   ]
  },
  {
   "cell_type": "code",
   "execution_count": null,
   "metadata": {
    "vscode": {
     "languageId": "r"
    }
   },
   "outputs": [],
   "source": [
    "# load the plotly R package\n",
    "library(plotly)\n",
    "\n",
    "# Synthetic data from 1-100\n",
    "len <- 10\n",
    "lim <- 10\n",
    "xseries <- (seq(0, lim, by = lim/len))\n",
    "yseries <- (seq(0, lim, by = lim/len)^2)\n",
    "zseries <- (seq(0, lim, by = lim/len)^2)\n",
    "sizes <- xseries * 4\n",
    "\n",
    "#Set up 3D plot\n",
    "fig <- plot_ly( x = xseries, y = yseries, z = zseries,\n",
    "\t\t\t\ttype=\"scatter3d\",\n",
    "\t\t\t\tmode=\"markers\",\n",
    "\t\t\t\tmarker = list(size = sizes, opacity=0)\n",
    "\t\t\t)\n",
    "\n",
    "#Add axis curves\n",
    "add_trace(fig, x=xseries, y=yseries, z=0, type = 'scatter3d', mode = 'lines', marker = list(size = 0.000001)) %>%\n",
    "add_trace(fig, x=xseries, y=100, z=zseries, type = 'scatter3d', mode = 'lines', marker = list(size = 0.000001)) %>%\n",
    "add_trace(fig, x=0, y=yseries, z=zseries, type = 'scatter3d', mode = 'lines', marker = list(size = 0.000001))\n",
    "\n",
    "#Display the resulting figure\n",
    "fig"
   ]
  },
  {
   "cell_type": "code",
   "execution_count": null,
   "metadata": {
    "vscode": {
     "languageId": "r"
    }
   },
   "outputs": [],
   "source": []
  },
  {
   "cell_type": "code",
   "execution_count": null,
   "metadata": {
    "vscode": {
     "languageId": "r"
    }
   },
   "outputs": [],
   "source": []
  },
  {
   "cell_type": "code",
   "execution_count": null,
   "metadata": {
    "vscode": {
     "languageId": "r"
    }
   },
   "outputs": [],
   "source": []
  },
  {
   "cell_type": "code",
   "execution_count": null,
   "metadata": {
    "vscode": {
     "languageId": "r"
    }
   },
   "outputs": [],
   "source": []
  }
 ],
 "metadata": {
  "kernelspec": {
   "display_name": "R 4.0",
   "language": "R",
   "name": "ir40"
  },
  "language_info": {
   "codemirror_mode": "r",
   "file_extension": ".r",
   "mimetype": "text/x-r-source",
   "name": "R",
   "pygments_lexer": "r",
   "version": "4.0.3"
  },
  "toc": {
   "base_numbering": 1,
   "nav_menu": {},
   "number_sections": false,
   "sideBar": true,
   "skip_h1_title": false,
   "title_cell": "Table of Contents",
   "title_sidebar": "Contents",
   "toc_cell": true,
   "toc_position": {
    "height": "calc(100% - 180px)",
    "left": "10px",
    "top": "150px",
    "width": "217.3px"
   },
   "toc_section_display": true,
   "toc_window_display": true
  }
 },
 "nbformat": 4,
 "nbformat_minor": 2
}
