{
 "cells": [
  {
   "cell_type": "markdown",
   "metadata": {
    "toc": true
   },
   "source": [
    "<h1>Table of Contents<span class=\"tocSkip\"></span></h1>\n",
    "<div class=\"toc\"><ul class=\"toc-item\"><li><span><a href=\"#Dependencies\" data-toc-modified-id=\"Dependencies-1\">Dependencies</a></span></li><li><span><a href=\"#Paths\" data-toc-modified-id=\"Paths-2\">Paths</a></span></li><li><span><a href=\"#Main\" data-toc-modified-id=\"Main-3\">Main</a></span><ul class=\"toc-item\"><li><span><a href=\"#Load-all-pubrep-files-and-make-a-metadata\" data-toc-modified-id=\"Load-all-pubrep-files-and-make-a-metadata-3.1\">Load all pubrep files and make a metadata</a></span></li><li><span><a href=\"#add-study-name\" data-toc-modified-id=\"add-study-name-3.2\">add study name</a></span></li><li><span><a href=\"#Extract-patient-id-from-samplename\" data-toc-modified-id=\"Extract-patient-id-from-samplename-3.3\">Extract patient id from samplename</a></span></li><li><span><a href=\"#Extract-sampletype\" data-toc-modified-id=\"Extract-sampletype-3.4\">Extract sampletype</a></span></li></ul></li></ul></div>"
   ]
  },
  {
   "cell_type": "markdown",
   "metadata": {},
   "source": [
    "# Dependencies"
   ]
  },
  {
   "cell_type": "code",
   "execution_count": 1,
   "metadata": {},
   "outputs": [
    {
     "name": "stderr",
     "output_type": "stream",
     "text": [
      "Warning message:\n",
      "“package ‘data.table’ was built under R version 3.5.2”Warning message:\n",
      "“package ‘ggplot2’ was built under R version 3.5.2”"
     ]
    }
   ],
   "source": [
    "library(data.table)\n",
    "\n",
    "library(ggplot2)"
   ]
  },
  {
   "cell_type": "markdown",
   "metadata": {},
   "source": [
    "# Paths"
   ]
  },
  {
   "cell_type": "code",
   "execution_count": 50,
   "metadata": {},
   "outputs": [],
   "source": [
    "datapath <- \"/Users/anabbi/OneDrive - UHN/Documents/Jabado/TCR_HSJ/Data/\"\n",
    "plotpath <- \"/Users/anabbi/OneDrive - UHN/Documents/Jabado/TCR_HSJ/Plots/\""
   ]
  },
  {
   "cell_type": "markdown",
   "metadata": {},
   "source": [
    "# Main"
   ]
  },
  {
   "cell_type": "markdown",
   "metadata": {},
   "source": [
    "## Load all pubrep files and make a metadata"
   ]
  },
  {
   "cell_type": "code",
   "execution_count": 163,
   "metadata": {},
   "outputs": [],
   "source": [
    "filelist <- list.files(datapath,\n",
    "                     recursive = TRUE,\n",
    "                     pattern = \"pubrep\")"
   ]
  },
  {
   "cell_type": "code",
   "execution_count": 164,
   "metadata": {},
   "outputs": [],
   "source": [
    "filelist <- filelist[grepl(\"common_clonotypes\", filelist)]"
   ]
  },
  {
   "cell_type": "code",
   "execution_count": 165,
   "metadata": {},
   "outputs": [
    {
     "data": {
      "text/html": [
       "<ol class=list-inline>\n",
       "\t<li>'common_clonotypes/pubrep_ims_batch1to44.csv'</li>\n",
       "\t<li>'common_clonotypes/pubrep_ims_lines.csv'</li>\n",
       "\t<li>'common_clonotypes/pubrep_inspire_cfDNA.csv'</li>\n",
       "\t<li>'common_clonotypes/pubrep_inspire_genomic.csv'</li>\n",
       "\t<li>'common_clonotypes/pubrep_INTERCEPT.csv'</li>\n",
       "\t<li>'common_clonotypes/pubrep_LFS.csv'</li>\n",
       "\t<li>'common_clonotypes/pubrep_lymphotrack.csv'</li>\n",
       "\t<li>'common_clonotypes/pubrep_NPCcaptured.csv'</li>\n",
       "\t<li>'common_clonotypes/pubrep_TCLlines.csv'</li>\n",
       "\t<li>'common_clonotypes/pubrep_TCR_HSJ.csv'</li>\n",
       "\t<li>'common_clonotypes/pubrep_TLML_cfDNA.csv'</li>\n",
       "\t<li>'common_clonotypes/pubrep_TLMLcDNAgenomic.csv'</li>\n",
       "</ol>\n"
      ],
      "text/latex": [
       "\\begin{enumerate*}\n",
       "\\item 'common\\_clonotypes/pubrep\\_ims\\_batch1to44.csv'\n",
       "\\item 'common\\_clonotypes/pubrep\\_ims\\_lines.csv'\n",
       "\\item 'common\\_clonotypes/pubrep\\_inspire\\_cfDNA.csv'\n",
       "\\item 'common\\_clonotypes/pubrep\\_inspire\\_genomic.csv'\n",
       "\\item 'common\\_clonotypes/pubrep\\_INTERCEPT.csv'\n",
       "\\item 'common\\_clonotypes/pubrep\\_LFS.csv'\n",
       "\\item 'common\\_clonotypes/pubrep\\_lymphotrack.csv'\n",
       "\\item 'common\\_clonotypes/pubrep\\_NPCcaptured.csv'\n",
       "\\item 'common\\_clonotypes/pubrep\\_TCLlines.csv'\n",
       "\\item 'common\\_clonotypes/pubrep\\_TCR\\_HSJ.csv'\n",
       "\\item 'common\\_clonotypes/pubrep\\_TLML\\_cfDNA.csv'\n",
       "\\item 'common\\_clonotypes/pubrep\\_TLMLcDNAgenomic.csv'\n",
       "\\end{enumerate*}\n"
      ],
      "text/markdown": [
       "1. 'common_clonotypes/pubrep_ims_batch1to44.csv'\n",
       "2. 'common_clonotypes/pubrep_ims_lines.csv'\n",
       "3. 'common_clonotypes/pubrep_inspire_cfDNA.csv'\n",
       "4. 'common_clonotypes/pubrep_inspire_genomic.csv'\n",
       "5. 'common_clonotypes/pubrep_INTERCEPT.csv'\n",
       "6. 'common_clonotypes/pubrep_LFS.csv'\n",
       "7. 'common_clonotypes/pubrep_lymphotrack.csv'\n",
       "8. 'common_clonotypes/pubrep_NPCcaptured.csv'\n",
       "9. 'common_clonotypes/pubrep_TCLlines.csv'\n",
       "10. 'common_clonotypes/pubrep_TCR_HSJ.csv'\n",
       "11. 'common_clonotypes/pubrep_TLML_cfDNA.csv'\n",
       "12. 'common_clonotypes/pubrep_TLMLcDNAgenomic.csv'\n",
       "\n",
       "\n"
      ],
      "text/plain": [
       " [1] \"common_clonotypes/pubrep_ims_batch1to44.csv\" \n",
       " [2] \"common_clonotypes/pubrep_ims_lines.csv\"      \n",
       " [3] \"common_clonotypes/pubrep_inspire_cfDNA.csv\"  \n",
       " [4] \"common_clonotypes/pubrep_inspire_genomic.csv\"\n",
       " [5] \"common_clonotypes/pubrep_INTERCEPT.csv\"      \n",
       " [6] \"common_clonotypes/pubrep_LFS.csv\"            \n",
       " [7] \"common_clonotypes/pubrep_lymphotrack.csv\"    \n",
       " [8] \"common_clonotypes/pubrep_NPCcaptured.csv\"    \n",
       " [9] \"common_clonotypes/pubrep_TCLlines.csv\"       \n",
       "[10] \"common_clonotypes/pubrep_TCR_HSJ.csv\"        \n",
       "[11] \"common_clonotypes/pubrep_TLML_cfDNA.csv\"     \n",
       "[12] \"common_clonotypes/pubrep_TLMLcDNAgenomic.csv\""
      ]
     },
     "metadata": {},
     "output_type": "display_data"
    }
   ],
   "source": [
    "filelist"
   ]
  },
  {
   "cell_type": "code",
   "execution_count": 166,
   "metadata": {},
   "outputs": [],
   "source": [
    "all.files <- lapply(filelist, function(f){ read.csv(paste0(datapath,f), stringsAsFactors = F,\n",
    "                                                   header = F, nrow = 1)})"
   ]
  },
  {
   "cell_type": "code",
   "execution_count": 167,
   "metadata": {},
   "outputs": [],
   "source": [
    "allfilenames <- unlist(all.files)"
   ]
  },
  {
   "cell_type": "code",
   "execution_count": 190,
   "metadata": {},
   "outputs": [],
   "source": [
    "allfilenames <- allfilenames[allfilenames != \"CDR3.aa\" &\n",
    "                             allfilenames != \"Samples\"]"
   ]
  },
  {
   "cell_type": "code",
   "execution_count": 191,
   "metadata": {},
   "outputs": [
    {
     "data": {
      "text/html": [
       "518"
      ],
      "text/latex": [
       "518"
      ],
      "text/markdown": [
       "518"
      ],
      "text/plain": [
       "[1] 518"
      ]
     },
     "metadata": {},
     "output_type": "display_data"
    }
   ],
   "source": [
    "length(allfilenames)"
   ]
  },
  {
   "cell_type": "code",
   "execution_count": 192,
   "metadata": {},
   "outputs": [],
   "source": [
    "allfilenames_df <- as.data.frame(allfilenames)"
   ]
  },
  {
   "cell_type": "code",
   "execution_count": 193,
   "metadata": {},
   "outputs": [],
   "source": [
    "allfilenames_df$Study <- NA\n",
    "allfilenames_df$Patient <- NA\n",
    "allfilenames_df$Samplename <- NA\n",
    "allfilenames_df$Sample_type <- NA"
   ]
  },
  {
   "cell_type": "code",
   "execution_count": 194,
   "metadata": {},
   "outputs": [],
   "source": [
    "colnames(allfilenames_df)[colnames(allfilenames_df) == \"allfilenames\"] <- \"filename\""
   ]
  },
  {
   "cell_type": "code",
   "execution_count": 195,
   "metadata": {},
   "outputs": [
    {
     "data": {
      "text/html": [
       "<table>\n",
       "<caption>A data.frame: 6 × 5</caption>\n",
       "<thead>\n",
       "\t<tr><th scope=col>filename</th><th scope=col>Study</th><th scope=col>Patient</th><th scope=col>Samplename</th><th scope=col>Sample_type</th></tr>\n",
       "\t<tr><th scope=col>&lt;fct&gt;</th><th scope=col>&lt;lgl&gt;</th><th scope=col>&lt;lgl&gt;</th><th scope=col>&lt;lgl&gt;</th><th scope=col>&lt;lgl&gt;</th></tr>\n",
       "</thead>\n",
       "<tbody>\n",
       "\t<tr><td>IMS-001_MoST-K006_T_DNA</td><td>NA</td><td>NA</td><td>NA</td><td>NA</td></tr>\n",
       "\t<tr><td>IMS-002_MoST-K011_T_DNA</td><td>NA</td><td>NA</td><td>NA</td><td>NA</td></tr>\n",
       "\t<tr><td>IMS-003_MoST-K014_T_DNA</td><td>NA</td><td>NA</td><td>NA</td><td>NA</td></tr>\n",
       "\t<tr><td>IMS-004_MoST-K001_T_DNA</td><td>NA</td><td>NA</td><td>NA</td><td>NA</td></tr>\n",
       "\t<tr><td>IMS-005_MoST-K016_T_DNA</td><td>NA</td><td>NA</td><td>NA</td><td>NA</td></tr>\n",
       "\t<tr><td>IMS-006_MoST-K017_T_DNA</td><td>NA</td><td>NA</td><td>NA</td><td>NA</td></tr>\n",
       "</tbody>\n",
       "</table>\n"
      ],
      "text/latex": [
       "A data.frame: 6 × 5\n",
       "\\begin{tabular}{r|lllll}\n",
       " filename & Study & Patient & Samplename & Sample\\_type\\\\\n",
       " <fct> & <lgl> & <lgl> & <lgl> & <lgl>\\\\\n",
       "\\hline\n",
       "\t IMS-001\\_MoST-K006\\_T\\_DNA & NA & NA & NA & NA\\\\\n",
       "\t IMS-002\\_MoST-K011\\_T\\_DNA & NA & NA & NA & NA\\\\\n",
       "\t IMS-003\\_MoST-K014\\_T\\_DNA & NA & NA & NA & NA\\\\\n",
       "\t IMS-004\\_MoST-K001\\_T\\_DNA & NA & NA & NA & NA\\\\\n",
       "\t IMS-005\\_MoST-K016\\_T\\_DNA & NA & NA & NA & NA\\\\\n",
       "\t IMS-006\\_MoST-K017\\_T\\_DNA & NA & NA & NA & NA\\\\\n",
       "\\end{tabular}\n"
      ],
      "text/markdown": [
       "\n",
       "A data.frame: 6 × 5\n",
       "\n",
       "| filename &lt;fct&gt; | Study &lt;lgl&gt; | Patient &lt;lgl&gt; | Samplename &lt;lgl&gt; | Sample_type &lt;lgl&gt; |\n",
       "|---|---|---|---|---|\n",
       "| IMS-001_MoST-K006_T_DNA | NA | NA | NA | NA |\n",
       "| IMS-002_MoST-K011_T_DNA | NA | NA | NA | NA |\n",
       "| IMS-003_MoST-K014_T_DNA | NA | NA | NA | NA |\n",
       "| IMS-004_MoST-K001_T_DNA | NA | NA | NA | NA |\n",
       "| IMS-005_MoST-K016_T_DNA | NA | NA | NA | NA |\n",
       "| IMS-006_MoST-K017_T_DNA | NA | NA | NA | NA |\n",
       "\n"
      ],
      "text/plain": [
       "  filename                Study Patient Samplename Sample_type\n",
       "1 IMS-001_MoST-K006_T_DNA NA    NA      NA         NA         \n",
       "2 IMS-002_MoST-K011_T_DNA NA    NA      NA         NA         \n",
       "3 IMS-003_MoST-K014_T_DNA NA    NA      NA         NA         \n",
       "4 IMS-004_MoST-K001_T_DNA NA    NA      NA         NA         \n",
       "5 IMS-005_MoST-K016_T_DNA NA    NA      NA         NA         \n",
       "6 IMS-006_MoST-K017_T_DNA NA    NA      NA         NA         "
      ]
     },
     "metadata": {},
     "output_type": "display_data"
    }
   ],
   "source": [
    "head(allfilenames_df)"
   ]
  },
  {
   "cell_type": "code",
   "execution_count": 196,
   "metadata": {},
   "outputs": [],
   "source": [
    "allfilenames_df$filename <- as.character(allfilenames_df$filename)"
   ]
  },
  {
   "cell_type": "code",
   "execution_count": 197,
   "metadata": {},
   "outputs": [],
   "source": [
    "allfilenames_df$Samplename <- gsub(\"CLONES_TRB_\", \"\", allfilenames_df$filename)\n",
    "allfilenames_df$Samplename <- gsub(\"CLONES_TRB\", \"\", allfilenames_df$Samplename)"
   ]
  },
  {
   "cell_type": "markdown",
   "metadata": {},
   "source": [
    "## add study name"
   ]
  },
  {
   "cell_type": "code",
   "execution_count": 198,
   "metadata": {},
   "outputs": [],
   "source": [
    "HSJ <- c('23-Blood', '23-Tum', '50-Tum', '51-Tum', '23-Tum_2000000', \n",
    "         '50-Tum_2000000', '51-Tum_2000000', '023-CSF', '051-CSF', '051R-CSF',\n",
    "         '19-CSF', '41-CSF', '67-CSF', '76-Tum', '77-Tum', '19-CSF_2000000',\n",
    "         '23-CSF_2000000', '41-CSF_2000000', '51-CSF_2000000', '51R-CSF_2000000',\n",
    "         '67-CSF_2000000', '76-Tum_2000000', '77-Tum_2000000', '23-Plasma',\n",
    "         '50-CSF', '67-Tum', '68-Plasma', '68-Tum', '76-CSF', '76-Plasma',\n",
    "         '77-CSF', '77-Plasma', '50-CSF_2000000', '67-Tum_2000000', \n",
    "         '68-Plasma_2000000', '76-CSF_2000000','76-Plasma_2000000')"
   ]
  },
  {
   "cell_type": "code",
   "execution_count": 213,
   "metadata": {},
   "outputs": [],
   "source": [
    "allfilenames_df$Study[grepl(\"IMS\",allfilenames_df$filename)] <- \"IMS\"\n",
    "allfilenames_df$Study[grepl(\"INSPIRE\",allfilenames_df$filename)] <- \"INSPIRE\"\n",
    "allfilenames_df$Study[grepl(\"CHP\",allfilenames_df$filename)] <- \"INTERCEPT\"\n",
    "allfilenames_df$Study[grepl(\"LFS\",allfilenames_df$filename)] <- \"LFS\"\n",
    "allfilenames_df$Study[grepl(\"Lymphotrack\",allfilenames_df$filename)] <- \"Lymphotrack\"\n",
    "allfilenames_df$Study[grepl(\"NPC\",allfilenames_df$filename)] <- \"NPC\"\n",
    "allfilenames_df$Study[grepl(\"TLML\",allfilenames_df$filename)] <- \"TLML\"\n",
    "allfilenames_df$Study[grepl(\"TLDC\",allfilenames_df$filename)] <- \"TLDC\"\n",
    "allfilenames_df$Study[allfilenames_df$Samplename %in% HSJ] <- \"HSJ\""
   ]
  },
  {
   "cell_type": "markdown",
   "metadata": {},
   "source": [
    "## Extract patient id from samplename"
   ]
  },
  {
   "cell_type": "code",
   "execution_count": 200,
   "metadata": {},
   "outputs": [],
   "source": [
    "allfilenames_df$Patient[which(allfilenames_df$Study == \"IMS\")] <- substr(allfilenames_df$filename[which(allfilenames_df$Study == \"IMS\")], 0,7)\n",
    "allfilenames_df$Patient[which(allfilenames_df$Study == \"INSPIRE\")] <- substr(allfilenames_df$Samplename[which(allfilenames_df$Study == \"INSPIRE\")], 9,17)\n",
    "allfilenames_df$Patient[which(allfilenames_df$Study == \"INTERCEPT\")] <- substr(allfilenames_df$filename[which(allfilenames_df$Study == \"INTERCEPT\")], 0,7)\n",
    "allfilenames_df$Patient[which(allfilenames_df$Study == \"LFS\")] <- substr(allfilenames_df$Samplename[which(allfilenames_df$Study == \"LFS\")], 0,12)\n",
    "allfilenames_df$Patient[which(allfilenames_df$Study == \"NPC\")] <- substr(allfilenames_df$Samplename[which(allfilenames_df$Study == \"NPC\")], 20,32)"
   ]
  },
  {
   "cell_type": "code",
   "execution_count": 201,
   "metadata": {},
   "outputs": [],
   "source": [
    "allfilenames_df$Patient[which(allfilenames_df$Study == \"HSJ\")&\n",
    "                       grepl(\"B23\", allfilenames_df$filename)] <- \"HSJ23\"\n",
    "allfilenames_df$Patient[which(allfilenames_df$Study == \"HSJ\")&\n",
    "                       grepl(\"B023\", allfilenames_df$filename)] <- \"HSJ23\"\n",
    "allfilenames_df$Patient[which(allfilenames_df$Study == \"HSJ\")&\n",
    "                       grepl(\"B50\", allfilenames_df$filename)] <- \"HSJ50\"\n",
    "allfilenames_df$Patient[which(allfilenames_df$Study == \"HSJ\")&\n",
    "                       grepl(\"B51-\", allfilenames_df$filename)] <- \"HSJ51\"\n",
    "allfilenames_df$Patient[which(allfilenames_df$Study == \"HSJ\")&\n",
    "                       grepl(\"B051-\", allfilenames_df$filename)] <- \"HSJ51\"\n",
    "allfilenames_df$Patient[which(allfilenames_df$Study == \"HSJ\")&\n",
    "                       grepl(\"B51R\", allfilenames_df$filename)] <- \"HSJ51R\"\n",
    "allfilenames_df$Patient[which(allfilenames_df$Study == \"HSJ\")&\n",
    "                       grepl(\"B051R\", allfilenames_df$filename)] <- \"HSJ51R\"\n",
    "allfilenames_df$Patient[which(allfilenames_df$Study == \"HSJ\")&\n",
    "                       grepl(\"B19\", allfilenames_df$filename)] <- \"HSJ19\"\n",
    "allfilenames_df$Patient[which(allfilenames_df$Study == \"HSJ\")&\n",
    "                       grepl(\"B41\", allfilenames_df$filename)] <- \"HSJ41\"\n",
    "allfilenames_df$Patient[which(allfilenames_df$Study == \"HSJ\")&\n",
    "                       grepl(\"B67\", allfilenames_df$filename)] <- \"HSJ67\"\n",
    "allfilenames_df$Patient[which(allfilenames_df$Study == \"HSJ\")&\n",
    "                       grepl(\"B68\", allfilenames_df$filename)] <- \"HSJ68\"\n",
    "allfilenames_df$Patient[which(allfilenames_df$Study == \"HSJ\")&\n",
    "                       grepl(\"B76\", allfilenames_df$filename)] <- \"HSJ76\"\n",
    "allfilenames_df$Patient[which(allfilenames_df$Study == \"HSJ\")&\n",
    "                       grepl(\"B77\", allfilenames_df$filename)] <- \"HSJ77\""
   ]
  },
  {
   "cell_type": "code",
   "execution_count": 229,
   "metadata": {},
   "outputs": [],
   "source": [
    "allfilenames_df$Patient[grepl(\"VM\", allfilenames_df$filename)] <- \"TLDC-001\"\n",
    "allfilenames_df$Patient[grepl(\"TLML-004\", allfilenames_df$filename)] <- \"TLML-004\"\n",
    "allfilenames_df$Patient[grepl(\"TLML-016\", allfilenames_df$filename)] <- \"TLML-016\"\n",
    "allfilenames_df$Patient[grepl(\"TLML_16\", allfilenames_df$filename)] <- \"TLML-016\"\n",
    "allfilenames_df$Patient[grepl(\"TLML_18\", allfilenames_df$filename)] <- \"TLML-018\"\n",
    "\n",
    "allfilenames_df$Patient[grepl(\"TLML-019\", allfilenames_df$filename)] <- \"TLML-019\"\n",
    "allfilenames_df$Patient[grepl(\"TLML-020\", allfilenames_df$filename)] <- \"TLML-020\"\n",
    "allfilenames_df$Patient[grepl(\"TLML_20\", allfilenames_df$filename)] <- \"TLML-020\"\n",
    "\n",
    "allfilenames_df$Patient[grepl(\"TLML-022\", allfilenames_df$filename)] <- \"TLML-022\"\n",
    "allfilenames_df$Patient[grepl(\"TLML_22\", allfilenames_df$filename)] <- \"TLML-022\"\n",
    "\n",
    "allfilenames_df$Patient[grepl(\"TLML-029\", allfilenames_df$filename)] <- \"TLML-029\"\n",
    "allfilenames_df$Patient[grepl(\"TLML_29\", allfilenames_df$filename)] <- \"TLML-029\"\n",
    "\n",
    "\n",
    "allfilenames_df$Patient[grepl(\"TLML_1\", allfilenames_df$filename)] <- \"TLML-001\"\n",
    "allfilenames_df$Patient[grepl(\"TLML_4\", allfilenames_df$filename)] <- \"TLML-004\"\n",
    "allfilenames_df$Patient[grepl(\"TLML_7\", allfilenames_df$filename)] <- \"TLML-007\"\n"
   ]
  },
  {
   "cell_type": "markdown",
   "metadata": {},
   "source": [
    "## Extract sampletype"
   ]
  },
  {
   "cell_type": "code",
   "execution_count": 202,
   "metadata": {},
   "outputs": [],
   "source": [
    "allfilenames_df$Sample_type[which(allfilenames_df$Study == \"NPC\")] <- \"Tumour\"\n",
    "allfilenames_df$Sample_type[which(allfilenames_df$Study == \"LFS\")] <- \"PBMC\"\n",
    "allfilenames_df$Sample_type[which(allfilenames_df$Study == \"INTERCEPT\")] <- \"PBMC\""
   ]
  },
  {
   "cell_type": "code",
   "execution_count": 203,
   "metadata": {},
   "outputs": [],
   "source": [
    "allfilenames_df$Sample_type[grepl(\"BC\", allfilenames_df$Samplename)] <- \"PBMC\"\n",
    "allfilenames_df$Sample_type[grepl(\"_T_DNA\", allfilenames_df$Samplename)] <- \"Tumour\"\n",
    "allfilenames_df$Sample_type[grepl(\"CSF\", allfilenames_df$Samplename)] <- \"CSF\"\n",
    "allfilenames_df$Sample_type[grepl(\"Plasma\", allfilenames_df$Samplename)] <- \"Plasma\"\n",
    "allfilenames_df$Sample_type[grepl(\"Blood\", allfilenames_df$Samplename)] <- \"PBMC\"\n",
    "allfilenames_df$Sample_type[grepl(\"Tum\", allfilenames_df$Samplename)] <- \"Tumour\"\n",
    "allfilenames_df$Sample_type[grepl(\"Lymphotrack\", allfilenames_df$Samplename)] <- \"PBMC\""
   ]
  },
  {
   "cell_type": "code",
   "execution_count": 204,
   "metadata": {},
   "outputs": [],
   "source": [
    "lines <- c('A037', 'CEM', 'Jurkat', 'L2D8', 'M36-EZM',\n",
    "           'M36-TIL2-1E7P3', 'MOLT-4', 'OV7-TIL2', 'STIM1-CY3',\n",
    "           'SUP-T1', 'Undetermined', 'SE14-2005', 'SE14-2033',\n",
    "           'SE14-2034', 'SE14-2035')"
   ]
  },
  {
   "cell_type": "code",
   "execution_count": 205,
   "metadata": {},
   "outputs": [],
   "source": [
    "allfilenames_df$Sample_type[allfilenames_df$Samplename %in% lines] <- \"Lines\""
   ]
  },
  {
   "cell_type": "code",
   "execution_count": 206,
   "metadata": {},
   "outputs": [],
   "source": [
    "allfilenames_df$Sample_type[grepl(\"TLML\",allfilenames_df$Samplename) &\n",
    "                            grepl(\"cfDNA\", allfilenames_df$Samplename)] <- \"Plasma\"\n",
    "\n",
    "allfilenames_df$Sample_type[grepl(\"TLML\",allfilenames_df$Samplename) &\n",
    "                            grepl(\"genomic\", allfilenames_df$Samplename)] <- \"PBMC\"\n",
    "\n",
    "allfilenames_df$Sample_type[grepl(\"TLDC\",allfilenames_df$Samplename) &\n",
    "                            grepl(\"cfDNA\", allfilenames_df$Samplename)] <- \"Plasma\"\n",
    "\n",
    "allfilenames_df$Sample_type[grepl(\"TLDC\",allfilenames_df$Samplename) &\n",
    "                            grepl(\"genomic\", allfilenames_df$Samplename)] <- \"PBMC\""
   ]
  },
  {
   "cell_type": "code",
   "execution_count": 207,
   "metadata": {},
   "outputs": [],
   "source": [
    "allfilenames_df$Sample_type[grepl(\"INSPIRE\",allfilenames_df$Samplename) &\n",
    "                            grepl(\"ST\", allfilenames_df$Samplename)] <- \"Tumour\"\n",
    "\n",
    "allfilenames_df$Sample_type[grepl(\"INSPIRE\",allfilenames_df$Samplename) &\n",
    "                            grepl(\"C2T\", allfilenames_df$Samplename)] <- \"Tumour\"\n",
    "\n",
    "allfilenames_df$Sample_type[grepl(\"INSPIRE\",allfilenames_df$Samplename) &\n",
    "                          grepl(\"B_\", allfilenames_df$Samplename) &\n",
    "                          grepl(\"genomic\", allfilenames_df$Samplename) ] <- \"PBMC\"\n",
    "\n",
    "allfilenames_df$Sample_type[grepl(\"INSPIRE\",allfilenames_df$Samplename) &\n",
    "                          grepl(\"cfDNA\", allfilenames_df$Samplename) ] <- \"Plasma\""
   ]
  },
  {
   "cell_type": "code",
   "execution_count": 211,
   "metadata": {},
   "outputs": [
    {
     "data": {
      "text/html": [
       "<table>\n",
       "<caption>A data.frame: 6 × 5</caption>\n",
       "<thead>\n",
       "\t<tr><th scope=col>filename</th><th scope=col>Study</th><th scope=col>Patient</th><th scope=col>Samplename</th><th scope=col>Sample_type</th></tr>\n",
       "\t<tr><th scope=col>&lt;chr&gt;</th><th scope=col>&lt;chr&gt;</th><th scope=col>&lt;chr&gt;</th><th scope=col>&lt;chr&gt;</th><th scope=col>&lt;chr&gt;</th></tr>\n",
       "</thead>\n",
       "<tbody>\n",
       "\t<tr><td>IMS-001_MoST-K006_T_DNA</td><td>IMS</td><td>IMS-001</td><td>IMS-001_MoST-K006_T_DNA</td><td>Tumour</td></tr>\n",
       "\t<tr><td>IMS-002_MoST-K011_T_DNA</td><td>IMS</td><td>IMS-002</td><td>IMS-002_MoST-K011_T_DNA</td><td>Tumour</td></tr>\n",
       "\t<tr><td>IMS-003_MoST-K014_T_DNA</td><td>IMS</td><td>IMS-003</td><td>IMS-003_MoST-K014_T_DNA</td><td>Tumour</td></tr>\n",
       "\t<tr><td>IMS-004_MoST-K001_T_DNA</td><td>IMS</td><td>IMS-004</td><td>IMS-004_MoST-K001_T_DNA</td><td>Tumour</td></tr>\n",
       "\t<tr><td>IMS-005_MoST-K016_T_DNA</td><td>IMS</td><td>IMS-005</td><td>IMS-005_MoST-K016_T_DNA</td><td>Tumour</td></tr>\n",
       "\t<tr><td>IMS-006_MoST-K017_T_DNA</td><td>IMS</td><td>IMS-006</td><td>IMS-006_MoST-K017_T_DNA</td><td>Tumour</td></tr>\n",
       "</tbody>\n",
       "</table>\n"
      ],
      "text/latex": [
       "A data.frame: 6 × 5\n",
       "\\begin{tabular}{r|lllll}\n",
       " filename & Study & Patient & Samplename & Sample\\_type\\\\\n",
       " <chr> & <chr> & <chr> & <chr> & <chr>\\\\\n",
       "\\hline\n",
       "\t IMS-001\\_MoST-K006\\_T\\_DNA & IMS & IMS-001 & IMS-001\\_MoST-K006\\_T\\_DNA & Tumour\\\\\n",
       "\t IMS-002\\_MoST-K011\\_T\\_DNA & IMS & IMS-002 & IMS-002\\_MoST-K011\\_T\\_DNA & Tumour\\\\\n",
       "\t IMS-003\\_MoST-K014\\_T\\_DNA & IMS & IMS-003 & IMS-003\\_MoST-K014\\_T\\_DNA & Tumour\\\\\n",
       "\t IMS-004\\_MoST-K001\\_T\\_DNA & IMS & IMS-004 & IMS-004\\_MoST-K001\\_T\\_DNA & Tumour\\\\\n",
       "\t IMS-005\\_MoST-K016\\_T\\_DNA & IMS & IMS-005 & IMS-005\\_MoST-K016\\_T\\_DNA & Tumour\\\\\n",
       "\t IMS-006\\_MoST-K017\\_T\\_DNA & IMS & IMS-006 & IMS-006\\_MoST-K017\\_T\\_DNA & Tumour\\\\\n",
       "\\end{tabular}\n"
      ],
      "text/markdown": [
       "\n",
       "A data.frame: 6 × 5\n",
       "\n",
       "| filename &lt;chr&gt; | Study &lt;chr&gt; | Patient &lt;chr&gt; | Samplename &lt;chr&gt; | Sample_type &lt;chr&gt; |\n",
       "|---|---|---|---|---|\n",
       "| IMS-001_MoST-K006_T_DNA | IMS | IMS-001 | IMS-001_MoST-K006_T_DNA | Tumour |\n",
       "| IMS-002_MoST-K011_T_DNA | IMS | IMS-002 | IMS-002_MoST-K011_T_DNA | Tumour |\n",
       "| IMS-003_MoST-K014_T_DNA | IMS | IMS-003 | IMS-003_MoST-K014_T_DNA | Tumour |\n",
       "| IMS-004_MoST-K001_T_DNA | IMS | IMS-004 | IMS-004_MoST-K001_T_DNA | Tumour |\n",
       "| IMS-005_MoST-K016_T_DNA | IMS | IMS-005 | IMS-005_MoST-K016_T_DNA | Tumour |\n",
       "| IMS-006_MoST-K017_T_DNA | IMS | IMS-006 | IMS-006_MoST-K017_T_DNA | Tumour |\n",
       "\n"
      ],
      "text/plain": [
       "  filename                Study Patient Samplename              Sample_type\n",
       "1 IMS-001_MoST-K006_T_DNA IMS   IMS-001 IMS-001_MoST-K006_T_DNA Tumour     \n",
       "2 IMS-002_MoST-K011_T_DNA IMS   IMS-002 IMS-002_MoST-K011_T_DNA Tumour     \n",
       "3 IMS-003_MoST-K014_T_DNA IMS   IMS-003 IMS-003_MoST-K014_T_DNA Tumour     \n",
       "4 IMS-004_MoST-K001_T_DNA IMS   IMS-004 IMS-004_MoST-K001_T_DNA Tumour     \n",
       "5 IMS-005_MoST-K016_T_DNA IMS   IMS-005 IMS-005_MoST-K016_T_DNA Tumour     \n",
       "6 IMS-006_MoST-K017_T_DNA IMS   IMS-006 IMS-006_MoST-K017_T_DNA Tumour     "
      ]
     },
     "metadata": {},
     "output_type": "display_data"
    }
   ],
   "source": [
    "head(allfilenames_df)"
   ]
  },
  {
   "cell_type": "code",
   "execution_count": 230,
   "metadata": {},
   "outputs": [],
   "source": [
    "write.csv(allfilenames_df, \n",
    "          file = paste0(datapath,\"commonclonotypes_metadata.csv\"),\n",
    "          row.names = F)"
   ]
  },
  {
   "cell_type": "code",
   "execution_count": 2,
   "metadata": {},
   "outputs": [],
   "source": [
    "?expand.grid"
   ]
  },
  {
   "cell_type": "code",
   "execution_count": 6,
   "metadata": {},
   "outputs": [],
   "source": [
    "vec <- c(\"A1\", \"A2\", \"A3\")\n",
    "vec1 <- c(\"B1\", \"B2\", \"B3\")"
   ]
  },
  {
   "cell_type": "code",
   "execution_count": 10,
   "metadata": {},
   "outputs": [
    {
     "data": {
      "text/html": [
       "720"
      ],
      "text/latex": [
       "720"
      ],
      "text/markdown": [
       "720"
      ],
      "text/plain": [
       "[1] 720"
      ]
     },
     "metadata": {},
     "output_type": "display_data"
    }
   ],
   "source": [
    "6*5*4*3*2"
   ]
  },
  {
   "cell_type": "code",
   "execution_count": 7,
   "metadata": {},
   "outputs": [
    {
     "data": {
      "text/html": [
       "<table class=\"dataframe\">\n",
       "<caption>A data.frame: 9 × 2</caption>\n",
       "<thead>\n",
       "\t<tr><th scope=col>Var1</th><th scope=col>Var2</th></tr>\n",
       "\t<tr><th scope=col>&lt;fct&gt;</th><th scope=col>&lt;fct&gt;</th></tr>\n",
       "</thead>\n",
       "<tbody>\n",
       "\t<tr><td>A1</td><td>B1</td></tr>\n",
       "\t<tr><td>A2</td><td>B1</td></tr>\n",
       "\t<tr><td>A3</td><td>B1</td></tr>\n",
       "\t<tr><td>A1</td><td>B2</td></tr>\n",
       "\t<tr><td>A2</td><td>B2</td></tr>\n",
       "\t<tr><td>A3</td><td>B2</td></tr>\n",
       "\t<tr><td>A1</td><td>B3</td></tr>\n",
       "\t<tr><td>A2</td><td>B3</td></tr>\n",
       "\t<tr><td>A3</td><td>B3</td></tr>\n",
       "</tbody>\n",
       "</table>\n"
      ],
      "text/latex": [
       "A data.frame: 9 × 2\n",
       "\\begin{tabular}{ll}\n",
       " Var1 & Var2\\\\\n",
       " <fct> & <fct>\\\\\n",
       "\\hline\n",
       "\t A1 & B1\\\\\n",
       "\t A2 & B1\\\\\n",
       "\t A3 & B1\\\\\n",
       "\t A1 & B2\\\\\n",
       "\t A2 & B2\\\\\n",
       "\t A3 & B2\\\\\n",
       "\t A1 & B3\\\\\n",
       "\t A2 & B3\\\\\n",
       "\t A3 & B3\\\\\n",
       "\\end{tabular}\n"
      ],
      "text/markdown": [
       "\n",
       "A data.frame: 9 × 2\n",
       "\n",
       "| Var1 &lt;fct&gt; | Var2 &lt;fct&gt; |\n",
       "|---|---|\n",
       "| A1 | B1 |\n",
       "| A2 | B1 |\n",
       "| A3 | B1 |\n",
       "| A1 | B2 |\n",
       "| A2 | B2 |\n",
       "| A3 | B2 |\n",
       "| A1 | B3 |\n",
       "| A2 | B3 |\n",
       "| A3 | B3 |\n",
       "\n"
      ],
      "text/plain": [
       "  Var1 Var2\n",
       "1 A1   B1  \n",
       "2 A2   B1  \n",
       "3 A3   B1  \n",
       "4 A1   B2  \n",
       "5 A2   B2  \n",
       "6 A3   B2  \n",
       "7 A1   B3  \n",
       "8 A2   B3  \n",
       "9 A3   B3  "
      ]
     },
     "metadata": {},
     "output_type": "display_data"
    }
   ],
   "source": [
    "expand.grid(vec, vec1)\n"
   ]
  },
  {
   "cell_type": "code",
   "execution_count": 1,
   "metadata": {},
   "outputs": [
    {
     "data": {
      "text/html": [
       "<table class=\"dataframe\">\n",
       "<caption>A matrix: 32 × 5 of type dbl</caption>\n",
       "<thead>\n",
       "\t<tr><th scope=col>Var1</th><th scope=col>Var2</th><th scope=col>Var3</th><th scope=col>Var4</th><th scope=col>Var5</th></tr>\n",
       "</thead>\n",
       "<tbody>\n",
       "\t<tr><td>-1</td><td>-1</td><td>-1</td><td>-1</td><td>-1</td></tr>\n",
       "\t<tr><td> 1</td><td>-1</td><td>-1</td><td>-1</td><td>-1</td></tr>\n",
       "\t<tr><td>-1</td><td> 1</td><td>-1</td><td>-1</td><td>-1</td></tr>\n",
       "\t<tr><td> 1</td><td> 1</td><td>-1</td><td>-1</td><td>-1</td></tr>\n",
       "\t<tr><td>-1</td><td>-1</td><td> 1</td><td>-1</td><td>-1</td></tr>\n",
       "\t<tr><td> 1</td><td>-1</td><td> 1</td><td>-1</td><td>-1</td></tr>\n",
       "\t<tr><td>-1</td><td> 1</td><td> 1</td><td>-1</td><td>-1</td></tr>\n",
       "\t<tr><td> 1</td><td> 1</td><td> 1</td><td>-1</td><td>-1</td></tr>\n",
       "\t<tr><td>-1</td><td>-1</td><td>-1</td><td> 1</td><td>-1</td></tr>\n",
       "\t<tr><td> 1</td><td>-1</td><td>-1</td><td> 1</td><td>-1</td></tr>\n",
       "\t<tr><td>-1</td><td> 1</td><td>-1</td><td> 1</td><td>-1</td></tr>\n",
       "\t<tr><td> 1</td><td> 1</td><td>-1</td><td> 1</td><td>-1</td></tr>\n",
       "\t<tr><td>-1</td><td>-1</td><td> 1</td><td> 1</td><td>-1</td></tr>\n",
       "\t<tr><td> 1</td><td>-1</td><td> 1</td><td> 1</td><td>-1</td></tr>\n",
       "\t<tr><td>-1</td><td> 1</td><td> 1</td><td> 1</td><td>-1</td></tr>\n",
       "\t<tr><td> 1</td><td> 1</td><td> 1</td><td> 1</td><td>-1</td></tr>\n",
       "\t<tr><td>-1</td><td>-1</td><td>-1</td><td>-1</td><td> 1</td></tr>\n",
       "\t<tr><td> 1</td><td>-1</td><td>-1</td><td>-1</td><td> 1</td></tr>\n",
       "\t<tr><td>-1</td><td> 1</td><td>-1</td><td>-1</td><td> 1</td></tr>\n",
       "\t<tr><td> 1</td><td> 1</td><td>-1</td><td>-1</td><td> 1</td></tr>\n",
       "\t<tr><td>-1</td><td>-1</td><td> 1</td><td>-1</td><td> 1</td></tr>\n",
       "\t<tr><td> 1</td><td>-1</td><td> 1</td><td>-1</td><td> 1</td></tr>\n",
       "\t<tr><td>-1</td><td> 1</td><td> 1</td><td>-1</td><td> 1</td></tr>\n",
       "\t<tr><td> 1</td><td> 1</td><td> 1</td><td>-1</td><td> 1</td></tr>\n",
       "\t<tr><td>-1</td><td>-1</td><td>-1</td><td> 1</td><td> 1</td></tr>\n",
       "\t<tr><td> 1</td><td>-1</td><td>-1</td><td> 1</td><td> 1</td></tr>\n",
       "\t<tr><td>-1</td><td> 1</td><td>-1</td><td> 1</td><td> 1</td></tr>\n",
       "\t<tr><td> 1</td><td> 1</td><td>-1</td><td> 1</td><td> 1</td></tr>\n",
       "\t<tr><td>-1</td><td>-1</td><td> 1</td><td> 1</td><td> 1</td></tr>\n",
       "\t<tr><td> 1</td><td>-1</td><td> 1</td><td> 1</td><td> 1</td></tr>\n",
       "\t<tr><td>-1</td><td> 1</td><td> 1</td><td> 1</td><td> 1</td></tr>\n",
       "\t<tr><td> 1</td><td> 1</td><td> 1</td><td> 1</td><td> 1</td></tr>\n",
       "</tbody>\n",
       "</table>\n"
      ],
      "text/latex": [
       "A matrix: 32 × 5 of type dbl\n",
       "\\begin{tabular}{lllll}\n",
       " Var1 & Var2 & Var3 & Var4 & Var5\\\\\n",
       "\\hline\n",
       "\t -1 & -1 & -1 & -1 & -1\\\\\n",
       "\t  1 & -1 & -1 & -1 & -1\\\\\n",
       "\t -1 &  1 & -1 & -1 & -1\\\\\n",
       "\t  1 &  1 & -1 & -1 & -1\\\\\n",
       "\t -1 & -1 &  1 & -1 & -1\\\\\n",
       "\t  1 & -1 &  1 & -1 & -1\\\\\n",
       "\t -1 &  1 &  1 & -1 & -1\\\\\n",
       "\t  1 &  1 &  1 & -1 & -1\\\\\n",
       "\t -1 & -1 & -1 &  1 & -1\\\\\n",
       "\t  1 & -1 & -1 &  1 & -1\\\\\n",
       "\t -1 &  1 & -1 &  1 & -1\\\\\n",
       "\t  1 &  1 & -1 &  1 & -1\\\\\n",
       "\t -1 & -1 &  1 &  1 & -1\\\\\n",
       "\t  1 & -1 &  1 &  1 & -1\\\\\n",
       "\t -1 &  1 &  1 &  1 & -1\\\\\n",
       "\t  1 &  1 &  1 &  1 & -1\\\\\n",
       "\t -1 & -1 & -1 & -1 &  1\\\\\n",
       "\t  1 & -1 & -1 & -1 &  1\\\\\n",
       "\t -1 &  1 & -1 & -1 &  1\\\\\n",
       "\t  1 &  1 & -1 & -1 &  1\\\\\n",
       "\t -1 & -1 &  1 & -1 &  1\\\\\n",
       "\t  1 & -1 &  1 & -1 &  1\\\\\n",
       "\t -1 &  1 &  1 & -1 &  1\\\\\n",
       "\t  1 &  1 &  1 & -1 &  1\\\\\n",
       "\t -1 & -1 & -1 &  1 &  1\\\\\n",
       "\t  1 & -1 & -1 &  1 &  1\\\\\n",
       "\t -1 &  1 & -1 &  1 &  1\\\\\n",
       "\t  1 &  1 & -1 &  1 &  1\\\\\n",
       "\t -1 & -1 &  1 &  1 &  1\\\\\n",
       "\t  1 & -1 &  1 &  1 &  1\\\\\n",
       "\t -1 &  1 &  1 &  1 &  1\\\\\n",
       "\t  1 &  1 &  1 &  1 &  1\\\\\n",
       "\\end{tabular}\n"
      ],
      "text/markdown": [
       "\n",
       "A matrix: 32 × 5 of type dbl\n",
       "\n",
       "| Var1 | Var2 | Var3 | Var4 | Var5 |\n",
       "|---|---|---|---|---|\n",
       "| -1 | -1 | -1 | -1 | -1 |\n",
       "|  1 | -1 | -1 | -1 | -1 |\n",
       "| -1 |  1 | -1 | -1 | -1 |\n",
       "|  1 |  1 | -1 | -1 | -1 |\n",
       "| -1 | -1 |  1 | -1 | -1 |\n",
       "|  1 | -1 |  1 | -1 | -1 |\n",
       "| -1 |  1 |  1 | -1 | -1 |\n",
       "|  1 |  1 |  1 | -1 | -1 |\n",
       "| -1 | -1 | -1 |  1 | -1 |\n",
       "|  1 | -1 | -1 |  1 | -1 |\n",
       "| -1 |  1 | -1 |  1 | -1 |\n",
       "|  1 |  1 | -1 |  1 | -1 |\n",
       "| -1 | -1 |  1 |  1 | -1 |\n",
       "|  1 | -1 |  1 |  1 | -1 |\n",
       "| -1 |  1 |  1 |  1 | -1 |\n",
       "|  1 |  1 |  1 |  1 | -1 |\n",
       "| -1 | -1 | -1 | -1 |  1 |\n",
       "|  1 | -1 | -1 | -1 |  1 |\n",
       "| -1 |  1 | -1 | -1 |  1 |\n",
       "|  1 |  1 | -1 | -1 |  1 |\n",
       "| -1 | -1 |  1 | -1 |  1 |\n",
       "|  1 | -1 |  1 | -1 |  1 |\n",
       "| -1 |  1 |  1 | -1 |  1 |\n",
       "|  1 |  1 |  1 | -1 |  1 |\n",
       "| -1 | -1 | -1 |  1 |  1 |\n",
       "|  1 | -1 | -1 |  1 |  1 |\n",
       "| -1 |  1 | -1 |  1 |  1 |\n",
       "|  1 |  1 | -1 |  1 |  1 |\n",
       "| -1 | -1 |  1 |  1 |  1 |\n",
       "|  1 | -1 |  1 |  1 |  1 |\n",
       "| -1 |  1 |  1 |  1 |  1 |\n",
       "|  1 |  1 |  1 |  1 |  1 |\n",
       "\n"
      ],
      "text/plain": [
       "      Var1 Var2 Var3 Var4 Var5\n",
       " [1,] -1   -1   -1   -1   -1  \n",
       " [2,]  1   -1   -1   -1   -1  \n",
       " [3,] -1    1   -1   -1   -1  \n",
       " [4,]  1    1   -1   -1   -1  \n",
       " [5,] -1   -1    1   -1   -1  \n",
       " [6,]  1   -1    1   -1   -1  \n",
       " [7,] -1    1    1   -1   -1  \n",
       " [8,]  1    1    1   -1   -1  \n",
       " [9,] -1   -1   -1    1   -1  \n",
       "[10,]  1   -1   -1    1   -1  \n",
       "[11,] -1    1   -1    1   -1  \n",
       "[12,]  1    1   -1    1   -1  \n",
       "[13,] -1   -1    1    1   -1  \n",
       "[14,]  1   -1    1    1   -1  \n",
       "[15,] -1    1    1    1   -1  \n",
       "[16,]  1    1    1    1   -1  \n",
       "[17,] -1   -1   -1   -1    1  \n",
       "[18,]  1   -1   -1   -1    1  \n",
       "[19,] -1    1   -1   -1    1  \n",
       "[20,]  1    1   -1   -1    1  \n",
       "[21,] -1   -1    1   -1    1  \n",
       "[22,]  1   -1    1   -1    1  \n",
       "[23,] -1    1    1   -1    1  \n",
       "[24,]  1    1    1   -1    1  \n",
       "[25,] -1   -1   -1    1    1  \n",
       "[26,]  1   -1   -1    1    1  \n",
       "[27,] -1    1   -1    1    1  \n",
       "[28,]  1    1   -1    1    1  \n",
       "[29,] -1   -1    1    1    1  \n",
       "[30,]  1   -1    1    1    1  \n",
       "[31,] -1    1    1    1    1  \n",
       "[32,]  1    1    1    1    1  "
      ]
     },
     "metadata": {},
     "output_type": "display_data"
    }
   ],
   "source": [
    "N   <- 5\n",
    "vec <- c(-1, 1)\n",
    "lst <- lapply(numeric(N), function(x) vec)\n",
    "as.matrix(expand.grid(lst))\n",
    "              "
   ]
  },
  {
   "cell_type": "code",
   "execution_count": null,
   "metadata": {},
   "outputs": [],
   "source": []
  },
  {
   "cell_type": "code",
   "execution_count": null,
   "metadata": {},
   "outputs": [],
   "source": []
  }
 ],
 "metadata": {
  "kernelspec": {
   "display_name": "R 4.0",
   "language": "R",
   "name": "ir40"
  },
  "language_info": {
   "codemirror_mode": "r",
   "file_extension": ".r",
   "mimetype": "text/x-r-source",
   "name": "R",
   "pygments_lexer": "r",
   "version": "4.0.3"
  },
  "toc": {
   "base_numbering": 1,
   "nav_menu": {},
   "number_sections": false,
   "sideBar": true,
   "skip_h1_title": false,
   "title_cell": "Table of Contents",
   "title_sidebar": "Contents",
   "toc_cell": true,
   "toc_position": {
    "height": "calc(100% - 180px)",
    "left": "10px",
    "top": "150px",
    "width": "244px"
   },
   "toc_section_display": true,
   "toc_window_display": true
  }
 },
 "nbformat": 4,
 "nbformat_minor": 2
}
