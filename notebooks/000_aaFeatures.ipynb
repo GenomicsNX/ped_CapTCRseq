{
 "cells": [
  {
   "cell_type": "markdown",
   "metadata": {
    "toc": true
   },
   "source": [
    "<h1>Table of Contents<span class=\"tocSkip\"></span></h1>\n",
    "<div class=\"toc\"><ul class=\"toc-item\"><li><span><a href=\"#Dependencies\" data-toc-modified-id=\"Dependencies-1\">Dependencies</a></span></li><li><span><a href=\"#Functions\" data-toc-modified-id=\"Functions-2\">Functions</a></span></li><li><span><a href=\"#Paths\" data-toc-modified-id=\"Paths-3\">Paths</a></span></li><li><span><a href=\"#Main\" data-toc-modified-id=\"Main-4\">Main</a></span><ul class=\"toc-item\"><li><ul class=\"toc-item\"><li><span><a href=\"#Get-aaFeatures-for-each-mixcrfile\" data-toc-modified-id=\"Get-aaFeatures-for-each-mixcrfile-4.0.1\">Get aaFeatures for each mixcrfile</a></span></li></ul></li></ul></li><li><span><a href=\"#plot\" data-toc-modified-id=\"plot-5\">plot</a></span></li><li><span><a href=\"#NMI\" data-toc-modified-id=\"NMI-6\">NMI</a></span></li></ul></div>"
   ]
  },
  {
   "cell_type": "markdown",
   "metadata": {},
   "source": [
    "# Dependencies"
   ]
  },
  {
   "cell_type": "code",
   "execution_count": 1,
   "metadata": {},
   "outputs": [],
   "source": [
    "pacman::p_load(igraph, graphlayouts, ggraph, ggforce, dplyr)"
   ]
  },
  {
   "cell_type": "markdown",
   "metadata": {},
   "source": [
    "# Functions"
   ]
  },
  {
   "cell_type": "code",
   "execution_count": 2,
   "metadata": {},
   "outputs": [],
   "source": [
    "#source(\"/Users/anabbi/git/ped_CapTCRseq/R/Immune_diversity.R\")"
   ]
  },
  {
   "cell_type": "code",
   "execution_count": 1,
   "metadata": {},
   "outputs": [],
   "source": [
    "aaFeatures.fx <- function(mixcrfle, aalength, outdir){\n",
    "    \n",
    "    aaT <- read.csv(file = \"~/Desktop/H4H/INTERCEPT/NextSeq/aaFeatures/aa_attributes.csv\", header = T, row.names = 1)\n",
    "    \n",
    "    mysample <- gsub(\".txt\",\"\", mixcrfle)\n",
    "    mysample <- gsub(\".*CLONES_TRB\", \"\", mysample)\n",
    "    \n",
    "    f1 <- read.table(file = mixcrfle, sep = \"\\t\", header = T, stringsAsFactors = F)\n",
    "    \n",
    "    message(paste(\"Number of CDR3s in:\", mixcrfle))\n",
    "    print(nrow(f1))\n",
    "    \n",
    "    #remove nonproductive\n",
    "    f1 <- f1[ !grepl(\"[_]\", f1$aaSeqCDR3),]\n",
    "    f1 <- f1[ !grepl(\"[*]\", f1$aaSeqCDR3),]\n",
    "    \n",
    "    message(paste(\"Number of CDR3s in:\", mixcrfle, \"nonproductive removed\"))\n",
    "    print(nrow(f1))\n",
    "    \n",
    "    f1$aa_length <- nchar(f1$aaSeqCDR3)\n",
    "    \n",
    "    f1_subset <- f1[ f1$aa_length == aalength,]\n",
    "    \n",
    "    if(nrow(f1_subset) <= 1){\n",
    "        stop(paste0(\"less than one CDR3 at length:\", aalength, \"for file:\", mixcrfle))\n",
    "    }\n",
    "    \n",
    "    myaamat_list <- vector(\"list\", aalength)\n",
    "\n",
    "    myaamat <- matrix(nrow = 20, ncol = 6,\n",
    "                      dimnames = list(rownames(aaT), \n",
    "                                      c(\"Freq\",\"F1\", \"F2\", \"F3\", \"F4\", \"F5\")))\n",
    "    for( i in 1:aalength){\n",
    "    mytab <- table(sapply(strsplit(f1_subset$aaSeqCDR3, \"\"),\"[[\",i) )\n",
    "    myaamat[rownames(mytab),\"Freq\"] <- mytab\n",
    "    myaamat[rownames(mytab), 2:6] <- unlist(aaT[rownames(mytab), 1:5]) * \n",
    "                                        myaamat[rownames(mytab),\"Freq\"]\n",
    "    myaamat_list[[i]] <- myaamat\n",
    "    myaamat[!is.na(myaamat)] <- NA\n",
    "}\n",
    "    \n",
    "    save(myaamat_list, file = paste0(outdir, mysample, \"_length\", aalength,\".RData\"))\n",
    "}"
   ]
  },
  {
   "cell_type": "markdown",
   "metadata": {},
   "source": [
    "# Paths"
   ]
  },
  {
   "cell_type": "code",
   "execution_count": 2,
   "metadata": {},
   "outputs": [],
   "source": [
    "datapath <- \"/Users/anabbi/OneDrive - UHN/Documents/INTERCEPT/Data/\"\n",
    "plotpath <- \"/Users/anabbi/OneDrive - UHN/Documents/INTERCEPT/Plots/\"\n",
    "manifestpath <- \"/Users/anabbi/OneDrive - UHN/Documents/INTERCEPT/Manifests/\"\n",
    "\n",
    "gitpath <- \"/Users/anabbi/git/ped_CapTCRseq/\""
   ]
  },
  {
   "cell_type": "code",
   "execution_count": 3,
   "metadata": {},
   "outputs": [],
   "source": [
    "h4hpath <- \"/Users/anabbi/Desktop/H4H/INTERCEPT/NextSeq/\""
   ]
  },
  {
   "cell_type": "markdown",
   "metadata": {},
   "source": [
    "# Main"
   ]
  },
  {
   "cell_type": "code",
   "execution_count": 31,
   "metadata": {},
   "outputs": [],
   "source": [
    "aaT <- read.csv(file = paste0(datapath, \"aa_attributes.csv\"), header = T, row.names = 1)"
   ]
  },
  {
   "cell_type": "code",
   "execution_count": 32,
   "metadata": {},
   "outputs": [
    {
     "data": {
      "text/html": [
       "<table class=\"dataframe\">\n",
       "<caption>A data.frame: 6 × 5</caption>\n",
       "<thead>\n",
       "\t<tr><th></th><th scope=col>Factor.I</th><th scope=col>Factor.II</th><th scope=col>Factor.III</th><th scope=col>Factor.IV</th><th scope=col>Factor.V</th></tr>\n",
       "\t<tr><th></th><th scope=col>&lt;dbl&gt;</th><th scope=col>&lt;dbl&gt;</th><th scope=col>&lt;dbl&gt;</th><th scope=col>&lt;dbl&gt;</th><th scope=col>&lt;dbl&gt;</th></tr>\n",
       "</thead>\n",
       "<tbody>\n",
       "\t<tr><th scope=row>A</th><td>-0.591</td><td>-1.302</td><td>-0.733</td><td> 1.570</td><td>-0.146</td></tr>\n",
       "\t<tr><th scope=row>C</th><td>-1.343</td><td> 0.465</td><td>-0.862</td><td>-1.020</td><td>-0.255</td></tr>\n",
       "\t<tr><th scope=row>D</th><td> 1.050</td><td> 0.302</td><td>-3.656</td><td>-0.259</td><td>-3.242</td></tr>\n",
       "\t<tr><th scope=row>E</th><td> 1.357</td><td>-1.453</td><td> 1.477</td><td> 0.113</td><td>-0.837</td></tr>\n",
       "\t<tr><th scope=row>F</th><td>-1.006</td><td>-0.590</td><td> 1.891</td><td>-0.397</td><td> 0.412</td></tr>\n",
       "\t<tr><th scope=row>G</th><td>-0.384</td><td> 1.652</td><td> 1.330</td><td> 1.045</td><td> 2.064</td></tr>\n",
       "</tbody>\n",
       "</table>\n"
      ],
      "text/latex": [
       "A data.frame: 6 × 5\n",
       "\\begin{tabular}{r|lllll}\n",
       "  & Factor.I & Factor.II & Factor.III & Factor.IV & Factor.V\\\\\n",
       "  & <dbl> & <dbl> & <dbl> & <dbl> & <dbl>\\\\\n",
       "\\hline\n",
       "\tA & -0.591 & -1.302 & -0.733 &  1.570 & -0.146\\\\\n",
       "\tC & -1.343 &  0.465 & -0.862 & -1.020 & -0.255\\\\\n",
       "\tD &  1.050 &  0.302 & -3.656 & -0.259 & -3.242\\\\\n",
       "\tE &  1.357 & -1.453 &  1.477 &  0.113 & -0.837\\\\\n",
       "\tF & -1.006 & -0.590 &  1.891 & -0.397 &  0.412\\\\\n",
       "\tG & -0.384 &  1.652 &  1.330 &  1.045 &  2.064\\\\\n",
       "\\end{tabular}\n"
      ],
      "text/markdown": [
       "\n",
       "A data.frame: 6 × 5\n",
       "\n",
       "| <!--/--> | Factor.I &lt;dbl&gt; | Factor.II &lt;dbl&gt; | Factor.III &lt;dbl&gt; | Factor.IV &lt;dbl&gt; | Factor.V &lt;dbl&gt; |\n",
       "|---|---|---|---|---|---|\n",
       "| A | -0.591 | -1.302 | -0.733 |  1.570 | -0.146 |\n",
       "| C | -1.343 |  0.465 | -0.862 | -1.020 | -0.255 |\n",
       "| D |  1.050 |  0.302 | -3.656 | -0.259 | -3.242 |\n",
       "| E |  1.357 | -1.453 |  1.477 |  0.113 | -0.837 |\n",
       "| F | -1.006 | -0.590 |  1.891 | -0.397 |  0.412 |\n",
       "| G | -0.384 |  1.652 |  1.330 |  1.045 |  2.064 |\n",
       "\n"
      ],
      "text/plain": [
       "  Factor.I Factor.II Factor.III Factor.IV Factor.V\n",
       "A -0.591   -1.302    -0.733      1.570    -0.146  \n",
       "C -1.343    0.465    -0.862     -1.020    -0.255  \n",
       "D  1.050    0.302    -3.656     -0.259    -3.242  \n",
       "E  1.357   -1.453     1.477      0.113    -0.837  \n",
       "F -1.006   -0.590     1.891     -0.397     0.412  \n",
       "G -0.384    1.652     1.330      1.045     2.064  "
      ]
     },
     "metadata": {},
     "output_type": "display_data"
    }
   ],
   "source": [
    "#Table 2 from Atchley et al\n",
    "head(aaT)"
   ]
  },
  {
   "cell_type": "markdown",
   "metadata": {},
   "source": [
    "### Get aaFeatures for each mixcrfile\n",
    "\n",
    "\n",
    "run locally"
   ]
  },
  {
   "cell_type": "code",
   "execution_count": 4,
   "metadata": {},
   "outputs": [],
   "source": [
    "load(file = paste0(datapath,\"capTCRseq/TRBfiles.RData\"))"
   ]
  },
  {
   "cell_type": "code",
   "execution_count": 5,
   "metadata": {},
   "outputs": [],
   "source": [
    "myfilelist <- paste0(\"~/Desktop/H4H/INTERCEPT/NextSeq/\", file_df_dedup_trb$file_list, sep = \"\")"
   ]
  },
  {
   "cell_type": "code",
   "execution_count": 6,
   "metadata": {},
   "outputs": [
    {
     "data": {
      "text/html": [
       "<style>\n",
       ".list-inline {list-style: none; margin:0; padding: 0}\n",
       ".list-inline>li {display: inline-block}\n",
       ".list-inline>li:not(:last-child)::after {content: \"\\00b7\"; padding: 0 .5ex}\n",
       "</style>\n",
       "<ol class=list-inline><li>'~/Desktop/H4H/INTERCEPT/NextSeq/batch4_19Aug2019/mixcr/clones/CLONES_TRBCHP_315-05-PBMC-DNA.txt'</li><li>'~/Desktop/H4H/INTERCEPT/NextSeq/batch_reseq_24Feb2020/mixcr/clones/CLONES_TRBCHP_350-01-PBMC-DNA.txt'</li><li>'~/Desktop/H4H/INTERCEPT/NextSeq/batch_reseq_24Feb2020/mixcr/clones/CLONES_TRBCHP_350-02-PBMC-DNA.txt'</li><li>'~/Desktop/H4H/INTERCEPT/NextSeq/batch_reseq_24Feb2020/mixcr/clones/CLONES_TRBCHP_350-03-PBMC-DNA.txt'</li><li>'~/Desktop/H4H/INTERCEPT/NextSeq/batch_reseq_24Feb2020/mixcr/clones/CLONES_TRBCHP_350-04-PBMC-DNA.txt'</li><li>'~/Desktop/H4H/INTERCEPT/NextSeq/batch_reseq_24Feb2020/mixcr/clones/CLONES_TRBCHP_353-02-PBMC-DNA.txt'</li></ol>\n"
      ],
      "text/latex": [
       "\\begin{enumerate*}\n",
       "\\item '\\textasciitilde{}/Desktop/H4H/INTERCEPT/NextSeq/batch4\\_19Aug2019/mixcr/clones/CLONES\\_TRBCHP\\_315-05-PBMC-DNA.txt'\n",
       "\\item '\\textasciitilde{}/Desktop/H4H/INTERCEPT/NextSeq/batch\\_reseq\\_24Feb2020/mixcr/clones/CLONES\\_TRBCHP\\_350-01-PBMC-DNA.txt'\n",
       "\\item '\\textasciitilde{}/Desktop/H4H/INTERCEPT/NextSeq/batch\\_reseq\\_24Feb2020/mixcr/clones/CLONES\\_TRBCHP\\_350-02-PBMC-DNA.txt'\n",
       "\\item '\\textasciitilde{}/Desktop/H4H/INTERCEPT/NextSeq/batch\\_reseq\\_24Feb2020/mixcr/clones/CLONES\\_TRBCHP\\_350-03-PBMC-DNA.txt'\n",
       "\\item '\\textasciitilde{}/Desktop/H4H/INTERCEPT/NextSeq/batch\\_reseq\\_24Feb2020/mixcr/clones/CLONES\\_TRBCHP\\_350-04-PBMC-DNA.txt'\n",
       "\\item '\\textasciitilde{}/Desktop/H4H/INTERCEPT/NextSeq/batch\\_reseq\\_24Feb2020/mixcr/clones/CLONES\\_TRBCHP\\_353-02-PBMC-DNA.txt'\n",
       "\\end{enumerate*}\n"
      ],
      "text/markdown": [
       "1. '~/Desktop/H4H/INTERCEPT/NextSeq/batch4_19Aug2019/mixcr/clones/CLONES_TRBCHP_315-05-PBMC-DNA.txt'\n",
       "2. '~/Desktop/H4H/INTERCEPT/NextSeq/batch_reseq_24Feb2020/mixcr/clones/CLONES_TRBCHP_350-01-PBMC-DNA.txt'\n",
       "3. '~/Desktop/H4H/INTERCEPT/NextSeq/batch_reseq_24Feb2020/mixcr/clones/CLONES_TRBCHP_350-02-PBMC-DNA.txt'\n",
       "4. '~/Desktop/H4H/INTERCEPT/NextSeq/batch_reseq_24Feb2020/mixcr/clones/CLONES_TRBCHP_350-03-PBMC-DNA.txt'\n",
       "5. '~/Desktop/H4H/INTERCEPT/NextSeq/batch_reseq_24Feb2020/mixcr/clones/CLONES_TRBCHP_350-04-PBMC-DNA.txt'\n",
       "6. '~/Desktop/H4H/INTERCEPT/NextSeq/batch_reseq_24Feb2020/mixcr/clones/CLONES_TRBCHP_353-02-PBMC-DNA.txt'\n",
       "\n",
       "\n"
      ],
      "text/plain": [
       "[1] \"~/Desktop/H4H/INTERCEPT/NextSeq/batch4_19Aug2019/mixcr/clones/CLONES_TRBCHP_315-05-PBMC-DNA.txt\"     \n",
       "[2] \"~/Desktop/H4H/INTERCEPT/NextSeq/batch_reseq_24Feb2020/mixcr/clones/CLONES_TRBCHP_350-01-PBMC-DNA.txt\"\n",
       "[3] \"~/Desktop/H4H/INTERCEPT/NextSeq/batch_reseq_24Feb2020/mixcr/clones/CLONES_TRBCHP_350-02-PBMC-DNA.txt\"\n",
       "[4] \"~/Desktop/H4H/INTERCEPT/NextSeq/batch_reseq_24Feb2020/mixcr/clones/CLONES_TRBCHP_350-03-PBMC-DNA.txt\"\n",
       "[5] \"~/Desktop/H4H/INTERCEPT/NextSeq/batch_reseq_24Feb2020/mixcr/clones/CLONES_TRBCHP_350-04-PBMC-DNA.txt\"\n",
       "[6] \"~/Desktop/H4H/INTERCEPT/NextSeq/batch_reseq_24Feb2020/mixcr/clones/CLONES_TRBCHP_353-02-PBMC-DNA.txt\""
      ]
     },
     "metadata": {},
     "output_type": "display_data"
    }
   ],
   "source": [
    "head(myfilelist)"
   ]
  },
  {
   "cell_type": "code",
   "execution_count": 12,
   "metadata": {},
   "outputs": [
    {
     "name": "stderr",
     "output_type": "stream",
     "text": [
      "Number of CDR3s in: ~/Desktop/H4H/INTERCEPT/NextSeq/batch4_19Aug2019/mixcr/clones/CLONES_TRBCHP_315-05-PBMC-DNA.txt\n",
      "\n"
     ]
    },
    {
     "name": "stdout",
     "output_type": "stream",
     "text": [
      "[1] 39\n"
     ]
    },
    {
     "name": "stderr",
     "output_type": "stream",
     "text": [
      "Number of CDR3s in: ~/Desktop/H4H/INTERCEPT/NextSeq/batch4_19Aug2019/mixcr/clones/CLONES_TRBCHP_315-05-PBMC-DNA.txt nonproductive removed\n",
      "\n"
     ]
    },
    {
     "name": "stdout",
     "output_type": "stream",
     "text": [
      "[1] 27\n"
     ]
    },
    {
     "name": "stderr",
     "output_type": "stream",
     "text": [
      "Number of CDR3s in: ~/Desktop/H4H/INTERCEPT/NextSeq/batch_reseq_24Feb2020/mixcr/clones/CLONES_TRBCHP_350-01-PBMC-DNA.txt\n",
      "\n"
     ]
    },
    {
     "name": "stdout",
     "output_type": "stream",
     "text": [
      "[1] 217\n"
     ]
    },
    {
     "name": "stderr",
     "output_type": "stream",
     "text": [
      "Number of CDR3s in: ~/Desktop/H4H/INTERCEPT/NextSeq/batch_reseq_24Feb2020/mixcr/clones/CLONES_TRBCHP_350-01-PBMC-DNA.txt nonproductive removed\n",
      "\n"
     ]
    },
    {
     "name": "stdout",
     "output_type": "stream",
     "text": [
      "[1] 153\n"
     ]
    },
    {
     "name": "stderr",
     "output_type": "stream",
     "text": [
      "Number of CDR3s in: ~/Desktop/H4H/INTERCEPT/NextSeq/batch_reseq_24Feb2020/mixcr/clones/CLONES_TRBCHP_350-02-PBMC-DNA.txt\n",
      "\n"
     ]
    },
    {
     "name": "stdout",
     "output_type": "stream",
     "text": [
      "[1] 362\n"
     ]
    },
    {
     "name": "stderr",
     "output_type": "stream",
     "text": [
      "Number of CDR3s in: ~/Desktop/H4H/INTERCEPT/NextSeq/batch_reseq_24Feb2020/mixcr/clones/CLONES_TRBCHP_350-02-PBMC-DNA.txt nonproductive removed\n",
      "\n"
     ]
    },
    {
     "name": "stdout",
     "output_type": "stream",
     "text": [
      "[1] 269\n"
     ]
    },
    {
     "name": "stderr",
     "output_type": "stream",
     "text": [
      "Number of CDR3s in: ~/Desktop/H4H/INTERCEPT/NextSeq/batch_reseq_24Feb2020/mixcr/clones/CLONES_TRBCHP_350-03-PBMC-DNA.txt\n",
      "\n"
     ]
    },
    {
     "name": "stdout",
     "output_type": "stream",
     "text": [
      "[1] 274\n"
     ]
    },
    {
     "name": "stderr",
     "output_type": "stream",
     "text": [
      "Number of CDR3s in: ~/Desktop/H4H/INTERCEPT/NextSeq/batch_reseq_24Feb2020/mixcr/clones/CLONES_TRBCHP_350-03-PBMC-DNA.txt nonproductive removed\n",
      "\n"
     ]
    },
    {
     "name": "stdout",
     "output_type": "stream",
     "text": [
      "[1] 207\n"
     ]
    },
    {
     "name": "stderr",
     "output_type": "stream",
     "text": [
      "Number of CDR3s in: ~/Desktop/H4H/INTERCEPT/NextSeq/batch_reseq_24Feb2020/mixcr/clones/CLONES_TRBCHP_350-04-PBMC-DNA.txt\n",
      "\n"
     ]
    },
    {
     "name": "stdout",
     "output_type": "stream",
     "text": [
      "[1] 135\n"
     ]
    },
    {
     "name": "stderr",
     "output_type": "stream",
     "text": [
      "Number of CDR3s in: ~/Desktop/H4H/INTERCEPT/NextSeq/batch_reseq_24Feb2020/mixcr/clones/CLONES_TRBCHP_350-04-PBMC-DNA.txt nonproductive removed\n",
      "\n"
     ]
    },
    {
     "name": "stdout",
     "output_type": "stream",
     "text": [
      "[1] 106\n"
     ]
    },
    {
     "name": "stderr",
     "output_type": "stream",
     "text": [
      "Number of CDR3s in: ~/Desktop/H4H/INTERCEPT/NextSeq/batch_reseq_24Feb2020/mixcr/clones/CLONES_TRBCHP_353-02-PBMC-DNA.txt\n",
      "\n"
     ]
    },
    {
     "name": "stdout",
     "output_type": "stream",
     "text": [
      "[1] 23\n"
     ]
    },
    {
     "name": "stderr",
     "output_type": "stream",
     "text": [
      "Number of CDR3s in: ~/Desktop/H4H/INTERCEPT/NextSeq/batch_reseq_24Feb2020/mixcr/clones/CLONES_TRBCHP_353-02-PBMC-DNA.txt nonproductive removed\n",
      "\n"
     ]
    },
    {
     "name": "stdout",
     "output_type": "stream",
     "text": [
      "[1] 16\n"
     ]
    },
    {
     "name": "stderr",
     "output_type": "stream",
     "text": [
      "Number of CDR3s in: ~/Desktop/H4H/INTERCEPT/NextSeq/batch_reseq_24Feb2020/mixcr/clones/CLONES_TRBCHP_354-01-PBMC-DNA.txt\n",
      "\n"
     ]
    },
    {
     "name": "stdout",
     "output_type": "stream",
     "text": [
      "[1] 7\n"
     ]
    },
    {
     "name": "stderr",
     "output_type": "stream",
     "text": [
      "Number of CDR3s in: ~/Desktop/H4H/INTERCEPT/NextSeq/batch_reseq_24Feb2020/mixcr/clones/CLONES_TRBCHP_354-01-PBMC-DNA.txt nonproductive removed\n",
      "\n"
     ]
    },
    {
     "name": "stdout",
     "output_type": "stream",
     "text": [
      "[1] 6\n"
     ]
    },
    {
     "name": "stderr",
     "output_type": "stream",
     "text": [
      "Number of CDR3s in: ~/Desktop/H4H/INTERCEPT/NextSeq/batch_reseq_24Feb2020/mixcr/clones/CLONES_TRBCHP_356-03-PBMC-DNA.txt\n",
      "\n"
     ]
    },
    {
     "name": "stdout",
     "output_type": "stream",
     "text": [
      "[1] 3\n"
     ]
    },
    {
     "name": "stderr",
     "output_type": "stream",
     "text": [
      "Number of CDR3s in: ~/Desktop/H4H/INTERCEPT/NextSeq/batch_reseq_24Feb2020/mixcr/clones/CLONES_TRBCHP_356-03-PBMC-DNA.txt nonproductive removed\n",
      "\n"
     ]
    },
    {
     "name": "stdout",
     "output_type": "stream",
     "text": [
      "[1] 3\n"
     ]
    },
    {
     "name": "stderr",
     "output_type": "stream",
     "text": [
      "Number of CDR3s in: ~/Desktop/H4H/INTERCEPT/NextSeq/batch4_19Aug2019/mixcr/clones/CLONES_TRBCHP_358-02-PBMC-DNA.txt\n",
      "\n"
     ]
    },
    {
     "name": "stdout",
     "output_type": "stream",
     "text": [
      "[1] 93\n"
     ]
    },
    {
     "name": "stderr",
     "output_type": "stream",
     "text": [
      "Number of CDR3s in: ~/Desktop/H4H/INTERCEPT/NextSeq/batch4_19Aug2019/mixcr/clones/CLONES_TRBCHP_358-02-PBMC-DNA.txt nonproductive removed\n",
      "\n"
     ]
    },
    {
     "name": "stdout",
     "output_type": "stream",
     "text": [
      "[1] 66\n"
     ]
    },
    {
     "name": "stderr",
     "output_type": "stream",
     "text": [
      "Number of CDR3s in: ~/Desktop/H4H/INTERCEPT/NextSeq/batch_reseq_24Feb2020/mixcr/clones/CLONES_TRBCHP_362-02-PBMC-DNA.txt\n",
      "\n"
     ]
    },
    {
     "name": "stdout",
     "output_type": "stream",
     "text": [
      "[1] 513\n"
     ]
    },
    {
     "name": "stderr",
     "output_type": "stream",
     "text": [
      "Number of CDR3s in: ~/Desktop/H4H/INTERCEPT/NextSeq/batch_reseq_24Feb2020/mixcr/clones/CLONES_TRBCHP_362-02-PBMC-DNA.txt nonproductive removed\n",
      "\n"
     ]
    },
    {
     "name": "stdout",
     "output_type": "stream",
     "text": [
      "[1] 367\n"
     ]
    },
    {
     "name": "stderr",
     "output_type": "stream",
     "text": [
      "Number of CDR3s in: ~/Desktop/H4H/INTERCEPT/NextSeq/batch_reseq_24Feb2020/mixcr/clones/CLONES_TRBCHP_366-01-PBMC-DNA.txt\n",
      "\n"
     ]
    },
    {
     "name": "stdout",
     "output_type": "stream",
     "text": [
      "[1] 180\n"
     ]
    },
    {
     "name": "stderr",
     "output_type": "stream",
     "text": [
      "Number of CDR3s in: ~/Desktop/H4H/INTERCEPT/NextSeq/batch_reseq_24Feb2020/mixcr/clones/CLONES_TRBCHP_366-01-PBMC-DNA.txt nonproductive removed\n",
      "\n"
     ]
    },
    {
     "name": "stdout",
     "output_type": "stream",
     "text": [
      "[1] 133\n"
     ]
    },
    {
     "name": "stderr",
     "output_type": "stream",
     "text": [
      "Number of CDR3s in: ~/Desktop/H4H/INTERCEPT/NextSeq/batch_reseq_24Feb2020/mixcr/clones/CLONES_TRBCHP_367-01-PBMC-DNA.txt\n",
      "\n"
     ]
    },
    {
     "name": "stdout",
     "output_type": "stream",
     "text": [
      "[1] 50\n"
     ]
    },
    {
     "name": "stderr",
     "output_type": "stream",
     "text": [
      "Number of CDR3s in: ~/Desktop/H4H/INTERCEPT/NextSeq/batch_reseq_24Feb2020/mixcr/clones/CLONES_TRBCHP_367-01-PBMC-DNA.txt nonproductive removed\n",
      "\n"
     ]
    },
    {
     "name": "stdout",
     "output_type": "stream",
     "text": [
      "[1] 38\n"
     ]
    },
    {
     "name": "stderr",
     "output_type": "stream",
     "text": [
      "Number of CDR3s in: ~/Desktop/H4H/INTERCEPT/NextSeq/batch_reseq_24Feb2020/mixcr/clones/CLONES_TRBCHP_372-01-PBMC-DNA.txt\n",
      "\n"
     ]
    },
    {
     "name": "stdout",
     "output_type": "stream",
     "text": [
      "[1] 3\n"
     ]
    },
    {
     "name": "stderr",
     "output_type": "stream",
     "text": [
      "Number of CDR3s in: ~/Desktop/H4H/INTERCEPT/NextSeq/batch_reseq_24Feb2020/mixcr/clones/CLONES_TRBCHP_372-01-PBMC-DNA.txt nonproductive removed\n",
      "\n"
     ]
    },
    {
     "name": "stdout",
     "output_type": "stream",
     "text": [
      "[1] 3\n"
     ]
    },
    {
     "name": "stderr",
     "output_type": "stream",
     "text": [
      "Number of CDR3s in: ~/Desktop/H4H/INTERCEPT/NextSeq/batch_reseq_24Feb2020/mixcr/clones/CLONES_TRBCHP_375-01-PBMC-DNA.txt\n",
      "\n"
     ]
    },
    {
     "name": "stdout",
     "output_type": "stream",
     "text": [
      "[1] 12\n"
     ]
    },
    {
     "name": "stderr",
     "output_type": "stream",
     "text": [
      "Number of CDR3s in: ~/Desktop/H4H/INTERCEPT/NextSeq/batch_reseq_24Feb2020/mixcr/clones/CLONES_TRBCHP_375-01-PBMC-DNA.txt nonproductive removed\n",
      "\n"
     ]
    },
    {
     "name": "stdout",
     "output_type": "stream",
     "text": [
      "[1] 9\n"
     ]
    },
    {
     "name": "stderr",
     "output_type": "stream",
     "text": [
      "Number of CDR3s in: ~/Desktop/H4H/INTERCEPT/NextSeq/batch1_cfDNA_30Jan2020/mixcr/clones/CLONES_TRBCHP_340-02-cfDNA.txt\n",
      "\n"
     ]
    },
    {
     "name": "stdout",
     "output_type": "stream",
     "text": [
      "[1] 16\n"
     ]
    },
    {
     "name": "stderr",
     "output_type": "stream",
     "text": [
      "Number of CDR3s in: ~/Desktop/H4H/INTERCEPT/NextSeq/batch1_cfDNA_30Jan2020/mixcr/clones/CLONES_TRBCHP_340-02-cfDNA.txt nonproductive removed\n",
      "\n"
     ]
    },
    {
     "name": "stdout",
     "output_type": "stream",
     "text": [
      "[1] 12\n"
     ]
    },
    {
     "name": "stderr",
     "output_type": "stream",
     "text": [
      "Number of CDR3s in: ~/Desktop/H4H/INTERCEPT/NextSeq/batch1_cfDNA_30Jan2020/mixcr/clones/CLONES_TRBCHP_343-01-cfDNA.txt\n",
      "\n"
     ]
    },
    {
     "name": "stdout",
     "output_type": "stream",
     "text": [
      "[1] 1\n"
     ]
    },
    {
     "name": "stderr",
     "output_type": "stream",
     "text": [
      "Number of CDR3s in: ~/Desktop/H4H/INTERCEPT/NextSeq/batch1_cfDNA_30Jan2020/mixcr/clones/CLONES_TRBCHP_343-01-cfDNA.txt nonproductive removed\n",
      "\n"
     ]
    },
    {
     "name": "stdout",
     "output_type": "stream",
     "text": [
      "[1] 1\n"
     ]
    },
    {
     "name": "stderr",
     "output_type": "stream",
     "text": [
      "Number of CDR3s in: ~/Desktop/H4H/INTERCEPT/NextSeq/batch1_cfDNA_30Jan2020/mixcr/clones/CLONES_TRBCHP_347-01-cfDNA.txt\n",
      "\n"
     ]
    },
    {
     "name": "stdout",
     "output_type": "stream",
     "text": [
      "[1] 2\n"
     ]
    },
    {
     "name": "stderr",
     "output_type": "stream",
     "text": [
      "Number of CDR3s in: ~/Desktop/H4H/INTERCEPT/NextSeq/batch1_cfDNA_30Jan2020/mixcr/clones/CLONES_TRBCHP_347-01-cfDNA.txt nonproductive removed\n",
      "\n"
     ]
    },
    {
     "name": "stdout",
     "output_type": "stream",
     "text": [
      "[1] 0\n"
     ]
    },
    {
     "name": "stderr",
     "output_type": "stream",
     "text": [
      "Number of CDR3s in: ~/Desktop/H4H/INTERCEPT/NextSeq/batch1_cfDNA_30Jan2020/mixcr/clones/CLONES_TRBCHP_353-01-cfDNA.txt\n",
      "\n"
     ]
    },
    {
     "name": "stdout",
     "output_type": "stream",
     "text": [
      "[1] 5\n"
     ]
    },
    {
     "name": "stderr",
     "output_type": "stream",
     "text": [
      "Number of CDR3s in: ~/Desktop/H4H/INTERCEPT/NextSeq/batch1_cfDNA_30Jan2020/mixcr/clones/CLONES_TRBCHP_353-01-cfDNA.txt nonproductive removed\n",
      "\n"
     ]
    },
    {
     "name": "stdout",
     "output_type": "stream",
     "text": [
      "[1] 5\n"
     ]
    },
    {
     "name": "stderr",
     "output_type": "stream",
     "text": [
      "Number of CDR3s in: ~/Desktop/H4H/INTERCEPT/NextSeq/batch1_cfDNA_30Jan2020/mixcr/clones/CLONES_TRBCHP_355-01-cfDNA.txt\n",
      "\n"
     ]
    },
    {
     "name": "stdout",
     "output_type": "stream",
     "text": [
      "[1] 4\n"
     ]
    },
    {
     "name": "stderr",
     "output_type": "stream",
     "text": [
      "Number of CDR3s in: ~/Desktop/H4H/INTERCEPT/NextSeq/batch1_cfDNA_30Jan2020/mixcr/clones/CLONES_TRBCHP_355-01-cfDNA.txt nonproductive removed\n",
      "\n"
     ]
    },
    {
     "name": "stdout",
     "output_type": "stream",
     "text": [
      "[1] 2\n"
     ]
    },
    {
     "name": "stderr",
     "output_type": "stream",
     "text": [
      "Number of CDR3s in: ~/Desktop/H4H/INTERCEPT/NextSeq/batch1_cfDNA_30Jan2020/mixcr/clones/CLONES_TRBCHP_356-02-cfDNA.txt\n",
      "\n"
     ]
    },
    {
     "name": "stdout",
     "output_type": "stream",
     "text": [
      "[1] 10\n"
     ]
    },
    {
     "name": "stderr",
     "output_type": "stream",
     "text": [
      "Number of CDR3s in: ~/Desktop/H4H/INTERCEPT/NextSeq/batch1_cfDNA_30Jan2020/mixcr/clones/CLONES_TRBCHP_356-02-cfDNA.txt nonproductive removed\n",
      "\n"
     ]
    },
    {
     "name": "stdout",
     "output_type": "stream",
     "text": [
      "[1] 8\n"
     ]
    },
    {
     "name": "stderr",
     "output_type": "stream",
     "text": [
      "Number of CDR3s in: ~/Desktop/H4H/INTERCEPT/NextSeq/batch1_cfDNA_30Jan2020/mixcr/clones/CLONES_TRBCHP_357-03-cfDNA.txt\n",
      "\n"
     ]
    },
    {
     "name": "stdout",
     "output_type": "stream",
     "text": [
      "[1] 7\n"
     ]
    },
    {
     "name": "stderr",
     "output_type": "stream",
     "text": [
      "Number of CDR3s in: ~/Desktop/H4H/INTERCEPT/NextSeq/batch1_cfDNA_30Jan2020/mixcr/clones/CLONES_TRBCHP_357-03-cfDNA.txt nonproductive removed\n",
      "\n"
     ]
    },
    {
     "name": "stdout",
     "output_type": "stream",
     "text": [
      "[1] 4\n"
     ]
    },
    {
     "name": "stderr",
     "output_type": "stream",
     "text": [
      "Number of CDR3s in: ~/Desktop/H4H/INTERCEPT/NextSeq/batch1_cfDNA_30Jan2020/mixcr/clones/CLONES_TRBCHP_359-01-cfDNA.txt\n",
      "\n"
     ]
    },
    {
     "name": "stdout",
     "output_type": "stream",
     "text": [
      "[1] 4\n"
     ]
    },
    {
     "name": "stderr",
     "output_type": "stream",
     "text": [
      "Number of CDR3s in: ~/Desktop/H4H/INTERCEPT/NextSeq/batch1_cfDNA_30Jan2020/mixcr/clones/CLONES_TRBCHP_359-01-cfDNA.txt nonproductive removed\n",
      "\n"
     ]
    },
    {
     "name": "stdout",
     "output_type": "stream",
     "text": [
      "[1] 1\n"
     ]
    },
    {
     "name": "stderr",
     "output_type": "stream",
     "text": [
      "Number of CDR3s in: ~/Desktop/H4H/INTERCEPT/NextSeq/batch1_cfDNA_30Jan2020/mixcr/clones/CLONES_TRBCHP_359-04-cfDNA.txt\n",
      "\n"
     ]
    },
    {
     "name": "stdout",
     "output_type": "stream",
     "text": [
      "[1] 24\n"
     ]
    },
    {
     "name": "stderr",
     "output_type": "stream",
     "text": [
      "Number of CDR3s in: ~/Desktop/H4H/INTERCEPT/NextSeq/batch1_cfDNA_30Jan2020/mixcr/clones/CLONES_TRBCHP_359-04-cfDNA.txt nonproductive removed\n",
      "\n"
     ]
    },
    {
     "name": "stdout",
     "output_type": "stream",
     "text": [
      "[1] 19\n"
     ]
    },
    {
     "name": "stderr",
     "output_type": "stream",
     "text": [
      "Number of CDR3s in: ~/Desktop/H4H/INTERCEPT/NextSeq/batch1_cfDNA_30Jan2020/mixcr/clones/CLONES_TRBCHP_360-02-cfDNA.txt\n",
      "\n"
     ]
    },
    {
     "name": "stdout",
     "output_type": "stream",
     "text": [
      "[1] 9\n"
     ]
    },
    {
     "name": "stderr",
     "output_type": "stream",
     "text": [
      "Number of CDR3s in: ~/Desktop/H4H/INTERCEPT/NextSeq/batch1_cfDNA_30Jan2020/mixcr/clones/CLONES_TRBCHP_360-02-cfDNA.txt nonproductive removed\n",
      "\n"
     ]
    },
    {
     "name": "stdout",
     "output_type": "stream",
     "text": [
      "[1] 6\n"
     ]
    },
    {
     "name": "stderr",
     "output_type": "stream",
     "text": [
      "Number of CDR3s in: ~/Desktop/H4H/INTERCEPT/NextSeq/batch1_cfDNA_30Jan2020/mixcr/clones/CLONES_TRBCHP_363-01-cfDNA.txt\n",
      "\n"
     ]
    },
    {
     "name": "stdout",
     "output_type": "stream",
     "text": [
      "[1] 19\n"
     ]
    },
    {
     "name": "stderr",
     "output_type": "stream",
     "text": [
      "Number of CDR3s in: ~/Desktop/H4H/INTERCEPT/NextSeq/batch1_cfDNA_30Jan2020/mixcr/clones/CLONES_TRBCHP_363-01-cfDNA.txt nonproductive removed\n",
      "\n"
     ]
    },
    {
     "name": "stdout",
     "output_type": "stream",
     "text": [
      "[1] 12\n"
     ]
    },
    {
     "name": "stderr",
     "output_type": "stream",
     "text": [
      "Number of CDR3s in: ~/Desktop/H4H/INTERCEPT/NextSeq/batch1_cfDNA_30Jan2020/mixcr/clones/CLONES_TRBCHP_365-01-cfDNA.txt\n",
      "\n"
     ]
    },
    {
     "name": "stdout",
     "output_type": "stream",
     "text": [
      "[1] 48\n"
     ]
    },
    {
     "name": "stderr",
     "output_type": "stream",
     "text": [
      "Number of CDR3s in: ~/Desktop/H4H/INTERCEPT/NextSeq/batch1_cfDNA_30Jan2020/mixcr/clones/CLONES_TRBCHP_365-01-cfDNA.txt nonproductive removed\n",
      "\n"
     ]
    },
    {
     "name": "stdout",
     "output_type": "stream",
     "text": [
      "[1] 32\n"
     ]
    },
    {
     "name": "stderr",
     "output_type": "stream",
     "text": [
      "Number of CDR3s in: ~/Desktop/H4H/INTERCEPT/NextSeq/batch1_cfDNA_30Jan2020/mixcr/clones/CLONES_TRBCHP_366-02-cfDNA.txt\n",
      "\n"
     ]
    },
    {
     "name": "stdout",
     "output_type": "stream",
     "text": [
      "[1] 1\n"
     ]
    },
    {
     "name": "stderr",
     "output_type": "stream",
     "text": [
      "Number of CDR3s in: ~/Desktop/H4H/INTERCEPT/NextSeq/batch1_cfDNA_30Jan2020/mixcr/clones/CLONES_TRBCHP_366-02-cfDNA.txt nonproductive removed\n",
      "\n"
     ]
    },
    {
     "name": "stdout",
     "output_type": "stream",
     "text": [
      "[1] 1\n"
     ]
    },
    {
     "name": "stderr",
     "output_type": "stream",
     "text": [
      "Number of CDR3s in: ~/Desktop/H4H/INTERCEPT/NextSeq/batch1_cfDNA_30Jan2020/mixcr/clones/CLONES_TRBCHP_368-05-cfDNA.txt\n",
      "\n"
     ]
    },
    {
     "name": "stdout",
     "output_type": "stream",
     "text": [
      "[1] 12\n"
     ]
    },
    {
     "name": "stderr",
     "output_type": "stream",
     "text": [
      "Number of CDR3s in: ~/Desktop/H4H/INTERCEPT/NextSeq/batch1_cfDNA_30Jan2020/mixcr/clones/CLONES_TRBCHP_368-05-cfDNA.txt nonproductive removed\n",
      "\n"
     ]
    },
    {
     "name": "stdout",
     "output_type": "stream",
     "text": [
      "[1] 8\n"
     ]
    },
    {
     "name": "stderr",
     "output_type": "stream",
     "text": [
      "Number of CDR3s in: ~/Desktop/H4H/INTERCEPT/NextSeq/batch1_cfDNA_30Jan2020/mixcr/clones/CLONES_TRBCHP_370-01-cfDNA.txt\n",
      "\n"
     ]
    },
    {
     "name": "stdout",
     "output_type": "stream",
     "text": [
      "[1] 85\n"
     ]
    },
    {
     "name": "stderr",
     "output_type": "stream",
     "text": [
      "Number of CDR3s in: ~/Desktop/H4H/INTERCEPT/NextSeq/batch1_cfDNA_30Jan2020/mixcr/clones/CLONES_TRBCHP_370-01-cfDNA.txt nonproductive removed\n",
      "\n"
     ]
    },
    {
     "name": "stdout",
     "output_type": "stream",
     "text": [
      "[1] 62\n"
     ]
    },
    {
     "name": "stderr",
     "output_type": "stream",
     "text": [
      "Number of CDR3s in: ~/Desktop/H4H/INTERCEPT/NextSeq/batch1_cfDNA_30Jan2020/mixcr/clones/CLONES_TRBCHP_371-01-cfDNA.txt\n",
      "\n"
     ]
    },
    {
     "name": "stdout",
     "output_type": "stream",
     "text": [
      "[1] 8\n"
     ]
    },
    {
     "name": "stderr",
     "output_type": "stream",
     "text": [
      "Number of CDR3s in: ~/Desktop/H4H/INTERCEPT/NextSeq/batch1_cfDNA_30Jan2020/mixcr/clones/CLONES_TRBCHP_371-01-cfDNA.txt nonproductive removed\n",
      "\n"
     ]
    },
    {
     "name": "stdout",
     "output_type": "stream",
     "text": [
      "[1] 4\n"
     ]
    },
    {
     "name": "stderr",
     "output_type": "stream",
     "text": [
      "Number of CDR3s in: ~/Desktop/H4H/INTERCEPT/NextSeq/batch1_cfDNA_30Jan2020/mixcr/clones/CLONES_TRBCHP_371-03-cfDNA.txt\n",
      "\n"
     ]
    },
    {
     "name": "stdout",
     "output_type": "stream",
     "text": [
      "[1] 5\n"
     ]
    },
    {
     "name": "stderr",
     "output_type": "stream",
     "text": [
      "Number of CDR3s in: ~/Desktop/H4H/INTERCEPT/NextSeq/batch1_cfDNA_30Jan2020/mixcr/clones/CLONES_TRBCHP_371-03-cfDNA.txt nonproductive removed\n",
      "\n"
     ]
    },
    {
     "name": "stdout",
     "output_type": "stream",
     "text": [
      "[1] 2\n"
     ]
    },
    {
     "name": "stderr",
     "output_type": "stream",
     "text": [
      "Number of CDR3s in: ~/Desktop/H4H/INTERCEPT/NextSeq/batch1_cfDNA_30Jan2020/mixcr/clones/CLONES_TRBCHP_372-01-cfDNA.txt\n",
      "\n"
     ]
    },
    {
     "name": "stdout",
     "output_type": "stream",
     "text": [
      "[1] 6\n"
     ]
    },
    {
     "name": "stderr",
     "output_type": "stream",
     "text": [
      "Number of CDR3s in: ~/Desktop/H4H/INTERCEPT/NextSeq/batch1_cfDNA_30Jan2020/mixcr/clones/CLONES_TRBCHP_372-01-cfDNA.txt nonproductive removed\n",
      "\n"
     ]
    },
    {
     "name": "stdout",
     "output_type": "stream",
     "text": [
      "[1] 4\n"
     ]
    },
    {
     "name": "stderr",
     "output_type": "stream",
     "text": [
      "Number of CDR3s in: ~/Desktop/H4H/INTERCEPT/NextSeq/batch1_cfDNA_30Jan2020/mixcr/clones/CLONES_TRBCHP_373-01-cfDNA.txt\n",
      "\n"
     ]
    },
    {
     "name": "stdout",
     "output_type": "stream",
     "text": [
      "[1] 3\n"
     ]
    },
    {
     "name": "stderr",
     "output_type": "stream",
     "text": [
      "Number of CDR3s in: ~/Desktop/H4H/INTERCEPT/NextSeq/batch1_cfDNA_30Jan2020/mixcr/clones/CLONES_TRBCHP_373-01-cfDNA.txt nonproductive removed\n",
      "\n"
     ]
    },
    {
     "name": "stdout",
     "output_type": "stream",
     "text": [
      "[1] 1\n"
     ]
    },
    {
     "name": "stderr",
     "output_type": "stream",
     "text": [
      "Number of CDR3s in: ~/Desktop/H4H/INTERCEPT/NextSeq/batch1_cfDNA_30Jan2020/mixcr/clones/CLONES_TRBCHP_374-04-cfDNA.txt\n",
      "\n"
     ]
    },
    {
     "name": "stdout",
     "output_type": "stream",
     "text": [
      "[1] 0\n"
     ]
    },
    {
     "name": "stderr",
     "output_type": "stream",
     "text": [
      "Number of CDR3s in: ~/Desktop/H4H/INTERCEPT/NextSeq/batch1_cfDNA_30Jan2020/mixcr/clones/CLONES_TRBCHP_374-04-cfDNA.txt nonproductive removed\n",
      "\n"
     ]
    },
    {
     "name": "stdout",
     "output_type": "stream",
     "text": [
      "[1] 0\n"
     ]
    },
    {
     "name": "stderr",
     "output_type": "stream",
     "text": [
      "Number of CDR3s in: ~/Desktop/H4H/INTERCEPT/NextSeq/batch1_cfDNA_30Jan2020/mixcr/clones/CLONES_TRBCHP_374-05-cfDNA.txt\n",
      "\n"
     ]
    },
    {
     "name": "stdout",
     "output_type": "stream",
     "text": [
      "[1] 4\n"
     ]
    },
    {
     "name": "stderr",
     "output_type": "stream",
     "text": [
      "Number of CDR3s in: ~/Desktop/H4H/INTERCEPT/NextSeq/batch1_cfDNA_30Jan2020/mixcr/clones/CLONES_TRBCHP_374-05-cfDNA.txt nonproductive removed\n",
      "\n"
     ]
    },
    {
     "name": "stdout",
     "output_type": "stream",
     "text": [
      "[1] 1\n"
     ]
    },
    {
     "name": "stderr",
     "output_type": "stream",
     "text": [
      "Number of CDR3s in: ~/Desktop/H4H/INTERCEPT/NextSeq/batch1_cfDNA_30Jan2020/mixcr/clones/CLONES_TRBCHP_376-01-cfDNA.txt\n",
      "\n"
     ]
    },
    {
     "name": "stdout",
     "output_type": "stream",
     "text": [
      "[1] 10\n"
     ]
    },
    {
     "name": "stderr",
     "output_type": "stream",
     "text": [
      "Number of CDR3s in: ~/Desktop/H4H/INTERCEPT/NextSeq/batch1_cfDNA_30Jan2020/mixcr/clones/CLONES_TRBCHP_376-01-cfDNA.txt nonproductive removed\n",
      "\n"
     ]
    },
    {
     "name": "stdout",
     "output_type": "stream",
     "text": [
      "[1] 5\n"
     ]
    },
    {
     "name": "stderr",
     "output_type": "stream",
     "text": [
      "Number of CDR3s in: ~/Desktop/H4H/INTERCEPT/NextSeq/batch1_cfDNA_30Jan2020/mixcr/clones/CLONES_TRBCHP_377-01-cfDNA.txt\n",
      "\n"
     ]
    },
    {
     "name": "stdout",
     "output_type": "stream",
     "text": [
      "[1] 1\n"
     ]
    },
    {
     "name": "stderr",
     "output_type": "stream",
     "text": [
      "Number of CDR3s in: ~/Desktop/H4H/INTERCEPT/NextSeq/batch1_cfDNA_30Jan2020/mixcr/clones/CLONES_TRBCHP_377-01-cfDNA.txt nonproductive removed\n",
      "\n"
     ]
    },
    {
     "name": "stdout",
     "output_type": "stream",
     "text": [
      "[1] 0\n"
     ]
    },
    {
     "name": "stderr",
     "output_type": "stream",
     "text": [
      "Number of CDR3s in: ~/Desktop/H4H/INTERCEPT/NextSeq/batch1_cfDNA_30Jan2020/mixcr/clones/CLONES_TRBCHP_379-01-cfDNA.txt\n",
      "\n"
     ]
    },
    {
     "name": "stdout",
     "output_type": "stream",
     "text": [
      "[1] 16\n"
     ]
    },
    {
     "name": "stderr",
     "output_type": "stream",
     "text": [
      "Number of CDR3s in: ~/Desktop/H4H/INTERCEPT/NextSeq/batch1_cfDNA_30Jan2020/mixcr/clones/CLONES_TRBCHP_379-01-cfDNA.txt nonproductive removed\n",
      "\n"
     ]
    },
    {
     "name": "stdout",
     "output_type": "stream",
     "text": [
      "[1] 8\n"
     ]
    },
    {
     "name": "stderr",
     "output_type": "stream",
     "text": [
      "Number of CDR3s in: ~/Desktop/H4H/INTERCEPT/NextSeq/batch1_jul52019/mixcr/clones/CLONES_TRBCHP_346-01-PBMC-DNA.txt\n",
      "\n"
     ]
    },
    {
     "name": "stdout",
     "output_type": "stream",
     "text": [
      "[1] 47\n"
     ]
    },
    {
     "name": "stderr",
     "output_type": "stream",
     "text": [
      "Number of CDR3s in: ~/Desktop/H4H/INTERCEPT/NextSeq/batch1_jul52019/mixcr/clones/CLONES_TRBCHP_346-01-PBMC-DNA.txt nonproductive removed\n",
      "\n"
     ]
    },
    {
     "name": "stdout",
     "output_type": "stream",
     "text": [
      "[1] 35\n"
     ]
    },
    {
     "name": "stderr",
     "output_type": "stream",
     "text": [
      "Number of CDR3s in: ~/Desktop/H4H/INTERCEPT/NextSeq/batch1_jul52019/mixcr/clones/CLONES_TRBCHP_348-03-PBMC-DNA.txt\n",
      "\n"
     ]
    },
    {
     "name": "stdout",
     "output_type": "stream",
     "text": [
      "[1] 157\n"
     ]
    },
    {
     "name": "stderr",
     "output_type": "stream",
     "text": [
      "Number of CDR3s in: ~/Desktop/H4H/INTERCEPT/NextSeq/batch1_jul52019/mixcr/clones/CLONES_TRBCHP_348-03-PBMC-DNA.txt nonproductive removed\n",
      "\n"
     ]
    },
    {
     "name": "stdout",
     "output_type": "stream",
     "text": [
      "[1] 125\n"
     ]
    },
    {
     "name": "stderr",
     "output_type": "stream",
     "text": [
      "Number of CDR3s in: ~/Desktop/H4H/INTERCEPT/NextSeq/batch1_jul52019/mixcr/clones/CLONES_TRBCHP_348-04-PBMC-DNA.txt\n",
      "\n"
     ]
    },
    {
     "name": "stdout",
     "output_type": "stream",
     "text": [
      "[1] 49\n"
     ]
    },
    {
     "name": "stderr",
     "output_type": "stream",
     "text": [
      "Number of CDR3s in: ~/Desktop/H4H/INTERCEPT/NextSeq/batch1_jul52019/mixcr/clones/CLONES_TRBCHP_348-04-PBMC-DNA.txt nonproductive removed\n",
      "\n"
     ]
    },
    {
     "name": "stdout",
     "output_type": "stream",
     "text": [
      "[1] 36\n"
     ]
    },
    {
     "name": "stderr",
     "output_type": "stream",
     "text": [
      "Number of CDR3s in: ~/Desktop/H4H/INTERCEPT/NextSeq/batch1_jul52019/mixcr/clones/CLONES_TRBCHP_349-01-PBMC-DNA.txt\n",
      "\n"
     ]
    },
    {
     "name": "stdout",
     "output_type": "stream",
     "text": [
      "[1] 20\n"
     ]
    },
    {
     "name": "stderr",
     "output_type": "stream",
     "text": [
      "Number of CDR3s in: ~/Desktop/H4H/INTERCEPT/NextSeq/batch1_jul52019/mixcr/clones/CLONES_TRBCHP_349-01-PBMC-DNA.txt nonproductive removed\n",
      "\n"
     ]
    },
    {
     "name": "stdout",
     "output_type": "stream",
     "text": [
      "[1] 18\n"
     ]
    },
    {
     "name": "stderr",
     "output_type": "stream",
     "text": [
      "Number of CDR3s in: ~/Desktop/H4H/INTERCEPT/NextSeq/batch1_jul52019/mixcr/clones/CLONES_TRBCHP_349-02-PBMC-DNA.txt\n",
      "\n"
     ]
    },
    {
     "name": "stdout",
     "output_type": "stream",
     "text": [
      "[1] 113\n"
     ]
    },
    {
     "name": "stderr",
     "output_type": "stream",
     "text": [
      "Number of CDR3s in: ~/Desktop/H4H/INTERCEPT/NextSeq/batch1_jul52019/mixcr/clones/CLONES_TRBCHP_349-02-PBMC-DNA.txt nonproductive removed\n",
      "\n"
     ]
    },
    {
     "name": "stdout",
     "output_type": "stream",
     "text": [
      "[1] 90\n"
     ]
    },
    {
     "name": "stderr",
     "output_type": "stream",
     "text": [
      "Number of CDR3s in: ~/Desktop/H4H/INTERCEPT/NextSeq/batch1_jul52019/mixcr/clones/CLONES_TRBCHP_351-01-PBMC-DNA.txt\n",
      "\n"
     ]
    },
    {
     "name": "stdout",
     "output_type": "stream",
     "text": [
      "[1] 6\n"
     ]
    },
    {
     "name": "stderr",
     "output_type": "stream",
     "text": [
      "Number of CDR3s in: ~/Desktop/H4H/INTERCEPT/NextSeq/batch1_jul52019/mixcr/clones/CLONES_TRBCHP_351-01-PBMC-DNA.txt nonproductive removed\n",
      "\n"
     ]
    },
    {
     "name": "stdout",
     "output_type": "stream",
     "text": [
      "[1] 4\n"
     ]
    },
    {
     "name": "stderr",
     "output_type": "stream",
     "text": [
      "Number of CDR3s in: ~/Desktop/H4H/INTERCEPT/NextSeq/batch1_jul52019/mixcr/clones/CLONES_TRBCHP_351-02-PBMC-DNA.txt\n",
      "\n"
     ]
    },
    {
     "name": "stdout",
     "output_type": "stream",
     "text": [
      "[1] 110\n"
     ]
    },
    {
     "name": "stderr",
     "output_type": "stream",
     "text": [
      "Number of CDR3s in: ~/Desktop/H4H/INTERCEPT/NextSeq/batch1_jul52019/mixcr/clones/CLONES_TRBCHP_351-02-PBMC-DNA.txt nonproductive removed\n",
      "\n"
     ]
    },
    {
     "name": "stdout",
     "output_type": "stream",
     "text": [
      "[1] 80\n"
     ]
    },
    {
     "name": "stderr",
     "output_type": "stream",
     "text": [
      "Number of CDR3s in: ~/Desktop/H4H/INTERCEPT/NextSeq/batch1_jul52019/mixcr/clones/CLONES_TRBCHP_352-01-PBMC-DNA.txt\n",
      "\n"
     ]
    },
    {
     "name": "stdout",
     "output_type": "stream",
     "text": [
      "[1] 30\n"
     ]
    },
    {
     "name": "stderr",
     "output_type": "stream",
     "text": [
      "Number of CDR3s in: ~/Desktop/H4H/INTERCEPT/NextSeq/batch1_jul52019/mixcr/clones/CLONES_TRBCHP_352-01-PBMC-DNA.txt nonproductive removed\n",
      "\n"
     ]
    },
    {
     "name": "stdout",
     "output_type": "stream",
     "text": [
      "[1] 19\n"
     ]
    },
    {
     "name": "stderr",
     "output_type": "stream",
     "text": [
      "Number of CDR3s in: ~/Desktop/H4H/INTERCEPT/NextSeq/batch1_jul52019/mixcr/clones/CLONES_TRBCHP_352-02-PBMC-DNA.txt\n",
      "\n"
     ]
    },
    {
     "name": "stdout",
     "output_type": "stream",
     "text": [
      "[1] 146\n"
     ]
    },
    {
     "name": "stderr",
     "output_type": "stream",
     "text": [
      "Number of CDR3s in: ~/Desktop/H4H/INTERCEPT/NextSeq/batch1_jul52019/mixcr/clones/CLONES_TRBCHP_352-02-PBMC-DNA.txt nonproductive removed\n",
      "\n"
     ]
    },
    {
     "name": "stdout",
     "output_type": "stream",
     "text": [
      "[1] 121\n"
     ]
    },
    {
     "name": "stderr",
     "output_type": "stream",
     "text": [
      "Number of CDR3s in: ~/Desktop/H4H/INTERCEPT/NextSeq/batch1_jul52019/mixcr/clones/CLONES_TRBCHP_356-04-PBMC-DNA.txt\n",
      "\n"
     ]
    },
    {
     "name": "stdout",
     "output_type": "stream",
     "text": [
      "[1] 0\n"
     ]
    },
    {
     "name": "stderr",
     "output_type": "stream",
     "text": [
      "Number of CDR3s in: ~/Desktop/H4H/INTERCEPT/NextSeq/batch1_jul52019/mixcr/clones/CLONES_TRBCHP_356-04-PBMC-DNA.txt nonproductive removed\n",
      "\n"
     ]
    },
    {
     "name": "stdout",
     "output_type": "stream",
     "text": [
      "[1] 0\n"
     ]
    },
    {
     "name": "stderr",
     "output_type": "stream",
     "text": [
      "Number of CDR3s in: ~/Desktop/H4H/INTERCEPT/NextSeq/batch1_jul52019/mixcr/clones/CLONES_TRBCHP_356-05-PBMC-DNA.txt\n",
      "\n"
     ]
    },
    {
     "name": "stdout",
     "output_type": "stream",
     "text": [
      "[1] 2\n"
     ]
    },
    {
     "name": "stderr",
     "output_type": "stream",
     "text": [
      "Number of CDR3s in: ~/Desktop/H4H/INTERCEPT/NextSeq/batch1_jul52019/mixcr/clones/CLONES_TRBCHP_356-05-PBMC-DNA.txt nonproductive removed\n",
      "\n"
     ]
    },
    {
     "name": "stdout",
     "output_type": "stream",
     "text": [
      "[1] 2\n"
     ]
    },
    {
     "name": "stderr",
     "output_type": "stream",
     "text": [
      "Number of CDR3s in: ~/Desktop/H4H/INTERCEPT/NextSeq/batch1_jul52019/mixcr/clones/CLONES_TRBCHP_358-01-PBMC-DNA.txt\n",
      "\n"
     ]
    },
    {
     "name": "stdout",
     "output_type": "stream",
     "text": [
      "[1] 13\n"
     ]
    },
    {
     "name": "stderr",
     "output_type": "stream",
     "text": [
      "Number of CDR3s in: ~/Desktop/H4H/INTERCEPT/NextSeq/batch1_jul52019/mixcr/clones/CLONES_TRBCHP_358-01-PBMC-DNA.txt nonproductive removed\n",
      "\n"
     ]
    },
    {
     "name": "stdout",
     "output_type": "stream",
     "text": [
      "[1] 13\n"
     ]
    },
    {
     "name": "stderr",
     "output_type": "stream",
     "text": [
      "Number of CDR3s in: ~/Desktop/H4H/INTERCEPT/NextSeq/batch1_jul52019/mixcr/clones/CLONES_TRBCHP_363-03-PBMC-DNA.txt\n",
      "\n"
     ]
    },
    {
     "name": "stdout",
     "output_type": "stream",
     "text": [
      "[1] 10\n"
     ]
    },
    {
     "name": "stderr",
     "output_type": "stream",
     "text": [
      "Number of CDR3s in: ~/Desktop/H4H/INTERCEPT/NextSeq/batch1_jul52019/mixcr/clones/CLONES_TRBCHP_363-03-PBMC-DNA.txt nonproductive removed\n",
      "\n"
     ]
    },
    {
     "name": "stdout",
     "output_type": "stream",
     "text": [
      "[1] 6\n"
     ]
    },
    {
     "name": "stderr",
     "output_type": "stream",
     "text": [
      "Number of CDR3s in: ~/Desktop/H4H/INTERCEPT/NextSeq/batch1_jul52019/mixcr/clones/CLONES_TRBCHP_365-02-PBMC-DNA.txt\n",
      "\n"
     ]
    },
    {
     "name": "stdout",
     "output_type": "stream",
     "text": [
      "[1] 95\n"
     ]
    },
    {
     "name": "stderr",
     "output_type": "stream",
     "text": [
      "Number of CDR3s in: ~/Desktop/H4H/INTERCEPT/NextSeq/batch1_jul52019/mixcr/clones/CLONES_TRBCHP_365-02-PBMC-DNA.txt nonproductive removed\n",
      "\n"
     ]
    },
    {
     "name": "stdout",
     "output_type": "stream",
     "text": [
      "[1] 74\n"
     ]
    },
    {
     "name": "stderr",
     "output_type": "stream",
     "text": [
      "Number of CDR3s in: ~/Desktop/H4H/INTERCEPT/NextSeq/batch10_cfDNA_13Jul2020/mixcr/clones/CLONES_TRBCHP_324-05_cfDNA.txt\n",
      "\n"
     ]
    },
    {
     "name": "stdout",
     "output_type": "stream",
     "text": [
      "[1] 4\n"
     ]
    },
    {
     "name": "stderr",
     "output_type": "stream",
     "text": [
      "Number of CDR3s in: ~/Desktop/H4H/INTERCEPT/NextSeq/batch10_cfDNA_13Jul2020/mixcr/clones/CLONES_TRBCHP_324-05_cfDNA.txt nonproductive removed\n",
      "\n"
     ]
    },
    {
     "name": "stdout",
     "output_type": "stream",
     "text": [
      "[1] 2\n"
     ]
    },
    {
     "name": "stderr",
     "output_type": "stream",
     "text": [
      "Number of CDR3s in: ~/Desktop/H4H/INTERCEPT/NextSeq/batch10_cfDNA_13Jul2020/mixcr/clones/CLONES_TRBCHP_326-05_cfDNA.txt\n",
      "\n"
     ]
    },
    {
     "name": "stdout",
     "output_type": "stream",
     "text": [
      "[1] 31\n"
     ]
    },
    {
     "name": "stderr",
     "output_type": "stream",
     "text": [
      "Number of CDR3s in: ~/Desktop/H4H/INTERCEPT/NextSeq/batch10_cfDNA_13Jul2020/mixcr/clones/CLONES_TRBCHP_326-05_cfDNA.txt nonproductive removed\n",
      "\n"
     ]
    },
    {
     "name": "stdout",
     "output_type": "stream",
     "text": [
      "[1] 25\n"
     ]
    },
    {
     "name": "stderr",
     "output_type": "stream",
     "text": [
      "Number of CDR3s in: ~/Desktop/H4H/INTERCEPT/NextSeq/batch10_cfDNA_13Jul2020/mixcr/clones/CLONES_TRBCHP_328-05_cfDNA.txt\n",
      "\n"
     ]
    },
    {
     "name": "stdout",
     "output_type": "stream",
     "text": [
      "[1] 6\n"
     ]
    },
    {
     "name": "stderr",
     "output_type": "stream",
     "text": [
      "Number of CDR3s in: ~/Desktop/H4H/INTERCEPT/NextSeq/batch10_cfDNA_13Jul2020/mixcr/clones/CLONES_TRBCHP_328-05_cfDNA.txt nonproductive removed\n",
      "\n"
     ]
    },
    {
     "name": "stdout",
     "output_type": "stream",
     "text": [
      "[1] 5\n"
     ]
    },
    {
     "name": "stderr",
     "output_type": "stream",
     "text": [
      "Number of CDR3s in: ~/Desktop/H4H/INTERCEPT/NextSeq/batch10_cfDNA_13Jul2020/mixcr/clones/CLONES_TRBCHP_336-03_cfDNA.txt\n",
      "\n"
     ]
    },
    {
     "name": "stdout",
     "output_type": "stream",
     "text": [
      "[1] 9\n"
     ]
    },
    {
     "name": "stderr",
     "output_type": "stream",
     "text": [
      "Number of CDR3s in: ~/Desktop/H4H/INTERCEPT/NextSeq/batch10_cfDNA_13Jul2020/mixcr/clones/CLONES_TRBCHP_336-03_cfDNA.txt nonproductive removed\n",
      "\n"
     ]
    },
    {
     "name": "stdout",
     "output_type": "stream",
     "text": [
      "[1] 5\n"
     ]
    },
    {
     "name": "stderr",
     "output_type": "stream",
     "text": [
      "Number of CDR3s in: ~/Desktop/H4H/INTERCEPT/NextSeq/batch10_cfDNA_13Jul2020/mixcr/clones/CLONES_TRBCHP_336-04_cfDNA.txt\n",
      "\n"
     ]
    },
    {
     "name": "stdout",
     "output_type": "stream",
     "text": [
      "[1] 12\n"
     ]
    },
    {
     "name": "stderr",
     "output_type": "stream",
     "text": [
      "Number of CDR3s in: ~/Desktop/H4H/INTERCEPT/NextSeq/batch10_cfDNA_13Jul2020/mixcr/clones/CLONES_TRBCHP_336-04_cfDNA.txt nonproductive removed\n",
      "\n"
     ]
    },
    {
     "name": "stdout",
     "output_type": "stream",
     "text": [
      "[1] 6\n"
     ]
    },
    {
     "name": "stderr",
     "output_type": "stream",
     "text": [
      "Number of CDR3s in: ~/Desktop/H4H/INTERCEPT/NextSeq/batch10_cfDNA_13Jul2020/mixcr/clones/CLONES_TRBCHP_336-05_cfDNA.txt\n",
      "\n"
     ]
    },
    {
     "name": "stdout",
     "output_type": "stream",
     "text": [
      "[1] 16\n"
     ]
    },
    {
     "name": "stderr",
     "output_type": "stream",
     "text": [
      "Number of CDR3s in: ~/Desktop/H4H/INTERCEPT/NextSeq/batch10_cfDNA_13Jul2020/mixcr/clones/CLONES_TRBCHP_336-05_cfDNA.txt nonproductive removed\n",
      "\n"
     ]
    },
    {
     "name": "stdout",
     "output_type": "stream",
     "text": [
      "[1] 12\n"
     ]
    },
    {
     "name": "stderr",
     "output_type": "stream",
     "text": [
      "Number of CDR3s in: ~/Desktop/H4H/INTERCEPT/NextSeq/batch10_cfDNA_13Jul2020/mixcr/clones/CLONES_TRBCHP_338-03_cfDNA.txt\n",
      "\n"
     ]
    },
    {
     "name": "stdout",
     "output_type": "stream",
     "text": [
      "[1] 5\n"
     ]
    },
    {
     "name": "stderr",
     "output_type": "stream",
     "text": [
      "Number of CDR3s in: ~/Desktop/H4H/INTERCEPT/NextSeq/batch10_cfDNA_13Jul2020/mixcr/clones/CLONES_TRBCHP_338-03_cfDNA.txt nonproductive removed\n",
      "\n"
     ]
    },
    {
     "name": "stdout",
     "output_type": "stream",
     "text": [
      "[1] 3\n"
     ]
    },
    {
     "name": "stderr",
     "output_type": "stream",
     "text": [
      "Number of CDR3s in: ~/Desktop/H4H/INTERCEPT/NextSeq/batch10_cfDNA_13Jul2020/mixcr/clones/CLONES_TRBCHP_339-03_cfDNA.txt\n",
      "\n"
     ]
    },
    {
     "name": "stdout",
     "output_type": "stream",
     "text": [
      "[1] 8\n"
     ]
    },
    {
     "name": "stderr",
     "output_type": "stream",
     "text": [
      "Number of CDR3s in: ~/Desktop/H4H/INTERCEPT/NextSeq/batch10_cfDNA_13Jul2020/mixcr/clones/CLONES_TRBCHP_339-03_cfDNA.txt nonproductive removed\n",
      "\n"
     ]
    },
    {
     "name": "stdout",
     "output_type": "stream",
     "text": [
      "[1] 6\n"
     ]
    },
    {
     "name": "stderr",
     "output_type": "stream",
     "text": [
      "Number of CDR3s in: ~/Desktop/H4H/INTERCEPT/NextSeq/batch10_cfDNA_13Jul2020/mixcr/clones/CLONES_TRBCHP_347-04_cfDNA.txt\n",
      "\n"
     ]
    },
    {
     "name": "stdout",
     "output_type": "stream",
     "text": [
      "[1] 8\n"
     ]
    },
    {
     "name": "stderr",
     "output_type": "stream",
     "text": [
      "Number of CDR3s in: ~/Desktop/H4H/INTERCEPT/NextSeq/batch10_cfDNA_13Jul2020/mixcr/clones/CLONES_TRBCHP_347-04_cfDNA.txt nonproductive removed\n",
      "\n"
     ]
    },
    {
     "name": "stdout",
     "output_type": "stream",
     "text": [
      "[1] 8\n"
     ]
    },
    {
     "name": "stderr",
     "output_type": "stream",
     "text": [
      "Number of CDR3s in: ~/Desktop/H4H/INTERCEPT/NextSeq/batch10_cfDNA_13Jul2020/mixcr/clones/CLONES_TRBCHP_348-05_cfDNA.txt\n",
      "\n"
     ]
    },
    {
     "name": "stdout",
     "output_type": "stream",
     "text": [
      "[1] 13\n"
     ]
    },
    {
     "name": "stderr",
     "output_type": "stream",
     "text": [
      "Number of CDR3s in: ~/Desktop/H4H/INTERCEPT/NextSeq/batch10_cfDNA_13Jul2020/mixcr/clones/CLONES_TRBCHP_348-05_cfDNA.txt nonproductive removed\n",
      "\n"
     ]
    },
    {
     "name": "stdout",
     "output_type": "stream",
     "text": [
      "[1] 7\n"
     ]
    },
    {
     "name": "stderr",
     "output_type": "stream",
     "text": [
      "Number of CDR3s in: ~/Desktop/H4H/INTERCEPT/NextSeq/batch10_cfDNA_13Jul2020/mixcr/clones/CLONES_TRBCHP_351-04_cfDNA.txt\n",
      "\n"
     ]
    },
    {
     "name": "stdout",
     "output_type": "stream",
     "text": [
      "[1] 7\n"
     ]
    },
    {
     "name": "stderr",
     "output_type": "stream",
     "text": [
      "Number of CDR3s in: ~/Desktop/H4H/INTERCEPT/NextSeq/batch10_cfDNA_13Jul2020/mixcr/clones/CLONES_TRBCHP_351-04_cfDNA.txt nonproductive removed\n",
      "\n"
     ]
    },
    {
     "name": "stdout",
     "output_type": "stream",
     "text": [
      "[1] 5\n"
     ]
    },
    {
     "name": "stderr",
     "output_type": "stream",
     "text": [
      "Number of CDR3s in: ~/Desktop/H4H/INTERCEPT/NextSeq/batch10_cfDNA_13Jul2020/mixcr/clones/CLONES_TRBCHP_351-05_cfDNA.txt\n",
      "\n"
     ]
    },
    {
     "name": "stdout",
     "output_type": "stream",
     "text": [
      "[1] 6\n"
     ]
    },
    {
     "name": "stderr",
     "output_type": "stream",
     "text": [
      "Number of CDR3s in: ~/Desktop/H4H/INTERCEPT/NextSeq/batch10_cfDNA_13Jul2020/mixcr/clones/CLONES_TRBCHP_351-05_cfDNA.txt nonproductive removed\n",
      "\n"
     ]
    },
    {
     "name": "stdout",
     "output_type": "stream",
     "text": [
      "[1] 6\n"
     ]
    },
    {
     "name": "stderr",
     "output_type": "stream",
     "text": [
      "Number of CDR3s in: ~/Desktop/H4H/INTERCEPT/NextSeq/batch10_cfDNA_13Jul2020/mixcr/clones/CLONES_TRBCHP_353-05_cfDNA.txt\n",
      "\n"
     ]
    },
    {
     "name": "stdout",
     "output_type": "stream",
     "text": [
      "[1] 59\n"
     ]
    },
    {
     "name": "stderr",
     "output_type": "stream",
     "text": [
      "Number of CDR3s in: ~/Desktop/H4H/INTERCEPT/NextSeq/batch10_cfDNA_13Jul2020/mixcr/clones/CLONES_TRBCHP_353-05_cfDNA.txt nonproductive removed\n",
      "\n"
     ]
    },
    {
     "name": "stdout",
     "output_type": "stream",
     "text": [
      "[1] 49\n"
     ]
    },
    {
     "name": "stderr",
     "output_type": "stream",
     "text": [
      "Number of CDR3s in: ~/Desktop/H4H/INTERCEPT/NextSeq/batch10_cfDNA_13Jul2020/mixcr/clones/CLONES_TRBCHP_358-02_cfDNA.txt\n",
      "\n"
     ]
    },
    {
     "name": "stdout",
     "output_type": "stream",
     "text": [
      "[1] 20\n"
     ]
    },
    {
     "name": "stderr",
     "output_type": "stream",
     "text": [
      "Number of CDR3s in: ~/Desktop/H4H/INTERCEPT/NextSeq/batch10_cfDNA_13Jul2020/mixcr/clones/CLONES_TRBCHP_358-02_cfDNA.txt nonproductive removed\n",
      "\n"
     ]
    },
    {
     "name": "stdout",
     "output_type": "stream",
     "text": [
      "[1] 16\n"
     ]
    },
    {
     "name": "stderr",
     "output_type": "stream",
     "text": [
      "Number of CDR3s in: ~/Desktop/H4H/INTERCEPT/NextSeq/batch10_cfDNA_13Jul2020/mixcr/clones/CLONES_TRBCHP_361-02_cfDNA.txt\n",
      "\n"
     ]
    },
    {
     "name": "stdout",
     "output_type": "stream",
     "text": [
      "[1] 15\n"
     ]
    },
    {
     "name": "stderr",
     "output_type": "stream",
     "text": [
      "Number of CDR3s in: ~/Desktop/H4H/INTERCEPT/NextSeq/batch10_cfDNA_13Jul2020/mixcr/clones/CLONES_TRBCHP_361-02_cfDNA.txt nonproductive removed\n",
      "\n"
     ]
    },
    {
     "name": "stdout",
     "output_type": "stream",
     "text": [
      "[1] 6\n"
     ]
    },
    {
     "name": "stderr",
     "output_type": "stream",
     "text": [
      "Number of CDR3s in: ~/Desktop/H4H/INTERCEPT/NextSeq/batch10_cfDNA_13Jul2020/mixcr/clones/CLONES_TRBCHP_362-04_cfDNA.txt\n",
      "\n"
     ]
    },
    {
     "name": "stdout",
     "output_type": "stream",
     "text": [
      "[1] 2\n"
     ]
    },
    {
     "name": "stderr",
     "output_type": "stream",
     "text": [
      "Number of CDR3s in: ~/Desktop/H4H/INTERCEPT/NextSeq/batch10_cfDNA_13Jul2020/mixcr/clones/CLONES_TRBCHP_362-04_cfDNA.txt nonproductive removed\n",
      "\n"
     ]
    },
    {
     "name": "stdout",
     "output_type": "stream",
     "text": [
      "[1] 2\n"
     ]
    },
    {
     "name": "stderr",
     "output_type": "stream",
     "text": [
      "Number of CDR3s in: ~/Desktop/H4H/INTERCEPT/NextSeq/batch10_cfDNA_13Jul2020/mixcr/clones/CLONES_TRBCHP_364-02_cfDNA.txt\n",
      "\n"
     ]
    },
    {
     "name": "stdout",
     "output_type": "stream",
     "text": [
      "[1] 7\n"
     ]
    },
    {
     "name": "stderr",
     "output_type": "stream",
     "text": [
      "Number of CDR3s in: ~/Desktop/H4H/INTERCEPT/NextSeq/batch10_cfDNA_13Jul2020/mixcr/clones/CLONES_TRBCHP_364-02_cfDNA.txt nonproductive removed\n",
      "\n"
     ]
    },
    {
     "name": "stdout",
     "output_type": "stream",
     "text": [
      "[1] 5\n"
     ]
    },
    {
     "name": "stderr",
     "output_type": "stream",
     "text": [
      "Number of CDR3s in: ~/Desktop/H4H/INTERCEPT/NextSeq/batch10_cfDNA_13Jul2020/mixcr/clones/CLONES_TRBCHP_366-04_cfDNA.txt\n",
      "\n"
     ]
    },
    {
     "name": "stdout",
     "output_type": "stream",
     "text": [
      "[1] 20\n"
     ]
    },
    {
     "name": "stderr",
     "output_type": "stream",
     "text": [
      "Number of CDR3s in: ~/Desktop/H4H/INTERCEPT/NextSeq/batch10_cfDNA_13Jul2020/mixcr/clones/CLONES_TRBCHP_366-04_cfDNA.txt nonproductive removed\n",
      "\n"
     ]
    },
    {
     "name": "stdout",
     "output_type": "stream",
     "text": [
      "[1] 12\n"
     ]
    },
    {
     "name": "stderr",
     "output_type": "stream",
     "text": [
      "Number of CDR3s in: ~/Desktop/H4H/INTERCEPT/NextSeq/batch10_cfDNA_13Jul2020/mixcr/clones/CLONES_TRBCHP_367-03_cfDNA.txt\n",
      "\n"
     ]
    },
    {
     "name": "stdout",
     "output_type": "stream",
     "text": [
      "[1] 23\n"
     ]
    },
    {
     "name": "stderr",
     "output_type": "stream",
     "text": [
      "Number of CDR3s in: ~/Desktop/H4H/INTERCEPT/NextSeq/batch10_cfDNA_13Jul2020/mixcr/clones/CLONES_TRBCHP_367-03_cfDNA.txt nonproductive removed\n",
      "\n"
     ]
    },
    {
     "name": "stdout",
     "output_type": "stream",
     "text": [
      "[1] 16\n"
     ]
    },
    {
     "name": "stderr",
     "output_type": "stream",
     "text": [
      "Number of CDR3s in: ~/Desktop/H4H/INTERCEPT/NextSeq/batch10_cfDNA_13Jul2020/mixcr/clones/CLONES_TRBCHP_369-02_cfDNA.txt\n",
      "\n"
     ]
    },
    {
     "name": "stdout",
     "output_type": "stream",
     "text": [
      "[1] 53\n"
     ]
    },
    {
     "name": "stderr",
     "output_type": "stream",
     "text": [
      "Number of CDR3s in: ~/Desktop/H4H/INTERCEPT/NextSeq/batch10_cfDNA_13Jul2020/mixcr/clones/CLONES_TRBCHP_369-02_cfDNA.txt nonproductive removed\n",
      "\n"
     ]
    },
    {
     "name": "stdout",
     "output_type": "stream",
     "text": [
      "[1] 35\n"
     ]
    },
    {
     "name": "stderr",
     "output_type": "stream",
     "text": [
      "Number of CDR3s in: ~/Desktop/H4H/INTERCEPT/NextSeq/batch10_cfDNA_13Jul2020/mixcr/clones/CLONES_TRBCHP_375-02_cfDNA.txt\n",
      "\n"
     ]
    },
    {
     "name": "stdout",
     "output_type": "stream",
     "text": [
      "[1] 17\n"
     ]
    },
    {
     "name": "stderr",
     "output_type": "stream",
     "text": [
      "Number of CDR3s in: ~/Desktop/H4H/INTERCEPT/NextSeq/batch10_cfDNA_13Jul2020/mixcr/clones/CLONES_TRBCHP_375-02_cfDNA.txt nonproductive removed\n",
      "\n"
     ]
    },
    {
     "name": "stdout",
     "output_type": "stream",
     "text": [
      "[1] 10\n"
     ]
    },
    {
     "name": "stderr",
     "output_type": "stream",
     "text": [
      "Number of CDR3s in: ~/Desktop/H4H/INTERCEPT/NextSeq/batch10_cfDNA_13Jul2020/mixcr/clones/CLONES_TRBCHP_381-02_cfDNA.txt\n",
      "\n"
     ]
    },
    {
     "name": "stdout",
     "output_type": "stream",
     "text": [
      "[1] 7\n"
     ]
    },
    {
     "name": "stderr",
     "output_type": "stream",
     "text": [
      "Number of CDR3s in: ~/Desktop/H4H/INTERCEPT/NextSeq/batch10_cfDNA_13Jul2020/mixcr/clones/CLONES_TRBCHP_381-02_cfDNA.txt nonproductive removed\n",
      "\n"
     ]
    },
    {
     "name": "stdout",
     "output_type": "stream",
     "text": [
      "[1] 6\n"
     ]
    },
    {
     "name": "stderr",
     "output_type": "stream",
     "text": [
      "Number of CDR3s in: ~/Desktop/H4H/INTERCEPT/NextSeq/batch11_23Apr2020/mixcr/clones/CLONES_TRBCHP_375-05_PBMC_DNA.txt\n",
      "\n"
     ]
    },
    {
     "name": "stdout",
     "output_type": "stream",
     "text": [
      "[1] 363\n"
     ]
    },
    {
     "name": "stderr",
     "output_type": "stream",
     "text": [
      "Number of CDR3s in: ~/Desktop/H4H/INTERCEPT/NextSeq/batch11_23Apr2020/mixcr/clones/CLONES_TRBCHP_375-05_PBMC_DNA.txt nonproductive removed\n",
      "\n"
     ]
    },
    {
     "name": "stdout",
     "output_type": "stream",
     "text": [
      "[1] 265\n"
     ]
    },
    {
     "name": "stderr",
     "output_type": "stream",
     "text": [
      "Number of CDR3s in: ~/Desktop/H4H/INTERCEPT/NextSeq/batch11_23Apr2020/mixcr/clones/CLONES_TRBCHP_377-04_PBMC_DNA.txt\n",
      "\n"
     ]
    },
    {
     "name": "stdout",
     "output_type": "stream",
     "text": [
      "[1] 387\n"
     ]
    },
    {
     "name": "stderr",
     "output_type": "stream",
     "text": [
      "Number of CDR3s in: ~/Desktop/H4H/INTERCEPT/NextSeq/batch11_23Apr2020/mixcr/clones/CLONES_TRBCHP_377-04_PBMC_DNA.txt nonproductive removed\n",
      "\n"
     ]
    },
    {
     "name": "stdout",
     "output_type": "stream",
     "text": [
      "[1] 302\n"
     ]
    },
    {
     "name": "stderr",
     "output_type": "stream",
     "text": [
      "Number of CDR3s in: ~/Desktop/H4H/INTERCEPT/NextSeq/batch11_23Apr2020/mixcr/clones/CLONES_TRBCHP_382-03_PBMC_DNA.txt\n",
      "\n"
     ]
    },
    {
     "name": "stdout",
     "output_type": "stream",
     "text": [
      "[1] 25\n"
     ]
    },
    {
     "name": "stderr",
     "output_type": "stream",
     "text": [
      "Number of CDR3s in: ~/Desktop/H4H/INTERCEPT/NextSeq/batch11_23Apr2020/mixcr/clones/CLONES_TRBCHP_382-03_PBMC_DNA.txt nonproductive removed\n",
      "\n"
     ]
    },
    {
     "name": "stdout",
     "output_type": "stream",
     "text": [
      "[1] 15\n"
     ]
    },
    {
     "name": "stderr",
     "output_type": "stream",
     "text": [
      "Number of CDR3s in: ~/Desktop/H4H/INTERCEPT/NextSeq/batch11_23Apr2020/mixcr/clones/CLONES_TRBCHP_382-04_PBMC_DNA.txt\n",
      "\n"
     ]
    },
    {
     "name": "stdout",
     "output_type": "stream",
     "text": [
      "[1] 159\n"
     ]
    },
    {
     "name": "stderr",
     "output_type": "stream",
     "text": [
      "Number of CDR3s in: ~/Desktop/H4H/INTERCEPT/NextSeq/batch11_23Apr2020/mixcr/clones/CLONES_TRBCHP_382-04_PBMC_DNA.txt nonproductive removed\n",
      "\n"
     ]
    },
    {
     "name": "stdout",
     "output_type": "stream",
     "text": [
      "[1] 112\n"
     ]
    },
    {
     "name": "stderr",
     "output_type": "stream",
     "text": [
      "Number of CDR3s in: ~/Desktop/H4H/INTERCEPT/NextSeq/batch11_23Apr2020/mixcr/clones/CLONES_TRBCHP_387-02_PBMC_DNA.txt\n",
      "\n"
     ]
    },
    {
     "name": "stdout",
     "output_type": "stream",
     "text": [
      "[1] 871\n"
     ]
    },
    {
     "name": "stderr",
     "output_type": "stream",
     "text": [
      "Number of CDR3s in: ~/Desktop/H4H/INTERCEPT/NextSeq/batch11_23Apr2020/mixcr/clones/CLONES_TRBCHP_387-02_PBMC_DNA.txt nonproductive removed\n",
      "\n"
     ]
    },
    {
     "name": "stdout",
     "output_type": "stream",
     "text": [
      "[1] 626\n"
     ]
    },
    {
     "name": "stderr",
     "output_type": "stream",
     "text": [
      "Number of CDR3s in: ~/Desktop/H4H/INTERCEPT/NextSeq/batch11_23Apr2020/mixcr/clones/CLONES_TRBCHP_387-03_PBMC_DNA.txt\n",
      "\n"
     ]
    },
    {
     "name": "stdout",
     "output_type": "stream",
     "text": [
      "[1] 91\n"
     ]
    },
    {
     "name": "stderr",
     "output_type": "stream",
     "text": [
      "Number of CDR3s in: ~/Desktop/H4H/INTERCEPT/NextSeq/batch11_23Apr2020/mixcr/clones/CLONES_TRBCHP_387-03_PBMC_DNA.txt nonproductive removed\n",
      "\n"
     ]
    },
    {
     "name": "stdout",
     "output_type": "stream",
     "text": [
      "[1] 58\n"
     ]
    },
    {
     "name": "stderr",
     "output_type": "stream",
     "text": [
      "Number of CDR3s in: ~/Desktop/H4H/INTERCEPT/NextSeq/batch11_23Apr2020/mixcr/clones/CLONES_TRBCHP_388-04_PBMC_DNA.txt\n",
      "\n"
     ]
    },
    {
     "name": "stdout",
     "output_type": "stream",
     "text": [
      "[1] 106\n"
     ]
    },
    {
     "name": "stderr",
     "output_type": "stream",
     "text": [
      "Number of CDR3s in: ~/Desktop/H4H/INTERCEPT/NextSeq/batch11_23Apr2020/mixcr/clones/CLONES_TRBCHP_388-04_PBMC_DNA.txt nonproductive removed\n",
      "\n"
     ]
    },
    {
     "name": "stdout",
     "output_type": "stream",
     "text": [
      "[1] 82\n"
     ]
    },
    {
     "name": "stderr",
     "output_type": "stream",
     "text": [
      "Number of CDR3s in: ~/Desktop/H4H/INTERCEPT/NextSeq/batch11_23Apr2020/mixcr/clones/CLONES_TRBCHP_391-02_PBMC_DNA.txt\n",
      "\n"
     ]
    },
    {
     "name": "stdout",
     "output_type": "stream",
     "text": [
      "[1] 831\n"
     ]
    },
    {
     "name": "stderr",
     "output_type": "stream",
     "text": [
      "Number of CDR3s in: ~/Desktop/H4H/INTERCEPT/NextSeq/batch11_23Apr2020/mixcr/clones/CLONES_TRBCHP_391-02_PBMC_DNA.txt nonproductive removed\n",
      "\n"
     ]
    },
    {
     "name": "stdout",
     "output_type": "stream",
     "text": [
      "[1] 596\n"
     ]
    },
    {
     "name": "stderr",
     "output_type": "stream",
     "text": [
      "Number of CDR3s in: ~/Desktop/H4H/INTERCEPT/NextSeq/batch11_23Apr2020/mixcr/clones/CLONES_TRBCHP_391-03_PBMC_DNA.txt\n",
      "\n"
     ]
    },
    {
     "name": "stdout",
     "output_type": "stream",
     "text": [
      "[1] 1094\n"
     ]
    },
    {
     "name": "stderr",
     "output_type": "stream",
     "text": [
      "Number of CDR3s in: ~/Desktop/H4H/INTERCEPT/NextSeq/batch11_23Apr2020/mixcr/clones/CLONES_TRBCHP_391-03_PBMC_DNA.txt nonproductive removed\n",
      "\n"
     ]
    },
    {
     "name": "stdout",
     "output_type": "stream",
     "text": [
      "[1] 794\n"
     ]
    },
    {
     "name": "stderr",
     "output_type": "stream",
     "text": [
      "Number of CDR3s in: ~/Desktop/H4H/INTERCEPT/NextSeq/batch11_23Apr2020/mixcr/clones/CLONES_TRBCHP_392-02_PBMC_DNA.txt\n",
      "\n"
     ]
    },
    {
     "name": "stdout",
     "output_type": "stream",
     "text": [
      "[1] 785\n"
     ]
    },
    {
     "name": "stderr",
     "output_type": "stream",
     "text": [
      "Number of CDR3s in: ~/Desktop/H4H/INTERCEPT/NextSeq/batch11_23Apr2020/mixcr/clones/CLONES_TRBCHP_392-02_PBMC_DNA.txt nonproductive removed\n",
      "\n"
     ]
    },
    {
     "name": "stdout",
     "output_type": "stream",
     "text": [
      "[1] 596\n"
     ]
    },
    {
     "name": "stderr",
     "output_type": "stream",
     "text": [
      "Number of CDR3s in: ~/Desktop/H4H/INTERCEPT/NextSeq/batch11_23Apr2020/mixcr/clones/CLONES_TRBCHP_396-03_PBMC_DNA.txt\n",
      "\n"
     ]
    },
    {
     "name": "stdout",
     "output_type": "stream",
     "text": [
      "[1] 794\n"
     ]
    },
    {
     "name": "stderr",
     "output_type": "stream",
     "text": [
      "Number of CDR3s in: ~/Desktop/H4H/INTERCEPT/NextSeq/batch11_23Apr2020/mixcr/clones/CLONES_TRBCHP_396-03_PBMC_DNA.txt nonproductive removed\n",
      "\n"
     ]
    },
    {
     "name": "stdout",
     "output_type": "stream",
     "text": [
      "[1] 586\n"
     ]
    },
    {
     "name": "stderr",
     "output_type": "stream",
     "text": [
      "Number of CDR3s in: ~/Desktop/H4H/INTERCEPT/NextSeq/batch11_23Apr2020/mixcr/clones/CLONES_TRBCHP_397-02_PBMC_DNA.txt\n",
      "\n"
     ]
    },
    {
     "name": "stdout",
     "output_type": "stream",
     "text": [
      "[1] 551\n"
     ]
    },
    {
     "name": "stderr",
     "output_type": "stream",
     "text": [
      "Number of CDR3s in: ~/Desktop/H4H/INTERCEPT/NextSeq/batch11_23Apr2020/mixcr/clones/CLONES_TRBCHP_397-02_PBMC_DNA.txt nonproductive removed\n",
      "\n"
     ]
    },
    {
     "name": "stdout",
     "output_type": "stream",
     "text": [
      "[1] 381\n"
     ]
    },
    {
     "name": "stderr",
     "output_type": "stream",
     "text": [
      "Number of CDR3s in: ~/Desktop/H4H/INTERCEPT/NextSeq/batch11_23Apr2020/mixcr/clones/CLONES_TRBCHP_399-03__PBMC_DNA.txt\n",
      "\n"
     ]
    },
    {
     "name": "stdout",
     "output_type": "stream",
     "text": [
      "[1] 733\n"
     ]
    },
    {
     "name": "stderr",
     "output_type": "stream",
     "text": [
      "Number of CDR3s in: ~/Desktop/H4H/INTERCEPT/NextSeq/batch11_23Apr2020/mixcr/clones/CLONES_TRBCHP_399-03__PBMC_DNA.txt nonproductive removed\n",
      "\n"
     ]
    },
    {
     "name": "stdout",
     "output_type": "stream",
     "text": [
      "[1] 517\n"
     ]
    },
    {
     "name": "stderr",
     "output_type": "stream",
     "text": [
      "Number of CDR3s in: ~/Desktop/H4H/INTERCEPT/NextSeq/batch11_23Apr2020/mixcr/clones/CLONES_TRBCHP_400-03_PBMC_DNA.txt\n",
      "\n"
     ]
    },
    {
     "name": "stdout",
     "output_type": "stream",
     "text": [
      "[1] 95\n"
     ]
    },
    {
     "name": "stderr",
     "output_type": "stream",
     "text": [
      "Number of CDR3s in: ~/Desktop/H4H/INTERCEPT/NextSeq/batch11_23Apr2020/mixcr/clones/CLONES_TRBCHP_400-03_PBMC_DNA.txt nonproductive removed\n",
      "\n"
     ]
    },
    {
     "name": "stdout",
     "output_type": "stream",
     "text": [
      "[1] 77\n"
     ]
    },
    {
     "name": "stderr",
     "output_type": "stream",
     "text": [
      "Number of CDR3s in: ~/Desktop/H4H/INTERCEPT/NextSeq/batch11_23Apr2020/mixcr/clones/CLONES_TRBCHP_401-03_PBMC_DNA.txt\n",
      "\n"
     ]
    },
    {
     "name": "stdout",
     "output_type": "stream",
     "text": [
      "[1] 113\n"
     ]
    },
    {
     "name": "stderr",
     "output_type": "stream",
     "text": [
      "Number of CDR3s in: ~/Desktop/H4H/INTERCEPT/NextSeq/batch11_23Apr2020/mixcr/clones/CLONES_TRBCHP_401-03_PBMC_DNA.txt nonproductive removed\n",
      "\n"
     ]
    },
    {
     "name": "stdout",
     "output_type": "stream",
     "text": [
      "[1] 86\n"
     ]
    },
    {
     "name": "stderr",
     "output_type": "stream",
     "text": [
      "Number of CDR3s in: ~/Desktop/H4H/INTERCEPT/NextSeq/batch11_23Apr2020/mixcr/clones/CLONES_TRBCHP_402-02_PBMC_DNA.txt\n",
      "\n"
     ]
    },
    {
     "name": "stdout",
     "output_type": "stream",
     "text": [
      "[1] 259\n"
     ]
    },
    {
     "name": "stderr",
     "output_type": "stream",
     "text": [
      "Number of CDR3s in: ~/Desktop/H4H/INTERCEPT/NextSeq/batch11_23Apr2020/mixcr/clones/CLONES_TRBCHP_402-02_PBMC_DNA.txt nonproductive removed\n",
      "\n"
     ]
    },
    {
     "name": "stdout",
     "output_type": "stream",
     "text": [
      "[1] 212\n"
     ]
    },
    {
     "name": "stderr",
     "output_type": "stream",
     "text": [
      "Number of CDR3s in: ~/Desktop/H4H/INTERCEPT/NextSeq/batch11_23Apr2020/mixcr/clones/CLONES_TRBCHP_403-02_PBMC_DNA.txt\n",
      "\n"
     ]
    },
    {
     "name": "stdout",
     "output_type": "stream",
     "text": [
      "[1] 461\n"
     ]
    },
    {
     "name": "stderr",
     "output_type": "stream",
     "text": [
      "Number of CDR3s in: ~/Desktop/H4H/INTERCEPT/NextSeq/batch11_23Apr2020/mixcr/clones/CLONES_TRBCHP_403-02_PBMC_DNA.txt nonproductive removed\n",
      "\n"
     ]
    },
    {
     "name": "stdout",
     "output_type": "stream",
     "text": [
      "[1] 345\n"
     ]
    },
    {
     "name": "stderr",
     "output_type": "stream",
     "text": [
      "Number of CDR3s in: ~/Desktop/H4H/INTERCEPT/NextSeq/batch11_23Apr2020/mixcr/clones/CLONES_TRBCHP_404-01_PBMC_DNA.txt\n",
      "\n"
     ]
    },
    {
     "name": "stdout",
     "output_type": "stream",
     "text": [
      "[1] 453\n"
     ]
    },
    {
     "name": "stderr",
     "output_type": "stream",
     "text": [
      "Number of CDR3s in: ~/Desktop/H4H/INTERCEPT/NextSeq/batch11_23Apr2020/mixcr/clones/CLONES_TRBCHP_404-01_PBMC_DNA.txt nonproductive removed\n",
      "\n"
     ]
    },
    {
     "name": "stdout",
     "output_type": "stream",
     "text": [
      "[1] 351\n"
     ]
    },
    {
     "name": "stderr",
     "output_type": "stream",
     "text": [
      "Number of CDR3s in: ~/Desktop/H4H/INTERCEPT/NextSeq/batch11_23Apr2020/mixcr/clones/CLONES_TRBCHP_404-02_PBMC_DNA.txt\n",
      "\n"
     ]
    },
    {
     "name": "stdout",
     "output_type": "stream",
     "text": [
      "[1] 135\n"
     ]
    },
    {
     "name": "stderr",
     "output_type": "stream",
     "text": [
      "Number of CDR3s in: ~/Desktop/H4H/INTERCEPT/NextSeq/batch11_23Apr2020/mixcr/clones/CLONES_TRBCHP_404-02_PBMC_DNA.txt nonproductive removed\n",
      "\n"
     ]
    },
    {
     "name": "stdout",
     "output_type": "stream",
     "text": [
      "[1] 103\n"
     ]
    },
    {
     "name": "stderr",
     "output_type": "stream",
     "text": [
      "Number of CDR3s in: ~/Desktop/H4H/INTERCEPT/NextSeq/batch11_23Apr2020/mixcr/clones/CLONES_TRBCHP_405-01_PBMC_DNA.txt\n",
      "\n"
     ]
    },
    {
     "name": "stdout",
     "output_type": "stream",
     "text": [
      "[1] 75\n"
     ]
    },
    {
     "name": "stderr",
     "output_type": "stream",
     "text": [
      "Number of CDR3s in: ~/Desktop/H4H/INTERCEPT/NextSeq/batch11_23Apr2020/mixcr/clones/CLONES_TRBCHP_405-01_PBMC_DNA.txt nonproductive removed\n",
      "\n"
     ]
    },
    {
     "name": "stdout",
     "output_type": "stream",
     "text": [
      "[1] 47\n"
     ]
    },
    {
     "name": "stderr",
     "output_type": "stream",
     "text": [
      "Number of CDR3s in: ~/Desktop/H4H/INTERCEPT/NextSeq/batch11_23Apr2020/mixcr/clones/CLONES_TRBCHP_405-02_PBMC_DNA.txt\n",
      "\n"
     ]
    },
    {
     "name": "stdout",
     "output_type": "stream",
     "text": [
      "[1] 521\n"
     ]
    },
    {
     "name": "stderr",
     "output_type": "stream",
     "text": [
      "Number of CDR3s in: ~/Desktop/H4H/INTERCEPT/NextSeq/batch11_23Apr2020/mixcr/clones/CLONES_TRBCHP_405-02_PBMC_DNA.txt nonproductive removed\n",
      "\n"
     ]
    },
    {
     "name": "stdout",
     "output_type": "stream",
     "text": [
      "[1] 389\n"
     ]
    },
    {
     "name": "stderr",
     "output_type": "stream",
     "text": [
      "Number of CDR3s in: ~/Desktop/H4H/INTERCEPT/NextSeq/batch11_23Apr2020/mixcr/clones/CLONES_TRBCHP_407-02_PBMC_DNA.txt\n",
      "\n"
     ]
    },
    {
     "name": "stdout",
     "output_type": "stream",
     "text": [
      "[1] 82\n"
     ]
    },
    {
     "name": "stderr",
     "output_type": "stream",
     "text": [
      "Number of CDR3s in: ~/Desktop/H4H/INTERCEPT/NextSeq/batch11_23Apr2020/mixcr/clones/CLONES_TRBCHP_407-02_PBMC_DNA.txt nonproductive removed\n",
      "\n"
     ]
    },
    {
     "name": "stdout",
     "output_type": "stream",
     "text": [
      "[1] 56\n"
     ]
    },
    {
     "name": "stderr",
     "output_type": "stream",
     "text": [
      "Number of CDR3s in: ~/Desktop/H4H/INTERCEPT/NextSeq/batch11_23Apr2020/mixcr/clones/CLONES_TRBCHP_409-01_PBMC_DNA.txt\n",
      "\n"
     ]
    },
    {
     "name": "stdout",
     "output_type": "stream",
     "text": [
      "[1] 190\n"
     ]
    },
    {
     "name": "stderr",
     "output_type": "stream",
     "text": [
      "Number of CDR3s in: ~/Desktop/H4H/INTERCEPT/NextSeq/batch11_23Apr2020/mixcr/clones/CLONES_TRBCHP_409-01_PBMC_DNA.txt nonproductive removed\n",
      "\n"
     ]
    },
    {
     "name": "stdout",
     "output_type": "stream",
     "text": [
      "[1] 127\n"
     ]
    },
    {
     "name": "stderr",
     "output_type": "stream",
     "text": [
      "Number of CDR3s in: ~/Desktop/H4H/INTERCEPT/NextSeq/batch11_cfDNA_11Sep2020/mixcr/clones/CLONES_TRBCHP_373-05_cfDNA.txt\n",
      "\n"
     ]
    },
    {
     "name": "stdout",
     "output_type": "stream",
     "text": [
      "[1] 6\n"
     ]
    },
    {
     "name": "stderr",
     "output_type": "stream",
     "text": [
      "Number of CDR3s in: ~/Desktop/H4H/INTERCEPT/NextSeq/batch11_cfDNA_11Sep2020/mixcr/clones/CLONES_TRBCHP_373-05_cfDNA.txt nonproductive removed\n",
      "\n"
     ]
    },
    {
     "name": "stdout",
     "output_type": "stream",
     "text": [
      "[1] 4\n"
     ]
    },
    {
     "name": "stderr",
     "output_type": "stream",
     "text": [
      "Number of CDR3s in: ~/Desktop/H4H/INTERCEPT/NextSeq/batch11_cfDNA_11Sep2020/mixcr/clones/CLONES_TRBCHP_375-04_cfDNA.txt\n",
      "\n"
     ]
    },
    {
     "name": "stdout",
     "output_type": "stream",
     "text": [
      "[1] 35\n"
     ]
    },
    {
     "name": "stderr",
     "output_type": "stream",
     "text": [
      "Number of CDR3s in: ~/Desktop/H4H/INTERCEPT/NextSeq/batch11_cfDNA_11Sep2020/mixcr/clones/CLONES_TRBCHP_375-04_cfDNA.txt nonproductive removed\n",
      "\n"
     ]
    },
    {
     "name": "stdout",
     "output_type": "stream",
     "text": [
      "[1] 28\n"
     ]
    },
    {
     "name": "stderr",
     "output_type": "stream",
     "text": [
      "Number of CDR3s in: ~/Desktop/H4H/INTERCEPT/NextSeq/batch11_cfDNA_11Sep2020/mixcr/clones/CLONES_TRBCHP_383-05_cfDNA.txt\n",
      "\n"
     ]
    },
    {
     "name": "stdout",
     "output_type": "stream",
     "text": [
      "[1] 14\n"
     ]
    },
    {
     "name": "stderr",
     "output_type": "stream",
     "text": [
      "Number of CDR3s in: ~/Desktop/H4H/INTERCEPT/NextSeq/batch11_cfDNA_11Sep2020/mixcr/clones/CLONES_TRBCHP_383-05_cfDNA.txt nonproductive removed\n",
      "\n"
     ]
    },
    {
     "name": "stdout",
     "output_type": "stream",
     "text": [
      "[1] 10\n"
     ]
    },
    {
     "name": "stderr",
     "output_type": "stream",
     "text": [
      "Number of CDR3s in: ~/Desktop/H4H/INTERCEPT/NextSeq/batch11_cfDNA_11Sep2020/mixcr/clones/CLONES_TRBCHP_386-02_cfDNA.txt\n",
      "\n"
     ]
    },
    {
     "name": "stdout",
     "output_type": "stream",
     "text": [
      "[1] 5\n"
     ]
    },
    {
     "name": "stderr",
     "output_type": "stream",
     "text": [
      "Number of CDR3s in: ~/Desktop/H4H/INTERCEPT/NextSeq/batch11_cfDNA_11Sep2020/mixcr/clones/CLONES_TRBCHP_386-02_cfDNA.txt nonproductive removed\n",
      "\n"
     ]
    },
    {
     "name": "stdout",
     "output_type": "stream",
     "text": [
      "[1] 5\n"
     ]
    },
    {
     "name": "stderr",
     "output_type": "stream",
     "text": [
      "Number of CDR3s in: ~/Desktop/H4H/INTERCEPT/NextSeq/batch11_cfDNA_11Sep2020/mixcr/clones/CLONES_TRBCHP_387-03_cfDNA.txt\n",
      "\n"
     ]
    },
    {
     "name": "stdout",
     "output_type": "stream",
     "text": [
      "[1] 11\n"
     ]
    },
    {
     "name": "stderr",
     "output_type": "stream",
     "text": [
      "Number of CDR3s in: ~/Desktop/H4H/INTERCEPT/NextSeq/batch11_cfDNA_11Sep2020/mixcr/clones/CLONES_TRBCHP_387-03_cfDNA.txt nonproductive removed\n",
      "\n"
     ]
    },
    {
     "name": "stdout",
     "output_type": "stream",
     "text": [
      "[1] 10\n"
     ]
    },
    {
     "name": "stderr",
     "output_type": "stream",
     "text": [
      "Number of CDR3s in: ~/Desktop/H4H/INTERCEPT/NextSeq/batch11_cfDNA_11Sep2020/mixcr/clones/CLONES_TRBCHP_388-04_cfDNA.txt\n",
      "\n"
     ]
    },
    {
     "name": "stdout",
     "output_type": "stream",
     "text": [
      "[1] 5\n"
     ]
    },
    {
     "name": "stderr",
     "output_type": "stream",
     "text": [
      "Number of CDR3s in: ~/Desktop/H4H/INTERCEPT/NextSeq/batch11_cfDNA_11Sep2020/mixcr/clones/CLONES_TRBCHP_388-04_cfDNA.txt nonproductive removed\n",
      "\n"
     ]
    },
    {
     "name": "stdout",
     "output_type": "stream",
     "text": [
      "[1] 4\n"
     ]
    },
    {
     "name": "stderr",
     "output_type": "stream",
     "text": [
      "Number of CDR3s in: ~/Desktop/H4H/INTERCEPT/NextSeq/batch11_cfDNA_11Sep2020/mixcr/clones/CLONES_TRBCHP_389-02_cfDNA.txt\n",
      "\n"
     ]
    },
    {
     "name": "stdout",
     "output_type": "stream",
     "text": [
      "[1] 18\n"
     ]
    },
    {
     "name": "stderr",
     "output_type": "stream",
     "text": [
      "Number of CDR3s in: ~/Desktop/H4H/INTERCEPT/NextSeq/batch11_cfDNA_11Sep2020/mixcr/clones/CLONES_TRBCHP_389-02_cfDNA.txt nonproductive removed\n",
      "\n"
     ]
    },
    {
     "name": "stdout",
     "output_type": "stream",
     "text": [
      "[1] 14\n"
     ]
    },
    {
     "name": "stderr",
     "output_type": "stream",
     "text": [
      "Number of CDR3s in: ~/Desktop/H4H/INTERCEPT/NextSeq/batch11_cfDNA_11Sep2020/mixcr/clones/CLONES_TRBCHP_390-04_cfDNA.txt\n",
      "\n"
     ]
    },
    {
     "name": "stdout",
     "output_type": "stream",
     "text": [
      "[1] 12\n"
     ]
    },
    {
     "name": "stderr",
     "output_type": "stream",
     "text": [
      "Number of CDR3s in: ~/Desktop/H4H/INTERCEPT/NextSeq/batch11_cfDNA_11Sep2020/mixcr/clones/CLONES_TRBCHP_390-04_cfDNA.txt nonproductive removed\n",
      "\n"
     ]
    },
    {
     "name": "stdout",
     "output_type": "stream",
     "text": [
      "[1] 10\n"
     ]
    },
    {
     "name": "stderr",
     "output_type": "stream",
     "text": [
      "Number of CDR3s in: ~/Desktop/H4H/INTERCEPT/NextSeq/batch11_cfDNA_11Sep2020/mixcr/clones/CLONES_TRBCHP_394-05_cfDNA.txt\n",
      "\n"
     ]
    },
    {
     "name": "stdout",
     "output_type": "stream",
     "text": [
      "[1] 23\n"
     ]
    },
    {
     "name": "stderr",
     "output_type": "stream",
     "text": [
      "Number of CDR3s in: ~/Desktop/H4H/INTERCEPT/NextSeq/batch11_cfDNA_11Sep2020/mixcr/clones/CLONES_TRBCHP_394-05_cfDNA.txt nonproductive removed\n",
      "\n"
     ]
    },
    {
     "name": "stdout",
     "output_type": "stream",
     "text": [
      "[1] 19\n"
     ]
    },
    {
     "name": "stderr",
     "output_type": "stream",
     "text": [
      "Number of CDR3s in: ~/Desktop/H4H/INTERCEPT/NextSeq/batch11_cfDNA_11Sep2020/mixcr/clones/CLONES_TRBCHP_396-02_cfDNA.txt\n",
      "\n"
     ]
    },
    {
     "name": "stdout",
     "output_type": "stream",
     "text": [
      "[1] 59\n"
     ]
    },
    {
     "name": "stderr",
     "output_type": "stream",
     "text": [
      "Number of CDR3s in: ~/Desktop/H4H/INTERCEPT/NextSeq/batch11_cfDNA_11Sep2020/mixcr/clones/CLONES_TRBCHP_396-02_cfDNA.txt nonproductive removed\n",
      "\n"
     ]
    },
    {
     "name": "stdout",
     "output_type": "stream",
     "text": [
      "[1] 45\n"
     ]
    },
    {
     "name": "stderr",
     "output_type": "stream",
     "text": [
      "Number of CDR3s in: ~/Desktop/H4H/INTERCEPT/NextSeq/batch11_cfDNA_11Sep2020/mixcr/clones/CLONES_TRBCHP_397-03_cfDNA.txt\n",
      "\n"
     ]
    },
    {
     "name": "stdout",
     "output_type": "stream",
     "text": [
      "[1] 14\n"
     ]
    },
    {
     "name": "stderr",
     "output_type": "stream",
     "text": [
      "Number of CDR3s in: ~/Desktop/H4H/INTERCEPT/NextSeq/batch11_cfDNA_11Sep2020/mixcr/clones/CLONES_TRBCHP_397-03_cfDNA.txt nonproductive removed\n",
      "\n"
     ]
    },
    {
     "name": "stdout",
     "output_type": "stream",
     "text": [
      "[1] 11\n"
     ]
    },
    {
     "name": "stderr",
     "output_type": "stream",
     "text": [
      "Number of CDR3s in: ~/Desktop/H4H/INTERCEPT/NextSeq/batch11_cfDNA_11Sep2020/mixcr/clones/CLONES_TRBCHP_398-02_cfDNA.txt\n",
      "\n"
     ]
    },
    {
     "name": "stdout",
     "output_type": "stream",
     "text": [
      "[1] 9\n"
     ]
    },
    {
     "name": "stderr",
     "output_type": "stream",
     "text": [
      "Number of CDR3s in: ~/Desktop/H4H/INTERCEPT/NextSeq/batch11_cfDNA_11Sep2020/mixcr/clones/CLONES_TRBCHP_398-02_cfDNA.txt nonproductive removed\n",
      "\n"
     ]
    },
    {
     "name": "stdout",
     "output_type": "stream",
     "text": [
      "[1] 8\n"
     ]
    },
    {
     "name": "stderr",
     "output_type": "stream",
     "text": [
      "Number of CDR3s in: ~/Desktop/H4H/INTERCEPT/NextSeq/batch11_cfDNA_11Sep2020/mixcr/clones/CLONES_TRBCHP_400-04_cfDNA.txt\n",
      "\n"
     ]
    },
    {
     "name": "stdout",
     "output_type": "stream",
     "text": [
      "[1] 4\n"
     ]
    },
    {
     "name": "stderr",
     "output_type": "stream",
     "text": [
      "Number of CDR3s in: ~/Desktop/H4H/INTERCEPT/NextSeq/batch11_cfDNA_11Sep2020/mixcr/clones/CLONES_TRBCHP_400-04_cfDNA.txt nonproductive removed\n",
      "\n"
     ]
    },
    {
     "name": "stdout",
     "output_type": "stream",
     "text": [
      "[1] 2\n"
     ]
    },
    {
     "name": "stderr",
     "output_type": "stream",
     "text": [
      "Number of CDR3s in: ~/Desktop/H4H/INTERCEPT/NextSeq/batch11_cfDNA_11Sep2020/mixcr/clones/CLONES_TRBCHP_401-02_cfDNA.txt\n",
      "\n"
     ]
    },
    {
     "name": "stdout",
     "output_type": "stream",
     "text": [
      "[1] 7\n"
     ]
    },
    {
     "name": "stderr",
     "output_type": "stream",
     "text": [
      "Number of CDR3s in: ~/Desktop/H4H/INTERCEPT/NextSeq/batch11_cfDNA_11Sep2020/mixcr/clones/CLONES_TRBCHP_401-02_cfDNA.txt nonproductive removed\n",
      "\n"
     ]
    },
    {
     "name": "stdout",
     "output_type": "stream",
     "text": [
      "[1] 5\n"
     ]
    },
    {
     "name": "stderr",
     "output_type": "stream",
     "text": [
      "Number of CDR3s in: ~/Desktop/H4H/INTERCEPT/NextSeq/batch11_cfDNA_11Sep2020/mixcr/clones/CLONES_TRBCHP_401-05_cfDNA.txt\n",
      "\n"
     ]
    },
    {
     "name": "stdout",
     "output_type": "stream",
     "text": [
      "[1] 4\n"
     ]
    },
    {
     "name": "stderr",
     "output_type": "stream",
     "text": [
      "Number of CDR3s in: ~/Desktop/H4H/INTERCEPT/NextSeq/batch11_cfDNA_11Sep2020/mixcr/clones/CLONES_TRBCHP_401-05_cfDNA.txt nonproductive removed\n",
      "\n"
     ]
    },
    {
     "name": "stdout",
     "output_type": "stream",
     "text": [
      "[1] 4\n"
     ]
    },
    {
     "name": "stderr",
     "output_type": "stream",
     "text": [
      "Number of CDR3s in: ~/Desktop/H4H/INTERCEPT/NextSeq/batch11_cfDNA_11Sep2020/mixcr/clones/CLONES_TRBCHP_402-03_cfDNA.txt\n",
      "\n"
     ]
    },
    {
     "name": "stdout",
     "output_type": "stream",
     "text": [
      "[1] 6\n"
     ]
    },
    {
     "name": "stderr",
     "output_type": "stream",
     "text": [
      "Number of CDR3s in: ~/Desktop/H4H/INTERCEPT/NextSeq/batch11_cfDNA_11Sep2020/mixcr/clones/CLONES_TRBCHP_402-03_cfDNA.txt nonproductive removed\n",
      "\n"
     ]
    },
    {
     "name": "stdout",
     "output_type": "stream",
     "text": [
      "[1] 5\n"
     ]
    },
    {
     "name": "stderr",
     "output_type": "stream",
     "text": [
      "Number of CDR3s in: ~/Desktop/H4H/INTERCEPT/NextSeq/batch11_cfDNA_11Sep2020/mixcr/clones/CLONES_TRBCHP_404-03_cfDNA.txt\n",
      "\n"
     ]
    },
    {
     "name": "stdout",
     "output_type": "stream",
     "text": [
      "[1] 2\n"
     ]
    },
    {
     "name": "stderr",
     "output_type": "stream",
     "text": [
      "Number of CDR3s in: ~/Desktop/H4H/INTERCEPT/NextSeq/batch11_cfDNA_11Sep2020/mixcr/clones/CLONES_TRBCHP_404-03_cfDNA.txt nonproductive removed\n",
      "\n"
     ]
    },
    {
     "name": "stdout",
     "output_type": "stream",
     "text": [
      "[1] 1\n"
     ]
    },
    {
     "name": "stderr",
     "output_type": "stream",
     "text": [
      "Number of CDR3s in: ~/Desktop/H4H/INTERCEPT/NextSeq/batch11_cfDNA_11Sep2020/mixcr/clones/CLONES_TRBCHP_407-03_cfDNA.txt\n",
      "\n"
     ]
    },
    {
     "name": "stdout",
     "output_type": "stream",
     "text": [
      "[1] 7\n"
     ]
    },
    {
     "name": "stderr",
     "output_type": "stream",
     "text": [
      "Number of CDR3s in: ~/Desktop/H4H/INTERCEPT/NextSeq/batch11_cfDNA_11Sep2020/mixcr/clones/CLONES_TRBCHP_407-03_cfDNA.txt nonproductive removed\n",
      "\n"
     ]
    },
    {
     "name": "stdout",
     "output_type": "stream",
     "text": [
      "[1] 4\n"
     ]
    },
    {
     "name": "stderr",
     "output_type": "stream",
     "text": [
      "Number of CDR3s in: ~/Desktop/H4H/INTERCEPT/NextSeq/batch11_cfDNA_11Sep2020/mixcr/clones/CLONES_TRBCHP_408-01_cfDNA.txt\n",
      "\n"
     ]
    },
    {
     "name": "stdout",
     "output_type": "stream",
     "text": [
      "[1] 6\n"
     ]
    },
    {
     "name": "stderr",
     "output_type": "stream",
     "text": [
      "Number of CDR3s in: ~/Desktop/H4H/INTERCEPT/NextSeq/batch11_cfDNA_11Sep2020/mixcr/clones/CLONES_TRBCHP_408-01_cfDNA.txt nonproductive removed\n",
      "\n"
     ]
    },
    {
     "name": "stdout",
     "output_type": "stream",
     "text": [
      "[1] 3\n"
     ]
    },
    {
     "name": "stderr",
     "output_type": "stream",
     "text": [
      "Number of CDR3s in: ~/Desktop/H4H/INTERCEPT/NextSeq/batch11_cfDNA_11Sep2020/mixcr/clones/CLONES_TRBCHP_412-02_cfDNA.txt\n",
      "\n"
     ]
    },
    {
     "name": "stdout",
     "output_type": "stream",
     "text": [
      "[1] 2\n"
     ]
    },
    {
     "name": "stderr",
     "output_type": "stream",
     "text": [
      "Number of CDR3s in: ~/Desktop/H4H/INTERCEPT/NextSeq/batch11_cfDNA_11Sep2020/mixcr/clones/CLONES_TRBCHP_412-02_cfDNA.txt nonproductive removed\n",
      "\n"
     ]
    },
    {
     "name": "stdout",
     "output_type": "stream",
     "text": [
      "[1] 2\n"
     ]
    },
    {
     "name": "stderr",
     "output_type": "stream",
     "text": [
      "Number of CDR3s in: ~/Desktop/H4H/INTERCEPT/NextSeq/batch11_cfDNA_11Sep2020/mixcr/clones/CLONES_TRBCHP_412-03_cfDNA.txt\n",
      "\n"
     ]
    },
    {
     "name": "stdout",
     "output_type": "stream",
     "text": [
      "[1] 3\n"
     ]
    },
    {
     "name": "stderr",
     "output_type": "stream",
     "text": [
      "Number of CDR3s in: ~/Desktop/H4H/INTERCEPT/NextSeq/batch11_cfDNA_11Sep2020/mixcr/clones/CLONES_TRBCHP_412-03_cfDNA.txt nonproductive removed\n",
      "\n"
     ]
    },
    {
     "name": "stdout",
     "output_type": "stream",
     "text": [
      "[1] 2\n"
     ]
    },
    {
     "name": "stderr",
     "output_type": "stream",
     "text": [
      "Number of CDR3s in: ~/Desktop/H4H/INTERCEPT/NextSeq/batch11_cfDNA_11Sep2020/mixcr/clones/CLONES_TRBCHP_413-01_cfDNA.txt\n",
      "\n"
     ]
    },
    {
     "name": "stdout",
     "output_type": "stream",
     "text": [
      "[1] 5\n"
     ]
    },
    {
     "name": "stderr",
     "output_type": "stream",
     "text": [
      "Number of CDR3s in: ~/Desktop/H4H/INTERCEPT/NextSeq/batch11_cfDNA_11Sep2020/mixcr/clones/CLONES_TRBCHP_413-01_cfDNA.txt nonproductive removed\n",
      "\n"
     ]
    },
    {
     "name": "stdout",
     "output_type": "stream",
     "text": [
      "[1] 5\n"
     ]
    },
    {
     "name": "stderr",
     "output_type": "stream",
     "text": [
      "Number of CDR3s in: ~/Desktop/H4H/INTERCEPT/NextSeq/batch11_cfDNA_11Sep2020/mixcr/clones/CLONES_TRBCHP_415-01_cfDNA.txt\n",
      "\n"
     ]
    },
    {
     "name": "stdout",
     "output_type": "stream",
     "text": [
      "[1] 7\n"
     ]
    },
    {
     "name": "stderr",
     "output_type": "stream",
     "text": [
      "Number of CDR3s in: ~/Desktop/H4H/INTERCEPT/NextSeq/batch11_cfDNA_11Sep2020/mixcr/clones/CLONES_TRBCHP_415-01_cfDNA.txt nonproductive removed\n",
      "\n"
     ]
    },
    {
     "name": "stdout",
     "output_type": "stream",
     "text": [
      "[1] 6\n"
     ]
    },
    {
     "name": "stderr",
     "output_type": "stream",
     "text": [
      "Number of CDR3s in: ~/Desktop/H4H/INTERCEPT/NextSeq/batch11_cfDNA_11Sep2020/mixcr/clones/CLONES_TRBCHP_417-02_cfDNA.txt\n",
      "\n"
     ]
    },
    {
     "name": "stdout",
     "output_type": "stream",
     "text": [
      "[1] 6\n"
     ]
    },
    {
     "name": "stderr",
     "output_type": "stream",
     "text": [
      "Number of CDR3s in: ~/Desktop/H4H/INTERCEPT/NextSeq/batch11_cfDNA_11Sep2020/mixcr/clones/CLONES_TRBCHP_417-02_cfDNA.txt nonproductive removed\n",
      "\n"
     ]
    },
    {
     "name": "stdout",
     "output_type": "stream",
     "text": [
      "[1] 3\n"
     ]
    },
    {
     "name": "stderr",
     "output_type": "stream",
     "text": [
      "Number of CDR3s in: ~/Desktop/H4H/INTERCEPT/NextSeq/batch12_30Apr2021/mixcr/clones/CLONES_TRBCHP_383-05_PBMC-DNA.txt\n",
      "\n"
     ]
    },
    {
     "name": "stdout",
     "output_type": "stream",
     "text": [
      "[1] 49\n"
     ]
    },
    {
     "name": "stderr",
     "output_type": "stream",
     "text": [
      "Number of CDR3s in: ~/Desktop/H4H/INTERCEPT/NextSeq/batch12_30Apr2021/mixcr/clones/CLONES_TRBCHP_383-05_PBMC-DNA.txt nonproductive removed\n",
      "\n"
     ]
    },
    {
     "name": "stdout",
     "output_type": "stream",
     "text": [
      "[1] 30\n"
     ]
    },
    {
     "name": "stderr",
     "output_type": "stream",
     "text": [
      "Number of CDR3s in: ~/Desktop/H4H/INTERCEPT/NextSeq/batch12_30Apr2021/mixcr/clones/CLONES_TRBCHP_388-05_PBMC-DNA.txt\n",
      "\n"
     ]
    },
    {
     "name": "stdout",
     "output_type": "stream",
     "text": [
      "[1] 98\n"
     ]
    },
    {
     "name": "stderr",
     "output_type": "stream",
     "text": [
      "Number of CDR3s in: ~/Desktop/H4H/INTERCEPT/NextSeq/batch12_30Apr2021/mixcr/clones/CLONES_TRBCHP_388-05_PBMC-DNA.txt nonproductive removed\n",
      "\n"
     ]
    },
    {
     "name": "stdout",
     "output_type": "stream",
     "text": [
      "[1] 75\n"
     ]
    },
    {
     "name": "stderr",
     "output_type": "stream",
     "text": [
      "Number of CDR3s in: ~/Desktop/H4H/INTERCEPT/NextSeq/batch12_30Apr2021/mixcr/clones/CLONES_TRBCHP_390-05_PBMC-DNA.txt\n",
      "\n"
     ]
    },
    {
     "name": "stdout",
     "output_type": "stream",
     "text": [
      "[1] 165\n"
     ]
    },
    {
     "name": "stderr",
     "output_type": "stream",
     "text": [
      "Number of CDR3s in: ~/Desktop/H4H/INTERCEPT/NextSeq/batch12_30Apr2021/mixcr/clones/CLONES_TRBCHP_390-05_PBMC-DNA.txt nonproductive removed\n",
      "\n"
     ]
    },
    {
     "name": "stdout",
     "output_type": "stream",
     "text": [
      "[1] 109\n"
     ]
    },
    {
     "name": "stderr",
     "output_type": "stream",
     "text": [
      "Number of CDR3s in: ~/Desktop/H4H/INTERCEPT/NextSeq/batch12_30Apr2021/mixcr/clones/CLONES_TRBCHP_393-04_PBMC-DNA.txt\n",
      "\n"
     ]
    },
    {
     "name": "stdout",
     "output_type": "stream",
     "text": [
      "[1] 53\n"
     ]
    },
    {
     "name": "stderr",
     "output_type": "stream",
     "text": [
      "Number of CDR3s in: ~/Desktop/H4H/INTERCEPT/NextSeq/batch12_30Apr2021/mixcr/clones/CLONES_TRBCHP_393-04_PBMC-DNA.txt nonproductive removed\n",
      "\n"
     ]
    },
    {
     "name": "stdout",
     "output_type": "stream",
     "text": [
      "[1] 36\n"
     ]
    },
    {
     "name": "stderr",
     "output_type": "stream",
     "text": [
      "Number of CDR3s in: ~/Desktop/H4H/INTERCEPT/NextSeq/batch12_30Apr2021/mixcr/clones/CLONES_TRBCHP_398-04_PBMC-DNA.txt\n",
      "\n"
     ]
    },
    {
     "name": "stdout",
     "output_type": "stream",
     "text": [
      "[1] 65\n"
     ]
    },
    {
     "name": "stderr",
     "output_type": "stream",
     "text": [
      "Number of CDR3s in: ~/Desktop/H4H/INTERCEPT/NextSeq/batch12_30Apr2021/mixcr/clones/CLONES_TRBCHP_398-04_PBMC-DNA.txt nonproductive removed\n",
      "\n"
     ]
    },
    {
     "name": "stdout",
     "output_type": "stream",
     "text": [
      "[1] 45\n"
     ]
    },
    {
     "name": "stderr",
     "output_type": "stream",
     "text": [
      "Number of CDR3s in: ~/Desktop/H4H/INTERCEPT/NextSeq/batch12_30Apr2021/mixcr/clones/CLONES_TRBCHP_400-04_PBMC-DNA.txt\n",
      "\n"
     ]
    },
    {
     "name": "stdout",
     "output_type": "stream",
     "text": [
      "[1] 13\n"
     ]
    },
    {
     "name": "stderr",
     "output_type": "stream",
     "text": [
      "Number of CDR3s in: ~/Desktop/H4H/INTERCEPT/NextSeq/batch12_30Apr2021/mixcr/clones/CLONES_TRBCHP_400-04_PBMC-DNA.txt nonproductive removed\n",
      "\n"
     ]
    },
    {
     "name": "stdout",
     "output_type": "stream",
     "text": [
      "[1] 10\n"
     ]
    },
    {
     "name": "stderr",
     "output_type": "stream",
     "text": [
      "Number of CDR3s in: ~/Desktop/H4H/INTERCEPT/NextSeq/batch12_30Apr2021/mixcr/clones/CLONES_TRBCHP_400-05_PBMC-DNA.txt\n",
      "\n"
     ]
    },
    {
     "name": "stdout",
     "output_type": "stream",
     "text": [
      "[1] 35\n"
     ]
    },
    {
     "name": "stderr",
     "output_type": "stream",
     "text": [
      "Number of CDR3s in: ~/Desktop/H4H/INTERCEPT/NextSeq/batch12_30Apr2021/mixcr/clones/CLONES_TRBCHP_400-05_PBMC-DNA.txt nonproductive removed\n",
      "\n"
     ]
    },
    {
     "name": "stdout",
     "output_type": "stream",
     "text": [
      "[1] 28\n"
     ]
    },
    {
     "name": "stderr",
     "output_type": "stream",
     "text": [
      "Number of CDR3s in: ~/Desktop/H4H/INTERCEPT/NextSeq/batch12_30Apr2021/mixcr/clones/CLONES_TRBCHP_405-03_PBMC-DNA.txt\n",
      "\n"
     ]
    },
    {
     "name": "stdout",
     "output_type": "stream",
     "text": [
      "[1] 121\n"
     ]
    },
    {
     "name": "stderr",
     "output_type": "stream",
     "text": [
      "Number of CDR3s in: ~/Desktop/H4H/INTERCEPT/NextSeq/batch12_30Apr2021/mixcr/clones/CLONES_TRBCHP_405-03_PBMC-DNA.txt nonproductive removed\n",
      "\n"
     ]
    },
    {
     "name": "stdout",
     "output_type": "stream",
     "text": [
      "[1] 95\n"
     ]
    },
    {
     "name": "stderr",
     "output_type": "stream",
     "text": [
      "Number of CDR3s in: ~/Desktop/H4H/INTERCEPT/NextSeq/batch12_30Apr2021/mixcr/clones/CLONES_TRBCHP_407-03__PBMC-DN.txt\n",
      "\n"
     ]
    },
    {
     "name": "stdout",
     "output_type": "stream",
     "text": [
      "[1] 45\n"
     ]
    },
    {
     "name": "stderr",
     "output_type": "stream",
     "text": [
      "Number of CDR3s in: ~/Desktop/H4H/INTERCEPT/NextSeq/batch12_30Apr2021/mixcr/clones/CLONES_TRBCHP_407-03__PBMC-DN.txt nonproductive removed\n",
      "\n"
     ]
    },
    {
     "name": "stdout",
     "output_type": "stream",
     "text": [
      "[1] 33\n"
     ]
    },
    {
     "name": "stderr",
     "output_type": "stream",
     "text": [
      "Number of CDR3s in: ~/Desktop/H4H/INTERCEPT/NextSeq/batch12_30Apr2021/mixcr/clones/CLONES_TRBCHP_408-01_PBMC-DNA.txt\n",
      "\n"
     ]
    },
    {
     "name": "stdout",
     "output_type": "stream",
     "text": [
      "[1] 21\n"
     ]
    },
    {
     "name": "stderr",
     "output_type": "stream",
     "text": [
      "Number of CDR3s in: ~/Desktop/H4H/INTERCEPT/NextSeq/batch12_30Apr2021/mixcr/clones/CLONES_TRBCHP_408-01_PBMC-DNA.txt nonproductive removed\n",
      "\n"
     ]
    },
    {
     "name": "stdout",
     "output_type": "stream",
     "text": [
      "[1] 13\n"
     ]
    },
    {
     "name": "stderr",
     "output_type": "stream",
     "text": [
      "Number of CDR3s in: ~/Desktop/H4H/INTERCEPT/NextSeq/batch12_30Apr2021/mixcr/clones/CLONES_TRBCHP_408-02_PBMC-DNA.txt\n",
      "\n"
     ]
    },
    {
     "name": "stdout",
     "output_type": "stream",
     "text": [
      "[1] 95\n"
     ]
    },
    {
     "name": "stderr",
     "output_type": "stream",
     "text": [
      "Number of CDR3s in: ~/Desktop/H4H/INTERCEPT/NextSeq/batch12_30Apr2021/mixcr/clones/CLONES_TRBCHP_408-02_PBMC-DNA.txt nonproductive removed\n",
      "\n"
     ]
    },
    {
     "name": "stdout",
     "output_type": "stream",
     "text": [
      "[1] 56\n"
     ]
    },
    {
     "name": "stderr",
     "output_type": "stream",
     "text": [
      "Number of CDR3s in: ~/Desktop/H4H/INTERCEPT/NextSeq/batch12_30Apr2021/mixcr/clones/CLONES_TRBCHP_409-02_PBMC-DNA.txt\n",
      "\n"
     ]
    },
    {
     "name": "stdout",
     "output_type": "stream",
     "text": [
      "[1] 34\n"
     ]
    },
    {
     "name": "stderr",
     "output_type": "stream",
     "text": [
      "Number of CDR3s in: ~/Desktop/H4H/INTERCEPT/NextSeq/batch12_30Apr2021/mixcr/clones/CLONES_TRBCHP_409-02_PBMC-DNA.txt nonproductive removed\n",
      "\n"
     ]
    },
    {
     "name": "stdout",
     "output_type": "stream",
     "text": [
      "[1] 27\n"
     ]
    },
    {
     "name": "stderr",
     "output_type": "stream",
     "text": [
      "Number of CDR3s in: ~/Desktop/H4H/INTERCEPT/NextSeq/batch12_30Apr2021/mixcr/clones/CLONES_TRBCHP_409-03_PBMC-DNA.txt\n",
      "\n"
     ]
    },
    {
     "name": "stdout",
     "output_type": "stream",
     "text": [
      "[1] 13\n"
     ]
    },
    {
     "name": "stderr",
     "output_type": "stream",
     "text": [
      "Number of CDR3s in: ~/Desktop/H4H/INTERCEPT/NextSeq/batch12_30Apr2021/mixcr/clones/CLONES_TRBCHP_409-03_PBMC-DNA.txt nonproductive removed\n",
      "\n"
     ]
    },
    {
     "name": "stdout",
     "output_type": "stream",
     "text": [
      "[1] 10\n"
     ]
    },
    {
     "name": "stderr",
     "output_type": "stream",
     "text": [
      "Number of CDR3s in: ~/Desktop/H4H/INTERCEPT/NextSeq/batch12_30Apr2021/mixcr/clones/CLONES_TRBCHP_410-01_PBMC-DNA.txt\n",
      "\n"
     ]
    },
    {
     "name": "stdout",
     "output_type": "stream",
     "text": [
      "[1] 232\n"
     ]
    },
    {
     "name": "stderr",
     "output_type": "stream",
     "text": [
      "Number of CDR3s in: ~/Desktop/H4H/INTERCEPT/NextSeq/batch12_30Apr2021/mixcr/clones/CLONES_TRBCHP_410-01_PBMC-DNA.txt nonproductive removed\n",
      "\n"
     ]
    },
    {
     "name": "stdout",
     "output_type": "stream",
     "text": [
      "[1] 130\n"
     ]
    },
    {
     "name": "stderr",
     "output_type": "stream",
     "text": [
      "Number of CDR3s in: ~/Desktop/H4H/INTERCEPT/NextSeq/batch12_30Apr2021/mixcr/clones/CLONES_TRBCHP_410-02_PBMC-DNA.txt\n",
      "\n"
     ]
    },
    {
     "name": "stdout",
     "output_type": "stream",
     "text": [
      "[1] 87\n"
     ]
    },
    {
     "name": "stderr",
     "output_type": "stream",
     "text": [
      "Number of CDR3s in: ~/Desktop/H4H/INTERCEPT/NextSeq/batch12_30Apr2021/mixcr/clones/CLONES_TRBCHP_410-02_PBMC-DNA.txt nonproductive removed\n",
      "\n"
     ]
    },
    {
     "name": "stdout",
     "output_type": "stream",
     "text": [
      "[1] 58\n"
     ]
    },
    {
     "name": "stderr",
     "output_type": "stream",
     "text": [
      "Number of CDR3s in: ~/Desktop/H4H/INTERCEPT/NextSeq/batch12_30Apr2021/mixcr/clones/CLONES_TRBCHP_412-01_PBMC-DNA.txt\n",
      "\n"
     ]
    },
    {
     "name": "stdout",
     "output_type": "stream",
     "text": [
      "[1] 72\n"
     ]
    },
    {
     "name": "stderr",
     "output_type": "stream",
     "text": [
      "Number of CDR3s in: ~/Desktop/H4H/INTERCEPT/NextSeq/batch12_30Apr2021/mixcr/clones/CLONES_TRBCHP_412-01_PBMC-DNA.txt nonproductive removed\n",
      "\n"
     ]
    },
    {
     "name": "stdout",
     "output_type": "stream",
     "text": [
      "[1] 51\n"
     ]
    },
    {
     "name": "stderr",
     "output_type": "stream",
     "text": [
      "Number of CDR3s in: ~/Desktop/H4H/INTERCEPT/NextSeq/batch12_30Apr2021/mixcr/clones/CLONES_TRBCHP_413-01_PBMC-DNA.txt\n",
      "\n"
     ]
    },
    {
     "name": "stdout",
     "output_type": "stream",
     "text": [
      "[1] 52\n"
     ]
    },
    {
     "name": "stderr",
     "output_type": "stream",
     "text": [
      "Number of CDR3s in: ~/Desktop/H4H/INTERCEPT/NextSeq/batch12_30Apr2021/mixcr/clones/CLONES_TRBCHP_413-01_PBMC-DNA.txt nonproductive removed\n",
      "\n"
     ]
    },
    {
     "name": "stdout",
     "output_type": "stream",
     "text": [
      "[1] 31\n"
     ]
    },
    {
     "name": "stderr",
     "output_type": "stream",
     "text": [
      "Number of CDR3s in: ~/Desktop/H4H/INTERCEPT/NextSeq/batch12_30Apr2021/mixcr/clones/CLONES_TRBCHP_417-01_PBMC-DNA.txt\n",
      "\n"
     ]
    },
    {
     "name": "stdout",
     "output_type": "stream",
     "text": [
      "[1] 125\n"
     ]
    },
    {
     "name": "stderr",
     "output_type": "stream",
     "text": [
      "Number of CDR3s in: ~/Desktop/H4H/INTERCEPT/NextSeq/batch12_30Apr2021/mixcr/clones/CLONES_TRBCHP_417-01_PBMC-DNA.txt nonproductive removed\n",
      "\n"
     ]
    },
    {
     "name": "stdout",
     "output_type": "stream",
     "text": [
      "[1] 82\n"
     ]
    },
    {
     "name": "stderr",
     "output_type": "stream",
     "text": [
      "Number of CDR3s in: ~/Desktop/H4H/INTERCEPT/NextSeq/batch13_26Aug2020/mixcr/clones/CLONES_TRBCHP_382-05-PBMC-DNA.txt\n",
      "\n"
     ]
    },
    {
     "name": "stdout",
     "output_type": "stream",
     "text": [
      "[1] 831\n"
     ]
    },
    {
     "name": "stderr",
     "output_type": "stream",
     "text": [
      "Number of CDR3s in: ~/Desktop/H4H/INTERCEPT/NextSeq/batch13_26Aug2020/mixcr/clones/CLONES_TRBCHP_382-05-PBMC-DNA.txt nonproductive removed\n",
      "\n"
     ]
    },
    {
     "name": "stdout",
     "output_type": "stream",
     "text": [
      "[1] 642\n"
     ]
    },
    {
     "name": "stderr",
     "output_type": "stream",
     "text": [
      "Number of CDR3s in: ~/Desktop/H4H/INTERCEPT/NextSeq/batch13_26Aug2020/mixcr/clones/CLONES_TRBCHP_392-04-PBMC-DNA.txt\n",
      "\n"
     ]
    },
    {
     "name": "stdout",
     "output_type": "stream",
     "text": [
      "[1] 196\n"
     ]
    },
    {
     "name": "stderr",
     "output_type": "stream",
     "text": [
      "Number of CDR3s in: ~/Desktop/H4H/INTERCEPT/NextSeq/batch13_26Aug2020/mixcr/clones/CLONES_TRBCHP_392-04-PBMC-DNA.txt nonproductive removed\n",
      "\n"
     ]
    },
    {
     "name": "stdout",
     "output_type": "stream",
     "text": [
      "[1] 138\n"
     ]
    },
    {
     "name": "stderr",
     "output_type": "stream",
     "text": [
      "Number of CDR3s in: ~/Desktop/H4H/INTERCEPT/NextSeq/batch13_26Aug2020/mixcr/clones/CLONES_TRBCHP_393-05-PBMC-DNA.txt\n",
      "\n"
     ]
    },
    {
     "name": "stdout",
     "output_type": "stream",
     "text": [
      "[1] 875\n"
     ]
    },
    {
     "name": "stderr",
     "output_type": "stream",
     "text": [
      "Number of CDR3s in: ~/Desktop/H4H/INTERCEPT/NextSeq/batch13_26Aug2020/mixcr/clones/CLONES_TRBCHP_393-05-PBMC-DNA.txt nonproductive removed\n",
      "\n"
     ]
    },
    {
     "name": "stdout",
     "output_type": "stream",
     "text": [
      "[1] 628\n"
     ]
    },
    {
     "name": "stderr",
     "output_type": "stream",
     "text": [
      "Number of CDR3s in: ~/Desktop/H4H/INTERCEPT/NextSeq/batch13_26Aug2020/mixcr/clones/CLONES_TRBCHP_396-04-PBMC-DNA.txt\n",
      "\n"
     ]
    },
    {
     "name": "stdout",
     "output_type": "stream",
     "text": [
      "[1] 1717\n"
     ]
    },
    {
     "name": "stderr",
     "output_type": "stream",
     "text": [
      "Number of CDR3s in: ~/Desktop/H4H/INTERCEPT/NextSeq/batch13_26Aug2020/mixcr/clones/CLONES_TRBCHP_396-04-PBMC-DNA.txt nonproductive removed\n",
      "\n"
     ]
    },
    {
     "name": "stdout",
     "output_type": "stream",
     "text": [
      "[1] 1281\n"
     ]
    },
    {
     "name": "stderr",
     "output_type": "stream",
     "text": [
      "Number of CDR3s in: ~/Desktop/H4H/INTERCEPT/NextSeq/batch13_26Aug2020/mixcr/clones/CLONES_TRBCHP_397-05-PBMC-DNA.txt\n",
      "\n"
     ]
    },
    {
     "name": "stdout",
     "output_type": "stream",
     "text": [
      "[1] 881\n"
     ]
    },
    {
     "name": "stderr",
     "output_type": "stream",
     "text": [
      "Number of CDR3s in: ~/Desktop/H4H/INTERCEPT/NextSeq/batch13_26Aug2020/mixcr/clones/CLONES_TRBCHP_397-05-PBMC-DNA.txt nonproductive removed\n",
      "\n"
     ]
    },
    {
     "name": "stdout",
     "output_type": "stream",
     "text": [
      "[1] 647\n"
     ]
    },
    {
     "name": "stderr",
     "output_type": "stream",
     "text": [
      "Number of CDR3s in: ~/Desktop/H4H/INTERCEPT/NextSeq/batch13_26Aug2020/mixcr/clones/CLONES_TRBCHP_399-04-PBMC-DNA.txt\n",
      "\n"
     ]
    },
    {
     "name": "stdout",
     "output_type": "stream",
     "text": [
      "[1] 579\n"
     ]
    },
    {
     "name": "stderr",
     "output_type": "stream",
     "text": [
      "Number of CDR3s in: ~/Desktop/H4H/INTERCEPT/NextSeq/batch13_26Aug2020/mixcr/clones/CLONES_TRBCHP_399-04-PBMC-DNA.txt nonproductive removed\n",
      "\n"
     ]
    },
    {
     "name": "stdout",
     "output_type": "stream",
     "text": [
      "[1] 427\n"
     ]
    },
    {
     "name": "stderr",
     "output_type": "stream",
     "text": [
      "Number of CDR3s in: ~/Desktop/H4H/INTERCEPT/NextSeq/batch13_26Aug2020/mixcr/clones/CLONES_TRBCHP_401-04-PBMC-DNA.txt\n",
      "\n"
     ]
    },
    {
     "name": "stdout",
     "output_type": "stream",
     "text": [
      "[1] 87\n"
     ]
    },
    {
     "name": "stderr",
     "output_type": "stream",
     "text": [
      "Number of CDR3s in: ~/Desktop/H4H/INTERCEPT/NextSeq/batch13_26Aug2020/mixcr/clones/CLONES_TRBCHP_401-04-PBMC-DNA.txt nonproductive removed\n",
      "\n"
     ]
    },
    {
     "name": "stdout",
     "output_type": "stream",
     "text": [
      "[1] 56\n"
     ]
    },
    {
     "name": "stderr",
     "output_type": "stream",
     "text": [
      "Number of CDR3s in: ~/Desktop/H4H/INTERCEPT/NextSeq/batch13_26Aug2020/mixcr/clones/CLONES_TRBCHP_401-05-PBMC-DNA.txt\n",
      "\n"
     ]
    },
    {
     "name": "stdout",
     "output_type": "stream",
     "text": [
      "[1] 317\n"
     ]
    },
    {
     "name": "stderr",
     "output_type": "stream",
     "text": [
      "Number of CDR3s in: ~/Desktop/H4H/INTERCEPT/NextSeq/batch13_26Aug2020/mixcr/clones/CLONES_TRBCHP_401-05-PBMC-DNA.txt nonproductive removed\n",
      "\n"
     ]
    },
    {
     "name": "stdout",
     "output_type": "stream",
     "text": [
      "[1] 228\n"
     ]
    },
    {
     "name": "stderr",
     "output_type": "stream",
     "text": [
      "Number of CDR3s in: ~/Desktop/H4H/INTERCEPT/NextSeq/batch13_26Aug2020/mixcr/clones/CLONES_TRBCHP_402-03-PBMC-DNA.txt\n",
      "\n"
     ]
    },
    {
     "name": "stdout",
     "output_type": "stream",
     "text": [
      "[1] 409\n"
     ]
    },
    {
     "name": "stderr",
     "output_type": "stream",
     "text": [
      "Number of CDR3s in: ~/Desktop/H4H/INTERCEPT/NextSeq/batch13_26Aug2020/mixcr/clones/CLONES_TRBCHP_402-03-PBMC-DNA.txt nonproductive removed\n",
      "\n"
     ]
    },
    {
     "name": "stdout",
     "output_type": "stream",
     "text": [
      "[1] 305\n"
     ]
    },
    {
     "name": "stderr",
     "output_type": "stream",
     "text": [
      "Number of CDR3s in: ~/Desktop/H4H/INTERCEPT/NextSeq/batch13_26Aug2020/mixcr/clones/CLONES_TRBCHP_404-04-PBMC-DNA.txt\n",
      "\n"
     ]
    },
    {
     "name": "stdout",
     "output_type": "stream",
     "text": [
      "[1] 64\n"
     ]
    },
    {
     "name": "stderr",
     "output_type": "stream",
     "text": [
      "Number of CDR3s in: ~/Desktop/H4H/INTERCEPT/NextSeq/batch13_26Aug2020/mixcr/clones/CLONES_TRBCHP_404-04-PBMC-DNA.txt nonproductive removed\n",
      "\n"
     ]
    },
    {
     "name": "stdout",
     "output_type": "stream",
     "text": [
      "[1] 48\n"
     ]
    },
    {
     "name": "stderr",
     "output_type": "stream",
     "text": [
      "Number of CDR3s in: ~/Desktop/H4H/INTERCEPT/NextSeq/batch13_26Aug2020/mixcr/clones/CLONES_TRBCHP_404-05-PBMC-DNA.txt\n",
      "\n"
     ]
    },
    {
     "name": "stdout",
     "output_type": "stream",
     "text": [
      "[1] 1108\n"
     ]
    },
    {
     "name": "stderr",
     "output_type": "stream",
     "text": [
      "Number of CDR3s in: ~/Desktop/H4H/INTERCEPT/NextSeq/batch13_26Aug2020/mixcr/clones/CLONES_TRBCHP_404-05-PBMC-DNA.txt nonproductive removed\n",
      "\n"
     ]
    },
    {
     "name": "stdout",
     "output_type": "stream",
     "text": [
      "[1] 831\n"
     ]
    },
    {
     "name": "stderr",
     "output_type": "stream",
     "text": [
      "Number of CDR3s in: ~/Desktop/H4H/INTERCEPT/NextSeq/batch13_26Aug2020/mixcr/clones/CLONES_TRBCHP_405-04-PBMC-DNA.txt\n",
      "\n"
     ]
    },
    {
     "name": "stdout",
     "output_type": "stream",
     "text": [
      "[1] 791\n"
     ]
    },
    {
     "name": "stderr",
     "output_type": "stream",
     "text": [
      "Number of CDR3s in: ~/Desktop/H4H/INTERCEPT/NextSeq/batch13_26Aug2020/mixcr/clones/CLONES_TRBCHP_405-04-PBMC-DNA.txt nonproductive removed\n",
      "\n"
     ]
    },
    {
     "name": "stdout",
     "output_type": "stream",
     "text": [
      "[1] 583\n"
     ]
    },
    {
     "name": "stderr",
     "output_type": "stream",
     "text": [
      "Number of CDR3s in: ~/Desktop/H4H/INTERCEPT/NextSeq/batch13_26Aug2020/mixcr/clones/CLONES_TRBCHP_407-04-PBMC-DNA.txt\n",
      "\n"
     ]
    },
    {
     "name": "stdout",
     "output_type": "stream",
     "text": [
      "[1] 800\n"
     ]
    },
    {
     "name": "stderr",
     "output_type": "stream",
     "text": [
      "Number of CDR3s in: ~/Desktop/H4H/INTERCEPT/NextSeq/batch13_26Aug2020/mixcr/clones/CLONES_TRBCHP_407-04-PBMC-DNA.txt nonproductive removed\n",
      "\n"
     ]
    },
    {
     "name": "stdout",
     "output_type": "stream",
     "text": [
      "[1] 569\n"
     ]
    },
    {
     "name": "stderr",
     "output_type": "stream",
     "text": [
      "Number of CDR3s in: ~/Desktop/H4H/INTERCEPT/NextSeq/batch13_26Aug2020/mixcr/clones/CLONES_TRBCHP_408-03-PBMC-DNA.txt\n",
      "\n"
     ]
    },
    {
     "name": "stdout",
     "output_type": "stream",
     "text": [
      "[1] 1032\n"
     ]
    },
    {
     "name": "stderr",
     "output_type": "stream",
     "text": [
      "Number of CDR3s in: ~/Desktop/H4H/INTERCEPT/NextSeq/batch13_26Aug2020/mixcr/clones/CLONES_TRBCHP_408-03-PBMC-DNA.txt nonproductive removed\n",
      "\n"
     ]
    },
    {
     "name": "stdout",
     "output_type": "stream",
     "text": [
      "[1] 756\n"
     ]
    },
    {
     "name": "stderr",
     "output_type": "stream",
     "text": [
      "Number of CDR3s in: ~/Desktop/H4H/INTERCEPT/NextSeq/batch13_26Aug2020/mixcr/clones/CLONES_TRBCHP_409-04-PBMC-DNA.txt\n",
      "\n"
     ]
    },
    {
     "name": "stdout",
     "output_type": "stream",
     "text": [
      "[1] 94\n"
     ]
    },
    {
     "name": "stderr",
     "output_type": "stream",
     "text": [
      "Number of CDR3s in: ~/Desktop/H4H/INTERCEPT/NextSeq/batch13_26Aug2020/mixcr/clones/CLONES_TRBCHP_409-04-PBMC-DNA.txt nonproductive removed\n",
      "\n"
     ]
    },
    {
     "name": "stdout",
     "output_type": "stream",
     "text": [
      "[1] 75\n"
     ]
    },
    {
     "name": "stderr",
     "output_type": "stream",
     "text": [
      "Number of CDR3s in: ~/Desktop/H4H/INTERCEPT/NextSeq/batch13_26Aug2020/mixcr/clones/CLONES_TRBCHP_410-03-PBMC-DNA.txt\n",
      "\n"
     ]
    },
    {
     "name": "stdout",
     "output_type": "stream",
     "text": [
      "[1] 521\n"
     ]
    },
    {
     "name": "stderr",
     "output_type": "stream",
     "text": [
      "Number of CDR3s in: ~/Desktop/H4H/INTERCEPT/NextSeq/batch13_26Aug2020/mixcr/clones/CLONES_TRBCHP_410-03-PBMC-DNA.txt nonproductive removed\n",
      "\n"
     ]
    },
    {
     "name": "stdout",
     "output_type": "stream",
     "text": [
      "[1] 351\n"
     ]
    },
    {
     "name": "stderr",
     "output_type": "stream",
     "text": [
      "Number of CDR3s in: ~/Desktop/H4H/INTERCEPT/NextSeq/batch13_26Aug2020/mixcr/clones/CLONES_TRBCHP_411-01-PBMC-DNA.txt\n",
      "\n"
     ]
    },
    {
     "name": "stdout",
     "output_type": "stream",
     "text": [
      "[1] 488\n"
     ]
    },
    {
     "name": "stderr",
     "output_type": "stream",
     "text": [
      "Number of CDR3s in: ~/Desktop/H4H/INTERCEPT/NextSeq/batch13_26Aug2020/mixcr/clones/CLONES_TRBCHP_411-01-PBMC-DNA.txt nonproductive removed\n",
      "\n"
     ]
    },
    {
     "name": "stdout",
     "output_type": "stream",
     "text": [
      "[1] 367\n"
     ]
    },
    {
     "name": "stderr",
     "output_type": "stream",
     "text": [
      "Number of CDR3s in: ~/Desktop/H4H/INTERCEPT/NextSeq/batch13_26Aug2020/mixcr/clones/CLONES_TRBCHP_412-02-PBMC-DNA.txt\n",
      "\n"
     ]
    },
    {
     "name": "stdout",
     "output_type": "stream",
     "text": [
      "[1] 537\n"
     ]
    },
    {
     "name": "stderr",
     "output_type": "stream",
     "text": [
      "Number of CDR3s in: ~/Desktop/H4H/INTERCEPT/NextSeq/batch13_26Aug2020/mixcr/clones/CLONES_TRBCHP_412-02-PBMC-DNA.txt nonproductive removed\n",
      "\n"
     ]
    },
    {
     "name": "stdout",
     "output_type": "stream",
     "text": [
      "[1] 401\n"
     ]
    },
    {
     "name": "stderr",
     "output_type": "stream",
     "text": [
      "Number of CDR3s in: ~/Desktop/H4H/INTERCEPT/NextSeq/batch13_26Aug2020/mixcr/clones/CLONES_TRBCHP_412-03-PBMC-DNA.txt\n",
      "\n"
     ]
    },
    {
     "name": "stdout",
     "output_type": "stream",
     "text": [
      "[1] 60\n"
     ]
    },
    {
     "name": "stderr",
     "output_type": "stream",
     "text": [
      "Number of CDR3s in: ~/Desktop/H4H/INTERCEPT/NextSeq/batch13_26Aug2020/mixcr/clones/CLONES_TRBCHP_412-03-PBMC-DNA.txt nonproductive removed\n",
      "\n"
     ]
    },
    {
     "name": "stdout",
     "output_type": "stream",
     "text": [
      "[1] 35\n"
     ]
    },
    {
     "name": "stderr",
     "output_type": "stream",
     "text": [
      "Number of CDR3s in: ~/Desktop/H4H/INTERCEPT/NextSeq/batch13_26Aug2020/mixcr/clones/CLONES_TRBCHP_414-02-PBMC-DNA.txt\n",
      "\n"
     ]
    },
    {
     "name": "stdout",
     "output_type": "stream",
     "text": [
      "[1] 962\n"
     ]
    },
    {
     "name": "stderr",
     "output_type": "stream",
     "text": [
      "Number of CDR3s in: ~/Desktop/H4H/INTERCEPT/NextSeq/batch13_26Aug2020/mixcr/clones/CLONES_TRBCHP_414-02-PBMC-DNA.txt nonproductive removed\n",
      "\n"
     ]
    },
    {
     "name": "stdout",
     "output_type": "stream",
     "text": [
      "[1] 758\n"
     ]
    },
    {
     "name": "stderr",
     "output_type": "stream",
     "text": [
      "Number of CDR3s in: ~/Desktop/H4H/INTERCEPT/NextSeq/batch13_26Aug2020/mixcr/clones/CLONES_TRBCHP_415-01-PBMC-DNA.txt\n",
      "\n"
     ]
    },
    {
     "name": "stdout",
     "output_type": "stream",
     "text": [
      "[1] 155\n"
     ]
    },
    {
     "name": "stderr",
     "output_type": "stream",
     "text": [
      "Number of CDR3s in: ~/Desktop/H4H/INTERCEPT/NextSeq/batch13_26Aug2020/mixcr/clones/CLONES_TRBCHP_415-01-PBMC-DNA.txt nonproductive removed\n",
      "\n"
     ]
    },
    {
     "name": "stdout",
     "output_type": "stream",
     "text": [
      "[1] 129\n"
     ]
    },
    {
     "name": "stderr",
     "output_type": "stream",
     "text": [
      "Number of CDR3s in: ~/Desktop/H4H/INTERCEPT/NextSeq/batch13_26Aug2020/mixcr/clones/CLONES_TRBCHP_416-01-PBMC-DNA.txt\n",
      "\n"
     ]
    },
    {
     "name": "stdout",
     "output_type": "stream",
     "text": [
      "[1] 677\n"
     ]
    },
    {
     "name": "stderr",
     "output_type": "stream",
     "text": [
      "Number of CDR3s in: ~/Desktop/H4H/INTERCEPT/NextSeq/batch13_26Aug2020/mixcr/clones/CLONES_TRBCHP_416-01-PBMC-DNA.txt nonproductive removed\n",
      "\n"
     ]
    },
    {
     "name": "stdout",
     "output_type": "stream",
     "text": [
      "[1] 484\n"
     ]
    },
    {
     "name": "stderr",
     "output_type": "stream",
     "text": [
      "Number of CDR3s in: ~/Desktop/H4H/INTERCEPT/NextSeq/batch13_26Aug2020/mixcr/clones/CLONES_TRBCHP_418-01-PBMC-DNA.txt\n",
      "\n"
     ]
    },
    {
     "name": "stdout",
     "output_type": "stream",
     "text": [
      "[1] 179\n"
     ]
    },
    {
     "name": "stderr",
     "output_type": "stream",
     "text": [
      "Number of CDR3s in: ~/Desktop/H4H/INTERCEPT/NextSeq/batch13_26Aug2020/mixcr/clones/CLONES_TRBCHP_418-01-PBMC-DNA.txt nonproductive removed\n",
      "\n"
     ]
    },
    {
     "name": "stdout",
     "output_type": "stream",
     "text": [
      "[1] 140\n"
     ]
    },
    {
     "name": "stderr",
     "output_type": "stream",
     "text": [
      "Number of CDR3s in: ~/Desktop/H4H/INTERCEPT/NextSeq/batch13_26Aug2020/mixcr/clones/CLONES_TRBCHP_422-01_-PBMC-DN.txt\n",
      "\n"
     ]
    },
    {
     "name": "stdout",
     "output_type": "stream",
     "text": [
      "[1] 417\n"
     ]
    },
    {
     "name": "stderr",
     "output_type": "stream",
     "text": [
      "Number of CDR3s in: ~/Desktop/H4H/INTERCEPT/NextSeq/batch13_26Aug2020/mixcr/clones/CLONES_TRBCHP_422-01_-PBMC-DN.txt nonproductive removed\n",
      "\n"
     ]
    },
    {
     "name": "stdout",
     "output_type": "stream",
     "text": [
      "[1] 149\n"
     ]
    },
    {
     "name": "stderr",
     "output_type": "stream",
     "text": [
      "Number of CDR3s in: ~/Desktop/H4H/INTERCEPT/NextSeq/batch13_cfDNA_11Sep2020/mixcr/clones/CLONES_TRBCHP_334-03_cfDNA.txt\n",
      "\n"
     ]
    },
    {
     "name": "stdout",
     "output_type": "stream",
     "text": [
      "[1] 44\n"
     ]
    },
    {
     "name": "stderr",
     "output_type": "stream",
     "text": [
      "Number of CDR3s in: ~/Desktop/H4H/INTERCEPT/NextSeq/batch13_cfDNA_11Sep2020/mixcr/clones/CLONES_TRBCHP_334-03_cfDNA.txt nonproductive removed\n",
      "\n"
     ]
    },
    {
     "name": "stdout",
     "output_type": "stream",
     "text": [
      "[1] 27\n"
     ]
    },
    {
     "name": "stderr",
     "output_type": "stream",
     "text": [
      "Number of CDR3s in: ~/Desktop/H4H/INTERCEPT/NextSeq/batch13_cfDNA_11Sep2020/mixcr/clones/CLONES_TRBCHP_341-02_cfDNA.txt\n",
      "\n"
     ]
    },
    {
     "name": "stdout",
     "output_type": "stream",
     "text": [
      "[1] 53\n"
     ]
    },
    {
     "name": "stderr",
     "output_type": "stream",
     "text": [
      "Number of CDR3s in: ~/Desktop/H4H/INTERCEPT/NextSeq/batch13_cfDNA_11Sep2020/mixcr/clones/CLONES_TRBCHP_341-02_cfDNA.txt nonproductive removed\n",
      "\n"
     ]
    },
    {
     "name": "stdout",
     "output_type": "stream",
     "text": [
      "[1] 34\n"
     ]
    },
    {
     "name": "stderr",
     "output_type": "stream",
     "text": [
      "Number of CDR3s in: ~/Desktop/H4H/INTERCEPT/NextSeq/batch13_cfDNA_11Sep2020/mixcr/clones/CLONES_TRBCHP_359-03_cfDNA.txt\n",
      "\n"
     ]
    },
    {
     "name": "stdout",
     "output_type": "stream",
     "text": [
      "[1] 51\n"
     ]
    },
    {
     "name": "stderr",
     "output_type": "stream",
     "text": [
      "Number of CDR3s in: ~/Desktop/H4H/INTERCEPT/NextSeq/batch13_cfDNA_11Sep2020/mixcr/clones/CLONES_TRBCHP_359-03_cfDNA.txt nonproductive removed\n",
      "\n"
     ]
    },
    {
     "name": "stdout",
     "output_type": "stream",
     "text": [
      "[1] 38\n"
     ]
    },
    {
     "name": "stderr",
     "output_type": "stream",
     "text": [
      "Number of CDR3s in: ~/Desktop/H4H/INTERCEPT/NextSeq/batch13_cfDNA_11Sep2020/mixcr/clones/CLONES_TRBCHP_360-04_cfDNA.txt\n",
      "\n"
     ]
    },
    {
     "name": "stdout",
     "output_type": "stream",
     "text": [
      "[1] 71\n"
     ]
    },
    {
     "name": "stderr",
     "output_type": "stream",
     "text": [
      "Number of CDR3s in: ~/Desktop/H4H/INTERCEPT/NextSeq/batch13_cfDNA_11Sep2020/mixcr/clones/CLONES_TRBCHP_360-04_cfDNA.txt nonproductive removed\n",
      "\n"
     ]
    },
    {
     "name": "stdout",
     "output_type": "stream",
     "text": [
      "[1] 52\n"
     ]
    },
    {
     "name": "stderr",
     "output_type": "stream",
     "text": [
      "Number of CDR3s in: ~/Desktop/H4H/INTERCEPT/NextSeq/batch13_cfDNA_11Sep2020/mixcr/clones/CLONES_TRBCHP_360-05_cfDNA.txt\n",
      "\n"
     ]
    },
    {
     "name": "stdout",
     "output_type": "stream",
     "text": [
      "[1] 34\n"
     ]
    },
    {
     "name": "stderr",
     "output_type": "stream",
     "text": [
      "Number of CDR3s in: ~/Desktop/H4H/INTERCEPT/NextSeq/batch13_cfDNA_11Sep2020/mixcr/clones/CLONES_TRBCHP_360-05_cfDNA.txt nonproductive removed\n",
      "\n"
     ]
    },
    {
     "name": "stdout",
     "output_type": "stream",
     "text": [
      "[1] 26\n"
     ]
    },
    {
     "name": "stderr",
     "output_type": "stream",
     "text": [
      "Number of CDR3s in: ~/Desktop/H4H/INTERCEPT/NextSeq/batch13_cfDNA_11Sep2020/mixcr/clones/CLONES_TRBCHP_367-04_cfDNA.txt\n",
      "\n"
     ]
    },
    {
     "name": "stdout",
     "output_type": "stream",
     "text": [
      "[1] 305\n"
     ]
    },
    {
     "name": "stderr",
     "output_type": "stream",
     "text": [
      "Number of CDR3s in: ~/Desktop/H4H/INTERCEPT/NextSeq/batch13_cfDNA_11Sep2020/mixcr/clones/CLONES_TRBCHP_367-04_cfDNA.txt nonproductive removed\n",
      "\n"
     ]
    },
    {
     "name": "stdout",
     "output_type": "stream",
     "text": [
      "[1] 220\n"
     ]
    },
    {
     "name": "stderr",
     "output_type": "stream",
     "text": [
      "Number of CDR3s in: ~/Desktop/H4H/INTERCEPT/NextSeq/batch13_cfDNA_11Sep2020/mixcr/clones/CLONES_TRBCHP_367-05_cfDNA.txt\n",
      "\n"
     ]
    },
    {
     "name": "stdout",
     "output_type": "stream",
     "text": [
      "[1] 14\n"
     ]
    },
    {
     "name": "stderr",
     "output_type": "stream",
     "text": [
      "Number of CDR3s in: ~/Desktop/H4H/INTERCEPT/NextSeq/batch13_cfDNA_11Sep2020/mixcr/clones/CLONES_TRBCHP_367-05_cfDNA.txt nonproductive removed\n",
      "\n"
     ]
    },
    {
     "name": "stdout",
     "output_type": "stream",
     "text": [
      "[1] 12\n"
     ]
    },
    {
     "name": "stderr",
     "output_type": "stream",
     "text": [
      "Number of CDR3s in: ~/Desktop/H4H/INTERCEPT/NextSeq/batch13_cfDNA_11Sep2020/mixcr/clones/CLONES_TRBCHP_375-03_cfDNA.txt\n",
      "\n"
     ]
    },
    {
     "name": "stdout",
     "output_type": "stream",
     "text": [
      "[1] 17\n"
     ]
    },
    {
     "name": "stderr",
     "output_type": "stream",
     "text": [
      "Number of CDR3s in: ~/Desktop/H4H/INTERCEPT/NextSeq/batch13_cfDNA_11Sep2020/mixcr/clones/CLONES_TRBCHP_375-03_cfDNA.txt nonproductive removed\n",
      "\n"
     ]
    },
    {
     "name": "stdout",
     "output_type": "stream",
     "text": [
      "[1] 14\n"
     ]
    },
    {
     "name": "stderr",
     "output_type": "stream",
     "text": [
      "Number of CDR3s in: ~/Desktop/H4H/INTERCEPT/NextSeq/batch13_cfDNA_11Sep2020/mixcr/clones/CLONES_TRBCHP_375-05_cfDNA.txt\n",
      "\n"
     ]
    },
    {
     "name": "stdout",
     "output_type": "stream",
     "text": [
      "[1] 69\n"
     ]
    },
    {
     "name": "stderr",
     "output_type": "stream",
     "text": [
      "Number of CDR3s in: ~/Desktop/H4H/INTERCEPT/NextSeq/batch13_cfDNA_11Sep2020/mixcr/clones/CLONES_TRBCHP_375-05_cfDNA.txt nonproductive removed\n",
      "\n"
     ]
    },
    {
     "name": "stdout",
     "output_type": "stream",
     "text": [
      "[1] 49\n"
     ]
    },
    {
     "name": "stderr",
     "output_type": "stream",
     "text": [
      "Number of CDR3s in: ~/Desktop/H4H/INTERCEPT/NextSeq/batch13_cfDNA_11Sep2020/mixcr/clones/CLONES_TRBCHP_382-05_cfDNA.txt\n",
      "\n"
     ]
    },
    {
     "name": "stdout",
     "output_type": "stream",
     "text": [
      "[1] 79\n"
     ]
    },
    {
     "name": "stderr",
     "output_type": "stream",
     "text": [
      "Number of CDR3s in: ~/Desktop/H4H/INTERCEPT/NextSeq/batch13_cfDNA_11Sep2020/mixcr/clones/CLONES_TRBCHP_382-05_cfDNA.txt nonproductive removed\n",
      "\n"
     ]
    },
    {
     "name": "stdout",
     "output_type": "stream",
     "text": [
      "[1] 52\n"
     ]
    },
    {
     "name": "stderr",
     "output_type": "stream",
     "text": [
      "Number of CDR3s in: ~/Desktop/H4H/INTERCEPT/NextSeq/batch13_cfDNA_11Sep2020/mixcr/clones/CLONES_TRBCHP_386-05_cfDNA.txt\n",
      "\n"
     ]
    },
    {
     "name": "stdout",
     "output_type": "stream",
     "text": [
      "[1] 21\n"
     ]
    },
    {
     "name": "stderr",
     "output_type": "stream",
     "text": [
      "Number of CDR3s in: ~/Desktop/H4H/INTERCEPT/NextSeq/batch13_cfDNA_11Sep2020/mixcr/clones/CLONES_TRBCHP_386-05_cfDNA.txt nonproductive removed\n",
      "\n"
     ]
    },
    {
     "name": "stdout",
     "output_type": "stream",
     "text": [
      "[1] 16\n"
     ]
    },
    {
     "name": "stderr",
     "output_type": "stream",
     "text": [
      "Number of CDR3s in: ~/Desktop/H4H/INTERCEPT/NextSeq/batch13_cfDNA_11Sep2020/mixcr/clones/CLONES_TRBCHP_388-05_cfDNA.txt\n",
      "\n"
     ]
    },
    {
     "name": "stdout",
     "output_type": "stream",
     "text": [
      "[1] 40\n"
     ]
    },
    {
     "name": "stderr",
     "output_type": "stream",
     "text": [
      "Number of CDR3s in: ~/Desktop/H4H/INTERCEPT/NextSeq/batch13_cfDNA_11Sep2020/mixcr/clones/CLONES_TRBCHP_388-05_cfDNA.txt nonproductive removed\n",
      "\n"
     ]
    },
    {
     "name": "stdout",
     "output_type": "stream",
     "text": [
      "[1] 28\n"
     ]
    },
    {
     "name": "stderr",
     "output_type": "stream",
     "text": [
      "Number of CDR3s in: ~/Desktop/H4H/INTERCEPT/NextSeq/batch13_cfDNA_11Sep2020/mixcr/clones/CLONES_TRBCHP_389-01_cfDNA.txt\n",
      "\n"
     ]
    },
    {
     "name": "stdout",
     "output_type": "stream",
     "text": [
      "[1] 43\n"
     ]
    },
    {
     "name": "stderr",
     "output_type": "stream",
     "text": [
      "Number of CDR3s in: ~/Desktop/H4H/INTERCEPT/NextSeq/batch13_cfDNA_11Sep2020/mixcr/clones/CLONES_TRBCHP_389-01_cfDNA.txt nonproductive removed\n",
      "\n"
     ]
    },
    {
     "name": "stdout",
     "output_type": "stream",
     "text": [
      "[1] 32\n"
     ]
    },
    {
     "name": "stderr",
     "output_type": "stream",
     "text": [
      "Number of CDR3s in: ~/Desktop/H4H/INTERCEPT/NextSeq/batch13_cfDNA_11Sep2020/mixcr/clones/CLONES_TRBCHP_390-02_cfDNA.txt\n",
      "\n"
     ]
    },
    {
     "name": "stdout",
     "output_type": "stream",
     "text": [
      "[1] 61\n"
     ]
    },
    {
     "name": "stderr",
     "output_type": "stream",
     "text": [
      "Number of CDR3s in: ~/Desktop/H4H/INTERCEPT/NextSeq/batch13_cfDNA_11Sep2020/mixcr/clones/CLONES_TRBCHP_390-02_cfDNA.txt nonproductive removed\n",
      "\n"
     ]
    },
    {
     "name": "stdout",
     "output_type": "stream",
     "text": [
      "[1] 36\n"
     ]
    },
    {
     "name": "stderr",
     "output_type": "stream",
     "text": [
      "Number of CDR3s in: ~/Desktop/H4H/INTERCEPT/NextSeq/batch13_cfDNA_11Sep2020/mixcr/clones/CLONES_TRBCHP_392-02_cfDNA.txt\n",
      "\n"
     ]
    },
    {
     "name": "stdout",
     "output_type": "stream",
     "text": [
      "[1] 142\n"
     ]
    },
    {
     "name": "stderr",
     "output_type": "stream",
     "text": [
      "Number of CDR3s in: ~/Desktop/H4H/INTERCEPT/NextSeq/batch13_cfDNA_11Sep2020/mixcr/clones/CLONES_TRBCHP_392-02_cfDNA.txt nonproductive removed\n",
      "\n"
     ]
    },
    {
     "name": "stdout",
     "output_type": "stream",
     "text": [
      "[1] 97\n"
     ]
    },
    {
     "name": "stderr",
     "output_type": "stream",
     "text": [
      "Number of CDR3s in: ~/Desktop/H4H/INTERCEPT/NextSeq/batch13_cfDNA_11Sep2020/mixcr/clones/CLONES_TRBCHP_392-03_cfDNA.txt\n",
      "\n"
     ]
    },
    {
     "name": "stdout",
     "output_type": "stream",
     "text": [
      "[1] 35\n"
     ]
    },
    {
     "name": "stderr",
     "output_type": "stream",
     "text": [
      "Number of CDR3s in: ~/Desktop/H4H/INTERCEPT/NextSeq/batch13_cfDNA_11Sep2020/mixcr/clones/CLONES_TRBCHP_392-03_cfDNA.txt nonproductive removed\n",
      "\n"
     ]
    },
    {
     "name": "stdout",
     "output_type": "stream",
     "text": [
      "[1] 25\n"
     ]
    },
    {
     "name": "stderr",
     "output_type": "stream",
     "text": [
      "Number of CDR3s in: ~/Desktop/H4H/INTERCEPT/NextSeq/batch13_cfDNA_11Sep2020/mixcr/clones/CLONES_TRBCHP_397-04_cfDNA.txt\n",
      "\n"
     ]
    },
    {
     "name": "stdout",
     "output_type": "stream",
     "text": [
      "[1] 34\n"
     ]
    },
    {
     "name": "stderr",
     "output_type": "stream",
     "text": [
      "Number of CDR3s in: ~/Desktop/H4H/INTERCEPT/NextSeq/batch13_cfDNA_11Sep2020/mixcr/clones/CLONES_TRBCHP_397-04_cfDNA.txt nonproductive removed\n",
      "\n"
     ]
    },
    {
     "name": "stdout",
     "output_type": "stream",
     "text": [
      "[1] 24\n"
     ]
    },
    {
     "name": "stderr",
     "output_type": "stream",
     "text": [
      "Number of CDR3s in: ~/Desktop/H4H/INTERCEPT/NextSeq/batch13_cfDNA_11Sep2020/mixcr/clones/CLONES_TRBCHP_398-04_cfDNA.txt\n",
      "\n"
     ]
    },
    {
     "name": "stdout",
     "output_type": "stream",
     "text": [
      "[1] 25\n"
     ]
    },
    {
     "name": "stderr",
     "output_type": "stream",
     "text": [
      "Number of CDR3s in: ~/Desktop/H4H/INTERCEPT/NextSeq/batch13_cfDNA_11Sep2020/mixcr/clones/CLONES_TRBCHP_398-04_cfDNA.txt nonproductive removed\n",
      "\n"
     ]
    },
    {
     "name": "stdout",
     "output_type": "stream",
     "text": [
      "[1] 22\n"
     ]
    },
    {
     "name": "stderr",
     "output_type": "stream",
     "text": [
      "Number of CDR3s in: ~/Desktop/H4H/INTERCEPT/NextSeq/batch13_cfDNA_11Sep2020/mixcr/clones/CLONES_TRBCHP_400-05_cfDNA.txt\n",
      "\n"
     ]
    },
    {
     "name": "stdout",
     "output_type": "stream",
     "text": [
      "[1] 58\n"
     ]
    },
    {
     "name": "stderr",
     "output_type": "stream",
     "text": [
      "Number of CDR3s in: ~/Desktop/H4H/INTERCEPT/NextSeq/batch13_cfDNA_11Sep2020/mixcr/clones/CLONES_TRBCHP_400-05_cfDNA.txt nonproductive removed\n",
      "\n"
     ]
    },
    {
     "name": "stdout",
     "output_type": "stream",
     "text": [
      "[1] 40\n"
     ]
    },
    {
     "name": "stderr",
     "output_type": "stream",
     "text": [
      "Number of CDR3s in: ~/Desktop/H4H/INTERCEPT/NextSeq/batch13_cfDNA_11Sep2020/mixcr/clones/CLONES_TRBCHP_403-02_cfDNA.txt\n",
      "\n"
     ]
    },
    {
     "name": "stdout",
     "output_type": "stream",
     "text": [
      "[1] 33\n"
     ]
    },
    {
     "name": "stderr",
     "output_type": "stream",
     "text": [
      "Number of CDR3s in: ~/Desktop/H4H/INTERCEPT/NextSeq/batch13_cfDNA_11Sep2020/mixcr/clones/CLONES_TRBCHP_403-02_cfDNA.txt nonproductive removed\n",
      "\n"
     ]
    },
    {
     "name": "stdout",
     "output_type": "stream",
     "text": [
      "[1] 28\n"
     ]
    },
    {
     "name": "stderr",
     "output_type": "stream",
     "text": [
      "Number of CDR3s in: ~/Desktop/H4H/INTERCEPT/NextSeq/batch13_cfDNA_11Sep2020/mixcr/clones/CLONES_TRBCHP_404-05_cfDNA.txt\n",
      "\n"
     ]
    },
    {
     "name": "stdout",
     "output_type": "stream",
     "text": [
      "[1] 48\n"
     ]
    },
    {
     "name": "stderr",
     "output_type": "stream",
     "text": [
      "Number of CDR3s in: ~/Desktop/H4H/INTERCEPT/NextSeq/batch13_cfDNA_11Sep2020/mixcr/clones/CLONES_TRBCHP_404-05_cfDNA.txt nonproductive removed\n",
      "\n"
     ]
    },
    {
     "name": "stdout",
     "output_type": "stream",
     "text": [
      "[1] 35\n"
     ]
    },
    {
     "name": "stderr",
     "output_type": "stream",
     "text": [
      "Number of CDR3s in: ~/Desktop/H4H/INTERCEPT/NextSeq/batch13_cfDNA_11Sep2020/mixcr/clones/CLONES_TRBCHP_405-02_cfDNA.txt\n",
      "\n"
     ]
    },
    {
     "name": "stdout",
     "output_type": "stream",
     "text": [
      "[1] 52\n"
     ]
    },
    {
     "name": "stderr",
     "output_type": "stream",
     "text": [
      "Number of CDR3s in: ~/Desktop/H4H/INTERCEPT/NextSeq/batch13_cfDNA_11Sep2020/mixcr/clones/CLONES_TRBCHP_405-02_cfDNA.txt nonproductive removed\n",
      "\n"
     ]
    },
    {
     "name": "stdout",
     "output_type": "stream",
     "text": [
      "[1] 37\n"
     ]
    },
    {
     "name": "stderr",
     "output_type": "stream",
     "text": [
      "Number of CDR3s in: ~/Desktop/H4H/INTERCEPT/NextSeq/batch13_cfDNA_11Sep2020/mixcr/clones/CLONES_TRBCHP_411-02_cfDNA.txt\n",
      "\n"
     ]
    },
    {
     "name": "stdout",
     "output_type": "stream",
     "text": [
      "[1] 76\n"
     ]
    },
    {
     "name": "stderr",
     "output_type": "stream",
     "text": [
      "Number of CDR3s in: ~/Desktop/H4H/INTERCEPT/NextSeq/batch13_cfDNA_11Sep2020/mixcr/clones/CLONES_TRBCHP_411-02_cfDNA.txt nonproductive removed\n",
      "\n"
     ]
    },
    {
     "name": "stdout",
     "output_type": "stream",
     "text": [
      "[1] 60\n"
     ]
    },
    {
     "name": "stderr",
     "output_type": "stream",
     "text": [
      "Number of CDR3s in: ~/Desktop/H4H/INTERCEPT/NextSeq/batch13_cfDNA_11Sep2020/mixcr/clones/CLONES_TRBCHP_416-02_cfDNA.txt\n",
      "\n"
     ]
    },
    {
     "name": "stdout",
     "output_type": "stream",
     "text": [
      "[1] 34\n"
     ]
    },
    {
     "name": "stderr",
     "output_type": "stream",
     "text": [
      "Number of CDR3s in: ~/Desktop/H4H/INTERCEPT/NextSeq/batch13_cfDNA_11Sep2020/mixcr/clones/CLONES_TRBCHP_416-02_cfDNA.txt nonproductive removed\n",
      "\n"
     ]
    },
    {
     "name": "stdout",
     "output_type": "stream",
     "text": [
      "[1] 20\n"
     ]
    },
    {
     "name": "stderr",
     "output_type": "stream",
     "text": [
      "Number of CDR3s in: ~/Desktop/H4H/INTERCEPT/NextSeq/batch2_Aug62019/mixcr/clones/CLONES_TRBCHP_319-05-PBMC-DNA.txt\n",
      "\n"
     ]
    },
    {
     "name": "stdout",
     "output_type": "stream",
     "text": [
      "[1] 17\n"
     ]
    },
    {
     "name": "stderr",
     "output_type": "stream",
     "text": [
      "Number of CDR3s in: ~/Desktop/H4H/INTERCEPT/NextSeq/batch2_Aug62019/mixcr/clones/CLONES_TRBCHP_319-05-PBMC-DNA.txt nonproductive removed\n",
      "\n"
     ]
    },
    {
     "name": "stdout",
     "output_type": "stream",
     "text": [
      "[1] 15\n"
     ]
    },
    {
     "name": "stderr",
     "output_type": "stream",
     "text": [
      "Number of CDR3s in: ~/Desktop/H4H/INTERCEPT/NextSeq/batch2_Aug62019/mixcr/clones/CLONES_TRBCHP_329-04-PBMC-DNA.txt\n",
      "\n"
     ]
    },
    {
     "name": "stdout",
     "output_type": "stream",
     "text": [
      "[1] 14\n"
     ]
    },
    {
     "name": "stderr",
     "output_type": "stream",
     "text": [
      "Number of CDR3s in: ~/Desktop/H4H/INTERCEPT/NextSeq/batch2_Aug62019/mixcr/clones/CLONES_TRBCHP_329-04-PBMC-DNA.txt nonproductive removed\n",
      "\n"
     ]
    },
    {
     "name": "stdout",
     "output_type": "stream",
     "text": [
      "[1] 10\n"
     ]
    },
    {
     "name": "stderr",
     "output_type": "stream",
     "text": [
      "Number of CDR3s in: ~/Desktop/H4H/INTERCEPT/NextSeq/batch2_Aug62019/mixcr/clones/CLONES_TRBCHP_330-05-PBMC-DNA.txt\n",
      "\n"
     ]
    },
    {
     "name": "stdout",
     "output_type": "stream",
     "text": [
      "[1] 156\n"
     ]
    },
    {
     "name": "stderr",
     "output_type": "stream",
     "text": [
      "Number of CDR3s in: ~/Desktop/H4H/INTERCEPT/NextSeq/batch2_Aug62019/mixcr/clones/CLONES_TRBCHP_330-05-PBMC-DNA.txt nonproductive removed\n",
      "\n"
     ]
    },
    {
     "name": "stdout",
     "output_type": "stream",
     "text": [
      "[1] 132\n"
     ]
    },
    {
     "name": "stderr",
     "output_type": "stream",
     "text": [
      "Number of CDR3s in: ~/Desktop/H4H/INTERCEPT/NextSeq/batch2_Aug62019/mixcr/clones/CLONES_TRBCHP_331-04-PBMC-DNA.txt\n",
      "\n"
     ]
    },
    {
     "name": "stdout",
     "output_type": "stream",
     "text": [
      "[1] 47\n"
     ]
    },
    {
     "name": "stderr",
     "output_type": "stream",
     "text": [
      "Number of CDR3s in: ~/Desktop/H4H/INTERCEPT/NextSeq/batch2_Aug62019/mixcr/clones/CLONES_TRBCHP_331-04-PBMC-DNA.txt nonproductive removed\n",
      "\n"
     ]
    },
    {
     "name": "stdout",
     "output_type": "stream",
     "text": [
      "[1] 36\n"
     ]
    },
    {
     "name": "stderr",
     "output_type": "stream",
     "text": [
      "Number of CDR3s in: ~/Desktop/H4H/INTERCEPT/NextSeq/batch2_Aug62019/mixcr/clones/CLONES_TRBCHP_331-05-PBMC-DNA.txt\n",
      "\n"
     ]
    },
    {
     "name": "stdout",
     "output_type": "stream",
     "text": [
      "[1] 200\n"
     ]
    },
    {
     "name": "stderr",
     "output_type": "stream",
     "text": [
      "Number of CDR3s in: ~/Desktop/H4H/INTERCEPT/NextSeq/batch2_Aug62019/mixcr/clones/CLONES_TRBCHP_331-05-PBMC-DNA.txt nonproductive removed\n",
      "\n"
     ]
    },
    {
     "name": "stdout",
     "output_type": "stream",
     "text": [
      "[1] 157\n"
     ]
    },
    {
     "name": "stderr",
     "output_type": "stream",
     "text": [
      "Number of CDR3s in: ~/Desktop/H4H/INTERCEPT/NextSeq/batch2_Aug62019/mixcr/clones/CLONES_TRBCHP_338-04-PBMC-DNA.txt\n",
      "\n"
     ]
    },
    {
     "name": "stdout",
     "output_type": "stream",
     "text": [
      "[1] 198\n"
     ]
    },
    {
     "name": "stderr",
     "output_type": "stream",
     "text": [
      "Number of CDR3s in: ~/Desktop/H4H/INTERCEPT/NextSeq/batch2_Aug62019/mixcr/clones/CLONES_TRBCHP_338-04-PBMC-DNA.txt nonproductive removed\n",
      "\n"
     ]
    },
    {
     "name": "stdout",
     "output_type": "stream",
     "text": [
      "[1] 160\n"
     ]
    },
    {
     "name": "stderr",
     "output_type": "stream",
     "text": [
      "Number of CDR3s in: ~/Desktop/H4H/INTERCEPT/NextSeq/batch2_Aug62019/mixcr/clones/CLONES_TRBCHP_338-05-PBMC-DNA.txt\n",
      "\n"
     ]
    },
    {
     "name": "stdout",
     "output_type": "stream",
     "text": [
      "[1] 491\n"
     ]
    },
    {
     "name": "stderr",
     "output_type": "stream",
     "text": [
      "Number of CDR3s in: ~/Desktop/H4H/INTERCEPT/NextSeq/batch2_Aug62019/mixcr/clones/CLONES_TRBCHP_338-05-PBMC-DNA.txt nonproductive removed\n",
      "\n"
     ]
    },
    {
     "name": "stdout",
     "output_type": "stream",
     "text": [
      "[1] 390\n"
     ]
    },
    {
     "name": "stderr",
     "output_type": "stream",
     "text": [
      "Number of CDR3s in: ~/Desktop/H4H/INTERCEPT/NextSeq/batch2_Aug62019/mixcr/clones/CLONES_TRBCHP_342-04-PBMC-DNA.txt\n",
      "\n"
     ]
    },
    {
     "name": "stdout",
     "output_type": "stream",
     "text": [
      "[1] 48\n"
     ]
    },
    {
     "name": "stderr",
     "output_type": "stream",
     "text": [
      "Number of CDR3s in: ~/Desktop/H4H/INTERCEPT/NextSeq/batch2_Aug62019/mixcr/clones/CLONES_TRBCHP_342-04-PBMC-DNA.txt nonproductive removed\n",
      "\n"
     ]
    },
    {
     "name": "stdout",
     "output_type": "stream",
     "text": [
      "[1] 40\n"
     ]
    },
    {
     "name": "stderr",
     "output_type": "stream",
     "text": [
      "Number of CDR3s in: ~/Desktop/H4H/INTERCEPT/NextSeq/batch2_Aug62019/mixcr/clones/CLONES_TRBCHP_343-02-PBMC-DNA.txt\n",
      "\n"
     ]
    },
    {
     "name": "stdout",
     "output_type": "stream",
     "text": [
      "[1] 35\n"
     ]
    },
    {
     "name": "stderr",
     "output_type": "stream",
     "text": [
      "Number of CDR3s in: ~/Desktop/H4H/INTERCEPT/NextSeq/batch2_Aug62019/mixcr/clones/CLONES_TRBCHP_343-02-PBMC-DNA.txt nonproductive removed\n",
      "\n"
     ]
    },
    {
     "name": "stdout",
     "output_type": "stream",
     "text": [
      "[1] 25\n"
     ]
    },
    {
     "name": "stderr",
     "output_type": "stream",
     "text": [
      "Number of CDR3s in: ~/Desktop/H4H/INTERCEPT/NextSeq/batch2_Aug62019/mixcr/clones/CLONES_TRBCHP_343-03-PBMC-DNA.txt\n",
      "\n"
     ]
    },
    {
     "name": "stdout",
     "output_type": "stream",
     "text": [
      "[1] 54\n"
     ]
    },
    {
     "name": "stderr",
     "output_type": "stream",
     "text": [
      "Number of CDR3s in: ~/Desktop/H4H/INTERCEPT/NextSeq/batch2_Aug62019/mixcr/clones/CLONES_TRBCHP_343-03-PBMC-DNA.txt nonproductive removed\n",
      "\n"
     ]
    },
    {
     "name": "stdout",
     "output_type": "stream",
     "text": [
      "[1] 39\n"
     ]
    },
    {
     "name": "stderr",
     "output_type": "stream",
     "text": [
      "Number of CDR3s in: ~/Desktop/H4H/INTERCEPT/NextSeq/batch2_Aug62019/mixcr/clones/CLONES_TRBCHP_343-04-PBMC-DNA.txt\n",
      "\n"
     ]
    },
    {
     "name": "stdout",
     "output_type": "stream",
     "text": [
      "[1] 44\n"
     ]
    },
    {
     "name": "stderr",
     "output_type": "stream",
     "text": [
      "Number of CDR3s in: ~/Desktop/H4H/INTERCEPT/NextSeq/batch2_Aug62019/mixcr/clones/CLONES_TRBCHP_343-04-PBMC-DNA.txt nonproductive removed\n",
      "\n"
     ]
    },
    {
     "name": "stdout",
     "output_type": "stream",
     "text": [
      "[1] 40\n"
     ]
    },
    {
     "name": "stderr",
     "output_type": "stream",
     "text": [
      "Number of CDR3s in: ~/Desktop/H4H/INTERCEPT/NextSeq/batch2_Aug62019/mixcr/clones/CLONES_TRBCHP_343-05-PBMC-DNA.txt\n",
      "\n"
     ]
    },
    {
     "name": "stdout",
     "output_type": "stream",
     "text": [
      "[1] 65\n"
     ]
    },
    {
     "name": "stderr",
     "output_type": "stream",
     "text": [
      "Number of CDR3s in: ~/Desktop/H4H/INTERCEPT/NextSeq/batch2_Aug62019/mixcr/clones/CLONES_TRBCHP_343-05-PBMC-DNA.txt nonproductive removed\n",
      "\n"
     ]
    },
    {
     "name": "stdout",
     "output_type": "stream",
     "text": [
      "[1] 39\n"
     ]
    },
    {
     "name": "stderr",
     "output_type": "stream",
     "text": [
      "Number of CDR3s in: ~/Desktop/H4H/INTERCEPT/NextSeq/batch2_Aug62019/mixcr/clones/CLONES_TRBCHP_348-01-PBMC-DNA.txt\n",
      "\n"
     ]
    },
    {
     "name": "stdout",
     "output_type": "stream",
     "text": [
      "[1] 108\n"
     ]
    },
    {
     "name": "stderr",
     "output_type": "stream",
     "text": [
      "Number of CDR3s in: ~/Desktop/H4H/INTERCEPT/NextSeq/batch2_Aug62019/mixcr/clones/CLONES_TRBCHP_348-01-PBMC-DNA.txt nonproductive removed\n",
      "\n"
     ]
    },
    {
     "name": "stdout",
     "output_type": "stream",
     "text": [
      "[1] 90\n"
     ]
    },
    {
     "name": "stderr",
     "output_type": "stream",
     "text": [
      "Number of CDR3s in: ~/Desktop/H4H/INTERCEPT/NextSeq/batch2_Aug62019/mixcr/clones/CLONES_TRBCHP_348-02-PBMC-DNA.txt\n",
      "\n"
     ]
    },
    {
     "name": "stdout",
     "output_type": "stream",
     "text": [
      "[1] 59\n"
     ]
    },
    {
     "name": "stderr",
     "output_type": "stream",
     "text": [
      "Number of CDR3s in: ~/Desktop/H4H/INTERCEPT/NextSeq/batch2_Aug62019/mixcr/clones/CLONES_TRBCHP_348-02-PBMC-DNA.txt nonproductive removed\n",
      "\n"
     ]
    },
    {
     "name": "stdout",
     "output_type": "stream",
     "text": [
      "[1] 45\n"
     ]
    },
    {
     "name": "stderr",
     "output_type": "stream",
     "text": [
      "Number of CDR3s in: ~/Desktop/H4H/INTERCEPT/NextSeq/batch2_Aug62019/mixcr/clones/CLONES_TRBLFS_TCR-4535-PBMC-DNA.txt\n",
      "\n"
     ]
    },
    {
     "name": "stdout",
     "output_type": "stream",
     "text": [
      "[1] 196\n"
     ]
    },
    {
     "name": "stderr",
     "output_type": "stream",
     "text": [
      "Number of CDR3s in: ~/Desktop/H4H/INTERCEPT/NextSeq/batch2_Aug62019/mixcr/clones/CLONES_TRBLFS_TCR-4535-PBMC-DNA.txt nonproductive removed\n",
      "\n"
     ]
    },
    {
     "name": "stdout",
     "output_type": "stream",
     "text": [
      "[1] 146\n"
     ]
    },
    {
     "name": "stderr",
     "output_type": "stream",
     "text": [
      "Number of CDR3s in: ~/Desktop/H4H/INTERCEPT/NextSeq/batch2_Aug62019/mixcr/clones/CLONES_TRBLFS_TCR-4570-PBMC-DNA.txt\n",
      "\n"
     ]
    },
    {
     "name": "stdout",
     "output_type": "stream",
     "text": [
      "[1] 226\n"
     ]
    },
    {
     "name": "stderr",
     "output_type": "stream",
     "text": [
      "Number of CDR3s in: ~/Desktop/H4H/INTERCEPT/NextSeq/batch2_Aug62019/mixcr/clones/CLONES_TRBLFS_TCR-4570-PBMC-DNA.txt nonproductive removed\n",
      "\n"
     ]
    },
    {
     "name": "stdout",
     "output_type": "stream",
     "text": [
      "[1] 176\n"
     ]
    },
    {
     "name": "stderr",
     "output_type": "stream",
     "text": [
      "Number of CDR3s in: ~/Desktop/H4H/INTERCEPT/NextSeq/batch2_Aug62019/mixcr/clones/CLONES_TRBLFS_TCR-4602-PBMC-DNA.txt\n",
      "\n"
     ]
    },
    {
     "name": "stdout",
     "output_type": "stream",
     "text": [
      "[1] 220\n"
     ]
    },
    {
     "name": "stderr",
     "output_type": "stream",
     "text": [
      "Number of CDR3s in: ~/Desktop/H4H/INTERCEPT/NextSeq/batch2_Aug62019/mixcr/clones/CLONES_TRBLFS_TCR-4602-PBMC-DNA.txt nonproductive removed\n",
      "\n"
     ]
    },
    {
     "name": "stdout",
     "output_type": "stream",
     "text": [
      "[1] 166\n"
     ]
    },
    {
     "name": "stderr",
     "output_type": "stream",
     "text": [
      "Number of CDR3s in: ~/Desktop/H4H/INTERCEPT/NextSeq/batch2_Aug62019/mixcr/clones/CLONES_TRBLFS_TCR-4758-PBMC-DNA.txt\n",
      "\n"
     ]
    },
    {
     "name": "stdout",
     "output_type": "stream",
     "text": [
      "[1] 291\n"
     ]
    },
    {
     "name": "stderr",
     "output_type": "stream",
     "text": [
      "Number of CDR3s in: ~/Desktop/H4H/INTERCEPT/NextSeq/batch2_Aug62019/mixcr/clones/CLONES_TRBLFS_TCR-4758-PBMC-DNA.txt nonproductive removed\n",
      "\n"
     ]
    },
    {
     "name": "stdout",
     "output_type": "stream",
     "text": [
      "[1] 240\n"
     ]
    },
    {
     "name": "stderr",
     "output_type": "stream",
     "text": [
      "Number of CDR3s in: ~/Desktop/H4H/INTERCEPT/NextSeq/batch2_Aug62019/mixcr/clones/CLONES_TRBLFS_TCR-4759-PBMC-DNA.txt\n",
      "\n"
     ]
    },
    {
     "name": "stdout",
     "output_type": "stream",
     "text": [
      "[1] 215\n"
     ]
    },
    {
     "name": "stderr",
     "output_type": "stream",
     "text": [
      "Number of CDR3s in: ~/Desktop/H4H/INTERCEPT/NextSeq/batch2_Aug62019/mixcr/clones/CLONES_TRBLFS_TCR-4759-PBMC-DNA.txt nonproductive removed\n",
      "\n"
     ]
    },
    {
     "name": "stdout",
     "output_type": "stream",
     "text": [
      "[1] 169\n"
     ]
    },
    {
     "name": "stderr",
     "output_type": "stream",
     "text": [
      "Number of CDR3s in: ~/Desktop/H4H/INTERCEPT/NextSeq/batch2_Aug62019/mixcr/clones/CLONES_TRBLFS_TCR-4783-PBMC-DNA.txt\n",
      "\n"
     ]
    },
    {
     "name": "stdout",
     "output_type": "stream",
     "text": [
      "[1] 76\n"
     ]
    },
    {
     "name": "stderr",
     "output_type": "stream",
     "text": [
      "Number of CDR3s in: ~/Desktop/H4H/INTERCEPT/NextSeq/batch2_Aug62019/mixcr/clones/CLONES_TRBLFS_TCR-4783-PBMC-DNA.txt nonproductive removed\n",
      "\n"
     ]
    },
    {
     "name": "stdout",
     "output_type": "stream",
     "text": [
      "[1] 54\n"
     ]
    },
    {
     "name": "stderr",
     "output_type": "stream",
     "text": [
      "Number of CDR3s in: ~/Desktop/H4H/INTERCEPT/NextSeq/batch2_Aug62019/mixcr/clones/CLONES_TRBLFS_TCR-4837-PBMC-DNA.txt\n",
      "\n"
     ]
    },
    {
     "name": "stdout",
     "output_type": "stream",
     "text": [
      "[1] 244\n"
     ]
    },
    {
     "name": "stderr",
     "output_type": "stream",
     "text": [
      "Number of CDR3s in: ~/Desktop/H4H/INTERCEPT/NextSeq/batch2_Aug62019/mixcr/clones/CLONES_TRBLFS_TCR-4837-PBMC-DNA.txt nonproductive removed\n",
      "\n"
     ]
    },
    {
     "name": "stdout",
     "output_type": "stream",
     "text": [
      "[1] 205\n"
     ]
    },
    {
     "name": "stderr",
     "output_type": "stream",
     "text": [
      "Number of CDR3s in: ~/Desktop/H4H/INTERCEPT/NextSeq/batch2_Aug62019/mixcr/clones/CLONES_TRBLFS_TCR-4838-PBMC-DNA.txt\n",
      "\n"
     ]
    },
    {
     "name": "stdout",
     "output_type": "stream",
     "text": [
      "[1] 174\n"
     ]
    },
    {
     "name": "stderr",
     "output_type": "stream",
     "text": [
      "Number of CDR3s in: ~/Desktop/H4H/INTERCEPT/NextSeq/batch2_Aug62019/mixcr/clones/CLONES_TRBLFS_TCR-4838-PBMC-DNA.txt nonproductive removed\n",
      "\n"
     ]
    },
    {
     "name": "stdout",
     "output_type": "stream",
     "text": [
      "[1] 144\n"
     ]
    },
    {
     "name": "stderr",
     "output_type": "stream",
     "text": [
      "Number of CDR3s in: ~/Desktop/H4H/INTERCEPT/NextSeq/batch2_Aug62019/mixcr/clones/CLONES_TRBLFS_TCR-5014-PBMC-DNA.txt\n",
      "\n"
     ]
    },
    {
     "name": "stdout",
     "output_type": "stream",
     "text": [
      "[1] 191\n"
     ]
    },
    {
     "name": "stderr",
     "output_type": "stream",
     "text": [
      "Number of CDR3s in: ~/Desktop/H4H/INTERCEPT/NextSeq/batch2_Aug62019/mixcr/clones/CLONES_TRBLFS_TCR-5014-PBMC-DNA.txt nonproductive removed\n",
      "\n"
     ]
    },
    {
     "name": "stdout",
     "output_type": "stream",
     "text": [
      "[1] 143\n"
     ]
    },
    {
     "name": "stderr",
     "output_type": "stream",
     "text": [
      "Number of CDR3s in: ~/Desktop/H4H/INTERCEPT/NextSeq/batch2_Aug62019/mixcr/clones/CLONES_TRBLFS_TCR-5067-PBMC-DNA.txt\n",
      "\n"
     ]
    },
    {
     "name": "stdout",
     "output_type": "stream",
     "text": [
      "[1] 254\n"
     ]
    },
    {
     "name": "stderr",
     "output_type": "stream",
     "text": [
      "Number of CDR3s in: ~/Desktop/H4H/INTERCEPT/NextSeq/batch2_Aug62019/mixcr/clones/CLONES_TRBLFS_TCR-5067-PBMC-DNA.txt nonproductive removed\n",
      "\n"
     ]
    },
    {
     "name": "stdout",
     "output_type": "stream",
     "text": [
      "[1] 206\n"
     ]
    },
    {
     "name": "stderr",
     "output_type": "stream",
     "text": [
      "Number of CDR3s in: ~/Desktop/H4H/INTERCEPT/NextSeq/batch3_19Aug2019/mixcr/clones/CLONES_TRBCHP_339-05-PBMC-DNA.txt\n",
      "\n"
     ]
    },
    {
     "name": "stdout",
     "output_type": "stream",
     "text": [
      "[1] 408\n"
     ]
    },
    {
     "name": "stderr",
     "output_type": "stream",
     "text": [
      "Number of CDR3s in: ~/Desktop/H4H/INTERCEPT/NextSeq/batch3_19Aug2019/mixcr/clones/CLONES_TRBCHP_339-05-PBMC-DNA.txt nonproductive removed\n",
      "\n"
     ]
    },
    {
     "name": "stdout",
     "output_type": "stream",
     "text": [
      "[1] 268\n"
     ]
    },
    {
     "name": "stderr",
     "output_type": "stream",
     "text": [
      "Number of CDR3s in: ~/Desktop/H4H/INTERCEPT/NextSeq/batch3_19Aug2019/mixcr/clones/CLONES_TRBCHP_340-05-PBMC-DNA.txt\n",
      "\n"
     ]
    },
    {
     "name": "stdout",
     "output_type": "stream",
     "text": [
      "[1] 641\n"
     ]
    },
    {
     "name": "stderr",
     "output_type": "stream",
     "text": [
      "Number of CDR3s in: ~/Desktop/H4H/INTERCEPT/NextSeq/batch3_19Aug2019/mixcr/clones/CLONES_TRBCHP_340-05-PBMC-DNA.txt nonproductive removed\n",
      "\n"
     ]
    },
    {
     "name": "stdout",
     "output_type": "stream",
     "text": [
      "[1] 451\n"
     ]
    },
    {
     "name": "stderr",
     "output_type": "stream",
     "text": [
      "Number of CDR3s in: ~/Desktop/H4H/INTERCEPT/NextSeq/batch3_19Aug2019/mixcr/clones/CLONES_TRBCHP_345-04-PBMC-DNA.txt\n",
      "\n"
     ]
    },
    {
     "name": "stdout",
     "output_type": "stream",
     "text": [
      "[1] 336\n"
     ]
    },
    {
     "name": "stderr",
     "output_type": "stream",
     "text": [
      "Number of CDR3s in: ~/Desktop/H4H/INTERCEPT/NextSeq/batch3_19Aug2019/mixcr/clones/CLONES_TRBCHP_345-04-PBMC-DNA.txt nonproductive removed\n",
      "\n"
     ]
    },
    {
     "name": "stdout",
     "output_type": "stream",
     "text": [
      "[1] 228\n"
     ]
    },
    {
     "name": "stderr",
     "output_type": "stream",
     "text": [
      "Number of CDR3s in: ~/Desktop/H4H/INTERCEPT/NextSeq/batch3_19Aug2019/mixcr/clones/CLONES_TRBCHP_345-05-PBMC-DNA.txt\n",
      "\n"
     ]
    },
    {
     "name": "stdout",
     "output_type": "stream",
     "text": [
      "[1] 213\n"
     ]
    },
    {
     "name": "stderr",
     "output_type": "stream",
     "text": [
      "Number of CDR3s in: ~/Desktop/H4H/INTERCEPT/NextSeq/batch3_19Aug2019/mixcr/clones/CLONES_TRBCHP_345-05-PBMC-DNA.txt nonproductive removed\n",
      "\n"
     ]
    },
    {
     "name": "stdout",
     "output_type": "stream",
     "text": [
      "[1] 158\n"
     ]
    },
    {
     "name": "stderr",
     "output_type": "stream",
     "text": [
      "Number of CDR3s in: ~/Desktop/H4H/INTERCEPT/NextSeq/batch3_19Aug2019/mixcr/clones/CLONES_TRBCHP_350-05-PBMC-DNA.txt\n",
      "\n"
     ]
    },
    {
     "name": "stdout",
     "output_type": "stream",
     "text": [
      "[1] 78\n"
     ]
    },
    {
     "name": "stderr",
     "output_type": "stream",
     "text": [
      "Number of CDR3s in: ~/Desktop/H4H/INTERCEPT/NextSeq/batch3_19Aug2019/mixcr/clones/CLONES_TRBCHP_350-05-PBMC-DNA.txt nonproductive removed\n",
      "\n"
     ]
    },
    {
     "name": "stdout",
     "output_type": "stream",
     "text": [
      "[1] 55\n"
     ]
    },
    {
     "name": "stderr",
     "output_type": "stream",
     "text": [
      "Number of CDR3s in: ~/Desktop/H4H/INTERCEPT/NextSeq/batch3_19Aug2019/mixcr/clones/CLONES_TRBCHP_358-03-PBMC-DNA.txt\n",
      "\n"
     ]
    },
    {
     "name": "stdout",
     "output_type": "stream",
     "text": [
      "[1] 880\n"
     ]
    },
    {
     "name": "stderr",
     "output_type": "stream",
     "text": [
      "Number of CDR3s in: ~/Desktop/H4H/INTERCEPT/NextSeq/batch3_19Aug2019/mixcr/clones/CLONES_TRBCHP_358-03-PBMC-DNA.txt nonproductive removed\n",
      "\n"
     ]
    },
    {
     "name": "stdout",
     "output_type": "stream",
     "text": [
      "[1] 681\n"
     ]
    },
    {
     "name": "stderr",
     "output_type": "stream",
     "text": [
      "Number of CDR3s in: ~/Desktop/H4H/INTERCEPT/NextSeq/batch3_19Aug2019/mixcr/clones/CLONES_TRBCHP_358-05-PBMC-DNA.txt\n",
      "\n"
     ]
    },
    {
     "name": "stdout",
     "output_type": "stream",
     "text": [
      "[1] 896\n"
     ]
    },
    {
     "name": "stderr",
     "output_type": "stream",
     "text": [
      "Number of CDR3s in: ~/Desktop/H4H/INTERCEPT/NextSeq/batch3_19Aug2019/mixcr/clones/CLONES_TRBCHP_358-05-PBMC-DNA.txt nonproductive removed\n",
      "\n"
     ]
    },
    {
     "name": "stdout",
     "output_type": "stream",
     "text": [
      "[1] 669\n"
     ]
    },
    {
     "name": "stderr",
     "output_type": "stream",
     "text": [
      "Number of CDR3s in: ~/Desktop/H4H/INTERCEPT/NextSeq/batch3_19Aug2019/mixcr/clones/CLONES_TRBCHP_360-03-PBMC-DNA.txt\n",
      "\n"
     ]
    },
    {
     "name": "stdout",
     "output_type": "stream",
     "text": [
      "[1] 372\n"
     ]
    },
    {
     "name": "stderr",
     "output_type": "stream",
     "text": [
      "Number of CDR3s in: ~/Desktop/H4H/INTERCEPT/NextSeq/batch3_19Aug2019/mixcr/clones/CLONES_TRBCHP_360-03-PBMC-DNA.txt nonproductive removed\n",
      "\n"
     ]
    },
    {
     "name": "stdout",
     "output_type": "stream",
     "text": [
      "[1] 263\n"
     ]
    },
    {
     "name": "stderr",
     "output_type": "stream",
     "text": [
      "Number of CDR3s in: ~/Desktop/H4H/INTERCEPT/NextSeq/batch3_19Aug2019/mixcr/clones/CLONES_TRBCHP_361-02-PBMC-DNA.txt\n",
      "\n"
     ]
    },
    {
     "name": "stdout",
     "output_type": "stream",
     "text": [
      "[1] 159\n"
     ]
    },
    {
     "name": "stderr",
     "output_type": "stream",
     "text": [
      "Number of CDR3s in: ~/Desktop/H4H/INTERCEPT/NextSeq/batch3_19Aug2019/mixcr/clones/CLONES_TRBCHP_361-02-PBMC-DNA.txt nonproductive removed\n",
      "\n"
     ]
    },
    {
     "name": "stdout",
     "output_type": "stream",
     "text": [
      "[1] 118\n"
     ]
    },
    {
     "name": "stderr",
     "output_type": "stream",
     "text": [
      "Number of CDR3s in: ~/Desktop/H4H/INTERCEPT/NextSeq/batch3_19Aug2019/mixcr/clones/CLONES_TRBCHP_361-03-PBMC-DNA.txt\n",
      "\n"
     ]
    },
    {
     "name": "stdout",
     "output_type": "stream",
     "text": [
      "[1] 67\n"
     ]
    },
    {
     "name": "stderr",
     "output_type": "stream",
     "text": [
      "Number of CDR3s in: ~/Desktop/H4H/INTERCEPT/NextSeq/batch3_19Aug2019/mixcr/clones/CLONES_TRBCHP_361-03-PBMC-DNA.txt nonproductive removed\n",
      "\n"
     ]
    },
    {
     "name": "stdout",
     "output_type": "stream",
     "text": [
      "[1] 49\n"
     ]
    },
    {
     "name": "stderr",
     "output_type": "stream",
     "text": [
      "Number of CDR3s in: ~/Desktop/H4H/INTERCEPT/NextSeq/batch3_19Aug2019/mixcr/clones/CLONES_TRBCHP_365-03-PBMC-DNA.txt\n",
      "\n"
     ]
    },
    {
     "name": "stdout",
     "output_type": "stream",
     "text": [
      "[1] 166\n"
     ]
    },
    {
     "name": "stderr",
     "output_type": "stream",
     "text": [
      "Number of CDR3s in: ~/Desktop/H4H/INTERCEPT/NextSeq/batch3_19Aug2019/mixcr/clones/CLONES_TRBCHP_365-03-PBMC-DNA.txt nonproductive removed\n",
      "\n"
     ]
    },
    {
     "name": "stdout",
     "output_type": "stream",
     "text": [
      "[1] 123\n"
     ]
    },
    {
     "name": "stderr",
     "output_type": "stream",
     "text": [
      "Number of CDR3s in: ~/Desktop/H4H/INTERCEPT/NextSeq/batch3_19Aug2019/mixcr/clones/CLONES_TRBCHP_368-05-PBMC-DNA.txt\n",
      "\n"
     ]
    },
    {
     "name": "stdout",
     "output_type": "stream",
     "text": [
      "[1] 688\n"
     ]
    },
    {
     "name": "stderr",
     "output_type": "stream",
     "text": [
      "Number of CDR3s in: ~/Desktop/H4H/INTERCEPT/NextSeq/batch3_19Aug2019/mixcr/clones/CLONES_TRBCHP_368-05-PBMC-DNA.txt nonproductive removed\n",
      "\n"
     ]
    },
    {
     "name": "stdout",
     "output_type": "stream",
     "text": [
      "[1] 472\n"
     ]
    },
    {
     "name": "stderr",
     "output_type": "stream",
     "text": [
      "Number of CDR3s in: ~/Desktop/H4H/INTERCEPT/NextSeq/batch3_19Aug2019/mixcr/clones/CLONES_TRBCHP_370-02-PBMC-DNA.txt\n",
      "\n"
     ]
    },
    {
     "name": "stdout",
     "output_type": "stream",
     "text": [
      "[1] 697\n"
     ]
    },
    {
     "name": "stderr",
     "output_type": "stream",
     "text": [
      "Number of CDR3s in: ~/Desktop/H4H/INTERCEPT/NextSeq/batch3_19Aug2019/mixcr/clones/CLONES_TRBCHP_370-02-PBMC-DNA.txt nonproductive removed\n",
      "\n"
     ]
    },
    {
     "name": "stdout",
     "output_type": "stream",
     "text": [
      "[1] 554\n"
     ]
    },
    {
     "name": "stderr",
     "output_type": "stream",
     "text": [
      "Number of CDR3s in: ~/Desktop/H4H/INTERCEPT/NextSeq/batch3_19Aug2019/mixcr/clones/CLONES_TRBCHP_373-01-PBMC-DNA.txt\n",
      "\n"
     ]
    },
    {
     "name": "stdout",
     "output_type": "stream",
     "text": [
      "[1] 395\n"
     ]
    },
    {
     "name": "stderr",
     "output_type": "stream",
     "text": [
      "Number of CDR3s in: ~/Desktop/H4H/INTERCEPT/NextSeq/batch3_19Aug2019/mixcr/clones/CLONES_TRBCHP_373-01-PBMC-DNA.txt nonproductive removed\n",
      "\n"
     ]
    },
    {
     "name": "stdout",
     "output_type": "stream",
     "text": [
      "[1] 287\n"
     ]
    },
    {
     "name": "stderr",
     "output_type": "stream",
     "text": [
      "Number of CDR3s in: ~/Desktop/H4H/INTERCEPT/NextSeq/batch3_19Aug2019/mixcr/clones/CLONES_TRBCHP_374-03-PBMC-DNA.txt\n",
      "\n"
     ]
    },
    {
     "name": "stdout",
     "output_type": "stream",
     "text": [
      "[1] 133\n"
     ]
    },
    {
     "name": "stderr",
     "output_type": "stream",
     "text": [
      "Number of CDR3s in: ~/Desktop/H4H/INTERCEPT/NextSeq/batch3_19Aug2019/mixcr/clones/CLONES_TRBCHP_374-03-PBMC-DNA.txt nonproductive removed\n",
      "\n"
     ]
    },
    {
     "name": "stdout",
     "output_type": "stream",
     "text": [
      "[1] 94\n"
     ]
    },
    {
     "name": "stderr",
     "output_type": "stream",
     "text": [
      "Number of CDR3s in: ~/Desktop/H4H/INTERCEPT/NextSeq/batch3_19Aug2019/mixcr/clones/CLONES_TRBCHP_374-04-PBMC-DNA.txt\n",
      "\n"
     ]
    },
    {
     "name": "stdout",
     "output_type": "stream",
     "text": [
      "[1] 144\n"
     ]
    },
    {
     "name": "stderr",
     "output_type": "stream",
     "text": [
      "Number of CDR3s in: ~/Desktop/H4H/INTERCEPT/NextSeq/batch3_19Aug2019/mixcr/clones/CLONES_TRBCHP_374-04-PBMC-DNA.txt nonproductive removed\n",
      "\n"
     ]
    },
    {
     "name": "stdout",
     "output_type": "stream",
     "text": [
      "[1] 98\n"
     ]
    },
    {
     "name": "stderr",
     "output_type": "stream",
     "text": [
      "Number of CDR3s in: ~/Desktop/H4H/INTERCEPT/NextSeq/batch3_19Aug2019/mixcr/clones/CLONES_TRBCHP_374-05-PBMC-DNA.txt\n",
      "\n"
     ]
    },
    {
     "name": "stdout",
     "output_type": "stream",
     "text": [
      "[1] 46\n"
     ]
    },
    {
     "name": "stderr",
     "output_type": "stream",
     "text": [
      "Number of CDR3s in: ~/Desktop/H4H/INTERCEPT/NextSeq/batch3_19Aug2019/mixcr/clones/CLONES_TRBCHP_374-05-PBMC-DNA.txt nonproductive removed\n",
      "\n"
     ]
    },
    {
     "name": "stdout",
     "output_type": "stream",
     "text": [
      "[1] 35\n"
     ]
    },
    {
     "name": "stderr",
     "output_type": "stream",
     "text": [
      "Number of CDR3s in: ~/Desktop/H4H/INTERCEPT/NextSeq/batch3_19Aug2019/mixcr/clones/CLONES_TRBCHP_376-03-PBMC-DNA.txt\n",
      "\n"
     ]
    },
    {
     "name": "stdout",
     "output_type": "stream",
     "text": [
      "[1] 644\n"
     ]
    },
    {
     "name": "stderr",
     "output_type": "stream",
     "text": [
      "Number of CDR3s in: ~/Desktop/H4H/INTERCEPT/NextSeq/batch3_19Aug2019/mixcr/clones/CLONES_TRBCHP_376-03-PBMC-DNA.txt nonproductive removed\n",
      "\n"
     ]
    },
    {
     "name": "stdout",
     "output_type": "stream",
     "text": [
      "[1] 484\n"
     ]
    },
    {
     "name": "stderr",
     "output_type": "stream",
     "text": [
      "Number of CDR3s in: ~/Desktop/H4H/INTERCEPT/NextSeq/batch3_19Aug2019/mixcr/clones/CLONES_TRBCHP_378-01-PBMC-DNA.txt\n",
      "\n"
     ]
    },
    {
     "name": "stdout",
     "output_type": "stream",
     "text": [
      "[1] 807\n"
     ]
    },
    {
     "name": "stderr",
     "output_type": "stream",
     "text": [
      "Number of CDR3s in: ~/Desktop/H4H/INTERCEPT/NextSeq/batch3_19Aug2019/mixcr/clones/CLONES_TRBCHP_378-01-PBMC-DNA.txt nonproductive removed\n",
      "\n"
     ]
    },
    {
     "name": "stdout",
     "output_type": "stream",
     "text": [
      "[1] 606\n"
     ]
    },
    {
     "name": "stderr",
     "output_type": "stream",
     "text": [
      "Number of CDR3s in: ~/Desktop/H4H/INTERCEPT/NextSeq/batch3_19Aug2019/mixcr/clones/CLONES_TRBCHP_380-02-PBMC-DNA.txt\n",
      "\n"
     ]
    },
    {
     "name": "stdout",
     "output_type": "stream",
     "text": [
      "[1] 108\n"
     ]
    },
    {
     "name": "stderr",
     "output_type": "stream",
     "text": [
      "Number of CDR3s in: ~/Desktop/H4H/INTERCEPT/NextSeq/batch3_19Aug2019/mixcr/clones/CLONES_TRBCHP_380-02-PBMC-DNA.txt nonproductive removed\n",
      "\n"
     ]
    },
    {
     "name": "stdout",
     "output_type": "stream",
     "text": [
      "[1] 82\n"
     ]
    },
    {
     "name": "stderr",
     "output_type": "stream",
     "text": [
      "Number of CDR3s in: ~/Desktop/H4H/INTERCEPT/NextSeq/batch3_19Aug2019/mixcr/clones/CLONES_TRBCHP_381-02-PBMC-DNA.txt\n",
      "\n"
     ]
    },
    {
     "name": "stdout",
     "output_type": "stream",
     "text": [
      "[1] 1056\n"
     ]
    },
    {
     "name": "stderr",
     "output_type": "stream",
     "text": [
      "Number of CDR3s in: ~/Desktop/H4H/INTERCEPT/NextSeq/batch3_19Aug2019/mixcr/clones/CLONES_TRBCHP_381-02-PBMC-DNA.txt nonproductive removed\n",
      "\n"
     ]
    },
    {
     "name": "stdout",
     "output_type": "stream",
     "text": [
      "[1] 762\n"
     ]
    },
    {
     "name": "stderr",
     "output_type": "stream",
     "text": [
      "Number of CDR3s in: ~/Desktop/H4H/INTERCEPT/NextSeq/batch3a9_cfDNA_10Jul2020/mixcr/clones/CLONES_TRBCHP_323-03_cfDNA.txt\n",
      "\n"
     ]
    },
    {
     "name": "stdout",
     "output_type": "stream",
     "text": [
      "[1] 136\n"
     ]
    },
    {
     "name": "stderr",
     "output_type": "stream",
     "text": [
      "Number of CDR3s in: ~/Desktop/H4H/INTERCEPT/NextSeq/batch3a9_cfDNA_10Jul2020/mixcr/clones/CLONES_TRBCHP_323-03_cfDNA.txt nonproductive removed\n",
      "\n"
     ]
    },
    {
     "name": "stdout",
     "output_type": "stream",
     "text": [
      "[1] 103\n"
     ]
    },
    {
     "name": "stderr",
     "output_type": "stream",
     "text": [
      "Number of CDR3s in: ~/Desktop/H4H/INTERCEPT/NextSeq/batch3a9_cfDNA_10Jul2020/mixcr/clones/CLONES_TRBCHP_330-04_cfDNA.txt\n",
      "\n"
     ]
    },
    {
     "name": "stdout",
     "output_type": "stream",
     "text": [
      "[1] 4\n"
     ]
    },
    {
     "name": "stderr",
     "output_type": "stream",
     "text": [
      "Number of CDR3s in: ~/Desktop/H4H/INTERCEPT/NextSeq/batch3a9_cfDNA_10Jul2020/mixcr/clones/CLONES_TRBCHP_330-04_cfDNA.txt nonproductive removed\n",
      "\n"
     ]
    },
    {
     "name": "stdout",
     "output_type": "stream",
     "text": [
      "[1] 4\n"
     ]
    },
    {
     "name": "stderr",
     "output_type": "stream",
     "text": [
      "Number of CDR3s in: ~/Desktop/H4H/INTERCEPT/NextSeq/batch3a9_cfDNA_10Jul2020/mixcr/clones/CLONES_TRBCHP_337-03_cfDNA.txt\n",
      "\n"
     ]
    },
    {
     "name": "stdout",
     "output_type": "stream",
     "text": [
      "[1] 13\n"
     ]
    },
    {
     "name": "stderr",
     "output_type": "stream",
     "text": [
      "Number of CDR3s in: ~/Desktop/H4H/INTERCEPT/NextSeq/batch3a9_cfDNA_10Jul2020/mixcr/clones/CLONES_TRBCHP_337-03_cfDNA.txt nonproductive removed\n",
      "\n"
     ]
    },
    {
     "name": "stdout",
     "output_type": "stream",
     "text": [
      "[1] 7\n"
     ]
    },
    {
     "name": "stderr",
     "output_type": "stream",
     "text": [
      "Number of CDR3s in: ~/Desktop/H4H/INTERCEPT/NextSeq/batch3a9_cfDNA_10Jul2020/mixcr/clones/CLONES_TRBCHP_337-04_cfDNA.txt\n",
      "\n"
     ]
    },
    {
     "name": "stdout",
     "output_type": "stream",
     "text": [
      "[1] 18\n"
     ]
    },
    {
     "name": "stderr",
     "output_type": "stream",
     "text": [
      "Number of CDR3s in: ~/Desktop/H4H/INTERCEPT/NextSeq/batch3a9_cfDNA_10Jul2020/mixcr/clones/CLONES_TRBCHP_337-04_cfDNA.txt nonproductive removed\n",
      "\n"
     ]
    },
    {
     "name": "stdout",
     "output_type": "stream",
     "text": [
      "[1] 11\n"
     ]
    },
    {
     "name": "stderr",
     "output_type": "stream",
     "text": [
      "Number of CDR3s in: ~/Desktop/H4H/INTERCEPT/NextSeq/batch3a9_cfDNA_10Jul2020/mixcr/clones/CLONES_TRBCHP_344-02_cfDNA.txt\n",
      "\n"
     ]
    },
    {
     "name": "stdout",
     "output_type": "stream",
     "text": [
      "[1] 12\n"
     ]
    },
    {
     "name": "stderr",
     "output_type": "stream",
     "text": [
      "Number of CDR3s in: ~/Desktop/H4H/INTERCEPT/NextSeq/batch3a9_cfDNA_10Jul2020/mixcr/clones/CLONES_TRBCHP_344-02_cfDNA.txt nonproductive removed\n",
      "\n"
     ]
    },
    {
     "name": "stdout",
     "output_type": "stream",
     "text": [
      "[1] 9\n"
     ]
    },
    {
     "name": "stderr",
     "output_type": "stream",
     "text": [
      "Number of CDR3s in: ~/Desktop/H4H/INTERCEPT/NextSeq/batch3a9_cfDNA_10Jul2020/mixcr/clones/CLONES_TRBCHP_344-04_cfDNA.txt\n",
      "\n"
     ]
    },
    {
     "name": "stdout",
     "output_type": "stream",
     "text": [
      "[1] 7\n"
     ]
    },
    {
     "name": "stderr",
     "output_type": "stream",
     "text": [
      "Number of CDR3s in: ~/Desktop/H4H/INTERCEPT/NextSeq/batch3a9_cfDNA_10Jul2020/mixcr/clones/CLONES_TRBCHP_344-04_cfDNA.txt nonproductive removed\n",
      "\n"
     ]
    },
    {
     "name": "stdout",
     "output_type": "stream",
     "text": [
      "[1] 6\n"
     ]
    },
    {
     "name": "stderr",
     "output_type": "stream",
     "text": [
      "Number of CDR3s in: ~/Desktop/H4H/INTERCEPT/NextSeq/batch3a9_cfDNA_10Jul2020/mixcr/clones/CLONES_TRBCHP_344-05_cfDNA.txt\n",
      "\n"
     ]
    },
    {
     "name": "stdout",
     "output_type": "stream",
     "text": [
      "[1] 4\n"
     ]
    },
    {
     "name": "stderr",
     "output_type": "stream",
     "text": [
      "Number of CDR3s in: ~/Desktop/H4H/INTERCEPT/NextSeq/batch3a9_cfDNA_10Jul2020/mixcr/clones/CLONES_TRBCHP_344-05_cfDNA.txt nonproductive removed\n",
      "\n"
     ]
    },
    {
     "name": "stdout",
     "output_type": "stream",
     "text": [
      "[1] 2\n"
     ]
    },
    {
     "name": "stderr",
     "output_type": "stream",
     "text": [
      "Number of CDR3s in: ~/Desktop/H4H/INTERCEPT/NextSeq/batch3a9_cfDNA_10Jul2020/mixcr/clones/CLONES_TRBCHP_345-01_cfDNA.txt\n",
      "\n"
     ]
    },
    {
     "name": "stdout",
     "output_type": "stream",
     "text": [
      "[1] 51\n"
     ]
    },
    {
     "name": "stderr",
     "output_type": "stream",
     "text": [
      "Number of CDR3s in: ~/Desktop/H4H/INTERCEPT/NextSeq/batch3a9_cfDNA_10Jul2020/mixcr/clones/CLONES_TRBCHP_345-01_cfDNA.txt nonproductive removed\n",
      "\n"
     ]
    },
    {
     "name": "stdout",
     "output_type": "stream",
     "text": [
      "[1] 33\n"
     ]
    },
    {
     "name": "stderr",
     "output_type": "stream",
     "text": [
      "Number of CDR3s in: ~/Desktop/H4H/INTERCEPT/NextSeq/batch3a9_cfDNA_10Jul2020/mixcr/clones/CLONES_TRBCHP_353-02_cfDNA.txt\n",
      "\n"
     ]
    },
    {
     "name": "stdout",
     "output_type": "stream",
     "text": [
      "[1] 30\n"
     ]
    },
    {
     "name": "stderr",
     "output_type": "stream",
     "text": [
      "Number of CDR3s in: ~/Desktop/H4H/INTERCEPT/NextSeq/batch3a9_cfDNA_10Jul2020/mixcr/clones/CLONES_TRBCHP_353-02_cfDNA.txt nonproductive removed\n",
      "\n"
     ]
    },
    {
     "name": "stdout",
     "output_type": "stream",
     "text": [
      "[1] 25\n"
     ]
    },
    {
     "name": "stderr",
     "output_type": "stream",
     "text": [
      "Number of CDR3s in: ~/Desktop/H4H/INTERCEPT/NextSeq/batch3a9_cfDNA_10Jul2020/mixcr/clones/CLONES_TRBCHP_353-04_cfDNA.txt\n",
      "\n"
     ]
    },
    {
     "name": "stdout",
     "output_type": "stream",
     "text": [
      "[1] 58\n"
     ]
    },
    {
     "name": "stderr",
     "output_type": "stream",
     "text": [
      "Number of CDR3s in: ~/Desktop/H4H/INTERCEPT/NextSeq/batch3a9_cfDNA_10Jul2020/mixcr/clones/CLONES_TRBCHP_353-04_cfDNA.txt nonproductive removed\n",
      "\n"
     ]
    },
    {
     "name": "stdout",
     "output_type": "stream",
     "text": [
      "[1] 44\n"
     ]
    },
    {
     "name": "stderr",
     "output_type": "stream",
     "text": [
      "Number of CDR3s in: ~/Desktop/H4H/INTERCEPT/NextSeq/batch3a9_cfDNA_10Jul2020/mixcr/clones/CLONES_TRBCHP_357-01_cfDNA.txt\n",
      "\n"
     ]
    },
    {
     "name": "stdout",
     "output_type": "stream",
     "text": [
      "[1] 32\n"
     ]
    },
    {
     "name": "stderr",
     "output_type": "stream",
     "text": [
      "Number of CDR3s in: ~/Desktop/H4H/INTERCEPT/NextSeq/batch3a9_cfDNA_10Jul2020/mixcr/clones/CLONES_TRBCHP_357-01_cfDNA.txt nonproductive removed\n",
      "\n"
     ]
    },
    {
     "name": "stdout",
     "output_type": "stream",
     "text": [
      "[1] 22\n"
     ]
    },
    {
     "name": "stderr",
     "output_type": "stream",
     "text": [
      "Number of CDR3s in: ~/Desktop/H4H/INTERCEPT/NextSeq/batch3a9_cfDNA_10Jul2020/mixcr/clones/CLONES_TRBCHP_357-04_cfDNA.txt\n",
      "\n"
     ]
    },
    {
     "name": "stdout",
     "output_type": "stream",
     "text": [
      "[1] 22\n"
     ]
    },
    {
     "name": "stderr",
     "output_type": "stream",
     "text": [
      "Number of CDR3s in: ~/Desktop/H4H/INTERCEPT/NextSeq/batch3a9_cfDNA_10Jul2020/mixcr/clones/CLONES_TRBCHP_357-04_cfDNA.txt nonproductive removed\n",
      "\n"
     ]
    },
    {
     "name": "stdout",
     "output_type": "stream",
     "text": [
      "[1] 16\n"
     ]
    },
    {
     "name": "stderr",
     "output_type": "stream",
     "text": [
      "Number of CDR3s in: ~/Desktop/H4H/INTERCEPT/NextSeq/batch3a9_cfDNA_10Jul2020/mixcr/clones/CLONES_TRBCHP_358-01_cfDNA.txt\n",
      "\n"
     ]
    },
    {
     "name": "stdout",
     "output_type": "stream",
     "text": [
      "[1] 84\n"
     ]
    },
    {
     "name": "stderr",
     "output_type": "stream",
     "text": [
      "Number of CDR3s in: ~/Desktop/H4H/INTERCEPT/NextSeq/batch3a9_cfDNA_10Jul2020/mixcr/clones/CLONES_TRBCHP_358-01_cfDNA.txt nonproductive removed\n",
      "\n"
     ]
    },
    {
     "name": "stdout",
     "output_type": "stream",
     "text": [
      "[1] 60\n"
     ]
    },
    {
     "name": "stderr",
     "output_type": "stream",
     "text": [
      "Number of CDR3s in: ~/Desktop/H4H/INTERCEPT/NextSeq/batch3a9_cfDNA_10Jul2020/mixcr/clones/CLONES_TRBCHP_358-03_cfDNA.txt\n",
      "\n"
     ]
    },
    {
     "name": "stdout",
     "output_type": "stream",
     "text": [
      "[1] 49\n"
     ]
    },
    {
     "name": "stderr",
     "output_type": "stream",
     "text": [
      "Number of CDR3s in: ~/Desktop/H4H/INTERCEPT/NextSeq/batch3a9_cfDNA_10Jul2020/mixcr/clones/CLONES_TRBCHP_358-03_cfDNA.txt nonproductive removed\n",
      "\n"
     ]
    },
    {
     "name": "stdout",
     "output_type": "stream",
     "text": [
      "[1] 43\n"
     ]
    },
    {
     "name": "stderr",
     "output_type": "stream",
     "text": [
      "Number of CDR3s in: ~/Desktop/H4H/INTERCEPT/NextSeq/batch3a9_cfDNA_10Jul2020/mixcr/clones/CLONES_TRBCHP_359-02_cfDNA.txt\n",
      "\n"
     ]
    },
    {
     "name": "stdout",
     "output_type": "stream",
     "text": [
      "[1] 60\n"
     ]
    },
    {
     "name": "stderr",
     "output_type": "stream",
     "text": [
      "Number of CDR3s in: ~/Desktop/H4H/INTERCEPT/NextSeq/batch3a9_cfDNA_10Jul2020/mixcr/clones/CLONES_TRBCHP_359-02_cfDNA.txt nonproductive removed\n",
      "\n"
     ]
    },
    {
     "name": "stdout",
     "output_type": "stream",
     "text": [
      "[1] 50\n"
     ]
    },
    {
     "name": "stderr",
     "output_type": "stream",
     "text": [
      "Number of CDR3s in: ~/Desktop/H4H/INTERCEPT/NextSeq/batch3a9_cfDNA_10Jul2020/mixcr/clones/CLONES_TRBCHP_362-03_cfDNA.txt\n",
      "\n"
     ]
    },
    {
     "name": "stdout",
     "output_type": "stream",
     "text": [
      "[1] 8\n"
     ]
    },
    {
     "name": "stderr",
     "output_type": "stream",
     "text": [
      "Number of CDR3s in: ~/Desktop/H4H/INTERCEPT/NextSeq/batch3a9_cfDNA_10Jul2020/mixcr/clones/CLONES_TRBCHP_362-03_cfDNA.txt nonproductive removed\n",
      "\n"
     ]
    },
    {
     "name": "stdout",
     "output_type": "stream",
     "text": [
      "[1] 5\n"
     ]
    },
    {
     "name": "stderr",
     "output_type": "stream",
     "text": [
      "Number of CDR3s in: ~/Desktop/H4H/INTERCEPT/NextSeq/batch3a9_cfDNA_10Jul2020/mixcr/clones/CLONES_TRBCHP_366-01_cfDNA.txt\n",
      "\n"
     ]
    },
    {
     "name": "stdout",
     "output_type": "stream",
     "text": [
      "[1] 24\n"
     ]
    },
    {
     "name": "stderr",
     "output_type": "stream",
     "text": [
      "Number of CDR3s in: ~/Desktop/H4H/INTERCEPT/NextSeq/batch3a9_cfDNA_10Jul2020/mixcr/clones/CLONES_TRBCHP_366-01_cfDNA.txt nonproductive removed\n",
      "\n"
     ]
    },
    {
     "name": "stdout",
     "output_type": "stream",
     "text": [
      "[1] 13\n"
     ]
    },
    {
     "name": "stderr",
     "output_type": "stream",
     "text": [
      "Number of CDR3s in: ~/Desktop/H4H/INTERCEPT/NextSeq/batch3a9_cfDNA_10Jul2020/mixcr/clones/CLONES_TRBCHP_368-02_cfDNA.txt\n",
      "\n"
     ]
    },
    {
     "name": "stdout",
     "output_type": "stream",
     "text": [
      "[1] 8\n"
     ]
    },
    {
     "name": "stderr",
     "output_type": "stream",
     "text": [
      "Number of CDR3s in: ~/Desktop/H4H/INTERCEPT/NextSeq/batch3a9_cfDNA_10Jul2020/mixcr/clones/CLONES_TRBCHP_368-02_cfDNA.txt nonproductive removed\n",
      "\n"
     ]
    },
    {
     "name": "stdout",
     "output_type": "stream",
     "text": [
      "[1] 8\n"
     ]
    },
    {
     "name": "stderr",
     "output_type": "stream",
     "text": [
      "Number of CDR3s in: ~/Desktop/H4H/INTERCEPT/NextSeq/batch3a9_cfDNA_10Jul2020/mixcr/clones/CLONES_TRBCHP_370-03_cfDNA.txt\n",
      "\n"
     ]
    },
    {
     "name": "stdout",
     "output_type": "stream",
     "text": [
      "[1] 15\n"
     ]
    },
    {
     "name": "stderr",
     "output_type": "stream",
     "text": [
      "Number of CDR3s in: ~/Desktop/H4H/INTERCEPT/NextSeq/batch3a9_cfDNA_10Jul2020/mixcr/clones/CLONES_TRBCHP_370-03_cfDNA.txt nonproductive removed\n",
      "\n"
     ]
    },
    {
     "name": "stdout",
     "output_type": "stream",
     "text": [
      "[1] 11\n"
     ]
    },
    {
     "name": "stderr",
     "output_type": "stream",
     "text": [
      "Number of CDR3s in: ~/Desktop/H4H/INTERCEPT/NextSeq/batch3a9_cfDNA_10Jul2020/mixcr/clones/CLONES_TRBCHP_371-04_cfDNA.txt\n",
      "\n"
     ]
    },
    {
     "name": "stdout",
     "output_type": "stream",
     "text": [
      "[1] 4\n"
     ]
    },
    {
     "name": "stderr",
     "output_type": "stream",
     "text": [
      "Number of CDR3s in: ~/Desktop/H4H/INTERCEPT/NextSeq/batch3a9_cfDNA_10Jul2020/mixcr/clones/CLONES_TRBCHP_371-04_cfDNA.txt nonproductive removed\n",
      "\n"
     ]
    },
    {
     "name": "stdout",
     "output_type": "stream",
     "text": [
      "[1] 3\n"
     ]
    },
    {
     "name": "stderr",
     "output_type": "stream",
     "text": [
      "Number of CDR3s in: ~/Desktop/H4H/INTERCEPT/NextSeq/batch3a9_cfDNA_10Jul2020/mixcr/clones/CLONES_TRBCHP_373-02_cfDNA.txt\n",
      "\n"
     ]
    },
    {
     "name": "stdout",
     "output_type": "stream",
     "text": [
      "[1] 12\n"
     ]
    },
    {
     "name": "stderr",
     "output_type": "stream",
     "text": [
      "Number of CDR3s in: ~/Desktop/H4H/INTERCEPT/NextSeq/batch3a9_cfDNA_10Jul2020/mixcr/clones/CLONES_TRBCHP_373-02_cfDNA.txt nonproductive removed\n",
      "\n"
     ]
    },
    {
     "name": "stdout",
     "output_type": "stream",
     "text": [
      "[1] 8\n"
     ]
    },
    {
     "name": "stderr",
     "output_type": "stream",
     "text": [
      "Number of CDR3s in: ~/Desktop/H4H/INTERCEPT/NextSeq/batch3a9_cfDNA_10Jul2020/mixcr/clones/CLONES_TRBCHP_381-01_cfDNA.txt\n",
      "\n"
     ]
    },
    {
     "name": "stdout",
     "output_type": "stream",
     "text": [
      "[1] 19\n"
     ]
    },
    {
     "name": "stderr",
     "output_type": "stream",
     "text": [
      "Number of CDR3s in: ~/Desktop/H4H/INTERCEPT/NextSeq/batch3a9_cfDNA_10Jul2020/mixcr/clones/CLONES_TRBCHP_381-01_cfDNA.txt nonproductive removed\n",
      "\n"
     ]
    },
    {
     "name": "stdout",
     "output_type": "stream",
     "text": [
      "[1] 15\n"
     ]
    },
    {
     "name": "stderr",
     "output_type": "stream",
     "text": [
      "Number of CDR3s in: ~/Desktop/H4H/INTERCEPT/NextSeq/batch4_19Aug2019/mixcr/clones/CLONES_TRBCHP_303-05-PBMC-DNA.txt\n",
      "\n"
     ]
    },
    {
     "name": "stdout",
     "output_type": "stream",
     "text": [
      "[1] 333\n"
     ]
    },
    {
     "name": "stderr",
     "output_type": "stream",
     "text": [
      "Number of CDR3s in: ~/Desktop/H4H/INTERCEPT/NextSeq/batch4_19Aug2019/mixcr/clones/CLONES_TRBCHP_303-05-PBMC-DNA.txt nonproductive removed\n",
      "\n"
     ]
    },
    {
     "name": "stdout",
     "output_type": "stream",
     "text": [
      "[1] 248\n"
     ]
    },
    {
     "name": "stderr",
     "output_type": "stream",
     "text": [
      "Number of CDR3s in: ~/Desktop/H4H/INTERCEPT/NextSeq/batch4_19Aug2019/mixcr/clones/CLONES_TRBCHP_323-03-PBMC-DNA.txt\n",
      "\n"
     ]
    },
    {
     "name": "stdout",
     "output_type": "stream",
     "text": [
      "[1] 59\n"
     ]
    },
    {
     "name": "stderr",
     "output_type": "stream",
     "text": [
      "Number of CDR3s in: ~/Desktop/H4H/INTERCEPT/NextSeq/batch4_19Aug2019/mixcr/clones/CLONES_TRBCHP_323-03-PBMC-DNA.txt nonproductive removed\n",
      "\n"
     ]
    },
    {
     "name": "stdout",
     "output_type": "stream",
     "text": [
      "[1] 45\n"
     ]
    },
    {
     "name": "stderr",
     "output_type": "stream",
     "text": [
      "Number of CDR3s in: ~/Desktop/H4H/INTERCEPT/NextSeq/batch4_19Aug2019/mixcr/clones/CLONES_TRBCHP_338-03-PBMC-DNA.txt\n",
      "\n"
     ]
    },
    {
     "name": "stdout",
     "output_type": "stream",
     "text": [
      "[1] 652\n"
     ]
    },
    {
     "name": "stderr",
     "output_type": "stream",
     "text": [
      "Number of CDR3s in: ~/Desktop/H4H/INTERCEPT/NextSeq/batch4_19Aug2019/mixcr/clones/CLONES_TRBCHP_338-03-PBMC-DNA.txt nonproductive removed\n",
      "\n"
     ]
    },
    {
     "name": "stdout",
     "output_type": "stream",
     "text": [
      "[1] 471\n"
     ]
    },
    {
     "name": "stderr",
     "output_type": "stream",
     "text": [
      "Number of CDR3s in: ~/Desktop/H4H/INTERCEPT/NextSeq/batch4_19Aug2019/mixcr/clones/CLONES_TRBCHP_339-03-PBMC-DNA.txt\n",
      "\n"
     ]
    },
    {
     "name": "stdout",
     "output_type": "stream",
     "text": [
      "[1] 33\n"
     ]
    },
    {
     "name": "stderr",
     "output_type": "stream",
     "text": [
      "Number of CDR3s in: ~/Desktop/H4H/INTERCEPT/NextSeq/batch4_19Aug2019/mixcr/clones/CLONES_TRBCHP_339-03-PBMC-DNA.txt nonproductive removed\n",
      "\n"
     ]
    },
    {
     "name": "stdout",
     "output_type": "stream",
     "text": [
      "[1] 20\n"
     ]
    },
    {
     "name": "stderr",
     "output_type": "stream",
     "text": [
      "Number of CDR3s in: ~/Desktop/H4H/INTERCEPT/NextSeq/batch4_19Aug2019/mixcr/clones/CLONES_TRBCHP_340-03-PBMC-DNA.txt\n",
      "\n"
     ]
    },
    {
     "name": "stdout",
     "output_type": "stream",
     "text": [
      "[1] 108\n"
     ]
    },
    {
     "name": "stderr",
     "output_type": "stream",
     "text": [
      "Number of CDR3s in: ~/Desktop/H4H/INTERCEPT/NextSeq/batch4_19Aug2019/mixcr/clones/CLONES_TRBCHP_340-03-PBMC-DNA.txt nonproductive removed\n",
      "\n"
     ]
    },
    {
     "name": "stdout",
     "output_type": "stream",
     "text": [
      "[1] 86\n"
     ]
    },
    {
     "name": "stderr",
     "output_type": "stream",
     "text": [
      "Number of CDR3s in: ~/Desktop/H4H/INTERCEPT/NextSeq/batch4_19Aug2019/mixcr/clones/CLONES_TRBCHP_344-05-PBMC-DNA.txt\n",
      "\n"
     ]
    },
    {
     "name": "stdout",
     "output_type": "stream",
     "text": [
      "[1] 153\n"
     ]
    },
    {
     "name": "stderr",
     "output_type": "stream",
     "text": [
      "Number of CDR3s in: ~/Desktop/H4H/INTERCEPT/NextSeq/batch4_19Aug2019/mixcr/clones/CLONES_TRBCHP_344-05-PBMC-DNA.txt nonproductive removed\n",
      "\n"
     ]
    },
    {
     "name": "stdout",
     "output_type": "stream",
     "text": [
      "[1] 125\n"
     ]
    },
    {
     "name": "stderr",
     "output_type": "stream",
     "text": [
      "Number of CDR3s in: ~/Desktop/H4H/INTERCEPT/NextSeq/batch4_19Aug2019/mixcr/clones/CLONES_TRBCHP_345-02-PBMC-DNA.txt\n",
      "\n"
     ]
    },
    {
     "name": "stdout",
     "output_type": "stream",
     "text": [
      "[1] 173\n"
     ]
    },
    {
     "name": "stderr",
     "output_type": "stream",
     "text": [
      "Number of CDR3s in: ~/Desktop/H4H/INTERCEPT/NextSeq/batch4_19Aug2019/mixcr/clones/CLONES_TRBCHP_345-02-PBMC-DNA.txt nonproductive removed\n",
      "\n"
     ]
    },
    {
     "name": "stdout",
     "output_type": "stream",
     "text": [
      "[1] 120\n"
     ]
    },
    {
     "name": "stderr",
     "output_type": "stream",
     "text": [
      "Number of CDR3s in: ~/Desktop/H4H/INTERCEPT/NextSeq/batch4_19Aug2019/mixcr/clones/CLONES_TRBCHP_347-01-PBMC-DNA.txt\n",
      "\n"
     ]
    },
    {
     "name": "stdout",
     "output_type": "stream",
     "text": [
      "[1] 203\n"
     ]
    },
    {
     "name": "stderr",
     "output_type": "stream",
     "text": [
      "Number of CDR3s in: ~/Desktop/H4H/INTERCEPT/NextSeq/batch4_19Aug2019/mixcr/clones/CLONES_TRBCHP_347-01-PBMC-DNA.txt nonproductive removed\n",
      "\n"
     ]
    },
    {
     "name": "stdout",
     "output_type": "stream",
     "text": [
      "[1] 156\n"
     ]
    },
    {
     "name": "stderr",
     "output_type": "stream",
     "text": [
      "Number of CDR3s in: ~/Desktop/H4H/INTERCEPT/NextSeq/batch4_19Aug2019/mixcr/clones/CLONES_TRBCHP_347-02-PBMC-DNA.txt\n",
      "\n"
     ]
    },
    {
     "name": "stdout",
     "output_type": "stream",
     "text": [
      "[1] 443\n"
     ]
    },
    {
     "name": "stderr",
     "output_type": "stream",
     "text": [
      "Number of CDR3s in: ~/Desktop/H4H/INTERCEPT/NextSeq/batch4_19Aug2019/mixcr/clones/CLONES_TRBCHP_347-02-PBMC-DNA.txt nonproductive removed\n",
      "\n"
     ]
    },
    {
     "name": "stdout",
     "output_type": "stream",
     "text": [
      "[1] 352\n"
     ]
    },
    {
     "name": "stderr",
     "output_type": "stream",
     "text": [
      "Number of CDR3s in: ~/Desktop/H4H/INTERCEPT/NextSeq/batch4_19Aug2019/mixcr/clones/CLONES_TRBCHP_355-01-PBMC-DNA.txt\n",
      "\n"
     ]
    },
    {
     "name": "stdout",
     "output_type": "stream",
     "text": [
      "[1] 19\n"
     ]
    },
    {
     "name": "stderr",
     "output_type": "stream",
     "text": [
      "Number of CDR3s in: ~/Desktop/H4H/INTERCEPT/NextSeq/batch4_19Aug2019/mixcr/clones/CLONES_TRBCHP_355-01-PBMC-DNA.txt nonproductive removed\n",
      "\n"
     ]
    },
    {
     "name": "stdout",
     "output_type": "stream",
     "text": [
      "[1] 14\n"
     ]
    },
    {
     "name": "stderr",
     "output_type": "stream",
     "text": [
      "Number of CDR3s in: ~/Desktop/H4H/INTERCEPT/NextSeq/batch4_19Aug2019/mixcr/clones/CLONES_TRBCHP_355-02-PBMC-DNA.txt\n",
      "\n"
     ]
    },
    {
     "name": "stdout",
     "output_type": "stream",
     "text": [
      "[1] 40\n"
     ]
    },
    {
     "name": "stderr",
     "output_type": "stream",
     "text": [
      "Number of CDR3s in: ~/Desktop/H4H/INTERCEPT/NextSeq/batch4_19Aug2019/mixcr/clones/CLONES_TRBCHP_355-02-PBMC-DNA.txt nonproductive removed\n",
      "\n"
     ]
    },
    {
     "name": "stdout",
     "output_type": "stream",
     "text": [
      "[1] 27\n"
     ]
    },
    {
     "name": "stderr",
     "output_type": "stream",
     "text": [
      "Number of CDR3s in: ~/Desktop/H4H/INTERCEPT/NextSeq/batch4_19Aug2019/mixcr/clones/CLONES_TRBCHP_357-01-PBMC-DNA.txt\n",
      "\n"
     ]
    },
    {
     "name": "stdout",
     "output_type": "stream",
     "text": [
      "[1] 437\n"
     ]
    },
    {
     "name": "stderr",
     "output_type": "stream",
     "text": [
      "Number of CDR3s in: ~/Desktop/H4H/INTERCEPT/NextSeq/batch4_19Aug2019/mixcr/clones/CLONES_TRBCHP_357-01-PBMC-DNA.txt nonproductive removed\n",
      "\n"
     ]
    },
    {
     "name": "stdout",
     "output_type": "stream",
     "text": [
      "[1] 299\n"
     ]
    },
    {
     "name": "stderr",
     "output_type": "stream",
     "text": [
      "Number of CDR3s in: ~/Desktop/H4H/INTERCEPT/NextSeq/batch4_19Aug2019/mixcr/clones/CLONES_TRBCHP_361-01-PBMC-DNA.txt\n",
      "\n"
     ]
    },
    {
     "name": "stdout",
     "output_type": "stream",
     "text": [
      "[1] 138\n"
     ]
    },
    {
     "name": "stderr",
     "output_type": "stream",
     "text": [
      "Number of CDR3s in: ~/Desktop/H4H/INTERCEPT/NextSeq/batch4_19Aug2019/mixcr/clones/CLONES_TRBCHP_361-01-PBMC-DNA.txt nonproductive removed\n",
      "\n"
     ]
    },
    {
     "name": "stdout",
     "output_type": "stream",
     "text": [
      "[1] 92\n"
     ]
    },
    {
     "name": "stderr",
     "output_type": "stream",
     "text": [
      "Number of CDR3s in: ~/Desktop/H4H/INTERCEPT/NextSeq/batch4_19Aug2019/mixcr/clones/CLONES_TRBCHP_363-02-PBMC-DNA.txt\n",
      "\n"
     ]
    },
    {
     "name": "stdout",
     "output_type": "stream",
     "text": [
      "[1] 368\n"
     ]
    },
    {
     "name": "stderr",
     "output_type": "stream",
     "text": [
      "Number of CDR3s in: ~/Desktop/H4H/INTERCEPT/NextSeq/batch4_19Aug2019/mixcr/clones/CLONES_TRBCHP_363-02-PBMC-DNA.txt nonproductive removed\n",
      "\n"
     ]
    },
    {
     "name": "stdout",
     "output_type": "stream",
     "text": [
      "[1] 277\n"
     ]
    },
    {
     "name": "stderr",
     "output_type": "stream",
     "text": [
      "Number of CDR3s in: ~/Desktop/H4H/INTERCEPT/NextSeq/batch4_19Aug2019/mixcr/clones/CLONES_TRBCHP_364-01-PBMC-DNA.txt\n",
      "\n"
     ]
    },
    {
     "name": "stdout",
     "output_type": "stream",
     "text": [
      "[1] 159\n"
     ]
    },
    {
     "name": "stderr",
     "output_type": "stream",
     "text": [
      "Number of CDR3s in: ~/Desktop/H4H/INTERCEPT/NextSeq/batch4_19Aug2019/mixcr/clones/CLONES_TRBCHP_364-01-PBMC-DNA.txt nonproductive removed\n",
      "\n"
     ]
    },
    {
     "name": "stdout",
     "output_type": "stream",
     "text": [
      "[1] 125\n"
     ]
    },
    {
     "name": "stderr",
     "output_type": "stream",
     "text": [
      "Number of CDR3s in: ~/Desktop/H4H/INTERCEPT/NextSeq/batch4_19Aug2019/mixcr/clones/CLONES_TRBCHP_364-02-PBMC-DNA.txt\n",
      "\n"
     ]
    },
    {
     "name": "stdout",
     "output_type": "stream",
     "text": [
      "[1] 98\n"
     ]
    },
    {
     "name": "stderr",
     "output_type": "stream",
     "text": [
      "Number of CDR3s in: ~/Desktop/H4H/INTERCEPT/NextSeq/batch4_19Aug2019/mixcr/clones/CLONES_TRBCHP_364-02-PBMC-DNA.txt nonproductive removed\n",
      "\n"
     ]
    },
    {
     "name": "stdout",
     "output_type": "stream",
     "text": [
      "[1] 75\n"
     ]
    },
    {
     "name": "stderr",
     "output_type": "stream",
     "text": [
      "Number of CDR3s in: ~/Desktop/H4H/INTERCEPT/NextSeq/batch4_19Aug2019/mixcr/clones/CLONES_TRBCHP_364-04-PBMC-DNA.txt\n",
      "\n"
     ]
    },
    {
     "name": "stdout",
     "output_type": "stream",
     "text": [
      "[1] 154\n"
     ]
    },
    {
     "name": "stderr",
     "output_type": "stream",
     "text": [
      "Number of CDR3s in: ~/Desktop/H4H/INTERCEPT/NextSeq/batch4_19Aug2019/mixcr/clones/CLONES_TRBCHP_364-04-PBMC-DNA.txt nonproductive removed\n",
      "\n"
     ]
    },
    {
     "name": "stdout",
     "output_type": "stream",
     "text": [
      "[1] 117\n"
     ]
    },
    {
     "name": "stderr",
     "output_type": "stream",
     "text": [
      "Number of CDR3s in: ~/Desktop/H4H/INTERCEPT/NextSeq/batch5_cfDNA_25Jun2020/mixcr/clones/CLONES_TRBCHP_324-04_cfDNA.txt\n",
      "\n"
     ]
    },
    {
     "name": "stdout",
     "output_type": "stream",
     "text": [
      "[1] 2\n"
     ]
    },
    {
     "name": "stderr",
     "output_type": "stream",
     "text": [
      "Number of CDR3s in: ~/Desktop/H4H/INTERCEPT/NextSeq/batch5_cfDNA_25Jun2020/mixcr/clones/CLONES_TRBCHP_324-04_cfDNA.txt nonproductive removed\n",
      "\n"
     ]
    },
    {
     "name": "stdout",
     "output_type": "stream",
     "text": [
      "[1] 1\n"
     ]
    },
    {
     "name": "stderr",
     "output_type": "stream",
     "text": [
      "Number of CDR3s in: ~/Desktop/H4H/INTERCEPT/NextSeq/batch5_cfDNA_25Jun2020/mixcr/clones/CLONES_TRBCHP_328-04_cfDNA.txt\n",
      "\n"
     ]
    },
    {
     "name": "stdout",
     "output_type": "stream",
     "text": [
      "[1] 0\n"
     ]
    },
    {
     "name": "stderr",
     "output_type": "stream",
     "text": [
      "Number of CDR3s in: ~/Desktop/H4H/INTERCEPT/NextSeq/batch5_cfDNA_25Jun2020/mixcr/clones/CLONES_TRBCHP_328-04_cfDNA.txt nonproductive removed\n",
      "\n"
     ]
    },
    {
     "name": "stdout",
     "output_type": "stream",
     "text": [
      "[1] 0\n"
     ]
    },
    {
     "name": "stderr",
     "output_type": "stream",
     "text": [
      "Number of CDR3s in: ~/Desktop/H4H/INTERCEPT/NextSeq/batch5_cfDNA_25Jun2020/mixcr/clones/CLONES_TRBCHP_333-05_cfDNA.txt\n",
      "\n"
     ]
    },
    {
     "name": "stdout",
     "output_type": "stream",
     "text": [
      "[1] 3\n"
     ]
    },
    {
     "name": "stderr",
     "output_type": "stream",
     "text": [
      "Number of CDR3s in: ~/Desktop/H4H/INTERCEPT/NextSeq/batch5_cfDNA_25Jun2020/mixcr/clones/CLONES_TRBCHP_333-05_cfDNA.txt nonproductive removed\n",
      "\n"
     ]
    },
    {
     "name": "stdout",
     "output_type": "stream",
     "text": [
      "[1] 3\n"
     ]
    },
    {
     "name": "stderr",
     "output_type": "stream",
     "text": [
      "Number of CDR3s in: ~/Desktop/H4H/INTERCEPT/NextSeq/batch5_cfDNA_25Jun2020/mixcr/clones/CLONES_TRBCHP_334-02_cfDNA.txt\n",
      "\n"
     ]
    },
    {
     "name": "stdout",
     "output_type": "stream",
     "text": [
      "[1] 5\n"
     ]
    },
    {
     "name": "stderr",
     "output_type": "stream",
     "text": [
      "Number of CDR3s in: ~/Desktop/H4H/INTERCEPT/NextSeq/batch5_cfDNA_25Jun2020/mixcr/clones/CLONES_TRBCHP_334-02_cfDNA.txt nonproductive removed\n",
      "\n"
     ]
    },
    {
     "name": "stdout",
     "output_type": "stream",
     "text": [
      "[1] 3\n"
     ]
    },
    {
     "name": "stderr",
     "output_type": "stream",
     "text": [
      "Number of CDR3s in: ~/Desktop/H4H/INTERCEPT/NextSeq/batch5_cfDNA_25Jun2020/mixcr/clones/CLONES_TRBCHP_335-04_cfDNA.txt\n",
      "\n"
     ]
    },
    {
     "name": "stdout",
     "output_type": "stream",
     "text": [
      "[1] 69\n"
     ]
    },
    {
     "name": "stderr",
     "output_type": "stream",
     "text": [
      "Number of CDR3s in: ~/Desktop/H4H/INTERCEPT/NextSeq/batch5_cfDNA_25Jun2020/mixcr/clones/CLONES_TRBCHP_335-04_cfDNA.txt nonproductive removed\n",
      "\n"
     ]
    },
    {
     "name": "stdout",
     "output_type": "stream",
     "text": [
      "[1] 54\n"
     ]
    },
    {
     "name": "stderr",
     "output_type": "stream",
     "text": [
      "Number of CDR3s in: ~/Desktop/H4H/INTERCEPT/NextSeq/batch5_cfDNA_25Jun2020/mixcr/clones/CLONES_TRBCHP_335-05_cfDNA.txt\n",
      "\n"
     ]
    },
    {
     "name": "stdout",
     "output_type": "stream",
     "text": [
      "[1] 45\n"
     ]
    },
    {
     "name": "stderr",
     "output_type": "stream",
     "text": [
      "Number of CDR3s in: ~/Desktop/H4H/INTERCEPT/NextSeq/batch5_cfDNA_25Jun2020/mixcr/clones/CLONES_TRBCHP_335-05_cfDNA.txt nonproductive removed\n",
      "\n"
     ]
    },
    {
     "name": "stdout",
     "output_type": "stream",
     "text": [
      "[1] 31\n"
     ]
    },
    {
     "name": "stderr",
     "output_type": "stream",
     "text": [
      "Number of CDR3s in: ~/Desktop/H4H/INTERCEPT/NextSeq/batch5_cfDNA_25Jun2020/mixcr/clones/CLONES_TRBCHP_339-04_cfDNA.txt\n",
      "\n"
     ]
    },
    {
     "name": "stdout",
     "output_type": "stream",
     "text": [
      "[1] 138\n"
     ]
    },
    {
     "name": "stderr",
     "output_type": "stream",
     "text": [
      "Number of CDR3s in: ~/Desktop/H4H/INTERCEPT/NextSeq/batch5_cfDNA_25Jun2020/mixcr/clones/CLONES_TRBCHP_339-04_cfDNA.txt nonproductive removed\n",
      "\n"
     ]
    },
    {
     "name": "stdout",
     "output_type": "stream",
     "text": [
      "[1] 91\n"
     ]
    },
    {
     "name": "stderr",
     "output_type": "stream",
     "text": [
      "Number of CDR3s in: ~/Desktop/H4H/INTERCEPT/NextSeq/batch5_cfDNA_25Jun2020/mixcr/clones/CLONES_TRBCHP_340-03_cfDNA.txt\n",
      "\n"
     ]
    },
    {
     "name": "stdout",
     "output_type": "stream",
     "text": [
      "[1] 8\n"
     ]
    },
    {
     "name": "stderr",
     "output_type": "stream",
     "text": [
      "Number of CDR3s in: ~/Desktop/H4H/INTERCEPT/NextSeq/batch5_cfDNA_25Jun2020/mixcr/clones/CLONES_TRBCHP_340-03_cfDNA.txt nonproductive removed\n",
      "\n"
     ]
    },
    {
     "name": "stdout",
     "output_type": "stream",
     "text": [
      "[1] 5\n"
     ]
    },
    {
     "name": "stderr",
     "output_type": "stream",
     "text": [
      "Number of CDR3s in: ~/Desktop/H4H/INTERCEPT/NextSeq/batch5_cfDNA_25Jun2020/mixcr/clones/CLONES_TRBCHP_344-01_cfDNA.txt\n",
      "\n"
     ]
    },
    {
     "name": "stdout",
     "output_type": "stream",
     "text": [
      "[1] 7\n"
     ]
    },
    {
     "name": "stderr",
     "output_type": "stream",
     "text": [
      "Number of CDR3s in: ~/Desktop/H4H/INTERCEPT/NextSeq/batch5_cfDNA_25Jun2020/mixcr/clones/CLONES_TRBCHP_344-01_cfDNA.txt nonproductive removed\n",
      "\n"
     ]
    },
    {
     "name": "stdout",
     "output_type": "stream",
     "text": [
      "[1] 7\n"
     ]
    },
    {
     "name": "stderr",
     "output_type": "stream",
     "text": [
      "Number of CDR3s in: ~/Desktop/H4H/INTERCEPT/NextSeq/batch5_cfDNA_25Jun2020/mixcr/clones/CLONES_TRBCHP_345-02_cfDNA.txt\n",
      "\n"
     ]
    },
    {
     "name": "stdout",
     "output_type": "stream",
     "text": [
      "[1] 33\n"
     ]
    },
    {
     "name": "stderr",
     "output_type": "stream",
     "text": [
      "Number of CDR3s in: ~/Desktop/H4H/INTERCEPT/NextSeq/batch5_cfDNA_25Jun2020/mixcr/clones/CLONES_TRBCHP_345-02_cfDNA.txt nonproductive removed\n",
      "\n"
     ]
    },
    {
     "name": "stdout",
     "output_type": "stream",
     "text": [
      "[1] 23\n"
     ]
    },
    {
     "name": "stderr",
     "output_type": "stream",
     "text": [
      "Number of CDR3s in: ~/Desktop/H4H/INTERCEPT/NextSeq/batch5_cfDNA_25Jun2020/mixcr/clones/CLONES_TRBCHP_347-02_cfDNA.txt\n",
      "\n"
     ]
    },
    {
     "name": "stdout",
     "output_type": "stream",
     "text": [
      "[1] 10\n"
     ]
    },
    {
     "name": "stderr",
     "output_type": "stream",
     "text": [
      "Number of CDR3s in: ~/Desktop/H4H/INTERCEPT/NextSeq/batch5_cfDNA_25Jun2020/mixcr/clones/CLONES_TRBCHP_347-02_cfDNA.txt nonproductive removed\n",
      "\n"
     ]
    },
    {
     "name": "stdout",
     "output_type": "stream",
     "text": [
      "[1] 7\n"
     ]
    },
    {
     "name": "stderr",
     "output_type": "stream",
     "text": [
      "Number of CDR3s in: ~/Desktop/H4H/INTERCEPT/NextSeq/batch5_cfDNA_25Jun2020/mixcr/clones/CLONES_TRBCHP_351-03_cfDNA.txt\n",
      "\n"
     ]
    },
    {
     "name": "stdout",
     "output_type": "stream",
     "text": [
      "[1] 3\n"
     ]
    },
    {
     "name": "stderr",
     "output_type": "stream",
     "text": [
      "Number of CDR3s in: ~/Desktop/H4H/INTERCEPT/NextSeq/batch5_cfDNA_25Jun2020/mixcr/clones/CLONES_TRBCHP_351-03_cfDNA.txt nonproductive removed\n",
      "\n"
     ]
    },
    {
     "name": "stdout",
     "output_type": "stream",
     "text": [
      "[1] 3\n"
     ]
    },
    {
     "name": "stderr",
     "output_type": "stream",
     "text": [
      "Number of CDR3s in: ~/Desktop/H4H/INTERCEPT/NextSeq/batch5_cfDNA_25Jun2020/mixcr/clones/CLONES_TRBCHP_355-02_cfDNA.txt\n",
      "\n"
     ]
    },
    {
     "name": "stdout",
     "output_type": "stream",
     "text": [
      "[1] 9\n"
     ]
    },
    {
     "name": "stderr",
     "output_type": "stream",
     "text": [
      "Number of CDR3s in: ~/Desktop/H4H/INTERCEPT/NextSeq/batch5_cfDNA_25Jun2020/mixcr/clones/CLONES_TRBCHP_355-02_cfDNA.txt nonproductive removed\n",
      "\n"
     ]
    },
    {
     "name": "stdout",
     "output_type": "stream",
     "text": [
      "[1] 2\n"
     ]
    },
    {
     "name": "stderr",
     "output_type": "stream",
     "text": [
      "Number of CDR3s in: ~/Desktop/H4H/INTERCEPT/NextSeq/batch5_cfDNA_25Jun2020/mixcr/clones/CLONES_TRBCHP_357-05_cfDNA.txt\n",
      "\n"
     ]
    },
    {
     "name": "stdout",
     "output_type": "stream",
     "text": [
      "[1] 12\n"
     ]
    },
    {
     "name": "stderr",
     "output_type": "stream",
     "text": [
      "Number of CDR3s in: ~/Desktop/H4H/INTERCEPT/NextSeq/batch5_cfDNA_25Jun2020/mixcr/clones/CLONES_TRBCHP_357-05_cfDNA.txt nonproductive removed\n",
      "\n"
     ]
    },
    {
     "name": "stdout",
     "output_type": "stream",
     "text": [
      "[1] 9\n"
     ]
    },
    {
     "name": "stderr",
     "output_type": "stream",
     "text": [
      "Number of CDR3s in: ~/Desktop/H4H/INTERCEPT/NextSeq/batch5_cfDNA_25Jun2020/mixcr/clones/CLONES_TRBCHP_360-01_cfDNA.txt\n",
      "\n"
     ]
    },
    {
     "name": "stdout",
     "output_type": "stream",
     "text": [
      "[1] 61\n"
     ]
    },
    {
     "name": "stderr",
     "output_type": "stream",
     "text": [
      "Number of CDR3s in: ~/Desktop/H4H/INTERCEPT/NextSeq/batch5_cfDNA_25Jun2020/mixcr/clones/CLONES_TRBCHP_360-01_cfDNA.txt nonproductive removed\n",
      "\n"
     ]
    },
    {
     "name": "stdout",
     "output_type": "stream",
     "text": [
      "[1] 42\n"
     ]
    },
    {
     "name": "stderr",
     "output_type": "stream",
     "text": [
      "Number of CDR3s in: ~/Desktop/H4H/INTERCEPT/NextSeq/batch5_cfDNA_25Jun2020/mixcr/clones/CLONES_TRBCHP_361-01_cfDNA.txt\n",
      "\n"
     ]
    },
    {
     "name": "stdout",
     "output_type": "stream",
     "text": [
      "[1] 96\n"
     ]
    },
    {
     "name": "stderr",
     "output_type": "stream",
     "text": [
      "Number of CDR3s in: ~/Desktop/H4H/INTERCEPT/NextSeq/batch5_cfDNA_25Jun2020/mixcr/clones/CLONES_TRBCHP_361-01_cfDNA.txt nonproductive removed\n",
      "\n"
     ]
    },
    {
     "name": "stdout",
     "output_type": "stream",
     "text": [
      "[1] 71\n"
     ]
    },
    {
     "name": "stderr",
     "output_type": "stream",
     "text": [
      "Number of CDR3s in: ~/Desktop/H4H/INTERCEPT/NextSeq/batch5_cfDNA_25Jun2020/mixcr/clones/CLONES_TRBCHP_361-03_cfDNA.txt\n",
      "\n"
     ]
    },
    {
     "name": "stdout",
     "output_type": "stream",
     "text": [
      "[1] 4\n"
     ]
    },
    {
     "name": "stderr",
     "output_type": "stream",
     "text": [
      "Number of CDR3s in: ~/Desktop/H4H/INTERCEPT/NextSeq/batch5_cfDNA_25Jun2020/mixcr/clones/CLONES_TRBCHP_361-03_cfDNA.txt nonproductive removed\n",
      "\n"
     ]
    },
    {
     "name": "stdout",
     "output_type": "stream",
     "text": [
      "[1] 2\n"
     ]
    },
    {
     "name": "stderr",
     "output_type": "stream",
     "text": [
      "Number of CDR3s in: ~/Desktop/H4H/INTERCEPT/NextSeq/batch5_cfDNA_25Jun2020/mixcr/clones/CLONES_TRBCHP_361-05_cfDNA.txt\n",
      "\n"
     ]
    },
    {
     "name": "stdout",
     "output_type": "stream",
     "text": [
      "[1] 3\n"
     ]
    },
    {
     "name": "stderr",
     "output_type": "stream",
     "text": [
      "Number of CDR3s in: ~/Desktop/H4H/INTERCEPT/NextSeq/batch5_cfDNA_25Jun2020/mixcr/clones/CLONES_TRBCHP_361-05_cfDNA.txt nonproductive removed\n",
      "\n"
     ]
    },
    {
     "name": "stdout",
     "output_type": "stream",
     "text": [
      "[1] 2\n"
     ]
    },
    {
     "name": "stderr",
     "output_type": "stream",
     "text": [
      "Number of CDR3s in: ~/Desktop/H4H/INTERCEPT/NextSeq/batch5_cfDNA_25Jun2020/mixcr/clones/CLONES_TRBCHP_363-02_cfDNA.txt\n",
      "\n"
     ]
    },
    {
     "name": "stdout",
     "output_type": "stream",
     "text": [
      "[1] 4\n"
     ]
    },
    {
     "name": "stderr",
     "output_type": "stream",
     "text": [
      "Number of CDR3s in: ~/Desktop/H4H/INTERCEPT/NextSeq/batch5_cfDNA_25Jun2020/mixcr/clones/CLONES_TRBCHP_363-02_cfDNA.txt nonproductive removed\n",
      "\n"
     ]
    },
    {
     "name": "stdout",
     "output_type": "stream",
     "text": [
      "[1] 3\n"
     ]
    },
    {
     "name": "stderr",
     "output_type": "stream",
     "text": [
      "Number of CDR3s in: ~/Desktop/H4H/INTERCEPT/NextSeq/batch5_cfDNA_25Jun2020/mixcr/clones/CLONES_TRBCHP_364-01_cfDNA.txt\n",
      "\n"
     ]
    },
    {
     "name": "stdout",
     "output_type": "stream",
     "text": [
      "[1] 2\n"
     ]
    },
    {
     "name": "stderr",
     "output_type": "stream",
     "text": [
      "Number of CDR3s in: ~/Desktop/H4H/INTERCEPT/NextSeq/batch5_cfDNA_25Jun2020/mixcr/clones/CLONES_TRBCHP_364-01_cfDNA.txt nonproductive removed\n",
      "\n"
     ]
    },
    {
     "name": "stdout",
     "output_type": "stream",
     "text": [
      "[1] 2\n"
     ]
    },
    {
     "name": "stderr",
     "output_type": "stream",
     "text": [
      "Number of CDR3s in: ~/Desktop/H4H/INTERCEPT/NextSeq/batch5_cfDNA_25Jun2020/mixcr/clones/CLONES_TRBCHP_366-05_cfDNA.txt\n",
      "\n"
     ]
    },
    {
     "name": "stdout",
     "output_type": "stream",
     "text": [
      "[1] 1\n"
     ]
    },
    {
     "name": "stderr",
     "output_type": "stream",
     "text": [
      "Number of CDR3s in: ~/Desktop/H4H/INTERCEPT/NextSeq/batch5_cfDNA_25Jun2020/mixcr/clones/CLONES_TRBCHP_366-05_cfDNA.txt nonproductive removed\n",
      "\n"
     ]
    },
    {
     "name": "stdout",
     "output_type": "stream",
     "text": [
      "[1] 0\n"
     ]
    },
    {
     "name": "stderr",
     "output_type": "stream",
     "text": [
      "Number of CDR3s in: ~/Desktop/H4H/INTERCEPT/NextSeq/batch5_cfDNA_25Jun2020/mixcr/clones/CLONES_TRBCHP_368-01_cfDNA.txt\n",
      "\n"
     ]
    },
    {
     "name": "stdout",
     "output_type": "stream",
     "text": [
      "[1] 18\n"
     ]
    },
    {
     "name": "stderr",
     "output_type": "stream",
     "text": [
      "Number of CDR3s in: ~/Desktop/H4H/INTERCEPT/NextSeq/batch5_cfDNA_25Jun2020/mixcr/clones/CLONES_TRBCHP_368-01_cfDNA.txt nonproductive removed\n",
      "\n"
     ]
    },
    {
     "name": "stdout",
     "output_type": "stream",
     "text": [
      "[1] 14\n"
     ]
    },
    {
     "name": "stderr",
     "output_type": "stream",
     "text": [
      "Number of CDR3s in: ~/Desktop/H4H/INTERCEPT/NextSeq/batch5_cfDNA_25Jun2020/mixcr/clones/CLONES_TRBCHP_376-02_cfDNA.txt\n",
      "\n"
     ]
    },
    {
     "name": "stdout",
     "output_type": "stream",
     "text": [
      "[1] 23\n"
     ]
    },
    {
     "name": "stderr",
     "output_type": "stream",
     "text": [
      "Number of CDR3s in: ~/Desktop/H4H/INTERCEPT/NextSeq/batch5_cfDNA_25Jun2020/mixcr/clones/CLONES_TRBCHP_376-02_cfDNA.txt nonproductive removed\n",
      "\n"
     ]
    },
    {
     "name": "stdout",
     "output_type": "stream",
     "text": [
      "[1] 16\n"
     ]
    },
    {
     "name": "stderr",
     "output_type": "stream",
     "text": [
      "Number of CDR3s in: ~/Desktop/H4H/INTERCEPT/NextSeq/batch5_cfDNA_25Jun2020/mixcr/clones/CLONES_TRBCHP_380-01_cfDNA.txt\n",
      "\n"
     ]
    },
    {
     "name": "stdout",
     "output_type": "stream",
     "text": [
      "[1] 105\n"
     ]
    },
    {
     "name": "stderr",
     "output_type": "stream",
     "text": [
      "Number of CDR3s in: ~/Desktop/H4H/INTERCEPT/NextSeq/batch5_cfDNA_25Jun2020/mixcr/clones/CLONES_TRBCHP_380-01_cfDNA.txt nonproductive removed\n",
      "\n"
     ]
    },
    {
     "name": "stdout",
     "output_type": "stream",
     "text": [
      "[1] 76\n"
     ]
    },
    {
     "name": "stderr",
     "output_type": "stream",
     "text": [
      "Number of CDR3s in: ~/Desktop/H4H/INTERCEPT/NextSeq/batch6a_5Nov2019/mixcr/clones/CLONES_TRBCHP_340-04-PBMC-DNA.txt\n",
      "\n"
     ]
    },
    {
     "name": "stdout",
     "output_type": "stream",
     "text": [
      "[1] 264\n"
     ]
    },
    {
     "name": "stderr",
     "output_type": "stream",
     "text": [
      "Number of CDR3s in: ~/Desktop/H4H/INTERCEPT/NextSeq/batch6a_5Nov2019/mixcr/clones/CLONES_TRBCHP_340-04-PBMC-DNA.txt nonproductive removed\n",
      "\n"
     ]
    },
    {
     "name": "stdout",
     "output_type": "stream",
     "text": [
      "[1] 196\n"
     ]
    },
    {
     "name": "stderr",
     "output_type": "stream",
     "text": [
      "Number of CDR3s in: ~/Desktop/H4H/INTERCEPT/NextSeq/batch6a_5Nov2019/mixcr/clones/CLONES_TRBCHP_347-04-PBMC-DNA.txt\n",
      "\n"
     ]
    },
    {
     "name": "stdout",
     "output_type": "stream",
     "text": [
      "[1] 109\n"
     ]
    },
    {
     "name": "stderr",
     "output_type": "stream",
     "text": [
      "Number of CDR3s in: ~/Desktop/H4H/INTERCEPT/NextSeq/batch6a_5Nov2019/mixcr/clones/CLONES_TRBCHP_347-04-PBMC-DNA.txt nonproductive removed\n",
      "\n"
     ]
    },
    {
     "name": "stdout",
     "output_type": "stream",
     "text": [
      "[1] 89\n"
     ]
    },
    {
     "name": "stderr",
     "output_type": "stream",
     "text": [
      "Number of CDR3s in: ~/Desktop/H4H/INTERCEPT/NextSeq/batch6a_5Nov2019/mixcr/clones/CLONES_TRBCHP_357-03-PBMC-DNA.txt\n",
      "\n"
     ]
    },
    {
     "name": "stdout",
     "output_type": "stream",
     "text": [
      "[1] 137\n"
     ]
    },
    {
     "name": "stderr",
     "output_type": "stream",
     "text": [
      "Number of CDR3s in: ~/Desktop/H4H/INTERCEPT/NextSeq/batch6a_5Nov2019/mixcr/clones/CLONES_TRBCHP_357-03-PBMC-DNA.txt nonproductive removed\n",
      "\n"
     ]
    },
    {
     "name": "stdout",
     "output_type": "stream",
     "text": [
      "[1] 94\n"
     ]
    },
    {
     "name": "stderr",
     "output_type": "stream",
     "text": [
      "Number of CDR3s in: ~/Desktop/H4H/INTERCEPT/NextSeq/batch6a_5Nov2019/mixcr/clones/CLONES_TRBCHP_359-02-PBMC-DNA.txt\n",
      "\n"
     ]
    },
    {
     "name": "stdout",
     "output_type": "stream",
     "text": [
      "[1] 715\n"
     ]
    },
    {
     "name": "stderr",
     "output_type": "stream",
     "text": [
      "Number of CDR3s in: ~/Desktop/H4H/INTERCEPT/NextSeq/batch6a_5Nov2019/mixcr/clones/CLONES_TRBCHP_359-02-PBMC-DNA.txt nonproductive removed\n",
      "\n"
     ]
    },
    {
     "name": "stdout",
     "output_type": "stream",
     "text": [
      "[1] 545\n"
     ]
    },
    {
     "name": "stderr",
     "output_type": "stream",
     "text": [
      "Number of CDR3s in: ~/Desktop/H4H/INTERCEPT/NextSeq/batch6a_5Nov2019/mixcr/clones/CLONES_TRBCHP_359-04-PBMC-DNA.txt\n",
      "\n"
     ]
    },
    {
     "name": "stdout",
     "output_type": "stream",
     "text": [
      "[1] 466\n"
     ]
    },
    {
     "name": "stderr",
     "output_type": "stream",
     "text": [
      "Number of CDR3s in: ~/Desktop/H4H/INTERCEPT/NextSeq/batch6a_5Nov2019/mixcr/clones/CLONES_TRBCHP_359-04-PBMC-DNA.txt nonproductive removed\n",
      "\n"
     ]
    },
    {
     "name": "stdout",
     "output_type": "stream",
     "text": [
      "[1] 367\n"
     ]
    },
    {
     "name": "stderr",
     "output_type": "stream",
     "text": [
      "Number of CDR3s in: ~/Desktop/H4H/INTERCEPT/NextSeq/batch6a_5Nov2019/mixcr/clones/CLONES_TRBCHP_367-02-PBMC-DNA.txt\n",
      "\n"
     ]
    },
    {
     "name": "stdout",
     "output_type": "stream",
     "text": [
      "[1] 118\n"
     ]
    },
    {
     "name": "stderr",
     "output_type": "stream",
     "text": [
      "Number of CDR3s in: ~/Desktop/H4H/INTERCEPT/NextSeq/batch6a_5Nov2019/mixcr/clones/CLONES_TRBCHP_367-02-PBMC-DNA.txt nonproductive removed\n",
      "\n"
     ]
    },
    {
     "name": "stdout",
     "output_type": "stream",
     "text": [
      "[1] 86\n"
     ]
    },
    {
     "name": "stderr",
     "output_type": "stream",
     "text": [
      "Number of CDR3s in: ~/Desktop/H4H/INTERCEPT/NextSeq/batch7_25Oct2019/mixcr/clones/CLONES_TRBCHP_323-04-PBMC-DNA.txt\n",
      "\n"
     ]
    },
    {
     "name": "stdout",
     "output_type": "stream",
     "text": [
      "[1] 36\n"
     ]
    },
    {
     "name": "stderr",
     "output_type": "stream",
     "text": [
      "Number of CDR3s in: ~/Desktop/H4H/INTERCEPT/NextSeq/batch7_25Oct2019/mixcr/clones/CLONES_TRBCHP_323-04-PBMC-DNA.txt nonproductive removed\n",
      "\n"
     ]
    },
    {
     "name": "stdout",
     "output_type": "stream",
     "text": [
      "[1] 23\n"
     ]
    },
    {
     "name": "stderr",
     "output_type": "stream",
     "text": [
      "Number of CDR3s in: ~/Desktop/H4H/INTERCEPT/NextSeq/batch7_25Oct2019/mixcr/clones/CLONES_TRBCHP_323-05-PBMC-DNA.txt\n",
      "\n"
     ]
    },
    {
     "name": "stdout",
     "output_type": "stream",
     "text": [
      "[1] 200\n"
     ]
    },
    {
     "name": "stderr",
     "output_type": "stream",
     "text": [
      "Number of CDR3s in: ~/Desktop/H4H/INTERCEPT/NextSeq/batch7_25Oct2019/mixcr/clones/CLONES_TRBCHP_323-05-PBMC-DNA.txt nonproductive removed\n",
      "\n"
     ]
    },
    {
     "name": "stdout",
     "output_type": "stream",
     "text": [
      "[1] 153\n"
     ]
    },
    {
     "name": "stderr",
     "output_type": "stream",
     "text": [
      "Number of CDR3s in: ~/Desktop/H4H/INTERCEPT/NextSeq/batch7_25Oct2019/mixcr/clones/CLONES_TRBCHP_344-02-PBMC-DNA.txt\n",
      "\n"
     ]
    },
    {
     "name": "stdout",
     "output_type": "stream",
     "text": [
      "[1] 16\n"
     ]
    },
    {
     "name": "stderr",
     "output_type": "stream",
     "text": [
      "Number of CDR3s in: ~/Desktop/H4H/INTERCEPT/NextSeq/batch7_25Oct2019/mixcr/clones/CLONES_TRBCHP_344-02-PBMC-DNA.txt nonproductive removed\n",
      "\n"
     ]
    },
    {
     "name": "stdout",
     "output_type": "stream",
     "text": [
      "[1] 15\n"
     ]
    },
    {
     "name": "stderr",
     "output_type": "stream",
     "text": [
      "Number of CDR3s in: ~/Desktop/H4H/INTERCEPT/NextSeq/batch7_25Oct2019/mixcr/clones/CLONES_TRBCHP_344-03-PBMC-DNA.txt\n",
      "\n"
     ]
    },
    {
     "name": "stdout",
     "output_type": "stream",
     "text": [
      "[1] 13\n"
     ]
    },
    {
     "name": "stderr",
     "output_type": "stream",
     "text": [
      "Number of CDR3s in: ~/Desktop/H4H/INTERCEPT/NextSeq/batch7_25Oct2019/mixcr/clones/CLONES_TRBCHP_344-03-PBMC-DNA.txt nonproductive removed\n",
      "\n"
     ]
    },
    {
     "name": "stdout",
     "output_type": "stream",
     "text": [
      "[1] 11\n"
     ]
    },
    {
     "name": "stderr",
     "output_type": "stream",
     "text": [
      "Number of CDR3s in: ~/Desktop/H4H/INTERCEPT/NextSeq/batch7_25Oct2019/mixcr/clones/CLONES_TRBCHP_345-03-PBMC-DNA.txt\n",
      "\n"
     ]
    },
    {
     "name": "stdout",
     "output_type": "stream",
     "text": [
      "[1] 148\n"
     ]
    },
    {
     "name": "stderr",
     "output_type": "stream",
     "text": [
      "Number of CDR3s in: ~/Desktop/H4H/INTERCEPT/NextSeq/batch7_25Oct2019/mixcr/clones/CLONES_TRBCHP_345-03-PBMC-DNA.txt nonproductive removed\n",
      "\n"
     ]
    },
    {
     "name": "stdout",
     "output_type": "stream",
     "text": [
      "[1] 108\n"
     ]
    },
    {
     "name": "stderr",
     "output_type": "stream",
     "text": [
      "Number of CDR3s in: ~/Desktop/H4H/INTERCEPT/NextSeq/batch7_25Oct2019/mixcr/clones/CLONES_TRBCHP_347-03-PBMC-DNA.txt\n",
      "\n"
     ]
    },
    {
     "name": "stdout",
     "output_type": "stream",
     "text": [
      "[1] 113\n"
     ]
    },
    {
     "name": "stderr",
     "output_type": "stream",
     "text": [
      "Number of CDR3s in: ~/Desktop/H4H/INTERCEPT/NextSeq/batch7_25Oct2019/mixcr/clones/CLONES_TRBCHP_347-03-PBMC-DNA.txt nonproductive removed\n",
      "\n"
     ]
    },
    {
     "name": "stdout",
     "output_type": "stream",
     "text": [
      "[1] 100\n"
     ]
    },
    {
     "name": "stderr",
     "output_type": "stream",
     "text": [
      "Number of CDR3s in: ~/Desktop/H4H/INTERCEPT/NextSeq/batch7_25Oct2019/mixcr/clones/CLONES_TRBCHP_351-04-PBMC-DNA.txt\n",
      "\n"
     ]
    },
    {
     "name": "stdout",
     "output_type": "stream",
     "text": [
      "[1] 100\n"
     ]
    },
    {
     "name": "stderr",
     "output_type": "stream",
     "text": [
      "Number of CDR3s in: ~/Desktop/H4H/INTERCEPT/NextSeq/batch7_25Oct2019/mixcr/clones/CLONES_TRBCHP_351-04-PBMC-DNA.txt nonproductive removed\n",
      "\n"
     ]
    },
    {
     "name": "stdout",
     "output_type": "stream",
     "text": [
      "[1] 68\n"
     ]
    },
    {
     "name": "stderr",
     "output_type": "stream",
     "text": [
      "Number of CDR3s in: ~/Desktop/H4H/INTERCEPT/NextSeq/batch7_25Oct2019/mixcr/clones/CLONES_TRBCHP_353-01-PBMC-DNA.txt\n",
      "\n"
     ]
    },
    {
     "name": "stdout",
     "output_type": "stream",
     "text": [
      "[1] 278\n"
     ]
    },
    {
     "name": "stderr",
     "output_type": "stream",
     "text": [
      "Number of CDR3s in: ~/Desktop/H4H/INTERCEPT/NextSeq/batch7_25Oct2019/mixcr/clones/CLONES_TRBCHP_353-01-PBMC-DNA.txt nonproductive removed\n",
      "\n"
     ]
    },
    {
     "name": "stdout",
     "output_type": "stream",
     "text": [
      "[1] 222\n"
     ]
    },
    {
     "name": "stderr",
     "output_type": "stream",
     "text": [
      "Number of CDR3s in: ~/Desktop/H4H/INTERCEPT/NextSeq/batch7_25Oct2019/mixcr/clones/CLONES_TRBCHP_353-03-PBMC-DNA.txt\n",
      "\n"
     ]
    },
    {
     "name": "stdout",
     "output_type": "stream",
     "text": [
      "[1] 211\n"
     ]
    },
    {
     "name": "stderr",
     "output_type": "stream",
     "text": [
      "Number of CDR3s in: ~/Desktop/H4H/INTERCEPT/NextSeq/batch7_25Oct2019/mixcr/clones/CLONES_TRBCHP_353-03-PBMC-DNA.txt nonproductive removed\n",
      "\n"
     ]
    },
    {
     "name": "stdout",
     "output_type": "stream",
     "text": [
      "[1] 166\n"
     ]
    },
    {
     "name": "stderr",
     "output_type": "stream",
     "text": [
      "Number of CDR3s in: ~/Desktop/H4H/INTERCEPT/NextSeq/batch7_25Oct2019/mixcr/clones/CLONES_TRBCHP_353-05-PBMC-DNA.txt\n",
      "\n"
     ]
    },
    {
     "name": "stdout",
     "output_type": "stream",
     "text": [
      "[1] 571\n"
     ]
    },
    {
     "name": "stderr",
     "output_type": "stream",
     "text": [
      "Number of CDR3s in: ~/Desktop/H4H/INTERCEPT/NextSeq/batch7_25Oct2019/mixcr/clones/CLONES_TRBCHP_353-05-PBMC-DNA.txt nonproductive removed\n",
      "\n"
     ]
    },
    {
     "name": "stdout",
     "output_type": "stream",
     "text": [
      "[1] 459\n"
     ]
    },
    {
     "name": "stderr",
     "output_type": "stream",
     "text": [
      "Number of CDR3s in: ~/Desktop/H4H/INTERCEPT/NextSeq/batch7_25Oct2019/mixcr/clones/CLONES_TRBCHP_357-04-PBMC-DNA.txt\n",
      "\n"
     ]
    },
    {
     "name": "stdout",
     "output_type": "stream",
     "text": [
      "[1] 79\n"
     ]
    },
    {
     "name": "stderr",
     "output_type": "stream",
     "text": [
      "Number of CDR3s in: ~/Desktop/H4H/INTERCEPT/NextSeq/batch7_25Oct2019/mixcr/clones/CLONES_TRBCHP_357-04-PBMC-DNA.txt nonproductive removed\n",
      "\n"
     ]
    },
    {
     "name": "stdout",
     "output_type": "stream",
     "text": [
      "[1] 55\n"
     ]
    },
    {
     "name": "stderr",
     "output_type": "stream",
     "text": [
      "Number of CDR3s in: ~/Desktop/H4H/INTERCEPT/NextSeq/batch7_25Oct2019/mixcr/clones/CLONES_TRBCHP_359-01-PBMC-DNA.txt\n",
      "\n"
     ]
    },
    {
     "name": "stdout",
     "output_type": "stream",
     "text": [
      "[1] 38\n"
     ]
    },
    {
     "name": "stderr",
     "output_type": "stream",
     "text": [
      "Number of CDR3s in: ~/Desktop/H4H/INTERCEPT/NextSeq/batch7_25Oct2019/mixcr/clones/CLONES_TRBCHP_359-01-PBMC-DNA.txt nonproductive removed\n",
      "\n"
     ]
    },
    {
     "name": "stdout",
     "output_type": "stream",
     "text": [
      "[1] 30\n"
     ]
    },
    {
     "name": "stderr",
     "output_type": "stream",
     "text": [
      "Number of CDR3s in: ~/Desktop/H4H/INTERCEPT/NextSeq/batch7_25Oct2019/mixcr/clones/CLONES_TRBCHP_360-02-PBMC-DNA.txt\n",
      "\n"
     ]
    },
    {
     "name": "stdout",
     "output_type": "stream",
     "text": [
      "[1] 329\n"
     ]
    },
    {
     "name": "stderr",
     "output_type": "stream",
     "text": [
      "Number of CDR3s in: ~/Desktop/H4H/INTERCEPT/NextSeq/batch7_25Oct2019/mixcr/clones/CLONES_TRBCHP_360-02-PBMC-DNA.txt nonproductive removed\n",
      "\n"
     ]
    },
    {
     "name": "stdout",
     "output_type": "stream",
     "text": [
      "[1] 252\n"
     ]
    },
    {
     "name": "stderr",
     "output_type": "stream",
     "text": [
      "Number of CDR3s in: ~/Desktop/H4H/INTERCEPT/NextSeq/batch7_25Oct2019/mixcr/clones/CLONES_TRBCHP_361-04-PBMC-DNA.txt\n",
      "\n"
     ]
    },
    {
     "name": "stdout",
     "output_type": "stream",
     "text": [
      "[1] 40\n"
     ]
    },
    {
     "name": "stderr",
     "output_type": "stream",
     "text": [
      "Number of CDR3s in: ~/Desktop/H4H/INTERCEPT/NextSeq/batch7_25Oct2019/mixcr/clones/CLONES_TRBCHP_361-04-PBMC-DNA.txt nonproductive removed\n",
      "\n"
     ]
    },
    {
     "name": "stdout",
     "output_type": "stream",
     "text": [
      "[1] 30\n"
     ]
    },
    {
     "name": "stderr",
     "output_type": "stream",
     "text": [
      "Number of CDR3s in: ~/Desktop/H4H/INTERCEPT/NextSeq/batch7_25Oct2019/mixcr/clones/CLONES_TRBCHP_362-01-PBMC-DNA.txt\n",
      "\n"
     ]
    },
    {
     "name": "stdout",
     "output_type": "stream",
     "text": [
      "[1] 199\n"
     ]
    },
    {
     "name": "stderr",
     "output_type": "stream",
     "text": [
      "Number of CDR3s in: ~/Desktop/H4H/INTERCEPT/NextSeq/batch7_25Oct2019/mixcr/clones/CLONES_TRBCHP_362-01-PBMC-DNA.txt nonproductive removed\n",
      "\n"
     ]
    },
    {
     "name": "stdout",
     "output_type": "stream",
     "text": [
      "[1] 152\n"
     ]
    },
    {
     "name": "stderr",
     "output_type": "stream",
     "text": [
      "Number of CDR3s in: ~/Desktop/H4H/INTERCEPT/NextSeq/batch7_25Oct2019/mixcr/clones/CLONES_TRBCHP_362-03-PBMC-DNA.txt\n",
      "\n"
     ]
    },
    {
     "name": "stdout",
     "output_type": "stream",
     "text": [
      "[1] 132\n"
     ]
    },
    {
     "name": "stderr",
     "output_type": "stream",
     "text": [
      "Number of CDR3s in: ~/Desktop/H4H/INTERCEPT/NextSeq/batch7_25Oct2019/mixcr/clones/CLONES_TRBCHP_362-03-PBMC-DNA.txt nonproductive removed\n",
      "\n"
     ]
    },
    {
     "name": "stdout",
     "output_type": "stream",
     "text": [
      "[1] 107\n"
     ]
    },
    {
     "name": "stderr",
     "output_type": "stream",
     "text": [
      "Number of CDR3s in: ~/Desktop/H4H/INTERCEPT/NextSeq/batch7_25Oct2019/mixcr/clones/CLONES_TRBCHP_362-04-PBMC-DNA.txt\n",
      "\n"
     ]
    },
    {
     "name": "stdout",
     "output_type": "stream",
     "text": [
      "[1] 33\n"
     ]
    },
    {
     "name": "stderr",
     "output_type": "stream",
     "text": [
      "Number of CDR3s in: ~/Desktop/H4H/INTERCEPT/NextSeq/batch7_25Oct2019/mixcr/clones/CLONES_TRBCHP_362-04-PBMC-DNA.txt nonproductive removed\n",
      "\n"
     ]
    },
    {
     "name": "stdout",
     "output_type": "stream",
     "text": [
      "[1] 21\n"
     ]
    },
    {
     "name": "stderr",
     "output_type": "stream",
     "text": [
      "Number of CDR3s in: ~/Desktop/H4H/INTERCEPT/NextSeq/batch7_25Oct2019/mixcr/clones/CLONES_TRBCHP_368-01-PBMC-DNA.txt\n",
      "\n"
     ]
    },
    {
     "name": "stdout",
     "output_type": "stream",
     "text": [
      "[1] 343\n"
     ]
    },
    {
     "name": "stderr",
     "output_type": "stream",
     "text": [
      "Number of CDR3s in: ~/Desktop/H4H/INTERCEPT/NextSeq/batch7_25Oct2019/mixcr/clones/CLONES_TRBCHP_368-01-PBMC-DNA.txt nonproductive removed\n",
      "\n"
     ]
    },
    {
     "name": "stdout",
     "output_type": "stream",
     "text": [
      "[1] 256\n"
     ]
    },
    {
     "name": "stderr",
     "output_type": "stream",
     "text": [
      "Number of CDR3s in: ~/Desktop/H4H/INTERCEPT/NextSeq/batch7_25Oct2019/mixcr/clones/CLONES_TRBCHP_368-04-PBMC-DNA.txt\n",
      "\n"
     ]
    },
    {
     "name": "stdout",
     "output_type": "stream",
     "text": [
      "[1] 97\n"
     ]
    },
    {
     "name": "stderr",
     "output_type": "stream",
     "text": [
      "Number of CDR3s in: ~/Desktop/H4H/INTERCEPT/NextSeq/batch7_25Oct2019/mixcr/clones/CLONES_TRBCHP_368-04-PBMC-DNA.txt nonproductive removed\n",
      "\n"
     ]
    },
    {
     "name": "stdout",
     "output_type": "stream",
     "text": [
      "[1] 70\n"
     ]
    },
    {
     "name": "stderr",
     "output_type": "stream",
     "text": [
      "Number of CDR3s in: ~/Desktop/H4H/INTERCEPT/NextSeq/batch7_25Oct2019/mixcr/clones/CLONES_TRBCHP_370-01-PBMC-DNA.txt\n",
      "\n"
     ]
    },
    {
     "name": "stdout",
     "output_type": "stream",
     "text": [
      "[1] 20\n"
     ]
    },
    {
     "name": "stderr",
     "output_type": "stream",
     "text": [
      "Number of CDR3s in: ~/Desktop/H4H/INTERCEPT/NextSeq/batch7_25Oct2019/mixcr/clones/CLONES_TRBCHP_370-01-PBMC-DNA.txt nonproductive removed\n",
      "\n"
     ]
    },
    {
     "name": "stdout",
     "output_type": "stream",
     "text": [
      "[1] 17\n"
     ]
    },
    {
     "name": "stderr",
     "output_type": "stream",
     "text": [
      "Number of CDR3s in: ~/Desktop/H4H/INTERCEPT/NextSeq/batch7_25Oct2019/mixcr/clones/CLONES_TRBCHP_370-05-PBMC-DNA.txt\n",
      "\n"
     ]
    },
    {
     "name": "stdout",
     "output_type": "stream",
     "text": [
      "[1] 308\n"
     ]
    },
    {
     "name": "stderr",
     "output_type": "stream",
     "text": [
      "Number of CDR3s in: ~/Desktop/H4H/INTERCEPT/NextSeq/batch7_25Oct2019/mixcr/clones/CLONES_TRBCHP_370-05-PBMC-DNA.txt nonproductive removed\n",
      "\n"
     ]
    },
    {
     "name": "stdout",
     "output_type": "stream",
     "text": [
      "[1] 241\n"
     ]
    },
    {
     "name": "stderr",
     "output_type": "stream",
     "text": [
      "Number of CDR3s in: ~/Desktop/H4H/INTERCEPT/NextSeq/batch7_25Oct2019/mixcr/clones/CLONES_TRBCHP_373-02-PBMC-DNA.txt\n",
      "\n"
     ]
    },
    {
     "name": "stdout",
     "output_type": "stream",
     "text": [
      "[1] 124\n"
     ]
    },
    {
     "name": "stderr",
     "output_type": "stream",
     "text": [
      "Number of CDR3s in: ~/Desktop/H4H/INTERCEPT/NextSeq/batch7_25Oct2019/mixcr/clones/CLONES_TRBCHP_373-02-PBMC-DNA.txt nonproductive removed\n",
      "\n"
     ]
    },
    {
     "name": "stdout",
     "output_type": "stream",
     "text": [
      "[1] 90\n"
     ]
    },
    {
     "name": "stderr",
     "output_type": "stream",
     "text": [
      "Number of CDR3s in: ~/Desktop/H4H/INTERCEPT/NextSeq/batch7_25Oct2019/mixcr/clones/CLONES_TRBCHP_375-02-PBMC-DNA.txt\n",
      "\n"
     ]
    },
    {
     "name": "stdout",
     "output_type": "stream",
     "text": [
      "[1] 655\n"
     ]
    },
    {
     "name": "stderr",
     "output_type": "stream",
     "text": [
      "Number of CDR3s in: ~/Desktop/H4H/INTERCEPT/NextSeq/batch7_25Oct2019/mixcr/clones/CLONES_TRBCHP_375-02-PBMC-DNA.txt nonproductive removed\n",
      "\n"
     ]
    },
    {
     "name": "stdout",
     "output_type": "stream",
     "text": [
      "[1] 513\n"
     ]
    },
    {
     "name": "stderr",
     "output_type": "stream",
     "text": [
      "Number of CDR3s in: ~/Desktop/H4H/INTERCEPT/NextSeq/batch7_25Oct2019/mixcr/clones/CLONES_TRBCHP_378-02-PBMC-DNA.txt\n",
      "\n"
     ]
    },
    {
     "name": "stdout",
     "output_type": "stream",
     "text": [
      "[1] 283\n"
     ]
    },
    {
     "name": "stderr",
     "output_type": "stream",
     "text": [
      "Number of CDR3s in: ~/Desktop/H4H/INTERCEPT/NextSeq/batch7_25Oct2019/mixcr/clones/CLONES_TRBCHP_378-02-PBMC-DNA.txt nonproductive removed\n",
      "\n"
     ]
    },
    {
     "name": "stdout",
     "output_type": "stream",
     "text": [
      "[1] 210\n"
     ]
    },
    {
     "name": "stderr",
     "output_type": "stream",
     "text": [
      "Number of CDR3s in: ~/Desktop/H4H/INTERCEPT/NextSeq/batch7_cfDNA_29Jun2020/mixcr/clones/CLONES_TRBCHP_377-04_cfDNA.txt\n",
      "\n"
     ]
    },
    {
     "name": "stdout",
     "output_type": "stream",
     "text": [
      "[1] 0\n"
     ]
    },
    {
     "name": "stderr",
     "output_type": "stream",
     "text": [
      "Number of CDR3s in: ~/Desktop/H4H/INTERCEPT/NextSeq/batch7_cfDNA_29Jun2020/mixcr/clones/CLONES_TRBCHP_377-04_cfDNA.txt nonproductive removed\n",
      "\n"
     ]
    },
    {
     "name": "stdout",
     "output_type": "stream",
     "text": [
      "[1] 0\n"
     ]
    },
    {
     "name": "stderr",
     "output_type": "stream",
     "text": [
      "Number of CDR3s in: ~/Desktop/H4H/INTERCEPT/NextSeq/batch7_cfDNA_29Jun2020/mixcr/clones/CLONES_TRBCHP_381-05_cfDNA.txt\n",
      "\n"
     ]
    },
    {
     "name": "stdout",
     "output_type": "stream",
     "text": [
      "[1] 2\n"
     ]
    },
    {
     "name": "stderr",
     "output_type": "stream",
     "text": [
      "Number of CDR3s in: ~/Desktop/H4H/INTERCEPT/NextSeq/batch7_cfDNA_29Jun2020/mixcr/clones/CLONES_TRBCHP_381-05_cfDNA.txt nonproductive removed\n",
      "\n"
     ]
    },
    {
     "name": "stdout",
     "output_type": "stream",
     "text": [
      "[1] 0\n"
     ]
    },
    {
     "name": "stderr",
     "output_type": "stream",
     "text": [
      "Number of CDR3s in: ~/Desktop/H4H/INTERCEPT/NextSeq/batch7_cfDNA_29Jun2020/mixcr/clones/CLONES_TRBCHP_385-01_cfDNA.txt\n",
      "\n"
     ]
    },
    {
     "name": "stdout",
     "output_type": "stream",
     "text": [
      "[1] 2\n"
     ]
    },
    {
     "name": "stderr",
     "output_type": "stream",
     "text": [
      "Number of CDR3s in: ~/Desktop/H4H/INTERCEPT/NextSeq/batch7_cfDNA_29Jun2020/mixcr/clones/CLONES_TRBCHP_385-01_cfDNA.txt nonproductive removed\n",
      "\n"
     ]
    },
    {
     "name": "stdout",
     "output_type": "stream",
     "text": [
      "[1] 1\n"
     ]
    },
    {
     "name": "stderr",
     "output_type": "stream",
     "text": [
      "Number of CDR3s in: ~/Desktop/H4H/INTERCEPT/NextSeq/batch7_cfDNA_29Jun2020/mixcr/clones/CLONES_TRBCHP_385-02_cfDNA.txt\n",
      "\n"
     ]
    },
    {
     "name": "stdout",
     "output_type": "stream",
     "text": [
      "[1] 2\n"
     ]
    },
    {
     "name": "stderr",
     "output_type": "stream",
     "text": [
      "Number of CDR3s in: ~/Desktop/H4H/INTERCEPT/NextSeq/batch7_cfDNA_29Jun2020/mixcr/clones/CLONES_TRBCHP_385-02_cfDNA.txt nonproductive removed\n",
      "\n"
     ]
    },
    {
     "name": "stdout",
     "output_type": "stream",
     "text": [
      "[1] 2\n"
     ]
    },
    {
     "name": "stderr",
     "output_type": "stream",
     "text": [
      "Number of CDR3s in: ~/Desktop/H4H/INTERCEPT/NextSeq/batch7_cfDNA_29Jun2020/mixcr/clones/CLONES_TRBCHP_385-03_cfDNA.txt\n",
      "\n"
     ]
    },
    {
     "name": "stdout",
     "output_type": "stream",
     "text": [
      "[1] 1\n"
     ]
    },
    {
     "name": "stderr",
     "output_type": "stream",
     "text": [
      "Number of CDR3s in: ~/Desktop/H4H/INTERCEPT/NextSeq/batch7_cfDNA_29Jun2020/mixcr/clones/CLONES_TRBCHP_385-03_cfDNA.txt nonproductive removed\n",
      "\n"
     ]
    },
    {
     "name": "stdout",
     "output_type": "stream",
     "text": [
      "[1] 1\n"
     ]
    },
    {
     "name": "stderr",
     "output_type": "stream",
     "text": [
      "Number of CDR3s in: ~/Desktop/H4H/INTERCEPT/NextSeq/batch7_cfDNA_29Jun2020/mixcr/clones/CLONES_TRBCHP_386-01_cfDNA.txt\n",
      "\n"
     ]
    },
    {
     "name": "stdout",
     "output_type": "stream",
     "text": [
      "[1] 6\n"
     ]
    },
    {
     "name": "stderr",
     "output_type": "stream",
     "text": [
      "Number of CDR3s in: ~/Desktop/H4H/INTERCEPT/NextSeq/batch7_cfDNA_29Jun2020/mixcr/clones/CLONES_TRBCHP_386-01_cfDNA.txt nonproductive removed\n",
      "\n"
     ]
    },
    {
     "name": "stdout",
     "output_type": "stream",
     "text": [
      "[1] 5\n"
     ]
    },
    {
     "name": "stderr",
     "output_type": "stream",
     "text": [
      "Number of CDR3s in: ~/Desktop/H4H/INTERCEPT/NextSeq/batch7_cfDNA_29Jun2020/mixcr/clones/CLONES_TRBCHP_387-01_cfDNA.txt\n",
      "\n"
     ]
    },
    {
     "name": "stdout",
     "output_type": "stream",
     "text": [
      "[1] 10\n"
     ]
    },
    {
     "name": "stderr",
     "output_type": "stream",
     "text": [
      "Number of CDR3s in: ~/Desktop/H4H/INTERCEPT/NextSeq/batch7_cfDNA_29Jun2020/mixcr/clones/CLONES_TRBCHP_387-01_cfDNA.txt nonproductive removed\n",
      "\n"
     ]
    },
    {
     "name": "stdout",
     "output_type": "stream",
     "text": [
      "[1] 5\n"
     ]
    },
    {
     "name": "stderr",
     "output_type": "stream",
     "text": [
      "Number of CDR3s in: ~/Desktop/H4H/INTERCEPT/NextSeq/batch7_cfDNA_29Jun2020/mixcr/clones/CLONES_TRBCHP_388-01_cfDNA.txt\n",
      "\n"
     ]
    },
    {
     "name": "stdout",
     "output_type": "stream",
     "text": [
      "[1] 23\n"
     ]
    },
    {
     "name": "stderr",
     "output_type": "stream",
     "text": [
      "Number of CDR3s in: ~/Desktop/H4H/INTERCEPT/NextSeq/batch7_cfDNA_29Jun2020/mixcr/clones/CLONES_TRBCHP_388-01_cfDNA.txt nonproductive removed\n",
      "\n"
     ]
    },
    {
     "name": "stdout",
     "output_type": "stream",
     "text": [
      "[1] 14\n"
     ]
    },
    {
     "name": "stderr",
     "output_type": "stream",
     "text": [
      "Number of CDR3s in: ~/Desktop/H4H/INTERCEPT/NextSeq/batch7_cfDNA_29Jun2020/mixcr/clones/CLONES_TRBCHP_391-01_cfDNA.txt\n",
      "\n"
     ]
    },
    {
     "name": "stdout",
     "output_type": "stream",
     "text": [
      "[1] 8\n"
     ]
    },
    {
     "name": "stderr",
     "output_type": "stream",
     "text": [
      "Number of CDR3s in: ~/Desktop/H4H/INTERCEPT/NextSeq/batch7_cfDNA_29Jun2020/mixcr/clones/CLONES_TRBCHP_391-01_cfDNA.txt nonproductive removed\n",
      "\n"
     ]
    },
    {
     "name": "stdout",
     "output_type": "stream",
     "text": [
      "[1] 3\n"
     ]
    },
    {
     "name": "stderr",
     "output_type": "stream",
     "text": [
      "Number of CDR3s in: ~/Desktop/H4H/INTERCEPT/NextSeq/batch7_cfDNA_29Jun2020/mixcr/clones/CLONES_TRBCHP_391-02_cfDNA.txt\n",
      "\n"
     ]
    },
    {
     "name": "stdout",
     "output_type": "stream",
     "text": [
      "[1] 1\n"
     ]
    },
    {
     "name": "stderr",
     "output_type": "stream",
     "text": [
      "Number of CDR3s in: ~/Desktop/H4H/INTERCEPT/NextSeq/batch7_cfDNA_29Jun2020/mixcr/clones/CLONES_TRBCHP_391-02_cfDNA.txt nonproductive removed\n",
      "\n"
     ]
    },
    {
     "name": "stdout",
     "output_type": "stream",
     "text": [
      "[1] 0\n"
     ]
    },
    {
     "name": "stderr",
     "output_type": "stream",
     "text": [
      "Number of CDR3s in: ~/Desktop/H4H/INTERCEPT/NextSeq/batch7_cfDNA_29Jun2020/mixcr/clones/CLONES_TRBCHP_392-01_cfDNA.txt\n",
      "\n"
     ]
    },
    {
     "name": "stdout",
     "output_type": "stream",
     "text": [
      "[1] 1\n"
     ]
    },
    {
     "name": "stderr",
     "output_type": "stream",
     "text": [
      "Number of CDR3s in: ~/Desktop/H4H/INTERCEPT/NextSeq/batch7_cfDNA_29Jun2020/mixcr/clones/CLONES_TRBCHP_392-01_cfDNA.txt nonproductive removed\n",
      "\n"
     ]
    },
    {
     "name": "stdout",
     "output_type": "stream",
     "text": [
      "[1] 0\n"
     ]
    },
    {
     "name": "stderr",
     "output_type": "stream",
     "text": [
      "Number of CDR3s in: ~/Desktop/H4H/INTERCEPT/NextSeq/batch7_cfDNA_29Jun2020/mixcr/clones/CLONES_TRBCHP_393-02_cfDNA.txt\n",
      "\n"
     ]
    },
    {
     "name": "stdout",
     "output_type": "stream",
     "text": [
      "[1] 3\n"
     ]
    },
    {
     "name": "stderr",
     "output_type": "stream",
     "text": [
      "Number of CDR3s in: ~/Desktop/H4H/INTERCEPT/NextSeq/batch7_cfDNA_29Jun2020/mixcr/clones/CLONES_TRBCHP_393-02_cfDNA.txt nonproductive removed\n",
      "\n"
     ]
    },
    {
     "name": "stdout",
     "output_type": "stream",
     "text": [
      "[1] 3\n"
     ]
    },
    {
     "name": "stderr",
     "output_type": "stream",
     "text": [
      "Number of CDR3s in: ~/Desktop/H4H/INTERCEPT/NextSeq/batch7_cfDNA_29Jun2020/mixcr/clones/CLONES_TRBCHP_393-03_cfDNA.txt\n",
      "\n"
     ]
    },
    {
     "name": "stdout",
     "output_type": "stream",
     "text": [
      "[1] 1\n"
     ]
    },
    {
     "name": "stderr",
     "output_type": "stream",
     "text": [
      "Number of CDR3s in: ~/Desktop/H4H/INTERCEPT/NextSeq/batch7_cfDNA_29Jun2020/mixcr/clones/CLONES_TRBCHP_393-03_cfDNA.txt nonproductive removed\n",
      "\n"
     ]
    },
    {
     "name": "stdout",
     "output_type": "stream",
     "text": [
      "[1] 1\n"
     ]
    },
    {
     "name": "stderr",
     "output_type": "stream",
     "text": [
      "Number of CDR3s in: ~/Desktop/H4H/INTERCEPT/NextSeq/batch7_cfDNA_29Jun2020/mixcr/clones/CLONES_TRBCHP_394-01_cfDNA.txt\n",
      "\n"
     ]
    },
    {
     "name": "stdout",
     "output_type": "stream",
     "text": [
      "[1] 0\n"
     ]
    },
    {
     "name": "stderr",
     "output_type": "stream",
     "text": [
      "Number of CDR3s in: ~/Desktop/H4H/INTERCEPT/NextSeq/batch7_cfDNA_29Jun2020/mixcr/clones/CLONES_TRBCHP_394-01_cfDNA.txt nonproductive removed\n",
      "\n"
     ]
    },
    {
     "name": "stdout",
     "output_type": "stream",
     "text": [
      "[1] 0\n"
     ]
    },
    {
     "name": "stderr",
     "output_type": "stream",
     "text": [
      "Number of CDR3s in: ~/Desktop/H4H/INTERCEPT/NextSeq/batch7_cfDNA_29Jun2020/mixcr/clones/CLONES_TRBCHP_395-01_cfDNA.txt\n",
      "\n"
     ]
    },
    {
     "name": "stdout",
     "output_type": "stream",
     "text": [
      "[1] 4\n"
     ]
    },
    {
     "name": "stderr",
     "output_type": "stream",
     "text": [
      "Number of CDR3s in: ~/Desktop/H4H/INTERCEPT/NextSeq/batch7_cfDNA_29Jun2020/mixcr/clones/CLONES_TRBCHP_395-01_cfDNA.txt nonproductive removed\n",
      "\n"
     ]
    },
    {
     "name": "stdout",
     "output_type": "stream",
     "text": [
      "[1] 2\n"
     ]
    },
    {
     "name": "stderr",
     "output_type": "stream",
     "text": [
      "Number of CDR3s in: ~/Desktop/H4H/INTERCEPT/NextSeq/batch7_cfDNA_29Jun2020/mixcr/clones/CLONES_TRBCHP_396-01_cfDNA.txt\n",
      "\n"
     ]
    },
    {
     "name": "stdout",
     "output_type": "stream",
     "text": [
      "[1] 1\n"
     ]
    },
    {
     "name": "stderr",
     "output_type": "stream",
     "text": [
      "Number of CDR3s in: ~/Desktop/H4H/INTERCEPT/NextSeq/batch7_cfDNA_29Jun2020/mixcr/clones/CLONES_TRBCHP_396-01_cfDNA.txt nonproductive removed\n",
      "\n"
     ]
    },
    {
     "name": "stdout",
     "output_type": "stream",
     "text": [
      "[1] 1\n"
     ]
    },
    {
     "name": "stderr",
     "output_type": "stream",
     "text": [
      "Number of CDR3s in: ~/Desktop/H4H/INTERCEPT/NextSeq/batch7_cfDNA_29Jun2020/mixcr/clones/CLONES_TRBCHP_397-01_cfDNA.txt\n",
      "\n"
     ]
    },
    {
     "name": "stdout",
     "output_type": "stream",
     "text": [
      "[1] 2\n"
     ]
    },
    {
     "name": "stderr",
     "output_type": "stream",
     "text": [
      "Number of CDR3s in: ~/Desktop/H4H/INTERCEPT/NextSeq/batch7_cfDNA_29Jun2020/mixcr/clones/CLONES_TRBCHP_397-01_cfDNA.txt nonproductive removed\n",
      "\n"
     ]
    },
    {
     "name": "stdout",
     "output_type": "stream",
     "text": [
      "[1] 1\n"
     ]
    },
    {
     "name": "stderr",
     "output_type": "stream",
     "text": [
      "Number of CDR3s in: ~/Desktop/H4H/INTERCEPT/NextSeq/batch7_cfDNA_29Jun2020/mixcr/clones/CLONES_TRBCHP_397-02_cfDNA.txt\n",
      "\n"
     ]
    },
    {
     "name": "stdout",
     "output_type": "stream",
     "text": [
      "[1] 10\n"
     ]
    },
    {
     "name": "stderr",
     "output_type": "stream",
     "text": [
      "Number of CDR3s in: ~/Desktop/H4H/INTERCEPT/NextSeq/batch7_cfDNA_29Jun2020/mixcr/clones/CLONES_TRBCHP_397-02_cfDNA.txt nonproductive removed\n",
      "\n"
     ]
    },
    {
     "name": "stdout",
     "output_type": "stream",
     "text": [
      "[1] 4\n"
     ]
    },
    {
     "name": "stderr",
     "output_type": "stream",
     "text": [
      "Number of CDR3s in: ~/Desktop/H4H/INTERCEPT/NextSeq/batch7_cfDNA_29Jun2020/mixcr/clones/CLONES_TRBCHP_398-01_cfDNA.txt\n",
      "\n"
     ]
    },
    {
     "name": "stdout",
     "output_type": "stream",
     "text": [
      "[1] 2\n"
     ]
    },
    {
     "name": "stderr",
     "output_type": "stream",
     "text": [
      "Number of CDR3s in: ~/Desktop/H4H/INTERCEPT/NextSeq/batch7_cfDNA_29Jun2020/mixcr/clones/CLONES_TRBCHP_398-01_cfDNA.txt nonproductive removed\n",
      "\n"
     ]
    },
    {
     "name": "stdout",
     "output_type": "stream",
     "text": [
      "[1] 0\n"
     ]
    },
    {
     "name": "stderr",
     "output_type": "stream",
     "text": [
      "Number of CDR3s in: ~/Desktop/H4H/INTERCEPT/NextSeq/batch7_cfDNA_29Jun2020/mixcr/clones/CLONES_TRBCHP_398-03_cfDNA.txt\n",
      "\n"
     ]
    },
    {
     "name": "stdout",
     "output_type": "stream",
     "text": [
      "[1] 1\n"
     ]
    },
    {
     "name": "stderr",
     "output_type": "stream",
     "text": [
      "Number of CDR3s in: ~/Desktop/H4H/INTERCEPT/NextSeq/batch7_cfDNA_29Jun2020/mixcr/clones/CLONES_TRBCHP_398-03_cfDNA.txt nonproductive removed\n",
      "\n"
     ]
    },
    {
     "name": "stdout",
     "output_type": "stream",
     "text": [
      "[1] 1\n"
     ]
    },
    {
     "name": "stderr",
     "output_type": "stream",
     "text": [
      "Number of CDR3s in: ~/Desktop/H4H/INTERCEPT/NextSeq/batch7_cfDNA_29Jun2020/mixcr/clones/CLONES_TRBCHP_399-01_cfDNA.txt\n",
      "\n"
     ]
    },
    {
     "name": "stdout",
     "output_type": "stream",
     "text": [
      "[1] 20\n"
     ]
    },
    {
     "name": "stderr",
     "output_type": "stream",
     "text": [
      "Number of CDR3s in: ~/Desktop/H4H/INTERCEPT/NextSeq/batch7_cfDNA_29Jun2020/mixcr/clones/CLONES_TRBCHP_399-01_cfDNA.txt nonproductive removed\n",
      "\n"
     ]
    },
    {
     "name": "stdout",
     "output_type": "stream",
     "text": [
      "[1] 13\n"
     ]
    },
    {
     "name": "stderr",
     "output_type": "stream",
     "text": [
      "Number of CDR3s in: ~/Desktop/H4H/INTERCEPT/NextSeq/batch7_cfDNA_29Jun2020/mixcr/clones/CLONES_TRBCHP_401-01_cfDNA.txt\n",
      "\n"
     ]
    },
    {
     "name": "stdout",
     "output_type": "stream",
     "text": [
      "[1] 1\n"
     ]
    },
    {
     "name": "stderr",
     "output_type": "stream",
     "text": [
      "Number of CDR3s in: ~/Desktop/H4H/INTERCEPT/NextSeq/batch7_cfDNA_29Jun2020/mixcr/clones/CLONES_TRBCHP_401-01_cfDNA.txt nonproductive removed\n",
      "\n"
     ]
    },
    {
     "name": "stdout",
     "output_type": "stream",
     "text": [
      "[1] 1\n"
     ]
    },
    {
     "name": "stderr",
     "output_type": "stream",
     "text": [
      "Number of CDR3s in: ~/Desktop/H4H/INTERCEPT/NextSeq/batch7_cfDNA_29Jun2020/mixcr/clones/CLONES_TRBCHP_402-01_cfDNA.txt\n",
      "\n"
     ]
    },
    {
     "name": "stdout",
     "output_type": "stream",
     "text": [
      "[1] 11\n"
     ]
    },
    {
     "name": "stderr",
     "output_type": "stream",
     "text": [
      "Number of CDR3s in: ~/Desktop/H4H/INTERCEPT/NextSeq/batch7_cfDNA_29Jun2020/mixcr/clones/CLONES_TRBCHP_402-01_cfDNA.txt nonproductive removed\n",
      "\n"
     ]
    },
    {
     "name": "stdout",
     "output_type": "stream",
     "text": [
      "[1] 3\n"
     ]
    },
    {
     "name": "stderr",
     "output_type": "stream",
     "text": [
      "Number of CDR3s in: ~/Desktop/H4H/INTERCEPT/NextSeq/batch7_cfDNA_29Jun2020/mixcr/clones/CLONES_TRBCHP_405-01_cfDNA.txt\n",
      "\n"
     ]
    },
    {
     "name": "stdout",
     "output_type": "stream",
     "text": [
      "[1] 20\n"
     ]
    },
    {
     "name": "stderr",
     "output_type": "stream",
     "text": [
      "Number of CDR3s in: ~/Desktop/H4H/INTERCEPT/NextSeq/batch7_cfDNA_29Jun2020/mixcr/clones/CLONES_TRBCHP_405-01_cfDNA.txt nonproductive removed\n",
      "\n"
     ]
    },
    {
     "name": "stdout",
     "output_type": "stream",
     "text": [
      "[1] 12\n"
     ]
    },
    {
     "name": "stderr",
     "output_type": "stream",
     "text": [
      "Number of CDR3s in: ~/Desktop/H4H/INTERCEPT/NextSeq/batch8_14Jan2020/mixcr/clones/CLONES_TRBCHP_335-03-PBMC-DNA.txt\n",
      "\n"
     ]
    },
    {
     "name": "stdout",
     "output_type": "stream",
     "text": [
      "[1] 258\n"
     ]
    },
    {
     "name": "stderr",
     "output_type": "stream",
     "text": [
      "Number of CDR3s in: ~/Desktop/H4H/INTERCEPT/NextSeq/batch8_14Jan2020/mixcr/clones/CLONES_TRBCHP_335-03-PBMC-DNA.txt nonproductive removed\n",
      "\n"
     ]
    },
    {
     "name": "stdout",
     "output_type": "stream",
     "text": [
      "[1] 178\n"
     ]
    },
    {
     "name": "stderr",
     "output_type": "stream",
     "text": [
      "Number of CDR3s in: ~/Desktop/H4H/INTERCEPT/NextSeq/batch8_14Jan2020/mixcr/clones/CLONES_TRBCHP_344-04-PBMC-DNA.txt\n",
      "\n"
     ]
    },
    {
     "name": "stdout",
     "output_type": "stream",
     "text": [
      "[1] 148\n"
     ]
    },
    {
     "name": "stderr",
     "output_type": "stream",
     "text": [
      "Number of CDR3s in: ~/Desktop/H4H/INTERCEPT/NextSeq/batch8_14Jan2020/mixcr/clones/CLONES_TRBCHP_344-04-PBMC-DNA.txt nonproductive removed\n",
      "\n"
     ]
    },
    {
     "name": "stdout",
     "output_type": "stream",
     "text": [
      "[1] 121\n"
     ]
    },
    {
     "name": "stderr",
     "output_type": "stream",
     "text": [
      "Number of CDR3s in: ~/Desktop/H4H/INTERCEPT/NextSeq/batch8_14Jan2020/mixcr/clones/CLONES_TRBCHP_347-05-PBMC-DNA.txt\n",
      "\n"
     ]
    },
    {
     "name": "stdout",
     "output_type": "stream",
     "text": [
      "[1] 176\n"
     ]
    },
    {
     "name": "stderr",
     "output_type": "stream",
     "text": [
      "Number of CDR3s in: ~/Desktop/H4H/INTERCEPT/NextSeq/batch8_14Jan2020/mixcr/clones/CLONES_TRBCHP_347-05-PBMC-DNA.txt nonproductive removed\n",
      "\n"
     ]
    },
    {
     "name": "stdout",
     "output_type": "stream",
     "text": [
      "[1] 127\n"
     ]
    },
    {
     "name": "stderr",
     "output_type": "stream",
     "text": [
      "Number of CDR3s in: ~/Desktop/H4H/INTERCEPT/NextSeq/batch8_14Jan2020/mixcr/clones/CLONES_TRBCHP_356-02-PBMC-DNA.txt\n",
      "\n"
     ]
    },
    {
     "name": "stdout",
     "output_type": "stream",
     "text": [
      "[1] 131\n"
     ]
    },
    {
     "name": "stderr",
     "output_type": "stream",
     "text": [
      "Number of CDR3s in: ~/Desktop/H4H/INTERCEPT/NextSeq/batch8_14Jan2020/mixcr/clones/CLONES_TRBCHP_356-02-PBMC-DNA.txt nonproductive removed\n",
      "\n"
     ]
    },
    {
     "name": "stdout",
     "output_type": "stream",
     "text": [
      "[1] 103\n"
     ]
    },
    {
     "name": "stderr",
     "output_type": "stream",
     "text": [
      "Number of CDR3s in: ~/Desktop/H4H/INTERCEPT/NextSeq/batch8_14Jan2020/mixcr/clones/CLONES_TRBCHP_357-02-PBMC-DNA.txt\n",
      "\n"
     ]
    },
    {
     "name": "stdout",
     "output_type": "stream",
     "text": [
      "[1] 703\n"
     ]
    },
    {
     "name": "stderr",
     "output_type": "stream",
     "text": [
      "Number of CDR3s in: ~/Desktop/H4H/INTERCEPT/NextSeq/batch8_14Jan2020/mixcr/clones/CLONES_TRBCHP_357-02-PBMC-DNA.txt nonproductive removed\n",
      "\n"
     ]
    },
    {
     "name": "stdout",
     "output_type": "stream",
     "text": [
      "[1] 482\n"
     ]
    },
    {
     "name": "stderr",
     "output_type": "stream",
     "text": [
      "Number of CDR3s in: ~/Desktop/H4H/INTERCEPT/NextSeq/batch8_14Jan2020/mixcr/clones/CLONES_TRBCHP_360-05-PBMC-DNA.txt\n",
      "\n"
     ]
    },
    {
     "name": "stdout",
     "output_type": "stream",
     "text": [
      "[1] 258\n"
     ]
    },
    {
     "name": "stderr",
     "output_type": "stream",
     "text": [
      "Number of CDR3s in: ~/Desktop/H4H/INTERCEPT/NextSeq/batch8_14Jan2020/mixcr/clones/CLONES_TRBCHP_360-05-PBMC-DNA.txt nonproductive removed\n",
      "\n"
     ]
    },
    {
     "name": "stdout",
     "output_type": "stream",
     "text": [
      "[1] 208\n"
     ]
    },
    {
     "name": "stderr",
     "output_type": "stream",
     "text": [
      "Number of CDR3s in: ~/Desktop/H4H/INTERCEPT/NextSeq/batch8_14Jan2020/mixcr/clones/CLONES_TRBCHP_369-02-PBMC-DNA.txt\n",
      "\n"
     ]
    },
    {
     "name": "stdout",
     "output_type": "stream",
     "text": [
      "[1] 305\n"
     ]
    },
    {
     "name": "stderr",
     "output_type": "stream",
     "text": [
      "Number of CDR3s in: ~/Desktop/H4H/INTERCEPT/NextSeq/batch8_14Jan2020/mixcr/clones/CLONES_TRBCHP_369-02-PBMC-DNA.txt nonproductive removed\n",
      "\n"
     ]
    },
    {
     "name": "stdout",
     "output_type": "stream",
     "text": [
      "[1] 209\n"
     ]
    },
    {
     "name": "stderr",
     "output_type": "stream",
     "text": [
      "Number of CDR3s in: ~/Desktop/H4H/INTERCEPT/NextSeq/batch8_14Jan2020/mixcr/clones/CLONES_TRBCHP_370-03-PBMC-DNA.txt\n",
      "\n"
     ]
    },
    {
     "name": "stdout",
     "output_type": "stream",
     "text": [
      "[1] 386\n"
     ]
    },
    {
     "name": "stderr",
     "output_type": "stream",
     "text": [
      "Number of CDR3s in: ~/Desktop/H4H/INTERCEPT/NextSeq/batch8_14Jan2020/mixcr/clones/CLONES_TRBCHP_370-03-PBMC-DNA.txt nonproductive removed\n",
      "\n"
     ]
    },
    {
     "name": "stdout",
     "output_type": "stream",
     "text": [
      "[1] 295\n"
     ]
    },
    {
     "name": "stderr",
     "output_type": "stream",
     "text": [
      "Number of CDR3s in: ~/Desktop/H4H/INTERCEPT/NextSeq/batch8_14Jan2020/mixcr/clones/CLONES_TRBCHP_371-01-PBMC-DNA.txt\n",
      "\n"
     ]
    },
    {
     "name": "stdout",
     "output_type": "stream",
     "text": [
      "[1] 0\n"
     ]
    },
    {
     "name": "stderr",
     "output_type": "stream",
     "text": [
      "Number of CDR3s in: ~/Desktop/H4H/INTERCEPT/NextSeq/batch8_14Jan2020/mixcr/clones/CLONES_TRBCHP_371-01-PBMC-DNA.txt nonproductive removed\n",
      "\n"
     ]
    },
    {
     "name": "stdout",
     "output_type": "stream",
     "text": [
      "[1] 0\n"
     ]
    },
    {
     "name": "stderr",
     "output_type": "stream",
     "text": [
      "Number of CDR3s in: ~/Desktop/H4H/INTERCEPT/NextSeq/batch8_14Jan2020/mixcr/clones/CLONES_TRBCHP_373-03-PBMC-DNA.txt\n",
      "\n"
     ]
    },
    {
     "name": "stdout",
     "output_type": "stream",
     "text": [
      "[1] 94\n"
     ]
    },
    {
     "name": "stderr",
     "output_type": "stream",
     "text": [
      "Number of CDR3s in: ~/Desktop/H4H/INTERCEPT/NextSeq/batch8_14Jan2020/mixcr/clones/CLONES_TRBCHP_373-03-PBMC-DNA.txt nonproductive removed\n",
      "\n"
     ]
    },
    {
     "name": "stdout",
     "output_type": "stream",
     "text": [
      "[1] 65\n"
     ]
    },
    {
     "name": "stderr",
     "output_type": "stream",
     "text": [
      "Number of CDR3s in: ~/Desktop/H4H/INTERCEPT/NextSeq/batch8_14Jan2020/mixcr/clones/CLONES_TRBCHP_378-04-PBMC-DNA.txt\n",
      "\n"
     ]
    },
    {
     "name": "stdout",
     "output_type": "stream",
     "text": [
      "[1] 369\n"
     ]
    },
    {
     "name": "stderr",
     "output_type": "stream",
     "text": [
      "Number of CDR3s in: ~/Desktop/H4H/INTERCEPT/NextSeq/batch8_14Jan2020/mixcr/clones/CLONES_TRBCHP_378-04-PBMC-DNA.txt nonproductive removed\n",
      "\n"
     ]
    },
    {
     "name": "stdout",
     "output_type": "stream",
     "text": [
      "[1] 274\n"
     ]
    },
    {
     "name": "stderr",
     "output_type": "stream",
     "text": [
      "Number of CDR3s in: ~/Desktop/H4H/INTERCEPT/NextSeq/batch8_14Jan2020/mixcr/clones/CLONES_TRBCHP_380-03-PBMC-DNA.txt\n",
      "\n"
     ]
    },
    {
     "name": "stdout",
     "output_type": "stream",
     "text": [
      "[1] 86\n"
     ]
    },
    {
     "name": "stderr",
     "output_type": "stream",
     "text": [
      "Number of CDR3s in: ~/Desktop/H4H/INTERCEPT/NextSeq/batch8_14Jan2020/mixcr/clones/CLONES_TRBCHP_380-03-PBMC-DNA.txt nonproductive removed\n",
      "\n"
     ]
    },
    {
     "name": "stdout",
     "output_type": "stream",
     "text": [
      "[1] 67\n"
     ]
    },
    {
     "name": "stderr",
     "output_type": "stream",
     "text": [
      "Number of CDR3s in: ~/Desktop/H4H/INTERCEPT/NextSeq/batch8_14Jan2020/mixcr/clones/CLONES_TRBCHP_380-05-PBMC-DNA.txt\n",
      "\n"
     ]
    },
    {
     "name": "stdout",
     "output_type": "stream",
     "text": [
      "[1] 77\n"
     ]
    },
    {
     "name": "stderr",
     "output_type": "stream",
     "text": [
      "Number of CDR3s in: ~/Desktop/H4H/INTERCEPT/NextSeq/batch8_14Jan2020/mixcr/clones/CLONES_TRBCHP_380-05-PBMC-DNA.txt nonproductive removed\n",
      "\n"
     ]
    },
    {
     "name": "stdout",
     "output_type": "stream",
     "text": [
      "[1] 62\n"
     ]
    },
    {
     "name": "stderr",
     "output_type": "stream",
     "text": [
      "Number of CDR3s in: ~/Desktop/H4H/INTERCEPT/NextSeq/batch8_14Jan2020/mixcr/clones/CLONES_TRBCHP_382-02-PBMC-DNA.txt\n",
      "\n"
     ]
    },
    {
     "name": "stdout",
     "output_type": "stream",
     "text": [
      "[1] 27\n"
     ]
    },
    {
     "name": "stderr",
     "output_type": "stream",
     "text": [
      "Number of CDR3s in: ~/Desktop/H4H/INTERCEPT/NextSeq/batch8_14Jan2020/mixcr/clones/CLONES_TRBCHP_382-02-PBMC-DNA.txt nonproductive removed\n",
      "\n"
     ]
    },
    {
     "name": "stdout",
     "output_type": "stream",
     "text": [
      "[1] 22\n"
     ]
    },
    {
     "name": "stderr",
     "output_type": "stream",
     "text": [
      "Number of CDR3s in: ~/Desktop/H4H/INTERCEPT/NextSeq/batch8_14Jan2020/mixcr/clones/CLONES_TRBCHP_383-03-PBMC-DNA.txt\n",
      "\n"
     ]
    },
    {
     "name": "stdout",
     "output_type": "stream",
     "text": [
      "[1] 3\n"
     ]
    },
    {
     "name": "stderr",
     "output_type": "stream",
     "text": [
      "Number of CDR3s in: ~/Desktop/H4H/INTERCEPT/NextSeq/batch8_14Jan2020/mixcr/clones/CLONES_TRBCHP_383-03-PBMC-DNA.txt nonproductive removed\n",
      "\n"
     ]
    },
    {
     "name": "stdout",
     "output_type": "stream",
     "text": [
      "[1] 2\n"
     ]
    },
    {
     "name": "stderr",
     "output_type": "stream",
     "text": [
      "Number of CDR3s in: ~/Desktop/H4H/INTERCEPT/NextSeq/batch8_14Jan2020/mixcr/clones/CLONES_TRBCHP_385-03-PBMC-DNA.txt\n",
      "\n"
     ]
    },
    {
     "name": "stdout",
     "output_type": "stream",
     "text": [
      "[1] 6\n"
     ]
    },
    {
     "name": "stderr",
     "output_type": "stream",
     "text": [
      "Number of CDR3s in: ~/Desktop/H4H/INTERCEPT/NextSeq/batch8_14Jan2020/mixcr/clones/CLONES_TRBCHP_385-03-PBMC-DNA.txt nonproductive removed\n",
      "\n"
     ]
    },
    {
     "name": "stdout",
     "output_type": "stream",
     "text": [
      "[1] 3\n"
     ]
    },
    {
     "name": "stderr",
     "output_type": "stream",
     "text": [
      "Number of CDR3s in: ~/Desktop/H4H/INTERCEPT/NextSeq/batch8_14Jan2020/mixcr/clones/CLONES_TRBCHP_386-02-PBMC-DNA.txt\n",
      "\n"
     ]
    },
    {
     "name": "stdout",
     "output_type": "stream",
     "text": [
      "[1] 43\n"
     ]
    },
    {
     "name": "stderr",
     "output_type": "stream",
     "text": [
      "Number of CDR3s in: ~/Desktop/H4H/INTERCEPT/NextSeq/batch8_14Jan2020/mixcr/clones/CLONES_TRBCHP_386-02-PBMC-DNA.txt nonproductive removed\n",
      "\n"
     ]
    },
    {
     "name": "stdout",
     "output_type": "stream",
     "text": [
      "[1] 32\n"
     ]
    },
    {
     "name": "stderr",
     "output_type": "stream",
     "text": [
      "Number of CDR3s in: ~/Desktop/H4H/INTERCEPT/NextSeq/batch8_14Jan2020/mixcr/clones/CLONES_TRBCHP_387-01-PBMC-DNA.txt\n",
      "\n"
     ]
    },
    {
     "name": "stdout",
     "output_type": "stream",
     "text": [
      "[1] 361\n"
     ]
    },
    {
     "name": "stderr",
     "output_type": "stream",
     "text": [
      "Number of CDR3s in: ~/Desktop/H4H/INTERCEPT/NextSeq/batch8_14Jan2020/mixcr/clones/CLONES_TRBCHP_387-01-PBMC-DNA.txt nonproductive removed\n",
      "\n"
     ]
    },
    {
     "name": "stdout",
     "output_type": "stream",
     "text": [
      "[1] 279\n"
     ]
    },
    {
     "name": "stderr",
     "output_type": "stream",
     "text": [
      "Number of CDR3s in: ~/Desktop/H4H/INTERCEPT/NextSeq/batch8_14Jan2020/mixcr/clones/CLONES_TRBCHP_394-01-PBMC-DNA.txt\n",
      "\n"
     ]
    },
    {
     "name": "stdout",
     "output_type": "stream",
     "text": [
      "[1] 1\n"
     ]
    },
    {
     "name": "stderr",
     "output_type": "stream",
     "text": [
      "Number of CDR3s in: ~/Desktop/H4H/INTERCEPT/NextSeq/batch8_14Jan2020/mixcr/clones/CLONES_TRBCHP_394-01-PBMC-DNA.txt nonproductive removed\n",
      "\n"
     ]
    },
    {
     "name": "stdout",
     "output_type": "stream",
     "text": [
      "[1] 1\n"
     ]
    },
    {
     "name": "stderr",
     "output_type": "stream",
     "text": [
      "Number of CDR3s in: ~/Desktop/H4H/INTERCEPT/NextSeq/batch8_14Jan2020/mixcr/clones/CLONES_TRBCHP_394-04-PBMC-DNA.txt\n",
      "\n"
     ]
    },
    {
     "name": "stdout",
     "output_type": "stream",
     "text": [
      "[1] 112\n"
     ]
    },
    {
     "name": "stderr",
     "output_type": "stream",
     "text": [
      "Number of CDR3s in: ~/Desktop/H4H/INTERCEPT/NextSeq/batch8_14Jan2020/mixcr/clones/CLONES_TRBCHP_394-04-PBMC-DNA.txt nonproductive removed\n",
      "\n"
     ]
    },
    {
     "name": "stdout",
     "output_type": "stream",
     "text": [
      "[1] 91\n"
     ]
    },
    {
     "name": "stderr",
     "output_type": "stream",
     "text": [
      "Number of CDR3s in: ~/Desktop/H4H/INTERCEPT/NextSeq/batch8_14Jan2020/mixcr/clones/CLONES_TRBCHP_396-01-PBMC-DNA.txt\n",
      "\n"
     ]
    },
    {
     "name": "stdout",
     "output_type": "stream",
     "text": [
      "[1] 420\n"
     ]
    },
    {
     "name": "stderr",
     "output_type": "stream",
     "text": [
      "Number of CDR3s in: ~/Desktop/H4H/INTERCEPT/NextSeq/batch8_14Jan2020/mixcr/clones/CLONES_TRBCHP_396-01-PBMC-DNA.txt nonproductive removed\n",
      "\n"
     ]
    },
    {
     "name": "stdout",
     "output_type": "stream",
     "text": [
      "[1] 312\n"
     ]
    },
    {
     "name": "stderr",
     "output_type": "stream",
     "text": [
      "Number of CDR3s in: ~/Desktop/H4H/INTERCEPT/NextSeq/batch8_14Jan2020/mixcr/clones/CLONES_TRBCHP_396-02-PBMC-DNA.txt\n",
      "\n"
     ]
    },
    {
     "name": "stdout",
     "output_type": "stream",
     "text": [
      "[1] 438\n"
     ]
    },
    {
     "name": "stderr",
     "output_type": "stream",
     "text": [
      "Number of CDR3s in: ~/Desktop/H4H/INTERCEPT/NextSeq/batch8_14Jan2020/mixcr/clones/CLONES_TRBCHP_396-02-PBMC-DNA.txt nonproductive removed\n",
      "\n"
     ]
    },
    {
     "name": "stdout",
     "output_type": "stream",
     "text": [
      "[1] 331\n"
     ]
    },
    {
     "name": "stderr",
     "output_type": "stream",
     "text": [
      "Number of CDR3s in: ~/Desktop/H4H/INTERCEPT/NextSeq/batch8_14Jan2020/mixcr/clones/CLONES_TRBCHP_397-01-PBMC-DNA.txt\n",
      "\n"
     ]
    },
    {
     "name": "stdout",
     "output_type": "stream",
     "text": [
      "[1] 251\n"
     ]
    },
    {
     "name": "stderr",
     "output_type": "stream",
     "text": [
      "Number of CDR3s in: ~/Desktop/H4H/INTERCEPT/NextSeq/batch8_14Jan2020/mixcr/clones/CLONES_TRBCHP_397-01-PBMC-DNA.txt nonproductive removed\n",
      "\n"
     ]
    },
    {
     "name": "stdout",
     "output_type": "stream",
     "text": [
      "[1] 175\n"
     ]
    },
    {
     "name": "stderr",
     "output_type": "stream",
     "text": [
      "Number of CDR3s in: ~/Desktop/H4H/INTERCEPT/NextSeq/batch8_14Jan2020/mixcr/clones/CLONES_TRBCHP_399-01-PBMC-DNA.txt\n",
      "\n"
     ]
    },
    {
     "name": "stdout",
     "output_type": "stream",
     "text": [
      "[1] 42\n"
     ]
    },
    {
     "name": "stderr",
     "output_type": "stream",
     "text": [
      "Number of CDR3s in: ~/Desktop/H4H/INTERCEPT/NextSeq/batch8_14Jan2020/mixcr/clones/CLONES_TRBCHP_399-01-PBMC-DNA.txt nonproductive removed\n",
      "\n"
     ]
    },
    {
     "name": "stdout",
     "output_type": "stream",
     "text": [
      "[1] 31\n"
     ]
    },
    {
     "name": "stderr",
     "output_type": "stream",
     "text": [
      "Number of CDR3s in: ~/Desktop/H4H/INTERCEPT/NextSeq/batchFFPE_3Apr2020/mixcr/clones/CLONES_TRBCHP_343_B-FFPE-DNA.txt\n",
      "\n"
     ]
    },
    {
     "name": "stdout",
     "output_type": "stream",
     "text": [
      "[1] 0\n"
     ]
    },
    {
     "name": "stderr",
     "output_type": "stream",
     "text": [
      "Number of CDR3s in: ~/Desktop/H4H/INTERCEPT/NextSeq/batchFFPE_3Apr2020/mixcr/clones/CLONES_TRBCHP_343_B-FFPE-DNA.txt nonproductive removed\n",
      "\n"
     ]
    },
    {
     "name": "stdout",
     "output_type": "stream",
     "text": [
      "[1] 0\n"
     ]
    },
    {
     "name": "stderr",
     "output_type": "stream",
     "text": [
      "Number of CDR3s in: ~/Desktop/H4H/INTERCEPT/NextSeq/batchFFPE_3Apr2020/mixcr/clones/CLONES_TRBCHP_344_A-FFPE-DNA.txt\n",
      "\n"
     ]
    },
    {
     "name": "stdout",
     "output_type": "stream",
     "text": [
      "[1] 7\n"
     ]
    },
    {
     "name": "stderr",
     "output_type": "stream",
     "text": [
      "Number of CDR3s in: ~/Desktop/H4H/INTERCEPT/NextSeq/batchFFPE_3Apr2020/mixcr/clones/CLONES_TRBCHP_344_A-FFPE-DNA.txt nonproductive removed\n",
      "\n"
     ]
    },
    {
     "name": "stdout",
     "output_type": "stream",
     "text": [
      "[1] 6\n"
     ]
    },
    {
     "name": "stderr",
     "output_type": "stream",
     "text": [
      "Number of CDR3s in: ~/Desktop/H4H/INTERCEPT/NextSeq/batchFFPE_3Apr2020/mixcr/clones/CLONES_TRBCHP_344_B-FFPE-DNA.txt\n",
      "\n"
     ]
    },
    {
     "name": "stdout",
     "output_type": "stream",
     "text": [
      "[1] 0\n"
     ]
    },
    {
     "name": "stderr",
     "output_type": "stream",
     "text": [
      "Number of CDR3s in: ~/Desktop/H4H/INTERCEPT/NextSeq/batchFFPE_3Apr2020/mixcr/clones/CLONES_TRBCHP_344_B-FFPE-DNA.txt nonproductive removed\n",
      "\n"
     ]
    },
    {
     "name": "stdout",
     "output_type": "stream",
     "text": [
      "[1] 0\n"
     ]
    },
    {
     "name": "stderr",
     "output_type": "stream",
     "text": [
      "Number of CDR3s in: ~/Desktop/H4H/INTERCEPT/NextSeq/batchFFPE_3Apr2020/mixcr/clones/CLONES_TRBCHP_348-FFPE-DNA_S6.txt\n",
      "\n"
     ]
    },
    {
     "name": "stdout",
     "output_type": "stream",
     "text": [
      "[1] 0\n"
     ]
    },
    {
     "name": "stderr",
     "output_type": "stream",
     "text": [
      "Number of CDR3s in: ~/Desktop/H4H/INTERCEPT/NextSeq/batchFFPE_3Apr2020/mixcr/clones/CLONES_TRBCHP_348-FFPE-DNA_S6.txt nonproductive removed\n",
      "\n"
     ]
    },
    {
     "name": "stdout",
     "output_type": "stream",
     "text": [
      "[1] 0\n"
     ]
    },
    {
     "name": "stderr",
     "output_type": "stream",
     "text": [
      "Number of CDR3s in: ~/Desktop/H4H/INTERCEPT/NextSeq/batchFFPE_3Apr2020/mixcr/clones/CLONES_TRBCHP_361-FFPE-DNA_S1.txt\n",
      "\n"
     ]
    },
    {
     "name": "stdout",
     "output_type": "stream",
     "text": [
      "[1] 173\n"
     ]
    },
    {
     "name": "stderr",
     "output_type": "stream",
     "text": [
      "Number of CDR3s in: ~/Desktop/H4H/INTERCEPT/NextSeq/batchFFPE_3Apr2020/mixcr/clones/CLONES_TRBCHP_361-FFPE-DNA_S1.txt nonproductive removed\n",
      "\n"
     ]
    },
    {
     "name": "stdout",
     "output_type": "stream",
     "text": [
      "[1] 145\n"
     ]
    },
    {
     "name": "stderr",
     "output_type": "stream",
     "text": [
      "Number of CDR3s in: ~/Desktop/H4H/INTERCEPT/NextSeq/batchFFPE_3Apr2020/mixcr/clones/CLONES_TRBCHP_364-FFPE-DNA_S1.txt\n",
      "\n"
     ]
    },
    {
     "name": "stdout",
     "output_type": "stream",
     "text": [
      "[1] 15\n"
     ]
    },
    {
     "name": "stderr",
     "output_type": "stream",
     "text": [
      "Number of CDR3s in: ~/Desktop/H4H/INTERCEPT/NextSeq/batchFFPE_3Apr2020/mixcr/clones/CLONES_TRBCHP_364-FFPE-DNA_S1.txt nonproductive removed\n",
      "\n"
     ]
    },
    {
     "name": "stdout",
     "output_type": "stream",
     "text": [
      "[1] 10\n"
     ]
    },
    {
     "name": "stderr",
     "output_type": "stream",
     "text": [
      "Number of CDR3s in: ~/Desktop/H4H/INTERCEPT/NextSeq/batchFFPE_3Apr2020/mixcr/clones/CLONES_TRBCHP_366-FFPE-DNA_S1.txt\n",
      "\n"
     ]
    },
    {
     "name": "stdout",
     "output_type": "stream",
     "text": [
      "[1] 9\n"
     ]
    },
    {
     "name": "stderr",
     "output_type": "stream",
     "text": [
      "Number of CDR3s in: ~/Desktop/H4H/INTERCEPT/NextSeq/batchFFPE_3Apr2020/mixcr/clones/CLONES_TRBCHP_366-FFPE-DNA_S1.txt nonproductive removed\n",
      "\n"
     ]
    },
    {
     "name": "stdout",
     "output_type": "stream",
     "text": [
      "[1] 8\n"
     ]
    },
    {
     "name": "stderr",
     "output_type": "stream",
     "text": [
      "Number of CDR3s in: ~/Desktop/H4H/INTERCEPT/NextSeq/batchFFPE_3Apr2020/mixcr/clones/CLONES_TRBCHP_370-FFPE-DNA_S5.txt\n",
      "\n"
     ]
    },
    {
     "name": "stdout",
     "output_type": "stream",
     "text": [
      "[1] 5\n"
     ]
    },
    {
     "name": "stderr",
     "output_type": "stream",
     "text": [
      "Number of CDR3s in: ~/Desktop/H4H/INTERCEPT/NextSeq/batchFFPE_3Apr2020/mixcr/clones/CLONES_TRBCHP_370-FFPE-DNA_S5.txt nonproductive removed\n",
      "\n"
     ]
    },
    {
     "name": "stdout",
     "output_type": "stream",
     "text": [
      "[1] 5\n"
     ]
    },
    {
     "name": "stderr",
     "output_type": "stream",
     "text": [
      "Number of CDR3s in: ~/Desktop/H4H/INTERCEPT/NextSeq/batchFFPE_3Apr2020/mixcr/clones/CLONES_TRBCHP_372-FFPE-DNA_S1.txt\n",
      "\n"
     ]
    },
    {
     "name": "stdout",
     "output_type": "stream",
     "text": [
      "[1] 13\n"
     ]
    },
    {
     "name": "stderr",
     "output_type": "stream",
     "text": [
      "Number of CDR3s in: ~/Desktop/H4H/INTERCEPT/NextSeq/batchFFPE_3Apr2020/mixcr/clones/CLONES_TRBCHP_372-FFPE-DNA_S1.txt nonproductive removed\n",
      "\n"
     ]
    },
    {
     "name": "stdout",
     "output_type": "stream",
     "text": [
      "[1] 9\n"
     ]
    },
    {
     "name": "stderr",
     "output_type": "stream",
     "text": [
      "Number of CDR3s in: ~/Desktop/H4H/INTERCEPT/NextSeq/batchFFPE_3Apr2020/mixcr/clones/CLONES_TRBCHP_380-FFPE-DNA_S1.txt\n",
      "\n"
     ]
    },
    {
     "name": "stdout",
     "output_type": "stream",
     "text": [
      "[1] 131\n"
     ]
    },
    {
     "name": "stderr",
     "output_type": "stream",
     "text": [
      "Number of CDR3s in: ~/Desktop/H4H/INTERCEPT/NextSeq/batchFFPE_3Apr2020/mixcr/clones/CLONES_TRBCHP_380-FFPE-DNA_S1.txt nonproductive removed\n",
      "\n"
     ]
    },
    {
     "name": "stdout",
     "output_type": "stream",
     "text": [
      "[1] 102\n"
     ]
    },
    {
     "name": "stderr",
     "output_type": "stream",
     "text": [
      "Number of CDR3s in: ~/Desktop/H4H/INTERCEPT/NextSeq/batchFFPE_3Apr2020/mixcr/clones/CLONES_TRBCHP_389-FFPE-DNA_S1.txt\n",
      "\n"
     ]
    },
    {
     "name": "stdout",
     "output_type": "stream",
     "text": [
      "[1] 139\n"
     ]
    },
    {
     "name": "stderr",
     "output_type": "stream",
     "text": [
      "Number of CDR3s in: ~/Desktop/H4H/INTERCEPT/NextSeq/batchFFPE_3Apr2020/mixcr/clones/CLONES_TRBCHP_389-FFPE-DNA_S1.txt nonproductive removed\n",
      "\n"
     ]
    },
    {
     "name": "stdout",
     "output_type": "stream",
     "text": [
      "[1] 96\n"
     ]
    },
    {
     "name": "stderr",
     "output_type": "stream",
     "text": [
      "Number of CDR3s in: ~/Desktop/H4H/INTERCEPT/NextSeq/batchFFPE_3Apr2020/mixcr/clones/CLONES_TRBCHP_390-FFPE-DNA_S9.txt\n",
      "\n"
     ]
    },
    {
     "name": "stdout",
     "output_type": "stream",
     "text": [
      "[1] 3\n"
     ]
    },
    {
     "name": "stderr",
     "output_type": "stream",
     "text": [
      "Number of CDR3s in: ~/Desktop/H4H/INTERCEPT/NextSeq/batchFFPE_3Apr2020/mixcr/clones/CLONES_TRBCHP_390-FFPE-DNA_S9.txt nonproductive removed\n",
      "\n"
     ]
    },
    {
     "name": "stdout",
     "output_type": "stream",
     "text": [
      "[1] 2\n"
     ]
    },
    {
     "name": "stderr",
     "output_type": "stream",
     "text": [
      "Number of CDR3s in: ~/Desktop/H4H/INTERCEPT/NextSeq/batchFFPE_3Apr2020/mixcr/clones/CLONES_TRBCHP_394-FFPE-DNA_S4.txt\n",
      "\n"
     ]
    },
    {
     "name": "stdout",
     "output_type": "stream",
     "text": [
      "[1] 3\n"
     ]
    },
    {
     "name": "stderr",
     "output_type": "stream",
     "text": [
      "Number of CDR3s in: ~/Desktop/H4H/INTERCEPT/NextSeq/batchFFPE_3Apr2020/mixcr/clones/CLONES_TRBCHP_394-FFPE-DNA_S4.txt nonproductive removed\n",
      "\n"
     ]
    },
    {
     "name": "stdout",
     "output_type": "stream",
     "text": [
      "[1] 3\n"
     ]
    },
    {
     "name": "stderr",
     "output_type": "stream",
     "text": [
      "Number of CDR3s in: ~/Desktop/H4H/INTERCEPT/NextSeq/batchFFPE_3Apr2020/mixcr/clones/CLONES_TRBCHP_400-FFPE-DNA_S1.txt\n",
      "\n"
     ]
    },
    {
     "name": "stdout",
     "output_type": "stream",
     "text": [
      "[1] 100\n"
     ]
    },
    {
     "name": "stderr",
     "output_type": "stream",
     "text": [
      "Number of CDR3s in: ~/Desktop/H4H/INTERCEPT/NextSeq/batchFFPE_3Apr2020/mixcr/clones/CLONES_TRBCHP_400-FFPE-DNA_S1.txt nonproductive removed\n",
      "\n"
     ]
    },
    {
     "name": "stdout",
     "output_type": "stream",
     "text": [
      "[1] 75\n"
     ]
    },
    {
     "name": "stderr",
     "output_type": "stream",
     "text": [
      "Number of CDR3s in: ~/Desktop/H4H/INTERCEPT/NextSeq/batchFFPE_3Apr2020/mixcr/clones/CLONES_TRBCHP_401-FFPE-DNA_S1.txt\n",
      "\n"
     ]
    },
    {
     "name": "stdout",
     "output_type": "stream",
     "text": [
      "[1] 13\n"
     ]
    },
    {
     "name": "stderr",
     "output_type": "stream",
     "text": [
      "Number of CDR3s in: ~/Desktop/H4H/INTERCEPT/NextSeq/batchFFPE_3Apr2020/mixcr/clones/CLONES_TRBCHP_401-FFPE-DNA_S1.txt nonproductive removed\n",
      "\n"
     ]
    },
    {
     "name": "stdout",
     "output_type": "stream",
     "text": [
      "[1] 12\n"
     ]
    },
    {
     "name": "stderr",
     "output_type": "stream",
     "text": [
      "Number of CDR3s in: ~/Desktop/H4H/INTERCEPT/NextSeq/batchFFPE_3Apr2020/mixcr/clones/CLONES_TRBCHP_404_A-FFPE-DNA.txt\n",
      "\n"
     ]
    },
    {
     "name": "stdout",
     "output_type": "stream",
     "text": [
      "[1] 13\n"
     ]
    },
    {
     "name": "stderr",
     "output_type": "stream",
     "text": [
      "Number of CDR3s in: ~/Desktop/H4H/INTERCEPT/NextSeq/batchFFPE_3Apr2020/mixcr/clones/CLONES_TRBCHP_404_A-FFPE-DNA.txt nonproductive removed\n",
      "\n"
     ]
    },
    {
     "name": "stdout",
     "output_type": "stream",
     "text": [
      "[1] 10\n"
     ]
    },
    {
     "name": "stderr",
     "output_type": "stream",
     "text": [
      "Number of CDR3s in: ~/Desktop/H4H/INTERCEPT/NextSeq/batchFFPE_3Apr2020/mixcr/clones/CLONES_TRBCHP_404_B-FFPE-DNA.txt\n",
      "\n"
     ]
    },
    {
     "name": "stdout",
     "output_type": "stream",
     "text": [
      "[1] 10\n"
     ]
    },
    {
     "name": "stderr",
     "output_type": "stream",
     "text": [
      "Number of CDR3s in: ~/Desktop/H4H/INTERCEPT/NextSeq/batchFFPE_3Apr2020/mixcr/clones/CLONES_TRBCHP_404_B-FFPE-DNA.txt nonproductive removed\n",
      "\n"
     ]
    },
    {
     "name": "stdout",
     "output_type": "stream",
     "text": [
      "[1] 9\n"
     ]
    },
    {
     "name": "stderr",
     "output_type": "stream",
     "text": [
      "Number of CDR3s in: ~/Desktop/H4H/INTERCEPT/NextSeq/batchFFPE_3Apr2020/mixcr/clones/CLONES_TRBCHP_407-FFPE-DNA_S7.txt\n",
      "\n"
     ]
    },
    {
     "name": "stdout",
     "output_type": "stream",
     "text": [
      "[1] 6\n"
     ]
    },
    {
     "name": "stderr",
     "output_type": "stream",
     "text": [
      "Number of CDR3s in: ~/Desktop/H4H/INTERCEPT/NextSeq/batchFFPE_3Apr2020/mixcr/clones/CLONES_TRBCHP_407-FFPE-DNA_S7.txt nonproductive removed\n",
      "\n"
     ]
    },
    {
     "name": "stdout",
     "output_type": "stream",
     "text": [
      "[1] 5\n"
     ]
    },
    {
     "name": "stderr",
     "output_type": "stream",
     "text": [
      "Number of CDR3s in: ~/Desktop/H4H/INTERCEPT/NextSeq/batchFFPE_3Apr2020/mixcr/clones/CLONES_TRBCHP_412-FFPE-DNA_S1.txt\n",
      "\n"
     ]
    },
    {
     "name": "stdout",
     "output_type": "stream",
     "text": [
      "[1] 178\n"
     ]
    },
    {
     "name": "stderr",
     "output_type": "stream",
     "text": [
      "Number of CDR3s in: ~/Desktop/H4H/INTERCEPT/NextSeq/batchFFPE_3Apr2020/mixcr/clones/CLONES_TRBCHP_412-FFPE-DNA_S1.txt nonproductive removed\n",
      "\n"
     ]
    },
    {
     "name": "stdout",
     "output_type": "stream",
     "text": [
      "[1] 139\n"
     ]
    },
    {
     "name": "stderr",
     "output_type": "stream",
     "text": [
      "Number of CDR3s in: ~/Desktop/H4H/INTERCEPT/NextSeq/batchFFPE_3Apr2020/mixcr/clones/CLONES_TRBCHP_418-FFPE-DNA_S2.txt\n",
      "\n"
     ]
    },
    {
     "name": "stdout",
     "output_type": "stream",
     "text": [
      "[1] 6\n"
     ]
    },
    {
     "name": "stderr",
     "output_type": "stream",
     "text": [
      "Number of CDR3s in: ~/Desktop/H4H/INTERCEPT/NextSeq/batchFFPE_3Apr2020/mixcr/clones/CLONES_TRBCHP_418-FFPE-DNA_S2.txt nonproductive removed\n",
      "\n"
     ]
    },
    {
     "name": "stdout",
     "output_type": "stream",
     "text": [
      "[1] 5\n"
     ]
    },
    {
     "name": "stderr",
     "output_type": "stream",
     "text": [
      "Number of CDR3s in: ~/Desktop/H4H/INTERCEPT/NextSeq/batchFFPE_3Apr2020/mixcr/clones/CLONES_TRBCHP_419-FFPE-DNA_S2.txt\n",
      "\n"
     ]
    },
    {
     "name": "stdout",
     "output_type": "stream",
     "text": [
      "[1] 1\n"
     ]
    },
    {
     "name": "stderr",
     "output_type": "stream",
     "text": [
      "Number of CDR3s in: ~/Desktop/H4H/INTERCEPT/NextSeq/batchFFPE_3Apr2020/mixcr/clones/CLONES_TRBCHP_419-FFPE-DNA_S2.txt nonproductive removed\n",
      "\n"
     ]
    },
    {
     "name": "stdout",
     "output_type": "stream",
     "text": [
      "[1] 0\n"
     ]
    },
    {
     "name": "stderr",
     "output_type": "stream",
     "text": [
      "Number of CDR3s in: ~/Desktop/H4H/INTERCEPT/NextSeq/batchNormal_16Apr2020/mixcr/clones/CLONES_TRBCHP_10YO-M_PBMC_DNA.txt\n",
      "\n"
     ]
    },
    {
     "name": "stdout",
     "output_type": "stream",
     "text": [
      "[1] 22\n"
     ]
    },
    {
     "name": "stderr",
     "output_type": "stream",
     "text": [
      "Number of CDR3s in: ~/Desktop/H4H/INTERCEPT/NextSeq/batchNormal_16Apr2020/mixcr/clones/CLONES_TRBCHP_10YO-M_PBMC_DNA.txt nonproductive removed\n",
      "\n"
     ]
    },
    {
     "name": "stdout",
     "output_type": "stream",
     "text": [
      "[1] 19\n"
     ]
    },
    {
     "name": "stderr",
     "output_type": "stream",
     "text": [
      "Number of CDR3s in: ~/Desktop/H4H/INTERCEPT/NextSeq/batchNormal_16Apr2020/mixcr/clones/CLONES_TRBCHP_11YO-M_PBMC_DNA.txt\n",
      "\n"
     ]
    },
    {
     "name": "stdout",
     "output_type": "stream",
     "text": [
      "[1] 21\n"
     ]
    },
    {
     "name": "stderr",
     "output_type": "stream",
     "text": [
      "Number of CDR3s in: ~/Desktop/H4H/INTERCEPT/NextSeq/batchNormal_16Apr2020/mixcr/clones/CLONES_TRBCHP_11YO-M_PBMC_DNA.txt nonproductive removed\n",
      "\n"
     ]
    },
    {
     "name": "stdout",
     "output_type": "stream",
     "text": [
      "[1] 16\n"
     ]
    },
    {
     "name": "stderr",
     "output_type": "stream",
     "text": [
      "Number of CDR3s in: ~/Desktop/H4H/INTERCEPT/NextSeq/batchNormal_16Apr2020/mixcr/clones/CLONES_TRBCHP_15YO-F-A_PBMC_DNA.txt\n",
      "\n"
     ]
    },
    {
     "name": "stdout",
     "output_type": "stream",
     "text": [
      "[1] 13\n"
     ]
    },
    {
     "name": "stderr",
     "output_type": "stream",
     "text": [
      "Number of CDR3s in: ~/Desktop/H4H/INTERCEPT/NextSeq/batchNormal_16Apr2020/mixcr/clones/CLONES_TRBCHP_15YO-F-A_PBMC_DNA.txt nonproductive removed\n",
      "\n"
     ]
    },
    {
     "name": "stdout",
     "output_type": "stream",
     "text": [
      "[1] 11\n"
     ]
    },
    {
     "name": "stderr",
     "output_type": "stream",
     "text": [
      "Number of CDR3s in: ~/Desktop/H4H/INTERCEPT/NextSeq/batchNormal_16Apr2020/mixcr/clones/CLONES_TRBCHP_15YO-F-B_PBMC_DNA.txt\n",
      "\n"
     ]
    },
    {
     "name": "stdout",
     "output_type": "stream",
     "text": [
      "[1] 9\n"
     ]
    },
    {
     "name": "stderr",
     "output_type": "stream",
     "text": [
      "Number of CDR3s in: ~/Desktop/H4H/INTERCEPT/NextSeq/batchNormal_16Apr2020/mixcr/clones/CLONES_TRBCHP_15YO-F-B_PBMC_DNA.txt nonproductive removed\n",
      "\n"
     ]
    },
    {
     "name": "stdout",
     "output_type": "stream",
     "text": [
      "[1] 7\n"
     ]
    },
    {
     "name": "stderr",
     "output_type": "stream",
     "text": [
      "Number of CDR3s in: ~/Desktop/H4H/INTERCEPT/NextSeq/batchNormal_16Apr2020/mixcr/clones/CLONES_TRBCHP_15YO-M_PBMC_DNA.txt\n",
      "\n"
     ]
    },
    {
     "name": "stdout",
     "output_type": "stream",
     "text": [
      "[1] 33\n"
     ]
    },
    {
     "name": "stderr",
     "output_type": "stream",
     "text": [
      "Number of CDR3s in: ~/Desktop/H4H/INTERCEPT/NextSeq/batchNormal_16Apr2020/mixcr/clones/CLONES_TRBCHP_15YO-M_PBMC_DNA.txt nonproductive removed\n",
      "\n"
     ]
    },
    {
     "name": "stdout",
     "output_type": "stream",
     "text": [
      "[1] 23\n"
     ]
    },
    {
     "name": "stderr",
     "output_type": "stream",
     "text": [
      "Number of CDR3s in: ~/Desktop/H4H/INTERCEPT/NextSeq/batchNormal_16Apr2020/mixcr/clones/CLONES_TRBCHP_16YO-M_PBMC_DNA.txt\n",
      "\n"
     ]
    },
    {
     "name": "stdout",
     "output_type": "stream",
     "text": [
      "[1] 7\n"
     ]
    },
    {
     "name": "stderr",
     "output_type": "stream",
     "text": [
      "Number of CDR3s in: ~/Desktop/H4H/INTERCEPT/NextSeq/batchNormal_16Apr2020/mixcr/clones/CLONES_TRBCHP_16YO-M_PBMC_DNA.txt nonproductive removed\n",
      "\n"
     ]
    },
    {
     "name": "stdout",
     "output_type": "stream",
     "text": [
      "[1] 4\n"
     ]
    },
    {
     "name": "stderr",
     "output_type": "stream",
     "text": [
      "Number of CDR3s in: ~/Desktop/H4H/INTERCEPT/NextSeq/batchNormal_16Apr2020/mixcr/clones/CLONES_TRBCHP_1YO-M-A_PBMC_DNA.txt\n",
      "\n"
     ]
    },
    {
     "name": "stdout",
     "output_type": "stream",
     "text": [
      "[1] 65\n"
     ]
    },
    {
     "name": "stderr",
     "output_type": "stream",
     "text": [
      "Number of CDR3s in: ~/Desktop/H4H/INTERCEPT/NextSeq/batchNormal_16Apr2020/mixcr/clones/CLONES_TRBCHP_1YO-M-A_PBMC_DNA.txt nonproductive removed\n",
      "\n"
     ]
    },
    {
     "name": "stdout",
     "output_type": "stream",
     "text": [
      "[1] 50\n"
     ]
    },
    {
     "name": "stderr",
     "output_type": "stream",
     "text": [
      "Number of CDR3s in: ~/Desktop/H4H/INTERCEPT/NextSeq/batchNormal_16Apr2020/mixcr/clones/CLONES_TRBCHP_1YO-M-B_PBMC_DNA.txt\n",
      "\n"
     ]
    },
    {
     "name": "stdout",
     "output_type": "stream",
     "text": [
      "[1] 5\n"
     ]
    },
    {
     "name": "stderr",
     "output_type": "stream",
     "text": [
      "Number of CDR3s in: ~/Desktop/H4H/INTERCEPT/NextSeq/batchNormal_16Apr2020/mixcr/clones/CLONES_TRBCHP_1YO-M-B_PBMC_DNA.txt nonproductive removed\n",
      "\n"
     ]
    },
    {
     "name": "stdout",
     "output_type": "stream",
     "text": [
      "[1] 3\n"
     ]
    },
    {
     "name": "stderr",
     "output_type": "stream",
     "text": [
      "Number of CDR3s in: ~/Desktop/H4H/INTERCEPT/NextSeq/batchNormal_16Apr2020/mixcr/clones/CLONES_TRBCHP_2YO-M_PBMC_DNA.txt\n",
      "\n"
     ]
    },
    {
     "name": "stdout",
     "output_type": "stream",
     "text": [
      "[1] 16\n"
     ]
    },
    {
     "name": "stderr",
     "output_type": "stream",
     "text": [
      "Number of CDR3s in: ~/Desktop/H4H/INTERCEPT/NextSeq/batchNormal_16Apr2020/mixcr/clones/CLONES_TRBCHP_2YO-M_PBMC_DNA.txt nonproductive removed\n",
      "\n"
     ]
    },
    {
     "name": "stdout",
     "output_type": "stream",
     "text": [
      "[1] 10\n"
     ]
    },
    {
     "name": "stderr",
     "output_type": "stream",
     "text": [
      "Number of CDR3s in: ~/Desktop/H4H/INTERCEPT/NextSeq/batchNormal_16Apr2020/mixcr/clones/CLONES_TRBCHP_3YO-F_PBMC_DNA.txt\n",
      "\n"
     ]
    },
    {
     "name": "stdout",
     "output_type": "stream",
     "text": [
      "[1] 18\n"
     ]
    },
    {
     "name": "stderr",
     "output_type": "stream",
     "text": [
      "Number of CDR3s in: ~/Desktop/H4H/INTERCEPT/NextSeq/batchNormal_16Apr2020/mixcr/clones/CLONES_TRBCHP_3YO-F_PBMC_DNA.txt nonproductive removed\n",
      "\n"
     ]
    },
    {
     "name": "stdout",
     "output_type": "stream",
     "text": [
      "[1] 13\n"
     ]
    },
    {
     "name": "stderr",
     "output_type": "stream",
     "text": [
      "Number of CDR3s in: ~/Desktop/H4H/INTERCEPT/NextSeq/batchNormal_16Apr2020/mixcr/clones/CLONES_TRBCHP_3YO-M-A_PBMC_DNA.txt\n",
      "\n"
     ]
    },
    {
     "name": "stdout",
     "output_type": "stream",
     "text": [
      "[1] 17\n"
     ]
    },
    {
     "name": "stderr",
     "output_type": "stream",
     "text": [
      "Number of CDR3s in: ~/Desktop/H4H/INTERCEPT/NextSeq/batchNormal_16Apr2020/mixcr/clones/CLONES_TRBCHP_3YO-M-A_PBMC_DNA.txt nonproductive removed\n",
      "\n"
     ]
    },
    {
     "name": "stdout",
     "output_type": "stream",
     "text": [
      "[1] 12\n"
     ]
    },
    {
     "name": "stderr",
     "output_type": "stream",
     "text": [
      "Number of CDR3s in: ~/Desktop/H4H/INTERCEPT/NextSeq/batchNormal_16Apr2020/mixcr/clones/CLONES_TRBCHP_3YO-M-B_PBMC_DNA.txt\n",
      "\n"
     ]
    },
    {
     "name": "stdout",
     "output_type": "stream",
     "text": [
      "[1] 7\n"
     ]
    },
    {
     "name": "stderr",
     "output_type": "stream",
     "text": [
      "Number of CDR3s in: ~/Desktop/H4H/INTERCEPT/NextSeq/batchNormal_16Apr2020/mixcr/clones/CLONES_TRBCHP_3YO-M-B_PBMC_DNA.txt nonproductive removed\n",
      "\n"
     ]
    },
    {
     "name": "stdout",
     "output_type": "stream",
     "text": [
      "[1] 3\n"
     ]
    },
    {
     "name": "stderr",
     "output_type": "stream",
     "text": [
      "Number of CDR3s in: ~/Desktop/H4H/INTERCEPT/NextSeq/batchNormal_16Apr2020/mixcr/clones/CLONES_TRBCHP_5YO-M_PBMC_DNA.txt\n",
      "\n"
     ]
    },
    {
     "name": "stdout",
     "output_type": "stream",
     "text": [
      "[1] 5\n"
     ]
    },
    {
     "name": "stderr",
     "output_type": "stream",
     "text": [
      "Number of CDR3s in: ~/Desktop/H4H/INTERCEPT/NextSeq/batchNormal_16Apr2020/mixcr/clones/CLONES_TRBCHP_5YO-M_PBMC_DNA.txt nonproductive removed\n",
      "\n"
     ]
    },
    {
     "name": "stdout",
     "output_type": "stream",
     "text": [
      "[1] 4\n"
     ]
    },
    {
     "name": "stderr",
     "output_type": "stream",
     "text": [
      "Number of CDR3s in: ~/Desktop/H4H/INTERCEPT/NextSeq/batchNormal_16Apr2020/mixcr/clones/CLONES_TRBCHP_8MO-F_PBMC_DNA.txt\n",
      "\n"
     ]
    },
    {
     "name": "stdout",
     "output_type": "stream",
     "text": [
      "[1] 25\n"
     ]
    },
    {
     "name": "stderr",
     "output_type": "stream",
     "text": [
      "Number of CDR3s in: ~/Desktop/H4H/INTERCEPT/NextSeq/batchNormal_16Apr2020/mixcr/clones/CLONES_TRBCHP_8MO-F_PBMC_DNA.txt nonproductive removed\n",
      "\n"
     ]
    },
    {
     "name": "stdout",
     "output_type": "stream",
     "text": [
      "[1] 18\n"
     ]
    },
    {
     "name": "stderr",
     "output_type": "stream",
     "text": [
      "Number of CDR3s in: ~/Desktop/H4H/INTERCEPT/NextSeq/cfDNA_Matched_Priority_Pool1_19Nov2021/mixcr/clones/CLONES_TRBCHP_371-05_cfDNA.txt\n",
      "\n"
     ]
    },
    {
     "name": "stdout",
     "output_type": "stream",
     "text": [
      "[1] 4\n"
     ]
    },
    {
     "name": "stderr",
     "output_type": "stream",
     "text": [
      "Number of CDR3s in: ~/Desktop/H4H/INTERCEPT/NextSeq/cfDNA_Matched_Priority_Pool1_19Nov2021/mixcr/clones/CLONES_TRBCHP_371-05_cfDNA.txt nonproductive removed\n",
      "\n"
     ]
    },
    {
     "name": "stdout",
     "output_type": "stream",
     "text": [
      "[1] 3\n"
     ]
    },
    {
     "name": "stderr",
     "output_type": "stream",
     "text": [
      "Number of CDR3s in: ~/Desktop/H4H/INTERCEPT/NextSeq/cfDNA_Matched_Priority_Pool1_19Nov2021/mixcr/clones/CLONES_TRBCHP_380-03_cfDNA.txt\n",
      "\n"
     ]
    },
    {
     "name": "stdout",
     "output_type": "stream",
     "text": [
      "[1] 2\n"
     ]
    },
    {
     "name": "stderr",
     "output_type": "stream",
     "text": [
      "Number of CDR3s in: ~/Desktop/H4H/INTERCEPT/NextSeq/cfDNA_Matched_Priority_Pool1_19Nov2021/mixcr/clones/CLONES_TRBCHP_380-03_cfDNA.txt nonproductive removed\n",
      "\n"
     ]
    },
    {
     "name": "stdout",
     "output_type": "stream",
     "text": [
      "[1] 2\n"
     ]
    },
    {
     "name": "stderr",
     "output_type": "stream",
     "text": [
      "Number of CDR3s in: ~/Desktop/H4H/INTERCEPT/NextSeq/cfDNA_Matched_Priority_Pool1_19Nov2021/mixcr/clones/CLONES_TRBCHP_382-03_cfDNA.txt\n",
      "\n"
     ]
    },
    {
     "name": "stdout",
     "output_type": "stream",
     "text": [
      "[1] 6\n"
     ]
    },
    {
     "name": "stderr",
     "output_type": "stream",
     "text": [
      "Number of CDR3s in: ~/Desktop/H4H/INTERCEPT/NextSeq/cfDNA_Matched_Priority_Pool1_19Nov2021/mixcr/clones/CLONES_TRBCHP_382-03_cfDNA.txt nonproductive removed\n",
      "\n"
     ]
    },
    {
     "name": "stdout",
     "output_type": "stream",
     "text": [
      "[1] 6\n"
     ]
    },
    {
     "name": "stderr",
     "output_type": "stream",
     "text": [
      "Number of CDR3s in: ~/Desktop/H4H/INTERCEPT/NextSeq/cfDNA_Matched_Priority_Pool1_19Nov2021/mixcr/clones/CLONES_TRBCHP_383-01_cfDNA.txt\n",
      "\n"
     ]
    },
    {
     "name": "stdout",
     "output_type": "stream",
     "text": [
      "[1] 3\n"
     ]
    },
    {
     "name": "stderr",
     "output_type": "stream",
     "text": [
      "Number of CDR3s in: ~/Desktop/H4H/INTERCEPT/NextSeq/cfDNA_Matched_Priority_Pool1_19Nov2021/mixcr/clones/CLONES_TRBCHP_383-01_cfDNA.txt nonproductive removed\n",
      "\n"
     ]
    },
    {
     "name": "stdout",
     "output_type": "stream",
     "text": [
      "[1] 2\n"
     ]
    },
    {
     "name": "stderr",
     "output_type": "stream",
     "text": [
      "Number of CDR3s in: ~/Desktop/H4H/INTERCEPT/NextSeq/cfDNA_Matched_Priority_Pool1_19Nov2021/mixcr/clones/CLONES_TRBCHP_383-04_cfDNA.txt\n",
      "\n"
     ]
    },
    {
     "name": "stdout",
     "output_type": "stream",
     "text": [
      "[1] 1\n"
     ]
    },
    {
     "name": "stderr",
     "output_type": "stream",
     "text": [
      "Number of CDR3s in: ~/Desktop/H4H/INTERCEPT/NextSeq/cfDNA_Matched_Priority_Pool1_19Nov2021/mixcr/clones/CLONES_TRBCHP_383-04_cfDNA.txt nonproductive removed\n",
      "\n"
     ]
    },
    {
     "name": "stdout",
     "output_type": "stream",
     "text": [
      "[1] 1\n"
     ]
    },
    {
     "name": "stderr",
     "output_type": "stream",
     "text": [
      "Number of CDR3s in: ~/Desktop/H4H/INTERCEPT/NextSeq/cfDNA_Matched_Priority_Pool1_19Nov2021/mixcr/clones/CLONES_TRBCHP_388-02_cfDNA.txt\n",
      "\n"
     ]
    },
    {
     "name": "stdout",
     "output_type": "stream",
     "text": [
      "[1] 21\n"
     ]
    },
    {
     "name": "stderr",
     "output_type": "stream",
     "text": [
      "Number of CDR3s in: ~/Desktop/H4H/INTERCEPT/NextSeq/cfDNA_Matched_Priority_Pool1_19Nov2021/mixcr/clones/CLONES_TRBCHP_388-02_cfDNA.txt nonproductive removed\n",
      "\n"
     ]
    },
    {
     "name": "stdout",
     "output_type": "stream",
     "text": [
      "[1] 17\n"
     ]
    },
    {
     "name": "stderr",
     "output_type": "stream",
     "text": [
      "Number of CDR3s in: ~/Desktop/H4H/INTERCEPT/NextSeq/cfDNA_Matched_Priority_Pool1_19Nov2021/mixcr/clones/CLONES_TRBCHP_388-03_cfDNA.txt\n",
      "\n"
     ]
    },
    {
     "name": "stdout",
     "output_type": "stream",
     "text": [
      "[1] 12\n"
     ]
    },
    {
     "name": "stderr",
     "output_type": "stream",
     "text": [
      "Number of CDR3s in: ~/Desktop/H4H/INTERCEPT/NextSeq/cfDNA_Matched_Priority_Pool1_19Nov2021/mixcr/clones/CLONES_TRBCHP_388-03_cfDNA.txt nonproductive removed\n",
      "\n"
     ]
    },
    {
     "name": "stdout",
     "output_type": "stream",
     "text": [
      "[1] 7\n"
     ]
    },
    {
     "name": "stderr",
     "output_type": "stream",
     "text": [
      "Number of CDR3s in: ~/Desktop/H4H/INTERCEPT/NextSeq/cfDNA_Matched_Priority_Pool1_19Nov2021/mixcr/clones/CLONES_TRBCHP_389-04_cfDNA.txt\n",
      "\n"
     ]
    },
    {
     "name": "stdout",
     "output_type": "stream",
     "text": [
      "[1] 12\n"
     ]
    },
    {
     "name": "stderr",
     "output_type": "stream",
     "text": [
      "Number of CDR3s in: ~/Desktop/H4H/INTERCEPT/NextSeq/cfDNA_Matched_Priority_Pool1_19Nov2021/mixcr/clones/CLONES_TRBCHP_389-04_cfDNA.txt nonproductive removed\n",
      "\n"
     ]
    },
    {
     "name": "stdout",
     "output_type": "stream",
     "text": [
      "[1] 10\n"
     ]
    },
    {
     "name": "stderr",
     "output_type": "stream",
     "text": [
      "Number of CDR3s in: ~/Desktop/H4H/INTERCEPT/NextSeq/cfDNA_Matched_Priority_Pool1_19Nov2021/mixcr/clones/CLONES_TRBCHP_390-05_cfDNA.txt\n",
      "\n"
     ]
    },
    {
     "name": "stdout",
     "output_type": "stream",
     "text": [
      "[1] 12\n"
     ]
    },
    {
     "name": "stderr",
     "output_type": "stream",
     "text": [
      "Number of CDR3s in: ~/Desktop/H4H/INTERCEPT/NextSeq/cfDNA_Matched_Priority_Pool1_19Nov2021/mixcr/clones/CLONES_TRBCHP_390-05_cfDNA.txt nonproductive removed\n",
      "\n"
     ]
    },
    {
     "name": "stdout",
     "output_type": "stream",
     "text": [
      "[1] 10\n"
     ]
    },
    {
     "name": "stderr",
     "output_type": "stream",
     "text": [
      "Number of CDR3s in: ~/Desktop/H4H/INTERCEPT/NextSeq/cfDNA_Matched_Priority_Pool1_19Nov2021/mixcr/clones/CLONES_TRBCHP_392-04_cfDNA.txt\n",
      "\n"
     ]
    },
    {
     "name": "stdout",
     "output_type": "stream",
     "text": [
      "[1] 8\n"
     ]
    },
    {
     "name": "stderr",
     "output_type": "stream",
     "text": [
      "Number of CDR3s in: ~/Desktop/H4H/INTERCEPT/NextSeq/cfDNA_Matched_Priority_Pool1_19Nov2021/mixcr/clones/CLONES_TRBCHP_392-04_cfDNA.txt nonproductive removed\n",
      "\n"
     ]
    },
    {
     "name": "stdout",
     "output_type": "stream",
     "text": [
      "[1] 8\n"
     ]
    },
    {
     "name": "stderr",
     "output_type": "stream",
     "text": [
      "Number of CDR3s in: ~/Desktop/H4H/INTERCEPT/NextSeq/cfDNA_Matched_Priority_Pool1_19Nov2021/mixcr/clones/CLONES_TRBCHP_396-03_cfDNA.txt\n",
      "\n"
     ]
    },
    {
     "name": "stdout",
     "output_type": "stream",
     "text": [
      "[1] 81\n"
     ]
    },
    {
     "name": "stderr",
     "output_type": "stream",
     "text": [
      "Number of CDR3s in: ~/Desktop/H4H/INTERCEPT/NextSeq/cfDNA_Matched_Priority_Pool1_19Nov2021/mixcr/clones/CLONES_TRBCHP_396-03_cfDNA.txt nonproductive removed\n",
      "\n"
     ]
    },
    {
     "name": "stdout",
     "output_type": "stream",
     "text": [
      "[1] 62\n"
     ]
    },
    {
     "name": "stderr",
     "output_type": "stream",
     "text": [
      "Number of CDR3s in: ~/Desktop/H4H/INTERCEPT/NextSeq/cfDNA_Matched_Priority_Pool1_19Nov2021/mixcr/clones/CLONES_TRBCHP_399-02_cfDNA.txt\n",
      "\n"
     ]
    },
    {
     "name": "stdout",
     "output_type": "stream",
     "text": [
      "[1] 20\n"
     ]
    },
    {
     "name": "stderr",
     "output_type": "stream",
     "text": [
      "Number of CDR3s in: ~/Desktop/H4H/INTERCEPT/NextSeq/cfDNA_Matched_Priority_Pool1_19Nov2021/mixcr/clones/CLONES_TRBCHP_399-02_cfDNA.txt nonproductive removed\n",
      "\n"
     ]
    },
    {
     "name": "stdout",
     "output_type": "stream",
     "text": [
      "[1] 18\n"
     ]
    },
    {
     "name": "stderr",
     "output_type": "stream",
     "text": [
      "Number of CDR3s in: ~/Desktop/H4H/INTERCEPT/NextSeq/cfDNA_Matched_Priority_Pool1_19Nov2021/mixcr/clones/CLONES_TRBCHP_399-03_cfDNA.txt\n",
      "\n"
     ]
    },
    {
     "name": "stdout",
     "output_type": "stream",
     "text": [
      "[1] 10\n"
     ]
    },
    {
     "name": "stderr",
     "output_type": "stream",
     "text": [
      "Number of CDR3s in: ~/Desktop/H4H/INTERCEPT/NextSeq/cfDNA_Matched_Priority_Pool1_19Nov2021/mixcr/clones/CLONES_TRBCHP_399-03_cfDNA.txt nonproductive removed\n",
      "\n"
     ]
    },
    {
     "name": "stdout",
     "output_type": "stream",
     "text": [
      "[1] 8\n"
     ]
    },
    {
     "name": "stderr",
     "output_type": "stream",
     "text": [
      "Number of CDR3s in: ~/Desktop/H4H/INTERCEPT/NextSeq/cfDNA_Matched_Priority_Pool1_19Nov2021/mixcr/clones/CLONES_TRBCHP_400-01_cfDNA.txt\n",
      "\n"
     ]
    },
    {
     "name": "stdout",
     "output_type": "stream",
     "text": [
      "[1] 9\n"
     ]
    },
    {
     "name": "stderr",
     "output_type": "stream",
     "text": [
      "Number of CDR3s in: ~/Desktop/H4H/INTERCEPT/NextSeq/cfDNA_Matched_Priority_Pool1_19Nov2021/mixcr/clones/CLONES_TRBCHP_400-01_cfDNA.txt nonproductive removed\n",
      "\n"
     ]
    },
    {
     "name": "stdout",
     "output_type": "stream",
     "text": [
      "[1] 6\n"
     ]
    },
    {
     "name": "stderr",
     "output_type": "stream",
     "text": [
      "Number of CDR3s in: ~/Desktop/H4H/INTERCEPT/NextSeq/cfDNA_Matched_Priority_Pool1_19Nov2021/mixcr/clones/CLONES_TRBCHP_401-04_cfDNA.txt\n",
      "\n"
     ]
    },
    {
     "name": "stdout",
     "output_type": "stream",
     "text": [
      "[1] 25\n"
     ]
    },
    {
     "name": "stderr",
     "output_type": "stream",
     "text": [
      "Number of CDR3s in: ~/Desktop/H4H/INTERCEPT/NextSeq/cfDNA_Matched_Priority_Pool1_19Nov2021/mixcr/clones/CLONES_TRBCHP_401-04_cfDNA.txt nonproductive removed\n",
      "\n"
     ]
    },
    {
     "name": "stdout",
     "output_type": "stream",
     "text": [
      "[1] 18\n"
     ]
    },
    {
     "name": "stderr",
     "output_type": "stream",
     "text": [
      "Number of CDR3s in: ~/Desktop/H4H/INTERCEPT/NextSeq/cfDNA_Matched_Priority_Pool1_19Nov2021/mixcr/clones/CLONES_TRBCHP_404-01_cfDNA.txt\n",
      "\n"
     ]
    },
    {
     "name": "stdout",
     "output_type": "stream",
     "text": [
      "[1] 9\n"
     ]
    },
    {
     "name": "stderr",
     "output_type": "stream",
     "text": [
      "Number of CDR3s in: ~/Desktop/H4H/INTERCEPT/NextSeq/cfDNA_Matched_Priority_Pool1_19Nov2021/mixcr/clones/CLONES_TRBCHP_404-01_cfDNA.txt nonproductive removed\n",
      "\n"
     ]
    },
    {
     "name": "stdout",
     "output_type": "stream",
     "text": [
      "[1] 7\n"
     ]
    },
    {
     "name": "stderr",
     "output_type": "stream",
     "text": [
      "Number of CDR3s in: ~/Desktop/H4H/INTERCEPT/NextSeq/cfDNA_Matched_Priority_Pool1_19Nov2021/mixcr/clones/CLONES_TRBCHP_409-03_cfDNA.txt\n",
      "\n"
     ]
    },
    {
     "name": "stdout",
     "output_type": "stream",
     "text": [
      "[1] 7\n"
     ]
    },
    {
     "name": "stderr",
     "output_type": "stream",
     "text": [
      "Number of CDR3s in: ~/Desktop/H4H/INTERCEPT/NextSeq/cfDNA_Matched_Priority_Pool1_19Nov2021/mixcr/clones/CLONES_TRBCHP_409-03_cfDNA.txt nonproductive removed\n",
      "\n"
     ]
    },
    {
     "name": "stdout",
     "output_type": "stream",
     "text": [
      "[1] 5\n"
     ]
    },
    {
     "name": "stderr",
     "output_type": "stream",
     "text": [
      "Number of CDR3s in: ~/Desktop/H4H/INTERCEPT/NextSeq/cfDNA_Matched_Priority_Pool1_19Nov2021/mixcr/clones/CLONES_TRBCHP_415-03_cfDNA.txt\n",
      "\n"
     ]
    },
    {
     "name": "stdout",
     "output_type": "stream",
     "text": [
      "[1] 5\n"
     ]
    },
    {
     "name": "stderr",
     "output_type": "stream",
     "text": [
      "Number of CDR3s in: ~/Desktop/H4H/INTERCEPT/NextSeq/cfDNA_Matched_Priority_Pool1_19Nov2021/mixcr/clones/CLONES_TRBCHP_415-03_cfDNA.txt nonproductive removed\n",
      "\n"
     ]
    },
    {
     "name": "stdout",
     "output_type": "stream",
     "text": [
      "[1] 5\n"
     ]
    },
    {
     "name": "stderr",
     "output_type": "stream",
     "text": [
      "Number of CDR3s in: ~/Desktop/H4H/INTERCEPT/NextSeq/priority_pool2/mixcr/clones/CLONES_TRBCHP_334-04_cfDNA.txt\n",
      "\n"
     ]
    },
    {
     "name": "stdout",
     "output_type": "stream",
     "text": [
      "[1] 21\n"
     ]
    },
    {
     "name": "stderr",
     "output_type": "stream",
     "text": [
      "Number of CDR3s in: ~/Desktop/H4H/INTERCEPT/NextSeq/priority_pool2/mixcr/clones/CLONES_TRBCHP_334-04_cfDNA.txt nonproductive removed\n",
      "\n"
     ]
    },
    {
     "name": "stdout",
     "output_type": "stream",
     "text": [
      "[1] 16\n"
     ]
    },
    {
     "name": "stderr",
     "output_type": "stream",
     "text": [
      "Number of CDR3s in: ~/Desktop/H4H/INTERCEPT/NextSeq/priority_pool2/mixcr/clones/CLONES_TRBCHP_337-05_cfDNA.txt\n",
      "\n"
     ]
    },
    {
     "name": "stdout",
     "output_type": "stream",
     "text": [
      "[1] 12\n"
     ]
    },
    {
     "name": "stderr",
     "output_type": "stream",
     "text": [
      "Number of CDR3s in: ~/Desktop/H4H/INTERCEPT/NextSeq/priority_pool2/mixcr/clones/CLONES_TRBCHP_337-05_cfDNA.txt nonproductive removed\n",
      "\n"
     ]
    },
    {
     "name": "stdout",
     "output_type": "stream",
     "text": [
      "[1] 10\n"
     ]
    },
    {
     "name": "stderr",
     "output_type": "stream",
     "text": [
      "Number of CDR3s in: ~/Desktop/H4H/INTERCEPT/NextSeq/priority_pool2/mixcr/clones/CLONES_TRBCHP_347-03_cfDNA.txt\n",
      "\n"
     ]
    },
    {
     "name": "stdout",
     "output_type": "stream",
     "text": [
      "[1] 5\n"
     ]
    },
    {
     "name": "stderr",
     "output_type": "stream",
     "text": [
      "Number of CDR3s in: ~/Desktop/H4H/INTERCEPT/NextSeq/priority_pool2/mixcr/clones/CLONES_TRBCHP_347-03_cfDNA.txt nonproductive removed\n",
      "\n"
     ]
    },
    {
     "name": "stdout",
     "output_type": "stream",
     "text": [
      "[1] 3\n"
     ]
    },
    {
     "name": "stderr",
     "output_type": "stream",
     "text": [
      "Number of CDR3s in: ~/Desktop/H4H/INTERCEPT/NextSeq/priority_pool2/mixcr/clones/CLONES_TRBCHP_362-01_cfDNA.txt\n",
      "\n"
     ]
    },
    {
     "name": "stdout",
     "output_type": "stream",
     "text": [
      "[1] 15\n"
     ]
    },
    {
     "name": "stderr",
     "output_type": "stream",
     "text": [
      "Number of CDR3s in: ~/Desktop/H4H/INTERCEPT/NextSeq/priority_pool2/mixcr/clones/CLONES_TRBCHP_362-01_cfDNA.txt nonproductive removed\n",
      "\n"
     ]
    },
    {
     "name": "stdout",
     "output_type": "stream",
     "text": [
      "[1] 9\n"
     ]
    },
    {
     "name": "stderr",
     "output_type": "stream",
     "text": [
      "Number of CDR3s in: ~/Desktop/H4H/INTERCEPT/NextSeq/priority_pool2/mixcr/clones/CLONES_TRBCHP_378-04_cfDNA.txt\n",
      "\n"
     ]
    },
    {
     "name": "stdout",
     "output_type": "stream",
     "text": [
      "[1] 20\n"
     ]
    },
    {
     "name": "stderr",
     "output_type": "stream",
     "text": [
      "Number of CDR3s in: ~/Desktop/H4H/INTERCEPT/NextSeq/priority_pool2/mixcr/clones/CLONES_TRBCHP_378-04_cfDNA.txt nonproductive removed\n",
      "\n"
     ]
    },
    {
     "name": "stdout",
     "output_type": "stream",
     "text": [
      "[1] 13\n"
     ]
    },
    {
     "name": "stderr",
     "output_type": "stream",
     "text": [
      "Number of CDR3s in: ~/Desktop/H4H/INTERCEPT/NextSeq/priority_pool2/mixcr/clones/CLONES_TRBCHP_380-05_cfDNA.txt\n",
      "\n"
     ]
    },
    {
     "name": "stdout",
     "output_type": "stream",
     "text": [
      "[1] 10\n"
     ]
    },
    {
     "name": "stderr",
     "output_type": "stream",
     "text": [
      "Number of CDR3s in: ~/Desktop/H4H/INTERCEPT/NextSeq/priority_pool2/mixcr/clones/CLONES_TRBCHP_380-05_cfDNA.txt nonproductive removed\n",
      "\n"
     ]
    },
    {
     "name": "stdout",
     "output_type": "stream",
     "text": [
      "[1] 8\n"
     ]
    },
    {
     "name": "stderr",
     "output_type": "stream",
     "text": [
      "Number of CDR3s in: ~/Desktop/H4H/INTERCEPT/NextSeq/priority_pool2/mixcr/clones/CLONES_TRBCHP_382-02_cfDNA.txt\n",
      "\n"
     ]
    },
    {
     "name": "stdout",
     "output_type": "stream",
     "text": [
      "[1] 5\n"
     ]
    },
    {
     "name": "stderr",
     "output_type": "stream",
     "text": [
      "Number of CDR3s in: ~/Desktop/H4H/INTERCEPT/NextSeq/priority_pool2/mixcr/clones/CLONES_TRBCHP_382-02_cfDNA.txt nonproductive removed\n",
      "\n"
     ]
    },
    {
     "name": "stdout",
     "output_type": "stream",
     "text": [
      "[1] 3\n"
     ]
    },
    {
     "name": "stderr",
     "output_type": "stream",
     "text": [
      "Number of CDR3s in: ~/Desktop/H4H/INTERCEPT/NextSeq/priority_pool2/mixcr/clones/CLONES_TRBCHP_389-03_cfDNA.txt\n",
      "\n"
     ]
    },
    {
     "name": "stdout",
     "output_type": "stream",
     "text": [
      "[1] 7\n"
     ]
    },
    {
     "name": "stderr",
     "output_type": "stream",
     "text": [
      "Number of CDR3s in: ~/Desktop/H4H/INTERCEPT/NextSeq/priority_pool2/mixcr/clones/CLONES_TRBCHP_389-03_cfDNA.txt nonproductive removed\n",
      "\n"
     ]
    },
    {
     "name": "stdout",
     "output_type": "stream",
     "text": [
      "[1] 5\n"
     ]
    },
    {
     "name": "stderr",
     "output_type": "stream",
     "text": [
      "Number of CDR3s in: ~/Desktop/H4H/INTERCEPT/NextSeq/priority_pool2/mixcr/clones/CLONES_TRBCHP_390-03_cfDNA.txt\n",
      "\n"
     ]
    },
    {
     "name": "stdout",
     "output_type": "stream",
     "text": [
      "[1] 28\n"
     ]
    },
    {
     "name": "stderr",
     "output_type": "stream",
     "text": [
      "Number of CDR3s in: ~/Desktop/H4H/INTERCEPT/NextSeq/priority_pool2/mixcr/clones/CLONES_TRBCHP_390-03_cfDNA.txt nonproductive removed\n",
      "\n"
     ]
    },
    {
     "name": "stdout",
     "output_type": "stream",
     "text": [
      "[1] 21\n"
     ]
    },
    {
     "name": "stderr",
     "output_type": "stream",
     "text": [
      "Number of CDR3s in: ~/Desktop/H4H/INTERCEPT/NextSeq/priority_pool2/mixcr/clones/CLONES_TRBCHP_395-02_cfDNA.txt\n",
      "\n"
     ]
    },
    {
     "name": "stdout",
     "output_type": "stream",
     "text": [
      "[1] 27\n"
     ]
    },
    {
     "name": "stderr",
     "output_type": "stream",
     "text": [
      "Number of CDR3s in: ~/Desktop/H4H/INTERCEPT/NextSeq/priority_pool2/mixcr/clones/CLONES_TRBCHP_395-02_cfDNA.txt nonproductive removed\n",
      "\n"
     ]
    },
    {
     "name": "stdout",
     "output_type": "stream",
     "text": [
      "[1] 19\n"
     ]
    },
    {
     "name": "stderr",
     "output_type": "stream",
     "text": [
      "Number of CDR3s in: ~/Desktop/H4H/INTERCEPT/NextSeq/priority_pool2/mixcr/clones/CLONES_TRBCHP_396-04_cfDNA.txt\n",
      "\n"
     ]
    },
    {
     "name": "stdout",
     "output_type": "stream",
     "text": [
      "[1] 15\n"
     ]
    },
    {
     "name": "stderr",
     "output_type": "stream",
     "text": [
      "Number of CDR3s in: ~/Desktop/H4H/INTERCEPT/NextSeq/priority_pool2/mixcr/clones/CLONES_TRBCHP_396-04_cfDNA.txt nonproductive removed\n",
      "\n"
     ]
    },
    {
     "name": "stdout",
     "output_type": "stream",
     "text": [
      "[1] 9\n"
     ]
    },
    {
     "name": "stderr",
     "output_type": "stream",
     "text": [
      "Number of CDR3s in: ~/Desktop/H4H/INTERCEPT/NextSeq/priority_pool2/mixcr/clones/CLONES_TRBCHP_398-05_cfDNA.txt\n",
      "\n"
     ]
    },
    {
     "name": "stdout",
     "output_type": "stream",
     "text": [
      "[1] 12\n"
     ]
    },
    {
     "name": "stderr",
     "output_type": "stream",
     "text": [
      "Number of CDR3s in: ~/Desktop/H4H/INTERCEPT/NextSeq/priority_pool2/mixcr/clones/CLONES_TRBCHP_398-05_cfDNA.txt nonproductive removed\n",
      "\n"
     ]
    },
    {
     "name": "stdout",
     "output_type": "stream",
     "text": [
      "[1] 10\n"
     ]
    },
    {
     "name": "stderr",
     "output_type": "stream",
     "text": [
      "Number of CDR3s in: ~/Desktop/H4H/INTERCEPT/NextSeq/priority_pool2/mixcr/clones/CLONES_TRBCHP_404-02_cfDNA.txt\n",
      "\n"
     ]
    },
    {
     "name": "stdout",
     "output_type": "stream",
     "text": [
      "[1] 12\n"
     ]
    },
    {
     "name": "stderr",
     "output_type": "stream",
     "text": [
      "Number of CDR3s in: ~/Desktop/H4H/INTERCEPT/NextSeq/priority_pool2/mixcr/clones/CLONES_TRBCHP_404-02_cfDNA.txt nonproductive removed\n",
      "\n"
     ]
    },
    {
     "name": "stdout",
     "output_type": "stream",
     "text": [
      "[1] 6\n"
     ]
    },
    {
     "name": "stderr",
     "output_type": "stream",
     "text": [
      "Number of CDR3s in: ~/Desktop/H4H/INTERCEPT/NextSeq/priority_pool2/mixcr/clones/CLONES_TRBCHP_408-03_cfDNA.txt\n",
      "\n"
     ]
    },
    {
     "name": "stdout",
     "output_type": "stream",
     "text": [
      "[1] 35\n"
     ]
    },
    {
     "name": "stderr",
     "output_type": "stream",
     "text": [
      "Number of CDR3s in: ~/Desktop/H4H/INTERCEPT/NextSeq/priority_pool2/mixcr/clones/CLONES_TRBCHP_408-03_cfDNA.txt nonproductive removed\n",
      "\n"
     ]
    },
    {
     "name": "stdout",
     "output_type": "stream",
     "text": [
      "[1] 22\n"
     ]
    },
    {
     "name": "stderr",
     "output_type": "stream",
     "text": [
      "Number of CDR3s in: ~/Desktop/H4H/INTERCEPT/NextSeq/priority_pool2/mixcr/clones/CLONES_TRBCHP_411-01_cfDNA.txt\n",
      "\n"
     ]
    },
    {
     "name": "stdout",
     "output_type": "stream",
     "text": [
      "[1] 76\n"
     ]
    },
    {
     "name": "stderr",
     "output_type": "stream",
     "text": [
      "Number of CDR3s in: ~/Desktop/H4H/INTERCEPT/NextSeq/priority_pool2/mixcr/clones/CLONES_TRBCHP_411-01_cfDNA.txt nonproductive removed\n",
      "\n"
     ]
    },
    {
     "name": "stdout",
     "output_type": "stream",
     "text": [
      "[1] 52\n"
     ]
    },
    {
     "name": "stderr",
     "output_type": "stream",
     "text": [
      "Number of CDR3s in: ~/Desktop/H4H/INTERCEPT/NextSeq/priority_pool2/mixcr/clones/CLONES_TRBCHP_412-01_cfDNA.txt\n",
      "\n"
     ]
    },
    {
     "name": "stdout",
     "output_type": "stream",
     "text": [
      "[1] 13\n"
     ]
    },
    {
     "name": "stderr",
     "output_type": "stream",
     "text": [
      "Number of CDR3s in: ~/Desktop/H4H/INTERCEPT/NextSeq/priority_pool2/mixcr/clones/CLONES_TRBCHP_412-01_cfDNA.txt nonproductive removed\n",
      "\n"
     ]
    },
    {
     "name": "stdout",
     "output_type": "stream",
     "text": [
      "[1] 7\n"
     ]
    },
    {
     "name": "stderr",
     "output_type": "stream",
     "text": [
      "Number of CDR3s in: ~/Desktop/H4H/INTERCEPT/NextSeq/priority_pool2/mixcr/clones/CLONES_TRBCHP_419-02_cfDNA.txt\n",
      "\n"
     ]
    },
    {
     "name": "stdout",
     "output_type": "stream",
     "text": [
      "[1] 4\n"
     ]
    },
    {
     "name": "stderr",
     "output_type": "stream",
     "text": [
      "Number of CDR3s in: ~/Desktop/H4H/INTERCEPT/NextSeq/priority_pool2/mixcr/clones/CLONES_TRBCHP_419-02_cfDNA.txt nonproductive removed\n",
      "\n"
     ]
    },
    {
     "name": "stdout",
     "output_type": "stream",
     "text": [
      "[1] 4\n"
     ]
    },
    {
     "name": "stderr",
     "output_type": "stream",
     "text": [
      "Number of CDR3s in: ~/Desktop/H4H/INTERCEPT/NextSeq/priority_pool2/mixcr/clones/CLONES_TRBCHP_422-01_cfDNA.txt\n",
      "\n"
     ]
    },
    {
     "name": "stdout",
     "output_type": "stream",
     "text": [
      "[1] 25\n"
     ]
    },
    {
     "name": "stderr",
     "output_type": "stream",
     "text": [
      "Number of CDR3s in: ~/Desktop/H4H/INTERCEPT/NextSeq/priority_pool2/mixcr/clones/CLONES_TRBCHP_422-01_cfDNA.txt nonproductive removed\n",
      "\n"
     ]
    },
    {
     "name": "stdout",
     "output_type": "stream",
     "text": [
      "[1] 9\n"
     ]
    },
    {
     "name": "stderr",
     "output_type": "stream",
     "text": [
      "Number of CDR3s in: ~/Desktop/H4H/INTERCEPT/NextSeq/priority_pool3/mixcr/clones/CLONES_TRBCHP_340-04_cfDNA.txt\n",
      "\n"
     ]
    },
    {
     "name": "stdout",
     "output_type": "stream",
     "text": [
      "[1] 30\n"
     ]
    },
    {
     "name": "stderr",
     "output_type": "stream",
     "text": [
      "Number of CDR3s in: ~/Desktop/H4H/INTERCEPT/NextSeq/priority_pool3/mixcr/clones/CLONES_TRBCHP_340-04_cfDNA.txt nonproductive removed\n",
      "\n"
     ]
    },
    {
     "name": "stdout",
     "output_type": "stream",
     "text": [
      "[1] 24\n"
     ]
    },
    {
     "name": "stderr",
     "output_type": "stream",
     "text": [
      "Number of CDR3s in: ~/Desktop/H4H/INTERCEPT/NextSeq/priority_pool3/mixcr/clones/CLONES_TRBCHP_342-02-cfDNA.txt\n",
      "\n"
     ]
    },
    {
     "name": "stdout",
     "output_type": "stream",
     "text": [
      "[1] 25\n"
     ]
    },
    {
     "name": "stderr",
     "output_type": "stream",
     "text": [
      "Number of CDR3s in: ~/Desktop/H4H/INTERCEPT/NextSeq/priority_pool3/mixcr/clones/CLONES_TRBCHP_342-02-cfDNA.txt nonproductive removed\n",
      "\n"
     ]
    },
    {
     "name": "stdout",
     "output_type": "stream",
     "text": [
      "[1] 17\n"
     ]
    },
    {
     "name": "stderr",
     "output_type": "stream",
     "text": [
      "Number of CDR3s in: ~/Desktop/H4H/INTERCEPT/NextSeq/priority_pool3/mixcr/clones/CLONES_TRBCHP_358-04_cfDNA.txt\n",
      "\n"
     ]
    },
    {
     "name": "stdout",
     "output_type": "stream",
     "text": [
      "[1] 19\n"
     ]
    },
    {
     "name": "stderr",
     "output_type": "stream",
     "text": [
      "Number of CDR3s in: ~/Desktop/H4H/INTERCEPT/NextSeq/priority_pool3/mixcr/clones/CLONES_TRBCHP_358-04_cfDNA.txt nonproductive removed\n",
      "\n"
     ]
    },
    {
     "name": "stdout",
     "output_type": "stream",
     "text": [
      "[1] 14\n"
     ]
    },
    {
     "name": "stderr",
     "output_type": "stream",
     "text": [
      "Number of CDR3s in: ~/Desktop/H4H/INTERCEPT/NextSeq/priority_pool3/mixcr/clones/CLONES_TRBCHP_361-04_cfDNA.txt\n",
      "\n"
     ]
    },
    {
     "name": "stdout",
     "output_type": "stream",
     "text": [
      "[1] 10\n"
     ]
    },
    {
     "name": "stderr",
     "output_type": "stream",
     "text": [
      "Number of CDR3s in: ~/Desktop/H4H/INTERCEPT/NextSeq/priority_pool3/mixcr/clones/CLONES_TRBCHP_361-04_cfDNA.txt nonproductive removed\n",
      "\n"
     ]
    },
    {
     "name": "stdout",
     "output_type": "stream",
     "text": [
      "[1] 8\n"
     ]
    },
    {
     "name": "stderr",
     "output_type": "stream",
     "text": [
      "Number of CDR3s in: ~/Desktop/H4H/INTERCEPT/NextSeq/priority_pool3/mixcr/clones/CLONES_TRBCHP_364-03_cfDNA.txt\n",
      "\n"
     ]
    },
    {
     "name": "stdout",
     "output_type": "stream",
     "text": [
      "[1] 4\n"
     ]
    },
    {
     "name": "stderr",
     "output_type": "stream",
     "text": [
      "Number of CDR3s in: ~/Desktop/H4H/INTERCEPT/NextSeq/priority_pool3/mixcr/clones/CLONES_TRBCHP_364-03_cfDNA.txt nonproductive removed\n",
      "\n"
     ]
    },
    {
     "name": "stdout",
     "output_type": "stream",
     "text": [
      "[1] 3\n"
     ]
    },
    {
     "name": "stderr",
     "output_type": "stream",
     "text": [
      "Number of CDR3s in: ~/Desktop/H4H/INTERCEPT/NextSeq/priority_pool3/mixcr/clones/CLONES_TRBCHP_365-05_cfDNA.txt\n",
      "\n"
     ]
    },
    {
     "name": "stdout",
     "output_type": "stream",
     "text": [
      "[1] 14\n"
     ]
    },
    {
     "name": "stderr",
     "output_type": "stream",
     "text": [
      "Number of CDR3s in: ~/Desktop/H4H/INTERCEPT/NextSeq/priority_pool3/mixcr/clones/CLONES_TRBCHP_365-05_cfDNA.txt nonproductive removed\n",
      "\n"
     ]
    },
    {
     "name": "stdout",
     "output_type": "stream",
     "text": [
      "[1] 12\n"
     ]
    },
    {
     "name": "stderr",
     "output_type": "stream",
     "text": [
      "Number of CDR3s in: ~/Desktop/H4H/INTERCEPT/NextSeq/priority_pool3/mixcr/clones/CLONES_TRBCHP_366-03_cfDNA.txt\n",
      "\n"
     ]
    },
    {
     "name": "stdout",
     "output_type": "stream",
     "text": [
      "[1] 5\n"
     ]
    },
    {
     "name": "stderr",
     "output_type": "stream",
     "text": [
      "Number of CDR3s in: ~/Desktop/H4H/INTERCEPT/NextSeq/priority_pool3/mixcr/clones/CLONES_TRBCHP_366-03_cfDNA.txt nonproductive removed\n",
      "\n"
     ]
    },
    {
     "name": "stdout",
     "output_type": "stream",
     "text": [
      "[1] 3\n"
     ]
    },
    {
     "name": "stderr",
     "output_type": "stream",
     "text": [
      "Number of CDR3s in: ~/Desktop/H4H/INTERCEPT/NextSeq/priority_pool3/mixcr/clones/CLONES_TRBCHP_368-04_cfDNA.txt\n",
      "\n"
     ]
    },
    {
     "name": "stdout",
     "output_type": "stream",
     "text": [
      "[1] 23\n"
     ]
    },
    {
     "name": "stderr",
     "output_type": "stream",
     "text": [
      "Number of CDR3s in: ~/Desktop/H4H/INTERCEPT/NextSeq/priority_pool3/mixcr/clones/CLONES_TRBCHP_368-04_cfDNA.txt nonproductive removed\n",
      "\n"
     ]
    },
    {
     "name": "stdout",
     "output_type": "stream",
     "text": [
      "[1] 15\n"
     ]
    },
    {
     "name": "stderr",
     "output_type": "stream",
     "text": [
      "Number of CDR3s in: ~/Desktop/H4H/INTERCEPT/NextSeq/priority_pool3/mixcr/clones/CLONES_TRBCHP_373-04_cfDNA.txt\n",
      "\n"
     ]
    },
    {
     "name": "stdout",
     "output_type": "stream",
     "text": [
      "[1] 8\n"
     ]
    },
    {
     "name": "stderr",
     "output_type": "stream",
     "text": [
      "Number of CDR3s in: ~/Desktop/H4H/INTERCEPT/NextSeq/priority_pool3/mixcr/clones/CLONES_TRBCHP_373-04_cfDNA.txt nonproductive removed\n",
      "\n"
     ]
    },
    {
     "name": "stdout",
     "output_type": "stream",
     "text": [
      "[1] 5\n"
     ]
    },
    {
     "name": "stderr",
     "output_type": "stream",
     "text": [
      "Number of CDR3s in: ~/Desktop/H4H/INTERCEPT/NextSeq/priority_pool3/mixcr/clones/CLONES_TRBCHP_384-01_cfDNA.txt\n",
      "\n"
     ]
    },
    {
     "name": "stdout",
     "output_type": "stream",
     "text": [
      "[1] 39\n"
     ]
    },
    {
     "name": "stderr",
     "output_type": "stream",
     "text": [
      "Number of CDR3s in: ~/Desktop/H4H/INTERCEPT/NextSeq/priority_pool3/mixcr/clones/CLONES_TRBCHP_384-01_cfDNA.txt nonproductive removed\n",
      "\n"
     ]
    },
    {
     "name": "stdout",
     "output_type": "stream",
     "text": [
      "[1] 27\n"
     ]
    },
    {
     "name": "stderr",
     "output_type": "stream",
     "text": [
      "Number of CDR3s in: ~/Desktop/H4H/INTERCEPT/NextSeq/priority_pool3/mixcr/clones/CLONES_TRBCHP_391-04_cfDNA.txt\n",
      "\n"
     ]
    },
    {
     "name": "stdout",
     "output_type": "stream",
     "text": [
      "[1] 8\n"
     ]
    },
    {
     "name": "stderr",
     "output_type": "stream",
     "text": [
      "Number of CDR3s in: ~/Desktop/H4H/INTERCEPT/NextSeq/priority_pool3/mixcr/clones/CLONES_TRBCHP_391-04_cfDNA.txt nonproductive removed\n",
      "\n"
     ]
    },
    {
     "name": "stdout",
     "output_type": "stream",
     "text": [
      "[1] 7\n"
     ]
    },
    {
     "name": "stderr",
     "output_type": "stream",
     "text": [
      "Number of CDR3s in: ~/Desktop/H4H/INTERCEPT/NextSeq/priority_pool3/mixcr/clones/CLONES_TRBCHP_394-02_cfDNA.txt\n",
      "\n"
     ]
    },
    {
     "name": "stdout",
     "output_type": "stream",
     "text": [
      "[1] 5\n"
     ]
    },
    {
     "name": "stderr",
     "output_type": "stream",
     "text": [
      "Number of CDR3s in: ~/Desktop/H4H/INTERCEPT/NextSeq/priority_pool3/mixcr/clones/CLONES_TRBCHP_394-02_cfDNA.txt nonproductive removed\n",
      "\n"
     ]
    },
    {
     "name": "stdout",
     "output_type": "stream",
     "text": [
      "[1] 4\n"
     ]
    },
    {
     "name": "stderr",
     "output_type": "stream",
     "text": [
      "Number of CDR3s in: ~/Desktop/H4H/INTERCEPT/NextSeq/priority_pool3/mixcr/clones/CLONES_TRBCHP_394-04_cfDNA.txt\n",
      "\n"
     ]
    },
    {
     "name": "stdout",
     "output_type": "stream",
     "text": [
      "[1] 13\n"
     ]
    },
    {
     "name": "stderr",
     "output_type": "stream",
     "text": [
      "Number of CDR3s in: ~/Desktop/H4H/INTERCEPT/NextSeq/priority_pool3/mixcr/clones/CLONES_TRBCHP_394-04_cfDNA.txt nonproductive removed\n",
      "\n"
     ]
    },
    {
     "name": "stdout",
     "output_type": "stream",
     "text": [
      "[1] 9\n"
     ]
    },
    {
     "name": "stderr",
     "output_type": "stream",
     "text": [
      "Number of CDR3s in: ~/Desktop/H4H/INTERCEPT/NextSeq/priority_pool3/mixcr/clones/CLONES_TRBCHP_399-04_cfDNA.txt\n",
      "\n"
     ]
    },
    {
     "name": "stdout",
     "output_type": "stream",
     "text": [
      "[1] 2\n"
     ]
    },
    {
     "name": "stderr",
     "output_type": "stream",
     "text": [
      "Number of CDR3s in: ~/Desktop/H4H/INTERCEPT/NextSeq/priority_pool3/mixcr/clones/CLONES_TRBCHP_399-04_cfDNA.txt nonproductive removed\n",
      "\n"
     ]
    },
    {
     "name": "stdout",
     "output_type": "stream",
     "text": [
      "[1] 2\n"
     ]
    },
    {
     "name": "stderr",
     "output_type": "stream",
     "text": [
      "Number of CDR3s in: ~/Desktop/H4H/INTERCEPT/NextSeq/priority_pool3/mixcr/clones/CLONES_TRBCHP_400-02_cfDNA.txt\n",
      "\n"
     ]
    },
    {
     "name": "stdout",
     "output_type": "stream",
     "text": [
      "[1] 3\n"
     ]
    },
    {
     "name": "stderr",
     "output_type": "stream",
     "text": [
      "Number of CDR3s in: ~/Desktop/H4H/INTERCEPT/NextSeq/priority_pool3/mixcr/clones/CLONES_TRBCHP_400-02_cfDNA.txt nonproductive removed\n",
      "\n"
     ]
    },
    {
     "name": "stdout",
     "output_type": "stream",
     "text": [
      "[1] 3\n"
     ]
    },
    {
     "name": "stderr",
     "output_type": "stream",
     "text": [
      "Number of CDR3s in: ~/Desktop/H4H/INTERCEPT/NextSeq/priority_pool3/mixcr/clones/CLONES_TRBCHP_407-02_cfDNA.txt\n",
      "\n"
     ]
    },
    {
     "name": "stdout",
     "output_type": "stream",
     "text": [
      "[1] 25\n"
     ]
    },
    {
     "name": "stderr",
     "output_type": "stream",
     "text": [
      "Number of CDR3s in: ~/Desktop/H4H/INTERCEPT/NextSeq/priority_pool3/mixcr/clones/CLONES_TRBCHP_407-02_cfDNA.txt nonproductive removed\n",
      "\n"
     ]
    },
    {
     "name": "stdout",
     "output_type": "stream",
     "text": [
      "[1] 17\n"
     ]
    },
    {
     "name": "stderr",
     "output_type": "stream",
     "text": [
      "Number of CDR3s in: ~/Desktop/H4H/INTERCEPT/NextSeq/priority_pool3/mixcr/clones/CLONES_TRBCHP_409-02_cfDNA.txt\n",
      "\n"
     ]
    },
    {
     "name": "stdout",
     "output_type": "stream",
     "text": [
      "[1] 3\n"
     ]
    },
    {
     "name": "stderr",
     "output_type": "stream",
     "text": [
      "Number of CDR3s in: ~/Desktop/H4H/INTERCEPT/NextSeq/priority_pool3/mixcr/clones/CLONES_TRBCHP_409-02_cfDNA.txt nonproductive removed\n",
      "\n"
     ]
    },
    {
     "name": "stdout",
     "output_type": "stream",
     "text": [
      "[1] 3\n"
     ]
    },
    {
     "name": "stderr",
     "output_type": "stream",
     "text": [
      "Number of CDR3s in: ~/Desktop/H4H/INTERCEPT/NextSeq/priority_pool3/mixcr/clones/CLONES_TRBCHP_409-04_cfDNA.txt\n",
      "\n"
     ]
    },
    {
     "name": "stdout",
     "output_type": "stream",
     "text": [
      "[1] 2\n"
     ]
    },
    {
     "name": "stderr",
     "output_type": "stream",
     "text": [
      "Number of CDR3s in: ~/Desktop/H4H/INTERCEPT/NextSeq/priority_pool3/mixcr/clones/CLONES_TRBCHP_409-04_cfDNA.txt nonproductive removed\n",
      "\n"
     ]
    },
    {
     "name": "stdout",
     "output_type": "stream",
     "text": [
      "[1] 2\n"
     ]
    },
    {
     "name": "stderr",
     "output_type": "stream",
     "text": [
      "Number of CDR3s in: ~/Desktop/H4H/INTERCEPT/NextSeq/priority_pool3/mixcr/clones/CLONES_TRBCHP_410-01_cfDNA.txt\n",
      "\n"
     ]
    },
    {
     "name": "stdout",
     "output_type": "stream",
     "text": [
      "[1] 96\n"
     ]
    },
    {
     "name": "stderr",
     "output_type": "stream",
     "text": [
      "Number of CDR3s in: ~/Desktop/H4H/INTERCEPT/NextSeq/priority_pool3/mixcr/clones/CLONES_TRBCHP_410-01_cfDNA.txt nonproductive removed\n",
      "\n"
     ]
    },
    {
     "name": "stdout",
     "output_type": "stream",
     "text": [
      "[1] 31\n"
     ]
    },
    {
     "name": "stderr",
     "output_type": "stream",
     "text": [
      "Number of CDR3s in: ~/Desktop/H4H/INTERCEPT/NextSeq/priority_pool3/mixcr/clones/CLONES_TRBCHP_413-02_cfDNA.txt\n",
      "\n"
     ]
    },
    {
     "name": "stdout",
     "output_type": "stream",
     "text": [
      "[1] 7\n"
     ]
    },
    {
     "name": "stderr",
     "output_type": "stream",
     "text": [
      "Number of CDR3s in: ~/Desktop/H4H/INTERCEPT/NextSeq/priority_pool3/mixcr/clones/CLONES_TRBCHP_413-02_cfDNA.txt nonproductive removed\n",
      "\n"
     ]
    },
    {
     "name": "stdout",
     "output_type": "stream",
     "text": [
      "[1] 6\n"
     ]
    },
    {
     "name": "stderr",
     "output_type": "stream",
     "text": [
      "Number of CDR3s in: ~/Desktop/H4H/INTERCEPT/NextSeq/remaining_batch_1_20April2021/mixcr/clones/CLONES_TRBCHP_337-03_PBMC-DNA.txt\n",
      "\n"
     ]
    },
    {
     "name": "stdout",
     "output_type": "stream",
     "text": [
      "[1] 262\n"
     ]
    },
    {
     "name": "stderr",
     "output_type": "stream",
     "text": [
      "Number of CDR3s in: ~/Desktop/H4H/INTERCEPT/NextSeq/remaining_batch_1_20April2021/mixcr/clones/CLONES_TRBCHP_337-03_PBMC-DNA.txt nonproductive removed\n",
      "\n"
     ]
    },
    {
     "name": "stdout",
     "output_type": "stream",
     "text": [
      "[1] 185\n"
     ]
    },
    {
     "name": "stderr",
     "output_type": "stream",
     "text": [
      "Number of CDR3s in: ~/Desktop/H4H/INTERCEPT/NextSeq/remaining_batch_1_20April2021/mixcr/clones/CLONES_TRBCHP_348-05_PBMC-DNA.txt\n",
      "\n"
     ]
    },
    {
     "name": "stdout",
     "output_type": "stream",
     "text": [
      "[1] 426\n"
     ]
    },
    {
     "name": "stderr",
     "output_type": "stream",
     "text": [
      "Number of CDR3s in: ~/Desktop/H4H/INTERCEPT/NextSeq/remaining_batch_1_20April2021/mixcr/clones/CLONES_TRBCHP_348-05_PBMC-DNA.txt nonproductive removed\n",
      "\n"
     ]
    },
    {
     "name": "stdout",
     "output_type": "stream",
     "text": [
      "[1] 302\n"
     ]
    },
    {
     "name": "stderr",
     "output_type": "stream",
     "text": [
      "Number of CDR3s in: ~/Desktop/H4H/INTERCEPT/NextSeq/remaining_batch_1_20April2021/mixcr/clones/CLONES_TRBCHP_361-05_PBMC-DNA.txt\n",
      "\n"
     ]
    },
    {
     "name": "stdout",
     "output_type": "stream",
     "text": [
      "[1] 55\n"
     ]
    },
    {
     "name": "stderr",
     "output_type": "stream",
     "text": [
      "Number of CDR3s in: ~/Desktop/H4H/INTERCEPT/NextSeq/remaining_batch_1_20April2021/mixcr/clones/CLONES_TRBCHP_361-05_PBMC-DNA.txt nonproductive removed\n",
      "\n"
     ]
    },
    {
     "name": "stdout",
     "output_type": "stream",
     "text": [
      "[1] 37\n"
     ]
    },
    {
     "name": "stderr",
     "output_type": "stream",
     "text": [
      "Number of CDR3s in: ~/Desktop/H4H/INTERCEPT/NextSeq/remaining_batch_1_20April2021/mixcr/clones/CLONES_TRBCHP_363-05_PBMC-DNA.txt\n",
      "\n"
     ]
    },
    {
     "name": "stdout",
     "output_type": "stream",
     "text": [
      "[1] 89\n"
     ]
    },
    {
     "name": "stderr",
     "output_type": "stream",
     "text": [
      "Number of CDR3s in: ~/Desktop/H4H/INTERCEPT/NextSeq/remaining_batch_1_20April2021/mixcr/clones/CLONES_TRBCHP_363-05_PBMC-DNA.txt nonproductive removed\n",
      "\n"
     ]
    },
    {
     "name": "stdout",
     "output_type": "stream",
     "text": [
      "[1] 68\n"
     ]
    },
    {
     "name": "stderr",
     "output_type": "stream",
     "text": [
      "Number of CDR3s in: ~/Desktop/H4H/INTERCEPT/NextSeq/remaining_batch_1_20April2021/mixcr/clones/CLONES_TRBCHP_366-03_PBMC-DNA.txt\n",
      "\n"
     ]
    },
    {
     "name": "stdout",
     "output_type": "stream",
     "text": [
      "[1] 171\n"
     ]
    },
    {
     "name": "stderr",
     "output_type": "stream",
     "text": [
      "Number of CDR3s in: ~/Desktop/H4H/INTERCEPT/NextSeq/remaining_batch_1_20April2021/mixcr/clones/CLONES_TRBCHP_366-03_PBMC-DNA.txt nonproductive removed\n",
      "\n"
     ]
    },
    {
     "name": "stdout",
     "output_type": "stream",
     "text": [
      "[1] 124\n"
     ]
    },
    {
     "name": "stderr",
     "output_type": "stream",
     "text": [
      "Number of CDR3s in: ~/Desktop/H4H/INTERCEPT/NextSeq/remaining_batch_1_20April2021/mixcr/clones/CLONES_TRBCHP_366-04_PBMC-DNA.txt\n",
      "\n"
     ]
    },
    {
     "name": "stdout",
     "output_type": "stream",
     "text": [
      "[1] 347\n"
     ]
    },
    {
     "name": "stderr",
     "output_type": "stream",
     "text": [
      "Number of CDR3s in: ~/Desktop/H4H/INTERCEPT/NextSeq/remaining_batch_1_20April2021/mixcr/clones/CLONES_TRBCHP_366-04_PBMC-DNA.txt nonproductive removed\n",
      "\n"
     ]
    },
    {
     "name": "stdout",
     "output_type": "stream",
     "text": [
      "[1] 259\n"
     ]
    },
    {
     "name": "stderr",
     "output_type": "stream",
     "text": [
      "Number of CDR3s in: ~/Desktop/H4H/INTERCEPT/NextSeq/remaining_batch_1_20April2021/mixcr/clones/CLONES_TRBCHP_366-05_PBMC-DNA.txt\n",
      "\n"
     ]
    },
    {
     "name": "stdout",
     "output_type": "stream",
     "text": [
      "[1] 265\n"
     ]
    },
    {
     "name": "stderr",
     "output_type": "stream",
     "text": [
      "Number of CDR3s in: ~/Desktop/H4H/INTERCEPT/NextSeq/remaining_batch_1_20April2021/mixcr/clones/CLONES_TRBCHP_366-05_PBMC-DNA.txt nonproductive removed\n",
      "\n"
     ]
    },
    {
     "name": "stdout",
     "output_type": "stream",
     "text": [
      "[1] 177\n"
     ]
    },
    {
     "name": "stderr",
     "output_type": "stream",
     "text": [
      "Number of CDR3s in: ~/Desktop/H4H/INTERCEPT/NextSeq/remaining_batch_1_20April2021/mixcr/clones/CLONES_TRBCHP_367-03_PBMC-DNA.txt\n",
      "\n"
     ]
    },
    {
     "name": "stdout",
     "output_type": "stream",
     "text": [
      "[1] 822\n"
     ]
    },
    {
     "name": "stderr",
     "output_type": "stream",
     "text": [
      "Number of CDR3s in: ~/Desktop/H4H/INTERCEPT/NextSeq/remaining_batch_1_20April2021/mixcr/clones/CLONES_TRBCHP_367-03_PBMC-DNA.txt nonproductive removed\n",
      "\n"
     ]
    },
    {
     "name": "stdout",
     "output_type": "stream",
     "text": [
      "[1] 586\n"
     ]
    },
    {
     "name": "stderr",
     "output_type": "stream",
     "text": [
      "Number of CDR3s in: ~/Desktop/H4H/INTERCEPT/NextSeq/remaining_batch_1_20April2021/mixcr/clones/CLONES_TRBCHP_377-01_PBMC-DNA.txt\n",
      "\n"
     ]
    },
    {
     "name": "stdout",
     "output_type": "stream",
     "text": [
      "[1] 255\n"
     ]
    },
    {
     "name": "stderr",
     "output_type": "stream",
     "text": [
      "Number of CDR3s in: ~/Desktop/H4H/INTERCEPT/NextSeq/remaining_batch_1_20April2021/mixcr/clones/CLONES_TRBCHP_377-01_PBMC-DNA.txt nonproductive removed\n",
      "\n"
     ]
    },
    {
     "name": "stdout",
     "output_type": "stream",
     "text": [
      "[1] 196\n"
     ]
    },
    {
     "name": "stderr",
     "output_type": "stream",
     "text": [
      "Number of CDR3s in: ~/Desktop/H4H/INTERCEPT/NextSeq/remaining_batch_1_20April2021/mixcr/clones/CLONES_TRBCHP_385-02_PBMC-DNA.txt\n",
      "\n"
     ]
    },
    {
     "name": "stdout",
     "output_type": "stream",
     "text": [
      "[1] 203\n"
     ]
    },
    {
     "name": "stderr",
     "output_type": "stream",
     "text": [
      "Number of CDR3s in: ~/Desktop/H4H/INTERCEPT/NextSeq/remaining_batch_1_20April2021/mixcr/clones/CLONES_TRBCHP_385-02_PBMC-DNA.txt nonproductive removed\n",
      "\n"
     ]
    },
    {
     "name": "stdout",
     "output_type": "stream",
     "text": [
      "[1] 146\n"
     ]
    },
    {
     "name": "stderr",
     "output_type": "stream",
     "text": [
      "Number of CDR3s in: ~/Desktop/H4H/INTERCEPT/NextSeq/remaining_batch_1_20April2021/mixcr/clones/CLONES_TRBCHP_389-03_PBMC-DNA.txt\n",
      "\n"
     ]
    },
    {
     "name": "stdout",
     "output_type": "stream",
     "text": [
      "[1] 243\n"
     ]
    },
    {
     "name": "stderr",
     "output_type": "stream",
     "text": [
      "Number of CDR3s in: ~/Desktop/H4H/INTERCEPT/NextSeq/remaining_batch_1_20April2021/mixcr/clones/CLONES_TRBCHP_389-03_PBMC-DNA.txt nonproductive removed\n",
      "\n"
     ]
    },
    {
     "name": "stdout",
     "output_type": "stream",
     "text": [
      "[1] 166\n"
     ]
    },
    {
     "name": "stderr",
     "output_type": "stream",
     "text": [
      "Number of CDR3s in: ~/Desktop/H4H/INTERCEPT/NextSeq/remaining_batch_1_20April2021/mixcr/clones/CLONES_TRBCHP_389-04_PBMC-DNA.txt\n",
      "\n"
     ]
    },
    {
     "name": "stdout",
     "output_type": "stream",
     "text": [
      "[1] 548\n"
     ]
    },
    {
     "name": "stderr",
     "output_type": "stream",
     "text": [
      "Number of CDR3s in: ~/Desktop/H4H/INTERCEPT/NextSeq/remaining_batch_1_20April2021/mixcr/clones/CLONES_TRBCHP_389-04_PBMC-DNA.txt nonproductive removed\n",
      "\n"
     ]
    },
    {
     "name": "stdout",
     "output_type": "stream",
     "text": [
      "[1] 353\n"
     ]
    },
    {
     "name": "stderr",
     "output_type": "stream",
     "text": [
      "Number of CDR3s in: ~/Desktop/H4H/INTERCEPT/NextSeq/remaining_batch_1_20April2021/mixcr/clones/CLONES_TRBCHP_390-02_PBMC-DNA.txt\n",
      "\n"
     ]
    },
    {
     "name": "stdout",
     "output_type": "stream",
     "text": [
      "[1] 126\n"
     ]
    },
    {
     "name": "stderr",
     "output_type": "stream",
     "text": [
      "Number of CDR3s in: ~/Desktop/H4H/INTERCEPT/NextSeq/remaining_batch_1_20April2021/mixcr/clones/CLONES_TRBCHP_390-02_PBMC-DNA.txt nonproductive removed\n",
      "\n"
     ]
    },
    {
     "name": "stdout",
     "output_type": "stream",
     "text": [
      "[1] 95\n"
     ]
    },
    {
     "name": "stderr",
     "output_type": "stream",
     "text": [
      "Number of CDR3s in: ~/Desktop/H4H/INTERCEPT/NextSeq/remaining_batch_1_20April2021/mixcr/clones/CLONES_TRBCHP_390-03_PBMC-DNA.txt\n",
      "\n"
     ]
    },
    {
     "name": "stdout",
     "output_type": "stream",
     "text": [
      "[1] 244\n"
     ]
    },
    {
     "name": "stderr",
     "output_type": "stream",
     "text": [
      "Number of CDR3s in: ~/Desktop/H4H/INTERCEPT/NextSeq/remaining_batch_1_20April2021/mixcr/clones/CLONES_TRBCHP_390-03_PBMC-DNA.txt nonproductive removed\n",
      "\n"
     ]
    },
    {
     "name": "stdout",
     "output_type": "stream",
     "text": [
      "[1] 164\n"
     ]
    },
    {
     "name": "stderr",
     "output_type": "stream",
     "text": [
      "Number of CDR3s in: ~/Desktop/H4H/INTERCEPT/NextSeq/remaining_batch_1_20April2021/mixcr/clones/CLONES_TRBCHP_393-02_PBMC-DNA.txt\n",
      "\n"
     ]
    },
    {
     "name": "stdout",
     "output_type": "stream",
     "text": [
      "[1] 175\n"
     ]
    },
    {
     "name": "stderr",
     "output_type": "stream",
     "text": [
      "Number of CDR3s in: ~/Desktop/H4H/INTERCEPT/NextSeq/remaining_batch_1_20April2021/mixcr/clones/CLONES_TRBCHP_393-02_PBMC-DNA.txt nonproductive removed\n",
      "\n"
     ]
    },
    {
     "name": "stdout",
     "output_type": "stream",
     "text": [
      "[1] 126\n"
     ]
    },
    {
     "name": "stderr",
     "output_type": "stream",
     "text": [
      "Number of CDR3s in: ~/Desktop/H4H/INTERCEPT/NextSeq/remaining_batch_1_20April2021/mixcr/clones/CLONES_TRBCHP_401-01_PBMC-DNA.txt\n",
      "\n"
     ]
    },
    {
     "name": "stdout",
     "output_type": "stream",
     "text": [
      "[1] 163\n"
     ]
    },
    {
     "name": "stderr",
     "output_type": "stream",
     "text": [
      "Number of CDR3s in: ~/Desktop/H4H/INTERCEPT/NextSeq/remaining_batch_1_20April2021/mixcr/clones/CLONES_TRBCHP_401-01_PBMC-DNA.txt nonproductive removed\n",
      "\n"
     ]
    },
    {
     "name": "stdout",
     "output_type": "stream",
     "text": [
      "[1] 113\n"
     ]
    },
    {
     "name": "stderr",
     "output_type": "stream",
     "text": [
      "Number of CDR3s in: ~/Desktop/H4H/INTERCEPT/NextSeq/remaining_batch_1_cfDNA_8April2021/mixcr/clones/CLONES_TRBCHP_323-05_cfDNA.txt\n",
      "\n"
     ]
    },
    {
     "name": "stdout",
     "output_type": "stream",
     "text": [
      "[1] 19\n"
     ]
    },
    {
     "name": "stderr",
     "output_type": "stream",
     "text": [
      "Number of CDR3s in: ~/Desktop/H4H/INTERCEPT/NextSeq/remaining_batch_1_cfDNA_8April2021/mixcr/clones/CLONES_TRBCHP_323-05_cfDNA.txt nonproductive removed\n",
      "\n"
     ]
    },
    {
     "name": "stdout",
     "output_type": "stream",
     "text": [
      "[1] 15\n"
     ]
    },
    {
     "name": "stderr",
     "output_type": "stream",
     "text": [
      "Number of CDR3s in: ~/Desktop/H4H/INTERCEPT/NextSeq/remaining_batch_1_cfDNA_8April2021/mixcr/clones/CLONES_TRBCHP_357-02_cfDNA.txt\n",
      "\n"
     ]
    },
    {
     "name": "stdout",
     "output_type": "stream",
     "text": [
      "[1] 15\n"
     ]
    },
    {
     "name": "stderr",
     "output_type": "stream",
     "text": [
      "Number of CDR3s in: ~/Desktop/H4H/INTERCEPT/NextSeq/remaining_batch_1_cfDNA_8April2021/mixcr/clones/CLONES_TRBCHP_357-02_cfDNA.txt nonproductive removed\n",
      "\n"
     ]
    },
    {
     "name": "stdout",
     "output_type": "stream",
     "text": [
      "[1] 11\n"
     ]
    },
    {
     "name": "stderr",
     "output_type": "stream",
     "text": [
      "Number of CDR3s in: ~/Desktop/H4H/INTERCEPT/NextSeq/remaining_batch_1_cfDNA_8April2021/mixcr/clones/CLONES_TRBCHP_378-03_cfDNA.txt\n",
      "\n"
     ]
    },
    {
     "name": "stdout",
     "output_type": "stream",
     "text": [
      "[1] 5\n"
     ]
    },
    {
     "name": "stderr",
     "output_type": "stream",
     "text": [
      "Number of CDR3s in: ~/Desktop/H4H/INTERCEPT/NextSeq/remaining_batch_1_cfDNA_8April2021/mixcr/clones/CLONES_TRBCHP_378-03_cfDNA.txt nonproductive removed\n",
      "\n"
     ]
    },
    {
     "name": "stdout",
     "output_type": "stream",
     "text": [
      "[1] 4\n"
     ]
    },
    {
     "name": "stderr",
     "output_type": "stream",
     "text": [
      "Number of CDR3s in: ~/Desktop/H4H/INTERCEPT/NextSeq/remaining_batch_1_cfDNA_8April2021/mixcr/clones/CLONES_TRBCHP_393-01_cfDNA.txt\n",
      "\n"
     ]
    },
    {
     "name": "stdout",
     "output_type": "stream",
     "text": [
      "[1] 1\n"
     ]
    },
    {
     "name": "stderr",
     "output_type": "stream",
     "text": [
      "Number of CDR3s in: ~/Desktop/H4H/INTERCEPT/NextSeq/remaining_batch_1_cfDNA_8April2021/mixcr/clones/CLONES_TRBCHP_393-01_cfDNA.txt nonproductive removed\n",
      "\n"
     ]
    },
    {
     "name": "stdout",
     "output_type": "stream",
     "text": [
      "[1] 1\n"
     ]
    },
    {
     "name": "stderr",
     "output_type": "stream",
     "text": [
      "Number of CDR3s in: ~/Desktop/H4H/INTERCEPT/NextSeq/remaining_batch_1_cfDNA_8April2021/mixcr/clones/CLONES_TRBCHP_403-03_cfDNA.txt\n",
      "\n"
     ]
    },
    {
     "name": "stdout",
     "output_type": "stream",
     "text": [
      "[1] 1\n"
     ]
    },
    {
     "name": "stderr",
     "output_type": "stream",
     "text": [
      "Number of CDR3s in: ~/Desktop/H4H/INTERCEPT/NextSeq/remaining_batch_1_cfDNA_8April2021/mixcr/clones/CLONES_TRBCHP_403-03_cfDNA.txt nonproductive removed\n",
      "\n"
     ]
    },
    {
     "name": "stdout",
     "output_type": "stream",
     "text": [
      "[1] 1\n"
     ]
    },
    {
     "name": "stderr",
     "output_type": "stream",
     "text": [
      "Number of CDR3s in: ~/Desktop/H4H/INTERCEPT/NextSeq/remaining_batch_1_cfDNA_8April2021/mixcr/clones/CLONES_TRBCHP_408-02_cfDNA.txt\n",
      "\n"
     ]
    },
    {
     "name": "stdout",
     "output_type": "stream",
     "text": [
      "[1] 12\n"
     ]
    },
    {
     "name": "stderr",
     "output_type": "stream",
     "text": [
      "Number of CDR3s in: ~/Desktop/H4H/INTERCEPT/NextSeq/remaining_batch_1_cfDNA_8April2021/mixcr/clones/CLONES_TRBCHP_408-02_cfDNA.txt nonproductive removed\n",
      "\n"
     ]
    },
    {
     "name": "stdout",
     "output_type": "stream",
     "text": [
      "[1] 8\n"
     ]
    },
    {
     "name": "stderr",
     "output_type": "stream",
     "text": [
      "Number of CDR3s in: ~/Desktop/H4H/INTERCEPT/NextSeq/remaining_batch_1_cfDNA_8April2021/mixcr/clones/CLONES_TRBCHP_409-05_cfDNA.txt\n",
      "\n"
     ]
    },
    {
     "name": "stdout",
     "output_type": "stream",
     "text": [
      "[1] 1\n"
     ]
    },
    {
     "name": "stderr",
     "output_type": "stream",
     "text": [
      "Number of CDR3s in: ~/Desktop/H4H/INTERCEPT/NextSeq/remaining_batch_1_cfDNA_8April2021/mixcr/clones/CLONES_TRBCHP_409-05_cfDNA.txt nonproductive removed\n",
      "\n"
     ]
    },
    {
     "name": "stdout",
     "output_type": "stream",
     "text": [
      "[1] 1\n"
     ]
    },
    {
     "name": "stderr",
     "output_type": "stream",
     "text": [
      "Number of CDR3s in: ~/Desktop/H4H/INTERCEPT/NextSeq/remaining_batch_1_cfDNA_8April2021/mixcr/clones/CLONES_TRBCHP_410-02_cfDNA.txt\n",
      "\n"
     ]
    },
    {
     "name": "stdout",
     "output_type": "stream",
     "text": [
      "[1] 12\n"
     ]
    },
    {
     "name": "stderr",
     "output_type": "stream",
     "text": [
      "Number of CDR3s in: ~/Desktop/H4H/INTERCEPT/NextSeq/remaining_batch_1_cfDNA_8April2021/mixcr/clones/CLONES_TRBCHP_410-02_cfDNA.txt nonproductive removed\n",
      "\n"
     ]
    },
    {
     "name": "stdout",
     "output_type": "stream",
     "text": [
      "[1] 11\n"
     ]
    },
    {
     "name": "stderr",
     "output_type": "stream",
     "text": [
      "Number of CDR3s in: ~/Desktop/H4H/INTERCEPT/NextSeq/remaining_batch_1_cfDNA_8April2021/mixcr/clones/CLONES_TRBCHP_410-03_cfDNA.txt\n",
      "\n"
     ]
    },
    {
     "name": "stdout",
     "output_type": "stream",
     "text": [
      "[1] 10\n"
     ]
    },
    {
     "name": "stderr",
     "output_type": "stream",
     "text": [
      "Number of CDR3s in: ~/Desktop/H4H/INTERCEPT/NextSeq/remaining_batch_1_cfDNA_8April2021/mixcr/clones/CLONES_TRBCHP_410-03_cfDNA.txt nonproductive removed\n",
      "\n"
     ]
    },
    {
     "name": "stdout",
     "output_type": "stream",
     "text": [
      "[1] 9\n"
     ]
    },
    {
     "name": "stderr",
     "output_type": "stream",
     "text": [
      "Number of CDR3s in: ~/Desktop/H4H/INTERCEPT/NextSeq/remaining_batch_1_cfDNA_8April2021/mixcr/clones/CLONES_TRBCHP_416-01_cfDNA.txt\n",
      "\n"
     ]
    },
    {
     "name": "stdout",
     "output_type": "stream",
     "text": [
      "[1] 8\n"
     ]
    },
    {
     "name": "stderr",
     "output_type": "stream",
     "text": [
      "Number of CDR3s in: ~/Desktop/H4H/INTERCEPT/NextSeq/remaining_batch_1_cfDNA_8April2021/mixcr/clones/CLONES_TRBCHP_416-01_cfDNA.txt nonproductive removed\n",
      "\n"
     ]
    },
    {
     "name": "stdout",
     "output_type": "stream",
     "text": [
      "[1] 5\n"
     ]
    },
    {
     "name": "stderr",
     "output_type": "stream",
     "text": [
      "Number of CDR3s in: ~/Desktop/H4H/INTERCEPT/NextSeq/remaining_batch_1_cfDNA_8April2021/mixcr/clones/CLONES_TRBCHP_418-01_cfDNA.txt\n",
      "\n"
     ]
    },
    {
     "name": "stdout",
     "output_type": "stream",
     "text": [
      "[1] 1\n"
     ]
    },
    {
     "name": "stderr",
     "output_type": "stream",
     "text": [
      "Number of CDR3s in: ~/Desktop/H4H/INTERCEPT/NextSeq/remaining_batch_1_cfDNA_8April2021/mixcr/clones/CLONES_TRBCHP_418-01_cfDNA.txt nonproductive removed\n",
      "\n"
     ]
    },
    {
     "name": "stdout",
     "output_type": "stream",
     "text": [
      "[1] 1\n"
     ]
    },
    {
     "name": "stderr",
     "output_type": "stream",
     "text": [
      "Number of CDR3s in: ~/Desktop/H4H/INTERCEPT/NextSeq/remaining_batch_1_cfDNA_8April2021/mixcr/clones/CLONES_TRBCHP_418-02_cfDNA.txt\n",
      "\n"
     ]
    },
    {
     "name": "stdout",
     "output_type": "stream",
     "text": [
      "[1] 6\n"
     ]
    },
    {
     "name": "stderr",
     "output_type": "stream",
     "text": [
      "Number of CDR3s in: ~/Desktop/H4H/INTERCEPT/NextSeq/remaining_batch_1_cfDNA_8April2021/mixcr/clones/CLONES_TRBCHP_418-02_cfDNA.txt nonproductive removed\n",
      "\n"
     ]
    },
    {
     "name": "stdout",
     "output_type": "stream",
     "text": [
      "[1] 4\n"
     ]
    },
    {
     "name": "stderr",
     "output_type": "stream",
     "text": [
      "Number of CDR3s in: ~/Desktop/H4H/INTERCEPT/NextSeq/remaining_batch_1_cfDNA_8April2021/mixcr/clones/CLONES_TRBCHP_419-01_cfDNA.txt\n",
      "\n"
     ]
    },
    {
     "name": "stdout",
     "output_type": "stream",
     "text": [
      "[1] 6\n"
     ]
    },
    {
     "name": "stderr",
     "output_type": "stream",
     "text": [
      "Number of CDR3s in: ~/Desktop/H4H/INTERCEPT/NextSeq/remaining_batch_1_cfDNA_8April2021/mixcr/clones/CLONES_TRBCHP_419-01_cfDNA.txt nonproductive removed\n",
      "\n"
     ]
    },
    {
     "name": "stdout",
     "output_type": "stream",
     "text": [
      "[1] 5\n"
     ]
    },
    {
     "name": "stderr",
     "output_type": "stream",
     "text": [
      "Number of CDR3s in: ~/Desktop/H4H/INTERCEPT/NextSeq/remaining_batch_1_cfDNA_8April2021/mixcr/clones/CLONES_TRBCHP_420-01_cfDNA.txt\n",
      "\n"
     ]
    },
    {
     "name": "stdout",
     "output_type": "stream",
     "text": [
      "[1] 41\n"
     ]
    },
    {
     "name": "stderr",
     "output_type": "stream",
     "text": [
      "Number of CDR3s in: ~/Desktop/H4H/INTERCEPT/NextSeq/remaining_batch_1_cfDNA_8April2021/mixcr/clones/CLONES_TRBCHP_420-01_cfDNA.txt nonproductive removed\n",
      "\n"
     ]
    },
    {
     "name": "stdout",
     "output_type": "stream",
     "text": [
      "[1] 30\n"
     ]
    },
    {
     "name": "stderr",
     "output_type": "stream",
     "text": [
      "Number of CDR3s in: ~/Desktop/H4H/INTERCEPT/NextSeq/remaining_batch_1_cfDNA_8April2021/mixcr/clones/CLONES_TRBCHP_421-01_cfDNA.txt\n",
      "\n"
     ]
    },
    {
     "name": "stdout",
     "output_type": "stream",
     "text": [
      "[1] 16\n"
     ]
    },
    {
     "name": "stderr",
     "output_type": "stream",
     "text": [
      "Number of CDR3s in: ~/Desktop/H4H/INTERCEPT/NextSeq/remaining_batch_1_cfDNA_8April2021/mixcr/clones/CLONES_TRBCHP_421-01_cfDNA.txt nonproductive removed\n",
      "\n"
     ]
    },
    {
     "name": "stdout",
     "output_type": "stream",
     "text": [
      "[1] 10\n"
     ]
    },
    {
     "name": "stderr",
     "output_type": "stream",
     "text": [
      "Number of CDR3s in: ~/Desktop/H4H/INTERCEPT/NextSeq/remaining_batch_1_cfDNA_8April2021/mixcr/clones/CLONES_TRBCHP_423-01_cfDNA.txt\n",
      "\n"
     ]
    },
    {
     "name": "stdout",
     "output_type": "stream",
     "text": [
      "[1] 2\n"
     ]
    },
    {
     "name": "stderr",
     "output_type": "stream",
     "text": [
      "Number of CDR3s in: ~/Desktop/H4H/INTERCEPT/NextSeq/remaining_batch_1_cfDNA_8April2021/mixcr/clones/CLONES_TRBCHP_423-01_cfDNA.txt nonproductive removed\n",
      "\n"
     ]
    },
    {
     "name": "stdout",
     "output_type": "stream",
     "text": [
      "[1] 1\n"
     ]
    },
    {
     "name": "stderr",
     "output_type": "stream",
     "text": [
      "Number of CDR3s in: ~/Desktop/H4H/INTERCEPT/NextSeq/remaining_batch_2_22April2021/mixcr/clones/CLONES_TRBCHP_324-05_PBMC-DNA.txt\n",
      "\n"
     ]
    },
    {
     "name": "stdout",
     "output_type": "stream",
     "text": [
      "[1] 301\n"
     ]
    },
    {
     "name": "stderr",
     "output_type": "stream",
     "text": [
      "Number of CDR3s in: ~/Desktop/H4H/INTERCEPT/NextSeq/remaining_batch_2_22April2021/mixcr/clones/CLONES_TRBCHP_324-05_PBMC-DNA.txt nonproductive removed\n",
      "\n"
     ]
    },
    {
     "name": "stdout",
     "output_type": "stream",
     "text": [
      "[1] 229\n"
     ]
    },
    {
     "name": "stderr",
     "output_type": "stream",
     "text": [
      "Number of CDR3s in: ~/Desktop/H4H/INTERCEPT/NextSeq/remaining_batch_2_22April2021/mixcr/clones/CLONES_TRBCHP_357-05_PBMC-DNA.txt\n",
      "\n"
     ]
    },
    {
     "name": "stdout",
     "output_type": "stream",
     "text": [
      "[1] 405\n"
     ]
    },
    {
     "name": "stderr",
     "output_type": "stream",
     "text": [
      "Number of CDR3s in: ~/Desktop/H4H/INTERCEPT/NextSeq/remaining_batch_2_22April2021/mixcr/clones/CLONES_TRBCHP_357-05_PBMC-DNA.txt nonproductive removed\n",
      "\n"
     ]
    },
    {
     "name": "stdout",
     "output_type": "stream",
     "text": [
      "[1] 284\n"
     ]
    },
    {
     "name": "stderr",
     "output_type": "stream",
     "text": [
      "Number of CDR3s in: ~/Desktop/H4H/INTERCEPT/NextSeq/remaining_batch_2_22April2021/mixcr/clones/CLONES_TRBCHP_359-03_PBMC-DNA.txt\n",
      "\n"
     ]
    },
    {
     "name": "stdout",
     "output_type": "stream",
     "text": [
      "[1] 2928\n"
     ]
    },
    {
     "name": "stderr",
     "output_type": "stream",
     "text": [
      "Number of CDR3s in: ~/Desktop/H4H/INTERCEPT/NextSeq/remaining_batch_2_22April2021/mixcr/clones/CLONES_TRBCHP_359-03_PBMC-DNA.txt nonproductive removed\n",
      "\n"
     ]
    },
    {
     "name": "stdout",
     "output_type": "stream",
     "text": [
      "[1] 2237\n"
     ]
    },
    {
     "name": "stderr",
     "output_type": "stream",
     "text": [
      "Number of CDR3s in: ~/Desktop/H4H/INTERCEPT/NextSeq/remaining_batch_2_22April2021/mixcr/clones/CLONES_TRBCHP_363-01_PBMC-DNA.txt\n",
      "\n"
     ]
    },
    {
     "name": "stdout",
     "output_type": "stream",
     "text": [
      "[1] 1135\n"
     ]
    },
    {
     "name": "stderr",
     "output_type": "stream",
     "text": [
      "Number of CDR3s in: ~/Desktop/H4H/INTERCEPT/NextSeq/remaining_batch_2_22April2021/mixcr/clones/CLONES_TRBCHP_363-01_PBMC-DNA.txt nonproductive removed\n",
      "\n"
     ]
    },
    {
     "name": "stdout",
     "output_type": "stream",
     "text": [
      "[1] 888\n"
     ]
    },
    {
     "name": "stderr",
     "output_type": "stream",
     "text": [
      "Number of CDR3s in: ~/Desktop/H4H/INTERCEPT/NextSeq/remaining_batch_2_22April2021/mixcr/clones/CLONES_TRBCHP_365-01_PBMC-DNA.txt\n",
      "\n"
     ]
    },
    {
     "name": "stdout",
     "output_type": "stream",
     "text": [
      "[1] 601\n"
     ]
    },
    {
     "name": "stderr",
     "output_type": "stream",
     "text": [
      "Number of CDR3s in: ~/Desktop/H4H/INTERCEPT/NextSeq/remaining_batch_2_22April2021/mixcr/clones/CLONES_TRBCHP_365-01_PBMC-DNA.txt nonproductive removed\n",
      "\n"
     ]
    },
    {
     "name": "stdout",
     "output_type": "stream",
     "text": [
      "[1] 441\n"
     ]
    },
    {
     "name": "stderr",
     "output_type": "stream",
     "text": [
      "Number of CDR3s in: ~/Desktop/H4H/INTERCEPT/NextSeq/remaining_batch_2_22April2021/mixcr/clones/CLONES_TRBCHP_365-04_PBMC-DNA.txt\n",
      "\n"
     ]
    },
    {
     "name": "stdout",
     "output_type": "stream",
     "text": [
      "[1] 557\n"
     ]
    },
    {
     "name": "stderr",
     "output_type": "stream",
     "text": [
      "Number of CDR3s in: ~/Desktop/H4H/INTERCEPT/NextSeq/remaining_batch_2_22April2021/mixcr/clones/CLONES_TRBCHP_365-04_PBMC-DNA.txt nonproductive removed\n",
      "\n"
     ]
    },
    {
     "name": "stdout",
     "output_type": "stream",
     "text": [
      "[1] 417\n"
     ]
    },
    {
     "name": "stderr",
     "output_type": "stream",
     "text": [
      "Number of CDR3s in: ~/Desktop/H4H/INTERCEPT/NextSeq/remaining_batch_2_22April2021/mixcr/clones/CLONES_TRBCHP_369-05_PBMC-DNA.txt\n",
      "\n"
     ]
    },
    {
     "name": "stdout",
     "output_type": "stream",
     "text": [
      "[1] 267\n"
     ]
    },
    {
     "name": "stderr",
     "output_type": "stream",
     "text": [
      "Number of CDR3s in: ~/Desktop/H4H/INTERCEPT/NextSeq/remaining_batch_2_22April2021/mixcr/clones/CLONES_TRBCHP_369-05_PBMC-DNA.txt nonproductive removed\n",
      "\n"
     ]
    },
    {
     "name": "stdout",
     "output_type": "stream",
     "text": [
      "[1] 202\n"
     ]
    },
    {
     "name": "stderr",
     "output_type": "stream",
     "text": [
      "Number of CDR3s in: ~/Desktop/H4H/INTERCEPT/NextSeq/remaining_batch_2_22April2021/mixcr/clones/CLONES_TRBCHP_371-01_PBMC-DNA.txt\n",
      "\n"
     ]
    },
    {
     "name": "stdout",
     "output_type": "stream",
     "text": [
      "[1] 838\n"
     ]
    },
    {
     "name": "stderr",
     "output_type": "stream",
     "text": [
      "Number of CDR3s in: ~/Desktop/H4H/INTERCEPT/NextSeq/remaining_batch_2_22April2021/mixcr/clones/CLONES_TRBCHP_371-01_PBMC-DNA.txt nonproductive removed\n",
      "\n"
     ]
    },
    {
     "name": "stdout",
     "output_type": "stream",
     "text": [
      "[1] 674\n"
     ]
    },
    {
     "name": "stderr",
     "output_type": "stream",
     "text": [
      "Number of CDR3s in: ~/Desktop/H4H/INTERCEPT/NextSeq/remaining_batch_2_22April2021/mixcr/clones/CLONES_TRBCHP_371-04_PBMC-DNA.txt\n",
      "\n"
     ]
    },
    {
     "name": "stdout",
     "output_type": "stream",
     "text": [
      "[1] 1441\n"
     ]
    },
    {
     "name": "stderr",
     "output_type": "stream",
     "text": [
      "Number of CDR3s in: ~/Desktop/H4H/INTERCEPT/NextSeq/remaining_batch_2_22April2021/mixcr/clones/CLONES_TRBCHP_371-04_PBMC-DNA.txt nonproductive removed\n",
      "\n"
     ]
    },
    {
     "name": "stdout",
     "output_type": "stream",
     "text": [
      "[1] 1136\n"
     ]
    },
    {
     "name": "stderr",
     "output_type": "stream",
     "text": [
      "Number of CDR3s in: ~/Desktop/H4H/INTERCEPT/NextSeq/remaining_batch_2_22April2021/mixcr/clones/CLONES_TRBCHP_376-02_PBMC-DNA.txt\n",
      "\n"
     ]
    },
    {
     "name": "stdout",
     "output_type": "stream",
     "text": [
      "[1] 2042\n"
     ]
    },
    {
     "name": "stderr",
     "output_type": "stream",
     "text": [
      "Number of CDR3s in: ~/Desktop/H4H/INTERCEPT/NextSeq/remaining_batch_2_22April2021/mixcr/clones/CLONES_TRBCHP_376-02_PBMC-DNA.txt nonproductive removed\n",
      "\n"
     ]
    },
    {
     "name": "stdout",
     "output_type": "stream",
     "text": [
      "[1] 1570\n"
     ]
    },
    {
     "name": "stderr",
     "output_type": "stream",
     "text": [
      "Number of CDR3s in: ~/Desktop/H4H/INTERCEPT/NextSeq/remaining_batch_2_22April2021/mixcr/clones/CLONES_TRBCHP_377-03_PBMC-DNA.txt\n",
      "\n"
     ]
    },
    {
     "name": "stdout",
     "output_type": "stream",
     "text": [
      "[1] 125\n"
     ]
    },
    {
     "name": "stderr",
     "output_type": "stream",
     "text": [
      "Number of CDR3s in: ~/Desktop/H4H/INTERCEPT/NextSeq/remaining_batch_2_22April2021/mixcr/clones/CLONES_TRBCHP_377-03_PBMC-DNA.txt nonproductive removed\n",
      "\n"
     ]
    },
    {
     "name": "stdout",
     "output_type": "stream",
     "text": [
      "[1] 99\n"
     ]
    },
    {
     "name": "stderr",
     "output_type": "stream",
     "text": [
      "Number of CDR3s in: ~/Desktop/H4H/INTERCEPT/NextSeq/remaining_batch_2_22April2021/mixcr/clones/CLONES_TRBCHP_381-01_PBMC-DNA.txt\n",
      "\n"
     ]
    },
    {
     "name": "stdout",
     "output_type": "stream",
     "text": [
      "[1] 1012\n"
     ]
    },
    {
     "name": "stderr",
     "output_type": "stream",
     "text": [
      "Number of CDR3s in: ~/Desktop/H4H/INTERCEPT/NextSeq/remaining_batch_2_22April2021/mixcr/clones/CLONES_TRBCHP_381-01_PBMC-DNA.txt nonproductive removed\n",
      "\n"
     ]
    },
    {
     "name": "stdout",
     "output_type": "stream",
     "text": [
      "[1] 795\n"
     ]
    },
    {
     "name": "stderr",
     "output_type": "stream",
     "text": [
      "Number of CDR3s in: ~/Desktop/H4H/INTERCEPT/NextSeq/remaining_batch_2_22April2021/mixcr/clones/CLONES_TRBCHP_388-02_PBMC-DNA.txt\n",
      "\n"
     ]
    },
    {
     "name": "stdout",
     "output_type": "stream",
     "text": [
      "[1] 1492\n"
     ]
    },
    {
     "name": "stderr",
     "output_type": "stream",
     "text": [
      "Number of CDR3s in: ~/Desktop/H4H/INTERCEPT/NextSeq/remaining_batch_2_22April2021/mixcr/clones/CLONES_TRBCHP_388-02_PBMC-DNA.txt nonproductive removed\n",
      "\n"
     ]
    },
    {
     "name": "stdout",
     "output_type": "stream",
     "text": [
      "[1] 1202\n"
     ]
    },
    {
     "name": "stderr",
     "output_type": "stream",
     "text": [
      "Number of CDR3s in: ~/Desktop/H4H/INTERCEPT/NextSeq/remaining_batch_2_22April2021/mixcr/clones/CLONES_TRBCHP_391-04_PBMC-DNA.txt\n",
      "\n"
     ]
    },
    {
     "name": "stdout",
     "output_type": "stream",
     "text": [
      "[1] 239\n"
     ]
    },
    {
     "name": "stderr",
     "output_type": "stream",
     "text": [
      "Number of CDR3s in: ~/Desktop/H4H/INTERCEPT/NextSeq/remaining_batch_2_22April2021/mixcr/clones/CLONES_TRBCHP_391-04_PBMC-DNA.txt nonproductive removed\n",
      "\n"
     ]
    },
    {
     "name": "stdout",
     "output_type": "stream",
     "text": [
      "[1] 180\n"
     ]
    },
    {
     "name": "stderr",
     "output_type": "stream",
     "text": [
      "Number of CDR3s in: ~/Desktop/H4H/INTERCEPT/NextSeq/remaining_batch_2_22April2021/mixcr/clones/CLONES_TRBCHP_397-03_PBMC-DNA.txt\n",
      "\n"
     ]
    },
    {
     "name": "stdout",
     "output_type": "stream",
     "text": [
      "[1] 516\n"
     ]
    },
    {
     "name": "stderr",
     "output_type": "stream",
     "text": [
      "Number of CDR3s in: ~/Desktop/H4H/INTERCEPT/NextSeq/remaining_batch_2_22April2021/mixcr/clones/CLONES_TRBCHP_397-03_PBMC-DNA.txt nonproductive removed\n",
      "\n"
     ]
    },
    {
     "name": "stdout",
     "output_type": "stream",
     "text": [
      "[1] 386\n"
     ]
    },
    {
     "name": "stderr",
     "output_type": "stream",
     "text": [
      "Number of CDR3s in: ~/Desktop/H4H/INTERCEPT/NextSeq/remaining_batch_2_22April2021/mixcr/clones/CLONES_TRBCHP_397-04_PBMC-DNA.txt\n",
      "\n"
     ]
    },
    {
     "name": "stdout",
     "output_type": "stream",
     "text": [
      "[1] 375\n"
     ]
    },
    {
     "name": "stderr",
     "output_type": "stream",
     "text": [
      "Number of CDR3s in: ~/Desktop/H4H/INTERCEPT/NextSeq/remaining_batch_2_22April2021/mixcr/clones/CLONES_TRBCHP_397-04_PBMC-DNA.txt nonproductive removed\n",
      "\n"
     ]
    },
    {
     "name": "stdout",
     "output_type": "stream",
     "text": [
      "[1] 237\n"
     ]
    },
    {
     "name": "stderr",
     "output_type": "stream",
     "text": [
      "Number of CDR3s in: ~/Desktop/H4H/INTERCEPT/NextSeq/remaining_batch_2_22April2021/mixcr/clones/CLONES_TRBCHP_399-02_PBMC-DNA.txt\n",
      "\n"
     ]
    },
    {
     "name": "stdout",
     "output_type": "stream",
     "text": [
      "[1] 1370\n"
     ]
    },
    {
     "name": "stderr",
     "output_type": "stream",
     "text": [
      "Number of CDR3s in: ~/Desktop/H4H/INTERCEPT/NextSeq/remaining_batch_2_22April2021/mixcr/clones/CLONES_TRBCHP_399-02_PBMC-DNA.txt nonproductive removed\n",
      "\n"
     ]
    },
    {
     "name": "stdout",
     "output_type": "stream",
     "text": [
      "[1] 1019\n"
     ]
    },
    {
     "name": "stderr",
     "output_type": "stream",
     "text": [
      "Number of CDR3s in: ~/Desktop/H4H/INTERCEPT/NextSeq/remaining_batch_2_cfDNA_15April2021/mixcr/clones/CLONES_TRBCHP_315-05_cfDNA.txt\n",
      "\n"
     ]
    },
    {
     "name": "stdout",
     "output_type": "stream",
     "text": [
      "[1] 2\n"
     ]
    },
    {
     "name": "stderr",
     "output_type": "stream",
     "text": [
      "Number of CDR3s in: ~/Desktop/H4H/INTERCEPT/NextSeq/remaining_batch_2_cfDNA_15April2021/mixcr/clones/CLONES_TRBCHP_315-05_cfDNA.txt nonproductive removed\n",
      "\n"
     ]
    },
    {
     "name": "stdout",
     "output_type": "stream",
     "text": [
      "[1] 1\n"
     ]
    },
    {
     "name": "stderr",
     "output_type": "stream",
     "text": [
      "Number of CDR3s in: ~/Desktop/H4H/INTERCEPT/NextSeq/remaining_batch_2_cfDNA_15April2021/mixcr/clones/CLONES_TRBCHP_338-05-cfDNA.txt\n",
      "\n"
     ]
    },
    {
     "name": "stdout",
     "output_type": "stream",
     "text": [
      "[1] 9\n"
     ]
    },
    {
     "name": "stderr",
     "output_type": "stream",
     "text": [
      "Number of CDR3s in: ~/Desktop/H4H/INTERCEPT/NextSeq/remaining_batch_2_cfDNA_15April2021/mixcr/clones/CLONES_TRBCHP_338-05-cfDNA.txt nonproductive removed\n",
      "\n"
     ]
    },
    {
     "name": "stdout",
     "output_type": "stream",
     "text": [
      "[1] 7\n"
     ]
    },
    {
     "name": "stderr",
     "output_type": "stream",
     "text": [
      "Number of CDR3s in: ~/Desktop/H4H/INTERCEPT/NextSeq/remaining_batch_2_cfDNA_15April2021/mixcr/clones/CLONES_TRBCHP_344-03-cfDNA.txt\n",
      "\n"
     ]
    },
    {
     "name": "stdout",
     "output_type": "stream",
     "text": [
      "[1] 5\n"
     ]
    },
    {
     "name": "stderr",
     "output_type": "stream",
     "text": [
      "Number of CDR3s in: ~/Desktop/H4H/INTERCEPT/NextSeq/remaining_batch_2_cfDNA_15April2021/mixcr/clones/CLONES_TRBCHP_344-03-cfDNA.txt nonproductive removed\n",
      "\n"
     ]
    },
    {
     "name": "stdout",
     "output_type": "stream",
     "text": [
      "[1] 3\n"
     ]
    },
    {
     "name": "stderr",
     "output_type": "stream",
     "text": [
      "Number of CDR3s in: ~/Desktop/H4H/INTERCEPT/NextSeq/remaining_batch_2_cfDNA_15April2021/mixcr/clones/CLONES_TRBCHP_345-04_cfDNA.txt\n",
      "\n"
     ]
    },
    {
     "name": "stdout",
     "output_type": "stream",
     "text": [
      "[1] 46\n"
     ]
    },
    {
     "name": "stderr",
     "output_type": "stream",
     "text": [
      "Number of CDR3s in: ~/Desktop/H4H/INTERCEPT/NextSeq/remaining_batch_2_cfDNA_15April2021/mixcr/clones/CLONES_TRBCHP_345-04_cfDNA.txt nonproductive removed\n",
      "\n"
     ]
    },
    {
     "name": "stdout",
     "output_type": "stream",
     "text": [
      "[1] 37\n"
     ]
    },
    {
     "name": "stderr",
     "output_type": "stream",
     "text": [
      "Number of CDR3s in: ~/Desktop/H4H/INTERCEPT/NextSeq/remaining_batch_2_cfDNA_15April2021/mixcr/clones/CLONES_TRBCHP_347-05_cfDNA.txt\n",
      "\n"
     ]
    },
    {
     "name": "stdout",
     "output_type": "stream",
     "text": [
      "[1] 14\n"
     ]
    },
    {
     "name": "stderr",
     "output_type": "stream",
     "text": [
      "Number of CDR3s in: ~/Desktop/H4H/INTERCEPT/NextSeq/remaining_batch_2_cfDNA_15April2021/mixcr/clones/CLONES_TRBCHP_347-05_cfDNA.txt nonproductive removed\n",
      "\n"
     ]
    },
    {
     "name": "stdout",
     "output_type": "stream",
     "text": [
      "[1] 11\n"
     ]
    },
    {
     "name": "stderr",
     "output_type": "stream",
     "text": [
      "Number of CDR3s in: ~/Desktop/H4H/INTERCEPT/NextSeq/remaining_batch_2_cfDNA_15April2021/mixcr/clones/CLONES_TRBCHP_348-04-cfDNA.txt\n",
      "\n"
     ]
    },
    {
     "name": "stdout",
     "output_type": "stream",
     "text": [
      "[1] 12\n"
     ]
    },
    {
     "name": "stderr",
     "output_type": "stream",
     "text": [
      "Number of CDR3s in: ~/Desktop/H4H/INTERCEPT/NextSeq/remaining_batch_2_cfDNA_15April2021/mixcr/clones/CLONES_TRBCHP_348-04-cfDNA.txt nonproductive removed\n",
      "\n"
     ]
    },
    {
     "name": "stdout",
     "output_type": "stream",
     "text": [
      "[1] 11\n"
     ]
    },
    {
     "name": "stderr",
     "output_type": "stream",
     "text": [
      "Number of CDR3s in: ~/Desktop/H4H/INTERCEPT/NextSeq/remaining_batch_2_cfDNA_15April2021/mixcr/clones/CLONES_TRBCHP_360-03_cfDNA.txt\n",
      "\n"
     ]
    },
    {
     "name": "stdout",
     "output_type": "stream",
     "text": [
      "[1] 7\n"
     ]
    },
    {
     "name": "stderr",
     "output_type": "stream",
     "text": [
      "Number of CDR3s in: ~/Desktop/H4H/INTERCEPT/NextSeq/remaining_batch_2_cfDNA_15April2021/mixcr/clones/CLONES_TRBCHP_360-03_cfDNA.txt nonproductive removed\n",
      "\n"
     ]
    },
    {
     "name": "stdout",
     "output_type": "stream",
     "text": [
      "[1] 6\n"
     ]
    },
    {
     "name": "stderr",
     "output_type": "stream",
     "text": [
      "Number of CDR3s in: ~/Desktop/H4H/INTERCEPT/NextSeq/remaining_batch_2_cfDNA_15April2021/mixcr/clones/CLONES_TRBCHP_362-02_cfDNA.txt\n",
      "\n"
     ]
    },
    {
     "name": "stdout",
     "output_type": "stream",
     "text": [
      "[1] 17\n"
     ]
    },
    {
     "name": "stderr",
     "output_type": "stream",
     "text": [
      "Number of CDR3s in: ~/Desktop/H4H/INTERCEPT/NextSeq/remaining_batch_2_cfDNA_15April2021/mixcr/clones/CLONES_TRBCHP_362-02_cfDNA.txt nonproductive removed\n",
      "\n"
     ]
    },
    {
     "name": "stdout",
     "output_type": "stream",
     "text": [
      "[1] 12\n"
     ]
    },
    {
     "name": "stderr",
     "output_type": "stream",
     "text": [
      "Number of CDR3s in: ~/Desktop/H4H/INTERCEPT/NextSeq/remaining_batch_2_cfDNA_15April2021/mixcr/clones/CLONES_TRBCHP_364-04-cfDNA.txt\n",
      "\n"
     ]
    },
    {
     "name": "stdout",
     "output_type": "stream",
     "text": [
      "[1] 7\n"
     ]
    },
    {
     "name": "stderr",
     "output_type": "stream",
     "text": [
      "Number of CDR3s in: ~/Desktop/H4H/INTERCEPT/NextSeq/remaining_batch_2_cfDNA_15April2021/mixcr/clones/CLONES_TRBCHP_364-04-cfDNA.txt nonproductive removed\n",
      "\n"
     ]
    },
    {
     "name": "stdout",
     "output_type": "stream",
     "text": [
      "[1] 6\n"
     ]
    },
    {
     "name": "stderr",
     "output_type": "stream",
     "text": [
      "Number of CDR3s in: ~/Desktop/H4H/INTERCEPT/NextSeq/remaining_batch_2_cfDNA_15April2021/mixcr/clones/CLONES_TRBCHP_369-03_cfDNA.txt\n",
      "\n"
     ]
    },
    {
     "name": "stdout",
     "output_type": "stream",
     "text": [
      "[1] 0\n"
     ]
    },
    {
     "name": "stderr",
     "output_type": "stream",
     "text": [
      "Number of CDR3s in: ~/Desktop/H4H/INTERCEPT/NextSeq/remaining_batch_2_cfDNA_15April2021/mixcr/clones/CLONES_TRBCHP_369-03_cfDNA.txt nonproductive removed\n",
      "\n"
     ]
    },
    {
     "name": "stdout",
     "output_type": "stream",
     "text": [
      "[1] 0\n"
     ]
    },
    {
     "name": "stderr",
     "output_type": "stream",
     "text": [
      "Number of CDR3s in: ~/Desktop/H4H/INTERCEPT/NextSeq/remaining_batch_2_cfDNA_15April2021/mixcr/clones/CLONES_TRBCHP_370-05-cfDNA.txt\n",
      "\n"
     ]
    },
    {
     "name": "stdout",
     "output_type": "stream",
     "text": [
      "[1] 7\n"
     ]
    },
    {
     "name": "stderr",
     "output_type": "stream",
     "text": [
      "Number of CDR3s in: ~/Desktop/H4H/INTERCEPT/NextSeq/remaining_batch_2_cfDNA_15April2021/mixcr/clones/CLONES_TRBCHP_370-05-cfDNA.txt nonproductive removed\n",
      "\n"
     ]
    },
    {
     "name": "stdout",
     "output_type": "stream",
     "text": [
      "[1] 5\n"
     ]
    },
    {
     "name": "stderr",
     "output_type": "stream",
     "text": [
      "Number of CDR3s in: ~/Desktop/H4H/INTERCEPT/NextSeq/remaining_batch_2_cfDNA_15April2021/mixcr/clones/CLONES_TRBCHP_376-04_cfDNA.txt\n",
      "\n"
     ]
    },
    {
     "name": "stdout",
     "output_type": "stream",
     "text": [
      "[1] 3\n"
     ]
    },
    {
     "name": "stderr",
     "output_type": "stream",
     "text": [
      "Number of CDR3s in: ~/Desktop/H4H/INTERCEPT/NextSeq/remaining_batch_2_cfDNA_15April2021/mixcr/clones/CLONES_TRBCHP_376-04_cfDNA.txt nonproductive removed\n",
      "\n"
     ]
    },
    {
     "name": "stdout",
     "output_type": "stream",
     "text": [
      "[1] 1\n"
     ]
    },
    {
     "name": "stderr",
     "output_type": "stream",
     "text": [
      "Number of CDR3s in: ~/Desktop/H4H/INTERCEPT/NextSeq/remaining_batch_2_cfDNA_15April2021/mixcr/clones/CLONES_TRBCHP_387-02_cfDNA.txt\n",
      "\n"
     ]
    },
    {
     "name": "stdout",
     "output_type": "stream",
     "text": [
      "[1] 5\n"
     ]
    },
    {
     "name": "stderr",
     "output_type": "stream",
     "text": [
      "Number of CDR3s in: ~/Desktop/H4H/INTERCEPT/NextSeq/remaining_batch_2_cfDNA_15April2021/mixcr/clones/CLONES_TRBCHP_387-02_cfDNA.txt nonproductive removed\n",
      "\n"
     ]
    },
    {
     "name": "stdout",
     "output_type": "stream",
     "text": [
      "[1] 4\n"
     ]
    },
    {
     "name": "stderr",
     "output_type": "stream",
     "text": [
      "Number of CDR3s in: ~/Desktop/H4H/INTERCEPT/NextSeq/remaining_batch_2_cfDNA_15April2021/mixcr/clones/CLONES_TRBCHP_389-05-cfDNA.txt\n",
      "\n"
     ]
    },
    {
     "name": "stdout",
     "output_type": "stream",
     "text": [
      "[1] 4\n"
     ]
    },
    {
     "name": "stderr",
     "output_type": "stream",
     "text": [
      "Number of CDR3s in: ~/Desktop/H4H/INTERCEPT/NextSeq/remaining_batch_2_cfDNA_15April2021/mixcr/clones/CLONES_TRBCHP_389-05-cfDNA.txt nonproductive removed\n",
      "\n"
     ]
    },
    {
     "name": "stdout",
     "output_type": "stream",
     "text": [
      "[1] 1\n"
     ]
    },
    {
     "name": "stderr",
     "output_type": "stream",
     "text": [
      "Number of CDR3s in: ~/Desktop/H4H/INTERCEPT/NextSeq/remaining_batch_2_cfDNA_15April2021/mixcr/clones/CLONES_TRBCHP_393-04_cfDNA.txt\n",
      "\n"
     ]
    },
    {
     "name": "stdout",
     "output_type": "stream",
     "text": [
      "[1] 2\n"
     ]
    },
    {
     "name": "stderr",
     "output_type": "stream",
     "text": [
      "Number of CDR3s in: ~/Desktop/H4H/INTERCEPT/NextSeq/remaining_batch_2_cfDNA_15April2021/mixcr/clones/CLONES_TRBCHP_393-04_cfDNA.txt nonproductive removed\n",
      "\n"
     ]
    },
    {
     "name": "stdout",
     "output_type": "stream",
     "text": [
      "[1] 1\n"
     ]
    },
    {
     "name": "stderr",
     "output_type": "stream",
     "text": [
      "Number of CDR3s in: ~/Desktop/H4H/INTERCEPT/NextSeq/remaining_batch_2_cfDNA_15April2021/mixcr/clones/CLONES_TRBCHP_401-03_cfDNA.txt\n",
      "\n"
     ]
    },
    {
     "name": "stdout",
     "output_type": "stream",
     "text": [
      "[1] 1\n"
     ]
    },
    {
     "name": "stderr",
     "output_type": "stream",
     "text": [
      "Number of CDR3s in: ~/Desktop/H4H/INTERCEPT/NextSeq/remaining_batch_2_cfDNA_15April2021/mixcr/clones/CLONES_TRBCHP_401-03_cfDNA.txt nonproductive removed\n",
      "\n"
     ]
    },
    {
     "name": "stdout",
     "output_type": "stream",
     "text": [
      "[1] 0\n"
     ]
    },
    {
     "name": "stderr",
     "output_type": "stream",
     "text": [
      "Number of CDR3s in: ~/Desktop/H4H/INTERCEPT/NextSeq/remaining_batch_3_4May2021/mixcr/clones/CLONES_TRBCHP_336-05_PBMC-DNA.txt\n",
      "\n"
     ]
    },
    {
     "name": "stdout",
     "output_type": "stream",
     "text": [
      "[1] 532\n"
     ]
    },
    {
     "name": "stderr",
     "output_type": "stream",
     "text": [
      "Number of CDR3s in: ~/Desktop/H4H/INTERCEPT/NextSeq/remaining_batch_3_4May2021/mixcr/clones/CLONES_TRBCHP_336-05_PBMC-DNA.txt nonproductive removed\n",
      "\n"
     ]
    },
    {
     "name": "stdout",
     "output_type": "stream",
     "text": [
      "[1] 415\n"
     ]
    },
    {
     "name": "stderr",
     "output_type": "stream",
     "text": [
      "Number of CDR3s in: ~/Desktop/H4H/INTERCEPT/NextSeq/remaining_batch_3_4May2021/mixcr/clones/CLONES_TRBCHP_360-04_PBMC-DNA.txt\n",
      "\n"
     ]
    },
    {
     "name": "stdout",
     "output_type": "stream",
     "text": [
      "[1] 594\n"
     ]
    },
    {
     "name": "stderr",
     "output_type": "stream",
     "text": [
      "Number of CDR3s in: ~/Desktop/H4H/INTERCEPT/NextSeq/remaining_batch_3_4May2021/mixcr/clones/CLONES_TRBCHP_360-04_PBMC-DNA.txt nonproductive removed\n",
      "\n"
     ]
    },
    {
     "name": "stdout",
     "output_type": "stream",
     "text": [
      "[1] 419\n"
     ]
    },
    {
     "name": "stderr",
     "output_type": "stream",
     "text": [
      "Number of CDR3s in: ~/Desktop/H4H/INTERCEPT/NextSeq/remaining_batch_3_4May2021/mixcr/clones/CLONES_TRBCHP_398-05_PBMC-DNA.txt\n",
      "\n"
     ]
    },
    {
     "name": "stdout",
     "output_type": "stream",
     "text": [
      "[1] 601\n"
     ]
    },
    {
     "name": "stderr",
     "output_type": "stream",
     "text": [
      "Number of CDR3s in: ~/Desktop/H4H/INTERCEPT/NextSeq/remaining_batch_3_4May2021/mixcr/clones/CLONES_TRBCHP_398-05_PBMC-DNA.txt nonproductive removed\n",
      "\n"
     ]
    },
    {
     "name": "stdout",
     "output_type": "stream",
     "text": [
      "[1] 453\n"
     ]
    },
    {
     "name": "stderr",
     "output_type": "stream",
     "text": [
      "Number of CDR3s in: ~/Desktop/H4H/INTERCEPT/NextSeq/remaining_batch_3_4May2021/mixcr/clones/CLONES_TRBCHP_403-03_PBMC-DNA.txt\n",
      "\n"
     ]
    },
    {
     "name": "stdout",
     "output_type": "stream",
     "text": [
      "[1] 40\n"
     ]
    },
    {
     "name": "stderr",
     "output_type": "stream",
     "text": [
      "Number of CDR3s in: ~/Desktop/H4H/INTERCEPT/NextSeq/remaining_batch_3_4May2021/mixcr/clones/CLONES_TRBCHP_403-03_PBMC-DNA.txt nonproductive removed\n",
      "\n"
     ]
    },
    {
     "name": "stdout",
     "output_type": "stream",
     "text": [
      "[1] 31\n"
     ]
    },
    {
     "name": "stderr",
     "output_type": "stream",
     "text": [
      "Number of CDR3s in: ~/Desktop/H4H/INTERCEPT/NextSeq/remaining_batch_3_4May2021/mixcr/clones/CLONES_TRBCHP_405-05_PBMC-DNA.txt\n",
      "\n"
     ]
    },
    {
     "name": "stdout",
     "output_type": "stream",
     "text": [
      "[1] 234\n"
     ]
    },
    {
     "name": "stderr",
     "output_type": "stream",
     "text": [
      "Number of CDR3s in: ~/Desktop/H4H/INTERCEPT/NextSeq/remaining_batch_3_4May2021/mixcr/clones/CLONES_TRBCHP_405-05_PBMC-DNA.txt nonproductive removed\n",
      "\n"
     ]
    },
    {
     "name": "stdout",
     "output_type": "stream",
     "text": [
      "[1] 164\n"
     ]
    },
    {
     "name": "stderr",
     "output_type": "stream",
     "text": [
      "Number of CDR3s in: ~/Desktop/H4H/INTERCEPT/NextSeq/remaining_batch_3_4May2021/mixcr/clones/CLONES_TRBCHP_406-03_PBMC-DNA.txt\n",
      "\n"
     ]
    },
    {
     "name": "stdout",
     "output_type": "stream",
     "text": [
      "[1] 107\n"
     ]
    },
    {
     "name": "stderr",
     "output_type": "stream",
     "text": [
      "Number of CDR3s in: ~/Desktop/H4H/INTERCEPT/NextSeq/remaining_batch_3_4May2021/mixcr/clones/CLONES_TRBCHP_406-03_PBMC-DNA.txt nonproductive removed\n",
      "\n"
     ]
    },
    {
     "name": "stdout",
     "output_type": "stream",
     "text": [
      "[1] 68\n"
     ]
    },
    {
     "name": "stderr",
     "output_type": "stream",
     "text": [
      "Number of CDR3s in: ~/Desktop/H4H/INTERCEPT/NextSeq/remaining_batch_3_4May2021/mixcr/clones/CLONES_TRBCHP_413-02_PBMC-DNA.txt\n",
      "\n"
     ]
    },
    {
     "name": "stdout",
     "output_type": "stream",
     "text": [
      "[1] 373\n"
     ]
    },
    {
     "name": "stderr",
     "output_type": "stream",
     "text": [
      "Number of CDR3s in: ~/Desktop/H4H/INTERCEPT/NextSeq/remaining_batch_3_4May2021/mixcr/clones/CLONES_TRBCHP_413-02_PBMC-DNA.txt nonproductive removed\n",
      "\n"
     ]
    },
    {
     "name": "stdout",
     "output_type": "stream",
     "text": [
      "[1] 263\n"
     ]
    },
    {
     "name": "stderr",
     "output_type": "stream",
     "text": [
      "Number of CDR3s in: ~/Desktop/H4H/INTERCEPT/NextSeq/remaining_batch_3_4May2021/mixcr/clones/CLONES_TRBCHP_414-01_PBMC-DNA.txt\n",
      "\n"
     ]
    },
    {
     "name": "stdout",
     "output_type": "stream",
     "text": [
      "[1] 23\n"
     ]
    },
    {
     "name": "stderr",
     "output_type": "stream",
     "text": [
      "Number of CDR3s in: ~/Desktop/H4H/INTERCEPT/NextSeq/remaining_batch_3_4May2021/mixcr/clones/CLONES_TRBCHP_414-01_PBMC-DNA.txt nonproductive removed\n",
      "\n"
     ]
    },
    {
     "name": "stdout",
     "output_type": "stream",
     "text": [
      "[1] 13\n"
     ]
    },
    {
     "name": "stderr",
     "output_type": "stream",
     "text": [
      "Number of CDR3s in: ~/Desktop/H4H/INTERCEPT/NextSeq/remaining_batch_3_4May2021/mixcr/clones/CLONES_TRBCHP_414-03_PBMC-DNA.txt\n",
      "\n"
     ]
    },
    {
     "name": "stdout",
     "output_type": "stream",
     "text": [
      "[1] 663\n"
     ]
    },
    {
     "name": "stderr",
     "output_type": "stream",
     "text": [
      "Number of CDR3s in: ~/Desktop/H4H/INTERCEPT/NextSeq/remaining_batch_3_4May2021/mixcr/clones/CLONES_TRBCHP_414-03_PBMC-DNA.txt nonproductive removed\n",
      "\n"
     ]
    },
    {
     "name": "stdout",
     "output_type": "stream",
     "text": [
      "[1] 491\n"
     ]
    },
    {
     "name": "stderr",
     "output_type": "stream",
     "text": [
      "Number of CDR3s in: ~/Desktop/H4H/INTERCEPT/NextSeq/remaining_batch_3_4May2021/mixcr/clones/CLONES_TRBCHP_415-02_PBMC-DNA.txt\n",
      "\n"
     ]
    },
    {
     "name": "stdout",
     "output_type": "stream",
     "text": [
      "[1] 117\n"
     ]
    },
    {
     "name": "stderr",
     "output_type": "stream",
     "text": [
      "Number of CDR3s in: ~/Desktop/H4H/INTERCEPT/NextSeq/remaining_batch_3_4May2021/mixcr/clones/CLONES_TRBCHP_415-02_PBMC-DNA.txt nonproductive removed\n",
      "\n"
     ]
    },
    {
     "name": "stdout",
     "output_type": "stream",
     "text": [
      "[1] 82\n"
     ]
    },
    {
     "name": "stderr",
     "output_type": "stream",
     "text": [
      "Number of CDR3s in: ~/Desktop/H4H/INTERCEPT/NextSeq/remaining_batch_3_4May2021/mixcr/clones/CLONES_TRBCHP_415-03_PBMC-DNA.txt\n",
      "\n"
     ]
    },
    {
     "name": "stdout",
     "output_type": "stream",
     "text": [
      "[1] 19\n"
     ]
    },
    {
     "name": "stderr",
     "output_type": "stream",
     "text": [
      "Number of CDR3s in: ~/Desktop/H4H/INTERCEPT/NextSeq/remaining_batch_3_4May2021/mixcr/clones/CLONES_TRBCHP_415-03_PBMC-DNA.txt nonproductive removed\n",
      "\n"
     ]
    },
    {
     "name": "stdout",
     "output_type": "stream",
     "text": [
      "[1] 13\n"
     ]
    },
    {
     "name": "stderr",
     "output_type": "stream",
     "text": [
      "Number of CDR3s in: ~/Desktop/H4H/INTERCEPT/NextSeq/remaining_batch_3_4May2021/mixcr/clones/CLONES_TRBCHP_418-02_PBMC-DNA.txt\n",
      "\n"
     ]
    },
    {
     "name": "stdout",
     "output_type": "stream",
     "text": [
      "[1] 108\n"
     ]
    },
    {
     "name": "stderr",
     "output_type": "stream",
     "text": [
      "Number of CDR3s in: ~/Desktop/H4H/INTERCEPT/NextSeq/remaining_batch_3_4May2021/mixcr/clones/CLONES_TRBCHP_418-02_PBMC-DNA.txt nonproductive removed\n",
      "\n"
     ]
    },
    {
     "name": "stdout",
     "output_type": "stream",
     "text": [
      "[1] 82\n"
     ]
    },
    {
     "name": "stderr",
     "output_type": "stream",
     "text": [
      "Number of CDR3s in: ~/Desktop/H4H/INTERCEPT/NextSeq/remaining_batch_3_4May2021/mixcr/clones/CLONES_TRBCHP_419-02_PBMC-DNA.txt\n",
      "\n"
     ]
    },
    {
     "name": "stdout",
     "output_type": "stream",
     "text": [
      "[1] 212\n"
     ]
    },
    {
     "name": "stderr",
     "output_type": "stream",
     "text": [
      "Number of CDR3s in: ~/Desktop/H4H/INTERCEPT/NextSeq/remaining_batch_3_4May2021/mixcr/clones/CLONES_TRBCHP_419-02_PBMC-DNA.txt nonproductive removed\n",
      "\n"
     ]
    },
    {
     "name": "stdout",
     "output_type": "stream",
     "text": [
      "[1] 161\n"
     ]
    },
    {
     "name": "stderr",
     "output_type": "stream",
     "text": [
      "Number of CDR3s in: ~/Desktop/H4H/INTERCEPT/NextSeq/remaining_batch_3_4May2021/mixcr/clones/CLONES_TRBCHP_420-01_PBMC-DNA.txt\n",
      "\n"
     ]
    },
    {
     "name": "stdout",
     "output_type": "stream",
     "text": [
      "[1] 842\n"
     ]
    },
    {
     "name": "stderr",
     "output_type": "stream",
     "text": [
      "Number of CDR3s in: ~/Desktop/H4H/INTERCEPT/NextSeq/remaining_batch_3_4May2021/mixcr/clones/CLONES_TRBCHP_420-01_PBMC-DNA.txt nonproductive removed\n",
      "\n"
     ]
    },
    {
     "name": "stdout",
     "output_type": "stream",
     "text": [
      "[1] 596\n"
     ]
    },
    {
     "name": "stderr",
     "output_type": "stream",
     "text": [
      "Number of CDR3s in: ~/Desktop/H4H/INTERCEPT/NextSeq/remaining_batch_3_cfDNA_15April2021/mixcr/clones/CLONES_TRBCHP_343-05-cfDNA.txt\n",
      "\n"
     ]
    },
    {
     "name": "stdout",
     "output_type": "stream",
     "text": [
      "[1] 6\n"
     ]
    },
    {
     "name": "stderr",
     "output_type": "stream",
     "text": [
      "Number of CDR3s in: ~/Desktop/H4H/INTERCEPT/NextSeq/remaining_batch_3_cfDNA_15April2021/mixcr/clones/CLONES_TRBCHP_343-05-cfDNA.txt nonproductive removed\n",
      "\n"
     ]
    },
    {
     "name": "stdout",
     "output_type": "stream",
     "text": [
      "[1] 2\n"
     ]
    },
    {
     "name": "stderr",
     "output_type": "stream",
     "text": [
      "Number of CDR3s in: ~/Desktop/H4H/INTERCEPT/NextSeq/remaining_batch_3_cfDNA_15April2021/mixcr/clones/CLONES_TRBCHP_348-02-cfDNA.txt\n",
      "\n"
     ]
    },
    {
     "name": "stdout",
     "output_type": "stream",
     "text": [
      "[1] 9\n"
     ]
    },
    {
     "name": "stderr",
     "output_type": "stream",
     "text": [
      "Number of CDR3s in: ~/Desktop/H4H/INTERCEPT/NextSeq/remaining_batch_3_cfDNA_15April2021/mixcr/clones/CLONES_TRBCHP_348-02-cfDNA.txt nonproductive removed\n",
      "\n"
     ]
    },
    {
     "name": "stdout",
     "output_type": "stream",
     "text": [
      "[1] 6\n"
     ]
    },
    {
     "name": "stderr",
     "output_type": "stream",
     "text": [
      "Number of CDR3s in: ~/Desktop/H4H/INTERCEPT/NextSeq/remaining_batch_3_cfDNA_15April2021/mixcr/clones/CLONES_TRBCHP_373-03_cfDNA.txt\n",
      "\n"
     ]
    },
    {
     "name": "stdout",
     "output_type": "stream",
     "text": [
      "[1] 0\n"
     ]
    },
    {
     "name": "stderr",
     "output_type": "stream",
     "text": [
      "Number of CDR3s in: ~/Desktop/H4H/INTERCEPT/NextSeq/remaining_batch_3_cfDNA_15April2021/mixcr/clones/CLONES_TRBCHP_373-03_cfDNA.txt nonproductive removed\n",
      "\n"
     ]
    },
    {
     "name": "stdout",
     "output_type": "stream",
     "text": [
      "[1] 0\n"
     ]
    },
    {
     "name": "stderr",
     "output_type": "stream",
     "text": [
      "Number of CDR3s in: ~/Desktop/H4H/INTERCEPT/NextSeq/remaining_batch_3_cfDNA_15April2021/mixcr/clones/CLONES_TRBCHP_380-04_cfDNA.txt\n",
      "\n"
     ]
    },
    {
     "name": "stdout",
     "output_type": "stream",
     "text": [
      "[1] 2\n"
     ]
    },
    {
     "name": "stderr",
     "output_type": "stream",
     "text": [
      "Number of CDR3s in: ~/Desktop/H4H/INTERCEPT/NextSeq/remaining_batch_3_cfDNA_15April2021/mixcr/clones/CLONES_TRBCHP_380-04_cfDNA.txt nonproductive removed\n",
      "\n"
     ]
    },
    {
     "name": "stdout",
     "output_type": "stream",
     "text": [
      "[1] 2\n"
     ]
    },
    {
     "name": "stderr",
     "output_type": "stream",
     "text": [
      "Number of CDR3s in: ~/Desktop/H4H/INTERCEPT/NextSeq/remaining_batch_3_cfDNA_15April2021/mixcr/clones/CLONES_TRBCHP_382-04_cfDNA.txt\n",
      "\n"
     ]
    },
    {
     "name": "stdout",
     "output_type": "stream",
     "text": [
      "[1] 10\n"
     ]
    },
    {
     "name": "stderr",
     "output_type": "stream",
     "text": [
      "Number of CDR3s in: ~/Desktop/H4H/INTERCEPT/NextSeq/remaining_batch_3_cfDNA_15April2021/mixcr/clones/CLONES_TRBCHP_382-04_cfDNA.txt nonproductive removed\n",
      "\n"
     ]
    },
    {
     "name": "stdout",
     "output_type": "stream",
     "text": [
      "[1] 8\n"
     ]
    },
    {
     "name": "stderr",
     "output_type": "stream",
     "text": [
      "Number of CDR3s in: ~/Desktop/H4H/INTERCEPT/NextSeq/remaining_batch_3_cfDNA_15April2021/mixcr/clones/CLONES_TRBCHP_386-03_cfDNA.txt\n",
      "\n"
     ]
    },
    {
     "name": "stdout",
     "output_type": "stream",
     "text": [
      "[1] 5\n"
     ]
    },
    {
     "name": "stderr",
     "output_type": "stream",
     "text": [
      "Number of CDR3s in: ~/Desktop/H4H/INTERCEPT/NextSeq/remaining_batch_3_cfDNA_15April2021/mixcr/clones/CLONES_TRBCHP_386-03_cfDNA.txt nonproductive removed\n",
      "\n"
     ]
    },
    {
     "name": "stdout",
     "output_type": "stream",
     "text": [
      "[1] 4\n"
     ]
    },
    {
     "name": "stderr",
     "output_type": "stream",
     "text": [
      "Number of CDR3s in: ~/Desktop/H4H/INTERCEPT/NextSeq/remaining_batch_3_cfDNA_15April2021/mixcr/clones/CLONES_TRBCHP_386-04_cfDNA.txt\n",
      "\n"
     ]
    },
    {
     "name": "stdout",
     "output_type": "stream",
     "text": [
      "[1] 1\n"
     ]
    },
    {
     "name": "stderr",
     "output_type": "stream",
     "text": [
      "Number of CDR3s in: ~/Desktop/H4H/INTERCEPT/NextSeq/remaining_batch_3_cfDNA_15April2021/mixcr/clones/CLONES_TRBCHP_386-04_cfDNA.txt nonproductive removed\n",
      "\n"
     ]
    },
    {
     "name": "stdout",
     "output_type": "stream",
     "text": [
      "[1] 1\n"
     ]
    },
    {
     "name": "stderr",
     "output_type": "stream",
     "text": [
      "Number of CDR3s in: ~/Desktop/H4H/INTERCEPT/NextSeq/remaining_batch_3_cfDNA_15April2021/mixcr/clones/CLONES_TRBCHP_397-05_cfDNA.txt\n",
      "\n"
     ]
    },
    {
     "name": "stdout",
     "output_type": "stream",
     "text": [
      "[1] 18\n"
     ]
    },
    {
     "name": "stderr",
     "output_type": "stream",
     "text": [
      "Number of CDR3s in: ~/Desktop/H4H/INTERCEPT/NextSeq/remaining_batch_3_cfDNA_15April2021/mixcr/clones/CLONES_TRBCHP_397-05_cfDNA.txt nonproductive removed\n",
      "\n"
     ]
    },
    {
     "name": "stdout",
     "output_type": "stream",
     "text": [
      "[1] 15\n"
     ]
    },
    {
     "name": "stderr",
     "output_type": "stream",
     "text": [
      "Number of CDR3s in: ~/Desktop/H4H/INTERCEPT/NextSeq/remaining_batch_3_cfDNA_15April2021/mixcr/clones/CLONES_TRBCHP_400-03_cfDNA.txt\n",
      "\n"
     ]
    },
    {
     "name": "stdout",
     "output_type": "stream",
     "text": [
      "[1] 1\n"
     ]
    },
    {
     "name": "stderr",
     "output_type": "stream",
     "text": [
      "Number of CDR3s in: ~/Desktop/H4H/INTERCEPT/NextSeq/remaining_batch_3_cfDNA_15April2021/mixcr/clones/CLONES_TRBCHP_400-03_cfDNA.txt nonproductive removed\n",
      "\n"
     ]
    },
    {
     "name": "stdout",
     "output_type": "stream",
     "text": [
      "[1] 1\n"
     ]
    },
    {
     "name": "stderr",
     "output_type": "stream",
     "text": [
      "Number of CDR3s in: ~/Desktop/H4H/INTERCEPT/NextSeq/remaining_batch_3_cfDNA_15April2021/mixcr/clones/CLONES_TRBCHP_404-04_cfDNA.txt\n",
      "\n"
     ]
    },
    {
     "name": "stdout",
     "output_type": "stream",
     "text": [
      "[1] 1\n"
     ]
    },
    {
     "name": "stderr",
     "output_type": "stream",
     "text": [
      "Number of CDR3s in: ~/Desktop/H4H/INTERCEPT/NextSeq/remaining_batch_3_cfDNA_15April2021/mixcr/clones/CLONES_TRBCHP_404-04_cfDNA.txt nonproductive removed\n",
      "\n"
     ]
    },
    {
     "name": "stdout",
     "output_type": "stream",
     "text": [
      "[1] 1\n"
     ]
    },
    {
     "name": "stderr",
     "output_type": "stream",
     "text": [
      "Number of CDR3s in: ~/Desktop/H4H/INTERCEPT/NextSeq/remaining_batch_3_cfDNA_15April2021/mixcr/clones/CLONES_TRBCHP_407-01_cfDNA.txt\n",
      "\n"
     ]
    },
    {
     "name": "stdout",
     "output_type": "stream",
     "text": [
      "[1] 7\n"
     ]
    },
    {
     "name": "stderr",
     "output_type": "stream",
     "text": [
      "Number of CDR3s in: ~/Desktop/H4H/INTERCEPT/NextSeq/remaining_batch_3_cfDNA_15April2021/mixcr/clones/CLONES_TRBCHP_407-01_cfDNA.txt nonproductive removed\n",
      "\n"
     ]
    },
    {
     "name": "stdout",
     "output_type": "stream",
     "text": [
      "[1] 6\n"
     ]
    },
    {
     "name": "stderr",
     "output_type": "stream",
     "text": [
      "Number of CDR3s in: ~/Desktop/H4H/INTERCEPT/NextSeq/remaining_batch_3_cfDNA_15April2021/mixcr/clones/CLONES_TRBCHP_407-04_cfDNA.txt\n",
      "\n"
     ]
    },
    {
     "name": "stdout",
     "output_type": "stream",
     "text": [
      "[1] 4\n"
     ]
    },
    {
     "name": "stderr",
     "output_type": "stream",
     "text": [
      "Number of CDR3s in: ~/Desktop/H4H/INTERCEPT/NextSeq/remaining_batch_3_cfDNA_15April2021/mixcr/clones/CLONES_TRBCHP_407-04_cfDNA.txt nonproductive removed\n",
      "\n"
     ]
    },
    {
     "name": "stdout",
     "output_type": "stream",
     "text": [
      "[1] 1\n"
     ]
    },
    {
     "name": "stderr",
     "output_type": "stream",
     "text": [
      "Number of CDR3s in: ~/Desktop/H4H/INTERCEPT/NextSeq/remaining_batch_3_cfDNA_15April2021/mixcr/clones/CLONES_TRBCHP_414-02_cfDNA.txt\n",
      "\n"
     ]
    },
    {
     "name": "stdout",
     "output_type": "stream",
     "text": [
      "[1] 6\n"
     ]
    },
    {
     "name": "stderr",
     "output_type": "stream",
     "text": [
      "Number of CDR3s in: ~/Desktop/H4H/INTERCEPT/NextSeq/remaining_batch_3_cfDNA_15April2021/mixcr/clones/CLONES_TRBCHP_414-02_cfDNA.txt nonproductive removed\n",
      "\n"
     ]
    },
    {
     "name": "stdout",
     "output_type": "stream",
     "text": [
      "[1] 5\n"
     ]
    },
    {
     "name": "stderr",
     "output_type": "stream",
     "text": [
      "Number of CDR3s in: ~/Desktop/H4H/INTERCEPT/NextSeq/remaining_batch_3_cfDNA_15April2021/mixcr/clones/CLONES_TRBCHP_414-03_cfDNA.txt\n",
      "\n"
     ]
    },
    {
     "name": "stdout",
     "output_type": "stream",
     "text": [
      "[1] 10\n"
     ]
    },
    {
     "name": "stderr",
     "output_type": "stream",
     "text": [
      "Number of CDR3s in: ~/Desktop/H4H/INTERCEPT/NextSeq/remaining_batch_3_cfDNA_15April2021/mixcr/clones/CLONES_TRBCHP_414-03_cfDNA.txt nonproductive removed\n",
      "\n"
     ]
    },
    {
     "name": "stdout",
     "output_type": "stream",
     "text": [
      "[1] 9\n"
     ]
    },
    {
     "name": "stderr",
     "output_type": "stream",
     "text": [
      "Number of CDR3s in: ~/Desktop/H4H/INTERCEPT/NextSeq/remaining_batch_4_28June2021/mixcr/clones/CLONES_TRBCHP-328-04-PBMC-DNA.txt\n",
      "\n"
     ]
    },
    {
     "name": "stdout",
     "output_type": "stream",
     "text": [
      "[1] 587\n"
     ]
    },
    {
     "name": "stderr",
     "output_type": "stream",
     "text": [
      "Number of CDR3s in: ~/Desktop/H4H/INTERCEPT/NextSeq/remaining_batch_4_28June2021/mixcr/clones/CLONES_TRBCHP-328-04-PBMC-DNA.txt nonproductive removed\n",
      "\n"
     ]
    },
    {
     "name": "stdout",
     "output_type": "stream",
     "text": [
      "[1] 454\n"
     ]
    },
    {
     "name": "stderr",
     "output_type": "stream",
     "text": [
      "Number of CDR3s in: ~/Desktop/H4H/INTERCEPT/NextSeq/remaining_batch_4_28June2021/mixcr/clones/CLONES_TRBCHP-328-05-PBMC-DNA.txt\n",
      "\n"
     ]
    },
    {
     "name": "stdout",
     "output_type": "stream",
     "text": [
      "[1] 225\n"
     ]
    },
    {
     "name": "stderr",
     "output_type": "stream",
     "text": [
      "Number of CDR3s in: ~/Desktop/H4H/INTERCEPT/NextSeq/remaining_batch_4_28June2021/mixcr/clones/CLONES_TRBCHP-328-05-PBMC-DNA.txt nonproductive removed\n",
      "\n"
     ]
    },
    {
     "name": "stdout",
     "output_type": "stream",
     "text": [
      "[1] 153\n"
     ]
    },
    {
     "name": "stderr",
     "output_type": "stream",
     "text": [
      "Number of CDR3s in: ~/Desktop/H4H/INTERCEPT/NextSeq/remaining_batch_4_28June2021/mixcr/clones/CLONES_TRBCHP-342-03-PBMC-DNA.txt\n",
      "\n"
     ]
    },
    {
     "name": "stdout",
     "output_type": "stream",
     "text": [
      "[1] 544\n"
     ]
    },
    {
     "name": "stderr",
     "output_type": "stream",
     "text": [
      "Number of CDR3s in: ~/Desktop/H4H/INTERCEPT/NextSeq/remaining_batch_4_28June2021/mixcr/clones/CLONES_TRBCHP-342-03-PBMC-DNA.txt nonproductive removed\n",
      "\n"
     ]
    },
    {
     "name": "stdout",
     "output_type": "stream",
     "text": [
      "[1] 395\n"
     ]
    },
    {
     "name": "stderr",
     "output_type": "stream",
     "text": [
      "Number of CDR3s in: ~/Desktop/H4H/INTERCEPT/NextSeq/remaining_batch_4_28June2021/mixcr/clones/CLONES_TRBCHP-351-03-PBMC-DNA.txt\n",
      "\n"
     ]
    },
    {
     "name": "stdout",
     "output_type": "stream",
     "text": [
      "[1] 1450\n"
     ]
    },
    {
     "name": "stderr",
     "output_type": "stream",
     "text": [
      "Number of CDR3s in: ~/Desktop/H4H/INTERCEPT/NextSeq/remaining_batch_4_28June2021/mixcr/clones/CLONES_TRBCHP-351-03-PBMC-DNA.txt nonproductive removed\n",
      "\n"
     ]
    },
    {
     "name": "stdout",
     "output_type": "stream",
     "text": [
      "[1] 1100\n"
     ]
    },
    {
     "name": "stderr",
     "output_type": "stream",
     "text": [
      "Number of CDR3s in: ~/Desktop/H4H/INTERCEPT/NextSeq/remaining_batch_4_28June2021/mixcr/clones/CLONES_TRBCHP-353-04-PBMC-DNA.txt\n",
      "\n"
     ]
    },
    {
     "name": "stdout",
     "output_type": "stream",
     "text": [
      "[1] 2133\n"
     ]
    },
    {
     "name": "stderr",
     "output_type": "stream",
     "text": [
      "Number of CDR3s in: ~/Desktop/H4H/INTERCEPT/NextSeq/remaining_batch_4_28June2021/mixcr/clones/CLONES_TRBCHP-353-04-PBMC-DNA.txt nonproductive removed\n",
      "\n"
     ]
    },
    {
     "name": "stdout",
     "output_type": "stream",
     "text": [
      "[1] 1699\n"
     ]
    },
    {
     "name": "stderr",
     "output_type": "stream",
     "text": [
      "Number of CDR3s in: ~/Desktop/H4H/INTERCEPT/NextSeq/remaining_batch_4_28June2021/mixcr/clones/CLONES_TRBCHP-363-04-PBMC-DNA.txt\n",
      "\n"
     ]
    },
    {
     "name": "stdout",
     "output_type": "stream",
     "text": [
      "[1] 1006\n"
     ]
    },
    {
     "name": "stderr",
     "output_type": "stream",
     "text": [
      "Number of CDR3s in: ~/Desktop/H4H/INTERCEPT/NextSeq/remaining_batch_4_28June2021/mixcr/clones/CLONES_TRBCHP-363-04-PBMC-DNA.txt nonproductive removed\n",
      "\n"
     ]
    },
    {
     "name": "stdout",
     "output_type": "stream",
     "text": [
      "[1] 756\n"
     ]
    },
    {
     "name": "stderr",
     "output_type": "stream",
     "text": [
      "Number of CDR3s in: ~/Desktop/H4H/INTERCEPT/NextSeq/remaining_batch_4_28June2021/mixcr/clones/CLONES_TRBCHP-369-01-PBMC-DNA.txt\n",
      "\n"
     ]
    },
    {
     "name": "stdout",
     "output_type": "stream",
     "text": [
      "[1] 1012\n"
     ]
    },
    {
     "name": "stderr",
     "output_type": "stream",
     "text": [
      "Number of CDR3s in: ~/Desktop/H4H/INTERCEPT/NextSeq/remaining_batch_4_28June2021/mixcr/clones/CLONES_TRBCHP-369-01-PBMC-DNA.txt nonproductive removed\n",
      "\n"
     ]
    },
    {
     "name": "stdout",
     "output_type": "stream",
     "text": [
      "[1] 736\n"
     ]
    },
    {
     "name": "stderr",
     "output_type": "stream",
     "text": [
      "Number of CDR3s in: ~/Desktop/H4H/INTERCEPT/NextSeq/remaining_batch_4_28June2021/mixcr/clones/CLONES_TRBCHP-371-03-PBMC-DNA.txt\n",
      "\n"
     ]
    },
    {
     "name": "stdout",
     "output_type": "stream",
     "text": [
      "[1] 800\n"
     ]
    },
    {
     "name": "stderr",
     "output_type": "stream",
     "text": [
      "Number of CDR3s in: ~/Desktop/H4H/INTERCEPT/NextSeq/remaining_batch_4_28June2021/mixcr/clones/CLONES_TRBCHP-371-03-PBMC-DNA.txt nonproductive removed\n",
      "\n"
     ]
    },
    {
     "name": "stdout",
     "output_type": "stream",
     "text": [
      "[1] 614\n"
     ]
    },
    {
     "name": "stderr",
     "output_type": "stream",
     "text": [
      "Number of CDR3s in: ~/Desktop/H4H/INTERCEPT/NextSeq/remaining_batch_4_28June2021/mixcr/clones/CLONES_TRBCHP-377-02-PBMC-DNA.txt\n",
      "\n"
     ]
    },
    {
     "name": "stdout",
     "output_type": "stream",
     "text": [
      "[1] 621\n"
     ]
    },
    {
     "name": "stderr",
     "output_type": "stream",
     "text": [
      "Number of CDR3s in: ~/Desktop/H4H/INTERCEPT/NextSeq/remaining_batch_4_28June2021/mixcr/clones/CLONES_TRBCHP-377-02-PBMC-DNA.txt nonproductive removed\n",
      "\n"
     ]
    },
    {
     "name": "stdout",
     "output_type": "stream",
     "text": [
      "[1] 514\n"
     ]
    },
    {
     "name": "stderr",
     "output_type": "stream",
     "text": [
      "Number of CDR3s in: ~/Desktop/H4H/INTERCEPT/NextSeq/remaining_batch_4_28June2021/mixcr/clones/CLONES_TRBCHP-386-04-PBMC-DNA.txt\n",
      "\n"
     ]
    },
    {
     "name": "stdout",
     "output_type": "stream",
     "text": [
      "[1] 897\n"
     ]
    },
    {
     "name": "stderr",
     "output_type": "stream",
     "text": [
      "Number of CDR3s in: ~/Desktop/H4H/INTERCEPT/NextSeq/remaining_batch_4_28June2021/mixcr/clones/CLONES_TRBCHP-386-04-PBMC-DNA.txt nonproductive removed\n",
      "\n"
     ]
    },
    {
     "name": "stdout",
     "output_type": "stream",
     "text": [
      "[1] 666\n"
     ]
    },
    {
     "name": "stderr",
     "output_type": "stream",
     "text": [
      "Number of CDR3s in: ~/Desktop/H4H/INTERCEPT/NextSeq/remaining_batch_4_28June2021/mixcr/clones/CLONES_TRBCHP-386-05-PBMC-DNA.txt\n",
      "\n"
     ]
    },
    {
     "name": "stdout",
     "output_type": "stream",
     "text": [
      "[1] 475\n"
     ]
    },
    {
     "name": "stderr",
     "output_type": "stream",
     "text": [
      "Number of CDR3s in: ~/Desktop/H4H/INTERCEPT/NextSeq/remaining_batch_4_28June2021/mixcr/clones/CLONES_TRBCHP-386-05-PBMC-DNA.txt nonproductive removed\n",
      "\n"
     ]
    },
    {
     "name": "stdout",
     "output_type": "stream",
     "text": [
      "[1] 338\n"
     ]
    },
    {
     "name": "stderr",
     "output_type": "stream",
     "text": [
      "Number of CDR3s in: ~/Desktop/H4H/INTERCEPT/NextSeq/remaining_batch_4_28June2021/mixcr/clones/CLONES_TRBCHP-398-02-PBMC-DNA.txt\n",
      "\n"
     ]
    },
    {
     "name": "stdout",
     "output_type": "stream",
     "text": [
      "[1] 646\n"
     ]
    },
    {
     "name": "stderr",
     "output_type": "stream",
     "text": [
      "Number of CDR3s in: ~/Desktop/H4H/INTERCEPT/NextSeq/remaining_batch_4_28June2021/mixcr/clones/CLONES_TRBCHP-398-02-PBMC-DNA.txt nonproductive removed\n",
      "\n"
     ]
    },
    {
     "name": "stdout",
     "output_type": "stream",
     "text": [
      "[1] 507\n"
     ]
    },
    {
     "name": "stderr",
     "output_type": "stream",
     "text": [
      "Number of CDR3s in: ~/Desktop/H4H/INTERCEPT/NextSeq/remaining_batch_4_28June2021/mixcr/clones/CLONES_TRBCHP-404-03-PBMC-DNA.txt\n",
      "\n"
     ]
    },
    {
     "name": "stdout",
     "output_type": "stream",
     "text": [
      "[1] 249\n"
     ]
    },
    {
     "name": "stderr",
     "output_type": "stream",
     "text": [
      "Number of CDR3s in: ~/Desktop/H4H/INTERCEPT/NextSeq/remaining_batch_4_28June2021/mixcr/clones/CLONES_TRBCHP-404-03-PBMC-DNA.txt nonproductive removed\n",
      "\n"
     ]
    },
    {
     "name": "stdout",
     "output_type": "stream",
     "text": [
      "[1] 180\n"
     ]
    },
    {
     "name": "stderr",
     "output_type": "stream",
     "text": [
      "Number of CDR3s in: ~/Desktop/H4H/INTERCEPT/NextSeq/remaining_batch_4_28June2021/mixcr/clones/CLONES_TRBCHP-411-02-PBMC-DNA.txt\n",
      "\n"
     ]
    },
    {
     "name": "stdout",
     "output_type": "stream",
     "text": [
      "[1] 1559\n"
     ]
    },
    {
     "name": "stderr",
     "output_type": "stream",
     "text": [
      "Number of CDR3s in: ~/Desktop/H4H/INTERCEPT/NextSeq/remaining_batch_4_28June2021/mixcr/clones/CLONES_TRBCHP-411-02-PBMC-DNA.txt nonproductive removed\n",
      "\n"
     ]
    },
    {
     "name": "stdout",
     "output_type": "stream",
     "text": [
      "[1] 1246\n"
     ]
    },
    {
     "name": "stderr",
     "output_type": "stream",
     "text": [
      "Number of CDR3s in: ~/Desktop/H4H/INTERCEPT/NextSeq/remaining_batch_4_28June2021/mixcr/clones/CLONES_TRBCHP-416-02-PBMC-DNA.txt\n",
      "\n"
     ]
    },
    {
     "name": "stdout",
     "output_type": "stream",
     "text": [
      "[1] 138\n"
     ]
    },
    {
     "name": "stderr",
     "output_type": "stream",
     "text": [
      "Number of CDR3s in: ~/Desktop/H4H/INTERCEPT/NextSeq/remaining_batch_4_28June2021/mixcr/clones/CLONES_TRBCHP-416-02-PBMC-DNA.txt nonproductive removed\n",
      "\n"
     ]
    },
    {
     "name": "stdout",
     "output_type": "stream",
     "text": [
      "[1] 100\n"
     ]
    },
    {
     "name": "stderr",
     "output_type": "stream",
     "text": [
      "Number of CDR3s in: ~/Desktop/H4H/INTERCEPT/NextSeq/remaining_batch_4_28June2021/mixcr/clones/CLONES_TRBCHP-417-02_-PBMC-DN.txt\n",
      "\n"
     ]
    },
    {
     "name": "stdout",
     "output_type": "stream",
     "text": [
      "[1] 181\n"
     ]
    },
    {
     "name": "stderr",
     "output_type": "stream",
     "text": [
      "Number of CDR3s in: ~/Desktop/H4H/INTERCEPT/NextSeq/remaining_batch_4_28June2021/mixcr/clones/CLONES_TRBCHP-417-02_-PBMC-DN.txt nonproductive removed\n",
      "\n"
     ]
    },
    {
     "name": "stdout",
     "output_type": "stream",
     "text": [
      "[1] 145\n"
     ]
    },
    {
     "name": "stderr",
     "output_type": "stream",
     "text": [
      "Number of CDR3s in: ~/Desktop/H4H/INTERCEPT/NextSeq/remaining_batch_4_cfDNA_15April2021/mixcr/clones/CLONES_TRBCHP_349-01_cfDNA.txt\n",
      "\n"
     ]
    },
    {
     "name": "stdout",
     "output_type": "stream",
     "text": [
      "[1] 3\n"
     ]
    },
    {
     "name": "stderr",
     "output_type": "stream",
     "text": [
      "Number of CDR3s in: ~/Desktop/H4H/INTERCEPT/NextSeq/remaining_batch_4_cfDNA_15April2021/mixcr/clones/CLONES_TRBCHP_349-01_cfDNA.txt nonproductive removed\n",
      "\n"
     ]
    },
    {
     "name": "stdout",
     "output_type": "stream",
     "text": [
      "[1] 2\n"
     ]
    },
    {
     "name": "stderr",
     "output_type": "stream",
     "text": [
      "Number of CDR3s in: ~/Desktop/H4H/INTERCEPT/NextSeq/remaining_batch_4_cfDNA_15April2021/mixcr/clones/CLONES_TRBCHP_350-02_cfDNA.txt\n",
      "\n"
     ]
    },
    {
     "name": "stdout",
     "output_type": "stream",
     "text": [
      "[1] 22\n"
     ]
    },
    {
     "name": "stderr",
     "output_type": "stream",
     "text": [
      "Number of CDR3s in: ~/Desktop/H4H/INTERCEPT/NextSeq/remaining_batch_4_cfDNA_15April2021/mixcr/clones/CLONES_TRBCHP_350-02_cfDNA.txt nonproductive removed\n",
      "\n"
     ]
    },
    {
     "name": "stdout",
     "output_type": "stream",
     "text": [
      "[1] 16\n"
     ]
    },
    {
     "name": "stderr",
     "output_type": "stream",
     "text": [
      "Number of CDR3s in: ~/Desktop/H4H/INTERCEPT/NextSeq/remaining_batch_4_cfDNA_15April2021/mixcr/clones/CLONES_TRBCHP_377-02_cfDNA.txt\n",
      "\n"
     ]
    },
    {
     "name": "stdout",
     "output_type": "stream",
     "text": [
      "[1] 7\n"
     ]
    },
    {
     "name": "stderr",
     "output_type": "stream",
     "text": [
      "Number of CDR3s in: ~/Desktop/H4H/INTERCEPT/NextSeq/remaining_batch_4_cfDNA_15April2021/mixcr/clones/CLONES_TRBCHP_377-02_cfDNA.txt nonproductive removed\n",
      "\n"
     ]
    },
    {
     "name": "stdout",
     "output_type": "stream",
     "text": [
      "[1] 6\n"
     ]
    },
    {
     "name": "stderr",
     "output_type": "stream",
     "text": [
      "Number of CDR3s in: ~/Desktop/H4H/INTERCEPT/NextSeq/remaining_batch_4_cfDNA_15April2021/mixcr/clones/CLONES_TRBCHP_377-03_cfDNA.txt\n",
      "\n"
     ]
    },
    {
     "name": "stdout",
     "output_type": "stream",
     "text": [
      "[1] 2\n"
     ]
    },
    {
     "name": "stderr",
     "output_type": "stream",
     "text": [
      "Number of CDR3s in: ~/Desktop/H4H/INTERCEPT/NextSeq/remaining_batch_4_cfDNA_15April2021/mixcr/clones/CLONES_TRBCHP_377-03_cfDNA.txt nonproductive removed\n",
      "\n"
     ]
    },
    {
     "name": "stdout",
     "output_type": "stream",
     "text": [
      "[1] 2\n"
     ]
    },
    {
     "name": "stderr",
     "output_type": "stream",
     "text": [
      "Number of CDR3s in: ~/Desktop/H4H/INTERCEPT/NextSeq/remaining_batch_4_cfDNA_15April2021/mixcr/clones/CLONES_TRBCHP_378-05_cfDNA.txt\n",
      "\n"
     ]
    },
    {
     "name": "stdout",
     "output_type": "stream",
     "text": [
      "[1] 4\n"
     ]
    },
    {
     "name": "stderr",
     "output_type": "stream",
     "text": [
      "Number of CDR3s in: ~/Desktop/H4H/INTERCEPT/NextSeq/remaining_batch_4_cfDNA_15April2021/mixcr/clones/CLONES_TRBCHP_378-05_cfDNA.txt nonproductive removed\n",
      "\n"
     ]
    },
    {
     "name": "stdout",
     "output_type": "stream",
     "text": [
      "[1] 4\n"
     ]
    },
    {
     "name": "stderr",
     "output_type": "stream",
     "text": [
      "Number of CDR3s in: ~/Desktop/H4H/INTERCEPT/NextSeq/remaining_batch_4_cfDNA_15April2021/mixcr/clones/CLONES_TRBCHP_385-04_cfDNA.txt\n",
      "\n"
     ]
    },
    {
     "name": "stdout",
     "output_type": "stream",
     "text": [
      "[1] 13\n"
     ]
    },
    {
     "name": "stderr",
     "output_type": "stream",
     "text": [
      "Number of CDR3s in: ~/Desktop/H4H/INTERCEPT/NextSeq/remaining_batch_4_cfDNA_15April2021/mixcr/clones/CLONES_TRBCHP_385-04_cfDNA.txt nonproductive removed\n",
      "\n"
     ]
    },
    {
     "name": "stdout",
     "output_type": "stream",
     "text": [
      "[1] 10\n"
     ]
    },
    {
     "name": "stderr",
     "output_type": "stream",
     "text": [
      "Number of CDR3s in: ~/Desktop/H4H/INTERCEPT/NextSeq/remaining_batch_4_cfDNA_15April2021/mixcr/clones/CLONES_TRBCHP_385-05_cfDNA.txt\n",
      "\n"
     ]
    },
    {
     "name": "stdout",
     "output_type": "stream",
     "text": [
      "[1] 6\n"
     ]
    },
    {
     "name": "stderr",
     "output_type": "stream",
     "text": [
      "Number of CDR3s in: ~/Desktop/H4H/INTERCEPT/NextSeq/remaining_batch_4_cfDNA_15April2021/mixcr/clones/CLONES_TRBCHP_385-05_cfDNA.txt nonproductive removed\n",
      "\n"
     ]
    },
    {
     "name": "stdout",
     "output_type": "stream",
     "text": [
      "[1] 5\n"
     ]
    },
    {
     "name": "stderr",
     "output_type": "stream",
     "text": [
      "Number of CDR3s in: ~/Desktop/H4H/INTERCEPT/NextSeq/remaining_batch_4_cfDNA_15April2021/mixcr/clones/CLONES_TRBCHP_391-03_cfDNA.txt\n",
      "\n"
     ]
    },
    {
     "name": "stdout",
     "output_type": "stream",
     "text": [
      "[1] 22\n"
     ]
    },
    {
     "name": "stderr",
     "output_type": "stream",
     "text": [
      "Number of CDR3s in: ~/Desktop/H4H/INTERCEPT/NextSeq/remaining_batch_4_cfDNA_15April2021/mixcr/clones/CLONES_TRBCHP_391-03_cfDNA.txt nonproductive removed\n",
      "\n"
     ]
    },
    {
     "name": "stdout",
     "output_type": "stream",
     "text": [
      "[1] 16\n"
     ]
    },
    {
     "name": "stderr",
     "output_type": "stream",
     "text": [
      "Number of CDR3s in: ~/Desktop/H4H/INTERCEPT/NextSeq/remaining_batch_4_cfDNA_15April2021/mixcr/clones/CLONES_TRBCHP_402-02_cfDNA.txt\n",
      "\n"
     ]
    },
    {
     "name": "stdout",
     "output_type": "stream",
     "text": [
      "[1] 3\n"
     ]
    },
    {
     "name": "stderr",
     "output_type": "stream",
     "text": [
      "Number of CDR3s in: ~/Desktop/H4H/INTERCEPT/NextSeq/remaining_batch_4_cfDNA_15April2021/mixcr/clones/CLONES_TRBCHP_402-02_cfDNA.txt nonproductive removed\n",
      "\n"
     ]
    },
    {
     "name": "stdout",
     "output_type": "stream",
     "text": [
      "[1] 2\n"
     ]
    },
    {
     "name": "stderr",
     "output_type": "stream",
     "text": [
      "Number of CDR3s in: ~/Desktop/H4H/INTERCEPT/NextSeq/remaining_batch_4_cfDNA_15April2021/mixcr/clones/CLONES_TRBCHP_405-03_cfDNA.txt\n",
      "\n"
     ]
    },
    {
     "name": "stdout",
     "output_type": "stream",
     "text": [
      "[1] 12\n"
     ]
    },
    {
     "name": "stderr",
     "output_type": "stream",
     "text": [
      "Number of CDR3s in: ~/Desktop/H4H/INTERCEPT/NextSeq/remaining_batch_4_cfDNA_15April2021/mixcr/clones/CLONES_TRBCHP_405-03_cfDNA.txt nonproductive removed\n",
      "\n"
     ]
    },
    {
     "name": "stdout",
     "output_type": "stream",
     "text": [
      "[1] 11\n"
     ]
    },
    {
     "name": "stderr",
     "output_type": "stream",
     "text": [
      "Number of CDR3s in: ~/Desktop/H4H/INTERCEPT/NextSeq/remaining_batch_4_cfDNA_15April2021/mixcr/clones/CLONES_TRBCHP_405-05_cfDNA.txt\n",
      "\n"
     ]
    },
    {
     "name": "stdout",
     "output_type": "stream",
     "text": [
      "[1] 9\n"
     ]
    },
    {
     "name": "stderr",
     "output_type": "stream",
     "text": [
      "Number of CDR3s in: ~/Desktop/H4H/INTERCEPT/NextSeq/remaining_batch_4_cfDNA_15April2021/mixcr/clones/CLONES_TRBCHP_405-05_cfDNA.txt nonproductive removed\n",
      "\n"
     ]
    },
    {
     "name": "stdout",
     "output_type": "stream",
     "text": [
      "[1] 7\n"
     ]
    },
    {
     "name": "stderr",
     "output_type": "stream",
     "text": [
      "Number of CDR3s in: ~/Desktop/H4H/INTERCEPT/NextSeq/remaining_batch_4_cfDNA_15April2021/mixcr/clones/CLONES_TRBCHP_409-01_cfDNA.txt\n",
      "\n"
     ]
    },
    {
     "name": "stdout",
     "output_type": "stream",
     "text": [
      "[1] 0\n"
     ]
    },
    {
     "name": "stderr",
     "output_type": "stream",
     "text": [
      "Number of CDR3s in: ~/Desktop/H4H/INTERCEPT/NextSeq/remaining_batch_4_cfDNA_15April2021/mixcr/clones/CLONES_TRBCHP_409-01_cfDNA.txt nonproductive removed\n",
      "\n"
     ]
    },
    {
     "name": "stdout",
     "output_type": "stream",
     "text": [
      "[1] 0\n"
     ]
    },
    {
     "name": "stderr",
     "output_type": "stream",
     "text": [
      "Number of CDR3s in: ~/Desktop/H4H/INTERCEPT/NextSeq/remaining_batch_4_cfDNA_15April2021/mixcr/clones/CLONES_TRBCHP_414-01_cfDNA.txt\n",
      "\n"
     ]
    },
    {
     "name": "stdout",
     "output_type": "stream",
     "text": [
      "[1] 17\n"
     ]
    },
    {
     "name": "stderr",
     "output_type": "stream",
     "text": [
      "Number of CDR3s in: ~/Desktop/H4H/INTERCEPT/NextSeq/remaining_batch_4_cfDNA_15April2021/mixcr/clones/CLONES_TRBCHP_414-01_cfDNA.txt nonproductive removed\n",
      "\n"
     ]
    },
    {
     "name": "stdout",
     "output_type": "stream",
     "text": [
      "[1] 13\n"
     ]
    },
    {
     "name": "stderr",
     "output_type": "stream",
     "text": [
      "Number of CDR3s in: ~/Desktop/H4H/INTERCEPT/NextSeq/remaining_batch_4_cfDNA_15April2021/mixcr/clones/CLONES_TRBCHP_415-02_cfDNA.txt\n",
      "\n"
     ]
    },
    {
     "name": "stdout",
     "output_type": "stream",
     "text": [
      "[1] 3\n"
     ]
    },
    {
     "name": "stderr",
     "output_type": "stream",
     "text": [
      "Number of CDR3s in: ~/Desktop/H4H/INTERCEPT/NextSeq/remaining_batch_4_cfDNA_15April2021/mixcr/clones/CLONES_TRBCHP_415-02_cfDNA.txt nonproductive removed\n",
      "\n"
     ]
    },
    {
     "name": "stdout",
     "output_type": "stream",
     "text": [
      "[1] 3\n"
     ]
    },
    {
     "name": "stderr",
     "output_type": "stream",
     "text": [
      "Number of CDR3s in: ~/Desktop/H4H/INTERCEPT/NextSeq/remaining_batch_5_cfDNA_22April2021/mixcr/clones/CLONES_TRBCHP_329-04_cfDNA.txt\n",
      "\n"
     ]
    },
    {
     "name": "stdout",
     "output_type": "stream",
     "text": [
      "[1] 3\n"
     ]
    },
    {
     "name": "stderr",
     "output_type": "stream",
     "text": [
      "Number of CDR3s in: ~/Desktop/H4H/INTERCEPT/NextSeq/remaining_batch_5_cfDNA_22April2021/mixcr/clones/CLONES_TRBCHP_329-04_cfDNA.txt nonproductive removed\n",
      "\n"
     ]
    },
    {
     "name": "stdout",
     "output_type": "stream",
     "text": [
      "[1] 2\n"
     ]
    },
    {
     "name": "stderr",
     "output_type": "stream",
     "text": [
      "Number of CDR3s in: ~/Desktop/H4H/INTERCEPT/NextSeq/remaining_batch_5_cfDNA_22April2021/mixcr/clones/CLONES_TRBCHP_331-05_cfDNA.txt\n",
      "\n"
     ]
    },
    {
     "name": "stdout",
     "output_type": "stream",
     "text": [
      "[1] 54\n"
     ]
    },
    {
     "name": "stderr",
     "output_type": "stream",
     "text": [
      "Number of CDR3s in: ~/Desktop/H4H/INTERCEPT/NextSeq/remaining_batch_5_cfDNA_22April2021/mixcr/clones/CLONES_TRBCHP_331-05_cfDNA.txt nonproductive removed\n",
      "\n"
     ]
    },
    {
     "name": "stdout",
     "output_type": "stream",
     "text": [
      "[1] 36\n"
     ]
    },
    {
     "name": "stderr",
     "output_type": "stream",
     "text": [
      "Number of CDR3s in: ~/Desktop/H4H/INTERCEPT/NextSeq/remaining_batch_5_cfDNA_22April2021/mixcr/clones/CLONES_TRBCHP_343-02_cfDNA.txt\n",
      "\n"
     ]
    },
    {
     "name": "stdout",
     "output_type": "stream",
     "text": [
      "[1] 5\n"
     ]
    },
    {
     "name": "stderr",
     "output_type": "stream",
     "text": [
      "Number of CDR3s in: ~/Desktop/H4H/INTERCEPT/NextSeq/remaining_batch_5_cfDNA_22April2021/mixcr/clones/CLONES_TRBCHP_343-02_cfDNA.txt nonproductive removed\n",
      "\n"
     ]
    },
    {
     "name": "stdout",
     "output_type": "stream",
     "text": [
      "[1] 5\n"
     ]
    },
    {
     "name": "stderr",
     "output_type": "stream",
     "text": [
      "Number of CDR3s in: ~/Desktop/H4H/INTERCEPT/NextSeq/remaining_batch_5_cfDNA_22April2021/mixcr/clones/CLONES_TRBCHP_343-04_cfDNA.txt\n",
      "\n"
     ]
    },
    {
     "name": "stdout",
     "output_type": "stream",
     "text": [
      "[1] 2\n"
     ]
    },
    {
     "name": "stderr",
     "output_type": "stream",
     "text": [
      "Number of CDR3s in: ~/Desktop/H4H/INTERCEPT/NextSeq/remaining_batch_5_cfDNA_22April2021/mixcr/clones/CLONES_TRBCHP_343-04_cfDNA.txt nonproductive removed\n",
      "\n"
     ]
    },
    {
     "name": "stdout",
     "output_type": "stream",
     "text": [
      "[1] 1\n"
     ]
    },
    {
     "name": "stderr",
     "output_type": "stream",
     "text": [
      "Number of CDR3s in: ~/Desktop/H4H/INTERCEPT/NextSeq/remaining_batch_5_cfDNA_22April2021/mixcr/clones/CLONES_TRBCHP_348-01_cfDNA.txt\n",
      "\n"
     ]
    },
    {
     "name": "stdout",
     "output_type": "stream",
     "text": [
      "[1] 10\n"
     ]
    },
    {
     "name": "stderr",
     "output_type": "stream",
     "text": [
      "Number of CDR3s in: ~/Desktop/H4H/INTERCEPT/NextSeq/remaining_batch_5_cfDNA_22April2021/mixcr/clones/CLONES_TRBCHP_348-01_cfDNA.txt nonproductive removed\n",
      "\n"
     ]
    },
    {
     "name": "stdout",
     "output_type": "stream",
     "text": [
      "[1] 9\n"
     ]
    },
    {
     "name": "stderr",
     "output_type": "stream",
     "text": [
      "Number of CDR3s in: ~/Desktop/H4H/INTERCEPT/NextSeq/remaining_batch_5_cfDNA_22April2021/mixcr/clones/CLONES_TRBCHP_348-03_cfDNA.txt\n",
      "\n"
     ]
    },
    {
     "name": "stdout",
     "output_type": "stream",
     "text": [
      "[1] 13\n"
     ]
    },
    {
     "name": "stderr",
     "output_type": "stream",
     "text": [
      "Number of CDR3s in: ~/Desktop/H4H/INTERCEPT/NextSeq/remaining_batch_5_cfDNA_22April2021/mixcr/clones/CLONES_TRBCHP_348-03_cfDNA.txt nonproductive removed\n",
      "\n"
     ]
    },
    {
     "name": "stdout",
     "output_type": "stream",
     "text": [
      "[1] 11\n"
     ]
    },
    {
     "name": "stderr",
     "output_type": "stream",
     "text": [
      "Number of CDR3s in: ~/Desktop/H4H/INTERCEPT/NextSeq/remaining_batch_5_cfDNA_22April2021/mixcr/clones/CLONES_TRBCHP_350-03_cfDNA.txt\n",
      "\n"
     ]
    },
    {
     "name": "stdout",
     "output_type": "stream",
     "text": [
      "[1] 54\n"
     ]
    },
    {
     "name": "stderr",
     "output_type": "stream",
     "text": [
      "Number of CDR3s in: ~/Desktop/H4H/INTERCEPT/NextSeq/remaining_batch_5_cfDNA_22April2021/mixcr/clones/CLONES_TRBCHP_350-03_cfDNA.txt nonproductive removed\n",
      "\n"
     ]
    },
    {
     "name": "stdout",
     "output_type": "stream",
     "text": [
      "[1] 44\n"
     ]
    },
    {
     "name": "stderr",
     "output_type": "stream",
     "text": [
      "Number of CDR3s in: ~/Desktop/H4H/INTERCEPT/NextSeq/remaining_batch_5_cfDNA_22April2021/mixcr/clones/CLONES_TRBCHP_352-01_cfDNA.txt\n",
      "\n"
     ]
    },
    {
     "name": "stdout",
     "output_type": "stream",
     "text": [
      "[1] 0\n"
     ]
    },
    {
     "name": "stderr",
     "output_type": "stream",
     "text": [
      "Number of CDR3s in: ~/Desktop/H4H/INTERCEPT/NextSeq/remaining_batch_5_cfDNA_22April2021/mixcr/clones/CLONES_TRBCHP_352-01_cfDNA.txt nonproductive removed\n",
      "\n"
     ]
    },
    {
     "name": "stdout",
     "output_type": "stream",
     "text": [
      "[1] 0\n"
     ]
    },
    {
     "name": "stderr",
     "output_type": "stream",
     "text": [
      "Number of CDR3s in: ~/Desktop/H4H/INTERCEPT/NextSeq/remaining_batch_5_cfDNA_22April2021/mixcr/clones/CLONES_TRBCHP_356-04_cfDNA.txt\n",
      "\n"
     ]
    },
    {
     "name": "stdout",
     "output_type": "stream",
     "text": [
      "[1] 1\n"
     ]
    },
    {
     "name": "stderr",
     "output_type": "stream",
     "text": [
      "Number of CDR3s in: ~/Desktop/H4H/INTERCEPT/NextSeq/remaining_batch_5_cfDNA_22April2021/mixcr/clones/CLONES_TRBCHP_356-04_cfDNA.txt nonproductive removed\n",
      "\n"
     ]
    },
    {
     "name": "stdout",
     "output_type": "stream",
     "text": [
      "[1] 1\n"
     ]
    },
    {
     "name": "stderr",
     "output_type": "stream",
     "text": [
      "Number of CDR3s in: ~/Desktop/H4H/INTERCEPT/NextSeq/remaining_batch_5_cfDNA_22April2021/mixcr/clones/CLONES_TRBCHP_356-05_cfDNA.txt\n",
      "\n"
     ]
    },
    {
     "name": "stdout",
     "output_type": "stream",
     "text": [
      "[1] 2\n"
     ]
    },
    {
     "name": "stderr",
     "output_type": "stream",
     "text": [
      "Number of CDR3s in: ~/Desktop/H4H/INTERCEPT/NextSeq/remaining_batch_5_cfDNA_22April2021/mixcr/clones/CLONES_TRBCHP_356-05_cfDNA.txt nonproductive removed\n",
      "\n"
     ]
    },
    {
     "name": "stdout",
     "output_type": "stream",
     "text": [
      "[1] 1\n"
     ]
    },
    {
     "name": "stderr",
     "output_type": "stream",
     "text": [
      "Number of CDR3s in: ~/Desktop/H4H/INTERCEPT/NextSeq/remaining_batch_5_cfDNA_22April2021/mixcr/clones/CLONES_TRBCHP_365-03_cfDNA.txt\n",
      "\n"
     ]
    },
    {
     "name": "stdout",
     "output_type": "stream",
     "text": [
      "[1] 16\n"
     ]
    },
    {
     "name": "stderr",
     "output_type": "stream",
     "text": [
      "Number of CDR3s in: ~/Desktop/H4H/INTERCEPT/NextSeq/remaining_batch_5_cfDNA_22April2021/mixcr/clones/CLONES_TRBCHP_365-03_cfDNA.txt nonproductive removed\n",
      "\n"
     ]
    },
    {
     "name": "stdout",
     "output_type": "stream",
     "text": [
      "[1] 9\n"
     ]
    },
    {
     "name": "stderr",
     "output_type": "stream",
     "text": [
      "Number of CDR3s in: ~/Desktop/H4H/INTERCEPT/NextSeq/remaining_batch_5_cfDNA_22April2021/mixcr/clones/CLONES_TRBCHP_370-02_cfDNA.txt\n",
      "\n"
     ]
    },
    {
     "name": "stdout",
     "output_type": "stream",
     "text": [
      "[1] 4\n"
     ]
    },
    {
     "name": "stderr",
     "output_type": "stream",
     "text": [
      "Number of CDR3s in: ~/Desktop/H4H/INTERCEPT/NextSeq/remaining_batch_5_cfDNA_22April2021/mixcr/clones/CLONES_TRBCHP_370-02_cfDNA.txt nonproductive removed\n",
      "\n"
     ]
    },
    {
     "name": "stdout",
     "output_type": "stream",
     "text": [
      "[1] 2\n"
     ]
    },
    {
     "name": "stderr",
     "output_type": "stream",
     "text": [
      "Number of CDR3s in: ~/Desktop/H4H/INTERCEPT/NextSeq/remaining_batch_5_cfDNA_22April2021/mixcr/clones/CLONES_TRBCHP_374-03_cfDNA.txt\n",
      "\n"
     ]
    },
    {
     "name": "stdout",
     "output_type": "stream",
     "text": [
      "[1] 8\n"
     ]
    },
    {
     "name": "stderr",
     "output_type": "stream",
     "text": [
      "Number of CDR3s in: ~/Desktop/H4H/INTERCEPT/NextSeq/remaining_batch_5_cfDNA_22April2021/mixcr/clones/CLONES_TRBCHP_374-03_cfDNA.txt nonproductive removed\n",
      "\n"
     ]
    },
    {
     "name": "stdout",
     "output_type": "stream",
     "text": [
      "[1] 7\n"
     ]
    },
    {
     "name": "stderr",
     "output_type": "stream",
     "text": [
      "Number of CDR3s in: ~/Desktop/H4H/INTERCEPT/NextSeq/remaining_batch_5_cfDNA_22April2021/mixcr/clones/CLONES_TRBCHP_378-01_cfDNA.txt\n",
      "\n"
     ]
    },
    {
     "name": "stdout",
     "output_type": "stream",
     "text": [
      "[1] 37\n"
     ]
    },
    {
     "name": "stderr",
     "output_type": "stream",
     "text": [
      "Number of CDR3s in: ~/Desktop/H4H/INTERCEPT/NextSeq/remaining_batch_5_cfDNA_22April2021/mixcr/clones/CLONES_TRBCHP_378-01_cfDNA.txt nonproductive removed\n",
      "\n"
     ]
    },
    {
     "name": "stdout",
     "output_type": "stream",
     "text": [
      "[1] 27\n"
     ]
    },
    {
     "name": "stderr",
     "output_type": "stream",
     "text": [
      "Number of CDR3s in: ~/Desktop/H4H/INTERCEPT/NextSeq/remaining_batch_5_cfDNA_22April2021/mixcr/clones/CLONES_TRBCHP_381-04_cfDNA.txt\n",
      "\n"
     ]
    },
    {
     "name": "stdout",
     "output_type": "stream",
     "text": [
      "[1] 0\n"
     ]
    },
    {
     "name": "stderr",
     "output_type": "stream",
     "text": [
      "Number of CDR3s in: ~/Desktop/H4H/INTERCEPT/NextSeq/remaining_batch_5_cfDNA_22April2021/mixcr/clones/CLONES_TRBCHP_381-04_cfDNA.txt nonproductive removed\n",
      "\n"
     ]
    },
    {
     "name": "stdout",
     "output_type": "stream",
     "text": [
      "[1] 0\n"
     ]
    },
    {
     "name": "stderr",
     "output_type": "stream",
     "text": [
      "Number of CDR3s in: ~/Desktop/H4H/INTERCEPT/NextSeq/remaining_batch_5_cfDNA_22April2021/mixcr/clones/CLONES_TRBCHP_383-03_cfDNA.txt\n",
      "\n"
     ]
    },
    {
     "name": "stdout",
     "output_type": "stream",
     "text": [
      "[1] 3\n"
     ]
    },
    {
     "name": "stderr",
     "output_type": "stream",
     "text": [
      "Number of CDR3s in: ~/Desktop/H4H/INTERCEPT/NextSeq/remaining_batch_5_cfDNA_22April2021/mixcr/clones/CLONES_TRBCHP_383-03_cfDNA.txt nonproductive removed\n",
      "\n"
     ]
    },
    {
     "name": "stdout",
     "output_type": "stream",
     "text": [
      "[1] 2\n"
     ]
    }
   ],
   "source": [
    "length15 <- lapply(myfilelist, function(x){ \n",
    "    tryCatch(\n",
    "    aaFeatures.fx(x, 15, \"~/Desktop/H4H/INTERCEPT/NextSeq/aaFeatures/\"), error = function(e) e\n",
    "    )\n",
    "})"
   ]
  },
  {
   "cell_type": "code",
   "execution_count": 13,
   "metadata": {},
   "outputs": [
    {
     "name": "stderr",
     "output_type": "stream",
     "text": [
      "Number of CDR3s in: ~/Desktop/H4H/INTERCEPT/NextSeq/batch4_19Aug2019/mixcr/clones/CLONES_TRBCHP_315-05-PBMC-DNA.txt\n",
      "\n"
     ]
    },
    {
     "name": "stdout",
     "output_type": "stream",
     "text": [
      "[1] 39\n"
     ]
    },
    {
     "name": "stderr",
     "output_type": "stream",
     "text": [
      "Number of CDR3s in: ~/Desktop/H4H/INTERCEPT/NextSeq/batch4_19Aug2019/mixcr/clones/CLONES_TRBCHP_315-05-PBMC-DNA.txt nonproductive removed\n",
      "\n"
     ]
    },
    {
     "name": "stdout",
     "output_type": "stream",
     "text": [
      "[1] 27\n"
     ]
    },
    {
     "name": "stderr",
     "output_type": "stream",
     "text": [
      "Number of CDR3s in: ~/Desktop/H4H/INTERCEPT/NextSeq/batch_reseq_24Feb2020/mixcr/clones/CLONES_TRBCHP_350-01-PBMC-DNA.txt\n",
      "\n"
     ]
    },
    {
     "name": "stdout",
     "output_type": "stream",
     "text": [
      "[1] 217\n"
     ]
    },
    {
     "name": "stderr",
     "output_type": "stream",
     "text": [
      "Number of CDR3s in: ~/Desktop/H4H/INTERCEPT/NextSeq/batch_reseq_24Feb2020/mixcr/clones/CLONES_TRBCHP_350-01-PBMC-DNA.txt nonproductive removed\n",
      "\n"
     ]
    },
    {
     "name": "stdout",
     "output_type": "stream",
     "text": [
      "[1] 153\n"
     ]
    },
    {
     "name": "stderr",
     "output_type": "stream",
     "text": [
      "Number of CDR3s in: ~/Desktop/H4H/INTERCEPT/NextSeq/batch_reseq_24Feb2020/mixcr/clones/CLONES_TRBCHP_350-02-PBMC-DNA.txt\n",
      "\n"
     ]
    },
    {
     "name": "stdout",
     "output_type": "stream",
     "text": [
      "[1] 362\n"
     ]
    },
    {
     "name": "stderr",
     "output_type": "stream",
     "text": [
      "Number of CDR3s in: ~/Desktop/H4H/INTERCEPT/NextSeq/batch_reseq_24Feb2020/mixcr/clones/CLONES_TRBCHP_350-02-PBMC-DNA.txt nonproductive removed\n",
      "\n"
     ]
    },
    {
     "name": "stdout",
     "output_type": "stream",
     "text": [
      "[1] 269\n"
     ]
    },
    {
     "name": "stderr",
     "output_type": "stream",
     "text": [
      "Number of CDR3s in: ~/Desktop/H4H/INTERCEPT/NextSeq/batch_reseq_24Feb2020/mixcr/clones/CLONES_TRBCHP_350-03-PBMC-DNA.txt\n",
      "\n"
     ]
    },
    {
     "name": "stdout",
     "output_type": "stream",
     "text": [
      "[1] 274\n"
     ]
    },
    {
     "name": "stderr",
     "output_type": "stream",
     "text": [
      "Number of CDR3s in: ~/Desktop/H4H/INTERCEPT/NextSeq/batch_reseq_24Feb2020/mixcr/clones/CLONES_TRBCHP_350-03-PBMC-DNA.txt nonproductive removed\n",
      "\n"
     ]
    },
    {
     "name": "stdout",
     "output_type": "stream",
     "text": [
      "[1] 207\n"
     ]
    },
    {
     "name": "stderr",
     "output_type": "stream",
     "text": [
      "Number of CDR3s in: ~/Desktop/H4H/INTERCEPT/NextSeq/batch_reseq_24Feb2020/mixcr/clones/CLONES_TRBCHP_350-04-PBMC-DNA.txt\n",
      "\n"
     ]
    },
    {
     "name": "stdout",
     "output_type": "stream",
     "text": [
      "[1] 135\n"
     ]
    },
    {
     "name": "stderr",
     "output_type": "stream",
     "text": [
      "Number of CDR3s in: ~/Desktop/H4H/INTERCEPT/NextSeq/batch_reseq_24Feb2020/mixcr/clones/CLONES_TRBCHP_350-04-PBMC-DNA.txt nonproductive removed\n",
      "\n"
     ]
    },
    {
     "name": "stdout",
     "output_type": "stream",
     "text": [
      "[1] 106\n"
     ]
    },
    {
     "name": "stderr",
     "output_type": "stream",
     "text": [
      "Number of CDR3s in: ~/Desktop/H4H/INTERCEPT/NextSeq/batch_reseq_24Feb2020/mixcr/clones/CLONES_TRBCHP_353-02-PBMC-DNA.txt\n",
      "\n"
     ]
    },
    {
     "name": "stdout",
     "output_type": "stream",
     "text": [
      "[1] 23\n"
     ]
    },
    {
     "name": "stderr",
     "output_type": "stream",
     "text": [
      "Number of CDR3s in: ~/Desktop/H4H/INTERCEPT/NextSeq/batch_reseq_24Feb2020/mixcr/clones/CLONES_TRBCHP_353-02-PBMC-DNA.txt nonproductive removed\n",
      "\n"
     ]
    },
    {
     "name": "stdout",
     "output_type": "stream",
     "text": [
      "[1] 16\n"
     ]
    },
    {
     "name": "stderr",
     "output_type": "stream",
     "text": [
      "Number of CDR3s in: ~/Desktop/H4H/INTERCEPT/NextSeq/batch_reseq_24Feb2020/mixcr/clones/CLONES_TRBCHP_354-01-PBMC-DNA.txt\n",
      "\n"
     ]
    },
    {
     "name": "stdout",
     "output_type": "stream",
     "text": [
      "[1] 7\n"
     ]
    },
    {
     "name": "stderr",
     "output_type": "stream",
     "text": [
      "Number of CDR3s in: ~/Desktop/H4H/INTERCEPT/NextSeq/batch_reseq_24Feb2020/mixcr/clones/CLONES_TRBCHP_354-01-PBMC-DNA.txt nonproductive removed\n",
      "\n"
     ]
    },
    {
     "name": "stdout",
     "output_type": "stream",
     "text": [
      "[1] 6\n"
     ]
    },
    {
     "name": "stderr",
     "output_type": "stream",
     "text": [
      "Number of CDR3s in: ~/Desktop/H4H/INTERCEPT/NextSeq/batch_reseq_24Feb2020/mixcr/clones/CLONES_TRBCHP_356-03-PBMC-DNA.txt\n",
      "\n"
     ]
    },
    {
     "name": "stdout",
     "output_type": "stream",
     "text": [
      "[1] 3\n"
     ]
    },
    {
     "name": "stderr",
     "output_type": "stream",
     "text": [
      "Number of CDR3s in: ~/Desktop/H4H/INTERCEPT/NextSeq/batch_reseq_24Feb2020/mixcr/clones/CLONES_TRBCHP_356-03-PBMC-DNA.txt nonproductive removed\n",
      "\n"
     ]
    },
    {
     "name": "stdout",
     "output_type": "stream",
     "text": [
      "[1] 3\n"
     ]
    },
    {
     "name": "stderr",
     "output_type": "stream",
     "text": [
      "Number of CDR3s in: ~/Desktop/H4H/INTERCEPT/NextSeq/batch4_19Aug2019/mixcr/clones/CLONES_TRBCHP_358-02-PBMC-DNA.txt\n",
      "\n"
     ]
    },
    {
     "name": "stdout",
     "output_type": "stream",
     "text": [
      "[1] 93\n"
     ]
    },
    {
     "name": "stderr",
     "output_type": "stream",
     "text": [
      "Number of CDR3s in: ~/Desktop/H4H/INTERCEPT/NextSeq/batch4_19Aug2019/mixcr/clones/CLONES_TRBCHP_358-02-PBMC-DNA.txt nonproductive removed\n",
      "\n"
     ]
    },
    {
     "name": "stdout",
     "output_type": "stream",
     "text": [
      "[1] 66\n"
     ]
    },
    {
     "name": "stderr",
     "output_type": "stream",
     "text": [
      "Number of CDR3s in: ~/Desktop/H4H/INTERCEPT/NextSeq/batch_reseq_24Feb2020/mixcr/clones/CLONES_TRBCHP_362-02-PBMC-DNA.txt\n",
      "\n"
     ]
    },
    {
     "name": "stdout",
     "output_type": "stream",
     "text": [
      "[1] 513\n"
     ]
    },
    {
     "name": "stderr",
     "output_type": "stream",
     "text": [
      "Number of CDR3s in: ~/Desktop/H4H/INTERCEPT/NextSeq/batch_reseq_24Feb2020/mixcr/clones/CLONES_TRBCHP_362-02-PBMC-DNA.txt nonproductive removed\n",
      "\n"
     ]
    },
    {
     "name": "stdout",
     "output_type": "stream",
     "text": [
      "[1] 367\n"
     ]
    },
    {
     "name": "stderr",
     "output_type": "stream",
     "text": [
      "Number of CDR3s in: ~/Desktop/H4H/INTERCEPT/NextSeq/batch_reseq_24Feb2020/mixcr/clones/CLONES_TRBCHP_366-01-PBMC-DNA.txt\n",
      "\n"
     ]
    },
    {
     "name": "stdout",
     "output_type": "stream",
     "text": [
      "[1] 180\n"
     ]
    },
    {
     "name": "stderr",
     "output_type": "stream",
     "text": [
      "Number of CDR3s in: ~/Desktop/H4H/INTERCEPT/NextSeq/batch_reseq_24Feb2020/mixcr/clones/CLONES_TRBCHP_366-01-PBMC-DNA.txt nonproductive removed\n",
      "\n"
     ]
    },
    {
     "name": "stdout",
     "output_type": "stream",
     "text": [
      "[1] 133\n"
     ]
    },
    {
     "name": "stderr",
     "output_type": "stream",
     "text": [
      "Number of CDR3s in: ~/Desktop/H4H/INTERCEPT/NextSeq/batch_reseq_24Feb2020/mixcr/clones/CLONES_TRBCHP_367-01-PBMC-DNA.txt\n",
      "\n"
     ]
    },
    {
     "name": "stdout",
     "output_type": "stream",
     "text": [
      "[1] 50\n"
     ]
    },
    {
     "name": "stderr",
     "output_type": "stream",
     "text": [
      "Number of CDR3s in: ~/Desktop/H4H/INTERCEPT/NextSeq/batch_reseq_24Feb2020/mixcr/clones/CLONES_TRBCHP_367-01-PBMC-DNA.txt nonproductive removed\n",
      "\n"
     ]
    },
    {
     "name": "stdout",
     "output_type": "stream",
     "text": [
      "[1] 38\n"
     ]
    },
    {
     "name": "stderr",
     "output_type": "stream",
     "text": [
      "Number of CDR3s in: ~/Desktop/H4H/INTERCEPT/NextSeq/batch_reseq_24Feb2020/mixcr/clones/CLONES_TRBCHP_372-01-PBMC-DNA.txt\n",
      "\n"
     ]
    },
    {
     "name": "stdout",
     "output_type": "stream",
     "text": [
      "[1] 3\n"
     ]
    },
    {
     "name": "stderr",
     "output_type": "stream",
     "text": [
      "Number of CDR3s in: ~/Desktop/H4H/INTERCEPT/NextSeq/batch_reseq_24Feb2020/mixcr/clones/CLONES_TRBCHP_372-01-PBMC-DNA.txt nonproductive removed\n",
      "\n"
     ]
    },
    {
     "name": "stdout",
     "output_type": "stream",
     "text": [
      "[1] 3\n"
     ]
    },
    {
     "name": "stderr",
     "output_type": "stream",
     "text": [
      "Number of CDR3s in: ~/Desktop/H4H/INTERCEPT/NextSeq/batch_reseq_24Feb2020/mixcr/clones/CLONES_TRBCHP_375-01-PBMC-DNA.txt\n",
      "\n"
     ]
    },
    {
     "name": "stdout",
     "output_type": "stream",
     "text": [
      "[1] 12\n"
     ]
    },
    {
     "name": "stderr",
     "output_type": "stream",
     "text": [
      "Number of CDR3s in: ~/Desktop/H4H/INTERCEPT/NextSeq/batch_reseq_24Feb2020/mixcr/clones/CLONES_TRBCHP_375-01-PBMC-DNA.txt nonproductive removed\n",
      "\n"
     ]
    },
    {
     "name": "stdout",
     "output_type": "stream",
     "text": [
      "[1] 9\n"
     ]
    },
    {
     "name": "stderr",
     "output_type": "stream",
     "text": [
      "Number of CDR3s in: ~/Desktop/H4H/INTERCEPT/NextSeq/batch1_cfDNA_30Jan2020/mixcr/clones/CLONES_TRBCHP_340-02-cfDNA.txt\n",
      "\n"
     ]
    },
    {
     "name": "stdout",
     "output_type": "stream",
     "text": [
      "[1] 16\n"
     ]
    },
    {
     "name": "stderr",
     "output_type": "stream",
     "text": [
      "Number of CDR3s in: ~/Desktop/H4H/INTERCEPT/NextSeq/batch1_cfDNA_30Jan2020/mixcr/clones/CLONES_TRBCHP_340-02-cfDNA.txt nonproductive removed\n",
      "\n"
     ]
    },
    {
     "name": "stdout",
     "output_type": "stream",
     "text": [
      "[1] 12\n"
     ]
    },
    {
     "name": "stderr",
     "output_type": "stream",
     "text": [
      "Number of CDR3s in: ~/Desktop/H4H/INTERCEPT/NextSeq/batch1_cfDNA_30Jan2020/mixcr/clones/CLONES_TRBCHP_343-01-cfDNA.txt\n",
      "\n"
     ]
    },
    {
     "name": "stdout",
     "output_type": "stream",
     "text": [
      "[1] 1\n"
     ]
    },
    {
     "name": "stderr",
     "output_type": "stream",
     "text": [
      "Number of CDR3s in: ~/Desktop/H4H/INTERCEPT/NextSeq/batch1_cfDNA_30Jan2020/mixcr/clones/CLONES_TRBCHP_343-01-cfDNA.txt nonproductive removed\n",
      "\n"
     ]
    },
    {
     "name": "stdout",
     "output_type": "stream",
     "text": [
      "[1] 1\n"
     ]
    },
    {
     "name": "stderr",
     "output_type": "stream",
     "text": [
      "Number of CDR3s in: ~/Desktop/H4H/INTERCEPT/NextSeq/batch1_cfDNA_30Jan2020/mixcr/clones/CLONES_TRBCHP_347-01-cfDNA.txt\n",
      "\n"
     ]
    },
    {
     "name": "stdout",
     "output_type": "stream",
     "text": [
      "[1] 2\n"
     ]
    },
    {
     "name": "stderr",
     "output_type": "stream",
     "text": [
      "Number of CDR3s in: ~/Desktop/H4H/INTERCEPT/NextSeq/batch1_cfDNA_30Jan2020/mixcr/clones/CLONES_TRBCHP_347-01-cfDNA.txt nonproductive removed\n",
      "\n"
     ]
    },
    {
     "name": "stdout",
     "output_type": "stream",
     "text": [
      "[1] 0\n"
     ]
    },
    {
     "name": "stderr",
     "output_type": "stream",
     "text": [
      "Number of CDR3s in: ~/Desktop/H4H/INTERCEPT/NextSeq/batch1_cfDNA_30Jan2020/mixcr/clones/CLONES_TRBCHP_353-01-cfDNA.txt\n",
      "\n"
     ]
    },
    {
     "name": "stdout",
     "output_type": "stream",
     "text": [
      "[1] 5\n"
     ]
    },
    {
     "name": "stderr",
     "output_type": "stream",
     "text": [
      "Number of CDR3s in: ~/Desktop/H4H/INTERCEPT/NextSeq/batch1_cfDNA_30Jan2020/mixcr/clones/CLONES_TRBCHP_353-01-cfDNA.txt nonproductive removed\n",
      "\n"
     ]
    },
    {
     "name": "stdout",
     "output_type": "stream",
     "text": [
      "[1] 5\n"
     ]
    },
    {
     "name": "stderr",
     "output_type": "stream",
     "text": [
      "Number of CDR3s in: ~/Desktop/H4H/INTERCEPT/NextSeq/batch1_cfDNA_30Jan2020/mixcr/clones/CLONES_TRBCHP_355-01-cfDNA.txt\n",
      "\n"
     ]
    },
    {
     "name": "stdout",
     "output_type": "stream",
     "text": [
      "[1] 4\n"
     ]
    },
    {
     "name": "stderr",
     "output_type": "stream",
     "text": [
      "Number of CDR3s in: ~/Desktop/H4H/INTERCEPT/NextSeq/batch1_cfDNA_30Jan2020/mixcr/clones/CLONES_TRBCHP_355-01-cfDNA.txt nonproductive removed\n",
      "\n"
     ]
    },
    {
     "name": "stdout",
     "output_type": "stream",
     "text": [
      "[1] 2\n"
     ]
    },
    {
     "name": "stderr",
     "output_type": "stream",
     "text": [
      "Number of CDR3s in: ~/Desktop/H4H/INTERCEPT/NextSeq/batch1_cfDNA_30Jan2020/mixcr/clones/CLONES_TRBCHP_356-02-cfDNA.txt\n",
      "\n"
     ]
    },
    {
     "name": "stdout",
     "output_type": "stream",
     "text": [
      "[1] 10\n"
     ]
    },
    {
     "name": "stderr",
     "output_type": "stream",
     "text": [
      "Number of CDR3s in: ~/Desktop/H4H/INTERCEPT/NextSeq/batch1_cfDNA_30Jan2020/mixcr/clones/CLONES_TRBCHP_356-02-cfDNA.txt nonproductive removed\n",
      "\n"
     ]
    },
    {
     "name": "stdout",
     "output_type": "stream",
     "text": [
      "[1] 8\n"
     ]
    },
    {
     "name": "stderr",
     "output_type": "stream",
     "text": [
      "Number of CDR3s in: ~/Desktop/H4H/INTERCEPT/NextSeq/batch1_cfDNA_30Jan2020/mixcr/clones/CLONES_TRBCHP_357-03-cfDNA.txt\n",
      "\n"
     ]
    },
    {
     "name": "stdout",
     "output_type": "stream",
     "text": [
      "[1] 7\n"
     ]
    },
    {
     "name": "stderr",
     "output_type": "stream",
     "text": [
      "Number of CDR3s in: ~/Desktop/H4H/INTERCEPT/NextSeq/batch1_cfDNA_30Jan2020/mixcr/clones/CLONES_TRBCHP_357-03-cfDNA.txt nonproductive removed\n",
      "\n"
     ]
    },
    {
     "name": "stdout",
     "output_type": "stream",
     "text": [
      "[1] 4\n"
     ]
    },
    {
     "name": "stderr",
     "output_type": "stream",
     "text": [
      "Number of CDR3s in: ~/Desktop/H4H/INTERCEPT/NextSeq/batch1_cfDNA_30Jan2020/mixcr/clones/CLONES_TRBCHP_359-01-cfDNA.txt\n",
      "\n"
     ]
    },
    {
     "name": "stdout",
     "output_type": "stream",
     "text": [
      "[1] 4\n"
     ]
    },
    {
     "name": "stderr",
     "output_type": "stream",
     "text": [
      "Number of CDR3s in: ~/Desktop/H4H/INTERCEPT/NextSeq/batch1_cfDNA_30Jan2020/mixcr/clones/CLONES_TRBCHP_359-01-cfDNA.txt nonproductive removed\n",
      "\n"
     ]
    },
    {
     "name": "stdout",
     "output_type": "stream",
     "text": [
      "[1] 1\n"
     ]
    },
    {
     "name": "stderr",
     "output_type": "stream",
     "text": [
      "Number of CDR3s in: ~/Desktop/H4H/INTERCEPT/NextSeq/batch1_cfDNA_30Jan2020/mixcr/clones/CLONES_TRBCHP_359-04-cfDNA.txt\n",
      "\n"
     ]
    },
    {
     "name": "stdout",
     "output_type": "stream",
     "text": [
      "[1] 24\n"
     ]
    },
    {
     "name": "stderr",
     "output_type": "stream",
     "text": [
      "Number of CDR3s in: ~/Desktop/H4H/INTERCEPT/NextSeq/batch1_cfDNA_30Jan2020/mixcr/clones/CLONES_TRBCHP_359-04-cfDNA.txt nonproductive removed\n",
      "\n"
     ]
    },
    {
     "name": "stdout",
     "output_type": "stream",
     "text": [
      "[1] 19\n"
     ]
    },
    {
     "name": "stderr",
     "output_type": "stream",
     "text": [
      "Number of CDR3s in: ~/Desktop/H4H/INTERCEPT/NextSeq/batch1_cfDNA_30Jan2020/mixcr/clones/CLONES_TRBCHP_360-02-cfDNA.txt\n",
      "\n"
     ]
    },
    {
     "name": "stdout",
     "output_type": "stream",
     "text": [
      "[1] 9\n"
     ]
    },
    {
     "name": "stderr",
     "output_type": "stream",
     "text": [
      "Number of CDR3s in: ~/Desktop/H4H/INTERCEPT/NextSeq/batch1_cfDNA_30Jan2020/mixcr/clones/CLONES_TRBCHP_360-02-cfDNA.txt nonproductive removed\n",
      "\n"
     ]
    },
    {
     "name": "stdout",
     "output_type": "stream",
     "text": [
      "[1] 6\n"
     ]
    },
    {
     "name": "stderr",
     "output_type": "stream",
     "text": [
      "Number of CDR3s in: ~/Desktop/H4H/INTERCEPT/NextSeq/batch1_cfDNA_30Jan2020/mixcr/clones/CLONES_TRBCHP_363-01-cfDNA.txt\n",
      "\n"
     ]
    },
    {
     "name": "stdout",
     "output_type": "stream",
     "text": [
      "[1] 19\n"
     ]
    },
    {
     "name": "stderr",
     "output_type": "stream",
     "text": [
      "Number of CDR3s in: ~/Desktop/H4H/INTERCEPT/NextSeq/batch1_cfDNA_30Jan2020/mixcr/clones/CLONES_TRBCHP_363-01-cfDNA.txt nonproductive removed\n",
      "\n"
     ]
    },
    {
     "name": "stdout",
     "output_type": "stream",
     "text": [
      "[1] 12\n"
     ]
    },
    {
     "name": "stderr",
     "output_type": "stream",
     "text": [
      "Number of CDR3s in: ~/Desktop/H4H/INTERCEPT/NextSeq/batch1_cfDNA_30Jan2020/mixcr/clones/CLONES_TRBCHP_365-01-cfDNA.txt\n",
      "\n"
     ]
    },
    {
     "name": "stdout",
     "output_type": "stream",
     "text": [
      "[1] 48\n"
     ]
    },
    {
     "name": "stderr",
     "output_type": "stream",
     "text": [
      "Number of CDR3s in: ~/Desktop/H4H/INTERCEPT/NextSeq/batch1_cfDNA_30Jan2020/mixcr/clones/CLONES_TRBCHP_365-01-cfDNA.txt nonproductive removed\n",
      "\n"
     ]
    },
    {
     "name": "stdout",
     "output_type": "stream",
     "text": [
      "[1] 32\n"
     ]
    },
    {
     "name": "stderr",
     "output_type": "stream",
     "text": [
      "Number of CDR3s in: ~/Desktop/H4H/INTERCEPT/NextSeq/batch1_cfDNA_30Jan2020/mixcr/clones/CLONES_TRBCHP_366-02-cfDNA.txt\n",
      "\n"
     ]
    },
    {
     "name": "stdout",
     "output_type": "stream",
     "text": [
      "[1] 1\n"
     ]
    },
    {
     "name": "stderr",
     "output_type": "stream",
     "text": [
      "Number of CDR3s in: ~/Desktop/H4H/INTERCEPT/NextSeq/batch1_cfDNA_30Jan2020/mixcr/clones/CLONES_TRBCHP_366-02-cfDNA.txt nonproductive removed\n",
      "\n"
     ]
    },
    {
     "name": "stdout",
     "output_type": "stream",
     "text": [
      "[1] 1\n"
     ]
    },
    {
     "name": "stderr",
     "output_type": "stream",
     "text": [
      "Number of CDR3s in: ~/Desktop/H4H/INTERCEPT/NextSeq/batch1_cfDNA_30Jan2020/mixcr/clones/CLONES_TRBCHP_368-05-cfDNA.txt\n",
      "\n"
     ]
    },
    {
     "name": "stdout",
     "output_type": "stream",
     "text": [
      "[1] 12\n"
     ]
    },
    {
     "name": "stderr",
     "output_type": "stream",
     "text": [
      "Number of CDR3s in: ~/Desktop/H4H/INTERCEPT/NextSeq/batch1_cfDNA_30Jan2020/mixcr/clones/CLONES_TRBCHP_368-05-cfDNA.txt nonproductive removed\n",
      "\n"
     ]
    },
    {
     "name": "stdout",
     "output_type": "stream",
     "text": [
      "[1] 8\n"
     ]
    },
    {
     "name": "stderr",
     "output_type": "stream",
     "text": [
      "Number of CDR3s in: ~/Desktop/H4H/INTERCEPT/NextSeq/batch1_cfDNA_30Jan2020/mixcr/clones/CLONES_TRBCHP_370-01-cfDNA.txt\n",
      "\n"
     ]
    },
    {
     "name": "stdout",
     "output_type": "stream",
     "text": [
      "[1] 85\n"
     ]
    },
    {
     "name": "stderr",
     "output_type": "stream",
     "text": [
      "Number of CDR3s in: ~/Desktop/H4H/INTERCEPT/NextSeq/batch1_cfDNA_30Jan2020/mixcr/clones/CLONES_TRBCHP_370-01-cfDNA.txt nonproductive removed\n",
      "\n"
     ]
    },
    {
     "name": "stdout",
     "output_type": "stream",
     "text": [
      "[1] 62\n"
     ]
    },
    {
     "name": "stderr",
     "output_type": "stream",
     "text": [
      "Number of CDR3s in: ~/Desktop/H4H/INTERCEPT/NextSeq/batch1_cfDNA_30Jan2020/mixcr/clones/CLONES_TRBCHP_371-01-cfDNA.txt\n",
      "\n"
     ]
    },
    {
     "name": "stdout",
     "output_type": "stream",
     "text": [
      "[1] 8\n"
     ]
    },
    {
     "name": "stderr",
     "output_type": "stream",
     "text": [
      "Number of CDR3s in: ~/Desktop/H4H/INTERCEPT/NextSeq/batch1_cfDNA_30Jan2020/mixcr/clones/CLONES_TRBCHP_371-01-cfDNA.txt nonproductive removed\n",
      "\n"
     ]
    },
    {
     "name": "stdout",
     "output_type": "stream",
     "text": [
      "[1] 4\n"
     ]
    },
    {
     "name": "stderr",
     "output_type": "stream",
     "text": [
      "Number of CDR3s in: ~/Desktop/H4H/INTERCEPT/NextSeq/batch1_cfDNA_30Jan2020/mixcr/clones/CLONES_TRBCHP_371-03-cfDNA.txt\n",
      "\n"
     ]
    },
    {
     "name": "stdout",
     "output_type": "stream",
     "text": [
      "[1] 5\n"
     ]
    },
    {
     "name": "stderr",
     "output_type": "stream",
     "text": [
      "Number of CDR3s in: ~/Desktop/H4H/INTERCEPT/NextSeq/batch1_cfDNA_30Jan2020/mixcr/clones/CLONES_TRBCHP_371-03-cfDNA.txt nonproductive removed\n",
      "\n"
     ]
    },
    {
     "name": "stdout",
     "output_type": "stream",
     "text": [
      "[1] 2\n"
     ]
    },
    {
     "name": "stderr",
     "output_type": "stream",
     "text": [
      "Number of CDR3s in: ~/Desktop/H4H/INTERCEPT/NextSeq/batch1_cfDNA_30Jan2020/mixcr/clones/CLONES_TRBCHP_372-01-cfDNA.txt\n",
      "\n"
     ]
    },
    {
     "name": "stdout",
     "output_type": "stream",
     "text": [
      "[1] 6\n"
     ]
    },
    {
     "name": "stderr",
     "output_type": "stream",
     "text": [
      "Number of CDR3s in: ~/Desktop/H4H/INTERCEPT/NextSeq/batch1_cfDNA_30Jan2020/mixcr/clones/CLONES_TRBCHP_372-01-cfDNA.txt nonproductive removed\n",
      "\n"
     ]
    },
    {
     "name": "stdout",
     "output_type": "stream",
     "text": [
      "[1] 4\n"
     ]
    },
    {
     "name": "stderr",
     "output_type": "stream",
     "text": [
      "Number of CDR3s in: ~/Desktop/H4H/INTERCEPT/NextSeq/batch1_cfDNA_30Jan2020/mixcr/clones/CLONES_TRBCHP_373-01-cfDNA.txt\n",
      "\n"
     ]
    },
    {
     "name": "stdout",
     "output_type": "stream",
     "text": [
      "[1] 3\n"
     ]
    },
    {
     "name": "stderr",
     "output_type": "stream",
     "text": [
      "Number of CDR3s in: ~/Desktop/H4H/INTERCEPT/NextSeq/batch1_cfDNA_30Jan2020/mixcr/clones/CLONES_TRBCHP_373-01-cfDNA.txt nonproductive removed\n",
      "\n"
     ]
    },
    {
     "name": "stdout",
     "output_type": "stream",
     "text": [
      "[1] 1\n"
     ]
    },
    {
     "name": "stderr",
     "output_type": "stream",
     "text": [
      "Number of CDR3s in: ~/Desktop/H4H/INTERCEPT/NextSeq/batch1_cfDNA_30Jan2020/mixcr/clones/CLONES_TRBCHP_374-04-cfDNA.txt\n",
      "\n"
     ]
    },
    {
     "name": "stdout",
     "output_type": "stream",
     "text": [
      "[1] 0\n"
     ]
    },
    {
     "name": "stderr",
     "output_type": "stream",
     "text": [
      "Number of CDR3s in: ~/Desktop/H4H/INTERCEPT/NextSeq/batch1_cfDNA_30Jan2020/mixcr/clones/CLONES_TRBCHP_374-04-cfDNA.txt nonproductive removed\n",
      "\n"
     ]
    },
    {
     "name": "stdout",
     "output_type": "stream",
     "text": [
      "[1] 0\n"
     ]
    },
    {
     "name": "stderr",
     "output_type": "stream",
     "text": [
      "Number of CDR3s in: ~/Desktop/H4H/INTERCEPT/NextSeq/batch1_cfDNA_30Jan2020/mixcr/clones/CLONES_TRBCHP_374-05-cfDNA.txt\n",
      "\n"
     ]
    },
    {
     "name": "stdout",
     "output_type": "stream",
     "text": [
      "[1] 4\n"
     ]
    },
    {
     "name": "stderr",
     "output_type": "stream",
     "text": [
      "Number of CDR3s in: ~/Desktop/H4H/INTERCEPT/NextSeq/batch1_cfDNA_30Jan2020/mixcr/clones/CLONES_TRBCHP_374-05-cfDNA.txt nonproductive removed\n",
      "\n"
     ]
    },
    {
     "name": "stdout",
     "output_type": "stream",
     "text": [
      "[1] 1\n"
     ]
    },
    {
     "name": "stderr",
     "output_type": "stream",
     "text": [
      "Number of CDR3s in: ~/Desktop/H4H/INTERCEPT/NextSeq/batch1_cfDNA_30Jan2020/mixcr/clones/CLONES_TRBCHP_376-01-cfDNA.txt\n",
      "\n"
     ]
    },
    {
     "name": "stdout",
     "output_type": "stream",
     "text": [
      "[1] 10\n"
     ]
    },
    {
     "name": "stderr",
     "output_type": "stream",
     "text": [
      "Number of CDR3s in: ~/Desktop/H4H/INTERCEPT/NextSeq/batch1_cfDNA_30Jan2020/mixcr/clones/CLONES_TRBCHP_376-01-cfDNA.txt nonproductive removed\n",
      "\n"
     ]
    },
    {
     "name": "stdout",
     "output_type": "stream",
     "text": [
      "[1] 5\n"
     ]
    },
    {
     "name": "stderr",
     "output_type": "stream",
     "text": [
      "Number of CDR3s in: ~/Desktop/H4H/INTERCEPT/NextSeq/batch1_cfDNA_30Jan2020/mixcr/clones/CLONES_TRBCHP_377-01-cfDNA.txt\n",
      "\n"
     ]
    },
    {
     "name": "stdout",
     "output_type": "stream",
     "text": [
      "[1] 1\n"
     ]
    },
    {
     "name": "stderr",
     "output_type": "stream",
     "text": [
      "Number of CDR3s in: ~/Desktop/H4H/INTERCEPT/NextSeq/batch1_cfDNA_30Jan2020/mixcr/clones/CLONES_TRBCHP_377-01-cfDNA.txt nonproductive removed\n",
      "\n"
     ]
    },
    {
     "name": "stdout",
     "output_type": "stream",
     "text": [
      "[1] 0\n"
     ]
    },
    {
     "name": "stderr",
     "output_type": "stream",
     "text": [
      "Number of CDR3s in: ~/Desktop/H4H/INTERCEPT/NextSeq/batch1_cfDNA_30Jan2020/mixcr/clones/CLONES_TRBCHP_379-01-cfDNA.txt\n",
      "\n"
     ]
    },
    {
     "name": "stdout",
     "output_type": "stream",
     "text": [
      "[1] 16\n"
     ]
    },
    {
     "name": "stderr",
     "output_type": "stream",
     "text": [
      "Number of CDR3s in: ~/Desktop/H4H/INTERCEPT/NextSeq/batch1_cfDNA_30Jan2020/mixcr/clones/CLONES_TRBCHP_379-01-cfDNA.txt nonproductive removed\n",
      "\n"
     ]
    },
    {
     "name": "stdout",
     "output_type": "stream",
     "text": [
      "[1] 8\n"
     ]
    },
    {
     "name": "stderr",
     "output_type": "stream",
     "text": [
      "Number of CDR3s in: ~/Desktop/H4H/INTERCEPT/NextSeq/batch1_jul52019/mixcr/clones/CLONES_TRBCHP_346-01-PBMC-DNA.txt\n",
      "\n"
     ]
    },
    {
     "name": "stdout",
     "output_type": "stream",
     "text": [
      "[1] 47\n"
     ]
    },
    {
     "name": "stderr",
     "output_type": "stream",
     "text": [
      "Number of CDR3s in: ~/Desktop/H4H/INTERCEPT/NextSeq/batch1_jul52019/mixcr/clones/CLONES_TRBCHP_346-01-PBMC-DNA.txt nonproductive removed\n",
      "\n"
     ]
    },
    {
     "name": "stdout",
     "output_type": "stream",
     "text": [
      "[1] 35\n"
     ]
    },
    {
     "name": "stderr",
     "output_type": "stream",
     "text": [
      "Number of CDR3s in: ~/Desktop/H4H/INTERCEPT/NextSeq/batch1_jul52019/mixcr/clones/CLONES_TRBCHP_348-03-PBMC-DNA.txt\n",
      "\n"
     ]
    },
    {
     "name": "stdout",
     "output_type": "stream",
     "text": [
      "[1] 157\n"
     ]
    },
    {
     "name": "stderr",
     "output_type": "stream",
     "text": [
      "Number of CDR3s in: ~/Desktop/H4H/INTERCEPT/NextSeq/batch1_jul52019/mixcr/clones/CLONES_TRBCHP_348-03-PBMC-DNA.txt nonproductive removed\n",
      "\n"
     ]
    },
    {
     "name": "stdout",
     "output_type": "stream",
     "text": [
      "[1] 125\n"
     ]
    },
    {
     "name": "stderr",
     "output_type": "stream",
     "text": [
      "Number of CDR3s in: ~/Desktop/H4H/INTERCEPT/NextSeq/batch1_jul52019/mixcr/clones/CLONES_TRBCHP_348-04-PBMC-DNA.txt\n",
      "\n"
     ]
    },
    {
     "name": "stdout",
     "output_type": "stream",
     "text": [
      "[1] 49\n"
     ]
    },
    {
     "name": "stderr",
     "output_type": "stream",
     "text": [
      "Number of CDR3s in: ~/Desktop/H4H/INTERCEPT/NextSeq/batch1_jul52019/mixcr/clones/CLONES_TRBCHP_348-04-PBMC-DNA.txt nonproductive removed\n",
      "\n"
     ]
    },
    {
     "name": "stdout",
     "output_type": "stream",
     "text": [
      "[1] 36\n"
     ]
    },
    {
     "name": "stderr",
     "output_type": "stream",
     "text": [
      "Number of CDR3s in: ~/Desktop/H4H/INTERCEPT/NextSeq/batch1_jul52019/mixcr/clones/CLONES_TRBCHP_349-01-PBMC-DNA.txt\n",
      "\n"
     ]
    },
    {
     "name": "stdout",
     "output_type": "stream",
     "text": [
      "[1] 20\n"
     ]
    },
    {
     "name": "stderr",
     "output_type": "stream",
     "text": [
      "Number of CDR3s in: ~/Desktop/H4H/INTERCEPT/NextSeq/batch1_jul52019/mixcr/clones/CLONES_TRBCHP_349-01-PBMC-DNA.txt nonproductive removed\n",
      "\n"
     ]
    },
    {
     "name": "stdout",
     "output_type": "stream",
     "text": [
      "[1] 18\n"
     ]
    },
    {
     "name": "stderr",
     "output_type": "stream",
     "text": [
      "Number of CDR3s in: ~/Desktop/H4H/INTERCEPT/NextSeq/batch1_jul52019/mixcr/clones/CLONES_TRBCHP_349-02-PBMC-DNA.txt\n",
      "\n"
     ]
    },
    {
     "name": "stdout",
     "output_type": "stream",
     "text": [
      "[1] 113\n"
     ]
    },
    {
     "name": "stderr",
     "output_type": "stream",
     "text": [
      "Number of CDR3s in: ~/Desktop/H4H/INTERCEPT/NextSeq/batch1_jul52019/mixcr/clones/CLONES_TRBCHP_349-02-PBMC-DNA.txt nonproductive removed\n",
      "\n"
     ]
    },
    {
     "name": "stdout",
     "output_type": "stream",
     "text": [
      "[1] 90\n"
     ]
    },
    {
     "name": "stderr",
     "output_type": "stream",
     "text": [
      "Number of CDR3s in: ~/Desktop/H4H/INTERCEPT/NextSeq/batch1_jul52019/mixcr/clones/CLONES_TRBCHP_351-01-PBMC-DNA.txt\n",
      "\n"
     ]
    },
    {
     "name": "stdout",
     "output_type": "stream",
     "text": [
      "[1] 6\n"
     ]
    },
    {
     "name": "stderr",
     "output_type": "stream",
     "text": [
      "Number of CDR3s in: ~/Desktop/H4H/INTERCEPT/NextSeq/batch1_jul52019/mixcr/clones/CLONES_TRBCHP_351-01-PBMC-DNA.txt nonproductive removed\n",
      "\n"
     ]
    },
    {
     "name": "stdout",
     "output_type": "stream",
     "text": [
      "[1] 4\n"
     ]
    },
    {
     "name": "stderr",
     "output_type": "stream",
     "text": [
      "Number of CDR3s in: ~/Desktop/H4H/INTERCEPT/NextSeq/batch1_jul52019/mixcr/clones/CLONES_TRBCHP_351-02-PBMC-DNA.txt\n",
      "\n"
     ]
    },
    {
     "name": "stdout",
     "output_type": "stream",
     "text": [
      "[1] 110\n"
     ]
    },
    {
     "name": "stderr",
     "output_type": "stream",
     "text": [
      "Number of CDR3s in: ~/Desktop/H4H/INTERCEPT/NextSeq/batch1_jul52019/mixcr/clones/CLONES_TRBCHP_351-02-PBMC-DNA.txt nonproductive removed\n",
      "\n"
     ]
    },
    {
     "name": "stdout",
     "output_type": "stream",
     "text": [
      "[1] 80\n"
     ]
    },
    {
     "name": "stderr",
     "output_type": "stream",
     "text": [
      "Number of CDR3s in: ~/Desktop/H4H/INTERCEPT/NextSeq/batch1_jul52019/mixcr/clones/CLONES_TRBCHP_352-01-PBMC-DNA.txt\n",
      "\n"
     ]
    },
    {
     "name": "stdout",
     "output_type": "stream",
     "text": [
      "[1] 30\n"
     ]
    },
    {
     "name": "stderr",
     "output_type": "stream",
     "text": [
      "Number of CDR3s in: ~/Desktop/H4H/INTERCEPT/NextSeq/batch1_jul52019/mixcr/clones/CLONES_TRBCHP_352-01-PBMC-DNA.txt nonproductive removed\n",
      "\n"
     ]
    },
    {
     "name": "stdout",
     "output_type": "stream",
     "text": [
      "[1] 19\n"
     ]
    },
    {
     "name": "stderr",
     "output_type": "stream",
     "text": [
      "Number of CDR3s in: ~/Desktop/H4H/INTERCEPT/NextSeq/batch1_jul52019/mixcr/clones/CLONES_TRBCHP_352-02-PBMC-DNA.txt\n",
      "\n"
     ]
    },
    {
     "name": "stdout",
     "output_type": "stream",
     "text": [
      "[1] 146\n"
     ]
    },
    {
     "name": "stderr",
     "output_type": "stream",
     "text": [
      "Number of CDR3s in: ~/Desktop/H4H/INTERCEPT/NextSeq/batch1_jul52019/mixcr/clones/CLONES_TRBCHP_352-02-PBMC-DNA.txt nonproductive removed\n",
      "\n"
     ]
    },
    {
     "name": "stdout",
     "output_type": "stream",
     "text": [
      "[1] 121\n"
     ]
    },
    {
     "name": "stderr",
     "output_type": "stream",
     "text": [
      "Number of CDR3s in: ~/Desktop/H4H/INTERCEPT/NextSeq/batch1_jul52019/mixcr/clones/CLONES_TRBCHP_356-04-PBMC-DNA.txt\n",
      "\n"
     ]
    },
    {
     "name": "stdout",
     "output_type": "stream",
     "text": [
      "[1] 0\n"
     ]
    },
    {
     "name": "stderr",
     "output_type": "stream",
     "text": [
      "Number of CDR3s in: ~/Desktop/H4H/INTERCEPT/NextSeq/batch1_jul52019/mixcr/clones/CLONES_TRBCHP_356-04-PBMC-DNA.txt nonproductive removed\n",
      "\n"
     ]
    },
    {
     "name": "stdout",
     "output_type": "stream",
     "text": [
      "[1] 0\n"
     ]
    },
    {
     "name": "stderr",
     "output_type": "stream",
     "text": [
      "Number of CDR3s in: ~/Desktop/H4H/INTERCEPT/NextSeq/batch1_jul52019/mixcr/clones/CLONES_TRBCHP_356-05-PBMC-DNA.txt\n",
      "\n"
     ]
    },
    {
     "name": "stdout",
     "output_type": "stream",
     "text": [
      "[1] 2\n"
     ]
    },
    {
     "name": "stderr",
     "output_type": "stream",
     "text": [
      "Number of CDR3s in: ~/Desktop/H4H/INTERCEPT/NextSeq/batch1_jul52019/mixcr/clones/CLONES_TRBCHP_356-05-PBMC-DNA.txt nonproductive removed\n",
      "\n"
     ]
    },
    {
     "name": "stdout",
     "output_type": "stream",
     "text": [
      "[1] 2\n"
     ]
    },
    {
     "name": "stderr",
     "output_type": "stream",
     "text": [
      "Number of CDR3s in: ~/Desktop/H4H/INTERCEPT/NextSeq/batch1_jul52019/mixcr/clones/CLONES_TRBCHP_358-01-PBMC-DNA.txt\n",
      "\n"
     ]
    },
    {
     "name": "stdout",
     "output_type": "stream",
     "text": [
      "[1] 13\n"
     ]
    },
    {
     "name": "stderr",
     "output_type": "stream",
     "text": [
      "Number of CDR3s in: ~/Desktop/H4H/INTERCEPT/NextSeq/batch1_jul52019/mixcr/clones/CLONES_TRBCHP_358-01-PBMC-DNA.txt nonproductive removed\n",
      "\n"
     ]
    },
    {
     "name": "stdout",
     "output_type": "stream",
     "text": [
      "[1] 13\n"
     ]
    },
    {
     "name": "stderr",
     "output_type": "stream",
     "text": [
      "Number of CDR3s in: ~/Desktop/H4H/INTERCEPT/NextSeq/batch1_jul52019/mixcr/clones/CLONES_TRBCHP_363-03-PBMC-DNA.txt\n",
      "\n"
     ]
    },
    {
     "name": "stdout",
     "output_type": "stream",
     "text": [
      "[1] 10\n"
     ]
    },
    {
     "name": "stderr",
     "output_type": "stream",
     "text": [
      "Number of CDR3s in: ~/Desktop/H4H/INTERCEPT/NextSeq/batch1_jul52019/mixcr/clones/CLONES_TRBCHP_363-03-PBMC-DNA.txt nonproductive removed\n",
      "\n"
     ]
    },
    {
     "name": "stdout",
     "output_type": "stream",
     "text": [
      "[1] 6\n"
     ]
    },
    {
     "name": "stderr",
     "output_type": "stream",
     "text": [
      "Number of CDR3s in: ~/Desktop/H4H/INTERCEPT/NextSeq/batch1_jul52019/mixcr/clones/CLONES_TRBCHP_365-02-PBMC-DNA.txt\n",
      "\n"
     ]
    },
    {
     "name": "stdout",
     "output_type": "stream",
     "text": [
      "[1] 95\n"
     ]
    },
    {
     "name": "stderr",
     "output_type": "stream",
     "text": [
      "Number of CDR3s in: ~/Desktop/H4H/INTERCEPT/NextSeq/batch1_jul52019/mixcr/clones/CLONES_TRBCHP_365-02-PBMC-DNA.txt nonproductive removed\n",
      "\n"
     ]
    },
    {
     "name": "stdout",
     "output_type": "stream",
     "text": [
      "[1] 74\n"
     ]
    },
    {
     "name": "stderr",
     "output_type": "stream",
     "text": [
      "Number of CDR3s in: ~/Desktop/H4H/INTERCEPT/NextSeq/batch10_cfDNA_13Jul2020/mixcr/clones/CLONES_TRBCHP_324-05_cfDNA.txt\n",
      "\n"
     ]
    },
    {
     "name": "stdout",
     "output_type": "stream",
     "text": [
      "[1] 4\n"
     ]
    },
    {
     "name": "stderr",
     "output_type": "stream",
     "text": [
      "Number of CDR3s in: ~/Desktop/H4H/INTERCEPT/NextSeq/batch10_cfDNA_13Jul2020/mixcr/clones/CLONES_TRBCHP_324-05_cfDNA.txt nonproductive removed\n",
      "\n"
     ]
    },
    {
     "name": "stdout",
     "output_type": "stream",
     "text": [
      "[1] 2\n"
     ]
    },
    {
     "name": "stderr",
     "output_type": "stream",
     "text": [
      "Number of CDR3s in: ~/Desktop/H4H/INTERCEPT/NextSeq/batch10_cfDNA_13Jul2020/mixcr/clones/CLONES_TRBCHP_326-05_cfDNA.txt\n",
      "\n"
     ]
    },
    {
     "name": "stdout",
     "output_type": "stream",
     "text": [
      "[1] 31\n"
     ]
    },
    {
     "name": "stderr",
     "output_type": "stream",
     "text": [
      "Number of CDR3s in: ~/Desktop/H4H/INTERCEPT/NextSeq/batch10_cfDNA_13Jul2020/mixcr/clones/CLONES_TRBCHP_326-05_cfDNA.txt nonproductive removed\n",
      "\n"
     ]
    },
    {
     "name": "stdout",
     "output_type": "stream",
     "text": [
      "[1] 25\n"
     ]
    },
    {
     "name": "stderr",
     "output_type": "stream",
     "text": [
      "Number of CDR3s in: ~/Desktop/H4H/INTERCEPT/NextSeq/batch10_cfDNA_13Jul2020/mixcr/clones/CLONES_TRBCHP_328-05_cfDNA.txt\n",
      "\n"
     ]
    },
    {
     "name": "stdout",
     "output_type": "stream",
     "text": [
      "[1] 6\n"
     ]
    },
    {
     "name": "stderr",
     "output_type": "stream",
     "text": [
      "Number of CDR3s in: ~/Desktop/H4H/INTERCEPT/NextSeq/batch10_cfDNA_13Jul2020/mixcr/clones/CLONES_TRBCHP_328-05_cfDNA.txt nonproductive removed\n",
      "\n"
     ]
    },
    {
     "name": "stdout",
     "output_type": "stream",
     "text": [
      "[1] 5\n"
     ]
    },
    {
     "name": "stderr",
     "output_type": "stream",
     "text": [
      "Number of CDR3s in: ~/Desktop/H4H/INTERCEPT/NextSeq/batch10_cfDNA_13Jul2020/mixcr/clones/CLONES_TRBCHP_336-03_cfDNA.txt\n",
      "\n"
     ]
    },
    {
     "name": "stdout",
     "output_type": "stream",
     "text": [
      "[1] 9\n"
     ]
    },
    {
     "name": "stderr",
     "output_type": "stream",
     "text": [
      "Number of CDR3s in: ~/Desktop/H4H/INTERCEPT/NextSeq/batch10_cfDNA_13Jul2020/mixcr/clones/CLONES_TRBCHP_336-03_cfDNA.txt nonproductive removed\n",
      "\n"
     ]
    },
    {
     "name": "stdout",
     "output_type": "stream",
     "text": [
      "[1] 5\n"
     ]
    },
    {
     "name": "stderr",
     "output_type": "stream",
     "text": [
      "Number of CDR3s in: ~/Desktop/H4H/INTERCEPT/NextSeq/batch10_cfDNA_13Jul2020/mixcr/clones/CLONES_TRBCHP_336-04_cfDNA.txt\n",
      "\n"
     ]
    },
    {
     "name": "stdout",
     "output_type": "stream",
     "text": [
      "[1] 12\n"
     ]
    },
    {
     "name": "stderr",
     "output_type": "stream",
     "text": [
      "Number of CDR3s in: ~/Desktop/H4H/INTERCEPT/NextSeq/batch10_cfDNA_13Jul2020/mixcr/clones/CLONES_TRBCHP_336-04_cfDNA.txt nonproductive removed\n",
      "\n"
     ]
    },
    {
     "name": "stdout",
     "output_type": "stream",
     "text": [
      "[1] 6\n"
     ]
    },
    {
     "name": "stderr",
     "output_type": "stream",
     "text": [
      "Number of CDR3s in: ~/Desktop/H4H/INTERCEPT/NextSeq/batch10_cfDNA_13Jul2020/mixcr/clones/CLONES_TRBCHP_336-05_cfDNA.txt\n",
      "\n"
     ]
    },
    {
     "name": "stdout",
     "output_type": "stream",
     "text": [
      "[1] 16\n"
     ]
    },
    {
     "name": "stderr",
     "output_type": "stream",
     "text": [
      "Number of CDR3s in: ~/Desktop/H4H/INTERCEPT/NextSeq/batch10_cfDNA_13Jul2020/mixcr/clones/CLONES_TRBCHP_336-05_cfDNA.txt nonproductive removed\n",
      "\n"
     ]
    },
    {
     "name": "stdout",
     "output_type": "stream",
     "text": [
      "[1] 12\n"
     ]
    },
    {
     "name": "stderr",
     "output_type": "stream",
     "text": [
      "Number of CDR3s in: ~/Desktop/H4H/INTERCEPT/NextSeq/batch10_cfDNA_13Jul2020/mixcr/clones/CLONES_TRBCHP_338-03_cfDNA.txt\n",
      "\n"
     ]
    },
    {
     "name": "stdout",
     "output_type": "stream",
     "text": [
      "[1] 5\n"
     ]
    },
    {
     "name": "stderr",
     "output_type": "stream",
     "text": [
      "Number of CDR3s in: ~/Desktop/H4H/INTERCEPT/NextSeq/batch10_cfDNA_13Jul2020/mixcr/clones/CLONES_TRBCHP_338-03_cfDNA.txt nonproductive removed\n",
      "\n"
     ]
    },
    {
     "name": "stdout",
     "output_type": "stream",
     "text": [
      "[1] 3\n"
     ]
    },
    {
     "name": "stderr",
     "output_type": "stream",
     "text": [
      "Number of CDR3s in: ~/Desktop/H4H/INTERCEPT/NextSeq/batch10_cfDNA_13Jul2020/mixcr/clones/CLONES_TRBCHP_339-03_cfDNA.txt\n",
      "\n"
     ]
    },
    {
     "name": "stdout",
     "output_type": "stream",
     "text": [
      "[1] 8\n"
     ]
    },
    {
     "name": "stderr",
     "output_type": "stream",
     "text": [
      "Number of CDR3s in: ~/Desktop/H4H/INTERCEPT/NextSeq/batch10_cfDNA_13Jul2020/mixcr/clones/CLONES_TRBCHP_339-03_cfDNA.txt nonproductive removed\n",
      "\n"
     ]
    },
    {
     "name": "stdout",
     "output_type": "stream",
     "text": [
      "[1] 6\n"
     ]
    },
    {
     "name": "stderr",
     "output_type": "stream",
     "text": [
      "Number of CDR3s in: ~/Desktop/H4H/INTERCEPT/NextSeq/batch10_cfDNA_13Jul2020/mixcr/clones/CLONES_TRBCHP_347-04_cfDNA.txt\n",
      "\n"
     ]
    },
    {
     "name": "stdout",
     "output_type": "stream",
     "text": [
      "[1] 8\n"
     ]
    },
    {
     "name": "stderr",
     "output_type": "stream",
     "text": [
      "Number of CDR3s in: ~/Desktop/H4H/INTERCEPT/NextSeq/batch10_cfDNA_13Jul2020/mixcr/clones/CLONES_TRBCHP_347-04_cfDNA.txt nonproductive removed\n",
      "\n"
     ]
    },
    {
     "name": "stdout",
     "output_type": "stream",
     "text": [
      "[1] 8\n"
     ]
    },
    {
     "name": "stderr",
     "output_type": "stream",
     "text": [
      "Number of CDR3s in: ~/Desktop/H4H/INTERCEPT/NextSeq/batch10_cfDNA_13Jul2020/mixcr/clones/CLONES_TRBCHP_348-05_cfDNA.txt\n",
      "\n"
     ]
    },
    {
     "name": "stdout",
     "output_type": "stream",
     "text": [
      "[1] 13\n"
     ]
    },
    {
     "name": "stderr",
     "output_type": "stream",
     "text": [
      "Number of CDR3s in: ~/Desktop/H4H/INTERCEPT/NextSeq/batch10_cfDNA_13Jul2020/mixcr/clones/CLONES_TRBCHP_348-05_cfDNA.txt nonproductive removed\n",
      "\n"
     ]
    },
    {
     "name": "stdout",
     "output_type": "stream",
     "text": [
      "[1] 7\n"
     ]
    },
    {
     "name": "stderr",
     "output_type": "stream",
     "text": [
      "Number of CDR3s in: ~/Desktop/H4H/INTERCEPT/NextSeq/batch10_cfDNA_13Jul2020/mixcr/clones/CLONES_TRBCHP_351-04_cfDNA.txt\n",
      "\n"
     ]
    },
    {
     "name": "stdout",
     "output_type": "stream",
     "text": [
      "[1] 7\n"
     ]
    },
    {
     "name": "stderr",
     "output_type": "stream",
     "text": [
      "Number of CDR3s in: ~/Desktop/H4H/INTERCEPT/NextSeq/batch10_cfDNA_13Jul2020/mixcr/clones/CLONES_TRBCHP_351-04_cfDNA.txt nonproductive removed\n",
      "\n"
     ]
    },
    {
     "name": "stdout",
     "output_type": "stream",
     "text": [
      "[1] 5\n"
     ]
    },
    {
     "name": "stderr",
     "output_type": "stream",
     "text": [
      "Number of CDR3s in: ~/Desktop/H4H/INTERCEPT/NextSeq/batch10_cfDNA_13Jul2020/mixcr/clones/CLONES_TRBCHP_351-05_cfDNA.txt\n",
      "\n"
     ]
    },
    {
     "name": "stdout",
     "output_type": "stream",
     "text": [
      "[1] 6\n"
     ]
    },
    {
     "name": "stderr",
     "output_type": "stream",
     "text": [
      "Number of CDR3s in: ~/Desktop/H4H/INTERCEPT/NextSeq/batch10_cfDNA_13Jul2020/mixcr/clones/CLONES_TRBCHP_351-05_cfDNA.txt nonproductive removed\n",
      "\n"
     ]
    },
    {
     "name": "stdout",
     "output_type": "stream",
     "text": [
      "[1] 6\n"
     ]
    },
    {
     "name": "stderr",
     "output_type": "stream",
     "text": [
      "Number of CDR3s in: ~/Desktop/H4H/INTERCEPT/NextSeq/batch10_cfDNA_13Jul2020/mixcr/clones/CLONES_TRBCHP_353-05_cfDNA.txt\n",
      "\n"
     ]
    },
    {
     "name": "stdout",
     "output_type": "stream",
     "text": [
      "[1] 59\n"
     ]
    },
    {
     "name": "stderr",
     "output_type": "stream",
     "text": [
      "Number of CDR3s in: ~/Desktop/H4H/INTERCEPT/NextSeq/batch10_cfDNA_13Jul2020/mixcr/clones/CLONES_TRBCHP_353-05_cfDNA.txt nonproductive removed\n",
      "\n"
     ]
    },
    {
     "name": "stdout",
     "output_type": "stream",
     "text": [
      "[1] 49\n"
     ]
    },
    {
     "name": "stderr",
     "output_type": "stream",
     "text": [
      "Number of CDR3s in: ~/Desktop/H4H/INTERCEPT/NextSeq/batch10_cfDNA_13Jul2020/mixcr/clones/CLONES_TRBCHP_358-02_cfDNA.txt\n",
      "\n"
     ]
    },
    {
     "name": "stdout",
     "output_type": "stream",
     "text": [
      "[1] 20\n"
     ]
    },
    {
     "name": "stderr",
     "output_type": "stream",
     "text": [
      "Number of CDR3s in: ~/Desktop/H4H/INTERCEPT/NextSeq/batch10_cfDNA_13Jul2020/mixcr/clones/CLONES_TRBCHP_358-02_cfDNA.txt nonproductive removed\n",
      "\n"
     ]
    },
    {
     "name": "stdout",
     "output_type": "stream",
     "text": [
      "[1] 16\n"
     ]
    },
    {
     "name": "stderr",
     "output_type": "stream",
     "text": [
      "Number of CDR3s in: ~/Desktop/H4H/INTERCEPT/NextSeq/batch10_cfDNA_13Jul2020/mixcr/clones/CLONES_TRBCHP_361-02_cfDNA.txt\n",
      "\n"
     ]
    },
    {
     "name": "stdout",
     "output_type": "stream",
     "text": [
      "[1] 15\n"
     ]
    },
    {
     "name": "stderr",
     "output_type": "stream",
     "text": [
      "Number of CDR3s in: ~/Desktop/H4H/INTERCEPT/NextSeq/batch10_cfDNA_13Jul2020/mixcr/clones/CLONES_TRBCHP_361-02_cfDNA.txt nonproductive removed\n",
      "\n"
     ]
    },
    {
     "name": "stdout",
     "output_type": "stream",
     "text": [
      "[1] 6\n"
     ]
    },
    {
     "name": "stderr",
     "output_type": "stream",
     "text": [
      "Number of CDR3s in: ~/Desktop/H4H/INTERCEPT/NextSeq/batch10_cfDNA_13Jul2020/mixcr/clones/CLONES_TRBCHP_362-04_cfDNA.txt\n",
      "\n"
     ]
    },
    {
     "name": "stdout",
     "output_type": "stream",
     "text": [
      "[1] 2\n"
     ]
    },
    {
     "name": "stderr",
     "output_type": "stream",
     "text": [
      "Number of CDR3s in: ~/Desktop/H4H/INTERCEPT/NextSeq/batch10_cfDNA_13Jul2020/mixcr/clones/CLONES_TRBCHP_362-04_cfDNA.txt nonproductive removed\n",
      "\n"
     ]
    },
    {
     "name": "stdout",
     "output_type": "stream",
     "text": [
      "[1] 2\n"
     ]
    },
    {
     "name": "stderr",
     "output_type": "stream",
     "text": [
      "Number of CDR3s in: ~/Desktop/H4H/INTERCEPT/NextSeq/batch10_cfDNA_13Jul2020/mixcr/clones/CLONES_TRBCHP_364-02_cfDNA.txt\n",
      "\n"
     ]
    },
    {
     "name": "stdout",
     "output_type": "stream",
     "text": [
      "[1] 7\n"
     ]
    },
    {
     "name": "stderr",
     "output_type": "stream",
     "text": [
      "Number of CDR3s in: ~/Desktop/H4H/INTERCEPT/NextSeq/batch10_cfDNA_13Jul2020/mixcr/clones/CLONES_TRBCHP_364-02_cfDNA.txt nonproductive removed\n",
      "\n"
     ]
    },
    {
     "name": "stdout",
     "output_type": "stream",
     "text": [
      "[1] 5\n"
     ]
    },
    {
     "name": "stderr",
     "output_type": "stream",
     "text": [
      "Number of CDR3s in: ~/Desktop/H4H/INTERCEPT/NextSeq/batch10_cfDNA_13Jul2020/mixcr/clones/CLONES_TRBCHP_366-04_cfDNA.txt\n",
      "\n"
     ]
    },
    {
     "name": "stdout",
     "output_type": "stream",
     "text": [
      "[1] 20\n"
     ]
    },
    {
     "name": "stderr",
     "output_type": "stream",
     "text": [
      "Number of CDR3s in: ~/Desktop/H4H/INTERCEPT/NextSeq/batch10_cfDNA_13Jul2020/mixcr/clones/CLONES_TRBCHP_366-04_cfDNA.txt nonproductive removed\n",
      "\n"
     ]
    },
    {
     "name": "stdout",
     "output_type": "stream",
     "text": [
      "[1] 12\n"
     ]
    },
    {
     "name": "stderr",
     "output_type": "stream",
     "text": [
      "Number of CDR3s in: ~/Desktop/H4H/INTERCEPT/NextSeq/batch10_cfDNA_13Jul2020/mixcr/clones/CLONES_TRBCHP_367-03_cfDNA.txt\n",
      "\n"
     ]
    },
    {
     "name": "stdout",
     "output_type": "stream",
     "text": [
      "[1] 23\n"
     ]
    },
    {
     "name": "stderr",
     "output_type": "stream",
     "text": [
      "Number of CDR3s in: ~/Desktop/H4H/INTERCEPT/NextSeq/batch10_cfDNA_13Jul2020/mixcr/clones/CLONES_TRBCHP_367-03_cfDNA.txt nonproductive removed\n",
      "\n"
     ]
    },
    {
     "name": "stdout",
     "output_type": "stream",
     "text": [
      "[1] 16\n"
     ]
    },
    {
     "name": "stderr",
     "output_type": "stream",
     "text": [
      "Number of CDR3s in: ~/Desktop/H4H/INTERCEPT/NextSeq/batch10_cfDNA_13Jul2020/mixcr/clones/CLONES_TRBCHP_369-02_cfDNA.txt\n",
      "\n"
     ]
    },
    {
     "name": "stdout",
     "output_type": "stream",
     "text": [
      "[1] 53\n"
     ]
    },
    {
     "name": "stderr",
     "output_type": "stream",
     "text": [
      "Number of CDR3s in: ~/Desktop/H4H/INTERCEPT/NextSeq/batch10_cfDNA_13Jul2020/mixcr/clones/CLONES_TRBCHP_369-02_cfDNA.txt nonproductive removed\n",
      "\n"
     ]
    },
    {
     "name": "stdout",
     "output_type": "stream",
     "text": [
      "[1] 35\n"
     ]
    },
    {
     "name": "stderr",
     "output_type": "stream",
     "text": [
      "Number of CDR3s in: ~/Desktop/H4H/INTERCEPT/NextSeq/batch10_cfDNA_13Jul2020/mixcr/clones/CLONES_TRBCHP_375-02_cfDNA.txt\n",
      "\n"
     ]
    },
    {
     "name": "stdout",
     "output_type": "stream",
     "text": [
      "[1] 17\n"
     ]
    },
    {
     "name": "stderr",
     "output_type": "stream",
     "text": [
      "Number of CDR3s in: ~/Desktop/H4H/INTERCEPT/NextSeq/batch10_cfDNA_13Jul2020/mixcr/clones/CLONES_TRBCHP_375-02_cfDNA.txt nonproductive removed\n",
      "\n"
     ]
    },
    {
     "name": "stdout",
     "output_type": "stream",
     "text": [
      "[1] 10\n"
     ]
    },
    {
     "name": "stderr",
     "output_type": "stream",
     "text": [
      "Number of CDR3s in: ~/Desktop/H4H/INTERCEPT/NextSeq/batch10_cfDNA_13Jul2020/mixcr/clones/CLONES_TRBCHP_381-02_cfDNA.txt\n",
      "\n"
     ]
    },
    {
     "name": "stdout",
     "output_type": "stream",
     "text": [
      "[1] 7\n"
     ]
    },
    {
     "name": "stderr",
     "output_type": "stream",
     "text": [
      "Number of CDR3s in: ~/Desktop/H4H/INTERCEPT/NextSeq/batch10_cfDNA_13Jul2020/mixcr/clones/CLONES_TRBCHP_381-02_cfDNA.txt nonproductive removed\n",
      "\n"
     ]
    },
    {
     "name": "stdout",
     "output_type": "stream",
     "text": [
      "[1] 6\n"
     ]
    },
    {
     "name": "stderr",
     "output_type": "stream",
     "text": [
      "Number of CDR3s in: ~/Desktop/H4H/INTERCEPT/NextSeq/batch11_23Apr2020/mixcr/clones/CLONES_TRBCHP_375-05_PBMC_DNA.txt\n",
      "\n"
     ]
    },
    {
     "name": "stdout",
     "output_type": "stream",
     "text": [
      "[1] 363\n"
     ]
    },
    {
     "name": "stderr",
     "output_type": "stream",
     "text": [
      "Number of CDR3s in: ~/Desktop/H4H/INTERCEPT/NextSeq/batch11_23Apr2020/mixcr/clones/CLONES_TRBCHP_375-05_PBMC_DNA.txt nonproductive removed\n",
      "\n"
     ]
    },
    {
     "name": "stdout",
     "output_type": "stream",
     "text": [
      "[1] 265\n"
     ]
    },
    {
     "name": "stderr",
     "output_type": "stream",
     "text": [
      "Number of CDR3s in: ~/Desktop/H4H/INTERCEPT/NextSeq/batch11_23Apr2020/mixcr/clones/CLONES_TRBCHP_377-04_PBMC_DNA.txt\n",
      "\n"
     ]
    },
    {
     "name": "stdout",
     "output_type": "stream",
     "text": [
      "[1] 387\n"
     ]
    },
    {
     "name": "stderr",
     "output_type": "stream",
     "text": [
      "Number of CDR3s in: ~/Desktop/H4H/INTERCEPT/NextSeq/batch11_23Apr2020/mixcr/clones/CLONES_TRBCHP_377-04_PBMC_DNA.txt nonproductive removed\n",
      "\n"
     ]
    },
    {
     "name": "stdout",
     "output_type": "stream",
     "text": [
      "[1] 302\n"
     ]
    },
    {
     "name": "stderr",
     "output_type": "stream",
     "text": [
      "Number of CDR3s in: ~/Desktop/H4H/INTERCEPT/NextSeq/batch11_23Apr2020/mixcr/clones/CLONES_TRBCHP_382-03_PBMC_DNA.txt\n",
      "\n"
     ]
    },
    {
     "name": "stdout",
     "output_type": "stream",
     "text": [
      "[1] 25\n"
     ]
    },
    {
     "name": "stderr",
     "output_type": "stream",
     "text": [
      "Number of CDR3s in: ~/Desktop/H4H/INTERCEPT/NextSeq/batch11_23Apr2020/mixcr/clones/CLONES_TRBCHP_382-03_PBMC_DNA.txt nonproductive removed\n",
      "\n"
     ]
    },
    {
     "name": "stdout",
     "output_type": "stream",
     "text": [
      "[1] 15\n"
     ]
    },
    {
     "name": "stderr",
     "output_type": "stream",
     "text": [
      "Number of CDR3s in: ~/Desktop/H4H/INTERCEPT/NextSeq/batch11_23Apr2020/mixcr/clones/CLONES_TRBCHP_382-04_PBMC_DNA.txt\n",
      "\n"
     ]
    },
    {
     "name": "stdout",
     "output_type": "stream",
     "text": [
      "[1] 159\n"
     ]
    },
    {
     "name": "stderr",
     "output_type": "stream",
     "text": [
      "Number of CDR3s in: ~/Desktop/H4H/INTERCEPT/NextSeq/batch11_23Apr2020/mixcr/clones/CLONES_TRBCHP_382-04_PBMC_DNA.txt nonproductive removed\n",
      "\n"
     ]
    },
    {
     "name": "stdout",
     "output_type": "stream",
     "text": [
      "[1] 112\n"
     ]
    },
    {
     "name": "stderr",
     "output_type": "stream",
     "text": [
      "Number of CDR3s in: ~/Desktop/H4H/INTERCEPT/NextSeq/batch11_23Apr2020/mixcr/clones/CLONES_TRBCHP_387-02_PBMC_DNA.txt\n",
      "\n"
     ]
    },
    {
     "name": "stdout",
     "output_type": "stream",
     "text": [
      "[1] 871\n"
     ]
    },
    {
     "name": "stderr",
     "output_type": "stream",
     "text": [
      "Number of CDR3s in: ~/Desktop/H4H/INTERCEPT/NextSeq/batch11_23Apr2020/mixcr/clones/CLONES_TRBCHP_387-02_PBMC_DNA.txt nonproductive removed\n",
      "\n"
     ]
    },
    {
     "name": "stdout",
     "output_type": "stream",
     "text": [
      "[1] 626\n"
     ]
    },
    {
     "name": "stderr",
     "output_type": "stream",
     "text": [
      "Number of CDR3s in: ~/Desktop/H4H/INTERCEPT/NextSeq/batch11_23Apr2020/mixcr/clones/CLONES_TRBCHP_387-03_PBMC_DNA.txt\n",
      "\n"
     ]
    },
    {
     "name": "stdout",
     "output_type": "stream",
     "text": [
      "[1] 91\n"
     ]
    },
    {
     "name": "stderr",
     "output_type": "stream",
     "text": [
      "Number of CDR3s in: ~/Desktop/H4H/INTERCEPT/NextSeq/batch11_23Apr2020/mixcr/clones/CLONES_TRBCHP_387-03_PBMC_DNA.txt nonproductive removed\n",
      "\n"
     ]
    },
    {
     "name": "stdout",
     "output_type": "stream",
     "text": [
      "[1] 58\n"
     ]
    },
    {
     "name": "stderr",
     "output_type": "stream",
     "text": [
      "Number of CDR3s in: ~/Desktop/H4H/INTERCEPT/NextSeq/batch11_23Apr2020/mixcr/clones/CLONES_TRBCHP_388-04_PBMC_DNA.txt\n",
      "\n"
     ]
    },
    {
     "name": "stdout",
     "output_type": "stream",
     "text": [
      "[1] 106\n"
     ]
    },
    {
     "name": "stderr",
     "output_type": "stream",
     "text": [
      "Number of CDR3s in: ~/Desktop/H4H/INTERCEPT/NextSeq/batch11_23Apr2020/mixcr/clones/CLONES_TRBCHP_388-04_PBMC_DNA.txt nonproductive removed\n",
      "\n"
     ]
    },
    {
     "name": "stdout",
     "output_type": "stream",
     "text": [
      "[1] 82\n"
     ]
    },
    {
     "name": "stderr",
     "output_type": "stream",
     "text": [
      "Number of CDR3s in: ~/Desktop/H4H/INTERCEPT/NextSeq/batch11_23Apr2020/mixcr/clones/CLONES_TRBCHP_391-02_PBMC_DNA.txt\n",
      "\n"
     ]
    },
    {
     "name": "stdout",
     "output_type": "stream",
     "text": [
      "[1] 831\n"
     ]
    },
    {
     "name": "stderr",
     "output_type": "stream",
     "text": [
      "Number of CDR3s in: ~/Desktop/H4H/INTERCEPT/NextSeq/batch11_23Apr2020/mixcr/clones/CLONES_TRBCHP_391-02_PBMC_DNA.txt nonproductive removed\n",
      "\n"
     ]
    },
    {
     "name": "stdout",
     "output_type": "stream",
     "text": [
      "[1] 596\n"
     ]
    },
    {
     "name": "stderr",
     "output_type": "stream",
     "text": [
      "Number of CDR3s in: ~/Desktop/H4H/INTERCEPT/NextSeq/batch11_23Apr2020/mixcr/clones/CLONES_TRBCHP_391-03_PBMC_DNA.txt\n",
      "\n"
     ]
    },
    {
     "name": "stdout",
     "output_type": "stream",
     "text": [
      "[1] 1094\n"
     ]
    },
    {
     "name": "stderr",
     "output_type": "stream",
     "text": [
      "Number of CDR3s in: ~/Desktop/H4H/INTERCEPT/NextSeq/batch11_23Apr2020/mixcr/clones/CLONES_TRBCHP_391-03_PBMC_DNA.txt nonproductive removed\n",
      "\n"
     ]
    },
    {
     "name": "stdout",
     "output_type": "stream",
     "text": [
      "[1] 794\n"
     ]
    },
    {
     "name": "stderr",
     "output_type": "stream",
     "text": [
      "Number of CDR3s in: ~/Desktop/H4H/INTERCEPT/NextSeq/batch11_23Apr2020/mixcr/clones/CLONES_TRBCHP_392-02_PBMC_DNA.txt\n",
      "\n"
     ]
    },
    {
     "name": "stdout",
     "output_type": "stream",
     "text": [
      "[1] 785\n"
     ]
    },
    {
     "name": "stderr",
     "output_type": "stream",
     "text": [
      "Number of CDR3s in: ~/Desktop/H4H/INTERCEPT/NextSeq/batch11_23Apr2020/mixcr/clones/CLONES_TRBCHP_392-02_PBMC_DNA.txt nonproductive removed\n",
      "\n"
     ]
    },
    {
     "name": "stdout",
     "output_type": "stream",
     "text": [
      "[1] 596\n"
     ]
    },
    {
     "name": "stderr",
     "output_type": "stream",
     "text": [
      "Number of CDR3s in: ~/Desktop/H4H/INTERCEPT/NextSeq/batch11_23Apr2020/mixcr/clones/CLONES_TRBCHP_396-03_PBMC_DNA.txt\n",
      "\n"
     ]
    },
    {
     "name": "stdout",
     "output_type": "stream",
     "text": [
      "[1] 794\n"
     ]
    },
    {
     "name": "stderr",
     "output_type": "stream",
     "text": [
      "Number of CDR3s in: ~/Desktop/H4H/INTERCEPT/NextSeq/batch11_23Apr2020/mixcr/clones/CLONES_TRBCHP_396-03_PBMC_DNA.txt nonproductive removed\n",
      "\n"
     ]
    },
    {
     "name": "stdout",
     "output_type": "stream",
     "text": [
      "[1] 586\n"
     ]
    },
    {
     "name": "stderr",
     "output_type": "stream",
     "text": [
      "Number of CDR3s in: ~/Desktop/H4H/INTERCEPT/NextSeq/batch11_23Apr2020/mixcr/clones/CLONES_TRBCHP_397-02_PBMC_DNA.txt\n",
      "\n"
     ]
    },
    {
     "name": "stdout",
     "output_type": "stream",
     "text": [
      "[1] 551\n"
     ]
    },
    {
     "name": "stderr",
     "output_type": "stream",
     "text": [
      "Number of CDR3s in: ~/Desktop/H4H/INTERCEPT/NextSeq/batch11_23Apr2020/mixcr/clones/CLONES_TRBCHP_397-02_PBMC_DNA.txt nonproductive removed\n",
      "\n"
     ]
    },
    {
     "name": "stdout",
     "output_type": "stream",
     "text": [
      "[1] 381\n"
     ]
    },
    {
     "name": "stderr",
     "output_type": "stream",
     "text": [
      "Number of CDR3s in: ~/Desktop/H4H/INTERCEPT/NextSeq/batch11_23Apr2020/mixcr/clones/CLONES_TRBCHP_399-03__PBMC_DNA.txt\n",
      "\n"
     ]
    },
    {
     "name": "stdout",
     "output_type": "stream",
     "text": [
      "[1] 733\n"
     ]
    },
    {
     "name": "stderr",
     "output_type": "stream",
     "text": [
      "Number of CDR3s in: ~/Desktop/H4H/INTERCEPT/NextSeq/batch11_23Apr2020/mixcr/clones/CLONES_TRBCHP_399-03__PBMC_DNA.txt nonproductive removed\n",
      "\n"
     ]
    },
    {
     "name": "stdout",
     "output_type": "stream",
     "text": [
      "[1] 517\n"
     ]
    },
    {
     "name": "stderr",
     "output_type": "stream",
     "text": [
      "Number of CDR3s in: ~/Desktop/H4H/INTERCEPT/NextSeq/batch11_23Apr2020/mixcr/clones/CLONES_TRBCHP_400-03_PBMC_DNA.txt\n",
      "\n"
     ]
    },
    {
     "name": "stdout",
     "output_type": "stream",
     "text": [
      "[1] 95\n"
     ]
    },
    {
     "name": "stderr",
     "output_type": "stream",
     "text": [
      "Number of CDR3s in: ~/Desktop/H4H/INTERCEPT/NextSeq/batch11_23Apr2020/mixcr/clones/CLONES_TRBCHP_400-03_PBMC_DNA.txt nonproductive removed\n",
      "\n"
     ]
    },
    {
     "name": "stdout",
     "output_type": "stream",
     "text": [
      "[1] 77\n"
     ]
    },
    {
     "name": "stderr",
     "output_type": "stream",
     "text": [
      "Number of CDR3s in: ~/Desktop/H4H/INTERCEPT/NextSeq/batch11_23Apr2020/mixcr/clones/CLONES_TRBCHP_401-03_PBMC_DNA.txt\n",
      "\n"
     ]
    },
    {
     "name": "stdout",
     "output_type": "stream",
     "text": [
      "[1] 113\n"
     ]
    },
    {
     "name": "stderr",
     "output_type": "stream",
     "text": [
      "Number of CDR3s in: ~/Desktop/H4H/INTERCEPT/NextSeq/batch11_23Apr2020/mixcr/clones/CLONES_TRBCHP_401-03_PBMC_DNA.txt nonproductive removed\n",
      "\n"
     ]
    },
    {
     "name": "stdout",
     "output_type": "stream",
     "text": [
      "[1] 86\n"
     ]
    },
    {
     "name": "stderr",
     "output_type": "stream",
     "text": [
      "Number of CDR3s in: ~/Desktop/H4H/INTERCEPT/NextSeq/batch11_23Apr2020/mixcr/clones/CLONES_TRBCHP_402-02_PBMC_DNA.txt\n",
      "\n"
     ]
    },
    {
     "name": "stdout",
     "output_type": "stream",
     "text": [
      "[1] 259\n"
     ]
    },
    {
     "name": "stderr",
     "output_type": "stream",
     "text": [
      "Number of CDR3s in: ~/Desktop/H4H/INTERCEPT/NextSeq/batch11_23Apr2020/mixcr/clones/CLONES_TRBCHP_402-02_PBMC_DNA.txt nonproductive removed\n",
      "\n"
     ]
    },
    {
     "name": "stdout",
     "output_type": "stream",
     "text": [
      "[1] 212\n"
     ]
    },
    {
     "name": "stderr",
     "output_type": "stream",
     "text": [
      "Number of CDR3s in: ~/Desktop/H4H/INTERCEPT/NextSeq/batch11_23Apr2020/mixcr/clones/CLONES_TRBCHP_403-02_PBMC_DNA.txt\n",
      "\n"
     ]
    },
    {
     "name": "stdout",
     "output_type": "stream",
     "text": [
      "[1] 461\n"
     ]
    },
    {
     "name": "stderr",
     "output_type": "stream",
     "text": [
      "Number of CDR3s in: ~/Desktop/H4H/INTERCEPT/NextSeq/batch11_23Apr2020/mixcr/clones/CLONES_TRBCHP_403-02_PBMC_DNA.txt nonproductive removed\n",
      "\n"
     ]
    },
    {
     "name": "stdout",
     "output_type": "stream",
     "text": [
      "[1] 345\n"
     ]
    },
    {
     "name": "stderr",
     "output_type": "stream",
     "text": [
      "Number of CDR3s in: ~/Desktop/H4H/INTERCEPT/NextSeq/batch11_23Apr2020/mixcr/clones/CLONES_TRBCHP_404-01_PBMC_DNA.txt\n",
      "\n"
     ]
    },
    {
     "name": "stdout",
     "output_type": "stream",
     "text": [
      "[1] 453\n"
     ]
    },
    {
     "name": "stderr",
     "output_type": "stream",
     "text": [
      "Number of CDR3s in: ~/Desktop/H4H/INTERCEPT/NextSeq/batch11_23Apr2020/mixcr/clones/CLONES_TRBCHP_404-01_PBMC_DNA.txt nonproductive removed\n",
      "\n"
     ]
    },
    {
     "name": "stdout",
     "output_type": "stream",
     "text": [
      "[1] 351\n"
     ]
    },
    {
     "name": "stderr",
     "output_type": "stream",
     "text": [
      "Number of CDR3s in: ~/Desktop/H4H/INTERCEPT/NextSeq/batch11_23Apr2020/mixcr/clones/CLONES_TRBCHP_404-02_PBMC_DNA.txt\n",
      "\n"
     ]
    },
    {
     "name": "stdout",
     "output_type": "stream",
     "text": [
      "[1] 135\n"
     ]
    },
    {
     "name": "stderr",
     "output_type": "stream",
     "text": [
      "Number of CDR3s in: ~/Desktop/H4H/INTERCEPT/NextSeq/batch11_23Apr2020/mixcr/clones/CLONES_TRBCHP_404-02_PBMC_DNA.txt nonproductive removed\n",
      "\n"
     ]
    },
    {
     "name": "stdout",
     "output_type": "stream",
     "text": [
      "[1] 103\n"
     ]
    },
    {
     "name": "stderr",
     "output_type": "stream",
     "text": [
      "Number of CDR3s in: ~/Desktop/H4H/INTERCEPT/NextSeq/batch11_23Apr2020/mixcr/clones/CLONES_TRBCHP_405-01_PBMC_DNA.txt\n",
      "\n"
     ]
    },
    {
     "name": "stdout",
     "output_type": "stream",
     "text": [
      "[1] 75\n"
     ]
    },
    {
     "name": "stderr",
     "output_type": "stream",
     "text": [
      "Number of CDR3s in: ~/Desktop/H4H/INTERCEPT/NextSeq/batch11_23Apr2020/mixcr/clones/CLONES_TRBCHP_405-01_PBMC_DNA.txt nonproductive removed\n",
      "\n"
     ]
    },
    {
     "name": "stdout",
     "output_type": "stream",
     "text": [
      "[1] 47\n"
     ]
    },
    {
     "name": "stderr",
     "output_type": "stream",
     "text": [
      "Number of CDR3s in: ~/Desktop/H4H/INTERCEPT/NextSeq/batch11_23Apr2020/mixcr/clones/CLONES_TRBCHP_405-02_PBMC_DNA.txt\n",
      "\n"
     ]
    },
    {
     "name": "stdout",
     "output_type": "stream",
     "text": [
      "[1] 521\n"
     ]
    },
    {
     "name": "stderr",
     "output_type": "stream",
     "text": [
      "Number of CDR3s in: ~/Desktop/H4H/INTERCEPT/NextSeq/batch11_23Apr2020/mixcr/clones/CLONES_TRBCHP_405-02_PBMC_DNA.txt nonproductive removed\n",
      "\n"
     ]
    },
    {
     "name": "stdout",
     "output_type": "stream",
     "text": [
      "[1] 389\n"
     ]
    },
    {
     "name": "stderr",
     "output_type": "stream",
     "text": [
      "Number of CDR3s in: ~/Desktop/H4H/INTERCEPT/NextSeq/batch11_23Apr2020/mixcr/clones/CLONES_TRBCHP_407-02_PBMC_DNA.txt\n",
      "\n"
     ]
    },
    {
     "name": "stdout",
     "output_type": "stream",
     "text": [
      "[1] 82\n"
     ]
    },
    {
     "name": "stderr",
     "output_type": "stream",
     "text": [
      "Number of CDR3s in: ~/Desktop/H4H/INTERCEPT/NextSeq/batch11_23Apr2020/mixcr/clones/CLONES_TRBCHP_407-02_PBMC_DNA.txt nonproductive removed\n",
      "\n"
     ]
    },
    {
     "name": "stdout",
     "output_type": "stream",
     "text": [
      "[1] 56\n"
     ]
    },
    {
     "name": "stderr",
     "output_type": "stream",
     "text": [
      "Number of CDR3s in: ~/Desktop/H4H/INTERCEPT/NextSeq/batch11_23Apr2020/mixcr/clones/CLONES_TRBCHP_409-01_PBMC_DNA.txt\n",
      "\n"
     ]
    },
    {
     "name": "stdout",
     "output_type": "stream",
     "text": [
      "[1] 190\n"
     ]
    },
    {
     "name": "stderr",
     "output_type": "stream",
     "text": [
      "Number of CDR3s in: ~/Desktop/H4H/INTERCEPT/NextSeq/batch11_23Apr2020/mixcr/clones/CLONES_TRBCHP_409-01_PBMC_DNA.txt nonproductive removed\n",
      "\n"
     ]
    },
    {
     "name": "stdout",
     "output_type": "stream",
     "text": [
      "[1] 127\n"
     ]
    },
    {
     "name": "stderr",
     "output_type": "stream",
     "text": [
      "Number of CDR3s in: ~/Desktop/H4H/INTERCEPT/NextSeq/batch11_cfDNA_11Sep2020/mixcr/clones/CLONES_TRBCHP_373-05_cfDNA.txt\n",
      "\n"
     ]
    },
    {
     "name": "stdout",
     "output_type": "stream",
     "text": [
      "[1] 6\n"
     ]
    },
    {
     "name": "stderr",
     "output_type": "stream",
     "text": [
      "Number of CDR3s in: ~/Desktop/H4H/INTERCEPT/NextSeq/batch11_cfDNA_11Sep2020/mixcr/clones/CLONES_TRBCHP_373-05_cfDNA.txt nonproductive removed\n",
      "\n"
     ]
    },
    {
     "name": "stdout",
     "output_type": "stream",
     "text": [
      "[1] 4\n"
     ]
    },
    {
     "name": "stderr",
     "output_type": "stream",
     "text": [
      "Number of CDR3s in: ~/Desktop/H4H/INTERCEPT/NextSeq/batch11_cfDNA_11Sep2020/mixcr/clones/CLONES_TRBCHP_375-04_cfDNA.txt\n",
      "\n"
     ]
    },
    {
     "name": "stdout",
     "output_type": "stream",
     "text": [
      "[1] 35\n"
     ]
    },
    {
     "name": "stderr",
     "output_type": "stream",
     "text": [
      "Number of CDR3s in: ~/Desktop/H4H/INTERCEPT/NextSeq/batch11_cfDNA_11Sep2020/mixcr/clones/CLONES_TRBCHP_375-04_cfDNA.txt nonproductive removed\n",
      "\n"
     ]
    },
    {
     "name": "stdout",
     "output_type": "stream",
     "text": [
      "[1] 28\n"
     ]
    },
    {
     "name": "stderr",
     "output_type": "stream",
     "text": [
      "Number of CDR3s in: ~/Desktop/H4H/INTERCEPT/NextSeq/batch11_cfDNA_11Sep2020/mixcr/clones/CLONES_TRBCHP_383-05_cfDNA.txt\n",
      "\n"
     ]
    },
    {
     "name": "stdout",
     "output_type": "stream",
     "text": [
      "[1] 14\n"
     ]
    },
    {
     "name": "stderr",
     "output_type": "stream",
     "text": [
      "Number of CDR3s in: ~/Desktop/H4H/INTERCEPT/NextSeq/batch11_cfDNA_11Sep2020/mixcr/clones/CLONES_TRBCHP_383-05_cfDNA.txt nonproductive removed\n",
      "\n"
     ]
    },
    {
     "name": "stdout",
     "output_type": "stream",
     "text": [
      "[1] 10\n"
     ]
    },
    {
     "name": "stderr",
     "output_type": "stream",
     "text": [
      "Number of CDR3s in: ~/Desktop/H4H/INTERCEPT/NextSeq/batch11_cfDNA_11Sep2020/mixcr/clones/CLONES_TRBCHP_386-02_cfDNA.txt\n",
      "\n"
     ]
    },
    {
     "name": "stdout",
     "output_type": "stream",
     "text": [
      "[1] 5\n"
     ]
    },
    {
     "name": "stderr",
     "output_type": "stream",
     "text": [
      "Number of CDR3s in: ~/Desktop/H4H/INTERCEPT/NextSeq/batch11_cfDNA_11Sep2020/mixcr/clones/CLONES_TRBCHP_386-02_cfDNA.txt nonproductive removed\n",
      "\n"
     ]
    },
    {
     "name": "stdout",
     "output_type": "stream",
     "text": [
      "[1] 5\n"
     ]
    },
    {
     "name": "stderr",
     "output_type": "stream",
     "text": [
      "Number of CDR3s in: ~/Desktop/H4H/INTERCEPT/NextSeq/batch11_cfDNA_11Sep2020/mixcr/clones/CLONES_TRBCHP_387-03_cfDNA.txt\n",
      "\n"
     ]
    },
    {
     "name": "stdout",
     "output_type": "stream",
     "text": [
      "[1] 11\n"
     ]
    },
    {
     "name": "stderr",
     "output_type": "stream",
     "text": [
      "Number of CDR3s in: ~/Desktop/H4H/INTERCEPT/NextSeq/batch11_cfDNA_11Sep2020/mixcr/clones/CLONES_TRBCHP_387-03_cfDNA.txt nonproductive removed\n",
      "\n"
     ]
    },
    {
     "name": "stdout",
     "output_type": "stream",
     "text": [
      "[1] 10\n"
     ]
    },
    {
     "name": "stderr",
     "output_type": "stream",
     "text": [
      "Number of CDR3s in: ~/Desktop/H4H/INTERCEPT/NextSeq/batch11_cfDNA_11Sep2020/mixcr/clones/CLONES_TRBCHP_388-04_cfDNA.txt\n",
      "\n"
     ]
    },
    {
     "name": "stdout",
     "output_type": "stream",
     "text": [
      "[1] 5\n"
     ]
    },
    {
     "name": "stderr",
     "output_type": "stream",
     "text": [
      "Number of CDR3s in: ~/Desktop/H4H/INTERCEPT/NextSeq/batch11_cfDNA_11Sep2020/mixcr/clones/CLONES_TRBCHP_388-04_cfDNA.txt nonproductive removed\n",
      "\n"
     ]
    },
    {
     "name": "stdout",
     "output_type": "stream",
     "text": [
      "[1] 4\n"
     ]
    },
    {
     "name": "stderr",
     "output_type": "stream",
     "text": [
      "Number of CDR3s in: ~/Desktop/H4H/INTERCEPT/NextSeq/batch11_cfDNA_11Sep2020/mixcr/clones/CLONES_TRBCHP_389-02_cfDNA.txt\n",
      "\n"
     ]
    },
    {
     "name": "stdout",
     "output_type": "stream",
     "text": [
      "[1] 18\n"
     ]
    },
    {
     "name": "stderr",
     "output_type": "stream",
     "text": [
      "Number of CDR3s in: ~/Desktop/H4H/INTERCEPT/NextSeq/batch11_cfDNA_11Sep2020/mixcr/clones/CLONES_TRBCHP_389-02_cfDNA.txt nonproductive removed\n",
      "\n"
     ]
    },
    {
     "name": "stdout",
     "output_type": "stream",
     "text": [
      "[1] 14\n"
     ]
    },
    {
     "name": "stderr",
     "output_type": "stream",
     "text": [
      "Number of CDR3s in: ~/Desktop/H4H/INTERCEPT/NextSeq/batch11_cfDNA_11Sep2020/mixcr/clones/CLONES_TRBCHP_390-04_cfDNA.txt\n",
      "\n"
     ]
    },
    {
     "name": "stdout",
     "output_type": "stream",
     "text": [
      "[1] 12\n"
     ]
    },
    {
     "name": "stderr",
     "output_type": "stream",
     "text": [
      "Number of CDR3s in: ~/Desktop/H4H/INTERCEPT/NextSeq/batch11_cfDNA_11Sep2020/mixcr/clones/CLONES_TRBCHP_390-04_cfDNA.txt nonproductive removed\n",
      "\n"
     ]
    },
    {
     "name": "stdout",
     "output_type": "stream",
     "text": [
      "[1] 10\n"
     ]
    },
    {
     "name": "stderr",
     "output_type": "stream",
     "text": [
      "Number of CDR3s in: ~/Desktop/H4H/INTERCEPT/NextSeq/batch11_cfDNA_11Sep2020/mixcr/clones/CLONES_TRBCHP_394-05_cfDNA.txt\n",
      "\n"
     ]
    },
    {
     "name": "stdout",
     "output_type": "stream",
     "text": [
      "[1] 23\n"
     ]
    },
    {
     "name": "stderr",
     "output_type": "stream",
     "text": [
      "Number of CDR3s in: ~/Desktop/H4H/INTERCEPT/NextSeq/batch11_cfDNA_11Sep2020/mixcr/clones/CLONES_TRBCHP_394-05_cfDNA.txt nonproductive removed\n",
      "\n"
     ]
    },
    {
     "name": "stdout",
     "output_type": "stream",
     "text": [
      "[1] 19\n"
     ]
    },
    {
     "name": "stderr",
     "output_type": "stream",
     "text": [
      "Number of CDR3s in: ~/Desktop/H4H/INTERCEPT/NextSeq/batch11_cfDNA_11Sep2020/mixcr/clones/CLONES_TRBCHP_396-02_cfDNA.txt\n",
      "\n"
     ]
    },
    {
     "name": "stdout",
     "output_type": "stream",
     "text": [
      "[1] 59\n"
     ]
    },
    {
     "name": "stderr",
     "output_type": "stream",
     "text": [
      "Number of CDR3s in: ~/Desktop/H4H/INTERCEPT/NextSeq/batch11_cfDNA_11Sep2020/mixcr/clones/CLONES_TRBCHP_396-02_cfDNA.txt nonproductive removed\n",
      "\n"
     ]
    },
    {
     "name": "stdout",
     "output_type": "stream",
     "text": [
      "[1] 45\n"
     ]
    },
    {
     "name": "stderr",
     "output_type": "stream",
     "text": [
      "Number of CDR3s in: ~/Desktop/H4H/INTERCEPT/NextSeq/batch11_cfDNA_11Sep2020/mixcr/clones/CLONES_TRBCHP_397-03_cfDNA.txt\n",
      "\n"
     ]
    },
    {
     "name": "stdout",
     "output_type": "stream",
     "text": [
      "[1] 14\n"
     ]
    },
    {
     "name": "stderr",
     "output_type": "stream",
     "text": [
      "Number of CDR3s in: ~/Desktop/H4H/INTERCEPT/NextSeq/batch11_cfDNA_11Sep2020/mixcr/clones/CLONES_TRBCHP_397-03_cfDNA.txt nonproductive removed\n",
      "\n"
     ]
    },
    {
     "name": "stdout",
     "output_type": "stream",
     "text": [
      "[1] 11\n"
     ]
    },
    {
     "name": "stderr",
     "output_type": "stream",
     "text": [
      "Number of CDR3s in: ~/Desktop/H4H/INTERCEPT/NextSeq/batch11_cfDNA_11Sep2020/mixcr/clones/CLONES_TRBCHP_398-02_cfDNA.txt\n",
      "\n"
     ]
    },
    {
     "name": "stdout",
     "output_type": "stream",
     "text": [
      "[1] 9\n"
     ]
    },
    {
     "name": "stderr",
     "output_type": "stream",
     "text": [
      "Number of CDR3s in: ~/Desktop/H4H/INTERCEPT/NextSeq/batch11_cfDNA_11Sep2020/mixcr/clones/CLONES_TRBCHP_398-02_cfDNA.txt nonproductive removed\n",
      "\n"
     ]
    },
    {
     "name": "stdout",
     "output_type": "stream",
     "text": [
      "[1] 8\n"
     ]
    },
    {
     "name": "stderr",
     "output_type": "stream",
     "text": [
      "Number of CDR3s in: ~/Desktop/H4H/INTERCEPT/NextSeq/batch11_cfDNA_11Sep2020/mixcr/clones/CLONES_TRBCHP_400-04_cfDNA.txt\n",
      "\n"
     ]
    },
    {
     "name": "stdout",
     "output_type": "stream",
     "text": [
      "[1] 4\n"
     ]
    },
    {
     "name": "stderr",
     "output_type": "stream",
     "text": [
      "Number of CDR3s in: ~/Desktop/H4H/INTERCEPT/NextSeq/batch11_cfDNA_11Sep2020/mixcr/clones/CLONES_TRBCHP_400-04_cfDNA.txt nonproductive removed\n",
      "\n"
     ]
    },
    {
     "name": "stdout",
     "output_type": "stream",
     "text": [
      "[1] 2\n"
     ]
    },
    {
     "name": "stderr",
     "output_type": "stream",
     "text": [
      "Number of CDR3s in: ~/Desktop/H4H/INTERCEPT/NextSeq/batch11_cfDNA_11Sep2020/mixcr/clones/CLONES_TRBCHP_401-02_cfDNA.txt\n",
      "\n"
     ]
    },
    {
     "name": "stdout",
     "output_type": "stream",
     "text": [
      "[1] 7\n"
     ]
    },
    {
     "name": "stderr",
     "output_type": "stream",
     "text": [
      "Number of CDR3s in: ~/Desktop/H4H/INTERCEPT/NextSeq/batch11_cfDNA_11Sep2020/mixcr/clones/CLONES_TRBCHP_401-02_cfDNA.txt nonproductive removed\n",
      "\n"
     ]
    },
    {
     "name": "stdout",
     "output_type": "stream",
     "text": [
      "[1] 5\n"
     ]
    },
    {
     "name": "stderr",
     "output_type": "stream",
     "text": [
      "Number of CDR3s in: ~/Desktop/H4H/INTERCEPT/NextSeq/batch11_cfDNA_11Sep2020/mixcr/clones/CLONES_TRBCHP_401-05_cfDNA.txt\n",
      "\n"
     ]
    },
    {
     "name": "stdout",
     "output_type": "stream",
     "text": [
      "[1] 4\n"
     ]
    },
    {
     "name": "stderr",
     "output_type": "stream",
     "text": [
      "Number of CDR3s in: ~/Desktop/H4H/INTERCEPT/NextSeq/batch11_cfDNA_11Sep2020/mixcr/clones/CLONES_TRBCHP_401-05_cfDNA.txt nonproductive removed\n",
      "\n"
     ]
    },
    {
     "name": "stdout",
     "output_type": "stream",
     "text": [
      "[1] 4\n"
     ]
    },
    {
     "name": "stderr",
     "output_type": "stream",
     "text": [
      "Number of CDR3s in: ~/Desktop/H4H/INTERCEPT/NextSeq/batch11_cfDNA_11Sep2020/mixcr/clones/CLONES_TRBCHP_402-03_cfDNA.txt\n",
      "\n"
     ]
    },
    {
     "name": "stdout",
     "output_type": "stream",
     "text": [
      "[1] 6\n"
     ]
    },
    {
     "name": "stderr",
     "output_type": "stream",
     "text": [
      "Number of CDR3s in: ~/Desktop/H4H/INTERCEPT/NextSeq/batch11_cfDNA_11Sep2020/mixcr/clones/CLONES_TRBCHP_402-03_cfDNA.txt nonproductive removed\n",
      "\n"
     ]
    },
    {
     "name": "stdout",
     "output_type": "stream",
     "text": [
      "[1] 5\n"
     ]
    },
    {
     "name": "stderr",
     "output_type": "stream",
     "text": [
      "Number of CDR3s in: ~/Desktop/H4H/INTERCEPT/NextSeq/batch11_cfDNA_11Sep2020/mixcr/clones/CLONES_TRBCHP_404-03_cfDNA.txt\n",
      "\n"
     ]
    },
    {
     "name": "stdout",
     "output_type": "stream",
     "text": [
      "[1] 2\n"
     ]
    },
    {
     "name": "stderr",
     "output_type": "stream",
     "text": [
      "Number of CDR3s in: ~/Desktop/H4H/INTERCEPT/NextSeq/batch11_cfDNA_11Sep2020/mixcr/clones/CLONES_TRBCHP_404-03_cfDNA.txt nonproductive removed\n",
      "\n"
     ]
    },
    {
     "name": "stdout",
     "output_type": "stream",
     "text": [
      "[1] 1\n"
     ]
    },
    {
     "name": "stderr",
     "output_type": "stream",
     "text": [
      "Number of CDR3s in: ~/Desktop/H4H/INTERCEPT/NextSeq/batch11_cfDNA_11Sep2020/mixcr/clones/CLONES_TRBCHP_407-03_cfDNA.txt\n",
      "\n"
     ]
    },
    {
     "name": "stdout",
     "output_type": "stream",
     "text": [
      "[1] 7\n"
     ]
    },
    {
     "name": "stderr",
     "output_type": "stream",
     "text": [
      "Number of CDR3s in: ~/Desktop/H4H/INTERCEPT/NextSeq/batch11_cfDNA_11Sep2020/mixcr/clones/CLONES_TRBCHP_407-03_cfDNA.txt nonproductive removed\n",
      "\n"
     ]
    },
    {
     "name": "stdout",
     "output_type": "stream",
     "text": [
      "[1] 4\n"
     ]
    },
    {
     "name": "stderr",
     "output_type": "stream",
     "text": [
      "Number of CDR3s in: ~/Desktop/H4H/INTERCEPT/NextSeq/batch11_cfDNA_11Sep2020/mixcr/clones/CLONES_TRBCHP_408-01_cfDNA.txt\n",
      "\n"
     ]
    },
    {
     "name": "stdout",
     "output_type": "stream",
     "text": [
      "[1] 6\n"
     ]
    },
    {
     "name": "stderr",
     "output_type": "stream",
     "text": [
      "Number of CDR3s in: ~/Desktop/H4H/INTERCEPT/NextSeq/batch11_cfDNA_11Sep2020/mixcr/clones/CLONES_TRBCHP_408-01_cfDNA.txt nonproductive removed\n",
      "\n"
     ]
    },
    {
     "name": "stdout",
     "output_type": "stream",
     "text": [
      "[1] 3\n"
     ]
    },
    {
     "name": "stderr",
     "output_type": "stream",
     "text": [
      "Number of CDR3s in: ~/Desktop/H4H/INTERCEPT/NextSeq/batch11_cfDNA_11Sep2020/mixcr/clones/CLONES_TRBCHP_412-02_cfDNA.txt\n",
      "\n"
     ]
    },
    {
     "name": "stdout",
     "output_type": "stream",
     "text": [
      "[1] 2\n"
     ]
    },
    {
     "name": "stderr",
     "output_type": "stream",
     "text": [
      "Number of CDR3s in: ~/Desktop/H4H/INTERCEPT/NextSeq/batch11_cfDNA_11Sep2020/mixcr/clones/CLONES_TRBCHP_412-02_cfDNA.txt nonproductive removed\n",
      "\n"
     ]
    },
    {
     "name": "stdout",
     "output_type": "stream",
     "text": [
      "[1] 2\n"
     ]
    },
    {
     "name": "stderr",
     "output_type": "stream",
     "text": [
      "Number of CDR3s in: ~/Desktop/H4H/INTERCEPT/NextSeq/batch11_cfDNA_11Sep2020/mixcr/clones/CLONES_TRBCHP_412-03_cfDNA.txt\n",
      "\n"
     ]
    },
    {
     "name": "stdout",
     "output_type": "stream",
     "text": [
      "[1] 3\n"
     ]
    },
    {
     "name": "stderr",
     "output_type": "stream",
     "text": [
      "Number of CDR3s in: ~/Desktop/H4H/INTERCEPT/NextSeq/batch11_cfDNA_11Sep2020/mixcr/clones/CLONES_TRBCHP_412-03_cfDNA.txt nonproductive removed\n",
      "\n"
     ]
    },
    {
     "name": "stdout",
     "output_type": "stream",
     "text": [
      "[1] 2\n"
     ]
    },
    {
     "name": "stderr",
     "output_type": "stream",
     "text": [
      "Number of CDR3s in: ~/Desktop/H4H/INTERCEPT/NextSeq/batch11_cfDNA_11Sep2020/mixcr/clones/CLONES_TRBCHP_413-01_cfDNA.txt\n",
      "\n"
     ]
    },
    {
     "name": "stdout",
     "output_type": "stream",
     "text": [
      "[1] 5\n"
     ]
    },
    {
     "name": "stderr",
     "output_type": "stream",
     "text": [
      "Number of CDR3s in: ~/Desktop/H4H/INTERCEPT/NextSeq/batch11_cfDNA_11Sep2020/mixcr/clones/CLONES_TRBCHP_413-01_cfDNA.txt nonproductive removed\n",
      "\n"
     ]
    },
    {
     "name": "stdout",
     "output_type": "stream",
     "text": [
      "[1] 5\n"
     ]
    },
    {
     "name": "stderr",
     "output_type": "stream",
     "text": [
      "Number of CDR3s in: ~/Desktop/H4H/INTERCEPT/NextSeq/batch11_cfDNA_11Sep2020/mixcr/clones/CLONES_TRBCHP_415-01_cfDNA.txt\n",
      "\n"
     ]
    },
    {
     "name": "stdout",
     "output_type": "stream",
     "text": [
      "[1] 7\n"
     ]
    },
    {
     "name": "stderr",
     "output_type": "stream",
     "text": [
      "Number of CDR3s in: ~/Desktop/H4H/INTERCEPT/NextSeq/batch11_cfDNA_11Sep2020/mixcr/clones/CLONES_TRBCHP_415-01_cfDNA.txt nonproductive removed\n",
      "\n"
     ]
    },
    {
     "name": "stdout",
     "output_type": "stream",
     "text": [
      "[1] 6\n"
     ]
    },
    {
     "name": "stderr",
     "output_type": "stream",
     "text": [
      "Number of CDR3s in: ~/Desktop/H4H/INTERCEPT/NextSeq/batch11_cfDNA_11Sep2020/mixcr/clones/CLONES_TRBCHP_417-02_cfDNA.txt\n",
      "\n"
     ]
    },
    {
     "name": "stdout",
     "output_type": "stream",
     "text": [
      "[1] 6\n"
     ]
    },
    {
     "name": "stderr",
     "output_type": "stream",
     "text": [
      "Number of CDR3s in: ~/Desktop/H4H/INTERCEPT/NextSeq/batch11_cfDNA_11Sep2020/mixcr/clones/CLONES_TRBCHP_417-02_cfDNA.txt nonproductive removed\n",
      "\n"
     ]
    },
    {
     "name": "stdout",
     "output_type": "stream",
     "text": [
      "[1] 3\n"
     ]
    },
    {
     "name": "stderr",
     "output_type": "stream",
     "text": [
      "Number of CDR3s in: ~/Desktop/H4H/INTERCEPT/NextSeq/batch12_30Apr2021/mixcr/clones/CLONES_TRBCHP_383-05_PBMC-DNA.txt\n",
      "\n"
     ]
    },
    {
     "name": "stdout",
     "output_type": "stream",
     "text": [
      "[1] 49\n"
     ]
    },
    {
     "name": "stderr",
     "output_type": "stream",
     "text": [
      "Number of CDR3s in: ~/Desktop/H4H/INTERCEPT/NextSeq/batch12_30Apr2021/mixcr/clones/CLONES_TRBCHP_383-05_PBMC-DNA.txt nonproductive removed\n",
      "\n"
     ]
    },
    {
     "name": "stdout",
     "output_type": "stream",
     "text": [
      "[1] 30\n"
     ]
    },
    {
     "name": "stderr",
     "output_type": "stream",
     "text": [
      "Number of CDR3s in: ~/Desktop/H4H/INTERCEPT/NextSeq/batch12_30Apr2021/mixcr/clones/CLONES_TRBCHP_388-05_PBMC-DNA.txt\n",
      "\n"
     ]
    },
    {
     "name": "stdout",
     "output_type": "stream",
     "text": [
      "[1] 98\n"
     ]
    },
    {
     "name": "stderr",
     "output_type": "stream",
     "text": [
      "Number of CDR3s in: ~/Desktop/H4H/INTERCEPT/NextSeq/batch12_30Apr2021/mixcr/clones/CLONES_TRBCHP_388-05_PBMC-DNA.txt nonproductive removed\n",
      "\n"
     ]
    },
    {
     "name": "stdout",
     "output_type": "stream",
     "text": [
      "[1] 75\n"
     ]
    },
    {
     "name": "stderr",
     "output_type": "stream",
     "text": [
      "Number of CDR3s in: ~/Desktop/H4H/INTERCEPT/NextSeq/batch12_30Apr2021/mixcr/clones/CLONES_TRBCHP_390-05_PBMC-DNA.txt\n",
      "\n"
     ]
    },
    {
     "name": "stdout",
     "output_type": "stream",
     "text": [
      "[1] 165\n"
     ]
    },
    {
     "name": "stderr",
     "output_type": "stream",
     "text": [
      "Number of CDR3s in: ~/Desktop/H4H/INTERCEPT/NextSeq/batch12_30Apr2021/mixcr/clones/CLONES_TRBCHP_390-05_PBMC-DNA.txt nonproductive removed\n",
      "\n"
     ]
    },
    {
     "name": "stdout",
     "output_type": "stream",
     "text": [
      "[1] 109\n"
     ]
    },
    {
     "name": "stderr",
     "output_type": "stream",
     "text": [
      "Number of CDR3s in: ~/Desktop/H4H/INTERCEPT/NextSeq/batch12_30Apr2021/mixcr/clones/CLONES_TRBCHP_393-04_PBMC-DNA.txt\n",
      "\n"
     ]
    },
    {
     "name": "stdout",
     "output_type": "stream",
     "text": [
      "[1] 53\n"
     ]
    },
    {
     "name": "stderr",
     "output_type": "stream",
     "text": [
      "Number of CDR3s in: ~/Desktop/H4H/INTERCEPT/NextSeq/batch12_30Apr2021/mixcr/clones/CLONES_TRBCHP_393-04_PBMC-DNA.txt nonproductive removed\n",
      "\n"
     ]
    },
    {
     "name": "stdout",
     "output_type": "stream",
     "text": [
      "[1] 36\n"
     ]
    },
    {
     "name": "stderr",
     "output_type": "stream",
     "text": [
      "Number of CDR3s in: ~/Desktop/H4H/INTERCEPT/NextSeq/batch12_30Apr2021/mixcr/clones/CLONES_TRBCHP_398-04_PBMC-DNA.txt\n",
      "\n"
     ]
    },
    {
     "name": "stdout",
     "output_type": "stream",
     "text": [
      "[1] 65\n"
     ]
    },
    {
     "name": "stderr",
     "output_type": "stream",
     "text": [
      "Number of CDR3s in: ~/Desktop/H4H/INTERCEPT/NextSeq/batch12_30Apr2021/mixcr/clones/CLONES_TRBCHP_398-04_PBMC-DNA.txt nonproductive removed\n",
      "\n"
     ]
    },
    {
     "name": "stdout",
     "output_type": "stream",
     "text": [
      "[1] 45\n"
     ]
    },
    {
     "name": "stderr",
     "output_type": "stream",
     "text": [
      "Number of CDR3s in: ~/Desktop/H4H/INTERCEPT/NextSeq/batch12_30Apr2021/mixcr/clones/CLONES_TRBCHP_400-04_PBMC-DNA.txt\n",
      "\n"
     ]
    },
    {
     "name": "stdout",
     "output_type": "stream",
     "text": [
      "[1] 13\n"
     ]
    },
    {
     "name": "stderr",
     "output_type": "stream",
     "text": [
      "Number of CDR3s in: ~/Desktop/H4H/INTERCEPT/NextSeq/batch12_30Apr2021/mixcr/clones/CLONES_TRBCHP_400-04_PBMC-DNA.txt nonproductive removed\n",
      "\n"
     ]
    },
    {
     "name": "stdout",
     "output_type": "stream",
     "text": [
      "[1] 10\n"
     ]
    },
    {
     "name": "stderr",
     "output_type": "stream",
     "text": [
      "Number of CDR3s in: ~/Desktop/H4H/INTERCEPT/NextSeq/batch12_30Apr2021/mixcr/clones/CLONES_TRBCHP_400-05_PBMC-DNA.txt\n",
      "\n"
     ]
    },
    {
     "name": "stdout",
     "output_type": "stream",
     "text": [
      "[1] 35\n"
     ]
    },
    {
     "name": "stderr",
     "output_type": "stream",
     "text": [
      "Number of CDR3s in: ~/Desktop/H4H/INTERCEPT/NextSeq/batch12_30Apr2021/mixcr/clones/CLONES_TRBCHP_400-05_PBMC-DNA.txt nonproductive removed\n",
      "\n"
     ]
    },
    {
     "name": "stdout",
     "output_type": "stream",
     "text": [
      "[1] 28\n"
     ]
    },
    {
     "name": "stderr",
     "output_type": "stream",
     "text": [
      "Number of CDR3s in: ~/Desktop/H4H/INTERCEPT/NextSeq/batch12_30Apr2021/mixcr/clones/CLONES_TRBCHP_405-03_PBMC-DNA.txt\n",
      "\n"
     ]
    },
    {
     "name": "stdout",
     "output_type": "stream",
     "text": [
      "[1] 121\n"
     ]
    },
    {
     "name": "stderr",
     "output_type": "stream",
     "text": [
      "Number of CDR3s in: ~/Desktop/H4H/INTERCEPT/NextSeq/batch12_30Apr2021/mixcr/clones/CLONES_TRBCHP_405-03_PBMC-DNA.txt nonproductive removed\n",
      "\n"
     ]
    },
    {
     "name": "stdout",
     "output_type": "stream",
     "text": [
      "[1] 95\n"
     ]
    },
    {
     "name": "stderr",
     "output_type": "stream",
     "text": [
      "Number of CDR3s in: ~/Desktop/H4H/INTERCEPT/NextSeq/batch12_30Apr2021/mixcr/clones/CLONES_TRBCHP_407-03__PBMC-DN.txt\n",
      "\n"
     ]
    },
    {
     "name": "stdout",
     "output_type": "stream",
     "text": [
      "[1] 45\n"
     ]
    },
    {
     "name": "stderr",
     "output_type": "stream",
     "text": [
      "Number of CDR3s in: ~/Desktop/H4H/INTERCEPT/NextSeq/batch12_30Apr2021/mixcr/clones/CLONES_TRBCHP_407-03__PBMC-DN.txt nonproductive removed\n",
      "\n"
     ]
    },
    {
     "name": "stdout",
     "output_type": "stream",
     "text": [
      "[1] 33\n"
     ]
    },
    {
     "name": "stderr",
     "output_type": "stream",
     "text": [
      "Number of CDR3s in: ~/Desktop/H4H/INTERCEPT/NextSeq/batch12_30Apr2021/mixcr/clones/CLONES_TRBCHP_408-01_PBMC-DNA.txt\n",
      "\n"
     ]
    },
    {
     "name": "stdout",
     "output_type": "stream",
     "text": [
      "[1] 21\n"
     ]
    },
    {
     "name": "stderr",
     "output_type": "stream",
     "text": [
      "Number of CDR3s in: ~/Desktop/H4H/INTERCEPT/NextSeq/batch12_30Apr2021/mixcr/clones/CLONES_TRBCHP_408-01_PBMC-DNA.txt nonproductive removed\n",
      "\n"
     ]
    },
    {
     "name": "stdout",
     "output_type": "stream",
     "text": [
      "[1] 13\n"
     ]
    },
    {
     "name": "stderr",
     "output_type": "stream",
     "text": [
      "Number of CDR3s in: ~/Desktop/H4H/INTERCEPT/NextSeq/batch12_30Apr2021/mixcr/clones/CLONES_TRBCHP_408-02_PBMC-DNA.txt\n",
      "\n"
     ]
    },
    {
     "name": "stdout",
     "output_type": "stream",
     "text": [
      "[1] 95\n"
     ]
    },
    {
     "name": "stderr",
     "output_type": "stream",
     "text": [
      "Number of CDR3s in: ~/Desktop/H4H/INTERCEPT/NextSeq/batch12_30Apr2021/mixcr/clones/CLONES_TRBCHP_408-02_PBMC-DNA.txt nonproductive removed\n",
      "\n"
     ]
    },
    {
     "name": "stdout",
     "output_type": "stream",
     "text": [
      "[1] 56\n"
     ]
    },
    {
     "name": "stderr",
     "output_type": "stream",
     "text": [
      "Number of CDR3s in: ~/Desktop/H4H/INTERCEPT/NextSeq/batch12_30Apr2021/mixcr/clones/CLONES_TRBCHP_409-02_PBMC-DNA.txt\n",
      "\n"
     ]
    },
    {
     "name": "stdout",
     "output_type": "stream",
     "text": [
      "[1] 34\n"
     ]
    },
    {
     "name": "stderr",
     "output_type": "stream",
     "text": [
      "Number of CDR3s in: ~/Desktop/H4H/INTERCEPT/NextSeq/batch12_30Apr2021/mixcr/clones/CLONES_TRBCHP_409-02_PBMC-DNA.txt nonproductive removed\n",
      "\n"
     ]
    },
    {
     "name": "stdout",
     "output_type": "stream",
     "text": [
      "[1] 27\n"
     ]
    },
    {
     "name": "stderr",
     "output_type": "stream",
     "text": [
      "Number of CDR3s in: ~/Desktop/H4H/INTERCEPT/NextSeq/batch12_30Apr2021/mixcr/clones/CLONES_TRBCHP_409-03_PBMC-DNA.txt\n",
      "\n"
     ]
    },
    {
     "name": "stdout",
     "output_type": "stream",
     "text": [
      "[1] 13\n"
     ]
    },
    {
     "name": "stderr",
     "output_type": "stream",
     "text": [
      "Number of CDR3s in: ~/Desktop/H4H/INTERCEPT/NextSeq/batch12_30Apr2021/mixcr/clones/CLONES_TRBCHP_409-03_PBMC-DNA.txt nonproductive removed\n",
      "\n"
     ]
    },
    {
     "name": "stdout",
     "output_type": "stream",
     "text": [
      "[1] 10\n"
     ]
    },
    {
     "name": "stderr",
     "output_type": "stream",
     "text": [
      "Number of CDR3s in: ~/Desktop/H4H/INTERCEPT/NextSeq/batch12_30Apr2021/mixcr/clones/CLONES_TRBCHP_410-01_PBMC-DNA.txt\n",
      "\n"
     ]
    },
    {
     "name": "stdout",
     "output_type": "stream",
     "text": [
      "[1] 232\n"
     ]
    },
    {
     "name": "stderr",
     "output_type": "stream",
     "text": [
      "Number of CDR3s in: ~/Desktop/H4H/INTERCEPT/NextSeq/batch12_30Apr2021/mixcr/clones/CLONES_TRBCHP_410-01_PBMC-DNA.txt nonproductive removed\n",
      "\n"
     ]
    },
    {
     "name": "stdout",
     "output_type": "stream",
     "text": [
      "[1] 130\n"
     ]
    },
    {
     "name": "stderr",
     "output_type": "stream",
     "text": [
      "Number of CDR3s in: ~/Desktop/H4H/INTERCEPT/NextSeq/batch12_30Apr2021/mixcr/clones/CLONES_TRBCHP_410-02_PBMC-DNA.txt\n",
      "\n"
     ]
    },
    {
     "name": "stdout",
     "output_type": "stream",
     "text": [
      "[1] 87\n"
     ]
    },
    {
     "name": "stderr",
     "output_type": "stream",
     "text": [
      "Number of CDR3s in: ~/Desktop/H4H/INTERCEPT/NextSeq/batch12_30Apr2021/mixcr/clones/CLONES_TRBCHP_410-02_PBMC-DNA.txt nonproductive removed\n",
      "\n"
     ]
    },
    {
     "name": "stdout",
     "output_type": "stream",
     "text": [
      "[1] 58\n"
     ]
    },
    {
     "name": "stderr",
     "output_type": "stream",
     "text": [
      "Number of CDR3s in: ~/Desktop/H4H/INTERCEPT/NextSeq/batch12_30Apr2021/mixcr/clones/CLONES_TRBCHP_412-01_PBMC-DNA.txt\n",
      "\n"
     ]
    },
    {
     "name": "stdout",
     "output_type": "stream",
     "text": [
      "[1] 72\n"
     ]
    },
    {
     "name": "stderr",
     "output_type": "stream",
     "text": [
      "Number of CDR3s in: ~/Desktop/H4H/INTERCEPT/NextSeq/batch12_30Apr2021/mixcr/clones/CLONES_TRBCHP_412-01_PBMC-DNA.txt nonproductive removed\n",
      "\n"
     ]
    },
    {
     "name": "stdout",
     "output_type": "stream",
     "text": [
      "[1] 51\n"
     ]
    },
    {
     "name": "stderr",
     "output_type": "stream",
     "text": [
      "Number of CDR3s in: ~/Desktop/H4H/INTERCEPT/NextSeq/batch12_30Apr2021/mixcr/clones/CLONES_TRBCHP_413-01_PBMC-DNA.txt\n",
      "\n"
     ]
    },
    {
     "name": "stdout",
     "output_type": "stream",
     "text": [
      "[1] 52\n"
     ]
    },
    {
     "name": "stderr",
     "output_type": "stream",
     "text": [
      "Number of CDR3s in: ~/Desktop/H4H/INTERCEPT/NextSeq/batch12_30Apr2021/mixcr/clones/CLONES_TRBCHP_413-01_PBMC-DNA.txt nonproductive removed\n",
      "\n"
     ]
    },
    {
     "name": "stdout",
     "output_type": "stream",
     "text": [
      "[1] 31\n"
     ]
    },
    {
     "name": "stderr",
     "output_type": "stream",
     "text": [
      "Number of CDR3s in: ~/Desktop/H4H/INTERCEPT/NextSeq/batch12_30Apr2021/mixcr/clones/CLONES_TRBCHP_417-01_PBMC-DNA.txt\n",
      "\n"
     ]
    },
    {
     "name": "stdout",
     "output_type": "stream",
     "text": [
      "[1] 125\n"
     ]
    },
    {
     "name": "stderr",
     "output_type": "stream",
     "text": [
      "Number of CDR3s in: ~/Desktop/H4H/INTERCEPT/NextSeq/batch12_30Apr2021/mixcr/clones/CLONES_TRBCHP_417-01_PBMC-DNA.txt nonproductive removed\n",
      "\n"
     ]
    },
    {
     "name": "stdout",
     "output_type": "stream",
     "text": [
      "[1] 82\n"
     ]
    },
    {
     "name": "stderr",
     "output_type": "stream",
     "text": [
      "Number of CDR3s in: ~/Desktop/H4H/INTERCEPT/NextSeq/batch13_26Aug2020/mixcr/clones/CLONES_TRBCHP_382-05-PBMC-DNA.txt\n",
      "\n"
     ]
    },
    {
     "name": "stdout",
     "output_type": "stream",
     "text": [
      "[1] 831\n"
     ]
    },
    {
     "name": "stderr",
     "output_type": "stream",
     "text": [
      "Number of CDR3s in: ~/Desktop/H4H/INTERCEPT/NextSeq/batch13_26Aug2020/mixcr/clones/CLONES_TRBCHP_382-05-PBMC-DNA.txt nonproductive removed\n",
      "\n"
     ]
    },
    {
     "name": "stdout",
     "output_type": "stream",
     "text": [
      "[1] 642\n"
     ]
    },
    {
     "name": "stderr",
     "output_type": "stream",
     "text": [
      "Number of CDR3s in: ~/Desktop/H4H/INTERCEPT/NextSeq/batch13_26Aug2020/mixcr/clones/CLONES_TRBCHP_392-04-PBMC-DNA.txt\n",
      "\n"
     ]
    },
    {
     "name": "stdout",
     "output_type": "stream",
     "text": [
      "[1] 196\n"
     ]
    },
    {
     "name": "stderr",
     "output_type": "stream",
     "text": [
      "Number of CDR3s in: ~/Desktop/H4H/INTERCEPT/NextSeq/batch13_26Aug2020/mixcr/clones/CLONES_TRBCHP_392-04-PBMC-DNA.txt nonproductive removed\n",
      "\n"
     ]
    },
    {
     "name": "stdout",
     "output_type": "stream",
     "text": [
      "[1] 138\n"
     ]
    },
    {
     "name": "stderr",
     "output_type": "stream",
     "text": [
      "Number of CDR3s in: ~/Desktop/H4H/INTERCEPT/NextSeq/batch13_26Aug2020/mixcr/clones/CLONES_TRBCHP_393-05-PBMC-DNA.txt\n",
      "\n"
     ]
    },
    {
     "name": "stdout",
     "output_type": "stream",
     "text": [
      "[1] 875\n"
     ]
    },
    {
     "name": "stderr",
     "output_type": "stream",
     "text": [
      "Number of CDR3s in: ~/Desktop/H4H/INTERCEPT/NextSeq/batch13_26Aug2020/mixcr/clones/CLONES_TRBCHP_393-05-PBMC-DNA.txt nonproductive removed\n",
      "\n"
     ]
    },
    {
     "name": "stdout",
     "output_type": "stream",
     "text": [
      "[1] 628\n"
     ]
    },
    {
     "name": "stderr",
     "output_type": "stream",
     "text": [
      "Number of CDR3s in: ~/Desktop/H4H/INTERCEPT/NextSeq/batch13_26Aug2020/mixcr/clones/CLONES_TRBCHP_396-04-PBMC-DNA.txt\n",
      "\n"
     ]
    },
    {
     "name": "stdout",
     "output_type": "stream",
     "text": [
      "[1] 1717\n"
     ]
    },
    {
     "name": "stderr",
     "output_type": "stream",
     "text": [
      "Number of CDR3s in: ~/Desktop/H4H/INTERCEPT/NextSeq/batch13_26Aug2020/mixcr/clones/CLONES_TRBCHP_396-04-PBMC-DNA.txt nonproductive removed\n",
      "\n"
     ]
    },
    {
     "name": "stdout",
     "output_type": "stream",
     "text": [
      "[1] 1281\n"
     ]
    },
    {
     "name": "stderr",
     "output_type": "stream",
     "text": [
      "Number of CDR3s in: ~/Desktop/H4H/INTERCEPT/NextSeq/batch13_26Aug2020/mixcr/clones/CLONES_TRBCHP_397-05-PBMC-DNA.txt\n",
      "\n"
     ]
    },
    {
     "name": "stdout",
     "output_type": "stream",
     "text": [
      "[1] 881\n"
     ]
    },
    {
     "name": "stderr",
     "output_type": "stream",
     "text": [
      "Number of CDR3s in: ~/Desktop/H4H/INTERCEPT/NextSeq/batch13_26Aug2020/mixcr/clones/CLONES_TRBCHP_397-05-PBMC-DNA.txt nonproductive removed\n",
      "\n"
     ]
    },
    {
     "name": "stdout",
     "output_type": "stream",
     "text": [
      "[1] 647\n"
     ]
    },
    {
     "name": "stderr",
     "output_type": "stream",
     "text": [
      "Number of CDR3s in: ~/Desktop/H4H/INTERCEPT/NextSeq/batch13_26Aug2020/mixcr/clones/CLONES_TRBCHP_399-04-PBMC-DNA.txt\n",
      "\n"
     ]
    },
    {
     "name": "stdout",
     "output_type": "stream",
     "text": [
      "[1] 579\n"
     ]
    },
    {
     "name": "stderr",
     "output_type": "stream",
     "text": [
      "Number of CDR3s in: ~/Desktop/H4H/INTERCEPT/NextSeq/batch13_26Aug2020/mixcr/clones/CLONES_TRBCHP_399-04-PBMC-DNA.txt nonproductive removed\n",
      "\n"
     ]
    },
    {
     "name": "stdout",
     "output_type": "stream",
     "text": [
      "[1] 427\n"
     ]
    },
    {
     "name": "stderr",
     "output_type": "stream",
     "text": [
      "Number of CDR3s in: ~/Desktop/H4H/INTERCEPT/NextSeq/batch13_26Aug2020/mixcr/clones/CLONES_TRBCHP_401-04-PBMC-DNA.txt\n",
      "\n"
     ]
    },
    {
     "name": "stdout",
     "output_type": "stream",
     "text": [
      "[1] 87\n"
     ]
    },
    {
     "name": "stderr",
     "output_type": "stream",
     "text": [
      "Number of CDR3s in: ~/Desktop/H4H/INTERCEPT/NextSeq/batch13_26Aug2020/mixcr/clones/CLONES_TRBCHP_401-04-PBMC-DNA.txt nonproductive removed\n",
      "\n"
     ]
    },
    {
     "name": "stdout",
     "output_type": "stream",
     "text": [
      "[1] 56\n"
     ]
    },
    {
     "name": "stderr",
     "output_type": "stream",
     "text": [
      "Number of CDR3s in: ~/Desktop/H4H/INTERCEPT/NextSeq/batch13_26Aug2020/mixcr/clones/CLONES_TRBCHP_401-05-PBMC-DNA.txt\n",
      "\n"
     ]
    },
    {
     "name": "stdout",
     "output_type": "stream",
     "text": [
      "[1] 317\n"
     ]
    },
    {
     "name": "stderr",
     "output_type": "stream",
     "text": [
      "Number of CDR3s in: ~/Desktop/H4H/INTERCEPT/NextSeq/batch13_26Aug2020/mixcr/clones/CLONES_TRBCHP_401-05-PBMC-DNA.txt nonproductive removed\n",
      "\n"
     ]
    },
    {
     "name": "stdout",
     "output_type": "stream",
     "text": [
      "[1] 228\n"
     ]
    },
    {
     "name": "stderr",
     "output_type": "stream",
     "text": [
      "Number of CDR3s in: ~/Desktop/H4H/INTERCEPT/NextSeq/batch13_26Aug2020/mixcr/clones/CLONES_TRBCHP_402-03-PBMC-DNA.txt\n",
      "\n"
     ]
    },
    {
     "name": "stdout",
     "output_type": "stream",
     "text": [
      "[1] 409\n"
     ]
    },
    {
     "name": "stderr",
     "output_type": "stream",
     "text": [
      "Number of CDR3s in: ~/Desktop/H4H/INTERCEPT/NextSeq/batch13_26Aug2020/mixcr/clones/CLONES_TRBCHP_402-03-PBMC-DNA.txt nonproductive removed\n",
      "\n"
     ]
    },
    {
     "name": "stdout",
     "output_type": "stream",
     "text": [
      "[1] 305\n"
     ]
    },
    {
     "name": "stderr",
     "output_type": "stream",
     "text": [
      "Number of CDR3s in: ~/Desktop/H4H/INTERCEPT/NextSeq/batch13_26Aug2020/mixcr/clones/CLONES_TRBCHP_404-04-PBMC-DNA.txt\n",
      "\n"
     ]
    },
    {
     "name": "stdout",
     "output_type": "stream",
     "text": [
      "[1] 64\n"
     ]
    },
    {
     "name": "stderr",
     "output_type": "stream",
     "text": [
      "Number of CDR3s in: ~/Desktop/H4H/INTERCEPT/NextSeq/batch13_26Aug2020/mixcr/clones/CLONES_TRBCHP_404-04-PBMC-DNA.txt nonproductive removed\n",
      "\n"
     ]
    },
    {
     "name": "stdout",
     "output_type": "stream",
     "text": [
      "[1] 48\n"
     ]
    },
    {
     "name": "stderr",
     "output_type": "stream",
     "text": [
      "Number of CDR3s in: ~/Desktop/H4H/INTERCEPT/NextSeq/batch13_26Aug2020/mixcr/clones/CLONES_TRBCHP_404-05-PBMC-DNA.txt\n",
      "\n"
     ]
    },
    {
     "name": "stdout",
     "output_type": "stream",
     "text": [
      "[1] 1108\n"
     ]
    },
    {
     "name": "stderr",
     "output_type": "stream",
     "text": [
      "Number of CDR3s in: ~/Desktop/H4H/INTERCEPT/NextSeq/batch13_26Aug2020/mixcr/clones/CLONES_TRBCHP_404-05-PBMC-DNA.txt nonproductive removed\n",
      "\n"
     ]
    },
    {
     "name": "stdout",
     "output_type": "stream",
     "text": [
      "[1] 831\n"
     ]
    },
    {
     "name": "stderr",
     "output_type": "stream",
     "text": [
      "Number of CDR3s in: ~/Desktop/H4H/INTERCEPT/NextSeq/batch13_26Aug2020/mixcr/clones/CLONES_TRBCHP_405-04-PBMC-DNA.txt\n",
      "\n"
     ]
    },
    {
     "name": "stdout",
     "output_type": "stream",
     "text": [
      "[1] 791\n"
     ]
    },
    {
     "name": "stderr",
     "output_type": "stream",
     "text": [
      "Number of CDR3s in: ~/Desktop/H4H/INTERCEPT/NextSeq/batch13_26Aug2020/mixcr/clones/CLONES_TRBCHP_405-04-PBMC-DNA.txt nonproductive removed\n",
      "\n"
     ]
    },
    {
     "name": "stdout",
     "output_type": "stream",
     "text": [
      "[1] 583\n"
     ]
    },
    {
     "name": "stderr",
     "output_type": "stream",
     "text": [
      "Number of CDR3s in: ~/Desktop/H4H/INTERCEPT/NextSeq/batch13_26Aug2020/mixcr/clones/CLONES_TRBCHP_407-04-PBMC-DNA.txt\n",
      "\n"
     ]
    },
    {
     "name": "stdout",
     "output_type": "stream",
     "text": [
      "[1] 800\n"
     ]
    },
    {
     "name": "stderr",
     "output_type": "stream",
     "text": [
      "Number of CDR3s in: ~/Desktop/H4H/INTERCEPT/NextSeq/batch13_26Aug2020/mixcr/clones/CLONES_TRBCHP_407-04-PBMC-DNA.txt nonproductive removed\n",
      "\n"
     ]
    },
    {
     "name": "stdout",
     "output_type": "stream",
     "text": [
      "[1] 569\n"
     ]
    },
    {
     "name": "stderr",
     "output_type": "stream",
     "text": [
      "Number of CDR3s in: ~/Desktop/H4H/INTERCEPT/NextSeq/batch13_26Aug2020/mixcr/clones/CLONES_TRBCHP_408-03-PBMC-DNA.txt\n",
      "\n"
     ]
    },
    {
     "name": "stdout",
     "output_type": "stream",
     "text": [
      "[1] 1032\n"
     ]
    },
    {
     "name": "stderr",
     "output_type": "stream",
     "text": [
      "Number of CDR3s in: ~/Desktop/H4H/INTERCEPT/NextSeq/batch13_26Aug2020/mixcr/clones/CLONES_TRBCHP_408-03-PBMC-DNA.txt nonproductive removed\n",
      "\n"
     ]
    },
    {
     "name": "stdout",
     "output_type": "stream",
     "text": [
      "[1] 756\n"
     ]
    },
    {
     "name": "stderr",
     "output_type": "stream",
     "text": [
      "Number of CDR3s in: ~/Desktop/H4H/INTERCEPT/NextSeq/batch13_26Aug2020/mixcr/clones/CLONES_TRBCHP_409-04-PBMC-DNA.txt\n",
      "\n"
     ]
    },
    {
     "name": "stdout",
     "output_type": "stream",
     "text": [
      "[1] 94\n"
     ]
    },
    {
     "name": "stderr",
     "output_type": "stream",
     "text": [
      "Number of CDR3s in: ~/Desktop/H4H/INTERCEPT/NextSeq/batch13_26Aug2020/mixcr/clones/CLONES_TRBCHP_409-04-PBMC-DNA.txt nonproductive removed\n",
      "\n"
     ]
    },
    {
     "name": "stdout",
     "output_type": "stream",
     "text": [
      "[1] 75\n"
     ]
    },
    {
     "name": "stderr",
     "output_type": "stream",
     "text": [
      "Number of CDR3s in: ~/Desktop/H4H/INTERCEPT/NextSeq/batch13_26Aug2020/mixcr/clones/CLONES_TRBCHP_410-03-PBMC-DNA.txt\n",
      "\n"
     ]
    },
    {
     "name": "stdout",
     "output_type": "stream",
     "text": [
      "[1] 521\n"
     ]
    },
    {
     "name": "stderr",
     "output_type": "stream",
     "text": [
      "Number of CDR3s in: ~/Desktop/H4H/INTERCEPT/NextSeq/batch13_26Aug2020/mixcr/clones/CLONES_TRBCHP_410-03-PBMC-DNA.txt nonproductive removed\n",
      "\n"
     ]
    },
    {
     "name": "stdout",
     "output_type": "stream",
     "text": [
      "[1] 351\n"
     ]
    },
    {
     "name": "stderr",
     "output_type": "stream",
     "text": [
      "Number of CDR3s in: ~/Desktop/H4H/INTERCEPT/NextSeq/batch13_26Aug2020/mixcr/clones/CLONES_TRBCHP_411-01-PBMC-DNA.txt\n",
      "\n"
     ]
    },
    {
     "name": "stdout",
     "output_type": "stream",
     "text": [
      "[1] 488\n"
     ]
    },
    {
     "name": "stderr",
     "output_type": "stream",
     "text": [
      "Number of CDR3s in: ~/Desktop/H4H/INTERCEPT/NextSeq/batch13_26Aug2020/mixcr/clones/CLONES_TRBCHP_411-01-PBMC-DNA.txt nonproductive removed\n",
      "\n"
     ]
    },
    {
     "name": "stdout",
     "output_type": "stream",
     "text": [
      "[1] 367\n"
     ]
    },
    {
     "name": "stderr",
     "output_type": "stream",
     "text": [
      "Number of CDR3s in: ~/Desktop/H4H/INTERCEPT/NextSeq/batch13_26Aug2020/mixcr/clones/CLONES_TRBCHP_412-02-PBMC-DNA.txt\n",
      "\n"
     ]
    },
    {
     "name": "stdout",
     "output_type": "stream",
     "text": [
      "[1] 537\n"
     ]
    },
    {
     "name": "stderr",
     "output_type": "stream",
     "text": [
      "Number of CDR3s in: ~/Desktop/H4H/INTERCEPT/NextSeq/batch13_26Aug2020/mixcr/clones/CLONES_TRBCHP_412-02-PBMC-DNA.txt nonproductive removed\n",
      "\n"
     ]
    },
    {
     "name": "stdout",
     "output_type": "stream",
     "text": [
      "[1] 401\n"
     ]
    },
    {
     "name": "stderr",
     "output_type": "stream",
     "text": [
      "Number of CDR3s in: ~/Desktop/H4H/INTERCEPT/NextSeq/batch13_26Aug2020/mixcr/clones/CLONES_TRBCHP_412-03-PBMC-DNA.txt\n",
      "\n"
     ]
    },
    {
     "name": "stdout",
     "output_type": "stream",
     "text": [
      "[1] 60\n"
     ]
    },
    {
     "name": "stderr",
     "output_type": "stream",
     "text": [
      "Number of CDR3s in: ~/Desktop/H4H/INTERCEPT/NextSeq/batch13_26Aug2020/mixcr/clones/CLONES_TRBCHP_412-03-PBMC-DNA.txt nonproductive removed\n",
      "\n"
     ]
    },
    {
     "name": "stdout",
     "output_type": "stream",
     "text": [
      "[1] 35\n"
     ]
    },
    {
     "name": "stderr",
     "output_type": "stream",
     "text": [
      "Number of CDR3s in: ~/Desktop/H4H/INTERCEPT/NextSeq/batch13_26Aug2020/mixcr/clones/CLONES_TRBCHP_414-02-PBMC-DNA.txt\n",
      "\n"
     ]
    },
    {
     "name": "stdout",
     "output_type": "stream",
     "text": [
      "[1] 962\n"
     ]
    },
    {
     "name": "stderr",
     "output_type": "stream",
     "text": [
      "Number of CDR3s in: ~/Desktop/H4H/INTERCEPT/NextSeq/batch13_26Aug2020/mixcr/clones/CLONES_TRBCHP_414-02-PBMC-DNA.txt nonproductive removed\n",
      "\n"
     ]
    },
    {
     "name": "stdout",
     "output_type": "stream",
     "text": [
      "[1] 758\n"
     ]
    },
    {
     "name": "stderr",
     "output_type": "stream",
     "text": [
      "Number of CDR3s in: ~/Desktop/H4H/INTERCEPT/NextSeq/batch13_26Aug2020/mixcr/clones/CLONES_TRBCHP_415-01-PBMC-DNA.txt\n",
      "\n"
     ]
    },
    {
     "name": "stdout",
     "output_type": "stream",
     "text": [
      "[1] 155\n"
     ]
    },
    {
     "name": "stderr",
     "output_type": "stream",
     "text": [
      "Number of CDR3s in: ~/Desktop/H4H/INTERCEPT/NextSeq/batch13_26Aug2020/mixcr/clones/CLONES_TRBCHP_415-01-PBMC-DNA.txt nonproductive removed\n",
      "\n"
     ]
    },
    {
     "name": "stdout",
     "output_type": "stream",
     "text": [
      "[1] 129\n"
     ]
    },
    {
     "name": "stderr",
     "output_type": "stream",
     "text": [
      "Number of CDR3s in: ~/Desktop/H4H/INTERCEPT/NextSeq/batch13_26Aug2020/mixcr/clones/CLONES_TRBCHP_416-01-PBMC-DNA.txt\n",
      "\n"
     ]
    },
    {
     "name": "stdout",
     "output_type": "stream",
     "text": [
      "[1] 677\n"
     ]
    },
    {
     "name": "stderr",
     "output_type": "stream",
     "text": [
      "Number of CDR3s in: ~/Desktop/H4H/INTERCEPT/NextSeq/batch13_26Aug2020/mixcr/clones/CLONES_TRBCHP_416-01-PBMC-DNA.txt nonproductive removed\n",
      "\n"
     ]
    },
    {
     "name": "stdout",
     "output_type": "stream",
     "text": [
      "[1] 484\n"
     ]
    },
    {
     "name": "stderr",
     "output_type": "stream",
     "text": [
      "Number of CDR3s in: ~/Desktop/H4H/INTERCEPT/NextSeq/batch13_26Aug2020/mixcr/clones/CLONES_TRBCHP_418-01-PBMC-DNA.txt\n",
      "\n"
     ]
    },
    {
     "name": "stdout",
     "output_type": "stream",
     "text": [
      "[1] 179\n"
     ]
    },
    {
     "name": "stderr",
     "output_type": "stream",
     "text": [
      "Number of CDR3s in: ~/Desktop/H4H/INTERCEPT/NextSeq/batch13_26Aug2020/mixcr/clones/CLONES_TRBCHP_418-01-PBMC-DNA.txt nonproductive removed\n",
      "\n"
     ]
    },
    {
     "name": "stdout",
     "output_type": "stream",
     "text": [
      "[1] 140\n"
     ]
    },
    {
     "name": "stderr",
     "output_type": "stream",
     "text": [
      "Number of CDR3s in: ~/Desktop/H4H/INTERCEPT/NextSeq/batch13_26Aug2020/mixcr/clones/CLONES_TRBCHP_422-01_-PBMC-DN.txt\n",
      "\n"
     ]
    },
    {
     "name": "stdout",
     "output_type": "stream",
     "text": [
      "[1] 417\n"
     ]
    },
    {
     "name": "stderr",
     "output_type": "stream",
     "text": [
      "Number of CDR3s in: ~/Desktop/H4H/INTERCEPT/NextSeq/batch13_26Aug2020/mixcr/clones/CLONES_TRBCHP_422-01_-PBMC-DN.txt nonproductive removed\n",
      "\n"
     ]
    },
    {
     "name": "stdout",
     "output_type": "stream",
     "text": [
      "[1] 149\n"
     ]
    },
    {
     "name": "stderr",
     "output_type": "stream",
     "text": [
      "Number of CDR3s in: ~/Desktop/H4H/INTERCEPT/NextSeq/batch13_cfDNA_11Sep2020/mixcr/clones/CLONES_TRBCHP_334-03_cfDNA.txt\n",
      "\n"
     ]
    },
    {
     "name": "stdout",
     "output_type": "stream",
     "text": [
      "[1] 44\n"
     ]
    },
    {
     "name": "stderr",
     "output_type": "stream",
     "text": [
      "Number of CDR3s in: ~/Desktop/H4H/INTERCEPT/NextSeq/batch13_cfDNA_11Sep2020/mixcr/clones/CLONES_TRBCHP_334-03_cfDNA.txt nonproductive removed\n",
      "\n"
     ]
    },
    {
     "name": "stdout",
     "output_type": "stream",
     "text": [
      "[1] 27\n"
     ]
    },
    {
     "name": "stderr",
     "output_type": "stream",
     "text": [
      "Number of CDR3s in: ~/Desktop/H4H/INTERCEPT/NextSeq/batch13_cfDNA_11Sep2020/mixcr/clones/CLONES_TRBCHP_341-02_cfDNA.txt\n",
      "\n"
     ]
    },
    {
     "name": "stdout",
     "output_type": "stream",
     "text": [
      "[1] 53\n"
     ]
    },
    {
     "name": "stderr",
     "output_type": "stream",
     "text": [
      "Number of CDR3s in: ~/Desktop/H4H/INTERCEPT/NextSeq/batch13_cfDNA_11Sep2020/mixcr/clones/CLONES_TRBCHP_341-02_cfDNA.txt nonproductive removed\n",
      "\n"
     ]
    },
    {
     "name": "stdout",
     "output_type": "stream",
     "text": [
      "[1] 34\n"
     ]
    },
    {
     "name": "stderr",
     "output_type": "stream",
     "text": [
      "Number of CDR3s in: ~/Desktop/H4H/INTERCEPT/NextSeq/batch13_cfDNA_11Sep2020/mixcr/clones/CLONES_TRBCHP_359-03_cfDNA.txt\n",
      "\n"
     ]
    },
    {
     "name": "stdout",
     "output_type": "stream",
     "text": [
      "[1] 51\n"
     ]
    },
    {
     "name": "stderr",
     "output_type": "stream",
     "text": [
      "Number of CDR3s in: ~/Desktop/H4H/INTERCEPT/NextSeq/batch13_cfDNA_11Sep2020/mixcr/clones/CLONES_TRBCHP_359-03_cfDNA.txt nonproductive removed\n",
      "\n"
     ]
    },
    {
     "name": "stdout",
     "output_type": "stream",
     "text": [
      "[1] 38\n"
     ]
    },
    {
     "name": "stderr",
     "output_type": "stream",
     "text": [
      "Number of CDR3s in: ~/Desktop/H4H/INTERCEPT/NextSeq/batch13_cfDNA_11Sep2020/mixcr/clones/CLONES_TRBCHP_360-04_cfDNA.txt\n",
      "\n"
     ]
    },
    {
     "name": "stdout",
     "output_type": "stream",
     "text": [
      "[1] 71\n"
     ]
    },
    {
     "name": "stderr",
     "output_type": "stream",
     "text": [
      "Number of CDR3s in: ~/Desktop/H4H/INTERCEPT/NextSeq/batch13_cfDNA_11Sep2020/mixcr/clones/CLONES_TRBCHP_360-04_cfDNA.txt nonproductive removed\n",
      "\n"
     ]
    },
    {
     "name": "stdout",
     "output_type": "stream",
     "text": [
      "[1] 52\n"
     ]
    },
    {
     "name": "stderr",
     "output_type": "stream",
     "text": [
      "Number of CDR3s in: ~/Desktop/H4H/INTERCEPT/NextSeq/batch13_cfDNA_11Sep2020/mixcr/clones/CLONES_TRBCHP_360-05_cfDNA.txt\n",
      "\n"
     ]
    },
    {
     "name": "stdout",
     "output_type": "stream",
     "text": [
      "[1] 34\n"
     ]
    },
    {
     "name": "stderr",
     "output_type": "stream",
     "text": [
      "Number of CDR3s in: ~/Desktop/H4H/INTERCEPT/NextSeq/batch13_cfDNA_11Sep2020/mixcr/clones/CLONES_TRBCHP_360-05_cfDNA.txt nonproductive removed\n",
      "\n"
     ]
    },
    {
     "name": "stdout",
     "output_type": "stream",
     "text": [
      "[1] 26\n"
     ]
    },
    {
     "name": "stderr",
     "output_type": "stream",
     "text": [
      "Number of CDR3s in: ~/Desktop/H4H/INTERCEPT/NextSeq/batch13_cfDNA_11Sep2020/mixcr/clones/CLONES_TRBCHP_367-04_cfDNA.txt\n",
      "\n"
     ]
    },
    {
     "name": "stdout",
     "output_type": "stream",
     "text": [
      "[1] 305\n"
     ]
    },
    {
     "name": "stderr",
     "output_type": "stream",
     "text": [
      "Number of CDR3s in: ~/Desktop/H4H/INTERCEPT/NextSeq/batch13_cfDNA_11Sep2020/mixcr/clones/CLONES_TRBCHP_367-04_cfDNA.txt nonproductive removed\n",
      "\n"
     ]
    },
    {
     "name": "stdout",
     "output_type": "stream",
     "text": [
      "[1] 220\n"
     ]
    },
    {
     "name": "stderr",
     "output_type": "stream",
     "text": [
      "Number of CDR3s in: ~/Desktop/H4H/INTERCEPT/NextSeq/batch13_cfDNA_11Sep2020/mixcr/clones/CLONES_TRBCHP_367-05_cfDNA.txt\n",
      "\n"
     ]
    },
    {
     "name": "stdout",
     "output_type": "stream",
     "text": [
      "[1] 14\n"
     ]
    },
    {
     "name": "stderr",
     "output_type": "stream",
     "text": [
      "Number of CDR3s in: ~/Desktop/H4H/INTERCEPT/NextSeq/batch13_cfDNA_11Sep2020/mixcr/clones/CLONES_TRBCHP_367-05_cfDNA.txt nonproductive removed\n",
      "\n"
     ]
    },
    {
     "name": "stdout",
     "output_type": "stream",
     "text": [
      "[1] 12\n"
     ]
    },
    {
     "name": "stderr",
     "output_type": "stream",
     "text": [
      "Number of CDR3s in: ~/Desktop/H4H/INTERCEPT/NextSeq/batch13_cfDNA_11Sep2020/mixcr/clones/CLONES_TRBCHP_375-03_cfDNA.txt\n",
      "\n"
     ]
    },
    {
     "name": "stdout",
     "output_type": "stream",
     "text": [
      "[1] 17\n"
     ]
    },
    {
     "name": "stderr",
     "output_type": "stream",
     "text": [
      "Number of CDR3s in: ~/Desktop/H4H/INTERCEPT/NextSeq/batch13_cfDNA_11Sep2020/mixcr/clones/CLONES_TRBCHP_375-03_cfDNA.txt nonproductive removed\n",
      "\n"
     ]
    },
    {
     "name": "stdout",
     "output_type": "stream",
     "text": [
      "[1] 14\n"
     ]
    },
    {
     "name": "stderr",
     "output_type": "stream",
     "text": [
      "Number of CDR3s in: ~/Desktop/H4H/INTERCEPT/NextSeq/batch13_cfDNA_11Sep2020/mixcr/clones/CLONES_TRBCHP_375-05_cfDNA.txt\n",
      "\n"
     ]
    },
    {
     "name": "stdout",
     "output_type": "stream",
     "text": [
      "[1] 69\n"
     ]
    },
    {
     "name": "stderr",
     "output_type": "stream",
     "text": [
      "Number of CDR3s in: ~/Desktop/H4H/INTERCEPT/NextSeq/batch13_cfDNA_11Sep2020/mixcr/clones/CLONES_TRBCHP_375-05_cfDNA.txt nonproductive removed\n",
      "\n"
     ]
    },
    {
     "name": "stdout",
     "output_type": "stream",
     "text": [
      "[1] 49\n"
     ]
    },
    {
     "name": "stderr",
     "output_type": "stream",
     "text": [
      "Number of CDR3s in: ~/Desktop/H4H/INTERCEPT/NextSeq/batch13_cfDNA_11Sep2020/mixcr/clones/CLONES_TRBCHP_382-05_cfDNA.txt\n",
      "\n"
     ]
    },
    {
     "name": "stdout",
     "output_type": "stream",
     "text": [
      "[1] 79\n"
     ]
    },
    {
     "name": "stderr",
     "output_type": "stream",
     "text": [
      "Number of CDR3s in: ~/Desktop/H4H/INTERCEPT/NextSeq/batch13_cfDNA_11Sep2020/mixcr/clones/CLONES_TRBCHP_382-05_cfDNA.txt nonproductive removed\n",
      "\n"
     ]
    },
    {
     "name": "stdout",
     "output_type": "stream",
     "text": [
      "[1] 52\n"
     ]
    },
    {
     "name": "stderr",
     "output_type": "stream",
     "text": [
      "Number of CDR3s in: ~/Desktop/H4H/INTERCEPT/NextSeq/batch13_cfDNA_11Sep2020/mixcr/clones/CLONES_TRBCHP_386-05_cfDNA.txt\n",
      "\n"
     ]
    },
    {
     "name": "stdout",
     "output_type": "stream",
     "text": [
      "[1] 21\n"
     ]
    },
    {
     "name": "stderr",
     "output_type": "stream",
     "text": [
      "Number of CDR3s in: ~/Desktop/H4H/INTERCEPT/NextSeq/batch13_cfDNA_11Sep2020/mixcr/clones/CLONES_TRBCHP_386-05_cfDNA.txt nonproductive removed\n",
      "\n"
     ]
    },
    {
     "name": "stdout",
     "output_type": "stream",
     "text": [
      "[1] 16\n"
     ]
    },
    {
     "name": "stderr",
     "output_type": "stream",
     "text": [
      "Number of CDR3s in: ~/Desktop/H4H/INTERCEPT/NextSeq/batch13_cfDNA_11Sep2020/mixcr/clones/CLONES_TRBCHP_388-05_cfDNA.txt\n",
      "\n"
     ]
    },
    {
     "name": "stdout",
     "output_type": "stream",
     "text": [
      "[1] 40\n"
     ]
    },
    {
     "name": "stderr",
     "output_type": "stream",
     "text": [
      "Number of CDR3s in: ~/Desktop/H4H/INTERCEPT/NextSeq/batch13_cfDNA_11Sep2020/mixcr/clones/CLONES_TRBCHP_388-05_cfDNA.txt nonproductive removed\n",
      "\n"
     ]
    },
    {
     "name": "stdout",
     "output_type": "stream",
     "text": [
      "[1] 28\n"
     ]
    },
    {
     "name": "stderr",
     "output_type": "stream",
     "text": [
      "Number of CDR3s in: ~/Desktop/H4H/INTERCEPT/NextSeq/batch13_cfDNA_11Sep2020/mixcr/clones/CLONES_TRBCHP_389-01_cfDNA.txt\n",
      "\n"
     ]
    },
    {
     "name": "stdout",
     "output_type": "stream",
     "text": [
      "[1] 43\n"
     ]
    },
    {
     "name": "stderr",
     "output_type": "stream",
     "text": [
      "Number of CDR3s in: ~/Desktop/H4H/INTERCEPT/NextSeq/batch13_cfDNA_11Sep2020/mixcr/clones/CLONES_TRBCHP_389-01_cfDNA.txt nonproductive removed\n",
      "\n"
     ]
    },
    {
     "name": "stdout",
     "output_type": "stream",
     "text": [
      "[1] 32\n"
     ]
    },
    {
     "name": "stderr",
     "output_type": "stream",
     "text": [
      "Number of CDR3s in: ~/Desktop/H4H/INTERCEPT/NextSeq/batch13_cfDNA_11Sep2020/mixcr/clones/CLONES_TRBCHP_390-02_cfDNA.txt\n",
      "\n"
     ]
    },
    {
     "name": "stdout",
     "output_type": "stream",
     "text": [
      "[1] 61\n"
     ]
    },
    {
     "name": "stderr",
     "output_type": "stream",
     "text": [
      "Number of CDR3s in: ~/Desktop/H4H/INTERCEPT/NextSeq/batch13_cfDNA_11Sep2020/mixcr/clones/CLONES_TRBCHP_390-02_cfDNA.txt nonproductive removed\n",
      "\n"
     ]
    },
    {
     "name": "stdout",
     "output_type": "stream",
     "text": [
      "[1] 36\n"
     ]
    },
    {
     "name": "stderr",
     "output_type": "stream",
     "text": [
      "Number of CDR3s in: ~/Desktop/H4H/INTERCEPT/NextSeq/batch13_cfDNA_11Sep2020/mixcr/clones/CLONES_TRBCHP_392-02_cfDNA.txt\n",
      "\n"
     ]
    },
    {
     "name": "stdout",
     "output_type": "stream",
     "text": [
      "[1] 142\n"
     ]
    },
    {
     "name": "stderr",
     "output_type": "stream",
     "text": [
      "Number of CDR3s in: ~/Desktop/H4H/INTERCEPT/NextSeq/batch13_cfDNA_11Sep2020/mixcr/clones/CLONES_TRBCHP_392-02_cfDNA.txt nonproductive removed\n",
      "\n"
     ]
    },
    {
     "name": "stdout",
     "output_type": "stream",
     "text": [
      "[1] 97\n"
     ]
    },
    {
     "name": "stderr",
     "output_type": "stream",
     "text": [
      "Number of CDR3s in: ~/Desktop/H4H/INTERCEPT/NextSeq/batch13_cfDNA_11Sep2020/mixcr/clones/CLONES_TRBCHP_392-03_cfDNA.txt\n",
      "\n"
     ]
    },
    {
     "name": "stdout",
     "output_type": "stream",
     "text": [
      "[1] 35\n"
     ]
    },
    {
     "name": "stderr",
     "output_type": "stream",
     "text": [
      "Number of CDR3s in: ~/Desktop/H4H/INTERCEPT/NextSeq/batch13_cfDNA_11Sep2020/mixcr/clones/CLONES_TRBCHP_392-03_cfDNA.txt nonproductive removed\n",
      "\n"
     ]
    },
    {
     "name": "stdout",
     "output_type": "stream",
     "text": [
      "[1] 25\n"
     ]
    },
    {
     "name": "stderr",
     "output_type": "stream",
     "text": [
      "Number of CDR3s in: ~/Desktop/H4H/INTERCEPT/NextSeq/batch13_cfDNA_11Sep2020/mixcr/clones/CLONES_TRBCHP_397-04_cfDNA.txt\n",
      "\n"
     ]
    },
    {
     "name": "stdout",
     "output_type": "stream",
     "text": [
      "[1] 34\n"
     ]
    },
    {
     "name": "stderr",
     "output_type": "stream",
     "text": [
      "Number of CDR3s in: ~/Desktop/H4H/INTERCEPT/NextSeq/batch13_cfDNA_11Sep2020/mixcr/clones/CLONES_TRBCHP_397-04_cfDNA.txt nonproductive removed\n",
      "\n"
     ]
    },
    {
     "name": "stdout",
     "output_type": "stream",
     "text": [
      "[1] 24\n"
     ]
    },
    {
     "name": "stderr",
     "output_type": "stream",
     "text": [
      "Number of CDR3s in: ~/Desktop/H4H/INTERCEPT/NextSeq/batch13_cfDNA_11Sep2020/mixcr/clones/CLONES_TRBCHP_398-04_cfDNA.txt\n",
      "\n"
     ]
    },
    {
     "name": "stdout",
     "output_type": "stream",
     "text": [
      "[1] 25\n"
     ]
    },
    {
     "name": "stderr",
     "output_type": "stream",
     "text": [
      "Number of CDR3s in: ~/Desktop/H4H/INTERCEPT/NextSeq/batch13_cfDNA_11Sep2020/mixcr/clones/CLONES_TRBCHP_398-04_cfDNA.txt nonproductive removed\n",
      "\n"
     ]
    },
    {
     "name": "stdout",
     "output_type": "stream",
     "text": [
      "[1] 22\n"
     ]
    },
    {
     "name": "stderr",
     "output_type": "stream",
     "text": [
      "Number of CDR3s in: ~/Desktop/H4H/INTERCEPT/NextSeq/batch13_cfDNA_11Sep2020/mixcr/clones/CLONES_TRBCHP_400-05_cfDNA.txt\n",
      "\n"
     ]
    },
    {
     "name": "stdout",
     "output_type": "stream",
     "text": [
      "[1] 58\n"
     ]
    },
    {
     "name": "stderr",
     "output_type": "stream",
     "text": [
      "Number of CDR3s in: ~/Desktop/H4H/INTERCEPT/NextSeq/batch13_cfDNA_11Sep2020/mixcr/clones/CLONES_TRBCHP_400-05_cfDNA.txt nonproductive removed\n",
      "\n"
     ]
    },
    {
     "name": "stdout",
     "output_type": "stream",
     "text": [
      "[1] 40\n"
     ]
    },
    {
     "name": "stderr",
     "output_type": "stream",
     "text": [
      "Number of CDR3s in: ~/Desktop/H4H/INTERCEPT/NextSeq/batch13_cfDNA_11Sep2020/mixcr/clones/CLONES_TRBCHP_403-02_cfDNA.txt\n",
      "\n"
     ]
    },
    {
     "name": "stdout",
     "output_type": "stream",
     "text": [
      "[1] 33\n"
     ]
    },
    {
     "name": "stderr",
     "output_type": "stream",
     "text": [
      "Number of CDR3s in: ~/Desktop/H4H/INTERCEPT/NextSeq/batch13_cfDNA_11Sep2020/mixcr/clones/CLONES_TRBCHP_403-02_cfDNA.txt nonproductive removed\n",
      "\n"
     ]
    },
    {
     "name": "stdout",
     "output_type": "stream",
     "text": [
      "[1] 28\n"
     ]
    },
    {
     "name": "stderr",
     "output_type": "stream",
     "text": [
      "Number of CDR3s in: ~/Desktop/H4H/INTERCEPT/NextSeq/batch13_cfDNA_11Sep2020/mixcr/clones/CLONES_TRBCHP_404-05_cfDNA.txt\n",
      "\n"
     ]
    },
    {
     "name": "stdout",
     "output_type": "stream",
     "text": [
      "[1] 48\n"
     ]
    },
    {
     "name": "stderr",
     "output_type": "stream",
     "text": [
      "Number of CDR3s in: ~/Desktop/H4H/INTERCEPT/NextSeq/batch13_cfDNA_11Sep2020/mixcr/clones/CLONES_TRBCHP_404-05_cfDNA.txt nonproductive removed\n",
      "\n"
     ]
    },
    {
     "name": "stdout",
     "output_type": "stream",
     "text": [
      "[1] 35\n"
     ]
    },
    {
     "name": "stderr",
     "output_type": "stream",
     "text": [
      "Number of CDR3s in: ~/Desktop/H4H/INTERCEPT/NextSeq/batch13_cfDNA_11Sep2020/mixcr/clones/CLONES_TRBCHP_405-02_cfDNA.txt\n",
      "\n"
     ]
    },
    {
     "name": "stdout",
     "output_type": "stream",
     "text": [
      "[1] 52\n"
     ]
    },
    {
     "name": "stderr",
     "output_type": "stream",
     "text": [
      "Number of CDR3s in: ~/Desktop/H4H/INTERCEPT/NextSeq/batch13_cfDNA_11Sep2020/mixcr/clones/CLONES_TRBCHP_405-02_cfDNA.txt nonproductive removed\n",
      "\n"
     ]
    },
    {
     "name": "stdout",
     "output_type": "stream",
     "text": [
      "[1] 37\n"
     ]
    },
    {
     "name": "stderr",
     "output_type": "stream",
     "text": [
      "Number of CDR3s in: ~/Desktop/H4H/INTERCEPT/NextSeq/batch13_cfDNA_11Sep2020/mixcr/clones/CLONES_TRBCHP_411-02_cfDNA.txt\n",
      "\n"
     ]
    },
    {
     "name": "stdout",
     "output_type": "stream",
     "text": [
      "[1] 76\n"
     ]
    },
    {
     "name": "stderr",
     "output_type": "stream",
     "text": [
      "Number of CDR3s in: ~/Desktop/H4H/INTERCEPT/NextSeq/batch13_cfDNA_11Sep2020/mixcr/clones/CLONES_TRBCHP_411-02_cfDNA.txt nonproductive removed\n",
      "\n"
     ]
    },
    {
     "name": "stdout",
     "output_type": "stream",
     "text": [
      "[1] 60\n"
     ]
    },
    {
     "name": "stderr",
     "output_type": "stream",
     "text": [
      "Number of CDR3s in: ~/Desktop/H4H/INTERCEPT/NextSeq/batch13_cfDNA_11Sep2020/mixcr/clones/CLONES_TRBCHP_416-02_cfDNA.txt\n",
      "\n"
     ]
    },
    {
     "name": "stdout",
     "output_type": "stream",
     "text": [
      "[1] 34\n"
     ]
    },
    {
     "name": "stderr",
     "output_type": "stream",
     "text": [
      "Number of CDR3s in: ~/Desktop/H4H/INTERCEPT/NextSeq/batch13_cfDNA_11Sep2020/mixcr/clones/CLONES_TRBCHP_416-02_cfDNA.txt nonproductive removed\n",
      "\n"
     ]
    },
    {
     "name": "stdout",
     "output_type": "stream",
     "text": [
      "[1] 20\n"
     ]
    },
    {
     "name": "stderr",
     "output_type": "stream",
     "text": [
      "Number of CDR3s in: ~/Desktop/H4H/INTERCEPT/NextSeq/batch2_Aug62019/mixcr/clones/CLONES_TRBCHP_319-05-PBMC-DNA.txt\n",
      "\n"
     ]
    },
    {
     "name": "stdout",
     "output_type": "stream",
     "text": [
      "[1] 17\n"
     ]
    },
    {
     "name": "stderr",
     "output_type": "stream",
     "text": [
      "Number of CDR3s in: ~/Desktop/H4H/INTERCEPT/NextSeq/batch2_Aug62019/mixcr/clones/CLONES_TRBCHP_319-05-PBMC-DNA.txt nonproductive removed\n",
      "\n"
     ]
    },
    {
     "name": "stdout",
     "output_type": "stream",
     "text": [
      "[1] 15\n"
     ]
    },
    {
     "name": "stderr",
     "output_type": "stream",
     "text": [
      "Number of CDR3s in: ~/Desktop/H4H/INTERCEPT/NextSeq/batch2_Aug62019/mixcr/clones/CLONES_TRBCHP_329-04-PBMC-DNA.txt\n",
      "\n"
     ]
    },
    {
     "name": "stdout",
     "output_type": "stream",
     "text": [
      "[1] 14\n"
     ]
    },
    {
     "name": "stderr",
     "output_type": "stream",
     "text": [
      "Number of CDR3s in: ~/Desktop/H4H/INTERCEPT/NextSeq/batch2_Aug62019/mixcr/clones/CLONES_TRBCHP_329-04-PBMC-DNA.txt nonproductive removed\n",
      "\n"
     ]
    },
    {
     "name": "stdout",
     "output_type": "stream",
     "text": [
      "[1] 10\n"
     ]
    },
    {
     "name": "stderr",
     "output_type": "stream",
     "text": [
      "Number of CDR3s in: ~/Desktop/H4H/INTERCEPT/NextSeq/batch2_Aug62019/mixcr/clones/CLONES_TRBCHP_330-05-PBMC-DNA.txt\n",
      "\n"
     ]
    },
    {
     "name": "stdout",
     "output_type": "stream",
     "text": [
      "[1] 156\n"
     ]
    },
    {
     "name": "stderr",
     "output_type": "stream",
     "text": [
      "Number of CDR3s in: ~/Desktop/H4H/INTERCEPT/NextSeq/batch2_Aug62019/mixcr/clones/CLONES_TRBCHP_330-05-PBMC-DNA.txt nonproductive removed\n",
      "\n"
     ]
    },
    {
     "name": "stdout",
     "output_type": "stream",
     "text": [
      "[1] 132\n"
     ]
    },
    {
     "name": "stderr",
     "output_type": "stream",
     "text": [
      "Number of CDR3s in: ~/Desktop/H4H/INTERCEPT/NextSeq/batch2_Aug62019/mixcr/clones/CLONES_TRBCHP_331-04-PBMC-DNA.txt\n",
      "\n"
     ]
    },
    {
     "name": "stdout",
     "output_type": "stream",
     "text": [
      "[1] 47\n"
     ]
    },
    {
     "name": "stderr",
     "output_type": "stream",
     "text": [
      "Number of CDR3s in: ~/Desktop/H4H/INTERCEPT/NextSeq/batch2_Aug62019/mixcr/clones/CLONES_TRBCHP_331-04-PBMC-DNA.txt nonproductive removed\n",
      "\n"
     ]
    },
    {
     "name": "stdout",
     "output_type": "stream",
     "text": [
      "[1] 36\n"
     ]
    },
    {
     "name": "stderr",
     "output_type": "stream",
     "text": [
      "Number of CDR3s in: ~/Desktop/H4H/INTERCEPT/NextSeq/batch2_Aug62019/mixcr/clones/CLONES_TRBCHP_331-05-PBMC-DNA.txt\n",
      "\n"
     ]
    },
    {
     "name": "stdout",
     "output_type": "stream",
     "text": [
      "[1] 200\n"
     ]
    },
    {
     "name": "stderr",
     "output_type": "stream",
     "text": [
      "Number of CDR3s in: ~/Desktop/H4H/INTERCEPT/NextSeq/batch2_Aug62019/mixcr/clones/CLONES_TRBCHP_331-05-PBMC-DNA.txt nonproductive removed\n",
      "\n"
     ]
    },
    {
     "name": "stdout",
     "output_type": "stream",
     "text": [
      "[1] 157\n"
     ]
    },
    {
     "name": "stderr",
     "output_type": "stream",
     "text": [
      "Number of CDR3s in: ~/Desktop/H4H/INTERCEPT/NextSeq/batch2_Aug62019/mixcr/clones/CLONES_TRBCHP_338-04-PBMC-DNA.txt\n",
      "\n"
     ]
    },
    {
     "name": "stdout",
     "output_type": "stream",
     "text": [
      "[1] 198\n"
     ]
    },
    {
     "name": "stderr",
     "output_type": "stream",
     "text": [
      "Number of CDR3s in: ~/Desktop/H4H/INTERCEPT/NextSeq/batch2_Aug62019/mixcr/clones/CLONES_TRBCHP_338-04-PBMC-DNA.txt nonproductive removed\n",
      "\n"
     ]
    },
    {
     "name": "stdout",
     "output_type": "stream",
     "text": [
      "[1] 160\n"
     ]
    },
    {
     "name": "stderr",
     "output_type": "stream",
     "text": [
      "Number of CDR3s in: ~/Desktop/H4H/INTERCEPT/NextSeq/batch2_Aug62019/mixcr/clones/CLONES_TRBCHP_338-05-PBMC-DNA.txt\n",
      "\n"
     ]
    },
    {
     "name": "stdout",
     "output_type": "stream",
     "text": [
      "[1] 491\n"
     ]
    },
    {
     "name": "stderr",
     "output_type": "stream",
     "text": [
      "Number of CDR3s in: ~/Desktop/H4H/INTERCEPT/NextSeq/batch2_Aug62019/mixcr/clones/CLONES_TRBCHP_338-05-PBMC-DNA.txt nonproductive removed\n",
      "\n"
     ]
    },
    {
     "name": "stdout",
     "output_type": "stream",
     "text": [
      "[1] 390\n"
     ]
    },
    {
     "name": "stderr",
     "output_type": "stream",
     "text": [
      "Number of CDR3s in: ~/Desktop/H4H/INTERCEPT/NextSeq/batch2_Aug62019/mixcr/clones/CLONES_TRBCHP_342-04-PBMC-DNA.txt\n",
      "\n"
     ]
    },
    {
     "name": "stdout",
     "output_type": "stream",
     "text": [
      "[1] 48\n"
     ]
    },
    {
     "name": "stderr",
     "output_type": "stream",
     "text": [
      "Number of CDR3s in: ~/Desktop/H4H/INTERCEPT/NextSeq/batch2_Aug62019/mixcr/clones/CLONES_TRBCHP_342-04-PBMC-DNA.txt nonproductive removed\n",
      "\n"
     ]
    },
    {
     "name": "stdout",
     "output_type": "stream",
     "text": [
      "[1] 40\n"
     ]
    },
    {
     "name": "stderr",
     "output_type": "stream",
     "text": [
      "Number of CDR3s in: ~/Desktop/H4H/INTERCEPT/NextSeq/batch2_Aug62019/mixcr/clones/CLONES_TRBCHP_343-02-PBMC-DNA.txt\n",
      "\n"
     ]
    },
    {
     "name": "stdout",
     "output_type": "stream",
     "text": [
      "[1] 35\n"
     ]
    },
    {
     "name": "stderr",
     "output_type": "stream",
     "text": [
      "Number of CDR3s in: ~/Desktop/H4H/INTERCEPT/NextSeq/batch2_Aug62019/mixcr/clones/CLONES_TRBCHP_343-02-PBMC-DNA.txt nonproductive removed\n",
      "\n"
     ]
    },
    {
     "name": "stdout",
     "output_type": "stream",
     "text": [
      "[1] 25\n"
     ]
    },
    {
     "name": "stderr",
     "output_type": "stream",
     "text": [
      "Number of CDR3s in: ~/Desktop/H4H/INTERCEPT/NextSeq/batch2_Aug62019/mixcr/clones/CLONES_TRBCHP_343-03-PBMC-DNA.txt\n",
      "\n"
     ]
    },
    {
     "name": "stdout",
     "output_type": "stream",
     "text": [
      "[1] 54\n"
     ]
    },
    {
     "name": "stderr",
     "output_type": "stream",
     "text": [
      "Number of CDR3s in: ~/Desktop/H4H/INTERCEPT/NextSeq/batch2_Aug62019/mixcr/clones/CLONES_TRBCHP_343-03-PBMC-DNA.txt nonproductive removed\n",
      "\n"
     ]
    },
    {
     "name": "stdout",
     "output_type": "stream",
     "text": [
      "[1] 39\n"
     ]
    },
    {
     "name": "stderr",
     "output_type": "stream",
     "text": [
      "Number of CDR3s in: ~/Desktop/H4H/INTERCEPT/NextSeq/batch2_Aug62019/mixcr/clones/CLONES_TRBCHP_343-04-PBMC-DNA.txt\n",
      "\n"
     ]
    },
    {
     "name": "stdout",
     "output_type": "stream",
     "text": [
      "[1] 44\n"
     ]
    },
    {
     "name": "stderr",
     "output_type": "stream",
     "text": [
      "Number of CDR3s in: ~/Desktop/H4H/INTERCEPT/NextSeq/batch2_Aug62019/mixcr/clones/CLONES_TRBCHP_343-04-PBMC-DNA.txt nonproductive removed\n",
      "\n"
     ]
    },
    {
     "name": "stdout",
     "output_type": "stream",
     "text": [
      "[1] 40\n"
     ]
    },
    {
     "name": "stderr",
     "output_type": "stream",
     "text": [
      "Number of CDR3s in: ~/Desktop/H4H/INTERCEPT/NextSeq/batch2_Aug62019/mixcr/clones/CLONES_TRBCHP_343-05-PBMC-DNA.txt\n",
      "\n"
     ]
    },
    {
     "name": "stdout",
     "output_type": "stream",
     "text": [
      "[1] 65\n"
     ]
    },
    {
     "name": "stderr",
     "output_type": "stream",
     "text": [
      "Number of CDR3s in: ~/Desktop/H4H/INTERCEPT/NextSeq/batch2_Aug62019/mixcr/clones/CLONES_TRBCHP_343-05-PBMC-DNA.txt nonproductive removed\n",
      "\n"
     ]
    },
    {
     "name": "stdout",
     "output_type": "stream",
     "text": [
      "[1] 39\n"
     ]
    },
    {
     "name": "stderr",
     "output_type": "stream",
     "text": [
      "Number of CDR3s in: ~/Desktop/H4H/INTERCEPT/NextSeq/batch2_Aug62019/mixcr/clones/CLONES_TRBCHP_348-01-PBMC-DNA.txt\n",
      "\n"
     ]
    },
    {
     "name": "stdout",
     "output_type": "stream",
     "text": [
      "[1] 108\n"
     ]
    },
    {
     "name": "stderr",
     "output_type": "stream",
     "text": [
      "Number of CDR3s in: ~/Desktop/H4H/INTERCEPT/NextSeq/batch2_Aug62019/mixcr/clones/CLONES_TRBCHP_348-01-PBMC-DNA.txt nonproductive removed\n",
      "\n"
     ]
    },
    {
     "name": "stdout",
     "output_type": "stream",
     "text": [
      "[1] 90\n"
     ]
    },
    {
     "name": "stderr",
     "output_type": "stream",
     "text": [
      "Number of CDR3s in: ~/Desktop/H4H/INTERCEPT/NextSeq/batch2_Aug62019/mixcr/clones/CLONES_TRBCHP_348-02-PBMC-DNA.txt\n",
      "\n"
     ]
    },
    {
     "name": "stdout",
     "output_type": "stream",
     "text": [
      "[1] 59\n"
     ]
    },
    {
     "name": "stderr",
     "output_type": "stream",
     "text": [
      "Number of CDR3s in: ~/Desktop/H4H/INTERCEPT/NextSeq/batch2_Aug62019/mixcr/clones/CLONES_TRBCHP_348-02-PBMC-DNA.txt nonproductive removed\n",
      "\n"
     ]
    },
    {
     "name": "stdout",
     "output_type": "stream",
     "text": [
      "[1] 45\n"
     ]
    },
    {
     "name": "stderr",
     "output_type": "stream",
     "text": [
      "Number of CDR3s in: ~/Desktop/H4H/INTERCEPT/NextSeq/batch2_Aug62019/mixcr/clones/CLONES_TRBLFS_TCR-4535-PBMC-DNA.txt\n",
      "\n"
     ]
    },
    {
     "name": "stdout",
     "output_type": "stream",
     "text": [
      "[1] 196\n"
     ]
    },
    {
     "name": "stderr",
     "output_type": "stream",
     "text": [
      "Number of CDR3s in: ~/Desktop/H4H/INTERCEPT/NextSeq/batch2_Aug62019/mixcr/clones/CLONES_TRBLFS_TCR-4535-PBMC-DNA.txt nonproductive removed\n",
      "\n"
     ]
    },
    {
     "name": "stdout",
     "output_type": "stream",
     "text": [
      "[1] 146\n"
     ]
    },
    {
     "name": "stderr",
     "output_type": "stream",
     "text": [
      "Number of CDR3s in: ~/Desktop/H4H/INTERCEPT/NextSeq/batch2_Aug62019/mixcr/clones/CLONES_TRBLFS_TCR-4570-PBMC-DNA.txt\n",
      "\n"
     ]
    },
    {
     "name": "stdout",
     "output_type": "stream",
     "text": [
      "[1] 226\n"
     ]
    },
    {
     "name": "stderr",
     "output_type": "stream",
     "text": [
      "Number of CDR3s in: ~/Desktop/H4H/INTERCEPT/NextSeq/batch2_Aug62019/mixcr/clones/CLONES_TRBLFS_TCR-4570-PBMC-DNA.txt nonproductive removed\n",
      "\n"
     ]
    },
    {
     "name": "stdout",
     "output_type": "stream",
     "text": [
      "[1] 176\n"
     ]
    },
    {
     "name": "stderr",
     "output_type": "stream",
     "text": [
      "Number of CDR3s in: ~/Desktop/H4H/INTERCEPT/NextSeq/batch2_Aug62019/mixcr/clones/CLONES_TRBLFS_TCR-4602-PBMC-DNA.txt\n",
      "\n"
     ]
    },
    {
     "name": "stdout",
     "output_type": "stream",
     "text": [
      "[1] 220\n"
     ]
    },
    {
     "name": "stderr",
     "output_type": "stream",
     "text": [
      "Number of CDR3s in: ~/Desktop/H4H/INTERCEPT/NextSeq/batch2_Aug62019/mixcr/clones/CLONES_TRBLFS_TCR-4602-PBMC-DNA.txt nonproductive removed\n",
      "\n"
     ]
    },
    {
     "name": "stdout",
     "output_type": "stream",
     "text": [
      "[1] 166\n"
     ]
    },
    {
     "name": "stderr",
     "output_type": "stream",
     "text": [
      "Number of CDR3s in: ~/Desktop/H4H/INTERCEPT/NextSeq/batch2_Aug62019/mixcr/clones/CLONES_TRBLFS_TCR-4758-PBMC-DNA.txt\n",
      "\n"
     ]
    },
    {
     "name": "stdout",
     "output_type": "stream",
     "text": [
      "[1] 291\n"
     ]
    },
    {
     "name": "stderr",
     "output_type": "stream",
     "text": [
      "Number of CDR3s in: ~/Desktop/H4H/INTERCEPT/NextSeq/batch2_Aug62019/mixcr/clones/CLONES_TRBLFS_TCR-4758-PBMC-DNA.txt nonproductive removed\n",
      "\n"
     ]
    },
    {
     "name": "stdout",
     "output_type": "stream",
     "text": [
      "[1] 240\n"
     ]
    },
    {
     "name": "stderr",
     "output_type": "stream",
     "text": [
      "Number of CDR3s in: ~/Desktop/H4H/INTERCEPT/NextSeq/batch2_Aug62019/mixcr/clones/CLONES_TRBLFS_TCR-4759-PBMC-DNA.txt\n",
      "\n"
     ]
    },
    {
     "name": "stdout",
     "output_type": "stream",
     "text": [
      "[1] 215\n"
     ]
    },
    {
     "name": "stderr",
     "output_type": "stream",
     "text": [
      "Number of CDR3s in: ~/Desktop/H4H/INTERCEPT/NextSeq/batch2_Aug62019/mixcr/clones/CLONES_TRBLFS_TCR-4759-PBMC-DNA.txt nonproductive removed\n",
      "\n"
     ]
    },
    {
     "name": "stdout",
     "output_type": "stream",
     "text": [
      "[1] 169\n"
     ]
    },
    {
     "name": "stderr",
     "output_type": "stream",
     "text": [
      "Number of CDR3s in: ~/Desktop/H4H/INTERCEPT/NextSeq/batch2_Aug62019/mixcr/clones/CLONES_TRBLFS_TCR-4783-PBMC-DNA.txt\n",
      "\n"
     ]
    },
    {
     "name": "stdout",
     "output_type": "stream",
     "text": [
      "[1] 76\n"
     ]
    },
    {
     "name": "stderr",
     "output_type": "stream",
     "text": [
      "Number of CDR3s in: ~/Desktop/H4H/INTERCEPT/NextSeq/batch2_Aug62019/mixcr/clones/CLONES_TRBLFS_TCR-4783-PBMC-DNA.txt nonproductive removed\n",
      "\n"
     ]
    },
    {
     "name": "stdout",
     "output_type": "stream",
     "text": [
      "[1] 54\n"
     ]
    },
    {
     "name": "stderr",
     "output_type": "stream",
     "text": [
      "Number of CDR3s in: ~/Desktop/H4H/INTERCEPT/NextSeq/batch2_Aug62019/mixcr/clones/CLONES_TRBLFS_TCR-4837-PBMC-DNA.txt\n",
      "\n"
     ]
    },
    {
     "name": "stdout",
     "output_type": "stream",
     "text": [
      "[1] 244\n"
     ]
    },
    {
     "name": "stderr",
     "output_type": "stream",
     "text": [
      "Number of CDR3s in: ~/Desktop/H4H/INTERCEPT/NextSeq/batch2_Aug62019/mixcr/clones/CLONES_TRBLFS_TCR-4837-PBMC-DNA.txt nonproductive removed\n",
      "\n"
     ]
    },
    {
     "name": "stdout",
     "output_type": "stream",
     "text": [
      "[1] 205\n"
     ]
    },
    {
     "name": "stderr",
     "output_type": "stream",
     "text": [
      "Number of CDR3s in: ~/Desktop/H4H/INTERCEPT/NextSeq/batch2_Aug62019/mixcr/clones/CLONES_TRBLFS_TCR-4838-PBMC-DNA.txt\n",
      "\n"
     ]
    },
    {
     "name": "stdout",
     "output_type": "stream",
     "text": [
      "[1] 174\n"
     ]
    },
    {
     "name": "stderr",
     "output_type": "stream",
     "text": [
      "Number of CDR3s in: ~/Desktop/H4H/INTERCEPT/NextSeq/batch2_Aug62019/mixcr/clones/CLONES_TRBLFS_TCR-4838-PBMC-DNA.txt nonproductive removed\n",
      "\n"
     ]
    },
    {
     "name": "stdout",
     "output_type": "stream",
     "text": [
      "[1] 144\n"
     ]
    },
    {
     "name": "stderr",
     "output_type": "stream",
     "text": [
      "Number of CDR3s in: ~/Desktop/H4H/INTERCEPT/NextSeq/batch2_Aug62019/mixcr/clones/CLONES_TRBLFS_TCR-5014-PBMC-DNA.txt\n",
      "\n"
     ]
    },
    {
     "name": "stdout",
     "output_type": "stream",
     "text": [
      "[1] 191\n"
     ]
    },
    {
     "name": "stderr",
     "output_type": "stream",
     "text": [
      "Number of CDR3s in: ~/Desktop/H4H/INTERCEPT/NextSeq/batch2_Aug62019/mixcr/clones/CLONES_TRBLFS_TCR-5014-PBMC-DNA.txt nonproductive removed\n",
      "\n"
     ]
    },
    {
     "name": "stdout",
     "output_type": "stream",
     "text": [
      "[1] 143\n"
     ]
    },
    {
     "name": "stderr",
     "output_type": "stream",
     "text": [
      "Number of CDR3s in: ~/Desktop/H4H/INTERCEPT/NextSeq/batch2_Aug62019/mixcr/clones/CLONES_TRBLFS_TCR-5067-PBMC-DNA.txt\n",
      "\n"
     ]
    },
    {
     "name": "stdout",
     "output_type": "stream",
     "text": [
      "[1] 254\n"
     ]
    },
    {
     "name": "stderr",
     "output_type": "stream",
     "text": [
      "Number of CDR3s in: ~/Desktop/H4H/INTERCEPT/NextSeq/batch2_Aug62019/mixcr/clones/CLONES_TRBLFS_TCR-5067-PBMC-DNA.txt nonproductive removed\n",
      "\n"
     ]
    },
    {
     "name": "stdout",
     "output_type": "stream",
     "text": [
      "[1] 206\n"
     ]
    },
    {
     "name": "stderr",
     "output_type": "stream",
     "text": [
      "Number of CDR3s in: ~/Desktop/H4H/INTERCEPT/NextSeq/batch3_19Aug2019/mixcr/clones/CLONES_TRBCHP_339-05-PBMC-DNA.txt\n",
      "\n"
     ]
    },
    {
     "name": "stdout",
     "output_type": "stream",
     "text": [
      "[1] 408\n"
     ]
    },
    {
     "name": "stderr",
     "output_type": "stream",
     "text": [
      "Number of CDR3s in: ~/Desktop/H4H/INTERCEPT/NextSeq/batch3_19Aug2019/mixcr/clones/CLONES_TRBCHP_339-05-PBMC-DNA.txt nonproductive removed\n",
      "\n"
     ]
    },
    {
     "name": "stdout",
     "output_type": "stream",
     "text": [
      "[1] 268\n"
     ]
    },
    {
     "name": "stderr",
     "output_type": "stream",
     "text": [
      "Number of CDR3s in: ~/Desktop/H4H/INTERCEPT/NextSeq/batch3_19Aug2019/mixcr/clones/CLONES_TRBCHP_340-05-PBMC-DNA.txt\n",
      "\n"
     ]
    },
    {
     "name": "stdout",
     "output_type": "stream",
     "text": [
      "[1] 641\n"
     ]
    },
    {
     "name": "stderr",
     "output_type": "stream",
     "text": [
      "Number of CDR3s in: ~/Desktop/H4H/INTERCEPT/NextSeq/batch3_19Aug2019/mixcr/clones/CLONES_TRBCHP_340-05-PBMC-DNA.txt nonproductive removed\n",
      "\n"
     ]
    },
    {
     "name": "stdout",
     "output_type": "stream",
     "text": [
      "[1] 451\n"
     ]
    },
    {
     "name": "stderr",
     "output_type": "stream",
     "text": [
      "Number of CDR3s in: ~/Desktop/H4H/INTERCEPT/NextSeq/batch3_19Aug2019/mixcr/clones/CLONES_TRBCHP_345-04-PBMC-DNA.txt\n",
      "\n"
     ]
    },
    {
     "name": "stdout",
     "output_type": "stream",
     "text": [
      "[1] 336\n"
     ]
    },
    {
     "name": "stderr",
     "output_type": "stream",
     "text": [
      "Number of CDR3s in: ~/Desktop/H4H/INTERCEPT/NextSeq/batch3_19Aug2019/mixcr/clones/CLONES_TRBCHP_345-04-PBMC-DNA.txt nonproductive removed\n",
      "\n"
     ]
    },
    {
     "name": "stdout",
     "output_type": "stream",
     "text": [
      "[1] 228\n"
     ]
    },
    {
     "name": "stderr",
     "output_type": "stream",
     "text": [
      "Number of CDR3s in: ~/Desktop/H4H/INTERCEPT/NextSeq/batch3_19Aug2019/mixcr/clones/CLONES_TRBCHP_345-05-PBMC-DNA.txt\n",
      "\n"
     ]
    },
    {
     "name": "stdout",
     "output_type": "stream",
     "text": [
      "[1] 213\n"
     ]
    },
    {
     "name": "stderr",
     "output_type": "stream",
     "text": [
      "Number of CDR3s in: ~/Desktop/H4H/INTERCEPT/NextSeq/batch3_19Aug2019/mixcr/clones/CLONES_TRBCHP_345-05-PBMC-DNA.txt nonproductive removed\n",
      "\n"
     ]
    },
    {
     "name": "stdout",
     "output_type": "stream",
     "text": [
      "[1] 158\n"
     ]
    },
    {
     "name": "stderr",
     "output_type": "stream",
     "text": [
      "Number of CDR3s in: ~/Desktop/H4H/INTERCEPT/NextSeq/batch3_19Aug2019/mixcr/clones/CLONES_TRBCHP_350-05-PBMC-DNA.txt\n",
      "\n"
     ]
    },
    {
     "name": "stdout",
     "output_type": "stream",
     "text": [
      "[1] 78\n"
     ]
    },
    {
     "name": "stderr",
     "output_type": "stream",
     "text": [
      "Number of CDR3s in: ~/Desktop/H4H/INTERCEPT/NextSeq/batch3_19Aug2019/mixcr/clones/CLONES_TRBCHP_350-05-PBMC-DNA.txt nonproductive removed\n",
      "\n"
     ]
    },
    {
     "name": "stdout",
     "output_type": "stream",
     "text": [
      "[1] 55\n"
     ]
    },
    {
     "name": "stderr",
     "output_type": "stream",
     "text": [
      "Number of CDR3s in: ~/Desktop/H4H/INTERCEPT/NextSeq/batch3_19Aug2019/mixcr/clones/CLONES_TRBCHP_358-03-PBMC-DNA.txt\n",
      "\n"
     ]
    },
    {
     "name": "stdout",
     "output_type": "stream",
     "text": [
      "[1] 880\n"
     ]
    },
    {
     "name": "stderr",
     "output_type": "stream",
     "text": [
      "Number of CDR3s in: ~/Desktop/H4H/INTERCEPT/NextSeq/batch3_19Aug2019/mixcr/clones/CLONES_TRBCHP_358-03-PBMC-DNA.txt nonproductive removed\n",
      "\n"
     ]
    },
    {
     "name": "stdout",
     "output_type": "stream",
     "text": [
      "[1] 681\n"
     ]
    },
    {
     "name": "stderr",
     "output_type": "stream",
     "text": [
      "Number of CDR3s in: ~/Desktop/H4H/INTERCEPT/NextSeq/batch3_19Aug2019/mixcr/clones/CLONES_TRBCHP_358-05-PBMC-DNA.txt\n",
      "\n"
     ]
    },
    {
     "name": "stdout",
     "output_type": "stream",
     "text": [
      "[1] 896\n"
     ]
    },
    {
     "name": "stderr",
     "output_type": "stream",
     "text": [
      "Number of CDR3s in: ~/Desktop/H4H/INTERCEPT/NextSeq/batch3_19Aug2019/mixcr/clones/CLONES_TRBCHP_358-05-PBMC-DNA.txt nonproductive removed\n",
      "\n"
     ]
    },
    {
     "name": "stdout",
     "output_type": "stream",
     "text": [
      "[1] 669\n"
     ]
    },
    {
     "name": "stderr",
     "output_type": "stream",
     "text": [
      "Number of CDR3s in: ~/Desktop/H4H/INTERCEPT/NextSeq/batch3_19Aug2019/mixcr/clones/CLONES_TRBCHP_360-03-PBMC-DNA.txt\n",
      "\n"
     ]
    },
    {
     "name": "stdout",
     "output_type": "stream",
     "text": [
      "[1] 372\n"
     ]
    },
    {
     "name": "stderr",
     "output_type": "stream",
     "text": [
      "Number of CDR3s in: ~/Desktop/H4H/INTERCEPT/NextSeq/batch3_19Aug2019/mixcr/clones/CLONES_TRBCHP_360-03-PBMC-DNA.txt nonproductive removed\n",
      "\n"
     ]
    },
    {
     "name": "stdout",
     "output_type": "stream",
     "text": [
      "[1] 263\n"
     ]
    },
    {
     "name": "stderr",
     "output_type": "stream",
     "text": [
      "Number of CDR3s in: ~/Desktop/H4H/INTERCEPT/NextSeq/batch3_19Aug2019/mixcr/clones/CLONES_TRBCHP_361-02-PBMC-DNA.txt\n",
      "\n"
     ]
    },
    {
     "name": "stdout",
     "output_type": "stream",
     "text": [
      "[1] 159\n"
     ]
    },
    {
     "name": "stderr",
     "output_type": "stream",
     "text": [
      "Number of CDR3s in: ~/Desktop/H4H/INTERCEPT/NextSeq/batch3_19Aug2019/mixcr/clones/CLONES_TRBCHP_361-02-PBMC-DNA.txt nonproductive removed\n",
      "\n"
     ]
    },
    {
     "name": "stdout",
     "output_type": "stream",
     "text": [
      "[1] 118\n"
     ]
    },
    {
     "name": "stderr",
     "output_type": "stream",
     "text": [
      "Number of CDR3s in: ~/Desktop/H4H/INTERCEPT/NextSeq/batch3_19Aug2019/mixcr/clones/CLONES_TRBCHP_361-03-PBMC-DNA.txt\n",
      "\n"
     ]
    },
    {
     "name": "stdout",
     "output_type": "stream",
     "text": [
      "[1] 67\n"
     ]
    },
    {
     "name": "stderr",
     "output_type": "stream",
     "text": [
      "Number of CDR3s in: ~/Desktop/H4H/INTERCEPT/NextSeq/batch3_19Aug2019/mixcr/clones/CLONES_TRBCHP_361-03-PBMC-DNA.txt nonproductive removed\n",
      "\n"
     ]
    },
    {
     "name": "stdout",
     "output_type": "stream",
     "text": [
      "[1] 49\n"
     ]
    },
    {
     "name": "stderr",
     "output_type": "stream",
     "text": [
      "Number of CDR3s in: ~/Desktop/H4H/INTERCEPT/NextSeq/batch3_19Aug2019/mixcr/clones/CLONES_TRBCHP_365-03-PBMC-DNA.txt\n",
      "\n"
     ]
    },
    {
     "name": "stdout",
     "output_type": "stream",
     "text": [
      "[1] 166\n"
     ]
    },
    {
     "name": "stderr",
     "output_type": "stream",
     "text": [
      "Number of CDR3s in: ~/Desktop/H4H/INTERCEPT/NextSeq/batch3_19Aug2019/mixcr/clones/CLONES_TRBCHP_365-03-PBMC-DNA.txt nonproductive removed\n",
      "\n"
     ]
    },
    {
     "name": "stdout",
     "output_type": "stream",
     "text": [
      "[1] 123\n"
     ]
    },
    {
     "name": "stderr",
     "output_type": "stream",
     "text": [
      "Number of CDR3s in: ~/Desktop/H4H/INTERCEPT/NextSeq/batch3_19Aug2019/mixcr/clones/CLONES_TRBCHP_368-05-PBMC-DNA.txt\n",
      "\n"
     ]
    },
    {
     "name": "stdout",
     "output_type": "stream",
     "text": [
      "[1] 688\n"
     ]
    },
    {
     "name": "stderr",
     "output_type": "stream",
     "text": [
      "Number of CDR3s in: ~/Desktop/H4H/INTERCEPT/NextSeq/batch3_19Aug2019/mixcr/clones/CLONES_TRBCHP_368-05-PBMC-DNA.txt nonproductive removed\n",
      "\n"
     ]
    },
    {
     "name": "stdout",
     "output_type": "stream",
     "text": [
      "[1] 472\n"
     ]
    },
    {
     "name": "stderr",
     "output_type": "stream",
     "text": [
      "Number of CDR3s in: ~/Desktop/H4H/INTERCEPT/NextSeq/batch3_19Aug2019/mixcr/clones/CLONES_TRBCHP_370-02-PBMC-DNA.txt\n",
      "\n"
     ]
    },
    {
     "name": "stdout",
     "output_type": "stream",
     "text": [
      "[1] 697\n"
     ]
    },
    {
     "name": "stderr",
     "output_type": "stream",
     "text": [
      "Number of CDR3s in: ~/Desktop/H4H/INTERCEPT/NextSeq/batch3_19Aug2019/mixcr/clones/CLONES_TRBCHP_370-02-PBMC-DNA.txt nonproductive removed\n",
      "\n"
     ]
    },
    {
     "name": "stdout",
     "output_type": "stream",
     "text": [
      "[1] 554\n"
     ]
    },
    {
     "name": "stderr",
     "output_type": "stream",
     "text": [
      "Number of CDR3s in: ~/Desktop/H4H/INTERCEPT/NextSeq/batch3_19Aug2019/mixcr/clones/CLONES_TRBCHP_373-01-PBMC-DNA.txt\n",
      "\n"
     ]
    },
    {
     "name": "stdout",
     "output_type": "stream",
     "text": [
      "[1] 395\n"
     ]
    },
    {
     "name": "stderr",
     "output_type": "stream",
     "text": [
      "Number of CDR3s in: ~/Desktop/H4H/INTERCEPT/NextSeq/batch3_19Aug2019/mixcr/clones/CLONES_TRBCHP_373-01-PBMC-DNA.txt nonproductive removed\n",
      "\n"
     ]
    },
    {
     "name": "stdout",
     "output_type": "stream",
     "text": [
      "[1] 287\n"
     ]
    },
    {
     "name": "stderr",
     "output_type": "stream",
     "text": [
      "Number of CDR3s in: ~/Desktop/H4H/INTERCEPT/NextSeq/batch3_19Aug2019/mixcr/clones/CLONES_TRBCHP_374-03-PBMC-DNA.txt\n",
      "\n"
     ]
    },
    {
     "name": "stdout",
     "output_type": "stream",
     "text": [
      "[1] 133\n"
     ]
    },
    {
     "name": "stderr",
     "output_type": "stream",
     "text": [
      "Number of CDR3s in: ~/Desktop/H4H/INTERCEPT/NextSeq/batch3_19Aug2019/mixcr/clones/CLONES_TRBCHP_374-03-PBMC-DNA.txt nonproductive removed\n",
      "\n"
     ]
    },
    {
     "name": "stdout",
     "output_type": "stream",
     "text": [
      "[1] 94\n"
     ]
    },
    {
     "name": "stderr",
     "output_type": "stream",
     "text": [
      "Number of CDR3s in: ~/Desktop/H4H/INTERCEPT/NextSeq/batch3_19Aug2019/mixcr/clones/CLONES_TRBCHP_374-04-PBMC-DNA.txt\n",
      "\n"
     ]
    },
    {
     "name": "stdout",
     "output_type": "stream",
     "text": [
      "[1] 144\n"
     ]
    },
    {
     "name": "stderr",
     "output_type": "stream",
     "text": [
      "Number of CDR3s in: ~/Desktop/H4H/INTERCEPT/NextSeq/batch3_19Aug2019/mixcr/clones/CLONES_TRBCHP_374-04-PBMC-DNA.txt nonproductive removed\n",
      "\n"
     ]
    },
    {
     "name": "stdout",
     "output_type": "stream",
     "text": [
      "[1] 98\n"
     ]
    },
    {
     "name": "stderr",
     "output_type": "stream",
     "text": [
      "Number of CDR3s in: ~/Desktop/H4H/INTERCEPT/NextSeq/batch3_19Aug2019/mixcr/clones/CLONES_TRBCHP_374-05-PBMC-DNA.txt\n",
      "\n"
     ]
    },
    {
     "name": "stdout",
     "output_type": "stream",
     "text": [
      "[1] 46\n"
     ]
    },
    {
     "name": "stderr",
     "output_type": "stream",
     "text": [
      "Number of CDR3s in: ~/Desktop/H4H/INTERCEPT/NextSeq/batch3_19Aug2019/mixcr/clones/CLONES_TRBCHP_374-05-PBMC-DNA.txt nonproductive removed\n",
      "\n"
     ]
    },
    {
     "name": "stdout",
     "output_type": "stream",
     "text": [
      "[1] 35\n"
     ]
    },
    {
     "name": "stderr",
     "output_type": "stream",
     "text": [
      "Number of CDR3s in: ~/Desktop/H4H/INTERCEPT/NextSeq/batch3_19Aug2019/mixcr/clones/CLONES_TRBCHP_376-03-PBMC-DNA.txt\n",
      "\n"
     ]
    },
    {
     "name": "stdout",
     "output_type": "stream",
     "text": [
      "[1] 644\n"
     ]
    },
    {
     "name": "stderr",
     "output_type": "stream",
     "text": [
      "Number of CDR3s in: ~/Desktop/H4H/INTERCEPT/NextSeq/batch3_19Aug2019/mixcr/clones/CLONES_TRBCHP_376-03-PBMC-DNA.txt nonproductive removed\n",
      "\n"
     ]
    },
    {
     "name": "stdout",
     "output_type": "stream",
     "text": [
      "[1] 484\n"
     ]
    },
    {
     "name": "stderr",
     "output_type": "stream",
     "text": [
      "Number of CDR3s in: ~/Desktop/H4H/INTERCEPT/NextSeq/batch3_19Aug2019/mixcr/clones/CLONES_TRBCHP_378-01-PBMC-DNA.txt\n",
      "\n"
     ]
    },
    {
     "name": "stdout",
     "output_type": "stream",
     "text": [
      "[1] 807\n"
     ]
    },
    {
     "name": "stderr",
     "output_type": "stream",
     "text": [
      "Number of CDR3s in: ~/Desktop/H4H/INTERCEPT/NextSeq/batch3_19Aug2019/mixcr/clones/CLONES_TRBCHP_378-01-PBMC-DNA.txt nonproductive removed\n",
      "\n"
     ]
    },
    {
     "name": "stdout",
     "output_type": "stream",
     "text": [
      "[1] 606\n"
     ]
    },
    {
     "name": "stderr",
     "output_type": "stream",
     "text": [
      "Number of CDR3s in: ~/Desktop/H4H/INTERCEPT/NextSeq/batch3_19Aug2019/mixcr/clones/CLONES_TRBCHP_380-02-PBMC-DNA.txt\n",
      "\n"
     ]
    },
    {
     "name": "stdout",
     "output_type": "stream",
     "text": [
      "[1] 108\n"
     ]
    },
    {
     "name": "stderr",
     "output_type": "stream",
     "text": [
      "Number of CDR3s in: ~/Desktop/H4H/INTERCEPT/NextSeq/batch3_19Aug2019/mixcr/clones/CLONES_TRBCHP_380-02-PBMC-DNA.txt nonproductive removed\n",
      "\n"
     ]
    },
    {
     "name": "stdout",
     "output_type": "stream",
     "text": [
      "[1] 82\n"
     ]
    },
    {
     "name": "stderr",
     "output_type": "stream",
     "text": [
      "Number of CDR3s in: ~/Desktop/H4H/INTERCEPT/NextSeq/batch3_19Aug2019/mixcr/clones/CLONES_TRBCHP_381-02-PBMC-DNA.txt\n",
      "\n"
     ]
    },
    {
     "name": "stdout",
     "output_type": "stream",
     "text": [
      "[1] 1056\n"
     ]
    },
    {
     "name": "stderr",
     "output_type": "stream",
     "text": [
      "Number of CDR3s in: ~/Desktop/H4H/INTERCEPT/NextSeq/batch3_19Aug2019/mixcr/clones/CLONES_TRBCHP_381-02-PBMC-DNA.txt nonproductive removed\n",
      "\n"
     ]
    },
    {
     "name": "stdout",
     "output_type": "stream",
     "text": [
      "[1] 762\n"
     ]
    },
    {
     "name": "stderr",
     "output_type": "stream",
     "text": [
      "Number of CDR3s in: ~/Desktop/H4H/INTERCEPT/NextSeq/batch3a9_cfDNA_10Jul2020/mixcr/clones/CLONES_TRBCHP_323-03_cfDNA.txt\n",
      "\n"
     ]
    },
    {
     "name": "stdout",
     "output_type": "stream",
     "text": [
      "[1] 136\n"
     ]
    },
    {
     "name": "stderr",
     "output_type": "stream",
     "text": [
      "Number of CDR3s in: ~/Desktop/H4H/INTERCEPT/NextSeq/batch3a9_cfDNA_10Jul2020/mixcr/clones/CLONES_TRBCHP_323-03_cfDNA.txt nonproductive removed\n",
      "\n"
     ]
    },
    {
     "name": "stdout",
     "output_type": "stream",
     "text": [
      "[1] 103\n"
     ]
    },
    {
     "name": "stderr",
     "output_type": "stream",
     "text": [
      "Number of CDR3s in: ~/Desktop/H4H/INTERCEPT/NextSeq/batch3a9_cfDNA_10Jul2020/mixcr/clones/CLONES_TRBCHP_330-04_cfDNA.txt\n",
      "\n"
     ]
    },
    {
     "name": "stdout",
     "output_type": "stream",
     "text": [
      "[1] 4\n"
     ]
    },
    {
     "name": "stderr",
     "output_type": "stream",
     "text": [
      "Number of CDR3s in: ~/Desktop/H4H/INTERCEPT/NextSeq/batch3a9_cfDNA_10Jul2020/mixcr/clones/CLONES_TRBCHP_330-04_cfDNA.txt nonproductive removed\n",
      "\n"
     ]
    },
    {
     "name": "stdout",
     "output_type": "stream",
     "text": [
      "[1] 4\n"
     ]
    },
    {
     "name": "stderr",
     "output_type": "stream",
     "text": [
      "Number of CDR3s in: ~/Desktop/H4H/INTERCEPT/NextSeq/batch3a9_cfDNA_10Jul2020/mixcr/clones/CLONES_TRBCHP_337-03_cfDNA.txt\n",
      "\n"
     ]
    },
    {
     "name": "stdout",
     "output_type": "stream",
     "text": [
      "[1] 13\n"
     ]
    },
    {
     "name": "stderr",
     "output_type": "stream",
     "text": [
      "Number of CDR3s in: ~/Desktop/H4H/INTERCEPT/NextSeq/batch3a9_cfDNA_10Jul2020/mixcr/clones/CLONES_TRBCHP_337-03_cfDNA.txt nonproductive removed\n",
      "\n"
     ]
    },
    {
     "name": "stdout",
     "output_type": "stream",
     "text": [
      "[1] 7\n"
     ]
    },
    {
     "name": "stderr",
     "output_type": "stream",
     "text": [
      "Number of CDR3s in: ~/Desktop/H4H/INTERCEPT/NextSeq/batch3a9_cfDNA_10Jul2020/mixcr/clones/CLONES_TRBCHP_337-04_cfDNA.txt\n",
      "\n"
     ]
    },
    {
     "name": "stdout",
     "output_type": "stream",
     "text": [
      "[1] 18\n"
     ]
    },
    {
     "name": "stderr",
     "output_type": "stream",
     "text": [
      "Number of CDR3s in: ~/Desktop/H4H/INTERCEPT/NextSeq/batch3a9_cfDNA_10Jul2020/mixcr/clones/CLONES_TRBCHP_337-04_cfDNA.txt nonproductive removed\n",
      "\n"
     ]
    },
    {
     "name": "stdout",
     "output_type": "stream",
     "text": [
      "[1] 11\n"
     ]
    },
    {
     "name": "stderr",
     "output_type": "stream",
     "text": [
      "Number of CDR3s in: ~/Desktop/H4H/INTERCEPT/NextSeq/batch3a9_cfDNA_10Jul2020/mixcr/clones/CLONES_TRBCHP_344-02_cfDNA.txt\n",
      "\n"
     ]
    },
    {
     "name": "stdout",
     "output_type": "stream",
     "text": [
      "[1] 12\n"
     ]
    },
    {
     "name": "stderr",
     "output_type": "stream",
     "text": [
      "Number of CDR3s in: ~/Desktop/H4H/INTERCEPT/NextSeq/batch3a9_cfDNA_10Jul2020/mixcr/clones/CLONES_TRBCHP_344-02_cfDNA.txt nonproductive removed\n",
      "\n"
     ]
    },
    {
     "name": "stdout",
     "output_type": "stream",
     "text": [
      "[1] 9\n"
     ]
    },
    {
     "name": "stderr",
     "output_type": "stream",
     "text": [
      "Number of CDR3s in: ~/Desktop/H4H/INTERCEPT/NextSeq/batch3a9_cfDNA_10Jul2020/mixcr/clones/CLONES_TRBCHP_344-04_cfDNA.txt\n",
      "\n"
     ]
    },
    {
     "name": "stdout",
     "output_type": "stream",
     "text": [
      "[1] 7\n"
     ]
    },
    {
     "name": "stderr",
     "output_type": "stream",
     "text": [
      "Number of CDR3s in: ~/Desktop/H4H/INTERCEPT/NextSeq/batch3a9_cfDNA_10Jul2020/mixcr/clones/CLONES_TRBCHP_344-04_cfDNA.txt nonproductive removed\n",
      "\n"
     ]
    },
    {
     "name": "stdout",
     "output_type": "stream",
     "text": [
      "[1] 6\n"
     ]
    },
    {
     "name": "stderr",
     "output_type": "stream",
     "text": [
      "Number of CDR3s in: ~/Desktop/H4H/INTERCEPT/NextSeq/batch3a9_cfDNA_10Jul2020/mixcr/clones/CLONES_TRBCHP_344-05_cfDNA.txt\n",
      "\n"
     ]
    },
    {
     "name": "stdout",
     "output_type": "stream",
     "text": [
      "[1] 4\n"
     ]
    },
    {
     "name": "stderr",
     "output_type": "stream",
     "text": [
      "Number of CDR3s in: ~/Desktop/H4H/INTERCEPT/NextSeq/batch3a9_cfDNA_10Jul2020/mixcr/clones/CLONES_TRBCHP_344-05_cfDNA.txt nonproductive removed\n",
      "\n"
     ]
    },
    {
     "name": "stdout",
     "output_type": "stream",
     "text": [
      "[1] 2\n"
     ]
    },
    {
     "name": "stderr",
     "output_type": "stream",
     "text": [
      "Number of CDR3s in: ~/Desktop/H4H/INTERCEPT/NextSeq/batch3a9_cfDNA_10Jul2020/mixcr/clones/CLONES_TRBCHP_345-01_cfDNA.txt\n",
      "\n"
     ]
    },
    {
     "name": "stdout",
     "output_type": "stream",
     "text": [
      "[1] 51\n"
     ]
    },
    {
     "name": "stderr",
     "output_type": "stream",
     "text": [
      "Number of CDR3s in: ~/Desktop/H4H/INTERCEPT/NextSeq/batch3a9_cfDNA_10Jul2020/mixcr/clones/CLONES_TRBCHP_345-01_cfDNA.txt nonproductive removed\n",
      "\n"
     ]
    },
    {
     "name": "stdout",
     "output_type": "stream",
     "text": [
      "[1] 33\n"
     ]
    },
    {
     "name": "stderr",
     "output_type": "stream",
     "text": [
      "Number of CDR3s in: ~/Desktop/H4H/INTERCEPT/NextSeq/batch3a9_cfDNA_10Jul2020/mixcr/clones/CLONES_TRBCHP_353-02_cfDNA.txt\n",
      "\n"
     ]
    },
    {
     "name": "stdout",
     "output_type": "stream",
     "text": [
      "[1] 30\n"
     ]
    },
    {
     "name": "stderr",
     "output_type": "stream",
     "text": [
      "Number of CDR3s in: ~/Desktop/H4H/INTERCEPT/NextSeq/batch3a9_cfDNA_10Jul2020/mixcr/clones/CLONES_TRBCHP_353-02_cfDNA.txt nonproductive removed\n",
      "\n"
     ]
    },
    {
     "name": "stdout",
     "output_type": "stream",
     "text": [
      "[1] 25\n"
     ]
    },
    {
     "name": "stderr",
     "output_type": "stream",
     "text": [
      "Number of CDR3s in: ~/Desktop/H4H/INTERCEPT/NextSeq/batch3a9_cfDNA_10Jul2020/mixcr/clones/CLONES_TRBCHP_353-04_cfDNA.txt\n",
      "\n"
     ]
    },
    {
     "name": "stdout",
     "output_type": "stream",
     "text": [
      "[1] 58\n"
     ]
    },
    {
     "name": "stderr",
     "output_type": "stream",
     "text": [
      "Number of CDR3s in: ~/Desktop/H4H/INTERCEPT/NextSeq/batch3a9_cfDNA_10Jul2020/mixcr/clones/CLONES_TRBCHP_353-04_cfDNA.txt nonproductive removed\n",
      "\n"
     ]
    },
    {
     "name": "stdout",
     "output_type": "stream",
     "text": [
      "[1] 44\n"
     ]
    },
    {
     "name": "stderr",
     "output_type": "stream",
     "text": [
      "Number of CDR3s in: ~/Desktop/H4H/INTERCEPT/NextSeq/batch3a9_cfDNA_10Jul2020/mixcr/clones/CLONES_TRBCHP_357-01_cfDNA.txt\n",
      "\n"
     ]
    },
    {
     "name": "stdout",
     "output_type": "stream",
     "text": [
      "[1] 32\n"
     ]
    },
    {
     "name": "stderr",
     "output_type": "stream",
     "text": [
      "Number of CDR3s in: ~/Desktop/H4H/INTERCEPT/NextSeq/batch3a9_cfDNA_10Jul2020/mixcr/clones/CLONES_TRBCHP_357-01_cfDNA.txt nonproductive removed\n",
      "\n"
     ]
    },
    {
     "name": "stdout",
     "output_type": "stream",
     "text": [
      "[1] 22\n"
     ]
    },
    {
     "name": "stderr",
     "output_type": "stream",
     "text": [
      "Number of CDR3s in: ~/Desktop/H4H/INTERCEPT/NextSeq/batch3a9_cfDNA_10Jul2020/mixcr/clones/CLONES_TRBCHP_357-04_cfDNA.txt\n",
      "\n"
     ]
    },
    {
     "name": "stdout",
     "output_type": "stream",
     "text": [
      "[1] 22\n"
     ]
    },
    {
     "name": "stderr",
     "output_type": "stream",
     "text": [
      "Number of CDR3s in: ~/Desktop/H4H/INTERCEPT/NextSeq/batch3a9_cfDNA_10Jul2020/mixcr/clones/CLONES_TRBCHP_357-04_cfDNA.txt nonproductive removed\n",
      "\n"
     ]
    },
    {
     "name": "stdout",
     "output_type": "stream",
     "text": [
      "[1] 16\n"
     ]
    },
    {
     "name": "stderr",
     "output_type": "stream",
     "text": [
      "Number of CDR3s in: ~/Desktop/H4H/INTERCEPT/NextSeq/batch3a9_cfDNA_10Jul2020/mixcr/clones/CLONES_TRBCHP_358-01_cfDNA.txt\n",
      "\n"
     ]
    },
    {
     "name": "stdout",
     "output_type": "stream",
     "text": [
      "[1] 84\n"
     ]
    },
    {
     "name": "stderr",
     "output_type": "stream",
     "text": [
      "Number of CDR3s in: ~/Desktop/H4H/INTERCEPT/NextSeq/batch3a9_cfDNA_10Jul2020/mixcr/clones/CLONES_TRBCHP_358-01_cfDNA.txt nonproductive removed\n",
      "\n"
     ]
    },
    {
     "name": "stdout",
     "output_type": "stream",
     "text": [
      "[1] 60\n"
     ]
    },
    {
     "name": "stderr",
     "output_type": "stream",
     "text": [
      "Number of CDR3s in: ~/Desktop/H4H/INTERCEPT/NextSeq/batch3a9_cfDNA_10Jul2020/mixcr/clones/CLONES_TRBCHP_358-03_cfDNA.txt\n",
      "\n"
     ]
    },
    {
     "name": "stdout",
     "output_type": "stream",
     "text": [
      "[1] 49\n"
     ]
    },
    {
     "name": "stderr",
     "output_type": "stream",
     "text": [
      "Number of CDR3s in: ~/Desktop/H4H/INTERCEPT/NextSeq/batch3a9_cfDNA_10Jul2020/mixcr/clones/CLONES_TRBCHP_358-03_cfDNA.txt nonproductive removed\n",
      "\n"
     ]
    },
    {
     "name": "stdout",
     "output_type": "stream",
     "text": [
      "[1] 43\n"
     ]
    },
    {
     "name": "stderr",
     "output_type": "stream",
     "text": [
      "Number of CDR3s in: ~/Desktop/H4H/INTERCEPT/NextSeq/batch3a9_cfDNA_10Jul2020/mixcr/clones/CLONES_TRBCHP_359-02_cfDNA.txt\n",
      "\n"
     ]
    },
    {
     "name": "stdout",
     "output_type": "stream",
     "text": [
      "[1] 60\n"
     ]
    },
    {
     "name": "stderr",
     "output_type": "stream",
     "text": [
      "Number of CDR3s in: ~/Desktop/H4H/INTERCEPT/NextSeq/batch3a9_cfDNA_10Jul2020/mixcr/clones/CLONES_TRBCHP_359-02_cfDNA.txt nonproductive removed\n",
      "\n"
     ]
    },
    {
     "name": "stdout",
     "output_type": "stream",
     "text": [
      "[1] 50\n"
     ]
    },
    {
     "name": "stderr",
     "output_type": "stream",
     "text": [
      "Number of CDR3s in: ~/Desktop/H4H/INTERCEPT/NextSeq/batch3a9_cfDNA_10Jul2020/mixcr/clones/CLONES_TRBCHP_362-03_cfDNA.txt\n",
      "\n"
     ]
    },
    {
     "name": "stdout",
     "output_type": "stream",
     "text": [
      "[1] 8\n"
     ]
    },
    {
     "name": "stderr",
     "output_type": "stream",
     "text": [
      "Number of CDR3s in: ~/Desktop/H4H/INTERCEPT/NextSeq/batch3a9_cfDNA_10Jul2020/mixcr/clones/CLONES_TRBCHP_362-03_cfDNA.txt nonproductive removed\n",
      "\n"
     ]
    },
    {
     "name": "stdout",
     "output_type": "stream",
     "text": [
      "[1] 5\n"
     ]
    },
    {
     "name": "stderr",
     "output_type": "stream",
     "text": [
      "Number of CDR3s in: ~/Desktop/H4H/INTERCEPT/NextSeq/batch3a9_cfDNA_10Jul2020/mixcr/clones/CLONES_TRBCHP_366-01_cfDNA.txt\n",
      "\n"
     ]
    },
    {
     "name": "stdout",
     "output_type": "stream",
     "text": [
      "[1] 24\n"
     ]
    },
    {
     "name": "stderr",
     "output_type": "stream",
     "text": [
      "Number of CDR3s in: ~/Desktop/H4H/INTERCEPT/NextSeq/batch3a9_cfDNA_10Jul2020/mixcr/clones/CLONES_TRBCHP_366-01_cfDNA.txt nonproductive removed\n",
      "\n"
     ]
    },
    {
     "name": "stdout",
     "output_type": "stream",
     "text": [
      "[1] 13\n"
     ]
    },
    {
     "name": "stderr",
     "output_type": "stream",
     "text": [
      "Number of CDR3s in: ~/Desktop/H4H/INTERCEPT/NextSeq/batch3a9_cfDNA_10Jul2020/mixcr/clones/CLONES_TRBCHP_368-02_cfDNA.txt\n",
      "\n"
     ]
    },
    {
     "name": "stdout",
     "output_type": "stream",
     "text": [
      "[1] 8\n"
     ]
    },
    {
     "name": "stderr",
     "output_type": "stream",
     "text": [
      "Number of CDR3s in: ~/Desktop/H4H/INTERCEPT/NextSeq/batch3a9_cfDNA_10Jul2020/mixcr/clones/CLONES_TRBCHP_368-02_cfDNA.txt nonproductive removed\n",
      "\n"
     ]
    },
    {
     "name": "stdout",
     "output_type": "stream",
     "text": [
      "[1] 8\n"
     ]
    },
    {
     "name": "stderr",
     "output_type": "stream",
     "text": [
      "Number of CDR3s in: ~/Desktop/H4H/INTERCEPT/NextSeq/batch3a9_cfDNA_10Jul2020/mixcr/clones/CLONES_TRBCHP_370-03_cfDNA.txt\n",
      "\n"
     ]
    },
    {
     "name": "stdout",
     "output_type": "stream",
     "text": [
      "[1] 15\n"
     ]
    },
    {
     "name": "stderr",
     "output_type": "stream",
     "text": [
      "Number of CDR3s in: ~/Desktop/H4H/INTERCEPT/NextSeq/batch3a9_cfDNA_10Jul2020/mixcr/clones/CLONES_TRBCHP_370-03_cfDNA.txt nonproductive removed\n",
      "\n"
     ]
    },
    {
     "name": "stdout",
     "output_type": "stream",
     "text": [
      "[1] 11\n"
     ]
    },
    {
     "name": "stderr",
     "output_type": "stream",
     "text": [
      "Number of CDR3s in: ~/Desktop/H4H/INTERCEPT/NextSeq/batch3a9_cfDNA_10Jul2020/mixcr/clones/CLONES_TRBCHP_371-04_cfDNA.txt\n",
      "\n"
     ]
    },
    {
     "name": "stdout",
     "output_type": "stream",
     "text": [
      "[1] 4\n"
     ]
    },
    {
     "name": "stderr",
     "output_type": "stream",
     "text": [
      "Number of CDR3s in: ~/Desktop/H4H/INTERCEPT/NextSeq/batch3a9_cfDNA_10Jul2020/mixcr/clones/CLONES_TRBCHP_371-04_cfDNA.txt nonproductive removed\n",
      "\n"
     ]
    },
    {
     "name": "stdout",
     "output_type": "stream",
     "text": [
      "[1] 3\n"
     ]
    },
    {
     "name": "stderr",
     "output_type": "stream",
     "text": [
      "Number of CDR3s in: ~/Desktop/H4H/INTERCEPT/NextSeq/batch3a9_cfDNA_10Jul2020/mixcr/clones/CLONES_TRBCHP_373-02_cfDNA.txt\n",
      "\n"
     ]
    },
    {
     "name": "stdout",
     "output_type": "stream",
     "text": [
      "[1] 12\n"
     ]
    },
    {
     "name": "stderr",
     "output_type": "stream",
     "text": [
      "Number of CDR3s in: ~/Desktop/H4H/INTERCEPT/NextSeq/batch3a9_cfDNA_10Jul2020/mixcr/clones/CLONES_TRBCHP_373-02_cfDNA.txt nonproductive removed\n",
      "\n"
     ]
    },
    {
     "name": "stdout",
     "output_type": "stream",
     "text": [
      "[1] 8\n"
     ]
    },
    {
     "name": "stderr",
     "output_type": "stream",
     "text": [
      "Number of CDR3s in: ~/Desktop/H4H/INTERCEPT/NextSeq/batch3a9_cfDNA_10Jul2020/mixcr/clones/CLONES_TRBCHP_381-01_cfDNA.txt\n",
      "\n"
     ]
    },
    {
     "name": "stdout",
     "output_type": "stream",
     "text": [
      "[1] 19\n"
     ]
    },
    {
     "name": "stderr",
     "output_type": "stream",
     "text": [
      "Number of CDR3s in: ~/Desktop/H4H/INTERCEPT/NextSeq/batch3a9_cfDNA_10Jul2020/mixcr/clones/CLONES_TRBCHP_381-01_cfDNA.txt nonproductive removed\n",
      "\n"
     ]
    },
    {
     "name": "stdout",
     "output_type": "stream",
     "text": [
      "[1] 15\n"
     ]
    },
    {
     "name": "stderr",
     "output_type": "stream",
     "text": [
      "Number of CDR3s in: ~/Desktop/H4H/INTERCEPT/NextSeq/batch4_19Aug2019/mixcr/clones/CLONES_TRBCHP_303-05-PBMC-DNA.txt\n",
      "\n"
     ]
    },
    {
     "name": "stdout",
     "output_type": "stream",
     "text": [
      "[1] 333\n"
     ]
    },
    {
     "name": "stderr",
     "output_type": "stream",
     "text": [
      "Number of CDR3s in: ~/Desktop/H4H/INTERCEPT/NextSeq/batch4_19Aug2019/mixcr/clones/CLONES_TRBCHP_303-05-PBMC-DNA.txt nonproductive removed\n",
      "\n"
     ]
    },
    {
     "name": "stdout",
     "output_type": "stream",
     "text": [
      "[1] 248\n"
     ]
    },
    {
     "name": "stderr",
     "output_type": "stream",
     "text": [
      "Number of CDR3s in: ~/Desktop/H4H/INTERCEPT/NextSeq/batch4_19Aug2019/mixcr/clones/CLONES_TRBCHP_323-03-PBMC-DNA.txt\n",
      "\n"
     ]
    },
    {
     "name": "stdout",
     "output_type": "stream",
     "text": [
      "[1] 59\n"
     ]
    },
    {
     "name": "stderr",
     "output_type": "stream",
     "text": [
      "Number of CDR3s in: ~/Desktop/H4H/INTERCEPT/NextSeq/batch4_19Aug2019/mixcr/clones/CLONES_TRBCHP_323-03-PBMC-DNA.txt nonproductive removed\n",
      "\n"
     ]
    },
    {
     "name": "stdout",
     "output_type": "stream",
     "text": [
      "[1] 45\n"
     ]
    },
    {
     "name": "stderr",
     "output_type": "stream",
     "text": [
      "Number of CDR3s in: ~/Desktop/H4H/INTERCEPT/NextSeq/batch4_19Aug2019/mixcr/clones/CLONES_TRBCHP_338-03-PBMC-DNA.txt\n",
      "\n"
     ]
    },
    {
     "name": "stdout",
     "output_type": "stream",
     "text": [
      "[1] 652\n"
     ]
    },
    {
     "name": "stderr",
     "output_type": "stream",
     "text": [
      "Number of CDR3s in: ~/Desktop/H4H/INTERCEPT/NextSeq/batch4_19Aug2019/mixcr/clones/CLONES_TRBCHP_338-03-PBMC-DNA.txt nonproductive removed\n",
      "\n"
     ]
    },
    {
     "name": "stdout",
     "output_type": "stream",
     "text": [
      "[1] 471\n"
     ]
    },
    {
     "name": "stderr",
     "output_type": "stream",
     "text": [
      "Number of CDR3s in: ~/Desktop/H4H/INTERCEPT/NextSeq/batch4_19Aug2019/mixcr/clones/CLONES_TRBCHP_339-03-PBMC-DNA.txt\n",
      "\n"
     ]
    },
    {
     "name": "stdout",
     "output_type": "stream",
     "text": [
      "[1] 33\n"
     ]
    },
    {
     "name": "stderr",
     "output_type": "stream",
     "text": [
      "Number of CDR3s in: ~/Desktop/H4H/INTERCEPT/NextSeq/batch4_19Aug2019/mixcr/clones/CLONES_TRBCHP_339-03-PBMC-DNA.txt nonproductive removed\n",
      "\n"
     ]
    },
    {
     "name": "stdout",
     "output_type": "stream",
     "text": [
      "[1] 20\n"
     ]
    },
    {
     "name": "stderr",
     "output_type": "stream",
     "text": [
      "Number of CDR3s in: ~/Desktop/H4H/INTERCEPT/NextSeq/batch4_19Aug2019/mixcr/clones/CLONES_TRBCHP_340-03-PBMC-DNA.txt\n",
      "\n"
     ]
    },
    {
     "name": "stdout",
     "output_type": "stream",
     "text": [
      "[1] 108\n"
     ]
    },
    {
     "name": "stderr",
     "output_type": "stream",
     "text": [
      "Number of CDR3s in: ~/Desktop/H4H/INTERCEPT/NextSeq/batch4_19Aug2019/mixcr/clones/CLONES_TRBCHP_340-03-PBMC-DNA.txt nonproductive removed\n",
      "\n"
     ]
    },
    {
     "name": "stdout",
     "output_type": "stream",
     "text": [
      "[1] 86\n"
     ]
    },
    {
     "name": "stderr",
     "output_type": "stream",
     "text": [
      "Number of CDR3s in: ~/Desktop/H4H/INTERCEPT/NextSeq/batch4_19Aug2019/mixcr/clones/CLONES_TRBCHP_344-05-PBMC-DNA.txt\n",
      "\n"
     ]
    },
    {
     "name": "stdout",
     "output_type": "stream",
     "text": [
      "[1] 153\n"
     ]
    },
    {
     "name": "stderr",
     "output_type": "stream",
     "text": [
      "Number of CDR3s in: ~/Desktop/H4H/INTERCEPT/NextSeq/batch4_19Aug2019/mixcr/clones/CLONES_TRBCHP_344-05-PBMC-DNA.txt nonproductive removed\n",
      "\n"
     ]
    },
    {
     "name": "stdout",
     "output_type": "stream",
     "text": [
      "[1] 125\n"
     ]
    },
    {
     "name": "stderr",
     "output_type": "stream",
     "text": [
      "Number of CDR3s in: ~/Desktop/H4H/INTERCEPT/NextSeq/batch4_19Aug2019/mixcr/clones/CLONES_TRBCHP_345-02-PBMC-DNA.txt\n",
      "\n"
     ]
    },
    {
     "name": "stdout",
     "output_type": "stream",
     "text": [
      "[1] 173\n"
     ]
    },
    {
     "name": "stderr",
     "output_type": "stream",
     "text": [
      "Number of CDR3s in: ~/Desktop/H4H/INTERCEPT/NextSeq/batch4_19Aug2019/mixcr/clones/CLONES_TRBCHP_345-02-PBMC-DNA.txt nonproductive removed\n",
      "\n"
     ]
    },
    {
     "name": "stdout",
     "output_type": "stream",
     "text": [
      "[1] 120\n"
     ]
    },
    {
     "name": "stderr",
     "output_type": "stream",
     "text": [
      "Number of CDR3s in: ~/Desktop/H4H/INTERCEPT/NextSeq/batch4_19Aug2019/mixcr/clones/CLONES_TRBCHP_347-01-PBMC-DNA.txt\n",
      "\n"
     ]
    },
    {
     "name": "stdout",
     "output_type": "stream",
     "text": [
      "[1] 203\n"
     ]
    },
    {
     "name": "stderr",
     "output_type": "stream",
     "text": [
      "Number of CDR3s in: ~/Desktop/H4H/INTERCEPT/NextSeq/batch4_19Aug2019/mixcr/clones/CLONES_TRBCHP_347-01-PBMC-DNA.txt nonproductive removed\n",
      "\n"
     ]
    },
    {
     "name": "stdout",
     "output_type": "stream",
     "text": [
      "[1] 156\n"
     ]
    },
    {
     "name": "stderr",
     "output_type": "stream",
     "text": [
      "Number of CDR3s in: ~/Desktop/H4H/INTERCEPT/NextSeq/batch4_19Aug2019/mixcr/clones/CLONES_TRBCHP_347-02-PBMC-DNA.txt\n",
      "\n"
     ]
    },
    {
     "name": "stdout",
     "output_type": "stream",
     "text": [
      "[1] 443\n"
     ]
    },
    {
     "name": "stderr",
     "output_type": "stream",
     "text": [
      "Number of CDR3s in: ~/Desktop/H4H/INTERCEPT/NextSeq/batch4_19Aug2019/mixcr/clones/CLONES_TRBCHP_347-02-PBMC-DNA.txt nonproductive removed\n",
      "\n"
     ]
    },
    {
     "name": "stdout",
     "output_type": "stream",
     "text": [
      "[1] 352\n"
     ]
    },
    {
     "name": "stderr",
     "output_type": "stream",
     "text": [
      "Number of CDR3s in: ~/Desktop/H4H/INTERCEPT/NextSeq/batch4_19Aug2019/mixcr/clones/CLONES_TRBCHP_355-01-PBMC-DNA.txt\n",
      "\n"
     ]
    },
    {
     "name": "stdout",
     "output_type": "stream",
     "text": [
      "[1] 19\n"
     ]
    },
    {
     "name": "stderr",
     "output_type": "stream",
     "text": [
      "Number of CDR3s in: ~/Desktop/H4H/INTERCEPT/NextSeq/batch4_19Aug2019/mixcr/clones/CLONES_TRBCHP_355-01-PBMC-DNA.txt nonproductive removed\n",
      "\n"
     ]
    },
    {
     "name": "stdout",
     "output_type": "stream",
     "text": [
      "[1] 14\n"
     ]
    },
    {
     "name": "stderr",
     "output_type": "stream",
     "text": [
      "Number of CDR3s in: ~/Desktop/H4H/INTERCEPT/NextSeq/batch4_19Aug2019/mixcr/clones/CLONES_TRBCHP_355-02-PBMC-DNA.txt\n",
      "\n"
     ]
    },
    {
     "name": "stdout",
     "output_type": "stream",
     "text": [
      "[1] 40\n"
     ]
    },
    {
     "name": "stderr",
     "output_type": "stream",
     "text": [
      "Number of CDR3s in: ~/Desktop/H4H/INTERCEPT/NextSeq/batch4_19Aug2019/mixcr/clones/CLONES_TRBCHP_355-02-PBMC-DNA.txt nonproductive removed\n",
      "\n"
     ]
    },
    {
     "name": "stdout",
     "output_type": "stream",
     "text": [
      "[1] 27\n"
     ]
    },
    {
     "name": "stderr",
     "output_type": "stream",
     "text": [
      "Number of CDR3s in: ~/Desktop/H4H/INTERCEPT/NextSeq/batch4_19Aug2019/mixcr/clones/CLONES_TRBCHP_357-01-PBMC-DNA.txt\n",
      "\n"
     ]
    },
    {
     "name": "stdout",
     "output_type": "stream",
     "text": [
      "[1] 437\n"
     ]
    },
    {
     "name": "stderr",
     "output_type": "stream",
     "text": [
      "Number of CDR3s in: ~/Desktop/H4H/INTERCEPT/NextSeq/batch4_19Aug2019/mixcr/clones/CLONES_TRBCHP_357-01-PBMC-DNA.txt nonproductive removed\n",
      "\n"
     ]
    },
    {
     "name": "stdout",
     "output_type": "stream",
     "text": [
      "[1] 299\n"
     ]
    },
    {
     "name": "stderr",
     "output_type": "stream",
     "text": [
      "Number of CDR3s in: ~/Desktop/H4H/INTERCEPT/NextSeq/batch4_19Aug2019/mixcr/clones/CLONES_TRBCHP_361-01-PBMC-DNA.txt\n",
      "\n"
     ]
    },
    {
     "name": "stdout",
     "output_type": "stream",
     "text": [
      "[1] 138\n"
     ]
    },
    {
     "name": "stderr",
     "output_type": "stream",
     "text": [
      "Number of CDR3s in: ~/Desktop/H4H/INTERCEPT/NextSeq/batch4_19Aug2019/mixcr/clones/CLONES_TRBCHP_361-01-PBMC-DNA.txt nonproductive removed\n",
      "\n"
     ]
    },
    {
     "name": "stdout",
     "output_type": "stream",
     "text": [
      "[1] 92\n"
     ]
    },
    {
     "name": "stderr",
     "output_type": "stream",
     "text": [
      "Number of CDR3s in: ~/Desktop/H4H/INTERCEPT/NextSeq/batch4_19Aug2019/mixcr/clones/CLONES_TRBCHP_363-02-PBMC-DNA.txt\n",
      "\n"
     ]
    },
    {
     "name": "stdout",
     "output_type": "stream",
     "text": [
      "[1] 368\n"
     ]
    },
    {
     "name": "stderr",
     "output_type": "stream",
     "text": [
      "Number of CDR3s in: ~/Desktop/H4H/INTERCEPT/NextSeq/batch4_19Aug2019/mixcr/clones/CLONES_TRBCHP_363-02-PBMC-DNA.txt nonproductive removed\n",
      "\n"
     ]
    },
    {
     "name": "stdout",
     "output_type": "stream",
     "text": [
      "[1] 277\n"
     ]
    },
    {
     "name": "stderr",
     "output_type": "stream",
     "text": [
      "Number of CDR3s in: ~/Desktop/H4H/INTERCEPT/NextSeq/batch4_19Aug2019/mixcr/clones/CLONES_TRBCHP_364-01-PBMC-DNA.txt\n",
      "\n"
     ]
    },
    {
     "name": "stdout",
     "output_type": "stream",
     "text": [
      "[1] 159\n"
     ]
    },
    {
     "name": "stderr",
     "output_type": "stream",
     "text": [
      "Number of CDR3s in: ~/Desktop/H4H/INTERCEPT/NextSeq/batch4_19Aug2019/mixcr/clones/CLONES_TRBCHP_364-01-PBMC-DNA.txt nonproductive removed\n",
      "\n"
     ]
    },
    {
     "name": "stdout",
     "output_type": "stream",
     "text": [
      "[1] 125\n"
     ]
    },
    {
     "name": "stderr",
     "output_type": "stream",
     "text": [
      "Number of CDR3s in: ~/Desktop/H4H/INTERCEPT/NextSeq/batch4_19Aug2019/mixcr/clones/CLONES_TRBCHP_364-02-PBMC-DNA.txt\n",
      "\n"
     ]
    },
    {
     "name": "stdout",
     "output_type": "stream",
     "text": [
      "[1] 98\n"
     ]
    },
    {
     "name": "stderr",
     "output_type": "stream",
     "text": [
      "Number of CDR3s in: ~/Desktop/H4H/INTERCEPT/NextSeq/batch4_19Aug2019/mixcr/clones/CLONES_TRBCHP_364-02-PBMC-DNA.txt nonproductive removed\n",
      "\n"
     ]
    },
    {
     "name": "stdout",
     "output_type": "stream",
     "text": [
      "[1] 75\n"
     ]
    },
    {
     "name": "stderr",
     "output_type": "stream",
     "text": [
      "Number of CDR3s in: ~/Desktop/H4H/INTERCEPT/NextSeq/batch4_19Aug2019/mixcr/clones/CLONES_TRBCHP_364-04-PBMC-DNA.txt\n",
      "\n"
     ]
    },
    {
     "name": "stdout",
     "output_type": "stream",
     "text": [
      "[1] 154\n"
     ]
    },
    {
     "name": "stderr",
     "output_type": "stream",
     "text": [
      "Number of CDR3s in: ~/Desktop/H4H/INTERCEPT/NextSeq/batch4_19Aug2019/mixcr/clones/CLONES_TRBCHP_364-04-PBMC-DNA.txt nonproductive removed\n",
      "\n"
     ]
    },
    {
     "name": "stdout",
     "output_type": "stream",
     "text": [
      "[1] 117\n"
     ]
    },
    {
     "name": "stderr",
     "output_type": "stream",
     "text": [
      "Number of CDR3s in: ~/Desktop/H4H/INTERCEPT/NextSeq/batch5_cfDNA_25Jun2020/mixcr/clones/CLONES_TRBCHP_324-04_cfDNA.txt\n",
      "\n"
     ]
    },
    {
     "name": "stdout",
     "output_type": "stream",
     "text": [
      "[1] 2\n"
     ]
    },
    {
     "name": "stderr",
     "output_type": "stream",
     "text": [
      "Number of CDR3s in: ~/Desktop/H4H/INTERCEPT/NextSeq/batch5_cfDNA_25Jun2020/mixcr/clones/CLONES_TRBCHP_324-04_cfDNA.txt nonproductive removed\n",
      "\n"
     ]
    },
    {
     "name": "stdout",
     "output_type": "stream",
     "text": [
      "[1] 1\n"
     ]
    },
    {
     "name": "stderr",
     "output_type": "stream",
     "text": [
      "Number of CDR3s in: ~/Desktop/H4H/INTERCEPT/NextSeq/batch5_cfDNA_25Jun2020/mixcr/clones/CLONES_TRBCHP_328-04_cfDNA.txt\n",
      "\n"
     ]
    },
    {
     "name": "stdout",
     "output_type": "stream",
     "text": [
      "[1] 0\n"
     ]
    },
    {
     "name": "stderr",
     "output_type": "stream",
     "text": [
      "Number of CDR3s in: ~/Desktop/H4H/INTERCEPT/NextSeq/batch5_cfDNA_25Jun2020/mixcr/clones/CLONES_TRBCHP_328-04_cfDNA.txt nonproductive removed\n",
      "\n"
     ]
    },
    {
     "name": "stdout",
     "output_type": "stream",
     "text": [
      "[1] 0\n"
     ]
    },
    {
     "name": "stderr",
     "output_type": "stream",
     "text": [
      "Number of CDR3s in: ~/Desktop/H4H/INTERCEPT/NextSeq/batch5_cfDNA_25Jun2020/mixcr/clones/CLONES_TRBCHP_333-05_cfDNA.txt\n",
      "\n"
     ]
    },
    {
     "name": "stdout",
     "output_type": "stream",
     "text": [
      "[1] 3\n"
     ]
    },
    {
     "name": "stderr",
     "output_type": "stream",
     "text": [
      "Number of CDR3s in: ~/Desktop/H4H/INTERCEPT/NextSeq/batch5_cfDNA_25Jun2020/mixcr/clones/CLONES_TRBCHP_333-05_cfDNA.txt nonproductive removed\n",
      "\n"
     ]
    },
    {
     "name": "stdout",
     "output_type": "stream",
     "text": [
      "[1] 3\n"
     ]
    },
    {
     "name": "stderr",
     "output_type": "stream",
     "text": [
      "Number of CDR3s in: ~/Desktop/H4H/INTERCEPT/NextSeq/batch5_cfDNA_25Jun2020/mixcr/clones/CLONES_TRBCHP_334-02_cfDNA.txt\n",
      "\n"
     ]
    },
    {
     "name": "stdout",
     "output_type": "stream",
     "text": [
      "[1] 5\n"
     ]
    },
    {
     "name": "stderr",
     "output_type": "stream",
     "text": [
      "Number of CDR3s in: ~/Desktop/H4H/INTERCEPT/NextSeq/batch5_cfDNA_25Jun2020/mixcr/clones/CLONES_TRBCHP_334-02_cfDNA.txt nonproductive removed\n",
      "\n"
     ]
    },
    {
     "name": "stdout",
     "output_type": "stream",
     "text": [
      "[1] 3\n"
     ]
    },
    {
     "name": "stderr",
     "output_type": "stream",
     "text": [
      "Number of CDR3s in: ~/Desktop/H4H/INTERCEPT/NextSeq/batch5_cfDNA_25Jun2020/mixcr/clones/CLONES_TRBCHP_335-04_cfDNA.txt\n",
      "\n"
     ]
    },
    {
     "name": "stdout",
     "output_type": "stream",
     "text": [
      "[1] 69\n"
     ]
    },
    {
     "name": "stderr",
     "output_type": "stream",
     "text": [
      "Number of CDR3s in: ~/Desktop/H4H/INTERCEPT/NextSeq/batch5_cfDNA_25Jun2020/mixcr/clones/CLONES_TRBCHP_335-04_cfDNA.txt nonproductive removed\n",
      "\n"
     ]
    },
    {
     "name": "stdout",
     "output_type": "stream",
     "text": [
      "[1] 54\n"
     ]
    },
    {
     "name": "stderr",
     "output_type": "stream",
     "text": [
      "Number of CDR3s in: ~/Desktop/H4H/INTERCEPT/NextSeq/batch5_cfDNA_25Jun2020/mixcr/clones/CLONES_TRBCHP_335-05_cfDNA.txt\n",
      "\n"
     ]
    },
    {
     "name": "stdout",
     "output_type": "stream",
     "text": [
      "[1] 45\n"
     ]
    },
    {
     "name": "stderr",
     "output_type": "stream",
     "text": [
      "Number of CDR3s in: ~/Desktop/H4H/INTERCEPT/NextSeq/batch5_cfDNA_25Jun2020/mixcr/clones/CLONES_TRBCHP_335-05_cfDNA.txt nonproductive removed\n",
      "\n"
     ]
    },
    {
     "name": "stdout",
     "output_type": "stream",
     "text": [
      "[1] 31\n"
     ]
    },
    {
     "name": "stderr",
     "output_type": "stream",
     "text": [
      "Number of CDR3s in: ~/Desktop/H4H/INTERCEPT/NextSeq/batch5_cfDNA_25Jun2020/mixcr/clones/CLONES_TRBCHP_339-04_cfDNA.txt\n",
      "\n"
     ]
    },
    {
     "name": "stdout",
     "output_type": "stream",
     "text": [
      "[1] 138\n"
     ]
    },
    {
     "name": "stderr",
     "output_type": "stream",
     "text": [
      "Number of CDR3s in: ~/Desktop/H4H/INTERCEPT/NextSeq/batch5_cfDNA_25Jun2020/mixcr/clones/CLONES_TRBCHP_339-04_cfDNA.txt nonproductive removed\n",
      "\n"
     ]
    },
    {
     "name": "stdout",
     "output_type": "stream",
     "text": [
      "[1] 91\n"
     ]
    },
    {
     "name": "stderr",
     "output_type": "stream",
     "text": [
      "Number of CDR3s in: ~/Desktop/H4H/INTERCEPT/NextSeq/batch5_cfDNA_25Jun2020/mixcr/clones/CLONES_TRBCHP_340-03_cfDNA.txt\n",
      "\n"
     ]
    },
    {
     "name": "stdout",
     "output_type": "stream",
     "text": [
      "[1] 8\n"
     ]
    },
    {
     "name": "stderr",
     "output_type": "stream",
     "text": [
      "Number of CDR3s in: ~/Desktop/H4H/INTERCEPT/NextSeq/batch5_cfDNA_25Jun2020/mixcr/clones/CLONES_TRBCHP_340-03_cfDNA.txt nonproductive removed\n",
      "\n"
     ]
    },
    {
     "name": "stdout",
     "output_type": "stream",
     "text": [
      "[1] 5\n"
     ]
    },
    {
     "name": "stderr",
     "output_type": "stream",
     "text": [
      "Number of CDR3s in: ~/Desktop/H4H/INTERCEPT/NextSeq/batch5_cfDNA_25Jun2020/mixcr/clones/CLONES_TRBCHP_344-01_cfDNA.txt\n",
      "\n"
     ]
    },
    {
     "name": "stdout",
     "output_type": "stream",
     "text": [
      "[1] 7\n"
     ]
    },
    {
     "name": "stderr",
     "output_type": "stream",
     "text": [
      "Number of CDR3s in: ~/Desktop/H4H/INTERCEPT/NextSeq/batch5_cfDNA_25Jun2020/mixcr/clones/CLONES_TRBCHP_344-01_cfDNA.txt nonproductive removed\n",
      "\n"
     ]
    },
    {
     "name": "stdout",
     "output_type": "stream",
     "text": [
      "[1] 7\n"
     ]
    },
    {
     "name": "stderr",
     "output_type": "stream",
     "text": [
      "Number of CDR3s in: ~/Desktop/H4H/INTERCEPT/NextSeq/batch5_cfDNA_25Jun2020/mixcr/clones/CLONES_TRBCHP_345-02_cfDNA.txt\n",
      "\n"
     ]
    },
    {
     "name": "stdout",
     "output_type": "stream",
     "text": [
      "[1] 33\n"
     ]
    },
    {
     "name": "stderr",
     "output_type": "stream",
     "text": [
      "Number of CDR3s in: ~/Desktop/H4H/INTERCEPT/NextSeq/batch5_cfDNA_25Jun2020/mixcr/clones/CLONES_TRBCHP_345-02_cfDNA.txt nonproductive removed\n",
      "\n"
     ]
    },
    {
     "name": "stdout",
     "output_type": "stream",
     "text": [
      "[1] 23\n"
     ]
    },
    {
     "name": "stderr",
     "output_type": "stream",
     "text": [
      "Number of CDR3s in: ~/Desktop/H4H/INTERCEPT/NextSeq/batch5_cfDNA_25Jun2020/mixcr/clones/CLONES_TRBCHP_347-02_cfDNA.txt\n",
      "\n"
     ]
    },
    {
     "name": "stdout",
     "output_type": "stream",
     "text": [
      "[1] 10\n"
     ]
    },
    {
     "name": "stderr",
     "output_type": "stream",
     "text": [
      "Number of CDR3s in: ~/Desktop/H4H/INTERCEPT/NextSeq/batch5_cfDNA_25Jun2020/mixcr/clones/CLONES_TRBCHP_347-02_cfDNA.txt nonproductive removed\n",
      "\n"
     ]
    },
    {
     "name": "stdout",
     "output_type": "stream",
     "text": [
      "[1] 7\n"
     ]
    },
    {
     "name": "stderr",
     "output_type": "stream",
     "text": [
      "Number of CDR3s in: ~/Desktop/H4H/INTERCEPT/NextSeq/batch5_cfDNA_25Jun2020/mixcr/clones/CLONES_TRBCHP_351-03_cfDNA.txt\n",
      "\n"
     ]
    },
    {
     "name": "stdout",
     "output_type": "stream",
     "text": [
      "[1] 3\n"
     ]
    },
    {
     "name": "stderr",
     "output_type": "stream",
     "text": [
      "Number of CDR3s in: ~/Desktop/H4H/INTERCEPT/NextSeq/batch5_cfDNA_25Jun2020/mixcr/clones/CLONES_TRBCHP_351-03_cfDNA.txt nonproductive removed\n",
      "\n"
     ]
    },
    {
     "name": "stdout",
     "output_type": "stream",
     "text": [
      "[1] 3\n"
     ]
    },
    {
     "name": "stderr",
     "output_type": "stream",
     "text": [
      "Number of CDR3s in: ~/Desktop/H4H/INTERCEPT/NextSeq/batch5_cfDNA_25Jun2020/mixcr/clones/CLONES_TRBCHP_355-02_cfDNA.txt\n",
      "\n"
     ]
    },
    {
     "name": "stdout",
     "output_type": "stream",
     "text": [
      "[1] 9\n"
     ]
    },
    {
     "name": "stderr",
     "output_type": "stream",
     "text": [
      "Number of CDR3s in: ~/Desktop/H4H/INTERCEPT/NextSeq/batch5_cfDNA_25Jun2020/mixcr/clones/CLONES_TRBCHP_355-02_cfDNA.txt nonproductive removed\n",
      "\n"
     ]
    },
    {
     "name": "stdout",
     "output_type": "stream",
     "text": [
      "[1] 2\n"
     ]
    },
    {
     "name": "stderr",
     "output_type": "stream",
     "text": [
      "Number of CDR3s in: ~/Desktop/H4H/INTERCEPT/NextSeq/batch5_cfDNA_25Jun2020/mixcr/clones/CLONES_TRBCHP_357-05_cfDNA.txt\n",
      "\n"
     ]
    },
    {
     "name": "stdout",
     "output_type": "stream",
     "text": [
      "[1] 12\n"
     ]
    },
    {
     "name": "stderr",
     "output_type": "stream",
     "text": [
      "Number of CDR3s in: ~/Desktop/H4H/INTERCEPT/NextSeq/batch5_cfDNA_25Jun2020/mixcr/clones/CLONES_TRBCHP_357-05_cfDNA.txt nonproductive removed\n",
      "\n"
     ]
    },
    {
     "name": "stdout",
     "output_type": "stream",
     "text": [
      "[1] 9\n"
     ]
    },
    {
     "name": "stderr",
     "output_type": "stream",
     "text": [
      "Number of CDR3s in: ~/Desktop/H4H/INTERCEPT/NextSeq/batch5_cfDNA_25Jun2020/mixcr/clones/CLONES_TRBCHP_360-01_cfDNA.txt\n",
      "\n"
     ]
    },
    {
     "name": "stdout",
     "output_type": "stream",
     "text": [
      "[1] 61\n"
     ]
    },
    {
     "name": "stderr",
     "output_type": "stream",
     "text": [
      "Number of CDR3s in: ~/Desktop/H4H/INTERCEPT/NextSeq/batch5_cfDNA_25Jun2020/mixcr/clones/CLONES_TRBCHP_360-01_cfDNA.txt nonproductive removed\n",
      "\n"
     ]
    },
    {
     "name": "stdout",
     "output_type": "stream",
     "text": [
      "[1] 42\n"
     ]
    },
    {
     "name": "stderr",
     "output_type": "stream",
     "text": [
      "Number of CDR3s in: ~/Desktop/H4H/INTERCEPT/NextSeq/batch5_cfDNA_25Jun2020/mixcr/clones/CLONES_TRBCHP_361-01_cfDNA.txt\n",
      "\n"
     ]
    },
    {
     "name": "stdout",
     "output_type": "stream",
     "text": [
      "[1] 96\n"
     ]
    },
    {
     "name": "stderr",
     "output_type": "stream",
     "text": [
      "Number of CDR3s in: ~/Desktop/H4H/INTERCEPT/NextSeq/batch5_cfDNA_25Jun2020/mixcr/clones/CLONES_TRBCHP_361-01_cfDNA.txt nonproductive removed\n",
      "\n"
     ]
    },
    {
     "name": "stdout",
     "output_type": "stream",
     "text": [
      "[1] 71\n"
     ]
    },
    {
     "name": "stderr",
     "output_type": "stream",
     "text": [
      "Number of CDR3s in: ~/Desktop/H4H/INTERCEPT/NextSeq/batch5_cfDNA_25Jun2020/mixcr/clones/CLONES_TRBCHP_361-03_cfDNA.txt\n",
      "\n"
     ]
    },
    {
     "name": "stdout",
     "output_type": "stream",
     "text": [
      "[1] 4\n"
     ]
    },
    {
     "name": "stderr",
     "output_type": "stream",
     "text": [
      "Number of CDR3s in: ~/Desktop/H4H/INTERCEPT/NextSeq/batch5_cfDNA_25Jun2020/mixcr/clones/CLONES_TRBCHP_361-03_cfDNA.txt nonproductive removed\n",
      "\n"
     ]
    },
    {
     "name": "stdout",
     "output_type": "stream",
     "text": [
      "[1] 2\n"
     ]
    },
    {
     "name": "stderr",
     "output_type": "stream",
     "text": [
      "Number of CDR3s in: ~/Desktop/H4H/INTERCEPT/NextSeq/batch5_cfDNA_25Jun2020/mixcr/clones/CLONES_TRBCHP_361-05_cfDNA.txt\n",
      "\n"
     ]
    },
    {
     "name": "stdout",
     "output_type": "stream",
     "text": [
      "[1] 3\n"
     ]
    },
    {
     "name": "stderr",
     "output_type": "stream",
     "text": [
      "Number of CDR3s in: ~/Desktop/H4H/INTERCEPT/NextSeq/batch5_cfDNA_25Jun2020/mixcr/clones/CLONES_TRBCHP_361-05_cfDNA.txt nonproductive removed\n",
      "\n"
     ]
    },
    {
     "name": "stdout",
     "output_type": "stream",
     "text": [
      "[1] 2\n"
     ]
    },
    {
     "name": "stderr",
     "output_type": "stream",
     "text": [
      "Number of CDR3s in: ~/Desktop/H4H/INTERCEPT/NextSeq/batch5_cfDNA_25Jun2020/mixcr/clones/CLONES_TRBCHP_363-02_cfDNA.txt\n",
      "\n"
     ]
    },
    {
     "name": "stdout",
     "output_type": "stream",
     "text": [
      "[1] 4\n"
     ]
    },
    {
     "name": "stderr",
     "output_type": "stream",
     "text": [
      "Number of CDR3s in: ~/Desktop/H4H/INTERCEPT/NextSeq/batch5_cfDNA_25Jun2020/mixcr/clones/CLONES_TRBCHP_363-02_cfDNA.txt nonproductive removed\n",
      "\n"
     ]
    },
    {
     "name": "stdout",
     "output_type": "stream",
     "text": [
      "[1] 3\n"
     ]
    },
    {
     "name": "stderr",
     "output_type": "stream",
     "text": [
      "Number of CDR3s in: ~/Desktop/H4H/INTERCEPT/NextSeq/batch5_cfDNA_25Jun2020/mixcr/clones/CLONES_TRBCHP_364-01_cfDNA.txt\n",
      "\n"
     ]
    },
    {
     "name": "stdout",
     "output_type": "stream",
     "text": [
      "[1] 2\n"
     ]
    },
    {
     "name": "stderr",
     "output_type": "stream",
     "text": [
      "Number of CDR3s in: ~/Desktop/H4H/INTERCEPT/NextSeq/batch5_cfDNA_25Jun2020/mixcr/clones/CLONES_TRBCHP_364-01_cfDNA.txt nonproductive removed\n",
      "\n"
     ]
    },
    {
     "name": "stdout",
     "output_type": "stream",
     "text": [
      "[1] 2\n"
     ]
    },
    {
     "name": "stderr",
     "output_type": "stream",
     "text": [
      "Number of CDR3s in: ~/Desktop/H4H/INTERCEPT/NextSeq/batch5_cfDNA_25Jun2020/mixcr/clones/CLONES_TRBCHP_366-05_cfDNA.txt\n",
      "\n"
     ]
    },
    {
     "name": "stdout",
     "output_type": "stream",
     "text": [
      "[1] 1\n"
     ]
    },
    {
     "name": "stderr",
     "output_type": "stream",
     "text": [
      "Number of CDR3s in: ~/Desktop/H4H/INTERCEPT/NextSeq/batch5_cfDNA_25Jun2020/mixcr/clones/CLONES_TRBCHP_366-05_cfDNA.txt nonproductive removed\n",
      "\n"
     ]
    },
    {
     "name": "stdout",
     "output_type": "stream",
     "text": [
      "[1] 0\n"
     ]
    },
    {
     "name": "stderr",
     "output_type": "stream",
     "text": [
      "Number of CDR3s in: ~/Desktop/H4H/INTERCEPT/NextSeq/batch5_cfDNA_25Jun2020/mixcr/clones/CLONES_TRBCHP_368-01_cfDNA.txt\n",
      "\n"
     ]
    },
    {
     "name": "stdout",
     "output_type": "stream",
     "text": [
      "[1] 18\n"
     ]
    },
    {
     "name": "stderr",
     "output_type": "stream",
     "text": [
      "Number of CDR3s in: ~/Desktop/H4H/INTERCEPT/NextSeq/batch5_cfDNA_25Jun2020/mixcr/clones/CLONES_TRBCHP_368-01_cfDNA.txt nonproductive removed\n",
      "\n"
     ]
    },
    {
     "name": "stdout",
     "output_type": "stream",
     "text": [
      "[1] 14\n"
     ]
    },
    {
     "name": "stderr",
     "output_type": "stream",
     "text": [
      "Number of CDR3s in: ~/Desktop/H4H/INTERCEPT/NextSeq/batch5_cfDNA_25Jun2020/mixcr/clones/CLONES_TRBCHP_376-02_cfDNA.txt\n",
      "\n"
     ]
    },
    {
     "name": "stdout",
     "output_type": "stream",
     "text": [
      "[1] 23\n"
     ]
    },
    {
     "name": "stderr",
     "output_type": "stream",
     "text": [
      "Number of CDR3s in: ~/Desktop/H4H/INTERCEPT/NextSeq/batch5_cfDNA_25Jun2020/mixcr/clones/CLONES_TRBCHP_376-02_cfDNA.txt nonproductive removed\n",
      "\n"
     ]
    },
    {
     "name": "stdout",
     "output_type": "stream",
     "text": [
      "[1] 16\n"
     ]
    },
    {
     "name": "stderr",
     "output_type": "stream",
     "text": [
      "Number of CDR3s in: ~/Desktop/H4H/INTERCEPT/NextSeq/batch5_cfDNA_25Jun2020/mixcr/clones/CLONES_TRBCHP_380-01_cfDNA.txt\n",
      "\n"
     ]
    },
    {
     "name": "stdout",
     "output_type": "stream",
     "text": [
      "[1] 105\n"
     ]
    },
    {
     "name": "stderr",
     "output_type": "stream",
     "text": [
      "Number of CDR3s in: ~/Desktop/H4H/INTERCEPT/NextSeq/batch5_cfDNA_25Jun2020/mixcr/clones/CLONES_TRBCHP_380-01_cfDNA.txt nonproductive removed\n",
      "\n"
     ]
    },
    {
     "name": "stdout",
     "output_type": "stream",
     "text": [
      "[1] 76\n"
     ]
    },
    {
     "name": "stderr",
     "output_type": "stream",
     "text": [
      "Number of CDR3s in: ~/Desktop/H4H/INTERCEPT/NextSeq/batch6a_5Nov2019/mixcr/clones/CLONES_TRBCHP_340-04-PBMC-DNA.txt\n",
      "\n"
     ]
    },
    {
     "name": "stdout",
     "output_type": "stream",
     "text": [
      "[1] 264\n"
     ]
    },
    {
     "name": "stderr",
     "output_type": "stream",
     "text": [
      "Number of CDR3s in: ~/Desktop/H4H/INTERCEPT/NextSeq/batch6a_5Nov2019/mixcr/clones/CLONES_TRBCHP_340-04-PBMC-DNA.txt nonproductive removed\n",
      "\n"
     ]
    },
    {
     "name": "stdout",
     "output_type": "stream",
     "text": [
      "[1] 196\n"
     ]
    },
    {
     "name": "stderr",
     "output_type": "stream",
     "text": [
      "Number of CDR3s in: ~/Desktop/H4H/INTERCEPT/NextSeq/batch6a_5Nov2019/mixcr/clones/CLONES_TRBCHP_347-04-PBMC-DNA.txt\n",
      "\n"
     ]
    },
    {
     "name": "stdout",
     "output_type": "stream",
     "text": [
      "[1] 109\n"
     ]
    },
    {
     "name": "stderr",
     "output_type": "stream",
     "text": [
      "Number of CDR3s in: ~/Desktop/H4H/INTERCEPT/NextSeq/batch6a_5Nov2019/mixcr/clones/CLONES_TRBCHP_347-04-PBMC-DNA.txt nonproductive removed\n",
      "\n"
     ]
    },
    {
     "name": "stdout",
     "output_type": "stream",
     "text": [
      "[1] 89\n"
     ]
    },
    {
     "name": "stderr",
     "output_type": "stream",
     "text": [
      "Number of CDR3s in: ~/Desktop/H4H/INTERCEPT/NextSeq/batch6a_5Nov2019/mixcr/clones/CLONES_TRBCHP_357-03-PBMC-DNA.txt\n",
      "\n"
     ]
    },
    {
     "name": "stdout",
     "output_type": "stream",
     "text": [
      "[1] 137\n"
     ]
    },
    {
     "name": "stderr",
     "output_type": "stream",
     "text": [
      "Number of CDR3s in: ~/Desktop/H4H/INTERCEPT/NextSeq/batch6a_5Nov2019/mixcr/clones/CLONES_TRBCHP_357-03-PBMC-DNA.txt nonproductive removed\n",
      "\n"
     ]
    },
    {
     "name": "stdout",
     "output_type": "stream",
     "text": [
      "[1] 94\n"
     ]
    },
    {
     "name": "stderr",
     "output_type": "stream",
     "text": [
      "Number of CDR3s in: ~/Desktop/H4H/INTERCEPT/NextSeq/batch6a_5Nov2019/mixcr/clones/CLONES_TRBCHP_359-02-PBMC-DNA.txt\n",
      "\n"
     ]
    },
    {
     "name": "stdout",
     "output_type": "stream",
     "text": [
      "[1] 715\n"
     ]
    },
    {
     "name": "stderr",
     "output_type": "stream",
     "text": [
      "Number of CDR3s in: ~/Desktop/H4H/INTERCEPT/NextSeq/batch6a_5Nov2019/mixcr/clones/CLONES_TRBCHP_359-02-PBMC-DNA.txt nonproductive removed\n",
      "\n"
     ]
    },
    {
     "name": "stdout",
     "output_type": "stream",
     "text": [
      "[1] 545\n"
     ]
    },
    {
     "name": "stderr",
     "output_type": "stream",
     "text": [
      "Number of CDR3s in: ~/Desktop/H4H/INTERCEPT/NextSeq/batch6a_5Nov2019/mixcr/clones/CLONES_TRBCHP_359-04-PBMC-DNA.txt\n",
      "\n"
     ]
    },
    {
     "name": "stdout",
     "output_type": "stream",
     "text": [
      "[1] 466\n"
     ]
    },
    {
     "name": "stderr",
     "output_type": "stream",
     "text": [
      "Number of CDR3s in: ~/Desktop/H4H/INTERCEPT/NextSeq/batch6a_5Nov2019/mixcr/clones/CLONES_TRBCHP_359-04-PBMC-DNA.txt nonproductive removed\n",
      "\n"
     ]
    },
    {
     "name": "stdout",
     "output_type": "stream",
     "text": [
      "[1] 367\n"
     ]
    },
    {
     "name": "stderr",
     "output_type": "stream",
     "text": [
      "Number of CDR3s in: ~/Desktop/H4H/INTERCEPT/NextSeq/batch6a_5Nov2019/mixcr/clones/CLONES_TRBCHP_367-02-PBMC-DNA.txt\n",
      "\n"
     ]
    },
    {
     "name": "stdout",
     "output_type": "stream",
     "text": [
      "[1] 118\n"
     ]
    },
    {
     "name": "stderr",
     "output_type": "stream",
     "text": [
      "Number of CDR3s in: ~/Desktop/H4H/INTERCEPT/NextSeq/batch6a_5Nov2019/mixcr/clones/CLONES_TRBCHP_367-02-PBMC-DNA.txt nonproductive removed\n",
      "\n"
     ]
    },
    {
     "name": "stdout",
     "output_type": "stream",
     "text": [
      "[1] 86\n"
     ]
    },
    {
     "name": "stderr",
     "output_type": "stream",
     "text": [
      "Number of CDR3s in: ~/Desktop/H4H/INTERCEPT/NextSeq/batch7_25Oct2019/mixcr/clones/CLONES_TRBCHP_323-04-PBMC-DNA.txt\n",
      "\n"
     ]
    },
    {
     "name": "stdout",
     "output_type": "stream",
     "text": [
      "[1] 36\n"
     ]
    },
    {
     "name": "stderr",
     "output_type": "stream",
     "text": [
      "Number of CDR3s in: ~/Desktop/H4H/INTERCEPT/NextSeq/batch7_25Oct2019/mixcr/clones/CLONES_TRBCHP_323-04-PBMC-DNA.txt nonproductive removed\n",
      "\n"
     ]
    },
    {
     "name": "stdout",
     "output_type": "stream",
     "text": [
      "[1] 23\n"
     ]
    },
    {
     "name": "stderr",
     "output_type": "stream",
     "text": [
      "Number of CDR3s in: ~/Desktop/H4H/INTERCEPT/NextSeq/batch7_25Oct2019/mixcr/clones/CLONES_TRBCHP_323-05-PBMC-DNA.txt\n",
      "\n"
     ]
    },
    {
     "name": "stdout",
     "output_type": "stream",
     "text": [
      "[1] 200\n"
     ]
    },
    {
     "name": "stderr",
     "output_type": "stream",
     "text": [
      "Number of CDR3s in: ~/Desktop/H4H/INTERCEPT/NextSeq/batch7_25Oct2019/mixcr/clones/CLONES_TRBCHP_323-05-PBMC-DNA.txt nonproductive removed\n",
      "\n"
     ]
    },
    {
     "name": "stdout",
     "output_type": "stream",
     "text": [
      "[1] 153\n"
     ]
    },
    {
     "name": "stderr",
     "output_type": "stream",
     "text": [
      "Number of CDR3s in: ~/Desktop/H4H/INTERCEPT/NextSeq/batch7_25Oct2019/mixcr/clones/CLONES_TRBCHP_344-02-PBMC-DNA.txt\n",
      "\n"
     ]
    },
    {
     "name": "stdout",
     "output_type": "stream",
     "text": [
      "[1] 16\n"
     ]
    },
    {
     "name": "stderr",
     "output_type": "stream",
     "text": [
      "Number of CDR3s in: ~/Desktop/H4H/INTERCEPT/NextSeq/batch7_25Oct2019/mixcr/clones/CLONES_TRBCHP_344-02-PBMC-DNA.txt nonproductive removed\n",
      "\n"
     ]
    },
    {
     "name": "stdout",
     "output_type": "stream",
     "text": [
      "[1] 15\n"
     ]
    },
    {
     "name": "stderr",
     "output_type": "stream",
     "text": [
      "Number of CDR3s in: ~/Desktop/H4H/INTERCEPT/NextSeq/batch7_25Oct2019/mixcr/clones/CLONES_TRBCHP_344-03-PBMC-DNA.txt\n",
      "\n"
     ]
    },
    {
     "name": "stdout",
     "output_type": "stream",
     "text": [
      "[1] 13\n"
     ]
    },
    {
     "name": "stderr",
     "output_type": "stream",
     "text": [
      "Number of CDR3s in: ~/Desktop/H4H/INTERCEPT/NextSeq/batch7_25Oct2019/mixcr/clones/CLONES_TRBCHP_344-03-PBMC-DNA.txt nonproductive removed\n",
      "\n"
     ]
    },
    {
     "name": "stdout",
     "output_type": "stream",
     "text": [
      "[1] 11\n"
     ]
    },
    {
     "name": "stderr",
     "output_type": "stream",
     "text": [
      "Number of CDR3s in: ~/Desktop/H4H/INTERCEPT/NextSeq/batch7_25Oct2019/mixcr/clones/CLONES_TRBCHP_345-03-PBMC-DNA.txt\n",
      "\n"
     ]
    },
    {
     "name": "stdout",
     "output_type": "stream",
     "text": [
      "[1] 148\n"
     ]
    },
    {
     "name": "stderr",
     "output_type": "stream",
     "text": [
      "Number of CDR3s in: ~/Desktop/H4H/INTERCEPT/NextSeq/batch7_25Oct2019/mixcr/clones/CLONES_TRBCHP_345-03-PBMC-DNA.txt nonproductive removed\n",
      "\n"
     ]
    },
    {
     "name": "stdout",
     "output_type": "stream",
     "text": [
      "[1] 108\n"
     ]
    },
    {
     "name": "stderr",
     "output_type": "stream",
     "text": [
      "Number of CDR3s in: ~/Desktop/H4H/INTERCEPT/NextSeq/batch7_25Oct2019/mixcr/clones/CLONES_TRBCHP_347-03-PBMC-DNA.txt\n",
      "\n"
     ]
    },
    {
     "name": "stdout",
     "output_type": "stream",
     "text": [
      "[1] 113\n"
     ]
    },
    {
     "name": "stderr",
     "output_type": "stream",
     "text": [
      "Number of CDR3s in: ~/Desktop/H4H/INTERCEPT/NextSeq/batch7_25Oct2019/mixcr/clones/CLONES_TRBCHP_347-03-PBMC-DNA.txt nonproductive removed\n",
      "\n"
     ]
    },
    {
     "name": "stdout",
     "output_type": "stream",
     "text": [
      "[1] 100\n"
     ]
    },
    {
     "name": "stderr",
     "output_type": "stream",
     "text": [
      "Number of CDR3s in: ~/Desktop/H4H/INTERCEPT/NextSeq/batch7_25Oct2019/mixcr/clones/CLONES_TRBCHP_351-04-PBMC-DNA.txt\n",
      "\n"
     ]
    },
    {
     "name": "stdout",
     "output_type": "stream",
     "text": [
      "[1] 100\n"
     ]
    },
    {
     "name": "stderr",
     "output_type": "stream",
     "text": [
      "Number of CDR3s in: ~/Desktop/H4H/INTERCEPT/NextSeq/batch7_25Oct2019/mixcr/clones/CLONES_TRBCHP_351-04-PBMC-DNA.txt nonproductive removed\n",
      "\n"
     ]
    },
    {
     "name": "stdout",
     "output_type": "stream",
     "text": [
      "[1] 68\n"
     ]
    },
    {
     "name": "stderr",
     "output_type": "stream",
     "text": [
      "Number of CDR3s in: ~/Desktop/H4H/INTERCEPT/NextSeq/batch7_25Oct2019/mixcr/clones/CLONES_TRBCHP_353-01-PBMC-DNA.txt\n",
      "\n"
     ]
    },
    {
     "name": "stdout",
     "output_type": "stream",
     "text": [
      "[1] 278\n"
     ]
    },
    {
     "name": "stderr",
     "output_type": "stream",
     "text": [
      "Number of CDR3s in: ~/Desktop/H4H/INTERCEPT/NextSeq/batch7_25Oct2019/mixcr/clones/CLONES_TRBCHP_353-01-PBMC-DNA.txt nonproductive removed\n",
      "\n"
     ]
    },
    {
     "name": "stdout",
     "output_type": "stream",
     "text": [
      "[1] 222\n"
     ]
    },
    {
     "name": "stderr",
     "output_type": "stream",
     "text": [
      "Number of CDR3s in: ~/Desktop/H4H/INTERCEPT/NextSeq/batch7_25Oct2019/mixcr/clones/CLONES_TRBCHP_353-03-PBMC-DNA.txt\n",
      "\n"
     ]
    },
    {
     "name": "stdout",
     "output_type": "stream",
     "text": [
      "[1] 211\n"
     ]
    },
    {
     "name": "stderr",
     "output_type": "stream",
     "text": [
      "Number of CDR3s in: ~/Desktop/H4H/INTERCEPT/NextSeq/batch7_25Oct2019/mixcr/clones/CLONES_TRBCHP_353-03-PBMC-DNA.txt nonproductive removed\n",
      "\n"
     ]
    },
    {
     "name": "stdout",
     "output_type": "stream",
     "text": [
      "[1] 166\n"
     ]
    },
    {
     "name": "stderr",
     "output_type": "stream",
     "text": [
      "Number of CDR3s in: ~/Desktop/H4H/INTERCEPT/NextSeq/batch7_25Oct2019/mixcr/clones/CLONES_TRBCHP_353-05-PBMC-DNA.txt\n",
      "\n"
     ]
    },
    {
     "name": "stdout",
     "output_type": "stream",
     "text": [
      "[1] 571\n"
     ]
    },
    {
     "name": "stderr",
     "output_type": "stream",
     "text": [
      "Number of CDR3s in: ~/Desktop/H4H/INTERCEPT/NextSeq/batch7_25Oct2019/mixcr/clones/CLONES_TRBCHP_353-05-PBMC-DNA.txt nonproductive removed\n",
      "\n"
     ]
    },
    {
     "name": "stdout",
     "output_type": "stream",
     "text": [
      "[1] 459\n"
     ]
    },
    {
     "name": "stderr",
     "output_type": "stream",
     "text": [
      "Number of CDR3s in: ~/Desktop/H4H/INTERCEPT/NextSeq/batch7_25Oct2019/mixcr/clones/CLONES_TRBCHP_357-04-PBMC-DNA.txt\n",
      "\n"
     ]
    },
    {
     "name": "stdout",
     "output_type": "stream",
     "text": [
      "[1] 79\n"
     ]
    },
    {
     "name": "stderr",
     "output_type": "stream",
     "text": [
      "Number of CDR3s in: ~/Desktop/H4H/INTERCEPT/NextSeq/batch7_25Oct2019/mixcr/clones/CLONES_TRBCHP_357-04-PBMC-DNA.txt nonproductive removed\n",
      "\n"
     ]
    },
    {
     "name": "stdout",
     "output_type": "stream",
     "text": [
      "[1] 55\n"
     ]
    },
    {
     "name": "stderr",
     "output_type": "stream",
     "text": [
      "Number of CDR3s in: ~/Desktop/H4H/INTERCEPT/NextSeq/batch7_25Oct2019/mixcr/clones/CLONES_TRBCHP_359-01-PBMC-DNA.txt\n",
      "\n"
     ]
    },
    {
     "name": "stdout",
     "output_type": "stream",
     "text": [
      "[1] 38\n"
     ]
    },
    {
     "name": "stderr",
     "output_type": "stream",
     "text": [
      "Number of CDR3s in: ~/Desktop/H4H/INTERCEPT/NextSeq/batch7_25Oct2019/mixcr/clones/CLONES_TRBCHP_359-01-PBMC-DNA.txt nonproductive removed\n",
      "\n"
     ]
    },
    {
     "name": "stdout",
     "output_type": "stream",
     "text": [
      "[1] 30\n"
     ]
    },
    {
     "name": "stderr",
     "output_type": "stream",
     "text": [
      "Number of CDR3s in: ~/Desktop/H4H/INTERCEPT/NextSeq/batch7_25Oct2019/mixcr/clones/CLONES_TRBCHP_360-02-PBMC-DNA.txt\n",
      "\n"
     ]
    },
    {
     "name": "stdout",
     "output_type": "stream",
     "text": [
      "[1] 329\n"
     ]
    },
    {
     "name": "stderr",
     "output_type": "stream",
     "text": [
      "Number of CDR3s in: ~/Desktop/H4H/INTERCEPT/NextSeq/batch7_25Oct2019/mixcr/clones/CLONES_TRBCHP_360-02-PBMC-DNA.txt nonproductive removed\n",
      "\n"
     ]
    },
    {
     "name": "stdout",
     "output_type": "stream",
     "text": [
      "[1] 252\n"
     ]
    },
    {
     "name": "stderr",
     "output_type": "stream",
     "text": [
      "Number of CDR3s in: ~/Desktop/H4H/INTERCEPT/NextSeq/batch7_25Oct2019/mixcr/clones/CLONES_TRBCHP_361-04-PBMC-DNA.txt\n",
      "\n"
     ]
    },
    {
     "name": "stdout",
     "output_type": "stream",
     "text": [
      "[1] 40\n"
     ]
    },
    {
     "name": "stderr",
     "output_type": "stream",
     "text": [
      "Number of CDR3s in: ~/Desktop/H4H/INTERCEPT/NextSeq/batch7_25Oct2019/mixcr/clones/CLONES_TRBCHP_361-04-PBMC-DNA.txt nonproductive removed\n",
      "\n"
     ]
    },
    {
     "name": "stdout",
     "output_type": "stream",
     "text": [
      "[1] 30\n"
     ]
    },
    {
     "name": "stderr",
     "output_type": "stream",
     "text": [
      "Number of CDR3s in: ~/Desktop/H4H/INTERCEPT/NextSeq/batch7_25Oct2019/mixcr/clones/CLONES_TRBCHP_362-01-PBMC-DNA.txt\n",
      "\n"
     ]
    },
    {
     "name": "stdout",
     "output_type": "stream",
     "text": [
      "[1] 199\n"
     ]
    },
    {
     "name": "stderr",
     "output_type": "stream",
     "text": [
      "Number of CDR3s in: ~/Desktop/H4H/INTERCEPT/NextSeq/batch7_25Oct2019/mixcr/clones/CLONES_TRBCHP_362-01-PBMC-DNA.txt nonproductive removed\n",
      "\n"
     ]
    },
    {
     "name": "stdout",
     "output_type": "stream",
     "text": [
      "[1] 152\n"
     ]
    },
    {
     "name": "stderr",
     "output_type": "stream",
     "text": [
      "Number of CDR3s in: ~/Desktop/H4H/INTERCEPT/NextSeq/batch7_25Oct2019/mixcr/clones/CLONES_TRBCHP_362-03-PBMC-DNA.txt\n",
      "\n"
     ]
    },
    {
     "name": "stdout",
     "output_type": "stream",
     "text": [
      "[1] 132\n"
     ]
    },
    {
     "name": "stderr",
     "output_type": "stream",
     "text": [
      "Number of CDR3s in: ~/Desktop/H4H/INTERCEPT/NextSeq/batch7_25Oct2019/mixcr/clones/CLONES_TRBCHP_362-03-PBMC-DNA.txt nonproductive removed\n",
      "\n"
     ]
    },
    {
     "name": "stdout",
     "output_type": "stream",
     "text": [
      "[1] 107\n"
     ]
    },
    {
     "name": "stderr",
     "output_type": "stream",
     "text": [
      "Number of CDR3s in: ~/Desktop/H4H/INTERCEPT/NextSeq/batch7_25Oct2019/mixcr/clones/CLONES_TRBCHP_362-04-PBMC-DNA.txt\n",
      "\n"
     ]
    },
    {
     "name": "stdout",
     "output_type": "stream",
     "text": [
      "[1] 33\n"
     ]
    },
    {
     "name": "stderr",
     "output_type": "stream",
     "text": [
      "Number of CDR3s in: ~/Desktop/H4H/INTERCEPT/NextSeq/batch7_25Oct2019/mixcr/clones/CLONES_TRBCHP_362-04-PBMC-DNA.txt nonproductive removed\n",
      "\n"
     ]
    },
    {
     "name": "stdout",
     "output_type": "stream",
     "text": [
      "[1] 21\n"
     ]
    },
    {
     "name": "stderr",
     "output_type": "stream",
     "text": [
      "Number of CDR3s in: ~/Desktop/H4H/INTERCEPT/NextSeq/batch7_25Oct2019/mixcr/clones/CLONES_TRBCHP_368-01-PBMC-DNA.txt\n",
      "\n"
     ]
    },
    {
     "name": "stdout",
     "output_type": "stream",
     "text": [
      "[1] 343\n"
     ]
    },
    {
     "name": "stderr",
     "output_type": "stream",
     "text": [
      "Number of CDR3s in: ~/Desktop/H4H/INTERCEPT/NextSeq/batch7_25Oct2019/mixcr/clones/CLONES_TRBCHP_368-01-PBMC-DNA.txt nonproductive removed\n",
      "\n"
     ]
    },
    {
     "name": "stdout",
     "output_type": "stream",
     "text": [
      "[1] 256\n"
     ]
    },
    {
     "name": "stderr",
     "output_type": "stream",
     "text": [
      "Number of CDR3s in: ~/Desktop/H4H/INTERCEPT/NextSeq/batch7_25Oct2019/mixcr/clones/CLONES_TRBCHP_368-04-PBMC-DNA.txt\n",
      "\n"
     ]
    },
    {
     "name": "stdout",
     "output_type": "stream",
     "text": [
      "[1] 97\n"
     ]
    },
    {
     "name": "stderr",
     "output_type": "stream",
     "text": [
      "Number of CDR3s in: ~/Desktop/H4H/INTERCEPT/NextSeq/batch7_25Oct2019/mixcr/clones/CLONES_TRBCHP_368-04-PBMC-DNA.txt nonproductive removed\n",
      "\n"
     ]
    },
    {
     "name": "stdout",
     "output_type": "stream",
     "text": [
      "[1] 70\n"
     ]
    },
    {
     "name": "stderr",
     "output_type": "stream",
     "text": [
      "Number of CDR3s in: ~/Desktop/H4H/INTERCEPT/NextSeq/batch7_25Oct2019/mixcr/clones/CLONES_TRBCHP_370-01-PBMC-DNA.txt\n",
      "\n"
     ]
    },
    {
     "name": "stdout",
     "output_type": "stream",
     "text": [
      "[1] 20\n"
     ]
    },
    {
     "name": "stderr",
     "output_type": "stream",
     "text": [
      "Number of CDR3s in: ~/Desktop/H4H/INTERCEPT/NextSeq/batch7_25Oct2019/mixcr/clones/CLONES_TRBCHP_370-01-PBMC-DNA.txt nonproductive removed\n",
      "\n"
     ]
    },
    {
     "name": "stdout",
     "output_type": "stream",
     "text": [
      "[1] 17\n"
     ]
    },
    {
     "name": "stderr",
     "output_type": "stream",
     "text": [
      "Number of CDR3s in: ~/Desktop/H4H/INTERCEPT/NextSeq/batch7_25Oct2019/mixcr/clones/CLONES_TRBCHP_370-05-PBMC-DNA.txt\n",
      "\n"
     ]
    },
    {
     "name": "stdout",
     "output_type": "stream",
     "text": [
      "[1] 308\n"
     ]
    },
    {
     "name": "stderr",
     "output_type": "stream",
     "text": [
      "Number of CDR3s in: ~/Desktop/H4H/INTERCEPT/NextSeq/batch7_25Oct2019/mixcr/clones/CLONES_TRBCHP_370-05-PBMC-DNA.txt nonproductive removed\n",
      "\n"
     ]
    },
    {
     "name": "stdout",
     "output_type": "stream",
     "text": [
      "[1] 241\n"
     ]
    },
    {
     "name": "stderr",
     "output_type": "stream",
     "text": [
      "Number of CDR3s in: ~/Desktop/H4H/INTERCEPT/NextSeq/batch7_25Oct2019/mixcr/clones/CLONES_TRBCHP_373-02-PBMC-DNA.txt\n",
      "\n"
     ]
    },
    {
     "name": "stdout",
     "output_type": "stream",
     "text": [
      "[1] 124\n"
     ]
    },
    {
     "name": "stderr",
     "output_type": "stream",
     "text": [
      "Number of CDR3s in: ~/Desktop/H4H/INTERCEPT/NextSeq/batch7_25Oct2019/mixcr/clones/CLONES_TRBCHP_373-02-PBMC-DNA.txt nonproductive removed\n",
      "\n"
     ]
    },
    {
     "name": "stdout",
     "output_type": "stream",
     "text": [
      "[1] 90\n"
     ]
    },
    {
     "name": "stderr",
     "output_type": "stream",
     "text": [
      "Number of CDR3s in: ~/Desktop/H4H/INTERCEPT/NextSeq/batch7_25Oct2019/mixcr/clones/CLONES_TRBCHP_375-02-PBMC-DNA.txt\n",
      "\n"
     ]
    },
    {
     "name": "stdout",
     "output_type": "stream",
     "text": [
      "[1] 655\n"
     ]
    },
    {
     "name": "stderr",
     "output_type": "stream",
     "text": [
      "Number of CDR3s in: ~/Desktop/H4H/INTERCEPT/NextSeq/batch7_25Oct2019/mixcr/clones/CLONES_TRBCHP_375-02-PBMC-DNA.txt nonproductive removed\n",
      "\n"
     ]
    },
    {
     "name": "stdout",
     "output_type": "stream",
     "text": [
      "[1] 513\n"
     ]
    },
    {
     "name": "stderr",
     "output_type": "stream",
     "text": [
      "Number of CDR3s in: ~/Desktop/H4H/INTERCEPT/NextSeq/batch7_25Oct2019/mixcr/clones/CLONES_TRBCHP_378-02-PBMC-DNA.txt\n",
      "\n"
     ]
    },
    {
     "name": "stdout",
     "output_type": "stream",
     "text": [
      "[1] 283\n"
     ]
    },
    {
     "name": "stderr",
     "output_type": "stream",
     "text": [
      "Number of CDR3s in: ~/Desktop/H4H/INTERCEPT/NextSeq/batch7_25Oct2019/mixcr/clones/CLONES_TRBCHP_378-02-PBMC-DNA.txt nonproductive removed\n",
      "\n"
     ]
    },
    {
     "name": "stdout",
     "output_type": "stream",
     "text": [
      "[1] 210\n"
     ]
    },
    {
     "name": "stderr",
     "output_type": "stream",
     "text": [
      "Number of CDR3s in: ~/Desktop/H4H/INTERCEPT/NextSeq/batch7_cfDNA_29Jun2020/mixcr/clones/CLONES_TRBCHP_377-04_cfDNA.txt\n",
      "\n"
     ]
    },
    {
     "name": "stdout",
     "output_type": "stream",
     "text": [
      "[1] 0\n"
     ]
    },
    {
     "name": "stderr",
     "output_type": "stream",
     "text": [
      "Number of CDR3s in: ~/Desktop/H4H/INTERCEPT/NextSeq/batch7_cfDNA_29Jun2020/mixcr/clones/CLONES_TRBCHP_377-04_cfDNA.txt nonproductive removed\n",
      "\n"
     ]
    },
    {
     "name": "stdout",
     "output_type": "stream",
     "text": [
      "[1] 0\n"
     ]
    },
    {
     "name": "stderr",
     "output_type": "stream",
     "text": [
      "Number of CDR3s in: ~/Desktop/H4H/INTERCEPT/NextSeq/batch7_cfDNA_29Jun2020/mixcr/clones/CLONES_TRBCHP_381-05_cfDNA.txt\n",
      "\n"
     ]
    },
    {
     "name": "stdout",
     "output_type": "stream",
     "text": [
      "[1] 2\n"
     ]
    },
    {
     "name": "stderr",
     "output_type": "stream",
     "text": [
      "Number of CDR3s in: ~/Desktop/H4H/INTERCEPT/NextSeq/batch7_cfDNA_29Jun2020/mixcr/clones/CLONES_TRBCHP_381-05_cfDNA.txt nonproductive removed\n",
      "\n"
     ]
    },
    {
     "name": "stdout",
     "output_type": "stream",
     "text": [
      "[1] 0\n"
     ]
    },
    {
     "name": "stderr",
     "output_type": "stream",
     "text": [
      "Number of CDR3s in: ~/Desktop/H4H/INTERCEPT/NextSeq/batch7_cfDNA_29Jun2020/mixcr/clones/CLONES_TRBCHP_385-01_cfDNA.txt\n",
      "\n"
     ]
    },
    {
     "name": "stdout",
     "output_type": "stream",
     "text": [
      "[1] 2\n"
     ]
    },
    {
     "name": "stderr",
     "output_type": "stream",
     "text": [
      "Number of CDR3s in: ~/Desktop/H4H/INTERCEPT/NextSeq/batch7_cfDNA_29Jun2020/mixcr/clones/CLONES_TRBCHP_385-01_cfDNA.txt nonproductive removed\n",
      "\n"
     ]
    },
    {
     "name": "stdout",
     "output_type": "stream",
     "text": [
      "[1] 1\n"
     ]
    },
    {
     "name": "stderr",
     "output_type": "stream",
     "text": [
      "Number of CDR3s in: ~/Desktop/H4H/INTERCEPT/NextSeq/batch7_cfDNA_29Jun2020/mixcr/clones/CLONES_TRBCHP_385-02_cfDNA.txt\n",
      "\n"
     ]
    },
    {
     "name": "stdout",
     "output_type": "stream",
     "text": [
      "[1] 2\n"
     ]
    },
    {
     "name": "stderr",
     "output_type": "stream",
     "text": [
      "Number of CDR3s in: ~/Desktop/H4H/INTERCEPT/NextSeq/batch7_cfDNA_29Jun2020/mixcr/clones/CLONES_TRBCHP_385-02_cfDNA.txt nonproductive removed\n",
      "\n"
     ]
    },
    {
     "name": "stdout",
     "output_type": "stream",
     "text": [
      "[1] 2\n"
     ]
    },
    {
     "name": "stderr",
     "output_type": "stream",
     "text": [
      "Number of CDR3s in: ~/Desktop/H4H/INTERCEPT/NextSeq/batch7_cfDNA_29Jun2020/mixcr/clones/CLONES_TRBCHP_385-03_cfDNA.txt\n",
      "\n"
     ]
    },
    {
     "name": "stdout",
     "output_type": "stream",
     "text": [
      "[1] 1\n"
     ]
    },
    {
     "name": "stderr",
     "output_type": "stream",
     "text": [
      "Number of CDR3s in: ~/Desktop/H4H/INTERCEPT/NextSeq/batch7_cfDNA_29Jun2020/mixcr/clones/CLONES_TRBCHP_385-03_cfDNA.txt nonproductive removed\n",
      "\n"
     ]
    },
    {
     "name": "stdout",
     "output_type": "stream",
     "text": [
      "[1] 1\n"
     ]
    },
    {
     "name": "stderr",
     "output_type": "stream",
     "text": [
      "Number of CDR3s in: ~/Desktop/H4H/INTERCEPT/NextSeq/batch7_cfDNA_29Jun2020/mixcr/clones/CLONES_TRBCHP_386-01_cfDNA.txt\n",
      "\n"
     ]
    },
    {
     "name": "stdout",
     "output_type": "stream",
     "text": [
      "[1] 6\n"
     ]
    },
    {
     "name": "stderr",
     "output_type": "stream",
     "text": [
      "Number of CDR3s in: ~/Desktop/H4H/INTERCEPT/NextSeq/batch7_cfDNA_29Jun2020/mixcr/clones/CLONES_TRBCHP_386-01_cfDNA.txt nonproductive removed\n",
      "\n"
     ]
    },
    {
     "name": "stdout",
     "output_type": "stream",
     "text": [
      "[1] 5\n"
     ]
    },
    {
     "name": "stderr",
     "output_type": "stream",
     "text": [
      "Number of CDR3s in: ~/Desktop/H4H/INTERCEPT/NextSeq/batch7_cfDNA_29Jun2020/mixcr/clones/CLONES_TRBCHP_387-01_cfDNA.txt\n",
      "\n"
     ]
    },
    {
     "name": "stdout",
     "output_type": "stream",
     "text": [
      "[1] 10\n"
     ]
    },
    {
     "name": "stderr",
     "output_type": "stream",
     "text": [
      "Number of CDR3s in: ~/Desktop/H4H/INTERCEPT/NextSeq/batch7_cfDNA_29Jun2020/mixcr/clones/CLONES_TRBCHP_387-01_cfDNA.txt nonproductive removed\n",
      "\n"
     ]
    },
    {
     "name": "stdout",
     "output_type": "stream",
     "text": [
      "[1] 5\n"
     ]
    },
    {
     "name": "stderr",
     "output_type": "stream",
     "text": [
      "Number of CDR3s in: ~/Desktop/H4H/INTERCEPT/NextSeq/batch7_cfDNA_29Jun2020/mixcr/clones/CLONES_TRBCHP_388-01_cfDNA.txt\n",
      "\n"
     ]
    },
    {
     "name": "stdout",
     "output_type": "stream",
     "text": [
      "[1] 23\n"
     ]
    },
    {
     "name": "stderr",
     "output_type": "stream",
     "text": [
      "Number of CDR3s in: ~/Desktop/H4H/INTERCEPT/NextSeq/batch7_cfDNA_29Jun2020/mixcr/clones/CLONES_TRBCHP_388-01_cfDNA.txt nonproductive removed\n",
      "\n"
     ]
    },
    {
     "name": "stdout",
     "output_type": "stream",
     "text": [
      "[1] 14\n"
     ]
    },
    {
     "name": "stderr",
     "output_type": "stream",
     "text": [
      "Number of CDR3s in: ~/Desktop/H4H/INTERCEPT/NextSeq/batch7_cfDNA_29Jun2020/mixcr/clones/CLONES_TRBCHP_391-01_cfDNA.txt\n",
      "\n"
     ]
    },
    {
     "name": "stdout",
     "output_type": "stream",
     "text": [
      "[1] 8\n"
     ]
    },
    {
     "name": "stderr",
     "output_type": "stream",
     "text": [
      "Number of CDR3s in: ~/Desktop/H4H/INTERCEPT/NextSeq/batch7_cfDNA_29Jun2020/mixcr/clones/CLONES_TRBCHP_391-01_cfDNA.txt nonproductive removed\n",
      "\n"
     ]
    },
    {
     "name": "stdout",
     "output_type": "stream",
     "text": [
      "[1] 3\n"
     ]
    },
    {
     "name": "stderr",
     "output_type": "stream",
     "text": [
      "Number of CDR3s in: ~/Desktop/H4H/INTERCEPT/NextSeq/batch7_cfDNA_29Jun2020/mixcr/clones/CLONES_TRBCHP_391-02_cfDNA.txt\n",
      "\n"
     ]
    },
    {
     "name": "stdout",
     "output_type": "stream",
     "text": [
      "[1] 1\n"
     ]
    },
    {
     "name": "stderr",
     "output_type": "stream",
     "text": [
      "Number of CDR3s in: ~/Desktop/H4H/INTERCEPT/NextSeq/batch7_cfDNA_29Jun2020/mixcr/clones/CLONES_TRBCHP_391-02_cfDNA.txt nonproductive removed\n",
      "\n"
     ]
    },
    {
     "name": "stdout",
     "output_type": "stream",
     "text": [
      "[1] 0\n"
     ]
    },
    {
     "name": "stderr",
     "output_type": "stream",
     "text": [
      "Number of CDR3s in: ~/Desktop/H4H/INTERCEPT/NextSeq/batch7_cfDNA_29Jun2020/mixcr/clones/CLONES_TRBCHP_392-01_cfDNA.txt\n",
      "\n"
     ]
    },
    {
     "name": "stdout",
     "output_type": "stream",
     "text": [
      "[1] 1\n"
     ]
    },
    {
     "name": "stderr",
     "output_type": "stream",
     "text": [
      "Number of CDR3s in: ~/Desktop/H4H/INTERCEPT/NextSeq/batch7_cfDNA_29Jun2020/mixcr/clones/CLONES_TRBCHP_392-01_cfDNA.txt nonproductive removed\n",
      "\n"
     ]
    },
    {
     "name": "stdout",
     "output_type": "stream",
     "text": [
      "[1] 0\n"
     ]
    },
    {
     "name": "stderr",
     "output_type": "stream",
     "text": [
      "Number of CDR3s in: ~/Desktop/H4H/INTERCEPT/NextSeq/batch7_cfDNA_29Jun2020/mixcr/clones/CLONES_TRBCHP_393-02_cfDNA.txt\n",
      "\n"
     ]
    },
    {
     "name": "stdout",
     "output_type": "stream",
     "text": [
      "[1] 3\n"
     ]
    },
    {
     "name": "stderr",
     "output_type": "stream",
     "text": [
      "Number of CDR3s in: ~/Desktop/H4H/INTERCEPT/NextSeq/batch7_cfDNA_29Jun2020/mixcr/clones/CLONES_TRBCHP_393-02_cfDNA.txt nonproductive removed\n",
      "\n"
     ]
    },
    {
     "name": "stdout",
     "output_type": "stream",
     "text": [
      "[1] 3\n"
     ]
    },
    {
     "name": "stderr",
     "output_type": "stream",
     "text": [
      "Number of CDR3s in: ~/Desktop/H4H/INTERCEPT/NextSeq/batch7_cfDNA_29Jun2020/mixcr/clones/CLONES_TRBCHP_393-03_cfDNA.txt\n",
      "\n"
     ]
    },
    {
     "name": "stdout",
     "output_type": "stream",
     "text": [
      "[1] 1\n"
     ]
    },
    {
     "name": "stderr",
     "output_type": "stream",
     "text": [
      "Number of CDR3s in: ~/Desktop/H4H/INTERCEPT/NextSeq/batch7_cfDNA_29Jun2020/mixcr/clones/CLONES_TRBCHP_393-03_cfDNA.txt nonproductive removed\n",
      "\n"
     ]
    },
    {
     "name": "stdout",
     "output_type": "stream",
     "text": [
      "[1] 1\n"
     ]
    },
    {
     "name": "stderr",
     "output_type": "stream",
     "text": [
      "Number of CDR3s in: ~/Desktop/H4H/INTERCEPT/NextSeq/batch7_cfDNA_29Jun2020/mixcr/clones/CLONES_TRBCHP_394-01_cfDNA.txt\n",
      "\n"
     ]
    },
    {
     "name": "stdout",
     "output_type": "stream",
     "text": [
      "[1] 0\n"
     ]
    },
    {
     "name": "stderr",
     "output_type": "stream",
     "text": [
      "Number of CDR3s in: ~/Desktop/H4H/INTERCEPT/NextSeq/batch7_cfDNA_29Jun2020/mixcr/clones/CLONES_TRBCHP_394-01_cfDNA.txt nonproductive removed\n",
      "\n"
     ]
    },
    {
     "name": "stdout",
     "output_type": "stream",
     "text": [
      "[1] 0\n"
     ]
    },
    {
     "name": "stderr",
     "output_type": "stream",
     "text": [
      "Number of CDR3s in: ~/Desktop/H4H/INTERCEPT/NextSeq/batch7_cfDNA_29Jun2020/mixcr/clones/CLONES_TRBCHP_395-01_cfDNA.txt\n",
      "\n"
     ]
    },
    {
     "name": "stdout",
     "output_type": "stream",
     "text": [
      "[1] 4\n"
     ]
    },
    {
     "name": "stderr",
     "output_type": "stream",
     "text": [
      "Number of CDR3s in: ~/Desktop/H4H/INTERCEPT/NextSeq/batch7_cfDNA_29Jun2020/mixcr/clones/CLONES_TRBCHP_395-01_cfDNA.txt nonproductive removed\n",
      "\n"
     ]
    },
    {
     "name": "stdout",
     "output_type": "stream",
     "text": [
      "[1] 2\n"
     ]
    },
    {
     "name": "stderr",
     "output_type": "stream",
     "text": [
      "Number of CDR3s in: ~/Desktop/H4H/INTERCEPT/NextSeq/batch7_cfDNA_29Jun2020/mixcr/clones/CLONES_TRBCHP_396-01_cfDNA.txt\n",
      "\n"
     ]
    },
    {
     "name": "stdout",
     "output_type": "stream",
     "text": [
      "[1] 1\n"
     ]
    },
    {
     "name": "stderr",
     "output_type": "stream",
     "text": [
      "Number of CDR3s in: ~/Desktop/H4H/INTERCEPT/NextSeq/batch7_cfDNA_29Jun2020/mixcr/clones/CLONES_TRBCHP_396-01_cfDNA.txt nonproductive removed\n",
      "\n"
     ]
    },
    {
     "name": "stdout",
     "output_type": "stream",
     "text": [
      "[1] 1\n"
     ]
    },
    {
     "name": "stderr",
     "output_type": "stream",
     "text": [
      "Number of CDR3s in: ~/Desktop/H4H/INTERCEPT/NextSeq/batch7_cfDNA_29Jun2020/mixcr/clones/CLONES_TRBCHP_397-01_cfDNA.txt\n",
      "\n"
     ]
    },
    {
     "name": "stdout",
     "output_type": "stream",
     "text": [
      "[1] 2\n"
     ]
    },
    {
     "name": "stderr",
     "output_type": "stream",
     "text": [
      "Number of CDR3s in: ~/Desktop/H4H/INTERCEPT/NextSeq/batch7_cfDNA_29Jun2020/mixcr/clones/CLONES_TRBCHP_397-01_cfDNA.txt nonproductive removed\n",
      "\n"
     ]
    },
    {
     "name": "stdout",
     "output_type": "stream",
     "text": [
      "[1] 1\n"
     ]
    },
    {
     "name": "stderr",
     "output_type": "stream",
     "text": [
      "Number of CDR3s in: ~/Desktop/H4H/INTERCEPT/NextSeq/batch7_cfDNA_29Jun2020/mixcr/clones/CLONES_TRBCHP_397-02_cfDNA.txt\n",
      "\n"
     ]
    },
    {
     "name": "stdout",
     "output_type": "stream",
     "text": [
      "[1] 10\n"
     ]
    },
    {
     "name": "stderr",
     "output_type": "stream",
     "text": [
      "Number of CDR3s in: ~/Desktop/H4H/INTERCEPT/NextSeq/batch7_cfDNA_29Jun2020/mixcr/clones/CLONES_TRBCHP_397-02_cfDNA.txt nonproductive removed\n",
      "\n"
     ]
    },
    {
     "name": "stdout",
     "output_type": "stream",
     "text": [
      "[1] 4\n"
     ]
    },
    {
     "name": "stderr",
     "output_type": "stream",
     "text": [
      "Number of CDR3s in: ~/Desktop/H4H/INTERCEPT/NextSeq/batch7_cfDNA_29Jun2020/mixcr/clones/CLONES_TRBCHP_398-01_cfDNA.txt\n",
      "\n"
     ]
    },
    {
     "name": "stdout",
     "output_type": "stream",
     "text": [
      "[1] 2\n"
     ]
    },
    {
     "name": "stderr",
     "output_type": "stream",
     "text": [
      "Number of CDR3s in: ~/Desktop/H4H/INTERCEPT/NextSeq/batch7_cfDNA_29Jun2020/mixcr/clones/CLONES_TRBCHP_398-01_cfDNA.txt nonproductive removed\n",
      "\n"
     ]
    },
    {
     "name": "stdout",
     "output_type": "stream",
     "text": [
      "[1] 0\n"
     ]
    },
    {
     "name": "stderr",
     "output_type": "stream",
     "text": [
      "Number of CDR3s in: ~/Desktop/H4H/INTERCEPT/NextSeq/batch7_cfDNA_29Jun2020/mixcr/clones/CLONES_TRBCHP_398-03_cfDNA.txt\n",
      "\n"
     ]
    },
    {
     "name": "stdout",
     "output_type": "stream",
     "text": [
      "[1] 1\n"
     ]
    },
    {
     "name": "stderr",
     "output_type": "stream",
     "text": [
      "Number of CDR3s in: ~/Desktop/H4H/INTERCEPT/NextSeq/batch7_cfDNA_29Jun2020/mixcr/clones/CLONES_TRBCHP_398-03_cfDNA.txt nonproductive removed\n",
      "\n"
     ]
    },
    {
     "name": "stdout",
     "output_type": "stream",
     "text": [
      "[1] 1\n"
     ]
    },
    {
     "name": "stderr",
     "output_type": "stream",
     "text": [
      "Number of CDR3s in: ~/Desktop/H4H/INTERCEPT/NextSeq/batch7_cfDNA_29Jun2020/mixcr/clones/CLONES_TRBCHP_399-01_cfDNA.txt\n",
      "\n"
     ]
    },
    {
     "name": "stdout",
     "output_type": "stream",
     "text": [
      "[1] 20\n"
     ]
    },
    {
     "name": "stderr",
     "output_type": "stream",
     "text": [
      "Number of CDR3s in: ~/Desktop/H4H/INTERCEPT/NextSeq/batch7_cfDNA_29Jun2020/mixcr/clones/CLONES_TRBCHP_399-01_cfDNA.txt nonproductive removed\n",
      "\n"
     ]
    },
    {
     "name": "stdout",
     "output_type": "stream",
     "text": [
      "[1] 13\n"
     ]
    },
    {
     "name": "stderr",
     "output_type": "stream",
     "text": [
      "Number of CDR3s in: ~/Desktop/H4H/INTERCEPT/NextSeq/batch7_cfDNA_29Jun2020/mixcr/clones/CLONES_TRBCHP_401-01_cfDNA.txt\n",
      "\n"
     ]
    },
    {
     "name": "stdout",
     "output_type": "stream",
     "text": [
      "[1] 1\n"
     ]
    },
    {
     "name": "stderr",
     "output_type": "stream",
     "text": [
      "Number of CDR3s in: ~/Desktop/H4H/INTERCEPT/NextSeq/batch7_cfDNA_29Jun2020/mixcr/clones/CLONES_TRBCHP_401-01_cfDNA.txt nonproductive removed\n",
      "\n"
     ]
    },
    {
     "name": "stdout",
     "output_type": "stream",
     "text": [
      "[1] 1\n"
     ]
    },
    {
     "name": "stderr",
     "output_type": "stream",
     "text": [
      "Number of CDR3s in: ~/Desktop/H4H/INTERCEPT/NextSeq/batch7_cfDNA_29Jun2020/mixcr/clones/CLONES_TRBCHP_402-01_cfDNA.txt\n",
      "\n"
     ]
    },
    {
     "name": "stdout",
     "output_type": "stream",
     "text": [
      "[1] 11\n"
     ]
    },
    {
     "name": "stderr",
     "output_type": "stream",
     "text": [
      "Number of CDR3s in: ~/Desktop/H4H/INTERCEPT/NextSeq/batch7_cfDNA_29Jun2020/mixcr/clones/CLONES_TRBCHP_402-01_cfDNA.txt nonproductive removed\n",
      "\n"
     ]
    },
    {
     "name": "stdout",
     "output_type": "stream",
     "text": [
      "[1] 3\n"
     ]
    },
    {
     "name": "stderr",
     "output_type": "stream",
     "text": [
      "Number of CDR3s in: ~/Desktop/H4H/INTERCEPT/NextSeq/batch7_cfDNA_29Jun2020/mixcr/clones/CLONES_TRBCHP_405-01_cfDNA.txt\n",
      "\n"
     ]
    },
    {
     "name": "stdout",
     "output_type": "stream",
     "text": [
      "[1] 20\n"
     ]
    },
    {
     "name": "stderr",
     "output_type": "stream",
     "text": [
      "Number of CDR3s in: ~/Desktop/H4H/INTERCEPT/NextSeq/batch7_cfDNA_29Jun2020/mixcr/clones/CLONES_TRBCHP_405-01_cfDNA.txt nonproductive removed\n",
      "\n"
     ]
    },
    {
     "name": "stdout",
     "output_type": "stream",
     "text": [
      "[1] 12\n"
     ]
    },
    {
     "name": "stderr",
     "output_type": "stream",
     "text": [
      "Number of CDR3s in: ~/Desktop/H4H/INTERCEPT/NextSeq/batch8_14Jan2020/mixcr/clones/CLONES_TRBCHP_335-03-PBMC-DNA.txt\n",
      "\n"
     ]
    },
    {
     "name": "stdout",
     "output_type": "stream",
     "text": [
      "[1] 258\n"
     ]
    },
    {
     "name": "stderr",
     "output_type": "stream",
     "text": [
      "Number of CDR3s in: ~/Desktop/H4H/INTERCEPT/NextSeq/batch8_14Jan2020/mixcr/clones/CLONES_TRBCHP_335-03-PBMC-DNA.txt nonproductive removed\n",
      "\n"
     ]
    },
    {
     "name": "stdout",
     "output_type": "stream",
     "text": [
      "[1] 178\n"
     ]
    },
    {
     "name": "stderr",
     "output_type": "stream",
     "text": [
      "Number of CDR3s in: ~/Desktop/H4H/INTERCEPT/NextSeq/batch8_14Jan2020/mixcr/clones/CLONES_TRBCHP_344-04-PBMC-DNA.txt\n",
      "\n"
     ]
    },
    {
     "name": "stdout",
     "output_type": "stream",
     "text": [
      "[1] 148\n"
     ]
    },
    {
     "name": "stderr",
     "output_type": "stream",
     "text": [
      "Number of CDR3s in: ~/Desktop/H4H/INTERCEPT/NextSeq/batch8_14Jan2020/mixcr/clones/CLONES_TRBCHP_344-04-PBMC-DNA.txt nonproductive removed\n",
      "\n"
     ]
    },
    {
     "name": "stdout",
     "output_type": "stream",
     "text": [
      "[1] 121\n"
     ]
    },
    {
     "name": "stderr",
     "output_type": "stream",
     "text": [
      "Number of CDR3s in: ~/Desktop/H4H/INTERCEPT/NextSeq/batch8_14Jan2020/mixcr/clones/CLONES_TRBCHP_347-05-PBMC-DNA.txt\n",
      "\n"
     ]
    },
    {
     "name": "stdout",
     "output_type": "stream",
     "text": [
      "[1] 176\n"
     ]
    },
    {
     "name": "stderr",
     "output_type": "stream",
     "text": [
      "Number of CDR3s in: ~/Desktop/H4H/INTERCEPT/NextSeq/batch8_14Jan2020/mixcr/clones/CLONES_TRBCHP_347-05-PBMC-DNA.txt nonproductive removed\n",
      "\n"
     ]
    },
    {
     "name": "stdout",
     "output_type": "stream",
     "text": [
      "[1] 127\n"
     ]
    },
    {
     "name": "stderr",
     "output_type": "stream",
     "text": [
      "Number of CDR3s in: ~/Desktop/H4H/INTERCEPT/NextSeq/batch8_14Jan2020/mixcr/clones/CLONES_TRBCHP_356-02-PBMC-DNA.txt\n",
      "\n"
     ]
    },
    {
     "name": "stdout",
     "output_type": "stream",
     "text": [
      "[1] 131\n"
     ]
    },
    {
     "name": "stderr",
     "output_type": "stream",
     "text": [
      "Number of CDR3s in: ~/Desktop/H4H/INTERCEPT/NextSeq/batch8_14Jan2020/mixcr/clones/CLONES_TRBCHP_356-02-PBMC-DNA.txt nonproductive removed\n",
      "\n"
     ]
    },
    {
     "name": "stdout",
     "output_type": "stream",
     "text": [
      "[1] 103\n"
     ]
    },
    {
     "name": "stderr",
     "output_type": "stream",
     "text": [
      "Number of CDR3s in: ~/Desktop/H4H/INTERCEPT/NextSeq/batch8_14Jan2020/mixcr/clones/CLONES_TRBCHP_357-02-PBMC-DNA.txt\n",
      "\n"
     ]
    },
    {
     "name": "stdout",
     "output_type": "stream",
     "text": [
      "[1] 703\n"
     ]
    },
    {
     "name": "stderr",
     "output_type": "stream",
     "text": [
      "Number of CDR3s in: ~/Desktop/H4H/INTERCEPT/NextSeq/batch8_14Jan2020/mixcr/clones/CLONES_TRBCHP_357-02-PBMC-DNA.txt nonproductive removed\n",
      "\n"
     ]
    },
    {
     "name": "stdout",
     "output_type": "stream",
     "text": [
      "[1] 482\n"
     ]
    },
    {
     "name": "stderr",
     "output_type": "stream",
     "text": [
      "Number of CDR3s in: ~/Desktop/H4H/INTERCEPT/NextSeq/batch8_14Jan2020/mixcr/clones/CLONES_TRBCHP_360-05-PBMC-DNA.txt\n",
      "\n"
     ]
    },
    {
     "name": "stdout",
     "output_type": "stream",
     "text": [
      "[1] 258\n"
     ]
    },
    {
     "name": "stderr",
     "output_type": "stream",
     "text": [
      "Number of CDR3s in: ~/Desktop/H4H/INTERCEPT/NextSeq/batch8_14Jan2020/mixcr/clones/CLONES_TRBCHP_360-05-PBMC-DNA.txt nonproductive removed\n",
      "\n"
     ]
    },
    {
     "name": "stdout",
     "output_type": "stream",
     "text": [
      "[1] 208\n"
     ]
    },
    {
     "name": "stderr",
     "output_type": "stream",
     "text": [
      "Number of CDR3s in: ~/Desktop/H4H/INTERCEPT/NextSeq/batch8_14Jan2020/mixcr/clones/CLONES_TRBCHP_369-02-PBMC-DNA.txt\n",
      "\n"
     ]
    },
    {
     "name": "stdout",
     "output_type": "stream",
     "text": [
      "[1] 305\n"
     ]
    },
    {
     "name": "stderr",
     "output_type": "stream",
     "text": [
      "Number of CDR3s in: ~/Desktop/H4H/INTERCEPT/NextSeq/batch8_14Jan2020/mixcr/clones/CLONES_TRBCHP_369-02-PBMC-DNA.txt nonproductive removed\n",
      "\n"
     ]
    },
    {
     "name": "stdout",
     "output_type": "stream",
     "text": [
      "[1] 209\n"
     ]
    },
    {
     "name": "stderr",
     "output_type": "stream",
     "text": [
      "Number of CDR3s in: ~/Desktop/H4H/INTERCEPT/NextSeq/batch8_14Jan2020/mixcr/clones/CLONES_TRBCHP_370-03-PBMC-DNA.txt\n",
      "\n"
     ]
    },
    {
     "name": "stdout",
     "output_type": "stream",
     "text": [
      "[1] 386\n"
     ]
    },
    {
     "name": "stderr",
     "output_type": "stream",
     "text": [
      "Number of CDR3s in: ~/Desktop/H4H/INTERCEPT/NextSeq/batch8_14Jan2020/mixcr/clones/CLONES_TRBCHP_370-03-PBMC-DNA.txt nonproductive removed\n",
      "\n"
     ]
    },
    {
     "name": "stdout",
     "output_type": "stream",
     "text": [
      "[1] 295\n"
     ]
    },
    {
     "name": "stderr",
     "output_type": "stream",
     "text": [
      "Number of CDR3s in: ~/Desktop/H4H/INTERCEPT/NextSeq/batch8_14Jan2020/mixcr/clones/CLONES_TRBCHP_371-01-PBMC-DNA.txt\n",
      "\n"
     ]
    },
    {
     "name": "stdout",
     "output_type": "stream",
     "text": [
      "[1] 0\n"
     ]
    },
    {
     "name": "stderr",
     "output_type": "stream",
     "text": [
      "Number of CDR3s in: ~/Desktop/H4H/INTERCEPT/NextSeq/batch8_14Jan2020/mixcr/clones/CLONES_TRBCHP_371-01-PBMC-DNA.txt nonproductive removed\n",
      "\n"
     ]
    },
    {
     "name": "stdout",
     "output_type": "stream",
     "text": [
      "[1] 0\n"
     ]
    },
    {
     "name": "stderr",
     "output_type": "stream",
     "text": [
      "Number of CDR3s in: ~/Desktop/H4H/INTERCEPT/NextSeq/batch8_14Jan2020/mixcr/clones/CLONES_TRBCHP_373-03-PBMC-DNA.txt\n",
      "\n"
     ]
    },
    {
     "name": "stdout",
     "output_type": "stream",
     "text": [
      "[1] 94\n"
     ]
    },
    {
     "name": "stderr",
     "output_type": "stream",
     "text": [
      "Number of CDR3s in: ~/Desktop/H4H/INTERCEPT/NextSeq/batch8_14Jan2020/mixcr/clones/CLONES_TRBCHP_373-03-PBMC-DNA.txt nonproductive removed\n",
      "\n"
     ]
    },
    {
     "name": "stdout",
     "output_type": "stream",
     "text": [
      "[1] 65\n"
     ]
    },
    {
     "name": "stderr",
     "output_type": "stream",
     "text": [
      "Number of CDR3s in: ~/Desktop/H4H/INTERCEPT/NextSeq/batch8_14Jan2020/mixcr/clones/CLONES_TRBCHP_378-04-PBMC-DNA.txt\n",
      "\n"
     ]
    },
    {
     "name": "stdout",
     "output_type": "stream",
     "text": [
      "[1] 369\n"
     ]
    },
    {
     "name": "stderr",
     "output_type": "stream",
     "text": [
      "Number of CDR3s in: ~/Desktop/H4H/INTERCEPT/NextSeq/batch8_14Jan2020/mixcr/clones/CLONES_TRBCHP_378-04-PBMC-DNA.txt nonproductive removed\n",
      "\n"
     ]
    },
    {
     "name": "stdout",
     "output_type": "stream",
     "text": [
      "[1] 274\n"
     ]
    },
    {
     "name": "stderr",
     "output_type": "stream",
     "text": [
      "Number of CDR3s in: ~/Desktop/H4H/INTERCEPT/NextSeq/batch8_14Jan2020/mixcr/clones/CLONES_TRBCHP_380-03-PBMC-DNA.txt\n",
      "\n"
     ]
    },
    {
     "name": "stdout",
     "output_type": "stream",
     "text": [
      "[1] 86\n"
     ]
    },
    {
     "name": "stderr",
     "output_type": "stream",
     "text": [
      "Number of CDR3s in: ~/Desktop/H4H/INTERCEPT/NextSeq/batch8_14Jan2020/mixcr/clones/CLONES_TRBCHP_380-03-PBMC-DNA.txt nonproductive removed\n",
      "\n"
     ]
    },
    {
     "name": "stdout",
     "output_type": "stream",
     "text": [
      "[1] 67\n"
     ]
    },
    {
     "name": "stderr",
     "output_type": "stream",
     "text": [
      "Number of CDR3s in: ~/Desktop/H4H/INTERCEPT/NextSeq/batch8_14Jan2020/mixcr/clones/CLONES_TRBCHP_380-05-PBMC-DNA.txt\n",
      "\n"
     ]
    },
    {
     "name": "stdout",
     "output_type": "stream",
     "text": [
      "[1] 77\n"
     ]
    },
    {
     "name": "stderr",
     "output_type": "stream",
     "text": [
      "Number of CDR3s in: ~/Desktop/H4H/INTERCEPT/NextSeq/batch8_14Jan2020/mixcr/clones/CLONES_TRBCHP_380-05-PBMC-DNA.txt nonproductive removed\n",
      "\n"
     ]
    },
    {
     "name": "stdout",
     "output_type": "stream",
     "text": [
      "[1] 62\n"
     ]
    },
    {
     "name": "stderr",
     "output_type": "stream",
     "text": [
      "Number of CDR3s in: ~/Desktop/H4H/INTERCEPT/NextSeq/batch8_14Jan2020/mixcr/clones/CLONES_TRBCHP_382-02-PBMC-DNA.txt\n",
      "\n"
     ]
    },
    {
     "name": "stdout",
     "output_type": "stream",
     "text": [
      "[1] 27\n"
     ]
    },
    {
     "name": "stderr",
     "output_type": "stream",
     "text": [
      "Number of CDR3s in: ~/Desktop/H4H/INTERCEPT/NextSeq/batch8_14Jan2020/mixcr/clones/CLONES_TRBCHP_382-02-PBMC-DNA.txt nonproductive removed\n",
      "\n"
     ]
    },
    {
     "name": "stdout",
     "output_type": "stream",
     "text": [
      "[1] 22\n"
     ]
    },
    {
     "name": "stderr",
     "output_type": "stream",
     "text": [
      "Number of CDR3s in: ~/Desktop/H4H/INTERCEPT/NextSeq/batch8_14Jan2020/mixcr/clones/CLONES_TRBCHP_383-03-PBMC-DNA.txt\n",
      "\n"
     ]
    },
    {
     "name": "stdout",
     "output_type": "stream",
     "text": [
      "[1] 3\n"
     ]
    },
    {
     "name": "stderr",
     "output_type": "stream",
     "text": [
      "Number of CDR3s in: ~/Desktop/H4H/INTERCEPT/NextSeq/batch8_14Jan2020/mixcr/clones/CLONES_TRBCHP_383-03-PBMC-DNA.txt nonproductive removed\n",
      "\n"
     ]
    },
    {
     "name": "stdout",
     "output_type": "stream",
     "text": [
      "[1] 2\n"
     ]
    },
    {
     "name": "stderr",
     "output_type": "stream",
     "text": [
      "Number of CDR3s in: ~/Desktop/H4H/INTERCEPT/NextSeq/batch8_14Jan2020/mixcr/clones/CLONES_TRBCHP_385-03-PBMC-DNA.txt\n",
      "\n"
     ]
    },
    {
     "name": "stdout",
     "output_type": "stream",
     "text": [
      "[1] 6\n"
     ]
    },
    {
     "name": "stderr",
     "output_type": "stream",
     "text": [
      "Number of CDR3s in: ~/Desktop/H4H/INTERCEPT/NextSeq/batch8_14Jan2020/mixcr/clones/CLONES_TRBCHP_385-03-PBMC-DNA.txt nonproductive removed\n",
      "\n"
     ]
    },
    {
     "name": "stdout",
     "output_type": "stream",
     "text": [
      "[1] 3\n"
     ]
    },
    {
     "name": "stderr",
     "output_type": "stream",
     "text": [
      "Number of CDR3s in: ~/Desktop/H4H/INTERCEPT/NextSeq/batch8_14Jan2020/mixcr/clones/CLONES_TRBCHP_386-02-PBMC-DNA.txt\n",
      "\n"
     ]
    },
    {
     "name": "stdout",
     "output_type": "stream",
     "text": [
      "[1] 43\n"
     ]
    },
    {
     "name": "stderr",
     "output_type": "stream",
     "text": [
      "Number of CDR3s in: ~/Desktop/H4H/INTERCEPT/NextSeq/batch8_14Jan2020/mixcr/clones/CLONES_TRBCHP_386-02-PBMC-DNA.txt nonproductive removed\n",
      "\n"
     ]
    },
    {
     "name": "stdout",
     "output_type": "stream",
     "text": [
      "[1] 32\n"
     ]
    },
    {
     "name": "stderr",
     "output_type": "stream",
     "text": [
      "Number of CDR3s in: ~/Desktop/H4H/INTERCEPT/NextSeq/batch8_14Jan2020/mixcr/clones/CLONES_TRBCHP_387-01-PBMC-DNA.txt\n",
      "\n"
     ]
    },
    {
     "name": "stdout",
     "output_type": "stream",
     "text": [
      "[1] 361\n"
     ]
    },
    {
     "name": "stderr",
     "output_type": "stream",
     "text": [
      "Number of CDR3s in: ~/Desktop/H4H/INTERCEPT/NextSeq/batch8_14Jan2020/mixcr/clones/CLONES_TRBCHP_387-01-PBMC-DNA.txt nonproductive removed\n",
      "\n"
     ]
    },
    {
     "name": "stdout",
     "output_type": "stream",
     "text": [
      "[1] 279\n"
     ]
    },
    {
     "name": "stderr",
     "output_type": "stream",
     "text": [
      "Number of CDR3s in: ~/Desktop/H4H/INTERCEPT/NextSeq/batch8_14Jan2020/mixcr/clones/CLONES_TRBCHP_394-01-PBMC-DNA.txt\n",
      "\n"
     ]
    },
    {
     "name": "stdout",
     "output_type": "stream",
     "text": [
      "[1] 1\n"
     ]
    },
    {
     "name": "stderr",
     "output_type": "stream",
     "text": [
      "Number of CDR3s in: ~/Desktop/H4H/INTERCEPT/NextSeq/batch8_14Jan2020/mixcr/clones/CLONES_TRBCHP_394-01-PBMC-DNA.txt nonproductive removed\n",
      "\n"
     ]
    },
    {
     "name": "stdout",
     "output_type": "stream",
     "text": [
      "[1] 1\n"
     ]
    },
    {
     "name": "stderr",
     "output_type": "stream",
     "text": [
      "Number of CDR3s in: ~/Desktop/H4H/INTERCEPT/NextSeq/batch8_14Jan2020/mixcr/clones/CLONES_TRBCHP_394-04-PBMC-DNA.txt\n",
      "\n"
     ]
    },
    {
     "name": "stdout",
     "output_type": "stream",
     "text": [
      "[1] 112\n"
     ]
    },
    {
     "name": "stderr",
     "output_type": "stream",
     "text": [
      "Number of CDR3s in: ~/Desktop/H4H/INTERCEPT/NextSeq/batch8_14Jan2020/mixcr/clones/CLONES_TRBCHP_394-04-PBMC-DNA.txt nonproductive removed\n",
      "\n"
     ]
    },
    {
     "name": "stdout",
     "output_type": "stream",
     "text": [
      "[1] 91\n"
     ]
    },
    {
     "name": "stderr",
     "output_type": "stream",
     "text": [
      "Number of CDR3s in: ~/Desktop/H4H/INTERCEPT/NextSeq/batch8_14Jan2020/mixcr/clones/CLONES_TRBCHP_396-01-PBMC-DNA.txt\n",
      "\n"
     ]
    },
    {
     "name": "stdout",
     "output_type": "stream",
     "text": [
      "[1] 420\n"
     ]
    },
    {
     "name": "stderr",
     "output_type": "stream",
     "text": [
      "Number of CDR3s in: ~/Desktop/H4H/INTERCEPT/NextSeq/batch8_14Jan2020/mixcr/clones/CLONES_TRBCHP_396-01-PBMC-DNA.txt nonproductive removed\n",
      "\n"
     ]
    },
    {
     "name": "stdout",
     "output_type": "stream",
     "text": [
      "[1] 312\n"
     ]
    },
    {
     "name": "stderr",
     "output_type": "stream",
     "text": [
      "Number of CDR3s in: ~/Desktop/H4H/INTERCEPT/NextSeq/batch8_14Jan2020/mixcr/clones/CLONES_TRBCHP_396-02-PBMC-DNA.txt\n",
      "\n"
     ]
    },
    {
     "name": "stdout",
     "output_type": "stream",
     "text": [
      "[1] 438\n"
     ]
    },
    {
     "name": "stderr",
     "output_type": "stream",
     "text": [
      "Number of CDR3s in: ~/Desktop/H4H/INTERCEPT/NextSeq/batch8_14Jan2020/mixcr/clones/CLONES_TRBCHP_396-02-PBMC-DNA.txt nonproductive removed\n",
      "\n"
     ]
    },
    {
     "name": "stdout",
     "output_type": "stream",
     "text": [
      "[1] 331\n"
     ]
    },
    {
     "name": "stderr",
     "output_type": "stream",
     "text": [
      "Number of CDR3s in: ~/Desktop/H4H/INTERCEPT/NextSeq/batch8_14Jan2020/mixcr/clones/CLONES_TRBCHP_397-01-PBMC-DNA.txt\n",
      "\n"
     ]
    },
    {
     "name": "stdout",
     "output_type": "stream",
     "text": [
      "[1] 251\n"
     ]
    },
    {
     "name": "stderr",
     "output_type": "stream",
     "text": [
      "Number of CDR3s in: ~/Desktop/H4H/INTERCEPT/NextSeq/batch8_14Jan2020/mixcr/clones/CLONES_TRBCHP_397-01-PBMC-DNA.txt nonproductive removed\n",
      "\n"
     ]
    },
    {
     "name": "stdout",
     "output_type": "stream",
     "text": [
      "[1] 175\n"
     ]
    },
    {
     "name": "stderr",
     "output_type": "stream",
     "text": [
      "Number of CDR3s in: ~/Desktop/H4H/INTERCEPT/NextSeq/batch8_14Jan2020/mixcr/clones/CLONES_TRBCHP_399-01-PBMC-DNA.txt\n",
      "\n"
     ]
    },
    {
     "name": "stdout",
     "output_type": "stream",
     "text": [
      "[1] 42\n"
     ]
    },
    {
     "name": "stderr",
     "output_type": "stream",
     "text": [
      "Number of CDR3s in: ~/Desktop/H4H/INTERCEPT/NextSeq/batch8_14Jan2020/mixcr/clones/CLONES_TRBCHP_399-01-PBMC-DNA.txt nonproductive removed\n",
      "\n"
     ]
    },
    {
     "name": "stdout",
     "output_type": "stream",
     "text": [
      "[1] 31\n"
     ]
    },
    {
     "name": "stderr",
     "output_type": "stream",
     "text": [
      "Number of CDR3s in: ~/Desktop/H4H/INTERCEPT/NextSeq/batchFFPE_3Apr2020/mixcr/clones/CLONES_TRBCHP_343_B-FFPE-DNA.txt\n",
      "\n"
     ]
    },
    {
     "name": "stdout",
     "output_type": "stream",
     "text": [
      "[1] 0\n"
     ]
    },
    {
     "name": "stderr",
     "output_type": "stream",
     "text": [
      "Number of CDR3s in: ~/Desktop/H4H/INTERCEPT/NextSeq/batchFFPE_3Apr2020/mixcr/clones/CLONES_TRBCHP_343_B-FFPE-DNA.txt nonproductive removed\n",
      "\n"
     ]
    },
    {
     "name": "stdout",
     "output_type": "stream",
     "text": [
      "[1] 0\n"
     ]
    },
    {
     "name": "stderr",
     "output_type": "stream",
     "text": [
      "Number of CDR3s in: ~/Desktop/H4H/INTERCEPT/NextSeq/batchFFPE_3Apr2020/mixcr/clones/CLONES_TRBCHP_344_A-FFPE-DNA.txt\n",
      "\n"
     ]
    },
    {
     "name": "stdout",
     "output_type": "stream",
     "text": [
      "[1] 7\n"
     ]
    },
    {
     "name": "stderr",
     "output_type": "stream",
     "text": [
      "Number of CDR3s in: ~/Desktop/H4H/INTERCEPT/NextSeq/batchFFPE_3Apr2020/mixcr/clones/CLONES_TRBCHP_344_A-FFPE-DNA.txt nonproductive removed\n",
      "\n"
     ]
    },
    {
     "name": "stdout",
     "output_type": "stream",
     "text": [
      "[1] 6\n"
     ]
    },
    {
     "name": "stderr",
     "output_type": "stream",
     "text": [
      "Number of CDR3s in: ~/Desktop/H4H/INTERCEPT/NextSeq/batchFFPE_3Apr2020/mixcr/clones/CLONES_TRBCHP_344_B-FFPE-DNA.txt\n",
      "\n"
     ]
    },
    {
     "name": "stdout",
     "output_type": "stream",
     "text": [
      "[1] 0\n"
     ]
    },
    {
     "name": "stderr",
     "output_type": "stream",
     "text": [
      "Number of CDR3s in: ~/Desktop/H4H/INTERCEPT/NextSeq/batchFFPE_3Apr2020/mixcr/clones/CLONES_TRBCHP_344_B-FFPE-DNA.txt nonproductive removed\n",
      "\n"
     ]
    },
    {
     "name": "stdout",
     "output_type": "stream",
     "text": [
      "[1] 0\n"
     ]
    },
    {
     "name": "stderr",
     "output_type": "stream",
     "text": [
      "Number of CDR3s in: ~/Desktop/H4H/INTERCEPT/NextSeq/batchFFPE_3Apr2020/mixcr/clones/CLONES_TRBCHP_348-FFPE-DNA_S6.txt\n",
      "\n"
     ]
    },
    {
     "name": "stdout",
     "output_type": "stream",
     "text": [
      "[1] 0\n"
     ]
    },
    {
     "name": "stderr",
     "output_type": "stream",
     "text": [
      "Number of CDR3s in: ~/Desktop/H4H/INTERCEPT/NextSeq/batchFFPE_3Apr2020/mixcr/clones/CLONES_TRBCHP_348-FFPE-DNA_S6.txt nonproductive removed\n",
      "\n"
     ]
    },
    {
     "name": "stdout",
     "output_type": "stream",
     "text": [
      "[1] 0\n"
     ]
    },
    {
     "name": "stderr",
     "output_type": "stream",
     "text": [
      "Number of CDR3s in: ~/Desktop/H4H/INTERCEPT/NextSeq/batchFFPE_3Apr2020/mixcr/clones/CLONES_TRBCHP_361-FFPE-DNA_S1.txt\n",
      "\n"
     ]
    },
    {
     "name": "stdout",
     "output_type": "stream",
     "text": [
      "[1] 173\n"
     ]
    },
    {
     "name": "stderr",
     "output_type": "stream",
     "text": [
      "Number of CDR3s in: ~/Desktop/H4H/INTERCEPT/NextSeq/batchFFPE_3Apr2020/mixcr/clones/CLONES_TRBCHP_361-FFPE-DNA_S1.txt nonproductive removed\n",
      "\n"
     ]
    },
    {
     "name": "stdout",
     "output_type": "stream",
     "text": [
      "[1] 145\n"
     ]
    },
    {
     "name": "stderr",
     "output_type": "stream",
     "text": [
      "Number of CDR3s in: ~/Desktop/H4H/INTERCEPT/NextSeq/batchFFPE_3Apr2020/mixcr/clones/CLONES_TRBCHP_364-FFPE-DNA_S1.txt\n",
      "\n"
     ]
    },
    {
     "name": "stdout",
     "output_type": "stream",
     "text": [
      "[1] 15\n"
     ]
    },
    {
     "name": "stderr",
     "output_type": "stream",
     "text": [
      "Number of CDR3s in: ~/Desktop/H4H/INTERCEPT/NextSeq/batchFFPE_3Apr2020/mixcr/clones/CLONES_TRBCHP_364-FFPE-DNA_S1.txt nonproductive removed\n",
      "\n"
     ]
    },
    {
     "name": "stdout",
     "output_type": "stream",
     "text": [
      "[1] 10\n"
     ]
    },
    {
     "name": "stderr",
     "output_type": "stream",
     "text": [
      "Number of CDR3s in: ~/Desktop/H4H/INTERCEPT/NextSeq/batchFFPE_3Apr2020/mixcr/clones/CLONES_TRBCHP_366-FFPE-DNA_S1.txt\n",
      "\n"
     ]
    },
    {
     "name": "stdout",
     "output_type": "stream",
     "text": [
      "[1] 9\n"
     ]
    },
    {
     "name": "stderr",
     "output_type": "stream",
     "text": [
      "Number of CDR3s in: ~/Desktop/H4H/INTERCEPT/NextSeq/batchFFPE_3Apr2020/mixcr/clones/CLONES_TRBCHP_366-FFPE-DNA_S1.txt nonproductive removed\n",
      "\n"
     ]
    },
    {
     "name": "stdout",
     "output_type": "stream",
     "text": [
      "[1] 8\n"
     ]
    },
    {
     "name": "stderr",
     "output_type": "stream",
     "text": [
      "Number of CDR3s in: ~/Desktop/H4H/INTERCEPT/NextSeq/batchFFPE_3Apr2020/mixcr/clones/CLONES_TRBCHP_370-FFPE-DNA_S5.txt\n",
      "\n"
     ]
    },
    {
     "name": "stdout",
     "output_type": "stream",
     "text": [
      "[1] 5\n"
     ]
    },
    {
     "name": "stderr",
     "output_type": "stream",
     "text": [
      "Number of CDR3s in: ~/Desktop/H4H/INTERCEPT/NextSeq/batchFFPE_3Apr2020/mixcr/clones/CLONES_TRBCHP_370-FFPE-DNA_S5.txt nonproductive removed\n",
      "\n"
     ]
    },
    {
     "name": "stdout",
     "output_type": "stream",
     "text": [
      "[1] 5\n"
     ]
    },
    {
     "name": "stderr",
     "output_type": "stream",
     "text": [
      "Number of CDR3s in: ~/Desktop/H4H/INTERCEPT/NextSeq/batchFFPE_3Apr2020/mixcr/clones/CLONES_TRBCHP_372-FFPE-DNA_S1.txt\n",
      "\n"
     ]
    },
    {
     "name": "stdout",
     "output_type": "stream",
     "text": [
      "[1] 13\n"
     ]
    },
    {
     "name": "stderr",
     "output_type": "stream",
     "text": [
      "Number of CDR3s in: ~/Desktop/H4H/INTERCEPT/NextSeq/batchFFPE_3Apr2020/mixcr/clones/CLONES_TRBCHP_372-FFPE-DNA_S1.txt nonproductive removed\n",
      "\n"
     ]
    },
    {
     "name": "stdout",
     "output_type": "stream",
     "text": [
      "[1] 9\n"
     ]
    },
    {
     "name": "stderr",
     "output_type": "stream",
     "text": [
      "Number of CDR3s in: ~/Desktop/H4H/INTERCEPT/NextSeq/batchFFPE_3Apr2020/mixcr/clones/CLONES_TRBCHP_380-FFPE-DNA_S1.txt\n",
      "\n"
     ]
    },
    {
     "name": "stdout",
     "output_type": "stream",
     "text": [
      "[1] 131\n"
     ]
    },
    {
     "name": "stderr",
     "output_type": "stream",
     "text": [
      "Number of CDR3s in: ~/Desktop/H4H/INTERCEPT/NextSeq/batchFFPE_3Apr2020/mixcr/clones/CLONES_TRBCHP_380-FFPE-DNA_S1.txt nonproductive removed\n",
      "\n"
     ]
    },
    {
     "name": "stdout",
     "output_type": "stream",
     "text": [
      "[1] 102\n"
     ]
    },
    {
     "name": "stderr",
     "output_type": "stream",
     "text": [
      "Number of CDR3s in: ~/Desktop/H4H/INTERCEPT/NextSeq/batchFFPE_3Apr2020/mixcr/clones/CLONES_TRBCHP_389-FFPE-DNA_S1.txt\n",
      "\n"
     ]
    },
    {
     "name": "stdout",
     "output_type": "stream",
     "text": [
      "[1] 139\n"
     ]
    },
    {
     "name": "stderr",
     "output_type": "stream",
     "text": [
      "Number of CDR3s in: ~/Desktop/H4H/INTERCEPT/NextSeq/batchFFPE_3Apr2020/mixcr/clones/CLONES_TRBCHP_389-FFPE-DNA_S1.txt nonproductive removed\n",
      "\n"
     ]
    },
    {
     "name": "stdout",
     "output_type": "stream",
     "text": [
      "[1] 96\n"
     ]
    },
    {
     "name": "stderr",
     "output_type": "stream",
     "text": [
      "Number of CDR3s in: ~/Desktop/H4H/INTERCEPT/NextSeq/batchFFPE_3Apr2020/mixcr/clones/CLONES_TRBCHP_390-FFPE-DNA_S9.txt\n",
      "\n"
     ]
    },
    {
     "name": "stdout",
     "output_type": "stream",
     "text": [
      "[1] 3\n"
     ]
    },
    {
     "name": "stderr",
     "output_type": "stream",
     "text": [
      "Number of CDR3s in: ~/Desktop/H4H/INTERCEPT/NextSeq/batchFFPE_3Apr2020/mixcr/clones/CLONES_TRBCHP_390-FFPE-DNA_S9.txt nonproductive removed\n",
      "\n"
     ]
    },
    {
     "name": "stdout",
     "output_type": "stream",
     "text": [
      "[1] 2\n"
     ]
    },
    {
     "name": "stderr",
     "output_type": "stream",
     "text": [
      "Number of CDR3s in: ~/Desktop/H4H/INTERCEPT/NextSeq/batchFFPE_3Apr2020/mixcr/clones/CLONES_TRBCHP_394-FFPE-DNA_S4.txt\n",
      "\n"
     ]
    },
    {
     "name": "stdout",
     "output_type": "stream",
     "text": [
      "[1] 3\n"
     ]
    },
    {
     "name": "stderr",
     "output_type": "stream",
     "text": [
      "Number of CDR3s in: ~/Desktop/H4H/INTERCEPT/NextSeq/batchFFPE_3Apr2020/mixcr/clones/CLONES_TRBCHP_394-FFPE-DNA_S4.txt nonproductive removed\n",
      "\n"
     ]
    },
    {
     "name": "stdout",
     "output_type": "stream",
     "text": [
      "[1] 3\n"
     ]
    },
    {
     "name": "stderr",
     "output_type": "stream",
     "text": [
      "Number of CDR3s in: ~/Desktop/H4H/INTERCEPT/NextSeq/batchFFPE_3Apr2020/mixcr/clones/CLONES_TRBCHP_400-FFPE-DNA_S1.txt\n",
      "\n"
     ]
    },
    {
     "name": "stdout",
     "output_type": "stream",
     "text": [
      "[1] 100\n"
     ]
    },
    {
     "name": "stderr",
     "output_type": "stream",
     "text": [
      "Number of CDR3s in: ~/Desktop/H4H/INTERCEPT/NextSeq/batchFFPE_3Apr2020/mixcr/clones/CLONES_TRBCHP_400-FFPE-DNA_S1.txt nonproductive removed\n",
      "\n"
     ]
    },
    {
     "name": "stdout",
     "output_type": "stream",
     "text": [
      "[1] 75\n"
     ]
    },
    {
     "name": "stderr",
     "output_type": "stream",
     "text": [
      "Number of CDR3s in: ~/Desktop/H4H/INTERCEPT/NextSeq/batchFFPE_3Apr2020/mixcr/clones/CLONES_TRBCHP_401-FFPE-DNA_S1.txt\n",
      "\n"
     ]
    },
    {
     "name": "stdout",
     "output_type": "stream",
     "text": [
      "[1] 13\n"
     ]
    },
    {
     "name": "stderr",
     "output_type": "stream",
     "text": [
      "Number of CDR3s in: ~/Desktop/H4H/INTERCEPT/NextSeq/batchFFPE_3Apr2020/mixcr/clones/CLONES_TRBCHP_401-FFPE-DNA_S1.txt nonproductive removed\n",
      "\n"
     ]
    },
    {
     "name": "stdout",
     "output_type": "stream",
     "text": [
      "[1] 12\n"
     ]
    },
    {
     "name": "stderr",
     "output_type": "stream",
     "text": [
      "Number of CDR3s in: ~/Desktop/H4H/INTERCEPT/NextSeq/batchFFPE_3Apr2020/mixcr/clones/CLONES_TRBCHP_404_A-FFPE-DNA.txt\n",
      "\n"
     ]
    },
    {
     "name": "stdout",
     "output_type": "stream",
     "text": [
      "[1] 13\n"
     ]
    },
    {
     "name": "stderr",
     "output_type": "stream",
     "text": [
      "Number of CDR3s in: ~/Desktop/H4H/INTERCEPT/NextSeq/batchFFPE_3Apr2020/mixcr/clones/CLONES_TRBCHP_404_A-FFPE-DNA.txt nonproductive removed\n",
      "\n"
     ]
    },
    {
     "name": "stdout",
     "output_type": "stream",
     "text": [
      "[1] 10\n"
     ]
    },
    {
     "name": "stderr",
     "output_type": "stream",
     "text": [
      "Number of CDR3s in: ~/Desktop/H4H/INTERCEPT/NextSeq/batchFFPE_3Apr2020/mixcr/clones/CLONES_TRBCHP_404_B-FFPE-DNA.txt\n",
      "\n"
     ]
    },
    {
     "name": "stdout",
     "output_type": "stream",
     "text": [
      "[1] 10\n"
     ]
    },
    {
     "name": "stderr",
     "output_type": "stream",
     "text": [
      "Number of CDR3s in: ~/Desktop/H4H/INTERCEPT/NextSeq/batchFFPE_3Apr2020/mixcr/clones/CLONES_TRBCHP_404_B-FFPE-DNA.txt nonproductive removed\n",
      "\n"
     ]
    },
    {
     "name": "stdout",
     "output_type": "stream",
     "text": [
      "[1] 9\n"
     ]
    },
    {
     "name": "stderr",
     "output_type": "stream",
     "text": [
      "Number of CDR3s in: ~/Desktop/H4H/INTERCEPT/NextSeq/batchFFPE_3Apr2020/mixcr/clones/CLONES_TRBCHP_407-FFPE-DNA_S7.txt\n",
      "\n"
     ]
    },
    {
     "name": "stdout",
     "output_type": "stream",
     "text": [
      "[1] 6\n"
     ]
    },
    {
     "name": "stderr",
     "output_type": "stream",
     "text": [
      "Number of CDR3s in: ~/Desktop/H4H/INTERCEPT/NextSeq/batchFFPE_3Apr2020/mixcr/clones/CLONES_TRBCHP_407-FFPE-DNA_S7.txt nonproductive removed\n",
      "\n"
     ]
    },
    {
     "name": "stdout",
     "output_type": "stream",
     "text": [
      "[1] 5\n"
     ]
    },
    {
     "name": "stderr",
     "output_type": "stream",
     "text": [
      "Number of CDR3s in: ~/Desktop/H4H/INTERCEPT/NextSeq/batchFFPE_3Apr2020/mixcr/clones/CLONES_TRBCHP_412-FFPE-DNA_S1.txt\n",
      "\n"
     ]
    },
    {
     "name": "stdout",
     "output_type": "stream",
     "text": [
      "[1] 178\n"
     ]
    },
    {
     "name": "stderr",
     "output_type": "stream",
     "text": [
      "Number of CDR3s in: ~/Desktop/H4H/INTERCEPT/NextSeq/batchFFPE_3Apr2020/mixcr/clones/CLONES_TRBCHP_412-FFPE-DNA_S1.txt nonproductive removed\n",
      "\n"
     ]
    },
    {
     "name": "stdout",
     "output_type": "stream",
     "text": [
      "[1] 139\n"
     ]
    },
    {
     "name": "stderr",
     "output_type": "stream",
     "text": [
      "Number of CDR3s in: ~/Desktop/H4H/INTERCEPT/NextSeq/batchFFPE_3Apr2020/mixcr/clones/CLONES_TRBCHP_418-FFPE-DNA_S2.txt\n",
      "\n"
     ]
    },
    {
     "name": "stdout",
     "output_type": "stream",
     "text": [
      "[1] 6\n"
     ]
    },
    {
     "name": "stderr",
     "output_type": "stream",
     "text": [
      "Number of CDR3s in: ~/Desktop/H4H/INTERCEPT/NextSeq/batchFFPE_3Apr2020/mixcr/clones/CLONES_TRBCHP_418-FFPE-DNA_S2.txt nonproductive removed\n",
      "\n"
     ]
    },
    {
     "name": "stdout",
     "output_type": "stream",
     "text": [
      "[1] 5\n"
     ]
    },
    {
     "name": "stderr",
     "output_type": "stream",
     "text": [
      "Number of CDR3s in: ~/Desktop/H4H/INTERCEPT/NextSeq/batchFFPE_3Apr2020/mixcr/clones/CLONES_TRBCHP_419-FFPE-DNA_S2.txt\n",
      "\n"
     ]
    },
    {
     "name": "stdout",
     "output_type": "stream",
     "text": [
      "[1] 1\n"
     ]
    },
    {
     "name": "stderr",
     "output_type": "stream",
     "text": [
      "Number of CDR3s in: ~/Desktop/H4H/INTERCEPT/NextSeq/batchFFPE_3Apr2020/mixcr/clones/CLONES_TRBCHP_419-FFPE-DNA_S2.txt nonproductive removed\n",
      "\n"
     ]
    },
    {
     "name": "stdout",
     "output_type": "stream",
     "text": [
      "[1] 0\n"
     ]
    },
    {
     "name": "stderr",
     "output_type": "stream",
     "text": [
      "Number of CDR3s in: ~/Desktop/H4H/INTERCEPT/NextSeq/batchNormal_16Apr2020/mixcr/clones/CLONES_TRBCHP_10YO-M_PBMC_DNA.txt\n",
      "\n"
     ]
    },
    {
     "name": "stdout",
     "output_type": "stream",
     "text": [
      "[1] 22\n"
     ]
    },
    {
     "name": "stderr",
     "output_type": "stream",
     "text": [
      "Number of CDR3s in: ~/Desktop/H4H/INTERCEPT/NextSeq/batchNormal_16Apr2020/mixcr/clones/CLONES_TRBCHP_10YO-M_PBMC_DNA.txt nonproductive removed\n",
      "\n"
     ]
    },
    {
     "name": "stdout",
     "output_type": "stream",
     "text": [
      "[1] 19\n"
     ]
    },
    {
     "name": "stderr",
     "output_type": "stream",
     "text": [
      "Number of CDR3s in: ~/Desktop/H4H/INTERCEPT/NextSeq/batchNormal_16Apr2020/mixcr/clones/CLONES_TRBCHP_11YO-M_PBMC_DNA.txt\n",
      "\n"
     ]
    },
    {
     "name": "stdout",
     "output_type": "stream",
     "text": [
      "[1] 21\n"
     ]
    },
    {
     "name": "stderr",
     "output_type": "stream",
     "text": [
      "Number of CDR3s in: ~/Desktop/H4H/INTERCEPT/NextSeq/batchNormal_16Apr2020/mixcr/clones/CLONES_TRBCHP_11YO-M_PBMC_DNA.txt nonproductive removed\n",
      "\n"
     ]
    },
    {
     "name": "stdout",
     "output_type": "stream",
     "text": [
      "[1] 16\n"
     ]
    },
    {
     "name": "stderr",
     "output_type": "stream",
     "text": [
      "Number of CDR3s in: ~/Desktop/H4H/INTERCEPT/NextSeq/batchNormal_16Apr2020/mixcr/clones/CLONES_TRBCHP_15YO-F-A_PBMC_DNA.txt\n",
      "\n"
     ]
    },
    {
     "name": "stdout",
     "output_type": "stream",
     "text": [
      "[1] 13\n"
     ]
    },
    {
     "name": "stderr",
     "output_type": "stream",
     "text": [
      "Number of CDR3s in: ~/Desktop/H4H/INTERCEPT/NextSeq/batchNormal_16Apr2020/mixcr/clones/CLONES_TRBCHP_15YO-F-A_PBMC_DNA.txt nonproductive removed\n",
      "\n"
     ]
    },
    {
     "name": "stdout",
     "output_type": "stream",
     "text": [
      "[1] 11\n"
     ]
    },
    {
     "name": "stderr",
     "output_type": "stream",
     "text": [
      "Number of CDR3s in: ~/Desktop/H4H/INTERCEPT/NextSeq/batchNormal_16Apr2020/mixcr/clones/CLONES_TRBCHP_15YO-F-B_PBMC_DNA.txt\n",
      "\n"
     ]
    },
    {
     "name": "stdout",
     "output_type": "stream",
     "text": [
      "[1] 9\n"
     ]
    },
    {
     "name": "stderr",
     "output_type": "stream",
     "text": [
      "Number of CDR3s in: ~/Desktop/H4H/INTERCEPT/NextSeq/batchNormal_16Apr2020/mixcr/clones/CLONES_TRBCHP_15YO-F-B_PBMC_DNA.txt nonproductive removed\n",
      "\n"
     ]
    },
    {
     "name": "stdout",
     "output_type": "stream",
     "text": [
      "[1] 7\n"
     ]
    },
    {
     "name": "stderr",
     "output_type": "stream",
     "text": [
      "Number of CDR3s in: ~/Desktop/H4H/INTERCEPT/NextSeq/batchNormal_16Apr2020/mixcr/clones/CLONES_TRBCHP_15YO-M_PBMC_DNA.txt\n",
      "\n"
     ]
    },
    {
     "name": "stdout",
     "output_type": "stream",
     "text": [
      "[1] 33\n"
     ]
    },
    {
     "name": "stderr",
     "output_type": "stream",
     "text": [
      "Number of CDR3s in: ~/Desktop/H4H/INTERCEPT/NextSeq/batchNormal_16Apr2020/mixcr/clones/CLONES_TRBCHP_15YO-M_PBMC_DNA.txt nonproductive removed\n",
      "\n"
     ]
    },
    {
     "name": "stdout",
     "output_type": "stream",
     "text": [
      "[1] 23\n"
     ]
    },
    {
     "name": "stderr",
     "output_type": "stream",
     "text": [
      "Number of CDR3s in: ~/Desktop/H4H/INTERCEPT/NextSeq/batchNormal_16Apr2020/mixcr/clones/CLONES_TRBCHP_16YO-M_PBMC_DNA.txt\n",
      "\n"
     ]
    },
    {
     "name": "stdout",
     "output_type": "stream",
     "text": [
      "[1] 7\n"
     ]
    },
    {
     "name": "stderr",
     "output_type": "stream",
     "text": [
      "Number of CDR3s in: ~/Desktop/H4H/INTERCEPT/NextSeq/batchNormal_16Apr2020/mixcr/clones/CLONES_TRBCHP_16YO-M_PBMC_DNA.txt nonproductive removed\n",
      "\n"
     ]
    },
    {
     "name": "stdout",
     "output_type": "stream",
     "text": [
      "[1] 4\n"
     ]
    },
    {
     "name": "stderr",
     "output_type": "stream",
     "text": [
      "Number of CDR3s in: ~/Desktop/H4H/INTERCEPT/NextSeq/batchNormal_16Apr2020/mixcr/clones/CLONES_TRBCHP_1YO-M-A_PBMC_DNA.txt\n",
      "\n"
     ]
    },
    {
     "name": "stdout",
     "output_type": "stream",
     "text": [
      "[1] 65\n"
     ]
    },
    {
     "name": "stderr",
     "output_type": "stream",
     "text": [
      "Number of CDR3s in: ~/Desktop/H4H/INTERCEPT/NextSeq/batchNormal_16Apr2020/mixcr/clones/CLONES_TRBCHP_1YO-M-A_PBMC_DNA.txt nonproductive removed\n",
      "\n"
     ]
    },
    {
     "name": "stdout",
     "output_type": "stream",
     "text": [
      "[1] 50\n"
     ]
    },
    {
     "name": "stderr",
     "output_type": "stream",
     "text": [
      "Number of CDR3s in: ~/Desktop/H4H/INTERCEPT/NextSeq/batchNormal_16Apr2020/mixcr/clones/CLONES_TRBCHP_1YO-M-B_PBMC_DNA.txt\n",
      "\n"
     ]
    },
    {
     "name": "stdout",
     "output_type": "stream",
     "text": [
      "[1] 5\n"
     ]
    },
    {
     "name": "stderr",
     "output_type": "stream",
     "text": [
      "Number of CDR3s in: ~/Desktop/H4H/INTERCEPT/NextSeq/batchNormal_16Apr2020/mixcr/clones/CLONES_TRBCHP_1YO-M-B_PBMC_DNA.txt nonproductive removed\n",
      "\n"
     ]
    },
    {
     "name": "stdout",
     "output_type": "stream",
     "text": [
      "[1] 3\n"
     ]
    },
    {
     "name": "stderr",
     "output_type": "stream",
     "text": [
      "Number of CDR3s in: ~/Desktop/H4H/INTERCEPT/NextSeq/batchNormal_16Apr2020/mixcr/clones/CLONES_TRBCHP_2YO-M_PBMC_DNA.txt\n",
      "\n"
     ]
    },
    {
     "name": "stdout",
     "output_type": "stream",
     "text": [
      "[1] 16\n"
     ]
    },
    {
     "name": "stderr",
     "output_type": "stream",
     "text": [
      "Number of CDR3s in: ~/Desktop/H4H/INTERCEPT/NextSeq/batchNormal_16Apr2020/mixcr/clones/CLONES_TRBCHP_2YO-M_PBMC_DNA.txt nonproductive removed\n",
      "\n"
     ]
    },
    {
     "name": "stdout",
     "output_type": "stream",
     "text": [
      "[1] 10\n"
     ]
    },
    {
     "name": "stderr",
     "output_type": "stream",
     "text": [
      "Number of CDR3s in: ~/Desktop/H4H/INTERCEPT/NextSeq/batchNormal_16Apr2020/mixcr/clones/CLONES_TRBCHP_3YO-F_PBMC_DNA.txt\n",
      "\n"
     ]
    },
    {
     "name": "stdout",
     "output_type": "stream",
     "text": [
      "[1] 18\n"
     ]
    },
    {
     "name": "stderr",
     "output_type": "stream",
     "text": [
      "Number of CDR3s in: ~/Desktop/H4H/INTERCEPT/NextSeq/batchNormal_16Apr2020/mixcr/clones/CLONES_TRBCHP_3YO-F_PBMC_DNA.txt nonproductive removed\n",
      "\n"
     ]
    },
    {
     "name": "stdout",
     "output_type": "stream",
     "text": [
      "[1] 13\n"
     ]
    },
    {
     "name": "stderr",
     "output_type": "stream",
     "text": [
      "Number of CDR3s in: ~/Desktop/H4H/INTERCEPT/NextSeq/batchNormal_16Apr2020/mixcr/clones/CLONES_TRBCHP_3YO-M-A_PBMC_DNA.txt\n",
      "\n"
     ]
    },
    {
     "name": "stdout",
     "output_type": "stream",
     "text": [
      "[1] 17\n"
     ]
    },
    {
     "name": "stderr",
     "output_type": "stream",
     "text": [
      "Number of CDR3s in: ~/Desktop/H4H/INTERCEPT/NextSeq/batchNormal_16Apr2020/mixcr/clones/CLONES_TRBCHP_3YO-M-A_PBMC_DNA.txt nonproductive removed\n",
      "\n"
     ]
    },
    {
     "name": "stdout",
     "output_type": "stream",
     "text": [
      "[1] 12\n"
     ]
    },
    {
     "name": "stderr",
     "output_type": "stream",
     "text": [
      "Number of CDR3s in: ~/Desktop/H4H/INTERCEPT/NextSeq/batchNormal_16Apr2020/mixcr/clones/CLONES_TRBCHP_3YO-M-B_PBMC_DNA.txt\n",
      "\n"
     ]
    },
    {
     "name": "stdout",
     "output_type": "stream",
     "text": [
      "[1] 7\n"
     ]
    },
    {
     "name": "stderr",
     "output_type": "stream",
     "text": [
      "Number of CDR3s in: ~/Desktop/H4H/INTERCEPT/NextSeq/batchNormal_16Apr2020/mixcr/clones/CLONES_TRBCHP_3YO-M-B_PBMC_DNA.txt nonproductive removed\n",
      "\n"
     ]
    },
    {
     "name": "stdout",
     "output_type": "stream",
     "text": [
      "[1] 3\n"
     ]
    },
    {
     "name": "stderr",
     "output_type": "stream",
     "text": [
      "Number of CDR3s in: ~/Desktop/H4H/INTERCEPT/NextSeq/batchNormal_16Apr2020/mixcr/clones/CLONES_TRBCHP_5YO-M_PBMC_DNA.txt\n",
      "\n"
     ]
    },
    {
     "name": "stdout",
     "output_type": "stream",
     "text": [
      "[1] 5\n"
     ]
    },
    {
     "name": "stderr",
     "output_type": "stream",
     "text": [
      "Number of CDR3s in: ~/Desktop/H4H/INTERCEPT/NextSeq/batchNormal_16Apr2020/mixcr/clones/CLONES_TRBCHP_5YO-M_PBMC_DNA.txt nonproductive removed\n",
      "\n"
     ]
    },
    {
     "name": "stdout",
     "output_type": "stream",
     "text": [
      "[1] 4\n"
     ]
    },
    {
     "name": "stderr",
     "output_type": "stream",
     "text": [
      "Number of CDR3s in: ~/Desktop/H4H/INTERCEPT/NextSeq/batchNormal_16Apr2020/mixcr/clones/CLONES_TRBCHP_8MO-F_PBMC_DNA.txt\n",
      "\n"
     ]
    },
    {
     "name": "stdout",
     "output_type": "stream",
     "text": [
      "[1] 25\n"
     ]
    },
    {
     "name": "stderr",
     "output_type": "stream",
     "text": [
      "Number of CDR3s in: ~/Desktop/H4H/INTERCEPT/NextSeq/batchNormal_16Apr2020/mixcr/clones/CLONES_TRBCHP_8MO-F_PBMC_DNA.txt nonproductive removed\n",
      "\n"
     ]
    },
    {
     "name": "stdout",
     "output_type": "stream",
     "text": [
      "[1] 18\n"
     ]
    },
    {
     "name": "stderr",
     "output_type": "stream",
     "text": [
      "Number of CDR3s in: ~/Desktop/H4H/INTERCEPT/NextSeq/cfDNA_Matched_Priority_Pool1_19Nov2021/mixcr/clones/CLONES_TRBCHP_371-05_cfDNA.txt\n",
      "\n"
     ]
    },
    {
     "name": "stdout",
     "output_type": "stream",
     "text": [
      "[1] 4\n"
     ]
    },
    {
     "name": "stderr",
     "output_type": "stream",
     "text": [
      "Number of CDR3s in: ~/Desktop/H4H/INTERCEPT/NextSeq/cfDNA_Matched_Priority_Pool1_19Nov2021/mixcr/clones/CLONES_TRBCHP_371-05_cfDNA.txt nonproductive removed\n",
      "\n"
     ]
    },
    {
     "name": "stdout",
     "output_type": "stream",
     "text": [
      "[1] 3\n"
     ]
    },
    {
     "name": "stderr",
     "output_type": "stream",
     "text": [
      "Number of CDR3s in: ~/Desktop/H4H/INTERCEPT/NextSeq/cfDNA_Matched_Priority_Pool1_19Nov2021/mixcr/clones/CLONES_TRBCHP_380-03_cfDNA.txt\n",
      "\n"
     ]
    },
    {
     "name": "stdout",
     "output_type": "stream",
     "text": [
      "[1] 2\n"
     ]
    },
    {
     "name": "stderr",
     "output_type": "stream",
     "text": [
      "Number of CDR3s in: ~/Desktop/H4H/INTERCEPT/NextSeq/cfDNA_Matched_Priority_Pool1_19Nov2021/mixcr/clones/CLONES_TRBCHP_380-03_cfDNA.txt nonproductive removed\n",
      "\n"
     ]
    },
    {
     "name": "stdout",
     "output_type": "stream",
     "text": [
      "[1] 2\n"
     ]
    },
    {
     "name": "stderr",
     "output_type": "stream",
     "text": [
      "Number of CDR3s in: ~/Desktop/H4H/INTERCEPT/NextSeq/cfDNA_Matched_Priority_Pool1_19Nov2021/mixcr/clones/CLONES_TRBCHP_382-03_cfDNA.txt\n",
      "\n"
     ]
    },
    {
     "name": "stdout",
     "output_type": "stream",
     "text": [
      "[1] 6\n"
     ]
    },
    {
     "name": "stderr",
     "output_type": "stream",
     "text": [
      "Number of CDR3s in: ~/Desktop/H4H/INTERCEPT/NextSeq/cfDNA_Matched_Priority_Pool1_19Nov2021/mixcr/clones/CLONES_TRBCHP_382-03_cfDNA.txt nonproductive removed\n",
      "\n"
     ]
    },
    {
     "name": "stdout",
     "output_type": "stream",
     "text": [
      "[1] 6\n"
     ]
    },
    {
     "name": "stderr",
     "output_type": "stream",
     "text": [
      "Number of CDR3s in: ~/Desktop/H4H/INTERCEPT/NextSeq/cfDNA_Matched_Priority_Pool1_19Nov2021/mixcr/clones/CLONES_TRBCHP_383-01_cfDNA.txt\n",
      "\n"
     ]
    },
    {
     "name": "stdout",
     "output_type": "stream",
     "text": [
      "[1] 3\n"
     ]
    },
    {
     "name": "stderr",
     "output_type": "stream",
     "text": [
      "Number of CDR3s in: ~/Desktop/H4H/INTERCEPT/NextSeq/cfDNA_Matched_Priority_Pool1_19Nov2021/mixcr/clones/CLONES_TRBCHP_383-01_cfDNA.txt nonproductive removed\n",
      "\n"
     ]
    },
    {
     "name": "stdout",
     "output_type": "stream",
     "text": [
      "[1] 2\n"
     ]
    },
    {
     "name": "stderr",
     "output_type": "stream",
     "text": [
      "Number of CDR3s in: ~/Desktop/H4H/INTERCEPT/NextSeq/cfDNA_Matched_Priority_Pool1_19Nov2021/mixcr/clones/CLONES_TRBCHP_383-04_cfDNA.txt\n",
      "\n"
     ]
    },
    {
     "name": "stdout",
     "output_type": "stream",
     "text": [
      "[1] 1\n"
     ]
    },
    {
     "name": "stderr",
     "output_type": "stream",
     "text": [
      "Number of CDR3s in: ~/Desktop/H4H/INTERCEPT/NextSeq/cfDNA_Matched_Priority_Pool1_19Nov2021/mixcr/clones/CLONES_TRBCHP_383-04_cfDNA.txt nonproductive removed\n",
      "\n"
     ]
    },
    {
     "name": "stdout",
     "output_type": "stream",
     "text": [
      "[1] 1\n"
     ]
    },
    {
     "name": "stderr",
     "output_type": "stream",
     "text": [
      "Number of CDR3s in: ~/Desktop/H4H/INTERCEPT/NextSeq/cfDNA_Matched_Priority_Pool1_19Nov2021/mixcr/clones/CLONES_TRBCHP_388-02_cfDNA.txt\n",
      "\n"
     ]
    },
    {
     "name": "stdout",
     "output_type": "stream",
     "text": [
      "[1] 21\n"
     ]
    },
    {
     "name": "stderr",
     "output_type": "stream",
     "text": [
      "Number of CDR3s in: ~/Desktop/H4H/INTERCEPT/NextSeq/cfDNA_Matched_Priority_Pool1_19Nov2021/mixcr/clones/CLONES_TRBCHP_388-02_cfDNA.txt nonproductive removed\n",
      "\n"
     ]
    },
    {
     "name": "stdout",
     "output_type": "stream",
     "text": [
      "[1] 17\n"
     ]
    },
    {
     "name": "stderr",
     "output_type": "stream",
     "text": [
      "Number of CDR3s in: ~/Desktop/H4H/INTERCEPT/NextSeq/cfDNA_Matched_Priority_Pool1_19Nov2021/mixcr/clones/CLONES_TRBCHP_388-03_cfDNA.txt\n",
      "\n"
     ]
    },
    {
     "name": "stdout",
     "output_type": "stream",
     "text": [
      "[1] 12\n"
     ]
    },
    {
     "name": "stderr",
     "output_type": "stream",
     "text": [
      "Number of CDR3s in: ~/Desktop/H4H/INTERCEPT/NextSeq/cfDNA_Matched_Priority_Pool1_19Nov2021/mixcr/clones/CLONES_TRBCHP_388-03_cfDNA.txt nonproductive removed\n",
      "\n"
     ]
    },
    {
     "name": "stdout",
     "output_type": "stream",
     "text": [
      "[1] 7\n"
     ]
    },
    {
     "name": "stderr",
     "output_type": "stream",
     "text": [
      "Number of CDR3s in: ~/Desktop/H4H/INTERCEPT/NextSeq/cfDNA_Matched_Priority_Pool1_19Nov2021/mixcr/clones/CLONES_TRBCHP_389-04_cfDNA.txt\n",
      "\n"
     ]
    },
    {
     "name": "stdout",
     "output_type": "stream",
     "text": [
      "[1] 12\n"
     ]
    },
    {
     "name": "stderr",
     "output_type": "stream",
     "text": [
      "Number of CDR3s in: ~/Desktop/H4H/INTERCEPT/NextSeq/cfDNA_Matched_Priority_Pool1_19Nov2021/mixcr/clones/CLONES_TRBCHP_389-04_cfDNA.txt nonproductive removed\n",
      "\n"
     ]
    },
    {
     "name": "stdout",
     "output_type": "stream",
     "text": [
      "[1] 10\n"
     ]
    },
    {
     "name": "stderr",
     "output_type": "stream",
     "text": [
      "Number of CDR3s in: ~/Desktop/H4H/INTERCEPT/NextSeq/cfDNA_Matched_Priority_Pool1_19Nov2021/mixcr/clones/CLONES_TRBCHP_390-05_cfDNA.txt\n",
      "\n"
     ]
    },
    {
     "name": "stdout",
     "output_type": "stream",
     "text": [
      "[1] 12\n"
     ]
    },
    {
     "name": "stderr",
     "output_type": "stream",
     "text": [
      "Number of CDR3s in: ~/Desktop/H4H/INTERCEPT/NextSeq/cfDNA_Matched_Priority_Pool1_19Nov2021/mixcr/clones/CLONES_TRBCHP_390-05_cfDNA.txt nonproductive removed\n",
      "\n"
     ]
    },
    {
     "name": "stdout",
     "output_type": "stream",
     "text": [
      "[1] 10\n"
     ]
    },
    {
     "name": "stderr",
     "output_type": "stream",
     "text": [
      "Number of CDR3s in: ~/Desktop/H4H/INTERCEPT/NextSeq/cfDNA_Matched_Priority_Pool1_19Nov2021/mixcr/clones/CLONES_TRBCHP_392-04_cfDNA.txt\n",
      "\n"
     ]
    },
    {
     "name": "stdout",
     "output_type": "stream",
     "text": [
      "[1] 8\n"
     ]
    },
    {
     "name": "stderr",
     "output_type": "stream",
     "text": [
      "Number of CDR3s in: ~/Desktop/H4H/INTERCEPT/NextSeq/cfDNA_Matched_Priority_Pool1_19Nov2021/mixcr/clones/CLONES_TRBCHP_392-04_cfDNA.txt nonproductive removed\n",
      "\n"
     ]
    },
    {
     "name": "stdout",
     "output_type": "stream",
     "text": [
      "[1] 8\n"
     ]
    },
    {
     "name": "stderr",
     "output_type": "stream",
     "text": [
      "Number of CDR3s in: ~/Desktop/H4H/INTERCEPT/NextSeq/cfDNA_Matched_Priority_Pool1_19Nov2021/mixcr/clones/CLONES_TRBCHP_396-03_cfDNA.txt\n",
      "\n"
     ]
    },
    {
     "name": "stdout",
     "output_type": "stream",
     "text": [
      "[1] 81\n"
     ]
    },
    {
     "name": "stderr",
     "output_type": "stream",
     "text": [
      "Number of CDR3s in: ~/Desktop/H4H/INTERCEPT/NextSeq/cfDNA_Matched_Priority_Pool1_19Nov2021/mixcr/clones/CLONES_TRBCHP_396-03_cfDNA.txt nonproductive removed\n",
      "\n"
     ]
    },
    {
     "name": "stdout",
     "output_type": "stream",
     "text": [
      "[1] 62\n"
     ]
    },
    {
     "name": "stderr",
     "output_type": "stream",
     "text": [
      "Number of CDR3s in: ~/Desktop/H4H/INTERCEPT/NextSeq/cfDNA_Matched_Priority_Pool1_19Nov2021/mixcr/clones/CLONES_TRBCHP_399-02_cfDNA.txt\n",
      "\n"
     ]
    },
    {
     "name": "stdout",
     "output_type": "stream",
     "text": [
      "[1] 20\n"
     ]
    },
    {
     "name": "stderr",
     "output_type": "stream",
     "text": [
      "Number of CDR3s in: ~/Desktop/H4H/INTERCEPT/NextSeq/cfDNA_Matched_Priority_Pool1_19Nov2021/mixcr/clones/CLONES_TRBCHP_399-02_cfDNA.txt nonproductive removed\n",
      "\n"
     ]
    },
    {
     "name": "stdout",
     "output_type": "stream",
     "text": [
      "[1] 18\n"
     ]
    },
    {
     "name": "stderr",
     "output_type": "stream",
     "text": [
      "Number of CDR3s in: ~/Desktop/H4H/INTERCEPT/NextSeq/cfDNA_Matched_Priority_Pool1_19Nov2021/mixcr/clones/CLONES_TRBCHP_399-03_cfDNA.txt\n",
      "\n"
     ]
    },
    {
     "name": "stdout",
     "output_type": "stream",
     "text": [
      "[1] 10\n"
     ]
    },
    {
     "name": "stderr",
     "output_type": "stream",
     "text": [
      "Number of CDR3s in: ~/Desktop/H4H/INTERCEPT/NextSeq/cfDNA_Matched_Priority_Pool1_19Nov2021/mixcr/clones/CLONES_TRBCHP_399-03_cfDNA.txt nonproductive removed\n",
      "\n"
     ]
    },
    {
     "name": "stdout",
     "output_type": "stream",
     "text": [
      "[1] 8\n"
     ]
    },
    {
     "name": "stderr",
     "output_type": "stream",
     "text": [
      "Number of CDR3s in: ~/Desktop/H4H/INTERCEPT/NextSeq/cfDNA_Matched_Priority_Pool1_19Nov2021/mixcr/clones/CLONES_TRBCHP_400-01_cfDNA.txt\n",
      "\n"
     ]
    },
    {
     "name": "stdout",
     "output_type": "stream",
     "text": [
      "[1] 9\n"
     ]
    },
    {
     "name": "stderr",
     "output_type": "stream",
     "text": [
      "Number of CDR3s in: ~/Desktop/H4H/INTERCEPT/NextSeq/cfDNA_Matched_Priority_Pool1_19Nov2021/mixcr/clones/CLONES_TRBCHP_400-01_cfDNA.txt nonproductive removed\n",
      "\n"
     ]
    },
    {
     "name": "stdout",
     "output_type": "stream",
     "text": [
      "[1] 6\n"
     ]
    },
    {
     "name": "stderr",
     "output_type": "stream",
     "text": [
      "Number of CDR3s in: ~/Desktop/H4H/INTERCEPT/NextSeq/cfDNA_Matched_Priority_Pool1_19Nov2021/mixcr/clones/CLONES_TRBCHP_401-04_cfDNA.txt\n",
      "\n"
     ]
    },
    {
     "name": "stdout",
     "output_type": "stream",
     "text": [
      "[1] 25\n"
     ]
    },
    {
     "name": "stderr",
     "output_type": "stream",
     "text": [
      "Number of CDR3s in: ~/Desktop/H4H/INTERCEPT/NextSeq/cfDNA_Matched_Priority_Pool1_19Nov2021/mixcr/clones/CLONES_TRBCHP_401-04_cfDNA.txt nonproductive removed\n",
      "\n"
     ]
    },
    {
     "name": "stdout",
     "output_type": "stream",
     "text": [
      "[1] 18\n"
     ]
    },
    {
     "name": "stderr",
     "output_type": "stream",
     "text": [
      "Number of CDR3s in: ~/Desktop/H4H/INTERCEPT/NextSeq/cfDNA_Matched_Priority_Pool1_19Nov2021/mixcr/clones/CLONES_TRBCHP_404-01_cfDNA.txt\n",
      "\n"
     ]
    },
    {
     "name": "stdout",
     "output_type": "stream",
     "text": [
      "[1] 9\n"
     ]
    },
    {
     "name": "stderr",
     "output_type": "stream",
     "text": [
      "Number of CDR3s in: ~/Desktop/H4H/INTERCEPT/NextSeq/cfDNA_Matched_Priority_Pool1_19Nov2021/mixcr/clones/CLONES_TRBCHP_404-01_cfDNA.txt nonproductive removed\n",
      "\n"
     ]
    },
    {
     "name": "stdout",
     "output_type": "stream",
     "text": [
      "[1] 7\n"
     ]
    },
    {
     "name": "stderr",
     "output_type": "stream",
     "text": [
      "Number of CDR3s in: ~/Desktop/H4H/INTERCEPT/NextSeq/cfDNA_Matched_Priority_Pool1_19Nov2021/mixcr/clones/CLONES_TRBCHP_409-03_cfDNA.txt\n",
      "\n"
     ]
    },
    {
     "name": "stdout",
     "output_type": "stream",
     "text": [
      "[1] 7\n"
     ]
    },
    {
     "name": "stderr",
     "output_type": "stream",
     "text": [
      "Number of CDR3s in: ~/Desktop/H4H/INTERCEPT/NextSeq/cfDNA_Matched_Priority_Pool1_19Nov2021/mixcr/clones/CLONES_TRBCHP_409-03_cfDNA.txt nonproductive removed\n",
      "\n"
     ]
    },
    {
     "name": "stdout",
     "output_type": "stream",
     "text": [
      "[1] 5\n"
     ]
    },
    {
     "name": "stderr",
     "output_type": "stream",
     "text": [
      "Number of CDR3s in: ~/Desktop/H4H/INTERCEPT/NextSeq/cfDNA_Matched_Priority_Pool1_19Nov2021/mixcr/clones/CLONES_TRBCHP_415-03_cfDNA.txt\n",
      "\n"
     ]
    },
    {
     "name": "stdout",
     "output_type": "stream",
     "text": [
      "[1] 5\n"
     ]
    },
    {
     "name": "stderr",
     "output_type": "stream",
     "text": [
      "Number of CDR3s in: ~/Desktop/H4H/INTERCEPT/NextSeq/cfDNA_Matched_Priority_Pool1_19Nov2021/mixcr/clones/CLONES_TRBCHP_415-03_cfDNA.txt nonproductive removed\n",
      "\n"
     ]
    },
    {
     "name": "stdout",
     "output_type": "stream",
     "text": [
      "[1] 5\n"
     ]
    },
    {
     "name": "stderr",
     "output_type": "stream",
     "text": [
      "Number of CDR3s in: ~/Desktop/H4H/INTERCEPT/NextSeq/priority_pool2/mixcr/clones/CLONES_TRBCHP_334-04_cfDNA.txt\n",
      "\n"
     ]
    },
    {
     "name": "stdout",
     "output_type": "stream",
     "text": [
      "[1] 21\n"
     ]
    },
    {
     "name": "stderr",
     "output_type": "stream",
     "text": [
      "Number of CDR3s in: ~/Desktop/H4H/INTERCEPT/NextSeq/priority_pool2/mixcr/clones/CLONES_TRBCHP_334-04_cfDNA.txt nonproductive removed\n",
      "\n"
     ]
    },
    {
     "name": "stdout",
     "output_type": "stream",
     "text": [
      "[1] 16\n"
     ]
    },
    {
     "name": "stderr",
     "output_type": "stream",
     "text": [
      "Number of CDR3s in: ~/Desktop/H4H/INTERCEPT/NextSeq/priority_pool2/mixcr/clones/CLONES_TRBCHP_337-05_cfDNA.txt\n",
      "\n"
     ]
    },
    {
     "name": "stdout",
     "output_type": "stream",
     "text": [
      "[1] 12\n"
     ]
    },
    {
     "name": "stderr",
     "output_type": "stream",
     "text": [
      "Number of CDR3s in: ~/Desktop/H4H/INTERCEPT/NextSeq/priority_pool2/mixcr/clones/CLONES_TRBCHP_337-05_cfDNA.txt nonproductive removed\n",
      "\n"
     ]
    },
    {
     "name": "stdout",
     "output_type": "stream",
     "text": [
      "[1] 10\n"
     ]
    },
    {
     "name": "stderr",
     "output_type": "stream",
     "text": [
      "Number of CDR3s in: ~/Desktop/H4H/INTERCEPT/NextSeq/priority_pool2/mixcr/clones/CLONES_TRBCHP_347-03_cfDNA.txt\n",
      "\n"
     ]
    },
    {
     "name": "stdout",
     "output_type": "stream",
     "text": [
      "[1] 5\n"
     ]
    },
    {
     "name": "stderr",
     "output_type": "stream",
     "text": [
      "Number of CDR3s in: ~/Desktop/H4H/INTERCEPT/NextSeq/priority_pool2/mixcr/clones/CLONES_TRBCHP_347-03_cfDNA.txt nonproductive removed\n",
      "\n"
     ]
    },
    {
     "name": "stdout",
     "output_type": "stream",
     "text": [
      "[1] 3\n"
     ]
    },
    {
     "name": "stderr",
     "output_type": "stream",
     "text": [
      "Number of CDR3s in: ~/Desktop/H4H/INTERCEPT/NextSeq/priority_pool2/mixcr/clones/CLONES_TRBCHP_362-01_cfDNA.txt\n",
      "\n"
     ]
    },
    {
     "name": "stdout",
     "output_type": "stream",
     "text": [
      "[1] 15\n"
     ]
    },
    {
     "name": "stderr",
     "output_type": "stream",
     "text": [
      "Number of CDR3s in: ~/Desktop/H4H/INTERCEPT/NextSeq/priority_pool2/mixcr/clones/CLONES_TRBCHP_362-01_cfDNA.txt nonproductive removed\n",
      "\n"
     ]
    },
    {
     "name": "stdout",
     "output_type": "stream",
     "text": [
      "[1] 9\n"
     ]
    },
    {
     "name": "stderr",
     "output_type": "stream",
     "text": [
      "Number of CDR3s in: ~/Desktop/H4H/INTERCEPT/NextSeq/priority_pool2/mixcr/clones/CLONES_TRBCHP_378-04_cfDNA.txt\n",
      "\n"
     ]
    },
    {
     "name": "stdout",
     "output_type": "stream",
     "text": [
      "[1] 20\n"
     ]
    },
    {
     "name": "stderr",
     "output_type": "stream",
     "text": [
      "Number of CDR3s in: ~/Desktop/H4H/INTERCEPT/NextSeq/priority_pool2/mixcr/clones/CLONES_TRBCHP_378-04_cfDNA.txt nonproductive removed\n",
      "\n"
     ]
    },
    {
     "name": "stdout",
     "output_type": "stream",
     "text": [
      "[1] 13\n"
     ]
    },
    {
     "name": "stderr",
     "output_type": "stream",
     "text": [
      "Number of CDR3s in: ~/Desktop/H4H/INTERCEPT/NextSeq/priority_pool2/mixcr/clones/CLONES_TRBCHP_380-05_cfDNA.txt\n",
      "\n"
     ]
    },
    {
     "name": "stdout",
     "output_type": "stream",
     "text": [
      "[1] 10\n"
     ]
    },
    {
     "name": "stderr",
     "output_type": "stream",
     "text": [
      "Number of CDR3s in: ~/Desktop/H4H/INTERCEPT/NextSeq/priority_pool2/mixcr/clones/CLONES_TRBCHP_380-05_cfDNA.txt nonproductive removed\n",
      "\n"
     ]
    },
    {
     "name": "stdout",
     "output_type": "stream",
     "text": [
      "[1] 8\n"
     ]
    },
    {
     "name": "stderr",
     "output_type": "stream",
     "text": [
      "Number of CDR3s in: ~/Desktop/H4H/INTERCEPT/NextSeq/priority_pool2/mixcr/clones/CLONES_TRBCHP_382-02_cfDNA.txt\n",
      "\n"
     ]
    },
    {
     "name": "stdout",
     "output_type": "stream",
     "text": [
      "[1] 5\n"
     ]
    },
    {
     "name": "stderr",
     "output_type": "stream",
     "text": [
      "Number of CDR3s in: ~/Desktop/H4H/INTERCEPT/NextSeq/priority_pool2/mixcr/clones/CLONES_TRBCHP_382-02_cfDNA.txt nonproductive removed\n",
      "\n"
     ]
    },
    {
     "name": "stdout",
     "output_type": "stream",
     "text": [
      "[1] 3\n"
     ]
    },
    {
     "name": "stderr",
     "output_type": "stream",
     "text": [
      "Number of CDR3s in: ~/Desktop/H4H/INTERCEPT/NextSeq/priority_pool2/mixcr/clones/CLONES_TRBCHP_389-03_cfDNA.txt\n",
      "\n"
     ]
    },
    {
     "name": "stdout",
     "output_type": "stream",
     "text": [
      "[1] 7\n"
     ]
    },
    {
     "name": "stderr",
     "output_type": "stream",
     "text": [
      "Number of CDR3s in: ~/Desktop/H4H/INTERCEPT/NextSeq/priority_pool2/mixcr/clones/CLONES_TRBCHP_389-03_cfDNA.txt nonproductive removed\n",
      "\n"
     ]
    },
    {
     "name": "stdout",
     "output_type": "stream",
     "text": [
      "[1] 5\n"
     ]
    },
    {
     "name": "stderr",
     "output_type": "stream",
     "text": [
      "Number of CDR3s in: ~/Desktop/H4H/INTERCEPT/NextSeq/priority_pool2/mixcr/clones/CLONES_TRBCHP_390-03_cfDNA.txt\n",
      "\n"
     ]
    },
    {
     "name": "stdout",
     "output_type": "stream",
     "text": [
      "[1] 28\n"
     ]
    },
    {
     "name": "stderr",
     "output_type": "stream",
     "text": [
      "Number of CDR3s in: ~/Desktop/H4H/INTERCEPT/NextSeq/priority_pool2/mixcr/clones/CLONES_TRBCHP_390-03_cfDNA.txt nonproductive removed\n",
      "\n"
     ]
    },
    {
     "name": "stdout",
     "output_type": "stream",
     "text": [
      "[1] 21\n"
     ]
    },
    {
     "name": "stderr",
     "output_type": "stream",
     "text": [
      "Number of CDR3s in: ~/Desktop/H4H/INTERCEPT/NextSeq/priority_pool2/mixcr/clones/CLONES_TRBCHP_395-02_cfDNA.txt\n",
      "\n"
     ]
    },
    {
     "name": "stdout",
     "output_type": "stream",
     "text": [
      "[1] 27\n"
     ]
    },
    {
     "name": "stderr",
     "output_type": "stream",
     "text": [
      "Number of CDR3s in: ~/Desktop/H4H/INTERCEPT/NextSeq/priority_pool2/mixcr/clones/CLONES_TRBCHP_395-02_cfDNA.txt nonproductive removed\n",
      "\n"
     ]
    },
    {
     "name": "stdout",
     "output_type": "stream",
     "text": [
      "[1] 19\n"
     ]
    },
    {
     "name": "stderr",
     "output_type": "stream",
     "text": [
      "Number of CDR3s in: ~/Desktop/H4H/INTERCEPT/NextSeq/priority_pool2/mixcr/clones/CLONES_TRBCHP_396-04_cfDNA.txt\n",
      "\n"
     ]
    },
    {
     "name": "stdout",
     "output_type": "stream",
     "text": [
      "[1] 15\n"
     ]
    },
    {
     "name": "stderr",
     "output_type": "stream",
     "text": [
      "Number of CDR3s in: ~/Desktop/H4H/INTERCEPT/NextSeq/priority_pool2/mixcr/clones/CLONES_TRBCHP_396-04_cfDNA.txt nonproductive removed\n",
      "\n"
     ]
    },
    {
     "name": "stdout",
     "output_type": "stream",
     "text": [
      "[1] 9\n"
     ]
    },
    {
     "name": "stderr",
     "output_type": "stream",
     "text": [
      "Number of CDR3s in: ~/Desktop/H4H/INTERCEPT/NextSeq/priority_pool2/mixcr/clones/CLONES_TRBCHP_398-05_cfDNA.txt\n",
      "\n"
     ]
    },
    {
     "name": "stdout",
     "output_type": "stream",
     "text": [
      "[1] 12\n"
     ]
    },
    {
     "name": "stderr",
     "output_type": "stream",
     "text": [
      "Number of CDR3s in: ~/Desktop/H4H/INTERCEPT/NextSeq/priority_pool2/mixcr/clones/CLONES_TRBCHP_398-05_cfDNA.txt nonproductive removed\n",
      "\n"
     ]
    },
    {
     "name": "stdout",
     "output_type": "stream",
     "text": [
      "[1] 10\n"
     ]
    },
    {
     "name": "stderr",
     "output_type": "stream",
     "text": [
      "Number of CDR3s in: ~/Desktop/H4H/INTERCEPT/NextSeq/priority_pool2/mixcr/clones/CLONES_TRBCHP_404-02_cfDNA.txt\n",
      "\n"
     ]
    },
    {
     "name": "stdout",
     "output_type": "stream",
     "text": [
      "[1] 12\n"
     ]
    },
    {
     "name": "stderr",
     "output_type": "stream",
     "text": [
      "Number of CDR3s in: ~/Desktop/H4H/INTERCEPT/NextSeq/priority_pool2/mixcr/clones/CLONES_TRBCHP_404-02_cfDNA.txt nonproductive removed\n",
      "\n"
     ]
    },
    {
     "name": "stdout",
     "output_type": "stream",
     "text": [
      "[1] 6\n"
     ]
    },
    {
     "name": "stderr",
     "output_type": "stream",
     "text": [
      "Number of CDR3s in: ~/Desktop/H4H/INTERCEPT/NextSeq/priority_pool2/mixcr/clones/CLONES_TRBCHP_408-03_cfDNA.txt\n",
      "\n"
     ]
    },
    {
     "name": "stdout",
     "output_type": "stream",
     "text": [
      "[1] 35\n"
     ]
    },
    {
     "name": "stderr",
     "output_type": "stream",
     "text": [
      "Number of CDR3s in: ~/Desktop/H4H/INTERCEPT/NextSeq/priority_pool2/mixcr/clones/CLONES_TRBCHP_408-03_cfDNA.txt nonproductive removed\n",
      "\n"
     ]
    },
    {
     "name": "stdout",
     "output_type": "stream",
     "text": [
      "[1] 22\n"
     ]
    },
    {
     "name": "stderr",
     "output_type": "stream",
     "text": [
      "Number of CDR3s in: ~/Desktop/H4H/INTERCEPT/NextSeq/priority_pool2/mixcr/clones/CLONES_TRBCHP_411-01_cfDNA.txt\n",
      "\n"
     ]
    },
    {
     "name": "stdout",
     "output_type": "stream",
     "text": [
      "[1] 76\n"
     ]
    },
    {
     "name": "stderr",
     "output_type": "stream",
     "text": [
      "Number of CDR3s in: ~/Desktop/H4H/INTERCEPT/NextSeq/priority_pool2/mixcr/clones/CLONES_TRBCHP_411-01_cfDNA.txt nonproductive removed\n",
      "\n"
     ]
    },
    {
     "name": "stdout",
     "output_type": "stream",
     "text": [
      "[1] 52\n"
     ]
    },
    {
     "name": "stderr",
     "output_type": "stream",
     "text": [
      "Number of CDR3s in: ~/Desktop/H4H/INTERCEPT/NextSeq/priority_pool2/mixcr/clones/CLONES_TRBCHP_412-01_cfDNA.txt\n",
      "\n"
     ]
    },
    {
     "name": "stdout",
     "output_type": "stream",
     "text": [
      "[1] 13\n"
     ]
    },
    {
     "name": "stderr",
     "output_type": "stream",
     "text": [
      "Number of CDR3s in: ~/Desktop/H4H/INTERCEPT/NextSeq/priority_pool2/mixcr/clones/CLONES_TRBCHP_412-01_cfDNA.txt nonproductive removed\n",
      "\n"
     ]
    },
    {
     "name": "stdout",
     "output_type": "stream",
     "text": [
      "[1] 7\n"
     ]
    },
    {
     "name": "stderr",
     "output_type": "stream",
     "text": [
      "Number of CDR3s in: ~/Desktop/H4H/INTERCEPT/NextSeq/priority_pool2/mixcr/clones/CLONES_TRBCHP_419-02_cfDNA.txt\n",
      "\n"
     ]
    },
    {
     "name": "stdout",
     "output_type": "stream",
     "text": [
      "[1] 4\n"
     ]
    },
    {
     "name": "stderr",
     "output_type": "stream",
     "text": [
      "Number of CDR3s in: ~/Desktop/H4H/INTERCEPT/NextSeq/priority_pool2/mixcr/clones/CLONES_TRBCHP_419-02_cfDNA.txt nonproductive removed\n",
      "\n"
     ]
    },
    {
     "name": "stdout",
     "output_type": "stream",
     "text": [
      "[1] 4\n"
     ]
    },
    {
     "name": "stderr",
     "output_type": "stream",
     "text": [
      "Number of CDR3s in: ~/Desktop/H4H/INTERCEPT/NextSeq/priority_pool2/mixcr/clones/CLONES_TRBCHP_422-01_cfDNA.txt\n",
      "\n"
     ]
    },
    {
     "name": "stdout",
     "output_type": "stream",
     "text": [
      "[1] 25\n"
     ]
    },
    {
     "name": "stderr",
     "output_type": "stream",
     "text": [
      "Number of CDR3s in: ~/Desktop/H4H/INTERCEPT/NextSeq/priority_pool2/mixcr/clones/CLONES_TRBCHP_422-01_cfDNA.txt nonproductive removed\n",
      "\n"
     ]
    },
    {
     "name": "stdout",
     "output_type": "stream",
     "text": [
      "[1] 9\n"
     ]
    },
    {
     "name": "stderr",
     "output_type": "stream",
     "text": [
      "Number of CDR3s in: ~/Desktop/H4H/INTERCEPT/NextSeq/priority_pool3/mixcr/clones/CLONES_TRBCHP_340-04_cfDNA.txt\n",
      "\n"
     ]
    },
    {
     "name": "stdout",
     "output_type": "stream",
     "text": [
      "[1] 30\n"
     ]
    },
    {
     "name": "stderr",
     "output_type": "stream",
     "text": [
      "Number of CDR3s in: ~/Desktop/H4H/INTERCEPT/NextSeq/priority_pool3/mixcr/clones/CLONES_TRBCHP_340-04_cfDNA.txt nonproductive removed\n",
      "\n"
     ]
    },
    {
     "name": "stdout",
     "output_type": "stream",
     "text": [
      "[1] 24\n"
     ]
    },
    {
     "name": "stderr",
     "output_type": "stream",
     "text": [
      "Number of CDR3s in: ~/Desktop/H4H/INTERCEPT/NextSeq/priority_pool3/mixcr/clones/CLONES_TRBCHP_342-02-cfDNA.txt\n",
      "\n"
     ]
    },
    {
     "name": "stdout",
     "output_type": "stream",
     "text": [
      "[1] 25\n"
     ]
    },
    {
     "name": "stderr",
     "output_type": "stream",
     "text": [
      "Number of CDR3s in: ~/Desktop/H4H/INTERCEPT/NextSeq/priority_pool3/mixcr/clones/CLONES_TRBCHP_342-02-cfDNA.txt nonproductive removed\n",
      "\n"
     ]
    },
    {
     "name": "stdout",
     "output_type": "stream",
     "text": [
      "[1] 17\n"
     ]
    },
    {
     "name": "stderr",
     "output_type": "stream",
     "text": [
      "Number of CDR3s in: ~/Desktop/H4H/INTERCEPT/NextSeq/priority_pool3/mixcr/clones/CLONES_TRBCHP_358-04_cfDNA.txt\n",
      "\n"
     ]
    },
    {
     "name": "stdout",
     "output_type": "stream",
     "text": [
      "[1] 19\n"
     ]
    },
    {
     "name": "stderr",
     "output_type": "stream",
     "text": [
      "Number of CDR3s in: ~/Desktop/H4H/INTERCEPT/NextSeq/priority_pool3/mixcr/clones/CLONES_TRBCHP_358-04_cfDNA.txt nonproductive removed\n",
      "\n"
     ]
    },
    {
     "name": "stdout",
     "output_type": "stream",
     "text": [
      "[1] 14\n"
     ]
    },
    {
     "name": "stderr",
     "output_type": "stream",
     "text": [
      "Number of CDR3s in: ~/Desktop/H4H/INTERCEPT/NextSeq/priority_pool3/mixcr/clones/CLONES_TRBCHP_361-04_cfDNA.txt\n",
      "\n"
     ]
    },
    {
     "name": "stdout",
     "output_type": "stream",
     "text": [
      "[1] 10\n"
     ]
    },
    {
     "name": "stderr",
     "output_type": "stream",
     "text": [
      "Number of CDR3s in: ~/Desktop/H4H/INTERCEPT/NextSeq/priority_pool3/mixcr/clones/CLONES_TRBCHP_361-04_cfDNA.txt nonproductive removed\n",
      "\n"
     ]
    },
    {
     "name": "stdout",
     "output_type": "stream",
     "text": [
      "[1] 8\n"
     ]
    },
    {
     "name": "stderr",
     "output_type": "stream",
     "text": [
      "Number of CDR3s in: ~/Desktop/H4H/INTERCEPT/NextSeq/priority_pool3/mixcr/clones/CLONES_TRBCHP_364-03_cfDNA.txt\n",
      "\n"
     ]
    },
    {
     "name": "stdout",
     "output_type": "stream",
     "text": [
      "[1] 4\n"
     ]
    },
    {
     "name": "stderr",
     "output_type": "stream",
     "text": [
      "Number of CDR3s in: ~/Desktop/H4H/INTERCEPT/NextSeq/priority_pool3/mixcr/clones/CLONES_TRBCHP_364-03_cfDNA.txt nonproductive removed\n",
      "\n"
     ]
    },
    {
     "name": "stdout",
     "output_type": "stream",
     "text": [
      "[1] 3\n"
     ]
    },
    {
     "name": "stderr",
     "output_type": "stream",
     "text": [
      "Number of CDR3s in: ~/Desktop/H4H/INTERCEPT/NextSeq/priority_pool3/mixcr/clones/CLONES_TRBCHP_365-05_cfDNA.txt\n",
      "\n"
     ]
    },
    {
     "name": "stdout",
     "output_type": "stream",
     "text": [
      "[1] 14\n"
     ]
    },
    {
     "name": "stderr",
     "output_type": "stream",
     "text": [
      "Number of CDR3s in: ~/Desktop/H4H/INTERCEPT/NextSeq/priority_pool3/mixcr/clones/CLONES_TRBCHP_365-05_cfDNA.txt nonproductive removed\n",
      "\n"
     ]
    },
    {
     "name": "stdout",
     "output_type": "stream",
     "text": [
      "[1] 12\n"
     ]
    },
    {
     "name": "stderr",
     "output_type": "stream",
     "text": [
      "Number of CDR3s in: ~/Desktop/H4H/INTERCEPT/NextSeq/priority_pool3/mixcr/clones/CLONES_TRBCHP_366-03_cfDNA.txt\n",
      "\n"
     ]
    },
    {
     "name": "stdout",
     "output_type": "stream",
     "text": [
      "[1] 5\n"
     ]
    },
    {
     "name": "stderr",
     "output_type": "stream",
     "text": [
      "Number of CDR3s in: ~/Desktop/H4H/INTERCEPT/NextSeq/priority_pool3/mixcr/clones/CLONES_TRBCHP_366-03_cfDNA.txt nonproductive removed\n",
      "\n"
     ]
    },
    {
     "name": "stdout",
     "output_type": "stream",
     "text": [
      "[1] 3\n"
     ]
    },
    {
     "name": "stderr",
     "output_type": "stream",
     "text": [
      "Number of CDR3s in: ~/Desktop/H4H/INTERCEPT/NextSeq/priority_pool3/mixcr/clones/CLONES_TRBCHP_368-04_cfDNA.txt\n",
      "\n"
     ]
    },
    {
     "name": "stdout",
     "output_type": "stream",
     "text": [
      "[1] 23\n"
     ]
    },
    {
     "name": "stderr",
     "output_type": "stream",
     "text": [
      "Number of CDR3s in: ~/Desktop/H4H/INTERCEPT/NextSeq/priority_pool3/mixcr/clones/CLONES_TRBCHP_368-04_cfDNA.txt nonproductive removed\n",
      "\n"
     ]
    },
    {
     "name": "stdout",
     "output_type": "stream",
     "text": [
      "[1] 15\n"
     ]
    },
    {
     "name": "stderr",
     "output_type": "stream",
     "text": [
      "Number of CDR3s in: ~/Desktop/H4H/INTERCEPT/NextSeq/priority_pool3/mixcr/clones/CLONES_TRBCHP_373-04_cfDNA.txt\n",
      "\n"
     ]
    },
    {
     "name": "stdout",
     "output_type": "stream",
     "text": [
      "[1] 8\n"
     ]
    },
    {
     "name": "stderr",
     "output_type": "stream",
     "text": [
      "Number of CDR3s in: ~/Desktop/H4H/INTERCEPT/NextSeq/priority_pool3/mixcr/clones/CLONES_TRBCHP_373-04_cfDNA.txt nonproductive removed\n",
      "\n"
     ]
    },
    {
     "name": "stdout",
     "output_type": "stream",
     "text": [
      "[1] 5\n"
     ]
    },
    {
     "name": "stderr",
     "output_type": "stream",
     "text": [
      "Number of CDR3s in: ~/Desktop/H4H/INTERCEPT/NextSeq/priority_pool3/mixcr/clones/CLONES_TRBCHP_384-01_cfDNA.txt\n",
      "\n"
     ]
    },
    {
     "name": "stdout",
     "output_type": "stream",
     "text": [
      "[1] 39\n"
     ]
    },
    {
     "name": "stderr",
     "output_type": "stream",
     "text": [
      "Number of CDR3s in: ~/Desktop/H4H/INTERCEPT/NextSeq/priority_pool3/mixcr/clones/CLONES_TRBCHP_384-01_cfDNA.txt nonproductive removed\n",
      "\n"
     ]
    },
    {
     "name": "stdout",
     "output_type": "stream",
     "text": [
      "[1] 27\n"
     ]
    },
    {
     "name": "stderr",
     "output_type": "stream",
     "text": [
      "Number of CDR3s in: ~/Desktop/H4H/INTERCEPT/NextSeq/priority_pool3/mixcr/clones/CLONES_TRBCHP_391-04_cfDNA.txt\n",
      "\n"
     ]
    },
    {
     "name": "stdout",
     "output_type": "stream",
     "text": [
      "[1] 8\n"
     ]
    },
    {
     "name": "stderr",
     "output_type": "stream",
     "text": [
      "Number of CDR3s in: ~/Desktop/H4H/INTERCEPT/NextSeq/priority_pool3/mixcr/clones/CLONES_TRBCHP_391-04_cfDNA.txt nonproductive removed\n",
      "\n"
     ]
    },
    {
     "name": "stdout",
     "output_type": "stream",
     "text": [
      "[1] 7\n"
     ]
    },
    {
     "name": "stderr",
     "output_type": "stream",
     "text": [
      "Number of CDR3s in: ~/Desktop/H4H/INTERCEPT/NextSeq/priority_pool3/mixcr/clones/CLONES_TRBCHP_394-02_cfDNA.txt\n",
      "\n"
     ]
    },
    {
     "name": "stdout",
     "output_type": "stream",
     "text": [
      "[1] 5\n"
     ]
    },
    {
     "name": "stderr",
     "output_type": "stream",
     "text": [
      "Number of CDR3s in: ~/Desktop/H4H/INTERCEPT/NextSeq/priority_pool3/mixcr/clones/CLONES_TRBCHP_394-02_cfDNA.txt nonproductive removed\n",
      "\n"
     ]
    },
    {
     "name": "stdout",
     "output_type": "stream",
     "text": [
      "[1] 4\n"
     ]
    },
    {
     "name": "stderr",
     "output_type": "stream",
     "text": [
      "Number of CDR3s in: ~/Desktop/H4H/INTERCEPT/NextSeq/priority_pool3/mixcr/clones/CLONES_TRBCHP_394-04_cfDNA.txt\n",
      "\n"
     ]
    },
    {
     "name": "stdout",
     "output_type": "stream",
     "text": [
      "[1] 13\n"
     ]
    },
    {
     "name": "stderr",
     "output_type": "stream",
     "text": [
      "Number of CDR3s in: ~/Desktop/H4H/INTERCEPT/NextSeq/priority_pool3/mixcr/clones/CLONES_TRBCHP_394-04_cfDNA.txt nonproductive removed\n",
      "\n"
     ]
    },
    {
     "name": "stdout",
     "output_type": "stream",
     "text": [
      "[1] 9\n"
     ]
    },
    {
     "name": "stderr",
     "output_type": "stream",
     "text": [
      "Number of CDR3s in: ~/Desktop/H4H/INTERCEPT/NextSeq/priority_pool3/mixcr/clones/CLONES_TRBCHP_399-04_cfDNA.txt\n",
      "\n"
     ]
    },
    {
     "name": "stdout",
     "output_type": "stream",
     "text": [
      "[1] 2\n"
     ]
    },
    {
     "name": "stderr",
     "output_type": "stream",
     "text": [
      "Number of CDR3s in: ~/Desktop/H4H/INTERCEPT/NextSeq/priority_pool3/mixcr/clones/CLONES_TRBCHP_399-04_cfDNA.txt nonproductive removed\n",
      "\n"
     ]
    },
    {
     "name": "stdout",
     "output_type": "stream",
     "text": [
      "[1] 2\n"
     ]
    },
    {
     "name": "stderr",
     "output_type": "stream",
     "text": [
      "Number of CDR3s in: ~/Desktop/H4H/INTERCEPT/NextSeq/priority_pool3/mixcr/clones/CLONES_TRBCHP_400-02_cfDNA.txt\n",
      "\n"
     ]
    },
    {
     "name": "stdout",
     "output_type": "stream",
     "text": [
      "[1] 3\n"
     ]
    },
    {
     "name": "stderr",
     "output_type": "stream",
     "text": [
      "Number of CDR3s in: ~/Desktop/H4H/INTERCEPT/NextSeq/priority_pool3/mixcr/clones/CLONES_TRBCHP_400-02_cfDNA.txt nonproductive removed\n",
      "\n"
     ]
    },
    {
     "name": "stdout",
     "output_type": "stream",
     "text": [
      "[1] 3\n"
     ]
    },
    {
     "name": "stderr",
     "output_type": "stream",
     "text": [
      "Number of CDR3s in: ~/Desktop/H4H/INTERCEPT/NextSeq/priority_pool3/mixcr/clones/CLONES_TRBCHP_407-02_cfDNA.txt\n",
      "\n"
     ]
    },
    {
     "name": "stdout",
     "output_type": "stream",
     "text": [
      "[1] 25\n"
     ]
    },
    {
     "name": "stderr",
     "output_type": "stream",
     "text": [
      "Number of CDR3s in: ~/Desktop/H4H/INTERCEPT/NextSeq/priority_pool3/mixcr/clones/CLONES_TRBCHP_407-02_cfDNA.txt nonproductive removed\n",
      "\n"
     ]
    },
    {
     "name": "stdout",
     "output_type": "stream",
     "text": [
      "[1] 17\n"
     ]
    },
    {
     "name": "stderr",
     "output_type": "stream",
     "text": [
      "Number of CDR3s in: ~/Desktop/H4H/INTERCEPT/NextSeq/priority_pool3/mixcr/clones/CLONES_TRBCHP_409-02_cfDNA.txt\n",
      "\n"
     ]
    },
    {
     "name": "stdout",
     "output_type": "stream",
     "text": [
      "[1] 3\n"
     ]
    },
    {
     "name": "stderr",
     "output_type": "stream",
     "text": [
      "Number of CDR3s in: ~/Desktop/H4H/INTERCEPT/NextSeq/priority_pool3/mixcr/clones/CLONES_TRBCHP_409-02_cfDNA.txt nonproductive removed\n",
      "\n"
     ]
    },
    {
     "name": "stdout",
     "output_type": "stream",
     "text": [
      "[1] 3\n"
     ]
    },
    {
     "name": "stderr",
     "output_type": "stream",
     "text": [
      "Number of CDR3s in: ~/Desktop/H4H/INTERCEPT/NextSeq/priority_pool3/mixcr/clones/CLONES_TRBCHP_409-04_cfDNA.txt\n",
      "\n"
     ]
    },
    {
     "name": "stdout",
     "output_type": "stream",
     "text": [
      "[1] 2\n"
     ]
    },
    {
     "name": "stderr",
     "output_type": "stream",
     "text": [
      "Number of CDR3s in: ~/Desktop/H4H/INTERCEPT/NextSeq/priority_pool3/mixcr/clones/CLONES_TRBCHP_409-04_cfDNA.txt nonproductive removed\n",
      "\n"
     ]
    },
    {
     "name": "stdout",
     "output_type": "stream",
     "text": [
      "[1] 2\n"
     ]
    },
    {
     "name": "stderr",
     "output_type": "stream",
     "text": [
      "Number of CDR3s in: ~/Desktop/H4H/INTERCEPT/NextSeq/priority_pool3/mixcr/clones/CLONES_TRBCHP_410-01_cfDNA.txt\n",
      "\n"
     ]
    },
    {
     "name": "stdout",
     "output_type": "stream",
     "text": [
      "[1] 96\n"
     ]
    },
    {
     "name": "stderr",
     "output_type": "stream",
     "text": [
      "Number of CDR3s in: ~/Desktop/H4H/INTERCEPT/NextSeq/priority_pool3/mixcr/clones/CLONES_TRBCHP_410-01_cfDNA.txt nonproductive removed\n",
      "\n"
     ]
    },
    {
     "name": "stdout",
     "output_type": "stream",
     "text": [
      "[1] 31\n"
     ]
    },
    {
     "name": "stderr",
     "output_type": "stream",
     "text": [
      "Number of CDR3s in: ~/Desktop/H4H/INTERCEPT/NextSeq/priority_pool3/mixcr/clones/CLONES_TRBCHP_413-02_cfDNA.txt\n",
      "\n"
     ]
    },
    {
     "name": "stdout",
     "output_type": "stream",
     "text": [
      "[1] 7\n"
     ]
    },
    {
     "name": "stderr",
     "output_type": "stream",
     "text": [
      "Number of CDR3s in: ~/Desktop/H4H/INTERCEPT/NextSeq/priority_pool3/mixcr/clones/CLONES_TRBCHP_413-02_cfDNA.txt nonproductive removed\n",
      "\n"
     ]
    },
    {
     "name": "stdout",
     "output_type": "stream",
     "text": [
      "[1] 6\n"
     ]
    },
    {
     "name": "stderr",
     "output_type": "stream",
     "text": [
      "Number of CDR3s in: ~/Desktop/H4H/INTERCEPT/NextSeq/remaining_batch_1_20April2021/mixcr/clones/CLONES_TRBCHP_337-03_PBMC-DNA.txt\n",
      "\n"
     ]
    },
    {
     "name": "stdout",
     "output_type": "stream",
     "text": [
      "[1] 262\n"
     ]
    },
    {
     "name": "stderr",
     "output_type": "stream",
     "text": [
      "Number of CDR3s in: ~/Desktop/H4H/INTERCEPT/NextSeq/remaining_batch_1_20April2021/mixcr/clones/CLONES_TRBCHP_337-03_PBMC-DNA.txt nonproductive removed\n",
      "\n"
     ]
    },
    {
     "name": "stdout",
     "output_type": "stream",
     "text": [
      "[1] 185\n"
     ]
    },
    {
     "name": "stderr",
     "output_type": "stream",
     "text": [
      "Number of CDR3s in: ~/Desktop/H4H/INTERCEPT/NextSeq/remaining_batch_1_20April2021/mixcr/clones/CLONES_TRBCHP_348-05_PBMC-DNA.txt\n",
      "\n"
     ]
    },
    {
     "name": "stdout",
     "output_type": "stream",
     "text": [
      "[1] 426\n"
     ]
    },
    {
     "name": "stderr",
     "output_type": "stream",
     "text": [
      "Number of CDR3s in: ~/Desktop/H4H/INTERCEPT/NextSeq/remaining_batch_1_20April2021/mixcr/clones/CLONES_TRBCHP_348-05_PBMC-DNA.txt nonproductive removed\n",
      "\n"
     ]
    },
    {
     "name": "stdout",
     "output_type": "stream",
     "text": [
      "[1] 302\n"
     ]
    },
    {
     "name": "stderr",
     "output_type": "stream",
     "text": [
      "Number of CDR3s in: ~/Desktop/H4H/INTERCEPT/NextSeq/remaining_batch_1_20April2021/mixcr/clones/CLONES_TRBCHP_361-05_PBMC-DNA.txt\n",
      "\n"
     ]
    },
    {
     "name": "stdout",
     "output_type": "stream",
     "text": [
      "[1] 55\n"
     ]
    },
    {
     "name": "stderr",
     "output_type": "stream",
     "text": [
      "Number of CDR3s in: ~/Desktop/H4H/INTERCEPT/NextSeq/remaining_batch_1_20April2021/mixcr/clones/CLONES_TRBCHP_361-05_PBMC-DNA.txt nonproductive removed\n",
      "\n"
     ]
    },
    {
     "name": "stdout",
     "output_type": "stream",
     "text": [
      "[1] 37\n"
     ]
    },
    {
     "name": "stderr",
     "output_type": "stream",
     "text": [
      "Number of CDR3s in: ~/Desktop/H4H/INTERCEPT/NextSeq/remaining_batch_1_20April2021/mixcr/clones/CLONES_TRBCHP_363-05_PBMC-DNA.txt\n",
      "\n"
     ]
    },
    {
     "name": "stdout",
     "output_type": "stream",
     "text": [
      "[1] 89\n"
     ]
    },
    {
     "name": "stderr",
     "output_type": "stream",
     "text": [
      "Number of CDR3s in: ~/Desktop/H4H/INTERCEPT/NextSeq/remaining_batch_1_20April2021/mixcr/clones/CLONES_TRBCHP_363-05_PBMC-DNA.txt nonproductive removed\n",
      "\n"
     ]
    },
    {
     "name": "stdout",
     "output_type": "stream",
     "text": [
      "[1] 68\n"
     ]
    },
    {
     "name": "stderr",
     "output_type": "stream",
     "text": [
      "Number of CDR3s in: ~/Desktop/H4H/INTERCEPT/NextSeq/remaining_batch_1_20April2021/mixcr/clones/CLONES_TRBCHP_366-03_PBMC-DNA.txt\n",
      "\n"
     ]
    },
    {
     "name": "stdout",
     "output_type": "stream",
     "text": [
      "[1] 171\n"
     ]
    },
    {
     "name": "stderr",
     "output_type": "stream",
     "text": [
      "Number of CDR3s in: ~/Desktop/H4H/INTERCEPT/NextSeq/remaining_batch_1_20April2021/mixcr/clones/CLONES_TRBCHP_366-03_PBMC-DNA.txt nonproductive removed\n",
      "\n"
     ]
    },
    {
     "name": "stdout",
     "output_type": "stream",
     "text": [
      "[1] 124\n"
     ]
    },
    {
     "name": "stderr",
     "output_type": "stream",
     "text": [
      "Number of CDR3s in: ~/Desktop/H4H/INTERCEPT/NextSeq/remaining_batch_1_20April2021/mixcr/clones/CLONES_TRBCHP_366-04_PBMC-DNA.txt\n",
      "\n"
     ]
    },
    {
     "name": "stdout",
     "output_type": "stream",
     "text": [
      "[1] 347\n"
     ]
    },
    {
     "name": "stderr",
     "output_type": "stream",
     "text": [
      "Number of CDR3s in: ~/Desktop/H4H/INTERCEPT/NextSeq/remaining_batch_1_20April2021/mixcr/clones/CLONES_TRBCHP_366-04_PBMC-DNA.txt nonproductive removed\n",
      "\n"
     ]
    },
    {
     "name": "stdout",
     "output_type": "stream",
     "text": [
      "[1] 259\n"
     ]
    },
    {
     "name": "stderr",
     "output_type": "stream",
     "text": [
      "Number of CDR3s in: ~/Desktop/H4H/INTERCEPT/NextSeq/remaining_batch_1_20April2021/mixcr/clones/CLONES_TRBCHP_366-05_PBMC-DNA.txt\n",
      "\n"
     ]
    },
    {
     "name": "stdout",
     "output_type": "stream",
     "text": [
      "[1] 265\n"
     ]
    },
    {
     "name": "stderr",
     "output_type": "stream",
     "text": [
      "Number of CDR3s in: ~/Desktop/H4H/INTERCEPT/NextSeq/remaining_batch_1_20April2021/mixcr/clones/CLONES_TRBCHP_366-05_PBMC-DNA.txt nonproductive removed\n",
      "\n"
     ]
    },
    {
     "name": "stdout",
     "output_type": "stream",
     "text": [
      "[1] 177\n"
     ]
    },
    {
     "name": "stderr",
     "output_type": "stream",
     "text": [
      "Number of CDR3s in: ~/Desktop/H4H/INTERCEPT/NextSeq/remaining_batch_1_20April2021/mixcr/clones/CLONES_TRBCHP_367-03_PBMC-DNA.txt\n",
      "\n"
     ]
    },
    {
     "name": "stdout",
     "output_type": "stream",
     "text": [
      "[1] 822\n"
     ]
    },
    {
     "name": "stderr",
     "output_type": "stream",
     "text": [
      "Number of CDR3s in: ~/Desktop/H4H/INTERCEPT/NextSeq/remaining_batch_1_20April2021/mixcr/clones/CLONES_TRBCHP_367-03_PBMC-DNA.txt nonproductive removed\n",
      "\n"
     ]
    },
    {
     "name": "stdout",
     "output_type": "stream",
     "text": [
      "[1] 586\n"
     ]
    },
    {
     "name": "stderr",
     "output_type": "stream",
     "text": [
      "Number of CDR3s in: ~/Desktop/H4H/INTERCEPT/NextSeq/remaining_batch_1_20April2021/mixcr/clones/CLONES_TRBCHP_377-01_PBMC-DNA.txt\n",
      "\n"
     ]
    },
    {
     "name": "stdout",
     "output_type": "stream",
     "text": [
      "[1] 255\n"
     ]
    },
    {
     "name": "stderr",
     "output_type": "stream",
     "text": [
      "Number of CDR3s in: ~/Desktop/H4H/INTERCEPT/NextSeq/remaining_batch_1_20April2021/mixcr/clones/CLONES_TRBCHP_377-01_PBMC-DNA.txt nonproductive removed\n",
      "\n"
     ]
    },
    {
     "name": "stdout",
     "output_type": "stream",
     "text": [
      "[1] 196\n"
     ]
    },
    {
     "name": "stderr",
     "output_type": "stream",
     "text": [
      "Number of CDR3s in: ~/Desktop/H4H/INTERCEPT/NextSeq/remaining_batch_1_20April2021/mixcr/clones/CLONES_TRBCHP_385-02_PBMC-DNA.txt\n",
      "\n"
     ]
    },
    {
     "name": "stdout",
     "output_type": "stream",
     "text": [
      "[1] 203\n"
     ]
    },
    {
     "name": "stderr",
     "output_type": "stream",
     "text": [
      "Number of CDR3s in: ~/Desktop/H4H/INTERCEPT/NextSeq/remaining_batch_1_20April2021/mixcr/clones/CLONES_TRBCHP_385-02_PBMC-DNA.txt nonproductive removed\n",
      "\n"
     ]
    },
    {
     "name": "stdout",
     "output_type": "stream",
     "text": [
      "[1] 146\n"
     ]
    },
    {
     "name": "stderr",
     "output_type": "stream",
     "text": [
      "Number of CDR3s in: ~/Desktop/H4H/INTERCEPT/NextSeq/remaining_batch_1_20April2021/mixcr/clones/CLONES_TRBCHP_389-03_PBMC-DNA.txt\n",
      "\n"
     ]
    },
    {
     "name": "stdout",
     "output_type": "stream",
     "text": [
      "[1] 243\n"
     ]
    },
    {
     "name": "stderr",
     "output_type": "stream",
     "text": [
      "Number of CDR3s in: ~/Desktop/H4H/INTERCEPT/NextSeq/remaining_batch_1_20April2021/mixcr/clones/CLONES_TRBCHP_389-03_PBMC-DNA.txt nonproductive removed\n",
      "\n"
     ]
    },
    {
     "name": "stdout",
     "output_type": "stream",
     "text": [
      "[1] 166\n"
     ]
    },
    {
     "name": "stderr",
     "output_type": "stream",
     "text": [
      "Number of CDR3s in: ~/Desktop/H4H/INTERCEPT/NextSeq/remaining_batch_1_20April2021/mixcr/clones/CLONES_TRBCHP_389-04_PBMC-DNA.txt\n",
      "\n"
     ]
    },
    {
     "name": "stdout",
     "output_type": "stream",
     "text": [
      "[1] 548\n"
     ]
    },
    {
     "name": "stderr",
     "output_type": "stream",
     "text": [
      "Number of CDR3s in: ~/Desktop/H4H/INTERCEPT/NextSeq/remaining_batch_1_20April2021/mixcr/clones/CLONES_TRBCHP_389-04_PBMC-DNA.txt nonproductive removed\n",
      "\n"
     ]
    },
    {
     "name": "stdout",
     "output_type": "stream",
     "text": [
      "[1] 353\n"
     ]
    },
    {
     "name": "stderr",
     "output_type": "stream",
     "text": [
      "Number of CDR3s in: ~/Desktop/H4H/INTERCEPT/NextSeq/remaining_batch_1_20April2021/mixcr/clones/CLONES_TRBCHP_390-02_PBMC-DNA.txt\n",
      "\n"
     ]
    },
    {
     "name": "stdout",
     "output_type": "stream",
     "text": [
      "[1] 126\n"
     ]
    },
    {
     "name": "stderr",
     "output_type": "stream",
     "text": [
      "Number of CDR3s in: ~/Desktop/H4H/INTERCEPT/NextSeq/remaining_batch_1_20April2021/mixcr/clones/CLONES_TRBCHP_390-02_PBMC-DNA.txt nonproductive removed\n",
      "\n"
     ]
    },
    {
     "name": "stdout",
     "output_type": "stream",
     "text": [
      "[1] 95\n"
     ]
    },
    {
     "name": "stderr",
     "output_type": "stream",
     "text": [
      "Number of CDR3s in: ~/Desktop/H4H/INTERCEPT/NextSeq/remaining_batch_1_20April2021/mixcr/clones/CLONES_TRBCHP_390-03_PBMC-DNA.txt\n",
      "\n"
     ]
    },
    {
     "name": "stdout",
     "output_type": "stream",
     "text": [
      "[1] 244\n"
     ]
    },
    {
     "name": "stderr",
     "output_type": "stream",
     "text": [
      "Number of CDR3s in: ~/Desktop/H4H/INTERCEPT/NextSeq/remaining_batch_1_20April2021/mixcr/clones/CLONES_TRBCHP_390-03_PBMC-DNA.txt nonproductive removed\n",
      "\n"
     ]
    },
    {
     "name": "stdout",
     "output_type": "stream",
     "text": [
      "[1] 164\n"
     ]
    },
    {
     "name": "stderr",
     "output_type": "stream",
     "text": [
      "Number of CDR3s in: ~/Desktop/H4H/INTERCEPT/NextSeq/remaining_batch_1_20April2021/mixcr/clones/CLONES_TRBCHP_393-02_PBMC-DNA.txt\n",
      "\n"
     ]
    },
    {
     "name": "stdout",
     "output_type": "stream",
     "text": [
      "[1] 175\n"
     ]
    },
    {
     "name": "stderr",
     "output_type": "stream",
     "text": [
      "Number of CDR3s in: ~/Desktop/H4H/INTERCEPT/NextSeq/remaining_batch_1_20April2021/mixcr/clones/CLONES_TRBCHP_393-02_PBMC-DNA.txt nonproductive removed\n",
      "\n"
     ]
    },
    {
     "name": "stdout",
     "output_type": "stream",
     "text": [
      "[1] 126\n"
     ]
    },
    {
     "name": "stderr",
     "output_type": "stream",
     "text": [
      "Number of CDR3s in: ~/Desktop/H4H/INTERCEPT/NextSeq/remaining_batch_1_20April2021/mixcr/clones/CLONES_TRBCHP_401-01_PBMC-DNA.txt\n",
      "\n"
     ]
    },
    {
     "name": "stdout",
     "output_type": "stream",
     "text": [
      "[1] 163\n"
     ]
    },
    {
     "name": "stderr",
     "output_type": "stream",
     "text": [
      "Number of CDR3s in: ~/Desktop/H4H/INTERCEPT/NextSeq/remaining_batch_1_20April2021/mixcr/clones/CLONES_TRBCHP_401-01_PBMC-DNA.txt nonproductive removed\n",
      "\n"
     ]
    },
    {
     "name": "stdout",
     "output_type": "stream",
     "text": [
      "[1] 113\n"
     ]
    },
    {
     "name": "stderr",
     "output_type": "stream",
     "text": [
      "Number of CDR3s in: ~/Desktop/H4H/INTERCEPT/NextSeq/remaining_batch_1_cfDNA_8April2021/mixcr/clones/CLONES_TRBCHP_323-05_cfDNA.txt\n",
      "\n"
     ]
    },
    {
     "name": "stdout",
     "output_type": "stream",
     "text": [
      "[1] 19\n"
     ]
    },
    {
     "name": "stderr",
     "output_type": "stream",
     "text": [
      "Number of CDR3s in: ~/Desktop/H4H/INTERCEPT/NextSeq/remaining_batch_1_cfDNA_8April2021/mixcr/clones/CLONES_TRBCHP_323-05_cfDNA.txt nonproductive removed\n",
      "\n"
     ]
    },
    {
     "name": "stdout",
     "output_type": "stream",
     "text": [
      "[1] 15\n"
     ]
    },
    {
     "name": "stderr",
     "output_type": "stream",
     "text": [
      "Number of CDR3s in: ~/Desktop/H4H/INTERCEPT/NextSeq/remaining_batch_1_cfDNA_8April2021/mixcr/clones/CLONES_TRBCHP_357-02_cfDNA.txt\n",
      "\n"
     ]
    },
    {
     "name": "stdout",
     "output_type": "stream",
     "text": [
      "[1] 15\n"
     ]
    },
    {
     "name": "stderr",
     "output_type": "stream",
     "text": [
      "Number of CDR3s in: ~/Desktop/H4H/INTERCEPT/NextSeq/remaining_batch_1_cfDNA_8April2021/mixcr/clones/CLONES_TRBCHP_357-02_cfDNA.txt nonproductive removed\n",
      "\n"
     ]
    },
    {
     "name": "stdout",
     "output_type": "stream",
     "text": [
      "[1] 11\n"
     ]
    },
    {
     "name": "stderr",
     "output_type": "stream",
     "text": [
      "Number of CDR3s in: ~/Desktop/H4H/INTERCEPT/NextSeq/remaining_batch_1_cfDNA_8April2021/mixcr/clones/CLONES_TRBCHP_378-03_cfDNA.txt\n",
      "\n"
     ]
    },
    {
     "name": "stdout",
     "output_type": "stream",
     "text": [
      "[1] 5\n"
     ]
    },
    {
     "name": "stderr",
     "output_type": "stream",
     "text": [
      "Number of CDR3s in: ~/Desktop/H4H/INTERCEPT/NextSeq/remaining_batch_1_cfDNA_8April2021/mixcr/clones/CLONES_TRBCHP_378-03_cfDNA.txt nonproductive removed\n",
      "\n"
     ]
    },
    {
     "name": "stdout",
     "output_type": "stream",
     "text": [
      "[1] 4\n"
     ]
    },
    {
     "name": "stderr",
     "output_type": "stream",
     "text": [
      "Number of CDR3s in: ~/Desktop/H4H/INTERCEPT/NextSeq/remaining_batch_1_cfDNA_8April2021/mixcr/clones/CLONES_TRBCHP_393-01_cfDNA.txt\n",
      "\n"
     ]
    },
    {
     "name": "stdout",
     "output_type": "stream",
     "text": [
      "[1] 1\n"
     ]
    },
    {
     "name": "stderr",
     "output_type": "stream",
     "text": [
      "Number of CDR3s in: ~/Desktop/H4H/INTERCEPT/NextSeq/remaining_batch_1_cfDNA_8April2021/mixcr/clones/CLONES_TRBCHP_393-01_cfDNA.txt nonproductive removed\n",
      "\n"
     ]
    },
    {
     "name": "stdout",
     "output_type": "stream",
     "text": [
      "[1] 1\n"
     ]
    },
    {
     "name": "stderr",
     "output_type": "stream",
     "text": [
      "Number of CDR3s in: ~/Desktop/H4H/INTERCEPT/NextSeq/remaining_batch_1_cfDNA_8April2021/mixcr/clones/CLONES_TRBCHP_403-03_cfDNA.txt\n",
      "\n"
     ]
    },
    {
     "name": "stdout",
     "output_type": "stream",
     "text": [
      "[1] 1\n"
     ]
    },
    {
     "name": "stderr",
     "output_type": "stream",
     "text": [
      "Number of CDR3s in: ~/Desktop/H4H/INTERCEPT/NextSeq/remaining_batch_1_cfDNA_8April2021/mixcr/clones/CLONES_TRBCHP_403-03_cfDNA.txt nonproductive removed\n",
      "\n"
     ]
    },
    {
     "name": "stdout",
     "output_type": "stream",
     "text": [
      "[1] 1\n"
     ]
    },
    {
     "name": "stderr",
     "output_type": "stream",
     "text": [
      "Number of CDR3s in: ~/Desktop/H4H/INTERCEPT/NextSeq/remaining_batch_1_cfDNA_8April2021/mixcr/clones/CLONES_TRBCHP_408-02_cfDNA.txt\n",
      "\n"
     ]
    },
    {
     "name": "stdout",
     "output_type": "stream",
     "text": [
      "[1] 12\n"
     ]
    },
    {
     "name": "stderr",
     "output_type": "stream",
     "text": [
      "Number of CDR3s in: ~/Desktop/H4H/INTERCEPT/NextSeq/remaining_batch_1_cfDNA_8April2021/mixcr/clones/CLONES_TRBCHP_408-02_cfDNA.txt nonproductive removed\n",
      "\n"
     ]
    },
    {
     "name": "stdout",
     "output_type": "stream",
     "text": [
      "[1] 8\n"
     ]
    },
    {
     "name": "stderr",
     "output_type": "stream",
     "text": [
      "Number of CDR3s in: ~/Desktop/H4H/INTERCEPT/NextSeq/remaining_batch_1_cfDNA_8April2021/mixcr/clones/CLONES_TRBCHP_409-05_cfDNA.txt\n",
      "\n"
     ]
    },
    {
     "name": "stdout",
     "output_type": "stream",
     "text": [
      "[1] 1\n"
     ]
    },
    {
     "name": "stderr",
     "output_type": "stream",
     "text": [
      "Number of CDR3s in: ~/Desktop/H4H/INTERCEPT/NextSeq/remaining_batch_1_cfDNA_8April2021/mixcr/clones/CLONES_TRBCHP_409-05_cfDNA.txt nonproductive removed\n",
      "\n"
     ]
    },
    {
     "name": "stdout",
     "output_type": "stream",
     "text": [
      "[1] 1\n"
     ]
    },
    {
     "name": "stderr",
     "output_type": "stream",
     "text": [
      "Number of CDR3s in: ~/Desktop/H4H/INTERCEPT/NextSeq/remaining_batch_1_cfDNA_8April2021/mixcr/clones/CLONES_TRBCHP_410-02_cfDNA.txt\n",
      "\n"
     ]
    },
    {
     "name": "stdout",
     "output_type": "stream",
     "text": [
      "[1] 12\n"
     ]
    },
    {
     "name": "stderr",
     "output_type": "stream",
     "text": [
      "Number of CDR3s in: ~/Desktop/H4H/INTERCEPT/NextSeq/remaining_batch_1_cfDNA_8April2021/mixcr/clones/CLONES_TRBCHP_410-02_cfDNA.txt nonproductive removed\n",
      "\n"
     ]
    },
    {
     "name": "stdout",
     "output_type": "stream",
     "text": [
      "[1] 11\n"
     ]
    },
    {
     "name": "stderr",
     "output_type": "stream",
     "text": [
      "Number of CDR3s in: ~/Desktop/H4H/INTERCEPT/NextSeq/remaining_batch_1_cfDNA_8April2021/mixcr/clones/CLONES_TRBCHP_410-03_cfDNA.txt\n",
      "\n"
     ]
    },
    {
     "name": "stdout",
     "output_type": "stream",
     "text": [
      "[1] 10\n"
     ]
    },
    {
     "name": "stderr",
     "output_type": "stream",
     "text": [
      "Number of CDR3s in: ~/Desktop/H4H/INTERCEPT/NextSeq/remaining_batch_1_cfDNA_8April2021/mixcr/clones/CLONES_TRBCHP_410-03_cfDNA.txt nonproductive removed\n",
      "\n"
     ]
    },
    {
     "name": "stdout",
     "output_type": "stream",
     "text": [
      "[1] 9\n"
     ]
    },
    {
     "name": "stderr",
     "output_type": "stream",
     "text": [
      "Number of CDR3s in: ~/Desktop/H4H/INTERCEPT/NextSeq/remaining_batch_1_cfDNA_8April2021/mixcr/clones/CLONES_TRBCHP_416-01_cfDNA.txt\n",
      "\n"
     ]
    },
    {
     "name": "stdout",
     "output_type": "stream",
     "text": [
      "[1] 8\n"
     ]
    },
    {
     "name": "stderr",
     "output_type": "stream",
     "text": [
      "Number of CDR3s in: ~/Desktop/H4H/INTERCEPT/NextSeq/remaining_batch_1_cfDNA_8April2021/mixcr/clones/CLONES_TRBCHP_416-01_cfDNA.txt nonproductive removed\n",
      "\n"
     ]
    },
    {
     "name": "stdout",
     "output_type": "stream",
     "text": [
      "[1] 5\n"
     ]
    },
    {
     "name": "stderr",
     "output_type": "stream",
     "text": [
      "Number of CDR3s in: ~/Desktop/H4H/INTERCEPT/NextSeq/remaining_batch_1_cfDNA_8April2021/mixcr/clones/CLONES_TRBCHP_418-01_cfDNA.txt\n",
      "\n"
     ]
    },
    {
     "name": "stdout",
     "output_type": "stream",
     "text": [
      "[1] 1\n"
     ]
    },
    {
     "name": "stderr",
     "output_type": "stream",
     "text": [
      "Number of CDR3s in: ~/Desktop/H4H/INTERCEPT/NextSeq/remaining_batch_1_cfDNA_8April2021/mixcr/clones/CLONES_TRBCHP_418-01_cfDNA.txt nonproductive removed\n",
      "\n"
     ]
    },
    {
     "name": "stdout",
     "output_type": "stream",
     "text": [
      "[1] 1\n"
     ]
    },
    {
     "name": "stderr",
     "output_type": "stream",
     "text": [
      "Number of CDR3s in: ~/Desktop/H4H/INTERCEPT/NextSeq/remaining_batch_1_cfDNA_8April2021/mixcr/clones/CLONES_TRBCHP_418-02_cfDNA.txt\n",
      "\n"
     ]
    },
    {
     "name": "stdout",
     "output_type": "stream",
     "text": [
      "[1] 6\n"
     ]
    },
    {
     "name": "stderr",
     "output_type": "stream",
     "text": [
      "Number of CDR3s in: ~/Desktop/H4H/INTERCEPT/NextSeq/remaining_batch_1_cfDNA_8April2021/mixcr/clones/CLONES_TRBCHP_418-02_cfDNA.txt nonproductive removed\n",
      "\n"
     ]
    },
    {
     "name": "stdout",
     "output_type": "stream",
     "text": [
      "[1] 4\n"
     ]
    },
    {
     "name": "stderr",
     "output_type": "stream",
     "text": [
      "Number of CDR3s in: ~/Desktop/H4H/INTERCEPT/NextSeq/remaining_batch_1_cfDNA_8April2021/mixcr/clones/CLONES_TRBCHP_419-01_cfDNA.txt\n",
      "\n"
     ]
    },
    {
     "name": "stdout",
     "output_type": "stream",
     "text": [
      "[1] 6\n"
     ]
    },
    {
     "name": "stderr",
     "output_type": "stream",
     "text": [
      "Number of CDR3s in: ~/Desktop/H4H/INTERCEPT/NextSeq/remaining_batch_1_cfDNA_8April2021/mixcr/clones/CLONES_TRBCHP_419-01_cfDNA.txt nonproductive removed\n",
      "\n"
     ]
    },
    {
     "name": "stdout",
     "output_type": "stream",
     "text": [
      "[1] 5\n"
     ]
    },
    {
     "name": "stderr",
     "output_type": "stream",
     "text": [
      "Number of CDR3s in: ~/Desktop/H4H/INTERCEPT/NextSeq/remaining_batch_1_cfDNA_8April2021/mixcr/clones/CLONES_TRBCHP_420-01_cfDNA.txt\n",
      "\n"
     ]
    },
    {
     "name": "stdout",
     "output_type": "stream",
     "text": [
      "[1] 41\n"
     ]
    },
    {
     "name": "stderr",
     "output_type": "stream",
     "text": [
      "Number of CDR3s in: ~/Desktop/H4H/INTERCEPT/NextSeq/remaining_batch_1_cfDNA_8April2021/mixcr/clones/CLONES_TRBCHP_420-01_cfDNA.txt nonproductive removed\n",
      "\n"
     ]
    },
    {
     "name": "stdout",
     "output_type": "stream",
     "text": [
      "[1] 30\n"
     ]
    },
    {
     "name": "stderr",
     "output_type": "stream",
     "text": [
      "Number of CDR3s in: ~/Desktop/H4H/INTERCEPT/NextSeq/remaining_batch_1_cfDNA_8April2021/mixcr/clones/CLONES_TRBCHP_421-01_cfDNA.txt\n",
      "\n"
     ]
    },
    {
     "name": "stdout",
     "output_type": "stream",
     "text": [
      "[1] 16\n"
     ]
    },
    {
     "name": "stderr",
     "output_type": "stream",
     "text": [
      "Number of CDR3s in: ~/Desktop/H4H/INTERCEPT/NextSeq/remaining_batch_1_cfDNA_8April2021/mixcr/clones/CLONES_TRBCHP_421-01_cfDNA.txt nonproductive removed\n",
      "\n"
     ]
    },
    {
     "name": "stdout",
     "output_type": "stream",
     "text": [
      "[1] 10\n"
     ]
    },
    {
     "name": "stderr",
     "output_type": "stream",
     "text": [
      "Number of CDR3s in: ~/Desktop/H4H/INTERCEPT/NextSeq/remaining_batch_1_cfDNA_8April2021/mixcr/clones/CLONES_TRBCHP_423-01_cfDNA.txt\n",
      "\n"
     ]
    },
    {
     "name": "stdout",
     "output_type": "stream",
     "text": [
      "[1] 2\n"
     ]
    },
    {
     "name": "stderr",
     "output_type": "stream",
     "text": [
      "Number of CDR3s in: ~/Desktop/H4H/INTERCEPT/NextSeq/remaining_batch_1_cfDNA_8April2021/mixcr/clones/CLONES_TRBCHP_423-01_cfDNA.txt nonproductive removed\n",
      "\n"
     ]
    },
    {
     "name": "stdout",
     "output_type": "stream",
     "text": [
      "[1] 1\n"
     ]
    },
    {
     "name": "stderr",
     "output_type": "stream",
     "text": [
      "Number of CDR3s in: ~/Desktop/H4H/INTERCEPT/NextSeq/remaining_batch_2_22April2021/mixcr/clones/CLONES_TRBCHP_324-05_PBMC-DNA.txt\n",
      "\n"
     ]
    },
    {
     "name": "stdout",
     "output_type": "stream",
     "text": [
      "[1] 301\n"
     ]
    },
    {
     "name": "stderr",
     "output_type": "stream",
     "text": [
      "Number of CDR3s in: ~/Desktop/H4H/INTERCEPT/NextSeq/remaining_batch_2_22April2021/mixcr/clones/CLONES_TRBCHP_324-05_PBMC-DNA.txt nonproductive removed\n",
      "\n"
     ]
    },
    {
     "name": "stdout",
     "output_type": "stream",
     "text": [
      "[1] 229\n"
     ]
    },
    {
     "name": "stderr",
     "output_type": "stream",
     "text": [
      "Number of CDR3s in: ~/Desktop/H4H/INTERCEPT/NextSeq/remaining_batch_2_22April2021/mixcr/clones/CLONES_TRBCHP_357-05_PBMC-DNA.txt\n",
      "\n"
     ]
    },
    {
     "name": "stdout",
     "output_type": "stream",
     "text": [
      "[1] 405\n"
     ]
    },
    {
     "name": "stderr",
     "output_type": "stream",
     "text": [
      "Number of CDR3s in: ~/Desktop/H4H/INTERCEPT/NextSeq/remaining_batch_2_22April2021/mixcr/clones/CLONES_TRBCHP_357-05_PBMC-DNA.txt nonproductive removed\n",
      "\n"
     ]
    },
    {
     "name": "stdout",
     "output_type": "stream",
     "text": [
      "[1] 284\n"
     ]
    },
    {
     "name": "stderr",
     "output_type": "stream",
     "text": [
      "Number of CDR3s in: ~/Desktop/H4H/INTERCEPT/NextSeq/remaining_batch_2_22April2021/mixcr/clones/CLONES_TRBCHP_359-03_PBMC-DNA.txt\n",
      "\n"
     ]
    },
    {
     "name": "stdout",
     "output_type": "stream",
     "text": [
      "[1] 2928\n"
     ]
    },
    {
     "name": "stderr",
     "output_type": "stream",
     "text": [
      "Number of CDR3s in: ~/Desktop/H4H/INTERCEPT/NextSeq/remaining_batch_2_22April2021/mixcr/clones/CLONES_TRBCHP_359-03_PBMC-DNA.txt nonproductive removed\n",
      "\n"
     ]
    },
    {
     "name": "stdout",
     "output_type": "stream",
     "text": [
      "[1] 2237\n"
     ]
    },
    {
     "name": "stderr",
     "output_type": "stream",
     "text": [
      "Number of CDR3s in: ~/Desktop/H4H/INTERCEPT/NextSeq/remaining_batch_2_22April2021/mixcr/clones/CLONES_TRBCHP_363-01_PBMC-DNA.txt\n",
      "\n"
     ]
    },
    {
     "name": "stdout",
     "output_type": "stream",
     "text": [
      "[1] 1135\n"
     ]
    },
    {
     "name": "stderr",
     "output_type": "stream",
     "text": [
      "Number of CDR3s in: ~/Desktop/H4H/INTERCEPT/NextSeq/remaining_batch_2_22April2021/mixcr/clones/CLONES_TRBCHP_363-01_PBMC-DNA.txt nonproductive removed\n",
      "\n"
     ]
    },
    {
     "name": "stdout",
     "output_type": "stream",
     "text": [
      "[1] 888\n"
     ]
    },
    {
     "name": "stderr",
     "output_type": "stream",
     "text": [
      "Number of CDR3s in: ~/Desktop/H4H/INTERCEPT/NextSeq/remaining_batch_2_22April2021/mixcr/clones/CLONES_TRBCHP_365-01_PBMC-DNA.txt\n",
      "\n"
     ]
    },
    {
     "name": "stdout",
     "output_type": "stream",
     "text": [
      "[1] 601\n"
     ]
    },
    {
     "name": "stderr",
     "output_type": "stream",
     "text": [
      "Number of CDR3s in: ~/Desktop/H4H/INTERCEPT/NextSeq/remaining_batch_2_22April2021/mixcr/clones/CLONES_TRBCHP_365-01_PBMC-DNA.txt nonproductive removed\n",
      "\n"
     ]
    },
    {
     "name": "stdout",
     "output_type": "stream",
     "text": [
      "[1] 441\n"
     ]
    },
    {
     "name": "stderr",
     "output_type": "stream",
     "text": [
      "Number of CDR3s in: ~/Desktop/H4H/INTERCEPT/NextSeq/remaining_batch_2_22April2021/mixcr/clones/CLONES_TRBCHP_365-04_PBMC-DNA.txt\n",
      "\n"
     ]
    },
    {
     "name": "stdout",
     "output_type": "stream",
     "text": [
      "[1] 557\n"
     ]
    },
    {
     "name": "stderr",
     "output_type": "stream",
     "text": [
      "Number of CDR3s in: ~/Desktop/H4H/INTERCEPT/NextSeq/remaining_batch_2_22April2021/mixcr/clones/CLONES_TRBCHP_365-04_PBMC-DNA.txt nonproductive removed\n",
      "\n"
     ]
    },
    {
     "name": "stdout",
     "output_type": "stream",
     "text": [
      "[1] 417\n"
     ]
    },
    {
     "name": "stderr",
     "output_type": "stream",
     "text": [
      "Number of CDR3s in: ~/Desktop/H4H/INTERCEPT/NextSeq/remaining_batch_2_22April2021/mixcr/clones/CLONES_TRBCHP_369-05_PBMC-DNA.txt\n",
      "\n"
     ]
    },
    {
     "name": "stdout",
     "output_type": "stream",
     "text": [
      "[1] 267\n"
     ]
    },
    {
     "name": "stderr",
     "output_type": "stream",
     "text": [
      "Number of CDR3s in: ~/Desktop/H4H/INTERCEPT/NextSeq/remaining_batch_2_22April2021/mixcr/clones/CLONES_TRBCHP_369-05_PBMC-DNA.txt nonproductive removed\n",
      "\n"
     ]
    },
    {
     "name": "stdout",
     "output_type": "stream",
     "text": [
      "[1] 202\n"
     ]
    },
    {
     "name": "stderr",
     "output_type": "stream",
     "text": [
      "Number of CDR3s in: ~/Desktop/H4H/INTERCEPT/NextSeq/remaining_batch_2_22April2021/mixcr/clones/CLONES_TRBCHP_371-01_PBMC-DNA.txt\n",
      "\n"
     ]
    },
    {
     "name": "stdout",
     "output_type": "stream",
     "text": [
      "[1] 838\n"
     ]
    },
    {
     "name": "stderr",
     "output_type": "stream",
     "text": [
      "Number of CDR3s in: ~/Desktop/H4H/INTERCEPT/NextSeq/remaining_batch_2_22April2021/mixcr/clones/CLONES_TRBCHP_371-01_PBMC-DNA.txt nonproductive removed\n",
      "\n"
     ]
    },
    {
     "name": "stdout",
     "output_type": "stream",
     "text": [
      "[1] 674\n"
     ]
    },
    {
     "name": "stderr",
     "output_type": "stream",
     "text": [
      "Number of CDR3s in: ~/Desktop/H4H/INTERCEPT/NextSeq/remaining_batch_2_22April2021/mixcr/clones/CLONES_TRBCHP_371-04_PBMC-DNA.txt\n",
      "\n"
     ]
    },
    {
     "name": "stdout",
     "output_type": "stream",
     "text": [
      "[1] 1441\n"
     ]
    },
    {
     "name": "stderr",
     "output_type": "stream",
     "text": [
      "Number of CDR3s in: ~/Desktop/H4H/INTERCEPT/NextSeq/remaining_batch_2_22April2021/mixcr/clones/CLONES_TRBCHP_371-04_PBMC-DNA.txt nonproductive removed\n",
      "\n"
     ]
    },
    {
     "name": "stdout",
     "output_type": "stream",
     "text": [
      "[1] 1136\n"
     ]
    },
    {
     "name": "stderr",
     "output_type": "stream",
     "text": [
      "Number of CDR3s in: ~/Desktop/H4H/INTERCEPT/NextSeq/remaining_batch_2_22April2021/mixcr/clones/CLONES_TRBCHP_376-02_PBMC-DNA.txt\n",
      "\n"
     ]
    },
    {
     "name": "stdout",
     "output_type": "stream",
     "text": [
      "[1] 2042\n"
     ]
    },
    {
     "name": "stderr",
     "output_type": "stream",
     "text": [
      "Number of CDR3s in: ~/Desktop/H4H/INTERCEPT/NextSeq/remaining_batch_2_22April2021/mixcr/clones/CLONES_TRBCHP_376-02_PBMC-DNA.txt nonproductive removed\n",
      "\n"
     ]
    },
    {
     "name": "stdout",
     "output_type": "stream",
     "text": [
      "[1] 1570\n"
     ]
    },
    {
     "name": "stderr",
     "output_type": "stream",
     "text": [
      "Number of CDR3s in: ~/Desktop/H4H/INTERCEPT/NextSeq/remaining_batch_2_22April2021/mixcr/clones/CLONES_TRBCHP_377-03_PBMC-DNA.txt\n",
      "\n"
     ]
    },
    {
     "name": "stdout",
     "output_type": "stream",
     "text": [
      "[1] 125\n"
     ]
    },
    {
     "name": "stderr",
     "output_type": "stream",
     "text": [
      "Number of CDR3s in: ~/Desktop/H4H/INTERCEPT/NextSeq/remaining_batch_2_22April2021/mixcr/clones/CLONES_TRBCHP_377-03_PBMC-DNA.txt nonproductive removed\n",
      "\n"
     ]
    },
    {
     "name": "stdout",
     "output_type": "stream",
     "text": [
      "[1] 99\n"
     ]
    },
    {
     "name": "stderr",
     "output_type": "stream",
     "text": [
      "Number of CDR3s in: ~/Desktop/H4H/INTERCEPT/NextSeq/remaining_batch_2_22April2021/mixcr/clones/CLONES_TRBCHP_381-01_PBMC-DNA.txt\n",
      "\n"
     ]
    },
    {
     "name": "stdout",
     "output_type": "stream",
     "text": [
      "[1] 1012\n"
     ]
    },
    {
     "name": "stderr",
     "output_type": "stream",
     "text": [
      "Number of CDR3s in: ~/Desktop/H4H/INTERCEPT/NextSeq/remaining_batch_2_22April2021/mixcr/clones/CLONES_TRBCHP_381-01_PBMC-DNA.txt nonproductive removed\n",
      "\n"
     ]
    },
    {
     "name": "stdout",
     "output_type": "stream",
     "text": [
      "[1] 795\n"
     ]
    },
    {
     "name": "stderr",
     "output_type": "stream",
     "text": [
      "Number of CDR3s in: ~/Desktop/H4H/INTERCEPT/NextSeq/remaining_batch_2_22April2021/mixcr/clones/CLONES_TRBCHP_388-02_PBMC-DNA.txt\n",
      "\n"
     ]
    },
    {
     "name": "stdout",
     "output_type": "stream",
     "text": [
      "[1] 1492\n"
     ]
    },
    {
     "name": "stderr",
     "output_type": "stream",
     "text": [
      "Number of CDR3s in: ~/Desktop/H4H/INTERCEPT/NextSeq/remaining_batch_2_22April2021/mixcr/clones/CLONES_TRBCHP_388-02_PBMC-DNA.txt nonproductive removed\n",
      "\n"
     ]
    },
    {
     "name": "stdout",
     "output_type": "stream",
     "text": [
      "[1] 1202\n"
     ]
    },
    {
     "name": "stderr",
     "output_type": "stream",
     "text": [
      "Number of CDR3s in: ~/Desktop/H4H/INTERCEPT/NextSeq/remaining_batch_2_22April2021/mixcr/clones/CLONES_TRBCHP_391-04_PBMC-DNA.txt\n",
      "\n"
     ]
    },
    {
     "name": "stdout",
     "output_type": "stream",
     "text": [
      "[1] 239\n"
     ]
    },
    {
     "name": "stderr",
     "output_type": "stream",
     "text": [
      "Number of CDR3s in: ~/Desktop/H4H/INTERCEPT/NextSeq/remaining_batch_2_22April2021/mixcr/clones/CLONES_TRBCHP_391-04_PBMC-DNA.txt nonproductive removed\n",
      "\n"
     ]
    },
    {
     "name": "stdout",
     "output_type": "stream",
     "text": [
      "[1] 180\n"
     ]
    },
    {
     "name": "stderr",
     "output_type": "stream",
     "text": [
      "Number of CDR3s in: ~/Desktop/H4H/INTERCEPT/NextSeq/remaining_batch_2_22April2021/mixcr/clones/CLONES_TRBCHP_397-03_PBMC-DNA.txt\n",
      "\n"
     ]
    },
    {
     "name": "stdout",
     "output_type": "stream",
     "text": [
      "[1] 516\n"
     ]
    },
    {
     "name": "stderr",
     "output_type": "stream",
     "text": [
      "Number of CDR3s in: ~/Desktop/H4H/INTERCEPT/NextSeq/remaining_batch_2_22April2021/mixcr/clones/CLONES_TRBCHP_397-03_PBMC-DNA.txt nonproductive removed\n",
      "\n"
     ]
    },
    {
     "name": "stdout",
     "output_type": "stream",
     "text": [
      "[1] 386\n"
     ]
    },
    {
     "name": "stderr",
     "output_type": "stream",
     "text": [
      "Number of CDR3s in: ~/Desktop/H4H/INTERCEPT/NextSeq/remaining_batch_2_22April2021/mixcr/clones/CLONES_TRBCHP_397-04_PBMC-DNA.txt\n",
      "\n"
     ]
    },
    {
     "name": "stdout",
     "output_type": "stream",
     "text": [
      "[1] 375\n"
     ]
    },
    {
     "name": "stderr",
     "output_type": "stream",
     "text": [
      "Number of CDR3s in: ~/Desktop/H4H/INTERCEPT/NextSeq/remaining_batch_2_22April2021/mixcr/clones/CLONES_TRBCHP_397-04_PBMC-DNA.txt nonproductive removed\n",
      "\n"
     ]
    },
    {
     "name": "stdout",
     "output_type": "stream",
     "text": [
      "[1] 237\n"
     ]
    },
    {
     "name": "stderr",
     "output_type": "stream",
     "text": [
      "Number of CDR3s in: ~/Desktop/H4H/INTERCEPT/NextSeq/remaining_batch_2_22April2021/mixcr/clones/CLONES_TRBCHP_399-02_PBMC-DNA.txt\n",
      "\n"
     ]
    },
    {
     "name": "stdout",
     "output_type": "stream",
     "text": [
      "[1] 1370\n"
     ]
    },
    {
     "name": "stderr",
     "output_type": "stream",
     "text": [
      "Number of CDR3s in: ~/Desktop/H4H/INTERCEPT/NextSeq/remaining_batch_2_22April2021/mixcr/clones/CLONES_TRBCHP_399-02_PBMC-DNA.txt nonproductive removed\n",
      "\n"
     ]
    },
    {
     "name": "stdout",
     "output_type": "stream",
     "text": [
      "[1] 1019\n"
     ]
    },
    {
     "name": "stderr",
     "output_type": "stream",
     "text": [
      "Number of CDR3s in: ~/Desktop/H4H/INTERCEPT/NextSeq/remaining_batch_2_cfDNA_15April2021/mixcr/clones/CLONES_TRBCHP_315-05_cfDNA.txt\n",
      "\n"
     ]
    },
    {
     "name": "stdout",
     "output_type": "stream",
     "text": [
      "[1] 2\n"
     ]
    },
    {
     "name": "stderr",
     "output_type": "stream",
     "text": [
      "Number of CDR3s in: ~/Desktop/H4H/INTERCEPT/NextSeq/remaining_batch_2_cfDNA_15April2021/mixcr/clones/CLONES_TRBCHP_315-05_cfDNA.txt nonproductive removed\n",
      "\n"
     ]
    },
    {
     "name": "stdout",
     "output_type": "stream",
     "text": [
      "[1] 1\n"
     ]
    },
    {
     "name": "stderr",
     "output_type": "stream",
     "text": [
      "Number of CDR3s in: ~/Desktop/H4H/INTERCEPT/NextSeq/remaining_batch_2_cfDNA_15April2021/mixcr/clones/CLONES_TRBCHP_338-05-cfDNA.txt\n",
      "\n"
     ]
    },
    {
     "name": "stdout",
     "output_type": "stream",
     "text": [
      "[1] 9\n"
     ]
    },
    {
     "name": "stderr",
     "output_type": "stream",
     "text": [
      "Number of CDR3s in: ~/Desktop/H4H/INTERCEPT/NextSeq/remaining_batch_2_cfDNA_15April2021/mixcr/clones/CLONES_TRBCHP_338-05-cfDNA.txt nonproductive removed\n",
      "\n"
     ]
    },
    {
     "name": "stdout",
     "output_type": "stream",
     "text": [
      "[1] 7\n"
     ]
    },
    {
     "name": "stderr",
     "output_type": "stream",
     "text": [
      "Number of CDR3s in: ~/Desktop/H4H/INTERCEPT/NextSeq/remaining_batch_2_cfDNA_15April2021/mixcr/clones/CLONES_TRBCHP_344-03-cfDNA.txt\n",
      "\n"
     ]
    },
    {
     "name": "stdout",
     "output_type": "stream",
     "text": [
      "[1] 5\n"
     ]
    },
    {
     "name": "stderr",
     "output_type": "stream",
     "text": [
      "Number of CDR3s in: ~/Desktop/H4H/INTERCEPT/NextSeq/remaining_batch_2_cfDNA_15April2021/mixcr/clones/CLONES_TRBCHP_344-03-cfDNA.txt nonproductive removed\n",
      "\n"
     ]
    },
    {
     "name": "stdout",
     "output_type": "stream",
     "text": [
      "[1] 3\n"
     ]
    },
    {
     "name": "stderr",
     "output_type": "stream",
     "text": [
      "Number of CDR3s in: ~/Desktop/H4H/INTERCEPT/NextSeq/remaining_batch_2_cfDNA_15April2021/mixcr/clones/CLONES_TRBCHP_345-04_cfDNA.txt\n",
      "\n"
     ]
    },
    {
     "name": "stdout",
     "output_type": "stream",
     "text": [
      "[1] 46\n"
     ]
    },
    {
     "name": "stderr",
     "output_type": "stream",
     "text": [
      "Number of CDR3s in: ~/Desktop/H4H/INTERCEPT/NextSeq/remaining_batch_2_cfDNA_15April2021/mixcr/clones/CLONES_TRBCHP_345-04_cfDNA.txt nonproductive removed\n",
      "\n"
     ]
    },
    {
     "name": "stdout",
     "output_type": "stream",
     "text": [
      "[1] 37\n"
     ]
    },
    {
     "name": "stderr",
     "output_type": "stream",
     "text": [
      "Number of CDR3s in: ~/Desktop/H4H/INTERCEPT/NextSeq/remaining_batch_2_cfDNA_15April2021/mixcr/clones/CLONES_TRBCHP_347-05_cfDNA.txt\n",
      "\n"
     ]
    },
    {
     "name": "stdout",
     "output_type": "stream",
     "text": [
      "[1] 14\n"
     ]
    },
    {
     "name": "stderr",
     "output_type": "stream",
     "text": [
      "Number of CDR3s in: ~/Desktop/H4H/INTERCEPT/NextSeq/remaining_batch_2_cfDNA_15April2021/mixcr/clones/CLONES_TRBCHP_347-05_cfDNA.txt nonproductive removed\n",
      "\n"
     ]
    },
    {
     "name": "stdout",
     "output_type": "stream",
     "text": [
      "[1] 11\n"
     ]
    },
    {
     "name": "stderr",
     "output_type": "stream",
     "text": [
      "Number of CDR3s in: ~/Desktop/H4H/INTERCEPT/NextSeq/remaining_batch_2_cfDNA_15April2021/mixcr/clones/CLONES_TRBCHP_348-04-cfDNA.txt\n",
      "\n"
     ]
    },
    {
     "name": "stdout",
     "output_type": "stream",
     "text": [
      "[1] 12\n"
     ]
    },
    {
     "name": "stderr",
     "output_type": "stream",
     "text": [
      "Number of CDR3s in: ~/Desktop/H4H/INTERCEPT/NextSeq/remaining_batch_2_cfDNA_15April2021/mixcr/clones/CLONES_TRBCHP_348-04-cfDNA.txt nonproductive removed\n",
      "\n"
     ]
    },
    {
     "name": "stdout",
     "output_type": "stream",
     "text": [
      "[1] 11\n"
     ]
    },
    {
     "name": "stderr",
     "output_type": "stream",
     "text": [
      "Number of CDR3s in: ~/Desktop/H4H/INTERCEPT/NextSeq/remaining_batch_2_cfDNA_15April2021/mixcr/clones/CLONES_TRBCHP_360-03_cfDNA.txt\n",
      "\n"
     ]
    },
    {
     "name": "stdout",
     "output_type": "stream",
     "text": [
      "[1] 7\n"
     ]
    },
    {
     "name": "stderr",
     "output_type": "stream",
     "text": [
      "Number of CDR3s in: ~/Desktop/H4H/INTERCEPT/NextSeq/remaining_batch_2_cfDNA_15April2021/mixcr/clones/CLONES_TRBCHP_360-03_cfDNA.txt nonproductive removed\n",
      "\n"
     ]
    },
    {
     "name": "stdout",
     "output_type": "stream",
     "text": [
      "[1] 6\n"
     ]
    },
    {
     "name": "stderr",
     "output_type": "stream",
     "text": [
      "Number of CDR3s in: ~/Desktop/H4H/INTERCEPT/NextSeq/remaining_batch_2_cfDNA_15April2021/mixcr/clones/CLONES_TRBCHP_362-02_cfDNA.txt\n",
      "\n"
     ]
    },
    {
     "name": "stdout",
     "output_type": "stream",
     "text": [
      "[1] 17\n"
     ]
    },
    {
     "name": "stderr",
     "output_type": "stream",
     "text": [
      "Number of CDR3s in: ~/Desktop/H4H/INTERCEPT/NextSeq/remaining_batch_2_cfDNA_15April2021/mixcr/clones/CLONES_TRBCHP_362-02_cfDNA.txt nonproductive removed\n",
      "\n"
     ]
    },
    {
     "name": "stdout",
     "output_type": "stream",
     "text": [
      "[1] 12\n"
     ]
    },
    {
     "name": "stderr",
     "output_type": "stream",
     "text": [
      "Number of CDR3s in: ~/Desktop/H4H/INTERCEPT/NextSeq/remaining_batch_2_cfDNA_15April2021/mixcr/clones/CLONES_TRBCHP_364-04-cfDNA.txt\n",
      "\n"
     ]
    },
    {
     "name": "stdout",
     "output_type": "stream",
     "text": [
      "[1] 7\n"
     ]
    },
    {
     "name": "stderr",
     "output_type": "stream",
     "text": [
      "Number of CDR3s in: ~/Desktop/H4H/INTERCEPT/NextSeq/remaining_batch_2_cfDNA_15April2021/mixcr/clones/CLONES_TRBCHP_364-04-cfDNA.txt nonproductive removed\n",
      "\n"
     ]
    },
    {
     "name": "stdout",
     "output_type": "stream",
     "text": [
      "[1] 6\n"
     ]
    },
    {
     "name": "stderr",
     "output_type": "stream",
     "text": [
      "Number of CDR3s in: ~/Desktop/H4H/INTERCEPT/NextSeq/remaining_batch_2_cfDNA_15April2021/mixcr/clones/CLONES_TRBCHP_369-03_cfDNA.txt\n",
      "\n"
     ]
    },
    {
     "name": "stdout",
     "output_type": "stream",
     "text": [
      "[1] 0\n"
     ]
    },
    {
     "name": "stderr",
     "output_type": "stream",
     "text": [
      "Number of CDR3s in: ~/Desktop/H4H/INTERCEPT/NextSeq/remaining_batch_2_cfDNA_15April2021/mixcr/clones/CLONES_TRBCHP_369-03_cfDNA.txt nonproductive removed\n",
      "\n"
     ]
    },
    {
     "name": "stdout",
     "output_type": "stream",
     "text": [
      "[1] 0\n"
     ]
    },
    {
     "name": "stderr",
     "output_type": "stream",
     "text": [
      "Number of CDR3s in: ~/Desktop/H4H/INTERCEPT/NextSeq/remaining_batch_2_cfDNA_15April2021/mixcr/clones/CLONES_TRBCHP_370-05-cfDNA.txt\n",
      "\n"
     ]
    },
    {
     "name": "stdout",
     "output_type": "stream",
     "text": [
      "[1] 7\n"
     ]
    },
    {
     "name": "stderr",
     "output_type": "stream",
     "text": [
      "Number of CDR3s in: ~/Desktop/H4H/INTERCEPT/NextSeq/remaining_batch_2_cfDNA_15April2021/mixcr/clones/CLONES_TRBCHP_370-05-cfDNA.txt nonproductive removed\n",
      "\n"
     ]
    },
    {
     "name": "stdout",
     "output_type": "stream",
     "text": [
      "[1] 5\n"
     ]
    },
    {
     "name": "stderr",
     "output_type": "stream",
     "text": [
      "Number of CDR3s in: ~/Desktop/H4H/INTERCEPT/NextSeq/remaining_batch_2_cfDNA_15April2021/mixcr/clones/CLONES_TRBCHP_376-04_cfDNA.txt\n",
      "\n"
     ]
    },
    {
     "name": "stdout",
     "output_type": "stream",
     "text": [
      "[1] 3\n"
     ]
    },
    {
     "name": "stderr",
     "output_type": "stream",
     "text": [
      "Number of CDR3s in: ~/Desktop/H4H/INTERCEPT/NextSeq/remaining_batch_2_cfDNA_15April2021/mixcr/clones/CLONES_TRBCHP_376-04_cfDNA.txt nonproductive removed\n",
      "\n"
     ]
    },
    {
     "name": "stdout",
     "output_type": "stream",
     "text": [
      "[1] 1\n"
     ]
    },
    {
     "name": "stderr",
     "output_type": "stream",
     "text": [
      "Number of CDR3s in: ~/Desktop/H4H/INTERCEPT/NextSeq/remaining_batch_2_cfDNA_15April2021/mixcr/clones/CLONES_TRBCHP_387-02_cfDNA.txt\n",
      "\n"
     ]
    },
    {
     "name": "stdout",
     "output_type": "stream",
     "text": [
      "[1] 5\n"
     ]
    },
    {
     "name": "stderr",
     "output_type": "stream",
     "text": [
      "Number of CDR3s in: ~/Desktop/H4H/INTERCEPT/NextSeq/remaining_batch_2_cfDNA_15April2021/mixcr/clones/CLONES_TRBCHP_387-02_cfDNA.txt nonproductive removed\n",
      "\n"
     ]
    },
    {
     "name": "stdout",
     "output_type": "stream",
     "text": [
      "[1] 4\n"
     ]
    },
    {
     "name": "stderr",
     "output_type": "stream",
     "text": [
      "Number of CDR3s in: ~/Desktop/H4H/INTERCEPT/NextSeq/remaining_batch_2_cfDNA_15April2021/mixcr/clones/CLONES_TRBCHP_389-05-cfDNA.txt\n",
      "\n"
     ]
    },
    {
     "name": "stdout",
     "output_type": "stream",
     "text": [
      "[1] 4\n"
     ]
    },
    {
     "name": "stderr",
     "output_type": "stream",
     "text": [
      "Number of CDR3s in: ~/Desktop/H4H/INTERCEPT/NextSeq/remaining_batch_2_cfDNA_15April2021/mixcr/clones/CLONES_TRBCHP_389-05-cfDNA.txt nonproductive removed\n",
      "\n"
     ]
    },
    {
     "name": "stdout",
     "output_type": "stream",
     "text": [
      "[1] 1\n"
     ]
    },
    {
     "name": "stderr",
     "output_type": "stream",
     "text": [
      "Number of CDR3s in: ~/Desktop/H4H/INTERCEPT/NextSeq/remaining_batch_2_cfDNA_15April2021/mixcr/clones/CLONES_TRBCHP_393-04_cfDNA.txt\n",
      "\n"
     ]
    },
    {
     "name": "stdout",
     "output_type": "stream",
     "text": [
      "[1] 2\n"
     ]
    },
    {
     "name": "stderr",
     "output_type": "stream",
     "text": [
      "Number of CDR3s in: ~/Desktop/H4H/INTERCEPT/NextSeq/remaining_batch_2_cfDNA_15April2021/mixcr/clones/CLONES_TRBCHP_393-04_cfDNA.txt nonproductive removed\n",
      "\n"
     ]
    },
    {
     "name": "stdout",
     "output_type": "stream",
     "text": [
      "[1] 1\n"
     ]
    },
    {
     "name": "stderr",
     "output_type": "stream",
     "text": [
      "Number of CDR3s in: ~/Desktop/H4H/INTERCEPT/NextSeq/remaining_batch_2_cfDNA_15April2021/mixcr/clones/CLONES_TRBCHP_401-03_cfDNA.txt\n",
      "\n"
     ]
    },
    {
     "name": "stdout",
     "output_type": "stream",
     "text": [
      "[1] 1\n"
     ]
    },
    {
     "name": "stderr",
     "output_type": "stream",
     "text": [
      "Number of CDR3s in: ~/Desktop/H4H/INTERCEPT/NextSeq/remaining_batch_2_cfDNA_15April2021/mixcr/clones/CLONES_TRBCHP_401-03_cfDNA.txt nonproductive removed\n",
      "\n"
     ]
    },
    {
     "name": "stdout",
     "output_type": "stream",
     "text": [
      "[1] 0\n"
     ]
    },
    {
     "name": "stderr",
     "output_type": "stream",
     "text": [
      "Number of CDR3s in: ~/Desktop/H4H/INTERCEPT/NextSeq/remaining_batch_3_4May2021/mixcr/clones/CLONES_TRBCHP_336-05_PBMC-DNA.txt\n",
      "\n"
     ]
    },
    {
     "name": "stdout",
     "output_type": "stream",
     "text": [
      "[1] 532\n"
     ]
    },
    {
     "name": "stderr",
     "output_type": "stream",
     "text": [
      "Number of CDR3s in: ~/Desktop/H4H/INTERCEPT/NextSeq/remaining_batch_3_4May2021/mixcr/clones/CLONES_TRBCHP_336-05_PBMC-DNA.txt nonproductive removed\n",
      "\n"
     ]
    },
    {
     "name": "stdout",
     "output_type": "stream",
     "text": [
      "[1] 415\n"
     ]
    },
    {
     "name": "stderr",
     "output_type": "stream",
     "text": [
      "Number of CDR3s in: ~/Desktop/H4H/INTERCEPT/NextSeq/remaining_batch_3_4May2021/mixcr/clones/CLONES_TRBCHP_360-04_PBMC-DNA.txt\n",
      "\n"
     ]
    },
    {
     "name": "stdout",
     "output_type": "stream",
     "text": [
      "[1] 594\n"
     ]
    },
    {
     "name": "stderr",
     "output_type": "stream",
     "text": [
      "Number of CDR3s in: ~/Desktop/H4H/INTERCEPT/NextSeq/remaining_batch_3_4May2021/mixcr/clones/CLONES_TRBCHP_360-04_PBMC-DNA.txt nonproductive removed\n",
      "\n"
     ]
    },
    {
     "name": "stdout",
     "output_type": "stream",
     "text": [
      "[1] 419\n"
     ]
    },
    {
     "name": "stderr",
     "output_type": "stream",
     "text": [
      "Number of CDR3s in: ~/Desktop/H4H/INTERCEPT/NextSeq/remaining_batch_3_4May2021/mixcr/clones/CLONES_TRBCHP_398-05_PBMC-DNA.txt\n",
      "\n"
     ]
    },
    {
     "name": "stdout",
     "output_type": "stream",
     "text": [
      "[1] 601\n"
     ]
    },
    {
     "name": "stderr",
     "output_type": "stream",
     "text": [
      "Number of CDR3s in: ~/Desktop/H4H/INTERCEPT/NextSeq/remaining_batch_3_4May2021/mixcr/clones/CLONES_TRBCHP_398-05_PBMC-DNA.txt nonproductive removed\n",
      "\n"
     ]
    },
    {
     "name": "stdout",
     "output_type": "stream",
     "text": [
      "[1] 453\n"
     ]
    },
    {
     "name": "stderr",
     "output_type": "stream",
     "text": [
      "Number of CDR3s in: ~/Desktop/H4H/INTERCEPT/NextSeq/remaining_batch_3_4May2021/mixcr/clones/CLONES_TRBCHP_403-03_PBMC-DNA.txt\n",
      "\n"
     ]
    },
    {
     "name": "stdout",
     "output_type": "stream",
     "text": [
      "[1] 40\n"
     ]
    },
    {
     "name": "stderr",
     "output_type": "stream",
     "text": [
      "Number of CDR3s in: ~/Desktop/H4H/INTERCEPT/NextSeq/remaining_batch_3_4May2021/mixcr/clones/CLONES_TRBCHP_403-03_PBMC-DNA.txt nonproductive removed\n",
      "\n"
     ]
    },
    {
     "name": "stdout",
     "output_type": "stream",
     "text": [
      "[1] 31\n"
     ]
    },
    {
     "name": "stderr",
     "output_type": "stream",
     "text": [
      "Number of CDR3s in: ~/Desktop/H4H/INTERCEPT/NextSeq/remaining_batch_3_4May2021/mixcr/clones/CLONES_TRBCHP_405-05_PBMC-DNA.txt\n",
      "\n"
     ]
    },
    {
     "name": "stdout",
     "output_type": "stream",
     "text": [
      "[1] 234\n"
     ]
    },
    {
     "name": "stderr",
     "output_type": "stream",
     "text": [
      "Number of CDR3s in: ~/Desktop/H4H/INTERCEPT/NextSeq/remaining_batch_3_4May2021/mixcr/clones/CLONES_TRBCHP_405-05_PBMC-DNA.txt nonproductive removed\n",
      "\n"
     ]
    },
    {
     "name": "stdout",
     "output_type": "stream",
     "text": [
      "[1] 164\n"
     ]
    },
    {
     "name": "stderr",
     "output_type": "stream",
     "text": [
      "Number of CDR3s in: ~/Desktop/H4H/INTERCEPT/NextSeq/remaining_batch_3_4May2021/mixcr/clones/CLONES_TRBCHP_406-03_PBMC-DNA.txt\n",
      "\n"
     ]
    },
    {
     "name": "stdout",
     "output_type": "stream",
     "text": [
      "[1] 107\n"
     ]
    },
    {
     "name": "stderr",
     "output_type": "stream",
     "text": [
      "Number of CDR3s in: ~/Desktop/H4H/INTERCEPT/NextSeq/remaining_batch_3_4May2021/mixcr/clones/CLONES_TRBCHP_406-03_PBMC-DNA.txt nonproductive removed\n",
      "\n"
     ]
    },
    {
     "name": "stdout",
     "output_type": "stream",
     "text": [
      "[1] 68\n"
     ]
    },
    {
     "name": "stderr",
     "output_type": "stream",
     "text": [
      "Number of CDR3s in: ~/Desktop/H4H/INTERCEPT/NextSeq/remaining_batch_3_4May2021/mixcr/clones/CLONES_TRBCHP_413-02_PBMC-DNA.txt\n",
      "\n"
     ]
    },
    {
     "name": "stdout",
     "output_type": "stream",
     "text": [
      "[1] 373\n"
     ]
    },
    {
     "name": "stderr",
     "output_type": "stream",
     "text": [
      "Number of CDR3s in: ~/Desktop/H4H/INTERCEPT/NextSeq/remaining_batch_3_4May2021/mixcr/clones/CLONES_TRBCHP_413-02_PBMC-DNA.txt nonproductive removed\n",
      "\n"
     ]
    },
    {
     "name": "stdout",
     "output_type": "stream",
     "text": [
      "[1] 263\n"
     ]
    },
    {
     "name": "stderr",
     "output_type": "stream",
     "text": [
      "Number of CDR3s in: ~/Desktop/H4H/INTERCEPT/NextSeq/remaining_batch_3_4May2021/mixcr/clones/CLONES_TRBCHP_414-01_PBMC-DNA.txt\n",
      "\n"
     ]
    },
    {
     "name": "stdout",
     "output_type": "stream",
     "text": [
      "[1] 23\n"
     ]
    },
    {
     "name": "stderr",
     "output_type": "stream",
     "text": [
      "Number of CDR3s in: ~/Desktop/H4H/INTERCEPT/NextSeq/remaining_batch_3_4May2021/mixcr/clones/CLONES_TRBCHP_414-01_PBMC-DNA.txt nonproductive removed\n",
      "\n"
     ]
    },
    {
     "name": "stdout",
     "output_type": "stream",
     "text": [
      "[1] 13\n"
     ]
    },
    {
     "name": "stderr",
     "output_type": "stream",
     "text": [
      "Number of CDR3s in: ~/Desktop/H4H/INTERCEPT/NextSeq/remaining_batch_3_4May2021/mixcr/clones/CLONES_TRBCHP_414-03_PBMC-DNA.txt\n",
      "\n"
     ]
    },
    {
     "name": "stdout",
     "output_type": "stream",
     "text": [
      "[1] 663\n"
     ]
    },
    {
     "name": "stderr",
     "output_type": "stream",
     "text": [
      "Number of CDR3s in: ~/Desktop/H4H/INTERCEPT/NextSeq/remaining_batch_3_4May2021/mixcr/clones/CLONES_TRBCHP_414-03_PBMC-DNA.txt nonproductive removed\n",
      "\n"
     ]
    },
    {
     "name": "stdout",
     "output_type": "stream",
     "text": [
      "[1] 491\n"
     ]
    },
    {
     "name": "stderr",
     "output_type": "stream",
     "text": [
      "Number of CDR3s in: ~/Desktop/H4H/INTERCEPT/NextSeq/remaining_batch_3_4May2021/mixcr/clones/CLONES_TRBCHP_415-02_PBMC-DNA.txt\n",
      "\n"
     ]
    },
    {
     "name": "stdout",
     "output_type": "stream",
     "text": [
      "[1] 117\n"
     ]
    },
    {
     "name": "stderr",
     "output_type": "stream",
     "text": [
      "Number of CDR3s in: ~/Desktop/H4H/INTERCEPT/NextSeq/remaining_batch_3_4May2021/mixcr/clones/CLONES_TRBCHP_415-02_PBMC-DNA.txt nonproductive removed\n",
      "\n"
     ]
    },
    {
     "name": "stdout",
     "output_type": "stream",
     "text": [
      "[1] 82\n"
     ]
    },
    {
     "name": "stderr",
     "output_type": "stream",
     "text": [
      "Number of CDR3s in: ~/Desktop/H4H/INTERCEPT/NextSeq/remaining_batch_3_4May2021/mixcr/clones/CLONES_TRBCHP_415-03_PBMC-DNA.txt\n",
      "\n"
     ]
    },
    {
     "name": "stdout",
     "output_type": "stream",
     "text": [
      "[1] 19\n"
     ]
    },
    {
     "name": "stderr",
     "output_type": "stream",
     "text": [
      "Number of CDR3s in: ~/Desktop/H4H/INTERCEPT/NextSeq/remaining_batch_3_4May2021/mixcr/clones/CLONES_TRBCHP_415-03_PBMC-DNA.txt nonproductive removed\n",
      "\n"
     ]
    },
    {
     "name": "stdout",
     "output_type": "stream",
     "text": [
      "[1] 13\n"
     ]
    },
    {
     "name": "stderr",
     "output_type": "stream",
     "text": [
      "Number of CDR3s in: ~/Desktop/H4H/INTERCEPT/NextSeq/remaining_batch_3_4May2021/mixcr/clones/CLONES_TRBCHP_418-02_PBMC-DNA.txt\n",
      "\n"
     ]
    },
    {
     "name": "stdout",
     "output_type": "stream",
     "text": [
      "[1] 108\n"
     ]
    },
    {
     "name": "stderr",
     "output_type": "stream",
     "text": [
      "Number of CDR3s in: ~/Desktop/H4H/INTERCEPT/NextSeq/remaining_batch_3_4May2021/mixcr/clones/CLONES_TRBCHP_418-02_PBMC-DNA.txt nonproductive removed\n",
      "\n"
     ]
    },
    {
     "name": "stdout",
     "output_type": "stream",
     "text": [
      "[1] 82\n"
     ]
    },
    {
     "name": "stderr",
     "output_type": "stream",
     "text": [
      "Number of CDR3s in: ~/Desktop/H4H/INTERCEPT/NextSeq/remaining_batch_3_4May2021/mixcr/clones/CLONES_TRBCHP_419-02_PBMC-DNA.txt\n",
      "\n"
     ]
    },
    {
     "name": "stdout",
     "output_type": "stream",
     "text": [
      "[1] 212\n"
     ]
    },
    {
     "name": "stderr",
     "output_type": "stream",
     "text": [
      "Number of CDR3s in: ~/Desktop/H4H/INTERCEPT/NextSeq/remaining_batch_3_4May2021/mixcr/clones/CLONES_TRBCHP_419-02_PBMC-DNA.txt nonproductive removed\n",
      "\n"
     ]
    },
    {
     "name": "stdout",
     "output_type": "stream",
     "text": [
      "[1] 161\n"
     ]
    },
    {
     "name": "stderr",
     "output_type": "stream",
     "text": [
      "Number of CDR3s in: ~/Desktop/H4H/INTERCEPT/NextSeq/remaining_batch_3_4May2021/mixcr/clones/CLONES_TRBCHP_420-01_PBMC-DNA.txt\n",
      "\n"
     ]
    },
    {
     "name": "stdout",
     "output_type": "stream",
     "text": [
      "[1] 842\n"
     ]
    },
    {
     "name": "stderr",
     "output_type": "stream",
     "text": [
      "Number of CDR3s in: ~/Desktop/H4H/INTERCEPT/NextSeq/remaining_batch_3_4May2021/mixcr/clones/CLONES_TRBCHP_420-01_PBMC-DNA.txt nonproductive removed\n",
      "\n"
     ]
    },
    {
     "name": "stdout",
     "output_type": "stream",
     "text": [
      "[1] 596\n"
     ]
    },
    {
     "name": "stderr",
     "output_type": "stream",
     "text": [
      "Number of CDR3s in: ~/Desktop/H4H/INTERCEPT/NextSeq/remaining_batch_3_cfDNA_15April2021/mixcr/clones/CLONES_TRBCHP_343-05-cfDNA.txt\n",
      "\n"
     ]
    },
    {
     "name": "stdout",
     "output_type": "stream",
     "text": [
      "[1] 6\n"
     ]
    },
    {
     "name": "stderr",
     "output_type": "stream",
     "text": [
      "Number of CDR3s in: ~/Desktop/H4H/INTERCEPT/NextSeq/remaining_batch_3_cfDNA_15April2021/mixcr/clones/CLONES_TRBCHP_343-05-cfDNA.txt nonproductive removed\n",
      "\n"
     ]
    },
    {
     "name": "stdout",
     "output_type": "stream",
     "text": [
      "[1] 2\n"
     ]
    },
    {
     "name": "stderr",
     "output_type": "stream",
     "text": [
      "Number of CDR3s in: ~/Desktop/H4H/INTERCEPT/NextSeq/remaining_batch_3_cfDNA_15April2021/mixcr/clones/CLONES_TRBCHP_348-02-cfDNA.txt\n",
      "\n"
     ]
    },
    {
     "name": "stdout",
     "output_type": "stream",
     "text": [
      "[1] 9\n"
     ]
    },
    {
     "name": "stderr",
     "output_type": "stream",
     "text": [
      "Number of CDR3s in: ~/Desktop/H4H/INTERCEPT/NextSeq/remaining_batch_3_cfDNA_15April2021/mixcr/clones/CLONES_TRBCHP_348-02-cfDNA.txt nonproductive removed\n",
      "\n"
     ]
    },
    {
     "name": "stdout",
     "output_type": "stream",
     "text": [
      "[1] 6\n"
     ]
    },
    {
     "name": "stderr",
     "output_type": "stream",
     "text": [
      "Number of CDR3s in: ~/Desktop/H4H/INTERCEPT/NextSeq/remaining_batch_3_cfDNA_15April2021/mixcr/clones/CLONES_TRBCHP_373-03_cfDNA.txt\n",
      "\n"
     ]
    },
    {
     "name": "stdout",
     "output_type": "stream",
     "text": [
      "[1] 0\n"
     ]
    },
    {
     "name": "stderr",
     "output_type": "stream",
     "text": [
      "Number of CDR3s in: ~/Desktop/H4H/INTERCEPT/NextSeq/remaining_batch_3_cfDNA_15April2021/mixcr/clones/CLONES_TRBCHP_373-03_cfDNA.txt nonproductive removed\n",
      "\n"
     ]
    },
    {
     "name": "stdout",
     "output_type": "stream",
     "text": [
      "[1] 0\n"
     ]
    },
    {
     "name": "stderr",
     "output_type": "stream",
     "text": [
      "Number of CDR3s in: ~/Desktop/H4H/INTERCEPT/NextSeq/remaining_batch_3_cfDNA_15April2021/mixcr/clones/CLONES_TRBCHP_380-04_cfDNA.txt\n",
      "\n"
     ]
    },
    {
     "name": "stdout",
     "output_type": "stream",
     "text": [
      "[1] 2\n"
     ]
    },
    {
     "name": "stderr",
     "output_type": "stream",
     "text": [
      "Number of CDR3s in: ~/Desktop/H4H/INTERCEPT/NextSeq/remaining_batch_3_cfDNA_15April2021/mixcr/clones/CLONES_TRBCHP_380-04_cfDNA.txt nonproductive removed\n",
      "\n"
     ]
    },
    {
     "name": "stdout",
     "output_type": "stream",
     "text": [
      "[1] 2\n"
     ]
    },
    {
     "name": "stderr",
     "output_type": "stream",
     "text": [
      "Number of CDR3s in: ~/Desktop/H4H/INTERCEPT/NextSeq/remaining_batch_3_cfDNA_15April2021/mixcr/clones/CLONES_TRBCHP_382-04_cfDNA.txt\n",
      "\n"
     ]
    },
    {
     "name": "stdout",
     "output_type": "stream",
     "text": [
      "[1] 10\n"
     ]
    },
    {
     "name": "stderr",
     "output_type": "stream",
     "text": [
      "Number of CDR3s in: ~/Desktop/H4H/INTERCEPT/NextSeq/remaining_batch_3_cfDNA_15April2021/mixcr/clones/CLONES_TRBCHP_382-04_cfDNA.txt nonproductive removed\n",
      "\n"
     ]
    },
    {
     "name": "stdout",
     "output_type": "stream",
     "text": [
      "[1] 8\n"
     ]
    },
    {
     "name": "stderr",
     "output_type": "stream",
     "text": [
      "Number of CDR3s in: ~/Desktop/H4H/INTERCEPT/NextSeq/remaining_batch_3_cfDNA_15April2021/mixcr/clones/CLONES_TRBCHP_386-03_cfDNA.txt\n",
      "\n"
     ]
    },
    {
     "name": "stdout",
     "output_type": "stream",
     "text": [
      "[1] 5\n"
     ]
    },
    {
     "name": "stderr",
     "output_type": "stream",
     "text": [
      "Number of CDR3s in: ~/Desktop/H4H/INTERCEPT/NextSeq/remaining_batch_3_cfDNA_15April2021/mixcr/clones/CLONES_TRBCHP_386-03_cfDNA.txt nonproductive removed\n",
      "\n"
     ]
    },
    {
     "name": "stdout",
     "output_type": "stream",
     "text": [
      "[1] 4\n"
     ]
    },
    {
     "name": "stderr",
     "output_type": "stream",
     "text": [
      "Number of CDR3s in: ~/Desktop/H4H/INTERCEPT/NextSeq/remaining_batch_3_cfDNA_15April2021/mixcr/clones/CLONES_TRBCHP_386-04_cfDNA.txt\n",
      "\n"
     ]
    },
    {
     "name": "stdout",
     "output_type": "stream",
     "text": [
      "[1] 1\n"
     ]
    },
    {
     "name": "stderr",
     "output_type": "stream",
     "text": [
      "Number of CDR3s in: ~/Desktop/H4H/INTERCEPT/NextSeq/remaining_batch_3_cfDNA_15April2021/mixcr/clones/CLONES_TRBCHP_386-04_cfDNA.txt nonproductive removed\n",
      "\n"
     ]
    },
    {
     "name": "stdout",
     "output_type": "stream",
     "text": [
      "[1] 1\n"
     ]
    },
    {
     "name": "stderr",
     "output_type": "stream",
     "text": [
      "Number of CDR3s in: ~/Desktop/H4H/INTERCEPT/NextSeq/remaining_batch_3_cfDNA_15April2021/mixcr/clones/CLONES_TRBCHP_397-05_cfDNA.txt\n",
      "\n"
     ]
    },
    {
     "name": "stdout",
     "output_type": "stream",
     "text": [
      "[1] 18\n"
     ]
    },
    {
     "name": "stderr",
     "output_type": "stream",
     "text": [
      "Number of CDR3s in: ~/Desktop/H4H/INTERCEPT/NextSeq/remaining_batch_3_cfDNA_15April2021/mixcr/clones/CLONES_TRBCHP_397-05_cfDNA.txt nonproductive removed\n",
      "\n"
     ]
    },
    {
     "name": "stdout",
     "output_type": "stream",
     "text": [
      "[1] 15\n"
     ]
    },
    {
     "name": "stderr",
     "output_type": "stream",
     "text": [
      "Number of CDR3s in: ~/Desktop/H4H/INTERCEPT/NextSeq/remaining_batch_3_cfDNA_15April2021/mixcr/clones/CLONES_TRBCHP_400-03_cfDNA.txt\n",
      "\n"
     ]
    },
    {
     "name": "stdout",
     "output_type": "stream",
     "text": [
      "[1] 1\n"
     ]
    },
    {
     "name": "stderr",
     "output_type": "stream",
     "text": [
      "Number of CDR3s in: ~/Desktop/H4H/INTERCEPT/NextSeq/remaining_batch_3_cfDNA_15April2021/mixcr/clones/CLONES_TRBCHP_400-03_cfDNA.txt nonproductive removed\n",
      "\n"
     ]
    },
    {
     "name": "stdout",
     "output_type": "stream",
     "text": [
      "[1] 1\n"
     ]
    },
    {
     "name": "stderr",
     "output_type": "stream",
     "text": [
      "Number of CDR3s in: ~/Desktop/H4H/INTERCEPT/NextSeq/remaining_batch_3_cfDNA_15April2021/mixcr/clones/CLONES_TRBCHP_404-04_cfDNA.txt\n",
      "\n"
     ]
    },
    {
     "name": "stdout",
     "output_type": "stream",
     "text": [
      "[1] 1\n"
     ]
    },
    {
     "name": "stderr",
     "output_type": "stream",
     "text": [
      "Number of CDR3s in: ~/Desktop/H4H/INTERCEPT/NextSeq/remaining_batch_3_cfDNA_15April2021/mixcr/clones/CLONES_TRBCHP_404-04_cfDNA.txt nonproductive removed\n",
      "\n"
     ]
    },
    {
     "name": "stdout",
     "output_type": "stream",
     "text": [
      "[1] 1\n"
     ]
    },
    {
     "name": "stderr",
     "output_type": "stream",
     "text": [
      "Number of CDR3s in: ~/Desktop/H4H/INTERCEPT/NextSeq/remaining_batch_3_cfDNA_15April2021/mixcr/clones/CLONES_TRBCHP_407-01_cfDNA.txt\n",
      "\n"
     ]
    },
    {
     "name": "stdout",
     "output_type": "stream",
     "text": [
      "[1] 7\n"
     ]
    },
    {
     "name": "stderr",
     "output_type": "stream",
     "text": [
      "Number of CDR3s in: ~/Desktop/H4H/INTERCEPT/NextSeq/remaining_batch_3_cfDNA_15April2021/mixcr/clones/CLONES_TRBCHP_407-01_cfDNA.txt nonproductive removed\n",
      "\n"
     ]
    },
    {
     "name": "stdout",
     "output_type": "stream",
     "text": [
      "[1] 6\n"
     ]
    },
    {
     "name": "stderr",
     "output_type": "stream",
     "text": [
      "Number of CDR3s in: ~/Desktop/H4H/INTERCEPT/NextSeq/remaining_batch_3_cfDNA_15April2021/mixcr/clones/CLONES_TRBCHP_407-04_cfDNA.txt\n",
      "\n"
     ]
    },
    {
     "name": "stdout",
     "output_type": "stream",
     "text": [
      "[1] 4\n"
     ]
    },
    {
     "name": "stderr",
     "output_type": "stream",
     "text": [
      "Number of CDR3s in: ~/Desktop/H4H/INTERCEPT/NextSeq/remaining_batch_3_cfDNA_15April2021/mixcr/clones/CLONES_TRBCHP_407-04_cfDNA.txt nonproductive removed\n",
      "\n"
     ]
    },
    {
     "name": "stdout",
     "output_type": "stream",
     "text": [
      "[1] 1\n"
     ]
    },
    {
     "name": "stderr",
     "output_type": "stream",
     "text": [
      "Number of CDR3s in: ~/Desktop/H4H/INTERCEPT/NextSeq/remaining_batch_3_cfDNA_15April2021/mixcr/clones/CLONES_TRBCHP_414-02_cfDNA.txt\n",
      "\n"
     ]
    },
    {
     "name": "stdout",
     "output_type": "stream",
     "text": [
      "[1] 6\n"
     ]
    },
    {
     "name": "stderr",
     "output_type": "stream",
     "text": [
      "Number of CDR3s in: ~/Desktop/H4H/INTERCEPT/NextSeq/remaining_batch_3_cfDNA_15April2021/mixcr/clones/CLONES_TRBCHP_414-02_cfDNA.txt nonproductive removed\n",
      "\n"
     ]
    },
    {
     "name": "stdout",
     "output_type": "stream",
     "text": [
      "[1] 5\n"
     ]
    },
    {
     "name": "stderr",
     "output_type": "stream",
     "text": [
      "Number of CDR3s in: ~/Desktop/H4H/INTERCEPT/NextSeq/remaining_batch_3_cfDNA_15April2021/mixcr/clones/CLONES_TRBCHP_414-03_cfDNA.txt\n",
      "\n"
     ]
    },
    {
     "name": "stdout",
     "output_type": "stream",
     "text": [
      "[1] 10\n"
     ]
    },
    {
     "name": "stderr",
     "output_type": "stream",
     "text": [
      "Number of CDR3s in: ~/Desktop/H4H/INTERCEPT/NextSeq/remaining_batch_3_cfDNA_15April2021/mixcr/clones/CLONES_TRBCHP_414-03_cfDNA.txt nonproductive removed\n",
      "\n"
     ]
    },
    {
     "name": "stdout",
     "output_type": "stream",
     "text": [
      "[1] 9\n"
     ]
    },
    {
     "name": "stderr",
     "output_type": "stream",
     "text": [
      "Number of CDR3s in: ~/Desktop/H4H/INTERCEPT/NextSeq/remaining_batch_4_28June2021/mixcr/clones/CLONES_TRBCHP-328-04-PBMC-DNA.txt\n",
      "\n"
     ]
    },
    {
     "name": "stdout",
     "output_type": "stream",
     "text": [
      "[1] 587\n"
     ]
    },
    {
     "name": "stderr",
     "output_type": "stream",
     "text": [
      "Number of CDR3s in: ~/Desktop/H4H/INTERCEPT/NextSeq/remaining_batch_4_28June2021/mixcr/clones/CLONES_TRBCHP-328-04-PBMC-DNA.txt nonproductive removed\n",
      "\n"
     ]
    },
    {
     "name": "stdout",
     "output_type": "stream",
     "text": [
      "[1] 454\n"
     ]
    },
    {
     "name": "stderr",
     "output_type": "stream",
     "text": [
      "Number of CDR3s in: ~/Desktop/H4H/INTERCEPT/NextSeq/remaining_batch_4_28June2021/mixcr/clones/CLONES_TRBCHP-328-05-PBMC-DNA.txt\n",
      "\n"
     ]
    },
    {
     "name": "stdout",
     "output_type": "stream",
     "text": [
      "[1] 225\n"
     ]
    },
    {
     "name": "stderr",
     "output_type": "stream",
     "text": [
      "Number of CDR3s in: ~/Desktop/H4H/INTERCEPT/NextSeq/remaining_batch_4_28June2021/mixcr/clones/CLONES_TRBCHP-328-05-PBMC-DNA.txt nonproductive removed\n",
      "\n"
     ]
    },
    {
     "name": "stdout",
     "output_type": "stream",
     "text": [
      "[1] 153\n"
     ]
    },
    {
     "name": "stderr",
     "output_type": "stream",
     "text": [
      "Number of CDR3s in: ~/Desktop/H4H/INTERCEPT/NextSeq/remaining_batch_4_28June2021/mixcr/clones/CLONES_TRBCHP-342-03-PBMC-DNA.txt\n",
      "\n"
     ]
    },
    {
     "name": "stdout",
     "output_type": "stream",
     "text": [
      "[1] 544\n"
     ]
    },
    {
     "name": "stderr",
     "output_type": "stream",
     "text": [
      "Number of CDR3s in: ~/Desktop/H4H/INTERCEPT/NextSeq/remaining_batch_4_28June2021/mixcr/clones/CLONES_TRBCHP-342-03-PBMC-DNA.txt nonproductive removed\n",
      "\n"
     ]
    },
    {
     "name": "stdout",
     "output_type": "stream",
     "text": [
      "[1] 395\n"
     ]
    },
    {
     "name": "stderr",
     "output_type": "stream",
     "text": [
      "Number of CDR3s in: ~/Desktop/H4H/INTERCEPT/NextSeq/remaining_batch_4_28June2021/mixcr/clones/CLONES_TRBCHP-351-03-PBMC-DNA.txt\n",
      "\n"
     ]
    },
    {
     "name": "stdout",
     "output_type": "stream",
     "text": [
      "[1] 1450\n"
     ]
    },
    {
     "name": "stderr",
     "output_type": "stream",
     "text": [
      "Number of CDR3s in: ~/Desktop/H4H/INTERCEPT/NextSeq/remaining_batch_4_28June2021/mixcr/clones/CLONES_TRBCHP-351-03-PBMC-DNA.txt nonproductive removed\n",
      "\n"
     ]
    },
    {
     "name": "stdout",
     "output_type": "stream",
     "text": [
      "[1] 1100\n"
     ]
    },
    {
     "name": "stderr",
     "output_type": "stream",
     "text": [
      "Number of CDR3s in: ~/Desktop/H4H/INTERCEPT/NextSeq/remaining_batch_4_28June2021/mixcr/clones/CLONES_TRBCHP-353-04-PBMC-DNA.txt\n",
      "\n"
     ]
    },
    {
     "name": "stdout",
     "output_type": "stream",
     "text": [
      "[1] 2133\n"
     ]
    },
    {
     "name": "stderr",
     "output_type": "stream",
     "text": [
      "Number of CDR3s in: ~/Desktop/H4H/INTERCEPT/NextSeq/remaining_batch_4_28June2021/mixcr/clones/CLONES_TRBCHP-353-04-PBMC-DNA.txt nonproductive removed\n",
      "\n"
     ]
    },
    {
     "name": "stdout",
     "output_type": "stream",
     "text": [
      "[1] 1699\n"
     ]
    },
    {
     "name": "stderr",
     "output_type": "stream",
     "text": [
      "Number of CDR3s in: ~/Desktop/H4H/INTERCEPT/NextSeq/remaining_batch_4_28June2021/mixcr/clones/CLONES_TRBCHP-363-04-PBMC-DNA.txt\n",
      "\n"
     ]
    },
    {
     "name": "stdout",
     "output_type": "stream",
     "text": [
      "[1] 1006\n"
     ]
    },
    {
     "name": "stderr",
     "output_type": "stream",
     "text": [
      "Number of CDR3s in: ~/Desktop/H4H/INTERCEPT/NextSeq/remaining_batch_4_28June2021/mixcr/clones/CLONES_TRBCHP-363-04-PBMC-DNA.txt nonproductive removed\n",
      "\n"
     ]
    },
    {
     "name": "stdout",
     "output_type": "stream",
     "text": [
      "[1] 756\n"
     ]
    },
    {
     "name": "stderr",
     "output_type": "stream",
     "text": [
      "Number of CDR3s in: ~/Desktop/H4H/INTERCEPT/NextSeq/remaining_batch_4_28June2021/mixcr/clones/CLONES_TRBCHP-369-01-PBMC-DNA.txt\n",
      "\n"
     ]
    },
    {
     "name": "stdout",
     "output_type": "stream",
     "text": [
      "[1] 1012\n"
     ]
    },
    {
     "name": "stderr",
     "output_type": "stream",
     "text": [
      "Number of CDR3s in: ~/Desktop/H4H/INTERCEPT/NextSeq/remaining_batch_4_28June2021/mixcr/clones/CLONES_TRBCHP-369-01-PBMC-DNA.txt nonproductive removed\n",
      "\n"
     ]
    },
    {
     "name": "stdout",
     "output_type": "stream",
     "text": [
      "[1] 736\n"
     ]
    },
    {
     "name": "stderr",
     "output_type": "stream",
     "text": [
      "Number of CDR3s in: ~/Desktop/H4H/INTERCEPT/NextSeq/remaining_batch_4_28June2021/mixcr/clones/CLONES_TRBCHP-371-03-PBMC-DNA.txt\n",
      "\n"
     ]
    },
    {
     "name": "stdout",
     "output_type": "stream",
     "text": [
      "[1] 800\n"
     ]
    },
    {
     "name": "stderr",
     "output_type": "stream",
     "text": [
      "Number of CDR3s in: ~/Desktop/H4H/INTERCEPT/NextSeq/remaining_batch_4_28June2021/mixcr/clones/CLONES_TRBCHP-371-03-PBMC-DNA.txt nonproductive removed\n",
      "\n"
     ]
    },
    {
     "name": "stdout",
     "output_type": "stream",
     "text": [
      "[1] 614\n"
     ]
    },
    {
     "name": "stderr",
     "output_type": "stream",
     "text": [
      "Number of CDR3s in: ~/Desktop/H4H/INTERCEPT/NextSeq/remaining_batch_4_28June2021/mixcr/clones/CLONES_TRBCHP-377-02-PBMC-DNA.txt\n",
      "\n"
     ]
    },
    {
     "name": "stdout",
     "output_type": "stream",
     "text": [
      "[1] 621\n"
     ]
    },
    {
     "name": "stderr",
     "output_type": "stream",
     "text": [
      "Number of CDR3s in: ~/Desktop/H4H/INTERCEPT/NextSeq/remaining_batch_4_28June2021/mixcr/clones/CLONES_TRBCHP-377-02-PBMC-DNA.txt nonproductive removed\n",
      "\n"
     ]
    },
    {
     "name": "stdout",
     "output_type": "stream",
     "text": [
      "[1] 514\n"
     ]
    },
    {
     "name": "stderr",
     "output_type": "stream",
     "text": [
      "Number of CDR3s in: ~/Desktop/H4H/INTERCEPT/NextSeq/remaining_batch_4_28June2021/mixcr/clones/CLONES_TRBCHP-386-04-PBMC-DNA.txt\n",
      "\n"
     ]
    },
    {
     "name": "stdout",
     "output_type": "stream",
     "text": [
      "[1] 897\n"
     ]
    },
    {
     "name": "stderr",
     "output_type": "stream",
     "text": [
      "Number of CDR3s in: ~/Desktop/H4H/INTERCEPT/NextSeq/remaining_batch_4_28June2021/mixcr/clones/CLONES_TRBCHP-386-04-PBMC-DNA.txt nonproductive removed\n",
      "\n"
     ]
    },
    {
     "name": "stdout",
     "output_type": "stream",
     "text": [
      "[1] 666\n"
     ]
    },
    {
     "name": "stderr",
     "output_type": "stream",
     "text": [
      "Number of CDR3s in: ~/Desktop/H4H/INTERCEPT/NextSeq/remaining_batch_4_28June2021/mixcr/clones/CLONES_TRBCHP-386-05-PBMC-DNA.txt\n",
      "\n"
     ]
    },
    {
     "name": "stdout",
     "output_type": "stream",
     "text": [
      "[1] 475\n"
     ]
    },
    {
     "name": "stderr",
     "output_type": "stream",
     "text": [
      "Number of CDR3s in: ~/Desktop/H4H/INTERCEPT/NextSeq/remaining_batch_4_28June2021/mixcr/clones/CLONES_TRBCHP-386-05-PBMC-DNA.txt nonproductive removed\n",
      "\n"
     ]
    },
    {
     "name": "stdout",
     "output_type": "stream",
     "text": [
      "[1] 338\n"
     ]
    },
    {
     "name": "stderr",
     "output_type": "stream",
     "text": [
      "Number of CDR3s in: ~/Desktop/H4H/INTERCEPT/NextSeq/remaining_batch_4_28June2021/mixcr/clones/CLONES_TRBCHP-398-02-PBMC-DNA.txt\n",
      "\n"
     ]
    },
    {
     "name": "stdout",
     "output_type": "stream",
     "text": [
      "[1] 646\n"
     ]
    },
    {
     "name": "stderr",
     "output_type": "stream",
     "text": [
      "Number of CDR3s in: ~/Desktop/H4H/INTERCEPT/NextSeq/remaining_batch_4_28June2021/mixcr/clones/CLONES_TRBCHP-398-02-PBMC-DNA.txt nonproductive removed\n",
      "\n"
     ]
    },
    {
     "name": "stdout",
     "output_type": "stream",
     "text": [
      "[1] 507\n"
     ]
    },
    {
     "name": "stderr",
     "output_type": "stream",
     "text": [
      "Number of CDR3s in: ~/Desktop/H4H/INTERCEPT/NextSeq/remaining_batch_4_28June2021/mixcr/clones/CLONES_TRBCHP-404-03-PBMC-DNA.txt\n",
      "\n"
     ]
    },
    {
     "name": "stdout",
     "output_type": "stream",
     "text": [
      "[1] 249\n"
     ]
    },
    {
     "name": "stderr",
     "output_type": "stream",
     "text": [
      "Number of CDR3s in: ~/Desktop/H4H/INTERCEPT/NextSeq/remaining_batch_4_28June2021/mixcr/clones/CLONES_TRBCHP-404-03-PBMC-DNA.txt nonproductive removed\n",
      "\n"
     ]
    },
    {
     "name": "stdout",
     "output_type": "stream",
     "text": [
      "[1] 180\n"
     ]
    },
    {
     "name": "stderr",
     "output_type": "stream",
     "text": [
      "Number of CDR3s in: ~/Desktop/H4H/INTERCEPT/NextSeq/remaining_batch_4_28June2021/mixcr/clones/CLONES_TRBCHP-411-02-PBMC-DNA.txt\n",
      "\n"
     ]
    },
    {
     "name": "stdout",
     "output_type": "stream",
     "text": [
      "[1] 1559\n"
     ]
    },
    {
     "name": "stderr",
     "output_type": "stream",
     "text": [
      "Number of CDR3s in: ~/Desktop/H4H/INTERCEPT/NextSeq/remaining_batch_4_28June2021/mixcr/clones/CLONES_TRBCHP-411-02-PBMC-DNA.txt nonproductive removed\n",
      "\n"
     ]
    },
    {
     "name": "stdout",
     "output_type": "stream",
     "text": [
      "[1] 1246\n"
     ]
    },
    {
     "name": "stderr",
     "output_type": "stream",
     "text": [
      "Number of CDR3s in: ~/Desktop/H4H/INTERCEPT/NextSeq/remaining_batch_4_28June2021/mixcr/clones/CLONES_TRBCHP-416-02-PBMC-DNA.txt\n",
      "\n"
     ]
    },
    {
     "name": "stdout",
     "output_type": "stream",
     "text": [
      "[1] 138\n"
     ]
    },
    {
     "name": "stderr",
     "output_type": "stream",
     "text": [
      "Number of CDR3s in: ~/Desktop/H4H/INTERCEPT/NextSeq/remaining_batch_4_28June2021/mixcr/clones/CLONES_TRBCHP-416-02-PBMC-DNA.txt nonproductive removed\n",
      "\n"
     ]
    },
    {
     "name": "stdout",
     "output_type": "stream",
     "text": [
      "[1] 100\n"
     ]
    },
    {
     "name": "stderr",
     "output_type": "stream",
     "text": [
      "Number of CDR3s in: ~/Desktop/H4H/INTERCEPT/NextSeq/remaining_batch_4_28June2021/mixcr/clones/CLONES_TRBCHP-417-02_-PBMC-DN.txt\n",
      "\n"
     ]
    },
    {
     "name": "stdout",
     "output_type": "stream",
     "text": [
      "[1] 181\n"
     ]
    },
    {
     "name": "stderr",
     "output_type": "stream",
     "text": [
      "Number of CDR3s in: ~/Desktop/H4H/INTERCEPT/NextSeq/remaining_batch_4_28June2021/mixcr/clones/CLONES_TRBCHP-417-02_-PBMC-DN.txt nonproductive removed\n",
      "\n"
     ]
    },
    {
     "name": "stdout",
     "output_type": "stream",
     "text": [
      "[1] 145\n"
     ]
    },
    {
     "name": "stderr",
     "output_type": "stream",
     "text": [
      "Number of CDR3s in: ~/Desktop/H4H/INTERCEPT/NextSeq/remaining_batch_4_cfDNA_15April2021/mixcr/clones/CLONES_TRBCHP_349-01_cfDNA.txt\n",
      "\n"
     ]
    },
    {
     "name": "stdout",
     "output_type": "stream",
     "text": [
      "[1] 3\n"
     ]
    },
    {
     "name": "stderr",
     "output_type": "stream",
     "text": [
      "Number of CDR3s in: ~/Desktop/H4H/INTERCEPT/NextSeq/remaining_batch_4_cfDNA_15April2021/mixcr/clones/CLONES_TRBCHP_349-01_cfDNA.txt nonproductive removed\n",
      "\n"
     ]
    },
    {
     "name": "stdout",
     "output_type": "stream",
     "text": [
      "[1] 2\n"
     ]
    },
    {
     "name": "stderr",
     "output_type": "stream",
     "text": [
      "Number of CDR3s in: ~/Desktop/H4H/INTERCEPT/NextSeq/remaining_batch_4_cfDNA_15April2021/mixcr/clones/CLONES_TRBCHP_350-02_cfDNA.txt\n",
      "\n"
     ]
    },
    {
     "name": "stdout",
     "output_type": "stream",
     "text": [
      "[1] 22\n"
     ]
    },
    {
     "name": "stderr",
     "output_type": "stream",
     "text": [
      "Number of CDR3s in: ~/Desktop/H4H/INTERCEPT/NextSeq/remaining_batch_4_cfDNA_15April2021/mixcr/clones/CLONES_TRBCHP_350-02_cfDNA.txt nonproductive removed\n",
      "\n"
     ]
    },
    {
     "name": "stdout",
     "output_type": "stream",
     "text": [
      "[1] 16\n"
     ]
    },
    {
     "name": "stderr",
     "output_type": "stream",
     "text": [
      "Number of CDR3s in: ~/Desktop/H4H/INTERCEPT/NextSeq/remaining_batch_4_cfDNA_15April2021/mixcr/clones/CLONES_TRBCHP_377-02_cfDNA.txt\n",
      "\n"
     ]
    },
    {
     "name": "stdout",
     "output_type": "stream",
     "text": [
      "[1] 7\n"
     ]
    },
    {
     "name": "stderr",
     "output_type": "stream",
     "text": [
      "Number of CDR3s in: ~/Desktop/H4H/INTERCEPT/NextSeq/remaining_batch_4_cfDNA_15April2021/mixcr/clones/CLONES_TRBCHP_377-02_cfDNA.txt nonproductive removed\n",
      "\n"
     ]
    },
    {
     "name": "stdout",
     "output_type": "stream",
     "text": [
      "[1] 6\n"
     ]
    },
    {
     "name": "stderr",
     "output_type": "stream",
     "text": [
      "Number of CDR3s in: ~/Desktop/H4H/INTERCEPT/NextSeq/remaining_batch_4_cfDNA_15April2021/mixcr/clones/CLONES_TRBCHP_377-03_cfDNA.txt\n",
      "\n"
     ]
    },
    {
     "name": "stdout",
     "output_type": "stream",
     "text": [
      "[1] 2\n"
     ]
    },
    {
     "name": "stderr",
     "output_type": "stream",
     "text": [
      "Number of CDR3s in: ~/Desktop/H4H/INTERCEPT/NextSeq/remaining_batch_4_cfDNA_15April2021/mixcr/clones/CLONES_TRBCHP_377-03_cfDNA.txt nonproductive removed\n",
      "\n"
     ]
    },
    {
     "name": "stdout",
     "output_type": "stream",
     "text": [
      "[1] 2\n"
     ]
    },
    {
     "name": "stderr",
     "output_type": "stream",
     "text": [
      "Number of CDR3s in: ~/Desktop/H4H/INTERCEPT/NextSeq/remaining_batch_4_cfDNA_15April2021/mixcr/clones/CLONES_TRBCHP_378-05_cfDNA.txt\n",
      "\n"
     ]
    },
    {
     "name": "stdout",
     "output_type": "stream",
     "text": [
      "[1] 4\n"
     ]
    },
    {
     "name": "stderr",
     "output_type": "stream",
     "text": [
      "Number of CDR3s in: ~/Desktop/H4H/INTERCEPT/NextSeq/remaining_batch_4_cfDNA_15April2021/mixcr/clones/CLONES_TRBCHP_378-05_cfDNA.txt nonproductive removed\n",
      "\n"
     ]
    },
    {
     "name": "stdout",
     "output_type": "stream",
     "text": [
      "[1] 4\n"
     ]
    },
    {
     "name": "stderr",
     "output_type": "stream",
     "text": [
      "Number of CDR3s in: ~/Desktop/H4H/INTERCEPT/NextSeq/remaining_batch_4_cfDNA_15April2021/mixcr/clones/CLONES_TRBCHP_385-04_cfDNA.txt\n",
      "\n"
     ]
    },
    {
     "name": "stdout",
     "output_type": "stream",
     "text": [
      "[1] 13\n"
     ]
    },
    {
     "name": "stderr",
     "output_type": "stream",
     "text": [
      "Number of CDR3s in: ~/Desktop/H4H/INTERCEPT/NextSeq/remaining_batch_4_cfDNA_15April2021/mixcr/clones/CLONES_TRBCHP_385-04_cfDNA.txt nonproductive removed\n",
      "\n"
     ]
    },
    {
     "name": "stdout",
     "output_type": "stream",
     "text": [
      "[1] 10\n"
     ]
    },
    {
     "name": "stderr",
     "output_type": "stream",
     "text": [
      "Number of CDR3s in: ~/Desktop/H4H/INTERCEPT/NextSeq/remaining_batch_4_cfDNA_15April2021/mixcr/clones/CLONES_TRBCHP_385-05_cfDNA.txt\n",
      "\n"
     ]
    },
    {
     "name": "stdout",
     "output_type": "stream",
     "text": [
      "[1] 6\n"
     ]
    },
    {
     "name": "stderr",
     "output_type": "stream",
     "text": [
      "Number of CDR3s in: ~/Desktop/H4H/INTERCEPT/NextSeq/remaining_batch_4_cfDNA_15April2021/mixcr/clones/CLONES_TRBCHP_385-05_cfDNA.txt nonproductive removed\n",
      "\n"
     ]
    },
    {
     "name": "stdout",
     "output_type": "stream",
     "text": [
      "[1] 5\n"
     ]
    },
    {
     "name": "stderr",
     "output_type": "stream",
     "text": [
      "Number of CDR3s in: ~/Desktop/H4H/INTERCEPT/NextSeq/remaining_batch_4_cfDNA_15April2021/mixcr/clones/CLONES_TRBCHP_391-03_cfDNA.txt\n",
      "\n"
     ]
    },
    {
     "name": "stdout",
     "output_type": "stream",
     "text": [
      "[1] 22\n"
     ]
    },
    {
     "name": "stderr",
     "output_type": "stream",
     "text": [
      "Number of CDR3s in: ~/Desktop/H4H/INTERCEPT/NextSeq/remaining_batch_4_cfDNA_15April2021/mixcr/clones/CLONES_TRBCHP_391-03_cfDNA.txt nonproductive removed\n",
      "\n"
     ]
    },
    {
     "name": "stdout",
     "output_type": "stream",
     "text": [
      "[1] 16\n"
     ]
    },
    {
     "name": "stderr",
     "output_type": "stream",
     "text": [
      "Number of CDR3s in: ~/Desktop/H4H/INTERCEPT/NextSeq/remaining_batch_4_cfDNA_15April2021/mixcr/clones/CLONES_TRBCHP_402-02_cfDNA.txt\n",
      "\n"
     ]
    },
    {
     "name": "stdout",
     "output_type": "stream",
     "text": [
      "[1] 3\n"
     ]
    },
    {
     "name": "stderr",
     "output_type": "stream",
     "text": [
      "Number of CDR3s in: ~/Desktop/H4H/INTERCEPT/NextSeq/remaining_batch_4_cfDNA_15April2021/mixcr/clones/CLONES_TRBCHP_402-02_cfDNA.txt nonproductive removed\n",
      "\n"
     ]
    },
    {
     "name": "stdout",
     "output_type": "stream",
     "text": [
      "[1] 2\n"
     ]
    },
    {
     "name": "stderr",
     "output_type": "stream",
     "text": [
      "Number of CDR3s in: ~/Desktop/H4H/INTERCEPT/NextSeq/remaining_batch_4_cfDNA_15April2021/mixcr/clones/CLONES_TRBCHP_405-03_cfDNA.txt\n",
      "\n"
     ]
    },
    {
     "name": "stdout",
     "output_type": "stream",
     "text": [
      "[1] 12\n"
     ]
    },
    {
     "name": "stderr",
     "output_type": "stream",
     "text": [
      "Number of CDR3s in: ~/Desktop/H4H/INTERCEPT/NextSeq/remaining_batch_4_cfDNA_15April2021/mixcr/clones/CLONES_TRBCHP_405-03_cfDNA.txt nonproductive removed\n",
      "\n"
     ]
    },
    {
     "name": "stdout",
     "output_type": "stream",
     "text": [
      "[1] 11\n"
     ]
    },
    {
     "name": "stderr",
     "output_type": "stream",
     "text": [
      "Number of CDR3s in: ~/Desktop/H4H/INTERCEPT/NextSeq/remaining_batch_4_cfDNA_15April2021/mixcr/clones/CLONES_TRBCHP_405-05_cfDNA.txt\n",
      "\n"
     ]
    },
    {
     "name": "stdout",
     "output_type": "stream",
     "text": [
      "[1] 9\n"
     ]
    },
    {
     "name": "stderr",
     "output_type": "stream",
     "text": [
      "Number of CDR3s in: ~/Desktop/H4H/INTERCEPT/NextSeq/remaining_batch_4_cfDNA_15April2021/mixcr/clones/CLONES_TRBCHP_405-05_cfDNA.txt nonproductive removed\n",
      "\n"
     ]
    },
    {
     "name": "stdout",
     "output_type": "stream",
     "text": [
      "[1] 7\n"
     ]
    },
    {
     "name": "stderr",
     "output_type": "stream",
     "text": [
      "Number of CDR3s in: ~/Desktop/H4H/INTERCEPT/NextSeq/remaining_batch_4_cfDNA_15April2021/mixcr/clones/CLONES_TRBCHP_409-01_cfDNA.txt\n",
      "\n"
     ]
    },
    {
     "name": "stdout",
     "output_type": "stream",
     "text": [
      "[1] 0\n"
     ]
    },
    {
     "name": "stderr",
     "output_type": "stream",
     "text": [
      "Number of CDR3s in: ~/Desktop/H4H/INTERCEPT/NextSeq/remaining_batch_4_cfDNA_15April2021/mixcr/clones/CLONES_TRBCHP_409-01_cfDNA.txt nonproductive removed\n",
      "\n"
     ]
    },
    {
     "name": "stdout",
     "output_type": "stream",
     "text": [
      "[1] 0\n"
     ]
    },
    {
     "name": "stderr",
     "output_type": "stream",
     "text": [
      "Number of CDR3s in: ~/Desktop/H4H/INTERCEPT/NextSeq/remaining_batch_4_cfDNA_15April2021/mixcr/clones/CLONES_TRBCHP_414-01_cfDNA.txt\n",
      "\n"
     ]
    },
    {
     "name": "stdout",
     "output_type": "stream",
     "text": [
      "[1] 17\n"
     ]
    },
    {
     "name": "stderr",
     "output_type": "stream",
     "text": [
      "Number of CDR3s in: ~/Desktop/H4H/INTERCEPT/NextSeq/remaining_batch_4_cfDNA_15April2021/mixcr/clones/CLONES_TRBCHP_414-01_cfDNA.txt nonproductive removed\n",
      "\n"
     ]
    },
    {
     "name": "stdout",
     "output_type": "stream",
     "text": [
      "[1] 13\n"
     ]
    },
    {
     "name": "stderr",
     "output_type": "stream",
     "text": [
      "Number of CDR3s in: ~/Desktop/H4H/INTERCEPT/NextSeq/remaining_batch_4_cfDNA_15April2021/mixcr/clones/CLONES_TRBCHP_415-02_cfDNA.txt\n",
      "\n"
     ]
    },
    {
     "name": "stdout",
     "output_type": "stream",
     "text": [
      "[1] 3\n"
     ]
    },
    {
     "name": "stderr",
     "output_type": "stream",
     "text": [
      "Number of CDR3s in: ~/Desktop/H4H/INTERCEPT/NextSeq/remaining_batch_4_cfDNA_15April2021/mixcr/clones/CLONES_TRBCHP_415-02_cfDNA.txt nonproductive removed\n",
      "\n"
     ]
    },
    {
     "name": "stdout",
     "output_type": "stream",
     "text": [
      "[1] 3\n"
     ]
    },
    {
     "name": "stderr",
     "output_type": "stream",
     "text": [
      "Number of CDR3s in: ~/Desktop/H4H/INTERCEPT/NextSeq/remaining_batch_5_cfDNA_22April2021/mixcr/clones/CLONES_TRBCHP_329-04_cfDNA.txt\n",
      "\n"
     ]
    },
    {
     "name": "stdout",
     "output_type": "stream",
     "text": [
      "[1] 3\n"
     ]
    },
    {
     "name": "stderr",
     "output_type": "stream",
     "text": [
      "Number of CDR3s in: ~/Desktop/H4H/INTERCEPT/NextSeq/remaining_batch_5_cfDNA_22April2021/mixcr/clones/CLONES_TRBCHP_329-04_cfDNA.txt nonproductive removed\n",
      "\n"
     ]
    },
    {
     "name": "stdout",
     "output_type": "stream",
     "text": [
      "[1] 2\n"
     ]
    },
    {
     "name": "stderr",
     "output_type": "stream",
     "text": [
      "Number of CDR3s in: ~/Desktop/H4H/INTERCEPT/NextSeq/remaining_batch_5_cfDNA_22April2021/mixcr/clones/CLONES_TRBCHP_331-05_cfDNA.txt\n",
      "\n"
     ]
    },
    {
     "name": "stdout",
     "output_type": "stream",
     "text": [
      "[1] 54\n"
     ]
    },
    {
     "name": "stderr",
     "output_type": "stream",
     "text": [
      "Number of CDR3s in: ~/Desktop/H4H/INTERCEPT/NextSeq/remaining_batch_5_cfDNA_22April2021/mixcr/clones/CLONES_TRBCHP_331-05_cfDNA.txt nonproductive removed\n",
      "\n"
     ]
    },
    {
     "name": "stdout",
     "output_type": "stream",
     "text": [
      "[1] 36\n"
     ]
    },
    {
     "name": "stderr",
     "output_type": "stream",
     "text": [
      "Number of CDR3s in: ~/Desktop/H4H/INTERCEPT/NextSeq/remaining_batch_5_cfDNA_22April2021/mixcr/clones/CLONES_TRBCHP_343-02_cfDNA.txt\n",
      "\n"
     ]
    },
    {
     "name": "stdout",
     "output_type": "stream",
     "text": [
      "[1] 5\n"
     ]
    },
    {
     "name": "stderr",
     "output_type": "stream",
     "text": [
      "Number of CDR3s in: ~/Desktop/H4H/INTERCEPT/NextSeq/remaining_batch_5_cfDNA_22April2021/mixcr/clones/CLONES_TRBCHP_343-02_cfDNA.txt nonproductive removed\n",
      "\n"
     ]
    },
    {
     "name": "stdout",
     "output_type": "stream",
     "text": [
      "[1] 5\n"
     ]
    },
    {
     "name": "stderr",
     "output_type": "stream",
     "text": [
      "Number of CDR3s in: ~/Desktop/H4H/INTERCEPT/NextSeq/remaining_batch_5_cfDNA_22April2021/mixcr/clones/CLONES_TRBCHP_343-04_cfDNA.txt\n",
      "\n"
     ]
    },
    {
     "name": "stdout",
     "output_type": "stream",
     "text": [
      "[1] 2\n"
     ]
    },
    {
     "name": "stderr",
     "output_type": "stream",
     "text": [
      "Number of CDR3s in: ~/Desktop/H4H/INTERCEPT/NextSeq/remaining_batch_5_cfDNA_22April2021/mixcr/clones/CLONES_TRBCHP_343-04_cfDNA.txt nonproductive removed\n",
      "\n"
     ]
    },
    {
     "name": "stdout",
     "output_type": "stream",
     "text": [
      "[1] 1\n"
     ]
    },
    {
     "name": "stderr",
     "output_type": "stream",
     "text": [
      "Number of CDR3s in: ~/Desktop/H4H/INTERCEPT/NextSeq/remaining_batch_5_cfDNA_22April2021/mixcr/clones/CLONES_TRBCHP_348-01_cfDNA.txt\n",
      "\n"
     ]
    },
    {
     "name": "stdout",
     "output_type": "stream",
     "text": [
      "[1] 10\n"
     ]
    },
    {
     "name": "stderr",
     "output_type": "stream",
     "text": [
      "Number of CDR3s in: ~/Desktop/H4H/INTERCEPT/NextSeq/remaining_batch_5_cfDNA_22April2021/mixcr/clones/CLONES_TRBCHP_348-01_cfDNA.txt nonproductive removed\n",
      "\n"
     ]
    },
    {
     "name": "stdout",
     "output_type": "stream",
     "text": [
      "[1] 9\n"
     ]
    },
    {
     "name": "stderr",
     "output_type": "stream",
     "text": [
      "Number of CDR3s in: ~/Desktop/H4H/INTERCEPT/NextSeq/remaining_batch_5_cfDNA_22April2021/mixcr/clones/CLONES_TRBCHP_348-03_cfDNA.txt\n",
      "\n"
     ]
    },
    {
     "name": "stdout",
     "output_type": "stream",
     "text": [
      "[1] 13\n"
     ]
    },
    {
     "name": "stderr",
     "output_type": "stream",
     "text": [
      "Number of CDR3s in: ~/Desktop/H4H/INTERCEPT/NextSeq/remaining_batch_5_cfDNA_22April2021/mixcr/clones/CLONES_TRBCHP_348-03_cfDNA.txt nonproductive removed\n",
      "\n"
     ]
    },
    {
     "name": "stdout",
     "output_type": "stream",
     "text": [
      "[1] 11\n"
     ]
    },
    {
     "name": "stderr",
     "output_type": "stream",
     "text": [
      "Number of CDR3s in: ~/Desktop/H4H/INTERCEPT/NextSeq/remaining_batch_5_cfDNA_22April2021/mixcr/clones/CLONES_TRBCHP_350-03_cfDNA.txt\n",
      "\n"
     ]
    },
    {
     "name": "stdout",
     "output_type": "stream",
     "text": [
      "[1] 54\n"
     ]
    },
    {
     "name": "stderr",
     "output_type": "stream",
     "text": [
      "Number of CDR3s in: ~/Desktop/H4H/INTERCEPT/NextSeq/remaining_batch_5_cfDNA_22April2021/mixcr/clones/CLONES_TRBCHP_350-03_cfDNA.txt nonproductive removed\n",
      "\n"
     ]
    },
    {
     "name": "stdout",
     "output_type": "stream",
     "text": [
      "[1] 44\n"
     ]
    },
    {
     "name": "stderr",
     "output_type": "stream",
     "text": [
      "Number of CDR3s in: ~/Desktop/H4H/INTERCEPT/NextSeq/remaining_batch_5_cfDNA_22April2021/mixcr/clones/CLONES_TRBCHP_352-01_cfDNA.txt\n",
      "\n"
     ]
    },
    {
     "name": "stdout",
     "output_type": "stream",
     "text": [
      "[1] 0\n"
     ]
    },
    {
     "name": "stderr",
     "output_type": "stream",
     "text": [
      "Number of CDR3s in: ~/Desktop/H4H/INTERCEPT/NextSeq/remaining_batch_5_cfDNA_22April2021/mixcr/clones/CLONES_TRBCHP_352-01_cfDNA.txt nonproductive removed\n",
      "\n"
     ]
    },
    {
     "name": "stdout",
     "output_type": "stream",
     "text": [
      "[1] 0\n"
     ]
    },
    {
     "name": "stderr",
     "output_type": "stream",
     "text": [
      "Number of CDR3s in: ~/Desktop/H4H/INTERCEPT/NextSeq/remaining_batch_5_cfDNA_22April2021/mixcr/clones/CLONES_TRBCHP_356-04_cfDNA.txt\n",
      "\n"
     ]
    },
    {
     "name": "stdout",
     "output_type": "stream",
     "text": [
      "[1] 1\n"
     ]
    },
    {
     "name": "stderr",
     "output_type": "stream",
     "text": [
      "Number of CDR3s in: ~/Desktop/H4H/INTERCEPT/NextSeq/remaining_batch_5_cfDNA_22April2021/mixcr/clones/CLONES_TRBCHP_356-04_cfDNA.txt nonproductive removed\n",
      "\n"
     ]
    },
    {
     "name": "stdout",
     "output_type": "stream",
     "text": [
      "[1] 1\n"
     ]
    },
    {
     "name": "stderr",
     "output_type": "stream",
     "text": [
      "Number of CDR3s in: ~/Desktop/H4H/INTERCEPT/NextSeq/remaining_batch_5_cfDNA_22April2021/mixcr/clones/CLONES_TRBCHP_356-05_cfDNA.txt\n",
      "\n"
     ]
    },
    {
     "name": "stdout",
     "output_type": "stream",
     "text": [
      "[1] 2\n"
     ]
    },
    {
     "name": "stderr",
     "output_type": "stream",
     "text": [
      "Number of CDR3s in: ~/Desktop/H4H/INTERCEPT/NextSeq/remaining_batch_5_cfDNA_22April2021/mixcr/clones/CLONES_TRBCHP_356-05_cfDNA.txt nonproductive removed\n",
      "\n"
     ]
    },
    {
     "name": "stdout",
     "output_type": "stream",
     "text": [
      "[1] 1\n"
     ]
    },
    {
     "name": "stderr",
     "output_type": "stream",
     "text": [
      "Number of CDR3s in: ~/Desktop/H4H/INTERCEPT/NextSeq/remaining_batch_5_cfDNA_22April2021/mixcr/clones/CLONES_TRBCHP_365-03_cfDNA.txt\n",
      "\n"
     ]
    },
    {
     "name": "stdout",
     "output_type": "stream",
     "text": [
      "[1] 16\n"
     ]
    },
    {
     "name": "stderr",
     "output_type": "stream",
     "text": [
      "Number of CDR3s in: ~/Desktop/H4H/INTERCEPT/NextSeq/remaining_batch_5_cfDNA_22April2021/mixcr/clones/CLONES_TRBCHP_365-03_cfDNA.txt nonproductive removed\n",
      "\n"
     ]
    },
    {
     "name": "stdout",
     "output_type": "stream",
     "text": [
      "[1] 9\n"
     ]
    },
    {
     "name": "stderr",
     "output_type": "stream",
     "text": [
      "Number of CDR3s in: ~/Desktop/H4H/INTERCEPT/NextSeq/remaining_batch_5_cfDNA_22April2021/mixcr/clones/CLONES_TRBCHP_370-02_cfDNA.txt\n",
      "\n"
     ]
    },
    {
     "name": "stdout",
     "output_type": "stream",
     "text": [
      "[1] 4\n"
     ]
    },
    {
     "name": "stderr",
     "output_type": "stream",
     "text": [
      "Number of CDR3s in: ~/Desktop/H4H/INTERCEPT/NextSeq/remaining_batch_5_cfDNA_22April2021/mixcr/clones/CLONES_TRBCHP_370-02_cfDNA.txt nonproductive removed\n",
      "\n"
     ]
    },
    {
     "name": "stdout",
     "output_type": "stream",
     "text": [
      "[1] 2\n"
     ]
    },
    {
     "name": "stderr",
     "output_type": "stream",
     "text": [
      "Number of CDR3s in: ~/Desktop/H4H/INTERCEPT/NextSeq/remaining_batch_5_cfDNA_22April2021/mixcr/clones/CLONES_TRBCHP_374-03_cfDNA.txt\n",
      "\n"
     ]
    },
    {
     "name": "stdout",
     "output_type": "stream",
     "text": [
      "[1] 8\n"
     ]
    },
    {
     "name": "stderr",
     "output_type": "stream",
     "text": [
      "Number of CDR3s in: ~/Desktop/H4H/INTERCEPT/NextSeq/remaining_batch_5_cfDNA_22April2021/mixcr/clones/CLONES_TRBCHP_374-03_cfDNA.txt nonproductive removed\n",
      "\n"
     ]
    },
    {
     "name": "stdout",
     "output_type": "stream",
     "text": [
      "[1] 7\n"
     ]
    },
    {
     "name": "stderr",
     "output_type": "stream",
     "text": [
      "Number of CDR3s in: ~/Desktop/H4H/INTERCEPT/NextSeq/remaining_batch_5_cfDNA_22April2021/mixcr/clones/CLONES_TRBCHP_378-01_cfDNA.txt\n",
      "\n"
     ]
    },
    {
     "name": "stdout",
     "output_type": "stream",
     "text": [
      "[1] 37\n"
     ]
    },
    {
     "name": "stderr",
     "output_type": "stream",
     "text": [
      "Number of CDR3s in: ~/Desktop/H4H/INTERCEPT/NextSeq/remaining_batch_5_cfDNA_22April2021/mixcr/clones/CLONES_TRBCHP_378-01_cfDNA.txt nonproductive removed\n",
      "\n"
     ]
    },
    {
     "name": "stdout",
     "output_type": "stream",
     "text": [
      "[1] 27\n"
     ]
    },
    {
     "name": "stderr",
     "output_type": "stream",
     "text": [
      "Number of CDR3s in: ~/Desktop/H4H/INTERCEPT/NextSeq/remaining_batch_5_cfDNA_22April2021/mixcr/clones/CLONES_TRBCHP_381-04_cfDNA.txt\n",
      "\n"
     ]
    },
    {
     "name": "stdout",
     "output_type": "stream",
     "text": [
      "[1] 0\n"
     ]
    },
    {
     "name": "stderr",
     "output_type": "stream",
     "text": [
      "Number of CDR3s in: ~/Desktop/H4H/INTERCEPT/NextSeq/remaining_batch_5_cfDNA_22April2021/mixcr/clones/CLONES_TRBCHP_381-04_cfDNA.txt nonproductive removed\n",
      "\n"
     ]
    },
    {
     "name": "stdout",
     "output_type": "stream",
     "text": [
      "[1] 0\n"
     ]
    },
    {
     "name": "stderr",
     "output_type": "stream",
     "text": [
      "Number of CDR3s in: ~/Desktop/H4H/INTERCEPT/NextSeq/remaining_batch_5_cfDNA_22April2021/mixcr/clones/CLONES_TRBCHP_383-03_cfDNA.txt\n",
      "\n"
     ]
    },
    {
     "name": "stdout",
     "output_type": "stream",
     "text": [
      "[1] 3\n"
     ]
    },
    {
     "name": "stderr",
     "output_type": "stream",
     "text": [
      "Number of CDR3s in: ~/Desktop/H4H/INTERCEPT/NextSeq/remaining_batch_5_cfDNA_22April2021/mixcr/clones/CLONES_TRBCHP_383-03_cfDNA.txt nonproductive removed\n",
      "\n"
     ]
    },
    {
     "name": "stdout",
     "output_type": "stream",
     "text": [
      "[1] 2\n"
     ]
    }
   ],
   "source": [
    "length14 <- lapply(myfilelist, function(x){ \n",
    "    tryCatch(\n",
    "    aaFeatures.fx(x, 14, \"~/Desktop/H4H/INTERCEPT/NextSeq/aaFeatures/\"), error = function(e) e\n",
    "    )\n",
    "})"
   ]
  },
  {
   "cell_type": "code",
   "execution_count": null,
   "metadata": {},
   "outputs": [
    {
     "name": "stderr",
     "output_type": "stream",
     "text": [
      "Number of CDR3s in: ~/Desktop/H4H/INTERCEPT/NextSeq/batch4_19Aug2019/mixcr/clones/CLONES_TRBCHP_315-05-PBMC-DNA.txt\n",
      "\n"
     ]
    },
    {
     "name": "stdout",
     "output_type": "stream",
     "text": [
      "[1] 39\n"
     ]
    },
    {
     "name": "stderr",
     "output_type": "stream",
     "text": [
      "Number of CDR3s in: ~/Desktop/H4H/INTERCEPT/NextSeq/batch4_19Aug2019/mixcr/clones/CLONES_TRBCHP_315-05-PBMC-DNA.txt nonproductive removed\n",
      "\n"
     ]
    },
    {
     "name": "stdout",
     "output_type": "stream",
     "text": [
      "[1] 27\n"
     ]
    },
    {
     "name": "stderr",
     "output_type": "stream",
     "text": [
      "Number of CDR3s in: ~/Desktop/H4H/INTERCEPT/NextSeq/batch_reseq_24Feb2020/mixcr/clones/CLONES_TRBCHP_350-01-PBMC-DNA.txt\n",
      "\n"
     ]
    },
    {
     "name": "stdout",
     "output_type": "stream",
     "text": [
      "[1] 217\n"
     ]
    },
    {
     "name": "stderr",
     "output_type": "stream",
     "text": [
      "Number of CDR3s in: ~/Desktop/H4H/INTERCEPT/NextSeq/batch_reseq_24Feb2020/mixcr/clones/CLONES_TRBCHP_350-01-PBMC-DNA.txt nonproductive removed\n",
      "\n"
     ]
    },
    {
     "name": "stdout",
     "output_type": "stream",
     "text": [
      "[1] 153\n"
     ]
    },
    {
     "name": "stderr",
     "output_type": "stream",
     "text": [
      "Number of CDR3s in: ~/Desktop/H4H/INTERCEPT/NextSeq/batch_reseq_24Feb2020/mixcr/clones/CLONES_TRBCHP_350-02-PBMC-DNA.txt\n",
      "\n"
     ]
    },
    {
     "name": "stdout",
     "output_type": "stream",
     "text": [
      "[1] 362\n"
     ]
    },
    {
     "name": "stderr",
     "output_type": "stream",
     "text": [
      "Number of CDR3s in: ~/Desktop/H4H/INTERCEPT/NextSeq/batch_reseq_24Feb2020/mixcr/clones/CLONES_TRBCHP_350-02-PBMC-DNA.txt nonproductive removed\n",
      "\n"
     ]
    }
   ],
   "source": [
    "length16 <- lapply(myfilelist, function(x){ \n",
    "    tryCatch(\n",
    "    aaFeatures.fx(x, 16, \"~/Desktop/H4H/INTERCEPT/NextSeq/aaFeatures/\"), error = function(e) e\n",
    "    )\n",
    "})"
   ]
  },
  {
   "cell_type": "code",
   "execution_count": null,
   "metadata": {},
   "outputs": [],
   "source": [
    "length13 <- lapply(myfilelist, function(x){ \n",
    "    tryCatch(\n",
    "    aaFeatures.fx(x, 13, \"~/Desktop/H4H/INTERCEPT/NextSeq/aaFeatures/\"), error = function(e) e\n",
    "    )\n",
    "})"
   ]
  },
  {
   "cell_type": "code",
   "execution_count": null,
   "metadata": {},
   "outputs": [],
   "source": []
  },
  {
   "cell_type": "markdown",
   "metadata": {},
   "source": [
    "# plot"
   ]
  },
  {
   "cell_type": "code",
   "execution_count": 9,
   "metadata": {},
   "outputs": [],
   "source": [
    "load(paste0(h4hpath, \"aaFeatures/CHP_358-02-PBMC-DNA_length15.RData\"))"
   ]
  },
  {
   "cell_type": "code",
   "execution_count": 205,
   "metadata": {},
   "outputs": [],
   "source": [
    "sum_features_aaP <- lapply(myaamat_list, function(x){ colSums(x[,2:6], na.rm = T)})"
   ]
  },
  {
   "cell_type": "code",
   "execution_count": 207,
   "metadata": {},
   "outputs": [
    {
     "data": {
      "text/html": [
       "<ol>\n",
       "\t<li><style>\n",
       ".dl-inline {width: auto; margin:0; padding: 0}\n",
       ".dl-inline>dt, .dl-inline>dd {float: none; width: auto; display: inline-block}\n",
       ".dl-inline>dt::after {content: \":\\0020\"; padding-right: .5ex}\n",
       ".dl-inline>dt:not(:first-of-type) {padding-left: .5ex}\n",
       "</style><dl class=dl-inline><dt>F1</dt><dd>-10.744</dd><dt>F2</dt><dd>3.72</dd><dt>F3</dt><dd>-6.896</dd><dt>F4</dt><dd>-8.16</dd><dt>F5</dt><dd>-2.04</dd></dl>\n",
       "</li>\n",
       "\t<li><style>\n",
       ".dl-inline {width: auto; margin:0; padding: 0}\n",
       ".dl-inline>dt, .dl-inline>dd {float: none; width: auto; display: inline-block}\n",
       ".dl-inline>dt::after {content: \":\\0020\"; padding-right: .5ex}\n",
       ".dl-inline>dt:not(:first-of-type) {padding-left: .5ex}\n",
       "</style><dl class=dl-inline><dt>F1</dt><dd>-4.728</dd><dt>F2</dt><dd>-10.416</dd><dt>F3</dt><dd>-5.864</dd><dt>F4</dt><dd>12.56</dd><dt>F5</dt><dd>-1.168</dd></dl>\n",
       "</li>\n",
       "\t<li><style>\n",
       ".dl-inline {width: auto; margin:0; padding: 0}\n",
       ".dl-inline>dt, .dl-inline>dd {float: none; width: auto; display: inline-block}\n",
       ".dl-inline>dt::after {content: \":\\0020\"; padding-right: .5ex}\n",
       ".dl-inline>dt:not(:first-of-type) {padding-left: .5ex}\n",
       "</style><dl class=dl-inline><dt>F1</dt><dd>-1.824</dd><dt>F2</dt><dd>11.192</dd><dt>F3</dt><dd>-38.08</dd><dt>F4</dt><dd>5.36</dd><dt>F5</dt><dd>-21.176</dd></dl>\n",
       "</li>\n",
       "\t<li><style>\n",
       ".dl-inline {width: auto; margin:0; padding: 0}\n",
       ".dl-inline>dt, .dl-inline>dd {float: none; width: auto; display: inline-block}\n",
       ".dl-inline>dt::after {content: \":\\0020\"; padding-right: .5ex}\n",
       ".dl-inline>dt:not(:first-of-type) {padding-left: .5ex}\n",
       "</style><dl class=dl-inline><dt>F1</dt><dd>-1.628</dd><dt>F2</dt><dd>10.119</dd><dt>F3</dt><dd>-31.107</dd><dt>F4</dt><dd>5.598</dd><dt>F5</dt><dd>-17.216</dd></dl>\n",
       "</li>\n",
       "\t<li><style>\n",
       ".dl-inline {width: auto; margin:0; padding: 0}\n",
       ".dl-inline>dt, .dl-inline>dd {float: none; width: auto; display: inline-block}\n",
       ".dl-inline>dt::after {content: \":\\0020\"; padding-right: .5ex}\n",
       ".dl-inline>dt:not(:first-of-type) {padding-left: .5ex}\n",
       "</style><dl class=dl-inline><dt>F1</dt><dd>-4.02</dd><dt>F2</dt><dd>-1.098</dd><dt>F3</dt><dd>-4.704</dd><dt>F4</dt><dd>3.723</dd><dt>F5</dt><dd>-5.319</dd></dl>\n",
       "</li>\n",
       "\t<li><style>\n",
       ".dl-inline {width: auto; margin:0; padding: 0}\n",
       ".dl-inline>dt, .dl-inline>dd {float: none; width: auto; display: inline-block}\n",
       ".dl-inline>dt::after {content: \":\\0020\"; padding-right: .5ex}\n",
       ".dl-inline>dt:not(:first-of-type) {padding-left: .5ex}\n",
       "</style><dl class=dl-inline><dt>F1</dt><dd>-1.641</dd><dt>F2</dt><dd>2.804</dd><dt>F3</dt><dd>8.853</dd><dt>F4</dt><dd>2.802</dd><dt>F5</dt><dd>6.363</dd></dl>\n",
       "</li>\n",
       "\t<li><style>\n",
       ".dl-inline {width: auto; margin:0; padding: 0}\n",
       ".dl-inline>dt, .dl-inline>dd {float: none; width: auto; display: inline-block}\n",
       ".dl-inline>dt::after {content: \":\\0020\"; padding-right: .5ex}\n",
       ".dl-inline>dt:not(:first-of-type) {padding-left: .5ex}\n",
       "</style><dl class=dl-inline><dt>F1</dt><dd>-1.992</dd><dt>F2</dt><dd>5.916</dd><dt>F3</dt><dd>5.914</dd><dt>F4</dt><dd>8.501</dd><dt>F5</dt><dd>12.159</dd></dl>\n",
       "</li>\n",
       "\t<li><style>\n",
       ".dl-inline {width: auto; margin:0; padding: 0}\n",
       ".dl-inline>dt, .dl-inline>dd {float: none; width: auto; display: inline-block}\n",
       ".dl-inline>dt::after {content: \":\\0020\"; padding-right: .5ex}\n",
       ".dl-inline>dt:not(:first-of-type) {padding-left: .5ex}\n",
       "</style><dl class=dl-inline><dt>F1</dt><dd>-0.0699999999999999</dd><dt>F2</dt><dd>3.896</dd><dt>F3</dt><dd>0.465</dd><dt>F4</dt><dd>6.168</dd><dt>F5</dt><dd>3.685</dd></dl>\n",
       "</li>\n",
       "\t<li><style>\n",
       ".dl-inline {width: auto; margin:0; padding: 0}\n",
       ".dl-inline>dt, .dl-inline>dd {float: none; width: auto; display: inline-block}\n",
       ".dl-inline>dt::after {content: \":\\0020\"; padding-right: .5ex}\n",
       ".dl-inline>dt:not(:first-of-type) {padding-left: .5ex}\n",
       "</style><dl class=dl-inline><dt>F1</dt><dd>-0.0500000000000001</dd><dt>F2</dt><dd>5.755</dd><dt>F3</dt><dd>-0.396</dd><dt>F4</dt><dd>4.063</dd><dt>F5</dt><dd>-0.284</dd></dl>\n",
       "</li>\n",
       "\t<li><style>\n",
       ".dl-inline {width: auto; margin:0; padding: 0}\n",
       ".dl-inline>dt, .dl-inline>dd {float: none; width: auto; display: inline-block}\n",
       ".dl-inline>dt::after {content: \":\\0020\"; padding-right: .5ex}\n",
       ".dl-inline>dt:not(:first-of-type) {padding-left: .5ex}\n",
       "</style><dl class=dl-inline><dt>F1</dt><dd>-1.262</dd><dt>F2</dt><dd>6.177</dd><dt>F3</dt><dd>-5.539</dd><dt>F4</dt><dd>5.904</dd><dt>F5</dt><dd>-0.707999999999999</dd></dl>\n",
       "</li>\n",
       "\t<li><style>\n",
       ".dl-inline {width: auto; margin:0; padding: 0}\n",
       ".dl-inline>dt, .dl-inline>dd {float: none; width: auto; display: inline-block}\n",
       ".dl-inline>dt::after {content: \":\\0020\"; padding-right: .5ex}\n",
       ".dl-inline>dt:not(:first-of-type) {padding-left: .5ex}\n",
       "</style><dl class=dl-inline><dt>F1</dt><dd>4.481</dd><dt>F2</dt><dd>2.178</dd><dt>F3</dt><dd>-3.613</dd><dt>F4</dt><dd>1.208</dd><dt>F5</dt><dd>-6.452</dd></dl>\n",
       "</li>\n",
       "\t<li><style>\n",
       ".dl-inline {width: auto; margin:0; padding: 0}\n",
       ".dl-inline>dt, .dl-inline>dd {float: none; width: auto; display: inline-block}\n",
       ".dl-inline>dt::after {content: \":\\0020\"; padding-right: .5ex}\n",
       ".dl-inline>dt:not(:first-of-type) {padding-left: .5ex}\n",
       "</style><dl class=dl-inline><dt>F1</dt><dd>4.827</dd><dt>F2</dt><dd>1.673</dd><dt>F3</dt><dd>6.87</dd><dt>F4</dt><dd>3.515</dd><dt>F5</dt><dd>1.129</dd></dl>\n",
       "</li>\n",
       "\t<li><style>\n",
       ".dl-inline {width: auto; margin:0; padding: 0}\n",
       ".dl-inline>dt, .dl-inline>dd {float: none; width: auto; display: inline-block}\n",
       ".dl-inline>dt::after {content: \":\\0020\"; padding-right: .5ex}\n",
       ".dl-inline>dt:not(:first-of-type) {padding-left: .5ex}\n",
       "</style><dl class=dl-inline><dt>F1</dt><dd>-2.094</dd><dt>F2</dt><dd>-5.347</dd><dt>F3</dt><dd>-12.132</dd><dt>F4</dt><dd>4.252</dd><dt>F5</dt><dd>-7.625</dd></dl>\n",
       "</li>\n",
       "\t<li><style>\n",
       ".dl-inline {width: auto; margin:0; padding: 0}\n",
       ".dl-inline>dt, .dl-inline>dd {float: none; width: auto; display: inline-block}\n",
       ".dl-inline>dt::after {content: \":\\0020\"; padding-right: .5ex}\n",
       ".dl-inline>dt:not(:first-of-type) {padding-left: .5ex}\n",
       "</style><dl class=dl-inline><dt>F1</dt><dd>-0.3</dd><dt>F2</dt><dd>1.306</dd><dt>F3</dt><dd>12.824</dd><dt>F4</dt><dd>-7.094</dd><dt>F5</dt><dd>6.716</dd></dl>\n",
       "</li>\n",
       "\t<li><style>\n",
       ".dl-inline {width: auto; margin:0; padding: 0}\n",
       ".dl-inline>dt, .dl-inline>dd {float: none; width: auto; display: inline-block}\n",
       ".dl-inline>dt::after {content: \":\\0020\"; padding-right: .5ex}\n",
       ".dl-inline>dt:not(:first-of-type) {padding-left: .5ex}\n",
       "</style><dl class=dl-inline><dt>F1</dt><dd>-8.048</dd><dt>F2</dt><dd>-4.72</dd><dt>F3</dt><dd>15.128</dd><dt>F4</dt><dd>-3.176</dd><dt>F5</dt><dd>3.296</dd></dl>\n",
       "</li>\n",
       "</ol>\n"
      ],
      "text/latex": [
       "\\begin{enumerate}\n",
       "\\item \\begin{description*}\n",
       "\\item[F1] -10.744\n",
       "\\item[F2] 3.72\n",
       "\\item[F3] -6.896\n",
       "\\item[F4] -8.16\n",
       "\\item[F5] -2.04\n",
       "\\end{description*}\n",
       "\n",
       "\\item \\begin{description*}\n",
       "\\item[F1] -4.728\n",
       "\\item[F2] -10.416\n",
       "\\item[F3] -5.864\n",
       "\\item[F4] 12.56\n",
       "\\item[F5] -1.168\n",
       "\\end{description*}\n",
       "\n",
       "\\item \\begin{description*}\n",
       "\\item[F1] -1.824\n",
       "\\item[F2] 11.192\n",
       "\\item[F3] -38.08\n",
       "\\item[F4] 5.36\n",
       "\\item[F5] -21.176\n",
       "\\end{description*}\n",
       "\n",
       "\\item \\begin{description*}\n",
       "\\item[F1] -1.628\n",
       "\\item[F2] 10.119\n",
       "\\item[F3] -31.107\n",
       "\\item[F4] 5.598\n",
       "\\item[F5] -17.216\n",
       "\\end{description*}\n",
       "\n",
       "\\item \\begin{description*}\n",
       "\\item[F1] -4.02\n",
       "\\item[F2] -1.098\n",
       "\\item[F3] -4.704\n",
       "\\item[F4] 3.723\n",
       "\\item[F5] -5.319\n",
       "\\end{description*}\n",
       "\n",
       "\\item \\begin{description*}\n",
       "\\item[F1] -1.641\n",
       "\\item[F2] 2.804\n",
       "\\item[F3] 8.853\n",
       "\\item[F4] 2.802\n",
       "\\item[F5] 6.363\n",
       "\\end{description*}\n",
       "\n",
       "\\item \\begin{description*}\n",
       "\\item[F1] -1.992\n",
       "\\item[F2] 5.916\n",
       "\\item[F3] 5.914\n",
       "\\item[F4] 8.501\n",
       "\\item[F5] 12.159\n",
       "\\end{description*}\n",
       "\n",
       "\\item \\begin{description*}\n",
       "\\item[F1] -0.0699999999999999\n",
       "\\item[F2] 3.896\n",
       "\\item[F3] 0.465\n",
       "\\item[F4] 6.168\n",
       "\\item[F5] 3.685\n",
       "\\end{description*}\n",
       "\n",
       "\\item \\begin{description*}\n",
       "\\item[F1] -0.0500000000000001\n",
       "\\item[F2] 5.755\n",
       "\\item[F3] -0.396\n",
       "\\item[F4] 4.063\n",
       "\\item[F5] -0.284\n",
       "\\end{description*}\n",
       "\n",
       "\\item \\begin{description*}\n",
       "\\item[F1] -1.262\n",
       "\\item[F2] 6.177\n",
       "\\item[F3] -5.539\n",
       "\\item[F4] 5.904\n",
       "\\item[F5] -0.707999999999999\n",
       "\\end{description*}\n",
       "\n",
       "\\item \\begin{description*}\n",
       "\\item[F1] 4.481\n",
       "\\item[F2] 2.178\n",
       "\\item[F3] -3.613\n",
       "\\item[F4] 1.208\n",
       "\\item[F5] -6.452\n",
       "\\end{description*}\n",
       "\n",
       "\\item \\begin{description*}\n",
       "\\item[F1] 4.827\n",
       "\\item[F2] 1.673\n",
       "\\item[F3] 6.87\n",
       "\\item[F4] 3.515\n",
       "\\item[F5] 1.129\n",
       "\\end{description*}\n",
       "\n",
       "\\item \\begin{description*}\n",
       "\\item[F1] -2.094\n",
       "\\item[F2] -5.347\n",
       "\\item[F3] -12.132\n",
       "\\item[F4] 4.252\n",
       "\\item[F5] -7.625\n",
       "\\end{description*}\n",
       "\n",
       "\\item \\begin{description*}\n",
       "\\item[F1] -0.3\n",
       "\\item[F2] 1.306\n",
       "\\item[F3] 12.824\n",
       "\\item[F4] -7.094\n",
       "\\item[F5] 6.716\n",
       "\\end{description*}\n",
       "\n",
       "\\item \\begin{description*}\n",
       "\\item[F1] -8.048\n",
       "\\item[F2] -4.72\n",
       "\\item[F3] 15.128\n",
       "\\item[F4] -3.176\n",
       "\\item[F5] 3.296\n",
       "\\end{description*}\n",
       "\n",
       "\\end{enumerate}\n"
      ],
      "text/markdown": [
       "1. F1\n",
       ":   -10.744F2\n",
       ":   3.72F3\n",
       ":   -6.896F4\n",
       ":   -8.16F5\n",
       ":   -2.04\n",
       "\n",
       "\n",
       "2. F1\n",
       ":   -4.728F2\n",
       ":   -10.416F3\n",
       ":   -5.864F4\n",
       ":   12.56F5\n",
       ":   -1.168\n",
       "\n",
       "\n",
       "3. F1\n",
       ":   -1.824F2\n",
       ":   11.192F3\n",
       ":   -38.08F4\n",
       ":   5.36F5\n",
       ":   -21.176\n",
       "\n",
       "\n",
       "4. F1\n",
       ":   -1.628F2\n",
       ":   10.119F3\n",
       ":   -31.107F4\n",
       ":   5.598F5\n",
       ":   -17.216\n",
       "\n",
       "\n",
       "5. F1\n",
       ":   -4.02F2\n",
       ":   -1.098F3\n",
       ":   -4.704F4\n",
       ":   3.723F5\n",
       ":   -5.319\n",
       "\n",
       "\n",
       "6. F1\n",
       ":   -1.641F2\n",
       ":   2.804F3\n",
       ":   8.853F4\n",
       ":   2.802F5\n",
       ":   6.363\n",
       "\n",
       "\n",
       "7. F1\n",
       ":   -1.992F2\n",
       ":   5.916F3\n",
       ":   5.914F4\n",
       ":   8.501F5\n",
       ":   12.159\n",
       "\n",
       "\n",
       "8. F1\n",
       ":   -0.0699999999999999F2\n",
       ":   3.896F3\n",
       ":   0.465F4\n",
       ":   6.168F5\n",
       ":   3.685\n",
       "\n",
       "\n",
       "9. F1\n",
       ":   -0.0500000000000001F2\n",
       ":   5.755F3\n",
       ":   -0.396F4\n",
       ":   4.063F5\n",
       ":   -0.284\n",
       "\n",
       "\n",
       "10. F1\n",
       ":   -1.262F2\n",
       ":   6.177F3\n",
       ":   -5.539F4\n",
       ":   5.904F5\n",
       ":   -0.707999999999999\n",
       "\n",
       "\n",
       "11. F1\n",
       ":   4.481F2\n",
       ":   2.178F3\n",
       ":   -3.613F4\n",
       ":   1.208F5\n",
       ":   -6.452\n",
       "\n",
       "\n",
       "12. F1\n",
       ":   4.827F2\n",
       ":   1.673F3\n",
       ":   6.87F4\n",
       ":   3.515F5\n",
       ":   1.129\n",
       "\n",
       "\n",
       "13. F1\n",
       ":   -2.094F2\n",
       ":   -5.347F3\n",
       ":   -12.132F4\n",
       ":   4.252F5\n",
       ":   -7.625\n",
       "\n",
       "\n",
       "14. F1\n",
       ":   -0.3F2\n",
       ":   1.306F3\n",
       ":   12.824F4\n",
       ":   -7.094F5\n",
       ":   6.716\n",
       "\n",
       "\n",
       "15. F1\n",
       ":   -8.048F2\n",
       ":   -4.72F3\n",
       ":   15.128F4\n",
       ":   -3.176F5\n",
       ":   3.296\n",
       "\n",
       "\n",
       "\n",
       "\n"
      ],
      "text/plain": [
       "[[1]]\n",
       "     F1      F2      F3      F4      F5 \n",
       "-10.744   3.720  -6.896  -8.160  -2.040 \n",
       "\n",
       "[[2]]\n",
       "     F1      F2      F3      F4      F5 \n",
       " -4.728 -10.416  -5.864  12.560  -1.168 \n",
       "\n",
       "[[3]]\n",
       "     F1      F2      F3      F4      F5 \n",
       " -1.824  11.192 -38.080   5.360 -21.176 \n",
       "\n",
       "[[4]]\n",
       "     F1      F2      F3      F4      F5 \n",
       " -1.628  10.119 -31.107   5.598 -17.216 \n",
       "\n",
       "[[5]]\n",
       "    F1     F2     F3     F4     F5 \n",
       "-4.020 -1.098 -4.704  3.723 -5.319 \n",
       "\n",
       "[[6]]\n",
       "    F1     F2     F3     F4     F5 \n",
       "-1.641  2.804  8.853  2.802  6.363 \n",
       "\n",
       "[[7]]\n",
       "    F1     F2     F3     F4     F5 \n",
       "-1.992  5.916  5.914  8.501 12.159 \n",
       "\n",
       "[[8]]\n",
       "    F1     F2     F3     F4     F5 \n",
       "-0.070  3.896  0.465  6.168  3.685 \n",
       "\n",
       "[[9]]\n",
       "    F1     F2     F3     F4     F5 \n",
       "-0.050  5.755 -0.396  4.063 -0.284 \n",
       "\n",
       "[[10]]\n",
       "    F1     F2     F3     F4     F5 \n",
       "-1.262  6.177 -5.539  5.904 -0.708 \n",
       "\n",
       "[[11]]\n",
       "    F1     F2     F3     F4     F5 \n",
       " 4.481  2.178 -3.613  1.208 -6.452 \n",
       "\n",
       "[[12]]\n",
       "   F1    F2    F3    F4    F5 \n",
       "4.827 1.673 6.870 3.515 1.129 \n",
       "\n",
       "[[13]]\n",
       "     F1      F2      F3      F4      F5 \n",
       " -2.094  -5.347 -12.132   4.252  -7.625 \n",
       "\n",
       "[[14]]\n",
       "    F1     F2     F3     F4     F5 \n",
       "-0.300  1.306 12.824 -7.094  6.716 \n",
       "\n",
       "[[15]]\n",
       "    F1     F2     F3     F4     F5 \n",
       "-8.048 -4.720 15.128 -3.176  3.296 \n"
      ]
     },
     "metadata": {},
     "output_type": "display_data"
    }
   ],
   "source": [
    "sum_features_aaP"
   ]
  },
  {
   "cell_type": "code",
   "execution_count": 18,
   "metadata": {},
   "outputs": [],
   "source": []
  },
  {
   "cell_type": "code",
   "execution_count": null,
   "metadata": {},
   "outputs": [],
   "source": []
  },
  {
   "cell_type": "code",
   "execution_count": null,
   "metadata": {},
   "outputs": [],
   "source": []
  },
  {
   "cell_type": "code",
   "execution_count": null,
   "metadata": {},
   "outputs": [],
   "source": []
  },
  {
   "cell_type": "code",
   "execution_count": null,
   "metadata": {},
   "outputs": [],
   "source": []
  },
  {
   "cell_type": "markdown",
   "metadata": {},
   "source": [
    "# NMI"
   ]
  },
  {
   "cell_type": "code",
   "execution_count": 28,
   "metadata": {},
   "outputs": [],
   "source": [
    "mat <- sapply(as.character(c(\"CASSFYGREADTQYF\", \"CASSVVGVYNSPLHF\", \"CASSLTRPSGNTIYF\",\n",
    "                            \"CASSYQAGVGETQYF\")), function(x){\n",
    "      x <- as.character(x);\n",
    "      x <- strsplit(x, \"\");\n",
    "      x <- unlist( x )\n",
    "   })\n",
    "\n",
    "mat <- t(mat)"
   ]
  },
  {
   "cell_type": "code",
   "execution_count": 29,
   "metadata": {},
   "outputs": [
    {
     "name": "stdout",
     "output_type": "stream",
     "text": [
      "[1] \"1:1\"\n",
      "[1] \"1:2\"\n",
      "[1] \"1:3\"\n",
      "[1] \"1:4\"\n",
      "[1] \"1:5\"\n",
      "[1] \"1:6\"\n",
      "[1] \"1:7\"\n",
      "[1] \"1:8\"\n",
      "[1] \"1:9\"\n",
      "[1] \"1:10\"\n",
      "[1] \"1:11\"\n",
      "[1] \"1:12\"\n",
      "[1] \"1:13\"\n",
      "[1] \"1:14\"\n",
      "[1] \"1:15\"\n",
      "[1] \"2:1\"\n",
      "[1] \"2:2\"\n",
      "[1] \"2:3\"\n",
      "[1] \"2:4\"\n",
      "[1] \"2:5\"\n",
      "[1] \"2:6\"\n",
      "[1] \"2:7\"\n",
      "[1] \"2:8\"\n",
      "[1] \"2:9\"\n",
      "[1] \"2:10\"\n",
      "[1] \"2:11\"\n",
      "[1] \"2:12\"\n",
      "[1] \"2:13\"\n",
      "[1] \"2:14\"\n",
      "[1] \"2:15\"\n",
      "[1] \"3:1\"\n",
      "[1] \"3:2\"\n",
      "[1] \"3:3\"\n",
      "[1] \"3:4\"\n",
      "[1] \"3:5\"\n",
      "[1] \"3:6\"\n",
      "[1] \"3:7\"\n",
      "[1] \"3:8\"\n",
      "[1] \"3:9\"\n",
      "[1] \"3:10\"\n",
      "[1] \"3:11\"\n",
      "[1] \"3:12\"\n",
      "[1] \"3:13\"\n",
      "[1] \"3:14\"\n",
      "[1] \"3:15\"\n",
      "[1] \"4:1\"\n",
      "[1] \"4:2\"\n",
      "[1] \"4:3\"\n",
      "[1] \"4:4\"\n",
      "[1] \"4:5\"\n",
      "[1] \"4:6\"\n",
      "[1] \"4:7\"\n",
      "[1] \"4:8\"\n",
      "[1] \"4:9\"\n",
      "[1] \"4:10\"\n",
      "[1] \"4:11\"\n",
      "[1] \"4:12\"\n",
      "[1] \"4:13\"\n",
      "[1] \"4:14\"\n",
      "[1] \"4:15\"\n",
      "[1] \"5:1\"\n",
      "[1] \"5:2\"\n",
      "[1] \"5:3\"\n",
      "[1] \"5:4\"\n",
      "[1] \"5:5\"\n",
      "[1] \"5:6\"\n",
      "[1] \"5:7\"\n",
      "[1] \"5:8\"\n",
      "[1] \"5:9\"\n",
      "[1] \"5:10\"\n",
      "[1] \"5:11\"\n",
      "[1] \"5:12\"\n",
      "[1] \"5:13\"\n",
      "[1] \"5:14\"\n",
      "[1] \"5:15\"\n",
      "[1] \"6:1\"\n",
      "[1] \"6:2\"\n",
      "[1] \"6:3\"\n",
      "[1] \"6:4\"\n",
      "[1] \"6:5\"\n",
      "[1] \"6:6\"\n",
      "[1] \"6:7\"\n",
      "[1] \"6:8\"\n",
      "[1] \"6:9\"\n",
      "[1] \"6:10\"\n",
      "[1] \"6:11\"\n",
      "[1] \"6:12\"\n",
      "[1] \"6:13\"\n",
      "[1] \"6:14\"\n",
      "[1] \"6:15\"\n",
      "[1] \"7:1\"\n",
      "[1] \"7:2\"\n",
      "[1] \"7:3\"\n",
      "[1] \"7:4\"\n",
      "[1] \"7:5\"\n",
      "[1] \"7:6\"\n",
      "[1] \"7:7\"\n",
      "[1] \"7:8\"\n",
      "[1] \"7:9\"\n",
      "[1] \"7:10\"\n",
      "[1] \"7:11\"\n",
      "[1] \"7:12\"\n",
      "[1] \"7:13\"\n",
      "[1] \"7:14\"\n",
      "[1] \"7:15\"\n",
      "[1] \"8:1\"\n",
      "[1] \"8:2\"\n",
      "[1] \"8:3\"\n",
      "[1] \"8:4\"\n",
      "[1] \"8:5\"\n",
      "[1] \"8:6\"\n",
      "[1] \"8:7\"\n",
      "[1] \"8:8\"\n",
      "[1] \"8:9\"\n",
      "[1] \"8:10\"\n",
      "[1] \"8:11\"\n",
      "[1] \"8:12\"\n",
      "[1] \"8:13\"\n",
      "[1] \"8:14\"\n",
      "[1] \"8:15\"\n",
      "[1] \"9:1\"\n",
      "[1] \"9:2\"\n",
      "[1] \"9:3\"\n",
      "[1] \"9:4\"\n",
      "[1] \"9:5\"\n",
      "[1] \"9:6\"\n",
      "[1] \"9:7\"\n",
      "[1] \"9:8\"\n",
      "[1] \"9:9\"\n",
      "[1] \"9:10\"\n",
      "[1] \"9:11\"\n",
      "[1] \"9:12\"\n",
      "[1] \"9:13\"\n",
      "[1] \"9:14\"\n",
      "[1] \"9:15\"\n",
      "[1] \"10:1\"\n",
      "[1] \"10:2\"\n",
      "[1] \"10:3\"\n",
      "[1] \"10:4\"\n",
      "[1] \"10:5\"\n",
      "[1] \"10:6\"\n",
      "[1] \"10:7\"\n",
      "[1] \"10:8\"\n",
      "[1] \"10:9\"\n",
      "[1] \"10:10\"\n",
      "[1] \"10:11\"\n",
      "[1] \"10:12\"\n",
      "[1] \"10:13\"\n",
      "[1] \"10:14\"\n",
      "[1] \"10:15\"\n",
      "[1] \"11:1\"\n",
      "[1] \"11:2\"\n",
      "[1] \"11:3\"\n",
      "[1] \"11:4\"\n",
      "[1] \"11:5\"\n",
      "[1] \"11:6\"\n",
      "[1] \"11:7\"\n",
      "[1] \"11:8\"\n",
      "[1] \"11:9\"\n",
      "[1] \"11:10\"\n",
      "[1] \"11:11\"\n",
      "[1] \"11:12\"\n",
      "[1] \"11:13\"\n",
      "[1] \"11:14\"\n",
      "[1] \"11:15\"\n",
      "[1] \"12:1\"\n",
      "[1] \"12:2\"\n",
      "[1] \"12:3\"\n",
      "[1] \"12:4\"\n",
      "[1] \"12:5\"\n",
      "[1] \"12:6\"\n",
      "[1] \"12:7\"\n",
      "[1] \"12:8\"\n",
      "[1] \"12:9\"\n",
      "[1] \"12:10\"\n",
      "[1] \"12:11\"\n",
      "[1] \"12:12\"\n",
      "[1] \"12:13\"\n",
      "[1] \"12:14\"\n",
      "[1] \"12:15\"\n",
      "[1] \"13:1\"\n",
      "[1] \"13:2\"\n",
      "[1] \"13:3\"\n",
      "[1] \"13:4\"\n",
      "[1] \"13:5\"\n",
      "[1] \"13:6\"\n",
      "[1] \"13:7\"\n",
      "[1] \"13:8\"\n",
      "[1] \"13:9\"\n",
      "[1] \"13:10\"\n",
      "[1] \"13:11\"\n",
      "[1] \"13:12\"\n",
      "[1] \"13:13\"\n",
      "[1] \"13:14\"\n",
      "[1] \"13:15\"\n",
      "[1] \"14:1\"\n",
      "[1] \"14:2\"\n",
      "[1] \"14:3\"\n",
      "[1] \"14:4\"\n",
      "[1] \"14:5\"\n",
      "[1] \"14:6\"\n",
      "[1] \"14:7\"\n",
      "[1] \"14:8\"\n",
      "[1] \"14:9\"\n",
      "[1] \"14:10\"\n",
      "[1] \"14:11\"\n",
      "[1] \"14:12\"\n",
      "[1] \"14:13\"\n",
      "[1] \"14:14\"\n",
      "[1] \"14:15\"\n",
      "[1] \"15:1\"\n",
      "[1] \"15:2\"\n",
      "[1] \"15:3\"\n",
      "[1] \"15:4\"\n",
      "[1] \"15:5\"\n",
      "[1] \"15:6\"\n",
      "[1] \"15:7\"\n",
      "[1] \"15:8\"\n",
      "[1] \"15:9\"\n",
      "[1] \"15:10\"\n",
      "[1] \"15:11\"\n",
      "[1] \"15:12\"\n",
      "[1] \"15:13\"\n",
      "[1] \"15:14\"\n",
      "[1] \"15:15\"\n"
     ]
    }
   ],
   "source": [
    " res <- data.frame()\n",
    "   for( i in 1:15 ){\n",
    "   for( k in 1:15 ){\n",
    "      print(paste0( i, \":\", k))\n",
    "      d1 <- mat[, c(i,k)]\n",
    "      d1 <- as.data.frame(d1)\n",
    "      colnames(d1) <- c(\"X\",\"Y\")\n",
    "      d1 <- d1[ d1$X!=\"NA\" &  d1$Y!=\"NA\",] #revemo NA\n",
    "      \n",
    "      xlist <- as.character( unique(d1$X) )\n",
    "      ylist <- as.character( unique(d1$Y) )\n",
    "      \n",
    "      #make frequency table\n",
    "      freq <- matrix(0, nrow=length(xlist), ncol=length(ylist))\n",
    "      row.names(freq) <- xlist\n",
    "      colnames(freq) <- ylist\n",
    "      \n",
    "      for( x in xlist ){\n",
    "      for( y in ylist ){\n",
    "         both <- subset(d1, X==x & Y==y)\n",
    "         freq[ x, y ] <- nrow( both )\n",
    "      }\n",
    "      }\n",
    "      \n",
    "      MI <- mi.empirical(freq, unit=c(\"log\"))\n",
    "      Hx <- entropy.empirical( colSums(freq) )\n",
    "      Hy <- entropy.empirical( rowSums(freq) )\n",
    "      NMI <- 2 * MI / ( Hx + Hy ) #normalized mutual entropy\n",
    "      \n",
    "      dump <- data.frame(i, k, MI, Hx, Hy, NMI)\n",
    "      res <- rbind(res, dump)\n",
    "      \n",
    "   }\n",
    "   }"
   ]
  },
  {
   "cell_type": "code",
   "execution_count": 34,
   "metadata": {},
   "outputs": [
    {
     "data": {
      "text/html": [
       "<table class=\"dataframe\">\n",
       "<caption>A data.frame: 225 × 6</caption>\n",
       "<thead>\n",
       "\t<tr><th scope=col>i</th><th scope=col>k</th><th scope=col>MI</th><th scope=col>Hx</th><th scope=col>Hy</th><th scope=col>NMI</th></tr>\n",
       "\t<tr><th scope=col>&lt;int&gt;</th><th scope=col>&lt;int&gt;</th><th scope=col>&lt;dbl&gt;</th><th scope=col>&lt;dbl&gt;</th><th scope=col>&lt;dbl&gt;</th><th scope=col>&lt;dbl&gt;</th></tr>\n",
       "</thead>\n",
       "<tbody>\n",
       "\t<tr><td>1</td><td> 1</td><td>0</td><td>0.0000000</td><td>0</td><td>NaN</td></tr>\n",
       "\t<tr><td>1</td><td> 2</td><td>0</td><td>0.0000000</td><td>0</td><td>NaN</td></tr>\n",
       "\t<tr><td>1</td><td> 3</td><td>0</td><td>0.0000000</td><td>0</td><td>NaN</td></tr>\n",
       "\t<tr><td>1</td><td> 4</td><td>0</td><td>0.0000000</td><td>0</td><td>NaN</td></tr>\n",
       "\t<tr><td>1</td><td> 5</td><td>0</td><td>1.3862944</td><td>0</td><td>  0</td></tr>\n",
       "\t<tr><td>1</td><td> 6</td><td>0</td><td>1.3862944</td><td>0</td><td>  0</td></tr>\n",
       "\t<tr><td>1</td><td> 7</td><td>0</td><td>1.0397208</td><td>0</td><td>  0</td></tr>\n",
       "\t<tr><td>1</td><td> 8</td><td>0</td><td>1.3862944</td><td>0</td><td>  0</td></tr>\n",
       "\t<tr><td>1</td><td> 9</td><td>0</td><td>1.3862944</td><td>0</td><td>  0</td></tr>\n",
       "\t<tr><td>1</td><td>10</td><td>0</td><td>1.0397208</td><td>0</td><td>  0</td></tr>\n",
       "\t<tr><td>1</td><td>11</td><td>0</td><td>1.3862944</td><td>0</td><td>  0</td></tr>\n",
       "\t<tr><td>1</td><td>12</td><td>0</td><td>0.5623351</td><td>0</td><td>  0</td></tr>\n",
       "\t<tr><td>1</td><td>13</td><td>0</td><td>1.0397208</td><td>0</td><td>  0</td></tr>\n",
       "\t<tr><td>1</td><td>14</td><td>0</td><td>0.5623351</td><td>0</td><td>  0</td></tr>\n",
       "\t<tr><td>1</td><td>15</td><td>0</td><td>0.0000000</td><td>0</td><td>NaN</td></tr>\n",
       "\t<tr><td>2</td><td> 1</td><td>0</td><td>0.0000000</td><td>0</td><td>NaN</td></tr>\n",
       "\t<tr><td>2</td><td> 2</td><td>0</td><td>0.0000000</td><td>0</td><td>NaN</td></tr>\n",
       "\t<tr><td>2</td><td> 3</td><td>0</td><td>0.0000000</td><td>0</td><td>NaN</td></tr>\n",
       "\t<tr><td>2</td><td> 4</td><td>0</td><td>0.0000000</td><td>0</td><td>NaN</td></tr>\n",
       "\t<tr><td>2</td><td> 5</td><td>0</td><td>1.3862944</td><td>0</td><td>  0</td></tr>\n",
       "\t<tr><td>2</td><td> 6</td><td>0</td><td>1.3862944</td><td>0</td><td>  0</td></tr>\n",
       "\t<tr><td>2</td><td> 7</td><td>0</td><td>1.0397208</td><td>0</td><td>  0</td></tr>\n",
       "\t<tr><td>2</td><td> 8</td><td>0</td><td>1.3862944</td><td>0</td><td>  0</td></tr>\n",
       "\t<tr><td>2</td><td> 9</td><td>0</td><td>1.3862944</td><td>0</td><td>  0</td></tr>\n",
       "\t<tr><td>2</td><td>10</td><td>0</td><td>1.0397208</td><td>0</td><td>  0</td></tr>\n",
       "\t<tr><td>2</td><td>11</td><td>0</td><td>1.3862944</td><td>0</td><td>  0</td></tr>\n",
       "\t<tr><td>2</td><td>12</td><td>0</td><td>0.5623351</td><td>0</td><td>  0</td></tr>\n",
       "\t<tr><td>2</td><td>13</td><td>0</td><td>1.0397208</td><td>0</td><td>  0</td></tr>\n",
       "\t<tr><td>2</td><td>14</td><td>0</td><td>0.5623351</td><td>0</td><td>  0</td></tr>\n",
       "\t<tr><td>2</td><td>15</td><td>0</td><td>0.0000000</td><td>0</td><td>NaN</td></tr>\n",
       "\t<tr><td>⋮</td><td>⋮</td><td>⋮</td><td>⋮</td><td>⋮</td><td>⋮</td></tr>\n",
       "\t<tr><td>14</td><td> 1</td><td>0.0000000</td><td>0.0000000</td><td>0.5623351</td><td>0.0000000</td></tr>\n",
       "\t<tr><td>14</td><td> 2</td><td>0.0000000</td><td>0.0000000</td><td>0.5623351</td><td>0.0000000</td></tr>\n",
       "\t<tr><td>14</td><td> 3</td><td>0.0000000</td><td>0.0000000</td><td>0.5623351</td><td>0.0000000</td></tr>\n",
       "\t<tr><td>14</td><td> 4</td><td>0.0000000</td><td>0.0000000</td><td>0.5623351</td><td>0.0000000</td></tr>\n",
       "\t<tr><td>14</td><td> 5</td><td>0.5623351</td><td>1.3862944</td><td>0.5623351</td><td>0.5771596</td></tr>\n",
       "\t<tr><td>14</td><td> 6</td><td>0.5623351</td><td>1.3862944</td><td>0.5623351</td><td>0.5771596</td></tr>\n",
       "\t<tr><td>14</td><td> 7</td><td>0.2157616</td><td>1.0397208</td><td>0.5623351</td><td>0.2693558</td></tr>\n",
       "\t<tr><td>14</td><td> 8</td><td>0.5623351</td><td>1.3862944</td><td>0.5623351</td><td>0.5771596</td></tr>\n",
       "\t<tr><td>14</td><td> 9</td><td>0.5623351</td><td>1.3862944</td><td>0.5623351</td><td>0.5771596</td></tr>\n",
       "\t<tr><td>14</td><td>10</td><td>0.5623351</td><td>1.0397208</td><td>0.5623351</td><td>0.7020169</td></tr>\n",
       "\t<tr><td>14</td><td>11</td><td>0.5623351</td><td>1.3862944</td><td>0.5623351</td><td>0.5771596</td></tr>\n",
       "\t<tr><td>14</td><td>12</td><td>0.5623351</td><td>0.5623351</td><td>0.5623351</td><td>1.0000000</td></tr>\n",
       "\t<tr><td>14</td><td>13</td><td>0.5623351</td><td>1.0397208</td><td>0.5623351</td><td>0.7020169</td></tr>\n",
       "\t<tr><td>14</td><td>14</td><td>0.5623351</td><td>0.5623351</td><td>0.5623351</td><td>1.0000000</td></tr>\n",
       "\t<tr><td>14</td><td>15</td><td>0.0000000</td><td>0.0000000</td><td>0.5623351</td><td>0.0000000</td></tr>\n",
       "\t<tr><td>15</td><td> 1</td><td>0.0000000</td><td>0.0000000</td><td>0.0000000</td><td>      NaN</td></tr>\n",
       "\t<tr><td>15</td><td> 2</td><td>0.0000000</td><td>0.0000000</td><td>0.0000000</td><td>      NaN</td></tr>\n",
       "\t<tr><td>15</td><td> 3</td><td>0.0000000</td><td>0.0000000</td><td>0.0000000</td><td>      NaN</td></tr>\n",
       "\t<tr><td>15</td><td> 4</td><td>0.0000000</td><td>0.0000000</td><td>0.0000000</td><td>      NaN</td></tr>\n",
       "\t<tr><td>15</td><td> 5</td><td>0.0000000</td><td>1.3862944</td><td>0.0000000</td><td>0.0000000</td></tr>\n",
       "\t<tr><td>15</td><td> 6</td><td>0.0000000</td><td>1.3862944</td><td>0.0000000</td><td>0.0000000</td></tr>\n",
       "\t<tr><td>15</td><td> 7</td><td>0.0000000</td><td>1.0397208</td><td>0.0000000</td><td>0.0000000</td></tr>\n",
       "\t<tr><td>15</td><td> 8</td><td>0.0000000</td><td>1.3862944</td><td>0.0000000</td><td>0.0000000</td></tr>\n",
       "\t<tr><td>15</td><td> 9</td><td>0.0000000</td><td>1.3862944</td><td>0.0000000</td><td>0.0000000</td></tr>\n",
       "\t<tr><td>15</td><td>10</td><td>0.0000000</td><td>1.0397208</td><td>0.0000000</td><td>0.0000000</td></tr>\n",
       "\t<tr><td>15</td><td>11</td><td>0.0000000</td><td>1.3862944</td><td>0.0000000</td><td>0.0000000</td></tr>\n",
       "\t<tr><td>15</td><td>12</td><td>0.0000000</td><td>0.5623351</td><td>0.0000000</td><td>0.0000000</td></tr>\n",
       "\t<tr><td>15</td><td>13</td><td>0.0000000</td><td>1.0397208</td><td>0.0000000</td><td>0.0000000</td></tr>\n",
       "\t<tr><td>15</td><td>14</td><td>0.0000000</td><td>0.5623351</td><td>0.0000000</td><td>0.0000000</td></tr>\n",
       "\t<tr><td>15</td><td>15</td><td>0.0000000</td><td>0.0000000</td><td>0.0000000</td><td>      NaN</td></tr>\n",
       "</tbody>\n",
       "</table>\n"
      ],
      "text/latex": [
       "A data.frame: 225 × 6\n",
       "\\begin{tabular}{llllll}\n",
       " i & k & MI & Hx & Hy & NMI\\\\\n",
       " <int> & <int> & <dbl> & <dbl> & <dbl> & <dbl>\\\\\n",
       "\\hline\n",
       "\t 1 &  1 & 0 & 0.0000000 & 0 & NaN\\\\\n",
       "\t 1 &  2 & 0 & 0.0000000 & 0 & NaN\\\\\n",
       "\t 1 &  3 & 0 & 0.0000000 & 0 & NaN\\\\\n",
       "\t 1 &  4 & 0 & 0.0000000 & 0 & NaN\\\\\n",
       "\t 1 &  5 & 0 & 1.3862944 & 0 &   0\\\\\n",
       "\t 1 &  6 & 0 & 1.3862944 & 0 &   0\\\\\n",
       "\t 1 &  7 & 0 & 1.0397208 & 0 &   0\\\\\n",
       "\t 1 &  8 & 0 & 1.3862944 & 0 &   0\\\\\n",
       "\t 1 &  9 & 0 & 1.3862944 & 0 &   0\\\\\n",
       "\t 1 & 10 & 0 & 1.0397208 & 0 &   0\\\\\n",
       "\t 1 & 11 & 0 & 1.3862944 & 0 &   0\\\\\n",
       "\t 1 & 12 & 0 & 0.5623351 & 0 &   0\\\\\n",
       "\t 1 & 13 & 0 & 1.0397208 & 0 &   0\\\\\n",
       "\t 1 & 14 & 0 & 0.5623351 & 0 &   0\\\\\n",
       "\t 1 & 15 & 0 & 0.0000000 & 0 & NaN\\\\\n",
       "\t 2 &  1 & 0 & 0.0000000 & 0 & NaN\\\\\n",
       "\t 2 &  2 & 0 & 0.0000000 & 0 & NaN\\\\\n",
       "\t 2 &  3 & 0 & 0.0000000 & 0 & NaN\\\\\n",
       "\t 2 &  4 & 0 & 0.0000000 & 0 & NaN\\\\\n",
       "\t 2 &  5 & 0 & 1.3862944 & 0 &   0\\\\\n",
       "\t 2 &  6 & 0 & 1.3862944 & 0 &   0\\\\\n",
       "\t 2 &  7 & 0 & 1.0397208 & 0 &   0\\\\\n",
       "\t 2 &  8 & 0 & 1.3862944 & 0 &   0\\\\\n",
       "\t 2 &  9 & 0 & 1.3862944 & 0 &   0\\\\\n",
       "\t 2 & 10 & 0 & 1.0397208 & 0 &   0\\\\\n",
       "\t 2 & 11 & 0 & 1.3862944 & 0 &   0\\\\\n",
       "\t 2 & 12 & 0 & 0.5623351 & 0 &   0\\\\\n",
       "\t 2 & 13 & 0 & 1.0397208 & 0 &   0\\\\\n",
       "\t 2 & 14 & 0 & 0.5623351 & 0 &   0\\\\\n",
       "\t 2 & 15 & 0 & 0.0000000 & 0 & NaN\\\\\n",
       "\t ⋮ & ⋮ & ⋮ & ⋮ & ⋮ & ⋮\\\\\n",
       "\t 14 &  1 & 0.0000000 & 0.0000000 & 0.5623351 & 0.0000000\\\\\n",
       "\t 14 &  2 & 0.0000000 & 0.0000000 & 0.5623351 & 0.0000000\\\\\n",
       "\t 14 &  3 & 0.0000000 & 0.0000000 & 0.5623351 & 0.0000000\\\\\n",
       "\t 14 &  4 & 0.0000000 & 0.0000000 & 0.5623351 & 0.0000000\\\\\n",
       "\t 14 &  5 & 0.5623351 & 1.3862944 & 0.5623351 & 0.5771596\\\\\n",
       "\t 14 &  6 & 0.5623351 & 1.3862944 & 0.5623351 & 0.5771596\\\\\n",
       "\t 14 &  7 & 0.2157616 & 1.0397208 & 0.5623351 & 0.2693558\\\\\n",
       "\t 14 &  8 & 0.5623351 & 1.3862944 & 0.5623351 & 0.5771596\\\\\n",
       "\t 14 &  9 & 0.5623351 & 1.3862944 & 0.5623351 & 0.5771596\\\\\n",
       "\t 14 & 10 & 0.5623351 & 1.0397208 & 0.5623351 & 0.7020169\\\\\n",
       "\t 14 & 11 & 0.5623351 & 1.3862944 & 0.5623351 & 0.5771596\\\\\n",
       "\t 14 & 12 & 0.5623351 & 0.5623351 & 0.5623351 & 1.0000000\\\\\n",
       "\t 14 & 13 & 0.5623351 & 1.0397208 & 0.5623351 & 0.7020169\\\\\n",
       "\t 14 & 14 & 0.5623351 & 0.5623351 & 0.5623351 & 1.0000000\\\\\n",
       "\t 14 & 15 & 0.0000000 & 0.0000000 & 0.5623351 & 0.0000000\\\\\n",
       "\t 15 &  1 & 0.0000000 & 0.0000000 & 0.0000000 &       NaN\\\\\n",
       "\t 15 &  2 & 0.0000000 & 0.0000000 & 0.0000000 &       NaN\\\\\n",
       "\t 15 &  3 & 0.0000000 & 0.0000000 & 0.0000000 &       NaN\\\\\n",
       "\t 15 &  4 & 0.0000000 & 0.0000000 & 0.0000000 &       NaN\\\\\n",
       "\t 15 &  5 & 0.0000000 & 1.3862944 & 0.0000000 & 0.0000000\\\\\n",
       "\t 15 &  6 & 0.0000000 & 1.3862944 & 0.0000000 & 0.0000000\\\\\n",
       "\t 15 &  7 & 0.0000000 & 1.0397208 & 0.0000000 & 0.0000000\\\\\n",
       "\t 15 &  8 & 0.0000000 & 1.3862944 & 0.0000000 & 0.0000000\\\\\n",
       "\t 15 &  9 & 0.0000000 & 1.3862944 & 0.0000000 & 0.0000000\\\\\n",
       "\t 15 & 10 & 0.0000000 & 1.0397208 & 0.0000000 & 0.0000000\\\\\n",
       "\t 15 & 11 & 0.0000000 & 1.3862944 & 0.0000000 & 0.0000000\\\\\n",
       "\t 15 & 12 & 0.0000000 & 0.5623351 & 0.0000000 & 0.0000000\\\\\n",
       "\t 15 & 13 & 0.0000000 & 1.0397208 & 0.0000000 & 0.0000000\\\\\n",
       "\t 15 & 14 & 0.0000000 & 0.5623351 & 0.0000000 & 0.0000000\\\\\n",
       "\t 15 & 15 & 0.0000000 & 0.0000000 & 0.0000000 &       NaN\\\\\n",
       "\\end{tabular}\n"
      ],
      "text/markdown": [
       "\n",
       "A data.frame: 225 × 6\n",
       "\n",
       "| i &lt;int&gt; | k &lt;int&gt; | MI &lt;dbl&gt; | Hx &lt;dbl&gt; | Hy &lt;dbl&gt; | NMI &lt;dbl&gt; |\n",
       "|---|---|---|---|---|---|\n",
       "| 1 |  1 | 0 | 0.0000000 | 0 | NaN |\n",
       "| 1 |  2 | 0 | 0.0000000 | 0 | NaN |\n",
       "| 1 |  3 | 0 | 0.0000000 | 0 | NaN |\n",
       "| 1 |  4 | 0 | 0.0000000 | 0 | NaN |\n",
       "| 1 |  5 | 0 | 1.3862944 | 0 |   0 |\n",
       "| 1 |  6 | 0 | 1.3862944 | 0 |   0 |\n",
       "| 1 |  7 | 0 | 1.0397208 | 0 |   0 |\n",
       "| 1 |  8 | 0 | 1.3862944 | 0 |   0 |\n",
       "| 1 |  9 | 0 | 1.3862944 | 0 |   0 |\n",
       "| 1 | 10 | 0 | 1.0397208 | 0 |   0 |\n",
       "| 1 | 11 | 0 | 1.3862944 | 0 |   0 |\n",
       "| 1 | 12 | 0 | 0.5623351 | 0 |   0 |\n",
       "| 1 | 13 | 0 | 1.0397208 | 0 |   0 |\n",
       "| 1 | 14 | 0 | 0.5623351 | 0 |   0 |\n",
       "| 1 | 15 | 0 | 0.0000000 | 0 | NaN |\n",
       "| 2 |  1 | 0 | 0.0000000 | 0 | NaN |\n",
       "| 2 |  2 | 0 | 0.0000000 | 0 | NaN |\n",
       "| 2 |  3 | 0 | 0.0000000 | 0 | NaN |\n",
       "| 2 |  4 | 0 | 0.0000000 | 0 | NaN |\n",
       "| 2 |  5 | 0 | 1.3862944 | 0 |   0 |\n",
       "| 2 |  6 | 0 | 1.3862944 | 0 |   0 |\n",
       "| 2 |  7 | 0 | 1.0397208 | 0 |   0 |\n",
       "| 2 |  8 | 0 | 1.3862944 | 0 |   0 |\n",
       "| 2 |  9 | 0 | 1.3862944 | 0 |   0 |\n",
       "| 2 | 10 | 0 | 1.0397208 | 0 |   0 |\n",
       "| 2 | 11 | 0 | 1.3862944 | 0 |   0 |\n",
       "| 2 | 12 | 0 | 0.5623351 | 0 |   0 |\n",
       "| 2 | 13 | 0 | 1.0397208 | 0 |   0 |\n",
       "| 2 | 14 | 0 | 0.5623351 | 0 |   0 |\n",
       "| 2 | 15 | 0 | 0.0000000 | 0 | NaN |\n",
       "| ⋮ | ⋮ | ⋮ | ⋮ | ⋮ | ⋮ |\n",
       "| 14 |  1 | 0.0000000 | 0.0000000 | 0.5623351 | 0.0000000 |\n",
       "| 14 |  2 | 0.0000000 | 0.0000000 | 0.5623351 | 0.0000000 |\n",
       "| 14 |  3 | 0.0000000 | 0.0000000 | 0.5623351 | 0.0000000 |\n",
       "| 14 |  4 | 0.0000000 | 0.0000000 | 0.5623351 | 0.0000000 |\n",
       "| 14 |  5 | 0.5623351 | 1.3862944 | 0.5623351 | 0.5771596 |\n",
       "| 14 |  6 | 0.5623351 | 1.3862944 | 0.5623351 | 0.5771596 |\n",
       "| 14 |  7 | 0.2157616 | 1.0397208 | 0.5623351 | 0.2693558 |\n",
       "| 14 |  8 | 0.5623351 | 1.3862944 | 0.5623351 | 0.5771596 |\n",
       "| 14 |  9 | 0.5623351 | 1.3862944 | 0.5623351 | 0.5771596 |\n",
       "| 14 | 10 | 0.5623351 | 1.0397208 | 0.5623351 | 0.7020169 |\n",
       "| 14 | 11 | 0.5623351 | 1.3862944 | 0.5623351 | 0.5771596 |\n",
       "| 14 | 12 | 0.5623351 | 0.5623351 | 0.5623351 | 1.0000000 |\n",
       "| 14 | 13 | 0.5623351 | 1.0397208 | 0.5623351 | 0.7020169 |\n",
       "| 14 | 14 | 0.5623351 | 0.5623351 | 0.5623351 | 1.0000000 |\n",
       "| 14 | 15 | 0.0000000 | 0.0000000 | 0.5623351 | 0.0000000 |\n",
       "| 15 |  1 | 0.0000000 | 0.0000000 | 0.0000000 |       NaN |\n",
       "| 15 |  2 | 0.0000000 | 0.0000000 | 0.0000000 |       NaN |\n",
       "| 15 |  3 | 0.0000000 | 0.0000000 | 0.0000000 |       NaN |\n",
       "| 15 |  4 | 0.0000000 | 0.0000000 | 0.0000000 |       NaN |\n",
       "| 15 |  5 | 0.0000000 | 1.3862944 | 0.0000000 | 0.0000000 |\n",
       "| 15 |  6 | 0.0000000 | 1.3862944 | 0.0000000 | 0.0000000 |\n",
       "| 15 |  7 | 0.0000000 | 1.0397208 | 0.0000000 | 0.0000000 |\n",
       "| 15 |  8 | 0.0000000 | 1.3862944 | 0.0000000 | 0.0000000 |\n",
       "| 15 |  9 | 0.0000000 | 1.3862944 | 0.0000000 | 0.0000000 |\n",
       "| 15 | 10 | 0.0000000 | 1.0397208 | 0.0000000 | 0.0000000 |\n",
       "| 15 | 11 | 0.0000000 | 1.3862944 | 0.0000000 | 0.0000000 |\n",
       "| 15 | 12 | 0.0000000 | 0.5623351 | 0.0000000 | 0.0000000 |\n",
       "| 15 | 13 | 0.0000000 | 1.0397208 | 0.0000000 | 0.0000000 |\n",
       "| 15 | 14 | 0.0000000 | 0.5623351 | 0.0000000 | 0.0000000 |\n",
       "| 15 | 15 | 0.0000000 | 0.0000000 | 0.0000000 |       NaN |\n",
       "\n"
      ],
      "text/plain": [
       "    i  k  MI        Hx        Hy        NMI      \n",
       "1   1   1 0         0.0000000 0         NaN      \n",
       "2   1   2 0         0.0000000 0         NaN      \n",
       "3   1   3 0         0.0000000 0         NaN      \n",
       "4   1   4 0         0.0000000 0         NaN      \n",
       "5   1   5 0         1.3862944 0           0      \n",
       "6   1   6 0         1.3862944 0           0      \n",
       "7   1   7 0         1.0397208 0           0      \n",
       "8   1   8 0         1.3862944 0           0      \n",
       "9   1   9 0         1.3862944 0           0      \n",
       "10  1  10 0         1.0397208 0           0      \n",
       "11  1  11 0         1.3862944 0           0      \n",
       "12  1  12 0         0.5623351 0           0      \n",
       "13  1  13 0         1.0397208 0           0      \n",
       "14  1  14 0         0.5623351 0           0      \n",
       "15  1  15 0         0.0000000 0         NaN      \n",
       "16  2   1 0         0.0000000 0         NaN      \n",
       "17  2   2 0         0.0000000 0         NaN      \n",
       "18  2   3 0         0.0000000 0         NaN      \n",
       "19  2   4 0         0.0000000 0         NaN      \n",
       "20  2   5 0         1.3862944 0           0      \n",
       "21  2   6 0         1.3862944 0           0      \n",
       "22  2   7 0         1.0397208 0           0      \n",
       "23  2   8 0         1.3862944 0           0      \n",
       "24  2   9 0         1.3862944 0           0      \n",
       "25  2  10 0         1.0397208 0           0      \n",
       "26  2  11 0         1.3862944 0           0      \n",
       "27  2  12 0         0.5623351 0           0      \n",
       "28  2  13 0         1.0397208 0           0      \n",
       "29  2  14 0         0.5623351 0           0      \n",
       "30  2  15 0         0.0000000 0         NaN      \n",
       "⋮   ⋮  ⋮  ⋮         ⋮         ⋮         ⋮        \n",
       "196 14  1 0.0000000 0.0000000 0.5623351 0.0000000\n",
       "197 14  2 0.0000000 0.0000000 0.5623351 0.0000000\n",
       "198 14  3 0.0000000 0.0000000 0.5623351 0.0000000\n",
       "199 14  4 0.0000000 0.0000000 0.5623351 0.0000000\n",
       "200 14  5 0.5623351 1.3862944 0.5623351 0.5771596\n",
       "201 14  6 0.5623351 1.3862944 0.5623351 0.5771596\n",
       "202 14  7 0.2157616 1.0397208 0.5623351 0.2693558\n",
       "203 14  8 0.5623351 1.3862944 0.5623351 0.5771596\n",
       "204 14  9 0.5623351 1.3862944 0.5623351 0.5771596\n",
       "205 14 10 0.5623351 1.0397208 0.5623351 0.7020169\n",
       "206 14 11 0.5623351 1.3862944 0.5623351 0.5771596\n",
       "207 14 12 0.5623351 0.5623351 0.5623351 1.0000000\n",
       "208 14 13 0.5623351 1.0397208 0.5623351 0.7020169\n",
       "209 14 14 0.5623351 0.5623351 0.5623351 1.0000000\n",
       "210 14 15 0.0000000 0.0000000 0.5623351 0.0000000\n",
       "211 15  1 0.0000000 0.0000000 0.0000000       NaN\n",
       "212 15  2 0.0000000 0.0000000 0.0000000       NaN\n",
       "213 15  3 0.0000000 0.0000000 0.0000000       NaN\n",
       "214 15  4 0.0000000 0.0000000 0.0000000       NaN\n",
       "215 15  5 0.0000000 1.3862944 0.0000000 0.0000000\n",
       "216 15  6 0.0000000 1.3862944 0.0000000 0.0000000\n",
       "217 15  7 0.0000000 1.0397208 0.0000000 0.0000000\n",
       "218 15  8 0.0000000 1.3862944 0.0000000 0.0000000\n",
       "219 15  9 0.0000000 1.3862944 0.0000000 0.0000000\n",
       "220 15 10 0.0000000 1.0397208 0.0000000 0.0000000\n",
       "221 15 11 0.0000000 1.3862944 0.0000000 0.0000000\n",
       "222 15 12 0.0000000 0.5623351 0.0000000 0.0000000\n",
       "223 15 13 0.0000000 1.0397208 0.0000000 0.0000000\n",
       "224 15 14 0.0000000 0.5623351 0.0000000 0.0000000\n",
       "225 15 15 0.0000000 0.0000000 0.0000000       NaN"
      ]
     },
     "metadata": {},
     "output_type": "display_data"
    }
   ],
   "source": [
    "res"
   ]
  },
  {
   "cell_type": "code",
   "execution_count": null,
   "metadata": {},
   "outputs": [],
   "source": []
  },
  {
   "cell_type": "code",
   "execution_count": null,
   "metadata": {},
   "outputs": [],
   "source": []
  },
  {
   "cell_type": "code",
   "execution_count": null,
   "metadata": {},
   "outputs": [],
   "source": []
  }
 ],
 "metadata": {
  "kernelspec": {
   "display_name": "R 4.0",
   "language": "R",
   "name": "ir40"
  },
  "language_info": {
   "codemirror_mode": "r",
   "file_extension": ".r",
   "mimetype": "text/x-r-source",
   "name": "R",
   "pygments_lexer": "r",
   "version": "4.0.3"
  },
  "toc": {
   "base_numbering": 1,
   "nav_menu": {},
   "number_sections": false,
   "sideBar": true,
   "skip_h1_title": false,
   "title_cell": "Table of Contents",
   "title_sidebar": "Contents",
   "toc_cell": true,
   "toc_position": {
    "height": "calc(100% - 180px)",
    "left": "10px",
    "top": "150px",
    "width": "186.15px"
   },
   "toc_section_display": true,
   "toc_window_display": true
  }
 },
 "nbformat": 4,
 "nbformat_minor": 2
}
