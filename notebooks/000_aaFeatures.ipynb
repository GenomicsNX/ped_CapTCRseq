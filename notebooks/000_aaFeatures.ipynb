{
 "cells": [
  {
   "cell_type": "markdown",
   "metadata": {
    "toc": true
   },
   "source": [
    "<h1>Table of Contents<span class=\"tocSkip\"></span></h1>\n",
    "<div class=\"toc\"><ul class=\"toc-item\"><li><span><a href=\"#Dependencies\" data-toc-modified-id=\"Dependencies-1\">Dependencies</a></span></li><li><span><a href=\"#Functions\" data-toc-modified-id=\"Functions-2\">Functions</a></span></li><li><span><a href=\"#Paths\" data-toc-modified-id=\"Paths-3\">Paths</a></span></li><li><span><a href=\"#Main\" data-toc-modified-id=\"Main-4\">Main</a></span></li><li><span><a href=\"#NMI\" data-toc-modified-id=\"NMI-5\">NMI</a></span></li></ul></div>"
   ]
  },
  {
   "cell_type": "markdown",
   "metadata": {},
   "source": [
    "# Dependencies"
   ]
  },
  {
   "cell_type": "code",
   "execution_count": 1,
   "metadata": {},
   "outputs": [],
   "source": [
    "pacman::p_load(igraph, graphlayouts, ggraph, ggforce, dplyr)"
   ]
  },
  {
   "cell_type": "markdown",
   "metadata": {},
   "source": [
    "# Functions"
   ]
  },
  {
   "cell_type": "code",
   "execution_count": 2,
   "metadata": {},
   "outputs": [],
   "source": [
    "#source(\"/Users/anabbi/git/ped_CapTCRseq/R/Immune_diversity.R\")"
   ]
  },
  {
   "cell_type": "markdown",
   "metadata": {},
   "source": [
    "# Paths"
   ]
  },
  {
   "cell_type": "code",
   "execution_count": 3,
   "metadata": {},
   "outputs": [],
   "source": [
    "datapath <- \"/Users/anabbi/OneDrive - UHN/Documents/INTERCEPT/Data/\"\n",
    "plotpath <- \"/Users/anabbi/OneDrive - UHN/Documents/INTERCEPT/Plots/\"\n",
    "manifestpath <- \"/Users/anabbi/OneDrive - UHN/Documents/INTERCEPT/Manifests/\"\n",
    "\n",
    "gitpath <- \"/Users/anabbi/git/ped_CapTCRseq/\""
   ]
  },
  {
   "cell_type": "code",
   "execution_count": 4,
   "metadata": {},
   "outputs": [],
   "source": [
    "h4hpath <- \"/Users/anabbi/Desktop/H4H/INTERCEPT/NextSeq/\""
   ]
  },
  {
   "cell_type": "markdown",
   "metadata": {},
   "source": [
    "# Main"
   ]
  },
  {
   "cell_type": "code",
   "execution_count": 147,
   "metadata": {},
   "outputs": [],
   "source": [
    "aaT <- read.csv(file = paste0(datapath, \"aa_attributes.csv\"), header = T, row.names = 1)"
   ]
  },
  {
   "cell_type": "code",
   "execution_count": 148,
   "metadata": {},
   "outputs": [
    {
     "data": {
      "text/html": [
       "<table class=\"dataframe\">\n",
       "<caption>A data.frame: 6 × 5</caption>\n",
       "<thead>\n",
       "\t<tr><th></th><th scope=col>Factor.I</th><th scope=col>Factor.II</th><th scope=col>Factor.III</th><th scope=col>Factor.IV</th><th scope=col>Factor.V</th></tr>\n",
       "\t<tr><th></th><th scope=col>&lt;dbl&gt;</th><th scope=col>&lt;dbl&gt;</th><th scope=col>&lt;dbl&gt;</th><th scope=col>&lt;dbl&gt;</th><th scope=col>&lt;dbl&gt;</th></tr>\n",
       "</thead>\n",
       "<tbody>\n",
       "\t<tr><th scope=row>A</th><td>-0.591</td><td>-1.302</td><td>-0.733</td><td> 1.570</td><td>-0.146</td></tr>\n",
       "\t<tr><th scope=row>C</th><td>-1.343</td><td> 0.465</td><td>-0.862</td><td>-1.020</td><td>-0.255</td></tr>\n",
       "\t<tr><th scope=row>D</th><td> 1.050</td><td> 0.302</td><td>-3.656</td><td>-0.259</td><td>-3.242</td></tr>\n",
       "\t<tr><th scope=row>E</th><td> 1.357</td><td>-1.453</td><td> 1.477</td><td> 0.113</td><td>-0.837</td></tr>\n",
       "\t<tr><th scope=row>F</th><td>-1.006</td><td>-0.590</td><td> 1.891</td><td>-0.397</td><td> 0.412</td></tr>\n",
       "\t<tr><th scope=row>G</th><td>-0.384</td><td> 1.652</td><td> 1.330</td><td> 1.045</td><td> 2.064</td></tr>\n",
       "</tbody>\n",
       "</table>\n"
      ],
      "text/latex": [
       "A data.frame: 6 × 5\n",
       "\\begin{tabular}{r|lllll}\n",
       "  & Factor.I & Factor.II & Factor.III & Factor.IV & Factor.V\\\\\n",
       "  & <dbl> & <dbl> & <dbl> & <dbl> & <dbl>\\\\\n",
       "\\hline\n",
       "\tA & -0.591 & -1.302 & -0.733 &  1.570 & -0.146\\\\\n",
       "\tC & -1.343 &  0.465 & -0.862 & -1.020 & -0.255\\\\\n",
       "\tD &  1.050 &  0.302 & -3.656 & -0.259 & -3.242\\\\\n",
       "\tE &  1.357 & -1.453 &  1.477 &  0.113 & -0.837\\\\\n",
       "\tF & -1.006 & -0.590 &  1.891 & -0.397 &  0.412\\\\\n",
       "\tG & -0.384 &  1.652 &  1.330 &  1.045 &  2.064\\\\\n",
       "\\end{tabular}\n"
      ],
      "text/markdown": [
       "\n",
       "A data.frame: 6 × 5\n",
       "\n",
       "| <!--/--> | Factor.I &lt;dbl&gt; | Factor.II &lt;dbl&gt; | Factor.III &lt;dbl&gt; | Factor.IV &lt;dbl&gt; | Factor.V &lt;dbl&gt; |\n",
       "|---|---|---|---|---|---|\n",
       "| A | -0.591 | -1.302 | -0.733 |  1.570 | -0.146 |\n",
       "| C | -1.343 |  0.465 | -0.862 | -1.020 | -0.255 |\n",
       "| D |  1.050 |  0.302 | -3.656 | -0.259 | -3.242 |\n",
       "| E |  1.357 | -1.453 |  1.477 |  0.113 | -0.837 |\n",
       "| F | -1.006 | -0.590 |  1.891 | -0.397 |  0.412 |\n",
       "| G | -0.384 |  1.652 |  1.330 |  1.045 |  2.064 |\n",
       "\n"
      ],
      "text/plain": [
       "  Factor.I Factor.II Factor.III Factor.IV Factor.V\n",
       "A -0.591   -1.302    -0.733      1.570    -0.146  \n",
       "C -1.343    0.465    -0.862     -1.020    -0.255  \n",
       "D  1.050    0.302    -3.656     -0.259    -3.242  \n",
       "E  1.357   -1.453     1.477      0.113    -0.837  \n",
       "F -1.006   -0.590     1.891     -0.397     0.412  \n",
       "G -0.384    1.652     1.330      1.045     2.064  "
      ]
     },
     "metadata": {},
     "output_type": "display_data"
    }
   ],
   "source": [
    "#Table 2 from Atchley et al\n",
    "head(aaT)"
   ]
  },
  {
   "cell_type": "code",
   "execution_count": 149,
   "metadata": {},
   "outputs": [],
   "source": [
    "#This is for sample 1, length 15, position 1\n",
    "myaamat <- matrix(nrow = 20, ncol = 6,\n",
    "                 dimnames = list(rownames(aaT), c(\"Freq\",\"F1\", \"F2\", \"F3\", \"F4\", \"F5\")))"
   ]
  },
  {
   "cell_type": "code",
   "execution_count": 151,
   "metadata": {},
   "outputs": [],
   "source": [
    "load(file = paste0(datapath,\"capTCRseq/TRBfiles.RData\"))"
   ]
  },
  {
   "cell_type": "code",
   "execution_count": 153,
   "metadata": {},
   "outputs": [],
   "source": [
    "load(file = paste0(datapath, \"capTCRseq/INT_allfiles.RData\"))"
   ]
  },
  {
   "cell_type": "code",
   "execution_count": 198,
   "metadata": {},
   "outputs": [
    {
     "data": {
      "text/html": [
       "<table class=\"dataframe\">\n",
       "<caption>A data.frame: 6 × 40</caption>\n",
       "<thead>\n",
       "\t<tr><th></th><th scope=col>cloneId</th><th scope=col>cloneCount</th><th scope=col>cloneFraction</th><th scope=col>clonalSequence</th><th scope=col>clonalSequenceQuality</th><th scope=col>allVHitsWithScore</th><th scope=col>allDHitsWithScore</th><th scope=col>allJHitsWithScore</th><th scope=col>allCHitsWithScore</th><th scope=col>allVAlignments</th><th scope=col>⋯</th><th scope=col>aaSeqCDR2</th><th scope=col>aaSeqFR3</th><th scope=col>aaSeqCDR3</th><th scope=col>aaSeqFR4</th><th scope=col>refPoints</th><th scope=col>TRBV</th><th scope=col>TRBJ</th><th scope=col>file</th><th scope=col>samplename</th><th scope=col>aa_length</th></tr>\n",
       "\t<tr><th></th><th scope=col>&lt;int&gt;</th><th scope=col>&lt;int&gt;</th><th scope=col>&lt;dbl&gt;</th><th scope=col>&lt;chr&gt;</th><th scope=col>&lt;chr&gt;</th><th scope=col>&lt;chr&gt;</th><th scope=col>&lt;chr&gt;</th><th scope=col>&lt;chr&gt;</th><th scope=col>&lt;chr&gt;</th><th scope=col>&lt;chr&gt;</th><th scope=col>⋯</th><th scope=col>&lt;lgl&gt;</th><th scope=col>&lt;lgl&gt;</th><th scope=col>&lt;chr&gt;</th><th scope=col>&lt;lgl&gt;</th><th scope=col>&lt;chr&gt;</th><th scope=col>&lt;chr&gt;</th><th scope=col>&lt;chr&gt;</th><th scope=col>&lt;chr&gt;</th><th scope=col>&lt;chr&gt;</th><th scope=col>&lt;int&gt;</th></tr>\n",
       "</thead>\n",
       "<tbody>\n",
       "\t<tr><th scope=row>1</th><td> 0</td><td>187</td><td>0.19767442</td><td>TGTGCCAGCAGCTTCTATGGCAGGGAAGCAGATACGCAGTATTTT</td><td>ENNNNNENNEENENENENNNEENNNEENNNNEKNNNNNNENNNNN</td><td>TRBV7-2*00(367.3)              </td><td>TRBD1*00(25)             </td><td>TRBJ2-3*00(224.8)</td><td>NA</td><td>580|594|617|0|14||70.0                                   </td><td>⋯</td><td>NA</td><td>NA</td><td>CASSFYGREADTQYF</td><td>NA</td><td>:::::::::0:-3:14:20:-4:-3:25:28:-4:45:::</td><td>TRBV7-2</td><td>TRBJ2-3</td><td>/Users/anabbi/Desktop/H4H/INTERCEPT/NextSeq/batch4_19Aug2019/mixcr/clones/CLONES_TRBCHP_315-05-PBMC-DNA.txt</td><td>CHP_315-05-PBMC-DNA</td><td>15</td></tr>\n",
       "\t<tr><th scope=row>3</th><td>14</td><td> 48</td><td>0.05073996</td><td>TGTGCCAGCAGCTTAATGGGGGGAGATAGCACTGAAGCTTTCTTT</td><td>EEEEEEEEEEEEEEEEEEEEEEEEEEEEEEEEEEEEEEEEEEEEE</td><td>TRBV7-3*00(159.7)              </td><td>TRBD1*00(25),TRBD2*00(25)</td><td>TRBJ1-1*00(220)  </td><td>NA</td><td>540|556|577|0|16||80.0                                   </td><td>⋯</td><td>NA</td><td>NA</td><td>CASSLMGGDSTEAFF</td><td>NA</td><td>:::::::::0:-1:16:17:-6:-1:22:29:-4:45:::</td><td>TRBV7-3</td><td>TRBJ1-1</td><td>/Users/anabbi/Desktop/H4H/INTERCEPT/NextSeq/batch4_19Aug2019/mixcr/clones/CLONES_TRBCHP_315-05-PBMC-DNA.txt</td><td>CHP_315-05-PBMC-DNA</td><td>15</td></tr>\n",
       "\t<tr><th scope=row>4</th><td>15</td><td> 48</td><td>0.05073996</td><td>TGTGCCAGCAGCTTAACCGGGACAGGGGTTGAAAAACTGTTTTTT</td><td>EEEEEEEEEEEEEEEEEEEEEEEEEEEEEEEEEEEEEEEEEEEEE</td><td>TRBV7-3*00(765.2)              </td><td>TRBD1*00(55)             </td><td>TRBJ1-4*00(145)  </td><td>NA</td><td>540|557|577|0|17||85.0                                   </td><td>⋯</td><td>NA</td><td>NA</td><td>CASSLTGTGVEKLFF</td><td>NA</td><td>:::::::::0:0:17:17:1:-2:28:29:-7:45:::  </td><td>TRBV7-3</td><td>TRBJ1-4</td><td>/Users/anabbi/Desktop/H4H/INTERCEPT/NextSeq/batch4_19Aug2019/mixcr/clones/CLONES_TRBCHP_315-05-PBMC-DNA.txt</td><td>CHP_315-05-PBMC-DNA</td><td>15</td></tr>\n",
       "\t<tr><th scope=row>5</th><td>20</td><td> 42</td><td>0.04439746</td><td>TGTGCCAGCAGCCAACGGGGACAGTCAACCGAGCAGTACTTC   </td><td>EEEEEEEEEEEEEEEEEEEEEEEEEEEEEEEEEEEEEEEEEE   </td><td>TRBV14*00(519.2)               </td><td>TRBD1*00(35)             </td><td>TRBJ2-7*00(205)  </td><td>NA</td><td>516|531|553|0|15||75.0                                   </td><td>⋯</td><td>NA</td><td>NA</td><td>CASSQRGQSTEQYF </td><td>NA</td><td>:::::::::0:-2:15:17:0:-5:24:29:-6:42::: </td><td>TRBV14 </td><td>TRBJ2-7</td><td>/Users/anabbi/Desktop/H4H/INTERCEPT/NextSeq/batch4_19Aug2019/mixcr/clones/CLONES_TRBCHP_315-05-PBMC-DNA.txt</td><td>CHP_315-05-PBMC-DNA</td><td>14</td></tr>\n",
       "\t<tr><th scope=row>6</th><td>29</td><td> 32</td><td>0.03382664</td><td>TGTGCCAGCAGTTACCAAGCGGGGGTGGGTGAGACCCAGTACTTC</td><td>EEEEEEEEEEEEEEEEEEEEEEEEEEEEEEEEEEEEEEEEEEEEE</td><td>TRBV6-6*00(344)                </td><td>TRBD2*00(30)             </td><td>TRBJ2-5*00(214)  </td><td>NA</td><td>516|531|553|0|15||75.0                                   </td><td>⋯</td><td>NA</td><td>NA</td><td>CASSYQAGVGETQYF</td><td>NA</td><td>:::::::::0:-2:15:17:-6:-4:23:30:-5:45:::</td><td>TRBV6-6</td><td>TRBJ2-5</td><td>/Users/anabbi/Desktop/H4H/INTERCEPT/NextSeq/batch4_19Aug2019/mixcr/clones/CLONES_TRBCHP_315-05-PBMC-DNA.txt</td><td>CHP_315-05-PBMC-DNA</td><td>15</td></tr>\n",
       "\t<tr><th scope=row>9</th><td>38</td><td> 29</td><td>0.03065539</td><td>TGTGCCAGCAGCGTAGTAGGGGTCTATAATTCACCCCTCCACTTT</td><td>EEEEEEEEEEEEEEEEEEEEEEEEEEEEEEEEEEEEEEEEEEEEE</td><td>TRBV7-2*00(249),TRBV7-8*00(233)</td><td>TRBD1*00(25)             </td><td>TRBJ1-6*00(233.4)</td><td>NA</td><td>580|596|617|0|16|ST592G|64.0;567|583|604|0|16|ST579G|64.0</td><td>⋯</td><td>NA</td><td>NA</td><td>CASSVVGVYNSPLHF</td><td>NA</td><td>:::::::::0:-1:16:17:-5:-2:22:23:-3:45:::</td><td>TRBV7-2</td><td>TRBJ1-6</td><td>/Users/anabbi/Desktop/H4H/INTERCEPT/NextSeq/batch4_19Aug2019/mixcr/clones/CLONES_TRBCHP_315-05-PBMC-DNA.txt</td><td>CHP_315-05-PBMC-DNA</td><td>15</td></tr>\n",
       "</tbody>\n",
       "</table>\n"
      ],
      "text/latex": [
       "A data.frame: 6 × 40\n",
       "\\begin{tabular}{r|lllllllllllllllllllll}\n",
       "  & cloneId & cloneCount & cloneFraction & clonalSequence & clonalSequenceQuality & allVHitsWithScore & allDHitsWithScore & allJHitsWithScore & allCHitsWithScore & allVAlignments & ⋯ & aaSeqCDR2 & aaSeqFR3 & aaSeqCDR3 & aaSeqFR4 & refPoints & TRBV & TRBJ & file & samplename & aa\\_length\\\\\n",
       "  & <int> & <int> & <dbl> & <chr> & <chr> & <chr> & <chr> & <chr> & <chr> & <chr> & ⋯ & <lgl> & <lgl> & <chr> & <lgl> & <chr> & <chr> & <chr> & <chr> & <chr> & <int>\\\\\n",
       "\\hline\n",
       "\t1 &  0 & 187 & 0.19767442 & TGTGCCAGCAGCTTCTATGGCAGGGAAGCAGATACGCAGTATTTT & ENNNNNENNEENENENENNNEENNNEENNNNEKNNNNNNENNNNN & TRBV7-2*00(367.3)               & TRBD1*00(25)              & TRBJ2-3*00(224.8) & NA & 580\\textbar{}594\\textbar{}617\\textbar{}0\\textbar{}14\\textbar{}\\textbar{}70.0                                    & ⋯ & NA & NA & CASSFYGREADTQYF & NA & :::::::::0:-3:14:20:-4:-3:25:28:-4:45::: & TRBV7-2 & TRBJ2-3 & /Users/anabbi/Desktop/H4H/INTERCEPT/NextSeq/batch4\\_19Aug2019/mixcr/clones/CLONES\\_TRBCHP\\_315-05-PBMC-DNA.txt & CHP\\_315-05-PBMC-DNA & 15\\\\\n",
       "\t3 & 14 &  48 & 0.05073996 & TGTGCCAGCAGCTTAATGGGGGGAGATAGCACTGAAGCTTTCTTT & EEEEEEEEEEEEEEEEEEEEEEEEEEEEEEEEEEEEEEEEEEEEE & TRBV7-3*00(159.7)               & TRBD1*00(25),TRBD2*00(25) & TRBJ1-1*00(220)   & NA & 540\\textbar{}556\\textbar{}577\\textbar{}0\\textbar{}16\\textbar{}\\textbar{}80.0                                    & ⋯ & NA & NA & CASSLMGGDSTEAFF & NA & :::::::::0:-1:16:17:-6:-1:22:29:-4:45::: & TRBV7-3 & TRBJ1-1 & /Users/anabbi/Desktop/H4H/INTERCEPT/NextSeq/batch4\\_19Aug2019/mixcr/clones/CLONES\\_TRBCHP\\_315-05-PBMC-DNA.txt & CHP\\_315-05-PBMC-DNA & 15\\\\\n",
       "\t4 & 15 &  48 & 0.05073996 & TGTGCCAGCAGCTTAACCGGGACAGGGGTTGAAAAACTGTTTTTT & EEEEEEEEEEEEEEEEEEEEEEEEEEEEEEEEEEEEEEEEEEEEE & TRBV7-3*00(765.2)               & TRBD1*00(55)              & TRBJ1-4*00(145)   & NA & 540\\textbar{}557\\textbar{}577\\textbar{}0\\textbar{}17\\textbar{}\\textbar{}85.0                                    & ⋯ & NA & NA & CASSLTGTGVEKLFF & NA & :::::::::0:0:17:17:1:-2:28:29:-7:45:::   & TRBV7-3 & TRBJ1-4 & /Users/anabbi/Desktop/H4H/INTERCEPT/NextSeq/batch4\\_19Aug2019/mixcr/clones/CLONES\\_TRBCHP\\_315-05-PBMC-DNA.txt & CHP\\_315-05-PBMC-DNA & 15\\\\\n",
       "\t5 & 20 &  42 & 0.04439746 & TGTGCCAGCAGCCAACGGGGACAGTCAACCGAGCAGTACTTC    & EEEEEEEEEEEEEEEEEEEEEEEEEEEEEEEEEEEEEEEEEE    & TRBV14*00(519.2)                & TRBD1*00(35)              & TRBJ2-7*00(205)   & NA & 516\\textbar{}531\\textbar{}553\\textbar{}0\\textbar{}15\\textbar{}\\textbar{}75.0                                    & ⋯ & NA & NA & CASSQRGQSTEQYF  & NA & :::::::::0:-2:15:17:0:-5:24:29:-6:42:::  & TRBV14  & TRBJ2-7 & /Users/anabbi/Desktop/H4H/INTERCEPT/NextSeq/batch4\\_19Aug2019/mixcr/clones/CLONES\\_TRBCHP\\_315-05-PBMC-DNA.txt & CHP\\_315-05-PBMC-DNA & 14\\\\\n",
       "\t6 & 29 &  32 & 0.03382664 & TGTGCCAGCAGTTACCAAGCGGGGGTGGGTGAGACCCAGTACTTC & EEEEEEEEEEEEEEEEEEEEEEEEEEEEEEEEEEEEEEEEEEEEE & TRBV6-6*00(344)                 & TRBD2*00(30)              & TRBJ2-5*00(214)   & NA & 516\\textbar{}531\\textbar{}553\\textbar{}0\\textbar{}15\\textbar{}\\textbar{}75.0                                    & ⋯ & NA & NA & CASSYQAGVGETQYF & NA & :::::::::0:-2:15:17:-6:-4:23:30:-5:45::: & TRBV6-6 & TRBJ2-5 & /Users/anabbi/Desktop/H4H/INTERCEPT/NextSeq/batch4\\_19Aug2019/mixcr/clones/CLONES\\_TRBCHP\\_315-05-PBMC-DNA.txt & CHP\\_315-05-PBMC-DNA & 15\\\\\n",
       "\t9 & 38 &  29 & 0.03065539 & TGTGCCAGCAGCGTAGTAGGGGTCTATAATTCACCCCTCCACTTT & EEEEEEEEEEEEEEEEEEEEEEEEEEEEEEEEEEEEEEEEEEEEE & TRBV7-2*00(249),TRBV7-8*00(233) & TRBD1*00(25)              & TRBJ1-6*00(233.4) & NA & 580\\textbar{}596\\textbar{}617\\textbar{}0\\textbar{}16\\textbar{}ST592G\\textbar{}64.0;567\\textbar{}583\\textbar{}604\\textbar{}0\\textbar{}16\\textbar{}ST579G\\textbar{}64.0 & ⋯ & NA & NA & CASSVVGVYNSPLHF & NA & :::::::::0:-1:16:17:-5:-2:22:23:-3:45::: & TRBV7-2 & TRBJ1-6 & /Users/anabbi/Desktop/H4H/INTERCEPT/NextSeq/batch4\\_19Aug2019/mixcr/clones/CLONES\\_TRBCHP\\_315-05-PBMC-DNA.txt & CHP\\_315-05-PBMC-DNA & 15\\\\\n",
       "\\end{tabular}\n"
      ],
      "text/markdown": [
       "\n",
       "A data.frame: 6 × 40\n",
       "\n",
       "| <!--/--> | cloneId &lt;int&gt; | cloneCount &lt;int&gt; | cloneFraction &lt;dbl&gt; | clonalSequence &lt;chr&gt; | clonalSequenceQuality &lt;chr&gt; | allVHitsWithScore &lt;chr&gt; | allDHitsWithScore &lt;chr&gt; | allJHitsWithScore &lt;chr&gt; | allCHitsWithScore &lt;chr&gt; | allVAlignments &lt;chr&gt; | ⋯ ⋯ | aaSeqCDR2 &lt;lgl&gt; | aaSeqFR3 &lt;lgl&gt; | aaSeqCDR3 &lt;chr&gt; | aaSeqFR4 &lt;lgl&gt; | refPoints &lt;chr&gt; | TRBV &lt;chr&gt; | TRBJ &lt;chr&gt; | file &lt;chr&gt; | samplename &lt;chr&gt; | aa_length &lt;int&gt; |\n",
       "|---|---|---|---|---|---|---|---|---|---|---|---|---|---|---|---|---|---|---|---|---|---|\n",
       "| 1 |  0 | 187 | 0.19767442 | TGTGCCAGCAGCTTCTATGGCAGGGAAGCAGATACGCAGTATTTT | ENNNNNENNEENENENENNNEENNNEENNNNEKNNNNNNENNNNN | TRBV7-2*00(367.3)               | TRBD1*00(25)              | TRBJ2-3*00(224.8) | NA | 580|594|617|0|14||70.0                                    | ⋯ | NA | NA | CASSFYGREADTQYF | NA | :::::::::0:-3:14:20:-4:-3:25:28:-4:45::: | TRBV7-2 | TRBJ2-3 | /Users/anabbi/Desktop/H4H/INTERCEPT/NextSeq/batch4_19Aug2019/mixcr/clones/CLONES_TRBCHP_315-05-PBMC-DNA.txt | CHP_315-05-PBMC-DNA | 15 |\n",
       "| 3 | 14 |  48 | 0.05073996 | TGTGCCAGCAGCTTAATGGGGGGAGATAGCACTGAAGCTTTCTTT | EEEEEEEEEEEEEEEEEEEEEEEEEEEEEEEEEEEEEEEEEEEEE | TRBV7-3*00(159.7)               | TRBD1*00(25),TRBD2*00(25) | TRBJ1-1*00(220)   | NA | 540|556|577|0|16||80.0                                    | ⋯ | NA | NA | CASSLMGGDSTEAFF | NA | :::::::::0:-1:16:17:-6:-1:22:29:-4:45::: | TRBV7-3 | TRBJ1-1 | /Users/anabbi/Desktop/H4H/INTERCEPT/NextSeq/batch4_19Aug2019/mixcr/clones/CLONES_TRBCHP_315-05-PBMC-DNA.txt | CHP_315-05-PBMC-DNA | 15 |\n",
       "| 4 | 15 |  48 | 0.05073996 | TGTGCCAGCAGCTTAACCGGGACAGGGGTTGAAAAACTGTTTTTT | EEEEEEEEEEEEEEEEEEEEEEEEEEEEEEEEEEEEEEEEEEEEE | TRBV7-3*00(765.2)               | TRBD1*00(55)              | TRBJ1-4*00(145)   | NA | 540|557|577|0|17||85.0                                    | ⋯ | NA | NA | CASSLTGTGVEKLFF | NA | :::::::::0:0:17:17:1:-2:28:29:-7:45:::   | TRBV7-3 | TRBJ1-4 | /Users/anabbi/Desktop/H4H/INTERCEPT/NextSeq/batch4_19Aug2019/mixcr/clones/CLONES_TRBCHP_315-05-PBMC-DNA.txt | CHP_315-05-PBMC-DNA | 15 |\n",
       "| 5 | 20 |  42 | 0.04439746 | TGTGCCAGCAGCCAACGGGGACAGTCAACCGAGCAGTACTTC    | EEEEEEEEEEEEEEEEEEEEEEEEEEEEEEEEEEEEEEEEEE    | TRBV14*00(519.2)                | TRBD1*00(35)              | TRBJ2-7*00(205)   | NA | 516|531|553|0|15||75.0                                    | ⋯ | NA | NA | CASSQRGQSTEQYF  | NA | :::::::::0:-2:15:17:0:-5:24:29:-6:42:::  | TRBV14  | TRBJ2-7 | /Users/anabbi/Desktop/H4H/INTERCEPT/NextSeq/batch4_19Aug2019/mixcr/clones/CLONES_TRBCHP_315-05-PBMC-DNA.txt | CHP_315-05-PBMC-DNA | 14 |\n",
       "| 6 | 29 |  32 | 0.03382664 | TGTGCCAGCAGTTACCAAGCGGGGGTGGGTGAGACCCAGTACTTC | EEEEEEEEEEEEEEEEEEEEEEEEEEEEEEEEEEEEEEEEEEEEE | TRBV6-6*00(344)                 | TRBD2*00(30)              | TRBJ2-5*00(214)   | NA | 516|531|553|0|15||75.0                                    | ⋯ | NA | NA | CASSYQAGVGETQYF | NA | :::::::::0:-2:15:17:-6:-4:23:30:-5:45::: | TRBV6-6 | TRBJ2-5 | /Users/anabbi/Desktop/H4H/INTERCEPT/NextSeq/batch4_19Aug2019/mixcr/clones/CLONES_TRBCHP_315-05-PBMC-DNA.txt | CHP_315-05-PBMC-DNA | 15 |\n",
       "| 9 | 38 |  29 | 0.03065539 | TGTGCCAGCAGCGTAGTAGGGGTCTATAATTCACCCCTCCACTTT | EEEEEEEEEEEEEEEEEEEEEEEEEEEEEEEEEEEEEEEEEEEEE | TRBV7-2*00(249),TRBV7-8*00(233) | TRBD1*00(25)              | TRBJ1-6*00(233.4) | NA | 580|596|617|0|16|ST592G|64.0;567|583|604|0|16|ST579G|64.0 | ⋯ | NA | NA | CASSVVGVYNSPLHF | NA | :::::::::0:-1:16:17:-5:-2:22:23:-3:45::: | TRBV7-2 | TRBJ1-6 | /Users/anabbi/Desktop/H4H/INTERCEPT/NextSeq/batch4_19Aug2019/mixcr/clones/CLONES_TRBCHP_315-05-PBMC-DNA.txt | CHP_315-05-PBMC-DNA | 15 |\n",
       "\n"
      ],
      "text/plain": [
       "  cloneId cloneCount cloneFraction\n",
       "1  0      187        0.19767442   \n",
       "3 14       48        0.05073996   \n",
       "4 15       48        0.05073996   \n",
       "5 20       42        0.04439746   \n",
       "6 29       32        0.03382664   \n",
       "9 38       29        0.03065539   \n",
       "  clonalSequence                               \n",
       "1 TGTGCCAGCAGCTTCTATGGCAGGGAAGCAGATACGCAGTATTTT\n",
       "3 TGTGCCAGCAGCTTAATGGGGGGAGATAGCACTGAAGCTTTCTTT\n",
       "4 TGTGCCAGCAGCTTAACCGGGACAGGGGTTGAAAAACTGTTTTTT\n",
       "5 TGTGCCAGCAGCCAACGGGGACAGTCAACCGAGCAGTACTTC   \n",
       "6 TGTGCCAGCAGTTACCAAGCGGGGGTGGGTGAGACCCAGTACTTC\n",
       "9 TGTGCCAGCAGCGTAGTAGGGGTCTATAATTCACCCCTCCACTTT\n",
       "  clonalSequenceQuality                         allVHitsWithScore              \n",
       "1 ENNNNNENNEENENENENNNEENNNEENNNNEKNNNNNNENNNNN TRBV7-2*00(367.3)              \n",
       "3 EEEEEEEEEEEEEEEEEEEEEEEEEEEEEEEEEEEEEEEEEEEEE TRBV7-3*00(159.7)              \n",
       "4 EEEEEEEEEEEEEEEEEEEEEEEEEEEEEEEEEEEEEEEEEEEEE TRBV7-3*00(765.2)              \n",
       "5 EEEEEEEEEEEEEEEEEEEEEEEEEEEEEEEEEEEEEEEEEE    TRBV14*00(519.2)               \n",
       "6 EEEEEEEEEEEEEEEEEEEEEEEEEEEEEEEEEEEEEEEEEEEEE TRBV6-6*00(344)                \n",
       "9 EEEEEEEEEEEEEEEEEEEEEEEEEEEEEEEEEEEEEEEEEEEEE TRBV7-2*00(249),TRBV7-8*00(233)\n",
       "  allDHitsWithScore         allJHitsWithScore allCHitsWithScore\n",
       "1 TRBD1*00(25)              TRBJ2-3*00(224.8) NA               \n",
       "3 TRBD1*00(25),TRBD2*00(25) TRBJ1-1*00(220)   NA               \n",
       "4 TRBD1*00(55)              TRBJ1-4*00(145)   NA               \n",
       "5 TRBD1*00(35)              TRBJ2-7*00(205)   NA               \n",
       "6 TRBD2*00(30)              TRBJ2-5*00(214)   NA               \n",
       "9 TRBD1*00(25)              TRBJ1-6*00(233.4) NA               \n",
       "  allVAlignments                                            ⋯ aaSeqCDR2\n",
       "1 580|594|617|0|14||70.0                                    ⋯ NA       \n",
       "3 540|556|577|0|16||80.0                                    ⋯ NA       \n",
       "4 540|557|577|0|17||85.0                                    ⋯ NA       \n",
       "5 516|531|553|0|15||75.0                                    ⋯ NA       \n",
       "6 516|531|553|0|15||75.0                                    ⋯ NA       \n",
       "9 580|596|617|0|16|ST592G|64.0;567|583|604|0|16|ST579G|64.0 ⋯ NA       \n",
       "  aaSeqFR3 aaSeqCDR3       aaSeqFR4 refPoints                               \n",
       "1 NA       CASSFYGREADTQYF NA       :::::::::0:-3:14:20:-4:-3:25:28:-4:45:::\n",
       "3 NA       CASSLMGGDSTEAFF NA       :::::::::0:-1:16:17:-6:-1:22:29:-4:45:::\n",
       "4 NA       CASSLTGTGVEKLFF NA       :::::::::0:0:17:17:1:-2:28:29:-7:45:::  \n",
       "5 NA       CASSQRGQSTEQYF  NA       :::::::::0:-2:15:17:0:-5:24:29:-6:42::: \n",
       "6 NA       CASSYQAGVGETQYF NA       :::::::::0:-2:15:17:-6:-4:23:30:-5:45:::\n",
       "9 NA       CASSVVGVYNSPLHF NA       :::::::::0:-1:16:17:-5:-2:22:23:-3:45:::\n",
       "  TRBV    TRBJ   \n",
       "1 TRBV7-2 TRBJ2-3\n",
       "3 TRBV7-3 TRBJ1-1\n",
       "4 TRBV7-3 TRBJ1-4\n",
       "5 TRBV14  TRBJ2-7\n",
       "6 TRBV6-6 TRBJ2-5\n",
       "9 TRBV7-2 TRBJ1-6\n",
       "  file                                                                                                       \n",
       "1 /Users/anabbi/Desktop/H4H/INTERCEPT/NextSeq/batch4_19Aug2019/mixcr/clones/CLONES_TRBCHP_315-05-PBMC-DNA.txt\n",
       "3 /Users/anabbi/Desktop/H4H/INTERCEPT/NextSeq/batch4_19Aug2019/mixcr/clones/CLONES_TRBCHP_315-05-PBMC-DNA.txt\n",
       "4 /Users/anabbi/Desktop/H4H/INTERCEPT/NextSeq/batch4_19Aug2019/mixcr/clones/CLONES_TRBCHP_315-05-PBMC-DNA.txt\n",
       "5 /Users/anabbi/Desktop/H4H/INTERCEPT/NextSeq/batch4_19Aug2019/mixcr/clones/CLONES_TRBCHP_315-05-PBMC-DNA.txt\n",
       "6 /Users/anabbi/Desktop/H4H/INTERCEPT/NextSeq/batch4_19Aug2019/mixcr/clones/CLONES_TRBCHP_315-05-PBMC-DNA.txt\n",
       "9 /Users/anabbi/Desktop/H4H/INTERCEPT/NextSeq/batch4_19Aug2019/mixcr/clones/CLONES_TRBCHP_315-05-PBMC-DNA.txt\n",
       "  samplename          aa_length\n",
       "1 CHP_315-05-PBMC-DNA 15       \n",
       "3 CHP_315-05-PBMC-DNA 15       \n",
       "4 CHP_315-05-PBMC-DNA 15       \n",
       "5 CHP_315-05-PBMC-DNA 14       \n",
       "6 CHP_315-05-PBMC-DNA 15       \n",
       "9 CHP_315-05-PBMC-DNA 15       "
      ]
     },
     "metadata": {},
     "output_type": "display_data"
    }
   ],
   "source": [
    "head(intall)"
   ]
  },
  {
   "cell_type": "code",
   "execution_count": 155,
   "metadata": {},
   "outputs": [],
   "source": [
    "#remove nonproductive\n",
    "\n",
    "intall <- intall[ !grepl(\"[_]\", intall$aaSeqCDR3),]\n",
    "intall <- intall[ !grepl(\"[*]\", intall$aaSeqCDR3),]"
   ]
  },
  {
   "cell_type": "code",
   "execution_count": 156,
   "metadata": {},
   "outputs": [
    {
     "data": {
      "text/html": [
       "<style>\n",
       ".list-inline {list-style: none; margin:0; padding: 0}\n",
       ".list-inline>li {display: inline-block}\n",
       ".list-inline>li:not(:last-child)::after {content: \"\\00b7\"; padding: 0 .5ex}\n",
       "</style>\n",
       "<ol class=list-inline><li>72634</li><li>39</li></ol>\n"
      ],
      "text/latex": [
       "\\begin{enumerate*}\n",
       "\\item 72634\n",
       "\\item 39\n",
       "\\end{enumerate*}\n"
      ],
      "text/markdown": [
       "1. 72634\n",
       "2. 39\n",
       "\n",
       "\n"
      ],
      "text/plain": [
       "[1] 72634    39"
      ]
     },
     "metadata": {},
     "output_type": "display_data"
    }
   ],
   "source": [
    "dim(intall)"
   ]
  },
  {
   "cell_type": "code",
   "execution_count": 157,
   "metadata": {},
   "outputs": [],
   "source": [
    "intall$aa_length <- nchar(intall$aaSeqCDR3)"
   ]
  },
  {
   "cell_type": "code",
   "execution_count": 158,
   "metadata": {},
   "outputs": [
    {
     "data": {
      "text/plain": [
       "   Min. 1st Qu.  Median    Mean 3rd Qu.    Max. \n",
       "   4.00   13.00   15.00   14.99   16.00  113.00 "
      ]
     },
     "metadata": {},
     "output_type": "display_data"
    }
   ],
   "source": [
    "summary(intall$aa_length)"
   ]
  },
  {
   "cell_type": "code",
   "execution_count": 159,
   "metadata": {},
   "outputs": [],
   "source": [
    "intall_subset <- intall[ intall$aa_length == 15,]"
   ]
  },
  {
   "cell_type": "code",
   "execution_count": 160,
   "metadata": {},
   "outputs": [
    {
     "data": {
      "text/html": [
       "<style>\n",
       ".list-inline {list-style: none; margin:0; padding: 0}\n",
       ".list-inline>li {display: inline-block}\n",
       ".list-inline>li:not(:last-child)::after {content: \"\\00b7\"; padding: 0 .5ex}\n",
       "</style>\n",
       "<ol class=list-inline><li>16866</li><li>40</li></ol>\n"
      ],
      "text/latex": [
       "\\begin{enumerate*}\n",
       "\\item 16866\n",
       "\\item 40\n",
       "\\end{enumerate*}\n"
      ],
      "text/markdown": [
       "1. 16866\n",
       "2. 40\n",
       "\n",
       "\n"
      ],
      "text/plain": [
       "[1] 16866    40"
      ]
     },
     "metadata": {},
     "output_type": "display_data"
    }
   ],
   "source": [
    "dim(intall_subset)"
   ]
  },
  {
   "cell_type": "code",
   "execution_count": 171,
   "metadata": {},
   "outputs": [],
   "source": [
    "S1 <- intall_subset[ intall_subset$samplename == \"CHP_315-05-PBMC-DNA\",]"
   ]
  },
  {
   "cell_type": "code",
   "execution_count": 184,
   "metadata": {},
   "outputs": [],
   "source": [
    "myaamat <- matrix(nrow = 20, ncol = 6,\n",
    "                      dimnames = list(rownames(aaT), \n",
    "                                      c(\"Freq\",\"F1\", \"F2\", \"F3\", \"F4\", \"F5\")))"
   ]
  },
  {
   "cell_type": "code",
   "execution_count": 192,
   "metadata": {},
   "outputs": [],
   "source": [
    "myaamat_list <- vector(\"list\", 15)"
   ]
  },
  {
   "cell_type": "code",
   "execution_count": 195,
   "metadata": {},
   "outputs": [],
   "source": [
    "myaamat <- matrix(nrow = 20, ncol = 6,\n",
    "                      dimnames = list(rownames(aaT), \n",
    "                                      c(\"Freq\",\"F1\", \"F2\", \"F3\", \"F4\", \"F5\")))\n",
    "for( i in 1:15){\n",
    "    #This is for sample 1, length 15, position 1\n",
    "    mytab <- table(sapply(strsplit(S1$aaSeqCDR3, \"\"),\"[[\",i) )\n",
    "    myaamat[rownames(mytab),\"Freq\"] <- mytab\n",
    "    myaamat[rownames(mytab), 2:6] <- unlist(aaT[rownames(mytab), 1:5]) * \n",
    "                                        myaamat[rownames(mytab),\"Freq\"]\n",
    "    myaamat_list[[i]] <- myaamat\n",
    "    myaamat[!is.na(myaamat)] <- NA\n",
    "}"
   ]
  },
  {
   "cell_type": "code",
   "execution_count": 205,
   "metadata": {},
   "outputs": [],
   "source": [
    "sum_features_aaP <- lapply(myaamat_list, function(x){ colSums(x[,2:6], na.rm = T)})"
   ]
  },
  {
   "cell_type": "code",
   "execution_count": null,
   "metadata": {},
   "outputs": [],
   "source": []
  },
  {
   "cell_type": "markdown",
   "metadata": {},
   "source": [
    "make a table for each sample for each length and each position\n",
    "rowenames = aa\n",
    "c1 = aa frequencies \n",
    "c2-5 = factor calculattions"
   ]
  },
  {
   "cell_type": "code",
   "execution_count": 49,
   "metadata": {},
   "outputs": [
    {
     "data": {
      "text/html": [
       "<style>\n",
       ".list-inline {list-style: none; margin:0; padding: 0}\n",
       ".list-inline>li {display: inline-block}\n",
       ".list-inline>li:not(:last-child)::after {content: \"\\00b7\"; padding: 0 .5ex}\n",
       "</style>\n",
       "<ol class=list-inline><li>20</li><li>6</li></ol>\n"
      ],
      "text/latex": [
       "\\begin{enumerate*}\n",
       "\\item 20\n",
       "\\item 6\n",
       "\\end{enumerate*}\n"
      ],
      "text/markdown": [
       "1. 20\n",
       "2. 6\n",
       "\n",
       "\n"
      ],
      "text/plain": [
       "[1] 20  6"
      ]
     },
     "metadata": {},
     "output_type": "display_data"
    }
   ],
   "source": [
    "dim(aaT)"
   ]
  },
  {
   "cell_type": "code",
   "execution_count": null,
   "metadata": {},
   "outputs": [],
   "source": [
    "f1 <- −1.343*8\n",
    "f2 <- −0.862*8"
   ]
  },
  {
   "cell_type": "code",
   "execution_count": null,
   "metadata": {},
   "outputs": [],
   "source": [
    "\t0.465\t−0.862\t−1.020\t−0.255"
   ]
  },
  {
   "cell_type": "code",
   "execution_count": 17,
   "metadata": {},
   "outputs": [
    {
     "data": {
      "text/html": [
       "<table class=\"dataframe\">\n",
       "<caption>A data.frame: 9 × 40</caption>\n",
       "<thead>\n",
       "\t<tr><th></th><th scope=col>cloneId</th><th scope=col>cloneCount</th><th scope=col>cloneFraction</th><th scope=col>clonalSequence</th><th scope=col>clonalSequenceQuality</th><th scope=col>allVHitsWithScore</th><th scope=col>allDHitsWithScore</th><th scope=col>allJHitsWithScore</th><th scope=col>allCHitsWithScore</th><th scope=col>allVAlignments</th><th scope=col>⋯</th><th scope=col>aaSeqCDR2</th><th scope=col>aaSeqFR3</th><th scope=col>aaSeqCDR3</th><th scope=col>aaSeqFR4</th><th scope=col>refPoints</th><th scope=col>TRBV</th><th scope=col>TRBJ</th><th scope=col>file</th><th scope=col>samplename</th><th scope=col>aa_length</th></tr>\n",
       "\t<tr><th></th><th scope=col>&lt;int&gt;</th><th scope=col>&lt;int&gt;</th><th scope=col>&lt;dbl&gt;</th><th scope=col>&lt;chr&gt;</th><th scope=col>&lt;chr&gt;</th><th scope=col>&lt;chr&gt;</th><th scope=col>&lt;chr&gt;</th><th scope=col>&lt;chr&gt;</th><th scope=col>&lt;chr&gt;</th><th scope=col>&lt;chr&gt;</th><th scope=col>⋯</th><th scope=col>&lt;lgl&gt;</th><th scope=col>&lt;lgl&gt;</th><th scope=col>&lt;chr&gt;</th><th scope=col>&lt;lgl&gt;</th><th scope=col>&lt;chr&gt;</th><th scope=col>&lt;chr&gt;</th><th scope=col>&lt;chr&gt;</th><th scope=col>&lt;chr&gt;</th><th scope=col>&lt;chr&gt;</th><th scope=col>&lt;int&gt;</th></tr>\n",
       "</thead>\n",
       "<tbody>\n",
       "\t<tr><th scope=row>1</th><td>  0</td><td>187</td><td>0.197674419</td><td>TGTGCCAGCAGCTTCTATGGCAGGGAAGCAGATACGCAGTATTTT</td><td>ENNNNNENNEENENENENNNEENNNEENNNNEKNNNNNNENNNNN</td><td>TRBV7-2*00(367.3)              </td><td>TRBD1*00(25)             </td><td>TRBJ2-3*00(224.8)</td><td>NA</td><td>580|594|617|0|14||70.0                                   </td><td>⋯</td><td>NA</td><td>NA</td><td>CASSFYGREADTQYF</td><td>NA</td><td>:::::::::0:-3:14:20:-4:-3:25:28:-4:45:::</td><td>TRBV7-2 </td><td>TRBJ2-3</td><td>/Users/anabbi/Desktop/H4H/INTERCEPT/NextSeq/batch4_19Aug2019/mixcr/clones/CLONES_TRBCHP_315-05-PBMC-DNA.txt</td><td>CHP_315-05-PBMC-DNA</td><td>15</td></tr>\n",
       "\t<tr><th scope=row>3</th><td> 14</td><td> 48</td><td>0.050739958</td><td>TGTGCCAGCAGCTTAATGGGGGGAGATAGCACTGAAGCTTTCTTT</td><td>EEEEEEEEEEEEEEEEEEEEEEEEEEEEEEEEEEEEEEEEEEEEE</td><td>TRBV7-3*00(159.7)              </td><td>TRBD1*00(25),TRBD2*00(25)</td><td>TRBJ1-1*00(220)  </td><td>NA</td><td>540|556|577|0|16||80.0                                   </td><td>⋯</td><td>NA</td><td>NA</td><td>CASSLMGGDSTEAFF</td><td>NA</td><td>:::::::::0:-1:16:17:-6:-1:22:29:-4:45:::</td><td>TRBV7-3 </td><td>TRBJ1-1</td><td>/Users/anabbi/Desktop/H4H/INTERCEPT/NextSeq/batch4_19Aug2019/mixcr/clones/CLONES_TRBCHP_315-05-PBMC-DNA.txt</td><td>CHP_315-05-PBMC-DNA</td><td>15</td></tr>\n",
       "\t<tr><th scope=row>4</th><td> 15</td><td> 48</td><td>0.050739958</td><td>TGTGCCAGCAGCTTAACCGGGACAGGGGTTGAAAAACTGTTTTTT</td><td>EEEEEEEEEEEEEEEEEEEEEEEEEEEEEEEEEEEEEEEEEEEEE</td><td>TRBV7-3*00(765.2)              </td><td>TRBD1*00(55)             </td><td>TRBJ1-4*00(145)  </td><td>NA</td><td>540|557|577|0|17||85.0                                   </td><td>⋯</td><td>NA</td><td>NA</td><td>CASSLTGTGVEKLFF</td><td>NA</td><td>:::::::::0:0:17:17:1:-2:28:29:-7:45:::  </td><td>TRBV7-3 </td><td>TRBJ1-4</td><td>/Users/anabbi/Desktop/H4H/INTERCEPT/NextSeq/batch4_19Aug2019/mixcr/clones/CLONES_TRBCHP_315-05-PBMC-DNA.txt</td><td>CHP_315-05-PBMC-DNA</td><td>15</td></tr>\n",
       "\t<tr><th scope=row>6</th><td> 29</td><td> 32</td><td>0.033826638</td><td>TGTGCCAGCAGTTACCAAGCGGGGGTGGGTGAGACCCAGTACTTC</td><td>EEEEEEEEEEEEEEEEEEEEEEEEEEEEEEEEEEEEEEEEEEEEE</td><td>TRBV6-6*00(344)                </td><td>TRBD2*00(30)             </td><td>TRBJ2-5*00(214)  </td><td>NA</td><td>516|531|553|0|15||75.0                                   </td><td>⋯</td><td>NA</td><td>NA</td><td>CASSYQAGVGETQYF</td><td>NA</td><td>:::::::::0:-2:15:17:-6:-4:23:30:-5:45:::</td><td>TRBV6-6 </td><td>TRBJ2-5</td><td>/Users/anabbi/Desktop/H4H/INTERCEPT/NextSeq/batch4_19Aug2019/mixcr/clones/CLONES_TRBCHP_315-05-PBMC-DNA.txt</td><td>CHP_315-05-PBMC-DNA</td><td>15</td></tr>\n",
       "\t<tr><th scope=row>9</th><td> 38</td><td> 29</td><td>0.030655391</td><td>TGTGCCAGCAGCGTAGTAGGGGTCTATAATTCACCCCTCCACTTT</td><td>EEEEEEEEEEEEEEEEEEEEEEEEEEEEEEEEEEEEEEEEEEEEE</td><td>TRBV7-2*00(249),TRBV7-8*00(233)</td><td>TRBD1*00(25)             </td><td>TRBJ1-6*00(233.4)</td><td>NA</td><td>580|596|617|0|16|ST592G|64.0;567|583|604|0|16|ST579G|64.0</td><td>⋯</td><td>NA</td><td>NA</td><td>CASSVVGVYNSPLHF</td><td>NA</td><td>:::::::::0:-1:16:17:-5:-2:22:23:-3:45:::</td><td>TRBV7-2 </td><td>TRBJ1-6</td><td>/Users/anabbi/Desktop/H4H/INTERCEPT/NextSeq/batch4_19Aug2019/mixcr/clones/CLONES_TRBCHP_315-05-PBMC-DNA.txt</td><td>CHP_315-05-PBMC-DNA</td><td>15</td></tr>\n",
       "\t<tr><th scope=row>19</th><td> 98</td><td> 17</td><td>0.017970402</td><td>TGTGCCAGCAGTTTAACGCGCCCCTCTGGAAACACCATATATTTT</td><td>EEEEEEEEEEEEEEEEEEEEEEEEEEEEEEEEEEEEEEEEEEEEE</td><td>TRBV3-1*00(659)                </td><td>TRBD1*00(30)             </td><td>TRBJ1-3*00(247.2)</td><td>NA</td><td>543|554|580|0|11||55.0                                   </td><td>⋯</td><td>NA</td><td>NA</td><td>CASSLTRPSGNTIYF</td><td>NA</td><td>:::::::::0:-6:11:17:-10:4:23:23:0:45::: </td><td>TRBV3-1 </td><td>TRBJ1-3</td><td>/Users/anabbi/Desktop/H4H/INTERCEPT/NextSeq/batch4_19Aug2019/mixcr/clones/CLONES_TRBCHP_315-05-PBMC-DNA.txt</td><td>CHP_315-05-PBMC-DNA</td><td>15</td></tr>\n",
       "\t<tr><th scope=row>23</th><td>115</td><td> 15</td><td>0.015856237</td><td>TGCGCCAGCACCCCCGGCGGACAGGGTAATTCACCCCTCCACTTT</td><td>EEEEEEEEEEEEEEEEAEEEEEEEEEEEEEEEEEEEEEEEEEEEE</td><td>TRBV5-1*00(821.8)              </td><td>TRBD1*00(40)             </td><td>TRBJ1-6*00(235)  </td><td>NA</td><td>554|564|590|0|10||50.0                                   </td><td>⋯</td><td>NA</td><td>NA</td><td>CASTPGGQGNSPLHF</td><td>NA</td><td>:::::::::0:-6:10:18:-1:-3:26:26:-6:45:::</td><td>TRBV5-1 </td><td>TRBJ1-6</td><td>/Users/anabbi/Desktop/H4H/INTERCEPT/NextSeq/batch4_19Aug2019/mixcr/clones/CLONES_TRBCHP_315-05-PBMC-DNA.txt</td><td>CHP_315-05-PBMC-DNA</td><td>15</td></tr>\n",
       "\t<tr><th scope=row>24</th><td>117</td><td> 15</td><td>0.015856237</td><td>TGTGCCAGCAGCAAAGCCTCGGATGATCCTACGAGCAGTACTTC </td><td>EEEEEEEEEEEEEEEEEEEEEEEEEEEEEEEEEEEEEEEEEEEE </td><td>TRBV21-1*00(671.8)             </td><td>                         </td><td>TRBJ2-7*00(230)  </td><td>NA</td><td>544|561|581|0|17||85.0                                   </td><td>⋯</td><td>NA</td><td>NA</td><td>CASSKAS_*SYEQYF</td><td>NA</td><td>:::::::::0:0:17:::::26:-1:44:::         </td><td>TRBV21-1</td><td>TRBJ2-7</td><td>/Users/anabbi/Desktop/H4H/INTERCEPT/NextSeq/batch4_19Aug2019/mixcr/clones/CLONES_TRBCHP_315-05-PBMC-DNA.txt</td><td>CHP_315-05-PBMC-DNA</td><td>15</td></tr>\n",
       "\t<tr><th scope=row>36</th><td>191</td><td>  5</td><td>0.005285412</td><td>TGCGCCAGCAGCCAAGGACTAGCGGGCTCCTACGAGCAGTACTTC</td><td>EEEEEEEEEEEEEEEEEEEEEEEEEEEEEEEEEEEEEEEEEEEEE</td><td>TRBV4-1*00(495)                </td><td>TRBD2*00(45)             </td><td>TRBJ2-7*00(240)  </td><td>NA</td><td>537|553|574|0|16||80.0                                   </td><td>⋯</td><td>NA</td><td>NA</td><td>CASSQGLAGSYEQYF</td><td>NA</td><td>:::::::::0:-1:16:16:-2:-5:25:25:1:45::: </td><td>TRBV4-1 </td><td>TRBJ2-7</td><td>/Users/anabbi/Desktop/H4H/INTERCEPT/NextSeq/batch4_19Aug2019/mixcr/clones/CLONES_TRBCHP_315-05-PBMC-DNA.txt</td><td>CHP_315-05-PBMC-DNA</td><td>15</td></tr>\n",
       "</tbody>\n",
       "</table>\n"
      ],
      "text/latex": [
       "A data.frame: 9 × 40\n",
       "\\begin{tabular}{r|lllllllllllllllllllll}\n",
       "  & cloneId & cloneCount & cloneFraction & clonalSequence & clonalSequenceQuality & allVHitsWithScore & allDHitsWithScore & allJHitsWithScore & allCHitsWithScore & allVAlignments & ⋯ & aaSeqCDR2 & aaSeqFR3 & aaSeqCDR3 & aaSeqFR4 & refPoints & TRBV & TRBJ & file & samplename & aa\\_length\\\\\n",
       "  & <int> & <int> & <dbl> & <chr> & <chr> & <chr> & <chr> & <chr> & <chr> & <chr> & ⋯ & <lgl> & <lgl> & <chr> & <lgl> & <chr> & <chr> & <chr> & <chr> & <chr> & <int>\\\\\n",
       "\\hline\n",
       "\t1 &   0 & 187 & 0.197674419 & TGTGCCAGCAGCTTCTATGGCAGGGAAGCAGATACGCAGTATTTT & ENNNNNENNEENENENENNNEENNNEENNNNEKNNNNNNENNNNN & TRBV7-2*00(367.3)               & TRBD1*00(25)              & TRBJ2-3*00(224.8) & NA & 580\\textbar{}594\\textbar{}617\\textbar{}0\\textbar{}14\\textbar{}\\textbar{}70.0                                    & ⋯ & NA & NA & CASSFYGREADTQYF & NA & :::::::::0:-3:14:20:-4:-3:25:28:-4:45::: & TRBV7-2  & TRBJ2-3 & /Users/anabbi/Desktop/H4H/INTERCEPT/NextSeq/batch4\\_19Aug2019/mixcr/clones/CLONES\\_TRBCHP\\_315-05-PBMC-DNA.txt & CHP\\_315-05-PBMC-DNA & 15\\\\\n",
       "\t3 &  14 &  48 & 0.050739958 & TGTGCCAGCAGCTTAATGGGGGGAGATAGCACTGAAGCTTTCTTT & EEEEEEEEEEEEEEEEEEEEEEEEEEEEEEEEEEEEEEEEEEEEE & TRBV7-3*00(159.7)               & TRBD1*00(25),TRBD2*00(25) & TRBJ1-1*00(220)   & NA & 540\\textbar{}556\\textbar{}577\\textbar{}0\\textbar{}16\\textbar{}\\textbar{}80.0                                    & ⋯ & NA & NA & CASSLMGGDSTEAFF & NA & :::::::::0:-1:16:17:-6:-1:22:29:-4:45::: & TRBV7-3  & TRBJ1-1 & /Users/anabbi/Desktop/H4H/INTERCEPT/NextSeq/batch4\\_19Aug2019/mixcr/clones/CLONES\\_TRBCHP\\_315-05-PBMC-DNA.txt & CHP\\_315-05-PBMC-DNA & 15\\\\\n",
       "\t4 &  15 &  48 & 0.050739958 & TGTGCCAGCAGCTTAACCGGGACAGGGGTTGAAAAACTGTTTTTT & EEEEEEEEEEEEEEEEEEEEEEEEEEEEEEEEEEEEEEEEEEEEE & TRBV7-3*00(765.2)               & TRBD1*00(55)              & TRBJ1-4*00(145)   & NA & 540\\textbar{}557\\textbar{}577\\textbar{}0\\textbar{}17\\textbar{}\\textbar{}85.0                                    & ⋯ & NA & NA & CASSLTGTGVEKLFF & NA & :::::::::0:0:17:17:1:-2:28:29:-7:45:::   & TRBV7-3  & TRBJ1-4 & /Users/anabbi/Desktop/H4H/INTERCEPT/NextSeq/batch4\\_19Aug2019/mixcr/clones/CLONES\\_TRBCHP\\_315-05-PBMC-DNA.txt & CHP\\_315-05-PBMC-DNA & 15\\\\\n",
       "\t6 &  29 &  32 & 0.033826638 & TGTGCCAGCAGTTACCAAGCGGGGGTGGGTGAGACCCAGTACTTC & EEEEEEEEEEEEEEEEEEEEEEEEEEEEEEEEEEEEEEEEEEEEE & TRBV6-6*00(344)                 & TRBD2*00(30)              & TRBJ2-5*00(214)   & NA & 516\\textbar{}531\\textbar{}553\\textbar{}0\\textbar{}15\\textbar{}\\textbar{}75.0                                    & ⋯ & NA & NA & CASSYQAGVGETQYF & NA & :::::::::0:-2:15:17:-6:-4:23:30:-5:45::: & TRBV6-6  & TRBJ2-5 & /Users/anabbi/Desktop/H4H/INTERCEPT/NextSeq/batch4\\_19Aug2019/mixcr/clones/CLONES\\_TRBCHP\\_315-05-PBMC-DNA.txt & CHP\\_315-05-PBMC-DNA & 15\\\\\n",
       "\t9 &  38 &  29 & 0.030655391 & TGTGCCAGCAGCGTAGTAGGGGTCTATAATTCACCCCTCCACTTT & EEEEEEEEEEEEEEEEEEEEEEEEEEEEEEEEEEEEEEEEEEEEE & TRBV7-2*00(249),TRBV7-8*00(233) & TRBD1*00(25)              & TRBJ1-6*00(233.4) & NA & 580\\textbar{}596\\textbar{}617\\textbar{}0\\textbar{}16\\textbar{}ST592G\\textbar{}64.0;567\\textbar{}583\\textbar{}604\\textbar{}0\\textbar{}16\\textbar{}ST579G\\textbar{}64.0 & ⋯ & NA & NA & CASSVVGVYNSPLHF & NA & :::::::::0:-1:16:17:-5:-2:22:23:-3:45::: & TRBV7-2  & TRBJ1-6 & /Users/anabbi/Desktop/H4H/INTERCEPT/NextSeq/batch4\\_19Aug2019/mixcr/clones/CLONES\\_TRBCHP\\_315-05-PBMC-DNA.txt & CHP\\_315-05-PBMC-DNA & 15\\\\\n",
       "\t19 &  98 &  17 & 0.017970402 & TGTGCCAGCAGTTTAACGCGCCCCTCTGGAAACACCATATATTTT & EEEEEEEEEEEEEEEEEEEEEEEEEEEEEEEEEEEEEEEEEEEEE & TRBV3-1*00(659)                 & TRBD1*00(30)              & TRBJ1-3*00(247.2) & NA & 543\\textbar{}554\\textbar{}580\\textbar{}0\\textbar{}11\\textbar{}\\textbar{}55.0                                    & ⋯ & NA & NA & CASSLTRPSGNTIYF & NA & :::::::::0:-6:11:17:-10:4:23:23:0:45:::  & TRBV3-1  & TRBJ1-3 & /Users/anabbi/Desktop/H4H/INTERCEPT/NextSeq/batch4\\_19Aug2019/mixcr/clones/CLONES\\_TRBCHP\\_315-05-PBMC-DNA.txt & CHP\\_315-05-PBMC-DNA & 15\\\\\n",
       "\t23 & 115 &  15 & 0.015856237 & TGCGCCAGCACCCCCGGCGGACAGGGTAATTCACCCCTCCACTTT & EEEEEEEEEEEEEEEEAEEEEEEEEEEEEEEEEEEEEEEEEEEEE & TRBV5-1*00(821.8)               & TRBD1*00(40)              & TRBJ1-6*00(235)   & NA & 554\\textbar{}564\\textbar{}590\\textbar{}0\\textbar{}10\\textbar{}\\textbar{}50.0                                    & ⋯ & NA & NA & CASTPGGQGNSPLHF & NA & :::::::::0:-6:10:18:-1:-3:26:26:-6:45::: & TRBV5-1  & TRBJ1-6 & /Users/anabbi/Desktop/H4H/INTERCEPT/NextSeq/batch4\\_19Aug2019/mixcr/clones/CLONES\\_TRBCHP\\_315-05-PBMC-DNA.txt & CHP\\_315-05-PBMC-DNA & 15\\\\\n",
       "\t24 & 117 &  15 & 0.015856237 & TGTGCCAGCAGCAAAGCCTCGGATGATCCTACGAGCAGTACTTC  & EEEEEEEEEEEEEEEEEEEEEEEEEEEEEEEEEEEEEEEEEEEE  & TRBV21-1*00(671.8)              &                           & TRBJ2-7*00(230)   & NA & 544\\textbar{}561\\textbar{}581\\textbar{}0\\textbar{}17\\textbar{}\\textbar{}85.0                                    & ⋯ & NA & NA & CASSKAS\\_*SYEQYF & NA & :::::::::0:0:17:::::26:-1:44:::          & TRBV21-1 & TRBJ2-7 & /Users/anabbi/Desktop/H4H/INTERCEPT/NextSeq/batch4\\_19Aug2019/mixcr/clones/CLONES\\_TRBCHP\\_315-05-PBMC-DNA.txt & CHP\\_315-05-PBMC-DNA & 15\\\\\n",
       "\t36 & 191 &   5 & 0.005285412 & TGCGCCAGCAGCCAAGGACTAGCGGGCTCCTACGAGCAGTACTTC & EEEEEEEEEEEEEEEEEEEEEEEEEEEEEEEEEEEEEEEEEEEEE & TRBV4-1*00(495)                 & TRBD2*00(45)              & TRBJ2-7*00(240)   & NA & 537\\textbar{}553\\textbar{}574\\textbar{}0\\textbar{}16\\textbar{}\\textbar{}80.0                                    & ⋯ & NA & NA & CASSQGLAGSYEQYF & NA & :::::::::0:-1:16:16:-2:-5:25:25:1:45:::  & TRBV4-1  & TRBJ2-7 & /Users/anabbi/Desktop/H4H/INTERCEPT/NextSeq/batch4\\_19Aug2019/mixcr/clones/CLONES\\_TRBCHP\\_315-05-PBMC-DNA.txt & CHP\\_315-05-PBMC-DNA & 15\\\\\n",
       "\\end{tabular}\n"
      ],
      "text/markdown": [
       "\n",
       "A data.frame: 9 × 40\n",
       "\n",
       "| <!--/--> | cloneId &lt;int&gt; | cloneCount &lt;int&gt; | cloneFraction &lt;dbl&gt; | clonalSequence &lt;chr&gt; | clonalSequenceQuality &lt;chr&gt; | allVHitsWithScore &lt;chr&gt; | allDHitsWithScore &lt;chr&gt; | allJHitsWithScore &lt;chr&gt; | allCHitsWithScore &lt;chr&gt; | allVAlignments &lt;chr&gt; | ⋯ ⋯ | aaSeqCDR2 &lt;lgl&gt; | aaSeqFR3 &lt;lgl&gt; | aaSeqCDR3 &lt;chr&gt; | aaSeqFR4 &lt;lgl&gt; | refPoints &lt;chr&gt; | TRBV &lt;chr&gt; | TRBJ &lt;chr&gt; | file &lt;chr&gt; | samplename &lt;chr&gt; | aa_length &lt;int&gt; |\n",
       "|---|---|---|---|---|---|---|---|---|---|---|---|---|---|---|---|---|---|---|---|---|---|\n",
       "| 1 |   0 | 187 | 0.197674419 | TGTGCCAGCAGCTTCTATGGCAGGGAAGCAGATACGCAGTATTTT | ENNNNNENNEENENENENNNEENNNEENNNNEKNNNNNNENNNNN | TRBV7-2*00(367.3)               | TRBD1*00(25)              | TRBJ2-3*00(224.8) | NA | 580|594|617|0|14||70.0                                    | ⋯ | NA | NA | CASSFYGREADTQYF | NA | :::::::::0:-3:14:20:-4:-3:25:28:-4:45::: | TRBV7-2  | TRBJ2-3 | /Users/anabbi/Desktop/H4H/INTERCEPT/NextSeq/batch4_19Aug2019/mixcr/clones/CLONES_TRBCHP_315-05-PBMC-DNA.txt | CHP_315-05-PBMC-DNA | 15 |\n",
       "| 3 |  14 |  48 | 0.050739958 | TGTGCCAGCAGCTTAATGGGGGGAGATAGCACTGAAGCTTTCTTT | EEEEEEEEEEEEEEEEEEEEEEEEEEEEEEEEEEEEEEEEEEEEE | TRBV7-3*00(159.7)               | TRBD1*00(25),TRBD2*00(25) | TRBJ1-1*00(220)   | NA | 540|556|577|0|16||80.0                                    | ⋯ | NA | NA | CASSLMGGDSTEAFF | NA | :::::::::0:-1:16:17:-6:-1:22:29:-4:45::: | TRBV7-3  | TRBJ1-1 | /Users/anabbi/Desktop/H4H/INTERCEPT/NextSeq/batch4_19Aug2019/mixcr/clones/CLONES_TRBCHP_315-05-PBMC-DNA.txt | CHP_315-05-PBMC-DNA | 15 |\n",
       "| 4 |  15 |  48 | 0.050739958 | TGTGCCAGCAGCTTAACCGGGACAGGGGTTGAAAAACTGTTTTTT | EEEEEEEEEEEEEEEEEEEEEEEEEEEEEEEEEEEEEEEEEEEEE | TRBV7-3*00(765.2)               | TRBD1*00(55)              | TRBJ1-4*00(145)   | NA | 540|557|577|0|17||85.0                                    | ⋯ | NA | NA | CASSLTGTGVEKLFF | NA | :::::::::0:0:17:17:1:-2:28:29:-7:45:::   | TRBV7-3  | TRBJ1-4 | /Users/anabbi/Desktop/H4H/INTERCEPT/NextSeq/batch4_19Aug2019/mixcr/clones/CLONES_TRBCHP_315-05-PBMC-DNA.txt | CHP_315-05-PBMC-DNA | 15 |\n",
       "| 6 |  29 |  32 | 0.033826638 | TGTGCCAGCAGTTACCAAGCGGGGGTGGGTGAGACCCAGTACTTC | EEEEEEEEEEEEEEEEEEEEEEEEEEEEEEEEEEEEEEEEEEEEE | TRBV6-6*00(344)                 | TRBD2*00(30)              | TRBJ2-5*00(214)   | NA | 516|531|553|0|15||75.0                                    | ⋯ | NA | NA | CASSYQAGVGETQYF | NA | :::::::::0:-2:15:17:-6:-4:23:30:-5:45::: | TRBV6-6  | TRBJ2-5 | /Users/anabbi/Desktop/H4H/INTERCEPT/NextSeq/batch4_19Aug2019/mixcr/clones/CLONES_TRBCHP_315-05-PBMC-DNA.txt | CHP_315-05-PBMC-DNA | 15 |\n",
       "| 9 |  38 |  29 | 0.030655391 | TGTGCCAGCAGCGTAGTAGGGGTCTATAATTCACCCCTCCACTTT | EEEEEEEEEEEEEEEEEEEEEEEEEEEEEEEEEEEEEEEEEEEEE | TRBV7-2*00(249),TRBV7-8*00(233) | TRBD1*00(25)              | TRBJ1-6*00(233.4) | NA | 580|596|617|0|16|ST592G|64.0;567|583|604|0|16|ST579G|64.0 | ⋯ | NA | NA | CASSVVGVYNSPLHF | NA | :::::::::0:-1:16:17:-5:-2:22:23:-3:45::: | TRBV7-2  | TRBJ1-6 | /Users/anabbi/Desktop/H4H/INTERCEPT/NextSeq/batch4_19Aug2019/mixcr/clones/CLONES_TRBCHP_315-05-PBMC-DNA.txt | CHP_315-05-PBMC-DNA | 15 |\n",
       "| 19 |  98 |  17 | 0.017970402 | TGTGCCAGCAGTTTAACGCGCCCCTCTGGAAACACCATATATTTT | EEEEEEEEEEEEEEEEEEEEEEEEEEEEEEEEEEEEEEEEEEEEE | TRBV3-1*00(659)                 | TRBD1*00(30)              | TRBJ1-3*00(247.2) | NA | 543|554|580|0|11||55.0                                    | ⋯ | NA | NA | CASSLTRPSGNTIYF | NA | :::::::::0:-6:11:17:-10:4:23:23:0:45:::  | TRBV3-1  | TRBJ1-3 | /Users/anabbi/Desktop/H4H/INTERCEPT/NextSeq/batch4_19Aug2019/mixcr/clones/CLONES_TRBCHP_315-05-PBMC-DNA.txt | CHP_315-05-PBMC-DNA | 15 |\n",
       "| 23 | 115 |  15 | 0.015856237 | TGCGCCAGCACCCCCGGCGGACAGGGTAATTCACCCCTCCACTTT | EEEEEEEEEEEEEEEEAEEEEEEEEEEEEEEEEEEEEEEEEEEEE | TRBV5-1*00(821.8)               | TRBD1*00(40)              | TRBJ1-6*00(235)   | NA | 554|564|590|0|10||50.0                                    | ⋯ | NA | NA | CASTPGGQGNSPLHF | NA | :::::::::0:-6:10:18:-1:-3:26:26:-6:45::: | TRBV5-1  | TRBJ1-6 | /Users/anabbi/Desktop/H4H/INTERCEPT/NextSeq/batch4_19Aug2019/mixcr/clones/CLONES_TRBCHP_315-05-PBMC-DNA.txt | CHP_315-05-PBMC-DNA | 15 |\n",
       "| 24 | 117 |  15 | 0.015856237 | TGTGCCAGCAGCAAAGCCTCGGATGATCCTACGAGCAGTACTTC  | EEEEEEEEEEEEEEEEEEEEEEEEEEEEEEEEEEEEEEEEEEEE  | TRBV21-1*00(671.8)              | <!----> | TRBJ2-7*00(230)   | NA | 544|561|581|0|17||85.0                                    | ⋯ | NA | NA | CASSKAS_*SYEQYF | NA | :::::::::0:0:17:::::26:-1:44:::          | TRBV21-1 | TRBJ2-7 | /Users/anabbi/Desktop/H4H/INTERCEPT/NextSeq/batch4_19Aug2019/mixcr/clones/CLONES_TRBCHP_315-05-PBMC-DNA.txt | CHP_315-05-PBMC-DNA | 15 |\n",
       "| 36 | 191 |   5 | 0.005285412 | TGCGCCAGCAGCCAAGGACTAGCGGGCTCCTACGAGCAGTACTTC | EEEEEEEEEEEEEEEEEEEEEEEEEEEEEEEEEEEEEEEEEEEEE | TRBV4-1*00(495)                 | TRBD2*00(45)              | TRBJ2-7*00(240)   | NA | 537|553|574|0|16||80.0                                    | ⋯ | NA | NA | CASSQGLAGSYEQYF | NA | :::::::::0:-1:16:16:-2:-5:25:25:1:45:::  | TRBV4-1  | TRBJ2-7 | /Users/anabbi/Desktop/H4H/INTERCEPT/NextSeq/batch4_19Aug2019/mixcr/clones/CLONES_TRBCHP_315-05-PBMC-DNA.txt | CHP_315-05-PBMC-DNA | 15 |\n",
       "\n"
      ],
      "text/plain": [
       "   cloneId cloneCount cloneFraction\n",
       "1    0     187        0.197674419  \n",
       "3   14      48        0.050739958  \n",
       "4   15      48        0.050739958  \n",
       "6   29      32        0.033826638  \n",
       "9   38      29        0.030655391  \n",
       "19  98      17        0.017970402  \n",
       "23 115      15        0.015856237  \n",
       "24 117      15        0.015856237  \n",
       "36 191       5        0.005285412  \n",
       "   clonalSequence                               \n",
       "1  TGTGCCAGCAGCTTCTATGGCAGGGAAGCAGATACGCAGTATTTT\n",
       "3  TGTGCCAGCAGCTTAATGGGGGGAGATAGCACTGAAGCTTTCTTT\n",
       "4  TGTGCCAGCAGCTTAACCGGGACAGGGGTTGAAAAACTGTTTTTT\n",
       "6  TGTGCCAGCAGTTACCAAGCGGGGGTGGGTGAGACCCAGTACTTC\n",
       "9  TGTGCCAGCAGCGTAGTAGGGGTCTATAATTCACCCCTCCACTTT\n",
       "19 TGTGCCAGCAGTTTAACGCGCCCCTCTGGAAACACCATATATTTT\n",
       "23 TGCGCCAGCACCCCCGGCGGACAGGGTAATTCACCCCTCCACTTT\n",
       "24 TGTGCCAGCAGCAAAGCCTCGGATGATCCTACGAGCAGTACTTC \n",
       "36 TGCGCCAGCAGCCAAGGACTAGCGGGCTCCTACGAGCAGTACTTC\n",
       "   clonalSequenceQuality                        \n",
       "1  ENNNNNENNEENENENENNNEENNNEENNNNEKNNNNNNENNNNN\n",
       "3  EEEEEEEEEEEEEEEEEEEEEEEEEEEEEEEEEEEEEEEEEEEEE\n",
       "4  EEEEEEEEEEEEEEEEEEEEEEEEEEEEEEEEEEEEEEEEEEEEE\n",
       "6  EEEEEEEEEEEEEEEEEEEEEEEEEEEEEEEEEEEEEEEEEEEEE\n",
       "9  EEEEEEEEEEEEEEEEEEEEEEEEEEEEEEEEEEEEEEEEEEEEE\n",
       "19 EEEEEEEEEEEEEEEEEEEEEEEEEEEEEEEEEEEEEEEEEEEEE\n",
       "23 EEEEEEEEEEEEEEEEAEEEEEEEEEEEEEEEEEEEEEEEEEEEE\n",
       "24 EEEEEEEEEEEEEEEEEEEEEEEEEEEEEEEEEEEEEEEEEEEE \n",
       "36 EEEEEEEEEEEEEEEEEEEEEEEEEEEEEEEEEEEEEEEEEEEEE\n",
       "   allVHitsWithScore               allDHitsWithScore         allJHitsWithScore\n",
       "1  TRBV7-2*00(367.3)               TRBD1*00(25)              TRBJ2-3*00(224.8)\n",
       "3  TRBV7-3*00(159.7)               TRBD1*00(25),TRBD2*00(25) TRBJ1-1*00(220)  \n",
       "4  TRBV7-3*00(765.2)               TRBD1*00(55)              TRBJ1-4*00(145)  \n",
       "6  TRBV6-6*00(344)                 TRBD2*00(30)              TRBJ2-5*00(214)  \n",
       "9  TRBV7-2*00(249),TRBV7-8*00(233) TRBD1*00(25)              TRBJ1-6*00(233.4)\n",
       "19 TRBV3-1*00(659)                 TRBD1*00(30)              TRBJ1-3*00(247.2)\n",
       "23 TRBV5-1*00(821.8)               TRBD1*00(40)              TRBJ1-6*00(235)  \n",
       "24 TRBV21-1*00(671.8)                                        TRBJ2-7*00(230)  \n",
       "36 TRBV4-1*00(495)                 TRBD2*00(45)              TRBJ2-7*00(240)  \n",
       "   allCHitsWithScore allVAlignments                                           \n",
       "1  NA                580|594|617|0|14||70.0                                   \n",
       "3  NA                540|556|577|0|16||80.0                                   \n",
       "4  NA                540|557|577|0|17||85.0                                   \n",
       "6  NA                516|531|553|0|15||75.0                                   \n",
       "9  NA                580|596|617|0|16|ST592G|64.0;567|583|604|0|16|ST579G|64.0\n",
       "19 NA                543|554|580|0|11||55.0                                   \n",
       "23 NA                554|564|590|0|10||50.0                                   \n",
       "24 NA                544|561|581|0|17||85.0                                   \n",
       "36 NA                537|553|574|0|16||80.0                                   \n",
       "   ⋯ aaSeqCDR2 aaSeqFR3 aaSeqCDR3       aaSeqFR4\n",
       "1  ⋯ NA        NA       CASSFYGREADTQYF NA      \n",
       "3  ⋯ NA        NA       CASSLMGGDSTEAFF NA      \n",
       "4  ⋯ NA        NA       CASSLTGTGVEKLFF NA      \n",
       "6  ⋯ NA        NA       CASSYQAGVGETQYF NA      \n",
       "9  ⋯ NA        NA       CASSVVGVYNSPLHF NA      \n",
       "19 ⋯ NA        NA       CASSLTRPSGNTIYF NA      \n",
       "23 ⋯ NA        NA       CASTPGGQGNSPLHF NA      \n",
       "24 ⋯ NA        NA       CASSKAS_*SYEQYF NA      \n",
       "36 ⋯ NA        NA       CASSQGLAGSYEQYF NA      \n",
       "   refPoints                                TRBV     TRBJ   \n",
       "1  :::::::::0:-3:14:20:-4:-3:25:28:-4:45::: TRBV7-2  TRBJ2-3\n",
       "3  :::::::::0:-1:16:17:-6:-1:22:29:-4:45::: TRBV7-3  TRBJ1-1\n",
       "4  :::::::::0:0:17:17:1:-2:28:29:-7:45:::   TRBV7-3  TRBJ1-4\n",
       "6  :::::::::0:-2:15:17:-6:-4:23:30:-5:45::: TRBV6-6  TRBJ2-5\n",
       "9  :::::::::0:-1:16:17:-5:-2:22:23:-3:45::: TRBV7-2  TRBJ1-6\n",
       "19 :::::::::0:-6:11:17:-10:4:23:23:0:45:::  TRBV3-1  TRBJ1-3\n",
       "23 :::::::::0:-6:10:18:-1:-3:26:26:-6:45::: TRBV5-1  TRBJ1-6\n",
       "24 :::::::::0:0:17:::::26:-1:44:::          TRBV21-1 TRBJ2-7\n",
       "36 :::::::::0:-1:16:16:-2:-5:25:25:1:45:::  TRBV4-1  TRBJ2-7\n",
       "   file                                                                                                       \n",
       "1  /Users/anabbi/Desktop/H4H/INTERCEPT/NextSeq/batch4_19Aug2019/mixcr/clones/CLONES_TRBCHP_315-05-PBMC-DNA.txt\n",
       "3  /Users/anabbi/Desktop/H4H/INTERCEPT/NextSeq/batch4_19Aug2019/mixcr/clones/CLONES_TRBCHP_315-05-PBMC-DNA.txt\n",
       "4  /Users/anabbi/Desktop/H4H/INTERCEPT/NextSeq/batch4_19Aug2019/mixcr/clones/CLONES_TRBCHP_315-05-PBMC-DNA.txt\n",
       "6  /Users/anabbi/Desktop/H4H/INTERCEPT/NextSeq/batch4_19Aug2019/mixcr/clones/CLONES_TRBCHP_315-05-PBMC-DNA.txt\n",
       "9  /Users/anabbi/Desktop/H4H/INTERCEPT/NextSeq/batch4_19Aug2019/mixcr/clones/CLONES_TRBCHP_315-05-PBMC-DNA.txt\n",
       "19 /Users/anabbi/Desktop/H4H/INTERCEPT/NextSeq/batch4_19Aug2019/mixcr/clones/CLONES_TRBCHP_315-05-PBMC-DNA.txt\n",
       "23 /Users/anabbi/Desktop/H4H/INTERCEPT/NextSeq/batch4_19Aug2019/mixcr/clones/CLONES_TRBCHP_315-05-PBMC-DNA.txt\n",
       "24 /Users/anabbi/Desktop/H4H/INTERCEPT/NextSeq/batch4_19Aug2019/mixcr/clones/CLONES_TRBCHP_315-05-PBMC-DNA.txt\n",
       "36 /Users/anabbi/Desktop/H4H/INTERCEPT/NextSeq/batch4_19Aug2019/mixcr/clones/CLONES_TRBCHP_315-05-PBMC-DNA.txt\n",
       "   samplename          aa_length\n",
       "1  CHP_315-05-PBMC-DNA 15       \n",
       "3  CHP_315-05-PBMC-DNA 15       \n",
       "4  CHP_315-05-PBMC-DNA 15       \n",
       "6  CHP_315-05-PBMC-DNA 15       \n",
       "9  CHP_315-05-PBMC-DNA 15       \n",
       "19 CHP_315-05-PBMC-DNA 15       \n",
       "23 CHP_315-05-PBMC-DNA 15       \n",
       "24 CHP_315-05-PBMC-DNA 15       \n",
       "36 CHP_315-05-PBMC-DNA 15       "
      ]
     },
     "metadata": {},
     "output_type": "display_data"
    }
   ],
   "source": [
    "S1"
   ]
  },
  {
   "cell_type": "markdown",
   "metadata": {},
   "source": [
    "# NMI"
   ]
  },
  {
   "cell_type": "code",
   "execution_count": 28,
   "metadata": {},
   "outputs": [],
   "source": [
    "mat <- sapply(as.character(c(\"CASSFYGREADTQYF\", \"CASSVVGVYNSPLHF\", \"CASSLTRPSGNTIYF\",\n",
    "                            \"CASSYQAGVGETQYF\")), function(x){\n",
    "      x <- as.character(x);\n",
    "      x <- strsplit(x, \"\");\n",
    "      x <- unlist( x )\n",
    "   })\n",
    "\n",
    "mat <- t(mat)"
   ]
  },
  {
   "cell_type": "code",
   "execution_count": 29,
   "metadata": {},
   "outputs": [
    {
     "name": "stdout",
     "output_type": "stream",
     "text": [
      "[1] \"1:1\"\n",
      "[1] \"1:2\"\n",
      "[1] \"1:3\"\n",
      "[1] \"1:4\"\n",
      "[1] \"1:5\"\n",
      "[1] \"1:6\"\n",
      "[1] \"1:7\"\n",
      "[1] \"1:8\"\n",
      "[1] \"1:9\"\n",
      "[1] \"1:10\"\n",
      "[1] \"1:11\"\n",
      "[1] \"1:12\"\n",
      "[1] \"1:13\"\n",
      "[1] \"1:14\"\n",
      "[1] \"1:15\"\n",
      "[1] \"2:1\"\n",
      "[1] \"2:2\"\n",
      "[1] \"2:3\"\n",
      "[1] \"2:4\"\n",
      "[1] \"2:5\"\n",
      "[1] \"2:6\"\n",
      "[1] \"2:7\"\n",
      "[1] \"2:8\"\n",
      "[1] \"2:9\"\n",
      "[1] \"2:10\"\n",
      "[1] \"2:11\"\n",
      "[1] \"2:12\"\n",
      "[1] \"2:13\"\n",
      "[1] \"2:14\"\n",
      "[1] \"2:15\"\n",
      "[1] \"3:1\"\n",
      "[1] \"3:2\"\n",
      "[1] \"3:3\"\n",
      "[1] \"3:4\"\n",
      "[1] \"3:5\"\n",
      "[1] \"3:6\"\n",
      "[1] \"3:7\"\n",
      "[1] \"3:8\"\n",
      "[1] \"3:9\"\n",
      "[1] \"3:10\"\n",
      "[1] \"3:11\"\n",
      "[1] \"3:12\"\n",
      "[1] \"3:13\"\n",
      "[1] \"3:14\"\n",
      "[1] \"3:15\"\n",
      "[1] \"4:1\"\n",
      "[1] \"4:2\"\n",
      "[1] \"4:3\"\n",
      "[1] \"4:4\"\n",
      "[1] \"4:5\"\n",
      "[1] \"4:6\"\n",
      "[1] \"4:7\"\n",
      "[1] \"4:8\"\n",
      "[1] \"4:9\"\n",
      "[1] \"4:10\"\n",
      "[1] \"4:11\"\n",
      "[1] \"4:12\"\n",
      "[1] \"4:13\"\n",
      "[1] \"4:14\"\n",
      "[1] \"4:15\"\n",
      "[1] \"5:1\"\n",
      "[1] \"5:2\"\n",
      "[1] \"5:3\"\n",
      "[1] \"5:4\"\n",
      "[1] \"5:5\"\n",
      "[1] \"5:6\"\n",
      "[1] \"5:7\"\n",
      "[1] \"5:8\"\n",
      "[1] \"5:9\"\n",
      "[1] \"5:10\"\n",
      "[1] \"5:11\"\n",
      "[1] \"5:12\"\n",
      "[1] \"5:13\"\n",
      "[1] \"5:14\"\n",
      "[1] \"5:15\"\n",
      "[1] \"6:1\"\n",
      "[1] \"6:2\"\n",
      "[1] \"6:3\"\n",
      "[1] \"6:4\"\n",
      "[1] \"6:5\"\n",
      "[1] \"6:6\"\n",
      "[1] \"6:7\"\n",
      "[1] \"6:8\"\n",
      "[1] \"6:9\"\n",
      "[1] \"6:10\"\n",
      "[1] \"6:11\"\n",
      "[1] \"6:12\"\n",
      "[1] \"6:13\"\n",
      "[1] \"6:14\"\n",
      "[1] \"6:15\"\n",
      "[1] \"7:1\"\n",
      "[1] \"7:2\"\n",
      "[1] \"7:3\"\n",
      "[1] \"7:4\"\n",
      "[1] \"7:5\"\n",
      "[1] \"7:6\"\n",
      "[1] \"7:7\"\n",
      "[1] \"7:8\"\n",
      "[1] \"7:9\"\n",
      "[1] \"7:10\"\n",
      "[1] \"7:11\"\n",
      "[1] \"7:12\"\n",
      "[1] \"7:13\"\n",
      "[1] \"7:14\"\n",
      "[1] \"7:15\"\n",
      "[1] \"8:1\"\n",
      "[1] \"8:2\"\n",
      "[1] \"8:3\"\n",
      "[1] \"8:4\"\n",
      "[1] \"8:5\"\n",
      "[1] \"8:6\"\n",
      "[1] \"8:7\"\n",
      "[1] \"8:8\"\n",
      "[1] \"8:9\"\n",
      "[1] \"8:10\"\n",
      "[1] \"8:11\"\n",
      "[1] \"8:12\"\n",
      "[1] \"8:13\"\n",
      "[1] \"8:14\"\n",
      "[1] \"8:15\"\n",
      "[1] \"9:1\"\n",
      "[1] \"9:2\"\n",
      "[1] \"9:3\"\n",
      "[1] \"9:4\"\n",
      "[1] \"9:5\"\n",
      "[1] \"9:6\"\n",
      "[1] \"9:7\"\n",
      "[1] \"9:8\"\n",
      "[1] \"9:9\"\n",
      "[1] \"9:10\"\n",
      "[1] \"9:11\"\n",
      "[1] \"9:12\"\n",
      "[1] \"9:13\"\n",
      "[1] \"9:14\"\n",
      "[1] \"9:15\"\n",
      "[1] \"10:1\"\n",
      "[1] \"10:2\"\n",
      "[1] \"10:3\"\n",
      "[1] \"10:4\"\n",
      "[1] \"10:5\"\n",
      "[1] \"10:6\"\n",
      "[1] \"10:7\"\n",
      "[1] \"10:8\"\n",
      "[1] \"10:9\"\n",
      "[1] \"10:10\"\n",
      "[1] \"10:11\"\n",
      "[1] \"10:12\"\n",
      "[1] \"10:13\"\n",
      "[1] \"10:14\"\n",
      "[1] \"10:15\"\n",
      "[1] \"11:1\"\n",
      "[1] \"11:2\"\n",
      "[1] \"11:3\"\n",
      "[1] \"11:4\"\n",
      "[1] \"11:5\"\n",
      "[1] \"11:6\"\n",
      "[1] \"11:7\"\n",
      "[1] \"11:8\"\n",
      "[1] \"11:9\"\n",
      "[1] \"11:10\"\n",
      "[1] \"11:11\"\n",
      "[1] \"11:12\"\n",
      "[1] \"11:13\"\n",
      "[1] \"11:14\"\n",
      "[1] \"11:15\"\n",
      "[1] \"12:1\"\n",
      "[1] \"12:2\"\n",
      "[1] \"12:3\"\n",
      "[1] \"12:4\"\n",
      "[1] \"12:5\"\n",
      "[1] \"12:6\"\n",
      "[1] \"12:7\"\n",
      "[1] \"12:8\"\n",
      "[1] \"12:9\"\n",
      "[1] \"12:10\"\n",
      "[1] \"12:11\"\n",
      "[1] \"12:12\"\n",
      "[1] \"12:13\"\n",
      "[1] \"12:14\"\n",
      "[1] \"12:15\"\n",
      "[1] \"13:1\"\n",
      "[1] \"13:2\"\n",
      "[1] \"13:3\"\n",
      "[1] \"13:4\"\n",
      "[1] \"13:5\"\n",
      "[1] \"13:6\"\n",
      "[1] \"13:7\"\n",
      "[1] \"13:8\"\n",
      "[1] \"13:9\"\n",
      "[1] \"13:10\"\n",
      "[1] \"13:11\"\n",
      "[1] \"13:12\"\n",
      "[1] \"13:13\"\n",
      "[1] \"13:14\"\n",
      "[1] \"13:15\"\n",
      "[1] \"14:1\"\n",
      "[1] \"14:2\"\n",
      "[1] \"14:3\"\n",
      "[1] \"14:4\"\n",
      "[1] \"14:5\"\n",
      "[1] \"14:6\"\n",
      "[1] \"14:7\"\n",
      "[1] \"14:8\"\n",
      "[1] \"14:9\"\n",
      "[1] \"14:10\"\n",
      "[1] \"14:11\"\n",
      "[1] \"14:12\"\n",
      "[1] \"14:13\"\n",
      "[1] \"14:14\"\n",
      "[1] \"14:15\"\n",
      "[1] \"15:1\"\n",
      "[1] \"15:2\"\n",
      "[1] \"15:3\"\n",
      "[1] \"15:4\"\n",
      "[1] \"15:5\"\n",
      "[1] \"15:6\"\n",
      "[1] \"15:7\"\n",
      "[1] \"15:8\"\n",
      "[1] \"15:9\"\n",
      "[1] \"15:10\"\n",
      "[1] \"15:11\"\n",
      "[1] \"15:12\"\n",
      "[1] \"15:13\"\n",
      "[1] \"15:14\"\n",
      "[1] \"15:15\"\n"
     ]
    }
   ],
   "source": [
    " res <- data.frame()\n",
    "   for( i in 1:15 ){\n",
    "   for( k in 1:15 ){\n",
    "      print(paste0( i, \":\", k))\n",
    "      d1 <- mat[, c(i,k)]\n",
    "      d1 <- as.data.frame(d1)\n",
    "      colnames(d1) <- c(\"X\",\"Y\")\n",
    "      d1 <- d1[ d1$X!=\"NA\" &  d1$Y!=\"NA\",] #revemo NA\n",
    "      \n",
    "      xlist <- as.character( unique(d1$X) )\n",
    "      ylist <- as.character( unique(d1$Y) )\n",
    "      \n",
    "      #make frequency table\n",
    "      freq <- matrix(0, nrow=length(xlist), ncol=length(ylist))\n",
    "      row.names(freq) <- xlist\n",
    "      colnames(freq) <- ylist\n",
    "      \n",
    "      for( x in xlist ){\n",
    "      for( y in ylist ){\n",
    "         both <- subset(d1, X==x & Y==y)\n",
    "         freq[ x, y ] <- nrow( both )\n",
    "      }\n",
    "      }\n",
    "      \n",
    "      MI <- mi.empirical(freq, unit=c(\"log\"))\n",
    "      Hx <- entropy.empirical( colSums(freq) )\n",
    "      Hy <- entropy.empirical( rowSums(freq) )\n",
    "      NMI <- 2 * MI / ( Hx + Hy ) #normalized mutual entropy\n",
    "      \n",
    "      dump <- data.frame(i, k, MI, Hx, Hy, NMI)\n",
    "      res <- rbind(res, dump)\n",
    "      \n",
    "   }\n",
    "   }"
   ]
  },
  {
   "cell_type": "code",
   "execution_count": 34,
   "metadata": {},
   "outputs": [
    {
     "data": {
      "text/html": [
       "<table class=\"dataframe\">\n",
       "<caption>A data.frame: 225 × 6</caption>\n",
       "<thead>\n",
       "\t<tr><th scope=col>i</th><th scope=col>k</th><th scope=col>MI</th><th scope=col>Hx</th><th scope=col>Hy</th><th scope=col>NMI</th></tr>\n",
       "\t<tr><th scope=col>&lt;int&gt;</th><th scope=col>&lt;int&gt;</th><th scope=col>&lt;dbl&gt;</th><th scope=col>&lt;dbl&gt;</th><th scope=col>&lt;dbl&gt;</th><th scope=col>&lt;dbl&gt;</th></tr>\n",
       "</thead>\n",
       "<tbody>\n",
       "\t<tr><td>1</td><td> 1</td><td>0</td><td>0.0000000</td><td>0</td><td>NaN</td></tr>\n",
       "\t<tr><td>1</td><td> 2</td><td>0</td><td>0.0000000</td><td>0</td><td>NaN</td></tr>\n",
       "\t<tr><td>1</td><td> 3</td><td>0</td><td>0.0000000</td><td>0</td><td>NaN</td></tr>\n",
       "\t<tr><td>1</td><td> 4</td><td>0</td><td>0.0000000</td><td>0</td><td>NaN</td></tr>\n",
       "\t<tr><td>1</td><td> 5</td><td>0</td><td>1.3862944</td><td>0</td><td>  0</td></tr>\n",
       "\t<tr><td>1</td><td> 6</td><td>0</td><td>1.3862944</td><td>0</td><td>  0</td></tr>\n",
       "\t<tr><td>1</td><td> 7</td><td>0</td><td>1.0397208</td><td>0</td><td>  0</td></tr>\n",
       "\t<tr><td>1</td><td> 8</td><td>0</td><td>1.3862944</td><td>0</td><td>  0</td></tr>\n",
       "\t<tr><td>1</td><td> 9</td><td>0</td><td>1.3862944</td><td>0</td><td>  0</td></tr>\n",
       "\t<tr><td>1</td><td>10</td><td>0</td><td>1.0397208</td><td>0</td><td>  0</td></tr>\n",
       "\t<tr><td>1</td><td>11</td><td>0</td><td>1.3862944</td><td>0</td><td>  0</td></tr>\n",
       "\t<tr><td>1</td><td>12</td><td>0</td><td>0.5623351</td><td>0</td><td>  0</td></tr>\n",
       "\t<tr><td>1</td><td>13</td><td>0</td><td>1.0397208</td><td>0</td><td>  0</td></tr>\n",
       "\t<tr><td>1</td><td>14</td><td>0</td><td>0.5623351</td><td>0</td><td>  0</td></tr>\n",
       "\t<tr><td>1</td><td>15</td><td>0</td><td>0.0000000</td><td>0</td><td>NaN</td></tr>\n",
       "\t<tr><td>2</td><td> 1</td><td>0</td><td>0.0000000</td><td>0</td><td>NaN</td></tr>\n",
       "\t<tr><td>2</td><td> 2</td><td>0</td><td>0.0000000</td><td>0</td><td>NaN</td></tr>\n",
       "\t<tr><td>2</td><td> 3</td><td>0</td><td>0.0000000</td><td>0</td><td>NaN</td></tr>\n",
       "\t<tr><td>2</td><td> 4</td><td>0</td><td>0.0000000</td><td>0</td><td>NaN</td></tr>\n",
       "\t<tr><td>2</td><td> 5</td><td>0</td><td>1.3862944</td><td>0</td><td>  0</td></tr>\n",
       "\t<tr><td>2</td><td> 6</td><td>0</td><td>1.3862944</td><td>0</td><td>  0</td></tr>\n",
       "\t<tr><td>2</td><td> 7</td><td>0</td><td>1.0397208</td><td>0</td><td>  0</td></tr>\n",
       "\t<tr><td>2</td><td> 8</td><td>0</td><td>1.3862944</td><td>0</td><td>  0</td></tr>\n",
       "\t<tr><td>2</td><td> 9</td><td>0</td><td>1.3862944</td><td>0</td><td>  0</td></tr>\n",
       "\t<tr><td>2</td><td>10</td><td>0</td><td>1.0397208</td><td>0</td><td>  0</td></tr>\n",
       "\t<tr><td>2</td><td>11</td><td>0</td><td>1.3862944</td><td>0</td><td>  0</td></tr>\n",
       "\t<tr><td>2</td><td>12</td><td>0</td><td>0.5623351</td><td>0</td><td>  0</td></tr>\n",
       "\t<tr><td>2</td><td>13</td><td>0</td><td>1.0397208</td><td>0</td><td>  0</td></tr>\n",
       "\t<tr><td>2</td><td>14</td><td>0</td><td>0.5623351</td><td>0</td><td>  0</td></tr>\n",
       "\t<tr><td>2</td><td>15</td><td>0</td><td>0.0000000</td><td>0</td><td>NaN</td></tr>\n",
       "\t<tr><td>⋮</td><td>⋮</td><td>⋮</td><td>⋮</td><td>⋮</td><td>⋮</td></tr>\n",
       "\t<tr><td>14</td><td> 1</td><td>0.0000000</td><td>0.0000000</td><td>0.5623351</td><td>0.0000000</td></tr>\n",
       "\t<tr><td>14</td><td> 2</td><td>0.0000000</td><td>0.0000000</td><td>0.5623351</td><td>0.0000000</td></tr>\n",
       "\t<tr><td>14</td><td> 3</td><td>0.0000000</td><td>0.0000000</td><td>0.5623351</td><td>0.0000000</td></tr>\n",
       "\t<tr><td>14</td><td> 4</td><td>0.0000000</td><td>0.0000000</td><td>0.5623351</td><td>0.0000000</td></tr>\n",
       "\t<tr><td>14</td><td> 5</td><td>0.5623351</td><td>1.3862944</td><td>0.5623351</td><td>0.5771596</td></tr>\n",
       "\t<tr><td>14</td><td> 6</td><td>0.5623351</td><td>1.3862944</td><td>0.5623351</td><td>0.5771596</td></tr>\n",
       "\t<tr><td>14</td><td> 7</td><td>0.2157616</td><td>1.0397208</td><td>0.5623351</td><td>0.2693558</td></tr>\n",
       "\t<tr><td>14</td><td> 8</td><td>0.5623351</td><td>1.3862944</td><td>0.5623351</td><td>0.5771596</td></tr>\n",
       "\t<tr><td>14</td><td> 9</td><td>0.5623351</td><td>1.3862944</td><td>0.5623351</td><td>0.5771596</td></tr>\n",
       "\t<tr><td>14</td><td>10</td><td>0.5623351</td><td>1.0397208</td><td>0.5623351</td><td>0.7020169</td></tr>\n",
       "\t<tr><td>14</td><td>11</td><td>0.5623351</td><td>1.3862944</td><td>0.5623351</td><td>0.5771596</td></tr>\n",
       "\t<tr><td>14</td><td>12</td><td>0.5623351</td><td>0.5623351</td><td>0.5623351</td><td>1.0000000</td></tr>\n",
       "\t<tr><td>14</td><td>13</td><td>0.5623351</td><td>1.0397208</td><td>0.5623351</td><td>0.7020169</td></tr>\n",
       "\t<tr><td>14</td><td>14</td><td>0.5623351</td><td>0.5623351</td><td>0.5623351</td><td>1.0000000</td></tr>\n",
       "\t<tr><td>14</td><td>15</td><td>0.0000000</td><td>0.0000000</td><td>0.5623351</td><td>0.0000000</td></tr>\n",
       "\t<tr><td>15</td><td> 1</td><td>0.0000000</td><td>0.0000000</td><td>0.0000000</td><td>      NaN</td></tr>\n",
       "\t<tr><td>15</td><td> 2</td><td>0.0000000</td><td>0.0000000</td><td>0.0000000</td><td>      NaN</td></tr>\n",
       "\t<tr><td>15</td><td> 3</td><td>0.0000000</td><td>0.0000000</td><td>0.0000000</td><td>      NaN</td></tr>\n",
       "\t<tr><td>15</td><td> 4</td><td>0.0000000</td><td>0.0000000</td><td>0.0000000</td><td>      NaN</td></tr>\n",
       "\t<tr><td>15</td><td> 5</td><td>0.0000000</td><td>1.3862944</td><td>0.0000000</td><td>0.0000000</td></tr>\n",
       "\t<tr><td>15</td><td> 6</td><td>0.0000000</td><td>1.3862944</td><td>0.0000000</td><td>0.0000000</td></tr>\n",
       "\t<tr><td>15</td><td> 7</td><td>0.0000000</td><td>1.0397208</td><td>0.0000000</td><td>0.0000000</td></tr>\n",
       "\t<tr><td>15</td><td> 8</td><td>0.0000000</td><td>1.3862944</td><td>0.0000000</td><td>0.0000000</td></tr>\n",
       "\t<tr><td>15</td><td> 9</td><td>0.0000000</td><td>1.3862944</td><td>0.0000000</td><td>0.0000000</td></tr>\n",
       "\t<tr><td>15</td><td>10</td><td>0.0000000</td><td>1.0397208</td><td>0.0000000</td><td>0.0000000</td></tr>\n",
       "\t<tr><td>15</td><td>11</td><td>0.0000000</td><td>1.3862944</td><td>0.0000000</td><td>0.0000000</td></tr>\n",
       "\t<tr><td>15</td><td>12</td><td>0.0000000</td><td>0.5623351</td><td>0.0000000</td><td>0.0000000</td></tr>\n",
       "\t<tr><td>15</td><td>13</td><td>0.0000000</td><td>1.0397208</td><td>0.0000000</td><td>0.0000000</td></tr>\n",
       "\t<tr><td>15</td><td>14</td><td>0.0000000</td><td>0.5623351</td><td>0.0000000</td><td>0.0000000</td></tr>\n",
       "\t<tr><td>15</td><td>15</td><td>0.0000000</td><td>0.0000000</td><td>0.0000000</td><td>      NaN</td></tr>\n",
       "</tbody>\n",
       "</table>\n"
      ],
      "text/latex": [
       "A data.frame: 225 × 6\n",
       "\\begin{tabular}{llllll}\n",
       " i & k & MI & Hx & Hy & NMI\\\\\n",
       " <int> & <int> & <dbl> & <dbl> & <dbl> & <dbl>\\\\\n",
       "\\hline\n",
       "\t 1 &  1 & 0 & 0.0000000 & 0 & NaN\\\\\n",
       "\t 1 &  2 & 0 & 0.0000000 & 0 & NaN\\\\\n",
       "\t 1 &  3 & 0 & 0.0000000 & 0 & NaN\\\\\n",
       "\t 1 &  4 & 0 & 0.0000000 & 0 & NaN\\\\\n",
       "\t 1 &  5 & 0 & 1.3862944 & 0 &   0\\\\\n",
       "\t 1 &  6 & 0 & 1.3862944 & 0 &   0\\\\\n",
       "\t 1 &  7 & 0 & 1.0397208 & 0 &   0\\\\\n",
       "\t 1 &  8 & 0 & 1.3862944 & 0 &   0\\\\\n",
       "\t 1 &  9 & 0 & 1.3862944 & 0 &   0\\\\\n",
       "\t 1 & 10 & 0 & 1.0397208 & 0 &   0\\\\\n",
       "\t 1 & 11 & 0 & 1.3862944 & 0 &   0\\\\\n",
       "\t 1 & 12 & 0 & 0.5623351 & 0 &   0\\\\\n",
       "\t 1 & 13 & 0 & 1.0397208 & 0 &   0\\\\\n",
       "\t 1 & 14 & 0 & 0.5623351 & 0 &   0\\\\\n",
       "\t 1 & 15 & 0 & 0.0000000 & 0 & NaN\\\\\n",
       "\t 2 &  1 & 0 & 0.0000000 & 0 & NaN\\\\\n",
       "\t 2 &  2 & 0 & 0.0000000 & 0 & NaN\\\\\n",
       "\t 2 &  3 & 0 & 0.0000000 & 0 & NaN\\\\\n",
       "\t 2 &  4 & 0 & 0.0000000 & 0 & NaN\\\\\n",
       "\t 2 &  5 & 0 & 1.3862944 & 0 &   0\\\\\n",
       "\t 2 &  6 & 0 & 1.3862944 & 0 &   0\\\\\n",
       "\t 2 &  7 & 0 & 1.0397208 & 0 &   0\\\\\n",
       "\t 2 &  8 & 0 & 1.3862944 & 0 &   0\\\\\n",
       "\t 2 &  9 & 0 & 1.3862944 & 0 &   0\\\\\n",
       "\t 2 & 10 & 0 & 1.0397208 & 0 &   0\\\\\n",
       "\t 2 & 11 & 0 & 1.3862944 & 0 &   0\\\\\n",
       "\t 2 & 12 & 0 & 0.5623351 & 0 &   0\\\\\n",
       "\t 2 & 13 & 0 & 1.0397208 & 0 &   0\\\\\n",
       "\t 2 & 14 & 0 & 0.5623351 & 0 &   0\\\\\n",
       "\t 2 & 15 & 0 & 0.0000000 & 0 & NaN\\\\\n",
       "\t ⋮ & ⋮ & ⋮ & ⋮ & ⋮ & ⋮\\\\\n",
       "\t 14 &  1 & 0.0000000 & 0.0000000 & 0.5623351 & 0.0000000\\\\\n",
       "\t 14 &  2 & 0.0000000 & 0.0000000 & 0.5623351 & 0.0000000\\\\\n",
       "\t 14 &  3 & 0.0000000 & 0.0000000 & 0.5623351 & 0.0000000\\\\\n",
       "\t 14 &  4 & 0.0000000 & 0.0000000 & 0.5623351 & 0.0000000\\\\\n",
       "\t 14 &  5 & 0.5623351 & 1.3862944 & 0.5623351 & 0.5771596\\\\\n",
       "\t 14 &  6 & 0.5623351 & 1.3862944 & 0.5623351 & 0.5771596\\\\\n",
       "\t 14 &  7 & 0.2157616 & 1.0397208 & 0.5623351 & 0.2693558\\\\\n",
       "\t 14 &  8 & 0.5623351 & 1.3862944 & 0.5623351 & 0.5771596\\\\\n",
       "\t 14 &  9 & 0.5623351 & 1.3862944 & 0.5623351 & 0.5771596\\\\\n",
       "\t 14 & 10 & 0.5623351 & 1.0397208 & 0.5623351 & 0.7020169\\\\\n",
       "\t 14 & 11 & 0.5623351 & 1.3862944 & 0.5623351 & 0.5771596\\\\\n",
       "\t 14 & 12 & 0.5623351 & 0.5623351 & 0.5623351 & 1.0000000\\\\\n",
       "\t 14 & 13 & 0.5623351 & 1.0397208 & 0.5623351 & 0.7020169\\\\\n",
       "\t 14 & 14 & 0.5623351 & 0.5623351 & 0.5623351 & 1.0000000\\\\\n",
       "\t 14 & 15 & 0.0000000 & 0.0000000 & 0.5623351 & 0.0000000\\\\\n",
       "\t 15 &  1 & 0.0000000 & 0.0000000 & 0.0000000 &       NaN\\\\\n",
       "\t 15 &  2 & 0.0000000 & 0.0000000 & 0.0000000 &       NaN\\\\\n",
       "\t 15 &  3 & 0.0000000 & 0.0000000 & 0.0000000 &       NaN\\\\\n",
       "\t 15 &  4 & 0.0000000 & 0.0000000 & 0.0000000 &       NaN\\\\\n",
       "\t 15 &  5 & 0.0000000 & 1.3862944 & 0.0000000 & 0.0000000\\\\\n",
       "\t 15 &  6 & 0.0000000 & 1.3862944 & 0.0000000 & 0.0000000\\\\\n",
       "\t 15 &  7 & 0.0000000 & 1.0397208 & 0.0000000 & 0.0000000\\\\\n",
       "\t 15 &  8 & 0.0000000 & 1.3862944 & 0.0000000 & 0.0000000\\\\\n",
       "\t 15 &  9 & 0.0000000 & 1.3862944 & 0.0000000 & 0.0000000\\\\\n",
       "\t 15 & 10 & 0.0000000 & 1.0397208 & 0.0000000 & 0.0000000\\\\\n",
       "\t 15 & 11 & 0.0000000 & 1.3862944 & 0.0000000 & 0.0000000\\\\\n",
       "\t 15 & 12 & 0.0000000 & 0.5623351 & 0.0000000 & 0.0000000\\\\\n",
       "\t 15 & 13 & 0.0000000 & 1.0397208 & 0.0000000 & 0.0000000\\\\\n",
       "\t 15 & 14 & 0.0000000 & 0.5623351 & 0.0000000 & 0.0000000\\\\\n",
       "\t 15 & 15 & 0.0000000 & 0.0000000 & 0.0000000 &       NaN\\\\\n",
       "\\end{tabular}\n"
      ],
      "text/markdown": [
       "\n",
       "A data.frame: 225 × 6\n",
       "\n",
       "| i &lt;int&gt; | k &lt;int&gt; | MI &lt;dbl&gt; | Hx &lt;dbl&gt; | Hy &lt;dbl&gt; | NMI &lt;dbl&gt; |\n",
       "|---|---|---|---|---|---|\n",
       "| 1 |  1 | 0 | 0.0000000 | 0 | NaN |\n",
       "| 1 |  2 | 0 | 0.0000000 | 0 | NaN |\n",
       "| 1 |  3 | 0 | 0.0000000 | 0 | NaN |\n",
       "| 1 |  4 | 0 | 0.0000000 | 0 | NaN |\n",
       "| 1 |  5 | 0 | 1.3862944 | 0 |   0 |\n",
       "| 1 |  6 | 0 | 1.3862944 | 0 |   0 |\n",
       "| 1 |  7 | 0 | 1.0397208 | 0 |   0 |\n",
       "| 1 |  8 | 0 | 1.3862944 | 0 |   0 |\n",
       "| 1 |  9 | 0 | 1.3862944 | 0 |   0 |\n",
       "| 1 | 10 | 0 | 1.0397208 | 0 |   0 |\n",
       "| 1 | 11 | 0 | 1.3862944 | 0 |   0 |\n",
       "| 1 | 12 | 0 | 0.5623351 | 0 |   0 |\n",
       "| 1 | 13 | 0 | 1.0397208 | 0 |   0 |\n",
       "| 1 | 14 | 0 | 0.5623351 | 0 |   0 |\n",
       "| 1 | 15 | 0 | 0.0000000 | 0 | NaN |\n",
       "| 2 |  1 | 0 | 0.0000000 | 0 | NaN |\n",
       "| 2 |  2 | 0 | 0.0000000 | 0 | NaN |\n",
       "| 2 |  3 | 0 | 0.0000000 | 0 | NaN |\n",
       "| 2 |  4 | 0 | 0.0000000 | 0 | NaN |\n",
       "| 2 |  5 | 0 | 1.3862944 | 0 |   0 |\n",
       "| 2 |  6 | 0 | 1.3862944 | 0 |   0 |\n",
       "| 2 |  7 | 0 | 1.0397208 | 0 |   0 |\n",
       "| 2 |  8 | 0 | 1.3862944 | 0 |   0 |\n",
       "| 2 |  9 | 0 | 1.3862944 | 0 |   0 |\n",
       "| 2 | 10 | 0 | 1.0397208 | 0 |   0 |\n",
       "| 2 | 11 | 0 | 1.3862944 | 0 |   0 |\n",
       "| 2 | 12 | 0 | 0.5623351 | 0 |   0 |\n",
       "| 2 | 13 | 0 | 1.0397208 | 0 |   0 |\n",
       "| 2 | 14 | 0 | 0.5623351 | 0 |   0 |\n",
       "| 2 | 15 | 0 | 0.0000000 | 0 | NaN |\n",
       "| ⋮ | ⋮ | ⋮ | ⋮ | ⋮ | ⋮ |\n",
       "| 14 |  1 | 0.0000000 | 0.0000000 | 0.5623351 | 0.0000000 |\n",
       "| 14 |  2 | 0.0000000 | 0.0000000 | 0.5623351 | 0.0000000 |\n",
       "| 14 |  3 | 0.0000000 | 0.0000000 | 0.5623351 | 0.0000000 |\n",
       "| 14 |  4 | 0.0000000 | 0.0000000 | 0.5623351 | 0.0000000 |\n",
       "| 14 |  5 | 0.5623351 | 1.3862944 | 0.5623351 | 0.5771596 |\n",
       "| 14 |  6 | 0.5623351 | 1.3862944 | 0.5623351 | 0.5771596 |\n",
       "| 14 |  7 | 0.2157616 | 1.0397208 | 0.5623351 | 0.2693558 |\n",
       "| 14 |  8 | 0.5623351 | 1.3862944 | 0.5623351 | 0.5771596 |\n",
       "| 14 |  9 | 0.5623351 | 1.3862944 | 0.5623351 | 0.5771596 |\n",
       "| 14 | 10 | 0.5623351 | 1.0397208 | 0.5623351 | 0.7020169 |\n",
       "| 14 | 11 | 0.5623351 | 1.3862944 | 0.5623351 | 0.5771596 |\n",
       "| 14 | 12 | 0.5623351 | 0.5623351 | 0.5623351 | 1.0000000 |\n",
       "| 14 | 13 | 0.5623351 | 1.0397208 | 0.5623351 | 0.7020169 |\n",
       "| 14 | 14 | 0.5623351 | 0.5623351 | 0.5623351 | 1.0000000 |\n",
       "| 14 | 15 | 0.0000000 | 0.0000000 | 0.5623351 | 0.0000000 |\n",
       "| 15 |  1 | 0.0000000 | 0.0000000 | 0.0000000 |       NaN |\n",
       "| 15 |  2 | 0.0000000 | 0.0000000 | 0.0000000 |       NaN |\n",
       "| 15 |  3 | 0.0000000 | 0.0000000 | 0.0000000 |       NaN |\n",
       "| 15 |  4 | 0.0000000 | 0.0000000 | 0.0000000 |       NaN |\n",
       "| 15 |  5 | 0.0000000 | 1.3862944 | 0.0000000 | 0.0000000 |\n",
       "| 15 |  6 | 0.0000000 | 1.3862944 | 0.0000000 | 0.0000000 |\n",
       "| 15 |  7 | 0.0000000 | 1.0397208 | 0.0000000 | 0.0000000 |\n",
       "| 15 |  8 | 0.0000000 | 1.3862944 | 0.0000000 | 0.0000000 |\n",
       "| 15 |  9 | 0.0000000 | 1.3862944 | 0.0000000 | 0.0000000 |\n",
       "| 15 | 10 | 0.0000000 | 1.0397208 | 0.0000000 | 0.0000000 |\n",
       "| 15 | 11 | 0.0000000 | 1.3862944 | 0.0000000 | 0.0000000 |\n",
       "| 15 | 12 | 0.0000000 | 0.5623351 | 0.0000000 | 0.0000000 |\n",
       "| 15 | 13 | 0.0000000 | 1.0397208 | 0.0000000 | 0.0000000 |\n",
       "| 15 | 14 | 0.0000000 | 0.5623351 | 0.0000000 | 0.0000000 |\n",
       "| 15 | 15 | 0.0000000 | 0.0000000 | 0.0000000 |       NaN |\n",
       "\n"
      ],
      "text/plain": [
       "    i  k  MI        Hx        Hy        NMI      \n",
       "1   1   1 0         0.0000000 0         NaN      \n",
       "2   1   2 0         0.0000000 0         NaN      \n",
       "3   1   3 0         0.0000000 0         NaN      \n",
       "4   1   4 0         0.0000000 0         NaN      \n",
       "5   1   5 0         1.3862944 0           0      \n",
       "6   1   6 0         1.3862944 0           0      \n",
       "7   1   7 0         1.0397208 0           0      \n",
       "8   1   8 0         1.3862944 0           0      \n",
       "9   1   9 0         1.3862944 0           0      \n",
       "10  1  10 0         1.0397208 0           0      \n",
       "11  1  11 0         1.3862944 0           0      \n",
       "12  1  12 0         0.5623351 0           0      \n",
       "13  1  13 0         1.0397208 0           0      \n",
       "14  1  14 0         0.5623351 0           0      \n",
       "15  1  15 0         0.0000000 0         NaN      \n",
       "16  2   1 0         0.0000000 0         NaN      \n",
       "17  2   2 0         0.0000000 0         NaN      \n",
       "18  2   3 0         0.0000000 0         NaN      \n",
       "19  2   4 0         0.0000000 0         NaN      \n",
       "20  2   5 0         1.3862944 0           0      \n",
       "21  2   6 0         1.3862944 0           0      \n",
       "22  2   7 0         1.0397208 0           0      \n",
       "23  2   8 0         1.3862944 0           0      \n",
       "24  2   9 0         1.3862944 0           0      \n",
       "25  2  10 0         1.0397208 0           0      \n",
       "26  2  11 0         1.3862944 0           0      \n",
       "27  2  12 0         0.5623351 0           0      \n",
       "28  2  13 0         1.0397208 0           0      \n",
       "29  2  14 0         0.5623351 0           0      \n",
       "30  2  15 0         0.0000000 0         NaN      \n",
       "⋮   ⋮  ⋮  ⋮         ⋮         ⋮         ⋮        \n",
       "196 14  1 0.0000000 0.0000000 0.5623351 0.0000000\n",
       "197 14  2 0.0000000 0.0000000 0.5623351 0.0000000\n",
       "198 14  3 0.0000000 0.0000000 0.5623351 0.0000000\n",
       "199 14  4 0.0000000 0.0000000 0.5623351 0.0000000\n",
       "200 14  5 0.5623351 1.3862944 0.5623351 0.5771596\n",
       "201 14  6 0.5623351 1.3862944 0.5623351 0.5771596\n",
       "202 14  7 0.2157616 1.0397208 0.5623351 0.2693558\n",
       "203 14  8 0.5623351 1.3862944 0.5623351 0.5771596\n",
       "204 14  9 0.5623351 1.3862944 0.5623351 0.5771596\n",
       "205 14 10 0.5623351 1.0397208 0.5623351 0.7020169\n",
       "206 14 11 0.5623351 1.3862944 0.5623351 0.5771596\n",
       "207 14 12 0.5623351 0.5623351 0.5623351 1.0000000\n",
       "208 14 13 0.5623351 1.0397208 0.5623351 0.7020169\n",
       "209 14 14 0.5623351 0.5623351 0.5623351 1.0000000\n",
       "210 14 15 0.0000000 0.0000000 0.5623351 0.0000000\n",
       "211 15  1 0.0000000 0.0000000 0.0000000       NaN\n",
       "212 15  2 0.0000000 0.0000000 0.0000000       NaN\n",
       "213 15  3 0.0000000 0.0000000 0.0000000       NaN\n",
       "214 15  4 0.0000000 0.0000000 0.0000000       NaN\n",
       "215 15  5 0.0000000 1.3862944 0.0000000 0.0000000\n",
       "216 15  6 0.0000000 1.3862944 0.0000000 0.0000000\n",
       "217 15  7 0.0000000 1.0397208 0.0000000 0.0000000\n",
       "218 15  8 0.0000000 1.3862944 0.0000000 0.0000000\n",
       "219 15  9 0.0000000 1.3862944 0.0000000 0.0000000\n",
       "220 15 10 0.0000000 1.0397208 0.0000000 0.0000000\n",
       "221 15 11 0.0000000 1.3862944 0.0000000 0.0000000\n",
       "222 15 12 0.0000000 0.5623351 0.0000000 0.0000000\n",
       "223 15 13 0.0000000 1.0397208 0.0000000 0.0000000\n",
       "224 15 14 0.0000000 0.5623351 0.0000000 0.0000000\n",
       "225 15 15 0.0000000 0.0000000 0.0000000       NaN"
      ]
     },
     "metadata": {},
     "output_type": "display_data"
    }
   ],
   "source": [
    "res"
   ]
  },
  {
   "cell_type": "code",
   "execution_count": null,
   "metadata": {},
   "outputs": [],
   "source": []
  },
  {
   "cell_type": "code",
   "execution_count": null,
   "metadata": {},
   "outputs": [],
   "source": []
  },
  {
   "cell_type": "code",
   "execution_count": null,
   "metadata": {},
   "outputs": [],
   "source": []
  }
 ],
 "metadata": {
  "kernelspec": {
   "display_name": "R 4.0",
   "language": "R",
   "name": "ir40"
  },
  "language_info": {
   "codemirror_mode": "r",
   "file_extension": ".r",
   "mimetype": "text/x-r-source",
   "name": "R",
   "pygments_lexer": "r",
   "version": "4.0.3"
  },
  "toc": {
   "base_numbering": 1,
   "nav_menu": {},
   "number_sections": false,
   "sideBar": true,
   "skip_h1_title": false,
   "title_cell": "Table of Contents",
   "title_sidebar": "Contents",
   "toc_cell": true,
   "toc_position": {
    "height": "calc(100% - 180px)",
    "left": "10px",
    "top": "150px",
    "width": "186.15px"
   },
   "toc_section_display": true,
   "toc_window_display": true
  }
 },
 "nbformat": 4,
 "nbformat_minor": 2
}
