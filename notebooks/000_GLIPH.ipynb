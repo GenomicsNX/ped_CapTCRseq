{
 "cells": [
  {
   "cell_type": "markdown",
   "metadata": {
    "toc": true
   },
   "source": [
    "<h1>Table of Contents<span class=\"tocSkip\"></span></h1>\n",
    "<div class=\"toc\"><ul class=\"toc-item\"><li><span><a href=\"#Dependencies\" data-toc-modified-id=\"Dependencies-1\">Dependencies</a></span></li><li><span><a href=\"#Functions\" data-toc-modified-id=\"Functions-2\">Functions</a></span></li><li><span><a href=\"#Paths\" data-toc-modified-id=\"Paths-3\">Paths</a></span></li><li><span><a href=\"#Main\" data-toc-modified-id=\"Main-4\">Main</a></span></li></ul></div>"
   ]
  },
  {
   "cell_type": "markdown",
   "metadata": {},
   "source": [
    "# Dependencies"
   ]
  },
  {
   "cell_type": "markdown",
   "metadata": {},
   "source": [
    "# Functions"
   ]
  },
  {
   "cell_type": "code",
   "execution_count": 1,
   "metadata": {},
   "outputs": [],
   "source": [
    "source(\"/Users/anabbi/git/ped_CapTCRseq/R/Immune_diversity.R\")"
   ]
  },
  {
   "cell_type": "markdown",
   "metadata": {},
   "source": [
    "# Paths"
   ]
  },
  {
   "cell_type": "code",
   "execution_count": 2,
   "metadata": {},
   "outputs": [],
   "source": [
    "datapath <- \"/Users/anabbi/OneDrive - UHN/Documents/INTERCEPT/Data/\"\n",
    "plotpath <- \"/Users/anabbi/OneDrive - UHN/Documents/INTERCEPT/Plots/\"\n",
    "manifestpath <- \"/Users/anabbi/OneDrive - UHN/Documents/INTERCEPT/Manifests/\"\n",
    "\n",
    "gitpath <- \"/Users/anabbi/git/ped_CapTCRseq/\""
   ]
  },
  {
   "cell_type": "code",
   "execution_count": 3,
   "metadata": {},
   "outputs": [],
   "source": [
    "h4hpath <- \"/Users/anabbi/Desktop/H4H/INTERCEPT/NextSeq/\""
   ]
  },
  {
   "cell_type": "markdown",
   "metadata": {},
   "source": [
    "# Main"
   ]
  },
  {
   "cell_type": "code",
   "execution_count": 4,
   "metadata": {},
   "outputs": [],
   "source": [
    "load(file = paste0(datapath,\"capTCRseq/TRBfiles.RData\"))"
   ]
  },
  {
   "cell_type": "code",
   "execution_count": 5,
   "metadata": {},
   "outputs": [
    {
     "data": {
      "text/html": [
       "<table class=\"dataframe\">\n",
       "<caption>A data.frame: 6 × 3</caption>\n",
       "<thead>\n",
       "\t<tr><th></th><th scope=col>file_list</th><th scope=col>samplename</th><th scope=col>size</th></tr>\n",
       "\t<tr><th></th><th scope=col>&lt;chr&gt;</th><th scope=col>&lt;chr&gt;</th><th scope=col>&lt;dbl&gt;</th></tr>\n",
       "</thead>\n",
       "<tbody>\n",
       "\t<tr><th scope=row>264</th><td>batch4_19Aug2019/mixcr/clones/CLONES_TRBCHP_315-05-PBMC-DNA.txt     </td><td>CHP_315-05-PBMC-DNA</td><td> 16011</td></tr>\n",
       "\t<tr><th scope=row>2</th><td>batch_reseq_24Feb2020/mixcr/clones/CLONES_TRBCHP_350-01-PBMC-DNA.txt</td><td>CHP_350-01-PBMC-DNA</td><td> 85631</td></tr>\n",
       "\t<tr><th scope=row>3</th><td>batch_reseq_24Feb2020/mixcr/clones/CLONES_TRBCHP_350-02-PBMC-DNA.txt</td><td>CHP_350-02-PBMC-DNA</td><td>143632</td></tr>\n",
       "\t<tr><th scope=row>4</th><td>batch_reseq_24Feb2020/mixcr/clones/CLONES_TRBCHP_350-03-PBMC-DNA.txt</td><td>CHP_350-03-PBMC-DNA</td><td>107190</td></tr>\n",
       "\t<tr><th scope=row>5</th><td>batch_reseq_24Feb2020/mixcr/clones/CLONES_TRBCHP_350-04-PBMC-DNA.txt</td><td>CHP_350-04-PBMC-DNA</td><td> 54188</td></tr>\n",
       "\t<tr><th scope=row>6</th><td>batch_reseq_24Feb2020/mixcr/clones/CLONES_TRBCHP_353-02-PBMC-DNA.txt</td><td>CHP_353-02-PBMC-DNA</td><td>  9062</td></tr>\n",
       "</tbody>\n",
       "</table>\n"
      ],
      "text/latex": [
       "A data.frame: 6 × 3\n",
       "\\begin{tabular}{r|lll}\n",
       "  & file\\_list & samplename & size\\\\\n",
       "  & <chr> & <chr> & <dbl>\\\\\n",
       "\\hline\n",
       "\t264 & batch4\\_19Aug2019/mixcr/clones/CLONES\\_TRBCHP\\_315-05-PBMC-DNA.txt      & CHP\\_315-05-PBMC-DNA &  16011\\\\\n",
       "\t2 & batch\\_reseq\\_24Feb2020/mixcr/clones/CLONES\\_TRBCHP\\_350-01-PBMC-DNA.txt & CHP\\_350-01-PBMC-DNA &  85631\\\\\n",
       "\t3 & batch\\_reseq\\_24Feb2020/mixcr/clones/CLONES\\_TRBCHP\\_350-02-PBMC-DNA.txt & CHP\\_350-02-PBMC-DNA & 143632\\\\\n",
       "\t4 & batch\\_reseq\\_24Feb2020/mixcr/clones/CLONES\\_TRBCHP\\_350-03-PBMC-DNA.txt & CHP\\_350-03-PBMC-DNA & 107190\\\\\n",
       "\t5 & batch\\_reseq\\_24Feb2020/mixcr/clones/CLONES\\_TRBCHP\\_350-04-PBMC-DNA.txt & CHP\\_350-04-PBMC-DNA &  54188\\\\\n",
       "\t6 & batch\\_reseq\\_24Feb2020/mixcr/clones/CLONES\\_TRBCHP\\_353-02-PBMC-DNA.txt & CHP\\_353-02-PBMC-DNA &   9062\\\\\n",
       "\\end{tabular}\n"
      ],
      "text/markdown": [
       "\n",
       "A data.frame: 6 × 3\n",
       "\n",
       "| <!--/--> | file_list &lt;chr&gt; | samplename &lt;chr&gt; | size &lt;dbl&gt; |\n",
       "|---|---|---|---|\n",
       "| 264 | batch4_19Aug2019/mixcr/clones/CLONES_TRBCHP_315-05-PBMC-DNA.txt      | CHP_315-05-PBMC-DNA |  16011 |\n",
       "| 2 | batch_reseq_24Feb2020/mixcr/clones/CLONES_TRBCHP_350-01-PBMC-DNA.txt | CHP_350-01-PBMC-DNA |  85631 |\n",
       "| 3 | batch_reseq_24Feb2020/mixcr/clones/CLONES_TRBCHP_350-02-PBMC-DNA.txt | CHP_350-02-PBMC-DNA | 143632 |\n",
       "| 4 | batch_reseq_24Feb2020/mixcr/clones/CLONES_TRBCHP_350-03-PBMC-DNA.txt | CHP_350-03-PBMC-DNA | 107190 |\n",
       "| 5 | batch_reseq_24Feb2020/mixcr/clones/CLONES_TRBCHP_350-04-PBMC-DNA.txt | CHP_350-04-PBMC-DNA |  54188 |\n",
       "| 6 | batch_reseq_24Feb2020/mixcr/clones/CLONES_TRBCHP_353-02-PBMC-DNA.txt | CHP_353-02-PBMC-DNA |   9062 |\n",
       "\n"
      ],
      "text/plain": [
       "    file_list                                                           \n",
       "264 batch4_19Aug2019/mixcr/clones/CLONES_TRBCHP_315-05-PBMC-DNA.txt     \n",
       "2   batch_reseq_24Feb2020/mixcr/clones/CLONES_TRBCHP_350-01-PBMC-DNA.txt\n",
       "3   batch_reseq_24Feb2020/mixcr/clones/CLONES_TRBCHP_350-02-PBMC-DNA.txt\n",
       "4   batch_reseq_24Feb2020/mixcr/clones/CLONES_TRBCHP_350-03-PBMC-DNA.txt\n",
       "5   batch_reseq_24Feb2020/mixcr/clones/CLONES_TRBCHP_350-04-PBMC-DNA.txt\n",
       "6   batch_reseq_24Feb2020/mixcr/clones/CLONES_TRBCHP_353-02-PBMC-DNA.txt\n",
       "    samplename          size  \n",
       "264 CHP_315-05-PBMC-DNA  16011\n",
       "2   CHP_350-01-PBMC-DNA  85631\n",
       "3   CHP_350-02-PBMC-DNA 143632\n",
       "4   CHP_350-03-PBMC-DNA 107190\n",
       "5   CHP_350-04-PBMC-DNA  54188\n",
       "6   CHP_353-02-PBMC-DNA   9062"
      ]
     },
     "metadata": {},
     "output_type": "display_data"
    }
   ],
   "source": [
    "head(file_df_dedup_trb)"
   ]
  },
  {
   "cell_type": "code",
   "execution_count": 6,
   "metadata": {},
   "outputs": [],
   "source": [
    "onefle <- read.table(paste0(h4hpath, file_df_dedup_trb$file_list[1]), sep = \"\\t\", header = TRUE, stringsAsFactors = F)  "
   ]
  },
  {
   "cell_type": "code",
   "execution_count": 7,
   "metadata": {},
   "outputs": [
    {
     "data": {
      "text/html": [
       "'batch4_19Aug2019/mixcr/clones/CLONES_TRBCHP_315-05-PBMC-DNA.txt'"
      ],
      "text/latex": [
       "'batch4\\_19Aug2019/mixcr/clones/CLONES\\_TRBCHP\\_315-05-PBMC-DNA.txt'"
      ],
      "text/markdown": [
       "'batch4_19Aug2019/mixcr/clones/CLONES_TRBCHP_315-05-PBMC-DNA.txt'"
      ],
      "text/plain": [
       "[1] \"batch4_19Aug2019/mixcr/clones/CLONES_TRBCHP_315-05-PBMC-DNA.txt\""
      ]
     },
     "metadata": {},
     "output_type": "display_data"
    }
   ],
   "source": [
    "file_df_dedup_trb$file_list[1]"
   ]
  },
  {
   "cell_type": "code",
   "execution_count": 8,
   "metadata": {},
   "outputs": [],
   "source": [
    "gliph_input <- onefle"
   ]
  },
  {
   "cell_type": "code",
   "execution_count": 9,
   "metadata": {},
   "outputs": [],
   "source": [
    "mylist <- list()\n",
    "\n",
    "for(i in 1:nrow(file_df_dedup_trb)){\n",
    "    \n",
    "    onefle <- read.table(paste0(h4hpath, file_df_dedup_trb$file_list[i]), \n",
    "                         sep = \"\\t\", header = TRUE, stringsAsFactors = F)  \n",
    "    # Remove non-productive\n",
    "    onefle <- onefle[!grepl(\"_\", onefle$aaSeqCDR3),]\n",
    "    onefle <- onefle[!grepl(\"[*]\", onefle$aaSeqCDR3),]\n",
    "    onefle$CDR3b <- onefle$aaSeqCDR3\n",
    "    #next if the file has no productive cdr3\n",
    "    if(nrow(onefle) == 0){ next}\n",
    "    #remove scores\n",
    "    onefle$TRBV <- gsub(\"[*]0.*\", \"\", onefle$allVHitsWithScore)\n",
    "    onefle$TRBJ <- gsub(\"[*]0.*\", \"\", onefle$allJHitsWithScore)\n",
    "\n",
    "    onefle$count <- onefle$cloneCount\n",
    "    onefle$clonefraction <- onefle$cloneFraction\n",
    "    onefle$nSeqCDR3 <- onefle$nSeqCDR3\n",
    "    onefle$file <- paste0(h4hpath, file_df_dedup_trb$file_list[i])\n",
    "    onefle$subject.condition <- file_df_dedup_trb$samplename[i]\n",
    "    mylist[length(mylist) + 1] <- list(onefle[,c(\"CDR3b\", \"TRBV\", \"TRBJ\", \"subject.condition\", \"count\", \"clonefraction\",\n",
    "                                                \"nSeqCDR3\", \"file\")])\n",
    "}"
   ]
  },
  {
   "cell_type": "code",
   "execution_count": 10,
   "metadata": {},
   "outputs": [
    {
     "data": {
      "text/html": [
       "580"
      ],
      "text/latex": [
       "580"
      ],
      "text/markdown": [
       "580"
      ],
      "text/plain": [
       "[1] 580"
      ]
     },
     "metadata": {},
     "output_type": "display_data"
    }
   ],
   "source": [
    "length(mylist)"
   ]
  },
  {
   "cell_type": "code",
   "execution_count": 11,
   "metadata": {},
   "outputs": [],
   "source": [
    "gliph_input <- do.call(\"rbind\", mylist)"
   ]
  },
  {
   "cell_type": "code",
   "execution_count": 12,
   "metadata": {},
   "outputs": [
    {
     "data": {
      "text/html": [
       "<style>\n",
       ".list-inline {list-style: none; margin:0; padding: 0}\n",
       ".list-inline>li {display: inline-block}\n",
       ".list-inline>li:not(:last-child)::after {content: \"\\00b7\"; padding: 0 .5ex}\n",
       "</style>\n",
       "<ol class=list-inline><li>72634</li><li>8</li></ol>\n"
      ],
      "text/latex": [
       "\\begin{enumerate*}\n",
       "\\item 72634\n",
       "\\item 8\n",
       "\\end{enumerate*}\n"
      ],
      "text/markdown": [
       "1. 72634\n",
       "2. 8\n",
       "\n",
       "\n"
      ],
      "text/plain": [
       "[1] 72634     8"
      ]
     },
     "metadata": {},
     "output_type": "display_data"
    }
   ],
   "source": [
    "dim(gliph_input)"
   ]
  },
  {
   "cell_type": "code",
   "execution_count": 13,
   "metadata": {},
   "outputs": [
    {
     "data": {
      "text/html": [
       "<table class=\"dataframe\">\n",
       "<caption>A data.frame: 6 × 8</caption>\n",
       "<thead>\n",
       "\t<tr><th></th><th scope=col>CDR3b</th><th scope=col>TRBV</th><th scope=col>TRBJ</th><th scope=col>subject.condition</th><th scope=col>count</th><th scope=col>clonefraction</th><th scope=col>nSeqCDR3</th><th scope=col>file</th></tr>\n",
       "\t<tr><th></th><th scope=col>&lt;chr&gt;</th><th scope=col>&lt;chr&gt;</th><th scope=col>&lt;chr&gt;</th><th scope=col>&lt;chr&gt;</th><th scope=col>&lt;int&gt;</th><th scope=col>&lt;dbl&gt;</th><th scope=col>&lt;chr&gt;</th><th scope=col>&lt;chr&gt;</th></tr>\n",
       "</thead>\n",
       "<tbody>\n",
       "\t<tr><th scope=row>1</th><td>CASSFYGREADTQYF</td><td>TRBV7-2</td><td>TRBJ2-3</td><td>CHP_315-05-PBMC-DNA</td><td>187</td><td>0.19767442</td><td>TGTGCCAGCAGCTTCTATGGCAGGGAAGCAGATACGCAGTATTTT</td><td>/Users/anabbi/Desktop/H4H/INTERCEPT/NextSeq/batch4_19Aug2019/mixcr/clones/CLONES_TRBCHP_315-05-PBMC-DNA.txt</td></tr>\n",
       "\t<tr><th scope=row>3</th><td>CASSLMGGDSTEAFF</td><td>TRBV7-3</td><td>TRBJ1-1</td><td>CHP_315-05-PBMC-DNA</td><td> 48</td><td>0.05073996</td><td>TGTGCCAGCAGCTTAATGGGGGGAGATAGCACTGAAGCTTTCTTT</td><td>/Users/anabbi/Desktop/H4H/INTERCEPT/NextSeq/batch4_19Aug2019/mixcr/clones/CLONES_TRBCHP_315-05-PBMC-DNA.txt</td></tr>\n",
       "\t<tr><th scope=row>4</th><td>CASSLTGTGVEKLFF</td><td>TRBV7-3</td><td>TRBJ1-4</td><td>CHP_315-05-PBMC-DNA</td><td> 48</td><td>0.05073996</td><td>TGTGCCAGCAGCTTAACCGGGACAGGGGTTGAAAAACTGTTTTTT</td><td>/Users/anabbi/Desktop/H4H/INTERCEPT/NextSeq/batch4_19Aug2019/mixcr/clones/CLONES_TRBCHP_315-05-PBMC-DNA.txt</td></tr>\n",
       "\t<tr><th scope=row>5</th><td>CASSQRGQSTEQYF </td><td>TRBV14 </td><td>TRBJ2-7</td><td>CHP_315-05-PBMC-DNA</td><td> 42</td><td>0.04439746</td><td>TGTGCCAGCAGCCAACGGGGACAGTCAACCGAGCAGTACTTC   </td><td>/Users/anabbi/Desktop/H4H/INTERCEPT/NextSeq/batch4_19Aug2019/mixcr/clones/CLONES_TRBCHP_315-05-PBMC-DNA.txt</td></tr>\n",
       "\t<tr><th scope=row>6</th><td>CASSYQAGVGETQYF</td><td>TRBV6-6</td><td>TRBJ2-5</td><td>CHP_315-05-PBMC-DNA</td><td> 32</td><td>0.03382664</td><td>TGTGCCAGCAGTTACCAAGCGGGGGTGGGTGAGACCCAGTACTTC</td><td>/Users/anabbi/Desktop/H4H/INTERCEPT/NextSeq/batch4_19Aug2019/mixcr/clones/CLONES_TRBCHP_315-05-PBMC-DNA.txt</td></tr>\n",
       "\t<tr><th scope=row>9</th><td>CASSVVGVYNSPLHF</td><td>TRBV7-2</td><td>TRBJ1-6</td><td>CHP_315-05-PBMC-DNA</td><td> 29</td><td>0.03065539</td><td>TGTGCCAGCAGCGTAGTAGGGGTCTATAATTCACCCCTCCACTTT</td><td>/Users/anabbi/Desktop/H4H/INTERCEPT/NextSeq/batch4_19Aug2019/mixcr/clones/CLONES_TRBCHP_315-05-PBMC-DNA.txt</td></tr>\n",
       "</tbody>\n",
       "</table>\n"
      ],
      "text/latex": [
       "A data.frame: 6 × 8\n",
       "\\begin{tabular}{r|llllllll}\n",
       "  & CDR3b & TRBV & TRBJ & subject.condition & count & clonefraction & nSeqCDR3 & file\\\\\n",
       "  & <chr> & <chr> & <chr> & <chr> & <int> & <dbl> & <chr> & <chr>\\\\\n",
       "\\hline\n",
       "\t1 & CASSFYGREADTQYF & TRBV7-2 & TRBJ2-3 & CHP\\_315-05-PBMC-DNA & 187 & 0.19767442 & TGTGCCAGCAGCTTCTATGGCAGGGAAGCAGATACGCAGTATTTT & /Users/anabbi/Desktop/H4H/INTERCEPT/NextSeq/batch4\\_19Aug2019/mixcr/clones/CLONES\\_TRBCHP\\_315-05-PBMC-DNA.txt\\\\\n",
       "\t3 & CASSLMGGDSTEAFF & TRBV7-3 & TRBJ1-1 & CHP\\_315-05-PBMC-DNA &  48 & 0.05073996 & TGTGCCAGCAGCTTAATGGGGGGAGATAGCACTGAAGCTTTCTTT & /Users/anabbi/Desktop/H4H/INTERCEPT/NextSeq/batch4\\_19Aug2019/mixcr/clones/CLONES\\_TRBCHP\\_315-05-PBMC-DNA.txt\\\\\n",
       "\t4 & CASSLTGTGVEKLFF & TRBV7-3 & TRBJ1-4 & CHP\\_315-05-PBMC-DNA &  48 & 0.05073996 & TGTGCCAGCAGCTTAACCGGGACAGGGGTTGAAAAACTGTTTTTT & /Users/anabbi/Desktop/H4H/INTERCEPT/NextSeq/batch4\\_19Aug2019/mixcr/clones/CLONES\\_TRBCHP\\_315-05-PBMC-DNA.txt\\\\\n",
       "\t5 & CASSQRGQSTEQYF  & TRBV14  & TRBJ2-7 & CHP\\_315-05-PBMC-DNA &  42 & 0.04439746 & TGTGCCAGCAGCCAACGGGGACAGTCAACCGAGCAGTACTTC    & /Users/anabbi/Desktop/H4H/INTERCEPT/NextSeq/batch4\\_19Aug2019/mixcr/clones/CLONES\\_TRBCHP\\_315-05-PBMC-DNA.txt\\\\\n",
       "\t6 & CASSYQAGVGETQYF & TRBV6-6 & TRBJ2-5 & CHP\\_315-05-PBMC-DNA &  32 & 0.03382664 & TGTGCCAGCAGTTACCAAGCGGGGGTGGGTGAGACCCAGTACTTC & /Users/anabbi/Desktop/H4H/INTERCEPT/NextSeq/batch4\\_19Aug2019/mixcr/clones/CLONES\\_TRBCHP\\_315-05-PBMC-DNA.txt\\\\\n",
       "\t9 & CASSVVGVYNSPLHF & TRBV7-2 & TRBJ1-6 & CHP\\_315-05-PBMC-DNA &  29 & 0.03065539 & TGTGCCAGCAGCGTAGTAGGGGTCTATAATTCACCCCTCCACTTT & /Users/anabbi/Desktop/H4H/INTERCEPT/NextSeq/batch4\\_19Aug2019/mixcr/clones/CLONES\\_TRBCHP\\_315-05-PBMC-DNA.txt\\\\\n",
       "\\end{tabular}\n"
      ],
      "text/markdown": [
       "\n",
       "A data.frame: 6 × 8\n",
       "\n",
       "| <!--/--> | CDR3b &lt;chr&gt; | TRBV &lt;chr&gt; | TRBJ &lt;chr&gt; | subject.condition &lt;chr&gt; | count &lt;int&gt; | clonefraction &lt;dbl&gt; | nSeqCDR3 &lt;chr&gt; | file &lt;chr&gt; |\n",
       "|---|---|---|---|---|---|---|---|---|\n",
       "| 1 | CASSFYGREADTQYF | TRBV7-2 | TRBJ2-3 | CHP_315-05-PBMC-DNA | 187 | 0.19767442 | TGTGCCAGCAGCTTCTATGGCAGGGAAGCAGATACGCAGTATTTT | /Users/anabbi/Desktop/H4H/INTERCEPT/NextSeq/batch4_19Aug2019/mixcr/clones/CLONES_TRBCHP_315-05-PBMC-DNA.txt |\n",
       "| 3 | CASSLMGGDSTEAFF | TRBV7-3 | TRBJ1-1 | CHP_315-05-PBMC-DNA |  48 | 0.05073996 | TGTGCCAGCAGCTTAATGGGGGGAGATAGCACTGAAGCTTTCTTT | /Users/anabbi/Desktop/H4H/INTERCEPT/NextSeq/batch4_19Aug2019/mixcr/clones/CLONES_TRBCHP_315-05-PBMC-DNA.txt |\n",
       "| 4 | CASSLTGTGVEKLFF | TRBV7-3 | TRBJ1-4 | CHP_315-05-PBMC-DNA |  48 | 0.05073996 | TGTGCCAGCAGCTTAACCGGGACAGGGGTTGAAAAACTGTTTTTT | /Users/anabbi/Desktop/H4H/INTERCEPT/NextSeq/batch4_19Aug2019/mixcr/clones/CLONES_TRBCHP_315-05-PBMC-DNA.txt |\n",
       "| 5 | CASSQRGQSTEQYF  | TRBV14  | TRBJ2-7 | CHP_315-05-PBMC-DNA |  42 | 0.04439746 | TGTGCCAGCAGCCAACGGGGACAGTCAACCGAGCAGTACTTC    | /Users/anabbi/Desktop/H4H/INTERCEPT/NextSeq/batch4_19Aug2019/mixcr/clones/CLONES_TRBCHP_315-05-PBMC-DNA.txt |\n",
       "| 6 | CASSYQAGVGETQYF | TRBV6-6 | TRBJ2-5 | CHP_315-05-PBMC-DNA |  32 | 0.03382664 | TGTGCCAGCAGTTACCAAGCGGGGGTGGGTGAGACCCAGTACTTC | /Users/anabbi/Desktop/H4H/INTERCEPT/NextSeq/batch4_19Aug2019/mixcr/clones/CLONES_TRBCHP_315-05-PBMC-DNA.txt |\n",
       "| 9 | CASSVVGVYNSPLHF | TRBV7-2 | TRBJ1-6 | CHP_315-05-PBMC-DNA |  29 | 0.03065539 | TGTGCCAGCAGCGTAGTAGGGGTCTATAATTCACCCCTCCACTTT | /Users/anabbi/Desktop/H4H/INTERCEPT/NextSeq/batch4_19Aug2019/mixcr/clones/CLONES_TRBCHP_315-05-PBMC-DNA.txt |\n",
       "\n"
      ],
      "text/plain": [
       "  CDR3b           TRBV    TRBJ    subject.condition   count clonefraction\n",
       "1 CASSFYGREADTQYF TRBV7-2 TRBJ2-3 CHP_315-05-PBMC-DNA 187   0.19767442   \n",
       "3 CASSLMGGDSTEAFF TRBV7-3 TRBJ1-1 CHP_315-05-PBMC-DNA  48   0.05073996   \n",
       "4 CASSLTGTGVEKLFF TRBV7-3 TRBJ1-4 CHP_315-05-PBMC-DNA  48   0.05073996   \n",
       "5 CASSQRGQSTEQYF  TRBV14  TRBJ2-7 CHP_315-05-PBMC-DNA  42   0.04439746   \n",
       "6 CASSYQAGVGETQYF TRBV6-6 TRBJ2-5 CHP_315-05-PBMC-DNA  32   0.03382664   \n",
       "9 CASSVVGVYNSPLHF TRBV7-2 TRBJ1-6 CHP_315-05-PBMC-DNA  29   0.03065539   \n",
       "  nSeqCDR3                                     \n",
       "1 TGTGCCAGCAGCTTCTATGGCAGGGAAGCAGATACGCAGTATTTT\n",
       "3 TGTGCCAGCAGCTTAATGGGGGGAGATAGCACTGAAGCTTTCTTT\n",
       "4 TGTGCCAGCAGCTTAACCGGGACAGGGGTTGAAAAACTGTTTTTT\n",
       "5 TGTGCCAGCAGCCAACGGGGACAGTCAACCGAGCAGTACTTC   \n",
       "6 TGTGCCAGCAGTTACCAAGCGGGGGTGGGTGAGACCCAGTACTTC\n",
       "9 TGTGCCAGCAGCGTAGTAGGGGTCTATAATTCACCCCTCCACTTT\n",
       "  file                                                                                                       \n",
       "1 /Users/anabbi/Desktop/H4H/INTERCEPT/NextSeq/batch4_19Aug2019/mixcr/clones/CLONES_TRBCHP_315-05-PBMC-DNA.txt\n",
       "3 /Users/anabbi/Desktop/H4H/INTERCEPT/NextSeq/batch4_19Aug2019/mixcr/clones/CLONES_TRBCHP_315-05-PBMC-DNA.txt\n",
       "4 /Users/anabbi/Desktop/H4H/INTERCEPT/NextSeq/batch4_19Aug2019/mixcr/clones/CLONES_TRBCHP_315-05-PBMC-DNA.txt\n",
       "5 /Users/anabbi/Desktop/H4H/INTERCEPT/NextSeq/batch4_19Aug2019/mixcr/clones/CLONES_TRBCHP_315-05-PBMC-DNA.txt\n",
       "6 /Users/anabbi/Desktop/H4H/INTERCEPT/NextSeq/batch4_19Aug2019/mixcr/clones/CLONES_TRBCHP_315-05-PBMC-DNA.txt\n",
       "9 /Users/anabbi/Desktop/H4H/INTERCEPT/NextSeq/batch4_19Aug2019/mixcr/clones/CLONES_TRBCHP_315-05-PBMC-DNA.txt"
      ]
     },
     "metadata": {},
     "output_type": "display_data"
    }
   ],
   "source": [
    "head(gliph_input)"
   ]
  },
  {
   "cell_type": "code",
   "execution_count": 15,
   "metadata": {},
   "outputs": [],
   "source": [
    "library(data.table)"
   ]
  },
  {
   "cell_type": "code",
   "execution_count": 16,
   "metadata": {},
   "outputs": [
    {
     "ename": "ERROR",
     "evalue": "Error in `[.data.table`(gliph_input, , `:=`(names(ab), ab)): Supplied 68956 items to be assigned to 72634 items of column 'CDR3b'. If you wish to 'recycle' the RHS please use rep() to make this intent clear to readers of your code.\n",
     "output_type": "error",
     "traceback": [
      "Error in `[.data.table`(gliph_input, , `:=`(names(ab), ab)): Supplied 68956 items to be assigned to 72634 items of column 'CDR3b'. If you wish to 'recycle' the RHS please use rep() to make this intent clear to readers of your code.\nTraceback:\n",
      "1. gliph_input[, `:=`(names(ab), ab)]",
      "2. `[.data.table`(gliph_input, , `:=`(names(ab), ab))"
     ]
    }
   ],
   "source": [
    "setDT(gliph_input)\n",
    "\n",
    "ab <- gliph_input[, .(subject = toString(subject.condition),\n",
    "                      file = toString(file),\n",
    "                      count = sum(count)),  by = c(\"CDR3b\", \"TRBV\")]\n",
    "\n",
    "tm <- gliph_input[ match(ab$CDR3b, gliph_input$CDR3b),] #match back to the original dataframe"
   ]
  },
  {
   "cell_type": "code",
   "execution_count": 139,
   "metadata": {},
   "outputs": [
    {
     "data": {
      "text/html": [
       "<style>\n",
       ".list-inline {list-style: none; margin:0; padding: 0}\n",
       ".list-inline>li {display: inline-block}\n",
       ".list-inline>li:not(:last-child)::after {content: \"\\00b7\"; padding: 0 .5ex}\n",
       "</style>\n",
       "<ol class=list-inline><li>68956</li><li>5</li></ol>\n"
      ],
      "text/latex": [
       "\\begin{enumerate*}\n",
       "\\item 68956\n",
       "\\item 5\n",
       "\\end{enumerate*}\n"
      ],
      "text/markdown": [
       "1. 68956\n",
       "2. 5\n",
       "\n",
       "\n"
      ],
      "text/plain": [
       "[1] 68956     5"
      ]
     },
     "metadata": {},
     "output_type": "display_data"
    }
   ],
   "source": [
    "dim(ab)"
   ]
  },
  {
   "cell_type": "code",
   "execution_count": 17,
   "metadata": {},
   "outputs": [
    {
     "data": {
      "text/html": [
       "<style>\n",
       ".list-inline {list-style: none; margin:0; padding: 0}\n",
       ".list-inline>li {display: inline-block}\n",
       ".list-inline>li:not(:last-child)::after {content: \"\\00b7\"; padding: 0 .5ex}\n",
       "</style>\n",
       "<ol class=list-inline><li>72634</li><li>8</li></ol>\n"
      ],
      "text/latex": [
       "\\begin{enumerate*}\n",
       "\\item 72634\n",
       "\\item 8\n",
       "\\end{enumerate*}\n"
      ],
      "text/markdown": [
       "1. 72634\n",
       "2. 8\n",
       "\n",
       "\n"
      ],
      "text/plain": [
       "[1] 72634     8"
      ]
     },
     "metadata": {},
     "output_type": "display_data"
    }
   ],
   "source": [
    "dim(gliph_input)"
   ]
  },
  {
   "cell_type": "code",
   "execution_count": 21,
   "metadata": {},
   "outputs": [
    {
     "data": {
      "text/html": [
       "<table class=\"dataframe\">\n",
       "<caption>A data.table: 2689 × 5</caption>\n",
       "<thead>\n",
       "\t<tr><th scope=col>CDR3b</th><th scope=col>TRBV</th><th scope=col>TRBJ</th><th scope=col>subject</th><th scope=col>count</th></tr>\n",
       "\t<tr><th scope=col>&lt;chr&gt;</th><th scope=col>&lt;chr&gt;</th><th scope=col>&lt;chr&gt;</th><th scope=col>&lt;chr&gt;</th><th scope=col>&lt;int&gt;</th></tr>\n",
       "</thead>\n",
       "<tbody>\n",
       "\t<tr><td>CSVTTGTEAFF       </td><td>TRBV29-1</td><td>TRBJ1-1</td><td>CHP_315-05-PBMC-DNA, CHP_315-05-PBMC-DNA                                                                                                                                                                                             </td><td>  30</td></tr>\n",
       "\t<tr><td>CASSVGGNTEAFF     </td><td>TRBV9   </td><td>TRBJ1-1</td><td>CHP_315-05-PBMC-DNA, CHP_404-05-PBMC-DNA                                                                                                                                                                                             </td><td> 130</td></tr>\n",
       "\t<tr><td>CASSHRGTEAFF      </td><td>TRBV3-1 </td><td>TRBJ1-1</td><td>CHP_350-01-PBMC-DNA, CHP_420-01_cfDNA                                                                                                                                                                                                </td><td> 127</td></tr>\n",
       "\t<tr><td>CASSLNTDTQYF      </td><td>TRBV7-3 </td><td>TRBJ2-3</td><td>CHP_350-01-PBMC-DNA, CHP_338-05-PBMC-DNA                                                                                                                                                                                             </td><td>  11</td></tr>\n",
       "\t<tr><td>CASSDSSGSTDTQYF   </td><td>TRBV6-4 </td><td>TRBJ2-3</td><td>CHP_350-02-PBMC-DNA, CHP_404-05-PBMC-DNA, CHP_368-05-PBMC-DNA, CHP_374-04-PBMC-DNA, CHP_381-02-PBMC-DNA, CHP_366-04_PBMC-DNA, CHP_363-01_PBMC-DNA, CHP_371-01_PBMC-DNA, CHP_371-04_PBMC-DNA, CHP_360-04_PBMC-DNA, CHP-371-03-PBMC-DNA</td><td>2076</td></tr>\n",
       "\t<tr><td>CSASRAGPNEQFF     </td><td>TRBV20-1</td><td>TRBJ2-1</td><td>CHP_350-02-PBMC-DNA, CHP_350-02-PBMC-DNA                                                                                                                                                                                             </td><td>  21</td></tr>\n",
       "\t<tr><td>CASSQEEFGGGPDYEQYF</td><td>TRBV4-1 </td><td>TRBJ2-7</td><td>CHP_350-02-PBMC-DNA, CHP_350-02-PBMC-DNA                                                                                                                                                                                             </td><td>  15</td></tr>\n",
       "\t<tr><td>CASSSNTEAFF       </td><td>TRBV27  </td><td>TRBJ1-1</td><td>CHP_350-02-PBMC-DNA, CHP_399-02_PBMC-DNA                                                                                                                                                                                             </td><td> 185</td></tr>\n",
       "\t<tr><td>CASSRREGQVEQFF    </td><td>TRBV19  </td><td>TRBJ2-1</td><td>CHP_350-02-PBMC-DNA, CHP_350-02-PBMC-DNA                                                                                                                                                                                             </td><td>   8</td></tr>\n",
       "\t<tr><td>CASSDRRIQETQYF    </td><td>TRBV19  </td><td>TRBJ2-5</td><td>CHP_350-02-PBMC-DNA, CHP_350-02-PBMC-DNA                                                                                                                                                                                             </td><td>   6</td></tr>\n",
       "\t<tr><td>CASSFGNTEAFF      </td><td>TRBV7-9 </td><td>TRBJ1-1</td><td>CHP_350-03-PBMC-DNA, CHP_381-02-PBMC-DNA                                                                                                                                                                                             </td><td>  28</td></tr>\n",
       "\t<tr><td>CASSIQGATQYF      </td><td>TRBV19  </td><td>TRBJ2-3</td><td>CHP_350-03-PBMC-DNA, CHP_350-03-PBMC-DNA                                                                                                                                                                                             </td><td>  22</td></tr>\n",
       "\t<tr><td>CASSQGREVHYTQYF   </td><td>TRBV4-2 </td><td>TRBJ2-3</td><td>CHP_350-03-PBMC-DNA, CHP_350-03-PBMC-DNA                                                                                                                                                                                             </td><td>   4</td></tr>\n",
       "\t<tr><td>CASSLVPGPGELFF    </td><td>TRBV7-9 </td><td>TRBJ2-2</td><td>CHP_350-03-PBMC-DNA, CHP_350-03-PBMC-DNA                                                                                                                                                                                             </td><td>   5</td></tr>\n",
       "\t<tr><td>CASEPPGSVNEQFF    </td><td>TRBV6-1 </td><td>TRBJ2-1</td><td>CHP_350-04-PBMC-DNA, CHP_350-04-PBMC-DNA                                                                                                                                                                                             </td><td>   4</td></tr>\n",
       "\t<tr><td>CASSEAGAGELFF     </td><td>TRBV6-1 </td><td>TRBJ2-2</td><td>CHP_353-02-PBMC-DNA, CHP_353-02-PBMC-DNA                                                                                                                                                                                             </td><td>  22</td></tr>\n",
       "\t<tr><td>CASSQGGNTIYF      </td><td>TRBV3-1 </td><td>TRBJ1-3</td><td>CHP_358-02-PBMC-DNA, CHP_348-03-PBMC-DNA                                                                                                                                                                                             </td><td>  41</td></tr>\n",
       "\t<tr><td>CASRYRGLNTEAFF    </td><td>TRBV2   </td><td>TRBJ1-1</td><td>CHP_362-02-PBMC-DNA, CHP_373-01-PBMC-DNA                                                                                                                                                                                             </td><td> 428</td></tr>\n",
       "\t<tr><td>CSARDGQAGDTEAFF   </td><td>TRBV20-1</td><td>TRBJ1-1</td><td>CHP_362-02-PBMC-DNA, CHP_362-01-PBMC-DNA                                                                                                                                                                                             </td><td> 268</td></tr>\n",
       "\t<tr><td>CASSLDRGYGYTF     </td><td>TRBV28  </td><td>TRBJ1-2</td><td>CHP_362-02-PBMC-DNA, CHP_404-05-PBMC-DNA                                                                                                                                                                                             </td><td> 565</td></tr>\n",
       "\t<tr><td>CASSDSSGANVLTF    </td><td>TRBV6-4 </td><td>TRBJ2-6</td><td>CHP_362-02-PBMC-DNA, CHP_391-02_PBMC_DNA, LFS_TCR-4758-PBMC-DNA, CHP_370-02-PBMC-DNA, CHP_361-04-PBMC-DNA, CHP_370-05-PBMC-DNA, CHP_370-03-PBMC-DNA                                                                                  </td><td>  89</td></tr>\n",
       "\t<tr><td>CASSLTDRTAQYF     </td><td>TRBV27  </td><td>TRBJ2-7</td><td>CHP_366-01-PBMC-DNA, CHP_366-04_PBMC-DNA, CHP_366-05_PBMC-DNA                                                                                                                                                                        </td><td>2756</td></tr>\n",
       "\t<tr><td>CASSLGTSLGFYEQYF  </td><td>TRBV7-9 </td><td>TRBJ2-7</td><td>CHP_366-01-PBMC-DNA, CHP_366-05_PBMC-DNA                                                                                                                                                                                             </td><td> 193</td></tr>\n",
       "\t<tr><td>CASSGVYNEQFF      </td><td>TRBV19  </td><td>TRBJ2-1</td><td>CHP_366-01-PBMC-DNA, CHP_366-03_PBMC-DNA, CHP_366-04_PBMC-DNA                                                                                                                                                                        </td><td>1008</td></tr>\n",
       "\t<tr><td>CASSEGGTVYGYTF    </td><td>TRBV6-1 </td><td>TRBJ1-2</td><td>CHP_366-01-PBMC-DNA, CHP_366-04_PBMC-DNA, CHP_366-05_PBMC-DNA                                                                                                                                                                        </td><td>2819</td></tr>\n",
       "\t<tr><td>CASSYSGGDEAFF     </td><td>TRBV6-5 </td><td>TRBJ1-1</td><td>CHP_366-01-PBMC-DNA, CHP_366-05_PBMC-DNA                                                                                                                                                                                             </td><td> 603</td></tr>\n",
       "\t<tr><td>CASSGTSGSTDTQYF   </td><td>TRBV6-4 </td><td>TRBJ2-3</td><td>CHP_366-01-PBMC-DNA, CHP_359-02-PBMC-DNA, CHP_370-05-PBMC-DNA, CHP_366-04_PBMC-DNA, CHP_371-04_PBMC-DNA, CHP-371-03-PBMC-DNA, CHP-371-03-PBMC-DNA                                                                                    </td><td> 505</td></tr>\n",
       "\t<tr><td>CASVGDTEAFF       </td><td>TRBV9   </td><td>TRBJ1-1</td><td>CHP_366-01-PBMC-DNA, CHP_366-05_PBMC-DNA, CHP_390-03_PBMC-DNA                                                                                                                                                                        </td><td> 920</td></tr>\n",
       "\t<tr><td>CASSLEMLGDQETQYF  </td><td>TRBV5-6 </td><td>TRBJ2-5</td><td>CHP_366-01-PBMC-DNA, CHP_366-01-PBMC-DNA                                                                                                                                                                                             </td><td>  20</td></tr>\n",
       "\t<tr><td>CATSRDIGPYPSYEQYF </td><td>TRBV15  </td><td>TRBJ2-7</td><td>CHP_366-01-PBMC-DNA, CHP_366-04_PBMC-DNA                                                                                                                                                                                             </td><td>  40</td></tr>\n",
       "\t<tr><td>⋮</td><td>⋮</td><td>⋮</td><td>⋮</td><td>⋮</td></tr>\n",
       "\t<tr><td>CASRSRIGDYNSPLHF   </td><td>TRBV5-8 </td><td>TRBJ1-6</td><td>CHP-386-05-PBMC-DNA, CHP-386-05-PBMC-DNA                     </td><td>   61</td></tr>\n",
       "\t<tr><td>CSARSLAGYEQYF      </td><td>TRBV20-1</td><td>TRBJ2-7</td><td>CHP-386-05-PBMC-DNA, CHP-386-05-PBMC-DNA                     </td><td>   56</td></tr>\n",
       "\t<tr><td>CATKFGTDPSYEQYF    </td><td>TRBV6-5 </td><td>TRBJ2-7</td><td>CHP-386-05-PBMC-DNA, CHP-386-05-PBMC-DNA                     </td><td>   33</td></tr>\n",
       "\t<tr><td>CASGTGTTGTDTQYF    </td><td>TRBV12-5</td><td>TRBJ2-3</td><td>CHP-386-05-PBMC-DNA, CHP-386-05-PBMC-DNA                     </td><td>   27</td></tr>\n",
       "\t<tr><td>CASSRSGTSGGYEQYF   </td><td>TRBV6-5 </td><td>TRBJ2-7</td><td>CHP-386-05-PBMC-DNA, CHP-386-05-PBMC-DNA                     </td><td>   27</td></tr>\n",
       "\t<tr><td>CASSRGDSFSYTF      </td><td>TRBV6-5 </td><td>TRBJ1-2</td><td>CHP-398-02-PBMC-DNA, CHP-398-02-PBMC-DNA                     </td><td>   63</td></tr>\n",
       "\t<tr><td>CASSLGVQYDTEAFF    </td><td>TRBV7-9 </td><td>TRBJ1-1</td><td>CHP-404-03-PBMC-DNA, CHP-404-03-PBMC-DNA                     </td><td>  298</td></tr>\n",
       "\t<tr><td>CASIGGTEAFF        </td><td>TRBV7-6 </td><td>TRBJ1-1</td><td>CHP-404-03-PBMC-DNA, CHP-404-03-PBMC-DNA                     </td><td>   48</td></tr>\n",
       "\t<tr><td>CASSQEGFSYNEQFF    </td><td>TRBV3-1 </td><td>TRBJ2-1</td><td>CHP-404-03-PBMC-DNA, CHP-404-03-PBMC-DNA                     </td><td>   12</td></tr>\n",
       "\t<tr><td>CASTGQATEAFF       </td><td>TRBV3-1 </td><td>TRBJ1-1</td><td>CHP-411-02-PBMC-DNA, CHP-417-02_-PBMC-DN                     </td><td>  422</td></tr>\n",
       "\t<tr><td>CASSPGMTGGWEETQYF  </td><td>TRBV5-1 </td><td>TRBJ2-5</td><td>CHP-411-02-PBMC-DNA, CHP-411-02-PBMC-DNA                     </td><td>  375</td></tr>\n",
       "\t<tr><td>CASTEGQQRPHSSNYGYTF</td><td>TRBV21-1</td><td>TRBJ1-2</td><td>CHP-411-02-PBMC-DNA, CHP-411-02-PBMC-DNA                     </td><td>  158</td></tr>\n",
       "\t<tr><td>CASSQVGGHTTTGELFF  </td><td>TRBV3-1 </td><td>TRBJ2-2</td><td>CHP-411-02-PBMC-DNA, CHP-417-02_-PBMC-DN                     </td><td>  125</td></tr>\n",
       "\t<tr><td>CASSYSGLAGGGGELFF  </td><td>TRBV6-6 </td><td>TRBJ2-2</td><td>CHP-411-02-PBMC-DNA, CHP-411-02-PBMC-DNA                     </td><td>   71</td></tr>\n",
       "\t<tr><td>CASSSWGREIYEQYF    </td><td>TRBV6-5 </td><td>TRBJ2-7</td><td>CHP-411-02-PBMC-DNA, CHP-411-02-PBMC-DNA, CHP-411-02-PBMC-DNA</td><td>   75</td></tr>\n",
       "\t<tr><td>CASSEAPGTGRDQPQHF  </td><td>TRBV2   </td><td>TRBJ1-5</td><td>CHP-411-02-PBMC-DNA, CHP-411-02-PBMC-DNA                     </td><td>   57</td></tr>\n",
       "\t<tr><td>CSARPTGGWGETQYF    </td><td>TRBV20-1</td><td>TRBJ2-5</td><td>CHP-411-02-PBMC-DNA, CHP-411-02-PBMC-DNA                     </td><td>   63</td></tr>\n",
       "\t<tr><td>CAWSVRQPNSYEQYF    </td><td>TRBV30  </td><td>TRBJ2-7</td><td>CHP-411-02-PBMC-DNA, CHP-411-02-PBMC-DNA                     </td><td>   24</td></tr>\n",
       "\t<tr><td>CASSQVLTFNYGYTF    </td><td>TRBV12-3</td><td>TRBJ1-2</td><td>CHP-411-02-PBMC-DNA, CHP-411-02-PBMC-DNA                     </td><td>   13</td></tr>\n",
       "\t<tr><td>CSASNRGNEKLFF      </td><td>TRBV20-1</td><td>TRBJ1-4</td><td>CHP_349-01_cfDNA, CHP_350-02_cfDNA, CHP_391-03_cfDNA         </td><td> 5748</td></tr>\n",
       "\t<tr><td>CASSLSWGTEAFF      </td><td>TRBV11-1</td><td>TRBJ1-1</td><td>CHP_377-02_cfDNA, CHP_377-02_cfDNA                           </td><td> 1960</td></tr>\n",
       "\t<tr><td>CASSQGALSLNTEAFF   </td><td>TRBV4-2 </td><td>TRBJ1-1</td><td>CHP_378-05_cfDNA, CHP_415-02_cfDNA                           </td><td>10960</td></tr>\n",
       "\t<tr><td>CASSFFGGTEAFF      </td><td>TRBV5-4 </td><td>TRBJ1-1</td><td>CHP_385-04_cfDNA, CHP_391-03_cfDNA                           </td><td> 1998</td></tr>\n",
       "\t<tr><td>CSASWTGSGTEAFF     </td><td>TRBV20-1</td><td>TRBJ1-1</td><td>CHP_385-04_cfDNA, CHP_391-03_cfDNA                           </td><td> 2337</td></tr>\n",
       "\t<tr><td>CASSLAGSSSGNTIYF   </td><td>TRBV5-1 </td><td>TRBJ1-3</td><td>CHP_348-01_cfDNA, CHP_348-03_cfDNA                           </td><td>  796</td></tr>\n",
       "\t<tr><td>CASSFLGRINTEAFF    </td><td>TRBV28  </td><td>TRBJ1-1</td><td>CHP_348-01_cfDNA, CHP_348-03_cfDNA                           </td><td>  266</td></tr>\n",
       "\t<tr><td>CASSQDWIGYTF       </td><td>TRBV4-2 </td><td>TRBJ1-2</td><td>CHP_348-01_cfDNA, CHP_348-03_cfDNA                           </td><td>  566</td></tr>\n",
       "\t<tr><td>CASSRRTGGSDTQYF    </td><td>TRBV19  </td><td>TRBJ2-3</td><td>CHP_350-03_cfDNA, CHP_365-03_cfDNA                           </td><td> 1332</td></tr>\n",
       "\t<tr><td>CSASGTGPRGYTF      </td><td>TRBV20-1</td><td>TRBJ1-2</td><td>CHP_350-03_cfDNA, CHP_365-03_cfDNA                           </td><td>  428</td></tr>\n",
       "\t<tr><td>CASSPRDSLYGYTF     </td><td>TRBV13  </td><td>TRBJ1-2</td><td>CHP_350-03_cfDNA, CHP_365-03_cfDNA                           </td><td>  812</td></tr>\n",
       "</tbody>\n",
       "</table>\n"
      ],
      "text/latex": [
       "A data.table: 2689 × 5\n",
       "\\begin{tabular}{lllll}\n",
       " CDR3b & TRBV & TRBJ & subject & count\\\\\n",
       " <chr> & <chr> & <chr> & <chr> & <int>\\\\\n",
       "\\hline\n",
       "\t CSVTTGTEAFF        & TRBV29-1 & TRBJ1-1 & CHP\\_315-05-PBMC-DNA, CHP\\_315-05-PBMC-DNA                                                                                                                                                                                              &   30\\\\\n",
       "\t CASSVGGNTEAFF      & TRBV9    & TRBJ1-1 & CHP\\_315-05-PBMC-DNA, CHP\\_404-05-PBMC-DNA                                                                                                                                                                                              &  130\\\\\n",
       "\t CASSHRGTEAFF       & TRBV3-1  & TRBJ1-1 & CHP\\_350-01-PBMC-DNA, CHP\\_420-01\\_cfDNA                                                                                                                                                                                                 &  127\\\\\n",
       "\t CASSLNTDTQYF       & TRBV7-3  & TRBJ2-3 & CHP\\_350-01-PBMC-DNA, CHP\\_338-05-PBMC-DNA                                                                                                                                                                                              &   11\\\\\n",
       "\t CASSDSSGSTDTQYF    & TRBV6-4  & TRBJ2-3 & CHP\\_350-02-PBMC-DNA, CHP\\_404-05-PBMC-DNA, CHP\\_368-05-PBMC-DNA, CHP\\_374-04-PBMC-DNA, CHP\\_381-02-PBMC-DNA, CHP\\_366-04\\_PBMC-DNA, CHP\\_363-01\\_PBMC-DNA, CHP\\_371-01\\_PBMC-DNA, CHP\\_371-04\\_PBMC-DNA, CHP\\_360-04\\_PBMC-DNA, CHP-371-03-PBMC-DNA & 2076\\\\\n",
       "\t CSASRAGPNEQFF      & TRBV20-1 & TRBJ2-1 & CHP\\_350-02-PBMC-DNA, CHP\\_350-02-PBMC-DNA                                                                                                                                                                                              &   21\\\\\n",
       "\t CASSQEEFGGGPDYEQYF & TRBV4-1  & TRBJ2-7 & CHP\\_350-02-PBMC-DNA, CHP\\_350-02-PBMC-DNA                                                                                                                                                                                              &   15\\\\\n",
       "\t CASSSNTEAFF        & TRBV27   & TRBJ1-1 & CHP\\_350-02-PBMC-DNA, CHP\\_399-02\\_PBMC-DNA                                                                                                                                                                                              &  185\\\\\n",
       "\t CASSRREGQVEQFF     & TRBV19   & TRBJ2-1 & CHP\\_350-02-PBMC-DNA, CHP\\_350-02-PBMC-DNA                                                                                                                                                                                              &    8\\\\\n",
       "\t CASSDRRIQETQYF     & TRBV19   & TRBJ2-5 & CHP\\_350-02-PBMC-DNA, CHP\\_350-02-PBMC-DNA                                                                                                                                                                                              &    6\\\\\n",
       "\t CASSFGNTEAFF       & TRBV7-9  & TRBJ1-1 & CHP\\_350-03-PBMC-DNA, CHP\\_381-02-PBMC-DNA                                                                                                                                                                                              &   28\\\\\n",
       "\t CASSIQGATQYF       & TRBV19   & TRBJ2-3 & CHP\\_350-03-PBMC-DNA, CHP\\_350-03-PBMC-DNA                                                                                                                                                                                              &   22\\\\\n",
       "\t CASSQGREVHYTQYF    & TRBV4-2  & TRBJ2-3 & CHP\\_350-03-PBMC-DNA, CHP\\_350-03-PBMC-DNA                                                                                                                                                                                              &    4\\\\\n",
       "\t CASSLVPGPGELFF     & TRBV7-9  & TRBJ2-2 & CHP\\_350-03-PBMC-DNA, CHP\\_350-03-PBMC-DNA                                                                                                                                                                                              &    5\\\\\n",
       "\t CASEPPGSVNEQFF     & TRBV6-1  & TRBJ2-1 & CHP\\_350-04-PBMC-DNA, CHP\\_350-04-PBMC-DNA                                                                                                                                                                                              &    4\\\\\n",
       "\t CASSEAGAGELFF      & TRBV6-1  & TRBJ2-2 & CHP\\_353-02-PBMC-DNA, CHP\\_353-02-PBMC-DNA                                                                                                                                                                                              &   22\\\\\n",
       "\t CASSQGGNTIYF       & TRBV3-1  & TRBJ1-3 & CHP\\_358-02-PBMC-DNA, CHP\\_348-03-PBMC-DNA                                                                                                                                                                                              &   41\\\\\n",
       "\t CASRYRGLNTEAFF     & TRBV2    & TRBJ1-1 & CHP\\_362-02-PBMC-DNA, CHP\\_373-01-PBMC-DNA                                                                                                                                                                                              &  428\\\\\n",
       "\t CSARDGQAGDTEAFF    & TRBV20-1 & TRBJ1-1 & CHP\\_362-02-PBMC-DNA, CHP\\_362-01-PBMC-DNA                                                                                                                                                                                              &  268\\\\\n",
       "\t CASSLDRGYGYTF      & TRBV28   & TRBJ1-2 & CHP\\_362-02-PBMC-DNA, CHP\\_404-05-PBMC-DNA                                                                                                                                                                                              &  565\\\\\n",
       "\t CASSDSSGANVLTF     & TRBV6-4  & TRBJ2-6 & CHP\\_362-02-PBMC-DNA, CHP\\_391-02\\_PBMC\\_DNA, LFS\\_TCR-4758-PBMC-DNA, CHP\\_370-02-PBMC-DNA, CHP\\_361-04-PBMC-DNA, CHP\\_370-05-PBMC-DNA, CHP\\_370-03-PBMC-DNA                                                                                   &   89\\\\\n",
       "\t CASSLTDRTAQYF      & TRBV27   & TRBJ2-7 & CHP\\_366-01-PBMC-DNA, CHP\\_366-04\\_PBMC-DNA, CHP\\_366-05\\_PBMC-DNA                                                                                                                                                                         & 2756\\\\\n",
       "\t CASSLGTSLGFYEQYF   & TRBV7-9  & TRBJ2-7 & CHP\\_366-01-PBMC-DNA, CHP\\_366-05\\_PBMC-DNA                                                                                                                                                                                              &  193\\\\\n",
       "\t CASSGVYNEQFF       & TRBV19   & TRBJ2-1 & CHP\\_366-01-PBMC-DNA, CHP\\_366-03\\_PBMC-DNA, CHP\\_366-04\\_PBMC-DNA                                                                                                                                                                         & 1008\\\\\n",
       "\t CASSEGGTVYGYTF     & TRBV6-1  & TRBJ1-2 & CHP\\_366-01-PBMC-DNA, CHP\\_366-04\\_PBMC-DNA, CHP\\_366-05\\_PBMC-DNA                                                                                                                                                                         & 2819\\\\\n",
       "\t CASSYSGGDEAFF      & TRBV6-5  & TRBJ1-1 & CHP\\_366-01-PBMC-DNA, CHP\\_366-05\\_PBMC-DNA                                                                                                                                                                                              &  603\\\\\n",
       "\t CASSGTSGSTDTQYF    & TRBV6-4  & TRBJ2-3 & CHP\\_366-01-PBMC-DNA, CHP\\_359-02-PBMC-DNA, CHP\\_370-05-PBMC-DNA, CHP\\_366-04\\_PBMC-DNA, CHP\\_371-04\\_PBMC-DNA, CHP-371-03-PBMC-DNA, CHP-371-03-PBMC-DNA                                                                                     &  505\\\\\n",
       "\t CASVGDTEAFF        & TRBV9    & TRBJ1-1 & CHP\\_366-01-PBMC-DNA, CHP\\_366-05\\_PBMC-DNA, CHP\\_390-03\\_PBMC-DNA                                                                                                                                                                         &  920\\\\\n",
       "\t CASSLEMLGDQETQYF   & TRBV5-6  & TRBJ2-5 & CHP\\_366-01-PBMC-DNA, CHP\\_366-01-PBMC-DNA                                                                                                                                                                                              &   20\\\\\n",
       "\t CATSRDIGPYPSYEQYF  & TRBV15   & TRBJ2-7 & CHP\\_366-01-PBMC-DNA, CHP\\_366-04\\_PBMC-DNA                                                                                                                                                                                              &   40\\\\\n",
       "\t ⋮ & ⋮ & ⋮ & ⋮ & ⋮\\\\\n",
       "\t CASRSRIGDYNSPLHF    & TRBV5-8  & TRBJ1-6 & CHP-386-05-PBMC-DNA, CHP-386-05-PBMC-DNA                      &    61\\\\\n",
       "\t CSARSLAGYEQYF       & TRBV20-1 & TRBJ2-7 & CHP-386-05-PBMC-DNA, CHP-386-05-PBMC-DNA                      &    56\\\\\n",
       "\t CATKFGTDPSYEQYF     & TRBV6-5  & TRBJ2-7 & CHP-386-05-PBMC-DNA, CHP-386-05-PBMC-DNA                      &    33\\\\\n",
       "\t CASGTGTTGTDTQYF     & TRBV12-5 & TRBJ2-3 & CHP-386-05-PBMC-DNA, CHP-386-05-PBMC-DNA                      &    27\\\\\n",
       "\t CASSRSGTSGGYEQYF    & TRBV6-5  & TRBJ2-7 & CHP-386-05-PBMC-DNA, CHP-386-05-PBMC-DNA                      &    27\\\\\n",
       "\t CASSRGDSFSYTF       & TRBV6-5  & TRBJ1-2 & CHP-398-02-PBMC-DNA, CHP-398-02-PBMC-DNA                      &    63\\\\\n",
       "\t CASSLGVQYDTEAFF     & TRBV7-9  & TRBJ1-1 & CHP-404-03-PBMC-DNA, CHP-404-03-PBMC-DNA                      &   298\\\\\n",
       "\t CASIGGTEAFF         & TRBV7-6  & TRBJ1-1 & CHP-404-03-PBMC-DNA, CHP-404-03-PBMC-DNA                      &    48\\\\\n",
       "\t CASSQEGFSYNEQFF     & TRBV3-1  & TRBJ2-1 & CHP-404-03-PBMC-DNA, CHP-404-03-PBMC-DNA                      &    12\\\\\n",
       "\t CASTGQATEAFF        & TRBV3-1  & TRBJ1-1 & CHP-411-02-PBMC-DNA, CHP-417-02\\_-PBMC-DN                      &   422\\\\\n",
       "\t CASSPGMTGGWEETQYF   & TRBV5-1  & TRBJ2-5 & CHP-411-02-PBMC-DNA, CHP-411-02-PBMC-DNA                      &   375\\\\\n",
       "\t CASTEGQQRPHSSNYGYTF & TRBV21-1 & TRBJ1-2 & CHP-411-02-PBMC-DNA, CHP-411-02-PBMC-DNA                      &   158\\\\\n",
       "\t CASSQVGGHTTTGELFF   & TRBV3-1  & TRBJ2-2 & CHP-411-02-PBMC-DNA, CHP-417-02\\_-PBMC-DN                      &   125\\\\\n",
       "\t CASSYSGLAGGGGELFF   & TRBV6-6  & TRBJ2-2 & CHP-411-02-PBMC-DNA, CHP-411-02-PBMC-DNA                      &    71\\\\\n",
       "\t CASSSWGREIYEQYF     & TRBV6-5  & TRBJ2-7 & CHP-411-02-PBMC-DNA, CHP-411-02-PBMC-DNA, CHP-411-02-PBMC-DNA &    75\\\\\n",
       "\t CASSEAPGTGRDQPQHF   & TRBV2    & TRBJ1-5 & CHP-411-02-PBMC-DNA, CHP-411-02-PBMC-DNA                      &    57\\\\\n",
       "\t CSARPTGGWGETQYF     & TRBV20-1 & TRBJ2-5 & CHP-411-02-PBMC-DNA, CHP-411-02-PBMC-DNA                      &    63\\\\\n",
       "\t CAWSVRQPNSYEQYF     & TRBV30   & TRBJ2-7 & CHP-411-02-PBMC-DNA, CHP-411-02-PBMC-DNA                      &    24\\\\\n",
       "\t CASSQVLTFNYGYTF     & TRBV12-3 & TRBJ1-2 & CHP-411-02-PBMC-DNA, CHP-411-02-PBMC-DNA                      &    13\\\\\n",
       "\t CSASNRGNEKLFF       & TRBV20-1 & TRBJ1-4 & CHP\\_349-01\\_cfDNA, CHP\\_350-02\\_cfDNA, CHP\\_391-03\\_cfDNA          &  5748\\\\\n",
       "\t CASSLSWGTEAFF       & TRBV11-1 & TRBJ1-1 & CHP\\_377-02\\_cfDNA, CHP\\_377-02\\_cfDNA                            &  1960\\\\\n",
       "\t CASSQGALSLNTEAFF    & TRBV4-2  & TRBJ1-1 & CHP\\_378-05\\_cfDNA, CHP\\_415-02\\_cfDNA                            & 10960\\\\\n",
       "\t CASSFFGGTEAFF       & TRBV5-4  & TRBJ1-1 & CHP\\_385-04\\_cfDNA, CHP\\_391-03\\_cfDNA                            &  1998\\\\\n",
       "\t CSASWTGSGTEAFF      & TRBV20-1 & TRBJ1-1 & CHP\\_385-04\\_cfDNA, CHP\\_391-03\\_cfDNA                            &  2337\\\\\n",
       "\t CASSLAGSSSGNTIYF    & TRBV5-1  & TRBJ1-3 & CHP\\_348-01\\_cfDNA, CHP\\_348-03\\_cfDNA                            &   796\\\\\n",
       "\t CASSFLGRINTEAFF     & TRBV28   & TRBJ1-1 & CHP\\_348-01\\_cfDNA, CHP\\_348-03\\_cfDNA                            &   266\\\\\n",
       "\t CASSQDWIGYTF        & TRBV4-2  & TRBJ1-2 & CHP\\_348-01\\_cfDNA, CHP\\_348-03\\_cfDNA                            &   566\\\\\n",
       "\t CASSRRTGGSDTQYF     & TRBV19   & TRBJ2-3 & CHP\\_350-03\\_cfDNA, CHP\\_365-03\\_cfDNA                            &  1332\\\\\n",
       "\t CSASGTGPRGYTF       & TRBV20-1 & TRBJ1-2 & CHP\\_350-03\\_cfDNA, CHP\\_365-03\\_cfDNA                            &   428\\\\\n",
       "\t CASSPRDSLYGYTF      & TRBV13   & TRBJ1-2 & CHP\\_350-03\\_cfDNA, CHP\\_365-03\\_cfDNA                            &   812\\\\\n",
       "\\end{tabular}\n"
      ],
      "text/markdown": [
       "\n",
       "A data.table: 2689 × 5\n",
       "\n",
       "| CDR3b &lt;chr&gt; | TRBV &lt;chr&gt; | TRBJ &lt;chr&gt; | subject &lt;chr&gt; | count &lt;int&gt; |\n",
       "|---|---|---|---|---|\n",
       "| CSVTTGTEAFF        | TRBV29-1 | TRBJ1-1 | CHP_315-05-PBMC-DNA, CHP_315-05-PBMC-DNA                                                                                                                                                                                              |   30 |\n",
       "| CASSVGGNTEAFF      | TRBV9    | TRBJ1-1 | CHP_315-05-PBMC-DNA, CHP_404-05-PBMC-DNA                                                                                                                                                                                              |  130 |\n",
       "| CASSHRGTEAFF       | TRBV3-1  | TRBJ1-1 | CHP_350-01-PBMC-DNA, CHP_420-01_cfDNA                                                                                                                                                                                                 |  127 |\n",
       "| CASSLNTDTQYF       | TRBV7-3  | TRBJ2-3 | CHP_350-01-PBMC-DNA, CHP_338-05-PBMC-DNA                                                                                                                                                                                              |   11 |\n",
       "| CASSDSSGSTDTQYF    | TRBV6-4  | TRBJ2-3 | CHP_350-02-PBMC-DNA, CHP_404-05-PBMC-DNA, CHP_368-05-PBMC-DNA, CHP_374-04-PBMC-DNA, CHP_381-02-PBMC-DNA, CHP_366-04_PBMC-DNA, CHP_363-01_PBMC-DNA, CHP_371-01_PBMC-DNA, CHP_371-04_PBMC-DNA, CHP_360-04_PBMC-DNA, CHP-371-03-PBMC-DNA | 2076 |\n",
       "| CSASRAGPNEQFF      | TRBV20-1 | TRBJ2-1 | CHP_350-02-PBMC-DNA, CHP_350-02-PBMC-DNA                                                                                                                                                                                              |   21 |\n",
       "| CASSQEEFGGGPDYEQYF | TRBV4-1  | TRBJ2-7 | CHP_350-02-PBMC-DNA, CHP_350-02-PBMC-DNA                                                                                                                                                                                              |   15 |\n",
       "| CASSSNTEAFF        | TRBV27   | TRBJ1-1 | CHP_350-02-PBMC-DNA, CHP_399-02_PBMC-DNA                                                                                                                                                                                              |  185 |\n",
       "| CASSRREGQVEQFF     | TRBV19   | TRBJ2-1 | CHP_350-02-PBMC-DNA, CHP_350-02-PBMC-DNA                                                                                                                                                                                              |    8 |\n",
       "| CASSDRRIQETQYF     | TRBV19   | TRBJ2-5 | CHP_350-02-PBMC-DNA, CHP_350-02-PBMC-DNA                                                                                                                                                                                              |    6 |\n",
       "| CASSFGNTEAFF       | TRBV7-9  | TRBJ1-1 | CHP_350-03-PBMC-DNA, CHP_381-02-PBMC-DNA                                                                                                                                                                                              |   28 |\n",
       "| CASSIQGATQYF       | TRBV19   | TRBJ2-3 | CHP_350-03-PBMC-DNA, CHP_350-03-PBMC-DNA                                                                                                                                                                                              |   22 |\n",
       "| CASSQGREVHYTQYF    | TRBV4-2  | TRBJ2-3 | CHP_350-03-PBMC-DNA, CHP_350-03-PBMC-DNA                                                                                                                                                                                              |    4 |\n",
       "| CASSLVPGPGELFF     | TRBV7-9  | TRBJ2-2 | CHP_350-03-PBMC-DNA, CHP_350-03-PBMC-DNA                                                                                                                                                                                              |    5 |\n",
       "| CASEPPGSVNEQFF     | TRBV6-1  | TRBJ2-1 | CHP_350-04-PBMC-DNA, CHP_350-04-PBMC-DNA                                                                                                                                                                                              |    4 |\n",
       "| CASSEAGAGELFF      | TRBV6-1  | TRBJ2-2 | CHP_353-02-PBMC-DNA, CHP_353-02-PBMC-DNA                                                                                                                                                                                              |   22 |\n",
       "| CASSQGGNTIYF       | TRBV3-1  | TRBJ1-3 | CHP_358-02-PBMC-DNA, CHP_348-03-PBMC-DNA                                                                                                                                                                                              |   41 |\n",
       "| CASRYRGLNTEAFF     | TRBV2    | TRBJ1-1 | CHP_362-02-PBMC-DNA, CHP_373-01-PBMC-DNA                                                                                                                                                                                              |  428 |\n",
       "| CSARDGQAGDTEAFF    | TRBV20-1 | TRBJ1-1 | CHP_362-02-PBMC-DNA, CHP_362-01-PBMC-DNA                                                                                                                                                                                              |  268 |\n",
       "| CASSLDRGYGYTF      | TRBV28   | TRBJ1-2 | CHP_362-02-PBMC-DNA, CHP_404-05-PBMC-DNA                                                                                                                                                                                              |  565 |\n",
       "| CASSDSSGANVLTF     | TRBV6-4  | TRBJ2-6 | CHP_362-02-PBMC-DNA, CHP_391-02_PBMC_DNA, LFS_TCR-4758-PBMC-DNA, CHP_370-02-PBMC-DNA, CHP_361-04-PBMC-DNA, CHP_370-05-PBMC-DNA, CHP_370-03-PBMC-DNA                                                                                   |   89 |\n",
       "| CASSLTDRTAQYF      | TRBV27   | TRBJ2-7 | CHP_366-01-PBMC-DNA, CHP_366-04_PBMC-DNA, CHP_366-05_PBMC-DNA                                                                                                                                                                         | 2756 |\n",
       "| CASSLGTSLGFYEQYF   | TRBV7-9  | TRBJ2-7 | CHP_366-01-PBMC-DNA, CHP_366-05_PBMC-DNA                                                                                                                                                                                              |  193 |\n",
       "| CASSGVYNEQFF       | TRBV19   | TRBJ2-1 | CHP_366-01-PBMC-DNA, CHP_366-03_PBMC-DNA, CHP_366-04_PBMC-DNA                                                                                                                                                                         | 1008 |\n",
       "| CASSEGGTVYGYTF     | TRBV6-1  | TRBJ1-2 | CHP_366-01-PBMC-DNA, CHP_366-04_PBMC-DNA, CHP_366-05_PBMC-DNA                                                                                                                                                                         | 2819 |\n",
       "| CASSYSGGDEAFF      | TRBV6-5  | TRBJ1-1 | CHP_366-01-PBMC-DNA, CHP_366-05_PBMC-DNA                                                                                                                                                                                              |  603 |\n",
       "| CASSGTSGSTDTQYF    | TRBV6-4  | TRBJ2-3 | CHP_366-01-PBMC-DNA, CHP_359-02-PBMC-DNA, CHP_370-05-PBMC-DNA, CHP_366-04_PBMC-DNA, CHP_371-04_PBMC-DNA, CHP-371-03-PBMC-DNA, CHP-371-03-PBMC-DNA                                                                                     |  505 |\n",
       "| CASVGDTEAFF        | TRBV9    | TRBJ1-1 | CHP_366-01-PBMC-DNA, CHP_366-05_PBMC-DNA, CHP_390-03_PBMC-DNA                                                                                                                                                                         |  920 |\n",
       "| CASSLEMLGDQETQYF   | TRBV5-6  | TRBJ2-5 | CHP_366-01-PBMC-DNA, CHP_366-01-PBMC-DNA                                                                                                                                                                                              |   20 |\n",
       "| CATSRDIGPYPSYEQYF  | TRBV15   | TRBJ2-7 | CHP_366-01-PBMC-DNA, CHP_366-04_PBMC-DNA                                                                                                                                                                                              |   40 |\n",
       "| ⋮ | ⋮ | ⋮ | ⋮ | ⋮ |\n",
       "| CASRSRIGDYNSPLHF    | TRBV5-8  | TRBJ1-6 | CHP-386-05-PBMC-DNA, CHP-386-05-PBMC-DNA                      |    61 |\n",
       "| CSARSLAGYEQYF       | TRBV20-1 | TRBJ2-7 | CHP-386-05-PBMC-DNA, CHP-386-05-PBMC-DNA                      |    56 |\n",
       "| CATKFGTDPSYEQYF     | TRBV6-5  | TRBJ2-7 | CHP-386-05-PBMC-DNA, CHP-386-05-PBMC-DNA                      |    33 |\n",
       "| CASGTGTTGTDTQYF     | TRBV12-5 | TRBJ2-3 | CHP-386-05-PBMC-DNA, CHP-386-05-PBMC-DNA                      |    27 |\n",
       "| CASSRSGTSGGYEQYF    | TRBV6-5  | TRBJ2-7 | CHP-386-05-PBMC-DNA, CHP-386-05-PBMC-DNA                      |    27 |\n",
       "| CASSRGDSFSYTF       | TRBV6-5  | TRBJ1-2 | CHP-398-02-PBMC-DNA, CHP-398-02-PBMC-DNA                      |    63 |\n",
       "| CASSLGVQYDTEAFF     | TRBV7-9  | TRBJ1-1 | CHP-404-03-PBMC-DNA, CHP-404-03-PBMC-DNA                      |   298 |\n",
       "| CASIGGTEAFF         | TRBV7-6  | TRBJ1-1 | CHP-404-03-PBMC-DNA, CHP-404-03-PBMC-DNA                      |    48 |\n",
       "| CASSQEGFSYNEQFF     | TRBV3-1  | TRBJ2-1 | CHP-404-03-PBMC-DNA, CHP-404-03-PBMC-DNA                      |    12 |\n",
       "| CASTGQATEAFF        | TRBV3-1  | TRBJ1-1 | CHP-411-02-PBMC-DNA, CHP-417-02_-PBMC-DN                      |   422 |\n",
       "| CASSPGMTGGWEETQYF   | TRBV5-1  | TRBJ2-5 | CHP-411-02-PBMC-DNA, CHP-411-02-PBMC-DNA                      |   375 |\n",
       "| CASTEGQQRPHSSNYGYTF | TRBV21-1 | TRBJ1-2 | CHP-411-02-PBMC-DNA, CHP-411-02-PBMC-DNA                      |   158 |\n",
       "| CASSQVGGHTTTGELFF   | TRBV3-1  | TRBJ2-2 | CHP-411-02-PBMC-DNA, CHP-417-02_-PBMC-DN                      |   125 |\n",
       "| CASSYSGLAGGGGELFF   | TRBV6-6  | TRBJ2-2 | CHP-411-02-PBMC-DNA, CHP-411-02-PBMC-DNA                      |    71 |\n",
       "| CASSSWGREIYEQYF     | TRBV6-5  | TRBJ2-7 | CHP-411-02-PBMC-DNA, CHP-411-02-PBMC-DNA, CHP-411-02-PBMC-DNA |    75 |\n",
       "| CASSEAPGTGRDQPQHF   | TRBV2    | TRBJ1-5 | CHP-411-02-PBMC-DNA, CHP-411-02-PBMC-DNA                      |    57 |\n",
       "| CSARPTGGWGETQYF     | TRBV20-1 | TRBJ2-5 | CHP-411-02-PBMC-DNA, CHP-411-02-PBMC-DNA                      |    63 |\n",
       "| CAWSVRQPNSYEQYF     | TRBV30   | TRBJ2-7 | CHP-411-02-PBMC-DNA, CHP-411-02-PBMC-DNA                      |    24 |\n",
       "| CASSQVLTFNYGYTF     | TRBV12-3 | TRBJ1-2 | CHP-411-02-PBMC-DNA, CHP-411-02-PBMC-DNA                      |    13 |\n",
       "| CSASNRGNEKLFF       | TRBV20-1 | TRBJ1-4 | CHP_349-01_cfDNA, CHP_350-02_cfDNA, CHP_391-03_cfDNA          |  5748 |\n",
       "| CASSLSWGTEAFF       | TRBV11-1 | TRBJ1-1 | CHP_377-02_cfDNA, CHP_377-02_cfDNA                            |  1960 |\n",
       "| CASSQGALSLNTEAFF    | TRBV4-2  | TRBJ1-1 | CHP_378-05_cfDNA, CHP_415-02_cfDNA                            | 10960 |\n",
       "| CASSFFGGTEAFF       | TRBV5-4  | TRBJ1-1 | CHP_385-04_cfDNA, CHP_391-03_cfDNA                            |  1998 |\n",
       "| CSASWTGSGTEAFF      | TRBV20-1 | TRBJ1-1 | CHP_385-04_cfDNA, CHP_391-03_cfDNA                            |  2337 |\n",
       "| CASSLAGSSSGNTIYF    | TRBV5-1  | TRBJ1-3 | CHP_348-01_cfDNA, CHP_348-03_cfDNA                            |   796 |\n",
       "| CASSFLGRINTEAFF     | TRBV28   | TRBJ1-1 | CHP_348-01_cfDNA, CHP_348-03_cfDNA                            |   266 |\n",
       "| CASSQDWIGYTF        | TRBV4-2  | TRBJ1-2 | CHP_348-01_cfDNA, CHP_348-03_cfDNA                            |   566 |\n",
       "| CASSRRTGGSDTQYF     | TRBV19   | TRBJ2-3 | CHP_350-03_cfDNA, CHP_365-03_cfDNA                            |  1332 |\n",
       "| CSASGTGPRGYTF       | TRBV20-1 | TRBJ1-2 | CHP_350-03_cfDNA, CHP_365-03_cfDNA                            |   428 |\n",
       "| CASSPRDSLYGYTF      | TRBV13   | TRBJ1-2 | CHP_350-03_cfDNA, CHP_365-03_cfDNA                            |   812 |\n",
       "\n"
      ],
      "text/plain": [
       "     CDR3b               TRBV     TRBJ   \n",
       "1    CSVTTGTEAFF         TRBV29-1 TRBJ1-1\n",
       "2    CASSVGGNTEAFF       TRBV9    TRBJ1-1\n",
       "3    CASSHRGTEAFF        TRBV3-1  TRBJ1-1\n",
       "4    CASSLNTDTQYF        TRBV7-3  TRBJ2-3\n",
       "5    CASSDSSGSTDTQYF     TRBV6-4  TRBJ2-3\n",
       "6    CSASRAGPNEQFF       TRBV20-1 TRBJ2-1\n",
       "7    CASSQEEFGGGPDYEQYF  TRBV4-1  TRBJ2-7\n",
       "8    CASSSNTEAFF         TRBV27   TRBJ1-1\n",
       "9    CASSRREGQVEQFF      TRBV19   TRBJ2-1\n",
       "10   CASSDRRIQETQYF      TRBV19   TRBJ2-5\n",
       "11   CASSFGNTEAFF        TRBV7-9  TRBJ1-1\n",
       "12   CASSIQGATQYF        TRBV19   TRBJ2-3\n",
       "13   CASSQGREVHYTQYF     TRBV4-2  TRBJ2-3\n",
       "14   CASSLVPGPGELFF      TRBV7-9  TRBJ2-2\n",
       "15   CASEPPGSVNEQFF      TRBV6-1  TRBJ2-1\n",
       "16   CASSEAGAGELFF       TRBV6-1  TRBJ2-2\n",
       "17   CASSQGGNTIYF        TRBV3-1  TRBJ1-3\n",
       "18   CASRYRGLNTEAFF      TRBV2    TRBJ1-1\n",
       "19   CSARDGQAGDTEAFF     TRBV20-1 TRBJ1-1\n",
       "20   CASSLDRGYGYTF       TRBV28   TRBJ1-2\n",
       "21   CASSDSSGANVLTF      TRBV6-4  TRBJ2-6\n",
       "22   CASSLTDRTAQYF       TRBV27   TRBJ2-7\n",
       "23   CASSLGTSLGFYEQYF    TRBV7-9  TRBJ2-7\n",
       "24   CASSGVYNEQFF        TRBV19   TRBJ2-1\n",
       "25   CASSEGGTVYGYTF      TRBV6-1  TRBJ1-2\n",
       "26   CASSYSGGDEAFF       TRBV6-5  TRBJ1-1\n",
       "27   CASSGTSGSTDTQYF     TRBV6-4  TRBJ2-3\n",
       "28   CASVGDTEAFF         TRBV9    TRBJ1-1\n",
       "29   CASSLEMLGDQETQYF    TRBV5-6  TRBJ2-5\n",
       "30   CATSRDIGPYPSYEQYF   TRBV15   TRBJ2-7\n",
       "⋮    ⋮                   ⋮        ⋮      \n",
       "2660 CASRSRIGDYNSPLHF    TRBV5-8  TRBJ1-6\n",
       "2661 CSARSLAGYEQYF       TRBV20-1 TRBJ2-7\n",
       "2662 CATKFGTDPSYEQYF     TRBV6-5  TRBJ2-7\n",
       "2663 CASGTGTTGTDTQYF     TRBV12-5 TRBJ2-3\n",
       "2664 CASSRSGTSGGYEQYF    TRBV6-5  TRBJ2-7\n",
       "2665 CASSRGDSFSYTF       TRBV6-5  TRBJ1-2\n",
       "2666 CASSLGVQYDTEAFF     TRBV7-9  TRBJ1-1\n",
       "2667 CASIGGTEAFF         TRBV7-6  TRBJ1-1\n",
       "2668 CASSQEGFSYNEQFF     TRBV3-1  TRBJ2-1\n",
       "2669 CASTGQATEAFF        TRBV3-1  TRBJ1-1\n",
       "2670 CASSPGMTGGWEETQYF   TRBV5-1  TRBJ2-5\n",
       "2671 CASTEGQQRPHSSNYGYTF TRBV21-1 TRBJ1-2\n",
       "2672 CASSQVGGHTTTGELFF   TRBV3-1  TRBJ2-2\n",
       "2673 CASSYSGLAGGGGELFF   TRBV6-6  TRBJ2-2\n",
       "2674 CASSSWGREIYEQYF     TRBV6-5  TRBJ2-7\n",
       "2675 CASSEAPGTGRDQPQHF   TRBV2    TRBJ1-5\n",
       "2676 CSARPTGGWGETQYF     TRBV20-1 TRBJ2-5\n",
       "2677 CAWSVRQPNSYEQYF     TRBV30   TRBJ2-7\n",
       "2678 CASSQVLTFNYGYTF     TRBV12-3 TRBJ1-2\n",
       "2679 CSASNRGNEKLFF       TRBV20-1 TRBJ1-4\n",
       "2680 CASSLSWGTEAFF       TRBV11-1 TRBJ1-1\n",
       "2681 CASSQGALSLNTEAFF    TRBV4-2  TRBJ1-1\n",
       "2682 CASSFFGGTEAFF       TRBV5-4  TRBJ1-1\n",
       "2683 CSASWTGSGTEAFF      TRBV20-1 TRBJ1-1\n",
       "2684 CASSLAGSSSGNTIYF    TRBV5-1  TRBJ1-3\n",
       "2685 CASSFLGRINTEAFF     TRBV28   TRBJ1-1\n",
       "2686 CASSQDWIGYTF        TRBV4-2  TRBJ1-2\n",
       "2687 CASSRRTGGSDTQYF     TRBV19   TRBJ2-3\n",
       "2688 CSASGTGPRGYTF       TRBV20-1 TRBJ1-2\n",
       "2689 CASSPRDSLYGYTF      TRBV13   TRBJ1-2\n",
       "     subject                                                                                                                                                                                                                              \n",
       "1    CHP_315-05-PBMC-DNA, CHP_315-05-PBMC-DNA                                                                                                                                                                                             \n",
       "2    CHP_315-05-PBMC-DNA, CHP_404-05-PBMC-DNA                                                                                                                                                                                             \n",
       "3    CHP_350-01-PBMC-DNA, CHP_420-01_cfDNA                                                                                                                                                                                                \n",
       "4    CHP_350-01-PBMC-DNA, CHP_338-05-PBMC-DNA                                                                                                                                                                                             \n",
       "5    CHP_350-02-PBMC-DNA, CHP_404-05-PBMC-DNA, CHP_368-05-PBMC-DNA, CHP_374-04-PBMC-DNA, CHP_381-02-PBMC-DNA, CHP_366-04_PBMC-DNA, CHP_363-01_PBMC-DNA, CHP_371-01_PBMC-DNA, CHP_371-04_PBMC-DNA, CHP_360-04_PBMC-DNA, CHP-371-03-PBMC-DNA\n",
       "6    CHP_350-02-PBMC-DNA, CHP_350-02-PBMC-DNA                                                                                                                                                                                             \n",
       "7    CHP_350-02-PBMC-DNA, CHP_350-02-PBMC-DNA                                                                                                                                                                                             \n",
       "8    CHP_350-02-PBMC-DNA, CHP_399-02_PBMC-DNA                                                                                                                                                                                             \n",
       "9    CHP_350-02-PBMC-DNA, CHP_350-02-PBMC-DNA                                                                                                                                                                                             \n",
       "10   CHP_350-02-PBMC-DNA, CHP_350-02-PBMC-DNA                                                                                                                                                                                             \n",
       "11   CHP_350-03-PBMC-DNA, CHP_381-02-PBMC-DNA                                                                                                                                                                                             \n",
       "12   CHP_350-03-PBMC-DNA, CHP_350-03-PBMC-DNA                                                                                                                                                                                             \n",
       "13   CHP_350-03-PBMC-DNA, CHP_350-03-PBMC-DNA                                                                                                                                                                                             \n",
       "14   CHP_350-03-PBMC-DNA, CHP_350-03-PBMC-DNA                                                                                                                                                                                             \n",
       "15   CHP_350-04-PBMC-DNA, CHP_350-04-PBMC-DNA                                                                                                                                                                                             \n",
       "16   CHP_353-02-PBMC-DNA, CHP_353-02-PBMC-DNA                                                                                                                                                                                             \n",
       "17   CHP_358-02-PBMC-DNA, CHP_348-03-PBMC-DNA                                                                                                                                                                                             \n",
       "18   CHP_362-02-PBMC-DNA, CHP_373-01-PBMC-DNA                                                                                                                                                                                             \n",
       "19   CHP_362-02-PBMC-DNA, CHP_362-01-PBMC-DNA                                                                                                                                                                                             \n",
       "20   CHP_362-02-PBMC-DNA, CHP_404-05-PBMC-DNA                                                                                                                                                                                             \n",
       "21   CHP_362-02-PBMC-DNA, CHP_391-02_PBMC_DNA, LFS_TCR-4758-PBMC-DNA, CHP_370-02-PBMC-DNA, CHP_361-04-PBMC-DNA, CHP_370-05-PBMC-DNA, CHP_370-03-PBMC-DNA                                                                                  \n",
       "22   CHP_366-01-PBMC-DNA, CHP_366-04_PBMC-DNA, CHP_366-05_PBMC-DNA                                                                                                                                                                        \n",
       "23   CHP_366-01-PBMC-DNA, CHP_366-05_PBMC-DNA                                                                                                                                                                                             \n",
       "24   CHP_366-01-PBMC-DNA, CHP_366-03_PBMC-DNA, CHP_366-04_PBMC-DNA                                                                                                                                                                        \n",
       "25   CHP_366-01-PBMC-DNA, CHP_366-04_PBMC-DNA, CHP_366-05_PBMC-DNA                                                                                                                                                                        \n",
       "26   CHP_366-01-PBMC-DNA, CHP_366-05_PBMC-DNA                                                                                                                                                                                             \n",
       "27   CHP_366-01-PBMC-DNA, CHP_359-02-PBMC-DNA, CHP_370-05-PBMC-DNA, CHP_366-04_PBMC-DNA, CHP_371-04_PBMC-DNA, CHP-371-03-PBMC-DNA, CHP-371-03-PBMC-DNA                                                                                    \n",
       "28   CHP_366-01-PBMC-DNA, CHP_366-05_PBMC-DNA, CHP_390-03_PBMC-DNA                                                                                                                                                                        \n",
       "29   CHP_366-01-PBMC-DNA, CHP_366-01-PBMC-DNA                                                                                                                                                                                             \n",
       "30   CHP_366-01-PBMC-DNA, CHP_366-04_PBMC-DNA                                                                                                                                                                                             \n",
       "⋮    ⋮                                                                                                                                                                                                                                    \n",
       "2660 CHP-386-05-PBMC-DNA, CHP-386-05-PBMC-DNA                                                                                                                                                                                             \n",
       "2661 CHP-386-05-PBMC-DNA, CHP-386-05-PBMC-DNA                                                                                                                                                                                             \n",
       "2662 CHP-386-05-PBMC-DNA, CHP-386-05-PBMC-DNA                                                                                                                                                                                             \n",
       "2663 CHP-386-05-PBMC-DNA, CHP-386-05-PBMC-DNA                                                                                                                                                                                             \n",
       "2664 CHP-386-05-PBMC-DNA, CHP-386-05-PBMC-DNA                                                                                                                                                                                             \n",
       "2665 CHP-398-02-PBMC-DNA, CHP-398-02-PBMC-DNA                                                                                                                                                                                             \n",
       "2666 CHP-404-03-PBMC-DNA, CHP-404-03-PBMC-DNA                                                                                                                                                                                             \n",
       "2667 CHP-404-03-PBMC-DNA, CHP-404-03-PBMC-DNA                                                                                                                                                                                             \n",
       "2668 CHP-404-03-PBMC-DNA, CHP-404-03-PBMC-DNA                                                                                                                                                                                             \n",
       "2669 CHP-411-02-PBMC-DNA, CHP-417-02_-PBMC-DN                                                                                                                                                                                             \n",
       "2670 CHP-411-02-PBMC-DNA, CHP-411-02-PBMC-DNA                                                                                                                                                                                             \n",
       "2671 CHP-411-02-PBMC-DNA, CHP-411-02-PBMC-DNA                                                                                                                                                                                             \n",
       "2672 CHP-411-02-PBMC-DNA, CHP-417-02_-PBMC-DN                                                                                                                                                                                             \n",
       "2673 CHP-411-02-PBMC-DNA, CHP-411-02-PBMC-DNA                                                                                                                                                                                             \n",
       "2674 CHP-411-02-PBMC-DNA, CHP-411-02-PBMC-DNA, CHP-411-02-PBMC-DNA                                                                                                                                                                        \n",
       "2675 CHP-411-02-PBMC-DNA, CHP-411-02-PBMC-DNA                                                                                                                                                                                             \n",
       "2676 CHP-411-02-PBMC-DNA, CHP-411-02-PBMC-DNA                                                                                                                                                                                             \n",
       "2677 CHP-411-02-PBMC-DNA, CHP-411-02-PBMC-DNA                                                                                                                                                                                             \n",
       "2678 CHP-411-02-PBMC-DNA, CHP-411-02-PBMC-DNA                                                                                                                                                                                             \n",
       "2679 CHP_349-01_cfDNA, CHP_350-02_cfDNA, CHP_391-03_cfDNA                                                                                                                                                                                 \n",
       "2680 CHP_377-02_cfDNA, CHP_377-02_cfDNA                                                                                                                                                                                                   \n",
       "2681 CHP_378-05_cfDNA, CHP_415-02_cfDNA                                                                                                                                                                                                   \n",
       "2682 CHP_385-04_cfDNA, CHP_391-03_cfDNA                                                                                                                                                                                                   \n",
       "2683 CHP_385-04_cfDNA, CHP_391-03_cfDNA                                                                                                                                                                                                   \n",
       "2684 CHP_348-01_cfDNA, CHP_348-03_cfDNA                                                                                                                                                                                                   \n",
       "2685 CHP_348-01_cfDNA, CHP_348-03_cfDNA                                                                                                                                                                                                   \n",
       "2686 CHP_348-01_cfDNA, CHP_348-03_cfDNA                                                                                                                                                                                                   \n",
       "2687 CHP_350-03_cfDNA, CHP_365-03_cfDNA                                                                                                                                                                                                   \n",
       "2688 CHP_350-03_cfDNA, CHP_365-03_cfDNA                                                                                                                                                                                                   \n",
       "2689 CHP_350-03_cfDNA, CHP_365-03_cfDNA                                                                                                                                                                                                   \n",
       "     count\n",
       "1      30 \n",
       "2     130 \n",
       "3     127 \n",
       "4      11 \n",
       "5    2076 \n",
       "6      21 \n",
       "7      15 \n",
       "8     185 \n",
       "9       8 \n",
       "10      6 \n",
       "11     28 \n",
       "12     22 \n",
       "13      4 \n",
       "14      5 \n",
       "15      4 \n",
       "16     22 \n",
       "17     41 \n",
       "18    428 \n",
       "19    268 \n",
       "20    565 \n",
       "21     89 \n",
       "22   2756 \n",
       "23    193 \n",
       "24   1008 \n",
       "25   2819 \n",
       "26    603 \n",
       "27    505 \n",
       "28    920 \n",
       "29     20 \n",
       "30     40 \n",
       "⋮    ⋮    \n",
       "2660    61\n",
       "2661    56\n",
       "2662    33\n",
       "2663    27\n",
       "2664    27\n",
       "2665    63\n",
       "2666   298\n",
       "2667    48\n",
       "2668    12\n",
       "2669   422\n",
       "2670   375\n",
       "2671   158\n",
       "2672   125\n",
       "2673    71\n",
       "2674    75\n",
       "2675    57\n",
       "2676    63\n",
       "2677    24\n",
       "2678    13\n",
       "2679  5748\n",
       "2680  1960\n",
       "2681 10960\n",
       "2682  1998\n",
       "2683  2337\n",
       "2684   796\n",
       "2685   266\n",
       "2686   566\n",
       "2687  1332\n",
       "2688   428\n",
       "2689   812"
      ]
     },
     "metadata": {},
     "output_type": "display_data"
    }
   ],
   "source": [
    "ab[ grepl(\",\", ab$subject),]"
   ]
  },
  {
   "cell_type": "code",
   "execution_count": 23,
   "metadata": {},
   "outputs": [
    {
     "data": {
      "text/html": [
       "<table class=\"dataframe\">\n",
       "<caption>A data.table: 1 × 5</caption>\n",
       "<thead>\n",
       "\t<tr><th scope=col>CDR3b</th><th scope=col>TRBV</th><th scope=col>TRBJ</th><th scope=col>subject</th><th scope=col>count</th></tr>\n",
       "\t<tr><th scope=col>&lt;chr&gt;</th><th scope=col>&lt;chr&gt;</th><th scope=col>&lt;chr&gt;</th><th scope=col>&lt;chr&gt;</th><th scope=col>&lt;int&gt;</th></tr>\n",
       "</thead>\n",
       "<tbody>\n",
       "\t<tr><td>CSVTTGTEAFF</td><td>TRBV29-1</td><td>TRBJ1-1</td><td>CHP_315-05-PBMC-DNA, CHP_315-05-PBMC-DNA</td><td>30</td></tr>\n",
       "</tbody>\n",
       "</table>\n"
      ],
      "text/latex": [
       "A data.table: 1 × 5\n",
       "\\begin{tabular}{lllll}\n",
       " CDR3b & TRBV & TRBJ & subject & count\\\\\n",
       " <chr> & <chr> & <chr> & <chr> & <int>\\\\\n",
       "\\hline\n",
       "\t CSVTTGTEAFF & TRBV29-1 & TRBJ1-1 & CHP\\_315-05-PBMC-DNA, CHP\\_315-05-PBMC-DNA & 30\\\\\n",
       "\\end{tabular}\n"
      ],
      "text/markdown": [
       "\n",
       "A data.table: 1 × 5\n",
       "\n",
       "| CDR3b &lt;chr&gt; | TRBV &lt;chr&gt; | TRBJ &lt;chr&gt; | subject &lt;chr&gt; | count &lt;int&gt; |\n",
       "|---|---|---|---|---|\n",
       "| CSVTTGTEAFF | TRBV29-1 | TRBJ1-1 | CHP_315-05-PBMC-DNA, CHP_315-05-PBMC-DNA | 30 |\n",
       "\n"
      ],
      "text/plain": [
       "  CDR3b       TRBV     TRBJ    subject                                  count\n",
       "1 CSVTTGTEAFF TRBV29-1 TRBJ1-1 CHP_315-05-PBMC-DNA, CHP_315-05-PBMC-DNA 30   "
      ]
     },
     "metadata": {},
     "output_type": "display_data"
    }
   ],
   "source": [
    "ab[ ab$CDR3b == \"CSVTTGTEAFF\",]"
   ]
  },
  {
   "cell_type": "code",
   "execution_count": 19,
   "metadata": {},
   "outputs": [
    {
     "data": {
      "text/html": [],
      "text/latex": [],
      "text/markdown": [],
      "text/plain": [
       "character(0)"
      ]
     },
     "metadata": {},
     "output_type": "display_data"
    }
   ],
   "source": [
    "gliph_input$subject.condition[ !gliph_input$TRBV %in% ab$TRBV]"
   ]
  },
  {
   "cell_type": "code",
   "execution_count": 132,
   "metadata": {},
   "outputs": [
    {
     "ename": "ERROR",
     "evalue": "Error in `[.data.table`(gliph_input, , `:=`(names(ab), ab)): Supplied 68956 items to be assigned to 72634 items of column 'CDR3b'. If you wish to 'recycle' the RHS please use rep() to make this intent clear to readers of your code.\n",
     "output_type": "error",
     "traceback": [
      "Error in `[.data.table`(gliph_input, , `:=`(names(ab), ab)): Supplied 68956 items to be assigned to 72634 items of column 'CDR3b'. If you wish to 'recycle' the RHS please use rep() to make this intent clear to readers of your code.\nTraceback:\n",
      "1. gliph_input[, `:=`(names(ab), ab)]",
      "2. `[.data.table`(gliph_input, , `:=`(names(ab), ab))"
     ]
    }
   ],
   "source": [
    "gliph_input[, names(ab) := ab]"
   ]
  },
  {
   "cell_type": "code",
   "execution_count": 46,
   "metadata": {},
   "outputs": [],
   "source": [
    "dat <- gliph_input[ gliph_input$CDR3b == \"CASSLGTGELFF\",]"
   ]
  },
  {
   "cell_type": "code",
   "execution_count": 47,
   "metadata": {
    "scrolled": false
   },
   "outputs": [
    {
     "data": {
      "text/html": [
       "<table class=\"dataframe\">\n",
       "<caption>A data.table: 7 × 8</caption>\n",
       "<thead>\n",
       "\t<tr><th scope=col>CDR3b</th><th scope=col>TRBV</th><th scope=col>TRBJ</th><th scope=col>subject.condition</th><th scope=col>count</th><th scope=col>clonefraction</th><th scope=col>nSeqCDR3</th><th scope=col>file</th></tr>\n",
       "\t<tr><th scope=col>&lt;chr&gt;</th><th scope=col>&lt;chr&gt;</th><th scope=col>&lt;chr&gt;</th><th scope=col>&lt;chr&gt;</th><th scope=col>&lt;int&gt;</th><th scope=col>&lt;dbl&gt;</th><th scope=col>&lt;chr&gt;</th><th scope=col>&lt;chr&gt;</th></tr>\n",
       "</thead>\n",
       "<tbody>\n",
       "\t<tr><td>CASSLGTGELFF</td><td>TRBV12-3</td><td>TRBJ2-2</td><td>CHP_391-03_PBMC_DNA</td><td> 16</td><td>0.0026033192</td><td>TGTGCCAGCAGTTTAGGCACCGGGGAGCTGTTTTTT</td><td>/Users/anabbi/Desktop/H4H/INTERCEPT/NextSeq/batch11_23Apr2020/mixcr/clones/CLONES_TRBCHP_391-03_PBMC_DNA.txt            </td></tr>\n",
       "\t<tr><td>CASSLGTGELFF</td><td>TRBV11-1</td><td>TRBJ2-2</td><td>CHP_417-01_PBMC-DNA</td><td> 23</td><td>0.0015535292</td><td>TGTGCCAGCAGCTTAGGGACCGGGGAGCTGTTTTTT</td><td>/Users/anabbi/Desktop/H4H/INTERCEPT/NextSeq/batch12_30Apr2021/mixcr/clones/CLONES_TRBCHP_417-01_PBMC-DNA.txt            </td></tr>\n",
       "\t<tr><td>CASSLGTGELFF</td><td>TRBV11-1</td><td>TRBJ2-2</td><td>CHP_367-04_cfDNA   </td><td> 35</td><td>0.0005202527</td><td>TGTGCCAGCAGCTTAGGGACCGGGGAGCTGTTTTTT</td><td>/Users/anabbi/Desktop/H4H/INTERCEPT/NextSeq/batch13_cfDNA_11Sep2020/mixcr/clones/CLONES_TRBCHP_367-04_cfDNA.txt         </td></tr>\n",
       "\t<tr><td>CASSLGTGELFF</td><td>TRBV11-1</td><td>TRBJ2-2</td><td>CHP_390-02_cfDNA   </td><td> 45</td><td>0.0013057482</td><td>TGTGCCAGCAGCTTAGGGACCGGGGAGCTGTTTTTT</td><td>/Users/anabbi/Desktop/H4H/INTERCEPT/NextSeq/batch13_cfDNA_11Sep2020/mixcr/clones/CLONES_TRBCHP_390-02_cfDNA.txt         </td></tr>\n",
       "\t<tr><td>CASSLGTGELFF</td><td>TRBV12-4</td><td>TRBJ2-2</td><td>CHP_365-04_PBMC-DNA</td><td>165</td><td>0.0025414331</td><td>TGTGCCAGCAGTTTAGGAACCGGGGAGCTGTTTTTT</td><td>/Users/anabbi/Desktop/H4H/INTERCEPT/NextSeq/remaining_batch_2_22April2021/mixcr/clones/CLONES_TRBCHP_365-04_PBMC-DNA.txt</td></tr>\n",
       "\t<tr><td>CASSLGTGELFF</td><td>TRBV11-3</td><td>TRBJ2-2</td><td>CHP-342-03-PBMC-DNA</td><td>  9</td><td>0.0004719950</td><td>TGTGCCAGCAGCTTGGGCACCGGGGAGCTGTTTTTT</td><td>/Users/anabbi/Desktop/H4H/INTERCEPT/NextSeq/remaining_batch_4_28June2021/mixcr/clones/CLONES_TRBCHP-342-03-PBMC-DNA.txt </td></tr>\n",
       "\t<tr><td>CASSLGTGELFF</td><td>TRBV5-6 </td><td>TRBJ2-2</td><td>CHP-386-04-PBMC-DNA</td><td> 20</td><td>0.0001613840</td><td>TGTGCCAGCAGCTTGGGTACCGGGGAGCTGTTTTTT</td><td>/Users/anabbi/Desktop/H4H/INTERCEPT/NextSeq/remaining_batch_4_28June2021/mixcr/clones/CLONES_TRBCHP-386-04-PBMC-DNA.txt </td></tr>\n",
       "</tbody>\n",
       "</table>\n"
      ],
      "text/latex": [
       "A data.table: 7 × 8\n",
       "\\begin{tabular}{llllllll}\n",
       " CDR3b & TRBV & TRBJ & subject.condition & count & clonefraction & nSeqCDR3 & file\\\\\n",
       " <chr> & <chr> & <chr> & <chr> & <int> & <dbl> & <chr> & <chr>\\\\\n",
       "\\hline\n",
       "\t CASSLGTGELFF & TRBV12-3 & TRBJ2-2 & CHP\\_391-03\\_PBMC\\_DNA &  16 & 0.0026033192 & TGTGCCAGCAGTTTAGGCACCGGGGAGCTGTTTTTT & /Users/anabbi/Desktop/H4H/INTERCEPT/NextSeq/batch11\\_23Apr2020/mixcr/clones/CLONES\\_TRBCHP\\_391-03\\_PBMC\\_DNA.txt            \\\\\n",
       "\t CASSLGTGELFF & TRBV11-1 & TRBJ2-2 & CHP\\_417-01\\_PBMC-DNA &  23 & 0.0015535292 & TGTGCCAGCAGCTTAGGGACCGGGGAGCTGTTTTTT & /Users/anabbi/Desktop/H4H/INTERCEPT/NextSeq/batch12\\_30Apr2021/mixcr/clones/CLONES\\_TRBCHP\\_417-01\\_PBMC-DNA.txt            \\\\\n",
       "\t CASSLGTGELFF & TRBV11-1 & TRBJ2-2 & CHP\\_367-04\\_cfDNA    &  35 & 0.0005202527 & TGTGCCAGCAGCTTAGGGACCGGGGAGCTGTTTTTT & /Users/anabbi/Desktop/H4H/INTERCEPT/NextSeq/batch13\\_cfDNA\\_11Sep2020/mixcr/clones/CLONES\\_TRBCHP\\_367-04\\_cfDNA.txt         \\\\\n",
       "\t CASSLGTGELFF & TRBV11-1 & TRBJ2-2 & CHP\\_390-02\\_cfDNA    &  45 & 0.0013057482 & TGTGCCAGCAGCTTAGGGACCGGGGAGCTGTTTTTT & /Users/anabbi/Desktop/H4H/INTERCEPT/NextSeq/batch13\\_cfDNA\\_11Sep2020/mixcr/clones/CLONES\\_TRBCHP\\_390-02\\_cfDNA.txt         \\\\\n",
       "\t CASSLGTGELFF & TRBV12-4 & TRBJ2-2 & CHP\\_365-04\\_PBMC-DNA & 165 & 0.0025414331 & TGTGCCAGCAGTTTAGGAACCGGGGAGCTGTTTTTT & /Users/anabbi/Desktop/H4H/INTERCEPT/NextSeq/remaining\\_batch\\_2\\_22April2021/mixcr/clones/CLONES\\_TRBCHP\\_365-04\\_PBMC-DNA.txt\\\\\n",
       "\t CASSLGTGELFF & TRBV11-3 & TRBJ2-2 & CHP-342-03-PBMC-DNA &   9 & 0.0004719950 & TGTGCCAGCAGCTTGGGCACCGGGGAGCTGTTTTTT & /Users/anabbi/Desktop/H4H/INTERCEPT/NextSeq/remaining\\_batch\\_4\\_28June2021/mixcr/clones/CLONES\\_TRBCHP-342-03-PBMC-DNA.txt \\\\\n",
       "\t CASSLGTGELFF & TRBV5-6  & TRBJ2-2 & CHP-386-04-PBMC-DNA &  20 & 0.0001613840 & TGTGCCAGCAGCTTGGGTACCGGGGAGCTGTTTTTT & /Users/anabbi/Desktop/H4H/INTERCEPT/NextSeq/remaining\\_batch\\_4\\_28June2021/mixcr/clones/CLONES\\_TRBCHP-386-04-PBMC-DNA.txt \\\\\n",
       "\\end{tabular}\n"
      ],
      "text/markdown": [
       "\n",
       "A data.table: 7 × 8\n",
       "\n",
       "| CDR3b &lt;chr&gt; | TRBV &lt;chr&gt; | TRBJ &lt;chr&gt; | subject.condition &lt;chr&gt; | count &lt;int&gt; | clonefraction &lt;dbl&gt; | nSeqCDR3 &lt;chr&gt; | file &lt;chr&gt; |\n",
       "|---|---|---|---|---|---|---|---|\n",
       "| CASSLGTGELFF | TRBV12-3 | TRBJ2-2 | CHP_391-03_PBMC_DNA |  16 | 0.0026033192 | TGTGCCAGCAGTTTAGGCACCGGGGAGCTGTTTTTT | /Users/anabbi/Desktop/H4H/INTERCEPT/NextSeq/batch11_23Apr2020/mixcr/clones/CLONES_TRBCHP_391-03_PBMC_DNA.txt             |\n",
       "| CASSLGTGELFF | TRBV11-1 | TRBJ2-2 | CHP_417-01_PBMC-DNA |  23 | 0.0015535292 | TGTGCCAGCAGCTTAGGGACCGGGGAGCTGTTTTTT | /Users/anabbi/Desktop/H4H/INTERCEPT/NextSeq/batch12_30Apr2021/mixcr/clones/CLONES_TRBCHP_417-01_PBMC-DNA.txt             |\n",
       "| CASSLGTGELFF | TRBV11-1 | TRBJ2-2 | CHP_367-04_cfDNA    |  35 | 0.0005202527 | TGTGCCAGCAGCTTAGGGACCGGGGAGCTGTTTTTT | /Users/anabbi/Desktop/H4H/INTERCEPT/NextSeq/batch13_cfDNA_11Sep2020/mixcr/clones/CLONES_TRBCHP_367-04_cfDNA.txt          |\n",
       "| CASSLGTGELFF | TRBV11-1 | TRBJ2-2 | CHP_390-02_cfDNA    |  45 | 0.0013057482 | TGTGCCAGCAGCTTAGGGACCGGGGAGCTGTTTTTT | /Users/anabbi/Desktop/H4H/INTERCEPT/NextSeq/batch13_cfDNA_11Sep2020/mixcr/clones/CLONES_TRBCHP_390-02_cfDNA.txt          |\n",
       "| CASSLGTGELFF | TRBV12-4 | TRBJ2-2 | CHP_365-04_PBMC-DNA | 165 | 0.0025414331 | TGTGCCAGCAGTTTAGGAACCGGGGAGCTGTTTTTT | /Users/anabbi/Desktop/H4H/INTERCEPT/NextSeq/remaining_batch_2_22April2021/mixcr/clones/CLONES_TRBCHP_365-04_PBMC-DNA.txt |\n",
       "| CASSLGTGELFF | TRBV11-3 | TRBJ2-2 | CHP-342-03-PBMC-DNA |   9 | 0.0004719950 | TGTGCCAGCAGCTTGGGCACCGGGGAGCTGTTTTTT | /Users/anabbi/Desktop/H4H/INTERCEPT/NextSeq/remaining_batch_4_28June2021/mixcr/clones/CLONES_TRBCHP-342-03-PBMC-DNA.txt  |\n",
       "| CASSLGTGELFF | TRBV5-6  | TRBJ2-2 | CHP-386-04-PBMC-DNA |  20 | 0.0001613840 | TGTGCCAGCAGCTTGGGTACCGGGGAGCTGTTTTTT | /Users/anabbi/Desktop/H4H/INTERCEPT/NextSeq/remaining_batch_4_28June2021/mixcr/clones/CLONES_TRBCHP-386-04-PBMC-DNA.txt  |\n",
       "\n"
      ],
      "text/plain": [
       "  CDR3b        TRBV     TRBJ    subject.condition   count clonefraction\n",
       "1 CASSLGTGELFF TRBV12-3 TRBJ2-2 CHP_391-03_PBMC_DNA  16   0.0026033192 \n",
       "2 CASSLGTGELFF TRBV11-1 TRBJ2-2 CHP_417-01_PBMC-DNA  23   0.0015535292 \n",
       "3 CASSLGTGELFF TRBV11-1 TRBJ2-2 CHP_367-04_cfDNA     35   0.0005202527 \n",
       "4 CASSLGTGELFF TRBV11-1 TRBJ2-2 CHP_390-02_cfDNA     45   0.0013057482 \n",
       "5 CASSLGTGELFF TRBV12-4 TRBJ2-2 CHP_365-04_PBMC-DNA 165   0.0025414331 \n",
       "6 CASSLGTGELFF TRBV11-3 TRBJ2-2 CHP-342-03-PBMC-DNA   9   0.0004719950 \n",
       "7 CASSLGTGELFF TRBV5-6  TRBJ2-2 CHP-386-04-PBMC-DNA  20   0.0001613840 \n",
       "  nSeqCDR3                            \n",
       "1 TGTGCCAGCAGTTTAGGCACCGGGGAGCTGTTTTTT\n",
       "2 TGTGCCAGCAGCTTAGGGACCGGGGAGCTGTTTTTT\n",
       "3 TGTGCCAGCAGCTTAGGGACCGGGGAGCTGTTTTTT\n",
       "4 TGTGCCAGCAGCTTAGGGACCGGGGAGCTGTTTTTT\n",
       "5 TGTGCCAGCAGTTTAGGAACCGGGGAGCTGTTTTTT\n",
       "6 TGTGCCAGCAGCTTGGGCACCGGGGAGCTGTTTTTT\n",
       "7 TGTGCCAGCAGCTTGGGTACCGGGGAGCTGTTTTTT\n",
       "  file                                                                                                                    \n",
       "1 /Users/anabbi/Desktop/H4H/INTERCEPT/NextSeq/batch11_23Apr2020/mixcr/clones/CLONES_TRBCHP_391-03_PBMC_DNA.txt            \n",
       "2 /Users/anabbi/Desktop/H4H/INTERCEPT/NextSeq/batch12_30Apr2021/mixcr/clones/CLONES_TRBCHP_417-01_PBMC-DNA.txt            \n",
       "3 /Users/anabbi/Desktop/H4H/INTERCEPT/NextSeq/batch13_cfDNA_11Sep2020/mixcr/clones/CLONES_TRBCHP_367-04_cfDNA.txt         \n",
       "4 /Users/anabbi/Desktop/H4H/INTERCEPT/NextSeq/batch13_cfDNA_11Sep2020/mixcr/clones/CLONES_TRBCHP_390-02_cfDNA.txt         \n",
       "5 /Users/anabbi/Desktop/H4H/INTERCEPT/NextSeq/remaining_batch_2_22April2021/mixcr/clones/CLONES_TRBCHP_365-04_PBMC-DNA.txt\n",
       "6 /Users/anabbi/Desktop/H4H/INTERCEPT/NextSeq/remaining_batch_4_28June2021/mixcr/clones/CLONES_TRBCHP-342-03-PBMC-DNA.txt \n",
       "7 /Users/anabbi/Desktop/H4H/INTERCEPT/NextSeq/remaining_batch_4_28June2021/mixcr/clones/CLONES_TRBCHP-386-04-PBMC-DNA.txt "
      ]
     },
     "metadata": {},
     "output_type": "display_data"
    }
   ],
   "source": [
    "dat"
   ]
  },
  {
   "cell_type": "code",
   "execution_count": 51,
   "metadata": {},
   "outputs": [],
   "source": [
    "#library(data.table)\n",
    "\n",
    "setDT(dat)\n",
    "\n",
    "ab <- dat[, .(subject = toString(subject.condition), #toString joins elements into a single column separated by ,\n",
    "              file = toString(file), #join files\n",
    "              TRBV = toString(TRBV), #join TRBVs (or not?)\n",
    "              count = sum(count)),  by = \"CDR3b\"] #sum counts #collapse if CDR3 is duplicated\n",
    "\n",
    "#dat[, names(ab) := ab]\n",
    "\n",
    "tm <- dat[ match(ab$CDR3b, dat$CDR3b),] #match back to the original dataframe"
   ]
  },
  {
   "cell_type": "code",
   "execution_count": 52,
   "metadata": {},
   "outputs": [
    {
     "data": {
      "text/html": [
       "<table class=\"dataframe\">\n",
       "<caption>A data.table: 1 × 9</caption>\n",
       "<thead>\n",
       "\t<tr><th scope=col>CDR3b</th><th scope=col>TRBV</th><th scope=col>TRBJ</th><th scope=col>subject.condition</th><th scope=col>count</th><th scope=col>clonefraction</th><th scope=col>nSeqCDR3</th><th scope=col>file</th><th scope=col>subject</th></tr>\n",
       "\t<tr><th scope=col>&lt;chr&gt;</th><th scope=col>&lt;chr&gt;</th><th scope=col>&lt;chr&gt;</th><th scope=col>&lt;chr&gt;</th><th scope=col>&lt;int&gt;</th><th scope=col>&lt;dbl&gt;</th><th scope=col>&lt;chr&gt;</th><th scope=col>&lt;chr&gt;</th><th scope=col>&lt;chr&gt;</th></tr>\n",
       "</thead>\n",
       "<tbody>\n",
       "\t<tr><td>CASSLGTGELFF</td><td>TRBV12-3, TRBV11-1, TRBV11-1, TRBV11-1, TRBV12-4, TRBV11-3, TRBV5-6</td><td>TRBJ2-2</td><td>CHP_391-03_PBMC_DNA</td><td>2191</td><td>0.002603319</td><td>TGTGCCAGCAGTTTAGGCACCGGGGAGCTGTTTTTT</td><td>/Users/anabbi/Desktop/H4H/INTERCEPT/NextSeq/batch11_23Apr2020/mixcr/clones/CLONES_TRBCHP_391-03_PBMC_DNA.txt, /Users/anabbi/Desktop/H4H/INTERCEPT/NextSeq/batch12_30Apr2021/mixcr/clones/CLONES_TRBCHP_417-01_PBMC-DNA.txt, /Users/anabbi/Desktop/H4H/INTERCEPT/NextSeq/batch13_cfDNA_11Sep2020/mixcr/clones/CLONES_TRBCHP_367-04_cfDNA.txt, /Users/anabbi/Desktop/H4H/INTERCEPT/NextSeq/batch13_cfDNA_11Sep2020/mixcr/clones/CLONES_TRBCHP_390-02_cfDNA.txt, /Users/anabbi/Desktop/H4H/INTERCEPT/NextSeq/remaining_batch_2_22April2021/mixcr/clones/CLONES_TRBCHP_365-04_PBMC-DNA.txt, /Users/anabbi/Desktop/H4H/INTERCEPT/NextSeq/remaining_batch_4_28June2021/mixcr/clones/CLONES_TRBCHP-342-03-PBMC-DNA.txt, /Users/anabbi/Desktop/H4H/INTERCEPT/NextSeq/remaining_batch_4_28June2021/mixcr/clones/CLONES_TRBCHP-386-04-PBMC-DNA.txt, /Users/anabbi/Desktop/H4H/INTERCEPT/NextSeq/batch11_23Apr2020/mixcr/clones/CLONES_TRBCHP_391-03_PBMC_DNA.txt, /Users/anabbi/Desktop/H4H/INTERCEPT/NextSeq/batch12_30Apr2021/mixcr/clones/CLONES_TRBCHP_417-01_PBMC-DNA.txt, /Users/anabbi/Desktop/H4H/INTERCEPT/NextSeq/batch13_cfDNA_11Sep2020/mixcr/clones/CLONES_TRBCHP_367-04_cfDNA.txt, /Users/anabbi/Desktop/H4H/INTERCEPT/NextSeq/batch13_cfDNA_11Sep2020/mixcr/clones/CLONES_TRBCHP_390-02_cfDNA.txt, /Users/anabbi/Desktop/H4H/INTERCEPT/NextSeq/remaining_batch_2_22April2021/mixcr/clones/CLONES_TRBCHP_365-04_PBMC-DNA.txt, /Users/anabbi/Desktop/H4H/INTERCEPT/NextSeq/remaining_batch_4_28June2021/mixcr/clones/CLONES_TRBCHP-342-03-PBMC-DNA.txt, /Users/anabbi/Desktop/H4H/INTERCEPT/NextSeq/remaining_batch_4_28June2021/mixcr/clones/CLONES_TRBCHP-386-04-PBMC-DNA.txt, /Users/anabbi/Desktop/H4H/INTERCEPT/NextSeq/batch11_23Apr2020/mixcr/clones/CLONES_TRBCHP_391-03_PBMC_DNA.txt, /Users/anabbi/Desktop/H4H/INTERCEPT/NextSeq/batch12_30Apr2021/mixcr/clones/CLONES_TRBCHP_417-01_PBMC-DNA.txt, /Users/anabbi/Desktop/H4H/INTERCEPT/NextSeq/batch13_cfDNA_11Sep2020/mixcr/clones/CLONES_TRBCHP_367-04_cfDNA.txt, /Users/anabbi/Desktop/H4H/INTERCEPT/NextSeq/batch13_cfDNA_11Sep2020/mixcr/clones/CLONES_TRBCHP_390-02_cfDNA.txt, /Users/anabbi/Desktop/H4H/INTERCEPT/NextSeq/remaining_batch_2_22April2021/mixcr/clones/CLONES_TRBCHP_365-04_PBMC-DNA.txt, /Users/anabbi/Desktop/H4H/INTERCEPT/NextSeq/remaining_batch_4_28June2021/mixcr/clones/CLONES_TRBCHP-342-03-PBMC-DNA.txt, /Users/anabbi/Desktop/H4H/INTERCEPT/NextSeq/remaining_batch_4_28June2021/mixcr/clones/CLONES_TRBCHP-386-04-PBMC-DNA.txt, /Users/anabbi/Desktop/H4H/INTERCEPT/NextSeq/batch11_23Apr2020/mixcr/clones/CLONES_TRBCHP_391-03_PBMC_DNA.txt, /Users/anabbi/Desktop/H4H/INTERCEPT/NextSeq/batch12_30Apr2021/mixcr/clones/CLONES_TRBCHP_417-01_PBMC-DNA.txt, /Users/anabbi/Desktop/H4H/INTERCEPT/NextSeq/batch13_cfDNA_11Sep2020/mixcr/clones/CLONES_TRBCHP_367-04_cfDNA.txt, /Users/anabbi/Desktop/H4H/INTERCEPT/NextSeq/batch13_cfDNA_11Sep2020/mixcr/clones/CLONES_TRBCHP_390-02_cfDNA.txt, /Users/anabbi/Desktop/H4H/INTERCEPT/NextSeq/remaining_batch_2_22April2021/mixcr/clones/CLONES_TRBCHP_365-04_PBMC-DNA.txt, /Users/anabbi/Desktop/H4H/INTERCEPT/NextSeq/remaining_batch_4_28June2021/mixcr/clones/CLONES_TRBCHP-342-03-PBMC-DNA.txt, /Users/anabbi/Desktop/H4H/INTERCEPT/NextSeq/remaining_batch_4_28June2021/mixcr/clones/CLONES_TRBCHP-386-04-PBMC-DNA.txt, /Users/anabbi/Desktop/H4H/INTERCEPT/NextSeq/batch11_23Apr2020/mixcr/clones/CLONES_TRBCHP_391-03_PBMC_DNA.txt, /Users/anabbi/Desktop/H4H/INTERCEPT/NextSeq/batch12_30Apr2021/mixcr/clones/CLONES_TRBCHP_417-01_PBMC-DNA.txt, /Users/anabbi/Desktop/H4H/INTERCEPT/NextSeq/batch13_cfDNA_11Sep2020/mixcr/clones/CLONES_TRBCHP_367-04_cfDNA.txt, /Users/anabbi/Desktop/H4H/INTERCEPT/NextSeq/batch13_cfDNA_11Sep2020/mixcr/clones/CLONES_TRBCHP_390-02_cfDNA.txt, /Users/anabbi/Desktop/H4H/INTERCEPT/NextSeq/remaining_batch_2_22April2021/mixcr/clones/CLONES_TRBCHP_365-04_PBMC-DNA.txt, /Users/anabbi/Desktop/H4H/INTERCEPT/NextSeq/remaining_batch_4_28June2021/mixcr/clones/CLONES_TRBCHP-342-03-PBMC-DNA.txt, /Users/anabbi/Desktop/H4H/INTERCEPT/NextSeq/remaining_batch_4_28June2021/mixcr/clones/CLONES_TRBCHP-386-04-PBMC-DNA.txt, /Users/anabbi/Desktop/H4H/INTERCEPT/NextSeq/batch11_23Apr2020/mixcr/clones/CLONES_TRBCHP_391-03_PBMC_DNA.txt, /Users/anabbi/Desktop/H4H/INTERCEPT/NextSeq/batch12_30Apr2021/mixcr/clones/CLONES_TRBCHP_417-01_PBMC-DNA.txt, /Users/anabbi/Desktop/H4H/INTERCEPT/NextSeq/batch13_cfDNA_11Sep2020/mixcr/clones/CLONES_TRBCHP_367-04_cfDNA.txt, /Users/anabbi/Desktop/H4H/INTERCEPT/NextSeq/batch13_cfDNA_11Sep2020/mixcr/clones/CLONES_TRBCHP_390-02_cfDNA.txt, /Users/anabbi/Desktop/H4H/INTERCEPT/NextSeq/remaining_batch_2_22April2021/mixcr/clones/CLONES_TRBCHP_365-04_PBMC-DNA.txt, /Users/anabbi/Desktop/H4H/INTERCEPT/NextSeq/remaining_batch_4_28June2021/mixcr/clones/CLONES_TRBCHP-342-03-PBMC-DNA.txt, /Users/anabbi/Desktop/H4H/INTERCEPT/NextSeq/remaining_batch_4_28June2021/mixcr/clones/CLONES_TRBCHP-386-04-PBMC-DNA.txt, /Users/anabbi/Desktop/H4H/INTERCEPT/NextSeq/batch11_23Apr2020/mixcr/clones/CLONES_TRBCHP_391-03_PBMC_DNA.txt, /Users/anabbi/Desktop/H4H/INTERCEPT/NextSeq/batch12_30Apr2021/mixcr/clones/CLONES_TRBCHP_417-01_PBMC-DNA.txt, /Users/anabbi/Desktop/H4H/INTERCEPT/NextSeq/batch13_cfDNA_11Sep2020/mixcr/clones/CLONES_TRBCHP_367-04_cfDNA.txt, /Users/anabbi/Desktop/H4H/INTERCEPT/NextSeq/batch13_cfDNA_11Sep2020/mixcr/clones/CLONES_TRBCHP_390-02_cfDNA.txt, /Users/anabbi/Desktop/H4H/INTERCEPT/NextSeq/remaining_batch_2_22April2021/mixcr/clones/CLONES_TRBCHP_365-04_PBMC-DNA.txt, /Users/anabbi/Desktop/H4H/INTERCEPT/NextSeq/remaining_batch_4_28June2021/mixcr/clones/CLONES_TRBCHP-342-03-PBMC-DNA.txt, /Users/anabbi/Desktop/H4H/INTERCEPT/NextSeq/remaining_batch_4_28June2021/mixcr/clones/CLONES_TRBCHP-386-04-PBMC-DNA.txt</td><td>CHP_391-03_PBMC_DNA, CHP_417-01_PBMC-DNA, CHP_367-04_cfDNA, CHP_390-02_cfDNA, CHP_365-04_PBMC-DNA, CHP-342-03-PBMC-DNA, CHP-386-04-PBMC-DNA</td></tr>\n",
       "</tbody>\n",
       "</table>\n"
      ],
      "text/latex": [
       "A data.table: 1 × 9\n",
       "\\begin{tabular}{lllllllll}\n",
       " CDR3b & TRBV & TRBJ & subject.condition & count & clonefraction & nSeqCDR3 & file & subject\\\\\n",
       " <chr> & <chr> & <chr> & <chr> & <int> & <dbl> & <chr> & <chr> & <chr>\\\\\n",
       "\\hline\n",
       "\t CASSLGTGELFF & TRBV12-3, TRBV11-1, TRBV11-1, TRBV11-1, TRBV12-4, TRBV11-3, TRBV5-6 & TRBJ2-2 & CHP\\_391-03\\_PBMC\\_DNA & 2191 & 0.002603319 & TGTGCCAGCAGTTTAGGCACCGGGGAGCTGTTTTTT & /Users/anabbi/Desktop/H4H/INTERCEPT/NextSeq/batch11\\_23Apr2020/mixcr/clones/CLONES\\_TRBCHP\\_391-03\\_PBMC\\_DNA.txt, /Users/anabbi/Desktop/H4H/INTERCEPT/NextSeq/batch12\\_30Apr2021/mixcr/clones/CLONES\\_TRBCHP\\_417-01\\_PBMC-DNA.txt, /Users/anabbi/Desktop/H4H/INTERCEPT/NextSeq/batch13\\_cfDNA\\_11Sep2020/mixcr/clones/CLONES\\_TRBCHP\\_367-04\\_cfDNA.txt, /Users/anabbi/Desktop/H4H/INTERCEPT/NextSeq/batch13\\_cfDNA\\_11Sep2020/mixcr/clones/CLONES\\_TRBCHP\\_390-02\\_cfDNA.txt, /Users/anabbi/Desktop/H4H/INTERCEPT/NextSeq/remaining\\_batch\\_2\\_22April2021/mixcr/clones/CLONES\\_TRBCHP\\_365-04\\_PBMC-DNA.txt, /Users/anabbi/Desktop/H4H/INTERCEPT/NextSeq/remaining\\_batch\\_4\\_28June2021/mixcr/clones/CLONES\\_TRBCHP-342-03-PBMC-DNA.txt, /Users/anabbi/Desktop/H4H/INTERCEPT/NextSeq/remaining\\_batch\\_4\\_28June2021/mixcr/clones/CLONES\\_TRBCHP-386-04-PBMC-DNA.txt, /Users/anabbi/Desktop/H4H/INTERCEPT/NextSeq/batch11\\_23Apr2020/mixcr/clones/CLONES\\_TRBCHP\\_391-03\\_PBMC\\_DNA.txt, /Users/anabbi/Desktop/H4H/INTERCEPT/NextSeq/batch12\\_30Apr2021/mixcr/clones/CLONES\\_TRBCHP\\_417-01\\_PBMC-DNA.txt, /Users/anabbi/Desktop/H4H/INTERCEPT/NextSeq/batch13\\_cfDNA\\_11Sep2020/mixcr/clones/CLONES\\_TRBCHP\\_367-04\\_cfDNA.txt, /Users/anabbi/Desktop/H4H/INTERCEPT/NextSeq/batch13\\_cfDNA\\_11Sep2020/mixcr/clones/CLONES\\_TRBCHP\\_390-02\\_cfDNA.txt, /Users/anabbi/Desktop/H4H/INTERCEPT/NextSeq/remaining\\_batch\\_2\\_22April2021/mixcr/clones/CLONES\\_TRBCHP\\_365-04\\_PBMC-DNA.txt, /Users/anabbi/Desktop/H4H/INTERCEPT/NextSeq/remaining\\_batch\\_4\\_28June2021/mixcr/clones/CLONES\\_TRBCHP-342-03-PBMC-DNA.txt, /Users/anabbi/Desktop/H4H/INTERCEPT/NextSeq/remaining\\_batch\\_4\\_28June2021/mixcr/clones/CLONES\\_TRBCHP-386-04-PBMC-DNA.txt, /Users/anabbi/Desktop/H4H/INTERCEPT/NextSeq/batch11\\_23Apr2020/mixcr/clones/CLONES\\_TRBCHP\\_391-03\\_PBMC\\_DNA.txt, /Users/anabbi/Desktop/H4H/INTERCEPT/NextSeq/batch12\\_30Apr2021/mixcr/clones/CLONES\\_TRBCHP\\_417-01\\_PBMC-DNA.txt, /Users/anabbi/Desktop/H4H/INTERCEPT/NextSeq/batch13\\_cfDNA\\_11Sep2020/mixcr/clones/CLONES\\_TRBCHP\\_367-04\\_cfDNA.txt, /Users/anabbi/Desktop/H4H/INTERCEPT/NextSeq/batch13\\_cfDNA\\_11Sep2020/mixcr/clones/CLONES\\_TRBCHP\\_390-02\\_cfDNA.txt, /Users/anabbi/Desktop/H4H/INTERCEPT/NextSeq/remaining\\_batch\\_2\\_22April2021/mixcr/clones/CLONES\\_TRBCHP\\_365-04\\_PBMC-DNA.txt, /Users/anabbi/Desktop/H4H/INTERCEPT/NextSeq/remaining\\_batch\\_4\\_28June2021/mixcr/clones/CLONES\\_TRBCHP-342-03-PBMC-DNA.txt, /Users/anabbi/Desktop/H4H/INTERCEPT/NextSeq/remaining\\_batch\\_4\\_28June2021/mixcr/clones/CLONES\\_TRBCHP-386-04-PBMC-DNA.txt, /Users/anabbi/Desktop/H4H/INTERCEPT/NextSeq/batch11\\_23Apr2020/mixcr/clones/CLONES\\_TRBCHP\\_391-03\\_PBMC\\_DNA.txt, /Users/anabbi/Desktop/H4H/INTERCEPT/NextSeq/batch12\\_30Apr2021/mixcr/clones/CLONES\\_TRBCHP\\_417-01\\_PBMC-DNA.txt, /Users/anabbi/Desktop/H4H/INTERCEPT/NextSeq/batch13\\_cfDNA\\_11Sep2020/mixcr/clones/CLONES\\_TRBCHP\\_367-04\\_cfDNA.txt, /Users/anabbi/Desktop/H4H/INTERCEPT/NextSeq/batch13\\_cfDNA\\_11Sep2020/mixcr/clones/CLONES\\_TRBCHP\\_390-02\\_cfDNA.txt, /Users/anabbi/Desktop/H4H/INTERCEPT/NextSeq/remaining\\_batch\\_2\\_22April2021/mixcr/clones/CLONES\\_TRBCHP\\_365-04\\_PBMC-DNA.txt, /Users/anabbi/Desktop/H4H/INTERCEPT/NextSeq/remaining\\_batch\\_4\\_28June2021/mixcr/clones/CLONES\\_TRBCHP-342-03-PBMC-DNA.txt, /Users/anabbi/Desktop/H4H/INTERCEPT/NextSeq/remaining\\_batch\\_4\\_28June2021/mixcr/clones/CLONES\\_TRBCHP-386-04-PBMC-DNA.txt, /Users/anabbi/Desktop/H4H/INTERCEPT/NextSeq/batch11\\_23Apr2020/mixcr/clones/CLONES\\_TRBCHP\\_391-03\\_PBMC\\_DNA.txt, /Users/anabbi/Desktop/H4H/INTERCEPT/NextSeq/batch12\\_30Apr2021/mixcr/clones/CLONES\\_TRBCHP\\_417-01\\_PBMC-DNA.txt, /Users/anabbi/Desktop/H4H/INTERCEPT/NextSeq/batch13\\_cfDNA\\_11Sep2020/mixcr/clones/CLONES\\_TRBCHP\\_367-04\\_cfDNA.txt, /Users/anabbi/Desktop/H4H/INTERCEPT/NextSeq/batch13\\_cfDNA\\_11Sep2020/mixcr/clones/CLONES\\_TRBCHP\\_390-02\\_cfDNA.txt, /Users/anabbi/Desktop/H4H/INTERCEPT/NextSeq/remaining\\_batch\\_2\\_22April2021/mixcr/clones/CLONES\\_TRBCHP\\_365-04\\_PBMC-DNA.txt, /Users/anabbi/Desktop/H4H/INTERCEPT/NextSeq/remaining\\_batch\\_4\\_28June2021/mixcr/clones/CLONES\\_TRBCHP-342-03-PBMC-DNA.txt, /Users/anabbi/Desktop/H4H/INTERCEPT/NextSeq/remaining\\_batch\\_4\\_28June2021/mixcr/clones/CLONES\\_TRBCHP-386-04-PBMC-DNA.txt, /Users/anabbi/Desktop/H4H/INTERCEPT/NextSeq/batch11\\_23Apr2020/mixcr/clones/CLONES\\_TRBCHP\\_391-03\\_PBMC\\_DNA.txt, /Users/anabbi/Desktop/H4H/INTERCEPT/NextSeq/batch12\\_30Apr2021/mixcr/clones/CLONES\\_TRBCHP\\_417-01\\_PBMC-DNA.txt, /Users/anabbi/Desktop/H4H/INTERCEPT/NextSeq/batch13\\_cfDNA\\_11Sep2020/mixcr/clones/CLONES\\_TRBCHP\\_367-04\\_cfDNA.txt, /Users/anabbi/Desktop/H4H/INTERCEPT/NextSeq/batch13\\_cfDNA\\_11Sep2020/mixcr/clones/CLONES\\_TRBCHP\\_390-02\\_cfDNA.txt, /Users/anabbi/Desktop/H4H/INTERCEPT/NextSeq/remaining\\_batch\\_2\\_22April2021/mixcr/clones/CLONES\\_TRBCHP\\_365-04\\_PBMC-DNA.txt, /Users/anabbi/Desktop/H4H/INTERCEPT/NextSeq/remaining\\_batch\\_4\\_28June2021/mixcr/clones/CLONES\\_TRBCHP-342-03-PBMC-DNA.txt, /Users/anabbi/Desktop/H4H/INTERCEPT/NextSeq/remaining\\_batch\\_4\\_28June2021/mixcr/clones/CLONES\\_TRBCHP-386-04-PBMC-DNA.txt, /Users/anabbi/Desktop/H4H/INTERCEPT/NextSeq/batch11\\_23Apr2020/mixcr/clones/CLONES\\_TRBCHP\\_391-03\\_PBMC\\_DNA.txt, /Users/anabbi/Desktop/H4H/INTERCEPT/NextSeq/batch12\\_30Apr2021/mixcr/clones/CLONES\\_TRBCHP\\_417-01\\_PBMC-DNA.txt, /Users/anabbi/Desktop/H4H/INTERCEPT/NextSeq/batch13\\_cfDNA\\_11Sep2020/mixcr/clones/CLONES\\_TRBCHP\\_367-04\\_cfDNA.txt, /Users/anabbi/Desktop/H4H/INTERCEPT/NextSeq/batch13\\_cfDNA\\_11Sep2020/mixcr/clones/CLONES\\_TRBCHP\\_390-02\\_cfDNA.txt, /Users/anabbi/Desktop/H4H/INTERCEPT/NextSeq/remaining\\_batch\\_2\\_22April2021/mixcr/clones/CLONES\\_TRBCHP\\_365-04\\_PBMC-DNA.txt, /Users/anabbi/Desktop/H4H/INTERCEPT/NextSeq/remaining\\_batch\\_4\\_28June2021/mixcr/clones/CLONES\\_TRBCHP-342-03-PBMC-DNA.txt, /Users/anabbi/Desktop/H4H/INTERCEPT/NextSeq/remaining\\_batch\\_4\\_28June2021/mixcr/clones/CLONES\\_TRBCHP-386-04-PBMC-DNA.txt & CHP\\_391-03\\_PBMC\\_DNA, CHP\\_417-01\\_PBMC-DNA, CHP\\_367-04\\_cfDNA, CHP\\_390-02\\_cfDNA, CHP\\_365-04\\_PBMC-DNA, CHP-342-03-PBMC-DNA, CHP-386-04-PBMC-DNA\\\\\n",
       "\\end{tabular}\n"
      ],
      "text/markdown": [
       "\n",
       "A data.table: 1 × 9\n",
       "\n",
       "| CDR3b &lt;chr&gt; | TRBV &lt;chr&gt; | TRBJ &lt;chr&gt; | subject.condition &lt;chr&gt; | count &lt;int&gt; | clonefraction &lt;dbl&gt; | nSeqCDR3 &lt;chr&gt; | file &lt;chr&gt; | subject &lt;chr&gt; |\n",
       "|---|---|---|---|---|---|---|---|---|\n",
       "| CASSLGTGELFF | TRBV12-3, TRBV11-1, TRBV11-1, TRBV11-1, TRBV12-4, TRBV11-3, TRBV5-6 | TRBJ2-2 | CHP_391-03_PBMC_DNA | 2191 | 0.002603319 | TGTGCCAGCAGTTTAGGCACCGGGGAGCTGTTTTTT | /Users/anabbi/Desktop/H4H/INTERCEPT/NextSeq/batch11_23Apr2020/mixcr/clones/CLONES_TRBCHP_391-03_PBMC_DNA.txt, /Users/anabbi/Desktop/H4H/INTERCEPT/NextSeq/batch12_30Apr2021/mixcr/clones/CLONES_TRBCHP_417-01_PBMC-DNA.txt, /Users/anabbi/Desktop/H4H/INTERCEPT/NextSeq/batch13_cfDNA_11Sep2020/mixcr/clones/CLONES_TRBCHP_367-04_cfDNA.txt, /Users/anabbi/Desktop/H4H/INTERCEPT/NextSeq/batch13_cfDNA_11Sep2020/mixcr/clones/CLONES_TRBCHP_390-02_cfDNA.txt, /Users/anabbi/Desktop/H4H/INTERCEPT/NextSeq/remaining_batch_2_22April2021/mixcr/clones/CLONES_TRBCHP_365-04_PBMC-DNA.txt, /Users/anabbi/Desktop/H4H/INTERCEPT/NextSeq/remaining_batch_4_28June2021/mixcr/clones/CLONES_TRBCHP-342-03-PBMC-DNA.txt, /Users/anabbi/Desktop/H4H/INTERCEPT/NextSeq/remaining_batch_4_28June2021/mixcr/clones/CLONES_TRBCHP-386-04-PBMC-DNA.txt, /Users/anabbi/Desktop/H4H/INTERCEPT/NextSeq/batch11_23Apr2020/mixcr/clones/CLONES_TRBCHP_391-03_PBMC_DNA.txt, /Users/anabbi/Desktop/H4H/INTERCEPT/NextSeq/batch12_30Apr2021/mixcr/clones/CLONES_TRBCHP_417-01_PBMC-DNA.txt, /Users/anabbi/Desktop/H4H/INTERCEPT/NextSeq/batch13_cfDNA_11Sep2020/mixcr/clones/CLONES_TRBCHP_367-04_cfDNA.txt, /Users/anabbi/Desktop/H4H/INTERCEPT/NextSeq/batch13_cfDNA_11Sep2020/mixcr/clones/CLONES_TRBCHP_390-02_cfDNA.txt, /Users/anabbi/Desktop/H4H/INTERCEPT/NextSeq/remaining_batch_2_22April2021/mixcr/clones/CLONES_TRBCHP_365-04_PBMC-DNA.txt, /Users/anabbi/Desktop/H4H/INTERCEPT/NextSeq/remaining_batch_4_28June2021/mixcr/clones/CLONES_TRBCHP-342-03-PBMC-DNA.txt, /Users/anabbi/Desktop/H4H/INTERCEPT/NextSeq/remaining_batch_4_28June2021/mixcr/clones/CLONES_TRBCHP-386-04-PBMC-DNA.txt, /Users/anabbi/Desktop/H4H/INTERCEPT/NextSeq/batch11_23Apr2020/mixcr/clones/CLONES_TRBCHP_391-03_PBMC_DNA.txt, /Users/anabbi/Desktop/H4H/INTERCEPT/NextSeq/batch12_30Apr2021/mixcr/clones/CLONES_TRBCHP_417-01_PBMC-DNA.txt, /Users/anabbi/Desktop/H4H/INTERCEPT/NextSeq/batch13_cfDNA_11Sep2020/mixcr/clones/CLONES_TRBCHP_367-04_cfDNA.txt, /Users/anabbi/Desktop/H4H/INTERCEPT/NextSeq/batch13_cfDNA_11Sep2020/mixcr/clones/CLONES_TRBCHP_390-02_cfDNA.txt, /Users/anabbi/Desktop/H4H/INTERCEPT/NextSeq/remaining_batch_2_22April2021/mixcr/clones/CLONES_TRBCHP_365-04_PBMC-DNA.txt, /Users/anabbi/Desktop/H4H/INTERCEPT/NextSeq/remaining_batch_4_28June2021/mixcr/clones/CLONES_TRBCHP-342-03-PBMC-DNA.txt, /Users/anabbi/Desktop/H4H/INTERCEPT/NextSeq/remaining_batch_4_28June2021/mixcr/clones/CLONES_TRBCHP-386-04-PBMC-DNA.txt, /Users/anabbi/Desktop/H4H/INTERCEPT/NextSeq/batch11_23Apr2020/mixcr/clones/CLONES_TRBCHP_391-03_PBMC_DNA.txt, /Users/anabbi/Desktop/H4H/INTERCEPT/NextSeq/batch12_30Apr2021/mixcr/clones/CLONES_TRBCHP_417-01_PBMC-DNA.txt, /Users/anabbi/Desktop/H4H/INTERCEPT/NextSeq/batch13_cfDNA_11Sep2020/mixcr/clones/CLONES_TRBCHP_367-04_cfDNA.txt, /Users/anabbi/Desktop/H4H/INTERCEPT/NextSeq/batch13_cfDNA_11Sep2020/mixcr/clones/CLONES_TRBCHP_390-02_cfDNA.txt, /Users/anabbi/Desktop/H4H/INTERCEPT/NextSeq/remaining_batch_2_22April2021/mixcr/clones/CLONES_TRBCHP_365-04_PBMC-DNA.txt, /Users/anabbi/Desktop/H4H/INTERCEPT/NextSeq/remaining_batch_4_28June2021/mixcr/clones/CLONES_TRBCHP-342-03-PBMC-DNA.txt, /Users/anabbi/Desktop/H4H/INTERCEPT/NextSeq/remaining_batch_4_28June2021/mixcr/clones/CLONES_TRBCHP-386-04-PBMC-DNA.txt, /Users/anabbi/Desktop/H4H/INTERCEPT/NextSeq/batch11_23Apr2020/mixcr/clones/CLONES_TRBCHP_391-03_PBMC_DNA.txt, /Users/anabbi/Desktop/H4H/INTERCEPT/NextSeq/batch12_30Apr2021/mixcr/clones/CLONES_TRBCHP_417-01_PBMC-DNA.txt, /Users/anabbi/Desktop/H4H/INTERCEPT/NextSeq/batch13_cfDNA_11Sep2020/mixcr/clones/CLONES_TRBCHP_367-04_cfDNA.txt, /Users/anabbi/Desktop/H4H/INTERCEPT/NextSeq/batch13_cfDNA_11Sep2020/mixcr/clones/CLONES_TRBCHP_390-02_cfDNA.txt, /Users/anabbi/Desktop/H4H/INTERCEPT/NextSeq/remaining_batch_2_22April2021/mixcr/clones/CLONES_TRBCHP_365-04_PBMC-DNA.txt, /Users/anabbi/Desktop/H4H/INTERCEPT/NextSeq/remaining_batch_4_28June2021/mixcr/clones/CLONES_TRBCHP-342-03-PBMC-DNA.txt, /Users/anabbi/Desktop/H4H/INTERCEPT/NextSeq/remaining_batch_4_28June2021/mixcr/clones/CLONES_TRBCHP-386-04-PBMC-DNA.txt, /Users/anabbi/Desktop/H4H/INTERCEPT/NextSeq/batch11_23Apr2020/mixcr/clones/CLONES_TRBCHP_391-03_PBMC_DNA.txt, /Users/anabbi/Desktop/H4H/INTERCEPT/NextSeq/batch12_30Apr2021/mixcr/clones/CLONES_TRBCHP_417-01_PBMC-DNA.txt, /Users/anabbi/Desktop/H4H/INTERCEPT/NextSeq/batch13_cfDNA_11Sep2020/mixcr/clones/CLONES_TRBCHP_367-04_cfDNA.txt, /Users/anabbi/Desktop/H4H/INTERCEPT/NextSeq/batch13_cfDNA_11Sep2020/mixcr/clones/CLONES_TRBCHP_390-02_cfDNA.txt, /Users/anabbi/Desktop/H4H/INTERCEPT/NextSeq/remaining_batch_2_22April2021/mixcr/clones/CLONES_TRBCHP_365-04_PBMC-DNA.txt, /Users/anabbi/Desktop/H4H/INTERCEPT/NextSeq/remaining_batch_4_28June2021/mixcr/clones/CLONES_TRBCHP-342-03-PBMC-DNA.txt, /Users/anabbi/Desktop/H4H/INTERCEPT/NextSeq/remaining_batch_4_28June2021/mixcr/clones/CLONES_TRBCHP-386-04-PBMC-DNA.txt, /Users/anabbi/Desktop/H4H/INTERCEPT/NextSeq/batch11_23Apr2020/mixcr/clones/CLONES_TRBCHP_391-03_PBMC_DNA.txt, /Users/anabbi/Desktop/H4H/INTERCEPT/NextSeq/batch12_30Apr2021/mixcr/clones/CLONES_TRBCHP_417-01_PBMC-DNA.txt, /Users/anabbi/Desktop/H4H/INTERCEPT/NextSeq/batch13_cfDNA_11Sep2020/mixcr/clones/CLONES_TRBCHP_367-04_cfDNA.txt, /Users/anabbi/Desktop/H4H/INTERCEPT/NextSeq/batch13_cfDNA_11Sep2020/mixcr/clones/CLONES_TRBCHP_390-02_cfDNA.txt, /Users/anabbi/Desktop/H4H/INTERCEPT/NextSeq/remaining_batch_2_22April2021/mixcr/clones/CLONES_TRBCHP_365-04_PBMC-DNA.txt, /Users/anabbi/Desktop/H4H/INTERCEPT/NextSeq/remaining_batch_4_28June2021/mixcr/clones/CLONES_TRBCHP-342-03-PBMC-DNA.txt, /Users/anabbi/Desktop/H4H/INTERCEPT/NextSeq/remaining_batch_4_28June2021/mixcr/clones/CLONES_TRBCHP-386-04-PBMC-DNA.txt | CHP_391-03_PBMC_DNA, CHP_417-01_PBMC-DNA, CHP_367-04_cfDNA, CHP_390-02_cfDNA, CHP_365-04_PBMC-DNA, CHP-342-03-PBMC-DNA, CHP-386-04-PBMC-DNA |\n",
       "\n"
      ],
      "text/plain": [
       "  CDR3b       \n",
       "1 CASSLGTGELFF\n",
       "  TRBV                                                                TRBJ   \n",
       "1 TRBV12-3, TRBV11-1, TRBV11-1, TRBV11-1, TRBV12-4, TRBV11-3, TRBV5-6 TRBJ2-2\n",
       "  subject.condition   count clonefraction nSeqCDR3                            \n",
       "1 CHP_391-03_PBMC_DNA 2191  0.002603319   TGTGCCAGCAGTTTAGGCACCGGGGAGCTGTTTTTT\n",
       "  file                                                                                                                                                                                                                                                                                                                                                                                                                                                                                                                                                                                                                                                                                                                                                                                                                                                                                                                                                                                                                                                                                                                                                                                                                                                                                                                                                                                                                                                                                                                                                                                                                                                                                                                                                                                                                                                                                                                                                                                                                                                                                                                                                                                                                                                                                                                                                                                                                                                                                                                                                                                                                                                                                                                                                                                                                                                                                                                                                                                                                                                                                                                                                                                                                                                                                                                                                                                                                                                                                                                                                                                                                                                                                                                                                                                                                                                                                                                                                                                                                                                                                                                                                                                                                                                                                                                                                                                                                                                                                                                                                                                                                                                                                                                                                                                                                                                                                                                                                                                                                                                                                                                                                                                                                                                                                                                                                                                                                                                                                                                                                                                                                                                                                                                                                                                                                                                                                                \n",
       "1 /Users/anabbi/Desktop/H4H/INTERCEPT/NextSeq/batch11_23Apr2020/mixcr/clones/CLONES_TRBCHP_391-03_PBMC_DNA.txt, /Users/anabbi/Desktop/H4H/INTERCEPT/NextSeq/batch12_30Apr2021/mixcr/clones/CLONES_TRBCHP_417-01_PBMC-DNA.txt, /Users/anabbi/Desktop/H4H/INTERCEPT/NextSeq/batch13_cfDNA_11Sep2020/mixcr/clones/CLONES_TRBCHP_367-04_cfDNA.txt, /Users/anabbi/Desktop/H4H/INTERCEPT/NextSeq/batch13_cfDNA_11Sep2020/mixcr/clones/CLONES_TRBCHP_390-02_cfDNA.txt, /Users/anabbi/Desktop/H4H/INTERCEPT/NextSeq/remaining_batch_2_22April2021/mixcr/clones/CLONES_TRBCHP_365-04_PBMC-DNA.txt, /Users/anabbi/Desktop/H4H/INTERCEPT/NextSeq/remaining_batch_4_28June2021/mixcr/clones/CLONES_TRBCHP-342-03-PBMC-DNA.txt, /Users/anabbi/Desktop/H4H/INTERCEPT/NextSeq/remaining_batch_4_28June2021/mixcr/clones/CLONES_TRBCHP-386-04-PBMC-DNA.txt, /Users/anabbi/Desktop/H4H/INTERCEPT/NextSeq/batch11_23Apr2020/mixcr/clones/CLONES_TRBCHP_391-03_PBMC_DNA.txt, /Users/anabbi/Desktop/H4H/INTERCEPT/NextSeq/batch12_30Apr2021/mixcr/clones/CLONES_TRBCHP_417-01_PBMC-DNA.txt, /Users/anabbi/Desktop/H4H/INTERCEPT/NextSeq/batch13_cfDNA_11Sep2020/mixcr/clones/CLONES_TRBCHP_367-04_cfDNA.txt, /Users/anabbi/Desktop/H4H/INTERCEPT/NextSeq/batch13_cfDNA_11Sep2020/mixcr/clones/CLONES_TRBCHP_390-02_cfDNA.txt, /Users/anabbi/Desktop/H4H/INTERCEPT/NextSeq/remaining_batch_2_22April2021/mixcr/clones/CLONES_TRBCHP_365-04_PBMC-DNA.txt, /Users/anabbi/Desktop/H4H/INTERCEPT/NextSeq/remaining_batch_4_28June2021/mixcr/clones/CLONES_TRBCHP-342-03-PBMC-DNA.txt, /Users/anabbi/Desktop/H4H/INTERCEPT/NextSeq/remaining_batch_4_28June2021/mixcr/clones/CLONES_TRBCHP-386-04-PBMC-DNA.txt, /Users/anabbi/Desktop/H4H/INTERCEPT/NextSeq/batch11_23Apr2020/mixcr/clones/CLONES_TRBCHP_391-03_PBMC_DNA.txt, /Users/anabbi/Desktop/H4H/INTERCEPT/NextSeq/batch12_30Apr2021/mixcr/clones/CLONES_TRBCHP_417-01_PBMC-DNA.txt, /Users/anabbi/Desktop/H4H/INTERCEPT/NextSeq/batch13_cfDNA_11Sep2020/mixcr/clones/CLONES_TRBCHP_367-04_cfDNA.txt, /Users/anabbi/Desktop/H4H/INTERCEPT/NextSeq/batch13_cfDNA_11Sep2020/mixcr/clones/CLONES_TRBCHP_390-02_cfDNA.txt, /Users/anabbi/Desktop/H4H/INTERCEPT/NextSeq/remaining_batch_2_22April2021/mixcr/clones/CLONES_TRBCHP_365-04_PBMC-DNA.txt, /Users/anabbi/Desktop/H4H/INTERCEPT/NextSeq/remaining_batch_4_28June2021/mixcr/clones/CLONES_TRBCHP-342-03-PBMC-DNA.txt, /Users/anabbi/Desktop/H4H/INTERCEPT/NextSeq/remaining_batch_4_28June2021/mixcr/clones/CLONES_TRBCHP-386-04-PBMC-DNA.txt, /Users/anabbi/Desktop/H4H/INTERCEPT/NextSeq/batch11_23Apr2020/mixcr/clones/CLONES_TRBCHP_391-03_PBMC_DNA.txt, /Users/anabbi/Desktop/H4H/INTERCEPT/NextSeq/batch12_30Apr2021/mixcr/clones/CLONES_TRBCHP_417-01_PBMC-DNA.txt, /Users/anabbi/Desktop/H4H/INTERCEPT/NextSeq/batch13_cfDNA_11Sep2020/mixcr/clones/CLONES_TRBCHP_367-04_cfDNA.txt, /Users/anabbi/Desktop/H4H/INTERCEPT/NextSeq/batch13_cfDNA_11Sep2020/mixcr/clones/CLONES_TRBCHP_390-02_cfDNA.txt, /Users/anabbi/Desktop/H4H/INTERCEPT/NextSeq/remaining_batch_2_22April2021/mixcr/clones/CLONES_TRBCHP_365-04_PBMC-DNA.txt, /Users/anabbi/Desktop/H4H/INTERCEPT/NextSeq/remaining_batch_4_28June2021/mixcr/clones/CLONES_TRBCHP-342-03-PBMC-DNA.txt, /Users/anabbi/Desktop/H4H/INTERCEPT/NextSeq/remaining_batch_4_28June2021/mixcr/clones/CLONES_TRBCHP-386-04-PBMC-DNA.txt, /Users/anabbi/Desktop/H4H/INTERCEPT/NextSeq/batch11_23Apr2020/mixcr/clones/CLONES_TRBCHP_391-03_PBMC_DNA.txt, /Users/anabbi/Desktop/H4H/INTERCEPT/NextSeq/batch12_30Apr2021/mixcr/clones/CLONES_TRBCHP_417-01_PBMC-DNA.txt, /Users/anabbi/Desktop/H4H/INTERCEPT/NextSeq/batch13_cfDNA_11Sep2020/mixcr/clones/CLONES_TRBCHP_367-04_cfDNA.txt, /Users/anabbi/Desktop/H4H/INTERCEPT/NextSeq/batch13_cfDNA_11Sep2020/mixcr/clones/CLONES_TRBCHP_390-02_cfDNA.txt, /Users/anabbi/Desktop/H4H/INTERCEPT/NextSeq/remaining_batch_2_22April2021/mixcr/clones/CLONES_TRBCHP_365-04_PBMC-DNA.txt, /Users/anabbi/Desktop/H4H/INTERCEPT/NextSeq/remaining_batch_4_28June2021/mixcr/clones/CLONES_TRBCHP-342-03-PBMC-DNA.txt, /Users/anabbi/Desktop/H4H/INTERCEPT/NextSeq/remaining_batch_4_28June2021/mixcr/clones/CLONES_TRBCHP-386-04-PBMC-DNA.txt, /Users/anabbi/Desktop/H4H/INTERCEPT/NextSeq/batch11_23Apr2020/mixcr/clones/CLONES_TRBCHP_391-03_PBMC_DNA.txt, /Users/anabbi/Desktop/H4H/INTERCEPT/NextSeq/batch12_30Apr2021/mixcr/clones/CLONES_TRBCHP_417-01_PBMC-DNA.txt, /Users/anabbi/Desktop/H4H/INTERCEPT/NextSeq/batch13_cfDNA_11Sep2020/mixcr/clones/CLONES_TRBCHP_367-04_cfDNA.txt, /Users/anabbi/Desktop/H4H/INTERCEPT/NextSeq/batch13_cfDNA_11Sep2020/mixcr/clones/CLONES_TRBCHP_390-02_cfDNA.txt, /Users/anabbi/Desktop/H4H/INTERCEPT/NextSeq/remaining_batch_2_22April2021/mixcr/clones/CLONES_TRBCHP_365-04_PBMC-DNA.txt, /Users/anabbi/Desktop/H4H/INTERCEPT/NextSeq/remaining_batch_4_28June2021/mixcr/clones/CLONES_TRBCHP-342-03-PBMC-DNA.txt, /Users/anabbi/Desktop/H4H/INTERCEPT/NextSeq/remaining_batch_4_28June2021/mixcr/clones/CLONES_TRBCHP-386-04-PBMC-DNA.txt, /Users/anabbi/Desktop/H4H/INTERCEPT/NextSeq/batch11_23Apr2020/mixcr/clones/CLONES_TRBCHP_391-03_PBMC_DNA.txt, /Users/anabbi/Desktop/H4H/INTERCEPT/NextSeq/batch12_30Apr2021/mixcr/clones/CLONES_TRBCHP_417-01_PBMC-DNA.txt, /Users/anabbi/Desktop/H4H/INTERCEPT/NextSeq/batch13_cfDNA_11Sep2020/mixcr/clones/CLONES_TRBCHP_367-04_cfDNA.txt, /Users/anabbi/Desktop/H4H/INTERCEPT/NextSeq/batch13_cfDNA_11Sep2020/mixcr/clones/CLONES_TRBCHP_390-02_cfDNA.txt, /Users/anabbi/Desktop/H4H/INTERCEPT/NextSeq/remaining_batch_2_22April2021/mixcr/clones/CLONES_TRBCHP_365-04_PBMC-DNA.txt, /Users/anabbi/Desktop/H4H/INTERCEPT/NextSeq/remaining_batch_4_28June2021/mixcr/clones/CLONES_TRBCHP-342-03-PBMC-DNA.txt, /Users/anabbi/Desktop/H4H/INTERCEPT/NextSeq/remaining_batch_4_28June2021/mixcr/clones/CLONES_TRBCHP-386-04-PBMC-DNA.txt\n",
       "  subject                                                                                                                                    \n",
       "1 CHP_391-03_PBMC_DNA, CHP_417-01_PBMC-DNA, CHP_367-04_cfDNA, CHP_390-02_cfDNA, CHP_365-04_PBMC-DNA, CHP-342-03-PBMC-DNA, CHP-386-04-PBMC-DNA"
      ]
     },
     "metadata": {},
     "output_type": "display_data"
    }
   ],
   "source": [
    "tm"
   ]
  },
  {
   "cell_type": "code",
   "execution_count": 49,
   "metadata": {},
   "outputs": [
    {
     "data": {
      "text/html": [
       "<table class=\"dataframe\">\n",
       "<caption>A data.table: 1 × 4</caption>\n",
       "<thead>\n",
       "\t<tr><th scope=col>CDR3b</th><th scope=col>subject</th><th scope=col>file</th><th scope=col>count</th></tr>\n",
       "\t<tr><th scope=col>&lt;chr&gt;</th><th scope=col>&lt;chr&gt;</th><th scope=col>&lt;chr&gt;</th><th scope=col>&lt;int&gt;</th></tr>\n",
       "</thead>\n",
       "<tbody>\n",
       "\t<tr><td>CASSLGTGELFF</td><td>CHP_391-03_PBMC_DNA, CHP_417-01_PBMC-DNA, CHP_367-04_cfDNA, CHP_390-02_cfDNA, CHP_365-04_PBMC-DNA, CHP-342-03-PBMC-DNA, CHP-386-04-PBMC-DNA</td><td>/Users/anabbi/Desktop/H4H/INTERCEPT/NextSeq/batch11_23Apr2020/mixcr/clones/CLONES_TRBCHP_391-03_PBMC_DNA.txt, /Users/anabbi/Desktop/H4H/INTERCEPT/NextSeq/batch12_30Apr2021/mixcr/clones/CLONES_TRBCHP_417-01_PBMC-DNA.txt, /Users/anabbi/Desktop/H4H/INTERCEPT/NextSeq/batch13_cfDNA_11Sep2020/mixcr/clones/CLONES_TRBCHP_367-04_cfDNA.txt, /Users/anabbi/Desktop/H4H/INTERCEPT/NextSeq/batch13_cfDNA_11Sep2020/mixcr/clones/CLONES_TRBCHP_390-02_cfDNA.txt, /Users/anabbi/Desktop/H4H/INTERCEPT/NextSeq/remaining_batch_2_22April2021/mixcr/clones/CLONES_TRBCHP_365-04_PBMC-DNA.txt, /Users/anabbi/Desktop/H4H/INTERCEPT/NextSeq/remaining_batch_4_28June2021/mixcr/clones/CLONES_TRBCHP-342-03-PBMC-DNA.txt, /Users/anabbi/Desktop/H4H/INTERCEPT/NextSeq/remaining_batch_4_28June2021/mixcr/clones/CLONES_TRBCHP-386-04-PBMC-DNA.txt</td><td>313</td></tr>\n",
       "</tbody>\n",
       "</table>\n"
      ],
      "text/latex": [
       "A data.table: 1 × 4\n",
       "\\begin{tabular}{llll}\n",
       " CDR3b & subject & file & count\\\\\n",
       " <chr> & <chr> & <chr> & <int>\\\\\n",
       "\\hline\n",
       "\t CASSLGTGELFF & CHP\\_391-03\\_PBMC\\_DNA, CHP\\_417-01\\_PBMC-DNA, CHP\\_367-04\\_cfDNA, CHP\\_390-02\\_cfDNA, CHP\\_365-04\\_PBMC-DNA, CHP-342-03-PBMC-DNA, CHP-386-04-PBMC-DNA & /Users/anabbi/Desktop/H4H/INTERCEPT/NextSeq/batch11\\_23Apr2020/mixcr/clones/CLONES\\_TRBCHP\\_391-03\\_PBMC\\_DNA.txt, /Users/anabbi/Desktop/H4H/INTERCEPT/NextSeq/batch12\\_30Apr2021/mixcr/clones/CLONES\\_TRBCHP\\_417-01\\_PBMC-DNA.txt, /Users/anabbi/Desktop/H4H/INTERCEPT/NextSeq/batch13\\_cfDNA\\_11Sep2020/mixcr/clones/CLONES\\_TRBCHP\\_367-04\\_cfDNA.txt, /Users/anabbi/Desktop/H4H/INTERCEPT/NextSeq/batch13\\_cfDNA\\_11Sep2020/mixcr/clones/CLONES\\_TRBCHP\\_390-02\\_cfDNA.txt, /Users/anabbi/Desktop/H4H/INTERCEPT/NextSeq/remaining\\_batch\\_2\\_22April2021/mixcr/clones/CLONES\\_TRBCHP\\_365-04\\_PBMC-DNA.txt, /Users/anabbi/Desktop/H4H/INTERCEPT/NextSeq/remaining\\_batch\\_4\\_28June2021/mixcr/clones/CLONES\\_TRBCHP-342-03-PBMC-DNA.txt, /Users/anabbi/Desktop/H4H/INTERCEPT/NextSeq/remaining\\_batch\\_4\\_28June2021/mixcr/clones/CLONES\\_TRBCHP-386-04-PBMC-DNA.txt & 313\\\\\n",
       "\\end{tabular}\n"
      ],
      "text/markdown": [
       "\n",
       "A data.table: 1 × 4\n",
       "\n",
       "| CDR3b &lt;chr&gt; | subject &lt;chr&gt; | file &lt;chr&gt; | count &lt;int&gt; |\n",
       "|---|---|---|---|\n",
       "| CASSLGTGELFF | CHP_391-03_PBMC_DNA, CHP_417-01_PBMC-DNA, CHP_367-04_cfDNA, CHP_390-02_cfDNA, CHP_365-04_PBMC-DNA, CHP-342-03-PBMC-DNA, CHP-386-04-PBMC-DNA | /Users/anabbi/Desktop/H4H/INTERCEPT/NextSeq/batch11_23Apr2020/mixcr/clones/CLONES_TRBCHP_391-03_PBMC_DNA.txt, /Users/anabbi/Desktop/H4H/INTERCEPT/NextSeq/batch12_30Apr2021/mixcr/clones/CLONES_TRBCHP_417-01_PBMC-DNA.txt, /Users/anabbi/Desktop/H4H/INTERCEPT/NextSeq/batch13_cfDNA_11Sep2020/mixcr/clones/CLONES_TRBCHP_367-04_cfDNA.txt, /Users/anabbi/Desktop/H4H/INTERCEPT/NextSeq/batch13_cfDNA_11Sep2020/mixcr/clones/CLONES_TRBCHP_390-02_cfDNA.txt, /Users/anabbi/Desktop/H4H/INTERCEPT/NextSeq/remaining_batch_2_22April2021/mixcr/clones/CLONES_TRBCHP_365-04_PBMC-DNA.txt, /Users/anabbi/Desktop/H4H/INTERCEPT/NextSeq/remaining_batch_4_28June2021/mixcr/clones/CLONES_TRBCHP-342-03-PBMC-DNA.txt, /Users/anabbi/Desktop/H4H/INTERCEPT/NextSeq/remaining_batch_4_28June2021/mixcr/clones/CLONES_TRBCHP-386-04-PBMC-DNA.txt | 313 |\n",
       "\n"
      ],
      "text/plain": [
       "  CDR3b       \n",
       "1 CASSLGTGELFF\n",
       "  subject                                                                                                                                    \n",
       "1 CHP_391-03_PBMC_DNA, CHP_417-01_PBMC-DNA, CHP_367-04_cfDNA, CHP_390-02_cfDNA, CHP_365-04_PBMC-DNA, CHP-342-03-PBMC-DNA, CHP-386-04-PBMC-DNA\n",
       "  file                                                                                                                                                                                                                                                                                                                                                                                                                                                                                                                                                                                                                                                                                                                                                                                                                                    \n",
       "1 /Users/anabbi/Desktop/H4H/INTERCEPT/NextSeq/batch11_23Apr2020/mixcr/clones/CLONES_TRBCHP_391-03_PBMC_DNA.txt, /Users/anabbi/Desktop/H4H/INTERCEPT/NextSeq/batch12_30Apr2021/mixcr/clones/CLONES_TRBCHP_417-01_PBMC-DNA.txt, /Users/anabbi/Desktop/H4H/INTERCEPT/NextSeq/batch13_cfDNA_11Sep2020/mixcr/clones/CLONES_TRBCHP_367-04_cfDNA.txt, /Users/anabbi/Desktop/H4H/INTERCEPT/NextSeq/batch13_cfDNA_11Sep2020/mixcr/clones/CLONES_TRBCHP_390-02_cfDNA.txt, /Users/anabbi/Desktop/H4H/INTERCEPT/NextSeq/remaining_batch_2_22April2021/mixcr/clones/CLONES_TRBCHP_365-04_PBMC-DNA.txt, /Users/anabbi/Desktop/H4H/INTERCEPT/NextSeq/remaining_batch_4_28June2021/mixcr/clones/CLONES_TRBCHP-342-03-PBMC-DNA.txt, /Users/anabbi/Desktop/H4H/INTERCEPT/NextSeq/remaining_batch_4_28June2021/mixcr/clones/CLONES_TRBCHP-386-04-PBMC-DNA.txt\n",
       "  count\n",
       "1 313  "
      ]
     },
     "metadata": {},
     "output_type": "display_data"
    }
   ],
   "source": [
    "ab"
   ]
  },
  {
   "cell_type": "code",
   "execution_count": 43,
   "metadata": {},
   "outputs": [],
   "source": [
    "tm <- dat[ match(ab$CDR3b, dat$CDR3b),]"
   ]
  },
  {
   "cell_type": "code",
   "execution_count": 44,
   "metadata": {},
   "outputs": [
    {
     "data": {
      "text/html": [
       "<table class=\"dataframe\">\n",
       "<caption>A data.table: 1 × 9</caption>\n",
       "<thead>\n",
       "\t<tr><th scope=col>CDR3b</th><th scope=col>TRBV</th><th scope=col>TRBJ</th><th scope=col>subject.condition</th><th scope=col>count</th><th scope=col>clonefraction</th><th scope=col>nSeqCDR3</th><th scope=col>file</th><th scope=col>subject</th></tr>\n",
       "\t<tr><th scope=col>&lt;chr&gt;</th><th scope=col>&lt;chr&gt;</th><th scope=col>&lt;chr&gt;</th><th scope=col>&lt;chr&gt;</th><th scope=col>&lt;int&gt;</th><th scope=col>&lt;dbl&gt;</th><th scope=col>&lt;chr&gt;</th><th scope=col>&lt;chr&gt;</th><th scope=col>&lt;chr&gt;</th></tr>\n",
       "</thead>\n",
       "<tbody>\n",
       "\t<tr><td>CASSLGTGELFF</td><td>TRBV12-3</td><td>TRBJ2-2</td><td>CHP_391-03_PBMC_DNA</td><td>313</td><td>0.002603319</td><td>TGTGCCAGCAGTTTAGGCACCGGGGAGCTGTTTTTT</td><td>/Users/anabbi/Desktop/H4H/INTERCEPT/NextSeq/batch11_23Apr2020/mixcr/clones/CLONES_TRBCHP_391-03_PBMC_DNA.txt, /Users/anabbi/Desktop/H4H/INTERCEPT/NextSeq/batch12_30Apr2021/mixcr/clones/CLONES_TRBCHP_417-01_PBMC-DNA.txt, /Users/anabbi/Desktop/H4H/INTERCEPT/NextSeq/batch13_cfDNA_11Sep2020/mixcr/clones/CLONES_TRBCHP_367-04_cfDNA.txt, /Users/anabbi/Desktop/H4H/INTERCEPT/NextSeq/batch13_cfDNA_11Sep2020/mixcr/clones/CLONES_TRBCHP_390-02_cfDNA.txt, /Users/anabbi/Desktop/H4H/INTERCEPT/NextSeq/remaining_batch_2_22April2021/mixcr/clones/CLONES_TRBCHP_365-04_PBMC-DNA.txt, /Users/anabbi/Desktop/H4H/INTERCEPT/NextSeq/remaining_batch_4_28June2021/mixcr/clones/CLONES_TRBCHP-342-03-PBMC-DNA.txt, /Users/anabbi/Desktop/H4H/INTERCEPT/NextSeq/remaining_batch_4_28June2021/mixcr/clones/CLONES_TRBCHP-386-04-PBMC-DNA.txt</td><td>CHP_391-03_PBMC_DNA, CHP_417-01_PBMC-DNA, CHP_367-04_cfDNA, CHP_390-02_cfDNA, CHP_365-04_PBMC-DNA, CHP-342-03-PBMC-DNA, CHP-386-04-PBMC-DNA</td></tr>\n",
       "</tbody>\n",
       "</table>\n"
      ],
      "text/latex": [
       "A data.table: 1 × 9\n",
       "\\begin{tabular}{lllllllll}\n",
       " CDR3b & TRBV & TRBJ & subject.condition & count & clonefraction & nSeqCDR3 & file & subject\\\\\n",
       " <chr> & <chr> & <chr> & <chr> & <int> & <dbl> & <chr> & <chr> & <chr>\\\\\n",
       "\\hline\n",
       "\t CASSLGTGELFF & TRBV12-3 & TRBJ2-2 & CHP\\_391-03\\_PBMC\\_DNA & 313 & 0.002603319 & TGTGCCAGCAGTTTAGGCACCGGGGAGCTGTTTTTT & /Users/anabbi/Desktop/H4H/INTERCEPT/NextSeq/batch11\\_23Apr2020/mixcr/clones/CLONES\\_TRBCHP\\_391-03\\_PBMC\\_DNA.txt, /Users/anabbi/Desktop/H4H/INTERCEPT/NextSeq/batch12\\_30Apr2021/mixcr/clones/CLONES\\_TRBCHP\\_417-01\\_PBMC-DNA.txt, /Users/anabbi/Desktop/H4H/INTERCEPT/NextSeq/batch13\\_cfDNA\\_11Sep2020/mixcr/clones/CLONES\\_TRBCHP\\_367-04\\_cfDNA.txt, /Users/anabbi/Desktop/H4H/INTERCEPT/NextSeq/batch13\\_cfDNA\\_11Sep2020/mixcr/clones/CLONES\\_TRBCHP\\_390-02\\_cfDNA.txt, /Users/anabbi/Desktop/H4H/INTERCEPT/NextSeq/remaining\\_batch\\_2\\_22April2021/mixcr/clones/CLONES\\_TRBCHP\\_365-04\\_PBMC-DNA.txt, /Users/anabbi/Desktop/H4H/INTERCEPT/NextSeq/remaining\\_batch\\_4\\_28June2021/mixcr/clones/CLONES\\_TRBCHP-342-03-PBMC-DNA.txt, /Users/anabbi/Desktop/H4H/INTERCEPT/NextSeq/remaining\\_batch\\_4\\_28June2021/mixcr/clones/CLONES\\_TRBCHP-386-04-PBMC-DNA.txt & CHP\\_391-03\\_PBMC\\_DNA, CHP\\_417-01\\_PBMC-DNA, CHP\\_367-04\\_cfDNA, CHP\\_390-02\\_cfDNA, CHP\\_365-04\\_PBMC-DNA, CHP-342-03-PBMC-DNA, CHP-386-04-PBMC-DNA\\\\\n",
       "\\end{tabular}\n"
      ],
      "text/markdown": [
       "\n",
       "A data.table: 1 × 9\n",
       "\n",
       "| CDR3b &lt;chr&gt; | TRBV &lt;chr&gt; | TRBJ &lt;chr&gt; | subject.condition &lt;chr&gt; | count &lt;int&gt; | clonefraction &lt;dbl&gt; | nSeqCDR3 &lt;chr&gt; | file &lt;chr&gt; | subject &lt;chr&gt; |\n",
       "|---|---|---|---|---|---|---|---|---|\n",
       "| CASSLGTGELFF | TRBV12-3 | TRBJ2-2 | CHP_391-03_PBMC_DNA | 313 | 0.002603319 | TGTGCCAGCAGTTTAGGCACCGGGGAGCTGTTTTTT | /Users/anabbi/Desktop/H4H/INTERCEPT/NextSeq/batch11_23Apr2020/mixcr/clones/CLONES_TRBCHP_391-03_PBMC_DNA.txt, /Users/anabbi/Desktop/H4H/INTERCEPT/NextSeq/batch12_30Apr2021/mixcr/clones/CLONES_TRBCHP_417-01_PBMC-DNA.txt, /Users/anabbi/Desktop/H4H/INTERCEPT/NextSeq/batch13_cfDNA_11Sep2020/mixcr/clones/CLONES_TRBCHP_367-04_cfDNA.txt, /Users/anabbi/Desktop/H4H/INTERCEPT/NextSeq/batch13_cfDNA_11Sep2020/mixcr/clones/CLONES_TRBCHP_390-02_cfDNA.txt, /Users/anabbi/Desktop/H4H/INTERCEPT/NextSeq/remaining_batch_2_22April2021/mixcr/clones/CLONES_TRBCHP_365-04_PBMC-DNA.txt, /Users/anabbi/Desktop/H4H/INTERCEPT/NextSeq/remaining_batch_4_28June2021/mixcr/clones/CLONES_TRBCHP-342-03-PBMC-DNA.txt, /Users/anabbi/Desktop/H4H/INTERCEPT/NextSeq/remaining_batch_4_28June2021/mixcr/clones/CLONES_TRBCHP-386-04-PBMC-DNA.txt | CHP_391-03_PBMC_DNA, CHP_417-01_PBMC-DNA, CHP_367-04_cfDNA, CHP_390-02_cfDNA, CHP_365-04_PBMC-DNA, CHP-342-03-PBMC-DNA, CHP-386-04-PBMC-DNA |\n",
       "\n"
      ],
      "text/plain": [
       "  CDR3b        TRBV     TRBJ    subject.condition   count clonefraction\n",
       "1 CASSLGTGELFF TRBV12-3 TRBJ2-2 CHP_391-03_PBMC_DNA 313   0.002603319  \n",
       "  nSeqCDR3                            \n",
       "1 TGTGCCAGCAGTTTAGGCACCGGGGAGCTGTTTTTT\n",
       "  file                                                                                                                                                                                                                                                                                                                                                                                                                                                                                                                                                                                                                                                                                                                                                                                                                                    \n",
       "1 /Users/anabbi/Desktop/H4H/INTERCEPT/NextSeq/batch11_23Apr2020/mixcr/clones/CLONES_TRBCHP_391-03_PBMC_DNA.txt, /Users/anabbi/Desktop/H4H/INTERCEPT/NextSeq/batch12_30Apr2021/mixcr/clones/CLONES_TRBCHP_417-01_PBMC-DNA.txt, /Users/anabbi/Desktop/H4H/INTERCEPT/NextSeq/batch13_cfDNA_11Sep2020/mixcr/clones/CLONES_TRBCHP_367-04_cfDNA.txt, /Users/anabbi/Desktop/H4H/INTERCEPT/NextSeq/batch13_cfDNA_11Sep2020/mixcr/clones/CLONES_TRBCHP_390-02_cfDNA.txt, /Users/anabbi/Desktop/H4H/INTERCEPT/NextSeq/remaining_batch_2_22April2021/mixcr/clones/CLONES_TRBCHP_365-04_PBMC-DNA.txt, /Users/anabbi/Desktop/H4H/INTERCEPT/NextSeq/remaining_batch_4_28June2021/mixcr/clones/CLONES_TRBCHP-342-03-PBMC-DNA.txt, /Users/anabbi/Desktop/H4H/INTERCEPT/NextSeq/remaining_batch_4_28June2021/mixcr/clones/CLONES_TRBCHP-386-04-PBMC-DNA.txt\n",
       "  subject                                                                                                                                    \n",
       "1 CHP_391-03_PBMC_DNA, CHP_417-01_PBMC-DNA, CHP_367-04_cfDNA, CHP_390-02_cfDNA, CHP_365-04_PBMC-DNA, CHP-342-03-PBMC-DNA, CHP-386-04-PBMC-DNA"
      ]
     },
     "metadata": {},
     "output_type": "display_data"
    }
   ],
   "source": [
    "(tm)"
   ]
  },
  {
   "cell_type": "code",
   "execution_count": null,
   "metadata": {},
   "outputs": [],
   "source": []
  },
  {
   "cell_type": "code",
   "execution_count": 34,
   "metadata": {},
   "outputs": [
    {
     "data": {
      "text/plain": [
       "\n",
       "       CASSLGTGELFF       CASSLQGNQPQHF        CASSLRGNEQFF        CASSLRGTEAFF \n",
       "                  7                   7                   7                   7 \n",
       "     CASSPEGGYTEAFF         CASSPGYGYTF        CASSPPGYGYTF   CASSQDSQGGPNYGYTF \n",
       "                  7                   7                   7                   7 \n",
       "    CASSQGTEGNQPQHF CASSRNTQPQVGRSNEQFF      CASSVGGTGNTIYF       CASSVGTRYEQYF \n",
       "                  7                   7                   7                   7 \n",
       "        CATELDYEQYF      CSARDRGLNTEAFF      CSARGQEITEKLFF      CSRVGPEGTDTQYF \n",
       "                  7                   7                   7                   7 \n",
       " CSVGKTGRANRLNTEAFF       CASSDSNTGELFF        CASSLGGYGYTF       CASSLGPNTEAFF \n",
       "                  7                   8                   8                   8 \n",
       "       CASSLGTDTQYF         CASSLGYEQYF       CASSLTGNTEAFF      CASSPLNSNQPQHF \n",
       "                  8                   8                   8                   8 \n",
       "    CASSQGLAGSYEQYF   CASSRTTGTPLTGELFF         CASSSTDTQYF         CASSSYYEQYF \n",
       "                  8                   8                   8                   8 \n",
       "    CASSYGLAGGYEQYF      CSARDLAVSYEQYF     CASSGTSGSTDTQYF         CASSLEYELFF \n",
       "                  8                   8                   9                   9 \n",
       "      CASSLGQNTEAFF     CASSQDRQRNTEAFF     CSASSIGGATDTQYF      CASSDSSGANVLTF \n",
       "                  9                   9                   9                  10 \n",
       "    CASSIGRNSNQPQHF     CASSSWETLNTEAFF     CASSDSSGSTDTQYF         CASSSSYEQYF \n",
       "                 10                  10                  11                  11 \n",
       "      CASRTGWNTEAFF       CASSLGRNQPQHF      CSVFTGGAPGEQYF      CASSHDREQETQYF \n",
       "                 12                  12                  12                  14 \n",
       "   CASSRFAGGSGNTIYF      CASRARELNTEAFF    CATSDSGGLSNQPQHF    CAGRSGKGAAYNEQFF \n",
       "                 14                  15                  16                  18 \n",
       "      CASSLRPPDIQYF    CASSPDRGRYQETQYF \n",
       "                 22                  39 "
      ]
     },
     "metadata": {},
     "output_type": "display_data"
    }
   ],
   "source": [
    "tail(sort(table(gliph_input$CDR3b)),50)"
   ]
  },
  {
   "cell_type": "code",
   "execution_count": null,
   "metadata": {},
   "outputs": [],
   "source": []
  },
  {
   "cell_type": "code",
   "execution_count": 74,
   "metadata": {},
   "outputs": [
    {
     "data": {
      "text/html": [
       "<table class=\"dataframe\">\n",
       "<caption>A tibble: 6 × 2</caption>\n",
       "<thead>\n",
       "\t<tr><th scope=col>CDR3b</th><th scope=col>V5</th></tr>\n",
       "\t<tr><th scope=col>&lt;chr&gt;</th><th scope=col>&lt;chr&gt;</th></tr>\n",
       "</thead>\n",
       "<tbody>\n",
       "\t<tr><td>CANHGGSEQYV    </td><td>CHP_391-02_PBMC_DNA</td></tr>\n",
       "\t<tr><td>CASEPPGSVNEQFF </td><td>CHP_350-04-PBMC-DNA</td></tr>\n",
       "\t<tr><td>CASETDGGGTDTQYF</td><td>CHP_387-02_PBMC_DNA</td></tr>\n",
       "\t<tr><td>CASIRGGDKEKLFF </td><td>CHP_367-01-PBMC-DNA</td></tr>\n",
       "\t<tr><td>CASREDSYQETQYF </td><td>CHP_392-02_PBMC_DNA</td></tr>\n",
       "\t<tr><td>CASRNRGRYGYTF  </td><td>CHP_352-02-PBMC-DNA</td></tr>\n",
       "</tbody>\n",
       "</table>\n"
      ],
      "text/latex": [
       "A tibble: 6 × 2\n",
       "\\begin{tabular}{ll}\n",
       " CDR3b & V5\\\\\n",
       " <chr> & <chr>\\\\\n",
       "\\hline\n",
       "\t CANHGGSEQYV     & CHP\\_391-02\\_PBMC\\_DNA\\\\\n",
       "\t CASEPPGSVNEQFF  & CHP\\_350-04-PBMC-DNA\\\\\n",
       "\t CASETDGGGTDTQYF & CHP\\_387-02\\_PBMC\\_DNA\\\\\n",
       "\t CASIRGGDKEKLFF  & CHP\\_367-01-PBMC-DNA\\\\\n",
       "\t CASREDSYQETQYF  & CHP\\_392-02\\_PBMC\\_DNA\\\\\n",
       "\t CASRNRGRYGYTF   & CHP\\_352-02-PBMC-DNA\\\\\n",
       "\\end{tabular}\n"
      ],
      "text/markdown": [
       "\n",
       "A tibble: 6 × 2\n",
       "\n",
       "| CDR3b &lt;chr&gt; | V5 &lt;chr&gt; |\n",
       "|---|---|\n",
       "| CANHGGSEQYV     | CHP_391-02_PBMC_DNA |\n",
       "| CASEPPGSVNEQFF  | CHP_350-04-PBMC-DNA |\n",
       "| CASETDGGGTDTQYF | CHP_387-02_PBMC_DNA |\n",
       "| CASIRGGDKEKLFF  | CHP_367-01-PBMC-DNA |\n",
       "| CASREDSYQETQYF  | CHP_392-02_PBMC_DNA |\n",
       "| CASRNRGRYGYTF   | CHP_352-02-PBMC-DNA |\n",
       "\n"
      ],
      "text/plain": [
       "  CDR3b           V5                 \n",
       "1 CANHGGSEQYV     CHP_391-02_PBMC_DNA\n",
       "2 CASEPPGSVNEQFF  CHP_350-04-PBMC-DNA\n",
       "3 CASETDGGGTDTQYF CHP_387-02_PBMC_DNA\n",
       "4 CASIRGGDKEKLFF  CHP_367-01-PBMC-DNA\n",
       "5 CASREDSYQETQYF  CHP_392-02_PBMC_DNA\n",
       "6 CASRNRGRYGYTF   CHP_352-02-PBMC-DNA"
      ]
     },
     "metadata": {},
     "output_type": "display_data"
    }
   ],
   "source": [
    "head(dat2)"
   ]
  },
  {
   "cell_type": "code",
   "execution_count": 67,
   "metadata": {},
   "outputs": [],
   "source": [
    "?group_by_at"
   ]
  },
  {
   "cell_type": "code",
   "execution_count": null,
   "metadata": {},
   "outputs": [],
   "source": [
    "# Remove scores from VJ columns\n",
    "\n",
    "    \n"
   ]
  },
  {
   "cell_type": "code",
   "execution_count": null,
   "metadata": {},
   "outputs": [],
   "source": [
    "\n",
    "\n",
    "\n",
    "for(f in file_list_ds){\n",
    "    filename <- gsub(\".*CLONES_\", \"CLONES_\", f)\n",
    "    filename <- gsub(\".txt\", \"\", filename)\n",
    "\n",
    "    mixcrfle <- read.table(paste0(datapath, f),sep = \"\\t\", header = TRUE, stringsAsFactors = F)  \n",
    "\n",
    "    gliph_input <- mixcrfle[,c(\"aaSeqCDR3\", \"allVHitsWithScore\",\n",
    "                               \"allJHitsWithScore\", \"cloneCount\")]\n",
    "    colnames(gliph_input) <- c(\"CDR3b\", \"TRBV\", \"TRBJ\", \"Counts\")\n",
    "# Remove scores from VJ columns\n",
    "    gliph_input$TRBV <- gsub(\"[*]0.*\", \"\", gliph_input$TRBV)\n",
    "    gliph_input$TRBJ <- gsub(\"[*]0.*\", \"\", gliph_input$TRBJ)\n",
    "# Remove non-productive\n",
    "    gliph_input <- gliph_input[!grepl(\"_\", gliph_input$CDR3b),]\n",
    "    gliph_input <- gliph_input[!grepl(\"[*]\", gliph_input$CDR3b),]\n",
    "# Remove singlet and doublets    \n",
    "    gliph_input <- gliph_input[gliph_input$Counts > 2,]\n",
    "    \n",
    "    write.table(gliph_input, file = paste0(outpath, filename, \".GLIPHinput.txt\"),\n",
    "                sep = \"\\t\", row.names = FALSE, quote = FALSE)\n",
    "}\n"
   ]
  },
  {
   "cell_type": "code",
   "execution_count": 46,
   "metadata": {},
   "outputs": [],
   "source": []
  },
  {
   "cell_type": "code",
   "execution_count": 49,
   "metadata": {},
   "outputs": [],
   "source": [
    "filelist <- list.files(datapath, pattern = \"ove10\")"
   ]
  },
  {
   "cell_type": "code",
   "execution_count": 51,
   "metadata": {},
   "outputs": [],
   "source": [
    "all.files <- lapply(filelist, function(f){ read.table(paste0(datapath,f), sep = \"\\t\", header = FALSE,\n",
    "                                                           stringsAsFactors = F)})"
   ]
  },
  {
   "cell_type": "code",
   "execution_count": 54,
   "metadata": {},
   "outputs": [],
   "source": [
    "filenames <- gsub(\"CLONES_TRB\", \"\", filelist)\n",
    "filenames <- gsub(\"_20000.*\", \"\", filenames)"
   ]
  },
  {
   "cell_type": "code",
   "execution_count": 56,
   "metadata": {},
   "outputs": [],
   "source": [
    "filelst <- mapply(cbind, all.files, \"filename\"=filenames, SIMPLIFY=F)"
   ]
  },
  {
   "cell_type": "code",
   "execution_count": 83,
   "metadata": {},
   "outputs": [],
   "source": [
    "gliph.df <- as.data.frame(do.call(rbind, filelst))"
   ]
  },
  {
   "cell_type": "code",
   "execution_count": 84,
   "metadata": {},
   "outputs": [],
   "source": [
    "gliph.df$filename <- as.character(gliph.df$filename)"
   ]
  },
  {
   "cell_type": "code",
   "execution_count": 85,
   "metadata": {},
   "outputs": [
    {
     "data": {
      "text/html": [
       "<table>\n",
       "<caption>A data.frame: 6 × 7</caption>\n",
       "<thead>\n",
       "\t<tr><th scope=col>V1</th><th scope=col>V2</th><th scope=col>V3</th><th scope=col>V4</th><th scope=col>V5</th><th scope=col>V6</th><th scope=col>filename</th></tr>\n",
       "\t<tr><th scope=col>&lt;chr&gt;</th><th scope=col>&lt;chr&gt;</th><th scope=col>&lt;chr&gt;</th><th scope=col>&lt;chr&gt;</th><th scope=col>&lt;chr&gt;</th><th scope=col>&lt;chr&gt;</th><th scope=col>&lt;chr&gt;</th></tr>\n",
       "</thead>\n",
       "<tbody>\n",
       "\t<tr><td>Motif</td><td>Counts</td><td>avgRef</td><td>topRef</td><td>OvE    </td><td>p-value</td><td>023-Blood          </td></tr>\n",
       "\t<tr><td>Motif</td><td>Counts</td><td>avgRef</td><td>topRef</td><td>OvE    </td><td>p-value</td><td>CHP_303-05-PBMC-DNA</td></tr>\n",
       "\t<tr><td>LGKE </td><td>3     </td><td>0.01  </td><td>1     </td><td>249.999</td><td>0.001  </td><td>CHP_303-05-PBMC-DNA</td></tr>\n",
       "\t<tr><td>LFFG </td><td>3     </td><td>0     </td><td>1     </td><td>3000   </td><td>0.001  </td><td>CHP_303-05-PBMC-DNA</td></tr>\n",
       "\t<tr><td>PTLR </td><td>3     </td><td>0.01  </td><td>1     </td><td>176.47 </td><td>0.001  </td><td>CHP_303-05-PBMC-DNA</td></tr>\n",
       "\t<tr><td>RLTV </td><td>3     </td><td>0.01  </td><td>1     </td><td>157.894</td><td>0.001  </td><td>CHP_303-05-PBMC-DNA</td></tr>\n",
       "</tbody>\n",
       "</table>\n"
      ],
      "text/latex": [
       "A data.frame: 6 × 7\n",
       "\\begin{tabular}{r|lllllll}\n",
       " V1 & V2 & V3 & V4 & V5 & V6 & filename\\\\\n",
       " <chr> & <chr> & <chr> & <chr> & <chr> & <chr> & <chr>\\\\\n",
       "\\hline\n",
       "\t Motif & Counts & avgRef & topRef & OvE     & p-value & 023-Blood          \\\\\n",
       "\t Motif & Counts & avgRef & topRef & OvE     & p-value & CHP\\_303-05-PBMC-DNA\\\\\n",
       "\t LGKE  & 3      & 0.01   & 1      & 249.999 & 0.001   & CHP\\_303-05-PBMC-DNA\\\\\n",
       "\t LFFG  & 3      & 0      & 1      & 3000    & 0.001   & CHP\\_303-05-PBMC-DNA\\\\\n",
       "\t PTLR  & 3      & 0.01   & 1      & 176.47  & 0.001   & CHP\\_303-05-PBMC-DNA\\\\\n",
       "\t RLTV  & 3      & 0.01   & 1      & 157.894 & 0.001   & CHP\\_303-05-PBMC-DNA\\\\\n",
       "\\end{tabular}\n"
      ],
      "text/markdown": [
       "\n",
       "A data.frame: 6 × 7\n",
       "\n",
       "| V1 &lt;chr&gt; | V2 &lt;chr&gt; | V3 &lt;chr&gt; | V4 &lt;chr&gt; | V5 &lt;chr&gt; | V6 &lt;chr&gt; | filename &lt;chr&gt; |\n",
       "|---|---|---|---|---|---|---|\n",
       "| Motif | Counts | avgRef | topRef | OvE     | p-value | 023-Blood           |\n",
       "| Motif | Counts | avgRef | topRef | OvE     | p-value | CHP_303-05-PBMC-DNA |\n",
       "| LGKE  | 3      | 0.01   | 1      | 249.999 | 0.001   | CHP_303-05-PBMC-DNA |\n",
       "| LFFG  | 3      | 0      | 1      | 3000    | 0.001   | CHP_303-05-PBMC-DNA |\n",
       "| PTLR  | 3      | 0.01   | 1      | 176.47  | 0.001   | CHP_303-05-PBMC-DNA |\n",
       "| RLTV  | 3      | 0.01   | 1      | 157.894 | 0.001   | CHP_303-05-PBMC-DNA |\n",
       "\n"
      ],
      "text/plain": [
       "  V1    V2     V3     V4     V5      V6      filename           \n",
       "1 Motif Counts avgRef topRef OvE     p-value 023-Blood          \n",
       "2 Motif Counts avgRef topRef OvE     p-value CHP_303-05-PBMC-DNA\n",
       "3 LGKE  3      0.01   1      249.999 0.001   CHP_303-05-PBMC-DNA\n",
       "4 LFFG  3      0      1      3000    0.001   CHP_303-05-PBMC-DNA\n",
       "5 PTLR  3      0.01   1      176.47  0.001   CHP_303-05-PBMC-DNA\n",
       "6 RLTV  3      0.01   1      157.894 0.001   CHP_303-05-PBMC-DNA"
      ]
     },
     "metadata": {},
     "output_type": "display_data"
    }
   ],
   "source": [
    "head(gliph.df)"
   ]
  },
  {
   "cell_type": "code",
   "execution_count": 86,
   "metadata": {},
   "outputs": [],
   "source": [
    "colnames(gliph.df) <- c(\"Motif\", \"Counts\", \"avgRef\", \"topRef\", \"OvE\", \"p-value\",\"samplename\")"
   ]
  },
  {
   "cell_type": "code",
   "execution_count": 87,
   "metadata": {},
   "outputs": [],
   "source": [
    "gliph.df <- gliph.df[gliph.df$Motif != \"Motif\", ]"
   ]
  },
  {
   "cell_type": "code",
   "execution_count": 88,
   "metadata": {},
   "outputs": [],
   "source": [
    "gliph.df$Counts <- as.numeric(gliph.df$Counts)"
   ]
  },
  {
   "cell_type": "code",
   "execution_count": 89,
   "metadata": {},
   "outputs": [
    {
     "data": {
      "text/plain": [
       "   Min. 1st Qu.  Median    Mean 3rd Qu.    Max. \n",
       "  3.000   3.000   3.000   3.511   4.000   8.000 "
      ]
     },
     "metadata": {},
     "output_type": "display_data"
    }
   ],
   "source": [
    "summary(gliph.df$Counts)"
   ]
  },
  {
   "cell_type": "code",
   "execution_count": 90,
   "metadata": {},
   "outputs": [
    {
     "data": {
      "text/plain": [
       "\n",
       "  CHP_303-05-PBMC-DNA   CHP_323-05-PBMC-DNA   CHP_331-05-PBMC-DNA \n",
       "                   32                     6                     1 \n",
       "  CHP_335-03-PBMC-DNA   CHP_338-03-PBMC-DNA   CHP_339-05-PBMC-DNA \n",
       "                    1                    22                     3 \n",
       "  CHP_340-05-PBMC-DNA   CHP_345-03-PBMC-DNA   CHP_347-01-PBMC-DNA \n",
       "                    5                     1                     1 \n",
       "  CHP_347-02-PBMC-DNA   CHP_348-01-PBMC-DNA   CHP_350-02-PBMC-DNA \n",
       "                    2                     1                     1 \n",
       "  CHP_353-01-PBMC-DNA   CHP_353-05-PBMC-DNA   CHP_357-01-PBMC-DNA \n",
       "                    1                     2                     1 \n",
       "  CHP_359-02-PBMC-DNA   CHP_361-01-PBMC-DNA   CHP_362-02-PBMC-DNA \n",
       "                    1                     1                     3 \n",
       "  CHP_364-01-PBMC-DNA   CHP_366-01-PBMC-DNA   CHP_368-04-PBMC-DNA \n",
       "                    1                     1                     1 \n",
       "  CHP_368-05-PBMC-DNA   CHP_370-05-PBMC-DNA      CHP_371-01-cfDNA \n",
       "                   28                     1                     4 \n",
       "  CHP_375-02-PBMC-DNA   CHP_376-03-PBMC-DNA   CHP_378-01-PBMC-DNA \n",
       "                    1                    24                    23 \n",
       "  CHP_380-03-PBMC-DNA   CHP_381-02-PBMC-DNA   CHP_387-01-PBMC-DNA \n",
       "                    1                     2                     1 \n",
       "  CHP_396-01-PBMC-DNA LFS_TCR-4570-PBMC-DNA LFS_TCR-4758-PBMC-DNA \n",
       "                    1                     1                     1 \n",
       "LFS_TCR-4759-PBMC-DNA LFS_TCR-4837-PBMC-DNA \n",
       "                    1                     5 "
      ]
     },
     "metadata": {},
     "output_type": "display_data"
    }
   ],
   "source": [
    "table(gliph.df$samplename)"
   ]
  },
  {
   "cell_type": "code",
   "execution_count": 73,
   "metadata": {
    "scrolled": true
   },
   "outputs": [
    {
     "data": {
      "text/html": [
       "<table>\n",
       "<caption>A data.frame: 182 × 7</caption>\n",
       "<thead>\n",
       "\t<tr><th></th><th scope=col>Motif</th><th scope=col>Counts</th><th scope=col>avgRef</th><th scope=col>topRef</th><th scope=col>OvE</th><th scope=col>p-value</th><th scope=col>samplename</th></tr>\n",
       "\t<tr><th></th><th scope=col>&lt;chr&gt;</th><th scope=col>&lt;dbl&gt;</th><th scope=col>&lt;chr&gt;</th><th scope=col>&lt;chr&gt;</th><th scope=col>&lt;chr&gt;</th><th scope=col>&lt;chr&gt;</th><th scope=col>&lt;fct&gt;</th></tr>\n",
       "</thead>\n",
       "<tbody>\n",
       "\t<tr><th scope=row>110</th><td>LRG </td><td>8</td><td>0.74</td><td>4</td><td>10.738  </td><td>0.001</td><td>CHP_347-01-PBMC-DNA  </td></tr>\n",
       "\t<tr><th scope=row>347</th><td>TNE </td><td>7</td><td>0.54</td><td>4</td><td>12.891  </td><td>0.001</td><td>LFS_TCR-4837-PBMC-DNA</td></tr>\n",
       "\t<tr><th scope=row>348</th><td>ATNE</td><td>7</td><td>0.18</td><td>2</td><td>38.674  </td><td>0.001</td><td>LFS_TCR-4837-PBMC-DNA</td></tr>\n",
       "\t<tr><th scope=row>349</th><td>ATN </td><td>7</td><td>0.24</td><td>3</td><td>29.045  </td><td>0.001</td><td>LFS_TCR-4837-PBMC-DNA</td></tr>\n",
       "\t<tr><th scope=row>350</th><td>TNEK</td><td>7</td><td>0.42</td><td>4</td><td>16.509  </td><td>0.001</td><td>LFS_TCR-4837-PBMC-DNA</td></tr>\n",
       "\t<tr><th scope=row>11</th><td>VLG </td><td>6</td><td>0.53</td><td>4</td><td>11.214  </td><td>0.001</td><td>CHP_303-05-PBMC-DNA  </td></tr>\n",
       "\t<tr><th scope=row>22</th><td>GEL </td><td>5</td><td>0.21</td><td>3</td><td>22.935  </td><td>0.001</td><td>CHP_303-05-PBMC-DNA  </td></tr>\n",
       "\t<tr><th scope=row>61</th><td>RMNT</td><td>5</td><td>0.33</td><td>4</td><td>14.97   </td><td>0.001</td><td>CHP_338-03-PBMC-DNA  </td></tr>\n",
       "\t<tr><th scope=row>72</th><td>RMN </td><td>5</td><td>0.37</td><td>4</td><td>13.192  </td><td>0.001</td><td>CHP_338-03-PBMC-DNA  </td></tr>\n",
       "\t<tr><th scope=row>126</th><td>YTG </td><td>5</td><td>0.47</td><td>4</td><td>10.615  </td><td>0.001</td><td>CHP_350-02-PBMC-DNA  </td></tr>\n",
       "\t<tr><th scope=row>165</th><td>AGGN</td><td>5</td><td>0.39</td><td>3</td><td>12.787  </td><td>0.001</td><td>CHP_359-02-PBMC-DNA  </td></tr>\n",
       "\t<tr><th scope=row>298</th><td>EVS </td><td>5</td><td>0.29</td><td>3</td><td>16.891  </td><td>0.001</td><td>CHP_378-01-PBMC-DNA  </td></tr>\n",
       "\t<tr><th scope=row>7</th><td>APES</td><td>4</td><td>0   </td><td>1</td><td>1333.333</td><td>0.001</td><td>CHP_303-05-PBMC-DNA  </td></tr>\n",
       "\t<tr><th scope=row>8</th><td>TVL </td><td>4</td><td>0.13</td><td>2</td><td>29.629  </td><td>0.001</td><td>CHP_303-05-PBMC-DNA  </td></tr>\n",
       "\t<tr><th scope=row>10</th><td>VGAP</td><td>4</td><td>0.01</td><td>1</td><td>363.636 </td><td>0.001</td><td>CHP_303-05-PBMC-DNA  </td></tr>\n",
       "\t<tr><th scope=row>17</th><td>TVLG</td><td>4</td><td>0.02</td><td>1</td><td>166.666 </td><td>0.001</td><td>CHP_303-05-PBMC-DNA  </td></tr>\n",
       "\t<tr><th scope=row>20</th><td>PES </td><td>4</td><td>0.08</td><td>2</td><td>47.058  </td><td>0.001</td><td>CHP_303-05-PBMC-DNA  </td></tr>\n",
       "\t<tr><th scope=row>31</th><td>APE </td><td>4</td><td>0.18</td><td>2</td><td>21.739  </td><td>0.001</td><td>CHP_303-05-PBMC-DNA  </td></tr>\n",
       "\t<tr><th scope=row>34</th><td>CP  </td><td>4</td><td>0.1 </td><td>2</td><td>38.834  </td><td>0.001</td><td>CHP_303-05-PBMC-DNA  </td></tr>\n",
       "\t<tr><th scope=row>43</th><td>QF  </td><td>4</td><td>0.23</td><td>3</td><td>17.316  </td><td>0.001</td><td>CHP_323-05-PBMC-DNA  </td></tr>\n",
       "\t<tr><th scope=row>50</th><td>SPY </td><td>4</td><td>0.26</td><td>3</td><td>15.384  </td><td>0.001</td><td>CHP_331-05-PBMC-DNA  </td></tr>\n",
       "\t<tr><th scope=row>52</th><td>LAR </td><td>4</td><td>0.3 </td><td>3</td><td>13.245  </td><td>0.001</td><td>CHP_335-03-PBMC-DNA  </td></tr>\n",
       "\t<tr><th scope=row>57</th><td>VLR </td><td>4</td><td>0.28</td><td>3</td><td>13.937  </td><td>0.001</td><td>CHP_338-03-PBMC-DNA  </td></tr>\n",
       "\t<tr><th scope=row>58</th><td>VLRG</td><td>4</td><td>0.07</td><td>3</td><td>53.333  </td><td>0.001</td><td>CHP_338-03-PBMC-DNA  </td></tr>\n",
       "\t<tr><th scope=row>59</th><td>AVL </td><td>4</td><td>0.26</td><td>3</td><td>14.869  </td><td>0.001</td><td>CHP_338-03-PBMC-DNA  </td></tr>\n",
       "\t<tr><th scope=row>80</th><td>TLR </td><td>4</td><td>0.18</td><td>3</td><td>21.621  </td><td>0.001</td><td>CHP_339-05-PBMC-DNA  </td></tr>\n",
       "\t<tr><th scope=row>82</th><td>SFE </td><td>4</td><td>0.31</td><td>3</td><td>12.903  </td><td>0.001</td><td>CHP_339-05-PBMC-DNA  </td></tr>\n",
       "\t<tr><th scope=row>87</th><td>TLR </td><td>4</td><td>0.39</td><td>3</td><td>10.126  </td><td>0.001</td><td>CHP_340-05-PBMC-DNA  </td></tr>\n",
       "\t<tr><th scope=row>88</th><td>TLRG</td><td>4</td><td>0.09</td><td>2</td><td>43.956  </td><td>0.001</td><td>CHP_340-05-PBMC-DNA  </td></tr>\n",
       "\t<tr><th scope=row>91</th><td>LRGA</td><td>4</td><td>0.21</td><td>3</td><td>18.433  </td><td>0.001</td><td>CHP_340-05-PBMC-DNA  </td></tr>\n",
       "\t<tr><th scope=row>⋮</th><td>⋮</td><td>⋮</td><td>⋮</td><td>⋮</td><td>⋮</td><td>⋮</td><td>⋮</td></tr>\n",
       "\t<tr><th scope=row>272</th><td>VLGK</td><td>3</td><td>0.01</td><td>1</td><td>249.999</td><td>0.001</td><td>CHP_376-03-PBMC-DNA</td></tr>\n",
       "\t<tr><th scope=row>273</th><td>TVLG</td><td>3</td><td>0.02</td><td>1</td><td>149.999</td><td>0.001</td><td>CHP_376-03-PBMC-DNA</td></tr>\n",
       "\t<tr><th scope=row>274</th><td>FFGE</td><td>3</td><td>0.01</td><td>1</td><td>199.999</td><td>0.001</td><td>CHP_376-03-PBMC-DNA</td></tr>\n",
       "\t<tr><th scope=row>275</th><td>ESSE</td><td>3</td><td>0   </td><td>1</td><td>1500   </td><td>0.001</td><td>CHP_376-03-PBMC-DNA</td></tr>\n",
       "\t<tr><th scope=row>276</th><td>CPT </td><td>3</td><td>0.01</td><td>2</td><td>199.999</td><td>0.001</td><td>CHP_376-03-PBMC-DNA</td></tr>\n",
       "\t<tr><th scope=row>279</th><td>LFF </td><td>3</td><td>0.02</td><td>1</td><td>119.999</td><td>0.001</td><td>CHP_376-03-PBMC-DNA</td></tr>\n",
       "\t<tr><th scope=row>280</th><td>AGWA</td><td>3</td><td>0.02</td><td>1</td><td>103.448</td><td>0.001</td><td>CHP_376-03-PBMC-DNA</td></tr>\n",
       "\t<tr><th scope=row>281</th><td>FGEG</td><td>3</td><td>0.01</td><td>1</td><td>157.894</td><td>0.001</td><td>CHP_376-03-PBMC-DNA</td></tr>\n",
       "\t<tr><th scope=row>282</th><td>AEVS</td><td>3</td><td>0   </td><td>1</td><td>1000   </td><td>0.001</td><td>CHP_376-03-PBMC-DNA</td></tr>\n",
       "\t<tr><th scope=row>283</th><td>SSC </td><td>3</td><td>0.01</td><td>1</td><td>176.47 </td><td>0.001</td><td>CHP_376-03-PBMC-DNA</td></tr>\n",
       "\t<tr><th scope=row>285</th><td>LTVL</td><td>3</td><td>0   </td><td>1</td><td>1000   </td><td>0.001</td><td>CHP_376-03-PBMC-DNA</td></tr>\n",
       "\t<tr><th scope=row>288</th><td>LGKE</td><td>3</td><td>0.02</td><td>1</td><td>115.384</td><td>0.001</td><td>CHP_378-01-PBMC-DNA</td></tr>\n",
       "\t<tr><th scope=row>289</th><td>AVLR</td><td>3</td><td>0   </td><td>1</td><td>500    </td><td>0.001</td><td>CHP_378-01-PBMC-DNA</td></tr>\n",
       "\t<tr><th scope=row>290</th><td>LFFG</td><td>3</td><td>0   </td><td>1</td><td>1000   </td><td>0.001</td><td>CHP_378-01-PBMC-DNA</td></tr>\n",
       "\t<tr><th scope=row>293</th><td>APES</td><td>3</td><td>0   </td><td>1</td><td>428.571</td><td>0.001</td><td>CHP_378-01-PBMC-DNA</td></tr>\n",
       "\t<tr><th scope=row>294</th><td>VGAP</td><td>3</td><td>0.02</td><td>1</td><td>119.999</td><td>0.001</td><td>CHP_378-01-PBMC-DNA</td></tr>\n",
       "\t<tr><th scope=row>295</th><td>SCP </td><td>3</td><td>0.01</td><td>1</td><td>187.499</td><td>0.001</td><td>CHP_378-01-PBMC-DNA</td></tr>\n",
       "\t<tr><th scope=row>296</th><td>KEAV</td><td>3</td><td>0   </td><td>1</td><td>600    </td><td>0.001</td><td>CHP_378-01-PBMC-DNA</td></tr>\n",
       "\t<tr><th scope=row>297</th><td>GKEA</td><td>3</td><td>0.01</td><td>1</td><td>249.999</td><td>0.001</td><td>CHP_378-01-PBMC-DNA</td></tr>\n",
       "\t<tr><th scope=row>299</th><td>VLGK</td><td>3</td><td>0.01</td><td>1</td><td>187.499</td><td>0.001</td><td>CHP_378-01-PBMC-DNA</td></tr>\n",
       "\t<tr><th scope=row>300</th><td>TVLG</td><td>3</td><td>0.02</td><td>1</td><td>103.448</td><td>0.001</td><td>CHP_378-01-PBMC-DNA</td></tr>\n",
       "\t<tr><th scope=row>301</th><td>FFGE</td><td>3</td><td>0.01</td><td>1</td><td>157.894</td><td>0.001</td><td>CHP_378-01-PBMC-DNA</td></tr>\n",
       "\t<tr><th scope=row>302</th><td>ESSE</td><td>3</td><td>0   </td><td>1</td><td>1000   </td><td>0.001</td><td>CHP_378-01-PBMC-DNA</td></tr>\n",
       "\t<tr><th scope=row>303</th><td>CPT </td><td>3</td><td>0.02</td><td>1</td><td>142.857</td><td>0.001</td><td>CHP_378-01-PBMC-DNA</td></tr>\n",
       "\t<tr><th scope=row>304</th><td>LFF </td><td>3</td><td>0.02</td><td>1</td><td>103.448</td><td>0.001</td><td>CHP_378-01-PBMC-DNA</td></tr>\n",
       "\t<tr><th scope=row>306</th><td>AGWA</td><td>3</td><td>0.02</td><td>1</td><td>111.111</td><td>0.001</td><td>CHP_378-01-PBMC-DNA</td></tr>\n",
       "\t<tr><th scope=row>307</th><td>FGEG</td><td>3</td><td>0.02</td><td>1</td><td>119.999</td><td>0.001</td><td>CHP_378-01-PBMC-DNA</td></tr>\n",
       "\t<tr><th scope=row>308</th><td>SSC </td><td>3</td><td>0.02</td><td>1</td><td>111.111</td><td>0.001</td><td>CHP_378-01-PBMC-DNA</td></tr>\n",
       "\t<tr><th scope=row>309</th><td>LTVL</td><td>3</td><td>0   </td><td>1</td><td>500    </td><td>0.001</td><td>CHP_378-01-PBMC-DNA</td></tr>\n",
       "\t<tr><th scope=row>310</th><td>GLYL</td><td>3</td><td>0   </td><td>1</td><td>1500   </td><td>0.001</td><td>CHP_378-01-PBMC-DNA</td></tr>\n",
       "</tbody>\n",
       "</table>\n"
      ],
      "text/latex": [
       "A data.frame: 182 × 7\n",
       "\\begin{tabular}{r|lllllll}\n",
       "  & Motif & Counts & avgRef & topRef & OvE & p-value & samplename\\\\\n",
       "  & <chr> & <dbl> & <chr> & <chr> & <chr> & <chr> & <fct>\\\\\n",
       "\\hline\n",
       "\t110 & LRG  & 8 & 0.74 & 4 & 10.738   & 0.001 & CHP\\_347-01-PBMC-DNA  \\\\\n",
       "\t347 & TNE  & 7 & 0.54 & 4 & 12.891   & 0.001 & LFS\\_TCR-4837-PBMC-DNA\\\\\n",
       "\t348 & ATNE & 7 & 0.18 & 2 & 38.674   & 0.001 & LFS\\_TCR-4837-PBMC-DNA\\\\\n",
       "\t349 & ATN  & 7 & 0.24 & 3 & 29.045   & 0.001 & LFS\\_TCR-4837-PBMC-DNA\\\\\n",
       "\t350 & TNEK & 7 & 0.42 & 4 & 16.509   & 0.001 & LFS\\_TCR-4837-PBMC-DNA\\\\\n",
       "\t11 & VLG  & 6 & 0.53 & 4 & 11.214   & 0.001 & CHP\\_303-05-PBMC-DNA  \\\\\n",
       "\t22 & GEL  & 5 & 0.21 & 3 & 22.935   & 0.001 & CHP\\_303-05-PBMC-DNA  \\\\\n",
       "\t61 & RMNT & 5 & 0.33 & 4 & 14.97    & 0.001 & CHP\\_338-03-PBMC-DNA  \\\\\n",
       "\t72 & RMN  & 5 & 0.37 & 4 & 13.192   & 0.001 & CHP\\_338-03-PBMC-DNA  \\\\\n",
       "\t126 & YTG  & 5 & 0.47 & 4 & 10.615   & 0.001 & CHP\\_350-02-PBMC-DNA  \\\\\n",
       "\t165 & AGGN & 5 & 0.39 & 3 & 12.787   & 0.001 & CHP\\_359-02-PBMC-DNA  \\\\\n",
       "\t298 & EVS  & 5 & 0.29 & 3 & 16.891   & 0.001 & CHP\\_378-01-PBMC-DNA  \\\\\n",
       "\t7 & APES & 4 & 0    & 1 & 1333.333 & 0.001 & CHP\\_303-05-PBMC-DNA  \\\\\n",
       "\t8 & TVL  & 4 & 0.13 & 2 & 29.629   & 0.001 & CHP\\_303-05-PBMC-DNA  \\\\\n",
       "\t10 & VGAP & 4 & 0.01 & 1 & 363.636  & 0.001 & CHP\\_303-05-PBMC-DNA  \\\\\n",
       "\t17 & TVLG & 4 & 0.02 & 1 & 166.666  & 0.001 & CHP\\_303-05-PBMC-DNA  \\\\\n",
       "\t20 & PES  & 4 & 0.08 & 2 & 47.058   & 0.001 & CHP\\_303-05-PBMC-DNA  \\\\\n",
       "\t31 & APE  & 4 & 0.18 & 2 & 21.739   & 0.001 & CHP\\_303-05-PBMC-DNA  \\\\\n",
       "\t34 & CP   & 4 & 0.1  & 2 & 38.834   & 0.001 & CHP\\_303-05-PBMC-DNA  \\\\\n",
       "\t43 & QF   & 4 & 0.23 & 3 & 17.316   & 0.001 & CHP\\_323-05-PBMC-DNA  \\\\\n",
       "\t50 & SPY  & 4 & 0.26 & 3 & 15.384   & 0.001 & CHP\\_331-05-PBMC-DNA  \\\\\n",
       "\t52 & LAR  & 4 & 0.3  & 3 & 13.245   & 0.001 & CHP\\_335-03-PBMC-DNA  \\\\\n",
       "\t57 & VLR  & 4 & 0.28 & 3 & 13.937   & 0.001 & CHP\\_338-03-PBMC-DNA  \\\\\n",
       "\t58 & VLRG & 4 & 0.07 & 3 & 53.333   & 0.001 & CHP\\_338-03-PBMC-DNA  \\\\\n",
       "\t59 & AVL  & 4 & 0.26 & 3 & 14.869   & 0.001 & CHP\\_338-03-PBMC-DNA  \\\\\n",
       "\t80 & TLR  & 4 & 0.18 & 3 & 21.621   & 0.001 & CHP\\_339-05-PBMC-DNA  \\\\\n",
       "\t82 & SFE  & 4 & 0.31 & 3 & 12.903   & 0.001 & CHP\\_339-05-PBMC-DNA  \\\\\n",
       "\t87 & TLR  & 4 & 0.39 & 3 & 10.126   & 0.001 & CHP\\_340-05-PBMC-DNA  \\\\\n",
       "\t88 & TLRG & 4 & 0.09 & 2 & 43.956   & 0.001 & CHP\\_340-05-PBMC-DNA  \\\\\n",
       "\t91 & LRGA & 4 & 0.21 & 3 & 18.433   & 0.001 & CHP\\_340-05-PBMC-DNA  \\\\\n",
       "\t⋮ & ⋮ & ⋮ & ⋮ & ⋮ & ⋮ & ⋮ & ⋮\\\\\n",
       "\t272 & VLGK & 3 & 0.01 & 1 & 249.999 & 0.001 & CHP\\_376-03-PBMC-DNA\\\\\n",
       "\t273 & TVLG & 3 & 0.02 & 1 & 149.999 & 0.001 & CHP\\_376-03-PBMC-DNA\\\\\n",
       "\t274 & FFGE & 3 & 0.01 & 1 & 199.999 & 0.001 & CHP\\_376-03-PBMC-DNA\\\\\n",
       "\t275 & ESSE & 3 & 0    & 1 & 1500    & 0.001 & CHP\\_376-03-PBMC-DNA\\\\\n",
       "\t276 & CPT  & 3 & 0.01 & 2 & 199.999 & 0.001 & CHP\\_376-03-PBMC-DNA\\\\\n",
       "\t279 & LFF  & 3 & 0.02 & 1 & 119.999 & 0.001 & CHP\\_376-03-PBMC-DNA\\\\\n",
       "\t280 & AGWA & 3 & 0.02 & 1 & 103.448 & 0.001 & CHP\\_376-03-PBMC-DNA\\\\\n",
       "\t281 & FGEG & 3 & 0.01 & 1 & 157.894 & 0.001 & CHP\\_376-03-PBMC-DNA\\\\\n",
       "\t282 & AEVS & 3 & 0    & 1 & 1000    & 0.001 & CHP\\_376-03-PBMC-DNA\\\\\n",
       "\t283 & SSC  & 3 & 0.01 & 1 & 176.47  & 0.001 & CHP\\_376-03-PBMC-DNA\\\\\n",
       "\t285 & LTVL & 3 & 0    & 1 & 1000    & 0.001 & CHP\\_376-03-PBMC-DNA\\\\\n",
       "\t288 & LGKE & 3 & 0.02 & 1 & 115.384 & 0.001 & CHP\\_378-01-PBMC-DNA\\\\\n",
       "\t289 & AVLR & 3 & 0    & 1 & 500     & 0.001 & CHP\\_378-01-PBMC-DNA\\\\\n",
       "\t290 & LFFG & 3 & 0    & 1 & 1000    & 0.001 & CHP\\_378-01-PBMC-DNA\\\\\n",
       "\t293 & APES & 3 & 0    & 1 & 428.571 & 0.001 & CHP\\_378-01-PBMC-DNA\\\\\n",
       "\t294 & VGAP & 3 & 0.02 & 1 & 119.999 & 0.001 & CHP\\_378-01-PBMC-DNA\\\\\n",
       "\t295 & SCP  & 3 & 0.01 & 1 & 187.499 & 0.001 & CHP\\_378-01-PBMC-DNA\\\\\n",
       "\t296 & KEAV & 3 & 0    & 1 & 600     & 0.001 & CHP\\_378-01-PBMC-DNA\\\\\n",
       "\t297 & GKEA & 3 & 0.01 & 1 & 249.999 & 0.001 & CHP\\_378-01-PBMC-DNA\\\\\n",
       "\t299 & VLGK & 3 & 0.01 & 1 & 187.499 & 0.001 & CHP\\_378-01-PBMC-DNA\\\\\n",
       "\t300 & TVLG & 3 & 0.02 & 1 & 103.448 & 0.001 & CHP\\_378-01-PBMC-DNA\\\\\n",
       "\t301 & FFGE & 3 & 0.01 & 1 & 157.894 & 0.001 & CHP\\_378-01-PBMC-DNA\\\\\n",
       "\t302 & ESSE & 3 & 0    & 1 & 1000    & 0.001 & CHP\\_378-01-PBMC-DNA\\\\\n",
       "\t303 & CPT  & 3 & 0.02 & 1 & 142.857 & 0.001 & CHP\\_378-01-PBMC-DNA\\\\\n",
       "\t304 & LFF  & 3 & 0.02 & 1 & 103.448 & 0.001 & CHP\\_378-01-PBMC-DNA\\\\\n",
       "\t306 & AGWA & 3 & 0.02 & 1 & 111.111 & 0.001 & CHP\\_378-01-PBMC-DNA\\\\\n",
       "\t307 & FGEG & 3 & 0.02 & 1 & 119.999 & 0.001 & CHP\\_378-01-PBMC-DNA\\\\\n",
       "\t308 & SSC  & 3 & 0.02 & 1 & 111.111 & 0.001 & CHP\\_378-01-PBMC-DNA\\\\\n",
       "\t309 & LTVL & 3 & 0    & 1 & 500     & 0.001 & CHP\\_378-01-PBMC-DNA\\\\\n",
       "\t310 & GLYL & 3 & 0    & 1 & 1500    & 0.001 & CHP\\_378-01-PBMC-DNA\\\\\n",
       "\\end{tabular}\n"
      ],
      "text/markdown": [
       "\n",
       "A data.frame: 182 × 7\n",
       "\n",
       "| <!--/--> | Motif &lt;chr&gt; | Counts &lt;dbl&gt; | avgRef &lt;chr&gt; | topRef &lt;chr&gt; | OvE &lt;chr&gt; | p-value &lt;chr&gt; | samplename &lt;fct&gt; |\n",
       "|---|---|---|---|---|---|---|---|\n",
       "| 110 | LRG  | 8 | 0.74 | 4 | 10.738   | 0.001 | CHP_347-01-PBMC-DNA   |\n",
       "| 347 | TNE  | 7 | 0.54 | 4 | 12.891   | 0.001 | LFS_TCR-4837-PBMC-DNA |\n",
       "| 348 | ATNE | 7 | 0.18 | 2 | 38.674   | 0.001 | LFS_TCR-4837-PBMC-DNA |\n",
       "| 349 | ATN  | 7 | 0.24 | 3 | 29.045   | 0.001 | LFS_TCR-4837-PBMC-DNA |\n",
       "| 350 | TNEK | 7 | 0.42 | 4 | 16.509   | 0.001 | LFS_TCR-4837-PBMC-DNA |\n",
       "| 11 | VLG  | 6 | 0.53 | 4 | 11.214   | 0.001 | CHP_303-05-PBMC-DNA   |\n",
       "| 22 | GEL  | 5 | 0.21 | 3 | 22.935   | 0.001 | CHP_303-05-PBMC-DNA   |\n",
       "| 61 | RMNT | 5 | 0.33 | 4 | 14.97    | 0.001 | CHP_338-03-PBMC-DNA   |\n",
       "| 72 | RMN  | 5 | 0.37 | 4 | 13.192   | 0.001 | CHP_338-03-PBMC-DNA   |\n",
       "| 126 | YTG  | 5 | 0.47 | 4 | 10.615   | 0.001 | CHP_350-02-PBMC-DNA   |\n",
       "| 165 | AGGN | 5 | 0.39 | 3 | 12.787   | 0.001 | CHP_359-02-PBMC-DNA   |\n",
       "| 298 | EVS  | 5 | 0.29 | 3 | 16.891   | 0.001 | CHP_378-01-PBMC-DNA   |\n",
       "| 7 | APES | 4 | 0    | 1 | 1333.333 | 0.001 | CHP_303-05-PBMC-DNA   |\n",
       "| 8 | TVL  | 4 | 0.13 | 2 | 29.629   | 0.001 | CHP_303-05-PBMC-DNA   |\n",
       "| 10 | VGAP | 4 | 0.01 | 1 | 363.636  | 0.001 | CHP_303-05-PBMC-DNA   |\n",
       "| 17 | TVLG | 4 | 0.02 | 1 | 166.666  | 0.001 | CHP_303-05-PBMC-DNA   |\n",
       "| 20 | PES  | 4 | 0.08 | 2 | 47.058   | 0.001 | CHP_303-05-PBMC-DNA   |\n",
       "| 31 | APE  | 4 | 0.18 | 2 | 21.739   | 0.001 | CHP_303-05-PBMC-DNA   |\n",
       "| 34 | CP   | 4 | 0.1  | 2 | 38.834   | 0.001 | CHP_303-05-PBMC-DNA   |\n",
       "| 43 | QF   | 4 | 0.23 | 3 | 17.316   | 0.001 | CHP_323-05-PBMC-DNA   |\n",
       "| 50 | SPY  | 4 | 0.26 | 3 | 15.384   | 0.001 | CHP_331-05-PBMC-DNA   |\n",
       "| 52 | LAR  | 4 | 0.3  | 3 | 13.245   | 0.001 | CHP_335-03-PBMC-DNA   |\n",
       "| 57 | VLR  | 4 | 0.28 | 3 | 13.937   | 0.001 | CHP_338-03-PBMC-DNA   |\n",
       "| 58 | VLRG | 4 | 0.07 | 3 | 53.333   | 0.001 | CHP_338-03-PBMC-DNA   |\n",
       "| 59 | AVL  | 4 | 0.26 | 3 | 14.869   | 0.001 | CHP_338-03-PBMC-DNA   |\n",
       "| 80 | TLR  | 4 | 0.18 | 3 | 21.621   | 0.001 | CHP_339-05-PBMC-DNA   |\n",
       "| 82 | SFE  | 4 | 0.31 | 3 | 12.903   | 0.001 | CHP_339-05-PBMC-DNA   |\n",
       "| 87 | TLR  | 4 | 0.39 | 3 | 10.126   | 0.001 | CHP_340-05-PBMC-DNA   |\n",
       "| 88 | TLRG | 4 | 0.09 | 2 | 43.956   | 0.001 | CHP_340-05-PBMC-DNA   |\n",
       "| 91 | LRGA | 4 | 0.21 | 3 | 18.433   | 0.001 | CHP_340-05-PBMC-DNA   |\n",
       "| ⋮ | ⋮ | ⋮ | ⋮ | ⋮ | ⋮ | ⋮ | ⋮ |\n",
       "| 272 | VLGK | 3 | 0.01 | 1 | 249.999 | 0.001 | CHP_376-03-PBMC-DNA |\n",
       "| 273 | TVLG | 3 | 0.02 | 1 | 149.999 | 0.001 | CHP_376-03-PBMC-DNA |\n",
       "| 274 | FFGE | 3 | 0.01 | 1 | 199.999 | 0.001 | CHP_376-03-PBMC-DNA |\n",
       "| 275 | ESSE | 3 | 0    | 1 | 1500    | 0.001 | CHP_376-03-PBMC-DNA |\n",
       "| 276 | CPT  | 3 | 0.01 | 2 | 199.999 | 0.001 | CHP_376-03-PBMC-DNA |\n",
       "| 279 | LFF  | 3 | 0.02 | 1 | 119.999 | 0.001 | CHP_376-03-PBMC-DNA |\n",
       "| 280 | AGWA | 3 | 0.02 | 1 | 103.448 | 0.001 | CHP_376-03-PBMC-DNA |\n",
       "| 281 | FGEG | 3 | 0.01 | 1 | 157.894 | 0.001 | CHP_376-03-PBMC-DNA |\n",
       "| 282 | AEVS | 3 | 0    | 1 | 1000    | 0.001 | CHP_376-03-PBMC-DNA |\n",
       "| 283 | SSC  | 3 | 0.01 | 1 | 176.47  | 0.001 | CHP_376-03-PBMC-DNA |\n",
       "| 285 | LTVL | 3 | 0    | 1 | 1000    | 0.001 | CHP_376-03-PBMC-DNA |\n",
       "| 288 | LGKE | 3 | 0.02 | 1 | 115.384 | 0.001 | CHP_378-01-PBMC-DNA |\n",
       "| 289 | AVLR | 3 | 0    | 1 | 500     | 0.001 | CHP_378-01-PBMC-DNA |\n",
       "| 290 | LFFG | 3 | 0    | 1 | 1000    | 0.001 | CHP_378-01-PBMC-DNA |\n",
       "| 293 | APES | 3 | 0    | 1 | 428.571 | 0.001 | CHP_378-01-PBMC-DNA |\n",
       "| 294 | VGAP | 3 | 0.02 | 1 | 119.999 | 0.001 | CHP_378-01-PBMC-DNA |\n",
       "| 295 | SCP  | 3 | 0.01 | 1 | 187.499 | 0.001 | CHP_378-01-PBMC-DNA |\n",
       "| 296 | KEAV | 3 | 0    | 1 | 600     | 0.001 | CHP_378-01-PBMC-DNA |\n",
       "| 297 | GKEA | 3 | 0.01 | 1 | 249.999 | 0.001 | CHP_378-01-PBMC-DNA |\n",
       "| 299 | VLGK | 3 | 0.01 | 1 | 187.499 | 0.001 | CHP_378-01-PBMC-DNA |\n",
       "| 300 | TVLG | 3 | 0.02 | 1 | 103.448 | 0.001 | CHP_378-01-PBMC-DNA |\n",
       "| 301 | FFGE | 3 | 0.01 | 1 | 157.894 | 0.001 | CHP_378-01-PBMC-DNA |\n",
       "| 302 | ESSE | 3 | 0    | 1 | 1000    | 0.001 | CHP_378-01-PBMC-DNA |\n",
       "| 303 | CPT  | 3 | 0.02 | 1 | 142.857 | 0.001 | CHP_378-01-PBMC-DNA |\n",
       "| 304 | LFF  | 3 | 0.02 | 1 | 103.448 | 0.001 | CHP_378-01-PBMC-DNA |\n",
       "| 306 | AGWA | 3 | 0.02 | 1 | 111.111 | 0.001 | CHP_378-01-PBMC-DNA |\n",
       "| 307 | FGEG | 3 | 0.02 | 1 | 119.999 | 0.001 | CHP_378-01-PBMC-DNA |\n",
       "| 308 | SSC  | 3 | 0.02 | 1 | 111.111 | 0.001 | CHP_378-01-PBMC-DNA |\n",
       "| 309 | LTVL | 3 | 0    | 1 | 500     | 0.001 | CHP_378-01-PBMC-DNA |\n",
       "| 310 | GLYL | 3 | 0    | 1 | 1500    | 0.001 | CHP_378-01-PBMC-DNA |\n",
       "\n"
      ],
      "text/plain": [
       "    Motif Counts avgRef topRef OvE      p-value samplename           \n",
       "110 LRG   8      0.74   4      10.738   0.001   CHP_347-01-PBMC-DNA  \n",
       "347 TNE   7      0.54   4      12.891   0.001   LFS_TCR-4837-PBMC-DNA\n",
       "348 ATNE  7      0.18   2      38.674   0.001   LFS_TCR-4837-PBMC-DNA\n",
       "349 ATN   7      0.24   3      29.045   0.001   LFS_TCR-4837-PBMC-DNA\n",
       "350 TNEK  7      0.42   4      16.509   0.001   LFS_TCR-4837-PBMC-DNA\n",
       "11  VLG   6      0.53   4      11.214   0.001   CHP_303-05-PBMC-DNA  \n",
       "22  GEL   5      0.21   3      22.935   0.001   CHP_303-05-PBMC-DNA  \n",
       "61  RMNT  5      0.33   4      14.97    0.001   CHP_338-03-PBMC-DNA  \n",
       "72  RMN   5      0.37   4      13.192   0.001   CHP_338-03-PBMC-DNA  \n",
       "126 YTG   5      0.47   4      10.615   0.001   CHP_350-02-PBMC-DNA  \n",
       "165 AGGN  5      0.39   3      12.787   0.001   CHP_359-02-PBMC-DNA  \n",
       "298 EVS   5      0.29   3      16.891   0.001   CHP_378-01-PBMC-DNA  \n",
       "7   APES  4      0      1      1333.333 0.001   CHP_303-05-PBMC-DNA  \n",
       "8   TVL   4      0.13   2      29.629   0.001   CHP_303-05-PBMC-DNA  \n",
       "10  VGAP  4      0.01   1      363.636  0.001   CHP_303-05-PBMC-DNA  \n",
       "17  TVLG  4      0.02   1      166.666  0.001   CHP_303-05-PBMC-DNA  \n",
       "20  PES   4      0.08   2      47.058   0.001   CHP_303-05-PBMC-DNA  \n",
       "31  APE   4      0.18   2      21.739   0.001   CHP_303-05-PBMC-DNA  \n",
       "34  CP    4      0.1    2      38.834   0.001   CHP_303-05-PBMC-DNA  \n",
       "43  QF    4      0.23   3      17.316   0.001   CHP_323-05-PBMC-DNA  \n",
       "50  SPY   4      0.26   3      15.384   0.001   CHP_331-05-PBMC-DNA  \n",
       "52  LAR   4      0.3    3      13.245   0.001   CHP_335-03-PBMC-DNA  \n",
       "57  VLR   4      0.28   3      13.937   0.001   CHP_338-03-PBMC-DNA  \n",
       "58  VLRG  4      0.07   3      53.333   0.001   CHP_338-03-PBMC-DNA  \n",
       "59  AVL   4      0.26   3      14.869   0.001   CHP_338-03-PBMC-DNA  \n",
       "80  TLR   4      0.18   3      21.621   0.001   CHP_339-05-PBMC-DNA  \n",
       "82  SFE   4      0.31   3      12.903   0.001   CHP_339-05-PBMC-DNA  \n",
       "87  TLR   4      0.39   3      10.126   0.001   CHP_340-05-PBMC-DNA  \n",
       "88  TLRG  4      0.09   2      43.956   0.001   CHP_340-05-PBMC-DNA  \n",
       "91  LRGA  4      0.21   3      18.433   0.001   CHP_340-05-PBMC-DNA  \n",
       "⋮   ⋮     ⋮      ⋮      ⋮      ⋮        ⋮       ⋮                    \n",
       "272 VLGK  3      0.01   1      249.999  0.001   CHP_376-03-PBMC-DNA  \n",
       "273 TVLG  3      0.02   1      149.999  0.001   CHP_376-03-PBMC-DNA  \n",
       "274 FFGE  3      0.01   1      199.999  0.001   CHP_376-03-PBMC-DNA  \n",
       "275 ESSE  3      0      1      1500     0.001   CHP_376-03-PBMC-DNA  \n",
       "276 CPT   3      0.01   2      199.999  0.001   CHP_376-03-PBMC-DNA  \n",
       "279 LFF   3      0.02   1      119.999  0.001   CHP_376-03-PBMC-DNA  \n",
       "280 AGWA  3      0.02   1      103.448  0.001   CHP_376-03-PBMC-DNA  \n",
       "281 FGEG  3      0.01   1      157.894  0.001   CHP_376-03-PBMC-DNA  \n",
       "282 AEVS  3      0      1      1000     0.001   CHP_376-03-PBMC-DNA  \n",
       "283 SSC   3      0.01   1      176.47   0.001   CHP_376-03-PBMC-DNA  \n",
       "285 LTVL  3      0      1      1000     0.001   CHP_376-03-PBMC-DNA  \n",
       "288 LGKE  3      0.02   1      115.384  0.001   CHP_378-01-PBMC-DNA  \n",
       "289 AVLR  3      0      1      500      0.001   CHP_378-01-PBMC-DNA  \n",
       "290 LFFG  3      0      1      1000     0.001   CHP_378-01-PBMC-DNA  \n",
       "293 APES  3      0      1      428.571  0.001   CHP_378-01-PBMC-DNA  \n",
       "294 VGAP  3      0.02   1      119.999  0.001   CHP_378-01-PBMC-DNA  \n",
       "295 SCP   3      0.01   1      187.499  0.001   CHP_378-01-PBMC-DNA  \n",
       "296 KEAV  3      0      1      600      0.001   CHP_378-01-PBMC-DNA  \n",
       "297 GKEA  3      0.01   1      249.999  0.001   CHP_378-01-PBMC-DNA  \n",
       "299 VLGK  3      0.01   1      187.499  0.001   CHP_378-01-PBMC-DNA  \n",
       "300 TVLG  3      0.02   1      103.448  0.001   CHP_378-01-PBMC-DNA  \n",
       "301 FFGE  3      0.01   1      157.894  0.001   CHP_378-01-PBMC-DNA  \n",
       "302 ESSE  3      0      1      1000     0.001   CHP_378-01-PBMC-DNA  \n",
       "303 CPT   3      0.02   1      142.857  0.001   CHP_378-01-PBMC-DNA  \n",
       "304 LFF   3      0.02   1      103.448  0.001   CHP_378-01-PBMC-DNA  \n",
       "306 AGWA  3      0.02   1      111.111  0.001   CHP_378-01-PBMC-DNA  \n",
       "307 FGEG  3      0.02   1      119.999  0.001   CHP_378-01-PBMC-DNA  \n",
       "308 SSC   3      0.02   1      111.111  0.001   CHP_378-01-PBMC-DNA  \n",
       "309 LTVL  3      0      1      500      0.001   CHP_378-01-PBMC-DNA  \n",
       "310 GLYL  3      0      1      1500     0.001   CHP_378-01-PBMC-DNA  "
      ]
     },
     "metadata": {},
     "output_type": "display_data"
    }
   ],
   "source": [
    "gliph.df[order(gliph.df$Counts, decreasing = T),]"
   ]
  },
  {
   "cell_type": "code",
   "execution_count": 92,
   "metadata": {},
   "outputs": [
    {
     "data": {
      "text/html": [
       "<table>\n",
       "<caption>A data.frame: 4 × 7</caption>\n",
       "<thead>\n",
       "\t<tr><th></th><th scope=col>Motif</th><th scope=col>Counts</th><th scope=col>avgRef</th><th scope=col>topRef</th><th scope=col>OvE</th><th scope=col>p-value</th><th scope=col>samplename</th></tr>\n",
       "\t<tr><th></th><th scope=col>&lt;chr&gt;</th><th scope=col>&lt;dbl&gt;</th><th scope=col>&lt;chr&gt;</th><th scope=col>&lt;chr&gt;</th><th scope=col>&lt;chr&gt;</th><th scope=col>&lt;chr&gt;</th><th scope=col>&lt;chr&gt;</th></tr>\n",
       "</thead>\n",
       "<tbody>\n",
       "\t<tr><th scope=row>344</th><td>TNE </td><td>4</td><td>0.33</td><td>3</td><td>11.904</td><td>0.001</td><td>LFS_TCR-4759-PBMC-DNA</td></tr>\n",
       "\t<tr><th scope=row>347</th><td>TNE </td><td>7</td><td>0.54</td><td>4</td><td>12.891</td><td>0.001</td><td>LFS_TCR-4837-PBMC-DNA</td></tr>\n",
       "\t<tr><th scope=row>348</th><td>ATNE</td><td>7</td><td>0.18</td><td>2</td><td>38.674</td><td>0.001</td><td>LFS_TCR-4837-PBMC-DNA</td></tr>\n",
       "\t<tr><th scope=row>350</th><td>TNEK</td><td>7</td><td>0.42</td><td>4</td><td>16.509</td><td>0.001</td><td>LFS_TCR-4837-PBMC-DNA</td></tr>\n",
       "</tbody>\n",
       "</table>\n"
      ],
      "text/latex": [
       "A data.frame: 4 × 7\n",
       "\\begin{tabular}{r|lllllll}\n",
       "  & Motif & Counts & avgRef & topRef & OvE & p-value & samplename\\\\\n",
       "  & <chr> & <dbl> & <chr> & <chr> & <chr> & <chr> & <chr>\\\\\n",
       "\\hline\n",
       "\t344 & TNE  & 4 & 0.33 & 3 & 11.904 & 0.001 & LFS\\_TCR-4759-PBMC-DNA\\\\\n",
       "\t347 & TNE  & 7 & 0.54 & 4 & 12.891 & 0.001 & LFS\\_TCR-4837-PBMC-DNA\\\\\n",
       "\t348 & ATNE & 7 & 0.18 & 2 & 38.674 & 0.001 & LFS\\_TCR-4837-PBMC-DNA\\\\\n",
       "\t350 & TNEK & 7 & 0.42 & 4 & 16.509 & 0.001 & LFS\\_TCR-4837-PBMC-DNA\\\\\n",
       "\\end{tabular}\n"
      ],
      "text/markdown": [
       "\n",
       "A data.frame: 4 × 7\n",
       "\n",
       "| <!--/--> | Motif &lt;chr&gt; | Counts &lt;dbl&gt; | avgRef &lt;chr&gt; | topRef &lt;chr&gt; | OvE &lt;chr&gt; | p-value &lt;chr&gt; | samplename &lt;chr&gt; |\n",
       "|---|---|---|---|---|---|---|---|\n",
       "| 344 | TNE  | 4 | 0.33 | 3 | 11.904 | 0.001 | LFS_TCR-4759-PBMC-DNA |\n",
       "| 347 | TNE  | 7 | 0.54 | 4 | 12.891 | 0.001 | LFS_TCR-4837-PBMC-DNA |\n",
       "| 348 | ATNE | 7 | 0.18 | 2 | 38.674 | 0.001 | LFS_TCR-4837-PBMC-DNA |\n",
       "| 350 | TNEK | 7 | 0.42 | 4 | 16.509 | 0.001 | LFS_TCR-4837-PBMC-DNA |\n",
       "\n"
      ],
      "text/plain": [
       "    Motif Counts avgRef topRef OvE    p-value samplename           \n",
       "344 TNE   4      0.33   3      11.904 0.001   LFS_TCR-4759-PBMC-DNA\n",
       "347 TNE   7      0.54   4      12.891 0.001   LFS_TCR-4837-PBMC-DNA\n",
       "348 ATNE  7      0.18   2      38.674 0.001   LFS_TCR-4837-PBMC-DNA\n",
       "350 TNEK  7      0.42   4      16.509 0.001   LFS_TCR-4837-PBMC-DNA"
      ]
     },
     "metadata": {},
     "output_type": "display_data"
    }
   ],
   "source": [
    "gliph.df[grepl(\"TNE\",gliph.df$Motif), ]"
   ]
  },
  {
   "cell_type": "code",
   "execution_count": 78,
   "metadata": {},
   "outputs": [
    {
     "data": {
      "text/html": [
       "<table>\n",
       "<caption>A data.frame: 5 × 7</caption>\n",
       "<thead>\n",
       "\t<tr><th></th><th scope=col>Motif</th><th scope=col>Counts</th><th scope=col>avgRef</th><th scope=col>topRef</th><th scope=col>OvE</th><th scope=col>p-value</th><th scope=col>samplename</th></tr>\n",
       "\t<tr><th></th><th scope=col>&lt;chr&gt;</th><th scope=col>&lt;dbl&gt;</th><th scope=col>&lt;chr&gt;</th><th scope=col>&lt;chr&gt;</th><th scope=col>&lt;chr&gt;</th><th scope=col>&lt;chr&gt;</th><th scope=col>&lt;fct&gt;</th></tr>\n",
       "</thead>\n",
       "<tbody>\n",
       "\t<tr><th scope=row>27</th><td>FGEG</td><td>3</td><td>0.01</td><td>1</td><td>249.999</td><td>0.001</td><td>CHP_303-05-PBMC-DNA</td></tr>\n",
       "\t<tr><th scope=row>71</th><td>FGEG</td><td>3</td><td>0.01</td><td>1</td><td>157.894</td><td>0.001</td><td>CHP_338-03-PBMC-DNA</td></tr>\n",
       "\t<tr><th scope=row>226</th><td>FGEG</td><td>3</td><td>0.01</td><td>1</td><td>214.285</td><td>0.001</td><td>CHP_368-05-PBMC-DNA</td></tr>\n",
       "\t<tr><th scope=row>281</th><td>FGEG</td><td>3</td><td>0.01</td><td>1</td><td>157.894</td><td>0.001</td><td>CHP_376-03-PBMC-DNA</td></tr>\n",
       "\t<tr><th scope=row>307</th><td>FGEG</td><td>3</td><td>0.02</td><td>1</td><td>119.999</td><td>0.001</td><td>CHP_378-01-PBMC-DNA</td></tr>\n",
       "</tbody>\n",
       "</table>\n"
      ],
      "text/latex": [
       "A data.frame: 5 × 7\n",
       "\\begin{tabular}{r|lllllll}\n",
       "  & Motif & Counts & avgRef & topRef & OvE & p-value & samplename\\\\\n",
       "  & <chr> & <dbl> & <chr> & <chr> & <chr> & <chr> & <fct>\\\\\n",
       "\\hline\n",
       "\t27 & FGEG & 3 & 0.01 & 1 & 249.999 & 0.001 & CHP\\_303-05-PBMC-DNA\\\\\n",
       "\t71 & FGEG & 3 & 0.01 & 1 & 157.894 & 0.001 & CHP\\_338-03-PBMC-DNA\\\\\n",
       "\t226 & FGEG & 3 & 0.01 & 1 & 214.285 & 0.001 & CHP\\_368-05-PBMC-DNA\\\\\n",
       "\t281 & FGEG & 3 & 0.01 & 1 & 157.894 & 0.001 & CHP\\_376-03-PBMC-DNA\\\\\n",
       "\t307 & FGEG & 3 & 0.02 & 1 & 119.999 & 0.001 & CHP\\_378-01-PBMC-DNA\\\\\n",
       "\\end{tabular}\n"
      ],
      "text/markdown": [
       "\n",
       "A data.frame: 5 × 7\n",
       "\n",
       "| <!--/--> | Motif &lt;chr&gt; | Counts &lt;dbl&gt; | avgRef &lt;chr&gt; | topRef &lt;chr&gt; | OvE &lt;chr&gt; | p-value &lt;chr&gt; | samplename &lt;fct&gt; |\n",
       "|---|---|---|---|---|---|---|---|\n",
       "| 27 | FGEG | 3 | 0.01 | 1 | 249.999 | 0.001 | CHP_303-05-PBMC-DNA |\n",
       "| 71 | FGEG | 3 | 0.01 | 1 | 157.894 | 0.001 | CHP_338-03-PBMC-DNA |\n",
       "| 226 | FGEG | 3 | 0.01 | 1 | 214.285 | 0.001 | CHP_368-05-PBMC-DNA |\n",
       "| 281 | FGEG | 3 | 0.01 | 1 | 157.894 | 0.001 | CHP_376-03-PBMC-DNA |\n",
       "| 307 | FGEG | 3 | 0.02 | 1 | 119.999 | 0.001 | CHP_378-01-PBMC-DNA |\n",
       "\n"
      ],
      "text/plain": [
       "    Motif Counts avgRef topRef OvE     p-value samplename         \n",
       "27  FGEG  3      0.01   1      249.999 0.001   CHP_303-05-PBMC-DNA\n",
       "71  FGEG  3      0.01   1      157.894 0.001   CHP_338-03-PBMC-DNA\n",
       "226 FGEG  3      0.01   1      214.285 0.001   CHP_368-05-PBMC-DNA\n",
       "281 FGEG  3      0.01   1      157.894 0.001   CHP_376-03-PBMC-DNA\n",
       "307 FGEG  3      0.02   1      119.999 0.001   CHP_378-01-PBMC-DNA"
      ]
     },
     "metadata": {},
     "output_type": "display_data"
    }
   ],
   "source": [
    "gliph.df[gliph.df$Motif == \"FGEG\", ]"
   ]
  },
  {
   "cell_type": "code",
   "execution_count": 94,
   "metadata": {},
   "outputs": [
    {
     "data": {
      "text/html": [
       "<table>\n",
       "<caption>A data.frame: 5 × 7</caption>\n",
       "<thead>\n",
       "\t<tr><th></th><th scope=col>Motif</th><th scope=col>Counts</th><th scope=col>avgRef</th><th scope=col>topRef</th><th scope=col>OvE</th><th scope=col>p-value</th><th scope=col>samplename</th></tr>\n",
       "\t<tr><th></th><th scope=col>&lt;chr&gt;</th><th scope=col>&lt;dbl&gt;</th><th scope=col>&lt;chr&gt;</th><th scope=col>&lt;chr&gt;</th><th scope=col>&lt;chr&gt;</th><th scope=col>&lt;chr&gt;</th><th scope=col>&lt;chr&gt;</th></tr>\n",
       "</thead>\n",
       "<tbody>\n",
       "\t<tr><th scope=row>21</th><td>CPT</td><td>3</td><td>0   </td><td>1</td><td>428.571</td><td>0.001</td><td>CHP_303-05-PBMC-DNA</td></tr>\n",
       "\t<tr><th scope=row>69</th><td>CPT</td><td>3</td><td>0.02</td><td>1</td><td>115.384</td><td>0.001</td><td>CHP_338-03-PBMC-DNA</td></tr>\n",
       "\t<tr><th scope=row>222</th><td>CPT</td><td>3</td><td>0.01</td><td>2</td><td>199.999</td><td>0.001</td><td>CHP_368-05-PBMC-DNA</td></tr>\n",
       "\t<tr><th scope=row>276</th><td>CPT</td><td>3</td><td>0.01</td><td>2</td><td>199.999</td><td>0.001</td><td>CHP_376-03-PBMC-DNA</td></tr>\n",
       "\t<tr><th scope=row>303</th><td>CPT</td><td>3</td><td>0.02</td><td>1</td><td>142.857</td><td>0.001</td><td>CHP_378-01-PBMC-DNA</td></tr>\n",
       "</tbody>\n",
       "</table>\n"
      ],
      "text/latex": [
       "A data.frame: 5 × 7\n",
       "\\begin{tabular}{r|lllllll}\n",
       "  & Motif & Counts & avgRef & topRef & OvE & p-value & samplename\\\\\n",
       "  & <chr> & <dbl> & <chr> & <chr> & <chr> & <chr> & <chr>\\\\\n",
       "\\hline\n",
       "\t21 & CPT & 3 & 0    & 1 & 428.571 & 0.001 & CHP\\_303-05-PBMC-DNA\\\\\n",
       "\t69 & CPT & 3 & 0.02 & 1 & 115.384 & 0.001 & CHP\\_338-03-PBMC-DNA\\\\\n",
       "\t222 & CPT & 3 & 0.01 & 2 & 199.999 & 0.001 & CHP\\_368-05-PBMC-DNA\\\\\n",
       "\t276 & CPT & 3 & 0.01 & 2 & 199.999 & 0.001 & CHP\\_376-03-PBMC-DNA\\\\\n",
       "\t303 & CPT & 3 & 0.02 & 1 & 142.857 & 0.001 & CHP\\_378-01-PBMC-DNA\\\\\n",
       "\\end{tabular}\n"
      ],
      "text/markdown": [
       "\n",
       "A data.frame: 5 × 7\n",
       "\n",
       "| <!--/--> | Motif &lt;chr&gt; | Counts &lt;dbl&gt; | avgRef &lt;chr&gt; | topRef &lt;chr&gt; | OvE &lt;chr&gt; | p-value &lt;chr&gt; | samplename &lt;chr&gt; |\n",
       "|---|---|---|---|---|---|---|---|\n",
       "| 21 | CPT | 3 | 0    | 1 | 428.571 | 0.001 | CHP_303-05-PBMC-DNA |\n",
       "| 69 | CPT | 3 | 0.02 | 1 | 115.384 | 0.001 | CHP_338-03-PBMC-DNA |\n",
       "| 222 | CPT | 3 | 0.01 | 2 | 199.999 | 0.001 | CHP_368-05-PBMC-DNA |\n",
       "| 276 | CPT | 3 | 0.01 | 2 | 199.999 | 0.001 | CHP_376-03-PBMC-DNA |\n",
       "| 303 | CPT | 3 | 0.02 | 1 | 142.857 | 0.001 | CHP_378-01-PBMC-DNA |\n",
       "\n"
      ],
      "text/plain": [
       "    Motif Counts avgRef topRef OvE     p-value samplename         \n",
       "21  CPT   3      0      1      428.571 0.001   CHP_303-05-PBMC-DNA\n",
       "69  CPT   3      0.02   1      115.384 0.001   CHP_338-03-PBMC-DNA\n",
       "222 CPT   3      0.01   2      199.999 0.001   CHP_368-05-PBMC-DNA\n",
       "276 CPT   3      0.01   2      199.999 0.001   CHP_376-03-PBMC-DNA\n",
       "303 CPT   3      0.02   1      142.857 0.001   CHP_378-01-PBMC-DNA"
      ]
     },
     "metadata": {},
     "output_type": "display_data"
    }
   ],
   "source": [
    "gliph.df[gliph.df$Motif == \"CPT\", ]"
   ]
  },
  {
   "cell_type": "code",
   "execution_count": 74,
   "metadata": {},
   "outputs": [
    {
     "data": {
      "text/plain": [
       "\n",
       "AEVS AGGN AGWA  APE APES  ATN ATNE AVGA  AVL AVLR   CP  CPT  EAV  EFQ EGSR  ELF \n",
       "   3    1    4    2    5    1    1    1    1    4    1    5    1    1    1    1 \n",
       " ERA ESSE  EVS EVSS FEGA   FF  FFG FFGE FGEG FLTG  FQF  GAP GAPE  GEL GELF GKEA \n",
       "   1    5    1    1    1    1    1    4    5    1    1    1    1    1    3    5 \n",
       "GLYL  GQN  GRR  GSI GSRL  GVV  GWA GWAE KEAV  LAR   LF  LFF LFFG  LGK LGKE  LGR \n",
       "   1    1    1    1    2    1    1    1    5    1    1    5    4    1    5    1 \n",
       "LGTE  LRG LRGA  LRT LRTD  LTV LTVL   NF  PES PESS  PNE  PTL PTLR   QF  QFS QFSS \n",
       "   1    1    2    1    1    1    5    1    1    1    1    1    2    1    1    1 \n",
       " QGN RAGW RGAV RLTV  RMN RMNT  RRG SAGG  SCP  SDS SEFQ SEGQ  SFE SFLT SLGR  SPY \n",
       "   1    1    1    2    1    1    1    1    5    1    1    1    1    1    1    1 \n",
       " SSC SSER TGNT TGTD  TGW  TLR TLRG  TNE TNEK TNYG  TVL TVLG VGAP  VLG VLGK  VLR \n",
       "   5    1    2    1    1    3    1    2    1    1    1    5    3    1    6    3 \n",
       "VLRG  VSS  YTG \n",
       "   2    1    1 "
      ]
     },
     "metadata": {},
     "output_type": "display_data"
    }
   ],
   "source": [
    "table(gliph.df$Motif)"
   ]
  },
  {
   "cell_type": "code",
   "execution_count": 99,
   "metadata": {},
   "outputs": [
    {
     "data": {
      "text/html": [
       "<table>\n",
       "<caption>A data.frame: 29 × 7</caption>\n",
       "<thead>\n",
       "\t<tr><th></th><th scope=col>Motif</th><th scope=col>Counts</th><th scope=col>avgRef</th><th scope=col>topRef</th><th scope=col>OvE</th><th scope=col>p-value</th><th scope=col>samplename</th></tr>\n",
       "\t<tr><th></th><th scope=col>&lt;chr&gt;</th><th scope=col>&lt;dbl&gt;</th><th scope=col>&lt;chr&gt;</th><th scope=col>&lt;chr&gt;</th><th scope=col>&lt;chr&gt;</th><th scope=col>&lt;chr&gt;</th><th scope=col>&lt;chr&gt;</th></tr>\n",
       "</thead>\n",
       "<tbody>\n",
       "\t<tr><th scope=row>201</th><td>LF  </td><td>4</td><td>0.31</td><td>3</td><td>12.861 </td><td>0.001</td><td>CHP_368-04-PBMC-DNA</td></tr>\n",
       "\t<tr><th scope=row>204</th><td>LGKE</td><td>3</td><td>0.01</td><td>1</td><td>166.666</td><td>0.001</td><td>CHP_368-05-PBMC-DNA</td></tr>\n",
       "\t<tr><th scope=row>205</th><td>AVLR</td><td>3</td><td>0   </td><td>1</td><td>750    </td><td>0.001</td><td>CHP_368-05-PBMC-DNA</td></tr>\n",
       "\t<tr><th scope=row>206</th><td>VLR </td><td>4</td><td>0.18</td><td>3</td><td>21.857 </td><td>0.001</td><td>CHP_368-05-PBMC-DNA</td></tr>\n",
       "\t<tr><th scope=row>207</th><td>PTLR</td><td>3</td><td>0.02</td><td>1</td><td>103.448</td><td>0.001</td><td>CHP_368-05-PBMC-DNA</td></tr>\n",
       "\t<tr><th scope=row>208</th><td>GWA </td><td>4</td><td>0.38</td><td>3</td><td>10.526 </td><td>0.001</td><td>CHP_368-05-PBMC-DNA</td></tr>\n",
       "\t<tr><th scope=row>209</th><td>VLRG</td><td>4</td><td>0.05</td><td>2</td><td>71.428 </td><td>0.001</td><td>CHP_368-05-PBMC-DNA</td></tr>\n",
       "\t<tr><th scope=row>210</th><td>APES</td><td>3</td><td>0   </td><td>1</td><td>500    </td><td>0.001</td><td>CHP_368-05-PBMC-DNA</td></tr>\n",
       "\t<tr><th scope=row>211</th><td>LGK </td><td>4</td><td>0.18</td><td>3</td><td>22.222 </td><td>0.001</td><td>CHP_368-05-PBMC-DNA</td></tr>\n",
       "\t<tr><th scope=row>212</th><td>GELF</td><td>3</td><td>0   </td><td>1</td><td>500    </td><td>0.001</td><td>CHP_368-05-PBMC-DNA</td></tr>\n",
       "\t<tr><th scope=row>213</th><td>VGAP</td><td>3</td><td>0.02</td><td>1</td><td>149.999</td><td>0.001</td><td>CHP_368-05-PBMC-DNA</td></tr>\n",
       "\t<tr><th scope=row>214</th><td>SCP </td><td>3</td><td>0.01</td><td>1</td><td>299.999</td><td>0.001</td><td>CHP_368-05-PBMC-DNA</td></tr>\n",
       "\t<tr><th scope=row>215</th><td>KEAV</td><td>3</td><td>0   </td><td>1</td><td>428.571</td><td>0.001</td><td>CHP_368-05-PBMC-DNA</td></tr>\n",
       "\t<tr><th scope=row>216</th><td>GKEA</td><td>3</td><td>0.01</td><td>1</td><td>272.727</td><td>0.001</td><td>CHP_368-05-PBMC-DNA</td></tr>\n",
       "\t<tr><th scope=row>217</th><td>GAPE</td><td>4</td><td>0.11</td><td>2</td><td>36.363 </td><td>0.001</td><td>CHP_368-05-PBMC-DNA</td></tr>\n",
       "\t<tr><th scope=row>218</th><td>FFG </td><td>4</td><td>0.08</td><td>2</td><td>49.999 </td><td>0.001</td><td>CHP_368-05-PBMC-DNA</td></tr>\n",
       "\t<tr><th scope=row>219</th><td>VLGK</td><td>3</td><td>0.01</td><td>1</td><td>272.727</td><td>0.001</td><td>CHP_368-05-PBMC-DNA</td></tr>\n",
       "\t<tr><th scope=row>220</th><td>FFGE</td><td>3</td><td>0.01</td><td>1</td><td>299.999</td><td>0.001</td><td>CHP_368-05-PBMC-DNA</td></tr>\n",
       "\t<tr><th scope=row>221</th><td>ESSE</td><td>3</td><td>0   </td><td>1</td><td>500    </td><td>0.001</td><td>CHP_368-05-PBMC-DNA</td></tr>\n",
       "\t<tr><th scope=row>222</th><td>CPT </td><td>3</td><td>0.01</td><td>2</td><td>199.999</td><td>0.001</td><td>CHP_368-05-PBMC-DNA</td></tr>\n",
       "\t<tr><th scope=row>223</th><td>FF  </td><td>4</td><td>0.36</td><td>3</td><td>10.869 </td><td>0.001</td><td>CHP_368-05-PBMC-DNA</td></tr>\n",
       "\t<tr><th scope=row>224</th><td>LFF </td><td>3</td><td>0.01</td><td>1</td><td>166.666</td><td>0.001</td><td>CHP_368-05-PBMC-DNA</td></tr>\n",
       "\t<tr><th scope=row>225</th><td>AGWA</td><td>3</td><td>0.02</td><td>1</td><td>149.999</td><td>0.001</td><td>CHP_368-05-PBMC-DNA</td></tr>\n",
       "\t<tr><th scope=row>226</th><td>FGEG</td><td>3</td><td>0.01</td><td>1</td><td>214.285</td><td>0.001</td><td>CHP_368-05-PBMC-DNA</td></tr>\n",
       "\t<tr><th scope=row>227</th><td>GSRL</td><td>3</td><td>0.02</td><td>1</td><td>142.857</td><td>0.001</td><td>CHP_368-05-PBMC-DNA</td></tr>\n",
       "\t<tr><th scope=row>228</th><td>APE </td><td>4</td><td>0.24</td><td>3</td><td>16.528 </td><td>0.001</td><td>CHP_368-05-PBMC-DNA</td></tr>\n",
       "\t<tr><th scope=row>229</th><td>AEVS</td><td>3</td><td>0   </td><td>1</td><td>1500   </td><td>0.001</td><td>CHP_368-05-PBMC-DNA</td></tr>\n",
       "\t<tr><th scope=row>230</th><td>SSC </td><td>3</td><td>0.02</td><td>1</td><td>130.434</td><td>0.001</td><td>CHP_368-05-PBMC-DNA</td></tr>\n",
       "\t<tr><th scope=row>231</th><td>LTVL</td><td>3</td><td>0   </td><td>1</td><td>1000   </td><td>0.001</td><td>CHP_368-05-PBMC-DNA</td></tr>\n",
       "</tbody>\n",
       "</table>\n"
      ],
      "text/latex": [
       "A data.frame: 29 × 7\n",
       "\\begin{tabular}{r|lllllll}\n",
       "  & Motif & Counts & avgRef & topRef & OvE & p-value & samplename\\\\\n",
       "  & <chr> & <dbl> & <chr> & <chr> & <chr> & <chr> & <chr>\\\\\n",
       "\\hline\n",
       "\t201 & LF   & 4 & 0.31 & 3 & 12.861  & 0.001 & CHP\\_368-04-PBMC-DNA\\\\\n",
       "\t204 & LGKE & 3 & 0.01 & 1 & 166.666 & 0.001 & CHP\\_368-05-PBMC-DNA\\\\\n",
       "\t205 & AVLR & 3 & 0    & 1 & 750     & 0.001 & CHP\\_368-05-PBMC-DNA\\\\\n",
       "\t206 & VLR  & 4 & 0.18 & 3 & 21.857  & 0.001 & CHP\\_368-05-PBMC-DNA\\\\\n",
       "\t207 & PTLR & 3 & 0.02 & 1 & 103.448 & 0.001 & CHP\\_368-05-PBMC-DNA\\\\\n",
       "\t208 & GWA  & 4 & 0.38 & 3 & 10.526  & 0.001 & CHP\\_368-05-PBMC-DNA\\\\\n",
       "\t209 & VLRG & 4 & 0.05 & 2 & 71.428  & 0.001 & CHP\\_368-05-PBMC-DNA\\\\\n",
       "\t210 & APES & 3 & 0    & 1 & 500     & 0.001 & CHP\\_368-05-PBMC-DNA\\\\\n",
       "\t211 & LGK  & 4 & 0.18 & 3 & 22.222  & 0.001 & CHP\\_368-05-PBMC-DNA\\\\\n",
       "\t212 & GELF & 3 & 0    & 1 & 500     & 0.001 & CHP\\_368-05-PBMC-DNA\\\\\n",
       "\t213 & VGAP & 3 & 0.02 & 1 & 149.999 & 0.001 & CHP\\_368-05-PBMC-DNA\\\\\n",
       "\t214 & SCP  & 3 & 0.01 & 1 & 299.999 & 0.001 & CHP\\_368-05-PBMC-DNA\\\\\n",
       "\t215 & KEAV & 3 & 0    & 1 & 428.571 & 0.001 & CHP\\_368-05-PBMC-DNA\\\\\n",
       "\t216 & GKEA & 3 & 0.01 & 1 & 272.727 & 0.001 & CHP\\_368-05-PBMC-DNA\\\\\n",
       "\t217 & GAPE & 4 & 0.11 & 2 & 36.363  & 0.001 & CHP\\_368-05-PBMC-DNA\\\\\n",
       "\t218 & FFG  & 4 & 0.08 & 2 & 49.999  & 0.001 & CHP\\_368-05-PBMC-DNA\\\\\n",
       "\t219 & VLGK & 3 & 0.01 & 1 & 272.727 & 0.001 & CHP\\_368-05-PBMC-DNA\\\\\n",
       "\t220 & FFGE & 3 & 0.01 & 1 & 299.999 & 0.001 & CHP\\_368-05-PBMC-DNA\\\\\n",
       "\t221 & ESSE & 3 & 0    & 1 & 500     & 0.001 & CHP\\_368-05-PBMC-DNA\\\\\n",
       "\t222 & CPT  & 3 & 0.01 & 2 & 199.999 & 0.001 & CHP\\_368-05-PBMC-DNA\\\\\n",
       "\t223 & FF   & 4 & 0.36 & 3 & 10.869  & 0.001 & CHP\\_368-05-PBMC-DNA\\\\\n",
       "\t224 & LFF  & 3 & 0.01 & 1 & 166.666 & 0.001 & CHP\\_368-05-PBMC-DNA\\\\\n",
       "\t225 & AGWA & 3 & 0.02 & 1 & 149.999 & 0.001 & CHP\\_368-05-PBMC-DNA\\\\\n",
       "\t226 & FGEG & 3 & 0.01 & 1 & 214.285 & 0.001 & CHP\\_368-05-PBMC-DNA\\\\\n",
       "\t227 & GSRL & 3 & 0.02 & 1 & 142.857 & 0.001 & CHP\\_368-05-PBMC-DNA\\\\\n",
       "\t228 & APE  & 4 & 0.24 & 3 & 16.528  & 0.001 & CHP\\_368-05-PBMC-DNA\\\\\n",
       "\t229 & AEVS & 3 & 0    & 1 & 1500    & 0.001 & CHP\\_368-05-PBMC-DNA\\\\\n",
       "\t230 & SSC  & 3 & 0.02 & 1 & 130.434 & 0.001 & CHP\\_368-05-PBMC-DNA\\\\\n",
       "\t231 & LTVL & 3 & 0    & 1 & 1000    & 0.001 & CHP\\_368-05-PBMC-DNA\\\\\n",
       "\\end{tabular}\n"
      ],
      "text/markdown": [
       "\n",
       "A data.frame: 29 × 7\n",
       "\n",
       "| <!--/--> | Motif &lt;chr&gt; | Counts &lt;dbl&gt; | avgRef &lt;chr&gt; | topRef &lt;chr&gt; | OvE &lt;chr&gt; | p-value &lt;chr&gt; | samplename &lt;chr&gt; |\n",
       "|---|---|---|---|---|---|---|---|\n",
       "| 201 | LF   | 4 | 0.31 | 3 | 12.861  | 0.001 | CHP_368-04-PBMC-DNA |\n",
       "| 204 | LGKE | 3 | 0.01 | 1 | 166.666 | 0.001 | CHP_368-05-PBMC-DNA |\n",
       "| 205 | AVLR | 3 | 0    | 1 | 750     | 0.001 | CHP_368-05-PBMC-DNA |\n",
       "| 206 | VLR  | 4 | 0.18 | 3 | 21.857  | 0.001 | CHP_368-05-PBMC-DNA |\n",
       "| 207 | PTLR | 3 | 0.02 | 1 | 103.448 | 0.001 | CHP_368-05-PBMC-DNA |\n",
       "| 208 | GWA  | 4 | 0.38 | 3 | 10.526  | 0.001 | CHP_368-05-PBMC-DNA |\n",
       "| 209 | VLRG | 4 | 0.05 | 2 | 71.428  | 0.001 | CHP_368-05-PBMC-DNA |\n",
       "| 210 | APES | 3 | 0    | 1 | 500     | 0.001 | CHP_368-05-PBMC-DNA |\n",
       "| 211 | LGK  | 4 | 0.18 | 3 | 22.222  | 0.001 | CHP_368-05-PBMC-DNA |\n",
       "| 212 | GELF | 3 | 0    | 1 | 500     | 0.001 | CHP_368-05-PBMC-DNA |\n",
       "| 213 | VGAP | 3 | 0.02 | 1 | 149.999 | 0.001 | CHP_368-05-PBMC-DNA |\n",
       "| 214 | SCP  | 3 | 0.01 | 1 | 299.999 | 0.001 | CHP_368-05-PBMC-DNA |\n",
       "| 215 | KEAV | 3 | 0    | 1 | 428.571 | 0.001 | CHP_368-05-PBMC-DNA |\n",
       "| 216 | GKEA | 3 | 0.01 | 1 | 272.727 | 0.001 | CHP_368-05-PBMC-DNA |\n",
       "| 217 | GAPE | 4 | 0.11 | 2 | 36.363  | 0.001 | CHP_368-05-PBMC-DNA |\n",
       "| 218 | FFG  | 4 | 0.08 | 2 | 49.999  | 0.001 | CHP_368-05-PBMC-DNA |\n",
       "| 219 | VLGK | 3 | 0.01 | 1 | 272.727 | 0.001 | CHP_368-05-PBMC-DNA |\n",
       "| 220 | FFGE | 3 | 0.01 | 1 | 299.999 | 0.001 | CHP_368-05-PBMC-DNA |\n",
       "| 221 | ESSE | 3 | 0    | 1 | 500     | 0.001 | CHP_368-05-PBMC-DNA |\n",
       "| 222 | CPT  | 3 | 0.01 | 2 | 199.999 | 0.001 | CHP_368-05-PBMC-DNA |\n",
       "| 223 | FF   | 4 | 0.36 | 3 | 10.869  | 0.001 | CHP_368-05-PBMC-DNA |\n",
       "| 224 | LFF  | 3 | 0.01 | 1 | 166.666 | 0.001 | CHP_368-05-PBMC-DNA |\n",
       "| 225 | AGWA | 3 | 0.02 | 1 | 149.999 | 0.001 | CHP_368-05-PBMC-DNA |\n",
       "| 226 | FGEG | 3 | 0.01 | 1 | 214.285 | 0.001 | CHP_368-05-PBMC-DNA |\n",
       "| 227 | GSRL | 3 | 0.02 | 1 | 142.857 | 0.001 | CHP_368-05-PBMC-DNA |\n",
       "| 228 | APE  | 4 | 0.24 | 3 | 16.528  | 0.001 | CHP_368-05-PBMC-DNA |\n",
       "| 229 | AEVS | 3 | 0    | 1 | 1500    | 0.001 | CHP_368-05-PBMC-DNA |\n",
       "| 230 | SSC  | 3 | 0.02 | 1 | 130.434 | 0.001 | CHP_368-05-PBMC-DNA |\n",
       "| 231 | LTVL | 3 | 0    | 1 | 1000    | 0.001 | CHP_368-05-PBMC-DNA |\n",
       "\n"
      ],
      "text/plain": [
       "    Motif Counts avgRef topRef OvE     p-value samplename         \n",
       "201 LF    4      0.31   3      12.861  0.001   CHP_368-04-PBMC-DNA\n",
       "204 LGKE  3      0.01   1      166.666 0.001   CHP_368-05-PBMC-DNA\n",
       "205 AVLR  3      0      1      750     0.001   CHP_368-05-PBMC-DNA\n",
       "206 VLR   4      0.18   3      21.857  0.001   CHP_368-05-PBMC-DNA\n",
       "207 PTLR  3      0.02   1      103.448 0.001   CHP_368-05-PBMC-DNA\n",
       "208 GWA   4      0.38   3      10.526  0.001   CHP_368-05-PBMC-DNA\n",
       "209 VLRG  4      0.05   2      71.428  0.001   CHP_368-05-PBMC-DNA\n",
       "210 APES  3      0      1      500     0.001   CHP_368-05-PBMC-DNA\n",
       "211 LGK   4      0.18   3      22.222  0.001   CHP_368-05-PBMC-DNA\n",
       "212 GELF  3      0      1      500     0.001   CHP_368-05-PBMC-DNA\n",
       "213 VGAP  3      0.02   1      149.999 0.001   CHP_368-05-PBMC-DNA\n",
       "214 SCP   3      0.01   1      299.999 0.001   CHP_368-05-PBMC-DNA\n",
       "215 KEAV  3      0      1      428.571 0.001   CHP_368-05-PBMC-DNA\n",
       "216 GKEA  3      0.01   1      272.727 0.001   CHP_368-05-PBMC-DNA\n",
       "217 GAPE  4      0.11   2      36.363  0.001   CHP_368-05-PBMC-DNA\n",
       "218 FFG   4      0.08   2      49.999  0.001   CHP_368-05-PBMC-DNA\n",
       "219 VLGK  3      0.01   1      272.727 0.001   CHP_368-05-PBMC-DNA\n",
       "220 FFGE  3      0.01   1      299.999 0.001   CHP_368-05-PBMC-DNA\n",
       "221 ESSE  3      0      1      500     0.001   CHP_368-05-PBMC-DNA\n",
       "222 CPT   3      0.01   2      199.999 0.001   CHP_368-05-PBMC-DNA\n",
       "223 FF    4      0.36   3      10.869  0.001   CHP_368-05-PBMC-DNA\n",
       "224 LFF   3      0.01   1      166.666 0.001   CHP_368-05-PBMC-DNA\n",
       "225 AGWA  3      0.02   1      149.999 0.001   CHP_368-05-PBMC-DNA\n",
       "226 FGEG  3      0.01   1      214.285 0.001   CHP_368-05-PBMC-DNA\n",
       "227 GSRL  3      0.02   1      142.857 0.001   CHP_368-05-PBMC-DNA\n",
       "228 APE   4      0.24   3      16.528  0.001   CHP_368-05-PBMC-DNA\n",
       "229 AEVS  3      0      1      1500    0.001   CHP_368-05-PBMC-DNA\n",
       "230 SSC   3      0.02   1      130.434 0.001   CHP_368-05-PBMC-DNA\n",
       "231 LTVL  3      0      1      1000    0.001   CHP_368-05-PBMC-DNA"
      ]
     },
     "metadata": {},
     "output_type": "display_data"
    }
   ],
   "source": [
    "gliph.df[grepl(\"368\",gliph.df$samplename),]"
   ]
  },
  {
   "cell_type": "code",
   "execution_count": null,
   "metadata": {},
   "outputs": [],
   "source": []
  },
  {
   "cell_type": "code",
   "execution_count": null,
   "metadata": {},
   "outputs": [],
   "source": []
  },
  {
   "cell_type": "code",
   "execution_count": null,
   "metadata": {},
   "outputs": [],
   "source": []
  },
  {
   "cell_type": "code",
   "execution_count": null,
   "metadata": {},
   "outputs": [],
   "source": []
  }
 ],
 "metadata": {
  "kernelspec": {
   "display_name": "R 4.0",
   "language": "R",
   "name": "ir40"
  },
  "language_info": {
   "codemirror_mode": "r",
   "file_extension": ".r",
   "mimetype": "text/x-r-source",
   "name": "R",
   "pygments_lexer": "r",
   "version": "4.0.3"
  },
  "toc": {
   "base_numbering": 1,
   "nav_menu": {},
   "number_sections": false,
   "sideBar": true,
   "skip_h1_title": false,
   "title_cell": "Table of Contents",
   "title_sidebar": "Contents",
   "toc_cell": true,
   "toc_position": {},
   "toc_section_display": true,
   "toc_window_display": false
  }
 },
 "nbformat": 4,
 "nbformat_minor": 2
}
