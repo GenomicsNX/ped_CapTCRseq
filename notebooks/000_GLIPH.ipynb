{
 "cells": [
  {
   "cell_type": "markdown",
   "metadata": {
    "toc": true
   },
   "source": [
    "<h1>Table of Contents<span class=\"tocSkip\"></span></h1>\n",
    "<div class=\"toc\"><ul class=\"toc-item\"><li><span><a href=\"#Dependencies\" data-toc-modified-id=\"Dependencies-1\">Dependencies</a></span></li><li><span><a href=\"#Functions\" data-toc-modified-id=\"Functions-2\">Functions</a></span></li><li><span><a href=\"#Paths\" data-toc-modified-id=\"Paths-3\">Paths</a></span></li><li><span><a href=\"#Main\" data-toc-modified-id=\"Main-4\">Main</a></span><ul class=\"toc-item\"><li><span><a href=\"#bind-COVID-data\" data-toc-modified-id=\"bind-COVID-data-4.1\">bind COVID data</a></span></li><li><span><a href=\"#bind-TCR-list-data-from-SS\" data-toc-modified-id=\"bind-TCR-list-data-from-SS-4.2\">bind TCR list data from SS</a></span></li></ul></li></ul></div>"
   ]
  },
  {
   "cell_type": "markdown",
   "metadata": {},
   "source": [
    "# Dependencies"
   ]
  },
  {
   "cell_type": "markdown",
   "metadata": {},
   "source": [
    "# Functions"
   ]
  },
  {
   "cell_type": "code",
   "execution_count": 1,
   "metadata": {},
   "outputs": [],
   "source": [
    "source(\"/Users/anabbi/git/ped_CapTCRseq/R/Immune_diversity.R\")"
   ]
  },
  {
   "cell_type": "markdown",
   "metadata": {},
   "source": [
    "# Paths"
   ]
  },
  {
   "cell_type": "code",
   "execution_count": 2,
   "metadata": {},
   "outputs": [],
   "source": [
    "datapath <- \"/Users/anabbi/OneDrive - UHN/Documents/INTERCEPT/Data/\"\n",
    "plotpath <- \"/Users/anabbi/OneDrive - UHN/Documents/INTERCEPT/Plots/\"\n",
    "manifestpath <- \"/Users/anabbi/OneDrive - UHN/Documents/INTERCEPT/Manifests/\"\n",
    "\n",
    "gitpath <- \"/Users/anabbi/git/ped_CapTCRseq/\""
   ]
  },
  {
   "cell_type": "code",
   "execution_count": 3,
   "metadata": {},
   "outputs": [],
   "source": [
    "h4hpath <- \"/Users/anabbi/Desktop/H4H/INTERCEPT/NextSeq/\""
   ]
  },
  {
   "cell_type": "markdown",
   "metadata": {},
   "source": [
    "# Main"
   ]
  },
  {
   "cell_type": "code",
   "execution_count": 4,
   "metadata": {},
   "outputs": [],
   "source": [
    "load(file = paste0(datapath,\"capTCRseq/TRBfiles.RData\"))"
   ]
  },
  {
   "cell_type": "code",
   "execution_count": 5,
   "metadata": {},
   "outputs": [
    {
     "data": {
      "text/html": [
       "<table class=\"dataframe\">\n",
       "<caption>A data.frame: 6 × 3</caption>\n",
       "<thead>\n",
       "\t<tr><th></th><th scope=col>file_list</th><th scope=col>samplename</th><th scope=col>size</th></tr>\n",
       "\t<tr><th></th><th scope=col>&lt;chr&gt;</th><th scope=col>&lt;chr&gt;</th><th scope=col>&lt;dbl&gt;</th></tr>\n",
       "</thead>\n",
       "<tbody>\n",
       "\t<tr><th scope=row>264</th><td>batch4_19Aug2019/mixcr/clones/CLONES_TRBCHP_315-05-PBMC-DNA.txt     </td><td>CHP_315-05-PBMC-DNA</td><td> 16011</td></tr>\n",
       "\t<tr><th scope=row>2</th><td>batch_reseq_24Feb2020/mixcr/clones/CLONES_TRBCHP_350-01-PBMC-DNA.txt</td><td>CHP_350-01-PBMC-DNA</td><td> 85631</td></tr>\n",
       "\t<tr><th scope=row>3</th><td>batch_reseq_24Feb2020/mixcr/clones/CLONES_TRBCHP_350-02-PBMC-DNA.txt</td><td>CHP_350-02-PBMC-DNA</td><td>143632</td></tr>\n",
       "\t<tr><th scope=row>4</th><td>batch_reseq_24Feb2020/mixcr/clones/CLONES_TRBCHP_350-03-PBMC-DNA.txt</td><td>CHP_350-03-PBMC-DNA</td><td>107190</td></tr>\n",
       "\t<tr><th scope=row>5</th><td>batch_reseq_24Feb2020/mixcr/clones/CLONES_TRBCHP_350-04-PBMC-DNA.txt</td><td>CHP_350-04-PBMC-DNA</td><td> 54188</td></tr>\n",
       "\t<tr><th scope=row>6</th><td>batch_reseq_24Feb2020/mixcr/clones/CLONES_TRBCHP_353-02-PBMC-DNA.txt</td><td>CHP_353-02-PBMC-DNA</td><td>  9062</td></tr>\n",
       "</tbody>\n",
       "</table>\n"
      ],
      "text/latex": [
       "A data.frame: 6 × 3\n",
       "\\begin{tabular}{r|lll}\n",
       "  & file\\_list & samplename & size\\\\\n",
       "  & <chr> & <chr> & <dbl>\\\\\n",
       "\\hline\n",
       "\t264 & batch4\\_19Aug2019/mixcr/clones/CLONES\\_TRBCHP\\_315-05-PBMC-DNA.txt      & CHP\\_315-05-PBMC-DNA &  16011\\\\\n",
       "\t2 & batch\\_reseq\\_24Feb2020/mixcr/clones/CLONES\\_TRBCHP\\_350-01-PBMC-DNA.txt & CHP\\_350-01-PBMC-DNA &  85631\\\\\n",
       "\t3 & batch\\_reseq\\_24Feb2020/mixcr/clones/CLONES\\_TRBCHP\\_350-02-PBMC-DNA.txt & CHP\\_350-02-PBMC-DNA & 143632\\\\\n",
       "\t4 & batch\\_reseq\\_24Feb2020/mixcr/clones/CLONES\\_TRBCHP\\_350-03-PBMC-DNA.txt & CHP\\_350-03-PBMC-DNA & 107190\\\\\n",
       "\t5 & batch\\_reseq\\_24Feb2020/mixcr/clones/CLONES\\_TRBCHP\\_350-04-PBMC-DNA.txt & CHP\\_350-04-PBMC-DNA &  54188\\\\\n",
       "\t6 & batch\\_reseq\\_24Feb2020/mixcr/clones/CLONES\\_TRBCHP\\_353-02-PBMC-DNA.txt & CHP\\_353-02-PBMC-DNA &   9062\\\\\n",
       "\\end{tabular}\n"
      ],
      "text/markdown": [
       "\n",
       "A data.frame: 6 × 3\n",
       "\n",
       "| <!--/--> | file_list &lt;chr&gt; | samplename &lt;chr&gt; | size &lt;dbl&gt; |\n",
       "|---|---|---|---|\n",
       "| 264 | batch4_19Aug2019/mixcr/clones/CLONES_TRBCHP_315-05-PBMC-DNA.txt      | CHP_315-05-PBMC-DNA |  16011 |\n",
       "| 2 | batch_reseq_24Feb2020/mixcr/clones/CLONES_TRBCHP_350-01-PBMC-DNA.txt | CHP_350-01-PBMC-DNA |  85631 |\n",
       "| 3 | batch_reseq_24Feb2020/mixcr/clones/CLONES_TRBCHP_350-02-PBMC-DNA.txt | CHP_350-02-PBMC-DNA | 143632 |\n",
       "| 4 | batch_reseq_24Feb2020/mixcr/clones/CLONES_TRBCHP_350-03-PBMC-DNA.txt | CHP_350-03-PBMC-DNA | 107190 |\n",
       "| 5 | batch_reseq_24Feb2020/mixcr/clones/CLONES_TRBCHP_350-04-PBMC-DNA.txt | CHP_350-04-PBMC-DNA |  54188 |\n",
       "| 6 | batch_reseq_24Feb2020/mixcr/clones/CLONES_TRBCHP_353-02-PBMC-DNA.txt | CHP_353-02-PBMC-DNA |   9062 |\n",
       "\n"
      ],
      "text/plain": [
       "    file_list                                                           \n",
       "264 batch4_19Aug2019/mixcr/clones/CLONES_TRBCHP_315-05-PBMC-DNA.txt     \n",
       "2   batch_reseq_24Feb2020/mixcr/clones/CLONES_TRBCHP_350-01-PBMC-DNA.txt\n",
       "3   batch_reseq_24Feb2020/mixcr/clones/CLONES_TRBCHP_350-02-PBMC-DNA.txt\n",
       "4   batch_reseq_24Feb2020/mixcr/clones/CLONES_TRBCHP_350-03-PBMC-DNA.txt\n",
       "5   batch_reseq_24Feb2020/mixcr/clones/CLONES_TRBCHP_350-04-PBMC-DNA.txt\n",
       "6   batch_reseq_24Feb2020/mixcr/clones/CLONES_TRBCHP_353-02-PBMC-DNA.txt\n",
       "    samplename          size  \n",
       "264 CHP_315-05-PBMC-DNA  16011\n",
       "2   CHP_350-01-PBMC-DNA  85631\n",
       "3   CHP_350-02-PBMC-DNA 143632\n",
       "4   CHP_350-03-PBMC-DNA 107190\n",
       "5   CHP_350-04-PBMC-DNA  54188\n",
       "6   CHP_353-02-PBMC-DNA   9062"
      ]
     },
     "metadata": {},
     "output_type": "display_data"
    }
   ],
   "source": [
    "head(file_df_dedup_trb)"
   ]
  },
  {
   "cell_type": "code",
   "execution_count": 6,
   "metadata": {},
   "outputs": [],
   "source": [
    "mylist <- list()\n",
    "\n",
    "for(i in 1:nrow(file_df_dedup_trb)){\n",
    "    \n",
    "    onefle <- read.table(paste0(h4hpath, file_df_dedup_trb$file_list[i]), \n",
    "                         sep = \"\\t\", header = TRUE, stringsAsFactors = F)  \n",
    "    # Remove non-productive\n",
    "    onefle <- onefle[!grepl(\"_\", onefle$aaSeqCDR3),]\n",
    "    onefle <- onefle[!grepl(\"[*]\", onefle$aaSeqCDR3),]\n",
    "    onefle$CDR3b <- onefle$aaSeqCDR3\n",
    "    #next if the file has no productive cdr3\n",
    "    if(nrow(onefle) == 0){ next}\n",
    "    #remove scores\n",
    "    onefle$TRBV <- gsub(\"[*]0.*\", \"\", onefle$allVHitsWithScore)\n",
    "    onefle$TRBJ <- gsub(\"[*]0.*\", \"\", onefle$allJHitsWithScore)\n",
    "\n",
    "    onefle$count <- onefle$cloneCount\n",
    "    onefle$clonefraction <- onefle$cloneFraction\n",
    "    onefle$nSeqCDR3 <- onefle$nSeqCDR3\n",
    "    onefle$file <- paste0(h4hpath, file_df_dedup_trb$file_list[i])\n",
    "    onefle$subject.condition <- file_df_dedup_trb$samplename[i]\n",
    "    mylist[length(mylist) + 1] <- list(onefle[,c(\"CDR3b\", \"TRBV\", \"TRBJ\", \"subject.condition\", \"count\", \"clonefraction\",\n",
    "                                                \"nSeqCDR3\", \"file\")])\n",
    "}"
   ]
  },
  {
   "cell_type": "code",
   "execution_count": 7,
   "metadata": {},
   "outputs": [
    {
     "data": {
      "text/html": [
       "580"
      ],
      "text/latex": [
       "580"
      ],
      "text/markdown": [
       "580"
      ],
      "text/plain": [
       "[1] 580"
      ]
     },
     "metadata": {},
     "output_type": "display_data"
    }
   ],
   "source": [
    "length(mylist)"
   ]
  },
  {
   "cell_type": "code",
   "execution_count": 8,
   "metadata": {},
   "outputs": [],
   "source": [
    "gliph_input <- do.call(\"rbind\", mylist)"
   ]
  },
  {
   "cell_type": "code",
   "execution_count": 9,
   "metadata": {},
   "outputs": [
    {
     "data": {
      "text/html": [
       "<style>\n",
       ".list-inline {list-style: none; margin:0; padding: 0}\n",
       ".list-inline>li {display: inline-block}\n",
       ".list-inline>li:not(:last-child)::after {content: \"\\00b7\"; padding: 0 .5ex}\n",
       "</style>\n",
       "<ol class=list-inline><li>72634</li><li>8</li></ol>\n"
      ],
      "text/latex": [
       "\\begin{enumerate*}\n",
       "\\item 72634\n",
       "\\item 8\n",
       "\\end{enumerate*}\n"
      ],
      "text/markdown": [
       "1. 72634\n",
       "2. 8\n",
       "\n",
       "\n"
      ],
      "text/plain": [
       "[1] 72634     8"
      ]
     },
     "metadata": {},
     "output_type": "display_data"
    }
   ],
   "source": [
    "dim(gliph_input)"
   ]
  },
  {
   "cell_type": "code",
   "execution_count": 10,
   "metadata": {},
   "outputs": [
    {
     "data": {
      "text/html": [
       "<table class=\"dataframe\">\n",
       "<caption>A data.frame: 6 × 8</caption>\n",
       "<thead>\n",
       "\t<tr><th></th><th scope=col>CDR3b</th><th scope=col>TRBV</th><th scope=col>TRBJ</th><th scope=col>subject.condition</th><th scope=col>count</th><th scope=col>clonefraction</th><th scope=col>nSeqCDR3</th><th scope=col>file</th></tr>\n",
       "\t<tr><th></th><th scope=col>&lt;chr&gt;</th><th scope=col>&lt;chr&gt;</th><th scope=col>&lt;chr&gt;</th><th scope=col>&lt;chr&gt;</th><th scope=col>&lt;int&gt;</th><th scope=col>&lt;dbl&gt;</th><th scope=col>&lt;chr&gt;</th><th scope=col>&lt;chr&gt;</th></tr>\n",
       "</thead>\n",
       "<tbody>\n",
       "\t<tr><th scope=row>1</th><td>CASSFYGREADTQYF</td><td>TRBV7-2</td><td>TRBJ2-3</td><td>CHP_315-05-PBMC-DNA</td><td>187</td><td>0.19767442</td><td>TGTGCCAGCAGCTTCTATGGCAGGGAAGCAGATACGCAGTATTTT</td><td>/Users/anabbi/Desktop/H4H/INTERCEPT/NextSeq/batch4_19Aug2019/mixcr/clones/CLONES_TRBCHP_315-05-PBMC-DNA.txt</td></tr>\n",
       "\t<tr><th scope=row>3</th><td>CASSLMGGDSTEAFF</td><td>TRBV7-3</td><td>TRBJ1-1</td><td>CHP_315-05-PBMC-DNA</td><td> 48</td><td>0.05073996</td><td>TGTGCCAGCAGCTTAATGGGGGGAGATAGCACTGAAGCTTTCTTT</td><td>/Users/anabbi/Desktop/H4H/INTERCEPT/NextSeq/batch4_19Aug2019/mixcr/clones/CLONES_TRBCHP_315-05-PBMC-DNA.txt</td></tr>\n",
       "\t<tr><th scope=row>4</th><td>CASSLTGTGVEKLFF</td><td>TRBV7-3</td><td>TRBJ1-4</td><td>CHP_315-05-PBMC-DNA</td><td> 48</td><td>0.05073996</td><td>TGTGCCAGCAGCTTAACCGGGACAGGGGTTGAAAAACTGTTTTTT</td><td>/Users/anabbi/Desktop/H4H/INTERCEPT/NextSeq/batch4_19Aug2019/mixcr/clones/CLONES_TRBCHP_315-05-PBMC-DNA.txt</td></tr>\n",
       "\t<tr><th scope=row>5</th><td>CASSQRGQSTEQYF </td><td>TRBV14 </td><td>TRBJ2-7</td><td>CHP_315-05-PBMC-DNA</td><td> 42</td><td>0.04439746</td><td>TGTGCCAGCAGCCAACGGGGACAGTCAACCGAGCAGTACTTC   </td><td>/Users/anabbi/Desktop/H4H/INTERCEPT/NextSeq/batch4_19Aug2019/mixcr/clones/CLONES_TRBCHP_315-05-PBMC-DNA.txt</td></tr>\n",
       "\t<tr><th scope=row>6</th><td>CASSYQAGVGETQYF</td><td>TRBV6-6</td><td>TRBJ2-5</td><td>CHP_315-05-PBMC-DNA</td><td> 32</td><td>0.03382664</td><td>TGTGCCAGCAGTTACCAAGCGGGGGTGGGTGAGACCCAGTACTTC</td><td>/Users/anabbi/Desktop/H4H/INTERCEPT/NextSeq/batch4_19Aug2019/mixcr/clones/CLONES_TRBCHP_315-05-PBMC-DNA.txt</td></tr>\n",
       "\t<tr><th scope=row>9</th><td>CASSVVGVYNSPLHF</td><td>TRBV7-2</td><td>TRBJ1-6</td><td>CHP_315-05-PBMC-DNA</td><td> 29</td><td>0.03065539</td><td>TGTGCCAGCAGCGTAGTAGGGGTCTATAATTCACCCCTCCACTTT</td><td>/Users/anabbi/Desktop/H4H/INTERCEPT/NextSeq/batch4_19Aug2019/mixcr/clones/CLONES_TRBCHP_315-05-PBMC-DNA.txt</td></tr>\n",
       "</tbody>\n",
       "</table>\n"
      ],
      "text/latex": [
       "A data.frame: 6 × 8\n",
       "\\begin{tabular}{r|llllllll}\n",
       "  & CDR3b & TRBV & TRBJ & subject.condition & count & clonefraction & nSeqCDR3 & file\\\\\n",
       "  & <chr> & <chr> & <chr> & <chr> & <int> & <dbl> & <chr> & <chr>\\\\\n",
       "\\hline\n",
       "\t1 & CASSFYGREADTQYF & TRBV7-2 & TRBJ2-3 & CHP\\_315-05-PBMC-DNA & 187 & 0.19767442 & TGTGCCAGCAGCTTCTATGGCAGGGAAGCAGATACGCAGTATTTT & /Users/anabbi/Desktop/H4H/INTERCEPT/NextSeq/batch4\\_19Aug2019/mixcr/clones/CLONES\\_TRBCHP\\_315-05-PBMC-DNA.txt\\\\\n",
       "\t3 & CASSLMGGDSTEAFF & TRBV7-3 & TRBJ1-1 & CHP\\_315-05-PBMC-DNA &  48 & 0.05073996 & TGTGCCAGCAGCTTAATGGGGGGAGATAGCACTGAAGCTTTCTTT & /Users/anabbi/Desktop/H4H/INTERCEPT/NextSeq/batch4\\_19Aug2019/mixcr/clones/CLONES\\_TRBCHP\\_315-05-PBMC-DNA.txt\\\\\n",
       "\t4 & CASSLTGTGVEKLFF & TRBV7-3 & TRBJ1-4 & CHP\\_315-05-PBMC-DNA &  48 & 0.05073996 & TGTGCCAGCAGCTTAACCGGGACAGGGGTTGAAAAACTGTTTTTT & /Users/anabbi/Desktop/H4H/INTERCEPT/NextSeq/batch4\\_19Aug2019/mixcr/clones/CLONES\\_TRBCHP\\_315-05-PBMC-DNA.txt\\\\\n",
       "\t5 & CASSQRGQSTEQYF  & TRBV14  & TRBJ2-7 & CHP\\_315-05-PBMC-DNA &  42 & 0.04439746 & TGTGCCAGCAGCCAACGGGGACAGTCAACCGAGCAGTACTTC    & /Users/anabbi/Desktop/H4H/INTERCEPT/NextSeq/batch4\\_19Aug2019/mixcr/clones/CLONES\\_TRBCHP\\_315-05-PBMC-DNA.txt\\\\\n",
       "\t6 & CASSYQAGVGETQYF & TRBV6-6 & TRBJ2-5 & CHP\\_315-05-PBMC-DNA &  32 & 0.03382664 & TGTGCCAGCAGTTACCAAGCGGGGGTGGGTGAGACCCAGTACTTC & /Users/anabbi/Desktop/H4H/INTERCEPT/NextSeq/batch4\\_19Aug2019/mixcr/clones/CLONES\\_TRBCHP\\_315-05-PBMC-DNA.txt\\\\\n",
       "\t9 & CASSVVGVYNSPLHF & TRBV7-2 & TRBJ1-6 & CHP\\_315-05-PBMC-DNA &  29 & 0.03065539 & TGTGCCAGCAGCGTAGTAGGGGTCTATAATTCACCCCTCCACTTT & /Users/anabbi/Desktop/H4H/INTERCEPT/NextSeq/batch4\\_19Aug2019/mixcr/clones/CLONES\\_TRBCHP\\_315-05-PBMC-DNA.txt\\\\\n",
       "\\end{tabular}\n"
      ],
      "text/markdown": [
       "\n",
       "A data.frame: 6 × 8\n",
       "\n",
       "| <!--/--> | CDR3b &lt;chr&gt; | TRBV &lt;chr&gt; | TRBJ &lt;chr&gt; | subject.condition &lt;chr&gt; | count &lt;int&gt; | clonefraction &lt;dbl&gt; | nSeqCDR3 &lt;chr&gt; | file &lt;chr&gt; |\n",
       "|---|---|---|---|---|---|---|---|---|\n",
       "| 1 | CASSFYGREADTQYF | TRBV7-2 | TRBJ2-3 | CHP_315-05-PBMC-DNA | 187 | 0.19767442 | TGTGCCAGCAGCTTCTATGGCAGGGAAGCAGATACGCAGTATTTT | /Users/anabbi/Desktop/H4H/INTERCEPT/NextSeq/batch4_19Aug2019/mixcr/clones/CLONES_TRBCHP_315-05-PBMC-DNA.txt |\n",
       "| 3 | CASSLMGGDSTEAFF | TRBV7-3 | TRBJ1-1 | CHP_315-05-PBMC-DNA |  48 | 0.05073996 | TGTGCCAGCAGCTTAATGGGGGGAGATAGCACTGAAGCTTTCTTT | /Users/anabbi/Desktop/H4H/INTERCEPT/NextSeq/batch4_19Aug2019/mixcr/clones/CLONES_TRBCHP_315-05-PBMC-DNA.txt |\n",
       "| 4 | CASSLTGTGVEKLFF | TRBV7-3 | TRBJ1-4 | CHP_315-05-PBMC-DNA |  48 | 0.05073996 | TGTGCCAGCAGCTTAACCGGGACAGGGGTTGAAAAACTGTTTTTT | /Users/anabbi/Desktop/H4H/INTERCEPT/NextSeq/batch4_19Aug2019/mixcr/clones/CLONES_TRBCHP_315-05-PBMC-DNA.txt |\n",
       "| 5 | CASSQRGQSTEQYF  | TRBV14  | TRBJ2-7 | CHP_315-05-PBMC-DNA |  42 | 0.04439746 | TGTGCCAGCAGCCAACGGGGACAGTCAACCGAGCAGTACTTC    | /Users/anabbi/Desktop/H4H/INTERCEPT/NextSeq/batch4_19Aug2019/mixcr/clones/CLONES_TRBCHP_315-05-PBMC-DNA.txt |\n",
       "| 6 | CASSYQAGVGETQYF | TRBV6-6 | TRBJ2-5 | CHP_315-05-PBMC-DNA |  32 | 0.03382664 | TGTGCCAGCAGTTACCAAGCGGGGGTGGGTGAGACCCAGTACTTC | /Users/anabbi/Desktop/H4H/INTERCEPT/NextSeq/batch4_19Aug2019/mixcr/clones/CLONES_TRBCHP_315-05-PBMC-DNA.txt |\n",
       "| 9 | CASSVVGVYNSPLHF | TRBV7-2 | TRBJ1-6 | CHP_315-05-PBMC-DNA |  29 | 0.03065539 | TGTGCCAGCAGCGTAGTAGGGGTCTATAATTCACCCCTCCACTTT | /Users/anabbi/Desktop/H4H/INTERCEPT/NextSeq/batch4_19Aug2019/mixcr/clones/CLONES_TRBCHP_315-05-PBMC-DNA.txt |\n",
       "\n"
      ],
      "text/plain": [
       "  CDR3b           TRBV    TRBJ    subject.condition   count clonefraction\n",
       "1 CASSFYGREADTQYF TRBV7-2 TRBJ2-3 CHP_315-05-PBMC-DNA 187   0.19767442   \n",
       "3 CASSLMGGDSTEAFF TRBV7-3 TRBJ1-1 CHP_315-05-PBMC-DNA  48   0.05073996   \n",
       "4 CASSLTGTGVEKLFF TRBV7-3 TRBJ1-4 CHP_315-05-PBMC-DNA  48   0.05073996   \n",
       "5 CASSQRGQSTEQYF  TRBV14  TRBJ2-7 CHP_315-05-PBMC-DNA  42   0.04439746   \n",
       "6 CASSYQAGVGETQYF TRBV6-6 TRBJ2-5 CHP_315-05-PBMC-DNA  32   0.03382664   \n",
       "9 CASSVVGVYNSPLHF TRBV7-2 TRBJ1-6 CHP_315-05-PBMC-DNA  29   0.03065539   \n",
       "  nSeqCDR3                                     \n",
       "1 TGTGCCAGCAGCTTCTATGGCAGGGAAGCAGATACGCAGTATTTT\n",
       "3 TGTGCCAGCAGCTTAATGGGGGGAGATAGCACTGAAGCTTTCTTT\n",
       "4 TGTGCCAGCAGCTTAACCGGGACAGGGGTTGAAAAACTGTTTTTT\n",
       "5 TGTGCCAGCAGCCAACGGGGACAGTCAACCGAGCAGTACTTC   \n",
       "6 TGTGCCAGCAGTTACCAAGCGGGGGTGGGTGAGACCCAGTACTTC\n",
       "9 TGTGCCAGCAGCGTAGTAGGGGTCTATAATTCACCCCTCCACTTT\n",
       "  file                                                                                                       \n",
       "1 /Users/anabbi/Desktop/H4H/INTERCEPT/NextSeq/batch4_19Aug2019/mixcr/clones/CLONES_TRBCHP_315-05-PBMC-DNA.txt\n",
       "3 /Users/anabbi/Desktop/H4H/INTERCEPT/NextSeq/batch4_19Aug2019/mixcr/clones/CLONES_TRBCHP_315-05-PBMC-DNA.txt\n",
       "4 /Users/anabbi/Desktop/H4H/INTERCEPT/NextSeq/batch4_19Aug2019/mixcr/clones/CLONES_TRBCHP_315-05-PBMC-DNA.txt\n",
       "5 /Users/anabbi/Desktop/H4H/INTERCEPT/NextSeq/batch4_19Aug2019/mixcr/clones/CLONES_TRBCHP_315-05-PBMC-DNA.txt\n",
       "6 /Users/anabbi/Desktop/H4H/INTERCEPT/NextSeq/batch4_19Aug2019/mixcr/clones/CLONES_TRBCHP_315-05-PBMC-DNA.txt\n",
       "9 /Users/anabbi/Desktop/H4H/INTERCEPT/NextSeq/batch4_19Aug2019/mixcr/clones/CLONES_TRBCHP_315-05-PBMC-DNA.txt"
      ]
     },
     "metadata": {},
     "output_type": "display_data"
    }
   ],
   "source": [
    "head(gliph_input)"
   ]
  },
  {
   "cell_type": "code",
   "execution_count": 11,
   "metadata": {},
   "outputs": [],
   "source": [
    "library(data.table)"
   ]
  },
  {
   "cell_type": "code",
   "execution_count": 13,
   "metadata": {},
   "outputs": [],
   "source": [
    "#bind those with the same cdr3 + TRBV\n",
    "setDT(gliph_input)\n",
    "\n",
    "ab <- gliph_input[, .(subject = toString(subject.condition), #bind subjects\n",
    "                      file = toString(file), #bind filenames\n",
    "                      count = sum(count)),  #get sum of counts\n",
    "                  by = c(\"CDR3b\", \"TRBV\", \"TRBJ\")] #get duplicates sequences with the same cdr3 + TRBV + TRBJ\n",
    "\n",
    "gliph_input_ab <- merge(gliph_input, ab, by = c(\"CDR3b\",\"TRBV\",\"TRBJ\")) # merge together"
   ]
  },
  {
   "cell_type": "code",
   "execution_count": 14,
   "metadata": {},
   "outputs": [
    {
     "data": {
      "text/html": [
       "<table class=\"dataframe\">\n",
       "<caption>A data.table: 6 × 11</caption>\n",
       "<thead>\n",
       "\t<tr><th scope=col>CDR3b</th><th scope=col>TRBV</th><th scope=col>TRBJ</th><th scope=col>subject.condition</th><th scope=col>count.x</th><th scope=col>clonefraction</th><th scope=col>nSeqCDR3</th><th scope=col>file.x</th><th scope=col>subject</th><th scope=col>file.y</th><th scope=col>count.y</th></tr>\n",
       "\t<tr><th scope=col>&lt;chr&gt;</th><th scope=col>&lt;chr&gt;</th><th scope=col>&lt;chr&gt;</th><th scope=col>&lt;chr&gt;</th><th scope=col>&lt;int&gt;</th><th scope=col>&lt;dbl&gt;</th><th scope=col>&lt;chr&gt;</th><th scope=col>&lt;chr&gt;</th><th scope=col>&lt;chr&gt;</th><th scope=col>&lt;chr&gt;</th><th scope=col>&lt;int&gt;</th></tr>\n",
       "</thead>\n",
       "<tbody>\n",
       "\t<tr><td>ADITWRGGQPQHF   </td><td>TRBV3-2 </td><td>TRBJ1-5</td><td>CHP_387-02_PBMC_DNA</td><td> 12</td><td>0.0017035775</td><td>GCCGACATTACCTGGAGAGGGGGTCAGCCCCAGCATTTT         </td><td>/Users/anabbi/Desktop/H4H/INTERCEPT/NextSeq/batch11_23Apr2020/mixcr/clones/CLONES_TRBCHP_387-02_PBMC_DNA.txt           </td><td>CHP_387-02_PBMC_DNA                     </td><td>/Users/anabbi/Desktop/H4H/INTERCEPT/NextSeq/batch11_23Apr2020/mixcr/clones/CLONES_TRBCHP_387-02_PBMC_DNA.txt                                                                                                              </td><td> 12</td></tr>\n",
       "\t<tr><td>CAAAGGGEAFF     </td><td>TRBV28  </td><td>TRBJ1-1</td><td>CHP_396-03_PBMC_DNA</td><td> 16</td><td>0.0033105731</td><td>TGTGCCGCAGCGGGGGGAGGTGAAGCTTTCTTT               </td><td>/Users/anabbi/Desktop/H4H/INTERCEPT/NextSeq/batch11_23Apr2020/mixcr/clones/CLONES_TRBCHP_396-03_PBMC_DNA.txt           </td><td>CHP_396-03_PBMC_DNA, CHP_396-04-PBMC-DNA</td><td>/Users/anabbi/Desktop/H4H/INTERCEPT/NextSeq/batch11_23Apr2020/mixcr/clones/CLONES_TRBCHP_396-03_PBMC_DNA.txt, /Users/anabbi/Desktop/H4H/INTERCEPT/NextSeq/batch13_26Aug2020/mixcr/clones/CLONES_TRBCHP_396-04-PBMC-DNA.txt</td><td>340</td></tr>\n",
       "\t<tr><td>CAAAGGGEAFF     </td><td>TRBV28  </td><td>TRBJ1-1</td><td>CHP_396-04-PBMC-DNA</td><td>324</td><td>0.0012697069</td><td>TGTGCCGCAGCGGGGGGAGGTGAAGCTTTCTTT               </td><td>/Users/anabbi/Desktop/H4H/INTERCEPT/NextSeq/batch13_26Aug2020/mixcr/clones/CLONES_TRBCHP_396-04-PBMC-DNA.txt           </td><td>CHP_396-03_PBMC_DNA, CHP_396-04-PBMC-DNA</td><td>/Users/anabbi/Desktop/H4H/INTERCEPT/NextSeq/batch11_23Apr2020/mixcr/clones/CLONES_TRBCHP_396-03_PBMC_DNA.txt, /Users/anabbi/Desktop/H4H/INTERCEPT/NextSeq/batch13_26Aug2020/mixcr/clones/CLONES_TRBCHP_396-04-PBMC-DNA.txt</td><td>340</td></tr>\n",
       "\t<tr><td>CAAAGGSGVGYEQYF </td><td>TRBV3-1 </td><td>TRBJ2-7</td><td>CHP_393-05-PBMC-DNA</td><td>151</td><td>0.0012674058</td><td>TGTGCCGCCGCCGGGGGCAGCGGGGTGGGCTACGAGCAGTACTTC   </td><td>/Users/anabbi/Desktop/H4H/INTERCEPT/NextSeq/batch13_26Aug2020/mixcr/clones/CLONES_TRBCHP_393-05-PBMC-DNA.txt           </td><td>CHP_393-05-PBMC-DNA                     </td><td>/Users/anabbi/Desktop/H4H/INTERCEPT/NextSeq/batch13_26Aug2020/mixcr/clones/CLONES_TRBCHP_393-05-PBMC-DNA.txt                                                                                                              </td><td>151</td></tr>\n",
       "\t<tr><td>CAAARGFDEQYF    </td><td>TRBV10-3</td><td>TRBJ2-7</td><td>CHP-411-02-PBMC-DNA</td><td> 20</td><td>0.0001310135</td><td>TGTGCCGCCGCACGGGGTTTCGACGAGCAGTACTTC            </td><td>/Users/anabbi/Desktop/H4H/INTERCEPT/NextSeq/remaining_batch_4_28June2021/mixcr/clones/CLONES_TRBCHP-411-02-PBMC-DNA.txt</td><td>CHP-411-02-PBMC-DNA                     </td><td>/Users/anabbi/Desktop/H4H/INTERCEPT/NextSeq/remaining_batch_4_28June2021/mixcr/clones/CLONES_TRBCHP-411-02-PBMC-DNA.txt                                                                                                   </td><td> 20</td></tr>\n",
       "\t<tr><td>CAACEPEVRDTDTQYF</td><td>TRBV28  </td><td>TRBJ2-3</td><td>CHP_338-05-PBMC-DNA</td><td> 11</td><td>0.0026397888</td><td>TGTGCCGCCTGCGAACCTGAAGTACGGGACACAGATACGCAGTATTTT</td><td>/Users/anabbi/Desktop/H4H/INTERCEPT/NextSeq/batch2_Aug62019/mixcr/clones/CLONES_TRBCHP_338-05-PBMC-DNA.txt             </td><td>CHP_338-05-PBMC-DNA, CHP_338-05-PBMC-DNA</td><td>/Users/anabbi/Desktop/H4H/INTERCEPT/NextSeq/batch2_Aug62019/mixcr/clones/CLONES_TRBCHP_338-05-PBMC-DNA.txt, /Users/anabbi/Desktop/H4H/INTERCEPT/NextSeq/batch2_Aug62019/mixcr/clones/CLONES_TRBCHP_338-05-PBMC-DNA.txt    </td><td> 12</td></tr>\n",
       "</tbody>\n",
       "</table>\n"
      ],
      "text/latex": [
       "A data.table: 6 × 11\n",
       "\\begin{tabular}{lllllllllll}\n",
       " CDR3b & TRBV & TRBJ & subject.condition & count.x & clonefraction & nSeqCDR3 & file.x & subject & file.y & count.y\\\\\n",
       " <chr> & <chr> & <chr> & <chr> & <int> & <dbl> & <chr> & <chr> & <chr> & <chr> & <int>\\\\\n",
       "\\hline\n",
       "\t ADITWRGGQPQHF    & TRBV3-2  & TRBJ1-5 & CHP\\_387-02\\_PBMC\\_DNA &  12 & 0.0017035775 & GCCGACATTACCTGGAGAGGGGGTCAGCCCCAGCATTTT          & /Users/anabbi/Desktop/H4H/INTERCEPT/NextSeq/batch11\\_23Apr2020/mixcr/clones/CLONES\\_TRBCHP\\_387-02\\_PBMC\\_DNA.txt            & CHP\\_387-02\\_PBMC\\_DNA                      & /Users/anabbi/Desktop/H4H/INTERCEPT/NextSeq/batch11\\_23Apr2020/mixcr/clones/CLONES\\_TRBCHP\\_387-02\\_PBMC\\_DNA.txt                                                                                                               &  12\\\\\n",
       "\t CAAAGGGEAFF      & TRBV28   & TRBJ1-1 & CHP\\_396-03\\_PBMC\\_DNA &  16 & 0.0033105731 & TGTGCCGCAGCGGGGGGAGGTGAAGCTTTCTTT                & /Users/anabbi/Desktop/H4H/INTERCEPT/NextSeq/batch11\\_23Apr2020/mixcr/clones/CLONES\\_TRBCHP\\_396-03\\_PBMC\\_DNA.txt            & CHP\\_396-03\\_PBMC\\_DNA, CHP\\_396-04-PBMC-DNA & /Users/anabbi/Desktop/H4H/INTERCEPT/NextSeq/batch11\\_23Apr2020/mixcr/clones/CLONES\\_TRBCHP\\_396-03\\_PBMC\\_DNA.txt, /Users/anabbi/Desktop/H4H/INTERCEPT/NextSeq/batch13\\_26Aug2020/mixcr/clones/CLONES\\_TRBCHP\\_396-04-PBMC-DNA.txt & 340\\\\\n",
       "\t CAAAGGGEAFF      & TRBV28   & TRBJ1-1 & CHP\\_396-04-PBMC-DNA & 324 & 0.0012697069 & TGTGCCGCAGCGGGGGGAGGTGAAGCTTTCTTT                & /Users/anabbi/Desktop/H4H/INTERCEPT/NextSeq/batch13\\_26Aug2020/mixcr/clones/CLONES\\_TRBCHP\\_396-04-PBMC-DNA.txt            & CHP\\_396-03\\_PBMC\\_DNA, CHP\\_396-04-PBMC-DNA & /Users/anabbi/Desktop/H4H/INTERCEPT/NextSeq/batch11\\_23Apr2020/mixcr/clones/CLONES\\_TRBCHP\\_396-03\\_PBMC\\_DNA.txt, /Users/anabbi/Desktop/H4H/INTERCEPT/NextSeq/batch13\\_26Aug2020/mixcr/clones/CLONES\\_TRBCHP\\_396-04-PBMC-DNA.txt & 340\\\\\n",
       "\t CAAAGGSGVGYEQYF  & TRBV3-1  & TRBJ2-7 & CHP\\_393-05-PBMC-DNA & 151 & 0.0012674058 & TGTGCCGCCGCCGGGGGCAGCGGGGTGGGCTACGAGCAGTACTTC    & /Users/anabbi/Desktop/H4H/INTERCEPT/NextSeq/batch13\\_26Aug2020/mixcr/clones/CLONES\\_TRBCHP\\_393-05-PBMC-DNA.txt            & CHP\\_393-05-PBMC-DNA                      & /Users/anabbi/Desktop/H4H/INTERCEPT/NextSeq/batch13\\_26Aug2020/mixcr/clones/CLONES\\_TRBCHP\\_393-05-PBMC-DNA.txt                                                                                                               & 151\\\\\n",
       "\t CAAARGFDEQYF     & TRBV10-3 & TRBJ2-7 & CHP-411-02-PBMC-DNA &  20 & 0.0001310135 & TGTGCCGCCGCACGGGGTTTCGACGAGCAGTACTTC             & /Users/anabbi/Desktop/H4H/INTERCEPT/NextSeq/remaining\\_batch\\_4\\_28June2021/mixcr/clones/CLONES\\_TRBCHP-411-02-PBMC-DNA.txt & CHP-411-02-PBMC-DNA                      & /Users/anabbi/Desktop/H4H/INTERCEPT/NextSeq/remaining\\_batch\\_4\\_28June2021/mixcr/clones/CLONES\\_TRBCHP-411-02-PBMC-DNA.txt                                                                                                    &  20\\\\\n",
       "\t CAACEPEVRDTDTQYF & TRBV28   & TRBJ2-3 & CHP\\_338-05-PBMC-DNA &  11 & 0.0026397888 & TGTGCCGCCTGCGAACCTGAAGTACGGGACACAGATACGCAGTATTTT & /Users/anabbi/Desktop/H4H/INTERCEPT/NextSeq/batch2\\_Aug62019/mixcr/clones/CLONES\\_TRBCHP\\_338-05-PBMC-DNA.txt              & CHP\\_338-05-PBMC-DNA, CHP\\_338-05-PBMC-DNA & /Users/anabbi/Desktop/H4H/INTERCEPT/NextSeq/batch2\\_Aug62019/mixcr/clones/CLONES\\_TRBCHP\\_338-05-PBMC-DNA.txt, /Users/anabbi/Desktop/H4H/INTERCEPT/NextSeq/batch2\\_Aug62019/mixcr/clones/CLONES\\_TRBCHP\\_338-05-PBMC-DNA.txt     &  12\\\\\n",
       "\\end{tabular}\n"
      ],
      "text/markdown": [
       "\n",
       "A data.table: 6 × 11\n",
       "\n",
       "| CDR3b &lt;chr&gt; | TRBV &lt;chr&gt; | TRBJ &lt;chr&gt; | subject.condition &lt;chr&gt; | count.x &lt;int&gt; | clonefraction &lt;dbl&gt; | nSeqCDR3 &lt;chr&gt; | file.x &lt;chr&gt; | subject &lt;chr&gt; | file.y &lt;chr&gt; | count.y &lt;int&gt; |\n",
       "|---|---|---|---|---|---|---|---|---|---|---|\n",
       "| ADITWRGGQPQHF    | TRBV3-2  | TRBJ1-5 | CHP_387-02_PBMC_DNA |  12 | 0.0017035775 | GCCGACATTACCTGGAGAGGGGGTCAGCCCCAGCATTTT          | /Users/anabbi/Desktop/H4H/INTERCEPT/NextSeq/batch11_23Apr2020/mixcr/clones/CLONES_TRBCHP_387-02_PBMC_DNA.txt            | CHP_387-02_PBMC_DNA                      | /Users/anabbi/Desktop/H4H/INTERCEPT/NextSeq/batch11_23Apr2020/mixcr/clones/CLONES_TRBCHP_387-02_PBMC_DNA.txt                                                                                                               |  12 |\n",
       "| CAAAGGGEAFF      | TRBV28   | TRBJ1-1 | CHP_396-03_PBMC_DNA |  16 | 0.0033105731 | TGTGCCGCAGCGGGGGGAGGTGAAGCTTTCTTT                | /Users/anabbi/Desktop/H4H/INTERCEPT/NextSeq/batch11_23Apr2020/mixcr/clones/CLONES_TRBCHP_396-03_PBMC_DNA.txt            | CHP_396-03_PBMC_DNA, CHP_396-04-PBMC-DNA | /Users/anabbi/Desktop/H4H/INTERCEPT/NextSeq/batch11_23Apr2020/mixcr/clones/CLONES_TRBCHP_396-03_PBMC_DNA.txt, /Users/anabbi/Desktop/H4H/INTERCEPT/NextSeq/batch13_26Aug2020/mixcr/clones/CLONES_TRBCHP_396-04-PBMC-DNA.txt | 340 |\n",
       "| CAAAGGGEAFF      | TRBV28   | TRBJ1-1 | CHP_396-04-PBMC-DNA | 324 | 0.0012697069 | TGTGCCGCAGCGGGGGGAGGTGAAGCTTTCTTT                | /Users/anabbi/Desktop/H4H/INTERCEPT/NextSeq/batch13_26Aug2020/mixcr/clones/CLONES_TRBCHP_396-04-PBMC-DNA.txt            | CHP_396-03_PBMC_DNA, CHP_396-04-PBMC-DNA | /Users/anabbi/Desktop/H4H/INTERCEPT/NextSeq/batch11_23Apr2020/mixcr/clones/CLONES_TRBCHP_396-03_PBMC_DNA.txt, /Users/anabbi/Desktop/H4H/INTERCEPT/NextSeq/batch13_26Aug2020/mixcr/clones/CLONES_TRBCHP_396-04-PBMC-DNA.txt | 340 |\n",
       "| CAAAGGSGVGYEQYF  | TRBV3-1  | TRBJ2-7 | CHP_393-05-PBMC-DNA | 151 | 0.0012674058 | TGTGCCGCCGCCGGGGGCAGCGGGGTGGGCTACGAGCAGTACTTC    | /Users/anabbi/Desktop/H4H/INTERCEPT/NextSeq/batch13_26Aug2020/mixcr/clones/CLONES_TRBCHP_393-05-PBMC-DNA.txt            | CHP_393-05-PBMC-DNA                      | /Users/anabbi/Desktop/H4H/INTERCEPT/NextSeq/batch13_26Aug2020/mixcr/clones/CLONES_TRBCHP_393-05-PBMC-DNA.txt                                                                                                               | 151 |\n",
       "| CAAARGFDEQYF     | TRBV10-3 | TRBJ2-7 | CHP-411-02-PBMC-DNA |  20 | 0.0001310135 | TGTGCCGCCGCACGGGGTTTCGACGAGCAGTACTTC             | /Users/anabbi/Desktop/H4H/INTERCEPT/NextSeq/remaining_batch_4_28June2021/mixcr/clones/CLONES_TRBCHP-411-02-PBMC-DNA.txt | CHP-411-02-PBMC-DNA                      | /Users/anabbi/Desktop/H4H/INTERCEPT/NextSeq/remaining_batch_4_28June2021/mixcr/clones/CLONES_TRBCHP-411-02-PBMC-DNA.txt                                                                                                    |  20 |\n",
       "| CAACEPEVRDTDTQYF | TRBV28   | TRBJ2-3 | CHP_338-05-PBMC-DNA |  11 | 0.0026397888 | TGTGCCGCCTGCGAACCTGAAGTACGGGACACAGATACGCAGTATTTT | /Users/anabbi/Desktop/H4H/INTERCEPT/NextSeq/batch2_Aug62019/mixcr/clones/CLONES_TRBCHP_338-05-PBMC-DNA.txt              | CHP_338-05-PBMC-DNA, CHP_338-05-PBMC-DNA | /Users/anabbi/Desktop/H4H/INTERCEPT/NextSeq/batch2_Aug62019/mixcr/clones/CLONES_TRBCHP_338-05-PBMC-DNA.txt, /Users/anabbi/Desktop/H4H/INTERCEPT/NextSeq/batch2_Aug62019/mixcr/clones/CLONES_TRBCHP_338-05-PBMC-DNA.txt     |  12 |\n",
       "\n"
      ],
      "text/plain": [
       "  CDR3b            TRBV     TRBJ    subject.condition   count.x clonefraction\n",
       "1 ADITWRGGQPQHF    TRBV3-2  TRBJ1-5 CHP_387-02_PBMC_DNA  12     0.0017035775 \n",
       "2 CAAAGGGEAFF      TRBV28   TRBJ1-1 CHP_396-03_PBMC_DNA  16     0.0033105731 \n",
       "3 CAAAGGGEAFF      TRBV28   TRBJ1-1 CHP_396-04-PBMC-DNA 324     0.0012697069 \n",
       "4 CAAAGGSGVGYEQYF  TRBV3-1  TRBJ2-7 CHP_393-05-PBMC-DNA 151     0.0012674058 \n",
       "5 CAAARGFDEQYF     TRBV10-3 TRBJ2-7 CHP-411-02-PBMC-DNA  20     0.0001310135 \n",
       "6 CAACEPEVRDTDTQYF TRBV28   TRBJ2-3 CHP_338-05-PBMC-DNA  11     0.0026397888 \n",
       "  nSeqCDR3                                        \n",
       "1 GCCGACATTACCTGGAGAGGGGGTCAGCCCCAGCATTTT         \n",
       "2 TGTGCCGCAGCGGGGGGAGGTGAAGCTTTCTTT               \n",
       "3 TGTGCCGCAGCGGGGGGAGGTGAAGCTTTCTTT               \n",
       "4 TGTGCCGCCGCCGGGGGCAGCGGGGTGGGCTACGAGCAGTACTTC   \n",
       "5 TGTGCCGCCGCACGGGGTTTCGACGAGCAGTACTTC            \n",
       "6 TGTGCCGCCTGCGAACCTGAAGTACGGGACACAGATACGCAGTATTTT\n",
       "  file.x                                                                                                                 \n",
       "1 /Users/anabbi/Desktop/H4H/INTERCEPT/NextSeq/batch11_23Apr2020/mixcr/clones/CLONES_TRBCHP_387-02_PBMC_DNA.txt           \n",
       "2 /Users/anabbi/Desktop/H4H/INTERCEPT/NextSeq/batch11_23Apr2020/mixcr/clones/CLONES_TRBCHP_396-03_PBMC_DNA.txt           \n",
       "3 /Users/anabbi/Desktop/H4H/INTERCEPT/NextSeq/batch13_26Aug2020/mixcr/clones/CLONES_TRBCHP_396-04-PBMC-DNA.txt           \n",
       "4 /Users/anabbi/Desktop/H4H/INTERCEPT/NextSeq/batch13_26Aug2020/mixcr/clones/CLONES_TRBCHP_393-05-PBMC-DNA.txt           \n",
       "5 /Users/anabbi/Desktop/H4H/INTERCEPT/NextSeq/remaining_batch_4_28June2021/mixcr/clones/CLONES_TRBCHP-411-02-PBMC-DNA.txt\n",
       "6 /Users/anabbi/Desktop/H4H/INTERCEPT/NextSeq/batch2_Aug62019/mixcr/clones/CLONES_TRBCHP_338-05-PBMC-DNA.txt             \n",
       "  subject                                 \n",
       "1 CHP_387-02_PBMC_DNA                     \n",
       "2 CHP_396-03_PBMC_DNA, CHP_396-04-PBMC-DNA\n",
       "3 CHP_396-03_PBMC_DNA, CHP_396-04-PBMC-DNA\n",
       "4 CHP_393-05-PBMC-DNA                     \n",
       "5 CHP-411-02-PBMC-DNA                     \n",
       "6 CHP_338-05-PBMC-DNA, CHP_338-05-PBMC-DNA\n",
       "  file.y                                                                                                                                                                                                                    \n",
       "1 /Users/anabbi/Desktop/H4H/INTERCEPT/NextSeq/batch11_23Apr2020/mixcr/clones/CLONES_TRBCHP_387-02_PBMC_DNA.txt                                                                                                              \n",
       "2 /Users/anabbi/Desktop/H4H/INTERCEPT/NextSeq/batch11_23Apr2020/mixcr/clones/CLONES_TRBCHP_396-03_PBMC_DNA.txt, /Users/anabbi/Desktop/H4H/INTERCEPT/NextSeq/batch13_26Aug2020/mixcr/clones/CLONES_TRBCHP_396-04-PBMC-DNA.txt\n",
       "3 /Users/anabbi/Desktop/H4H/INTERCEPT/NextSeq/batch11_23Apr2020/mixcr/clones/CLONES_TRBCHP_396-03_PBMC_DNA.txt, /Users/anabbi/Desktop/H4H/INTERCEPT/NextSeq/batch13_26Aug2020/mixcr/clones/CLONES_TRBCHP_396-04-PBMC-DNA.txt\n",
       "4 /Users/anabbi/Desktop/H4H/INTERCEPT/NextSeq/batch13_26Aug2020/mixcr/clones/CLONES_TRBCHP_393-05-PBMC-DNA.txt                                                                                                              \n",
       "5 /Users/anabbi/Desktop/H4H/INTERCEPT/NextSeq/remaining_batch_4_28June2021/mixcr/clones/CLONES_TRBCHP-411-02-PBMC-DNA.txt                                                                                                   \n",
       "6 /Users/anabbi/Desktop/H4H/INTERCEPT/NextSeq/batch2_Aug62019/mixcr/clones/CLONES_TRBCHP_338-05-PBMC-DNA.txt, /Users/anabbi/Desktop/H4H/INTERCEPT/NextSeq/batch2_Aug62019/mixcr/clones/CLONES_TRBCHP_338-05-PBMC-DNA.txt    \n",
       "  count.y\n",
       "1  12    \n",
       "2 340    \n",
       "3 340    \n",
       "4 151    \n",
       "5  20    \n",
       "6  12    "
      ]
     },
     "metadata": {},
     "output_type": "display_data"
    }
   ],
   "source": [
    "head(gliph_input_ab)"
   ]
  },
  {
   "cell_type": "code",
   "execution_count": 15,
   "metadata": {},
   "outputs": [],
   "source": [
    "#dedup\n",
    "gliph_input_ab_dedup <- dplyr::distinct(gliph_input_ab, CDR3b, TRBV, TRBJ, subject, .keep_all= TRUE)"
   ]
  },
  {
   "cell_type": "code",
   "execution_count": 16,
   "metadata": {},
   "outputs": [
    {
     "data": {
      "text/html": [
       "<style>\n",
       ".list-inline {list-style: none; margin:0; padding: 0}\n",
       ".list-inline>li {display: inline-block}\n",
       ".list-inline>li:not(:last-child)::after {content: \"\\00b7\"; padding: 0 .5ex}\n",
       "</style>\n",
       "<ol class=list-inline><li>72634</li><li>11</li></ol>\n"
      ],
      "text/latex": [
       "\\begin{enumerate*}\n",
       "\\item 72634\n",
       "\\item 11\n",
       "\\end{enumerate*}\n"
      ],
      "text/markdown": [
       "1. 72634\n",
       "2. 11\n",
       "\n",
       "\n"
      ],
      "text/plain": [
       "[1] 72634    11"
      ]
     },
     "metadata": {},
     "output_type": "display_data"
    },
    {
     "data": {
      "text/html": [
       "<style>\n",
       ".list-inline {list-style: none; margin:0; padding: 0}\n",
       ".list-inline>li {display: inline-block}\n",
       ".list-inline>li:not(:last-child)::after {content: \"\\00b7\"; padding: 0 .5ex}\n",
       "</style>\n",
       "<ol class=list-inline><li>68956</li><li>11</li></ol>\n"
      ],
      "text/latex": [
       "\\begin{enumerate*}\n",
       "\\item 68956\n",
       "\\item 11\n",
       "\\end{enumerate*}\n"
      ],
      "text/markdown": [
       "1. 68956\n",
       "2. 11\n",
       "\n",
       "\n"
      ],
      "text/plain": [
       "[1] 68956    11"
      ]
     },
     "metadata": {},
     "output_type": "display_data"
    }
   ],
   "source": [
    "dim(gliph_input_ab)\n",
    "dim(gliph_input_ab_dedup)"
   ]
  },
  {
   "cell_type": "code",
   "execution_count": 28,
   "metadata": {},
   "outputs": [
    {
     "data": {
      "text/html": [
       "'/Users/anabbi/OneDrive - UHN/Documents/INTERCEPT/Data/'"
      ],
      "text/latex": [
       "'/Users/anabbi/OneDrive - UHN/Documents/INTERCEPT/Data/'"
      ],
      "text/markdown": [
       "'/Users/anabbi/OneDrive - UHN/Documents/INTERCEPT/Data/'"
      ],
      "text/plain": [
       "[1] \"/Users/anabbi/OneDrive - UHN/Documents/INTERCEPT/Data/\""
      ]
     },
     "metadata": {},
     "output_type": "display_data"
    }
   ],
   "source": [
    "datapath"
   ]
  },
  {
   "cell_type": "code",
   "execution_count": 17,
   "metadata": {},
   "outputs": [],
   "source": [
    "#index column incase I want to map gliph_input_dedup_ab_subset back to gliph_input_dedup_ab\n",
    "gliph_input_ab_dedup$index <- 1:nrow(gliph_input_ab_dedup)"
   ]
  },
  {
   "cell_type": "code",
   "execution_count": 18,
   "metadata": {},
   "outputs": [],
   "source": [
    "save(gliph_input_ab_dedup, file = paste0(datapath, \"capTCRseq/gliph_input_ab_dedup.RData\"))"
   ]
  },
  {
   "cell_type": "code",
   "execution_count": 19,
   "metadata": {},
   "outputs": [
    {
     "data": {
      "text/html": [
       "<style>\n",
       ".list-inline {list-style: none; margin:0; padding: 0}\n",
       ".list-inline>li {display: inline-block}\n",
       ".list-inline>li:not(:last-child)::after {content: \"\\00b7\"; padding: 0 .5ex}\n",
       "</style>\n",
       "<ol class=list-inline><li>'CDR3b'</li><li>'TRBV'</li><li>'TRBJ'</li><li>'subject.condition'</li><li>'count.x'</li><li>'clonefraction'</li><li>'nSeqCDR3'</li><li>'file.x'</li><li>'subject'</li><li>'file.y'</li><li>'count.y'</li><li>'index'</li></ol>\n"
      ],
      "text/latex": [
       "\\begin{enumerate*}\n",
       "\\item 'CDR3b'\n",
       "\\item 'TRBV'\n",
       "\\item 'TRBJ'\n",
       "\\item 'subject.condition'\n",
       "\\item 'count.x'\n",
       "\\item 'clonefraction'\n",
       "\\item 'nSeqCDR3'\n",
       "\\item 'file.x'\n",
       "\\item 'subject'\n",
       "\\item 'file.y'\n",
       "\\item 'count.y'\n",
       "\\item 'index'\n",
       "\\end{enumerate*}\n"
      ],
      "text/markdown": [
       "1. 'CDR3b'\n",
       "2. 'TRBV'\n",
       "3. 'TRBJ'\n",
       "4. 'subject.condition'\n",
       "5. 'count.x'\n",
       "6. 'clonefraction'\n",
       "7. 'nSeqCDR3'\n",
       "8. 'file.x'\n",
       "9. 'subject'\n",
       "10. 'file.y'\n",
       "11. 'count.y'\n",
       "12. 'index'\n",
       "\n",
       "\n"
      ],
      "text/plain": [
       " [1] \"CDR3b\"             \"TRBV\"              \"TRBJ\"             \n",
       " [4] \"subject.condition\" \"count.x\"           \"clonefraction\"    \n",
       " [7] \"nSeqCDR3\"          \"file.x\"            \"subject\"          \n",
       "[10] \"file.y\"            \"count.y\"           \"index\"            "
      ]
     },
     "metadata": {},
     "output_type": "display_data"
    }
   ],
   "source": [
    "colnames(gliph_input_ab_dedup)"
   ]
  },
  {
   "cell_type": "code",
   "execution_count": 20,
   "metadata": {},
   "outputs": [],
   "source": [
    "#reorder and subset to input to gliph\n",
    "gliph_input_ab_dedup_subset <- gliph_input_ab_dedup[, c(\"CDR3b\", \"TRBV\", \"TRBJ\", \"subject\", \"count.y\", \"file.y\", \"index\")]\n",
    "                                                         "
   ]
  },
  {
   "cell_type": "code",
   "execution_count": 21,
   "metadata": {},
   "outputs": [],
   "source": [
    "colnames(gliph_input_ab_dedup_subset) <- c(\"CDR3b\", \"TRBV\", \"TRBJ\", \"subject:condition\", \"count\", \"file\", \"index\")"
   ]
  },
  {
   "cell_type": "code",
   "execution_count": 22,
   "metadata": {},
   "outputs": [],
   "source": [
    "save(gliph_input_ab_dedup_subset, file = paste0(datapath, \"capTCRseq/gliph_input_ab_dedup_subset.RData\"))"
   ]
  },
  {
   "cell_type": "markdown",
   "metadata": {},
   "source": [
    "## bind COVID data"
   ]
  },
  {
   "cell_type": "code",
   "execution_count": 23,
   "metadata": {},
   "outputs": [],
   "source": [
    "covidfle <- read.table('/Users/anabbi/Desktop/H4H/projects/COVID-19/tcr-cap/Adaptive/MIRA/ImmuneCODE-MIRA-Release002.1/COVID_specific_TCRB.tsv',\n",
    "                       sep = \"\\t\", header = F)"
   ]
  },
  {
   "cell_type": "code",
   "execution_count": 24,
   "metadata": {},
   "outputs": [
    {
     "data": {
      "text/html": [
       "<style>\n",
       ".list-inline {list-style: none; margin:0; padding: 0}\n",
       ".list-inline>li {display: inline-block}\n",
       ".list-inline>li:not(:last-child)::after {content: \"\\00b7\"; padding: 0 .5ex}\n",
       "</style>\n",
       "<ol class=list-inline><li>162651</li><li>6</li></ol>\n"
      ],
      "text/latex": [
       "\\begin{enumerate*}\n",
       "\\item 162651\n",
       "\\item 6\n",
       "\\end{enumerate*}\n"
      ],
      "text/markdown": [
       "1. 162651\n",
       "2. 6\n",
       "\n",
       "\n"
      ],
      "text/plain": [
       "[1] 162651      6"
      ]
     },
     "metadata": {},
     "output_type": "display_data"
    }
   ],
   "source": [
    "dim(covidfle)"
   ]
  },
  {
   "cell_type": "code",
   "execution_count": 25,
   "metadata": {},
   "outputs": [],
   "source": [
    "#remove unproductive\n",
    "covidfle <- covidfle[!grepl(\"[*]\", covidfle$V1),]\n",
    "covidfle <- covidfle[ covidfle$V1 != \"unproductive\",]"
   ]
  },
  {
   "cell_type": "code",
   "execution_count": 26,
   "metadata": {},
   "outputs": [
    {
     "data": {
      "text/html": [
       "<style>\n",
       ".list-inline {list-style: none; margin:0; padding: 0}\n",
       ".list-inline>li {display: inline-block}\n",
       ".list-inline>li:not(:last-child)::after {content: \"\\00b7\"; padding: 0 .5ex}\n",
       "</style>\n",
       "<ol class=list-inline><li>160130</li><li>6</li></ol>\n"
      ],
      "text/latex": [
       "\\begin{enumerate*}\n",
       "\\item 160130\n",
       "\\item 6\n",
       "\\end{enumerate*}\n"
      ],
      "text/markdown": [
       "1. 160130\n",
       "2. 6\n",
       "\n",
       "\n"
      ],
      "text/plain": [
       "[1] 160130      6"
      ]
     },
     "metadata": {},
     "output_type": "display_data"
    }
   ],
   "source": [
    "dim(covidfle)"
   ]
  },
  {
   "cell_type": "code",
   "execution_count": 27,
   "metadata": {},
   "outputs": [],
   "source": [
    "#remove duplicated entries\n",
    "covidfle_uniq <- unique(covidfle)"
   ]
  },
  {
   "cell_type": "code",
   "execution_count": 28,
   "metadata": {},
   "outputs": [
    {
     "data": {
      "text/html": [
       "<style>\n",
       ".list-inline {list-style: none; margin:0; padding: 0}\n",
       ".list-inline>li {display: inline-block}\n",
       ".list-inline>li:not(:last-child)::after {content: \"\\00b7\"; padding: 0 .5ex}\n",
       "</style>\n",
       "<ol class=list-inline><li>156033</li><li>6</li></ol>\n"
      ],
      "text/latex": [
       "\\begin{enumerate*}\n",
       "\\item 156033\n",
       "\\item 6\n",
       "\\end{enumerate*}\n"
      ],
      "text/markdown": [
       "1. 156033\n",
       "2. 6\n",
       "\n",
       "\n"
      ],
      "text/plain": [
       "[1] 156033      6"
      ]
     },
     "metadata": {},
     "output_type": "display_data"
    }
   ],
   "source": [
    "dim(covidfle_uniq)"
   ]
  },
  {
   "cell_type": "code",
   "execution_count": 31,
   "metadata": {},
   "outputs": [],
   "source": [
    "covidfle_uniq$V4 <- NULL"
   ]
  },
  {
   "cell_type": "code",
   "execution_count": 32,
   "metadata": {},
   "outputs": [
    {
     "data": {
      "text/html": [
       "<table class=\"dataframe\">\n",
       "<caption>A data.frame: 6 × 5</caption>\n",
       "<thead>\n",
       "\t<tr><th></th><th scope=col>V1</th><th scope=col>V2</th><th scope=col>V3</th><th scope=col>V5</th><th scope=col>V6</th></tr>\n",
       "\t<tr><th></th><th scope=col>&lt;chr&gt;</th><th scope=col>&lt;chr&gt;</th><th scope=col>&lt;chr&gt;</th><th scope=col>&lt;chr&gt;</th><th scope=col>&lt;int&gt;</th></tr>\n",
       "</thead>\n",
       "<tbody>\n",
       "\t<tr><th scope=row>1</th><td>CASGRHNSPLHF   </td><td>TCRBV12-03/12-04</td><td>TCRBJ01-06</td><td>eJL143</td><td>1</td></tr>\n",
       "\t<tr><th scope=row>2</th><td>CASRPAGVRNEQFF </td><td>TCRBV06-06      </td><td>TCRBJ02-01</td><td>eJL146</td><td>1</td></tr>\n",
       "\t<tr><th scope=row>3</th><td>CSASPRTLWGEQFF </td><td>TCRBV20-X       </td><td>TCRBJ02-01</td><td>eJL146</td><td>1</td></tr>\n",
       "\t<tr><th scope=row>4</th><td>CASSLVTSVKDTQYF</td><td>TCRBV05-01      </td><td>TCRBJ02-03</td><td>eJL146</td><td>1</td></tr>\n",
       "\t<tr><th scope=row>5</th><td>CASSAIVAVYGYTF </td><td>TCRBV07-08      </td><td>TCRBJ01-02</td><td>eJL146</td><td>1</td></tr>\n",
       "\t<tr><th scope=row>6</th><td>CSVYSAGELFF    </td><td>TCRBV29-01      </td><td>TCRBJ02-02</td><td>eJL146</td><td>1</td></tr>\n",
       "</tbody>\n",
       "</table>\n"
      ],
      "text/latex": [
       "A data.frame: 6 × 5\n",
       "\\begin{tabular}{r|lllll}\n",
       "  & V1 & V2 & V3 & V5 & V6\\\\\n",
       "  & <chr> & <chr> & <chr> & <chr> & <int>\\\\\n",
       "\\hline\n",
       "\t1 & CASGRHNSPLHF    & TCRBV12-03/12-04 & TCRBJ01-06 & eJL143 & 1\\\\\n",
       "\t2 & CASRPAGVRNEQFF  & TCRBV06-06       & TCRBJ02-01 & eJL146 & 1\\\\\n",
       "\t3 & CSASPRTLWGEQFF  & TCRBV20-X        & TCRBJ02-01 & eJL146 & 1\\\\\n",
       "\t4 & CASSLVTSVKDTQYF & TCRBV05-01       & TCRBJ02-03 & eJL146 & 1\\\\\n",
       "\t5 & CASSAIVAVYGYTF  & TCRBV07-08       & TCRBJ01-02 & eJL146 & 1\\\\\n",
       "\t6 & CSVYSAGELFF     & TCRBV29-01       & TCRBJ02-02 & eJL146 & 1\\\\\n",
       "\\end{tabular}\n"
      ],
      "text/markdown": [
       "\n",
       "A data.frame: 6 × 5\n",
       "\n",
       "| <!--/--> | V1 &lt;chr&gt; | V2 &lt;chr&gt; | V3 &lt;chr&gt; | V5 &lt;chr&gt; | V6 &lt;int&gt; |\n",
       "|---|---|---|---|---|---|\n",
       "| 1 | CASGRHNSPLHF    | TCRBV12-03/12-04 | TCRBJ01-06 | eJL143 | 1 |\n",
       "| 2 | CASRPAGVRNEQFF  | TCRBV06-06       | TCRBJ02-01 | eJL146 | 1 |\n",
       "| 3 | CSASPRTLWGEQFF  | TCRBV20-X        | TCRBJ02-01 | eJL146 | 1 |\n",
       "| 4 | CASSLVTSVKDTQYF | TCRBV05-01       | TCRBJ02-03 | eJL146 | 1 |\n",
       "| 5 | CASSAIVAVYGYTF  | TCRBV07-08       | TCRBJ01-02 | eJL146 | 1 |\n",
       "| 6 | CSVYSAGELFF     | TCRBV29-01       | TCRBJ02-02 | eJL146 | 1 |\n",
       "\n"
      ],
      "text/plain": [
       "  V1              V2               V3         V5     V6\n",
       "1 CASGRHNSPLHF    TCRBV12-03/12-04 TCRBJ01-06 eJL143 1 \n",
       "2 CASRPAGVRNEQFF  TCRBV06-06       TCRBJ02-01 eJL146 1 \n",
       "3 CSASPRTLWGEQFF  TCRBV20-X        TCRBJ02-01 eJL146 1 \n",
       "4 CASSLVTSVKDTQYF TCRBV05-01       TCRBJ02-03 eJL146 1 \n",
       "5 CASSAIVAVYGYTF  TCRBV07-08       TCRBJ01-02 eJL146 1 \n",
       "6 CSVYSAGELFF     TCRBV29-01       TCRBJ02-02 eJL146 1 "
      ]
     },
     "metadata": {},
     "output_type": "display_data"
    }
   ],
   "source": [
    "head(covidfle_uniq)"
   ]
  },
  {
   "cell_type": "code",
   "execution_count": 33,
   "metadata": {},
   "outputs": [],
   "source": [
    "colnames(covidfle_uniq) <- c(\"CDR3b\", \"TRBV\", \"TRBJ\", \"subject:condition\", \"count\")"
   ]
  },
  {
   "cell_type": "code",
   "execution_count": 34,
   "metadata": {},
   "outputs": [
    {
     "data": {
      "text/html": [
       "<style>\n",
       ".list-inline {list-style: none; margin:0; padding: 0}\n",
       ".list-inline>li {display: inline-block}\n",
       ".list-inline>li:not(:last-child)::after {content: \"\\00b7\"; padding: 0 .5ex}\n",
       "</style>\n",
       "<ol class=list-inline><li>'CDR3b'</li><li>'TRBV'</li><li>'TRBJ'</li><li>'subject:condition'</li><li>'count'</li></ol>\n"
      ],
      "text/latex": [
       "\\begin{enumerate*}\n",
       "\\item 'CDR3b'\n",
       "\\item 'TRBV'\n",
       "\\item 'TRBJ'\n",
       "\\item 'subject:condition'\n",
       "\\item 'count'\n",
       "\\end{enumerate*}\n"
      ],
      "text/markdown": [
       "1. 'CDR3b'\n",
       "2. 'TRBV'\n",
       "3. 'TRBJ'\n",
       "4. 'subject:condition'\n",
       "5. 'count'\n",
       "\n",
       "\n"
      ],
      "text/plain": [
       "[1] \"CDR3b\"             \"TRBV\"              \"TRBJ\"             \n",
       "[4] \"subject:condition\" \"count\"            "
      ]
     },
     "metadata": {},
     "output_type": "display_data"
    }
   ],
   "source": [
    "colnames(covidfle_uniq)"
   ]
  },
  {
   "cell_type": "code",
   "execution_count": 35,
   "metadata": {},
   "outputs": [],
   "source": [
    "#bind those with the same cdr3 + TRBV + TRBJ\n",
    "setDT(covidfle_uniq)\n",
    "\n",
    "ab <- covidfle_uniq[, .(subject = toString(`subject:condition`), #bind subjects\n",
    "                        count = sum(count)),  #get sum of counts\n",
    "                    by = c(\"CDR3b\", \"TRBV\", \"TRBJ\")] #get duplicates sequences with the same cdr3 + TRBV + TRBJ\n",
    "\n",
    "covidfle_uniq_ab <- merge(covidfle_uniq, ab, by = c(\"CDR3b\",\"TRBV\",\"TRBJ\")) # merge together"
   ]
  },
  {
   "cell_type": "code",
   "execution_count": 36,
   "metadata": {},
   "outputs": [
    {
     "data": {
      "text/html": [
       "<style>\n",
       ".list-inline {list-style: none; margin:0; padding: 0}\n",
       ".list-inline>li {display: inline-block}\n",
       ".list-inline>li:not(:last-child)::after {content: \"\\00b7\"; padding: 0 .5ex}\n",
       "</style>\n",
       "<ol class=list-inline><li>156033</li><li>7</li></ol>\n"
      ],
      "text/latex": [
       "\\begin{enumerate*}\n",
       "\\item 156033\n",
       "\\item 7\n",
       "\\end{enumerate*}\n"
      ],
      "text/markdown": [
       "1. 156033\n",
       "2. 7\n",
       "\n",
       "\n"
      ],
      "text/plain": [
       "[1] 156033      7"
      ]
     },
     "metadata": {},
     "output_type": "display_data"
    }
   ],
   "source": [
    "dim(covidfle_uniq_ab)"
   ]
  },
  {
   "cell_type": "code",
   "execution_count": 37,
   "metadata": {},
   "outputs": [
    {
     "data": {
      "text/html": [
       "<style>\n",
       ".list-inline {list-style: none; margin:0; padding: 0}\n",
       ".list-inline>li {display: inline-block}\n",
       ".list-inline>li:not(:last-child)::after {content: \"\\00b7\"; padding: 0 .5ex}\n",
       "</style>\n",
       "<ol class=list-inline><li>'CDR3b'</li><li>'TRBV'</li><li>'TRBJ'</li><li>'subject:condition'</li><li>'count.x'</li><li>'subject'</li><li>'count.y'</li></ol>\n"
      ],
      "text/latex": [
       "\\begin{enumerate*}\n",
       "\\item 'CDR3b'\n",
       "\\item 'TRBV'\n",
       "\\item 'TRBJ'\n",
       "\\item 'subject:condition'\n",
       "\\item 'count.x'\n",
       "\\item 'subject'\n",
       "\\item 'count.y'\n",
       "\\end{enumerate*}\n"
      ],
      "text/markdown": [
       "1. 'CDR3b'\n",
       "2. 'TRBV'\n",
       "3. 'TRBJ'\n",
       "4. 'subject:condition'\n",
       "5. 'count.x'\n",
       "6. 'subject'\n",
       "7. 'count.y'\n",
       "\n",
       "\n"
      ],
      "text/plain": [
       "[1] \"CDR3b\"             \"TRBV\"              \"TRBJ\"             \n",
       "[4] \"subject:condition\" \"count.x\"           \"subject\"          \n",
       "[7] \"count.y\"          "
      ]
     },
     "metadata": {},
     "output_type": "display_data"
    }
   ],
   "source": [
    "colnames(covidfle_uniq_ab)"
   ]
  },
  {
   "cell_type": "code",
   "execution_count": 38,
   "metadata": {},
   "outputs": [],
   "source": [
    "#dedup\n",
    "covidfle_uniq_ab_dedup <- dplyr::distinct(covidfle_uniq_ab, \n",
    "                                          CDR3b, TRBV, TRBJ, subject, .keep_all= TRUE)"
   ]
  },
  {
   "cell_type": "code",
   "execution_count": 39,
   "metadata": {},
   "outputs": [
    {
     "data": {
      "text/html": [
       "<style>\n",
       ".list-inline {list-style: none; margin:0; padding: 0}\n",
       ".list-inline>li {display: inline-block}\n",
       ".list-inline>li:not(:last-child)::after {content: \"\\00b7\"; padding: 0 .5ex}\n",
       "</style>\n",
       "<ol class=list-inline><li>148678</li><li>7</li></ol>\n"
      ],
      "text/latex": [
       "\\begin{enumerate*}\n",
       "\\item 148678\n",
       "\\item 7\n",
       "\\end{enumerate*}\n"
      ],
      "text/markdown": [
       "1. 148678\n",
       "2. 7\n",
       "\n",
       "\n"
      ],
      "text/plain": [
       "[1] 148678      7"
      ]
     },
     "metadata": {},
     "output_type": "display_data"
    }
   ],
   "source": [
    "dim(covidfle_uniq_ab_dedup)"
   ]
  },
  {
   "cell_type": "code",
   "execution_count": 40,
   "metadata": {},
   "outputs": [
    {
     "data": {
      "text/html": [
       "<table class=\"dataframe\">\n",
       "<caption>A data.table: 6 × 7</caption>\n",
       "<thead>\n",
       "\t<tr><th scope=col>CDR3b</th><th scope=col>TRBV</th><th scope=col>TRBJ</th><th scope=col>subject:condition</th><th scope=col>count.x</th><th scope=col>subject</th><th scope=col>count.y</th></tr>\n",
       "\t<tr><th scope=col>&lt;chr&gt;</th><th scope=col>&lt;chr&gt;</th><th scope=col>&lt;chr&gt;</th><th scope=col>&lt;chr&gt;</th><th scope=col>&lt;int&gt;</th><th scope=col>&lt;chr&gt;</th><th scope=col>&lt;int&gt;</th></tr>\n",
       "</thead>\n",
       "<tbody>\n",
       "\t<tr><td>AGVKITNSYEQYF   </td><td>TCRBV20-X </td><td>TCRBJ02-07</td><td>eHO134</td><td>1</td><td>eHO134</td><td>1</td></tr>\n",
       "\t<tr><td>AKNIQYF         </td><td>TCRBV27-01</td><td>TCRBJ02-04</td><td>eQD126</td><td>1</td><td>eQD126</td><td>1</td></tr>\n",
       "\t<tr><td>APYASKRAGYDNEQFF</td><td>TCRBV06-X </td><td>TCRBJ02-01</td><td>eHO141</td><td>1</td><td>eHO141</td><td>1</td></tr>\n",
       "\t<tr><td>ARLFSGANVLTF    </td><td>TCRBV07-02</td><td>TCRBJ02-06</td><td>eXL27 </td><td>1</td><td>eXL27 </td><td>1</td></tr>\n",
       "\t<tr><td>CAAAAPDTQYF     </td><td>TCRBV06-X </td><td>TCRBJ02-03</td><td>eOX46 </td><td>1</td><td>eOX46 </td><td>1</td></tr>\n",
       "\t<tr><td>CAAADRMTDTQYF   </td><td>TCRBV24-01</td><td>TCRBJ02-03</td><td>eHO130</td><td>1</td><td>eHO130</td><td>1</td></tr>\n",
       "</tbody>\n",
       "</table>\n"
      ],
      "text/latex": [
       "A data.table: 6 × 7\n",
       "\\begin{tabular}{lllllll}\n",
       " CDR3b & TRBV & TRBJ & subject:condition & count.x & subject & count.y\\\\\n",
       " <chr> & <chr> & <chr> & <chr> & <int> & <chr> & <int>\\\\\n",
       "\\hline\n",
       "\t AGVKITNSYEQYF    & TCRBV20-X  & TCRBJ02-07 & eHO134 & 1 & eHO134 & 1\\\\\n",
       "\t AKNIQYF          & TCRBV27-01 & TCRBJ02-04 & eQD126 & 1 & eQD126 & 1\\\\\n",
       "\t APYASKRAGYDNEQFF & TCRBV06-X  & TCRBJ02-01 & eHO141 & 1 & eHO141 & 1\\\\\n",
       "\t ARLFSGANVLTF     & TCRBV07-02 & TCRBJ02-06 & eXL27  & 1 & eXL27  & 1\\\\\n",
       "\t CAAAAPDTQYF      & TCRBV06-X  & TCRBJ02-03 & eOX46  & 1 & eOX46  & 1\\\\\n",
       "\t CAAADRMTDTQYF    & TCRBV24-01 & TCRBJ02-03 & eHO130 & 1 & eHO130 & 1\\\\\n",
       "\\end{tabular}\n"
      ],
      "text/markdown": [
       "\n",
       "A data.table: 6 × 7\n",
       "\n",
       "| CDR3b &lt;chr&gt; | TRBV &lt;chr&gt; | TRBJ &lt;chr&gt; | subject:condition &lt;chr&gt; | count.x &lt;int&gt; | subject &lt;chr&gt; | count.y &lt;int&gt; |\n",
       "|---|---|---|---|---|---|---|\n",
       "| AGVKITNSYEQYF    | TCRBV20-X  | TCRBJ02-07 | eHO134 | 1 | eHO134 | 1 |\n",
       "| AKNIQYF          | TCRBV27-01 | TCRBJ02-04 | eQD126 | 1 | eQD126 | 1 |\n",
       "| APYASKRAGYDNEQFF | TCRBV06-X  | TCRBJ02-01 | eHO141 | 1 | eHO141 | 1 |\n",
       "| ARLFSGANVLTF     | TCRBV07-02 | TCRBJ02-06 | eXL27  | 1 | eXL27  | 1 |\n",
       "| CAAAAPDTQYF      | TCRBV06-X  | TCRBJ02-03 | eOX46  | 1 | eOX46  | 1 |\n",
       "| CAAADRMTDTQYF    | TCRBV24-01 | TCRBJ02-03 | eHO130 | 1 | eHO130 | 1 |\n",
       "\n"
      ],
      "text/plain": [
       "  CDR3b            TRBV       TRBJ       subject:condition count.x subject\n",
       "1 AGVKITNSYEQYF    TCRBV20-X  TCRBJ02-07 eHO134            1       eHO134 \n",
       "2 AKNIQYF          TCRBV27-01 TCRBJ02-04 eQD126            1       eQD126 \n",
       "3 APYASKRAGYDNEQFF TCRBV06-X  TCRBJ02-01 eHO141            1       eHO141 \n",
       "4 ARLFSGANVLTF     TCRBV07-02 TCRBJ02-06 eXL27             1       eXL27  \n",
       "5 CAAAAPDTQYF      TCRBV06-X  TCRBJ02-03 eOX46             1       eOX46  \n",
       "6 CAAADRMTDTQYF    TCRBV24-01 TCRBJ02-03 eHO130            1       eHO130 \n",
       "  count.y\n",
       "1 1      \n",
       "2 1      \n",
       "3 1      \n",
       "4 1      \n",
       "5 1      \n",
       "6 1      "
      ]
     },
     "metadata": {},
     "output_type": "display_data"
    }
   ],
   "source": [
    "head(covidfle_uniq_ab_dedup)"
   ]
  },
  {
   "cell_type": "code",
   "execution_count": 41,
   "metadata": {},
   "outputs": [],
   "source": [
    "#replaqce TCRB with TRB\n",
    "covidfle_uniq_ab_dedup$TRBV <- gsub(\"TCRB\", \"TRB\", covidfle_uniq_ab_dedup$TRBV)\n",
    "covidfle_uniq_ab_dedup$TRBJ <- gsub(\"TCRB\", \"TRB\", covidfle_uniq_ab_dedup$TRBJ)"
   ]
  },
  {
   "cell_type": "code",
   "execution_count": 42,
   "metadata": {},
   "outputs": [],
   "source": [
    "covidfle_uniq_ab_dedup$index <- 1:nrow(covidfle_uniq_ab_dedup)"
   ]
  },
  {
   "cell_type": "code",
   "execution_count": 43,
   "metadata": {},
   "outputs": [
    {
     "data": {
      "text/html": [
       "<table class=\"dataframe\">\n",
       "<caption>A data.table: 6 × 8</caption>\n",
       "<thead>\n",
       "\t<tr><th scope=col>CDR3b</th><th scope=col>TRBV</th><th scope=col>TRBJ</th><th scope=col>subject:condition</th><th scope=col>count.x</th><th scope=col>subject</th><th scope=col>count.y</th><th scope=col>index</th></tr>\n",
       "\t<tr><th scope=col>&lt;chr&gt;</th><th scope=col>&lt;chr&gt;</th><th scope=col>&lt;chr&gt;</th><th scope=col>&lt;chr&gt;</th><th scope=col>&lt;int&gt;</th><th scope=col>&lt;chr&gt;</th><th scope=col>&lt;int&gt;</th><th scope=col>&lt;int&gt;</th></tr>\n",
       "</thead>\n",
       "<tbody>\n",
       "\t<tr><td>AGVKITNSYEQYF   </td><td>TRBV20-X </td><td>TRBJ02-07</td><td>eHO134</td><td>1</td><td>eHO134</td><td>1</td><td>1</td></tr>\n",
       "\t<tr><td>AKNIQYF         </td><td>TRBV27-01</td><td>TRBJ02-04</td><td>eQD126</td><td>1</td><td>eQD126</td><td>1</td><td>2</td></tr>\n",
       "\t<tr><td>APYASKRAGYDNEQFF</td><td>TRBV06-X </td><td>TRBJ02-01</td><td>eHO141</td><td>1</td><td>eHO141</td><td>1</td><td>3</td></tr>\n",
       "\t<tr><td>ARLFSGANVLTF    </td><td>TRBV07-02</td><td>TRBJ02-06</td><td>eXL27 </td><td>1</td><td>eXL27 </td><td>1</td><td>4</td></tr>\n",
       "\t<tr><td>CAAAAPDTQYF     </td><td>TRBV06-X </td><td>TRBJ02-03</td><td>eOX46 </td><td>1</td><td>eOX46 </td><td>1</td><td>5</td></tr>\n",
       "\t<tr><td>CAAADRMTDTQYF   </td><td>TRBV24-01</td><td>TRBJ02-03</td><td>eHO130</td><td>1</td><td>eHO130</td><td>1</td><td>6</td></tr>\n",
       "</tbody>\n",
       "</table>\n"
      ],
      "text/latex": [
       "A data.table: 6 × 8\n",
       "\\begin{tabular}{llllllll}\n",
       " CDR3b & TRBV & TRBJ & subject:condition & count.x & subject & count.y & index\\\\\n",
       " <chr> & <chr> & <chr> & <chr> & <int> & <chr> & <int> & <int>\\\\\n",
       "\\hline\n",
       "\t AGVKITNSYEQYF    & TRBV20-X  & TRBJ02-07 & eHO134 & 1 & eHO134 & 1 & 1\\\\\n",
       "\t AKNIQYF          & TRBV27-01 & TRBJ02-04 & eQD126 & 1 & eQD126 & 1 & 2\\\\\n",
       "\t APYASKRAGYDNEQFF & TRBV06-X  & TRBJ02-01 & eHO141 & 1 & eHO141 & 1 & 3\\\\\n",
       "\t ARLFSGANVLTF     & TRBV07-02 & TRBJ02-06 & eXL27  & 1 & eXL27  & 1 & 4\\\\\n",
       "\t CAAAAPDTQYF      & TRBV06-X  & TRBJ02-03 & eOX46  & 1 & eOX46  & 1 & 5\\\\\n",
       "\t CAAADRMTDTQYF    & TRBV24-01 & TRBJ02-03 & eHO130 & 1 & eHO130 & 1 & 6\\\\\n",
       "\\end{tabular}\n"
      ],
      "text/markdown": [
       "\n",
       "A data.table: 6 × 8\n",
       "\n",
       "| CDR3b &lt;chr&gt; | TRBV &lt;chr&gt; | TRBJ &lt;chr&gt; | subject:condition &lt;chr&gt; | count.x &lt;int&gt; | subject &lt;chr&gt; | count.y &lt;int&gt; | index &lt;int&gt; |\n",
       "|---|---|---|---|---|---|---|---|\n",
       "| AGVKITNSYEQYF    | TRBV20-X  | TRBJ02-07 | eHO134 | 1 | eHO134 | 1 | 1 |\n",
       "| AKNIQYF          | TRBV27-01 | TRBJ02-04 | eQD126 | 1 | eQD126 | 1 | 2 |\n",
       "| APYASKRAGYDNEQFF | TRBV06-X  | TRBJ02-01 | eHO141 | 1 | eHO141 | 1 | 3 |\n",
       "| ARLFSGANVLTF     | TRBV07-02 | TRBJ02-06 | eXL27  | 1 | eXL27  | 1 | 4 |\n",
       "| CAAAAPDTQYF      | TRBV06-X  | TRBJ02-03 | eOX46  | 1 | eOX46  | 1 | 5 |\n",
       "| CAAADRMTDTQYF    | TRBV24-01 | TRBJ02-03 | eHO130 | 1 | eHO130 | 1 | 6 |\n",
       "\n"
      ],
      "text/plain": [
       "  CDR3b            TRBV      TRBJ      subject:condition count.x subject\n",
       "1 AGVKITNSYEQYF    TRBV20-X  TRBJ02-07 eHO134            1       eHO134 \n",
       "2 AKNIQYF          TRBV27-01 TRBJ02-04 eQD126            1       eQD126 \n",
       "3 APYASKRAGYDNEQFF TRBV06-X  TRBJ02-01 eHO141            1       eHO141 \n",
       "4 ARLFSGANVLTF     TRBV07-02 TRBJ02-06 eXL27             1       eXL27  \n",
       "5 CAAAAPDTQYF      TRBV06-X  TRBJ02-03 eOX46             1       eOX46  \n",
       "6 CAAADRMTDTQYF    TRBV24-01 TRBJ02-03 eHO130            1       eHO130 \n",
       "  count.y index\n",
       "1 1       1    \n",
       "2 1       2    \n",
       "3 1       3    \n",
       "4 1       4    \n",
       "5 1       5    \n",
       "6 1       6    "
      ]
     },
     "metadata": {},
     "output_type": "display_data"
    }
   ],
   "source": [
    "head(covidfle_uniq_ab_dedup)"
   ]
  },
  {
   "cell_type": "code",
   "execution_count": 44,
   "metadata": {},
   "outputs": [
    {
     "data": {
      "text/html": [
       "<table class=\"dataframe\">\n",
       "<caption>A data.table: 6 × 8</caption>\n",
       "<thead>\n",
       "\t<tr><th scope=col>CDR3b</th><th scope=col>TRBV</th><th scope=col>TRBJ</th><th scope=col>subject:condition</th><th scope=col>count.x</th><th scope=col>subject</th><th scope=col>count.y</th><th scope=col>index</th></tr>\n",
       "\t<tr><th scope=col>&lt;chr&gt;</th><th scope=col>&lt;chr&gt;</th><th scope=col>&lt;chr&gt;</th><th scope=col>&lt;chr&gt;</th><th scope=col>&lt;int&gt;</th><th scope=col>&lt;chr&gt;</th><th scope=col>&lt;int&gt;</th><th scope=col>&lt;int&gt;</th></tr>\n",
       "</thead>\n",
       "<tbody>\n",
       "\t<tr><td>CASSIRSSYEQYF  </td><td>TRBV19-01      </td><td>TRBJ02-07</td><td>eOX46 </td><td>1</td><td>eOX46, ePD84, eHO128, eHO132, eHO125, ePD83, eHO136, eLH41, eHO124, ePD86, eLH42, eHO130, ePD76, eQD137, eQD123, eMR20, eEE243, eHH173, eHH174, eQD124, eHH169, eEE228, eXL27, eQD115, eXL36, eMR12, eLH47, eDH113, eEE226, eXL37, eDH96, eXL30</td><td>32</td><td> 39668</td></tr>\n",
       "\t<tr><td>CASSQTGGRNQPQHF</td><td>TRBV12-X       </td><td>TRBJ01-05</td><td>eLH41 </td><td>1</td><td>eLH41, eJL164, eXL31, eHO132, ePD86, eAV88, ePD84, eEE243, eXL37, eQD118, eEE224, eXL27, eMR12, eOX56, eLH47, eMR18, eLH46, eQD136, eOX43, eOX54, ePD76                                                                                        </td><td>21</td><td> 93523</td></tr>\n",
       "\t<tr><td>CASSLAGAYEQYF  </td><td>TRBV05-01      </td><td>TRBJ02-07</td><td>eJL143</td><td>1</td><td>eJL143, ePD79, eHH175, eLH45, eHO126, eXL31, eLH49, eLH42, eJL157, eHO135, eLH54, eMR14, eLH47, eAV91, eQD109, eQD111, eMR23, eQD123, eMR15                                                                                                    </td><td>19</td><td> 42124</td></tr>\n",
       "\t<tr><td>CASSFSYEQYF    </td><td>TRBV12-03/12-04</td><td>TRBJ02-07</td><td>eEE243</td><td>1</td><td>eEE243, eHH175, eXL30, eHO130, eJL149, eAV88, eXL27, eOX54, eEE224, eEE228, eOX49, eEE226, eOX52, eEE240, eOX46, eOX43, eXL31                                                                                                                  </td><td>17</td><td> 31270</td></tr>\n",
       "\t<tr><td>CASSLSAPQETQYF </td><td>TRBV27-01      </td><td>TRBJ02-05</td><td>eMR17 </td><td>1</td><td>eMR17, eJL161, eHO134, eQD124, eMR13, eQD111, eQD121, eHO140, eMR12, eQD125, eLH47, eEE226, eQD126, eQD114, eQD110, eQD120                                                                                                                     </td><td>16</td><td> 60393</td></tr>\n",
       "\t<tr><td>CASSVGETQYF    </td><td>TRBV09-01      </td><td>TRBJ02-05</td><td>eOX56 </td><td>1</td><td>eOX56, eEE224, eEE226, eEE228, eOX49, eOX54, eOX52, eXL27, eXL30, eOX43, eOX46, eXL32, eEE240, eAV88, eQD128, eHH175                                                                                                                           </td><td>16</td><td>109659</td></tr>\n",
       "</tbody>\n",
       "</table>\n"
      ],
      "text/latex": [
       "A data.table: 6 × 8\n",
       "\\begin{tabular}{llllllll}\n",
       " CDR3b & TRBV & TRBJ & subject:condition & count.x & subject & count.y & index\\\\\n",
       " <chr> & <chr> & <chr> & <chr> & <int> & <chr> & <int> & <int>\\\\\n",
       "\\hline\n",
       "\t CASSIRSSYEQYF   & TRBV19-01       & TRBJ02-07 & eOX46  & 1 & eOX46, ePD84, eHO128, eHO132, eHO125, ePD83, eHO136, eLH41, eHO124, ePD86, eLH42, eHO130, ePD76, eQD137, eQD123, eMR20, eEE243, eHH173, eHH174, eQD124, eHH169, eEE228, eXL27, eQD115, eXL36, eMR12, eLH47, eDH113, eEE226, eXL37, eDH96, eXL30 & 32 &  39668\\\\\n",
       "\t CASSQTGGRNQPQHF & TRBV12-X        & TRBJ01-05 & eLH41  & 1 & eLH41, eJL164, eXL31, eHO132, ePD86, eAV88, ePD84, eEE243, eXL37, eQD118, eEE224, eXL27, eMR12, eOX56, eLH47, eMR18, eLH46, eQD136, eOX43, eOX54, ePD76                                                                                         & 21 &  93523\\\\\n",
       "\t CASSLAGAYEQYF   & TRBV05-01       & TRBJ02-07 & eJL143 & 1 & eJL143, ePD79, eHH175, eLH45, eHO126, eXL31, eLH49, eLH42, eJL157, eHO135, eLH54, eMR14, eLH47, eAV91, eQD109, eQD111, eMR23, eQD123, eMR15                                                                                                     & 19 &  42124\\\\\n",
       "\t CASSFSYEQYF     & TRBV12-03/12-04 & TRBJ02-07 & eEE243 & 1 & eEE243, eHH175, eXL30, eHO130, eJL149, eAV88, eXL27, eOX54, eEE224, eEE228, eOX49, eEE226, eOX52, eEE240, eOX46, eOX43, eXL31                                                                                                                   & 17 &  31270\\\\\n",
       "\t CASSLSAPQETQYF  & TRBV27-01       & TRBJ02-05 & eMR17  & 1 & eMR17, eJL161, eHO134, eQD124, eMR13, eQD111, eQD121, eHO140, eMR12, eQD125, eLH47, eEE226, eQD126, eQD114, eQD110, eQD120                                                                                                                      & 16 &  60393\\\\\n",
       "\t CASSVGETQYF     & TRBV09-01       & TRBJ02-05 & eOX56  & 1 & eOX56, eEE224, eEE226, eEE228, eOX49, eOX54, eOX52, eXL27, eXL30, eOX43, eOX46, eXL32, eEE240, eAV88, eQD128, eHH175                                                                                                                            & 16 & 109659\\\\\n",
       "\\end{tabular}\n"
      ],
      "text/markdown": [
       "\n",
       "A data.table: 6 × 8\n",
       "\n",
       "| CDR3b &lt;chr&gt; | TRBV &lt;chr&gt; | TRBJ &lt;chr&gt; | subject:condition &lt;chr&gt; | count.x &lt;int&gt; | subject &lt;chr&gt; | count.y &lt;int&gt; | index &lt;int&gt; |\n",
       "|---|---|---|---|---|---|---|---|\n",
       "| CASSIRSSYEQYF   | TRBV19-01       | TRBJ02-07 | eOX46  | 1 | eOX46, ePD84, eHO128, eHO132, eHO125, ePD83, eHO136, eLH41, eHO124, ePD86, eLH42, eHO130, ePD76, eQD137, eQD123, eMR20, eEE243, eHH173, eHH174, eQD124, eHH169, eEE228, eXL27, eQD115, eXL36, eMR12, eLH47, eDH113, eEE226, eXL37, eDH96, eXL30 | 32 |  39668 |\n",
       "| CASSQTGGRNQPQHF | TRBV12-X        | TRBJ01-05 | eLH41  | 1 | eLH41, eJL164, eXL31, eHO132, ePD86, eAV88, ePD84, eEE243, eXL37, eQD118, eEE224, eXL27, eMR12, eOX56, eLH47, eMR18, eLH46, eQD136, eOX43, eOX54, ePD76                                                                                         | 21 |  93523 |\n",
       "| CASSLAGAYEQYF   | TRBV05-01       | TRBJ02-07 | eJL143 | 1 | eJL143, ePD79, eHH175, eLH45, eHO126, eXL31, eLH49, eLH42, eJL157, eHO135, eLH54, eMR14, eLH47, eAV91, eQD109, eQD111, eMR23, eQD123, eMR15                                                                                                     | 19 |  42124 |\n",
       "| CASSFSYEQYF     | TRBV12-03/12-04 | TRBJ02-07 | eEE243 | 1 | eEE243, eHH175, eXL30, eHO130, eJL149, eAV88, eXL27, eOX54, eEE224, eEE228, eOX49, eEE226, eOX52, eEE240, eOX46, eOX43, eXL31                                                                                                                   | 17 |  31270 |\n",
       "| CASSLSAPQETQYF  | TRBV27-01       | TRBJ02-05 | eMR17  | 1 | eMR17, eJL161, eHO134, eQD124, eMR13, eQD111, eQD121, eHO140, eMR12, eQD125, eLH47, eEE226, eQD126, eQD114, eQD110, eQD120                                                                                                                      | 16 |  60393 |\n",
       "| CASSVGETQYF     | TRBV09-01       | TRBJ02-05 | eOX56  | 1 | eOX56, eEE224, eEE226, eEE228, eOX49, eOX54, eOX52, eXL27, eXL30, eOX43, eOX46, eXL32, eEE240, eAV88, eQD128, eHH175                                                                                                                            | 16 | 109659 |\n",
       "\n"
      ],
      "text/plain": [
       "  CDR3b           TRBV            TRBJ      subject:condition count.x\n",
       "1 CASSIRSSYEQYF   TRBV19-01       TRBJ02-07 eOX46             1      \n",
       "2 CASSQTGGRNQPQHF TRBV12-X        TRBJ01-05 eLH41             1      \n",
       "3 CASSLAGAYEQYF   TRBV05-01       TRBJ02-07 eJL143            1      \n",
       "4 CASSFSYEQYF     TRBV12-03/12-04 TRBJ02-07 eEE243            1      \n",
       "5 CASSLSAPQETQYF  TRBV27-01       TRBJ02-05 eMR17             1      \n",
       "6 CASSVGETQYF     TRBV09-01       TRBJ02-05 eOX56             1      \n",
       "  subject                                                                                                                                                                                                                                        \n",
       "1 eOX46, ePD84, eHO128, eHO132, eHO125, ePD83, eHO136, eLH41, eHO124, ePD86, eLH42, eHO130, ePD76, eQD137, eQD123, eMR20, eEE243, eHH173, eHH174, eQD124, eHH169, eEE228, eXL27, eQD115, eXL36, eMR12, eLH47, eDH113, eEE226, eXL37, eDH96, eXL30\n",
       "2 eLH41, eJL164, eXL31, eHO132, ePD86, eAV88, ePD84, eEE243, eXL37, eQD118, eEE224, eXL27, eMR12, eOX56, eLH47, eMR18, eLH46, eQD136, eOX43, eOX54, ePD76                                                                                        \n",
       "3 eJL143, ePD79, eHH175, eLH45, eHO126, eXL31, eLH49, eLH42, eJL157, eHO135, eLH54, eMR14, eLH47, eAV91, eQD109, eQD111, eMR23, eQD123, eMR15                                                                                                    \n",
       "4 eEE243, eHH175, eXL30, eHO130, eJL149, eAV88, eXL27, eOX54, eEE224, eEE228, eOX49, eEE226, eOX52, eEE240, eOX46, eOX43, eXL31                                                                                                                  \n",
       "5 eMR17, eJL161, eHO134, eQD124, eMR13, eQD111, eQD121, eHO140, eMR12, eQD125, eLH47, eEE226, eQD126, eQD114, eQD110, eQD120                                                                                                                     \n",
       "6 eOX56, eEE224, eEE226, eEE228, eOX49, eOX54, eOX52, eXL27, eXL30, eOX43, eOX46, eXL32, eEE240, eAV88, eQD128, eHH175                                                                                                                           \n",
       "  count.y index \n",
       "1 32       39668\n",
       "2 21       93523\n",
       "3 19       42124\n",
       "4 17       31270\n",
       "5 16       60393\n",
       "6 16      109659"
      ]
     },
     "metadata": {},
     "output_type": "display_data"
    }
   ],
   "source": [
    "head(covidfle_uniq_ab_dedup[order(covidfle_uniq_ab_dedup$count.y, decreasing = T),])"
   ]
  },
  {
   "cell_type": "code",
   "execution_count": 46,
   "metadata": {},
   "outputs": [],
   "source": [
    "covidfle_uniq_ab_dedup$file <- \"COVID_specific_TCRB.tsv\""
   ]
  },
  {
   "cell_type": "code",
   "execution_count": 47,
   "metadata": {},
   "outputs": [],
   "source": [
    "covidfle_uniq_ab_dedup_subset <- covidfle_uniq_ab_dedup[,c(\"CDR3b\", \"TRBV\", \"TRBJ\", \"subject\", \"count.y\",\"file\", \"index\")]"
   ]
  },
  {
   "cell_type": "code",
   "execution_count": 48,
   "metadata": {},
   "outputs": [],
   "source": [
    "colnames(covidfle_uniq_ab_dedup_subset ) <- c(\"CDR3b\", \"TRBV\", \"TRBJ\", \"subject:condition\", \"count\", \"file\", \"index\")"
   ]
  },
  {
   "cell_type": "code",
   "execution_count": 50,
   "metadata": {},
   "outputs": [],
   "source": [
    "save(covidfle_uniq_ab_dedup_subset, file = paste0(datapath, \"capTCRseq/covidfle_uniq_ab_dedup_subset.RData\"))"
   ]
  },
  {
   "cell_type": "code",
   "execution_count": 52,
   "metadata": {},
   "outputs": [
    {
     "name": "stderr",
     "output_type": "stream",
     "text": [
      "Warning message in file(file, ifelse(append, \"a\", \"w\")):\n",
      "“cannot open file '/Users/anabbi/Desktop/H4H/projects/COVID-19/tcr-cap/Adaptive/MIRA/ImmuneCODE-MIRA-Release002.1/COVID_specific_TCRB_clean.tsv': Permission denied”\n"
     ]
    },
    {
     "ename": "ERROR",
     "evalue": "Error in file(file, ifelse(append, \"a\", \"w\")): cannot open the connection\n",
     "output_type": "error",
     "traceback": [
      "Error in file(file, ifelse(append, \"a\", \"w\")): cannot open the connection\nTraceback:\n",
      "1. write.table(covidfle_uniq_ab_dedup_subset, file = \"/Users/anabbi/Desktop/H4H/projects/COVID-19/tcr-cap/Adaptive/MIRA/ImmuneCODE-MIRA-Release002.1/COVID_specific_TCRB_clean.tsv\", \n .     sep = \"\\t\", quote = F)",
      "2. file(file, ifelse(append, \"a\", \"w\"))"
     ]
    }
   ],
   "source": [
    "write.table(covidfle_uniq_ab_dedup_subset, file = '/Users/anabbi/Desktop/H4H/projects/COVID-19/tcr-cap/Adaptive/MIRA/ImmuneCODE-MIRA-Release002.1/COVID_specific_TCRB_clean.tsv',\n",
    "            sep = \"\\t\", quote = F)"
   ]
  },
  {
   "cell_type": "code",
   "execution_count": null,
   "metadata": {},
   "outputs": [],
   "source": []
  },
  {
   "cell_type": "code",
   "execution_count": null,
   "metadata": {},
   "outputs": [],
   "source": []
  },
  {
   "cell_type": "code",
   "execution_count": null,
   "metadata": {},
   "outputs": [],
   "source": []
  },
  {
   "cell_type": "code",
   "execution_count": null,
   "metadata": {},
   "outputs": [],
   "source": []
  },
  {
   "cell_type": "code",
   "execution_count": 49,
   "metadata": {
    "scrolled": true
   },
   "outputs": [
    {
     "data": {
      "text/html": [
       "<table class=\"dataframe\">\n",
       "<caption>A data.table: 6 × 7</caption>\n",
       "<thead>\n",
       "\t<tr><th scope=col>CDR3b</th><th scope=col>TRBV</th><th scope=col>TRBJ</th><th scope=col>subject:condition</th><th scope=col>count</th><th scope=col>file</th><th scope=col>index</th></tr>\n",
       "\t<tr><th scope=col>&lt;chr&gt;</th><th scope=col>&lt;chr&gt;</th><th scope=col>&lt;chr&gt;</th><th scope=col>&lt;chr&gt;</th><th scope=col>&lt;int&gt;</th><th scope=col>&lt;chr&gt;</th><th scope=col>&lt;int&gt;</th></tr>\n",
       "</thead>\n",
       "<tbody>\n",
       "\t<tr><td>AGVKITNSYEQYF   </td><td>TRBV20-X </td><td>TRBJ02-07</td><td>eHO134</td><td>1</td><td>COVID_specific_TCRB.tsv</td><td>1</td></tr>\n",
       "\t<tr><td>AKNIQYF         </td><td>TRBV27-01</td><td>TRBJ02-04</td><td>eQD126</td><td>1</td><td>COVID_specific_TCRB.tsv</td><td>2</td></tr>\n",
       "\t<tr><td>APYASKRAGYDNEQFF</td><td>TRBV06-X </td><td>TRBJ02-01</td><td>eHO141</td><td>1</td><td>COVID_specific_TCRB.tsv</td><td>3</td></tr>\n",
       "\t<tr><td>ARLFSGANVLTF    </td><td>TRBV07-02</td><td>TRBJ02-06</td><td>eXL27 </td><td>1</td><td>COVID_specific_TCRB.tsv</td><td>4</td></tr>\n",
       "\t<tr><td>CAAAAPDTQYF     </td><td>TRBV06-X </td><td>TRBJ02-03</td><td>eOX46 </td><td>1</td><td>COVID_specific_TCRB.tsv</td><td>5</td></tr>\n",
       "\t<tr><td>CAAADRMTDTQYF   </td><td>TRBV24-01</td><td>TRBJ02-03</td><td>eHO130</td><td>1</td><td>COVID_specific_TCRB.tsv</td><td>6</td></tr>\n",
       "</tbody>\n",
       "</table>\n"
      ],
      "text/latex": [
       "A data.table: 6 × 7\n",
       "\\begin{tabular}{lllllll}\n",
       " CDR3b & TRBV & TRBJ & subject:condition & count & file & index\\\\\n",
       " <chr> & <chr> & <chr> & <chr> & <int> & <chr> & <int>\\\\\n",
       "\\hline\n",
       "\t AGVKITNSYEQYF    & TRBV20-X  & TRBJ02-07 & eHO134 & 1 & COVID\\_specific\\_TCRB.tsv & 1\\\\\n",
       "\t AKNIQYF          & TRBV27-01 & TRBJ02-04 & eQD126 & 1 & COVID\\_specific\\_TCRB.tsv & 2\\\\\n",
       "\t APYASKRAGYDNEQFF & TRBV06-X  & TRBJ02-01 & eHO141 & 1 & COVID\\_specific\\_TCRB.tsv & 3\\\\\n",
       "\t ARLFSGANVLTF     & TRBV07-02 & TRBJ02-06 & eXL27  & 1 & COVID\\_specific\\_TCRB.tsv & 4\\\\\n",
       "\t CAAAAPDTQYF      & TRBV06-X  & TRBJ02-03 & eOX46  & 1 & COVID\\_specific\\_TCRB.tsv & 5\\\\\n",
       "\t CAAADRMTDTQYF    & TRBV24-01 & TRBJ02-03 & eHO130 & 1 & COVID\\_specific\\_TCRB.tsv & 6\\\\\n",
       "\\end{tabular}\n"
      ],
      "text/markdown": [
       "\n",
       "A data.table: 6 × 7\n",
       "\n",
       "| CDR3b &lt;chr&gt; | TRBV &lt;chr&gt; | TRBJ &lt;chr&gt; | subject:condition &lt;chr&gt; | count &lt;int&gt; | file &lt;chr&gt; | index &lt;int&gt; |\n",
       "|---|---|---|---|---|---|---|\n",
       "| AGVKITNSYEQYF    | TRBV20-X  | TRBJ02-07 | eHO134 | 1 | COVID_specific_TCRB.tsv | 1 |\n",
       "| AKNIQYF          | TRBV27-01 | TRBJ02-04 | eQD126 | 1 | COVID_specific_TCRB.tsv | 2 |\n",
       "| APYASKRAGYDNEQFF | TRBV06-X  | TRBJ02-01 | eHO141 | 1 | COVID_specific_TCRB.tsv | 3 |\n",
       "| ARLFSGANVLTF     | TRBV07-02 | TRBJ02-06 | eXL27  | 1 | COVID_specific_TCRB.tsv | 4 |\n",
       "| CAAAAPDTQYF      | TRBV06-X  | TRBJ02-03 | eOX46  | 1 | COVID_specific_TCRB.tsv | 5 |\n",
       "| CAAADRMTDTQYF    | TRBV24-01 | TRBJ02-03 | eHO130 | 1 | COVID_specific_TCRB.tsv | 6 |\n",
       "\n"
      ],
      "text/plain": [
       "  CDR3b            TRBV      TRBJ      subject:condition count\n",
       "1 AGVKITNSYEQYF    TRBV20-X  TRBJ02-07 eHO134            1    \n",
       "2 AKNIQYF          TRBV27-01 TRBJ02-04 eQD126            1    \n",
       "3 APYASKRAGYDNEQFF TRBV06-X  TRBJ02-01 eHO141            1    \n",
       "4 ARLFSGANVLTF     TRBV07-02 TRBJ02-06 eXL27             1    \n",
       "5 CAAAAPDTQYF      TRBV06-X  TRBJ02-03 eOX46             1    \n",
       "6 CAAADRMTDTQYF    TRBV24-01 TRBJ02-03 eHO130            1    \n",
       "  file                    index\n",
       "1 COVID_specific_TCRB.tsv 1    \n",
       "2 COVID_specific_TCRB.tsv 2    \n",
       "3 COVID_specific_TCRB.tsv 3    \n",
       "4 COVID_specific_TCRB.tsv 4    \n",
       "5 COVID_specific_TCRB.tsv 5    \n",
       "6 COVID_specific_TCRB.tsv 6    "
      ]
     },
     "metadata": {},
     "output_type": "display_data"
    }
   ],
   "source": [
    "head(covidfle_uniq_ab_dedup_subset)"
   ]
  },
  {
   "cell_type": "code",
   "execution_count": null,
   "metadata": {},
   "outputs": [],
   "source": [
    "colnames(covidfle_uniq_ab_dedup) <-  c(\"CDR3b\", \"TRBV\", \"TRBJ\", \"V4\", \"V5\", \"count\",\n",
    "                                       \"subject:condition\", \"count\", \"file\", \"index\")"
   ]
  },
  {
   "cell_type": "code",
   "execution_count": 146,
   "metadata": {},
   "outputs": [
    {
     "ename": "ERROR",
     "evalue": "Error in `[.data.table`(covidfle_uniq_ab, duplicated(covidfle_uniq_ab[c(\"V1\", : i evaluates to a logical vector length 3 but there are 156033 rows. Recycling of logical i is no longer allowed as it hides more bugs than is worth the rare convenience. Explicitly use rep(...,length=.N) if you really need to recycle.\n",
     "output_type": "error",
     "traceback": [
      "Error in `[.data.table`(covidfle_uniq_ab, duplicated(covidfle_uniq_ab[c(\"V1\", : i evaluates to a logical vector length 3 but there are 156033 rows. Recycling of logical i is no longer allowed as it hides more bugs than is worth the rare convenience. Explicitly use rep(...,length=.N) if you really need to recycle.\nTraceback:\n",
      "1. covidfle_uniq_ab[duplicated(covidfle_uniq_ab[c(\"V1\", \"V2\", \"V3\")]), \n .     ]",
      "2. `[.data.table`(covidfle_uniq_ab, duplicated(covidfle_uniq_ab[c(\"V1\", \n .     \"V2\", \"V3\")]), )",
      "3. stop(\"i evaluates to a logical vector length \", length(i), \" but there are \", \n .     nrow(x), \" rows. Recycling of logical i is no longer allowed as it hides more bugs than is worth the rare convenience. Explicitly use rep(...,length=.N) if you really need to recycle.\")"
     ]
    }
   ],
   "source": [
    "#dedup\n",
    "covidfle_uniq_ab_dedup <- covidfle_uniq_ab[duplicated(covidfle_uniq_ab[c(\"V1\",\"V2\",\"V3\")]),]"
   ]
  },
  {
   "cell_type": "code",
   "execution_count": 101,
   "metadata": {},
   "outputs": [],
   "source": [
    "covidfle_uniq_dedup_ab <- covidfle_uniq_dedup_ab[ covidfle_uniq_dedup_ab$V1 != \"unproductive\",]"
   ]
  },
  {
   "cell_type": "code",
   "execution_count": 113,
   "metadata": {},
   "outputs": [
    {
     "data": {
      "text/html": [
       "<style>\n",
       ".list-inline {list-style: none; margin:0; padding: 0}\n",
       ".list-inline>li {display: inline-block}\n",
       ".list-inline>li:not(:last-child)::after {content: \"\\00b7\"; padding: 0 .5ex}\n",
       "</style>\n",
       "<ol class=list-inline><li>149842</li><li>6</li></ol>\n"
      ],
      "text/latex": [
       "\\begin{enumerate*}\n",
       "\\item 149842\n",
       "\\item 6\n",
       "\\end{enumerate*}\n"
      ],
      "text/markdown": [
       "1. 149842\n",
       "2. 6\n",
       "\n",
       "\n"
      ],
      "text/plain": [
       "[1] 149842      6"
      ]
     },
     "metadata": {},
     "output_type": "display_data"
    }
   ],
   "source": [
    "dim(covidfle_uniq_dedup)"
   ]
  },
  {
   "cell_type": "code",
   "execution_count": 112,
   "metadata": {},
   "outputs": [
    {
     "data": {
      "text/html": [
       "<style>\n",
       ".list-inline {list-style: none; margin:0; padding: 0}\n",
       ".list-inline>li {display: inline-block}\n",
       ".list-inline>li:not(:last-child)::after {content: \"\\00b7\"; padding: 0 .5ex}\n",
       "</style>\n",
       "<ol class=list-inline><li>149426</li><li>8</li></ol>\n"
      ],
      "text/latex": [
       "\\begin{enumerate*}\n",
       "\\item 149426\n",
       "\\item 8\n",
       "\\end{enumerate*}\n"
      ],
      "text/markdown": [
       "1. 149426\n",
       "2. 8\n",
       "\n",
       "\n"
      ],
      "text/plain": [
       "[1] 149426      8"
      ]
     },
     "metadata": {},
     "output_type": "display_data"
    }
   ],
   "source": [
    "dim(covidfle_uniq_dedup_ab)"
   ]
  },
  {
   "cell_type": "code",
   "execution_count": 92,
   "metadata": {},
   "outputs": [],
   "source": [
    "covidfle_uniq_dedup_ab$V2 <- gsub(\"TCRB\", \"TRB\", covidfle_uniq_dedup_ab$V2)\n",
    "covidfle_uniq_dedup_ab$V3 <- gsub(\"TCRB\", \"TRB\", covidfle_uniq_dedup_ab$V3)"
   ]
  },
  {
   "cell_type": "code",
   "execution_count": 142,
   "metadata": {},
   "outputs": [
    {
     "data": {
      "text/html": [
       "<table class=\"dataframe\">\n",
       "<caption>A data.table: 5 × 8</caption>\n",
       "<thead>\n",
       "\t<tr><th scope=col>V1</th><th scope=col>V2</th><th scope=col>V3</th><th scope=col>V4</th><th scope=col>V5</th><th scope=col>V6</th><th scope=col>subject</th><th scope=col>count</th></tr>\n",
       "\t<tr><th scope=col>&lt;chr&gt;</th><th scope=col>&lt;chr&gt;</th><th scope=col>&lt;chr&gt;</th><th scope=col>&lt;lgl&gt;</th><th scope=col>&lt;chr&gt;</th><th scope=col>&lt;int&gt;</th><th scope=col>&lt;chr&gt;</th><th scope=col>&lt;int&gt;</th></tr>\n",
       "</thead>\n",
       "<tbody>\n",
       "\t<tr><td>CASGDLNTGELFF</td><td>TCRBV05-01</td><td>TCRBJ02-02</td><td>NA</td><td>eLH47 </td><td>1</td><td>eLH47                </td><td>1</td></tr>\n",
       "\t<tr><td>CASGDLNTGELFF</td><td>TCRBV07-03</td><td>TCRBJ02-02</td><td>NA</td><td>eMR16 </td><td>1</td><td>eMR16, eJL158, eJL164</td><td>3</td></tr>\n",
       "\t<tr><td>CASGDLNTGELFF</td><td>TCRBV07-03</td><td>TCRBJ02-02</td><td>NA</td><td>eJL158</td><td>1</td><td>eMR16, eJL158, eJL164</td><td>3</td></tr>\n",
       "\t<tr><td>CASGDLNTGELFF</td><td>TCRBV07-03</td><td>TCRBJ02-02</td><td>NA</td><td>eJL164</td><td>1</td><td>eMR16, eJL158, eJL164</td><td>3</td></tr>\n",
       "\t<tr><td>CASGDLNTGELFF</td><td>TCRBV07-08</td><td>TCRBJ02-02</td><td>NA</td><td>eHO141</td><td>1</td><td>eHO141               </td><td>1</td></tr>\n",
       "</tbody>\n",
       "</table>\n"
      ],
      "text/latex": [
       "A data.table: 5 × 8\n",
       "\\begin{tabular}{llllllll}\n",
       " V1 & V2 & V3 & V4 & V5 & V6 & subject & count\\\\\n",
       " <chr> & <chr> & <chr> & <lgl> & <chr> & <int> & <chr> & <int>\\\\\n",
       "\\hline\n",
       "\t CASGDLNTGELFF & TCRBV05-01 & TCRBJ02-02 & NA & eLH47  & 1 & eLH47                 & 1\\\\\n",
       "\t CASGDLNTGELFF & TCRBV07-03 & TCRBJ02-02 & NA & eMR16  & 1 & eMR16, eJL158, eJL164 & 3\\\\\n",
       "\t CASGDLNTGELFF & TCRBV07-03 & TCRBJ02-02 & NA & eJL158 & 1 & eMR16, eJL158, eJL164 & 3\\\\\n",
       "\t CASGDLNTGELFF & TCRBV07-03 & TCRBJ02-02 & NA & eJL164 & 1 & eMR16, eJL158, eJL164 & 3\\\\\n",
       "\t CASGDLNTGELFF & TCRBV07-08 & TCRBJ02-02 & NA & eHO141 & 1 & eHO141                & 1\\\\\n",
       "\\end{tabular}\n"
      ],
      "text/markdown": [
       "\n",
       "A data.table: 5 × 8\n",
       "\n",
       "| V1 &lt;chr&gt; | V2 &lt;chr&gt; | V3 &lt;chr&gt; | V4 &lt;lgl&gt; | V5 &lt;chr&gt; | V6 &lt;int&gt; | subject &lt;chr&gt; | count &lt;int&gt; |\n",
       "|---|---|---|---|---|---|---|---|\n",
       "| CASGDLNTGELFF | TCRBV05-01 | TCRBJ02-02 | NA | eLH47  | 1 | eLH47                 | 1 |\n",
       "| CASGDLNTGELFF | TCRBV07-03 | TCRBJ02-02 | NA | eMR16  | 1 | eMR16, eJL158, eJL164 | 3 |\n",
       "| CASGDLNTGELFF | TCRBV07-03 | TCRBJ02-02 | NA | eJL158 | 1 | eMR16, eJL158, eJL164 | 3 |\n",
       "| CASGDLNTGELFF | TCRBV07-03 | TCRBJ02-02 | NA | eJL164 | 1 | eMR16, eJL158, eJL164 | 3 |\n",
       "| CASGDLNTGELFF | TCRBV07-08 | TCRBJ02-02 | NA | eHO141 | 1 | eHO141                | 1 |\n",
       "\n"
      ],
      "text/plain": [
       "  V1            V2         V3         V4 V5     V6 subject               count\n",
       "1 CASGDLNTGELFF TCRBV05-01 TCRBJ02-02 NA eLH47  1  eLH47                 1    \n",
       "2 CASGDLNTGELFF TCRBV07-03 TCRBJ02-02 NA eMR16  1  eMR16, eJL158, eJL164 3    \n",
       "3 CASGDLNTGELFF TCRBV07-03 TCRBJ02-02 NA eJL158 1  eMR16, eJL158, eJL164 3    \n",
       "4 CASGDLNTGELFF TCRBV07-03 TCRBJ02-02 NA eJL164 1  eMR16, eJL158, eJL164 3    \n",
       "5 CASGDLNTGELFF TCRBV07-08 TCRBJ02-02 NA eHO141 1  eHO141                1    "
      ]
     },
     "metadata": {},
     "output_type": "display_data"
    }
   ],
   "source": [
    "covidfle_uniq_ab[ covidfle_uniq_ab$V1 == \"CASGDLNTGELFF\",]"
   ]
  },
  {
   "cell_type": "code",
   "execution_count": 66,
   "metadata": {},
   "outputs": [
    {
     "data": {
      "text/html": [
       "<style>\n",
       ".list-inline {list-style: none; margin:0; padding: 0}\n",
       ".list-inline>li {display: inline-block}\n",
       ".list-inline>li:not(:last-child)::after {content: \"\\00b7\"; padding: 0 .5ex}\n",
       "</style>\n",
       "<ol class=list-inline><li>157797</li><li>6</li></ol>\n"
      ],
      "text/latex": [
       "\\begin{enumerate*}\n",
       "\\item 157797\n",
       "\\item 6\n",
       "\\end{enumerate*}\n"
      ],
      "text/markdown": [
       "1. 157797\n",
       "2. 6\n",
       "\n",
       "\n"
      ],
      "text/plain": [
       "[1] 157797      6"
      ]
     },
     "metadata": {},
     "output_type": "display_data"
    }
   ],
   "source": []
  },
  {
   "cell_type": "markdown",
   "metadata": {},
   "source": [
    "## bind TCR list data from SS"
   ]
  },
  {
   "cell_type": "code",
   "execution_count": 44,
   "metadata": {},
   "outputs": [
    {
     "data": {
      "text/html": [
       "'/Users/anabbi/Desktop/H4H/INTERCEPT/NextSeq/'"
      ],
      "text/latex": [
       "'/Users/anabbi/Desktop/H4H/INTERCEPT/NextSeq/'"
      ],
      "text/markdown": [
       "'/Users/anabbi/Desktop/H4H/INTERCEPT/NextSeq/'"
      ],
      "text/plain": [
       "[1] \"/Users/anabbi/Desktop/H4H/INTERCEPT/NextSeq/\""
      ]
     },
     "metadata": {},
     "output_type": "display_data"
    }
   ],
   "source": [
    "h4hpath"
   ]
  },
  {
   "cell_type": "code",
   "execution_count": 19,
   "metadata": {},
   "outputs": [
    {
     "data": {
      "text/html": [
       "-3678"
      ],
      "text/latex": [
       "-3678"
      ],
      "text/markdown": [
       "-3678"
      ],
      "text/plain": [
       "[1] -3678"
      ]
     },
     "metadata": {},
     "output_type": "display_data"
    }
   ],
   "source": [
    "68956 - 72634"
   ]
  },
  {
   "cell_type": "markdown",
   "metadata": {},
   "source": [
    "3678 duplicated sequences in the entire INT dataset"
   ]
  },
  {
   "cell_type": "code",
   "execution_count": 40,
   "metadata": {},
   "outputs": [
    {
     "data": {
      "text/html": [
       "<table class=\"dataframe\">\n",
       "<caption>A data.table: 6 × 7</caption>\n",
       "<thead>\n",
       "\t<tr><th scope=col>CDR3b</th><th scope=col>TRBV</th><th scope=col>TRBJ</th><th scope=col>subject</th><th scope=col>count.y</th><th scope=col>file.y</th><th scope=col>index</th></tr>\n",
       "\t<tr><th scope=col>&lt;chr&gt;</th><th scope=col>&lt;chr&gt;</th><th scope=col>&lt;chr&gt;</th><th scope=col>&lt;chr&gt;</th><th scope=col>&lt;int&gt;</th><th scope=col>&lt;chr&gt;</th><th scope=col>&lt;int&gt;</th></tr>\n",
       "</thead>\n",
       "<tbody>\n",
       "\t<tr><td>CAAAGGGEAFF     </td><td>TRBV28 </td><td>TRBJ1-1</td><td>CHP_396-03_PBMC_DNA, CHP_396-04-PBMC-DNA               </td><td> 340</td><td>/Users/anabbi/Desktop/H4H/INTERCEPT/NextSeq/batch11_23Apr2020/mixcr/clones/CLONES_TRBCHP_396-03_PBMC_DNA.txt, /Users/anabbi/Desktop/H4H/INTERCEPT/NextSeq/batch13_26Aug2020/mixcr/clones/CLONES_TRBCHP_396-04-PBMC-DNA.txt                                                                                                                    </td><td>  2</td></tr>\n",
       "\t<tr><td>CAACEPEVRDTDTQYF</td><td>TRBV28 </td><td>TRBJ2-3</td><td>CHP_338-05-PBMC-DNA, CHP_338-05-PBMC-DNA               </td><td>  12</td><td>/Users/anabbi/Desktop/H4H/INTERCEPT/NextSeq/batch2_Aug62019/mixcr/clones/CLONES_TRBCHP_338-05-PBMC-DNA.txt, /Users/anabbi/Desktop/H4H/INTERCEPT/NextSeq/batch2_Aug62019/mixcr/clones/CLONES_TRBCHP_338-05-PBMC-DNA.txt                                                                                                                        </td><td>  5</td></tr>\n",
       "\t<tr><td>CACGGTGNYNEQFF  </td><td>TRBV6-2</td><td>TRBJ2-1</td><td>CHP_408-02_PBMC-DNA, CHP_359-03_cfDNA, CHP_392-02_cfDNA</td><td>1005</td><td>/Users/anabbi/Desktop/H4H/INTERCEPT/NextSeq/batch12_30Apr2021/mixcr/clones/CLONES_TRBCHP_408-02_PBMC-DNA.txt, /Users/anabbi/Desktop/H4H/INTERCEPT/NextSeq/batch13_cfDNA_11Sep2020/mixcr/clones/CLONES_TRBCHP_359-03_cfDNA.txt, /Users/anabbi/Desktop/H4H/INTERCEPT/NextSeq/batch13_cfDNA_11Sep2020/mixcr/clones/CLONES_TRBCHP_392-02_cfDNA.txt</td><td> 81</td></tr>\n",
       "\t<tr><td>CACLREDSSYEQYF  </td><td>TRBV30 </td><td>TRBJ2-7</td><td>CHP_371-04_PBMC-DNA, CHP_371-04_PBMC-DNA               </td><td>  24</td><td>/Users/anabbi/Desktop/H4H/INTERCEPT/NextSeq/remaining_batch_2_22April2021/mixcr/clones/CLONES_TRBCHP_371-04_PBMC-DNA.txt, /Users/anabbi/Desktop/H4H/INTERCEPT/NextSeq/remaining_batch_2_22April2021/mixcr/clones/CLONES_TRBCHP_371-04_PBMC-DNA.txt                                                                                            </td><td> 90</td></tr>\n",
       "\t<tr><td>CACNQVMNTEAFF   </td><td>TRBV30 </td><td>TRBJ1-1</td><td>CHP_383-05_PBMC-DNA, CHP_367-04_cfDNA, CHP_367-04_cfDNA</td><td> 339</td><td>/Users/anabbi/Desktop/H4H/INTERCEPT/NextSeq/batch12_30Apr2021/mixcr/clones/CLONES_TRBCHP_383-05_PBMC-DNA.txt, /Users/anabbi/Desktop/H4H/INTERCEPT/NextSeq/batch13_cfDNA_11Sep2020/mixcr/clones/CLONES_TRBCHP_367-04_cfDNA.txt, /Users/anabbi/Desktop/H4H/INTERCEPT/NextSeq/batch13_cfDNA_11Sep2020/mixcr/clones/CLONES_TRBCHP_367-04_cfDNA.txt</td><td> 91</td></tr>\n",
       "\t<tr><td>CADRDGINYGYTF   </td><td>TRBV2  </td><td>TRBJ1-2</td><td>CHP_337-03_PBMC-DNA, CHP_337-03_PBMC-DNA               </td><td>1735</td><td>/Users/anabbi/Desktop/H4H/INTERCEPT/NextSeq/remaining_batch_1_20April2021/mixcr/clones/CLONES_TRBCHP_337-03_PBMC-DNA.txt, /Users/anabbi/Desktop/H4H/INTERCEPT/NextSeq/remaining_batch_1_20April2021/mixcr/clones/CLONES_TRBCHP_337-03_PBMC-DNA.txt                                                                                            </td><td>142</td></tr>\n",
       "</tbody>\n",
       "</table>\n"
      ],
      "text/latex": [
       "A data.table: 6 × 7\n",
       "\\begin{tabular}{lllllll}\n",
       " CDR3b & TRBV & TRBJ & subject & count.y & file.y & index\\\\\n",
       " <chr> & <chr> & <chr> & <chr> & <int> & <chr> & <int>\\\\\n",
       "\\hline\n",
       "\t CAAAGGGEAFF      & TRBV28  & TRBJ1-1 & CHP\\_396-03\\_PBMC\\_DNA, CHP\\_396-04-PBMC-DNA                &  340 & /Users/anabbi/Desktop/H4H/INTERCEPT/NextSeq/batch11\\_23Apr2020/mixcr/clones/CLONES\\_TRBCHP\\_396-03\\_PBMC\\_DNA.txt, /Users/anabbi/Desktop/H4H/INTERCEPT/NextSeq/batch13\\_26Aug2020/mixcr/clones/CLONES\\_TRBCHP\\_396-04-PBMC-DNA.txt                                                                                                                     &   2\\\\\n",
       "\t CAACEPEVRDTDTQYF & TRBV28  & TRBJ2-3 & CHP\\_338-05-PBMC-DNA, CHP\\_338-05-PBMC-DNA                &   12 & /Users/anabbi/Desktop/H4H/INTERCEPT/NextSeq/batch2\\_Aug62019/mixcr/clones/CLONES\\_TRBCHP\\_338-05-PBMC-DNA.txt, /Users/anabbi/Desktop/H4H/INTERCEPT/NextSeq/batch2\\_Aug62019/mixcr/clones/CLONES\\_TRBCHP\\_338-05-PBMC-DNA.txt                                                                                                                         &   5\\\\\n",
       "\t CACGGTGNYNEQFF   & TRBV6-2 & TRBJ2-1 & CHP\\_408-02\\_PBMC-DNA, CHP\\_359-03\\_cfDNA, CHP\\_392-02\\_cfDNA & 1005 & /Users/anabbi/Desktop/H4H/INTERCEPT/NextSeq/batch12\\_30Apr2021/mixcr/clones/CLONES\\_TRBCHP\\_408-02\\_PBMC-DNA.txt, /Users/anabbi/Desktop/H4H/INTERCEPT/NextSeq/batch13\\_cfDNA\\_11Sep2020/mixcr/clones/CLONES\\_TRBCHP\\_359-03\\_cfDNA.txt, /Users/anabbi/Desktop/H4H/INTERCEPT/NextSeq/batch13\\_cfDNA\\_11Sep2020/mixcr/clones/CLONES\\_TRBCHP\\_392-02\\_cfDNA.txt &  81\\\\\n",
       "\t CACLREDSSYEQYF   & TRBV30  & TRBJ2-7 & CHP\\_371-04\\_PBMC-DNA, CHP\\_371-04\\_PBMC-DNA                &   24 & /Users/anabbi/Desktop/H4H/INTERCEPT/NextSeq/remaining\\_batch\\_2\\_22April2021/mixcr/clones/CLONES\\_TRBCHP\\_371-04\\_PBMC-DNA.txt, /Users/anabbi/Desktop/H4H/INTERCEPT/NextSeq/remaining\\_batch\\_2\\_22April2021/mixcr/clones/CLONES\\_TRBCHP\\_371-04\\_PBMC-DNA.txt                                                                                             &  90\\\\\n",
       "\t CACNQVMNTEAFF    & TRBV30  & TRBJ1-1 & CHP\\_383-05\\_PBMC-DNA, CHP\\_367-04\\_cfDNA, CHP\\_367-04\\_cfDNA &  339 & /Users/anabbi/Desktop/H4H/INTERCEPT/NextSeq/batch12\\_30Apr2021/mixcr/clones/CLONES\\_TRBCHP\\_383-05\\_PBMC-DNA.txt, /Users/anabbi/Desktop/H4H/INTERCEPT/NextSeq/batch13\\_cfDNA\\_11Sep2020/mixcr/clones/CLONES\\_TRBCHP\\_367-04\\_cfDNA.txt, /Users/anabbi/Desktop/H4H/INTERCEPT/NextSeq/batch13\\_cfDNA\\_11Sep2020/mixcr/clones/CLONES\\_TRBCHP\\_367-04\\_cfDNA.txt &  91\\\\\n",
       "\t CADRDGINYGYTF    & TRBV2   & TRBJ1-2 & CHP\\_337-03\\_PBMC-DNA, CHP\\_337-03\\_PBMC-DNA                & 1735 & /Users/anabbi/Desktop/H4H/INTERCEPT/NextSeq/remaining\\_batch\\_1\\_20April2021/mixcr/clones/CLONES\\_TRBCHP\\_337-03\\_PBMC-DNA.txt, /Users/anabbi/Desktop/H4H/INTERCEPT/NextSeq/remaining\\_batch\\_1\\_20April2021/mixcr/clones/CLONES\\_TRBCHP\\_337-03\\_PBMC-DNA.txt                                                                                             & 142\\\\\n",
       "\\end{tabular}\n"
      ],
      "text/markdown": [
       "\n",
       "A data.table: 6 × 7\n",
       "\n",
       "| CDR3b &lt;chr&gt; | TRBV &lt;chr&gt; | TRBJ &lt;chr&gt; | subject &lt;chr&gt; | count.y &lt;int&gt; | file.y &lt;chr&gt; | index &lt;int&gt; |\n",
       "|---|---|---|---|---|---|---|\n",
       "| CAAAGGGEAFF      | TRBV28  | TRBJ1-1 | CHP_396-03_PBMC_DNA, CHP_396-04-PBMC-DNA                |  340 | /Users/anabbi/Desktop/H4H/INTERCEPT/NextSeq/batch11_23Apr2020/mixcr/clones/CLONES_TRBCHP_396-03_PBMC_DNA.txt, /Users/anabbi/Desktop/H4H/INTERCEPT/NextSeq/batch13_26Aug2020/mixcr/clones/CLONES_TRBCHP_396-04-PBMC-DNA.txt                                                                                                                     |   2 |\n",
       "| CAACEPEVRDTDTQYF | TRBV28  | TRBJ2-3 | CHP_338-05-PBMC-DNA, CHP_338-05-PBMC-DNA                |   12 | /Users/anabbi/Desktop/H4H/INTERCEPT/NextSeq/batch2_Aug62019/mixcr/clones/CLONES_TRBCHP_338-05-PBMC-DNA.txt, /Users/anabbi/Desktop/H4H/INTERCEPT/NextSeq/batch2_Aug62019/mixcr/clones/CLONES_TRBCHP_338-05-PBMC-DNA.txt                                                                                                                         |   5 |\n",
       "| CACGGTGNYNEQFF   | TRBV6-2 | TRBJ2-1 | CHP_408-02_PBMC-DNA, CHP_359-03_cfDNA, CHP_392-02_cfDNA | 1005 | /Users/anabbi/Desktop/H4H/INTERCEPT/NextSeq/batch12_30Apr2021/mixcr/clones/CLONES_TRBCHP_408-02_PBMC-DNA.txt, /Users/anabbi/Desktop/H4H/INTERCEPT/NextSeq/batch13_cfDNA_11Sep2020/mixcr/clones/CLONES_TRBCHP_359-03_cfDNA.txt, /Users/anabbi/Desktop/H4H/INTERCEPT/NextSeq/batch13_cfDNA_11Sep2020/mixcr/clones/CLONES_TRBCHP_392-02_cfDNA.txt |  81 |\n",
       "| CACLREDSSYEQYF   | TRBV30  | TRBJ2-7 | CHP_371-04_PBMC-DNA, CHP_371-04_PBMC-DNA                |   24 | /Users/anabbi/Desktop/H4H/INTERCEPT/NextSeq/remaining_batch_2_22April2021/mixcr/clones/CLONES_TRBCHP_371-04_PBMC-DNA.txt, /Users/anabbi/Desktop/H4H/INTERCEPT/NextSeq/remaining_batch_2_22April2021/mixcr/clones/CLONES_TRBCHP_371-04_PBMC-DNA.txt                                                                                             |  90 |\n",
       "| CACNQVMNTEAFF    | TRBV30  | TRBJ1-1 | CHP_383-05_PBMC-DNA, CHP_367-04_cfDNA, CHP_367-04_cfDNA |  339 | /Users/anabbi/Desktop/H4H/INTERCEPT/NextSeq/batch12_30Apr2021/mixcr/clones/CLONES_TRBCHP_383-05_PBMC-DNA.txt, /Users/anabbi/Desktop/H4H/INTERCEPT/NextSeq/batch13_cfDNA_11Sep2020/mixcr/clones/CLONES_TRBCHP_367-04_cfDNA.txt, /Users/anabbi/Desktop/H4H/INTERCEPT/NextSeq/batch13_cfDNA_11Sep2020/mixcr/clones/CLONES_TRBCHP_367-04_cfDNA.txt |  91 |\n",
       "| CADRDGINYGYTF    | TRBV2   | TRBJ1-2 | CHP_337-03_PBMC-DNA, CHP_337-03_PBMC-DNA                | 1735 | /Users/anabbi/Desktop/H4H/INTERCEPT/NextSeq/remaining_batch_1_20April2021/mixcr/clones/CLONES_TRBCHP_337-03_PBMC-DNA.txt, /Users/anabbi/Desktop/H4H/INTERCEPT/NextSeq/remaining_batch_1_20April2021/mixcr/clones/CLONES_TRBCHP_337-03_PBMC-DNA.txt                                                                                             | 142 |\n",
       "\n"
      ],
      "text/plain": [
       "  CDR3b            TRBV    TRBJ   \n",
       "1 CAAAGGGEAFF      TRBV28  TRBJ1-1\n",
       "2 CAACEPEVRDTDTQYF TRBV28  TRBJ2-3\n",
       "3 CACGGTGNYNEQFF   TRBV6-2 TRBJ2-1\n",
       "4 CACLREDSSYEQYF   TRBV30  TRBJ2-7\n",
       "5 CACNQVMNTEAFF    TRBV30  TRBJ1-1\n",
       "6 CADRDGINYGYTF    TRBV2   TRBJ1-2\n",
       "  subject                                                 count.y\n",
       "1 CHP_396-03_PBMC_DNA, CHP_396-04-PBMC-DNA                 340   \n",
       "2 CHP_338-05-PBMC-DNA, CHP_338-05-PBMC-DNA                  12   \n",
       "3 CHP_408-02_PBMC-DNA, CHP_359-03_cfDNA, CHP_392-02_cfDNA 1005   \n",
       "4 CHP_371-04_PBMC-DNA, CHP_371-04_PBMC-DNA                  24   \n",
       "5 CHP_383-05_PBMC-DNA, CHP_367-04_cfDNA, CHP_367-04_cfDNA  339   \n",
       "6 CHP_337-03_PBMC-DNA, CHP_337-03_PBMC-DNA                1735   \n",
       "  file.y                                                                                                                                                                                                                                                                                                                                        \n",
       "1 /Users/anabbi/Desktop/H4H/INTERCEPT/NextSeq/batch11_23Apr2020/mixcr/clones/CLONES_TRBCHP_396-03_PBMC_DNA.txt, /Users/anabbi/Desktop/H4H/INTERCEPT/NextSeq/batch13_26Aug2020/mixcr/clones/CLONES_TRBCHP_396-04-PBMC-DNA.txt                                                                                                                    \n",
       "2 /Users/anabbi/Desktop/H4H/INTERCEPT/NextSeq/batch2_Aug62019/mixcr/clones/CLONES_TRBCHP_338-05-PBMC-DNA.txt, /Users/anabbi/Desktop/H4H/INTERCEPT/NextSeq/batch2_Aug62019/mixcr/clones/CLONES_TRBCHP_338-05-PBMC-DNA.txt                                                                                                                        \n",
       "3 /Users/anabbi/Desktop/H4H/INTERCEPT/NextSeq/batch12_30Apr2021/mixcr/clones/CLONES_TRBCHP_408-02_PBMC-DNA.txt, /Users/anabbi/Desktop/H4H/INTERCEPT/NextSeq/batch13_cfDNA_11Sep2020/mixcr/clones/CLONES_TRBCHP_359-03_cfDNA.txt, /Users/anabbi/Desktop/H4H/INTERCEPT/NextSeq/batch13_cfDNA_11Sep2020/mixcr/clones/CLONES_TRBCHP_392-02_cfDNA.txt\n",
       "4 /Users/anabbi/Desktop/H4H/INTERCEPT/NextSeq/remaining_batch_2_22April2021/mixcr/clones/CLONES_TRBCHP_371-04_PBMC-DNA.txt, /Users/anabbi/Desktop/H4H/INTERCEPT/NextSeq/remaining_batch_2_22April2021/mixcr/clones/CLONES_TRBCHP_371-04_PBMC-DNA.txt                                                                                            \n",
       "5 /Users/anabbi/Desktop/H4H/INTERCEPT/NextSeq/batch12_30Apr2021/mixcr/clones/CLONES_TRBCHP_383-05_PBMC-DNA.txt, /Users/anabbi/Desktop/H4H/INTERCEPT/NextSeq/batch13_cfDNA_11Sep2020/mixcr/clones/CLONES_TRBCHP_367-04_cfDNA.txt, /Users/anabbi/Desktop/H4H/INTERCEPT/NextSeq/batch13_cfDNA_11Sep2020/mixcr/clones/CLONES_TRBCHP_367-04_cfDNA.txt\n",
       "6 /Users/anabbi/Desktop/H4H/INTERCEPT/NextSeq/remaining_batch_1_20April2021/mixcr/clones/CLONES_TRBCHP_337-03_PBMC-DNA.txt, /Users/anabbi/Desktop/H4H/INTERCEPT/NextSeq/remaining_batch_1_20April2021/mixcr/clones/CLONES_TRBCHP_337-03_PBMC-DNA.txt                                                                                            \n",
       "  index\n",
       "1   2  \n",
       "2   5  \n",
       "3  81  \n",
       "4  90  \n",
       "5  91  \n",
       "6 142  "
      ]
     },
     "metadata": {},
     "output_type": "display_data"
    }
   ],
   "source": [
    "head(gliph_input_dedup_ab_subset[ grepl(\",\", gliph_input_dedup_ab_subset$subject),])"
   ]
  },
  {
   "cell_type": "code",
   "execution_count": 23,
   "metadata": {},
   "outputs": [
    {
     "data": {
      "text/html": [
       "<table class=\"dataframe\">\n",
       "<caption>A data.table: 1 × 5</caption>\n",
       "<thead>\n",
       "\t<tr><th scope=col>CDR3b</th><th scope=col>TRBV</th><th scope=col>TRBJ</th><th scope=col>subject</th><th scope=col>count</th></tr>\n",
       "\t<tr><th scope=col>&lt;chr&gt;</th><th scope=col>&lt;chr&gt;</th><th scope=col>&lt;chr&gt;</th><th scope=col>&lt;chr&gt;</th><th scope=col>&lt;int&gt;</th></tr>\n",
       "</thead>\n",
       "<tbody>\n",
       "\t<tr><td>CSVTTGTEAFF</td><td>TRBV29-1</td><td>TRBJ1-1</td><td>CHP_315-05-PBMC-DNA, CHP_315-05-PBMC-DNA</td><td>30</td></tr>\n",
       "</tbody>\n",
       "</table>\n"
      ],
      "text/latex": [
       "A data.table: 1 × 5\n",
       "\\begin{tabular}{lllll}\n",
       " CDR3b & TRBV & TRBJ & subject & count\\\\\n",
       " <chr> & <chr> & <chr> & <chr> & <int>\\\\\n",
       "\\hline\n",
       "\t CSVTTGTEAFF & TRBV29-1 & TRBJ1-1 & CHP\\_315-05-PBMC-DNA, CHP\\_315-05-PBMC-DNA & 30\\\\\n",
       "\\end{tabular}\n"
      ],
      "text/markdown": [
       "\n",
       "A data.table: 1 × 5\n",
       "\n",
       "| CDR3b &lt;chr&gt; | TRBV &lt;chr&gt; | TRBJ &lt;chr&gt; | subject &lt;chr&gt; | count &lt;int&gt; |\n",
       "|---|---|---|---|---|\n",
       "| CSVTTGTEAFF | TRBV29-1 | TRBJ1-1 | CHP_315-05-PBMC-DNA, CHP_315-05-PBMC-DNA | 30 |\n",
       "\n"
      ],
      "text/plain": [
       "  CDR3b       TRBV     TRBJ    subject                                  count\n",
       "1 CSVTTGTEAFF TRBV29-1 TRBJ1-1 CHP_315-05-PBMC-DNA, CHP_315-05-PBMC-DNA 30   "
      ]
     },
     "metadata": {},
     "output_type": "display_data"
    }
   ],
   "source": [
    "ab[ ab$CDR3b == \"CSVTTGTEAFF\",]"
   ]
  },
  {
   "cell_type": "code",
   "execution_count": 19,
   "metadata": {},
   "outputs": [
    {
     "data": {
      "text/html": [],
      "text/latex": [],
      "text/markdown": [],
      "text/plain": [
       "character(0)"
      ]
     },
     "metadata": {},
     "output_type": "display_data"
    }
   ],
   "source": [
    "gliph_input$subject.condition[ !gliph_input$TRBV %in% ab$TRBV]"
   ]
  },
  {
   "cell_type": "code",
   "execution_count": 132,
   "metadata": {},
   "outputs": [
    {
     "ename": "ERROR",
     "evalue": "Error in `[.data.table`(gliph_input, , `:=`(names(ab), ab)): Supplied 68956 items to be assigned to 72634 items of column 'CDR3b'. If you wish to 'recycle' the RHS please use rep() to make this intent clear to readers of your code.\n",
     "output_type": "error",
     "traceback": [
      "Error in `[.data.table`(gliph_input, , `:=`(names(ab), ab)): Supplied 68956 items to be assigned to 72634 items of column 'CDR3b'. If you wish to 'recycle' the RHS please use rep() to make this intent clear to readers of your code.\nTraceback:\n",
      "1. gliph_input[, `:=`(names(ab), ab)]",
      "2. `[.data.table`(gliph_input, , `:=`(names(ab), ab))"
     ]
    }
   ],
   "source": [
    "gliph_input[, names(ab) := ab]"
   ]
  },
  {
   "cell_type": "code",
   "execution_count": 46,
   "metadata": {},
   "outputs": [],
   "source": [
    "dat <- gliph_input[ gliph_input$CDR3b == \"CASSLGTGELFF\",]"
   ]
  },
  {
   "cell_type": "code",
   "execution_count": 47,
   "metadata": {
    "scrolled": false
   },
   "outputs": [
    {
     "data": {
      "text/html": [
       "<table class=\"dataframe\">\n",
       "<caption>A data.table: 7 × 8</caption>\n",
       "<thead>\n",
       "\t<tr><th scope=col>CDR3b</th><th scope=col>TRBV</th><th scope=col>TRBJ</th><th scope=col>subject.condition</th><th scope=col>count</th><th scope=col>clonefraction</th><th scope=col>nSeqCDR3</th><th scope=col>file</th></tr>\n",
       "\t<tr><th scope=col>&lt;chr&gt;</th><th scope=col>&lt;chr&gt;</th><th scope=col>&lt;chr&gt;</th><th scope=col>&lt;chr&gt;</th><th scope=col>&lt;int&gt;</th><th scope=col>&lt;dbl&gt;</th><th scope=col>&lt;chr&gt;</th><th scope=col>&lt;chr&gt;</th></tr>\n",
       "</thead>\n",
       "<tbody>\n",
       "\t<tr><td>CASSLGTGELFF</td><td>TRBV12-3</td><td>TRBJ2-2</td><td>CHP_391-03_PBMC_DNA</td><td> 16</td><td>0.0026033192</td><td>TGTGCCAGCAGTTTAGGCACCGGGGAGCTGTTTTTT</td><td>/Users/anabbi/Desktop/H4H/INTERCEPT/NextSeq/batch11_23Apr2020/mixcr/clones/CLONES_TRBCHP_391-03_PBMC_DNA.txt            </td></tr>\n",
       "\t<tr><td>CASSLGTGELFF</td><td>TRBV11-1</td><td>TRBJ2-2</td><td>CHP_417-01_PBMC-DNA</td><td> 23</td><td>0.0015535292</td><td>TGTGCCAGCAGCTTAGGGACCGGGGAGCTGTTTTTT</td><td>/Users/anabbi/Desktop/H4H/INTERCEPT/NextSeq/batch12_30Apr2021/mixcr/clones/CLONES_TRBCHP_417-01_PBMC-DNA.txt            </td></tr>\n",
       "\t<tr><td>CASSLGTGELFF</td><td>TRBV11-1</td><td>TRBJ2-2</td><td>CHP_367-04_cfDNA   </td><td> 35</td><td>0.0005202527</td><td>TGTGCCAGCAGCTTAGGGACCGGGGAGCTGTTTTTT</td><td>/Users/anabbi/Desktop/H4H/INTERCEPT/NextSeq/batch13_cfDNA_11Sep2020/mixcr/clones/CLONES_TRBCHP_367-04_cfDNA.txt         </td></tr>\n",
       "\t<tr><td>CASSLGTGELFF</td><td>TRBV11-1</td><td>TRBJ2-2</td><td>CHP_390-02_cfDNA   </td><td> 45</td><td>0.0013057482</td><td>TGTGCCAGCAGCTTAGGGACCGGGGAGCTGTTTTTT</td><td>/Users/anabbi/Desktop/H4H/INTERCEPT/NextSeq/batch13_cfDNA_11Sep2020/mixcr/clones/CLONES_TRBCHP_390-02_cfDNA.txt         </td></tr>\n",
       "\t<tr><td>CASSLGTGELFF</td><td>TRBV12-4</td><td>TRBJ2-2</td><td>CHP_365-04_PBMC-DNA</td><td>165</td><td>0.0025414331</td><td>TGTGCCAGCAGTTTAGGAACCGGGGAGCTGTTTTTT</td><td>/Users/anabbi/Desktop/H4H/INTERCEPT/NextSeq/remaining_batch_2_22April2021/mixcr/clones/CLONES_TRBCHP_365-04_PBMC-DNA.txt</td></tr>\n",
       "\t<tr><td>CASSLGTGELFF</td><td>TRBV11-3</td><td>TRBJ2-2</td><td>CHP-342-03-PBMC-DNA</td><td>  9</td><td>0.0004719950</td><td>TGTGCCAGCAGCTTGGGCACCGGGGAGCTGTTTTTT</td><td>/Users/anabbi/Desktop/H4H/INTERCEPT/NextSeq/remaining_batch_4_28June2021/mixcr/clones/CLONES_TRBCHP-342-03-PBMC-DNA.txt </td></tr>\n",
       "\t<tr><td>CASSLGTGELFF</td><td>TRBV5-6 </td><td>TRBJ2-2</td><td>CHP-386-04-PBMC-DNA</td><td> 20</td><td>0.0001613840</td><td>TGTGCCAGCAGCTTGGGTACCGGGGAGCTGTTTTTT</td><td>/Users/anabbi/Desktop/H4H/INTERCEPT/NextSeq/remaining_batch_4_28June2021/mixcr/clones/CLONES_TRBCHP-386-04-PBMC-DNA.txt </td></tr>\n",
       "</tbody>\n",
       "</table>\n"
      ],
      "text/latex": [
       "A data.table: 7 × 8\n",
       "\\begin{tabular}{llllllll}\n",
       " CDR3b & TRBV & TRBJ & subject.condition & count & clonefraction & nSeqCDR3 & file\\\\\n",
       " <chr> & <chr> & <chr> & <chr> & <int> & <dbl> & <chr> & <chr>\\\\\n",
       "\\hline\n",
       "\t CASSLGTGELFF & TRBV12-3 & TRBJ2-2 & CHP\\_391-03\\_PBMC\\_DNA &  16 & 0.0026033192 & TGTGCCAGCAGTTTAGGCACCGGGGAGCTGTTTTTT & /Users/anabbi/Desktop/H4H/INTERCEPT/NextSeq/batch11\\_23Apr2020/mixcr/clones/CLONES\\_TRBCHP\\_391-03\\_PBMC\\_DNA.txt            \\\\\n",
       "\t CASSLGTGELFF & TRBV11-1 & TRBJ2-2 & CHP\\_417-01\\_PBMC-DNA &  23 & 0.0015535292 & TGTGCCAGCAGCTTAGGGACCGGGGAGCTGTTTTTT & /Users/anabbi/Desktop/H4H/INTERCEPT/NextSeq/batch12\\_30Apr2021/mixcr/clones/CLONES\\_TRBCHP\\_417-01\\_PBMC-DNA.txt            \\\\\n",
       "\t CASSLGTGELFF & TRBV11-1 & TRBJ2-2 & CHP\\_367-04\\_cfDNA    &  35 & 0.0005202527 & TGTGCCAGCAGCTTAGGGACCGGGGAGCTGTTTTTT & /Users/anabbi/Desktop/H4H/INTERCEPT/NextSeq/batch13\\_cfDNA\\_11Sep2020/mixcr/clones/CLONES\\_TRBCHP\\_367-04\\_cfDNA.txt         \\\\\n",
       "\t CASSLGTGELFF & TRBV11-1 & TRBJ2-2 & CHP\\_390-02\\_cfDNA    &  45 & 0.0013057482 & TGTGCCAGCAGCTTAGGGACCGGGGAGCTGTTTTTT & /Users/anabbi/Desktop/H4H/INTERCEPT/NextSeq/batch13\\_cfDNA\\_11Sep2020/mixcr/clones/CLONES\\_TRBCHP\\_390-02\\_cfDNA.txt         \\\\\n",
       "\t CASSLGTGELFF & TRBV12-4 & TRBJ2-2 & CHP\\_365-04\\_PBMC-DNA & 165 & 0.0025414331 & TGTGCCAGCAGTTTAGGAACCGGGGAGCTGTTTTTT & /Users/anabbi/Desktop/H4H/INTERCEPT/NextSeq/remaining\\_batch\\_2\\_22April2021/mixcr/clones/CLONES\\_TRBCHP\\_365-04\\_PBMC-DNA.txt\\\\\n",
       "\t CASSLGTGELFF & TRBV11-3 & TRBJ2-2 & CHP-342-03-PBMC-DNA &   9 & 0.0004719950 & TGTGCCAGCAGCTTGGGCACCGGGGAGCTGTTTTTT & /Users/anabbi/Desktop/H4H/INTERCEPT/NextSeq/remaining\\_batch\\_4\\_28June2021/mixcr/clones/CLONES\\_TRBCHP-342-03-PBMC-DNA.txt \\\\\n",
       "\t CASSLGTGELFF & TRBV5-6  & TRBJ2-2 & CHP-386-04-PBMC-DNA &  20 & 0.0001613840 & TGTGCCAGCAGCTTGGGTACCGGGGAGCTGTTTTTT & /Users/anabbi/Desktop/H4H/INTERCEPT/NextSeq/remaining\\_batch\\_4\\_28June2021/mixcr/clones/CLONES\\_TRBCHP-386-04-PBMC-DNA.txt \\\\\n",
       "\\end{tabular}\n"
      ],
      "text/markdown": [
       "\n",
       "A data.table: 7 × 8\n",
       "\n",
       "| CDR3b &lt;chr&gt; | TRBV &lt;chr&gt; | TRBJ &lt;chr&gt; | subject.condition &lt;chr&gt; | count &lt;int&gt; | clonefraction &lt;dbl&gt; | nSeqCDR3 &lt;chr&gt; | file &lt;chr&gt; |\n",
       "|---|---|---|---|---|---|---|---|\n",
       "| CASSLGTGELFF | TRBV12-3 | TRBJ2-2 | CHP_391-03_PBMC_DNA |  16 | 0.0026033192 | TGTGCCAGCAGTTTAGGCACCGGGGAGCTGTTTTTT | /Users/anabbi/Desktop/H4H/INTERCEPT/NextSeq/batch11_23Apr2020/mixcr/clones/CLONES_TRBCHP_391-03_PBMC_DNA.txt             |\n",
       "| CASSLGTGELFF | TRBV11-1 | TRBJ2-2 | CHP_417-01_PBMC-DNA |  23 | 0.0015535292 | TGTGCCAGCAGCTTAGGGACCGGGGAGCTGTTTTTT | /Users/anabbi/Desktop/H4H/INTERCEPT/NextSeq/batch12_30Apr2021/mixcr/clones/CLONES_TRBCHP_417-01_PBMC-DNA.txt             |\n",
       "| CASSLGTGELFF | TRBV11-1 | TRBJ2-2 | CHP_367-04_cfDNA    |  35 | 0.0005202527 | TGTGCCAGCAGCTTAGGGACCGGGGAGCTGTTTTTT | /Users/anabbi/Desktop/H4H/INTERCEPT/NextSeq/batch13_cfDNA_11Sep2020/mixcr/clones/CLONES_TRBCHP_367-04_cfDNA.txt          |\n",
       "| CASSLGTGELFF | TRBV11-1 | TRBJ2-2 | CHP_390-02_cfDNA    |  45 | 0.0013057482 | TGTGCCAGCAGCTTAGGGACCGGGGAGCTGTTTTTT | /Users/anabbi/Desktop/H4H/INTERCEPT/NextSeq/batch13_cfDNA_11Sep2020/mixcr/clones/CLONES_TRBCHP_390-02_cfDNA.txt          |\n",
       "| CASSLGTGELFF | TRBV12-4 | TRBJ2-2 | CHP_365-04_PBMC-DNA | 165 | 0.0025414331 | TGTGCCAGCAGTTTAGGAACCGGGGAGCTGTTTTTT | /Users/anabbi/Desktop/H4H/INTERCEPT/NextSeq/remaining_batch_2_22April2021/mixcr/clones/CLONES_TRBCHP_365-04_PBMC-DNA.txt |\n",
       "| CASSLGTGELFF | TRBV11-3 | TRBJ2-2 | CHP-342-03-PBMC-DNA |   9 | 0.0004719950 | TGTGCCAGCAGCTTGGGCACCGGGGAGCTGTTTTTT | /Users/anabbi/Desktop/H4H/INTERCEPT/NextSeq/remaining_batch_4_28June2021/mixcr/clones/CLONES_TRBCHP-342-03-PBMC-DNA.txt  |\n",
       "| CASSLGTGELFF | TRBV5-6  | TRBJ2-2 | CHP-386-04-PBMC-DNA |  20 | 0.0001613840 | TGTGCCAGCAGCTTGGGTACCGGGGAGCTGTTTTTT | /Users/anabbi/Desktop/H4H/INTERCEPT/NextSeq/remaining_batch_4_28June2021/mixcr/clones/CLONES_TRBCHP-386-04-PBMC-DNA.txt  |\n",
       "\n"
      ],
      "text/plain": [
       "  CDR3b        TRBV     TRBJ    subject.condition   count clonefraction\n",
       "1 CASSLGTGELFF TRBV12-3 TRBJ2-2 CHP_391-03_PBMC_DNA  16   0.0026033192 \n",
       "2 CASSLGTGELFF TRBV11-1 TRBJ2-2 CHP_417-01_PBMC-DNA  23   0.0015535292 \n",
       "3 CASSLGTGELFF TRBV11-1 TRBJ2-2 CHP_367-04_cfDNA     35   0.0005202527 \n",
       "4 CASSLGTGELFF TRBV11-1 TRBJ2-2 CHP_390-02_cfDNA     45   0.0013057482 \n",
       "5 CASSLGTGELFF TRBV12-4 TRBJ2-2 CHP_365-04_PBMC-DNA 165   0.0025414331 \n",
       "6 CASSLGTGELFF TRBV11-3 TRBJ2-2 CHP-342-03-PBMC-DNA   9   0.0004719950 \n",
       "7 CASSLGTGELFF TRBV5-6  TRBJ2-2 CHP-386-04-PBMC-DNA  20   0.0001613840 \n",
       "  nSeqCDR3                            \n",
       "1 TGTGCCAGCAGTTTAGGCACCGGGGAGCTGTTTTTT\n",
       "2 TGTGCCAGCAGCTTAGGGACCGGGGAGCTGTTTTTT\n",
       "3 TGTGCCAGCAGCTTAGGGACCGGGGAGCTGTTTTTT\n",
       "4 TGTGCCAGCAGCTTAGGGACCGGGGAGCTGTTTTTT\n",
       "5 TGTGCCAGCAGTTTAGGAACCGGGGAGCTGTTTTTT\n",
       "6 TGTGCCAGCAGCTTGGGCACCGGGGAGCTGTTTTTT\n",
       "7 TGTGCCAGCAGCTTGGGTACCGGGGAGCTGTTTTTT\n",
       "  file                                                                                                                    \n",
       "1 /Users/anabbi/Desktop/H4H/INTERCEPT/NextSeq/batch11_23Apr2020/mixcr/clones/CLONES_TRBCHP_391-03_PBMC_DNA.txt            \n",
       "2 /Users/anabbi/Desktop/H4H/INTERCEPT/NextSeq/batch12_30Apr2021/mixcr/clones/CLONES_TRBCHP_417-01_PBMC-DNA.txt            \n",
       "3 /Users/anabbi/Desktop/H4H/INTERCEPT/NextSeq/batch13_cfDNA_11Sep2020/mixcr/clones/CLONES_TRBCHP_367-04_cfDNA.txt         \n",
       "4 /Users/anabbi/Desktop/H4H/INTERCEPT/NextSeq/batch13_cfDNA_11Sep2020/mixcr/clones/CLONES_TRBCHP_390-02_cfDNA.txt         \n",
       "5 /Users/anabbi/Desktop/H4H/INTERCEPT/NextSeq/remaining_batch_2_22April2021/mixcr/clones/CLONES_TRBCHP_365-04_PBMC-DNA.txt\n",
       "6 /Users/anabbi/Desktop/H4H/INTERCEPT/NextSeq/remaining_batch_4_28June2021/mixcr/clones/CLONES_TRBCHP-342-03-PBMC-DNA.txt \n",
       "7 /Users/anabbi/Desktop/H4H/INTERCEPT/NextSeq/remaining_batch_4_28June2021/mixcr/clones/CLONES_TRBCHP-386-04-PBMC-DNA.txt "
      ]
     },
     "metadata": {},
     "output_type": "display_data"
    }
   ],
   "source": [
    "dat"
   ]
  },
  {
   "cell_type": "code",
   "execution_count": 51,
   "metadata": {},
   "outputs": [],
   "source": [
    "#library(data.table)\n",
    "\n",
    "setDT(dat)\n",
    "\n",
    "ab <- dat[, .(subject = toString(subject.condition), #toString joins elements into a single column separated by ,\n",
    "              file = toString(file), #join files\n",
    "              TRBV = toString(TRBV), #join TRBVs (or not?)\n",
    "              count = sum(count)),  by = \"CDR3b\"] #sum counts #collapse if CDR3 is duplicated\n",
    "\n",
    "#dat[, names(ab) := ab]\n",
    "\n",
    "tm <- dat[ match(ab$CDR3b, dat$CDR3b),] #match back to the original dataframe"
   ]
  },
  {
   "cell_type": "code",
   "execution_count": null,
   "metadata": {},
   "outputs": [],
   "source": []
  },
  {
   "cell_type": "code",
   "execution_count": null,
   "metadata": {},
   "outputs": [],
   "source": []
  },
  {
   "cell_type": "code",
   "execution_count": null,
   "metadata": {},
   "outputs": [],
   "source": []
  },
  {
   "cell_type": "code",
   "execution_count": 34,
   "metadata": {},
   "outputs": [
    {
     "data": {
      "text/plain": [
       "\n",
       "       CASSLGTGELFF       CASSLQGNQPQHF        CASSLRGNEQFF        CASSLRGTEAFF \n",
       "                  7                   7                   7                   7 \n",
       "     CASSPEGGYTEAFF         CASSPGYGYTF        CASSPPGYGYTF   CASSQDSQGGPNYGYTF \n",
       "                  7                   7                   7                   7 \n",
       "    CASSQGTEGNQPQHF CASSRNTQPQVGRSNEQFF      CASSVGGTGNTIYF       CASSVGTRYEQYF \n",
       "                  7                   7                   7                   7 \n",
       "        CATELDYEQYF      CSARDRGLNTEAFF      CSARGQEITEKLFF      CSRVGPEGTDTQYF \n",
       "                  7                   7                   7                   7 \n",
       " CSVGKTGRANRLNTEAFF       CASSDSNTGELFF        CASSLGGYGYTF       CASSLGPNTEAFF \n",
       "                  7                   8                   8                   8 \n",
       "       CASSLGTDTQYF         CASSLGYEQYF       CASSLTGNTEAFF      CASSPLNSNQPQHF \n",
       "                  8                   8                   8                   8 \n",
       "    CASSQGLAGSYEQYF   CASSRTTGTPLTGELFF         CASSSTDTQYF         CASSSYYEQYF \n",
       "                  8                   8                   8                   8 \n",
       "    CASSYGLAGGYEQYF      CSARDLAVSYEQYF     CASSGTSGSTDTQYF         CASSLEYELFF \n",
       "                  8                   8                   9                   9 \n",
       "      CASSLGQNTEAFF     CASSQDRQRNTEAFF     CSASSIGGATDTQYF      CASSDSSGANVLTF \n",
       "                  9                   9                   9                  10 \n",
       "    CASSIGRNSNQPQHF     CASSSWETLNTEAFF     CASSDSSGSTDTQYF         CASSSSYEQYF \n",
       "                 10                  10                  11                  11 \n",
       "      CASRTGWNTEAFF       CASSLGRNQPQHF      CSVFTGGAPGEQYF      CASSHDREQETQYF \n",
       "                 12                  12                  12                  14 \n",
       "   CASSRFAGGSGNTIYF      CASRARELNTEAFF    CATSDSGGLSNQPQHF    CAGRSGKGAAYNEQFF \n",
       "                 14                  15                  16                  18 \n",
       "      CASSLRPPDIQYF    CASSPDRGRYQETQYF \n",
       "                 22                  39 "
      ]
     },
     "metadata": {},
     "output_type": "display_data"
    }
   ],
   "source": [
    "tail(sort(table(gliph_input$CDR3b)),50)"
   ]
  },
  {
   "cell_type": "code",
   "execution_count": null,
   "metadata": {},
   "outputs": [],
   "source": []
  },
  {
   "cell_type": "code",
   "execution_count": 74,
   "metadata": {},
   "outputs": [
    {
     "data": {
      "text/html": [
       "<table class=\"dataframe\">\n",
       "<caption>A tibble: 6 × 2</caption>\n",
       "<thead>\n",
       "\t<tr><th scope=col>CDR3b</th><th scope=col>V5</th></tr>\n",
       "\t<tr><th scope=col>&lt;chr&gt;</th><th scope=col>&lt;chr&gt;</th></tr>\n",
       "</thead>\n",
       "<tbody>\n",
       "\t<tr><td>CANHGGSEQYV    </td><td>CHP_391-02_PBMC_DNA</td></tr>\n",
       "\t<tr><td>CASEPPGSVNEQFF </td><td>CHP_350-04-PBMC-DNA</td></tr>\n",
       "\t<tr><td>CASETDGGGTDTQYF</td><td>CHP_387-02_PBMC_DNA</td></tr>\n",
       "\t<tr><td>CASIRGGDKEKLFF </td><td>CHP_367-01-PBMC-DNA</td></tr>\n",
       "\t<tr><td>CASREDSYQETQYF </td><td>CHP_392-02_PBMC_DNA</td></tr>\n",
       "\t<tr><td>CASRNRGRYGYTF  </td><td>CHP_352-02-PBMC-DNA</td></tr>\n",
       "</tbody>\n",
       "</table>\n"
      ],
      "text/latex": [
       "A tibble: 6 × 2\n",
       "\\begin{tabular}{ll}\n",
       " CDR3b & V5\\\\\n",
       " <chr> & <chr>\\\\\n",
       "\\hline\n",
       "\t CANHGGSEQYV     & CHP\\_391-02\\_PBMC\\_DNA\\\\\n",
       "\t CASEPPGSVNEQFF  & CHP\\_350-04-PBMC-DNA\\\\\n",
       "\t CASETDGGGTDTQYF & CHP\\_387-02\\_PBMC\\_DNA\\\\\n",
       "\t CASIRGGDKEKLFF  & CHP\\_367-01-PBMC-DNA\\\\\n",
       "\t CASREDSYQETQYF  & CHP\\_392-02\\_PBMC\\_DNA\\\\\n",
       "\t CASRNRGRYGYTF   & CHP\\_352-02-PBMC-DNA\\\\\n",
       "\\end{tabular}\n"
      ],
      "text/markdown": [
       "\n",
       "A tibble: 6 × 2\n",
       "\n",
       "| CDR3b &lt;chr&gt; | V5 &lt;chr&gt; |\n",
       "|---|---|\n",
       "| CANHGGSEQYV     | CHP_391-02_PBMC_DNA |\n",
       "| CASEPPGSVNEQFF  | CHP_350-04-PBMC-DNA |\n",
       "| CASETDGGGTDTQYF | CHP_387-02_PBMC_DNA |\n",
       "| CASIRGGDKEKLFF  | CHP_367-01-PBMC-DNA |\n",
       "| CASREDSYQETQYF  | CHP_392-02_PBMC_DNA |\n",
       "| CASRNRGRYGYTF   | CHP_352-02-PBMC-DNA |\n",
       "\n"
      ],
      "text/plain": [
       "  CDR3b           V5                 \n",
       "1 CANHGGSEQYV     CHP_391-02_PBMC_DNA\n",
       "2 CASEPPGSVNEQFF  CHP_350-04-PBMC-DNA\n",
       "3 CASETDGGGTDTQYF CHP_387-02_PBMC_DNA\n",
       "4 CASIRGGDKEKLFF  CHP_367-01-PBMC-DNA\n",
       "5 CASREDSYQETQYF  CHP_392-02_PBMC_DNA\n",
       "6 CASRNRGRYGYTF   CHP_352-02-PBMC-DNA"
      ]
     },
     "metadata": {},
     "output_type": "display_data"
    }
   ],
   "source": [
    "head(dat2)"
   ]
  },
  {
   "cell_type": "code",
   "execution_count": 67,
   "metadata": {},
   "outputs": [],
   "source": [
    "?group_by_at"
   ]
  },
  {
   "cell_type": "code",
   "execution_count": null,
   "metadata": {},
   "outputs": [],
   "source": [
    "# Remove scores from VJ columns\n",
    "\n",
    "    \n"
   ]
  },
  {
   "cell_type": "code",
   "execution_count": null,
   "metadata": {},
   "outputs": [],
   "source": [
    "\n",
    "\n",
    "\n",
    "for(f in file_list_ds){\n",
    "    filename <- gsub(\".*CLONES_\", \"CLONES_\", f)\n",
    "    filename <- gsub(\".txt\", \"\", filename)\n",
    "\n",
    "    mixcrfle <- read.table(paste0(datapath, f),sep = \"\\t\", header = TRUE, stringsAsFactors = F)  \n",
    "\n",
    "    gliph_input <- mixcrfle[,c(\"aaSeqCDR3\", \"allVHitsWithScore\",\n",
    "                               \"allJHitsWithScore\", \"cloneCount\")]\n",
    "    colnames(gliph_input) <- c(\"CDR3b\", \"TRBV\", \"TRBJ\", \"Counts\")\n",
    "# Remove scores from VJ columns\n",
    "    gliph_input$TRBV <- gsub(\"[*]0.*\", \"\", gliph_input$TRBV)\n",
    "    gliph_input$TRBJ <- gsub(\"[*]0.*\", \"\", gliph_input$TRBJ)\n",
    "# Remove non-productive\n",
    "    gliph_input <- gliph_input[!grepl(\"_\", gliph_input$CDR3b),]\n",
    "    gliph_input <- gliph_input[!grepl(\"[*]\", gliph_input$CDR3b),]\n",
    "# Remove singlet and doublets    \n",
    "    gliph_input <- gliph_input[gliph_input$Counts > 2,]\n",
    "    \n",
    "    write.table(gliph_input, file = paste0(outpath, filename, \".GLIPHinput.txt\"),\n",
    "                sep = \"\\t\", row.names = FALSE, quote = FALSE)\n",
    "}\n"
   ]
  },
  {
   "cell_type": "code",
   "execution_count": 46,
   "metadata": {},
   "outputs": [],
   "source": []
  },
  {
   "cell_type": "code",
   "execution_count": 49,
   "metadata": {},
   "outputs": [],
   "source": [
    "filelist <- list.files(datapath, pattern = \"ove10\")"
   ]
  },
  {
   "cell_type": "code",
   "execution_count": 51,
   "metadata": {},
   "outputs": [],
   "source": [
    "all.files <- lapply(filelist, function(f){ read.table(paste0(datapath,f), sep = \"\\t\", header = FALSE,\n",
    "                                                           stringsAsFactors = F)})"
   ]
  },
  {
   "cell_type": "code",
   "execution_count": 54,
   "metadata": {},
   "outputs": [],
   "source": [
    "filenames <- gsub(\"CLONES_TRB\", \"\", filelist)\n",
    "filenames <- gsub(\"_20000.*\", \"\", filenames)"
   ]
  },
  {
   "cell_type": "code",
   "execution_count": 56,
   "metadata": {},
   "outputs": [],
   "source": [
    "filelst <- mapply(cbind, all.files, \"filename\"=filenames, SIMPLIFY=F)"
   ]
  },
  {
   "cell_type": "code",
   "execution_count": 83,
   "metadata": {},
   "outputs": [],
   "source": [
    "gliph.df <- as.data.frame(do.call(rbind, filelst))"
   ]
  },
  {
   "cell_type": "code",
   "execution_count": 84,
   "metadata": {},
   "outputs": [],
   "source": [
    "gliph.df$filename <- as.character(gliph.df$filename)"
   ]
  },
  {
   "cell_type": "code",
   "execution_count": 85,
   "metadata": {},
   "outputs": [
    {
     "data": {
      "text/html": [
       "<table>\n",
       "<caption>A data.frame: 6 × 7</caption>\n",
       "<thead>\n",
       "\t<tr><th scope=col>V1</th><th scope=col>V2</th><th scope=col>V3</th><th scope=col>V4</th><th scope=col>V5</th><th scope=col>V6</th><th scope=col>filename</th></tr>\n",
       "\t<tr><th scope=col>&lt;chr&gt;</th><th scope=col>&lt;chr&gt;</th><th scope=col>&lt;chr&gt;</th><th scope=col>&lt;chr&gt;</th><th scope=col>&lt;chr&gt;</th><th scope=col>&lt;chr&gt;</th><th scope=col>&lt;chr&gt;</th></tr>\n",
       "</thead>\n",
       "<tbody>\n",
       "\t<tr><td>Motif</td><td>Counts</td><td>avgRef</td><td>topRef</td><td>OvE    </td><td>p-value</td><td>023-Blood          </td></tr>\n",
       "\t<tr><td>Motif</td><td>Counts</td><td>avgRef</td><td>topRef</td><td>OvE    </td><td>p-value</td><td>CHP_303-05-PBMC-DNA</td></tr>\n",
       "\t<tr><td>LGKE </td><td>3     </td><td>0.01  </td><td>1     </td><td>249.999</td><td>0.001  </td><td>CHP_303-05-PBMC-DNA</td></tr>\n",
       "\t<tr><td>LFFG </td><td>3     </td><td>0     </td><td>1     </td><td>3000   </td><td>0.001  </td><td>CHP_303-05-PBMC-DNA</td></tr>\n",
       "\t<tr><td>PTLR </td><td>3     </td><td>0.01  </td><td>1     </td><td>176.47 </td><td>0.001  </td><td>CHP_303-05-PBMC-DNA</td></tr>\n",
       "\t<tr><td>RLTV </td><td>3     </td><td>0.01  </td><td>1     </td><td>157.894</td><td>0.001  </td><td>CHP_303-05-PBMC-DNA</td></tr>\n",
       "</tbody>\n",
       "</table>\n"
      ],
      "text/latex": [
       "A data.frame: 6 × 7\n",
       "\\begin{tabular}{r|lllllll}\n",
       " V1 & V2 & V3 & V4 & V5 & V6 & filename\\\\\n",
       " <chr> & <chr> & <chr> & <chr> & <chr> & <chr> & <chr>\\\\\n",
       "\\hline\n",
       "\t Motif & Counts & avgRef & topRef & OvE     & p-value & 023-Blood          \\\\\n",
       "\t Motif & Counts & avgRef & topRef & OvE     & p-value & CHP\\_303-05-PBMC-DNA\\\\\n",
       "\t LGKE  & 3      & 0.01   & 1      & 249.999 & 0.001   & CHP\\_303-05-PBMC-DNA\\\\\n",
       "\t LFFG  & 3      & 0      & 1      & 3000    & 0.001   & CHP\\_303-05-PBMC-DNA\\\\\n",
       "\t PTLR  & 3      & 0.01   & 1      & 176.47  & 0.001   & CHP\\_303-05-PBMC-DNA\\\\\n",
       "\t RLTV  & 3      & 0.01   & 1      & 157.894 & 0.001   & CHP\\_303-05-PBMC-DNA\\\\\n",
       "\\end{tabular}\n"
      ],
      "text/markdown": [
       "\n",
       "A data.frame: 6 × 7\n",
       "\n",
       "| V1 &lt;chr&gt; | V2 &lt;chr&gt; | V3 &lt;chr&gt; | V4 &lt;chr&gt; | V5 &lt;chr&gt; | V6 &lt;chr&gt; | filename &lt;chr&gt; |\n",
       "|---|---|---|---|---|---|---|\n",
       "| Motif | Counts | avgRef | topRef | OvE     | p-value | 023-Blood           |\n",
       "| Motif | Counts | avgRef | topRef | OvE     | p-value | CHP_303-05-PBMC-DNA |\n",
       "| LGKE  | 3      | 0.01   | 1      | 249.999 | 0.001   | CHP_303-05-PBMC-DNA |\n",
       "| LFFG  | 3      | 0      | 1      | 3000    | 0.001   | CHP_303-05-PBMC-DNA |\n",
       "| PTLR  | 3      | 0.01   | 1      | 176.47  | 0.001   | CHP_303-05-PBMC-DNA |\n",
       "| RLTV  | 3      | 0.01   | 1      | 157.894 | 0.001   | CHP_303-05-PBMC-DNA |\n",
       "\n"
      ],
      "text/plain": [
       "  V1    V2     V3     V4     V5      V6      filename           \n",
       "1 Motif Counts avgRef topRef OvE     p-value 023-Blood          \n",
       "2 Motif Counts avgRef topRef OvE     p-value CHP_303-05-PBMC-DNA\n",
       "3 LGKE  3      0.01   1      249.999 0.001   CHP_303-05-PBMC-DNA\n",
       "4 LFFG  3      0      1      3000    0.001   CHP_303-05-PBMC-DNA\n",
       "5 PTLR  3      0.01   1      176.47  0.001   CHP_303-05-PBMC-DNA\n",
       "6 RLTV  3      0.01   1      157.894 0.001   CHP_303-05-PBMC-DNA"
      ]
     },
     "metadata": {},
     "output_type": "display_data"
    }
   ],
   "source": [
    "head(gliph.df)"
   ]
  },
  {
   "cell_type": "code",
   "execution_count": 86,
   "metadata": {},
   "outputs": [],
   "source": [
    "colnames(gliph.df) <- c(\"Motif\", \"Counts\", \"avgRef\", \"topRef\", \"OvE\", \"p-value\",\"samplename\")"
   ]
  },
  {
   "cell_type": "code",
   "execution_count": 87,
   "metadata": {},
   "outputs": [],
   "source": [
    "gliph.df <- gliph.df[gliph.df$Motif != \"Motif\", ]"
   ]
  },
  {
   "cell_type": "code",
   "execution_count": 88,
   "metadata": {},
   "outputs": [],
   "source": [
    "gliph.df$Counts <- as.numeric(gliph.df$Counts)"
   ]
  },
  {
   "cell_type": "code",
   "execution_count": 89,
   "metadata": {},
   "outputs": [
    {
     "data": {
      "text/plain": [
       "   Min. 1st Qu.  Median    Mean 3rd Qu.    Max. \n",
       "  3.000   3.000   3.000   3.511   4.000   8.000 "
      ]
     },
     "metadata": {},
     "output_type": "display_data"
    }
   ],
   "source": [
    "summary(gliph.df$Counts)"
   ]
  },
  {
   "cell_type": "code",
   "execution_count": 90,
   "metadata": {},
   "outputs": [
    {
     "data": {
      "text/plain": [
       "\n",
       "  CHP_303-05-PBMC-DNA   CHP_323-05-PBMC-DNA   CHP_331-05-PBMC-DNA \n",
       "                   32                     6                     1 \n",
       "  CHP_335-03-PBMC-DNA   CHP_338-03-PBMC-DNA   CHP_339-05-PBMC-DNA \n",
       "                    1                    22                     3 \n",
       "  CHP_340-05-PBMC-DNA   CHP_345-03-PBMC-DNA   CHP_347-01-PBMC-DNA \n",
       "                    5                     1                     1 \n",
       "  CHP_347-02-PBMC-DNA   CHP_348-01-PBMC-DNA   CHP_350-02-PBMC-DNA \n",
       "                    2                     1                     1 \n",
       "  CHP_353-01-PBMC-DNA   CHP_353-05-PBMC-DNA   CHP_357-01-PBMC-DNA \n",
       "                    1                     2                     1 \n",
       "  CHP_359-02-PBMC-DNA   CHP_361-01-PBMC-DNA   CHP_362-02-PBMC-DNA \n",
       "                    1                     1                     3 \n",
       "  CHP_364-01-PBMC-DNA   CHP_366-01-PBMC-DNA   CHP_368-04-PBMC-DNA \n",
       "                    1                     1                     1 \n",
       "  CHP_368-05-PBMC-DNA   CHP_370-05-PBMC-DNA      CHP_371-01-cfDNA \n",
       "                   28                     1                     4 \n",
       "  CHP_375-02-PBMC-DNA   CHP_376-03-PBMC-DNA   CHP_378-01-PBMC-DNA \n",
       "                    1                    24                    23 \n",
       "  CHP_380-03-PBMC-DNA   CHP_381-02-PBMC-DNA   CHP_387-01-PBMC-DNA \n",
       "                    1                     2                     1 \n",
       "  CHP_396-01-PBMC-DNA LFS_TCR-4570-PBMC-DNA LFS_TCR-4758-PBMC-DNA \n",
       "                    1                     1                     1 \n",
       "LFS_TCR-4759-PBMC-DNA LFS_TCR-4837-PBMC-DNA \n",
       "                    1                     5 "
      ]
     },
     "metadata": {},
     "output_type": "display_data"
    }
   ],
   "source": [
    "table(gliph.df$samplename)"
   ]
  },
  {
   "cell_type": "code",
   "execution_count": 73,
   "metadata": {
    "scrolled": true
   },
   "outputs": [
    {
     "data": {
      "text/html": [
       "<table>\n",
       "<caption>A data.frame: 182 × 7</caption>\n",
       "<thead>\n",
       "\t<tr><th></th><th scope=col>Motif</th><th scope=col>Counts</th><th scope=col>avgRef</th><th scope=col>topRef</th><th scope=col>OvE</th><th scope=col>p-value</th><th scope=col>samplename</th></tr>\n",
       "\t<tr><th></th><th scope=col>&lt;chr&gt;</th><th scope=col>&lt;dbl&gt;</th><th scope=col>&lt;chr&gt;</th><th scope=col>&lt;chr&gt;</th><th scope=col>&lt;chr&gt;</th><th scope=col>&lt;chr&gt;</th><th scope=col>&lt;fct&gt;</th></tr>\n",
       "</thead>\n",
       "<tbody>\n",
       "\t<tr><th scope=row>110</th><td>LRG </td><td>8</td><td>0.74</td><td>4</td><td>10.738  </td><td>0.001</td><td>CHP_347-01-PBMC-DNA  </td></tr>\n",
       "\t<tr><th scope=row>347</th><td>TNE </td><td>7</td><td>0.54</td><td>4</td><td>12.891  </td><td>0.001</td><td>LFS_TCR-4837-PBMC-DNA</td></tr>\n",
       "\t<tr><th scope=row>348</th><td>ATNE</td><td>7</td><td>0.18</td><td>2</td><td>38.674  </td><td>0.001</td><td>LFS_TCR-4837-PBMC-DNA</td></tr>\n",
       "\t<tr><th scope=row>349</th><td>ATN </td><td>7</td><td>0.24</td><td>3</td><td>29.045  </td><td>0.001</td><td>LFS_TCR-4837-PBMC-DNA</td></tr>\n",
       "\t<tr><th scope=row>350</th><td>TNEK</td><td>7</td><td>0.42</td><td>4</td><td>16.509  </td><td>0.001</td><td>LFS_TCR-4837-PBMC-DNA</td></tr>\n",
       "\t<tr><th scope=row>11</th><td>VLG </td><td>6</td><td>0.53</td><td>4</td><td>11.214  </td><td>0.001</td><td>CHP_303-05-PBMC-DNA  </td></tr>\n",
       "\t<tr><th scope=row>22</th><td>GEL </td><td>5</td><td>0.21</td><td>3</td><td>22.935  </td><td>0.001</td><td>CHP_303-05-PBMC-DNA  </td></tr>\n",
       "\t<tr><th scope=row>61</th><td>RMNT</td><td>5</td><td>0.33</td><td>4</td><td>14.97   </td><td>0.001</td><td>CHP_338-03-PBMC-DNA  </td></tr>\n",
       "\t<tr><th scope=row>72</th><td>RMN </td><td>5</td><td>0.37</td><td>4</td><td>13.192  </td><td>0.001</td><td>CHP_338-03-PBMC-DNA  </td></tr>\n",
       "\t<tr><th scope=row>126</th><td>YTG </td><td>5</td><td>0.47</td><td>4</td><td>10.615  </td><td>0.001</td><td>CHP_350-02-PBMC-DNA  </td></tr>\n",
       "\t<tr><th scope=row>165</th><td>AGGN</td><td>5</td><td>0.39</td><td>3</td><td>12.787  </td><td>0.001</td><td>CHP_359-02-PBMC-DNA  </td></tr>\n",
       "\t<tr><th scope=row>298</th><td>EVS </td><td>5</td><td>0.29</td><td>3</td><td>16.891  </td><td>0.001</td><td>CHP_378-01-PBMC-DNA  </td></tr>\n",
       "\t<tr><th scope=row>7</th><td>APES</td><td>4</td><td>0   </td><td>1</td><td>1333.333</td><td>0.001</td><td>CHP_303-05-PBMC-DNA  </td></tr>\n",
       "\t<tr><th scope=row>8</th><td>TVL </td><td>4</td><td>0.13</td><td>2</td><td>29.629  </td><td>0.001</td><td>CHP_303-05-PBMC-DNA  </td></tr>\n",
       "\t<tr><th scope=row>10</th><td>VGAP</td><td>4</td><td>0.01</td><td>1</td><td>363.636 </td><td>0.001</td><td>CHP_303-05-PBMC-DNA  </td></tr>\n",
       "\t<tr><th scope=row>17</th><td>TVLG</td><td>4</td><td>0.02</td><td>1</td><td>166.666 </td><td>0.001</td><td>CHP_303-05-PBMC-DNA  </td></tr>\n",
       "\t<tr><th scope=row>20</th><td>PES </td><td>4</td><td>0.08</td><td>2</td><td>47.058  </td><td>0.001</td><td>CHP_303-05-PBMC-DNA  </td></tr>\n",
       "\t<tr><th scope=row>31</th><td>APE </td><td>4</td><td>0.18</td><td>2</td><td>21.739  </td><td>0.001</td><td>CHP_303-05-PBMC-DNA  </td></tr>\n",
       "\t<tr><th scope=row>34</th><td>CP  </td><td>4</td><td>0.1 </td><td>2</td><td>38.834  </td><td>0.001</td><td>CHP_303-05-PBMC-DNA  </td></tr>\n",
       "\t<tr><th scope=row>43</th><td>QF  </td><td>4</td><td>0.23</td><td>3</td><td>17.316  </td><td>0.001</td><td>CHP_323-05-PBMC-DNA  </td></tr>\n",
       "\t<tr><th scope=row>50</th><td>SPY </td><td>4</td><td>0.26</td><td>3</td><td>15.384  </td><td>0.001</td><td>CHP_331-05-PBMC-DNA  </td></tr>\n",
       "\t<tr><th scope=row>52</th><td>LAR </td><td>4</td><td>0.3 </td><td>3</td><td>13.245  </td><td>0.001</td><td>CHP_335-03-PBMC-DNA  </td></tr>\n",
       "\t<tr><th scope=row>57</th><td>VLR </td><td>4</td><td>0.28</td><td>3</td><td>13.937  </td><td>0.001</td><td>CHP_338-03-PBMC-DNA  </td></tr>\n",
       "\t<tr><th scope=row>58</th><td>VLRG</td><td>4</td><td>0.07</td><td>3</td><td>53.333  </td><td>0.001</td><td>CHP_338-03-PBMC-DNA  </td></tr>\n",
       "\t<tr><th scope=row>59</th><td>AVL </td><td>4</td><td>0.26</td><td>3</td><td>14.869  </td><td>0.001</td><td>CHP_338-03-PBMC-DNA  </td></tr>\n",
       "\t<tr><th scope=row>80</th><td>TLR </td><td>4</td><td>0.18</td><td>3</td><td>21.621  </td><td>0.001</td><td>CHP_339-05-PBMC-DNA  </td></tr>\n",
       "\t<tr><th scope=row>82</th><td>SFE </td><td>4</td><td>0.31</td><td>3</td><td>12.903  </td><td>0.001</td><td>CHP_339-05-PBMC-DNA  </td></tr>\n",
       "\t<tr><th scope=row>87</th><td>TLR </td><td>4</td><td>0.39</td><td>3</td><td>10.126  </td><td>0.001</td><td>CHP_340-05-PBMC-DNA  </td></tr>\n",
       "\t<tr><th scope=row>88</th><td>TLRG</td><td>4</td><td>0.09</td><td>2</td><td>43.956  </td><td>0.001</td><td>CHP_340-05-PBMC-DNA  </td></tr>\n",
       "\t<tr><th scope=row>91</th><td>LRGA</td><td>4</td><td>0.21</td><td>3</td><td>18.433  </td><td>0.001</td><td>CHP_340-05-PBMC-DNA  </td></tr>\n",
       "\t<tr><th scope=row>⋮</th><td>⋮</td><td>⋮</td><td>⋮</td><td>⋮</td><td>⋮</td><td>⋮</td><td>⋮</td></tr>\n",
       "\t<tr><th scope=row>272</th><td>VLGK</td><td>3</td><td>0.01</td><td>1</td><td>249.999</td><td>0.001</td><td>CHP_376-03-PBMC-DNA</td></tr>\n",
       "\t<tr><th scope=row>273</th><td>TVLG</td><td>3</td><td>0.02</td><td>1</td><td>149.999</td><td>0.001</td><td>CHP_376-03-PBMC-DNA</td></tr>\n",
       "\t<tr><th scope=row>274</th><td>FFGE</td><td>3</td><td>0.01</td><td>1</td><td>199.999</td><td>0.001</td><td>CHP_376-03-PBMC-DNA</td></tr>\n",
       "\t<tr><th scope=row>275</th><td>ESSE</td><td>3</td><td>0   </td><td>1</td><td>1500   </td><td>0.001</td><td>CHP_376-03-PBMC-DNA</td></tr>\n",
       "\t<tr><th scope=row>276</th><td>CPT </td><td>3</td><td>0.01</td><td>2</td><td>199.999</td><td>0.001</td><td>CHP_376-03-PBMC-DNA</td></tr>\n",
       "\t<tr><th scope=row>279</th><td>LFF </td><td>3</td><td>0.02</td><td>1</td><td>119.999</td><td>0.001</td><td>CHP_376-03-PBMC-DNA</td></tr>\n",
       "\t<tr><th scope=row>280</th><td>AGWA</td><td>3</td><td>0.02</td><td>1</td><td>103.448</td><td>0.001</td><td>CHP_376-03-PBMC-DNA</td></tr>\n",
       "\t<tr><th scope=row>281</th><td>FGEG</td><td>3</td><td>0.01</td><td>1</td><td>157.894</td><td>0.001</td><td>CHP_376-03-PBMC-DNA</td></tr>\n",
       "\t<tr><th scope=row>282</th><td>AEVS</td><td>3</td><td>0   </td><td>1</td><td>1000   </td><td>0.001</td><td>CHP_376-03-PBMC-DNA</td></tr>\n",
       "\t<tr><th scope=row>283</th><td>SSC </td><td>3</td><td>0.01</td><td>1</td><td>176.47 </td><td>0.001</td><td>CHP_376-03-PBMC-DNA</td></tr>\n",
       "\t<tr><th scope=row>285</th><td>LTVL</td><td>3</td><td>0   </td><td>1</td><td>1000   </td><td>0.001</td><td>CHP_376-03-PBMC-DNA</td></tr>\n",
       "\t<tr><th scope=row>288</th><td>LGKE</td><td>3</td><td>0.02</td><td>1</td><td>115.384</td><td>0.001</td><td>CHP_378-01-PBMC-DNA</td></tr>\n",
       "\t<tr><th scope=row>289</th><td>AVLR</td><td>3</td><td>0   </td><td>1</td><td>500    </td><td>0.001</td><td>CHP_378-01-PBMC-DNA</td></tr>\n",
       "\t<tr><th scope=row>290</th><td>LFFG</td><td>3</td><td>0   </td><td>1</td><td>1000   </td><td>0.001</td><td>CHP_378-01-PBMC-DNA</td></tr>\n",
       "\t<tr><th scope=row>293</th><td>APES</td><td>3</td><td>0   </td><td>1</td><td>428.571</td><td>0.001</td><td>CHP_378-01-PBMC-DNA</td></tr>\n",
       "\t<tr><th scope=row>294</th><td>VGAP</td><td>3</td><td>0.02</td><td>1</td><td>119.999</td><td>0.001</td><td>CHP_378-01-PBMC-DNA</td></tr>\n",
       "\t<tr><th scope=row>295</th><td>SCP </td><td>3</td><td>0.01</td><td>1</td><td>187.499</td><td>0.001</td><td>CHP_378-01-PBMC-DNA</td></tr>\n",
       "\t<tr><th scope=row>296</th><td>KEAV</td><td>3</td><td>0   </td><td>1</td><td>600    </td><td>0.001</td><td>CHP_378-01-PBMC-DNA</td></tr>\n",
       "\t<tr><th scope=row>297</th><td>GKEA</td><td>3</td><td>0.01</td><td>1</td><td>249.999</td><td>0.001</td><td>CHP_378-01-PBMC-DNA</td></tr>\n",
       "\t<tr><th scope=row>299</th><td>VLGK</td><td>3</td><td>0.01</td><td>1</td><td>187.499</td><td>0.001</td><td>CHP_378-01-PBMC-DNA</td></tr>\n",
       "\t<tr><th scope=row>300</th><td>TVLG</td><td>3</td><td>0.02</td><td>1</td><td>103.448</td><td>0.001</td><td>CHP_378-01-PBMC-DNA</td></tr>\n",
       "\t<tr><th scope=row>301</th><td>FFGE</td><td>3</td><td>0.01</td><td>1</td><td>157.894</td><td>0.001</td><td>CHP_378-01-PBMC-DNA</td></tr>\n",
       "\t<tr><th scope=row>302</th><td>ESSE</td><td>3</td><td>0   </td><td>1</td><td>1000   </td><td>0.001</td><td>CHP_378-01-PBMC-DNA</td></tr>\n",
       "\t<tr><th scope=row>303</th><td>CPT </td><td>3</td><td>0.02</td><td>1</td><td>142.857</td><td>0.001</td><td>CHP_378-01-PBMC-DNA</td></tr>\n",
       "\t<tr><th scope=row>304</th><td>LFF </td><td>3</td><td>0.02</td><td>1</td><td>103.448</td><td>0.001</td><td>CHP_378-01-PBMC-DNA</td></tr>\n",
       "\t<tr><th scope=row>306</th><td>AGWA</td><td>3</td><td>0.02</td><td>1</td><td>111.111</td><td>0.001</td><td>CHP_378-01-PBMC-DNA</td></tr>\n",
       "\t<tr><th scope=row>307</th><td>FGEG</td><td>3</td><td>0.02</td><td>1</td><td>119.999</td><td>0.001</td><td>CHP_378-01-PBMC-DNA</td></tr>\n",
       "\t<tr><th scope=row>308</th><td>SSC </td><td>3</td><td>0.02</td><td>1</td><td>111.111</td><td>0.001</td><td>CHP_378-01-PBMC-DNA</td></tr>\n",
       "\t<tr><th scope=row>309</th><td>LTVL</td><td>3</td><td>0   </td><td>1</td><td>500    </td><td>0.001</td><td>CHP_378-01-PBMC-DNA</td></tr>\n",
       "\t<tr><th scope=row>310</th><td>GLYL</td><td>3</td><td>0   </td><td>1</td><td>1500   </td><td>0.001</td><td>CHP_378-01-PBMC-DNA</td></tr>\n",
       "</tbody>\n",
       "</table>\n"
      ],
      "text/latex": [
       "A data.frame: 182 × 7\n",
       "\\begin{tabular}{r|lllllll}\n",
       "  & Motif & Counts & avgRef & topRef & OvE & p-value & samplename\\\\\n",
       "  & <chr> & <dbl> & <chr> & <chr> & <chr> & <chr> & <fct>\\\\\n",
       "\\hline\n",
       "\t110 & LRG  & 8 & 0.74 & 4 & 10.738   & 0.001 & CHP\\_347-01-PBMC-DNA  \\\\\n",
       "\t347 & TNE  & 7 & 0.54 & 4 & 12.891   & 0.001 & LFS\\_TCR-4837-PBMC-DNA\\\\\n",
       "\t348 & ATNE & 7 & 0.18 & 2 & 38.674   & 0.001 & LFS\\_TCR-4837-PBMC-DNA\\\\\n",
       "\t349 & ATN  & 7 & 0.24 & 3 & 29.045   & 0.001 & LFS\\_TCR-4837-PBMC-DNA\\\\\n",
       "\t350 & TNEK & 7 & 0.42 & 4 & 16.509   & 0.001 & LFS\\_TCR-4837-PBMC-DNA\\\\\n",
       "\t11 & VLG  & 6 & 0.53 & 4 & 11.214   & 0.001 & CHP\\_303-05-PBMC-DNA  \\\\\n",
       "\t22 & GEL  & 5 & 0.21 & 3 & 22.935   & 0.001 & CHP\\_303-05-PBMC-DNA  \\\\\n",
       "\t61 & RMNT & 5 & 0.33 & 4 & 14.97    & 0.001 & CHP\\_338-03-PBMC-DNA  \\\\\n",
       "\t72 & RMN  & 5 & 0.37 & 4 & 13.192   & 0.001 & CHP\\_338-03-PBMC-DNA  \\\\\n",
       "\t126 & YTG  & 5 & 0.47 & 4 & 10.615   & 0.001 & CHP\\_350-02-PBMC-DNA  \\\\\n",
       "\t165 & AGGN & 5 & 0.39 & 3 & 12.787   & 0.001 & CHP\\_359-02-PBMC-DNA  \\\\\n",
       "\t298 & EVS  & 5 & 0.29 & 3 & 16.891   & 0.001 & CHP\\_378-01-PBMC-DNA  \\\\\n",
       "\t7 & APES & 4 & 0    & 1 & 1333.333 & 0.001 & CHP\\_303-05-PBMC-DNA  \\\\\n",
       "\t8 & TVL  & 4 & 0.13 & 2 & 29.629   & 0.001 & CHP\\_303-05-PBMC-DNA  \\\\\n",
       "\t10 & VGAP & 4 & 0.01 & 1 & 363.636  & 0.001 & CHP\\_303-05-PBMC-DNA  \\\\\n",
       "\t17 & TVLG & 4 & 0.02 & 1 & 166.666  & 0.001 & CHP\\_303-05-PBMC-DNA  \\\\\n",
       "\t20 & PES  & 4 & 0.08 & 2 & 47.058   & 0.001 & CHP\\_303-05-PBMC-DNA  \\\\\n",
       "\t31 & APE  & 4 & 0.18 & 2 & 21.739   & 0.001 & CHP\\_303-05-PBMC-DNA  \\\\\n",
       "\t34 & CP   & 4 & 0.1  & 2 & 38.834   & 0.001 & CHP\\_303-05-PBMC-DNA  \\\\\n",
       "\t43 & QF   & 4 & 0.23 & 3 & 17.316   & 0.001 & CHP\\_323-05-PBMC-DNA  \\\\\n",
       "\t50 & SPY  & 4 & 0.26 & 3 & 15.384   & 0.001 & CHP\\_331-05-PBMC-DNA  \\\\\n",
       "\t52 & LAR  & 4 & 0.3  & 3 & 13.245   & 0.001 & CHP\\_335-03-PBMC-DNA  \\\\\n",
       "\t57 & VLR  & 4 & 0.28 & 3 & 13.937   & 0.001 & CHP\\_338-03-PBMC-DNA  \\\\\n",
       "\t58 & VLRG & 4 & 0.07 & 3 & 53.333   & 0.001 & CHP\\_338-03-PBMC-DNA  \\\\\n",
       "\t59 & AVL  & 4 & 0.26 & 3 & 14.869   & 0.001 & CHP\\_338-03-PBMC-DNA  \\\\\n",
       "\t80 & TLR  & 4 & 0.18 & 3 & 21.621   & 0.001 & CHP\\_339-05-PBMC-DNA  \\\\\n",
       "\t82 & SFE  & 4 & 0.31 & 3 & 12.903   & 0.001 & CHP\\_339-05-PBMC-DNA  \\\\\n",
       "\t87 & TLR  & 4 & 0.39 & 3 & 10.126   & 0.001 & CHP\\_340-05-PBMC-DNA  \\\\\n",
       "\t88 & TLRG & 4 & 0.09 & 2 & 43.956   & 0.001 & CHP\\_340-05-PBMC-DNA  \\\\\n",
       "\t91 & LRGA & 4 & 0.21 & 3 & 18.433   & 0.001 & CHP\\_340-05-PBMC-DNA  \\\\\n",
       "\t⋮ & ⋮ & ⋮ & ⋮ & ⋮ & ⋮ & ⋮ & ⋮\\\\\n",
       "\t272 & VLGK & 3 & 0.01 & 1 & 249.999 & 0.001 & CHP\\_376-03-PBMC-DNA\\\\\n",
       "\t273 & TVLG & 3 & 0.02 & 1 & 149.999 & 0.001 & CHP\\_376-03-PBMC-DNA\\\\\n",
       "\t274 & FFGE & 3 & 0.01 & 1 & 199.999 & 0.001 & CHP\\_376-03-PBMC-DNA\\\\\n",
       "\t275 & ESSE & 3 & 0    & 1 & 1500    & 0.001 & CHP\\_376-03-PBMC-DNA\\\\\n",
       "\t276 & CPT  & 3 & 0.01 & 2 & 199.999 & 0.001 & CHP\\_376-03-PBMC-DNA\\\\\n",
       "\t279 & LFF  & 3 & 0.02 & 1 & 119.999 & 0.001 & CHP\\_376-03-PBMC-DNA\\\\\n",
       "\t280 & AGWA & 3 & 0.02 & 1 & 103.448 & 0.001 & CHP\\_376-03-PBMC-DNA\\\\\n",
       "\t281 & FGEG & 3 & 0.01 & 1 & 157.894 & 0.001 & CHP\\_376-03-PBMC-DNA\\\\\n",
       "\t282 & AEVS & 3 & 0    & 1 & 1000    & 0.001 & CHP\\_376-03-PBMC-DNA\\\\\n",
       "\t283 & SSC  & 3 & 0.01 & 1 & 176.47  & 0.001 & CHP\\_376-03-PBMC-DNA\\\\\n",
       "\t285 & LTVL & 3 & 0    & 1 & 1000    & 0.001 & CHP\\_376-03-PBMC-DNA\\\\\n",
       "\t288 & LGKE & 3 & 0.02 & 1 & 115.384 & 0.001 & CHP\\_378-01-PBMC-DNA\\\\\n",
       "\t289 & AVLR & 3 & 0    & 1 & 500     & 0.001 & CHP\\_378-01-PBMC-DNA\\\\\n",
       "\t290 & LFFG & 3 & 0    & 1 & 1000    & 0.001 & CHP\\_378-01-PBMC-DNA\\\\\n",
       "\t293 & APES & 3 & 0    & 1 & 428.571 & 0.001 & CHP\\_378-01-PBMC-DNA\\\\\n",
       "\t294 & VGAP & 3 & 0.02 & 1 & 119.999 & 0.001 & CHP\\_378-01-PBMC-DNA\\\\\n",
       "\t295 & SCP  & 3 & 0.01 & 1 & 187.499 & 0.001 & CHP\\_378-01-PBMC-DNA\\\\\n",
       "\t296 & KEAV & 3 & 0    & 1 & 600     & 0.001 & CHP\\_378-01-PBMC-DNA\\\\\n",
       "\t297 & GKEA & 3 & 0.01 & 1 & 249.999 & 0.001 & CHP\\_378-01-PBMC-DNA\\\\\n",
       "\t299 & VLGK & 3 & 0.01 & 1 & 187.499 & 0.001 & CHP\\_378-01-PBMC-DNA\\\\\n",
       "\t300 & TVLG & 3 & 0.02 & 1 & 103.448 & 0.001 & CHP\\_378-01-PBMC-DNA\\\\\n",
       "\t301 & FFGE & 3 & 0.01 & 1 & 157.894 & 0.001 & CHP\\_378-01-PBMC-DNA\\\\\n",
       "\t302 & ESSE & 3 & 0    & 1 & 1000    & 0.001 & CHP\\_378-01-PBMC-DNA\\\\\n",
       "\t303 & CPT  & 3 & 0.02 & 1 & 142.857 & 0.001 & CHP\\_378-01-PBMC-DNA\\\\\n",
       "\t304 & LFF  & 3 & 0.02 & 1 & 103.448 & 0.001 & CHP\\_378-01-PBMC-DNA\\\\\n",
       "\t306 & AGWA & 3 & 0.02 & 1 & 111.111 & 0.001 & CHP\\_378-01-PBMC-DNA\\\\\n",
       "\t307 & FGEG & 3 & 0.02 & 1 & 119.999 & 0.001 & CHP\\_378-01-PBMC-DNA\\\\\n",
       "\t308 & SSC  & 3 & 0.02 & 1 & 111.111 & 0.001 & CHP\\_378-01-PBMC-DNA\\\\\n",
       "\t309 & LTVL & 3 & 0    & 1 & 500     & 0.001 & CHP\\_378-01-PBMC-DNA\\\\\n",
       "\t310 & GLYL & 3 & 0    & 1 & 1500    & 0.001 & CHP\\_378-01-PBMC-DNA\\\\\n",
       "\\end{tabular}\n"
      ],
      "text/markdown": [
       "\n",
       "A data.frame: 182 × 7\n",
       "\n",
       "| <!--/--> | Motif &lt;chr&gt; | Counts &lt;dbl&gt; | avgRef &lt;chr&gt; | topRef &lt;chr&gt; | OvE &lt;chr&gt; | p-value &lt;chr&gt; | samplename &lt;fct&gt; |\n",
       "|---|---|---|---|---|---|---|---|\n",
       "| 110 | LRG  | 8 | 0.74 | 4 | 10.738   | 0.001 | CHP_347-01-PBMC-DNA   |\n",
       "| 347 | TNE  | 7 | 0.54 | 4 | 12.891   | 0.001 | LFS_TCR-4837-PBMC-DNA |\n",
       "| 348 | ATNE | 7 | 0.18 | 2 | 38.674   | 0.001 | LFS_TCR-4837-PBMC-DNA |\n",
       "| 349 | ATN  | 7 | 0.24 | 3 | 29.045   | 0.001 | LFS_TCR-4837-PBMC-DNA |\n",
       "| 350 | TNEK | 7 | 0.42 | 4 | 16.509   | 0.001 | LFS_TCR-4837-PBMC-DNA |\n",
       "| 11 | VLG  | 6 | 0.53 | 4 | 11.214   | 0.001 | CHP_303-05-PBMC-DNA   |\n",
       "| 22 | GEL  | 5 | 0.21 | 3 | 22.935   | 0.001 | CHP_303-05-PBMC-DNA   |\n",
       "| 61 | RMNT | 5 | 0.33 | 4 | 14.97    | 0.001 | CHP_338-03-PBMC-DNA   |\n",
       "| 72 | RMN  | 5 | 0.37 | 4 | 13.192   | 0.001 | CHP_338-03-PBMC-DNA   |\n",
       "| 126 | YTG  | 5 | 0.47 | 4 | 10.615   | 0.001 | CHP_350-02-PBMC-DNA   |\n",
       "| 165 | AGGN | 5 | 0.39 | 3 | 12.787   | 0.001 | CHP_359-02-PBMC-DNA   |\n",
       "| 298 | EVS  | 5 | 0.29 | 3 | 16.891   | 0.001 | CHP_378-01-PBMC-DNA   |\n",
       "| 7 | APES | 4 | 0    | 1 | 1333.333 | 0.001 | CHP_303-05-PBMC-DNA   |\n",
       "| 8 | TVL  | 4 | 0.13 | 2 | 29.629   | 0.001 | CHP_303-05-PBMC-DNA   |\n",
       "| 10 | VGAP | 4 | 0.01 | 1 | 363.636  | 0.001 | CHP_303-05-PBMC-DNA   |\n",
       "| 17 | TVLG | 4 | 0.02 | 1 | 166.666  | 0.001 | CHP_303-05-PBMC-DNA   |\n",
       "| 20 | PES  | 4 | 0.08 | 2 | 47.058   | 0.001 | CHP_303-05-PBMC-DNA   |\n",
       "| 31 | APE  | 4 | 0.18 | 2 | 21.739   | 0.001 | CHP_303-05-PBMC-DNA   |\n",
       "| 34 | CP   | 4 | 0.1  | 2 | 38.834   | 0.001 | CHP_303-05-PBMC-DNA   |\n",
       "| 43 | QF   | 4 | 0.23 | 3 | 17.316   | 0.001 | CHP_323-05-PBMC-DNA   |\n",
       "| 50 | SPY  | 4 | 0.26 | 3 | 15.384   | 0.001 | CHP_331-05-PBMC-DNA   |\n",
       "| 52 | LAR  | 4 | 0.3  | 3 | 13.245   | 0.001 | CHP_335-03-PBMC-DNA   |\n",
       "| 57 | VLR  | 4 | 0.28 | 3 | 13.937   | 0.001 | CHP_338-03-PBMC-DNA   |\n",
       "| 58 | VLRG | 4 | 0.07 | 3 | 53.333   | 0.001 | CHP_338-03-PBMC-DNA   |\n",
       "| 59 | AVL  | 4 | 0.26 | 3 | 14.869   | 0.001 | CHP_338-03-PBMC-DNA   |\n",
       "| 80 | TLR  | 4 | 0.18 | 3 | 21.621   | 0.001 | CHP_339-05-PBMC-DNA   |\n",
       "| 82 | SFE  | 4 | 0.31 | 3 | 12.903   | 0.001 | CHP_339-05-PBMC-DNA   |\n",
       "| 87 | TLR  | 4 | 0.39 | 3 | 10.126   | 0.001 | CHP_340-05-PBMC-DNA   |\n",
       "| 88 | TLRG | 4 | 0.09 | 2 | 43.956   | 0.001 | CHP_340-05-PBMC-DNA   |\n",
       "| 91 | LRGA | 4 | 0.21 | 3 | 18.433   | 0.001 | CHP_340-05-PBMC-DNA   |\n",
       "| ⋮ | ⋮ | ⋮ | ⋮ | ⋮ | ⋮ | ⋮ | ⋮ |\n",
       "| 272 | VLGK | 3 | 0.01 | 1 | 249.999 | 0.001 | CHP_376-03-PBMC-DNA |\n",
       "| 273 | TVLG | 3 | 0.02 | 1 | 149.999 | 0.001 | CHP_376-03-PBMC-DNA |\n",
       "| 274 | FFGE | 3 | 0.01 | 1 | 199.999 | 0.001 | CHP_376-03-PBMC-DNA |\n",
       "| 275 | ESSE | 3 | 0    | 1 | 1500    | 0.001 | CHP_376-03-PBMC-DNA |\n",
       "| 276 | CPT  | 3 | 0.01 | 2 | 199.999 | 0.001 | CHP_376-03-PBMC-DNA |\n",
       "| 279 | LFF  | 3 | 0.02 | 1 | 119.999 | 0.001 | CHP_376-03-PBMC-DNA |\n",
       "| 280 | AGWA | 3 | 0.02 | 1 | 103.448 | 0.001 | CHP_376-03-PBMC-DNA |\n",
       "| 281 | FGEG | 3 | 0.01 | 1 | 157.894 | 0.001 | CHP_376-03-PBMC-DNA |\n",
       "| 282 | AEVS | 3 | 0    | 1 | 1000    | 0.001 | CHP_376-03-PBMC-DNA |\n",
       "| 283 | SSC  | 3 | 0.01 | 1 | 176.47  | 0.001 | CHP_376-03-PBMC-DNA |\n",
       "| 285 | LTVL | 3 | 0    | 1 | 1000    | 0.001 | CHP_376-03-PBMC-DNA |\n",
       "| 288 | LGKE | 3 | 0.02 | 1 | 115.384 | 0.001 | CHP_378-01-PBMC-DNA |\n",
       "| 289 | AVLR | 3 | 0    | 1 | 500     | 0.001 | CHP_378-01-PBMC-DNA |\n",
       "| 290 | LFFG | 3 | 0    | 1 | 1000    | 0.001 | CHP_378-01-PBMC-DNA |\n",
       "| 293 | APES | 3 | 0    | 1 | 428.571 | 0.001 | CHP_378-01-PBMC-DNA |\n",
       "| 294 | VGAP | 3 | 0.02 | 1 | 119.999 | 0.001 | CHP_378-01-PBMC-DNA |\n",
       "| 295 | SCP  | 3 | 0.01 | 1 | 187.499 | 0.001 | CHP_378-01-PBMC-DNA |\n",
       "| 296 | KEAV | 3 | 0    | 1 | 600     | 0.001 | CHP_378-01-PBMC-DNA |\n",
       "| 297 | GKEA | 3 | 0.01 | 1 | 249.999 | 0.001 | CHP_378-01-PBMC-DNA |\n",
       "| 299 | VLGK | 3 | 0.01 | 1 | 187.499 | 0.001 | CHP_378-01-PBMC-DNA |\n",
       "| 300 | TVLG | 3 | 0.02 | 1 | 103.448 | 0.001 | CHP_378-01-PBMC-DNA |\n",
       "| 301 | FFGE | 3 | 0.01 | 1 | 157.894 | 0.001 | CHP_378-01-PBMC-DNA |\n",
       "| 302 | ESSE | 3 | 0    | 1 | 1000    | 0.001 | CHP_378-01-PBMC-DNA |\n",
       "| 303 | CPT  | 3 | 0.02 | 1 | 142.857 | 0.001 | CHP_378-01-PBMC-DNA |\n",
       "| 304 | LFF  | 3 | 0.02 | 1 | 103.448 | 0.001 | CHP_378-01-PBMC-DNA |\n",
       "| 306 | AGWA | 3 | 0.02 | 1 | 111.111 | 0.001 | CHP_378-01-PBMC-DNA |\n",
       "| 307 | FGEG | 3 | 0.02 | 1 | 119.999 | 0.001 | CHP_378-01-PBMC-DNA |\n",
       "| 308 | SSC  | 3 | 0.02 | 1 | 111.111 | 0.001 | CHP_378-01-PBMC-DNA |\n",
       "| 309 | LTVL | 3 | 0    | 1 | 500     | 0.001 | CHP_378-01-PBMC-DNA |\n",
       "| 310 | GLYL | 3 | 0    | 1 | 1500    | 0.001 | CHP_378-01-PBMC-DNA |\n",
       "\n"
      ],
      "text/plain": [
       "    Motif Counts avgRef topRef OvE      p-value samplename           \n",
       "110 LRG   8      0.74   4      10.738   0.001   CHP_347-01-PBMC-DNA  \n",
       "347 TNE   7      0.54   4      12.891   0.001   LFS_TCR-4837-PBMC-DNA\n",
       "348 ATNE  7      0.18   2      38.674   0.001   LFS_TCR-4837-PBMC-DNA\n",
       "349 ATN   7      0.24   3      29.045   0.001   LFS_TCR-4837-PBMC-DNA\n",
       "350 TNEK  7      0.42   4      16.509   0.001   LFS_TCR-4837-PBMC-DNA\n",
       "11  VLG   6      0.53   4      11.214   0.001   CHP_303-05-PBMC-DNA  \n",
       "22  GEL   5      0.21   3      22.935   0.001   CHP_303-05-PBMC-DNA  \n",
       "61  RMNT  5      0.33   4      14.97    0.001   CHP_338-03-PBMC-DNA  \n",
       "72  RMN   5      0.37   4      13.192   0.001   CHP_338-03-PBMC-DNA  \n",
       "126 YTG   5      0.47   4      10.615   0.001   CHP_350-02-PBMC-DNA  \n",
       "165 AGGN  5      0.39   3      12.787   0.001   CHP_359-02-PBMC-DNA  \n",
       "298 EVS   5      0.29   3      16.891   0.001   CHP_378-01-PBMC-DNA  \n",
       "7   APES  4      0      1      1333.333 0.001   CHP_303-05-PBMC-DNA  \n",
       "8   TVL   4      0.13   2      29.629   0.001   CHP_303-05-PBMC-DNA  \n",
       "10  VGAP  4      0.01   1      363.636  0.001   CHP_303-05-PBMC-DNA  \n",
       "17  TVLG  4      0.02   1      166.666  0.001   CHP_303-05-PBMC-DNA  \n",
       "20  PES   4      0.08   2      47.058   0.001   CHP_303-05-PBMC-DNA  \n",
       "31  APE   4      0.18   2      21.739   0.001   CHP_303-05-PBMC-DNA  \n",
       "34  CP    4      0.1    2      38.834   0.001   CHP_303-05-PBMC-DNA  \n",
       "43  QF    4      0.23   3      17.316   0.001   CHP_323-05-PBMC-DNA  \n",
       "50  SPY   4      0.26   3      15.384   0.001   CHP_331-05-PBMC-DNA  \n",
       "52  LAR   4      0.3    3      13.245   0.001   CHP_335-03-PBMC-DNA  \n",
       "57  VLR   4      0.28   3      13.937   0.001   CHP_338-03-PBMC-DNA  \n",
       "58  VLRG  4      0.07   3      53.333   0.001   CHP_338-03-PBMC-DNA  \n",
       "59  AVL   4      0.26   3      14.869   0.001   CHP_338-03-PBMC-DNA  \n",
       "80  TLR   4      0.18   3      21.621   0.001   CHP_339-05-PBMC-DNA  \n",
       "82  SFE   4      0.31   3      12.903   0.001   CHP_339-05-PBMC-DNA  \n",
       "87  TLR   4      0.39   3      10.126   0.001   CHP_340-05-PBMC-DNA  \n",
       "88  TLRG  4      0.09   2      43.956   0.001   CHP_340-05-PBMC-DNA  \n",
       "91  LRGA  4      0.21   3      18.433   0.001   CHP_340-05-PBMC-DNA  \n",
       "⋮   ⋮     ⋮      ⋮      ⋮      ⋮        ⋮       ⋮                    \n",
       "272 VLGK  3      0.01   1      249.999  0.001   CHP_376-03-PBMC-DNA  \n",
       "273 TVLG  3      0.02   1      149.999  0.001   CHP_376-03-PBMC-DNA  \n",
       "274 FFGE  3      0.01   1      199.999  0.001   CHP_376-03-PBMC-DNA  \n",
       "275 ESSE  3      0      1      1500     0.001   CHP_376-03-PBMC-DNA  \n",
       "276 CPT   3      0.01   2      199.999  0.001   CHP_376-03-PBMC-DNA  \n",
       "279 LFF   3      0.02   1      119.999  0.001   CHP_376-03-PBMC-DNA  \n",
       "280 AGWA  3      0.02   1      103.448  0.001   CHP_376-03-PBMC-DNA  \n",
       "281 FGEG  3      0.01   1      157.894  0.001   CHP_376-03-PBMC-DNA  \n",
       "282 AEVS  3      0      1      1000     0.001   CHP_376-03-PBMC-DNA  \n",
       "283 SSC   3      0.01   1      176.47   0.001   CHP_376-03-PBMC-DNA  \n",
       "285 LTVL  3      0      1      1000     0.001   CHP_376-03-PBMC-DNA  \n",
       "288 LGKE  3      0.02   1      115.384  0.001   CHP_378-01-PBMC-DNA  \n",
       "289 AVLR  3      0      1      500      0.001   CHP_378-01-PBMC-DNA  \n",
       "290 LFFG  3      0      1      1000     0.001   CHP_378-01-PBMC-DNA  \n",
       "293 APES  3      0      1      428.571  0.001   CHP_378-01-PBMC-DNA  \n",
       "294 VGAP  3      0.02   1      119.999  0.001   CHP_378-01-PBMC-DNA  \n",
       "295 SCP   3      0.01   1      187.499  0.001   CHP_378-01-PBMC-DNA  \n",
       "296 KEAV  3      0      1      600      0.001   CHP_378-01-PBMC-DNA  \n",
       "297 GKEA  3      0.01   1      249.999  0.001   CHP_378-01-PBMC-DNA  \n",
       "299 VLGK  3      0.01   1      187.499  0.001   CHP_378-01-PBMC-DNA  \n",
       "300 TVLG  3      0.02   1      103.448  0.001   CHP_378-01-PBMC-DNA  \n",
       "301 FFGE  3      0.01   1      157.894  0.001   CHP_378-01-PBMC-DNA  \n",
       "302 ESSE  3      0      1      1000     0.001   CHP_378-01-PBMC-DNA  \n",
       "303 CPT   3      0.02   1      142.857  0.001   CHP_378-01-PBMC-DNA  \n",
       "304 LFF   3      0.02   1      103.448  0.001   CHP_378-01-PBMC-DNA  \n",
       "306 AGWA  3      0.02   1      111.111  0.001   CHP_378-01-PBMC-DNA  \n",
       "307 FGEG  3      0.02   1      119.999  0.001   CHP_378-01-PBMC-DNA  \n",
       "308 SSC   3      0.02   1      111.111  0.001   CHP_378-01-PBMC-DNA  \n",
       "309 LTVL  3      0      1      500      0.001   CHP_378-01-PBMC-DNA  \n",
       "310 GLYL  3      0      1      1500     0.001   CHP_378-01-PBMC-DNA  "
      ]
     },
     "metadata": {},
     "output_type": "display_data"
    }
   ],
   "source": [
    "gliph.df[order(gliph.df$Counts, decreasing = T),]"
   ]
  },
  {
   "cell_type": "code",
   "execution_count": 92,
   "metadata": {},
   "outputs": [
    {
     "data": {
      "text/html": [
       "<table>\n",
       "<caption>A data.frame: 4 × 7</caption>\n",
       "<thead>\n",
       "\t<tr><th></th><th scope=col>Motif</th><th scope=col>Counts</th><th scope=col>avgRef</th><th scope=col>topRef</th><th scope=col>OvE</th><th scope=col>p-value</th><th scope=col>samplename</th></tr>\n",
       "\t<tr><th></th><th scope=col>&lt;chr&gt;</th><th scope=col>&lt;dbl&gt;</th><th scope=col>&lt;chr&gt;</th><th scope=col>&lt;chr&gt;</th><th scope=col>&lt;chr&gt;</th><th scope=col>&lt;chr&gt;</th><th scope=col>&lt;chr&gt;</th></tr>\n",
       "</thead>\n",
       "<tbody>\n",
       "\t<tr><th scope=row>344</th><td>TNE </td><td>4</td><td>0.33</td><td>3</td><td>11.904</td><td>0.001</td><td>LFS_TCR-4759-PBMC-DNA</td></tr>\n",
       "\t<tr><th scope=row>347</th><td>TNE </td><td>7</td><td>0.54</td><td>4</td><td>12.891</td><td>0.001</td><td>LFS_TCR-4837-PBMC-DNA</td></tr>\n",
       "\t<tr><th scope=row>348</th><td>ATNE</td><td>7</td><td>0.18</td><td>2</td><td>38.674</td><td>0.001</td><td>LFS_TCR-4837-PBMC-DNA</td></tr>\n",
       "\t<tr><th scope=row>350</th><td>TNEK</td><td>7</td><td>0.42</td><td>4</td><td>16.509</td><td>0.001</td><td>LFS_TCR-4837-PBMC-DNA</td></tr>\n",
       "</tbody>\n",
       "</table>\n"
      ],
      "text/latex": [
       "A data.frame: 4 × 7\n",
       "\\begin{tabular}{r|lllllll}\n",
       "  & Motif & Counts & avgRef & topRef & OvE & p-value & samplename\\\\\n",
       "  & <chr> & <dbl> & <chr> & <chr> & <chr> & <chr> & <chr>\\\\\n",
       "\\hline\n",
       "\t344 & TNE  & 4 & 0.33 & 3 & 11.904 & 0.001 & LFS\\_TCR-4759-PBMC-DNA\\\\\n",
       "\t347 & TNE  & 7 & 0.54 & 4 & 12.891 & 0.001 & LFS\\_TCR-4837-PBMC-DNA\\\\\n",
       "\t348 & ATNE & 7 & 0.18 & 2 & 38.674 & 0.001 & LFS\\_TCR-4837-PBMC-DNA\\\\\n",
       "\t350 & TNEK & 7 & 0.42 & 4 & 16.509 & 0.001 & LFS\\_TCR-4837-PBMC-DNA\\\\\n",
       "\\end{tabular}\n"
      ],
      "text/markdown": [
       "\n",
       "A data.frame: 4 × 7\n",
       "\n",
       "| <!--/--> | Motif &lt;chr&gt; | Counts &lt;dbl&gt; | avgRef &lt;chr&gt; | topRef &lt;chr&gt; | OvE &lt;chr&gt; | p-value &lt;chr&gt; | samplename &lt;chr&gt; |\n",
       "|---|---|---|---|---|---|---|---|\n",
       "| 344 | TNE  | 4 | 0.33 | 3 | 11.904 | 0.001 | LFS_TCR-4759-PBMC-DNA |\n",
       "| 347 | TNE  | 7 | 0.54 | 4 | 12.891 | 0.001 | LFS_TCR-4837-PBMC-DNA |\n",
       "| 348 | ATNE | 7 | 0.18 | 2 | 38.674 | 0.001 | LFS_TCR-4837-PBMC-DNA |\n",
       "| 350 | TNEK | 7 | 0.42 | 4 | 16.509 | 0.001 | LFS_TCR-4837-PBMC-DNA |\n",
       "\n"
      ],
      "text/plain": [
       "    Motif Counts avgRef topRef OvE    p-value samplename           \n",
       "344 TNE   4      0.33   3      11.904 0.001   LFS_TCR-4759-PBMC-DNA\n",
       "347 TNE   7      0.54   4      12.891 0.001   LFS_TCR-4837-PBMC-DNA\n",
       "348 ATNE  7      0.18   2      38.674 0.001   LFS_TCR-4837-PBMC-DNA\n",
       "350 TNEK  7      0.42   4      16.509 0.001   LFS_TCR-4837-PBMC-DNA"
      ]
     },
     "metadata": {},
     "output_type": "display_data"
    }
   ],
   "source": [
    "gliph.df[grepl(\"TNE\",gliph.df$Motif), ]"
   ]
  },
  {
   "cell_type": "code",
   "execution_count": 78,
   "metadata": {},
   "outputs": [
    {
     "data": {
      "text/html": [
       "<table>\n",
       "<caption>A data.frame: 5 × 7</caption>\n",
       "<thead>\n",
       "\t<tr><th></th><th scope=col>Motif</th><th scope=col>Counts</th><th scope=col>avgRef</th><th scope=col>topRef</th><th scope=col>OvE</th><th scope=col>p-value</th><th scope=col>samplename</th></tr>\n",
       "\t<tr><th></th><th scope=col>&lt;chr&gt;</th><th scope=col>&lt;dbl&gt;</th><th scope=col>&lt;chr&gt;</th><th scope=col>&lt;chr&gt;</th><th scope=col>&lt;chr&gt;</th><th scope=col>&lt;chr&gt;</th><th scope=col>&lt;fct&gt;</th></tr>\n",
       "</thead>\n",
       "<tbody>\n",
       "\t<tr><th scope=row>27</th><td>FGEG</td><td>3</td><td>0.01</td><td>1</td><td>249.999</td><td>0.001</td><td>CHP_303-05-PBMC-DNA</td></tr>\n",
       "\t<tr><th scope=row>71</th><td>FGEG</td><td>3</td><td>0.01</td><td>1</td><td>157.894</td><td>0.001</td><td>CHP_338-03-PBMC-DNA</td></tr>\n",
       "\t<tr><th scope=row>226</th><td>FGEG</td><td>3</td><td>0.01</td><td>1</td><td>214.285</td><td>0.001</td><td>CHP_368-05-PBMC-DNA</td></tr>\n",
       "\t<tr><th scope=row>281</th><td>FGEG</td><td>3</td><td>0.01</td><td>1</td><td>157.894</td><td>0.001</td><td>CHP_376-03-PBMC-DNA</td></tr>\n",
       "\t<tr><th scope=row>307</th><td>FGEG</td><td>3</td><td>0.02</td><td>1</td><td>119.999</td><td>0.001</td><td>CHP_378-01-PBMC-DNA</td></tr>\n",
       "</tbody>\n",
       "</table>\n"
      ],
      "text/latex": [
       "A data.frame: 5 × 7\n",
       "\\begin{tabular}{r|lllllll}\n",
       "  & Motif & Counts & avgRef & topRef & OvE & p-value & samplename\\\\\n",
       "  & <chr> & <dbl> & <chr> & <chr> & <chr> & <chr> & <fct>\\\\\n",
       "\\hline\n",
       "\t27 & FGEG & 3 & 0.01 & 1 & 249.999 & 0.001 & CHP\\_303-05-PBMC-DNA\\\\\n",
       "\t71 & FGEG & 3 & 0.01 & 1 & 157.894 & 0.001 & CHP\\_338-03-PBMC-DNA\\\\\n",
       "\t226 & FGEG & 3 & 0.01 & 1 & 214.285 & 0.001 & CHP\\_368-05-PBMC-DNA\\\\\n",
       "\t281 & FGEG & 3 & 0.01 & 1 & 157.894 & 0.001 & CHP\\_376-03-PBMC-DNA\\\\\n",
       "\t307 & FGEG & 3 & 0.02 & 1 & 119.999 & 0.001 & CHP\\_378-01-PBMC-DNA\\\\\n",
       "\\end{tabular}\n"
      ],
      "text/markdown": [
       "\n",
       "A data.frame: 5 × 7\n",
       "\n",
       "| <!--/--> | Motif &lt;chr&gt; | Counts &lt;dbl&gt; | avgRef &lt;chr&gt; | topRef &lt;chr&gt; | OvE &lt;chr&gt; | p-value &lt;chr&gt; | samplename &lt;fct&gt; |\n",
       "|---|---|---|---|---|---|---|---|\n",
       "| 27 | FGEG | 3 | 0.01 | 1 | 249.999 | 0.001 | CHP_303-05-PBMC-DNA |\n",
       "| 71 | FGEG | 3 | 0.01 | 1 | 157.894 | 0.001 | CHP_338-03-PBMC-DNA |\n",
       "| 226 | FGEG | 3 | 0.01 | 1 | 214.285 | 0.001 | CHP_368-05-PBMC-DNA |\n",
       "| 281 | FGEG | 3 | 0.01 | 1 | 157.894 | 0.001 | CHP_376-03-PBMC-DNA |\n",
       "| 307 | FGEG | 3 | 0.02 | 1 | 119.999 | 0.001 | CHP_378-01-PBMC-DNA |\n",
       "\n"
      ],
      "text/plain": [
       "    Motif Counts avgRef topRef OvE     p-value samplename         \n",
       "27  FGEG  3      0.01   1      249.999 0.001   CHP_303-05-PBMC-DNA\n",
       "71  FGEG  3      0.01   1      157.894 0.001   CHP_338-03-PBMC-DNA\n",
       "226 FGEG  3      0.01   1      214.285 0.001   CHP_368-05-PBMC-DNA\n",
       "281 FGEG  3      0.01   1      157.894 0.001   CHP_376-03-PBMC-DNA\n",
       "307 FGEG  3      0.02   1      119.999 0.001   CHP_378-01-PBMC-DNA"
      ]
     },
     "metadata": {},
     "output_type": "display_data"
    }
   ],
   "source": [
    "gliph.df[gliph.df$Motif == \"FGEG\", ]"
   ]
  },
  {
   "cell_type": "code",
   "execution_count": 94,
   "metadata": {},
   "outputs": [
    {
     "data": {
      "text/html": [
       "<table>\n",
       "<caption>A data.frame: 5 × 7</caption>\n",
       "<thead>\n",
       "\t<tr><th></th><th scope=col>Motif</th><th scope=col>Counts</th><th scope=col>avgRef</th><th scope=col>topRef</th><th scope=col>OvE</th><th scope=col>p-value</th><th scope=col>samplename</th></tr>\n",
       "\t<tr><th></th><th scope=col>&lt;chr&gt;</th><th scope=col>&lt;dbl&gt;</th><th scope=col>&lt;chr&gt;</th><th scope=col>&lt;chr&gt;</th><th scope=col>&lt;chr&gt;</th><th scope=col>&lt;chr&gt;</th><th scope=col>&lt;chr&gt;</th></tr>\n",
       "</thead>\n",
       "<tbody>\n",
       "\t<tr><th scope=row>21</th><td>CPT</td><td>3</td><td>0   </td><td>1</td><td>428.571</td><td>0.001</td><td>CHP_303-05-PBMC-DNA</td></tr>\n",
       "\t<tr><th scope=row>69</th><td>CPT</td><td>3</td><td>0.02</td><td>1</td><td>115.384</td><td>0.001</td><td>CHP_338-03-PBMC-DNA</td></tr>\n",
       "\t<tr><th scope=row>222</th><td>CPT</td><td>3</td><td>0.01</td><td>2</td><td>199.999</td><td>0.001</td><td>CHP_368-05-PBMC-DNA</td></tr>\n",
       "\t<tr><th scope=row>276</th><td>CPT</td><td>3</td><td>0.01</td><td>2</td><td>199.999</td><td>0.001</td><td>CHP_376-03-PBMC-DNA</td></tr>\n",
       "\t<tr><th scope=row>303</th><td>CPT</td><td>3</td><td>0.02</td><td>1</td><td>142.857</td><td>0.001</td><td>CHP_378-01-PBMC-DNA</td></tr>\n",
       "</tbody>\n",
       "</table>\n"
      ],
      "text/latex": [
       "A data.frame: 5 × 7\n",
       "\\begin{tabular}{r|lllllll}\n",
       "  & Motif & Counts & avgRef & topRef & OvE & p-value & samplename\\\\\n",
       "  & <chr> & <dbl> & <chr> & <chr> & <chr> & <chr> & <chr>\\\\\n",
       "\\hline\n",
       "\t21 & CPT & 3 & 0    & 1 & 428.571 & 0.001 & CHP\\_303-05-PBMC-DNA\\\\\n",
       "\t69 & CPT & 3 & 0.02 & 1 & 115.384 & 0.001 & CHP\\_338-03-PBMC-DNA\\\\\n",
       "\t222 & CPT & 3 & 0.01 & 2 & 199.999 & 0.001 & CHP\\_368-05-PBMC-DNA\\\\\n",
       "\t276 & CPT & 3 & 0.01 & 2 & 199.999 & 0.001 & CHP\\_376-03-PBMC-DNA\\\\\n",
       "\t303 & CPT & 3 & 0.02 & 1 & 142.857 & 0.001 & CHP\\_378-01-PBMC-DNA\\\\\n",
       "\\end{tabular}\n"
      ],
      "text/markdown": [
       "\n",
       "A data.frame: 5 × 7\n",
       "\n",
       "| <!--/--> | Motif &lt;chr&gt; | Counts &lt;dbl&gt; | avgRef &lt;chr&gt; | topRef &lt;chr&gt; | OvE &lt;chr&gt; | p-value &lt;chr&gt; | samplename &lt;chr&gt; |\n",
       "|---|---|---|---|---|---|---|---|\n",
       "| 21 | CPT | 3 | 0    | 1 | 428.571 | 0.001 | CHP_303-05-PBMC-DNA |\n",
       "| 69 | CPT | 3 | 0.02 | 1 | 115.384 | 0.001 | CHP_338-03-PBMC-DNA |\n",
       "| 222 | CPT | 3 | 0.01 | 2 | 199.999 | 0.001 | CHP_368-05-PBMC-DNA |\n",
       "| 276 | CPT | 3 | 0.01 | 2 | 199.999 | 0.001 | CHP_376-03-PBMC-DNA |\n",
       "| 303 | CPT | 3 | 0.02 | 1 | 142.857 | 0.001 | CHP_378-01-PBMC-DNA |\n",
       "\n"
      ],
      "text/plain": [
       "    Motif Counts avgRef topRef OvE     p-value samplename         \n",
       "21  CPT   3      0      1      428.571 0.001   CHP_303-05-PBMC-DNA\n",
       "69  CPT   3      0.02   1      115.384 0.001   CHP_338-03-PBMC-DNA\n",
       "222 CPT   3      0.01   2      199.999 0.001   CHP_368-05-PBMC-DNA\n",
       "276 CPT   3      0.01   2      199.999 0.001   CHP_376-03-PBMC-DNA\n",
       "303 CPT   3      0.02   1      142.857 0.001   CHP_378-01-PBMC-DNA"
      ]
     },
     "metadata": {},
     "output_type": "display_data"
    }
   ],
   "source": [
    "gliph.df[gliph.df$Motif == \"CPT\", ]"
   ]
  },
  {
   "cell_type": "code",
   "execution_count": 74,
   "metadata": {},
   "outputs": [
    {
     "data": {
      "text/plain": [
       "\n",
       "AEVS AGGN AGWA  APE APES  ATN ATNE AVGA  AVL AVLR   CP  CPT  EAV  EFQ EGSR  ELF \n",
       "   3    1    4    2    5    1    1    1    1    4    1    5    1    1    1    1 \n",
       " ERA ESSE  EVS EVSS FEGA   FF  FFG FFGE FGEG FLTG  FQF  GAP GAPE  GEL GELF GKEA \n",
       "   1    5    1    1    1    1    1    4    5    1    1    1    1    1    3    5 \n",
       "GLYL  GQN  GRR  GSI GSRL  GVV  GWA GWAE KEAV  LAR   LF  LFF LFFG  LGK LGKE  LGR \n",
       "   1    1    1    1    2    1    1    1    5    1    1    5    4    1    5    1 \n",
       "LGTE  LRG LRGA  LRT LRTD  LTV LTVL   NF  PES PESS  PNE  PTL PTLR   QF  QFS QFSS \n",
       "   1    1    2    1    1    1    5    1    1    1    1    1    2    1    1    1 \n",
       " QGN RAGW RGAV RLTV  RMN RMNT  RRG SAGG  SCP  SDS SEFQ SEGQ  SFE SFLT SLGR  SPY \n",
       "   1    1    1    2    1    1    1    1    5    1    1    1    1    1    1    1 \n",
       " SSC SSER TGNT TGTD  TGW  TLR TLRG  TNE TNEK TNYG  TVL TVLG VGAP  VLG VLGK  VLR \n",
       "   5    1    2    1    1    3    1    2    1    1    1    5    3    1    6    3 \n",
       "VLRG  VSS  YTG \n",
       "   2    1    1 "
      ]
     },
     "metadata": {},
     "output_type": "display_data"
    }
   ],
   "source": [
    "table(gliph.df$Motif)"
   ]
  },
  {
   "cell_type": "code",
   "execution_count": 99,
   "metadata": {},
   "outputs": [
    {
     "data": {
      "text/html": [
       "<table>\n",
       "<caption>A data.frame: 29 × 7</caption>\n",
       "<thead>\n",
       "\t<tr><th></th><th scope=col>Motif</th><th scope=col>Counts</th><th scope=col>avgRef</th><th scope=col>topRef</th><th scope=col>OvE</th><th scope=col>p-value</th><th scope=col>samplename</th></tr>\n",
       "\t<tr><th></th><th scope=col>&lt;chr&gt;</th><th scope=col>&lt;dbl&gt;</th><th scope=col>&lt;chr&gt;</th><th scope=col>&lt;chr&gt;</th><th scope=col>&lt;chr&gt;</th><th scope=col>&lt;chr&gt;</th><th scope=col>&lt;chr&gt;</th></tr>\n",
       "</thead>\n",
       "<tbody>\n",
       "\t<tr><th scope=row>201</th><td>LF  </td><td>4</td><td>0.31</td><td>3</td><td>12.861 </td><td>0.001</td><td>CHP_368-04-PBMC-DNA</td></tr>\n",
       "\t<tr><th scope=row>204</th><td>LGKE</td><td>3</td><td>0.01</td><td>1</td><td>166.666</td><td>0.001</td><td>CHP_368-05-PBMC-DNA</td></tr>\n",
       "\t<tr><th scope=row>205</th><td>AVLR</td><td>3</td><td>0   </td><td>1</td><td>750    </td><td>0.001</td><td>CHP_368-05-PBMC-DNA</td></tr>\n",
       "\t<tr><th scope=row>206</th><td>VLR </td><td>4</td><td>0.18</td><td>3</td><td>21.857 </td><td>0.001</td><td>CHP_368-05-PBMC-DNA</td></tr>\n",
       "\t<tr><th scope=row>207</th><td>PTLR</td><td>3</td><td>0.02</td><td>1</td><td>103.448</td><td>0.001</td><td>CHP_368-05-PBMC-DNA</td></tr>\n",
       "\t<tr><th scope=row>208</th><td>GWA </td><td>4</td><td>0.38</td><td>3</td><td>10.526 </td><td>0.001</td><td>CHP_368-05-PBMC-DNA</td></tr>\n",
       "\t<tr><th scope=row>209</th><td>VLRG</td><td>4</td><td>0.05</td><td>2</td><td>71.428 </td><td>0.001</td><td>CHP_368-05-PBMC-DNA</td></tr>\n",
       "\t<tr><th scope=row>210</th><td>APES</td><td>3</td><td>0   </td><td>1</td><td>500    </td><td>0.001</td><td>CHP_368-05-PBMC-DNA</td></tr>\n",
       "\t<tr><th scope=row>211</th><td>LGK </td><td>4</td><td>0.18</td><td>3</td><td>22.222 </td><td>0.001</td><td>CHP_368-05-PBMC-DNA</td></tr>\n",
       "\t<tr><th scope=row>212</th><td>GELF</td><td>3</td><td>0   </td><td>1</td><td>500    </td><td>0.001</td><td>CHP_368-05-PBMC-DNA</td></tr>\n",
       "\t<tr><th scope=row>213</th><td>VGAP</td><td>3</td><td>0.02</td><td>1</td><td>149.999</td><td>0.001</td><td>CHP_368-05-PBMC-DNA</td></tr>\n",
       "\t<tr><th scope=row>214</th><td>SCP </td><td>3</td><td>0.01</td><td>1</td><td>299.999</td><td>0.001</td><td>CHP_368-05-PBMC-DNA</td></tr>\n",
       "\t<tr><th scope=row>215</th><td>KEAV</td><td>3</td><td>0   </td><td>1</td><td>428.571</td><td>0.001</td><td>CHP_368-05-PBMC-DNA</td></tr>\n",
       "\t<tr><th scope=row>216</th><td>GKEA</td><td>3</td><td>0.01</td><td>1</td><td>272.727</td><td>0.001</td><td>CHP_368-05-PBMC-DNA</td></tr>\n",
       "\t<tr><th scope=row>217</th><td>GAPE</td><td>4</td><td>0.11</td><td>2</td><td>36.363 </td><td>0.001</td><td>CHP_368-05-PBMC-DNA</td></tr>\n",
       "\t<tr><th scope=row>218</th><td>FFG </td><td>4</td><td>0.08</td><td>2</td><td>49.999 </td><td>0.001</td><td>CHP_368-05-PBMC-DNA</td></tr>\n",
       "\t<tr><th scope=row>219</th><td>VLGK</td><td>3</td><td>0.01</td><td>1</td><td>272.727</td><td>0.001</td><td>CHP_368-05-PBMC-DNA</td></tr>\n",
       "\t<tr><th scope=row>220</th><td>FFGE</td><td>3</td><td>0.01</td><td>1</td><td>299.999</td><td>0.001</td><td>CHP_368-05-PBMC-DNA</td></tr>\n",
       "\t<tr><th scope=row>221</th><td>ESSE</td><td>3</td><td>0   </td><td>1</td><td>500    </td><td>0.001</td><td>CHP_368-05-PBMC-DNA</td></tr>\n",
       "\t<tr><th scope=row>222</th><td>CPT </td><td>3</td><td>0.01</td><td>2</td><td>199.999</td><td>0.001</td><td>CHP_368-05-PBMC-DNA</td></tr>\n",
       "\t<tr><th scope=row>223</th><td>FF  </td><td>4</td><td>0.36</td><td>3</td><td>10.869 </td><td>0.001</td><td>CHP_368-05-PBMC-DNA</td></tr>\n",
       "\t<tr><th scope=row>224</th><td>LFF </td><td>3</td><td>0.01</td><td>1</td><td>166.666</td><td>0.001</td><td>CHP_368-05-PBMC-DNA</td></tr>\n",
       "\t<tr><th scope=row>225</th><td>AGWA</td><td>3</td><td>0.02</td><td>1</td><td>149.999</td><td>0.001</td><td>CHP_368-05-PBMC-DNA</td></tr>\n",
       "\t<tr><th scope=row>226</th><td>FGEG</td><td>3</td><td>0.01</td><td>1</td><td>214.285</td><td>0.001</td><td>CHP_368-05-PBMC-DNA</td></tr>\n",
       "\t<tr><th scope=row>227</th><td>GSRL</td><td>3</td><td>0.02</td><td>1</td><td>142.857</td><td>0.001</td><td>CHP_368-05-PBMC-DNA</td></tr>\n",
       "\t<tr><th scope=row>228</th><td>APE </td><td>4</td><td>0.24</td><td>3</td><td>16.528 </td><td>0.001</td><td>CHP_368-05-PBMC-DNA</td></tr>\n",
       "\t<tr><th scope=row>229</th><td>AEVS</td><td>3</td><td>0   </td><td>1</td><td>1500   </td><td>0.001</td><td>CHP_368-05-PBMC-DNA</td></tr>\n",
       "\t<tr><th scope=row>230</th><td>SSC </td><td>3</td><td>0.02</td><td>1</td><td>130.434</td><td>0.001</td><td>CHP_368-05-PBMC-DNA</td></tr>\n",
       "\t<tr><th scope=row>231</th><td>LTVL</td><td>3</td><td>0   </td><td>1</td><td>1000   </td><td>0.001</td><td>CHP_368-05-PBMC-DNA</td></tr>\n",
       "</tbody>\n",
       "</table>\n"
      ],
      "text/latex": [
       "A data.frame: 29 × 7\n",
       "\\begin{tabular}{r|lllllll}\n",
       "  & Motif & Counts & avgRef & topRef & OvE & p-value & samplename\\\\\n",
       "  & <chr> & <dbl> & <chr> & <chr> & <chr> & <chr> & <chr>\\\\\n",
       "\\hline\n",
       "\t201 & LF   & 4 & 0.31 & 3 & 12.861  & 0.001 & CHP\\_368-04-PBMC-DNA\\\\\n",
       "\t204 & LGKE & 3 & 0.01 & 1 & 166.666 & 0.001 & CHP\\_368-05-PBMC-DNA\\\\\n",
       "\t205 & AVLR & 3 & 0    & 1 & 750     & 0.001 & CHP\\_368-05-PBMC-DNA\\\\\n",
       "\t206 & VLR  & 4 & 0.18 & 3 & 21.857  & 0.001 & CHP\\_368-05-PBMC-DNA\\\\\n",
       "\t207 & PTLR & 3 & 0.02 & 1 & 103.448 & 0.001 & CHP\\_368-05-PBMC-DNA\\\\\n",
       "\t208 & GWA  & 4 & 0.38 & 3 & 10.526  & 0.001 & CHP\\_368-05-PBMC-DNA\\\\\n",
       "\t209 & VLRG & 4 & 0.05 & 2 & 71.428  & 0.001 & CHP\\_368-05-PBMC-DNA\\\\\n",
       "\t210 & APES & 3 & 0    & 1 & 500     & 0.001 & CHP\\_368-05-PBMC-DNA\\\\\n",
       "\t211 & LGK  & 4 & 0.18 & 3 & 22.222  & 0.001 & CHP\\_368-05-PBMC-DNA\\\\\n",
       "\t212 & GELF & 3 & 0    & 1 & 500     & 0.001 & CHP\\_368-05-PBMC-DNA\\\\\n",
       "\t213 & VGAP & 3 & 0.02 & 1 & 149.999 & 0.001 & CHP\\_368-05-PBMC-DNA\\\\\n",
       "\t214 & SCP  & 3 & 0.01 & 1 & 299.999 & 0.001 & CHP\\_368-05-PBMC-DNA\\\\\n",
       "\t215 & KEAV & 3 & 0    & 1 & 428.571 & 0.001 & CHP\\_368-05-PBMC-DNA\\\\\n",
       "\t216 & GKEA & 3 & 0.01 & 1 & 272.727 & 0.001 & CHP\\_368-05-PBMC-DNA\\\\\n",
       "\t217 & GAPE & 4 & 0.11 & 2 & 36.363  & 0.001 & CHP\\_368-05-PBMC-DNA\\\\\n",
       "\t218 & FFG  & 4 & 0.08 & 2 & 49.999  & 0.001 & CHP\\_368-05-PBMC-DNA\\\\\n",
       "\t219 & VLGK & 3 & 0.01 & 1 & 272.727 & 0.001 & CHP\\_368-05-PBMC-DNA\\\\\n",
       "\t220 & FFGE & 3 & 0.01 & 1 & 299.999 & 0.001 & CHP\\_368-05-PBMC-DNA\\\\\n",
       "\t221 & ESSE & 3 & 0    & 1 & 500     & 0.001 & CHP\\_368-05-PBMC-DNA\\\\\n",
       "\t222 & CPT  & 3 & 0.01 & 2 & 199.999 & 0.001 & CHP\\_368-05-PBMC-DNA\\\\\n",
       "\t223 & FF   & 4 & 0.36 & 3 & 10.869  & 0.001 & CHP\\_368-05-PBMC-DNA\\\\\n",
       "\t224 & LFF  & 3 & 0.01 & 1 & 166.666 & 0.001 & CHP\\_368-05-PBMC-DNA\\\\\n",
       "\t225 & AGWA & 3 & 0.02 & 1 & 149.999 & 0.001 & CHP\\_368-05-PBMC-DNA\\\\\n",
       "\t226 & FGEG & 3 & 0.01 & 1 & 214.285 & 0.001 & CHP\\_368-05-PBMC-DNA\\\\\n",
       "\t227 & GSRL & 3 & 0.02 & 1 & 142.857 & 0.001 & CHP\\_368-05-PBMC-DNA\\\\\n",
       "\t228 & APE  & 4 & 0.24 & 3 & 16.528  & 0.001 & CHP\\_368-05-PBMC-DNA\\\\\n",
       "\t229 & AEVS & 3 & 0    & 1 & 1500    & 0.001 & CHP\\_368-05-PBMC-DNA\\\\\n",
       "\t230 & SSC  & 3 & 0.02 & 1 & 130.434 & 0.001 & CHP\\_368-05-PBMC-DNA\\\\\n",
       "\t231 & LTVL & 3 & 0    & 1 & 1000    & 0.001 & CHP\\_368-05-PBMC-DNA\\\\\n",
       "\\end{tabular}\n"
      ],
      "text/markdown": [
       "\n",
       "A data.frame: 29 × 7\n",
       "\n",
       "| <!--/--> | Motif &lt;chr&gt; | Counts &lt;dbl&gt; | avgRef &lt;chr&gt; | topRef &lt;chr&gt; | OvE &lt;chr&gt; | p-value &lt;chr&gt; | samplename &lt;chr&gt; |\n",
       "|---|---|---|---|---|---|---|---|\n",
       "| 201 | LF   | 4 | 0.31 | 3 | 12.861  | 0.001 | CHP_368-04-PBMC-DNA |\n",
       "| 204 | LGKE | 3 | 0.01 | 1 | 166.666 | 0.001 | CHP_368-05-PBMC-DNA |\n",
       "| 205 | AVLR | 3 | 0    | 1 | 750     | 0.001 | CHP_368-05-PBMC-DNA |\n",
       "| 206 | VLR  | 4 | 0.18 | 3 | 21.857  | 0.001 | CHP_368-05-PBMC-DNA |\n",
       "| 207 | PTLR | 3 | 0.02 | 1 | 103.448 | 0.001 | CHP_368-05-PBMC-DNA |\n",
       "| 208 | GWA  | 4 | 0.38 | 3 | 10.526  | 0.001 | CHP_368-05-PBMC-DNA |\n",
       "| 209 | VLRG | 4 | 0.05 | 2 | 71.428  | 0.001 | CHP_368-05-PBMC-DNA |\n",
       "| 210 | APES | 3 | 0    | 1 | 500     | 0.001 | CHP_368-05-PBMC-DNA |\n",
       "| 211 | LGK  | 4 | 0.18 | 3 | 22.222  | 0.001 | CHP_368-05-PBMC-DNA |\n",
       "| 212 | GELF | 3 | 0    | 1 | 500     | 0.001 | CHP_368-05-PBMC-DNA |\n",
       "| 213 | VGAP | 3 | 0.02 | 1 | 149.999 | 0.001 | CHP_368-05-PBMC-DNA |\n",
       "| 214 | SCP  | 3 | 0.01 | 1 | 299.999 | 0.001 | CHP_368-05-PBMC-DNA |\n",
       "| 215 | KEAV | 3 | 0    | 1 | 428.571 | 0.001 | CHP_368-05-PBMC-DNA |\n",
       "| 216 | GKEA | 3 | 0.01 | 1 | 272.727 | 0.001 | CHP_368-05-PBMC-DNA |\n",
       "| 217 | GAPE | 4 | 0.11 | 2 | 36.363  | 0.001 | CHP_368-05-PBMC-DNA |\n",
       "| 218 | FFG  | 4 | 0.08 | 2 | 49.999  | 0.001 | CHP_368-05-PBMC-DNA |\n",
       "| 219 | VLGK | 3 | 0.01 | 1 | 272.727 | 0.001 | CHP_368-05-PBMC-DNA |\n",
       "| 220 | FFGE | 3 | 0.01 | 1 | 299.999 | 0.001 | CHP_368-05-PBMC-DNA |\n",
       "| 221 | ESSE | 3 | 0    | 1 | 500     | 0.001 | CHP_368-05-PBMC-DNA |\n",
       "| 222 | CPT  | 3 | 0.01 | 2 | 199.999 | 0.001 | CHP_368-05-PBMC-DNA |\n",
       "| 223 | FF   | 4 | 0.36 | 3 | 10.869  | 0.001 | CHP_368-05-PBMC-DNA |\n",
       "| 224 | LFF  | 3 | 0.01 | 1 | 166.666 | 0.001 | CHP_368-05-PBMC-DNA |\n",
       "| 225 | AGWA | 3 | 0.02 | 1 | 149.999 | 0.001 | CHP_368-05-PBMC-DNA |\n",
       "| 226 | FGEG | 3 | 0.01 | 1 | 214.285 | 0.001 | CHP_368-05-PBMC-DNA |\n",
       "| 227 | GSRL | 3 | 0.02 | 1 | 142.857 | 0.001 | CHP_368-05-PBMC-DNA |\n",
       "| 228 | APE  | 4 | 0.24 | 3 | 16.528  | 0.001 | CHP_368-05-PBMC-DNA |\n",
       "| 229 | AEVS | 3 | 0    | 1 | 1500    | 0.001 | CHP_368-05-PBMC-DNA |\n",
       "| 230 | SSC  | 3 | 0.02 | 1 | 130.434 | 0.001 | CHP_368-05-PBMC-DNA |\n",
       "| 231 | LTVL | 3 | 0    | 1 | 1000    | 0.001 | CHP_368-05-PBMC-DNA |\n",
       "\n"
      ],
      "text/plain": [
       "    Motif Counts avgRef topRef OvE     p-value samplename         \n",
       "201 LF    4      0.31   3      12.861  0.001   CHP_368-04-PBMC-DNA\n",
       "204 LGKE  3      0.01   1      166.666 0.001   CHP_368-05-PBMC-DNA\n",
       "205 AVLR  3      0      1      750     0.001   CHP_368-05-PBMC-DNA\n",
       "206 VLR   4      0.18   3      21.857  0.001   CHP_368-05-PBMC-DNA\n",
       "207 PTLR  3      0.02   1      103.448 0.001   CHP_368-05-PBMC-DNA\n",
       "208 GWA   4      0.38   3      10.526  0.001   CHP_368-05-PBMC-DNA\n",
       "209 VLRG  4      0.05   2      71.428  0.001   CHP_368-05-PBMC-DNA\n",
       "210 APES  3      0      1      500     0.001   CHP_368-05-PBMC-DNA\n",
       "211 LGK   4      0.18   3      22.222  0.001   CHP_368-05-PBMC-DNA\n",
       "212 GELF  3      0      1      500     0.001   CHP_368-05-PBMC-DNA\n",
       "213 VGAP  3      0.02   1      149.999 0.001   CHP_368-05-PBMC-DNA\n",
       "214 SCP   3      0.01   1      299.999 0.001   CHP_368-05-PBMC-DNA\n",
       "215 KEAV  3      0      1      428.571 0.001   CHP_368-05-PBMC-DNA\n",
       "216 GKEA  3      0.01   1      272.727 0.001   CHP_368-05-PBMC-DNA\n",
       "217 GAPE  4      0.11   2      36.363  0.001   CHP_368-05-PBMC-DNA\n",
       "218 FFG   4      0.08   2      49.999  0.001   CHP_368-05-PBMC-DNA\n",
       "219 VLGK  3      0.01   1      272.727 0.001   CHP_368-05-PBMC-DNA\n",
       "220 FFGE  3      0.01   1      299.999 0.001   CHP_368-05-PBMC-DNA\n",
       "221 ESSE  3      0      1      500     0.001   CHP_368-05-PBMC-DNA\n",
       "222 CPT   3      0.01   2      199.999 0.001   CHP_368-05-PBMC-DNA\n",
       "223 FF    4      0.36   3      10.869  0.001   CHP_368-05-PBMC-DNA\n",
       "224 LFF   3      0.01   1      166.666 0.001   CHP_368-05-PBMC-DNA\n",
       "225 AGWA  3      0.02   1      149.999 0.001   CHP_368-05-PBMC-DNA\n",
       "226 FGEG  3      0.01   1      214.285 0.001   CHP_368-05-PBMC-DNA\n",
       "227 GSRL  3      0.02   1      142.857 0.001   CHP_368-05-PBMC-DNA\n",
       "228 APE   4      0.24   3      16.528  0.001   CHP_368-05-PBMC-DNA\n",
       "229 AEVS  3      0      1      1500    0.001   CHP_368-05-PBMC-DNA\n",
       "230 SSC   3      0.02   1      130.434 0.001   CHP_368-05-PBMC-DNA\n",
       "231 LTVL  3      0      1      1000    0.001   CHP_368-05-PBMC-DNA"
      ]
     },
     "metadata": {},
     "output_type": "display_data"
    }
   ],
   "source": [
    "gliph.df[grepl(\"368\",gliph.df$samplename),]"
   ]
  },
  {
   "cell_type": "code",
   "execution_count": null,
   "metadata": {},
   "outputs": [],
   "source": []
  },
  {
   "cell_type": "code",
   "execution_count": null,
   "metadata": {},
   "outputs": [],
   "source": []
  },
  {
   "cell_type": "code",
   "execution_count": null,
   "metadata": {},
   "outputs": [],
   "source": []
  },
  {
   "cell_type": "code",
   "execution_count": null,
   "metadata": {},
   "outputs": [],
   "source": []
  }
 ],
 "metadata": {
  "kernelspec": {
   "display_name": "R 4.0",
   "language": "R",
   "name": "ir40"
  },
  "language_info": {
   "codemirror_mode": "r",
   "file_extension": ".r",
   "mimetype": "text/x-r-source",
   "name": "R",
   "pygments_lexer": "r",
   "version": "4.0.3"
  },
  "toc": {
   "base_numbering": 1,
   "nav_menu": {},
   "number_sections": false,
   "sideBar": true,
   "skip_h1_title": false,
   "title_cell": "Table of Contents",
   "title_sidebar": "Contents",
   "toc_cell": true,
   "toc_position": {},
   "toc_section_display": true,
   "toc_window_display": false
  }
 },
 "nbformat": 4,
 "nbformat_minor": 2
}
