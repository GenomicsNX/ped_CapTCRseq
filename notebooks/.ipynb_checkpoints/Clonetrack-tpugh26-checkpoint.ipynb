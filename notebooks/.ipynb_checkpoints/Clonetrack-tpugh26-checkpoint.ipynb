{
 "cells": [
  {
   "cell_type": "markdown",
   "metadata": {
    "toc": true
   },
   "source": [
    "<h1>Table of Contents<span class=\"tocSkip\"></span></h1>\n",
    "<div class=\"toc\"><ul class=\"toc-item\"><li><span><a href=\"#Dependencies\" data-toc-modified-id=\"Dependencies-1\">Dependencies</a></span></li><li><span><a href=\"#Functions\" data-toc-modified-id=\"Functions-2\">Functions</a></span></li><li><span><a href=\"#Paths\" data-toc-modified-id=\"Paths-3\">Paths</a></span></li><li><span><a href=\"#Main\" data-toc-modified-id=\"Main-4\">Main</a></span><ul class=\"toc-item\"><li><span><a href=\"#Make-list-of-files-for-pbmc-and-cfdna\" data-toc-modified-id=\"Make-list-of-files-for-pbmc-and-cfdna-4.1\">Make list of files for pbmc and cfdna</a></span></li><li><span><a href=\"#PBMCs\" data-toc-modified-id=\"PBMCs-4.2\">PBMCs</a></span></li><li><span><a href=\"#cfDNA\" data-toc-modified-id=\"cfDNA-4.3\">cfDNA</a></span></li><li><span><a href=\"#PBMCs-and-cfDNA\" data-toc-modified-id=\"PBMCs-and-cfDNA-4.4\">PBMCs and cfDNA</a></span></li><li><span><a href=\"#Tumour-and-PBMCs\" data-toc-modified-id=\"Tumour-and-PBMCs-4.5\">Tumour and PBMCs</a></span><ul class=\"toc-item\"><li><span><a href=\"#407-DLBCL\" data-toc-modified-id=\"407-DLBCL-4.5.1\">407 DLBCL</a></span></li><li><span><a href=\"#404-ERMS\" data-toc-modified-id=\"404-ERMS-4.5.2\">404 ERMS</a></span></li><li><span><a href=\"#394-ERMS\" data-toc-modified-id=\"394-ERMS-4.5.3\">394 ERMS</a></span></li><li><span><a href=\"#372-BL\" data-toc-modified-id=\"372-BL-4.5.4\">372 BL</a></span></li><li><span><a href=\"#370-ALCL\" data-toc-modified-id=\"370-ALCL-4.5.5\">370 ALCL</a></span></li><li><span><a href=\"#364-OS\" data-toc-modified-id=\"364-OS-4.5.6\">364 OS</a></span></li><li><span><a href=\"#361-HD\" data-toc-modified-id=\"361-HD-4.5.7\">361 HD</a></span></li></ul></li><li><span><a href=\"#Tumour-and-cfDNA\" data-toc-modified-id=\"Tumour-and-cfDNA-4.6\">Tumour and cfDNA</a></span><ul class=\"toc-item\"><li><span><a href=\"#361-HD\" data-toc-modified-id=\"361-HD-4.6.1\">361 HD</a></span></li><li><span><a href=\"#370-ALCL\" data-toc-modified-id=\"370-ALCL-4.6.2\">370 ALCL</a></span></li><li><span><a href=\"#372\" data-toc-modified-id=\"372-4.6.3\">372</a></span></li><li><span><a href=\"#401\" data-toc-modified-id=\"401-4.6.4\">401</a></span></li><li><span><a href=\"#380\" data-toc-modified-id=\"380-4.6.5\">380</a></span></li></ul></li></ul></li></ul></div>"
   ]
  },
  {
   "cell_type": "markdown",
   "metadata": {},
   "source": [
    "# Dependencies"
   ]
  },
  {
   "cell_type": "code",
   "execution_count": 1,
   "metadata": {
    "scrolled": true
   },
   "outputs": [
    {
     "name": "stderr",
     "output_type": "stream",
     "text": [
      "Loading required package: ggplot2\n",
      "Warning message:\n",
      "“package ‘randomcoloR’ was built under R version 3.5.2”"
     ]
    }
   ],
   "source": [
    "library(ggalluvial)\n",
    "library(randomcoloR)"
   ]
  },
  {
   "cell_type": "markdown",
   "metadata": {},
   "source": [
    "# Functions"
   ]
  },
  {
   "cell_type": "code",
   "execution_count": 2,
   "metadata": {},
   "outputs": [],
   "source": [
    "cdr3_dataframe.fx <- function(datapath, chain, filelist, totalinframe){\n",
    "  \n",
    "  if (!(totalinframe %in% c(\"total\", \"inframe\"))) {\n",
    "    stop(\"Error: unknown argument \", totalinframe, \". Please provide either total (for all clonotypes) or inframe (for in-frame clonotypes only)\")\n",
    "  }  \n",
    "  \n",
    "  # Ensure only one chain is included\n",
    "  filelist <- filelist[grepl(chain, filelist)]\n",
    "  \n",
    "  #Compile a big file with patient's mixcr files\n",
    "  i <- 1\n",
    "  for (f in filelist){\n",
    "    mixcrfle <- read.table(paste(datapath, f, sep = \"\"), \n",
    "                           header = TRUE, sep = \"\\t\",\n",
    "                           stringsAsFactors = FALSE,\n",
    "                           na.strings = c(\"\", \"NA\"))\n",
    "    if(i == 1){\n",
    "# Remove duplicated CDR3s\n",
    "    message(\"duplicated sequences:\")\n",
    "     print(mixcrfle$aaSeqCDR3[duplicated(mixcrfle$aaSeqCDR3)]) \n",
    "      compldfle <- mixcrfle[!duplicated(mixcrfle$aaSeqCDR3),]\n",
    "      compldfle <- cbind(cloneno = row.names(compldfle), \n",
    "                         filename = f, \n",
    "                         compldfle)\n",
    "      i <- i + 1   \n",
    "    }\n",
    "    else{\n",
    "      compldfle1 <- mixcrfle[!duplicated(mixcrfle$aaSeqCDR3),]\n",
    "      compldfle1 <- cbind(cloneno = row.names(compldfle1), \n",
    "                          filename = f, \n",
    "                          compldfle1)\n",
    "      compldfle <- rbind(compldfle, compldfle1)\n",
    "      rm(compldfle1)\n",
    "    }\n",
    "  }\n",
    "  myfiles <- unique(as.character(compldfle$filename))\n",
    "  message(\"my files:\")\n",
    "  print(myfiles)\n",
    "  \n",
    "  message(\"Total recovered clonotypes:\")\n",
    "  print(length(compldfle$aaSeqCDR3))    \n",
    "  \n",
    "  message(\"Total out-of-frame clonotypes:\")    \n",
    "  print(length(compldfle$aaSeqCDR3[grepl(\"_\", compldfle$aaSeqCDR3)]))     \n",
    "  message(\"Total clonotypes with stop codon:\")    \n",
    "  print(length(compldfle$aaSeqCDR3[grepl(\"[*]\", compldfle$aaSeqCDR3) &\n",
    "                                     !grepl(\"_\", compldfle$aaSeqCDR3)]))     \n",
    "  \n",
    "#make samplename column\n",
    "  compldfle$filename <- as.character(compldfle$filename)\n",
    "  compldfle$samplename <- gsub(\".*.CLONES_\",\"\", compldfle$filename) \n",
    "  \n",
    "# remove out-of-frame clonotypes and those with stop codon    \n",
    "  compldfle_clean <- compldfle[!grepl(\"_\", compldfle$aaSeqCDR3) &\n",
    "                                 !grepl(\"[*]\", compldfle$aaSeqCDR3),]\n",
    "  \n",
    "  message(\"Total productive clonotypes:\")\n",
    "  print(length(compldfle_clean$aaSeqCDR3))      \n",
    "  \n",
    "  if(totalinframe == \"inframe\"){\n",
    "    message(\"Output contains in_frame clonotypes only\")\n",
    "    return(compldfle_clean)}\n",
    "  if(totalinframe == \"total\"){\n",
    "    message(\"Output contains all clonotypes\")\n",
    "    return(compldfle)}\n",
    "}\n"
   ]
  },
  {
   "cell_type": "code",
   "execution_count": 12,
   "metadata": {},
   "outputs": [],
   "source": [
    "plot_clonetracks.fx <- function(compldfle, plotpath, chain, countfrac, clnefrc){\n",
    "  \n",
    "  if (!(countfrac %in% c(\"cloneFraction\", \"cloneCount\"))) {\n",
    "    stop(\"Error: unknown argument \", countfrac, \". Please provide either cloneFraction or cloneCount.\")\n",
    "  }  \n",
    "  \n",
    "  message(\"list of samples to track clones: \")\n",
    "  mysamples <- unique(compldfle$samplename)\n",
    "  print(mysamples)\n",
    "  \n",
    "  \n",
    "# Subset df\n",
    "  CDR3_fraction <- compldfle[, c(\"samplename\",\"aaSeqCDR3\",\"cloneFraction\", \"cloneCount\")]\n",
    "# Subset to include only clonotypes with more than specified clonal fraction    \n",
    "  CDR3_fraction <- CDR3_fraction[CDR3_fraction$cloneFraction > clnefrc,] \n",
    "  \n",
    "#Assign colors to recurring clonotypes\n",
    "  recurring <- unique(CDR3_fraction$aaSeqCDR3[duplicated(CDR3_fraction$aaSeqCDR3)])\n",
    "  notrecurring <- CDR3_fraction$aaSeqCDR3[!CDR3_fraction$aaSeqCDR3 %in% recurring]\n",
    "  \n",
    "  message(\"Total number of recurring clonotypes: \")     \n",
    "  print(length(recurring))\n",
    "  \n",
    "  if(length(recurring) == 0){\n",
    "#Introduce a dummy common cdr3 dataframe for alluvia \n",
    "    mydummy_df <- as.data.frame(matrix(ncol = 4, nrow = length(mysamples)))\n",
    "    colnames(mydummy_df) <- colnames(CDR3_fraction)\n",
    "    \n",
    "    mydummy_df$samplename <- mysamples\n",
    "    mydummy_df$aaSeqCDR3 <-  \"XXXXX\"\n",
    "    mydummy_df$cloneFraction <- 0\n",
    "    mydummy_df$cloneCount <- 0     \n",
    "    CDR3_fraction <- rbind(CDR3_fraction, mydummy_df)\n",
    "    \n",
    "    recurring <- \"XXXXX\"\n",
    "    \n",
    "  }\n",
    "  if(length(recurring) > 50){\n",
    "    recurring_df <- CDR3_fraction[CDR3_fraction$aaSeqCDR3 %in% recurring,]\n",
    "    recurringcdr3_ordered <- unique(recurring_df$aaSeqCDR3[order(recurring_df$cloneCount, decreasing = TRUE)])\n",
    "    message(\"Total number of recurring clonotypes > 50 \")   \n",
    "    message(\"Tracking top 10 recurring clonotypes \")  \n",
    "    myColors <- distinctColorPalette(10)\n",
    "    \n",
    "    myColors <- c(myColors, rep(\"white\",length(recurring)-10),\n",
    "                  rep(\"white\",length(notrecurring)))\n",
    "    names(myColors) <- c(recurringcdr3_ordered, notrecurring)\n",
    "    \n",
    "    message(\"these are what we color: \")  \n",
    "    print(myColors[myColors != \"white\"])         \n",
    "  }\n",
    "  else{\n",
    "    myColors <- distinctColorPalette(length(recurring))\n",
    "    myColors <- c(myColors, rep(\"white\",length(notrecurring)))\n",
    "    names(myColors) <- c(recurring, notrecurring)\n",
    "    \n",
    "    myColors[names(myColors) == \"XXXXX\"] <- \"white\"\n",
    "    \n",
    "    message(\"these are what we color: \")  \n",
    "    print(myColors[myColors != \"white\"]) \n",
    "  }\n",
    "  \n",
    "# Generate a row for each sample that doesnot have recurring clonotype\n",
    "## This ensures alluvia are colored\n",
    "  \n",
    "  for(c in recurring){\n",
    "    tmp <- CDR3_fraction[CDR3_fraction$aaSeqCDR3 == c,]\n",
    "    nonexsiting <- mysamples[!mysamples %in% tmp$samplename]\n",
    "    if(length(nonexsiting) > 0){\n",
    "      newentries <- data.frame(\"samplename\" = nonexsiting, \"aaSeqCDR3\" = c, \n",
    "                               \"cloneFraction\" = 0, \"cloneCount\" = 0)\n",
    "      CDR3_fraction <- rbind(CDR3_fraction, newentries)\n",
    "    }\n",
    "  }\n",
    "  \n",
    "  \n",
    "  p <-  ggplot(CDR3_fraction, aes(x = samplename, \n",
    "                                  y = eval(as.name(countfrac)),\n",
    "                                  fill = aaSeqCDR3,\n",
    "                                  stratum = aaSeqCDR3,\n",
    "                                  alluvium = aaSeqCDR3,\n",
    "                                  label = aaSeqCDR3))\n",
    "  \n",
    "  myp <- p + geom_alluvium(decreasing = FALSE) + \n",
    "    geom_stratum(decreasing = FALSE, stat = \"alluvium\") + \n",
    "    scale_fill_manual(breaks = names(myColors[myColors != \"white\"]),\n",
    "                      values = myColors) +\n",
    "    theme(axis.title.y = element_text(size = 50),\n",
    "          axis.title.x = element_blank(),\n",
    "          axis.line = element_line(color = \"black\"),\n",
    "          axis.text = element_text(size = 50),\n",
    "          axis.text.x = element_text(angle = 45, hjust = 1)) +\n",
    "    theme(panel.grid.major = element_blank(),\n",
    "          panel.grid.minor = element_blank(),\n",
    "          panel.background = element_rect(fill = \"transparent\",colour = NA),\n",
    "          legend.key = element_rect(fill = \"white\", colour = \"white\"),\n",
    "          legend.position = \"none\",\n",
    "          plot.margin = unit(c(0.2,0,0,0),\"cm\")) + \n",
    "    labs(y = countfrac) \n",
    "  \n",
    "  pdf(paste0(plotpath, \"clonetrack_cfDNA\", mysamples[1],\n",
    "             chain, countfrac, \".pdf\"),\n",
    "      width = 15, \n",
    "      height = 20,\n",
    "      useDingbats = FALSE,\n",
    "      onefile = FALSE)       \n",
    "  print(myp)  \n",
    "  dev.off()      \n",
    "  \n",
    "}"
   ]
  },
  {
   "cell_type": "markdown",
   "metadata": {},
   "source": [
    "# Paths"
   ]
  },
  {
   "cell_type": "code",
   "execution_count": 4,
   "metadata": {},
   "outputs": [],
   "source": [
    "datapath <- \"/Users/anabbi/OneDrive - UHN/Documents/INTERCEPT/Data/Nextseq/\"\n",
    "plotpath <- \"/Users/anabbi/OneDrive - UHN/Documents/INTERCEPT/Plots/\""
   ]
  },
  {
   "cell_type": "markdown",
   "metadata": {},
   "source": [
    "# Main"
   ]
  },
  {
   "cell_type": "code",
   "execution_count": 5,
   "metadata": {},
   "outputs": [],
   "source": [
    "master_df <- read.csv(\"/Users/anabbi/OneDrive - UHN/Documents/INTERCEPT/Data/ATC_Tcells_NCR.csv\",\n",
    "                      stringsAsFactors = F)"
   ]
  },
  {
   "cell_type": "code",
   "execution_count": 6,
   "metadata": {},
   "outputs": [
    {
     "data": {
      "text/html": [
       "<table>\n",
       "<caption>A data.frame: 5 × 34</caption>\n",
       "<thead>\n",
       "\t<tr><th></th><th scope=col>Patient</th><th scope=col>cycle</th><th scope=col>FOLD</th><th scope=col>ATC</th><th scope=col>Age</th><th scope=col>Disease_type</th><th scope=col>TE_fold</th><th scope=col>Pass</th><th scope=col>CD3</th><th scope=col>EM</th><th scope=col>⋯</th><th scope=col>TIM3</th><th scope=col>CTLA4</th><th scope=col>PD1.</th><th scope=col>PDL1.</th><th scope=col>LAG3.</th><th scope=col>TIM3.</th><th scope=col>CTLA4.</th><th scope=col>Any.NCR</th><th scope=col>PD1...LAG3...TIM3</th><th scope=col>group</th></tr>\n",
       "\t<tr><th></th><th scope=col>&lt;int&gt;</th><th scope=col>&lt;int&gt;</th><th scope=col>&lt;dbl&gt;</th><th scope=col>&lt;dbl&gt;</th><th scope=col>&lt;dbl&gt;</th><th scope=col>&lt;chr&gt;</th><th scope=col>&lt;chr&gt;</th><th scope=col>&lt;lgl&gt;</th><th scope=col>&lt;int&gt;</th><th scope=col>&lt;int&gt;</th><th scope=col>⋯</th><th scope=col>&lt;int&gt;</th><th scope=col>&lt;int&gt;</th><th scope=col>&lt;dbl&gt;</th><th scope=col>&lt;dbl&gt;</th><th scope=col>&lt;dbl&gt;</th><th scope=col>&lt;dbl&gt;</th><th scope=col>&lt;dbl&gt;</th><th scope=col>&lt;dbl&gt;</th><th scope=col>&lt;dbl&gt;</th><th scope=col>&lt;chr&gt;</th></tr>\n",
       "</thead>\n",
       "<tbody>\n",
       "\t<tr><th scope=row>171</th><td>364</td><td>1</td><td>2.3</td><td>877.68</td><td>16</td><td>OS</td><td>2.3</td><td>NA</td><td>2411</td><td> 33</td><td>⋯</td><td>303</td><td>NA</td><td>12.56740</td><td>NA</td><td> 5.060141</td><td>12.56740</td><td>NA</td><td>NA</td><td>NA</td><td>Solid</td></tr>\n",
       "\t<tr><th scope=row>172</th><td>364</td><td>2</td><td>1.9</td><td>  0.00</td><td>16</td><td>OS</td><td>1.9</td><td>NA</td><td>2487</td><td> 18</td><td>⋯</td><td>153</td><td>NA</td><td> 6.15199</td><td>NA</td><td> 5.589063</td><td> 6.15199</td><td>NA</td><td>NA</td><td>NA</td><td>Solid</td></tr>\n",
       "\t<tr><th scope=row>173</th><td>364</td><td>3</td><td>0.0</td><td>  0.00</td><td>16</td><td>OS</td><td>0  </td><td>NA</td><td>   0</td><td> NA</td><td>⋯</td><td> NA</td><td>NA</td><td>      NA</td><td>NA</td><td>       NA</td><td>      NA</td><td>NA</td><td>NA</td><td>NA</td><td>Solid</td></tr>\n",
       "\t<tr><th scope=row>174</th><td>364</td><td>4</td><td>4.0</td><td>  0.00</td><td>16</td><td>OS</td><td>4  </td><td>NA</td><td>2454</td><td>  9</td><td>⋯</td><td>610</td><td>NA</td><td>24.85738</td><td>NA</td><td>19.845151</td><td>24.85738</td><td>NA</td><td>NA</td><td>NA</td><td>Solid</td></tr>\n",
       "\t<tr><th scope=row>175</th><td>364</td><td>5</td><td>5.0</td><td>  0.00</td><td>16</td><td>OS</td><td>5  </td><td>NA</td><td>2119</td><td>103</td><td>⋯</td><td>586</td><td>NA</td><td>27.65455</td><td>NA</td><td> 4.341671</td><td>27.65455</td><td>NA</td><td>NA</td><td>NA</td><td>Solid</td></tr>\n",
       "</tbody>\n",
       "</table>\n"
      ],
      "text/latex": [
       "A data.frame: 5 × 34\n",
       "\\begin{tabular}{r|llllllllllllllllllllllllllllllllll}\n",
       "  & Patient & cycle & FOLD & ATC & Age & Disease\\_type & TE\\_fold & Pass & CD3 & EM & CM & Naïve & SCM & TE & EM. & CM. & Naïve. & SCM. & TE. & Naïve.TE & N.CM.SCM.TE.EM & PD.1 & PDL1 & LAG3 & TIM3 & CTLA4 & PD1. & PDL1. & LAG3. & TIM3. & CTLA4. & Any.NCR & PD1...LAG3...TIM3 & group\\\\\n",
       "  & <int> & <int> & <dbl> & <dbl> & <dbl> & <chr> & <chr> & <lgl> & <int> & <int> & <int> & <int> & <int> & <int> & <dbl> & <dbl> & <dbl> & <dbl> & <dbl> & <dbl> & <dbl> & <int> & <int> & <int> & <int> & <int> & <dbl> & <dbl> & <dbl> & <dbl> & <dbl> & <dbl> & <dbl> & <chr>\\\\\n",
       "\\hline\n",
       "\t171 & 364 & 1 & 2.3 & 877.68 & 16 & OS & 2.3 & NA & 2411 &  33 & 179 & 1148 &  18 & 1033 & 1.3687267 &  7.424305 & 47.61510 & 0.7465782 & 42.84529 & 1.1113262 & 1.2617261 & 303 & NA & 122 & 303 & NA & 12.56740 & NA &  5.060141 & 12.56740 & NA & NA & NA & Solid\\\\\n",
       "\t172 & 364 & 2 & 1.9 &   0.00 & 16 & OS & 1.9 & NA & 2487 &  18 & 126 &  230 &  29 & 2084 & 0.7237636 &  5.066345 &  9.24809 & 1.1660635 & 83.79574 & 0.1103647 & 0.1831589 & 153 & NA & 139 & 153 & NA &  6.15199 & NA &  5.589063 &  6.15199 & NA & NA & NA & Solid\\\\\n",
       "\t173 & 364 & 3 & 0.0 &   0.00 & 16 & OS & 0   & NA &    0 &  NA &  NA &   NA &  NA &   NA &        NA &        NA &       NA &        NA &       NA &        NA &        NA &  NA & NA &  NA &  NA & NA &       NA & NA &        NA &       NA & NA & NA & NA & Solid\\\\\n",
       "\t174 & 364 & 4 & 4.0 &   0.00 & 16 & OS & 4   & NA & 2454 &   9 & 531 &  344 & 136 & 1434 & 0.3667482 & 21.638142 & 14.01793 & 5.5419723 & 58.43521 & 0.2398884 & 0.7006237 & 610 & NA & 487 & 610 & NA & 24.85738 & NA & 19.845151 & 24.85738 & NA & NA & NA & Solid\\\\\n",
       "\t175 & 364 & 5 & 5.0 &   0.00 & 16 & OS & 5   & NA & 2119 & 103 & 677 &  559 & 108 &  672 & 4.8607834 & 31.949033 & 26.38037 & 5.0967437 & 31.71307 & 0.8318452 & 1.7341935 & 586 & NA &  92 & 586 & NA & 27.65455 & NA &  4.341671 & 27.65455 & NA & NA & NA & Solid\\\\\n",
       "\\end{tabular}\n"
      ],
      "text/markdown": [
       "\n",
       "A data.frame: 5 × 34\n",
       "\n",
       "| <!--/--> | Patient &lt;int&gt; | cycle &lt;int&gt; | FOLD &lt;dbl&gt; | ATC &lt;dbl&gt; | Age &lt;dbl&gt; | Disease_type &lt;chr&gt; | TE_fold &lt;chr&gt; | Pass &lt;lgl&gt; | CD3 &lt;int&gt; | EM &lt;int&gt; | ⋯ ⋯ | TIM3 &lt;int&gt; | CTLA4 &lt;int&gt; | PD1. &lt;dbl&gt; | PDL1. &lt;dbl&gt; | LAG3. &lt;dbl&gt; | TIM3. &lt;dbl&gt; | CTLA4. &lt;dbl&gt; | Any.NCR &lt;dbl&gt; | PD1...LAG3...TIM3 &lt;dbl&gt; | group &lt;chr&gt; |\n",
       "|---|---|---|---|---|---|---|---|---|---|---|---|---|---|---|---|---|---|---|---|---|---|\n",
       "| 171 | 364 | 1 | 2.3 | 877.68 | 16 | OS | 2.3 | NA | 2411 |  33 | ⋯ | 303 | NA | 12.56740 | NA |  5.060141 | 12.56740 | NA | NA | NA | Solid |\n",
       "| 172 | 364 | 2 | 1.9 |   0.00 | 16 | OS | 1.9 | NA | 2487 |  18 | ⋯ | 153 | NA |  6.15199 | NA |  5.589063 |  6.15199 | NA | NA | NA | Solid |\n",
       "| 173 | 364 | 3 | 0.0 |   0.00 | 16 | OS | 0   | NA |    0 |  NA | ⋯ |  NA | NA |       NA | NA |        NA |       NA | NA | NA | NA | Solid |\n",
       "| 174 | 364 | 4 | 4.0 |   0.00 | 16 | OS | 4   | NA | 2454 |   9 | ⋯ | 610 | NA | 24.85738 | NA | 19.845151 | 24.85738 | NA | NA | NA | Solid |\n",
       "| 175 | 364 | 5 | 5.0 |   0.00 | 16 | OS | 5   | NA | 2119 | 103 | ⋯ | 586 | NA | 27.65455 | NA |  4.341671 | 27.65455 | NA | NA | NA | Solid |\n",
       "\n"
      ],
      "text/plain": [
       "    Patient cycle FOLD ATC    Age Disease_type TE_fold Pass CD3  EM  ⋯ TIM3\n",
       "171 364     1     2.3  877.68 16  OS           2.3     NA   2411  33 ⋯ 303 \n",
       "172 364     2     1.9    0.00 16  OS           1.9     NA   2487  18 ⋯ 153 \n",
       "173 364     3     0.0    0.00 16  OS           0       NA      0  NA ⋯  NA \n",
       "174 364     4     4.0    0.00 16  OS           4       NA   2454   9 ⋯ 610 \n",
       "175 364     5     5.0    0.00 16  OS           5       NA   2119 103 ⋯ 586 \n",
       "    CTLA4 PD1.     PDL1. LAG3.     TIM3.    CTLA4. Any.NCR PD1...LAG3...TIM3\n",
       "171 NA    12.56740 NA     5.060141 12.56740 NA     NA      NA               \n",
       "172 NA     6.15199 NA     5.589063  6.15199 NA     NA      NA               \n",
       "173 NA          NA NA           NA       NA NA     NA      NA               \n",
       "174 NA    24.85738 NA    19.845151 24.85738 NA     NA      NA               \n",
       "175 NA    27.65455 NA     4.341671 27.65455 NA     NA      NA               \n",
       "    group\n",
       "171 Solid\n",
       "172 Solid\n",
       "173 Solid\n",
       "174 Solid\n",
       "175 Solid"
      ]
     },
     "metadata": {},
     "output_type": "display_data"
    }
   ],
   "source": [
    "master_df[ master_df$Patient == \"364\",]"
   ]
  },
  {
   "cell_type": "markdown",
   "metadata": {},
   "source": [
    "## Make list of files for pbmc and cfdna"
   ]
  },
  {
   "cell_type": "code",
   "execution_count": 21,
   "metadata": {},
   "outputs": [],
   "source": [
    "flelst <- list.files(datapath,\n",
    "                     recursive = TRUE,\n",
    "                     pattern = paste(\"CLONES\", \"TRB\", sep = \"_\"))\n",
    "\n",
    "# subset to include only downsampled files\n",
    "ds_flelst <- flelst[grepl(\"2000000\", flelst)]\n",
    "\n",
    "# remove normals\n",
    "ds_flelst_normalrm <- ds_flelst[!grepl(\"batchNormal\", ds_flelst)]\n",
    "\n",
    "ds_flelst_chp_PBMC <- ds_flelst_normalrm[grepl(\"PBMC\", ds_flelst_normalrm)]\n",
    "ds_flelst_chp_cfDNA <- ds_flelst_normalrm[grepl(\"cfDNA\", ds_flelst_normalrm)]\n",
    "ds_flelst_chp_ffpe <- ds_flelst_normalrm[grepl(\"FFPE\", ds_flelst_normalrm)]"
   ]
  },
  {
   "cell_type": "markdown",
   "metadata": {},
   "source": [
    "## PBMCs"
   ]
  },
  {
   "cell_type": "code",
   "execution_count": 22,
   "metadata": {},
   "outputs": [],
   "source": [
    "manifest_df <- cbind.data.frame(ds_flelst_chp_PBMC, NA,NA,stringsAsFactors = F)\n",
    "\n",
    "colnames(manifest_df) <- c(\"filename\", \"patient\", \"cycle\")"
   ]
  },
  {
   "cell_type": "code",
   "execution_count": 23,
   "metadata": {},
   "outputs": [],
   "source": [
    "manifest_df$filename <- gsub(\".*CLONES\", \"CLONES\", manifest_df$filename)\n",
    "\n",
    "manifest_df$patient <- gsub(\"CLONES_TRBCHP_\", \"\", manifest_df$filename)\n",
    "manifest_df$patient <- gsub(\"-.*\", \"\", manifest_df$patient)\n",
    "\n",
    "manifest_df$cycle <- substr(manifest_df$filename, 19,20)\n",
    "#manifest_df$cycle <- gsub(\"-PBMC-DNA_2000000.txt\", \"\", manifest_df$cycle)"
   ]
  },
  {
   "cell_type": "code",
   "execution_count": 10,
   "metadata": {},
   "outputs": [],
   "source": [
    "ptlist <- as.data.frame(table(manifest_df$patient))"
   ]
  },
  {
   "cell_type": "code",
   "execution_count": 11,
   "metadata": {
    "scrolled": true
   },
   "outputs": [
    {
     "name": "stdout",
     "output_type": "stream",
     "text": [
      "[1] \"323\"\n"
     ]
    },
    {
     "name": "stderr",
     "output_type": "stream",
     "text": [
      "duplicated sequences:\n"
     ]
    },
    {
     "name": "stdout",
     "output_type": "stream",
     "text": [
      "character(0)\n"
     ]
    },
    {
     "name": "stderr",
     "output_type": "stream",
     "text": [
      "my files:\n"
     ]
    },
    {
     "name": "stdout",
     "output_type": "stream",
     "text": [
      "[1] \"batch4/ds_batch4/CLONES_TRBCHP_323-03-PBMC-DNA_2000000.txt\"\n",
      "[2] \"batch7/ds_batch7/CLONES_TRBCHP_323-04-PBMC-DNA_2000000.txt\"\n",
      "[3] \"batch7/ds_batch7/CLONES_TRBCHP_323-05-PBMC-DNA_2000000.txt\"\n"
     ]
    },
    {
     "name": "stderr",
     "output_type": "stream",
     "text": [
      "Total recovered clonotypes:\n"
     ]
    },
    {
     "name": "stdout",
     "output_type": "stream",
     "text": [
      "[1] 254\n"
     ]
    },
    {
     "name": "stderr",
     "output_type": "stream",
     "text": [
      "Total out-of-frame clonotypes:\n"
     ]
    },
    {
     "name": "stdout",
     "output_type": "stream",
     "text": [
      "[1] 55\n"
     ]
    },
    {
     "name": "stderr",
     "output_type": "stream",
     "text": [
      "Total clonotypes with stop codon:\n"
     ]
    },
    {
     "name": "stdout",
     "output_type": "stream",
     "text": [
      "[1] 3\n"
     ]
    },
    {
     "name": "stderr",
     "output_type": "stream",
     "text": [
      "Total productive clonotypes:\n"
     ]
    },
    {
     "name": "stdout",
     "output_type": "stream",
     "text": [
      "[1] 196\n"
     ]
    },
    {
     "name": "stderr",
     "output_type": "stream",
     "text": [
      "Output contains all clonotypes\n",
      "list of samples to track clones: \n"
     ]
    },
    {
     "name": "stdout",
     "output_type": "stream",
     "text": [
      "[1] \"CHP_323-03-PBMC\" \"CHP_323-04-PBMC\" \"CHP_323-05-PBMC\"\n"
     ]
    },
    {
     "name": "stderr",
     "output_type": "stream",
     "text": [
      "Total number of recurring clonotypes: \n"
     ]
    },
    {
     "name": "stdout",
     "output_type": "stream",
     "text": [
      "[1] 0\n"
     ]
    },
    {
     "name": "stderr",
     "output_type": "stream",
     "text": [
      "these are what we color: \n"
     ]
    },
    {
     "name": "stdout",
     "output_type": "stream",
     "text": [
      "named character(0)\n",
      "[1] \"338\"\n"
     ]
    },
    {
     "name": "stderr",
     "output_type": "stream",
     "text": [
      "duplicated sequences:\n"
     ]
    },
    {
     "name": "stdout",
     "output_type": "stream",
     "text": [
      "[1] \"CASTKSRGQ_HYSNQPQHF\" \"CAIRPGQGDTGELFF\"    \n"
     ]
    },
    {
     "name": "stderr",
     "output_type": "stream",
     "text": [
      "my files:\n"
     ]
    },
    {
     "name": "stdout",
     "output_type": "stream",
     "text": [
      "[1] \"batch2/ds_batch2/CLONES_TRBCHP_338-04-PBMC-DNA_2000000.txt\"\n",
      "[2] \"batch2/ds_batch2/CLONES_TRBCHP_338-05-PBMC-DNA_2000000.txt\"\n",
      "[3] \"batch4/ds_batch4/CLONES_TRBCHP_338-03-PBMC-DNA_2000000.txt\"\n"
     ]
    },
    {
     "name": "stderr",
     "output_type": "stream",
     "text": [
      "Total recovered clonotypes:\n"
     ]
    },
    {
     "name": "stdout",
     "output_type": "stream",
     "text": [
      "[1] 1012\n"
     ]
    },
    {
     "name": "stderr",
     "output_type": "stream",
     "text": [
      "Total out-of-frame clonotypes:\n"
     ]
    },
    {
     "name": "stdout",
     "output_type": "stream",
     "text": [
      "[1] 202\n"
     ]
    },
    {
     "name": "stderr",
     "output_type": "stream",
     "text": [
      "Total clonotypes with stop codon:\n"
     ]
    },
    {
     "name": "stdout",
     "output_type": "stream",
     "text": [
      "[1] 16\n"
     ]
    },
    {
     "name": "stderr",
     "output_type": "stream",
     "text": [
      "Total productive clonotypes:\n"
     ]
    },
    {
     "name": "stdout",
     "output_type": "stream",
     "text": [
      "[1] 794\n"
     ]
    },
    {
     "name": "stderr",
     "output_type": "stream",
     "text": [
      "Output contains all clonotypes\n",
      "list of samples to track clones: \n"
     ]
    },
    {
     "name": "stdout",
     "output_type": "stream",
     "text": [
      "[1] \"CHP_338-04-PBMC\" \"CHP_338-05-PBMC\" \"CHP_338-03-PBMC\"\n"
     ]
    },
    {
     "name": "stderr",
     "output_type": "stream",
     "text": [
      "Total number of recurring clonotypes: \n"
     ]
    },
    {
     "name": "stdout",
     "output_type": "stream",
     "text": [
      "[1] 1\n"
     ]
    },
    {
     "name": "stderr",
     "output_type": "stream",
     "text": [
      "these are what we color: \n"
     ]
    },
    {
     "name": "stdout",
     "output_type": "stream",
     "text": [
      "CASSFNTEAFF \n",
      "  \"#BEB3B2\" \n",
      "[1] \"340\"\n"
     ]
    },
    {
     "name": "stderr",
     "output_type": "stream",
     "text": [
      "duplicated sequences:\n"
     ]
    },
    {
     "name": "stdout",
     "output_type": "stream",
     "text": [
      " [1] \"CAISRTDNSPLHF\"       \"CASSKAGE_VALGALHF\"   \"CASSQEGPLGRSYNSPLHF\"\n",
      " [4] \"CASSGDVRGPKLGEQYF\"   \"CASSQTGSGRPGELFF\"    \"CASSGPGTGGSEQYF\"    \n",
      " [7] \"CASSEVLAVYEQYF\"      \"CASSPATSGREQYF\"      \"CASNRGLDYGYTF\"      \n",
      "[10] \"CAGL_EAFF\"          \n"
     ]
    },
    {
     "name": "stderr",
     "output_type": "stream",
     "text": [
      "my files:\n"
     ]
    },
    {
     "name": "stdout",
     "output_type": "stream",
     "text": [
      "[1] \"batch3/ds_batch3/CLONES_TRBCHP_340-05-PBMC-DNA_2000000.txt\"  \n",
      "[2] \"batch4/ds_batch4/CLONES_TRBCHP_340-03-PBMC-DNA_2000000.txt\"  \n",
      "[3] \"batch6a/ds_batch6a/CLONES_TRBCHP_340-04-PBMC-DNA_2000000.txt\"\n"
     ]
    },
    {
     "name": "stderr",
     "output_type": "stream",
     "text": [
      "Total recovered clonotypes:\n"
     ]
    },
    {
     "name": "stdout",
     "output_type": "stream",
     "text": [
      "[1] 869\n"
     ]
    },
    {
     "name": "stderr",
     "output_type": "stream",
     "text": [
      "Total out-of-frame clonotypes:\n"
     ]
    },
    {
     "name": "stdout",
     "output_type": "stream",
     "text": [
      "[1] 193\n"
     ]
    },
    {
     "name": "stderr",
     "output_type": "stream",
     "text": [
      "Total clonotypes with stop codon:\n"
     ]
    },
    {
     "name": "stdout",
     "output_type": "stream",
     "text": [
      "[1] 19\n"
     ]
    },
    {
     "name": "stderr",
     "output_type": "stream",
     "text": [
      "Total productive clonotypes:\n"
     ]
    },
    {
     "name": "stdout",
     "output_type": "stream",
     "text": [
      "[1] 657\n"
     ]
    },
    {
     "name": "stderr",
     "output_type": "stream",
     "text": [
      "Output contains all clonotypes\n",
      "list of samples to track clones: \n"
     ]
    },
    {
     "name": "stdout",
     "output_type": "stream",
     "text": [
      "[1] \"CHP_340-05-PBMC\" \"CHP_340-03-PBMC\" \"CHP_340-04-PBMC\"\n"
     ]
    },
    {
     "name": "stderr",
     "output_type": "stream",
     "text": [
      "Total number of recurring clonotypes: \n"
     ]
    },
    {
     "name": "stdout",
     "output_type": "stream",
     "text": [
      "[1] 0\n"
     ]
    },
    {
     "name": "stderr",
     "output_type": "stream",
     "text": [
      "these are what we color: \n"
     ]
    },
    {
     "name": "stdout",
     "output_type": "stream",
     "text": [
      "named character(0)\n",
      "[1] \"343\"\n"
     ]
    },
    {
     "name": "stderr",
     "output_type": "stream",
     "text": [
      "duplicated sequences:\n"
     ]
    },
    {
     "name": "stdout",
     "output_type": "stream",
     "text": [
      "character(0)\n"
     ]
    },
    {
     "name": "stderr",
     "output_type": "stream",
     "text": [
      "my files:\n"
     ]
    },
    {
     "name": "stdout",
     "output_type": "stream",
     "text": [
      "[1] \"batch2/ds_batch2/CLONES_TRBCHP_343-02-PBMC-DNA_2000000.txt\"\n",
      "[2] \"batch2/ds_batch2/CLONES_TRBCHP_343-03-PBMC-DNA_2000000.txt\"\n",
      "[3] \"batch2/ds_batch2/CLONES_TRBCHP_343-04-PBMC-DNA_2000000.txt\"\n",
      "[4] \"batch4/ds_batch4/CLONES_TRBCHP_343-05-PBMC-DNA_2000000.txt\"\n"
     ]
    },
    {
     "name": "stderr",
     "output_type": "stream",
     "text": [
      "Total recovered clonotypes:\n"
     ]
    },
    {
     "name": "stdout",
     "output_type": "stream",
     "text": [
      "[1] 119\n"
     ]
    },
    {
     "name": "stderr",
     "output_type": "stream",
     "text": [
      "Total out-of-frame clonotypes:\n"
     ]
    },
    {
     "name": "stdout",
     "output_type": "stream",
     "text": [
      "[1] 21\n"
     ]
    },
    {
     "name": "stderr",
     "output_type": "stream",
     "text": [
      "Total clonotypes with stop codon:\n"
     ]
    },
    {
     "name": "stdout",
     "output_type": "stream",
     "text": [
      "[1] 1\n"
     ]
    },
    {
     "name": "stderr",
     "output_type": "stream",
     "text": [
      "Total productive clonotypes:\n"
     ]
    },
    {
     "name": "stdout",
     "output_type": "stream",
     "text": [
      "[1] 97\n"
     ]
    },
    {
     "name": "stderr",
     "output_type": "stream",
     "text": [
      "Output contains all clonotypes\n",
      "list of samples to track clones: \n"
     ]
    },
    {
     "name": "stdout",
     "output_type": "stream",
     "text": [
      "[1] \"CHP_343-02-PBMC\" \"CHP_343-03-PBMC\" \"CHP_343-04-PBMC\" \"CHP_343-05-PBMC\"\n"
     ]
    },
    {
     "name": "stderr",
     "output_type": "stream",
     "text": [
      "Total number of recurring clonotypes: \n"
     ]
    },
    {
     "name": "stdout",
     "output_type": "stream",
     "text": [
      "[1] 0\n"
     ]
    },
    {
     "name": "stderr",
     "output_type": "stream",
     "text": [
      "these are what we color: \n"
     ]
    },
    {
     "name": "stdout",
     "output_type": "stream",
     "text": [
      "named character(0)\n",
      "[1] \"344\"\n"
     ]
    },
    {
     "name": "stderr",
     "output_type": "stream",
     "text": [
      "duplicated sequences:\n"
     ]
    },
    {
     "name": "stdout",
     "output_type": "stream",
     "text": [
      "[1] \"CASSQDKCSGGVLTDTQYF\" \"CASSVSPRLAGTSQFF\"    \"CASSLVPYEQYF\"       \n"
     ]
    },
    {
     "name": "stderr",
     "output_type": "stream",
     "text": [
      "my files:\n"
     ]
    },
    {
     "name": "stdout",
     "output_type": "stream",
     "text": [
      "[1] \"batch4/ds_batch4/CLONES_TRBCHP_344-05-PBMC-DNA_2000000.txt\"\n",
      "[2] \"batch7/ds_batch7/CLONES_TRBCHP_344-02-PBMC-DNA_2000000.txt\"\n",
      "[3] \"batch7/ds_batch7/CLONES_TRBCHP_344-03-PBMC-DNA_2000000.txt\"\n",
      "[4] \"batch8/ds_batch8/CLONES_TRBCHP_344-04-PBMC-DNA_2000000.txt\"\n"
     ]
    },
    {
     "name": "stderr",
     "output_type": "stream",
     "text": [
      "Total recovered clonotypes:\n"
     ]
    },
    {
     "name": "stdout",
     "output_type": "stream",
     "text": [
      "[1] 244\n"
     ]
    },
    {
     "name": "stderr",
     "output_type": "stream",
     "text": [
      "Total out-of-frame clonotypes:\n"
     ]
    },
    {
     "name": "stdout",
     "output_type": "stream",
     "text": [
      "[1] 32\n"
     ]
    },
    {
     "name": "stderr",
     "output_type": "stream",
     "text": [
      "Total clonotypes with stop codon:\n"
     ]
    },
    {
     "name": "stdout",
     "output_type": "stream",
     "text": [
      "[1] 5\n"
     ]
    },
    {
     "name": "stderr",
     "output_type": "stream",
     "text": [
      "Total productive clonotypes:\n"
     ]
    },
    {
     "name": "stdout",
     "output_type": "stream",
     "text": [
      "[1] 207\n"
     ]
    },
    {
     "name": "stderr",
     "output_type": "stream",
     "text": [
      "Output contains all clonotypes\n",
      "list of samples to track clones: \n"
     ]
    },
    {
     "name": "stdout",
     "output_type": "stream",
     "text": [
      "[1] \"CHP_344-05-PBMC\" \"CHP_344-02-PBMC\" \"CHP_344-03-PBMC\" \"CHP_344-04-PBMC\"\n"
     ]
    },
    {
     "name": "stderr",
     "output_type": "stream",
     "text": [
      "Total number of recurring clonotypes: \n"
     ]
    },
    {
     "name": "stdout",
     "output_type": "stream",
     "text": [
      "[1] 0\n"
     ]
    },
    {
     "name": "stderr",
     "output_type": "stream",
     "text": [
      "these are what we color: \n"
     ]
    },
    {
     "name": "stdout",
     "output_type": "stream",
     "text": [
      "named character(0)\n",
      "[1] \"345\"\n"
     ]
    },
    {
     "name": "stderr",
     "output_type": "stream",
     "text": [
      "duplicated sequences:\n"
     ]
    },
    {
     "name": "stdout",
     "output_type": "stream",
     "text": [
      "[1] \"CASSPGQGALYSNQPQHF\" \"CASSPGQGALYSNQPQHF\"\n"
     ]
    },
    {
     "name": "stderr",
     "output_type": "stream",
     "text": [
      "my files:\n"
     ]
    },
    {
     "name": "stdout",
     "output_type": "stream",
     "text": [
      "[1] \"batch3/ds_batch3/CLONES_TRBCHP_345-04-PBMC-DNA_2000000.txt\"\n",
      "[2] \"batch3/ds_batch3/CLONES_TRBCHP_345-05-PBMC-DNA_2000000.txt\"\n",
      "[3] \"batch4/ds_batch4/CLONES_TRBCHP_345-02-PBMC-DNA_2000000.txt\"\n",
      "[4] \"batch7/ds_batch7/CLONES_TRBCHP_345-03-PBMC-DNA_2000000.txt\"\n"
     ]
    },
    {
     "name": "stderr",
     "output_type": "stream",
     "text": [
      "Total recovered clonotypes:\n"
     ]
    },
    {
     "name": "stdout",
     "output_type": "stream",
     "text": [
      "[1] 717\n"
     ]
    },
    {
     "name": "stderr",
     "output_type": "stream",
     "text": [
      "Total out-of-frame clonotypes:\n"
     ]
    },
    {
     "name": "stdout",
     "output_type": "stream",
     "text": [
      "[1] 179\n"
     ]
    },
    {
     "name": "stderr",
     "output_type": "stream",
     "text": [
      "Total clonotypes with stop codon:\n"
     ]
    },
    {
     "name": "stdout",
     "output_type": "stream",
     "text": [
      "[1] 11\n"
     ]
    },
    {
     "name": "stderr",
     "output_type": "stream",
     "text": [
      "Total productive clonotypes:\n"
     ]
    },
    {
     "name": "stdout",
     "output_type": "stream",
     "text": [
      "[1] 527\n"
     ]
    },
    {
     "name": "stderr",
     "output_type": "stream",
     "text": [
      "Output contains all clonotypes\n",
      "list of samples to track clones: \n"
     ]
    },
    {
     "name": "stdout",
     "output_type": "stream",
     "text": [
      "[1] \"CHP_345-04-PBMC\" \"CHP_345-05-PBMC\" \"CHP_345-02-PBMC\" \"CHP_345-03-PBMC\"\n"
     ]
    },
    {
     "name": "stderr",
     "output_type": "stream",
     "text": [
      "Total number of recurring clonotypes: \n"
     ]
    },
    {
     "name": "stdout",
     "output_type": "stream",
     "text": [
      "[1] 14\n"
     ]
    },
    {
     "name": "stderr",
     "output_type": "stream",
     "text": [
      "these are what we color: \n"
     ]
    },
    {
     "name": "stdout",
     "output_type": "stream",
     "text": [
      "                                                                CASSPDGPRGTQYF \n",
      "                                                                     \"#D9D298\" \n",
      "                                                                  CASTYNDNEQFF \n",
      "                                                                     \"#80E8D7\" \n",
      "                                                               CAISESGGSHNEQFF \n",
      "                                                                     \"#797CD8\" \n",
      "                                                               CASSPDRGGRDGYTF \n",
      "                                                                     \"#DFD553\" \n",
      "                                                               CASSQGLAGSYEQYF \n",
      "                                                                     \"#7EB6D8\" \n",
      "                                                             CASSHISDLPNPYEQYF \n",
      "                                                                     \"#D2B0E1\" \n",
      "                                                                 CASSFF_*GGYTF \n",
      "                                                                     \"#E07648\" \n",
      "                                                                 CASSFRGYNEQFF \n",
      "                                                                     \"#7AAB8A\" \n",
      "                                                                CASSPLSQNTEAFF \n",
      "                                                                     \"#8CE548\" \n",
      "                                                              CASTATKT_AIYEQYF \n",
      "                                                                     \"#A647E2\" \n",
      "                                                           CASTLWVRD_ATAGYGYTF \n",
      "                                                                     \"#DAD6D5\" \n",
      "                                                             CSAKMGRD_KILYEQYF \n",
      "                                                                     \"#93E38A\" \n",
      "                                                               CASSSPRVGGNTQYF \n",
      "                                                                     \"#DF68C5\" \n",
      "CASTYNDNEQFFGPGTRLTVLGKKGAPGGREGEQPSLHD_PEPCS*GSGHWAIQGPPRGKRGLRQGPQGCANTGELFF \n",
      "                                                                     \"#BF7D8A\" \n",
      "[1] \"347\"\n"
     ]
    },
    {
     "name": "stderr",
     "output_type": "stream",
     "text": [
      "duplicated sequences:\n"
     ]
    },
    {
     "name": "stdout",
     "output_type": "stream",
     "text": [
      "character(0)\n"
     ]
    },
    {
     "name": "stderr",
     "output_type": "stream",
     "text": [
      "my files:\n"
     ]
    },
    {
     "name": "stdout",
     "output_type": "stream",
     "text": [
      "[1] \"batch4/ds_batch4/CLONES_TRBCHP_347-01-PBMC-DNA_2000000.txt\"  \n",
      "[2] \"batch4/ds_batch4/CLONES_TRBCHP_347-02-PBMC-DNA_2000000.txt\"  \n",
      "[3] \"batch6a/ds_batch6a/CLONES_TRBCHP_347-04-PBMC-DNA_2000000.txt\"\n",
      "[4] \"batch7/ds_batch7/CLONES_TRBCHP_347-03-PBMC-DNA_2000000.txt\"  \n",
      "[5] \"batch8/ds_batch8/CLONES_TRBCHP_347-05-PBMC-DNA_2000000.txt\"  \n"
     ]
    },
    {
     "name": "stderr",
     "output_type": "stream",
     "text": [
      "Total recovered clonotypes:\n"
     ]
    },
    {
     "name": "stdout",
     "output_type": "stream",
     "text": [
      "[1] 863\n"
     ]
    },
    {
     "name": "stderr",
     "output_type": "stream",
     "text": [
      "Total out-of-frame clonotypes:\n"
     ]
    },
    {
     "name": "stdout",
     "output_type": "stream",
     "text": [
      "[1] 155\n"
     ]
    },
    {
     "name": "stderr",
     "output_type": "stream",
     "text": [
      "Total clonotypes with stop codon:\n"
     ]
    },
    {
     "name": "stdout",
     "output_type": "stream",
     "text": [
      "[1] 13\n"
     ]
    },
    {
     "name": "stderr",
     "output_type": "stream",
     "text": [
      "Total productive clonotypes:\n"
     ]
    },
    {
     "name": "stdout",
     "output_type": "stream",
     "text": [
      "[1] 695\n"
     ]
    },
    {
     "name": "stderr",
     "output_type": "stream",
     "text": [
      "Output contains all clonotypes\n",
      "list of samples to track clones: \n"
     ]
    },
    {
     "name": "stdout",
     "output_type": "stream",
     "text": [
      "[1] \"CHP_347-01-PBMC\" \"CHP_347-02-PBMC\" \"CHP_347-04-PBMC\" \"CHP_347-03-PBMC\"\n",
      "[5] \"CHP_347-05-PBMC\"\n"
     ]
    },
    {
     "name": "stderr",
     "output_type": "stream",
     "text": [
      "Total number of recurring clonotypes: \n"
     ]
    },
    {
     "name": "stdout",
     "output_type": "stream",
     "text": [
      "[1] 2\n"
     ]
    },
    {
     "name": "stderr",
     "output_type": "stream",
     "text": [
      "these are what we color: \n"
     ]
    },
    {
     "name": "stdout",
     "output_type": "stream",
     "text": [
      "CASNFAGGMSTGELFF    CSARTGGVYEQYF \n",
      "       \"#BF8ACA\"        \"#B7D39D\" \n",
      "[1] \"348\"\n"
     ]
    },
    {
     "name": "stderr",
     "output_type": "stream",
     "text": [
      "duplicated sequences:\n"
     ]
    },
    {
     "name": "stdout",
     "output_type": "stream",
     "text": [
      "[1] \"CAWDREREQYF\"\n"
     ]
    },
    {
     "name": "stderr",
     "output_type": "stream",
     "text": [
      "my files:\n"
     ]
    },
    {
     "name": "stdout",
     "output_type": "stream",
     "text": [
      "[1] \"batch1/ds_batch1/CLONES_TRBCHP_348-03-PBMC-DNA_2000000.txt\"\n",
      "[2] \"batch1/ds_batch1/CLONES_TRBCHP_348-04-PBMC-DNA_2000000.txt\"\n",
      "[3] \"batch2/ds_batch2/CLONES_TRBCHP_348-01-PBMC-DNA_2000000.txt\"\n",
      "[4] \"batch2/ds_batch2/CLONES_TRBCHP_348-02-PBMC-DNA_2000000.txt\"\n"
     ]
    },
    {
     "name": "stderr",
     "output_type": "stream",
     "text": [
      "Total recovered clonotypes:\n"
     ]
    },
    {
     "name": "stdout",
     "output_type": "stream",
     "text": [
      "[1] 313\n"
     ]
    },
    {
     "name": "stderr",
     "output_type": "stream",
     "text": [
      "Total out-of-frame clonotypes:\n"
     ]
    },
    {
     "name": "stdout",
     "output_type": "stream",
     "text": [
      "[1] 56\n"
     ]
    },
    {
     "name": "stderr",
     "output_type": "stream",
     "text": [
      "Total clonotypes with stop codon:\n"
     ]
    },
    {
     "name": "stdout",
     "output_type": "stream",
     "text": [
      "[1] 7\n"
     ]
    },
    {
     "name": "stderr",
     "output_type": "stream",
     "text": [
      "Total productive clonotypes:\n"
     ]
    },
    {
     "name": "stdout",
     "output_type": "stream",
     "text": [
      "[1] 250\n"
     ]
    },
    {
     "name": "stderr",
     "output_type": "stream",
     "text": [
      "Output contains all clonotypes\n",
      "list of samples to track clones: \n"
     ]
    },
    {
     "name": "stdout",
     "output_type": "stream",
     "text": [
      "[1] \"CHP_348-03-PBMC\" \"CHP_348-04-PBMC\" \"CHP_348-01-PBMC\" \"CHP_348-02-PBMC\"\n"
     ]
    },
    {
     "name": "stderr",
     "output_type": "stream",
     "text": [
      "Total number of recurring clonotypes: \n"
     ]
    },
    {
     "name": "stdout",
     "output_type": "stream",
     "text": [
      "[1] 1\n"
     ]
    },
    {
     "name": "stderr",
     "output_type": "stream",
     "text": [
      "these are what we color: \n"
     ]
    },
    {
     "name": "stdout",
     "output_type": "stream",
     "text": [
      "CASRPIAGGGADTQYF \n",
      "       \"#BEB3B2\" \n",
      "[1] \"350\"\n"
     ]
    },
    {
     "name": "stderr",
     "output_type": "stream",
     "text": [
      "duplicated sequences:\n"
     ]
    },
    {
     "name": "stdout",
     "output_type": "stream",
     "text": [
      "[1] \"CASSHRQGE_SGANVLTF\"\n"
     ]
    },
    {
     "name": "stderr",
     "output_type": "stream",
     "text": [
      "my files:\n"
     ]
    },
    {
     "name": "stdout",
     "output_type": "stream",
     "text": [
      "[1] \"batch_reseq/ds_batch_reseq/CLONES_TRBCHP_350-01-PBMC-DNA_2000000.txt\"\n",
      "[2] \"batch_reseq/ds_batch_reseq/CLONES_TRBCHP_350-02-PBMC-DNA_2000000.txt\"\n",
      "[3] \"batch_reseq/ds_batch_reseq/CLONES_TRBCHP_350-03-PBMC-DNA_2000000.txt\"\n",
      "[4] \"batch_reseq/ds_batch_reseq/CLONES_TRBCHP_350-04-PBMC-DNA_2000000.txt\"\n",
      "[5] \"batch3/ds_batch3/CLONES_TRBCHP_350-05-PBMC-DNA_2000000.txt\"          \n"
     ]
    },
    {
     "name": "stderr",
     "output_type": "stream",
     "text": [
      "Total recovered clonotypes:\n"
     ]
    },
    {
     "name": "stdout",
     "output_type": "stream",
     "text": [
      "[1] 889\n"
     ]
    },
    {
     "name": "stderr",
     "output_type": "stream",
     "text": [
      "Total out-of-frame clonotypes:\n"
     ]
    },
    {
     "name": "stdout",
     "output_type": "stream",
     "text": [
      "[1] 181\n"
     ]
    },
    {
     "name": "stderr",
     "output_type": "stream",
     "text": [
      "Total clonotypes with stop codon:\n"
     ]
    },
    {
     "name": "stdout",
     "output_type": "stream",
     "text": [
      "[1] 16\n"
     ]
    },
    {
     "name": "stderr",
     "output_type": "stream",
     "text": [
      "Total productive clonotypes:\n"
     ]
    },
    {
     "name": "stdout",
     "output_type": "stream",
     "text": [
      "[1] 692\n"
     ]
    },
    {
     "name": "stderr",
     "output_type": "stream",
     "text": [
      "Output contains all clonotypes\n",
      "list of samples to track clones: \n"
     ]
    },
    {
     "name": "stdout",
     "output_type": "stream",
     "text": [
      "[1] \"CHP_350-01-PBMC\" \"CHP_350-02-PBMC\" \"CHP_350-03-PBMC\" \"CHP_350-04-PBMC\"\n",
      "[5] \"CHP_350-05-PBMC\"\n"
     ]
    },
    {
     "name": "stderr",
     "output_type": "stream",
     "text": [
      "Total number of recurring clonotypes: \n"
     ]
    },
    {
     "name": "stdout",
     "output_type": "stream",
     "text": [
      "[1] 1\n"
     ]
    },
    {
     "name": "stderr",
     "output_type": "stream",
     "text": [
      "these are what we color: \n"
     ]
    },
    {
     "name": "stdout",
     "output_type": "stream",
     "text": [
      "CASSLGGPYEQYF \n",
      "    \"#BEB3B2\" \n",
      "[1] \"353\"\n"
     ]
    },
    {
     "name": "stderr",
     "output_type": "stream",
     "text": [
      "duplicated sequences:\n"
     ]
    },
    {
     "name": "stdout",
     "output_type": "stream",
     "text": [
      "[1] \"CASSEAGAGELFF\"\n"
     ]
    },
    {
     "name": "stderr",
     "output_type": "stream",
     "text": [
      "my files:\n"
     ]
    },
    {
     "name": "stdout",
     "output_type": "stream",
     "text": [
      "[1] \"batch_reseq/ds_batch_reseq/CLONES_TRBCHP_353-02-PBMC-DNA_2000000.txt\"\n",
      "[2] \"batch7/ds_batch7/CLONES_TRBCHP_353-01-PBMC-DNA_2000000.txt\"          \n",
      "[3] \"batch7/ds_batch7/CLONES_TRBCHP_353-03-PBMC-DNA_2000000.txt\"          \n",
      "[4] \"batch7/ds_batch7/CLONES_TRBCHP_353-05-PBMC-DNA_2000000.txt\"          \n"
     ]
    },
    {
     "name": "stderr",
     "output_type": "stream",
     "text": [
      "Total recovered clonotypes:\n"
     ]
    },
    {
     "name": "stdout",
     "output_type": "stream",
     "text": [
      "[1] 864\n"
     ]
    },
    {
     "name": "stderr",
     "output_type": "stream",
     "text": [
      "Total out-of-frame clonotypes:\n"
     ]
    },
    {
     "name": "stdout",
     "output_type": "stream",
     "text": [
      "[1] 148\n"
     ]
    },
    {
     "name": "stderr",
     "output_type": "stream",
     "text": [
      "Total clonotypes with stop codon:\n"
     ]
    },
    {
     "name": "stdout",
     "output_type": "stream",
     "text": [
      "[1] 15\n"
     ]
    },
    {
     "name": "stderr",
     "output_type": "stream",
     "text": [
      "Total productive clonotypes:\n"
     ]
    },
    {
     "name": "stdout",
     "output_type": "stream",
     "text": [
      "[1] 701\n"
     ]
    },
    {
     "name": "stderr",
     "output_type": "stream",
     "text": [
      "Output contains all clonotypes\n",
      "list of samples to track clones: \n"
     ]
    },
    {
     "name": "stdout",
     "output_type": "stream",
     "text": [
      "[1] \"CHP_353-02-PBMC\" \"CHP_353-01-PBMC\" \"CHP_353-03-PBMC\" \"CHP_353-05-PBMC\"\n"
     ]
    },
    {
     "name": "stderr",
     "output_type": "stream",
     "text": [
      "Total number of recurring clonotypes: \n"
     ]
    },
    {
     "name": "stdout",
     "output_type": "stream",
     "text": [
      "[1] 0\n"
     ]
    },
    {
     "name": "stderr",
     "output_type": "stream",
     "text": [
      "these are what we color: \n"
     ]
    },
    {
     "name": "stdout",
     "output_type": "stream",
     "text": [
      "named character(0)\n",
      "[1] \"356\"\n"
     ]
    },
    {
     "name": "stderr",
     "output_type": "stream",
     "text": [
      "duplicated sequences:\n"
     ]
    },
    {
     "name": "stdout",
     "output_type": "stream",
     "text": [
      "character(0)\n"
     ]
    },
    {
     "name": "stderr",
     "output_type": "stream",
     "text": [
      "my files:\n"
     ]
    },
    {
     "name": "stdout",
     "output_type": "stream",
     "text": [
      "[1] \"batch_reseq/ds_batch_reseq/CLONES_TRBCHP_356-03-PBMC-DNA_2000000.txt\"\n",
      "[2] \"batch1/ds_batch1/CLONES_TRBCHP_356-05-PBMC-DNA_2000000.txt\"          \n",
      "[3] \"batch8/ds_batch8/CLONES_TRBCHP_356-02-PBMC-DNA_2000000.txt\"          \n"
     ]
    },
    {
     "name": "stderr",
     "output_type": "stream",
     "text": [
      "Total recovered clonotypes:\n"
     ]
    },
    {
     "name": "stdout",
     "output_type": "stream",
     "text": [
      "[1] 111\n"
     ]
    },
    {
     "name": "stderr",
     "output_type": "stream",
     "text": [
      "Total out-of-frame clonotypes:\n"
     ]
    },
    {
     "name": "stdout",
     "output_type": "stream",
     "text": [
      "[1] 19\n"
     ]
    },
    {
     "name": "stderr",
     "output_type": "stream",
     "text": [
      "Total clonotypes with stop codon:\n"
     ]
    },
    {
     "name": "stdout",
     "output_type": "stream",
     "text": [
      "[1] 3\n"
     ]
    },
    {
     "name": "stderr",
     "output_type": "stream",
     "text": [
      "Total productive clonotypes:\n"
     ]
    },
    {
     "name": "stdout",
     "output_type": "stream",
     "text": [
      "[1] 89\n"
     ]
    },
    {
     "name": "stderr",
     "output_type": "stream",
     "text": [
      "Output contains all clonotypes\n",
      "list of samples to track clones: \n"
     ]
    },
    {
     "name": "stdout",
     "output_type": "stream",
     "text": [
      "[1] \"CHP_356-03-PBMC\" \"CHP_356-05-PBMC\" \"CHP_356-02-PBMC\"\n"
     ]
    },
    {
     "name": "stderr",
     "output_type": "stream",
     "text": [
      "Total number of recurring clonotypes: \n"
     ]
    },
    {
     "name": "stdout",
     "output_type": "stream",
     "text": [
      "[1] 0\n"
     ]
    },
    {
     "name": "stderr",
     "output_type": "stream",
     "text": [
      "these are what we color: \n"
     ]
    },
    {
     "name": "stdout",
     "output_type": "stream",
     "text": [
      "named character(0)\n",
      "[1] \"357\"\n"
     ]
    },
    {
     "name": "stderr",
     "output_type": "stream",
     "text": [
      "duplicated sequences:\n"
     ]
    },
    {
     "name": "stdout",
     "output_type": "stream",
     "text": [
      "[1] \"CASSHLTVGGGYEQYF\" \"CASSARQ_QGSPLHF\"  \"CSPSQTSGDNEQFF\"  \n"
     ]
    },
    {
     "name": "stderr",
     "output_type": "stream",
     "text": [
      "my files:\n"
     ]
    },
    {
     "name": "stdout",
     "output_type": "stream",
     "text": [
      "[1] \"batch4/ds_batch4/CLONES_TRBCHP_357-01-PBMC-DNA_2000000.txt\"  \n",
      "[2] \"batch6a/ds_batch6a/CLONES_TRBCHP_357-03-PBMC-DNA_2000000.txt\"\n",
      "[3] \"batch7/ds_batch7/CLONES_TRBCHP_357-04-PBMC-DNA_2000000.txt\"  \n",
      "[4] \"batch8/ds_batch8/CLONES_TRBCHP_357-02-PBMC-DNA_2000000.txt\"  \n"
     ]
    },
    {
     "name": "stderr",
     "output_type": "stream",
     "text": [
      "Total recovered clonotypes:\n"
     ]
    },
    {
     "name": "stdout",
     "output_type": "stream",
     "text": [
      "[1] 1042\n"
     ]
    },
    {
     "name": "stderr",
     "output_type": "stream",
     "text": [
      "Total out-of-frame clonotypes:\n"
     ]
    },
    {
     "name": "stdout",
     "output_type": "stream",
     "text": [
      "[1] 270\n"
     ]
    },
    {
     "name": "stderr",
     "output_type": "stream",
     "text": [
      "Total clonotypes with stop codon:\n"
     ]
    },
    {
     "name": "stdout",
     "output_type": "stream",
     "text": [
      "[1] 31\n"
     ]
    },
    {
     "name": "stderr",
     "output_type": "stream",
     "text": [
      "Total productive clonotypes:\n"
     ]
    },
    {
     "name": "stdout",
     "output_type": "stream",
     "text": [
      "[1] 741\n"
     ]
    },
    {
     "name": "stderr",
     "output_type": "stream",
     "text": [
      "Output contains all clonotypes\n",
      "list of samples to track clones: \n"
     ]
    },
    {
     "name": "stdout",
     "output_type": "stream",
     "text": [
      "[1] \"CHP_357-01-PBMC\" \"CHP_357-03-PBMC\" \"CHP_357-04-PBMC\" \"CHP_357-02-PBMC\"\n"
     ]
    },
    {
     "name": "stderr",
     "output_type": "stream",
     "text": [
      "Total number of recurring clonotypes: \n"
     ]
    },
    {
     "name": "stdout",
     "output_type": "stream",
     "text": [
      "[1] 3\n"
     ]
    },
    {
     "name": "stderr",
     "output_type": "stream",
     "text": [
      "these are what we color: \n"
     ]
    },
    {
     "name": "stdout",
     "output_type": "stream",
     "text": [
      "                  CASRLGWIV_TGGHEQYF                      CASRKLDREGNTIYF \n",
      "                           \"#B9D77A\"                            \"#BD70C8\" \n",
      "CASSESTVLHSCLLSMPS_CDFHLDPCHCVNTEAFF \n",
      "                           \"#B7C2C8\" \n",
      "[1] \"358\"\n"
     ]
    },
    {
     "name": "stderr",
     "output_type": "stream",
     "text": [
      "duplicated sequences:\n"
     ]
    },
    {
     "name": "stdout",
     "output_type": "stream",
     "text": [
      "character(0)\n"
     ]
    },
    {
     "name": "stderr",
     "output_type": "stream",
     "text": [
      "my files:\n"
     ]
    },
    {
     "name": "stdout",
     "output_type": "stream",
     "text": [
      "[1] \"batch_reseq/ds_batch_reseq/CLONES_TRBCHP_358-02-PBMC-DNA_2000000.txt\"\n",
      "[2] \"batch1/ds_batch1/CLONES_TRBCHP_358-01-PBMC-DNA_2000000.txt\"          \n",
      "[3] \"batch3/ds_batch3/CLONES_TRBCHP_358-03-PBMC-DNA_2000000.txt\"          \n",
      "[4] \"batch3/ds_batch3/CLONES_TRBCHP_358-05-PBMC-DNA_2000000.txt\"          \n"
     ]
    },
    {
     "name": "stderr",
     "output_type": "stream",
     "text": [
      "Total recovered clonotypes:\n"
     ]
    },
    {
     "name": "stdout",
     "output_type": "stream",
     "text": [
      "[1] 1501\n"
     ]
    },
    {
     "name": "stderr",
     "output_type": "stream",
     "text": [
      "Total out-of-frame clonotypes:\n"
     ]
    },
    {
     "name": "stdout",
     "output_type": "stream",
     "text": [
      "[1] 288\n"
     ]
    },
    {
     "name": "stderr",
     "output_type": "stream",
     "text": [
      "Total clonotypes with stop codon:\n"
     ]
    },
    {
     "name": "stdout",
     "output_type": "stream",
     "text": [
      "[1] 23\n"
     ]
    },
    {
     "name": "stderr",
     "output_type": "stream",
     "text": [
      "Total productive clonotypes:\n"
     ]
    },
    {
     "name": "stdout",
     "output_type": "stream",
     "text": [
      "[1] 1190\n"
     ]
    },
    {
     "name": "stderr",
     "output_type": "stream",
     "text": [
      "Output contains all clonotypes\n",
      "list of samples to track clones: \n"
     ]
    },
    {
     "name": "stdout",
     "output_type": "stream",
     "text": [
      "[1] \"CHP_358-02-PBMC\" \"CHP_358-01-PBMC\" \"CHP_358-03-PBMC\" \"CHP_358-05-PBMC\"\n"
     ]
    },
    {
     "name": "stderr",
     "output_type": "stream",
     "text": [
      "Total number of recurring clonotypes: \n"
     ]
    },
    {
     "name": "stdout",
     "output_type": "stream",
     "text": [
      "[1] 1\n"
     ]
    },
    {
     "name": "stderr",
     "output_type": "stream",
     "text": [
      "these are what we color: \n"
     ]
    },
    {
     "name": "stdout",
     "output_type": "stream",
     "text": [
      "CASSHSSYNSPLHF \n",
      "     \"#BEB3B2\" \n",
      "[1] \"359\"\n"
     ]
    },
    {
     "name": "stderr",
     "output_type": "stream",
     "text": [
      "duplicated sequences:\n"
     ]
    },
    {
     "name": "stdout",
     "output_type": "stream",
     "text": [
      "[1] \"CASSQEAGGAEAFF\"\n"
     ]
    },
    {
     "name": "stderr",
     "output_type": "stream",
     "text": [
      "my files:\n"
     ]
    },
    {
     "name": "stdout",
     "output_type": "stream",
     "text": [
      "[1] \"batch6a/ds_batch6a/CLONES_TRBCHP_359-02-PBMC-DNA_2000000.txt\"\n",
      "[2] \"batch6a/ds_batch6a/CLONES_TRBCHP_359-04-PBMC-DNA_2000000.txt\"\n",
      "[3] \"batch7/ds_batch7/CLONES_TRBCHP_359-01-PBMC-DNA_2000000.txt\"  \n"
     ]
    },
    {
     "name": "stderr",
     "output_type": "stream",
     "text": [
      "Total recovered clonotypes:\n"
     ]
    },
    {
     "name": "stdout",
     "output_type": "stream",
     "text": [
      "[1] 828\n"
     ]
    },
    {
     "name": "stderr",
     "output_type": "stream",
     "text": [
      "Total out-of-frame clonotypes:\n"
     ]
    },
    {
     "name": "stdout",
     "output_type": "stream",
     "text": [
      "[1] 143\n"
     ]
    },
    {
     "name": "stderr",
     "output_type": "stream",
     "text": [
      "Total clonotypes with stop codon:\n"
     ]
    },
    {
     "name": "stdout",
     "output_type": "stream",
     "text": [
      "[1] 12\n"
     ]
    },
    {
     "name": "stderr",
     "output_type": "stream",
     "text": [
      "Total productive clonotypes:\n"
     ]
    },
    {
     "name": "stdout",
     "output_type": "stream",
     "text": [
      "[1] 673\n"
     ]
    },
    {
     "name": "stderr",
     "output_type": "stream",
     "text": [
      "Output contains all clonotypes\n",
      "list of samples to track clones: \n"
     ]
    },
    {
     "name": "stdout",
     "output_type": "stream",
     "text": [
      "[1] \"CHP_359-02-PBMC\" \"CHP_359-04-PBMC\" \"CHP_359-01-PBMC\"\n"
     ]
    },
    {
     "name": "stderr",
     "output_type": "stream",
     "text": [
      "Total number of recurring clonotypes: \n"
     ]
    },
    {
     "name": "stdout",
     "output_type": "stream",
     "text": [
      "[1] 1\n"
     ]
    },
    {
     "name": "stderr",
     "output_type": "stream",
     "text": [
      "these are what we color: \n"
     ]
    },
    {
     "name": "stdout",
     "output_type": "stream",
     "text": [
      "CASSEAGGNQPQHF \n",
      "     \"#BEB3B2\" \n",
      "[1] \"360\"\n"
     ]
    },
    {
     "name": "stderr",
     "output_type": "stream",
     "text": [
      "duplicated sequences:\n"
     ]
    },
    {
     "name": "stdout",
     "output_type": "stream",
     "text": [
      "[1] \"CASSDYRTS_EGPEAKYF\" \"CASSFSGQGGYEQYF\"   \n"
     ]
    },
    {
     "name": "stderr",
     "output_type": "stream",
     "text": [
      "my files:\n"
     ]
    },
    {
     "name": "stdout",
     "output_type": "stream",
     "text": [
      "[1] \"batch3/ds_batch3/CLONES_TRBCHP_360-03-PBMC-DNA_2000000.txt\"\n",
      "[2] \"batch7/ds_batch7/CLONES_TRBCHP_360-02-PBMC-DNA_2000000.txt\"\n",
      "[3] \"batch8/ds_batch8/CLONES_TRBCHP_360-05-PBMC-DNA_2000000.txt\"\n"
     ]
    },
    {
     "name": "stderr",
     "output_type": "stream",
     "text": [
      "Total recovered clonotypes:\n"
     ]
    },
    {
     "name": "stdout",
     "output_type": "stream",
     "text": [
      "[1] 795\n"
     ]
    },
    {
     "name": "stderr",
     "output_type": "stream",
     "text": [
      "Total out-of-frame clonotypes:\n"
     ]
    },
    {
     "name": "stdout",
     "output_type": "stream",
     "text": [
      "[1] 154\n"
     ]
    },
    {
     "name": "stderr",
     "output_type": "stream",
     "text": [
      "Total clonotypes with stop codon:\n"
     ]
    },
    {
     "name": "stdout",
     "output_type": "stream",
     "text": [
      "[1] 14\n"
     ]
    },
    {
     "name": "stderr",
     "output_type": "stream",
     "text": [
      "Total productive clonotypes:\n"
     ]
    },
    {
     "name": "stdout",
     "output_type": "stream",
     "text": [
      "[1] 627\n"
     ]
    },
    {
     "name": "stderr",
     "output_type": "stream",
     "text": [
      "Output contains all clonotypes\n",
      "list of samples to track clones: \n"
     ]
    },
    {
     "name": "stdout",
     "output_type": "stream",
     "text": [
      "[1] \"CHP_360-03-PBMC\" \"CHP_360-02-PBMC\" \"CHP_360-05-PBMC\"\n"
     ]
    },
    {
     "name": "stderr",
     "output_type": "stream",
     "text": [
      "Total number of recurring clonotypes: \n"
     ]
    },
    {
     "name": "stdout",
     "output_type": "stream",
     "text": [
      "[1] 4\n"
     ]
    },
    {
     "name": "stderr",
     "output_type": "stream",
     "text": [
      "these are what we color: \n"
     ]
    },
    {
     "name": "stdout",
     "output_type": "stream",
     "text": [
      "    CASSPLYEQYF CASSLGQGIVAEAFF   CAISESVHNEQFF CASSETSGSTDTQYF \n",
      "      \"#BBDB73\"       \"#B570D4\"       \"#D89FA5\"       \"#9CD1CF\" \n",
      "[1] \"361\"\n"
     ]
    },
    {
     "name": "stderr",
     "output_type": "stream",
     "text": [
      "duplicated sequences:\n"
     ]
    },
    {
     "name": "stdout",
     "output_type": "stream",
     "text": [
      "[1] \"CASSDKTANEKLFF\"    \"CASRPGGALISTDTQYF\" \"CASSFRLDSNEKLFF\"  \n"
     ]
    },
    {
     "name": "stderr",
     "output_type": "stream",
     "text": [
      "my files:\n"
     ]
    },
    {
     "name": "stdout",
     "output_type": "stream",
     "text": [
      "[1] \"batch3/ds_batch3/CLONES_TRBCHP_361-02-PBMC-DNA_2000000.txt\"\n",
      "[2] \"batch3/ds_batch3/CLONES_TRBCHP_361-03-PBMC-DNA_2000000.txt\"\n",
      "[3] \"batch4/ds_batch4/CLONES_TRBCHP_361-01-PBMC-DNA_2000000.txt\"\n",
      "[4] \"batch7/ds_batch7/CLONES_TRBCHP_361-04-PBMC-DNA_2000000.txt\"\n"
     ]
    },
    {
     "name": "stderr",
     "output_type": "stream",
     "text": [
      "Total recovered clonotypes:\n"
     ]
    },
    {
     "name": "stdout",
     "output_type": "stream",
     "text": [
      "[1] 333\n"
     ]
    },
    {
     "name": "stderr",
     "output_type": "stream",
     "text": [
      "Total out-of-frame clonotypes:\n"
     ]
    },
    {
     "name": "stdout",
     "output_type": "stream",
     "text": [
      "[1] 74\n"
     ]
    },
    {
     "name": "stderr",
     "output_type": "stream",
     "text": [
      "Total clonotypes with stop codon:\n"
     ]
    },
    {
     "name": "stdout",
     "output_type": "stream",
     "text": [
      "[1] 5\n"
     ]
    },
    {
     "name": "stderr",
     "output_type": "stream",
     "text": [
      "Total productive clonotypes:\n"
     ]
    },
    {
     "name": "stdout",
     "output_type": "stream",
     "text": [
      "[1] 254\n"
     ]
    },
    {
     "name": "stderr",
     "output_type": "stream",
     "text": [
      "Output contains all clonotypes\n",
      "list of samples to track clones: \n"
     ]
    },
    {
     "name": "stdout",
     "output_type": "stream",
     "text": [
      "[1] \"CHP_361-02-PBMC\" \"CHP_361-03-PBMC\" \"CHP_361-01-PBMC\" \"CHP_361-04-PBMC\"\n"
     ]
    },
    {
     "name": "stderr",
     "output_type": "stream",
     "text": [
      "Total number of recurring clonotypes: \n"
     ]
    },
    {
     "name": "stdout",
     "output_type": "stream",
     "text": [
      "[1] 0\n"
     ]
    },
    {
     "name": "stderr",
     "output_type": "stream",
     "text": [
      "these are what we color: \n"
     ]
    },
    {
     "name": "stdout",
     "output_type": "stream",
     "text": [
      "named character(0)\n",
      "[1] \"362\"\n"
     ]
    },
    {
     "name": "stderr",
     "output_type": "stream",
     "text": [
      "duplicated sequences:\n"
     ]
    },
    {
     "name": "stdout",
     "output_type": "stream",
     "text": [
      "[1] \"CASSQDLPGA_NTSNYGYTF\" \"CASETGGLMNTEAFF\"      \"CSARVIGAGNQPQHF\"     \n",
      "[4] \"CASSFPGQVEKLFF\"       \"CASGTSQPQHF\"         \n"
     ]
    },
    {
     "name": "stderr",
     "output_type": "stream",
     "text": [
      "my files:\n"
     ]
    },
    {
     "name": "stdout",
     "output_type": "stream",
     "text": [
      "[1] \"batch_reseq/ds_batch_reseq/CLONES_TRBCHP_362-02-PBMC-DNA_2000000.txt\"\n",
      "[2] \"batch7/ds_batch7/CLONES_TRBCHP_362-01-PBMC-DNA_2000000.txt\"          \n",
      "[3] \"batch7/ds_batch7/CLONES_TRBCHP_362-03-PBMC-DNA_2000000.txt\"          \n",
      "[4] \"batch7/ds_batch7/CLONES_TRBCHP_362-04-PBMC-DNA_2000000.txt\"          \n"
     ]
    },
    {
     "name": "stderr",
     "output_type": "stream",
     "text": [
      "Total recovered clonotypes:\n"
     ]
    },
    {
     "name": "stdout",
     "output_type": "stream",
     "text": [
      "[1] 691\n"
     ]
    },
    {
     "name": "stderr",
     "output_type": "stream",
     "text": [
      "Total out-of-frame clonotypes:\n"
     ]
    },
    {
     "name": "stdout",
     "output_type": "stream",
     "text": [
      "[1] 151\n"
     ]
    },
    {
     "name": "stderr",
     "output_type": "stream",
     "text": [
      "Total clonotypes with stop codon:\n"
     ]
    },
    {
     "name": "stdout",
     "output_type": "stream",
     "text": [
      "[1] 13\n"
     ]
    },
    {
     "name": "stderr",
     "output_type": "stream",
     "text": [
      "Total productive clonotypes:\n"
     ]
    },
    {
     "name": "stdout",
     "output_type": "stream",
     "text": [
      "[1] 527\n"
     ]
    },
    {
     "name": "stderr",
     "output_type": "stream",
     "text": [
      "Output contains all clonotypes\n",
      "list of samples to track clones: \n"
     ]
    },
    {
     "name": "stdout",
     "output_type": "stream",
     "text": [
      "[1] \"CHP_362-02-PBMC\" \"CHP_362-01-PBMC\" \"CHP_362-03-PBMC\" \"CHP_362-04-PBMC\"\n"
     ]
    },
    {
     "name": "stderr",
     "output_type": "stream",
     "text": [
      "Total number of recurring clonotypes: \n"
     ]
    },
    {
     "name": "stdout",
     "output_type": "stream",
     "text": [
      "[1] 3\n"
     ]
    },
    {
     "name": "stderr",
     "output_type": "stream",
     "text": [
      "these are what we color: \n"
     ]
    },
    {
     "name": "stdout",
     "output_type": "stream",
     "text": [
      " CASSLGLA_SSYNEQFF CASRQYRLGRGPNQPQHF    CSARDGQAGDTEAFF \n",
      "         \"#B6C2C8\"          \"#BD70C8\"          \"#BAD679\" \n",
      "[1] \"364\"\n"
     ]
    },
    {
     "name": "stderr",
     "output_type": "stream",
     "text": [
      "duplicated sequences:\n"
     ]
    },
    {
     "name": "stdout",
     "output_type": "stream",
     "text": [
      "character(0)\n"
     ]
    },
    {
     "name": "stderr",
     "output_type": "stream",
     "text": [
      "my files:\n"
     ]
    },
    {
     "name": "stdout",
     "output_type": "stream",
     "text": [
      "[1] \"batch4/ds_batch4/CLONES_TRBCHP_364-01-PBMC-DNA_2000000.txt\"\n",
      "[2] \"batch4/ds_batch4/CLONES_TRBCHP_364-02-PBMC-DNA_2000000.txt\"\n",
      "[3] \"batch4/ds_batch4/CLONES_TRBCHP_364-04-PBMC-DNA_2000000.txt\"\n"
     ]
    },
    {
     "name": "stderr",
     "output_type": "stream",
     "text": [
      "Total recovered clonotypes:\n"
     ]
    },
    {
     "name": "stdout",
     "output_type": "stream",
     "text": [
      "[1] 360\n"
     ]
    },
    {
     "name": "stderr",
     "output_type": "stream",
     "text": [
      "Total out-of-frame clonotypes:\n"
     ]
    },
    {
     "name": "stdout",
     "output_type": "stream",
     "text": [
      "[1] 72\n"
     ]
    },
    {
     "name": "stderr",
     "output_type": "stream",
     "text": [
      "Total clonotypes with stop codon:\n"
     ]
    },
    {
     "name": "stdout",
     "output_type": "stream",
     "text": [
      "[1] 8\n"
     ]
    },
    {
     "name": "stderr",
     "output_type": "stream",
     "text": [
      "Total productive clonotypes:\n"
     ]
    },
    {
     "name": "stdout",
     "output_type": "stream",
     "text": [
      "[1] 280\n"
     ]
    },
    {
     "name": "stderr",
     "output_type": "stream",
     "text": [
      "Output contains all clonotypes\n",
      "list of samples to track clones: \n"
     ]
    },
    {
     "name": "stdout",
     "output_type": "stream",
     "text": [
      "[1] \"CHP_364-01-PBMC\" \"CHP_364-02-PBMC\" \"CHP_364-04-PBMC\"\n"
     ]
    },
    {
     "name": "stderr",
     "output_type": "stream",
     "text": [
      "Total number of recurring clonotypes: \n"
     ]
    },
    {
     "name": "stdout",
     "output_type": "stream",
     "text": [
      "[1] 2\n"
     ]
    },
    {
     "name": "stderr",
     "output_type": "stream",
     "text": [
      "these are what we color: \n"
     ]
    },
    {
     "name": "stdout",
     "output_type": "stream",
     "text": [
      "CAISGPGTSGRAQDTQYF     CASSGLAGADTQYF \n",
      "         \"#B7D39D\"          \"#BF8ACA\" \n",
      "[1] \"368\"\n"
     ]
    },
    {
     "name": "stderr",
     "output_type": "stream",
     "text": [
      "duplicated sequences:\n"
     ]
    },
    {
     "name": "stdout",
     "output_type": "stream",
     "text": [
      "[1] \"CASSLQGMGGYTF\"   \"CASSAANTDTQYF\"   \"CASSERTALNTEAFF\" \"CASSLAPGNTEAFF\" \n",
      "[5] \"CSASGSL_TDTQYF\"  \"CASSPFHTDTQYF\"   \"CASSLTSDTQYF\"   \n"
     ]
    },
    {
     "name": "stderr",
     "output_type": "stream",
     "text": [
      "my files:\n"
     ]
    },
    {
     "name": "stdout",
     "output_type": "stream",
     "text": [
      "[1] \"batch3/ds_batch3/CLONES_TRBCHP_368-05-PBMC-DNA_2000000.txt\"\n",
      "[2] \"batch7/ds_batch7/CLONES_TRBCHP_368-01-PBMC-DNA_2000000.txt\"\n",
      "[3] \"batch7/ds_batch7/CLONES_TRBCHP_368-04-PBMC-DNA_2000000.txt\"\n"
     ]
    },
    {
     "name": "stderr",
     "output_type": "stream",
     "text": [
      "Total recovered clonotypes:\n"
     ]
    },
    {
     "name": "stdout",
     "output_type": "stream",
     "text": [
      "[1] 924\n"
     ]
    },
    {
     "name": "stderr",
     "output_type": "stream",
     "text": [
      "Total out-of-frame clonotypes:\n"
     ]
    },
    {
     "name": "stdout",
     "output_type": "stream",
     "text": [
      "[1] 238\n"
     ]
    },
    {
     "name": "stderr",
     "output_type": "stream",
     "text": [
      "Total clonotypes with stop codon:\n"
     ]
    },
    {
     "name": "stdout",
     "output_type": "stream",
     "text": [
      "[1] 20\n"
     ]
    },
    {
     "name": "stderr",
     "output_type": "stream",
     "text": [
      "Total productive clonotypes:\n"
     ]
    },
    {
     "name": "stdout",
     "output_type": "stream",
     "text": [
      "[1] 666\n"
     ]
    },
    {
     "name": "stderr",
     "output_type": "stream",
     "text": [
      "Output contains all clonotypes\n",
      "list of samples to track clones: \n"
     ]
    },
    {
     "name": "stdout",
     "output_type": "stream",
     "text": [
      "[1] \"CHP_368-05-PBMC\" \"CHP_368-01-PBMC\" \"CHP_368-04-PBMC\"\n"
     ]
    },
    {
     "name": "stderr",
     "output_type": "stream",
     "text": [
      "Total number of recurring clonotypes: \n"
     ]
    },
    {
     "name": "stdout",
     "output_type": "stream",
     "text": [
      "[1] 15\n"
     ]
    },
    {
     "name": "stderr",
     "output_type": "stream",
     "text": [
      "these are what we color: \n"
     ]
    },
    {
     "name": "stdout",
     "output_type": "stream",
     "text": [
      "                                              CASSQESSPIGTEAFF \n",
      "                                                     \"#DAB0E2\" \n",
      "                                               CASSGSGTVWETQYF \n",
      "                                                     \"#7978D9\" \n",
      "                                         CASSQDLGETLLFMNTGELFF \n",
      "                                                     \"#E46749\" \n",
      "                                               CASSAGGTANTEAFF \n",
      "                                                     \"#75E8A8\" \n",
      "                                              CASSKGAC_TNEKLFF \n",
      "                                                     \"#7DAB8B\" \n",
      "                                                CASTLPN_GKKLFF \n",
      "                                                     \"#E2D151\" \n",
      "                                                 CASSQSYYLEQFF \n",
      "                                                     \"#83ABD8\" \n",
      "     CASSGSGTVWETQYFGPGTRLLVLGERG_AGARARAAWVWFLRGVPGLCSGANVLTF \n",
      "                                                     \"#8FE358\" \n",
      "CASSQESSPIGTEAFFGQGTRLTVVGKTFFR_LLQIRHREKWVHSVPFRVAIFLCANYGYTF \n",
      "                                                     \"#DE67C4\" \n",
      "                                        CASSQEKKGFPESGSPRNEQFF \n",
      "                                                     \"#80E1DD\" \n",
      "                                               CASSPGTGGYQPQHF \n",
      "                                                     \"#D7A985\" \n",
      "                                           CASRRQGLFLFSSTDTQYF \n",
      "                                                     \"#CFE29D\" \n",
      "                                               CASSTNR_NTGELFF \n",
      "                                                     \"#D8D8DB\" \n",
      "                                                CASSLAGSTYEQYF \n",
      "                                                     \"#AE7188\" \n",
      "                                               CASSERGGPIGGAFF \n",
      "                                                     \"#A845E2\" \n",
      "[1] \"370\"\n"
     ]
    },
    {
     "name": "stderr",
     "output_type": "stream",
     "text": [
      "duplicated sequences:\n"
     ]
    },
    {
     "name": "stdout",
     "output_type": "stream",
     "text": [
      "[1] \"CASSDSGGQGRKDSNQPQHF\" \"CASSSPGTRGGGELFF\"     \"CASSLPGTGSYEQYF\"     \n",
      "[4] \"CASSLGWGNTEAFF\"       \"CASSVGGGSEAFF\"       \n"
     ]
    },
    {
     "name": "stderr",
     "output_type": "stream",
     "text": [
      "my files:\n"
     ]
    },
    {
     "name": "stdout",
     "output_type": "stream",
     "text": [
      "[1] \"batch3/ds_batch3/CLONES_TRBCHP_370-02-PBMC-DNA_2000000.txt\"\n",
      "[2] \"batch7/ds_batch7/CLONES_TRBCHP_370-01-PBMC-DNA_2000000.txt\"\n",
      "[3] \"batch7/ds_batch7/CLONES_TRBCHP_370-05-PBMC-DNA_2000000.txt\"\n",
      "[4] \"batch8/ds_batch8/CLONES_TRBCHP_370-03-PBMC-DNA_2000000.txt\"\n"
     ]
    },
    {
     "name": "stderr",
     "output_type": "stream",
     "text": [
      "Total recovered clonotypes:\n"
     ]
    },
    {
     "name": "stdout",
     "output_type": "stream",
     "text": [
      "[1] 1123\n"
     ]
    },
    {
     "name": "stderr",
     "output_type": "stream",
     "text": [
      "Total out-of-frame clonotypes:\n"
     ]
    },
    {
     "name": "stdout",
     "output_type": "stream",
     "text": [
      "[1] 194\n"
     ]
    },
    {
     "name": "stderr",
     "output_type": "stream",
     "text": [
      "Total clonotypes with stop codon:\n"
     ]
    },
    {
     "name": "stdout",
     "output_type": "stream",
     "text": [
      "[1] 25\n"
     ]
    },
    {
     "name": "stderr",
     "output_type": "stream",
     "text": [
      "Total productive clonotypes:\n"
     ]
    },
    {
     "name": "stdout",
     "output_type": "stream",
     "text": [
      "[1] 904\n"
     ]
    },
    {
     "name": "stderr",
     "output_type": "stream",
     "text": [
      "Output contains all clonotypes\n",
      "list of samples to track clones: \n"
     ]
    },
    {
     "name": "stdout",
     "output_type": "stream",
     "text": [
      "[1] \"CHP_370-02-PBMC\" \"CHP_370-01-PBMC\" \"CHP_370-05-PBMC\" \"CHP_370-03-PBMC\"\n"
     ]
    },
    {
     "name": "stderr",
     "output_type": "stream",
     "text": [
      "Total number of recurring clonotypes: \n"
     ]
    },
    {
     "name": "stdout",
     "output_type": "stream",
     "text": [
      "[1] 4\n"
     ]
    },
    {
     "name": "stderr",
     "output_type": "stream",
     "text": [
      "these are what we color: \n"
     ]
    },
    {
     "name": "stdout",
     "output_type": "stream",
     "text": [
      "CASSIGGTLWAGGTEAFF    CASSLGTLPNQPQHF   CASRSGGYSYNSPLHF     CASSDSSGANVLTF \n",
      "         \"#98D7C8\"          \"#C0D66C\"          \"#B667D3\"          \"#CCA4BA\" \n",
      "[1] \"373\"\n"
     ]
    },
    {
     "name": "stderr",
     "output_type": "stream",
     "text": [
      "duplicated sequences:\n"
     ]
    },
    {
     "name": "stdout",
     "output_type": "stream",
     "text": [
      "[1] \"CASSLGARSSGSYNEQFF\" \"CASSQEYSTDTQYF\"    \n"
     ]
    },
    {
     "name": "stderr",
     "output_type": "stream",
     "text": [
      "my files:\n"
     ]
    },
    {
     "name": "stdout",
     "output_type": "stream",
     "text": [
      "[1] \"batch3/ds_batch3/CLONES_TRBCHP_373-01-PBMC-DNA_2000000.txt\"\n",
      "[2] \"batch7/ds_batch7/CLONES_TRBCHP_373-02-PBMC-DNA_2000000.txt\"\n",
      "[3] \"batch8/ds_batch8/CLONES_TRBCHP_373-03-PBMC-DNA_2000000.txt\"\n"
     ]
    },
    {
     "name": "stderr",
     "output_type": "stream",
     "text": [
      "Total recovered clonotypes:\n"
     ]
    },
    {
     "name": "stdout",
     "output_type": "stream",
     "text": [
      "[1] 452\n"
     ]
    },
    {
     "name": "stderr",
     "output_type": "stream",
     "text": [
      "Total out-of-frame clonotypes:\n"
     ]
    },
    {
     "name": "stdout",
     "output_type": "stream",
     "text": [
      "[1] 102\n"
     ]
    },
    {
     "name": "stderr",
     "output_type": "stream",
     "text": [
      "Total clonotypes with stop codon:\n"
     ]
    },
    {
     "name": "stdout",
     "output_type": "stream",
     "text": [
      "[1] 9\n"
     ]
    },
    {
     "name": "stderr",
     "output_type": "stream",
     "text": [
      "Total productive clonotypes:\n"
     ]
    },
    {
     "name": "stdout",
     "output_type": "stream",
     "text": [
      "[1] 341\n"
     ]
    },
    {
     "name": "stderr",
     "output_type": "stream",
     "text": [
      "Output contains all clonotypes\n",
      "list of samples to track clones: \n"
     ]
    },
    {
     "name": "stdout",
     "output_type": "stream",
     "text": [
      "[1] \"CHP_373-01-PBMC\" \"CHP_373-02-PBMC\" \"CHP_373-03-PBMC\"\n"
     ]
    },
    {
     "name": "stderr",
     "output_type": "stream",
     "text": [
      "Total number of recurring clonotypes: \n"
     ]
    },
    {
     "name": "stdout",
     "output_type": "stream",
     "text": [
      "[1] 0\n"
     ]
    },
    {
     "name": "stderr",
     "output_type": "stream",
     "text": [
      "these are what we color: \n"
     ]
    },
    {
     "name": "stdout",
     "output_type": "stream",
     "text": [
      "named character(0)\n",
      "[1] \"374\"\n"
     ]
    },
    {
     "name": "stderr",
     "output_type": "stream",
     "text": [
      "duplicated sequences:\n"
     ]
    },
    {
     "name": "stdout",
     "output_type": "stream",
     "text": [
      "[1] \"CASRNRVTTDTQYF\" \"CASSLF_AREAFF\" \n"
     ]
    },
    {
     "name": "stderr",
     "output_type": "stream",
     "text": [
      "my files:\n"
     ]
    },
    {
     "name": "stdout",
     "output_type": "stream",
     "text": [
      "[1] \"batch3/ds_batch3/CLONES_TRBCHP_374-03-PBMC-DNA_2000000.txt\"\n",
      "[2] \"batch3/ds_batch3/CLONES_TRBCHP_374-04-PBMC-DNA_2000000.txt\"\n",
      "[3] \"batch3/ds_batch3/CLONES_TRBCHP_374-05-PBMC-DNA_2000000.txt\"\n"
     ]
    },
    {
     "name": "stderr",
     "output_type": "stream",
     "text": [
      "Total recovered clonotypes:\n"
     ]
    },
    {
     "name": "stdout",
     "output_type": "stream",
     "text": [
      "[1] 265\n"
     ]
    },
    {
     "name": "stderr",
     "output_type": "stream",
     "text": [
      "Total out-of-frame clonotypes:\n"
     ]
    },
    {
     "name": "stdout",
     "output_type": "stream",
     "text": [
      "[1] 66\n"
     ]
    },
    {
     "name": "stderr",
     "output_type": "stream",
     "text": [
      "Total clonotypes with stop codon:\n"
     ]
    },
    {
     "name": "stdout",
     "output_type": "stream",
     "text": [
      "[1] 2\n"
     ]
    },
    {
     "name": "stderr",
     "output_type": "stream",
     "text": [
      "Total productive clonotypes:\n"
     ]
    },
    {
     "name": "stdout",
     "output_type": "stream",
     "text": [
      "[1] 197\n"
     ]
    },
    {
     "name": "stderr",
     "output_type": "stream",
     "text": [
      "Output contains all clonotypes\n",
      "list of samples to track clones: \n"
     ]
    },
    {
     "name": "stdout",
     "output_type": "stream",
     "text": [
      "[1] \"CHP_374-03-PBMC\" \"CHP_374-04-PBMC\" \"CHP_374-05-PBMC\"\n"
     ]
    },
    {
     "name": "stderr",
     "output_type": "stream",
     "text": [
      "Total number of recurring clonotypes: \n"
     ]
    },
    {
     "name": "stdout",
     "output_type": "stream",
     "text": [
      "[1] 0\n"
     ]
    },
    {
     "name": "stderr",
     "output_type": "stream",
     "text": [
      "these are what we color: \n"
     ]
    },
    {
     "name": "stdout",
     "output_type": "stream",
     "text": [
      "named character(0)\n",
      "[1] \"375\"\n"
     ]
    },
    {
     "name": "stderr",
     "output_type": "stream",
     "text": [
      "duplicated sequences:\n"
     ]
    },
    {
     "name": "stdout",
     "output_type": "stream",
     "text": [
      "character(0)\n"
     ]
    },
    {
     "name": "stderr",
     "output_type": "stream",
     "text": [
      "my files:\n"
     ]
    },
    {
     "name": "stdout",
     "output_type": "stream",
     "text": [
      "[1] \"batch_reseq/ds_batch_reseq/CLONES_TRBCHP_375-01-PBMC-DNA_2000000.txt\"\n",
      "[2] \"batch11/CLONES_TRBCHP_375-05_PBMC_DNA_2000000.txt\"                   \n",
      "[3] \"batch7/ds_batch7/CLONES_TRBCHP_375-02-PBMC-DNA_2000000.txt\"          \n"
     ]
    },
    {
     "name": "stderr",
     "output_type": "stream",
     "text": [
      "Total recovered clonotypes:\n"
     ]
    },
    {
     "name": "stdout",
     "output_type": "stream",
     "text": [
      "[1] 855\n"
     ]
    },
    {
     "name": "stderr",
     "output_type": "stream",
     "text": [
      "Total out-of-frame clonotypes:\n"
     ]
    },
    {
     "name": "stdout",
     "output_type": "stream",
     "text": [
      "[1] 168\n"
     ]
    },
    {
     "name": "stderr",
     "output_type": "stream",
     "text": [
      "Total clonotypes with stop codon:\n"
     ]
    },
    {
     "name": "stdout",
     "output_type": "stream",
     "text": [
      "[1] 22\n"
     ]
    },
    {
     "name": "stderr",
     "output_type": "stream",
     "text": [
      "Total productive clonotypes:\n"
     ]
    },
    {
     "name": "stdout",
     "output_type": "stream",
     "text": [
      "[1] 665\n"
     ]
    },
    {
     "name": "stderr",
     "output_type": "stream",
     "text": [
      "Output contains all clonotypes\n",
      "list of samples to track clones: \n"
     ]
    },
    {
     "name": "stdout",
     "output_type": "stream",
     "text": [
      "[1] \"CHP_375-01-PBMC\" \"CHP_375-05_PBMC\" \"CHP_375-02-PBMC\"\n"
     ]
    },
    {
     "name": "stderr",
     "output_type": "stream",
     "text": [
      "Total number of recurring clonotypes: \n"
     ]
    },
    {
     "name": "stdout",
     "output_type": "stream",
     "text": [
      "[1] 4\n"
     ]
    },
    {
     "name": "stderr",
     "output_type": "stream",
     "text": [
      "these are what we color: \n"
     ]
    },
    {
     "name": "stdout",
     "output_type": "stream",
     "text": [
      "  CASSELAGGYNEQFF    CASSFAPGVSEQYF CASSPEFQGVSGNTIYF   CASSDSSGGANEQFF \n",
      "        \"#ADCAD4\"         \"#B3DE7E\"         \"#D99277\"         \"#B971D0\" \n",
      "[1] \"378\"\n"
     ]
    },
    {
     "name": "stderr",
     "output_type": "stream",
     "text": [
      "duplicated sequences:\n"
     ]
    },
    {
     "name": "stdout",
     "output_type": "stream",
     "text": [
      "[1] \"CASSPGTGDNSPLHF\"                                        \n",
      "[2] \"CASRRGPELFFGEGSRLTVLGKEAVGAPESSERAGWAEVSSCPTLRGAVLRGAAG\"\n",
      "[3] \"CASSEGVSSYNSPLHF\"                                       \n",
      "[4] \"CASSLAGGGGYGYTF\"                                        \n",
      "[5] \"CASTQRWGPNTEAFF\"                                        \n",
      "[6] \"CASSPFRSYNEQFF\"                                         \n",
      "[7] \"CAISEVSTYGYTF\"                                          \n"
     ]
    },
    {
     "name": "stderr",
     "output_type": "stream",
     "text": [
      "my files:\n"
     ]
    },
    {
     "name": "stdout",
     "output_type": "stream",
     "text": [
      "[1] \"batch3/ds_batch3/CLONES_TRBCHP_378-01-PBMC-DNA_2000000.txt\"\n",
      "[2] \"batch7/ds_batch7/CLONES_TRBCHP_378-02-PBMC-DNA_2000000.txt\"\n",
      "[3] \"batch8/ds_batch8/CLONES_TRBCHP_378-04-PBMC-DNA_2000000.txt\"\n"
     ]
    },
    {
     "name": "stderr",
     "output_type": "stream",
     "text": [
      "Total recovered clonotypes:\n"
     ]
    },
    {
     "name": "stdout",
     "output_type": "stream",
     "text": [
      "[1] 1161\n"
     ]
    },
    {
     "name": "stderr",
     "output_type": "stream",
     "text": [
      "Total out-of-frame clonotypes:\n"
     ]
    },
    {
     "name": "stdout",
     "output_type": "stream",
     "text": [
      "[1] 244\n"
     ]
    },
    {
     "name": "stderr",
     "output_type": "stream",
     "text": [
      "Total clonotypes with stop codon:\n"
     ]
    },
    {
     "name": "stdout",
     "output_type": "stream",
     "text": [
      "[1] 20\n"
     ]
    },
    {
     "name": "stderr",
     "output_type": "stream",
     "text": [
      "Total productive clonotypes:\n"
     ]
    },
    {
     "name": "stdout",
     "output_type": "stream",
     "text": [
      "[1] 897\n"
     ]
    },
    {
     "name": "stderr",
     "output_type": "stream",
     "text": [
      "Output contains all clonotypes\n",
      "list of samples to track clones: \n"
     ]
    },
    {
     "name": "stdout",
     "output_type": "stream",
     "text": [
      "[1] \"CHP_378-01-PBMC\" \"CHP_378-02-PBMC\" \"CHP_378-04-PBMC\"\n"
     ]
    },
    {
     "name": "stderr",
     "output_type": "stream",
     "text": [
      "Total number of recurring clonotypes: \n"
     ]
    },
    {
     "name": "stdout",
     "output_type": "stream",
     "text": [
      "[1] 13\n"
     ]
    },
    {
     "name": "stderr",
     "output_type": "stream",
     "text": [
      "these are what we color: \n"
     ]
    },
    {
     "name": "stdout",
     "output_type": "stream",
     "text": [
      "             CASSQTLA_GNQETQYF                 CASSHSTVNTEAFF \n",
      "                     \"#72DEBA\"                      \"#8DE265\" \n",
      "                   CAWSPNTEAFF             CASS*PLTG_QNDSPLHF \n",
      "                     \"#824DDF\"                      \"#DC5CCB\" \n",
      "              CASSGDRQVYPNEQFF                CASSGIELAKNIQYF \n",
      "                     \"#D8A2DD\"                      \"#E0D557\" \n",
      "                CASSHDWDTNTQYF               CASSQGAGFVNTEAFF \n",
      "                     \"#D5A882\"                      \"#B86F88\" \n",
      "                   CAWSPATEAFF CASSLDTV*QRLGGF_SGPGRLCSGNTIYF \n",
      "                     \"#7E94DD\"                      \"#CBDEA8\" \n",
      "                CASSPGDLNTEAFF               CASSGLPI_PDYEQYF \n",
      "                     \"#D6CDDB\"                      \"#7DC7D4\" \n",
      "               CASSDLGGARETQYF \n",
      "                     \"#E36842\" \n",
      "[1] \"380\"\n"
     ]
    },
    {
     "name": "stderr",
     "output_type": "stream",
     "text": [
      "duplicated sequences:\n"
     ]
    },
    {
     "name": "stdout",
     "output_type": "stream",
     "text": [
      "character(0)\n"
     ]
    },
    {
     "name": "stderr",
     "output_type": "stream",
     "text": [
      "my files:\n"
     ]
    },
    {
     "name": "stdout",
     "output_type": "stream",
     "text": [
      "[1] \"batch3/ds_batch3/CLONES_TRBCHP_380-02-PBMC-DNA_2000000.txt\"\n",
      "[2] \"batch8/ds_batch8/CLONES_TRBCHP_380-03-PBMC-DNA_2000000.txt\"\n",
      "[3] \"batch8/ds_batch8/CLONES_TRBCHP_380-05-PBMC-DNA_2000000.txt\"\n"
     ]
    },
    {
     "name": "stderr",
     "output_type": "stream",
     "text": [
      "Total recovered clonotypes:\n"
     ]
    },
    {
     "name": "stdout",
     "output_type": "stream",
     "text": [
      "[1] 196\n"
     ]
    },
    {
     "name": "stderr",
     "output_type": "stream",
     "text": [
      "Total out-of-frame clonotypes:\n"
     ]
    },
    {
     "name": "stdout",
     "output_type": "stream",
     "text": [
      "[1] 36\n"
     ]
    },
    {
     "name": "stderr",
     "output_type": "stream",
     "text": [
      "Total clonotypes with stop codon:\n"
     ]
    },
    {
     "name": "stdout",
     "output_type": "stream",
     "text": [
      "[1] 1\n"
     ]
    },
    {
     "name": "stderr",
     "output_type": "stream",
     "text": [
      "Total productive clonotypes:\n"
     ]
    },
    {
     "name": "stdout",
     "output_type": "stream",
     "text": [
      "[1] 159\n"
     ]
    },
    {
     "name": "stderr",
     "output_type": "stream",
     "text": [
      "Output contains all clonotypes\n",
      "list of samples to track clones: \n"
     ]
    },
    {
     "name": "stdout",
     "output_type": "stream",
     "text": [
      "[1] \"CHP_380-02-PBMC\" \"CHP_380-03-PBMC\" \"CHP_380-05-PBMC\"\n"
     ]
    },
    {
     "name": "stderr",
     "output_type": "stream",
     "text": [
      "Total number of recurring clonotypes: \n"
     ]
    },
    {
     "name": "stdout",
     "output_type": "stream",
     "text": [
      "[1] 10\n"
     ]
    },
    {
     "name": "stderr",
     "output_type": "stream",
     "text": [
      "these are what we color: \n"
     ]
    },
    {
     "name": "stdout",
     "output_type": "stream",
     "text": [
      "     CASRSGSTEAFF CASSFKRGFSGANVLTF CASSEPPGANSYNEQFF   CASSPRSGDQETQYF \n",
      "        \"#C2CEDA\"         \"#D0D39E\"         \"#74D7C6\"         \"#8395DB\" \n",
      "      CASGFGGELFF CASSDDLTGGYTDTQYF   CASSHQGNTYNEQFF       CAKDG_REGHF \n",
      "        \"#DCD855\"         \"#D3A2C3\"         \"#D968BF\"         \"#86E272\" \n",
      " CSARDLIR_QSYEQYF     CASSFSLPYEQYF \n",
      "        \"#9E50E0\"         \"#DE7B58\" \n",
      "[1] \"382\"\n"
     ]
    },
    {
     "name": "stderr",
     "output_type": "stream",
     "text": [
      "duplicated sequences:\n"
     ]
    },
    {
     "name": "stdout",
     "output_type": "stream",
     "text": [
      "[1] \"CAWSVFSGYSYNEQFF\"\n"
     ]
    },
    {
     "name": "stderr",
     "output_type": "stream",
     "text": [
      "my files:\n"
     ]
    },
    {
     "name": "stdout",
     "output_type": "stream",
     "text": [
      "[1] \"batch11/CLONES_TRBCHP_382-03_PBMC_DNA_2000000.txt\"         \n",
      "[2] \"batch11/CLONES_TRBCHP_382-04_PBMC_DNA_2000000.txt\"         \n",
      "[3] \"batch8/ds_batch8/CLONES_TRBCHP_382-02-PBMC-DNA_2000000.txt\"\n"
     ]
    },
    {
     "name": "stderr",
     "output_type": "stream",
     "text": [
      "Total recovered clonotypes:\n"
     ]
    },
    {
     "name": "stdout",
     "output_type": "stream",
     "text": [
      "[1] 191\n"
     ]
    },
    {
     "name": "stderr",
     "output_type": "stream",
     "text": [
      "Total out-of-frame clonotypes:\n"
     ]
    },
    {
     "name": "stdout",
     "output_type": "stream",
     "text": [
      "[1] 50\n"
     ]
    },
    {
     "name": "stderr",
     "output_type": "stream",
     "text": [
      "Total clonotypes with stop codon:\n"
     ]
    },
    {
     "name": "stdout",
     "output_type": "stream",
     "text": [
      "[1] 2\n"
     ]
    },
    {
     "name": "stderr",
     "output_type": "stream",
     "text": [
      "Total productive clonotypes:\n"
     ]
    },
    {
     "name": "stdout",
     "output_type": "stream",
     "text": [
      "[1] 139\n"
     ]
    },
    {
     "name": "stderr",
     "output_type": "stream",
     "text": [
      "Output contains all clonotypes\n",
      "list of samples to track clones: \n"
     ]
    },
    {
     "name": "stdout",
     "output_type": "stream",
     "text": [
      "[1] \"CHP_382-03_PBMC\" \"CHP_382-04_PBMC\" \"CHP_382-02-PBMC\"\n"
     ]
    },
    {
     "name": "stderr",
     "output_type": "stream",
     "text": [
      "Total number of recurring clonotypes: \n"
     ]
    },
    {
     "name": "stdout",
     "output_type": "stream",
     "text": [
      "[1] 0\n"
     ]
    },
    {
     "name": "stderr",
     "output_type": "stream",
     "text": [
      "these are what we color: \n"
     ]
    },
    {
     "name": "stdout",
     "output_type": "stream",
     "text": [
      "named character(0)\n",
      "[1] \"387\"\n"
     ]
    },
    {
     "name": "stderr",
     "output_type": "stream",
     "text": [
      "duplicated sequences:\n"
     ]
    },
    {
     "name": "stdout",
     "output_type": "stream",
     "text": [
      " [1] \"CAWSVGGG_NTGELFF\"                                                                 \n",
      " [2] \"CASSKPRR_TGDEKLFF\"                                                                \n",
      " [3] \"CASSYREGQPQHF\"                                                                    \n",
      " [4] \"CASSLTPGAYNEQFFGPGTRLTVLGKKGAPGGREGEQPSL_TTPEPCS*GSGHWAIQGPPRGKRGLRQGPQGCANTGELFF\"\n",
      " [5] \"CASSLLGGARETQYFGPGTRLLVLGERG_AGARARAAWVWFLRGVPGLCSGANVLTF\"                        \n",
      " [6] \"CASSASGPGLAGGDSYNEQFF\"                                                            \n",
      " [7] \"CASSLAGQYFVTNEKLFF\"                                                               \n",
      " [8] \"CASSNGLAGGGSYEQYF\"                                                                \n",
      " [9] \"CASSQDNS_VLPNEQFF\"                                                                \n",
      "[10] \"CASSESGTAGSYEQYF\"                                                                 \n",
      "[11] \"CASSLGVGYPEDEQFF\"                                                                 \n",
      "[12] \"CASSYSSQNTGELFF\"                                                                  \n",
      "[13] \"CASSSRTGSYNEQFF\"                                                                  \n",
      "[14] \"CASSDSTSGGDEQYF\"                                                                  \n",
      "[15] \"CASSVSGGPVDTQYF\"                                                                  \n",
      "[16] \"CASETDGGGTDTQYF\"                                                                  \n",
      "[17] \"CASSSRR_KENIQYF\"                                                                  \n",
      "[18] \"CASSDPGPPGEQYF\"                                                                   \n",
      "[19] \"CASSPPVFSPLHF\"                                                                    \n",
      "[20] \"CASSYAGEQFF\"                                                                      \n"
     ]
    },
    {
     "name": "stderr",
     "output_type": "stream",
     "text": [
      "my files:\n"
     ]
    },
    {
     "name": "stdout",
     "output_type": "stream",
     "text": [
      "[1] \"batch11/CLONES_TRBCHP_387-02_PBMC_DNA_2000000.txt\"         \n",
      "[2] \"batch11/CLONES_TRBCHP_387-03_PBMC_DNA_2000000.txt\"         \n",
      "[3] \"batch8/ds_batch8/CLONES_TRBCHP_387-01-PBMC-DNA_2000000.txt\"\n"
     ]
    },
    {
     "name": "stderr",
     "output_type": "stream",
     "text": [
      "Total recovered clonotypes:\n"
     ]
    },
    {
     "name": "stdout",
     "output_type": "stream",
     "text": [
      "[1] 1171\n"
     ]
    },
    {
     "name": "stderr",
     "output_type": "stream",
     "text": [
      "Total out-of-frame clonotypes:\n"
     ]
    },
    {
     "name": "stdout",
     "output_type": "stream",
     "text": [
      "[1] 274\n"
     ]
    },
    {
     "name": "stderr",
     "output_type": "stream",
     "text": [
      "Total clonotypes with stop codon:\n"
     ]
    },
    {
     "name": "stdout",
     "output_type": "stream",
     "text": [
      "[1] 23\n"
     ]
    },
    {
     "name": "stderr",
     "output_type": "stream",
     "text": [
      "Total productive clonotypes:\n"
     ]
    },
    {
     "name": "stdout",
     "output_type": "stream",
     "text": [
      "[1] 874\n"
     ]
    },
    {
     "name": "stderr",
     "output_type": "stream",
     "text": [
      "Output contains all clonotypes\n",
      "list of samples to track clones: \n"
     ]
    },
    {
     "name": "stdout",
     "output_type": "stream",
     "text": [
      "[1] \"CHP_387-02_PBMC\" \"CHP_387-03_PBMC\" \"CHP_387-01-PBMC\"\n"
     ]
    },
    {
     "name": "stderr",
     "output_type": "stream",
     "text": [
      "Total number of recurring clonotypes: \n"
     ]
    },
    {
     "name": "stdout",
     "output_type": "stream",
     "text": [
      "[1] 16\n"
     ]
    },
    {
     "name": "stderr",
     "output_type": "stream",
     "text": [
      "these are what we color: \n"
     ]
    },
    {
     "name": "stdout",
     "output_type": "stream",
     "text": [
      "           CASSRNTQPQVGRSNEQFF                 CASRSSGSYNEQFF \n",
      "                     \"#D1DFD9\"                      \"#D88DE3\" \n",
      "                  CASSLVRGEAFF               CASS*WDR_GPETQYF \n",
      "                     \"#CCDE9E\"                      \"#8FE545\" \n",
      "                   CASSQ_FGYTF                CASSAGGQVNQPQHF \n",
      "                     \"#DA4CB4\"                      \"#BB728D\" \n",
      "               CASF*RG_YQETQYF                 CASSYSSGANVLTF \n",
      "                     \"#869DDE\"                      \"#72DFC8\" \n",
      "                  CASSLGTDTQYF             CASSLIVRDRAMNTEAFF \n",
      "                     \"#E0D355\"                      \"#E36D43\" \n",
      "                CASSPTGVYEKLFF                 CASRQRLAKNIQYF \n",
      "                     \"#AE3FE8\"                      \"#85DF85\" \n",
      "CASSLDTV*QRLGGF_SGPGRLCSGNTIYF        CATSDLTSGGSSSGGWVYNEQFF \n",
      "                     \"#D0A885\"                      \"#DCBDDE\" \n",
      "               CASSSLRGSNQPQHF                 CASSDLTGFKGYTF \n",
      "                     \"#78BBCC\"                      \"#7065D7\" \n"
     ]
    }
   ],
   "source": [
    "for(pt in ptlist$Var1[ptlist$Freq > 2]){\n",
    "    print(pt)\n",
    "    tmp <- ds_flelst_chp_PBMC[grepl(pt, ds_flelst_chp_PBMC)]\n",
    "    cdr3df <- cdr3_dataframe.fx(datapath, \"TRB\", tmp, \"total\")\n",
    "    cdr3df$samplename <- gsub(\"-DNA.*\", \"\", cdr3df$samplename)\n",
    "    cdr3df$samplename <- gsub(\"_DNA.*\", \"\", cdr3df$samplename)\n",
    "    cdr3df$samplename <- gsub(\"TRB\", \"\", cdr3df$samplename)\n",
    "    plot_clonetracks.fx(cdr3df, plotpath, \"TRB\", \"cloneCount\", 0)\n",
    "}"
   ]
  },
  {
   "cell_type": "code",
   "execution_count": null,
   "metadata": {},
   "outputs": [],
   "source": []
  },
  {
   "cell_type": "markdown",
   "metadata": {},
   "source": [
    "## cfDNA"
   ]
  },
  {
   "cell_type": "code",
   "execution_count": 24,
   "metadata": {},
   "outputs": [],
   "source": [
    "manifest_df_cfdna <- cbind.data.frame(ds_flelst_chp_cfDNA, NA,NA,stringsAsFactors = F)\n",
    "\n",
    "colnames(manifest_df_cfdna) <- c(\"filename\", \"patient\", \"cycle\")"
   ]
  },
  {
   "cell_type": "code",
   "execution_count": 25,
   "metadata": {},
   "outputs": [],
   "source": [
    "manifest_df_cfdna$filename <- gsub(\".*CLONES\", \"CLONES\", manifest_df_cfdna$filename)\n",
    "\n",
    "manifest_df_cfdna$patient <- gsub(\"CLONES_TRBCHP_\", \"\", manifest_df_cfdna$filename)\n",
    "manifest_df_cfdna$patient <- gsub(\"-.*\", \"\", manifest_df_cfdna$patient)\n",
    "\n",
    "manifest_df_cfdna$cycle <- substr(manifest_df_cfdna$filename, 19,20)"
   ]
  },
  {
   "cell_type": "code",
   "execution_count": 26,
   "metadata": {},
   "outputs": [],
   "source": [
    "ptlist_cfdna <- as.data.frame(table(manifest_df_cfdna$patient))"
   ]
  },
  {
   "cell_type": "code",
   "execution_count": 105,
   "metadata": {},
   "outputs": [
    {
     "name": "stdout",
     "output_type": "stream",
     "text": [
      "[1] \"336\"\n"
     ]
    },
    {
     "name": "stderr",
     "output_type": "stream",
     "text": [
      "my files:\n"
     ]
    },
    {
     "name": "stdout",
     "output_type": "stream",
     "text": [
      "[1] \"batch10_cfDNA/CLONES_TRBCHP_336-03_cfDNA_2000000.txt\"\n",
      "[2] \"batch10_cfDNA/CLONES_TRBCHP_336-04_cfDNA_2000000.txt\"\n",
      "[3] \"batch10_cfDNA/CLONES_TRBCHP_336-05_cfDNA_2000000.txt\"\n"
     ]
    },
    {
     "name": "stderr",
     "output_type": "stream",
     "text": [
      "Total recovered clonotypes:\n"
     ]
    },
    {
     "name": "stdout",
     "output_type": "stream",
     "text": [
      "[1] 34\n"
     ]
    },
    {
     "name": "stderr",
     "output_type": "stream",
     "text": [
      "Total out-of-frame clonotypes:\n"
     ]
    },
    {
     "name": "stdout",
     "output_type": "stream",
     "text": [
      "[1] 10\n"
     ]
    },
    {
     "name": "stderr",
     "output_type": "stream",
     "text": [
      "Total clonotypes with stop codon:\n"
     ]
    },
    {
     "name": "stdout",
     "output_type": "stream",
     "text": [
      "[1] 3\n"
     ]
    },
    {
     "name": "stderr",
     "output_type": "stream",
     "text": [
      "Total productive clonotypes:\n"
     ]
    },
    {
     "name": "stdout",
     "output_type": "stream",
     "text": [
      "[1] 21\n"
     ]
    },
    {
     "name": "stderr",
     "output_type": "stream",
     "text": [
      "Output contains all clonotypes\n",
      "list of samples to track clones: \n"
     ]
    },
    {
     "name": "stdout",
     "output_type": "stream",
     "text": [
      "[1] \"CHP_336-03-cfDNA\" \"CHP_336-04-cfDNA\" \"CHP_336-05-cfDNA\"\n"
     ]
    },
    {
     "name": "stderr",
     "output_type": "stream",
     "text": [
      "Total number of recurring clonotypes: \n"
     ]
    },
    {
     "name": "stdout",
     "output_type": "stream",
     "text": [
      "[1] 0\n"
     ]
    },
    {
     "name": "stderr",
     "output_type": "stream",
     "text": [
      "these are what we color: \n"
     ]
    },
    {
     "name": "stdout",
     "output_type": "stream",
     "text": [
      "named character(0)\n",
      "[1] \"344\"\n"
     ]
    },
    {
     "name": "stderr",
     "output_type": "stream",
     "text": [
      "my files:\n"
     ]
    },
    {
     "name": "stdout",
     "output_type": "stream",
     "text": [
      "[1] \"batch3a9_cfDNA/CLONES_TRBCHP_344-02_cfDNA_2000000.txt\"\n",
      "[2] \"batch3a9_cfDNA/CLONES_TRBCHP_344-04_cfDNA_2000000.txt\"\n",
      "[3] \"batch3a9_cfDNA/CLONES_TRBCHP_344-05_cfDNA_2000000.txt\"\n",
      "[4] \"batch5_cfDNA/CLONES_TRBCHP_344-01_cfDNA_2000000.txt\"  \n"
     ]
    },
    {
     "name": "stderr",
     "output_type": "stream",
     "text": [
      "Total recovered clonotypes:\n"
     ]
    },
    {
     "name": "stdout",
     "output_type": "stream",
     "text": [
      "[1] 22\n"
     ]
    },
    {
     "name": "stderr",
     "output_type": "stream",
     "text": [
      "Total out-of-frame clonotypes:\n"
     ]
    },
    {
     "name": "stdout",
     "output_type": "stream",
     "text": [
      "[1] 3\n"
     ]
    },
    {
     "name": "stderr",
     "output_type": "stream",
     "text": [
      "Total clonotypes with stop codon:\n"
     ]
    },
    {
     "name": "stdout",
     "output_type": "stream",
     "text": [
      "[1] 0\n"
     ]
    },
    {
     "name": "stderr",
     "output_type": "stream",
     "text": [
      "Total productive clonotypes:\n"
     ]
    },
    {
     "name": "stdout",
     "output_type": "stream",
     "text": [
      "[1] 19\n"
     ]
    },
    {
     "name": "stderr",
     "output_type": "stream",
     "text": [
      "Output contains all clonotypes\n",
      "list of samples to track clones: \n"
     ]
    },
    {
     "name": "stdout",
     "output_type": "stream",
     "text": [
      "[1] \"CHP_344-02-cfDNA\" \"CHP_344-04-cfDNA\" \"CHP_344-05-cfDNA\" \"CHP_344-01-cfDNA\"\n"
     ]
    },
    {
     "name": "stderr",
     "output_type": "stream",
     "text": [
      "Total number of recurring clonotypes: \n"
     ]
    },
    {
     "name": "stdout",
     "output_type": "stream",
     "text": [
      "[1] 0\n"
     ]
    },
    {
     "name": "stderr",
     "output_type": "stream",
     "text": [
      "these are what we color: \n"
     ]
    },
    {
     "name": "stdout",
     "output_type": "stream",
     "text": [
      "named character(0)\n",
      "[1] \"347\"\n"
     ]
    },
    {
     "name": "stderr",
     "output_type": "stream",
     "text": [
      "my files:\n"
     ]
    },
    {
     "name": "stdout",
     "output_type": "stream",
     "text": [
      "[1] \"batch1_cfDNA/CLONES_TRBCHP_347-01-cfDNA_2000000.txt\" \n",
      "[2] \"batch10_cfDNA/CLONES_TRBCHP_347-04_cfDNA_2000000.txt\"\n",
      "[3] \"batch5_cfDNA/CLONES_TRBCHP_347-02_cfDNA_2000000.txt\" \n"
     ]
    },
    {
     "name": "stderr",
     "output_type": "stream",
     "text": [
      "Total recovered clonotypes:\n"
     ]
    },
    {
     "name": "stdout",
     "output_type": "stream",
     "text": [
      "[1] 14\n"
     ]
    },
    {
     "name": "stderr",
     "output_type": "stream",
     "text": [
      "Total out-of-frame clonotypes:\n"
     ]
    },
    {
     "name": "stdout",
     "output_type": "stream",
     "text": [
      "[1] 2\n"
     ]
    },
    {
     "name": "stderr",
     "output_type": "stream",
     "text": [
      "Total clonotypes with stop codon:\n"
     ]
    },
    {
     "name": "stdout",
     "output_type": "stream",
     "text": [
      "[1] 1\n"
     ]
    },
    {
     "name": "stderr",
     "output_type": "stream",
     "text": [
      "Total productive clonotypes:\n"
     ]
    },
    {
     "name": "stdout",
     "output_type": "stream",
     "text": [
      "[1] 11\n"
     ]
    },
    {
     "name": "stderr",
     "output_type": "stream",
     "text": [
      "Output contains all clonotypes\n",
      "list of samples to track clones: \n"
     ]
    },
    {
     "name": "stdout",
     "output_type": "stream",
     "text": [
      "[1] \"CHP_347-01-cfDNA\" \"CHP_347-04-cfDNA\" \"CHP_347-02-cfDNA\"\n"
     ]
    },
    {
     "name": "stderr",
     "output_type": "stream",
     "text": [
      "Total number of recurring clonotypes: \n"
     ]
    },
    {
     "name": "stdout",
     "output_type": "stream",
     "text": [
      "[1] 0\n"
     ]
    },
    {
     "name": "stderr",
     "output_type": "stream",
     "text": [
      "these are what we color: \n"
     ]
    },
    {
     "name": "stdout",
     "output_type": "stream",
     "text": [
      "named character(0)\n",
      "[1] \"351\"\n"
     ]
    },
    {
     "name": "stderr",
     "output_type": "stream",
     "text": [
      "my files:\n"
     ]
    },
    {
     "name": "stdout",
     "output_type": "stream",
     "text": [
      "[1] \"batch10_cfDNA/CLONES_TRBCHP_351-04_cfDNA_2000000.txt\"\n",
      "[2] \"batch10_cfDNA/CLONES_TRBCHP_351-05_cfDNA_2000000.txt\"\n",
      "[3] \"batch5_cfDNA/CLONES_TRBCHP_351-03_cfDNA_2000000.txt\" \n"
     ]
    },
    {
     "name": "stderr",
     "output_type": "stream",
     "text": [
      "Total recovered clonotypes:\n"
     ]
    },
    {
     "name": "stdout",
     "output_type": "stream",
     "text": [
      "[1] 15\n"
     ]
    },
    {
     "name": "stderr",
     "output_type": "stream",
     "text": [
      "Total out-of-frame clonotypes:\n"
     ]
    },
    {
     "name": "stdout",
     "output_type": "stream",
     "text": [
      "[1] 2\n"
     ]
    },
    {
     "name": "stderr",
     "output_type": "stream",
     "text": [
      "Total clonotypes with stop codon:\n"
     ]
    },
    {
     "name": "stdout",
     "output_type": "stream",
     "text": [
      "[1] 0\n"
     ]
    },
    {
     "name": "stderr",
     "output_type": "stream",
     "text": [
      "Total productive clonotypes:\n"
     ]
    },
    {
     "name": "stdout",
     "output_type": "stream",
     "text": [
      "[1] 13\n"
     ]
    },
    {
     "name": "stderr",
     "output_type": "stream",
     "text": [
      "Output contains all clonotypes\n",
      "list of samples to track clones: \n"
     ]
    },
    {
     "name": "stdout",
     "output_type": "stream",
     "text": [
      "[1] \"CHP_351-04-cfDNA\" \"CHP_351-05-cfDNA\" \"CHP_351-03-cfDNA\"\n"
     ]
    },
    {
     "name": "stderr",
     "output_type": "stream",
     "text": [
      "Total number of recurring clonotypes: \n"
     ]
    },
    {
     "name": "stdout",
     "output_type": "stream",
     "text": [
      "[1] 0\n"
     ]
    },
    {
     "name": "stderr",
     "output_type": "stream",
     "text": [
      "these are what we color: \n"
     ]
    },
    {
     "name": "stdout",
     "output_type": "stream",
     "text": [
      "named character(0)\n",
      "[1] \"353\"\n"
     ]
    },
    {
     "name": "stderr",
     "output_type": "stream",
     "text": [
      "my files:\n"
     ]
    },
    {
     "name": "stdout",
     "output_type": "stream",
     "text": [
      "[1] \"batch1_cfDNA/CLONES_TRBCHP_353-01-cfDNA_2000000.txt\"  \n",
      "[2] \"batch10_cfDNA/CLONES_TRBCHP_353-05_cfDNA_2000000.txt\" \n",
      "[3] \"batch3a9_cfDNA/CLONES_TRBCHP_353-02_cfDNA_2000000.txt\"\n",
      "[4] \"batch3a9_cfDNA/CLONES_TRBCHP_353-04_cfDNA_2000000.txt\"\n"
     ]
    },
    {
     "name": "stderr",
     "output_type": "stream",
     "text": [
      "Total recovered clonotypes:\n"
     ]
    },
    {
     "name": "stdout",
     "output_type": "stream",
     "text": [
      "[1] 139\n"
     ]
    },
    {
     "name": "stderr",
     "output_type": "stream",
     "text": [
      "Total out-of-frame clonotypes:\n"
     ]
    },
    {
     "name": "stdout",
     "output_type": "stream",
     "text": [
      "[1] 24\n"
     ]
    },
    {
     "name": "stderr",
     "output_type": "stream",
     "text": [
      "Total clonotypes with stop codon:\n"
     ]
    },
    {
     "name": "stdout",
     "output_type": "stream",
     "text": [
      "[1] 1\n"
     ]
    },
    {
     "name": "stderr",
     "output_type": "stream",
     "text": [
      "Total productive clonotypes:\n"
     ]
    },
    {
     "name": "stdout",
     "output_type": "stream",
     "text": [
      "[1] 114\n"
     ]
    },
    {
     "name": "stderr",
     "output_type": "stream",
     "text": [
      "Output contains all clonotypes\n",
      "list of samples to track clones: \n"
     ]
    },
    {
     "name": "stdout",
     "output_type": "stream",
     "text": [
      "[1] \"CHP_353-01-cfDNA\" \"CHP_353-05-cfDNA\" \"CHP_353-02-cfDNA\" \"CHP_353-04-cfDNA\"\n"
     ]
    },
    {
     "name": "stderr",
     "output_type": "stream",
     "text": [
      "Total number of recurring clonotypes: \n"
     ]
    },
    {
     "name": "stdout",
     "output_type": "stream",
     "text": [
      "[1] 2\n"
     ]
    },
    {
     "name": "stderr",
     "output_type": "stream",
     "text": [
      "these are what we color: \n"
     ]
    },
    {
     "name": "stdout",
     "output_type": "stream",
     "text": [
      "                                             CASSLRGNEAFF \n",
      "                                                \"#B8D49F\" \n",
      "CAWSGNPEAFFGQGTRLTVVGKTFFRFF_QIRHREKWVHSVPFRVAIFLCANYGYTF \n",
      "                                                \"#BB82C9\" \n",
      "[1] \"357\"\n"
     ]
    },
    {
     "name": "stderr",
     "output_type": "stream",
     "text": [
      "my files:\n"
     ]
    },
    {
     "name": "stdout",
     "output_type": "stream",
     "text": [
      "[1] \"batch1_cfDNA/CLONES_TRBCHP_357-03-cfDNA_2000000.txt\"  \n",
      "[2] \"batch3a9_cfDNA/CLONES_TRBCHP_357-01_cfDNA_2000000.txt\"\n",
      "[3] \"batch3a9_cfDNA/CLONES_TRBCHP_357-04_cfDNA_2000000.txt\"\n",
      "[4] \"batch5_cfDNA/CLONES_TRBCHP_357-05_cfDNA_2000000.txt\"  \n"
     ]
    },
    {
     "name": "stderr",
     "output_type": "stream",
     "text": [
      "Total recovered clonotypes:\n"
     ]
    },
    {
     "name": "stdout",
     "output_type": "stream",
     "text": [
      "[1] 56\n"
     ]
    },
    {
     "name": "stderr",
     "output_type": "stream",
     "text": [
      "Total out-of-frame clonotypes:\n"
     ]
    },
    {
     "name": "stdout",
     "output_type": "stream",
     "text": [
      "[1] 14\n"
     ]
    },
    {
     "name": "stderr",
     "output_type": "stream",
     "text": [
      "Total clonotypes with stop codon:\n"
     ]
    },
    {
     "name": "stdout",
     "output_type": "stream",
     "text": [
      "[1] 2\n"
     ]
    },
    {
     "name": "stderr",
     "output_type": "stream",
     "text": [
      "Total productive clonotypes:\n"
     ]
    },
    {
     "name": "stdout",
     "output_type": "stream",
     "text": [
      "[1] 40\n"
     ]
    },
    {
     "name": "stderr",
     "output_type": "stream",
     "text": [
      "Output contains all clonotypes\n",
      "list of samples to track clones: \n"
     ]
    },
    {
     "name": "stdout",
     "output_type": "stream",
     "text": [
      "[1] \"CHP_357-03-cfDNA\" \"CHP_357-01-cfDNA\" \"CHP_357-04-cfDNA\" \"CHP_357-05-cfDNA\"\n"
     ]
    },
    {
     "name": "stderr",
     "output_type": "stream",
     "text": [
      "Total number of recurring clonotypes: \n"
     ]
    },
    {
     "name": "stdout",
     "output_type": "stream",
     "text": [
      "[1] 0\n"
     ]
    },
    {
     "name": "stderr",
     "output_type": "stream",
     "text": [
      "these are what we color: \n"
     ]
    },
    {
     "name": "stdout",
     "output_type": "stream",
     "text": [
      "named character(0)\n",
      "[1] \"358\"\n"
     ]
    },
    {
     "name": "stderr",
     "output_type": "stream",
     "text": [
      "my files:\n"
     ]
    },
    {
     "name": "stdout",
     "output_type": "stream",
     "text": [
      "[1] \"batch10_cfDNA/CLONES_TRBCHP_358-02_cfDNA_2000000.txt\" \n",
      "[2] \"batch3a9_cfDNA/CLONES_TRBCHP_358-01_cfDNA_2000000.txt\"\n",
      "[3] \"batch3a9_cfDNA/CLONES_TRBCHP_358-03_cfDNA_2000000.txt\"\n"
     ]
    },
    {
     "name": "stderr",
     "output_type": "stream",
     "text": [
      "Total recovered clonotypes:\n"
     ]
    },
    {
     "name": "stdout",
     "output_type": "stream",
     "text": [
      "[1] 143\n"
     ]
    },
    {
     "name": "stderr",
     "output_type": "stream",
     "text": [
      "Total out-of-frame clonotypes:\n"
     ]
    },
    {
     "name": "stdout",
     "output_type": "stream",
     "text": [
      "[1] 27\n"
     ]
    },
    {
     "name": "stderr",
     "output_type": "stream",
     "text": [
      "Total clonotypes with stop codon:\n"
     ]
    },
    {
     "name": "stdout",
     "output_type": "stream",
     "text": [
      "[1] 0\n"
     ]
    },
    {
     "name": "stderr",
     "output_type": "stream",
     "text": [
      "Total productive clonotypes:\n"
     ]
    },
    {
     "name": "stdout",
     "output_type": "stream",
     "text": [
      "[1] 116\n"
     ]
    },
    {
     "name": "stderr",
     "output_type": "stream",
     "text": [
      "Output contains all clonotypes\n",
      "list of samples to track clones: \n"
     ]
    },
    {
     "name": "stdout",
     "output_type": "stream",
     "text": [
      "[1] \"CHP_358-02-cfDNA\" \"CHP_358-01-cfDNA\" \"CHP_358-03-cfDNA\"\n"
     ]
    },
    {
     "name": "stderr",
     "output_type": "stream",
     "text": [
      "Total number of recurring clonotypes: \n"
     ]
    },
    {
     "name": "stdout",
     "output_type": "stream",
     "text": [
      "[1] 0\n"
     ]
    },
    {
     "name": "stderr",
     "output_type": "stream",
     "text": [
      "these are what we color: \n"
     ]
    },
    {
     "name": "stdout",
     "output_type": "stream",
     "text": [
      "named character(0)\n",
      "[1] \"359\"\n"
     ]
    },
    {
     "name": "stderr",
     "output_type": "stream",
     "text": [
      "my files:\n"
     ]
    },
    {
     "name": "stdout",
     "output_type": "stream",
     "text": [
      "[1] \"batch1_cfDNA/CLONES_TRBCHP_359-01-cfDNA_2000000.txt\"  \n",
      "[2] \"batch1_cfDNA/CLONES_TRBCHP_359-04-cfDNA_2000000.txt\"  \n",
      "[3] \"batch3a9_cfDNA/CLONES_TRBCHP_359-02_cfDNA_2000000.txt\"\n"
     ]
    },
    {
     "name": "stderr",
     "output_type": "stream",
     "text": [
      "Total recovered clonotypes:\n"
     ]
    },
    {
     "name": "stdout",
     "output_type": "stream",
     "text": [
      "[1] 76\n"
     ]
    },
    {
     "name": "stderr",
     "output_type": "stream",
     "text": [
      "Total out-of-frame clonotypes:\n"
     ]
    },
    {
     "name": "stdout",
     "output_type": "stream",
     "text": [
      "[1] 13\n"
     ]
    },
    {
     "name": "stderr",
     "output_type": "stream",
     "text": [
      "Total clonotypes with stop codon:\n"
     ]
    },
    {
     "name": "stdout",
     "output_type": "stream",
     "text": [
      "[1] 0\n"
     ]
    },
    {
     "name": "stderr",
     "output_type": "stream",
     "text": [
      "Total productive clonotypes:\n"
     ]
    },
    {
     "name": "stdout",
     "output_type": "stream",
     "text": [
      "[1] 63\n"
     ]
    },
    {
     "name": "stderr",
     "output_type": "stream",
     "text": [
      "Output contains all clonotypes\n",
      "list of samples to track clones: \n"
     ]
    },
    {
     "name": "stdout",
     "output_type": "stream",
     "text": [
      "[1] \"CHP_359-01-cfDNA\" \"CHP_359-04-cfDNA\" \"CHP_359-02-cfDNA\"\n"
     ]
    },
    {
     "name": "stderr",
     "output_type": "stream",
     "text": [
      "Total number of recurring clonotypes: \n"
     ]
    },
    {
     "name": "stdout",
     "output_type": "stream",
     "text": [
      "[1] 0\n"
     ]
    },
    {
     "name": "stderr",
     "output_type": "stream",
     "text": [
      "these are what we color: \n"
     ]
    },
    {
     "name": "stdout",
     "output_type": "stream",
     "text": [
      "named character(0)\n",
      "[1] \"361\"\n"
     ]
    },
    {
     "name": "stderr",
     "output_type": "stream",
     "text": [
      "my files:\n"
     ]
    },
    {
     "name": "stdout",
     "output_type": "stream",
     "text": [
      "[1] \"batch10_cfDNA/CLONES_TRBCHP_361-02_cfDNA_2000000.txt\"\n",
      "[2] \"batch5_cfDNA/CLONES_TRBCHP_361-01_cfDNA_2000000.txt\" \n",
      "[3] \"batch5_cfDNA/CLONES_TRBCHP_361-03_cfDNA_2000000.txt\" \n",
      "[4] \"batch5_cfDNA/CLONES_TRBCHP_361-05_cfDNA_2000000.txt\" \n"
     ]
    },
    {
     "name": "stderr",
     "output_type": "stream",
     "text": [
      "Total recovered clonotypes:\n"
     ]
    },
    {
     "name": "stdout",
     "output_type": "stream",
     "text": [
      "[1] 108\n"
     ]
    },
    {
     "name": "stderr",
     "output_type": "stream",
     "text": [
      "Total out-of-frame clonotypes:\n"
     ]
    },
    {
     "name": "stdout",
     "output_type": "stream",
     "text": [
      "[1] 29\n"
     ]
    },
    {
     "name": "stderr",
     "output_type": "stream",
     "text": [
      "Total clonotypes with stop codon:\n"
     ]
    },
    {
     "name": "stdout",
     "output_type": "stream",
     "text": [
      "[1] 5\n"
     ]
    },
    {
     "name": "stderr",
     "output_type": "stream",
     "text": [
      "Total productive clonotypes:\n"
     ]
    },
    {
     "name": "stdout",
     "output_type": "stream",
     "text": [
      "[1] 74\n"
     ]
    },
    {
     "name": "stderr",
     "output_type": "stream",
     "text": [
      "Output contains all clonotypes\n",
      "list of samples to track clones: \n"
     ]
    },
    {
     "name": "stdout",
     "output_type": "stream",
     "text": [
      "[1] \"CHP_361-02-cfDNA\" \"CHP_361-01-cfDNA\" \"CHP_361-03-cfDNA\" \"CHP_361-05-cfDNA\"\n"
     ]
    },
    {
     "name": "stderr",
     "output_type": "stream",
     "text": [
      "Total number of recurring clonotypes: \n"
     ]
    },
    {
     "name": "stdout",
     "output_type": "stream",
     "text": [
      "[1] 0\n"
     ]
    },
    {
     "name": "stderr",
     "output_type": "stream",
     "text": [
      "these are what we color: \n"
     ]
    },
    {
     "name": "stdout",
     "output_type": "stream",
     "text": [
      "named character(0)\n",
      "[1] \"366\"\n"
     ]
    },
    {
     "name": "stderr",
     "output_type": "stream",
     "text": [
      "my files:\n"
     ]
    },
    {
     "name": "stdout",
     "output_type": "stream",
     "text": [
      "[1] \"batch1_cfDNA/CLONES_TRBCHP_366-02-cfDNA_2000000.txt\"  \n",
      "[2] \"batch10_cfDNA/CLONES_TRBCHP_366-04_cfDNA_2000000.txt\" \n",
      "[3] \"batch3a9_cfDNA/CLONES_TRBCHP_366-01_cfDNA_2000000.txt\"\n",
      "[4] \"batch5_cfDNA/CLONES_TRBCHP_366-05_cfDNA_2000000.txt\"  \n"
     ]
    },
    {
     "name": "stderr",
     "output_type": "stream",
     "text": [
      "Total recovered clonotypes:\n"
     ]
    },
    {
     "name": "stdout",
     "output_type": "stream",
     "text": [
      "[1] 41\n"
     ]
    },
    {
     "name": "stderr",
     "output_type": "stream",
     "text": [
      "Total out-of-frame clonotypes:\n"
     ]
    },
    {
     "name": "stdout",
     "output_type": "stream",
     "text": [
      "[1] 17\n"
     ]
    },
    {
     "name": "stderr",
     "output_type": "stream",
     "text": [
      "Total clonotypes with stop codon:\n"
     ]
    },
    {
     "name": "stdout",
     "output_type": "stream",
     "text": [
      "[1] 1\n"
     ]
    },
    {
     "name": "stderr",
     "output_type": "stream",
     "text": [
      "Total productive clonotypes:\n"
     ]
    },
    {
     "name": "stdout",
     "output_type": "stream",
     "text": [
      "[1] 23\n"
     ]
    },
    {
     "name": "stderr",
     "output_type": "stream",
     "text": [
      "Output contains all clonotypes\n",
      "list of samples to track clones: \n"
     ]
    },
    {
     "name": "stdout",
     "output_type": "stream",
     "text": [
      "[1] \"CHP_366-02-cfDNA\" \"CHP_366-04-cfDNA\" \"CHP_366-01-cfDNA\" \"CHP_366-05-cfDNA\"\n"
     ]
    },
    {
     "name": "stderr",
     "output_type": "stream",
     "text": [
      "Total number of recurring clonotypes: \n"
     ]
    },
    {
     "name": "stdout",
     "output_type": "stream",
     "text": [
      "[1] 0\n"
     ]
    },
    {
     "name": "stderr",
     "output_type": "stream",
     "text": [
      "these are what we color: \n"
     ]
    },
    {
     "name": "stdout",
     "output_type": "stream",
     "text": [
      "named character(0)\n",
      "[1] \"368\"\n"
     ]
    },
    {
     "name": "stderr",
     "output_type": "stream",
     "text": [
      "my files:\n"
     ]
    },
    {
     "name": "stdout",
     "output_type": "stream",
     "text": [
      "[1] \"batch1_cfDNA/CLONES_TRBCHP_368-05-cfDNA_2000000.txt\"  \n",
      "[2] \"batch3a9_cfDNA/CLONES_TRBCHP_368-02_cfDNA_2000000.txt\"\n",
      "[3] \"batch5_cfDNA/CLONES_TRBCHP_368-01_cfDNA_2000000.txt\"  \n"
     ]
    },
    {
     "name": "stderr",
     "output_type": "stream",
     "text": [
      "Total recovered clonotypes:\n"
     ]
    },
    {
     "name": "stdout",
     "output_type": "stream",
     "text": [
      "[1] 37\n"
     ]
    },
    {
     "name": "stderr",
     "output_type": "stream",
     "text": [
      "Total out-of-frame clonotypes:\n"
     ]
    },
    {
     "name": "stdout",
     "output_type": "stream",
     "text": [
      "[1] 7\n"
     ]
    },
    {
     "name": "stderr",
     "output_type": "stream",
     "text": [
      "Total clonotypes with stop codon:\n"
     ]
    },
    {
     "name": "stdout",
     "output_type": "stream",
     "text": [
      "[1] 1\n"
     ]
    },
    {
     "name": "stderr",
     "output_type": "stream",
     "text": [
      "Total productive clonotypes:\n"
     ]
    },
    {
     "name": "stdout",
     "output_type": "stream",
     "text": [
      "[1] 29\n"
     ]
    },
    {
     "name": "stderr",
     "output_type": "stream",
     "text": [
      "Output contains all clonotypes\n",
      "list of samples to track clones: \n"
     ]
    },
    {
     "name": "stdout",
     "output_type": "stream",
     "text": [
      "[1] \"CHP_368-05-cfDNA\" \"CHP_368-02-cfDNA\" \"CHP_368-01-cfDNA\"\n"
     ]
    },
    {
     "name": "stderr",
     "output_type": "stream",
     "text": [
      "Total number of recurring clonotypes: \n"
     ]
    },
    {
     "name": "stdout",
     "output_type": "stream",
     "text": [
      "[1] 0\n"
     ]
    },
    {
     "name": "stderr",
     "output_type": "stream",
     "text": [
      "these are what we color: \n"
     ]
    },
    {
     "name": "stdout",
     "output_type": "stream",
     "text": [
      "named character(0)\n",
      "[1] \"371\"\n"
     ]
    },
    {
     "name": "stderr",
     "output_type": "stream",
     "text": [
      "my files:\n"
     ]
    },
    {
     "name": "stdout",
     "output_type": "stream",
     "text": [
      "[1] \"batch1_cfDNA/CLONES_TRBCHP_371-01-cfDNA_2000000.txt\"  \n",
      "[2] \"batch1_cfDNA/CLONES_TRBCHP_371-03-cfDNA_2000000.txt\"  \n",
      "[3] \"batch3a9_cfDNA/CLONES_TRBCHP_371-04_cfDNA_2000000.txt\"\n"
     ]
    },
    {
     "name": "stderr",
     "output_type": "stream",
     "text": [
      "Total recovered clonotypes:\n"
     ]
    },
    {
     "name": "stdout",
     "output_type": "stream",
     "text": [
      "[1] 15\n"
     ]
    },
    {
     "name": "stderr",
     "output_type": "stream",
     "text": [
      "Total out-of-frame clonotypes:\n"
     ]
    },
    {
     "name": "stdout",
     "output_type": "stream",
     "text": [
      "[1] 6\n"
     ]
    },
    {
     "name": "stderr",
     "output_type": "stream",
     "text": [
      "Total clonotypes with stop codon:\n"
     ]
    },
    {
     "name": "stdout",
     "output_type": "stream",
     "text": [
      "[1] 0\n"
     ]
    },
    {
     "name": "stderr",
     "output_type": "stream",
     "text": [
      "Total productive clonotypes:\n"
     ]
    },
    {
     "name": "stdout",
     "output_type": "stream",
     "text": [
      "[1] 9\n"
     ]
    },
    {
     "name": "stderr",
     "output_type": "stream",
     "text": [
      "Output contains all clonotypes\n",
      "list of samples to track clones: \n"
     ]
    },
    {
     "name": "stdout",
     "output_type": "stream",
     "text": [
      "[1] \"CHP_371-01-cfDNA\" \"CHP_371-03-cfDNA\" \"CHP_371-04-cfDNA\"\n"
     ]
    },
    {
     "name": "stderr",
     "output_type": "stream",
     "text": [
      "Total number of recurring clonotypes: \n"
     ]
    },
    {
     "name": "stdout",
     "output_type": "stream",
     "text": [
      "[1] 0\n"
     ]
    },
    {
     "name": "stderr",
     "output_type": "stream",
     "text": [
      "these are what we color: \n"
     ]
    },
    {
     "name": "stdout",
     "output_type": "stream",
     "text": [
      "named character(0)\n",
      "[1] \"385\"\n"
     ]
    },
    {
     "name": "stderr",
     "output_type": "stream",
     "text": [
      "my files:\n"
     ]
    },
    {
     "name": "stdout",
     "output_type": "stream",
     "text": [
      "[1] \"batch7_cfDNA/CLONES_TRBCHP_385-01_cfDNA_2000000.txt\"\n",
      "[2] \"batch7_cfDNA/CLONES_TRBCHP_385-02_cfDNA_2000000.txt\"\n",
      "[3] \"batch7_cfDNA/CLONES_TRBCHP_385-03_cfDNA_2000000.txt\"\n"
     ]
    },
    {
     "name": "stderr",
     "output_type": "stream",
     "text": [
      "Total recovered clonotypes:\n"
     ]
    },
    {
     "name": "stdout",
     "output_type": "stream",
     "text": [
      "[1] 9\n"
     ]
    },
    {
     "name": "stderr",
     "output_type": "stream",
     "text": [
      "Total out-of-frame clonotypes:\n"
     ]
    },
    {
     "name": "stdout",
     "output_type": "stream",
     "text": [
      "[1] 4\n"
     ]
    },
    {
     "name": "stderr",
     "output_type": "stream",
     "text": [
      "Total clonotypes with stop codon:\n"
     ]
    },
    {
     "name": "stdout",
     "output_type": "stream",
     "text": [
      "[1] 0\n"
     ]
    },
    {
     "name": "stderr",
     "output_type": "stream",
     "text": [
      "Total productive clonotypes:\n"
     ]
    },
    {
     "name": "stdout",
     "output_type": "stream",
     "text": [
      "[1] 5\n"
     ]
    },
    {
     "name": "stderr",
     "output_type": "stream",
     "text": [
      "Output contains all clonotypes\n",
      "list of samples to track clones: \n"
     ]
    },
    {
     "name": "stdout",
     "output_type": "stream",
     "text": [
      "[1] \"CHP_385-01-cfDNA\" \"CHP_385-02-cfDNA\" \"CHP_385-03-cfDNA\"\n"
     ]
    },
    {
     "name": "stderr",
     "output_type": "stream",
     "text": [
      "Total number of recurring clonotypes: \n"
     ]
    },
    {
     "name": "stdout",
     "output_type": "stream",
     "text": [
      "[1] 1\n"
     ]
    },
    {
     "name": "stderr",
     "output_type": "stream",
     "text": [
      "these are what we color: \n"
     ]
    },
    {
     "name": "stdout",
     "output_type": "stream",
     "text": [
      "CASSLDTV*QRLGGF_SGPGRLCSGNTIYF \n",
      "                     \"#BDB3B1\" \n"
     ]
    }
   ],
   "source": [
    "for(pt in ptlist_cfdna$Var1[ptlist_cfdna$Freq > 2]){\n",
    "    print(pt)\n",
    "    tmp <- ds_flelst_chp_cfDNA[grepl(pt, ds_flelst_chp_cfDNA)]\n",
    "    cdr3df <- cdr3_dataframe.fx(datapath, \"TRB\", tmp, \"total\")\n",
    "    cdr3df$samplename <- gsub(\"-cfDNA.*\", \"-cfDNA\", cdr3df$samplename)\n",
    "    cdr3df$samplename <- gsub(\"_cfDNA.*\", \"-cfDNA\", cdr3df$samplename)\n",
    "    cdr3df$samplename <- gsub(\"TRB\", \"\", cdr3df$samplename)\n",
    "    plot_clonetracks.fx(cdr3df, plotpath, \"TRB\", \"cloneCount\", 0)\n",
    "}"
   ]
  },
  {
   "cell_type": "markdown",
   "metadata": {},
   "source": [
    "## PBMCs and cfDNA"
   ]
  },
  {
   "cell_type": "code",
   "execution_count": 27,
   "metadata": {},
   "outputs": [],
   "source": [
    "manifest_cfdna_pbmc <- merge(manifest_df_cfdna, manifest_df, by = c(\"patient\", \"cycle\"))"
   ]
  },
  {
   "cell_type": "code",
   "execution_count": 28,
   "metadata": {
    "scrolled": false
   },
   "outputs": [
    {
     "data": {
      "text/html": [
       "<table>\n",
       "<caption>A data.frame: 57 × 4</caption>\n",
       "<thead>\n",
       "\t<tr><th scope=col>patient</th><th scope=col>cycle</th><th scope=col>filename.x</th><th scope=col>filename.y</th></tr>\n",
       "\t<tr><th scope=col>&lt;chr&gt;</th><th scope=col>&lt;chr&gt;</th><th scope=col>&lt;chr&gt;</th><th scope=col>&lt;chr&gt;</th></tr>\n",
       "</thead>\n",
       "<tbody>\n",
       "\t<tr><td>323</td><td>03</td><td>CLONES_TRBCHP_323-03_cfDNA_2000000.txt</td><td>CLONES_TRBCHP_323-03-PBMC-DNA_2000000.txt</td></tr>\n",
       "\t<tr><td>338</td><td>03</td><td>CLONES_TRBCHP_338-03_cfDNA_2000000.txt</td><td>CLONES_TRBCHP_338-03-PBMC-DNA_2000000.txt</td></tr>\n",
       "\t<tr><td>339</td><td>03</td><td>CLONES_TRBCHP_339-03_cfDNA_2000000.txt</td><td>CLONES_TRBCHP_339-03-PBMC-DNA_2000000.txt</td></tr>\n",
       "\t<tr><td>340</td><td>03</td><td>CLONES_TRBCHP_340-03_cfDNA_2000000.txt</td><td>CLONES_TRBCHP_340-03-PBMC-DNA_2000000.txt</td></tr>\n",
       "\t<tr><td>344</td><td>02</td><td>CLONES_TRBCHP_344-02_cfDNA_2000000.txt</td><td>CLONES_TRBCHP_344-02-PBMC-DNA_2000000.txt</td></tr>\n",
       "\t<tr><td>344</td><td>04</td><td>CLONES_TRBCHP_344-04_cfDNA_2000000.txt</td><td>CLONES_TRBCHP_344-04-PBMC-DNA_2000000.txt</td></tr>\n",
       "\t<tr><td>344</td><td>05</td><td>CLONES_TRBCHP_344-05_cfDNA_2000000.txt</td><td>CLONES_TRBCHP_344-05-PBMC-DNA_2000000.txt</td></tr>\n",
       "\t<tr><td>345</td><td>02</td><td>CLONES_TRBCHP_345-02_cfDNA_2000000.txt</td><td>CLONES_TRBCHP_345-02-PBMC-DNA_2000000.txt</td></tr>\n",
       "\t<tr><td>347</td><td>01</td><td>CLONES_TRBCHP_347-01-cfDNA_2000000.txt</td><td>CLONES_TRBCHP_347-01-PBMC-DNA_2000000.txt</td></tr>\n",
       "\t<tr><td>347</td><td>02</td><td>CLONES_TRBCHP_347-02_cfDNA_2000000.txt</td><td>CLONES_TRBCHP_347-02-PBMC-DNA_2000000.txt</td></tr>\n",
       "\t<tr><td>347</td><td>04</td><td>CLONES_TRBCHP_347-04_cfDNA_2000000.txt</td><td>CLONES_TRBCHP_347-04-PBMC-DNA_2000000.txt</td></tr>\n",
       "\t<tr><td>351</td><td>04</td><td>CLONES_TRBCHP_351-04_cfDNA_2000000.txt</td><td>CLONES_TRBCHP_351-04-PBMC-DNA_2000000.txt</td></tr>\n",
       "\t<tr><td>353</td><td>01</td><td>CLONES_TRBCHP_353-01-cfDNA_2000000.txt</td><td>CLONES_TRBCHP_353-01-PBMC-DNA_2000000.txt</td></tr>\n",
       "\t<tr><td>353</td><td>02</td><td>CLONES_TRBCHP_353-02_cfDNA_2000000.txt</td><td>CLONES_TRBCHP_353-02-PBMC-DNA_2000000.txt</td></tr>\n",
       "\t<tr><td>353</td><td>05</td><td>CLONES_TRBCHP_353-05_cfDNA_2000000.txt</td><td>CLONES_TRBCHP_353-05-PBMC-DNA_2000000.txt</td></tr>\n",
       "\t<tr><td>355</td><td>01</td><td>CLONES_TRBCHP_355-01-cfDNA_2000000.txt</td><td>CLONES_TRBCHP_355-01-PBMC-DNA_2000000.txt</td></tr>\n",
       "\t<tr><td>356</td><td>02</td><td>CLONES_TRBCHP_356-02-cfDNA_2000000.txt</td><td>CLONES_TRBCHP_356-02-PBMC-DNA_2000000.txt</td></tr>\n",
       "\t<tr><td>357</td><td>01</td><td>CLONES_TRBCHP_357-01_cfDNA_2000000.txt</td><td>CLONES_TRBCHP_357-01-PBMC-DNA_2000000.txt</td></tr>\n",
       "\t<tr><td>357</td><td>03</td><td>CLONES_TRBCHP_357-03-cfDNA_2000000.txt</td><td>CLONES_TRBCHP_357-03-PBMC-DNA_2000000.txt</td></tr>\n",
       "\t<tr><td>357</td><td>04</td><td>CLONES_TRBCHP_357-04_cfDNA_2000000.txt</td><td>CLONES_TRBCHP_357-04-PBMC-DNA_2000000.txt</td></tr>\n",
       "\t<tr><td>358</td><td>01</td><td>CLONES_TRBCHP_358-01_cfDNA_2000000.txt</td><td>CLONES_TRBCHP_358-01-PBMC-DNA_2000000.txt</td></tr>\n",
       "\t<tr><td>358</td><td>02</td><td>CLONES_TRBCHP_358-02_cfDNA_2000000.txt</td><td>CLONES_TRBCHP_358-02-PBMC-DNA_2000000.txt</td></tr>\n",
       "\t<tr><td>358</td><td>03</td><td>CLONES_TRBCHP_358-03_cfDNA_2000000.txt</td><td>CLONES_TRBCHP_358-03-PBMC-DNA_2000000.txt</td></tr>\n",
       "\t<tr><td>359</td><td>01</td><td>CLONES_TRBCHP_359-01-cfDNA_2000000.txt</td><td>CLONES_TRBCHP_359-01-PBMC-DNA_2000000.txt</td></tr>\n",
       "\t<tr><td>359</td><td>02</td><td>CLONES_TRBCHP_359-02_cfDNA_2000000.txt</td><td>CLONES_TRBCHP_359-02-PBMC-DNA_2000000.txt</td></tr>\n",
       "\t<tr><td>359</td><td>04</td><td>CLONES_TRBCHP_359-04-cfDNA_2000000.txt</td><td>CLONES_TRBCHP_359-04-PBMC-DNA_2000000.txt</td></tr>\n",
       "\t<tr><td>360</td><td>02</td><td>CLONES_TRBCHP_360-02-cfDNA_2000000.txt</td><td>CLONES_TRBCHP_360-02-PBMC-DNA_2000000.txt</td></tr>\n",
       "\t<tr><td>361</td><td>01</td><td>CLONES_TRBCHP_361-01_cfDNA_2000000.txt</td><td>CLONES_TRBCHP_361-01-PBMC-DNA_2000000.txt</td></tr>\n",
       "\t<tr><td>361</td><td>02</td><td>CLONES_TRBCHP_361-02_cfDNA_2000000.txt</td><td>CLONES_TRBCHP_361-02-PBMC-DNA_2000000.txt</td></tr>\n",
       "\t<tr><td>361</td><td>03</td><td>CLONES_TRBCHP_361-03_cfDNA_2000000.txt</td><td>CLONES_TRBCHP_361-03-PBMC-DNA_2000000.txt</td></tr>\n",
       "\t<tr><td>362</td><td>03</td><td>CLONES_TRBCHP_362-03_cfDNA_2000000.txt</td><td>CLONES_TRBCHP_362-03-PBMC-DNA_2000000.txt</td></tr>\n",
       "\t<tr><td>362</td><td>04</td><td>CLONES_TRBCHP_362-04_cfDNA_2000000.txt</td><td>CLONES_TRBCHP_362-04-PBMC-DNA_2000000.txt</td></tr>\n",
       "\t<tr><td>363</td><td>02</td><td>CLONES_TRBCHP_363-02_cfDNA_2000000.txt</td><td>CLONES_TRBCHP_363-02-PBMC-DNA_2000000.txt</td></tr>\n",
       "\t<tr><td>364</td><td>02</td><td>CLONES_TRBCHP_364-02_cfDNA_2000000.txt</td><td>CLONES_TRBCHP_364-02-PBMC-DNA_2000000.txt</td></tr>\n",
       "\t<tr><td>366</td><td>01</td><td>CLONES_TRBCHP_366-01_cfDNA_2000000.txt</td><td>CLONES_TRBCHP_366-01-PBMC-DNA_2000000.txt</td></tr>\n",
       "\t<tr><td>368</td><td>01</td><td>CLONES_TRBCHP_368-01_cfDNA_2000000.txt</td><td>CLONES_TRBCHP_368-01-PBMC-DNA_2000000.txt</td></tr>\n",
       "\t<tr><td>368</td><td>05</td><td>CLONES_TRBCHP_368-05-cfDNA_2000000.txt</td><td>CLONES_TRBCHP_368-05-PBMC-DNA_2000000.txt</td></tr>\n",
       "\t<tr><td>369</td><td>02</td><td>CLONES_TRBCHP_369-02_cfDNA_2000000.txt</td><td>CLONES_TRBCHP_369-02-PBMC-DNA_2000000.txt</td></tr>\n",
       "\t<tr><td>370</td><td>01</td><td>CLONES_TRBCHP_370-01-cfDNA_2000000.txt</td><td>CLONES_TRBCHP_370-01-PBMC-DNA_2000000.txt</td></tr>\n",
       "\t<tr><td>370</td><td>03</td><td>CLONES_TRBCHP_370-03_cfDNA_2000000.txt</td><td>CLONES_TRBCHP_370-03-PBMC-DNA_2000000.txt</td></tr>\n",
       "\t<tr><td>372</td><td>01</td><td>CLONES_TRBCHP_372-01-cfDNA_2000000.txt</td><td>CLONES_TRBCHP_372-01-PBMC-DNA_2000000.txt</td></tr>\n",
       "\t<tr><td>373</td><td>01</td><td>CLONES_TRBCHP_373-01-cfDNA_2000000.txt</td><td>CLONES_TRBCHP_373-01-PBMC-DNA_2000000.txt</td></tr>\n",
       "\t<tr><td>373</td><td>02</td><td>CLONES_TRBCHP_373-02_cfDNA_2000000.txt</td><td>CLONES_TRBCHP_373-02-PBMC-DNA_2000000.txt</td></tr>\n",
       "\t<tr><td>374</td><td>04</td><td>CLONES_TRBCHP_374-04-cfDNA_2000000.txt</td><td>CLONES_TRBCHP_374-04-PBMC-DNA_2000000.txt</td></tr>\n",
       "\t<tr><td>374</td><td>05</td><td>CLONES_TRBCHP_374-05-cfDNA_2000000.txt</td><td>CLONES_TRBCHP_374-05-PBMC-DNA_2000000.txt</td></tr>\n",
       "\t<tr><td>375</td><td>02</td><td>CLONES_TRBCHP_375-02_cfDNA_2000000.txt</td><td>CLONES_TRBCHP_375-02-PBMC-DNA_2000000.txt</td></tr>\n",
       "\t<tr><td>377</td><td>04</td><td>CLONES_TRBCHP_377-04_cfDNA_2000000.txt</td><td>CLONES_TRBCHP_377-04_PBMC_DNA_2000000.txt</td></tr>\n",
       "\t<tr><td>381</td><td>02</td><td>CLONES_TRBCHP_381-02_cfDNA_2000000.txt</td><td>CLONES_TRBCHP_381-02-PBMC-DNA_2000000.txt</td></tr>\n",
       "\t<tr><td>385</td><td>03</td><td>CLONES_TRBCHP_385-03_cfDNA_2000000.txt</td><td>CLONES_TRBCHP_385-03-PBMC-DNA_2000000.txt</td></tr>\n",
       "\t<tr><td>387</td><td>01</td><td>CLONES_TRBCHP_387-01_cfDNA_2000000.txt</td><td>CLONES_TRBCHP_387-01-PBMC-DNA_2000000.txt</td></tr>\n",
       "\t<tr><td>391</td><td>02</td><td>CLONES_TRBCHP_391-02_cfDNA_2000000.txt</td><td>CLONES_TRBCHP_391-02_PBMC_DNA_2000000.txt</td></tr>\n",
       "\t<tr><td>394</td><td>01</td><td>CLONES_TRBCHP_394-01_cfDNA_2000000.txt</td><td>CLONES_TRBCHP_394-01-PBMC-DNA_2000000.txt</td></tr>\n",
       "\t<tr><td>396</td><td>01</td><td>CLONES_TRBCHP_396-01_cfDNA_2000000.txt</td><td>CLONES_TRBCHP_396-01-PBMC-DNA_2000000.txt</td></tr>\n",
       "\t<tr><td>397</td><td>01</td><td>CLONES_TRBCHP_397-01_cfDNA_2000000.txt</td><td>CLONES_TRBCHP_397-01-PBMC-DNA_2000000.txt</td></tr>\n",
       "\t<tr><td>397</td><td>02</td><td>CLONES_TRBCHP_397-02_cfDNA_2000000.txt</td><td>CLONES_TRBCHP_397-02_PBMC_DNA_2000000.txt</td></tr>\n",
       "\t<tr><td>399</td><td>01</td><td>CLONES_TRBCHP_399-01_cfDNA_2000000.txt</td><td>CLONES_TRBCHP_399-01-PBMC-DNA_2000000.txt</td></tr>\n",
       "\t<tr><td>405</td><td>01</td><td>CLONES_TRBCHP_405-01_cfDNA_2000000.txt</td><td>CLONES_TRBCHP_405-01_PBMC_DNA_2000000.txt</td></tr>\n",
       "</tbody>\n",
       "</table>\n"
      ],
      "text/latex": [
       "A data.frame: 57 × 4\n",
       "\\begin{tabular}{r|llll}\n",
       " patient & cycle & filename.x & filename.y\\\\\n",
       " <chr> & <chr> & <chr> & <chr>\\\\\n",
       "\\hline\n",
       "\t 323 & 03 & CLONES\\_TRBCHP\\_323-03\\_cfDNA\\_2000000.txt & CLONES\\_TRBCHP\\_323-03-PBMC-DNA\\_2000000.txt\\\\\n",
       "\t 338 & 03 & CLONES\\_TRBCHP\\_338-03\\_cfDNA\\_2000000.txt & CLONES\\_TRBCHP\\_338-03-PBMC-DNA\\_2000000.txt\\\\\n",
       "\t 339 & 03 & CLONES\\_TRBCHP\\_339-03\\_cfDNA\\_2000000.txt & CLONES\\_TRBCHP\\_339-03-PBMC-DNA\\_2000000.txt\\\\\n",
       "\t 340 & 03 & CLONES\\_TRBCHP\\_340-03\\_cfDNA\\_2000000.txt & CLONES\\_TRBCHP\\_340-03-PBMC-DNA\\_2000000.txt\\\\\n",
       "\t 344 & 02 & CLONES\\_TRBCHP\\_344-02\\_cfDNA\\_2000000.txt & CLONES\\_TRBCHP\\_344-02-PBMC-DNA\\_2000000.txt\\\\\n",
       "\t 344 & 04 & CLONES\\_TRBCHP\\_344-04\\_cfDNA\\_2000000.txt & CLONES\\_TRBCHP\\_344-04-PBMC-DNA\\_2000000.txt\\\\\n",
       "\t 344 & 05 & CLONES\\_TRBCHP\\_344-05\\_cfDNA\\_2000000.txt & CLONES\\_TRBCHP\\_344-05-PBMC-DNA\\_2000000.txt\\\\\n",
       "\t 345 & 02 & CLONES\\_TRBCHP\\_345-02\\_cfDNA\\_2000000.txt & CLONES\\_TRBCHP\\_345-02-PBMC-DNA\\_2000000.txt\\\\\n",
       "\t 347 & 01 & CLONES\\_TRBCHP\\_347-01-cfDNA\\_2000000.txt & CLONES\\_TRBCHP\\_347-01-PBMC-DNA\\_2000000.txt\\\\\n",
       "\t 347 & 02 & CLONES\\_TRBCHP\\_347-02\\_cfDNA\\_2000000.txt & CLONES\\_TRBCHP\\_347-02-PBMC-DNA\\_2000000.txt\\\\\n",
       "\t 347 & 04 & CLONES\\_TRBCHP\\_347-04\\_cfDNA\\_2000000.txt & CLONES\\_TRBCHP\\_347-04-PBMC-DNA\\_2000000.txt\\\\\n",
       "\t 351 & 04 & CLONES\\_TRBCHP\\_351-04\\_cfDNA\\_2000000.txt & CLONES\\_TRBCHP\\_351-04-PBMC-DNA\\_2000000.txt\\\\\n",
       "\t 353 & 01 & CLONES\\_TRBCHP\\_353-01-cfDNA\\_2000000.txt & CLONES\\_TRBCHP\\_353-01-PBMC-DNA\\_2000000.txt\\\\\n",
       "\t 353 & 02 & CLONES\\_TRBCHP\\_353-02\\_cfDNA\\_2000000.txt & CLONES\\_TRBCHP\\_353-02-PBMC-DNA\\_2000000.txt\\\\\n",
       "\t 353 & 05 & CLONES\\_TRBCHP\\_353-05\\_cfDNA\\_2000000.txt & CLONES\\_TRBCHP\\_353-05-PBMC-DNA\\_2000000.txt\\\\\n",
       "\t 355 & 01 & CLONES\\_TRBCHP\\_355-01-cfDNA\\_2000000.txt & CLONES\\_TRBCHP\\_355-01-PBMC-DNA\\_2000000.txt\\\\\n",
       "\t 356 & 02 & CLONES\\_TRBCHP\\_356-02-cfDNA\\_2000000.txt & CLONES\\_TRBCHP\\_356-02-PBMC-DNA\\_2000000.txt\\\\\n",
       "\t 357 & 01 & CLONES\\_TRBCHP\\_357-01\\_cfDNA\\_2000000.txt & CLONES\\_TRBCHP\\_357-01-PBMC-DNA\\_2000000.txt\\\\\n",
       "\t 357 & 03 & CLONES\\_TRBCHP\\_357-03-cfDNA\\_2000000.txt & CLONES\\_TRBCHP\\_357-03-PBMC-DNA\\_2000000.txt\\\\\n",
       "\t 357 & 04 & CLONES\\_TRBCHP\\_357-04\\_cfDNA\\_2000000.txt & CLONES\\_TRBCHP\\_357-04-PBMC-DNA\\_2000000.txt\\\\\n",
       "\t 358 & 01 & CLONES\\_TRBCHP\\_358-01\\_cfDNA\\_2000000.txt & CLONES\\_TRBCHP\\_358-01-PBMC-DNA\\_2000000.txt\\\\\n",
       "\t 358 & 02 & CLONES\\_TRBCHP\\_358-02\\_cfDNA\\_2000000.txt & CLONES\\_TRBCHP\\_358-02-PBMC-DNA\\_2000000.txt\\\\\n",
       "\t 358 & 03 & CLONES\\_TRBCHP\\_358-03\\_cfDNA\\_2000000.txt & CLONES\\_TRBCHP\\_358-03-PBMC-DNA\\_2000000.txt\\\\\n",
       "\t 359 & 01 & CLONES\\_TRBCHP\\_359-01-cfDNA\\_2000000.txt & CLONES\\_TRBCHP\\_359-01-PBMC-DNA\\_2000000.txt\\\\\n",
       "\t 359 & 02 & CLONES\\_TRBCHP\\_359-02\\_cfDNA\\_2000000.txt & CLONES\\_TRBCHP\\_359-02-PBMC-DNA\\_2000000.txt\\\\\n",
       "\t 359 & 04 & CLONES\\_TRBCHP\\_359-04-cfDNA\\_2000000.txt & CLONES\\_TRBCHP\\_359-04-PBMC-DNA\\_2000000.txt\\\\\n",
       "\t 360 & 02 & CLONES\\_TRBCHP\\_360-02-cfDNA\\_2000000.txt & CLONES\\_TRBCHP\\_360-02-PBMC-DNA\\_2000000.txt\\\\\n",
       "\t 361 & 01 & CLONES\\_TRBCHP\\_361-01\\_cfDNA\\_2000000.txt & CLONES\\_TRBCHP\\_361-01-PBMC-DNA\\_2000000.txt\\\\\n",
       "\t 361 & 02 & CLONES\\_TRBCHP\\_361-02\\_cfDNA\\_2000000.txt & CLONES\\_TRBCHP\\_361-02-PBMC-DNA\\_2000000.txt\\\\\n",
       "\t 361 & 03 & CLONES\\_TRBCHP\\_361-03\\_cfDNA\\_2000000.txt & CLONES\\_TRBCHP\\_361-03-PBMC-DNA\\_2000000.txt\\\\\n",
       "\t 362 & 03 & CLONES\\_TRBCHP\\_362-03\\_cfDNA\\_2000000.txt & CLONES\\_TRBCHP\\_362-03-PBMC-DNA\\_2000000.txt\\\\\n",
       "\t 362 & 04 & CLONES\\_TRBCHP\\_362-04\\_cfDNA\\_2000000.txt & CLONES\\_TRBCHP\\_362-04-PBMC-DNA\\_2000000.txt\\\\\n",
       "\t 363 & 02 & CLONES\\_TRBCHP\\_363-02\\_cfDNA\\_2000000.txt & CLONES\\_TRBCHP\\_363-02-PBMC-DNA\\_2000000.txt\\\\\n",
       "\t 364 & 02 & CLONES\\_TRBCHP\\_364-02\\_cfDNA\\_2000000.txt & CLONES\\_TRBCHP\\_364-02-PBMC-DNA\\_2000000.txt\\\\\n",
       "\t 366 & 01 & CLONES\\_TRBCHP\\_366-01\\_cfDNA\\_2000000.txt & CLONES\\_TRBCHP\\_366-01-PBMC-DNA\\_2000000.txt\\\\\n",
       "\t 368 & 01 & CLONES\\_TRBCHP\\_368-01\\_cfDNA\\_2000000.txt & CLONES\\_TRBCHP\\_368-01-PBMC-DNA\\_2000000.txt\\\\\n",
       "\t 368 & 05 & CLONES\\_TRBCHP\\_368-05-cfDNA\\_2000000.txt & CLONES\\_TRBCHP\\_368-05-PBMC-DNA\\_2000000.txt\\\\\n",
       "\t 369 & 02 & CLONES\\_TRBCHP\\_369-02\\_cfDNA\\_2000000.txt & CLONES\\_TRBCHP\\_369-02-PBMC-DNA\\_2000000.txt\\\\\n",
       "\t 370 & 01 & CLONES\\_TRBCHP\\_370-01-cfDNA\\_2000000.txt & CLONES\\_TRBCHP\\_370-01-PBMC-DNA\\_2000000.txt\\\\\n",
       "\t 370 & 03 & CLONES\\_TRBCHP\\_370-03\\_cfDNA\\_2000000.txt & CLONES\\_TRBCHP\\_370-03-PBMC-DNA\\_2000000.txt\\\\\n",
       "\t 372 & 01 & CLONES\\_TRBCHP\\_372-01-cfDNA\\_2000000.txt & CLONES\\_TRBCHP\\_372-01-PBMC-DNA\\_2000000.txt\\\\\n",
       "\t 373 & 01 & CLONES\\_TRBCHP\\_373-01-cfDNA\\_2000000.txt & CLONES\\_TRBCHP\\_373-01-PBMC-DNA\\_2000000.txt\\\\\n",
       "\t 373 & 02 & CLONES\\_TRBCHP\\_373-02\\_cfDNA\\_2000000.txt & CLONES\\_TRBCHP\\_373-02-PBMC-DNA\\_2000000.txt\\\\\n",
       "\t 374 & 04 & CLONES\\_TRBCHP\\_374-04-cfDNA\\_2000000.txt & CLONES\\_TRBCHP\\_374-04-PBMC-DNA\\_2000000.txt\\\\\n",
       "\t 374 & 05 & CLONES\\_TRBCHP\\_374-05-cfDNA\\_2000000.txt & CLONES\\_TRBCHP\\_374-05-PBMC-DNA\\_2000000.txt\\\\\n",
       "\t 375 & 02 & CLONES\\_TRBCHP\\_375-02\\_cfDNA\\_2000000.txt & CLONES\\_TRBCHP\\_375-02-PBMC-DNA\\_2000000.txt\\\\\n",
       "\t 377 & 04 & CLONES\\_TRBCHP\\_377-04\\_cfDNA\\_2000000.txt & CLONES\\_TRBCHP\\_377-04\\_PBMC\\_DNA\\_2000000.txt\\\\\n",
       "\t 381 & 02 & CLONES\\_TRBCHP\\_381-02\\_cfDNA\\_2000000.txt & CLONES\\_TRBCHP\\_381-02-PBMC-DNA\\_2000000.txt\\\\\n",
       "\t 385 & 03 & CLONES\\_TRBCHP\\_385-03\\_cfDNA\\_2000000.txt & CLONES\\_TRBCHP\\_385-03-PBMC-DNA\\_2000000.txt\\\\\n",
       "\t 387 & 01 & CLONES\\_TRBCHP\\_387-01\\_cfDNA\\_2000000.txt & CLONES\\_TRBCHP\\_387-01-PBMC-DNA\\_2000000.txt\\\\\n",
       "\t 391 & 02 & CLONES\\_TRBCHP\\_391-02\\_cfDNA\\_2000000.txt & CLONES\\_TRBCHP\\_391-02\\_PBMC\\_DNA\\_2000000.txt\\\\\n",
       "\t 394 & 01 & CLONES\\_TRBCHP\\_394-01\\_cfDNA\\_2000000.txt & CLONES\\_TRBCHP\\_394-01-PBMC-DNA\\_2000000.txt\\\\\n",
       "\t 396 & 01 & CLONES\\_TRBCHP\\_396-01\\_cfDNA\\_2000000.txt & CLONES\\_TRBCHP\\_396-01-PBMC-DNA\\_2000000.txt\\\\\n",
       "\t 397 & 01 & CLONES\\_TRBCHP\\_397-01\\_cfDNA\\_2000000.txt & CLONES\\_TRBCHP\\_397-01-PBMC-DNA\\_2000000.txt\\\\\n",
       "\t 397 & 02 & CLONES\\_TRBCHP\\_397-02\\_cfDNA\\_2000000.txt & CLONES\\_TRBCHP\\_397-02\\_PBMC\\_DNA\\_2000000.txt\\\\\n",
       "\t 399 & 01 & CLONES\\_TRBCHP\\_399-01\\_cfDNA\\_2000000.txt & CLONES\\_TRBCHP\\_399-01-PBMC-DNA\\_2000000.txt\\\\\n",
       "\t 405 & 01 & CLONES\\_TRBCHP\\_405-01\\_cfDNA\\_2000000.txt & CLONES\\_TRBCHP\\_405-01\\_PBMC\\_DNA\\_2000000.txt\\\\\n",
       "\\end{tabular}\n"
      ],
      "text/markdown": [
       "\n",
       "A data.frame: 57 × 4\n",
       "\n",
       "| patient &lt;chr&gt; | cycle &lt;chr&gt; | filename.x &lt;chr&gt; | filename.y &lt;chr&gt; |\n",
       "|---|---|---|---|\n",
       "| 323 | 03 | CLONES_TRBCHP_323-03_cfDNA_2000000.txt | CLONES_TRBCHP_323-03-PBMC-DNA_2000000.txt |\n",
       "| 338 | 03 | CLONES_TRBCHP_338-03_cfDNA_2000000.txt | CLONES_TRBCHP_338-03-PBMC-DNA_2000000.txt |\n",
       "| 339 | 03 | CLONES_TRBCHP_339-03_cfDNA_2000000.txt | CLONES_TRBCHP_339-03-PBMC-DNA_2000000.txt |\n",
       "| 340 | 03 | CLONES_TRBCHP_340-03_cfDNA_2000000.txt | CLONES_TRBCHP_340-03-PBMC-DNA_2000000.txt |\n",
       "| 344 | 02 | CLONES_TRBCHP_344-02_cfDNA_2000000.txt | CLONES_TRBCHP_344-02-PBMC-DNA_2000000.txt |\n",
       "| 344 | 04 | CLONES_TRBCHP_344-04_cfDNA_2000000.txt | CLONES_TRBCHP_344-04-PBMC-DNA_2000000.txt |\n",
       "| 344 | 05 | CLONES_TRBCHP_344-05_cfDNA_2000000.txt | CLONES_TRBCHP_344-05-PBMC-DNA_2000000.txt |\n",
       "| 345 | 02 | CLONES_TRBCHP_345-02_cfDNA_2000000.txt | CLONES_TRBCHP_345-02-PBMC-DNA_2000000.txt |\n",
       "| 347 | 01 | CLONES_TRBCHP_347-01-cfDNA_2000000.txt | CLONES_TRBCHP_347-01-PBMC-DNA_2000000.txt |\n",
       "| 347 | 02 | CLONES_TRBCHP_347-02_cfDNA_2000000.txt | CLONES_TRBCHP_347-02-PBMC-DNA_2000000.txt |\n",
       "| 347 | 04 | CLONES_TRBCHP_347-04_cfDNA_2000000.txt | CLONES_TRBCHP_347-04-PBMC-DNA_2000000.txt |\n",
       "| 351 | 04 | CLONES_TRBCHP_351-04_cfDNA_2000000.txt | CLONES_TRBCHP_351-04-PBMC-DNA_2000000.txt |\n",
       "| 353 | 01 | CLONES_TRBCHP_353-01-cfDNA_2000000.txt | CLONES_TRBCHP_353-01-PBMC-DNA_2000000.txt |\n",
       "| 353 | 02 | CLONES_TRBCHP_353-02_cfDNA_2000000.txt | CLONES_TRBCHP_353-02-PBMC-DNA_2000000.txt |\n",
       "| 353 | 05 | CLONES_TRBCHP_353-05_cfDNA_2000000.txt | CLONES_TRBCHP_353-05-PBMC-DNA_2000000.txt |\n",
       "| 355 | 01 | CLONES_TRBCHP_355-01-cfDNA_2000000.txt | CLONES_TRBCHP_355-01-PBMC-DNA_2000000.txt |\n",
       "| 356 | 02 | CLONES_TRBCHP_356-02-cfDNA_2000000.txt | CLONES_TRBCHP_356-02-PBMC-DNA_2000000.txt |\n",
       "| 357 | 01 | CLONES_TRBCHP_357-01_cfDNA_2000000.txt | CLONES_TRBCHP_357-01-PBMC-DNA_2000000.txt |\n",
       "| 357 | 03 | CLONES_TRBCHP_357-03-cfDNA_2000000.txt | CLONES_TRBCHP_357-03-PBMC-DNA_2000000.txt |\n",
       "| 357 | 04 | CLONES_TRBCHP_357-04_cfDNA_2000000.txt | CLONES_TRBCHP_357-04-PBMC-DNA_2000000.txt |\n",
       "| 358 | 01 | CLONES_TRBCHP_358-01_cfDNA_2000000.txt | CLONES_TRBCHP_358-01-PBMC-DNA_2000000.txt |\n",
       "| 358 | 02 | CLONES_TRBCHP_358-02_cfDNA_2000000.txt | CLONES_TRBCHP_358-02-PBMC-DNA_2000000.txt |\n",
       "| 358 | 03 | CLONES_TRBCHP_358-03_cfDNA_2000000.txt | CLONES_TRBCHP_358-03-PBMC-DNA_2000000.txt |\n",
       "| 359 | 01 | CLONES_TRBCHP_359-01-cfDNA_2000000.txt | CLONES_TRBCHP_359-01-PBMC-DNA_2000000.txt |\n",
       "| 359 | 02 | CLONES_TRBCHP_359-02_cfDNA_2000000.txt | CLONES_TRBCHP_359-02-PBMC-DNA_2000000.txt |\n",
       "| 359 | 04 | CLONES_TRBCHP_359-04-cfDNA_2000000.txt | CLONES_TRBCHP_359-04-PBMC-DNA_2000000.txt |\n",
       "| 360 | 02 | CLONES_TRBCHP_360-02-cfDNA_2000000.txt | CLONES_TRBCHP_360-02-PBMC-DNA_2000000.txt |\n",
       "| 361 | 01 | CLONES_TRBCHP_361-01_cfDNA_2000000.txt | CLONES_TRBCHP_361-01-PBMC-DNA_2000000.txt |\n",
       "| 361 | 02 | CLONES_TRBCHP_361-02_cfDNA_2000000.txt | CLONES_TRBCHP_361-02-PBMC-DNA_2000000.txt |\n",
       "| 361 | 03 | CLONES_TRBCHP_361-03_cfDNA_2000000.txt | CLONES_TRBCHP_361-03-PBMC-DNA_2000000.txt |\n",
       "| 362 | 03 | CLONES_TRBCHP_362-03_cfDNA_2000000.txt | CLONES_TRBCHP_362-03-PBMC-DNA_2000000.txt |\n",
       "| 362 | 04 | CLONES_TRBCHP_362-04_cfDNA_2000000.txt | CLONES_TRBCHP_362-04-PBMC-DNA_2000000.txt |\n",
       "| 363 | 02 | CLONES_TRBCHP_363-02_cfDNA_2000000.txt | CLONES_TRBCHP_363-02-PBMC-DNA_2000000.txt |\n",
       "| 364 | 02 | CLONES_TRBCHP_364-02_cfDNA_2000000.txt | CLONES_TRBCHP_364-02-PBMC-DNA_2000000.txt |\n",
       "| 366 | 01 | CLONES_TRBCHP_366-01_cfDNA_2000000.txt | CLONES_TRBCHP_366-01-PBMC-DNA_2000000.txt |\n",
       "| 368 | 01 | CLONES_TRBCHP_368-01_cfDNA_2000000.txt | CLONES_TRBCHP_368-01-PBMC-DNA_2000000.txt |\n",
       "| 368 | 05 | CLONES_TRBCHP_368-05-cfDNA_2000000.txt | CLONES_TRBCHP_368-05-PBMC-DNA_2000000.txt |\n",
       "| 369 | 02 | CLONES_TRBCHP_369-02_cfDNA_2000000.txt | CLONES_TRBCHP_369-02-PBMC-DNA_2000000.txt |\n",
       "| 370 | 01 | CLONES_TRBCHP_370-01-cfDNA_2000000.txt | CLONES_TRBCHP_370-01-PBMC-DNA_2000000.txt |\n",
       "| 370 | 03 | CLONES_TRBCHP_370-03_cfDNA_2000000.txt | CLONES_TRBCHP_370-03-PBMC-DNA_2000000.txt |\n",
       "| 372 | 01 | CLONES_TRBCHP_372-01-cfDNA_2000000.txt | CLONES_TRBCHP_372-01-PBMC-DNA_2000000.txt |\n",
       "| 373 | 01 | CLONES_TRBCHP_373-01-cfDNA_2000000.txt | CLONES_TRBCHP_373-01-PBMC-DNA_2000000.txt |\n",
       "| 373 | 02 | CLONES_TRBCHP_373-02_cfDNA_2000000.txt | CLONES_TRBCHP_373-02-PBMC-DNA_2000000.txt |\n",
       "| 374 | 04 | CLONES_TRBCHP_374-04-cfDNA_2000000.txt | CLONES_TRBCHP_374-04-PBMC-DNA_2000000.txt |\n",
       "| 374 | 05 | CLONES_TRBCHP_374-05-cfDNA_2000000.txt | CLONES_TRBCHP_374-05-PBMC-DNA_2000000.txt |\n",
       "| 375 | 02 | CLONES_TRBCHP_375-02_cfDNA_2000000.txt | CLONES_TRBCHP_375-02-PBMC-DNA_2000000.txt |\n",
       "| 377 | 04 | CLONES_TRBCHP_377-04_cfDNA_2000000.txt | CLONES_TRBCHP_377-04_PBMC_DNA_2000000.txt |\n",
       "| 381 | 02 | CLONES_TRBCHP_381-02_cfDNA_2000000.txt | CLONES_TRBCHP_381-02-PBMC-DNA_2000000.txt |\n",
       "| 385 | 03 | CLONES_TRBCHP_385-03_cfDNA_2000000.txt | CLONES_TRBCHP_385-03-PBMC-DNA_2000000.txt |\n",
       "| 387 | 01 | CLONES_TRBCHP_387-01_cfDNA_2000000.txt | CLONES_TRBCHP_387-01-PBMC-DNA_2000000.txt |\n",
       "| 391 | 02 | CLONES_TRBCHP_391-02_cfDNA_2000000.txt | CLONES_TRBCHP_391-02_PBMC_DNA_2000000.txt |\n",
       "| 394 | 01 | CLONES_TRBCHP_394-01_cfDNA_2000000.txt | CLONES_TRBCHP_394-01-PBMC-DNA_2000000.txt |\n",
       "| 396 | 01 | CLONES_TRBCHP_396-01_cfDNA_2000000.txt | CLONES_TRBCHP_396-01-PBMC-DNA_2000000.txt |\n",
       "| 397 | 01 | CLONES_TRBCHP_397-01_cfDNA_2000000.txt | CLONES_TRBCHP_397-01-PBMC-DNA_2000000.txt |\n",
       "| 397 | 02 | CLONES_TRBCHP_397-02_cfDNA_2000000.txt | CLONES_TRBCHP_397-02_PBMC_DNA_2000000.txt |\n",
       "| 399 | 01 | CLONES_TRBCHP_399-01_cfDNA_2000000.txt | CLONES_TRBCHP_399-01-PBMC-DNA_2000000.txt |\n",
       "| 405 | 01 | CLONES_TRBCHP_405-01_cfDNA_2000000.txt | CLONES_TRBCHP_405-01_PBMC_DNA_2000000.txt |\n",
       "\n"
      ],
      "text/plain": [
       "   patient cycle filename.x                            \n",
       "1  323     03    CLONES_TRBCHP_323-03_cfDNA_2000000.txt\n",
       "2  338     03    CLONES_TRBCHP_338-03_cfDNA_2000000.txt\n",
       "3  339     03    CLONES_TRBCHP_339-03_cfDNA_2000000.txt\n",
       "4  340     03    CLONES_TRBCHP_340-03_cfDNA_2000000.txt\n",
       "5  344     02    CLONES_TRBCHP_344-02_cfDNA_2000000.txt\n",
       "6  344     04    CLONES_TRBCHP_344-04_cfDNA_2000000.txt\n",
       "7  344     05    CLONES_TRBCHP_344-05_cfDNA_2000000.txt\n",
       "8  345     02    CLONES_TRBCHP_345-02_cfDNA_2000000.txt\n",
       "9  347     01    CLONES_TRBCHP_347-01-cfDNA_2000000.txt\n",
       "10 347     02    CLONES_TRBCHP_347-02_cfDNA_2000000.txt\n",
       "11 347     04    CLONES_TRBCHP_347-04_cfDNA_2000000.txt\n",
       "12 351     04    CLONES_TRBCHP_351-04_cfDNA_2000000.txt\n",
       "13 353     01    CLONES_TRBCHP_353-01-cfDNA_2000000.txt\n",
       "14 353     02    CLONES_TRBCHP_353-02_cfDNA_2000000.txt\n",
       "15 353     05    CLONES_TRBCHP_353-05_cfDNA_2000000.txt\n",
       "16 355     01    CLONES_TRBCHP_355-01-cfDNA_2000000.txt\n",
       "17 356     02    CLONES_TRBCHP_356-02-cfDNA_2000000.txt\n",
       "18 357     01    CLONES_TRBCHP_357-01_cfDNA_2000000.txt\n",
       "19 357     03    CLONES_TRBCHP_357-03-cfDNA_2000000.txt\n",
       "20 357     04    CLONES_TRBCHP_357-04_cfDNA_2000000.txt\n",
       "21 358     01    CLONES_TRBCHP_358-01_cfDNA_2000000.txt\n",
       "22 358     02    CLONES_TRBCHP_358-02_cfDNA_2000000.txt\n",
       "23 358     03    CLONES_TRBCHP_358-03_cfDNA_2000000.txt\n",
       "24 359     01    CLONES_TRBCHP_359-01-cfDNA_2000000.txt\n",
       "25 359     02    CLONES_TRBCHP_359-02_cfDNA_2000000.txt\n",
       "26 359     04    CLONES_TRBCHP_359-04-cfDNA_2000000.txt\n",
       "27 360     02    CLONES_TRBCHP_360-02-cfDNA_2000000.txt\n",
       "28 361     01    CLONES_TRBCHP_361-01_cfDNA_2000000.txt\n",
       "29 361     02    CLONES_TRBCHP_361-02_cfDNA_2000000.txt\n",
       "30 361     03    CLONES_TRBCHP_361-03_cfDNA_2000000.txt\n",
       "31 362     03    CLONES_TRBCHP_362-03_cfDNA_2000000.txt\n",
       "32 362     04    CLONES_TRBCHP_362-04_cfDNA_2000000.txt\n",
       "33 363     02    CLONES_TRBCHP_363-02_cfDNA_2000000.txt\n",
       "34 364     02    CLONES_TRBCHP_364-02_cfDNA_2000000.txt\n",
       "35 366     01    CLONES_TRBCHP_366-01_cfDNA_2000000.txt\n",
       "36 368     01    CLONES_TRBCHP_368-01_cfDNA_2000000.txt\n",
       "37 368     05    CLONES_TRBCHP_368-05-cfDNA_2000000.txt\n",
       "38 369     02    CLONES_TRBCHP_369-02_cfDNA_2000000.txt\n",
       "39 370     01    CLONES_TRBCHP_370-01-cfDNA_2000000.txt\n",
       "40 370     03    CLONES_TRBCHP_370-03_cfDNA_2000000.txt\n",
       "41 372     01    CLONES_TRBCHP_372-01-cfDNA_2000000.txt\n",
       "42 373     01    CLONES_TRBCHP_373-01-cfDNA_2000000.txt\n",
       "43 373     02    CLONES_TRBCHP_373-02_cfDNA_2000000.txt\n",
       "44 374     04    CLONES_TRBCHP_374-04-cfDNA_2000000.txt\n",
       "45 374     05    CLONES_TRBCHP_374-05-cfDNA_2000000.txt\n",
       "46 375     02    CLONES_TRBCHP_375-02_cfDNA_2000000.txt\n",
       "47 377     04    CLONES_TRBCHP_377-04_cfDNA_2000000.txt\n",
       "48 381     02    CLONES_TRBCHP_381-02_cfDNA_2000000.txt\n",
       "49 385     03    CLONES_TRBCHP_385-03_cfDNA_2000000.txt\n",
       "50 387     01    CLONES_TRBCHP_387-01_cfDNA_2000000.txt\n",
       "51 391     02    CLONES_TRBCHP_391-02_cfDNA_2000000.txt\n",
       "52 394     01    CLONES_TRBCHP_394-01_cfDNA_2000000.txt\n",
       "53 396     01    CLONES_TRBCHP_396-01_cfDNA_2000000.txt\n",
       "54 397     01    CLONES_TRBCHP_397-01_cfDNA_2000000.txt\n",
       "55 397     02    CLONES_TRBCHP_397-02_cfDNA_2000000.txt\n",
       "56 399     01    CLONES_TRBCHP_399-01_cfDNA_2000000.txt\n",
       "57 405     01    CLONES_TRBCHP_405-01_cfDNA_2000000.txt\n",
       "   filename.y                               \n",
       "1  CLONES_TRBCHP_323-03-PBMC-DNA_2000000.txt\n",
       "2  CLONES_TRBCHP_338-03-PBMC-DNA_2000000.txt\n",
       "3  CLONES_TRBCHP_339-03-PBMC-DNA_2000000.txt\n",
       "4  CLONES_TRBCHP_340-03-PBMC-DNA_2000000.txt\n",
       "5  CLONES_TRBCHP_344-02-PBMC-DNA_2000000.txt\n",
       "6  CLONES_TRBCHP_344-04-PBMC-DNA_2000000.txt\n",
       "7  CLONES_TRBCHP_344-05-PBMC-DNA_2000000.txt\n",
       "8  CLONES_TRBCHP_345-02-PBMC-DNA_2000000.txt\n",
       "9  CLONES_TRBCHP_347-01-PBMC-DNA_2000000.txt\n",
       "10 CLONES_TRBCHP_347-02-PBMC-DNA_2000000.txt\n",
       "11 CLONES_TRBCHP_347-04-PBMC-DNA_2000000.txt\n",
       "12 CLONES_TRBCHP_351-04-PBMC-DNA_2000000.txt\n",
       "13 CLONES_TRBCHP_353-01-PBMC-DNA_2000000.txt\n",
       "14 CLONES_TRBCHP_353-02-PBMC-DNA_2000000.txt\n",
       "15 CLONES_TRBCHP_353-05-PBMC-DNA_2000000.txt\n",
       "16 CLONES_TRBCHP_355-01-PBMC-DNA_2000000.txt\n",
       "17 CLONES_TRBCHP_356-02-PBMC-DNA_2000000.txt\n",
       "18 CLONES_TRBCHP_357-01-PBMC-DNA_2000000.txt\n",
       "19 CLONES_TRBCHP_357-03-PBMC-DNA_2000000.txt\n",
       "20 CLONES_TRBCHP_357-04-PBMC-DNA_2000000.txt\n",
       "21 CLONES_TRBCHP_358-01-PBMC-DNA_2000000.txt\n",
       "22 CLONES_TRBCHP_358-02-PBMC-DNA_2000000.txt\n",
       "23 CLONES_TRBCHP_358-03-PBMC-DNA_2000000.txt\n",
       "24 CLONES_TRBCHP_359-01-PBMC-DNA_2000000.txt\n",
       "25 CLONES_TRBCHP_359-02-PBMC-DNA_2000000.txt\n",
       "26 CLONES_TRBCHP_359-04-PBMC-DNA_2000000.txt\n",
       "27 CLONES_TRBCHP_360-02-PBMC-DNA_2000000.txt\n",
       "28 CLONES_TRBCHP_361-01-PBMC-DNA_2000000.txt\n",
       "29 CLONES_TRBCHP_361-02-PBMC-DNA_2000000.txt\n",
       "30 CLONES_TRBCHP_361-03-PBMC-DNA_2000000.txt\n",
       "31 CLONES_TRBCHP_362-03-PBMC-DNA_2000000.txt\n",
       "32 CLONES_TRBCHP_362-04-PBMC-DNA_2000000.txt\n",
       "33 CLONES_TRBCHP_363-02-PBMC-DNA_2000000.txt\n",
       "34 CLONES_TRBCHP_364-02-PBMC-DNA_2000000.txt\n",
       "35 CLONES_TRBCHP_366-01-PBMC-DNA_2000000.txt\n",
       "36 CLONES_TRBCHP_368-01-PBMC-DNA_2000000.txt\n",
       "37 CLONES_TRBCHP_368-05-PBMC-DNA_2000000.txt\n",
       "38 CLONES_TRBCHP_369-02-PBMC-DNA_2000000.txt\n",
       "39 CLONES_TRBCHP_370-01-PBMC-DNA_2000000.txt\n",
       "40 CLONES_TRBCHP_370-03-PBMC-DNA_2000000.txt\n",
       "41 CLONES_TRBCHP_372-01-PBMC-DNA_2000000.txt\n",
       "42 CLONES_TRBCHP_373-01-PBMC-DNA_2000000.txt\n",
       "43 CLONES_TRBCHP_373-02-PBMC-DNA_2000000.txt\n",
       "44 CLONES_TRBCHP_374-04-PBMC-DNA_2000000.txt\n",
       "45 CLONES_TRBCHP_374-05-PBMC-DNA_2000000.txt\n",
       "46 CLONES_TRBCHP_375-02-PBMC-DNA_2000000.txt\n",
       "47 CLONES_TRBCHP_377-04_PBMC_DNA_2000000.txt\n",
       "48 CLONES_TRBCHP_381-02-PBMC-DNA_2000000.txt\n",
       "49 CLONES_TRBCHP_385-03-PBMC-DNA_2000000.txt\n",
       "50 CLONES_TRBCHP_387-01-PBMC-DNA_2000000.txt\n",
       "51 CLONES_TRBCHP_391-02_PBMC_DNA_2000000.txt\n",
       "52 CLONES_TRBCHP_394-01-PBMC-DNA_2000000.txt\n",
       "53 CLONES_TRBCHP_396-01-PBMC-DNA_2000000.txt\n",
       "54 CLONES_TRBCHP_397-01-PBMC-DNA_2000000.txt\n",
       "55 CLONES_TRBCHP_397-02_PBMC_DNA_2000000.txt\n",
       "56 CLONES_TRBCHP_399-01-PBMC-DNA_2000000.txt\n",
       "57 CLONES_TRBCHP_405-01_PBMC_DNA_2000000.txt"
      ]
     },
     "metadata": {},
     "output_type": "display_data"
    }
   ],
   "source": [
    "manifest_cfdna_pbmc"
   ]
  },
  {
   "cell_type": "code",
   "execution_count": 29,
   "metadata": {},
   "outputs": [
    {
     "name": "stderr",
     "output_type": "stream",
     "text": [
      "duplicated sequences:\n"
     ]
    },
    {
     "name": "stdout",
     "output_type": "stream",
     "text": [
      "character(0)\n"
     ]
    },
    {
     "name": "stderr",
     "output_type": "stream",
     "text": [
      "my files:\n"
     ]
    },
    {
     "name": "stdout",
     "output_type": "stream",
     "text": [
      "[1] \"batch4/ds_batch4/CLONES_TRBCHP_323-03-PBMC-DNA_2000000.txt\"\n",
      "[2] \"batch3a9_cfDNA/CLONES_TRBCHP_323-03_cfDNA_2000000.txt\"     \n"
     ]
    },
    {
     "name": "stderr",
     "output_type": "stream",
     "text": [
      "Total recovered clonotypes:\n"
     ]
    },
    {
     "name": "stdout",
     "output_type": "stream",
     "text": [
      "[1] 168\n"
     ]
    },
    {
     "name": "stderr",
     "output_type": "stream",
     "text": [
      "Total out-of-frame clonotypes:\n"
     ]
    },
    {
     "name": "stdout",
     "output_type": "stream",
     "text": [
      "[1] 35\n"
     ]
    },
    {
     "name": "stderr",
     "output_type": "stream",
     "text": [
      "Total clonotypes with stop codon:\n"
     ]
    },
    {
     "name": "stdout",
     "output_type": "stream",
     "text": [
      "[1] 4\n"
     ]
    },
    {
     "name": "stderr",
     "output_type": "stream",
     "text": [
      "Total productive clonotypes:\n"
     ]
    },
    {
     "name": "stdout",
     "output_type": "stream",
     "text": [
      "[1] 129\n"
     ]
    },
    {
     "name": "stderr",
     "output_type": "stream",
     "text": [
      "Output contains all clonotypes\n",
      "list of samples to track clones: \n"
     ]
    },
    {
     "name": "stdout",
     "output_type": "stream",
     "text": [
      "[1] CHP_323-03-PBMC  CHP_323-03-cfDNA\n",
      "Levels: CHP_323-03-PBMC CHP_323-03-cfDNA\n"
     ]
    },
    {
     "name": "stderr",
     "output_type": "stream",
     "text": [
      "Total number of recurring clonotypes: \n"
     ]
    },
    {
     "name": "stdout",
     "output_type": "stream",
     "text": [
      "[1] 1\n"
     ]
    },
    {
     "name": "stderr",
     "output_type": "stream",
     "text": [
      "these are what we color: \n"
     ]
    },
    {
     "name": "stdout",
     "output_type": "stream",
     "text": [
      "CASSPQGGPHNEQFF \n",
      "      \"#BEB3B2\" \n"
     ]
    },
    {
     "name": "stderr",
     "output_type": "stream",
     "text": [
      "duplicated sequences:\n"
     ]
    },
    {
     "name": "stdout",
     "output_type": "stream",
     "text": [
      " [1] \"CSAPGQGGGTEAFFGQGTRLTVVGKTFFRF_LQIRHREKWVHSVPFRVAIFLCANYGYTF\"  \n",
      " [2] \"CASSEQGSVTEAFFGQGTRLTVVGKTFFRF_LQIRHREKWVHSVPFRVAIFLCANYGYTF\"  \n",
      " [3] \"CASSLGLGSGVNTGELFFGEGSRLTVLGKEAVGAPESSERAGWAEVSSCPTLRGAVLRGAAG\"\n",
      " [4] \"CASSVGPSTYNEQFF\"                                               \n",
      " [5] \"CSTQGSRESTEAFF\"                                                \n",
      " [6] \"CAR*WDRSKTFIGFTDTQYF\"                                          \n",
      " [7] \"CAWSPGGFLQPSPLHF\"                                              \n",
      " [8] \"CASTAGGASKNIQYF\"                                               \n",
      " [9] \"CASSPNLGGNTEAFF\"                                               \n",
      "[10] \"CATRL*R_INQPQHF\"                                               \n"
     ]
    },
    {
     "name": "stderr",
     "output_type": "stream",
     "text": [
      "my files:\n"
     ]
    },
    {
     "name": "stdout",
     "output_type": "stream",
     "text": [
      "[1] \"batch4/ds_batch4/CLONES_TRBCHP_338-03-PBMC-DNA_2000000.txt\"\n",
      "[2] \"batch10_cfDNA/CLONES_TRBCHP_338-03_cfDNA_2000000.txt\"      \n"
     ]
    },
    {
     "name": "stderr",
     "output_type": "stream",
     "text": [
      "Total recovered clonotypes:\n"
     ]
    },
    {
     "name": "stdout",
     "output_type": "stream",
     "text": [
      "[1] 596\n"
     ]
    },
    {
     "name": "stderr",
     "output_type": "stream",
     "text": [
      "Total out-of-frame clonotypes:\n"
     ]
    },
    {
     "name": "stdout",
     "output_type": "stream",
     "text": [
      "[1] 129\n"
     ]
    },
    {
     "name": "stderr",
     "output_type": "stream",
     "text": [
      "Total clonotypes with stop codon:\n"
     ]
    },
    {
     "name": "stdout",
     "output_type": "stream",
     "text": [
      "[1] 12\n"
     ]
    },
    {
     "name": "stderr",
     "output_type": "stream",
     "text": [
      "Total productive clonotypes:\n"
     ]
    },
    {
     "name": "stdout",
     "output_type": "stream",
     "text": [
      "[1] 455\n"
     ]
    },
    {
     "name": "stderr",
     "output_type": "stream",
     "text": [
      "Output contains all clonotypes\n",
      "list of samples to track clones: \n"
     ]
    },
    {
     "name": "stdout",
     "output_type": "stream",
     "text": [
      "[1] CHP_338-03-PBMC  CHP_338-03-cfDNA\n",
      "Levels: CHP_338-03-PBMC CHP_338-03-cfDNA\n"
     ]
    },
    {
     "name": "stderr",
     "output_type": "stream",
     "text": [
      "Total number of recurring clonotypes: \n"
     ]
    },
    {
     "name": "stdout",
     "output_type": "stream",
     "text": [
      "[1] 0\n"
     ]
    },
    {
     "name": "stderr",
     "output_type": "stream",
     "text": [
      "these are what we color: \n"
     ]
    },
    {
     "name": "stdout",
     "output_type": "stream",
     "text": [
      "named character(0)\n"
     ]
    },
    {
     "name": "stderr",
     "output_type": "stream",
     "text": [
      "duplicated sequences:\n"
     ]
    },
    {
     "name": "stdout",
     "output_type": "stream",
     "text": [
      "[1] \"CASSFPGRNTEAFFGQGTRLTVVGKTFFRF_LQIRHREKWVHSVPFRVAIFLCANYGYTF\"\n"
     ]
    },
    {
     "name": "stderr",
     "output_type": "stream",
     "text": [
      "my files:\n"
     ]
    },
    {
     "name": "stdout",
     "output_type": "stream",
     "text": [
      "[1] \"batch4/ds_batch4/CLONES_TRBCHP_339-03-PBMC-DNA_2000000.txt\"\n",
      "[2] \"batch10_cfDNA/CLONES_TRBCHP_339-03_cfDNA_2000000.txt\"      \n"
     ]
    },
    {
     "name": "stderr",
     "output_type": "stream",
     "text": [
      "Total recovered clonotypes:\n"
     ]
    },
    {
     "name": "stdout",
     "output_type": "stream",
     "text": [
      "[1] 35\n"
     ]
    },
    {
     "name": "stderr",
     "output_type": "stream",
     "text": [
      "Total out-of-frame clonotypes:\n"
     ]
    },
    {
     "name": "stdout",
     "output_type": "stream",
     "text": [
      "[1] 6\n"
     ]
    },
    {
     "name": "stderr",
     "output_type": "stream",
     "text": [
      "Total clonotypes with stop codon:\n"
     ]
    },
    {
     "name": "stdout",
     "output_type": "stream",
     "text": [
      "[1] 2\n"
     ]
    },
    {
     "name": "stderr",
     "output_type": "stream",
     "text": [
      "Total productive clonotypes:\n"
     ]
    },
    {
     "name": "stdout",
     "output_type": "stream",
     "text": [
      "[1] 27\n"
     ]
    },
    {
     "name": "stderr",
     "output_type": "stream",
     "text": [
      "Output contains all clonotypes\n",
      "list of samples to track clones: \n"
     ]
    },
    {
     "name": "stdout",
     "output_type": "stream",
     "text": [
      "[1] CHP_339-03-PBMC  CHP_339-03-cfDNA\n",
      "Levels: CHP_339-03-PBMC CHP_339-03-cfDNA\n"
     ]
    },
    {
     "name": "stderr",
     "output_type": "stream",
     "text": [
      "Total number of recurring clonotypes: \n"
     ]
    },
    {
     "name": "stdout",
     "output_type": "stream",
     "text": [
      "[1] 0\n"
     ]
    },
    {
     "name": "stderr",
     "output_type": "stream",
     "text": [
      "these are what we color: \n"
     ]
    },
    {
     "name": "stdout",
     "output_type": "stream",
     "text": [
      "named character(0)\n"
     ]
    },
    {
     "name": "stderr",
     "output_type": "stream",
     "text": [
      "duplicated sequences:\n"
     ]
    },
    {
     "name": "stdout",
     "output_type": "stream",
     "text": [
      "[1] \"CASHMNTEAFF\"\n"
     ]
    },
    {
     "name": "stderr",
     "output_type": "stream",
     "text": [
      "my files:\n"
     ]
    },
    {
     "name": "stdout",
     "output_type": "stream",
     "text": [
      "[1] \"batch4/ds_batch4/CLONES_TRBCHP_340-03-PBMC-DNA_2000000.txt\"\n",
      "[2] \"batch5_cfDNA/CLONES_TRBCHP_340-03_cfDNA_2000000.txt\"       \n"
     ]
    },
    {
     "name": "stderr",
     "output_type": "stream",
     "text": [
      "Total recovered clonotypes:\n"
     ]
    },
    {
     "name": "stdout",
     "output_type": "stream",
     "text": [
      "[1] 104\n"
     ]
    },
    {
     "name": "stderr",
     "output_type": "stream",
     "text": [
      "Total out-of-frame clonotypes:\n"
     ]
    },
    {
     "name": "stdout",
     "output_type": "stream",
     "text": [
      "[1] 21\n"
     ]
    },
    {
     "name": "stderr",
     "output_type": "stream",
     "text": [
      "Total clonotypes with stop codon:\n"
     ]
    },
    {
     "name": "stdout",
     "output_type": "stream",
     "text": [
      "[1] 1\n"
     ]
    },
    {
     "name": "stderr",
     "output_type": "stream",
     "text": [
      "Total productive clonotypes:\n"
     ]
    },
    {
     "name": "stdout",
     "output_type": "stream",
     "text": [
      "[1] 82\n"
     ]
    },
    {
     "name": "stderr",
     "output_type": "stream",
     "text": [
      "Output contains all clonotypes\n",
      "list of samples to track clones: \n"
     ]
    },
    {
     "name": "stdout",
     "output_type": "stream",
     "text": [
      "[1] CHP_340-03-PBMC  CHP_340-03-cfDNA\n",
      "Levels: CHP_340-03-PBMC CHP_340-03-cfDNA\n"
     ]
    },
    {
     "name": "stderr",
     "output_type": "stream",
     "text": [
      "Total number of recurring clonotypes: \n"
     ]
    },
    {
     "name": "stdout",
     "output_type": "stream",
     "text": [
      "[1] 0\n"
     ]
    },
    {
     "name": "stderr",
     "output_type": "stream",
     "text": [
      "these are what we color: \n"
     ]
    },
    {
     "name": "stdout",
     "output_type": "stream",
     "text": [
      "named character(0)\n"
     ]
    },
    {
     "name": "stderr",
     "output_type": "stream",
     "text": [
      "duplicated sequences:\n"
     ]
    },
    {
     "name": "stdout",
     "output_type": "stream",
     "text": [
      "character(0)\n"
     ]
    },
    {
     "name": "stderr",
     "output_type": "stream",
     "text": [
      "my files:\n"
     ]
    },
    {
     "name": "stdout",
     "output_type": "stream",
     "text": [
      "[1] \"batch7/ds_batch7/CLONES_TRBCHP_344-02-PBMC-DNA_2000000.txt\"\n",
      "[2] \"batch3a9_cfDNA/CLONES_TRBCHP_344-02_cfDNA_2000000.txt\"     \n"
     ]
    },
    {
     "name": "stderr",
     "output_type": "stream",
     "text": [
      "Total recovered clonotypes:\n"
     ]
    },
    {
     "name": "stdout",
     "output_type": "stream",
     "text": [
      "[1] 16\n"
     ]
    },
    {
     "name": "stderr",
     "output_type": "stream",
     "text": [
      "Total out-of-frame clonotypes:\n"
     ]
    },
    {
     "name": "stdout",
     "output_type": "stream",
     "text": [
      "[1] 2\n"
     ]
    },
    {
     "name": "stderr",
     "output_type": "stream",
     "text": [
      "Total clonotypes with stop codon:\n"
     ]
    },
    {
     "name": "stdout",
     "output_type": "stream",
     "text": [
      "[1] 0\n"
     ]
    },
    {
     "name": "stderr",
     "output_type": "stream",
     "text": [
      "Total productive clonotypes:\n"
     ]
    },
    {
     "name": "stdout",
     "output_type": "stream",
     "text": [
      "[1] 14\n"
     ]
    },
    {
     "name": "stderr",
     "output_type": "stream",
     "text": [
      "Output contains all clonotypes\n",
      "list of samples to track clones: \n"
     ]
    },
    {
     "name": "stdout",
     "output_type": "stream",
     "text": [
      "[1] CHP_344-02-PBMC  CHP_344-02-cfDNA\n",
      "Levels: CHP_344-02-PBMC CHP_344-02-cfDNA\n"
     ]
    },
    {
     "name": "stderr",
     "output_type": "stream",
     "text": [
      "Total number of recurring clonotypes: \n"
     ]
    },
    {
     "name": "stdout",
     "output_type": "stream",
     "text": [
      "[1] 0\n"
     ]
    },
    {
     "name": "stderr",
     "output_type": "stream",
     "text": [
      "these are what we color: \n"
     ]
    },
    {
     "name": "stdout",
     "output_type": "stream",
     "text": [
      "named character(0)\n"
     ]
    },
    {
     "name": "stderr",
     "output_type": "stream",
     "text": [
      "duplicated sequences:\n"
     ]
    },
    {
     "name": "stdout",
     "output_type": "stream",
     "text": [
      "character(0)\n"
     ]
    },
    {
     "name": "stderr",
     "output_type": "stream",
     "text": [
      "my files:\n"
     ]
    },
    {
     "name": "stdout",
     "output_type": "stream",
     "text": [
      "[1] \"batch8/ds_batch8/CLONES_TRBCHP_344-04-PBMC-DNA_2000000.txt\"\n",
      "[2] \"batch3a9_cfDNA/CLONES_TRBCHP_344-04_cfDNA_2000000.txt\"     \n"
     ]
    },
    {
     "name": "stderr",
     "output_type": "stream",
     "text": [
      "Total recovered clonotypes:\n"
     ]
    },
    {
     "name": "stdout",
     "output_type": "stream",
     "text": [
      "[1] 95\n"
     ]
    },
    {
     "name": "stderr",
     "output_type": "stream",
     "text": [
      "Total out-of-frame clonotypes:\n"
     ]
    },
    {
     "name": "stdout",
     "output_type": "stream",
     "text": [
      "[1] 13\n"
     ]
    },
    {
     "name": "stderr",
     "output_type": "stream",
     "text": [
      "Total clonotypes with stop codon:\n"
     ]
    },
    {
     "name": "stdout",
     "output_type": "stream",
     "text": [
      "[1] 2\n"
     ]
    },
    {
     "name": "stderr",
     "output_type": "stream",
     "text": [
      "Total productive clonotypes:\n"
     ]
    },
    {
     "name": "stdout",
     "output_type": "stream",
     "text": [
      "[1] 80\n"
     ]
    },
    {
     "name": "stderr",
     "output_type": "stream",
     "text": [
      "Output contains all clonotypes\n",
      "list of samples to track clones: \n"
     ]
    },
    {
     "name": "stdout",
     "output_type": "stream",
     "text": [
      "[1] CHP_344-04-PBMC  CHP_344-04-cfDNA\n",
      "Levels: CHP_344-04-PBMC CHP_344-04-cfDNA\n"
     ]
    },
    {
     "name": "stderr",
     "output_type": "stream",
     "text": [
      "Total number of recurring clonotypes: \n"
     ]
    },
    {
     "name": "stdout",
     "output_type": "stream",
     "text": [
      "[1] 0\n"
     ]
    },
    {
     "name": "stderr",
     "output_type": "stream",
     "text": [
      "these are what we color: \n"
     ]
    },
    {
     "name": "stdout",
     "output_type": "stream",
     "text": [
      "named character(0)\n"
     ]
    },
    {
     "name": "stderr",
     "output_type": "stream",
     "text": [
      "duplicated sequences:\n"
     ]
    },
    {
     "name": "stdout",
     "output_type": "stream",
     "text": [
      "[1] \"CASSQDKCSGGVLTDTQYF\" \"CASSVSPRLAGTSQFF\"    \"CASSLVPYEQYF\"       \n"
     ]
    },
    {
     "name": "stderr",
     "output_type": "stream",
     "text": [
      "my files:\n"
     ]
    },
    {
     "name": "stdout",
     "output_type": "stream",
     "text": [
      "[1] \"batch4/ds_batch4/CLONES_TRBCHP_344-05-PBMC-DNA_2000000.txt\"\n",
      "[2] \"batch3a9_cfDNA/CLONES_TRBCHP_344-05_cfDNA_2000000.txt\"     \n"
     ]
    },
    {
     "name": "stderr",
     "output_type": "stream",
     "text": [
      "Total recovered clonotypes:\n"
     ]
    },
    {
     "name": "stdout",
     "output_type": "stream",
     "text": [
      "[1] 134\n"
     ]
    },
    {
     "name": "stderr",
     "output_type": "stream",
     "text": [
      "Total out-of-frame clonotypes:\n"
     ]
    },
    {
     "name": "stdout",
     "output_type": "stream",
     "text": [
      "[1] 18\n"
     ]
    },
    {
     "name": "stderr",
     "output_type": "stream",
     "text": [
      "Total clonotypes with stop codon:\n"
     ]
    },
    {
     "name": "stdout",
     "output_type": "stream",
     "text": [
      "[1] 3\n"
     ]
    },
    {
     "name": "stderr",
     "output_type": "stream",
     "text": [
      "Total productive clonotypes:\n"
     ]
    },
    {
     "name": "stdout",
     "output_type": "stream",
     "text": [
      "[1] 113\n"
     ]
    },
    {
     "name": "stderr",
     "output_type": "stream",
     "text": [
      "Output contains all clonotypes\n",
      "list of samples to track clones: \n"
     ]
    },
    {
     "name": "stdout",
     "output_type": "stream",
     "text": [
      "[1] CHP_344-05-PBMC  CHP_344-05-cfDNA\n",
      "Levels: CHP_344-05-PBMC CHP_344-05-cfDNA\n"
     ]
    },
    {
     "name": "stderr",
     "output_type": "stream",
     "text": [
      "Total number of recurring clonotypes: \n"
     ]
    },
    {
     "name": "stdout",
     "output_type": "stream",
     "text": [
      "[1] 0\n"
     ]
    },
    {
     "name": "stderr",
     "output_type": "stream",
     "text": [
      "these are what we color: \n"
     ]
    },
    {
     "name": "stdout",
     "output_type": "stream",
     "text": [
      "named character(0)\n"
     ]
    },
    {
     "name": "stderr",
     "output_type": "stream",
     "text": [
      "duplicated sequences:\n"
     ]
    },
    {
     "name": "stdout",
     "output_type": "stream",
     "text": [
      "[1] \"CASSQG_GLQQYF\"\n"
     ]
    },
    {
     "name": "stderr",
     "output_type": "stream",
     "text": [
      "my files:\n"
     ]
    },
    {
     "name": "stdout",
     "output_type": "stream",
     "text": [
      "[1] \"batch4/ds_batch4/CLONES_TRBCHP_345-02-PBMC-DNA_2000000.txt\"\n",
      "[2] \"batch5_cfDNA/CLONES_TRBCHP_345-02_cfDNA_2000000.txt\"       \n"
     ]
    },
    {
     "name": "stderr",
     "output_type": "stream",
     "text": [
      "Total recovered clonotypes:\n"
     ]
    },
    {
     "name": "stdout",
     "output_type": "stream",
     "text": [
      "[1] 184\n"
     ]
    },
    {
     "name": "stderr",
     "output_type": "stream",
     "text": [
      "Total out-of-frame clonotypes:\n"
     ]
    },
    {
     "name": "stdout",
     "output_type": "stream",
     "text": [
      "[1] 48\n"
     ]
    },
    {
     "name": "stderr",
     "output_type": "stream",
     "text": [
      "Total clonotypes with stop codon:\n"
     ]
    },
    {
     "name": "stdout",
     "output_type": "stream",
     "text": [
      "[1] 4\n"
     ]
    },
    {
     "name": "stderr",
     "output_type": "stream",
     "text": [
      "Total productive clonotypes:\n"
     ]
    },
    {
     "name": "stdout",
     "output_type": "stream",
     "text": [
      "[1] 132\n"
     ]
    },
    {
     "name": "stderr",
     "output_type": "stream",
     "text": [
      "Output contains all clonotypes\n",
      "list of samples to track clones: \n"
     ]
    },
    {
     "name": "stdout",
     "output_type": "stream",
     "text": [
      "[1] CHP_345-02-PBMC  CHP_345-02-cfDNA\n",
      "Levels: CHP_345-02-PBMC CHP_345-02-cfDNA\n"
     ]
    },
    {
     "name": "stderr",
     "output_type": "stream",
     "text": [
      "Total number of recurring clonotypes: \n"
     ]
    },
    {
     "name": "stdout",
     "output_type": "stream",
     "text": [
      "[1] 7\n"
     ]
    },
    {
     "name": "stderr",
     "output_type": "stream",
     "text": [
      "these are what we color: \n"
     ]
    },
    {
     "name": "stdout",
     "output_type": "stream",
     "text": [
      "          CASRHQPQHF      CASSQGLAGSYEQYF         CASTYNDNEQFF \n",
      "           \"#B2A6D7\"            \"#DCD066\"            \"#8FE275\" \n",
      "     CASSHLGQGHTEAFF CATSDLLA*L_REAVDTQYF        CASSFF_*GGYTF \n",
      "           \"#BC5ED1\"            \"#7BD6CA\"            \"#D6D2C0\" \n",
      " CASFPDFGG_PPPTDTQYF \n",
      "           \"#D5786B\" \n"
     ]
    },
    {
     "name": "stderr",
     "output_type": "stream",
     "text": [
      "duplicated sequences:\n"
     ]
    },
    {
     "name": "stdout",
     "output_type": "stream",
     "text": [
      "character(0)\n"
     ]
    },
    {
     "name": "stderr",
     "output_type": "stream",
     "text": [
      "my files:\n"
     ]
    },
    {
     "name": "stdout",
     "output_type": "stream",
     "text": [
      "[1] \"batch4/ds_batch4/CLONES_TRBCHP_347-01-PBMC-DNA_2000000.txt\"\n",
      "[2] \"batch1_cfDNA/CLONES_TRBCHP_347-01-cfDNA_2000000.txt\"       \n"
     ]
    },
    {
     "name": "stderr",
     "output_type": "stream",
     "text": [
      "Total recovered clonotypes:\n"
     ]
    },
    {
     "name": "stdout",
     "output_type": "stream",
     "text": [
      "[1] 173\n"
     ]
    },
    {
     "name": "stderr",
     "output_type": "stream",
     "text": [
      "Total out-of-frame clonotypes:\n"
     ]
    },
    {
     "name": "stdout",
     "output_type": "stream",
     "text": [
      "[1] 36\n"
     ]
    },
    {
     "name": "stderr",
     "output_type": "stream",
     "text": [
      "Total clonotypes with stop codon:\n"
     ]
    },
    {
     "name": "stdout",
     "output_type": "stream",
     "text": [
      "[1] 1\n"
     ]
    },
    {
     "name": "stderr",
     "output_type": "stream",
     "text": [
      "Total productive clonotypes:\n"
     ]
    },
    {
     "name": "stdout",
     "output_type": "stream",
     "text": [
      "[1] 136\n"
     ]
    },
    {
     "name": "stderr",
     "output_type": "stream",
     "text": [
      "Output contains all clonotypes\n",
      "list of samples to track clones: \n"
     ]
    },
    {
     "name": "stdout",
     "output_type": "stream",
     "text": [
      "[1] CHP_347-01-PBMC  CHP_347-01-cfDNA\n",
      "Levels: CHP_347-01-PBMC CHP_347-01-cfDNA\n"
     ]
    },
    {
     "name": "stderr",
     "output_type": "stream",
     "text": [
      "Total number of recurring clonotypes: \n"
     ]
    },
    {
     "name": "stdout",
     "output_type": "stream",
     "text": [
      "[1] 0\n"
     ]
    },
    {
     "name": "stderr",
     "output_type": "stream",
     "text": [
      "these are what we color: \n"
     ]
    },
    {
     "name": "stdout",
     "output_type": "stream",
     "text": [
      "named character(0)\n"
     ]
    },
    {
     "name": "stderr",
     "output_type": "stream",
     "text": [
      "duplicated sequences:\n"
     ]
    },
    {
     "name": "stdout",
     "output_type": "stream",
     "text": [
      "[1] \"CASSLPRGPSSYNEQFF\"\n"
     ]
    },
    {
     "name": "stderr",
     "output_type": "stream",
     "text": [
      "my files:\n"
     ]
    },
    {
     "name": "stdout",
     "output_type": "stream",
     "text": [
      "[1] \"batch4/ds_batch4/CLONES_TRBCHP_347-02-PBMC-DNA_2000000.txt\"\n",
      "[2] \"batch5_cfDNA/CLONES_TRBCHP_347-02_cfDNA_2000000.txt\"       \n"
     ]
    },
    {
     "name": "stderr",
     "output_type": "stream",
     "text": [
      "Total recovered clonotypes:\n"
     ]
    },
    {
     "name": "stdout",
     "output_type": "stream",
     "text": [
      "[1] 380\n"
     ]
    },
    {
     "name": "stderr",
     "output_type": "stream",
     "text": [
      "Total out-of-frame clonotypes:\n"
     ]
    },
    {
     "name": "stdout",
     "output_type": "stream",
     "text": [
      "[1] 68\n"
     ]
    },
    {
     "name": "stderr",
     "output_type": "stream",
     "text": [
      "Total clonotypes with stop codon:\n"
     ]
    },
    {
     "name": "stdout",
     "output_type": "stream",
     "text": [
      "[1] 8\n"
     ]
    },
    {
     "name": "stderr",
     "output_type": "stream",
     "text": [
      "Total productive clonotypes:\n"
     ]
    },
    {
     "name": "stdout",
     "output_type": "stream",
     "text": [
      "[1] 304\n"
     ]
    },
    {
     "name": "stderr",
     "output_type": "stream",
     "text": [
      "Output contains all clonotypes\n",
      "list of samples to track clones: \n"
     ]
    },
    {
     "name": "stdout",
     "output_type": "stream",
     "text": [
      "[1] CHP_347-02-PBMC  CHP_347-02-cfDNA\n",
      "Levels: CHP_347-02-PBMC CHP_347-02-cfDNA\n"
     ]
    },
    {
     "name": "stderr",
     "output_type": "stream",
     "text": [
      "Total number of recurring clonotypes: \n"
     ]
    },
    {
     "name": "stdout",
     "output_type": "stream",
     "text": [
      "[1] 0\n"
     ]
    },
    {
     "name": "stderr",
     "output_type": "stream",
     "text": [
      "these are what we color: \n"
     ]
    },
    {
     "name": "stdout",
     "output_type": "stream",
     "text": [
      "named character(0)\n"
     ]
    },
    {
     "name": "stderr",
     "output_type": "stream",
     "text": [
      "duplicated sequences:\n"
     ]
    },
    {
     "name": "stdout",
     "output_type": "stream",
     "text": [
      "character(0)\n"
     ]
    },
    {
     "name": "stderr",
     "output_type": "stream",
     "text": [
      "my files:\n"
     ]
    },
    {
     "name": "stdout",
     "output_type": "stream",
     "text": [
      "[1] \"batch6a/ds_batch6a/CLONES_TRBCHP_347-04-PBMC-DNA_2000000.txt\"\n",
      "[2] \"batch10_cfDNA/CLONES_TRBCHP_347-04_cfDNA_2000000.txt\"        \n"
     ]
    },
    {
     "name": "stderr",
     "output_type": "stream",
     "text": [
      "Total recovered clonotypes:\n"
     ]
    },
    {
     "name": "stdout",
     "output_type": "stream",
     "text": [
      "[1] 78\n"
     ]
    },
    {
     "name": "stderr",
     "output_type": "stream",
     "text": [
      "Total out-of-frame clonotypes:\n"
     ]
    },
    {
     "name": "stdout",
     "output_type": "stream",
     "text": [
      "[1] 9\n"
     ]
    },
    {
     "name": "stderr",
     "output_type": "stream",
     "text": [
      "Total clonotypes with stop codon:\n"
     ]
    },
    {
     "name": "stdout",
     "output_type": "stream",
     "text": [
      "[1] 1\n"
     ]
    },
    {
     "name": "stderr",
     "output_type": "stream",
     "text": [
      "Total productive clonotypes:\n"
     ]
    },
    {
     "name": "stdout",
     "output_type": "stream",
     "text": [
      "[1] 68\n"
     ]
    },
    {
     "name": "stderr",
     "output_type": "stream",
     "text": [
      "Output contains all clonotypes\n",
      "list of samples to track clones: \n"
     ]
    },
    {
     "name": "stdout",
     "output_type": "stream",
     "text": [
      "[1] CHP_347-04-PBMC  CHP_347-04-cfDNA\n",
      "Levels: CHP_347-04-PBMC CHP_347-04-cfDNA\n"
     ]
    },
    {
     "name": "stderr",
     "output_type": "stream",
     "text": [
      "Total number of recurring clonotypes: \n"
     ]
    },
    {
     "name": "stdout",
     "output_type": "stream",
     "text": [
      "[1] 0\n"
     ]
    },
    {
     "name": "stderr",
     "output_type": "stream",
     "text": [
      "these are what we color: \n"
     ]
    },
    {
     "name": "stdout",
     "output_type": "stream",
     "text": [
      "named character(0)\n"
     ]
    },
    {
     "name": "stderr",
     "output_type": "stream",
     "text": [
      "duplicated sequences:\n"
     ]
    },
    {
     "name": "stdout",
     "output_type": "stream",
     "text": [
      "[1] \"CASKRWTGGQTEAFF\"\n"
     ]
    },
    {
     "name": "stderr",
     "output_type": "stream",
     "text": [
      "my files:\n"
     ]
    },
    {
     "name": "stdout",
     "output_type": "stream",
     "text": [
      "[1] \"batch7/ds_batch7/CLONES_TRBCHP_351-04-PBMC-DNA_2000000.txt\"\n",
      "[2] \"batch10_cfDNA/CLONES_TRBCHP_351-04_cfDNA_2000000.txt\"      \n"
     ]
    },
    {
     "name": "stderr",
     "output_type": "stream",
     "text": [
      "Total recovered clonotypes:\n"
     ]
    },
    {
     "name": "stdout",
     "output_type": "stream",
     "text": [
      "[1] 119\n"
     ]
    },
    {
     "name": "stderr",
     "output_type": "stream",
     "text": [
      "Total out-of-frame clonotypes:\n"
     ]
    },
    {
     "name": "stdout",
     "output_type": "stream",
     "text": [
      "[1] 32\n"
     ]
    },
    {
     "name": "stderr",
     "output_type": "stream",
     "text": [
      "Total clonotypes with stop codon:\n"
     ]
    },
    {
     "name": "stdout",
     "output_type": "stream",
     "text": [
      "[1] 3\n"
     ]
    },
    {
     "name": "stderr",
     "output_type": "stream",
     "text": [
      "Total productive clonotypes:\n"
     ]
    },
    {
     "name": "stdout",
     "output_type": "stream",
     "text": [
      "[1] 84\n"
     ]
    },
    {
     "name": "stderr",
     "output_type": "stream",
     "text": [
      "Output contains all clonotypes\n",
      "list of samples to track clones: \n"
     ]
    },
    {
     "name": "stdout",
     "output_type": "stream",
     "text": [
      "[1] CHP_351-04-PBMC  CHP_351-04-cfDNA\n",
      "Levels: CHP_351-04-PBMC CHP_351-04-cfDNA\n"
     ]
    },
    {
     "name": "stderr",
     "output_type": "stream",
     "text": [
      "Total number of recurring clonotypes: \n"
     ]
    },
    {
     "name": "stdout",
     "output_type": "stream",
     "text": [
      "[1] 0\n"
     ]
    },
    {
     "name": "stderr",
     "output_type": "stream",
     "text": [
      "these are what we color: \n"
     ]
    },
    {
     "name": "stdout",
     "output_type": "stream",
     "text": [
      "named character(0)\n"
     ]
    },
    {
     "name": "stderr",
     "output_type": "stream",
     "text": [
      "duplicated sequences:\n"
     ]
    },
    {
     "name": "stdout",
     "output_type": "stream",
     "text": [
      "[1] \"CASSPAVNTIYF\"\n"
     ]
    },
    {
     "name": "stderr",
     "output_type": "stream",
     "text": [
      "my files:\n"
     ]
    },
    {
     "name": "stdout",
     "output_type": "stream",
     "text": [
      "[1] \"batch7/ds_batch7/CLONES_TRBCHP_353-01-PBMC-DNA_2000000.txt\"\n",
      "[2] \"batch1_cfDNA/CLONES_TRBCHP_353-01-cfDNA_2000000.txt\"       \n"
     ]
    },
    {
     "name": "stderr",
     "output_type": "stream",
     "text": [
      "Total recovered clonotypes:\n"
     ]
    },
    {
     "name": "stdout",
     "output_type": "stream",
     "text": [
      "[1] 262\n"
     ]
    },
    {
     "name": "stderr",
     "output_type": "stream",
     "text": [
      "Total out-of-frame clonotypes:\n"
     ]
    },
    {
     "name": "stdout",
     "output_type": "stream",
     "text": [
      "[1] 49\n"
     ]
    },
    {
     "name": "stderr",
     "output_type": "stream",
     "text": [
      "Total clonotypes with stop codon:\n"
     ]
    },
    {
     "name": "stdout",
     "output_type": "stream",
     "text": [
      "[1] 2\n"
     ]
    },
    {
     "name": "stderr",
     "output_type": "stream",
     "text": [
      "Total productive clonotypes:\n"
     ]
    },
    {
     "name": "stdout",
     "output_type": "stream",
     "text": [
      "[1] 211\n"
     ]
    },
    {
     "name": "stderr",
     "output_type": "stream",
     "text": [
      "Output contains all clonotypes\n",
      "list of samples to track clones: \n"
     ]
    },
    {
     "name": "stdout",
     "output_type": "stream",
     "text": [
      "[1] CHP_353-01-PBMC  CHP_353-01-cfDNA\n",
      "Levels: CHP_353-01-PBMC CHP_353-01-cfDNA\n"
     ]
    },
    {
     "name": "stderr",
     "output_type": "stream",
     "text": [
      "Total number of recurring clonotypes: \n"
     ]
    },
    {
     "name": "stdout",
     "output_type": "stream",
     "text": [
      "[1] 0\n"
     ]
    },
    {
     "name": "stderr",
     "output_type": "stream",
     "text": [
      "these are what we color: \n"
     ]
    },
    {
     "name": "stdout",
     "output_type": "stream",
     "text": [
      "named character(0)\n"
     ]
    },
    {
     "name": "stderr",
     "output_type": "stream",
     "text": [
      "duplicated sequences:\n"
     ]
    },
    {
     "name": "stdout",
     "output_type": "stream",
     "text": [
      "[1] \"CASSEAGAGELFF\"\n"
     ]
    },
    {
     "name": "stderr",
     "output_type": "stream",
     "text": [
      "my files:\n"
     ]
    },
    {
     "name": "stdout",
     "output_type": "stream",
     "text": [
      "[1] \"batch_reseq/ds_batch_reseq/CLONES_TRBCHP_353-02-PBMC-DNA_2000000.txt\"\n",
      "[2] \"batch3a9_cfDNA/CLONES_TRBCHP_353-02_cfDNA_2000000.txt\"               \n"
     ]
    },
    {
     "name": "stderr",
     "output_type": "stream",
     "text": [
      "Total recovered clonotypes:\n"
     ]
    },
    {
     "name": "stdout",
     "output_type": "stream",
     "text": [
      "[1] 49\n"
     ]
    },
    {
     "name": "stderr",
     "output_type": "stream",
     "text": [
      "Total out-of-frame clonotypes:\n"
     ]
    },
    {
     "name": "stdout",
     "output_type": "stream",
     "text": [
      "[1] 8\n"
     ]
    },
    {
     "name": "stderr",
     "output_type": "stream",
     "text": [
      "Total clonotypes with stop codon:\n"
     ]
    },
    {
     "name": "stdout",
     "output_type": "stream",
     "text": [
      "[1] 3\n"
     ]
    },
    {
     "name": "stderr",
     "output_type": "stream",
     "text": [
      "Total productive clonotypes:\n"
     ]
    },
    {
     "name": "stdout",
     "output_type": "stream",
     "text": [
      "[1] 38\n"
     ]
    },
    {
     "name": "stderr",
     "output_type": "stream",
     "text": [
      "Output contains all clonotypes\n",
      "list of samples to track clones: \n"
     ]
    },
    {
     "name": "stdout",
     "output_type": "stream",
     "text": [
      "[1] CHP_353-02-PBMC  CHP_353-02-cfDNA\n",
      "Levels: CHP_353-02-PBMC CHP_353-02-cfDNA\n"
     ]
    },
    {
     "name": "stderr",
     "output_type": "stream",
     "text": [
      "Total number of recurring clonotypes: \n"
     ]
    },
    {
     "name": "stdout",
     "output_type": "stream",
     "text": [
      "[1] 0\n"
     ]
    },
    {
     "name": "stderr",
     "output_type": "stream",
     "text": [
      "these are what we color: \n"
     ]
    },
    {
     "name": "stdout",
     "output_type": "stream",
     "text": [
      "named character(0)\n"
     ]
    },
    {
     "name": "stderr",
     "output_type": "stream",
     "text": [
      "duplicated sequences:\n"
     ]
    },
    {
     "name": "stdout",
     "output_type": "stream",
     "text": [
      "[1] \"CASSVGGNSNQPQHF\"  \"CASSEWGG_LQETQYF\" \"CASSSRGQGDNEQFF\" \n"
     ]
    },
    {
     "name": "stderr",
     "output_type": "stream",
     "text": [
      "my files:\n"
     ]
    },
    {
     "name": "stdout",
     "output_type": "stream",
     "text": [
      "[1] \"batch7/ds_batch7/CLONES_TRBCHP_353-05-PBMC-DNA_2000000.txt\"\n",
      "[2] \"batch10_cfDNA/CLONES_TRBCHP_353-05_cfDNA_2000000.txt\"      \n"
     ]
    },
    {
     "name": "stderr",
     "output_type": "stream",
     "text": [
      "Total recovered clonotypes:\n"
     ]
    },
    {
     "name": "stdout",
     "output_type": "stream",
     "text": [
      "[1] 442\n"
     ]
    },
    {
     "name": "stderr",
     "output_type": "stream",
     "text": [
      "Total out-of-frame clonotypes:\n"
     ]
    },
    {
     "name": "stdout",
     "output_type": "stream",
     "text": [
      "[1] 73\n"
     ]
    },
    {
     "name": "stderr",
     "output_type": "stream",
     "text": [
      "Total clonotypes with stop codon:\n"
     ]
    },
    {
     "name": "stdout",
     "output_type": "stream",
     "text": [
      "[1] 6\n"
     ]
    },
    {
     "name": "stderr",
     "output_type": "stream",
     "text": [
      "Total productive clonotypes:\n"
     ]
    },
    {
     "name": "stdout",
     "output_type": "stream",
     "text": [
      "[1] 363\n"
     ]
    },
    {
     "name": "stderr",
     "output_type": "stream",
     "text": [
      "Output contains all clonotypes\n",
      "list of samples to track clones: \n"
     ]
    },
    {
     "name": "stdout",
     "output_type": "stream",
     "text": [
      "[1] CHP_353-05-PBMC  CHP_353-05-cfDNA\n",
      "Levels: CHP_353-05-PBMC CHP_353-05-cfDNA\n"
     ]
    },
    {
     "name": "stderr",
     "output_type": "stream",
     "text": [
      "Total number of recurring clonotypes: \n"
     ]
    },
    {
     "name": "stdout",
     "output_type": "stream",
     "text": [
      "[1] 2\n"
     ]
    },
    {
     "name": "stderr",
     "output_type": "stream",
     "text": [
      "these are what we color: \n"
     ]
    },
    {
     "name": "stdout",
     "output_type": "stream",
     "text": [
      "   CASSLRGNEAFF CASSPGGNSNQPQHF \n",
      "      \"#B7D39D\"       \"#BF8ACA\" \n"
     ]
    },
    {
     "name": "stderr",
     "output_type": "stream",
     "text": [
      "duplicated sequences:\n"
     ]
    },
    {
     "name": "stdout",
     "output_type": "stream",
     "text": [
      "character(0)\n"
     ]
    },
    {
     "name": "stderr",
     "output_type": "stream",
     "text": [
      "my files:\n"
     ]
    },
    {
     "name": "stdout",
     "output_type": "stream",
     "text": [
      "[1] \"batch4/ds_batch4/CLONES_TRBCHP_355-01-PBMC-DNA_2000000.txt\"\n",
      "[2] \"batch1_cfDNA/CLONES_TRBCHP_355-01-cfDNA_2000000.txt\"       \n"
     ]
    },
    {
     "name": "stderr",
     "output_type": "stream",
     "text": [
      "Total recovered clonotypes:\n"
     ]
    },
    {
     "name": "stdout",
     "output_type": "stream",
     "text": [
      "[1] 19\n"
     ]
    },
    {
     "name": "stderr",
     "output_type": "stream",
     "text": [
      "Total out-of-frame clonotypes:\n"
     ]
    },
    {
     "name": "stdout",
     "output_type": "stream",
     "text": [
      "[1] 2\n"
     ]
    },
    {
     "name": "stderr",
     "output_type": "stream",
     "text": [
      "Total clonotypes with stop codon:\n"
     ]
    },
    {
     "name": "stdout",
     "output_type": "stream",
     "text": [
      "[1] 2\n"
     ]
    },
    {
     "name": "stderr",
     "output_type": "stream",
     "text": [
      "Total productive clonotypes:\n"
     ]
    },
    {
     "name": "stdout",
     "output_type": "stream",
     "text": [
      "[1] 15\n"
     ]
    },
    {
     "name": "stderr",
     "output_type": "stream",
     "text": [
      "Output contains all clonotypes\n",
      "list of samples to track clones: \n"
     ]
    },
    {
     "name": "stdout",
     "output_type": "stream",
     "text": [
      "[1] CHP_355-01-PBMC  CHP_355-01-cfDNA\n",
      "Levels: CHP_355-01-PBMC CHP_355-01-cfDNA\n"
     ]
    },
    {
     "name": "stderr",
     "output_type": "stream",
     "text": [
      "Total number of recurring clonotypes: \n"
     ]
    },
    {
     "name": "stdout",
     "output_type": "stream",
     "text": [
      "[1] 0\n"
     ]
    },
    {
     "name": "stderr",
     "output_type": "stream",
     "text": [
      "these are what we color: \n"
     ]
    },
    {
     "name": "stdout",
     "output_type": "stream",
     "text": [
      "named character(0)\n"
     ]
    },
    {
     "name": "stderr",
     "output_type": "stream",
     "text": [
      "duplicated sequences:\n"
     ]
    },
    {
     "name": "stdout",
     "output_type": "stream",
     "text": [
      "character(0)\n"
     ]
    },
    {
     "name": "stderr",
     "output_type": "stream",
     "text": [
      "my files:\n"
     ]
    },
    {
     "name": "stdout",
     "output_type": "stream",
     "text": [
      "[1] \"batch8/ds_batch8/CLONES_TRBCHP_356-02-PBMC-DNA_2000000.txt\"\n",
      "[2] \"batch1_cfDNA/CLONES_TRBCHP_356-02-cfDNA_2000000.txt\"       \n"
     ]
    },
    {
     "name": "stderr",
     "output_type": "stream",
     "text": [
      "Total recovered clonotypes:\n"
     ]
    },
    {
     "name": "stdout",
     "output_type": "stream",
     "text": [
      "[1] 115\n"
     ]
    },
    {
     "name": "stderr",
     "output_type": "stream",
     "text": [
      "Total out-of-frame clonotypes:\n"
     ]
    },
    {
     "name": "stdout",
     "output_type": "stream",
     "text": [
      "[1] 21\n"
     ]
    },
    {
     "name": "stderr",
     "output_type": "stream",
     "text": [
      "Total clonotypes with stop codon:\n"
     ]
    },
    {
     "name": "stdout",
     "output_type": "stream",
     "text": [
      "[1] 3\n"
     ]
    },
    {
     "name": "stderr",
     "output_type": "stream",
     "text": [
      "Total productive clonotypes:\n"
     ]
    },
    {
     "name": "stdout",
     "output_type": "stream",
     "text": [
      "[1] 91\n"
     ]
    },
    {
     "name": "stderr",
     "output_type": "stream",
     "text": [
      "Output contains all clonotypes\n",
      "list of samples to track clones: \n"
     ]
    },
    {
     "name": "stdout",
     "output_type": "stream",
     "text": [
      "[1] CHP_356-02-PBMC  CHP_356-02-cfDNA\n",
      "Levels: CHP_356-02-PBMC CHP_356-02-cfDNA\n"
     ]
    },
    {
     "name": "stderr",
     "output_type": "stream",
     "text": [
      "Total number of recurring clonotypes: \n"
     ]
    },
    {
     "name": "stdout",
     "output_type": "stream",
     "text": [
      "[1] 0\n"
     ]
    },
    {
     "name": "stderr",
     "output_type": "stream",
     "text": [
      "these are what we color: \n"
     ]
    },
    {
     "name": "stdout",
     "output_type": "stream",
     "text": [
      "named character(0)\n"
     ]
    },
    {
     "name": "stderr",
     "output_type": "stream",
     "text": [
      "duplicated sequences:\n"
     ]
    },
    {
     "name": "stdout",
     "output_type": "stream",
     "text": [
      "[1] \"CASSHLTVGGGYEQYF\" \"CASSARQ_QGSPLHF\"  \"CSPSQTSGDNEQFF\"  \n"
     ]
    },
    {
     "name": "stderr",
     "output_type": "stream",
     "text": [
      "my files:\n"
     ]
    },
    {
     "name": "stdout",
     "output_type": "stream",
     "text": [
      "[1] \"batch4/ds_batch4/CLONES_TRBCHP_357-01-PBMC-DNA_2000000.txt\"\n",
      "[2] \"batch3a9_cfDNA/CLONES_TRBCHP_357-01_cfDNA_2000000.txt\"     \n"
     ]
    },
    {
     "name": "stderr",
     "output_type": "stream",
     "text": [
      "Total recovered clonotypes:\n"
     ]
    },
    {
     "name": "stdout",
     "output_type": "stream",
     "text": [
      "[1] 337\n"
     ]
    },
    {
     "name": "stderr",
     "output_type": "stream",
     "text": [
      "Total out-of-frame clonotypes:\n"
     ]
    },
    {
     "name": "stdout",
     "output_type": "stream",
     "text": [
      "[1] 86\n"
     ]
    },
    {
     "name": "stderr",
     "output_type": "stream",
     "text": [
      "Total clonotypes with stop codon:\n"
     ]
    },
    {
     "name": "stdout",
     "output_type": "stream",
     "text": [
      "[1] 8\n"
     ]
    },
    {
     "name": "stderr",
     "output_type": "stream",
     "text": [
      "Total productive clonotypes:\n"
     ]
    },
    {
     "name": "stdout",
     "output_type": "stream",
     "text": [
      "[1] 243\n"
     ]
    },
    {
     "name": "stderr",
     "output_type": "stream",
     "text": [
      "Output contains all clonotypes\n",
      "list of samples to track clones: \n"
     ]
    },
    {
     "name": "stdout",
     "output_type": "stream",
     "text": [
      "[1] CHP_357-01-PBMC  CHP_357-01-cfDNA\n",
      "Levels: CHP_357-01-PBMC CHP_357-01-cfDNA\n"
     ]
    },
    {
     "name": "stderr",
     "output_type": "stream",
     "text": [
      "Total number of recurring clonotypes: \n"
     ]
    },
    {
     "name": "stdout",
     "output_type": "stream",
     "text": [
      "[1] 0\n"
     ]
    },
    {
     "name": "stderr",
     "output_type": "stream",
     "text": [
      "these are what we color: \n"
     ]
    },
    {
     "name": "stdout",
     "output_type": "stream",
     "text": [
      "named character(0)\n"
     ]
    },
    {
     "name": "stderr",
     "output_type": "stream",
     "text": [
      "duplicated sequences:\n"
     ]
    },
    {
     "name": "stdout",
     "output_type": "stream",
     "text": [
      "character(0)\n"
     ]
    },
    {
     "name": "stderr",
     "output_type": "stream",
     "text": [
      "my files:\n"
     ]
    },
    {
     "name": "stdout",
     "output_type": "stream",
     "text": [
      "[1] \"batch6a/ds_batch6a/CLONES_TRBCHP_357-03-PBMC-DNA_2000000.txt\"\n",
      "[2] \"batch1_cfDNA/CLONES_TRBCHP_357-03-cfDNA_2000000.txt\"         \n"
     ]
    },
    {
     "name": "stderr",
     "output_type": "stream",
     "text": [
      "Total recovered clonotypes:\n"
     ]
    },
    {
     "name": "stdout",
     "output_type": "stream",
     "text": [
      "[1] 115\n"
     ]
    },
    {
     "name": "stderr",
     "output_type": "stream",
     "text": [
      "Total out-of-frame clonotypes:\n"
     ]
    },
    {
     "name": "stdout",
     "output_type": "stream",
     "text": [
      "[1] 30\n"
     ]
    },
    {
     "name": "stderr",
     "output_type": "stream",
     "text": [
      "Total clonotypes with stop codon:\n"
     ]
    },
    {
     "name": "stdout",
     "output_type": "stream",
     "text": [
      "[1] 6\n"
     ]
    },
    {
     "name": "stderr",
     "output_type": "stream",
     "text": [
      "Total productive clonotypes:\n"
     ]
    },
    {
     "name": "stdout",
     "output_type": "stream",
     "text": [
      "[1] 79\n"
     ]
    },
    {
     "name": "stderr",
     "output_type": "stream",
     "text": [
      "Output contains all clonotypes\n",
      "list of samples to track clones: \n"
     ]
    },
    {
     "name": "stdout",
     "output_type": "stream",
     "text": [
      "[1] CHP_357-03-PBMC  CHP_357-03-cfDNA\n",
      "Levels: CHP_357-03-PBMC CHP_357-03-cfDNA\n"
     ]
    },
    {
     "name": "stderr",
     "output_type": "stream",
     "text": [
      "Total number of recurring clonotypes: \n"
     ]
    },
    {
     "name": "stdout",
     "output_type": "stream",
     "text": [
      "[1] 0\n"
     ]
    },
    {
     "name": "stderr",
     "output_type": "stream",
     "text": [
      "these are what we color: \n"
     ]
    },
    {
     "name": "stdout",
     "output_type": "stream",
     "text": [
      "named character(0)\n"
     ]
    },
    {
     "name": "stderr",
     "output_type": "stream",
     "text": [
      "duplicated sequences:\n"
     ]
    },
    {
     "name": "stdout",
     "output_type": "stream",
     "text": [
      "character(0)\n"
     ]
    },
    {
     "name": "stderr",
     "output_type": "stream",
     "text": [
      "my files:\n"
     ]
    },
    {
     "name": "stdout",
     "output_type": "stream",
     "text": [
      "[1] \"batch7/ds_batch7/CLONES_TRBCHP_357-04-PBMC-DNA_2000000.txt\"\n",
      "[2] \"batch3a9_cfDNA/CLONES_TRBCHP_357-04_cfDNA_2000000.txt\"     \n"
     ]
    },
    {
     "name": "stderr",
     "output_type": "stream",
     "text": [
      "Total recovered clonotypes:\n"
     ]
    },
    {
     "name": "stdout",
     "output_type": "stream",
     "text": [
      "[1] 85\n"
     ]
    },
    {
     "name": "stderr",
     "output_type": "stream",
     "text": [
      "Total out-of-frame clonotypes:\n"
     ]
    },
    {
     "name": "stdout",
     "output_type": "stream",
     "text": [
      "[1] 20\n"
     ]
    },
    {
     "name": "stderr",
     "output_type": "stream",
     "text": [
      "Total clonotypes with stop codon:\n"
     ]
    },
    {
     "name": "stdout",
     "output_type": "stream",
     "text": [
      "[1] 3\n"
     ]
    },
    {
     "name": "stderr",
     "output_type": "stream",
     "text": [
      "Total productive clonotypes:\n"
     ]
    },
    {
     "name": "stdout",
     "output_type": "stream",
     "text": [
      "[1] 62\n"
     ]
    },
    {
     "name": "stderr",
     "output_type": "stream",
     "text": [
      "Output contains all clonotypes\n",
      "list of samples to track clones: \n"
     ]
    },
    {
     "name": "stdout",
     "output_type": "stream",
     "text": [
      "[1] CHP_357-04-PBMC  CHP_357-04-cfDNA\n",
      "Levels: CHP_357-04-PBMC CHP_357-04-cfDNA\n"
     ]
    },
    {
     "name": "stderr",
     "output_type": "stream",
     "text": [
      "Total number of recurring clonotypes: \n"
     ]
    },
    {
     "name": "stdout",
     "output_type": "stream",
     "text": [
      "[1] 0\n"
     ]
    },
    {
     "name": "stderr",
     "output_type": "stream",
     "text": [
      "these are what we color: \n"
     ]
    },
    {
     "name": "stdout",
     "output_type": "stream",
     "text": [
      "named character(0)\n"
     ]
    },
    {
     "name": "stderr",
     "output_type": "stream",
     "text": [
      "duplicated sequences:\n"
     ]
    },
    {
     "name": "stdout",
     "output_type": "stream",
     "text": [
      "character(0)\n"
     ]
    },
    {
     "name": "stderr",
     "output_type": "stream",
     "text": [
      "my files:\n"
     ]
    },
    {
     "name": "stdout",
     "output_type": "stream",
     "text": [
      "[1] \"batch1/ds_batch1/CLONES_TRBCHP_358-01-PBMC-DNA_2000000.txt\"\n",
      "[2] \"batch3a9_cfDNA/CLONES_TRBCHP_358-01_cfDNA_2000000.txt\"     \n"
     ]
    },
    {
     "name": "stderr",
     "output_type": "stream",
     "text": [
      "Total recovered clonotypes:\n"
     ]
    },
    {
     "name": "stdout",
     "output_type": "stream",
     "text": [
      "[1] 95\n"
     ]
    },
    {
     "name": "stderr",
     "output_type": "stream",
     "text": [
      "Total out-of-frame clonotypes:\n"
     ]
    },
    {
     "name": "stdout",
     "output_type": "stream",
     "text": [
      "[1] 21\n"
     ]
    },
    {
     "name": "stderr",
     "output_type": "stream",
     "text": [
      "Total clonotypes with stop codon:\n"
     ]
    },
    {
     "name": "stdout",
     "output_type": "stream",
     "text": [
      "[1] 0\n"
     ]
    },
    {
     "name": "stderr",
     "output_type": "stream",
     "text": [
      "Total productive clonotypes:\n"
     ]
    },
    {
     "name": "stdout",
     "output_type": "stream",
     "text": [
      "[1] 74\n"
     ]
    },
    {
     "name": "stderr",
     "output_type": "stream",
     "text": [
      "Output contains all clonotypes\n",
      "list of samples to track clones: \n"
     ]
    },
    {
     "name": "stdout",
     "output_type": "stream",
     "text": [
      "[1] CHP_358-01-PBMC  CHP_358-01-cfDNA\n",
      "Levels: CHP_358-01-PBMC CHP_358-01-cfDNA\n"
     ]
    },
    {
     "name": "stderr",
     "output_type": "stream",
     "text": [
      "Total number of recurring clonotypes: \n"
     ]
    },
    {
     "name": "stdout",
     "output_type": "stream",
     "text": [
      "[1] 0\n"
     ]
    },
    {
     "name": "stderr",
     "output_type": "stream",
     "text": [
      "these are what we color: \n"
     ]
    },
    {
     "name": "stdout",
     "output_type": "stream",
     "text": [
      "named character(0)\n"
     ]
    },
    {
     "name": "stderr",
     "output_type": "stream",
     "text": [
      "duplicated sequences:\n"
     ]
    },
    {
     "name": "stdout",
     "output_type": "stream",
     "text": [
      "character(0)\n"
     ]
    },
    {
     "name": "stderr",
     "output_type": "stream",
     "text": [
      "my files:\n"
     ]
    },
    {
     "name": "stdout",
     "output_type": "stream",
     "text": [
      "[1] \"batch_reseq/ds_batch_reseq/CLONES_TRBCHP_358-02-PBMC-DNA_2000000.txt\"\n",
      "[2] \"batch10_cfDNA/CLONES_TRBCHP_358-02_cfDNA_2000000.txt\"                \n"
     ]
    },
    {
     "name": "stderr",
     "output_type": "stream",
     "text": [
      "Total recovered clonotypes:\n"
     ]
    },
    {
     "name": "stdout",
     "output_type": "stream",
     "text": [
      "[1] 95\n"
     ]
    },
    {
     "name": "stderr",
     "output_type": "stream",
     "text": [
      "Total out-of-frame clonotypes:\n"
     ]
    },
    {
     "name": "stdout",
     "output_type": "stream",
     "text": [
      "[1] 17\n"
     ]
    },
    {
     "name": "stderr",
     "output_type": "stream",
     "text": [
      "Total clonotypes with stop codon:\n"
     ]
    },
    {
     "name": "stdout",
     "output_type": "stream",
     "text": [
      "[1] 0\n"
     ]
    },
    {
     "name": "stderr",
     "output_type": "stream",
     "text": [
      "Total productive clonotypes:\n"
     ]
    },
    {
     "name": "stdout",
     "output_type": "stream",
     "text": [
      "[1] 78\n"
     ]
    },
    {
     "name": "stderr",
     "output_type": "stream",
     "text": [
      "Output contains all clonotypes\n",
      "list of samples to track clones: \n"
     ]
    },
    {
     "name": "stdout",
     "output_type": "stream",
     "text": [
      "[1] CHP_358-02-PBMC  CHP_358-02-cfDNA\n",
      "Levels: CHP_358-02-PBMC CHP_358-02-cfDNA\n"
     ]
    },
    {
     "name": "stderr",
     "output_type": "stream",
     "text": [
      "Total number of recurring clonotypes: \n"
     ]
    },
    {
     "name": "stdout",
     "output_type": "stream",
     "text": [
      "[1] 0\n"
     ]
    },
    {
     "name": "stderr",
     "output_type": "stream",
     "text": [
      "these are what we color: \n"
     ]
    },
    {
     "name": "stdout",
     "output_type": "stream",
     "text": [
      "named character(0)\n"
     ]
    },
    {
     "name": "stderr",
     "output_type": "stream",
     "text": [
      "duplicated sequences:\n"
     ]
    },
    {
     "name": "stdout",
     "output_type": "stream",
     "text": [
      "[1] \"CASSPIGRGGYTF\"                                                                    \n",
      "[2] \"CASSLEQRSYNEQFFGPGTRLTVLGKKGAPGGREGEQPSL_TTPEPCS*GSGHWAIQGPPRGKRGLRQGPQGCANTGELFF\"\n",
      "[3] \"CAIRGVLLQG_AEGNQPQHF\"                                                             \n",
      "[4] \"CASSYELVARWAQDTEAFF\"                                                              \n",
      "[5] \"CASSSRGREDTEAFF\"                                                                  \n",
      "[6] \"CASSFFLEGTDTQYF\"                                                                  \n",
      "[7] \"CASSFGVNTEAFF\"                                                                    \n"
     ]
    },
    {
     "name": "stderr",
     "output_type": "stream",
     "text": [
      "my files:\n"
     ]
    },
    {
     "name": "stdout",
     "output_type": "stream",
     "text": [
      "[1] \"batch3/ds_batch3/CLONES_TRBCHP_358-03-PBMC-DNA_2000000.txt\"\n",
      "[2] \"batch3a9_cfDNA/CLONES_TRBCHP_358-03_cfDNA_2000000.txt\"     \n"
     ]
    },
    {
     "name": "stderr",
     "output_type": "stream",
     "text": [
      "Total recovered clonotypes:\n"
     ]
    },
    {
     "name": "stdout",
     "output_type": "stream",
     "text": [
      "[1] 742\n"
     ]
    },
    {
     "name": "stderr",
     "output_type": "stream",
     "text": [
      "Total out-of-frame clonotypes:\n"
     ]
    },
    {
     "name": "stdout",
     "output_type": "stream",
     "text": [
      "[1] 136\n"
     ]
    },
    {
     "name": "stderr",
     "output_type": "stream",
     "text": [
      "Total clonotypes with stop codon:\n"
     ]
    },
    {
     "name": "stdout",
     "output_type": "stream",
     "text": [
      "[1] 9\n"
     ]
    },
    {
     "name": "stderr",
     "output_type": "stream",
     "text": [
      "Total productive clonotypes:\n"
     ]
    },
    {
     "name": "stdout",
     "output_type": "stream",
     "text": [
      "[1] 597\n"
     ]
    },
    {
     "name": "stderr",
     "output_type": "stream",
     "text": [
      "Output contains all clonotypes\n",
      "list of samples to track clones: \n"
     ]
    },
    {
     "name": "stdout",
     "output_type": "stream",
     "text": [
      "[1] CHP_358-03-PBMC  CHP_358-03-cfDNA\n",
      "Levels: CHP_358-03-PBMC CHP_358-03-cfDNA\n"
     ]
    },
    {
     "name": "stderr",
     "output_type": "stream",
     "text": [
      "Total number of recurring clonotypes: \n"
     ]
    },
    {
     "name": "stdout",
     "output_type": "stream",
     "text": [
      "[1] 0\n"
     ]
    },
    {
     "name": "stderr",
     "output_type": "stream",
     "text": [
      "these are what we color: \n"
     ]
    },
    {
     "name": "stdout",
     "output_type": "stream",
     "text": [
      "named character(0)\n"
     ]
    },
    {
     "name": "stderr",
     "output_type": "stream",
     "text": [
      "duplicated sequences:\n"
     ]
    },
    {
     "name": "stdout",
     "output_type": "stream",
     "text": [
      "character(0)\n"
     ]
    },
    {
     "name": "stderr",
     "output_type": "stream",
     "text": [
      "my files:\n"
     ]
    },
    {
     "name": "stdout",
     "output_type": "stream",
     "text": [
      "[1] \"batch7/ds_batch7/CLONES_TRBCHP_359-01-PBMC-DNA_2000000.txt\"\n",
      "[2] \"batch1_cfDNA/CLONES_TRBCHP_359-01-cfDNA_2000000.txt\"       \n"
     ]
    },
    {
     "name": "stderr",
     "output_type": "stream",
     "text": [
      "Total recovered clonotypes:\n"
     ]
    },
    {
     "name": "stdout",
     "output_type": "stream",
     "text": [
      "[1] 38\n"
     ]
    },
    {
     "name": "stderr",
     "output_type": "stream",
     "text": [
      "Total out-of-frame clonotypes:\n"
     ]
    },
    {
     "name": "stdout",
     "output_type": "stream",
     "text": [
      "[1] 8\n"
     ]
    },
    {
     "name": "stderr",
     "output_type": "stream",
     "text": [
      "Total clonotypes with stop codon:\n"
     ]
    },
    {
     "name": "stdout",
     "output_type": "stream",
     "text": [
      "[1] 0\n"
     ]
    },
    {
     "name": "stderr",
     "output_type": "stream",
     "text": [
      "Total productive clonotypes:\n"
     ]
    },
    {
     "name": "stdout",
     "output_type": "stream",
     "text": [
      "[1] 30\n"
     ]
    },
    {
     "name": "stderr",
     "output_type": "stream",
     "text": [
      "Output contains all clonotypes\n",
      "list of samples to track clones: \n"
     ]
    },
    {
     "name": "stdout",
     "output_type": "stream",
     "text": [
      "[1] CHP_359-01-PBMC  CHP_359-01-cfDNA\n",
      "Levels: CHP_359-01-PBMC CHP_359-01-cfDNA\n"
     ]
    },
    {
     "name": "stderr",
     "output_type": "stream",
     "text": [
      "Total number of recurring clonotypes: \n"
     ]
    },
    {
     "name": "stdout",
     "output_type": "stream",
     "text": [
      "[1] 0\n"
     ]
    },
    {
     "name": "stderr",
     "output_type": "stream",
     "text": [
      "these are what we color: \n"
     ]
    },
    {
     "name": "stdout",
     "output_type": "stream",
     "text": [
      "named character(0)\n"
     ]
    },
    {
     "name": "stderr",
     "output_type": "stream",
     "text": [
      "duplicated sequences:\n"
     ]
    },
    {
     "name": "stdout",
     "output_type": "stream",
     "text": [
      "[1] \"CASSQEAGGAEAFF\"\n"
     ]
    },
    {
     "name": "stderr",
     "output_type": "stream",
     "text": [
      "my files:\n"
     ]
    },
    {
     "name": "stdout",
     "output_type": "stream",
     "text": [
      "[1] \"batch6a/ds_batch6a/CLONES_TRBCHP_359-02-PBMC-DNA_2000000.txt\"\n",
      "[2] \"batch3a9_cfDNA/CLONES_TRBCHP_359-02_cfDNA_2000000.txt\"       \n"
     ]
    },
    {
     "name": "stderr",
     "output_type": "stream",
     "text": [
      "Total recovered clonotypes:\n"
     ]
    },
    {
     "name": "stdout",
     "output_type": "stream",
     "text": [
      "[1] 522\n"
     ]
    },
    {
     "name": "stderr",
     "output_type": "stream",
     "text": [
      "Total out-of-frame clonotypes:\n"
     ]
    },
    {
     "name": "stdout",
     "output_type": "stream",
     "text": [
      "[1] 97\n"
     ]
    },
    {
     "name": "stderr",
     "output_type": "stream",
     "text": [
      "Total clonotypes with stop codon:\n"
     ]
    },
    {
     "name": "stdout",
     "output_type": "stream",
     "text": [
      "[1] 6\n"
     ]
    },
    {
     "name": "stderr",
     "output_type": "stream",
     "text": [
      "Total productive clonotypes:\n"
     ]
    },
    {
     "name": "stdout",
     "output_type": "stream",
     "text": [
      "[1] 419\n"
     ]
    },
    {
     "name": "stderr",
     "output_type": "stream",
     "text": [
      "Output contains all clonotypes\n",
      "list of samples to track clones: \n"
     ]
    },
    {
     "name": "stdout",
     "output_type": "stream",
     "text": [
      "[1] CHP_359-02-PBMC  CHP_359-02-cfDNA\n",
      "Levels: CHP_359-02-PBMC CHP_359-02-cfDNA\n"
     ]
    },
    {
     "name": "stderr",
     "output_type": "stream",
     "text": [
      "Total number of recurring clonotypes: \n"
     ]
    },
    {
     "name": "stdout",
     "output_type": "stream",
     "text": [
      "[1] 1\n"
     ]
    },
    {
     "name": "stderr",
     "output_type": "stream",
     "text": [
      "these are what we color: \n"
     ]
    },
    {
     "name": "stdout",
     "output_type": "stream",
     "text": [
      "CASRGENYMNTEAFF \n",
      "      \"#BEB3B2\" \n"
     ]
    },
    {
     "name": "stderr",
     "output_type": "stream",
     "text": [
      "duplicated sequences:\n"
     ]
    },
    {
     "name": "stdout",
     "output_type": "stream",
     "text": [
      "[1] \"CASSWRLAAGELFF\"\n"
     ]
    },
    {
     "name": "stderr",
     "output_type": "stream",
     "text": [
      "my files:\n"
     ]
    },
    {
     "name": "stdout",
     "output_type": "stream",
     "text": [
      "[1] \"batch6a/ds_batch6a/CLONES_TRBCHP_359-04-PBMC-DNA_2000000.txt\"\n",
      "[2] \"batch1_cfDNA/CLONES_TRBCHP_359-04-cfDNA_2000000.txt\"         \n"
     ]
    },
    {
     "name": "stderr",
     "output_type": "stream",
     "text": [
      "Total recovered clonotypes:\n"
     ]
    },
    {
     "name": "stdout",
     "output_type": "stream",
     "text": [
      "[1] 344\n"
     ]
    },
    {
     "name": "stderr",
     "output_type": "stream",
     "text": [
      "Total out-of-frame clonotypes:\n"
     ]
    },
    {
     "name": "stdout",
     "output_type": "stream",
     "text": [
      "[1] 51\n"
     ]
    },
    {
     "name": "stderr",
     "output_type": "stream",
     "text": [
      "Total clonotypes with stop codon:\n"
     ]
    },
    {
     "name": "stdout",
     "output_type": "stream",
     "text": [
      "[1] 6\n"
     ]
    },
    {
     "name": "stderr",
     "output_type": "stream",
     "text": [
      "Total productive clonotypes:\n"
     ]
    },
    {
     "name": "stdout",
     "output_type": "stream",
     "text": [
      "[1] 287\n"
     ]
    },
    {
     "name": "stderr",
     "output_type": "stream",
     "text": [
      "Output contains all clonotypes\n",
      "list of samples to track clones: \n"
     ]
    },
    {
     "name": "stdout",
     "output_type": "stream",
     "text": [
      "[1] CHP_359-04-PBMC  CHP_359-04-cfDNA\n",
      "Levels: CHP_359-04-PBMC CHP_359-04-cfDNA\n"
     ]
    },
    {
     "name": "stderr",
     "output_type": "stream",
     "text": [
      "Total number of recurring clonotypes: \n"
     ]
    },
    {
     "name": "stdout",
     "output_type": "stream",
     "text": [
      "[1] 0\n"
     ]
    },
    {
     "name": "stderr",
     "output_type": "stream",
     "text": [
      "these are what we color: \n"
     ]
    },
    {
     "name": "stdout",
     "output_type": "stream",
     "text": [
      "named character(0)\n"
     ]
    },
    {
     "name": "stderr",
     "output_type": "stream",
     "text": [
      "duplicated sequences:\n"
     ]
    },
    {
     "name": "stdout",
     "output_type": "stream",
     "text": [
      "[1] \"CASWTGFPNYEQYF\"  \"CASTQGRDGPGELFF\" \"CASSLAGQSNQPQHF\" \"CASSQANTEAFF\"   \n"
     ]
    },
    {
     "name": "stderr",
     "output_type": "stream",
     "text": [
      "my files:\n"
     ]
    },
    {
     "name": "stdout",
     "output_type": "stream",
     "text": [
      "[1] \"batch7/ds_batch7/CLONES_TRBCHP_360-02-PBMC-DNA_2000000.txt\"\n",
      "[2] \"batch1_cfDNA/CLONES_TRBCHP_360-02-cfDNA_2000000.txt\"       \n"
     ]
    },
    {
     "name": "stderr",
     "output_type": "stream",
     "text": [
      "Total recovered clonotypes:\n"
     ]
    },
    {
     "name": "stdout",
     "output_type": "stream",
     "text": [
      "[1] 308\n"
     ]
    },
    {
     "name": "stderr",
     "output_type": "stream",
     "text": [
      "Total out-of-frame clonotypes:\n"
     ]
    },
    {
     "name": "stdout",
     "output_type": "stream",
     "text": [
      "[1] 58\n"
     ]
    },
    {
     "name": "stderr",
     "output_type": "stream",
     "text": [
      "Total clonotypes with stop codon:\n"
     ]
    },
    {
     "name": "stdout",
     "output_type": "stream",
     "text": [
      "[1] 7\n"
     ]
    },
    {
     "name": "stderr",
     "output_type": "stream",
     "text": [
      "Total productive clonotypes:\n"
     ]
    },
    {
     "name": "stdout",
     "output_type": "stream",
     "text": [
      "[1] 243\n"
     ]
    },
    {
     "name": "stderr",
     "output_type": "stream",
     "text": [
      "Output contains all clonotypes\n",
      "list of samples to track clones: \n"
     ]
    },
    {
     "name": "stdout",
     "output_type": "stream",
     "text": [
      "[1] CHP_360-02-PBMC  CHP_360-02-cfDNA\n",
      "Levels: CHP_360-02-PBMC CHP_360-02-cfDNA\n"
     ]
    },
    {
     "name": "stderr",
     "output_type": "stream",
     "text": [
      "Total number of recurring clonotypes: \n"
     ]
    },
    {
     "name": "stdout",
     "output_type": "stream",
     "text": [
      "[1] 0\n"
     ]
    },
    {
     "name": "stderr",
     "output_type": "stream",
     "text": [
      "these are what we color: \n"
     ]
    },
    {
     "name": "stdout",
     "output_type": "stream",
     "text": [
      "named character(0)\n"
     ]
    },
    {
     "name": "stderr",
     "output_type": "stream",
     "text": [
      "duplicated sequences:\n"
     ]
    },
    {
     "name": "stdout",
     "output_type": "stream",
     "text": [
      "character(0)\n"
     ]
    },
    {
     "name": "stderr",
     "output_type": "stream",
     "text": [
      "my files:\n"
     ]
    },
    {
     "name": "stdout",
     "output_type": "stream",
     "text": [
      "[1] \"batch4/ds_batch4/CLONES_TRBCHP_361-01-PBMC-DNA_2000000.txt\"\n",
      "[2] \"batch5_cfDNA/CLONES_TRBCHP_361-01_cfDNA_2000000.txt\"       \n"
     ]
    },
    {
     "name": "stderr",
     "output_type": "stream",
     "text": [
      "Total recovered clonotypes:\n"
     ]
    },
    {
     "name": "stdout",
     "output_type": "stream",
     "text": [
      "[1] 198\n"
     ]
    },
    {
     "name": "stderr",
     "output_type": "stream",
     "text": [
      "Total out-of-frame clonotypes:\n"
     ]
    },
    {
     "name": "stdout",
     "output_type": "stream",
     "text": [
      "[1] 46\n"
     ]
    },
    {
     "name": "stderr",
     "output_type": "stream",
     "text": [
      "Total clonotypes with stop codon:\n"
     ]
    },
    {
     "name": "stdout",
     "output_type": "stream",
     "text": [
      "[1] 5\n"
     ]
    },
    {
     "name": "stderr",
     "output_type": "stream",
     "text": [
      "Total productive clonotypes:\n"
     ]
    },
    {
     "name": "stdout",
     "output_type": "stream",
     "text": [
      "[1] 147\n"
     ]
    },
    {
     "name": "stderr",
     "output_type": "stream",
     "text": [
      "Output contains all clonotypes\n",
      "list of samples to track clones: \n"
     ]
    },
    {
     "name": "stdout",
     "output_type": "stream",
     "text": [
      "[1] CHP_361-01-PBMC  CHP_361-01-cfDNA\n",
      "Levels: CHP_361-01-PBMC CHP_361-01-cfDNA\n"
     ]
    },
    {
     "name": "stderr",
     "output_type": "stream",
     "text": [
      "Total number of recurring clonotypes: \n"
     ]
    },
    {
     "name": "stdout",
     "output_type": "stream",
     "text": [
      "[1] 1\n"
     ]
    },
    {
     "name": "stderr",
     "output_type": "stream",
     "text": [
      "these are what we color: \n"
     ]
    },
    {
     "name": "stdout",
     "output_type": "stream",
     "text": [
      "CASSLGGQGMGEQYF \n",
      "      \"#BEB3B2\" \n"
     ]
    },
    {
     "name": "stderr",
     "output_type": "stream",
     "text": [
      "duplicated sequences:\n"
     ]
    },
    {
     "name": "stdout",
     "output_type": "stream",
     "text": [
      "[1] \"CASSDKTANEKLFF\"    \"CASRPGGALISTDTQYF\" \"CASSFRLDSNEKLFF\"  \n"
     ]
    },
    {
     "name": "stderr",
     "output_type": "stream",
     "text": [
      "my files:\n"
     ]
    },
    {
     "name": "stdout",
     "output_type": "stream",
     "text": [
      "[1] \"batch3/ds_batch3/CLONES_TRBCHP_361-02-PBMC-DNA_2000000.txt\"\n",
      "[2] \"batch10_cfDNA/CLONES_TRBCHP_361-02_cfDNA_2000000.txt\"      \n"
     ]
    },
    {
     "name": "stderr",
     "output_type": "stream",
     "text": [
      "Total recovered clonotypes:\n"
     ]
    },
    {
     "name": "stdout",
     "output_type": "stream",
     "text": [
      "[1] 132\n"
     ]
    },
    {
     "name": "stderr",
     "output_type": "stream",
     "text": [
      "Total out-of-frame clonotypes:\n"
     ]
    },
    {
     "name": "stdout",
     "output_type": "stream",
     "text": [
      "[1] 34\n"
     ]
    },
    {
     "name": "stderr",
     "output_type": "stream",
     "text": [
      "Total clonotypes with stop codon:\n"
     ]
    },
    {
     "name": "stdout",
     "output_type": "stream",
     "text": [
      "[1] 2\n"
     ]
    },
    {
     "name": "stderr",
     "output_type": "stream",
     "text": [
      "Total productive clonotypes:\n"
     ]
    },
    {
     "name": "stdout",
     "output_type": "stream",
     "text": [
      "[1] 96\n"
     ]
    },
    {
     "name": "stderr",
     "output_type": "stream",
     "text": [
      "Output contains all clonotypes\n",
      "list of samples to track clones: \n"
     ]
    },
    {
     "name": "stdout",
     "output_type": "stream",
     "text": [
      "[1] CHP_361-02-PBMC  CHP_361-02-cfDNA\n",
      "Levels: CHP_361-02-PBMC CHP_361-02-cfDNA\n"
     ]
    },
    {
     "name": "stderr",
     "output_type": "stream",
     "text": [
      "Total number of recurring clonotypes: \n"
     ]
    },
    {
     "name": "stdout",
     "output_type": "stream",
     "text": [
      "[1] 0\n"
     ]
    },
    {
     "name": "stderr",
     "output_type": "stream",
     "text": [
      "these are what we color: \n"
     ]
    },
    {
     "name": "stdout",
     "output_type": "stream",
     "text": [
      "named character(0)\n"
     ]
    },
    {
     "name": "stderr",
     "output_type": "stream",
     "text": [
      "duplicated sequences:\n"
     ]
    },
    {
     "name": "stdout",
     "output_type": "stream",
     "text": [
      "character(0)\n"
     ]
    },
    {
     "name": "stderr",
     "output_type": "stream",
     "text": [
      "my files:\n"
     ]
    },
    {
     "name": "stdout",
     "output_type": "stream",
     "text": [
      "[1] \"batch3/ds_batch3/CLONES_TRBCHP_361-03-PBMC-DNA_2000000.txt\"\n",
      "[2] \"batch5_cfDNA/CLONES_TRBCHP_361-03_cfDNA_2000000.txt\"       \n"
     ]
    },
    {
     "name": "stderr",
     "output_type": "stream",
     "text": [
      "Total recovered clonotypes:\n"
     ]
    },
    {
     "name": "stdout",
     "output_type": "stream",
     "text": [
      "[1] 66\n"
     ]
    },
    {
     "name": "stderr",
     "output_type": "stream",
     "text": [
      "Total out-of-frame clonotypes:\n"
     ]
    },
    {
     "name": "stdout",
     "output_type": "stream",
     "text": [
      "[1] 14\n"
     ]
    },
    {
     "name": "stderr",
     "output_type": "stream",
     "text": [
      "Total clonotypes with stop codon:\n"
     ]
    },
    {
     "name": "stdout",
     "output_type": "stream",
     "text": [
      "[1] 3\n"
     ]
    },
    {
     "name": "stderr",
     "output_type": "stream",
     "text": [
      "Total productive clonotypes:\n"
     ]
    },
    {
     "name": "stdout",
     "output_type": "stream",
     "text": [
      "[1] 49\n"
     ]
    },
    {
     "name": "stderr",
     "output_type": "stream",
     "text": [
      "Output contains all clonotypes\n",
      "list of samples to track clones: \n"
     ]
    },
    {
     "name": "stdout",
     "output_type": "stream",
     "text": [
      "[1] CHP_361-03-PBMC  CHP_361-03-cfDNA\n",
      "Levels: CHP_361-03-PBMC CHP_361-03-cfDNA\n"
     ]
    },
    {
     "name": "stderr",
     "output_type": "stream",
     "text": [
      "Total number of recurring clonotypes: \n"
     ]
    },
    {
     "name": "stdout",
     "output_type": "stream",
     "text": [
      "[1] 0\n"
     ]
    },
    {
     "name": "stderr",
     "output_type": "stream",
     "text": [
      "these are what we color: \n"
     ]
    },
    {
     "name": "stdout",
     "output_type": "stream",
     "text": [
      "named character(0)\n"
     ]
    },
    {
     "name": "stderr",
     "output_type": "stream",
     "text": [
      "duplicated sequences:\n"
     ]
    },
    {
     "name": "stdout",
     "output_type": "stream",
     "text": [
      "character(0)\n"
     ]
    },
    {
     "name": "stderr",
     "output_type": "stream",
     "text": [
      "my files:\n"
     ]
    },
    {
     "name": "stdout",
     "output_type": "stream",
     "text": [
      "[1] \"batch7/ds_batch7/CLONES_TRBCHP_362-03-PBMC-DNA_2000000.txt\"\n",
      "[2] \"batch3a9_cfDNA/CLONES_TRBCHP_362-03_cfDNA_2000000.txt\"     \n"
     ]
    },
    {
     "name": "stderr",
     "output_type": "stream",
     "text": [
      "Total recovered clonotypes:\n"
     ]
    },
    {
     "name": "stdout",
     "output_type": "stream",
     "text": [
      "[1] 125\n"
     ]
    },
    {
     "name": "stderr",
     "output_type": "stream",
     "text": [
      "Total out-of-frame clonotypes:\n"
     ]
    },
    {
     "name": "stdout",
     "output_type": "stream",
     "text": [
      "[1] 27\n"
     ]
    },
    {
     "name": "stderr",
     "output_type": "stream",
     "text": [
      "Total clonotypes with stop codon:\n"
     ]
    },
    {
     "name": "stdout",
     "output_type": "stream",
     "text": [
      "[1] 1\n"
     ]
    },
    {
     "name": "stderr",
     "output_type": "stream",
     "text": [
      "Total productive clonotypes:\n"
     ]
    },
    {
     "name": "stdout",
     "output_type": "stream",
     "text": [
      "[1] 97\n"
     ]
    },
    {
     "name": "stderr",
     "output_type": "stream",
     "text": [
      "Output contains all clonotypes\n",
      "list of samples to track clones: \n"
     ]
    },
    {
     "name": "stdout",
     "output_type": "stream",
     "text": [
      "[1] CHP_362-03-PBMC  CHP_362-03-cfDNA\n",
      "Levels: CHP_362-03-PBMC CHP_362-03-cfDNA\n"
     ]
    },
    {
     "name": "stderr",
     "output_type": "stream",
     "text": [
      "Total number of recurring clonotypes: \n"
     ]
    },
    {
     "name": "stdout",
     "output_type": "stream",
     "text": [
      "[1] 0\n"
     ]
    },
    {
     "name": "stderr",
     "output_type": "stream",
     "text": [
      "these are what we color: \n"
     ]
    },
    {
     "name": "stdout",
     "output_type": "stream",
     "text": [
      "named character(0)\n"
     ]
    },
    {
     "name": "stderr",
     "output_type": "stream",
     "text": [
      "duplicated sequences:\n"
     ]
    },
    {
     "name": "stdout",
     "output_type": "stream",
     "text": [
      "character(0)\n"
     ]
    },
    {
     "name": "stderr",
     "output_type": "stream",
     "text": [
      "my files:\n"
     ]
    },
    {
     "name": "stdout",
     "output_type": "stream",
     "text": [
      "[1] \"batch7/ds_batch7/CLONES_TRBCHP_362-04-PBMC-DNA_2000000.txt\"\n",
      "[2] \"batch10_cfDNA/CLONES_TRBCHP_362-04_cfDNA_2000000.txt\"      \n"
     ]
    },
    {
     "name": "stderr",
     "output_type": "stream",
     "text": [
      "Total recovered clonotypes:\n"
     ]
    },
    {
     "name": "stdout",
     "output_type": "stream",
     "text": [
      "[1] 32\n"
     ]
    },
    {
     "name": "stderr",
     "output_type": "stream",
     "text": [
      "Total out-of-frame clonotypes:\n"
     ]
    },
    {
     "name": "stdout",
     "output_type": "stream",
     "text": [
      "[1] 11\n"
     ]
    },
    {
     "name": "stderr",
     "output_type": "stream",
     "text": [
      "Total clonotypes with stop codon:\n"
     ]
    },
    {
     "name": "stdout",
     "output_type": "stream",
     "text": [
      "[1] 0\n"
     ]
    },
    {
     "name": "stderr",
     "output_type": "stream",
     "text": [
      "Total productive clonotypes:\n"
     ]
    },
    {
     "name": "stdout",
     "output_type": "stream",
     "text": [
      "[1] 21\n"
     ]
    },
    {
     "name": "stderr",
     "output_type": "stream",
     "text": [
      "Output contains all clonotypes\n",
      "list of samples to track clones: \n"
     ]
    },
    {
     "name": "stdout",
     "output_type": "stream",
     "text": [
      "[1] CHP_362-04-PBMC  CHP_362-04-cfDNA\n",
      "Levels: CHP_362-04-PBMC CHP_362-04-cfDNA\n"
     ]
    },
    {
     "name": "stderr",
     "output_type": "stream",
     "text": [
      "Total number of recurring clonotypes: \n"
     ]
    },
    {
     "name": "stdout",
     "output_type": "stream",
     "text": [
      "[1] 0\n"
     ]
    },
    {
     "name": "stderr",
     "output_type": "stream",
     "text": [
      "these are what we color: \n"
     ]
    },
    {
     "name": "stdout",
     "output_type": "stream",
     "text": [
      "named character(0)\n"
     ]
    },
    {
     "name": "stderr",
     "output_type": "stream",
     "text": [
      "duplicated sequences:\n"
     ]
    },
    {
     "name": "stdout",
     "output_type": "stream",
     "text": [
      "[1] \"CASSQDPSGGAGELFF\" \"CASSLARNTGELFF\"  \n"
     ]
    },
    {
     "name": "stderr",
     "output_type": "stream",
     "text": [
      "my files:\n"
     ]
    },
    {
     "name": "stdout",
     "output_type": "stream",
     "text": [
      "[1] \"batch4/ds_batch4/CLONES_TRBCHP_363-02-PBMC-DNA_2000000.txt\"\n",
      "[2] \"batch5_cfDNA/CLONES_TRBCHP_363-02_cfDNA_2000000.txt\"       \n"
     ]
    },
    {
     "name": "stderr",
     "output_type": "stream",
     "text": [
      "Total recovered clonotypes:\n"
     ]
    },
    {
     "name": "stdout",
     "output_type": "stream",
     "text": [
      "[1] 275\n"
     ]
    },
    {
     "name": "stderr",
     "output_type": "stream",
     "text": [
      "Total out-of-frame clonotypes:\n"
     ]
    },
    {
     "name": "stdout",
     "output_type": "stream",
     "text": [
      "[1] 60\n"
     ]
    },
    {
     "name": "stderr",
     "output_type": "stream",
     "text": [
      "Total clonotypes with stop codon:\n"
     ]
    },
    {
     "name": "stdout",
     "output_type": "stream",
     "text": [
      "[1] 6\n"
     ]
    },
    {
     "name": "stderr",
     "output_type": "stream",
     "text": [
      "Total productive clonotypes:\n"
     ]
    },
    {
     "name": "stdout",
     "output_type": "stream",
     "text": [
      "[1] 209\n"
     ]
    },
    {
     "name": "stderr",
     "output_type": "stream",
     "text": [
      "Output contains all clonotypes\n",
      "list of samples to track clones: \n"
     ]
    },
    {
     "name": "stdout",
     "output_type": "stream",
     "text": [
      "[1] CHP_363-02-PBMC  CHP_363-02-cfDNA\n",
      "Levels: CHP_363-02-PBMC CHP_363-02-cfDNA\n"
     ]
    },
    {
     "name": "stderr",
     "output_type": "stream",
     "text": [
      "Total number of recurring clonotypes: \n"
     ]
    },
    {
     "name": "stdout",
     "output_type": "stream",
     "text": [
      "[1] 0\n"
     ]
    },
    {
     "name": "stderr",
     "output_type": "stream",
     "text": [
      "these are what we color: \n"
     ]
    },
    {
     "name": "stdout",
     "output_type": "stream",
     "text": [
      "named character(0)\n"
     ]
    },
    {
     "name": "stderr",
     "output_type": "stream",
     "text": [
      "duplicated sequences:\n"
     ]
    },
    {
     "name": "stdout",
     "output_type": "stream",
     "text": [
      "character(0)\n"
     ]
    },
    {
     "name": "stderr",
     "output_type": "stream",
     "text": [
      "my files:\n"
     ]
    },
    {
     "name": "stdout",
     "output_type": "stream",
     "text": [
      "[1] \"batch4/ds_batch4/CLONES_TRBCHP_364-02-PBMC-DNA_2000000.txt\"\n",
      "[2] \"batch10_cfDNA/CLONES_TRBCHP_364-02_cfDNA_2000000.txt\"      \n"
     ]
    },
    {
     "name": "stderr",
     "output_type": "stream",
     "text": [
      "Total recovered clonotypes:\n"
     ]
    },
    {
     "name": "stdout",
     "output_type": "stream",
     "text": [
      "[1] 101\n"
     ]
    },
    {
     "name": "stderr",
     "output_type": "stream",
     "text": [
      "Total out-of-frame clonotypes:\n"
     ]
    },
    {
     "name": "stdout",
     "output_type": "stream",
     "text": [
      "[1] 25\n"
     ]
    },
    {
     "name": "stderr",
     "output_type": "stream",
     "text": [
      "Total clonotypes with stop codon:\n"
     ]
    },
    {
     "name": "stdout",
     "output_type": "stream",
     "text": [
      "[1] 1\n"
     ]
    },
    {
     "name": "stderr",
     "output_type": "stream",
     "text": [
      "Total productive clonotypes:\n"
     ]
    },
    {
     "name": "stdout",
     "output_type": "stream",
     "text": [
      "[1] 75\n"
     ]
    },
    {
     "name": "stderr",
     "output_type": "stream",
     "text": [
      "Output contains all clonotypes\n",
      "list of samples to track clones: \n"
     ]
    },
    {
     "name": "stdout",
     "output_type": "stream",
     "text": [
      "[1] CHP_364-02-PBMC  CHP_364-02-cfDNA\n",
      "Levels: CHP_364-02-PBMC CHP_364-02-cfDNA\n"
     ]
    },
    {
     "name": "stderr",
     "output_type": "stream",
     "text": [
      "Total number of recurring clonotypes: \n"
     ]
    },
    {
     "name": "stdout",
     "output_type": "stream",
     "text": [
      "[1] 0\n"
     ]
    },
    {
     "name": "stderr",
     "output_type": "stream",
     "text": [
      "these are what we color: \n"
     ]
    },
    {
     "name": "stdout",
     "output_type": "stream",
     "text": [
      "named character(0)\n"
     ]
    },
    {
     "name": "stderr",
     "output_type": "stream",
     "text": [
      "duplicated sequences:\n"
     ]
    },
    {
     "name": "stdout",
     "output_type": "stream",
     "text": [
      "[1] \"CASSPPSGRGPYNEQFF\" \"CATSIDRGPYEQYF\"   \n"
     ]
    },
    {
     "name": "stderr",
     "output_type": "stream",
     "text": [
      "my files:\n"
     ]
    },
    {
     "name": "stdout",
     "output_type": "stream",
     "text": [
      "[1] \"batch_reseq/ds_batch_reseq/CLONES_TRBCHP_366-01-PBMC-DNA_2000000.txt\"\n",
      "[2] \"batch3a9_cfDNA/CLONES_TRBCHP_366-01_cfDNA_2000000.txt\"               \n"
     ]
    },
    {
     "name": "stderr",
     "output_type": "stream",
     "text": [
      "Total recovered clonotypes:\n"
     ]
    },
    {
     "name": "stdout",
     "output_type": "stream",
     "text": [
      "[1] 171\n"
     ]
    },
    {
     "name": "stderr",
     "output_type": "stream",
     "text": [
      "Total out-of-frame clonotypes:\n"
     ]
    },
    {
     "name": "stdout",
     "output_type": "stream",
     "text": [
      "[1] 37\n"
     ]
    },
    {
     "name": "stderr",
     "output_type": "stream",
     "text": [
      "Total clonotypes with stop codon:\n"
     ]
    },
    {
     "name": "stdout",
     "output_type": "stream",
     "text": [
      "[1] 2\n"
     ]
    },
    {
     "name": "stderr",
     "output_type": "stream",
     "text": [
      "Total productive clonotypes:\n"
     ]
    },
    {
     "name": "stdout",
     "output_type": "stream",
     "text": [
      "[1] 132\n"
     ]
    },
    {
     "name": "stderr",
     "output_type": "stream",
     "text": [
      "Output contains all clonotypes\n",
      "list of samples to track clones: \n"
     ]
    },
    {
     "name": "stdout",
     "output_type": "stream",
     "text": [
      "[1] CHP_366-01-PBMC  CHP_366-01-cfDNA\n",
      "Levels: CHP_366-01-PBMC CHP_366-01-cfDNA\n"
     ]
    },
    {
     "name": "stderr",
     "output_type": "stream",
     "text": [
      "Total number of recurring clonotypes: \n"
     ]
    },
    {
     "name": "stdout",
     "output_type": "stream",
     "text": [
      "[1] 0\n"
     ]
    },
    {
     "name": "stderr",
     "output_type": "stream",
     "text": [
      "these are what we color: \n"
     ]
    },
    {
     "name": "stdout",
     "output_type": "stream",
     "text": [
      "named character(0)\n"
     ]
    },
    {
     "name": "stderr",
     "output_type": "stream",
     "text": [
      "duplicated sequences:\n"
     ]
    },
    {
     "name": "stdout",
     "output_type": "stream",
     "text": [
      "[1] \"CASSQGQVGHEKLFF\" \"CASSKRTGSYEQYF\" \n"
     ]
    },
    {
     "name": "stderr",
     "output_type": "stream",
     "text": [
      "my files:\n"
     ]
    },
    {
     "name": "stdout",
     "output_type": "stream",
     "text": [
      "[1] \"batch7/ds_batch7/CLONES_TRBCHP_368-01-PBMC-DNA_2000000.txt\"\n",
      "[2] \"batch5_cfDNA/CLONES_TRBCHP_368-01_cfDNA_2000000.txt\"       \n"
     ]
    },
    {
     "name": "stderr",
     "output_type": "stream",
     "text": [
      "Total recovered clonotypes:\n"
     ]
    },
    {
     "name": "stdout",
     "output_type": "stream",
     "text": [
      "[1] 301\n"
     ]
    },
    {
     "name": "stderr",
     "output_type": "stream",
     "text": [
      "Total out-of-frame clonotypes:\n"
     ]
    },
    {
     "name": "stdout",
     "output_type": "stream",
     "text": [
      "[1] 65\n"
     ]
    },
    {
     "name": "stderr",
     "output_type": "stream",
     "text": [
      "Total clonotypes with stop codon:\n"
     ]
    },
    {
     "name": "stdout",
     "output_type": "stream",
     "text": [
      "[1] 9\n"
     ]
    },
    {
     "name": "stderr",
     "output_type": "stream",
     "text": [
      "Total productive clonotypes:\n"
     ]
    },
    {
     "name": "stdout",
     "output_type": "stream",
     "text": [
      "[1] 227\n"
     ]
    },
    {
     "name": "stderr",
     "output_type": "stream",
     "text": [
      "Output contains all clonotypes\n",
      "list of samples to track clones: \n"
     ]
    },
    {
     "name": "stdout",
     "output_type": "stream",
     "text": [
      "[1] CHP_368-01-PBMC  CHP_368-01-cfDNA\n",
      "Levels: CHP_368-01-PBMC CHP_368-01-cfDNA\n"
     ]
    },
    {
     "name": "stderr",
     "output_type": "stream",
     "text": [
      "Total number of recurring clonotypes: \n"
     ]
    },
    {
     "name": "stdout",
     "output_type": "stream",
     "text": [
      "[1] 0\n"
     ]
    },
    {
     "name": "stderr",
     "output_type": "stream",
     "text": [
      "these are what we color: \n"
     ]
    },
    {
     "name": "stdout",
     "output_type": "stream",
     "text": [
      "named character(0)\n"
     ]
    },
    {
     "name": "stderr",
     "output_type": "stream",
     "text": [
      "duplicated sequences:\n"
     ]
    },
    {
     "name": "stdout",
     "output_type": "stream",
     "text": [
      "[1] \"CASSLQGMGGYTF\"   \"CASSAANTDTQYF\"   \"CASSERTALNTEAFF\" \"CASSLAPGNTEAFF\" \n",
      "[5] \"CSASGSL_TDTQYF\"  \"CASSPFHTDTQYF\"   \"CASSLTSDTQYF\"   \n"
     ]
    },
    {
     "name": "stderr",
     "output_type": "stream",
     "text": [
      "my files:\n"
     ]
    },
    {
     "name": "stdout",
     "output_type": "stream",
     "text": [
      "[1] \"batch3/ds_batch3/CLONES_TRBCHP_368-05-PBMC-DNA_2000000.txt\"\n",
      "[2] \"batch1_cfDNA/CLONES_TRBCHP_368-05-cfDNA_2000000.txt\"       \n"
     ]
    },
    {
     "name": "stderr",
     "output_type": "stream",
     "text": [
      "Total recovered clonotypes:\n"
     ]
    },
    {
     "name": "stdout",
     "output_type": "stream",
     "text": [
      "[1] 552\n"
     ]
    },
    {
     "name": "stderr",
     "output_type": "stream",
     "text": [
      "Total out-of-frame clonotypes:\n"
     ]
    },
    {
     "name": "stdout",
     "output_type": "stream",
     "text": [
      "[1] 150\n"
     ]
    },
    {
     "name": "stderr",
     "output_type": "stream",
     "text": [
      "Total clonotypes with stop codon:\n"
     ]
    },
    {
     "name": "stdout",
     "output_type": "stream",
     "text": [
      "[1] 10\n"
     ]
    },
    {
     "name": "stderr",
     "output_type": "stream",
     "text": [
      "Total productive clonotypes:\n"
     ]
    },
    {
     "name": "stdout",
     "output_type": "stream",
     "text": [
      "[1] 392\n"
     ]
    },
    {
     "name": "stderr",
     "output_type": "stream",
     "text": [
      "Output contains all clonotypes\n",
      "list of samples to track clones: \n"
     ]
    },
    {
     "name": "stdout",
     "output_type": "stream",
     "text": [
      "[1] CHP_368-05-PBMC  CHP_368-05-cfDNA\n",
      "Levels: CHP_368-05-PBMC CHP_368-05-cfDNA\n"
     ]
    },
    {
     "name": "stderr",
     "output_type": "stream",
     "text": [
      "Total number of recurring clonotypes: \n"
     ]
    },
    {
     "name": "stdout",
     "output_type": "stream",
     "text": [
      "[1] 1\n"
     ]
    },
    {
     "name": "stderr",
     "output_type": "stream",
     "text": [
      "these are what we color: \n"
     ]
    },
    {
     "name": "stdout",
     "output_type": "stream",
     "text": [
      "CASSGSGTVWETQYF \n",
      "      \"#BEB3B2\" \n"
     ]
    },
    {
     "name": "stderr",
     "output_type": "stream",
     "text": [
      "duplicated sequences:\n"
     ]
    },
    {
     "name": "stdout",
     "output_type": "stream",
     "text": [
      "[1] \"CASSSMDRAGNTIYF\" \"CASSLSSSYEQFF\"  \n"
     ]
    },
    {
     "name": "stderr",
     "output_type": "stream",
     "text": [
      "my files:\n"
     ]
    },
    {
     "name": "stdout",
     "output_type": "stream",
     "text": [
      "[1] \"batch8/ds_batch8/CLONES_TRBCHP_369-02-PBMC-DNA_2000000.txt\"\n",
      "[2] \"batch10_cfDNA/CLONES_TRBCHP_369-02_cfDNA_2000000.txt\"      \n"
     ]
    },
    {
     "name": "stderr",
     "output_type": "stream",
     "text": [
      "Total recovered clonotypes:\n"
     ]
    },
    {
     "name": "stdout",
     "output_type": "stream",
     "text": [
      "[1] 315\n"
     ]
    },
    {
     "name": "stderr",
     "output_type": "stream",
     "text": [
      "Total out-of-frame clonotypes:\n"
     ]
    },
    {
     "name": "stdout",
     "output_type": "stream",
     "text": [
      "[1] 86\n"
     ]
    },
    {
     "name": "stderr",
     "output_type": "stream",
     "text": [
      "Total clonotypes with stop codon:\n"
     ]
    },
    {
     "name": "stdout",
     "output_type": "stream",
     "text": [
      "[1] 10\n"
     ]
    },
    {
     "name": "stderr",
     "output_type": "stream",
     "text": [
      "Total productive clonotypes:\n"
     ]
    },
    {
     "name": "stdout",
     "output_type": "stream",
     "text": [
      "[1] 219\n"
     ]
    },
    {
     "name": "stderr",
     "output_type": "stream",
     "text": [
      "Output contains all clonotypes\n",
      "list of samples to track clones: \n"
     ]
    },
    {
     "name": "stdout",
     "output_type": "stream",
     "text": [
      "[1] CHP_369-02-PBMC  CHP_369-02-cfDNA\n",
      "Levels: CHP_369-02-PBMC CHP_369-02-cfDNA\n"
     ]
    },
    {
     "name": "stderr",
     "output_type": "stream",
     "text": [
      "Total number of recurring clonotypes: \n"
     ]
    },
    {
     "name": "stdout",
     "output_type": "stream",
     "text": [
      "[1] 0\n"
     ]
    },
    {
     "name": "stderr",
     "output_type": "stream",
     "text": [
      "these are what we color: \n"
     ]
    },
    {
     "name": "stdout",
     "output_type": "stream",
     "text": [
      "named character(0)\n"
     ]
    },
    {
     "name": "stderr",
     "output_type": "stream",
     "text": [
      "duplicated sequences:\n"
     ]
    },
    {
     "name": "stdout",
     "output_type": "stream",
     "text": [
      "character(0)\n"
     ]
    },
    {
     "name": "stderr",
     "output_type": "stream",
     "text": [
      "my files:\n"
     ]
    },
    {
     "name": "stdout",
     "output_type": "stream",
     "text": [
      "[1] \"batch7/ds_batch7/CLONES_TRBCHP_370-01-PBMC-DNA_2000000.txt\"\n",
      "[2] \"batch1_cfDNA/CLONES_TRBCHP_370-01-cfDNA_2000000.txt\"       \n"
     ]
    },
    {
     "name": "stderr",
     "output_type": "stream",
     "text": [
      "Total recovered clonotypes:\n"
     ]
    },
    {
     "name": "stdout",
     "output_type": "stream",
     "text": [
      "[1] 89\n"
     ]
    },
    {
     "name": "stderr",
     "output_type": "stream",
     "text": [
      "Total out-of-frame clonotypes:\n"
     ]
    },
    {
     "name": "stdout",
     "output_type": "stream",
     "text": [
      "[1] 14\n"
     ]
    },
    {
     "name": "stderr",
     "output_type": "stream",
     "text": [
      "Total clonotypes with stop codon:\n"
     ]
    },
    {
     "name": "stdout",
     "output_type": "stream",
     "text": [
      "[1] 2\n"
     ]
    },
    {
     "name": "stderr",
     "output_type": "stream",
     "text": [
      "Total productive clonotypes:\n"
     ]
    },
    {
     "name": "stdout",
     "output_type": "stream",
     "text": [
      "[1] 73\n"
     ]
    },
    {
     "name": "stderr",
     "output_type": "stream",
     "text": [
      "Output contains all clonotypes\n",
      "list of samples to track clones: \n"
     ]
    },
    {
     "name": "stdout",
     "output_type": "stream",
     "text": [
      "[1] CHP_370-01-PBMC  CHP_370-01-cfDNA\n",
      "Levels: CHP_370-01-PBMC CHP_370-01-cfDNA\n"
     ]
    },
    {
     "name": "stderr",
     "output_type": "stream",
     "text": [
      "Total number of recurring clonotypes: \n"
     ]
    },
    {
     "name": "stdout",
     "output_type": "stream",
     "text": [
      "[1] 1\n"
     ]
    },
    {
     "name": "stderr",
     "output_type": "stream",
     "text": [
      "these are what we color: \n"
     ]
    },
    {
     "name": "stdout",
     "output_type": "stream",
     "text": [
      "CASRGLSGNIQYF \n",
      "    \"#BEB3B2\" \n"
     ]
    },
    {
     "name": "stderr",
     "output_type": "stream",
     "text": [
      "duplicated sequences:\n"
     ]
    },
    {
     "name": "stdout",
     "output_type": "stream",
     "text": [
      "character(0)\n"
     ]
    },
    {
     "name": "stderr",
     "output_type": "stream",
     "text": [
      "my files:\n"
     ]
    },
    {
     "name": "stdout",
     "output_type": "stream",
     "text": [
      "[1] \"batch8/ds_batch8/CLONES_TRBCHP_370-03-PBMC-DNA_2000000.txt\"\n",
      "[2] \"batch3a9_cfDNA/CLONES_TRBCHP_370-03_cfDNA_2000000.txt\"     \n"
     ]
    },
    {
     "name": "stderr",
     "output_type": "stream",
     "text": [
      "Total recovered clonotypes:\n"
     ]
    },
    {
     "name": "stdout",
     "output_type": "stream",
     "text": [
      "[1] 337\n"
     ]
    },
    {
     "name": "stderr",
     "output_type": "stream",
     "text": [
      "Total out-of-frame clonotypes:\n"
     ]
    },
    {
     "name": "stdout",
     "output_type": "stream",
     "text": [
      "[1] 67\n"
     ]
    },
    {
     "name": "stderr",
     "output_type": "stream",
     "text": [
      "Total clonotypes with stop codon:\n"
     ]
    },
    {
     "name": "stdout",
     "output_type": "stream",
     "text": [
      "[1] 8\n"
     ]
    },
    {
     "name": "stderr",
     "output_type": "stream",
     "text": [
      "Total productive clonotypes:\n"
     ]
    },
    {
     "name": "stdout",
     "output_type": "stream",
     "text": [
      "[1] 262\n"
     ]
    },
    {
     "name": "stderr",
     "output_type": "stream",
     "text": [
      "Output contains all clonotypes\n",
      "list of samples to track clones: \n"
     ]
    },
    {
     "name": "stdout",
     "output_type": "stream",
     "text": [
      "[1] CHP_370-03-PBMC  CHP_370-03-cfDNA\n",
      "Levels: CHP_370-03-PBMC CHP_370-03-cfDNA\n"
     ]
    },
    {
     "name": "stderr",
     "output_type": "stream",
     "text": [
      "Total number of recurring clonotypes: \n"
     ]
    },
    {
     "name": "stdout",
     "output_type": "stream",
     "text": [
      "[1] 0\n"
     ]
    },
    {
     "name": "stderr",
     "output_type": "stream",
     "text": [
      "these are what we color: \n"
     ]
    },
    {
     "name": "stdout",
     "output_type": "stream",
     "text": [
      "named character(0)\n"
     ]
    },
    {
     "name": "stderr",
     "output_type": "stream",
     "text": [
      "duplicated sequences:\n"
     ]
    },
    {
     "name": "stdout",
     "output_type": "stream",
     "text": [
      "character(0)\n"
     ]
    },
    {
     "name": "stderr",
     "output_type": "stream",
     "text": [
      "my files:\n"
     ]
    },
    {
     "name": "stdout",
     "output_type": "stream",
     "text": [
      "[1] \"batch_reseq/ds_batch_reseq/CLONES_TRBCHP_372-01-PBMC-DNA_2000000.txt\"\n",
      "[2] \"batch1_cfDNA/CLONES_TRBCHP_372-01-cfDNA_2000000.txt\"                 \n"
     ]
    },
    {
     "name": "stderr",
     "output_type": "stream",
     "text": [
      "Total recovered clonotypes:\n"
     ]
    },
    {
     "name": "stdout",
     "output_type": "stream",
     "text": [
      "[1] 8\n"
     ]
    },
    {
     "name": "stderr",
     "output_type": "stream",
     "text": [
      "Total out-of-frame clonotypes:\n"
     ]
    },
    {
     "name": "stdout",
     "output_type": "stream",
     "text": [
      "[1] 1\n"
     ]
    },
    {
     "name": "stderr",
     "output_type": "stream",
     "text": [
      "Total clonotypes with stop codon:\n"
     ]
    },
    {
     "name": "stdout",
     "output_type": "stream",
     "text": [
      "[1] 0\n"
     ]
    },
    {
     "name": "stderr",
     "output_type": "stream",
     "text": [
      "Total productive clonotypes:\n"
     ]
    },
    {
     "name": "stdout",
     "output_type": "stream",
     "text": [
      "[1] 7\n"
     ]
    },
    {
     "name": "stderr",
     "output_type": "stream",
     "text": [
      "Output contains all clonotypes\n",
      "list of samples to track clones: \n"
     ]
    },
    {
     "name": "stdout",
     "output_type": "stream",
     "text": [
      "[1] CHP_372-01-PBMC  CHP_372-01-cfDNA\n",
      "Levels: CHP_372-01-PBMC CHP_372-01-cfDNA\n"
     ]
    },
    {
     "name": "stderr",
     "output_type": "stream",
     "text": [
      "Total number of recurring clonotypes: \n"
     ]
    },
    {
     "name": "stdout",
     "output_type": "stream",
     "text": [
      "[1] 0\n"
     ]
    },
    {
     "name": "stderr",
     "output_type": "stream",
     "text": [
      "these are what we color: \n"
     ]
    },
    {
     "name": "stdout",
     "output_type": "stream",
     "text": [
      "named character(0)\n"
     ]
    },
    {
     "name": "stderr",
     "output_type": "stream",
     "text": [
      "duplicated sequences:\n"
     ]
    },
    {
     "name": "stdout",
     "output_type": "stream",
     "text": [
      "[1] \"CASSLGARSSGSYNEQFF\" \"CASSQEYSTDTQYF\"    \n"
     ]
    },
    {
     "name": "stderr",
     "output_type": "stream",
     "text": [
      "my files:\n"
     ]
    },
    {
     "name": "stdout",
     "output_type": "stream",
     "text": [
      "[1] \"batch3/ds_batch3/CLONES_TRBCHP_373-01-PBMC-DNA_2000000.txt\"\n",
      "[2] \"batch1_cfDNA/CLONES_TRBCHP_373-01-cfDNA_2000000.txt\"       \n"
     ]
    },
    {
     "name": "stderr",
     "output_type": "stream",
     "text": [
      "Total recovered clonotypes:\n"
     ]
    },
    {
     "name": "stdout",
     "output_type": "stream",
     "text": [
      "[1] 258\n"
     ]
    },
    {
     "name": "stderr",
     "output_type": "stream",
     "text": [
      "Total out-of-frame clonotypes:\n"
     ]
    },
    {
     "name": "stdout",
     "output_type": "stream",
     "text": [
      "[1] 54\n"
     ]
    },
    {
     "name": "stderr",
     "output_type": "stream",
     "text": [
      "Total clonotypes with stop codon:\n"
     ]
    },
    {
     "name": "stdout",
     "output_type": "stream",
     "text": [
      "[1] 2\n"
     ]
    },
    {
     "name": "stderr",
     "output_type": "stream",
     "text": [
      "Total productive clonotypes:\n"
     ]
    },
    {
     "name": "stdout",
     "output_type": "stream",
     "text": [
      "[1] 202\n"
     ]
    },
    {
     "name": "stderr",
     "output_type": "stream",
     "text": [
      "Output contains all clonotypes\n",
      "list of samples to track clones: \n"
     ]
    },
    {
     "name": "stdout",
     "output_type": "stream",
     "text": [
      "[1] CHP_373-01-PBMC  CHP_373-01-cfDNA\n",
      "Levels: CHP_373-01-PBMC CHP_373-01-cfDNA\n"
     ]
    },
    {
     "name": "stderr",
     "output_type": "stream",
     "text": [
      "Total number of recurring clonotypes: \n"
     ]
    },
    {
     "name": "stdout",
     "output_type": "stream",
     "text": [
      "[1] 0\n"
     ]
    },
    {
     "name": "stderr",
     "output_type": "stream",
     "text": [
      "these are what we color: \n"
     ]
    },
    {
     "name": "stdout",
     "output_type": "stream",
     "text": [
      "named character(0)\n"
     ]
    },
    {
     "name": "stderr",
     "output_type": "stream",
     "text": [
      "duplicated sequences:\n"
     ]
    },
    {
     "name": "stdout",
     "output_type": "stream",
     "text": [
      "[1] \"CSARTGGRVTQYF\"     \"CASSQGVV_RGSYEQYF\" \"CASSSRTSEYTGELFF\" \n"
     ]
    },
    {
     "name": "stderr",
     "output_type": "stream",
     "text": [
      "my files:\n"
     ]
    },
    {
     "name": "stdout",
     "output_type": "stream",
     "text": [
      "[1] \"batch7/ds_batch7/CLONES_TRBCHP_373-02-PBMC-DNA_2000000.txt\"\n",
      "[2] \"batch3a9_cfDNA/CLONES_TRBCHP_373-02_cfDNA_2000000.txt\"     \n"
     ]
    },
    {
     "name": "stderr",
     "output_type": "stream",
     "text": [
      "Total recovered clonotypes:\n"
     ]
    },
    {
     "name": "stdout",
     "output_type": "stream",
     "text": [
      "[1] 134\n"
     ]
    },
    {
     "name": "stderr",
     "output_type": "stream",
     "text": [
      "Total out-of-frame clonotypes:\n"
     ]
    },
    {
     "name": "stdout",
     "output_type": "stream",
     "text": [
      "[1] 35\n"
     ]
    },
    {
     "name": "stderr",
     "output_type": "stream",
     "text": [
      "Total clonotypes with stop codon:\n"
     ]
    },
    {
     "name": "stdout",
     "output_type": "stream",
     "text": [
      "[1] 3\n"
     ]
    },
    {
     "name": "stderr",
     "output_type": "stream",
     "text": [
      "Total productive clonotypes:\n"
     ]
    },
    {
     "name": "stdout",
     "output_type": "stream",
     "text": [
      "[1] 96\n"
     ]
    },
    {
     "name": "stderr",
     "output_type": "stream",
     "text": [
      "Output contains all clonotypes\n",
      "list of samples to track clones: \n"
     ]
    },
    {
     "name": "stdout",
     "output_type": "stream",
     "text": [
      "[1] CHP_373-02-PBMC  CHP_373-02-cfDNA\n",
      "Levels: CHP_373-02-PBMC CHP_373-02-cfDNA\n"
     ]
    },
    {
     "name": "stderr",
     "output_type": "stream",
     "text": [
      "Total number of recurring clonotypes: \n"
     ]
    },
    {
     "name": "stdout",
     "output_type": "stream",
     "text": [
      "[1] 0\n"
     ]
    },
    {
     "name": "stderr",
     "output_type": "stream",
     "text": [
      "these are what we color: \n"
     ]
    },
    {
     "name": "stdout",
     "output_type": "stream",
     "text": [
      "named character(0)\n"
     ]
    },
    {
     "name": "stderr",
     "output_type": "stream",
     "text": [
      "duplicated sequences:\n"
     ]
    },
    {
     "name": "stdout",
     "output_type": "stream",
     "text": [
      "[1] \"CASSSRGAPGAVRYNEQFF\" \"CASSLSRLAGFLSYEQYF\"  \"CASSMTAASTDTQYF\"    \n"
     ]
    },
    {
     "ename": "ERROR",
     "evalue": "Error in data.frame(..., check.names = FALSE): arguments imply differing number of rows: 0, 1\n",
     "output_type": "error",
     "traceback": [
      "Error in data.frame(..., check.names = FALSE): arguments imply differing number of rows: 0, 1\nTraceback:\n",
      "1. cdr3_dataframe.fx(datapath, \"TRB\", tmp, \"total\")",
      "2. cbind(cloneno = row.names(compldfle1), filename = f, compldfle1)   # at line 29-31 of file <text>",
      "3. cbind(deparse.level, ...)",
      "4. data.frame(..., check.names = FALSE)",
      "5. stop(gettextf(\"arguments imply differing number of rows: %s\", \n .     paste(unique(nrows), collapse = \", \")), domain = NA)"
     ]
    }
   ],
   "source": [
    "for(i in 1:nrow(manifest_cfdna_pbmc)){\n",
    "    cfdnafile <- ds_flelst_chp_cfDNA[grepl(manifest_cfdna_pbmc$filename.x[i], ds_flelst_chp_cfDNA)]\n",
    "    pbmcfile <- ds_flelst_chp_PBMC[grepl(manifest_cfdna_pbmc$filename.y[i], ds_flelst_chp_PBMC)]\n",
    "    tmp <- c(pbmcfile, cfdnafile)\n",
    "    \n",
    "    cdr3df <- cdr3_dataframe.fx(datapath, \"TRB\", tmp, \"total\")\n",
    "    cdr3df$samplename <- gsub(\"TRB\", \"\", cdr3df$samplename)       \n",
    "    cdr3df$samplename <- gsub(\"-cfDNA.*\", \"-cfDNA\", cdr3df$samplename)\n",
    "    cdr3df$samplename <- gsub(\"_cfDNA.*\", \"-cfDNA\", cdr3df$samplename)\n",
    "    cdr3df$samplename <- gsub(\"-PBMC.*\", \"-PBMC\", cdr3df$samplename)\n",
    "    cdr3df$samplename <- gsub(\"_PBMC.*\", \"-PBMC\", cdr3df$samplename)\n",
    "\n",
    "    cdr3df$samplename <- factor(cdr3df$samplename, levels = c(unique(cdr3df$samplename[grepl(\"PBMC\",cdr3df$samplename)]),\n",
    "                                                              unique(cdr3df$samplename[grepl(\"cfDNA\",cdr3df$samplename)])))\n",
    "    \n",
    "    plot_clonetracks.fx(cdr3df, plotpath, \"TRB\", \"cloneCount\", 0)\n",
    "}"
   ]
  },
  {
   "cell_type": "code",
   "execution_count": null,
   "metadata": {},
   "outputs": [],
   "source": []
  },
  {
   "cell_type": "markdown",
   "metadata": {},
   "source": [
    "## Tumour and PBMCs"
   ]
  },
  {
   "cell_type": "code",
   "execution_count": 155,
   "metadata": {},
   "outputs": [],
   "source": [
    "manifest_df_ffpe <- cbind.data.frame(ds_flelst_chp_ffpe, NA,stringsAsFactors = F)\n",
    "\n",
    "colnames(manifest_df_ffpe) <- c(\"filename\", \"patient\")"
   ]
  },
  {
   "cell_type": "code",
   "execution_count": 156,
   "metadata": {},
   "outputs": [],
   "source": [
    "manifest_df_ffpe$filename <- gsub(\".*CLONES\", \"CLONES\", manifest_df_ffpe$filename)\n",
    "\n",
    "manifest_df_ffpe$patient <- gsub(\"CLONES_TRBCHP_\", \"\", manifest_df_ffpe$filename)\n",
    "manifest_df_ffpe$patient <- gsub(\"-.*\", \"\", manifest_df_ffpe$patient)\n",
    "manifest_df_ffpe$patient <- gsub(\"_.*\", \"\", manifest_df_ffpe$patient)"
   ]
  },
  {
   "cell_type": "code",
   "execution_count": 157,
   "metadata": {},
   "outputs": [
    {
     "data": {
      "text/html": [
       "<ol class=list-inline>\n",
       "\t<li>'361'</li>\n",
       "\t<li>'364'</li>\n",
       "\t<li>'370'</li>\n",
       "\t<li>'372'</li>\n",
       "\t<li>'380'</li>\n",
       "\t<li>'389'</li>\n",
       "\t<li>'390'</li>\n",
       "\t<li>'394'</li>\n",
       "\t<li>'400'</li>\n",
       "\t<li>'401'</li>\n",
       "\t<li>'404'</li>\n",
       "\t<li>'404'</li>\n",
       "\t<li>'407'</li>\n",
       "\t<li>'412'</li>\n",
       "\t<li>'418'</li>\n",
       "\t<li>'419'</li>\n",
       "</ol>\n"
      ],
      "text/latex": [
       "\\begin{enumerate*}\n",
       "\\item '361'\n",
       "\\item '364'\n",
       "\\item '370'\n",
       "\\item '372'\n",
       "\\item '380'\n",
       "\\item '389'\n",
       "\\item '390'\n",
       "\\item '394'\n",
       "\\item '400'\n",
       "\\item '401'\n",
       "\\item '404'\n",
       "\\item '404'\n",
       "\\item '407'\n",
       "\\item '412'\n",
       "\\item '418'\n",
       "\\item '419'\n",
       "\\end{enumerate*}\n"
      ],
      "text/markdown": [
       "1. '361'\n",
       "2. '364'\n",
       "3. '370'\n",
       "4. '372'\n",
       "5. '380'\n",
       "6. '389'\n",
       "7. '390'\n",
       "8. '394'\n",
       "9. '400'\n",
       "10. '401'\n",
       "11. '404'\n",
       "12. '404'\n",
       "13. '407'\n",
       "14. '412'\n",
       "15. '418'\n",
       "16. '419'\n",
       "\n",
       "\n"
      ],
      "text/plain": [
       " [1] \"361\" \"364\" \"370\" \"372\" \"380\" \"389\" \"390\" \"394\" \"400\" \"401\" \"404\" \"404\"\n",
       "[13] \"407\" \"412\" \"418\" \"419\""
      ]
     },
     "metadata": {},
     "output_type": "display_data"
    }
   ],
   "source": [
    "manifest_df_ffpe$patient"
   ]
  },
  {
   "cell_type": "markdown",
   "metadata": {},
   "source": [
    "I have to do all separately to make sure levels are correct\n",
    "\n",
    "344, 380, 400, 401, doesnt have baseline pbmc\n",
    "348 doesnt have ffpe\n",
    "389, 390 412 418 419 no pbmc"
   ]
  },
  {
   "cell_type": "code",
   "execution_count": 158,
   "metadata": {},
   "outputs": [
    {
     "data": {
      "text/html": [
       "<table>\n",
       "<caption>A data.frame: 5 × 34</caption>\n",
       "<thead>\n",
       "\t<tr><th></th><th scope=col>Patient</th><th scope=col>cycle</th><th scope=col>FOLD</th><th scope=col>ATC</th><th scope=col>Age</th><th scope=col>Disease_type</th><th scope=col>TE_fold</th><th scope=col>Pass</th><th scope=col>CD3</th><th scope=col>EM</th><th scope=col>⋯</th><th scope=col>TIM3</th><th scope=col>CTLA4</th><th scope=col>PD1.</th><th scope=col>PDL1.</th><th scope=col>LAG3.</th><th scope=col>TIM3.</th><th scope=col>CTLA4.</th><th scope=col>Any.NCR</th><th scope=col>PD1...LAG3...TIM3</th><th scope=col>group</th></tr>\n",
       "\t<tr><th></th><th scope=col>&lt;int&gt;</th><th scope=col>&lt;int&gt;</th><th scope=col>&lt;dbl&gt;</th><th scope=col>&lt;dbl&gt;</th><th scope=col>&lt;dbl&gt;</th><th scope=col>&lt;chr&gt;</th><th scope=col>&lt;chr&gt;</th><th scope=col>&lt;lgl&gt;</th><th scope=col>&lt;int&gt;</th><th scope=col>&lt;int&gt;</th><th scope=col>⋯</th><th scope=col>&lt;int&gt;</th><th scope=col>&lt;int&gt;</th><th scope=col>&lt;dbl&gt;</th><th scope=col>&lt;dbl&gt;</th><th scope=col>&lt;dbl&gt;</th><th scope=col>&lt;dbl&gt;</th><th scope=col>&lt;dbl&gt;</th><th scope=col>&lt;dbl&gt;</th><th scope=col>&lt;dbl&gt;</th><th scope=col>&lt;chr&gt;</th></tr>\n",
       "</thead>\n",
       "<tbody>\n",
       "\t<tr><th scope=row>286</th><td>387</td><td>1</td><td>0.8</td><td>288.99</td><td>13</td><td>T-ALL</td><td>0.8</td><td>NA</td><td>2414</td><td>209</td><td>⋯</td><td>100</td><td>NA</td><td> 4.142502</td><td>NA</td><td>  9.444905</td><td> 4.142502</td><td>NA</td><td>NA</td><td>NA</td><td>Leukemia</td></tr>\n",
       "\t<tr><th scope=row>287</th><td>387</td><td>2</td><td>4.9</td><td>254.80</td><td>13</td><td>T-ALL</td><td>4.9</td><td>NA</td><td>1387</td><td>  0</td><td>⋯</td><td>254</td><td>NA</td><td>18.312906</td><td>NA</td><td> 20.475847</td><td>18.312906</td><td>NA</td><td>NA</td><td>NA</td><td>Leukemia</td></tr>\n",
       "\t<tr><th scope=row>288</th><td>387</td><td>3</td><td> NA</td><td>483.72</td><td>13</td><td>T-ALL</td><td>x  </td><td>NA</td><td>2356</td><td> 60</td><td>⋯</td><td>160</td><td>NA</td><td>60.836502</td><td>NA</td><td>109.125475</td><td>60.836502</td><td>NA</td><td>NA</td><td>NA</td><td>Leukemia</td></tr>\n",
       "\t<tr><th scope=row>289</th><td>387</td><td>4</td><td>0.0</td><td>  0.00</td><td>13</td><td>T-ALL</td><td>0  </td><td>NA</td><td>   0</td><td> NA</td><td>⋯</td><td> NA</td><td>NA</td><td>       NA</td><td>NA</td><td>        NA</td><td>       NA</td><td>NA</td><td>NA</td><td>NA</td><td>Leukemia</td></tr>\n",
       "\t<tr><th scope=row>290</th><td>387</td><td>5</td><td>0.0</td><td>  0.00</td><td>13</td><td>T-ALL</td><td>0  </td><td>NA</td><td>   0</td><td> NA</td><td>⋯</td><td> NA</td><td>NA</td><td>       NA</td><td>NA</td><td>        NA</td><td>       NA</td><td>NA</td><td>NA</td><td>NA</td><td>Leukemia</td></tr>\n",
       "</tbody>\n",
       "</table>\n"
      ],
      "text/latex": [
       "A data.frame: 5 × 34\n",
       "\\begin{tabular}{r|llllllllllllllllllllllllllllllllll}\n",
       "  & Patient & cycle & FOLD & ATC & Age & Disease\\_type & TE\\_fold & Pass & CD3 & EM & CM & Naïve & SCM & TE & EM. & CM. & Naïve. & SCM. & TE. & Naïve.TE & N.CM.SCM.TE.EM & PD.1 & PDL1 & LAG3 & TIM3 & CTLA4 & PD1. & PDL1. & LAG3. & TIM3. & CTLA4. & Any.NCR & PD1...LAG3...TIM3 & group\\\\\n",
       "  & <int> & <int> & <dbl> & <dbl> & <dbl> & <chr> & <chr> & <lgl> & <int> & <int> & <int> & <int> & <int> & <int> & <dbl> & <dbl> & <dbl> & <dbl> & <dbl> & <dbl> & <dbl> & <int> & <int> & <int> & <int> & <int> & <dbl> & <dbl> & <dbl> & <dbl> & <dbl> & <dbl> & <dbl> & <chr>\\\\\n",
       "\\hline\n",
       "\t286 & 387 & 1 & 0.8 & 288.99 & 13 & T-ALL & 0.8 & NA & 2414 & 209 &  120 &  25 &  55 & 2005 & 8.657829 &  4.971002 & 1.035626 &  2.278376 & 83.05717 & 0.01246883 & 0.09033424 & 100 & NA & 228 & 100 & NA &  4.142502 & NA &   9.444905 &  4.142502 & NA & NA & NA & Leukemia\\\\\n",
       "\t287 & 387 & 2 & 4.9 & 254.80 & 13 & T-ALL & 4.9 & NA & 1387 &   0 &   35 &  25 & 153 & 1174 & 0.000000 &  2.523432 & 1.802451 & 11.031002 & 84.64311 & 0.02129472 & 0.18143101 & 254 & NA & 284 & 254 & NA & 18.312906 & NA &  20.475847 & 18.312906 & NA & NA & NA & Leukemia\\\\\n",
       "\t288 & 387 & 3 &  NA & 483.72 & 13 & T-ALL & x   & NA & 2356 &  60 & 1403 & 134 &  83 &  676 & 2.546689 & 59.550085 & 5.687606 &  3.522920 & 28.69270 & 0.19822485 & 2.20108696 & 160 & NA & 287 & 160 & NA & 60.836502 & NA & 109.125475 & 60.836502 & NA & NA & NA & Leukemia\\\\\n",
       "\t289 & 387 & 4 & 0.0 &   0.00 & 13 & T-ALL & 0   & NA &    0 &  NA &   NA &  NA &  NA &   NA &       NA &        NA &       NA &        NA &       NA &         NA &         NA &  NA & NA &  NA &  NA & NA &        NA & NA &         NA &        NA & NA & NA & NA & Leukemia\\\\\n",
       "\t290 & 387 & 5 & 0.0 &   0.00 & 13 & T-ALL & 0   & NA &    0 &  NA &   NA &  NA &  NA &   NA &       NA &        NA &       NA &        NA &       NA &         NA &         NA &  NA & NA &  NA &  NA & NA &        NA & NA &         NA &        NA & NA & NA & NA & Leukemia\\\\\n",
       "\\end{tabular}\n"
      ],
      "text/markdown": [
       "\n",
       "A data.frame: 5 × 34\n",
       "\n",
       "| <!--/--> | Patient &lt;int&gt; | cycle &lt;int&gt; | FOLD &lt;dbl&gt; | ATC &lt;dbl&gt; | Age &lt;dbl&gt; | Disease_type &lt;chr&gt; | TE_fold &lt;chr&gt; | Pass &lt;lgl&gt; | CD3 &lt;int&gt; | EM &lt;int&gt; | ⋯ ⋯ | TIM3 &lt;int&gt; | CTLA4 &lt;int&gt; | PD1. &lt;dbl&gt; | PDL1. &lt;dbl&gt; | LAG3. &lt;dbl&gt; | TIM3. &lt;dbl&gt; | CTLA4. &lt;dbl&gt; | Any.NCR &lt;dbl&gt; | PD1...LAG3...TIM3 &lt;dbl&gt; | group &lt;chr&gt; |\n",
       "|---|---|---|---|---|---|---|---|---|---|---|---|---|---|---|---|---|---|---|---|---|---|\n",
       "| 286 | 387 | 1 | 0.8 | 288.99 | 13 | T-ALL | 0.8 | NA | 2414 | 209 | ⋯ | 100 | NA |  4.142502 | NA |   9.444905 |  4.142502 | NA | NA | NA | Leukemia |\n",
       "| 287 | 387 | 2 | 4.9 | 254.80 | 13 | T-ALL | 4.9 | NA | 1387 |   0 | ⋯ | 254 | NA | 18.312906 | NA |  20.475847 | 18.312906 | NA | NA | NA | Leukemia |\n",
       "| 288 | 387 | 3 |  NA | 483.72 | 13 | T-ALL | x   | NA | 2356 |  60 | ⋯ | 160 | NA | 60.836502 | NA | 109.125475 | 60.836502 | NA | NA | NA | Leukemia |\n",
       "| 289 | 387 | 4 | 0.0 |   0.00 | 13 | T-ALL | 0   | NA |    0 |  NA | ⋯ |  NA | NA |        NA | NA |         NA |        NA | NA | NA | NA | Leukemia |\n",
       "| 290 | 387 | 5 | 0.0 |   0.00 | 13 | T-ALL | 0   | NA |    0 |  NA | ⋯ |  NA | NA |        NA | NA |         NA |        NA | NA | NA | NA | Leukemia |\n",
       "\n"
      ],
      "text/plain": [
       "    Patient cycle FOLD ATC    Age Disease_type TE_fold Pass CD3  EM  ⋯ TIM3\n",
       "286 387     1     0.8  288.99 13  T-ALL        0.8     NA   2414 209 ⋯ 100 \n",
       "287 387     2     4.9  254.80 13  T-ALL        4.9     NA   1387   0 ⋯ 254 \n",
       "288 387     3      NA  483.72 13  T-ALL        x       NA   2356  60 ⋯ 160 \n",
       "289 387     4     0.0    0.00 13  T-ALL        0       NA      0  NA ⋯  NA \n",
       "290 387     5     0.0    0.00 13  T-ALL        0       NA      0  NA ⋯  NA \n",
       "    CTLA4 PD1.      PDL1. LAG3.      TIM3.     CTLA4. Any.NCR PD1...LAG3...TIM3\n",
       "286 NA     4.142502 NA      9.444905  4.142502 NA     NA      NA               \n",
       "287 NA    18.312906 NA     20.475847 18.312906 NA     NA      NA               \n",
       "288 NA    60.836502 NA    109.125475 60.836502 NA     NA      NA               \n",
       "289 NA           NA NA            NA        NA NA     NA      NA               \n",
       "290 NA           NA NA            NA        NA NA     NA      NA               \n",
       "    group   \n",
       "286 Leukemia\n",
       "287 Leukemia\n",
       "288 Leukemia\n",
       "289 Leukemia\n",
       "290 Leukemia"
      ]
     },
     "metadata": {},
     "output_type": "display_data"
    }
   ],
   "source": [
    "master_df[ master_df$Patient == \"387\",]"
   ]
  },
  {
   "cell_type": "markdown",
   "metadata": {},
   "source": [
    "### 407 DLBCL"
   ]
  },
  {
   "cell_type": "code",
   "execution_count": 159,
   "metadata": {},
   "outputs": [
    {
     "name": "stderr",
     "output_type": "stream",
     "text": [
      "duplicated sequences:\n"
     ]
    },
    {
     "name": "stdout",
     "output_type": "stream",
     "text": [
      "character(0)\n"
     ]
    },
    {
     "name": "stderr",
     "output_type": "stream",
     "text": [
      "my files:\n"
     ]
    },
    {
     "name": "stdout",
     "output_type": "stream",
     "text": [
      "[1] \"batchFFPE/ds_batchFFPE/CLONES_TRBCHP_407-FFPE-DNA_S7_2000000.txt\"\n",
      "[2] \"batch11/CLONES_TRBCHP_407-01_PBMC_DNA_2000000.txt\"               \n",
      "[3] \"batch11/CLONES_TRBCHP_407-02_PBMC_DNA_2000000.txt\"               \n"
     ]
    },
    {
     "name": "stderr",
     "output_type": "stream",
     "text": [
      "Total recovered clonotypes:\n"
     ]
    },
    {
     "name": "stdout",
     "output_type": "stream",
     "text": [
      "[1] 584\n"
     ]
    },
    {
     "name": "stderr",
     "output_type": "stream",
     "text": [
      "Total out-of-frame clonotypes:\n"
     ]
    },
    {
     "name": "stdout",
     "output_type": "stream",
     "text": [
      "[1] 147\n"
     ]
    },
    {
     "name": "stderr",
     "output_type": "stream",
     "text": [
      "Total clonotypes with stop codon:\n"
     ]
    },
    {
     "name": "stdout",
     "output_type": "stream",
     "text": [
      "[1] 15\n"
     ]
    },
    {
     "name": "stderr",
     "output_type": "stream",
     "text": [
      "Total productive clonotypes:\n"
     ]
    },
    {
     "name": "stdout",
     "output_type": "stream",
     "text": [
      "[1] 422\n"
     ]
    },
    {
     "name": "stderr",
     "output_type": "stream",
     "text": [
      "Output contains all clonotypes\n"
     ]
    }
   ],
   "source": [
    "ffpefile <- ds_flelst_chp_ffpe[grepl(\"407\", ds_flelst_chp_ffpe)]\n",
    "pbmcfiles <- ds_flelst_chp_PBMC[grepl(\"407\", ds_flelst_chp_PBMC)]\n",
    "tmp <- c(ffpefile, pbmcfiles)\n",
    "    \n",
    "cdr3df <- cdr3_dataframe.fx(datapath, \"TRB\", tmp, \"total\")\n",
    "cdr3df$samplename <- gsub(\"_DNA_2000000.txt\", \"\", cdr3df$samplename)\n",
    "cdr3df$samplename <- gsub(\"-DNA_S7_2000000.txt\", \"\", cdr3df$samplename)\n",
    "cdr3df$samplename <- gsub(\"TRB\", \"\", cdr3df$samplename)"
   ]
  },
  {
   "cell_type": "code",
   "execution_count": 160,
   "metadata": {},
   "outputs": [
    {
     "data": {
      "text/html": [
       "<ol class=list-inline>\n",
       "\t<li>'CHP_407-FFPE'</li>\n",
       "\t<li>'CHP_407-01_PBMC'</li>\n",
       "\t<li>'CHP_407-02_PBMC'</li>\n",
       "</ol>\n"
      ],
      "text/latex": [
       "\\begin{enumerate*}\n",
       "\\item 'CHP\\_407-FFPE'\n",
       "\\item 'CHP\\_407-01\\_PBMC'\n",
       "\\item 'CHP\\_407-02\\_PBMC'\n",
       "\\end{enumerate*}\n"
      ],
      "text/markdown": [
       "1. 'CHP_407-FFPE'\n",
       "2. 'CHP_407-01_PBMC'\n",
       "3. 'CHP_407-02_PBMC'\n",
       "\n",
       "\n"
      ],
      "text/plain": [
       "[1] \"CHP_407-FFPE\"    \"CHP_407-01_PBMC\" \"CHP_407-02_PBMC\""
      ]
     },
     "metadata": {},
     "output_type": "display_data"
    }
   ],
   "source": [
    "unique(cdr3df$samplename)"
   ]
  },
  {
   "cell_type": "code",
   "execution_count": 161,
   "metadata": {},
   "outputs": [
    {
     "name": "stderr",
     "output_type": "stream",
     "text": [
      "list of samples to track clones: \n"
     ]
    },
    {
     "name": "stdout",
     "output_type": "stream",
     "text": [
      "[1] CHP_407-FFPE    CHP_407-01_PBMC CHP_407-02_PBMC\n",
      "Levels: CHP_407-FFPE CHP_407-01_PBMC CHP_407-02_PBMC\n"
     ]
    },
    {
     "name": "stderr",
     "output_type": "stream",
     "text": [
      "Total number of recurring clonotypes: \n"
     ]
    },
    {
     "name": "stdout",
     "output_type": "stream",
     "text": [
      "[1] 1\n"
     ]
    },
    {
     "name": "stderr",
     "output_type": "stream",
     "text": [
      "these are what we color: \n"
     ]
    },
    {
     "name": "stdout",
     "output_type": "stream",
     "text": [
      "CASSYSIDQEFNEKLFF \n",
      "        \"#BDB3B1\" \n"
     ]
    },
    {
     "data": {
      "text/html": [
       "<strong>pdf:</strong> 2"
      ],
      "text/latex": [
       "\\textbf{pdf:} 2"
      ],
      "text/markdown": [
       "**pdf:** 2"
      ],
      "text/plain": [
       "pdf \n",
       "  2 "
      ]
     },
     "metadata": {},
     "output_type": "display_data"
    }
   ],
   "source": [
    "cdr3df$samplename <- factor(cdr3df$samplename, levels = c(\"CHP_407-FFPE\", \"CHP_407-01_PBMC\", \"CHP_407-02_PBMC\"))\n",
    "\n",
    "plot_clonetracks.fx(cdr3df, plotpath, \"TRB\", \"cloneCount\", 0)"
   ]
  },
  {
   "cell_type": "markdown",
   "metadata": {},
   "source": [
    "### 404 ERMS"
   ]
  },
  {
   "cell_type": "code",
   "execution_count": 162,
   "metadata": {},
   "outputs": [
    {
     "name": "stderr",
     "output_type": "stream",
     "text": [
      "duplicated sequences:\n"
     ]
    },
    {
     "name": "stdout",
     "output_type": "stream",
     "text": [
      "character(0)\n"
     ]
    },
    {
     "name": "stderr",
     "output_type": "stream",
     "text": [
      "my files:\n"
     ]
    },
    {
     "name": "stdout",
     "output_type": "stream",
     "text": [
      "[1] \"batchFFPE/ds_batchFFPE/CLONES_TRBCHP_404_B-FFPE-DNA_2000000.txt\"\n",
      "[2] \"batch11/CLONES_TRBCHP_404-01_PBMC_DNA_2000000.txt\"              \n",
      "[3] \"batch11/CLONES_TRBCHP_404-02_PBMC_DNA_2000000.txt\"              \n"
     ]
    },
    {
     "name": "stderr",
     "output_type": "stream",
     "text": [
      "Total recovered clonotypes:\n"
     ]
    },
    {
     "name": "stdout",
     "output_type": "stream",
     "text": [
      "[1] 529\n"
     ]
    },
    {
     "name": "stderr",
     "output_type": "stream",
     "text": [
      "Total out-of-frame clonotypes:\n"
     ]
    },
    {
     "name": "stdout",
     "output_type": "stream",
     "text": [
      "[1] 93\n"
     ]
    },
    {
     "name": "stderr",
     "output_type": "stream",
     "text": [
      "Total clonotypes with stop codon:\n"
     ]
    },
    {
     "name": "stdout",
     "output_type": "stream",
     "text": [
      "[1] 13\n"
     ]
    },
    {
     "name": "stderr",
     "output_type": "stream",
     "text": [
      "Total productive clonotypes:\n"
     ]
    },
    {
     "name": "stdout",
     "output_type": "stream",
     "text": [
      "[1] 423\n"
     ]
    },
    {
     "name": "stderr",
     "output_type": "stream",
     "text": [
      "Output contains all clonotypes\n"
     ]
    }
   ],
   "source": [
    "ffpefile <- ds_flelst_chp_ffpe[grepl(\"404_B\", ds_flelst_chp_ffpe)]\n",
    "pbmcfiles <- ds_flelst_chp_PBMC[grepl(\"404\", ds_flelst_chp_PBMC)]\n",
    "tmp <- c(ffpefile, pbmcfiles)\n",
    "    \n",
    "cdr3df <- cdr3_dataframe.fx(datapath, \"TRB\", tmp, \"total\")\n",
    "cdr3df$samplename <- gsub(\"_DNA_2000000.txt\", \"\", cdr3df$samplename)\n",
    "cdr3df$samplename <- gsub(\"-DNA_2000000.txt\", \"\", cdr3df$samplename)\n",
    "cdr3df$samplename <- gsub(\"TRB\", \"\", cdr3df$samplename)"
   ]
  },
  {
   "cell_type": "code",
   "execution_count": 163,
   "metadata": {},
   "outputs": [
    {
     "data": {
      "text/html": [
       "<ol class=list-inline>\n",
       "\t<li>'CHP_404_B-FFPE'</li>\n",
       "\t<li>'CHP_404-01_PBMC'</li>\n",
       "\t<li>'CHP_404-02_PBMC'</li>\n",
       "</ol>\n"
      ],
      "text/latex": [
       "\\begin{enumerate*}\n",
       "\\item 'CHP\\_404\\_B-FFPE'\n",
       "\\item 'CHP\\_404-01\\_PBMC'\n",
       "\\item 'CHP\\_404-02\\_PBMC'\n",
       "\\end{enumerate*}\n"
      ],
      "text/markdown": [
       "1. 'CHP_404_B-FFPE'\n",
       "2. 'CHP_404-01_PBMC'\n",
       "3. 'CHP_404-02_PBMC'\n",
       "\n",
       "\n"
      ],
      "text/plain": [
       "[1] \"CHP_404_B-FFPE\"  \"CHP_404-01_PBMC\" \"CHP_404-02_PBMC\""
      ]
     },
     "metadata": {},
     "output_type": "display_data"
    }
   ],
   "source": [
    "unique(cdr3df$samplename)"
   ]
  },
  {
   "cell_type": "code",
   "execution_count": 164,
   "metadata": {},
   "outputs": [
    {
     "name": "stderr",
     "output_type": "stream",
     "text": [
      "list of samples to track clones: \n"
     ]
    },
    {
     "name": "stdout",
     "output_type": "stream",
     "text": [
      "[1] CHP_404_B-FFPE  CHP_404-01_PBMC CHP_404-02_PBMC\n",
      "Levels: CHP_404_B-FFPE CHP_404-01_PBMC CHP_404-02_PBMC\n"
     ]
    },
    {
     "name": "stderr",
     "output_type": "stream",
     "text": [
      "Total number of recurring clonotypes: \n"
     ]
    },
    {
     "name": "stdout",
     "output_type": "stream",
     "text": [
      "[1] 1\n"
     ]
    },
    {
     "name": "stderr",
     "output_type": "stream",
     "text": [
      "these are what we color: \n"
     ]
    },
    {
     "name": "stdout",
     "output_type": "stream",
     "text": [
      "CASSFIGAEYVRETQYF \n",
      "        \"#BDB3B1\" \n"
     ]
    },
    {
     "data": {
      "text/html": [
       "<strong>pdf:</strong> 2"
      ],
      "text/latex": [
       "\\textbf{pdf:} 2"
      ],
      "text/markdown": [
       "**pdf:** 2"
      ],
      "text/plain": [
       "pdf \n",
       "  2 "
      ]
     },
     "metadata": {},
     "output_type": "display_data"
    }
   ],
   "source": [
    "cdr3df$samplename <- factor(cdr3df$samplename, levels = c(\"CHP_404_B-FFPE\", \"CHP_404-01_PBMC\", \"CHP_404-02_PBMC\"))\n",
    "\n",
    "plot_clonetracks.fx(cdr3df, plotpath, \"TRB\", \"cloneCount\", 0)"
   ]
  },
  {
   "cell_type": "code",
   "execution_count": null,
   "metadata": {},
   "outputs": [],
   "source": []
  },
  {
   "cell_type": "markdown",
   "metadata": {},
   "source": [
    "### 394 ERMS"
   ]
  },
  {
   "cell_type": "code",
   "execution_count": 165,
   "metadata": {},
   "outputs": [
    {
     "name": "stderr",
     "output_type": "stream",
     "text": [
      "duplicated sequences:\n"
     ]
    },
    {
     "name": "stdout",
     "output_type": "stream",
     "text": [
      "character(0)\n"
     ]
    },
    {
     "name": "stderr",
     "output_type": "stream",
     "text": [
      "my files:\n"
     ]
    },
    {
     "name": "stdout",
     "output_type": "stream",
     "text": [
      "[1] \"batchFFPE/ds_batchFFPE/CLONES_TRBCHP_394-FFPE-DNA_S4_2000000.txt\"\n",
      "[2] \"batch8/ds_batch8/CLONES_TRBCHP_394-01-PBMC-DNA_2000000.txt\"      \n",
      "[3] \"batch8/ds_batch8/CLONES_TRBCHP_394-04-PBMC-DNA_2000000.txt\"      \n"
     ]
    },
    {
     "name": "stderr",
     "output_type": "stream",
     "text": [
      "Total recovered clonotypes:\n"
     ]
    },
    {
     "name": "stdout",
     "output_type": "stream",
     "text": [
      "[1] 93\n"
     ]
    },
    {
     "name": "stderr",
     "output_type": "stream",
     "text": [
      "Total out-of-frame clonotypes:\n"
     ]
    },
    {
     "name": "stdout",
     "output_type": "stream",
     "text": [
      "[1] 13\n"
     ]
    },
    {
     "name": "stderr",
     "output_type": "stream",
     "text": [
      "Total clonotypes with stop codon:\n"
     ]
    },
    {
     "name": "stdout",
     "output_type": "stream",
     "text": [
      "[1] 2\n"
     ]
    },
    {
     "name": "stderr",
     "output_type": "stream",
     "text": [
      "Total productive clonotypes:\n"
     ]
    },
    {
     "name": "stdout",
     "output_type": "stream",
     "text": [
      "[1] 78\n"
     ]
    },
    {
     "name": "stderr",
     "output_type": "stream",
     "text": [
      "Output contains all clonotypes\n"
     ]
    }
   ],
   "source": [
    "ffpefile <- ds_flelst_chp_ffpe[grepl(\"394\", ds_flelst_chp_ffpe)]\n",
    "pbmcfiles <- ds_flelst_chp_PBMC[grepl(\"394\", ds_flelst_chp_PBMC)]\n",
    "tmp <- c(ffpefile, pbmcfiles)\n",
    "    \n",
    "cdr3df <- cdr3_dataframe.fx(datapath, \"TRB\", tmp, \"total\")\n",
    "cdr3df$samplename <- gsub(\"-DNA_2000000.txt\", \"\", cdr3df$samplename)\n",
    "cdr3df$samplename <- gsub(\"-DNA_S4_2000000.txt\", \"\", cdr3df$samplename)\n",
    "cdr3df$samplename <- gsub(\"TRB\", \"\", cdr3df$samplename)"
   ]
  },
  {
   "cell_type": "code",
   "execution_count": 166,
   "metadata": {},
   "outputs": [
    {
     "data": {
      "text/html": [
       "<ol class=list-inline>\n",
       "\t<li>'CHP_394-FFPE'</li>\n",
       "\t<li>'CHP_394-01-PBMC'</li>\n",
       "\t<li>'CHP_394-04-PBMC'</li>\n",
       "</ol>\n"
      ],
      "text/latex": [
       "\\begin{enumerate*}\n",
       "\\item 'CHP\\_394-FFPE'\n",
       "\\item 'CHP\\_394-01-PBMC'\n",
       "\\item 'CHP\\_394-04-PBMC'\n",
       "\\end{enumerate*}\n"
      ],
      "text/markdown": [
       "1. 'CHP_394-FFPE'\n",
       "2. 'CHP_394-01-PBMC'\n",
       "3. 'CHP_394-04-PBMC'\n",
       "\n",
       "\n"
      ],
      "text/plain": [
       "[1] \"CHP_394-FFPE\"    \"CHP_394-01-PBMC\" \"CHP_394-04-PBMC\""
      ]
     },
     "metadata": {},
     "output_type": "display_data"
    }
   ],
   "source": [
    "unique(cdr3df$samplename)"
   ]
  },
  {
   "cell_type": "code",
   "execution_count": 167,
   "metadata": {},
   "outputs": [
    {
     "name": "stderr",
     "output_type": "stream",
     "text": [
      "list of samples to track clones: \n"
     ]
    },
    {
     "name": "stdout",
     "output_type": "stream",
     "text": [
      "[1] CHP_394-FFPE    CHP_394-01-PBMC CHP_394-04-PBMC\n",
      "Levels: CHP_394-FFPE CHP_394-01-PBMC CHP_394-04-PBMC\n"
     ]
    },
    {
     "name": "stderr",
     "output_type": "stream",
     "text": [
      "Total number of recurring clonotypes: \n"
     ]
    },
    {
     "name": "stdout",
     "output_type": "stream",
     "text": [
      "[1] 1\n"
     ]
    },
    {
     "name": "stderr",
     "output_type": "stream",
     "text": [
      "these are what we color: \n"
     ]
    },
    {
     "name": "stdout",
     "output_type": "stream",
     "text": [
      "CASSPGTSANEQFF \n",
      "     \"#BDB3B1\" \n"
     ]
    },
    {
     "data": {
      "text/html": [
       "<strong>pdf:</strong> 2"
      ],
      "text/latex": [
       "\\textbf{pdf:} 2"
      ],
      "text/markdown": [
       "**pdf:** 2"
      ],
      "text/plain": [
       "pdf \n",
       "  2 "
      ]
     },
     "metadata": {},
     "output_type": "display_data"
    }
   ],
   "source": [
    "cdr3df$samplename <- factor(cdr3df$samplename, levels = c(\"CHP_394-FFPE\", \"CHP_394-01-PBMC\", \"CHP_394-04-PBMC\"))\n",
    "\n",
    "plot_clonetracks.fx(cdr3df, plotpath, \"TRB\", \"cloneCount\", 0)"
   ]
  },
  {
   "cell_type": "markdown",
   "metadata": {},
   "source": [
    "### 372 BL"
   ]
  },
  {
   "cell_type": "code",
   "execution_count": 168,
   "metadata": {},
   "outputs": [
    {
     "name": "stderr",
     "output_type": "stream",
     "text": [
      "duplicated sequences:\n"
     ]
    },
    {
     "name": "stdout",
     "output_type": "stream",
     "text": [
      "character(0)\n"
     ]
    },
    {
     "name": "stderr",
     "output_type": "stream",
     "text": [
      "my files:\n"
     ]
    },
    {
     "name": "stdout",
     "output_type": "stream",
     "text": [
      "[1] \"batchFFPE/ds_batchFFPE/CLONES_TRBCHP_372-FFPE-DNA_S1_2000000.txt\"    \n",
      "[2] \"batch_reseq/ds_batch_reseq/CLONES_TRBCHP_372-01-PBMC-DNA_2000000.txt\"\n"
     ]
    },
    {
     "name": "stderr",
     "output_type": "stream",
     "text": [
      "Total recovered clonotypes:\n"
     ]
    },
    {
     "name": "stdout",
     "output_type": "stream",
     "text": [
      "[1] 11\n"
     ]
    },
    {
     "name": "stderr",
     "output_type": "stream",
     "text": [
      "Total out-of-frame clonotypes:\n"
     ]
    },
    {
     "name": "stdout",
     "output_type": "stream",
     "text": [
      "[1] 1\n"
     ]
    },
    {
     "name": "stderr",
     "output_type": "stream",
     "text": [
      "Total clonotypes with stop codon:\n"
     ]
    },
    {
     "name": "stdout",
     "output_type": "stream",
     "text": [
      "[1] 0\n"
     ]
    },
    {
     "name": "stderr",
     "output_type": "stream",
     "text": [
      "Total productive clonotypes:\n"
     ]
    },
    {
     "name": "stdout",
     "output_type": "stream",
     "text": [
      "[1] 10\n"
     ]
    },
    {
     "name": "stderr",
     "output_type": "stream",
     "text": [
      "Output contains all clonotypes\n"
     ]
    }
   ],
   "source": [
    "ffpefile <- ds_flelst_chp_ffpe[grepl(\"372\", ds_flelst_chp_ffpe)]\n",
    "pbmcfiles <- ds_flelst_chp_PBMC[grepl(\"372\", ds_flelst_chp_PBMC)]\n",
    "tmp <- c(ffpefile, pbmcfiles)\n",
    "    \n",
    "cdr3df <- cdr3_dataframe.fx(datapath, \"TRB\", tmp, \"total\")\n",
    "cdr3df$samplename <- gsub(\"-DNA_2000000.txt\", \"\", cdr3df$samplename)\n",
    "cdr3df$samplename <- gsub(\"-DNA_S1_2000000.txt\", \"\", cdr3df$samplename)\n",
    "cdr3df$samplename <- gsub(\"TRB\", \"\", cdr3df$samplename)"
   ]
  },
  {
   "cell_type": "code",
   "execution_count": 169,
   "metadata": {},
   "outputs": [
    {
     "data": {
      "text/html": [
       "<ol class=list-inline>\n",
       "\t<li>'CHP_372-FFPE'</li>\n",
       "\t<li>'CHP_372-01-PBMC'</li>\n",
       "</ol>\n"
      ],
      "text/latex": [
       "\\begin{enumerate*}\n",
       "\\item 'CHP\\_372-FFPE'\n",
       "\\item 'CHP\\_372-01-PBMC'\n",
       "\\end{enumerate*}\n"
      ],
      "text/markdown": [
       "1. 'CHP_372-FFPE'\n",
       "2. 'CHP_372-01-PBMC'\n",
       "\n",
       "\n"
      ],
      "text/plain": [
       "[1] \"CHP_372-FFPE\"    \"CHP_372-01-PBMC\""
      ]
     },
     "metadata": {},
     "output_type": "display_data"
    }
   ],
   "source": [
    "unique(cdr3df$samplename)"
   ]
  },
  {
   "cell_type": "code",
   "execution_count": 170,
   "metadata": {},
   "outputs": [
    {
     "name": "stderr",
     "output_type": "stream",
     "text": [
      "list of samples to track clones: \n"
     ]
    },
    {
     "name": "stdout",
     "output_type": "stream",
     "text": [
      "[1] CHP_372-FFPE    CHP_372-01-PBMC\n",
      "Levels: CHP_372-FFPE CHP_372-01-PBMC\n"
     ]
    },
    {
     "name": "stderr",
     "output_type": "stream",
     "text": [
      "Total number of recurring clonotypes: \n"
     ]
    },
    {
     "name": "stdout",
     "output_type": "stream",
     "text": [
      "[1] 0\n"
     ]
    },
    {
     "name": "stderr",
     "output_type": "stream",
     "text": [
      "these are what we color: \n"
     ]
    },
    {
     "name": "stdout",
     "output_type": "stream",
     "text": [
      "named character(0)\n"
     ]
    },
    {
     "data": {
      "text/html": [
       "<strong>pdf:</strong> 2"
      ],
      "text/latex": [
       "\\textbf{pdf:} 2"
      ],
      "text/markdown": [
       "**pdf:** 2"
      ],
      "text/plain": [
       "pdf \n",
       "  2 "
      ]
     },
     "metadata": {},
     "output_type": "display_data"
    }
   ],
   "source": [
    "cdr3df$samplename <- factor(cdr3df$samplename, levels = c(\"CHP_372-FFPE\", \"CHP_372-01-PBMC\"))\n",
    "\n",
    "plot_clonetracks.fx(cdr3df, plotpath, \"TRB\", \"cloneCount\", 0)"
   ]
  },
  {
   "cell_type": "markdown",
   "metadata": {},
   "source": [
    "### 370 ALCL"
   ]
  },
  {
   "cell_type": "code",
   "execution_count": 171,
   "metadata": {},
   "outputs": [
    {
     "name": "stderr",
     "output_type": "stream",
     "text": [
      "duplicated sequences:\n"
     ]
    },
    {
     "name": "stdout",
     "output_type": "stream",
     "text": [
      "[1] \"CASRGLSGNIQYF\"\n"
     ]
    },
    {
     "name": "stderr",
     "output_type": "stream",
     "text": [
      "my files:\n"
     ]
    },
    {
     "name": "stdout",
     "output_type": "stream",
     "text": [
      "[1] \"batchFFPE/ds_batchFFPE/CLONES_TRBCHP_370-FFPE-DNA_S5_2000000.txt\"\n",
      "[2] \"batch3/ds_batch3/CLONES_TRBCHP_370-02-PBMC-DNA_2000000.txt\"      \n",
      "[3] \"batch7/ds_batch7/CLONES_TRBCHP_370-01-PBMC-DNA_2000000.txt\"      \n",
      "[4] \"batch7/ds_batch7/CLONES_TRBCHP_370-05-PBMC-DNA_2000000.txt\"      \n",
      "[5] \"batch8/ds_batch8/CLONES_TRBCHP_370-03-PBMC-DNA_2000000.txt\"      \n"
     ]
    },
    {
     "name": "stderr",
     "output_type": "stream",
     "text": [
      "Total recovered clonotypes:\n"
     ]
    },
    {
     "name": "stdout",
     "output_type": "stream",
     "text": [
      "[1] 1127\n"
     ]
    },
    {
     "name": "stderr",
     "output_type": "stream",
     "text": [
      "Total out-of-frame clonotypes:\n"
     ]
    },
    {
     "name": "stdout",
     "output_type": "stream",
     "text": [
      "[1] 194\n"
     ]
    },
    {
     "name": "stderr",
     "output_type": "stream",
     "text": [
      "Total clonotypes with stop codon:\n"
     ]
    },
    {
     "name": "stdout",
     "output_type": "stream",
     "text": [
      "[1] 25\n"
     ]
    },
    {
     "name": "stderr",
     "output_type": "stream",
     "text": [
      "Total productive clonotypes:\n"
     ]
    },
    {
     "name": "stdout",
     "output_type": "stream",
     "text": [
      "[1] 908\n"
     ]
    },
    {
     "name": "stderr",
     "output_type": "stream",
     "text": [
      "Output contains all clonotypes\n"
     ]
    }
   ],
   "source": [
    "ffpefile <- ds_flelst_chp_ffpe[grepl(\"370\", ds_flelst_chp_ffpe)]\n",
    "pbmcfiles <- ds_flelst_chp_PBMC[grepl(\"370\", ds_flelst_chp_PBMC)]\n",
    "tmp <- c(ffpefile, pbmcfiles)\n",
    "    \n",
    "cdr3df <- cdr3_dataframe.fx(datapath, \"TRB\", tmp, \"total\")\n",
    "cdr3df$samplename <- gsub(\"-DNA_2000000.txt\", \"\", cdr3df$samplename)\n",
    "cdr3df$samplename <- gsub(\"-DNA_S5_2000000.txt\", \"\", cdr3df$samplename)\n",
    "cdr3df$samplename <- gsub(\"TRB\", \"\", cdr3df$samplename)"
   ]
  },
  {
   "cell_type": "code",
   "execution_count": 172,
   "metadata": {},
   "outputs": [
    {
     "data": {
      "text/html": [
       "<ol class=list-inline>\n",
       "\t<li>'CHP_370-FFPE'</li>\n",
       "\t<li>'CHP_370-02-PBMC'</li>\n",
       "\t<li>'CHP_370-01-PBMC'</li>\n",
       "\t<li>'CHP_370-05-PBMC'</li>\n",
       "\t<li>'CHP_370-03-PBMC'</li>\n",
       "</ol>\n"
      ],
      "text/latex": [
       "\\begin{enumerate*}\n",
       "\\item 'CHP\\_370-FFPE'\n",
       "\\item 'CHP\\_370-02-PBMC'\n",
       "\\item 'CHP\\_370-01-PBMC'\n",
       "\\item 'CHP\\_370-05-PBMC'\n",
       "\\item 'CHP\\_370-03-PBMC'\n",
       "\\end{enumerate*}\n"
      ],
      "text/markdown": [
       "1. 'CHP_370-FFPE'\n",
       "2. 'CHP_370-02-PBMC'\n",
       "3. 'CHP_370-01-PBMC'\n",
       "4. 'CHP_370-05-PBMC'\n",
       "5. 'CHP_370-03-PBMC'\n",
       "\n",
       "\n"
      ],
      "text/plain": [
       "[1] \"CHP_370-FFPE\"    \"CHP_370-02-PBMC\" \"CHP_370-01-PBMC\" \"CHP_370-05-PBMC\"\n",
       "[5] \"CHP_370-03-PBMC\""
      ]
     },
     "metadata": {},
     "output_type": "display_data"
    }
   ],
   "source": [
    "unique(cdr3df$samplename)"
   ]
  },
  {
   "cell_type": "code",
   "execution_count": 173,
   "metadata": {},
   "outputs": [
    {
     "name": "stderr",
     "output_type": "stream",
     "text": [
      "list of samples to track clones: \n"
     ]
    },
    {
     "name": "stdout",
     "output_type": "stream",
     "text": [
      "[1] CHP_370-FFPE    CHP_370-02-PBMC CHP_370-01-PBMC CHP_370-05-PBMC\n",
      "[5] CHP_370-03-PBMC\n",
      "5 Levels: CHP_370-FFPE CHP_370-01-PBMC CHP_370-02-PBMC ... CHP_370-05-PBMC\n"
     ]
    },
    {
     "name": "stderr",
     "output_type": "stream",
     "text": [
      "Total number of recurring clonotypes: \n"
     ]
    },
    {
     "name": "stdout",
     "output_type": "stream",
     "text": [
      "[1] 5\n"
     ]
    },
    {
     "name": "stderr",
     "output_type": "stream",
     "text": [
      "these are what we color: \n"
     ]
    },
    {
     "name": "stdout",
     "output_type": "stream",
     "text": [
      "     CASRGLSGNIQYF CASSIGGTLWAGGTEAFF    CASSLGTLPNQPQHF   CASRSGGYSYNSPLHF \n",
      "         \"#A2DAC7\"          \"#BA5ED4\"          \"#B1A6D3\"          \"#DE9D7A\" \n",
      "    CASSDSSGANVLTF \n",
      "         \"#AFE36F\" \n"
     ]
    },
    {
     "data": {
      "text/html": [
       "<strong>pdf:</strong> 2"
      ],
      "text/latex": [
       "\\textbf{pdf:} 2"
      ],
      "text/markdown": [
       "**pdf:** 2"
      ],
      "text/plain": [
       "pdf \n",
       "  2 "
      ]
     },
     "metadata": {},
     "output_type": "display_data"
    }
   ],
   "source": [
    "cdr3df$samplename <- factor(cdr3df$samplename, levels = c(\"CHP_370-FFPE\", \"CHP_370-01-PBMC\", \n",
    "                                                          \"CHP_370-02-PBMC\", \"CHP_370-03-PBMC\", \n",
    "                                                          \"CHP_370-05-PBMC\"))\n",
    "\n",
    "plot_clonetracks.fx(cdr3df, plotpath, \"TRB\", \"cloneFraction\", 0)"
   ]
  },
  {
   "cell_type": "markdown",
   "metadata": {},
   "source": [
    "### 364 OS"
   ]
  },
  {
   "cell_type": "code",
   "execution_count": 174,
   "metadata": {},
   "outputs": [
    {
     "name": "stderr",
     "output_type": "stream",
     "text": [
      "duplicated sequences:\n"
     ]
    },
    {
     "name": "stdout",
     "output_type": "stream",
     "text": [
      "character(0)\n"
     ]
    },
    {
     "name": "stderr",
     "output_type": "stream",
     "text": [
      "my files:\n"
     ]
    },
    {
     "name": "stdout",
     "output_type": "stream",
     "text": [
      "[1] \"batchFFPE/ds_batchFFPE/CLONES_TRBCHP_364-FFPE-DNA_S1_2000000.txt\"\n",
      "[2] \"batch4/ds_batch4/CLONES_TRBCHP_364-01-PBMC-DNA_2000000.txt\"      \n",
      "[3] \"batch4/ds_batch4/CLONES_TRBCHP_364-02-PBMC-DNA_2000000.txt\"      \n",
      "[4] \"batch4/ds_batch4/CLONES_TRBCHP_364-04-PBMC-DNA_2000000.txt\"      \n"
     ]
    },
    {
     "name": "stderr",
     "output_type": "stream",
     "text": [
      "Total recovered clonotypes:\n"
     ]
    },
    {
     "name": "stdout",
     "output_type": "stream",
     "text": [
      "[1] 372\n"
     ]
    },
    {
     "name": "stderr",
     "output_type": "stream",
     "text": [
      "Total out-of-frame clonotypes:\n"
     ]
    },
    {
     "name": "stdout",
     "output_type": "stream",
     "text": [
      "[1] 75\n"
     ]
    },
    {
     "name": "stderr",
     "output_type": "stream",
     "text": [
      "Total clonotypes with stop codon:\n"
     ]
    },
    {
     "name": "stdout",
     "output_type": "stream",
     "text": [
      "[1] 9\n"
     ]
    },
    {
     "name": "stderr",
     "output_type": "stream",
     "text": [
      "Total productive clonotypes:\n"
     ]
    },
    {
     "name": "stdout",
     "output_type": "stream",
     "text": [
      "[1] 288\n"
     ]
    },
    {
     "name": "stderr",
     "output_type": "stream",
     "text": [
      "Output contains all clonotypes\n"
     ]
    }
   ],
   "source": [
    "ffpefile <- ds_flelst_chp_ffpe[grepl(\"364\", ds_flelst_chp_ffpe)]\n",
    "pbmcfiles <- ds_flelst_chp_PBMC[grepl(\"364\", ds_flelst_chp_PBMC)]\n",
    "tmp <- c(ffpefile, pbmcfiles)\n",
    "    \n",
    "cdr3df <- cdr3_dataframe.fx(datapath, \"TRB\", tmp, \"total\")\n",
    "cdr3df$samplename <- gsub(\"-DNA_2000000.txt\", \"\", cdr3df$samplename)\n",
    "cdr3df$samplename <- gsub(\"-DNA_S1_2000000.txt\", \"\", cdr3df$samplename)\n",
    "cdr3df$samplename <- gsub(\"TRB\", \"\", cdr3df$samplename)"
   ]
  },
  {
   "cell_type": "code",
   "execution_count": 175,
   "metadata": {},
   "outputs": [
    {
     "data": {
      "text/html": [
       "<ol class=list-inline>\n",
       "\t<li>'CHP_364-FFPE'</li>\n",
       "\t<li>'CHP_364-01-PBMC'</li>\n",
       "\t<li>'CHP_364-02-PBMC'</li>\n",
       "\t<li>'CHP_364-04-PBMC'</li>\n",
       "</ol>\n"
      ],
      "text/latex": [
       "\\begin{enumerate*}\n",
       "\\item 'CHP\\_364-FFPE'\n",
       "\\item 'CHP\\_364-01-PBMC'\n",
       "\\item 'CHP\\_364-02-PBMC'\n",
       "\\item 'CHP\\_364-04-PBMC'\n",
       "\\end{enumerate*}\n"
      ],
      "text/markdown": [
       "1. 'CHP_364-FFPE'\n",
       "2. 'CHP_364-01-PBMC'\n",
       "3. 'CHP_364-02-PBMC'\n",
       "4. 'CHP_364-04-PBMC'\n",
       "\n",
       "\n"
      ],
      "text/plain": [
       "[1] \"CHP_364-FFPE\"    \"CHP_364-01-PBMC\" \"CHP_364-02-PBMC\" \"CHP_364-04-PBMC\""
      ]
     },
     "metadata": {},
     "output_type": "display_data"
    }
   ],
   "source": [
    "unique(cdr3df$samplename)"
   ]
  },
  {
   "cell_type": "code",
   "execution_count": 176,
   "metadata": {},
   "outputs": [
    {
     "name": "stderr",
     "output_type": "stream",
     "text": [
      "list of samples to track clones: \n"
     ]
    },
    {
     "name": "stdout",
     "output_type": "stream",
     "text": [
      "[1] CHP_364-FFPE    CHP_364-01-PBMC CHP_364-02-PBMC CHP_364-04-PBMC\n",
      "Levels: CHP_364-FFPE CHP_364-01-PBMC CHP_364-02-PBMC CHP_364-04-PBMC\n"
     ]
    },
    {
     "name": "stderr",
     "output_type": "stream",
     "text": [
      "Total number of recurring clonotypes: \n"
     ]
    },
    {
     "name": "stdout",
     "output_type": "stream",
     "text": [
      "[1] 4\n"
     ]
    },
    {
     "name": "stderr",
     "output_type": "stream",
     "text": [
      "these are what we color: \n"
     ]
    },
    {
     "name": "stdout",
     "output_type": "stream",
     "text": [
      "      CASSLLEQPQHF CAISGPGTSGRAQDTQYF      CASSAGNTGELFF     CASSGLAGADTQYF \n",
      "         \"#B76DD2\"          \"#ADE37C\"          \"#A6CBD1\"          \"#DE9D81\" \n"
     ]
    },
    {
     "data": {
      "text/html": [
       "<strong>pdf:</strong> 2"
      ],
      "text/latex": [
       "\\textbf{pdf:} 2"
      ],
      "text/markdown": [
       "**pdf:** 2"
      ],
      "text/plain": [
       "pdf \n",
       "  2 "
      ]
     },
     "metadata": {},
     "output_type": "display_data"
    }
   ],
   "source": [
    "cdr3df$samplename <- factor(cdr3df$samplename, levels = c(\"CHP_364-FFPE\", \"CHP_364-01-PBMC\", \n",
    "                                                          \"CHP_364-02-PBMC\", \"CHP_364-04-PBMC\"))\n",
    "\n",
    "plot_clonetracks.fx(cdr3df, plotpath, \"TRB\", \"cloneCount\", 0)"
   ]
  },
  {
   "cell_type": "markdown",
   "metadata": {},
   "source": [
    "### 361 HD"
   ]
  },
  {
   "cell_type": "code",
   "execution_count": 177,
   "metadata": {},
   "outputs": [
    {
     "name": "stderr",
     "output_type": "stream",
     "text": [
      "duplicated sequences:\n"
     ]
    },
    {
     "name": "stdout",
     "output_type": "stream",
     "text": [
      "[1] \"CASSYGQGANGYTF\"\n"
     ]
    },
    {
     "name": "stderr",
     "output_type": "stream",
     "text": [
      "my files:\n"
     ]
    },
    {
     "name": "stdout",
     "output_type": "stream",
     "text": [
      "[1] \"batchFFPE/ds_batchFFPE/CLONES_TRBCHP_361-FFPE-DNA_S1_2000000.txt\"\n",
      "[2] \"batch3/ds_batch3/CLONES_TRBCHP_361-02-PBMC-DNA_2000000.txt\"      \n",
      "[3] \"batch3/ds_batch3/CLONES_TRBCHP_361-03-PBMC-DNA_2000000.txt\"      \n",
      "[4] \"batch4/ds_batch4/CLONES_TRBCHP_361-01-PBMC-DNA_2000000.txt\"      \n",
      "[5] \"batch7/ds_batch7/CLONES_TRBCHP_361-04-PBMC-DNA_2000000.txt\"      \n"
     ]
    },
    {
     "name": "stderr",
     "output_type": "stream",
     "text": [
      "Total recovered clonotypes:\n"
     ]
    },
    {
     "name": "stdout",
     "output_type": "stream",
     "text": [
      "[1] 502\n"
     ]
    },
    {
     "name": "stderr",
     "output_type": "stream",
     "text": [
      "Total out-of-frame clonotypes:\n"
     ]
    },
    {
     "name": "stdout",
     "output_type": "stream",
     "text": [
      "[1] 98\n"
     ]
    },
    {
     "name": "stderr",
     "output_type": "stream",
     "text": [
      "Total clonotypes with stop codon:\n"
     ]
    },
    {
     "name": "stdout",
     "output_type": "stream",
     "text": [
      "[1] 6\n"
     ]
    },
    {
     "name": "stderr",
     "output_type": "stream",
     "text": [
      "Total productive clonotypes:\n"
     ]
    },
    {
     "name": "stdout",
     "output_type": "stream",
     "text": [
      "[1] 398\n"
     ]
    },
    {
     "name": "stderr",
     "output_type": "stream",
     "text": [
      "Output contains all clonotypes\n"
     ]
    }
   ],
   "source": [
    "ffpefile <- ds_flelst_chp_ffpe[grepl(\"361\", ds_flelst_chp_ffpe)]\n",
    "pbmcfiles <- ds_flelst_chp_PBMC[grepl(\"361\", ds_flelst_chp_PBMC)]\n",
    "tmp <- c(ffpefile, pbmcfiles)\n",
    "    \n",
    "cdr3df <- cdr3_dataframe.fx(datapath, \"TRB\", tmp, \"total\")\n",
    "\n",
    "cdr3df$samplename <- gsub(\"-DNA_2000000.txt\", \"\", cdr3df$samplename)\n",
    "cdr3df$samplename <- gsub(\"-DNA_S1_2000000.txt\", \"\", cdr3df$samplename)\n",
    "cdr3df$samplename <- gsub(\"TRB\", \"\", cdr3df$samplename)\n"
   ]
  },
  {
   "cell_type": "code",
   "execution_count": 178,
   "metadata": {},
   "outputs": [
    {
     "data": {
      "text/html": [
       "<ol class=list-inline>\n",
       "\t<li>'CHP_361-FFPE'</li>\n",
       "\t<li>'CHP_361-02-PBMC'</li>\n",
       "\t<li>'CHP_361-03-PBMC'</li>\n",
       "\t<li>'CHP_361-01-PBMC'</li>\n",
       "\t<li>'CHP_361-04-PBMC'</li>\n",
       "</ol>\n"
      ],
      "text/latex": [
       "\\begin{enumerate*}\n",
       "\\item 'CHP\\_361-FFPE'\n",
       "\\item 'CHP\\_361-02-PBMC'\n",
       "\\item 'CHP\\_361-03-PBMC'\n",
       "\\item 'CHP\\_361-01-PBMC'\n",
       "\\item 'CHP\\_361-04-PBMC'\n",
       "\\end{enumerate*}\n"
      ],
      "text/markdown": [
       "1. 'CHP_361-FFPE'\n",
       "2. 'CHP_361-02-PBMC'\n",
       "3. 'CHP_361-03-PBMC'\n",
       "4. 'CHP_361-01-PBMC'\n",
       "5. 'CHP_361-04-PBMC'\n",
       "\n",
       "\n"
      ],
      "text/plain": [
       "[1] \"CHP_361-FFPE\"    \"CHP_361-02-PBMC\" \"CHP_361-03-PBMC\" \"CHP_361-01-PBMC\"\n",
       "[5] \"CHP_361-04-PBMC\""
      ]
     },
     "metadata": {},
     "output_type": "display_data"
    }
   ],
   "source": [
    "unique(cdr3df$samplename)"
   ]
  },
  {
   "cell_type": "code",
   "execution_count": 179,
   "metadata": {},
   "outputs": [
    {
     "name": "stderr",
     "output_type": "stream",
     "text": [
      "list of samples to track clones: \n"
     ]
    },
    {
     "name": "stdout",
     "output_type": "stream",
     "text": [
      "[1] CHP_361-FFPE    CHP_361-02-PBMC CHP_361-03-PBMC CHP_361-01-PBMC\n",
      "[5] CHP_361-04-PBMC\n",
      "5 Levels: CHP_361-FFPE CHP_361-01-PBMC CHP_361-02-PBMC ... CHP_361-04-PBMC\n"
     ]
    },
    {
     "name": "stderr",
     "output_type": "stream",
     "text": [
      "Total number of recurring clonotypes: \n"
     ]
    },
    {
     "name": "stdout",
     "output_type": "stream",
     "text": [
      "[1] 0\n"
     ]
    },
    {
     "name": "stderr",
     "output_type": "stream",
     "text": [
      "these are what we color: \n"
     ]
    },
    {
     "name": "stdout",
     "output_type": "stream",
     "text": [
      "named character(0)\n"
     ]
    },
    {
     "data": {
      "text/html": [
       "<strong>pdf:</strong> 2"
      ],
      "text/latex": [
       "\\textbf{pdf:} 2"
      ],
      "text/markdown": [
       "**pdf:** 2"
      ],
      "text/plain": [
       "pdf \n",
       "  2 "
      ]
     },
     "metadata": {},
     "output_type": "display_data"
    }
   ],
   "source": [
    "cdr3df$samplename <- factor(cdr3df$samplename, levels = c(\"CHP_361-FFPE\", \"CHP_361-01-PBMC\", \"CHP_361-02-PBMC\",\n",
    "                                                         \"CHP_361-03-PBMC\", \"CHP_361-04-PBMC\"))\n",
    "\n",
    "plot_clonetracks.fx(cdr3df, plotpath, \"TRB\", \"cloneCount\", 0)"
   ]
  },
  {
   "cell_type": "markdown",
   "metadata": {},
   "source": [
    "## Tumour and cfDNA"
   ]
  },
  {
   "cell_type": "code",
   "execution_count": 180,
   "metadata": {},
   "outputs": [
    {
     "data": {
      "text/html": [
       "<ol class=list-inline>\n",
       "\t<li>'361'</li>\n",
       "\t<li>'364'</li>\n",
       "\t<li>'370'</li>\n",
       "\t<li>'372'</li>\n",
       "\t<li>'380'</li>\n",
       "\t<li>'389'</li>\n",
       "\t<li>'390'</li>\n",
       "\t<li>'394'</li>\n",
       "\t<li>'400'</li>\n",
       "\t<li>'401'</li>\n",
       "\t<li>'404'</li>\n",
       "\t<li>'404'</li>\n",
       "\t<li>'407'</li>\n",
       "\t<li>'412'</li>\n",
       "\t<li>'418'</li>\n",
       "\t<li>'419'</li>\n",
       "</ol>\n"
      ],
      "text/latex": [
       "\\begin{enumerate*}\n",
       "\\item '361'\n",
       "\\item '364'\n",
       "\\item '370'\n",
       "\\item '372'\n",
       "\\item '380'\n",
       "\\item '389'\n",
       "\\item '390'\n",
       "\\item '394'\n",
       "\\item '400'\n",
       "\\item '401'\n",
       "\\item '404'\n",
       "\\item '404'\n",
       "\\item '407'\n",
       "\\item '412'\n",
       "\\item '418'\n",
       "\\item '419'\n",
       "\\end{enumerate*}\n"
      ],
      "text/markdown": [
       "1. '361'\n",
       "2. '364'\n",
       "3. '370'\n",
       "4. '372'\n",
       "5. '380'\n",
       "6. '389'\n",
       "7. '390'\n",
       "8. '394'\n",
       "9. '400'\n",
       "10. '401'\n",
       "11. '404'\n",
       "12. '404'\n",
       "13. '407'\n",
       "14. '412'\n",
       "15. '418'\n",
       "16. '419'\n",
       "\n",
       "\n"
      ],
      "text/plain": [
       " [1] \"361\" \"364\" \"370\" \"372\" \"380\" \"389\" \"390\" \"394\" \"400\" \"401\" \"404\" \"404\"\n",
       "[13] \"407\" \"412\" \"418\" \"419\""
      ]
     },
     "metadata": {},
     "output_type": "display_data"
    }
   ],
   "source": [
    "manifest_df_ffpe$patient"
   ]
  },
  {
   "cell_type": "markdown",
   "metadata": {},
   "source": [
    "I have to do all separately to make sure levels are correct\n",
    "\n",
    "364 no baseline cfdna"
   ]
  },
  {
   "cell_type": "markdown",
   "metadata": {},
   "source": [
    "### 361 HD"
   ]
  },
  {
   "cell_type": "code",
   "execution_count": 189,
   "metadata": {},
   "outputs": [
    {
     "name": "stderr",
     "output_type": "stream",
     "text": [
      "duplicated sequences:\n"
     ]
    },
    {
     "name": "stdout",
     "output_type": "stream",
     "text": [
      "[1] \"CASSYGQGANGYTF\"\n"
     ]
    },
    {
     "name": "stderr",
     "output_type": "stream",
     "text": [
      "my files:\n"
     ]
    },
    {
     "name": "stdout",
     "output_type": "stream",
     "text": [
      "[1] \"batchFFPE/ds_batchFFPE/CLONES_TRBCHP_361-FFPE-DNA_S1_2000000.txt\"\n",
      "[2] \"batch10_cfDNA/CLONES_TRBCHP_361-02_cfDNA_2000000.txt\"            \n",
      "[3] \"batch5_cfDNA/CLONES_TRBCHP_361-01_cfDNA_2000000.txt\"             \n",
      "[4] \"batch5_cfDNA/CLONES_TRBCHP_361-03_cfDNA_2000000.txt\"             \n",
      "[5] \"batch5_cfDNA/CLONES_TRBCHP_361-05_cfDNA_2000000.txt\"             \n"
     ]
    },
    {
     "name": "stderr",
     "output_type": "stream",
     "text": [
      "Total recovered clonotypes:\n"
     ]
    },
    {
     "name": "stdout",
     "output_type": "stream",
     "text": [
      "[1] 277\n"
     ]
    },
    {
     "name": "stderr",
     "output_type": "stream",
     "text": [
      "Total out-of-frame clonotypes:\n"
     ]
    },
    {
     "name": "stdout",
     "output_type": "stream",
     "text": [
      "[1] 53\n"
     ]
    },
    {
     "name": "stderr",
     "output_type": "stream",
     "text": [
      "Total clonotypes with stop codon:\n"
     ]
    },
    {
     "name": "stdout",
     "output_type": "stream",
     "text": [
      "[1] 6\n"
     ]
    },
    {
     "name": "stderr",
     "output_type": "stream",
     "text": [
      "Total productive clonotypes:\n"
     ]
    },
    {
     "name": "stdout",
     "output_type": "stream",
     "text": [
      "[1] 218\n"
     ]
    },
    {
     "name": "stderr",
     "output_type": "stream",
     "text": [
      "Output contains all clonotypes\n"
     ]
    }
   ],
   "source": [
    "ffpefile <- ds_flelst_chp_ffpe[grepl(\"361\", ds_flelst_chp_ffpe)]\n",
    "cfdnafiles <- ds_flelst_chp_cfDNA[grepl(\"361\", ds_flelst_chp_cfDNA)]\n",
    "tmp <- c(ffpefile, cfdnafiles)\n",
    "    \n",
    "cdr3df <- cdr3_dataframe.fx(datapath, \"TRB\", tmp, \"total\")\n",
    "cdr3df$samplename <- gsub(\"_2000000.txt\", \"\", cdr3df$samplename)\n",
    "cdr3df$samplename <- gsub(\"-DNA_S1\", \"\", cdr3df$samplename)\n",
    "cdr3df$samplename <- gsub(\"TRB\", \"\", cdr3df$samplename)"
   ]
  },
  {
   "cell_type": "code",
   "execution_count": 190,
   "metadata": {},
   "outputs": [
    {
     "data": {
      "text/html": [
       "<ol class=list-inline>\n",
       "\t<li>'CHP_361-FFPE'</li>\n",
       "\t<li>'CHP_361-02_cfDNA'</li>\n",
       "\t<li>'CHP_361-01_cfDNA'</li>\n",
       "\t<li>'CHP_361-03_cfDNA'</li>\n",
       "\t<li>'CHP_361-05_cfDNA'</li>\n",
       "</ol>\n"
      ],
      "text/latex": [
       "\\begin{enumerate*}\n",
       "\\item 'CHP\\_361-FFPE'\n",
       "\\item 'CHP\\_361-02\\_cfDNA'\n",
       "\\item 'CHP\\_361-01\\_cfDNA'\n",
       "\\item 'CHP\\_361-03\\_cfDNA'\n",
       "\\item 'CHP\\_361-05\\_cfDNA'\n",
       "\\end{enumerate*}\n"
      ],
      "text/markdown": [
       "1. 'CHP_361-FFPE'\n",
       "2. 'CHP_361-02_cfDNA'\n",
       "3. 'CHP_361-01_cfDNA'\n",
       "4. 'CHP_361-03_cfDNA'\n",
       "5. 'CHP_361-05_cfDNA'\n",
       "\n",
       "\n"
      ],
      "text/plain": [
       "[1] \"CHP_361-FFPE\"     \"CHP_361-02_cfDNA\" \"CHP_361-01_cfDNA\" \"CHP_361-03_cfDNA\"\n",
       "[5] \"CHP_361-05_cfDNA\""
      ]
     },
     "metadata": {},
     "output_type": "display_data"
    }
   ],
   "source": [
    "unique(cdr3df$samplename)"
   ]
  },
  {
   "cell_type": "code",
   "execution_count": 191,
   "metadata": {},
   "outputs": [
    {
     "name": "stderr",
     "output_type": "stream",
     "text": [
      "list of samples to track clones: \n"
     ]
    },
    {
     "name": "stdout",
     "output_type": "stream",
     "text": [
      "[1] CHP_361-FFPE     CHP_361-02_cfDNA CHP_361-01_cfDNA CHP_361-03_cfDNA\n",
      "[5] CHP_361-05_cfDNA\n",
      "5 Levels: CHP_361-FFPE CHP_361-01_cfDNA CHP_361-02_cfDNA ... CHP_361-05_cfDNA\n"
     ]
    },
    {
     "name": "stderr",
     "output_type": "stream",
     "text": [
      "Total number of recurring clonotypes: \n"
     ]
    },
    {
     "name": "stdout",
     "output_type": "stream",
     "text": [
      "[1] 1\n"
     ]
    },
    {
     "name": "stderr",
     "output_type": "stream",
     "text": [
      "these are what we color: \n"
     ]
    },
    {
     "name": "stdout",
     "output_type": "stream",
     "text": [
      "CASSVGDSPYEQYF \n",
      "     \"#BDB3B1\" \n"
     ]
    },
    {
     "data": {
      "text/html": [
       "<strong>pdf:</strong> 2"
      ],
      "text/latex": [
       "\\textbf{pdf:} 2"
      ],
      "text/markdown": [
       "**pdf:** 2"
      ],
      "text/plain": [
       "pdf \n",
       "  2 "
      ]
     },
     "metadata": {},
     "output_type": "display_data"
    }
   ],
   "source": [
    "cdr3df$samplename <- factor(cdr3df$samplename, levels = c(\"CHP_361-FFPE\", \"CHP_361-01_cfDNA\", \n",
    "                                                          \"CHP_361-02_cfDNA\", \"CHP_361-03_cfDNA\", \"CHP_361-05_cfDNA\"))\n",
    "\n",
    "plot_clonetracks.fx(cdr3df, plotpath, \"TRB\", \"cloneCount\", 0)"
   ]
  },
  {
   "cell_type": "markdown",
   "metadata": {},
   "source": [
    "### 370 ALCL"
   ]
  },
  {
   "cell_type": "code",
   "execution_count": 200,
   "metadata": {},
   "outputs": [
    {
     "name": "stderr",
     "output_type": "stream",
     "text": [
      "duplicated sequences:\n"
     ]
    },
    {
     "name": "stdout",
     "output_type": "stream",
     "text": [
      "[1] \"CASRGLSGNIQYF\"\n"
     ]
    },
    {
     "name": "stderr",
     "output_type": "stream",
     "text": [
      "my files:\n"
     ]
    },
    {
     "name": "stdout",
     "output_type": "stream",
     "text": [
      "[1] \"batchFFPE/ds_batchFFPE/CLONES_TRBCHP_370-FFPE-DNA_S5_2000000.txt\"\n",
      "[2] \"batch1_cfDNA/CLONES_TRBCHP_370-01-cfDNA_2000000.txt\"             \n",
      "[3] \"batch3a9_cfDNA/CLONES_TRBCHP_370-03_cfDNA_2000000.txt\"           \n"
     ]
    },
    {
     "name": "stderr",
     "output_type": "stream",
     "text": [
      "Total recovered clonotypes:\n"
     ]
    },
    {
     "name": "stdout",
     "output_type": "stream",
     "text": [
      "[1] 90\n"
     ]
    },
    {
     "name": "stderr",
     "output_type": "stream",
     "text": [
      "Total out-of-frame clonotypes:\n"
     ]
    },
    {
     "name": "stdout",
     "output_type": "stream",
     "text": [
      "[1] 18\n"
     ]
    },
    {
     "name": "stderr",
     "output_type": "stream",
     "text": [
      "Total clonotypes with stop codon:\n"
     ]
    },
    {
     "name": "stdout",
     "output_type": "stream",
     "text": [
      "[1] 0\n"
     ]
    },
    {
     "name": "stderr",
     "output_type": "stream",
     "text": [
      "Total productive clonotypes:\n"
     ]
    },
    {
     "name": "stdout",
     "output_type": "stream",
     "text": [
      "[1] 72\n"
     ]
    },
    {
     "name": "stderr",
     "output_type": "stream",
     "text": [
      "Output contains all clonotypes\n"
     ]
    }
   ],
   "source": [
    "ffpefile <- ds_flelst_chp_ffpe[grepl(\"370\", ds_flelst_chp_ffpe)]\n",
    "cfdnafiles <- ds_flelst_chp_cfDNA[grepl(\"370\", ds_flelst_chp_cfDNA)]\n",
    "tmp <- c(ffpefile, cfdnafiles)\n",
    "    \n",
    "cdr3df <- cdr3_dataframe.fx(datapath, \"TRB\", tmp, \"total\")\n",
    "cdr3df$samplename <- gsub(\"_2000000.txt\", \"\", cdr3df$samplename)\n",
    "cdr3df$samplename <- gsub(\"-DNA_S5\", \"\", cdr3df$samplename)\n",
    "cdr3df$samplename <- gsub(\"TRB\", \"\", cdr3df$samplename)"
   ]
  },
  {
   "cell_type": "code",
   "execution_count": 201,
   "metadata": {},
   "outputs": [
    {
     "data": {
      "text/html": [
       "<ol class=list-inline>\n",
       "\t<li>'CHP_370-FFPE'</li>\n",
       "\t<li>'CHP_370-01-cfDNA'</li>\n",
       "\t<li>'CHP_370-03_cfDNA'</li>\n",
       "</ol>\n"
      ],
      "text/latex": [
       "\\begin{enumerate*}\n",
       "\\item 'CHP\\_370-FFPE'\n",
       "\\item 'CHP\\_370-01-cfDNA'\n",
       "\\item 'CHP\\_370-03\\_cfDNA'\n",
       "\\end{enumerate*}\n"
      ],
      "text/markdown": [
       "1. 'CHP_370-FFPE'\n",
       "2. 'CHP_370-01-cfDNA'\n",
       "3. 'CHP_370-03_cfDNA'\n",
       "\n",
       "\n"
      ],
      "text/plain": [
       "[1] \"CHP_370-FFPE\"     \"CHP_370-01-cfDNA\" \"CHP_370-03_cfDNA\""
      ]
     },
     "metadata": {},
     "output_type": "display_data"
    }
   ],
   "source": [
    "unique(cdr3df$samplename)"
   ]
  },
  {
   "cell_type": "code",
   "execution_count": 202,
   "metadata": {},
   "outputs": [
    {
     "name": "stderr",
     "output_type": "stream",
     "text": [
      "list of samples to track clones: \n"
     ]
    },
    {
     "name": "stdout",
     "output_type": "stream",
     "text": [
      "[1] CHP_370-FFPE     CHP_370-01-cfDNA CHP_370-03_cfDNA\n",
      "Levels: CHP_370-FFPE CHP_370-01-cfDNA CHP_370-03_cfDNA\n"
     ]
    },
    {
     "name": "stderr",
     "output_type": "stream",
     "text": [
      "Total number of recurring clonotypes: \n"
     ]
    },
    {
     "name": "stdout",
     "output_type": "stream",
     "text": [
      "[1] 2\n"
     ]
    },
    {
     "name": "stderr",
     "output_type": "stream",
     "text": [
      "these are what we color: \n"
     ]
    },
    {
     "name": "stdout",
     "output_type": "stream",
     "text": [
      "   CASRGLSGNIQYF CASRKLAGMRTDTQYF \n",
      "       \"#BB82C9\"        \"#B8D49F\" \n"
     ]
    },
    {
     "data": {
      "text/html": [
       "<strong>pdf:</strong> 2"
      ],
      "text/latex": [
       "\\textbf{pdf:} 2"
      ],
      "text/markdown": [
       "**pdf:** 2"
      ],
      "text/plain": [
       "pdf \n",
       "  2 "
      ]
     },
     "metadata": {},
     "output_type": "display_data"
    }
   ],
   "source": [
    "cdr3df$samplename <- factor(cdr3df$samplename, levels = c(\"CHP_370-FFPE\", \"CHP_370-01-cfDNA\", \"CHP_370-03_cfDNA\"))\n",
    "\n",
    "plot_clonetracks.fx(cdr3df, plotpath, \"TRB\", \"cloneCount\", 0)"
   ]
  },
  {
   "cell_type": "markdown",
   "metadata": {},
   "source": [
    "### 372"
   ]
  },
  {
   "cell_type": "code",
   "execution_count": 238,
   "metadata": {},
   "outputs": [
    {
     "name": "stderr",
     "output_type": "stream",
     "text": [
      "duplicated sequences:\n"
     ]
    },
    {
     "name": "stdout",
     "output_type": "stream",
     "text": [
      "character(0)\n"
     ]
    },
    {
     "name": "stderr",
     "output_type": "stream",
     "text": [
      "my files:\n"
     ]
    },
    {
     "name": "stdout",
     "output_type": "stream",
     "text": [
      "[1] \"batchFFPE/ds_batchFFPE/CLONES_TRBCHP_372-FFPE-DNA_S1_2000000.txt\"\n",
      "[2] \"batch1_cfDNA/CLONES_TRBCHP_372-01-cfDNA_2000000.txt\"             \n"
     ]
    },
    {
     "name": "stderr",
     "output_type": "stream",
     "text": [
      "Total recovered clonotypes:\n"
     ]
    },
    {
     "name": "stdout",
     "output_type": "stream",
     "text": [
      "[1] 13\n"
     ]
    },
    {
     "name": "stderr",
     "output_type": "stream",
     "text": [
      "Total out-of-frame clonotypes:\n"
     ]
    },
    {
     "name": "stdout",
     "output_type": "stream",
     "text": [
      "[1] 2\n"
     ]
    },
    {
     "name": "stderr",
     "output_type": "stream",
     "text": [
      "Total clonotypes with stop codon:\n"
     ]
    },
    {
     "name": "stdout",
     "output_type": "stream",
     "text": [
      "[1] 0\n"
     ]
    },
    {
     "name": "stderr",
     "output_type": "stream",
     "text": [
      "Total productive clonotypes:\n"
     ]
    },
    {
     "name": "stdout",
     "output_type": "stream",
     "text": [
      "[1] 11\n"
     ]
    },
    {
     "name": "stderr",
     "output_type": "stream",
     "text": [
      "Output contains all clonotypes\n"
     ]
    }
   ],
   "source": [
    "ffpefile <- ds_flelst_chp_ffpe[grepl(\"372\", ds_flelst_chp_ffpe)]\n",
    "cfdnafiles <- ds_flelst_chp_cfDNA[grepl(\"372\", ds_flelst_chp_cfDNA)]\n",
    "tmp <- c(ffpefile, cfdnafiles)\n",
    "    \n",
    "cdr3df <- cdr3_dataframe.fx(datapath, \"TRB\", tmp, \"total\")\n",
    "cdr3df$samplename <- gsub(\"_2000000.txt\", \"\", cdr3df$samplename)\n",
    "cdr3df$samplename <- gsub(\"-DNA_S1\", \"\", cdr3df$samplename)\n",
    "cdr3df$samplename <- gsub(\"TRB\", \"\", cdr3df$samplename)"
   ]
  },
  {
   "cell_type": "code",
   "execution_count": 239,
   "metadata": {},
   "outputs": [
    {
     "data": {
      "text/html": [
       "<ol class=list-inline>\n",
       "\t<li>'CHP_372-FFPE'</li>\n",
       "\t<li>'CHP_372-01-cfDNA'</li>\n",
       "</ol>\n"
      ],
      "text/latex": [
       "\\begin{enumerate*}\n",
       "\\item 'CHP\\_372-FFPE'\n",
       "\\item 'CHP\\_372-01-cfDNA'\n",
       "\\end{enumerate*}\n"
      ],
      "text/markdown": [
       "1. 'CHP_372-FFPE'\n",
       "2. 'CHP_372-01-cfDNA'\n",
       "\n",
       "\n"
      ],
      "text/plain": [
       "[1] \"CHP_372-FFPE\"     \"CHP_372-01-cfDNA\""
      ]
     },
     "metadata": {},
     "output_type": "display_data"
    }
   ],
   "source": [
    "unique(cdr3df$samplename)"
   ]
  },
  {
   "cell_type": "code",
   "execution_count": 240,
   "metadata": {},
   "outputs": [
    {
     "name": "stderr",
     "output_type": "stream",
     "text": [
      "list of samples to track clones: \n"
     ]
    },
    {
     "name": "stdout",
     "output_type": "stream",
     "text": [
      "[1] CHP_372-FFPE     CHP_372-01-cfDNA\n",
      "Levels: CHP_372-FFPE CHP_372-01-cfDNA\n"
     ]
    },
    {
     "name": "stderr",
     "output_type": "stream",
     "text": [
      "Total number of recurring clonotypes: \n"
     ]
    },
    {
     "name": "stdout",
     "output_type": "stream",
     "text": [
      "[1] 0\n"
     ]
    },
    {
     "name": "stderr",
     "output_type": "stream",
     "text": [
      "these are what we color: \n"
     ]
    },
    {
     "name": "stdout",
     "output_type": "stream",
     "text": [
      "named character(0)\n"
     ]
    },
    {
     "data": {
      "text/html": [
       "<strong>pdf:</strong> 2"
      ],
      "text/latex": [
       "\\textbf{pdf:} 2"
      ],
      "text/markdown": [
       "**pdf:** 2"
      ],
      "text/plain": [
       "pdf \n",
       "  2 "
      ]
     },
     "metadata": {},
     "output_type": "display_data"
    }
   ],
   "source": [
    "cdr3df$samplename <- factor(cdr3df$samplename, levels = c(\"CHP_372-FFPE\", \"CHP_372-01-cfDNA\"))\n",
    "\n",
    "plot_clonetracks.fx(cdr3df, plotpath, \"TRB\", \"cloneCount\", 0)"
   ]
  },
  {
   "cell_type": "code",
   "execution_count": null,
   "metadata": {},
   "outputs": [],
   "source": []
  },
  {
   "cell_type": "markdown",
   "metadata": {},
   "source": [
    "### 401"
   ]
  },
  {
   "cell_type": "code",
   "execution_count": 232,
   "metadata": {},
   "outputs": [
    {
     "name": "stderr",
     "output_type": "stream",
     "text": [
      "duplicated sequences:\n"
     ]
    },
    {
     "name": "stdout",
     "output_type": "stream",
     "text": [
      "character(0)\n"
     ]
    },
    {
     "name": "stderr",
     "output_type": "stream",
     "text": [
      "my files:\n"
     ]
    },
    {
     "name": "stdout",
     "output_type": "stream",
     "text": [
      "[1] \"batchFFPE/ds_batchFFPE/CLONES_TRBCHP_401-FFPE-DNA_S1_2000000.txt\"\n",
      "[2] \"batch7_cfDNA/CLONES_TRBCHP_401-01_cfDNA_2000000.txt\"             \n"
     ]
    },
    {
     "name": "stderr",
     "output_type": "stream",
     "text": [
      "Total recovered clonotypes:\n"
     ]
    },
    {
     "name": "stdout",
     "output_type": "stream",
     "text": [
      "[1] 10\n"
     ]
    },
    {
     "name": "stderr",
     "output_type": "stream",
     "text": [
      "Total out-of-frame clonotypes:\n"
     ]
    },
    {
     "name": "stdout",
     "output_type": "stream",
     "text": [
      "[1] 0\n"
     ]
    },
    {
     "name": "stderr",
     "output_type": "stream",
     "text": [
      "Total clonotypes with stop codon:\n"
     ]
    },
    {
     "name": "stdout",
     "output_type": "stream",
     "text": [
      "[1] 0\n"
     ]
    },
    {
     "name": "stderr",
     "output_type": "stream",
     "text": [
      "Total productive clonotypes:\n"
     ]
    },
    {
     "name": "stdout",
     "output_type": "stream",
     "text": [
      "[1] 10\n"
     ]
    },
    {
     "name": "stderr",
     "output_type": "stream",
     "text": [
      "Output contains all clonotypes\n"
     ]
    }
   ],
   "source": [
    "ffpefile <- ds_flelst_chp_ffpe[grepl(\"401\", ds_flelst_chp_ffpe)]\n",
    "cfdnafiles <- ds_flelst_chp_cfDNA[grepl(\"401\", ds_flelst_chp_cfDNA)]\n",
    "tmp <- c(ffpefile, cfdnafiles)\n",
    "    \n",
    "cdr3df <- cdr3_dataframe.fx(datapath, \"TRB\", tmp, \"total\")\n",
    "cdr3df$samplename <- gsub(\"_2000000.txt\", \"\", cdr3df$samplename)\n",
    "cdr3df$samplename <- gsub(\"-DNA_S1\", \"\", cdr3df$samplename)\n",
    "cdr3df$samplename <- gsub(\"TRB\", \"\", cdr3df$samplename)"
   ]
  },
  {
   "cell_type": "code",
   "execution_count": 233,
   "metadata": {},
   "outputs": [
    {
     "data": {
      "text/html": [
       "<ol class=list-inline>\n",
       "\t<li>'CHP_401-FFPE'</li>\n",
       "\t<li>'CHP_401-01_cfDNA'</li>\n",
       "</ol>\n"
      ],
      "text/latex": [
       "\\begin{enumerate*}\n",
       "\\item 'CHP\\_401-FFPE'\n",
       "\\item 'CHP\\_401-01\\_cfDNA'\n",
       "\\end{enumerate*}\n"
      ],
      "text/markdown": [
       "1. 'CHP_401-FFPE'\n",
       "2. 'CHP_401-01_cfDNA'\n",
       "\n",
       "\n"
      ],
      "text/plain": [
       "[1] \"CHP_401-FFPE\"     \"CHP_401-01_cfDNA\""
      ]
     },
     "metadata": {},
     "output_type": "display_data"
    }
   ],
   "source": [
    "unique(cdr3df$samplename)"
   ]
  },
  {
   "cell_type": "code",
   "execution_count": 234,
   "metadata": {},
   "outputs": [
    {
     "name": "stderr",
     "output_type": "stream",
     "text": [
      "list of samples to track clones: \n"
     ]
    },
    {
     "name": "stdout",
     "output_type": "stream",
     "text": [
      "[1] CHP_401-FFPE     CHP_401-01_cfDNA\n",
      "Levels: CHP_401-FFPE CHP_401-01_cfDNA\n"
     ]
    },
    {
     "name": "stderr",
     "output_type": "stream",
     "text": [
      "Total number of recurring clonotypes: \n"
     ]
    },
    {
     "name": "stdout",
     "output_type": "stream",
     "text": [
      "[1] 0\n"
     ]
    },
    {
     "name": "stderr",
     "output_type": "stream",
     "text": [
      "these are what we color: \n"
     ]
    },
    {
     "name": "stdout",
     "output_type": "stream",
     "text": [
      "named character(0)\n"
     ]
    },
    {
     "data": {
      "text/html": [
       "<strong>pdf:</strong> 2"
      ],
      "text/latex": [
       "\\textbf{pdf:} 2"
      ],
      "text/markdown": [
       "**pdf:** 2"
      ],
      "text/plain": [
       "pdf \n",
       "  2 "
      ]
     },
     "metadata": {},
     "output_type": "display_data"
    }
   ],
   "source": [
    "cdr3df$samplename <- factor(cdr3df$samplename, levels = c(\"CHP_401-FFPE\", \"CHP_401-01_cfDNA\"))\n",
    "\n",
    "plot_clonetracks.fx(cdr3df, plotpath, \"TRB\", \"cloneCount\", 0)"
   ]
  },
  {
   "cell_type": "code",
   "execution_count": null,
   "metadata": {},
   "outputs": [],
   "source": []
  },
  {
   "cell_type": "markdown",
   "metadata": {},
   "source": [
    "### 380"
   ]
  },
  {
   "cell_type": "code",
   "execution_count": 235,
   "metadata": {},
   "outputs": [
    {
     "name": "stderr",
     "output_type": "stream",
     "text": [
      "duplicated sequences:\n"
     ]
    },
    {
     "name": "stdout",
     "output_type": "stream",
     "text": [
      "[1] \"CASSPSFTDTQYF\"\n"
     ]
    },
    {
     "name": "stderr",
     "output_type": "stream",
     "text": [
      "my files:\n"
     ]
    },
    {
     "name": "stdout",
     "output_type": "stream",
     "text": [
      "[1] \"batchFFPE/ds_batchFFPE/CLONES_TRBCHP_380-FFPE-DNA_S1_2000000.txt\"\n",
      "[2] \"batch5_cfDNA/CLONES_TRBCHP_380-01_cfDNA_2000000.txt\"             \n"
     ]
    },
    {
     "name": "stderr",
     "output_type": "stream",
     "text": [
      "Total recovered clonotypes:\n"
     ]
    },
    {
     "name": "stdout",
     "output_type": "stream",
     "text": [
      "[1] 207\n"
     ]
    },
    {
     "name": "stderr",
     "output_type": "stream",
     "text": [
      "Total out-of-frame clonotypes:\n"
     ]
    },
    {
     "name": "stdout",
     "output_type": "stream",
     "text": [
      "[1] 41\n"
     ]
    },
    {
     "name": "stderr",
     "output_type": "stream",
     "text": [
      "Total clonotypes with stop codon:\n"
     ]
    },
    {
     "name": "stdout",
     "output_type": "stream",
     "text": [
      "[1] 5\n"
     ]
    },
    {
     "name": "stderr",
     "output_type": "stream",
     "text": [
      "Total productive clonotypes:\n"
     ]
    },
    {
     "name": "stdout",
     "output_type": "stream",
     "text": [
      "[1] 161\n"
     ]
    },
    {
     "name": "stderr",
     "output_type": "stream",
     "text": [
      "Output contains all clonotypes\n"
     ]
    }
   ],
   "source": [
    "ffpefile <- ds_flelst_chp_ffpe[grepl(\"380\", ds_flelst_chp_ffpe)]\n",
    "cfdnafiles <- ds_flelst_chp_cfDNA[grepl(\"380\", ds_flelst_chp_cfDNA)]\n",
    "tmp <- c(ffpefile, cfdnafiles)\n",
    "    \n",
    "cdr3df <- cdr3_dataframe.fx(datapath, \"TRB\", tmp, \"total\")\n",
    "cdr3df$samplename <- gsub(\"_2000000.txt\", \"\", cdr3df$samplename)\n",
    "cdr3df$samplename <- gsub(\"-DNA_S1\", \"\", cdr3df$samplename)\n",
    "cdr3df$samplename <- gsub(\"TRB\", \"\", cdr3df$samplename)"
   ]
  },
  {
   "cell_type": "code",
   "execution_count": 236,
   "metadata": {},
   "outputs": [
    {
     "data": {
      "text/html": [
       "<ol class=list-inline>\n",
       "\t<li>'CHP_380-FFPE'</li>\n",
       "\t<li>'CHP_380-01_cfDNA'</li>\n",
       "</ol>\n"
      ],
      "text/latex": [
       "\\begin{enumerate*}\n",
       "\\item 'CHP\\_380-FFPE'\n",
       "\\item 'CHP\\_380-01\\_cfDNA'\n",
       "\\end{enumerate*}\n"
      ],
      "text/markdown": [
       "1. 'CHP_380-FFPE'\n",
       "2. 'CHP_380-01_cfDNA'\n",
       "\n",
       "\n"
      ],
      "text/plain": [
       "[1] \"CHP_380-FFPE\"     \"CHP_380-01_cfDNA\""
      ]
     },
     "metadata": {},
     "output_type": "display_data"
    }
   ],
   "source": [
    "unique(cdr3df$samplename)"
   ]
  },
  {
   "cell_type": "code",
   "execution_count": 237,
   "metadata": {},
   "outputs": [
    {
     "name": "stderr",
     "output_type": "stream",
     "text": [
      "list of samples to track clones: \n"
     ]
    },
    {
     "name": "stdout",
     "output_type": "stream",
     "text": [
      "[1] CHP_380-FFPE     CHP_380-01_cfDNA\n",
      "Levels: CHP_380-FFPE CHP_380-01_cfDNA\n"
     ]
    },
    {
     "name": "stderr",
     "output_type": "stream",
     "text": [
      "Total number of recurring clonotypes: \n"
     ]
    },
    {
     "name": "stdout",
     "output_type": "stream",
     "text": [
      "[1] 0\n"
     ]
    },
    {
     "name": "stderr",
     "output_type": "stream",
     "text": [
      "these are what we color: \n"
     ]
    },
    {
     "name": "stdout",
     "output_type": "stream",
     "text": [
      "named character(0)\n"
     ]
    },
    {
     "data": {
      "text/html": [
       "<strong>pdf:</strong> 2"
      ],
      "text/latex": [
       "\\textbf{pdf:} 2"
      ],
      "text/markdown": [
       "**pdf:** 2"
      ],
      "text/plain": [
       "pdf \n",
       "  2 "
      ]
     },
     "metadata": {},
     "output_type": "display_data"
    }
   ],
   "source": [
    "cdr3df$samplename <- factor(cdr3df$samplename, levels = c(\"CHP_380-FFPE\", \"CHP_380-01_cfDNA\"))\n",
    "\n",
    "plot_clonetracks.fx(cdr3df, plotpath, \"TRB\", \"cloneCount\", 0)"
   ]
  },
  {
   "cell_type": "code",
   "execution_count": null,
   "metadata": {},
   "outputs": [],
   "source": []
  },
  {
   "cell_type": "code",
   "execution_count": null,
   "metadata": {},
   "outputs": [],
   "source": []
  },
  {
   "cell_type": "code",
   "execution_count": null,
   "metadata": {},
   "outputs": [],
   "source": []
  }
 ],
 "metadata": {
  "kernelspec": {
   "display_name": "R",
   "language": "R",
   "name": "ir"
  },
  "language_info": {
   "codemirror_mode": "r",
   "file_extension": ".r",
   "mimetype": "text/x-r-source",
   "name": "R",
   "pygments_lexer": "r",
   "version": "3.5.1"
  },
  "toc": {
   "base_numbering": 1,
   "nav_menu": {},
   "number_sections": false,
   "sideBar": true,
   "skip_h1_title": false,
   "title_cell": "Table of Contents",
   "title_sidebar": "Contents",
   "toc_cell": true,
   "toc_position": {
    "height": "calc(100% - 180px)",
    "left": "10px",
    "top": "150px",
    "width": "217.344px"
   },
   "toc_section_display": true,
   "toc_window_display": true
  }
 },
 "nbformat": 4,
 "nbformat_minor": 2
}
