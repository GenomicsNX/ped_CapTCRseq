{
 "cells": [
  {
   "cell_type": "markdown",
   "metadata": {
    "toc": true
   },
   "source": [
    "<h1>Table of Contents<span class=\"tocSkip\"></span></h1>\n",
    "<div class=\"toc\"><ul class=\"toc-item\"><li><span><a href=\"#Dependencies\" data-toc-modified-id=\"Dependencies-1\">Dependencies</a></span></li><li><span><a href=\"#Functions\" data-toc-modified-id=\"Functions-2\">Functions</a></span></li><li><span><a href=\"#Paths\" data-toc-modified-id=\"Paths-3\">Paths</a></span></li><li><span><a href=\"#Main\" data-toc-modified-id=\"Main-4\">Main</a></span></li><li><span><a href=\"#CapTCR-seq\" data-toc-modified-id=\"CapTCR-seq-5\">CapTCR-seq</a></span><ul class=\"toc-item\"><li><span><a href=\"#Track-Jurkat-clone\" data-toc-modified-id=\"Track-Jurkat-clone-5.1\">Track Jurkat clone</a></span></li><li><span><a href=\"#Plot-Diversity-measures\" data-toc-modified-id=\"Plot-Diversity-measures-5.2\">Plot Diversity measures</a></span></li></ul></li><li><span><a href=\"#Adaptive\" data-toc-modified-id=\"Adaptive-6\">Adaptive</a></span><ul class=\"toc-item\"><li><span><a href=\"#Track-Jurkat-clone\" data-toc-modified-id=\"Track-Jurkat-clone-6.1\">Track Jurkat clone</a></span></li><li><span><a href=\"#Plot-diversity-measures\" data-toc-modified-id=\"Plot-diversity-measures-6.2\">Plot diversity measures</a></span></li></ul></li></ul></div>"
   ]
  },
  {
   "cell_type": "markdown",
   "metadata": {},
   "source": [
    "# Dependencies"
   ]
  },
  {
   "cell_type": "markdown",
   "metadata": {},
   "source": [
    "# Functions"
   ]
  },
  {
   "cell_type": "code",
   "execution_count": 1,
   "metadata": {
    "scrolled": true
   },
   "outputs": [
    {
     "name": "stderr",
     "output_type": "stream",
     "text": [
      "Loading required package: ggalluvial\n",
      "\n"
     ]
    }
   ],
   "source": [
    "source(\"/Users/anabbi/git/ped_CapTCRseq/R/Immune_diversity.R\")\n",
    "source(\"/Users/anabbi/git/ped_CapTCRseq/R/clonetrack.R\")\n",
    "source(\"/Users/anabbi/git/ped_CapTCRseq/R/ggplot2_theme.R\")"
   ]
  },
  {
   "cell_type": "code",
   "execution_count": 2,
   "metadata": {},
   "outputs": [],
   "source": [
    "addjurkat.fx <- function(f1, Jurkat, percincrement, outpath){\n",
    "    jurkatclone <- Jurkat[1,]\n",
    "    print(summary(f1$cloneCount))\n",
    "    print(sum(f1$cloneCount))\n",
    "    increment <- sum(f1$cloneCount) * percincrement\n",
    "    myseq <- seq(0, sum(f1$cloneCount), increment)\n",
    "\n",
    "    #get random rows\n",
    "    set.seed(777)\n",
    "    samprows <- sample(1:nrow(f1))     \n",
    "    for(i in myseq[myseq != 0]){\n",
    "        message(i)\n",
    "        jurkatclone$cloneCount <- i\n",
    "        myperc <- i / sum(f1$cloneCount)\n",
    "        # random rows that cumsum is close to i\n",
    "        removerows <- samprows[which(cumsum(f1[samprows, \"cloneCount\"]) <= i)] \n",
    "        print(sum(f1$cloneCount[removerows]))\n",
    "        # bind jurkat clone to f1\n",
    "        mycloneset <- rbind(f1[-removerows,], jurkatclone)\n",
    "        #recalculate clonefraction\n",
    "        mycloneset$cloneFraction <- mycloneset$cloneCount/sum(mycloneset$cloneCount)\n",
    "        write.table(mycloneset, file = paste0(outpath, \"CLONES_TRBaddjurkat_\", i,\"_\",myperc, \".txt\"), quote = F, sep = \"\\t\")   \n",
    "    }\n",
    "}"
   ]
  },
  {
   "cell_type": "code",
   "execution_count": 3,
   "metadata": {},
   "outputs": [],
   "source": [
    "track_Aclone.fx <- function(compldfle, plotpath, countfrac, clnefrc, clnseq){\n",
    "\n",
    "  message(\"list of samples to track clones: \")\n",
    "  mysamples <- unique(compldfle$samplename)\n",
    "  print(mysamples)\n",
    "\n",
    "  # Subset df\n",
    "  CDR3_fraction <- compldfle[, c(\"samplename\",\"nSeqCDR3\",\"cloneFraction\", \"cloneCount\")]\n",
    "\n",
    "  # Subset to include only clonotypes with more than specified clonal fraction\n",
    "  CDR3_fraction <- CDR3_fraction[CDR3_fraction$cloneFraction > clnefrc,]\n",
    "\n",
    "  #Assign colors to the specific clone\n",
    "  myclone <- clnseq\n",
    "  notrecurring <- CDR3_fraction$nSeqCDR3[!CDR3_fraction$nSeqCDR3 %in% myclone]\n",
    "\n",
    "    cloneColor <- distinctColorPalette(length(myclone))\n",
    "    myColors <- c(cloneColor, rep(\"white\",length(notrecurring)))\n",
    "    names(myColors) <- c(myclone, notrecurring)\n",
    "\n",
    "  # Generate a row for each sample that doesnot have jurkat clonotype\n",
    "  ## This ensures alluvia are colored\n",
    "\n",
    "    tmp <- CDR3_fraction[CDR3_fraction$nSeqCDR3 == myclone,]\n",
    "    nonexisting <- mysamples[!mysamples %in% tmp$samplename]\n",
    "    if(length(nonexisting) > 0){\n",
    "      newentries <- data.frame(\"samplename\" = nonexisting, \"nSeqCDR3\" = myclone,\n",
    "                               \"cloneFraction\" = 0, \"cloneCount\" = 0)\n",
    "      CDR3_fraction <- rbind(CDR3_fraction, newentries)\n",
    "    }\n",
    "  \n",
    "  p <-  ggplot(CDR3_fraction, aes(x = samplename,\n",
    "                                  y = eval(as.name(countfrac)),\n",
    "                                  fill = nSeqCDR3,\n",
    "                                  stratum = nSeqCDR3,\n",
    "                                  alluvium = nSeqCDR3,\n",
    "                                  label = nSeqCDR3))\n",
    "\n",
    "  myp <- p + geom_alluvium(decreasing = FALSE) +\n",
    "    geom_stratum(decreasing = FALSE, stat = \"alluvium\") +\n",
    "    scale_fill_manual(breaks = names(myColors[myColors != \"white\"]),\n",
    "                      values = myColors) +\n",
    "    theme(axis.title.y = element_text(size = 50),\n",
    "          axis.title.x = element_blank(),\n",
    "          axis.line = element_line(color = \"black\"),\n",
    "          axis.text = element_text(size = 50),\n",
    "          axis.text.x = element_text(angle = 45, hjust = 1)) +\n",
    "    theme(panel.grid.major = element_blank(),\n",
    "          panel.grid.minor = element_blank(),\n",
    "          panel.background = element_rect(fill = \"transparent\",colour = NA),\n",
    "          legend.key = element_rect(fill = \"white\", colour = \"white\"),\n",
    "          legend.position = \"none\",\n",
    "          plot.margin = unit(c(0.2,0,0,0),\"cm\")) +\n",
    "    labs(y = countfrac)\n",
    "\n",
    "  pdf(paste0(plotpath, \"trackAclone_\", mysamples[1], countfrac, \".pdf\"),\n",
    "      width = 30,\n",
    "      height = 20,\n",
    "      useDingbats = FALSE,\n",
    "      onefile = FALSE)\n",
    "  print(myp)\n",
    "  dev.off()\n",
    "\n",
    "}"
   ]
  },
  {
   "cell_type": "markdown",
   "metadata": {},
   "source": [
    "# Paths"
   ]
  },
  {
   "cell_type": "code",
   "execution_count": 4,
   "metadata": {},
   "outputs": [],
   "source": [
    "datapath <- \"/Users/anabbi/OneDrive - UHN/Documents/INTERCEPT/Data/\"\n",
    "plotpath <- \"/Users/anabbi/OneDrive - UHN/Documents/INTERCEPT/Plots/\"\n",
    "manifestpath <- \"/Users/anabbi/OneDrive - UHN/Documents/INTERCEPT/Manifests/\"\n",
    "gitpath <- \"/Users/anabbi/git/ped_CapTCRseq/\""
   ]
  },
  {
   "cell_type": "markdown",
   "metadata": {},
   "source": [
    "# Main"
   ]
  },
  {
   "cell_type": "markdown",
   "metadata": {},
   "source": [
    "# CapTCR-seq"
   ]
  },
  {
   "cell_type": "code",
   "execution_count": 5,
   "metadata": {},
   "outputs": [],
   "source": [
    "pbmc <- read.table(paste0(datapath, \"capTCRseq/testdataset/CLONES_TRBA037.txt\"), sep = \"\\t\",\n",
    "                   header = T, stringsAsFactors = F)"
   ]
  },
  {
   "cell_type": "code",
   "execution_count": 6,
   "metadata": {},
   "outputs": [],
   "source": [
    "pbmc <- pbmc[!grepl(\"[*]\",pbmc$aaSeqCDR3), ]\n",
    "pbmc <- pbmc[!grepl(\"_\",pbmc$aaSeqCDR3), ]"
   ]
  },
  {
   "cell_type": "code",
   "execution_count": 7,
   "metadata": {},
   "outputs": [],
   "source": [
    "jurkat <- read.table(paste0(datapath, \"capTCRseq/testdataset/CLONES_TRBJurkat.txt\"), sep = \"\\t\",\n",
    "                   header = T, stringsAsFactors = F)"
   ]
  },
  {
   "cell_type": "code",
   "execution_count": 8,
   "metadata": {
    "scrolled": true
   },
   "outputs": [
    {
     "name": "stdout",
     "output_type": "stream",
     "text": [
      "   Min. 1st Qu.  Median    Mean 3rd Qu.    Max. \n",
      "  1.000   1.000   2.000   2.244   3.000   7.000 \n",
      "[1] 451\n"
     ]
    },
    {
     "name": "stderr",
     "output_type": "stream",
     "text": [
      "22.55\n",
      "\n"
     ]
    },
    {
     "name": "stdout",
     "output_type": "stream",
     "text": [
      "[1] 22\n"
     ]
    },
    {
     "name": "stderr",
     "output_type": "stream",
     "text": [
      "45.1\n",
      "\n"
     ]
    },
    {
     "name": "stdout",
     "output_type": "stream",
     "text": [
      "[1] 42\n"
     ]
    },
    {
     "name": "stderr",
     "output_type": "stream",
     "text": [
      "67.65\n",
      "\n"
     ]
    },
    {
     "name": "stdout",
     "output_type": "stream",
     "text": [
      "[1] 66\n"
     ]
    },
    {
     "name": "stderr",
     "output_type": "stream",
     "text": [
      "90.2\n",
      "\n"
     ]
    },
    {
     "name": "stdout",
     "output_type": "stream",
     "text": [
      "[1] 90\n"
     ]
    },
    {
     "name": "stderr",
     "output_type": "stream",
     "text": [
      "112.75\n",
      "\n"
     ]
    },
    {
     "name": "stdout",
     "output_type": "stream",
     "text": [
      "[1] 111\n"
     ]
    },
    {
     "name": "stderr",
     "output_type": "stream",
     "text": [
      "135.3\n",
      "\n"
     ]
    },
    {
     "name": "stdout",
     "output_type": "stream",
     "text": [
      "[1] 133\n"
     ]
    },
    {
     "name": "stderr",
     "output_type": "stream",
     "text": [
      "157.85\n",
      "\n"
     ]
    },
    {
     "name": "stdout",
     "output_type": "stream",
     "text": [
      "[1] 157\n"
     ]
    },
    {
     "name": "stderr",
     "output_type": "stream",
     "text": [
      "180.4\n",
      "\n"
     ]
    },
    {
     "name": "stdout",
     "output_type": "stream",
     "text": [
      "[1] 180\n"
     ]
    },
    {
     "name": "stderr",
     "output_type": "stream",
     "text": [
      "202.95\n",
      "\n"
     ]
    },
    {
     "name": "stdout",
     "output_type": "stream",
     "text": [
      "[1] 202\n"
     ]
    },
    {
     "name": "stderr",
     "output_type": "stream",
     "text": [
      "225.5\n",
      "\n"
     ]
    },
    {
     "name": "stdout",
     "output_type": "stream",
     "text": [
      "[1] 225\n"
     ]
    },
    {
     "name": "stderr",
     "output_type": "stream",
     "text": [
      "248.05\n",
      "\n"
     ]
    },
    {
     "name": "stdout",
     "output_type": "stream",
     "text": [
      "[1] 247\n"
     ]
    },
    {
     "name": "stderr",
     "output_type": "stream",
     "text": [
      "270.6\n",
      "\n"
     ]
    },
    {
     "name": "stdout",
     "output_type": "stream",
     "text": [
      "[1] 268\n"
     ]
    },
    {
     "name": "stderr",
     "output_type": "stream",
     "text": [
      "293.15\n",
      "\n"
     ]
    },
    {
     "name": "stdout",
     "output_type": "stream",
     "text": [
      "[1] 293\n"
     ]
    },
    {
     "name": "stderr",
     "output_type": "stream",
     "text": [
      "315.7\n",
      "\n"
     ]
    },
    {
     "name": "stdout",
     "output_type": "stream",
     "text": [
      "[1] 314\n"
     ]
    },
    {
     "name": "stderr",
     "output_type": "stream",
     "text": [
      "338.25\n",
      "\n"
     ]
    },
    {
     "name": "stdout",
     "output_type": "stream",
     "text": [
      "[1] 338\n"
     ]
    },
    {
     "name": "stderr",
     "output_type": "stream",
     "text": [
      "360.8\n",
      "\n"
     ]
    },
    {
     "name": "stdout",
     "output_type": "stream",
     "text": [
      "[1] 360\n"
     ]
    },
    {
     "name": "stderr",
     "output_type": "stream",
     "text": [
      "383.35\n",
      "\n"
     ]
    },
    {
     "name": "stdout",
     "output_type": "stream",
     "text": [
      "[1] 381\n"
     ]
    },
    {
     "name": "stderr",
     "output_type": "stream",
     "text": [
      "405.9\n",
      "\n"
     ]
    },
    {
     "name": "stdout",
     "output_type": "stream",
     "text": [
      "[1] 403\n"
     ]
    },
    {
     "name": "stderr",
     "output_type": "stream",
     "text": [
      "428.45\n",
      "\n"
     ]
    },
    {
     "name": "stdout",
     "output_type": "stream",
     "text": [
      "[1] 427\n"
     ]
    },
    {
     "name": "stderr",
     "output_type": "stream",
     "text": [
      "451\n",
      "\n"
     ]
    },
    {
     "name": "stdout",
     "output_type": "stream",
     "text": [
      "[1] 451\n"
     ]
    }
   ],
   "source": [
    "addjurkat.fx(pbmc, jurkat, 0.05, \"/Users/anabbi/OneDrive - UHN/Documents/INTERCEPT/Data/capTCRseq/testdataset/\")"
   ]
  },
  {
   "cell_type": "code",
   "execution_count": 9,
   "metadata": {},
   "outputs": [],
   "source": [
    "file_list <- list.files(paste0(datapath, \"capTCRseq/testdataset/\"), pattern = \"addjurkat\", recursive = T)"
   ]
  },
  {
   "cell_type": "code",
   "execution_count": 10,
   "metadata": {},
   "outputs": [],
   "source": [
    "file_list <- c(file_list, \"CLONES_TRBA037.txt\")"
   ]
  },
  {
   "cell_type": "code",
   "execution_count": 11,
   "metadata": {},
   "outputs": [],
   "source": [
    "file_list <- file_list[!grepl(\"csv\", file_list)]"
   ]
  },
  {
   "cell_type": "code",
   "execution_count": 12,
   "metadata": {},
   "outputs": [
    {
     "name": "stderr",
     "output_type": "stream",
     "text": [
      "number of clones in file:CLONES_TRBaddjurkat_112.75_0.25.txt\n",
      "\n"
     ]
    },
    {
     "name": "stdout",
     "output_type": "stream",
     "text": [
      "[1] 159\n"
     ]
    },
    {
     "name": "stderr",
     "output_type": "stream",
     "text": [
      "number of non prodcutive CDR3s:\n",
      "\n"
     ]
    },
    {
     "name": "stdout",
     "output_type": "stream",
     "text": [
      "[1] 0\n"
     ]
    },
    {
     "name": "stderr",
     "output_type": "stream",
     "text": [
      "nonproductive aaCDR3 removed\n",
      "\n",
      "number of clones in file:CLONES_TRBaddjurkat_135.3_0.3.txt\n",
      "\n"
     ]
    },
    {
     "name": "stdout",
     "output_type": "stream",
     "text": [
      "[1] 149\n"
     ]
    },
    {
     "name": "stderr",
     "output_type": "stream",
     "text": [
      "number of non prodcutive CDR3s:\n",
      "\n"
     ]
    },
    {
     "name": "stdout",
     "output_type": "stream",
     "text": [
      "[1] 0\n"
     ]
    },
    {
     "name": "stderr",
     "output_type": "stream",
     "text": [
      "nonproductive aaCDR3 removed\n",
      "\n",
      "number of clones in file:CLONES_TRBaddjurkat_157.85_0.35.txt\n",
      "\n"
     ]
    },
    {
     "name": "stdout",
     "output_type": "stream",
     "text": [
      "[1] 139\n"
     ]
    },
    {
     "name": "stderr",
     "output_type": "stream",
     "text": [
      "number of non prodcutive CDR3s:\n",
      "\n"
     ]
    },
    {
     "name": "stdout",
     "output_type": "stream",
     "text": [
      "[1] 0\n"
     ]
    },
    {
     "name": "stderr",
     "output_type": "stream",
     "text": [
      "nonproductive aaCDR3 removed\n",
      "\n",
      "number of clones in file:CLONES_TRBaddjurkat_180.4_0.4.txt\n",
      "\n"
     ]
    },
    {
     "name": "stdout",
     "output_type": "stream",
     "text": [
      "[1] 126\n"
     ]
    },
    {
     "name": "stderr",
     "output_type": "stream",
     "text": [
      "number of non prodcutive CDR3s:\n",
      "\n"
     ]
    },
    {
     "name": "stdout",
     "output_type": "stream",
     "text": [
      "[1] 0\n"
     ]
    },
    {
     "name": "stderr",
     "output_type": "stream",
     "text": [
      "nonproductive aaCDR3 removed\n",
      "\n",
      "number of clones in file:CLONES_TRBaddjurkat_202.95_0.45.txt\n",
      "\n"
     ]
    },
    {
     "name": "stdout",
     "output_type": "stream",
     "text": [
      "[1] 116\n"
     ]
    },
    {
     "name": "stderr",
     "output_type": "stream",
     "text": [
      "number of non prodcutive CDR3s:\n",
      "\n"
     ]
    },
    {
     "name": "stdout",
     "output_type": "stream",
     "text": [
      "[1] 0\n"
     ]
    },
    {
     "name": "stderr",
     "output_type": "stream",
     "text": [
      "nonproductive aaCDR3 removed\n",
      "\n",
      "number of clones in file:CLONES_TRBaddjurkat_22.55_0.05.txt\n",
      "\n"
     ]
    },
    {
     "name": "stdout",
     "output_type": "stream",
     "text": [
      "[1] 195\n"
     ]
    },
    {
     "name": "stderr",
     "output_type": "stream",
     "text": [
      "number of non prodcutive CDR3s:\n",
      "\n"
     ]
    },
    {
     "name": "stdout",
     "output_type": "stream",
     "text": [
      "[1] 0\n"
     ]
    },
    {
     "name": "stderr",
     "output_type": "stream",
     "text": [
      "nonproductive aaCDR3 removed\n",
      "\n",
      "number of clones in file:CLONES_TRBaddjurkat_225.5_0.5.txt\n",
      "\n"
     ]
    },
    {
     "name": "stdout",
     "output_type": "stream",
     "text": [
      "[1] 106\n"
     ]
    },
    {
     "name": "stderr",
     "output_type": "stream",
     "text": [
      "number of non prodcutive CDR3s:\n",
      "\n"
     ]
    },
    {
     "name": "stdout",
     "output_type": "stream",
     "text": [
      "[1] 0\n"
     ]
    },
    {
     "name": "stderr",
     "output_type": "stream",
     "text": [
      "nonproductive aaCDR3 removed\n",
      "\n",
      "number of clones in file:CLONES_TRBaddjurkat_248.05_0.55.txt\n",
      "\n"
     ]
    },
    {
     "name": "stdout",
     "output_type": "stream",
     "text": [
      "[1] 98\n"
     ]
    },
    {
     "name": "stderr",
     "output_type": "stream",
     "text": [
      "number of non prodcutive CDR3s:\n",
      "\n"
     ]
    },
    {
     "name": "stdout",
     "output_type": "stream",
     "text": [
      "[1] 0\n"
     ]
    },
    {
     "name": "stderr",
     "output_type": "stream",
     "text": [
      "nonproductive aaCDR3 removed\n",
      "\n",
      "number of clones in file:CLONES_TRBaddjurkat_270.6_0.6.txt\n",
      "\n"
     ]
    },
    {
     "name": "stdout",
     "output_type": "stream",
     "text": [
      "[1] 91\n"
     ]
    },
    {
     "name": "stderr",
     "output_type": "stream",
     "text": [
      "number of non prodcutive CDR3s:\n",
      "\n"
     ]
    },
    {
     "name": "stdout",
     "output_type": "stream",
     "text": [
      "[1] 0\n"
     ]
    },
    {
     "name": "stderr",
     "output_type": "stream",
     "text": [
      "nonproductive aaCDR3 removed\n",
      "\n",
      "number of clones in file:CLONES_TRBaddjurkat_293.15_0.65.txt\n",
      "\n"
     ]
    },
    {
     "name": "stdout",
     "output_type": "stream",
     "text": [
      "[1] 78\n"
     ]
    },
    {
     "name": "stderr",
     "output_type": "stream",
     "text": [
      "number of non prodcutive CDR3s:\n",
      "\n"
     ]
    },
    {
     "name": "stdout",
     "output_type": "stream",
     "text": [
      "[1] 0\n"
     ]
    },
    {
     "name": "stderr",
     "output_type": "stream",
     "text": [
      "nonproductive aaCDR3 removed\n",
      "\n",
      "number of clones in file:CLONES_TRBaddjurkat_315.7_0.7.txt\n",
      "\n"
     ]
    },
    {
     "name": "stdout",
     "output_type": "stream",
     "text": [
      "[1] 70\n"
     ]
    },
    {
     "name": "stderr",
     "output_type": "stream",
     "text": [
      "number of non prodcutive CDR3s:\n",
      "\n"
     ]
    },
    {
     "name": "stdout",
     "output_type": "stream",
     "text": [
      "[1] 0\n"
     ]
    },
    {
     "name": "stderr",
     "output_type": "stream",
     "text": [
      "nonproductive aaCDR3 removed\n",
      "\n",
      "number of clones in file:CLONES_TRBaddjurkat_338.25_0.75.txt\n",
      "\n"
     ]
    },
    {
     "name": "stdout",
     "output_type": "stream",
     "text": [
      "[1] 61\n"
     ]
    },
    {
     "name": "stderr",
     "output_type": "stream",
     "text": [
      "number of non prodcutive CDR3s:\n",
      "\n"
     ]
    },
    {
     "name": "stdout",
     "output_type": "stream",
     "text": [
      "[1] 0\n"
     ]
    },
    {
     "name": "stderr",
     "output_type": "stream",
     "text": [
      "nonproductive aaCDR3 removed\n",
      "\n",
      "number of clones in file:CLONES_TRBaddjurkat_360.8_0.8.txt\n",
      "\n"
     ]
    },
    {
     "name": "stdout",
     "output_type": "stream",
     "text": [
      "[1] 47\n"
     ]
    },
    {
     "name": "stderr",
     "output_type": "stream",
     "text": [
      "number of non prodcutive CDR3s:\n",
      "\n"
     ]
    },
    {
     "name": "stdout",
     "output_type": "stream",
     "text": [
      "[1] 0\n"
     ]
    },
    {
     "name": "stderr",
     "output_type": "stream",
     "text": [
      "nonproductive aaCDR3 removed\n",
      "\n",
      "number of clones in file:CLONES_TRBaddjurkat_383.35_0.85.txt\n",
      "\n"
     ]
    },
    {
     "name": "stdout",
     "output_type": "stream",
     "text": [
      "[1] 39\n"
     ]
    },
    {
     "name": "stderr",
     "output_type": "stream",
     "text": [
      "number of non prodcutive CDR3s:\n",
      "\n"
     ]
    },
    {
     "name": "stdout",
     "output_type": "stream",
     "text": [
      "[1] 0\n"
     ]
    },
    {
     "name": "stderr",
     "output_type": "stream",
     "text": [
      "nonproductive aaCDR3 removed\n",
      "\n",
      "number of clones in file:CLONES_TRBaddjurkat_405.9_0.9.txt\n",
      "\n"
     ]
    },
    {
     "name": "stdout",
     "output_type": "stream",
     "text": [
      "[1] 26\n"
     ]
    },
    {
     "name": "stderr",
     "output_type": "stream",
     "text": [
      "number of non prodcutive CDR3s:\n",
      "\n"
     ]
    },
    {
     "name": "stdout",
     "output_type": "stream",
     "text": [
      "[1] 0\n"
     ]
    },
    {
     "name": "stderr",
     "output_type": "stream",
     "text": [
      "nonproductive aaCDR3 removed\n",
      "\n",
      "number of clones in file:CLONES_TRBaddjurkat_428.45_0.95.txt\n",
      "\n"
     ]
    },
    {
     "name": "stdout",
     "output_type": "stream",
     "text": [
      "[1] 14\n"
     ]
    },
    {
     "name": "stderr",
     "output_type": "stream",
     "text": [
      "number of non prodcutive CDR3s:\n",
      "\n"
     ]
    },
    {
     "name": "stdout",
     "output_type": "stream",
     "text": [
      "[1] 0\n"
     ]
    },
    {
     "name": "stderr",
     "output_type": "stream",
     "text": [
      "nonproductive aaCDR3 removed\n",
      "\n",
      "number of clones in file:CLONES_TRBaddjurkat_45.1_0.1.txt\n",
      "\n"
     ]
    },
    {
     "name": "stdout",
     "output_type": "stream",
     "text": [
      "[1] 188\n"
     ]
    },
    {
     "name": "stderr",
     "output_type": "stream",
     "text": [
      "number of non prodcutive CDR3s:\n",
      "\n"
     ]
    },
    {
     "name": "stdout",
     "output_type": "stream",
     "text": [
      "[1] 0\n"
     ]
    },
    {
     "name": "stderr",
     "output_type": "stream",
     "text": [
      "nonproductive aaCDR3 removed\n",
      "\n",
      "number of clones in file:CLONES_TRBaddjurkat_451_1.txt\n",
      "\n"
     ]
    },
    {
     "name": "stdout",
     "output_type": "stream",
     "text": [
      "[1] 1\n"
     ]
    },
    {
     "name": "stderr",
     "output_type": "stream",
     "text": [
      "number of non prodcutive CDR3s:\n",
      "\n"
     ]
    },
    {
     "name": "stdout",
     "output_type": "stream",
     "text": [
      "[1] 0\n"
     ]
    },
    {
     "name": "stderr",
     "output_type": "stream",
     "text": [
      "nonproductive aaCDR3 removed\n",
      "\n",
      "number of clones in file:CLONES_TRBaddjurkat_67.65_0.15.txt\n",
      "\n"
     ]
    },
    {
     "name": "stdout",
     "output_type": "stream",
     "text": [
      "[1] 178\n"
     ]
    },
    {
     "name": "stderr",
     "output_type": "stream",
     "text": [
      "number of non prodcutive CDR3s:\n",
      "\n"
     ]
    },
    {
     "name": "stdout",
     "output_type": "stream",
     "text": [
      "[1] 0\n"
     ]
    },
    {
     "name": "stderr",
     "output_type": "stream",
     "text": [
      "nonproductive aaCDR3 removed\n",
      "\n",
      "number of clones in file:CLONES_TRBaddjurkat_90.2_0.2.txt\n",
      "\n"
     ]
    },
    {
     "name": "stdout",
     "output_type": "stream",
     "text": [
      "[1] 169\n"
     ]
    },
    {
     "name": "stderr",
     "output_type": "stream",
     "text": [
      "number of non prodcutive CDR3s:\n",
      "\n"
     ]
    },
    {
     "name": "stdout",
     "output_type": "stream",
     "text": [
      "[1] 0\n"
     ]
    },
    {
     "name": "stderr",
     "output_type": "stream",
     "text": [
      "nonproductive aaCDR3 removed\n",
      "\n",
      "number of clones in file:CLONES_TRBA037.txt\n",
      "\n"
     ]
    },
    {
     "name": "stdout",
     "output_type": "stream",
     "text": [
      "[1] 256\n"
     ]
    },
    {
     "name": "stderr",
     "output_type": "stream",
     "text": [
      "number of non prodcutive CDR3s:\n",
      "\n"
     ]
    },
    {
     "name": "stdout",
     "output_type": "stream",
     "text": [
      "[1] 55\n"
     ]
    },
    {
     "name": "stderr",
     "output_type": "stream",
     "text": [
      "nonproductive aaCDR3 removed\n",
      "\n"
     ]
    }
   ],
   "source": [
    "batch <- immunelistfx(file_list, paste0(datapath, \"capTCRseq/testdataset/\"), \"TRB\")"
   ]
  },
  {
   "cell_type": "code",
   "execution_count": 13,
   "metadata": {},
   "outputs": [
    {
     "name": "stderr",
     "output_type": "stream",
     "text": [
      "Warning message in BootstrapFun.abun(x = x, FunName, datatype, B):\n",
      "“The Bootstrap community has only one species. Estimation is not robust.”\n",
      "Warning message in max(x[-1] > 1):\n",
      "“no non-missing arguments to max; returning -Inf”\n",
      "Warning message in BootstrapFun.abun(x = x, FunName, datatype, B):\n",
      "“The Bootstrap community has only one species. Estimation is not robust.”\n"
     ]
    }
   ],
   "source": [
    "Divstats.fx(batch, \"TRB\", \"addjurkat\" , paste0(datapath, \"capTCRseq/testdataset/\"))"
   ]
  },
  {
   "cell_type": "markdown",
   "metadata": {},
   "source": [
    "## Track Jurkat clone"
   ]
  },
  {
   "cell_type": "code",
   "execution_count": 14,
   "metadata": {
    "scrolled": true
   },
   "outputs": [
    {
     "name": "stderr",
     "output_type": "stream",
     "text": [
      "my files:\n",
      "\n"
     ]
    },
    {
     "name": "stdout",
     "output_type": "stream",
     "text": [
      " [1] \"CLONES_TRBaddjurkat_112.75_0.25.txt\" \"CLONES_TRBaddjurkat_135.3_0.3.txt\"  \n",
      " [3] \"CLONES_TRBaddjurkat_157.85_0.35.txt\" \"CLONES_TRBaddjurkat_180.4_0.4.txt\"  \n",
      " [5] \"CLONES_TRBaddjurkat_202.95_0.45.txt\" \"CLONES_TRBaddjurkat_22.55_0.05.txt\" \n",
      " [7] \"CLONES_TRBaddjurkat_225.5_0.5.txt\"   \"CLONES_TRBaddjurkat_248.05_0.55.txt\"\n",
      " [9] \"CLONES_TRBaddjurkat_270.6_0.6.txt\"   \"CLONES_TRBaddjurkat_293.15_0.65.txt\"\n",
      "[11] \"CLONES_TRBaddjurkat_315.7_0.7.txt\"   \"CLONES_TRBaddjurkat_338.25_0.75.txt\"\n",
      "[13] \"CLONES_TRBaddjurkat_360.8_0.8.txt\"   \"CLONES_TRBaddjurkat_383.35_0.85.txt\"\n",
      "[15] \"CLONES_TRBaddjurkat_405.9_0.9.txt\"   \"CLONES_TRBaddjurkat_428.45_0.95.txt\"\n",
      "[17] \"CLONES_TRBaddjurkat_45.1_0.1.txt\"    \"CLONES_TRBaddjurkat_451_1.txt\"      \n",
      "[19] \"CLONES_TRBaddjurkat_67.65_0.15.txt\"  \"CLONES_TRBaddjurkat_90.2_0.2.txt\"   \n",
      "[21] \"CLONES_TRBA037.txt\"                 \n"
     ]
    },
    {
     "name": "stderr",
     "output_type": "stream",
     "text": [
      "Total recovered clonotypes:\n",
      "\n"
     ]
    },
    {
     "name": "stdout",
     "output_type": "stream",
     "text": [
      "[1] 2306\n"
     ]
    },
    {
     "name": "stderr",
     "output_type": "stream",
     "text": [
      "Total out-of-frame clonotypes:\n",
      "\n"
     ]
    },
    {
     "name": "stdout",
     "output_type": "stream",
     "text": [
      "[1] 50\n"
     ]
    },
    {
     "name": "stderr",
     "output_type": "stream",
     "text": [
      "Total clonotypes with stop codon:\n",
      "\n"
     ]
    },
    {
     "name": "stdout",
     "output_type": "stream",
     "text": [
      "[1] 5\n"
     ]
    },
    {
     "name": "stderr",
     "output_type": "stream",
     "text": [
      "Total productive clonotypes:\n",
      "\n"
     ]
    },
    {
     "name": "stdout",
     "output_type": "stream",
     "text": [
      "[1] 2251\n"
     ]
    },
    {
     "name": "stderr",
     "output_type": "stream",
     "text": [
      "Output contains in_frame clonotypes only\n",
      "\n"
     ]
    }
   ],
   "source": [
    "myfiles <- list.files(paste0(datapath, \"capTCRseq/testdataset/\"), pattern = \"addjurkat_\", recursive = T)\n",
    "myfiles <- c(myfiles, \"CLONES_TRBA037.txt\")\n",
    "\n",
    "cdr3df <- cdr3_dataframe.fx(paste0(datapath, \"capTCRseq/testdataset/\"), \"TRB\", myfiles, \"inframe\")"
   ]
  },
  {
   "cell_type": "code",
   "execution_count": 15,
   "metadata": {},
   "outputs": [],
   "source": [
    "cdr3df$samplename <- gsub(\"CLONES\", \"A037\", cdr3df$samplename)\n",
    "cdr3df$samplename <- gsub(\".txt\", \"\", cdr3df$samplename)"
   ]
  },
  {
   "cell_type": "code",
   "execution_count": 16,
   "metadata": {},
   "outputs": [],
   "source": [
    "cdr3df$myclonereads <- gsub(\".*addjurkat_\", \"\", cdr3df$samplename)"
   ]
  },
  {
   "cell_type": "code",
   "execution_count": 17,
   "metadata": {},
   "outputs": [
    {
     "data": {
      "text/html": [
       "<style>\n",
       ".list-inline {list-style: none; margin:0; padding: 0}\n",
       ".list-inline>li {display: inline-block}\n",
       ".list-inline>li:not(:last-child)::after {content: \"\\00b7\"; padding: 0 .5ex}\n",
       "</style>\n",
       "<ol class=list-inline><li>'112.75_0.25'</li><li>'112.75_0.25'</li><li>'112.75_0.25'</li><li>'112.75_0.25'</li><li>'112.75_0.25'</li><li>'112.75_0.25'</li></ol>\n"
      ],
      "text/latex": [
       "\\begin{enumerate*}\n",
       "\\item '112.75\\_0.25'\n",
       "\\item '112.75\\_0.25'\n",
       "\\item '112.75\\_0.25'\n",
       "\\item '112.75\\_0.25'\n",
       "\\item '112.75\\_0.25'\n",
       "\\item '112.75\\_0.25'\n",
       "\\end{enumerate*}\n"
      ],
      "text/markdown": [
       "1. '112.75_0.25'\n",
       "2. '112.75_0.25'\n",
       "3. '112.75_0.25'\n",
       "4. '112.75_0.25'\n",
       "5. '112.75_0.25'\n",
       "6. '112.75_0.25'\n",
       "\n",
       "\n"
      ],
      "text/plain": [
       "[1] \"112.75_0.25\" \"112.75_0.25\" \"112.75_0.25\" \"112.75_0.25\" \"112.75_0.25\"\n",
       "[6] \"112.75_0.25\""
      ]
     },
     "metadata": {},
     "output_type": "display_data"
    }
   ],
   "source": [
    "head(cdr3df$myclonereads)"
   ]
  },
  {
   "cell_type": "code",
   "execution_count": 18,
   "metadata": {},
   "outputs": [],
   "source": [
    "cdr3df$mypercreads <- gsub(\".*_\", \"\", cdr3df$myclonereads)\n",
    "cdr3df$myclonereads <- gsub(\"_.*\", \"\", cdr3df$myclonereads)"
   ]
  },
  {
   "cell_type": "code",
   "execution_count": 19,
   "metadata": {},
   "outputs": [
    {
     "data": {
      "text/html": [
       "<style>\n",
       ".list-inline {list-style: none; margin:0; padding: 0}\n",
       ".list-inline>li {display: inline-block}\n",
       ".list-inline>li:not(:last-child)::after {content: \"\\00b7\"; padding: 0 .5ex}\n",
       "</style>\n",
       "<ol class=list-inline><li>'112.75'</li><li>'135.3'</li><li>'157.85'</li><li>'180.4'</li><li>'202.95'</li><li>'22.55'</li><li>'225.5'</li><li>'248.05'</li><li>'270.6'</li><li>'293.15'</li><li>'315.7'</li><li>'338.25'</li><li>'360.8'</li><li>'383.35'</li><li>'405.9'</li><li>'428.45'</li><li>'45.1'</li><li>'451'</li><li>'67.65'</li><li>'90.2'</li><li>'A037'</li></ol>\n"
      ],
      "text/latex": [
       "\\begin{enumerate*}\n",
       "\\item '112.75'\n",
       "\\item '135.3'\n",
       "\\item '157.85'\n",
       "\\item '180.4'\n",
       "\\item '202.95'\n",
       "\\item '22.55'\n",
       "\\item '225.5'\n",
       "\\item '248.05'\n",
       "\\item '270.6'\n",
       "\\item '293.15'\n",
       "\\item '315.7'\n",
       "\\item '338.25'\n",
       "\\item '360.8'\n",
       "\\item '383.35'\n",
       "\\item '405.9'\n",
       "\\item '428.45'\n",
       "\\item '45.1'\n",
       "\\item '451'\n",
       "\\item '67.65'\n",
       "\\item '90.2'\n",
       "\\item 'A037'\n",
       "\\end{enumerate*}\n"
      ],
      "text/markdown": [
       "1. '112.75'\n",
       "2. '135.3'\n",
       "3. '157.85'\n",
       "4. '180.4'\n",
       "5. '202.95'\n",
       "6. '22.55'\n",
       "7. '225.5'\n",
       "8. '248.05'\n",
       "9. '270.6'\n",
       "10. '293.15'\n",
       "11. '315.7'\n",
       "12. '338.25'\n",
       "13. '360.8'\n",
       "14. '383.35'\n",
       "15. '405.9'\n",
       "16. '428.45'\n",
       "17. '45.1'\n",
       "18. '451'\n",
       "19. '67.65'\n",
       "20. '90.2'\n",
       "21. 'A037'\n",
       "\n",
       "\n"
      ],
      "text/plain": [
       " [1] \"112.75\" \"135.3\"  \"157.85\" \"180.4\"  \"202.95\" \"22.55\"  \"225.5\"  \"248.05\"\n",
       " [9] \"270.6\"  \"293.15\" \"315.7\"  \"338.25\" \"360.8\"  \"383.35\" \"405.9\"  \"428.45\"\n",
       "[17] \"45.1\"   \"451\"    \"67.65\"  \"90.2\"   \"A037\"  "
      ]
     },
     "metadata": {},
     "output_type": "display_data"
    }
   ],
   "source": [
    "unique(cdr3df$myclonereads)"
   ]
  },
  {
   "cell_type": "code",
   "execution_count": 20,
   "metadata": {},
   "outputs": [],
   "source": [
    "cdr3df$myclonereads <- gsub(\"A037\", \"0\", cdr3df$myclonereads)\n",
    "cdr3df$myclonereads <- as.numeric(cdr3df$myclonereads)"
   ]
  },
  {
   "cell_type": "code",
   "execution_count": 21,
   "metadata": {},
   "outputs": [],
   "source": [
    "cdr3df$samplename <- gsub(\"_addjurkat\", \"\", cdr3df$samplename)\n",
    "cdr3df$samplename <- gsub(\"_A037\", \"_0\", cdr3df$samplename)"
   ]
  },
  {
   "cell_type": "code",
   "execution_count": 22,
   "metadata": {},
   "outputs": [
    {
     "data": {
      "text/html": [
       "<style>\n",
       ".list-inline {list-style: none; margin:0; padding: 0}\n",
       ".list-inline>li {display: inline-block}\n",
       ".list-inline>li:not(:last-child)::after {content: \"\\00b7\"; padding: 0 .5ex}\n",
       "</style>\n",
       "<ol class=list-inline><li>'A037_112.75_0.25'</li><li>'A037_135.3_0.3'</li><li>'A037_157.85_0.35'</li><li>'A037_180.4_0.4'</li><li>'A037_202.95_0.45'</li><li>'A037_22.55_0.05'</li><li>'A037_225.5_0.5'</li><li>'A037_248.05_0.55'</li><li>'A037_270.6_0.6'</li><li>'A037_293.15_0.65'</li><li>'A037_315.7_0.7'</li><li>'A037_338.25_0.75'</li><li>'A037_360.8_0.8'</li><li>'A037_383.35_0.85'</li><li>'A037_405.9_0.9'</li><li>'A037_428.45_0.95'</li><li>'A037_45.1_0.1'</li><li>'A037_451_1'</li><li>'A037_67.65_0.15'</li><li>'A037_90.2_0.2'</li><li>'A037_0'</li></ol>\n"
      ],
      "text/latex": [
       "\\begin{enumerate*}\n",
       "\\item 'A037\\_112.75\\_0.25'\n",
       "\\item 'A037\\_135.3\\_0.3'\n",
       "\\item 'A037\\_157.85\\_0.35'\n",
       "\\item 'A037\\_180.4\\_0.4'\n",
       "\\item 'A037\\_202.95\\_0.45'\n",
       "\\item 'A037\\_22.55\\_0.05'\n",
       "\\item 'A037\\_225.5\\_0.5'\n",
       "\\item 'A037\\_248.05\\_0.55'\n",
       "\\item 'A037\\_270.6\\_0.6'\n",
       "\\item 'A037\\_293.15\\_0.65'\n",
       "\\item 'A037\\_315.7\\_0.7'\n",
       "\\item 'A037\\_338.25\\_0.75'\n",
       "\\item 'A037\\_360.8\\_0.8'\n",
       "\\item 'A037\\_383.35\\_0.85'\n",
       "\\item 'A037\\_405.9\\_0.9'\n",
       "\\item 'A037\\_428.45\\_0.95'\n",
       "\\item 'A037\\_45.1\\_0.1'\n",
       "\\item 'A037\\_451\\_1'\n",
       "\\item 'A037\\_67.65\\_0.15'\n",
       "\\item 'A037\\_90.2\\_0.2'\n",
       "\\item 'A037\\_0'\n",
       "\\end{enumerate*}\n"
      ],
      "text/markdown": [
       "1. 'A037_112.75_0.25'\n",
       "2. 'A037_135.3_0.3'\n",
       "3. 'A037_157.85_0.35'\n",
       "4. 'A037_180.4_0.4'\n",
       "5. 'A037_202.95_0.45'\n",
       "6. 'A037_22.55_0.05'\n",
       "7. 'A037_225.5_0.5'\n",
       "8. 'A037_248.05_0.55'\n",
       "9. 'A037_270.6_0.6'\n",
       "10. 'A037_293.15_0.65'\n",
       "11. 'A037_315.7_0.7'\n",
       "12. 'A037_338.25_0.75'\n",
       "13. 'A037_360.8_0.8'\n",
       "14. 'A037_383.35_0.85'\n",
       "15. 'A037_405.9_0.9'\n",
       "16. 'A037_428.45_0.95'\n",
       "17. 'A037_45.1_0.1'\n",
       "18. 'A037_451_1'\n",
       "19. 'A037_67.65_0.15'\n",
       "20. 'A037_90.2_0.2'\n",
       "21. 'A037_0'\n",
       "\n",
       "\n"
      ],
      "text/plain": [
       " [1] \"A037_112.75_0.25\" \"A037_135.3_0.3\"   \"A037_157.85_0.35\" \"A037_180.4_0.4\"  \n",
       " [5] \"A037_202.95_0.45\" \"A037_22.55_0.05\"  \"A037_225.5_0.5\"   \"A037_248.05_0.55\"\n",
       " [9] \"A037_270.6_0.6\"   \"A037_293.15_0.65\" \"A037_315.7_0.7\"   \"A037_338.25_0.75\"\n",
       "[13] \"A037_360.8_0.8\"   \"A037_383.35_0.85\" \"A037_405.9_0.9\"   \"A037_428.45_0.95\"\n",
       "[17] \"A037_45.1_0.1\"    \"A037_451_1\"       \"A037_67.65_0.15\"  \"A037_90.2_0.2\"   \n",
       "[21] \"A037_0\"          "
      ]
     },
     "metadata": {},
     "output_type": "display_data"
    }
   ],
   "source": [
    "unique(cdr3df$samplename)"
   ]
  },
  {
   "cell_type": "code",
   "execution_count": 23,
   "metadata": {},
   "outputs": [],
   "source": [
    "cdr3df$samplename <- factor(cdr3df$samplename, levels = unique(cdr3df$samplename\n",
    "                                                               [order(cdr3df$myclonereads, decreasing = F)]))"
   ]
  },
  {
   "cell_type": "code",
   "execution_count": 24,
   "metadata": {
    "scrolled": true
   },
   "outputs": [
    {
     "name": "stderr",
     "output_type": "stream",
     "text": [
      "list of samples to track clones: \n",
      "\n"
     ]
    },
    {
     "name": "stdout",
     "output_type": "stream",
     "text": [
      " [1] A037_112.75_0.25 A037_135.3_0.3   A037_157.85_0.35 A037_180.4_0.4  \n",
      " [5] A037_202.95_0.45 A037_22.55_0.05  A037_225.5_0.5   A037_248.05_0.55\n",
      " [9] A037_270.6_0.6   A037_293.15_0.65 A037_315.7_0.7   A037_338.25_0.75\n",
      "[13] A037_360.8_0.8   A037_383.35_0.85 A037_405.9_0.9   A037_428.45_0.95\n",
      "[17] A037_45.1_0.1    A037_451_1       A037_67.65_0.15  A037_90.2_0.2   \n",
      "[21] A037_0          \n",
      "21 Levels: A037_0 A037_22.55_0.05 A037_45.1_0.1 ... A037_451_1\n"
     ]
    },
    {
     "data": {
      "text/html": [
       "<strong>pdf:</strong> 2"
      ],
      "text/latex": [
       "\\textbf{pdf:} 2"
      ],
      "text/markdown": [
       "**pdf:** 2"
      ],
      "text/plain": [
       "pdf \n",
       "  2 "
      ]
     },
     "metadata": {},
     "output_type": "display_data"
    }
   ],
   "source": [
    "track_Aclone.fx(cdr3df, plotpath, \"cloneFraction\", 0, \"TGTGCCAGCAGTTTCTCGACCTGTTCGGCTAACTATGGCTACACCTTC\")"
   ]
  },
  {
   "cell_type": "code",
   "execution_count": 25,
   "metadata": {},
   "outputs": [
    {
     "name": "stderr",
     "output_type": "stream",
     "text": [
      "list of samples to track clones: \n",
      "\n"
     ]
    },
    {
     "name": "stdout",
     "output_type": "stream",
     "text": [
      " [1] A037_112.75_0.25 A037_135.3_0.3   A037_157.85_0.35 A037_180.4_0.4  \n",
      " [5] A037_202.95_0.45 A037_22.55_0.05  A037_225.5_0.5   A037_248.05_0.55\n",
      " [9] A037_270.6_0.6   A037_293.15_0.65 A037_315.7_0.7   A037_338.25_0.75\n",
      "[13] A037_360.8_0.8   A037_383.35_0.85 A037_405.9_0.9   A037_428.45_0.95\n",
      "[17] A037_45.1_0.1    A037_451_1       A037_67.65_0.15  A037_90.2_0.2   \n",
      "[21] A037_0          \n",
      "21 Levels: A037_0 A037_22.55_0.05 A037_45.1_0.1 ... A037_451_1\n"
     ]
    },
    {
     "data": {
      "text/html": [
       "<strong>pdf:</strong> 2"
      ],
      "text/latex": [
       "\\textbf{pdf:} 2"
      ],
      "text/markdown": [
       "**pdf:** 2"
      ],
      "text/plain": [
       "pdf \n",
       "  2 "
      ]
     },
     "metadata": {},
     "output_type": "display_data"
    }
   ],
   "source": [
    "track_Aclone.fx(cdr3df, plotpath, \"cloneCount\", 0, \"TGTGCCAGCAGTTTCTCGACCTGTTCGGCTAACTATGGCTACACCTTC\")"
   ]
  },
  {
   "cell_type": "markdown",
   "metadata": {},
   "source": [
    "## Plot Diversity measures"
   ]
  },
  {
   "cell_type": "code",
   "execution_count": 61,
   "metadata": {},
   "outputs": [],
   "source": [
    "div <- read.csv(file = paste0(datapath, \"capTCRseq/testdataset/divstats_TRBaddjurkat.csv\"), row.names = 1)"
   ]
  },
  {
   "cell_type": "code",
   "execution_count": 62,
   "metadata": {},
   "outputs": [
    {
     "data": {
      "text/html": [
       "<table class=\"dataframe\">\n",
       "<caption>A data.frame: 6 × 19</caption>\n",
       "<thead>\n",
       "\t<tr><th></th><th scope=col>TRB</th><th scope=col>Reads</th><th scope=col>CPKR</th><th scope=col>Average_reads</th><th scope=col>VMR</th><th scope=col>Max_reads</th><th scope=col>Singletons</th><th scope=col>Doubletons</th><th scope=col>qD</th><th scope=col>Sample_Coverage</th><th scope=col>observed_Richness</th><th scope=col>estimated_Richness</th><th scope=col>SE_Richeness</th><th scope=col>observed_Shannon</th><th scope=col>estimated_Shannon</th><th scope=col>SE_Shannon</th><th scope=col>observed_Simpson</th><th scope=col>estimated_Simpson</th><th scope=col>SE_Simpson</th></tr>\n",
       "\t<tr><th></th><th scope=col>&lt;int&gt;</th><th scope=col>&lt;dbl&gt;</th><th scope=col>&lt;dbl&gt;</th><th scope=col>&lt;dbl&gt;</th><th scope=col>&lt;dbl&gt;</th><th scope=col>&lt;dbl&gt;</th><th scope=col>&lt;int&gt;</th><th scope=col>&lt;int&gt;</th><th scope=col>&lt;dbl&gt;</th><th scope=col>&lt;dbl&gt;</th><th scope=col>&lt;int&gt;</th><th scope=col>&lt;dbl&gt;</th><th scope=col>&lt;dbl&gt;</th><th scope=col>&lt;dbl&gt;</th><th scope=col>&lt;dbl&gt;</th><th scope=col>&lt;dbl&gt;</th><th scope=col>&lt;dbl&gt;</th><th scope=col>&lt;dbl&gt;</th><th scope=col>&lt;dbl&gt;</th></tr>\n",
       "</thead>\n",
       "<tbody>\n",
       "\t<tr><th scope=row>addjurkat_112.75_0.25</th><td>159</td><td>452.75</td><td>351.1872</td><td>2.847484</td><td>3.1073044</td><td>112.75</td><td>58</td><td>44</td><td>188.770</td><td>0.972</td><td>159</td><td>197.143</td><td>13.097</td><td> 70.820</td><td> 90.799</td><td>6.842</td><td> 15.008</td><td> 15.488</td><td> 2.661</td></tr>\n",
       "\t<tr><th scope=row>addjurkat_135.3_0.3</th><td>149</td><td>453.30</td><td>328.7006</td><td>3.042282</td><td>3.6057013</td><td>135.30</td><td>54</td><td>42</td><td>176.317</td><td>0.975</td><td>149</td><td>183.638</td><td>12.332</td><td> 55.691</td><td> 70.168</td><td>5.950</td><td> 10.709</td><td> 10.944</td><td> 1.584</td></tr>\n",
       "\t<tr><th scope=row>addjurkat_157.85_0.35</th><td>139</td><td>451.85</td><td>307.6242</td><td>3.250719</td><td>4.0787252</td><td>157.85</td><td>51</td><td>40</td><td>164.671</td><td>0.977</td><td>139</td><td>171.441</td><td>11.887</td><td> 43.107</td><td> 53.539</td><td>4.826</td><td>  7.935</td><td>  8.059</td><td> 1.004</td></tr>\n",
       "\t<tr><th scope=row>addjurkat_180.4_0.4</th><td>126</td><td>451.40</td><td>279.1316</td><td>3.582540</td><td>4.4442800</td><td>180.40</td><td>45</td><td>35</td><td>148.760</td><td>0.979</td><td>126</td><td>154.864</td><td>11.257</td><td> 32.755</td><td> 39.821</td><td>3.642</td><td>  6.118</td><td>  6.188</td><td> 0.695</td></tr>\n",
       "\t<tr><th scope=row>addjurkat_202.95_0.45</th><td>116</td><td>451.95</td><td>256.6656</td><td>3.896121</td><td>4.7941826</td><td>202.95</td><td>41</td><td>32</td><td>136.693</td><td>0.981</td><td>116</td><td>142.208</td><td>10.709</td><td> 25.227</td><td> 30.175</td><td>3.047</td><td>  4.877</td><td>  4.919</td><td> 0.549</td></tr>\n",
       "\t<tr><th scope=row>addjurkat_22.55_0.05</th><td>195</td><td>451.55</td><td>431.8459</td><td>2.315641</td><td>0.8295574</td><td> 22.55</td><td>72</td><td>51</td><td>233.420</td><td>0.961</td><td>195</td><td>245.711</td><td>15.621</td><td>157.830</td><td>215.221</td><td>8.865</td><td>115.752</td><td>155.308</td><td>13.749</td></tr>\n",
       "</tbody>\n",
       "</table>\n"
      ],
      "text/latex": [
       "A data.frame: 6 × 19\n",
       "\\begin{tabular}{r|lllllllllllllllllll}\n",
       "  & TRB & Reads & CPKR & Average\\_reads & VMR & Max\\_reads & Singletons & Doubletons & qD & Sample\\_Coverage & observed\\_Richness & estimated\\_Richness & SE\\_Richeness & observed\\_Shannon & estimated\\_Shannon & SE\\_Shannon & observed\\_Simpson & estimated\\_Simpson & SE\\_Simpson\\\\\n",
       "  & <int> & <dbl> & <dbl> & <dbl> & <dbl> & <dbl> & <int> & <int> & <dbl> & <dbl> & <int> & <dbl> & <dbl> & <dbl> & <dbl> & <dbl> & <dbl> & <dbl> & <dbl>\\\\\n",
       "\\hline\n",
       "\taddjurkat\\_112.75\\_0.25 & 159 & 452.75 & 351.1872 & 2.847484 & 3.1073044 & 112.75 & 58 & 44 & 188.770 & 0.972 & 159 & 197.143 & 13.097 &  70.820 &  90.799 & 6.842 &  15.008 &  15.488 &  2.661\\\\\n",
       "\taddjurkat\\_135.3\\_0.3 & 149 & 453.30 & 328.7006 & 3.042282 & 3.6057013 & 135.30 & 54 & 42 & 176.317 & 0.975 & 149 & 183.638 & 12.332 &  55.691 &  70.168 & 5.950 &  10.709 &  10.944 &  1.584\\\\\n",
       "\taddjurkat\\_157.85\\_0.35 & 139 & 451.85 & 307.6242 & 3.250719 & 4.0787252 & 157.85 & 51 & 40 & 164.671 & 0.977 & 139 & 171.441 & 11.887 &  43.107 &  53.539 & 4.826 &   7.935 &   8.059 &  1.004\\\\\n",
       "\taddjurkat\\_180.4\\_0.4 & 126 & 451.40 & 279.1316 & 3.582540 & 4.4442800 & 180.40 & 45 & 35 & 148.760 & 0.979 & 126 & 154.864 & 11.257 &  32.755 &  39.821 & 3.642 &   6.118 &   6.188 &  0.695\\\\\n",
       "\taddjurkat\\_202.95\\_0.45 & 116 & 451.95 & 256.6656 & 3.896121 & 4.7941826 & 202.95 & 41 & 32 & 136.693 & 0.981 & 116 & 142.208 & 10.709 &  25.227 &  30.175 & 3.047 &   4.877 &   4.919 &  0.549\\\\\n",
       "\taddjurkat\\_22.55\\_0.05 & 195 & 451.55 & 431.8459 & 2.315641 & 0.8295574 &  22.55 & 72 & 51 & 233.420 & 0.961 & 195 & 245.711 & 15.621 & 157.830 & 215.221 & 8.865 & 115.752 & 155.308 & 13.749\\\\\n",
       "\\end{tabular}\n"
      ],
      "text/markdown": [
       "\n",
       "A data.frame: 6 × 19\n",
       "\n",
       "| <!--/--> | TRB &lt;int&gt; | Reads &lt;dbl&gt; | CPKR &lt;dbl&gt; | Average_reads &lt;dbl&gt; | VMR &lt;dbl&gt; | Max_reads &lt;dbl&gt; | Singletons &lt;int&gt; | Doubletons &lt;int&gt; | qD &lt;dbl&gt; | Sample_Coverage &lt;dbl&gt; | observed_Richness &lt;int&gt; | estimated_Richness &lt;dbl&gt; | SE_Richeness &lt;dbl&gt; | observed_Shannon &lt;dbl&gt; | estimated_Shannon &lt;dbl&gt; | SE_Shannon &lt;dbl&gt; | observed_Simpson &lt;dbl&gt; | estimated_Simpson &lt;dbl&gt; | SE_Simpson &lt;dbl&gt; |\n",
       "|---|---|---|---|---|---|---|---|---|---|---|---|---|---|---|---|---|---|---|---|\n",
       "| addjurkat_112.75_0.25 | 159 | 452.75 | 351.1872 | 2.847484 | 3.1073044 | 112.75 | 58 | 44 | 188.770 | 0.972 | 159 | 197.143 | 13.097 |  70.820 |  90.799 | 6.842 |  15.008 |  15.488 |  2.661 |\n",
       "| addjurkat_135.3_0.3 | 149 | 453.30 | 328.7006 | 3.042282 | 3.6057013 | 135.30 | 54 | 42 | 176.317 | 0.975 | 149 | 183.638 | 12.332 |  55.691 |  70.168 | 5.950 |  10.709 |  10.944 |  1.584 |\n",
       "| addjurkat_157.85_0.35 | 139 | 451.85 | 307.6242 | 3.250719 | 4.0787252 | 157.85 | 51 | 40 | 164.671 | 0.977 | 139 | 171.441 | 11.887 |  43.107 |  53.539 | 4.826 |   7.935 |   8.059 |  1.004 |\n",
       "| addjurkat_180.4_0.4 | 126 | 451.40 | 279.1316 | 3.582540 | 4.4442800 | 180.40 | 45 | 35 | 148.760 | 0.979 | 126 | 154.864 | 11.257 |  32.755 |  39.821 | 3.642 |   6.118 |   6.188 |  0.695 |\n",
       "| addjurkat_202.95_0.45 | 116 | 451.95 | 256.6656 | 3.896121 | 4.7941826 | 202.95 | 41 | 32 | 136.693 | 0.981 | 116 | 142.208 | 10.709 |  25.227 |  30.175 | 3.047 |   4.877 |   4.919 |  0.549 |\n",
       "| addjurkat_22.55_0.05 | 195 | 451.55 | 431.8459 | 2.315641 | 0.8295574 |  22.55 | 72 | 51 | 233.420 | 0.961 | 195 | 245.711 | 15.621 | 157.830 | 215.221 | 8.865 | 115.752 | 155.308 | 13.749 |\n",
       "\n"
      ],
      "text/plain": [
       "                      TRB Reads  CPKR     Average_reads VMR       Max_reads\n",
       "addjurkat_112.75_0.25 159 452.75 351.1872 2.847484      3.1073044 112.75   \n",
       "addjurkat_135.3_0.3   149 453.30 328.7006 3.042282      3.6057013 135.30   \n",
       "addjurkat_157.85_0.35 139 451.85 307.6242 3.250719      4.0787252 157.85   \n",
       "addjurkat_180.4_0.4   126 451.40 279.1316 3.582540      4.4442800 180.40   \n",
       "addjurkat_202.95_0.45 116 451.95 256.6656 3.896121      4.7941826 202.95   \n",
       "addjurkat_22.55_0.05  195 451.55 431.8459 2.315641      0.8295574  22.55   \n",
       "                      Singletons Doubletons qD      Sample_Coverage\n",
       "addjurkat_112.75_0.25 58         44         188.770 0.972          \n",
       "addjurkat_135.3_0.3   54         42         176.317 0.975          \n",
       "addjurkat_157.85_0.35 51         40         164.671 0.977          \n",
       "addjurkat_180.4_0.4   45         35         148.760 0.979          \n",
       "addjurkat_202.95_0.45 41         32         136.693 0.981          \n",
       "addjurkat_22.55_0.05  72         51         233.420 0.961          \n",
       "                      observed_Richness estimated_Richness SE_Richeness\n",
       "addjurkat_112.75_0.25 159               197.143            13.097      \n",
       "addjurkat_135.3_0.3   149               183.638            12.332      \n",
       "addjurkat_157.85_0.35 139               171.441            11.887      \n",
       "addjurkat_180.4_0.4   126               154.864            11.257      \n",
       "addjurkat_202.95_0.45 116               142.208            10.709      \n",
       "addjurkat_22.55_0.05  195               245.711            15.621      \n",
       "                      observed_Shannon estimated_Shannon SE_Shannon\n",
       "addjurkat_112.75_0.25  70.820           90.799           6.842     \n",
       "addjurkat_135.3_0.3    55.691           70.168           5.950     \n",
       "addjurkat_157.85_0.35  43.107           53.539           4.826     \n",
       "addjurkat_180.4_0.4    32.755           39.821           3.642     \n",
       "addjurkat_202.95_0.45  25.227           30.175           3.047     \n",
       "addjurkat_22.55_0.05  157.830          215.221           8.865     \n",
       "                      observed_Simpson estimated_Simpson SE_Simpson\n",
       "addjurkat_112.75_0.25  15.008           15.488            2.661    \n",
       "addjurkat_135.3_0.3    10.709           10.944            1.584    \n",
       "addjurkat_157.85_0.35   7.935            8.059            1.004    \n",
       "addjurkat_180.4_0.4     6.118            6.188            0.695    \n",
       "addjurkat_202.95_0.45   4.877            4.919            0.549    \n",
       "addjurkat_22.55_0.05  115.752          155.308           13.749    "
      ]
     },
     "metadata": {},
     "output_type": "display_data"
    }
   ],
   "source": [
    "head(div)"
   ]
  },
  {
   "cell_type": "code",
   "execution_count": 63,
   "metadata": {},
   "outputs": [],
   "source": [
    "div$myclonereads <- gsub(\"addjurkat_\", \"\", rownames(div))"
   ]
  },
  {
   "cell_type": "code",
   "execution_count": 64,
   "metadata": {},
   "outputs": [],
   "source": [
    "div$mypercreads <- gsub(\".*_\", \"\", div$myclonereads)\n",
    "div$myclonereads <- gsub(\"_.*\", \"\", div$myclonereads)"
   ]
  },
  {
   "cell_type": "code",
   "execution_count": 65,
   "metadata": {},
   "outputs": [
    {
     "data": {
      "text/html": [
       "<style>\n",
       ".list-inline {list-style: none; margin:0; padding: 0}\n",
       ".list-inline>li {display: inline-block}\n",
       ".list-inline>li:not(:last-child)::after {content: \"\\00b7\"; padding: 0 .5ex}\n",
       "</style>\n",
       "<ol class=list-inline><li>'0.25'</li><li>'0.3'</li><li>'0.35'</li><li>'0.4'</li><li>'0.45'</li><li>'0.05'</li><li>'0.5'</li><li>'0.55'</li><li>'0.6'</li><li>'0.65'</li><li>'0.7'</li><li>'0.75'</li><li>'0.8'</li><li>'0.85'</li><li>'0.9'</li><li>'0.95'</li><li>'0.1'</li><li>'1'</li><li>'0.15'</li><li>'0.2'</li><li>'A037'</li></ol>\n"
      ],
      "text/latex": [
       "\\begin{enumerate*}\n",
       "\\item '0.25'\n",
       "\\item '0.3'\n",
       "\\item '0.35'\n",
       "\\item '0.4'\n",
       "\\item '0.45'\n",
       "\\item '0.05'\n",
       "\\item '0.5'\n",
       "\\item '0.55'\n",
       "\\item '0.6'\n",
       "\\item '0.65'\n",
       "\\item '0.7'\n",
       "\\item '0.75'\n",
       "\\item '0.8'\n",
       "\\item '0.85'\n",
       "\\item '0.9'\n",
       "\\item '0.95'\n",
       "\\item '0.1'\n",
       "\\item '1'\n",
       "\\item '0.15'\n",
       "\\item '0.2'\n",
       "\\item 'A037'\n",
       "\\end{enumerate*}\n"
      ],
      "text/markdown": [
       "1. '0.25'\n",
       "2. '0.3'\n",
       "3. '0.35'\n",
       "4. '0.4'\n",
       "5. '0.45'\n",
       "6. '0.05'\n",
       "7. '0.5'\n",
       "8. '0.55'\n",
       "9. '0.6'\n",
       "10. '0.65'\n",
       "11. '0.7'\n",
       "12. '0.75'\n",
       "13. '0.8'\n",
       "14. '0.85'\n",
       "15. '0.9'\n",
       "16. '0.95'\n",
       "17. '0.1'\n",
       "18. '1'\n",
       "19. '0.15'\n",
       "20. '0.2'\n",
       "21. 'A037'\n",
       "\n",
       "\n"
      ],
      "text/plain": [
       " [1] \"0.25\" \"0.3\"  \"0.35\" \"0.4\"  \"0.45\" \"0.05\" \"0.5\"  \"0.55\" \"0.6\"  \"0.65\"\n",
       "[11] \"0.7\"  \"0.75\" \"0.8\"  \"0.85\" \"0.9\"  \"0.95\" \"0.1\"  \"1\"    \"0.15\" \"0.2\" \n",
       "[21] \"A037\""
      ]
     },
     "metadata": {},
     "output_type": "display_data"
    }
   ],
   "source": [
    "unique(div$mypercreads)"
   ]
  },
  {
   "cell_type": "code",
   "execution_count": 66,
   "metadata": {},
   "outputs": [],
   "source": [
    "div$myclonereads <- gsub(\"A037\", \"0\", div$myclonereads)\n",
    "div$myclonereads <- as.numeric(div$myclonereads)"
   ]
  },
  {
   "cell_type": "code",
   "execution_count": 67,
   "metadata": {},
   "outputs": [],
   "source": [
    "div$mypercreads <- gsub(\"A037\", \"0\", div$mypercreads)\n",
    "div$mypercreads <- as.numeric(div$mypercreads)"
   ]
  },
  {
   "cell_type": "code",
   "execution_count": 68,
   "metadata": {},
   "outputs": [
    {
     "data": {
      "text/html": [
       "<style>\n",
       ".list-inline {list-style: none; margin:0; padding: 0}\n",
       ".list-inline>li {display: inline-block}\n",
       ".list-inline>li:not(:last-child)::after {content: \"\\00b7\"; padding: 0 .5ex}\n",
       "</style>\n",
       "<ol class=list-inline><li>0.25</li><li>0.3</li><li>0.35</li><li>0.4</li><li>0.45</li><li>0.05</li><li>0.5</li><li>0.55</li><li>0.6</li><li>0.65</li><li>0.7</li><li>0.75</li><li>0.8</li><li>0.85</li><li>0.9</li><li>0.95</li><li>0.1</li><li>1</li><li>0.15</li><li>0.2</li><li>0</li></ol>\n"
      ],
      "text/latex": [
       "\\begin{enumerate*}\n",
       "\\item 0.25\n",
       "\\item 0.3\n",
       "\\item 0.35\n",
       "\\item 0.4\n",
       "\\item 0.45\n",
       "\\item 0.05\n",
       "\\item 0.5\n",
       "\\item 0.55\n",
       "\\item 0.6\n",
       "\\item 0.65\n",
       "\\item 0.7\n",
       "\\item 0.75\n",
       "\\item 0.8\n",
       "\\item 0.85\n",
       "\\item 0.9\n",
       "\\item 0.95\n",
       "\\item 0.1\n",
       "\\item 1\n",
       "\\item 0.15\n",
       "\\item 0.2\n",
       "\\item 0\n",
       "\\end{enumerate*}\n"
      ],
      "text/markdown": [
       "1. 0.25\n",
       "2. 0.3\n",
       "3. 0.35\n",
       "4. 0.4\n",
       "5. 0.45\n",
       "6. 0.05\n",
       "7. 0.5\n",
       "8. 0.55\n",
       "9. 0.6\n",
       "10. 0.65\n",
       "11. 0.7\n",
       "12. 0.75\n",
       "13. 0.8\n",
       "14. 0.85\n",
       "15. 0.9\n",
       "16. 0.95\n",
       "17. 0.1\n",
       "18. 1\n",
       "19. 0.15\n",
       "20. 0.2\n",
       "21. 0\n",
       "\n",
       "\n"
      ],
      "text/plain": [
       " [1] 0.25 0.30 0.35 0.40 0.45 0.05 0.50 0.55 0.60 0.65 0.70 0.75 0.80 0.85 0.90\n",
       "[16] 0.95 0.10 1.00 0.15 0.20 0.00"
      ]
     },
     "metadata": {},
     "output_type": "display_data"
    }
   ],
   "source": [
    "div$mypercreads"
   ]
  },
  {
   "cell_type": "code",
   "execution_count": 69,
   "metadata": {},
   "outputs": [],
   "source": [
    "div <- div[ order(div$mypercreads, decreasing = T),]"
   ]
  },
  {
   "cell_type": "code",
   "execution_count": 70,
   "metadata": {},
   "outputs": [],
   "source": [
    "div_m <- reshape2::melt(div[,c(\"mypercreads\",\"observed_Shannon\", \"observed_Simpson\", \"observed_Richness\")], \n",
    "                        id = \"mypercreads\")"
   ]
  },
  {
   "cell_type": "code",
   "execution_count": 71,
   "metadata": {},
   "outputs": [
    {
     "data": {
      "text/html": [
       "<table class=\"dataframe\">\n",
       "<caption>A data.frame: 6 × 3</caption>\n",
       "<thead>\n",
       "\t<tr><th></th><th scope=col>mypercreads</th><th scope=col>variable</th><th scope=col>value</th></tr>\n",
       "\t<tr><th></th><th scope=col>&lt;dbl&gt;</th><th scope=col>&lt;fct&gt;</th><th scope=col>&lt;dbl&gt;</th></tr>\n",
       "</thead>\n",
       "<tbody>\n",
       "\t<tr><th scope=row>1</th><td>1.00</td><td>observed_Shannon</td><td>1.000</td></tr>\n",
       "\t<tr><th scope=row>2</th><td>0.95</td><td>observed_Shannon</td><td>1.402</td></tr>\n",
       "\t<tr><th scope=row>3</th><td>0.90</td><td>observed_Shannon</td><td>1.937</td></tr>\n",
       "\t<tr><th scope=row>4</th><td>0.85</td><td>observed_Shannon</td><td>2.643</td></tr>\n",
       "\t<tr><th scope=row>5</th><td>0.80</td><td>observed_Shannon</td><td>3.481</td></tr>\n",
       "\t<tr><th scope=row>6</th><td>0.75</td><td>observed_Shannon</td><td>4.731</td></tr>\n",
       "</tbody>\n",
       "</table>\n"
      ],
      "text/latex": [
       "A data.frame: 6 × 3\n",
       "\\begin{tabular}{r|lll}\n",
       "  & mypercreads & variable & value\\\\\n",
       "  & <dbl> & <fct> & <dbl>\\\\\n",
       "\\hline\n",
       "\t1 & 1.00 & observed\\_Shannon & 1.000\\\\\n",
       "\t2 & 0.95 & observed\\_Shannon & 1.402\\\\\n",
       "\t3 & 0.90 & observed\\_Shannon & 1.937\\\\\n",
       "\t4 & 0.85 & observed\\_Shannon & 2.643\\\\\n",
       "\t5 & 0.80 & observed\\_Shannon & 3.481\\\\\n",
       "\t6 & 0.75 & observed\\_Shannon & 4.731\\\\\n",
       "\\end{tabular}\n"
      ],
      "text/markdown": [
       "\n",
       "A data.frame: 6 × 3\n",
       "\n",
       "| <!--/--> | mypercreads &lt;dbl&gt; | variable &lt;fct&gt; | value &lt;dbl&gt; |\n",
       "|---|---|---|---|\n",
       "| 1 | 1.00 | observed_Shannon | 1.000 |\n",
       "| 2 | 0.95 | observed_Shannon | 1.402 |\n",
       "| 3 | 0.90 | observed_Shannon | 1.937 |\n",
       "| 4 | 0.85 | observed_Shannon | 2.643 |\n",
       "| 5 | 0.80 | observed_Shannon | 3.481 |\n",
       "| 6 | 0.75 | observed_Shannon | 4.731 |\n",
       "\n"
      ],
      "text/plain": [
       "  mypercreads variable         value\n",
       "1 1.00        observed_Shannon 1.000\n",
       "2 0.95        observed_Shannon 1.402\n",
       "3 0.90        observed_Shannon 1.937\n",
       "4 0.85        observed_Shannon 2.643\n",
       "5 0.80        observed_Shannon 3.481\n",
       "6 0.75        observed_Shannon 4.731"
      ]
     },
     "metadata": {},
     "output_type": "display_data"
    }
   ],
   "source": [
    "head(div_m)"
   ]
  },
  {
   "cell_type": "code",
   "execution_count": 72,
   "metadata": {},
   "outputs": [],
   "source": [
    "plot_testdata <- ggplot(data = div_m, \n",
    "                        aes(x = mypercreads, y = value, color = variable)) + geom_point(size = 25) + \n",
    "myplot + myaxis +\n",
    "theme(axis.title = element_text(size = 70), \n",
    "      axis.text.x = element_text(size = 70),\n",
    "      axis.text.y = element_text(size = 70),\n",
    "    legend.position = \"top\", legend.title = element_blank())  +\n",
    "scale_y_continuous(trans = \"log10\",\n",
    "                   labels = scales::label_number(accuracy = 1)) + annotation_logticks(sides = \"l\") "
   ]
  },
  {
   "cell_type": "code",
   "execution_count": 73,
   "metadata": {},
   "outputs": [
    {
     "data": {
      "text/html": [
       "<strong>pdf:</strong> 2"
      ],
      "text/latex": [
       "\\textbf{pdf:} 2"
      ],
      "text/markdown": [
       "**pdf:** 2"
      ],
      "text/plain": [
       "pdf \n",
       "  2 "
      ]
     },
     "metadata": {},
     "output_type": "display_data"
    }
   ],
   "source": [
    "  pdf(paste0(plotpath, \"plot_testdata.pdf\"),\n",
    "      width = 30,\n",
    "      height = 20,\n",
    "      useDingbats = FALSE,\n",
    "      onefile = FALSE)\n",
    "  print(plot_testdata)\n",
    "  dev.off()"
   ]
  },
  {
   "cell_type": "markdown",
   "metadata": {},
   "source": [
    "# Adaptive"
   ]
  },
  {
   "cell_type": "code",
   "execution_count": 39,
   "metadata": {},
   "outputs": [],
   "source": [
    "adapt_pbmc <- read.table(paste0(datapath, \"Immunoseq/A037_PBMC.tsv\"), sep = \"\\t\",\n",
    "                   header = T, stringsAsFactors = F)"
   ]
  },
  {
   "cell_type": "code",
   "execution_count": 40,
   "metadata": {},
   "outputs": [
    {
     "data": {
      "text/html": [
       "161914"
      ],
      "text/latex": [
       "161914"
      ],
      "text/markdown": [
       "161914"
      ],
      "text/plain": [
       "[1] 161914"
      ]
     },
     "metadata": {},
     "output_type": "display_data"
    }
   ],
   "source": [
    "sum(adapt_pbmc$count..templates.)"
   ]
  },
  {
   "cell_type": "code",
   "execution_count": 41,
   "metadata": {},
   "outputs": [],
   "source": [
    "adapt_pbmc$cloneCount <- adapt_pbmc$count..templates.\n",
    "adapt_pbmc$cloneFraction <- adapt_pbmc$frequencyCount...."
   ]
  },
  {
   "cell_type": "code",
   "execution_count": 42,
   "metadata": {},
   "outputs": [],
   "source": [
    "adapt_pbmc <- adapt_pbmc[adapt_pbmc$aminoAcid != \"\", ]"
   ]
  },
  {
   "cell_type": "code",
   "execution_count": 43,
   "metadata": {},
   "outputs": [
    {
     "data": {
      "text/html": [
       "<style>\n",
       ".list-inline {list-style: none; margin:0; padding: 0}\n",
       ".list-inline>li {display: inline-block}\n",
       ".list-inline>li:not(:last-child)::after {content: \"\\00b7\"; padding: 0 .5ex}\n",
       "</style>\n",
       "<ol class=list-inline><li>82663</li><li>49</li></ol>\n"
      ],
      "text/latex": [
       "\\begin{enumerate*}\n",
       "\\item 82663\n",
       "\\item 49\n",
       "\\end{enumerate*}\n"
      ],
      "text/markdown": [
       "1. 82663\n",
       "2. 49\n",
       "\n",
       "\n"
      ],
      "text/plain": [
       "[1] 82663    49"
      ]
     },
     "metadata": {},
     "output_type": "display_data"
    }
   ],
   "source": [
    "dim(adapt_pbmc)"
   ]
  },
  {
   "cell_type": "code",
   "execution_count": 44,
   "metadata": {},
   "outputs": [],
   "source": [
    "jurkat <- read.table(paste0(datapath, \"capTCRseq/testdataset/CLONES_TRBJurkat.txt\"), sep = \"\\t\",\n",
    "                   header = T, stringsAsFactors = F)"
   ]
  },
  {
   "cell_type": "code",
   "execution_count": 45,
   "metadata": {},
   "outputs": [],
   "source": [
    "jurkattemplate <- adapt_pbmc[0,]"
   ]
  },
  {
   "cell_type": "code",
   "execution_count": 46,
   "metadata": {},
   "outputs": [],
   "source": [
    "jurkattemplate[nrow(jurkattemplate)+1,] <- NA"
   ]
  },
  {
   "cell_type": "code",
   "execution_count": 47,
   "metadata": {},
   "outputs": [],
   "source": [
    "jurkattemplate$nucleotide[1] <- \"TGTGCCAGCAGTTTCTCGACCTGTTCGGCTAACTATGGCTACACCTTC\"\n",
    "jurkattemplate$aminoAcid[1] <- \"CASSFSTCSANYGYTF\""
   ]
  },
  {
   "cell_type": "code",
   "execution_count": 48,
   "metadata": {
    "scrolled": true
   },
   "outputs": [
    {
     "name": "stdout",
     "output_type": "stream",
     "text": [
      "    Min.  1st Qu.   Median     Mean  3rd Qu.     Max. \n",
      "   1.000    1.000    1.000    1.601    1.000 1545.000 \n",
      "[1] 132356\n"
     ]
    },
    {
     "name": "stderr",
     "output_type": "stream",
     "text": [
      "6617.8\n",
      "\n"
     ]
    },
    {
     "name": "stdout",
     "output_type": "stream",
     "text": [
      "[1] 6617\n"
     ]
    },
    {
     "name": "stderr",
     "output_type": "stream",
     "text": [
      "13235.6\n",
      "\n"
     ]
    },
    {
     "name": "stdout",
     "output_type": "stream",
     "text": [
      "[1] 13235\n"
     ]
    },
    {
     "name": "stderr",
     "output_type": "stream",
     "text": [
      "19853.4\n",
      "\n"
     ]
    },
    {
     "name": "stdout",
     "output_type": "stream",
     "text": [
      "[1] 19853\n"
     ]
    },
    {
     "name": "stderr",
     "output_type": "stream",
     "text": [
      "26471.2\n",
      "\n"
     ]
    },
    {
     "name": "stdout",
     "output_type": "stream",
     "text": [
      "[1] 26471\n"
     ]
    },
    {
     "name": "stderr",
     "output_type": "stream",
     "text": [
      "33089\n",
      "\n"
     ]
    },
    {
     "name": "stdout",
     "output_type": "stream",
     "text": [
      "[1] 33089\n"
     ]
    },
    {
     "name": "stderr",
     "output_type": "stream",
     "text": [
      "39706.8\n",
      "\n"
     ]
    },
    {
     "name": "stdout",
     "output_type": "stream",
     "text": [
      "[1] 39705\n"
     ]
    },
    {
     "name": "stderr",
     "output_type": "stream",
     "text": [
      "46324.6\n",
      "\n"
     ]
    },
    {
     "name": "stdout",
     "output_type": "stream",
     "text": [
      "[1] 46323\n"
     ]
    },
    {
     "name": "stderr",
     "output_type": "stream",
     "text": [
      "52942.4\n",
      "\n"
     ]
    },
    {
     "name": "stdout",
     "output_type": "stream",
     "text": [
      "[1] 52942\n"
     ]
    },
    {
     "name": "stderr",
     "output_type": "stream",
     "text": [
      "59560.2\n",
      "\n"
     ]
    },
    {
     "name": "stdout",
     "output_type": "stream",
     "text": [
      "[1] 59560\n"
     ]
    },
    {
     "name": "stderr",
     "output_type": "stream",
     "text": [
      "66178\n",
      "\n"
     ]
    },
    {
     "name": "stdout",
     "output_type": "stream",
     "text": [
      "[1] 66178\n"
     ]
    },
    {
     "name": "stderr",
     "output_type": "stream",
     "text": [
      "72795.8\n",
      "\n"
     ]
    },
    {
     "name": "stdout",
     "output_type": "stream",
     "text": [
      "[1] 72791\n"
     ]
    },
    {
     "name": "stderr",
     "output_type": "stream",
     "text": [
      "79413.6\n",
      "\n"
     ]
    },
    {
     "name": "stdout",
     "output_type": "stream",
     "text": [
      "[1] 79413\n"
     ]
    },
    {
     "name": "stderr",
     "output_type": "stream",
     "text": [
      "86031.4\n",
      "\n"
     ]
    },
    {
     "name": "stdout",
     "output_type": "stream",
     "text": [
      "[1] 86029\n"
     ]
    },
    {
     "name": "stderr",
     "output_type": "stream",
     "text": [
      "92649.2\n",
      "\n"
     ]
    },
    {
     "name": "stdout",
     "output_type": "stream",
     "text": [
      "[1] 92649\n"
     ]
    },
    {
     "name": "stderr",
     "output_type": "stream",
     "text": [
      "99267\n",
      "\n"
     ]
    },
    {
     "name": "stdout",
     "output_type": "stream",
     "text": [
      "[1] 98240\n"
     ]
    },
    {
     "name": "stderr",
     "output_type": "stream",
     "text": [
      "105884.8\n",
      "\n"
     ]
    },
    {
     "name": "stdout",
     "output_type": "stream",
     "text": [
      "[1] 105884\n"
     ]
    },
    {
     "name": "stderr",
     "output_type": "stream",
     "text": [
      "112502.6\n",
      "\n"
     ]
    },
    {
     "name": "stdout",
     "output_type": "stream",
     "text": [
      "[1] 111719\n"
     ]
    },
    {
     "name": "stderr",
     "output_type": "stream",
     "text": [
      "119120.4\n",
      "\n"
     ]
    },
    {
     "name": "stdout",
     "output_type": "stream",
     "text": [
      "[1] 119120\n"
     ]
    },
    {
     "name": "stderr",
     "output_type": "stream",
     "text": [
      "125738.2\n",
      "\n"
     ]
    },
    {
     "name": "stdout",
     "output_type": "stream",
     "text": [
      "[1] 125738\n"
     ]
    },
    {
     "name": "stderr",
     "output_type": "stream",
     "text": [
      "132356\n",
      "\n"
     ]
    },
    {
     "name": "stdout",
     "output_type": "stream",
     "text": [
      "[1] 132356\n"
     ]
    }
   ],
   "source": [
    "addjurkat.fx(adapt_pbmc, jurkattemplate, 0.05, \"/Users/anabbi/OneDrive - UHN/Documents/INTERCEPT/Data/Immunoseq/\")"
   ]
  },
  {
   "cell_type": "code",
   "execution_count": 49,
   "metadata": {},
   "outputs": [],
   "source": [
    "file_list <- list.files(paste0(datapath, \"/Immunoseq/\"), pattern = \"addjurkat\", recursive = T)"
   ]
  },
  {
   "cell_type": "code",
   "execution_count": 50,
   "metadata": {},
   "outputs": [
    {
     "data": {
      "text/html": [
       "<style>\n",
       ".list-inline {list-style: none; margin:0; padding: 0}\n",
       ".list-inline>li {display: inline-block}\n",
       ".list-inline>li:not(:last-child)::after {content: \"\\00b7\"; padding: 0 .5ex}\n",
       "</style>\n",
       "<ol class=list-inline><li>'CLONES_TRBaddjurkat_105884.8_0.8.txt'</li><li>'CLONES_TRBaddjurkat_112502.6_0.85.txt'</li><li>'CLONES_TRBaddjurkat_119120.4_0.9.txt'</li><li>'CLONES_TRBaddjurkat_125738.2_0.95.txt'</li><li>'CLONES_TRBaddjurkat_13235.6_0.1.txt'</li><li>'CLONES_TRBaddjurkat_132356_1.txt'</li><li>'CLONES_TRBaddjurkat_19853.4_0.15.txt'</li><li>'CLONES_TRBaddjurkat_26471.2_0.2.txt'</li><li>'CLONES_TRBaddjurkat_33089_0.25.txt'</li><li>'CLONES_TRBaddjurkat_39706.8_0.3.txt'</li><li>'CLONES_TRBaddjurkat_46324.6_0.35.txt'</li><li>'CLONES_TRBaddjurkat_52942.4_0.4.txt'</li><li>'CLONES_TRBaddjurkat_59560.2_0.45.txt'</li><li>'CLONES_TRBaddjurkat_6617.8_0.05.txt'</li><li>'CLONES_TRBaddjurkat_66178_0.5.txt'</li><li>'CLONES_TRBaddjurkat_72795.8_0.55.txt'</li><li>'CLONES_TRBaddjurkat_79413.6_0.6.txt'</li><li>'CLONES_TRBaddjurkat_86031.4_0.65.txt'</li><li>'CLONES_TRBaddjurkat_92649.2_0.7.txt'</li><li>'CLONES_TRBaddjurkat_99267_0.75.txt'</li><li>'divstats_TRBaddjurkat.csv'</li></ol>\n"
      ],
      "text/latex": [
       "\\begin{enumerate*}\n",
       "\\item 'CLONES\\_TRBaddjurkat\\_105884.8\\_0.8.txt'\n",
       "\\item 'CLONES\\_TRBaddjurkat\\_112502.6\\_0.85.txt'\n",
       "\\item 'CLONES\\_TRBaddjurkat\\_119120.4\\_0.9.txt'\n",
       "\\item 'CLONES\\_TRBaddjurkat\\_125738.2\\_0.95.txt'\n",
       "\\item 'CLONES\\_TRBaddjurkat\\_13235.6\\_0.1.txt'\n",
       "\\item 'CLONES\\_TRBaddjurkat\\_132356\\_1.txt'\n",
       "\\item 'CLONES\\_TRBaddjurkat\\_19853.4\\_0.15.txt'\n",
       "\\item 'CLONES\\_TRBaddjurkat\\_26471.2\\_0.2.txt'\n",
       "\\item 'CLONES\\_TRBaddjurkat\\_33089\\_0.25.txt'\n",
       "\\item 'CLONES\\_TRBaddjurkat\\_39706.8\\_0.3.txt'\n",
       "\\item 'CLONES\\_TRBaddjurkat\\_46324.6\\_0.35.txt'\n",
       "\\item 'CLONES\\_TRBaddjurkat\\_52942.4\\_0.4.txt'\n",
       "\\item 'CLONES\\_TRBaddjurkat\\_59560.2\\_0.45.txt'\n",
       "\\item 'CLONES\\_TRBaddjurkat\\_6617.8\\_0.05.txt'\n",
       "\\item 'CLONES\\_TRBaddjurkat\\_66178\\_0.5.txt'\n",
       "\\item 'CLONES\\_TRBaddjurkat\\_72795.8\\_0.55.txt'\n",
       "\\item 'CLONES\\_TRBaddjurkat\\_79413.6\\_0.6.txt'\n",
       "\\item 'CLONES\\_TRBaddjurkat\\_86031.4\\_0.65.txt'\n",
       "\\item 'CLONES\\_TRBaddjurkat\\_92649.2\\_0.7.txt'\n",
       "\\item 'CLONES\\_TRBaddjurkat\\_99267\\_0.75.txt'\n",
       "\\item 'divstats\\_TRBaddjurkat.csv'\n",
       "\\end{enumerate*}\n"
      ],
      "text/markdown": [
       "1. 'CLONES_TRBaddjurkat_105884.8_0.8.txt'\n",
       "2. 'CLONES_TRBaddjurkat_112502.6_0.85.txt'\n",
       "3. 'CLONES_TRBaddjurkat_119120.4_0.9.txt'\n",
       "4. 'CLONES_TRBaddjurkat_125738.2_0.95.txt'\n",
       "5. 'CLONES_TRBaddjurkat_13235.6_0.1.txt'\n",
       "6. 'CLONES_TRBaddjurkat_132356_1.txt'\n",
       "7. 'CLONES_TRBaddjurkat_19853.4_0.15.txt'\n",
       "8. 'CLONES_TRBaddjurkat_26471.2_0.2.txt'\n",
       "9. 'CLONES_TRBaddjurkat_33089_0.25.txt'\n",
       "10. 'CLONES_TRBaddjurkat_39706.8_0.3.txt'\n",
       "11. 'CLONES_TRBaddjurkat_46324.6_0.35.txt'\n",
       "12. 'CLONES_TRBaddjurkat_52942.4_0.4.txt'\n",
       "13. 'CLONES_TRBaddjurkat_59560.2_0.45.txt'\n",
       "14. 'CLONES_TRBaddjurkat_6617.8_0.05.txt'\n",
       "15. 'CLONES_TRBaddjurkat_66178_0.5.txt'\n",
       "16. 'CLONES_TRBaddjurkat_72795.8_0.55.txt'\n",
       "17. 'CLONES_TRBaddjurkat_79413.6_0.6.txt'\n",
       "18. 'CLONES_TRBaddjurkat_86031.4_0.65.txt'\n",
       "19. 'CLONES_TRBaddjurkat_92649.2_0.7.txt'\n",
       "20. 'CLONES_TRBaddjurkat_99267_0.75.txt'\n",
       "21. 'divstats_TRBaddjurkat.csv'\n",
       "\n",
       "\n"
      ],
      "text/plain": [
       " [1] \"CLONES_TRBaddjurkat_105884.8_0.8.txt\" \n",
       " [2] \"CLONES_TRBaddjurkat_112502.6_0.85.txt\"\n",
       " [3] \"CLONES_TRBaddjurkat_119120.4_0.9.txt\" \n",
       " [4] \"CLONES_TRBaddjurkat_125738.2_0.95.txt\"\n",
       " [5] \"CLONES_TRBaddjurkat_13235.6_0.1.txt\"  \n",
       " [6] \"CLONES_TRBaddjurkat_132356_1.txt\"     \n",
       " [7] \"CLONES_TRBaddjurkat_19853.4_0.15.txt\" \n",
       " [8] \"CLONES_TRBaddjurkat_26471.2_0.2.txt\"  \n",
       " [9] \"CLONES_TRBaddjurkat_33089_0.25.txt\"   \n",
       "[10] \"CLONES_TRBaddjurkat_39706.8_0.3.txt\"  \n",
       "[11] \"CLONES_TRBaddjurkat_46324.6_0.35.txt\" \n",
       "[12] \"CLONES_TRBaddjurkat_52942.4_0.4.txt\"  \n",
       "[13] \"CLONES_TRBaddjurkat_59560.2_0.45.txt\" \n",
       "[14] \"CLONES_TRBaddjurkat_6617.8_0.05.txt\"  \n",
       "[15] \"CLONES_TRBaddjurkat_66178_0.5.txt\"    \n",
       "[16] \"CLONES_TRBaddjurkat_72795.8_0.55.txt\" \n",
       "[17] \"CLONES_TRBaddjurkat_79413.6_0.6.txt\"  \n",
       "[18] \"CLONES_TRBaddjurkat_86031.4_0.65.txt\" \n",
       "[19] \"CLONES_TRBaddjurkat_92649.2_0.7.txt\"  \n",
       "[20] \"CLONES_TRBaddjurkat_99267_0.75.txt\"   \n",
       "[21] \"divstats_TRBaddjurkat.csv\"            "
      ]
     },
     "metadata": {},
     "output_type": "display_data"
    }
   ],
   "source": [
    "file_list"
   ]
  },
  {
   "cell_type": "code",
   "execution_count": 51,
   "metadata": {},
   "outputs": [],
   "source": [
    "file_list <- c(file_list, \"A037_PBMC.tsv\")"
   ]
  },
  {
   "cell_type": "code",
   "execution_count": 52,
   "metadata": {},
   "outputs": [],
   "source": [
    "file_list <- file_list[!grepl(\"csv\", file_list)]"
   ]
  },
  {
   "cell_type": "code",
   "execution_count": 53,
   "metadata": {},
   "outputs": [
    {
     "data": {
      "text/html": [
       "<style>\n",
       ".list-inline {list-style: none; margin:0; padding: 0}\n",
       ".list-inline>li {display: inline-block}\n",
       ".list-inline>li:not(:last-child)::after {content: \"\\00b7\"; padding: 0 .5ex}\n",
       "</style>\n",
       "<ol class=list-inline><li>'CLONES_TRBaddjurkat_105884.8_0.8.txt'</li><li>'CLONES_TRBaddjurkat_112502.6_0.85.txt'</li><li>'CLONES_TRBaddjurkat_119120.4_0.9.txt'</li><li>'CLONES_TRBaddjurkat_125738.2_0.95.txt'</li><li>'CLONES_TRBaddjurkat_13235.6_0.1.txt'</li><li>'CLONES_TRBaddjurkat_132356_1.txt'</li><li>'CLONES_TRBaddjurkat_19853.4_0.15.txt'</li><li>'CLONES_TRBaddjurkat_26471.2_0.2.txt'</li><li>'CLONES_TRBaddjurkat_33089_0.25.txt'</li><li>'CLONES_TRBaddjurkat_39706.8_0.3.txt'</li><li>'CLONES_TRBaddjurkat_46324.6_0.35.txt'</li><li>'CLONES_TRBaddjurkat_52942.4_0.4.txt'</li><li>'CLONES_TRBaddjurkat_59560.2_0.45.txt'</li><li>'CLONES_TRBaddjurkat_6617.8_0.05.txt'</li><li>'CLONES_TRBaddjurkat_66178_0.5.txt'</li><li>'CLONES_TRBaddjurkat_72795.8_0.55.txt'</li><li>'CLONES_TRBaddjurkat_79413.6_0.6.txt'</li><li>'CLONES_TRBaddjurkat_86031.4_0.65.txt'</li><li>'CLONES_TRBaddjurkat_92649.2_0.7.txt'</li><li>'CLONES_TRBaddjurkat_99267_0.75.txt'</li><li>'A037_PBMC.tsv'</li></ol>\n"
      ],
      "text/latex": [
       "\\begin{enumerate*}\n",
       "\\item 'CLONES\\_TRBaddjurkat\\_105884.8\\_0.8.txt'\n",
       "\\item 'CLONES\\_TRBaddjurkat\\_112502.6\\_0.85.txt'\n",
       "\\item 'CLONES\\_TRBaddjurkat\\_119120.4\\_0.9.txt'\n",
       "\\item 'CLONES\\_TRBaddjurkat\\_125738.2\\_0.95.txt'\n",
       "\\item 'CLONES\\_TRBaddjurkat\\_13235.6\\_0.1.txt'\n",
       "\\item 'CLONES\\_TRBaddjurkat\\_132356\\_1.txt'\n",
       "\\item 'CLONES\\_TRBaddjurkat\\_19853.4\\_0.15.txt'\n",
       "\\item 'CLONES\\_TRBaddjurkat\\_26471.2\\_0.2.txt'\n",
       "\\item 'CLONES\\_TRBaddjurkat\\_33089\\_0.25.txt'\n",
       "\\item 'CLONES\\_TRBaddjurkat\\_39706.8\\_0.3.txt'\n",
       "\\item 'CLONES\\_TRBaddjurkat\\_46324.6\\_0.35.txt'\n",
       "\\item 'CLONES\\_TRBaddjurkat\\_52942.4\\_0.4.txt'\n",
       "\\item 'CLONES\\_TRBaddjurkat\\_59560.2\\_0.45.txt'\n",
       "\\item 'CLONES\\_TRBaddjurkat\\_6617.8\\_0.05.txt'\n",
       "\\item 'CLONES\\_TRBaddjurkat\\_66178\\_0.5.txt'\n",
       "\\item 'CLONES\\_TRBaddjurkat\\_72795.8\\_0.55.txt'\n",
       "\\item 'CLONES\\_TRBaddjurkat\\_79413.6\\_0.6.txt'\n",
       "\\item 'CLONES\\_TRBaddjurkat\\_86031.4\\_0.65.txt'\n",
       "\\item 'CLONES\\_TRBaddjurkat\\_92649.2\\_0.7.txt'\n",
       "\\item 'CLONES\\_TRBaddjurkat\\_99267\\_0.75.txt'\n",
       "\\item 'A037\\_PBMC.tsv'\n",
       "\\end{enumerate*}\n"
      ],
      "text/markdown": [
       "1. 'CLONES_TRBaddjurkat_105884.8_0.8.txt'\n",
       "2. 'CLONES_TRBaddjurkat_112502.6_0.85.txt'\n",
       "3. 'CLONES_TRBaddjurkat_119120.4_0.9.txt'\n",
       "4. 'CLONES_TRBaddjurkat_125738.2_0.95.txt'\n",
       "5. 'CLONES_TRBaddjurkat_13235.6_0.1.txt'\n",
       "6. 'CLONES_TRBaddjurkat_132356_1.txt'\n",
       "7. 'CLONES_TRBaddjurkat_19853.4_0.15.txt'\n",
       "8. 'CLONES_TRBaddjurkat_26471.2_0.2.txt'\n",
       "9. 'CLONES_TRBaddjurkat_33089_0.25.txt'\n",
       "10. 'CLONES_TRBaddjurkat_39706.8_0.3.txt'\n",
       "11. 'CLONES_TRBaddjurkat_46324.6_0.35.txt'\n",
       "12. 'CLONES_TRBaddjurkat_52942.4_0.4.txt'\n",
       "13. 'CLONES_TRBaddjurkat_59560.2_0.45.txt'\n",
       "14. 'CLONES_TRBaddjurkat_6617.8_0.05.txt'\n",
       "15. 'CLONES_TRBaddjurkat_66178_0.5.txt'\n",
       "16. 'CLONES_TRBaddjurkat_72795.8_0.55.txt'\n",
       "17. 'CLONES_TRBaddjurkat_79413.6_0.6.txt'\n",
       "18. 'CLONES_TRBaddjurkat_86031.4_0.65.txt'\n",
       "19. 'CLONES_TRBaddjurkat_92649.2_0.7.txt'\n",
       "20. 'CLONES_TRBaddjurkat_99267_0.75.txt'\n",
       "21. 'A037_PBMC.tsv'\n",
       "\n",
       "\n"
      ],
      "text/plain": [
       " [1] \"CLONES_TRBaddjurkat_105884.8_0.8.txt\" \n",
       " [2] \"CLONES_TRBaddjurkat_112502.6_0.85.txt\"\n",
       " [3] \"CLONES_TRBaddjurkat_119120.4_0.9.txt\" \n",
       " [4] \"CLONES_TRBaddjurkat_125738.2_0.95.txt\"\n",
       " [5] \"CLONES_TRBaddjurkat_13235.6_0.1.txt\"  \n",
       " [6] \"CLONES_TRBaddjurkat_132356_1.txt\"     \n",
       " [7] \"CLONES_TRBaddjurkat_19853.4_0.15.txt\" \n",
       " [8] \"CLONES_TRBaddjurkat_26471.2_0.2.txt\"  \n",
       " [9] \"CLONES_TRBaddjurkat_33089_0.25.txt\"   \n",
       "[10] \"CLONES_TRBaddjurkat_39706.8_0.3.txt\"  \n",
       "[11] \"CLONES_TRBaddjurkat_46324.6_0.35.txt\" \n",
       "[12] \"CLONES_TRBaddjurkat_52942.4_0.4.txt\"  \n",
       "[13] \"CLONES_TRBaddjurkat_59560.2_0.45.txt\" \n",
       "[14] \"CLONES_TRBaddjurkat_6617.8_0.05.txt\"  \n",
       "[15] \"CLONES_TRBaddjurkat_66178_0.5.txt\"    \n",
       "[16] \"CLONES_TRBaddjurkat_72795.8_0.55.txt\" \n",
       "[17] \"CLONES_TRBaddjurkat_79413.6_0.6.txt\"  \n",
       "[18] \"CLONES_TRBaddjurkat_86031.4_0.65.txt\" \n",
       "[19] \"CLONES_TRBaddjurkat_92649.2_0.7.txt\"  \n",
       "[20] \"CLONES_TRBaddjurkat_99267_0.75.txt\"   \n",
       "[21] \"A037_PBMC.tsv\"                        "
      ]
     },
     "metadata": {},
     "output_type": "display_data"
    }
   ],
   "source": [
    "file_list"
   ]
  },
  {
   "cell_type": "code",
   "execution_count": 57,
   "metadata": {},
   "outputs": [
    {
     "data": {
      "text/html": [
       "1"
      ],
      "text/latex": [
       "1"
      ],
      "text/markdown": [
       "1"
      ],
      "text/plain": [
       "[1] 1"
      ]
     },
     "metadata": {},
     "output_type": "display_data"
    }
   ],
   "source": [
    "sum(colnames(jurkat) == \"cloneCount\")"
   ]
  },
  {
   "cell_type": "markdown",
   "metadata": {},
   "source": [
    "## Track Jurkat clone"
   ]
  },
  {
   "cell_type": "code",
   "execution_count": 58,
   "metadata": {},
   "outputs": [],
   "source": [
    "immunelist_adaptive.fx <- function(file_list, datapath, chain){\n",
    "    \n",
    "    readlist = list()\n",
    "    i <- 1\n",
    "    for (f in file_list) {\n",
    "        adaptfle <- read.table(paste0(datapath, f), header = TRUE, sep = \"\\t\", stringsAsFactors = FALSE)\n",
    "        \n",
    "        if(sum(colnames(adaptfle) == \"cloneCount\") == 0){\n",
    "            adaptfle$cloneCount <- adaptfle$count..templates.\n",
    "            adaptfle$cloneFraction <- adaptfle$frequencyCount....   }\n",
    "            \n",
    "        message(\"number of clones in file:\", f)\n",
    "        print(nrow(adaptfle))\n",
    "        if (nrow(adaptfle) < 1) {\n",
    "            (next)()\n",
    "        }\n",
    "        \n",
    "\n",
    "        adaptfle <- adaptfle[adaptfle$aminoAcid != \"\", ]\n",
    "        readlist[[i]] <- adaptfle$cloneCount\n",
    "        names(readlist)[i] <- f\n",
    "        i <- i + 1\n",
    "    }\n",
    "    return(readlist)\n",
    "}"
   ]
  },
  {
   "cell_type": "code",
   "execution_count": 59,
   "metadata": {
    "scrolled": true
   },
   "outputs": [
    {
     "name": "stderr",
     "output_type": "stream",
     "text": [
      "number of clones in file:CLONES_TRBaddjurkat_105884.8_0.8.txt\n",
      "\n"
     ]
    },
    {
     "name": "stdout",
     "output_type": "stream",
     "text": [
      "[1] 16621\n"
     ]
    },
    {
     "name": "stderr",
     "output_type": "stream",
     "text": [
      "number of clones in file:CLONES_TRBaddjurkat_112502.6_0.85.txt\n",
      "\n"
     ]
    },
    {
     "name": "stdout",
     "output_type": "stream",
     "text": [
      "[1] 12402\n"
     ]
    },
    {
     "name": "stderr",
     "output_type": "stream",
     "text": [
      "number of clones in file:CLONES_TRBaddjurkat_119120.4_0.9.txt\n",
      "\n"
     ]
    },
    {
     "name": "stdout",
     "output_type": "stream",
     "text": [
      "[1] 8286\n"
     ]
    },
    {
     "name": "stderr",
     "output_type": "stream",
     "text": [
      "number of clones in file:CLONES_TRBaddjurkat_125738.2_0.95.txt\n",
      "\n"
     ]
    },
    {
     "name": "stdout",
     "output_type": "stream",
     "text": [
      "[1] 4440\n"
     ]
    },
    {
     "name": "stderr",
     "output_type": "stream",
     "text": [
      "number of clones in file:CLONES_TRBaddjurkat_13235.6_0.1.txt\n",
      "\n"
     ]
    },
    {
     "name": "stdout",
     "output_type": "stream",
     "text": [
      "[1] 73628\n"
     ]
    },
    {
     "name": "stderr",
     "output_type": "stream",
     "text": [
      "number of clones in file:CLONES_TRBaddjurkat_132356_1.txt\n",
      "\n"
     ]
    },
    {
     "name": "stdout",
     "output_type": "stream",
     "text": [
      "[1] 1\n"
     ]
    },
    {
     "name": "stderr",
     "output_type": "stream",
     "text": [
      "number of clones in file:CLONES_TRBaddjurkat_19853.4_0.15.txt\n",
      "\n"
     ]
    },
    {
     "name": "stdout",
     "output_type": "stream",
     "text": [
      "[1] 68975\n"
     ]
    },
    {
     "name": "stderr",
     "output_type": "stream",
     "text": [
      "number of clones in file:CLONES_TRBaddjurkat_26471.2_0.2.txt\n",
      "\n"
     ]
    },
    {
     "name": "stdout",
     "output_type": "stream",
     "text": [
      "[1] 65973\n"
     ]
    },
    {
     "name": "stderr",
     "output_type": "stream",
     "text": [
      "number of clones in file:CLONES_TRBaddjurkat_33089_0.25.txt\n",
      "\n"
     ]
    },
    {
     "name": "stdout",
     "output_type": "stream",
     "text": [
      "[1] 61413\n"
     ]
    },
    {
     "name": "stderr",
     "output_type": "stream",
     "text": [
      "number of clones in file:CLONES_TRBaddjurkat_39706.8_0.3.txt\n",
      "\n"
     ]
    },
    {
     "name": "stdout",
     "output_type": "stream",
     "text": [
      "[1] 56648\n"
     ]
    },
    {
     "name": "stderr",
     "output_type": "stream",
     "text": [
      "number of clones in file:CLONES_TRBaddjurkat_46324.6_0.35.txt\n",
      "\n"
     ]
    },
    {
     "name": "stdout",
     "output_type": "stream",
     "text": [
      "[1] 51976\n"
     ]
    },
    {
     "name": "stderr",
     "output_type": "stream",
     "text": [
      "number of clones in file:CLONES_TRBaddjurkat_52942.4_0.4.txt\n",
      "\n"
     ]
    },
    {
     "name": "stdout",
     "output_type": "stream",
     "text": [
      "[1] 48525\n"
     ]
    },
    {
     "name": "stderr",
     "output_type": "stream",
     "text": [
      "number of clones in file:CLONES_TRBaddjurkat_59560.2_0.45.txt\n",
      "\n"
     ]
    },
    {
     "name": "stdout",
     "output_type": "stream",
     "text": [
      "[1] 44723\n"
     ]
    },
    {
     "name": "stderr",
     "output_type": "stream",
     "text": [
      "number of clones in file:CLONES_TRBaddjurkat_6617.8_0.05.txt\n",
      "\n"
     ]
    },
    {
     "name": "stdout",
     "output_type": "stream",
     "text": [
      "[1] 77904\n"
     ]
    },
    {
     "name": "stderr",
     "output_type": "stream",
     "text": [
      "number of clones in file:CLONES_TRBaddjurkat_66178_0.5.txt\n",
      "\n"
     ]
    },
    {
     "name": "stdout",
     "output_type": "stream",
     "text": [
      "[1] 40703\n"
     ]
    },
    {
     "name": "stderr",
     "output_type": "stream",
     "text": [
      "number of clones in file:CLONES_TRBaddjurkat_72795.8_0.55.txt\n",
      "\n"
     ]
    },
    {
     "name": "stdout",
     "output_type": "stream",
     "text": [
      "[1] 36413\n"
     ]
    },
    {
     "name": "stderr",
     "output_type": "stream",
     "text": [
      "number of clones in file:CLONES_TRBaddjurkat_79413.6_0.6.txt\n",
      "\n"
     ]
    },
    {
     "name": "stdout",
     "output_type": "stream",
     "text": [
      "[1] 32701\n"
     ]
    },
    {
     "name": "stderr",
     "output_type": "stream",
     "text": [
      "number of clones in file:CLONES_TRBaddjurkat_86031.4_0.65.txt\n",
      "\n"
     ]
    },
    {
     "name": "stdout",
     "output_type": "stream",
     "text": [
      "[1] 28373\n"
     ]
    },
    {
     "name": "stderr",
     "output_type": "stream",
     "text": [
      "number of clones in file:CLONES_TRBaddjurkat_92649.2_0.7.txt\n",
      "\n"
     ]
    },
    {
     "name": "stdout",
     "output_type": "stream",
     "text": [
      "[1] 23945\n"
     ]
    },
    {
     "name": "stderr",
     "output_type": "stream",
     "text": [
      "number of clones in file:CLONES_TRBaddjurkat_99267_0.75.txt\n",
      "\n"
     ]
    },
    {
     "name": "stdout",
     "output_type": "stream",
     "text": [
      "[1] 20873\n"
     ]
    },
    {
     "name": "stderr",
     "output_type": "stream",
     "text": [
      "number of clones in file:A037_PBMC.tsv\n",
      "\n"
     ]
    },
    {
     "name": "stdout",
     "output_type": "stream",
     "text": [
      "[1] 101808\n"
     ]
    }
   ],
   "source": [
    "batch <- immunelist_adaptive.fx(file_list, paste0(datapath, \"/Immunoseq/\"), \"TRB\")"
   ]
  },
  {
   "cell_type": "code",
   "execution_count": 60,
   "metadata": {},
   "outputs": [
    {
     "data": {
      "text/html": [
       "<strong>$CLONES_TRBaddjurkat_105884.8_0.8.txt</strong> = <style>\n",
       ".list-inline {list-style: none; margin:0; padding: 0}\n",
       ".list-inline>li {display: inline-block}\n",
       ".list-inline>li:not(:last-child)::after {content: \"\\00b7\"; padding: 0 .5ex}\n",
       "</style>\n",
       "<ol class=list-inline><li>1545</li><li>423</li><li>328</li><li>209</li><li>157</li><li>148</li><li>140</li><li>131</li><li>125</li><li>79</li><li>76</li><li>76</li><li>75</li><li>71</li><li>59</li><li>56</li><li>52</li><li>51</li><li>50</li><li>48</li><li>41</li><li>41</li><li>37</li><li>35</li><li>34</li><li>34</li><li>34</li><li>31</li><li>30</li><li>29</li><li>28</li><li>28</li><li>27</li><li>25</li><li>24</li><li>24</li><li>23</li><li>22</li><li>22</li><li>22</li><li>21</li><li>21</li><li>21</li><li>21</li><li>21</li><li>21</li><li>20</li><li>20</li><li>19</li><li>19</li><li>19</li><li>19</li><li>19</li><li>19</li><li>19</li><li>18</li><li>18</li><li>17</li><li>17</li><li>17</li><li>17</li><li>17</li><li>16</li><li>16</li><li>16</li><li>16</li><li>16</li><li>16</li><li>16</li><li>16</li><li>16</li><li>16</li><li>15</li><li>15</li><li>15</li><li>15</li><li>15</li><li>15</li><li>15</li><li>15</li><li>14</li><li>14</li><li>14</li><li>14</li><li>14</li><li>14</li><li>14</li><li>14</li><li>14</li><li>14</li><li>13</li><li>13</li><li>13</li><li>13</li><li>13</li><li>13</li><li>13</li><li>12</li><li>12</li><li>12</li><li>12</li><li>12</li><li>12</li><li>12</li><li>12</li><li>11</li><li>11</li><li>11</li><li>11</li><li>11</li><li>11</li><li>11</li><li>11</li><li>11</li><li>11</li><li>11</li><li>11</li><li>11</li><li>11</li><li>11</li><li>11</li><li>11</li><li>10</li><li>10</li><li>10</li><li>10</li><li>10</li><li>10</li><li>10</li><li>10</li><li>10</li><li>10</li><li>10</li><li>10</li><li>10</li><li>10</li><li>10</li><li>10</li><li>10</li><li>10</li><li>10</li><li>9</li><li>9</li><li>9</li><li>9</li><li>9</li><li>9</li><li>9</li><li>9</li><li>9</li><li>9</li><li>9</li><li>9</li><li>9</li><li>9</li><li>9</li><li>9</li><li>9</li><li>9</li><li>9</li><li>9</li><li>9</li><li>9</li><li>9</li><li>9</li><li>9</li><li>9</li><li>8</li><li>8</li><li>8</li><li>8</li><li>8</li><li>8</li><li>8</li><li>8</li><li>8</li><li>8</li><li>8</li><li>8</li><li>8</li><li>8</li><li>8</li><li>8</li><li>8</li><li>8</li><li>8</li><li>8</li><li>8</li><li>8</li><li>8</li><li>8</li><li>8</li><li>8</li><li>8</li><li>8</li><li>8</li><li>7</li><li>7</li><li>7</li><li>7</li><li>⋯</li><li>1</li><li>1</li><li>1</li><li>1</li><li>1</li><li>1</li><li>1</li><li>1</li><li>1</li><li>1</li><li>1</li><li>1</li><li>1</li><li>1</li><li>1</li><li>1</li><li>1</li><li>1</li><li>1</li><li>1</li><li>1</li><li>1</li><li>1</li><li>1</li><li>1</li><li>1</li><li>1</li><li>1</li><li>1</li><li>1</li><li>1</li><li>1</li><li>1</li><li>1</li><li>1</li><li>1</li><li>1</li><li>1</li><li>1</li><li>1</li><li>1</li><li>1</li><li>1</li><li>1</li><li>1</li><li>1</li><li>1</li><li>1</li><li>1</li><li>1</li><li>1</li><li>1</li><li>1</li><li>1</li><li>1</li><li>1</li><li>1</li><li>1</li><li>1</li><li>1</li><li>1</li><li>1</li><li>1</li><li>1</li><li>1</li><li>1</li><li>1</li><li>1</li><li>1</li><li>1</li><li>1</li><li>1</li><li>1</li><li>1</li><li>1</li><li>1</li><li>1</li><li>1</li><li>1</li><li>1</li><li>1</li><li>1</li><li>1</li><li>1</li><li>1</li><li>1</li><li>1</li><li>1</li><li>1</li><li>1</li><li>1</li><li>1</li><li>1</li><li>1</li><li>1</li><li>1</li><li>1</li><li>1</li><li>1</li><li>1</li><li>1</li><li>1</li><li>1</li><li>1</li><li>1</li><li>1</li><li>1</li><li>1</li><li>1</li><li>1</li><li>1</li><li>1</li><li>1</li><li>1</li><li>1</li><li>1</li><li>1</li><li>1</li><li>1</li><li>1</li><li>1</li><li>1</li><li>1</li><li>1</li><li>1</li><li>1</li><li>1</li><li>1</li><li>1</li><li>1</li><li>1</li><li>1</li><li>1</li><li>1</li><li>1</li><li>1</li><li>1</li><li>1</li><li>1</li><li>1</li><li>1</li><li>1</li><li>1</li><li>1</li><li>1</li><li>1</li><li>1</li><li>1</li><li>1</li><li>1</li><li>1</li><li>1</li><li>1</li><li>1</li><li>1</li><li>1</li><li>1</li><li>1</li><li>1</li><li>1</li><li>1</li><li>1</li><li>1</li><li>1</li><li>1</li><li>1</li><li>1</li><li>1</li><li>1</li><li>1</li><li>1</li><li>1</li><li>1</li><li>1</li><li>1</li><li>1</li><li>1</li><li>1</li><li>1</li><li>1</li><li>1</li><li>1</li><li>1</li><li>1</li><li>1</li><li>1</li><li>1</li><li>1</li><li>1</li><li>1</li><li>1</li><li>1</li><li>1</li><li>1</li><li>1</li><li>1</li><li>1</li><li>1</li><li>1</li><li>105884.8</li></ol>\n"
      ],
      "text/latex": [
       "\\textbf{\\$CLONES\\_TRBaddjurkat\\_105884.8\\_0.8.txt} = \\begin{enumerate*}\n",
       "\\item 1545\n",
       "\\item 423\n",
       "\\item 328\n",
       "\\item 209\n",
       "\\item 157\n",
       "\\item 148\n",
       "\\item 140\n",
       "\\item 131\n",
       "\\item 125\n",
       "\\item 79\n",
       "\\item 76\n",
       "\\item 76\n",
       "\\item 75\n",
       "\\item 71\n",
       "\\item 59\n",
       "\\item 56\n",
       "\\item 52\n",
       "\\item 51\n",
       "\\item 50\n",
       "\\item 48\n",
       "\\item 41\n",
       "\\item 41\n",
       "\\item 37\n",
       "\\item 35\n",
       "\\item 34\n",
       "\\item 34\n",
       "\\item 34\n",
       "\\item 31\n",
       "\\item 30\n",
       "\\item 29\n",
       "\\item 28\n",
       "\\item 28\n",
       "\\item 27\n",
       "\\item 25\n",
       "\\item 24\n",
       "\\item 24\n",
       "\\item 23\n",
       "\\item 22\n",
       "\\item 22\n",
       "\\item 22\n",
       "\\item 21\n",
       "\\item 21\n",
       "\\item 21\n",
       "\\item 21\n",
       "\\item 21\n",
       "\\item 21\n",
       "\\item 20\n",
       "\\item 20\n",
       "\\item 19\n",
       "\\item 19\n",
       "\\item 19\n",
       "\\item 19\n",
       "\\item 19\n",
       "\\item 19\n",
       "\\item 19\n",
       "\\item 18\n",
       "\\item 18\n",
       "\\item 17\n",
       "\\item 17\n",
       "\\item 17\n",
       "\\item 17\n",
       "\\item 17\n",
       "\\item 16\n",
       "\\item 16\n",
       "\\item 16\n",
       "\\item 16\n",
       "\\item 16\n",
       "\\item 16\n",
       "\\item 16\n",
       "\\item 16\n",
       "\\item 16\n",
       "\\item 16\n",
       "\\item 15\n",
       "\\item 15\n",
       "\\item 15\n",
       "\\item 15\n",
       "\\item 15\n",
       "\\item 15\n",
       "\\item 15\n",
       "\\item 15\n",
       "\\item 14\n",
       "\\item 14\n",
       "\\item 14\n",
       "\\item 14\n",
       "\\item 14\n",
       "\\item 14\n",
       "\\item 14\n",
       "\\item 14\n",
       "\\item 14\n",
       "\\item 14\n",
       "\\item 13\n",
       "\\item 13\n",
       "\\item 13\n",
       "\\item 13\n",
       "\\item 13\n",
       "\\item 13\n",
       "\\item 13\n",
       "\\item 12\n",
       "\\item 12\n",
       "\\item 12\n",
       "\\item 12\n",
       "\\item 12\n",
       "\\item 12\n",
       "\\item 12\n",
       "\\item 12\n",
       "\\item 11\n",
       "\\item 11\n",
       "\\item 11\n",
       "\\item 11\n",
       "\\item 11\n",
       "\\item 11\n",
       "\\item 11\n",
       "\\item 11\n",
       "\\item 11\n",
       "\\item 11\n",
       "\\item 11\n",
       "\\item 11\n",
       "\\item 11\n",
       "\\item 11\n",
       "\\item 11\n",
       "\\item 11\n",
       "\\item 11\n",
       "\\item 10\n",
       "\\item 10\n",
       "\\item 10\n",
       "\\item 10\n",
       "\\item 10\n",
       "\\item 10\n",
       "\\item 10\n",
       "\\item 10\n",
       "\\item 10\n",
       "\\item 10\n",
       "\\item 10\n",
       "\\item 10\n",
       "\\item 10\n",
       "\\item 10\n",
       "\\item 10\n",
       "\\item 10\n",
       "\\item 10\n",
       "\\item 10\n",
       "\\item 10\n",
       "\\item 9\n",
       "\\item 9\n",
       "\\item 9\n",
       "\\item 9\n",
       "\\item 9\n",
       "\\item 9\n",
       "\\item 9\n",
       "\\item 9\n",
       "\\item 9\n",
       "\\item 9\n",
       "\\item 9\n",
       "\\item 9\n",
       "\\item 9\n",
       "\\item 9\n",
       "\\item 9\n",
       "\\item 9\n",
       "\\item 9\n",
       "\\item 9\n",
       "\\item 9\n",
       "\\item 9\n",
       "\\item 9\n",
       "\\item 9\n",
       "\\item 9\n",
       "\\item 9\n",
       "\\item 9\n",
       "\\item 9\n",
       "\\item 8\n",
       "\\item 8\n",
       "\\item 8\n",
       "\\item 8\n",
       "\\item 8\n",
       "\\item 8\n",
       "\\item 8\n",
       "\\item 8\n",
       "\\item 8\n",
       "\\item 8\n",
       "\\item 8\n",
       "\\item 8\n",
       "\\item 8\n",
       "\\item 8\n",
       "\\item 8\n",
       "\\item 8\n",
       "\\item 8\n",
       "\\item 8\n",
       "\\item 8\n",
       "\\item 8\n",
       "\\item 8\n",
       "\\item 8\n",
       "\\item 8\n",
       "\\item 8\n",
       "\\item 8\n",
       "\\item 8\n",
       "\\item 8\n",
       "\\item 8\n",
       "\\item 8\n",
       "\\item 7\n",
       "\\item 7\n",
       "\\item 7\n",
       "\\item 7\n",
       "\\item ⋯\n",
       "\\item 1\n",
       "\\item 1\n",
       "\\item 1\n",
       "\\item 1\n",
       "\\item 1\n",
       "\\item 1\n",
       "\\item 1\n",
       "\\item 1\n",
       "\\item 1\n",
       "\\item 1\n",
       "\\item 1\n",
       "\\item 1\n",
       "\\item 1\n",
       "\\item 1\n",
       "\\item 1\n",
       "\\item 1\n",
       "\\item 1\n",
       "\\item 1\n",
       "\\item 1\n",
       "\\item 1\n",
       "\\item 1\n",
       "\\item 1\n",
       "\\item 1\n",
       "\\item 1\n",
       "\\item 1\n",
       "\\item 1\n",
       "\\item 1\n",
       "\\item 1\n",
       "\\item 1\n",
       "\\item 1\n",
       "\\item 1\n",
       "\\item 1\n",
       "\\item 1\n",
       "\\item 1\n",
       "\\item 1\n",
       "\\item 1\n",
       "\\item 1\n",
       "\\item 1\n",
       "\\item 1\n",
       "\\item 1\n",
       "\\item 1\n",
       "\\item 1\n",
       "\\item 1\n",
       "\\item 1\n",
       "\\item 1\n",
       "\\item 1\n",
       "\\item 1\n",
       "\\item 1\n",
       "\\item 1\n",
       "\\item 1\n",
       "\\item 1\n",
       "\\item 1\n",
       "\\item 1\n",
       "\\item 1\n",
       "\\item 1\n",
       "\\item 1\n",
       "\\item 1\n",
       "\\item 1\n",
       "\\item 1\n",
       "\\item 1\n",
       "\\item 1\n",
       "\\item 1\n",
       "\\item 1\n",
       "\\item 1\n",
       "\\item 1\n",
       "\\item 1\n",
       "\\item 1\n",
       "\\item 1\n",
       "\\item 1\n",
       "\\item 1\n",
       "\\item 1\n",
       "\\item 1\n",
       "\\item 1\n",
       "\\item 1\n",
       "\\item 1\n",
       "\\item 1\n",
       "\\item 1\n",
       "\\item 1\n",
       "\\item 1\n",
       "\\item 1\n",
       "\\item 1\n",
       "\\item 1\n",
       "\\item 1\n",
       "\\item 1\n",
       "\\item 1\n",
       "\\item 1\n",
       "\\item 1\n",
       "\\item 1\n",
       "\\item 1\n",
       "\\item 1\n",
       "\\item 1\n",
       "\\item 1\n",
       "\\item 1\n",
       "\\item 1\n",
       "\\item 1\n",
       "\\item 1\n",
       "\\item 1\n",
       "\\item 1\n",
       "\\item 1\n",
       "\\item 1\n",
       "\\item 1\n",
       "\\item 1\n",
       "\\item 1\n",
       "\\item 1\n",
       "\\item 1\n",
       "\\item 1\n",
       "\\item 1\n",
       "\\item 1\n",
       "\\item 1\n",
       "\\item 1\n",
       "\\item 1\n",
       "\\item 1\n",
       "\\item 1\n",
       "\\item 1\n",
       "\\item 1\n",
       "\\item 1\n",
       "\\item 1\n",
       "\\item 1\n",
       "\\item 1\n",
       "\\item 1\n",
       "\\item 1\n",
       "\\item 1\n",
       "\\item 1\n",
       "\\item 1\n",
       "\\item 1\n",
       "\\item 1\n",
       "\\item 1\n",
       "\\item 1\n",
       "\\item 1\n",
       "\\item 1\n",
       "\\item 1\n",
       "\\item 1\n",
       "\\item 1\n",
       "\\item 1\n",
       "\\item 1\n",
       "\\item 1\n",
       "\\item 1\n",
       "\\item 1\n",
       "\\item 1\n",
       "\\item 1\n",
       "\\item 1\n",
       "\\item 1\n",
       "\\item 1\n",
       "\\item 1\n",
       "\\item 1\n",
       "\\item 1\n",
       "\\item 1\n",
       "\\item 1\n",
       "\\item 1\n",
       "\\item 1\n",
       "\\item 1\n",
       "\\item 1\n",
       "\\item 1\n",
       "\\item 1\n",
       "\\item 1\n",
       "\\item 1\n",
       "\\item 1\n",
       "\\item 1\n",
       "\\item 1\n",
       "\\item 1\n",
       "\\item 1\n",
       "\\item 1\n",
       "\\item 1\n",
       "\\item 1\n",
       "\\item 1\n",
       "\\item 1\n",
       "\\item 1\n",
       "\\item 1\n",
       "\\item 1\n",
       "\\item 1\n",
       "\\item 1\n",
       "\\item 1\n",
       "\\item 1\n",
       "\\item 1\n",
       "\\item 1\n",
       "\\item 1\n",
       "\\item 1\n",
       "\\item 1\n",
       "\\item 1\n",
       "\\item 1\n",
       "\\item 1\n",
       "\\item 1\n",
       "\\item 1\n",
       "\\item 1\n",
       "\\item 1\n",
       "\\item 1\n",
       "\\item 1\n",
       "\\item 1\n",
       "\\item 1\n",
       "\\item 1\n",
       "\\item 1\n",
       "\\item 1\n",
       "\\item 1\n",
       "\\item 1\n",
       "\\item 1\n",
       "\\item 1\n",
       "\\item 1\n",
       "\\item 1\n",
       "\\item 1\n",
       "\\item 105884.8\n",
       "\\end{enumerate*}\n"
      ],
      "text/markdown": [
       "**$CLONES_TRBaddjurkat_105884.8_0.8.txt** = 1. 1545\n",
       "2. 423\n",
       "3. 328\n",
       "4. 209\n",
       "5. 157\n",
       "6. 148\n",
       "7. 140\n",
       "8. 131\n",
       "9. 125\n",
       "10. 79\n",
       "11. 76\n",
       "12. 76\n",
       "13. 75\n",
       "14. 71\n",
       "15. 59\n",
       "16. 56\n",
       "17. 52\n",
       "18. 51\n",
       "19. 50\n",
       "20. 48\n",
       "21. 41\n",
       "22. 41\n",
       "23. 37\n",
       "24. 35\n",
       "25. 34\n",
       "26. 34\n",
       "27. 34\n",
       "28. 31\n",
       "29. 30\n",
       "30. 29\n",
       "31. 28\n",
       "32. 28\n",
       "33. 27\n",
       "34. 25\n",
       "35. 24\n",
       "36. 24\n",
       "37. 23\n",
       "38. 22\n",
       "39. 22\n",
       "40. 22\n",
       "41. 21\n",
       "42. 21\n",
       "43. 21\n",
       "44. 21\n",
       "45. 21\n",
       "46. 21\n",
       "47. 20\n",
       "48. 20\n",
       "49. 19\n",
       "50. 19\n",
       "51. 19\n",
       "52. 19\n",
       "53. 19\n",
       "54. 19\n",
       "55. 19\n",
       "56. 18\n",
       "57. 18\n",
       "58. 17\n",
       "59. 17\n",
       "60. 17\n",
       "61. 17\n",
       "62. 17\n",
       "63. 16\n",
       "64. 16\n",
       "65. 16\n",
       "66. 16\n",
       "67. 16\n",
       "68. 16\n",
       "69. 16\n",
       "70. 16\n",
       "71. 16\n",
       "72. 16\n",
       "73. 15\n",
       "74. 15\n",
       "75. 15\n",
       "76. 15\n",
       "77. 15\n",
       "78. 15\n",
       "79. 15\n",
       "80. 15\n",
       "81. 14\n",
       "82. 14\n",
       "83. 14\n",
       "84. 14\n",
       "85. 14\n",
       "86. 14\n",
       "87. 14\n",
       "88. 14\n",
       "89. 14\n",
       "90. 14\n",
       "91. 13\n",
       "92. 13\n",
       "93. 13\n",
       "94. 13\n",
       "95. 13\n",
       "96. 13\n",
       "97. 13\n",
       "98. 12\n",
       "99. 12\n",
       "100. 12\n",
       "101. 12\n",
       "102. 12\n",
       "103. 12\n",
       "104. 12\n",
       "105. 12\n",
       "106. 11\n",
       "107. 11\n",
       "108. 11\n",
       "109. 11\n",
       "110. 11\n",
       "111. 11\n",
       "112. 11\n",
       "113. 11\n",
       "114. 11\n",
       "115. 11\n",
       "116. 11\n",
       "117. 11\n",
       "118. 11\n",
       "119. 11\n",
       "120. 11\n",
       "121. 11\n",
       "122. 11\n",
       "123. 10\n",
       "124. 10\n",
       "125. 10\n",
       "126. 10\n",
       "127. 10\n",
       "128. 10\n",
       "129. 10\n",
       "130. 10\n",
       "131. 10\n",
       "132. 10\n",
       "133. 10\n",
       "134. 10\n",
       "135. 10\n",
       "136. 10\n",
       "137. 10\n",
       "138. 10\n",
       "139. 10\n",
       "140. 10\n",
       "141. 10\n",
       "142. 9\n",
       "143. 9\n",
       "144. 9\n",
       "145. 9\n",
       "146. 9\n",
       "147. 9\n",
       "148. 9\n",
       "149. 9\n",
       "150. 9\n",
       "151. 9\n",
       "152. 9\n",
       "153. 9\n",
       "154. 9\n",
       "155. 9\n",
       "156. 9\n",
       "157. 9\n",
       "158. 9\n",
       "159. 9\n",
       "160. 9\n",
       "161. 9\n",
       "162. 9\n",
       "163. 9\n",
       "164. 9\n",
       "165. 9\n",
       "166. 9\n",
       "167. 9\n",
       "168. 8\n",
       "169. 8\n",
       "170. 8\n",
       "171. 8\n",
       "172. 8\n",
       "173. 8\n",
       "174. 8\n",
       "175. 8\n",
       "176. 8\n",
       "177. 8\n",
       "178. 8\n",
       "179. 8\n",
       "180. 8\n",
       "181. 8\n",
       "182. 8\n",
       "183. 8\n",
       "184. 8\n",
       "185. 8\n",
       "186. 8\n",
       "187. 8\n",
       "188. 8\n",
       "189. 8\n",
       "190. 8\n",
       "191. 8\n",
       "192. 8\n",
       "193. 8\n",
       "194. 8\n",
       "195. 8\n",
       "196. 8\n",
       "197. 7\n",
       "198. 7\n",
       "199. 7\n",
       "200. 7\n",
       "201. ⋯\n",
       "202. 1\n",
       "203. 1\n",
       "204. 1\n",
       "205. 1\n",
       "206. 1\n",
       "207. 1\n",
       "208. 1\n",
       "209. 1\n",
       "210. 1\n",
       "211. 1\n",
       "212. 1\n",
       "213. 1\n",
       "214. 1\n",
       "215. 1\n",
       "216. 1\n",
       "217. 1\n",
       "218. 1\n",
       "219. 1\n",
       "220. 1\n",
       "221. 1\n",
       "222. 1\n",
       "223. 1\n",
       "224. 1\n",
       "225. 1\n",
       "226. 1\n",
       "227. 1\n",
       "228. 1\n",
       "229. 1\n",
       "230. 1\n",
       "231. 1\n",
       "232. 1\n",
       "233. 1\n",
       "234. 1\n",
       "235. 1\n",
       "236. 1\n",
       "237. 1\n",
       "238. 1\n",
       "239. 1\n",
       "240. 1\n",
       "241. 1\n",
       "242. 1\n",
       "243. 1\n",
       "244. 1\n",
       "245. 1\n",
       "246. 1\n",
       "247. 1\n",
       "248. 1\n",
       "249. 1\n",
       "250. 1\n",
       "251. 1\n",
       "252. 1\n",
       "253. 1\n",
       "254. 1\n",
       "255. 1\n",
       "256. 1\n",
       "257. 1\n",
       "258. 1\n",
       "259. 1\n",
       "260. 1\n",
       "261. 1\n",
       "262. 1\n",
       "263. 1\n",
       "264. 1\n",
       "265. 1\n",
       "266. 1\n",
       "267. 1\n",
       "268. 1\n",
       "269. 1\n",
       "270. 1\n",
       "271. 1\n",
       "272. 1\n",
       "273. 1\n",
       "274. 1\n",
       "275. 1\n",
       "276. 1\n",
       "277. 1\n",
       "278. 1\n",
       "279. 1\n",
       "280. 1\n",
       "281. 1\n",
       "282. 1\n",
       "283. 1\n",
       "284. 1\n",
       "285. 1\n",
       "286. 1\n",
       "287. 1\n",
       "288. 1\n",
       "289. 1\n",
       "290. 1\n",
       "291. 1\n",
       "292. 1\n",
       "293. 1\n",
       "294. 1\n",
       "295. 1\n",
       "296. 1\n",
       "297. 1\n",
       "298. 1\n",
       "299. 1\n",
       "300. 1\n",
       "301. 1\n",
       "302. 1\n",
       "303. 1\n",
       "304. 1\n",
       "305. 1\n",
       "306. 1\n",
       "307. 1\n",
       "308. 1\n",
       "309. 1\n",
       "310. 1\n",
       "311. 1\n",
       "312. 1\n",
       "313. 1\n",
       "314. 1\n",
       "315. 1\n",
       "316. 1\n",
       "317. 1\n",
       "318. 1\n",
       "319. 1\n",
       "320. 1\n",
       "321. 1\n",
       "322. 1\n",
       "323. 1\n",
       "324. 1\n",
       "325. 1\n",
       "326. 1\n",
       "327. 1\n",
       "328. 1\n",
       "329. 1\n",
       "330. 1\n",
       "331. 1\n",
       "332. 1\n",
       "333. 1\n",
       "334. 1\n",
       "335. 1\n",
       "336. 1\n",
       "337. 1\n",
       "338. 1\n",
       "339. 1\n",
       "340. 1\n",
       "341. 1\n",
       "342. 1\n",
       "343. 1\n",
       "344. 1\n",
       "345. 1\n",
       "346. 1\n",
       "347. 1\n",
       "348. 1\n",
       "349. 1\n",
       "350. 1\n",
       "351. 1\n",
       "352. 1\n",
       "353. 1\n",
       "354. 1\n",
       "355. 1\n",
       "356. 1\n",
       "357. 1\n",
       "358. 1\n",
       "359. 1\n",
       "360. 1\n",
       "361. 1\n",
       "362. 1\n",
       "363. 1\n",
       "364. 1\n",
       "365. 1\n",
       "366. 1\n",
       "367. 1\n",
       "368. 1\n",
       "369. 1\n",
       "370. 1\n",
       "371. 1\n",
       "372. 1\n",
       "373. 1\n",
       "374. 1\n",
       "375. 1\n",
       "376. 1\n",
       "377. 1\n",
       "378. 1\n",
       "379. 1\n",
       "380. 1\n",
       "381. 1\n",
       "382. 1\n",
       "383. 1\n",
       "384. 1\n",
       "385. 1\n",
       "386. 1\n",
       "387. 1\n",
       "388. 1\n",
       "389. 1\n",
       "390. 1\n",
       "391. 1\n",
       "392. 1\n",
       "393. 1\n",
       "394. 1\n",
       "395. 1\n",
       "396. 1\n",
       "397. 1\n",
       "398. 1\n",
       "399. 1\n",
       "400. 1\n",
       "401. 105884.8\n",
       "\n",
       "\n"
      ],
      "text/plain": [
       "$CLONES_TRBaddjurkat_105884.8_0.8.txt\n",
       "    [1]   1545.0    423.0    328.0    209.0    157.0    148.0    140.0    131.0\n",
       "    [9]    125.0     79.0     76.0     76.0     75.0     71.0     59.0     56.0\n",
       "   [17]     52.0     51.0     50.0     48.0     41.0     41.0     37.0     35.0\n",
       "   [25]     34.0     34.0     34.0     31.0     30.0     29.0     28.0     28.0\n",
       "   [33]     27.0     25.0     24.0     24.0     23.0     22.0     22.0     22.0\n",
       "   [41]     21.0     21.0     21.0     21.0     21.0     21.0     20.0     20.0\n",
       "   [49]     19.0     19.0     19.0     19.0     19.0     19.0     19.0     18.0\n",
       "   [57]     18.0     17.0     17.0     17.0     17.0     17.0     16.0     16.0\n",
       "   [65]     16.0     16.0     16.0     16.0     16.0     16.0     16.0     16.0\n",
       "   [73]     15.0     15.0     15.0     15.0     15.0     15.0     15.0     15.0\n",
       "   [81]     14.0     14.0     14.0     14.0     14.0     14.0     14.0     14.0\n",
       "   [89]     14.0     14.0     13.0     13.0     13.0     13.0     13.0     13.0\n",
       "   [97]     13.0     12.0     12.0     12.0     12.0     12.0     12.0     12.0\n",
       "  [105]     12.0     11.0     11.0     11.0     11.0     11.0     11.0     11.0\n",
       "  [113]     11.0     11.0     11.0     11.0     11.0     11.0     11.0     11.0\n",
       "  [121]     11.0     11.0     10.0     10.0     10.0     10.0     10.0     10.0\n",
       "  [129]     10.0     10.0     10.0     10.0     10.0     10.0     10.0     10.0\n",
       "  [137]     10.0     10.0     10.0     10.0     10.0      9.0      9.0      9.0\n",
       "  [145]      9.0      9.0      9.0      9.0      9.0      9.0      9.0      9.0\n",
       "  [153]      9.0      9.0      9.0      9.0      9.0      9.0      9.0      9.0\n",
       "  [161]      9.0      9.0      9.0      9.0      9.0      9.0      9.0      8.0\n",
       "  [169]      8.0      8.0      8.0      8.0      8.0      8.0      8.0      8.0\n",
       "  [177]      8.0      8.0      8.0      8.0      8.0      8.0      8.0      8.0\n",
       "  [185]      8.0      8.0      8.0      8.0      8.0      8.0      8.0      8.0\n",
       "  [193]      8.0      8.0      8.0      8.0      7.0      7.0      7.0      7.0\n",
       "  [201]      7.0      7.0      7.0      7.0      7.0      7.0      7.0      7.0\n",
       "  [209]      7.0      7.0      7.0      7.0      7.0      7.0      7.0      7.0\n",
       "  [217]      7.0      7.0      7.0      7.0      7.0      7.0      7.0      7.0\n",
       "  [225]      7.0      7.0      7.0      7.0      7.0      7.0      7.0      7.0\n",
       "  [233]      7.0      7.0      7.0      7.0      7.0      7.0      7.0      7.0\n",
       "  [241]      7.0      7.0      7.0      6.0      6.0      6.0      6.0      6.0\n",
       "  [249]      6.0      6.0      6.0      6.0      6.0      6.0      6.0      6.0\n",
       "  [257]      6.0      6.0      6.0      6.0      6.0      6.0      6.0      6.0\n",
       "  [265]      6.0      6.0      6.0      6.0      6.0      6.0      6.0      6.0\n",
       "  [273]      6.0      6.0      6.0      6.0      6.0      6.0      6.0      6.0\n",
       "  [281]      6.0      6.0      6.0      6.0      6.0      6.0      6.0      6.0\n",
       "  [289]      6.0      6.0      6.0      6.0      6.0      6.0      6.0      6.0\n",
       "  [297]      6.0      6.0      6.0      6.0      6.0      6.0      6.0      6.0\n",
       "  [305]      6.0      6.0      6.0      6.0      6.0      6.0      6.0      5.0\n",
       "  [313]      5.0      5.0      5.0      5.0      5.0      5.0      5.0      5.0\n",
       "  [321]      5.0      5.0      5.0      5.0      5.0      5.0      5.0      5.0\n",
       "  [329]      5.0      5.0      5.0      5.0      5.0      5.0      5.0      5.0\n",
       "  [337]      5.0      5.0      5.0      5.0      5.0      5.0      5.0      5.0\n",
       "  [345]      5.0      5.0      5.0      5.0      5.0      5.0      5.0      5.0\n",
       "  [353]      5.0      5.0      5.0      5.0      5.0      5.0      5.0      5.0\n",
       "  [361]      5.0      5.0      5.0      5.0      5.0      5.0      5.0      5.0\n",
       "  [369]      5.0      5.0      5.0      5.0      5.0      5.0      5.0      5.0\n",
       "  [377]      5.0      5.0      5.0      5.0      5.0      5.0      5.0      5.0\n",
       "  [385]      5.0      5.0      5.0      5.0      5.0      5.0      5.0      5.0\n",
       "  [393]      5.0      5.0      5.0      5.0      5.0      5.0      5.0      5.0\n",
       "  [401]      5.0      5.0      5.0      5.0      5.0      5.0      5.0      5.0\n",
       "  [409]      5.0      5.0      5.0      5.0      4.0      4.0      4.0      4.0\n",
       "  [417]      4.0      4.0      4.0      4.0      4.0      4.0      4.0      4.0\n",
       "  [425]      4.0      4.0      4.0      4.0      4.0      4.0      4.0      4.0\n",
       "  [433]      4.0      4.0      4.0      4.0      4.0      4.0      4.0      4.0\n",
       "  [441]      4.0      4.0      4.0      4.0      4.0      4.0      4.0      4.0\n",
       "  [449]      4.0      4.0      4.0      4.0      4.0      4.0      4.0      4.0\n",
       "  [457]      4.0      4.0      4.0      4.0      4.0      4.0      4.0      4.0\n",
       "  [465]      4.0      4.0      4.0      4.0      4.0      4.0      4.0      4.0\n",
       "  [473]      4.0      4.0      4.0      4.0      4.0      4.0      4.0      4.0\n",
       "  [481]      4.0      4.0      4.0      4.0      4.0      4.0      4.0      4.0\n",
       "  [489]      4.0      4.0      4.0      4.0      4.0      4.0      4.0      4.0\n",
       "  [497]      4.0      4.0      4.0      4.0      4.0      4.0      4.0      4.0\n",
       "  [505]      4.0      4.0      4.0      4.0      4.0      4.0      4.0      4.0\n",
       "  [513]      4.0      4.0      4.0      4.0      4.0      4.0      4.0      4.0\n",
       "  [521]      4.0      4.0      4.0      4.0      4.0      4.0      4.0      4.0\n",
       "  [529]      4.0      4.0      4.0      4.0      4.0      4.0      4.0      4.0\n",
       "  [537]      4.0      4.0      4.0      4.0      4.0      4.0      4.0      4.0\n",
       "  [545]      4.0      4.0      4.0      4.0      4.0      4.0      4.0      4.0\n",
       "  [553]      4.0      4.0      4.0      4.0      4.0      4.0      4.0      4.0\n",
       "  [561]      4.0      4.0      4.0      4.0      4.0      4.0      4.0      4.0\n",
       "  [569]      4.0      4.0      4.0      4.0      4.0      4.0      4.0      4.0\n",
       "  [577]      4.0      4.0      4.0      4.0      4.0      4.0      4.0      3.0\n",
       "  [585]      3.0      3.0      3.0      3.0      3.0      3.0      3.0      3.0\n",
       "  [593]      3.0      3.0      3.0      3.0      3.0      3.0      3.0      3.0\n",
       "  [601]      3.0      3.0      3.0      3.0      3.0      3.0      3.0      3.0\n",
       "  [609]      3.0      3.0      3.0      3.0      3.0      3.0      3.0      3.0\n",
       "  [617]      3.0      3.0      3.0      3.0      3.0      3.0      3.0      3.0\n",
       "  [625]      3.0      3.0      3.0      3.0      3.0      3.0      3.0      3.0\n",
       "  [633]      3.0      3.0      3.0      3.0      3.0      3.0      3.0      3.0\n",
       "  [641]      3.0      3.0      3.0      3.0      3.0      3.0      3.0      3.0\n",
       "  [649]      3.0      3.0      3.0      3.0      3.0      3.0      3.0      3.0\n",
       "  [657]      3.0      3.0      3.0      3.0      3.0      3.0      3.0      3.0\n",
       "  [665]      3.0      3.0      3.0      3.0      3.0      3.0      3.0      3.0\n",
       "  [673]      3.0      3.0      3.0      3.0      3.0      3.0      3.0      3.0\n",
       "  [681]      3.0      3.0      3.0      3.0      3.0      3.0      3.0      3.0\n",
       "  [689]      3.0      3.0      3.0      3.0      3.0      3.0      3.0      3.0\n",
       "  [697]      3.0      3.0      3.0      3.0      3.0      3.0      3.0      3.0\n",
       "  [705]      3.0      3.0      3.0      3.0      3.0      3.0      3.0      3.0\n",
       "  [713]      3.0      3.0      3.0      3.0      3.0      3.0      3.0      3.0\n",
       "  [721]      3.0      3.0      3.0      3.0      3.0      3.0      3.0      3.0\n",
       "  [729]      3.0      3.0      3.0      3.0      3.0      3.0      3.0      3.0\n",
       "  [737]      3.0      3.0      3.0      3.0      3.0      3.0      3.0      3.0\n",
       "  [745]      3.0      3.0      3.0      3.0      3.0      3.0      3.0      3.0\n",
       "  [753]      3.0      3.0      3.0      3.0      3.0      3.0      3.0      3.0\n",
       "  [761]      3.0      3.0      3.0      3.0      3.0      3.0      3.0      3.0\n",
       "  [769]      3.0      3.0      3.0      3.0      3.0      3.0      3.0      3.0\n",
       "  [777]      3.0      3.0      3.0      3.0      3.0      3.0      3.0      3.0\n",
       "  [785]      3.0      3.0      3.0      3.0      3.0      3.0      3.0      3.0\n",
       "  [793]      3.0      3.0      3.0      3.0      3.0      3.0      3.0      3.0\n",
       "  [801]      3.0      3.0      3.0      3.0      3.0      3.0      3.0      3.0\n",
       "  [809]      3.0      3.0      3.0      3.0      3.0      3.0      3.0      3.0\n",
       "  [817]      3.0      3.0      3.0      3.0      3.0      3.0      3.0      3.0\n",
       "  [825]      3.0      3.0      3.0      3.0      3.0      3.0      3.0      3.0\n",
       "  [833]      3.0      3.0      3.0      3.0      3.0      3.0      3.0      3.0\n",
       "  [841]      3.0      3.0      3.0      3.0      3.0      3.0      3.0      3.0\n",
       "  [849]      3.0      3.0      3.0      3.0      3.0      3.0      3.0      3.0\n",
       "  [857]      3.0      3.0      3.0      3.0      3.0      3.0      3.0      3.0\n",
       "  [865]      3.0      3.0      3.0      3.0      3.0      3.0      3.0      3.0\n",
       "  [873]      3.0      3.0      3.0      3.0      3.0      3.0      3.0      3.0\n",
       "  [881]      3.0      3.0      3.0      3.0      3.0      3.0      3.0      3.0\n",
       "  [889]      3.0      3.0      3.0      3.0      3.0      3.0      3.0      3.0\n",
       "  [897]      3.0      3.0      3.0      3.0      3.0      3.0      3.0      3.0\n",
       "  [905]      3.0      3.0      3.0      3.0      3.0      3.0      3.0      3.0\n",
       "  [913]      3.0      3.0      3.0      3.0      3.0      3.0      3.0      3.0\n",
       "  [921]      3.0      3.0      3.0      3.0      3.0      3.0      3.0      3.0\n",
       "  [929]      3.0      3.0      3.0      3.0      3.0      3.0      3.0      3.0\n",
       "  [937]      3.0      3.0      3.0      3.0      2.0      2.0      2.0      2.0\n",
       "  [945]      2.0      2.0      2.0      2.0      2.0      2.0      2.0      2.0\n",
       "  [953]      2.0      2.0      2.0      2.0      2.0      2.0      2.0      2.0\n",
       "  [961]      2.0      2.0      2.0      2.0      2.0      2.0      2.0      2.0\n",
       "  [969]      2.0      2.0      2.0      2.0      2.0      2.0      2.0      2.0\n",
       "  [977]      2.0      2.0      2.0      2.0      2.0      2.0      2.0      2.0\n",
       "  [985]      2.0      2.0      2.0      2.0      2.0      2.0      2.0      2.0\n",
       "  [993]      2.0      2.0      2.0      2.0      2.0      2.0      2.0      2.0\n",
       " [1001]      2.0      2.0      2.0      2.0      2.0      2.0      2.0      2.0\n",
       " [1009]      2.0      2.0      2.0      2.0      2.0      2.0      2.0      2.0\n",
       " [1017]      2.0      2.0      2.0      2.0      2.0      2.0      2.0      2.0\n",
       " [1025]      2.0      2.0      2.0      2.0      2.0      2.0      2.0      2.0\n",
       " [1033]      2.0      2.0      2.0      2.0      2.0      2.0      2.0      2.0\n",
       " [1041]      2.0      2.0      2.0      2.0      2.0      2.0      2.0      2.0\n",
       " [1049]      2.0      2.0      2.0      2.0      2.0      2.0      2.0      2.0\n",
       " [1057]      2.0      2.0      2.0      2.0      2.0      2.0      2.0      2.0\n",
       " [1065]      2.0      2.0      2.0      2.0      2.0      2.0      2.0      2.0\n",
       " [1073]      2.0      2.0      2.0      2.0      2.0      2.0      2.0      2.0\n",
       " [1081]      2.0      2.0      2.0      2.0      2.0      2.0      2.0      2.0\n",
       " [1089]      2.0      2.0      2.0      2.0      2.0      2.0      2.0      2.0\n",
       " [1097]      2.0      2.0      2.0      2.0      2.0      2.0      2.0      2.0\n",
       " [1105]      2.0      2.0      2.0      2.0      2.0      2.0      2.0      2.0\n",
       " [1113]      2.0      2.0      2.0      2.0      2.0      2.0      2.0      2.0\n",
       " [1121]      2.0      2.0      2.0      2.0      2.0      2.0      2.0      2.0\n",
       " [1129]      2.0      2.0      2.0      2.0      2.0      2.0      2.0      2.0\n",
       " [1137]      2.0      2.0      2.0      2.0      2.0      2.0      2.0      2.0\n",
       " [1145]      2.0      2.0      2.0      2.0      2.0      2.0      2.0      2.0\n",
       " [1153]      2.0      2.0      2.0      2.0      2.0      2.0      2.0      2.0\n",
       " [1161]      2.0      2.0      2.0      2.0      2.0      2.0      2.0      2.0\n",
       " [1169]      2.0      2.0      2.0      2.0      2.0      2.0      2.0      2.0\n",
       " [1177]      2.0      2.0      2.0      2.0      2.0      2.0      2.0      2.0\n",
       " [1185]      2.0      2.0      2.0      2.0      2.0      2.0      2.0      2.0\n",
       " [1193]      2.0      2.0      2.0      2.0      2.0      2.0      2.0      2.0\n",
       " [1201]      2.0      2.0      2.0      2.0      2.0      2.0      2.0      2.0\n",
       " [1209]      2.0      2.0      2.0      2.0      2.0      2.0      2.0      2.0\n",
       " [1217]      2.0      2.0      2.0      2.0      2.0      2.0      2.0      2.0\n",
       " [1225]      2.0      2.0      2.0      2.0      2.0      2.0      2.0      2.0\n",
       " [1233]      2.0      2.0      2.0      2.0      2.0      2.0      2.0      2.0\n",
       " [1241]      2.0      2.0      2.0      2.0      2.0      2.0      2.0      2.0\n",
       " [1249]      2.0      2.0      2.0      2.0      2.0      2.0      2.0      2.0\n",
       " [1257]      2.0      2.0      2.0      2.0      2.0      2.0      2.0      2.0\n",
       " [1265]      2.0      2.0      2.0      2.0      2.0      2.0      2.0      2.0\n",
       " [1273]      2.0      2.0      2.0      2.0      2.0      2.0      2.0      2.0\n",
       " [1281]      2.0      2.0      2.0      2.0      2.0      2.0      2.0      2.0\n",
       " [1289]      2.0      2.0      2.0      2.0      2.0      2.0      2.0      2.0\n",
       " [1297]      2.0      2.0      2.0      2.0      2.0      2.0      2.0      2.0\n",
       " [1305]      2.0      2.0      2.0      2.0      2.0      2.0      2.0      2.0\n",
       " [1313]      2.0      2.0      2.0      2.0      2.0      2.0      2.0      2.0\n",
       " [1321]      2.0      2.0      2.0      2.0      2.0      2.0      2.0      2.0\n",
       " [1329]      2.0      2.0      2.0      2.0      2.0      2.0      2.0      2.0\n",
       " [1337]      2.0      2.0      2.0      2.0      2.0      2.0      2.0      2.0\n",
       " [1345]      2.0      2.0      2.0      2.0      2.0      2.0      2.0      2.0\n",
       " [1353]      2.0      2.0      2.0      2.0      2.0      2.0      2.0      2.0\n",
       " [1361]      2.0      2.0      2.0      2.0      2.0      2.0      2.0      2.0\n",
       " [1369]      2.0      2.0      2.0      2.0      2.0      2.0      2.0      2.0\n",
       " [1377]      2.0      2.0      2.0      2.0      2.0      2.0      2.0      2.0\n",
       " [1385]      2.0      2.0      2.0      2.0      2.0      2.0      2.0      2.0\n",
       " [1393]      2.0      2.0      2.0      2.0      2.0      2.0      2.0      2.0\n",
       " [1401]      2.0      2.0      2.0      2.0      2.0      2.0      2.0      2.0\n",
       " [1409]      2.0      2.0      2.0      2.0      2.0      2.0      2.0      2.0\n",
       " [1417]      2.0      2.0      2.0      2.0      2.0      2.0      2.0      2.0\n",
       " [1425]      2.0      2.0      2.0      2.0      2.0      2.0      2.0      2.0\n",
       " [1433]      2.0      2.0      2.0      2.0      2.0      2.0      2.0      2.0\n",
       " [1441]      2.0      2.0      2.0      2.0      2.0      2.0      2.0      2.0\n",
       " [1449]      2.0      2.0      2.0      2.0      2.0      2.0      2.0      2.0\n",
       " [1457]      2.0      2.0      2.0      2.0      2.0      2.0      2.0      2.0\n",
       " [1465]      2.0      2.0      2.0      2.0      2.0      2.0      2.0      2.0\n",
       " [1473]      2.0      2.0      2.0      2.0      2.0      2.0      2.0      2.0\n",
       " [1481]      2.0      2.0      2.0      2.0      2.0      2.0      2.0      2.0\n",
       " [1489]      2.0      2.0      2.0      2.0      2.0      2.0      2.0      2.0\n",
       " [1497]      2.0      2.0      2.0      2.0      2.0      2.0      2.0      2.0\n",
       " [1505]      2.0      2.0      2.0      2.0      2.0      2.0      2.0      2.0\n",
       " [1513]      2.0      2.0      2.0      2.0      2.0      2.0      2.0      2.0\n",
       " [1521]      2.0      2.0      2.0      2.0      2.0      2.0      2.0      2.0\n",
       " [1529]      2.0      2.0      2.0      2.0      2.0      2.0      2.0      2.0\n",
       " [1537]      2.0      2.0      2.0      2.0      2.0      2.0      2.0      2.0\n",
       " [1545]      2.0      2.0      2.0      2.0      2.0      2.0      2.0      2.0\n",
       " [1553]      2.0      2.0      2.0      2.0      2.0      2.0      2.0      2.0\n",
       " [1561]      2.0      2.0      2.0      2.0      2.0      2.0      2.0      2.0\n",
       " [1569]      2.0      2.0      2.0      2.0      2.0      2.0      2.0      2.0\n",
       " [1577]      2.0      2.0      2.0      2.0      2.0      2.0      2.0      2.0\n",
       " [1585]      2.0      2.0      2.0      2.0      2.0      2.0      2.0      2.0\n",
       " [1593]      2.0      2.0      2.0      2.0      2.0      2.0      2.0      2.0\n",
       " [1601]      2.0      2.0      2.0      2.0      2.0      2.0      2.0      2.0\n",
       " [1609]      2.0      2.0      2.0      2.0      2.0      2.0      2.0      2.0\n",
       " [1617]      2.0      2.0      2.0      2.0      2.0      2.0      2.0      2.0\n",
       " [1625]      2.0      2.0      2.0      2.0      2.0      2.0      2.0      2.0\n",
       " [1633]      2.0      2.0      2.0      2.0      2.0      2.0      2.0      2.0\n",
       " [1641]      2.0      2.0      2.0      2.0      2.0      2.0      2.0      2.0\n",
       " [1649]      2.0      2.0      2.0      2.0      2.0      2.0      2.0      2.0\n",
       " [1657]      2.0      2.0      2.0      2.0      2.0      2.0      2.0      2.0\n",
       " [1665]      2.0      2.0      2.0      2.0      2.0      2.0      2.0      2.0\n",
       " [1673]      2.0      2.0      2.0      2.0      2.0      2.0      2.0      2.0\n",
       " [1681]      2.0      2.0      2.0      2.0      2.0      2.0      2.0      2.0\n",
       " [1689]      2.0      2.0      2.0      2.0      2.0      2.0      2.0      2.0\n",
       " [1697]      2.0      2.0      2.0      2.0      2.0      2.0      2.0      2.0\n",
       " [1705]      2.0      2.0      2.0      2.0      2.0      2.0      2.0      2.0\n",
       " [1713]      2.0      2.0      2.0      2.0      2.0      2.0      2.0      2.0\n",
       " [1721]      2.0      2.0      2.0      2.0      2.0      2.0      2.0      2.0\n",
       " [1729]      2.0      2.0      2.0      2.0      2.0      2.0      2.0      2.0\n",
       " [1737]      2.0      2.0      2.0      2.0      2.0      2.0      2.0      2.0\n",
       " [1745]      2.0      2.0      2.0      2.0      2.0      2.0      2.0      2.0\n",
       " [1753]      2.0      2.0      2.0      2.0      2.0      2.0      2.0      2.0\n",
       " [1761]      2.0      2.0      2.0      2.0      2.0      2.0      2.0      2.0\n",
       " [1769]      2.0      2.0      2.0      2.0      2.0      2.0      2.0      2.0\n",
       " [1777]      2.0      2.0      2.0      2.0      2.0      2.0      2.0      2.0\n",
       " [1785]      2.0      2.0      2.0      2.0      2.0      2.0      2.0      2.0\n",
       " [1793]      2.0      2.0      2.0      2.0      2.0      2.0      2.0      2.0\n",
       " [1801]      2.0      2.0      2.0      2.0      2.0      2.0      2.0      2.0\n",
       " [1809]      2.0      2.0      2.0      2.0      2.0      2.0      2.0      2.0\n",
       " [1817]      2.0      2.0      2.0      2.0      2.0      2.0      2.0      2.0\n",
       " [1825]      2.0      2.0      2.0      2.0      2.0      2.0      2.0      2.0\n",
       " [1833]      2.0      2.0      2.0      2.0      2.0      2.0      2.0      2.0\n",
       " [1841]      2.0      2.0      2.0      2.0      2.0      2.0      2.0      2.0\n",
       " [1849]      2.0      2.0      2.0      2.0      2.0      2.0      2.0      2.0\n",
       " [1857]      2.0      2.0      2.0      2.0      2.0      2.0      2.0      2.0\n",
       " [1865]      2.0      2.0      2.0      2.0      2.0      2.0      2.0      2.0\n",
       " [1873]      2.0      2.0      2.0      2.0      2.0      2.0      2.0      2.0\n",
       " [1881]      2.0      2.0      2.0      2.0      2.0      2.0      2.0      2.0\n",
       " [1889]      2.0      2.0      2.0      2.0      2.0      2.0      2.0      2.0\n",
       " [1897]      2.0      2.0      2.0      2.0      2.0      2.0      2.0      2.0\n",
       " [1905]      2.0      2.0      2.0      2.0      2.0      2.0      2.0      2.0\n",
       " [1913]      2.0      2.0      2.0      2.0      2.0      2.0      2.0      2.0\n",
       " [1921]      2.0      2.0      2.0      2.0      2.0      2.0      2.0      2.0\n",
       " [1929]      2.0      2.0      2.0      2.0      2.0      2.0      2.0      2.0\n",
       " [1937]      2.0      2.0      2.0      2.0      2.0      2.0      2.0      2.0\n",
       " [1945]      2.0      2.0      2.0      2.0      2.0      2.0      2.0      2.0\n",
       " [1953]      2.0      2.0      2.0      2.0      2.0      2.0      2.0      2.0\n",
       " [1961]      2.0      2.0      2.0      2.0      2.0      2.0      2.0      2.0\n",
       " [1969]      2.0      2.0      2.0      2.0      2.0      2.0      2.0      2.0\n",
       " [1977]      2.0      2.0      2.0      2.0      2.0      2.0      2.0      2.0\n",
       " [1985]      2.0      2.0      2.0      2.0      2.0      2.0      2.0      2.0\n",
       " [1993]      2.0      2.0      2.0      2.0      2.0      2.0      2.0      2.0\n",
       " [2001]      2.0      2.0      2.0      2.0      2.0      2.0      2.0      2.0\n",
       " [2009]      2.0      2.0      2.0      2.0      2.0      2.0      2.0      2.0\n",
       " [2017]      2.0      2.0      2.0      2.0      2.0      2.0      2.0      2.0\n",
       " [2025]      2.0      2.0      2.0      2.0      2.0      2.0      2.0      2.0\n",
       " [2033]      2.0      2.0      2.0      2.0      2.0      2.0      2.0      2.0\n",
       " [2041]      2.0      2.0      2.0      2.0      2.0      2.0      2.0      2.0\n",
       " [2049]      2.0      2.0      2.0      2.0      2.0      2.0      2.0      2.0\n",
       " [2057]      2.0      2.0      2.0      2.0      2.0      2.0      2.0      2.0\n",
       " [2065]      2.0      2.0      2.0      2.0      2.0      2.0      2.0      2.0\n",
       " [2073]      2.0      2.0      2.0      2.0      2.0      2.0      2.0      2.0\n",
       " [2081]      2.0      2.0      2.0      2.0      2.0      2.0      2.0      2.0\n",
       " [2089]      2.0      2.0      2.0      2.0      2.0      2.0      2.0      2.0\n",
       " [2097]      2.0      2.0      2.0      2.0      2.0      2.0      2.0      2.0\n",
       " [2105]      2.0      2.0      2.0      2.0      2.0      2.0      2.0      2.0\n",
       " [2113]      2.0      2.0      2.0      2.0      2.0      2.0      2.0      2.0\n",
       " [2121]      2.0      2.0      2.0      2.0      2.0      2.0      2.0      2.0\n",
       " [2129]      2.0      2.0      2.0      2.0      2.0      2.0      2.0      2.0\n",
       " [2137]      2.0      2.0      2.0      2.0      2.0      2.0      2.0      2.0\n",
       " [2145]      2.0      2.0      2.0      2.0      2.0      2.0      2.0      2.0\n",
       " [2153]      2.0      2.0      2.0      2.0      2.0      2.0      2.0      2.0\n",
       " [2161]      2.0      2.0      2.0      2.0      2.0      2.0      2.0      2.0\n",
       " [2169]      2.0      2.0      2.0      2.0      2.0      2.0      2.0      2.0\n",
       " [2177]      2.0      2.0      2.0      2.0      2.0      2.0      2.0      2.0\n",
       " [2185]      2.0      2.0      2.0      2.0      2.0      2.0      2.0      2.0\n",
       " [2193]      2.0      2.0      2.0      2.0      2.0      2.0      2.0      2.0\n",
       " [2201]      2.0      2.0      2.0      2.0      2.0      2.0      2.0      2.0\n",
       " [2209]      2.0      2.0      2.0      2.0      2.0      2.0      2.0      2.0\n",
       " [2217]      2.0      2.0      2.0      2.0      2.0      2.0      2.0      2.0\n",
       " [2225]      2.0      2.0      2.0      2.0      2.0      2.0      2.0      2.0\n",
       " [2233]      2.0      2.0      2.0      2.0      2.0      2.0      2.0      2.0\n",
       " [2241]      2.0      2.0      2.0      2.0      2.0      2.0      2.0      2.0\n",
       " [2249]      2.0      2.0      2.0      2.0      2.0      2.0      2.0      2.0\n",
       " [2257]      2.0      2.0      2.0      2.0      2.0      2.0      2.0      2.0\n",
       " [2265]      2.0      2.0      2.0      2.0      2.0      2.0      2.0      2.0\n",
       " [2273]      2.0      2.0      2.0      2.0      2.0      2.0      2.0      2.0\n",
       " [2281]      2.0      2.0      2.0      2.0      2.0      2.0      2.0      2.0\n",
       " [2289]      2.0      2.0      2.0      2.0      2.0      2.0      2.0      2.0\n",
       " [2297]      2.0      2.0      2.0      2.0      2.0      2.0      2.0      2.0\n",
       " [2305]      2.0      2.0      2.0      2.0      2.0      2.0      2.0      2.0\n",
       " [2313]      2.0      2.0      2.0      2.0      2.0      2.0      2.0      2.0\n",
       " [2321]      2.0      2.0      2.0      2.0      2.0      2.0      2.0      2.0\n",
       " [2329]      2.0      2.0      2.0      2.0      2.0      2.0      2.0      2.0\n",
       " [2337]      2.0      2.0      2.0      2.0      2.0      2.0      2.0      2.0\n",
       " [2345]      2.0      2.0      2.0      2.0      2.0      2.0      2.0      2.0\n",
       " [2353]      2.0      2.0      2.0      2.0      2.0      2.0      2.0      2.0\n",
       " [2361]      2.0      2.0      2.0      2.0      2.0      2.0      2.0      2.0\n",
       " [2369]      2.0      2.0      2.0      2.0      2.0      2.0      2.0      1.0\n",
       " [2377]      1.0      1.0      1.0      1.0      1.0      1.0      1.0      1.0\n",
       " [2385]      1.0      1.0      1.0      1.0      1.0      1.0      1.0      1.0\n",
       " [2393]      1.0      1.0      1.0      1.0      1.0      1.0      1.0      1.0\n",
       " [2401]      1.0      1.0      1.0      1.0      1.0      1.0      1.0      1.0\n",
       " [2409]      1.0      1.0      1.0      1.0      1.0      1.0      1.0      1.0\n",
       " [2417]      1.0      1.0      1.0      1.0      1.0      1.0      1.0      1.0\n",
       " [2425]      1.0      1.0      1.0      1.0      1.0      1.0      1.0      1.0\n",
       " [2433]      1.0      1.0      1.0      1.0      1.0      1.0      1.0      1.0\n",
       " [2441]      1.0      1.0      1.0      1.0      1.0      1.0      1.0      1.0\n",
       " [2449]      1.0      1.0      1.0      1.0      1.0      1.0      1.0      1.0\n",
       " [2457]      1.0      1.0      1.0      1.0      1.0      1.0      1.0      1.0\n",
       " [2465]      1.0      1.0      1.0      1.0      1.0      1.0      1.0      1.0\n",
       " [2473]      1.0      1.0      1.0      1.0      1.0      1.0      1.0      1.0\n",
       " [2481]      1.0      1.0      1.0      1.0      1.0      1.0      1.0      1.0\n",
       " [2489]      1.0      1.0      1.0      1.0      1.0      1.0      1.0      1.0\n",
       " [2497]      1.0      1.0      1.0      1.0      1.0      1.0      1.0      1.0\n",
       " [2505]      1.0      1.0      1.0      1.0      1.0      1.0      1.0      1.0\n",
       " [2513]      1.0      1.0      1.0      1.0      1.0      1.0      1.0      1.0\n",
       " [2521]      1.0      1.0      1.0      1.0      1.0      1.0      1.0      1.0\n",
       " [2529]      1.0      1.0      1.0      1.0      1.0      1.0      1.0      1.0\n",
       " [2537]      1.0      1.0      1.0      1.0      1.0      1.0      1.0      1.0\n",
       " [2545]      1.0      1.0      1.0      1.0      1.0      1.0      1.0      1.0\n",
       " [2553]      1.0      1.0      1.0      1.0      1.0      1.0      1.0      1.0\n",
       " [2561]      1.0      1.0      1.0      1.0      1.0      1.0      1.0      1.0\n",
       " [2569]      1.0      1.0      1.0      1.0      1.0      1.0      1.0      1.0\n",
       " [2577]      1.0      1.0      1.0      1.0      1.0      1.0      1.0      1.0\n",
       " [2585]      1.0      1.0      1.0      1.0      1.0      1.0      1.0      1.0\n",
       " [2593]      1.0      1.0      1.0      1.0      1.0      1.0      1.0      1.0\n",
       " [2601]      1.0      1.0      1.0      1.0      1.0      1.0      1.0      1.0\n",
       " [2609]      1.0      1.0      1.0      1.0      1.0      1.0      1.0      1.0\n",
       " [2617]      1.0      1.0      1.0      1.0      1.0      1.0      1.0      1.0\n",
       " [2625]      1.0      1.0      1.0      1.0      1.0      1.0      1.0      1.0\n",
       " [2633]      1.0      1.0      1.0      1.0      1.0      1.0      1.0      1.0\n",
       " [2641]      1.0      1.0      1.0      1.0      1.0      1.0      1.0      1.0\n",
       " [2649]      1.0      1.0      1.0      1.0      1.0      1.0      1.0      1.0\n",
       " [2657]      1.0      1.0      1.0      1.0      1.0      1.0      1.0      1.0\n",
       " [2665]      1.0      1.0      1.0      1.0      1.0      1.0      1.0      1.0\n",
       " [2673]      1.0      1.0      1.0      1.0      1.0      1.0      1.0      1.0\n",
       " [2681]      1.0      1.0      1.0      1.0      1.0      1.0      1.0      1.0\n",
       " [2689]      1.0      1.0      1.0      1.0      1.0      1.0      1.0      1.0\n",
       " [2697]      1.0      1.0      1.0      1.0      1.0      1.0      1.0      1.0\n",
       " [2705]      1.0      1.0      1.0      1.0      1.0      1.0      1.0      1.0\n",
       " [2713]      1.0      1.0      1.0      1.0      1.0      1.0      1.0      1.0\n",
       " [2721]      1.0      1.0      1.0      1.0      1.0      1.0      1.0      1.0\n",
       " [2729]      1.0      1.0      1.0      1.0      1.0      1.0      1.0      1.0\n",
       " [2737]      1.0      1.0      1.0      1.0      1.0      1.0      1.0      1.0\n",
       " [2745]      1.0      1.0      1.0      1.0      1.0      1.0      1.0      1.0\n",
       " [2753]      1.0      1.0      1.0      1.0      1.0      1.0      1.0      1.0\n",
       " [2761]      1.0      1.0      1.0      1.0      1.0      1.0      1.0      1.0\n",
       " [2769]      1.0      1.0      1.0      1.0      1.0      1.0      1.0      1.0\n",
       " [2777]      1.0      1.0      1.0      1.0      1.0      1.0      1.0      1.0\n",
       " [2785]      1.0      1.0      1.0      1.0      1.0      1.0      1.0      1.0\n",
       " [2793]      1.0      1.0      1.0      1.0      1.0      1.0      1.0      1.0\n",
       " [2801]      1.0      1.0      1.0      1.0      1.0      1.0      1.0      1.0\n",
       " [2809]      1.0      1.0      1.0      1.0      1.0      1.0      1.0      1.0\n",
       " [2817]      1.0      1.0      1.0      1.0      1.0      1.0      1.0      1.0\n",
       " [2825]      1.0      1.0      1.0      1.0      1.0      1.0      1.0      1.0\n",
       " [2833]      1.0      1.0      1.0      1.0      1.0      1.0      1.0      1.0\n",
       " [2841]      1.0      1.0      1.0      1.0      1.0      1.0      1.0      1.0\n",
       " [2849]      1.0      1.0      1.0      1.0      1.0      1.0      1.0      1.0\n",
       " [2857]      1.0      1.0      1.0      1.0      1.0      1.0      1.0      1.0\n",
       " [2865]      1.0      1.0      1.0      1.0      1.0      1.0      1.0      1.0\n",
       " [2873]      1.0      1.0      1.0      1.0      1.0      1.0      1.0      1.0\n",
       " [2881]      1.0      1.0      1.0      1.0      1.0      1.0      1.0      1.0\n",
       " [2889]      1.0      1.0      1.0      1.0      1.0      1.0      1.0      1.0\n",
       " [2897]      1.0      1.0      1.0      1.0      1.0      1.0      1.0      1.0\n",
       " [2905]      1.0      1.0      1.0      1.0      1.0      1.0      1.0      1.0\n",
       " [2913]      1.0      1.0      1.0      1.0      1.0      1.0      1.0      1.0\n",
       " [2921]      1.0      1.0      1.0      1.0      1.0      1.0      1.0      1.0\n",
       " [2929]      1.0      1.0      1.0      1.0      1.0      1.0      1.0      1.0\n",
       " [2937]      1.0      1.0      1.0      1.0      1.0      1.0      1.0      1.0\n",
       " [2945]      1.0      1.0      1.0      1.0      1.0      1.0      1.0      1.0\n",
       " [2953]      1.0      1.0      1.0      1.0      1.0      1.0      1.0      1.0\n",
       " [2961]      1.0      1.0      1.0      1.0      1.0      1.0      1.0      1.0\n",
       " [2969]      1.0      1.0      1.0      1.0      1.0      1.0      1.0      1.0\n",
       " [2977]      1.0      1.0      1.0      1.0      1.0      1.0      1.0      1.0\n",
       " [2985]      1.0      1.0      1.0      1.0      1.0      1.0      1.0      1.0\n",
       " [2993]      1.0      1.0      1.0      1.0      1.0      1.0      1.0      1.0\n",
       " [3001]      1.0      1.0      1.0      1.0      1.0      1.0      1.0      1.0\n",
       " [3009]      1.0      1.0      1.0      1.0      1.0      1.0      1.0      1.0\n",
       " [3017]      1.0      1.0      1.0      1.0      1.0      1.0      1.0      1.0\n",
       " [3025]      1.0      1.0      1.0      1.0      1.0      1.0      1.0      1.0\n",
       " [3033]      1.0      1.0      1.0      1.0      1.0      1.0      1.0      1.0\n",
       " [3041]      1.0      1.0      1.0      1.0      1.0      1.0      1.0      1.0\n",
       " [3049]      1.0      1.0      1.0      1.0      1.0      1.0      1.0      1.0\n",
       " [3057]      1.0      1.0      1.0      1.0      1.0      1.0      1.0      1.0\n",
       " [3065]      1.0      1.0      1.0      1.0      1.0      1.0      1.0      1.0\n",
       " [3073]      1.0      1.0      1.0      1.0      1.0      1.0      1.0      1.0\n",
       " [3081]      1.0      1.0      1.0      1.0      1.0      1.0      1.0      1.0\n",
       " [3089]      1.0      1.0      1.0      1.0      1.0      1.0      1.0      1.0\n",
       " [3097]      1.0      1.0      1.0      1.0      1.0      1.0      1.0      1.0\n",
       " [3105]      1.0      1.0      1.0      1.0      1.0      1.0      1.0      1.0\n",
       " [3113]      1.0      1.0      1.0      1.0      1.0      1.0      1.0      1.0\n",
       " [3121]      1.0      1.0      1.0      1.0      1.0      1.0      1.0      1.0\n",
       " [3129]      1.0      1.0      1.0      1.0      1.0      1.0      1.0      1.0\n",
       " [3137]      1.0      1.0      1.0      1.0      1.0      1.0      1.0      1.0\n",
       " [3145]      1.0      1.0      1.0      1.0      1.0      1.0      1.0      1.0\n",
       " [3153]      1.0      1.0      1.0      1.0      1.0      1.0      1.0      1.0\n",
       " [3161]      1.0      1.0      1.0      1.0      1.0      1.0      1.0      1.0\n",
       " [3169]      1.0      1.0      1.0      1.0      1.0      1.0      1.0      1.0\n",
       " [3177]      1.0      1.0      1.0      1.0      1.0      1.0      1.0      1.0\n",
       " [3185]      1.0      1.0      1.0      1.0      1.0      1.0      1.0      1.0\n",
       " [3193]      1.0      1.0      1.0      1.0      1.0      1.0      1.0      1.0\n",
       " [3201]      1.0      1.0      1.0      1.0      1.0      1.0      1.0      1.0\n",
       " [3209]      1.0      1.0      1.0      1.0      1.0      1.0      1.0      1.0\n",
       " [3217]      1.0      1.0      1.0      1.0      1.0      1.0      1.0      1.0\n",
       " [3225]      1.0      1.0      1.0      1.0      1.0      1.0      1.0      1.0\n",
       " [3233]      1.0      1.0      1.0      1.0      1.0      1.0      1.0      1.0\n",
       " [3241]      1.0      1.0      1.0      1.0      1.0      1.0      1.0      1.0\n",
       " [3249]      1.0      1.0      1.0      1.0      1.0      1.0      1.0      1.0\n",
       " [3257]      1.0      1.0      1.0      1.0      1.0      1.0      1.0      1.0\n",
       " [3265]      1.0      1.0      1.0      1.0      1.0      1.0      1.0      1.0\n",
       " [3273]      1.0      1.0      1.0      1.0      1.0      1.0      1.0      1.0\n",
       " [3281]      1.0      1.0      1.0      1.0      1.0      1.0      1.0      1.0\n",
       " [3289]      1.0      1.0      1.0      1.0      1.0      1.0      1.0      1.0\n",
       " [3297]      1.0      1.0      1.0      1.0      1.0      1.0      1.0      1.0\n",
       " [3305]      1.0      1.0      1.0      1.0      1.0      1.0      1.0      1.0\n",
       " [3313]      1.0      1.0      1.0      1.0      1.0      1.0      1.0      1.0\n",
       " [3321]      1.0      1.0      1.0      1.0      1.0      1.0      1.0      1.0\n",
       " [3329]      1.0      1.0      1.0      1.0      1.0      1.0      1.0      1.0\n",
       " [3337]      1.0      1.0      1.0      1.0      1.0      1.0      1.0      1.0\n",
       " [3345]      1.0      1.0      1.0      1.0      1.0      1.0      1.0      1.0\n",
       " [3353]      1.0      1.0      1.0      1.0      1.0      1.0      1.0      1.0\n",
       " [3361]      1.0      1.0      1.0      1.0      1.0      1.0      1.0      1.0\n",
       " [3369]      1.0      1.0      1.0      1.0      1.0      1.0      1.0      1.0\n",
       " [3377]      1.0      1.0      1.0      1.0      1.0      1.0      1.0      1.0\n",
       " [3385]      1.0      1.0      1.0      1.0      1.0      1.0      1.0      1.0\n",
       " [3393]      1.0      1.0      1.0      1.0      1.0      1.0      1.0      1.0\n",
       " [3401]      1.0      1.0      1.0      1.0      1.0      1.0      1.0      1.0\n",
       " [3409]      1.0      1.0      1.0      1.0      1.0      1.0      1.0      1.0\n",
       " [3417]      1.0      1.0      1.0      1.0      1.0      1.0      1.0      1.0\n",
       " [3425]      1.0      1.0      1.0      1.0      1.0      1.0      1.0      1.0\n",
       " [3433]      1.0      1.0      1.0      1.0      1.0      1.0      1.0      1.0\n",
       " [3441]      1.0      1.0      1.0      1.0      1.0      1.0      1.0      1.0\n",
       " [3449]      1.0      1.0      1.0      1.0      1.0      1.0      1.0      1.0\n",
       " [3457]      1.0      1.0      1.0      1.0      1.0      1.0      1.0      1.0\n",
       " [3465]      1.0      1.0      1.0      1.0      1.0      1.0      1.0      1.0\n",
       " [3473]      1.0      1.0      1.0      1.0      1.0      1.0      1.0      1.0\n",
       " [3481]      1.0      1.0      1.0      1.0      1.0      1.0      1.0      1.0\n",
       " [3489]      1.0      1.0      1.0      1.0      1.0      1.0      1.0      1.0\n",
       " [3497]      1.0      1.0      1.0      1.0      1.0      1.0      1.0      1.0\n",
       " [3505]      1.0      1.0      1.0      1.0      1.0      1.0      1.0      1.0\n",
       " [3513]      1.0      1.0      1.0      1.0      1.0      1.0      1.0      1.0\n",
       " [3521]      1.0      1.0      1.0      1.0      1.0      1.0      1.0      1.0\n",
       " [3529]      1.0      1.0      1.0      1.0      1.0      1.0      1.0      1.0\n",
       " [3537]      1.0      1.0      1.0      1.0      1.0      1.0      1.0      1.0\n",
       " [3545]      1.0      1.0      1.0      1.0      1.0      1.0      1.0      1.0\n",
       " [3553]      1.0      1.0      1.0      1.0      1.0      1.0      1.0      1.0\n",
       " [3561]      1.0      1.0      1.0      1.0      1.0      1.0      1.0      1.0\n",
       " [3569]      1.0      1.0      1.0      1.0      1.0      1.0      1.0      1.0\n",
       " [3577]      1.0      1.0      1.0      1.0      1.0      1.0      1.0      1.0\n",
       " [3585]      1.0      1.0      1.0      1.0      1.0      1.0      1.0      1.0\n",
       " [3593]      1.0      1.0      1.0      1.0      1.0      1.0      1.0      1.0\n",
       " [3601]      1.0      1.0      1.0      1.0      1.0      1.0      1.0      1.0\n",
       " [3609]      1.0      1.0      1.0      1.0      1.0      1.0      1.0      1.0\n",
       " [3617]      1.0      1.0      1.0      1.0      1.0      1.0      1.0      1.0\n",
       " [3625]      1.0      1.0      1.0      1.0      1.0      1.0      1.0      1.0\n",
       " [3633]      1.0      1.0      1.0      1.0      1.0      1.0      1.0      1.0\n",
       " [3641]      1.0      1.0      1.0      1.0      1.0      1.0      1.0      1.0\n",
       " [3649]      1.0      1.0      1.0      1.0      1.0      1.0      1.0      1.0\n",
       " [3657]      1.0      1.0      1.0      1.0      1.0      1.0      1.0      1.0\n",
       " [3665]      1.0      1.0      1.0      1.0      1.0      1.0      1.0      1.0\n",
       " [3673]      1.0      1.0      1.0      1.0      1.0      1.0      1.0      1.0\n",
       " [3681]      1.0      1.0      1.0      1.0      1.0      1.0      1.0      1.0\n",
       " [3689]      1.0      1.0      1.0      1.0      1.0      1.0      1.0      1.0\n",
       " [3697]      1.0      1.0      1.0      1.0      1.0      1.0      1.0      1.0\n",
       " [3705]      1.0      1.0      1.0      1.0      1.0      1.0      1.0      1.0\n",
       " [3713]      1.0      1.0      1.0      1.0      1.0      1.0      1.0      1.0\n",
       " [3721]      1.0      1.0      1.0      1.0      1.0      1.0      1.0      1.0\n",
       " [3729]      1.0      1.0      1.0      1.0      1.0      1.0      1.0      1.0\n",
       " [3737]      1.0      1.0      1.0      1.0      1.0      1.0      1.0      1.0\n",
       " [3745]      1.0      1.0      1.0      1.0      1.0      1.0      1.0      1.0\n",
       " [3753]      1.0      1.0      1.0      1.0      1.0      1.0      1.0      1.0\n",
       " [3761]      1.0      1.0      1.0      1.0      1.0      1.0      1.0      1.0\n",
       " [3769]      1.0      1.0      1.0      1.0      1.0      1.0      1.0      1.0\n",
       " [3777]      1.0      1.0      1.0      1.0      1.0      1.0      1.0      1.0\n",
       " [3785]      1.0      1.0      1.0      1.0      1.0      1.0      1.0      1.0\n",
       " [3793]      1.0      1.0      1.0      1.0      1.0      1.0      1.0      1.0\n",
       " [3801]      1.0      1.0      1.0      1.0      1.0      1.0      1.0      1.0\n",
       " [3809]      1.0      1.0      1.0      1.0      1.0      1.0      1.0      1.0\n",
       " [3817]      1.0      1.0      1.0      1.0      1.0      1.0      1.0      1.0\n",
       " [3825]      1.0      1.0      1.0      1.0      1.0      1.0      1.0      1.0\n",
       " [3833]      1.0      1.0      1.0      1.0      1.0      1.0      1.0      1.0\n",
       " [3841]      1.0      1.0      1.0      1.0      1.0      1.0      1.0      1.0\n",
       " [3849]      1.0      1.0      1.0      1.0      1.0      1.0      1.0      1.0\n",
       " [3857]      1.0      1.0      1.0      1.0      1.0      1.0      1.0      1.0\n",
       " [3865]      1.0      1.0      1.0      1.0      1.0      1.0      1.0      1.0\n",
       " [3873]      1.0      1.0      1.0      1.0      1.0      1.0      1.0      1.0\n",
       " [3881]      1.0      1.0      1.0      1.0      1.0      1.0      1.0      1.0\n",
       " [3889]      1.0      1.0      1.0      1.0      1.0      1.0      1.0      1.0\n",
       " [3897]      1.0      1.0      1.0      1.0      1.0      1.0      1.0      1.0\n",
       " [3905]      1.0      1.0      1.0      1.0      1.0      1.0      1.0      1.0\n",
       " [3913]      1.0      1.0      1.0      1.0      1.0      1.0      1.0      1.0\n",
       " [3921]      1.0      1.0      1.0      1.0      1.0      1.0      1.0      1.0\n",
       " [3929]      1.0      1.0      1.0      1.0      1.0      1.0      1.0      1.0\n",
       " [3937]      1.0      1.0      1.0      1.0      1.0      1.0      1.0      1.0\n",
       " [3945]      1.0      1.0      1.0      1.0      1.0      1.0      1.0      1.0\n",
       " [3953]      1.0      1.0      1.0      1.0      1.0      1.0      1.0      1.0\n",
       " [3961]      1.0      1.0      1.0      1.0      1.0      1.0      1.0      1.0\n",
       " [3969]      1.0      1.0      1.0      1.0      1.0      1.0      1.0      1.0\n",
       " [3977]      1.0      1.0      1.0      1.0      1.0      1.0      1.0      1.0\n",
       " [3985]      1.0      1.0      1.0      1.0      1.0      1.0      1.0      1.0\n",
       " [3993]      1.0      1.0      1.0      1.0      1.0      1.0      1.0      1.0\n",
       " [4001]      1.0      1.0      1.0      1.0      1.0      1.0      1.0      1.0\n",
       " [4009]      1.0      1.0      1.0      1.0      1.0      1.0      1.0      1.0\n",
       " [4017]      1.0      1.0      1.0      1.0      1.0      1.0      1.0      1.0\n",
       " [4025]      1.0      1.0      1.0      1.0      1.0      1.0      1.0      1.0\n",
       " [4033]      1.0      1.0      1.0      1.0      1.0      1.0      1.0      1.0\n",
       " [4041]      1.0      1.0      1.0      1.0      1.0      1.0      1.0      1.0\n",
       " [4049]      1.0      1.0      1.0      1.0      1.0      1.0      1.0      1.0\n",
       " [4057]      1.0      1.0      1.0      1.0      1.0      1.0      1.0      1.0\n",
       " [4065]      1.0      1.0      1.0      1.0      1.0      1.0      1.0      1.0\n",
       " [4073]      1.0      1.0      1.0      1.0      1.0      1.0      1.0      1.0\n",
       " [4081]      1.0      1.0      1.0      1.0      1.0      1.0      1.0      1.0\n",
       " [4089]      1.0      1.0      1.0      1.0      1.0      1.0      1.0      1.0\n",
       " [4097]      1.0      1.0      1.0      1.0      1.0      1.0      1.0      1.0\n",
       " [4105]      1.0      1.0      1.0      1.0      1.0      1.0      1.0      1.0\n",
       " [4113]      1.0      1.0      1.0      1.0      1.0      1.0      1.0      1.0\n",
       " [4121]      1.0      1.0      1.0      1.0      1.0      1.0      1.0      1.0\n",
       " [4129]      1.0      1.0      1.0      1.0      1.0      1.0      1.0      1.0\n",
       " [4137]      1.0      1.0      1.0      1.0      1.0      1.0      1.0      1.0\n",
       " [4145]      1.0      1.0      1.0      1.0      1.0      1.0      1.0      1.0\n",
       " [4153]      1.0      1.0      1.0      1.0      1.0      1.0      1.0      1.0\n",
       " [4161]      1.0      1.0      1.0      1.0      1.0      1.0      1.0      1.0\n",
       " [4169]      1.0      1.0      1.0      1.0      1.0      1.0      1.0      1.0\n",
       " [4177]      1.0      1.0      1.0      1.0      1.0      1.0      1.0      1.0\n",
       " [4185]      1.0      1.0      1.0      1.0      1.0      1.0      1.0      1.0\n",
       " [4193]      1.0      1.0      1.0      1.0      1.0      1.0      1.0      1.0\n",
       " [4201]      1.0      1.0      1.0      1.0      1.0      1.0      1.0      1.0\n",
       " [4209]      1.0      1.0      1.0      1.0      1.0      1.0      1.0      1.0\n",
       " [4217]      1.0      1.0      1.0      1.0      1.0      1.0      1.0      1.0\n",
       " [4225]      1.0      1.0      1.0      1.0      1.0      1.0      1.0      1.0\n",
       " [4233]      1.0      1.0      1.0      1.0      1.0      1.0      1.0      1.0\n",
       " [4241]      1.0      1.0      1.0      1.0      1.0      1.0      1.0      1.0\n",
       " [4249]      1.0      1.0      1.0      1.0      1.0      1.0      1.0      1.0\n",
       " [4257]      1.0      1.0      1.0      1.0      1.0      1.0      1.0      1.0\n",
       " [4265]      1.0      1.0      1.0      1.0      1.0      1.0      1.0      1.0\n",
       " [4273]      1.0      1.0      1.0      1.0      1.0      1.0      1.0      1.0\n",
       " [4281]      1.0      1.0      1.0      1.0      1.0      1.0      1.0      1.0\n",
       " [4289]      1.0      1.0      1.0      1.0      1.0      1.0      1.0      1.0\n",
       " [4297]      1.0      1.0      1.0      1.0      1.0      1.0      1.0      1.0\n",
       " [4305]      1.0      1.0      1.0      1.0      1.0      1.0      1.0      1.0\n",
       " [4313]      1.0      1.0      1.0      1.0      1.0      1.0      1.0      1.0\n",
       " [4321]      1.0      1.0      1.0      1.0      1.0      1.0      1.0      1.0\n",
       " [4329]      1.0      1.0      1.0      1.0      1.0      1.0      1.0      1.0\n",
       " [4337]      1.0      1.0      1.0      1.0      1.0      1.0      1.0      1.0\n",
       " [4345]      1.0      1.0      1.0      1.0      1.0      1.0      1.0      1.0\n",
       " [4353]      1.0      1.0      1.0      1.0      1.0      1.0      1.0      1.0\n",
       " [4361]      1.0      1.0      1.0      1.0      1.0      1.0      1.0      1.0\n",
       " [4369]      1.0      1.0      1.0      1.0      1.0      1.0      1.0      1.0\n",
       " [4377]      1.0      1.0      1.0      1.0      1.0      1.0      1.0      1.0\n",
       " [4385]      1.0      1.0      1.0      1.0      1.0      1.0      1.0      1.0\n",
       " [4393]      1.0      1.0      1.0      1.0      1.0      1.0      1.0      1.0\n",
       " [4401]      1.0      1.0      1.0      1.0      1.0      1.0      1.0      1.0\n",
       " [4409]      1.0      1.0      1.0      1.0      1.0      1.0      1.0      1.0\n",
       " [4417]      1.0      1.0      1.0      1.0      1.0      1.0      1.0      1.0\n",
       " [4425]      1.0      1.0      1.0      1.0      1.0      1.0      1.0      1.0\n",
       " [4433]      1.0      1.0      1.0      1.0      1.0      1.0      1.0      1.0\n",
       " [4441]      1.0      1.0      1.0      1.0      1.0      1.0      1.0      1.0\n",
       " [4449]      1.0      1.0      1.0      1.0      1.0      1.0      1.0      1.0\n",
       " [4457]      1.0      1.0      1.0      1.0      1.0      1.0      1.0      1.0\n",
       " [4465]      1.0      1.0      1.0      1.0      1.0      1.0      1.0      1.0\n",
       " [4473]      1.0      1.0      1.0      1.0      1.0      1.0      1.0      1.0\n",
       " [4481]      1.0      1.0      1.0      1.0      1.0      1.0      1.0      1.0\n",
       " [4489]      1.0      1.0      1.0      1.0      1.0      1.0      1.0      1.0\n",
       " [4497]      1.0      1.0      1.0      1.0      1.0      1.0      1.0      1.0\n",
       " [4505]      1.0      1.0      1.0      1.0      1.0      1.0      1.0      1.0\n",
       " [4513]      1.0      1.0      1.0      1.0      1.0      1.0      1.0      1.0\n",
       " [4521]      1.0      1.0      1.0      1.0      1.0      1.0      1.0      1.0\n",
       " [4529]      1.0      1.0      1.0      1.0      1.0      1.0      1.0      1.0\n",
       " [4537]      1.0      1.0      1.0      1.0      1.0      1.0      1.0      1.0\n",
       " [4545]      1.0      1.0      1.0      1.0      1.0      1.0      1.0      1.0\n",
       " [4553]      1.0      1.0      1.0      1.0      1.0      1.0      1.0      1.0\n",
       " [4561]      1.0      1.0      1.0      1.0      1.0      1.0      1.0      1.0\n",
       " [4569]      1.0      1.0      1.0      1.0      1.0      1.0      1.0      1.0\n",
       " [4577]      1.0      1.0      1.0      1.0      1.0      1.0      1.0      1.0\n",
       " [4585]      1.0      1.0      1.0      1.0      1.0      1.0      1.0      1.0\n",
       " [4593]      1.0      1.0      1.0      1.0      1.0      1.0      1.0      1.0\n",
       " [4601]      1.0      1.0      1.0      1.0      1.0      1.0      1.0      1.0\n",
       " [4609]      1.0      1.0      1.0      1.0      1.0      1.0      1.0      1.0\n",
       " [4617]      1.0      1.0      1.0      1.0      1.0      1.0      1.0      1.0\n",
       " [4625]      1.0      1.0      1.0      1.0      1.0      1.0      1.0      1.0\n",
       " [4633]      1.0      1.0      1.0      1.0      1.0      1.0      1.0      1.0\n",
       " [4641]      1.0      1.0      1.0      1.0      1.0      1.0      1.0      1.0\n",
       " [4649]      1.0      1.0      1.0      1.0      1.0      1.0      1.0      1.0\n",
       " [4657]      1.0      1.0      1.0      1.0      1.0      1.0      1.0      1.0\n",
       " [4665]      1.0      1.0      1.0      1.0      1.0      1.0      1.0      1.0\n",
       " [4673]      1.0      1.0      1.0      1.0      1.0      1.0      1.0      1.0\n",
       " [4681]      1.0      1.0      1.0      1.0      1.0      1.0      1.0      1.0\n",
       " [4689]      1.0      1.0      1.0      1.0      1.0      1.0      1.0      1.0\n",
       " [4697]      1.0      1.0      1.0      1.0      1.0      1.0      1.0      1.0\n",
       " [4705]      1.0      1.0      1.0      1.0      1.0      1.0      1.0      1.0\n",
       " [4713]      1.0      1.0      1.0      1.0      1.0      1.0      1.0      1.0\n",
       " [4721]      1.0      1.0      1.0      1.0      1.0      1.0      1.0      1.0\n",
       " [4729]      1.0      1.0      1.0      1.0      1.0      1.0      1.0      1.0\n",
       " [4737]      1.0      1.0      1.0      1.0      1.0      1.0      1.0      1.0\n",
       " [4745]      1.0      1.0      1.0      1.0      1.0      1.0      1.0      1.0\n",
       " [4753]      1.0      1.0      1.0      1.0      1.0      1.0      1.0      1.0\n",
       " [4761]      1.0      1.0      1.0      1.0      1.0      1.0      1.0      1.0\n",
       " [4769]      1.0      1.0      1.0      1.0      1.0      1.0      1.0      1.0\n",
       " [4777]      1.0      1.0      1.0      1.0      1.0      1.0      1.0      1.0\n",
       " [4785]      1.0      1.0      1.0      1.0      1.0      1.0      1.0      1.0\n",
       " [4793]      1.0      1.0      1.0      1.0      1.0      1.0      1.0      1.0\n",
       " [4801]      1.0      1.0      1.0      1.0      1.0      1.0      1.0      1.0\n",
       " [4809]      1.0      1.0      1.0      1.0      1.0      1.0      1.0      1.0\n",
       " [4817]      1.0      1.0      1.0      1.0      1.0      1.0      1.0      1.0\n",
       " [4825]      1.0      1.0      1.0      1.0      1.0      1.0      1.0      1.0\n",
       " [4833]      1.0      1.0      1.0      1.0      1.0      1.0      1.0      1.0\n",
       " [4841]      1.0      1.0      1.0      1.0      1.0      1.0      1.0      1.0\n",
       " [4849]      1.0      1.0      1.0      1.0      1.0      1.0      1.0      1.0\n",
       " [4857]      1.0      1.0      1.0      1.0      1.0      1.0      1.0      1.0\n",
       " [4865]      1.0      1.0      1.0      1.0      1.0      1.0      1.0      1.0\n",
       " [4873]      1.0      1.0      1.0      1.0      1.0      1.0      1.0      1.0\n",
       " [4881]      1.0      1.0      1.0      1.0      1.0      1.0      1.0      1.0\n",
       " [4889]      1.0      1.0      1.0      1.0      1.0      1.0      1.0      1.0\n",
       " [4897]      1.0      1.0      1.0      1.0      1.0      1.0      1.0      1.0\n",
       " [4905]      1.0      1.0      1.0      1.0      1.0      1.0      1.0      1.0\n",
       " [4913]      1.0      1.0      1.0      1.0      1.0      1.0      1.0      1.0\n",
       " [4921]      1.0      1.0      1.0      1.0      1.0      1.0      1.0      1.0\n",
       " [4929]      1.0      1.0      1.0      1.0      1.0      1.0      1.0      1.0\n",
       " [4937]      1.0      1.0      1.0      1.0      1.0      1.0      1.0      1.0\n",
       " [4945]      1.0      1.0      1.0      1.0      1.0      1.0      1.0      1.0\n",
       " [4953]      1.0      1.0      1.0      1.0      1.0      1.0      1.0      1.0\n",
       " [4961]      1.0      1.0      1.0      1.0      1.0      1.0      1.0      1.0\n",
       " [4969]      1.0      1.0      1.0      1.0      1.0      1.0      1.0      1.0\n",
       " [4977]      1.0      1.0      1.0      1.0      1.0      1.0      1.0      1.0\n",
       " [4985]      1.0      1.0      1.0      1.0      1.0      1.0      1.0      1.0\n",
       " [4993]      1.0      1.0      1.0      1.0      1.0      1.0      1.0      1.0\n",
       " [5001]      1.0      1.0      1.0      1.0      1.0      1.0      1.0      1.0\n",
       " [5009]      1.0      1.0      1.0      1.0      1.0      1.0      1.0      1.0\n",
       " [5017]      1.0      1.0      1.0      1.0      1.0      1.0      1.0      1.0\n",
       " [5025]      1.0      1.0      1.0      1.0      1.0      1.0      1.0      1.0\n",
       " [5033]      1.0      1.0      1.0      1.0      1.0      1.0      1.0      1.0\n",
       " [5041]      1.0      1.0      1.0      1.0      1.0      1.0      1.0      1.0\n",
       " [5049]      1.0      1.0      1.0      1.0      1.0      1.0      1.0      1.0\n",
       " [5057]      1.0      1.0      1.0      1.0      1.0      1.0      1.0      1.0\n",
       " [5065]      1.0      1.0      1.0      1.0      1.0      1.0      1.0      1.0\n",
       " [5073]      1.0      1.0      1.0      1.0      1.0      1.0      1.0      1.0\n",
       " [5081]      1.0      1.0      1.0      1.0      1.0      1.0      1.0      1.0\n",
       " [5089]      1.0      1.0      1.0      1.0      1.0      1.0      1.0      1.0\n",
       " [5097]      1.0      1.0      1.0      1.0      1.0      1.0      1.0      1.0\n",
       " [5105]      1.0      1.0      1.0      1.0      1.0      1.0      1.0      1.0\n",
       " [5113]      1.0      1.0      1.0      1.0      1.0      1.0      1.0      1.0\n",
       " [5121]      1.0      1.0      1.0      1.0      1.0      1.0      1.0      1.0\n",
       " [5129]      1.0      1.0      1.0      1.0      1.0      1.0      1.0      1.0\n",
       " [5137]      1.0      1.0      1.0      1.0      1.0      1.0      1.0      1.0\n",
       " [5145]      1.0      1.0      1.0      1.0      1.0      1.0      1.0      1.0\n",
       " [5153]      1.0      1.0      1.0      1.0      1.0      1.0      1.0      1.0\n",
       " [5161]      1.0      1.0      1.0      1.0      1.0      1.0      1.0      1.0\n",
       " [5169]      1.0      1.0      1.0      1.0      1.0      1.0      1.0      1.0\n",
       " [5177]      1.0      1.0      1.0      1.0      1.0      1.0      1.0      1.0\n",
       " [5185]      1.0      1.0      1.0      1.0      1.0      1.0      1.0      1.0\n",
       " [5193]      1.0      1.0      1.0      1.0      1.0      1.0      1.0      1.0\n",
       " [5201]      1.0      1.0      1.0      1.0      1.0      1.0      1.0      1.0\n",
       " [5209]      1.0      1.0      1.0      1.0      1.0      1.0      1.0      1.0\n",
       " [5217]      1.0      1.0      1.0      1.0      1.0      1.0      1.0      1.0\n",
       " [5225]      1.0      1.0      1.0      1.0      1.0      1.0      1.0      1.0\n",
       " [5233]      1.0      1.0      1.0      1.0      1.0      1.0      1.0      1.0\n",
       " [5241]      1.0      1.0      1.0      1.0      1.0      1.0      1.0      1.0\n",
       " [5249]      1.0      1.0      1.0      1.0      1.0      1.0      1.0      1.0\n",
       " [5257]      1.0      1.0      1.0      1.0      1.0      1.0      1.0      1.0\n",
       " [5265]      1.0      1.0      1.0      1.0      1.0      1.0      1.0      1.0\n",
       " [5273]      1.0      1.0      1.0      1.0      1.0      1.0      1.0      1.0\n",
       " [5281]      1.0      1.0      1.0      1.0      1.0      1.0      1.0      1.0\n",
       " [5289]      1.0      1.0      1.0      1.0      1.0      1.0      1.0      1.0\n",
       " [5297]      1.0      1.0      1.0      1.0      1.0      1.0      1.0      1.0\n",
       " [5305]      1.0      1.0      1.0      1.0      1.0      1.0      1.0      1.0\n",
       " [5313]      1.0      1.0      1.0      1.0      1.0      1.0      1.0      1.0\n",
       " [5321]      1.0      1.0      1.0      1.0      1.0      1.0      1.0      1.0\n",
       " [5329]      1.0      1.0      1.0      1.0      1.0      1.0      1.0      1.0\n",
       " [5337]      1.0      1.0      1.0      1.0      1.0      1.0      1.0      1.0\n",
       " [5345]      1.0      1.0      1.0      1.0      1.0      1.0      1.0      1.0\n",
       " [5353]      1.0      1.0      1.0      1.0      1.0      1.0      1.0      1.0\n",
       " [5361]      1.0      1.0      1.0      1.0      1.0      1.0      1.0      1.0\n",
       " [5369]      1.0      1.0      1.0      1.0      1.0      1.0      1.0      1.0\n",
       " [5377]      1.0      1.0      1.0      1.0      1.0      1.0      1.0      1.0\n",
       " [5385]      1.0      1.0      1.0      1.0      1.0      1.0      1.0      1.0\n",
       " [5393]      1.0      1.0      1.0      1.0      1.0      1.0      1.0      1.0\n",
       " [5401]      1.0      1.0      1.0      1.0      1.0      1.0      1.0      1.0\n",
       " [5409]      1.0      1.0      1.0      1.0      1.0      1.0      1.0      1.0\n",
       " [5417]      1.0      1.0      1.0      1.0      1.0      1.0      1.0      1.0\n",
       " [5425]      1.0      1.0      1.0      1.0      1.0      1.0      1.0      1.0\n",
       " [5433]      1.0      1.0      1.0      1.0      1.0      1.0      1.0      1.0\n",
       " [5441]      1.0      1.0      1.0      1.0      1.0      1.0      1.0      1.0\n",
       " [5449]      1.0      1.0      1.0      1.0      1.0      1.0      1.0      1.0\n",
       " [5457]      1.0      1.0      1.0      1.0      1.0      1.0      1.0      1.0\n",
       " [5465]      1.0      1.0      1.0      1.0      1.0      1.0      1.0      1.0\n",
       " [5473]      1.0      1.0      1.0      1.0      1.0      1.0      1.0      1.0\n",
       " [5481]      1.0      1.0      1.0      1.0      1.0      1.0      1.0      1.0\n",
       " [5489]      1.0      1.0      1.0      1.0      1.0      1.0      1.0      1.0\n",
       " [5497]      1.0      1.0      1.0      1.0      1.0      1.0      1.0      1.0\n",
       " [5505]      1.0      1.0      1.0      1.0      1.0      1.0      1.0      1.0\n",
       " [5513]      1.0      1.0      1.0      1.0      1.0      1.0      1.0      1.0\n",
       " [5521]      1.0      1.0      1.0      1.0      1.0      1.0      1.0      1.0\n",
       " [5529]      1.0      1.0      1.0      1.0      1.0      1.0      1.0      1.0\n",
       " [5537]      1.0      1.0      1.0      1.0      1.0      1.0      1.0      1.0\n",
       " [5545]      1.0      1.0      1.0      1.0      1.0      1.0      1.0      1.0\n",
       " [5553]      1.0      1.0      1.0      1.0      1.0      1.0      1.0      1.0\n",
       " [5561]      1.0      1.0      1.0      1.0      1.0      1.0      1.0      1.0\n",
       " [5569]      1.0      1.0      1.0      1.0      1.0      1.0      1.0      1.0\n",
       " [5577]      1.0      1.0      1.0      1.0      1.0      1.0      1.0      1.0\n",
       " [5585]      1.0      1.0      1.0      1.0      1.0      1.0      1.0      1.0\n",
       " [5593]      1.0      1.0      1.0      1.0      1.0      1.0      1.0      1.0\n",
       " [5601]      1.0      1.0      1.0      1.0      1.0      1.0      1.0      1.0\n",
       " [5609]      1.0      1.0      1.0      1.0      1.0      1.0      1.0      1.0\n",
       " [5617]      1.0      1.0      1.0      1.0      1.0      1.0      1.0      1.0\n",
       " [5625]      1.0      1.0      1.0      1.0      1.0      1.0      1.0      1.0\n",
       " [5633]      1.0      1.0      1.0      1.0      1.0      1.0      1.0      1.0\n",
       " [5641]      1.0      1.0      1.0      1.0      1.0      1.0      1.0      1.0\n",
       " [5649]      1.0      1.0      1.0      1.0      1.0      1.0      1.0      1.0\n",
       " [5657]      1.0      1.0      1.0      1.0      1.0      1.0      1.0      1.0\n",
       " [5665]      1.0      1.0      1.0      1.0      1.0      1.0      1.0      1.0\n",
       " [5673]      1.0      1.0      1.0      1.0      1.0      1.0      1.0      1.0\n",
       " [5681]      1.0      1.0      1.0      1.0      1.0      1.0      1.0      1.0\n",
       " [5689]      1.0      1.0      1.0      1.0      1.0      1.0      1.0      1.0\n",
       " [5697]      1.0      1.0      1.0      1.0      1.0      1.0      1.0      1.0\n",
       " [5705]      1.0      1.0      1.0      1.0      1.0      1.0      1.0      1.0\n",
       " [5713]      1.0      1.0      1.0      1.0      1.0      1.0      1.0      1.0\n",
       " [5721]      1.0      1.0      1.0      1.0      1.0      1.0      1.0      1.0\n",
       " [5729]      1.0      1.0      1.0      1.0      1.0      1.0      1.0      1.0\n",
       " [5737]      1.0      1.0      1.0      1.0      1.0      1.0      1.0      1.0\n",
       " [5745]      1.0      1.0      1.0      1.0      1.0      1.0      1.0      1.0\n",
       " [5753]      1.0      1.0      1.0      1.0      1.0      1.0      1.0      1.0\n",
       " [5761]      1.0      1.0      1.0      1.0      1.0      1.0      1.0      1.0\n",
       " [5769]      1.0      1.0      1.0      1.0      1.0      1.0      1.0      1.0\n",
       " [5777]      1.0      1.0      1.0      1.0      1.0      1.0      1.0      1.0\n",
       " [5785]      1.0      1.0      1.0      1.0      1.0      1.0      1.0      1.0\n",
       " [5793]      1.0      1.0      1.0      1.0      1.0      1.0      1.0      1.0\n",
       " [5801]      1.0      1.0      1.0      1.0      1.0      1.0      1.0      1.0\n",
       " [5809]      1.0      1.0      1.0      1.0      1.0      1.0      1.0      1.0\n",
       " [5817]      1.0      1.0      1.0      1.0      1.0      1.0      1.0      1.0\n",
       " [5825]      1.0      1.0      1.0      1.0      1.0      1.0      1.0      1.0\n",
       " [5833]      1.0      1.0      1.0      1.0      1.0      1.0      1.0      1.0\n",
       " [5841]      1.0      1.0      1.0      1.0      1.0      1.0      1.0      1.0\n",
       " [5849]      1.0      1.0      1.0      1.0      1.0      1.0      1.0      1.0\n",
       " [5857]      1.0      1.0      1.0      1.0      1.0      1.0      1.0      1.0\n",
       " [5865]      1.0      1.0      1.0      1.0      1.0      1.0      1.0      1.0\n",
       " [5873]      1.0      1.0      1.0      1.0      1.0      1.0      1.0      1.0\n",
       " [5881]      1.0      1.0      1.0      1.0      1.0      1.0      1.0      1.0\n",
       " [5889]      1.0      1.0      1.0      1.0      1.0      1.0      1.0      1.0\n",
       " [5897]      1.0      1.0      1.0      1.0      1.0      1.0      1.0      1.0\n",
       " [5905]      1.0      1.0      1.0      1.0      1.0      1.0      1.0      1.0\n",
       " [5913]      1.0      1.0      1.0      1.0      1.0      1.0      1.0      1.0\n",
       " [5921]      1.0      1.0      1.0      1.0      1.0      1.0      1.0      1.0\n",
       " [5929]      1.0      1.0      1.0      1.0      1.0      1.0      1.0      1.0\n",
       " [5937]      1.0      1.0      1.0      1.0      1.0      1.0      1.0      1.0\n",
       " [5945]      1.0      1.0      1.0      1.0      1.0      1.0      1.0      1.0\n",
       " [5953]      1.0      1.0      1.0      1.0      1.0      1.0      1.0      1.0\n",
       " [5961]      1.0      1.0      1.0      1.0      1.0      1.0      1.0      1.0\n",
       " [5969]      1.0      1.0      1.0      1.0      1.0      1.0      1.0      1.0\n",
       " [5977]      1.0      1.0      1.0      1.0      1.0      1.0      1.0      1.0\n",
       " [5985]      1.0      1.0      1.0      1.0      1.0      1.0      1.0      1.0\n",
       " [5993]      1.0      1.0      1.0      1.0      1.0      1.0      1.0      1.0\n",
       " [6001]      1.0      1.0      1.0      1.0      1.0      1.0      1.0      1.0\n",
       " [6009]      1.0      1.0      1.0      1.0      1.0      1.0      1.0      1.0\n",
       " [6017]      1.0      1.0      1.0      1.0      1.0      1.0      1.0      1.0\n",
       " [6025]      1.0      1.0      1.0      1.0      1.0      1.0      1.0      1.0\n",
       " [6033]      1.0      1.0      1.0      1.0      1.0      1.0      1.0      1.0\n",
       " [6041]      1.0      1.0      1.0      1.0      1.0      1.0      1.0      1.0\n",
       " [6049]      1.0      1.0      1.0      1.0      1.0      1.0      1.0      1.0\n",
       " [6057]      1.0      1.0      1.0      1.0      1.0      1.0      1.0      1.0\n",
       " [6065]      1.0      1.0      1.0      1.0      1.0      1.0      1.0      1.0\n",
       " [6073]      1.0      1.0      1.0      1.0      1.0      1.0      1.0      1.0\n",
       " [6081]      1.0      1.0      1.0      1.0      1.0      1.0      1.0      1.0\n",
       " [6089]      1.0      1.0      1.0      1.0      1.0      1.0      1.0      1.0\n",
       " [6097]      1.0      1.0      1.0      1.0      1.0      1.0      1.0      1.0\n",
       " [6105]      1.0      1.0      1.0      1.0      1.0      1.0      1.0      1.0\n",
       " [6113]      1.0      1.0      1.0      1.0      1.0      1.0      1.0      1.0\n",
       " [6121]      1.0      1.0      1.0      1.0      1.0      1.0      1.0      1.0\n",
       " [6129]      1.0      1.0      1.0      1.0      1.0      1.0      1.0      1.0\n",
       " [6137]      1.0      1.0      1.0      1.0      1.0      1.0      1.0      1.0\n",
       " [6145]      1.0      1.0      1.0      1.0      1.0      1.0      1.0      1.0\n",
       " [6153]      1.0      1.0      1.0      1.0      1.0      1.0      1.0      1.0\n",
       " [6161]      1.0      1.0      1.0      1.0      1.0      1.0      1.0      1.0\n",
       " [6169]      1.0      1.0      1.0      1.0      1.0      1.0      1.0      1.0\n",
       " [6177]      1.0      1.0      1.0      1.0      1.0      1.0      1.0      1.0\n",
       " [6185]      1.0      1.0      1.0      1.0      1.0      1.0      1.0      1.0\n",
       " [6193]      1.0      1.0      1.0      1.0      1.0      1.0      1.0      1.0\n",
       " [6201]      1.0      1.0      1.0      1.0      1.0      1.0      1.0      1.0\n",
       " [6209]      1.0      1.0      1.0      1.0      1.0      1.0      1.0      1.0\n",
       " [6217]      1.0      1.0      1.0      1.0      1.0      1.0      1.0      1.0\n",
       " [6225]      1.0      1.0      1.0      1.0      1.0      1.0      1.0      1.0\n",
       " [6233]      1.0      1.0      1.0      1.0      1.0      1.0      1.0      1.0\n",
       " [6241]      1.0      1.0      1.0      1.0      1.0      1.0      1.0      1.0\n",
       " [6249]      1.0      1.0      1.0      1.0      1.0      1.0      1.0      1.0\n",
       " [6257]      1.0      1.0      1.0      1.0      1.0      1.0      1.0      1.0\n",
       " [6265]      1.0      1.0      1.0      1.0      1.0      1.0      1.0      1.0\n",
       " [6273]      1.0      1.0      1.0      1.0      1.0      1.0      1.0      1.0\n",
       " [6281]      1.0      1.0      1.0      1.0      1.0      1.0      1.0      1.0\n",
       " [6289]      1.0      1.0      1.0      1.0      1.0      1.0      1.0      1.0\n",
       " [6297]      1.0      1.0      1.0      1.0      1.0      1.0      1.0      1.0\n",
       " [6305]      1.0      1.0      1.0      1.0      1.0      1.0      1.0      1.0\n",
       " [6313]      1.0      1.0      1.0      1.0      1.0      1.0      1.0      1.0\n",
       " [6321]      1.0      1.0      1.0      1.0      1.0      1.0      1.0      1.0\n",
       " [6329]      1.0      1.0      1.0      1.0      1.0      1.0      1.0      1.0\n",
       " [6337]      1.0      1.0      1.0      1.0      1.0      1.0      1.0      1.0\n",
       " [6345]      1.0      1.0      1.0      1.0      1.0      1.0      1.0      1.0\n",
       " [6353]      1.0      1.0      1.0      1.0      1.0      1.0      1.0      1.0\n",
       " [6361]      1.0      1.0      1.0      1.0      1.0      1.0      1.0      1.0\n",
       " [6369]      1.0      1.0      1.0      1.0      1.0      1.0      1.0      1.0\n",
       " [6377]      1.0      1.0      1.0      1.0      1.0      1.0      1.0      1.0\n",
       " [6385]      1.0      1.0      1.0      1.0      1.0      1.0      1.0      1.0\n",
       " [6393]      1.0      1.0      1.0      1.0      1.0      1.0      1.0      1.0\n",
       " [6401]      1.0      1.0      1.0      1.0      1.0      1.0      1.0      1.0\n",
       " [6409]      1.0      1.0      1.0      1.0      1.0      1.0      1.0      1.0\n",
       " [6417]      1.0      1.0      1.0      1.0      1.0      1.0      1.0      1.0\n",
       " [6425]      1.0      1.0      1.0      1.0      1.0      1.0      1.0      1.0\n",
       " [6433]      1.0      1.0      1.0      1.0      1.0      1.0      1.0      1.0\n",
       " [6441]      1.0      1.0      1.0      1.0      1.0      1.0      1.0      1.0\n",
       " [6449]      1.0      1.0      1.0      1.0      1.0      1.0      1.0      1.0\n",
       " [6457]      1.0      1.0      1.0      1.0      1.0      1.0      1.0      1.0\n",
       " [6465]      1.0      1.0      1.0      1.0      1.0      1.0      1.0      1.0\n",
       " [6473]      1.0      1.0      1.0      1.0      1.0      1.0      1.0      1.0\n",
       " [6481]      1.0      1.0      1.0      1.0      1.0      1.0      1.0      1.0\n",
       " [6489]      1.0      1.0      1.0      1.0      1.0      1.0      1.0      1.0\n",
       " [6497]      1.0      1.0      1.0      1.0      1.0      1.0      1.0      1.0\n",
       " [6505]      1.0      1.0      1.0      1.0      1.0      1.0      1.0      1.0\n",
       " [6513]      1.0      1.0      1.0      1.0      1.0      1.0      1.0      1.0\n",
       " [6521]      1.0      1.0      1.0      1.0      1.0      1.0      1.0      1.0\n",
       " [6529]      1.0      1.0      1.0      1.0      1.0      1.0      1.0      1.0\n",
       " [6537]      1.0      1.0      1.0      1.0      1.0      1.0      1.0      1.0\n",
       " [6545]      1.0      1.0      1.0      1.0      1.0      1.0      1.0      1.0\n",
       " [6553]      1.0      1.0      1.0      1.0      1.0      1.0      1.0      1.0\n",
       " [6561]      1.0      1.0      1.0      1.0      1.0      1.0      1.0      1.0\n",
       " [6569]      1.0      1.0      1.0      1.0      1.0      1.0      1.0      1.0\n",
       " [6577]      1.0      1.0      1.0      1.0      1.0      1.0      1.0      1.0\n",
       " [6585]      1.0      1.0      1.0      1.0      1.0      1.0      1.0      1.0\n",
       " [6593]      1.0      1.0      1.0      1.0      1.0      1.0      1.0      1.0\n",
       " [6601]      1.0      1.0      1.0      1.0      1.0      1.0      1.0      1.0\n",
       " [6609]      1.0      1.0      1.0      1.0      1.0      1.0      1.0      1.0\n",
       " [6617]      1.0      1.0      1.0      1.0      1.0      1.0      1.0      1.0\n",
       " [6625]      1.0      1.0      1.0      1.0      1.0      1.0      1.0      1.0\n",
       " [6633]      1.0      1.0      1.0      1.0      1.0      1.0      1.0      1.0\n",
       " [6641]      1.0      1.0      1.0      1.0      1.0      1.0      1.0      1.0\n",
       " [6649]      1.0      1.0      1.0      1.0      1.0      1.0      1.0      1.0\n",
       " [6657]      1.0      1.0      1.0      1.0      1.0      1.0      1.0      1.0\n",
       " [6665]      1.0      1.0      1.0      1.0      1.0      1.0      1.0      1.0\n",
       " [6673]      1.0      1.0      1.0      1.0      1.0      1.0      1.0      1.0\n",
       " [6681]      1.0      1.0      1.0      1.0      1.0      1.0      1.0      1.0\n",
       " [6689]      1.0      1.0      1.0      1.0      1.0      1.0      1.0      1.0\n",
       " [6697]      1.0      1.0      1.0      1.0      1.0      1.0      1.0      1.0\n",
       " [6705]      1.0      1.0      1.0      1.0      1.0      1.0      1.0      1.0\n",
       " [6713]      1.0      1.0      1.0      1.0      1.0      1.0      1.0      1.0\n",
       " [6721]      1.0      1.0      1.0      1.0      1.0      1.0      1.0      1.0\n",
       " [6729]      1.0      1.0      1.0      1.0      1.0      1.0      1.0      1.0\n",
       " [6737]      1.0      1.0      1.0      1.0      1.0      1.0      1.0      1.0\n",
       " [6745]      1.0      1.0      1.0      1.0      1.0      1.0      1.0      1.0\n",
       " [6753]      1.0      1.0      1.0      1.0      1.0      1.0      1.0      1.0\n",
       " [6761]      1.0      1.0      1.0      1.0      1.0      1.0      1.0      1.0\n",
       " [6769]      1.0      1.0      1.0      1.0      1.0      1.0      1.0      1.0\n",
       " [6777]      1.0      1.0      1.0      1.0      1.0      1.0      1.0      1.0\n",
       " [6785]      1.0      1.0      1.0      1.0      1.0      1.0      1.0      1.0\n",
       " [6793]      1.0      1.0      1.0      1.0      1.0      1.0      1.0      1.0\n",
       " [6801]      1.0      1.0      1.0      1.0      1.0      1.0      1.0      1.0\n",
       " [6809]      1.0      1.0      1.0      1.0      1.0      1.0      1.0      1.0\n",
       " [6817]      1.0      1.0      1.0      1.0      1.0      1.0      1.0      1.0\n",
       " [6825]      1.0      1.0      1.0      1.0      1.0      1.0      1.0      1.0\n",
       " [6833]      1.0      1.0      1.0      1.0      1.0      1.0      1.0      1.0\n",
       " [6841]      1.0      1.0      1.0      1.0      1.0      1.0      1.0      1.0\n",
       " [6849]      1.0      1.0      1.0      1.0      1.0      1.0      1.0      1.0\n",
       " [6857]      1.0      1.0      1.0      1.0      1.0      1.0      1.0      1.0\n",
       " [6865]      1.0      1.0      1.0      1.0      1.0      1.0      1.0      1.0\n",
       " [6873]      1.0      1.0      1.0      1.0      1.0      1.0      1.0      1.0\n",
       " [6881]      1.0      1.0      1.0      1.0      1.0      1.0      1.0      1.0\n",
       " [6889]      1.0      1.0      1.0      1.0      1.0      1.0      1.0      1.0\n",
       " [6897]      1.0      1.0      1.0      1.0      1.0      1.0      1.0      1.0\n",
       " [6905]      1.0      1.0      1.0      1.0      1.0      1.0      1.0      1.0\n",
       " [6913]      1.0      1.0      1.0      1.0      1.0      1.0      1.0      1.0\n",
       " [6921]      1.0      1.0      1.0      1.0      1.0      1.0      1.0      1.0\n",
       " [6929]      1.0      1.0      1.0      1.0      1.0      1.0      1.0      1.0\n",
       " [6937]      1.0      1.0      1.0      1.0      1.0      1.0      1.0      1.0\n",
       " [6945]      1.0      1.0      1.0      1.0      1.0      1.0      1.0      1.0\n",
       " [6953]      1.0      1.0      1.0      1.0      1.0      1.0      1.0      1.0\n",
       " [6961]      1.0      1.0      1.0      1.0      1.0      1.0      1.0      1.0\n",
       " [6969]      1.0      1.0      1.0      1.0      1.0      1.0      1.0      1.0\n",
       " [6977]      1.0      1.0      1.0      1.0      1.0      1.0      1.0      1.0\n",
       " [6985]      1.0      1.0      1.0      1.0      1.0      1.0      1.0      1.0\n",
       " [6993]      1.0      1.0      1.0      1.0      1.0      1.0      1.0      1.0\n",
       " [7001]      1.0      1.0      1.0      1.0      1.0      1.0      1.0      1.0\n",
       " [7009]      1.0      1.0      1.0      1.0      1.0      1.0      1.0      1.0\n",
       " [7017]      1.0      1.0      1.0      1.0      1.0      1.0      1.0      1.0\n",
       " [7025]      1.0      1.0      1.0      1.0      1.0      1.0      1.0      1.0\n",
       " [7033]      1.0      1.0      1.0      1.0      1.0      1.0      1.0      1.0\n",
       " [7041]      1.0      1.0      1.0      1.0      1.0      1.0      1.0      1.0\n",
       " [7049]      1.0      1.0      1.0      1.0      1.0      1.0      1.0      1.0\n",
       " [7057]      1.0      1.0      1.0      1.0      1.0      1.0      1.0      1.0\n",
       " [7065]      1.0      1.0      1.0      1.0      1.0      1.0      1.0      1.0\n",
       " [7073]      1.0      1.0      1.0      1.0      1.0      1.0      1.0      1.0\n",
       " [7081]      1.0      1.0      1.0      1.0      1.0      1.0      1.0      1.0\n",
       " [7089]      1.0      1.0      1.0      1.0      1.0      1.0      1.0      1.0\n",
       " [7097]      1.0      1.0      1.0      1.0      1.0      1.0      1.0      1.0\n",
       " [7105]      1.0      1.0      1.0      1.0      1.0      1.0      1.0      1.0\n",
       " [7113]      1.0      1.0      1.0      1.0      1.0      1.0      1.0      1.0\n",
       " [7121]      1.0      1.0      1.0      1.0      1.0      1.0      1.0      1.0\n",
       " [7129]      1.0      1.0      1.0      1.0      1.0      1.0      1.0      1.0\n",
       " [7137]      1.0      1.0      1.0      1.0      1.0      1.0      1.0      1.0\n",
       " [7145]      1.0      1.0      1.0      1.0      1.0      1.0      1.0      1.0\n",
       " [7153]      1.0      1.0      1.0      1.0      1.0      1.0      1.0      1.0\n",
       " [7161]      1.0      1.0      1.0      1.0      1.0      1.0      1.0      1.0\n",
       " [7169]      1.0      1.0      1.0      1.0      1.0      1.0      1.0      1.0\n",
       " [7177]      1.0      1.0      1.0      1.0      1.0      1.0      1.0      1.0\n",
       " [7185]      1.0      1.0      1.0      1.0      1.0      1.0      1.0      1.0\n",
       " [7193]      1.0      1.0      1.0      1.0      1.0      1.0      1.0      1.0\n",
       " [7201]      1.0      1.0      1.0      1.0      1.0      1.0      1.0      1.0\n",
       " [7209]      1.0      1.0      1.0      1.0      1.0      1.0      1.0      1.0\n",
       " [7217]      1.0      1.0      1.0      1.0      1.0      1.0      1.0      1.0\n",
       " [7225]      1.0      1.0      1.0      1.0      1.0      1.0      1.0      1.0\n",
       " [7233]      1.0      1.0      1.0      1.0      1.0      1.0      1.0      1.0\n",
       " [7241]      1.0      1.0      1.0      1.0      1.0      1.0      1.0      1.0\n",
       " [7249]      1.0      1.0      1.0      1.0      1.0      1.0      1.0      1.0\n",
       " [7257]      1.0      1.0      1.0      1.0      1.0      1.0      1.0      1.0\n",
       " [7265]      1.0      1.0      1.0      1.0      1.0      1.0      1.0      1.0\n",
       " [7273]      1.0      1.0      1.0      1.0      1.0      1.0      1.0      1.0\n",
       " [7281]      1.0      1.0      1.0      1.0      1.0      1.0      1.0      1.0\n",
       " [7289]      1.0      1.0      1.0      1.0      1.0      1.0      1.0      1.0\n",
       " [7297]      1.0      1.0      1.0      1.0      1.0      1.0      1.0      1.0\n",
       " [7305]      1.0      1.0      1.0      1.0      1.0      1.0      1.0      1.0\n",
       " [7313]      1.0      1.0      1.0      1.0      1.0      1.0      1.0      1.0\n",
       " [7321]      1.0      1.0      1.0      1.0      1.0      1.0      1.0      1.0\n",
       " [7329]      1.0      1.0      1.0      1.0      1.0      1.0      1.0      1.0\n",
       " [7337]      1.0      1.0      1.0      1.0      1.0      1.0      1.0      1.0\n",
       " [7345]      1.0      1.0      1.0      1.0      1.0      1.0      1.0      1.0\n",
       " [7353]      1.0      1.0      1.0      1.0      1.0      1.0      1.0      1.0\n",
       " [7361]      1.0      1.0      1.0      1.0      1.0      1.0      1.0      1.0\n",
       " [7369]      1.0      1.0      1.0      1.0      1.0      1.0      1.0      1.0\n",
       " [7377]      1.0      1.0      1.0      1.0      1.0      1.0      1.0      1.0\n",
       " [7385]      1.0      1.0      1.0      1.0      1.0      1.0      1.0      1.0\n",
       " [7393]      1.0      1.0      1.0      1.0      1.0      1.0      1.0      1.0\n",
       " [7401]      1.0      1.0      1.0      1.0      1.0      1.0      1.0      1.0\n",
       " [7409]      1.0      1.0      1.0      1.0      1.0      1.0      1.0      1.0\n",
       " [7417]      1.0      1.0      1.0      1.0      1.0      1.0      1.0      1.0\n",
       " [7425]      1.0      1.0      1.0      1.0      1.0      1.0      1.0      1.0\n",
       " [7433]      1.0      1.0      1.0      1.0      1.0      1.0      1.0      1.0\n",
       " [7441]      1.0      1.0      1.0      1.0      1.0      1.0      1.0      1.0\n",
       " [7449]      1.0      1.0      1.0      1.0      1.0      1.0      1.0      1.0\n",
       " [7457]      1.0      1.0      1.0      1.0      1.0      1.0      1.0      1.0\n",
       " [7465]      1.0      1.0      1.0      1.0      1.0      1.0      1.0      1.0\n",
       " [7473]      1.0      1.0      1.0      1.0      1.0      1.0      1.0      1.0\n",
       " [7481]      1.0      1.0      1.0      1.0      1.0      1.0      1.0      1.0\n",
       " [7489]      1.0      1.0      1.0      1.0      1.0      1.0      1.0      1.0\n",
       " [7497]      1.0      1.0      1.0      1.0      1.0      1.0      1.0      1.0\n",
       " [7505]      1.0      1.0      1.0      1.0      1.0      1.0      1.0      1.0\n",
       " [7513]      1.0      1.0      1.0      1.0      1.0      1.0      1.0      1.0\n",
       " [7521]      1.0      1.0      1.0      1.0      1.0      1.0      1.0      1.0\n",
       " [7529]      1.0      1.0      1.0      1.0      1.0      1.0      1.0      1.0\n",
       " [7537]      1.0      1.0      1.0      1.0      1.0      1.0      1.0      1.0\n",
       " [7545]      1.0      1.0      1.0      1.0      1.0      1.0      1.0      1.0\n",
       " [7553]      1.0      1.0      1.0      1.0      1.0      1.0      1.0      1.0\n",
       " [7561]      1.0      1.0      1.0      1.0      1.0      1.0      1.0      1.0\n",
       " [7569]      1.0      1.0      1.0      1.0      1.0      1.0      1.0      1.0\n",
       " [7577]      1.0      1.0      1.0      1.0      1.0      1.0      1.0      1.0\n",
       " [7585]      1.0      1.0      1.0      1.0      1.0      1.0      1.0      1.0\n",
       " [7593]      1.0      1.0      1.0      1.0      1.0      1.0      1.0      1.0\n",
       " [7601]      1.0      1.0      1.0      1.0      1.0      1.0      1.0      1.0\n",
       " [7609]      1.0      1.0      1.0      1.0      1.0      1.0      1.0      1.0\n",
       " [7617]      1.0      1.0      1.0      1.0      1.0      1.0      1.0      1.0\n",
       " [7625]      1.0      1.0      1.0      1.0      1.0      1.0      1.0      1.0\n",
       " [7633]      1.0      1.0      1.0      1.0      1.0      1.0      1.0      1.0\n",
       " [7641]      1.0      1.0      1.0      1.0      1.0      1.0      1.0      1.0\n",
       " [7649]      1.0      1.0      1.0      1.0      1.0      1.0      1.0      1.0\n",
       " [7657]      1.0      1.0      1.0      1.0      1.0      1.0      1.0      1.0\n",
       " [7665]      1.0      1.0      1.0      1.0      1.0      1.0      1.0      1.0\n",
       " [7673]      1.0      1.0      1.0      1.0      1.0      1.0      1.0      1.0\n",
       " [7681]      1.0      1.0      1.0      1.0      1.0      1.0      1.0      1.0\n",
       " [7689]      1.0      1.0      1.0      1.0      1.0      1.0      1.0      1.0\n",
       " [7697]      1.0      1.0      1.0      1.0      1.0      1.0      1.0      1.0\n",
       " [7705]      1.0      1.0      1.0      1.0      1.0      1.0      1.0      1.0\n",
       " [7713]      1.0      1.0      1.0      1.0      1.0      1.0      1.0      1.0\n",
       " [7721]      1.0      1.0      1.0      1.0      1.0      1.0      1.0      1.0\n",
       " [7729]      1.0      1.0      1.0      1.0      1.0      1.0      1.0      1.0\n",
       " [7737]      1.0      1.0      1.0      1.0      1.0      1.0      1.0      1.0\n",
       " [7745]      1.0      1.0      1.0      1.0      1.0      1.0      1.0      1.0\n",
       " [7753]      1.0      1.0      1.0      1.0      1.0      1.0      1.0      1.0\n",
       " [7761]      1.0      1.0      1.0      1.0      1.0      1.0      1.0      1.0\n",
       " [7769]      1.0      1.0      1.0      1.0      1.0      1.0      1.0      1.0\n",
       " [7777]      1.0      1.0      1.0      1.0      1.0      1.0      1.0      1.0\n",
       " [7785]      1.0      1.0      1.0      1.0      1.0      1.0      1.0      1.0\n",
       " [7793]      1.0      1.0      1.0      1.0      1.0      1.0      1.0      1.0\n",
       " [7801]      1.0      1.0      1.0      1.0      1.0      1.0      1.0      1.0\n",
       " [7809]      1.0      1.0      1.0      1.0      1.0      1.0      1.0      1.0\n",
       " [7817]      1.0      1.0      1.0      1.0      1.0      1.0      1.0      1.0\n",
       " [7825]      1.0      1.0      1.0      1.0      1.0      1.0      1.0      1.0\n",
       " [7833]      1.0      1.0      1.0      1.0      1.0      1.0      1.0      1.0\n",
       " [7841]      1.0      1.0      1.0      1.0      1.0      1.0      1.0      1.0\n",
       " [7849]      1.0      1.0      1.0      1.0      1.0      1.0      1.0      1.0\n",
       " [7857]      1.0      1.0      1.0      1.0      1.0      1.0      1.0      1.0\n",
       " [7865]      1.0      1.0      1.0      1.0      1.0      1.0      1.0      1.0\n",
       " [7873]      1.0      1.0      1.0      1.0      1.0      1.0      1.0      1.0\n",
       " [7881]      1.0      1.0      1.0      1.0      1.0      1.0      1.0      1.0\n",
       " [7889]      1.0      1.0      1.0      1.0      1.0      1.0      1.0      1.0\n",
       " [7897]      1.0      1.0      1.0      1.0      1.0      1.0      1.0      1.0\n",
       " [7905]      1.0      1.0      1.0      1.0      1.0      1.0      1.0      1.0\n",
       " [7913]      1.0      1.0      1.0      1.0      1.0      1.0      1.0      1.0\n",
       " [7921]      1.0      1.0      1.0      1.0      1.0      1.0      1.0      1.0\n",
       " [7929]      1.0      1.0      1.0      1.0      1.0      1.0      1.0      1.0\n",
       " [7937]      1.0      1.0      1.0      1.0      1.0      1.0      1.0      1.0\n",
       " [7945]      1.0      1.0      1.0      1.0      1.0      1.0      1.0      1.0\n",
       " [7953]      1.0      1.0      1.0      1.0      1.0      1.0      1.0      1.0\n",
       " [7961]      1.0      1.0      1.0      1.0      1.0      1.0      1.0      1.0\n",
       " [7969]      1.0      1.0      1.0      1.0      1.0      1.0      1.0      1.0\n",
       " [7977]      1.0      1.0      1.0      1.0      1.0      1.0      1.0      1.0\n",
       " [7985]      1.0      1.0      1.0      1.0      1.0      1.0      1.0      1.0\n",
       " [7993]      1.0      1.0      1.0      1.0      1.0      1.0      1.0      1.0\n",
       " [8001]      1.0      1.0      1.0      1.0      1.0      1.0      1.0      1.0\n",
       " [8009]      1.0      1.0      1.0      1.0      1.0      1.0      1.0      1.0\n",
       " [8017]      1.0      1.0      1.0      1.0      1.0      1.0      1.0      1.0\n",
       " [8025]      1.0      1.0      1.0      1.0      1.0      1.0      1.0      1.0\n",
       " [8033]      1.0      1.0      1.0      1.0      1.0      1.0      1.0      1.0\n",
       " [8041]      1.0      1.0      1.0      1.0      1.0      1.0      1.0      1.0\n",
       " [8049]      1.0      1.0      1.0      1.0      1.0      1.0      1.0      1.0\n",
       " [8057]      1.0      1.0      1.0      1.0      1.0      1.0      1.0      1.0\n",
       " [8065]      1.0      1.0      1.0      1.0      1.0      1.0      1.0      1.0\n",
       " [8073]      1.0      1.0      1.0      1.0      1.0      1.0      1.0      1.0\n",
       " [8081]      1.0      1.0      1.0      1.0      1.0      1.0      1.0      1.0\n",
       " [8089]      1.0      1.0      1.0      1.0      1.0      1.0      1.0      1.0\n",
       " [8097]      1.0      1.0      1.0      1.0      1.0      1.0      1.0      1.0\n",
       " [8105]      1.0      1.0      1.0      1.0      1.0      1.0      1.0      1.0\n",
       " [8113]      1.0      1.0      1.0      1.0      1.0      1.0      1.0      1.0\n",
       " [8121]      1.0      1.0      1.0      1.0      1.0      1.0      1.0      1.0\n",
       " [8129]      1.0      1.0      1.0      1.0      1.0      1.0      1.0      1.0\n",
       " [8137]      1.0      1.0      1.0      1.0      1.0      1.0      1.0      1.0\n",
       " [8145]      1.0      1.0      1.0      1.0      1.0      1.0      1.0      1.0\n",
       " [8153]      1.0      1.0      1.0      1.0      1.0      1.0      1.0      1.0\n",
       " [8161]      1.0      1.0      1.0      1.0      1.0      1.0      1.0      1.0\n",
       " [8169]      1.0      1.0      1.0      1.0      1.0      1.0      1.0      1.0\n",
       " [8177]      1.0      1.0      1.0      1.0      1.0      1.0      1.0      1.0\n",
       " [8185]      1.0      1.0      1.0      1.0      1.0      1.0      1.0      1.0\n",
       " [8193]      1.0      1.0      1.0      1.0      1.0      1.0      1.0      1.0\n",
       " [8201]      1.0      1.0      1.0      1.0      1.0      1.0      1.0      1.0\n",
       " [8209]      1.0      1.0      1.0      1.0      1.0      1.0      1.0      1.0\n",
       " [8217]      1.0      1.0      1.0      1.0      1.0      1.0      1.0      1.0\n",
       " [8225]      1.0      1.0      1.0      1.0      1.0      1.0      1.0      1.0\n",
       " [8233]      1.0      1.0      1.0      1.0      1.0      1.0      1.0      1.0\n",
       " [8241]      1.0      1.0      1.0      1.0      1.0      1.0      1.0      1.0\n",
       " [8249]      1.0      1.0      1.0      1.0      1.0      1.0      1.0      1.0\n",
       " [8257]      1.0      1.0      1.0      1.0      1.0      1.0      1.0      1.0\n",
       " [8265]      1.0      1.0      1.0      1.0      1.0      1.0      1.0      1.0\n",
       " [8273]      1.0      1.0      1.0      1.0      1.0      1.0      1.0      1.0\n",
       " [8281]      1.0      1.0      1.0      1.0      1.0      1.0      1.0      1.0\n",
       " [8289]      1.0      1.0      1.0      1.0      1.0      1.0      1.0      1.0\n",
       " [8297]      1.0      1.0      1.0      1.0      1.0      1.0      1.0      1.0\n",
       " [8305]      1.0      1.0      1.0      1.0      1.0      1.0      1.0      1.0\n",
       " [8313]      1.0      1.0      1.0      1.0      1.0      1.0      1.0      1.0\n",
       " [8321]      1.0      1.0      1.0      1.0      1.0      1.0      1.0      1.0\n",
       " [8329]      1.0      1.0      1.0      1.0      1.0      1.0      1.0      1.0\n",
       " [8337]      1.0      1.0      1.0      1.0      1.0      1.0      1.0      1.0\n",
       " [8345]      1.0      1.0      1.0      1.0      1.0      1.0      1.0      1.0\n",
       " [8353]      1.0      1.0      1.0      1.0      1.0      1.0      1.0      1.0\n",
       " [8361]      1.0      1.0      1.0      1.0      1.0      1.0      1.0      1.0\n",
       " [8369]      1.0      1.0      1.0      1.0      1.0      1.0      1.0      1.0\n",
       " [8377]      1.0      1.0      1.0      1.0      1.0      1.0      1.0      1.0\n",
       " [8385]      1.0      1.0      1.0      1.0      1.0      1.0      1.0      1.0\n",
       " [8393]      1.0      1.0      1.0      1.0      1.0      1.0      1.0      1.0\n",
       " [8401]      1.0      1.0      1.0      1.0      1.0      1.0      1.0      1.0\n",
       " [8409]      1.0      1.0      1.0      1.0      1.0      1.0      1.0      1.0\n",
       " [8417]      1.0      1.0      1.0      1.0      1.0      1.0      1.0      1.0\n",
       " [8425]      1.0      1.0      1.0      1.0      1.0      1.0      1.0      1.0\n",
       " [8433]      1.0      1.0      1.0      1.0      1.0      1.0      1.0      1.0\n",
       " [8441]      1.0      1.0      1.0      1.0      1.0      1.0      1.0      1.0\n",
       " [8449]      1.0      1.0      1.0      1.0      1.0      1.0      1.0      1.0\n",
       " [8457]      1.0      1.0      1.0      1.0      1.0      1.0      1.0      1.0\n",
       " [8465]      1.0      1.0      1.0      1.0      1.0      1.0      1.0      1.0\n",
       " [8473]      1.0      1.0      1.0      1.0      1.0      1.0      1.0      1.0\n",
       " [8481]      1.0      1.0      1.0      1.0      1.0      1.0      1.0      1.0\n",
       " [8489]      1.0      1.0      1.0      1.0      1.0      1.0      1.0      1.0\n",
       " [8497]      1.0      1.0      1.0      1.0      1.0      1.0      1.0      1.0\n",
       " [8505]      1.0      1.0      1.0      1.0      1.0      1.0      1.0      1.0\n",
       " [8513]      1.0      1.0      1.0      1.0      1.0      1.0      1.0      1.0\n",
       " [8521]      1.0      1.0      1.0      1.0      1.0      1.0      1.0      1.0\n",
       " [8529]      1.0      1.0      1.0      1.0      1.0      1.0      1.0      1.0\n",
       " [8537]      1.0      1.0      1.0      1.0      1.0      1.0      1.0      1.0\n",
       " [8545]      1.0      1.0      1.0      1.0      1.0      1.0      1.0      1.0\n",
       " [8553]      1.0      1.0      1.0      1.0      1.0      1.0      1.0      1.0\n",
       " [8561]      1.0      1.0      1.0      1.0      1.0      1.0      1.0      1.0\n",
       " [8569]      1.0      1.0      1.0      1.0      1.0      1.0      1.0      1.0\n",
       " [8577]      1.0      1.0      1.0      1.0      1.0      1.0      1.0      1.0\n",
       " [8585]      1.0      1.0      1.0      1.0      1.0      1.0      1.0      1.0\n",
       " [8593]      1.0      1.0      1.0      1.0      1.0      1.0      1.0      1.0\n",
       " [8601]      1.0      1.0      1.0      1.0      1.0      1.0      1.0      1.0\n",
       " [8609]      1.0      1.0      1.0      1.0      1.0      1.0      1.0      1.0\n",
       " [8617]      1.0      1.0      1.0      1.0      1.0      1.0      1.0      1.0\n",
       " [8625]      1.0      1.0      1.0      1.0      1.0      1.0      1.0      1.0\n",
       " [8633]      1.0      1.0      1.0      1.0      1.0      1.0      1.0      1.0\n",
       " [8641]      1.0      1.0      1.0      1.0      1.0      1.0      1.0      1.0\n",
       " [8649]      1.0      1.0      1.0      1.0      1.0      1.0      1.0      1.0\n",
       " [8657]      1.0      1.0      1.0      1.0      1.0      1.0      1.0      1.0\n",
       " [8665]      1.0      1.0      1.0      1.0      1.0      1.0      1.0      1.0\n",
       " [8673]      1.0      1.0      1.0      1.0      1.0      1.0      1.0      1.0\n",
       " [8681]      1.0      1.0      1.0      1.0      1.0      1.0      1.0      1.0\n",
       " [8689]      1.0      1.0      1.0      1.0      1.0      1.0      1.0      1.0\n",
       " [8697]      1.0      1.0      1.0      1.0      1.0      1.0      1.0      1.0\n",
       " [8705]      1.0      1.0      1.0      1.0      1.0      1.0      1.0      1.0\n",
       " [8713]      1.0      1.0      1.0      1.0      1.0      1.0      1.0      1.0\n",
       " [8721]      1.0      1.0      1.0      1.0      1.0      1.0      1.0      1.0\n",
       " [8729]      1.0      1.0      1.0      1.0      1.0      1.0      1.0      1.0\n",
       " [8737]      1.0      1.0      1.0      1.0      1.0      1.0      1.0      1.0\n",
       " [8745]      1.0      1.0      1.0      1.0      1.0      1.0      1.0      1.0\n",
       " [8753]      1.0      1.0      1.0      1.0      1.0      1.0      1.0      1.0\n",
       " [8761]      1.0      1.0      1.0      1.0      1.0      1.0      1.0      1.0\n",
       " [8769]      1.0      1.0      1.0      1.0      1.0      1.0      1.0      1.0\n",
       " [8777]      1.0      1.0      1.0      1.0      1.0      1.0      1.0      1.0\n",
       " [8785]      1.0      1.0      1.0      1.0      1.0      1.0      1.0      1.0\n",
       " [8793]      1.0      1.0      1.0      1.0      1.0      1.0      1.0      1.0\n",
       " [8801]      1.0      1.0      1.0      1.0      1.0      1.0      1.0      1.0\n",
       " [8809]      1.0      1.0      1.0      1.0      1.0      1.0      1.0      1.0\n",
       " [8817]      1.0      1.0      1.0      1.0      1.0      1.0      1.0      1.0\n",
       " [8825]      1.0      1.0      1.0      1.0      1.0      1.0      1.0      1.0\n",
       " [8833]      1.0      1.0      1.0      1.0      1.0      1.0      1.0      1.0\n",
       " [8841]      1.0      1.0      1.0      1.0      1.0      1.0      1.0      1.0\n",
       " [8849]      1.0      1.0      1.0      1.0      1.0      1.0      1.0      1.0\n",
       " [8857]      1.0      1.0      1.0      1.0      1.0      1.0      1.0      1.0\n",
       " [8865]      1.0      1.0      1.0      1.0      1.0      1.0      1.0      1.0\n",
       " [8873]      1.0      1.0      1.0      1.0      1.0      1.0      1.0      1.0\n",
       " [8881]      1.0      1.0      1.0      1.0      1.0      1.0      1.0      1.0\n",
       " [8889]      1.0      1.0      1.0      1.0      1.0      1.0      1.0      1.0\n",
       " [8897]      1.0      1.0      1.0      1.0      1.0      1.0      1.0      1.0\n",
       " [8905]      1.0      1.0      1.0      1.0      1.0      1.0      1.0      1.0\n",
       " [8913]      1.0      1.0      1.0      1.0      1.0      1.0      1.0      1.0\n",
       " [8921]      1.0      1.0      1.0      1.0      1.0      1.0      1.0      1.0\n",
       " [8929]      1.0      1.0      1.0      1.0      1.0      1.0      1.0      1.0\n",
       " [8937]      1.0      1.0      1.0      1.0      1.0      1.0      1.0      1.0\n",
       " [8945]      1.0      1.0      1.0      1.0      1.0      1.0      1.0      1.0\n",
       " [8953]      1.0      1.0      1.0      1.0      1.0      1.0      1.0      1.0\n",
       " [8961]      1.0      1.0      1.0      1.0      1.0      1.0      1.0      1.0\n",
       " [8969]      1.0      1.0      1.0      1.0      1.0      1.0      1.0      1.0\n",
       " [8977]      1.0      1.0      1.0      1.0      1.0      1.0      1.0      1.0\n",
       " [8985]      1.0      1.0      1.0      1.0      1.0      1.0      1.0      1.0\n",
       " [8993]      1.0      1.0      1.0      1.0      1.0      1.0      1.0      1.0\n",
       " [9001]      1.0      1.0      1.0      1.0      1.0      1.0      1.0      1.0\n",
       " [9009]      1.0      1.0      1.0      1.0      1.0      1.0      1.0      1.0\n",
       " [9017]      1.0      1.0      1.0      1.0      1.0      1.0      1.0      1.0\n",
       " [9025]      1.0      1.0      1.0      1.0      1.0      1.0      1.0      1.0\n",
       " [9033]      1.0      1.0      1.0      1.0      1.0      1.0      1.0      1.0\n",
       " [9041]      1.0      1.0      1.0      1.0      1.0      1.0      1.0      1.0\n",
       " [9049]      1.0      1.0      1.0      1.0      1.0      1.0      1.0      1.0\n",
       " [9057]      1.0      1.0      1.0      1.0      1.0      1.0      1.0      1.0\n",
       " [9065]      1.0      1.0      1.0      1.0      1.0      1.0      1.0      1.0\n",
       " [9073]      1.0      1.0      1.0      1.0      1.0      1.0      1.0      1.0\n",
       " [9081]      1.0      1.0      1.0      1.0      1.0      1.0      1.0      1.0\n",
       " [9089]      1.0      1.0      1.0      1.0      1.0      1.0      1.0      1.0\n",
       " [9097]      1.0      1.0      1.0      1.0      1.0      1.0      1.0      1.0\n",
       " [9105]      1.0      1.0      1.0      1.0      1.0      1.0      1.0      1.0\n",
       " [9113]      1.0      1.0      1.0      1.0      1.0      1.0      1.0      1.0\n",
       " [9121]      1.0      1.0      1.0      1.0      1.0      1.0      1.0      1.0\n",
       " [9129]      1.0      1.0      1.0      1.0      1.0      1.0      1.0      1.0\n",
       " [9137]      1.0      1.0      1.0      1.0      1.0      1.0      1.0      1.0\n",
       " [9145]      1.0      1.0      1.0      1.0      1.0      1.0      1.0      1.0\n",
       " [9153]      1.0      1.0      1.0      1.0      1.0      1.0      1.0      1.0\n",
       " [9161]      1.0      1.0      1.0      1.0      1.0      1.0      1.0      1.0\n",
       " [9169]      1.0      1.0      1.0      1.0      1.0      1.0      1.0      1.0\n",
       " [9177]      1.0      1.0      1.0      1.0      1.0      1.0      1.0      1.0\n",
       " [9185]      1.0      1.0      1.0      1.0      1.0      1.0      1.0      1.0\n",
       " [9193]      1.0      1.0      1.0      1.0      1.0      1.0      1.0      1.0\n",
       " [9201]      1.0      1.0      1.0      1.0      1.0      1.0      1.0      1.0\n",
       " [9209]      1.0      1.0      1.0      1.0      1.0      1.0      1.0      1.0\n",
       " [9217]      1.0      1.0      1.0      1.0      1.0      1.0      1.0      1.0\n",
       " [9225]      1.0      1.0      1.0      1.0      1.0      1.0      1.0      1.0\n",
       " [9233]      1.0      1.0      1.0      1.0      1.0      1.0      1.0      1.0\n",
       " [9241]      1.0      1.0      1.0      1.0      1.0      1.0      1.0      1.0\n",
       " [9249]      1.0      1.0      1.0      1.0      1.0      1.0      1.0      1.0\n",
       " [9257]      1.0      1.0      1.0      1.0      1.0      1.0      1.0      1.0\n",
       " [9265]      1.0      1.0      1.0      1.0      1.0      1.0      1.0      1.0\n",
       " [9273]      1.0      1.0      1.0      1.0      1.0      1.0      1.0      1.0\n",
       " [9281]      1.0      1.0      1.0      1.0      1.0      1.0      1.0      1.0\n",
       " [9289]      1.0      1.0      1.0      1.0      1.0      1.0      1.0      1.0\n",
       " [9297]      1.0      1.0      1.0      1.0      1.0      1.0      1.0      1.0\n",
       " [9305]      1.0      1.0      1.0      1.0      1.0      1.0      1.0      1.0\n",
       " [9313]      1.0      1.0      1.0      1.0      1.0      1.0      1.0      1.0\n",
       " [9321]      1.0      1.0      1.0      1.0      1.0      1.0      1.0      1.0\n",
       " [9329]      1.0      1.0      1.0      1.0      1.0      1.0      1.0      1.0\n",
       " [9337]      1.0      1.0      1.0      1.0      1.0      1.0      1.0      1.0\n",
       " [9345]      1.0      1.0      1.0      1.0      1.0      1.0      1.0      1.0\n",
       " [9353]      1.0      1.0      1.0      1.0      1.0      1.0      1.0      1.0\n",
       " [9361]      1.0      1.0      1.0      1.0      1.0      1.0      1.0      1.0\n",
       " [9369]      1.0      1.0      1.0      1.0      1.0      1.0      1.0      1.0\n",
       " [9377]      1.0      1.0      1.0      1.0      1.0      1.0      1.0      1.0\n",
       " [9385]      1.0      1.0      1.0      1.0      1.0      1.0      1.0      1.0\n",
       " [9393]      1.0      1.0      1.0      1.0      1.0      1.0      1.0      1.0\n",
       " [9401]      1.0      1.0      1.0      1.0      1.0      1.0      1.0      1.0\n",
       " [9409]      1.0      1.0      1.0      1.0      1.0      1.0      1.0      1.0\n",
       " [9417]      1.0      1.0      1.0      1.0      1.0      1.0      1.0      1.0\n",
       " [9425]      1.0      1.0      1.0      1.0      1.0      1.0      1.0      1.0\n",
       " [9433]      1.0      1.0      1.0      1.0      1.0      1.0      1.0      1.0\n",
       " [9441]      1.0      1.0      1.0      1.0      1.0      1.0      1.0      1.0\n",
       " [9449]      1.0      1.0      1.0      1.0      1.0      1.0      1.0      1.0\n",
       " [9457]      1.0      1.0      1.0      1.0      1.0      1.0      1.0      1.0\n",
       " [9465]      1.0      1.0      1.0      1.0      1.0      1.0      1.0      1.0\n",
       " [9473]      1.0      1.0      1.0      1.0      1.0      1.0      1.0      1.0\n",
       " [9481]      1.0      1.0      1.0      1.0      1.0      1.0      1.0      1.0\n",
       " [9489]      1.0      1.0      1.0      1.0      1.0      1.0      1.0      1.0\n",
       " [9497]      1.0      1.0      1.0      1.0      1.0      1.0      1.0      1.0\n",
       " [9505]      1.0      1.0      1.0      1.0      1.0      1.0      1.0      1.0\n",
       " [9513]      1.0      1.0      1.0      1.0      1.0      1.0      1.0      1.0\n",
       " [9521]      1.0      1.0      1.0      1.0      1.0      1.0      1.0      1.0\n",
       " [9529]      1.0      1.0      1.0      1.0      1.0      1.0      1.0      1.0\n",
       " [9537]      1.0      1.0      1.0      1.0      1.0      1.0      1.0      1.0\n",
       " [9545]      1.0      1.0      1.0      1.0      1.0      1.0      1.0      1.0\n",
       " [9553]      1.0      1.0      1.0      1.0      1.0      1.0      1.0      1.0\n",
       " [9561]      1.0      1.0      1.0      1.0      1.0      1.0      1.0      1.0\n",
       " [9569]      1.0      1.0      1.0      1.0      1.0      1.0      1.0      1.0\n",
       " [9577]      1.0      1.0      1.0      1.0      1.0      1.0      1.0      1.0\n",
       " [9585]      1.0      1.0      1.0      1.0      1.0      1.0      1.0      1.0\n",
       " [9593]      1.0      1.0      1.0      1.0      1.0      1.0      1.0      1.0\n",
       " [9601]      1.0      1.0      1.0      1.0      1.0      1.0      1.0      1.0\n",
       " [9609]      1.0      1.0      1.0      1.0      1.0      1.0      1.0      1.0\n",
       " [9617]      1.0      1.0      1.0      1.0      1.0      1.0      1.0      1.0\n",
       " [9625]      1.0      1.0      1.0      1.0      1.0      1.0      1.0      1.0\n",
       " [9633]      1.0      1.0      1.0      1.0      1.0      1.0      1.0      1.0\n",
       " [9641]      1.0      1.0      1.0      1.0      1.0      1.0      1.0      1.0\n",
       " [9649]      1.0      1.0      1.0      1.0      1.0      1.0      1.0      1.0\n",
       " [9657]      1.0      1.0      1.0      1.0      1.0      1.0      1.0      1.0\n",
       " [9665]      1.0      1.0      1.0      1.0      1.0      1.0      1.0      1.0\n",
       " [9673]      1.0      1.0      1.0      1.0      1.0      1.0      1.0      1.0\n",
       " [9681]      1.0      1.0      1.0      1.0      1.0      1.0      1.0      1.0\n",
       " [9689]      1.0      1.0      1.0      1.0      1.0      1.0      1.0      1.0\n",
       " [9697]      1.0      1.0      1.0      1.0      1.0      1.0      1.0      1.0\n",
       " [9705]      1.0      1.0      1.0      1.0      1.0      1.0      1.0      1.0\n",
       " [9713]      1.0      1.0      1.0      1.0      1.0      1.0      1.0      1.0\n",
       " [9721]      1.0      1.0      1.0      1.0      1.0      1.0      1.0      1.0\n",
       " [9729]      1.0      1.0      1.0      1.0      1.0      1.0      1.0      1.0\n",
       " [9737]      1.0      1.0      1.0      1.0      1.0      1.0      1.0      1.0\n",
       " [9745]      1.0      1.0      1.0      1.0      1.0      1.0      1.0      1.0\n",
       " [9753]      1.0      1.0      1.0      1.0      1.0      1.0      1.0      1.0\n",
       " [9761]      1.0      1.0      1.0      1.0      1.0      1.0      1.0      1.0\n",
       " [9769]      1.0      1.0      1.0      1.0      1.0      1.0      1.0      1.0\n",
       " [9777]      1.0      1.0      1.0      1.0      1.0      1.0      1.0      1.0\n",
       " [9785]      1.0      1.0      1.0      1.0      1.0      1.0      1.0      1.0\n",
       " [9793]      1.0      1.0      1.0      1.0      1.0      1.0      1.0      1.0\n",
       " [9801]      1.0      1.0      1.0      1.0      1.0      1.0      1.0      1.0\n",
       " [9809]      1.0      1.0      1.0      1.0      1.0      1.0      1.0      1.0\n",
       " [9817]      1.0      1.0      1.0      1.0      1.0      1.0      1.0      1.0\n",
       " [9825]      1.0      1.0      1.0      1.0      1.0      1.0      1.0      1.0\n",
       " [9833]      1.0      1.0      1.0      1.0      1.0      1.0      1.0      1.0\n",
       " [9841]      1.0      1.0      1.0      1.0      1.0      1.0      1.0      1.0\n",
       " [9849]      1.0      1.0      1.0      1.0      1.0      1.0      1.0      1.0\n",
       " [9857]      1.0      1.0      1.0      1.0      1.0      1.0      1.0      1.0\n",
       " [9865]      1.0      1.0      1.0      1.0      1.0      1.0      1.0      1.0\n",
       " [9873]      1.0      1.0      1.0      1.0      1.0      1.0      1.0      1.0\n",
       " [9881]      1.0      1.0      1.0      1.0      1.0      1.0      1.0      1.0\n",
       " [9889]      1.0      1.0      1.0      1.0      1.0      1.0      1.0      1.0\n",
       " [9897]      1.0      1.0      1.0      1.0      1.0      1.0      1.0      1.0\n",
       " [9905]      1.0      1.0      1.0      1.0      1.0      1.0      1.0      1.0\n",
       " [9913]      1.0      1.0      1.0      1.0      1.0      1.0      1.0      1.0\n",
       " [9921]      1.0      1.0      1.0      1.0      1.0      1.0      1.0      1.0\n",
       " [9929]      1.0      1.0      1.0      1.0      1.0      1.0      1.0      1.0\n",
       " [9937]      1.0      1.0      1.0      1.0      1.0      1.0      1.0      1.0\n",
       " [9945]      1.0      1.0      1.0      1.0      1.0      1.0      1.0      1.0\n",
       " [9953]      1.0      1.0      1.0      1.0      1.0      1.0      1.0      1.0\n",
       " [9961]      1.0      1.0      1.0      1.0      1.0      1.0      1.0      1.0\n",
       " [9969]      1.0      1.0      1.0      1.0      1.0      1.0      1.0      1.0\n",
       " [9977]      1.0      1.0      1.0      1.0      1.0      1.0      1.0      1.0\n",
       " [9985]      1.0      1.0      1.0      1.0      1.0      1.0      1.0      1.0\n",
       " [9993]      1.0      1.0      1.0      1.0      1.0      1.0      1.0      1.0\n",
       "[10001]      1.0      1.0      1.0      1.0      1.0      1.0      1.0      1.0\n",
       "[10009]      1.0      1.0      1.0      1.0      1.0      1.0      1.0      1.0\n",
       "[10017]      1.0      1.0      1.0      1.0      1.0      1.0      1.0      1.0\n",
       "[10025]      1.0      1.0      1.0      1.0      1.0      1.0      1.0      1.0\n",
       "[10033]      1.0      1.0      1.0      1.0      1.0      1.0      1.0      1.0\n",
       "[10041]      1.0      1.0      1.0      1.0      1.0      1.0      1.0      1.0\n",
       "[10049]      1.0      1.0      1.0      1.0      1.0      1.0      1.0      1.0\n",
       "[10057]      1.0      1.0      1.0      1.0      1.0      1.0      1.0      1.0\n",
       "[10065]      1.0      1.0      1.0      1.0      1.0      1.0      1.0      1.0\n",
       "[10073]      1.0      1.0      1.0      1.0      1.0      1.0      1.0      1.0\n",
       "[10081]      1.0      1.0      1.0      1.0      1.0      1.0      1.0      1.0\n",
       "[10089]      1.0      1.0      1.0      1.0      1.0      1.0      1.0      1.0\n",
       "[10097]      1.0      1.0      1.0      1.0      1.0      1.0      1.0      1.0\n",
       "[10105]      1.0      1.0      1.0      1.0      1.0      1.0      1.0      1.0\n",
       "[10113]      1.0      1.0      1.0      1.0      1.0      1.0      1.0      1.0\n",
       "[10121]      1.0      1.0      1.0      1.0      1.0      1.0      1.0      1.0\n",
       "[10129]      1.0      1.0      1.0      1.0      1.0      1.0      1.0      1.0\n",
       "[10137]      1.0      1.0      1.0      1.0      1.0      1.0      1.0      1.0\n",
       "[10145]      1.0      1.0      1.0      1.0      1.0      1.0      1.0      1.0\n",
       "[10153]      1.0      1.0      1.0      1.0      1.0      1.0      1.0      1.0\n",
       "[10161]      1.0      1.0      1.0      1.0      1.0      1.0      1.0      1.0\n",
       "[10169]      1.0      1.0      1.0      1.0      1.0      1.0      1.0      1.0\n",
       "[10177]      1.0      1.0      1.0      1.0      1.0      1.0      1.0      1.0\n",
       "[10185]      1.0      1.0      1.0      1.0      1.0      1.0      1.0      1.0\n",
       "[10193]      1.0      1.0      1.0      1.0      1.0      1.0      1.0      1.0\n",
       "[10201]      1.0      1.0      1.0      1.0      1.0      1.0      1.0      1.0\n",
       "[10209]      1.0      1.0      1.0      1.0      1.0      1.0      1.0      1.0\n",
       "[10217]      1.0      1.0      1.0      1.0      1.0      1.0      1.0      1.0\n",
       "[10225]      1.0      1.0      1.0      1.0      1.0      1.0      1.0      1.0\n",
       "[10233]      1.0      1.0      1.0      1.0      1.0      1.0      1.0      1.0\n",
       "[10241]      1.0      1.0      1.0      1.0      1.0      1.0      1.0      1.0\n",
       "[10249]      1.0      1.0      1.0      1.0      1.0      1.0      1.0      1.0\n",
       "[10257]      1.0      1.0      1.0      1.0      1.0      1.0      1.0      1.0\n",
       "[10265]      1.0      1.0      1.0      1.0      1.0      1.0      1.0      1.0\n",
       "[10273]      1.0      1.0      1.0      1.0      1.0      1.0      1.0      1.0\n",
       "[10281]      1.0      1.0      1.0      1.0      1.0      1.0      1.0      1.0\n",
       "[10289]      1.0      1.0      1.0      1.0      1.0      1.0      1.0      1.0\n",
       "[10297]      1.0      1.0      1.0      1.0      1.0      1.0      1.0      1.0\n",
       "[10305]      1.0      1.0      1.0      1.0      1.0      1.0      1.0      1.0\n",
       "[10313]      1.0      1.0      1.0      1.0      1.0      1.0      1.0      1.0\n",
       "[10321]      1.0      1.0      1.0      1.0      1.0      1.0      1.0      1.0\n",
       "[10329]      1.0      1.0      1.0      1.0      1.0      1.0      1.0      1.0\n",
       "[10337]      1.0      1.0      1.0      1.0      1.0      1.0      1.0      1.0\n",
       "[10345]      1.0      1.0      1.0      1.0      1.0      1.0      1.0      1.0\n",
       "[10353]      1.0      1.0      1.0      1.0      1.0      1.0      1.0      1.0\n",
       "[10361]      1.0      1.0      1.0      1.0      1.0      1.0      1.0      1.0\n",
       "[10369]      1.0      1.0      1.0      1.0      1.0      1.0      1.0      1.0\n",
       "[10377]      1.0      1.0      1.0      1.0      1.0      1.0      1.0      1.0\n",
       "[10385]      1.0      1.0      1.0      1.0      1.0      1.0      1.0      1.0\n",
       "[10393]      1.0      1.0      1.0      1.0      1.0      1.0      1.0      1.0\n",
       "[10401]      1.0      1.0      1.0      1.0      1.0      1.0      1.0      1.0\n",
       "[10409]      1.0      1.0      1.0      1.0      1.0      1.0      1.0      1.0\n",
       "[10417]      1.0      1.0      1.0      1.0      1.0      1.0      1.0      1.0\n",
       "[10425]      1.0      1.0      1.0      1.0      1.0      1.0      1.0      1.0\n",
       "[10433]      1.0      1.0      1.0      1.0      1.0      1.0      1.0      1.0\n",
       "[10441]      1.0      1.0      1.0      1.0      1.0      1.0      1.0      1.0\n",
       "[10449]      1.0      1.0      1.0      1.0      1.0      1.0      1.0      1.0\n",
       "[10457]      1.0      1.0      1.0      1.0      1.0      1.0      1.0      1.0\n",
       "[10465]      1.0      1.0      1.0      1.0      1.0      1.0      1.0      1.0\n",
       "[10473]      1.0      1.0      1.0      1.0      1.0      1.0      1.0      1.0\n",
       "[10481]      1.0      1.0      1.0      1.0      1.0      1.0      1.0      1.0\n",
       "[10489]      1.0      1.0      1.0      1.0      1.0      1.0      1.0      1.0\n",
       "[10497]      1.0      1.0      1.0      1.0      1.0      1.0      1.0      1.0\n",
       "[10505]      1.0      1.0      1.0      1.0      1.0      1.0      1.0      1.0\n",
       "[10513]      1.0      1.0      1.0      1.0      1.0      1.0      1.0      1.0\n",
       "[10521]      1.0      1.0      1.0      1.0      1.0      1.0      1.0      1.0\n",
       "[10529]      1.0      1.0      1.0      1.0      1.0      1.0      1.0      1.0\n",
       "[10537]      1.0      1.0      1.0      1.0      1.0      1.0      1.0      1.0\n",
       "[10545]      1.0      1.0      1.0      1.0      1.0      1.0      1.0      1.0\n",
       "[10553]      1.0      1.0      1.0      1.0      1.0      1.0      1.0      1.0\n",
       "[10561]      1.0      1.0      1.0      1.0      1.0      1.0      1.0      1.0\n",
       "[10569]      1.0      1.0      1.0      1.0      1.0      1.0      1.0      1.0\n",
       "[10577]      1.0      1.0      1.0      1.0      1.0      1.0      1.0      1.0\n",
       "[10585]      1.0      1.0      1.0      1.0      1.0      1.0      1.0      1.0\n",
       "[10593]      1.0      1.0      1.0      1.0      1.0      1.0      1.0      1.0\n",
       "[10601]      1.0      1.0      1.0      1.0      1.0      1.0      1.0      1.0\n",
       "[10609]      1.0      1.0      1.0      1.0      1.0      1.0      1.0      1.0\n",
       "[10617]      1.0      1.0      1.0      1.0      1.0      1.0      1.0      1.0\n",
       "[10625]      1.0      1.0      1.0      1.0      1.0      1.0      1.0      1.0\n",
       "[10633]      1.0      1.0      1.0      1.0      1.0      1.0      1.0      1.0\n",
       "[10641]      1.0      1.0      1.0      1.0      1.0      1.0      1.0      1.0\n",
       "[10649]      1.0      1.0      1.0      1.0      1.0      1.0      1.0      1.0\n",
       "[10657]      1.0      1.0      1.0      1.0      1.0      1.0      1.0      1.0\n",
       "[10665]      1.0      1.0      1.0      1.0      1.0      1.0      1.0      1.0\n",
       "[10673]      1.0      1.0      1.0      1.0      1.0      1.0      1.0      1.0\n",
       "[10681]      1.0      1.0      1.0      1.0      1.0      1.0      1.0      1.0\n",
       "[10689]      1.0      1.0      1.0      1.0      1.0      1.0      1.0      1.0\n",
       "[10697]      1.0      1.0      1.0      1.0      1.0      1.0      1.0      1.0\n",
       "[10705]      1.0      1.0      1.0      1.0      1.0      1.0      1.0      1.0\n",
       "[10713]      1.0      1.0      1.0      1.0      1.0      1.0      1.0      1.0\n",
       "[10721]      1.0      1.0      1.0      1.0      1.0      1.0      1.0      1.0\n",
       "[10729]      1.0      1.0      1.0      1.0      1.0      1.0      1.0      1.0\n",
       "[10737]      1.0      1.0      1.0      1.0      1.0      1.0      1.0      1.0\n",
       "[10745]      1.0      1.0      1.0      1.0      1.0      1.0      1.0      1.0\n",
       "[10753]      1.0      1.0      1.0      1.0      1.0      1.0      1.0      1.0\n",
       "[10761]      1.0      1.0      1.0      1.0      1.0      1.0      1.0      1.0\n",
       "[10769]      1.0      1.0      1.0      1.0      1.0      1.0      1.0      1.0\n",
       "[10777]      1.0      1.0      1.0      1.0      1.0      1.0      1.0      1.0\n",
       "[10785]      1.0      1.0      1.0      1.0      1.0      1.0      1.0      1.0\n",
       "[10793]      1.0      1.0      1.0      1.0      1.0      1.0      1.0      1.0\n",
       "[10801]      1.0      1.0      1.0      1.0      1.0      1.0      1.0      1.0\n",
       "[10809]      1.0      1.0      1.0      1.0      1.0      1.0      1.0      1.0\n",
       "[10817]      1.0      1.0      1.0      1.0      1.0      1.0      1.0      1.0\n",
       "[10825]      1.0      1.0      1.0      1.0      1.0      1.0      1.0      1.0\n",
       "[10833]      1.0      1.0      1.0      1.0      1.0      1.0      1.0      1.0\n",
       "[10841]      1.0      1.0      1.0      1.0      1.0      1.0      1.0      1.0\n",
       "[10849]      1.0      1.0      1.0      1.0      1.0      1.0      1.0      1.0\n",
       "[10857]      1.0      1.0      1.0      1.0      1.0      1.0      1.0      1.0\n",
       "[10865]      1.0      1.0      1.0      1.0      1.0      1.0      1.0      1.0\n",
       "[10873]      1.0      1.0      1.0      1.0      1.0      1.0      1.0      1.0\n",
       "[10881]      1.0      1.0      1.0      1.0      1.0      1.0      1.0      1.0\n",
       "[10889]      1.0      1.0      1.0      1.0      1.0      1.0      1.0      1.0\n",
       "[10897]      1.0      1.0      1.0      1.0      1.0      1.0      1.0      1.0\n",
       "[10905]      1.0      1.0      1.0      1.0      1.0      1.0      1.0      1.0\n",
       "[10913]      1.0      1.0      1.0      1.0      1.0      1.0      1.0      1.0\n",
       "[10921]      1.0      1.0      1.0      1.0      1.0      1.0      1.0      1.0\n",
       "[10929]      1.0      1.0      1.0      1.0      1.0      1.0      1.0      1.0\n",
       "[10937]      1.0      1.0      1.0      1.0      1.0      1.0      1.0      1.0\n",
       "[10945]      1.0      1.0      1.0      1.0      1.0      1.0      1.0      1.0\n",
       "[10953]      1.0      1.0      1.0      1.0      1.0      1.0      1.0      1.0\n",
       "[10961]      1.0      1.0      1.0      1.0      1.0      1.0      1.0      1.0\n",
       "[10969]      1.0      1.0      1.0      1.0      1.0      1.0      1.0      1.0\n",
       "[10977]      1.0      1.0      1.0      1.0      1.0      1.0      1.0      1.0\n",
       "[10985]      1.0      1.0      1.0      1.0      1.0      1.0      1.0      1.0\n",
       "[10993]      1.0      1.0      1.0      1.0      1.0      1.0      1.0      1.0\n",
       "[11001]      1.0      1.0      1.0      1.0      1.0      1.0      1.0      1.0\n",
       "[11009]      1.0      1.0      1.0      1.0      1.0      1.0      1.0      1.0\n",
       "[11017]      1.0      1.0      1.0      1.0      1.0      1.0      1.0      1.0\n",
       "[11025]      1.0      1.0      1.0      1.0      1.0      1.0      1.0      1.0\n",
       "[11033]      1.0      1.0      1.0      1.0      1.0      1.0      1.0      1.0\n",
       "[11041]      1.0      1.0      1.0      1.0      1.0      1.0      1.0      1.0\n",
       "[11049]      1.0      1.0      1.0      1.0      1.0      1.0      1.0      1.0\n",
       "[11057]      1.0      1.0      1.0      1.0      1.0      1.0      1.0      1.0\n",
       "[11065]      1.0      1.0      1.0      1.0      1.0      1.0      1.0      1.0\n",
       "[11073]      1.0      1.0      1.0      1.0      1.0      1.0      1.0      1.0\n",
       "[11081]      1.0      1.0      1.0      1.0      1.0      1.0      1.0      1.0\n",
       "[11089]      1.0      1.0      1.0      1.0      1.0      1.0      1.0      1.0\n",
       "[11097]      1.0      1.0      1.0      1.0      1.0      1.0      1.0      1.0\n",
       "[11105]      1.0      1.0      1.0      1.0      1.0      1.0      1.0      1.0\n",
       "[11113]      1.0      1.0      1.0      1.0      1.0      1.0      1.0      1.0\n",
       "[11121]      1.0      1.0      1.0      1.0      1.0      1.0      1.0      1.0\n",
       "[11129]      1.0      1.0      1.0      1.0      1.0      1.0      1.0      1.0\n",
       "[11137]      1.0      1.0      1.0      1.0      1.0      1.0      1.0      1.0\n",
       "[11145]      1.0      1.0      1.0      1.0      1.0      1.0      1.0      1.0\n",
       "[11153]      1.0      1.0      1.0      1.0      1.0      1.0      1.0      1.0\n",
       "[11161]      1.0      1.0      1.0      1.0      1.0      1.0      1.0      1.0\n",
       "[11169]      1.0      1.0      1.0      1.0      1.0      1.0      1.0      1.0\n",
       "[11177]      1.0      1.0      1.0      1.0      1.0      1.0      1.0      1.0\n",
       "[11185]      1.0      1.0      1.0      1.0      1.0      1.0      1.0      1.0\n",
       "[11193]      1.0      1.0      1.0      1.0      1.0      1.0      1.0      1.0\n",
       "[11201]      1.0      1.0      1.0      1.0      1.0      1.0      1.0      1.0\n",
       "[11209]      1.0      1.0      1.0      1.0      1.0      1.0      1.0      1.0\n",
       "[11217]      1.0      1.0      1.0      1.0      1.0      1.0      1.0      1.0\n",
       "[11225]      1.0      1.0      1.0      1.0      1.0      1.0      1.0      1.0\n",
       "[11233]      1.0      1.0      1.0      1.0      1.0      1.0      1.0      1.0\n",
       "[11241]      1.0      1.0      1.0      1.0      1.0      1.0      1.0      1.0\n",
       "[11249]      1.0      1.0      1.0      1.0      1.0      1.0      1.0      1.0\n",
       "[11257]      1.0      1.0      1.0      1.0      1.0      1.0      1.0      1.0\n",
       "[11265]      1.0      1.0      1.0      1.0      1.0      1.0      1.0      1.0\n",
       "[11273]      1.0      1.0      1.0      1.0      1.0      1.0      1.0      1.0\n",
       "[11281]      1.0      1.0      1.0      1.0      1.0      1.0      1.0      1.0\n",
       "[11289]      1.0      1.0      1.0      1.0      1.0      1.0      1.0      1.0\n",
       "[11297]      1.0      1.0      1.0      1.0      1.0      1.0      1.0      1.0\n",
       "[11305]      1.0      1.0      1.0      1.0      1.0      1.0      1.0      1.0\n",
       "[11313]      1.0      1.0      1.0      1.0      1.0      1.0      1.0      1.0\n",
       "[11321]      1.0      1.0      1.0      1.0      1.0      1.0      1.0      1.0\n",
       "[11329]      1.0      1.0      1.0      1.0      1.0      1.0      1.0      1.0\n",
       "[11337]      1.0      1.0      1.0      1.0      1.0      1.0      1.0      1.0\n",
       "[11345]      1.0      1.0      1.0      1.0      1.0      1.0      1.0      1.0\n",
       "[11353]      1.0      1.0      1.0      1.0      1.0      1.0      1.0      1.0\n",
       "[11361]      1.0      1.0      1.0      1.0      1.0      1.0      1.0      1.0\n",
       "[11369]      1.0      1.0      1.0      1.0      1.0      1.0      1.0      1.0\n",
       "[11377]      1.0      1.0      1.0      1.0      1.0      1.0      1.0      1.0\n",
       "[11385]      1.0      1.0      1.0      1.0      1.0      1.0      1.0      1.0\n",
       "[11393]      1.0      1.0      1.0      1.0      1.0      1.0      1.0      1.0\n",
       "[11401]      1.0      1.0      1.0      1.0      1.0      1.0      1.0      1.0\n",
       "[11409]      1.0      1.0      1.0      1.0      1.0      1.0      1.0      1.0\n",
       "[11417]      1.0      1.0      1.0      1.0      1.0      1.0      1.0      1.0\n",
       "[11425]      1.0      1.0      1.0      1.0      1.0      1.0      1.0      1.0\n",
       "[11433]      1.0      1.0      1.0      1.0      1.0      1.0      1.0      1.0\n",
       "[11441]      1.0      1.0      1.0      1.0      1.0      1.0      1.0      1.0\n",
       "[11449]      1.0      1.0      1.0      1.0      1.0      1.0      1.0      1.0\n",
       "[11457]      1.0      1.0      1.0      1.0      1.0      1.0      1.0      1.0\n",
       "[11465]      1.0      1.0      1.0      1.0      1.0      1.0      1.0      1.0\n",
       "[11473]      1.0      1.0      1.0      1.0      1.0      1.0      1.0      1.0\n",
       "[11481]      1.0      1.0      1.0      1.0      1.0      1.0      1.0      1.0\n",
       "[11489]      1.0      1.0      1.0      1.0      1.0      1.0      1.0      1.0\n",
       "[11497]      1.0      1.0      1.0      1.0      1.0      1.0      1.0      1.0\n",
       "[11505]      1.0      1.0      1.0      1.0      1.0      1.0      1.0      1.0\n",
       "[11513]      1.0      1.0      1.0      1.0      1.0      1.0      1.0      1.0\n",
       "[11521]      1.0      1.0      1.0      1.0      1.0      1.0      1.0      1.0\n",
       "[11529]      1.0      1.0      1.0      1.0      1.0      1.0      1.0      1.0\n",
       "[11537]      1.0      1.0      1.0      1.0      1.0      1.0      1.0      1.0\n",
       "[11545]      1.0      1.0      1.0      1.0      1.0      1.0      1.0      1.0\n",
       "[11553]      1.0      1.0      1.0      1.0      1.0      1.0      1.0      1.0\n",
       "[11561]      1.0      1.0      1.0      1.0      1.0      1.0      1.0      1.0\n",
       "[11569]      1.0      1.0      1.0      1.0      1.0      1.0      1.0      1.0\n",
       "[11577]      1.0      1.0      1.0      1.0      1.0      1.0      1.0      1.0\n",
       "[11585]      1.0      1.0      1.0      1.0      1.0      1.0      1.0      1.0\n",
       "[11593]      1.0      1.0      1.0      1.0      1.0      1.0      1.0      1.0\n",
       "[11601]      1.0      1.0      1.0      1.0      1.0      1.0      1.0      1.0\n",
       "[11609]      1.0      1.0      1.0      1.0      1.0      1.0      1.0      1.0\n",
       "[11617]      1.0      1.0      1.0      1.0      1.0      1.0      1.0      1.0\n",
       "[11625]      1.0      1.0      1.0      1.0      1.0      1.0      1.0      1.0\n",
       "[11633]      1.0      1.0      1.0      1.0      1.0      1.0      1.0      1.0\n",
       "[11641]      1.0      1.0      1.0      1.0      1.0      1.0      1.0      1.0\n",
       "[11649]      1.0      1.0      1.0      1.0      1.0      1.0      1.0      1.0\n",
       "[11657]      1.0      1.0      1.0      1.0      1.0      1.0      1.0      1.0\n",
       "[11665]      1.0      1.0      1.0      1.0      1.0      1.0      1.0      1.0\n",
       "[11673]      1.0      1.0      1.0      1.0      1.0      1.0      1.0      1.0\n",
       "[11681]      1.0      1.0      1.0      1.0      1.0      1.0      1.0      1.0\n",
       "[11689]      1.0      1.0      1.0      1.0      1.0      1.0      1.0      1.0\n",
       "[11697]      1.0      1.0      1.0      1.0      1.0      1.0      1.0      1.0\n",
       "[11705]      1.0      1.0      1.0      1.0      1.0      1.0      1.0      1.0\n",
       "[11713]      1.0      1.0      1.0      1.0      1.0      1.0      1.0      1.0\n",
       "[11721]      1.0      1.0      1.0      1.0      1.0      1.0      1.0      1.0\n",
       "[11729]      1.0      1.0      1.0      1.0      1.0      1.0      1.0      1.0\n",
       "[11737]      1.0      1.0      1.0      1.0      1.0      1.0      1.0      1.0\n",
       "[11745]      1.0      1.0      1.0      1.0      1.0      1.0      1.0      1.0\n",
       "[11753]      1.0      1.0      1.0      1.0      1.0      1.0      1.0      1.0\n",
       "[11761]      1.0      1.0      1.0      1.0      1.0      1.0      1.0      1.0\n",
       "[11769]      1.0      1.0      1.0      1.0      1.0      1.0      1.0      1.0\n",
       "[11777]      1.0      1.0      1.0      1.0      1.0      1.0      1.0      1.0\n",
       "[11785]      1.0      1.0      1.0      1.0      1.0      1.0      1.0      1.0\n",
       "[11793]      1.0      1.0      1.0      1.0      1.0      1.0      1.0      1.0\n",
       "[11801]      1.0      1.0      1.0      1.0      1.0      1.0      1.0      1.0\n",
       "[11809]      1.0      1.0      1.0      1.0      1.0      1.0      1.0      1.0\n",
       "[11817]      1.0      1.0      1.0      1.0      1.0      1.0      1.0      1.0\n",
       "[11825]      1.0      1.0      1.0      1.0      1.0      1.0      1.0      1.0\n",
       "[11833]      1.0      1.0      1.0      1.0      1.0      1.0      1.0      1.0\n",
       "[11841]      1.0      1.0      1.0      1.0      1.0      1.0      1.0      1.0\n",
       "[11849]      1.0      1.0      1.0      1.0      1.0      1.0      1.0      1.0\n",
       "[11857]      1.0      1.0      1.0      1.0      1.0      1.0      1.0      1.0\n",
       "[11865]      1.0      1.0      1.0      1.0      1.0      1.0      1.0      1.0\n",
       "[11873]      1.0      1.0      1.0      1.0      1.0      1.0      1.0      1.0\n",
       "[11881]      1.0      1.0      1.0      1.0      1.0      1.0      1.0      1.0\n",
       "[11889]      1.0      1.0      1.0      1.0      1.0      1.0      1.0      1.0\n",
       "[11897]      1.0      1.0      1.0      1.0      1.0      1.0      1.0      1.0\n",
       "[11905]      1.0      1.0      1.0      1.0      1.0      1.0      1.0      1.0\n",
       "[11913]      1.0      1.0      1.0      1.0      1.0      1.0      1.0      1.0\n",
       "[11921]      1.0      1.0      1.0      1.0      1.0      1.0      1.0      1.0\n",
       "[11929]      1.0      1.0      1.0      1.0      1.0      1.0      1.0      1.0\n",
       "[11937]      1.0      1.0      1.0      1.0      1.0      1.0      1.0      1.0\n",
       "[11945]      1.0      1.0      1.0      1.0      1.0      1.0      1.0      1.0\n",
       "[11953]      1.0      1.0      1.0      1.0      1.0      1.0      1.0      1.0\n",
       "[11961]      1.0      1.0      1.0      1.0      1.0      1.0      1.0      1.0\n",
       "[11969]      1.0      1.0      1.0      1.0      1.0      1.0      1.0      1.0\n",
       "[11977]      1.0      1.0      1.0      1.0      1.0      1.0      1.0      1.0\n",
       "[11985]      1.0      1.0      1.0      1.0      1.0      1.0      1.0      1.0\n",
       "[11993]      1.0      1.0      1.0      1.0      1.0      1.0      1.0      1.0\n",
       "[12001]      1.0      1.0      1.0      1.0      1.0      1.0      1.0      1.0\n",
       "[12009]      1.0      1.0      1.0      1.0      1.0      1.0      1.0      1.0\n",
       "[12017]      1.0      1.0      1.0      1.0      1.0      1.0      1.0      1.0\n",
       "[12025]      1.0      1.0      1.0      1.0      1.0      1.0      1.0      1.0\n",
       "[12033]      1.0      1.0      1.0      1.0      1.0      1.0      1.0      1.0\n",
       "[12041]      1.0      1.0      1.0      1.0      1.0      1.0      1.0      1.0\n",
       "[12049]      1.0      1.0      1.0      1.0      1.0      1.0      1.0      1.0\n",
       "[12057]      1.0      1.0      1.0      1.0      1.0      1.0      1.0      1.0\n",
       "[12065]      1.0      1.0      1.0      1.0      1.0      1.0      1.0      1.0\n",
       "[12073]      1.0      1.0      1.0      1.0      1.0      1.0      1.0      1.0\n",
       "[12081]      1.0      1.0      1.0      1.0      1.0      1.0      1.0      1.0\n",
       "[12089]      1.0      1.0      1.0      1.0      1.0      1.0      1.0      1.0\n",
       "[12097]      1.0      1.0      1.0      1.0      1.0      1.0      1.0      1.0\n",
       "[12105]      1.0      1.0      1.0      1.0      1.0      1.0      1.0      1.0\n",
       "[12113]      1.0      1.0      1.0      1.0      1.0      1.0      1.0      1.0\n",
       "[12121]      1.0      1.0      1.0      1.0      1.0      1.0      1.0      1.0\n",
       "[12129]      1.0      1.0      1.0      1.0      1.0      1.0      1.0      1.0\n",
       "[12137]      1.0      1.0      1.0      1.0      1.0      1.0      1.0      1.0\n",
       "[12145]      1.0      1.0      1.0      1.0      1.0      1.0      1.0      1.0\n",
       "[12153]      1.0      1.0      1.0      1.0      1.0      1.0      1.0      1.0\n",
       "[12161]      1.0      1.0      1.0      1.0      1.0      1.0      1.0      1.0\n",
       "[12169]      1.0      1.0      1.0      1.0      1.0      1.0      1.0      1.0\n",
       "[12177]      1.0      1.0      1.0      1.0      1.0      1.0      1.0      1.0\n",
       "[12185]      1.0      1.0      1.0      1.0      1.0      1.0      1.0      1.0\n",
       "[12193]      1.0      1.0      1.0      1.0      1.0      1.0      1.0      1.0\n",
       "[12201]      1.0      1.0      1.0      1.0      1.0      1.0      1.0      1.0\n",
       "[12209]      1.0      1.0      1.0      1.0      1.0      1.0      1.0      1.0\n",
       "[12217]      1.0      1.0      1.0      1.0      1.0      1.0      1.0      1.0\n",
       "[12225]      1.0      1.0      1.0      1.0      1.0      1.0      1.0      1.0\n",
       "[12233]      1.0      1.0      1.0      1.0      1.0      1.0      1.0      1.0\n",
       "[12241]      1.0      1.0      1.0      1.0      1.0      1.0      1.0      1.0\n",
       "[12249]      1.0      1.0      1.0      1.0      1.0      1.0      1.0      1.0\n",
       "[12257]      1.0      1.0      1.0      1.0      1.0      1.0      1.0      1.0\n",
       "[12265]      1.0      1.0      1.0      1.0      1.0      1.0      1.0      1.0\n",
       "[12273]      1.0      1.0      1.0      1.0      1.0      1.0      1.0      1.0\n",
       "[12281]      1.0      1.0      1.0      1.0      1.0      1.0      1.0      1.0\n",
       "[12289]      1.0      1.0      1.0      1.0      1.0      1.0      1.0      1.0\n",
       "[12297]      1.0      1.0      1.0      1.0      1.0      1.0      1.0      1.0\n",
       "[12305]      1.0      1.0      1.0      1.0      1.0      1.0      1.0      1.0\n",
       "[12313]      1.0      1.0      1.0      1.0      1.0      1.0      1.0      1.0\n",
       "[12321]      1.0      1.0      1.0      1.0      1.0      1.0      1.0      1.0\n",
       "[12329]      1.0      1.0      1.0      1.0      1.0      1.0      1.0      1.0\n",
       "[12337]      1.0      1.0      1.0      1.0      1.0      1.0      1.0      1.0\n",
       "[12345]      1.0      1.0      1.0      1.0      1.0      1.0      1.0      1.0\n",
       "[12353]      1.0      1.0      1.0      1.0      1.0      1.0      1.0      1.0\n",
       "[12361]      1.0      1.0      1.0      1.0      1.0      1.0      1.0      1.0\n",
       "[12369]      1.0      1.0      1.0      1.0      1.0      1.0      1.0      1.0\n",
       "[12377]      1.0      1.0      1.0      1.0      1.0      1.0      1.0      1.0\n",
       "[12385]      1.0      1.0      1.0      1.0      1.0      1.0      1.0      1.0\n",
       "[12393]      1.0      1.0      1.0      1.0      1.0      1.0      1.0      1.0\n",
       "[12401]      1.0      1.0      1.0      1.0      1.0      1.0      1.0      1.0\n",
       "[12409]      1.0      1.0      1.0      1.0      1.0      1.0      1.0      1.0\n",
       "[12417]      1.0      1.0      1.0      1.0      1.0      1.0      1.0      1.0\n",
       "[12425]      1.0      1.0      1.0      1.0      1.0      1.0      1.0      1.0\n",
       "[12433]      1.0      1.0      1.0      1.0      1.0      1.0      1.0      1.0\n",
       "[12441]      1.0      1.0      1.0      1.0      1.0      1.0      1.0      1.0\n",
       "[12449]      1.0      1.0      1.0      1.0      1.0      1.0      1.0      1.0\n",
       "[12457]      1.0      1.0      1.0      1.0      1.0      1.0      1.0      1.0\n",
       "[12465]      1.0      1.0      1.0      1.0      1.0      1.0      1.0      1.0\n",
       "[12473]      1.0      1.0      1.0      1.0      1.0      1.0      1.0      1.0\n",
       "[12481]      1.0      1.0      1.0      1.0      1.0      1.0      1.0      1.0\n",
       "[12489]      1.0      1.0      1.0      1.0      1.0      1.0      1.0      1.0\n",
       "[12497]      1.0      1.0      1.0      1.0      1.0      1.0      1.0      1.0\n",
       "[12505]      1.0      1.0      1.0      1.0      1.0      1.0      1.0      1.0\n",
       "[12513]      1.0      1.0      1.0      1.0      1.0      1.0      1.0      1.0\n",
       "[12521]      1.0      1.0      1.0      1.0      1.0      1.0      1.0      1.0\n",
       "[12529]      1.0      1.0      1.0      1.0      1.0      1.0      1.0      1.0\n",
       "[12537]      1.0      1.0      1.0      1.0      1.0      1.0      1.0      1.0\n",
       "[12545]      1.0      1.0      1.0      1.0      1.0      1.0      1.0      1.0\n",
       "[12553]      1.0      1.0      1.0      1.0      1.0      1.0      1.0      1.0\n",
       "[12561]      1.0      1.0      1.0      1.0      1.0      1.0      1.0      1.0\n",
       "[12569]      1.0      1.0      1.0      1.0      1.0      1.0      1.0      1.0\n",
       "[12577]      1.0      1.0      1.0      1.0      1.0      1.0      1.0      1.0\n",
       "[12585]      1.0      1.0      1.0      1.0      1.0      1.0      1.0      1.0\n",
       "[12593]      1.0      1.0      1.0      1.0      1.0      1.0      1.0      1.0\n",
       "[12601]      1.0      1.0      1.0      1.0      1.0      1.0      1.0      1.0\n",
       "[12609]      1.0      1.0      1.0      1.0      1.0      1.0      1.0      1.0\n",
       "[12617]      1.0      1.0      1.0      1.0      1.0      1.0      1.0      1.0\n",
       "[12625]      1.0      1.0      1.0      1.0      1.0      1.0      1.0      1.0\n",
       "[12633]      1.0      1.0      1.0      1.0      1.0      1.0      1.0      1.0\n",
       "[12641]      1.0      1.0      1.0      1.0      1.0      1.0      1.0      1.0\n",
       "[12649]      1.0      1.0      1.0      1.0      1.0      1.0      1.0      1.0\n",
       "[12657]      1.0      1.0      1.0      1.0      1.0      1.0      1.0      1.0\n",
       "[12665]      1.0      1.0      1.0      1.0      1.0      1.0      1.0      1.0\n",
       "[12673]      1.0      1.0      1.0      1.0      1.0      1.0      1.0      1.0\n",
       "[12681]      1.0      1.0      1.0      1.0      1.0      1.0      1.0      1.0\n",
       "[12689]      1.0      1.0      1.0      1.0      1.0      1.0      1.0      1.0\n",
       "[12697]      1.0      1.0      1.0      1.0      1.0      1.0      1.0      1.0\n",
       "[12705]      1.0      1.0      1.0      1.0      1.0      1.0      1.0      1.0\n",
       "[12713]      1.0      1.0      1.0      1.0      1.0      1.0      1.0      1.0\n",
       "[12721]      1.0      1.0      1.0      1.0      1.0      1.0      1.0      1.0\n",
       "[12729]      1.0      1.0      1.0      1.0      1.0      1.0      1.0      1.0\n",
       "[12737]      1.0      1.0      1.0      1.0      1.0      1.0      1.0      1.0\n",
       "[12745]      1.0      1.0      1.0      1.0      1.0      1.0      1.0      1.0\n",
       "[12753]      1.0      1.0      1.0      1.0      1.0      1.0      1.0      1.0\n",
       "[12761]      1.0      1.0      1.0      1.0      1.0      1.0      1.0      1.0\n",
       "[12769]      1.0      1.0      1.0      1.0      1.0      1.0      1.0      1.0\n",
       "[12777]      1.0      1.0      1.0      1.0      1.0      1.0      1.0      1.0\n",
       "[12785]      1.0      1.0      1.0      1.0      1.0      1.0      1.0      1.0\n",
       "[12793]      1.0      1.0      1.0      1.0      1.0      1.0      1.0      1.0\n",
       "[12801]      1.0      1.0      1.0      1.0      1.0      1.0      1.0      1.0\n",
       "[12809]      1.0      1.0      1.0      1.0      1.0      1.0      1.0      1.0\n",
       "[12817]      1.0      1.0      1.0      1.0      1.0      1.0      1.0      1.0\n",
       "[12825]      1.0      1.0      1.0      1.0      1.0      1.0      1.0      1.0\n",
       "[12833]      1.0      1.0      1.0      1.0      1.0      1.0      1.0      1.0\n",
       "[12841]      1.0      1.0      1.0      1.0      1.0      1.0      1.0      1.0\n",
       "[12849]      1.0      1.0      1.0      1.0      1.0      1.0      1.0      1.0\n",
       "[12857]      1.0      1.0      1.0      1.0      1.0      1.0      1.0      1.0\n",
       "[12865]      1.0      1.0      1.0      1.0      1.0      1.0      1.0      1.0\n",
       "[12873]      1.0      1.0      1.0      1.0      1.0      1.0      1.0      1.0\n",
       "[12881]      1.0      1.0      1.0      1.0      1.0      1.0      1.0      1.0\n",
       "[12889]      1.0      1.0      1.0      1.0      1.0      1.0      1.0      1.0\n",
       "[12897]      1.0      1.0      1.0      1.0      1.0      1.0      1.0      1.0\n",
       "[12905]      1.0      1.0      1.0      1.0      1.0      1.0      1.0      1.0\n",
       "[12913]      1.0      1.0      1.0      1.0      1.0      1.0      1.0      1.0\n",
       "[12921]      1.0      1.0      1.0      1.0      1.0      1.0      1.0      1.0\n",
       "[12929]      1.0      1.0      1.0      1.0      1.0      1.0      1.0      1.0\n",
       "[12937]      1.0      1.0      1.0      1.0      1.0      1.0      1.0      1.0\n",
       "[12945]      1.0      1.0      1.0      1.0      1.0      1.0      1.0      1.0\n",
       "[12953]      1.0      1.0      1.0      1.0      1.0      1.0      1.0      1.0\n",
       "[12961]      1.0      1.0      1.0      1.0      1.0      1.0      1.0      1.0\n",
       "[12969]      1.0      1.0      1.0      1.0      1.0      1.0      1.0      1.0\n",
       "[12977]      1.0      1.0      1.0      1.0      1.0      1.0      1.0      1.0\n",
       "[12985]      1.0      1.0      1.0      1.0      1.0      1.0      1.0      1.0\n",
       "[12993]      1.0      1.0      1.0      1.0      1.0      1.0      1.0      1.0\n",
       "[13001]      1.0      1.0      1.0      1.0      1.0      1.0      1.0      1.0\n",
       "[13009]      1.0      1.0      1.0      1.0      1.0      1.0      1.0      1.0\n",
       "[13017]      1.0      1.0      1.0      1.0      1.0      1.0      1.0      1.0\n",
       "[13025]      1.0      1.0      1.0      1.0      1.0      1.0      1.0      1.0\n",
       "[13033]      1.0      1.0      1.0      1.0      1.0      1.0      1.0      1.0\n",
       "[13041]      1.0      1.0      1.0      1.0      1.0      1.0      1.0      1.0\n",
       "[13049]      1.0      1.0      1.0      1.0      1.0      1.0      1.0      1.0\n",
       "[13057]      1.0      1.0      1.0      1.0      1.0      1.0      1.0      1.0\n",
       "[13065]      1.0      1.0      1.0      1.0      1.0      1.0      1.0      1.0\n",
       "[13073]      1.0      1.0      1.0      1.0      1.0      1.0      1.0      1.0\n",
       "[13081]      1.0      1.0      1.0      1.0      1.0      1.0      1.0      1.0\n",
       "[13089]      1.0      1.0      1.0      1.0      1.0      1.0      1.0      1.0\n",
       "[13097]      1.0      1.0      1.0      1.0      1.0      1.0      1.0      1.0\n",
       "[13105]      1.0      1.0      1.0      1.0      1.0      1.0      1.0      1.0\n",
       "[13113]      1.0      1.0      1.0      1.0      1.0      1.0      1.0      1.0\n",
       "[13121]      1.0      1.0      1.0      1.0      1.0      1.0      1.0      1.0\n",
       "[13129]      1.0      1.0      1.0      1.0      1.0      1.0      1.0      1.0\n",
       "[13137]      1.0      1.0      1.0      1.0      1.0      1.0      1.0      1.0\n",
       "[13145]      1.0      1.0      1.0      1.0      1.0      1.0      1.0      1.0\n",
       "[13153]      1.0      1.0      1.0      1.0      1.0      1.0      1.0      1.0\n",
       "[13161]      1.0      1.0      1.0      1.0      1.0      1.0      1.0      1.0\n",
       "[13169]      1.0      1.0      1.0      1.0      1.0      1.0      1.0      1.0\n",
       "[13177]      1.0      1.0      1.0      1.0      1.0      1.0      1.0      1.0\n",
       "[13185]      1.0      1.0      1.0      1.0      1.0      1.0      1.0      1.0\n",
       "[13193]      1.0      1.0      1.0      1.0      1.0      1.0      1.0      1.0\n",
       "[13201]      1.0      1.0      1.0      1.0      1.0      1.0      1.0      1.0\n",
       "[13209]      1.0      1.0      1.0      1.0      1.0      1.0      1.0      1.0\n",
       "[13217]      1.0      1.0      1.0      1.0      1.0      1.0      1.0      1.0\n",
       "[13225]      1.0      1.0      1.0      1.0      1.0      1.0      1.0      1.0\n",
       "[13233]      1.0      1.0      1.0      1.0      1.0      1.0      1.0      1.0\n",
       "[13241]      1.0      1.0      1.0      1.0      1.0      1.0      1.0      1.0\n",
       "[13249]      1.0      1.0      1.0      1.0      1.0      1.0      1.0      1.0\n",
       "[13257]      1.0      1.0      1.0      1.0      1.0      1.0      1.0      1.0\n",
       "[13265]      1.0      1.0      1.0      1.0      1.0      1.0      1.0      1.0\n",
       "[13273]      1.0      1.0      1.0      1.0      1.0      1.0      1.0      1.0\n",
       "[13281]      1.0      1.0      1.0      1.0      1.0      1.0      1.0      1.0\n",
       "[13289]      1.0      1.0      1.0      1.0      1.0      1.0      1.0      1.0\n",
       "[13297]      1.0      1.0      1.0      1.0      1.0      1.0      1.0      1.0\n",
       "[13305]      1.0      1.0      1.0      1.0      1.0      1.0      1.0      1.0\n",
       "[13313]      1.0      1.0      1.0      1.0      1.0      1.0      1.0      1.0\n",
       "[13321]      1.0      1.0      1.0      1.0      1.0      1.0      1.0      1.0\n",
       "[13329]      1.0      1.0      1.0      1.0      1.0      1.0      1.0      1.0\n",
       "[13337]      1.0      1.0      1.0      1.0      1.0      1.0      1.0      1.0\n",
       "[13345]      1.0      1.0      1.0      1.0      1.0      1.0      1.0      1.0\n",
       "[13353]      1.0      1.0      1.0      1.0      1.0      1.0      1.0      1.0\n",
       "[13361]      1.0      1.0      1.0      1.0      1.0      1.0      1.0      1.0\n",
       "[13369]      1.0      1.0      1.0      1.0      1.0      1.0      1.0      1.0\n",
       "[13377]      1.0      1.0      1.0      1.0      1.0      1.0      1.0      1.0\n",
       "[13385]      1.0      1.0      1.0      1.0      1.0      1.0      1.0      1.0\n",
       "[13393]      1.0      1.0      1.0      1.0      1.0      1.0      1.0      1.0\n",
       "[13401]      1.0      1.0      1.0      1.0      1.0      1.0      1.0      1.0\n",
       "[13409]      1.0      1.0      1.0      1.0      1.0      1.0      1.0      1.0\n",
       "[13417]      1.0      1.0      1.0      1.0      1.0      1.0      1.0      1.0\n",
       "[13425]      1.0      1.0      1.0      1.0      1.0      1.0      1.0      1.0\n",
       "[13433]      1.0      1.0      1.0      1.0      1.0      1.0      1.0      1.0\n",
       "[13441]      1.0      1.0      1.0      1.0      1.0      1.0      1.0      1.0\n",
       "[13449]      1.0      1.0      1.0      1.0      1.0      1.0      1.0      1.0\n",
       "[13457]      1.0      1.0      1.0      1.0      1.0      1.0      1.0      1.0\n",
       "[13465]      1.0      1.0      1.0      1.0      1.0      1.0      1.0      1.0\n",
       "[13473]      1.0      1.0      1.0      1.0      1.0      1.0      1.0      1.0\n",
       "[13481]      1.0      1.0      1.0      1.0      1.0      1.0      1.0      1.0\n",
       "[13489]      1.0      1.0      1.0      1.0      1.0      1.0      1.0      1.0\n",
       "[13497]      1.0      1.0      1.0      1.0      1.0      1.0      1.0      1.0\n",
       "[13505]      1.0      1.0      1.0      1.0      1.0      1.0      1.0      1.0\n",
       "[13513]      1.0      1.0      1.0      1.0      1.0      1.0      1.0      1.0\n",
       "[13521]      1.0      1.0      1.0      1.0      1.0      1.0      1.0      1.0\n",
       "[13529]      1.0      1.0      1.0      1.0      1.0      1.0      1.0      1.0\n",
       "[13537]      1.0      1.0      1.0      1.0      1.0      1.0      1.0      1.0\n",
       "[13545]      1.0      1.0      1.0      1.0      1.0      1.0      1.0      1.0\n",
       "[13553]      1.0      1.0      1.0      1.0      1.0      1.0      1.0      1.0\n",
       "[13561]      1.0      1.0      1.0      1.0      1.0      1.0      1.0      1.0\n",
       "[13569]      1.0      1.0      1.0      1.0      1.0      1.0      1.0      1.0\n",
       "[13577]      1.0      1.0      1.0      1.0      1.0      1.0      1.0      1.0\n",
       "[13585]      1.0      1.0      1.0      1.0      1.0      1.0      1.0      1.0\n",
       "[13593]      1.0      1.0      1.0      1.0      1.0      1.0      1.0      1.0\n",
       "[13601]      1.0      1.0      1.0      1.0      1.0      1.0      1.0      1.0\n",
       "[13609]      1.0      1.0      1.0      1.0      1.0      1.0      1.0      1.0\n",
       "[13617]      1.0      1.0      1.0      1.0      1.0      1.0      1.0      1.0\n",
       "[13625]      1.0      1.0      1.0      1.0      1.0      1.0      1.0      1.0\n",
       "[13633]      1.0      1.0      1.0      1.0      1.0      1.0      1.0      1.0\n",
       "[13641]      1.0      1.0      1.0      1.0      1.0      1.0      1.0      1.0\n",
       "[13649]      1.0      1.0      1.0      1.0      1.0      1.0      1.0      1.0\n",
       "[13657]      1.0      1.0      1.0      1.0      1.0      1.0      1.0      1.0\n",
       "[13665]      1.0      1.0      1.0      1.0      1.0      1.0      1.0      1.0\n",
       "[13673]      1.0      1.0      1.0      1.0      1.0      1.0      1.0      1.0\n",
       "[13681]      1.0      1.0      1.0      1.0      1.0      1.0      1.0      1.0\n",
       "[13689]      1.0      1.0      1.0      1.0      1.0      1.0      1.0      1.0\n",
       "[13697]      1.0      1.0      1.0      1.0      1.0      1.0      1.0      1.0\n",
       "[13705]      1.0      1.0      1.0      1.0      1.0      1.0      1.0      1.0\n",
       "[13713]      1.0      1.0      1.0      1.0      1.0      1.0      1.0      1.0\n",
       "[13721]      1.0      1.0      1.0      1.0      1.0      1.0      1.0      1.0\n",
       "[13729]      1.0      1.0      1.0      1.0      1.0      1.0      1.0      1.0\n",
       "[13737]      1.0      1.0      1.0      1.0      1.0      1.0      1.0      1.0\n",
       "[13745]      1.0      1.0      1.0      1.0      1.0      1.0      1.0      1.0\n",
       "[13753]      1.0      1.0      1.0      1.0      1.0      1.0      1.0      1.0\n",
       "[13761]      1.0      1.0      1.0      1.0      1.0      1.0      1.0      1.0\n",
       "[13769]      1.0      1.0      1.0      1.0      1.0      1.0      1.0      1.0\n",
       "[13777]      1.0      1.0      1.0      1.0      1.0      1.0      1.0      1.0\n",
       "[13785]      1.0      1.0      1.0      1.0      1.0      1.0      1.0      1.0\n",
       "[13793]      1.0      1.0      1.0      1.0      1.0      1.0      1.0      1.0\n",
       "[13801]      1.0      1.0      1.0      1.0      1.0      1.0      1.0      1.0\n",
       "[13809]      1.0      1.0      1.0      1.0      1.0      1.0      1.0      1.0\n",
       "[13817]      1.0      1.0      1.0      1.0      1.0      1.0      1.0      1.0\n",
       "[13825]      1.0      1.0      1.0      1.0      1.0      1.0      1.0      1.0\n",
       "[13833]      1.0      1.0      1.0      1.0      1.0      1.0      1.0      1.0\n",
       "[13841]      1.0      1.0      1.0      1.0      1.0      1.0      1.0      1.0\n",
       "[13849]      1.0      1.0      1.0      1.0      1.0      1.0      1.0      1.0\n",
       "[13857]      1.0      1.0      1.0      1.0      1.0      1.0      1.0      1.0\n",
       "[13865]      1.0      1.0      1.0      1.0      1.0      1.0      1.0      1.0\n",
       "[13873]      1.0      1.0      1.0      1.0      1.0      1.0      1.0      1.0\n",
       "[13881]      1.0      1.0      1.0      1.0      1.0      1.0      1.0      1.0\n",
       "[13889]      1.0      1.0      1.0      1.0      1.0      1.0      1.0      1.0\n",
       "[13897]      1.0      1.0      1.0      1.0      1.0      1.0      1.0      1.0\n",
       "[13905]      1.0      1.0      1.0      1.0      1.0      1.0      1.0      1.0\n",
       "[13913]      1.0      1.0      1.0      1.0      1.0      1.0      1.0      1.0\n",
       "[13921]      1.0      1.0      1.0      1.0      1.0      1.0      1.0      1.0\n",
       "[13929]      1.0      1.0      1.0      1.0      1.0      1.0      1.0      1.0\n",
       "[13937]      1.0      1.0      1.0      1.0      1.0      1.0      1.0      1.0\n",
       "[13945]      1.0      1.0      1.0      1.0      1.0      1.0      1.0      1.0\n",
       "[13953]      1.0      1.0      1.0      1.0      1.0      1.0      1.0      1.0\n",
       "[13961]      1.0      1.0      1.0      1.0      1.0      1.0      1.0      1.0\n",
       "[13969]      1.0      1.0      1.0      1.0      1.0      1.0      1.0      1.0\n",
       "[13977]      1.0      1.0      1.0      1.0      1.0      1.0      1.0      1.0\n",
       "[13985]      1.0      1.0      1.0      1.0      1.0      1.0      1.0      1.0\n",
       "[13993]      1.0      1.0      1.0      1.0      1.0      1.0      1.0      1.0\n",
       "[14001]      1.0      1.0      1.0      1.0      1.0      1.0      1.0      1.0\n",
       "[14009]      1.0      1.0      1.0      1.0      1.0      1.0      1.0      1.0\n",
       "[14017]      1.0      1.0      1.0      1.0      1.0      1.0      1.0      1.0\n",
       "[14025]      1.0      1.0      1.0      1.0      1.0      1.0      1.0      1.0\n",
       "[14033]      1.0      1.0      1.0      1.0      1.0      1.0      1.0      1.0\n",
       "[14041]      1.0      1.0      1.0      1.0      1.0      1.0      1.0      1.0\n",
       "[14049]      1.0      1.0      1.0      1.0      1.0      1.0      1.0      1.0\n",
       "[14057]      1.0      1.0      1.0      1.0      1.0      1.0      1.0      1.0\n",
       "[14065]      1.0      1.0      1.0      1.0      1.0      1.0      1.0      1.0\n",
       "[14073]      1.0      1.0      1.0      1.0      1.0      1.0      1.0      1.0\n",
       "[14081]      1.0      1.0      1.0      1.0      1.0      1.0      1.0      1.0\n",
       "[14089]      1.0      1.0      1.0      1.0      1.0      1.0      1.0      1.0\n",
       "[14097]      1.0      1.0      1.0      1.0      1.0      1.0      1.0      1.0\n",
       "[14105]      1.0      1.0      1.0      1.0      1.0      1.0      1.0      1.0\n",
       "[14113]      1.0      1.0      1.0      1.0      1.0      1.0      1.0      1.0\n",
       "[14121]      1.0      1.0      1.0      1.0      1.0      1.0      1.0      1.0\n",
       "[14129]      1.0      1.0      1.0      1.0      1.0      1.0      1.0      1.0\n",
       "[14137]      1.0      1.0      1.0      1.0      1.0      1.0      1.0      1.0\n",
       "[14145]      1.0      1.0      1.0      1.0      1.0      1.0      1.0      1.0\n",
       "[14153]      1.0      1.0      1.0      1.0      1.0      1.0      1.0      1.0\n",
       "[14161]      1.0      1.0      1.0      1.0      1.0      1.0      1.0      1.0\n",
       "[14169]      1.0      1.0      1.0      1.0      1.0      1.0      1.0      1.0\n",
       "[14177]      1.0      1.0      1.0      1.0      1.0      1.0      1.0      1.0\n",
       "[14185]      1.0      1.0      1.0      1.0      1.0      1.0      1.0      1.0\n",
       "[14193]      1.0      1.0      1.0      1.0      1.0      1.0      1.0      1.0\n",
       "[14201]      1.0      1.0      1.0      1.0      1.0      1.0      1.0      1.0\n",
       "[14209]      1.0      1.0      1.0      1.0      1.0      1.0      1.0      1.0\n",
       "[14217]      1.0      1.0      1.0      1.0      1.0      1.0      1.0      1.0\n",
       "[14225]      1.0      1.0      1.0      1.0      1.0      1.0      1.0      1.0\n",
       "[14233]      1.0      1.0      1.0      1.0      1.0      1.0      1.0      1.0\n",
       "[14241]      1.0      1.0      1.0      1.0      1.0      1.0      1.0      1.0\n",
       "[14249]      1.0      1.0      1.0      1.0      1.0      1.0      1.0      1.0\n",
       "[14257]      1.0      1.0      1.0      1.0      1.0      1.0      1.0      1.0\n",
       "[14265]      1.0      1.0      1.0      1.0      1.0      1.0      1.0      1.0\n",
       "[14273]      1.0      1.0      1.0      1.0      1.0      1.0      1.0      1.0\n",
       "[14281]      1.0      1.0      1.0      1.0      1.0      1.0      1.0      1.0\n",
       "[14289]      1.0      1.0      1.0      1.0      1.0      1.0      1.0      1.0\n",
       "[14297]      1.0      1.0      1.0      1.0      1.0      1.0      1.0      1.0\n",
       "[14305]      1.0      1.0      1.0      1.0      1.0      1.0      1.0      1.0\n",
       "[14313]      1.0      1.0      1.0      1.0      1.0      1.0      1.0      1.0\n",
       "[14321]      1.0      1.0      1.0      1.0      1.0      1.0      1.0      1.0\n",
       "[14329]      1.0      1.0      1.0      1.0      1.0      1.0      1.0      1.0\n",
       "[14337]      1.0      1.0      1.0      1.0      1.0      1.0      1.0      1.0\n",
       "[14345]      1.0      1.0      1.0      1.0      1.0      1.0      1.0      1.0\n",
       "[14353]      1.0      1.0      1.0      1.0      1.0      1.0      1.0      1.0\n",
       "[14361]      1.0      1.0      1.0      1.0      1.0      1.0      1.0      1.0\n",
       "[14369]      1.0      1.0      1.0      1.0      1.0      1.0      1.0      1.0\n",
       "[14377]      1.0      1.0      1.0      1.0      1.0      1.0      1.0      1.0\n",
       "[14385]      1.0      1.0      1.0      1.0      1.0      1.0      1.0      1.0\n",
       "[14393]      1.0      1.0      1.0      1.0      1.0      1.0      1.0      1.0\n",
       "[14401]      1.0      1.0      1.0      1.0      1.0      1.0      1.0      1.0\n",
       "[14409]      1.0      1.0      1.0      1.0      1.0      1.0      1.0      1.0\n",
       "[14417]      1.0      1.0      1.0      1.0      1.0      1.0      1.0      1.0\n",
       "[14425]      1.0      1.0      1.0      1.0      1.0      1.0      1.0      1.0\n",
       "[14433]      1.0      1.0      1.0      1.0      1.0      1.0      1.0      1.0\n",
       "[14441]      1.0      1.0      1.0      1.0      1.0      1.0      1.0      1.0\n",
       "[14449]      1.0      1.0      1.0      1.0      1.0      1.0      1.0      1.0\n",
       "[14457]      1.0      1.0      1.0      1.0      1.0      1.0      1.0      1.0\n",
       "[14465]      1.0      1.0      1.0      1.0      1.0      1.0      1.0      1.0\n",
       "[14473]      1.0      1.0      1.0      1.0      1.0      1.0      1.0      1.0\n",
       "[14481]      1.0      1.0      1.0      1.0      1.0      1.0      1.0      1.0\n",
       "[14489]      1.0      1.0      1.0      1.0      1.0      1.0      1.0      1.0\n",
       "[14497]      1.0      1.0      1.0      1.0      1.0      1.0      1.0      1.0\n",
       "[14505]      1.0      1.0      1.0      1.0      1.0      1.0      1.0      1.0\n",
       "[14513]      1.0      1.0      1.0      1.0      1.0      1.0      1.0      1.0\n",
       "[14521]      1.0      1.0      1.0      1.0      1.0      1.0      1.0      1.0\n",
       "[14529]      1.0      1.0      1.0      1.0      1.0      1.0      1.0      1.0\n",
       "[14537]      1.0      1.0      1.0      1.0      1.0      1.0      1.0      1.0\n",
       "[14545]      1.0      1.0      1.0      1.0      1.0      1.0      1.0      1.0\n",
       "[14553]      1.0      1.0      1.0      1.0      1.0      1.0      1.0      1.0\n",
       "[14561]      1.0      1.0      1.0      1.0      1.0      1.0      1.0      1.0\n",
       "[14569]      1.0      1.0      1.0      1.0      1.0      1.0      1.0      1.0\n",
       "[14577]      1.0      1.0      1.0      1.0      1.0      1.0      1.0      1.0\n",
       "[14585]      1.0      1.0      1.0      1.0      1.0      1.0      1.0      1.0\n",
       "[14593]      1.0      1.0      1.0      1.0      1.0      1.0      1.0      1.0\n",
       "[14601]      1.0      1.0      1.0      1.0      1.0      1.0      1.0      1.0\n",
       "[14609]      1.0      1.0      1.0      1.0      1.0      1.0      1.0      1.0\n",
       "[14617]      1.0      1.0      1.0      1.0      1.0      1.0      1.0      1.0\n",
       "[14625]      1.0      1.0      1.0      1.0      1.0      1.0      1.0      1.0\n",
       "[14633]      1.0      1.0      1.0      1.0      1.0      1.0      1.0      1.0\n",
       "[14641]      1.0      1.0      1.0      1.0      1.0      1.0      1.0      1.0\n",
       "[14649]      1.0      1.0      1.0      1.0      1.0      1.0      1.0      1.0\n",
       "[14657]      1.0      1.0      1.0      1.0      1.0      1.0      1.0      1.0\n",
       "[14665]      1.0      1.0      1.0      1.0      1.0      1.0      1.0      1.0\n",
       "[14673]      1.0      1.0      1.0      1.0      1.0      1.0      1.0      1.0\n",
       "[14681]      1.0      1.0      1.0      1.0      1.0      1.0      1.0      1.0\n",
       "[14689]      1.0      1.0      1.0      1.0      1.0      1.0      1.0      1.0\n",
       "[14697]      1.0      1.0      1.0      1.0      1.0      1.0      1.0      1.0\n",
       "[14705]      1.0      1.0      1.0      1.0      1.0      1.0      1.0      1.0\n",
       "[14713]      1.0      1.0      1.0      1.0      1.0      1.0      1.0      1.0\n",
       "[14721]      1.0      1.0      1.0      1.0      1.0      1.0      1.0      1.0\n",
       "[14729]      1.0      1.0      1.0      1.0      1.0      1.0      1.0      1.0\n",
       "[14737]      1.0      1.0      1.0      1.0      1.0      1.0      1.0      1.0\n",
       "[14745]      1.0      1.0      1.0      1.0      1.0      1.0      1.0      1.0\n",
       "[14753]      1.0      1.0      1.0      1.0      1.0      1.0      1.0      1.0\n",
       "[14761]      1.0      1.0      1.0      1.0      1.0      1.0      1.0      1.0\n",
       "[14769]      1.0      1.0      1.0      1.0      1.0      1.0      1.0      1.0\n",
       "[14777]      1.0      1.0      1.0      1.0      1.0      1.0      1.0      1.0\n",
       "[14785]      1.0      1.0      1.0      1.0      1.0      1.0      1.0      1.0\n",
       "[14793]      1.0      1.0      1.0      1.0      1.0      1.0      1.0      1.0\n",
       "[14801]      1.0      1.0      1.0      1.0      1.0      1.0      1.0      1.0\n",
       "[14809]      1.0      1.0      1.0      1.0      1.0      1.0      1.0      1.0\n",
       "[14817]      1.0      1.0      1.0      1.0      1.0      1.0      1.0      1.0\n",
       "[14825]      1.0      1.0      1.0      1.0      1.0      1.0      1.0      1.0\n",
       "[14833]      1.0      1.0      1.0      1.0      1.0      1.0      1.0      1.0\n",
       "[14841]      1.0      1.0      1.0      1.0      1.0      1.0      1.0      1.0\n",
       "[14849]      1.0      1.0      1.0      1.0      1.0      1.0      1.0      1.0\n",
       "[14857]      1.0      1.0      1.0      1.0      1.0      1.0      1.0      1.0\n",
       "[14865]      1.0      1.0      1.0      1.0      1.0      1.0      1.0      1.0\n",
       "[14873]      1.0      1.0      1.0      1.0      1.0      1.0      1.0      1.0\n",
       "[14881]      1.0      1.0      1.0      1.0      1.0      1.0      1.0      1.0\n",
       "[14889]      1.0      1.0      1.0      1.0      1.0      1.0      1.0      1.0\n",
       "[14897]      1.0      1.0      1.0      1.0      1.0      1.0      1.0      1.0\n",
       "[14905]      1.0      1.0      1.0      1.0      1.0      1.0      1.0      1.0\n",
       "[14913]      1.0      1.0      1.0      1.0      1.0      1.0      1.0      1.0\n",
       "[14921]      1.0      1.0      1.0      1.0      1.0      1.0      1.0      1.0\n",
       "[14929]      1.0      1.0      1.0      1.0      1.0      1.0      1.0      1.0\n",
       "[14937]      1.0      1.0      1.0      1.0      1.0      1.0      1.0      1.0\n",
       "[14945]      1.0      1.0      1.0      1.0      1.0      1.0      1.0      1.0\n",
       "[14953]      1.0      1.0      1.0      1.0      1.0      1.0      1.0      1.0\n",
       "[14961]      1.0      1.0      1.0      1.0      1.0      1.0      1.0      1.0\n",
       "[14969]      1.0      1.0      1.0      1.0      1.0      1.0      1.0      1.0\n",
       "[14977]      1.0      1.0      1.0      1.0      1.0      1.0      1.0      1.0\n",
       "[14985]      1.0      1.0      1.0      1.0      1.0      1.0      1.0      1.0\n",
       "[14993]      1.0      1.0      1.0      1.0      1.0      1.0      1.0      1.0\n",
       "[15001]      1.0      1.0      1.0      1.0      1.0      1.0      1.0      1.0\n",
       "[15009]      1.0      1.0      1.0      1.0      1.0      1.0      1.0      1.0\n",
       "[15017]      1.0      1.0      1.0      1.0      1.0      1.0      1.0      1.0\n",
       "[15025]      1.0      1.0      1.0      1.0      1.0      1.0      1.0      1.0\n",
       "[15033]      1.0      1.0      1.0      1.0      1.0      1.0      1.0      1.0\n",
       "[15041]      1.0      1.0      1.0      1.0      1.0      1.0      1.0      1.0\n",
       "[15049]      1.0      1.0      1.0      1.0      1.0      1.0      1.0      1.0\n",
       "[15057]      1.0      1.0      1.0      1.0      1.0      1.0      1.0      1.0\n",
       "[15065]      1.0      1.0      1.0      1.0      1.0      1.0      1.0      1.0\n",
       "[15073]      1.0      1.0      1.0      1.0      1.0      1.0      1.0      1.0\n",
       "[15081]      1.0      1.0      1.0      1.0      1.0      1.0      1.0      1.0\n",
       "[15089]      1.0      1.0      1.0      1.0      1.0      1.0      1.0      1.0\n",
       "[15097]      1.0      1.0      1.0      1.0      1.0      1.0      1.0      1.0\n",
       "[15105]      1.0      1.0      1.0      1.0      1.0      1.0      1.0      1.0\n",
       "[15113]      1.0      1.0      1.0      1.0      1.0      1.0      1.0      1.0\n",
       "[15121]      1.0      1.0      1.0      1.0      1.0      1.0      1.0      1.0\n",
       "[15129]      1.0      1.0      1.0      1.0      1.0      1.0      1.0      1.0\n",
       "[15137]      1.0      1.0      1.0      1.0      1.0      1.0      1.0      1.0\n",
       "[15145]      1.0      1.0      1.0      1.0      1.0      1.0      1.0      1.0\n",
       "[15153]      1.0      1.0      1.0      1.0      1.0      1.0      1.0      1.0\n",
       "[15161]      1.0      1.0      1.0      1.0      1.0      1.0      1.0      1.0\n",
       "[15169]      1.0      1.0      1.0      1.0      1.0      1.0      1.0      1.0\n",
       "[15177]      1.0      1.0      1.0      1.0      1.0      1.0      1.0      1.0\n",
       "[15185]      1.0      1.0      1.0      1.0      1.0      1.0      1.0      1.0\n",
       "[15193]      1.0      1.0      1.0      1.0      1.0      1.0      1.0      1.0\n",
       "[15201]      1.0      1.0      1.0      1.0      1.0      1.0      1.0      1.0\n",
       "[15209]      1.0      1.0      1.0      1.0      1.0      1.0      1.0      1.0\n",
       "[15217]      1.0      1.0      1.0      1.0      1.0      1.0      1.0      1.0\n",
       "[15225]      1.0      1.0      1.0      1.0      1.0      1.0      1.0      1.0\n",
       "[15233]      1.0      1.0      1.0      1.0      1.0      1.0      1.0      1.0\n",
       "[15241]      1.0      1.0      1.0      1.0      1.0      1.0      1.0      1.0\n",
       "[15249]      1.0      1.0      1.0      1.0      1.0      1.0      1.0      1.0\n",
       "[15257]      1.0      1.0      1.0      1.0      1.0      1.0      1.0      1.0\n",
       "[15265]      1.0      1.0      1.0      1.0      1.0      1.0      1.0      1.0\n",
       "[15273]      1.0      1.0      1.0      1.0      1.0      1.0      1.0      1.0\n",
       "[15281]      1.0      1.0      1.0      1.0      1.0      1.0      1.0      1.0\n",
       "[15289]      1.0      1.0      1.0      1.0      1.0      1.0      1.0      1.0\n",
       "[15297]      1.0      1.0      1.0      1.0      1.0      1.0      1.0      1.0\n",
       "[15305]      1.0      1.0      1.0      1.0      1.0      1.0      1.0      1.0\n",
       "[15313]      1.0      1.0      1.0      1.0      1.0      1.0      1.0      1.0\n",
       "[15321]      1.0      1.0      1.0      1.0      1.0      1.0      1.0      1.0\n",
       "[15329]      1.0      1.0      1.0      1.0      1.0      1.0      1.0      1.0\n",
       "[15337]      1.0      1.0      1.0      1.0      1.0      1.0      1.0      1.0\n",
       "[15345]      1.0      1.0      1.0      1.0      1.0      1.0      1.0      1.0\n",
       "[15353]      1.0      1.0      1.0      1.0      1.0      1.0      1.0      1.0\n",
       "[15361]      1.0      1.0      1.0      1.0      1.0      1.0      1.0      1.0\n",
       "[15369]      1.0      1.0      1.0      1.0      1.0      1.0      1.0      1.0\n",
       "[15377]      1.0      1.0      1.0      1.0      1.0      1.0      1.0      1.0\n",
       "[15385]      1.0      1.0      1.0      1.0      1.0      1.0      1.0      1.0\n",
       "[15393]      1.0      1.0      1.0      1.0      1.0      1.0      1.0      1.0\n",
       "[15401]      1.0      1.0      1.0      1.0      1.0      1.0      1.0      1.0\n",
       "[15409]      1.0      1.0      1.0      1.0      1.0      1.0      1.0      1.0\n",
       "[15417]      1.0      1.0      1.0      1.0      1.0      1.0      1.0      1.0\n",
       "[15425]      1.0      1.0      1.0      1.0      1.0      1.0      1.0      1.0\n",
       "[15433]      1.0      1.0      1.0      1.0      1.0      1.0      1.0      1.0\n",
       "[15441]      1.0      1.0      1.0      1.0      1.0      1.0      1.0      1.0\n",
       "[15449]      1.0      1.0      1.0      1.0      1.0      1.0      1.0      1.0\n",
       "[15457]      1.0      1.0      1.0      1.0      1.0      1.0      1.0      1.0\n",
       "[15465]      1.0      1.0      1.0      1.0      1.0      1.0      1.0      1.0\n",
       "[15473]      1.0      1.0      1.0      1.0      1.0      1.0      1.0      1.0\n",
       "[15481]      1.0      1.0      1.0      1.0      1.0      1.0      1.0      1.0\n",
       "[15489]      1.0      1.0      1.0      1.0      1.0      1.0      1.0      1.0\n",
       "[15497]      1.0      1.0      1.0      1.0      1.0      1.0      1.0      1.0\n",
       "[15505]      1.0      1.0      1.0      1.0      1.0      1.0      1.0      1.0\n",
       "[15513]      1.0      1.0      1.0      1.0      1.0      1.0      1.0      1.0\n",
       "[15521]      1.0      1.0      1.0      1.0      1.0      1.0      1.0      1.0\n",
       "[15529]      1.0      1.0      1.0      1.0      1.0      1.0      1.0      1.0\n",
       "[15537]      1.0      1.0      1.0      1.0      1.0      1.0      1.0      1.0\n",
       "[15545]      1.0      1.0      1.0      1.0      1.0      1.0      1.0      1.0\n",
       "[15553]      1.0      1.0      1.0      1.0      1.0      1.0      1.0      1.0\n",
       "[15561]      1.0      1.0      1.0      1.0      1.0      1.0      1.0      1.0\n",
       "[15569]      1.0      1.0      1.0      1.0      1.0      1.0      1.0      1.0\n",
       "[15577]      1.0      1.0      1.0      1.0      1.0      1.0      1.0      1.0\n",
       "[15585]      1.0      1.0      1.0      1.0      1.0      1.0      1.0      1.0\n",
       "[15593]      1.0      1.0      1.0      1.0      1.0      1.0      1.0      1.0\n",
       "[15601]      1.0      1.0      1.0      1.0      1.0      1.0      1.0      1.0\n",
       "[15609]      1.0      1.0      1.0      1.0      1.0      1.0      1.0      1.0\n",
       "[15617]      1.0      1.0      1.0      1.0      1.0      1.0      1.0      1.0\n",
       "[15625]      1.0      1.0      1.0      1.0      1.0      1.0      1.0      1.0\n",
       "[15633]      1.0      1.0      1.0      1.0      1.0      1.0      1.0      1.0\n",
       "[15641]      1.0      1.0      1.0      1.0      1.0      1.0      1.0      1.0\n",
       "[15649]      1.0      1.0      1.0      1.0      1.0      1.0      1.0      1.0\n",
       "[15657]      1.0      1.0      1.0      1.0      1.0      1.0      1.0      1.0\n",
       "[15665]      1.0      1.0      1.0      1.0      1.0      1.0      1.0      1.0\n",
       "[15673]      1.0      1.0      1.0      1.0      1.0      1.0      1.0      1.0\n",
       "[15681]      1.0      1.0      1.0      1.0      1.0      1.0      1.0      1.0\n",
       "[15689]      1.0      1.0      1.0      1.0      1.0      1.0      1.0      1.0\n",
       "[15697]      1.0      1.0      1.0      1.0      1.0      1.0      1.0      1.0\n",
       "[15705]      1.0      1.0      1.0      1.0      1.0      1.0      1.0      1.0\n",
       "[15713]      1.0      1.0      1.0      1.0      1.0      1.0      1.0      1.0\n",
       "[15721]      1.0      1.0      1.0      1.0      1.0      1.0      1.0      1.0\n",
       "[15729]      1.0      1.0      1.0      1.0      1.0      1.0      1.0      1.0\n",
       "[15737]      1.0      1.0      1.0      1.0      1.0      1.0      1.0      1.0\n",
       "[15745]      1.0      1.0      1.0      1.0      1.0      1.0      1.0      1.0\n",
       "[15753]      1.0      1.0      1.0      1.0      1.0      1.0      1.0      1.0\n",
       "[15761]      1.0      1.0      1.0      1.0      1.0      1.0      1.0      1.0\n",
       "[15769]      1.0      1.0      1.0      1.0      1.0      1.0      1.0      1.0\n",
       "[15777]      1.0      1.0      1.0      1.0      1.0      1.0      1.0      1.0\n",
       "[15785]      1.0      1.0      1.0      1.0      1.0      1.0      1.0      1.0\n",
       "[15793]      1.0      1.0      1.0      1.0      1.0      1.0      1.0      1.0\n",
       "[15801]      1.0      1.0      1.0      1.0      1.0      1.0      1.0      1.0\n",
       "[15809]      1.0      1.0      1.0      1.0      1.0      1.0      1.0      1.0\n",
       "[15817]      1.0      1.0      1.0      1.0      1.0      1.0      1.0      1.0\n",
       "[15825]      1.0      1.0      1.0      1.0      1.0      1.0      1.0      1.0\n",
       "[15833]      1.0      1.0      1.0      1.0      1.0      1.0      1.0      1.0\n",
       "[15841]      1.0      1.0      1.0      1.0      1.0      1.0      1.0      1.0\n",
       "[15849]      1.0      1.0      1.0      1.0      1.0      1.0      1.0      1.0\n",
       "[15857]      1.0      1.0      1.0      1.0      1.0      1.0      1.0      1.0\n",
       "[15865]      1.0      1.0      1.0      1.0      1.0      1.0      1.0      1.0\n",
       "[15873]      1.0      1.0      1.0      1.0      1.0      1.0      1.0      1.0\n",
       "[15881]      1.0      1.0      1.0      1.0      1.0      1.0      1.0      1.0\n",
       "[15889]      1.0      1.0      1.0      1.0      1.0      1.0      1.0      1.0\n",
       "[15897]      1.0      1.0      1.0      1.0      1.0      1.0      1.0      1.0\n",
       "[15905]      1.0      1.0      1.0      1.0      1.0      1.0      1.0      1.0\n",
       "[15913]      1.0      1.0      1.0      1.0      1.0      1.0      1.0      1.0\n",
       "[15921]      1.0      1.0      1.0      1.0      1.0      1.0      1.0      1.0\n",
       "[15929]      1.0      1.0      1.0      1.0      1.0      1.0      1.0      1.0\n",
       "[15937]      1.0      1.0      1.0      1.0      1.0      1.0      1.0      1.0\n",
       "[15945]      1.0      1.0      1.0      1.0      1.0      1.0      1.0      1.0\n",
       "[15953]      1.0      1.0      1.0      1.0      1.0      1.0      1.0      1.0\n",
       "[15961]      1.0      1.0      1.0      1.0      1.0      1.0      1.0      1.0\n",
       "[15969]      1.0      1.0      1.0      1.0      1.0      1.0      1.0      1.0\n",
       "[15977]      1.0      1.0      1.0      1.0      1.0      1.0      1.0      1.0\n",
       "[15985]      1.0      1.0      1.0      1.0      1.0      1.0      1.0      1.0\n",
       "[15993]      1.0      1.0      1.0      1.0      1.0      1.0      1.0      1.0\n",
       "[16001]      1.0      1.0      1.0      1.0      1.0      1.0      1.0      1.0\n",
       "[16009]      1.0      1.0      1.0      1.0      1.0      1.0      1.0      1.0\n",
       "[16017]      1.0      1.0      1.0      1.0      1.0      1.0      1.0      1.0\n",
       "[16025]      1.0      1.0      1.0      1.0      1.0      1.0      1.0      1.0\n",
       "[16033]      1.0      1.0      1.0      1.0      1.0      1.0      1.0      1.0\n",
       "[16041]      1.0      1.0      1.0      1.0      1.0      1.0      1.0      1.0\n",
       "[16049]      1.0      1.0      1.0      1.0      1.0      1.0      1.0      1.0\n",
       "[16057]      1.0      1.0      1.0      1.0      1.0      1.0      1.0      1.0\n",
       "[16065]      1.0      1.0      1.0      1.0      1.0      1.0      1.0      1.0\n",
       "[16073]      1.0      1.0      1.0      1.0      1.0      1.0      1.0      1.0\n",
       "[16081]      1.0      1.0      1.0      1.0      1.0      1.0      1.0      1.0\n",
       "[16089]      1.0      1.0      1.0      1.0      1.0      1.0      1.0      1.0\n",
       "[16097]      1.0      1.0      1.0      1.0      1.0      1.0      1.0      1.0\n",
       "[16105]      1.0      1.0      1.0      1.0      1.0      1.0      1.0      1.0\n",
       "[16113]      1.0      1.0      1.0      1.0      1.0      1.0      1.0      1.0\n",
       "[16121]      1.0      1.0      1.0      1.0      1.0      1.0      1.0      1.0\n",
       "[16129]      1.0      1.0      1.0      1.0      1.0      1.0      1.0      1.0\n",
       "[16137]      1.0      1.0      1.0      1.0      1.0      1.0      1.0      1.0\n",
       "[16145]      1.0      1.0      1.0      1.0      1.0      1.0      1.0      1.0\n",
       "[16153]      1.0      1.0      1.0      1.0      1.0      1.0      1.0      1.0\n",
       "[16161]      1.0      1.0      1.0      1.0      1.0      1.0      1.0      1.0\n",
       "[16169]      1.0      1.0      1.0      1.0      1.0      1.0      1.0      1.0\n",
       "[16177]      1.0      1.0      1.0      1.0      1.0      1.0      1.0      1.0\n",
       "[16185]      1.0      1.0      1.0      1.0      1.0      1.0      1.0      1.0\n",
       "[16193]      1.0      1.0      1.0      1.0      1.0      1.0      1.0      1.0\n",
       "[16201]      1.0      1.0      1.0      1.0      1.0      1.0      1.0      1.0\n",
       "[16209]      1.0      1.0      1.0      1.0      1.0      1.0      1.0      1.0\n",
       "[16217]      1.0      1.0      1.0      1.0      1.0      1.0      1.0      1.0\n",
       "[16225]      1.0      1.0      1.0      1.0      1.0      1.0      1.0      1.0\n",
       "[16233]      1.0      1.0      1.0      1.0      1.0      1.0      1.0      1.0\n",
       "[16241]      1.0      1.0      1.0      1.0      1.0      1.0      1.0      1.0\n",
       "[16249]      1.0      1.0      1.0      1.0      1.0      1.0      1.0      1.0\n",
       "[16257]      1.0      1.0      1.0      1.0      1.0      1.0      1.0      1.0\n",
       "[16265]      1.0      1.0      1.0      1.0      1.0      1.0      1.0      1.0\n",
       "[16273]      1.0      1.0      1.0      1.0      1.0      1.0      1.0      1.0\n",
       "[16281]      1.0      1.0      1.0      1.0      1.0      1.0      1.0      1.0\n",
       "[16289]      1.0      1.0      1.0      1.0      1.0      1.0      1.0      1.0\n",
       "[16297]      1.0      1.0      1.0      1.0      1.0      1.0      1.0      1.0\n",
       "[16305]      1.0      1.0      1.0      1.0      1.0      1.0      1.0      1.0\n",
       "[16313]      1.0      1.0      1.0      1.0      1.0      1.0      1.0      1.0\n",
       "[16321]      1.0      1.0      1.0      1.0      1.0      1.0      1.0      1.0\n",
       "[16329]      1.0      1.0      1.0      1.0      1.0      1.0      1.0      1.0\n",
       "[16337]      1.0      1.0      1.0      1.0      1.0      1.0      1.0      1.0\n",
       "[16345]      1.0      1.0      1.0      1.0      1.0      1.0      1.0      1.0\n",
       "[16353]      1.0      1.0      1.0      1.0      1.0      1.0      1.0      1.0\n",
       "[16361]      1.0      1.0      1.0      1.0      1.0      1.0      1.0      1.0\n",
       "[16369]      1.0      1.0      1.0      1.0      1.0      1.0      1.0      1.0\n",
       "[16377]      1.0      1.0      1.0      1.0      1.0      1.0      1.0      1.0\n",
       "[16385]      1.0      1.0      1.0      1.0      1.0      1.0      1.0      1.0\n",
       "[16393]      1.0      1.0      1.0      1.0      1.0      1.0      1.0      1.0\n",
       "[16401]      1.0      1.0      1.0      1.0      1.0      1.0      1.0      1.0\n",
       "[16409]      1.0      1.0      1.0      1.0      1.0      1.0      1.0      1.0\n",
       "[16417]      1.0      1.0      1.0      1.0      1.0      1.0      1.0      1.0\n",
       "[16425]      1.0      1.0      1.0      1.0      1.0      1.0      1.0      1.0\n",
       "[16433]      1.0      1.0      1.0      1.0      1.0      1.0      1.0      1.0\n",
       "[16441]      1.0      1.0      1.0      1.0      1.0      1.0      1.0      1.0\n",
       "[16449]      1.0      1.0      1.0      1.0      1.0      1.0      1.0      1.0\n",
       "[16457]      1.0      1.0      1.0      1.0      1.0      1.0      1.0      1.0\n",
       "[16465]      1.0      1.0      1.0      1.0      1.0      1.0      1.0      1.0\n",
       "[16473]      1.0      1.0      1.0      1.0      1.0      1.0      1.0      1.0\n",
       "[16481]      1.0      1.0      1.0      1.0      1.0      1.0      1.0      1.0\n",
       "[16489]      1.0      1.0      1.0      1.0      1.0      1.0      1.0      1.0\n",
       "[16497]      1.0      1.0      1.0      1.0      1.0      1.0      1.0      1.0\n",
       "[16505]      1.0      1.0      1.0      1.0      1.0      1.0      1.0      1.0\n",
       "[16513]      1.0      1.0      1.0      1.0      1.0      1.0      1.0      1.0\n",
       "[16521]      1.0      1.0      1.0      1.0      1.0      1.0      1.0      1.0\n",
       "[16529]      1.0      1.0      1.0      1.0      1.0      1.0      1.0      1.0\n",
       "[16537]      1.0      1.0      1.0      1.0      1.0      1.0      1.0      1.0\n",
       "[16545]      1.0      1.0      1.0      1.0      1.0      1.0      1.0      1.0\n",
       "[16553]      1.0      1.0      1.0      1.0      1.0      1.0      1.0      1.0\n",
       "[16561]      1.0      1.0      1.0      1.0      1.0      1.0      1.0      1.0\n",
       "[16569]      1.0      1.0      1.0      1.0      1.0      1.0      1.0      1.0\n",
       "[16577]      1.0      1.0      1.0      1.0      1.0      1.0      1.0      1.0\n",
       "[16585]      1.0      1.0      1.0      1.0      1.0      1.0      1.0      1.0\n",
       "[16593]      1.0      1.0      1.0      1.0      1.0      1.0      1.0      1.0\n",
       "[16601]      1.0      1.0      1.0      1.0      1.0      1.0      1.0      1.0\n",
       "[16609]      1.0      1.0      1.0      1.0      1.0      1.0      1.0      1.0\n",
       "[16617]      1.0      1.0      1.0      1.0 105884.8\n"
      ]
     },
     "metadata": {},
     "output_type": "display_data"
    }
   ],
   "source": [
    "batch[1]"
   ]
  },
  {
   "cell_type": "code",
   "execution_count": 63,
   "metadata": {},
   "outputs": [
    {
     "data": {
      "text/html": [
       "21"
      ],
      "text/latex": [
       "21"
      ],
      "text/markdown": [
       "21"
      ],
      "text/plain": [
       "[1] 21"
      ]
     },
     "metadata": {},
     "output_type": "display_data"
    }
   ],
   "source": [
    "length(batch)"
   ]
  },
  {
   "cell_type": "code",
   "execution_count": 72,
   "metadata": {},
   "outputs": [
    {
     "data": {
      "text/html": [
       "<ol>\n",
       "\t<li>NULL</li>\n",
       "\t<li>NULL</li>\n",
       "\t<li>NULL</li>\n",
       "\t<li>NULL</li>\n",
       "\t<li>NULL</li>\n",
       "\t<li>NULL</li>\n",
       "\t<li>NULL</li>\n",
       "\t<li>NULL</li>\n",
       "\t<li>NULL</li>\n",
       "\t<li>NULL</li>\n",
       "\t<li>NULL</li>\n",
       "\t<li>NULL</li>\n",
       "\t<li>NULL</li>\n",
       "\t<li>NULL</li>\n",
       "\t<li>NULL</li>\n",
       "\t<li>NULL</li>\n",
       "\t<li>NULL</li>\n",
       "\t<li>NULL</li>\n",
       "\t<li>NULL</li>\n",
       "\t<li>NULL</li>\n",
       "\t<li>NULL</li>\n",
       "</ol>\n"
      ],
      "text/latex": [
       "\\begin{enumerate}\n",
       "\\item NULL\n",
       "\\item NULL\n",
       "\\item NULL\n",
       "\\item NULL\n",
       "\\item NULL\n",
       "\\item NULL\n",
       "\\item NULL\n",
       "\\item NULL\n",
       "\\item NULL\n",
       "\\item NULL\n",
       "\\item NULL\n",
       "\\item NULL\n",
       "\\item NULL\n",
       "\\item NULL\n",
       "\\item NULL\n",
       "\\item NULL\n",
       "\\item NULL\n",
       "\\item NULL\n",
       "\\item NULL\n",
       "\\item NULL\n",
       "\\item NULL\n",
       "\\end{enumerate}\n"
      ],
      "text/markdown": [
       "1. NULL\n",
       "2. NULL\n",
       "3. NULL\n",
       "4. NULL\n",
       "5. NULL\n",
       "6. NULL\n",
       "7. NULL\n",
       "8. NULL\n",
       "9. NULL\n",
       "10. NULL\n",
       "11. NULL\n",
       "12. NULL\n",
       "13. NULL\n",
       "14. NULL\n",
       "15. NULL\n",
       "16. NULL\n",
       "17. NULL\n",
       "18. NULL\n",
       "19. NULL\n",
       "20. NULL\n",
       "21. NULL\n",
       "\n",
       "\n"
      ],
      "text/plain": [
       "[[1]]\n",
       "NULL\n",
       "\n",
       "[[2]]\n",
       "NULL\n",
       "\n",
       "[[3]]\n",
       "NULL\n",
       "\n",
       "[[4]]\n",
       "NULL\n",
       "\n",
       "[[5]]\n",
       "NULL\n",
       "\n",
       "[[6]]\n",
       "NULL\n",
       "\n",
       "[[7]]\n",
       "NULL\n",
       "\n",
       "[[8]]\n",
       "NULL\n",
       "\n",
       "[[9]]\n",
       "NULL\n",
       "\n",
       "[[10]]\n",
       "NULL\n",
       "\n",
       "[[11]]\n",
       "NULL\n",
       "\n",
       "[[12]]\n",
       "NULL\n",
       "\n",
       "[[13]]\n",
       "NULL\n",
       "\n",
       "[[14]]\n",
       "NULL\n",
       "\n",
       "[[15]]\n",
       "NULL\n",
       "\n",
       "[[16]]\n",
       "NULL\n",
       "\n",
       "[[17]]\n",
       "NULL\n",
       "\n",
       "[[18]]\n",
       "NULL\n",
       "\n",
       "[[19]]\n",
       "NULL\n",
       "\n",
       "[[20]]\n",
       "NULL\n",
       "\n",
       "[[21]]\n",
       "NULL\n"
      ]
     },
     "metadata": {},
     "output_type": "display_data"
    }
   ],
   "source": [
    "parallel::mclapply(1:21, function(x){ Divstats.fx(batch[x], \"TRB\", names(batch[x]),\n",
    "                                         paste0(datapath, \"/Immunoseq/\") )}, mc.cores = 4)"
   ]
  },
  {
   "cell_type": "code",
   "execution_count": 5,
   "metadata": {},
   "outputs": [],
   "source": [
    "myfiles <- list.files(paste0(datapath, \"Immunoseq/\"), pattern = \"addjurkat_\", recursive = T)\n",
    "myfiles <- myfiles[!grepl(\"divstats\", myfiles)]\n",
    "myfiles <- c(myfiles, \"A037_PBMC.tsv\")"
   ]
  },
  {
   "cell_type": "code",
   "execution_count": 6,
   "metadata": {},
   "outputs": [
    {
     "data": {
      "text/html": [
       "<style>\n",
       ".list-inline {list-style: none; margin:0; padding: 0}\n",
       ".list-inline>li {display: inline-block}\n",
       ".list-inline>li:not(:last-child)::after {content: \"\\00b7\"; padding: 0 .5ex}\n",
       "</style>\n",
       "<ol class=list-inline><li>'CLONES_TRBaddjurkat_105884.8_0.8.txt'</li><li>'CLONES_TRBaddjurkat_112502.6_0.85.txt'</li><li>'CLONES_TRBaddjurkat_119120.4_0.9.txt'</li><li>'CLONES_TRBaddjurkat_125738.2_0.95.txt'</li><li>'CLONES_TRBaddjurkat_13235.6_0.1.txt'</li><li>'CLONES_TRBaddjurkat_132356_1.txt'</li><li>'CLONES_TRBaddjurkat_19853.4_0.15.txt'</li><li>'CLONES_TRBaddjurkat_26471.2_0.2.txt'</li><li>'CLONES_TRBaddjurkat_33089_0.25.txt'</li><li>'CLONES_TRBaddjurkat_39706.8_0.3.txt'</li><li>'CLONES_TRBaddjurkat_46324.6_0.35.txt'</li><li>'CLONES_TRBaddjurkat_52942.4_0.4.txt'</li><li>'CLONES_TRBaddjurkat_59560.2_0.45.txt'</li><li>'CLONES_TRBaddjurkat_6617.8_0.05.txt'</li><li>'CLONES_TRBaddjurkat_66178_0.5.txt'</li><li>'CLONES_TRBaddjurkat_72795.8_0.55.txt'</li><li>'CLONES_TRBaddjurkat_79413.6_0.6.txt'</li><li>'CLONES_TRBaddjurkat_86031.4_0.65.txt'</li><li>'CLONES_TRBaddjurkat_92649.2_0.7.txt'</li><li>'CLONES_TRBaddjurkat_99267_0.75.txt'</li><li>'A037_PBMC.tsv'</li></ol>\n"
      ],
      "text/latex": [
       "\\begin{enumerate*}\n",
       "\\item 'CLONES\\_TRBaddjurkat\\_105884.8\\_0.8.txt'\n",
       "\\item 'CLONES\\_TRBaddjurkat\\_112502.6\\_0.85.txt'\n",
       "\\item 'CLONES\\_TRBaddjurkat\\_119120.4\\_0.9.txt'\n",
       "\\item 'CLONES\\_TRBaddjurkat\\_125738.2\\_0.95.txt'\n",
       "\\item 'CLONES\\_TRBaddjurkat\\_13235.6\\_0.1.txt'\n",
       "\\item 'CLONES\\_TRBaddjurkat\\_132356\\_1.txt'\n",
       "\\item 'CLONES\\_TRBaddjurkat\\_19853.4\\_0.15.txt'\n",
       "\\item 'CLONES\\_TRBaddjurkat\\_26471.2\\_0.2.txt'\n",
       "\\item 'CLONES\\_TRBaddjurkat\\_33089\\_0.25.txt'\n",
       "\\item 'CLONES\\_TRBaddjurkat\\_39706.8\\_0.3.txt'\n",
       "\\item 'CLONES\\_TRBaddjurkat\\_46324.6\\_0.35.txt'\n",
       "\\item 'CLONES\\_TRBaddjurkat\\_52942.4\\_0.4.txt'\n",
       "\\item 'CLONES\\_TRBaddjurkat\\_59560.2\\_0.45.txt'\n",
       "\\item 'CLONES\\_TRBaddjurkat\\_6617.8\\_0.05.txt'\n",
       "\\item 'CLONES\\_TRBaddjurkat\\_66178\\_0.5.txt'\n",
       "\\item 'CLONES\\_TRBaddjurkat\\_72795.8\\_0.55.txt'\n",
       "\\item 'CLONES\\_TRBaddjurkat\\_79413.6\\_0.6.txt'\n",
       "\\item 'CLONES\\_TRBaddjurkat\\_86031.4\\_0.65.txt'\n",
       "\\item 'CLONES\\_TRBaddjurkat\\_92649.2\\_0.7.txt'\n",
       "\\item 'CLONES\\_TRBaddjurkat\\_99267\\_0.75.txt'\n",
       "\\item 'A037\\_PBMC.tsv'\n",
       "\\end{enumerate*}\n"
      ],
      "text/markdown": [
       "1. 'CLONES_TRBaddjurkat_105884.8_0.8.txt'\n",
       "2. 'CLONES_TRBaddjurkat_112502.6_0.85.txt'\n",
       "3. 'CLONES_TRBaddjurkat_119120.4_0.9.txt'\n",
       "4. 'CLONES_TRBaddjurkat_125738.2_0.95.txt'\n",
       "5. 'CLONES_TRBaddjurkat_13235.6_0.1.txt'\n",
       "6. 'CLONES_TRBaddjurkat_132356_1.txt'\n",
       "7. 'CLONES_TRBaddjurkat_19853.4_0.15.txt'\n",
       "8. 'CLONES_TRBaddjurkat_26471.2_0.2.txt'\n",
       "9. 'CLONES_TRBaddjurkat_33089_0.25.txt'\n",
       "10. 'CLONES_TRBaddjurkat_39706.8_0.3.txt'\n",
       "11. 'CLONES_TRBaddjurkat_46324.6_0.35.txt'\n",
       "12. 'CLONES_TRBaddjurkat_52942.4_0.4.txt'\n",
       "13. 'CLONES_TRBaddjurkat_59560.2_0.45.txt'\n",
       "14. 'CLONES_TRBaddjurkat_6617.8_0.05.txt'\n",
       "15. 'CLONES_TRBaddjurkat_66178_0.5.txt'\n",
       "16. 'CLONES_TRBaddjurkat_72795.8_0.55.txt'\n",
       "17. 'CLONES_TRBaddjurkat_79413.6_0.6.txt'\n",
       "18. 'CLONES_TRBaddjurkat_86031.4_0.65.txt'\n",
       "19. 'CLONES_TRBaddjurkat_92649.2_0.7.txt'\n",
       "20. 'CLONES_TRBaddjurkat_99267_0.75.txt'\n",
       "21. 'A037_PBMC.tsv'\n",
       "\n",
       "\n"
      ],
      "text/plain": [
       " [1] \"CLONES_TRBaddjurkat_105884.8_0.8.txt\" \n",
       " [2] \"CLONES_TRBaddjurkat_112502.6_0.85.txt\"\n",
       " [3] \"CLONES_TRBaddjurkat_119120.4_0.9.txt\" \n",
       " [4] \"CLONES_TRBaddjurkat_125738.2_0.95.txt\"\n",
       " [5] \"CLONES_TRBaddjurkat_13235.6_0.1.txt\"  \n",
       " [6] \"CLONES_TRBaddjurkat_132356_1.txt\"     \n",
       " [7] \"CLONES_TRBaddjurkat_19853.4_0.15.txt\" \n",
       " [8] \"CLONES_TRBaddjurkat_26471.2_0.2.txt\"  \n",
       " [9] \"CLONES_TRBaddjurkat_33089_0.25.txt\"   \n",
       "[10] \"CLONES_TRBaddjurkat_39706.8_0.3.txt\"  \n",
       "[11] \"CLONES_TRBaddjurkat_46324.6_0.35.txt\" \n",
       "[12] \"CLONES_TRBaddjurkat_52942.4_0.4.txt\"  \n",
       "[13] \"CLONES_TRBaddjurkat_59560.2_0.45.txt\" \n",
       "[14] \"CLONES_TRBaddjurkat_6617.8_0.05.txt\"  \n",
       "[15] \"CLONES_TRBaddjurkat_66178_0.5.txt\"    \n",
       "[16] \"CLONES_TRBaddjurkat_72795.8_0.55.txt\" \n",
       "[17] \"CLONES_TRBaddjurkat_79413.6_0.6.txt\"  \n",
       "[18] \"CLONES_TRBaddjurkat_86031.4_0.65.txt\" \n",
       "[19] \"CLONES_TRBaddjurkat_92649.2_0.7.txt\"  \n",
       "[20] \"CLONES_TRBaddjurkat_99267_0.75.txt\"   \n",
       "[21] \"A037_PBMC.tsv\"                        "
      ]
     },
     "metadata": {},
     "output_type": "display_data"
    }
   ],
   "source": [
    "myfiles"
   ]
  },
  {
   "cell_type": "code",
   "execution_count": 7,
   "metadata": {},
   "outputs": [],
   "source": [
    "cdr3_dataframe_adaptive.fx <- function(datapath, chain, filelist, totalinframe) {\n",
    "\n",
    "    filelist <- filelist[grepl(chain, filelist)]\n",
    "    i <- 1\n",
    "    for (f in filelist) {\n",
    "        mixcrfle <- read.table(paste(datapath, f, sep = \"\"), \n",
    "            header = TRUE, sep = \"\\t\", stringsAsFactors = FALSE, \n",
    "            na.strings = c(\"\", \"NA\"))\n",
    "        if (i == 1) {\n",
    "            compldfle <- mixcrfle\n",
    "            compldfle <- cbind(cloneno = row.names(compldfle), \n",
    "                filename = f, compldfle)\n",
    "            i <- i + 1\n",
    "        }\n",
    "        else {\n",
    "            compldfle1 <- mixcrfle\n",
    "            compldfle1 <- cbind(cloneno = row.names(compldfle1), \n",
    "                filename = f, compldfle1)\n",
    "            compldfle <- rbind(compldfle, compldfle1)\n",
    "            rm(compldfle1)\n",
    "        }\n",
    "    }\n",
    "    myfiles <- unique(as.character(compldfle$filename))\n",
    "    message(\"my files:\")\n",
    "    print(myfiles)\n",
    "    message(\"Total recovered clonotypes:\")\n",
    "    print(length(compldfle$aminoAcid))\n",
    "    message(\"Total out-of-frame clonotypes:\")\n",
    "    print(length(compldfle$aminoAcid[compldfle$aminoAcid == \"\"]))\n",
    "    compldfle$filename <- as.character(compldfle$filename)\n",
    "    compldfle$samplename <- gsub(\".*.CLONES_\", \"\", compldfle$filename)\n",
    "    compldfle$samplename <- gsub(chain, \"\", compldfle$samplename)\n",
    "    compldfle_clean <- compldfle[compldfle$aminoAcid != \"\", ]\n",
    "    compldfle_clean$cloneFraction <- NA\n",
    "    for (f in myfiles) {\n",
    "        compldfle_clean$cloneFraction[compldfle_clean$filename == \n",
    "            f] <- compldfle_clean$cloneCount[compldfle_clean$filename == \n",
    "            f]/sum(compldfle_clean$cloneCount[compldfle_clean$filename == \n",
    "            f])\n",
    "    }\n",
    "    message(\"Total productive clonotypes:\")\n",
    "    print(length(compldfle_clean$aminoAcid))\n",
    "    if (totalinframe == \"inframe\") {\n",
    "        message(\"Output contains in_frame clonotypes only\")\n",
    "        return(compldfle_clean)\n",
    "    }\n",
    "    if (totalinframe == \"total\") {\n",
    "        message(\"Output contains all clonotypes\")\n",
    "        return(compldfle)\n",
    "    }\n",
    "}"
   ]
  },
  {
   "cell_type": "code",
   "execution_count": 8,
   "metadata": {
    "scrolled": true
   },
   "outputs": [
    {
     "name": "stderr",
     "output_type": "stream",
     "text": [
      "my files:\n",
      "\n"
     ]
    },
    {
     "name": "stdout",
     "output_type": "stream",
     "text": [
      " [1] \"CLONES_TRBaddjurkat_105884.8_0.8.txt\" \n",
      " [2] \"CLONES_TRBaddjurkat_112502.6_0.85.txt\"\n",
      " [3] \"CLONES_TRBaddjurkat_119120.4_0.9.txt\" \n",
      " [4] \"CLONES_TRBaddjurkat_125738.2_0.95.txt\"\n",
      " [5] \"CLONES_TRBaddjurkat_13235.6_0.1.txt\"  \n",
      " [6] \"CLONES_TRBaddjurkat_132356_1.txt\"     \n",
      " [7] \"CLONES_TRBaddjurkat_19853.4_0.15.txt\" \n",
      " [8] \"CLONES_TRBaddjurkat_26471.2_0.2.txt\"  \n",
      " [9] \"CLONES_TRBaddjurkat_33089_0.25.txt\"   \n",
      "[10] \"CLONES_TRBaddjurkat_39706.8_0.3.txt\"  \n",
      "[11] \"CLONES_TRBaddjurkat_46324.6_0.35.txt\" \n",
      "[12] \"CLONES_TRBaddjurkat_52942.4_0.4.txt\"  \n",
      "[13] \"CLONES_TRBaddjurkat_59560.2_0.45.txt\" \n",
      "[14] \"CLONES_TRBaddjurkat_6617.8_0.05.txt\"  \n",
      "[15] \"CLONES_TRBaddjurkat_66178_0.5.txt\"    \n",
      "[16] \"CLONES_TRBaddjurkat_72795.8_0.55.txt\" \n",
      "[17] \"CLONES_TRBaddjurkat_79413.6_0.6.txt\"  \n",
      "[18] \"CLONES_TRBaddjurkat_86031.4_0.65.txt\" \n",
      "[19] \"CLONES_TRBaddjurkat_92649.2_0.7.txt\"  \n",
      "[20] \"CLONES_TRBaddjurkat_99267_0.75.txt\"   \n"
     ]
    },
    {
     "name": "stderr",
     "output_type": "stream",
     "text": [
      "Total recovered clonotypes:\n",
      "\n"
     ]
    },
    {
     "name": "stdout",
     "output_type": "stream",
     "text": [
      "[1] 774523\n"
     ]
    },
    {
     "name": "stderr",
     "output_type": "stream",
     "text": [
      "Total out-of-frame clonotypes:\n",
      "\n"
     ]
    },
    {
     "name": "stdout",
     "output_type": "stream",
     "text": [
      "[1] 0\n"
     ]
    },
    {
     "name": "stderr",
     "output_type": "stream",
     "text": [
      "Total productive clonotypes:\n",
      "\n"
     ]
    },
    {
     "name": "stdout",
     "output_type": "stream",
     "text": [
      "[1] 774523\n"
     ]
    },
    {
     "name": "stderr",
     "output_type": "stream",
     "text": [
      "Output contains in_frame clonotypes only\n",
      "\n"
     ]
    }
   ],
   "source": [
    "cdr3df <- cdr3_dataframe_adaptive.fx(paste0(datapath, \"Immunoseq/\"), \"TRB\", myfiles, \"inframe\")"
   ]
  },
  {
   "cell_type": "code",
   "execution_count": 9,
   "metadata": {},
   "outputs": [],
   "source": [
    "cdr3df$samplename <- gsub(\"CLONES\", \"A037\", cdr3df$samplename)\n",
    "cdr3df$samplename <- gsub(\".txt\", \"\", cdr3df$samplename)"
   ]
  },
  {
   "cell_type": "code",
   "execution_count": 10,
   "metadata": {},
   "outputs": [],
   "source": [
    "cdr3df$myclonereads <- gsub(\".*addjurkat_\", \"\", cdr3df$samplename)"
   ]
  },
  {
   "cell_type": "code",
   "execution_count": 11,
   "metadata": {},
   "outputs": [
    {
     "data": {
      "text/html": [
       "<style>\n",
       ".list-inline {list-style: none; margin:0; padding: 0}\n",
       ".list-inline>li {display: inline-block}\n",
       ".list-inline>li:not(:last-child)::after {content: \"\\00b7\"; padding: 0 .5ex}\n",
       "</style>\n",
       "<ol class=list-inline><li>'105884.8_0.8'</li><li>'105884.8_0.8'</li><li>'105884.8_0.8'</li><li>'105884.8_0.8'</li><li>'105884.8_0.8'</li><li>'105884.8_0.8'</li></ol>\n"
      ],
      "text/latex": [
       "\\begin{enumerate*}\n",
       "\\item '105884.8\\_0.8'\n",
       "\\item '105884.8\\_0.8'\n",
       "\\item '105884.8\\_0.8'\n",
       "\\item '105884.8\\_0.8'\n",
       "\\item '105884.8\\_0.8'\n",
       "\\item '105884.8\\_0.8'\n",
       "\\end{enumerate*}\n"
      ],
      "text/markdown": [
       "1. '105884.8_0.8'\n",
       "2. '105884.8_0.8'\n",
       "3. '105884.8_0.8'\n",
       "4. '105884.8_0.8'\n",
       "5. '105884.8_0.8'\n",
       "6. '105884.8_0.8'\n",
       "\n",
       "\n"
      ],
      "text/plain": [
       "[1] \"105884.8_0.8\" \"105884.8_0.8\" \"105884.8_0.8\" \"105884.8_0.8\" \"105884.8_0.8\"\n",
       "[6] \"105884.8_0.8\""
      ]
     },
     "metadata": {},
     "output_type": "display_data"
    }
   ],
   "source": [
    "head(cdr3df$myclonereads)"
   ]
  },
  {
   "cell_type": "code",
   "execution_count": 12,
   "metadata": {},
   "outputs": [],
   "source": [
    "cdr3df$mypercreads <- gsub(\".*_\", \"\", cdr3df$myclonereads)\n",
    "cdr3df$myclonereads <- gsub(\"_.*\", \"\", cdr3df$myclonereads)"
   ]
  },
  {
   "cell_type": "code",
   "execution_count": 13,
   "metadata": {},
   "outputs": [
    {
     "data": {
      "text/html": [
       "<style>\n",
       ".list-inline {list-style: none; margin:0; padding: 0}\n",
       ".list-inline>li {display: inline-block}\n",
       ".list-inline>li:not(:last-child)::after {content: \"\\00b7\"; padding: 0 .5ex}\n",
       "</style>\n",
       "<ol class=list-inline><li>'105884.8'</li><li>'112502.6'</li><li>'119120.4'</li><li>'125738.2'</li><li>'13235.6'</li><li>'132356'</li><li>'19853.4'</li><li>'26471.2'</li><li>'33089'</li><li>'39706.8'</li><li>'46324.6'</li><li>'52942.4'</li><li>'59560.2'</li><li>'6617.8'</li><li>'66178'</li><li>'72795.8'</li><li>'79413.6'</li><li>'86031.4'</li><li>'92649.2'</li><li>'99267'</li></ol>\n"
      ],
      "text/latex": [
       "\\begin{enumerate*}\n",
       "\\item '105884.8'\n",
       "\\item '112502.6'\n",
       "\\item '119120.4'\n",
       "\\item '125738.2'\n",
       "\\item '13235.6'\n",
       "\\item '132356'\n",
       "\\item '19853.4'\n",
       "\\item '26471.2'\n",
       "\\item '33089'\n",
       "\\item '39706.8'\n",
       "\\item '46324.6'\n",
       "\\item '52942.4'\n",
       "\\item '59560.2'\n",
       "\\item '6617.8'\n",
       "\\item '66178'\n",
       "\\item '72795.8'\n",
       "\\item '79413.6'\n",
       "\\item '86031.4'\n",
       "\\item '92649.2'\n",
       "\\item '99267'\n",
       "\\end{enumerate*}\n"
      ],
      "text/markdown": [
       "1. '105884.8'\n",
       "2. '112502.6'\n",
       "3. '119120.4'\n",
       "4. '125738.2'\n",
       "5. '13235.6'\n",
       "6. '132356'\n",
       "7. '19853.4'\n",
       "8. '26471.2'\n",
       "9. '33089'\n",
       "10. '39706.8'\n",
       "11. '46324.6'\n",
       "12. '52942.4'\n",
       "13. '59560.2'\n",
       "14. '6617.8'\n",
       "15. '66178'\n",
       "16. '72795.8'\n",
       "17. '79413.6'\n",
       "18. '86031.4'\n",
       "19. '92649.2'\n",
       "20. '99267'\n",
       "\n",
       "\n"
      ],
      "text/plain": [
       " [1] \"105884.8\" \"112502.6\" \"119120.4\" \"125738.2\" \"13235.6\"  \"132356\"  \n",
       " [7] \"19853.4\"  \"26471.2\"  \"33089\"    \"39706.8\"  \"46324.6\"  \"52942.4\" \n",
       "[13] \"59560.2\"  \"6617.8\"   \"66178\"    \"72795.8\"  \"79413.6\"  \"86031.4\" \n",
       "[19] \"92649.2\"  \"99267\"   "
      ]
     },
     "metadata": {},
     "output_type": "display_data"
    }
   ],
   "source": [
    "unique(cdr3df$myclonereads)"
   ]
  },
  {
   "cell_type": "code",
   "execution_count": 14,
   "metadata": {},
   "outputs": [],
   "source": [
    "cdr3df$myclonereads <- gsub(\"A037\", \"0\", cdr3df$myclonereads)\n",
    "cdr3df$myclonereads <- as.numeric(cdr3df$myclonereads)"
   ]
  },
  {
   "cell_type": "code",
   "execution_count": 15,
   "metadata": {},
   "outputs": [],
   "source": [
    "cdr3df$samplename <- gsub(\"_addjurkat\", \"\", cdr3df$samplename)\n",
    "cdr3df$samplename <- gsub(\"_A037\", \"_0\", cdr3df$samplename)"
   ]
  },
  {
   "cell_type": "code",
   "execution_count": 16,
   "metadata": {},
   "outputs": [
    {
     "data": {
      "text/html": [
       "<style>\n",
       ".list-inline {list-style: none; margin:0; padding: 0}\n",
       ".list-inline>li {display: inline-block}\n",
       ".list-inline>li:not(:last-child)::after {content: \"\\00b7\"; padding: 0 .5ex}\n",
       "</style>\n",
       "<ol class=list-inline><li>'A037_105884.8_0.8'</li><li>'A037_112502.6_0.85'</li><li>'A037_119120.4_0.9'</li><li>'A037_125738.2_0.95'</li><li>'A037_13235.6_0.1'</li><li>'A037_132356_1'</li><li>'A037_19853.4_0.15'</li><li>'A037_26471.2_0.2'</li><li>'A037_33089_0.25'</li><li>'A037_39706.8_0.3'</li><li>'A037_46324.6_0.35'</li><li>'A037_52942.4_0.4'</li><li>'A037_59560.2_0.45'</li><li>'A037_6617.8_0.05'</li><li>'A037_66178_0.5'</li><li>'A037_72795.8_0.55'</li><li>'A037_79413.6_0.6'</li><li>'A037_86031.4_0.65'</li><li>'A037_92649.2_0.7'</li><li>'A037_99267_0.75'</li></ol>\n"
      ],
      "text/latex": [
       "\\begin{enumerate*}\n",
       "\\item 'A037\\_105884.8\\_0.8'\n",
       "\\item 'A037\\_112502.6\\_0.85'\n",
       "\\item 'A037\\_119120.4\\_0.9'\n",
       "\\item 'A037\\_125738.2\\_0.95'\n",
       "\\item 'A037\\_13235.6\\_0.1'\n",
       "\\item 'A037\\_132356\\_1'\n",
       "\\item 'A037\\_19853.4\\_0.15'\n",
       "\\item 'A037\\_26471.2\\_0.2'\n",
       "\\item 'A037\\_33089\\_0.25'\n",
       "\\item 'A037\\_39706.8\\_0.3'\n",
       "\\item 'A037\\_46324.6\\_0.35'\n",
       "\\item 'A037\\_52942.4\\_0.4'\n",
       "\\item 'A037\\_59560.2\\_0.45'\n",
       "\\item 'A037\\_6617.8\\_0.05'\n",
       "\\item 'A037\\_66178\\_0.5'\n",
       "\\item 'A037\\_72795.8\\_0.55'\n",
       "\\item 'A037\\_79413.6\\_0.6'\n",
       "\\item 'A037\\_86031.4\\_0.65'\n",
       "\\item 'A037\\_92649.2\\_0.7'\n",
       "\\item 'A037\\_99267\\_0.75'\n",
       "\\end{enumerate*}\n"
      ],
      "text/markdown": [
       "1. 'A037_105884.8_0.8'\n",
       "2. 'A037_112502.6_0.85'\n",
       "3. 'A037_119120.4_0.9'\n",
       "4. 'A037_125738.2_0.95'\n",
       "5. 'A037_13235.6_0.1'\n",
       "6. 'A037_132356_1'\n",
       "7. 'A037_19853.4_0.15'\n",
       "8. 'A037_26471.2_0.2'\n",
       "9. 'A037_33089_0.25'\n",
       "10. 'A037_39706.8_0.3'\n",
       "11. 'A037_46324.6_0.35'\n",
       "12. 'A037_52942.4_0.4'\n",
       "13. 'A037_59560.2_0.45'\n",
       "14. 'A037_6617.8_0.05'\n",
       "15. 'A037_66178_0.5'\n",
       "16. 'A037_72795.8_0.55'\n",
       "17. 'A037_79413.6_0.6'\n",
       "18. 'A037_86031.4_0.65'\n",
       "19. 'A037_92649.2_0.7'\n",
       "20. 'A037_99267_0.75'\n",
       "\n",
       "\n"
      ],
      "text/plain": [
       " [1] \"A037_105884.8_0.8\"  \"A037_112502.6_0.85\" \"A037_119120.4_0.9\" \n",
       " [4] \"A037_125738.2_0.95\" \"A037_13235.6_0.1\"   \"A037_132356_1\"     \n",
       " [7] \"A037_19853.4_0.15\"  \"A037_26471.2_0.2\"   \"A037_33089_0.25\"   \n",
       "[10] \"A037_39706.8_0.3\"   \"A037_46324.6_0.35\"  \"A037_52942.4_0.4\"  \n",
       "[13] \"A037_59560.2_0.45\"  \"A037_6617.8_0.05\"   \"A037_66178_0.5\"    \n",
       "[16] \"A037_72795.8_0.55\"  \"A037_79413.6_0.6\"   \"A037_86031.4_0.65\" \n",
       "[19] \"A037_92649.2_0.7\"   \"A037_99267_0.75\"   "
      ]
     },
     "metadata": {},
     "output_type": "display_data"
    }
   ],
   "source": [
    "unique(cdr3df$samplename)"
   ]
  },
  {
   "cell_type": "code",
   "execution_count": 17,
   "metadata": {},
   "outputs": [],
   "source": [
    "cdr3df$samplename <- factor(cdr3df$samplename, levels = unique(cdr3df$samplename\n",
    "                                                               [order(cdr3df$myclonereads, decreasing = F)]))"
   ]
  },
  {
   "cell_type": "code",
   "execution_count": 18,
   "metadata": {},
   "outputs": [],
   "source": [
    "track_Aclone_adaptive.fx <- function(compldfle, plotpath, countfrac, clnefrc, clnseq){\n",
    "\n",
    "  message(\"list of samples to track clones: \")\n",
    "  mysamples <- unique(compldfle$samplename)\n",
    "  print(mysamples)\n",
    "\n",
    "  # Subset df\n",
    "  CDR3_fraction <- compldfle[, c(\"samplename\",\"nucleotide\",\"cloneFraction\", \"cloneCount\")]\n",
    "\n",
    "  # Subset to include only clonotypes with more than specified clonal fraction\n",
    "  CDR3_fraction <- CDR3_fraction[CDR3_fraction$cloneFraction > clnefrc,]\n",
    "\n",
    "  #Assign colors to the specific clone\n",
    "  myclone <- clnseq\n",
    "  notrecurring <- CDR3_fraction$nucleotide[!CDR3_fraction$nucleotide %in% myclone]\n",
    "\n",
    "    cloneColor <- distinctColorPalette(length(myclone))\n",
    "    myColors <- c(cloneColor, rep(\"white\",length(notrecurring)))\n",
    "    names(myColors) <- c(myclone, notrecurring)\n",
    "\n",
    "  # Generate a row for each sample that doesnot have jurkat clonotype\n",
    "  ## This ensures alluvia are colored\n",
    "\n",
    "    tmp <- CDR3_fraction[CDR3_fraction$nucleotide == myclone,]\n",
    "    nonexisting <- mysamples[!mysamples %in% tmp$samplename]\n",
    "    if(length(nonexisting) > 0){\n",
    "      newentries <- data.frame(\"samplename\" = nonexisting, \"nucleotide\" = myclone,\n",
    "                               \"cloneFraction\" = 0, \"cloneCount\" = 0)\n",
    "      CDR3_fraction <- rbind(CDR3_fraction, newentries)\n",
    "    }\n",
    "  \n",
    "  p <-  ggplot(CDR3_fraction, aes(x = samplename,\n",
    "                                  y = eval(as.name(countfrac)),\n",
    "                                  fill = nucleotide,\n",
    "                                  stratum = nucleotide,\n",
    "                                  alluvium = nucleotide,\n",
    "                                  label = nucleotide))\n",
    "\n",
    "  myp <- p + geom_alluvium(decreasing = FALSE) +\n",
    "    geom_stratum(decreasing = FALSE, stat = \"alluvium\") +\n",
    "    scale_fill_manual(breaks = names(myColors[myColors != \"white\"]),\n",
    "                      values = myColors) +\n",
    "    theme(axis.title.y = element_text(size = 50),\n",
    "          axis.title.x = element_blank(),\n",
    "          axis.line = element_line(color = \"black\"),\n",
    "          axis.text = element_text(size = 50),\n",
    "          axis.text.x = element_text(angle = 45, hjust = 1)) +\n",
    "    theme(panel.grid.major = element_blank(),\n",
    "          panel.grid.minor = element_blank(),\n",
    "          panel.background = element_rect(fill = \"transparent\",colour = NA),\n",
    "          legend.key = element_rect(fill = \"white\", colour = \"white\"),\n",
    "          legend.position = \"none\",\n",
    "          plot.margin = unit(c(0.2,0,0,0),\"cm\")) +\n",
    "    labs(y = countfrac)\n",
    "\n",
    "  pdf(paste0(plotpath, \"trackAclone_Adaptive_\", mysamples[1], countfrac, \".pdf\"),\n",
    "      width = 30,\n",
    "      height = 20,\n",
    "      useDingbats = FALSE,\n",
    "      onefile = FALSE)\n",
    "  print(myp)\n",
    "  dev.off()\n",
    "\n",
    "}"
   ]
  },
  {
   "cell_type": "code",
   "execution_count": 23,
   "metadata": {
    "scrolled": true
   },
   "outputs": [
    {
     "name": "stderr",
     "output_type": "stream",
     "text": [
      "list of samples to track clones: \n",
      "\n"
     ]
    },
    {
     "name": "stdout",
     "output_type": "stream",
     "text": [
      " [1] A037_105884.8_0.8  A037_112502.6_0.85 A037_119120.4_0.9  A037_125738.2_0.95\n",
      " [5] A037_13235.6_0.1   A037_132356_1      A037_19853.4_0.15  A037_26471.2_0.2  \n",
      " [9] A037_33089_0.25    A037_39706.8_0.3   A037_46324.6_0.35  A037_52942.4_0.4  \n",
      "[13] A037_59560.2_0.45  A037_6617.8_0.05   A037_66178_0.5     A037_72795.8_0.55 \n",
      "[17] A037_79413.6_0.6   A037_86031.4_0.65  A037_92649.2_0.7   A037_99267_0.75   \n",
      "20 Levels: A037_6617.8_0.05 A037_13235.6_0.1 ... A037_132356_1\n"
     ]
    },
    {
     "data": {
      "text/html": [
       "<strong>pdf:</strong> 2"
      ],
      "text/latex": [
       "\\textbf{pdf:} 2"
      ],
      "text/markdown": [
       "**pdf:** 2"
      ],
      "text/plain": [
       "pdf \n",
       "  2 "
      ]
     },
     "metadata": {},
     "output_type": "display_data"
    }
   ],
   "source": [
    "track_Aclone_adaptive.fx(cdr3df, plotpath, \"cloneFraction\", 0.0001, \"TGTGCCAGCAGTTTCTCGACCTGTTCGGCTAACTATGGCTACACCTTC\")"
   ]
  },
  {
   "cell_type": "markdown",
   "metadata": {},
   "source": [
    "## Plot diversity measures"
   ]
  },
  {
   "cell_type": "code",
   "execution_count": 11,
   "metadata": {},
   "outputs": [],
   "source": [
    "myfiles <- list.files(paste0(datapath, \"/Immunoseq/\"), pattern = \"addjurkat_\", recursive = T)\n",
    "myfiles <- myfiles[grepl(\"divstats\", myfiles)]\n",
    "myfiles <- c(myfiles, \"divstats_TRBA037_PBMC.tsv.csv\")"
   ]
  },
  {
   "cell_type": "code",
   "execution_count": 12,
   "metadata": {},
   "outputs": [
    {
     "data": {
      "text/html": [
       "<style>\n",
       ".list-inline {list-style: none; margin:0; padding: 0}\n",
       ".list-inline>li {display: inline-block}\n",
       ".list-inline>li:not(:last-child)::after {content: \"\\00b7\"; padding: 0 .5ex}\n",
       "</style>\n",
       "<ol class=list-inline><li>'divstats_TRBaddjurkat_105884.8_0.8.txt.csv'</li><li>'divstats_TRBaddjurkat_112502.6_0.85.txt.csv'</li><li>'divstats_TRBaddjurkat_119120.4_0.9.txt.csv'</li><li>'divstats_TRBaddjurkat_125738.2_0.95.txt.csv'</li><li>'divstats_TRBaddjurkat_13235.6_0.1.txt.csv'</li><li>'divstats_TRBaddjurkat_132356_1.txt.csv'</li><li>'divstats_TRBaddjurkat_19853.4_0.15.txt.csv'</li><li>'divstats_TRBaddjurkat_26471.2_0.2.txt.csv'</li><li>'divstats_TRBaddjurkat_33089_0.25.txt.csv'</li><li>'divstats_TRBaddjurkat_39706.8_0.3.txt.csv'</li><li>'divstats_TRBaddjurkat_46324.6_0.35.txt.csv'</li><li>'divstats_TRBaddjurkat_52942.4_0.4.txt.csv'</li><li>'divstats_TRBaddjurkat_59560.2_0.45.txt.csv'</li><li>'divstats_TRBaddjurkat_6617.8_0.05.txt.csv'</li><li>'divstats_TRBaddjurkat_66178_0.5.txt.csv'</li><li>'divstats_TRBaddjurkat_72795.8_0.55.txt.csv'</li><li>'divstats_TRBaddjurkat_79413.6_0.6.txt.csv'</li><li>'divstats_TRBaddjurkat_86031.4_0.65.txt.csv'</li><li>'divstats_TRBaddjurkat_92649.2_0.7.txt.csv'</li><li>'divstats_TRBaddjurkat_99267_0.75.txt.csv'</li><li>'divstats_TRBA037_PBMC.tsv.csv'</li></ol>\n"
      ],
      "text/latex": [
       "\\begin{enumerate*}\n",
       "\\item 'divstats\\_TRBaddjurkat\\_105884.8\\_0.8.txt.csv'\n",
       "\\item 'divstats\\_TRBaddjurkat\\_112502.6\\_0.85.txt.csv'\n",
       "\\item 'divstats\\_TRBaddjurkat\\_119120.4\\_0.9.txt.csv'\n",
       "\\item 'divstats\\_TRBaddjurkat\\_125738.2\\_0.95.txt.csv'\n",
       "\\item 'divstats\\_TRBaddjurkat\\_13235.6\\_0.1.txt.csv'\n",
       "\\item 'divstats\\_TRBaddjurkat\\_132356\\_1.txt.csv'\n",
       "\\item 'divstats\\_TRBaddjurkat\\_19853.4\\_0.15.txt.csv'\n",
       "\\item 'divstats\\_TRBaddjurkat\\_26471.2\\_0.2.txt.csv'\n",
       "\\item 'divstats\\_TRBaddjurkat\\_33089\\_0.25.txt.csv'\n",
       "\\item 'divstats\\_TRBaddjurkat\\_39706.8\\_0.3.txt.csv'\n",
       "\\item 'divstats\\_TRBaddjurkat\\_46324.6\\_0.35.txt.csv'\n",
       "\\item 'divstats\\_TRBaddjurkat\\_52942.4\\_0.4.txt.csv'\n",
       "\\item 'divstats\\_TRBaddjurkat\\_59560.2\\_0.45.txt.csv'\n",
       "\\item 'divstats\\_TRBaddjurkat\\_6617.8\\_0.05.txt.csv'\n",
       "\\item 'divstats\\_TRBaddjurkat\\_66178\\_0.5.txt.csv'\n",
       "\\item 'divstats\\_TRBaddjurkat\\_72795.8\\_0.55.txt.csv'\n",
       "\\item 'divstats\\_TRBaddjurkat\\_79413.6\\_0.6.txt.csv'\n",
       "\\item 'divstats\\_TRBaddjurkat\\_86031.4\\_0.65.txt.csv'\n",
       "\\item 'divstats\\_TRBaddjurkat\\_92649.2\\_0.7.txt.csv'\n",
       "\\item 'divstats\\_TRBaddjurkat\\_99267\\_0.75.txt.csv'\n",
       "\\item 'divstats\\_TRBA037\\_PBMC.tsv.csv'\n",
       "\\end{enumerate*}\n"
      ],
      "text/markdown": [
       "1. 'divstats_TRBaddjurkat_105884.8_0.8.txt.csv'\n",
       "2. 'divstats_TRBaddjurkat_112502.6_0.85.txt.csv'\n",
       "3. 'divstats_TRBaddjurkat_119120.4_0.9.txt.csv'\n",
       "4. 'divstats_TRBaddjurkat_125738.2_0.95.txt.csv'\n",
       "5. 'divstats_TRBaddjurkat_13235.6_0.1.txt.csv'\n",
       "6. 'divstats_TRBaddjurkat_132356_1.txt.csv'\n",
       "7. 'divstats_TRBaddjurkat_19853.4_0.15.txt.csv'\n",
       "8. 'divstats_TRBaddjurkat_26471.2_0.2.txt.csv'\n",
       "9. 'divstats_TRBaddjurkat_33089_0.25.txt.csv'\n",
       "10. 'divstats_TRBaddjurkat_39706.8_0.3.txt.csv'\n",
       "11. 'divstats_TRBaddjurkat_46324.6_0.35.txt.csv'\n",
       "12. 'divstats_TRBaddjurkat_52942.4_0.4.txt.csv'\n",
       "13. 'divstats_TRBaddjurkat_59560.2_0.45.txt.csv'\n",
       "14. 'divstats_TRBaddjurkat_6617.8_0.05.txt.csv'\n",
       "15. 'divstats_TRBaddjurkat_66178_0.5.txt.csv'\n",
       "16. 'divstats_TRBaddjurkat_72795.8_0.55.txt.csv'\n",
       "17. 'divstats_TRBaddjurkat_79413.6_0.6.txt.csv'\n",
       "18. 'divstats_TRBaddjurkat_86031.4_0.65.txt.csv'\n",
       "19. 'divstats_TRBaddjurkat_92649.2_0.7.txt.csv'\n",
       "20. 'divstats_TRBaddjurkat_99267_0.75.txt.csv'\n",
       "21. 'divstats_TRBA037_PBMC.tsv.csv'\n",
       "\n",
       "\n"
      ],
      "text/plain": [
       " [1] \"divstats_TRBaddjurkat_105884.8_0.8.txt.csv\" \n",
       " [2] \"divstats_TRBaddjurkat_112502.6_0.85.txt.csv\"\n",
       " [3] \"divstats_TRBaddjurkat_119120.4_0.9.txt.csv\" \n",
       " [4] \"divstats_TRBaddjurkat_125738.2_0.95.txt.csv\"\n",
       " [5] \"divstats_TRBaddjurkat_13235.6_0.1.txt.csv\"  \n",
       " [6] \"divstats_TRBaddjurkat_132356_1.txt.csv\"     \n",
       " [7] \"divstats_TRBaddjurkat_19853.4_0.15.txt.csv\" \n",
       " [8] \"divstats_TRBaddjurkat_26471.2_0.2.txt.csv\"  \n",
       " [9] \"divstats_TRBaddjurkat_33089_0.25.txt.csv\"   \n",
       "[10] \"divstats_TRBaddjurkat_39706.8_0.3.txt.csv\"  \n",
       "[11] \"divstats_TRBaddjurkat_46324.6_0.35.txt.csv\" \n",
       "[12] \"divstats_TRBaddjurkat_52942.4_0.4.txt.csv\"  \n",
       "[13] \"divstats_TRBaddjurkat_59560.2_0.45.txt.csv\" \n",
       "[14] \"divstats_TRBaddjurkat_6617.8_0.05.txt.csv\"  \n",
       "[15] \"divstats_TRBaddjurkat_66178_0.5.txt.csv\"    \n",
       "[16] \"divstats_TRBaddjurkat_72795.8_0.55.txt.csv\" \n",
       "[17] \"divstats_TRBaddjurkat_79413.6_0.6.txt.csv\"  \n",
       "[18] \"divstats_TRBaddjurkat_86031.4_0.65.txt.csv\" \n",
       "[19] \"divstats_TRBaddjurkat_92649.2_0.7.txt.csv\"  \n",
       "[20] \"divstats_TRBaddjurkat_99267_0.75.txt.csv\"   \n",
       "[21] \"divstats_TRBA037_PBMC.tsv.csv\"              "
      ]
     },
     "metadata": {},
     "output_type": "display_data"
    }
   ],
   "source": [
    "myfiles"
   ]
  },
  {
   "cell_type": "code",
   "execution_count": 14,
   "metadata": {},
   "outputs": [],
   "source": [
    "all.files <- lapply(myfiles, function(f){read.csv(paste0(datapath, \"Immunoseq/\",f), header = TRUE, stringsAsFactors = F, row.names = 1)})"
   ]
  },
  {
   "cell_type": "code",
   "execution_count": 16,
   "metadata": {},
   "outputs": [],
   "source": [
    "div_adaptive <- do.call(\"rbind\", all.files)"
   ]
  },
  {
   "cell_type": "code",
   "execution_count": 17,
   "metadata": {},
   "outputs": [
    {
     "data": {
      "text/html": [
       "<table class=\"dataframe\">\n",
       "<caption>A data.frame: 6 × 19</caption>\n",
       "<thead>\n",
       "\t<tr><th></th><th scope=col>TRB</th><th scope=col>Reads</th><th scope=col>CPKR</th><th scope=col>Average_reads</th><th scope=col>VMR</th><th scope=col>Max_reads</th><th scope=col>Singletons</th><th scope=col>Doubletons</th><th scope=col>qD</th><th scope=col>Sample_Coverage</th><th scope=col>observed_Richness</th><th scope=col>estimated_Richness</th><th scope=col>SE_Richeness</th><th scope=col>observed_Shannon</th><th scope=col>estimated_Shannon</th><th scope=col>SE_Shannon</th><th scope=col>observed_Simpson</th><th scope=col>estimated_Simpson</th><th scope=col>SE_Simpson</th></tr>\n",
       "\t<tr><th></th><th scope=col>&lt;int&gt;</th><th scope=col>&lt;dbl&gt;</th><th scope=col>&lt;dbl&gt;</th><th scope=col>&lt;dbl&gt;</th><th scope=col>&lt;dbl&gt;</th><th scope=col>&lt;dbl&gt;</th><th scope=col>&lt;int&gt;</th><th scope=col>&lt;int&gt;</th><th scope=col>&lt;dbl&gt;</th><th scope=col>&lt;dbl&gt;</th><th scope=col>&lt;int&gt;</th><th scope=col>&lt;dbl&gt;</th><th scope=col>&lt;dbl&gt;</th><th scope=col>&lt;dbl&gt;</th><th scope=col>&lt;dbl&gt;</th><th scope=col>&lt;dbl&gt;</th><th scope=col>&lt;dbl&gt;</th><th scope=col>&lt;dbl&gt;</th><th scope=col>&lt;dbl&gt;</th></tr>\n",
       "</thead>\n",
       "<tbody>\n",
       "\t<tr><th scope=row>CLONES_TRBaddjurkat_105884.8_0.8.txt</th><td>16621</td><td>132356.8</td><td>1.255772e+02</td><td>7.963227e+00</td><td>103.14911</td><td>105884.8</td><td>14245</td><td>1435</td><td> 29522.636</td><td>0.912</td><td>16621</td><td> 87324.31</td><td>2226.658</td><td>    9.611</td><td>   12.118</td><td>  0.158</td><td> 1.562</td><td> 1.562</td><td>0.004</td></tr>\n",
       "\t<tr><th scope=row>CLONES_TRBaddjurkat_112502.6_0.85.txt</th><td>12402</td><td>133139.6</td><td>9.315035e+01</td><td>1.073533e+01</td><td> 94.11175</td><td>112502.6</td><td>10606</td><td>1085</td><td> 21993.335</td><td>0.935</td><td>12402</td><td> 64239.05</td><td>1881.974</td><td>    5.632</td><td>    6.681</td><td>  0.074</td><td> 1.400</td><td> 1.400</td><td>0.003</td></tr>\n",
       "\t<tr><th scope=row>CLONES_TRBaddjurkat_119120.4_0.9.txt</th><td> 8286</td><td>132356.4</td><td>6.260370e+01</td><td>1.597350e+01</td><td> 81.92465</td><td>119120.4</td><td> 7063</td><td> 729</td><td> 14667.633</td><td>0.957</td><td> 8286</td><td> 42501.08</td><td>1517.585</td><td>    3.158</td><td>    3.540</td><td>  0.033</td><td> 1.235</td><td> 1.235</td><td>0.002</td></tr>\n",
       "\t<tr><th scope=row>CLONES_TRBaddjurkat_125738.2_0.95.txt</th><td> 4440</td><td>132356.2</td><td>3.354584e+01</td><td>2.980995e+01</td><td> 63.30108</td><td>125738.2</td><td> 3782</td><td> 401</td><td>  7847.889</td><td>0.977</td><td> 4440</td><td> 22274.68</td><td>1071.192</td><td>    1.805</td><td>    1.918</td><td>  0.013</td><td> 1.108</td><td> 1.108</td><td>0.001</td></tr>\n",
       "\t<tr><th scope=row>CLONES_TRBaddjurkat_13235.6_0.1.txt</th><td>73628</td><td>132356.6</td><td>5.562851e+02</td><td>1.797639e+00</td><td> 27.95714</td><td> 13235.6</td><td>63100</td><td>6182</td><td>130930.587</td><td>0.608</td><td>73628</td><td>395658.08</td><td>4865.284</td><td>14531.131</td><td>40959.174</td><td>446.251</td><td>94.082</td><td>94.149</td><td>1.399</td></tr>\n",
       "\t<tr><th scope=row>CLONES_TRBaddjurkat_132356_1.txt</th><td>    1</td><td>132356.0</td><td>7.555381e-03</td><td>1.323560e+05</td><td>       NA</td><td>132356.0</td><td>    0</td><td>   0</td><td>     1.000</td><td>1.000</td><td>    1</td><td>     1.00</td><td>   0.000</td><td>    1.000</td><td>    1.000</td><td>  0.000</td><td> 1.000</td><td> 1.000</td><td>0.000</td></tr>\n",
       "</tbody>\n",
       "</table>\n"
      ],
      "text/latex": [
       "A data.frame: 6 × 19\n",
       "\\begin{tabular}{r|lllllllllllllllllll}\n",
       "  & TRB & Reads & CPKR & Average\\_reads & VMR & Max\\_reads & Singletons & Doubletons & qD & Sample\\_Coverage & observed\\_Richness & estimated\\_Richness & SE\\_Richeness & observed\\_Shannon & estimated\\_Shannon & SE\\_Shannon & observed\\_Simpson & estimated\\_Simpson & SE\\_Simpson\\\\\n",
       "  & <int> & <dbl> & <dbl> & <dbl> & <dbl> & <dbl> & <int> & <int> & <dbl> & <dbl> & <int> & <dbl> & <dbl> & <dbl> & <dbl> & <dbl> & <dbl> & <dbl> & <dbl>\\\\\n",
       "\\hline\n",
       "\tCLONES\\_TRBaddjurkat\\_105884.8\\_0.8.txt & 16621 & 132356.8 & 1.255772e+02 & 7.963227e+00 & 103.14911 & 105884.8 & 14245 & 1435 &  29522.636 & 0.912 & 16621 &  87324.31 & 2226.658 &     9.611 &    12.118 &   0.158 &  1.562 &  1.562 & 0.004\\\\\n",
       "\tCLONES\\_TRBaddjurkat\\_112502.6\\_0.85.txt & 12402 & 133139.6 & 9.315035e+01 & 1.073533e+01 &  94.11175 & 112502.6 & 10606 & 1085 &  21993.335 & 0.935 & 12402 &  64239.05 & 1881.974 &     5.632 &     6.681 &   0.074 &  1.400 &  1.400 & 0.003\\\\\n",
       "\tCLONES\\_TRBaddjurkat\\_119120.4\\_0.9.txt &  8286 & 132356.4 & 6.260370e+01 & 1.597350e+01 &  81.92465 & 119120.4 &  7063 &  729 &  14667.633 & 0.957 &  8286 &  42501.08 & 1517.585 &     3.158 &     3.540 &   0.033 &  1.235 &  1.235 & 0.002\\\\\n",
       "\tCLONES\\_TRBaddjurkat\\_125738.2\\_0.95.txt &  4440 & 132356.2 & 3.354584e+01 & 2.980995e+01 &  63.30108 & 125738.2 &  3782 &  401 &   7847.889 & 0.977 &  4440 &  22274.68 & 1071.192 &     1.805 &     1.918 &   0.013 &  1.108 &  1.108 & 0.001\\\\\n",
       "\tCLONES\\_TRBaddjurkat\\_13235.6\\_0.1.txt & 73628 & 132356.6 & 5.562851e+02 & 1.797639e+00 &  27.95714 &  13235.6 & 63100 & 6182 & 130930.587 & 0.608 & 73628 & 395658.08 & 4865.284 & 14531.131 & 40959.174 & 446.251 & 94.082 & 94.149 & 1.399\\\\\n",
       "\tCLONES\\_TRBaddjurkat\\_132356\\_1.txt &     1 & 132356.0 & 7.555381e-03 & 1.323560e+05 &        NA & 132356.0 &     0 &    0 &      1.000 & 1.000 &     1 &      1.00 &    0.000 &     1.000 &     1.000 &   0.000 &  1.000 &  1.000 & 0.000\\\\\n",
       "\\end{tabular}\n"
      ],
      "text/markdown": [
       "\n",
       "A data.frame: 6 × 19\n",
       "\n",
       "| <!--/--> | TRB &lt;int&gt; | Reads &lt;dbl&gt; | CPKR &lt;dbl&gt; | Average_reads &lt;dbl&gt; | VMR &lt;dbl&gt; | Max_reads &lt;dbl&gt; | Singletons &lt;int&gt; | Doubletons &lt;int&gt; | qD &lt;dbl&gt; | Sample_Coverage &lt;dbl&gt; | observed_Richness &lt;int&gt; | estimated_Richness &lt;dbl&gt; | SE_Richeness &lt;dbl&gt; | observed_Shannon &lt;dbl&gt; | estimated_Shannon &lt;dbl&gt; | SE_Shannon &lt;dbl&gt; | observed_Simpson &lt;dbl&gt; | estimated_Simpson &lt;dbl&gt; | SE_Simpson &lt;dbl&gt; |\n",
       "|---|---|---|---|---|---|---|---|---|---|---|---|---|---|---|---|---|---|---|---|\n",
       "| CLONES_TRBaddjurkat_105884.8_0.8.txt | 16621 | 132356.8 | 1.255772e+02 | 7.963227e+00 | 103.14911 | 105884.8 | 14245 | 1435 |  29522.636 | 0.912 | 16621 |  87324.31 | 2226.658 |     9.611 |    12.118 |   0.158 |  1.562 |  1.562 | 0.004 |\n",
       "| CLONES_TRBaddjurkat_112502.6_0.85.txt | 12402 | 133139.6 | 9.315035e+01 | 1.073533e+01 |  94.11175 | 112502.6 | 10606 | 1085 |  21993.335 | 0.935 | 12402 |  64239.05 | 1881.974 |     5.632 |     6.681 |   0.074 |  1.400 |  1.400 | 0.003 |\n",
       "| CLONES_TRBaddjurkat_119120.4_0.9.txt |  8286 | 132356.4 | 6.260370e+01 | 1.597350e+01 |  81.92465 | 119120.4 |  7063 |  729 |  14667.633 | 0.957 |  8286 |  42501.08 | 1517.585 |     3.158 |     3.540 |   0.033 |  1.235 |  1.235 | 0.002 |\n",
       "| CLONES_TRBaddjurkat_125738.2_0.95.txt |  4440 | 132356.2 | 3.354584e+01 | 2.980995e+01 |  63.30108 | 125738.2 |  3782 |  401 |   7847.889 | 0.977 |  4440 |  22274.68 | 1071.192 |     1.805 |     1.918 |   0.013 |  1.108 |  1.108 | 0.001 |\n",
       "| CLONES_TRBaddjurkat_13235.6_0.1.txt | 73628 | 132356.6 | 5.562851e+02 | 1.797639e+00 |  27.95714 |  13235.6 | 63100 | 6182 | 130930.587 | 0.608 | 73628 | 395658.08 | 4865.284 | 14531.131 | 40959.174 | 446.251 | 94.082 | 94.149 | 1.399 |\n",
       "| CLONES_TRBaddjurkat_132356_1.txt |     1 | 132356.0 | 7.555381e-03 | 1.323560e+05 |        NA | 132356.0 |     0 |    0 |      1.000 | 1.000 |     1 |      1.00 |    0.000 |     1.000 |     1.000 |   0.000 |  1.000 |  1.000 | 0.000 |\n",
       "\n"
      ],
      "text/plain": [
       "                                      TRB   Reads    CPKR         Average_reads\n",
       "CLONES_TRBaddjurkat_105884.8_0.8.txt  16621 132356.8 1.255772e+02 7.963227e+00 \n",
       "CLONES_TRBaddjurkat_112502.6_0.85.txt 12402 133139.6 9.315035e+01 1.073533e+01 \n",
       "CLONES_TRBaddjurkat_119120.4_0.9.txt   8286 132356.4 6.260370e+01 1.597350e+01 \n",
       "CLONES_TRBaddjurkat_125738.2_0.95.txt  4440 132356.2 3.354584e+01 2.980995e+01 \n",
       "CLONES_TRBaddjurkat_13235.6_0.1.txt   73628 132356.6 5.562851e+02 1.797639e+00 \n",
       "CLONES_TRBaddjurkat_132356_1.txt          1 132356.0 7.555381e-03 1.323560e+05 \n",
       "                                      VMR       Max_reads Singletons Doubletons\n",
       "CLONES_TRBaddjurkat_105884.8_0.8.txt  103.14911 105884.8  14245      1435      \n",
       "CLONES_TRBaddjurkat_112502.6_0.85.txt  94.11175 112502.6  10606      1085      \n",
       "CLONES_TRBaddjurkat_119120.4_0.9.txt   81.92465 119120.4   7063       729      \n",
       "CLONES_TRBaddjurkat_125738.2_0.95.txt  63.30108 125738.2   3782       401      \n",
       "CLONES_TRBaddjurkat_13235.6_0.1.txt    27.95714  13235.6  63100      6182      \n",
       "CLONES_TRBaddjurkat_132356_1.txt             NA 132356.0      0         0      \n",
       "                                      qD         Sample_Coverage\n",
       "CLONES_TRBaddjurkat_105884.8_0.8.txt   29522.636 0.912          \n",
       "CLONES_TRBaddjurkat_112502.6_0.85.txt  21993.335 0.935          \n",
       "CLONES_TRBaddjurkat_119120.4_0.9.txt   14667.633 0.957          \n",
       "CLONES_TRBaddjurkat_125738.2_0.95.txt   7847.889 0.977          \n",
       "CLONES_TRBaddjurkat_13235.6_0.1.txt   130930.587 0.608          \n",
       "CLONES_TRBaddjurkat_132356_1.txt           1.000 1.000          \n",
       "                                      observed_Richness estimated_Richness\n",
       "CLONES_TRBaddjurkat_105884.8_0.8.txt  16621              87324.31         \n",
       "CLONES_TRBaddjurkat_112502.6_0.85.txt 12402              64239.05         \n",
       "CLONES_TRBaddjurkat_119120.4_0.9.txt   8286              42501.08         \n",
       "CLONES_TRBaddjurkat_125738.2_0.95.txt  4440              22274.68         \n",
       "CLONES_TRBaddjurkat_13235.6_0.1.txt   73628             395658.08         \n",
       "CLONES_TRBaddjurkat_132356_1.txt          1                  1.00         \n",
       "                                      SE_Richeness observed_Shannon\n",
       "CLONES_TRBaddjurkat_105884.8_0.8.txt  2226.658         9.611       \n",
       "CLONES_TRBaddjurkat_112502.6_0.85.txt 1881.974         5.632       \n",
       "CLONES_TRBaddjurkat_119120.4_0.9.txt  1517.585         3.158       \n",
       "CLONES_TRBaddjurkat_125738.2_0.95.txt 1071.192         1.805       \n",
       "CLONES_TRBaddjurkat_13235.6_0.1.txt   4865.284     14531.131       \n",
       "CLONES_TRBaddjurkat_132356_1.txt         0.000         1.000       \n",
       "                                      estimated_Shannon SE_Shannon\n",
       "CLONES_TRBaddjurkat_105884.8_0.8.txt     12.118           0.158   \n",
       "CLONES_TRBaddjurkat_112502.6_0.85.txt     6.681           0.074   \n",
       "CLONES_TRBaddjurkat_119120.4_0.9.txt      3.540           0.033   \n",
       "CLONES_TRBaddjurkat_125738.2_0.95.txt     1.918           0.013   \n",
       "CLONES_TRBaddjurkat_13235.6_0.1.txt   40959.174         446.251   \n",
       "CLONES_TRBaddjurkat_132356_1.txt          1.000           0.000   \n",
       "                                      observed_Simpson estimated_Simpson\n",
       "CLONES_TRBaddjurkat_105884.8_0.8.txt   1.562            1.562           \n",
       "CLONES_TRBaddjurkat_112502.6_0.85.txt  1.400            1.400           \n",
       "CLONES_TRBaddjurkat_119120.4_0.9.txt   1.235            1.235           \n",
       "CLONES_TRBaddjurkat_125738.2_0.95.txt  1.108            1.108           \n",
       "CLONES_TRBaddjurkat_13235.6_0.1.txt   94.082           94.149           \n",
       "CLONES_TRBaddjurkat_132356_1.txt       1.000            1.000           \n",
       "                                      SE_Simpson\n",
       "CLONES_TRBaddjurkat_105884.8_0.8.txt  0.004     \n",
       "CLONES_TRBaddjurkat_112502.6_0.85.txt 0.003     \n",
       "CLONES_TRBaddjurkat_119120.4_0.9.txt  0.002     \n",
       "CLONES_TRBaddjurkat_125738.2_0.95.txt 0.001     \n",
       "CLONES_TRBaddjurkat_13235.6_0.1.txt   1.399     \n",
       "CLONES_TRBaddjurkat_132356_1.txt      0.000     "
      ]
     },
     "metadata": {},
     "output_type": "display_data"
    }
   ],
   "source": [
    "head(div_adaptive)"
   ]
  },
  {
   "cell_type": "code",
   "execution_count": 22,
   "metadata": {},
   "outputs": [],
   "source": [
    "div_adaptive$myclonereads <- gsub(\".*addjurkat_\", \"\", rownames(div_adaptive))\n",
    "div_adaptive$myclonereads <- gsub(\".txt\", \"\", div_adaptive$myclonereads)\n",
    "div_adaptive$myclonereads <- gsub(\".tsv\", \"\", div_adaptive$myclonereads)"
   ]
  },
  {
   "cell_type": "code",
   "execution_count": 23,
   "metadata": {},
   "outputs": [],
   "source": [
    "div_adaptive$mypercreads <- gsub(\".*_\", \"\", div_adaptive$myclonereads)\n",
    "div_adaptive$myclonereads <- gsub(\"_.*\", \"\", div_adaptive$myclonereads)"
   ]
  },
  {
   "cell_type": "code",
   "execution_count": 24,
   "metadata": {},
   "outputs": [
    {
     "data": {
      "text/html": [
       "<style>\n",
       ".list-inline {list-style: none; margin:0; padding: 0}\n",
       ".list-inline>li {display: inline-block}\n",
       ".list-inline>li:not(:last-child)::after {content: \"\\00b7\"; padding: 0 .5ex}\n",
       "</style>\n",
       "<ol class=list-inline><li>'0.8'</li><li>'0.85'</li><li>'0.9'</li><li>'0.95'</li><li>'0.1'</li><li>'1'</li><li>'0.15'</li><li>'0.2'</li><li>'0.25'</li><li>'0.3'</li><li>'0.35'</li><li>'0.4'</li><li>'0.45'</li><li>'0.05'</li><li>'0.5'</li><li>'0.55'</li><li>'0.6'</li><li>'0.65'</li><li>'0.7'</li><li>'0.75'</li><li>'PBMC'</li></ol>\n"
      ],
      "text/latex": [
       "\\begin{enumerate*}\n",
       "\\item '0.8'\n",
       "\\item '0.85'\n",
       "\\item '0.9'\n",
       "\\item '0.95'\n",
       "\\item '0.1'\n",
       "\\item '1'\n",
       "\\item '0.15'\n",
       "\\item '0.2'\n",
       "\\item '0.25'\n",
       "\\item '0.3'\n",
       "\\item '0.35'\n",
       "\\item '0.4'\n",
       "\\item '0.45'\n",
       "\\item '0.05'\n",
       "\\item '0.5'\n",
       "\\item '0.55'\n",
       "\\item '0.6'\n",
       "\\item '0.65'\n",
       "\\item '0.7'\n",
       "\\item '0.75'\n",
       "\\item 'PBMC'\n",
       "\\end{enumerate*}\n"
      ],
      "text/markdown": [
       "1. '0.8'\n",
       "2. '0.85'\n",
       "3. '0.9'\n",
       "4. '0.95'\n",
       "5. '0.1'\n",
       "6. '1'\n",
       "7. '0.15'\n",
       "8. '0.2'\n",
       "9. '0.25'\n",
       "10. '0.3'\n",
       "11. '0.35'\n",
       "12. '0.4'\n",
       "13. '0.45'\n",
       "14. '0.05'\n",
       "15. '0.5'\n",
       "16. '0.55'\n",
       "17. '0.6'\n",
       "18. '0.65'\n",
       "19. '0.7'\n",
       "20. '0.75'\n",
       "21. 'PBMC'\n",
       "\n",
       "\n"
      ],
      "text/plain": [
       " [1] \"0.8\"  \"0.85\" \"0.9\"  \"0.95\" \"0.1\"  \"1\"    \"0.15\" \"0.2\"  \"0.25\" \"0.3\" \n",
       "[11] \"0.35\" \"0.4\"  \"0.45\" \"0.05\" \"0.5\"  \"0.55\" \"0.6\"  \"0.65\" \"0.7\"  \"0.75\"\n",
       "[21] \"PBMC\""
      ]
     },
     "metadata": {},
     "output_type": "display_data"
    }
   ],
   "source": [
    "unique(div_adaptive$mypercreads)"
   ]
  },
  {
   "cell_type": "code",
   "execution_count": 25,
   "metadata": {},
   "outputs": [
    {
     "data": {
      "text/html": [
       "<style>\n",
       ".list-inline {list-style: none; margin:0; padding: 0}\n",
       ".list-inline>li {display: inline-block}\n",
       ".list-inline>li:not(:last-child)::after {content: \"\\00b7\"; padding: 0 .5ex}\n",
       "</style>\n",
       "<ol class=list-inline><li>'105884.8'</li><li>'112502.6'</li><li>'119120.4'</li><li>'125738.2'</li><li>'13235.6'</li><li>'132356'</li><li>'19853.4'</li><li>'26471.2'</li><li>'33089'</li><li>'39706.8'</li><li>'46324.6'</li><li>'52942.4'</li><li>'59560.2'</li><li>'6617.8'</li><li>'66178'</li><li>'72795.8'</li><li>'79413.6'</li><li>'86031.4'</li><li>'92649.2'</li><li>'99267'</li><li>'A037'</li></ol>\n"
      ],
      "text/latex": [
       "\\begin{enumerate*}\n",
       "\\item '105884.8'\n",
       "\\item '112502.6'\n",
       "\\item '119120.4'\n",
       "\\item '125738.2'\n",
       "\\item '13235.6'\n",
       "\\item '132356'\n",
       "\\item '19853.4'\n",
       "\\item '26471.2'\n",
       "\\item '33089'\n",
       "\\item '39706.8'\n",
       "\\item '46324.6'\n",
       "\\item '52942.4'\n",
       "\\item '59560.2'\n",
       "\\item '6617.8'\n",
       "\\item '66178'\n",
       "\\item '72795.8'\n",
       "\\item '79413.6'\n",
       "\\item '86031.4'\n",
       "\\item '92649.2'\n",
       "\\item '99267'\n",
       "\\item 'A037'\n",
       "\\end{enumerate*}\n"
      ],
      "text/markdown": [
       "1. '105884.8'\n",
       "2. '112502.6'\n",
       "3. '119120.4'\n",
       "4. '125738.2'\n",
       "5. '13235.6'\n",
       "6. '132356'\n",
       "7. '19853.4'\n",
       "8. '26471.2'\n",
       "9. '33089'\n",
       "10. '39706.8'\n",
       "11. '46324.6'\n",
       "12. '52942.4'\n",
       "13. '59560.2'\n",
       "14. '6617.8'\n",
       "15. '66178'\n",
       "16. '72795.8'\n",
       "17. '79413.6'\n",
       "18. '86031.4'\n",
       "19. '92649.2'\n",
       "20. '99267'\n",
       "21. 'A037'\n",
       "\n",
       "\n"
      ],
      "text/plain": [
       " [1] \"105884.8\" \"112502.6\" \"119120.4\" \"125738.2\" \"13235.6\"  \"132356\"  \n",
       " [7] \"19853.4\"  \"26471.2\"  \"33089\"    \"39706.8\"  \"46324.6\"  \"52942.4\" \n",
       "[13] \"59560.2\"  \"6617.8\"   \"66178\"    \"72795.8\"  \"79413.6\"  \"86031.4\" \n",
       "[19] \"92649.2\"  \"99267\"    \"A037\"    "
      ]
     },
     "metadata": {},
     "output_type": "display_data"
    }
   ],
   "source": [
    "unique(div_adaptive$myclonereads)"
   ]
  },
  {
   "cell_type": "code",
   "execution_count": 27,
   "metadata": {},
   "outputs": [],
   "source": [
    "div_adaptive$myclonereads <- gsub(\"A037\", \"0\", div_adaptive$myclonereads)\n",
    "div_adaptive$myclonereads <- as.numeric(div_adaptive$myclonereads)"
   ]
  },
  {
   "cell_type": "code",
   "execution_count": 28,
   "metadata": {},
   "outputs": [],
   "source": [
    "div_adaptive$mypercreads <- gsub(\"PBMC\", \"0\", div_adaptive$mypercreads)\n",
    "div_adaptive$mypercreads <- as.numeric(div_adaptive$mypercreads)"
   ]
  },
  {
   "cell_type": "code",
   "execution_count": 29,
   "metadata": {},
   "outputs": [
    {
     "data": {
      "text/html": [
       "<style>\n",
       ".list-inline {list-style: none; margin:0; padding: 0}\n",
       ".list-inline>li {display: inline-block}\n",
       ".list-inline>li:not(:last-child)::after {content: \"\\00b7\"; padding: 0 .5ex}\n",
       "</style>\n",
       "<ol class=list-inline><li>0.8</li><li>0.85</li><li>0.9</li><li>0.95</li><li>0.1</li><li>1</li><li>0.15</li><li>0.2</li><li>0.25</li><li>0.3</li><li>0.35</li><li>0.4</li><li>0.45</li><li>0.05</li><li>0.5</li><li>0.55</li><li>0.6</li><li>0.65</li><li>0.7</li><li>0.75</li><li>0</li></ol>\n"
      ],
      "text/latex": [
       "\\begin{enumerate*}\n",
       "\\item 0.8\n",
       "\\item 0.85\n",
       "\\item 0.9\n",
       "\\item 0.95\n",
       "\\item 0.1\n",
       "\\item 1\n",
       "\\item 0.15\n",
       "\\item 0.2\n",
       "\\item 0.25\n",
       "\\item 0.3\n",
       "\\item 0.35\n",
       "\\item 0.4\n",
       "\\item 0.45\n",
       "\\item 0.05\n",
       "\\item 0.5\n",
       "\\item 0.55\n",
       "\\item 0.6\n",
       "\\item 0.65\n",
       "\\item 0.7\n",
       "\\item 0.75\n",
       "\\item 0\n",
       "\\end{enumerate*}\n"
      ],
      "text/markdown": [
       "1. 0.8\n",
       "2. 0.85\n",
       "3. 0.9\n",
       "4. 0.95\n",
       "5. 0.1\n",
       "6. 1\n",
       "7. 0.15\n",
       "8. 0.2\n",
       "9. 0.25\n",
       "10. 0.3\n",
       "11. 0.35\n",
       "12. 0.4\n",
       "13. 0.45\n",
       "14. 0.05\n",
       "15. 0.5\n",
       "16. 0.55\n",
       "17. 0.6\n",
       "18. 0.65\n",
       "19. 0.7\n",
       "20. 0.75\n",
       "21. 0\n",
       "\n",
       "\n"
      ],
      "text/plain": [
       " [1] 0.80 0.85 0.90 0.95 0.10 1.00 0.15 0.20 0.25 0.30 0.35 0.40 0.45 0.05 0.50\n",
       "[16] 0.55 0.60 0.65 0.70 0.75 0.00"
      ]
     },
     "metadata": {},
     "output_type": "display_data"
    }
   ],
   "source": [
    "div_adaptive$mypercreads"
   ]
  },
  {
   "cell_type": "code",
   "execution_count": 30,
   "metadata": {},
   "outputs": [],
   "source": [
    "div_adaptive <- div_adaptive[ order(div_adaptive$mypercreads, decreasing = T),]"
   ]
  },
  {
   "cell_type": "code",
   "execution_count": 54,
   "metadata": {},
   "outputs": [
    {
     "data": {
      "text/html": [
       "<table class=\"dataframe\">\n",
       "<caption>A data.frame: 6 × 12</caption>\n",
       "<thead>\n",
       "\t<tr><th></th><th scope=col>Sample_Coverage</th><th scope=col>observed_Richness</th><th scope=col>estimated_Richness</th><th scope=col>SE_Richeness</th><th scope=col>observed_Shannon</th><th scope=col>estimated_Shannon</th><th scope=col>SE_Shannon</th><th scope=col>observed_Simpson</th><th scope=col>estimated_Simpson</th><th scope=col>SE_Simpson</th><th scope=col>myclonereads</th><th scope=col>mypercreads</th></tr>\n",
       "\t<tr><th></th><th scope=col>&lt;dbl&gt;</th><th scope=col>&lt;int&gt;</th><th scope=col>&lt;dbl&gt;</th><th scope=col>&lt;dbl&gt;</th><th scope=col>&lt;dbl&gt;</th><th scope=col>&lt;dbl&gt;</th><th scope=col>&lt;dbl&gt;</th><th scope=col>&lt;dbl&gt;</th><th scope=col>&lt;dbl&gt;</th><th scope=col>&lt;dbl&gt;</th><th scope=col>&lt;dbl&gt;</th><th scope=col>&lt;dbl&gt;</th></tr>\n",
       "</thead>\n",
       "<tbody>\n",
       "\t<tr><th scope=row>CLONES_TRBaddjurkat_33089_0.25.txt</th><td>0.674</td><td>61413</td><td>327551.0</td><td>4392.537</td><td> 3461.623</td><td>  8192.009</td><td>104.741</td><td>  15.870</td><td>  15.872</td><td> 0.143</td><td>33089.0</td><td>0.25</td></tr>\n",
       "\t<tr><th scope=row>CLONES_TRBaddjurkat_26471.2_0.2.txt</th><td>0.649</td><td>65973</td><td>352899.8</td><td>4573.564</td><td> 5839.870</td><td> 14750.519</td><td>178.562</td><td>  24.682</td><td>  24.687</td><td> 0.268</td><td>26471.2</td><td>0.20</td></tr>\n",
       "\t<tr><th scope=row>CLONES_TRBaddjurkat_19853.4_0.15.txt</th><td>0.633</td><td>68975</td><td>369200.4</td><td>4680.665</td><td> 8834.573</td><td> 23283.444</td><td>265.989</td><td>  43.241</td><td>  43.255</td><td> 0.529</td><td>19853.4</td><td>0.15</td></tr>\n",
       "\t<tr><th scope=row>CLONES_TRBaddjurkat_13235.6_0.1.txt</th><td>0.608</td><td>73628</td><td>395658.1</td><td>4865.284</td><td>14531.131</td><td> 40959.174</td><td>446.251</td><td>  94.082</td><td>  94.149</td><td> 1.399</td><td>13235.6</td><td>0.10</td></tr>\n",
       "\t<tr><th scope=row>CLONES_TRBaddjurkat_6617.8_0.05.txt</th><td>0.585</td><td>77904</td><td>419545.4</td><td>5021.143</td><td>22729.323</td><td> 68116.038</td><td>553.433</td><td> 317.688</td><td> 318.450</td><td> 6.522</td><td> 6617.8</td><td>0.05</td></tr>\n",
       "\t<tr><th scope=row>A037_PBMC.tsv</th><td>0.560</td><td>82663</td><td>444194.2</td><td>5153.572</td><td>34133.317</td><td>109272.630</td><td>886.448</td><td>1538.708</td><td>1556.795</td><td>32.331</td><td>    0.0</td><td>0.00</td></tr>\n",
       "</tbody>\n",
       "</table>\n"
      ],
      "text/latex": [
       "A data.frame: 6 × 12\n",
       "\\begin{tabular}{r|llllllllllll}\n",
       "  & Sample\\_Coverage & observed\\_Richness & estimated\\_Richness & SE\\_Richeness & observed\\_Shannon & estimated\\_Shannon & SE\\_Shannon & observed\\_Simpson & estimated\\_Simpson & SE\\_Simpson & myclonereads & mypercreads\\\\\n",
       "  & <dbl> & <int> & <dbl> & <dbl> & <dbl> & <dbl> & <dbl> & <dbl> & <dbl> & <dbl> & <dbl> & <dbl>\\\\\n",
       "\\hline\n",
       "\tCLONES\\_TRBaddjurkat\\_33089\\_0.25.txt & 0.674 & 61413 & 327551.0 & 4392.537 &  3461.623 &   8192.009 & 104.741 &   15.870 &   15.872 &  0.143 & 33089.0 & 0.25\\\\\n",
       "\tCLONES\\_TRBaddjurkat\\_26471.2\\_0.2.txt & 0.649 & 65973 & 352899.8 & 4573.564 &  5839.870 &  14750.519 & 178.562 &   24.682 &   24.687 &  0.268 & 26471.2 & 0.20\\\\\n",
       "\tCLONES\\_TRBaddjurkat\\_19853.4\\_0.15.txt & 0.633 & 68975 & 369200.4 & 4680.665 &  8834.573 &  23283.444 & 265.989 &   43.241 &   43.255 &  0.529 & 19853.4 & 0.15\\\\\n",
       "\tCLONES\\_TRBaddjurkat\\_13235.6\\_0.1.txt & 0.608 & 73628 & 395658.1 & 4865.284 & 14531.131 &  40959.174 & 446.251 &   94.082 &   94.149 &  1.399 & 13235.6 & 0.10\\\\\n",
       "\tCLONES\\_TRBaddjurkat\\_6617.8\\_0.05.txt & 0.585 & 77904 & 419545.4 & 5021.143 & 22729.323 &  68116.038 & 553.433 &  317.688 &  318.450 &  6.522 &  6617.8 & 0.05\\\\\n",
       "\tA037\\_PBMC.tsv & 0.560 & 82663 & 444194.2 & 5153.572 & 34133.317 & 109272.630 & 886.448 & 1538.708 & 1556.795 & 32.331 &     0.0 & 0.00\\\\\n",
       "\\end{tabular}\n"
      ],
      "text/markdown": [
       "\n",
       "A data.frame: 6 × 12\n",
       "\n",
       "| <!--/--> | Sample_Coverage &lt;dbl&gt; | observed_Richness &lt;int&gt; | estimated_Richness &lt;dbl&gt; | SE_Richeness &lt;dbl&gt; | observed_Shannon &lt;dbl&gt; | estimated_Shannon &lt;dbl&gt; | SE_Shannon &lt;dbl&gt; | observed_Simpson &lt;dbl&gt; | estimated_Simpson &lt;dbl&gt; | SE_Simpson &lt;dbl&gt; | myclonereads &lt;dbl&gt; | mypercreads &lt;dbl&gt; |\n",
       "|---|---|---|---|---|---|---|---|---|---|---|---|---|\n",
       "| CLONES_TRBaddjurkat_33089_0.25.txt | 0.674 | 61413 | 327551.0 | 4392.537 |  3461.623 |   8192.009 | 104.741 |   15.870 |   15.872 |  0.143 | 33089.0 | 0.25 |\n",
       "| CLONES_TRBaddjurkat_26471.2_0.2.txt | 0.649 | 65973 | 352899.8 | 4573.564 |  5839.870 |  14750.519 | 178.562 |   24.682 |   24.687 |  0.268 | 26471.2 | 0.20 |\n",
       "| CLONES_TRBaddjurkat_19853.4_0.15.txt | 0.633 | 68975 | 369200.4 | 4680.665 |  8834.573 |  23283.444 | 265.989 |   43.241 |   43.255 |  0.529 | 19853.4 | 0.15 |\n",
       "| CLONES_TRBaddjurkat_13235.6_0.1.txt | 0.608 | 73628 | 395658.1 | 4865.284 | 14531.131 |  40959.174 | 446.251 |   94.082 |   94.149 |  1.399 | 13235.6 | 0.10 |\n",
       "| CLONES_TRBaddjurkat_6617.8_0.05.txt | 0.585 | 77904 | 419545.4 | 5021.143 | 22729.323 |  68116.038 | 553.433 |  317.688 |  318.450 |  6.522 |  6617.8 | 0.05 |\n",
       "| A037_PBMC.tsv | 0.560 | 82663 | 444194.2 | 5153.572 | 34133.317 | 109272.630 | 886.448 | 1538.708 | 1556.795 | 32.331 |     0.0 | 0.00 |\n",
       "\n"
      ],
      "text/plain": [
       "                                     Sample_Coverage observed_Richness\n",
       "CLONES_TRBaddjurkat_33089_0.25.txt   0.674           61413            \n",
       "CLONES_TRBaddjurkat_26471.2_0.2.txt  0.649           65973            \n",
       "CLONES_TRBaddjurkat_19853.4_0.15.txt 0.633           68975            \n",
       "CLONES_TRBaddjurkat_13235.6_0.1.txt  0.608           73628            \n",
       "CLONES_TRBaddjurkat_6617.8_0.05.txt  0.585           77904            \n",
       "A037_PBMC.tsv                        0.560           82663            \n",
       "                                     estimated_Richness SE_Richeness\n",
       "CLONES_TRBaddjurkat_33089_0.25.txt   327551.0           4392.537    \n",
       "CLONES_TRBaddjurkat_26471.2_0.2.txt  352899.8           4573.564    \n",
       "CLONES_TRBaddjurkat_19853.4_0.15.txt 369200.4           4680.665    \n",
       "CLONES_TRBaddjurkat_13235.6_0.1.txt  395658.1           4865.284    \n",
       "CLONES_TRBaddjurkat_6617.8_0.05.txt  419545.4           5021.143    \n",
       "A037_PBMC.tsv                        444194.2           5153.572    \n",
       "                                     observed_Shannon estimated_Shannon\n",
       "CLONES_TRBaddjurkat_33089_0.25.txt    3461.623          8192.009       \n",
       "CLONES_TRBaddjurkat_26471.2_0.2.txt   5839.870         14750.519       \n",
       "CLONES_TRBaddjurkat_19853.4_0.15.txt  8834.573         23283.444       \n",
       "CLONES_TRBaddjurkat_13235.6_0.1.txt  14531.131         40959.174       \n",
       "CLONES_TRBaddjurkat_6617.8_0.05.txt  22729.323         68116.038       \n",
       "A037_PBMC.tsv                        34133.317        109272.630       \n",
       "                                     SE_Shannon observed_Simpson\n",
       "CLONES_TRBaddjurkat_33089_0.25.txt   104.741      15.870        \n",
       "CLONES_TRBaddjurkat_26471.2_0.2.txt  178.562      24.682        \n",
       "CLONES_TRBaddjurkat_19853.4_0.15.txt 265.989      43.241        \n",
       "CLONES_TRBaddjurkat_13235.6_0.1.txt  446.251      94.082        \n",
       "CLONES_TRBaddjurkat_6617.8_0.05.txt  553.433     317.688        \n",
       "A037_PBMC.tsv                        886.448    1538.708        \n",
       "                                     estimated_Simpson SE_Simpson myclonereads\n",
       "CLONES_TRBaddjurkat_33089_0.25.txt     15.872           0.143     33089.0     \n",
       "CLONES_TRBaddjurkat_26471.2_0.2.txt    24.687           0.268     26471.2     \n",
       "CLONES_TRBaddjurkat_19853.4_0.15.txt   43.255           0.529     19853.4     \n",
       "CLONES_TRBaddjurkat_13235.6_0.1.txt    94.149           1.399     13235.6     \n",
       "CLONES_TRBaddjurkat_6617.8_0.05.txt   318.450           6.522      6617.8     \n",
       "A037_PBMC.tsv                        1556.795          32.331         0.0     \n",
       "                                     mypercreads\n",
       "CLONES_TRBaddjurkat_33089_0.25.txt   0.25       \n",
       "CLONES_TRBaddjurkat_26471.2_0.2.txt  0.20       \n",
       "CLONES_TRBaddjurkat_19853.4_0.15.txt 0.15       \n",
       "CLONES_TRBaddjurkat_13235.6_0.1.txt  0.10       \n",
       "CLONES_TRBaddjurkat_6617.8_0.05.txt  0.05       \n",
       "A037_PBMC.tsv                        0.00       "
      ]
     },
     "metadata": {},
     "output_type": "display_data"
    }
   ],
   "source": [
    "tail(div_adaptive[,10:21])"
   ]
  },
  {
   "cell_type": "code",
   "execution_count": 31,
   "metadata": {},
   "outputs": [],
   "source": [
    "div_adaptive_m <- reshape2::melt(div_adaptive[,c(\"mypercreads\",\"observed_Shannon\", \"observed_Simpson\", \"observed_Richness\")], \n",
    "                        id = \"mypercreads\")"
   ]
  },
  {
   "cell_type": "code",
   "execution_count": 32,
   "metadata": {},
   "outputs": [
    {
     "data": {
      "text/html": [
       "<table class=\"dataframe\">\n",
       "<caption>A data.frame: 6 × 3</caption>\n",
       "<thead>\n",
       "\t<tr><th></th><th scope=col>mypercreads</th><th scope=col>variable</th><th scope=col>value</th></tr>\n",
       "\t<tr><th></th><th scope=col>&lt;dbl&gt;</th><th scope=col>&lt;fct&gt;</th><th scope=col>&lt;dbl&gt;</th></tr>\n",
       "</thead>\n",
       "<tbody>\n",
       "\t<tr><th scope=row>1</th><td>1.00</td><td>observed_Shannon</td><td> 1.000</td></tr>\n",
       "\t<tr><th scope=row>2</th><td>0.95</td><td>observed_Shannon</td><td> 1.805</td></tr>\n",
       "\t<tr><th scope=row>3</th><td>0.90</td><td>observed_Shannon</td><td> 3.158</td></tr>\n",
       "\t<tr><th scope=row>4</th><td>0.85</td><td>observed_Shannon</td><td> 5.632</td></tr>\n",
       "\t<tr><th scope=row>5</th><td>0.80</td><td>observed_Shannon</td><td> 9.611</td></tr>\n",
       "\t<tr><th scope=row>6</th><td>0.75</td><td>observed_Shannon</td><td>17.442</td></tr>\n",
       "</tbody>\n",
       "</table>\n"
      ],
      "text/latex": [
       "A data.frame: 6 × 3\n",
       "\\begin{tabular}{r|lll}\n",
       "  & mypercreads & variable & value\\\\\n",
       "  & <dbl> & <fct> & <dbl>\\\\\n",
       "\\hline\n",
       "\t1 & 1.00 & observed\\_Shannon &  1.000\\\\\n",
       "\t2 & 0.95 & observed\\_Shannon &  1.805\\\\\n",
       "\t3 & 0.90 & observed\\_Shannon &  3.158\\\\\n",
       "\t4 & 0.85 & observed\\_Shannon &  5.632\\\\\n",
       "\t5 & 0.80 & observed\\_Shannon &  9.611\\\\\n",
       "\t6 & 0.75 & observed\\_Shannon & 17.442\\\\\n",
       "\\end{tabular}\n"
      ],
      "text/markdown": [
       "\n",
       "A data.frame: 6 × 3\n",
       "\n",
       "| <!--/--> | mypercreads &lt;dbl&gt; | variable &lt;fct&gt; | value &lt;dbl&gt; |\n",
       "|---|---|---|---|\n",
       "| 1 | 1.00 | observed_Shannon |  1.000 |\n",
       "| 2 | 0.95 | observed_Shannon |  1.805 |\n",
       "| 3 | 0.90 | observed_Shannon |  3.158 |\n",
       "| 4 | 0.85 | observed_Shannon |  5.632 |\n",
       "| 5 | 0.80 | observed_Shannon |  9.611 |\n",
       "| 6 | 0.75 | observed_Shannon | 17.442 |\n",
       "\n"
      ],
      "text/plain": [
       "  mypercreads variable         value \n",
       "1 1.00        observed_Shannon  1.000\n",
       "2 0.95        observed_Shannon  1.805\n",
       "3 0.90        observed_Shannon  3.158\n",
       "4 0.85        observed_Shannon  5.632\n",
       "5 0.80        observed_Shannon  9.611\n",
       "6 0.75        observed_Shannon 17.442"
      ]
     },
     "metadata": {},
     "output_type": "display_data"
    }
   ],
   "source": [
    "head(div_adaptive_m)"
   ]
  },
  {
   "cell_type": "code",
   "execution_count": 58,
   "metadata": {},
   "outputs": [],
   "source": [
    "plot_adaptive <- ggplot(data = div_adaptive_m, \n",
    "                        aes(x = mypercreads, y = value, color = variable)) + geom_point(size = 25) + \n",
    "myplot + myaxis +\n",
    "theme(axis.title = element_text(size = 70), \n",
    "      axis.text.x = element_text(size = 70),\n",
    "      axis.text.y = element_text(size = 70),\n",
    "    legend.position = \"top\", legend.title = element_blank()) +\n",
    "scale_y_continuous(trans = \"log10\",\n",
    "                   labels = scales::label_number(accuracy = 1)) + annotation_logticks(sides = \"l\") "
   ]
  },
  {
   "cell_type": "code",
   "execution_count": 59,
   "metadata": {},
   "outputs": [
    {
     "data": {
      "image/png": "[encoded data removed]",
      "text/plain": [
       "plot without title"
      ]
     },
     "metadata": {
      "image/png": {
       "height": 420,
       "width": 420
      }
     },
     "output_type": "display_data"
    }
   ],
   "source": [
    "plot_adaptive"
   ]
  },
  {
   "cell_type": "code",
   "execution_count": 60,
   "metadata": {},
   "outputs": [
    {
     "data": {
      "text/html": [
       "<strong>pdf:</strong> 2"
      ],
      "text/latex": [
       "\\textbf{pdf:} 2"
      ],
      "text/markdown": [
       "**pdf:** 2"
      ],
      "text/plain": [
       "pdf \n",
       "  2 "
      ]
     },
     "metadata": {},
     "output_type": "display_data"
    }
   ],
   "source": [
    "  pdf(paste0(plotpath, \"plot_adaptive.pdf\"),\n",
    "      width = 30,\n",
    "      height = 20,\n",
    "      useDingbats = FALSE,\n",
    "      onefile = FALSE)\n",
    "  print(plot_adaptive)\n",
    "  dev.off()"
   ]
  },
  {
   "cell_type": "code",
   "execution_count": null,
   "metadata": {},
   "outputs": [],
   "source": []
  },
  {
   "cell_type": "code",
   "execution_count": null,
   "metadata": {},
   "outputs": [],
   "source": []
  }
 ],
 "metadata": {
  "kernelspec": {
   "display_name": "R 4.0",
   "language": "R",
   "name": "ir40"
  },
  "language_info": {
   "codemirror_mode": "r",
   "file_extension": ".r",
   "mimetype": "text/x-r-source",
   "name": "R",
   "pygments_lexer": "r",
   "version": "4.0.3"
  },
  "toc": {
   "base_numbering": 1,
   "nav_menu": {},
   "number_sections": false,
   "sideBar": true,
   "skip_h1_title": false,
   "title_cell": "Table of Contents",
   "title_sidebar": "Contents",
   "toc_cell": true,
   "toc_position": {
    "height": "calc(100% - 180px)",
    "left": "10px",
    "top": "150px",
    "width": "217.3px"
   },
   "toc_section_display": true,
   "toc_window_display": true
  }
 },
 "nbformat": 4,
 "nbformat_minor": 2
}
