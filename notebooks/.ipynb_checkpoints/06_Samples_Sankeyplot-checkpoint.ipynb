{
 "cells": [
  {
   "cell_type": "markdown",
   "metadata": {
    "toc": true
   },
   "source": [
    "<h1>Table of Contents<span class=\"tocSkip\"></span></h1>\n",
    "<div class=\"toc\"><ul class=\"toc-item\"><li><span><a href=\"#Dependencies\" data-toc-modified-id=\"Dependencies-1\">Dependencies</a></span></li><li><span><a href=\"#Paths\" data-toc-modified-id=\"Paths-2\">Paths</a></span></li><li><span><a href=\"#Main\" data-toc-modified-id=\"Main-3\">Main</a></span></li><li><span><a href=\"#Tumor-set\" data-toc-modified-id=\"Tumor-set-4\">Tumor set</a></span></li><li><span><a href=\"#PBMC\" data-toc-modified-id=\"PBMC-5\">PBMC</a></span></li><li><span><a href=\"#cfDNA\" data-toc-modified-id=\"cfDNA-6\">cfDNA</a></span></li></ul></div>"
   ]
  },
  {
   "cell_type": "markdown",
   "metadata": {},
   "source": [
    "# Dependencies"
   ]
  },
  {
   "cell_type": "code",
   "execution_count": 1,
   "metadata": {
    "scrolled": true
   },
   "outputs": [
    {
     "name": "stderr",
     "output_type": "stream",
     "text": [
      "\n",
      "Attaching package: ‘dplyr’\n",
      "\n",
      "\n",
      "The following objects are masked from ‘package:stats’:\n",
      "\n",
      "    filter, lag\n",
      "\n",
      "\n",
      "The following objects are masked from ‘package:base’:\n",
      "\n",
      "    intersect, setdiff, setequal, union\n",
      "\n",
      "\n"
     ]
    }
   ],
   "source": [
    "library(ggsankey)\n",
    "library(dplyr)"
   ]
  },
  {
   "cell_type": "code",
   "execution_count": 2,
   "metadata": {},
   "outputs": [],
   "source": [
    "library(openxlsx)"
   ]
  },
  {
   "cell_type": "code",
   "execution_count": 3,
   "metadata": {},
   "outputs": [],
   "source": [
    "source(\"/Users/anabbi/git/ped_CapTCRseq/R/ggplot2_theme.R\")\n",
    "source(\"/Users/anabbi/git/ped_CapTCRseq/R/color_schemes.R\")"
   ]
  },
  {
   "cell_type": "markdown",
   "metadata": {},
   "source": [
    "# Paths"
   ]
  },
  {
   "cell_type": "code",
   "execution_count": 4,
   "metadata": {},
   "outputs": [],
   "source": [
    "datapath <- \"/Users/anabbi/OneDrive - UHN/Documents/INTERCEPT/Data/\"\n",
    "plotpath <- \"/Users/anabbi/OneDrive - UHN/Documents/INTERCEPT/Plots/\"\n",
    "manifestpath <- \"/Users/anabbi/OneDrive - UHN/Documents/INTERCEPT/Manifests/\"\n",
    "\n",
    "gitpath <- \"/Users/anabbi/git/ped_CapTCRseq/\""
   ]
  },
  {
   "cell_type": "markdown",
   "metadata": {},
   "source": [
    "# Main"
   ]
  },
  {
   "cell_type": "markdown",
   "metadata": {},
   "source": [
    "# Tumor set"
   ]
  },
  {
   "cell_type": "code",
   "execution_count": 5,
   "metadata": {},
   "outputs": [],
   "source": [
    "load(file = paste0(gitpath, \"data/tumor_sampleprocessing.RData\"))"
   ]
  },
  {
   "cell_type": "code",
   "execution_count": 6,
   "metadata": {},
   "outputs": [],
   "source": [
    "df <- make_long(ffpe_samples, Shipped, `Library preparation`, `Successful capture`, \n",
    "                `Deep sequencing`, `TCR analysis`, Group, Tumor)"
   ]
  },
  {
   "cell_type": "code",
   "execution_count": 7,
   "metadata": {},
   "outputs": [
    {
     "data": {
      "text/html": [
       "<table class=\"dataframe\">\n",
       "<caption>A tibble: 6 × 4</caption>\n",
       "<thead>\n",
       "\t<tr><th scope=col>x</th><th scope=col>node</th><th scope=col>next_x</th><th scope=col>next_node</th></tr>\n",
       "\t<tr><th scope=col>&lt;fct&gt;</th><th scope=col>&lt;chr&gt;</th><th scope=col>&lt;fct&gt;</th><th scope=col>&lt;chr&gt;</th></tr>\n",
       "</thead>\n",
       "<tbody>\n",
       "\t<tr><td>Library preparation</td><td>n = 25  </td><td>Successful capture</td><td>n = 23  </td></tr>\n",
       "\t<tr><td>Successful capture </td><td>n = 23  </td><td>Deep sequencing   </td><td>n = 21  </td></tr>\n",
       "\t<tr><td>Deep sequencing    </td><td>n = 21  </td><td>TCR analysis      </td><td>n = 17  </td></tr>\n",
       "\t<tr><td>TCR analysis       </td><td>n = 17  </td><td>Group             </td><td>Lymphoma</td></tr>\n",
       "\t<tr><td>Group              </td><td>Lymphoma</td><td>Tumor             </td><td>HD      </td></tr>\n",
       "\t<tr><td>Tumor              </td><td>HD      </td><td>NA                </td><td>NA      </td></tr>\n",
       "</tbody>\n",
       "</table>\n"
      ],
      "text/latex": [
       "A tibble: 6 × 4\n",
       "\\begin{tabular}{llll}\n",
       " x & node & next\\_x & next\\_node\\\\\n",
       " <fct> & <chr> & <fct> & <chr>\\\\\n",
       "\\hline\n",
       "\t Library preparation & n = 25   & Successful capture & n = 23  \\\\\n",
       "\t Successful capture  & n = 23   & Deep sequencing    & n = 21  \\\\\n",
       "\t Deep sequencing     & n = 21   & TCR analysis       & n = 17  \\\\\n",
       "\t TCR analysis        & n = 17   & Group              & Lymphoma\\\\\n",
       "\t Group               & Lymphoma & Tumor              & HD      \\\\\n",
       "\t Tumor               & HD       & NA                 & NA      \\\\\n",
       "\\end{tabular}\n"
      ],
      "text/markdown": [
       "\n",
       "A tibble: 6 × 4\n",
       "\n",
       "| x &lt;fct&gt; | node &lt;chr&gt; | next_x &lt;fct&gt; | next_node &lt;chr&gt; |\n",
       "|---|---|---|---|\n",
       "| Library preparation | n = 25   | Successful capture | n = 23   |\n",
       "| Successful capture  | n = 23   | Deep sequencing    | n = 21   |\n",
       "| Deep sequencing     | n = 21   | TCR analysis       | n = 17   |\n",
       "| TCR analysis        | n = 17   | Group              | Lymphoma |\n",
       "| Group               | Lymphoma | Tumor              | HD       |\n",
       "| Tumor               | HD       | NA                 | NA       |\n",
       "\n"
      ],
      "text/plain": [
       "  x                   node     next_x             next_node\n",
       "1 Library preparation n = 25   Successful capture n = 23   \n",
       "2 Successful capture  n = 23   Deep sequencing    n = 21   \n",
       "3 Deep sequencing     n = 21   TCR analysis       n = 17   \n",
       "4 TCR analysis        n = 17   Group              Lymphoma \n",
       "5 Group               Lymphoma Tumor              HD       \n",
       "6 Tumor               HD       NA                 NA       "
      ]
     },
     "metadata": {},
     "output_type": "display_data"
    }
   ],
   "source": [
    "tail(df)"
   ]
  },
  {
   "cell_type": "code",
   "execution_count": 8,
   "metadata": {},
   "outputs": [
    {
     "data": {
      "text/html": [
       "<style>\n",
       ".list-inline {list-style: none; margin:0; padding: 0}\n",
       ".list-inline>li {display: inline-block}\n",
       ".list-inline>li:not(:last-child)::after {content: \"\\00b7\"; padding: 0 .5ex}\n",
       "</style>\n",
       "<ol class=list-inline><li>'n = 25'</li><li>'n = 23'</li><li>'n = 21'</li><li>'n = 4'</li><li>NA</li><li>'n = 17'</li><li>'Lymphoma'</li><li>'BL'</li><li>'n = 2'</li><li>'Solid'</li><li>'ERMS'</li><li>'BLL'</li><li>'NB'</li><li>'ALCL'</li><li>'DLBCL'</li><li>'OS'</li><li>'HD'</li><li>'PMBCL'</li></ol>\n"
      ],
      "text/latex": [
       "\\begin{enumerate*}\n",
       "\\item 'n = 25'\n",
       "\\item 'n = 23'\n",
       "\\item 'n = 21'\n",
       "\\item 'n = 4'\n",
       "\\item NA\n",
       "\\item 'n = 17'\n",
       "\\item 'Lymphoma'\n",
       "\\item 'BL'\n",
       "\\item 'n = 2'\n",
       "\\item 'Solid'\n",
       "\\item 'ERMS'\n",
       "\\item 'BLL'\n",
       "\\item 'NB'\n",
       "\\item 'ALCL'\n",
       "\\item 'DLBCL'\n",
       "\\item 'OS'\n",
       "\\item 'HD'\n",
       "\\item 'PMBCL'\n",
       "\\end{enumerate*}\n"
      ],
      "text/markdown": [
       "1. 'n = 25'\n",
       "2. 'n = 23'\n",
       "3. 'n = 21'\n",
       "4. 'n = 4'\n",
       "5. NA\n",
       "6. 'n = 17'\n",
       "7. 'Lymphoma'\n",
       "8. 'BL'\n",
       "9. 'n = 2'\n",
       "10. 'Solid'\n",
       "11. 'ERMS'\n",
       "12. 'BLL'\n",
       "13. 'NB'\n",
       "14. 'ALCL'\n",
       "15. 'DLBCL'\n",
       "16. 'OS'\n",
       "17. 'HD'\n",
       "18. 'PMBCL'\n",
       "\n",
       "\n"
      ],
      "text/plain": [
       " [1] \"n = 25\"   \"n = 23\"   \"n = 21\"   \"n = 4\"    NA         \"n = 17\"  \n",
       " [7] \"Lymphoma\" \"BL\"       \"n = 2\"    \"Solid\"    \"ERMS\"     \"BLL\"     \n",
       "[13] \"NB\"       \"ALCL\"     \"DLBCL\"    \"OS\"       \"HD\"       \"PMBCL\"   "
      ]
     },
     "metadata": {},
     "output_type": "display_data"
    }
   ],
   "source": [
    "unique(df$node)"
   ]
  },
  {
   "cell_type": "code",
   "execution_count": 9,
   "metadata": {},
   "outputs": [],
   "source": [
    "df$next_node <- factor(df$next_node, levels = c('ALCL','BL','BLL','DLBCL','ERMS','HD',\n",
    "                                      'Lymphoma','n = 4','n = 17','n = 2','n = 23',\n",
    "                                      'n = 21','n = 25','NB','OS','PMBCL','Solid'))\n",
    "\n",
    "df$node <- factor(df$node, levels = c('ALCL','BL','BLL','DLBCL','ERMS','HD',\n",
    "                                      'Lymphoma','n = 4','n = 17','n = 2','n = 23',\n",
    "                                      'n = 21','n = 25','NB','OS','PMBCL','Solid'))"
   ]
  },
  {
   "cell_type": "code",
   "execution_count": 10,
   "metadata": {},
   "outputs": [],
   "source": [
    "library(randomcoloR)\n",
    "set.seed(5250)\n",
    "myColors <- distinctColorPalette(17)\n",
    "names(myColors) <- levels(factor(df$node))"
   ]
  },
  {
   "cell_type": "code",
   "execution_count": 11,
   "metadata": {},
   "outputs": [],
   "source": [
    "#failed samples color grey\n",
    "myColors[\"n = 2\"] <- \"grey\"\n",
    "myColors[\"n = 4\"] <- \"grey\""
   ]
  },
  {
   "cell_type": "code",
   "execution_count": 12,
   "metadata": {},
   "outputs": [],
   "source": [
    "# Tumor types white\n",
    "myColors[names(myColors) %in% c(\"ALCL\", \"BL\", \"BLL\", \"DLBCL\", \"ERMS\", \"HD\", \"PMBCL\", \"NB\", \"OS\")] <- \"white\""
   ]
  },
  {
   "cell_type": "code",
   "execution_count": 13,
   "metadata": {},
   "outputs": [],
   "source": [
    "sankey <- ggplot(df, aes(x = x, \n",
    "               next_x = next_x, \n",
    "               node = node, \n",
    "               next_node = next_node,\n",
    "               fill = node, color = node,\n",
    "               label = node)) +\n",
    "  geom_sankey(flow.alpha = 0.5, na.rm = TRUE) +\n",
    "  theme_sankey(base_size = 16) +\n",
    "  geom_sankey_label(size = 5, hjust = 0.5,\n",
    "                    color = 1, label.size = 0,\n",
    "                    fill = alpha(\"white\",0), na.rm = TRUE) +\n",
    "theme(legend.position = \"none\", \n",
    "      axis.title.x = element_blank(),\n",
    "      axis.text.x = element_text(size = 20, color = \"black\"),\n",
    "     plot.title = element_text(hjust = 0.5, size = 30)) +\n",
    "scale_fill_manual(values = myColors, na.value=\"white\")+\n",
    "scale_color_manual(values = myColors, na.value=\"white\") + \n",
    "labs(title = \"Tumor sample processing\")"
   ]
  },
  {
   "cell_type": "code",
   "execution_count": 14,
   "metadata": {},
   "outputs": [
    {
     "data": {
      "text/html": [
       "<strong>pdf:</strong> 2"
      ],
      "text/latex": [
       "\\textbf{pdf:} 2"
      ],
      "text/markdown": [
       "**pdf:** 2"
      ],
      "text/plain": [
       "pdf \n",
       "  2 "
      ]
     },
     "metadata": {},
     "output_type": "display_data"
    }
   ],
   "source": [
    "pdf(paste0(plotpath, \"tumor_sankey.pdf\"),\n",
    "   width = 20, height = 10)\n",
    "sankey\n",
    "dev.off()"
   ]
  },
  {
   "cell_type": "markdown",
   "metadata": {},
   "source": [
    "# PBMC"
   ]
  },
  {
   "cell_type": "code",
   "execution_count": 15,
   "metadata": {},
   "outputs": [],
   "source": [
    "load(file = paste0(gitpath, \"data/pbmc_sampleprocessing.RData\"))"
   ]
  },
  {
   "cell_type": "code",
   "execution_count": 16,
   "metadata": {},
   "outputs": [],
   "source": [
    "df <- make_long(pbmc_samples, Shipped, `Library preparation`, `Successful capture`, \n",
    "                `Deep sequencing`, `TCR analysis`, Group, Tumor)"
   ]
  },
  {
   "cell_type": "code",
   "execution_count": 17,
   "metadata": {},
   "outputs": [
    {
     "data": {
      "text/html": [
       "<table class=\"dataframe\">\n",
       "<caption>A tibble: 6 × 4</caption>\n",
       "<thead>\n",
       "\t<tr><th scope=col>x</th><th scope=col>node</th><th scope=col>next_x</th><th scope=col>next_node</th></tr>\n",
       "\t<tr><th scope=col>&lt;fct&gt;</th><th scope=col>&lt;chr&gt;</th><th scope=col>&lt;fct&gt;</th><th scope=col>&lt;chr&gt;</th></tr>\n",
       "</thead>\n",
       "<tbody>\n",
       "\t<tr><td>Library preparation</td><td>n = 281</td><td>Successful capture</td><td>n = 277</td></tr>\n",
       "\t<tr><td>Successful capture </td><td>n = 277</td><td>Deep sequencing   </td><td>n = 277</td></tr>\n",
       "\t<tr><td>Deep sequencing    </td><td>n = 277</td><td>TCR analysis      </td><td>n = 272</td></tr>\n",
       "\t<tr><td>TCR analysis       </td><td>n = 272</td><td>Group             </td><td>NA     </td></tr>\n",
       "\t<tr><td>Group              </td><td>NA     </td><td>Tumor             </td><td>NA     </td></tr>\n",
       "\t<tr><td>Tumor              </td><td>NA     </td><td>NA                </td><td>NA     </td></tr>\n",
       "</tbody>\n",
       "</table>\n"
      ],
      "text/latex": [
       "A tibble: 6 × 4\n",
       "\\begin{tabular}{llll}\n",
       " x & node & next\\_x & next\\_node\\\\\n",
       " <fct> & <chr> & <fct> & <chr>\\\\\n",
       "\\hline\n",
       "\t Library preparation & n = 281 & Successful capture & n = 277\\\\\n",
       "\t Successful capture  & n = 277 & Deep sequencing    & n = 277\\\\\n",
       "\t Deep sequencing     & n = 277 & TCR analysis       & n = 272\\\\\n",
       "\t TCR analysis        & n = 272 & Group              & NA     \\\\\n",
       "\t Group               & NA      & Tumor              & NA     \\\\\n",
       "\t Tumor               & NA      & NA                 & NA     \\\\\n",
       "\\end{tabular}\n"
      ],
      "text/markdown": [
       "\n",
       "A tibble: 6 × 4\n",
       "\n",
       "| x &lt;fct&gt; | node &lt;chr&gt; | next_x &lt;fct&gt; | next_node &lt;chr&gt; |\n",
       "|---|---|---|---|\n",
       "| Library preparation | n = 281 | Successful capture | n = 277 |\n",
       "| Successful capture  | n = 277 | Deep sequencing    | n = 277 |\n",
       "| Deep sequencing     | n = 277 | TCR analysis       | n = 272 |\n",
       "| TCR analysis        | n = 272 | Group              | NA      |\n",
       "| Group               | NA      | Tumor              | NA      |\n",
       "| Tumor               | NA      | NA                 | NA      |\n",
       "\n"
      ],
      "text/plain": [
       "  x                   node    next_x             next_node\n",
       "1 Library preparation n = 281 Successful capture n = 277  \n",
       "2 Successful capture  n = 277 Deep sequencing    n = 277  \n",
       "3 Deep sequencing     n = 277 TCR analysis       n = 272  \n",
       "4 TCR analysis        n = 272 Group              NA       \n",
       "5 Group               NA      Tumor              NA       \n",
       "6 Tumor               NA      NA                 NA       "
      ]
     },
     "metadata": {},
     "output_type": "display_data"
    }
   ],
   "source": [
    "tail(df)"
   ]
  },
  {
   "cell_type": "code",
   "execution_count": 18,
   "metadata": {},
   "outputs": [
    {
     "data": {
      "text/html": [
       "30"
      ],
      "text/latex": [
       "30"
      ],
      "text/markdown": [
       "30"
      ],
      "text/plain": [
       "[1] 30"
      ]
     },
     "metadata": {},
     "output_type": "display_data"
    }
   ],
   "source": [
    "length(unique(df$node))"
   ]
  },
  {
   "cell_type": "code",
   "execution_count": 19,
   "metadata": {},
   "outputs": [],
   "source": [
    "library(randomcoloR)\n",
    "set.seed(5250)\n",
    "myColors <- distinctColorPalette(30)\n",
    "names(myColors) <- levels(factor(df$node))"
   ]
  },
  {
   "cell_type": "code",
   "execution_count": 20,
   "metadata": {},
   "outputs": [],
   "source": [
    "#failed samples color grey\n",
    "myColors[\"n = 24\"] <- \"grey\"\n",
    "myColors[\"n = 4\"] <- \"grey\"\n",
    "myColors[\"n = 39\"] <- \"grey\""
   ]
  },
  {
   "cell_type": "code",
   "execution_count": 21,
   "metadata": {},
   "outputs": [],
   "source": [
    "# Tumor types white\n",
    "myColors[names(myColors) %in% c(\"ALCL\", \"BL\", \"BLL\", \"DLBCL\", \"ERMS\", \"HD\", \"PMBCL\", \"NB\", \"OS\", \"WILMS\",\n",
    "                               \"T-ALL\", \"SR-ALL\", \"HR ALL\", \"HB\", \"EWS\", \"CML\", \"ARMS\",\n",
    "                               \"AML\", \"ALL\")] <- \"white\""
   ]
  },
  {
   "cell_type": "code",
   "execution_count": 22,
   "metadata": {},
   "outputs": [
    {
     "data": {
      "text/html": [
       "<table class=\"dataframe\">\n",
       "<caption>A tibble: 6 × 4</caption>\n",
       "<thead>\n",
       "\t<tr><th scope=col>x</th><th scope=col>node</th><th scope=col>next_x</th><th scope=col>next_node</th></tr>\n",
       "\t<tr><th scope=col>&lt;fct&gt;</th><th scope=col>&lt;chr&gt;</th><th scope=col>&lt;fct&gt;</th><th scope=col>&lt;chr&gt;</th></tr>\n",
       "</thead>\n",
       "<tbody>\n",
       "\t<tr><td>Shipped            </td><td>n = 320</td><td>Library preparation</td><td>n = 281</td></tr>\n",
       "\t<tr><td>Library preparation</td><td>n = 281</td><td>Successful capture </td><td>n = 277</td></tr>\n",
       "\t<tr><td>Successful capture </td><td>n = 277</td><td>Deep sequencing    </td><td>n = 277</td></tr>\n",
       "\t<tr><td>Deep sequencing    </td><td>n = 277</td><td>TCR analysis       </td><td>n = 272</td></tr>\n",
       "\t<tr><td>TCR analysis       </td><td>n = 272</td><td>Group              </td><td>Solid  </td></tr>\n",
       "\t<tr><td>Group              </td><td>Solid  </td><td>Tumor              </td><td>OS     </td></tr>\n",
       "</tbody>\n",
       "</table>\n"
      ],
      "text/latex": [
       "A tibble: 6 × 4\n",
       "\\begin{tabular}{llll}\n",
       " x & node & next\\_x & next\\_node\\\\\n",
       " <fct> & <chr> & <fct> & <chr>\\\\\n",
       "\\hline\n",
       "\t Shipped             & n = 320 & Library preparation & n = 281\\\\\n",
       "\t Library preparation & n = 281 & Successful capture  & n = 277\\\\\n",
       "\t Successful capture  & n = 277 & Deep sequencing     & n = 277\\\\\n",
       "\t Deep sequencing     & n = 277 & TCR analysis        & n = 272\\\\\n",
       "\t TCR analysis        & n = 272 & Group               & Solid  \\\\\n",
       "\t Group               & Solid   & Tumor               & OS     \\\\\n",
       "\\end{tabular}\n"
      ],
      "text/markdown": [
       "\n",
       "A tibble: 6 × 4\n",
       "\n",
       "| x &lt;fct&gt; | node &lt;chr&gt; | next_x &lt;fct&gt; | next_node &lt;chr&gt; |\n",
       "|---|---|---|---|\n",
       "| Shipped             | n = 320 | Library preparation | n = 281 |\n",
       "| Library preparation | n = 281 | Successful capture  | n = 277 |\n",
       "| Successful capture  | n = 277 | Deep sequencing     | n = 277 |\n",
       "| Deep sequencing     | n = 277 | TCR analysis        | n = 272 |\n",
       "| TCR analysis        | n = 272 | Group               | Solid   |\n",
       "| Group               | Solid   | Tumor               | OS      |\n",
       "\n"
      ],
      "text/plain": [
       "  x                   node    next_x              next_node\n",
       "1 Shipped             n = 320 Library preparation n = 281  \n",
       "2 Library preparation n = 281 Successful capture  n = 277  \n",
       "3 Successful capture  n = 277 Deep sequencing     n = 277  \n",
       "4 Deep sequencing     n = 277 TCR analysis        n = 272  \n",
       "5 TCR analysis        n = 272 Group               Solid    \n",
       "6 Group               Solid   Tumor               OS       "
      ]
     },
     "metadata": {},
     "output_type": "display_data"
    }
   ],
   "source": [
    "head(df)"
   ]
  },
  {
   "cell_type": "code",
   "execution_count": 23,
   "metadata": {},
   "outputs": [],
   "source": [
    "df$spacing <- NA\n",
    "df$spacing[ df$x == \"Group\"] <- \"10\""
   ]
  },
  {
   "cell_type": "code",
   "execution_count": 24,
   "metadata": {},
   "outputs": [
    {
     "data": {
      "text/html": [
       "<table class=\"dataframe\">\n",
       "<caption>A tibble: 6 × 5</caption>\n",
       "<thead>\n",
       "\t<tr><th scope=col>x</th><th scope=col>node</th><th scope=col>next_x</th><th scope=col>next_node</th><th scope=col>spacing</th></tr>\n",
       "\t<tr><th scope=col>&lt;fct&gt;</th><th scope=col>&lt;chr&gt;</th><th scope=col>&lt;fct&gt;</th><th scope=col>&lt;chr&gt;</th><th scope=col>&lt;chr&gt;</th></tr>\n",
       "</thead>\n",
       "<tbody>\n",
       "\t<tr><td>Shipped            </td><td>n = 320</td><td>Library preparation</td><td>n = 281</td><td>NA</td></tr>\n",
       "\t<tr><td>Library preparation</td><td>n = 281</td><td>Successful capture </td><td>n = 277</td><td>NA</td></tr>\n",
       "\t<tr><td>Successful capture </td><td>n = 277</td><td>Deep sequencing    </td><td>n = 277</td><td>NA</td></tr>\n",
       "\t<tr><td>Deep sequencing    </td><td>n = 277</td><td>TCR analysis       </td><td>n = 272</td><td>NA</td></tr>\n",
       "\t<tr><td>TCR analysis       </td><td>n = 272</td><td>Group              </td><td>Solid  </td><td>NA</td></tr>\n",
       "\t<tr><td>Group              </td><td>Solid  </td><td>Tumor              </td><td>OS     </td><td>10</td></tr>\n",
       "</tbody>\n",
       "</table>\n"
      ],
      "text/latex": [
       "A tibble: 6 × 5\n",
       "\\begin{tabular}{lllll}\n",
       " x & node & next\\_x & next\\_node & spacing\\\\\n",
       " <fct> & <chr> & <fct> & <chr> & <chr>\\\\\n",
       "\\hline\n",
       "\t Shipped             & n = 320 & Library preparation & n = 281 & NA\\\\\n",
       "\t Library preparation & n = 281 & Successful capture  & n = 277 & NA\\\\\n",
       "\t Successful capture  & n = 277 & Deep sequencing     & n = 277 & NA\\\\\n",
       "\t Deep sequencing     & n = 277 & TCR analysis        & n = 272 & NA\\\\\n",
       "\t TCR analysis        & n = 272 & Group               & Solid   & NA\\\\\n",
       "\t Group               & Solid   & Tumor               & OS      & 10\\\\\n",
       "\\end{tabular}\n"
      ],
      "text/markdown": [
       "\n",
       "A tibble: 6 × 5\n",
       "\n",
       "| x &lt;fct&gt; | node &lt;chr&gt; | next_x &lt;fct&gt; | next_node &lt;chr&gt; | spacing &lt;chr&gt; |\n",
       "|---|---|---|---|---|\n",
       "| Shipped             | n = 320 | Library preparation | n = 281 | NA |\n",
       "| Library preparation | n = 281 | Successful capture  | n = 277 | NA |\n",
       "| Successful capture  | n = 277 | Deep sequencing     | n = 277 | NA |\n",
       "| Deep sequencing     | n = 277 | TCR analysis        | n = 272 | NA |\n",
       "| TCR analysis        | n = 272 | Group               | Solid   | NA |\n",
       "| Group               | Solid   | Tumor               | OS      | 10 |\n",
       "\n"
      ],
      "text/plain": [
       "  x                   node    next_x              next_node spacing\n",
       "1 Shipped             n = 320 Library preparation n = 281   NA     \n",
       "2 Library preparation n = 281 Successful capture  n = 277   NA     \n",
       "3 Successful capture  n = 277 Deep sequencing     n = 277   NA     \n",
       "4 Deep sequencing     n = 277 TCR analysis        n = 272   NA     \n",
       "5 TCR analysis        n = 272 Group               Solid     NA     \n",
       "6 Group               Solid   Tumor               OS        10     "
      ]
     },
     "metadata": {},
     "output_type": "display_data"
    }
   ],
   "source": [
    "head(df)"
   ]
  },
  {
   "cell_type": "code",
   "execution_count": 25,
   "metadata": {},
   "outputs": [],
   "source": [
    "sankey <- ggplot(df, aes(x = x, \n",
    "               next_x = next_x, \n",
    "               node = node, \n",
    "               next_node = next_node,\n",
    "               fill = node, color = node, \n",
    "               label = node)) +\n",
    "  geom_sankey(flow.alpha = 0.5, na.rm = TRUE) +\n",
    "  theme_sankey(base_size = 16) +\n",
    "  geom_sankey_label(size = 5, hjust = 0.5,\n",
    "                    color = 1, label.size = 0,\n",
    "                    fill = alpha(\"white\",0), na.rm = TRUE) +\n",
    "theme(legend.position = \"none\", \n",
    "      axis.title.x = element_blank(),\n",
    "      axis.text.x = element_text(size = 20, color = \"black\"),\n",
    "     plot.title = element_text(hjust = 0.5, size = 30)) +\n",
    "scale_fill_manual(values = myColors, na.value=\"white\")+\n",
    "scale_color_manual(values = myColors, na.value=\"white\") + \n",
    "labs(title = \"PBMC sample processing\")"
   ]
  },
  {
   "cell_type": "code",
   "execution_count": 26,
   "metadata": {},
   "outputs": [
    {
     "data": {
      "text/html": [
       "<strong>pdf:</strong> 2"
      ],
      "text/latex": [
       "\\textbf{pdf:} 2"
      ],
      "text/markdown": [
       "**pdf:** 2"
      ],
      "text/plain": [
       "pdf \n",
       "  2 "
      ]
     },
     "metadata": {},
     "output_type": "display_data"
    }
   ],
   "source": [
    "pdf(paste0(plotpath, \"pbmc_sankey.pdf\"),\n",
    "   width = 20, height = 10)\n",
    "sankey\n",
    "dev.off()"
   ]
  },
  {
   "cell_type": "markdown",
   "metadata": {},
   "source": [
    "# cfDNA"
   ]
  },
  {
   "cell_type": "code",
   "execution_count": 21,
   "metadata": {},
   "outputs": [],
   "source": [
    "load(file = paste0(gitpath, \"data/cfdna_sampleprocessing.RData\"))"
   ]
  },
  {
   "cell_type": "code",
   "execution_count": 22,
   "metadata": {},
   "outputs": [
    {
     "data": {
      "text/html": [
       "<table class=\"dataframe\">\n",
       "<caption>A data.frame: 6 × 19</caption>\n",
       "<thead>\n",
       "\t<tr><th></th><th scope=col>sample_id</th><th scope=col>DNA samples</th><th scope=col>DNAextracted</th><th scope=col>DNAused</th><th scope=col>librarypassed</th><th scope=col>Library preparation</th><th scope=col>libraryyield</th><th scope=col>DNAforcapture</th><th scope=col>captureyield</th><th scope=col>capturepassed</th><th scope=col>Successful capture</th><th scope=col>deepseq</th><th scope=col>Deep sequencing</th><th scope=col>mysample_id</th><th scope=col>TCR</th><th scope=col>TCR analysis</th><th scope=col>Patient</th><th scope=col>Tumor</th><th scope=col>Group</th></tr>\n",
       "\t<tr><th></th><th scope=col>&lt;chr&gt;</th><th scope=col>&lt;chr&gt;</th><th scope=col>&lt;dbl&gt;</th><th scope=col>&lt;dbl&gt;</th><th scope=col>&lt;chr&gt;</th><th scope=col>&lt;chr&gt;</th><th scope=col>&lt;dbl&gt;</th><th scope=col>&lt;dbl&gt;</th><th scope=col>&lt;dbl&gt;</th><th scope=col>&lt;chr&gt;</th><th scope=col>&lt;chr&gt;</th><th scope=col>&lt;chr&gt;</th><th scope=col>&lt;chr&gt;</th><th scope=col>&lt;chr&gt;</th><th scope=col>&lt;chr&gt;</th><th scope=col>&lt;chr&gt;</th><th scope=col>&lt;chr&gt;</th><th scope=col>&lt;chr&gt;</th><th scope=col>&lt;chr&gt;</th></tr>\n",
       "</thead>\n",
       "<tbody>\n",
       "\t<tr><th scope=row>1</th><td>346-01</td><td>n = 316</td><td>19.5600</td><td>20</td><td>Passed</td><td>n = 316</td><td>237.12</td><td>    NA</td><td>    NA</td><td>Failed</td><td>n = 21 </td><td>No </td><td>NA     </td><td>CHP_346_01</td><td>No </td><td>NA     </td><td>CHP_346</td><td>NA    </td><td>NA      </td></tr>\n",
       "\t<tr><th scope=row>2</th><td>348-01</td><td>n = 316</td><td>14.4000</td><td>20</td><td>Passed</td><td>n = 316</td><td>159.36</td><td>159.36</td><td> 733.4</td><td>Passed</td><td>n = 295</td><td>Yes</td><td>n = 295</td><td>CHP_348_01</td><td>Yes</td><td>n = 279</td><td>CHP_348</td><td>OS    </td><td>Solid   </td></tr>\n",
       "\t<tr><th scope=row>3</th><td>348-03</td><td>n = 316</td><td>24.4944</td><td>20</td><td>Passed</td><td>n = 316</td><td>227.52</td><td>227.52</td><td> 733.4</td><td>Passed</td><td>n = 295</td><td>Yes</td><td>n = 295</td><td>CHP_348_03</td><td>Yes</td><td>n = 279</td><td>CHP_348</td><td>OS    </td><td>Solid   </td></tr>\n",
       "\t<tr><th scope=row>4</th><td>343-04</td><td>n = 316</td><td>56.0000</td><td>20</td><td>Passed</td><td>n = 316</td><td>291.84</td><td>291.84</td><td>1052.6</td><td>Passed</td><td>n = 295</td><td>Yes</td><td>n = 295</td><td>CHP_343_04</td><td>Yes</td><td>n = 279</td><td>CHP_343</td><td>EWS   </td><td>Solid   </td></tr>\n",
       "\t<tr><th scope=row>5</th><td>329-04</td><td>n = 316</td><td>40.0768</td><td>20</td><td>Passed</td><td>n = 316</td><td>314.88</td><td>314.88</td><td>1132.4</td><td>Passed</td><td>n = 295</td><td>Yes</td><td>n = 295</td><td>CHP_329_04</td><td>Yes</td><td>n = 279</td><td>CHP_329</td><td>HR ALL</td><td>Leukemia</td></tr>\n",
       "\t<tr><th scope=row>6</th><td>331-05</td><td>n = 316</td><td>82.4000</td><td>20</td><td>Passed</td><td>n = 316</td><td>811.20</td><td>499.13</td><td>1565.6</td><td>Passed</td><td>n = 295</td><td>Yes</td><td>n = 295</td><td>CHP_331_05</td><td>Yes</td><td>n = 279</td><td>CHP_331</td><td>SR ALL</td><td>Leukemia</td></tr>\n",
       "</tbody>\n",
       "</table>\n"
      ],
      "text/latex": [
       "A data.frame: 6 × 19\n",
       "\\begin{tabular}{r|lllllllllllllllllll}\n",
       "  & sample\\_id & DNA samples & DNAextracted & DNAused & librarypassed & Library preparation & libraryyield & DNAforcapture & captureyield & capturepassed & Successful capture & deepseq & Deep sequencing & mysample\\_id & TCR & TCR analysis & Patient & Tumor & Group\\\\\n",
       "  & <chr> & <chr> & <dbl> & <dbl> & <chr> & <chr> & <dbl> & <dbl> & <dbl> & <chr> & <chr> & <chr> & <chr> & <chr> & <chr> & <chr> & <chr> & <chr> & <chr>\\\\\n",
       "\\hline\n",
       "\t1 & 346-01 & n = 316 & 19.5600 & 20 & Passed & n = 316 & 237.12 &     NA &     NA & Failed & n = 21  & No  & NA      & CHP\\_346\\_01 & No  & NA      & CHP\\_346 & NA     & NA      \\\\\n",
       "\t2 & 348-01 & n = 316 & 14.4000 & 20 & Passed & n = 316 & 159.36 & 159.36 &  733.4 & Passed & n = 295 & Yes & n = 295 & CHP\\_348\\_01 & Yes & n = 279 & CHP\\_348 & OS     & Solid   \\\\\n",
       "\t3 & 348-03 & n = 316 & 24.4944 & 20 & Passed & n = 316 & 227.52 & 227.52 &  733.4 & Passed & n = 295 & Yes & n = 295 & CHP\\_348\\_03 & Yes & n = 279 & CHP\\_348 & OS     & Solid   \\\\\n",
       "\t4 & 343-04 & n = 316 & 56.0000 & 20 & Passed & n = 316 & 291.84 & 291.84 & 1052.6 & Passed & n = 295 & Yes & n = 295 & CHP\\_343\\_04 & Yes & n = 279 & CHP\\_343 & EWS    & Solid   \\\\\n",
       "\t5 & 329-04 & n = 316 & 40.0768 & 20 & Passed & n = 316 & 314.88 & 314.88 & 1132.4 & Passed & n = 295 & Yes & n = 295 & CHP\\_329\\_04 & Yes & n = 279 & CHP\\_329 & HR ALL & Leukemia\\\\\n",
       "\t6 & 331-05 & n = 316 & 82.4000 & 20 & Passed & n = 316 & 811.20 & 499.13 & 1565.6 & Passed & n = 295 & Yes & n = 295 & CHP\\_331\\_05 & Yes & n = 279 & CHP\\_331 & SR ALL & Leukemia\\\\\n",
       "\\end{tabular}\n"
      ],
      "text/markdown": [
       "\n",
       "A data.frame: 6 × 19\n",
       "\n",
       "| <!--/--> | sample_id &lt;chr&gt; | DNA samples &lt;chr&gt; | DNAextracted &lt;dbl&gt; | DNAused &lt;dbl&gt; | librarypassed &lt;chr&gt; | Library preparation &lt;chr&gt; | libraryyield &lt;dbl&gt; | DNAforcapture &lt;dbl&gt; | captureyield &lt;dbl&gt; | capturepassed &lt;chr&gt; | Successful capture &lt;chr&gt; | deepseq &lt;chr&gt; | Deep sequencing &lt;chr&gt; | mysample_id &lt;chr&gt; | TCR &lt;chr&gt; | TCR analysis &lt;chr&gt; | Patient &lt;chr&gt; | Tumor &lt;chr&gt; | Group &lt;chr&gt; |\n",
       "|---|---|---|---|---|---|---|---|---|---|---|---|---|---|---|---|---|---|---|---|\n",
       "| 1 | 346-01 | n = 316 | 19.5600 | 20 | Passed | n = 316 | 237.12 |     NA |     NA | Failed | n = 21  | No  | NA      | CHP_346_01 | No  | NA      | CHP_346 | NA     | NA       |\n",
       "| 2 | 348-01 | n = 316 | 14.4000 | 20 | Passed | n = 316 | 159.36 | 159.36 |  733.4 | Passed | n = 295 | Yes | n = 295 | CHP_348_01 | Yes | n = 279 | CHP_348 | OS     | Solid    |\n",
       "| 3 | 348-03 | n = 316 | 24.4944 | 20 | Passed | n = 316 | 227.52 | 227.52 |  733.4 | Passed | n = 295 | Yes | n = 295 | CHP_348_03 | Yes | n = 279 | CHP_348 | OS     | Solid    |\n",
       "| 4 | 343-04 | n = 316 | 56.0000 | 20 | Passed | n = 316 | 291.84 | 291.84 | 1052.6 | Passed | n = 295 | Yes | n = 295 | CHP_343_04 | Yes | n = 279 | CHP_343 | EWS    | Solid    |\n",
       "| 5 | 329-04 | n = 316 | 40.0768 | 20 | Passed | n = 316 | 314.88 | 314.88 | 1132.4 | Passed | n = 295 | Yes | n = 295 | CHP_329_04 | Yes | n = 279 | CHP_329 | HR ALL | Leukemia |\n",
       "| 6 | 331-05 | n = 316 | 82.4000 | 20 | Passed | n = 316 | 811.20 | 499.13 | 1565.6 | Passed | n = 295 | Yes | n = 295 | CHP_331_05 | Yes | n = 279 | CHP_331 | SR ALL | Leukemia |\n",
       "\n"
      ],
      "text/plain": [
       "  sample_id DNA samples DNAextracted DNAused librarypassed Library preparation\n",
       "1 346-01    n = 316     19.5600      20      Passed        n = 316            \n",
       "2 348-01    n = 316     14.4000      20      Passed        n = 316            \n",
       "3 348-03    n = 316     24.4944      20      Passed        n = 316            \n",
       "4 343-04    n = 316     56.0000      20      Passed        n = 316            \n",
       "5 329-04    n = 316     40.0768      20      Passed        n = 316            \n",
       "6 331-05    n = 316     82.4000      20      Passed        n = 316            \n",
       "  libraryyield DNAforcapture captureyield capturepassed Successful capture\n",
       "1 237.12           NA            NA       Failed        n = 21            \n",
       "2 159.36       159.36         733.4       Passed        n = 295           \n",
       "3 227.52       227.52         733.4       Passed        n = 295           \n",
       "4 291.84       291.84        1052.6       Passed        n = 295           \n",
       "5 314.88       314.88        1132.4       Passed        n = 295           \n",
       "6 811.20       499.13        1565.6       Passed        n = 295           \n",
       "  deepseq Deep sequencing mysample_id TCR TCR analysis Patient Tumor  Group   \n",
       "1 No      NA              CHP_346_01  No  NA           CHP_346 NA     NA      \n",
       "2 Yes     n = 295         CHP_348_01  Yes n = 279      CHP_348 OS     Solid   \n",
       "3 Yes     n = 295         CHP_348_03  Yes n = 279      CHP_348 OS     Solid   \n",
       "4 Yes     n = 295         CHP_343_04  Yes n = 279      CHP_343 EWS    Solid   \n",
       "5 Yes     n = 295         CHP_329_04  Yes n = 279      CHP_329 HR ALL Leukemia\n",
       "6 Yes     n = 295         CHP_331_05  Yes n = 279      CHP_331 SR ALL Leukemia"
      ]
     },
     "metadata": {},
     "output_type": "display_data"
    }
   ],
   "source": [
    "head(cfdna_samples)"
   ]
  },
  {
   "cell_type": "code",
   "execution_count": 24,
   "metadata": {},
   "outputs": [],
   "source": [
    "df <- make_long(cfdna_samples, `DNA samples`, `Library preparation`, `Successful capture`, \n",
    "                `Deep sequencing`, `TCR analysis`, Group, Tumor)"
   ]
  },
  {
   "cell_type": "code",
   "execution_count": 25,
   "metadata": {},
   "outputs": [
    {
     "data": {
      "text/html": [
       "29"
      ],
      "text/latex": [
       "29"
      ],
      "text/markdown": [
       "29"
      ],
      "text/plain": [
       "[1] 29"
      ]
     },
     "metadata": {},
     "output_type": "display_data"
    }
   ],
   "source": [
    "length(unique(df$node))"
   ]
  },
  {
   "cell_type": "code",
   "execution_count": 26,
   "metadata": {},
   "outputs": [],
   "source": [
    "library(randomcoloR)\n",
    "set.seed(5250)\n",
    "myColors <- distinctColorPalette(29)\n",
    "names(myColors) <- levels(factor(df$node))"
   ]
  },
  {
   "cell_type": "code",
   "execution_count": 27,
   "metadata": {},
   "outputs": [
    {
     "data": {
      "text/html": [
       "<style>\n",
       ".dl-inline {width: auto; margin:0; padding: 0}\n",
       ".dl-inline>dt, .dl-inline>dd {float: none; width: auto; display: inline-block}\n",
       ".dl-inline>dt::after {content: \":\\0020\"; padding-right: .5ex}\n",
       ".dl-inline>dt:not(:first-of-type) {padding-left: .5ex}\n",
       "</style><dl class=dl-inline><dt>ALCL</dt><dd>'#66D2E3'</dd><dt>ALL</dt><dd>'#6CDD99'</dd><dt>AML</dt><dd>'#DBEBE5'</dd><dt>ARMS</dt><dd>'#8B5E91'</dd><dt>BL</dt><dd>'#BE40E6'</dd><dt>BLL</dt><dd>'#B1E27B'</dd><dt>CML</dt><dd>'#6F8573'</dd><dt>DLBCL</dt><dd>'#DED876'</dd><dt>ERMS</dt><dd>'#C9DE43'</dd><dt>EWS</dt><dd>'#CDE4A7'</dd><dt>HB</dt><dd>'#E9B23F'</dd><dt>HD</dt><dd>'#E68187'</dd><dt>HR ALL</dt><dd>'#7380DC'</dd><dt>Leukemia</dt><dd>'#C978DA'</dd><dt>Lymphoma</dt><dd>'#6FA4DA'</dd><dt>MS NB</dt><dd>'#E4CFE5'</dd><dt>n = 16</dt><dd>'#A2E1C9'</dd><dt>n = 21</dt><dd>'#E4456C'</dd><dt>n = 279</dt><dd>'#E1B781'</dd><dt>n = 295</dt><dd>'#CC9FA1'</dd><dt>n = 316</dt><dd>'#A1C5D7'</dd><dt>NB</dt><dd>'#62E9D5'</dd><dt>OS</dt><dd>'#DED5B7'</dd><dt>PMBCL</dt><dd>'#D2774B'</dd><dt>Solid</dt><dd>'#DF48BF'</dd><dt>SR ALL</dt><dd>'#CCAAE5'</dd><dt>T-ALL</dt><dd>'#E889BA'</dd><dt>WILMS</dt><dd>'#795ADE'</dd><dt>29</dt><dd>'#71E95C'</dd></dl>\n"
      ],
      "text/latex": [
       "\\begin{description*}\n",
       "\\item[ALCL] '\\#66D2E3'\n",
       "\\item[ALL] '\\#6CDD99'\n",
       "\\item[AML] '\\#DBEBE5'\n",
       "\\item[ARMS] '\\#8B5E91'\n",
       "\\item[BL] '\\#BE40E6'\n",
       "\\item[BLL] '\\#B1E27B'\n",
       "\\item[CML] '\\#6F8573'\n",
       "\\item[DLBCL] '\\#DED876'\n",
       "\\item[ERMS] '\\#C9DE43'\n",
       "\\item[EWS] '\\#CDE4A7'\n",
       "\\item[HB] '\\#E9B23F'\n",
       "\\item[HD] '\\#E68187'\n",
       "\\item[HR ALL] '\\#7380DC'\n",
       "\\item[Leukemia] '\\#C978DA'\n",
       "\\item[Lymphoma] '\\#6FA4DA'\n",
       "\\item[MS NB] '\\#E4CFE5'\n",
       "\\item[n = 16] '\\#A2E1C9'\n",
       "\\item[n = 21] '\\#E4456C'\n",
       "\\item[n = 279] '\\#E1B781'\n",
       "\\item[n = 295] '\\#CC9FA1'\n",
       "\\item[n = 316] '\\#A1C5D7'\n",
       "\\item[NB] '\\#62E9D5'\n",
       "\\item[OS] '\\#DED5B7'\n",
       "\\item[PMBCL] '\\#D2774B'\n",
       "\\item[Solid] '\\#DF48BF'\n",
       "\\item[SR ALL] '\\#CCAAE5'\n",
       "\\item[T-ALL] '\\#E889BA'\n",
       "\\item[WILMS] '\\#795ADE'\n",
       "\\item[29] '\\#71E95C'\n",
       "\\end{description*}\n"
      ],
      "text/markdown": [
       "ALCL\n",
       ":   '#66D2E3'ALL\n",
       ":   '#6CDD99'AML\n",
       ":   '#DBEBE5'ARMS\n",
       ":   '#8B5E91'BL\n",
       ":   '#BE40E6'BLL\n",
       ":   '#B1E27B'CML\n",
       ":   '#6F8573'DLBCL\n",
       ":   '#DED876'ERMS\n",
       ":   '#C9DE43'EWS\n",
       ":   '#CDE4A7'HB\n",
       ":   '#E9B23F'HD\n",
       ":   '#E68187'HR ALL\n",
       ":   '#7380DC'Leukemia\n",
       ":   '#C978DA'Lymphoma\n",
       ":   '#6FA4DA'MS NB\n",
       ":   '#E4CFE5'n = 16\n",
       ":   '#A2E1C9'n = 21\n",
       ":   '#E4456C'n = 279\n",
       ":   '#E1B781'n = 295\n",
       ":   '#CC9FA1'n = 316\n",
       ":   '#A1C5D7'NB\n",
       ":   '#62E9D5'OS\n",
       ":   '#DED5B7'PMBCL\n",
       ":   '#D2774B'Solid\n",
       ":   '#DF48BF'SR ALL\n",
       ":   '#CCAAE5'T-ALL\n",
       ":   '#E889BA'WILMS\n",
       ":   '#795ADE'29\n",
       ":   '#71E95C'\n",
       "\n"
      ],
      "text/plain": [
       "     ALCL       ALL       AML      ARMS        BL       BLL       CML     DLBCL \n",
       "\"#66D2E3\" \"#6CDD99\" \"#DBEBE5\" \"#8B5E91\" \"#BE40E6\" \"#B1E27B\" \"#6F8573\" \"#DED876\" \n",
       "     ERMS       EWS        HB        HD    HR ALL  Leukemia  Lymphoma     MS NB \n",
       "\"#C9DE43\" \"#CDE4A7\" \"#E9B23F\" \"#E68187\" \"#7380DC\" \"#C978DA\" \"#6FA4DA\" \"#E4CFE5\" \n",
       "   n = 16    n = 21   n = 279   n = 295   n = 316        NB        OS     PMBCL \n",
       "\"#A2E1C9\" \"#E4456C\" \"#E1B781\" \"#CC9FA1\" \"#A1C5D7\" \"#62E9D5\" \"#DED5B7\" \"#D2774B\" \n",
       "    Solid    SR ALL     T-ALL     WILMS      <NA> \n",
       "\"#DF48BF\" \"#CCAAE5\" \"#E889BA\" \"#795ADE\" \"#71E95C\" "
      ]
     },
     "metadata": {},
     "output_type": "display_data"
    }
   ],
   "source": [
    "myColors"
   ]
  },
  {
   "cell_type": "code",
   "execution_count": 28,
   "metadata": {},
   "outputs": [],
   "source": [
    "#failed samples color grey\n",
    "myColors[\"n = 21\"] <- \"grey\"\n",
    "myColors[\"n = 16\"] <- \"grey\""
   ]
  },
  {
   "cell_type": "code",
   "execution_count": 29,
   "metadata": {},
   "outputs": [],
   "source": [
    "# Tumor types white\n",
    "myColors[names(myColors) %in% c(\"ALCL\", \"BL\", \"BLL\", \"DLBCL\", \"ERMS\", \"HD\", \"PMBCL\", \"NB\", \"OS\", \"WILMS\",\n",
    "                               \"T-ALL\", \"SR-ALL\", \"HR ALL\", \"HB\", \"EWS\", \"CML\", \"ARMS\",\n",
    "                               \"AML\", \"ALL\")] <- \"white\""
   ]
  },
  {
   "cell_type": "code",
   "execution_count": 30,
   "metadata": {},
   "outputs": [
    {
     "data": {
      "text/html": [
       "<table class=\"dataframe\">\n",
       "<caption>A tibble: 6 × 4</caption>\n",
       "<thead>\n",
       "\t<tr><th scope=col>x</th><th scope=col>node</th><th scope=col>next_x</th><th scope=col>next_node</th></tr>\n",
       "\t<tr><th scope=col>&lt;fct&gt;</th><th scope=col>&lt;chr&gt;</th><th scope=col>&lt;fct&gt;</th><th scope=col>&lt;chr&gt;</th></tr>\n",
       "</thead>\n",
       "<tbody>\n",
       "\t<tr><td>DNA samples        </td><td>n = 316</td><td>Library preparation</td><td>n = 316</td></tr>\n",
       "\t<tr><td>Library preparation</td><td>n = 316</td><td>Successful capture </td><td>n = 21 </td></tr>\n",
       "\t<tr><td>Successful capture </td><td>n = 21 </td><td>Deep sequencing    </td><td>NA     </td></tr>\n",
       "\t<tr><td>Deep sequencing    </td><td>NA     </td><td>TCR analysis       </td><td>NA     </td></tr>\n",
       "\t<tr><td>TCR analysis       </td><td>NA     </td><td>Group              </td><td>NA     </td></tr>\n",
       "\t<tr><td>Group              </td><td>NA     </td><td>Tumor              </td><td>NA     </td></tr>\n",
       "</tbody>\n",
       "</table>\n"
      ],
      "text/latex": [
       "A tibble: 6 × 4\n",
       "\\begin{tabular}{llll}\n",
       " x & node & next\\_x & next\\_node\\\\\n",
       " <fct> & <chr> & <fct> & <chr>\\\\\n",
       "\\hline\n",
       "\t DNA samples         & n = 316 & Library preparation & n = 316\\\\\n",
       "\t Library preparation & n = 316 & Successful capture  & n = 21 \\\\\n",
       "\t Successful capture  & n = 21  & Deep sequencing     & NA     \\\\\n",
       "\t Deep sequencing     & NA      & TCR analysis        & NA     \\\\\n",
       "\t TCR analysis        & NA      & Group               & NA     \\\\\n",
       "\t Group               & NA      & Tumor               & NA     \\\\\n",
       "\\end{tabular}\n"
      ],
      "text/markdown": [
       "\n",
       "A tibble: 6 × 4\n",
       "\n",
       "| x &lt;fct&gt; | node &lt;chr&gt; | next_x &lt;fct&gt; | next_node &lt;chr&gt; |\n",
       "|---|---|---|---|\n",
       "| DNA samples         | n = 316 | Library preparation | n = 316 |\n",
       "| Library preparation | n = 316 | Successful capture  | n = 21  |\n",
       "| Successful capture  | n = 21  | Deep sequencing     | NA      |\n",
       "| Deep sequencing     | NA      | TCR analysis        | NA      |\n",
       "| TCR analysis        | NA      | Group               | NA      |\n",
       "| Group               | NA      | Tumor               | NA      |\n",
       "\n"
      ],
      "text/plain": [
       "  x                   node    next_x              next_node\n",
       "1 DNA samples         n = 316 Library preparation n = 316  \n",
       "2 Library preparation n = 316 Successful capture  n = 21   \n",
       "3 Successful capture  n = 21  Deep sequencing     NA       \n",
       "4 Deep sequencing     NA      TCR analysis        NA       \n",
       "5 TCR analysis        NA      Group               NA       \n",
       "6 Group               NA      Tumor               NA       "
      ]
     },
     "metadata": {},
     "output_type": "display_data"
    }
   ],
   "source": [
    "head(df)"
   ]
  },
  {
   "cell_type": "code",
   "execution_count": 31,
   "metadata": {},
   "outputs": [],
   "source": [
    "df$spacing <- NA\n",
    "df$spacing[ df$x == \"Group\"] <- \"10\""
   ]
  },
  {
   "cell_type": "code",
   "execution_count": 32,
   "metadata": {},
   "outputs": [
    {
     "data": {
      "text/html": [
       "<table class=\"dataframe\">\n",
       "<caption>A tibble: 6 × 5</caption>\n",
       "<thead>\n",
       "\t<tr><th scope=col>x</th><th scope=col>node</th><th scope=col>next_x</th><th scope=col>next_node</th><th scope=col>spacing</th></tr>\n",
       "\t<tr><th scope=col>&lt;fct&gt;</th><th scope=col>&lt;chr&gt;</th><th scope=col>&lt;fct&gt;</th><th scope=col>&lt;chr&gt;</th><th scope=col>&lt;chr&gt;</th></tr>\n",
       "</thead>\n",
       "<tbody>\n",
       "\t<tr><td>DNA samples        </td><td>n = 316</td><td>Library preparation</td><td>n = 316</td><td>NA</td></tr>\n",
       "\t<tr><td>Library preparation</td><td>n = 316</td><td>Successful capture </td><td>n = 21 </td><td>NA</td></tr>\n",
       "\t<tr><td>Successful capture </td><td>n = 21 </td><td>Deep sequencing    </td><td>NA     </td><td>NA</td></tr>\n",
       "\t<tr><td>Deep sequencing    </td><td>NA     </td><td>TCR analysis       </td><td>NA     </td><td>NA</td></tr>\n",
       "\t<tr><td>TCR analysis       </td><td>NA     </td><td>Group              </td><td>NA     </td><td>NA</td></tr>\n",
       "\t<tr><td>Group              </td><td>NA     </td><td>Tumor              </td><td>NA     </td><td>10</td></tr>\n",
       "</tbody>\n",
       "</table>\n"
      ],
      "text/latex": [
       "A tibble: 6 × 5\n",
       "\\begin{tabular}{lllll}\n",
       " x & node & next\\_x & next\\_node & spacing\\\\\n",
       " <fct> & <chr> & <fct> & <chr> & <chr>\\\\\n",
       "\\hline\n",
       "\t DNA samples         & n = 316 & Library preparation & n = 316 & NA\\\\\n",
       "\t Library preparation & n = 316 & Successful capture  & n = 21  & NA\\\\\n",
       "\t Successful capture  & n = 21  & Deep sequencing     & NA      & NA\\\\\n",
       "\t Deep sequencing     & NA      & TCR analysis        & NA      & NA\\\\\n",
       "\t TCR analysis        & NA      & Group               & NA      & NA\\\\\n",
       "\t Group               & NA      & Tumor               & NA      & 10\\\\\n",
       "\\end{tabular}\n"
      ],
      "text/markdown": [
       "\n",
       "A tibble: 6 × 5\n",
       "\n",
       "| x &lt;fct&gt; | node &lt;chr&gt; | next_x &lt;fct&gt; | next_node &lt;chr&gt; | spacing &lt;chr&gt; |\n",
       "|---|---|---|---|---|\n",
       "| DNA samples         | n = 316 | Library preparation | n = 316 | NA |\n",
       "| Library preparation | n = 316 | Successful capture  | n = 21  | NA |\n",
       "| Successful capture  | n = 21  | Deep sequencing     | NA      | NA |\n",
       "| Deep sequencing     | NA      | TCR analysis        | NA      | NA |\n",
       "| TCR analysis        | NA      | Group               | NA      | NA |\n",
       "| Group               | NA      | Tumor               | NA      | 10 |\n",
       "\n"
      ],
      "text/plain": [
       "  x                   node    next_x              next_node spacing\n",
       "1 DNA samples         n = 316 Library preparation n = 316   NA     \n",
       "2 Library preparation n = 316 Successful capture  n = 21    NA     \n",
       "3 Successful capture  n = 21  Deep sequencing     NA        NA     \n",
       "4 Deep sequencing     NA      TCR analysis        NA        NA     \n",
       "5 TCR analysis        NA      Group               NA        NA     \n",
       "6 Group               NA      Tumor               NA        10     "
      ]
     },
     "metadata": {},
     "output_type": "display_data"
    }
   ],
   "source": [
    "head(df)"
   ]
  },
  {
   "cell_type": "code",
   "execution_count": 33,
   "metadata": {},
   "outputs": [],
   "source": [
    "sankey <- ggplot(df, aes(x = x, \n",
    "               next_x = next_x, \n",
    "               node = node, \n",
    "               next_node = next_node,\n",
    "               fill = node, color = node, \n",
    "               label = node)) +\n",
    "  geom_sankey(flow.alpha = 0.5, na.rm = TRUE) +\n",
    "  theme_sankey(base_size = 16) +\n",
    "  geom_sankey_label(size = 5, hjust = 0.5,\n",
    "                    color = 1, label.size = 0,\n",
    "                    fill = alpha(\"white\",0), na.rm = TRUE) +\n",
    "theme(legend.position = \"none\", \n",
    "      axis.title.x = element_blank(),\n",
    "      axis.text.x = element_text(size = 20, color = \"black\"),\n",
    "     plot.title = element_text(hjust = 0.5, size = 30)) +\n",
    "scale_fill_manual(values = myColors, na.value=\"white\")+\n",
    "scale_color_manual(values = myColors, na.value=\"white\") + \n",
    "labs(title = \"cfDNA sample processing\")"
   ]
  },
  {
   "cell_type": "code",
   "execution_count": 34,
   "metadata": {},
   "outputs": [
    {
     "data": {
      "image/png": "[encoded data removed]",
      "text/plain": [
       "plot without title"
      ]
     },
     "metadata": {
      "image/png": {
       "height": 420,
       "width": 420
      }
     },
     "output_type": "display_data"
    }
   ],
   "source": [
    "sankey"
   ]
  },
  {
   "cell_type": "code",
   "execution_count": 35,
   "metadata": {},
   "outputs": [
    {
     "data": {
      "text/html": [
       "<strong>pdf:</strong> 2"
      ],
      "text/latex": [
       "\\textbf{pdf:} 2"
      ],
      "text/markdown": [
       "**pdf:** 2"
      ],
      "text/plain": [
       "pdf \n",
       "  2 "
      ]
     },
     "metadata": {},
     "output_type": "display_data"
    }
   ],
   "source": [
    "pdf(paste0(plotpath, \"cfdna_sankey.pdf\"),\n",
    "   width = 20, height = 10)\n",
    "sankey\n",
    "dev.off()"
   ]
  },
  {
   "cell_type": "code",
   "execution_count": null,
   "metadata": {},
   "outputs": [],
   "source": []
  },
  {
   "cell_type": "code",
   "execution_count": null,
   "metadata": {},
   "outputs": [],
   "source": []
  }
 ],
 "metadata": {
  "kernelspec": {
   "display_name": "R 4.0",
   "language": "R",
   "name": "ir40"
  },
  "language_info": {
   "codemirror_mode": "r",
   "file_extension": ".r",
   "mimetype": "text/x-r-source",
   "name": "R",
   "pygments_lexer": "r",
   "version": "4.0.3"
  },
  "toc": {
   "base_numbering": 1,
   "nav_menu": {},
   "number_sections": false,
   "sideBar": true,
   "skip_h1_title": false,
   "title_cell": "Table of Contents",
   "title_sidebar": "Contents",
   "toc_cell": true,
   "toc_position": {
    "height": "calc(100% - 180px)",
    "left": "10px",
    "top": "150px",
    "width": "165px"
   },
   "toc_section_display": true,
   "toc_window_display": true
  }
 },
 "nbformat": 4,
 "nbformat_minor": 2
}
