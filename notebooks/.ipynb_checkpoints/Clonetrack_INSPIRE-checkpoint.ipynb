{
 "cells": [
  {
   "cell_type": "markdown",
   "metadata": {
    "toc": true
   },
   "source": [
    "<h1>Table of Contents<span class=\"tocSkip\"></span></h1>\n",
    "<div class=\"toc\"><ul class=\"toc-item\"><li><span><a href=\"#Track-TRB-clones-for-INSPIRE\" data-toc-modified-id=\"Track-TRB-clones-for-INSPIRE-1\">Track TRB clones for INSPIRE</a></span></li></ul></div>"
   ]
  },
  {
   "cell_type": "markdown",
   "metadata": {},
   "source": [
    "## Track TRB clones for INSPIRE"
   ]
  },
  {
   "cell_type": "code",
   "execution_count": 3,
   "metadata": {},
   "outputs": [],
   "source": [
    "options(scipen = 999)"
   ]
  },
  {
   "cell_type": "code",
   "execution_count": 4,
   "metadata": {},
   "outputs": [
    {
     "name": "stderr",
     "output_type": "stream",
     "text": [
      "Warning message:\n",
      "“package ‘ggalluvial’ was built under R version 3.5.2”Loading required package: ggplot2\n",
      "Warning message:\n",
      "“package ‘ggplot2’ was built under R version 3.5.2”"
     ]
    }
   ],
   "source": [
    "library(ggalluvial)\n",
    "library(randomcoloR)"
   ]
  },
  {
   "cell_type": "code",
   "execution_count": 5,
   "metadata": {},
   "outputs": [],
   "source": [
    "datapath <- \"/Users/anabbi/OneDrive - UHN/Documents/INTERCEPT/INSPIRE/\"\n",
    "plotpath <- \"/Users/anabbi/OneDrive - UHN/Documents/INTERCEPT/\""
   ]
  },
  {
   "cell_type": "code",
   "execution_count": 6,
   "metadata": {},
   "outputs": [],
   "source": [
    "clontrack.fx <- function(datapath, plotpath, patient_id, cycleorder , countfrac){\n",
    "    \n",
    "  if (!(countfrac %in% c(\"cloneFraction\", \"cloneCount\"))) {\n",
    "    stop(\"Error: unknown argument \", countfrac, \". Please provide either cloneFraction or cloneCount.\")}\n",
    "   \n",
    "\n",
    "  flelst <- list.files(datapath, recursive = TRUE,\n",
    "                       pattern = \"CLONES_TRB\")\n",
    "\n",
    "\n",
    "# subset to patient_id\n",
    "  flelst_pt <- flelst[grepl(patient_id, flelst)]\n",
    "    \n",
    "    message(\"list of available files for patient: \", patient_id)\n",
    "    print(flelst_pt)     \n",
    "     \n",
    "#Compile a big file with patient's mixcr files loaded in\n",
    "  i <- 1\n",
    "  for (f in flelst_pt){\n",
    "    mixcrfle <- read.table(paste(datapath, f, sep = \"\"), \n",
    "                           header = TRUE, sep = \"\\t\",\n",
    "                           stringsAsFactors = FALSE,\n",
    "                           na.strings = c(\"\", \"NA\"))\n",
    "    if(i == 1){\n",
    "      compldfle <- mixcrfle[!duplicated(mixcrfle$aaSeqCDR3),]\n",
    "      compldfle <- cbind(cloneno = row.names(compldfle), \n",
    "                         filename = f, \n",
    "                         compldfle)\n",
    "      i <- i + 1   \n",
    "    }\n",
    "    else{\n",
    "      compldfle1 <- mixcrfle[!duplicated(mixcrfle$aaSeqCDR3),]\n",
    "      compldfle1 <- cbind(cloneno = row.names(compldfle1), \n",
    "                          filename = f, \n",
    "                          compldfle1)\n",
    "      compldfle <- rbind(compldfle, compldfle1)\n",
    "      rm(compldfle1)\n",
    "    }\n",
    "  }\n",
    "\n",
    "#Clean the sample name. \n",
    "    compldfle$samplename <- gsub(paste(\".*\",\"INSPIRE_\", sep = \"\"), \"\", compldfle$filename)\n",
    "    compldfle$samplename <- gsub(\"_TCR.*\", \"\", compldfle$samplename)  \n",
    " \n",
    "# Subset df\n",
    "    CDR3_fraction <- compldfle[, c(\"samplename\",\"aaSeqCDR3\",\"cloneFraction\", \"cloneCount\")]\n",
    "# Subset to include only clonotypes with more than 0.001 clonal fraction    \n",
    "    CDR3_fraction <- CDR3_fraction[CDR3_fraction$cloneFraction > 0.001,] # make this argument\n",
    " ## append the empty clonotypes after here.   \n",
    "    \n",
    "# Number of samples\n",
    "    mysamples <- unique(CDR3_fraction$samplename)\n",
    "# Order sample name with cycleorder\n",
    "    mysamples <-  mysamples[sapply(cycleorder, function(x) { grep(x, mysamples) })]\n",
    "\n",
    "    CDR3_fraction$samplename <- factor(CDR3_fraction$samplename, \n",
    "                                       levels = mysamples)\n",
    "    \n",
    "#Assign colors to recurring clonotypes\n",
    "    recurring <- unique(CDR3_fraction$aaSeqCDR3[duplicated(CDR3_fraction$aaSeqCDR3)])\n",
    "    notrecurring <- CDR3_fraction$aaSeqCDR3[!CDR3_fraction$aaSeqCDR3 %in% recurring]\n",
    "\n",
    "    recurring_df <- CDR3_fraction[CDR3_fraction$aaSeqCDR3 %in% recurring,]\n",
    "    recurringcdr3_ordered <- unique(recurring_df$aaSeqCDR3[order(recurring_df$cloneCount, decreasing = TRUE)])\n",
    "    \n",
    "    \n",
    "    message(\"Total number of recurring clonotypes: \")     \n",
    "    print(length(recurring))\n",
    "    \n",
    "    myColors <- distinctColorPalette(10)\n",
    "    myColors <- c(myColors, rep(\"white\",length(recurring)-10),\n",
    "                  rep(\"white\",length(notrecurring)))\n",
    "    names(myColors) <- c(recurringcdr3_ordered, notrecurring)\n",
    "\n",
    "    message(\"these are what we color: \")  \n",
    "    print(myColors[myColors != \"white\"])\n",
    "\n",
    "    p <-  ggplot(CDR3_fraction, aes(x = samplename, \n",
    "                                y = eval(as.name(countfrac)),\n",
    "                                fill = aaSeqCDR3,\n",
    "                                stratum = aaSeqCDR3,\n",
    "                                alluvium = aaSeqCDR3,\n",
    "                                label = aaSeqCDR3))\n",
    "\n",
    "    myp <- p + geom_alluvium(decreasing = FALSE) + \n",
    "    geom_stratum(decreasing = FALSE, stat = \"alluvium\") + \n",
    "    scale_fill_manual(values = myColors) +\n",
    "    theme(axis.title.y = element_text(size = 50),\n",
    "          axis.title.x = element_blank(),\n",
    "          axis.line = element_line(color = \"black\"),\n",
    "          axis.text = element_text(size = 50),\n",
    "          axis.text.x = element_text(angle = 45, hjust = 1)) +\n",
    "    theme(panel.grid.major = element_blank(),\n",
    "        panel.grid.minor = element_blank(),\n",
    "        panel.background = element_rect(fill = \"transparent\",colour = NA),\n",
    "        legend.key = element_rect(fill = \"white\", colour = \"white\"),\n",
    "        legend.position = \"none\",\n",
    "        plot.margin = unit(c(0.2,0,0,0),\"cm\")) + \n",
    "    labs(y = countfrac) \n",
    "\n",
    "    \n",
    "# return(myp)\n",
    "    pdf(paste(plotpath, \"clonetracking_\", patient_id, \n",
    "              countfrac, \".pdf\", sep = \"\"),\n",
    "        width = 15, \n",
    "        height = 20,\n",
    "        useDingbats = FALSE,\n",
    "        onefile = FALSE)       \n",
    "    print(myp)  \n",
    "    dev.off()       \n",
    "\n",
    "}"
   ]
  },
  {
   "cell_type": "code",
   "execution_count": 27,
   "metadata": {},
   "outputs": [
    {
     "name": "stderr",
     "output_type": "stream",
     "text": [
      "list of available files for patient: INS-C-004\n"
     ]
    },
    {
     "name": "stdout",
     "output_type": "stream",
     "text": [
      "[1] \"CLONES_TRBINSPIRE_INS-C-004-C3B_TCR-VJ_cDNA_43_ATCATTCC.txt\"  \n",
      "[2] \"CLONES_TRBINSPIRE_INS-C-004-C6B_TCR-VJ_cDNA_97_CCTCCTGA.txt\"  \n",
      "[3] \"CLONES_TRBINSPIRE_INS-C-004-C9B_TCR-VJ_cDNA_8_GTACGCAA.txt\"   \n",
      "[4] \"CLONES_TRBINSPIRE_INS-C-004-EOTB_TCR-VJ_cDNA_107_TTCACGCA.txt\"\n",
      "[5] \"CLONES_TRBINSPIRE_INS-C-004-SB_TCR-VJ_cDNA_37_CTGTAGCC.txt\"   \n"
     ]
    },
    {
     "name": "stderr",
     "output_type": "stream",
     "text": [
      "Total number of recurring clonotypes: \n"
     ]
    },
    {
     "name": "stdout",
     "output_type": "stream",
     "text": [
      "[1] 42\n"
     ]
    },
    {
     "name": "stderr",
     "output_type": "stream",
     "text": [
      "these are what we color: \n"
     ]
    },
    {
     "name": "stdout",
     "output_type": "stream",
     "text": [
      "  CASSAATVVTDTQYF    CASTSGGGTGELFF    CASAHGVDYNEQFF     CAWGTSDSYEQYF \n",
      "        \"#D0D8DF\"         \"#AC50E5\"         \"#D0DF52\"         \"#8998DA\" \n",
      "   CASSSAQGPYEQYF   CASSNNMGRHTEAFF CASSIVELVGANYGYTF  CASSLELAGADYEQYF \n",
      "        \"#D3A0AB\"         \"#DF6C51\"         \"#76E07B\"         \"#79D6CA\" \n",
      "  CASSPAGTQTDTQYF CASSLTTSGSSYNEQFF \n",
      "        \"#D774C3\"         \"#D3C98A\" \n"
     ]
    },
    {
     "data": {
      "text/html": [
       "<strong>pdf:</strong> 2"
      ],
      "text/latex": [
       "\\textbf{pdf:} 2"
      ],
      "text/markdown": [
       "**pdf:** 2"
      ],
      "text/plain": [
       "pdf \n",
       "  2 "
      ]
     },
     "metadata": {},
     "output_type": "display_data"
    },
    {
     "name": "stderr",
     "output_type": "stream",
     "text": [
      "list of available files for patient: INS-C-004\n"
     ]
    },
    {
     "name": "stdout",
     "output_type": "stream",
     "text": [
      "[1] \"CLONES_TRBINSPIRE_INS-C-004-C3B_TCR-VJ_cDNA_43_ATCATTCC.txt\"  \n",
      "[2] \"CLONES_TRBINSPIRE_INS-C-004-C6B_TCR-VJ_cDNA_97_CCTCCTGA.txt\"  \n",
      "[3] \"CLONES_TRBINSPIRE_INS-C-004-C9B_TCR-VJ_cDNA_8_GTACGCAA.txt\"   \n",
      "[4] \"CLONES_TRBINSPIRE_INS-C-004-EOTB_TCR-VJ_cDNA_107_TTCACGCA.txt\"\n",
      "[5] \"CLONES_TRBINSPIRE_INS-C-004-SB_TCR-VJ_cDNA_37_CTGTAGCC.txt\"   \n"
     ]
    },
    {
     "name": "stderr",
     "output_type": "stream",
     "text": [
      "Total number of recurring clonotypes: \n"
     ]
    },
    {
     "name": "stdout",
     "output_type": "stream",
     "text": [
      "[1] 42\n"
     ]
    },
    {
     "name": "stderr",
     "output_type": "stream",
     "text": [
      "these are what we color: \n"
     ]
    },
    {
     "name": "stdout",
     "output_type": "stream",
     "text": [
      "  CASSAATVVTDTQYF    CASTSGGGTGELFF    CASAHGVDYNEQFF     CAWGTSDSYEQYF \n",
      "        \"#DA725A\"         \"#D976C1\"         \"#81E25C\"         \"#D5CC95\" \n",
      "   CASSSAQGPYEQYF   CASSNNMGRHTEAFF CASSIVELVGANYGYTF  CASSLELAGADYEQYF \n",
      "        \"#D7BCCA\"         \"#83E2AD\"         \"#86D0D5\"         \"#AD50E4\" \n",
      "  CASSPAGTQTDTQYF CASSLTTSGSSYNEQFF \n",
      "        \"#8794DA\"         \"#D8D856\" \n"
     ]
    },
    {
     "data": {
      "text/html": [
       "<strong>pdf:</strong> 2"
      ],
      "text/latex": [
       "\\textbf{pdf:} 2"
      ],
      "text/markdown": [
       "**pdf:** 2"
      ],
      "text/plain": [
       "pdf \n",
       "  2 "
      ]
     },
     "metadata": {},
     "output_type": "display_data"
    }
   ],
   "source": [
    "clontrack.fx(datapath, plotpath, \"INS-C-004\", \n",
    "             c(\"SB\", \"C3B\", \"C6B\",\"C9B\",\"EOTB\"), \"cloneCount\")\n",
    "clontrack.fx(datapath, plotpath, \"INS-C-004\", \n",
    "             c(\"SB\", \"C3B\", \"C6B\",\"C9B\",\"EOTB\"), \"cloneFraction\")"
   ]
  },
  {
   "cell_type": "code",
   "execution_count": 26,
   "metadata": {},
   "outputs": [
    {
     "name": "stderr",
     "output_type": "stream",
     "text": [
      "list of available files for patient: INS-E-007\n"
     ]
    },
    {
     "name": "stdout",
     "output_type": "stream",
     "text": [
      "[1] \"CLONES_TRBINSPIRE_INS-E-007-C12B_TCR-VJ_cDNA_25_AGATGTAC.txt\"\n",
      "[2] \"CLONES_TRBINSPIRE_INS-E-007-C15B_TCR-VJ_cDNA_43_ATCATTCC.txt\"\n",
      "[3] \"CLONES_TRBINSPIRE_INS-E-007-C3B_TCR-VJ_cDNA_37_CATCAAGT.txt\" \n",
      "[4] \"CLONES_TRBINSPIRE_INS-E-007-C6B_TCR-VJ_cDNA_35_CAAGACTA.txt\" \n",
      "[5] \"CLONES_TRBINSPIRE_INS-E-007-C9B_TCR-VJ_cDNA_42_TGAAGAGA.txt\" \n",
      "[6] \"CLONES_TRBINSPIRE_INS-E-007-EOTB_TCR-VJ_cDNA_63_AACTCACC.txt\"\n",
      "[7] \"CLONES_TRBINSPIRE_INS-E-007-SB_TCR-VJ_cDNA_41_AACTCACC.txt\"  \n"
     ]
    },
    {
     "name": "stderr",
     "output_type": "stream",
     "text": [
      "Total number of recurring clonotypes: \n"
     ]
    },
    {
     "name": "stdout",
     "output_type": "stream",
     "text": [
      "[1] 41\n"
     ]
    },
    {
     "name": "stderr",
     "output_type": "stream",
     "text": [
      "these are what we color: \n"
     ]
    },
    {
     "name": "stdout",
     "output_type": "stream",
     "text": [
      " CASTENYSNQPQHF CASSIRWTRVYEQYF     CAWSLDSEAFF  CASSLGEQYEKLFF CASSEDGLAGYEQYF \n",
      "      \"#D866C7\"       \"#DA7860\"       \"#7DD6CD\"       \"#D69AC3\"       \"#73DF7E\" \n",
      "  CASSPTVAGEQYF     CASSSGLDRSF CASSQEEAGSQPQHF    CASSHNRVEQYF CATADGSSYNSPLHF \n",
      "      \"#D4CC8B\"       \"#8094D9\"       \"#9D4BE6\"       \"#CEE052\"       \"#CFCDD3\" \n"
     ]
    },
    {
     "data": {
      "text/html": [
       "<strong>pdf:</strong> 2"
      ],
      "text/latex": [
       "\\textbf{pdf:} 2"
      ],
      "text/markdown": [
       "**pdf:** 2"
      ],
      "text/plain": [
       "pdf \n",
       "  2 "
      ]
     },
     "metadata": {},
     "output_type": "display_data"
    },
    {
     "name": "stderr",
     "output_type": "stream",
     "text": [
      "list of available files for patient: INS-E-007\n"
     ]
    },
    {
     "name": "stdout",
     "output_type": "stream",
     "text": [
      "[1] \"CLONES_TRBINSPIRE_INS-E-007-C12B_TCR-VJ_cDNA_25_AGATGTAC.txt\"\n",
      "[2] \"CLONES_TRBINSPIRE_INS-E-007-C15B_TCR-VJ_cDNA_43_ATCATTCC.txt\"\n",
      "[3] \"CLONES_TRBINSPIRE_INS-E-007-C3B_TCR-VJ_cDNA_37_CATCAAGT.txt\" \n",
      "[4] \"CLONES_TRBINSPIRE_INS-E-007-C6B_TCR-VJ_cDNA_35_CAAGACTA.txt\" \n",
      "[5] \"CLONES_TRBINSPIRE_INS-E-007-C9B_TCR-VJ_cDNA_42_TGAAGAGA.txt\" \n",
      "[6] \"CLONES_TRBINSPIRE_INS-E-007-EOTB_TCR-VJ_cDNA_63_AACTCACC.txt\"\n",
      "[7] \"CLONES_TRBINSPIRE_INS-E-007-SB_TCR-VJ_cDNA_41_AACTCACC.txt\"  \n"
     ]
    },
    {
     "name": "stderr",
     "output_type": "stream",
     "text": [
      "Total number of recurring clonotypes: \n"
     ]
    },
    {
     "name": "stdout",
     "output_type": "stream",
     "text": [
      "[1] 41\n"
     ]
    },
    {
     "name": "stderr",
     "output_type": "stream",
     "text": [
      "these are what we color: \n"
     ]
    },
    {
     "name": "stdout",
     "output_type": "stream",
     "text": [
      " CASTENYSNQPQHF CASSIRWTRVYEQYF     CAWSLDSEAFF  CASSLGEQYEKLFF CASSEDGLAGYEQYF \n",
      "      \"#83C3D9\"       \"#8D8CD9\"       \"#DA735B\"       \"#D2DF52\"       \"#AF4EE5\" \n",
      "  CASSPTVAGEQYF     CASSSGLDRSF CASSQEEAGSQPQHF    CASSHNRVEQYF CATADGSSYNSPLHF \n",
      "      \"#DB76C0\"       \"#D8BDC8\"       \"#86DFBF\"       \"#75E16D\"       \"#D4CB8C\" \n"
     ]
    },
    {
     "data": {
      "text/html": [
       "<strong>pdf:</strong> 2"
      ],
      "text/latex": [
       "\\textbf{pdf:} 2"
      ],
      "text/markdown": [
       "**pdf:** 2"
      ],
      "text/plain": [
       "pdf \n",
       "  2 "
      ]
     },
     "metadata": {},
     "output_type": "display_data"
    }
   ],
   "source": [
    "clontrack.fx(datapath, plotpath, \"INS-E-007\", \n",
    "             c(\"SB\", \"C3B\", \"C6B\",\"C9B\",\n",
    "               \"C12\", \"C15B\",\"EOTB\"), \"cloneCount\")\n",
    "clontrack.fx(datapath, plotpath, \"INS-E-007\", \n",
    "             c(\"SB\", \"C3B\", \"C6B\",\"C9B\",\n",
    "               \"C12\", \"C15B\",\"EOTB\"), \"cloneFraction\")"
   ]
  },
  {
   "cell_type": "code",
   "execution_count": 24,
   "metadata": {},
   "outputs": [
    {
     "name": "stderr",
     "output_type": "stream",
     "text": [
      "list of available files for patient: INS-E-008\n"
     ]
    },
    {
     "name": "stdout",
     "output_type": "stream",
     "text": [
      "[1] \"CLONES_TRBINSPIRE_INS-E-008-C3B_TCR-VJ_cDNA_42_CGCTGATC.txt\" \n",
      "[2] \"CLONES_TRBINSPIRE_INS-E-008-C6B_TCR-VJ_cDNA_35_GAGCTGAA.txt\" \n",
      "[3] \"CLONES_TRBINSPIRE_INS-E-008-C9B_TCR-VJ_cDNA_57_TGGAACAA.txt\" \n",
      "[4] \"CLONES_TRBINSPIRE_INS-E-008-EOTB_TCR-VJ_cDNA_76_AAGAGATC.txt\"\n",
      "[5] \"CLONES_TRBINSPIRE_INS-E-008-SB_TCR-VJ_cDNA_11_CATACCAA.txt\"  \n"
     ]
    },
    {
     "name": "stderr",
     "output_type": "stream",
     "text": [
      "Total number of recurring clonotypes: \n"
     ]
    },
    {
     "name": "stdout",
     "output_type": "stream",
     "text": [
      "[1] 70\n"
     ]
    },
    {
     "name": "stderr",
     "output_type": "stream",
     "text": [
      "these are what we color: \n"
     ]
    },
    {
     "name": "stdout",
     "output_type": "stream",
     "text": [
      "  CASSPDEETNTEAFF   CASSQDHVGDQPQHF CASSQDPGRGVVEGYTF   CACARGERVTGELFF \n",
      "        \"#D4CC8B\"         \"#AD51E4\"         \"#D877C4\"         \"#D19EA3\" \n",
      " CASSRPVSGSDYEQYF      CASRRVVYEQYF    CASSLAWISTEAFF      CASSPTQPAQYF \n",
      "        \"#CEE052\"         \"#7CD6CC\"         \"#DF6B50\"         \"#73DF7E\" \n",
      "  CASSIVAGAWDEQYF      CASVGRTDTQYF \n",
      "        \"#D0D5E0\"         \"#8997D9\" \n"
     ]
    },
    {
     "data": {
      "text/html": [
       "<strong>pdf:</strong> 2"
      ],
      "text/latex": [
       "\\textbf{pdf:} 2"
      ],
      "text/markdown": [
       "**pdf:** 2"
      ],
      "text/plain": [
       "pdf \n",
       "  2 "
      ]
     },
     "metadata": {},
     "output_type": "display_data"
    },
    {
     "name": "stderr",
     "output_type": "stream",
     "text": [
      "list of available files for patient: INS-E-008\n"
     ]
    },
    {
     "name": "stdout",
     "output_type": "stream",
     "text": [
      "[1] \"CLONES_TRBINSPIRE_INS-E-008-C3B_TCR-VJ_cDNA_42_CGCTGATC.txt\" \n",
      "[2] \"CLONES_TRBINSPIRE_INS-E-008-C6B_TCR-VJ_cDNA_35_GAGCTGAA.txt\" \n",
      "[3] \"CLONES_TRBINSPIRE_INS-E-008-C9B_TCR-VJ_cDNA_57_TGGAACAA.txt\" \n",
      "[4] \"CLONES_TRBINSPIRE_INS-E-008-EOTB_TCR-VJ_cDNA_76_AAGAGATC.txt\"\n",
      "[5] \"CLONES_TRBINSPIRE_INS-E-008-SB_TCR-VJ_cDNA_11_CATACCAA.txt\"  \n"
     ]
    },
    {
     "name": "stderr",
     "output_type": "stream",
     "text": [
      "Total number of recurring clonotypes: \n"
     ]
    },
    {
     "name": "stdout",
     "output_type": "stream",
     "text": [
      "[1] 70\n"
     ]
    },
    {
     "name": "stderr",
     "output_type": "stream",
     "text": [
      "these are what we color: \n"
     ]
    },
    {
     "name": "stdout",
     "output_type": "stream",
     "text": [
      "  CASSPDEETNTEAFF   CASSQDHVGDQPQHF CASSQDPGRGVVEGYTF   CACARGERVTGELFF \n",
      "        \"#D774C3\"         \"#D6C474\"         \"#D5AEC1\"         \"#DA6E5B\" \n",
      " CASSRPVSGSDYEQYF      CASRRVVYEQYF    CASSLAWISTEAFF      CASSPTQPAQYF \n",
      "        \"#7EE1A4\"         \"#AC50E5\"         \"#8794DA\"         \"#ACE353\" \n",
      "  CASSIVAGAWDEQYF      CASVGRTDTQYF \n",
      "        \"#D5DDCD\"         \"#77CCD5\" \n"
     ]
    },
    {
     "data": {
      "text/html": [
       "<strong>pdf:</strong> 2"
      ],
      "text/latex": [
       "\\textbf{pdf:} 2"
      ],
      "text/markdown": [
       "**pdf:** 2"
      ],
      "text/plain": [
       "pdf \n",
       "  2 "
      ]
     },
     "metadata": {},
     "output_type": "display_data"
    }
   ],
   "source": [
    "clontrack.fx(datapath, plotpath, \"INS-E-008\", \n",
    "             c(\"SB\", \"C3B\", \"C6B\",\"C9B\",\"EOTB\"), \"cloneCount\")\n",
    "clontrack.fx(datapath, plotpath, \"INS-E-008\", \n",
    "             c(\"SB\", \"C3B\", \"C6B\",\"C9B\",\"EOTB\"), \"cloneFraction\")"
   ]
  },
  {
   "cell_type": "code",
   "execution_count": 17,
   "metadata": {},
   "outputs": [
    {
     "name": "stderr",
     "output_type": "stream",
     "text": [
      "list of available files for patient: INS-A-004\n"
     ]
    },
    {
     "name": "stdout",
     "output_type": "stream",
     "text": [
      "[1] \"CLONES_TRBINSPIRE_INS-A-004-C12B_TCR-VJ_cDNA_34_AATCCGTC.txt\"\n",
      "[2] \"CLONES_TRBINSPIRE_INS-A-004-C15B_TCR-VJ_cDNA_17_AGCCATGC.txt\"\n",
      "[3] \"CLONES_TRBINSPIRE_INS-A-004-C6B_TCR-VJ_cDNA_77_CCAGTTCA.txt\" \n",
      "[4] \"CLONES_TRBINSPIRE_INS-A-004-C9B_TCR-VJ_cDNA_123_GGAGAACA.txt\"\n",
      "[5] \"CLONES_TRBINSPIRE_INS-A-004-SB_TCR-VJ_cDNA_31_GTCGTAGA.txt\"  \n"
     ]
    },
    {
     "name": "stderr",
     "output_type": "stream",
     "text": [
      "Total number of recurring clonotypes: \n"
     ]
    },
    {
     "name": "stdout",
     "output_type": "stream",
     "text": [
      "[1] 66\n"
     ]
    },
    {
     "name": "stderr",
     "output_type": "stream",
     "text": [
      "these are what we color: \n"
     ]
    },
    {
     "name": "stdout",
     "output_type": "stream",
     "text": [
      "     CSVGQGGTNEKLFF     CASSYGGAQADGYTF       CASTKEMNTEAFF        CASSLGTDTQYF \n",
      "          \"#D9C1C9\"           \"#D2DF52\"           \"#7FC2D9\"           \"#AD50E5\" \n",
      "     CASSLGTGNNEQFF       CSVGTGENAEQYF     CASSSTGSGNQPQHF CASSPWQDHAGSNTGELFF \n",
      "          \"#76E16D\"           \"#D4C786\"           \"#DB73BF\"           \"#DA735E\" \n",
      "     CASSLASGSDEQYF    CATRDRGRLNTGELFF \n",
      "          \"#9991D9\"           \"#8CE0BF\" \n"
     ]
    },
    {
     "data": {
      "text/html": [
       "<strong>pdf:</strong> 2"
      ],
      "text/latex": [
       "\\textbf{pdf:} 2"
      ],
      "text/markdown": [
       "**pdf:** 2"
      ],
      "text/plain": [
       "pdf \n",
       "  2 "
      ]
     },
     "metadata": {},
     "output_type": "display_data"
    }
   ],
   "source": [
    "clontrack.fx(datapath, plotpath, \"INS-A-004\", \n",
    "             c(\"SB\", \"C6B\", \"C9B\",\"C12B\",\"C15B\"), \"cloneFraction\")"
   ]
  },
  {
   "cell_type": "code",
   "execution_count": 15,
   "metadata": {},
   "outputs": [
    {
     "name": "stderr",
     "output_type": "stream",
     "text": [
      "list of available files for patient: INS-A-007\n"
     ]
    },
    {
     "name": "stdout",
     "output_type": "stream",
     "text": [
      "[1] \"CLONES_TRBINSPIRE_INS-A-007-C3B_TCR-VJ_cDNA_58_ACACGACC.txt\"\n",
      "[2] \"CLONES_TRBINSPIRE_INS-A-007-C6B_TCR-VJ_cDNA_76_CCGAAGTA.txt\"\n",
      "[3] \"CLONES_TRBINSPIRE_INS-A-007-C9B_TCR-VJ_cDNA_72_GGTGCGAA.txt\"\n",
      "[4] \"CLONES_TRBINSPIRE_INS-A-007-SB_TCR-VJ_cDNA_33_ATGCCTAA.txt\" \n"
     ]
    },
    {
     "name": "stderr",
     "output_type": "stream",
     "text": [
      "Total number of recurring clonotypes: \n"
     ]
    },
    {
     "name": "stdout",
     "output_type": "stream",
     "text": [
      "[1] 75\n"
     ]
    },
    {
     "name": "stderr",
     "output_type": "stream",
     "text": [
      "these are what we color: \n"
     ]
    },
    {
     "name": "stdout",
     "output_type": "stream",
     "text": [
      "CASSLDSAGGSYWNETQYF       CASSLSGAHGYTF       CASSLSGNYGYTF        CASRGWDTEAFF \n",
      "          \"#77E077\"           \"#AC50E5\"           \"#D674C3\"           \"#D2E053\" \n",
      "    CASSLGGTGGDTQYF       CASSEGQGYEQYF       CASRQPSYNEQFF     CASSLLAGGRGEQFF \n",
      "          \"#D6A8B8\"           \"#76D9C8\"           \"#D3C888\"           \"#C4D7DB\" \n",
      "  CASTPSPGVLSGNTIYF      CASSLFGNGKTQYF \n",
      "          \"#8497D9\"           \"#DD6D57\" \n"
     ]
    },
    {
     "data": {
      "text/html": [
       "<strong>pdf:</strong> 2"
      ],
      "text/latex": [
       "\\textbf{pdf:} 2"
      ],
      "text/markdown": [
       "**pdf:** 2"
      ],
      "text/plain": [
       "pdf \n",
       "  2 "
      ]
     },
     "metadata": {},
     "output_type": "display_data"
    }
   ],
   "source": [
    "clontrack.fx(datapath, plotpath, \"INS-A-007\", \n",
    "             c(\"SB\", \"C3B\", \"C6B\",\"C9B\"), \"cloneFraction\")"
   ]
  },
  {
   "cell_type": "code",
   "execution_count": 16,
   "metadata": {},
   "outputs": [
    {
     "name": "stderr",
     "output_type": "stream",
     "text": [
      "list of available files for patient: INS-D-003\n"
     ]
    },
    {
     "name": "stdout",
     "output_type": "stream",
     "text": [
      "[1] \"CLONES_TRBINSPIRE_INS-D-003-C12B_TCR-VJ_cDNA_13_ACACGACC.txt\"\n",
      "[2] \"CLONES_TRBINSPIRE_INS-D-003-C15B_TCR-VJ_cDNA_33_ATAGCGAC.txt\"\n",
      "[3] \"CLONES_TRBINSPIRE_INS-D-003-C3B_TCR-VJ_cDNA_45_GACAGTGC.txt\" \n",
      "[4] \"CLONES_TRBINSPIRE_INS-D-003-C6B_TCR-VJ_cDNA_77_CGACTGGA.txt\" \n",
      "[5] \"CLONES_TRBINSPIRE_INS-D-003-C9B_TCR-VJ_cDNA_81_GTGTTCTA.txt\" \n",
      "[6] \"CLONES_TRBINSPIRE_INS-D-003-SB_TCR-VJ_cDNA_20_AGATCGCA.txt\"  \n"
     ]
    },
    {
     "name": "stderr",
     "output_type": "stream",
     "text": [
      "Total number of recurring clonotypes: \n"
     ]
    },
    {
     "name": "stdout",
     "output_type": "stream",
     "text": [
      "[1] 73\n"
     ]
    },
    {
     "name": "stderr",
     "output_type": "stream",
     "text": [
      "these are what we color: \n"
     ]
    },
    {
     "name": "stdout",
     "output_type": "stream",
     "text": [
      " CSARREEGRINTEAFF CASSLDGADHSTDTQYF     CASSPQGSQPQHF    CASSPGLGPDEQYF \n",
      "        \"#D9B2C1\"         \"#7DE16B\"         \"#7EDFC0\"         \"#D4CD96\" \n",
      "  CASSLTGSSYNEQFF    CASSLAAGSTEAFF    CASAVGAMSDTQYF       CAISGGHEQYF \n",
      "        \"#9ECCDB\"         \"#D6D955\"         \"#AD50E4\"         \"#DA7157\" \n",
      "   CASSFRLNTGELFF  CAISTSSRPPGNEQFF \n",
      "        \"#D874C1\"         \"#8891DA\" \n"
     ]
    },
    {
     "data": {
      "text/html": [
       "<strong>pdf:</strong> 2"
      ],
      "text/latex": [
       "\\textbf{pdf:} 2"
      ],
      "text/markdown": [
       "**pdf:** 2"
      ],
      "text/plain": [
       "pdf \n",
       "  2 "
      ]
     },
     "metadata": {},
     "output_type": "display_data"
    }
   ],
   "source": [
    "clontrack.fx(datapath, plotpath, \"INS-D-003\", \n",
    "             c(\"SB\", \"C3B\", \"C6B\",\"C9B\", \"C12B\",\"C15B\"), \"cloneFraction\")"
   ]
  },
  {
   "cell_type": "code",
   "execution_count": 18,
   "metadata": {},
   "outputs": [
    {
     "name": "stderr",
     "output_type": "stream",
     "text": [
      "list of available files for patient: INS-D-004\n"
     ]
    },
    {
     "name": "stdout",
     "output_type": "stream",
     "text": [
      "[1] \"CLONES_TRBINSPIRE_INS-D-004-C12B_TCR-VJ_cDNA_23_ACAGATTC.txt\"\n",
      "[2] \"CLONES_TRBINSPIRE_INS-D-004-C3B_TCR-VJ_cDNA_29_GAGTTAGC.txt\" \n",
      "[3] \"CLONES_TRBINSPIRE_INS-D-004-C6B_TCR-VJ_cDNA_81_CGCATACA.txt\" \n",
      "[4] \"CLONES_TRBINSPIRE_INS-D-004-C9B_TCR-VJ_cDNA_102_TAGGATGA.txt\"\n",
      "[5] \"CLONES_TRBINSPIRE_INS-D-004-SB_TCR-VJ_cDNA_7_AGCAGGAA.txt\"   \n"
     ]
    },
    {
     "name": "stderr",
     "output_type": "stream",
     "text": [
      "Total number of recurring clonotypes: \n"
     ]
    },
    {
     "name": "stdout",
     "output_type": "stream",
     "text": [
      "[1] 14\n"
     ]
    },
    {
     "name": "stderr",
     "output_type": "stream",
     "text": [
      "these are what we color: \n"
     ]
    },
    {
     "name": "stdout",
     "output_type": "stream",
     "text": [
      "    CASSLWGNTEAFF    CASSPTDYTDTQYF    CASSPGTTASGYTF CSFGGTSGGSSYNEQFF \n",
      "        \"#7EE1A4\"         \"#77CCD5\"         \"#D874C2\"         \"#D5AEBF\" \n",
      "  CAISEWTGRHQPQHF    CASSEPDGYTEAFF   CATSRGQGSTDTQYF    CASTMGGDADTQYF \n",
      "        \"#D6C375\"         \"#ADE353\"         \"#DD6B59\"         \"#AC50E5\" \n",
      "  CASSSGSVAPGTQYF   CASSYDGSGANVLTF \n",
      "        \"#8995DA\"         \"#D5DECE\" \n"
     ]
    },
    {
     "data": {
      "text/html": [
       "<strong>pdf:</strong> 2"
      ],
      "text/latex": [
       "\\textbf{pdf:} 2"
      ],
      "text/markdown": [
       "**pdf:** 2"
      ],
      "text/plain": [
       "pdf \n",
       "  2 "
      ]
     },
     "metadata": {},
     "output_type": "display_data"
    }
   ],
   "source": [
    "clontrack.fx(datapath, plotpath, \"INS-D-004\", \n",
    "             c(\"SB\", \"C3B\", \"C6B\",\"C9B\", \"C12B\"), \"cloneFraction\")"
   ]
  },
  {
   "cell_type": "code",
   "execution_count": 19,
   "metadata": {},
   "outputs": [
    {
     "name": "stderr",
     "output_type": "stream",
     "text": [
      "list of available files for patient: INS-D-005\n"
     ]
    },
    {
     "name": "stdout",
     "output_type": "stream",
     "text": [
      "[1] \"CLONES_TRBINSPIRE_INS-D-005-C3B_TCR-VJ_cDNA_33_GATGAATC.txt\" \n",
      "[2] \"CLONES_TRBINSPIRE_INS-D-005-C6B_TCR-VJ_cDNA_231_CTCAATGA.txt\"\n",
      "[3] \"CLONES_TRBINSPIRE_INS-D-005-C9B_TCR-VJ_cDNA_19_TATCAGCA.txt\" \n",
      "[4] \"CLONES_TRBINSPIRE_INS-D-005-SB_TCR-VJ_cDNA_12_AGTCACTA.txt\"  \n"
     ]
    },
    {
     "name": "stderr",
     "output_type": "stream",
     "text": [
      "Total number of recurring clonotypes: \n"
     ]
    },
    {
     "name": "stdout",
     "output_type": "stream",
     "text": [
      "[1] 22\n"
     ]
    },
    {
     "name": "stderr",
     "output_type": "stream",
     "text": [
      "these are what we color: \n"
     ]
    },
    {
     "name": "stdout",
     "output_type": "stream",
     "text": [
      "  CATRDRTGESGELFF CASSPSLGRRLANEQFF     CASSLGGGFEQYF  CSASMIEGRGNQPQHF \n",
      "        \"#A584D5\"         \"#D8DACD\"         \"#DE616B\"         \"#BF4FDA\" \n",
      "     CASNRGRNIQYF  CASSRLPGVSYNEQFF  CASSLAQDSPYNEQFF CATSRVRGEGTYNEQFF \n",
      "        \"#D2AC6E\"         \"#D9A7C3\"         \"#7EDFBC\"         \"#80E163\" \n",
      " CASSRVGGQAGEKLFF   CASSSSGTWGETQYF \n",
      "        \"#D8DF69\"         \"#80BDD9\" \n"
     ]
    },
    {
     "data": {
      "text/html": [
       "<strong>pdf:</strong> 2"
      ],
      "text/latex": [
       "\\textbf{pdf:} 2"
      ],
      "text/markdown": [
       "**pdf:** 2"
      ],
      "text/plain": [
       "pdf \n",
       "  2 "
      ]
     },
     "metadata": {},
     "output_type": "display_data"
    }
   ],
   "source": [
    "clontrack.fx(datapath, plotpath, \"INS-D-005\", \n",
    "             c(\"SB\", \"C3B\", \"C6B\",\"C9B\"), \"cloneFraction\")"
   ]
  },
  {
   "cell_type": "code",
   "execution_count": 20,
   "metadata": {},
   "outputs": [
    {
     "name": "stderr",
     "output_type": "stream",
     "text": [
      "list of available files for patient: INS-E-013\n"
     ]
    },
    {
     "name": "stdout",
     "output_type": "stream",
     "text": [
      "[1] \"CLONES_TRBINSPIRE_INS-E-013-C12B_TCR-VJ_cDNA_27_AGCACCTC.txt\"\n",
      "[2] \"CLONES_TRBINSPIRE_INS-E-013-C3B_TCR-VJ_cDNA_25_AGTACAAG.txt\" \n",
      "[3] \"CLONES_TRBINSPIRE_INS-E-013-C6B_TCR-VJ_cDNA_25_GATAGACA.txt\" \n",
      "[4] \"CLONES_TRBINSPIRE_INS-E-013-C9B_TCR-VJ_cDNA_105_TGGCTTCA.txt\"\n",
      "[5] \"CLONES_TRBINSPIRE_INS-E-013-SB_TCR-VJ_cDNA_5_CCGTGAGA.txt\"   \n"
     ]
    },
    {
     "name": "stderr",
     "output_type": "stream",
     "text": [
      "Total number of recurring clonotypes: \n"
     ]
    },
    {
     "name": "stdout",
     "output_type": "stream",
     "text": [
      "[1] 42\n"
     ]
    },
    {
     "name": "stderr",
     "output_type": "stream",
     "text": [
      "these are what we color: \n"
     ]
    },
    {
     "name": "stdout",
     "output_type": "stream",
     "text": [
      "  CASSPPSGDYEQYF    CASSYGTQETQYF  CASSLGVGQGELQYF    CASSSSLRETQYF \n",
      "       \"#D0D5E0\"        \"#D19EA3\"        \"#8997D9\"        \"#7CD6CC\" \n",
      "   CASSREVGNEQFF   CASSSPEQDNEQFF  CASSQSLGPSYEQYF  CASSESEGTAYGYTF \n",
      "       \"#CEE052\"        \"#73DF7E\"        \"#D877C4\"        \"#DF6B50\" \n",
      "CASSGQTSGLPYEQYF  CASSPERQGYGELFF \n",
      "       \"#AD51E4\"        \"#D4CC8B\" \n"
     ]
    },
    {
     "data": {
      "text/html": [
       "<strong>pdf:</strong> 2"
      ],
      "text/latex": [
       "\\textbf{pdf:} 2"
      ],
      "text/markdown": [
       "**pdf:** 2"
      ],
      "text/plain": [
       "pdf \n",
       "  2 "
      ]
     },
     "metadata": {},
     "output_type": "display_data"
    }
   ],
   "source": [
    "clontrack.fx(datapath, plotpath, \"INS-E-013\", \n",
    "             c(\"SB\", \"C3B\", \"C6B\",\"C9B\", \"C12B\"), \"cloneFraction\")"
   ]
  },
  {
   "cell_type": "code",
   "execution_count": 21,
   "metadata": {},
   "outputs": [
    {
     "name": "stderr",
     "output_type": "stream",
     "text": [
      "list of available files for patient: INS-C-018\n"
     ]
    },
    {
     "name": "stdout",
     "output_type": "stream",
     "text": [
      "[1] \"CLONES_TRBINSPIRE_INS-C-018-C3B_TCR-VJ_cDNA_48_CCTCTATC.txt\"\n",
      "[2] \"CLONES_TRBINSPIRE_INS-C-018-C6B_TCR-VJ_cDNA_60_CGAACTTA.txt\"\n",
      "[3] \"CLONES_TRBINSPIRE_INS-C-018-C9B_TCR-VJ_cDNA_30_GTCGTAGA.txt\"\n",
      "[4] \"CLONES_TRBINSPIRE_INS-C-018-SB_TCR-VJ_cDNA_19_ACCTCCAA.txt\" \n"
     ]
    },
    {
     "name": "stderr",
     "output_type": "stream",
     "text": [
      "Total number of recurring clonotypes: \n"
     ]
    },
    {
     "name": "stdout",
     "output_type": "stream",
     "text": [
      "[1] 32\n"
     ]
    },
    {
     "name": "stderr",
     "output_type": "stream",
     "text": [
      "these are what we color: \n"
     ]
    },
    {
     "name": "stdout",
     "output_type": "stream",
     "text": [
      "     CSSFSLNEQFF    CASSLGSTGELFF CASSSPAGGPSDEQFF  CASSLSGGSHQPQHF \n",
      "       \"#AD50E4\"        \"#85D0D5\"        \"#D6CD96\"        \"#D7BDCC\" \n",
      " CASSFQGGLQETQYF      CATSERSEQYF  CASSQSGLEYTEQFF    CASSQGQRYEQYF \n",
      "       \"#D976C1\"        \"#83E2AD\"        \"#81E15C\"        \"#8794D9\" \n",
      " CASSLEQAGRGKLFF  CASRLALEGIQPQHF \n",
      "       \"#D9D857\"        \"#D9765E\" \n"
     ]
    },
    {
     "data": {
      "text/html": [
       "<strong>pdf:</strong> 2"
      ],
      "text/latex": [
       "\\textbf{pdf:} 2"
      ],
      "text/markdown": [
       "**pdf:** 2"
      ],
      "text/plain": [
       "pdf \n",
       "  2 "
      ]
     },
     "metadata": {},
     "output_type": "display_data"
    }
   ],
   "source": [
    "clontrack.fx(datapath, plotpath, \"INS-C-018\", \n",
    "             c(\"SB\", \"C3B\", \"C6B\",\"C9B\"), \"cloneFraction\")"
   ]
  },
  {
   "cell_type": "code",
   "execution_count": 22,
   "metadata": {},
   "outputs": [
    {
     "name": "stderr",
     "output_type": "stream",
     "text": [
      "list of available files for patient: INS-D-001\n"
     ]
    },
    {
     "name": "stdout",
     "output_type": "stream",
     "text": [
      "[1] \"CLONES_TRBINSPIRE_INS-D-001-C12B_TCR-VJ_cDNA_3_AATGTTGC.txt\" \n",
      "[2] \"CLONES_TRBINSPIRE_INS-D-001-C15B_TCR-VJ_cDNA_24_AGGCTAAC.txt\"\n",
      "[3] \"CLONES_TRBINSPIRE_INS-D-001-C3B_TCR-VJ_cDNA_59_ATTGGCTC.txt\" \n",
      "[4] \"CLONES_TRBINSPIRE_INS-D-001-C6B_TCR-VJ_cDNA_33_AATCCGTC.txt\" \n",
      "[5] \"CLONES_TRBINSPIRE_INS-D-001-C9B_TCR-VJ_cDNA_49_GTCTGTCA.txt\" \n",
      "[6] \"CLONES_TRBINSPIRE_INS-D-001-SB_TCR-VJ_cDNA_40_TGGTGGTA.txt\"  \n"
     ]
    },
    {
     "name": "stderr",
     "output_type": "stream",
     "text": [
      "Total number of recurring clonotypes: \n"
     ]
    },
    {
     "name": "stdout",
     "output_type": "stream",
     "text": [
      "[1] 35\n"
     ]
    },
    {
     "name": "stderr",
     "output_type": "stream",
     "text": [
      "these are what we color: \n"
     ]
    },
    {
     "name": "stdout",
     "output_type": "stream",
     "text": [
      "    CASSLTTSPGNTIYF   CAISERTGTRNTGELFF      CASSSSGDVKKLFF        CASRQSSYEQYF \n",
      "          \"#81E163\"           \"#8E8CDA\"           \"#88C4DA\"           \"#D8B1C7\" \n",
      " CASSSIRTGDYMNTEAFF       CASSLEPSYEQYF      CASSPSGAKETQYF CASSYSSPRGGFSYNEQFF \n",
      "          \"#DA7558\"           \"#D6D364\"           \"#AF4EE5\"           \"#D5D1B1\" \n",
      "    CASSGPRDSYNEQFF     CASSQRPYPYNEQFF \n",
      "          \"#D96FBD\"           \"#7EE0BD\" \n"
     ]
    },
    {
     "data": {
      "text/html": [
       "<strong>pdf:</strong> 2"
      ],
      "text/latex": [
       "\\textbf{pdf:} 2"
      ],
      "text/markdown": [
       "**pdf:** 2"
      ],
      "text/plain": [
       "pdf \n",
       "  2 "
      ]
     },
     "metadata": {},
     "output_type": "display_data"
    }
   ],
   "source": [
    "clontrack.fx(datapath, plotpath, \"INS-D-001\", \n",
    "             c(\"SB\", \"C3B\", \"C6B\",\"C9B\", \"C12B\",\"C15B\"), \"cloneFraction\")"
   ]
  },
  {
   "cell_type": "code",
   "execution_count": null,
   "metadata": {},
   "outputs": [],
   "source": []
  }
 ],
 "metadata": {
  "kernelspec": {
   "display_name": "R",
   "language": "R",
   "name": "ir"
  },
  "language_info": {
   "codemirror_mode": "r",
   "file_extension": ".r",
   "mimetype": "text/x-r-source",
   "name": "R",
   "pygments_lexer": "r",
   "version": "3.5.1"
  },
  "toc": {
   "base_numbering": 1,
   "nav_menu": {},
   "number_sections": false,
   "sideBar": true,
   "skip_h1_title": false,
   "title_cell": "Table of Contents",
   "title_sidebar": "Contents",
   "toc_cell": true,
   "toc_position": {
    "height": "calc(100% - 180px)",
    "left": "10px",
    "top": "150px",
    "width": "217.344px"
   },
   "toc_section_display": true,
   "toc_window_display": false
  }
 },
 "nbformat": 4,
 "nbformat_minor": 2
}
