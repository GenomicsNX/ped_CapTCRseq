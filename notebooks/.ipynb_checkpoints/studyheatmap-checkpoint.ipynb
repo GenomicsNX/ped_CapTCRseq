{
 "cells": [
  {
   "cell_type": "markdown",
   "metadata": {
    "toc": true
   },
   "source": [
    "<h1>Table of Contents<span class=\"tocSkip\"></span></h1>\n",
    "<div class=\"toc\"><ul class=\"toc-item\"><li><span><a href=\"#Dependencies\" data-toc-modified-id=\"Dependencies-1\">Dependencies</a></span></li><li><span><a href=\"#Functions\" data-toc-modified-id=\"Functions-2\">Functions</a></span></li><li><span><a href=\"#Paths\" data-toc-modified-id=\"Paths-3\">Paths</a></span></li><li><span><a href=\"#Main\" data-toc-modified-id=\"Main-4\">Main</a></span></li></ul></div>"
   ]
  },
  {
   "cell_type": "markdown",
   "metadata": {},
   "source": [
    "# Dependencies"
   ]
  },
  {
   "cell_type": "code",
   "execution_count": 1,
   "metadata": {},
   "outputs": [
    {
     "name": "stderr",
     "output_type": "stream",
     "text": [
      "Loading required package: grid\n",
      "\n",
      "========================================\n",
      "ComplexHeatmap version 2.6.2\n",
      "Bioconductor page: http://bioconductor.org/packages/ComplexHeatmap/\n",
      "Github page: https://github.com/jokergoo/ComplexHeatmap\n",
      "Documentation: http://jokergoo.github.io/ComplexHeatmap-reference\n",
      "\n",
      "If you use it in published research, please cite:\n",
      "Gu, Z. Complex heatmaps reveal patterns and correlations in multidimensional \n",
      "  genomic data. Bioinformatics 2016.\n",
      "\n",
      "This message can be suppressed by:\n",
      "  suppressPackageStartupMessages(library(ComplexHeatmap))\n",
      "========================================\n",
      "\n",
      "\n"
     ]
    }
   ],
   "source": [
    "library(ggplot2)\n",
    "library(ComplexHeatmap)"
   ]
  },
  {
   "cell_type": "markdown",
   "metadata": {},
   "source": [
    "# Functions"
   ]
  },
  {
   "cell_type": "code",
   "execution_count": 2,
   "metadata": {},
   "outputs": [],
   "source": [
    "histp <- function(df, var){\n",
    "    myp <- ggplot(data = df, aes(x = eval(parse(text = var)))) + \n",
    "    geom_histogram() + myplot + myaxis + labs(x = var)\n",
    "    return(myp)\n",
    "}"
   ]
  },
  {
   "cell_type": "code",
   "execution_count": 3,
   "metadata": {},
   "outputs": [],
   "source": [
    "source(\"/Users/anabbi/git/ped_CapTCRseq/R/ggplot2_theme.R\")\n",
    "source(\"/Users/anabbi/git/ped_CapTCRseq/R/color_schemes.R\")"
   ]
  },
  {
   "cell_type": "markdown",
   "metadata": {},
   "source": [
    "# Paths"
   ]
  },
  {
   "cell_type": "code",
   "execution_count": 4,
   "metadata": {},
   "outputs": [],
   "source": [
    "datapath <- \"/Users/anabbi/OneDrive - UHN/Documents/INTERCEPT/Data/\"\n",
    "plotpath <- \"/Users/anabbi/OneDrive - UHN/Documents/INTERCEPT/Plots/\"\n",
    "manifestpath <- \"/Users/anabbi/OneDrive - UHN/Documents/INTERCEPT/Manifests/\"\n",
    "\n",
    "gitpath <- \"/Users/anabbi/git/ped_CapTCRseq/\""
   ]
  },
  {
   "cell_type": "markdown",
   "metadata": {},
   "source": [
    "# Main"
   ]
  },
  {
   "cell_type": "code",
   "execution_count": 31,
   "metadata": {},
   "outputs": [],
   "source": [
    "metadata <- read.csv(file = paste0(datapath, \"INT_metadata_flow.csv\"),header = T, stringsAsFactors = F)"
   ]
  },
  {
   "cell_type": "code",
   "execution_count": 32,
   "metadata": {},
   "outputs": [
    {
     "data": {
      "text/html": [
       "<table class=\"dataframe\">\n",
       "<caption>A data.frame: 6 × 35</caption>\n",
       "<thead>\n",
       "\t<tr><th></th><th scope=col>Patient</th><th scope=col>cycle</th><th scope=col>FOLD</th><th scope=col>ATC</th><th scope=col>Age</th><th scope=col>Disease_type</th><th scope=col>TE_fold</th><th scope=col>Pass</th><th scope=col>CD3</th><th scope=col>EM</th><th scope=col>⋯</th><th scope=col>CTLA4</th><th scope=col>PD1.</th><th scope=col>PDL1.</th><th scope=col>LAG3.</th><th scope=col>TIM3.</th><th scope=col>CTLA4.</th><th scope=col>Any.NCR</th><th scope=col>PD1...LAG3...TIM3</th><th scope=col>group</th><th scope=col>sample_id</th></tr>\n",
       "\t<tr><th></th><th scope=col>&lt;chr&gt;</th><th scope=col>&lt;int&gt;</th><th scope=col>&lt;dbl&gt;</th><th scope=col>&lt;dbl&gt;</th><th scope=col>&lt;dbl&gt;</th><th scope=col>&lt;chr&gt;</th><th scope=col>&lt;chr&gt;</th><th scope=col>&lt;lgl&gt;</th><th scope=col>&lt;int&gt;</th><th scope=col>&lt;int&gt;</th><th scope=col>⋯</th><th scope=col>&lt;int&gt;</th><th scope=col>&lt;dbl&gt;</th><th scope=col>&lt;dbl&gt;</th><th scope=col>&lt;dbl&gt;</th><th scope=col>&lt;dbl&gt;</th><th scope=col>&lt;dbl&gt;</th><th scope=col>&lt;dbl&gt;</th><th scope=col>&lt;dbl&gt;</th><th scope=col>&lt;chr&gt;</th><th scope=col>&lt;chr&gt;</th></tr>\n",
       "</thead>\n",
       "<tbody>\n",
       "\t<tr><th scope=row>1</th><td>CHP_330</td><td>1</td><td>0.9</td><td>0</td><td>5</td><td>OS    </td><td>0.9</td><td>NA</td><td>2437</td><td> 24</td><td>⋯</td><td>NA</td><td> 4.636849</td><td>NA</td><td> 2.749282</td><td> 4.636849</td><td>NA</td><td>NA</td><td>NA</td><td>Solid   </td><td>CHP_330_01</td></tr>\n",
       "\t<tr><th scope=row>2</th><td>CHP_330</td><td>2</td><td>1.9</td><td>0</td><td>5</td><td>OS    </td><td>1.9</td><td>NA</td><td>2425</td><td> 21</td><td>⋯</td><td>NA</td><td>21.855670</td><td>NA</td><td>11.752577</td><td>21.855670</td><td>NA</td><td>NA</td><td>NA</td><td>Solid   </td><td>CHP_330_02</td></tr>\n",
       "\t<tr><th scope=row>3</th><td>CHP_330</td><td>3</td><td>1.5</td><td>0</td><td>5</td><td>OS    </td><td>1.5</td><td>NA</td><td> 544</td><td> 17</td><td>⋯</td><td>NA</td><td>      Inf</td><td>NA</td><td>      Inf</td><td>      Inf</td><td>NA</td><td>NA</td><td>NA</td><td>Solid   </td><td>CHP_330_03</td></tr>\n",
       "\t<tr><th scope=row>4</th><td>CHP_330</td><td>4</td><td>4.1</td><td>0</td><td>5</td><td>OS    </td><td>4.1</td><td>NA</td><td>2484</td><td>125</td><td>⋯</td><td>NA</td><td> 8.776167</td><td>NA</td><td> 1.610306</td><td> 8.776167</td><td>NA</td><td>NA</td><td>NA</td><td>Solid   </td><td>CHP_330_04</td></tr>\n",
       "\t<tr><th scope=row>5</th><td>CHP_330</td><td>5</td><td>6.2</td><td>0</td><td>5</td><td>OS    </td><td>6.2</td><td>NA</td><td>   0</td><td> NA</td><td>⋯</td><td>NA</td><td>     -Inf</td><td>NA</td><td>     -Inf</td><td>     -Inf</td><td>NA</td><td>NA</td><td>NA</td><td>Solid   </td><td>CHP_330_05</td></tr>\n",
       "\t<tr><th scope=row>6</th><td>CHP_331</td><td>1</td><td>0.0</td><td>0</td><td>5</td><td>SR ALL</td><td>0  </td><td>NA</td><td>   0</td><td> NA</td><td>⋯</td><td>NA</td><td>       NA</td><td>NA</td><td>       NA</td><td>       NA</td><td>NA</td><td>NA</td><td>NA</td><td>Leukemia</td><td>CHP_331_01</td></tr>\n",
       "</tbody>\n",
       "</table>\n"
      ],
      "text/latex": [
       "A data.frame: 6 × 35\n",
       "\\begin{tabular}{r|lllllllllllllllllllll}\n",
       "  & Patient & cycle & FOLD & ATC & Age & Disease\\_type & TE\\_fold & Pass & CD3 & EM & ⋯ & CTLA4 & PD1. & PDL1. & LAG3. & TIM3. & CTLA4. & Any.NCR & PD1...LAG3...TIM3 & group & sample\\_id\\\\\n",
       "  & <chr> & <int> & <dbl> & <dbl> & <dbl> & <chr> & <chr> & <lgl> & <int> & <int> & ⋯ & <int> & <dbl> & <dbl> & <dbl> & <dbl> & <dbl> & <dbl> & <dbl> & <chr> & <chr>\\\\\n",
       "\\hline\n",
       "\t1 & CHP\\_330 & 1 & 0.9 & 0 & 5 & OS     & 0.9 & NA & 2437 &  24 & ⋯ & NA &  4.636849 & NA &  2.749282 &  4.636849 & NA & NA & NA & Solid    & CHP\\_330\\_01\\\\\n",
       "\t2 & CHP\\_330 & 2 & 1.9 & 0 & 5 & OS     & 1.9 & NA & 2425 &  21 & ⋯ & NA & 21.855670 & NA & 11.752577 & 21.855670 & NA & NA & NA & Solid    & CHP\\_330\\_02\\\\\n",
       "\t3 & CHP\\_330 & 3 & 1.5 & 0 & 5 & OS     & 1.5 & NA &  544 &  17 & ⋯ & NA &       Inf & NA &       Inf &       Inf & NA & NA & NA & Solid    & CHP\\_330\\_03\\\\\n",
       "\t4 & CHP\\_330 & 4 & 4.1 & 0 & 5 & OS     & 4.1 & NA & 2484 & 125 & ⋯ & NA &  8.776167 & NA &  1.610306 &  8.776167 & NA & NA & NA & Solid    & CHP\\_330\\_04\\\\\n",
       "\t5 & CHP\\_330 & 5 & 6.2 & 0 & 5 & OS     & 6.2 & NA &    0 &  NA & ⋯ & NA &      -Inf & NA &      -Inf &      -Inf & NA & NA & NA & Solid    & CHP\\_330\\_05\\\\\n",
       "\t6 & CHP\\_331 & 1 & 0.0 & 0 & 5 & SR ALL & 0   & NA &    0 &  NA & ⋯ & NA &        NA & NA &        NA &        NA & NA & NA & NA & Leukemia & CHP\\_331\\_01\\\\\n",
       "\\end{tabular}\n"
      ],
      "text/markdown": [
       "\n",
       "A data.frame: 6 × 35\n",
       "\n",
       "| <!--/--> | Patient &lt;chr&gt; | cycle &lt;int&gt; | FOLD &lt;dbl&gt; | ATC &lt;dbl&gt; | Age &lt;dbl&gt; | Disease_type &lt;chr&gt; | TE_fold &lt;chr&gt; | Pass &lt;lgl&gt; | CD3 &lt;int&gt; | EM &lt;int&gt; | ⋯ ⋯ | CTLA4 &lt;int&gt; | PD1. &lt;dbl&gt; | PDL1. &lt;dbl&gt; | LAG3. &lt;dbl&gt; | TIM3. &lt;dbl&gt; | CTLA4. &lt;dbl&gt; | Any.NCR &lt;dbl&gt; | PD1...LAG3...TIM3 &lt;dbl&gt; | group &lt;chr&gt; | sample_id &lt;chr&gt; |\n",
       "|---|---|---|---|---|---|---|---|---|---|---|---|---|---|---|---|---|---|---|---|---|---|\n",
       "| 1 | CHP_330 | 1 | 0.9 | 0 | 5 | OS     | 0.9 | NA | 2437 |  24 | ⋯ | NA |  4.636849 | NA |  2.749282 |  4.636849 | NA | NA | NA | Solid    | CHP_330_01 |\n",
       "| 2 | CHP_330 | 2 | 1.9 | 0 | 5 | OS     | 1.9 | NA | 2425 |  21 | ⋯ | NA | 21.855670 | NA | 11.752577 | 21.855670 | NA | NA | NA | Solid    | CHP_330_02 |\n",
       "| 3 | CHP_330 | 3 | 1.5 | 0 | 5 | OS     | 1.5 | NA |  544 |  17 | ⋯ | NA |       Inf | NA |       Inf |       Inf | NA | NA | NA | Solid    | CHP_330_03 |\n",
       "| 4 | CHP_330 | 4 | 4.1 | 0 | 5 | OS     | 4.1 | NA | 2484 | 125 | ⋯ | NA |  8.776167 | NA |  1.610306 |  8.776167 | NA | NA | NA | Solid    | CHP_330_04 |\n",
       "| 5 | CHP_330 | 5 | 6.2 | 0 | 5 | OS     | 6.2 | NA |    0 |  NA | ⋯ | NA |      -Inf | NA |      -Inf |      -Inf | NA | NA | NA | Solid    | CHP_330_05 |\n",
       "| 6 | CHP_331 | 1 | 0.0 | 0 | 5 | SR ALL | 0   | NA |    0 |  NA | ⋯ | NA |        NA | NA |        NA |        NA | NA | NA | NA | Leukemia | CHP_331_01 |\n",
       "\n"
      ],
      "text/plain": [
       "  Patient cycle FOLD ATC Age Disease_type TE_fold Pass CD3  EM  ⋯ CTLA4\n",
       "1 CHP_330 1     0.9  0   5   OS           0.9     NA   2437  24 ⋯ NA   \n",
       "2 CHP_330 2     1.9  0   5   OS           1.9     NA   2425  21 ⋯ NA   \n",
       "3 CHP_330 3     1.5  0   5   OS           1.5     NA    544  17 ⋯ NA   \n",
       "4 CHP_330 4     4.1  0   5   OS           4.1     NA   2484 125 ⋯ NA   \n",
       "5 CHP_330 5     6.2  0   5   OS           6.2     NA      0  NA ⋯ NA   \n",
       "6 CHP_331 1     0.0  0   5   SR ALL       0       NA      0  NA ⋯ NA   \n",
       "  PD1.      PDL1. LAG3.     TIM3.     CTLA4. Any.NCR PD1...LAG3...TIM3 group   \n",
       "1  4.636849 NA     2.749282  4.636849 NA     NA      NA                Solid   \n",
       "2 21.855670 NA    11.752577 21.855670 NA     NA      NA                Solid   \n",
       "3       Inf NA          Inf       Inf NA     NA      NA                Solid   \n",
       "4  8.776167 NA     1.610306  8.776167 NA     NA      NA                Solid   \n",
       "5      -Inf NA         -Inf      -Inf NA     NA      NA                Solid   \n",
       "6        NA NA           NA        NA NA     NA      NA                Leukemia\n",
       "  sample_id \n",
       "1 CHP_330_01\n",
       "2 CHP_330_02\n",
       "3 CHP_330_03\n",
       "4 CHP_330_04\n",
       "5 CHP_330_05\n",
       "6 CHP_331_01"
      ]
     },
     "metadata": {},
     "output_type": "display_data"
    }
   ],
   "source": [
    "head(metadata)"
   ]
  },
  {
   "cell_type": "code",
   "execution_count": 33,
   "metadata": {},
   "outputs": [],
   "source": [
    "divstats <- read.csv(paste0(datapath, \"capTCRseq/divstats_TRBCHP.csv\"), header = T, stringsAsFactors = F, row.names = 1)"
   ]
  },
  {
   "cell_type": "code",
   "execution_count": 34,
   "metadata": {},
   "outputs": [
    {
     "data": {
      "text/html": [
       "<table class=\"dataframe\">\n",
       "<caption>A data.frame: 6 × 24</caption>\n",
       "<thead>\n",
       "\t<tr><th></th><th scope=col>TRB</th><th scope=col>Reads</th><th scope=col>CPKR</th><th scope=col>Average_reads</th><th scope=col>VMR</th><th scope=col>Max_reads</th><th scope=col>Singletons</th><th scope=col>Doubletons</th><th scope=col>qD</th><th scope=col>Sample_Coverage</th><th scope=col>⋯</th><th scope=col>estimated_Shannon</th><th scope=col>SE_Shannon</th><th scope=col>observed_Simpson</th><th scope=col>estimated_Simpson</th><th scope=col>SE_Simpson</th><th scope=col>Sample</th><th scope=col>Group</th><th scope=col>Patient</th><th scope=col>Cycle</th><th scope=col>sample_id</th></tr>\n",
       "\t<tr><th></th><th scope=col>&lt;int&gt;</th><th scope=col>&lt;int&gt;</th><th scope=col>&lt;dbl&gt;</th><th scope=col>&lt;dbl&gt;</th><th scope=col>&lt;dbl&gt;</th><th scope=col>&lt;int&gt;</th><th scope=col>&lt;int&gt;</th><th scope=col>&lt;int&gt;</th><th scope=col>&lt;dbl&gt;</th><th scope=col>&lt;dbl&gt;</th><th scope=col>⋯</th><th scope=col>&lt;dbl&gt;</th><th scope=col>&lt;dbl&gt;</th><th scope=col>&lt;dbl&gt;</th><th scope=col>&lt;dbl&gt;</th><th scope=col>&lt;dbl&gt;</th><th scope=col>&lt;chr&gt;</th><th scope=col>&lt;chr&gt;</th><th scope=col>&lt;chr&gt;</th><th scope=col>&lt;int&gt;</th><th scope=col>&lt;chr&gt;</th></tr>\n",
       "</thead>\n",
       "<tbody>\n",
       "\t<tr><th scope=row>CHP_315-05-PBMC-DNA</th><td> 25</td><td> 192</td><td>130.20833</td><td> 7.680000</td><td>1.6157205</td><td>63</td><td> 4</td><td> 2</td><td> 27.519</td><td>0.992</td><td>⋯</td><td> 14.196</td><td>1.262</td><td>  7.130</td><td>  7.367</td><td>1.066</td><td>PBMC</td><td>CHP</td><td>CHP_315</td><td>5</td><td>CHP_315_05</td></tr>\n",
       "\t<tr><th scope=row>CHP_350-01-PBMC-DNA</th><td>153</td><td>1647</td><td> 92.89617</td><td>10.764706</td><td>0.7872963</td><td>59</td><td> 5</td><td> 6</td><td>154.893</td><td>1.000</td><td>⋯</td><td>125.659</td><td>2.217</td><td> 94.691</td><td>100.406</td><td>3.380</td><td>PBMC</td><td>CHP</td><td>CHP_350</td><td>1</td><td>CHP_350_01</td></tr>\n",
       "\t<tr><th scope=row>CHP_350-02-PBMC-DNA</th><td>269</td><td>2992</td><td> 89.90642</td><td>11.122677</td><td>0.8300771</td><td>92</td><td>17</td><td> 5</td><td>281.850</td><td>0.997</td><td>⋯</td><td>219.073</td><td>2.893</td><td>159.505</td><td>168.431</td><td>5.344</td><td>PBMC</td><td>CHP</td><td>CHP_350</td><td>2</td><td>CHP_350_02</td></tr>\n",
       "\t<tr><th scope=row>CHP_350-03-PBMC-DNA</th><td>207</td><td>2134</td><td> 97.00094</td><td>10.309179</td><td>0.7807083</td><td>52</td><td> 9</td><td>10</td><td>210.609</td><td>1.000</td><td>⋯</td><td>167.953</td><td>2.495</td><td>128.847</td><td>137.062</td><td>3.637</td><td>PBMC</td><td>CHP</td><td>CHP_350</td><td>3</td><td>CHP_350_03</td></tr>\n",
       "\t<tr><th scope=row>CHP_350-04-PBMC-DNA</th><td>106</td><td> 989</td><td>107.17897</td><td> 9.330189</td><td>0.7731222</td><td>34</td><td>10</td><td> 2</td><td>114.239</td><td>0.993</td><td>⋯</td><td> 86.422</td><td>2.107</td><td> 66.580</td><td> 71.313</td><td>2.531</td><td>PBMC</td><td>CHP</td><td>CHP_350</td><td>4</td><td>CHP_350_04</td></tr>\n",
       "\t<tr><th scope=row>CHP_353-02-PBMC-DNA</th><td> 16</td><td> 234</td><td> 68.37607</td><td>14.625000</td><td>0.5897147</td><td>35</td><td> 1</td><td> 0</td><td> 16.000</td><td>1.000</td><td>⋯</td><td> 13.807</td><td>0.473</td><td> 12.066</td><td> 12.668</td><td>0.744</td><td>PBMC</td><td>CHP</td><td>CHP_353</td><td>2</td><td>CHP_353_02</td></tr>\n",
       "</tbody>\n",
       "</table>\n"
      ],
      "text/latex": [
       "A data.frame: 6 × 24\n",
       "\\begin{tabular}{r|lllllllllllllllllllll}\n",
       "  & TRB & Reads & CPKR & Average\\_reads & VMR & Max\\_reads & Singletons & Doubletons & qD & Sample\\_Coverage & ⋯ & estimated\\_Shannon & SE\\_Shannon & observed\\_Simpson & estimated\\_Simpson & SE\\_Simpson & Sample & Group & Patient & Cycle & sample\\_id\\\\\n",
       "  & <int> & <int> & <dbl> & <dbl> & <dbl> & <int> & <int> & <int> & <dbl> & <dbl> & ⋯ & <dbl> & <dbl> & <dbl> & <dbl> & <dbl> & <chr> & <chr> & <chr> & <int> & <chr>\\\\\n",
       "\\hline\n",
       "\tCHP\\_315-05-PBMC-DNA &  25 &  192 & 130.20833 &  7.680000 & 1.6157205 & 63 &  4 &  2 &  27.519 & 0.992 & ⋯ &  14.196 & 1.262 &   7.130 &   7.367 & 1.066 & PBMC & CHP & CHP\\_315 & 5 & CHP\\_315\\_05\\\\\n",
       "\tCHP\\_350-01-PBMC-DNA & 153 & 1647 &  92.89617 & 10.764706 & 0.7872963 & 59 &  5 &  6 & 154.893 & 1.000 & ⋯ & 125.659 & 2.217 &  94.691 & 100.406 & 3.380 & PBMC & CHP & CHP\\_350 & 1 & CHP\\_350\\_01\\\\\n",
       "\tCHP\\_350-02-PBMC-DNA & 269 & 2992 &  89.90642 & 11.122677 & 0.8300771 & 92 & 17 &  5 & 281.850 & 0.997 & ⋯ & 219.073 & 2.893 & 159.505 & 168.431 & 5.344 & PBMC & CHP & CHP\\_350 & 2 & CHP\\_350\\_02\\\\\n",
       "\tCHP\\_350-03-PBMC-DNA & 207 & 2134 &  97.00094 & 10.309179 & 0.7807083 & 52 &  9 & 10 & 210.609 & 1.000 & ⋯ & 167.953 & 2.495 & 128.847 & 137.062 & 3.637 & PBMC & CHP & CHP\\_350 & 3 & CHP\\_350\\_03\\\\\n",
       "\tCHP\\_350-04-PBMC-DNA & 106 &  989 & 107.17897 &  9.330189 & 0.7731222 & 34 & 10 &  2 & 114.239 & 0.993 & ⋯ &  86.422 & 2.107 &  66.580 &  71.313 & 2.531 & PBMC & CHP & CHP\\_350 & 4 & CHP\\_350\\_04\\\\\n",
       "\tCHP\\_353-02-PBMC-DNA &  16 &  234 &  68.37607 & 14.625000 & 0.5897147 & 35 &  1 &  0 &  16.000 & 1.000 & ⋯ &  13.807 & 0.473 &  12.066 &  12.668 & 0.744 & PBMC & CHP & CHP\\_353 & 2 & CHP\\_353\\_02\\\\\n",
       "\\end{tabular}\n"
      ],
      "text/markdown": [
       "\n",
       "A data.frame: 6 × 24\n",
       "\n",
       "| <!--/--> | TRB &lt;int&gt; | Reads &lt;int&gt; | CPKR &lt;dbl&gt; | Average_reads &lt;dbl&gt; | VMR &lt;dbl&gt; | Max_reads &lt;int&gt; | Singletons &lt;int&gt; | Doubletons &lt;int&gt; | qD &lt;dbl&gt; | Sample_Coverage &lt;dbl&gt; | ⋯ ⋯ | estimated_Shannon &lt;dbl&gt; | SE_Shannon &lt;dbl&gt; | observed_Simpson &lt;dbl&gt; | estimated_Simpson &lt;dbl&gt; | SE_Simpson &lt;dbl&gt; | Sample &lt;chr&gt; | Group &lt;chr&gt; | Patient &lt;chr&gt; | Cycle &lt;int&gt; | sample_id &lt;chr&gt; |\n",
       "|---|---|---|---|---|---|---|---|---|---|---|---|---|---|---|---|---|---|---|---|---|---|\n",
       "| CHP_315-05-PBMC-DNA |  25 |  192 | 130.20833 |  7.680000 | 1.6157205 | 63 |  4 |  2 |  27.519 | 0.992 | ⋯ |  14.196 | 1.262 |   7.130 |   7.367 | 1.066 | PBMC | CHP | CHP_315 | 5 | CHP_315_05 |\n",
       "| CHP_350-01-PBMC-DNA | 153 | 1647 |  92.89617 | 10.764706 | 0.7872963 | 59 |  5 |  6 | 154.893 | 1.000 | ⋯ | 125.659 | 2.217 |  94.691 | 100.406 | 3.380 | PBMC | CHP | CHP_350 | 1 | CHP_350_01 |\n",
       "| CHP_350-02-PBMC-DNA | 269 | 2992 |  89.90642 | 11.122677 | 0.8300771 | 92 | 17 |  5 | 281.850 | 0.997 | ⋯ | 219.073 | 2.893 | 159.505 | 168.431 | 5.344 | PBMC | CHP | CHP_350 | 2 | CHP_350_02 |\n",
       "| CHP_350-03-PBMC-DNA | 207 | 2134 |  97.00094 | 10.309179 | 0.7807083 | 52 |  9 | 10 | 210.609 | 1.000 | ⋯ | 167.953 | 2.495 | 128.847 | 137.062 | 3.637 | PBMC | CHP | CHP_350 | 3 | CHP_350_03 |\n",
       "| CHP_350-04-PBMC-DNA | 106 |  989 | 107.17897 |  9.330189 | 0.7731222 | 34 | 10 |  2 | 114.239 | 0.993 | ⋯ |  86.422 | 2.107 |  66.580 |  71.313 | 2.531 | PBMC | CHP | CHP_350 | 4 | CHP_350_04 |\n",
       "| CHP_353-02-PBMC-DNA |  16 |  234 |  68.37607 | 14.625000 | 0.5897147 | 35 |  1 |  0 |  16.000 | 1.000 | ⋯ |  13.807 | 0.473 |  12.066 |  12.668 | 0.744 | PBMC | CHP | CHP_353 | 2 | CHP_353_02 |\n",
       "\n"
      ],
      "text/plain": [
       "                    TRB Reads CPKR      Average_reads VMR       Max_reads\n",
       "CHP_315-05-PBMC-DNA  25  192  130.20833  7.680000     1.6157205 63       \n",
       "CHP_350-01-PBMC-DNA 153 1647   92.89617 10.764706     0.7872963 59       \n",
       "CHP_350-02-PBMC-DNA 269 2992   89.90642 11.122677     0.8300771 92       \n",
       "CHP_350-03-PBMC-DNA 207 2134   97.00094 10.309179     0.7807083 52       \n",
       "CHP_350-04-PBMC-DNA 106  989  107.17897  9.330189     0.7731222 34       \n",
       "CHP_353-02-PBMC-DNA  16  234   68.37607 14.625000     0.5897147 35       \n",
       "                    Singletons Doubletons qD      Sample_Coverage ⋯\n",
       "CHP_315-05-PBMC-DNA  4          2          27.519 0.992           ⋯\n",
       "CHP_350-01-PBMC-DNA  5          6         154.893 1.000           ⋯\n",
       "CHP_350-02-PBMC-DNA 17          5         281.850 0.997           ⋯\n",
       "CHP_350-03-PBMC-DNA  9         10         210.609 1.000           ⋯\n",
       "CHP_350-04-PBMC-DNA 10          2         114.239 0.993           ⋯\n",
       "CHP_353-02-PBMC-DNA  1          0          16.000 1.000           ⋯\n",
       "                    estimated_Shannon SE_Shannon observed_Simpson\n",
       "CHP_315-05-PBMC-DNA  14.196           1.262        7.130         \n",
       "CHP_350-01-PBMC-DNA 125.659           2.217       94.691         \n",
       "CHP_350-02-PBMC-DNA 219.073           2.893      159.505         \n",
       "CHP_350-03-PBMC-DNA 167.953           2.495      128.847         \n",
       "CHP_350-04-PBMC-DNA  86.422           2.107       66.580         \n",
       "CHP_353-02-PBMC-DNA  13.807           0.473       12.066         \n",
       "                    estimated_Simpson SE_Simpson Sample Group Patient Cycle\n",
       "CHP_315-05-PBMC-DNA   7.367           1.066      PBMC   CHP   CHP_315 5    \n",
       "CHP_350-01-PBMC-DNA 100.406           3.380      PBMC   CHP   CHP_350 1    \n",
       "CHP_350-02-PBMC-DNA 168.431           5.344      PBMC   CHP   CHP_350 2    \n",
       "CHP_350-03-PBMC-DNA 137.062           3.637      PBMC   CHP   CHP_350 3    \n",
       "CHP_350-04-PBMC-DNA  71.313           2.531      PBMC   CHP   CHP_350 4    \n",
       "CHP_353-02-PBMC-DNA  12.668           0.744      PBMC   CHP   CHP_353 2    \n",
       "                    sample_id \n",
       "CHP_315-05-PBMC-DNA CHP_315_05\n",
       "CHP_350-01-PBMC-DNA CHP_350_01\n",
       "CHP_350-02-PBMC-DNA CHP_350_02\n",
       "CHP_350-03-PBMC-DNA CHP_350_03\n",
       "CHP_350-04-PBMC-DNA CHP_350_04\n",
       "CHP_353-02-PBMC-DNA CHP_353_02"
      ]
     },
     "metadata": {},
     "output_type": "display_data"
    }
   ],
   "source": [
    "head(divstats)"
   ]
  },
  {
   "cell_type": "markdown",
   "metadata": {},
   "source": [
    "Create a patient matrix for all samples"
   ]
  },
  {
   "cell_type": "code",
   "execution_count": 55,
   "metadata": {},
   "outputs": [
    {
     "data": {
      "text/html": [
       "0"
      ],
      "text/latex": [
       "0"
      ],
      "text/markdown": [
       "0"
      ],
      "text/plain": [
       "[1] 0"
      ]
     },
     "metadata": {},
     "output_type": "display_data"
    }
   ],
   "source": [
    "length(unique(metadata$Patient_ID))"
   ]
  },
  {
   "cell_type": "code",
   "execution_count": 56,
   "metadata": {},
   "outputs": [],
   "source": [
    "pt_mat <- matrix(nrow = 12, ncol = length(unique(metadata$Patient)),\n",
    "                 dimnames = list(1:12, unique(metadata$Patient)))"
   ]
  },
  {
   "cell_type": "code",
   "execution_count": 57,
   "metadata": {},
   "outputs": [],
   "source": [
    "myelements <- c(\"PBMC-01\", \"cfDNA-01\", \"PBMC-02\", \"cfDNA-02\",\n",
    "               \"PBMC-03\", \"cfDNA-03\", \"PBMC-04\", \"cfDNA-04\",\n",
    "               \"PBMC-05\", \"cfDNA-05\", \"Tumor\", \"Flow\")"
   ]
  },
  {
   "cell_type": "code",
   "execution_count": 58,
   "metadata": {},
   "outputs": [],
   "source": [
    "rownames(pt_mat) <- myelements"
   ]
  },
  {
   "cell_type": "code",
   "execution_count": 59,
   "metadata": {},
   "outputs": [],
   "source": [
    "divstats$SampleCycle <- paste(divstats$Sample, \"-0\", divstats$Cycle, sep = \"\")"
   ]
  },
  {
   "cell_type": "code",
   "execution_count": 61,
   "metadata": {},
   "outputs": [],
   "source": [
    "for(i in 1:ncol(pt_mat)){\n",
    "    mypt <- colnames(pt_mat)[i]\n",
    "    mydiv <- divstats[ divstats$Patient == mypt,]\n",
    "    pt_mat[match(mydiv$SampleCycle, rownames(pt_mat)),mypt] <- 1\n",
    "    if(sum(mydiv$Sample == \"Tumor\") == 1){\n",
    "        pt_mat[\"Tumor\",mypt] <- 1}\n",
    "}"
   ]
  },
  {
   "cell_type": "code",
   "execution_count": 62,
   "metadata": {},
   "outputs": [],
   "source": [
    "pt_mat[is.na(pt_mat)] <- 0"
   ]
  },
  {
   "cell_type": "code",
   "execution_count": 63,
   "metadata": {},
   "outputs": [],
   "source": [
    "pt_mat_t <- t(pt_mat)"
   ]
  },
  {
   "cell_type": "markdown",
   "metadata": {},
   "source": [
    "UpSet plot"
   ]
  },
  {
   "cell_type": "code",
   "execution_count": 78,
   "metadata": {},
   "outputs": [],
   "source": [
    "comb_mat <- make_comb_mat(pt_mat_t, mode = \"distinct\")"
   ]
  },
  {
   "cell_type": "code",
   "execution_count": 85,
   "metadata": {},
   "outputs": [
    {
     "data": {
      "text/html": [
       "<style>\n",
       ".list-inline {list-style: none; margin:0; padding: 0}\n",
       ".list-inline>li {display: inline-block}\n",
       ".list-inline>li:not(:last-child)::after {content: \"\\00b7\"; padding: 0 .5ex}\n",
       "</style>\n",
       "<ol class=list-inline><li>'PBMC-01'</li><li>'cfDNA-01'</li><li>'PBMC-02'</li><li>'cfDNA-02'</li><li>'PBMC-03'</li><li>'cfDNA-03'</li><li>'PBMC-04'</li><li>'cfDNA-04'</li><li>'PBMC-05'</li><li>'cfDNA-05'</li><li>'Tumor'</li><li>'Flow'</li></ol>\n"
      ],
      "text/latex": [
       "\\begin{enumerate*}\n",
       "\\item 'PBMC-01'\n",
       "\\item 'cfDNA-01'\n",
       "\\item 'PBMC-02'\n",
       "\\item 'cfDNA-02'\n",
       "\\item 'PBMC-03'\n",
       "\\item 'cfDNA-03'\n",
       "\\item 'PBMC-04'\n",
       "\\item 'cfDNA-04'\n",
       "\\item 'PBMC-05'\n",
       "\\item 'cfDNA-05'\n",
       "\\item 'Tumor'\n",
       "\\item 'Flow'\n",
       "\\end{enumerate*}\n"
      ],
      "text/markdown": [
       "1. 'PBMC-01'\n",
       "2. 'cfDNA-01'\n",
       "3. 'PBMC-02'\n",
       "4. 'cfDNA-02'\n",
       "5. 'PBMC-03'\n",
       "6. 'cfDNA-03'\n",
       "7. 'PBMC-04'\n",
       "8. 'cfDNA-04'\n",
       "9. 'PBMC-05'\n",
       "10. 'cfDNA-05'\n",
       "11. 'Tumor'\n",
       "12. 'Flow'\n",
       "\n",
       "\n"
      ],
      "text/plain": [
       " [1] \"PBMC-01\"  \"cfDNA-01\" \"PBMC-02\"  \"cfDNA-02\" \"PBMC-03\"  \"cfDNA-03\"\n",
       " [7] \"PBMC-04\"  \"cfDNA-04\" \"PBMC-05\"  \"cfDNA-05\" \"Tumor\"    \"Flow\"    "
      ]
     },
     "metadata": {},
     "output_type": "display_data"
    }
   ],
   "source": [
    "colnames(pt_mat_t)"
   ]
  },
  {
   "cell_type": "code",
   "execution_count": 88,
   "metadata": {},
   "outputs": [
    {
     "data": {
      "text/html": [
       "<table class=\"dataframe\">\n",
       "<caption>A matrix: 6 × 12 of type dbl</caption>\n",
       "<thead>\n",
       "\t<tr><th></th><th scope=col>PBMC-01</th><th scope=col>cfDNA-01</th><th scope=col>PBMC-02</th><th scope=col>cfDNA-02</th><th scope=col>PBMC-03</th><th scope=col>cfDNA-03</th><th scope=col>PBMC-04</th><th scope=col>cfDNA-04</th><th scope=col>PBMC-05</th><th scope=col>cfDNA-05</th><th scope=col>Tumor</th><th scope=col>Flow</th></tr>\n",
       "</thead>\n",
       "<tbody>\n",
       "\t<tr><th scope=row>CHP_330</th><td>0</td><td>0</td><td>0</td><td>0</td><td>0</td><td>0</td><td>0</td><td>1</td><td>1</td><td>0</td><td>0</td><td>0</td></tr>\n",
       "\t<tr><th scope=row>CHP_331</th><td>0</td><td>0</td><td>0</td><td>0</td><td>0</td><td>0</td><td>1</td><td>0</td><td>1</td><td>1</td><td>0</td><td>0</td></tr>\n",
       "\t<tr><th scope=row>CHP_332</th><td>0</td><td>0</td><td>0</td><td>0</td><td>0</td><td>0</td><td>0</td><td>0</td><td>0</td><td>0</td><td>0</td><td>0</td></tr>\n",
       "\t<tr><th scope=row>CHP_333</th><td>0</td><td>0</td><td>0</td><td>0</td><td>0</td><td>0</td><td>0</td><td>0</td><td>0</td><td>1</td><td>0</td><td>0</td></tr>\n",
       "\t<tr><th scope=row>CHP_334</th><td>0</td><td>0</td><td>0</td><td>1</td><td>0</td><td>1</td><td>0</td><td>1</td><td>0</td><td>0</td><td>0</td><td>0</td></tr>\n",
       "\t<tr><th scope=row>CHP_335</th><td>0</td><td>0</td><td>0</td><td>0</td><td>1</td><td>0</td><td>0</td><td>1</td><td>0</td><td>1</td><td>0</td><td>0</td></tr>\n",
       "</tbody>\n",
       "</table>\n"
      ],
      "text/latex": [
       "A matrix: 6 × 12 of type dbl\n",
       "\\begin{tabular}{r|llllllllllll}\n",
       "  & PBMC-01 & cfDNA-01 & PBMC-02 & cfDNA-02 & PBMC-03 & cfDNA-03 & PBMC-04 & cfDNA-04 & PBMC-05 & cfDNA-05 & Tumor & Flow\\\\\n",
       "\\hline\n",
       "\tCHP\\_330 & 0 & 0 & 0 & 0 & 0 & 0 & 0 & 1 & 1 & 0 & 0 & 0\\\\\n",
       "\tCHP\\_331 & 0 & 0 & 0 & 0 & 0 & 0 & 1 & 0 & 1 & 1 & 0 & 0\\\\\n",
       "\tCHP\\_332 & 0 & 0 & 0 & 0 & 0 & 0 & 0 & 0 & 0 & 0 & 0 & 0\\\\\n",
       "\tCHP\\_333 & 0 & 0 & 0 & 0 & 0 & 0 & 0 & 0 & 0 & 1 & 0 & 0\\\\\n",
       "\tCHP\\_334 & 0 & 0 & 0 & 1 & 0 & 1 & 0 & 1 & 0 & 0 & 0 & 0\\\\\n",
       "\tCHP\\_335 & 0 & 0 & 0 & 0 & 1 & 0 & 0 & 1 & 0 & 1 & 0 & 0\\\\\n",
       "\\end{tabular}\n"
      ],
      "text/markdown": [
       "\n",
       "A matrix: 6 × 12 of type dbl\n",
       "\n",
       "| <!--/--> | PBMC-01 | cfDNA-01 | PBMC-02 | cfDNA-02 | PBMC-03 | cfDNA-03 | PBMC-04 | cfDNA-04 | PBMC-05 | cfDNA-05 | Tumor | Flow |\n",
       "|---|---|---|---|---|---|---|---|---|---|---|---|---|\n",
       "| CHP_330 | 0 | 0 | 0 | 0 | 0 | 0 | 0 | 1 | 1 | 0 | 0 | 0 |\n",
       "| CHP_331 | 0 | 0 | 0 | 0 | 0 | 0 | 1 | 0 | 1 | 1 | 0 | 0 |\n",
       "| CHP_332 | 0 | 0 | 0 | 0 | 0 | 0 | 0 | 0 | 0 | 0 | 0 | 0 |\n",
       "| CHP_333 | 0 | 0 | 0 | 0 | 0 | 0 | 0 | 0 | 0 | 1 | 0 | 0 |\n",
       "| CHP_334 | 0 | 0 | 0 | 1 | 0 | 1 | 0 | 1 | 0 | 0 | 0 | 0 |\n",
       "| CHP_335 | 0 | 0 | 0 | 0 | 1 | 0 | 0 | 1 | 0 | 1 | 0 | 0 |\n",
       "\n"
      ],
      "text/plain": [
       "        PBMC-01 cfDNA-01 PBMC-02 cfDNA-02 PBMC-03 cfDNA-03 PBMC-04 cfDNA-04\n",
       "CHP_330 0       0        0       0        0       0        0       1       \n",
       "CHP_331 0       0        0       0        0       0        1       0       \n",
       "CHP_332 0       0        0       0        0       0        0       0       \n",
       "CHP_333 0       0        0       0        0       0        0       0       \n",
       "CHP_334 0       0        0       1        0       1        0       1       \n",
       "CHP_335 0       0        0       0        1       0        0       1       \n",
       "        PBMC-05 cfDNA-05 Tumor Flow\n",
       "CHP_330 1       0        0     0   \n",
       "CHP_331 1       1        0     0   \n",
       "CHP_332 0       0        0     0   \n",
       "CHP_333 0       1        0     0   \n",
       "CHP_334 0       0        0     0   \n",
       "CHP_335 0       1        0     0   "
      ]
     },
     "metadata": {},
     "output_type": "display_data"
    }
   ],
   "source": [
    "head(pt_mat_t)"
   ]
  },
  {
   "cell_type": "code",
   "execution_count": 91,
   "metadata": {},
   "outputs": [],
   "source": [
    "myp <- UpSet(comb_mat, set_order  = colnames(pt_mat_t))"
   ]
  },
  {
   "cell_type": "code",
   "execution_count": 92,
   "metadata": {},
   "outputs": [
    {
     "data": {
      "text/html": [
       "<strong>pdf:</strong> 2"
      ],
      "text/latex": [
       "\\textbf{pdf:} 2"
      ],
      "text/markdown": [
       "**pdf:** 2"
      ],
      "text/plain": [
       "pdf \n",
       "  2 "
      ]
     },
     "metadata": {},
     "output_type": "display_data"
    }
   ],
   "source": [
    "pdf(paste0(plotpath, \"Upsetplot.pdf\"), width = 20, height = 10)\n",
    "\n",
    "myp\n",
    "\n",
    "dev.off()"
   ]
  },
  {
   "cell_type": "markdown",
   "metadata": {},
   "source": [
    "Heatmap"
   ]
  },
  {
   "cell_type": "code",
   "execution_count": 64,
   "metadata": {},
   "outputs": [
    {
     "data": {
      "text/html": [
       "<table class=\"dataframe\">\n",
       "<caption>A matrix: 6 × 108 of type dbl</caption>\n",
       "<thead>\n",
       "\t<tr><th></th><th scope=col>CHP_330</th><th scope=col>CHP_331</th><th scope=col>CHP_332</th><th scope=col>CHP_333</th><th scope=col>CHP_334</th><th scope=col>CHP_335</th><th scope=col>CHP_336</th><th scope=col>CHP_337</th><th scope=col>CHP_338</th><th scope=col>CHP_339</th><th scope=col>⋯</th><th scope=col>CHP_428</th><th scope=col>CHP_429</th><th scope=col>CHP_430</th><th scope=col>CHP_431</th><th scope=col>CHP_432</th><th scope=col>CHP_433</th><th scope=col>CHP_434</th><th scope=col>CHP_435</th><th scope=col>CHP_436</th><th scope=col>CHP_437</th></tr>\n",
       "</thead>\n",
       "<tbody>\n",
       "\t<tr><th scope=row>PBMC-01</th><td>0</td><td>0</td><td>0</td><td>0</td><td>0</td><td>0</td><td>0</td><td>0</td><td>0</td><td>0</td><td>⋯</td><td>0</td><td>0</td><td>0</td><td>0</td><td>0</td><td>0</td><td>0</td><td>0</td><td>0</td><td>0</td></tr>\n",
       "\t<tr><th scope=row>cfDNA-01</th><td>0</td><td>0</td><td>0</td><td>0</td><td>0</td><td>0</td><td>0</td><td>0</td><td>0</td><td>0</td><td>⋯</td><td>0</td><td>0</td><td>0</td><td>0</td><td>0</td><td>0</td><td>0</td><td>0</td><td>0</td><td>0</td></tr>\n",
       "\t<tr><th scope=row>PBMC-02</th><td>0</td><td>0</td><td>0</td><td>0</td><td>0</td><td>0</td><td>0</td><td>0</td><td>0</td><td>0</td><td>⋯</td><td>0</td><td>0</td><td>0</td><td>0</td><td>0</td><td>0</td><td>0</td><td>0</td><td>0</td><td>0</td></tr>\n",
       "\t<tr><th scope=row>cfDNA-02</th><td>0</td><td>0</td><td>0</td><td>0</td><td>1</td><td>0</td><td>0</td><td>0</td><td>0</td><td>0</td><td>⋯</td><td>0</td><td>0</td><td>0</td><td>0</td><td>0</td><td>0</td><td>0</td><td>0</td><td>0</td><td>0</td></tr>\n",
       "\t<tr><th scope=row>PBMC-03</th><td>0</td><td>0</td><td>0</td><td>0</td><td>0</td><td>1</td><td>0</td><td>1</td><td>1</td><td>1</td><td>⋯</td><td>0</td><td>0</td><td>0</td><td>0</td><td>0</td><td>0</td><td>0</td><td>0</td><td>0</td><td>0</td></tr>\n",
       "\t<tr><th scope=row>cfDNA-03</th><td>0</td><td>0</td><td>0</td><td>0</td><td>1</td><td>0</td><td>1</td><td>1</td><td>1</td><td>1</td><td>⋯</td><td>0</td><td>0</td><td>0</td><td>0</td><td>0</td><td>0</td><td>0</td><td>0</td><td>0</td><td>0</td></tr>\n",
       "</tbody>\n",
       "</table>\n"
      ],
      "text/latex": [
       "A matrix: 6 × 108 of type dbl\n",
       "\\begin{tabular}{r|lllllllllllllllllllll}\n",
       "  & CHP\\_330 & CHP\\_331 & CHP\\_332 & CHP\\_333 & CHP\\_334 & CHP\\_335 & CHP\\_336 & CHP\\_337 & CHP\\_338 & CHP\\_339 & ⋯ & CHP\\_428 & CHP\\_429 & CHP\\_430 & CHP\\_431 & CHP\\_432 & CHP\\_433 & CHP\\_434 & CHP\\_435 & CHP\\_436 & CHP\\_437\\\\\n",
       "\\hline\n",
       "\tPBMC-01 & 0 & 0 & 0 & 0 & 0 & 0 & 0 & 0 & 0 & 0 & ⋯ & 0 & 0 & 0 & 0 & 0 & 0 & 0 & 0 & 0 & 0\\\\\n",
       "\tcfDNA-01 & 0 & 0 & 0 & 0 & 0 & 0 & 0 & 0 & 0 & 0 & ⋯ & 0 & 0 & 0 & 0 & 0 & 0 & 0 & 0 & 0 & 0\\\\\n",
       "\tPBMC-02 & 0 & 0 & 0 & 0 & 0 & 0 & 0 & 0 & 0 & 0 & ⋯ & 0 & 0 & 0 & 0 & 0 & 0 & 0 & 0 & 0 & 0\\\\\n",
       "\tcfDNA-02 & 0 & 0 & 0 & 0 & 1 & 0 & 0 & 0 & 0 & 0 & ⋯ & 0 & 0 & 0 & 0 & 0 & 0 & 0 & 0 & 0 & 0\\\\\n",
       "\tPBMC-03 & 0 & 0 & 0 & 0 & 0 & 1 & 0 & 1 & 1 & 1 & ⋯ & 0 & 0 & 0 & 0 & 0 & 0 & 0 & 0 & 0 & 0\\\\\n",
       "\tcfDNA-03 & 0 & 0 & 0 & 0 & 1 & 0 & 1 & 1 & 1 & 1 & ⋯ & 0 & 0 & 0 & 0 & 0 & 0 & 0 & 0 & 0 & 0\\\\\n",
       "\\end{tabular}\n"
      ],
      "text/markdown": [
       "\n",
       "A matrix: 6 × 108 of type dbl\n",
       "\n",
       "| <!--/--> | CHP_330 | CHP_331 | CHP_332 | CHP_333 | CHP_334 | CHP_335 | CHP_336 | CHP_337 | CHP_338 | CHP_339 | ⋯ | CHP_428 | CHP_429 | CHP_430 | CHP_431 | CHP_432 | CHP_433 | CHP_434 | CHP_435 | CHP_436 | CHP_437 |\n",
       "|---|---|---|---|---|---|---|---|---|---|---|---|---|---|---|---|---|---|---|---|---|---|\n",
       "| PBMC-01 | 0 | 0 | 0 | 0 | 0 | 0 | 0 | 0 | 0 | 0 | ⋯ | 0 | 0 | 0 | 0 | 0 | 0 | 0 | 0 | 0 | 0 |\n",
       "| cfDNA-01 | 0 | 0 | 0 | 0 | 0 | 0 | 0 | 0 | 0 | 0 | ⋯ | 0 | 0 | 0 | 0 | 0 | 0 | 0 | 0 | 0 | 0 |\n",
       "| PBMC-02 | 0 | 0 | 0 | 0 | 0 | 0 | 0 | 0 | 0 | 0 | ⋯ | 0 | 0 | 0 | 0 | 0 | 0 | 0 | 0 | 0 | 0 |\n",
       "| cfDNA-02 | 0 | 0 | 0 | 0 | 1 | 0 | 0 | 0 | 0 | 0 | ⋯ | 0 | 0 | 0 | 0 | 0 | 0 | 0 | 0 | 0 | 0 |\n",
       "| PBMC-03 | 0 | 0 | 0 | 0 | 0 | 1 | 0 | 1 | 1 | 1 | ⋯ | 0 | 0 | 0 | 0 | 0 | 0 | 0 | 0 | 0 | 0 |\n",
       "| cfDNA-03 | 0 | 0 | 0 | 0 | 1 | 0 | 1 | 1 | 1 | 1 | ⋯ | 0 | 0 | 0 | 0 | 0 | 0 | 0 | 0 | 0 | 0 |\n",
       "\n"
      ],
      "text/plain": [
       "         CHP_330 CHP_331 CHP_332 CHP_333 CHP_334 CHP_335 CHP_336 CHP_337\n",
       "PBMC-01  0       0       0       0       0       0       0       0      \n",
       "cfDNA-01 0       0       0       0       0       0       0       0      \n",
       "PBMC-02  0       0       0       0       0       0       0       0      \n",
       "cfDNA-02 0       0       0       0       1       0       0       0      \n",
       "PBMC-03  0       0       0       0       0       1       0       1      \n",
       "cfDNA-03 0       0       0       0       1       0       1       1      \n",
       "         CHP_338 CHP_339 ⋯ CHP_428 CHP_429 CHP_430 CHP_431 CHP_432 CHP_433\n",
       "PBMC-01  0       0       ⋯ 0       0       0       0       0       0      \n",
       "cfDNA-01 0       0       ⋯ 0       0       0       0       0       0      \n",
       "PBMC-02  0       0       ⋯ 0       0       0       0       0       0      \n",
       "cfDNA-02 0       0       ⋯ 0       0       0       0       0       0      \n",
       "PBMC-03  1       1       ⋯ 0       0       0       0       0       0      \n",
       "cfDNA-03 1       1       ⋯ 0       0       0       0       0       0      \n",
       "         CHP_434 CHP_435 CHP_436 CHP_437\n",
       "PBMC-01  0       0       0       0      \n",
       "cfDNA-01 0       0       0       0      \n",
       "PBMC-02  0       0       0       0      \n",
       "cfDNA-02 0       0       0       0      \n",
       "PBMC-03  0       0       0       0      \n",
       "cfDNA-03 0       0       0       0      "
      ]
     },
     "metadata": {},
     "output_type": "display_data"
    }
   ],
   "source": [
    "head(pt_mat)"
   ]
  },
  {
   "cell_type": "code",
   "execution_count": 73,
   "metadata": {},
   "outputs": [],
   "source": [
    "?Heatmap"
   ]
  },
  {
   "cell_type": "code",
   "execution_count": 74,
   "metadata": {},
   "outputs": [],
   "source": [
    "studyheatmap <- Heatmap(pt_mat[-12,],\n",
    "                       cluster_rows = FALSE,\n",
    "                       show_heatmap_legend = FALSE)"
   ]
  },
  {
   "cell_type": "code",
   "execution_count": 75,
   "metadata": {},
   "outputs": [
    {
     "data": {
      "image/png": "[encoded data removed]",
      "text/plain": [
       "plot without title"
      ]
     },
     "metadata": {
      "image/png": {
       "height": 420,
       "width": 420
      }
     },
     "output_type": "display_data"
    }
   ],
   "source": [
    "studyheatmap"
   ]
  },
  {
   "cell_type": "code",
   "execution_count": 76,
   "metadata": {},
   "outputs": [
    {
     "data": {
      "text/html": [
       "<strong>pdf:</strong> 2"
      ],
      "text/latex": [
       "\\textbf{pdf:} 2"
      ],
      "text/markdown": [
       "**pdf:** 2"
      ],
      "text/plain": [
       "pdf \n",
       "  2 "
      ]
     },
     "metadata": {},
     "output_type": "display_data"
    }
   ],
   "source": [
    "pdf(paste0(plotpath, \"studyheatmap.pdf\"), width = 20, height = 10)\n",
    "studyheatmap\n",
    "dev.off()"
   ]
  },
  {
   "cell_type": "code",
   "execution_count": null,
   "metadata": {},
   "outputs": [],
   "source": []
  }
 ],
 "metadata": {
  "kernelspec": {
   "display_name": "R 4.0",
   "language": "R",
   "name": "ir40"
  },
  "language_info": {
   "codemirror_mode": "r",
   "file_extension": ".r",
   "mimetype": "text/x-r-source",
   "name": "R",
   "pygments_lexer": "r",
   "version": "4.0.3"
  },
  "toc": {
   "base_numbering": 1,
   "nav_menu": {},
   "number_sections": false,
   "sideBar": true,
   "skip_h1_title": false,
   "title_cell": "Table of Contents",
   "title_sidebar": "Contents",
   "toc_cell": true,
   "toc_position": {
    "height": "calc(100% - 180px)",
    "left": "10px",
    "top": "150px",
    "width": "217.301px"
   },
   "toc_section_display": true,
   "toc_window_display": true
  }
 },
 "nbformat": 4,
 "nbformat_minor": 2
}
