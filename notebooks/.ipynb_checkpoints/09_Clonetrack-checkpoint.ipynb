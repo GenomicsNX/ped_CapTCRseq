{
 "cells": [
  {
   "cell_type": "markdown",
   "metadata": {
    "toc": true
   },
   "source": [
    "<h1>Table of Contents<span class=\"tocSkip\"></span></h1>\n",
    "<div class=\"toc\"><ul class=\"toc-item\"><li><span><a href=\"#Dependencies\" data-toc-modified-id=\"Dependencies-1\">Dependencies</a></span></li><li><span><a href=\"#Functions\" data-toc-modified-id=\"Functions-2\">Functions</a></span></li><li><span><a href=\"#Paths\" data-toc-modified-id=\"Paths-3\">Paths</a></span></li><li><span><a href=\"#Main\" data-toc-modified-id=\"Main-4\">Main</a></span></li><li><span><a href=\"#T-ALL-patients\" data-toc-modified-id=\"T-ALL-patients-5\">T-ALL patients</a></span><ul class=\"toc-item\"><li><ul class=\"toc-item\"><li><span><a href=\"#375\" data-toc-modified-id=\"375-5.0.1\">375</a></span></li><li><span><a href=\"#387\" data-toc-modified-id=\"387-5.0.2\">387</a></span></li><li><span><a href=\"#395\" data-toc-modified-id=\"395-5.0.3\">395</a></span></li></ul></li></ul></li><li><span><a href=\"#color-clones,-track-GLIPH\" data-toc-modified-id=\"color-clones,-track-GLIPH-6\">color clones, track GLIPH</a></span></li><li><span><a href=\"#this-ensures-alluvial-is-plotted-if-two-non-consecutive-samples-have-recurring-cdr3\" data-toc-modified-id=\"this-ensures-alluvial-is-plotted-if-two-non-consecutive-samples-have-recurring-cdr3-7\">this ensures alluvial is plotted if two non consecutive samples have recurring cdr3</a></span></li></ul></div>"
   ]
  },
  {
   "cell_type": "markdown",
   "metadata": {},
   "source": [
    "# Dependencies"
   ]
  },
  {
   "cell_type": "code",
   "execution_count": 1,
   "metadata": {
    "scrolled": true
   },
   "outputs": [
    {
     "name": "stderr",
     "output_type": "stream",
     "text": [
      "Loading required package: ggplot2\n",
      "\n"
     ]
    }
   ],
   "source": [
    "library(ggalluvial)\n",
    "library(randomcoloR)"
   ]
  },
  {
   "cell_type": "markdown",
   "metadata": {},
   "source": [
    "# Functions"
   ]
  },
  {
   "cell_type": "code",
   "execution_count": 2,
   "metadata": {},
   "outputs": [],
   "source": [
    "source(\"/Users/anabbi/git/ped_CapTCRseq/R/clonetrack.R\")"
   ]
  },
  {
   "cell_type": "markdown",
   "metadata": {},
   "source": [
    "# Paths"
   ]
  },
  {
   "cell_type": "code",
   "execution_count": 3,
   "metadata": {},
   "outputs": [],
   "source": [
    "datapath <- \"/Users/anabbi/OneDrive - UHN/Documents/INTERCEPT/Data/\"\n",
    "plotpath <- \"/Users/anabbi/OneDrive - UHN/Documents/INTERCEPT/Plots/\"\n",
    "manifestpath <- \"/Users/anabbi/OneDrive - UHN/Documents/INTERCEPT/Manifests/\"\n",
    "\n",
    "gitpath <- \"/Users/anabbi/git/ped_CapTCRseq/\""
   ]
  },
  {
   "cell_type": "markdown",
   "metadata": {},
   "source": [
    "# Main"
   ]
  },
  {
   "cell_type": "code",
   "execution_count": 41,
   "metadata": {},
   "outputs": [
    {
     "data": {
      "text/html": [
       "<pre class=language-r><code>function (compldfle, plotpath, chain, countfrac, clnefrc, plottitle) \n",
       "{\n",
       "<span style=white-space:pre-wrap>    if (!(countfrac %in% c(\"cloneFraction\", \"cloneCount\"))) {</span>\n",
       "<span style=white-space:pre-wrap>        stop(\"Error: unknown argument \", countfrac, \". Please provide either cloneFraction or cloneCount.\")</span>\n",
       "<span style=white-space:pre-wrap>    }</span>\n",
       "<span style=white-space:pre-wrap>    message(\"list of samples to track clones: \")</span>\n",
       "<span style=white-space:pre-wrap>    mysamples &lt;- unique(compldfle$samplename)</span>\n",
       "<span style=white-space:pre-wrap>    print(mysamples)</span>\n",
       "<span style=white-space:pre-wrap>    CDR3_fraction &lt;- compldfle[, c(\"samplename\", \"nSeqCDR3\", </span>\n",
       "<span style=white-space:pre-wrap>        \"cloneFraction\", \"cloneCount\")]</span>\n",
       "<span style=white-space:pre-wrap>    CDR3_fraction &lt;- CDR3_fraction[CDR3_fraction$cloneFraction &gt; </span>\n",
       "<span style=white-space:pre-wrap>        clnefrc, ]</span>\n",
       "<span style=white-space:pre-wrap>    recurring &lt;- unique(CDR3_fraction$nSeqCDR3[duplicated(CDR3_fraction$nSeqCDR3)])</span>\n",
       "<span style=white-space:pre-wrap>    notrecurring &lt;- CDR3_fraction$nSeqCDR3[!CDR3_fraction$nSeqCDR3 %in% </span>\n",
       "<span style=white-space:pre-wrap>        recurring]</span>\n",
       "<span style=white-space:pre-wrap>    message(\"Total number of recurring clonotypes: \")</span>\n",
       "<span style=white-space:pre-wrap>    print(length(recurring))</span>\n",
       "<span style=white-space:pre-wrap>    if (length(recurring) == 0) {</span>\n",
       "<span style=white-space:pre-wrap>        mydummy_df &lt;- as.data.frame(matrix(ncol = 4, nrow = length(mysamples)))</span>\n",
       "<span style=white-space:pre-wrap>        colnames(mydummy_df) &lt;- colnames(CDR3_fraction)</span>\n",
       "<span style=white-space:pre-wrap>        mydummy_df$samplename &lt;- mysamples</span>\n",
       "<span style=white-space:pre-wrap>        mydummy_df$nSeqCDR3 &lt;- \"XXXXX\"</span>\n",
       "<span style=white-space:pre-wrap>        mydummy_df$cloneFraction &lt;- 0</span>\n",
       "<span style=white-space:pre-wrap>        mydummy_df$cloneCount &lt;- 0</span>\n",
       "<span style=white-space:pre-wrap>        CDR3_fraction &lt;- rbind(CDR3_fraction, mydummy_df)</span>\n",
       "<span style=white-space:pre-wrap>        recurring &lt;- \"XXXXX\"</span>\n",
       "<span style=white-space:pre-wrap>    }</span>\n",
       "<span style=white-space:pre-wrap>    if (length(recurring) &gt; 50) {</span>\n",
       "<span style=white-space:pre-wrap>        recurring_df &lt;- CDR3_fraction[CDR3_fraction$nSeqCDR3 %in% </span>\n",
       "<span style=white-space:pre-wrap>            recurring, ]</span>\n",
       "<span style=white-space:pre-wrap>        recurringcdr3_ordered &lt;- unique(recurring_df$nSeqCDR3[order(recurring_df$cloneCount, </span>\n",
       "<span style=white-space:pre-wrap>            decreasing = TRUE)])</span>\n",
       "<span style=white-space:pre-wrap>        message(\"Total number of recurring clonotypes &gt; 50 \")</span>\n",
       "<span style=white-space:pre-wrap>        message(\"Tracking top 10 recurring clonotypes \")</span>\n",
       "<span style=white-space:pre-wrap>        myColors &lt;- distinctColorPalette(10)</span>\n",
       "<span style=white-space:pre-wrap>        myColors &lt;- c(myColors, rep(\"white\", length(recurring) - </span>\n",
       "<span style=white-space:pre-wrap>            10), rep(\"white\", length(notrecurring)))</span>\n",
       "<span style=white-space:pre-wrap>        names(myColors) &lt;- c(recurringcdr3_ordered, notrecurring)</span>\n",
       "<span style=white-space:pre-wrap>        message(\"these are what we color: \")</span>\n",
       "<span style=white-space:pre-wrap>        print(myColors[myColors != \"white\"])</span>\n",
       "<span style=white-space:pre-wrap>    }</span>\n",
       "<span style=white-space:pre-wrap>    else {</span>\n",
       "<span style=white-space:pre-wrap>        myColors &lt;- distinctColorPalette(length(recurring))</span>\n",
       "<span style=white-space:pre-wrap>        myColors &lt;- c(myColors, rep(\"white\", length(notrecurring)))</span>\n",
       "<span style=white-space:pre-wrap>        names(myColors) &lt;- c(recurring, notrecurring)</span>\n",
       "<span style=white-space:pre-wrap>        myColors[names(myColors) == \"XXXXX\"] &lt;- \"white\"</span>\n",
       "<span style=white-space:pre-wrap>        message(\"these are what we color: \")</span>\n",
       "<span style=white-space:pre-wrap>        print(myColors[myColors != \"white\"])</span>\n",
       "<span style=white-space:pre-wrap>    }</span>\n",
       "<span style=white-space:pre-wrap>    for (c in recurring) {</span>\n",
       "<span style=white-space:pre-wrap>        tmp &lt;- CDR3_fraction[CDR3_fraction$nSeqCDR3 == c, ]</span>\n",
       "<span style=white-space:pre-wrap>        nonexsiting &lt;- mysamples[!mysamples %in% tmp$samplename]</span>\n",
       "<span style=white-space:pre-wrap>        if (length(nonexsiting) &gt; 0) {</span>\n",
       "<span style=white-space:pre-wrap>            newentries &lt;- data.frame(samplename = nonexsiting, </span>\n",
       "<span style=white-space:pre-wrap>                nSeqCDR3 = c, cloneFraction = 0, cloneCount = 0)</span>\n",
       "<span style=white-space:pre-wrap>            CDR3_fraction &lt;- rbind(CDR3_fraction, newentries)</span>\n",
       "<span style=white-space:pre-wrap>        }</span>\n",
       "<span style=white-space:pre-wrap>    }</span>\n",
       "<span style=white-space:pre-wrap>    p &lt;- ggplot(CDR3_fraction, aes(x = samplename, y = eval(as.name(countfrac)), </span>\n",
       "<span style=white-space:pre-wrap>        fill = nSeqCDR3, stratum = nSeqCDR3, alluvium = nSeqCDR3, </span>\n",
       "<span style=white-space:pre-wrap>        label = nSeqCDR3))</span>\n",
       "<span style=white-space:pre-wrap>    myp &lt;- p + geom_alluvium(decreasing = FALSE) + geom_stratum(decreasing = FALSE, </span>\n",
       "<span style=white-space:pre-wrap>        stat = \"alluvium\") + scale_fill_manual(breaks = names(myColors[myColors != </span>\n",
       "<span style=white-space:pre-wrap>        \"white\"]), values = myColors) + theme(axis.title.y = element_text(size = 50), </span>\n",
       "<span style=white-space:pre-wrap>        axis.title.x = element_blank(), axis.line = element_line(color = \"black\"), </span>\n",
       "<span style=white-space:pre-wrap>        axis.text = element_text(size = 50), axis.text.x = element_text(angle = 45, </span>\n",
       "<span style=white-space:pre-wrap>            hjust = 1), plot.title = element_text(size = 50, </span>\n",
       "<span style=white-space:pre-wrap>            hjust = 0.5)) + theme(panel.grid.major = element_blank(), </span>\n",
       "<span style=white-space:pre-wrap>        panel.grid.minor = element_blank(), panel.background = element_rect(fill = \"transparent\", </span>\n",
       "<span style=white-space:pre-wrap>            colour = NA), legend.key = element_rect(fill = \"white\", </span>\n",
       "<span style=white-space:pre-wrap>            colour = \"white\"), legend.position = \"none\", plot.margin = unit(c(0.2, </span>\n",
       "<span style=white-space:pre-wrap>            0, 0, 0), \"cm\")) + labs(y = countfrac) + labs(title = plottitle)</span>\n",
       "<span style=white-space:pre-wrap>    pdf(paste0(plotpath, \"clonetrack_\", mysamples[1], chain, </span>\n",
       "<span style=white-space:pre-wrap>        countfrac, \".pdf\"), width = 15, height = 20, useDingbats = FALSE, </span>\n",
       "<span style=white-space:pre-wrap>        onefile = FALSE)</span>\n",
       "<span style=white-space:pre-wrap>    print(myp)</span>\n",
       "<span style=white-space:pre-wrap>    dev.off()</span>\n",
       "}</code></pre>"
      ],
      "text/latex": [
       "\\begin{minted}{r}\n",
       "function (compldfle, plotpath, chain, countfrac, clnefrc, plottitle) \n",
       "\\{\n",
       "    if (!(countfrac \\%in\\% c(\"cloneFraction\", \"cloneCount\"))) \\{\n",
       "        stop(\"Error: unknown argument \", countfrac, \". Please provide either cloneFraction or cloneCount.\")\n",
       "    \\}\n",
       "    message(\"list of samples to track clones: \")\n",
       "    mysamples <- unique(compldfle\\$samplename)\n",
       "    print(mysamples)\n",
       "    CDR3\\_fraction <- compldfle{[}, c(\"samplename\", \"nSeqCDR3\", \n",
       "        \"cloneFraction\", \"cloneCount\"){]}\n",
       "    CDR3\\_fraction <- CDR3\\_fraction{[}CDR3\\_fraction\\$cloneFraction > \n",
       "        clnefrc, {]}\n",
       "    recurring <- unique(CDR3\\_fraction\\$nSeqCDR3{[}duplicated(CDR3\\_fraction\\$nSeqCDR3){]})\n",
       "    notrecurring <- CDR3\\_fraction\\$nSeqCDR3{[}!CDR3\\_fraction\\$nSeqCDR3 \\%in\\% \n",
       "        recurring{]}\n",
       "    message(\"Total number of recurring clonotypes: \")\n",
       "    print(length(recurring))\n",
       "    if (length(recurring) == 0) \\{\n",
       "        mydummy\\_df <- as.data.frame(matrix(ncol = 4, nrow = length(mysamples)))\n",
       "        colnames(mydummy\\_df) <- colnames(CDR3\\_fraction)\n",
       "        mydummy\\_df\\$samplename <- mysamples\n",
       "        mydummy\\_df\\$nSeqCDR3 <- \"XXXXX\"\n",
       "        mydummy\\_df\\$cloneFraction <- 0\n",
       "        mydummy\\_df\\$cloneCount <- 0\n",
       "        CDR3\\_fraction <- rbind(CDR3\\_fraction, mydummy\\_df)\n",
       "        recurring <- \"XXXXX\"\n",
       "    \\}\n",
       "    if (length(recurring) > 50) \\{\n",
       "        recurring\\_df <- CDR3\\_fraction{[}CDR3\\_fraction\\$nSeqCDR3 \\%in\\% \n",
       "            recurring, {]}\n",
       "        recurringcdr3\\_ordered <- unique(recurring\\_df\\$nSeqCDR3{[}order(recurring\\_df\\$cloneCount, \n",
       "            decreasing = TRUE){]})\n",
       "        message(\"Total number of recurring clonotypes > 50 \")\n",
       "        message(\"Tracking top 10 recurring clonotypes \")\n",
       "        myColors <- distinctColorPalette(10)\n",
       "        myColors <- c(myColors, rep(\"white\", length(recurring) - \n",
       "            10), rep(\"white\", length(notrecurring)))\n",
       "        names(myColors) <- c(recurringcdr3\\_ordered, notrecurring)\n",
       "        message(\"these are what we color: \")\n",
       "        print(myColors{[}myColors != \"white\"{]})\n",
       "    \\}\n",
       "    else \\{\n",
       "        myColors <- distinctColorPalette(length(recurring))\n",
       "        myColors <- c(myColors, rep(\"white\", length(notrecurring)))\n",
       "        names(myColors) <- c(recurring, notrecurring)\n",
       "        myColors{[}names(myColors) == \"XXXXX\"{]} <- \"white\"\n",
       "        message(\"these are what we color: \")\n",
       "        print(myColors{[}myColors != \"white\"{]})\n",
       "    \\}\n",
       "    for (c in recurring) \\{\n",
       "        tmp <- CDR3\\_fraction{[}CDR3\\_fraction\\$nSeqCDR3 == c, {]}\n",
       "        nonexsiting <- mysamples{[}!mysamples \\%in\\% tmp\\$samplename{]}\n",
       "        if (length(nonexsiting) > 0) \\{\n",
       "            newentries <- data.frame(samplename = nonexsiting, \n",
       "                nSeqCDR3 = c, cloneFraction = 0, cloneCount = 0)\n",
       "            CDR3\\_fraction <- rbind(CDR3\\_fraction, newentries)\n",
       "        \\}\n",
       "    \\}\n",
       "    p <- ggplot(CDR3\\_fraction, aes(x = samplename, y = eval(as.name(countfrac)), \n",
       "        fill = nSeqCDR3, stratum = nSeqCDR3, alluvium = nSeqCDR3, \n",
       "        label = nSeqCDR3))\n",
       "    myp <- p + geom\\_alluvium(decreasing = FALSE) + geom\\_stratum(decreasing = FALSE, \n",
       "        stat = \"alluvium\") + scale\\_fill\\_manual(breaks = names(myColors{[}myColors != \n",
       "        \"white\"{]}), values = myColors) + theme(axis.title.y = element\\_text(size = 50), \n",
       "        axis.title.x = element\\_blank(), axis.line = element\\_line(color = \"black\"), \n",
       "        axis.text = element\\_text(size = 50), axis.text.x = element\\_text(angle = 45, \n",
       "            hjust = 1), plot.title = element\\_text(size = 50, \n",
       "            hjust = 0.5)) + theme(panel.grid.major = element\\_blank(), \n",
       "        panel.grid.minor = element\\_blank(), panel.background = element\\_rect(fill = \"transparent\", \n",
       "            colour = NA), legend.key = element\\_rect(fill = \"white\", \n",
       "            colour = \"white\"), legend.position = \"none\", plot.margin = unit(c(0.2, \n",
       "            0, 0, 0), \"cm\")) + labs(y = countfrac) + labs(title = plottitle)\n",
       "    pdf(paste0(plotpath, \"clonetrack\\_\", mysamples{[}1{]}, chain, \n",
       "        countfrac, \".pdf\"), width = 15, height = 20, useDingbats = FALSE, \n",
       "        onefile = FALSE)\n",
       "    print(myp)\n",
       "    dev.off()\n",
       "\\}\n",
       "\\end{minted}"
      ],
      "text/markdown": [
       "```r\n",
       "function (compldfle, plotpath, chain, countfrac, clnefrc, plottitle) \n",
       "{\n",
       "    if (!(countfrac %in% c(\"cloneFraction\", \"cloneCount\"))) {\n",
       "        stop(\"Error: unknown argument \", countfrac, \". Please provide either cloneFraction or cloneCount.\")\n",
       "    }\n",
       "    message(\"list of samples to track clones: \")\n",
       "    mysamples <- unique(compldfle$samplename)\n",
       "    print(mysamples)\n",
       "    CDR3_fraction <- compldfle[, c(\"samplename\", \"nSeqCDR3\", \n",
       "        \"cloneFraction\", \"cloneCount\")]\n",
       "    CDR3_fraction <- CDR3_fraction[CDR3_fraction$cloneFraction > \n",
       "        clnefrc, ]\n",
       "    recurring <- unique(CDR3_fraction$nSeqCDR3[duplicated(CDR3_fraction$nSeqCDR3)])\n",
       "    notrecurring <- CDR3_fraction$nSeqCDR3[!CDR3_fraction$nSeqCDR3 %in% \n",
       "        recurring]\n",
       "    message(\"Total number of recurring clonotypes: \")\n",
       "    print(length(recurring))\n",
       "    if (length(recurring) == 0) {\n",
       "        mydummy_df <- as.data.frame(matrix(ncol = 4, nrow = length(mysamples)))\n",
       "        colnames(mydummy_df) <- colnames(CDR3_fraction)\n",
       "        mydummy_df$samplename <- mysamples\n",
       "        mydummy_df$nSeqCDR3 <- \"XXXXX\"\n",
       "        mydummy_df$cloneFraction <- 0\n",
       "        mydummy_df$cloneCount <- 0\n",
       "        CDR3_fraction <- rbind(CDR3_fraction, mydummy_df)\n",
       "        recurring <- \"XXXXX\"\n",
       "    }\n",
       "    if (length(recurring) > 50) {\n",
       "        recurring_df <- CDR3_fraction[CDR3_fraction$nSeqCDR3 %in% \n",
       "            recurring, ]\n",
       "        recurringcdr3_ordered <- unique(recurring_df$nSeqCDR3[order(recurring_df$cloneCount, \n",
       "            decreasing = TRUE)])\n",
       "        message(\"Total number of recurring clonotypes > 50 \")\n",
       "        message(\"Tracking top 10 recurring clonotypes \")\n",
       "        myColors <- distinctColorPalette(10)\n",
       "        myColors <- c(myColors, rep(\"white\", length(recurring) - \n",
       "            10), rep(\"white\", length(notrecurring)))\n",
       "        names(myColors) <- c(recurringcdr3_ordered, notrecurring)\n",
       "        message(\"these are what we color: \")\n",
       "        print(myColors[myColors != \"white\"])\n",
       "    }\n",
       "    else {\n",
       "        myColors <- distinctColorPalette(length(recurring))\n",
       "        myColors <- c(myColors, rep(\"white\", length(notrecurring)))\n",
       "        names(myColors) <- c(recurring, notrecurring)\n",
       "        myColors[names(myColors) == \"XXXXX\"] <- \"white\"\n",
       "        message(\"these are what we color: \")\n",
       "        print(myColors[myColors != \"white\"])\n",
       "    }\n",
       "    for (c in recurring) {\n",
       "        tmp <- CDR3_fraction[CDR3_fraction$nSeqCDR3 == c, ]\n",
       "        nonexsiting <- mysamples[!mysamples %in% tmp$samplename]\n",
       "        if (length(nonexsiting) > 0) {\n",
       "            newentries <- data.frame(samplename = nonexsiting, \n",
       "                nSeqCDR3 = c, cloneFraction = 0, cloneCount = 0)\n",
       "            CDR3_fraction <- rbind(CDR3_fraction, newentries)\n",
       "        }\n",
       "    }\n",
       "    p <- ggplot(CDR3_fraction, aes(x = samplename, y = eval(as.name(countfrac)), \n",
       "        fill = nSeqCDR3, stratum = nSeqCDR3, alluvium = nSeqCDR3, \n",
       "        label = nSeqCDR3))\n",
       "    myp <- p + geom_alluvium(decreasing = FALSE) + geom_stratum(decreasing = FALSE, \n",
       "        stat = \"alluvium\") + scale_fill_manual(breaks = names(myColors[myColors != \n",
       "        \"white\"]), values = myColors) + theme(axis.title.y = element_text(size = 50), \n",
       "        axis.title.x = element_blank(), axis.line = element_line(color = \"black\"), \n",
       "        axis.text = element_text(size = 50), axis.text.x = element_text(angle = 45, \n",
       "            hjust = 1), plot.title = element_text(size = 50, \n",
       "            hjust = 0.5)) + theme(panel.grid.major = element_blank(), \n",
       "        panel.grid.minor = element_blank(), panel.background = element_rect(fill = \"transparent\", \n",
       "            colour = NA), legend.key = element_rect(fill = \"white\", \n",
       "            colour = \"white\"), legend.position = \"none\", plot.margin = unit(c(0.2, \n",
       "            0, 0, 0), \"cm\")) + labs(y = countfrac) + labs(title = plottitle)\n",
       "    pdf(paste0(plotpath, \"clonetrack_\", mysamples[1], chain, \n",
       "        countfrac, \".pdf\"), width = 15, height = 20, useDingbats = FALSE, \n",
       "        onefile = FALSE)\n",
       "    print(myp)\n",
       "    dev.off()\n",
       "}\n",
       "```"
      ],
      "text/plain": [
       "function (compldfle, plotpath, chain, countfrac, clnefrc, plottitle) \n",
       "{\n",
       "    if (!(countfrac %in% c(\"cloneFraction\", \"cloneCount\"))) {\n",
       "        stop(\"Error: unknown argument \", countfrac, \". Please provide either cloneFraction or cloneCount.\")\n",
       "    }\n",
       "    message(\"list of samples to track clones: \")\n",
       "    mysamples <- unique(compldfle$samplename)\n",
       "    print(mysamples)\n",
       "    CDR3_fraction <- compldfle[, c(\"samplename\", \"nSeqCDR3\", \n",
       "        \"cloneFraction\", \"cloneCount\")]\n",
       "    CDR3_fraction <- CDR3_fraction[CDR3_fraction$cloneFraction > \n",
       "        clnefrc, ]\n",
       "    recurring <- unique(CDR3_fraction$nSeqCDR3[duplicated(CDR3_fraction$nSeqCDR3)])\n",
       "    notrecurring <- CDR3_fraction$nSeqCDR3[!CDR3_fraction$nSeqCDR3 %in% \n",
       "        recurring]\n",
       "    message(\"Total number of recurring clonotypes: \")\n",
       "    print(length(recurring))\n",
       "    if (length(recurring) == 0) {\n",
       "        mydummy_df <- as.data.frame(matrix(ncol = 4, nrow = length(mysamples)))\n",
       "        colnames(mydummy_df) <- colnames(CDR3_fraction)\n",
       "        mydummy_df$samplename <- mysamples\n",
       "        mydummy_df$nSeqCDR3 <- \"XXXXX\"\n",
       "        mydummy_df$cloneFraction <- 0\n",
       "        mydummy_df$cloneCount <- 0\n",
       "        CDR3_fraction <- rbind(CDR3_fraction, mydummy_df)\n",
       "        recurring <- \"XXXXX\"\n",
       "    }\n",
       "    if (length(recurring) > 50) {\n",
       "        recurring_df <- CDR3_fraction[CDR3_fraction$nSeqCDR3 %in% \n",
       "            recurring, ]\n",
       "        recurringcdr3_ordered <- unique(recurring_df$nSeqCDR3[order(recurring_df$cloneCount, \n",
       "            decreasing = TRUE)])\n",
       "        message(\"Total number of recurring clonotypes > 50 \")\n",
       "        message(\"Tracking top 10 recurring clonotypes \")\n",
       "        myColors <- distinctColorPalette(10)\n",
       "        myColors <- c(myColors, rep(\"white\", length(recurring) - \n",
       "            10), rep(\"white\", length(notrecurring)))\n",
       "        names(myColors) <- c(recurringcdr3_ordered, notrecurring)\n",
       "        message(\"these are what we color: \")\n",
       "        print(myColors[myColors != \"white\"])\n",
       "    }\n",
       "    else {\n",
       "        myColors <- distinctColorPalette(length(recurring))\n",
       "        myColors <- c(myColors, rep(\"white\", length(notrecurring)))\n",
       "        names(myColors) <- c(recurring, notrecurring)\n",
       "        myColors[names(myColors) == \"XXXXX\"] <- \"white\"\n",
       "        message(\"these are what we color: \")\n",
       "        print(myColors[myColors != \"white\"])\n",
       "    }\n",
       "    for (c in recurring) {\n",
       "        tmp <- CDR3_fraction[CDR3_fraction$nSeqCDR3 == c, ]\n",
       "        nonexsiting <- mysamples[!mysamples %in% tmp$samplename]\n",
       "        if (length(nonexsiting) > 0) {\n",
       "            newentries <- data.frame(samplename = nonexsiting, \n",
       "                nSeqCDR3 = c, cloneFraction = 0, cloneCount = 0)\n",
       "            CDR3_fraction <- rbind(CDR3_fraction, newentries)\n",
       "        }\n",
       "    }\n",
       "    p <- ggplot(CDR3_fraction, aes(x = samplename, y = eval(as.name(countfrac)), \n",
       "        fill = nSeqCDR3, stratum = nSeqCDR3, alluvium = nSeqCDR3, \n",
       "        label = nSeqCDR3))\n",
       "    myp <- p + geom_alluvium(decreasing = FALSE) + geom_stratum(decreasing = FALSE, \n",
       "        stat = \"alluvium\") + scale_fill_manual(breaks = names(myColors[myColors != \n",
       "        \"white\"]), values = myColors) + theme(axis.title.y = element_text(size = 50), \n",
       "        axis.title.x = element_blank(), axis.line = element_line(color = \"black\"), \n",
       "        axis.text = element_text(size = 50), axis.text.x = element_text(angle = 45, \n",
       "            hjust = 1), plot.title = element_text(size = 50, \n",
       "            hjust = 0.5)) + theme(panel.grid.major = element_blank(), \n",
       "        panel.grid.minor = element_blank(), panel.background = element_rect(fill = \"transparent\", \n",
       "            colour = NA), legend.key = element_rect(fill = \"white\", \n",
       "            colour = \"white\"), legend.position = \"none\", plot.margin = unit(c(0.2, \n",
       "            0, 0, 0), \"cm\")) + labs(y = countfrac) + labs(title = plottitle)\n",
       "    pdf(paste0(plotpath, \"clonetrack_\", mysamples[1], chain, \n",
       "        countfrac, \".pdf\"), width = 15, height = 20, useDingbats = FALSE, \n",
       "        onefile = FALSE)\n",
       "    print(myp)\n",
       "    dev.off()\n",
       "}"
      ]
     },
     "metadata": {},
     "output_type": "display_data"
    }
   ],
   "source": [
    "plot_clonetracks.fx"
   ]
  },
  {
   "cell_type": "code",
   "execution_count": 4,
   "metadata": {},
   "outputs": [],
   "source": [
    "load(file = paste0(datapath, \"capTCRseq/int_load_meta.RData\"))"
   ]
  },
  {
   "cell_type": "code",
   "execution_count": 5,
   "metadata": {},
   "outputs": [],
   "source": [
    "h4hpath <- \"/Users/anabbi/Desktop/H4H/INTERCEPT/NextSeq/immunarch/cloneslinks/\""
   ]
  },
  {
   "cell_type": "code",
   "execution_count": 44,
   "metadata": {},
   "outputs": [],
   "source": [
    "file_list <- list.files(h4hpath, pattern = paste0(\"CLONES_\", \"TRB\"), recursive = T)"
   ]
  },
  {
   "cell_type": "code",
   "execution_count": 45,
   "metadata": {},
   "outputs": [],
   "source": [
    "file_list <- file_list[!grepl(\"_2000000\", file_list)]\n",
    "file_list <- file_list[!grepl(\"immunarch\", file_list)]"
   ]
  },
  {
   "cell_type": "code",
   "execution_count": 46,
   "metadata": {},
   "outputs": [
    {
     "data": {
      "text/html": [
       "<table class=\"dataframe\">\n",
       "<caption>A tibble: 18 × 68</caption>\n",
       "<thead>\n",
       "\t<tr><th scope=col>Sample</th><th scope=col>sample_id</th><th scope=col>Patient</th><th scope=col>cycle</th><th scope=col>FOLD</th><th scope=col>ATC</th><th scope=col>Age</th><th scope=col>Disease_type</th><th scope=col>TE_fold</th><th scope=col>Pass</th><th scope=col>⋯</th><th scope=col>q0_aa</th><th scope=col>q0_v</th><th scope=col>q0_j</th><th scope=col>q0_aav</th><th scope=col>q0_vj</th><th scope=col>q1_aa</th><th scope=col>q1_v</th><th scope=col>q1_j</th><th scope=col>q1_aav</th><th scope=col>q1_vj</th></tr>\n",
       "\t<tr><th scope=col>&lt;chr&gt;</th><th scope=col>&lt;chr&gt;</th><th scope=col>&lt;chr&gt;</th><th scope=col>&lt;chr&gt;</th><th scope=col>&lt;dbl&gt;</th><th scope=col>&lt;dbl&gt;</th><th scope=col>&lt;dbl&gt;</th><th scope=col>&lt;chr&gt;</th><th scope=col>&lt;chr&gt;</th><th scope=col>&lt;lgl&gt;</th><th scope=col>⋯</th><th scope=col>&lt;dbl&gt;</th><th scope=col>&lt;dbl&gt;</th><th scope=col>&lt;dbl&gt;</th><th scope=col>&lt;dbl&gt;</th><th scope=col>&lt;dbl&gt;</th><th scope=col>&lt;dbl&gt;</th><th scope=col>&lt;dbl&gt;</th><th scope=col>&lt;dbl&gt;</th><th scope=col>&lt;dbl&gt;</th><th scope=col>&lt;dbl&gt;</th></tr>\n",
       "</thead>\n",
       "<tbody>\n",
       "\t<tr><td>CHP_324-04_cfDNA   </td><td>CHP_324_04</td><td>CHP_324</td><td>X04</td><td>0.0</td><td>   0.00</td><td>12</td><td>T-ALL</td><td>0  </td><td>NA</td><td>⋯</td><td>  2</td><td> 2</td><td> 2</td><td>  2</td><td> 2.0</td><td>  1.995557</td><td> 1.995557</td><td> 1.995557</td><td>  1.995557</td><td> 1.995557</td></tr>\n",
       "\t<tr><td>CHP_324-05_cfDNA   </td><td>CHP_324_05</td><td>CHP_324</td><td>X05</td><td>0.0</td><td>   0.00</td><td>12</td><td>T-ALL</td><td>0  </td><td>NA</td><td>⋯</td><td>  4</td><td> 3</td><td> 4</td><td>  4</td><td> 3.5</td><td>  3.770348</td><td> 2.579926</td><td> 3.770348</td><td>  3.770348</td><td> 3.175137</td></tr>\n",
       "\t<tr><td>CHP_324-05_PBMC-DNA</td><td>CHP_324_05</td><td>CHP_324</td><td>X05</td><td>0.0</td><td>   0.00</td><td>12</td><td>T-ALL</td><td>0  </td><td>NA</td><td>⋯</td><td>295</td><td>45</td><td>14</td><td>295</td><td>29.5</td><td>165.892624</td><td>31.274714</td><td>10.258785</td><td>165.892624</td><td>20.766750</td></tr>\n",
       "\t<tr><td>CHP_375-01-PBMC-DNA</td><td>CHP_375_01</td><td>CHP_375</td><td>X01</td><td>1.8</td><td>   0.00</td><td>14</td><td>T-ALL</td><td>1.8</td><td>NA</td><td>⋯</td><td> 12</td><td>11</td><td> 7</td><td> 12</td><td> 9.0</td><td>  2.223439</td><td> 1.582499</td><td> 1.911728</td><td>  2.223439</td><td> 1.747113</td></tr>\n",
       "\t<tr><td>CHP_375-02_cfDNA   </td><td>CHP_375_02</td><td>CHP_375</td><td>X02</td><td>0.0</td><td>   0.00</td><td>14</td><td>T-ALL</td><td>0  </td><td>NA</td><td>⋯</td><td> 17</td><td>13</td><td> 9</td><td> 17</td><td>11.0</td><td>  6.286238</td><td> 5.996816</td><td> 4.215088</td><td>  6.286238</td><td> 5.105952</td></tr>\n",
       "\t<tr><td>CHP_375-02-PBMC-DNA</td><td>CHP_375_02</td><td>CHP_375</td><td>X02</td><td>0.0</td><td>   0.00</td><td>14</td><td>T-ALL</td><td>0  </td><td>NA</td><td>⋯</td><td>647</td><td>55</td><td>14</td><td>648</td><td>34.5</td><td>510.397557</td><td>38.308064</td><td>10.809847</td><td>510.643258</td><td>24.558955</td></tr>\n",
       "\t<tr><td>CHP_375-03_cfDNA   </td><td>CHP_375_03</td><td>CHP_375</td><td>X03</td><td>0.0</td><td>   0.00</td><td>14</td><td>T-ALL</td><td>0  </td><td>NA</td><td>⋯</td><td> 17</td><td>13</td><td> 9</td><td> 17</td><td>11.0</td><td>  6.336502</td><td> 6.283103</td><td> 3.798558</td><td>  6.336502</td><td> 5.040831</td></tr>\n",
       "\t<tr><td>CHP_375-04_cfDNA   </td><td>CHP_375_04</td><td>CHP_375</td><td>X04</td><td>0.6</td><td>   0.00</td><td>14</td><td>T-ALL</td><td>0.6</td><td>NA</td><td>⋯</td><td> 33</td><td>21</td><td> 9</td><td> 33</td><td>15.0</td><td> 19.821220</td><td>13.584535</td><td> 6.235886</td><td> 19.821220</td><td> 9.910210</td></tr>\n",
       "\t<tr><td>CHP_375-05_cfDNA   </td><td>CHP_375_05</td><td>CHP_375</td><td>X05</td><td>0.5</td><td>   0.00</td><td>14</td><td>T-ALL</td><td>0.5</td><td>NA</td><td>⋯</td><td> 66</td><td>32</td><td>13</td><td> 66</td><td>22.5</td><td> 30.624927</td><td>16.204228</td><td> 9.052041</td><td> 30.624927</td><td>12.628134</td></tr>\n",
       "\t<tr><td>CHP_375-05_PBMC_DNA</td><td>CHP_375_05</td><td>CHP_375</td><td>X05</td><td>0.5</td><td>   0.00</td><td>14</td><td>T-ALL</td><td>0.5</td><td>NA</td><td>⋯</td><td>357</td><td>50</td><td>14</td><td>357</td><td>32.0</td><td>181.991052</td><td>31.517568</td><td>10.122672</td><td>181.991052</td><td>20.820120</td></tr>\n",
       "\t<tr><td>CHP_387-01_cfDNA   </td><td>CHP_387_01</td><td>CHP_387</td><td>X01</td><td>0.8</td><td> 288.99</td><td>13</td><td>T-ALL</td><td>0.8</td><td>NA</td><td>⋯</td><td> 10</td><td> 5</td><td> 7</td><td> 10</td><td> 6.0</td><td>  1.177048</td><td> 1.024859</td><td> 1.174655</td><td>  1.177048</td><td> 1.099757</td></tr>\n",
       "\t<tr><td>CHP_387-01-PBMC-DNA</td><td>CHP_387_01</td><td>CHP_387</td><td>X01</td><td>0.8</td><td> 288.99</td><td>13</td><td>T-ALL</td><td>0.8</td><td>NA</td><td>⋯</td><td>358</td><td>48</td><td>14</td><td>358</td><td>31.0</td><td>  6.703836</td><td> 3.327969</td><td> 2.942895</td><td>  6.703836</td><td> 3.135432</td></tr>\n",
       "\t<tr><td>CHP_387-02_cfDNA   </td><td>CHP_387_02</td><td>CHP_387</td><td>X02</td><td>4.9</td><td> 254.80</td><td>13</td><td>T-ALL</td><td>4.9</td><td>NA</td><td>⋯</td><td>  5</td><td> 5</td><td> 3</td><td>  5</td><td> 4.0</td><td>  2.195205</td><td> 2.195205</td><td> 2.068134</td><td>  2.195205</td><td> 2.131669</td></tr>\n",
       "\t<tr><td>CHP_387-02_PBMC_DNA</td><td>CHP_387_02</td><td>CHP_387</td><td>X02</td><td>4.9</td><td> 254.80</td><td>13</td><td>T-ALL</td><td>4.9</td><td>NA</td><td>⋯</td><td>855</td><td>54</td><td>14</td><td>855</td><td>34.0</td><td>605.462963</td><td>35.009446</td><td>11.946509</td><td>605.462963</td><td>23.477977</td></tr>\n",
       "\t<tr><td>CHP_387-03_cfDNA   </td><td>CHP_387_03</td><td>CHP_387</td><td>X03</td><td> NA</td><td> 483.72</td><td>13</td><td>T-ALL</td><td>x  </td><td>NA</td><td>⋯</td><td> 11</td><td> 8</td><td> 5</td><td> 11</td><td> 6.5</td><td>  6.018764</td><td> 4.383900</td><td> 4.218440</td><td>  6.018764</td><td> 4.301170</td></tr>\n",
       "\t<tr><td>CHP_387-03_PBMC_DNA</td><td>CHP_387_03</td><td>CHP_387</td><td>X03</td><td> NA</td><td> 483.72</td><td>13</td><td>T-ALL</td><td>x  </td><td>NA</td><td>⋯</td><td> 91</td><td>40</td><td>14</td><td> 91</td><td>27.0</td><td> 64.240499</td><td>23.441863</td><td>11.512896</td><td> 64.240499</td><td>17.477379</td></tr>\n",
       "\t<tr><td>CHP_395-01_cfDNA   </td><td>CHP_395_01</td><td>CHP_395</td><td>X01</td><td>2.7</td><td>5875.96</td><td>11</td><td>T-ALL</td><td>2.7</td><td>NA</td><td>⋯</td><td>  4</td><td> 2</td><td> 3</td><td>  4</td><td> 2.5</td><td>  1.214059</td><td> 1.000702</td><td> 1.213211</td><td>  1.214059</td><td> 1.106957</td></tr>\n",
       "\t<tr><td>CHP_395-02_cfDNA   </td><td>CHP_395_02</td><td>CHP_395</td><td>X02</td><td>1.0</td><td>     NA</td><td>11</td><td>T-ALL</td><td>1  </td><td>NA</td><td>⋯</td><td> 26</td><td>17</td><td> 9</td><td> 26</td><td>13.0</td><td>  7.496205</td><td> 6.662522</td><td> 5.091726</td><td>  7.496205</td><td> 5.877124</td></tr>\n",
       "</tbody>\n",
       "</table>\n"
      ],
      "text/latex": [
       "A tibble: 18 × 68\n",
       "\\begin{tabular}{lllllllllllllllllllll}\n",
       " Sample & sample\\_id & Patient & cycle & FOLD & ATC & Age & Disease\\_type & TE\\_fold & Pass & ⋯ & q0\\_aa & q0\\_v & q0\\_j & q0\\_aav & q0\\_vj & q1\\_aa & q1\\_v & q1\\_j & q1\\_aav & q1\\_vj\\\\\n",
       " <chr> & <chr> & <chr> & <chr> & <dbl> & <dbl> & <dbl> & <chr> & <chr> & <lgl> & ⋯ & <dbl> & <dbl> & <dbl> & <dbl> & <dbl> & <dbl> & <dbl> & <dbl> & <dbl> & <dbl>\\\\\n",
       "\\hline\n",
       "\t CHP\\_324-04\\_cfDNA    & CHP\\_324\\_04 & CHP\\_324 & X04 & 0.0 &    0.00 & 12 & T-ALL & 0   & NA & ⋯ &   2 &  2 &  2 &   2 &  2.0 &   1.995557 &  1.995557 &  1.995557 &   1.995557 &  1.995557\\\\\n",
       "\t CHP\\_324-05\\_cfDNA    & CHP\\_324\\_05 & CHP\\_324 & X05 & 0.0 &    0.00 & 12 & T-ALL & 0   & NA & ⋯ &   4 &  3 &  4 &   4 &  3.5 &   3.770348 &  2.579926 &  3.770348 &   3.770348 &  3.175137\\\\\n",
       "\t CHP\\_324-05\\_PBMC-DNA & CHP\\_324\\_05 & CHP\\_324 & X05 & 0.0 &    0.00 & 12 & T-ALL & 0   & NA & ⋯ & 295 & 45 & 14 & 295 & 29.5 & 165.892624 & 31.274714 & 10.258785 & 165.892624 & 20.766750\\\\\n",
       "\t CHP\\_375-01-PBMC-DNA & CHP\\_375\\_01 & CHP\\_375 & X01 & 1.8 &    0.00 & 14 & T-ALL & 1.8 & NA & ⋯ &  12 & 11 &  7 &  12 &  9.0 &   2.223439 &  1.582499 &  1.911728 &   2.223439 &  1.747113\\\\\n",
       "\t CHP\\_375-02\\_cfDNA    & CHP\\_375\\_02 & CHP\\_375 & X02 & 0.0 &    0.00 & 14 & T-ALL & 0   & NA & ⋯ &  17 & 13 &  9 &  17 & 11.0 &   6.286238 &  5.996816 &  4.215088 &   6.286238 &  5.105952\\\\\n",
       "\t CHP\\_375-02-PBMC-DNA & CHP\\_375\\_02 & CHP\\_375 & X02 & 0.0 &    0.00 & 14 & T-ALL & 0   & NA & ⋯ & 647 & 55 & 14 & 648 & 34.5 & 510.397557 & 38.308064 & 10.809847 & 510.643258 & 24.558955\\\\\n",
       "\t CHP\\_375-03\\_cfDNA    & CHP\\_375\\_03 & CHP\\_375 & X03 & 0.0 &    0.00 & 14 & T-ALL & 0   & NA & ⋯ &  17 & 13 &  9 &  17 & 11.0 &   6.336502 &  6.283103 &  3.798558 &   6.336502 &  5.040831\\\\\n",
       "\t CHP\\_375-04\\_cfDNA    & CHP\\_375\\_04 & CHP\\_375 & X04 & 0.6 &    0.00 & 14 & T-ALL & 0.6 & NA & ⋯ &  33 & 21 &  9 &  33 & 15.0 &  19.821220 & 13.584535 &  6.235886 &  19.821220 &  9.910210\\\\\n",
       "\t CHP\\_375-05\\_cfDNA    & CHP\\_375\\_05 & CHP\\_375 & X05 & 0.5 &    0.00 & 14 & T-ALL & 0.5 & NA & ⋯ &  66 & 32 & 13 &  66 & 22.5 &  30.624927 & 16.204228 &  9.052041 &  30.624927 & 12.628134\\\\\n",
       "\t CHP\\_375-05\\_PBMC\\_DNA & CHP\\_375\\_05 & CHP\\_375 & X05 & 0.5 &    0.00 & 14 & T-ALL & 0.5 & NA & ⋯ & 357 & 50 & 14 & 357 & 32.0 & 181.991052 & 31.517568 & 10.122672 & 181.991052 & 20.820120\\\\\n",
       "\t CHP\\_387-01\\_cfDNA    & CHP\\_387\\_01 & CHP\\_387 & X01 & 0.8 &  288.99 & 13 & T-ALL & 0.8 & NA & ⋯ &  10 &  5 &  7 &  10 &  6.0 &   1.177048 &  1.024859 &  1.174655 &   1.177048 &  1.099757\\\\\n",
       "\t CHP\\_387-01-PBMC-DNA & CHP\\_387\\_01 & CHP\\_387 & X01 & 0.8 &  288.99 & 13 & T-ALL & 0.8 & NA & ⋯ & 358 & 48 & 14 & 358 & 31.0 &   6.703836 &  3.327969 &  2.942895 &   6.703836 &  3.135432\\\\\n",
       "\t CHP\\_387-02\\_cfDNA    & CHP\\_387\\_02 & CHP\\_387 & X02 & 4.9 &  254.80 & 13 & T-ALL & 4.9 & NA & ⋯ &   5 &  5 &  3 &   5 &  4.0 &   2.195205 &  2.195205 &  2.068134 &   2.195205 &  2.131669\\\\\n",
       "\t CHP\\_387-02\\_PBMC\\_DNA & CHP\\_387\\_02 & CHP\\_387 & X02 & 4.9 &  254.80 & 13 & T-ALL & 4.9 & NA & ⋯ & 855 & 54 & 14 & 855 & 34.0 & 605.462963 & 35.009446 & 11.946509 & 605.462963 & 23.477977\\\\\n",
       "\t CHP\\_387-03\\_cfDNA    & CHP\\_387\\_03 & CHP\\_387 & X03 &  NA &  483.72 & 13 & T-ALL & x   & NA & ⋯ &  11 &  8 &  5 &  11 &  6.5 &   6.018764 &  4.383900 &  4.218440 &   6.018764 &  4.301170\\\\\n",
       "\t CHP\\_387-03\\_PBMC\\_DNA & CHP\\_387\\_03 & CHP\\_387 & X03 &  NA &  483.72 & 13 & T-ALL & x   & NA & ⋯ &  91 & 40 & 14 &  91 & 27.0 &  64.240499 & 23.441863 & 11.512896 &  64.240499 & 17.477379\\\\\n",
       "\t CHP\\_395-01\\_cfDNA    & CHP\\_395\\_01 & CHP\\_395 & X01 & 2.7 & 5875.96 & 11 & T-ALL & 2.7 & NA & ⋯ &   4 &  2 &  3 &   4 &  2.5 &   1.214059 &  1.000702 &  1.213211 &   1.214059 &  1.106957\\\\\n",
       "\t CHP\\_395-02\\_cfDNA    & CHP\\_395\\_02 & CHP\\_395 & X02 & 1.0 &      NA & 11 & T-ALL & 1   & NA & ⋯ &  26 & 17 &  9 &  26 & 13.0 &   7.496205 &  6.662522 &  5.091726 &   7.496205 &  5.877124\\\\\n",
       "\\end{tabular}\n"
      ],
      "text/markdown": [
       "\n",
       "A tibble: 18 × 68\n",
       "\n",
       "| Sample &lt;chr&gt; | sample_id &lt;chr&gt; | Patient &lt;chr&gt; | cycle &lt;chr&gt; | FOLD &lt;dbl&gt; | ATC &lt;dbl&gt; | Age &lt;dbl&gt; | Disease_type &lt;chr&gt; | TE_fold &lt;chr&gt; | Pass &lt;lgl&gt; | ⋯ ⋯ | q0_aa &lt;dbl&gt; | q0_v &lt;dbl&gt; | q0_j &lt;dbl&gt; | q0_aav &lt;dbl&gt; | q0_vj &lt;dbl&gt; | q1_aa &lt;dbl&gt; | q1_v &lt;dbl&gt; | q1_j &lt;dbl&gt; | q1_aav &lt;dbl&gt; | q1_vj &lt;dbl&gt; |\n",
       "|---|---|---|---|---|---|---|---|---|---|---|---|---|---|---|---|---|---|---|---|---|\n",
       "| CHP_324-04_cfDNA    | CHP_324_04 | CHP_324 | X04 | 0.0 |    0.00 | 12 | T-ALL | 0   | NA | ⋯ |   2 |  2 |  2 |   2 |  2.0 |   1.995557 |  1.995557 |  1.995557 |   1.995557 |  1.995557 |\n",
       "| CHP_324-05_cfDNA    | CHP_324_05 | CHP_324 | X05 | 0.0 |    0.00 | 12 | T-ALL | 0   | NA | ⋯ |   4 |  3 |  4 |   4 |  3.5 |   3.770348 |  2.579926 |  3.770348 |   3.770348 |  3.175137 |\n",
       "| CHP_324-05_PBMC-DNA | CHP_324_05 | CHP_324 | X05 | 0.0 |    0.00 | 12 | T-ALL | 0   | NA | ⋯ | 295 | 45 | 14 | 295 | 29.5 | 165.892624 | 31.274714 | 10.258785 | 165.892624 | 20.766750 |\n",
       "| CHP_375-01-PBMC-DNA | CHP_375_01 | CHP_375 | X01 | 1.8 |    0.00 | 14 | T-ALL | 1.8 | NA | ⋯ |  12 | 11 |  7 |  12 |  9.0 |   2.223439 |  1.582499 |  1.911728 |   2.223439 |  1.747113 |\n",
       "| CHP_375-02_cfDNA    | CHP_375_02 | CHP_375 | X02 | 0.0 |    0.00 | 14 | T-ALL | 0   | NA | ⋯ |  17 | 13 |  9 |  17 | 11.0 |   6.286238 |  5.996816 |  4.215088 |   6.286238 |  5.105952 |\n",
       "| CHP_375-02-PBMC-DNA | CHP_375_02 | CHP_375 | X02 | 0.0 |    0.00 | 14 | T-ALL | 0   | NA | ⋯ | 647 | 55 | 14 | 648 | 34.5 | 510.397557 | 38.308064 | 10.809847 | 510.643258 | 24.558955 |\n",
       "| CHP_375-03_cfDNA    | CHP_375_03 | CHP_375 | X03 | 0.0 |    0.00 | 14 | T-ALL | 0   | NA | ⋯ |  17 | 13 |  9 |  17 | 11.0 |   6.336502 |  6.283103 |  3.798558 |   6.336502 |  5.040831 |\n",
       "| CHP_375-04_cfDNA    | CHP_375_04 | CHP_375 | X04 | 0.6 |    0.00 | 14 | T-ALL | 0.6 | NA | ⋯ |  33 | 21 |  9 |  33 | 15.0 |  19.821220 | 13.584535 |  6.235886 |  19.821220 |  9.910210 |\n",
       "| CHP_375-05_cfDNA    | CHP_375_05 | CHP_375 | X05 | 0.5 |    0.00 | 14 | T-ALL | 0.5 | NA | ⋯ |  66 | 32 | 13 |  66 | 22.5 |  30.624927 | 16.204228 |  9.052041 |  30.624927 | 12.628134 |\n",
       "| CHP_375-05_PBMC_DNA | CHP_375_05 | CHP_375 | X05 | 0.5 |    0.00 | 14 | T-ALL | 0.5 | NA | ⋯ | 357 | 50 | 14 | 357 | 32.0 | 181.991052 | 31.517568 | 10.122672 | 181.991052 | 20.820120 |\n",
       "| CHP_387-01_cfDNA    | CHP_387_01 | CHP_387 | X01 | 0.8 |  288.99 | 13 | T-ALL | 0.8 | NA | ⋯ |  10 |  5 |  7 |  10 |  6.0 |   1.177048 |  1.024859 |  1.174655 |   1.177048 |  1.099757 |\n",
       "| CHP_387-01-PBMC-DNA | CHP_387_01 | CHP_387 | X01 | 0.8 |  288.99 | 13 | T-ALL | 0.8 | NA | ⋯ | 358 | 48 | 14 | 358 | 31.0 |   6.703836 |  3.327969 |  2.942895 |   6.703836 |  3.135432 |\n",
       "| CHP_387-02_cfDNA    | CHP_387_02 | CHP_387 | X02 | 4.9 |  254.80 | 13 | T-ALL | 4.9 | NA | ⋯ |   5 |  5 |  3 |   5 |  4.0 |   2.195205 |  2.195205 |  2.068134 |   2.195205 |  2.131669 |\n",
       "| CHP_387-02_PBMC_DNA | CHP_387_02 | CHP_387 | X02 | 4.9 |  254.80 | 13 | T-ALL | 4.9 | NA | ⋯ | 855 | 54 | 14 | 855 | 34.0 | 605.462963 | 35.009446 | 11.946509 | 605.462963 | 23.477977 |\n",
       "| CHP_387-03_cfDNA    | CHP_387_03 | CHP_387 | X03 |  NA |  483.72 | 13 | T-ALL | x   | NA | ⋯ |  11 |  8 |  5 |  11 |  6.5 |   6.018764 |  4.383900 |  4.218440 |   6.018764 |  4.301170 |\n",
       "| CHP_387-03_PBMC_DNA | CHP_387_03 | CHP_387 | X03 |  NA |  483.72 | 13 | T-ALL | x   | NA | ⋯ |  91 | 40 | 14 |  91 | 27.0 |  64.240499 | 23.441863 | 11.512896 |  64.240499 | 17.477379 |\n",
       "| CHP_395-01_cfDNA    | CHP_395_01 | CHP_395 | X01 | 2.7 | 5875.96 | 11 | T-ALL | 2.7 | NA | ⋯ |   4 |  2 |  3 |   4 |  2.5 |   1.214059 |  1.000702 |  1.213211 |   1.214059 |  1.106957 |\n",
       "| CHP_395-02_cfDNA    | CHP_395_02 | CHP_395 | X02 | 1.0 |      NA | 11 | T-ALL | 1   | NA | ⋯ |  26 | 17 |  9 |  26 | 13.0 |   7.496205 |  6.662522 |  5.091726 |   7.496205 |  5.877124 |\n",
       "\n"
      ],
      "text/plain": [
       "   Sample              sample_id  Patient cycle FOLD ATC     Age Disease_type\n",
       "1  CHP_324-04_cfDNA    CHP_324_04 CHP_324 X04   0.0     0.00 12  T-ALL       \n",
       "2  CHP_324-05_cfDNA    CHP_324_05 CHP_324 X05   0.0     0.00 12  T-ALL       \n",
       "3  CHP_324-05_PBMC-DNA CHP_324_05 CHP_324 X05   0.0     0.00 12  T-ALL       \n",
       "4  CHP_375-01-PBMC-DNA CHP_375_01 CHP_375 X01   1.8     0.00 14  T-ALL       \n",
       "5  CHP_375-02_cfDNA    CHP_375_02 CHP_375 X02   0.0     0.00 14  T-ALL       \n",
       "6  CHP_375-02-PBMC-DNA CHP_375_02 CHP_375 X02   0.0     0.00 14  T-ALL       \n",
       "7  CHP_375-03_cfDNA    CHP_375_03 CHP_375 X03   0.0     0.00 14  T-ALL       \n",
       "8  CHP_375-04_cfDNA    CHP_375_04 CHP_375 X04   0.6     0.00 14  T-ALL       \n",
       "9  CHP_375-05_cfDNA    CHP_375_05 CHP_375 X05   0.5     0.00 14  T-ALL       \n",
       "10 CHP_375-05_PBMC_DNA CHP_375_05 CHP_375 X05   0.5     0.00 14  T-ALL       \n",
       "11 CHP_387-01_cfDNA    CHP_387_01 CHP_387 X01   0.8   288.99 13  T-ALL       \n",
       "12 CHP_387-01-PBMC-DNA CHP_387_01 CHP_387 X01   0.8   288.99 13  T-ALL       \n",
       "13 CHP_387-02_cfDNA    CHP_387_02 CHP_387 X02   4.9   254.80 13  T-ALL       \n",
       "14 CHP_387-02_PBMC_DNA CHP_387_02 CHP_387 X02   4.9   254.80 13  T-ALL       \n",
       "15 CHP_387-03_cfDNA    CHP_387_03 CHP_387 X03    NA   483.72 13  T-ALL       \n",
       "16 CHP_387-03_PBMC_DNA CHP_387_03 CHP_387 X03    NA   483.72 13  T-ALL       \n",
       "17 CHP_395-01_cfDNA    CHP_395_01 CHP_395 X01   2.7  5875.96 11  T-ALL       \n",
       "18 CHP_395-02_cfDNA    CHP_395_02 CHP_395 X02   1.0       NA 11  T-ALL       \n",
       "   TE_fold Pass ⋯ q0_aa q0_v q0_j q0_aav q0_vj q1_aa      q1_v      q1_j     \n",
       "1  0       NA   ⋯   2    2    2     2     2.0    1.995557  1.995557  1.995557\n",
       "2  0       NA   ⋯   4    3    4     4     3.5    3.770348  2.579926  3.770348\n",
       "3  0       NA   ⋯ 295   45   14   295    29.5  165.892624 31.274714 10.258785\n",
       "4  1.8     NA   ⋯  12   11    7    12     9.0    2.223439  1.582499  1.911728\n",
       "5  0       NA   ⋯  17   13    9    17    11.0    6.286238  5.996816  4.215088\n",
       "6  0       NA   ⋯ 647   55   14   648    34.5  510.397557 38.308064 10.809847\n",
       "7  0       NA   ⋯  17   13    9    17    11.0    6.336502  6.283103  3.798558\n",
       "8  0.6     NA   ⋯  33   21    9    33    15.0   19.821220 13.584535  6.235886\n",
       "9  0.5     NA   ⋯  66   32   13    66    22.5   30.624927 16.204228  9.052041\n",
       "10 0.5     NA   ⋯ 357   50   14   357    32.0  181.991052 31.517568 10.122672\n",
       "11 0.8     NA   ⋯  10    5    7    10     6.0    1.177048  1.024859  1.174655\n",
       "12 0.8     NA   ⋯ 358   48   14   358    31.0    6.703836  3.327969  2.942895\n",
       "13 4.9     NA   ⋯   5    5    3     5     4.0    2.195205  2.195205  2.068134\n",
       "14 4.9     NA   ⋯ 855   54   14   855    34.0  605.462963 35.009446 11.946509\n",
       "15 x       NA   ⋯  11    8    5    11     6.5    6.018764  4.383900  4.218440\n",
       "16 x       NA   ⋯  91   40   14    91    27.0   64.240499 23.441863 11.512896\n",
       "17 2.7     NA   ⋯   4    2    3     4     2.5    1.214059  1.000702  1.213211\n",
       "18 1       NA   ⋯  26   17    9    26    13.0    7.496205  6.662522  5.091726\n",
       "   q1_aav     q1_vj    \n",
       "1    1.995557  1.995557\n",
       "2    3.770348  3.175137\n",
       "3  165.892624 20.766750\n",
       "4    2.223439  1.747113\n",
       "5    6.286238  5.105952\n",
       "6  510.643258 24.558955\n",
       "7    6.336502  5.040831\n",
       "8   19.821220  9.910210\n",
       "9   30.624927 12.628134\n",
       "10 181.991052 20.820120\n",
       "11   1.177048  1.099757\n",
       "12   6.703836  3.135432\n",
       "13   2.195205  2.131669\n",
       "14 605.462963 23.477977\n",
       "15   6.018764  4.301170\n",
       "16  64.240499 17.477379\n",
       "17   1.214059  1.106957\n",
       "18   7.496205  5.877124"
      ]
     },
     "metadata": {},
     "output_type": "display_data"
    }
   ],
   "source": [
    "int_load$meta[ int_load$meta$Disease_type == \"T-ALL\",]"
   ]
  },
  {
   "cell_type": "markdown",
   "metadata": {},
   "source": [
    "# T-ALL patients"
   ]
  },
  {
   "cell_type": "markdown",
   "metadata": {},
   "source": [
    "### 375"
   ]
  },
  {
   "cell_type": "code",
   "execution_count": 47,
   "metadata": {},
   "outputs": [],
   "source": [
    "chp375 <- file_list[grepl(\"375\", file_list)]"
   ]
  },
  {
   "cell_type": "code",
   "execution_count": 48,
   "metadata": {},
   "outputs": [
    {
     "data": {
      "text/html": [
       "<style>\n",
       ".list-inline {list-style: none; margin:0; padding: 0}\n",
       ".list-inline>li {display: inline-block}\n",
       ".list-inline>li:not(:last-child)::after {content: \"\\00b7\"; padding: 0 .5ex}\n",
       "</style>\n",
       "<ol class=list-inline><li>'CLONES_TRBCHP_375-01-PBMC-DNA.txt'</li><li>'CLONES_TRBCHP_375-02_cfDNA.txt'</li><li>'CLONES_TRBCHP_375-02-PBMC-DNA.txt'</li><li>'CLONES_TRBCHP_375-03_cfDNA.txt'</li><li>'CLONES_TRBCHP_375-04_cfDNA.txt'</li><li>'CLONES_TRBCHP_375-05_cfDNA.txt'</li><li>'CLONES_TRBCHP_375-05_PBMC_DNA.txt'</li></ol>\n"
      ],
      "text/latex": [
       "\\begin{enumerate*}\n",
       "\\item 'CLONES\\_TRBCHP\\_375-01-PBMC-DNA.txt'\n",
       "\\item 'CLONES\\_TRBCHP\\_375-02\\_cfDNA.txt'\n",
       "\\item 'CLONES\\_TRBCHP\\_375-02-PBMC-DNA.txt'\n",
       "\\item 'CLONES\\_TRBCHP\\_375-03\\_cfDNA.txt'\n",
       "\\item 'CLONES\\_TRBCHP\\_375-04\\_cfDNA.txt'\n",
       "\\item 'CLONES\\_TRBCHP\\_375-05\\_cfDNA.txt'\n",
       "\\item 'CLONES\\_TRBCHP\\_375-05\\_PBMC\\_DNA.txt'\n",
       "\\end{enumerate*}\n"
      ],
      "text/markdown": [
       "1. 'CLONES_TRBCHP_375-01-PBMC-DNA.txt'\n",
       "2. 'CLONES_TRBCHP_375-02_cfDNA.txt'\n",
       "3. 'CLONES_TRBCHP_375-02-PBMC-DNA.txt'\n",
       "4. 'CLONES_TRBCHP_375-03_cfDNA.txt'\n",
       "5. 'CLONES_TRBCHP_375-04_cfDNA.txt'\n",
       "6. 'CLONES_TRBCHP_375-05_cfDNA.txt'\n",
       "7. 'CLONES_TRBCHP_375-05_PBMC_DNA.txt'\n",
       "\n",
       "\n"
      ],
      "text/plain": [
       "[1] \"CLONES_TRBCHP_375-01-PBMC-DNA.txt\" \"CLONES_TRBCHP_375-02_cfDNA.txt\"   \n",
       "[3] \"CLONES_TRBCHP_375-02-PBMC-DNA.txt\" \"CLONES_TRBCHP_375-03_cfDNA.txt\"   \n",
       "[5] \"CLONES_TRBCHP_375-04_cfDNA.txt\"    \"CLONES_TRBCHP_375-05_cfDNA.txt\"   \n",
       "[7] \"CLONES_TRBCHP_375-05_PBMC_DNA.txt\""
      ]
     },
     "metadata": {},
     "output_type": "display_data"
    }
   ],
   "source": [
    "chp375"
   ]
  },
  {
   "cell_type": "code",
   "execution_count": 49,
   "metadata": {},
   "outputs": [
    {
     "name": "stderr",
     "output_type": "stream",
     "text": [
      "my files:\n",
      "\n"
     ]
    },
    {
     "name": "stdout",
     "output_type": "stream",
     "text": [
      "[1] \"CLONES_TRBCHP_375-01-PBMC-DNA.txt\" \"CLONES_TRBCHP_375-02_cfDNA.txt\"   \n",
      "[3] \"CLONES_TRBCHP_375-02-PBMC-DNA.txt\" \"CLONES_TRBCHP_375-03_cfDNA.txt\"   \n",
      "[5] \"CLONES_TRBCHP_375-04_cfDNA.txt\"    \"CLONES_TRBCHP_375-05_cfDNA.txt\"   \n",
      "[7] \"CLONES_TRBCHP_375-05_PBMC_DNA.txt\"\n"
     ]
    },
    {
     "name": "stderr",
     "output_type": "stream",
     "text": [
      "Total recovered clonotypes:\n",
      "\n"
     ]
    },
    {
     "name": "stdout",
     "output_type": "stream",
     "text": [
      "[1] 1168\n"
     ]
    },
    {
     "name": "stderr",
     "output_type": "stream",
     "text": [
      "Total out-of-frame clonotypes:\n",
      "\n"
     ]
    },
    {
     "name": "stdout",
     "output_type": "stream",
     "text": [
      "[1] 252\n"
     ]
    },
    {
     "name": "stderr",
     "output_type": "stream",
     "text": [
      "Total clonotypes with stop codon:\n",
      "\n"
     ]
    },
    {
     "name": "stdout",
     "output_type": "stream",
     "text": [
      "[1] 28\n"
     ]
    },
    {
     "name": "stderr",
     "output_type": "stream",
     "text": [
      "Total productive clonotypes:\n",
      "\n"
     ]
    },
    {
     "name": "stdout",
     "output_type": "stream",
     "text": [
      "[1] 888\n"
     ]
    },
    {
     "name": "stderr",
     "output_type": "stream",
     "text": [
      "Output contains in_frame clonotypes only\n",
      "\n"
     ]
    }
   ],
   "source": [
    "cdr3df <- cdr3_dataframe.fx(h4hpath, \"TRB\", chp375, \"inframe\")"
   ]
  },
  {
   "cell_type": "code",
   "execution_count": 54,
   "metadata": {},
   "outputs": [],
   "source": [
    "compldfle <- cdr3df"
   ]
  },
  {
   "cell_type": "code",
   "execution_count": 56,
   "metadata": {},
   "outputs": [
    {
     "name": "stderr",
     "output_type": "stream",
     "text": [
      "list of samples to track clones: \n",
      "\n"
     ]
    },
    {
     "name": "stdout",
     "output_type": "stream",
     "text": [
      "[1] \"CHP_375-01-PBMC-DNA\" \"CHP_375-02_cfDNA\"    \"CHP_375-02-PBMC-DNA\"\n",
      "[4] \"CHP_375-03_cfDNA\"    \"CHP_375-04_cfDNA\"    \"CHP_375-05_cfDNA\"   \n",
      "[7] \"CHP_375-05_PBMC_DNA\"\n"
     ]
    },
    {
     "name": "stderr",
     "output_type": "stream",
     "text": [
      "Total number of recurring clonotypes: \n",
      "\n"
     ]
    },
    {
     "name": "stdout",
     "output_type": "stream",
     "text": [
      "[1] 7\n"
     ]
    },
    {
     "name": "stderr",
     "output_type": "stream",
     "text": [
      "these are what we color: \n",
      "\n"
     ]
    },
    {
     "name": "stdout",
     "output_type": "stream",
     "text": [
      "TGTGCCAGCAGTTACGAGTCTCTTGGGGAACGACTCTATGGCTACACCTTC \n",
      "                                          \"#D5D16C\" \n",
      "      TGTGCCAGCAGTGAACTAGCGGGGGGGTACAATGAGCAGTTCTTC \n",
      "                                          \"#D67072\" \n",
      "TGTGCCAGCAGTCCCGAGTTTCAGGGCGTCTCTGGAAACACCATATATTTT \n",
      "                                          \"#B09ED4\" \n",
      "   TGTGCCAGCAGCTCGGGACTAGCGGGGGGGCAAGAGACCCAGTACTTC \n",
      "                                          \"#85E275\" \n",
      "         TGTGCCAGCAGCTTTGCCCCAGGGGTAAGCGAGCAGTACTTC \n",
      "                                          \"#D3CDC1\" \n",
      "            TGCAGTGCGTCCCAGGAGAGAGCCTATGGCTACACCTTC \n",
      "                                          \"#7FD6C8\" \n",
      "      TGTGCCAGCAGCCACAGGGGGTGGGTCAATCAGCCCCAGCATTTT \n",
      "                                          \"#BA57D2\" \n"
     ]
    }
   ],
   "source": [
    "message(\"list of samples to track clones: \")\n",
    "    mysamples <- unique(compldfle$samplename)\n",
    "    print(mysamples)\n",
    "    CDR3_fraction <- compldfle[, c(\"samplename\", \"nSeqCDR3\", \n",
    "        \"cloneFraction\", \"cloneCount\")]\n",
    "    CDR3_fraction <- CDR3_fraction[CDR3_fraction$cloneFraction > \n",
    "        0, ]\n",
    "    recurring <- unique(CDR3_fraction$nSeqCDR3[duplicated(CDR3_fraction$nSeqCDR3)])\n",
    "    notrecurring <- CDR3_fraction$nSeqCDR3[!CDR3_fraction$nSeqCDR3 %in% \n",
    "        recurring]\n",
    "    message(\"Total number of recurring clonotypes: \")\n",
    "    print(length(recurring))\n",
    "    if (length(recurring) == 0) {\n",
    "        mydummy_df <- as.data.frame(matrix(ncol = 4, nrow = length(mysamples)))\n",
    "        colnames(mydummy_df) <- colnames(CDR3_fraction)\n",
    "        mydummy_df$samplename <- mysamples\n",
    "        mydummy_df$nSeqCDR3 <- \"XXXXX\"\n",
    "        mydummy_df$cloneFraction <- 0\n",
    "        mydummy_df$cloneCount <- 0\n",
    "        CDR3_fraction <- rbind(CDR3_fraction, mydummy_df)\n",
    "        recurring <- \"XXXXX\"\n",
    "    }\n",
    "    if (length(recurring) > 50) {\n",
    "        recurring_df <- CDR3_fraction[CDR3_fraction$nSeqCDR3 %in% \n",
    "            recurring, ]\n",
    "        recurringcdr3_ordered <- unique(recurring_df$nSeqCDR3[order(recurring_df$cloneCount, \n",
    "            decreasing = TRUE)])\n",
    "        message(\"Total number of recurring clonotypes > 50 \")\n",
    "        message(\"Tracking top 10 recurring clonotypes \")\n",
    "        myColors <- distinctColorPalette(10)\n",
    "        myColors <- c(myColors, rep(\"white\", length(recurring) - \n",
    "            10), rep(\"white\", length(notrecurring)))\n",
    "        names(myColors) <- c(recurringcdr3_ordered, notrecurring)\n",
    "        message(\"these are what we color: \")\n",
    "        print(myColors[myColors != \"white\"])\n",
    "    } else {\n",
    "        myColors <- distinctColorPalette(length(recurring))\n",
    "        myColors <- c(myColors, rep(\"white\", length(notrecurring)))\n",
    "        names(myColors) <- c(recurring, notrecurring)\n",
    "        myColors[names(myColors) == \"XXXXX\"] <- \"white\"\n",
    "        message(\"these are what we color: \")\n",
    "        print(myColors[myColors != \"white\"])\n",
    "    }\n",
    "    for (c in recurring) {\n",
    "        tmp <- CDR3_fraction[CDR3_fraction$nSeqCDR3 == c, ]\n",
    "        nonexsiting <- mysamples[!mysamples %in% tmp$samplename]\n",
    "        if (length(nonexsiting) > 0) {\n",
    "            newentries <- data.frame(samplename = nonexsiting, \n",
    "                nSeqCDR3 = c, cloneFraction = 0, cloneCount = 0)\n",
    "            CDR3_fraction <- rbind(CDR3_fraction, newentries)\n",
    "        }\n",
    "    }\n",
    "    "
   ]
  },
  {
   "cell_type": "code",
   "execution_count": 78,
   "metadata": {},
   "outputs": [
    {
     "data": {
      "text/html": [
       "<table class=\"dataframe\">\n",
       "<caption>A data.frame: 6 × 4</caption>\n",
       "<thead>\n",
       "\t<tr><th></th><th scope=col>samplename</th><th scope=col>nSeqCDR3</th><th scope=col>cloneFraction</th><th scope=col>cloneCount</th></tr>\n",
       "\t<tr><th></th><th scope=col>&lt;chr&gt;</th><th scope=col>&lt;chr&gt;</th><th scope=col>&lt;dbl&gt;</th><th scope=col>&lt;dbl&gt;</th></tr>\n",
       "</thead>\n",
       "<tbody>\n",
       "\t<tr><th scope=row>3</th><td>CHP_375-01-PBMC-DNA</td><td>TGTGCCAGCAGTGAACTAGCGGGGGGGTACAATGAGCAGTTCTTC   </td><td>0.2162162</td><td>8</td></tr>\n",
       "\t<tr><th scope=row>5</th><td>CHP_375-01-PBMC-DNA</td><td>TGTGCCAGTAGTCTTCACGGGGACAGGGGATTTTATGGCTACACCTTC</td><td>0.1351351</td><td>5</td></tr>\n",
       "\t<tr><th scope=row>6</th><td>CHP_375-01-PBMC-DNA</td><td>TGTGCCAGCAGTGACTCTAGCGGGGGGGCCAATGAGCAGTTCTTC   </td><td>0.1351351</td><td>5</td></tr>\n",
       "\t<tr><th scope=row>7</th><td>CHP_375-01-PBMC-DNA</td><td>TGTGCCAGCAGCCACAGGGGGTGGGTCAATCAGCCCCAGCATTTT   </td><td>0.1351351</td><td>5</td></tr>\n",
       "\t<tr><th scope=row>8</th><td>CHP_375-01-PBMC-DNA</td><td>TGTGCCAGCAGCTTAGGGGGGTACCAAGAGACCCAGTACTTC      </td><td>0.1351351</td><td>5</td></tr>\n",
       "\t<tr><th scope=row>9</th><td>CHP_375-01-PBMC-DNA</td><td>TGTGCCAGCAATCCGGGGCCGGGGGTTAACACTGAAGCTTTCTTT   </td><td>0.1081081</td><td>4</td></tr>\n",
       "</tbody>\n",
       "</table>\n"
      ],
      "text/latex": [
       "A data.frame: 6 × 4\n",
       "\\begin{tabular}{r|llll}\n",
       "  & samplename & nSeqCDR3 & cloneFraction & cloneCount\\\\\n",
       "  & <chr> & <chr> & <dbl> & <dbl>\\\\\n",
       "\\hline\n",
       "\t3 & CHP\\_375-01-PBMC-DNA & TGTGCCAGCAGTGAACTAGCGGGGGGGTACAATGAGCAGTTCTTC    & 0.2162162 & 8\\\\\n",
       "\t5 & CHP\\_375-01-PBMC-DNA & TGTGCCAGTAGTCTTCACGGGGACAGGGGATTTTATGGCTACACCTTC & 0.1351351 & 5\\\\\n",
       "\t6 & CHP\\_375-01-PBMC-DNA & TGTGCCAGCAGTGACTCTAGCGGGGGGGCCAATGAGCAGTTCTTC    & 0.1351351 & 5\\\\\n",
       "\t7 & CHP\\_375-01-PBMC-DNA & TGTGCCAGCAGCCACAGGGGGTGGGTCAATCAGCCCCAGCATTTT    & 0.1351351 & 5\\\\\n",
       "\t8 & CHP\\_375-01-PBMC-DNA & TGTGCCAGCAGCTTAGGGGGGTACCAAGAGACCCAGTACTTC       & 0.1351351 & 5\\\\\n",
       "\t9 & CHP\\_375-01-PBMC-DNA & TGTGCCAGCAATCCGGGGCCGGGGGTTAACACTGAAGCTTTCTTT    & 0.1081081 & 4\\\\\n",
       "\\end{tabular}\n"
      ],
      "text/markdown": [
       "\n",
       "A data.frame: 6 × 4\n",
       "\n",
       "| <!--/--> | samplename &lt;chr&gt; | nSeqCDR3 &lt;chr&gt; | cloneFraction &lt;dbl&gt; | cloneCount &lt;dbl&gt; |\n",
       "|---|---|---|---|---|\n",
       "| 3 | CHP_375-01-PBMC-DNA | TGTGCCAGCAGTGAACTAGCGGGGGGGTACAATGAGCAGTTCTTC    | 0.2162162 | 8 |\n",
       "| 5 | CHP_375-01-PBMC-DNA | TGTGCCAGTAGTCTTCACGGGGACAGGGGATTTTATGGCTACACCTTC | 0.1351351 | 5 |\n",
       "| 6 | CHP_375-01-PBMC-DNA | TGTGCCAGCAGTGACTCTAGCGGGGGGGCCAATGAGCAGTTCTTC    | 0.1351351 | 5 |\n",
       "| 7 | CHP_375-01-PBMC-DNA | TGTGCCAGCAGCCACAGGGGGTGGGTCAATCAGCCCCAGCATTTT    | 0.1351351 | 5 |\n",
       "| 8 | CHP_375-01-PBMC-DNA | TGTGCCAGCAGCTTAGGGGGGTACCAAGAGACCCAGTACTTC       | 0.1351351 | 5 |\n",
       "| 9 | CHP_375-01-PBMC-DNA | TGTGCCAGCAATCCGGGGCCGGGGGTTAACACTGAAGCTTTCTTT    | 0.1081081 | 4 |\n",
       "\n"
      ],
      "text/plain": [
       "  samplename          nSeqCDR3                                        \n",
       "3 CHP_375-01-PBMC-DNA TGTGCCAGCAGTGAACTAGCGGGGGGGTACAATGAGCAGTTCTTC   \n",
       "5 CHP_375-01-PBMC-DNA TGTGCCAGTAGTCTTCACGGGGACAGGGGATTTTATGGCTACACCTTC\n",
       "6 CHP_375-01-PBMC-DNA TGTGCCAGCAGTGACTCTAGCGGGGGGGCCAATGAGCAGTTCTTC   \n",
       "7 CHP_375-01-PBMC-DNA TGTGCCAGCAGCCACAGGGGGTGGGTCAATCAGCCCCAGCATTTT   \n",
       "8 CHP_375-01-PBMC-DNA TGTGCCAGCAGCTTAGGGGGGTACCAAGAGACCCAGTACTTC      \n",
       "9 CHP_375-01-PBMC-DNA TGTGCCAGCAATCCGGGGCCGGGGGTTAACACTGAAGCTTTCTTT   \n",
       "  cloneFraction cloneCount\n",
       "3 0.2162162     8         \n",
       "5 0.1351351     5         \n",
       "6 0.1351351     5         \n",
       "7 0.1351351     5         \n",
       "8 0.1351351     5         \n",
       "9 0.1081081     4         "
      ]
     },
     "metadata": {},
     "output_type": "display_data"
    }
   ],
   "source": [
    "head(CDR3_fraction)"
   ]
  },
  {
   "cell_type": "code",
   "execution_count": 79,
   "metadata": {},
   "outputs": [],
   "source": [
    "p <- ggplot(CDR3_fraction, aes(x = samplename, y = cloneCount, \n",
    "        fill = nSeqCDR3, stratum = nSeqCDR3, alluvium = nSeqCDR3, \n",
    "        label = nSeqCDR3))\n",
    "    myp <- p + geom_alluvium(decreasing = FALSE) + geom_stratum(decreasing = FALSE, \n",
    "        stat = \"alluvium\") + scale_fill_manual(breaks = names(myColors[myColors != \n",
    "        \"white\"]), values = myColors) + theme(axis.title.y = element_text(size = 50), \n",
    "        axis.title.x = element_blank(), axis.line = element_line(color = \"black\"), \n",
    "        axis.text = element_text(size = 50), axis.text.x = element_text(angle = 45, \n",
    "            hjust = 1), plot.title = element_text(size = 50, \n",
    "            hjust = 0.5)) + theme(panel.grid.major = element_blank(), \n",
    "        panel.grid.minor = element_blank(), panel.background = element_rect(fill = \"transparent\", \n",
    "            colour = NA), legend.key = element_rect(fill = \"white\", \n",
    "            colour = \"white\"), legend.position = \"none\", plot.margin = unit(c(0.2, \n",
    "            0, 0, 0), \"cm\")) "
   ]
  },
  {
   "cell_type": "code",
   "execution_count": 50,
   "metadata": {},
   "outputs": [
    {
     "name": "stderr",
     "output_type": "stream",
     "text": [
      "list of samples to track clones: \n",
      "\n"
     ]
    },
    {
     "name": "stdout",
     "output_type": "stream",
     "text": [
      "[1] \"CHP_375-01-PBMC-DNA\" \"CHP_375-02_cfDNA\"    \"CHP_375-02-PBMC-DNA\"\n",
      "[4] \"CHP_375-03_cfDNA\"    \"CHP_375-04_cfDNA\"    \"CHP_375-05_cfDNA\"   \n",
      "[7] \"CHP_375-05_PBMC_DNA\"\n"
     ]
    },
    {
     "name": "stderr",
     "output_type": "stream",
     "text": [
      "Total number of recurring clonotypes: \n",
      "\n"
     ]
    },
    {
     "name": "stdout",
     "output_type": "stream",
     "text": [
      "[1] 7\n"
     ]
    },
    {
     "name": "stderr",
     "output_type": "stream",
     "text": [
      "these are what we color: \n",
      "\n"
     ]
    },
    {
     "name": "stdout",
     "output_type": "stream",
     "text": [
      "TGTGCCAGCAGTTACGAGTCTCTTGGGGAACGACTCTATGGCTACACCTTC \n",
      "                                          \"#ACCFD2\" \n",
      "      TGTGCCAGCAGTGAACTAGCGGGGGGGTACAATGAGCAGTTCTTC \n",
      "                                          \"#8BDFAA\" \n",
      "TGTGCCAGCAGTCCCGAGTTTCAGGGCGTCTCTGGAAACACCATATATTTT \n",
      "                                          \"#DBAD78\" \n",
      "   TGTGCCAGCAGCTCGGGACTAGCGGGGGGGCAAGAGACCCAGTACTTC \n",
      "                                          \"#DA6794\" \n",
      "         TGTGCCAGCAGCTTTGCCCCAGGGGTAAGCGAGCAGTACTTC \n",
      "                                          \"#B454D7\" \n",
      "            TGCAGTGCGTCCCAGGAGAGAGCCTATGGCTACACCTTC \n",
      "                                          \"#B39CD3\" \n",
      "      TGTGCCAGCAGCCACAGGGGGTGGGTCAATCAGCCCCAGCATTTT \n",
      "                                          \"#B5E25E\" \n"
     ]
    },
    {
     "data": {
      "text/html": [
       "<strong>pdf:</strong> 2"
      ],
      "text/latex": [
       "\\textbf{pdf:} 2"
      ],
      "text/markdown": [
       "**pdf:** 2"
      ],
      "text/plain": [
       "pdf \n",
       "  2 "
      ]
     },
     "metadata": {},
     "output_type": "display_data"
    }
   ],
   "source": [
    "plot_clonetracks.fx(cdr3df, plotpath, \"TRB\", \"cloneFraction\", 0, \"T-ALL (PBMC)\")"
   ]
  },
  {
   "cell_type": "code",
   "execution_count": 15,
   "metadata": {},
   "outputs": [],
   "source": [
    "cfdnafile <- file_list[grepl(\"375\", file_list)]"
   ]
  },
  {
   "cell_type": "code",
   "execution_count": 16,
   "metadata": {},
   "outputs": [],
   "source": [
    "cfdnafile <- cfdnafile[grepl(\"cfDNA\", cfdnafile)]"
   ]
  },
  {
   "cell_type": "code",
   "execution_count": 17,
   "metadata": {},
   "outputs": [
    {
     "data": {
      "text/html": [
       "<style>\n",
       ".list-inline {list-style: none; margin:0; padding: 0}\n",
       ".list-inline>li {display: inline-block}\n",
       ".list-inline>li:not(:last-child)::after {content: \"\\00b7\"; padding: 0 .5ex}\n",
       "</style>\n",
       "<ol class=list-inline><li>'batch10_cfDNA_13Jul2020/mixcr/clones/CLONES_TRBCHP_375-02_cfDNA.txt'</li><li>'batch11_cfDNA_11Sep2020/mixcr/clones/CLONES_TRBCHP_375-04_cfDNA.txt'</li><li>'batch13_cfDNA_11Sep2020/mixcr/clones/CLONES_TRBCHP_375-03_cfDNA.txt'</li><li>'batch13_cfDNA_11Sep2020/mixcr/clones/CLONES_TRBCHP_375-05_cfDNA.txt'</li></ol>\n"
      ],
      "text/latex": [
       "\\begin{enumerate*}\n",
       "\\item 'batch10\\_cfDNA\\_13Jul2020/mixcr/clones/CLONES\\_TRBCHP\\_375-02\\_cfDNA.txt'\n",
       "\\item 'batch11\\_cfDNA\\_11Sep2020/mixcr/clones/CLONES\\_TRBCHP\\_375-04\\_cfDNA.txt'\n",
       "\\item 'batch13\\_cfDNA\\_11Sep2020/mixcr/clones/CLONES\\_TRBCHP\\_375-03\\_cfDNA.txt'\n",
       "\\item 'batch13\\_cfDNA\\_11Sep2020/mixcr/clones/CLONES\\_TRBCHP\\_375-05\\_cfDNA.txt'\n",
       "\\end{enumerate*}\n"
      ],
      "text/markdown": [
       "1. 'batch10_cfDNA_13Jul2020/mixcr/clones/CLONES_TRBCHP_375-02_cfDNA.txt'\n",
       "2. 'batch11_cfDNA_11Sep2020/mixcr/clones/CLONES_TRBCHP_375-04_cfDNA.txt'\n",
       "3. 'batch13_cfDNA_11Sep2020/mixcr/clones/CLONES_TRBCHP_375-03_cfDNA.txt'\n",
       "4. 'batch13_cfDNA_11Sep2020/mixcr/clones/CLONES_TRBCHP_375-05_cfDNA.txt'\n",
       "\n",
       "\n"
      ],
      "text/plain": [
       "[1] \"batch10_cfDNA_13Jul2020/mixcr/clones/CLONES_TRBCHP_375-02_cfDNA.txt\"\n",
       "[2] \"batch11_cfDNA_11Sep2020/mixcr/clones/CLONES_TRBCHP_375-04_cfDNA.txt\"\n",
       "[3] \"batch13_cfDNA_11Sep2020/mixcr/clones/CLONES_TRBCHP_375-03_cfDNA.txt\"\n",
       "[4] \"batch13_cfDNA_11Sep2020/mixcr/clones/CLONES_TRBCHP_375-05_cfDNA.txt\""
      ]
     },
     "metadata": {},
     "output_type": "display_data"
    }
   ],
   "source": [
    "cfdnafile"
   ]
  },
  {
   "cell_type": "code",
   "execution_count": 18,
   "metadata": {},
   "outputs": [
    {
     "name": "stderr",
     "output_type": "stream",
     "text": [
      "my files:\n",
      "\n"
     ]
    },
    {
     "name": "stdout",
     "output_type": "stream",
     "text": [
      "[1] \"batch10_cfDNA_13Jul2020/mixcr/clones/CLONES_TRBCHP_375-02_cfDNA.txt\"\n",
      "[2] \"batch11_cfDNA_11Sep2020/mixcr/clones/CLONES_TRBCHP_375-04_cfDNA.txt\"\n",
      "[3] \"batch13_cfDNA_11Sep2020/mixcr/clones/CLONES_TRBCHP_375-03_cfDNA.txt\"\n",
      "[4] \"batch13_cfDNA_11Sep2020/mixcr/clones/CLONES_TRBCHP_375-05_cfDNA.txt\"\n"
     ]
    },
    {
     "name": "stderr",
     "output_type": "stream",
     "text": [
      "Total recovered clonotypes:\n",
      "\n"
     ]
    },
    {
     "name": "stdout",
     "output_type": "stream",
     "text": [
      "[1] 138\n"
     ]
    },
    {
     "name": "stderr",
     "output_type": "stream",
     "text": [
      "Total out-of-frame clonotypes:\n",
      "\n"
     ]
    },
    {
     "name": "stdout",
     "output_type": "stream",
     "text": [
      "[1] 33\n"
     ]
    },
    {
     "name": "stderr",
     "output_type": "stream",
     "text": [
      "Total clonotypes with stop codon:\n",
      "\n"
     ]
    },
    {
     "name": "stdout",
     "output_type": "stream",
     "text": [
      "[1] 4\n"
     ]
    },
    {
     "name": "stderr",
     "output_type": "stream",
     "text": [
      "Total productive clonotypes:\n",
      "\n"
     ]
    },
    {
     "name": "stdout",
     "output_type": "stream",
     "text": [
      "[1] 101\n"
     ]
    },
    {
     "name": "stderr",
     "output_type": "stream",
     "text": [
      "Output contains in_frame clonotypes only\n",
      "\n"
     ]
    }
   ],
   "source": [
    "cdr3df <- cdr3_dataframe.fx(h4hpath, \"TRB\", cfdnafile, \"inframe\")"
   ]
  },
  {
   "cell_type": "code",
   "execution_count": 19,
   "metadata": {},
   "outputs": [],
   "source": [
    "cdr3df$samplename <- gsub(\"_cfDNA.txt\", \"\", cdr3df$samplename)"
   ]
  },
  {
   "cell_type": "code",
   "execution_count": 20,
   "metadata": {},
   "outputs": [
    {
     "name": "stderr",
     "output_type": "stream",
     "text": [
      "list of samples to track clones: \n",
      "\n"
     ]
    },
    {
     "name": "stdout",
     "output_type": "stream",
     "text": [
      "[1] \"CHP_375-02\" \"CHP_375-04\" \"CHP_375-03\" \"CHP_375-05\"\n"
     ]
    },
    {
     "name": "stderr",
     "output_type": "stream",
     "text": [
      "Total number of recurring clonotypes: \n",
      "\n"
     ]
    },
    {
     "name": "stdout",
     "output_type": "stream",
     "text": [
      "[1] 0\n"
     ]
    },
    {
     "name": "stderr",
     "output_type": "stream",
     "text": [
      "these are what we color: \n",
      "\n"
     ]
    },
    {
     "name": "stdout",
     "output_type": "stream",
     "text": [
      "named character(0)\n"
     ]
    },
    {
     "data": {
      "text/html": [
       "<strong>pdf:</strong> 2"
      ],
      "text/latex": [
       "\\textbf{pdf:} 2"
      ],
      "text/markdown": [
       "**pdf:** 2"
      ],
      "text/plain": [
       "pdf \n",
       "  2 "
      ]
     },
     "metadata": {},
     "output_type": "display_data"
    }
   ],
   "source": [
    "plot_clonetracks.fx(cdr3df, plotpath, \"TRB\", \"cloneFraction\", 0, \"T-ALL (cfDNA)\")"
   ]
  },
  {
   "cell_type": "code",
   "execution_count": null,
   "metadata": {},
   "outputs": [],
   "source": []
  },
  {
   "cell_type": "markdown",
   "metadata": {},
   "source": [
    "### 387"
   ]
  },
  {
   "cell_type": "code",
   "execution_count": 21,
   "metadata": {},
   "outputs": [],
   "source": [
    "pbmcfile <- file_list[grepl(\"387\", file_list)]"
   ]
  },
  {
   "cell_type": "code",
   "execution_count": 22,
   "metadata": {},
   "outputs": [],
   "source": [
    "pbmcfile <- pbmcfile[grepl(\"PBMC\", pbmcfile)]"
   ]
  },
  {
   "cell_type": "code",
   "execution_count": 23,
   "metadata": {},
   "outputs": [
    {
     "data": {
      "text/html": [
       "<style>\n",
       ".list-inline {list-style: none; margin:0; padding: 0}\n",
       ".list-inline>li {display: inline-block}\n",
       ".list-inline>li:not(:last-child)::after {content: \"\\00b7\"; padding: 0 .5ex}\n",
       "</style>\n",
       "<ol class=list-inline><li>'batch11_23Apr2020/mixcr/clones/CLONES_TRBCHP_387-02_PBMC_DNA.txt'</li><li>'batch11_23Apr2020/mixcr/clones/CLONES_TRBCHP_387-03_PBMC_DNA.txt'</li><li>'batch8_14Jan2020/mixcr/clones/CLONES_TRBCHP_387-01-PBMC-DNA.txt'</li></ol>\n"
      ],
      "text/latex": [
       "\\begin{enumerate*}\n",
       "\\item 'batch11\\_23Apr2020/mixcr/clones/CLONES\\_TRBCHP\\_387-02\\_PBMC\\_DNA.txt'\n",
       "\\item 'batch11\\_23Apr2020/mixcr/clones/CLONES\\_TRBCHP\\_387-03\\_PBMC\\_DNA.txt'\n",
       "\\item 'batch8\\_14Jan2020/mixcr/clones/CLONES\\_TRBCHP\\_387-01-PBMC-DNA.txt'\n",
       "\\end{enumerate*}\n"
      ],
      "text/markdown": [
       "1. 'batch11_23Apr2020/mixcr/clones/CLONES_TRBCHP_387-02_PBMC_DNA.txt'\n",
       "2. 'batch11_23Apr2020/mixcr/clones/CLONES_TRBCHP_387-03_PBMC_DNA.txt'\n",
       "3. 'batch8_14Jan2020/mixcr/clones/CLONES_TRBCHP_387-01-PBMC-DNA.txt'\n",
       "\n",
       "\n"
      ],
      "text/plain": [
       "[1] \"batch11_23Apr2020/mixcr/clones/CLONES_TRBCHP_387-02_PBMC_DNA.txt\"\n",
       "[2] \"batch11_23Apr2020/mixcr/clones/CLONES_TRBCHP_387-03_PBMC_DNA.txt\"\n",
       "[3] \"batch8_14Jan2020/mixcr/clones/CLONES_TRBCHP_387-01-PBMC-DNA.txt\" "
      ]
     },
     "metadata": {},
     "output_type": "display_data"
    }
   ],
   "source": [
    "pbmcfile"
   ]
  },
  {
   "cell_type": "code",
   "execution_count": 24,
   "metadata": {},
   "outputs": [
    {
     "name": "stderr",
     "output_type": "stream",
     "text": [
      "my files:\n",
      "\n"
     ]
    },
    {
     "name": "stdout",
     "output_type": "stream",
     "text": [
      "[1] \"batch11_23Apr2020/mixcr/clones/CLONES_TRBCHP_387-02_PBMC_DNA.txt\"\n",
      "[2] \"batch11_23Apr2020/mixcr/clones/CLONES_TRBCHP_387-03_PBMC_DNA.txt\"\n",
      "[3] \"batch8_14Jan2020/mixcr/clones/CLONES_TRBCHP_387-01-PBMC-DNA.txt\" \n"
     ]
    },
    {
     "name": "stderr",
     "output_type": "stream",
     "text": [
      "Total recovered clonotypes:\n",
      "\n"
     ]
    },
    {
     "name": "stdout",
     "output_type": "stream",
     "text": [
      "[1] 1323\n"
     ]
    },
    {
     "name": "stderr",
     "output_type": "stream",
     "text": [
      "Total out-of-frame clonotypes:\n",
      "\n"
     ]
    },
    {
     "name": "stdout",
     "output_type": "stream",
     "text": [
      "[1] 334\n"
     ]
    },
    {
     "name": "stderr",
     "output_type": "stream",
     "text": [
      "Total clonotypes with stop codon:\n",
      "\n"
     ]
    },
    {
     "name": "stdout",
     "output_type": "stream",
     "text": [
      "[1] 26\n"
     ]
    },
    {
     "name": "stderr",
     "output_type": "stream",
     "text": [
      "Total productive clonotypes:\n",
      "\n"
     ]
    },
    {
     "name": "stdout",
     "output_type": "stream",
     "text": [
      "[1] 963\n"
     ]
    },
    {
     "name": "stderr",
     "output_type": "stream",
     "text": [
      "Output contains in_frame clonotypes only\n",
      "\n"
     ]
    }
   ],
   "source": [
    "cdr3df <- cdr3_dataframe.fx(h4hpath, \"TRB\", pbmcfile, \"inframe\")"
   ]
  },
  {
   "cell_type": "code",
   "execution_count": 25,
   "metadata": {},
   "outputs": [],
   "source": [
    "cdr3df$samplename <- gsub(\"_PBMC_DNA.txt\", \"\", cdr3df$samplename)\n",
    "cdr3df$samplename <- gsub(\"-PBMC-DNA.txt\", \"\", cdr3df$samplename)"
   ]
  },
  {
   "cell_type": "code",
   "execution_count": 26,
   "metadata": {},
   "outputs": [
    {
     "name": "stderr",
     "output_type": "stream",
     "text": [
      "list of samples to track clones: \n",
      "\n"
     ]
    },
    {
     "name": "stdout",
     "output_type": "stream",
     "text": [
      "[1] \"CHP_387-02\" \"CHP_387-03\" \"CHP_387-01\"\n"
     ]
    },
    {
     "name": "stderr",
     "output_type": "stream",
     "text": [
      "Total number of recurring clonotypes: \n",
      "\n"
     ]
    },
    {
     "name": "stdout",
     "output_type": "stream",
     "text": [
      "[1] 11\n"
     ]
    },
    {
     "name": "stderr",
     "output_type": "stream",
     "text": [
      "these are what we color: \n",
      "\n"
     ]
    },
    {
     "name": "stdout",
     "output_type": "stream",
     "text": [
      "            TGTGCCAGCAGCCGCAATACCCAGCCCCAGGTGGGACGGTCCAATGAGCAGTTCTTC \n",
      "                                                            \"#87E3C5\" \n",
      "                           TGTGCCAGCAGGTCTAGCGGTTCCTACAATGAGCAGTTCTTC \n",
      "                                                            \"#D86CD2\" \n",
      "                                 TGTGCCAGCAGCTTAGTAAGGGGTGAAGCTTTCTTT \n",
      "                                                            \"#8588D3\" \n",
      "               TGTGCCAGCAGCTTAATCGTCCGGGACAGAGCCATGAACACTGAAGCTTTCTTT \n",
      "                                                            \"#D78A5C\" \n",
      "                        TGTGCCAGCAGCGCAGGGGGGCAGGTCAATCAGCCCCAGCATTTT \n",
      "                                                            \"#CDD557\" \n",
      "                           TGTGCCAGCAGTTACAGCTCTGGGGCCAACGTCCTGACTTTC \n",
      "                                                            \"#79DF70\" \n",
      "                           TGTGCCAGCAGCCCGACAGGGGTATACGAAAAACTGTTTTTT \n",
      "                                                            \"#D6D6B5\" \n",
      "                           TGCGCCAGCAGGCAGCGCTTAGCCAAAAACATTCAGTACTTC \n",
      "                                                            \"#DA6793\" \n",
      "TGTGCCACCAGTGACCTCACTAGCGGGGGGTCGTCCAGCGGGGGATGGGTTTACAATGAGCAGTTCTTC \n",
      "                                                            \"#A244E1\" \n",
      "                        TGTGCCAGCAGTTCCCTCAGGGGGAGCAATCAGCCCCAGCATTTT \n",
      "                                                            \"#86BED0\" \n",
      "                           TGTGCCAGCAGTGACCTGACAGGGTTTAAGGGCTACACCTTC \n",
      "                                                            \"#D9B8D5\" \n"
     ]
    },
    {
     "data": {
      "text/html": [
       "<strong>pdf:</strong> 2"
      ],
      "text/latex": [
       "\\textbf{pdf:} 2"
      ],
      "text/markdown": [
       "**pdf:** 2"
      ],
      "text/plain": [
       "pdf \n",
       "  2 "
      ]
     },
     "metadata": {},
     "output_type": "display_data"
    }
   ],
   "source": [
    "plot_clonetracks.fx(cdr3df, plotpath, \"TRB\", \"cloneFraction\", 0, \"T-ALL (PBMC)\")"
   ]
  },
  {
   "cell_type": "code",
   "execution_count": 27,
   "metadata": {},
   "outputs": [],
   "source": [
    "cfdnafile <- file_list[grepl(\"387\", file_list)]"
   ]
  },
  {
   "cell_type": "code",
   "execution_count": 28,
   "metadata": {},
   "outputs": [],
   "source": [
    "cfdnafile <- cfdnafile[grepl(\"cfDNA\", cfdnafile)]"
   ]
  },
  {
   "cell_type": "code",
   "execution_count": 29,
   "metadata": {},
   "outputs": [
    {
     "data": {
      "text/html": [
       "<style>\n",
       ".list-inline {list-style: none; margin:0; padding: 0}\n",
       ".list-inline>li {display: inline-block}\n",
       ".list-inline>li:not(:last-child)::after {content: \"\\00b7\"; padding: 0 .5ex}\n",
       "</style>\n",
       "<ol class=list-inline><li>'batch11_cfDNA_11Sep2020/mixcr/clones/CLONES_TRBCHP_387-03_cfDNA.txt'</li><li>'batch7_cfDNA_29Jun2020/mixcr/clones/CLONES_TRBCHP_387-01_cfDNA.txt'</li><li>'remaining_batch_2_cfDNA_15April2021/mixcr/clones/CLONES_TRBCHP_387-02_cfDNA.txt'</li></ol>\n"
      ],
      "text/latex": [
       "\\begin{enumerate*}\n",
       "\\item 'batch11\\_cfDNA\\_11Sep2020/mixcr/clones/CLONES\\_TRBCHP\\_387-03\\_cfDNA.txt'\n",
       "\\item 'batch7\\_cfDNA\\_29Jun2020/mixcr/clones/CLONES\\_TRBCHP\\_387-01\\_cfDNA.txt'\n",
       "\\item 'remaining\\_batch\\_2\\_cfDNA\\_15April2021/mixcr/clones/CLONES\\_TRBCHP\\_387-02\\_cfDNA.txt'\n",
       "\\end{enumerate*}\n"
      ],
      "text/markdown": [
       "1. 'batch11_cfDNA_11Sep2020/mixcr/clones/CLONES_TRBCHP_387-03_cfDNA.txt'\n",
       "2. 'batch7_cfDNA_29Jun2020/mixcr/clones/CLONES_TRBCHP_387-01_cfDNA.txt'\n",
       "3. 'remaining_batch_2_cfDNA_15April2021/mixcr/clones/CLONES_TRBCHP_387-02_cfDNA.txt'\n",
       "\n",
       "\n"
      ],
      "text/plain": [
       "[1] \"batch11_cfDNA_11Sep2020/mixcr/clones/CLONES_TRBCHP_387-03_cfDNA.txt\"            \n",
       "[2] \"batch7_cfDNA_29Jun2020/mixcr/clones/CLONES_TRBCHP_387-01_cfDNA.txt\"             \n",
       "[3] \"remaining_batch_2_cfDNA_15April2021/mixcr/clones/CLONES_TRBCHP_387-02_cfDNA.txt\""
      ]
     },
     "metadata": {},
     "output_type": "display_data"
    }
   ],
   "source": [
    "cfdnafile"
   ]
  },
  {
   "cell_type": "code",
   "execution_count": 30,
   "metadata": {},
   "outputs": [
    {
     "name": "stderr",
     "output_type": "stream",
     "text": [
      "my files:\n",
      "\n"
     ]
    },
    {
     "name": "stdout",
     "output_type": "stream",
     "text": [
      "[1] \"batch11_cfDNA_11Sep2020/mixcr/clones/CLONES_TRBCHP_387-03_cfDNA.txt\"            \n",
      "[2] \"batch7_cfDNA_29Jun2020/mixcr/clones/CLONES_TRBCHP_387-01_cfDNA.txt\"             \n",
      "[3] \"remaining_batch_2_cfDNA_15April2021/mixcr/clones/CLONES_TRBCHP_387-02_cfDNA.txt\"\n"
     ]
    },
    {
     "name": "stderr",
     "output_type": "stream",
     "text": [
      "Total recovered clonotypes:\n",
      "\n"
     ]
    },
    {
     "name": "stdout",
     "output_type": "stream",
     "text": [
      "[1] 26\n"
     ]
    },
    {
     "name": "stderr",
     "output_type": "stream",
     "text": [
      "Total out-of-frame clonotypes:\n",
      "\n"
     ]
    },
    {
     "name": "stdout",
     "output_type": "stream",
     "text": [
      "[1] 6\n"
     ]
    },
    {
     "name": "stderr",
     "output_type": "stream",
     "text": [
      "Total clonotypes with stop codon:\n",
      "\n"
     ]
    },
    {
     "name": "stdout",
     "output_type": "stream",
     "text": [
      "[1] 1\n"
     ]
    },
    {
     "name": "stderr",
     "output_type": "stream",
     "text": [
      "Total productive clonotypes:\n",
      "\n"
     ]
    },
    {
     "name": "stdout",
     "output_type": "stream",
     "text": [
      "[1] 19\n"
     ]
    },
    {
     "name": "stderr",
     "output_type": "stream",
     "text": [
      "Output contains in_frame clonotypes only\n",
      "\n"
     ]
    }
   ],
   "source": [
    "cdr3df <- cdr3_dataframe.fx(h4hpath, \"TRB\", cfdnafile, \"inframe\")"
   ]
  },
  {
   "cell_type": "code",
   "execution_count": 31,
   "metadata": {},
   "outputs": [],
   "source": [
    "cdr3df$samplename <- gsub(\"_cfDNA.txt\", \"\", cdr3df$samplename)"
   ]
  },
  {
   "cell_type": "code",
   "execution_count": 32,
   "metadata": {},
   "outputs": [
    {
     "name": "stderr",
     "output_type": "stream",
     "text": [
      "list of samples to track clones: \n",
      "\n"
     ]
    },
    {
     "name": "stdout",
     "output_type": "stream",
     "text": [
      "[1] \"CHP_387-03\" \"CHP_387-01\" \"CHP_387-02\"\n"
     ]
    },
    {
     "name": "stderr",
     "output_type": "stream",
     "text": [
      "Total number of recurring clonotypes: \n",
      "\n"
     ]
    },
    {
     "name": "stdout",
     "output_type": "stream",
     "text": [
      "[1] 0\n"
     ]
    },
    {
     "name": "stderr",
     "output_type": "stream",
     "text": [
      "these are what we color: \n",
      "\n"
     ]
    },
    {
     "name": "stdout",
     "output_type": "stream",
     "text": [
      "named character(0)\n"
     ]
    },
    {
     "data": {
      "text/html": [
       "<strong>pdf:</strong> 2"
      ],
      "text/latex": [
       "\\textbf{pdf:} 2"
      ],
      "text/markdown": [
       "**pdf:** 2"
      ],
      "text/plain": [
       "pdf \n",
       "  2 "
      ]
     },
     "metadata": {},
     "output_type": "display_data"
    }
   ],
   "source": [
    "plot_clonetracks.fx(cdr3df, plotpath, \"TRB\", \"cloneFraction\", 0, \"T-ALL (cfDNA)\")"
   ]
  },
  {
   "cell_type": "markdown",
   "metadata": {},
   "source": [
    "### 395"
   ]
  },
  {
   "cell_type": "code",
   "execution_count": 33,
   "metadata": {},
   "outputs": [],
   "source": [
    "cfdnafile <- file_list[grepl(\"395\", file_list)]"
   ]
  },
  {
   "cell_type": "code",
   "execution_count": 34,
   "metadata": {},
   "outputs": [
    {
     "data": {
      "text/html": [
       "<style>\n",
       ".list-inline {list-style: none; margin:0; padding: 0}\n",
       ".list-inline>li {display: inline-block}\n",
       ".list-inline>li:not(:last-child)::after {content: \"\\00b7\"; padding: 0 .5ex}\n",
       "</style>\n",
       "<ol class=list-inline><li>'batch7_cfDNA_29Jun2020/mixcr/clones/CLONES_TRBCHP_395-01_cfDNA.txt'</li><li>'priority_pool2/mixcr/clones/CLONES_TRBCHP_395-02_cfDNA.txt'</li></ol>\n"
      ],
      "text/latex": [
       "\\begin{enumerate*}\n",
       "\\item 'batch7\\_cfDNA\\_29Jun2020/mixcr/clones/CLONES\\_TRBCHP\\_395-01\\_cfDNA.txt'\n",
       "\\item 'priority\\_pool2/mixcr/clones/CLONES\\_TRBCHP\\_395-02\\_cfDNA.txt'\n",
       "\\end{enumerate*}\n"
      ],
      "text/markdown": [
       "1. 'batch7_cfDNA_29Jun2020/mixcr/clones/CLONES_TRBCHP_395-01_cfDNA.txt'\n",
       "2. 'priority_pool2/mixcr/clones/CLONES_TRBCHP_395-02_cfDNA.txt'\n",
       "\n",
       "\n"
      ],
      "text/plain": [
       "[1] \"batch7_cfDNA_29Jun2020/mixcr/clones/CLONES_TRBCHP_395-01_cfDNA.txt\"\n",
       "[2] \"priority_pool2/mixcr/clones/CLONES_TRBCHP_395-02_cfDNA.txt\"        "
      ]
     },
     "metadata": {},
     "output_type": "display_data"
    }
   ],
   "source": [
    "cfdnafile"
   ]
  },
  {
   "cell_type": "code",
   "execution_count": 40,
   "metadata": {},
   "outputs": [
    {
     "ename": "ERROR",
     "evalue": "Error in cdr3_dataframe.fx(h4hpath, \"TRB\", cfdnafile, \"inframe\"): object 'cfdnafile' not found\n",
     "output_type": "error",
     "traceback": [
      "Error in cdr3_dataframe.fx(h4hpath, \"TRB\", cfdnafile, \"inframe\"): object 'cfdnafile' not found\nTraceback:\n",
      "1. cdr3_dataframe.fx(h4hpath, \"TRB\", cfdnafile, \"inframe\")"
     ]
    }
   ],
   "source": [
    "cdr3df <- cdr3_dataframe.fx(h4hpath, \"TRB\", cfdnafile, \"inframe\")"
   ]
  },
  {
   "cell_type": "code",
   "execution_count": 36,
   "metadata": {},
   "outputs": [],
   "source": [
    "cdr3df$samplename <- gsub(\"_cfDNA.txt\", \"\", cdr3df$samplename)"
   ]
  },
  {
   "cell_type": "code",
   "execution_count": 37,
   "metadata": {},
   "outputs": [
    {
     "name": "stderr",
     "output_type": "stream",
     "text": [
      "list of samples to track clones: \n",
      "\n"
     ]
    },
    {
     "name": "stdout",
     "output_type": "stream",
     "text": [
      "[1] \"CHP_395-01\" \"CHP_395-02\"\n"
     ]
    },
    {
     "name": "stderr",
     "output_type": "stream",
     "text": [
      "Total number of recurring clonotypes: \n",
      "\n"
     ]
    },
    {
     "name": "stdout",
     "output_type": "stream",
     "text": [
      "[1] 1\n"
     ]
    },
    {
     "name": "stderr",
     "output_type": "stream",
     "text": [
      "these are what we color: \n",
      "\n"
     ]
    },
    {
     "name": "stdout",
     "output_type": "stream",
     "text": [
      "TGCAGTGCTAGAGACAGGGGCCTGAACACTGAAGCTTTCTTT \n",
      "                                 \"#BDB3B1\" \n"
     ]
    },
    {
     "data": {
      "text/html": [
       "<strong>pdf:</strong> 2"
      ],
      "text/latex": [
       "\\textbf{pdf:} 2"
      ],
      "text/markdown": [
       "**pdf:** 2"
      ],
      "text/plain": [
       "pdf \n",
       "  2 "
      ]
     },
     "metadata": {},
     "output_type": "display_data"
    }
   ],
   "source": [
    "plot_clonetracks.fx(cdr3df, plotpath, \"TRB\", \"cloneFraction\", 0, \"T-ALL (cfDNA)\")"
   ]
  },
  {
   "cell_type": "markdown",
   "metadata": {},
   "source": [
    "# color clones, track GLIPH"
   ]
  },
  {
   "cell_type": "code",
   "execution_count": 89,
   "metadata": {},
   "outputs": [],
   "source": [
    "gliph <- read.table(file = \"~/Downloads/demo_cluster.txt\", sep = \",\", header = T)"
   ]
  },
  {
   "cell_type": "code",
   "execution_count": 123,
   "metadata": {},
   "outputs": [
    {
     "data": {
      "text/html": [
       "<table class=\"dataframe\">\n",
       "<caption>A data.frame: 6 × 20</caption>\n",
       "<thead>\n",
       "\t<tr><th></th><th scope=col>index</th><th scope=col>pattern</th><th scope=col>Fisher_score</th><th scope=col>number_subject</th><th scope=col>number_unique_cdr3</th><th scope=col>final_score</th><th scope=col>hla_score</th><th scope=col>vb_score</th><th scope=col>expansion_score</th><th scope=col>length_score</th><th scope=col>cluster_size_score</th><th scope=col>type</th><th scope=col>ulTcRb</th><th scope=col>TcRb</th><th scope=col>V</th><th scope=col>J</th><th scope=col>TcRa</th><th scope=col>Sample</th><th scope=col>Freq</th><th scope=col>HLA.A</th></tr>\n",
       "\t<tr><th></th><th scope=col>&lt;int&gt;</th><th scope=col>&lt;chr&gt;</th><th scope=col>&lt;dbl&gt;</th><th scope=col>&lt;int&gt;</th><th scope=col>&lt;int&gt;</th><th scope=col>&lt;dbl&gt;</th><th scope=col>&lt;dbl&gt;</th><th scope=col>&lt;dbl&gt;</th><th scope=col>&lt;dbl&gt;</th><th scope=col>&lt;dbl&gt;</th><th scope=col>&lt;dbl&gt;</th><th scope=col>&lt;chr&gt;</th><th scope=col>&lt;chr&gt;</th><th scope=col>&lt;chr&gt;</th><th scope=col>&lt;chr&gt;</th><th scope=col>&lt;chr&gt;</th><th scope=col>&lt;chr&gt;</th><th scope=col>&lt;chr&gt;</th><th scope=col>&lt;dbl&gt;</th><th scope=col>&lt;chr&gt;</th></tr>\n",
       "</thead>\n",
       "<tbody>\n",
       "\t<tr><th scope=row>1</th><td>1</td><td>SVAL</td><td>4.4e-19</td><td>10</td><td>16</td><td>5.7e-13</td><td>4e-04</td><td>0.001</td><td>0.45</td><td>0.037</td><td>8.6e-05</td><td>motif-SVAL</td><td>CASSVaLASGANVLTF</td><td>CASSVALASGANVLTF</td><td>TRBV9</td><td>TRBJ2-6</td><td>CAGAGGGGFKTIF </td><td>02/0152:MegaIL2</td><td>2</td><td>-</td></tr>\n",
       "\t<tr><th scope=row>2</th><td>1</td><td>SVAL</td><td>4.4e-19</td><td>10</td><td>16</td><td>5.7e-13</td><td>4e-04</td><td>0.001</td><td>0.45</td><td>0.037</td><td>8.6e-05</td><td>motif-SVAL</td><td>CASSValsNYGYTF  </td><td>CASSVALSNYGYTF  </td><td>TRBV9</td><td>TRBJ1-2</td><td>CAVVASGGSYIPTF</td><td>01/1013:MtbLys </td><td>2</td><td>-</td></tr>\n",
       "\t<tr><th scope=row>3</th><td>1</td><td>SVAL</td><td>4.4e-19</td><td>10</td><td>16</td><td>5.7e-13</td><td>4e-04</td><td>0.001</td><td>0.45</td><td>0.037</td><td>8.6e-05</td><td>motif-SVAL</td><td>CASSValyGQsvTF  </td><td>CASSVALYGQSVTF  </td><td>TRBV9</td><td>TRBJ1-2</td><td>CAAFSGTYKYIF  </td><td>09/0328:MtbLys </td><td>1</td><td>-</td></tr>\n",
       "\t<tr><th scope=row>4</th><td>1</td><td>SVAL</td><td>4.4e-19</td><td>10</td><td>16</td><td>5.7e-13</td><td>4e-04</td><td>0.001</td><td>0.45</td><td>0.037</td><td>8.6e-05</td><td>motif-SVAL</td><td>CASSValLAGTQYF  </td><td>CASSVALLAGTQYF  </td><td>TRBV9</td><td>TRBJ2-3</td><td>CAGPGGTSYGKLTF</td><td>09/0671:MtbLys </td><td>1</td><td>-</td></tr>\n",
       "\t<tr><th scope=row>5</th><td>1</td><td>SVAL</td><td>4.4e-19</td><td>10</td><td>16</td><td>5.7e-13</td><td>4e-04</td><td>0.001</td><td>0.45</td><td>0.037</td><td>8.6e-05</td><td>motif-SVAL</td><td>CASSValgAGGGYTF </td><td>CASSVALGAGGGYTF </td><td>TRBV9</td><td>TRBJ1-2</td><td>CAGPSGGSYIPTF </td><td>09/0328:MtbLys </td><td>1</td><td>-</td></tr>\n",
       "\t<tr><th scope=row>6</th><td>1</td><td>SVAL</td><td>4.4e-19</td><td>10</td><td>16</td><td>5.7e-13</td><td>4e-04</td><td>0.001</td><td>0.45</td><td>0.037</td><td>8.6e-05</td><td>motif-SVAL</td><td>CASSVallgETQYF  </td><td>CASSVALLGETQYF  </td><td>TRBV9</td><td>TRBJ2-5</td><td>CAGAPTGNQFYF  </td><td>09/0772:MtbLys </td><td>1</td><td>-</td></tr>\n",
       "</tbody>\n",
       "</table>\n"
      ],
      "text/latex": [
       "A data.frame: 6 × 20\n",
       "\\begin{tabular}{r|llllllllllllllllllll}\n",
       "  & index & pattern & Fisher\\_score & number\\_subject & number\\_unique\\_cdr3 & final\\_score & hla\\_score & vb\\_score & expansion\\_score & length\\_score & cluster\\_size\\_score & type & ulTcRb & TcRb & V & J & TcRa & Sample & Freq & HLA.A\\\\\n",
       "  & <int> & <chr> & <dbl> & <int> & <int> & <dbl> & <dbl> & <dbl> & <dbl> & <dbl> & <dbl> & <chr> & <chr> & <chr> & <chr> & <chr> & <chr> & <chr> & <dbl> & <chr>\\\\\n",
       "\\hline\n",
       "\t1 & 1 & SVAL & 4.4e-19 & 10 & 16 & 5.7e-13 & 4e-04 & 0.001 & 0.45 & 0.037 & 8.6e-05 & motif-SVAL & CASSVaLASGANVLTF & CASSVALASGANVLTF & TRBV9 & TRBJ2-6 & CAGAGGGGFKTIF  & 02/0152:MegaIL2 & 2 & -\\\\\n",
       "\t2 & 1 & SVAL & 4.4e-19 & 10 & 16 & 5.7e-13 & 4e-04 & 0.001 & 0.45 & 0.037 & 8.6e-05 & motif-SVAL & CASSValsNYGYTF   & CASSVALSNYGYTF   & TRBV9 & TRBJ1-2 & CAVVASGGSYIPTF & 01/1013:MtbLys  & 2 & -\\\\\n",
       "\t3 & 1 & SVAL & 4.4e-19 & 10 & 16 & 5.7e-13 & 4e-04 & 0.001 & 0.45 & 0.037 & 8.6e-05 & motif-SVAL & CASSValyGQsvTF   & CASSVALYGQSVTF   & TRBV9 & TRBJ1-2 & CAAFSGTYKYIF   & 09/0328:MtbLys  & 1 & -\\\\\n",
       "\t4 & 1 & SVAL & 4.4e-19 & 10 & 16 & 5.7e-13 & 4e-04 & 0.001 & 0.45 & 0.037 & 8.6e-05 & motif-SVAL & CASSValLAGTQYF   & CASSVALLAGTQYF   & TRBV9 & TRBJ2-3 & CAGPGGTSYGKLTF & 09/0671:MtbLys  & 1 & -\\\\\n",
       "\t5 & 1 & SVAL & 4.4e-19 & 10 & 16 & 5.7e-13 & 4e-04 & 0.001 & 0.45 & 0.037 & 8.6e-05 & motif-SVAL & CASSValgAGGGYTF  & CASSVALGAGGGYTF  & TRBV9 & TRBJ1-2 & CAGPSGGSYIPTF  & 09/0328:MtbLys  & 1 & -\\\\\n",
       "\t6 & 1 & SVAL & 4.4e-19 & 10 & 16 & 5.7e-13 & 4e-04 & 0.001 & 0.45 & 0.037 & 8.6e-05 & motif-SVAL & CASSVallgETQYF   & CASSVALLGETQYF   & TRBV9 & TRBJ2-5 & CAGAPTGNQFYF   & 09/0772:MtbLys  & 1 & -\\\\\n",
       "\\end{tabular}\n"
      ],
      "text/markdown": [
       "\n",
       "A data.frame: 6 × 20\n",
       "\n",
       "| <!--/--> | index &lt;int&gt; | pattern &lt;chr&gt; | Fisher_score &lt;dbl&gt; | number_subject &lt;int&gt; | number_unique_cdr3 &lt;int&gt; | final_score &lt;dbl&gt; | hla_score &lt;dbl&gt; | vb_score &lt;dbl&gt; | expansion_score &lt;dbl&gt; | length_score &lt;dbl&gt; | cluster_size_score &lt;dbl&gt; | type &lt;chr&gt; | ulTcRb &lt;chr&gt; | TcRb &lt;chr&gt; | V &lt;chr&gt; | J &lt;chr&gt; | TcRa &lt;chr&gt; | Sample &lt;chr&gt; | Freq &lt;dbl&gt; | HLA.A &lt;chr&gt; |\n",
       "|---|---|---|---|---|---|---|---|---|---|---|---|---|---|---|---|---|---|---|---|---|\n",
       "| 1 | 1 | SVAL | 4.4e-19 | 10 | 16 | 5.7e-13 | 4e-04 | 0.001 | 0.45 | 0.037 | 8.6e-05 | motif-SVAL | CASSVaLASGANVLTF | CASSVALASGANVLTF | TRBV9 | TRBJ2-6 | CAGAGGGGFKTIF  | 02/0152:MegaIL2 | 2 | - |\n",
       "| 2 | 1 | SVAL | 4.4e-19 | 10 | 16 | 5.7e-13 | 4e-04 | 0.001 | 0.45 | 0.037 | 8.6e-05 | motif-SVAL | CASSValsNYGYTF   | CASSVALSNYGYTF   | TRBV9 | TRBJ1-2 | CAVVASGGSYIPTF | 01/1013:MtbLys  | 2 | - |\n",
       "| 3 | 1 | SVAL | 4.4e-19 | 10 | 16 | 5.7e-13 | 4e-04 | 0.001 | 0.45 | 0.037 | 8.6e-05 | motif-SVAL | CASSValyGQsvTF   | CASSVALYGQSVTF   | TRBV9 | TRBJ1-2 | CAAFSGTYKYIF   | 09/0328:MtbLys  | 1 | - |\n",
       "| 4 | 1 | SVAL | 4.4e-19 | 10 | 16 | 5.7e-13 | 4e-04 | 0.001 | 0.45 | 0.037 | 8.6e-05 | motif-SVAL | CASSValLAGTQYF   | CASSVALLAGTQYF   | TRBV9 | TRBJ2-3 | CAGPGGTSYGKLTF | 09/0671:MtbLys  | 1 | - |\n",
       "| 5 | 1 | SVAL | 4.4e-19 | 10 | 16 | 5.7e-13 | 4e-04 | 0.001 | 0.45 | 0.037 | 8.6e-05 | motif-SVAL | CASSValgAGGGYTF  | CASSVALGAGGGYTF  | TRBV9 | TRBJ1-2 | CAGPSGGSYIPTF  | 09/0328:MtbLys  | 1 | - |\n",
       "| 6 | 1 | SVAL | 4.4e-19 | 10 | 16 | 5.7e-13 | 4e-04 | 0.001 | 0.45 | 0.037 | 8.6e-05 | motif-SVAL | CASSVallgETQYF   | CASSVALLGETQYF   | TRBV9 | TRBJ2-5 | CAGAPTGNQFYF   | 09/0772:MtbLys  | 1 | - |\n",
       "\n"
      ],
      "text/plain": [
       "  index pattern Fisher_score number_subject number_unique_cdr3 final_score\n",
       "1 1     SVAL    4.4e-19      10             16                 5.7e-13    \n",
       "2 1     SVAL    4.4e-19      10             16                 5.7e-13    \n",
       "3 1     SVAL    4.4e-19      10             16                 5.7e-13    \n",
       "4 1     SVAL    4.4e-19      10             16                 5.7e-13    \n",
       "5 1     SVAL    4.4e-19      10             16                 5.7e-13    \n",
       "6 1     SVAL    4.4e-19      10             16                 5.7e-13    \n",
       "  hla_score vb_score expansion_score length_score cluster_size_score type      \n",
       "1 4e-04     0.001    0.45            0.037        8.6e-05            motif-SVAL\n",
       "2 4e-04     0.001    0.45            0.037        8.6e-05            motif-SVAL\n",
       "3 4e-04     0.001    0.45            0.037        8.6e-05            motif-SVAL\n",
       "4 4e-04     0.001    0.45            0.037        8.6e-05            motif-SVAL\n",
       "5 4e-04     0.001    0.45            0.037        8.6e-05            motif-SVAL\n",
       "6 4e-04     0.001    0.45            0.037        8.6e-05            motif-SVAL\n",
       "  ulTcRb           TcRb             V     J       TcRa          \n",
       "1 CASSVaLASGANVLTF CASSVALASGANVLTF TRBV9 TRBJ2-6 CAGAGGGGFKTIF \n",
       "2 CASSValsNYGYTF   CASSVALSNYGYTF   TRBV9 TRBJ1-2 CAVVASGGSYIPTF\n",
       "3 CASSValyGQsvTF   CASSVALYGQSVTF   TRBV9 TRBJ1-2 CAAFSGTYKYIF  \n",
       "4 CASSValLAGTQYF   CASSVALLAGTQYF   TRBV9 TRBJ2-3 CAGPGGTSYGKLTF\n",
       "5 CASSValgAGGGYTF  CASSVALGAGGGYTF  TRBV9 TRBJ1-2 CAGPSGGSYIPTF \n",
       "6 CASSVallgETQYF   CASSVALLGETQYF   TRBV9 TRBJ2-5 CAGAPTGNQFYF  \n",
       "  Sample          Freq HLA.A\n",
       "1 02/0152:MegaIL2 2    -    \n",
       "2 01/1013:MtbLys  2    -    \n",
       "3 09/0328:MtbLys  1    -    \n",
       "4 09/0671:MtbLys  1    -    \n",
       "5 09/0328:MtbLys  1    -    \n",
       "6 09/0772:MtbLys  1    -    "
      ]
     },
     "metadata": {},
     "output_type": "display_data"
    }
   ],
   "source": [
    "head(gliph[,1:20])"
   ]
  },
  {
   "cell_type": "code",
   "execution_count": 91,
   "metadata": {},
   "outputs": [],
   "source": [
    "gliphdf <- gliph[1:50,]"
   ]
  },
  {
   "cell_type": "code",
   "execution_count": 92,
   "metadata": {},
   "outputs": [],
   "source": [
    "mysamples <- unique(gliphdf$Sample)"
   ]
  },
  {
   "cell_type": "code",
   "execution_count": 93,
   "metadata": {},
   "outputs": [
    {
     "data": {
      "text/html": [
       "24"
      ],
      "text/latex": [
       "24"
      ],
      "text/markdown": [
       "24"
      ],
      "text/plain": [
       "[1] 24"
      ]
     },
     "metadata": {},
     "output_type": "display_data"
    }
   ],
   "source": [
    "length(mysamples)"
   ]
  },
  {
   "cell_type": "code",
   "execution_count": 95,
   "metadata": {},
   "outputs": [
    {
     "name": "stderr",
     "output_type": "stream",
     "text": [
      "\n",
      "Attaching package: ‘dplyr’\n",
      "\n",
      "\n",
      "The following objects are masked from ‘package:stats’:\n",
      "\n",
      "    filter, lag\n",
      "\n",
      "\n",
      "The following objects are masked from ‘package:base’:\n",
      "\n",
      "    intersect, setdiff, setequal, union\n",
      "\n",
      "\n"
     ]
    }
   ],
   "source": [
    "library(dplyr)"
   ]
  },
  {
   "cell_type": "code",
   "execution_count": 104,
   "metadata": {},
   "outputs": [],
   "source": [
    "user <- c(\"User1\", \"User2\", \"User1\", \"User3\",\"User4\", \n",
    "          \"User5\", \"User3\", \"User6\", \"User7\", \"User8\", \"User5\")\n",
    "place <- c(\"PlaceA\", \"PlaceA\", \"PlaceB\", \"PlaceB\", \"PlaceC\", \n",
    "           \"PlaceC\", \"PlaceC\", \"PlaceC\", \"PlaceD\", \"PlaceD\", \"PlaceD\")\n",
    "users_df <- data.frame(user, place)"
   ]
  },
  {
   "cell_type": "code",
   "execution_count": 105,
   "metadata": {},
   "outputs": [
    {
     "data": {
      "text/html": [
       "<table class=\"dataframe\">\n",
       "<caption>A data.frame: 11 × 2</caption>\n",
       "<thead>\n",
       "\t<tr><th scope=col>user</th><th scope=col>place</th></tr>\n",
       "\t<tr><th scope=col>&lt;chr&gt;</th><th scope=col>&lt;chr&gt;</th></tr>\n",
       "</thead>\n",
       "<tbody>\n",
       "\t<tr><td>User1</td><td>PlaceA</td></tr>\n",
       "\t<tr><td>User2</td><td>PlaceA</td></tr>\n",
       "\t<tr><td>User1</td><td>PlaceB</td></tr>\n",
       "\t<tr><td>User3</td><td>PlaceB</td></tr>\n",
       "\t<tr><td>User4</td><td>PlaceC</td></tr>\n",
       "\t<tr><td>User5</td><td>PlaceC</td></tr>\n",
       "\t<tr><td>User3</td><td>PlaceC</td></tr>\n",
       "\t<tr><td>User6</td><td>PlaceC</td></tr>\n",
       "\t<tr><td>User7</td><td>PlaceD</td></tr>\n",
       "\t<tr><td>User8</td><td>PlaceD</td></tr>\n",
       "\t<tr><td>User5</td><td>PlaceD</td></tr>\n",
       "</tbody>\n",
       "</table>\n"
      ],
      "text/latex": [
       "A data.frame: 11 × 2\n",
       "\\begin{tabular}{ll}\n",
       " user & place\\\\\n",
       " <chr> & <chr>\\\\\n",
       "\\hline\n",
       "\t User1 & PlaceA\\\\\n",
       "\t User2 & PlaceA\\\\\n",
       "\t User1 & PlaceB\\\\\n",
       "\t User3 & PlaceB\\\\\n",
       "\t User4 & PlaceC\\\\\n",
       "\t User5 & PlaceC\\\\\n",
       "\t User3 & PlaceC\\\\\n",
       "\t User6 & PlaceC\\\\\n",
       "\t User7 & PlaceD\\\\\n",
       "\t User8 & PlaceD\\\\\n",
       "\t User5 & PlaceD\\\\\n",
       "\\end{tabular}\n"
      ],
      "text/markdown": [
       "\n",
       "A data.frame: 11 × 2\n",
       "\n",
       "| user &lt;chr&gt; | place &lt;chr&gt; |\n",
       "|---|---|\n",
       "| User1 | PlaceA |\n",
       "| User2 | PlaceA |\n",
       "| User1 | PlaceB |\n",
       "| User3 | PlaceB |\n",
       "| User4 | PlaceC |\n",
       "| User5 | PlaceC |\n",
       "| User3 | PlaceC |\n",
       "| User6 | PlaceC |\n",
       "| User7 | PlaceD |\n",
       "| User8 | PlaceD |\n",
       "| User5 | PlaceD |\n",
       "\n"
      ],
      "text/plain": [
       "   user  place \n",
       "1  User1 PlaceA\n",
       "2  User2 PlaceA\n",
       "3  User1 PlaceB\n",
       "4  User3 PlaceB\n",
       "5  User4 PlaceC\n",
       "6  User5 PlaceC\n",
       "7  User3 PlaceC\n",
       "8  User6 PlaceC\n",
       "9  User7 PlaceD\n",
       "10 User8 PlaceD\n",
       "11 User5 PlaceD"
      ]
     },
     "metadata": {},
     "output_type": "display_data"
    }
   ],
   "source": [
    "users_df"
   ]
  },
  {
   "cell_type": "code",
   "execution_count": 110,
   "metadata": {},
   "outputs": [
    {
     "data": {
      "text/html": [
       "<table class=\"dataframe\">\n",
       "<caption>A grouped_df: 6 × 2</caption>\n",
       "<thead>\n",
       "\t<tr><th scope=col>user</th><th scope=col>place</th></tr>\n",
       "\t<tr><th scope=col>&lt;chr&gt;</th><th scope=col>&lt;chr&gt;</th></tr>\n",
       "</thead>\n",
       "<tbody>\n",
       "\t<tr><td>User1</td><td>PlaceA</td></tr>\n",
       "\t<tr><td>User1</td><td>PlaceB</td></tr>\n",
       "\t<tr><td>User3</td><td>PlaceB</td></tr>\n",
       "\t<tr><td>User5</td><td>PlaceC</td></tr>\n",
       "\t<tr><td>User3</td><td>PlaceC</td></tr>\n",
       "\t<tr><td>User5</td><td>PlaceD</td></tr>\n",
       "</tbody>\n",
       "</table>\n"
      ],
      "text/latex": [
       "A grouped\\_df: 6 × 2\n",
       "\\begin{tabular}{ll}\n",
       " user & place\\\\\n",
       " <chr> & <chr>\\\\\n",
       "\\hline\n",
       "\t User1 & PlaceA\\\\\n",
       "\t User1 & PlaceB\\\\\n",
       "\t User3 & PlaceB\\\\\n",
       "\t User5 & PlaceC\\\\\n",
       "\t User3 & PlaceC\\\\\n",
       "\t User5 & PlaceD\\\\\n",
       "\\end{tabular}\n"
      ],
      "text/markdown": [
       "\n",
       "A grouped_df: 6 × 2\n",
       "\n",
       "| user &lt;chr&gt; | place &lt;chr&gt; |\n",
       "|---|---|\n",
       "| User1 | PlaceA |\n",
       "| User1 | PlaceB |\n",
       "| User3 | PlaceB |\n",
       "| User5 | PlaceC |\n",
       "| User3 | PlaceC |\n",
       "| User5 | PlaceD |\n",
       "\n"
      ],
      "text/plain": [
       "  user  place \n",
       "1 User1 PlaceA\n",
       "2 User1 PlaceB\n",
       "3 User3 PlaceB\n",
       "4 User5 PlaceC\n",
       "5 User3 PlaceC\n",
       "6 User5 PlaceD"
      ]
     },
     "metadata": {},
     "output_type": "display_data"
    }
   ],
   "source": [
    "users_df %>% \n",
    "  group_by(user) %>%\n",
    "  filter(n() > 1) %>% \n",
    "  group_by(user, place) %>% \n",
    "  filter(n() == 1)"
   ]
  },
  {
   "cell_type": "code",
   "execution_count": 119,
   "metadata": {},
   "outputs": [],
   "source": [
    "#get cdr3 occuring in more than one sample\n",
    "tmp <- gliphdf %>% \n",
    "group_by(TcRb) %>%\n",
    "filter(n() > 1) %>% \n",
    "group_by(TcRb, Sample) %>% \n",
    "filter(n() == 1)"
   ]
  },
  {
   "cell_type": "code",
   "execution_count": 122,
   "metadata": {},
   "outputs": [
    {
     "data": {
      "text/html": [
       "<style>\n",
       ".list-inline {list-style: none; margin:0; padding: 0}\n",
       ".list-inline>li {display: inline-block}\n",
       ".list-inline>li:not(:last-child)::after {content: \"\\00b7\"; padding: 0 .5ex}\n",
       "</style>\n",
       "<ol class=list-inline><li>'09/0772:MtbLys'</li><li>'09/0531:MtbLys'</li></ol>\n"
      ],
      "text/latex": [
       "\\begin{enumerate*}\n",
       "\\item '09/0772:MtbLys'\n",
       "\\item '09/0531:MtbLys'\n",
       "\\end{enumerate*}\n"
      ],
      "text/markdown": [
       "1. '09/0772:MtbLys'\n",
       "2. '09/0531:MtbLys'\n",
       "\n",
       "\n"
      ],
      "text/plain": [
       "[1] \"09/0772:MtbLys\" \"09/0531:MtbLys\""
      ]
     },
     "metadata": {},
     "output_type": "display_data"
    }
   ],
   "source": [
    "gliphdf[ gliphdf$TcRb == \"CASSVALLGETQYF\",\"Sample\"]"
   ]
  },
  {
   "cell_type": "code",
   "execution_count": 124,
   "metadata": {
    "scrolled": true
   },
   "outputs": [
    {
     "data": {
      "text/html": [
       "<table class=\"dataframe\">\n",
       "<caption>A grouped_df: 4 × 20</caption>\n",
       "<thead>\n",
       "\t<tr><th scope=col>index</th><th scope=col>pattern</th><th scope=col>Fisher_score</th><th scope=col>number_subject</th><th scope=col>number_unique_cdr3</th><th scope=col>final_score</th><th scope=col>hla_score</th><th scope=col>vb_score</th><th scope=col>expansion_score</th><th scope=col>length_score</th><th scope=col>cluster_size_score</th><th scope=col>type</th><th scope=col>ulTcRb</th><th scope=col>TcRb</th><th scope=col>V</th><th scope=col>J</th><th scope=col>TcRa</th><th scope=col>Sample</th><th scope=col>Freq</th><th scope=col>HLA.A</th></tr>\n",
       "\t<tr><th scope=col>&lt;int&gt;</th><th scope=col>&lt;chr&gt;</th><th scope=col>&lt;dbl&gt;</th><th scope=col>&lt;int&gt;</th><th scope=col>&lt;int&gt;</th><th scope=col>&lt;dbl&gt;</th><th scope=col>&lt;dbl&gt;</th><th scope=col>&lt;dbl&gt;</th><th scope=col>&lt;dbl&gt;</th><th scope=col>&lt;dbl&gt;</th><th scope=col>&lt;dbl&gt;</th><th scope=col>&lt;chr&gt;</th><th scope=col>&lt;chr&gt;</th><th scope=col>&lt;chr&gt;</th><th scope=col>&lt;chr&gt;</th><th scope=col>&lt;chr&gt;</th><th scope=col>&lt;chr&gt;</th><th scope=col>&lt;chr&gt;</th><th scope=col>&lt;dbl&gt;</th><th scope=col>&lt;chr&gt;</th></tr>\n",
       "</thead>\n",
       "<tbody>\n",
       "\t<tr><td>1</td><td>SVAL</td><td>4.4e-19</td><td>10</td><td>16</td><td>5.7e-13</td><td>0.0004</td><td>0.001</td><td>0.45</td><td>0.037</td><td>8.6e-05</td><td>motif-SVAL                     </td><td>CASSVallgETQYF    </td><td>CASSVALLGETQYF    </td><td>TRBV9  </td><td>TRBJ2-5</td><td>CAGAPTGNQFYF  </td><td>09/0772:MtbLys  </td><td>1</td><td>-</td></tr>\n",
       "\t<tr><td>1</td><td>SVAL</td><td>4.4e-19</td><td>10</td><td>16</td><td>5.7e-13</td><td>0.0004</td><td>0.001</td><td>0.45</td><td>0.037</td><td>8.6e-05</td><td>motif-SVAL                     </td><td>CASSVallgETQYF    </td><td>CASSVALLGETQYF    </td><td>TRBV9  </td><td>TRBJ2-5</td><td>CAGTGGTSYGKLTF</td><td>09/0531:MtbLys  </td><td>1</td><td>-</td></tr>\n",
       "\t<tr><td>7</td><td>QFIG</td><td>3.1e-08</td><td> 3</td><td> 3</td><td>1.0e-08</td><td>0.0370</td><td>0.001</td><td>0.21</td><td>0.220</td><td>6.2e-03</td><td>motif-QFI motif-SQFI motif-QFIG</td><td>CASSQfigdtdqsDTQYF</td><td>CASSQFIGDTDQSDTQYF</td><td>TRBV4-3</td><td>TRBJ2-3</td><td>NA            </td><td>01/0873:MtbLys  </td><td>2</td><td>-</td></tr>\n",
       "\t<tr><td>7</td><td>QFIG</td><td>3.1e-08</td><td> 3</td><td> 3</td><td>1.0e-08</td><td>0.0370</td><td>0.001</td><td>0.21</td><td>0.220</td><td>6.2e-03</td><td>motif-QFI motif-SQFI motif-QFIG</td><td>CASSQfigdtdqsDTQYF</td><td>CASSQFIGDTDQSDTQYF</td><td>TRBV4-3</td><td>TRBJ2-3</td><td>CVVNDWAGRRALTF</td><td>01/0873:MegaIFNg</td><td>1</td><td>-</td></tr>\n",
       "</tbody>\n",
       "</table>\n"
      ],
      "text/latex": [
       "A grouped\\_df: 4 × 20\n",
       "\\begin{tabular}{llllllllllllllllllll}\n",
       " index & pattern & Fisher\\_score & number\\_subject & number\\_unique\\_cdr3 & final\\_score & hla\\_score & vb\\_score & expansion\\_score & length\\_score & cluster\\_size\\_score & type & ulTcRb & TcRb & V & J & TcRa & Sample & Freq & HLA.A\\\\\n",
       " <int> & <chr> & <dbl> & <int> & <int> & <dbl> & <dbl> & <dbl> & <dbl> & <dbl> & <dbl> & <chr> & <chr> & <chr> & <chr> & <chr> & <chr> & <chr> & <dbl> & <chr>\\\\\n",
       "\\hline\n",
       "\t 1 & SVAL & 4.4e-19 & 10 & 16 & 5.7e-13 & 0.0004 & 0.001 & 0.45 & 0.037 & 8.6e-05 & motif-SVAL                      & CASSVallgETQYF     & CASSVALLGETQYF     & TRBV9   & TRBJ2-5 & CAGAPTGNQFYF   & 09/0772:MtbLys   & 1 & -\\\\\n",
       "\t 1 & SVAL & 4.4e-19 & 10 & 16 & 5.7e-13 & 0.0004 & 0.001 & 0.45 & 0.037 & 8.6e-05 & motif-SVAL                      & CASSVallgETQYF     & CASSVALLGETQYF     & TRBV9   & TRBJ2-5 & CAGTGGTSYGKLTF & 09/0531:MtbLys   & 1 & -\\\\\n",
       "\t 7 & QFIG & 3.1e-08 &  3 &  3 & 1.0e-08 & 0.0370 & 0.001 & 0.21 & 0.220 & 6.2e-03 & motif-QFI motif-SQFI motif-QFIG & CASSQfigdtdqsDTQYF & CASSQFIGDTDQSDTQYF & TRBV4-3 & TRBJ2-3 & NA             & 01/0873:MtbLys   & 2 & -\\\\\n",
       "\t 7 & QFIG & 3.1e-08 &  3 &  3 & 1.0e-08 & 0.0370 & 0.001 & 0.21 & 0.220 & 6.2e-03 & motif-QFI motif-SQFI motif-QFIG & CASSQfigdtdqsDTQYF & CASSQFIGDTDQSDTQYF & TRBV4-3 & TRBJ2-3 & CVVNDWAGRRALTF & 01/0873:MegaIFNg & 1 & -\\\\\n",
       "\\end{tabular}\n"
      ],
      "text/markdown": [
       "\n",
       "A grouped_df: 4 × 20\n",
       "\n",
       "| index &lt;int&gt; | pattern &lt;chr&gt; | Fisher_score &lt;dbl&gt; | number_subject &lt;int&gt; | number_unique_cdr3 &lt;int&gt; | final_score &lt;dbl&gt; | hla_score &lt;dbl&gt; | vb_score &lt;dbl&gt; | expansion_score &lt;dbl&gt; | length_score &lt;dbl&gt; | cluster_size_score &lt;dbl&gt; | type &lt;chr&gt; | ulTcRb &lt;chr&gt; | TcRb &lt;chr&gt; | V &lt;chr&gt; | J &lt;chr&gt; | TcRa &lt;chr&gt; | Sample &lt;chr&gt; | Freq &lt;dbl&gt; | HLA.A &lt;chr&gt; |\n",
       "|---|---|---|---|---|---|---|---|---|---|---|---|---|---|---|---|---|---|---|---|\n",
       "| 1 | SVAL | 4.4e-19 | 10 | 16 | 5.7e-13 | 0.0004 | 0.001 | 0.45 | 0.037 | 8.6e-05 | motif-SVAL                      | CASSVallgETQYF     | CASSVALLGETQYF     | TRBV9   | TRBJ2-5 | CAGAPTGNQFYF   | 09/0772:MtbLys   | 1 | - |\n",
       "| 1 | SVAL | 4.4e-19 | 10 | 16 | 5.7e-13 | 0.0004 | 0.001 | 0.45 | 0.037 | 8.6e-05 | motif-SVAL                      | CASSVallgETQYF     | CASSVALLGETQYF     | TRBV9   | TRBJ2-5 | CAGTGGTSYGKLTF | 09/0531:MtbLys   | 1 | - |\n",
       "| 7 | QFIG | 3.1e-08 |  3 |  3 | 1.0e-08 | 0.0370 | 0.001 | 0.21 | 0.220 | 6.2e-03 | motif-QFI motif-SQFI motif-QFIG | CASSQfigdtdqsDTQYF | CASSQFIGDTDQSDTQYF | TRBV4-3 | TRBJ2-3 | NA             | 01/0873:MtbLys   | 2 | - |\n",
       "| 7 | QFIG | 3.1e-08 |  3 |  3 | 1.0e-08 | 0.0370 | 0.001 | 0.21 | 0.220 | 6.2e-03 | motif-QFI motif-SQFI motif-QFIG | CASSQfigdtdqsDTQYF | CASSQFIGDTDQSDTQYF | TRBV4-3 | TRBJ2-3 | CVVNDWAGRRALTF | 01/0873:MegaIFNg | 1 | - |\n",
       "\n"
      ],
      "text/plain": [
       "  index pattern Fisher_score number_subject number_unique_cdr3 final_score\n",
       "1 1     SVAL    4.4e-19      10             16                 5.7e-13    \n",
       "2 1     SVAL    4.4e-19      10             16                 5.7e-13    \n",
       "3 7     QFIG    3.1e-08       3              3                 1.0e-08    \n",
       "4 7     QFIG    3.1e-08       3              3                 1.0e-08    \n",
       "  hla_score vb_score expansion_score length_score cluster_size_score\n",
       "1 0.0004    0.001    0.45            0.037        8.6e-05           \n",
       "2 0.0004    0.001    0.45            0.037        8.6e-05           \n",
       "3 0.0370    0.001    0.21            0.220        6.2e-03           \n",
       "4 0.0370    0.001    0.21            0.220        6.2e-03           \n",
       "  type                            ulTcRb             TcRb               V      \n",
       "1 motif-SVAL                      CASSVallgETQYF     CASSVALLGETQYF     TRBV9  \n",
       "2 motif-SVAL                      CASSVallgETQYF     CASSVALLGETQYF     TRBV9  \n",
       "3 motif-QFI motif-SQFI motif-QFIG CASSQfigdtdqsDTQYF CASSQFIGDTDQSDTQYF TRBV4-3\n",
       "4 motif-QFI motif-SQFI motif-QFIG CASSQfigdtdqsDTQYF CASSQFIGDTDQSDTQYF TRBV4-3\n",
       "  J       TcRa           Sample           Freq HLA.A\n",
       "1 TRBJ2-5 CAGAPTGNQFYF   09/0772:MtbLys   1    -    \n",
       "2 TRBJ2-5 CAGTGGTSYGKLTF 09/0531:MtbLys   1    -    \n",
       "3 TRBJ2-3 NA             01/0873:MtbLys   2    -    \n",
       "4 TRBJ2-3 CVVNDWAGRRALTF 01/0873:MegaIFNg 1    -    "
      ]
     },
     "metadata": {},
     "output_type": "display_data"
    }
   ],
   "source": [
    "tmp[,1:20]"
   ]
  },
  {
   "cell_type": "code",
   "execution_count": 77,
   "metadata": {},
   "outputs": [
    {
     "name": "stderr",
     "output_type": "stream",
     "text": [
      "Total number of recurring clonotypes: \n",
      "\n"
     ]
    },
    {
     "name": "stdout",
     "output_type": "stream",
     "text": [
      "[1] 6\n"
     ]
    }
   ],
   "source": [
    "recurring_cdr3 <- unique(gliphdf$TcRb[duplicated(gliphdf$TcRb)])\n",
    "notrecurring_cdr3 <- gliphdf$TcRb[!gliphdf$TcRb %in% recurring_cdr3]\n",
    "\n",
    "message(\"Total number of recurring clonotypes: \")\n",
    "print(length(recurring_cdr3))"
   ]
  },
  {
   "cell_type": "code",
   "execution_count": 78,
   "metadata": {},
   "outputs": [],
   "source": [
    "    if (length(recurring_cdr3) == 0) {\n",
    "        mydummy_df <- as.data.frame(matrix(ncol = ncol(gliphdf), nrow = length(mysamples)))\n",
    "        colnames(mydummy_df) <- colnames(gliphdf)\n",
    "        mydummy_df$Sample <- mysamples\n",
    "        mydummy_df$TcRb <- \"XXXXX\"\n",
    "        mydummy_df$Freq <- 0\n",
    "        gliphdf <- rbind(gliphdf, mydummy_df)\n",
    "        recurring_cdr3 <- \"XXXXX\"\n",
    "    }"
   ]
  },
  {
   "cell_type": "code",
   "execution_count": 79,
   "metadata": {},
   "outputs": [
    {
     "name": "stderr",
     "output_type": "stream",
     "text": [
      "these are what we color: \n",
      "\n"
     ]
    },
    {
     "name": "stdout",
     "output_type": "stream",
     "text": [
      "    CASSVALLGETQYF    CASSPGTESNQPQHF    CASSLGTESNQPQHF    CASSSGTESNQPQHF \n",
      "         \"#ACD8CC\"          \"#DA7F8A\"          \"#DAD06E\"          \"#80E37E\" \n",
      "   CASSFGTESNQPQHF CASSQFIGDTDQSDTQYF \n",
      "         \"#C15ED8\"          \"#AAA5DA\" \n"
     ]
    }
   ],
   "source": [
    "if(length(recurring_cdr3) > 50) {\n",
    "    recurring_df <- gliphdf[ gliphdf$TcRb %in% recurring_cdr3, ]\n",
    "    recurringcdr3_ordered <- unique(recurring_df$TcRb[order(recurring_df$Freq, decreasing = TRUE)])\n",
    "    message(\"Total number of recurring clonotypes > 50 \")\n",
    "    message(\"Tracking top 10 recurring clonotypes \")\n",
    "    myColors <- distinctColorPalette(10)\n",
    "    myColors <- c(myColors, rep(\"white\", length(recurring_cdr3) - 10), rep(\"white\", length(notrecurring_cdr3)))\n",
    "    names(myColors) <- c(recurringcdr3_ordered, notrecurring_cdr3)\n",
    "    message(\"these are what we color: \")\n",
    "    print(myColors[myColors != \"white\"])\n",
    "} else {\n",
    "    myColors <- distinctColorPalette(length(recurring_cdr3))\n",
    "    myColors <- c(myColors, rep(\"white\", length(notrecurring_cdr3)))\n",
    "    names(myColors) <- c(recurring_cdr3, notrecurring_cdr3)\n",
    "    myColors[names(myColors) == \"XXXXX\"] <- \"white\"\n",
    "    message(\"these are what we color: \")\n",
    "    print(myColors[myColors != \"white\"])\n",
    "    }"
   ]
  },
  {
   "cell_type": "code",
   "execution_count": 80,
   "metadata": {},
   "outputs": [
    {
     "data": {
      "text/html": [
       "<style>\n",
       ".list-inline {list-style: none; margin:0; padding: 0}\n",
       ".list-inline>li {display: inline-block}\n",
       ".list-inline>li:not(:last-child)::after {content: \"\\00b7\"; padding: 0 .5ex}\n",
       "</style>\n",
       "<ol class=list-inline><li>'02/0152:MegaIL2'</li><li>'01/1013:MtbLys'</li><li>'09/0328:MtbLys'</li><li>'09/0671:MtbLys'</li><li>'09/0772:MtbLys'</li><li>'09/0531:MtbLys'</li><li>'09/0018:MegaIFNg'</li><li>'01/0943:MtbLys'</li><li>'01/0873:MegaIL2'</li><li>'09/0018:MtbLys'</li><li>'03/0492:MegaIL2'</li><li>'09/0717:MtbLys'</li><li>'09/0263:MtbLys'</li><li>'01/0385:MtbLys'</li><li>'01/0960:MtbLys'</li><li>'09/0730:MtbLys'</li><li>'01/0329:MtbLys'</li><li>'01/0882:MtbLys'</li><li>'03/0480:MtbLys'</li><li>'01/0873:MtbLys'</li><li>'03/0493:MtbLys'</li><li>'03/0302:MtbLys'</li><li>'09/0334:MtbLys'</li><li>'01/0873:MegaIFNg'</li></ol>\n"
      ],
      "text/latex": [
       "\\begin{enumerate*}\n",
       "\\item '02/0152:MegaIL2'\n",
       "\\item '01/1013:MtbLys'\n",
       "\\item '09/0328:MtbLys'\n",
       "\\item '09/0671:MtbLys'\n",
       "\\item '09/0772:MtbLys'\n",
       "\\item '09/0531:MtbLys'\n",
       "\\item '09/0018:MegaIFNg'\n",
       "\\item '01/0943:MtbLys'\n",
       "\\item '01/0873:MegaIL2'\n",
       "\\item '09/0018:MtbLys'\n",
       "\\item '03/0492:MegaIL2'\n",
       "\\item '09/0717:MtbLys'\n",
       "\\item '09/0263:MtbLys'\n",
       "\\item '01/0385:MtbLys'\n",
       "\\item '01/0960:MtbLys'\n",
       "\\item '09/0730:MtbLys'\n",
       "\\item '01/0329:MtbLys'\n",
       "\\item '01/0882:MtbLys'\n",
       "\\item '03/0480:MtbLys'\n",
       "\\item '01/0873:MtbLys'\n",
       "\\item '03/0493:MtbLys'\n",
       "\\item '03/0302:MtbLys'\n",
       "\\item '09/0334:MtbLys'\n",
       "\\item '01/0873:MegaIFNg'\n",
       "\\end{enumerate*}\n"
      ],
      "text/markdown": [
       "1. '02/0152:MegaIL2'\n",
       "2. '01/1013:MtbLys'\n",
       "3. '09/0328:MtbLys'\n",
       "4. '09/0671:MtbLys'\n",
       "5. '09/0772:MtbLys'\n",
       "6. '09/0531:MtbLys'\n",
       "7. '09/0018:MegaIFNg'\n",
       "8. '01/0943:MtbLys'\n",
       "9. '01/0873:MegaIL2'\n",
       "10. '09/0018:MtbLys'\n",
       "11. '03/0492:MegaIL2'\n",
       "12. '09/0717:MtbLys'\n",
       "13. '09/0263:MtbLys'\n",
       "14. '01/0385:MtbLys'\n",
       "15. '01/0960:MtbLys'\n",
       "16. '09/0730:MtbLys'\n",
       "17. '01/0329:MtbLys'\n",
       "18. '01/0882:MtbLys'\n",
       "19. '03/0480:MtbLys'\n",
       "20. '01/0873:MtbLys'\n",
       "21. '03/0493:MtbLys'\n",
       "22. '03/0302:MtbLys'\n",
       "23. '09/0334:MtbLys'\n",
       "24. '01/0873:MegaIFNg'\n",
       "\n",
       "\n"
      ],
      "text/plain": [
       " [1] \"02/0152:MegaIL2\"  \"01/1013:MtbLys\"   \"09/0328:MtbLys\"   \"09/0671:MtbLys\"  \n",
       " [5] \"09/0772:MtbLys\"   \"09/0531:MtbLys\"   \"09/0018:MegaIFNg\" \"01/0943:MtbLys\"  \n",
       " [9] \"01/0873:MegaIL2\"  \"09/0018:MtbLys\"   \"03/0492:MegaIL2\"  \"09/0717:MtbLys\"  \n",
       "[13] \"09/0263:MtbLys\"   \"01/0385:MtbLys\"   \"01/0960:MtbLys\"   \"09/0730:MtbLys\"  \n",
       "[17] \"01/0329:MtbLys\"   \"01/0882:MtbLys\"   \"03/0480:MtbLys\"   \"01/0873:MtbLys\"  \n",
       "[21] \"03/0493:MtbLys\"   \"03/0302:MtbLys\"   \"09/0334:MtbLys\"   \"01/0873:MegaIFNg\""
      ]
     },
     "metadata": {},
     "output_type": "display_data"
    }
   ],
   "source": [
    "mysamples"
   ]
  },
  {
   "cell_type": "markdown",
   "metadata": {},
   "source": [
    "# this ensures alluvial is plotted if two non consecutive samples have recurring cdr3\n",
    "for (c in recurring_cdr3) {\n",
    "    tmp <- gliphdf[ gliphdf$TcRb == c, ]\n",
    "    nonexisting <- mysamples[!mysamples %in% tmp$Sample]\n",
    "    if (length(nonexisting) > 0) {\n",
    "        newentries <- gliphdf[0,]\n",
    "        newentries[nrow(newentries) + length(nonexisting),] <- NA\n",
    "        newentries$Sample <- nonexisting\n",
    "        newentries$TcRb <- c\n",
    "        newentries$Freq <- 0\n",
    "        \n",
    "        gliphdf <- rbind(gliphdf, newentries)\n",
    "        }\n",
    "    }"
   ]
  },
  {
   "cell_type": "code",
   "execution_count": 81,
   "metadata": {},
   "outputs": [],
   "source": [
    "alluvialdf <- gliphdf#[, c(\"Sample\", \"TcRb\", \"Freq\")]"
   ]
  },
  {
   "cell_type": "code",
   "execution_count": 82,
   "metadata": {},
   "outputs": [],
   "source": [
    "alluvialdf$xx <- paste(alluvialdf$pattern, alluvialdf$TcRb, sep = \"_\")"
   ]
  },
  {
   "cell_type": "code",
   "execution_count": 83,
   "metadata": {},
   "outputs": [
    {
     "data": {
      "text/html": [
       "<table class=\"dataframe\">\n",
       "<caption>A data.frame: 2 × 20</caption>\n",
       "<thead>\n",
       "\t<tr><th></th><th scope=col>index</th><th scope=col>pattern</th><th scope=col>Fisher_score</th><th scope=col>number_subject</th><th scope=col>number_unique_cdr3</th><th scope=col>final_score</th><th scope=col>hla_score</th><th scope=col>vb_score</th><th scope=col>expansion_score</th><th scope=col>length_score</th><th scope=col>cluster_size_score</th><th scope=col>type</th><th scope=col>ulTcRb</th><th scope=col>TcRb</th><th scope=col>V</th><th scope=col>J</th><th scope=col>TcRa</th><th scope=col>Sample</th><th scope=col>Freq</th><th scope=col>HLA.A</th></tr>\n",
       "\t<tr><th></th><th scope=col>&lt;int&gt;</th><th scope=col>&lt;chr&gt;</th><th scope=col>&lt;dbl&gt;</th><th scope=col>&lt;int&gt;</th><th scope=col>&lt;int&gt;</th><th scope=col>&lt;dbl&gt;</th><th scope=col>&lt;dbl&gt;</th><th scope=col>&lt;dbl&gt;</th><th scope=col>&lt;dbl&gt;</th><th scope=col>&lt;dbl&gt;</th><th scope=col>&lt;dbl&gt;</th><th scope=col>&lt;chr&gt;</th><th scope=col>&lt;chr&gt;</th><th scope=col>&lt;chr&gt;</th><th scope=col>&lt;chr&gt;</th><th scope=col>&lt;chr&gt;</th><th scope=col>&lt;chr&gt;</th><th scope=col>&lt;chr&gt;</th><th scope=col>&lt;dbl&gt;</th><th scope=col>&lt;chr&gt;</th></tr>\n",
       "</thead>\n",
       "<tbody>\n",
       "\t<tr><th scope=row>6</th><td>1</td><td>SVAL</td><td>4.4e-19</td><td>10</td><td>16</td><td>5.7e-13</td><td>4e-04</td><td>0.001</td><td>0.45</td><td>0.037</td><td>8.6e-05</td><td>motif-SVAL</td><td>CASSVallgETQYF</td><td>CASSVALLGETQYF</td><td>TRBV9</td><td>TRBJ2-5</td><td>CAGAPTGNQFYF  </td><td>09/0772:MtbLys</td><td>1</td><td>-</td></tr>\n",
       "\t<tr><th scope=row>7</th><td>1</td><td>SVAL</td><td>4.4e-19</td><td>10</td><td>16</td><td>5.7e-13</td><td>4e-04</td><td>0.001</td><td>0.45</td><td>0.037</td><td>8.6e-05</td><td>motif-SVAL</td><td>CASSVallgETQYF</td><td>CASSVALLGETQYF</td><td>TRBV9</td><td>TRBJ2-5</td><td>CAGTGGTSYGKLTF</td><td>09/0531:MtbLys</td><td>1</td><td>-</td></tr>\n",
       "</tbody>\n",
       "</table>\n"
      ],
      "text/latex": [
       "A data.frame: 2 × 20\n",
       "\\begin{tabular}{r|llllllllllllllllllll}\n",
       "  & index & pattern & Fisher\\_score & number\\_subject & number\\_unique\\_cdr3 & final\\_score & hla\\_score & vb\\_score & expansion\\_score & length\\_score & cluster\\_size\\_score & type & ulTcRb & TcRb & V & J & TcRa & Sample & Freq & HLA.A\\\\\n",
       "  & <int> & <chr> & <dbl> & <int> & <int> & <dbl> & <dbl> & <dbl> & <dbl> & <dbl> & <dbl> & <chr> & <chr> & <chr> & <chr> & <chr> & <chr> & <chr> & <dbl> & <chr>\\\\\n",
       "\\hline\n",
       "\t6 & 1 & SVAL & 4.4e-19 & 10 & 16 & 5.7e-13 & 4e-04 & 0.001 & 0.45 & 0.037 & 8.6e-05 & motif-SVAL & CASSVallgETQYF & CASSVALLGETQYF & TRBV9 & TRBJ2-5 & CAGAPTGNQFYF   & 09/0772:MtbLys & 1 & -\\\\\n",
       "\t7 & 1 & SVAL & 4.4e-19 & 10 & 16 & 5.7e-13 & 4e-04 & 0.001 & 0.45 & 0.037 & 8.6e-05 & motif-SVAL & CASSVallgETQYF & CASSVALLGETQYF & TRBV9 & TRBJ2-5 & CAGTGGTSYGKLTF & 09/0531:MtbLys & 1 & -\\\\\n",
       "\\end{tabular}\n"
      ],
      "text/markdown": [
       "\n",
       "A data.frame: 2 × 20\n",
       "\n",
       "| <!--/--> | index &lt;int&gt; | pattern &lt;chr&gt; | Fisher_score &lt;dbl&gt; | number_subject &lt;int&gt; | number_unique_cdr3 &lt;int&gt; | final_score &lt;dbl&gt; | hla_score &lt;dbl&gt; | vb_score &lt;dbl&gt; | expansion_score &lt;dbl&gt; | length_score &lt;dbl&gt; | cluster_size_score &lt;dbl&gt; | type &lt;chr&gt; | ulTcRb &lt;chr&gt; | TcRb &lt;chr&gt; | V &lt;chr&gt; | J &lt;chr&gt; | TcRa &lt;chr&gt; | Sample &lt;chr&gt; | Freq &lt;dbl&gt; | HLA.A &lt;chr&gt; |\n",
       "|---|---|---|---|---|---|---|---|---|---|---|---|---|---|---|---|---|---|---|---|---|\n",
       "| 6 | 1 | SVAL | 4.4e-19 | 10 | 16 | 5.7e-13 | 4e-04 | 0.001 | 0.45 | 0.037 | 8.6e-05 | motif-SVAL | CASSVallgETQYF | CASSVALLGETQYF | TRBV9 | TRBJ2-5 | CAGAPTGNQFYF   | 09/0772:MtbLys | 1 | - |\n",
       "| 7 | 1 | SVAL | 4.4e-19 | 10 | 16 | 5.7e-13 | 4e-04 | 0.001 | 0.45 | 0.037 | 8.6e-05 | motif-SVAL | CASSVallgETQYF | CASSVALLGETQYF | TRBV9 | TRBJ2-5 | CAGTGGTSYGKLTF | 09/0531:MtbLys | 1 | - |\n",
       "\n"
      ],
      "text/plain": [
       "  index pattern Fisher_score number_subject number_unique_cdr3 final_score\n",
       "6 1     SVAL    4.4e-19      10             16                 5.7e-13    \n",
       "7 1     SVAL    4.4e-19      10             16                 5.7e-13    \n",
       "  hla_score vb_score expansion_score length_score cluster_size_score type      \n",
       "6 4e-04     0.001    0.45            0.037        8.6e-05            motif-SVAL\n",
       "7 4e-04     0.001    0.45            0.037        8.6e-05            motif-SVAL\n",
       "  ulTcRb         TcRb           V     J       TcRa           Sample        \n",
       "6 CASSVallgETQYF CASSVALLGETQYF TRBV9 TRBJ2-5 CAGAPTGNQFYF   09/0772:MtbLys\n",
       "7 CASSVallgETQYF CASSVALLGETQYF TRBV9 TRBJ2-5 CAGTGGTSYGKLTF 09/0531:MtbLys\n",
       "  Freq HLA.A\n",
       "6 1    -    \n",
       "7 1    -    "
      ]
     },
     "metadata": {},
     "output_type": "display_data"
    }
   ],
   "source": [
    "alluvialdf[alluvialdf$xx == \"SVAL_CASSVALLGETQYF\",1:20]"
   ]
  },
  {
   "cell_type": "code",
   "execution_count": 84,
   "metadata": {},
   "outputs": [],
   "source": [
    "alluvialdf <- alluvialdf[ !duplicated(alluvialdf$xx),]"
   ]
  },
  {
   "cell_type": "code",
   "execution_count": 85,
   "metadata": {},
   "outputs": [],
   "source": [
    "alluvialdf <- alluvialdf[, c(\"xx\", colnames(alluvialdf))]"
   ]
  },
  {
   "cell_type": "code",
   "execution_count": 86,
   "metadata": {},
   "outputs": [
    {
     "data": {
      "text/html": [
       "<table class=\"dataframe\">\n",
       "<caption>A data.frame: 6 × 32</caption>\n",
       "<thead>\n",
       "\t<tr><th></th><th scope=col>xx</th><th scope=col>index</th><th scope=col>pattern</th><th scope=col>Fisher_score</th><th scope=col>number_subject</th><th scope=col>number_unique_cdr3</th><th scope=col>final_score</th><th scope=col>hla_score</th><th scope=col>vb_score</th><th scope=col>expansion_score</th><th scope=col>⋯</th><th scope=col>HLA.C</th><th scope=col>HLA.DPA1</th><th scope=col>HLA.DPB1</th><th scope=col>HLA.DQA1</th><th scope=col>HLA.DQB1</th><th scope=col>HLA.DRB1</th><th scope=col>HLA.DRB3</th><th scope=col>HLA.DRB4</th><th scope=col>HLA.DRB5</th><th scope=col>xx.1</th></tr>\n",
       "\t<tr><th></th><th scope=col>&lt;chr&gt;</th><th scope=col>&lt;int&gt;</th><th scope=col>&lt;chr&gt;</th><th scope=col>&lt;dbl&gt;</th><th scope=col>&lt;int&gt;</th><th scope=col>&lt;int&gt;</th><th scope=col>&lt;dbl&gt;</th><th scope=col>&lt;dbl&gt;</th><th scope=col>&lt;dbl&gt;</th><th scope=col>&lt;dbl&gt;</th><th scope=col>⋯</th><th scope=col>&lt;chr&gt;</th><th scope=col>&lt;chr&gt;</th><th scope=col>&lt;chr&gt;</th><th scope=col>&lt;chr&gt;</th><th scope=col>&lt;chr&gt;</th><th scope=col>&lt;chr&gt;</th><th scope=col>&lt;chr&gt;</th><th scope=col>&lt;chr&gt;</th><th scope=col>&lt;chr&gt;</th><th scope=col>&lt;chr&gt;</th></tr>\n",
       "</thead>\n",
       "<tbody>\n",
       "\t<tr><th scope=row>1</th><td>SVAL_CASSVALASGANVLTF</td><td>1</td><td>SVAL</td><td>4.4e-19</td><td>10</td><td>16</td><td>5.7e-13</td><td>4e-04</td><td>0.001</td><td>0.45</td><td>⋯</td><td>-</td><td>DPA1*01:03/DPA1*04:01</td><td>DPB1*04:01/DPB1*296:01</td><td>DQA1*01:02/DQA1*05:01</td><td>DQB1*02:01/DQB1*06:01! </td><td>DRB1*03:01/DRB1*15:01!</td><td>DRB3*01:01           </td><td>-</td><td>DRB5*01:01!</td><td>SVAL_CASSVALASGANVLTF</td></tr>\n",
       "\t<tr><th scope=row>2</th><td>SVAL_CASSVALSNYGYTF  </td><td>1</td><td>SVAL</td><td>4.4e-19</td><td>10</td><td>16</td><td>5.7e-13</td><td>4e-04</td><td>0.001</td><td>0.45</td><td>⋯</td><td>-</td><td>DPA1*01:03/DPA1*01:03</td><td>DPB1*02:01/DPB1*02:01 </td><td>DQA1*01:02/DQA1*01:03</td><td>DQB1*06:02!/DQB1*06:03!</td><td>DRB1*13:01/DRB1*15:03!</td><td>DRB3*01:01           </td><td>-</td><td>DRB5*01:01!</td><td>SVAL_CASSVALSNYGYTF  </td></tr>\n",
       "\t<tr><th scope=row>3</th><td>SVAL_CASSVALYGQSVTF  </td><td>1</td><td>SVAL</td><td>4.4e-19</td><td>10</td><td>16</td><td>5.7e-13</td><td>4e-04</td><td>0.001</td><td>0.45</td><td>⋯</td><td>-</td><td>DPA1*01:03/DPA1*02:01</td><td>DPB1*01:01/DPB1*03:01 </td><td>DQA1*04:01/DQA1*06:01</td><td>DQB1*03:01/DQB1*04:02  </td><td>DRB1*03:02/DRB1*12:02 </td><td>DRB3*01:01/DRB3*03:01</td><td>-</td><td>-          </td><td>SVAL_CASSVALYGQSVTF  </td></tr>\n",
       "\t<tr><th scope=row>4</th><td>SVAL_CASSVALLAGTQYF  </td><td>1</td><td>SVAL</td><td>4.4e-19</td><td>10</td><td>16</td><td>5.7e-13</td><td>4e-04</td><td>0.001</td><td>0.45</td><td>⋯</td><td>-</td><td>DPA1*01:03/DPA1*02:02</td><td>DPB1*01:01/DPB1*04:01 </td><td>DQA1*01:02/DQA1*01:05</td><td>DQB1*05:01/DQB1*06:02! </td><td>DRB1*12:01/DRB1*15:01!</td><td>DRB3*01:01           </td><td>-</td><td>DRB5*01:01!</td><td>SVAL_CASSVALLAGTQYF  </td></tr>\n",
       "\t<tr><th scope=row>5</th><td>SVAL_CASSVALGAGGGYTF </td><td>1</td><td>SVAL</td><td>4.4e-19</td><td>10</td><td>16</td><td>5.7e-13</td><td>4e-04</td><td>0.001</td><td>0.45</td><td>⋯</td><td>-</td><td>DPA1*01:03/DPA1*02:01</td><td>DPB1*01:01/DPB1*03:01 </td><td>DQA1*04:01/DQA1*06:01</td><td>DQB1*03:01/DQB1*04:02  </td><td>DRB1*03:02/DRB1*12:02 </td><td>DRB3*01:01/DRB3*03:01</td><td>-</td><td>-          </td><td>SVAL_CASSVALGAGGGYTF </td></tr>\n",
       "\t<tr><th scope=row>6</th><td>SVAL_CASSVALLGETQYF  </td><td>1</td><td>SVAL</td><td>4.4e-19</td><td>10</td><td>16</td><td>5.7e-13</td><td>4e-04</td><td>0.001</td><td>0.45</td><td>⋯</td><td>-</td><td>DPA1*02:01/DPA1*02:02</td><td>DPB1*01:01/DPB1*01:01 </td><td>DQA1*01:02/DQA1*05:05</td><td>DQB1*03:01/DQB1*06:02! </td><td>DRB1*03:01/DRB1*15:03!</td><td>DRB3*02:02           </td><td>-</td><td>DRB5*01:01!</td><td>SVAL_CASSVALLGETQYF  </td></tr>\n",
       "</tbody>\n",
       "</table>\n"
      ],
      "text/latex": [
       "A data.frame: 6 × 32\n",
       "\\begin{tabular}{r|lllllllllllllllllllll}\n",
       "  & xx & index & pattern & Fisher\\_score & number\\_subject & number\\_unique\\_cdr3 & final\\_score & hla\\_score & vb\\_score & expansion\\_score & ⋯ & HLA.C & HLA.DPA1 & HLA.DPB1 & HLA.DQA1 & HLA.DQB1 & HLA.DRB1 & HLA.DRB3 & HLA.DRB4 & HLA.DRB5 & xx.1\\\\\n",
       "  & <chr> & <int> & <chr> & <dbl> & <int> & <int> & <dbl> & <dbl> & <dbl> & <dbl> & ⋯ & <chr> & <chr> & <chr> & <chr> & <chr> & <chr> & <chr> & <chr> & <chr> & <chr>\\\\\n",
       "\\hline\n",
       "\t1 & SVAL\\_CASSVALASGANVLTF & 1 & SVAL & 4.4e-19 & 10 & 16 & 5.7e-13 & 4e-04 & 0.001 & 0.45 & ⋯ & - & DPA1*01:03/DPA1*04:01 & DPB1*04:01/DPB1*296:01 & DQA1*01:02/DQA1*05:01 & DQB1*02:01/DQB1*06:01!  & DRB1*03:01/DRB1*15:01! & DRB3*01:01            & - & DRB5*01:01! & SVAL\\_CASSVALASGANVLTF\\\\\n",
       "\t2 & SVAL\\_CASSVALSNYGYTF   & 1 & SVAL & 4.4e-19 & 10 & 16 & 5.7e-13 & 4e-04 & 0.001 & 0.45 & ⋯ & - & DPA1*01:03/DPA1*01:03 & DPB1*02:01/DPB1*02:01  & DQA1*01:02/DQA1*01:03 & DQB1*06:02!/DQB1*06:03! & DRB1*13:01/DRB1*15:03! & DRB3*01:01            & - & DRB5*01:01! & SVAL\\_CASSVALSNYGYTF  \\\\\n",
       "\t3 & SVAL\\_CASSVALYGQSVTF   & 1 & SVAL & 4.4e-19 & 10 & 16 & 5.7e-13 & 4e-04 & 0.001 & 0.45 & ⋯ & - & DPA1*01:03/DPA1*02:01 & DPB1*01:01/DPB1*03:01  & DQA1*04:01/DQA1*06:01 & DQB1*03:01/DQB1*04:02   & DRB1*03:02/DRB1*12:02  & DRB3*01:01/DRB3*03:01 & - & -           & SVAL\\_CASSVALYGQSVTF  \\\\\n",
       "\t4 & SVAL\\_CASSVALLAGTQYF   & 1 & SVAL & 4.4e-19 & 10 & 16 & 5.7e-13 & 4e-04 & 0.001 & 0.45 & ⋯ & - & DPA1*01:03/DPA1*02:02 & DPB1*01:01/DPB1*04:01  & DQA1*01:02/DQA1*01:05 & DQB1*05:01/DQB1*06:02!  & DRB1*12:01/DRB1*15:01! & DRB3*01:01            & - & DRB5*01:01! & SVAL\\_CASSVALLAGTQYF  \\\\\n",
       "\t5 & SVAL\\_CASSVALGAGGGYTF  & 1 & SVAL & 4.4e-19 & 10 & 16 & 5.7e-13 & 4e-04 & 0.001 & 0.45 & ⋯ & - & DPA1*01:03/DPA1*02:01 & DPB1*01:01/DPB1*03:01  & DQA1*04:01/DQA1*06:01 & DQB1*03:01/DQB1*04:02   & DRB1*03:02/DRB1*12:02  & DRB3*01:01/DRB3*03:01 & - & -           & SVAL\\_CASSVALGAGGGYTF \\\\\n",
       "\t6 & SVAL\\_CASSVALLGETQYF   & 1 & SVAL & 4.4e-19 & 10 & 16 & 5.7e-13 & 4e-04 & 0.001 & 0.45 & ⋯ & - & DPA1*02:01/DPA1*02:02 & DPB1*01:01/DPB1*01:01  & DQA1*01:02/DQA1*05:05 & DQB1*03:01/DQB1*06:02!  & DRB1*03:01/DRB1*15:03! & DRB3*02:02            & - & DRB5*01:01! & SVAL\\_CASSVALLGETQYF  \\\\\n",
       "\\end{tabular}\n"
      ],
      "text/markdown": [
       "\n",
       "A data.frame: 6 × 32\n",
       "\n",
       "| <!--/--> | xx &lt;chr&gt; | index &lt;int&gt; | pattern &lt;chr&gt; | Fisher_score &lt;dbl&gt; | number_subject &lt;int&gt; | number_unique_cdr3 &lt;int&gt; | final_score &lt;dbl&gt; | hla_score &lt;dbl&gt; | vb_score &lt;dbl&gt; | expansion_score &lt;dbl&gt; | ⋯ ⋯ | HLA.C &lt;chr&gt; | HLA.DPA1 &lt;chr&gt; | HLA.DPB1 &lt;chr&gt; | HLA.DQA1 &lt;chr&gt; | HLA.DQB1 &lt;chr&gt; | HLA.DRB1 &lt;chr&gt; | HLA.DRB3 &lt;chr&gt; | HLA.DRB4 &lt;chr&gt; | HLA.DRB5 &lt;chr&gt; | xx.1 &lt;chr&gt; |\n",
       "|---|---|---|---|---|---|---|---|---|---|---|---|---|---|---|---|---|---|---|---|---|---|\n",
       "| 1 | SVAL_CASSVALASGANVLTF | 1 | SVAL | 4.4e-19 | 10 | 16 | 5.7e-13 | 4e-04 | 0.001 | 0.45 | ⋯ | - | DPA1*01:03/DPA1*04:01 | DPB1*04:01/DPB1*296:01 | DQA1*01:02/DQA1*05:01 | DQB1*02:01/DQB1*06:01!  | DRB1*03:01/DRB1*15:01! | DRB3*01:01            | - | DRB5*01:01! | SVAL_CASSVALASGANVLTF |\n",
       "| 2 | SVAL_CASSVALSNYGYTF   | 1 | SVAL | 4.4e-19 | 10 | 16 | 5.7e-13 | 4e-04 | 0.001 | 0.45 | ⋯ | - | DPA1*01:03/DPA1*01:03 | DPB1*02:01/DPB1*02:01  | DQA1*01:02/DQA1*01:03 | DQB1*06:02!/DQB1*06:03! | DRB1*13:01/DRB1*15:03! | DRB3*01:01            | - | DRB5*01:01! | SVAL_CASSVALSNYGYTF   |\n",
       "| 3 | SVAL_CASSVALYGQSVTF   | 1 | SVAL | 4.4e-19 | 10 | 16 | 5.7e-13 | 4e-04 | 0.001 | 0.45 | ⋯ | - | DPA1*01:03/DPA1*02:01 | DPB1*01:01/DPB1*03:01  | DQA1*04:01/DQA1*06:01 | DQB1*03:01/DQB1*04:02   | DRB1*03:02/DRB1*12:02  | DRB3*01:01/DRB3*03:01 | - | -           | SVAL_CASSVALYGQSVTF   |\n",
       "| 4 | SVAL_CASSVALLAGTQYF   | 1 | SVAL | 4.4e-19 | 10 | 16 | 5.7e-13 | 4e-04 | 0.001 | 0.45 | ⋯ | - | DPA1*01:03/DPA1*02:02 | DPB1*01:01/DPB1*04:01  | DQA1*01:02/DQA1*01:05 | DQB1*05:01/DQB1*06:02!  | DRB1*12:01/DRB1*15:01! | DRB3*01:01            | - | DRB5*01:01! | SVAL_CASSVALLAGTQYF   |\n",
       "| 5 | SVAL_CASSVALGAGGGYTF  | 1 | SVAL | 4.4e-19 | 10 | 16 | 5.7e-13 | 4e-04 | 0.001 | 0.45 | ⋯ | - | DPA1*01:03/DPA1*02:01 | DPB1*01:01/DPB1*03:01  | DQA1*04:01/DQA1*06:01 | DQB1*03:01/DQB1*04:02   | DRB1*03:02/DRB1*12:02  | DRB3*01:01/DRB3*03:01 | - | -           | SVAL_CASSVALGAGGGYTF  |\n",
       "| 6 | SVAL_CASSVALLGETQYF   | 1 | SVAL | 4.4e-19 | 10 | 16 | 5.7e-13 | 4e-04 | 0.001 | 0.45 | ⋯ | - | DPA1*02:01/DPA1*02:02 | DPB1*01:01/DPB1*01:01  | DQA1*01:02/DQA1*05:05 | DQB1*03:01/DQB1*06:02!  | DRB1*03:01/DRB1*15:03! | DRB3*02:02            | - | DRB5*01:01! | SVAL_CASSVALLGETQYF   |\n",
       "\n"
      ],
      "text/plain": [
       "  xx                    index pattern Fisher_score number_subject\n",
       "1 SVAL_CASSVALASGANVLTF 1     SVAL    4.4e-19      10            \n",
       "2 SVAL_CASSVALSNYGYTF   1     SVAL    4.4e-19      10            \n",
       "3 SVAL_CASSVALYGQSVTF   1     SVAL    4.4e-19      10            \n",
       "4 SVAL_CASSVALLAGTQYF   1     SVAL    4.4e-19      10            \n",
       "5 SVAL_CASSVALGAGGGYTF  1     SVAL    4.4e-19      10            \n",
       "6 SVAL_CASSVALLGETQYF   1     SVAL    4.4e-19      10            \n",
       "  number_unique_cdr3 final_score hla_score vb_score expansion_score ⋯ HLA.C\n",
       "1 16                 5.7e-13     4e-04     0.001    0.45            ⋯ -    \n",
       "2 16                 5.7e-13     4e-04     0.001    0.45            ⋯ -    \n",
       "3 16                 5.7e-13     4e-04     0.001    0.45            ⋯ -    \n",
       "4 16                 5.7e-13     4e-04     0.001    0.45            ⋯ -    \n",
       "5 16                 5.7e-13     4e-04     0.001    0.45            ⋯ -    \n",
       "6 16                 5.7e-13     4e-04     0.001    0.45            ⋯ -    \n",
       "  HLA.DPA1              HLA.DPB1               HLA.DQA1             \n",
       "1 DPA1*01:03/DPA1*04:01 DPB1*04:01/DPB1*296:01 DQA1*01:02/DQA1*05:01\n",
       "2 DPA1*01:03/DPA1*01:03 DPB1*02:01/DPB1*02:01  DQA1*01:02/DQA1*01:03\n",
       "3 DPA1*01:03/DPA1*02:01 DPB1*01:01/DPB1*03:01  DQA1*04:01/DQA1*06:01\n",
       "4 DPA1*01:03/DPA1*02:02 DPB1*01:01/DPB1*04:01  DQA1*01:02/DQA1*01:05\n",
       "5 DPA1*01:03/DPA1*02:01 DPB1*01:01/DPB1*03:01  DQA1*04:01/DQA1*06:01\n",
       "6 DPA1*02:01/DPA1*02:02 DPB1*01:01/DPB1*01:01  DQA1*01:02/DQA1*05:05\n",
       "  HLA.DQB1                HLA.DRB1               HLA.DRB3              HLA.DRB4\n",
       "1 DQB1*02:01/DQB1*06:01!  DRB1*03:01/DRB1*15:01! DRB3*01:01            -       \n",
       "2 DQB1*06:02!/DQB1*06:03! DRB1*13:01/DRB1*15:03! DRB3*01:01            -       \n",
       "3 DQB1*03:01/DQB1*04:02   DRB1*03:02/DRB1*12:02  DRB3*01:01/DRB3*03:01 -       \n",
       "4 DQB1*05:01/DQB1*06:02!  DRB1*12:01/DRB1*15:01! DRB3*01:01            -       \n",
       "5 DQB1*03:01/DQB1*04:02   DRB1*03:02/DRB1*12:02  DRB3*01:01/DRB3*03:01 -       \n",
       "6 DQB1*03:01/DQB1*06:02!  DRB1*03:01/DRB1*15:03! DRB3*02:02            -       \n",
       "  HLA.DRB5    xx.1                 \n",
       "1 DRB5*01:01! SVAL_CASSVALASGANVLTF\n",
       "2 DRB5*01:01! SVAL_CASSVALSNYGYTF  \n",
       "3 -           SVAL_CASSVALYGQSVTF  \n",
       "4 DRB5*01:01! SVAL_CASSVALLAGTQYF  \n",
       "5 -           SVAL_CASSVALGAGGGYTF \n",
       "6 DRB5*01:01! SVAL_CASSVALLGETQYF  "
      ]
     },
     "metadata": {},
     "output_type": "display_data"
    }
   ],
   "source": [
    "head(alluvialdf)"
   ]
  },
  {
   "cell_type": "code",
   "execution_count": 87,
   "metadata": {},
   "outputs": [],
   "source": [
    "p <- ggplot(data = alluvialdf, aes(x = Sample, y = Freq, \n",
    "        fill = TcRb, stratum = TcRb, alluvium = xx))\n",
    "    myp <- p + geom_alluvium(decreasing = FALSE) + \n",
    "geom_stratum(decreasing = FALSE, stat = \"alluvium\")+\n",
    "scale_fill_manual(breaks = names(myColors[myColors != \"white\"]), values = myColors) \n"
   ]
  },
  {
   "cell_type": "code",
   "execution_count": 88,
   "metadata": {},
   "outputs": [
    {
     "data": {
      "image/png": "[encoded data removed]",
      "text/plain": [
       "plot without title"
      ]
     },
     "metadata": {
      "image/png": {
       "height": 420,
       "width": 420
      }
     },
     "output_type": "display_data"
    }
   ],
   "source": [
    "myp + theme(legend.position = \"bottom\")"
   ]
  },
  {
   "cell_type": "code",
   "execution_count": 215,
   "metadata": {},
   "outputs": [
    {
     "name": "stderr",
     "output_type": "stream",
     "text": [
      "ERROR while rich displaying an object: Error in f(...): Data is not in a recognized alluvial form (see `help('alluvial-data')` for details).\n",
      "\n",
      "Traceback:\n",
      "1. tryCatch(withCallingHandlers({\n",
      " .     if (!mime %in% names(repr::mime2repr)) \n",
      " .         stop(\"No repr_* for mimetype \", mime, \" in repr::mime2repr\")\n",
      " .     rpr <- repr::mime2repr[[mime]](obj)\n",
      " .     if (is.null(rpr)) \n",
      " .         return(NULL)\n",
      " .     prepare_content(is.raw(rpr), rpr)\n",
      " . }, error = error_handler), error = outer_handler)\n",
      "2. tryCatchList(expr, classes, parentenv, handlers)\n",
      "3. tryCatchOne(expr, names, parentenv, handlers[[1L]])\n",
      "4. doTryCatch(return(expr), name, parentenv, handler)\n",
      "5. withCallingHandlers({\n",
      " .     if (!mime %in% names(repr::mime2repr)) \n",
      " .         stop(\"No repr_* for mimetype \", mime, \" in repr::mime2repr\")\n",
      " .     rpr <- repr::mime2repr[[mime]](obj)\n",
      " .     if (is.null(rpr)) \n",
      " .         return(NULL)\n",
      " .     prepare_content(is.raw(rpr), rpr)\n",
      " . }, error = error_handler)\n",
      "6. repr::mime2repr[[mime]](obj)\n",
      "7. repr_text.default(obj)\n",
      "8. paste(capture.output(print(obj)), collapse = \"\\n\")\n",
      "9. capture.output(print(obj))\n",
      "10. evalVis(expr)\n",
      "11. withVisible(eval(expr, pf))\n",
      "12. eval(expr, pf)\n",
      "13. eval(expr, pf)\n",
      "14. print(obj)\n",
      "15. print.ggplot(obj)\n",
      "16. ggplot_build(x)\n",
      "17. ggplot_build.ggplot(x)\n",
      "18. by_layer(function(l, d) l$compute_statistic(d, layout))\n",
      "19. f(l = layers[[i]], d = data[[i]])\n",
      "20. l$compute_statistic(d, layout)\n",
      "21. f(..., self = self)\n",
      "22. self$stat$setup_data(data, self$computed_stat_params)\n",
      "23. f(...)\n",
      "24. stop(\"Data is not in a recognized alluvial form \", \"(see `help('alluvial-data')` for details).\")\n"
     ]
    },
    {
     "data": {
      "image/png": "[encoded data removed]",
      "text/plain": [
       "plot without title"
      ]
     },
     "metadata": {
      "image/png": {
       "height": 420,
       "width": 420
      }
     },
     "output_type": "display_data"
    }
   ],
   "source": [
    "p <- ggplot(data = alluvialdf, aes(x = Sample, y = Freq, \n",
    "        fill = pattern, stratum = TcRb, alluvium = pattern))\n",
    "    myp <- p + geom_alluvium(decreasing = FALSE) + \n",
    "geom_stratum(decreasing = FALSE, stat = \"alluvium\") + \n",
    "scale_fill_manual(breaks = names(myColors[myColors != \"white\"]), values = myColors) + \n",
    "theme(axis.title.y = element_text(size = 50), \n",
    "axis.title.x = element_blank(), axis.line = element_line(color = \"black\"), \n",
    "      axis.text = element_text(size = 50), axis.text.x = element_text(angle = 45, \n",
    "                                                                      hjust = 1), plot.title = element_text(size = 50, \n",
    "                                                                                                            hjust = 0.5)) + theme(panel.grid.major = element_blank(), \n",
    "        panel.grid.minor = element_blank(), panel.background = element_rect(fill = \"transparent\", \n",
    "            colour = NA), legend.key = element_rect(fill = \"white\", \n",
    "            colour = \"white\"), legend.position = \"none\", plot.margin = unit(c(0.2, \n",
    "            0, 0, 0), \"cm\"))# + labs(y = countfrac) + labs(title = plottitle)\n",
    "myp"
   ]
  },
  {
   "cell_type": "code",
   "execution_count": 140,
   "metadata": {},
   "outputs": [],
   "source": [
    "colnames(alluvialdf)[3] <- \"xxx\""
   ]
  },
  {
   "cell_type": "code",
   "execution_count": 151,
   "metadata": {},
   "outputs": [
    {
     "data": {
      "text/html": [
       "<table class=\"dataframe\">\n",
       "<caption>A data.frame: 6 × 3</caption>\n",
       "<thead>\n",
       "\t<tr><th></th><th scope=col>Sample</th><th scope=col>TcRb</th><th scope=col>xxx</th></tr>\n",
       "\t<tr><th></th><th scope=col>&lt;chr&gt;</th><th scope=col>&lt;chr&gt;</th><th scope=col>&lt;dbl&gt;</th></tr>\n",
       "</thead>\n",
       "<tbody>\n",
       "\t<tr><th scope=row>180</th><td>01/0329:MtbLys</td><td>CASSQFIGDTDQSDTQYF</td><td>0</td></tr>\n",
       "\t<tr><th scope=row>181</th><td>01/0882:MtbLys</td><td>CASSQFIGDTDQSDTQYF</td><td>0</td></tr>\n",
       "\t<tr><th scope=row>182</th><td>03/0480:MtbLys</td><td>CASSQFIGDTDQSDTQYF</td><td>0</td></tr>\n",
       "\t<tr><th scope=row>183</th><td>03/0493:MtbLys</td><td>CASSQFIGDTDQSDTQYF</td><td>0</td></tr>\n",
       "\t<tr><th scope=row>184</th><td>03/0302:MtbLys</td><td>CASSQFIGDTDQSDTQYF</td><td>0</td></tr>\n",
       "\t<tr><th scope=row>185</th><td>09/0334:MtbLys</td><td>CASSQFIGDTDQSDTQYF</td><td>0</td></tr>\n",
       "</tbody>\n",
       "</table>\n"
      ],
      "text/latex": [
       "A data.frame: 6 × 3\n",
       "\\begin{tabular}{r|lll}\n",
       "  & Sample & TcRb & xxx\\\\\n",
       "  & <chr> & <chr> & <dbl>\\\\\n",
       "\\hline\n",
       "\t180 & 01/0329:MtbLys & CASSQFIGDTDQSDTQYF & 0\\\\\n",
       "\t181 & 01/0882:MtbLys & CASSQFIGDTDQSDTQYF & 0\\\\\n",
       "\t182 & 03/0480:MtbLys & CASSQFIGDTDQSDTQYF & 0\\\\\n",
       "\t183 & 03/0493:MtbLys & CASSQFIGDTDQSDTQYF & 0\\\\\n",
       "\t184 & 03/0302:MtbLys & CASSQFIGDTDQSDTQYF & 0\\\\\n",
       "\t185 & 09/0334:MtbLys & CASSQFIGDTDQSDTQYF & 0\\\\\n",
       "\\end{tabular}\n"
      ],
      "text/markdown": [
       "\n",
       "A data.frame: 6 × 3\n",
       "\n",
       "| <!--/--> | Sample &lt;chr&gt; | TcRb &lt;chr&gt; | xxx &lt;dbl&gt; |\n",
       "|---|---|---|---|\n",
       "| 180 | 01/0329:MtbLys | CASSQFIGDTDQSDTQYF | 0 |\n",
       "| 181 | 01/0882:MtbLys | CASSQFIGDTDQSDTQYF | 0 |\n",
       "| 182 | 03/0480:MtbLys | CASSQFIGDTDQSDTQYF | 0 |\n",
       "| 183 | 03/0493:MtbLys | CASSQFIGDTDQSDTQYF | 0 |\n",
       "| 184 | 03/0302:MtbLys | CASSQFIGDTDQSDTQYF | 0 |\n",
       "| 185 | 09/0334:MtbLys | CASSQFIGDTDQSDTQYF | 0 |\n",
       "\n"
      ],
      "text/plain": [
       "    Sample         TcRb               xxx\n",
       "180 01/0329:MtbLys CASSQFIGDTDQSDTQYF 0  \n",
       "181 01/0882:MtbLys CASSQFIGDTDQSDTQYF 0  \n",
       "182 03/0480:MtbLys CASSQFIGDTDQSDTQYF 0  \n",
       "183 03/0493:MtbLys CASSQFIGDTDQSDTQYF 0  \n",
       "184 03/0302:MtbLys CASSQFIGDTDQSDTQYF 0  \n",
       "185 09/0334:MtbLys CASSQFIGDTDQSDTQYF 0  "
      ]
     },
     "metadata": {},
     "output_type": "display_data"
    }
   ],
   "source": [
    "tail(alluvialdf)"
   ]
  },
  {
   "cell_type": "code",
   "execution_count": 142,
   "metadata": {},
   "outputs": [
    {
     "data": {
      "text/html": [
       "923"
      ],
      "text/latex": [
       "923"
      ],
      "text/markdown": [
       "923"
      ],
      "text/plain": [
       "[1] 923"
      ]
     },
     "metadata": {},
     "output_type": "display_data"
    }
   ],
   "source": [
    "length(CDR3_fraction$samplename)"
   ]
  },
  {
   "cell_type": "code",
   "execution_count": 143,
   "metadata": {},
   "outputs": [
    {
     "data": {
      "text/html": [
       "<table class=\"dataframe\">\n",
       "<caption>A data.frame: 6 × 4</caption>\n",
       "<thead>\n",
       "\t<tr><th></th><th scope=col>samplename</th><th scope=col>nSeqCDR3</th><th scope=col>cloneFraction</th><th scope=col>cloneCount</th></tr>\n",
       "\t<tr><th></th><th scope=col>&lt;chr&gt;</th><th scope=col>&lt;chr&gt;</th><th scope=col>&lt;dbl&gt;</th><th scope=col>&lt;dbl&gt;</th></tr>\n",
       "</thead>\n",
       "<tbody>\n",
       "\t<tr><th scope=row>3</th><td>CHP_375-01-PBMC-DNA</td><td>TGTGCCAGCAGTGAACTAGCGGGGGGGTACAATGAGCAGTTCTTC   </td><td>0.2162162</td><td>8</td></tr>\n",
       "\t<tr><th scope=row>5</th><td>CHP_375-01-PBMC-DNA</td><td>TGTGCCAGTAGTCTTCACGGGGACAGGGGATTTTATGGCTACACCTTC</td><td>0.1351351</td><td>5</td></tr>\n",
       "\t<tr><th scope=row>6</th><td>CHP_375-01-PBMC-DNA</td><td>TGTGCCAGCAGTGACTCTAGCGGGGGGGCCAATGAGCAGTTCTTC   </td><td>0.1351351</td><td>5</td></tr>\n",
       "\t<tr><th scope=row>7</th><td>CHP_375-01-PBMC-DNA</td><td>TGTGCCAGCAGCCACAGGGGGTGGGTCAATCAGCCCCAGCATTTT   </td><td>0.1351351</td><td>5</td></tr>\n",
       "\t<tr><th scope=row>8</th><td>CHP_375-01-PBMC-DNA</td><td>TGTGCCAGCAGCTTAGGGGGGTACCAAGAGACCCAGTACTTC      </td><td>0.1351351</td><td>5</td></tr>\n",
       "\t<tr><th scope=row>9</th><td>CHP_375-01-PBMC-DNA</td><td>TGTGCCAGCAATCCGGGGCCGGGGGTTAACACTGAAGCTTTCTTT   </td><td>0.1081081</td><td>4</td></tr>\n",
       "</tbody>\n",
       "</table>\n"
      ],
      "text/latex": [
       "A data.frame: 6 × 4\n",
       "\\begin{tabular}{r|llll}\n",
       "  & samplename & nSeqCDR3 & cloneFraction & cloneCount\\\\\n",
       "  & <chr> & <chr> & <dbl> & <dbl>\\\\\n",
       "\\hline\n",
       "\t3 & CHP\\_375-01-PBMC-DNA & TGTGCCAGCAGTGAACTAGCGGGGGGGTACAATGAGCAGTTCTTC    & 0.2162162 & 8\\\\\n",
       "\t5 & CHP\\_375-01-PBMC-DNA & TGTGCCAGTAGTCTTCACGGGGACAGGGGATTTTATGGCTACACCTTC & 0.1351351 & 5\\\\\n",
       "\t6 & CHP\\_375-01-PBMC-DNA & TGTGCCAGCAGTGACTCTAGCGGGGGGGCCAATGAGCAGTTCTTC    & 0.1351351 & 5\\\\\n",
       "\t7 & CHP\\_375-01-PBMC-DNA & TGTGCCAGCAGCCACAGGGGGTGGGTCAATCAGCCCCAGCATTTT    & 0.1351351 & 5\\\\\n",
       "\t8 & CHP\\_375-01-PBMC-DNA & TGTGCCAGCAGCTTAGGGGGGTACCAAGAGACCCAGTACTTC       & 0.1351351 & 5\\\\\n",
       "\t9 & CHP\\_375-01-PBMC-DNA & TGTGCCAGCAATCCGGGGCCGGGGGTTAACACTGAAGCTTTCTTT    & 0.1081081 & 4\\\\\n",
       "\\end{tabular}\n"
      ],
      "text/markdown": [
       "\n",
       "A data.frame: 6 × 4\n",
       "\n",
       "| <!--/--> | samplename &lt;chr&gt; | nSeqCDR3 &lt;chr&gt; | cloneFraction &lt;dbl&gt; | cloneCount &lt;dbl&gt; |\n",
       "|---|---|---|---|---|\n",
       "| 3 | CHP_375-01-PBMC-DNA | TGTGCCAGCAGTGAACTAGCGGGGGGGTACAATGAGCAGTTCTTC    | 0.2162162 | 8 |\n",
       "| 5 | CHP_375-01-PBMC-DNA | TGTGCCAGTAGTCTTCACGGGGACAGGGGATTTTATGGCTACACCTTC | 0.1351351 | 5 |\n",
       "| 6 | CHP_375-01-PBMC-DNA | TGTGCCAGCAGTGACTCTAGCGGGGGGGCCAATGAGCAGTTCTTC    | 0.1351351 | 5 |\n",
       "| 7 | CHP_375-01-PBMC-DNA | TGTGCCAGCAGCCACAGGGGGTGGGTCAATCAGCCCCAGCATTTT    | 0.1351351 | 5 |\n",
       "| 8 | CHP_375-01-PBMC-DNA | TGTGCCAGCAGCTTAGGGGGGTACCAAGAGACCCAGTACTTC       | 0.1351351 | 5 |\n",
       "| 9 | CHP_375-01-PBMC-DNA | TGTGCCAGCAATCCGGGGCCGGGGGTTAACACTGAAGCTTTCTTT    | 0.1081081 | 4 |\n",
       "\n"
      ],
      "text/plain": [
       "  samplename          nSeqCDR3                                        \n",
       "3 CHP_375-01-PBMC-DNA TGTGCCAGCAGTGAACTAGCGGGGGGGTACAATGAGCAGTTCTTC   \n",
       "5 CHP_375-01-PBMC-DNA TGTGCCAGTAGTCTTCACGGGGACAGGGGATTTTATGGCTACACCTTC\n",
       "6 CHP_375-01-PBMC-DNA TGTGCCAGCAGTGACTCTAGCGGGGGGGCCAATGAGCAGTTCTTC   \n",
       "7 CHP_375-01-PBMC-DNA TGTGCCAGCAGCCACAGGGGGTGGGTCAATCAGCCCCAGCATTTT   \n",
       "8 CHP_375-01-PBMC-DNA TGTGCCAGCAGCTTAGGGGGGTACCAAGAGACCCAGTACTTC      \n",
       "9 CHP_375-01-PBMC-DNA TGTGCCAGCAATCCGGGGCCGGGGGTTAACACTGAAGCTTTCTTT   \n",
       "  cloneFraction cloneCount\n",
       "3 0.2162162     8         \n",
       "5 0.1351351     5         \n",
       "6 0.1351351     5         \n",
       "7 0.1351351     5         \n",
       "8 0.1351351     5         \n",
       "9 0.1081081     4         "
      ]
     },
     "metadata": {},
     "output_type": "display_data"
    }
   ],
   "source": [
    "head(CDR3_fraction)"
   ]
  },
  {
   "cell_type": "code",
   "execution_count": 144,
   "metadata": {
    "scrolled": true
   },
   "outputs": [
    {
     "data": {
      "image/png": "[encoded data removed]",
      "text/plain": [
       "plot without title"
      ]
     },
     "metadata": {
      "image/png": {
       "height": 420,
       "width": 420
      }
     },
     "output_type": "display_data"
    }
   ],
   "source": [
    "p <- ggplot(as.data.frame(CDR3_fraction), aes(x = samplename, y = cloneFraction, \n",
    "        fill = nSeqCDR3, stratum = nSeqCDR3, alluvium = nSeqCDR3, \n",
    "        label = nSeqCDR3))\n",
    "    myp <- p + geom_alluvium(decreasing = FALSE) + geom_stratum(decreasing = FALSE, \n",
    "        stat = \"alluvium\") + scale_fill_manual(breaks = names(myColors[myColors != \n",
    "        \"white\"]), values = myColors) + theme(axis.title.y = element_text(size = 50), \n",
    "        axis.title.x = element_blank(), axis.line = element_line(color = \"black\"), \n",
    "        axis.text = element_text(size = 50), axis.text.x = element_text(angle = 45, \n",
    "            hjust = 1), plot.title = element_text(size = 50, \n",
    "            hjust = 0.5)) + theme(panel.grid.major = element_blank(), \n",
    "        panel.grid.minor = element_blank(), panel.background = element_rect(fill = \"transparent\", \n",
    "            colour = NA), legend.key = element_rect(fill = \"white\", \n",
    "            colour = \"white\"), legend.position = \"none\", plot.margin = unit(c(0.2, \n",
    "            0, 0, 0), \"cm\")) \n",
    "\n",
    "    print(myp)"
   ]
  },
  {
   "cell_type": "code",
   "execution_count": null,
   "metadata": {},
   "outputs": [],
   "source": []
  }
 ],
 "metadata": {
  "kernelspec": {
   "display_name": "R 4.0",
   "language": "R",
   "name": "ir40"
  },
  "language_info": {
   "codemirror_mode": "r",
   "file_extension": ".r",
   "mimetype": "text/x-r-source",
   "name": "R",
   "pygments_lexer": "r",
   "version": "4.0.3"
  },
  "toc": {
   "base_numbering": 1,
   "nav_menu": {},
   "number_sections": false,
   "sideBar": true,
   "skip_h1_title": false,
   "title_cell": "Table of Contents",
   "title_sidebar": "Contents",
   "toc_cell": true,
   "toc_position": {
    "height": "calc(100% - 180px)",
    "left": "10px",
    "top": "150px",
    "width": "217.3px"
   },
   "toc_section_display": true,
   "toc_window_display": false
  }
 },
 "nbformat": 4,
 "nbformat_minor": 2
}
