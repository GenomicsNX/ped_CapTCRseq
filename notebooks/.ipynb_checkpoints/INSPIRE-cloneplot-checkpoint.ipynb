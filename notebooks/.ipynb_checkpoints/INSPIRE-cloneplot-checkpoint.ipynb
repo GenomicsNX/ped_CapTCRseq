{
 "cells": [
  {
   "cell_type": "markdown",
   "metadata": {
    "toc": true
   },
   "source": [
    "<h1>Table of Contents<span class=\"tocSkip\"></span></h1>\n",
    "<div class=\"toc\"><ul class=\"toc-item\"></ul></div>"
   ]
  },
  {
   "cell_type": "code",
   "execution_count": null,
   "metadata": {},
   "outputs": [],
   "source": []
  },
  {
   "cell_type": "code",
   "execution_count": 1,
   "metadata": {},
   "outputs": [
    {
     "name": "stderr",
     "output_type": "stream",
     "text": [
      "Warning message:\n",
      "“package ‘ggplot2’ was built under R version 3.5.2”Warning message:\n",
      "“package ‘dplyr’ was built under R version 3.5.2”\n",
      "Attaching package: ‘dplyr’\n",
      "\n",
      "The following objects are masked from ‘package:stats’:\n",
      "\n",
      "    filter, lag\n",
      "\n",
      "The following objects are masked from ‘package:base’:\n",
      "\n",
      "    intersect, setdiff, setequal, union\n",
      "\n",
      "\n",
      "Attaching package: ‘gridExtra’\n",
      "\n",
      "The following object is masked from ‘package:dplyr’:\n",
      "\n",
      "    combine\n",
      "\n"
     ]
    }
   ],
   "source": [
    "library(ggplot2)\n",
    "library(dplyr)\n",
    "library(gridExtra)"
   ]
  },
  {
   "cell_type": "code",
   "execution_count": 5,
   "metadata": {},
   "outputs": [],
   "source": [
    "clonplotfx <- function(inpath, plotpath, chain, patient_id){\n",
    "  flelst <- list.files(inpath, recursive = TRUE,\n",
    "                       pattern = paste(\"CLONES\", chain, sep = \"_\"))\n",
    "\n",
    "# subset to patient_id: in CHP_XXX format\n",
    "  ds_flelst_pt <- flelst[grepl(patient_id, flelst)]\n",
    "  i <- 1\n",
    "  for (f in ds_flelst_pt){\n",
    "    mixcrfle <- read.table(paste(inpath, f, sep = \"\"), \n",
    "                           header = TRUE, sep = \"\\t\",\n",
    "                           stringsAsFactors = FALSE,\n",
    "                           na.strings = c(\"\", \"NA\"))\n",
    "    #  if(nrow(mixcrfle) <= 1){next()}\n",
    "    if(i == 1){\n",
    "      compldfle <- mixcrfle\n",
    "      compldfle <- cbind(cloneno = row.names(compldfle), \n",
    "                         filename = f, \n",
    "                         compldfle)\n",
    "      i <- i + 1   \n",
    "    }\n",
    "    else{\n",
    "      compldfle1 <- mixcrfle\n",
    "      compldfle1 <- cbind(cloneno = row.names(compldfle1), \n",
    "                          filename = f, \n",
    "                          compldfle1)\n",
    "      compldfle <- rbind(compldfle, compldfle1)\n",
    "      rm(compldfle1)\n",
    "    }\n",
    "  }\n",
    "  compldfle$filename <- as.character(compldfle$filename)\n",
    "  compldfle$cloneno <-  as.character(compldfle$cloneno)\n",
    "\n",
    "\n",
    "  compldfle$filename <- gsub(paste(\".*\",\"INSPIRE_\", sep = \"\"), \"\", compldfle$filename)\n",
    "  compldfle$filename <- gsub(\"_TCR.*\", \"\", compldfle$filename)  \n",
    "  \n",
    "  compldfle$cloneno <- formatC(compldfle$cloneno, \n",
    "                               width=nchar(max(as.numeric(compldfle$cloneno))), flag=\"0\")\n",
    "  compldfle$filename <- factor(compldfle$filename,\n",
    "                              levels = unique(compldfle$filename[order(compldfle$filename)]))\n",
    "  \n",
    "    \n",
    "  compldfle <- compldfle[!is.na(compldfle$filename),]\n",
    "\n",
    "  clonenocol = rep(\"#d9d9d9\", \n",
    "                     nlevels(as.factor(compldfle$cloneno)))\n",
    "  \n",
    "  barpt <- ggplot(data = compldfle, \n",
    "                  aes(y = cloneFraction, \n",
    "                      x = filename, \n",
    "                      fill = cloneno)) + \n",
    "    geom_bar(colour = \"#000000\", stat=\"identity\") +\n",
    "    theme(axis.title.x = element_blank(),\n",
    "          axis.text.x = element_text(angle = 45, hjust = 1),\n",
    "          axis.line = element_line(color = \"black\"),\n",
    "          axis.text = element_text(size = 10),\n",
    "          axis.title = element_text(size = 10), \n",
    "          legend.position = \"none\") +\n",
    "    theme(panel.grid.major = element_blank(),\n",
    "          panel.grid.minor = element_blank(),\n",
    "          panel.background = element_rect(fill = \"transparent\",\n",
    "                                          colour = NA),\n",
    "          panel.border=element_blank(),\n",
    "          plot.margin = unit(c(0,0,0,0),\"cm\")) +\n",
    "    scale_fill_manual(values = clonenocol,\n",
    "                      guide = FALSE) \n",
    "    \n",
    "  pdf(file = paste(plotpath, \"clonplot\", chain, \n",
    "                   patient_id, \".pdf\", sep = \"\"),\n",
    "    width = 10, \n",
    "    height = 10,\n",
    "    useDingbats = FALSE)\n",
    "    print(barpt)\n",
    "    dev.off()  \n",
    "    \n",
    "    #return(barpt)\n",
    "}"
   ]
  },
  {
   "cell_type": "code",
   "execution_count": 6,
   "metadata": {},
   "outputs": [],
   "source": [
    "plotpath <- \"/Users/anabbi/OneDrive - UHN/Documents/INTERCEPT/Plots/\"\n",
    "datapath <- \"/Users/anabbi/OneDrive - UHN/Documents/INTERCEPT/INSPIRE/\""
   ]
  },
  {
   "cell_type": "code",
   "execution_count": 7,
   "metadata": {
    "scrolled": false
   },
   "outputs": [
    {
     "data": {
      "text/html": [
       "<strong>pdf:</strong> 2"
      ],
      "text/latex": [
       "\\textbf{pdf:} 2"
      ],
      "text/markdown": [
       "**pdf:** 2"
      ],
      "text/plain": [
       "pdf \n",
       "  2 "
      ]
     },
     "metadata": {},
     "output_type": "display_data"
    }
   ],
   "source": [
    "clonplotfx(datapath, plotpath, \"TRB\", \"INS-A-004\")"
   ]
  },
  {
   "cell_type": "code",
   "execution_count": null,
   "metadata": {},
   "outputs": [],
   "source": []
  }
 ],
 "metadata": {
  "kernelspec": {
   "display_name": "R",
   "language": "R",
   "name": "ir"
  },
  "language_info": {
   "codemirror_mode": "r",
   "file_extension": ".r",
   "mimetype": "text/x-r-source",
   "name": "R",
   "pygments_lexer": "r",
   "version": "3.5.1"
  },
  "toc": {
   "base_numbering": 1,
   "nav_menu": {},
   "number_sections": true,
   "sideBar": true,
   "skip_h1_title": false,
   "title_cell": "Table of Contents",
   "title_sidebar": "Contents",
   "toc_cell": true,
   "toc_position": {},
   "toc_section_display": true,
   "toc_window_display": false
  }
 },
 "nbformat": 4,
 "nbformat_minor": 2
}
