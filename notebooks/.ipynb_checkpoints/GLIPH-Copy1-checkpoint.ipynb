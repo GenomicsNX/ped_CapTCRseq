{
 "cells": [
  {
   "cell_type": "markdown",
   "metadata": {
    "toc": true
   },
   "source": [
    "<h1>Table of Contents<span class=\"tocSkip\"></span></h1>\n",
    "<div class=\"toc\"><ul class=\"toc-item\"><li><span><a href=\"#Dependencies\" data-toc-modified-id=\"Dependencies-1\">Dependencies</a></span></li><li><span><a href=\"#Functions\" data-toc-modified-id=\"Functions-2\">Functions</a></span></li><li><span><a href=\"#Paths\" data-toc-modified-id=\"Paths-3\">Paths</a></span></li><li><span><a href=\"#Main\" data-toc-modified-id=\"Main-4\">Main</a></span></li></ul></div>"
   ]
  },
  {
   "cell_type": "markdown",
   "metadata": {},
   "source": [
    "# Dependencies"
   ]
  },
  {
   "cell_type": "markdown",
   "metadata": {},
   "source": [
    "# Functions"
   ]
  },
  {
   "cell_type": "markdown",
   "metadata": {},
   "source": [
    "# Paths"
   ]
  },
  {
   "cell_type": "markdown",
   "metadata": {},
   "source": [
    "# Main"
   ]
  },
  {
   "cell_type": "markdown",
   "metadata": {},
   "source": [
    "Remove singletons and doubletons before putting in GLIPH. cite that ecology paper\n",
    "\n",
    "Remove nonproductive as they dont translate"
   ]
  },
  {
   "cell_type": "code",
   "execution_count": 46,
   "metadata": {},
   "outputs": [],
   "source": [
    "datapath <- \"/Users/anabbi/OneDrive - UHN/Documents/INTERCEPT/Data/GLIPH/\""
   ]
  },
  {
   "cell_type": "code",
   "execution_count": 49,
   "metadata": {},
   "outputs": [],
   "source": [
    "filelist <- list.files(datapath, pattern = \"ove10\")"
   ]
  },
  {
   "cell_type": "code",
   "execution_count": 51,
   "metadata": {},
   "outputs": [],
   "source": [
    "all.files <- lapply(filelist, function(f){ read.table(paste0(datapath,f), sep = \"\\t\", header = FALSE,\n",
    "                                                           stringsAsFactors = F)})"
   ]
  },
  {
   "cell_type": "code",
   "execution_count": 54,
   "metadata": {},
   "outputs": [],
   "source": [
    "filenames <- gsub(\"CLONES_TRB\", \"\", filelist)\n",
    "filenames <- gsub(\"_20000.*\", \"\", filenames)"
   ]
  },
  {
   "cell_type": "code",
   "execution_count": 56,
   "metadata": {},
   "outputs": [],
   "source": [
    "filelst <- mapply(cbind, all.files, \"filename\"=filenames, SIMPLIFY=F)"
   ]
  },
  {
   "cell_type": "code",
   "execution_count": 83,
   "metadata": {},
   "outputs": [],
   "source": [
    "gliph.df <- as.data.frame(do.call(rbind, filelst))"
   ]
  },
  {
   "cell_type": "code",
   "execution_count": 84,
   "metadata": {},
   "outputs": [],
   "source": [
    "gliph.df$filename <- as.character(gliph.df$filename)"
   ]
  },
  {
   "cell_type": "code",
   "execution_count": 85,
   "metadata": {},
   "outputs": [
    {
     "data": {
      "text/html": [
       "<table>\n",
       "<caption>A data.frame: 6 × 7</caption>\n",
       "<thead>\n",
       "\t<tr><th scope=col>V1</th><th scope=col>V2</th><th scope=col>V3</th><th scope=col>V4</th><th scope=col>V5</th><th scope=col>V6</th><th scope=col>filename</th></tr>\n",
       "\t<tr><th scope=col>&lt;chr&gt;</th><th scope=col>&lt;chr&gt;</th><th scope=col>&lt;chr&gt;</th><th scope=col>&lt;chr&gt;</th><th scope=col>&lt;chr&gt;</th><th scope=col>&lt;chr&gt;</th><th scope=col>&lt;chr&gt;</th></tr>\n",
       "</thead>\n",
       "<tbody>\n",
       "\t<tr><td>Motif</td><td>Counts</td><td>avgRef</td><td>topRef</td><td>OvE    </td><td>p-value</td><td>023-Blood          </td></tr>\n",
       "\t<tr><td>Motif</td><td>Counts</td><td>avgRef</td><td>topRef</td><td>OvE    </td><td>p-value</td><td>CHP_303-05-PBMC-DNA</td></tr>\n",
       "\t<tr><td>LGKE </td><td>3     </td><td>0.01  </td><td>1     </td><td>249.999</td><td>0.001  </td><td>CHP_303-05-PBMC-DNA</td></tr>\n",
       "\t<tr><td>LFFG </td><td>3     </td><td>0     </td><td>1     </td><td>3000   </td><td>0.001  </td><td>CHP_303-05-PBMC-DNA</td></tr>\n",
       "\t<tr><td>PTLR </td><td>3     </td><td>0.01  </td><td>1     </td><td>176.47 </td><td>0.001  </td><td>CHP_303-05-PBMC-DNA</td></tr>\n",
       "\t<tr><td>RLTV </td><td>3     </td><td>0.01  </td><td>1     </td><td>157.894</td><td>0.001  </td><td>CHP_303-05-PBMC-DNA</td></tr>\n",
       "</tbody>\n",
       "</table>\n"
      ],
      "text/latex": [
       "A data.frame: 6 × 7\n",
       "\\begin{tabular}{r|lllllll}\n",
       " V1 & V2 & V3 & V4 & V5 & V6 & filename\\\\\n",
       " <chr> & <chr> & <chr> & <chr> & <chr> & <chr> & <chr>\\\\\n",
       "\\hline\n",
       "\t Motif & Counts & avgRef & topRef & OvE     & p-value & 023-Blood          \\\\\n",
       "\t Motif & Counts & avgRef & topRef & OvE     & p-value & CHP\\_303-05-PBMC-DNA\\\\\n",
       "\t LGKE  & 3      & 0.01   & 1      & 249.999 & 0.001   & CHP\\_303-05-PBMC-DNA\\\\\n",
       "\t LFFG  & 3      & 0      & 1      & 3000    & 0.001   & CHP\\_303-05-PBMC-DNA\\\\\n",
       "\t PTLR  & 3      & 0.01   & 1      & 176.47  & 0.001   & CHP\\_303-05-PBMC-DNA\\\\\n",
       "\t RLTV  & 3      & 0.01   & 1      & 157.894 & 0.001   & CHP\\_303-05-PBMC-DNA\\\\\n",
       "\\end{tabular}\n"
      ],
      "text/markdown": [
       "\n",
       "A data.frame: 6 × 7\n",
       "\n",
       "| V1 &lt;chr&gt; | V2 &lt;chr&gt; | V3 &lt;chr&gt; | V4 &lt;chr&gt; | V5 &lt;chr&gt; | V6 &lt;chr&gt; | filename &lt;chr&gt; |\n",
       "|---|---|---|---|---|---|---|\n",
       "| Motif | Counts | avgRef | topRef | OvE     | p-value | 023-Blood           |\n",
       "| Motif | Counts | avgRef | topRef | OvE     | p-value | CHP_303-05-PBMC-DNA |\n",
       "| LGKE  | 3      | 0.01   | 1      | 249.999 | 0.001   | CHP_303-05-PBMC-DNA |\n",
       "| LFFG  | 3      | 0      | 1      | 3000    | 0.001   | CHP_303-05-PBMC-DNA |\n",
       "| PTLR  | 3      | 0.01   | 1      | 176.47  | 0.001   | CHP_303-05-PBMC-DNA |\n",
       "| RLTV  | 3      | 0.01   | 1      | 157.894 | 0.001   | CHP_303-05-PBMC-DNA |\n",
       "\n"
      ],
      "text/plain": [
       "  V1    V2     V3     V4     V5      V6      filename           \n",
       "1 Motif Counts avgRef topRef OvE     p-value 023-Blood          \n",
       "2 Motif Counts avgRef topRef OvE     p-value CHP_303-05-PBMC-DNA\n",
       "3 LGKE  3      0.01   1      249.999 0.001   CHP_303-05-PBMC-DNA\n",
       "4 LFFG  3      0      1      3000    0.001   CHP_303-05-PBMC-DNA\n",
       "5 PTLR  3      0.01   1      176.47  0.001   CHP_303-05-PBMC-DNA\n",
       "6 RLTV  3      0.01   1      157.894 0.001   CHP_303-05-PBMC-DNA"
      ]
     },
     "metadata": {},
     "output_type": "display_data"
    }
   ],
   "source": [
    "head(gliph.df)"
   ]
  },
  {
   "cell_type": "code",
   "execution_count": 86,
   "metadata": {},
   "outputs": [],
   "source": [
    "colnames(gliph.df) <- c(\"Motif\", \"Counts\", \"avgRef\", \"topRef\", \"OvE\", \"p-value\",\"samplename\")"
   ]
  },
  {
   "cell_type": "code",
   "execution_count": 87,
   "metadata": {},
   "outputs": [],
   "source": [
    "gliph.df <- gliph.df[gliph.df$Motif != \"Motif\", ]"
   ]
  },
  {
   "cell_type": "code",
   "execution_count": 88,
   "metadata": {},
   "outputs": [],
   "source": [
    "gliph.df$Counts <- as.numeric(gliph.df$Counts)"
   ]
  },
  {
   "cell_type": "code",
   "execution_count": 89,
   "metadata": {},
   "outputs": [
    {
     "data": {
      "text/plain": [
       "   Min. 1st Qu.  Median    Mean 3rd Qu.    Max. \n",
       "  3.000   3.000   3.000   3.511   4.000   8.000 "
      ]
     },
     "metadata": {},
     "output_type": "display_data"
    }
   ],
   "source": [
    "summary(gliph.df$Counts)"
   ]
  },
  {
   "cell_type": "code",
   "execution_count": 90,
   "metadata": {},
   "outputs": [
    {
     "data": {
      "text/plain": [
       "\n",
       "  CHP_303-05-PBMC-DNA   CHP_323-05-PBMC-DNA   CHP_331-05-PBMC-DNA \n",
       "                   32                     6                     1 \n",
       "  CHP_335-03-PBMC-DNA   CHP_338-03-PBMC-DNA   CHP_339-05-PBMC-DNA \n",
       "                    1                    22                     3 \n",
       "  CHP_340-05-PBMC-DNA   CHP_345-03-PBMC-DNA   CHP_347-01-PBMC-DNA \n",
       "                    5                     1                     1 \n",
       "  CHP_347-02-PBMC-DNA   CHP_348-01-PBMC-DNA   CHP_350-02-PBMC-DNA \n",
       "                    2                     1                     1 \n",
       "  CHP_353-01-PBMC-DNA   CHP_353-05-PBMC-DNA   CHP_357-01-PBMC-DNA \n",
       "                    1                     2                     1 \n",
       "  CHP_359-02-PBMC-DNA   CHP_361-01-PBMC-DNA   CHP_362-02-PBMC-DNA \n",
       "                    1                     1                     3 \n",
       "  CHP_364-01-PBMC-DNA   CHP_366-01-PBMC-DNA   CHP_368-04-PBMC-DNA \n",
       "                    1                     1                     1 \n",
       "  CHP_368-05-PBMC-DNA   CHP_370-05-PBMC-DNA      CHP_371-01-cfDNA \n",
       "                   28                     1                     4 \n",
       "  CHP_375-02-PBMC-DNA   CHP_376-03-PBMC-DNA   CHP_378-01-PBMC-DNA \n",
       "                    1                    24                    23 \n",
       "  CHP_380-03-PBMC-DNA   CHP_381-02-PBMC-DNA   CHP_387-01-PBMC-DNA \n",
       "                    1                     2                     1 \n",
       "  CHP_396-01-PBMC-DNA LFS_TCR-4570-PBMC-DNA LFS_TCR-4758-PBMC-DNA \n",
       "                    1                     1                     1 \n",
       "LFS_TCR-4759-PBMC-DNA LFS_TCR-4837-PBMC-DNA \n",
       "                    1                     5 "
      ]
     },
     "metadata": {},
     "output_type": "display_data"
    }
   ],
   "source": [
    "table(gliph.df$samplename)"
   ]
  },
  {
   "cell_type": "code",
   "execution_count": 73,
   "metadata": {
    "scrolled": true
   },
   "outputs": [
    {
     "data": {
      "text/html": [
       "<table>\n",
       "<caption>A data.frame: 182 × 7</caption>\n",
       "<thead>\n",
       "\t<tr><th></th><th scope=col>Motif</th><th scope=col>Counts</th><th scope=col>avgRef</th><th scope=col>topRef</th><th scope=col>OvE</th><th scope=col>p-value</th><th scope=col>samplename</th></tr>\n",
       "\t<tr><th></th><th scope=col>&lt;chr&gt;</th><th scope=col>&lt;dbl&gt;</th><th scope=col>&lt;chr&gt;</th><th scope=col>&lt;chr&gt;</th><th scope=col>&lt;chr&gt;</th><th scope=col>&lt;chr&gt;</th><th scope=col>&lt;fct&gt;</th></tr>\n",
       "</thead>\n",
       "<tbody>\n",
       "\t<tr><th scope=row>110</th><td>LRG </td><td>8</td><td>0.74</td><td>4</td><td>10.738  </td><td>0.001</td><td>CHP_347-01-PBMC-DNA  </td></tr>\n",
       "\t<tr><th scope=row>347</th><td>TNE </td><td>7</td><td>0.54</td><td>4</td><td>12.891  </td><td>0.001</td><td>LFS_TCR-4837-PBMC-DNA</td></tr>\n",
       "\t<tr><th scope=row>348</th><td>ATNE</td><td>7</td><td>0.18</td><td>2</td><td>38.674  </td><td>0.001</td><td>LFS_TCR-4837-PBMC-DNA</td></tr>\n",
       "\t<tr><th scope=row>349</th><td>ATN </td><td>7</td><td>0.24</td><td>3</td><td>29.045  </td><td>0.001</td><td>LFS_TCR-4837-PBMC-DNA</td></tr>\n",
       "\t<tr><th scope=row>350</th><td>TNEK</td><td>7</td><td>0.42</td><td>4</td><td>16.509  </td><td>0.001</td><td>LFS_TCR-4837-PBMC-DNA</td></tr>\n",
       "\t<tr><th scope=row>11</th><td>VLG </td><td>6</td><td>0.53</td><td>4</td><td>11.214  </td><td>0.001</td><td>CHP_303-05-PBMC-DNA  </td></tr>\n",
       "\t<tr><th scope=row>22</th><td>GEL </td><td>5</td><td>0.21</td><td>3</td><td>22.935  </td><td>0.001</td><td>CHP_303-05-PBMC-DNA  </td></tr>\n",
       "\t<tr><th scope=row>61</th><td>RMNT</td><td>5</td><td>0.33</td><td>4</td><td>14.97   </td><td>0.001</td><td>CHP_338-03-PBMC-DNA  </td></tr>\n",
       "\t<tr><th scope=row>72</th><td>RMN </td><td>5</td><td>0.37</td><td>4</td><td>13.192  </td><td>0.001</td><td>CHP_338-03-PBMC-DNA  </td></tr>\n",
       "\t<tr><th scope=row>126</th><td>YTG </td><td>5</td><td>0.47</td><td>4</td><td>10.615  </td><td>0.001</td><td>CHP_350-02-PBMC-DNA  </td></tr>\n",
       "\t<tr><th scope=row>165</th><td>AGGN</td><td>5</td><td>0.39</td><td>3</td><td>12.787  </td><td>0.001</td><td>CHP_359-02-PBMC-DNA  </td></tr>\n",
       "\t<tr><th scope=row>298</th><td>EVS </td><td>5</td><td>0.29</td><td>3</td><td>16.891  </td><td>0.001</td><td>CHP_378-01-PBMC-DNA  </td></tr>\n",
       "\t<tr><th scope=row>7</th><td>APES</td><td>4</td><td>0   </td><td>1</td><td>1333.333</td><td>0.001</td><td>CHP_303-05-PBMC-DNA  </td></tr>\n",
       "\t<tr><th scope=row>8</th><td>TVL </td><td>4</td><td>0.13</td><td>2</td><td>29.629  </td><td>0.001</td><td>CHP_303-05-PBMC-DNA  </td></tr>\n",
       "\t<tr><th scope=row>10</th><td>VGAP</td><td>4</td><td>0.01</td><td>1</td><td>363.636 </td><td>0.001</td><td>CHP_303-05-PBMC-DNA  </td></tr>\n",
       "\t<tr><th scope=row>17</th><td>TVLG</td><td>4</td><td>0.02</td><td>1</td><td>166.666 </td><td>0.001</td><td>CHP_303-05-PBMC-DNA  </td></tr>\n",
       "\t<tr><th scope=row>20</th><td>PES </td><td>4</td><td>0.08</td><td>2</td><td>47.058  </td><td>0.001</td><td>CHP_303-05-PBMC-DNA  </td></tr>\n",
       "\t<tr><th scope=row>31</th><td>APE </td><td>4</td><td>0.18</td><td>2</td><td>21.739  </td><td>0.001</td><td>CHP_303-05-PBMC-DNA  </td></tr>\n",
       "\t<tr><th scope=row>34</th><td>CP  </td><td>4</td><td>0.1 </td><td>2</td><td>38.834  </td><td>0.001</td><td>CHP_303-05-PBMC-DNA  </td></tr>\n",
       "\t<tr><th scope=row>43</th><td>QF  </td><td>4</td><td>0.23</td><td>3</td><td>17.316  </td><td>0.001</td><td>CHP_323-05-PBMC-DNA  </td></tr>\n",
       "\t<tr><th scope=row>50</th><td>SPY </td><td>4</td><td>0.26</td><td>3</td><td>15.384  </td><td>0.001</td><td>CHP_331-05-PBMC-DNA  </td></tr>\n",
       "\t<tr><th scope=row>52</th><td>LAR </td><td>4</td><td>0.3 </td><td>3</td><td>13.245  </td><td>0.001</td><td>CHP_335-03-PBMC-DNA  </td></tr>\n",
       "\t<tr><th scope=row>57</th><td>VLR </td><td>4</td><td>0.28</td><td>3</td><td>13.937  </td><td>0.001</td><td>CHP_338-03-PBMC-DNA  </td></tr>\n",
       "\t<tr><th scope=row>58</th><td>VLRG</td><td>4</td><td>0.07</td><td>3</td><td>53.333  </td><td>0.001</td><td>CHP_338-03-PBMC-DNA  </td></tr>\n",
       "\t<tr><th scope=row>59</th><td>AVL </td><td>4</td><td>0.26</td><td>3</td><td>14.869  </td><td>0.001</td><td>CHP_338-03-PBMC-DNA  </td></tr>\n",
       "\t<tr><th scope=row>80</th><td>TLR </td><td>4</td><td>0.18</td><td>3</td><td>21.621  </td><td>0.001</td><td>CHP_339-05-PBMC-DNA  </td></tr>\n",
       "\t<tr><th scope=row>82</th><td>SFE </td><td>4</td><td>0.31</td><td>3</td><td>12.903  </td><td>0.001</td><td>CHP_339-05-PBMC-DNA  </td></tr>\n",
       "\t<tr><th scope=row>87</th><td>TLR </td><td>4</td><td>0.39</td><td>3</td><td>10.126  </td><td>0.001</td><td>CHP_340-05-PBMC-DNA  </td></tr>\n",
       "\t<tr><th scope=row>88</th><td>TLRG</td><td>4</td><td>0.09</td><td>2</td><td>43.956  </td><td>0.001</td><td>CHP_340-05-PBMC-DNA  </td></tr>\n",
       "\t<tr><th scope=row>91</th><td>LRGA</td><td>4</td><td>0.21</td><td>3</td><td>18.433  </td><td>0.001</td><td>CHP_340-05-PBMC-DNA  </td></tr>\n",
       "\t<tr><th scope=row>⋮</th><td>⋮</td><td>⋮</td><td>⋮</td><td>⋮</td><td>⋮</td><td>⋮</td><td>⋮</td></tr>\n",
       "\t<tr><th scope=row>272</th><td>VLGK</td><td>3</td><td>0.01</td><td>1</td><td>249.999</td><td>0.001</td><td>CHP_376-03-PBMC-DNA</td></tr>\n",
       "\t<tr><th scope=row>273</th><td>TVLG</td><td>3</td><td>0.02</td><td>1</td><td>149.999</td><td>0.001</td><td>CHP_376-03-PBMC-DNA</td></tr>\n",
       "\t<tr><th scope=row>274</th><td>FFGE</td><td>3</td><td>0.01</td><td>1</td><td>199.999</td><td>0.001</td><td>CHP_376-03-PBMC-DNA</td></tr>\n",
       "\t<tr><th scope=row>275</th><td>ESSE</td><td>3</td><td>0   </td><td>1</td><td>1500   </td><td>0.001</td><td>CHP_376-03-PBMC-DNA</td></tr>\n",
       "\t<tr><th scope=row>276</th><td>CPT </td><td>3</td><td>0.01</td><td>2</td><td>199.999</td><td>0.001</td><td>CHP_376-03-PBMC-DNA</td></tr>\n",
       "\t<tr><th scope=row>279</th><td>LFF </td><td>3</td><td>0.02</td><td>1</td><td>119.999</td><td>0.001</td><td>CHP_376-03-PBMC-DNA</td></tr>\n",
       "\t<tr><th scope=row>280</th><td>AGWA</td><td>3</td><td>0.02</td><td>1</td><td>103.448</td><td>0.001</td><td>CHP_376-03-PBMC-DNA</td></tr>\n",
       "\t<tr><th scope=row>281</th><td>FGEG</td><td>3</td><td>0.01</td><td>1</td><td>157.894</td><td>0.001</td><td>CHP_376-03-PBMC-DNA</td></tr>\n",
       "\t<tr><th scope=row>282</th><td>AEVS</td><td>3</td><td>0   </td><td>1</td><td>1000   </td><td>0.001</td><td>CHP_376-03-PBMC-DNA</td></tr>\n",
       "\t<tr><th scope=row>283</th><td>SSC </td><td>3</td><td>0.01</td><td>1</td><td>176.47 </td><td>0.001</td><td>CHP_376-03-PBMC-DNA</td></tr>\n",
       "\t<tr><th scope=row>285</th><td>LTVL</td><td>3</td><td>0   </td><td>1</td><td>1000   </td><td>0.001</td><td>CHP_376-03-PBMC-DNA</td></tr>\n",
       "\t<tr><th scope=row>288</th><td>LGKE</td><td>3</td><td>0.02</td><td>1</td><td>115.384</td><td>0.001</td><td>CHP_378-01-PBMC-DNA</td></tr>\n",
       "\t<tr><th scope=row>289</th><td>AVLR</td><td>3</td><td>0   </td><td>1</td><td>500    </td><td>0.001</td><td>CHP_378-01-PBMC-DNA</td></tr>\n",
       "\t<tr><th scope=row>290</th><td>LFFG</td><td>3</td><td>0   </td><td>1</td><td>1000   </td><td>0.001</td><td>CHP_378-01-PBMC-DNA</td></tr>\n",
       "\t<tr><th scope=row>293</th><td>APES</td><td>3</td><td>0   </td><td>1</td><td>428.571</td><td>0.001</td><td>CHP_378-01-PBMC-DNA</td></tr>\n",
       "\t<tr><th scope=row>294</th><td>VGAP</td><td>3</td><td>0.02</td><td>1</td><td>119.999</td><td>0.001</td><td>CHP_378-01-PBMC-DNA</td></tr>\n",
       "\t<tr><th scope=row>295</th><td>SCP </td><td>3</td><td>0.01</td><td>1</td><td>187.499</td><td>0.001</td><td>CHP_378-01-PBMC-DNA</td></tr>\n",
       "\t<tr><th scope=row>296</th><td>KEAV</td><td>3</td><td>0   </td><td>1</td><td>600    </td><td>0.001</td><td>CHP_378-01-PBMC-DNA</td></tr>\n",
       "\t<tr><th scope=row>297</th><td>GKEA</td><td>3</td><td>0.01</td><td>1</td><td>249.999</td><td>0.001</td><td>CHP_378-01-PBMC-DNA</td></tr>\n",
       "\t<tr><th scope=row>299</th><td>VLGK</td><td>3</td><td>0.01</td><td>1</td><td>187.499</td><td>0.001</td><td>CHP_378-01-PBMC-DNA</td></tr>\n",
       "\t<tr><th scope=row>300</th><td>TVLG</td><td>3</td><td>0.02</td><td>1</td><td>103.448</td><td>0.001</td><td>CHP_378-01-PBMC-DNA</td></tr>\n",
       "\t<tr><th scope=row>301</th><td>FFGE</td><td>3</td><td>0.01</td><td>1</td><td>157.894</td><td>0.001</td><td>CHP_378-01-PBMC-DNA</td></tr>\n",
       "\t<tr><th scope=row>302</th><td>ESSE</td><td>3</td><td>0   </td><td>1</td><td>1000   </td><td>0.001</td><td>CHP_378-01-PBMC-DNA</td></tr>\n",
       "\t<tr><th scope=row>303</th><td>CPT </td><td>3</td><td>0.02</td><td>1</td><td>142.857</td><td>0.001</td><td>CHP_378-01-PBMC-DNA</td></tr>\n",
       "\t<tr><th scope=row>304</th><td>LFF </td><td>3</td><td>0.02</td><td>1</td><td>103.448</td><td>0.001</td><td>CHP_378-01-PBMC-DNA</td></tr>\n",
       "\t<tr><th scope=row>306</th><td>AGWA</td><td>3</td><td>0.02</td><td>1</td><td>111.111</td><td>0.001</td><td>CHP_378-01-PBMC-DNA</td></tr>\n",
       "\t<tr><th scope=row>307</th><td>FGEG</td><td>3</td><td>0.02</td><td>1</td><td>119.999</td><td>0.001</td><td>CHP_378-01-PBMC-DNA</td></tr>\n",
       "\t<tr><th scope=row>308</th><td>SSC </td><td>3</td><td>0.02</td><td>1</td><td>111.111</td><td>0.001</td><td>CHP_378-01-PBMC-DNA</td></tr>\n",
       "\t<tr><th scope=row>309</th><td>LTVL</td><td>3</td><td>0   </td><td>1</td><td>500    </td><td>0.001</td><td>CHP_378-01-PBMC-DNA</td></tr>\n",
       "\t<tr><th scope=row>310</th><td>GLYL</td><td>3</td><td>0   </td><td>1</td><td>1500   </td><td>0.001</td><td>CHP_378-01-PBMC-DNA</td></tr>\n",
       "</tbody>\n",
       "</table>\n"
      ],
      "text/latex": [
       "A data.frame: 182 × 7\n",
       "\\begin{tabular}{r|lllllll}\n",
       "  & Motif & Counts & avgRef & topRef & OvE & p-value & samplename\\\\\n",
       "  & <chr> & <dbl> & <chr> & <chr> & <chr> & <chr> & <fct>\\\\\n",
       "\\hline\n",
       "\t110 & LRG  & 8 & 0.74 & 4 & 10.738   & 0.001 & CHP\\_347-01-PBMC-DNA  \\\\\n",
       "\t347 & TNE  & 7 & 0.54 & 4 & 12.891   & 0.001 & LFS\\_TCR-4837-PBMC-DNA\\\\\n",
       "\t348 & ATNE & 7 & 0.18 & 2 & 38.674   & 0.001 & LFS\\_TCR-4837-PBMC-DNA\\\\\n",
       "\t349 & ATN  & 7 & 0.24 & 3 & 29.045   & 0.001 & LFS\\_TCR-4837-PBMC-DNA\\\\\n",
       "\t350 & TNEK & 7 & 0.42 & 4 & 16.509   & 0.001 & LFS\\_TCR-4837-PBMC-DNA\\\\\n",
       "\t11 & VLG  & 6 & 0.53 & 4 & 11.214   & 0.001 & CHP\\_303-05-PBMC-DNA  \\\\\n",
       "\t22 & GEL  & 5 & 0.21 & 3 & 22.935   & 0.001 & CHP\\_303-05-PBMC-DNA  \\\\\n",
       "\t61 & RMNT & 5 & 0.33 & 4 & 14.97    & 0.001 & CHP\\_338-03-PBMC-DNA  \\\\\n",
       "\t72 & RMN  & 5 & 0.37 & 4 & 13.192   & 0.001 & CHP\\_338-03-PBMC-DNA  \\\\\n",
       "\t126 & YTG  & 5 & 0.47 & 4 & 10.615   & 0.001 & CHP\\_350-02-PBMC-DNA  \\\\\n",
       "\t165 & AGGN & 5 & 0.39 & 3 & 12.787   & 0.001 & CHP\\_359-02-PBMC-DNA  \\\\\n",
       "\t298 & EVS  & 5 & 0.29 & 3 & 16.891   & 0.001 & CHP\\_378-01-PBMC-DNA  \\\\\n",
       "\t7 & APES & 4 & 0    & 1 & 1333.333 & 0.001 & CHP\\_303-05-PBMC-DNA  \\\\\n",
       "\t8 & TVL  & 4 & 0.13 & 2 & 29.629   & 0.001 & CHP\\_303-05-PBMC-DNA  \\\\\n",
       "\t10 & VGAP & 4 & 0.01 & 1 & 363.636  & 0.001 & CHP\\_303-05-PBMC-DNA  \\\\\n",
       "\t17 & TVLG & 4 & 0.02 & 1 & 166.666  & 0.001 & CHP\\_303-05-PBMC-DNA  \\\\\n",
       "\t20 & PES  & 4 & 0.08 & 2 & 47.058   & 0.001 & CHP\\_303-05-PBMC-DNA  \\\\\n",
       "\t31 & APE  & 4 & 0.18 & 2 & 21.739   & 0.001 & CHP\\_303-05-PBMC-DNA  \\\\\n",
       "\t34 & CP   & 4 & 0.1  & 2 & 38.834   & 0.001 & CHP\\_303-05-PBMC-DNA  \\\\\n",
       "\t43 & QF   & 4 & 0.23 & 3 & 17.316   & 0.001 & CHP\\_323-05-PBMC-DNA  \\\\\n",
       "\t50 & SPY  & 4 & 0.26 & 3 & 15.384   & 0.001 & CHP\\_331-05-PBMC-DNA  \\\\\n",
       "\t52 & LAR  & 4 & 0.3  & 3 & 13.245   & 0.001 & CHP\\_335-03-PBMC-DNA  \\\\\n",
       "\t57 & VLR  & 4 & 0.28 & 3 & 13.937   & 0.001 & CHP\\_338-03-PBMC-DNA  \\\\\n",
       "\t58 & VLRG & 4 & 0.07 & 3 & 53.333   & 0.001 & CHP\\_338-03-PBMC-DNA  \\\\\n",
       "\t59 & AVL  & 4 & 0.26 & 3 & 14.869   & 0.001 & CHP\\_338-03-PBMC-DNA  \\\\\n",
       "\t80 & TLR  & 4 & 0.18 & 3 & 21.621   & 0.001 & CHP\\_339-05-PBMC-DNA  \\\\\n",
       "\t82 & SFE  & 4 & 0.31 & 3 & 12.903   & 0.001 & CHP\\_339-05-PBMC-DNA  \\\\\n",
       "\t87 & TLR  & 4 & 0.39 & 3 & 10.126   & 0.001 & CHP\\_340-05-PBMC-DNA  \\\\\n",
       "\t88 & TLRG & 4 & 0.09 & 2 & 43.956   & 0.001 & CHP\\_340-05-PBMC-DNA  \\\\\n",
       "\t91 & LRGA & 4 & 0.21 & 3 & 18.433   & 0.001 & CHP\\_340-05-PBMC-DNA  \\\\\n",
       "\t⋮ & ⋮ & ⋮ & ⋮ & ⋮ & ⋮ & ⋮ & ⋮\\\\\n",
       "\t272 & VLGK & 3 & 0.01 & 1 & 249.999 & 0.001 & CHP\\_376-03-PBMC-DNA\\\\\n",
       "\t273 & TVLG & 3 & 0.02 & 1 & 149.999 & 0.001 & CHP\\_376-03-PBMC-DNA\\\\\n",
       "\t274 & FFGE & 3 & 0.01 & 1 & 199.999 & 0.001 & CHP\\_376-03-PBMC-DNA\\\\\n",
       "\t275 & ESSE & 3 & 0    & 1 & 1500    & 0.001 & CHP\\_376-03-PBMC-DNA\\\\\n",
       "\t276 & CPT  & 3 & 0.01 & 2 & 199.999 & 0.001 & CHP\\_376-03-PBMC-DNA\\\\\n",
       "\t279 & LFF  & 3 & 0.02 & 1 & 119.999 & 0.001 & CHP\\_376-03-PBMC-DNA\\\\\n",
       "\t280 & AGWA & 3 & 0.02 & 1 & 103.448 & 0.001 & CHP\\_376-03-PBMC-DNA\\\\\n",
       "\t281 & FGEG & 3 & 0.01 & 1 & 157.894 & 0.001 & CHP\\_376-03-PBMC-DNA\\\\\n",
       "\t282 & AEVS & 3 & 0    & 1 & 1000    & 0.001 & CHP\\_376-03-PBMC-DNA\\\\\n",
       "\t283 & SSC  & 3 & 0.01 & 1 & 176.47  & 0.001 & CHP\\_376-03-PBMC-DNA\\\\\n",
       "\t285 & LTVL & 3 & 0    & 1 & 1000    & 0.001 & CHP\\_376-03-PBMC-DNA\\\\\n",
       "\t288 & LGKE & 3 & 0.02 & 1 & 115.384 & 0.001 & CHP\\_378-01-PBMC-DNA\\\\\n",
       "\t289 & AVLR & 3 & 0    & 1 & 500     & 0.001 & CHP\\_378-01-PBMC-DNA\\\\\n",
       "\t290 & LFFG & 3 & 0    & 1 & 1000    & 0.001 & CHP\\_378-01-PBMC-DNA\\\\\n",
       "\t293 & APES & 3 & 0    & 1 & 428.571 & 0.001 & CHP\\_378-01-PBMC-DNA\\\\\n",
       "\t294 & VGAP & 3 & 0.02 & 1 & 119.999 & 0.001 & CHP\\_378-01-PBMC-DNA\\\\\n",
       "\t295 & SCP  & 3 & 0.01 & 1 & 187.499 & 0.001 & CHP\\_378-01-PBMC-DNA\\\\\n",
       "\t296 & KEAV & 3 & 0    & 1 & 600     & 0.001 & CHP\\_378-01-PBMC-DNA\\\\\n",
       "\t297 & GKEA & 3 & 0.01 & 1 & 249.999 & 0.001 & CHP\\_378-01-PBMC-DNA\\\\\n",
       "\t299 & VLGK & 3 & 0.01 & 1 & 187.499 & 0.001 & CHP\\_378-01-PBMC-DNA\\\\\n",
       "\t300 & TVLG & 3 & 0.02 & 1 & 103.448 & 0.001 & CHP\\_378-01-PBMC-DNA\\\\\n",
       "\t301 & FFGE & 3 & 0.01 & 1 & 157.894 & 0.001 & CHP\\_378-01-PBMC-DNA\\\\\n",
       "\t302 & ESSE & 3 & 0    & 1 & 1000    & 0.001 & CHP\\_378-01-PBMC-DNA\\\\\n",
       "\t303 & CPT  & 3 & 0.02 & 1 & 142.857 & 0.001 & CHP\\_378-01-PBMC-DNA\\\\\n",
       "\t304 & LFF  & 3 & 0.02 & 1 & 103.448 & 0.001 & CHP\\_378-01-PBMC-DNA\\\\\n",
       "\t306 & AGWA & 3 & 0.02 & 1 & 111.111 & 0.001 & CHP\\_378-01-PBMC-DNA\\\\\n",
       "\t307 & FGEG & 3 & 0.02 & 1 & 119.999 & 0.001 & CHP\\_378-01-PBMC-DNA\\\\\n",
       "\t308 & SSC  & 3 & 0.02 & 1 & 111.111 & 0.001 & CHP\\_378-01-PBMC-DNA\\\\\n",
       "\t309 & LTVL & 3 & 0    & 1 & 500     & 0.001 & CHP\\_378-01-PBMC-DNA\\\\\n",
       "\t310 & GLYL & 3 & 0    & 1 & 1500    & 0.001 & CHP\\_378-01-PBMC-DNA\\\\\n",
       "\\end{tabular}\n"
      ],
      "text/markdown": [
       "\n",
       "A data.frame: 182 × 7\n",
       "\n",
       "| <!--/--> | Motif &lt;chr&gt; | Counts &lt;dbl&gt; | avgRef &lt;chr&gt; | topRef &lt;chr&gt; | OvE &lt;chr&gt; | p-value &lt;chr&gt; | samplename &lt;fct&gt; |\n",
       "|---|---|---|---|---|---|---|---|\n",
       "| 110 | LRG  | 8 | 0.74 | 4 | 10.738   | 0.001 | CHP_347-01-PBMC-DNA   |\n",
       "| 347 | TNE  | 7 | 0.54 | 4 | 12.891   | 0.001 | LFS_TCR-4837-PBMC-DNA |\n",
       "| 348 | ATNE | 7 | 0.18 | 2 | 38.674   | 0.001 | LFS_TCR-4837-PBMC-DNA |\n",
       "| 349 | ATN  | 7 | 0.24 | 3 | 29.045   | 0.001 | LFS_TCR-4837-PBMC-DNA |\n",
       "| 350 | TNEK | 7 | 0.42 | 4 | 16.509   | 0.001 | LFS_TCR-4837-PBMC-DNA |\n",
       "| 11 | VLG  | 6 | 0.53 | 4 | 11.214   | 0.001 | CHP_303-05-PBMC-DNA   |\n",
       "| 22 | GEL  | 5 | 0.21 | 3 | 22.935   | 0.001 | CHP_303-05-PBMC-DNA   |\n",
       "| 61 | RMNT | 5 | 0.33 | 4 | 14.97    | 0.001 | CHP_338-03-PBMC-DNA   |\n",
       "| 72 | RMN  | 5 | 0.37 | 4 | 13.192   | 0.001 | CHP_338-03-PBMC-DNA   |\n",
       "| 126 | YTG  | 5 | 0.47 | 4 | 10.615   | 0.001 | CHP_350-02-PBMC-DNA   |\n",
       "| 165 | AGGN | 5 | 0.39 | 3 | 12.787   | 0.001 | CHP_359-02-PBMC-DNA   |\n",
       "| 298 | EVS  | 5 | 0.29 | 3 | 16.891   | 0.001 | CHP_378-01-PBMC-DNA   |\n",
       "| 7 | APES | 4 | 0    | 1 | 1333.333 | 0.001 | CHP_303-05-PBMC-DNA   |\n",
       "| 8 | TVL  | 4 | 0.13 | 2 | 29.629   | 0.001 | CHP_303-05-PBMC-DNA   |\n",
       "| 10 | VGAP | 4 | 0.01 | 1 | 363.636  | 0.001 | CHP_303-05-PBMC-DNA   |\n",
       "| 17 | TVLG | 4 | 0.02 | 1 | 166.666  | 0.001 | CHP_303-05-PBMC-DNA   |\n",
       "| 20 | PES  | 4 | 0.08 | 2 | 47.058   | 0.001 | CHP_303-05-PBMC-DNA   |\n",
       "| 31 | APE  | 4 | 0.18 | 2 | 21.739   | 0.001 | CHP_303-05-PBMC-DNA   |\n",
       "| 34 | CP   | 4 | 0.1  | 2 | 38.834   | 0.001 | CHP_303-05-PBMC-DNA   |\n",
       "| 43 | QF   | 4 | 0.23 | 3 | 17.316   | 0.001 | CHP_323-05-PBMC-DNA   |\n",
       "| 50 | SPY  | 4 | 0.26 | 3 | 15.384   | 0.001 | CHP_331-05-PBMC-DNA   |\n",
       "| 52 | LAR  | 4 | 0.3  | 3 | 13.245   | 0.001 | CHP_335-03-PBMC-DNA   |\n",
       "| 57 | VLR  | 4 | 0.28 | 3 | 13.937   | 0.001 | CHP_338-03-PBMC-DNA   |\n",
       "| 58 | VLRG | 4 | 0.07 | 3 | 53.333   | 0.001 | CHP_338-03-PBMC-DNA   |\n",
       "| 59 | AVL  | 4 | 0.26 | 3 | 14.869   | 0.001 | CHP_338-03-PBMC-DNA   |\n",
       "| 80 | TLR  | 4 | 0.18 | 3 | 21.621   | 0.001 | CHP_339-05-PBMC-DNA   |\n",
       "| 82 | SFE  | 4 | 0.31 | 3 | 12.903   | 0.001 | CHP_339-05-PBMC-DNA   |\n",
       "| 87 | TLR  | 4 | 0.39 | 3 | 10.126   | 0.001 | CHP_340-05-PBMC-DNA   |\n",
       "| 88 | TLRG | 4 | 0.09 | 2 | 43.956   | 0.001 | CHP_340-05-PBMC-DNA   |\n",
       "| 91 | LRGA | 4 | 0.21 | 3 | 18.433   | 0.001 | CHP_340-05-PBMC-DNA   |\n",
       "| ⋮ | ⋮ | ⋮ | ⋮ | ⋮ | ⋮ | ⋮ | ⋮ |\n",
       "| 272 | VLGK | 3 | 0.01 | 1 | 249.999 | 0.001 | CHP_376-03-PBMC-DNA |\n",
       "| 273 | TVLG | 3 | 0.02 | 1 | 149.999 | 0.001 | CHP_376-03-PBMC-DNA |\n",
       "| 274 | FFGE | 3 | 0.01 | 1 | 199.999 | 0.001 | CHP_376-03-PBMC-DNA |\n",
       "| 275 | ESSE | 3 | 0    | 1 | 1500    | 0.001 | CHP_376-03-PBMC-DNA |\n",
       "| 276 | CPT  | 3 | 0.01 | 2 | 199.999 | 0.001 | CHP_376-03-PBMC-DNA |\n",
       "| 279 | LFF  | 3 | 0.02 | 1 | 119.999 | 0.001 | CHP_376-03-PBMC-DNA |\n",
       "| 280 | AGWA | 3 | 0.02 | 1 | 103.448 | 0.001 | CHP_376-03-PBMC-DNA |\n",
       "| 281 | FGEG | 3 | 0.01 | 1 | 157.894 | 0.001 | CHP_376-03-PBMC-DNA |\n",
       "| 282 | AEVS | 3 | 0    | 1 | 1000    | 0.001 | CHP_376-03-PBMC-DNA |\n",
       "| 283 | SSC  | 3 | 0.01 | 1 | 176.47  | 0.001 | CHP_376-03-PBMC-DNA |\n",
       "| 285 | LTVL | 3 | 0    | 1 | 1000    | 0.001 | CHP_376-03-PBMC-DNA |\n",
       "| 288 | LGKE | 3 | 0.02 | 1 | 115.384 | 0.001 | CHP_378-01-PBMC-DNA |\n",
       "| 289 | AVLR | 3 | 0    | 1 | 500     | 0.001 | CHP_378-01-PBMC-DNA |\n",
       "| 290 | LFFG | 3 | 0    | 1 | 1000    | 0.001 | CHP_378-01-PBMC-DNA |\n",
       "| 293 | APES | 3 | 0    | 1 | 428.571 | 0.001 | CHP_378-01-PBMC-DNA |\n",
       "| 294 | VGAP | 3 | 0.02 | 1 | 119.999 | 0.001 | CHP_378-01-PBMC-DNA |\n",
       "| 295 | SCP  | 3 | 0.01 | 1 | 187.499 | 0.001 | CHP_378-01-PBMC-DNA |\n",
       "| 296 | KEAV | 3 | 0    | 1 | 600     | 0.001 | CHP_378-01-PBMC-DNA |\n",
       "| 297 | GKEA | 3 | 0.01 | 1 | 249.999 | 0.001 | CHP_378-01-PBMC-DNA |\n",
       "| 299 | VLGK | 3 | 0.01 | 1 | 187.499 | 0.001 | CHP_378-01-PBMC-DNA |\n",
       "| 300 | TVLG | 3 | 0.02 | 1 | 103.448 | 0.001 | CHP_378-01-PBMC-DNA |\n",
       "| 301 | FFGE | 3 | 0.01 | 1 | 157.894 | 0.001 | CHP_378-01-PBMC-DNA |\n",
       "| 302 | ESSE | 3 | 0    | 1 | 1000    | 0.001 | CHP_378-01-PBMC-DNA |\n",
       "| 303 | CPT  | 3 | 0.02 | 1 | 142.857 | 0.001 | CHP_378-01-PBMC-DNA |\n",
       "| 304 | LFF  | 3 | 0.02 | 1 | 103.448 | 0.001 | CHP_378-01-PBMC-DNA |\n",
       "| 306 | AGWA | 3 | 0.02 | 1 | 111.111 | 0.001 | CHP_378-01-PBMC-DNA |\n",
       "| 307 | FGEG | 3 | 0.02 | 1 | 119.999 | 0.001 | CHP_378-01-PBMC-DNA |\n",
       "| 308 | SSC  | 3 | 0.02 | 1 | 111.111 | 0.001 | CHP_378-01-PBMC-DNA |\n",
       "| 309 | LTVL | 3 | 0    | 1 | 500     | 0.001 | CHP_378-01-PBMC-DNA |\n",
       "| 310 | GLYL | 3 | 0    | 1 | 1500    | 0.001 | CHP_378-01-PBMC-DNA |\n",
       "\n"
      ],
      "text/plain": [
       "    Motif Counts avgRef topRef OvE      p-value samplename           \n",
       "110 LRG   8      0.74   4      10.738   0.001   CHP_347-01-PBMC-DNA  \n",
       "347 TNE   7      0.54   4      12.891   0.001   LFS_TCR-4837-PBMC-DNA\n",
       "348 ATNE  7      0.18   2      38.674   0.001   LFS_TCR-4837-PBMC-DNA\n",
       "349 ATN   7      0.24   3      29.045   0.001   LFS_TCR-4837-PBMC-DNA\n",
       "350 TNEK  7      0.42   4      16.509   0.001   LFS_TCR-4837-PBMC-DNA\n",
       "11  VLG   6      0.53   4      11.214   0.001   CHP_303-05-PBMC-DNA  \n",
       "22  GEL   5      0.21   3      22.935   0.001   CHP_303-05-PBMC-DNA  \n",
       "61  RMNT  5      0.33   4      14.97    0.001   CHP_338-03-PBMC-DNA  \n",
       "72  RMN   5      0.37   4      13.192   0.001   CHP_338-03-PBMC-DNA  \n",
       "126 YTG   5      0.47   4      10.615   0.001   CHP_350-02-PBMC-DNA  \n",
       "165 AGGN  5      0.39   3      12.787   0.001   CHP_359-02-PBMC-DNA  \n",
       "298 EVS   5      0.29   3      16.891   0.001   CHP_378-01-PBMC-DNA  \n",
       "7   APES  4      0      1      1333.333 0.001   CHP_303-05-PBMC-DNA  \n",
       "8   TVL   4      0.13   2      29.629   0.001   CHP_303-05-PBMC-DNA  \n",
       "10  VGAP  4      0.01   1      363.636  0.001   CHP_303-05-PBMC-DNA  \n",
       "17  TVLG  4      0.02   1      166.666  0.001   CHP_303-05-PBMC-DNA  \n",
       "20  PES   4      0.08   2      47.058   0.001   CHP_303-05-PBMC-DNA  \n",
       "31  APE   4      0.18   2      21.739   0.001   CHP_303-05-PBMC-DNA  \n",
       "34  CP    4      0.1    2      38.834   0.001   CHP_303-05-PBMC-DNA  \n",
       "43  QF    4      0.23   3      17.316   0.001   CHP_323-05-PBMC-DNA  \n",
       "50  SPY   4      0.26   3      15.384   0.001   CHP_331-05-PBMC-DNA  \n",
       "52  LAR   4      0.3    3      13.245   0.001   CHP_335-03-PBMC-DNA  \n",
       "57  VLR   4      0.28   3      13.937   0.001   CHP_338-03-PBMC-DNA  \n",
       "58  VLRG  4      0.07   3      53.333   0.001   CHP_338-03-PBMC-DNA  \n",
       "59  AVL   4      0.26   3      14.869   0.001   CHP_338-03-PBMC-DNA  \n",
       "80  TLR   4      0.18   3      21.621   0.001   CHP_339-05-PBMC-DNA  \n",
       "82  SFE   4      0.31   3      12.903   0.001   CHP_339-05-PBMC-DNA  \n",
       "87  TLR   4      0.39   3      10.126   0.001   CHP_340-05-PBMC-DNA  \n",
       "88  TLRG  4      0.09   2      43.956   0.001   CHP_340-05-PBMC-DNA  \n",
       "91  LRGA  4      0.21   3      18.433   0.001   CHP_340-05-PBMC-DNA  \n",
       "⋮   ⋮     ⋮      ⋮      ⋮      ⋮        ⋮       ⋮                    \n",
       "272 VLGK  3      0.01   1      249.999  0.001   CHP_376-03-PBMC-DNA  \n",
       "273 TVLG  3      0.02   1      149.999  0.001   CHP_376-03-PBMC-DNA  \n",
       "274 FFGE  3      0.01   1      199.999  0.001   CHP_376-03-PBMC-DNA  \n",
       "275 ESSE  3      0      1      1500     0.001   CHP_376-03-PBMC-DNA  \n",
       "276 CPT   3      0.01   2      199.999  0.001   CHP_376-03-PBMC-DNA  \n",
       "279 LFF   3      0.02   1      119.999  0.001   CHP_376-03-PBMC-DNA  \n",
       "280 AGWA  3      0.02   1      103.448  0.001   CHP_376-03-PBMC-DNA  \n",
       "281 FGEG  3      0.01   1      157.894  0.001   CHP_376-03-PBMC-DNA  \n",
       "282 AEVS  3      0      1      1000     0.001   CHP_376-03-PBMC-DNA  \n",
       "283 SSC   3      0.01   1      176.47   0.001   CHP_376-03-PBMC-DNA  \n",
       "285 LTVL  3      0      1      1000     0.001   CHP_376-03-PBMC-DNA  \n",
       "288 LGKE  3      0.02   1      115.384  0.001   CHP_378-01-PBMC-DNA  \n",
       "289 AVLR  3      0      1      500      0.001   CHP_378-01-PBMC-DNA  \n",
       "290 LFFG  3      0      1      1000     0.001   CHP_378-01-PBMC-DNA  \n",
       "293 APES  3      0      1      428.571  0.001   CHP_378-01-PBMC-DNA  \n",
       "294 VGAP  3      0.02   1      119.999  0.001   CHP_378-01-PBMC-DNA  \n",
       "295 SCP   3      0.01   1      187.499  0.001   CHP_378-01-PBMC-DNA  \n",
       "296 KEAV  3      0      1      600      0.001   CHP_378-01-PBMC-DNA  \n",
       "297 GKEA  3      0.01   1      249.999  0.001   CHP_378-01-PBMC-DNA  \n",
       "299 VLGK  3      0.01   1      187.499  0.001   CHP_378-01-PBMC-DNA  \n",
       "300 TVLG  3      0.02   1      103.448  0.001   CHP_378-01-PBMC-DNA  \n",
       "301 FFGE  3      0.01   1      157.894  0.001   CHP_378-01-PBMC-DNA  \n",
       "302 ESSE  3      0      1      1000     0.001   CHP_378-01-PBMC-DNA  \n",
       "303 CPT   3      0.02   1      142.857  0.001   CHP_378-01-PBMC-DNA  \n",
       "304 LFF   3      0.02   1      103.448  0.001   CHP_378-01-PBMC-DNA  \n",
       "306 AGWA  3      0.02   1      111.111  0.001   CHP_378-01-PBMC-DNA  \n",
       "307 FGEG  3      0.02   1      119.999  0.001   CHP_378-01-PBMC-DNA  \n",
       "308 SSC   3      0.02   1      111.111  0.001   CHP_378-01-PBMC-DNA  \n",
       "309 LTVL  3      0      1      500      0.001   CHP_378-01-PBMC-DNA  \n",
       "310 GLYL  3      0      1      1500     0.001   CHP_378-01-PBMC-DNA  "
      ]
     },
     "metadata": {},
     "output_type": "display_data"
    }
   ],
   "source": [
    "gliph.df[order(gliph.df$Counts, decreasing = T),]"
   ]
  },
  {
   "cell_type": "code",
   "execution_count": 92,
   "metadata": {},
   "outputs": [
    {
     "data": {
      "text/html": [
       "<table>\n",
       "<caption>A data.frame: 4 × 7</caption>\n",
       "<thead>\n",
       "\t<tr><th></th><th scope=col>Motif</th><th scope=col>Counts</th><th scope=col>avgRef</th><th scope=col>topRef</th><th scope=col>OvE</th><th scope=col>p-value</th><th scope=col>samplename</th></tr>\n",
       "\t<tr><th></th><th scope=col>&lt;chr&gt;</th><th scope=col>&lt;dbl&gt;</th><th scope=col>&lt;chr&gt;</th><th scope=col>&lt;chr&gt;</th><th scope=col>&lt;chr&gt;</th><th scope=col>&lt;chr&gt;</th><th scope=col>&lt;chr&gt;</th></tr>\n",
       "</thead>\n",
       "<tbody>\n",
       "\t<tr><th scope=row>344</th><td>TNE </td><td>4</td><td>0.33</td><td>3</td><td>11.904</td><td>0.001</td><td>LFS_TCR-4759-PBMC-DNA</td></tr>\n",
       "\t<tr><th scope=row>347</th><td>TNE </td><td>7</td><td>0.54</td><td>4</td><td>12.891</td><td>0.001</td><td>LFS_TCR-4837-PBMC-DNA</td></tr>\n",
       "\t<tr><th scope=row>348</th><td>ATNE</td><td>7</td><td>0.18</td><td>2</td><td>38.674</td><td>0.001</td><td>LFS_TCR-4837-PBMC-DNA</td></tr>\n",
       "\t<tr><th scope=row>350</th><td>TNEK</td><td>7</td><td>0.42</td><td>4</td><td>16.509</td><td>0.001</td><td>LFS_TCR-4837-PBMC-DNA</td></tr>\n",
       "</tbody>\n",
       "</table>\n"
      ],
      "text/latex": [
       "A data.frame: 4 × 7\n",
       "\\begin{tabular}{r|lllllll}\n",
       "  & Motif & Counts & avgRef & topRef & OvE & p-value & samplename\\\\\n",
       "  & <chr> & <dbl> & <chr> & <chr> & <chr> & <chr> & <chr>\\\\\n",
       "\\hline\n",
       "\t344 & TNE  & 4 & 0.33 & 3 & 11.904 & 0.001 & LFS\\_TCR-4759-PBMC-DNA\\\\\n",
       "\t347 & TNE  & 7 & 0.54 & 4 & 12.891 & 0.001 & LFS\\_TCR-4837-PBMC-DNA\\\\\n",
       "\t348 & ATNE & 7 & 0.18 & 2 & 38.674 & 0.001 & LFS\\_TCR-4837-PBMC-DNA\\\\\n",
       "\t350 & TNEK & 7 & 0.42 & 4 & 16.509 & 0.001 & LFS\\_TCR-4837-PBMC-DNA\\\\\n",
       "\\end{tabular}\n"
      ],
      "text/markdown": [
       "\n",
       "A data.frame: 4 × 7\n",
       "\n",
       "| <!--/--> | Motif &lt;chr&gt; | Counts &lt;dbl&gt; | avgRef &lt;chr&gt; | topRef &lt;chr&gt; | OvE &lt;chr&gt; | p-value &lt;chr&gt; | samplename &lt;chr&gt; |\n",
       "|---|---|---|---|---|---|---|---|\n",
       "| 344 | TNE  | 4 | 0.33 | 3 | 11.904 | 0.001 | LFS_TCR-4759-PBMC-DNA |\n",
       "| 347 | TNE  | 7 | 0.54 | 4 | 12.891 | 0.001 | LFS_TCR-4837-PBMC-DNA |\n",
       "| 348 | ATNE | 7 | 0.18 | 2 | 38.674 | 0.001 | LFS_TCR-4837-PBMC-DNA |\n",
       "| 350 | TNEK | 7 | 0.42 | 4 | 16.509 | 0.001 | LFS_TCR-4837-PBMC-DNA |\n",
       "\n"
      ],
      "text/plain": [
       "    Motif Counts avgRef topRef OvE    p-value samplename           \n",
       "344 TNE   4      0.33   3      11.904 0.001   LFS_TCR-4759-PBMC-DNA\n",
       "347 TNE   7      0.54   4      12.891 0.001   LFS_TCR-4837-PBMC-DNA\n",
       "348 ATNE  7      0.18   2      38.674 0.001   LFS_TCR-4837-PBMC-DNA\n",
       "350 TNEK  7      0.42   4      16.509 0.001   LFS_TCR-4837-PBMC-DNA"
      ]
     },
     "metadata": {},
     "output_type": "display_data"
    }
   ],
   "source": [
    "gliph.df[grepl(\"TNE\",gliph.df$Motif), ]"
   ]
  },
  {
   "cell_type": "code",
   "execution_count": 78,
   "metadata": {},
   "outputs": [
    {
     "data": {
      "text/html": [
       "<table>\n",
       "<caption>A data.frame: 5 × 7</caption>\n",
       "<thead>\n",
       "\t<tr><th></th><th scope=col>Motif</th><th scope=col>Counts</th><th scope=col>avgRef</th><th scope=col>topRef</th><th scope=col>OvE</th><th scope=col>p-value</th><th scope=col>samplename</th></tr>\n",
       "\t<tr><th></th><th scope=col>&lt;chr&gt;</th><th scope=col>&lt;dbl&gt;</th><th scope=col>&lt;chr&gt;</th><th scope=col>&lt;chr&gt;</th><th scope=col>&lt;chr&gt;</th><th scope=col>&lt;chr&gt;</th><th scope=col>&lt;fct&gt;</th></tr>\n",
       "</thead>\n",
       "<tbody>\n",
       "\t<tr><th scope=row>27</th><td>FGEG</td><td>3</td><td>0.01</td><td>1</td><td>249.999</td><td>0.001</td><td>CHP_303-05-PBMC-DNA</td></tr>\n",
       "\t<tr><th scope=row>71</th><td>FGEG</td><td>3</td><td>0.01</td><td>1</td><td>157.894</td><td>0.001</td><td>CHP_338-03-PBMC-DNA</td></tr>\n",
       "\t<tr><th scope=row>226</th><td>FGEG</td><td>3</td><td>0.01</td><td>1</td><td>214.285</td><td>0.001</td><td>CHP_368-05-PBMC-DNA</td></tr>\n",
       "\t<tr><th scope=row>281</th><td>FGEG</td><td>3</td><td>0.01</td><td>1</td><td>157.894</td><td>0.001</td><td>CHP_376-03-PBMC-DNA</td></tr>\n",
       "\t<tr><th scope=row>307</th><td>FGEG</td><td>3</td><td>0.02</td><td>1</td><td>119.999</td><td>0.001</td><td>CHP_378-01-PBMC-DNA</td></tr>\n",
       "</tbody>\n",
       "</table>\n"
      ],
      "text/latex": [
       "A data.frame: 5 × 7\n",
       "\\begin{tabular}{r|lllllll}\n",
       "  & Motif & Counts & avgRef & topRef & OvE & p-value & samplename\\\\\n",
       "  & <chr> & <dbl> & <chr> & <chr> & <chr> & <chr> & <fct>\\\\\n",
       "\\hline\n",
       "\t27 & FGEG & 3 & 0.01 & 1 & 249.999 & 0.001 & CHP\\_303-05-PBMC-DNA\\\\\n",
       "\t71 & FGEG & 3 & 0.01 & 1 & 157.894 & 0.001 & CHP\\_338-03-PBMC-DNA\\\\\n",
       "\t226 & FGEG & 3 & 0.01 & 1 & 214.285 & 0.001 & CHP\\_368-05-PBMC-DNA\\\\\n",
       "\t281 & FGEG & 3 & 0.01 & 1 & 157.894 & 0.001 & CHP\\_376-03-PBMC-DNA\\\\\n",
       "\t307 & FGEG & 3 & 0.02 & 1 & 119.999 & 0.001 & CHP\\_378-01-PBMC-DNA\\\\\n",
       "\\end{tabular}\n"
      ],
      "text/markdown": [
       "\n",
       "A data.frame: 5 × 7\n",
       "\n",
       "| <!--/--> | Motif &lt;chr&gt; | Counts &lt;dbl&gt; | avgRef &lt;chr&gt; | topRef &lt;chr&gt; | OvE &lt;chr&gt; | p-value &lt;chr&gt; | samplename &lt;fct&gt; |\n",
       "|---|---|---|---|---|---|---|---|\n",
       "| 27 | FGEG | 3 | 0.01 | 1 | 249.999 | 0.001 | CHP_303-05-PBMC-DNA |\n",
       "| 71 | FGEG | 3 | 0.01 | 1 | 157.894 | 0.001 | CHP_338-03-PBMC-DNA |\n",
       "| 226 | FGEG | 3 | 0.01 | 1 | 214.285 | 0.001 | CHP_368-05-PBMC-DNA |\n",
       "| 281 | FGEG | 3 | 0.01 | 1 | 157.894 | 0.001 | CHP_376-03-PBMC-DNA |\n",
       "| 307 | FGEG | 3 | 0.02 | 1 | 119.999 | 0.001 | CHP_378-01-PBMC-DNA |\n",
       "\n"
      ],
      "text/plain": [
       "    Motif Counts avgRef topRef OvE     p-value samplename         \n",
       "27  FGEG  3      0.01   1      249.999 0.001   CHP_303-05-PBMC-DNA\n",
       "71  FGEG  3      0.01   1      157.894 0.001   CHP_338-03-PBMC-DNA\n",
       "226 FGEG  3      0.01   1      214.285 0.001   CHP_368-05-PBMC-DNA\n",
       "281 FGEG  3      0.01   1      157.894 0.001   CHP_376-03-PBMC-DNA\n",
       "307 FGEG  3      0.02   1      119.999 0.001   CHP_378-01-PBMC-DNA"
      ]
     },
     "metadata": {},
     "output_type": "display_data"
    }
   ],
   "source": [
    "gliph.df[gliph.df$Motif == \"FGEG\", ]"
   ]
  },
  {
   "cell_type": "code",
   "execution_count": 94,
   "metadata": {},
   "outputs": [
    {
     "data": {
      "text/html": [
       "<table>\n",
       "<caption>A data.frame: 5 × 7</caption>\n",
       "<thead>\n",
       "\t<tr><th></th><th scope=col>Motif</th><th scope=col>Counts</th><th scope=col>avgRef</th><th scope=col>topRef</th><th scope=col>OvE</th><th scope=col>p-value</th><th scope=col>samplename</th></tr>\n",
       "\t<tr><th></th><th scope=col>&lt;chr&gt;</th><th scope=col>&lt;dbl&gt;</th><th scope=col>&lt;chr&gt;</th><th scope=col>&lt;chr&gt;</th><th scope=col>&lt;chr&gt;</th><th scope=col>&lt;chr&gt;</th><th scope=col>&lt;chr&gt;</th></tr>\n",
       "</thead>\n",
       "<tbody>\n",
       "\t<tr><th scope=row>21</th><td>CPT</td><td>3</td><td>0   </td><td>1</td><td>428.571</td><td>0.001</td><td>CHP_303-05-PBMC-DNA</td></tr>\n",
       "\t<tr><th scope=row>69</th><td>CPT</td><td>3</td><td>0.02</td><td>1</td><td>115.384</td><td>0.001</td><td>CHP_338-03-PBMC-DNA</td></tr>\n",
       "\t<tr><th scope=row>222</th><td>CPT</td><td>3</td><td>0.01</td><td>2</td><td>199.999</td><td>0.001</td><td>CHP_368-05-PBMC-DNA</td></tr>\n",
       "\t<tr><th scope=row>276</th><td>CPT</td><td>3</td><td>0.01</td><td>2</td><td>199.999</td><td>0.001</td><td>CHP_376-03-PBMC-DNA</td></tr>\n",
       "\t<tr><th scope=row>303</th><td>CPT</td><td>3</td><td>0.02</td><td>1</td><td>142.857</td><td>0.001</td><td>CHP_378-01-PBMC-DNA</td></tr>\n",
       "</tbody>\n",
       "</table>\n"
      ],
      "text/latex": [
       "A data.frame: 5 × 7\n",
       "\\begin{tabular}{r|lllllll}\n",
       "  & Motif & Counts & avgRef & topRef & OvE & p-value & samplename\\\\\n",
       "  & <chr> & <dbl> & <chr> & <chr> & <chr> & <chr> & <chr>\\\\\n",
       "\\hline\n",
       "\t21 & CPT & 3 & 0    & 1 & 428.571 & 0.001 & CHP\\_303-05-PBMC-DNA\\\\\n",
       "\t69 & CPT & 3 & 0.02 & 1 & 115.384 & 0.001 & CHP\\_338-03-PBMC-DNA\\\\\n",
       "\t222 & CPT & 3 & 0.01 & 2 & 199.999 & 0.001 & CHP\\_368-05-PBMC-DNA\\\\\n",
       "\t276 & CPT & 3 & 0.01 & 2 & 199.999 & 0.001 & CHP\\_376-03-PBMC-DNA\\\\\n",
       "\t303 & CPT & 3 & 0.02 & 1 & 142.857 & 0.001 & CHP\\_378-01-PBMC-DNA\\\\\n",
       "\\end{tabular}\n"
      ],
      "text/markdown": [
       "\n",
       "A data.frame: 5 × 7\n",
       "\n",
       "| <!--/--> | Motif &lt;chr&gt; | Counts &lt;dbl&gt; | avgRef &lt;chr&gt; | topRef &lt;chr&gt; | OvE &lt;chr&gt; | p-value &lt;chr&gt; | samplename &lt;chr&gt; |\n",
       "|---|---|---|---|---|---|---|---|\n",
       "| 21 | CPT | 3 | 0    | 1 | 428.571 | 0.001 | CHP_303-05-PBMC-DNA |\n",
       "| 69 | CPT | 3 | 0.02 | 1 | 115.384 | 0.001 | CHP_338-03-PBMC-DNA |\n",
       "| 222 | CPT | 3 | 0.01 | 2 | 199.999 | 0.001 | CHP_368-05-PBMC-DNA |\n",
       "| 276 | CPT | 3 | 0.01 | 2 | 199.999 | 0.001 | CHP_376-03-PBMC-DNA |\n",
       "| 303 | CPT | 3 | 0.02 | 1 | 142.857 | 0.001 | CHP_378-01-PBMC-DNA |\n",
       "\n"
      ],
      "text/plain": [
       "    Motif Counts avgRef topRef OvE     p-value samplename         \n",
       "21  CPT   3      0      1      428.571 0.001   CHP_303-05-PBMC-DNA\n",
       "69  CPT   3      0.02   1      115.384 0.001   CHP_338-03-PBMC-DNA\n",
       "222 CPT   3      0.01   2      199.999 0.001   CHP_368-05-PBMC-DNA\n",
       "276 CPT   3      0.01   2      199.999 0.001   CHP_376-03-PBMC-DNA\n",
       "303 CPT   3      0.02   1      142.857 0.001   CHP_378-01-PBMC-DNA"
      ]
     },
     "metadata": {},
     "output_type": "display_data"
    }
   ],
   "source": [
    "gliph.df[gliph.df$Motif == \"CPT\", ]"
   ]
  },
  {
   "cell_type": "code",
   "execution_count": 74,
   "metadata": {},
   "outputs": [
    {
     "data": {
      "text/plain": [
       "\n",
       "AEVS AGGN AGWA  APE APES  ATN ATNE AVGA  AVL AVLR   CP  CPT  EAV  EFQ EGSR  ELF \n",
       "   3    1    4    2    5    1    1    1    1    4    1    5    1    1    1    1 \n",
       " ERA ESSE  EVS EVSS FEGA   FF  FFG FFGE FGEG FLTG  FQF  GAP GAPE  GEL GELF GKEA \n",
       "   1    5    1    1    1    1    1    4    5    1    1    1    1    1    3    5 \n",
       "GLYL  GQN  GRR  GSI GSRL  GVV  GWA GWAE KEAV  LAR   LF  LFF LFFG  LGK LGKE  LGR \n",
       "   1    1    1    1    2    1    1    1    5    1    1    5    4    1    5    1 \n",
       "LGTE  LRG LRGA  LRT LRTD  LTV LTVL   NF  PES PESS  PNE  PTL PTLR   QF  QFS QFSS \n",
       "   1    1    2    1    1    1    5    1    1    1    1    1    2    1    1    1 \n",
       " QGN RAGW RGAV RLTV  RMN RMNT  RRG SAGG  SCP  SDS SEFQ SEGQ  SFE SFLT SLGR  SPY \n",
       "   1    1    1    2    1    1    1    1    5    1    1    1    1    1    1    1 \n",
       " SSC SSER TGNT TGTD  TGW  TLR TLRG  TNE TNEK TNYG  TVL TVLG VGAP  VLG VLGK  VLR \n",
       "   5    1    2    1    1    3    1    2    1    1    1    5    3    1    6    3 \n",
       "VLRG  VSS  YTG \n",
       "   2    1    1 "
      ]
     },
     "metadata": {},
     "output_type": "display_data"
    }
   ],
   "source": [
    "table(gliph.df$Motif)"
   ]
  },
  {
   "cell_type": "code",
   "execution_count": 99,
   "metadata": {},
   "outputs": [
    {
     "data": {
      "text/html": [
       "<table>\n",
       "<caption>A data.frame: 29 × 7</caption>\n",
       "<thead>\n",
       "\t<tr><th></th><th scope=col>Motif</th><th scope=col>Counts</th><th scope=col>avgRef</th><th scope=col>topRef</th><th scope=col>OvE</th><th scope=col>p-value</th><th scope=col>samplename</th></tr>\n",
       "\t<tr><th></th><th scope=col>&lt;chr&gt;</th><th scope=col>&lt;dbl&gt;</th><th scope=col>&lt;chr&gt;</th><th scope=col>&lt;chr&gt;</th><th scope=col>&lt;chr&gt;</th><th scope=col>&lt;chr&gt;</th><th scope=col>&lt;chr&gt;</th></tr>\n",
       "</thead>\n",
       "<tbody>\n",
       "\t<tr><th scope=row>201</th><td>LF  </td><td>4</td><td>0.31</td><td>3</td><td>12.861 </td><td>0.001</td><td>CHP_368-04-PBMC-DNA</td></tr>\n",
       "\t<tr><th scope=row>204</th><td>LGKE</td><td>3</td><td>0.01</td><td>1</td><td>166.666</td><td>0.001</td><td>CHP_368-05-PBMC-DNA</td></tr>\n",
       "\t<tr><th scope=row>205</th><td>AVLR</td><td>3</td><td>0   </td><td>1</td><td>750    </td><td>0.001</td><td>CHP_368-05-PBMC-DNA</td></tr>\n",
       "\t<tr><th scope=row>206</th><td>VLR </td><td>4</td><td>0.18</td><td>3</td><td>21.857 </td><td>0.001</td><td>CHP_368-05-PBMC-DNA</td></tr>\n",
       "\t<tr><th scope=row>207</th><td>PTLR</td><td>3</td><td>0.02</td><td>1</td><td>103.448</td><td>0.001</td><td>CHP_368-05-PBMC-DNA</td></tr>\n",
       "\t<tr><th scope=row>208</th><td>GWA </td><td>4</td><td>0.38</td><td>3</td><td>10.526 </td><td>0.001</td><td>CHP_368-05-PBMC-DNA</td></tr>\n",
       "\t<tr><th scope=row>209</th><td>VLRG</td><td>4</td><td>0.05</td><td>2</td><td>71.428 </td><td>0.001</td><td>CHP_368-05-PBMC-DNA</td></tr>\n",
       "\t<tr><th scope=row>210</th><td>APES</td><td>3</td><td>0   </td><td>1</td><td>500    </td><td>0.001</td><td>CHP_368-05-PBMC-DNA</td></tr>\n",
       "\t<tr><th scope=row>211</th><td>LGK </td><td>4</td><td>0.18</td><td>3</td><td>22.222 </td><td>0.001</td><td>CHP_368-05-PBMC-DNA</td></tr>\n",
       "\t<tr><th scope=row>212</th><td>GELF</td><td>3</td><td>0   </td><td>1</td><td>500    </td><td>0.001</td><td>CHP_368-05-PBMC-DNA</td></tr>\n",
       "\t<tr><th scope=row>213</th><td>VGAP</td><td>3</td><td>0.02</td><td>1</td><td>149.999</td><td>0.001</td><td>CHP_368-05-PBMC-DNA</td></tr>\n",
       "\t<tr><th scope=row>214</th><td>SCP </td><td>3</td><td>0.01</td><td>1</td><td>299.999</td><td>0.001</td><td>CHP_368-05-PBMC-DNA</td></tr>\n",
       "\t<tr><th scope=row>215</th><td>KEAV</td><td>3</td><td>0   </td><td>1</td><td>428.571</td><td>0.001</td><td>CHP_368-05-PBMC-DNA</td></tr>\n",
       "\t<tr><th scope=row>216</th><td>GKEA</td><td>3</td><td>0.01</td><td>1</td><td>272.727</td><td>0.001</td><td>CHP_368-05-PBMC-DNA</td></tr>\n",
       "\t<tr><th scope=row>217</th><td>GAPE</td><td>4</td><td>0.11</td><td>2</td><td>36.363 </td><td>0.001</td><td>CHP_368-05-PBMC-DNA</td></tr>\n",
       "\t<tr><th scope=row>218</th><td>FFG </td><td>4</td><td>0.08</td><td>2</td><td>49.999 </td><td>0.001</td><td>CHP_368-05-PBMC-DNA</td></tr>\n",
       "\t<tr><th scope=row>219</th><td>VLGK</td><td>3</td><td>0.01</td><td>1</td><td>272.727</td><td>0.001</td><td>CHP_368-05-PBMC-DNA</td></tr>\n",
       "\t<tr><th scope=row>220</th><td>FFGE</td><td>3</td><td>0.01</td><td>1</td><td>299.999</td><td>0.001</td><td>CHP_368-05-PBMC-DNA</td></tr>\n",
       "\t<tr><th scope=row>221</th><td>ESSE</td><td>3</td><td>0   </td><td>1</td><td>500    </td><td>0.001</td><td>CHP_368-05-PBMC-DNA</td></tr>\n",
       "\t<tr><th scope=row>222</th><td>CPT </td><td>3</td><td>0.01</td><td>2</td><td>199.999</td><td>0.001</td><td>CHP_368-05-PBMC-DNA</td></tr>\n",
       "\t<tr><th scope=row>223</th><td>FF  </td><td>4</td><td>0.36</td><td>3</td><td>10.869 </td><td>0.001</td><td>CHP_368-05-PBMC-DNA</td></tr>\n",
       "\t<tr><th scope=row>224</th><td>LFF </td><td>3</td><td>0.01</td><td>1</td><td>166.666</td><td>0.001</td><td>CHP_368-05-PBMC-DNA</td></tr>\n",
       "\t<tr><th scope=row>225</th><td>AGWA</td><td>3</td><td>0.02</td><td>1</td><td>149.999</td><td>0.001</td><td>CHP_368-05-PBMC-DNA</td></tr>\n",
       "\t<tr><th scope=row>226</th><td>FGEG</td><td>3</td><td>0.01</td><td>1</td><td>214.285</td><td>0.001</td><td>CHP_368-05-PBMC-DNA</td></tr>\n",
       "\t<tr><th scope=row>227</th><td>GSRL</td><td>3</td><td>0.02</td><td>1</td><td>142.857</td><td>0.001</td><td>CHP_368-05-PBMC-DNA</td></tr>\n",
       "\t<tr><th scope=row>228</th><td>APE </td><td>4</td><td>0.24</td><td>3</td><td>16.528 </td><td>0.001</td><td>CHP_368-05-PBMC-DNA</td></tr>\n",
       "\t<tr><th scope=row>229</th><td>AEVS</td><td>3</td><td>0   </td><td>1</td><td>1500   </td><td>0.001</td><td>CHP_368-05-PBMC-DNA</td></tr>\n",
       "\t<tr><th scope=row>230</th><td>SSC </td><td>3</td><td>0.02</td><td>1</td><td>130.434</td><td>0.001</td><td>CHP_368-05-PBMC-DNA</td></tr>\n",
       "\t<tr><th scope=row>231</th><td>LTVL</td><td>3</td><td>0   </td><td>1</td><td>1000   </td><td>0.001</td><td>CHP_368-05-PBMC-DNA</td></tr>\n",
       "</tbody>\n",
       "</table>\n"
      ],
      "text/latex": [
       "A data.frame: 29 × 7\n",
       "\\begin{tabular}{r|lllllll}\n",
       "  & Motif & Counts & avgRef & topRef & OvE & p-value & samplename\\\\\n",
       "  & <chr> & <dbl> & <chr> & <chr> & <chr> & <chr> & <chr>\\\\\n",
       "\\hline\n",
       "\t201 & LF   & 4 & 0.31 & 3 & 12.861  & 0.001 & CHP\\_368-04-PBMC-DNA\\\\\n",
       "\t204 & LGKE & 3 & 0.01 & 1 & 166.666 & 0.001 & CHP\\_368-05-PBMC-DNA\\\\\n",
       "\t205 & AVLR & 3 & 0    & 1 & 750     & 0.001 & CHP\\_368-05-PBMC-DNA\\\\\n",
       "\t206 & VLR  & 4 & 0.18 & 3 & 21.857  & 0.001 & CHP\\_368-05-PBMC-DNA\\\\\n",
       "\t207 & PTLR & 3 & 0.02 & 1 & 103.448 & 0.001 & CHP\\_368-05-PBMC-DNA\\\\\n",
       "\t208 & GWA  & 4 & 0.38 & 3 & 10.526  & 0.001 & CHP\\_368-05-PBMC-DNA\\\\\n",
       "\t209 & VLRG & 4 & 0.05 & 2 & 71.428  & 0.001 & CHP\\_368-05-PBMC-DNA\\\\\n",
       "\t210 & APES & 3 & 0    & 1 & 500     & 0.001 & CHP\\_368-05-PBMC-DNA\\\\\n",
       "\t211 & LGK  & 4 & 0.18 & 3 & 22.222  & 0.001 & CHP\\_368-05-PBMC-DNA\\\\\n",
       "\t212 & GELF & 3 & 0    & 1 & 500     & 0.001 & CHP\\_368-05-PBMC-DNA\\\\\n",
       "\t213 & VGAP & 3 & 0.02 & 1 & 149.999 & 0.001 & CHP\\_368-05-PBMC-DNA\\\\\n",
       "\t214 & SCP  & 3 & 0.01 & 1 & 299.999 & 0.001 & CHP\\_368-05-PBMC-DNA\\\\\n",
       "\t215 & KEAV & 3 & 0    & 1 & 428.571 & 0.001 & CHP\\_368-05-PBMC-DNA\\\\\n",
       "\t216 & GKEA & 3 & 0.01 & 1 & 272.727 & 0.001 & CHP\\_368-05-PBMC-DNA\\\\\n",
       "\t217 & GAPE & 4 & 0.11 & 2 & 36.363  & 0.001 & CHP\\_368-05-PBMC-DNA\\\\\n",
       "\t218 & FFG  & 4 & 0.08 & 2 & 49.999  & 0.001 & CHP\\_368-05-PBMC-DNA\\\\\n",
       "\t219 & VLGK & 3 & 0.01 & 1 & 272.727 & 0.001 & CHP\\_368-05-PBMC-DNA\\\\\n",
       "\t220 & FFGE & 3 & 0.01 & 1 & 299.999 & 0.001 & CHP\\_368-05-PBMC-DNA\\\\\n",
       "\t221 & ESSE & 3 & 0    & 1 & 500     & 0.001 & CHP\\_368-05-PBMC-DNA\\\\\n",
       "\t222 & CPT  & 3 & 0.01 & 2 & 199.999 & 0.001 & CHP\\_368-05-PBMC-DNA\\\\\n",
       "\t223 & FF   & 4 & 0.36 & 3 & 10.869  & 0.001 & CHP\\_368-05-PBMC-DNA\\\\\n",
       "\t224 & LFF  & 3 & 0.01 & 1 & 166.666 & 0.001 & CHP\\_368-05-PBMC-DNA\\\\\n",
       "\t225 & AGWA & 3 & 0.02 & 1 & 149.999 & 0.001 & CHP\\_368-05-PBMC-DNA\\\\\n",
       "\t226 & FGEG & 3 & 0.01 & 1 & 214.285 & 0.001 & CHP\\_368-05-PBMC-DNA\\\\\n",
       "\t227 & GSRL & 3 & 0.02 & 1 & 142.857 & 0.001 & CHP\\_368-05-PBMC-DNA\\\\\n",
       "\t228 & APE  & 4 & 0.24 & 3 & 16.528  & 0.001 & CHP\\_368-05-PBMC-DNA\\\\\n",
       "\t229 & AEVS & 3 & 0    & 1 & 1500    & 0.001 & CHP\\_368-05-PBMC-DNA\\\\\n",
       "\t230 & SSC  & 3 & 0.02 & 1 & 130.434 & 0.001 & CHP\\_368-05-PBMC-DNA\\\\\n",
       "\t231 & LTVL & 3 & 0    & 1 & 1000    & 0.001 & CHP\\_368-05-PBMC-DNA\\\\\n",
       "\\end{tabular}\n"
      ],
      "text/markdown": [
       "\n",
       "A data.frame: 29 × 7\n",
       "\n",
       "| <!--/--> | Motif &lt;chr&gt; | Counts &lt;dbl&gt; | avgRef &lt;chr&gt; | topRef &lt;chr&gt; | OvE &lt;chr&gt; | p-value &lt;chr&gt; | samplename &lt;chr&gt; |\n",
       "|---|---|---|---|---|---|---|---|\n",
       "| 201 | LF   | 4 | 0.31 | 3 | 12.861  | 0.001 | CHP_368-04-PBMC-DNA |\n",
       "| 204 | LGKE | 3 | 0.01 | 1 | 166.666 | 0.001 | CHP_368-05-PBMC-DNA |\n",
       "| 205 | AVLR | 3 | 0    | 1 | 750     | 0.001 | CHP_368-05-PBMC-DNA |\n",
       "| 206 | VLR  | 4 | 0.18 | 3 | 21.857  | 0.001 | CHP_368-05-PBMC-DNA |\n",
       "| 207 | PTLR | 3 | 0.02 | 1 | 103.448 | 0.001 | CHP_368-05-PBMC-DNA |\n",
       "| 208 | GWA  | 4 | 0.38 | 3 | 10.526  | 0.001 | CHP_368-05-PBMC-DNA |\n",
       "| 209 | VLRG | 4 | 0.05 | 2 | 71.428  | 0.001 | CHP_368-05-PBMC-DNA |\n",
       "| 210 | APES | 3 | 0    | 1 | 500     | 0.001 | CHP_368-05-PBMC-DNA |\n",
       "| 211 | LGK  | 4 | 0.18 | 3 | 22.222  | 0.001 | CHP_368-05-PBMC-DNA |\n",
       "| 212 | GELF | 3 | 0    | 1 | 500     | 0.001 | CHP_368-05-PBMC-DNA |\n",
       "| 213 | VGAP | 3 | 0.02 | 1 | 149.999 | 0.001 | CHP_368-05-PBMC-DNA |\n",
       "| 214 | SCP  | 3 | 0.01 | 1 | 299.999 | 0.001 | CHP_368-05-PBMC-DNA |\n",
       "| 215 | KEAV | 3 | 0    | 1 | 428.571 | 0.001 | CHP_368-05-PBMC-DNA |\n",
       "| 216 | GKEA | 3 | 0.01 | 1 | 272.727 | 0.001 | CHP_368-05-PBMC-DNA |\n",
       "| 217 | GAPE | 4 | 0.11 | 2 | 36.363  | 0.001 | CHP_368-05-PBMC-DNA |\n",
       "| 218 | FFG  | 4 | 0.08 | 2 | 49.999  | 0.001 | CHP_368-05-PBMC-DNA |\n",
       "| 219 | VLGK | 3 | 0.01 | 1 | 272.727 | 0.001 | CHP_368-05-PBMC-DNA |\n",
       "| 220 | FFGE | 3 | 0.01 | 1 | 299.999 | 0.001 | CHP_368-05-PBMC-DNA |\n",
       "| 221 | ESSE | 3 | 0    | 1 | 500     | 0.001 | CHP_368-05-PBMC-DNA |\n",
       "| 222 | CPT  | 3 | 0.01 | 2 | 199.999 | 0.001 | CHP_368-05-PBMC-DNA |\n",
       "| 223 | FF   | 4 | 0.36 | 3 | 10.869  | 0.001 | CHP_368-05-PBMC-DNA |\n",
       "| 224 | LFF  | 3 | 0.01 | 1 | 166.666 | 0.001 | CHP_368-05-PBMC-DNA |\n",
       "| 225 | AGWA | 3 | 0.02 | 1 | 149.999 | 0.001 | CHP_368-05-PBMC-DNA |\n",
       "| 226 | FGEG | 3 | 0.01 | 1 | 214.285 | 0.001 | CHP_368-05-PBMC-DNA |\n",
       "| 227 | GSRL | 3 | 0.02 | 1 | 142.857 | 0.001 | CHP_368-05-PBMC-DNA |\n",
       "| 228 | APE  | 4 | 0.24 | 3 | 16.528  | 0.001 | CHP_368-05-PBMC-DNA |\n",
       "| 229 | AEVS | 3 | 0    | 1 | 1500    | 0.001 | CHP_368-05-PBMC-DNA |\n",
       "| 230 | SSC  | 3 | 0.02 | 1 | 130.434 | 0.001 | CHP_368-05-PBMC-DNA |\n",
       "| 231 | LTVL | 3 | 0    | 1 | 1000    | 0.001 | CHP_368-05-PBMC-DNA |\n",
       "\n"
      ],
      "text/plain": [
       "    Motif Counts avgRef topRef OvE     p-value samplename         \n",
       "201 LF    4      0.31   3      12.861  0.001   CHP_368-04-PBMC-DNA\n",
       "204 LGKE  3      0.01   1      166.666 0.001   CHP_368-05-PBMC-DNA\n",
       "205 AVLR  3      0      1      750     0.001   CHP_368-05-PBMC-DNA\n",
       "206 VLR   4      0.18   3      21.857  0.001   CHP_368-05-PBMC-DNA\n",
       "207 PTLR  3      0.02   1      103.448 0.001   CHP_368-05-PBMC-DNA\n",
       "208 GWA   4      0.38   3      10.526  0.001   CHP_368-05-PBMC-DNA\n",
       "209 VLRG  4      0.05   2      71.428  0.001   CHP_368-05-PBMC-DNA\n",
       "210 APES  3      0      1      500     0.001   CHP_368-05-PBMC-DNA\n",
       "211 LGK   4      0.18   3      22.222  0.001   CHP_368-05-PBMC-DNA\n",
       "212 GELF  3      0      1      500     0.001   CHP_368-05-PBMC-DNA\n",
       "213 VGAP  3      0.02   1      149.999 0.001   CHP_368-05-PBMC-DNA\n",
       "214 SCP   3      0.01   1      299.999 0.001   CHP_368-05-PBMC-DNA\n",
       "215 KEAV  3      0      1      428.571 0.001   CHP_368-05-PBMC-DNA\n",
       "216 GKEA  3      0.01   1      272.727 0.001   CHP_368-05-PBMC-DNA\n",
       "217 GAPE  4      0.11   2      36.363  0.001   CHP_368-05-PBMC-DNA\n",
       "218 FFG   4      0.08   2      49.999  0.001   CHP_368-05-PBMC-DNA\n",
       "219 VLGK  3      0.01   1      272.727 0.001   CHP_368-05-PBMC-DNA\n",
       "220 FFGE  3      0.01   1      299.999 0.001   CHP_368-05-PBMC-DNA\n",
       "221 ESSE  3      0      1      500     0.001   CHP_368-05-PBMC-DNA\n",
       "222 CPT   3      0.01   2      199.999 0.001   CHP_368-05-PBMC-DNA\n",
       "223 FF    4      0.36   3      10.869  0.001   CHP_368-05-PBMC-DNA\n",
       "224 LFF   3      0.01   1      166.666 0.001   CHP_368-05-PBMC-DNA\n",
       "225 AGWA  3      0.02   1      149.999 0.001   CHP_368-05-PBMC-DNA\n",
       "226 FGEG  3      0.01   1      214.285 0.001   CHP_368-05-PBMC-DNA\n",
       "227 GSRL  3      0.02   1      142.857 0.001   CHP_368-05-PBMC-DNA\n",
       "228 APE   4      0.24   3      16.528  0.001   CHP_368-05-PBMC-DNA\n",
       "229 AEVS  3      0      1      1500    0.001   CHP_368-05-PBMC-DNA\n",
       "230 SSC   3      0.02   1      130.434 0.001   CHP_368-05-PBMC-DNA\n",
       "231 LTVL  3      0      1      1000    0.001   CHP_368-05-PBMC-DNA"
      ]
     },
     "metadata": {},
     "output_type": "display_data"
    }
   ],
   "source": [
    "gliph.df[grepl(\"368\",gliph.df$samplename),]"
   ]
  },
  {
   "cell_type": "code",
   "execution_count": null,
   "metadata": {},
   "outputs": [],
   "source": []
  },
  {
   "cell_type": "code",
   "execution_count": null,
   "metadata": {},
   "outputs": [],
   "source": []
  },
  {
   "cell_type": "code",
   "execution_count": null,
   "metadata": {},
   "outputs": [],
   "source": []
  },
  {
   "cell_type": "code",
   "execution_count": null,
   "metadata": {},
   "outputs": [],
   "source": []
  }
 ],
 "metadata": {
  "kernelspec": {
   "display_name": "R",
   "language": "R",
   "name": "ir"
  },
  "language_info": {
   "codemirror_mode": "r",
   "file_extension": ".r",
   "mimetype": "text/x-r-source",
   "name": "R",
   "pygments_lexer": "r",
   "version": "3.5.1"
  },
  "toc": {
   "base_numbering": 1,
   "nav_menu": {},
   "number_sections": false,
   "sideBar": true,
   "skip_h1_title": false,
   "title_cell": "Table of Contents",
   "title_sidebar": "Contents",
   "toc_cell": true,
   "toc_position": {},
   "toc_section_display": true,
   "toc_window_display": false
  }
 },
 "nbformat": 4,
 "nbformat_minor": 2
}
