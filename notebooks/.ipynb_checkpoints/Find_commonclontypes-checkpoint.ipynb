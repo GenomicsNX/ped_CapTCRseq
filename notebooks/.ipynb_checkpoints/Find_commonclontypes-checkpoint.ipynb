{
 "cells": [
  {
   "cell_type": "markdown",
   "metadata": {
    "toc": true
   },
   "source": [
    "<h1>Table of Contents<span class=\"tocSkip\"></span></h1>\n",
    "<div class=\"toc\"><ul class=\"toc-item\"><li><span><a href=\"#Dependencies\" data-toc-modified-id=\"Dependencies-1\">Dependencies</a></span></li><li><span><a href=\"#Paths\" data-toc-modified-id=\"Paths-2\">Paths</a></span></li><li><span><a href=\"#Functions\" data-toc-modified-id=\"Functions-3\">Functions</a></span></li><li><span><a href=\"#Main\" data-toc-modified-id=\"Main-4\">Main</a></span><ul class=\"toc-item\"><li><span><a href=\"#Pub-rep-of-TCR-HSJ\" data-toc-modified-id=\"Pub-rep-of-TCR-HSJ-4.1\">Pub rep of TCR HSJ</a></span></li><li><span><a href=\"#Pub-rep-of-LFS\" data-toc-modified-id=\"Pub-rep-of-LFS-4.2\">Pub rep of LFS</a></span></li><li><span><a href=\"#Load-all-clonstats-and-plot-percentage-productive-cdr3s\" data-toc-modified-id=\"Load-all-clonstats-and-plot-percentage-productive-cdr3s-4.3\">Load all clonstats and plot percentage productive cdr3s</a></span></li><li><span><a href=\"#Load-all-pubrep-files\" data-toc-modified-id=\"Load-all-pubrep-files-4.4\">Load all pubrep files</a></span><ul class=\"toc-item\"><li><span><a href=\"#Number-of-files\" data-toc-modified-id=\"Number-of-files-4.4.1\">Number of files</a></span></li><li><span><a href=\"#Number-of-unique-clonotypes\" data-toc-modified-id=\"Number-of-unique-clonotypes-4.4.2\">Number of unique clonotypes</a></span></li><li><span><a href=\"#Make-an-empty-matrix-filenames-and-cdr3a\" data-toc-modified-id=\"Make-an-empty-matrix-filenames-and-cdr3a-4.4.3\">Make an empty matrix filenames and cdr3a</a></span></li><li><span><a href=\"#For-each-pubrepfile,-load-them-as-a-matrix,-drop-Samples-column,-match-and-fill-the-mymat-matrix\" data-toc-modified-id=\"For-each-pubrepfile,-load-them-as-a-matrix,-drop-Samples-column,-match-and-fill-the-mymat-matrix-4.4.4\">For each pubrepfile, load them as a matrix, drop Samples column, match and fill the mymat matrix</a></span></li></ul></li><li><span><a href=\"#Look-up-specific-cdr3-or-sample\" data-toc-modified-id=\"Look-up-specific-cdr3-or-sample-4.5\">Look up specific cdr3 or sample</a></span></li><li><span><a href=\"#Find-common-clonotypes\" data-toc-modified-id=\"Find-common-clonotypes-4.6\">Find common clonotypes</a></span></li></ul></li><li><span><a href=\"#Removing-private-cdr3s\" data-toc-modified-id=\"Removing-private-cdr3s-5\">Removing private cdr3s</a></span></li><li><span><a href=\"#Collapse-serial-samples-using-metadata\" data-toc-modified-id=\"Collapse-serial-samples-using-metadata-6\">Collapse serial samples using metadata</a></span></li><li><span><a href=\"#removing-private-cdr3s\" data-toc-modified-id=\"removing-private-cdr3s-7\">removing private cdr3s</a></span></li></ul></div>"
   ]
  },
  {
   "cell_type": "markdown",
   "metadata": {},
   "source": [
    "# Dependencies"
   ]
  },
  {
   "cell_type": "code",
   "execution_count": 1,
   "metadata": {
    "scrolled": true
   },
   "outputs": [
    {
     "name": "stderr",
     "output_type": "stream",
     "text": [
      "Loading required package: ggplot2\n",
      "\n",
      "Loading required package: dplyr\n",
      "\n",
      "\n",
      "Attaching package: ‘dplyr’\n",
      "\n",
      "\n",
      "The following objects are masked from ‘package:data.table’:\n",
      "\n",
      "    between, first, last\n",
      "\n",
      "\n",
      "The following objects are masked from ‘package:stats’:\n",
      "\n",
      "    filter, lag\n",
      "\n",
      "\n",
      "The following objects are masked from ‘package:base’:\n",
      "\n",
      "    intersect, setdiff, setequal, union\n",
      "\n",
      "\n",
      "Loading required package: dtplyr\n",
      "\n",
      "Loading required package: patchwork\n",
      "\n"
     ]
    }
   ],
   "source": [
    "library(data.table)\n",
    "library(immunarch)\n",
    "library(ggplot2)"
   ]
  },
  {
   "cell_type": "markdown",
   "metadata": {},
   "source": [
    "# Paths"
   ]
  },
  {
   "cell_type": "code",
   "execution_count": 2,
   "metadata": {},
   "outputs": [],
   "source": [
    "datapath <- \"/Users/anabbi/OneDrive - UHN/Documents/INTERCEPT/Data/\"\n",
    "plotpath <- \"/Users/anabbi/OneDrive - UHN/Documents/INTERCEPT/Plots/\"\n",
    "manifestpath <- \"/Users/anabbi/OneDrive - UHN/Documents/INTERCEPT/Manifests/\"\n",
    "\n",
    "gitpath <- \"/Users/anabbi/git/ped_CapTCRseq/\""
   ]
  },
  {
   "cell_type": "markdown",
   "metadata": {},
   "source": [
    "# Functions"
   ]
  },
  {
   "cell_type": "code",
   "execution_count": 3,
   "metadata": {},
   "outputs": [],
   "source": [
    "pubrep.fx <- function(datapath,filename, outpath){\n",
    "    immrep <- repLoad(datapath)\n",
    "    # The version on samwise loads a bit differently, uncomment the following and modify the script\n",
    "  #  immdata <- immrep$data    \n",
    "    TRBrep <- immrep[grep(\"TRB\",names(immrep))]\n",
    "    message(\"my files:\")\n",
    "    print(names(TRBrep))\n",
    "    pr.aa <- pubRep(TRBrep, \"aa\", .verbose = F)    \n",
    "    write.csv(pr.aa,\n",
    "              file = paste0(outpath,filename),\n",
    "              row.names = F) } "
   ]
  },
  {
   "cell_type": "markdown",
   "metadata": {},
   "source": [
    "# Main"
   ]
  },
  {
   "cell_type": "markdown",
   "metadata": {},
   "source": [
    "## Pub rep of TCR HSJ"
   ]
  },
  {
   "cell_type": "code",
   "execution_count": 4,
   "metadata": {},
   "outputs": [
    {
     "name": "stderr",
     "output_type": "stream",
     "text": [
      "Loading required package: stringr\n",
      "Warning message:\n",
      "“package ‘stringr’ was built under R version 3.5.2”"
     ]
    },
    {
     "name": "stdout",
     "output_type": "stream",
     "text": [
      "Parsing /Users/anabbi/OneDrive - UHN/Documents/Jabado/TCR_HSJ/Data/ ...\n",
      "Parsing /Users/anabbi/OneDrive - UHN/Documents/Jabado/TCR_HSJ/Data//batch1 ...\n",
      "Parsing /Users/anabbi/OneDrive - UHN/Documents/Jabado/TCR_HSJ/Data//batch1/align_stats.csv -- unsupported format, skipping\n",
      "Parsing /Users/anabbi/OneDrive - UHN/Documents/Jabado/TCR_HSJ/Data//batch1/assemble_stats.csv -- unsupported format, skipping\n",
      "Parsing /Users/anabbi/OneDrive - UHN/Documents/Jabado/TCR_HSJ/Data//batch1/CLONES_TRA23-Blood.txt -- mixcr\n",
      "Parsing /Users/anabbi/OneDrive - UHN/Documents/Jabado/TCR_HSJ/Data//batch1/CLONES_TRA23-Tum.txt -- mixcr\n",
      "Parsing /Users/anabbi/OneDrive - UHN/Documents/Jabado/TCR_HSJ/Data//batch1/CLONES_TRA50-Tum.txt -- mixcr\n",
      "Parsing /Users/anabbi/OneDrive - UHN/Documents/Jabado/TCR_HSJ/Data//batch1/CLONES_TRA51-Tum.txt -- mixcr\n",
      "Parsing /Users/anabbi/OneDrive - UHN/Documents/Jabado/TCR_HSJ/Data//batch1/CLONES_TRB23-Blood.txt -- mixcr\n",
      "Parsing /Users/anabbi/OneDrive - UHN/Documents/Jabado/TCR_HSJ/Data//batch1/CLONES_TRB23-Tum.txt -- mixcr\n",
      "Parsing /Users/anabbi/OneDrive - UHN/Documents/Jabado/TCR_HSJ/Data//batch1/CLONES_TRB50-Tum.txt -- mixcr\n",
      "Parsing /Users/anabbi/OneDrive - UHN/Documents/Jabado/TCR_HSJ/Data//batch1/CLONES_TRB51-Tum.txt -- mixcr\n",
      "Parsing /Users/anabbi/OneDrive - UHN/Documents/Jabado/TCR_HSJ/Data//batch1/CLONES_TRD23-Blood.txt -- mixcr\n",
      "Parsing /Users/anabbi/OneDrive - UHN/Documents/Jabado/TCR_HSJ/Data//batch1/CLONES_TRD23-Tum.txt -- mixcr\n",
      "Parsing /Users/anabbi/OneDrive - UHN/Documents/Jabado/TCR_HSJ/Data//batch1/CLONES_TRD50-Tum.txt -- mixcr\n",
      "Parsing /Users/anabbi/OneDrive - UHN/Documents/Jabado/TCR_HSJ/Data//batch1/CLONES_TRD51-Tum.txt -- mixcr\n",
      "Parsing /Users/anabbi/OneDrive - UHN/Documents/Jabado/TCR_HSJ/Data//batch1/CLONES_TRG23-Blood.txt -- mixcr\n",
      "Parsing /Users/anabbi/OneDrive - UHN/Documents/Jabado/TCR_HSJ/Data//batch1/CLONES_TRG23-Tum.txt -- mixcr\n",
      "Parsing /Users/anabbi/OneDrive - UHN/Documents/Jabado/TCR_HSJ/Data//batch1/CLONES_TRG50-Tum.txt -- mixcr\n",
      "Parsing /Users/anabbi/OneDrive - UHN/Documents/Jabado/TCR_HSJ/Data//batch1/CLONES_TRG51-Tum.txt -- mixcr\n",
      "Parsing /Users/anabbi/OneDrive - UHN/Documents/Jabado/TCR_HSJ/Data//batch1/ds_batch1 ...\n",
      "Parsing /Users/anabbi/OneDrive - UHN/Documents/Jabado/TCR_HSJ/Data//batch1/ds_batch1/CLONES_TRA23-Tum_2000000.txt -- mixcr\n",
      "Parsing /Users/anabbi/OneDrive - UHN/Documents/Jabado/TCR_HSJ/Data//batch1/ds_batch1/CLONES_TRA50-Tum_2000000.txt -- mixcr\n",
      "Parsing /Users/anabbi/OneDrive - UHN/Documents/Jabado/TCR_HSJ/Data//batch1/ds_batch1/CLONES_TRA51-Tum_2000000.txt -- mixcr\n",
      "Parsing /Users/anabbi/OneDrive - UHN/Documents/Jabado/TCR_HSJ/Data//batch1/ds_batch1/CLONES_TRB23-Tum_2000000.txt -- mixcr\n",
      "Parsing /Users/anabbi/OneDrive - UHN/Documents/Jabado/TCR_HSJ/Data//batch1/ds_batch1/CLONES_TRB50-Tum_2000000.txt -- mixcr\n",
      "Parsing /Users/anabbi/OneDrive - UHN/Documents/Jabado/TCR_HSJ/Data//batch1/ds_batch1/CLONES_TRB51-Tum_2000000.txt -- mixcr\n",
      "Parsing /Users/anabbi/OneDrive - UHN/Documents/Jabado/TCR_HSJ/Data//batch1/ds_batch1/CLONES_TRD23-Tum_2000000.txt -- mixcr\n",
      "Parsing /Users/anabbi/OneDrive - UHN/Documents/Jabado/TCR_HSJ/Data//batch1/ds_batch1/CLONES_TRD50-Tum_2000000.txt -- mixcr\n",
      "Parsing /Users/anabbi/OneDrive - UHN/Documents/Jabado/TCR_HSJ/Data//batch1/ds_batch1/CLONES_TRD51-Tum_2000000.txt -- mixcr\n",
      "Parsing /Users/anabbi/OneDrive - UHN/Documents/Jabado/TCR_HSJ/Data//batch1/ds_batch1/CLONES_TRG23-Tum_2000000.txt -- mixcr\n",
      "Parsing /Users/anabbi/OneDrive - UHN/Documents/Jabado/TCR_HSJ/Data//batch1/ds_batch1/CLONES_TRG50-Tum_2000000.txt -- mixcr\n",
      "Parsing /Users/anabbi/OneDrive - UHN/Documents/Jabado/TCR_HSJ/Data//batch1/ds_batch1/CLONES_TRG51-Tum_2000000.txt -- mixcr\n",
      "Parsing /Users/anabbi/OneDrive - UHN/Documents/Jabado/TCR_HSJ/Data//batch2 ...\n",
      "Parsing /Users/anabbi/OneDrive - UHN/Documents/Jabado/TCR_HSJ/Data//batch2/align_stats.csv -- unsupported format, skipping\n",
      "Parsing /Users/anabbi/OneDrive - UHN/Documents/Jabado/TCR_HSJ/Data//batch2/assemble_stats.csv -- unsupported format, skipping\n",
      "Parsing /Users/anabbi/OneDrive - UHN/Documents/Jabado/TCR_HSJ/Data//batch2/CLONES_IGH023-CSF.txt -- mixcr\n",
      "  [!] Warning: zero clonotypes found, skipping\n",
      "Parsing /Users/anabbi/OneDrive - UHN/Documents/Jabado/TCR_HSJ/Data//batch2/CLONES_IGH051-CSF.txt -- mixcr\n",
      "  [!] Warning: zero clonotypes found, skipping\n",
      "Parsing /Users/anabbi/OneDrive - UHN/Documents/Jabado/TCR_HSJ/Data//batch2/CLONES_IGH051R-CSF.txt -- mixcr\n",
      "  [!] Warning: zero clonotypes found, skipping\n",
      "Parsing /Users/anabbi/OneDrive - UHN/Documents/Jabado/TCR_HSJ/Data//batch2/CLONES_IGH19-CSF.txt -- mixcr\n",
      "  [!] Warning: zero clonotypes found, skipping\n",
      "Parsing /Users/anabbi/OneDrive - UHN/Documents/Jabado/TCR_HSJ/Data//batch2/CLONES_IGH41-CSF.txt -- mixcr\n",
      "  [!] Warning: zero clonotypes found, skipping\n",
      "Parsing /Users/anabbi/OneDrive - UHN/Documents/Jabado/TCR_HSJ/Data//batch2/CLONES_IGH67-CSF.txt -- mixcr\n",
      "Parsing /Users/anabbi/OneDrive - UHN/Documents/Jabado/TCR_HSJ/Data//batch2/CLONES_IGH76-Tum.txt -- mixcr\n",
      "Parsing /Users/anabbi/OneDrive - UHN/Documents/Jabado/TCR_HSJ/Data//batch2/CLONES_IGH77-Tum.txt -- mixcr\n",
      "Parsing /Users/anabbi/OneDrive - UHN/Documents/Jabado/TCR_HSJ/Data//batch2/CLONES_IGK023-CSF.txt -- mixcr\n",
      "  [!] Warning: zero clonotypes found, skipping\n",
      "Parsing /Users/anabbi/OneDrive - UHN/Documents/Jabado/TCR_HSJ/Data//batch2/CLONES_IGK051-CSF.txt -- mixcr\n",
      "  [!] Warning: zero clonotypes found, skipping\n",
      "Parsing /Users/anabbi/OneDrive - UHN/Documents/Jabado/TCR_HSJ/Data//batch2/CLONES_IGK051R-CSF.txt -- mixcr\n",
      "  [!] Warning: zero clonotypes found, skipping\n",
      "Parsing /Users/anabbi/OneDrive - UHN/Documents/Jabado/TCR_HSJ/Data//batch2/CLONES_IGK19-CSF.txt -- mixcr\n",
      "  [!] Warning: zero clonotypes found, skipping\n",
      "Parsing /Users/anabbi/OneDrive - UHN/Documents/Jabado/TCR_HSJ/Data//batch2/CLONES_IGK41-CSF.txt -- mixcr\n",
      "  [!] Warning: zero clonotypes found, skipping\n",
      "Parsing /Users/anabbi/OneDrive - UHN/Documents/Jabado/TCR_HSJ/Data//batch2/CLONES_IGK67-CSF.txt -- mixcr\n",
      "  [!] Warning: zero clonotypes found, skipping\n",
      "Parsing /Users/anabbi/OneDrive - UHN/Documents/Jabado/TCR_HSJ/Data//batch2/CLONES_IGK76-Tum.txt -- mixcr\n",
      "Parsing /Users/anabbi/OneDrive - UHN/Documents/Jabado/TCR_HSJ/Data//batch2/CLONES_IGK77-Tum.txt -- mixcr\n",
      "Parsing /Users/anabbi/OneDrive - UHN/Documents/Jabado/TCR_HSJ/Data//batch2/CLONES_IGL023-CSF.txt -- mixcr\n",
      "Parsing /Users/anabbi/OneDrive - UHN/Documents/Jabado/TCR_HSJ/Data//batch2/CLONES_IGL051-CSF.txt -- mixcr\n",
      "  [!] Warning: zero clonotypes found, skipping\n",
      "Parsing /Users/anabbi/OneDrive - UHN/Documents/Jabado/TCR_HSJ/Data//batch2/CLONES_IGL051R-CSF.txt -- mixcr\n",
      "Parsing /Users/anabbi/OneDrive - UHN/Documents/Jabado/TCR_HSJ/Data//batch2/CLONES_IGL19-CSF.txt -- mixcr\n",
      "Parsing /Users/anabbi/OneDrive - UHN/Documents/Jabado/TCR_HSJ/Data//batch2/CLONES_IGL41-CSF.txt -- mixcr\n",
      "  [!] Warning: zero clonotypes found, skipping\n",
      "Parsing /Users/anabbi/OneDrive - UHN/Documents/Jabado/TCR_HSJ/Data//batch2/CLONES_IGL67-CSF.txt -- mixcr\n",
      "Parsing /Users/anabbi/OneDrive - UHN/Documents/Jabado/TCR_HSJ/Data//batch2/CLONES_IGL76-Tum.txt -- mixcr\n",
      "Parsing /Users/anabbi/OneDrive - UHN/Documents/Jabado/TCR_HSJ/Data//batch2/CLONES_IGL77-Tum.txt -- mixcr\n",
      "Parsing /Users/anabbi/OneDrive - UHN/Documents/Jabado/TCR_HSJ/Data//batch2/CLONES_TRA023-CSF.txt -- mixcr\n",
      "Parsing /Users/anabbi/OneDrive - UHN/Documents/Jabado/TCR_HSJ/Data//batch2/CLONES_TRA051-CSF.txt -- mixcr\n",
      "Parsing /Users/anabbi/OneDrive - UHN/Documents/Jabado/TCR_HSJ/Data//batch2/CLONES_TRA051R-CSF.txt -- mixcr\n",
      "Parsing /Users/anabbi/OneDrive - UHN/Documents/Jabado/TCR_HSJ/Data//batch2/CLONES_TRA19-CSF.txt -- mixcr\n",
      "Parsing /Users/anabbi/OneDrive - UHN/Documents/Jabado/TCR_HSJ/Data//batch2/CLONES_TRA41-CSF.txt -- mixcr\n",
      "Parsing /Users/anabbi/OneDrive - UHN/Documents/Jabado/TCR_HSJ/Data//batch2/CLONES_TRA67-CSF.txt -- mixcr\n",
      "Parsing /Users/anabbi/OneDrive - UHN/Documents/Jabado/TCR_HSJ/Data//batch2/CLONES_TRA76-Tum.txt -- mixcr\n",
      "Parsing /Users/anabbi/OneDrive - UHN/Documents/Jabado/TCR_HSJ/Data//batch2/CLONES_TRA77-Tum.txt -- mixcr\n",
      "Parsing /Users/anabbi/OneDrive - UHN/Documents/Jabado/TCR_HSJ/Data//batch2/CLONES_TRB023-CSF.txt -- mixcr\n",
      "Parsing /Users/anabbi/OneDrive - UHN/Documents/Jabado/TCR_HSJ/Data//batch2/CLONES_TRB051-CSF.txt -- mixcr\n",
      "Parsing /Users/anabbi/OneDrive - UHN/Documents/Jabado/TCR_HSJ/Data//batch2/CLONES_TRB051R-CSF.txt -- mixcr\n",
      "Parsing /Users/anabbi/OneDrive - UHN/Documents/Jabado/TCR_HSJ/Data//batch2/CLONES_TRB19-CSF.txt -- mixcr\n",
      "Parsing /Users/anabbi/OneDrive - UHN/Documents/Jabado/TCR_HSJ/Data//batch2/CLONES_TRB41-CSF.txt -- mixcr\n",
      "Parsing /Users/anabbi/OneDrive - UHN/Documents/Jabado/TCR_HSJ/Data//batch2/CLONES_TRB67-CSF.txt -- mixcr\n",
      "Parsing /Users/anabbi/OneDrive - UHN/Documents/Jabado/TCR_HSJ/Data//batch2/CLONES_TRB76-Tum.txt -- mixcr\n",
      "Parsing /Users/anabbi/OneDrive - UHN/Documents/Jabado/TCR_HSJ/Data//batch2/CLONES_TRB77-Tum.txt -- mixcr\n",
      "Parsing /Users/anabbi/OneDrive - UHN/Documents/Jabado/TCR_HSJ/Data//batch2/CLONES_TRD023-CSF.txt -- mixcr\n",
      "Parsing /Users/anabbi/OneDrive - UHN/Documents/Jabado/TCR_HSJ/Data//batch2/CLONES_TRD051-CSF.txt -- mixcr\n",
      "Parsing /Users/anabbi/OneDrive - UHN/Documents/Jabado/TCR_HSJ/Data//batch2/CLONES_TRD051R-CSF.txt -- mixcr\n",
      "Parsing /Users/anabbi/OneDrive - UHN/Documents/Jabado/TCR_HSJ/Data//batch2/CLONES_TRD19-CSF.txt -- mixcr\n",
      "Parsing /Users/anabbi/OneDrive - UHN/Documents/Jabado/TCR_HSJ/Data//batch2/CLONES_TRD41-CSF.txt -- mixcr\n",
      "Parsing /Users/anabbi/OneDrive - UHN/Documents/Jabado/TCR_HSJ/Data//batch2/CLONES_TRD67-CSF.txt -- mixcr\n",
      "Parsing /Users/anabbi/OneDrive - UHN/Documents/Jabado/TCR_HSJ/Data//batch2/CLONES_TRD76-Tum.txt -- mixcr\n",
      "Parsing /Users/anabbi/OneDrive - UHN/Documents/Jabado/TCR_HSJ/Data//batch2/CLONES_TRD77-Tum.txt -- mixcr\n",
      "Parsing /Users/anabbi/OneDrive - UHN/Documents/Jabado/TCR_HSJ/Data//batch2/CLONES_TRG023-CSF.txt -- mixcr\n",
      "Parsing /Users/anabbi/OneDrive - UHN/Documents/Jabado/TCR_HSJ/Data//batch2/CLONES_TRG051-CSF.txt -- mixcr\n",
      "Parsing /Users/anabbi/OneDrive - UHN/Documents/Jabado/TCR_HSJ/Data//batch2/CLONES_TRG051R-CSF.txt -- mixcr\n",
      "  [!] Warning: zero clonotypes found, skipping\n",
      "Parsing /Users/anabbi/OneDrive - UHN/Documents/Jabado/TCR_HSJ/Data//batch2/CLONES_TRG19-CSF.txt -- mixcr\n",
      "Parsing /Users/anabbi/OneDrive - UHN/Documents/Jabado/TCR_HSJ/Data//batch2/CLONES_TRG41-CSF.txt -- mixcr\n",
      "Parsing /Users/anabbi/OneDrive - UHN/Documents/Jabado/TCR_HSJ/Data//batch2/CLONES_TRG67-CSF.txt -- mixcr\n",
      "Parsing /Users/anabbi/OneDrive - UHN/Documents/Jabado/TCR_HSJ/Data//batch2/CLONES_TRG76-Tum.txt -- mixcr\n",
      "Parsing /Users/anabbi/OneDrive - UHN/Documents/Jabado/TCR_HSJ/Data//batch2/CLONES_TRG77-Tum.txt -- mixcr\n",
      "Parsing /Users/anabbi/OneDrive - UHN/Documents/Jabado/TCR_HSJ/Data//batch2/ds_batch2 ...\n",
      "Parsing /Users/anabbi/OneDrive - UHN/Documents/Jabado/TCR_HSJ/Data//batch2/ds_batch2/align_stats.csv -- unsupported format, skipping\n",
      "Parsing /Users/anabbi/OneDrive - UHN/Documents/Jabado/TCR_HSJ/Data//batch2/ds_batch2/assemble_stats.csv -- unsupported format, skipping\n",
      "Parsing /Users/anabbi/OneDrive - UHN/Documents/Jabado/TCR_HSJ/Data//batch2/ds_batch2/CLONES_TRA19-CSF_2000000.txt -- mixcr\n",
      "Parsing /Users/anabbi/OneDrive - UHN/Documents/Jabado/TCR_HSJ/Data//batch2/ds_batch2/CLONES_TRA23-CSF_2000000.txt -- mixcr\n",
      "Parsing /Users/anabbi/OneDrive - UHN/Documents/Jabado/TCR_HSJ/Data//batch2/ds_batch2/CLONES_TRA41-CSF_2000000.txt -- mixcr\n",
      "Parsing /Users/anabbi/OneDrive - UHN/Documents/Jabado/TCR_HSJ/Data//batch2/ds_batch2/CLONES_TRA51-CSF_2000000.txt -- mixcr\n",
      "Parsing /Users/anabbi/OneDrive - UHN/Documents/Jabado/TCR_HSJ/Data//batch2/ds_batch2/CLONES_TRA51R-CSF_2000000.txt -- mixcr\n",
      "Parsing /Users/anabbi/OneDrive - UHN/Documents/Jabado/TCR_HSJ/Data//batch2/ds_batch2/CLONES_TRA67-CSF_2000000.txt -- mixcr\n",
      "Parsing /Users/anabbi/OneDrive - UHN/Documents/Jabado/TCR_HSJ/Data//batch2/ds_batch2/CLONES_TRA76-Tum_2000000.txt -- mixcr\n",
      "Parsing /Users/anabbi/OneDrive - UHN/Documents/Jabado/TCR_HSJ/Data//batch2/ds_batch2/CLONES_TRA77-Tum_2000000.txt -- mixcr\n",
      "Parsing /Users/anabbi/OneDrive - UHN/Documents/Jabado/TCR_HSJ/Data//batch2/ds_batch2/CLONES_TRB19-CSF_2000000.txt -- mixcr\n",
      "Parsing /Users/anabbi/OneDrive - UHN/Documents/Jabado/TCR_HSJ/Data//batch2/ds_batch2/CLONES_TRB23-CSF_2000000.txt -- mixcr\n",
      "Parsing /Users/anabbi/OneDrive - UHN/Documents/Jabado/TCR_HSJ/Data//batch2/ds_batch2/CLONES_TRB41-CSF_2000000.txt -- mixcr\n",
      "Parsing /Users/anabbi/OneDrive - UHN/Documents/Jabado/TCR_HSJ/Data//batch2/ds_batch2/CLONES_TRB51-CSF_2000000.txt -- mixcr\n",
      "Parsing /Users/anabbi/OneDrive - UHN/Documents/Jabado/TCR_HSJ/Data//batch2/ds_batch2/CLONES_TRB51R-CSF_2000000.txt -- mixcr\n",
      "Parsing /Users/anabbi/OneDrive - UHN/Documents/Jabado/TCR_HSJ/Data//batch2/ds_batch2/CLONES_TRB67-CSF_2000000.txt -- mixcr\n",
      "Parsing /Users/anabbi/OneDrive - UHN/Documents/Jabado/TCR_HSJ/Data//batch2/ds_batch2/CLONES_TRB76-Tum_2000000.txt -- mixcr\n",
      "Parsing /Users/anabbi/OneDrive - UHN/Documents/Jabado/TCR_HSJ/Data//batch2/ds_batch2/CLONES_TRB77-Tum_2000000.txt -- mixcr\n",
      "Parsing /Users/anabbi/OneDrive - UHN/Documents/Jabado/TCR_HSJ/Data//batch2/ds_batch2/CLONES_TRD19-CSF_2000000.txt -- mixcr\n",
      "Parsing /Users/anabbi/OneDrive - UHN/Documents/Jabado/TCR_HSJ/Data//batch2/ds_batch2/CLONES_TRD23-CSF_2000000.txt -- mixcr\n",
      "Parsing /Users/anabbi/OneDrive - UHN/Documents/Jabado/TCR_HSJ/Data//batch2/ds_batch2/CLONES_TRD41-CSF_2000000.txt -- mixcr\n",
      "Parsing /Users/anabbi/OneDrive - UHN/Documents/Jabado/TCR_HSJ/Data//batch2/ds_batch2/CLONES_TRD51-CSF_2000000.txt -- mixcr\n",
      "Parsing /Users/anabbi/OneDrive - UHN/Documents/Jabado/TCR_HSJ/Data//batch2/ds_batch2/CLONES_TRD51R-CSF_2000000.txt -- mixcr\n",
      "Parsing /Users/anabbi/OneDrive - UHN/Documents/Jabado/TCR_HSJ/Data//batch2/ds_batch2/CLONES_TRD67-CSF_2000000.txt -- mixcr\n",
      "Parsing /Users/anabbi/OneDrive - UHN/Documents/Jabado/TCR_HSJ/Data//batch2/ds_batch2/CLONES_TRD76-Tum_2000000.txt -- mixcr\n",
      "Parsing /Users/anabbi/OneDrive - UHN/Documents/Jabado/TCR_HSJ/Data//batch2/ds_batch2/CLONES_TRD77-Tum_2000000.txt -- mixcr\n",
      "Parsing /Users/anabbi/OneDrive - UHN/Documents/Jabado/TCR_HSJ/Data//batch2/ds_batch2/CLONES_TRG19-CSF_2000000.txt -- mixcr\n",
      "Parsing /Users/anabbi/OneDrive - UHN/Documents/Jabado/TCR_HSJ/Data//batch2/ds_batch2/CLONES_TRG23-CSF_2000000.txt -- mixcr\n",
      "Parsing /Users/anabbi/OneDrive - UHN/Documents/Jabado/TCR_HSJ/Data//batch2/ds_batch2/CLONES_TRG41-CSF_2000000.txt -- mixcr\n",
      "Parsing /Users/anabbi/OneDrive - UHN/Documents/Jabado/TCR_HSJ/Data//batch2/ds_batch2/CLONES_TRG51-CSF_2000000.txt -- mixcr\n",
      "Parsing /Users/anabbi/OneDrive - UHN/Documents/Jabado/TCR_HSJ/Data//batch2/ds_batch2/CLONES_TRG51R-CSF_2000000.txt -- mixcr\n",
      "  [!] Warning: zero clonotypes found, skipping\n",
      "Parsing /Users/anabbi/OneDrive - UHN/Documents/Jabado/TCR_HSJ/Data//batch2/ds_batch2/CLONES_TRG67-CSF_2000000.txt -- mixcr\n",
      "Parsing /Users/anabbi/OneDrive - UHN/Documents/Jabado/TCR_HSJ/Data//batch2/ds_batch2/CLONES_TRG76-Tum_2000000.txt -- mixcr\n",
      "Parsing /Users/anabbi/OneDrive - UHN/Documents/Jabado/TCR_HSJ/Data//batch2/ds_batch2/CLONES_TRG77-Tum_2000000.txt -- mixcr\n",
      "Parsing /Users/anabbi/OneDrive - UHN/Documents/Jabado/TCR_HSJ/Data//batch3 ...\n",
      "Parsing /Users/anabbi/OneDrive - UHN/Documents/Jabado/TCR_HSJ/Data//batch3/align_stats.csv -- unsupported format, skipping\n",
      "Parsing /Users/anabbi/OneDrive - UHN/Documents/Jabado/TCR_HSJ/Data//batch3/assemble_stats.csv -- unsupported format, skipping\n",
      "Parsing /Users/anabbi/OneDrive - UHN/Documents/Jabado/TCR_HSJ/Data//batch3/CLONES_TRA23-Plasma.txt -- mixcr\n",
      "Parsing /Users/anabbi/OneDrive - UHN/Documents/Jabado/TCR_HSJ/Data//batch3/CLONES_TRA50-CSF.txt -- mixcr\n",
      "Parsing /Users/anabbi/OneDrive - UHN/Documents/Jabado/TCR_HSJ/Data//batch3/CLONES_TRA67-Tum.txt -- mixcr\n",
      "Parsing /Users/anabbi/OneDrive - UHN/Documents/Jabado/TCR_HSJ/Data//batch3/CLONES_TRA68-Plasma.txt -- mixcr\n",
      "Parsing /Users/anabbi/OneDrive - UHN/Documents/Jabado/TCR_HSJ/Data//batch3/CLONES_TRA68-Tum.txt -- mixcr\n",
      "Parsing /Users/anabbi/OneDrive - UHN/Documents/Jabado/TCR_HSJ/Data//batch3/CLONES_TRA76-CSF.txt -- mixcr\n",
      "Parsing /Users/anabbi/OneDrive - UHN/Documents/Jabado/TCR_HSJ/Data//batch3/CLONES_TRA76-Plasma.txt -- mixcr\n",
      "Parsing /Users/anabbi/OneDrive - UHN/Documents/Jabado/TCR_HSJ/Data//batch3/CLONES_TRA77-CSF.txt -- mixcr\n",
      "Parsing /Users/anabbi/OneDrive - UHN/Documents/Jabado/TCR_HSJ/Data//batch3/CLONES_TRA77-Plasma.txt -- mixcr\n",
      "Parsing /Users/anabbi/OneDrive - UHN/Documents/Jabado/TCR_HSJ/Data//batch3/CLONES_TRB23-Plasma.txt -- mixcr\n",
      "Parsing /Users/anabbi/OneDrive - UHN/Documents/Jabado/TCR_HSJ/Data//batch3/CLONES_TRB50-CSF.txt -- mixcr\n",
      "Parsing /Users/anabbi/OneDrive - UHN/Documents/Jabado/TCR_HSJ/Data//batch3/CLONES_TRB67-Tum.txt -- mixcr\n",
      "Parsing /Users/anabbi/OneDrive - UHN/Documents/Jabado/TCR_HSJ/Data//batch3/CLONES_TRB68-Plasma.txt -- mixcr\n",
      "Parsing /Users/anabbi/OneDrive - UHN/Documents/Jabado/TCR_HSJ/Data//batch3/CLONES_TRB68-Tum.txt -- mixcr\n",
      "Parsing /Users/anabbi/OneDrive - UHN/Documents/Jabado/TCR_HSJ/Data//batch3/CLONES_TRB76-CSF.txt -- mixcr\n",
      "Parsing /Users/anabbi/OneDrive - UHN/Documents/Jabado/TCR_HSJ/Data//batch3/CLONES_TRB76-Plasma.txt -- mixcr\n",
      "Parsing /Users/anabbi/OneDrive - UHN/Documents/Jabado/TCR_HSJ/Data//batch3/CLONES_TRB77-CSF.txt -- mixcr\n",
      "Parsing /Users/anabbi/OneDrive - UHN/Documents/Jabado/TCR_HSJ/Data//batch3/CLONES_TRB77-Plasma.txt -- mixcr\n",
      "Parsing /Users/anabbi/OneDrive - UHN/Documents/Jabado/TCR_HSJ/Data//batch3/CLONES_TRD23-Plasma.txt -- mixcr\n",
      "Parsing /Users/anabbi/OneDrive - UHN/Documents/Jabado/TCR_HSJ/Data//batch3/CLONES_TRD50-CSF.txt -- mixcr\n",
      "Parsing /Users/anabbi/OneDrive - UHN/Documents/Jabado/TCR_HSJ/Data//batch3/CLONES_TRD67-Tum.txt -- mixcr\n",
      "Parsing /Users/anabbi/OneDrive - UHN/Documents/Jabado/TCR_HSJ/Data//batch3/CLONES_TRD68-Plasma.txt -- mixcr\n",
      "Parsing /Users/anabbi/OneDrive - UHN/Documents/Jabado/TCR_HSJ/Data//batch3/CLONES_TRD68-Tum.txt -- mixcr\n",
      "Parsing /Users/anabbi/OneDrive - UHN/Documents/Jabado/TCR_HSJ/Data//batch3/CLONES_TRD76-CSF.txt -- mixcr\n",
      "Parsing /Users/anabbi/OneDrive - UHN/Documents/Jabado/TCR_HSJ/Data//batch3/CLONES_TRD76-Plasma.txt -- mixcr\n",
      "Parsing /Users/anabbi/OneDrive - UHN/Documents/Jabado/TCR_HSJ/Data//batch3/CLONES_TRD77-CSF.txt -- mixcr\n",
      "Parsing /Users/anabbi/OneDrive - UHN/Documents/Jabado/TCR_HSJ/Data//batch3/CLONES_TRD77-Plasma.txt -- mixcr\n",
      "Parsing /Users/anabbi/OneDrive - UHN/Documents/Jabado/TCR_HSJ/Data//batch3/CLONES_TRG23-Plasma.txt -- mixcr\n",
      "  [!] Warning: zero clonotypes found, skipping\n",
      "Parsing /Users/anabbi/OneDrive - UHN/Documents/Jabado/TCR_HSJ/Data//batch3/CLONES_TRG50-CSF.txt -- mixcr\n",
      "Parsing /Users/anabbi/OneDrive - UHN/Documents/Jabado/TCR_HSJ/Data//batch3/CLONES_TRG67-Tum.txt -- mixcr\n",
      "Parsing /Users/anabbi/OneDrive - UHN/Documents/Jabado/TCR_HSJ/Data//batch3/CLONES_TRG68-Plasma.txt -- mixcr\n",
      "Parsing /Users/anabbi/OneDrive - UHN/Documents/Jabado/TCR_HSJ/Data//batch3/CLONES_TRG68-Tum.txt -- mixcr\n",
      "Parsing /Users/anabbi/OneDrive - UHN/Documents/Jabado/TCR_HSJ/Data//batch3/CLONES_TRG76-CSF.txt -- mixcr\n",
      "Parsing /Users/anabbi/OneDrive - UHN/Documents/Jabado/TCR_HSJ/Data//batch3/CLONES_TRG76-Plasma.txt -- mixcr\n",
      "Parsing /Users/anabbi/OneDrive - UHN/Documents/Jabado/TCR_HSJ/Data//batch3/CLONES_TRG77-CSF.txt -- mixcr\n",
      "Parsing /Users/anabbi/OneDrive - UHN/Documents/Jabado/TCR_HSJ/Data//batch3/CLONES_TRG77-Plasma.txt -- mixcr\n",
      "Parsing /Users/anabbi/OneDrive - UHN/Documents/Jabado/TCR_HSJ/Data//batch3/ds_batch3 ...\n",
      "Parsing /Users/anabbi/OneDrive - UHN/Documents/Jabado/TCR_HSJ/Data//batch3/ds_batch3/align_stats.csv -- unsupported format, skipping\n",
      "Parsing /Users/anabbi/OneDrive - UHN/Documents/Jabado/TCR_HSJ/Data//batch3/ds_batch3/assemble_stats.csv -- unsupported format, skipping\n",
      "Parsing /Users/anabbi/OneDrive - UHN/Documents/Jabado/TCR_HSJ/Data//batch3/ds_batch3/CLONES_TRA50-CSF_2000000.txt -- mixcr\n",
      "Parsing /Users/anabbi/OneDrive - UHN/Documents/Jabado/TCR_HSJ/Data//batch3/ds_batch3/CLONES_TRA67-Tum_2000000.txt -- mixcr\n",
      "Parsing /Users/anabbi/OneDrive - UHN/Documents/Jabado/TCR_HSJ/Data//batch3/ds_batch3/CLONES_TRA68-Plasma_2000000.txt -- mixcr\n",
      "Parsing /Users/anabbi/OneDrive - UHN/Documents/Jabado/TCR_HSJ/Data//batch3/ds_batch3/CLONES_TRA76-CSF_2000000.txt -- mixcr\n",
      "Parsing /Users/anabbi/OneDrive - UHN/Documents/Jabado/TCR_HSJ/Data//batch3/ds_batch3/CLONES_TRA76-Plasma_2000000.txt -- mixcr\n",
      "Parsing /Users/anabbi/OneDrive - UHN/Documents/Jabado/TCR_HSJ/Data//batch3/ds_batch3/CLONES_TRB50-CSF_2000000.txt -- mixcr\n",
      "Parsing /Users/anabbi/OneDrive - UHN/Documents/Jabado/TCR_HSJ/Data//batch3/ds_batch3/CLONES_TRB67-Tum_2000000.txt -- mixcr\n",
      "Parsing /Users/anabbi/OneDrive - UHN/Documents/Jabado/TCR_HSJ/Data//batch3/ds_batch3/CLONES_TRB68-Plasma_2000000.txt -- mixcr\n",
      "Parsing /Users/anabbi/OneDrive - UHN/Documents/Jabado/TCR_HSJ/Data//batch3/ds_batch3/CLONES_TRB76-CSF_2000000.txt -- mixcr\n",
      "Parsing /Users/anabbi/OneDrive - UHN/Documents/Jabado/TCR_HSJ/Data//batch3/ds_batch3/CLONES_TRB76-Plasma_2000000.txt -- mixcr\n",
      "Parsing /Users/anabbi/OneDrive - UHN/Documents/Jabado/TCR_HSJ/Data//batch3/ds_batch3/CLONES_TRD50-CSF_2000000.txt -- mixcr\n",
      "Parsing /Users/anabbi/OneDrive - UHN/Documents/Jabado/TCR_HSJ/Data//batch3/ds_batch3/CLONES_TRD67-Tum_2000000.txt -- mixcr\n",
      "Parsing /Users/anabbi/OneDrive - UHN/Documents/Jabado/TCR_HSJ/Data//batch3/ds_batch3/CLONES_TRD68-Plasma_2000000.txt -- mixcr\n",
      "Parsing /Users/anabbi/OneDrive - UHN/Documents/Jabado/TCR_HSJ/Data//batch3/ds_batch3/CLONES_TRD76-CSF_2000000.txt -- mixcr\n",
      "Parsing /Users/anabbi/OneDrive - UHN/Documents/Jabado/TCR_HSJ/Data//batch3/ds_batch3/CLONES_TRD76-Plasma_2000000.txt -- mixcr\n",
      "Parsing /Users/anabbi/OneDrive - UHN/Documents/Jabado/TCR_HSJ/Data//batch3/ds_batch3/CLONES_TRG50-CSF_2000000.txt -- mixcr\n",
      "Parsing /Users/anabbi/OneDrive - UHN/Documents/Jabado/TCR_HSJ/Data//batch3/ds_batch3/CLONES_TRG67-Tum_2000000.txt -- mixcr\n",
      "Parsing /Users/anabbi/OneDrive - UHN/Documents/Jabado/TCR_HSJ/Data//batch3/ds_batch3/CLONES_TRG68-Plasma_2000000.txt -- mixcr\n",
      "Parsing /Users/anabbi/OneDrive - UHN/Documents/Jabado/TCR_HSJ/Data//batch3/ds_batch3/CLONES_TRG76-CSF_2000000.txt -- mixcr\n",
      "Parsing /Users/anabbi/OneDrive - UHN/Documents/Jabado/TCR_HSJ/Data//batch3/ds_batch3/CLONES_TRG76-Plasma_2000000.txt -- mixcr\n",
      "Parsing /Users/anabbi/OneDrive - UHN/Documents/Jabado/TCR_HSJ/Data//clonstats_TRBHSJ.csv -- unsupported format, skipping\n",
      "Parsing /Users/anabbi/OneDrive - UHN/Documents/Jabado/TCR_HSJ/Data//common_clonotypes ...\n",
      "Parsing /Users/anabbi/OneDrive - UHN/Documents/Jabado/TCR_HSJ/Data//common_clonotypes/clonstats_TRB_IMS_cells.csv -- unsupported format, skipping\n",
      "Parsing /Users/anabbi/OneDrive - UHN/Documents/Jabado/TCR_HSJ/Data//common_clonotypes/clonstats_TRBCHPtotal.csv -- unsupported format, skipping\n",
      "Parsing /Users/anabbi/OneDrive - UHN/Documents/Jabado/TCR_HSJ/Data//common_clonotypes/clonstats_TRBHSJ.csv -- unsupported format, skipping\n",
      "Parsing /Users/anabbi/OneDrive - UHN/Documents/Jabado/TCR_HSJ/Data//common_clonotypes/clonstats_TRBIMS_batches.csv -- unsupported format, skipping\n",
      "Parsing /Users/anabbi/OneDrive - UHN/Documents/Jabado/TCR_HSJ/Data//common_clonotypes/clonstats_TRBINSPIRE_cdna.csv -- unsupported format, skipping\n",
      "Parsing /Users/anabbi/OneDrive - UHN/Documents/Jabado/TCR_HSJ/Data//common_clonotypes/clonstats_TRBINSPIRE_cfdna.csv -- unsupported format, skipping\n",
      "Parsing /Users/anabbi/OneDrive - UHN/Documents/Jabado/TCR_HSJ/Data//common_clonotypes/clonstats_TRBINSPIRE_genomic.csv -- unsupported format, skipping\n",
      "Parsing /Users/anabbi/OneDrive - UHN/Documents/Jabado/TCR_HSJ/Data//common_clonotypes/clonstats_TRBLFS.csv -- unsupported format, skipping\n",
      "Parsing /Users/anabbi/OneDrive - UHN/Documents/Jabado/TCR_HSJ/Data//common_clonotypes/clonstats_TRBLymphotrack.csv -- unsupported format, skipping\n",
      "Parsing /Users/anabbi/OneDrive - UHN/Documents/Jabado/TCR_HSJ/Data//common_clonotypes/clonstats_TRBNPC_captured.csv -- unsupported format, skipping\n",
      "Parsing /Users/anabbi/OneDrive - UHN/Documents/Jabado/TCR_HSJ/Data//common_clonotypes/clonstats_TRBTCLlines.csv -- unsupported format, skipping\n",
      "Parsing /Users/anabbi/OneDrive - UHN/Documents/Jabado/TCR_HSJ/Data//common_clonotypes/clonstats_TRBTLML_cDNAgenomic.csv -- unsupported format, skipping\n",
      "Parsing /Users/anabbi/OneDrive - UHN/Documents/Jabado/TCR_HSJ/Data//common_clonotypes/clonstats_TRBTLML_cfDNA.csv -- unsupported format, skipping\n",
      "Parsing /Users/anabbi/OneDrive - UHN/Documents/Jabado/TCR_HSJ/Data//common_clonotypes/pubrep_ims_batch1to44.csv -- unsupported format, skipping\n",
      "Parsing /Users/anabbi/OneDrive - UHN/Documents/Jabado/TCR_HSJ/Data//common_clonotypes/pubrep_ims_lines.csv -- unsupported format, skipping\n",
      "Parsing /Users/anabbi/OneDrive - UHN/Documents/Jabado/TCR_HSJ/Data//common_clonotypes/pubrep_inspire_cfDNA.csv -- unsupported format, skipping\n",
      "Parsing /Users/anabbi/OneDrive - UHN/Documents/Jabado/TCR_HSJ/Data//common_clonotypes/pubrep_inspire_genomic.csv -- unsupported format, skipping\n",
      "Parsing /Users/anabbi/OneDrive - UHN/Documents/Jabado/TCR_HSJ/Data//common_clonotypes/pubrep_INTERCEPT.csv -- unsupported format, skipping\n",
      "Parsing /Users/anabbi/OneDrive - UHN/Documents/Jabado/TCR_HSJ/Data//common_clonotypes/pubrep_LFS.csv -- unsupported format, skipping\n",
      "Parsing /Users/anabbi/OneDrive - UHN/Documents/Jabado/TCR_HSJ/Data//common_clonotypes/pubrep_lymphotrack.csv -- unsupported format, skipping\n",
      "Parsing /Users/anabbi/OneDrive - UHN/Documents/Jabado/TCR_HSJ/Data//common_clonotypes/pubrep_NPCcaptured.csv -- unsupported format, skipping\n",
      "Parsing /Users/anabbi/OneDrive - UHN/Documents/Jabado/TCR_HSJ/Data//common_clonotypes/pubrep_TCLlines.csv -- unsupported format, skipping\n",
      "Parsing /Users/anabbi/OneDrive - UHN/Documents/Jabado/TCR_HSJ/Data//common_clonotypes/pubrep_TCR_HSJ.csv -- unsupported format, skipping\n",
      "Parsing /Users/anabbi/OneDrive - UHN/Documents/Jabado/TCR_HSJ/Data//common_clonotypes/pubrep_TLML_cfDNA.csv -- unsupported format, skipping\n",
      "Parsing /Users/anabbi/OneDrive - UHN/Documents/Jabado/TCR_HSJ/Data//common_clonotypes/pubrep_TLMLcDNAgenomic.csv -- unsupported format, skipping\n",
      "Parsing /Users/anabbi/OneDrive - UHN/Documents/Jabado/TCR_HSJ/Data//commonclonotypes_metadata.csv -- metadata\n"
     ]
    },
    {
     "name": "stderr",
     "output_type": "stream",
     "text": [
      "Warning message:\n",
      "“4038 parsing failures.\n",
      "row                                                   col           expected actual                                                                                        file\n",
      "  1 filename\",\"Study\",\"Patient\",\"Samplename\",\"Sample_type delimiter or quote      , '/Users/anabbi/OneDrive - UHN/Documents/Jabado/TCR_HSJ/Data//commonclonotypes_metadata.csv'\n",
      "  1 filename\",\"Study\",\"Patient\",\"Samplename\",\"Sample_type delimiter or quote      I '/Users/anabbi/OneDrive - UHN/Documents/Jabado/TCR_HSJ/Data//commonclonotypes_metadata.csv'\n",
      "  1 filename\",\"Study\",\"Patient\",\"Samplename\",\"Sample_type delimiter or quote      , '/Users/anabbi/OneDrive - UHN/Documents/Jabado/TCR_HSJ/Data//commonclonotypes_metadata.csv'\n",
      "  1 filename\",\"Study\",\"Patient\",\"Samplename\",\"Sample_type delimiter or quote      I '/Users/anabbi/OneDrive - UHN/Documents/Jabado/TCR_HSJ/Data//commonclonotypes_metadata.csv'\n",
      "  1 filename\",\"Study\",\"Patient\",\"Samplename\",\"Sample_type delimiter or quote      , '/Users/anabbi/OneDrive - UHN/Documents/Jabado/TCR_HSJ/Data//commonclonotypes_metadata.csv'\n",
      "... ..................................................... .................. ...... ...........................................................................................\n",
      "See problems(...) for more details.\n",
      "”"
     ]
    },
    {
     "name": "stdout",
     "output_type": "stream",
     "text": [
      "Parsing /Users/anabbi/OneDrive - UHN/Documents/Jabado/TCR_HSJ/Data//pubrep_TCR_HSJ.csv -- unsupported format, skipping\n"
     ]
    },
    {
     "name": "stderr",
     "output_type": "stream",
     "text": [
      "my files:\n"
     ]
    },
    {
     "name": "stdout",
     "output_type": "stream",
     "text": [
      "character(0)\n"
     ]
    },
    {
     "ename": "ERROR",
     "evalue": "Error in data_list[[1]]: subscript out of bounds\n",
     "output_type": "error",
     "traceback": [
      "Error in data_list[[1]]: subscript out of bounds\nTraceback:\n",
      "1. pubrep.fx(datapath, \"pubrep_TCR_HSJ.csv\", datapath)",
      "2. pubRep(TRBrep, \"aa\", .verbose = F)   # at line 8 of file <text>"
     ]
    }
   ],
   "source": [
    "pubrep.fx(datapath, \"pubrep_TCR_HSJ.csv\", datapath)"
   ]
  },
  {
   "cell_type": "markdown",
   "metadata": {},
   "source": [
    "## Pub rep of LFS"
   ]
  },
  {
   "cell_type": "code",
   "execution_count": null,
   "metadata": {},
   "outputs": [],
   "source": [
    "datapathLFS <- \"/Users/anabbi/OneDrive - UHN/Documents/INTERCEPT/Data/LFS\""
   ]
  },
  {
   "cell_type": "code",
   "execution_count": null,
   "metadata": {},
   "outputs": [],
   "source": [
    "pubrep.fx(datapathLFS, \"pubrep_LFS.csv\", datapathLFS)"
   ]
  },
  {
   "cell_type": "markdown",
   "metadata": {},
   "source": [
    "## Load all clonstats and plot percentage productive cdr3s"
   ]
  },
  {
   "cell_type": "code",
   "execution_count": 4,
   "metadata": {},
   "outputs": [],
   "source": [
    "mylist <- list.files(datapath,\n",
    "                     recursive = TRUE,\n",
    "                     pattern = \"clonstats\")"
   ]
  },
  {
   "cell_type": "code",
   "execution_count": 5,
   "metadata": {},
   "outputs": [],
   "source": [
    "mylist <- mylist[grepl(\"common_clonotypes\", mylist)]"
   ]
  },
  {
   "cell_type": "code",
   "execution_count": 6,
   "metadata": {},
   "outputs": [
    {
     "data": {
      "text/html": [
       "<ol class=list-inline>\n",
       "\t<li>'common_clonotypes/clonstats_TRB_IMS_cells.csv'</li>\n",
       "\t<li>'common_clonotypes/clonstats_TRBCHPtotal.csv'</li>\n",
       "\t<li>'common_clonotypes/clonstats_TRBHSJ.csv'</li>\n",
       "\t<li>'common_clonotypes/clonstats_TRBIMS_batches.csv'</li>\n",
       "\t<li>'common_clonotypes/clonstats_TRBINSPIRE_cdna.csv'</li>\n",
       "\t<li>'common_clonotypes/clonstats_TRBINSPIRE_cfdna.csv'</li>\n",
       "\t<li>'common_clonotypes/clonstats_TRBINSPIRE_genomic.csv'</li>\n",
       "\t<li>'common_clonotypes/clonstats_TRBLFS.csv'</li>\n",
       "\t<li>'common_clonotypes/clonstats_TRBLymphotrack.csv'</li>\n",
       "\t<li>'common_clonotypes/clonstats_TRBNPC_captured.csv'</li>\n",
       "\t<li>'common_clonotypes/clonstats_TRBTCLlines.csv'</li>\n",
       "\t<li>'common_clonotypes/clonstats_TRBTLML_cDNAgenomic.csv'</li>\n",
       "\t<li>'common_clonotypes/clonstats_TRBTLML_cfDNA.csv'</li>\n",
       "</ol>\n"
      ],
      "text/latex": [
       "\\begin{enumerate*}\n",
       "\\item 'common\\_clonotypes/clonstats\\_TRB\\_IMS\\_cells.csv'\n",
       "\\item 'common\\_clonotypes/clonstats\\_TRBCHPtotal.csv'\n",
       "\\item 'common\\_clonotypes/clonstats\\_TRBHSJ.csv'\n",
       "\\item 'common\\_clonotypes/clonstats\\_TRBIMS\\_batches.csv'\n",
       "\\item 'common\\_clonotypes/clonstats\\_TRBINSPIRE\\_cdna.csv'\n",
       "\\item 'common\\_clonotypes/clonstats\\_TRBINSPIRE\\_cfdna.csv'\n",
       "\\item 'common\\_clonotypes/clonstats\\_TRBINSPIRE\\_genomic.csv'\n",
       "\\item 'common\\_clonotypes/clonstats\\_TRBLFS.csv'\n",
       "\\item 'common\\_clonotypes/clonstats\\_TRBLymphotrack.csv'\n",
       "\\item 'common\\_clonotypes/clonstats\\_TRBNPC\\_captured.csv'\n",
       "\\item 'common\\_clonotypes/clonstats\\_TRBTCLlines.csv'\n",
       "\\item 'common\\_clonotypes/clonstats\\_TRBTLML\\_cDNAgenomic.csv'\n",
       "\\item 'common\\_clonotypes/clonstats\\_TRBTLML\\_cfDNA.csv'\n",
       "\\end{enumerate*}\n"
      ],
      "text/markdown": [
       "1. 'common_clonotypes/clonstats_TRB_IMS_cells.csv'\n",
       "2. 'common_clonotypes/clonstats_TRBCHPtotal.csv'\n",
       "3. 'common_clonotypes/clonstats_TRBHSJ.csv'\n",
       "4. 'common_clonotypes/clonstats_TRBIMS_batches.csv'\n",
       "5. 'common_clonotypes/clonstats_TRBINSPIRE_cdna.csv'\n",
       "6. 'common_clonotypes/clonstats_TRBINSPIRE_cfdna.csv'\n",
       "7. 'common_clonotypes/clonstats_TRBINSPIRE_genomic.csv'\n",
       "8. 'common_clonotypes/clonstats_TRBLFS.csv'\n",
       "9. 'common_clonotypes/clonstats_TRBLymphotrack.csv'\n",
       "10. 'common_clonotypes/clonstats_TRBNPC_captured.csv'\n",
       "11. 'common_clonotypes/clonstats_TRBTCLlines.csv'\n",
       "12. 'common_clonotypes/clonstats_TRBTLML_cDNAgenomic.csv'\n",
       "13. 'common_clonotypes/clonstats_TRBTLML_cfDNA.csv'\n",
       "\n",
       "\n"
      ],
      "text/plain": [
       " [1] \"common_clonotypes/clonstats_TRB_IMS_cells.csv\"      \n",
       " [2] \"common_clonotypes/clonstats_TRBCHPtotal.csv\"        \n",
       " [3] \"common_clonotypes/clonstats_TRBHSJ.csv\"             \n",
       " [4] \"common_clonotypes/clonstats_TRBIMS_batches.csv\"     \n",
       " [5] \"common_clonotypes/clonstats_TRBINSPIRE_cdna.csv\"    \n",
       " [6] \"common_clonotypes/clonstats_TRBINSPIRE_cfdna.csv\"   \n",
       " [7] \"common_clonotypes/clonstats_TRBINSPIRE_genomic.csv\" \n",
       " [8] \"common_clonotypes/clonstats_TRBLFS.csv\"             \n",
       " [9] \"common_clonotypes/clonstats_TRBLymphotrack.csv\"     \n",
       "[10] \"common_clonotypes/clonstats_TRBNPC_captured.csv\"    \n",
       "[11] \"common_clonotypes/clonstats_TRBTCLlines.csv\"        \n",
       "[12] \"common_clonotypes/clonstats_TRBTLML_cDNAgenomic.csv\"\n",
       "[13] \"common_clonotypes/clonstats_TRBTLML_cfDNA.csv\"      "
      ]
     },
     "metadata": {},
     "output_type": "display_data"
    }
   ],
   "source": [
    "mylist"
   ]
  },
  {
   "cell_type": "code",
   "execution_count": 7,
   "metadata": {},
   "outputs": [],
   "source": [
    "all.files <- lapply(mylist, function(f){ read.csv(paste0(datapath,f), \n",
    "                                                   header = TRUE)})"
   ]
  },
  {
   "cell_type": "code",
   "execution_count": 8,
   "metadata": {},
   "outputs": [],
   "source": [
    "ID <- c(\"IMScells\", \"CHPtotal\", \"HSJ\", \"IMSbatches\", \"INSPIREcdna\", \n",
    "        \"INSPIREcfdna\", \"INSPIREgenomic\", \"LFS\", \"Lymphotrack\", \"NPCcap\", \n",
    "        \"TCLline\", \"TLMLcdnagenomic\", \"TLMLcfdna\")"
   ]
  },
  {
   "cell_type": "code",
   "execution_count": 9,
   "metadata": {},
   "outputs": [],
   "source": [
    "filelist <- mapply(cbind, all.files, \"StudyID\"=ID, SIMPLIFY=F)"
   ]
  },
  {
   "cell_type": "code",
   "execution_count": 11,
   "metadata": {},
   "outputs": [],
   "source": [
    "file.df <- as.data.frame(do.call(rbind, filelist))"
   ]
  },
  {
   "cell_type": "code",
   "execution_count": 12,
   "metadata": {},
   "outputs": [],
   "source": [
    "file.df$percproductive <- (file.df$productive / file.df$total) * 100"
   ]
  },
  {
   "cell_type": "code",
   "execution_count": 13,
   "metadata": {},
   "outputs": [
    {
     "data": {
      "text/plain": [
       "    Min.  1st Qu.   Median     Mean  3rd Qu.     Max. \n",
       "     0.0     74.2    370.5  19155.7  12910.2 344217.0 "
      ]
     },
     "metadata": {},
     "output_type": "display_data"
    }
   ],
   "source": [
    "summary(file.df$productive )"
   ]
  },
  {
   "cell_type": "code",
   "execution_count": 14,
   "metadata": {},
   "outputs": [
    {
     "name": "stderr",
     "output_type": "stream",
     "text": [
      "Warning message:\n",
      "“Removed 2 rows containing non-finite values (stat_boxplot).”"
     ]
    },
    {
     "data": {
      "image/png": "[encoded data removed]",
      "text/plain": [
       "plot without title"
      ]
     },
     "metadata": {},
     "output_type": "display_data"
    }
   ],
   "source": [
    "ggplot(file.df, aes(x = StudyID, y = percproductive)) + geom_boxplot() +\n",
    "theme(axis.text.x = element_text(angle = 45, hjust = 1))"
   ]
  },
  {
   "cell_type": "markdown",
   "metadata": {},
   "source": [
    "## Load all pubrep files"
   ]
  },
  {
   "cell_type": "code",
   "execution_count": 11,
   "metadata": {},
   "outputs": [],
   "source": [
    "filelist <- list.files(datapath,\n",
    "                     recursive = TRUE,\n",
    "                     pattern = \"pubrep\")"
   ]
  },
  {
   "cell_type": "code",
   "execution_count": 12,
   "metadata": {},
   "outputs": [],
   "source": [
    "filelist <- filelist[grepl(\"common_clonotypes\", filelist)]"
   ]
  },
  {
   "cell_type": "code",
   "execution_count": 13,
   "metadata": {},
   "outputs": [
    {
     "data": {
      "text/html": [
       "<ol class=list-inline>\n",
       "\t<li>'common_clonotypes/pubrep_ims_batch1to44.csv'</li>\n",
       "\t<li>'common_clonotypes/pubrep_ims_lines.csv'</li>\n",
       "\t<li>'common_clonotypes/pubrep_inspire_cfDNA.csv'</li>\n",
       "\t<li>'common_clonotypes/pubrep_inspire_genomic.csv'</li>\n",
       "\t<li>'common_clonotypes/pubrep_INTERCEPT.csv'</li>\n",
       "\t<li>'common_clonotypes/pubrep_LFS.csv'</li>\n",
       "\t<li>'common_clonotypes/pubrep_lymphotrack.csv'</li>\n",
       "\t<li>'common_clonotypes/pubrep_NPCcaptured.csv'</li>\n",
       "\t<li>'common_clonotypes/pubrep_TCLlines.csv'</li>\n",
       "\t<li>'common_clonotypes/pubrep_TCR_HSJ.csv'</li>\n",
       "\t<li>'common_clonotypes/pubrep_TLML_cfDNA.csv'</li>\n",
       "\t<li>'common_clonotypes/pubrep_TLMLcDNAgenomic.csv'</li>\n",
       "</ol>\n"
      ],
      "text/latex": [
       "\\begin{enumerate*}\n",
       "\\item 'common\\_clonotypes/pubrep\\_ims\\_batch1to44.csv'\n",
       "\\item 'common\\_clonotypes/pubrep\\_ims\\_lines.csv'\n",
       "\\item 'common\\_clonotypes/pubrep\\_inspire\\_cfDNA.csv'\n",
       "\\item 'common\\_clonotypes/pubrep\\_inspire\\_genomic.csv'\n",
       "\\item 'common\\_clonotypes/pubrep\\_INTERCEPT.csv'\n",
       "\\item 'common\\_clonotypes/pubrep\\_LFS.csv'\n",
       "\\item 'common\\_clonotypes/pubrep\\_lymphotrack.csv'\n",
       "\\item 'common\\_clonotypes/pubrep\\_NPCcaptured.csv'\n",
       "\\item 'common\\_clonotypes/pubrep\\_TCLlines.csv'\n",
       "\\item 'common\\_clonotypes/pubrep\\_TCR\\_HSJ.csv'\n",
       "\\item 'common\\_clonotypes/pubrep\\_TLML\\_cfDNA.csv'\n",
       "\\item 'common\\_clonotypes/pubrep\\_TLMLcDNAgenomic.csv'\n",
       "\\end{enumerate*}\n"
      ],
      "text/markdown": [
       "1. 'common_clonotypes/pubrep_ims_batch1to44.csv'\n",
       "2. 'common_clonotypes/pubrep_ims_lines.csv'\n",
       "3. 'common_clonotypes/pubrep_inspire_cfDNA.csv'\n",
       "4. 'common_clonotypes/pubrep_inspire_genomic.csv'\n",
       "5. 'common_clonotypes/pubrep_INTERCEPT.csv'\n",
       "6. 'common_clonotypes/pubrep_LFS.csv'\n",
       "7. 'common_clonotypes/pubrep_lymphotrack.csv'\n",
       "8. 'common_clonotypes/pubrep_NPCcaptured.csv'\n",
       "9. 'common_clonotypes/pubrep_TCLlines.csv'\n",
       "10. 'common_clonotypes/pubrep_TCR_HSJ.csv'\n",
       "11. 'common_clonotypes/pubrep_TLML_cfDNA.csv'\n",
       "12. 'common_clonotypes/pubrep_TLMLcDNAgenomic.csv'\n",
       "\n",
       "\n"
      ],
      "text/plain": [
       " [1] \"common_clonotypes/pubrep_ims_batch1to44.csv\" \n",
       " [2] \"common_clonotypes/pubrep_ims_lines.csv\"      \n",
       " [3] \"common_clonotypes/pubrep_inspire_cfDNA.csv\"  \n",
       " [4] \"common_clonotypes/pubrep_inspire_genomic.csv\"\n",
       " [5] \"common_clonotypes/pubrep_INTERCEPT.csv\"      \n",
       " [6] \"common_clonotypes/pubrep_LFS.csv\"            \n",
       " [7] \"common_clonotypes/pubrep_lymphotrack.csv\"    \n",
       " [8] \"common_clonotypes/pubrep_NPCcaptured.csv\"    \n",
       " [9] \"common_clonotypes/pubrep_TCLlines.csv\"       \n",
       "[10] \"common_clonotypes/pubrep_TCR_HSJ.csv\"        \n",
       "[11] \"common_clonotypes/pubrep_TLML_cfDNA.csv\"     \n",
       "[12] \"common_clonotypes/pubrep_TLMLcDNAgenomic.csv\""
      ]
     },
     "metadata": {},
     "output_type": "display_data"
    }
   ],
   "source": [
    "filelist"
   ]
  },
  {
   "cell_type": "code",
   "execution_count": 14,
   "metadata": {},
   "outputs": [],
   "source": [
    "all.files <- lapply(filelist, function(f){ read.csv(paste0(datapath,f), stringsAsFactors = F,\n",
    "                                                   header = F, nrow = 1)})"
   ]
  },
  {
   "cell_type": "code",
   "execution_count": 15,
   "metadata": {},
   "outputs": [],
   "source": [
    "allfilenames <- unlist(all.files)"
   ]
  },
  {
   "cell_type": "code",
   "execution_count": 16,
   "metadata": {},
   "outputs": [],
   "source": [
    "allfilenames <- allfilenames[allfilenames != \"CDR3.aa\" &\n",
    "                             allfilenames != \"Samples\"]"
   ]
  },
  {
   "cell_type": "markdown",
   "metadata": {},
   "source": [
    "### Number of files"
   ]
  },
  {
   "cell_type": "code",
   "execution_count": 17,
   "metadata": {},
   "outputs": [
    {
     "data": {
      "text/html": [
       "518"
      ],
      "text/latex": [
       "518"
      ],
      "text/markdown": [
       "518"
      ],
      "text/plain": [
       "[1] 518"
      ]
     },
     "metadata": {},
     "output_type": "display_data"
    }
   ],
   "source": [
    "length(allfilenames)"
   ]
  },
  {
   "cell_type": "code",
   "execution_count": 18,
   "metadata": {},
   "outputs": [],
   "source": [
    "all.cdr3 <- lapply(filelist, function(f){ fread(paste0(datapath,f), \n",
    "                                                   header = TRUE, select = 1)})"
   ]
  },
  {
   "cell_type": "code",
   "execution_count": 19,
   "metadata": {},
   "outputs": [],
   "source": [
    "allcdr3.df <- as.data.frame(do.call(rbind, all.cdr3))"
   ]
  },
  {
   "cell_type": "code",
   "execution_count": 20,
   "metadata": {},
   "outputs": [
    {
     "data": {
      "text/html": [
       "<ol class=list-inline>\n",
       "\t<li>656703</li>\n",
       "\t<li>1</li>\n",
       "</ol>\n"
      ],
      "text/latex": [
       "\\begin{enumerate*}\n",
       "\\item 656703\n",
       "\\item 1\n",
       "\\end{enumerate*}\n"
      ],
      "text/markdown": [
       "1. 656703\n",
       "2. 1\n",
       "\n",
       "\n"
      ],
      "text/plain": [
       "[1] 656703      1"
      ]
     },
     "metadata": {},
     "output_type": "display_data"
    }
   ],
   "source": [
    "dim(allcdr3.df)"
   ]
  },
  {
   "cell_type": "code",
   "execution_count": 21,
   "metadata": {},
   "outputs": [],
   "source": [
    "uniques <- levels(factor(allcdr3.df$CDR3.aa))"
   ]
  },
  {
   "cell_type": "markdown",
   "metadata": {},
   "source": [
    "### Number of unique clonotypes"
   ]
  },
  {
   "cell_type": "code",
   "execution_count": 22,
   "metadata": {},
   "outputs": [
    {
     "data": {
      "text/html": [
       "633093"
      ],
      "text/latex": [
       "633093"
      ],
      "text/markdown": [
       "633093"
      ],
      "text/plain": [
       "[1] 633093"
      ]
     },
     "metadata": {},
     "output_type": "display_data"
    }
   ],
   "source": [
    "length(uniques)"
   ]
  },
  {
   "cell_type": "markdown",
   "metadata": {},
   "source": [
    "### Make an empty matrix filenames and cdr3a"
   ]
  },
  {
   "cell_type": "code",
   "execution_count": 23,
   "metadata": {},
   "outputs": [],
   "source": [
    "mymat <- matrix(nrow = length(uniques), ncol = length(allfilenames))\n",
    "rownames(mymat) <- uniques\n",
    "colnames(mymat) <- allfilenames"
   ]
  },
  {
   "cell_type": "code",
   "execution_count": 24,
   "metadata": {},
   "outputs": [
    {
     "data": {
      "text/html": [
       "<table>\n",
       "<caption>A matrix: 6 × 518 of type lgl</caption>\n",
       "<thead>\n",
       "\t<tr><th></th><th scope=col>IMS-001_MoST-K006_T_DNA</th><th scope=col>IMS-002_MoST-K011_T_DNA</th><th scope=col>IMS-003_MoST-K014_T_DNA</th><th scope=col>IMS-004_MoST-K001_T_DNA</th><th scope=col>IMS-005_MoST-K016_T_DNA</th><th scope=col>IMS-006_MoST-K017_T_DNA</th><th scope=col>IMS-007_MoST-K018_T_DNA</th><th scope=col>IMS-008_MoST-K024_T_DNA</th><th scope=col>IMS-009_MoST-K033_T_DNA</th><th scope=col>IMS-010_MoST-K035_T_DNA</th><th scope=col>⋯</th><th scope=col>CLONES_TRB_TLML_4_JR_infusion_TCR-JV_cDNA_13_GTCGTAGA</th><th scope=col>CLONES_TRB_TLML_7_AL_12W_TCR-J_Dep_TCR-V_genomic_1000_ACAGCAGA</th><th scope=col>CLONES_TRB_TLML_7_AL_12W_TCR-JV_cDNA_35_TGAAGAGA</th><th scope=col>CLONES_TRB_TLML_7_AL_17W_TCR-J_Dep_TCR-V_genomic_1000_ACCTCCAA</th><th scope=col>CLONES_TRB_TLML_7_AL_17W_TCR-JV_cDNA_106_TGGAACAA</th><th scope=col>CLONES_TRB_TLML_7_AL_4W_TCR-J_Dep_TCR-V_genomic_1000_ACACAGAA</th><th scope=col>CLONES_TRB_TLML_7_AL_4W_TCR-JV_cDNA_37_TCTTCACA</th><th scope=col>CLONES_TRB_TLML_7_AL_apheresis_TCR-JV_cDNA_21_TCCGTCTA</th><th scope=col>CLONES_TRB_TLML_7_AL_infusion_TCR-J_Dep_TCR-V_genomic_1000_AAGACGGA</th><th scope=col>CLONES_TRB_TLML_7_AL_infusion_TCR-JV_cDNA_25_TATCAGCA</th></tr>\n",
       "</thead>\n",
       "<tbody>\n",
       "\t<tr><th scope=row>*AFF</th><td>NA</td><td>NA</td><td>NA</td><td>NA</td><td>NA</td><td>NA</td><td>NA</td><td>NA</td><td>NA</td><td>NA</td><td>⋯</td><td>NA</td><td>NA</td><td>NA</td><td>NA</td><td>NA</td><td>NA</td><td>NA</td><td>NA</td><td>NA</td><td>NA</td></tr>\n",
       "\t<tr><th scope=row>*ASRHWDSANTEAFF</th><td>NA</td><td>NA</td><td>NA</td><td>NA</td><td>NA</td><td>NA</td><td>NA</td><td>NA</td><td>NA</td><td>NA</td><td>⋯</td><td>NA</td><td>NA</td><td>NA</td><td>NA</td><td>NA</td><td>NA</td><td>NA</td><td>NA</td><td>NA</td><td>NA</td></tr>\n",
       "\t<tr><th scope=row>*ASRRGTNQPQHF</th><td>NA</td><td>NA</td><td>NA</td><td>NA</td><td>NA</td><td>NA</td><td>NA</td><td>NA</td><td>NA</td><td>NA</td><td>⋯</td><td>NA</td><td>NA</td><td>NA</td><td>NA</td><td>NA</td><td>NA</td><td>NA</td><td>NA</td><td>NA</td><td>NA</td></tr>\n",
       "\t<tr><th scope=row>*ASRVEGGGSYNEQFF</th><td>NA</td><td>NA</td><td>NA</td><td>NA</td><td>NA</td><td>NA</td><td>NA</td><td>NA</td><td>NA</td><td>NA</td><td>⋯</td><td>NA</td><td>NA</td><td>NA</td><td>NA</td><td>NA</td><td>NA</td><td>NA</td><td>NA</td><td>NA</td><td>NA</td></tr>\n",
       "\t<tr><th scope=row>*ASSEIAGGYEQYF</th><td>NA</td><td>NA</td><td>NA</td><td>NA</td><td>NA</td><td>NA</td><td>NA</td><td>NA</td><td>NA</td><td>NA</td><td>⋯</td><td>NA</td><td>NA</td><td>NA</td><td>NA</td><td>NA</td><td>NA</td><td>NA</td><td>NA</td><td>NA</td><td>NA</td></tr>\n",
       "\t<tr><th scope=row>*ASSLARG~SQETQYF</th><td>NA</td><td>NA</td><td>NA</td><td>NA</td><td>NA</td><td>NA</td><td>NA</td><td>NA</td><td>NA</td><td>NA</td><td>⋯</td><td>NA</td><td>NA</td><td>NA</td><td>NA</td><td>NA</td><td>NA</td><td>NA</td><td>NA</td><td>NA</td><td>NA</td></tr>\n",
       "</tbody>\n",
       "</table>\n"
      ],
      "text/latex": [
       "A matrix: 6 × 518 of type lgl\n",
       "\\begin{tabular}{r|llllllllllllllllllllllllllllllllllllllllllllllllllllllllllllllllllllllllllllllllllllllllllllllllllllllllllllllllllllllllllllllllllllllllllllllllllllllllllllllllllllllllllllllllllllllllllllllllllllllllllllllllllllllllllllllllllllllllllllllllllllllllllllllllllllllllllllllllllllllllllllllllllllllllllllllllllllllllllllllllllllllllllllllllllllllllllllllllllllllllllllllllllllllllllllllllllllllllllllllllllllllllllllllllllllllllllllllllllllllllllllllllllllllllllllllllllllllllllllllllllllllllllllllllllllllllllllllllllllll}\n",
       "  & IMS-001\\_MoST-K006\\_T\\_DNA & IMS-002\\_MoST-K011\\_T\\_DNA & IMS-003\\_MoST-K014\\_T\\_DNA & IMS-004\\_MoST-K001\\_T\\_DNA & IMS-005\\_MoST-K016\\_T\\_DNA & IMS-006\\_MoST-K017\\_T\\_DNA & IMS-007\\_MoST-K018\\_T\\_DNA & IMS-008\\_MoST-K024\\_T\\_DNA & IMS-009\\_MoST-K033\\_T\\_DNA & IMS-010\\_MoST-K035\\_T\\_DNA & IMS-011\\_MoST-K037\\_T\\_DNA & IMS-012\\_MoST-K040\\_T\\_DNA & IMS-013\\_MoST-K046\\_T\\_DNA & IMS-014\\_MoST-K047\\_T\\_DNA & IMS-015\\_MoST-K059\\_T\\_DNA & IMS-017\\_MoST-K069\\_T\\_DNA & IMS-018\\_MoST-K076\\_T\\_DNA & IMS-019\\_MoST-K080\\_T\\_DNA & IMS-020\\_MoST-K084\\_T\\_DNA & IMS-021\\_MoST-K099\\_T\\_DNA & IMS-022\\_MoST-K107\\_T\\_DNA & IMS-023\\_MoST-K108\\_T\\_DNA & IMS-024\\_MoST-K110\\_T\\_DNA & IMS-025\\_MoST-K112\\_T\\_DNA & IMS-026\\_MoST-K121\\_T\\_DNA & IMS-027\\_MoST-K124\\_T\\_DNA & IMS-028\\_MoST-K125\\_T\\_DNA & IMS-029\\_MoST-K133\\_T\\_DNA & IMS-030\\_MoST-K136\\_T\\_DNA & IMS-031\\_MoST-K143\\_T\\_DNA & IMS-032\\_MoST-K145\\_T\\_DNA & IMS-033\\_MoST-K148\\_T\\_DNA & IMS-034\\_MoST-K155\\_T\\_DNA & IMS-035\\_MoST-K157\\_T\\_DNA & IMS-036\\_MoST-K164\\_T\\_DNA & IMS-037\\_MoST-K166\\_T\\_DNA & IMS-038\\_MoST-K179\\_T\\_DNA & IMS-039\\_MoST-K193\\_T\\_DNA & IMS-040\\_MoST-K198\\_T\\_DNA & IMS-041\\_MoST-K200\\_T\\_DNA & IMS-042\\_MoST-K204\\_T\\_DNA & IMS-043\\_MoST-K217\\_T\\_DNA & IMS-044\\_MoST-K228\\_T\\_DNA & IMS-045\\_MoST-K006-BLBC\\_N\\_DNA & IMS-046\\_MoST-K011-BLBC\\_N\\_DNA & IMS-047\\_MoST-K014-BLBC\\_N\\_DNA & IMS-048\\_MoST-K015-BLBC\\_N\\_DNA & IMS-049\\_MoST-K016-BLBC\\_N\\_DNA & IMS-050\\_MoST-K017-BLBC\\_N\\_DNA & IMS-051\\_MoST-K018-BLBC\\_N\\_DNA & IMS-052\\_MoST-K024-BLBC\\_N\\_DNA & IMS-053\\_MoST-K033-BLBC\\_N\\_DNA & IMS-054\\_MoST-K035-BLBC\\_N\\_DNA & IMS-055\\_MoST-K037-BLBC\\_N\\_DNA & IMS-056\\_MoST-K040-BLBC\\_N\\_DNA & IMS-057\\_MoST-K046-BLBC\\_N\\_DNA & IMS-058\\_MoST-K047-BLBC\\_N\\_DNA & IMS-059\\_MoST-K059-BLBC\\_N\\_DNA & IMS-060\\_MoST-K065-BLBC\\_N\\_DNA & IMS-061\\_MoST-K069-BLBC\\_N\\_DNA & IMS-062\\_MoST-K076-BLBC\\_N\\_DNA & IMS-063\\_MoST-K080-BLBC\\_N\\_DNA & IMS-064\\_MoST-K084-BLBC\\_N\\_DNA & IMS-065\\_MoST-K099-BLBC\\_N\\_DNA & IMS-066\\_MoST-K107-BLBC\\_N\\_DNA & IMS-067\\_MoST-K108-BLBC\\_N\\_DNA & IMS-068\\_MoST-K110-BLBC\\_N\\_DNA & IMS-069\\_MoST-K112-BLBC\\_N\\_DNA & IMS-070\\_MoST-K121-BLBC\\_N\\_DNA & IMS-071\\_MoST-K124-BLBC\\_N\\_DNA & IMS-072\\_MoST-K125-BLBC\\_N\\_DNA & IMS-073\\_MoST-K133-BLBC\\_N\\_DNA & IMS-074\\_MoST-K136-BLBC\\_N\\_DNA & IMS-075\\_MoST-K143-BLBC\\_N\\_DNA & IMS-076\\_MoST-K145-BLBC\\_N\\_DNA & IMS-077\\_MoST-K148-BLBC\\_N\\_DNA & IMS-078\\_MoST-K155-BLBC\\_N\\_DNA & IMS-079\\_MoST-K157-BLBC\\_N\\_DNA & IMS-080\\_MoST-K164-BLBC\\_N\\_DNA & IMS-081\\_MoST-K166-BLBC\\_N\\_DNA & IMS-082\\_MoST-K179-BLBC\\_N\\_DNA & IMS-083\\_MoST-K193-BLBC\\_N\\_DNA & IMS-084\\_MoST-K198-BLBC\\_N\\_DNA & IMS-085\\_MoST-K200-BLBC\\_N\\_DNA & IMS-086\\_MoST-K204-BLBC\\_N\\_DNA & IMS-087\\_MoST-K217-BLBC\\_N\\_DNA & IMS-088\\_MoST-K228-BLBC\\_N\\_DNA & IMS-089\\_MoST-K006-4WBC\\_N\\_DNA & IMS-090\\_MoST-K011-4WBC\\_N\\_DNA & IMS-091\\_MoST-K014-4WBC\\_N\\_DNA & IMS-092\\_MoST-K015-4WBC\\_N\\_DNA & IMS-093\\_MoST-K016-4WBC\\_N\\_DNA & IMS-094\\_MoST-K017-4WBC\\_N\\_DNA & IMS-095\\_MoST-K018-4WBC\\_N\\_DNA & IMS-096\\_MoST-K024-4WBC\\_N\\_DNA & IMS-097\\_MoST-K033-4WBC\\_N\\_DNA & IMS-098\\_MoST-K035-4WBC\\_N\\_DNA & IMS-099\\_MoST-K037-4WBC\\_N\\_DNA & IMS-100\\_MoST-K040-4WBC\\_N\\_DNA & IMS-101\\_MoST-K046-4WBC\\_N\\_DNA & IMS-102\\_MoST-K047-4WBC\\_N\\_DNA & IMS-103\\_MoST-K059-4WBC\\_N\\_DNA & IMS-104\\_MoST-K065-4WBC\\_N\\_DNA & IMS-105\\_MoST-K069-4WBC\\_N\\_DNA & IMS-106\\_MoST-K076-4WBC\\_N\\_DNA & IMS-107\\_MoST-K080-4WBC\\_N\\_DNA & IMS-108\\_MoST-K084-4WBC\\_N\\_DNA & IMS-109\\_MoST-K099-4WBC\\_N\\_DNA & IMS-110\\_MoST-K107-4WBC\\_N\\_DNA & IMS-111\\_MoST-K108-4WBC\\_N\\_DNA & IMS-112\\_MoST-K110-4WBC\\_N\\_DNA & IMS-113\\_MoST-K112-4WBC\\_N\\_DNA & IMS-114\\_MoST-K121-4WBC\\_N\\_DNA & IMS-115\\_MoST-K124-4WBC\\_N\\_DNA & IMS-116\\_MoST-K125-4WBC\\_N\\_DNA & IMS-117\\_MoST-K133-4WBC\\_N\\_DNA & IMS-118\\_MoST-K136-4WBC\\_N\\_DNA & IMS-119\\_MoST-K143-4WBC\\_N\\_DNA & IMS-120\\_MoST-K145-4WBC\\_N\\_DNA & IMS-121\\_MoST-K148-4WBC\\_N\\_DNA & IMS-122\\_MoST-K155-4WBC\\_N\\_DNA & IMS-123\\_MoST-K157-4WBC\\_N\\_DNA & IMS-124\\_MoST-K164-4WBC\\_N\\_DNA & IMS-125\\_MoST-K166-4WBC\\_N\\_DNA & IMS-126\\_MoST-K179-4WBC\\_N\\_DNA & IMS-127\\_MoST-K193-4WBC\\_N\\_DNA & IMS-128\\_MoST-K198-4WBC\\_N\\_DNA & IMS-129\\_MoST-K200-4WBC\\_N\\_DNA & IMS-130\\_MoST-K204-4WBC\\_N\\_DNA & IMS-131\\_MoST-K217-4WBC\\_N\\_DNA & IMS-132\\_MoST-K228-4WBC\\_N\\_DNA & IMS-133\\_MoST-K6-PTxT\\_T\\_DNA & IMS-134\\_Most-K11-6B-PTxT\\_T\\_DNA & IMS-135\\_Most-K11-1C-PTxT\\_T\\_DNA & IMS-136\\_MoST-K59A-PTxT\\_T\\_DNA & IMS-137\\_MoST-K99-PTxT\\_T\\_DNA & CLONES\\_TRBA037 & CLONES\\_TRBCEM & CLONES\\_TRBJurkat & CLONES\\_TRBL2D8 & CLONES\\_TRBM36-EZM & CLONES\\_TRBM36-TIL2-1E7P3 & CLONES\\_TRBMOLT-4 & CLONES\\_TRBOV7-TIL2 & CLONES\\_TRBSTIM1-CY3 & CLONES\\_TRBSUP-T1 & CLONES\\_TRBUndetermined & CLONES\\_TRBINSPIRE\\_INS-A-002-C3\\_TCR-J\\_D\\_TCR-V\\_cfDNA\\_48\\_AACAACCA & CLONES\\_TRBINSPIRE\\_INS-A-002-SB\\_TCR-J\\_D\\_TCR-V\\_cfDNA\\_82\\_AGTACAAG & CLONES\\_TRBINSPIRE\\_INS-B-002-EOT\\_TCR-J\\_D\\_TCR-V\\_cfDNA\\_1140\\_AACGCTTA & CLONES\\_TRBINSPIRE\\_INS-B-002-SB\\_TCR-J\\_D\\_TCR-V\\_cfDNA\\_236\\_AACCGAGA & CLONES\\_TRBINSPIRE\\_INS-C-001-C3\\_TCR-J\\_D\\_TCR-V\\_cfDNA\\_44\\_AAGGTACA & CLONES\\_TRBINSPIRE\\_INS-C-001-SB\\_TCR-J\\_D\\_TCR-V\\_cfDNA\\_64\\_AAGACGGA & CLONES\\_TRBINSPIRE\\_INS-D-006-C3\\_TCR-J\\_D\\_TCR-V\\_cfDNA\\_19\\_ACAGCAGA & CLONES\\_TRBINSPIRE\\_INS-D-006-C6\\_TCR-J\\_D\\_TCR-V\\_cfDNA\\_19\\_ACCTCCAA & CLONES\\_TRBINSPIRE\\_INS-D-006-SB\\_TCR-J\\_D\\_TCR-V\\_cfDNA\\_30\\_ACACAGAA & CLONES\\_TRBINSPIRE\\_INS-E-003-C3\\_TCR-J\\_D\\_TCR-V\\_cfDNA\\_76\\_ACGTATCA & CLONES\\_TRBINSPIRE\\_INS-E-003-C6\\_TCR-J\\_D\\_TCR-V\\_cfDNA\\_78\\_ACTATGCA & CLONES\\_TRBINSPIRE\\_INS-E-003-SB\\_TCR-J\\_D\\_TCR-V\\_cfDNA\\_83\\_ACGCTCGA & CLONES\\_TRBINSPIRE\\_INS-A-002-C3B\\_TCR-J\\_D\\_TCR-V\\_genomic\\_868\\_AGCACCTC & CLONES\\_TRBINSPIRE\\_INS-A-002-SB\\_TCR-J\\_D\\_TCR-V\\_genomic\\_1000\\_AAACATCG & CLONES\\_TRBINSPIRE\\_INS-A-002-ST\\_TCR-J\\_D\\_TCR-V\\_genomic\\_1000\\_AACGTGAT & CLONES\\_TRBINSPIRE\\_INS-B-002-EOTB\\_TCR-J\\_D\\_TCR-V\\_genomic\\_961\\_AGCCATGC & CLONES\\_TRBINSPIRE\\_INS-B-002-SB\\_TCR-J\\_D\\_TCR-V\\_genomic\\_1000\\_AGTGGTCA & CLONES\\_TRBINSPIRE\\_INS-B-002-ST\\_TCR-J\\_D\\_TCR-V\\_genomic\\_500\\_ATGCCTAA & CLONES\\_TRBINSPIRE\\_INS-C-001-C3B\\_TCR-J\\_D\\_TCR-V\\_genomic\\_1367\\_AGGCTAAC & CLONES\\_TRBINSPIRE\\_INS-C-001-SB\\_TCR-J\\_D\\_TCR-V\\_genomic\\_1000\\_ACATTGGC & CLONES\\_TRBINSPIRE\\_INS-C-001-ST\\_TCR-J\\_D\\_TCR-V\\_genomic\\_500\\_ACCACTGT & CLONES\\_TRBINSPIRE\\_INS-D-006-C2T\\_TCR-J\\_D\\_TCR-V\\_genomic\\_1000\\_CGCTGATC & CLONES\\_TRBINSPIRE\\_INS-D-006-C3B\\_TCR-J\\_D\\_TCR-V\\_genomic\\_815\\_ATAGCGAC & CLONES\\_TRBINSPIRE\\_INS-D-006-C6B\\_TCR-J\\_D\\_TCR-V\\_genomic\\_961\\_ATCATTCC & CLONES\\_TRBINSPIRE\\_INS-D-006-SB\\_TCR-J\\_D\\_TCR-V\\_genomic\\_1000\\_CATCAAGT & CLONES\\_TRBINSPIRE\\_INS-D-006-ST\\_TCR-J\\_D\\_TCR-V\\_genomic\\_1000\\_CAGATCTG & CLONES\\_TRBINSPIRE\\_INS-E-003-C3B\\_TCR-J\\_D\\_TCR-V\\_genomic\\_88\\_ATTGGCTC & CLONES\\_TRBINSPIRE\\_INS-E-003-C6B\\_TCR-J\\_D\\_TCR-V\\_genomic\\_993\\_CAAGGAG & CLONES\\_TRBINSPIRE\\_INS-E-003-SB\\_TCR-J\\_D\\_TCR-V\\_genomic\\_1000\\_CTGTAGCC & CLONES\\_TRBINSPIRE\\_INS-E-003-ST\\_TCR-J\\_D\\_TCR-V\\_genomic\\_1000\\_ACAAGCTA & CHP\\_346-01 & CHP\\_348-03 & CHP\\_348-04 & CHP\\_349-01 & CHP\\_349-02 & CHP\\_350-03 & CHP\\_352-01 & CHP\\_352-02 & CHP\\_356-05 & CHP\\_358-01 & CHP\\_363-03 & CHP\\_365-02 & CHP\\_367-01 & CHP\\_319-05 & CHP\\_329-04 & CHP\\_330-05 & CHP\\_331-04 & CHP\\_331-05 & CHP\\_338-04 & CHP\\_338-05 & CHP\\_342-04 & CHP\\_343-02 & CHP\\_343-03 & CHP\\_343-04 & CHP\\_348-01 & CHP\\_348-02 & CHP\\_339-05 & CHP\\_340-05 & CHP\\_345-04 & CHP\\_345-05 & CHP\\_350-05 & CHP\\_358-03 & CHP\\_358-05 & CHP\\_360-03 & CHP\\_361-02 & CHP\\_361-03 & CHP\\_365-03 & CHP\\_368-05 & CHP\\_370-02 & CHP\\_373-01 & CHP\\_374-03 & CHP\\_374-04 & CHP\\_374-05 & CHP\\_376-03 & CHP\\_378-01 & CHP\\_380-02 & CHP\\_381-02 & CHP\\_303-05 & CHP\\_315-05 & CHP\\_323-03 & CHP\\_338-03 & CHP\\_339-03 & CHP\\_340-03 & CHP\\_343-05 & CHP\\_344-05 & CHP\\_345-02 & CHP\\_347-01 & CHP\\_347-02 & CHP\\_355-01 & CHP\\_357-01 & CHP\\_361-01 & CHP\\_362-02 & CHP\\_363-02 & CHP\\_364-01 & CHP\\_364-02 & CHP\\_364-04 & CHP\\_366-01 & CHP\\_340-04 & CHP\\_347-04 & CHP\\_357-03 & CHP\\_359-02 & CHP\\_359-04 & CHP\\_367-02 & CHP\\_323-04 & CHP\\_323-05 & CHP\\_344-02 & CHP\\_344-03 & CHP\\_345-03 & CHP\\_347-03 & CHP\\_351-04 & CHP\\_353-01 & CHP\\_353-03 & CHP\\_353-05 & CHP\\_357-04 & CHP\\_359-01 & CHP\\_360-02 & CHP\\_361-04 & CHP\\_362-01 & CHP\\_362-03 & CHP\\_362-04 & CHP\\_368-01 & CHP\\_368-04 & CHP\\_370-01 & CHP\\_370-05 & CHP\\_373-02 & CHP\\_375-02 & CHP\\_378-02 & CHP\\_335-03 & CHP\\_344-04 & CHP\\_347-05 & CHP\\_356-02 & CHP\\_357-02 & CHP\\_360-05 & CHP\\_369-02 & CHP\\_370-03 & CHP\\_373-03 & CHP\\_378-04 & CHP\\_380-03 & CHP\\_380-05 & CHP\\_382-02 & CHP\\_383-03 & CHP\\_385-03 & CHP\\_386-02 & CHP\\_387-01 & CHP\\_394-01 & CHP\\_394-04 & CHP\\_396-01 & CHP\\_396-02 & CHP\\_397-01 & CHP\\_399-01 & CLONES\\_TRBLFS\\_TCR-4535-PBMC-DNA & CLONES\\_TRBLFS\\_TCR-4570-PBMC-DNA & CLONES\\_TRBLFS\\_TCR-4602-PBMC-DNA & CLONES\\_TRBLFS\\_TCR-4758-PBMC-DNA & CLONES\\_TRBLFS\\_TCR-4759-PBMC-DNA & CLONES\\_TRBLFS\\_TCR-4783-PBMC-DNA & CLONES\\_TRBLFS\\_TCR-4837-PBMC-DNA & CLONES\\_TRBLFS\\_TCR-4838-PBMC-DNA & CLONES\\_TRBLFS\\_TCR-5014-PBMC-DNA & CLONES\\_TRBLFS\\_TCR-5067-PBMC-DNA & CLONES\\_TRBLFS\\_TCR-4535-PBMC-DNA\\_2000000 & CLONES\\_TRBLFS\\_TCR-4570-PBMC-DNA\\_2000000 & CLONES\\_TRBLFS\\_TCR-4602-PBMC-DNA\\_2000000 & CLONES\\_TRBLFS\\_TCR-4758-PBMC-DNA\\_2000000 & CLONES\\_TRBLFS\\_TCR-4759-PBMC-DNA\\_2000000 & CLONES\\_TRBLFS\\_TCR-4783-PBMC-DNA\\_2000000 & CLONES\\_TRBLFS\\_TCR-4837-PBMC-DNA\\_2000000 & CLONES\\_TRBLFS\\_TCR-4838-PBMC-DNA\\_2000000 & CLONES\\_TRBLFS\\_TCR-5014-PBMC-DNA\\_2000000 & CLONES\\_TRBLFS\\_TCR-5067-PBMC-DNA\\_2000000 & CLONES\\_TRBSample\\_18-04-Lymphotrack-TCRB-A037-PBMC-25\\_S3 & CLONES\\_TRBSample\\_18-04-Lymphotrack-TCRB-H128-PBMC-25\\_S4 & CLONES\\_TRBSample\\_18-04-Lymphotrack-TCRB-H129-PBMC-25\\_S5 & CLONES\\_TRBSample\\_18-04-Lymphotrack-TCRB-H130-PBMC-25\\_S6 & CLONES\\_TRBSample\\_18-04-Lymphotrack-TCRB-H131-PBMC-25\\_S7 & CLONES\\_TRBSample\\_18-04-Lymphotrack-TCRB-H132-PBMC-25\\_S8 & CLONES\\_TRBSample\\_18-04-Lymphotrack-TCRB-H133-PBMC-25\\_S9 & CLONES\\_TRBSample\\_18-04-Lymphotrack-TCRB-Neg-25\\_S1 & CLONES\\_TRBSample\\_18-04-Lymphotrack-TCRB-Pos-25\\_S2 & CLONES\\_TRBSample\\_Undetermined\\_S0 & CLONES\\_TRB17\\_02\\_NPC\\_cDNA\\_TCR\\_NPC\\_101ML & CLONES\\_TRB17\\_02\\_NPC\\_cDNA\\_TCR\\_NPC\\_107JP & CLONES\\_TRB17\\_02\\_NPC\\_cDNA\\_TCR\\_NPC\\_108W03 & CLONES\\_TRB17\\_02\\_NPC\\_cDNA\\_TCR\\_NPC\\_10C02 & CLONES\\_TRB17\\_02\\_NPC\\_cDNA\\_TCR\\_NPC\\_111S03 & CLONES\\_TRB17\\_02\\_NPC\\_cDNA\\_TCR\\_NPC\\_116JC & CLONES\\_TRB17\\_02\\_NPC\\_cDNA\\_TCR\\_NPC\\_119AY & CLONES\\_TRB17\\_02\\_NPC\\_cDNA\\_TCR\\_NPC\\_119S01 & CLONES\\_TRB17\\_02\\_NPC\\_cDNA\\_TCR\\_NPC\\_12109 & CLONES\\_TRB17\\_02\\_NPC\\_cDNA\\_TCR\\_NPC\\_130YL & CLONES\\_TRB17\\_02\\_NPC\\_cDNA\\_TCR\\_NPC\\_14Y05 & CLONES\\_TRB17\\_02\\_NPC\\_cDNA\\_TCR\\_NPC\\_17KW & CLONES\\_TRB17\\_02\\_NPC\\_cDNA\\_TCR\\_NPC\\_18W06 & CLONES\\_TRB17\\_02\\_NPC\\_cDNA\\_TCR\\_NPC\\_29MT & CLONES\\_TRB17\\_02\\_NPC\\_cDNA\\_TCR\\_NPC\\_32S04 & CLONES\\_TRB17\\_02\\_NPC\\_cDNA\\_TCR\\_NPC\\_34M01 & CLONES\\_TRB17\\_02\\_NPC\\_cDNA\\_TCR\\_NPC\\_41PC & CLONES\\_TRB17\\_02\\_NPC\\_cDNA\\_TCR\\_NPC\\_43K03 & CLONES\\_TRB17\\_02\\_NPC\\_cDNA\\_TCR\\_NPC\\_45HM & CLONES\\_TRB17\\_02\\_NPC\\_cDNA\\_TCR\\_NPC\\_47B08 & CLONES\\_TRB17\\_02\\_NPC\\_cDNA\\_TCR\\_NPC\\_47CC & CLONES\\_TRB17\\_02\\_NPC\\_cDNA\\_TCR\\_NPC\\_51M07 & CLONES\\_TRB17\\_02\\_NPC\\_cDNA\\_TCR\\_NPC\\_57EL & CLONES\\_TRB17\\_02\\_NPC\\_cDNA\\_TCR\\_NPC\\_57T02 & CLONES\\_TRB17\\_02\\_NPC\\_cDNA\\_TCR\\_NPC\\_58C06 & CLONES\\_TRB17\\_02\\_NPC\\_cDNA\\_TCR\\_NPC\\_59GA & CLONES\\_TRB17\\_02\\_NPC\\_cDNA\\_TCR\\_NPC\\_5Z05 & CLONES\\_TRB17\\_02\\_NPC\\_cDNA\\_TCR\\_NPC\\_60S03 & CLONES\\_TRB17\\_02\\_NPC\\_cDNA\\_TCR\\_NPC\\_68W02 & CLONES\\_TRB17\\_02\\_NPC\\_cDNA\\_TCR\\_NPC\\_70WS & CLONES\\_TRB17\\_02\\_NPC\\_cDNA\\_TCR\\_NPC\\_72C06 & CLONES\\_TRB17\\_02\\_NPC\\_cDNA\\_TCR\\_NPC\\_79HZ & CLONES\\_TRB17\\_02\\_NPC\\_cDNA\\_TCR\\_NPC\\_79L01 & CLONES\\_TRB17\\_02\\_NPC\\_cDNA\\_TCR\\_NPC\\_83CG & CLONES\\_TRB17\\_02\\_NPC\\_cDNA\\_TCR\\_NPC\\_89CT & CLONES\\_TRB17\\_02\\_NPC\\_cDNA\\_TCR\\_NPC\\_8C07 & CLONES\\_TRB17\\_02\\_NPC\\_cDNA\\_TCR\\_NPC\\_91MO & CLONES\\_TRB17\\_02\\_NPC\\_cDNA\\_TCR\\_NPC\\_95LA & CLONES\\_TRB17\\_02\\_NPC\\_cDNA\\_TCR\\_NPC\\_98KK & CLONES\\_TRB17\\_02\\_NPC\\_cDNA\\_TCR\\_NPC\\_9AW & CLONES\\_TRB17\\_02\\_NPC\\_cDNA\\_TCR\\_NPC\\_N1 & CLONES\\_TRB17\\_02\\_NPC\\_cDNA\\_TCR\\_NPC\\_N4 & CLONES\\_TRB17\\_02\\_NPC\\_cDNA\\_TCR\\_NPC\\_N5 & CLONES\\_TRB17\\_02\\_NPC\\_cDNA\\_TCR\\_NPC\\_N6 & CLONES\\_TRBA037 & CLONES\\_TRBL2D8 & CLONES\\_TRBM36-EZM & CLONES\\_TRBM36-TIL2-1E7P3 & CLONES\\_TRBOV7-TIL2 & CLONES\\_TRBSE14-2005 & CLONES\\_TRBSE14-2033 & CLONES\\_TRBSE14-2034 & CLONES\\_TRBSE14-2035 & CLONES\\_TRBSTIM1-CY3 & CLONES\\_TRB23-Blood & CLONES\\_TRB23-Tum & CLONES\\_TRB50-Tum & CLONES\\_TRB51-Tum & CLONES\\_TRB23-Tum\\_2000000 & CLONES\\_TRB50-Tum\\_2000000 & CLONES\\_TRB51-Tum\\_2000000 & CLONES\\_TRB023-CSF & CLONES\\_TRB051-CSF & CLONES\\_TRB051R-CSF & CLONES\\_TRB19-CSF & CLONES\\_TRB41-CSF & CLONES\\_TRB67-CSF & CLONES\\_TRB76-Tum & CLONES\\_TRB77-Tum & CLONES\\_TRB19-CSF\\_2000000 & CLONES\\_TRB23-CSF\\_2000000 & CLONES\\_TRB41-CSF\\_2000000 & CLONES\\_TRB51-CSF\\_2000000 & CLONES\\_TRB51R-CSF\\_2000000 & CLONES\\_TRB67-CSF\\_2000000 & CLONES\\_TRB76-Tum\\_2000000 & CLONES\\_TRB77-Tum\\_2000000 & CLONES\\_TRB23-Plasma & CLONES\\_TRB50-CSF & CLONES\\_TRB67-Tum & CLONES\\_TRB68-Plasma & CLONES\\_TRB68-Tum & CLONES\\_TRB76-CSF & CLONES\\_TRB76-Plasma & CLONES\\_TRB77-CSF & CLONES\\_TRB77-Plasma & CLONES\\_TRB50-CSF\\_2000000 & CLONES\\_TRB67-Tum\\_2000000 & CLONES\\_TRB68-Plasma\\_2000000 & CLONES\\_TRB76-CSF\\_2000000 & CLONES\\_TRB76-Plasma\\_2000000 & CLONES\\_TRB\\_17\\_02\\_TLDC-001-VM-4W\\_TCR-J\\_D\\_TCR-V\\_cfDNA\\_252\\_AGTGGTCA & CLONES\\_TRB\\_17\\_02\\_TLDC-001-VM-BL\\_TCR-J\\_D\\_TCR-V\\_cfDNA\\_69\\_ATGCCTAA & CLONES\\_TRB\\_17\\_02\\_TLML-004-JR-4W\\_TCR-J\\_D\\_TCR-V\\_cfDNA\\_150\\_AACTCACC & CLONES\\_TRB\\_17\\_02\\_TLML-004-JR-BL\\_TCR-J\\_D\\_TCR-V\\_cfDNA\\_150\\_TTCACGCA & CLONES\\_TRB\\_17\\_02\\_TLML-016-MT-4W\\_TCR-J\\_D\\_TCR-V\\_cfDNA\\_342\\_ACAGATTC & CLONES\\_TRB\\_17\\_02\\_TLML-016-MT-BL\\_TCR-J\\_D\\_TCR-V\\_cfDNA\\_132\\_ACACGACC & CLONES\\_TRB\\_17\\_02\\_TLML-019-FT-4W\\_TCR-J\\_D\\_TCR-V\\_cfDNA\\_48\\_AGCACCTC & CLONES\\_TRB\\_17\\_02\\_TLML-019-FT-BL\\_TCR-J\\_D\\_TCR-V\\_cfDNA\\_66\\_AGATGTAC & CLONES\\_TRB\\_17\\_02\\_TLML-020-TB-4W\\_TCR-J\\_D\\_TCR-V\\_cfDNA\\_263\\_AATGTTGC & CLONES\\_TRB\\_17\\_02\\_TLML-020-TB-BL\\_TCR-J\\_D\\_TCR-V\\_cfDNA\\_74\\_AATCCGTC & CLONES\\_TRB\\_17\\_02\\_TLML-022-PJ-4W\\_TCR-J\\_D\\_TCR-V\\_cfDNA\\_690\\_AAGGACAC & CLONES\\_TRB\\_17\\_02\\_TLML-022-PJ-BL\\_TCR-J\\_D\\_TCR-V\\_cfDNA\\_882\\_AAGAGATC & CLONES\\_TRB\\_17\\_02\\_TLML-029-JC-4W\\_TCR-J\\_D\\_TCR-V\\_cfDNA\\_600\\_AGGCTAAC & CLONES\\_TRB\\_17\\_02\\_TLML-029-JC-BL\\_TCR-J\\_D\\_TCR-V\\_cfDNA\\_138\\_AGCCATGC & CLONES\\_TRB\\_TLDC\\_1\\_VM\\_4W\\_TCR-J\\_Dep\\_TCR-V\\_genomic\\_1000\\_ATGCCTAA & CLONES\\_TRB\\_TLDC\\_1\\_VM\\_4W\\_TCR-JV\\_cDNA\\_20\\_GAGCTGAA & CLONES\\_TRB\\_TLDC\\_1\\_VM\\_baseline\\_TCR-J\\_Dep\\_TCR-V\\_genomic\\_1000\\_AAACATCG & CLONES\\_TRB\\_TLDC\\_1\\_VM\\_baseline\\_TCR-JV\\_cDNA\\_13\\_CAAGACTA & CLONES\\_TRB\\_TLDC\\_1\\_VM\\_infusion\\_TCR-J\\_Dep\\_TCR-V\\_genomic\\_1000\\_AACGTGAT & CLONES\\_TRB\\_TLDC\\_1\\_VM\\_infusion\\_TCR-JV\\_cDNA\\_27\\_GAATCTGA & CLONES\\_TRB\\_TLML\\_16\\_MT\\_4W\\_TCR-J\\_Dep\\_TCR-V\\_genomic\\_1000\\_ACTATGCA & CLONES\\_TRB\\_TLML\\_16\\_MT\\_4W\\_TCR-JV\\_cDNA\\_42\\_TTCACGCA & CLONES\\_TRB\\_TLML\\_16\\_MT\\_baseline\\_TCR-J\\_Dep\\_TCR-V\\_genomic\\_1000\\_ACGTATCA & CLONES\\_TRB\\_TLML\\_16\\_MT\\_baseline\\_TCR-JV\\_cDNA\\_19\\_TGGTGGTA & CLONES\\_TRB\\_TLML\\_16\\_MT\\_FU1\\_TCR-J\\_Dep\\_TCR-V\\_genomic\\_1000\\_AGAGTCAA & CLONES\\_TRB\\_TLML\\_16\\_MT\\_FU1\\_TCR-JV\\_cDNA\\_20\\_AACTCACC & CLONES\\_TRB\\_TLML\\_16\\_MT\\_FU2\\_TCR-J\\_Dep\\_TCR-V\\_genomic\\_1000\\_AGATCGCA & CLONES\\_TRB\\_TLML\\_16\\_MT\\_FU2\\_TCR-JV\\_cDNA\\_28\\_AAGAGATC & CLONES\\_TRB\\_TLML\\_16\\_MT\\_FU3\\_TCR-J\\_Dep\\_TCR-V\\_genomic\\_1000\\_AGCAGGAA & CLONES\\_TRB\\_TLML\\_16\\_MT\\_FU3\\_TCR-JV\\_cDNA\\_20\\_AAGGACAC & CLONES\\_TRB\\_TLML\\_16\\_MT\\_FU4\\_TCR-J\\_Dep\\_TCR-V\\_genomic\\_1000\\_AGTCACTA & CLONES\\_TRB\\_TLML\\_16\\_MT\\_FU4\\_TCR-JV\\_cDNA\\_27\\_AATCCGTC & CLONES\\_TRB\\_TLML\\_16\\_MT\\_FU5\\_TCR-J\\_Dep\\_TCR-V\\_genomic\\_1000\\_ATCCTGTA & CLONES\\_TRB\\_TLML\\_16\\_MT\\_FU5\\_TCR-JV\\_cDNA\\_34\\_AATGTTGC & CLONES\\_TRB\\_TLML\\_16\\_MT\\_infusion\\_TCR-J\\_Dep\\_TCR-V\\_genomic\\_1000\\_ACGCTCGA & CLONES\\_TRB\\_TLML\\_16\\_MT\\_infusion\\_TCR-JV\\_cDNA\\_15\\_TGGCTTCA & CLONES\\_TRB\\_TLML\\_18\\_CKN\\_4W\\_TCR-J\\_Dep\\_TCR-V\\_genomic\\_1000\\_GACTAGTA & CLONES\\_TRB\\_TLML\\_18\\_CKN\\_4W\\_TCR-JV\\_cDNA\\_34\\_AGATGTAC & CLONES\\_TRB\\_TLML\\_18\\_CKN\\_apheresis\\_TCR-J\\_Dep\\_TCR-V\\_genomic\\_1000\\_CAACCACA & CLONES\\_TRB\\_TLML\\_18\\_CKN\\_apheresis\\_TCR-JV\\_cDNA\\_57\\_ACAGATTC & CLONES\\_TRB\\_TLML\\_18\\_CKN\\_infusion\\_TCR-J\\_Dep\\_TCR-V\\_genomic\\_500\\_ATTGAGGA & CLONES\\_TRB\\_TLML\\_18\\_CKN\\_infusion\\_TCR-JV\\_cDNA\\_13\\_ACACGACC & CLONES\\_TRB\\_TLML\\_1\\_AT\\_4W\\_TCR-J\\_Dep\\_TCR-V\\_genomic\\_1000\\_AGTGGTCA & CLONES\\_TRB\\_TLML\\_1\\_AT\\_4W\\_TCR-JV\\_cDNA\\_69\\_GATAGACA & CLONES\\_TRB\\_TLML\\_1\\_AT\\_FU10\\_TCR-J\\_Dep\\_TCR-V\\_genomic\\_1000\\_CAGATCTG & CLONES\\_TRB\\_TLML\\_1\\_AT\\_FU10\\_TCR-JV\\_cDNA\\_33\\_GCTAACGA & CLONES\\_TRB\\_TLML\\_1\\_AT\\_FU12\\_TCR-J\\_Dep\\_TCR-V\\_genomic\\_1000\\_CATCAAGT & CLONES\\_TRB\\_TLML\\_1\\_AT\\_FU12\\_TCR-JV\\_cDNA\\_24\\_GCTCGGTA & CLONES\\_TRB\\_TLML\\_1\\_AT\\_FU13\\_TCR-J\\_Dep\\_TCR-V\\_genomic\\_1000\\_CGCTGATC & CLONES\\_TRB\\_TLML\\_1\\_AT\\_FU13\\_TCR-JV\\_cDNA\\_21\\_GGAGAACA & CLONES\\_TRB\\_TLML\\_1\\_AT\\_FU15\\_TCR-J\\_Dep\\_TCR-V\\_genomic\\_1000\\_ACAAGCTA & CLONES\\_TRB\\_TLML\\_1\\_AT\\_FU15\\_TCR-JV\\_cDNA\\_19\\_GGTGCGAA & CLONES\\_TRB\\_TLML\\_1\\_AT\\_FU16\\_TCR-J\\_Dep\\_TCR-V\\_genomic\\_1000\\_CTGTAGCC & CLONES\\_TRB\\_TLML\\_1\\_AT\\_FU16\\_TCR-JV\\_cDNA\\_13\\_GTACGCAA & CLONES\\_TRB\\_TLML\\_1\\_AT\\_FU7\\_TCR-J\\_Dep\\_TCR-V\\_genomic\\_1000\\_ACCACTGT & CLONES\\_TRB\\_TLML\\_1\\_AT\\_FU7\\_TCR-JV\\_cDNA\\_18\\_GCCACATA & CLONES\\_TRB\\_TLML\\_1\\_AT\\_FU9\\_TCR-J\\_Dep\\_TCR-V\\_genomic\\_1000\\_ACATTGGC & CLONES\\_TRB\\_TLML\\_1\\_AT\\_FU9\\_TCR-JV\\_cDNA\\_13\\_GCGAGTAA & CLONES\\_TRB\\_TLML\\_20\\_TB\\_4W\\_TCR-J\\_Dep\\_TCR-V\\_genomic\\_1000\\_CAGCGTTA & CLONES\\_TRB\\_TLML\\_20\\_TB\\_4W\\_TCR-JV\\_cDNA\\_14\\_AGGCTAAC & CLONES\\_TRB\\_TLML\\_20\\_TB\\_baseline2\\_TCR-J\\_Dep\\_TCR-V\\_genomic\\_1000\\_CACTTCGA & CLONES\\_TRB\\_TLML\\_20\\_TB\\_baseline2\\_TCR-JV\\_cDNA\\_13\\_AGCCATGC & CLONES\\_TRB\\_TLML\\_20\\_TB\\_FU1\\_TCR-JV\\_cDNA\\_18\\_ATAGCGAC & CLONES\\_TRB\\_TLML\\_20\\_TB\\_FU2\\_TCR-J\\_Dep\\_TCR-V\\_genomic\\_1000\\_CCAGTTCA & CLONES\\_TRB\\_TLML\\_20\\_TB\\_FU2\\_TCR-JV\\_cDNA\\_25\\_ATCATTCC & CLONES\\_TRB\\_TLML\\_20\\_TB\\_infusion\\_TCR-J\\_Dep\\_TCR-V\\_genomic\\_1000\\_CAATGGAA & CLONES\\_TRB\\_TLML\\_20\\_TB\\_infusion\\_TCR-JV\\_cDNA\\_97\\_AGCACCTC & CLONES\\_TRB\\_TLML\\_22\\_PJ\\_4W\\_TCR-J\\_Dep\\_TCR-V\\_genomic\\_1000\\_CCTCCTGA & CLONES\\_TRB\\_TLML\\_22\\_PJ\\_4W\\_TCR-JV\\_cDNA\\_21\\_CACCTTAC & CLONES\\_TRB\\_TLML\\_22\\_PJ\\_baseline\\_TCR-J\\_Dep\\_TCR-V\\_genomic\\_1000\\_CCGTGAGA & CLONES\\_TRB\\_TLML\\_22\\_PJ\\_baseline\\_TCR-JV\\_cDNA\\_23\\_CAAGGAGC & CLONES\\_TRB\\_TLML\\_22\\_PJ\\_FU1\\_TCR-J\\_Dep\\_TCR-V\\_genomic\\_1000\\_CGAACTTA & CLONES\\_TRB\\_TLML\\_22\\_PJ\\_FU1\\_TCR-JV\\_cDNA\\_16\\_CCATCCTC & CLONES\\_TRB\\_TLML\\_22\\_PJ\\_FU2\\_TCR-J\\_Dep\\_TCR-V\\_genomic\\_1000\\_CGACTGGA & CLONES\\_TRB\\_TLML\\_22\\_PJ\\_FU2\\_TCR-JV\\_cDNA\\_13\\_CCGACAAC & CLONES\\_TRB\\_TLML\\_22\\_PJ\\_FU3\\_TCR-J\\_Dep\\_TCR-V\\_genomic\\_1000\\_CGCATACA & CLONES\\_TRB\\_TLML\\_22\\_PJ\\_FU3\\_TCR-JV\\_cDNA\\_16\\_CCTAATCC & CLONES\\_TRB\\_TLML\\_22\\_PJ\\_infusion\\_TCR-JV\\_cDNA\\_18\\_ATTGGCTC & CLONES\\_TRB\\_TLML\\_29\\_JC\\_4W\\_TCR-J\\_Dep\\_TCR-V\\_genomic\\_1000\\_CTGGCATA & CLONES\\_TRB\\_TLML\\_29\\_JC\\_4W\\_TCR-JV\\_cDNA\\_25\\_CGGATTGC & CLONES\\_TRB\\_TLML\\_29\\_JC\\_baseline\\_TCR-J\\_Dep\\_TCR-V\\_genomic\\_1000\\_CTGAGCCA & CLONES\\_TRB\\_TLML\\_29\\_JC\\_baseline\\_TCR-JV\\_cDNA\\_18\\_CGACACAC & CLONES\\_TRB\\_TLML\\_29\\_JC\\_infusion\\_TCR-J\\_Dep\\_TCR-V\\_genomic\\_1000\\_CTCAATGA & CLONES\\_TRB\\_TLML\\_29\\_JC\\_infusion\\_TCR-JV\\_cDNA\\_13\\_CCTCTATC & CLONES\\_TRB\\_TLML\\_4\\_JR\\_4W\\_TCR-J\\_Dep\\_TCR-V\\_genomic\\_1000\\_AACCGAGA & CLONES\\_TRB\\_TLML\\_4\\_JR\\_4W\\_TCR-JV\\_cDNA\\_32\\_GTGTTCTA & CLONES\\_TRB\\_TLML\\_4\\_JR\\_baseline2\\_TCR-J\\_Dep\\_TCR-V\\_genomic\\_1000\\_AACAACCA & CLONES\\_TRB\\_TLML\\_4\\_JR\\_baseline2\\_TCR-JV\\_cDNA\\_42\\_GTCTGTCA & CLONES\\_TRB\\_TLML\\_4\\_JR\\_FU1\\_TCR-J\\_Dep\\_TCR-V\\_genomic\\_1000\\_AACGCTTA & CLONES\\_TRB\\_TLML\\_4\\_JR\\_FU1\\_TCR-JV\\_cDNA\\_15\\_TAGGATGA & CLONES\\_TRB\\_TLML\\_4\\_JR\\_infusion\\_TCR-JV\\_cDNA\\_13\\_GTCGTAGA & CLONES\\_TRB\\_TLML\\_7\\_AL\\_12W\\_TCR-J\\_Dep\\_TCR-V\\_genomic\\_1000\\_ACAGCAGA & CLONES\\_TRB\\_TLML\\_7\\_AL\\_12W\\_TCR-JV\\_cDNA\\_35\\_TGAAGAGA & CLONES\\_TRB\\_TLML\\_7\\_AL\\_17W\\_TCR-J\\_Dep\\_TCR-V\\_genomic\\_1000\\_ACCTCCAA & CLONES\\_TRB\\_TLML\\_7\\_AL\\_17W\\_TCR-JV\\_cDNA\\_106\\_TGGAACAA & CLONES\\_TRB\\_TLML\\_7\\_AL\\_4W\\_TCR-J\\_Dep\\_TCR-V\\_genomic\\_1000\\_ACACAGAA & CLONES\\_TRB\\_TLML\\_7\\_AL\\_4W\\_TCR-JV\\_cDNA\\_37\\_TCTTCACA & CLONES\\_TRB\\_TLML\\_7\\_AL\\_apheresis\\_TCR-JV\\_cDNA\\_21\\_TCCGTCTA & CLONES\\_TRB\\_TLML\\_7\\_AL\\_infusion\\_TCR-J\\_Dep\\_TCR-V\\_genomic\\_1000\\_AAGACGGA & CLONES\\_TRB\\_TLML\\_7\\_AL\\_infusion\\_TCR-JV\\_cDNA\\_25\\_TATCAGCA\\\\\n",
       "\\hline\n",
       "\t*AFF & NA & NA & NA & NA & NA & NA & NA & NA & NA & NA & NA & NA & NA & NA & NA & NA & NA & NA & NA & NA & NA & NA & NA & NA & NA & NA & NA & NA & NA & NA & NA & NA & NA & NA & NA & NA & NA & NA & NA & NA & NA & NA & NA & NA & NA & NA & NA & NA & NA & NA & NA & NA & NA & NA & NA & NA & NA & NA & NA & NA & NA & NA & NA & NA & NA & NA & NA & NA & NA & NA & NA & NA & NA & NA & NA & NA & NA & NA & NA & NA & NA & NA & NA & NA & NA & NA & NA & NA & NA & NA & NA & NA & NA & NA & NA & NA & NA & NA & NA & NA & NA & NA & NA & NA & NA & NA & NA & NA & NA & NA & NA & NA & NA & NA & NA & NA & NA & NA & NA & NA & NA & NA & NA & NA & NA & NA & NA & NA & NA & NA & NA & NA & NA & NA & NA & NA & NA & NA & NA & NA & NA & NA & NA & NA & NA & NA & NA & NA & NA & NA & NA & NA & NA & NA & NA & NA & NA & NA & NA & NA & NA & NA & NA & NA & NA & NA & NA & NA & NA & NA & NA & NA & NA & NA & NA & NA & NA & NA & NA & NA & NA & NA & NA & NA & NA & NA & NA & NA & NA & NA & NA & NA & NA & NA & NA & NA & NA & NA & NA & NA & NA & NA & NA & NA & NA & NA & NA & NA & NA & NA & NA & NA & NA & NA & NA & NA & NA & NA & NA & NA & NA & NA & NA & NA & NA & NA & NA & NA & NA & NA & NA & NA & NA & NA & NA & NA & NA & NA & NA & NA & NA & NA & NA & NA & NA & NA & NA & NA & NA & NA & NA & NA & NA & NA & NA & NA & NA & NA & NA & NA & NA & NA & NA & NA & NA & NA & NA & NA & NA & NA & NA & NA & NA & NA & NA & NA & NA & NA & NA & NA & NA & NA & NA & NA & NA & NA & NA & NA & NA & NA & NA & NA & NA & NA & NA & NA & NA & NA & NA & NA & NA & NA & NA & NA & NA & NA & NA & NA & NA & NA & NA & NA & NA & NA & NA & NA & NA & NA & NA & NA & NA & NA & NA & NA & NA & NA & NA & NA & NA & NA & NA & NA & NA & NA & NA & NA & NA & NA & NA & NA & NA & NA & NA & NA & NA & NA & NA & NA & NA & NA & NA & NA & NA & NA & NA & NA & NA & NA & NA & NA & NA & NA & NA & NA & NA & NA & NA & NA & NA & NA & NA & NA & NA & NA & NA & NA & NA & NA & NA & NA & NA & NA & NA & NA & NA & NA & NA & NA & NA & NA & NA & NA & NA & NA & NA & NA & NA & NA & NA & NA & NA & NA & NA & NA & NA & NA & NA & NA & NA & NA & NA & NA & NA & NA & NA & NA & NA & NA & NA & NA & NA & NA & NA & NA & NA & NA & NA & NA & NA & NA & NA & NA & NA & NA & NA & NA & NA & NA & NA & NA & NA & NA & NA & NA & NA & NA & NA & NA & NA & NA & NA & NA & NA & NA & NA & NA & NA & NA & NA & NA & NA & NA & NA & NA & NA & NA & NA & NA & NA & NA & NA & NA & NA & NA & NA & NA & NA & NA & NA & NA & NA & NA & NA & NA & NA & NA & NA & NA & NA & NA & NA & NA & NA & NA & NA & NA & NA & NA & NA & NA & NA & NA & NA & NA & NA & NA & NA & NA & NA & NA & NA & NA & NA & NA & NA & NA & NA & NA\\\\\n",
       "\t*ASRHWDSANTEAFF & NA & NA & NA & NA & NA & NA & NA & NA & NA & NA & NA & NA & NA & NA & NA & NA & NA & NA & NA & NA & NA & NA & NA & NA & NA & NA & NA & NA & NA & NA & NA & NA & NA & NA & NA & NA & NA & NA & NA & NA & NA & NA & NA & NA & NA & NA & NA & NA & NA & NA & NA & NA & NA & NA & NA & NA & NA & NA & NA & NA & NA & NA & NA & NA & NA & NA & NA & NA & NA & NA & NA & NA & NA & NA & NA & NA & NA & NA & NA & NA & NA & NA & NA & NA & NA & NA & NA & NA & NA & NA & NA & NA & NA & NA & NA & NA & NA & NA & NA & NA & NA & NA & NA & NA & NA & NA & NA & NA & NA & NA & NA & NA & NA & NA & NA & NA & NA & NA & NA & NA & NA & NA & NA & NA & NA & NA & NA & NA & NA & NA & NA & NA & NA & NA & NA & NA & NA & NA & NA & NA & NA & NA & NA & NA & NA & NA & NA & NA & NA & NA & NA & NA & NA & NA & NA & NA & NA & NA & NA & NA & NA & NA & NA & NA & NA & NA & NA & NA & NA & NA & NA & NA & NA & NA & NA & NA & NA & NA & NA & NA & NA & NA & NA & NA & NA & NA & NA & NA & NA & NA & NA & NA & NA & NA & NA & NA & NA & NA & NA & NA & NA & NA & NA & NA & NA & NA & NA & NA & NA & NA & NA & NA & NA & NA & NA & NA & NA & NA & NA & NA & NA & NA & NA & NA & NA & NA & NA & NA & NA & NA & NA & NA & NA & NA & NA & NA & NA & NA & NA & NA & NA & NA & NA & NA & NA & NA & NA & NA & NA & NA & NA & NA & NA & NA & NA & NA & NA & NA & NA & NA & NA & NA & NA & NA & NA & NA & NA & NA & NA & NA & NA & NA & NA & NA & NA & NA & NA & NA & NA & NA & NA & NA & NA & NA & NA & NA & NA & NA & NA & NA & NA & NA & NA & NA & NA & NA & NA & NA & NA & NA & NA & NA & NA & NA & NA & NA & NA & NA & NA & NA & NA & NA & NA & NA & NA & NA & NA & NA & NA & NA & NA & NA & NA & NA & NA & NA & NA & NA & NA & NA & NA & NA & NA & NA & NA & NA & NA & NA & NA & NA & NA & NA & NA & NA & NA & NA & NA & NA & NA & NA & NA & NA & NA & NA & NA & NA & NA & NA & NA & NA & NA & NA & NA & NA & NA & NA & NA & NA & NA & NA & NA & NA & NA & NA & NA & NA & NA & NA & NA & NA & NA & NA & NA & NA & NA & NA & NA & NA & NA & NA & NA & NA & NA & NA & NA & NA & NA & NA & NA & NA & NA & NA & NA & NA & NA & NA & NA & NA & NA & NA & NA & NA & NA & NA & NA & NA & NA & NA & NA & NA & NA & NA & NA & NA & NA & NA & NA & NA & NA & NA & NA & NA & NA & NA & NA & NA & NA & NA & NA & NA & NA & NA & NA & NA & NA & NA & NA & NA & NA & NA & NA & NA & NA & NA & NA & NA & NA & NA & NA & NA & NA & NA & NA & NA & NA & NA & NA & NA & NA & NA & NA & NA & NA & NA & NA & NA & NA & NA & NA & NA & NA & NA & NA & NA & NA & NA & NA & NA & NA & NA & NA & NA & NA & NA & NA & NA & NA & NA & NA & NA & NA & NA & NA & NA & NA & NA & NA & NA & NA & NA & NA & NA & NA & NA & NA & NA & NA & NA\\\\\n",
       "\t*ASRRGTNQPQHF & NA & NA & NA & NA & NA & NA & NA & NA & NA & NA & NA & NA & NA & NA & NA & NA & NA & NA & NA & NA & NA & NA & NA & NA & NA & NA & NA & NA & NA & NA & NA & NA & NA & NA & NA & NA & NA & NA & NA & NA & NA & NA & NA & NA & NA & NA & NA & NA & NA & NA & NA & NA & NA & NA & NA & NA & NA & NA & NA & NA & NA & NA & NA & NA & NA & NA & NA & NA & NA & NA & NA & NA & NA & NA & NA & NA & NA & NA & NA & NA & NA & NA & NA & NA & NA & NA & NA & NA & NA & NA & NA & NA & NA & NA & NA & NA & NA & NA & NA & NA & NA & NA & NA & NA & NA & NA & NA & NA & NA & NA & NA & NA & NA & NA & NA & NA & NA & NA & NA & NA & NA & NA & NA & NA & NA & NA & NA & NA & NA & NA & NA & NA & NA & NA & NA & NA & NA & NA & NA & NA & NA & NA & NA & NA & NA & NA & NA & NA & NA & NA & NA & NA & NA & NA & NA & NA & NA & NA & NA & NA & NA & NA & NA & NA & NA & NA & NA & NA & NA & NA & NA & NA & NA & NA & NA & NA & NA & NA & NA & NA & NA & NA & NA & NA & NA & NA & NA & NA & NA & NA & NA & NA & NA & NA & NA & NA & NA & NA & NA & NA & NA & NA & NA & NA & NA & NA & NA & NA & NA & NA & NA & NA & NA & NA & NA & NA & NA & NA & NA & NA & NA & NA & NA & NA & NA & NA & NA & NA & NA & NA & NA & NA & NA & NA & NA & NA & NA & NA & NA & NA & NA & NA & NA & NA & NA & NA & NA & NA & NA & NA & NA & NA & NA & NA & NA & NA & NA & NA & NA & NA & NA & NA & NA & NA & NA & NA & NA & NA & NA & NA & NA & NA & NA & NA & NA & NA & NA & NA & NA & NA & NA & NA & NA & NA & NA & NA & NA & NA & NA & NA & NA & NA & NA & NA & NA & NA & NA & NA & NA & NA & NA & NA & NA & NA & NA & NA & NA & NA & NA & NA & NA & NA & NA & NA & NA & NA & NA & NA & NA & NA & NA & NA & NA & NA & NA & NA & NA & NA & NA & NA & NA & NA & NA & NA & NA & NA & NA & NA & NA & NA & NA & NA & NA & NA & NA & NA & NA & NA & NA & NA & NA & NA & NA & NA & NA & NA & NA & NA & NA & NA & NA & NA & NA & NA & NA & NA & NA & NA & NA & NA & NA & NA & NA & NA & NA & NA & NA & NA & NA & NA & NA & NA & NA & NA & NA & NA & NA & NA & NA & NA & NA & NA & NA & NA & NA & NA & NA & NA & NA & NA & NA & NA & NA & NA & NA & NA & NA & NA & NA & NA & NA & NA & NA & NA & NA & NA & NA & NA & NA & NA & NA & NA & NA & NA & NA & NA & NA & NA & NA & NA & NA & NA & NA & NA & NA & NA & NA & NA & NA & NA & NA & NA & NA & NA & NA & NA & NA & NA & NA & NA & NA & NA & NA & NA & NA & NA & NA & NA & NA & NA & NA & NA & NA & NA & NA & NA & NA & NA & NA & NA & NA & NA & NA & NA & NA & NA & NA & NA & NA & NA & NA & NA & NA & NA & NA & NA & NA & NA & NA & NA & NA & NA & NA & NA & NA & NA & NA & NA & NA & NA & NA & NA & NA & NA & NA & NA & NA & NA & NA & NA & NA & NA & NA & NA & NA & NA & NA & NA\\\\\n",
       "\t*ASRVEGGGSYNEQFF & NA & NA & NA & NA & NA & NA & NA & NA & NA & NA & NA & NA & NA & NA & NA & NA & NA & NA & NA & NA & NA & NA & NA & NA & NA & NA & NA & NA & NA & NA & NA & NA & NA & NA & NA & NA & NA & NA & NA & NA & NA & NA & NA & NA & NA & NA & NA & NA & NA & NA & NA & NA & NA & NA & NA & NA & NA & NA & NA & NA & NA & NA & NA & NA & NA & NA & NA & NA & NA & NA & NA & NA & NA & NA & NA & NA & NA & NA & NA & NA & NA & NA & NA & NA & NA & NA & NA & NA & NA & NA & NA & NA & NA & NA & NA & NA & NA & NA & NA & NA & NA & NA & NA & NA & NA & NA & NA & NA & NA & NA & NA & NA & NA & NA & NA & NA & NA & NA & NA & NA & NA & NA & NA & NA & NA & NA & NA & NA & NA & NA & NA & NA & NA & NA & NA & NA & NA & NA & NA & NA & NA & NA & NA & NA & NA & NA & NA & NA & NA & NA & NA & NA & NA & NA & NA & NA & NA & NA & NA & NA & NA & NA & NA & NA & NA & NA & NA & NA & NA & NA & NA & NA & NA & NA & NA & NA & NA & NA & NA & NA & NA & NA & NA & NA & NA & NA & NA & NA & NA & NA & NA & NA & NA & NA & NA & NA & NA & NA & NA & NA & NA & NA & NA & NA & NA & NA & NA & NA & NA & NA & NA & NA & NA & NA & NA & NA & NA & NA & NA & NA & NA & NA & NA & NA & NA & NA & NA & NA & NA & NA & NA & NA & NA & NA & NA & NA & NA & NA & NA & NA & NA & NA & NA & NA & NA & NA & NA & NA & NA & NA & NA & NA & NA & NA & NA & NA & NA & NA & NA & NA & NA & NA & NA & NA & NA & NA & NA & NA & NA & NA & NA & NA & NA & NA & NA & NA & NA & NA & NA & NA & NA & NA & NA & NA & NA & NA & NA & NA & NA & NA & NA & NA & NA & NA & NA & NA & NA & NA & NA & NA & NA & NA & NA & NA & NA & NA & NA & NA & NA & NA & NA & NA & NA & NA & NA & NA & NA & NA & NA & NA & NA & NA & NA & NA & NA & NA & NA & NA & NA & NA & NA & NA & NA & NA & NA & NA & NA & NA & NA & NA & NA & NA & NA & NA & NA & NA & NA & NA & NA & NA & NA & NA & NA & NA & NA & NA & NA & NA & NA & NA & NA & NA & NA & NA & NA & NA & NA & NA & NA & NA & NA & NA & NA & NA & NA & NA & NA & NA & NA & NA & NA & NA & NA & NA & NA & NA & NA & NA & NA & NA & NA & NA & NA & NA & NA & NA & NA & NA & NA & NA & NA & NA & NA & NA & NA & NA & NA & NA & NA & NA & NA & NA & NA & NA & NA & NA & NA & NA & NA & NA & NA & NA & NA & NA & NA & NA & NA & NA & NA & NA & NA & NA & NA & NA & NA & NA & NA & NA & NA & NA & NA & NA & NA & NA & NA & NA & NA & NA & NA & NA & NA & NA & NA & NA & NA & NA & NA & NA & NA & NA & NA & NA & NA & NA & NA & NA & NA & NA & NA & NA & NA & NA & NA & NA & NA & NA & NA & NA & NA & NA & NA & NA & NA & NA & NA & NA & NA & NA & NA & NA & NA & NA & NA & NA & NA & NA & NA & NA & NA & NA & NA & NA & NA & NA & NA & NA & NA & NA & NA & NA & NA & NA & NA & NA & NA & NA & NA & NA\\\\\n",
       "\t*ASSEIAGGYEQYF & NA & NA & NA & NA & NA & NA & NA & NA & NA & NA & NA & NA & NA & NA & NA & NA & NA & NA & NA & NA & NA & NA & NA & NA & NA & NA & NA & NA & NA & NA & NA & NA & NA & NA & NA & NA & NA & NA & NA & NA & NA & NA & NA & NA & NA & NA & NA & NA & NA & NA & NA & NA & NA & NA & NA & NA & NA & NA & NA & NA & NA & NA & NA & NA & NA & NA & NA & NA & NA & NA & NA & NA & NA & NA & NA & NA & NA & NA & NA & NA & NA & NA & NA & NA & NA & NA & NA & NA & NA & NA & NA & NA & NA & NA & NA & NA & NA & NA & NA & NA & NA & NA & NA & NA & NA & NA & NA & NA & NA & NA & NA & NA & NA & NA & NA & NA & NA & NA & NA & NA & NA & NA & NA & NA & NA & NA & NA & NA & NA & NA & NA & NA & NA & NA & NA & NA & NA & NA & NA & NA & NA & NA & NA & NA & NA & NA & NA & NA & NA & NA & NA & NA & NA & NA & NA & NA & NA & NA & NA & NA & NA & NA & NA & NA & NA & NA & NA & NA & NA & NA & NA & NA & NA & NA & NA & NA & NA & NA & NA & NA & NA & NA & NA & NA & NA & NA & NA & NA & NA & NA & NA & NA & NA & NA & NA & NA & NA & NA & NA & NA & NA & NA & NA & NA & NA & NA & NA & NA & NA & NA & NA & NA & NA & NA & NA & NA & NA & NA & NA & NA & NA & NA & NA & NA & NA & NA & NA & NA & NA & NA & NA & NA & NA & NA & NA & NA & NA & NA & NA & NA & NA & NA & NA & NA & NA & NA & NA & NA & NA & NA & NA & NA & NA & NA & NA & NA & NA & NA & NA & NA & NA & NA & NA & NA & NA & NA & NA & NA & NA & NA & NA & NA & NA & NA & NA & NA & NA & NA & NA & NA & NA & NA & NA & NA & NA & NA & NA & NA & NA & NA & NA & NA & NA & NA & NA & NA & NA & NA & NA & NA & NA & NA & NA & NA & NA & NA & NA & NA & NA & NA & NA & NA & NA & NA & NA & NA & NA & NA & NA & NA & NA & NA & NA & NA & NA & NA & NA & NA & NA & NA & NA & NA & NA & NA & NA & NA & NA & NA & NA & NA & NA & NA & NA & NA & NA & NA & NA & NA & NA & NA & NA & NA & NA & NA & NA & NA & NA & NA & NA & NA & NA & NA & NA & NA & NA & NA & NA & NA & NA & NA & NA & NA & NA & NA & NA & NA & NA & NA & NA & NA & NA & NA & NA & NA & NA & NA & NA & NA & NA & NA & NA & NA & NA & NA & NA & NA & NA & NA & NA & NA & NA & NA & NA & NA & NA & NA & NA & NA & NA & NA & NA & NA & NA & NA & NA & NA & NA & NA & NA & NA & NA & NA & NA & NA & NA & NA & NA & NA & NA & NA & NA & NA & NA & NA & NA & NA & NA & NA & NA & NA & NA & NA & NA & NA & NA & NA & NA & NA & NA & NA & NA & NA & NA & NA & NA & NA & NA & NA & NA & NA & NA & NA & NA & NA & NA & NA & NA & NA & NA & NA & NA & NA & NA & NA & NA & NA & NA & NA & NA & NA & NA & NA & NA & NA & NA & NA & NA & NA & NA & NA & NA & NA & NA & NA & NA & NA & NA & NA & NA & NA & NA & NA & NA & NA & NA & NA & NA & NA & NA & NA & NA & NA & NA & NA & NA & NA & NA & NA\\\\\n",
       "\t*ASSLARG\\textasciitilde{}SQETQYF & NA & NA & NA & NA & NA & NA & NA & NA & NA & NA & NA & NA & NA & NA & NA & NA & NA & NA & NA & NA & NA & NA & NA & NA & NA & NA & NA & NA & NA & NA & NA & NA & NA & NA & NA & NA & NA & NA & NA & NA & NA & NA & NA & NA & NA & NA & NA & NA & NA & NA & NA & NA & NA & NA & NA & NA & NA & NA & NA & NA & NA & NA & NA & NA & NA & NA & NA & NA & NA & NA & NA & NA & NA & NA & NA & NA & NA & NA & NA & NA & NA & NA & NA & NA & NA & NA & NA & NA & NA & NA & NA & NA & NA & NA & NA & NA & NA & NA & NA & NA & NA & NA & NA & NA & NA & NA & NA & NA & NA & NA & NA & NA & NA & NA & NA & NA & NA & NA & NA & NA & NA & NA & NA & NA & NA & NA & NA & NA & NA & NA & NA & NA & NA & NA & NA & NA & NA & NA & NA & NA & NA & NA & NA & NA & NA & NA & NA & NA & NA & NA & NA & NA & NA & NA & NA & NA & NA & NA & NA & NA & NA & NA & NA & NA & NA & NA & NA & NA & NA & NA & NA & NA & NA & NA & NA & NA & NA & NA & NA & NA & NA & NA & NA & NA & NA & NA & NA & NA & NA & NA & NA & NA & NA & NA & NA & NA & NA & NA & NA & NA & NA & NA & NA & NA & NA & NA & NA & NA & NA & NA & NA & NA & NA & NA & NA & NA & NA & NA & NA & NA & NA & NA & NA & NA & NA & NA & NA & NA & NA & NA & NA & NA & NA & NA & NA & NA & NA & NA & NA & NA & NA & NA & NA & NA & NA & NA & NA & NA & NA & NA & NA & NA & NA & NA & NA & NA & NA & NA & NA & NA & NA & NA & NA & NA & NA & NA & NA & NA & NA & NA & NA & NA & NA & NA & NA & NA & NA & NA & NA & NA & NA & NA & NA & NA & NA & NA & NA & NA & NA & NA & NA & NA & NA & NA & NA & NA & NA & NA & NA & NA & NA & NA & NA & NA & NA & NA & NA & NA & NA & NA & NA & NA & NA & NA & NA & NA & NA & NA & NA & NA & NA & NA & NA & NA & NA & NA & NA & NA & NA & NA & NA & NA & NA & NA & NA & NA & NA & NA & NA & NA & NA & NA & NA & NA & NA & NA & NA & NA & NA & NA & NA & NA & NA & NA & NA & NA & NA & NA & NA & NA & NA & NA & NA & NA & NA & NA & NA & NA & NA & NA & NA & NA & NA & NA & NA & NA & NA & NA & NA & NA & NA & NA & NA & NA & NA & NA & NA & NA & NA & NA & NA & NA & NA & NA & NA & NA & NA & NA & NA & NA & NA & NA & NA & NA & NA & NA & NA & NA & NA & NA & NA & NA & NA & NA & NA & NA & NA & NA & NA & NA & NA & NA & NA & NA & NA & NA & NA & NA & NA & NA & NA & NA & NA & NA & NA & NA & NA & NA & NA & NA & NA & NA & NA & NA & NA & NA & NA & NA & NA & NA & NA & NA & NA & NA & NA & NA & NA & NA & NA & NA & NA & NA & NA & NA & NA & NA & NA & NA & NA & NA & NA & NA & NA & NA & NA & NA & NA & NA & NA & NA & NA & NA & NA & NA & NA & NA & NA & NA & NA & NA & NA & NA & NA & NA & NA & NA & NA & NA & NA & NA & NA & NA & NA & NA & NA & NA & NA & NA & NA & NA & NA & NA & NA & NA & NA & NA & NA & NA\\\\\n",
       "\\end{tabular}\n"
      ],
      "text/markdown": [
       "\n",
       "A matrix: 6 × 518 of type lgl\n",
       "\n",
       "| <!--/--> | IMS-001_MoST-K006_T_DNA | IMS-002_MoST-K011_T_DNA | IMS-003_MoST-K014_T_DNA | IMS-004_MoST-K001_T_DNA | IMS-005_MoST-K016_T_DNA | IMS-006_MoST-K017_T_DNA | IMS-007_MoST-K018_T_DNA | IMS-008_MoST-K024_T_DNA | IMS-009_MoST-K033_T_DNA | IMS-010_MoST-K035_T_DNA | ⋯ | CLONES_TRB_TLML_4_JR_infusion_TCR-JV_cDNA_13_GTCGTAGA | CLONES_TRB_TLML_7_AL_12W_TCR-J_Dep_TCR-V_genomic_1000_ACAGCAGA | CLONES_TRB_TLML_7_AL_12W_TCR-JV_cDNA_35_TGAAGAGA | CLONES_TRB_TLML_7_AL_17W_TCR-J_Dep_TCR-V_genomic_1000_ACCTCCAA | CLONES_TRB_TLML_7_AL_17W_TCR-JV_cDNA_106_TGGAACAA | CLONES_TRB_TLML_7_AL_4W_TCR-J_Dep_TCR-V_genomic_1000_ACACAGAA | CLONES_TRB_TLML_7_AL_4W_TCR-JV_cDNA_37_TCTTCACA | CLONES_TRB_TLML_7_AL_apheresis_TCR-JV_cDNA_21_TCCGTCTA | CLONES_TRB_TLML_7_AL_infusion_TCR-J_Dep_TCR-V_genomic_1000_AAGACGGA | CLONES_TRB_TLML_7_AL_infusion_TCR-JV_cDNA_25_TATCAGCA |\n",
       "|---|---|---|---|---|---|---|---|---|---|---|---|---|---|---|---|---|---|---|---|---|---|\n",
       "| *AFF | NA | NA | NA | NA | NA | NA | NA | NA | NA | NA | ⋯ | NA | NA | NA | NA | NA | NA | NA | NA | NA | NA |\n",
       "| *ASRHWDSANTEAFF | NA | NA | NA | NA | NA | NA | NA | NA | NA | NA | ⋯ | NA | NA | NA | NA | NA | NA | NA | NA | NA | NA |\n",
       "| *ASRRGTNQPQHF | NA | NA | NA | NA | NA | NA | NA | NA | NA | NA | ⋯ | NA | NA | NA | NA | NA | NA | NA | NA | NA | NA |\n",
       "| *ASRVEGGGSYNEQFF | NA | NA | NA | NA | NA | NA | NA | NA | NA | NA | ⋯ | NA | NA | NA | NA | NA | NA | NA | NA | NA | NA |\n",
       "| *ASSEIAGGYEQYF | NA | NA | NA | NA | NA | NA | NA | NA | NA | NA | ⋯ | NA | NA | NA | NA | NA | NA | NA | NA | NA | NA |\n",
       "| *ASSLARG~SQETQYF | NA | NA | NA | NA | NA | NA | NA | NA | NA | NA | ⋯ | NA | NA | NA | NA | NA | NA | NA | NA | NA | NA |\n",
       "\n"
      ],
      "text/plain": [
       "                 IMS-001_MoST-K006_T_DNA IMS-002_MoST-K011_T_DNA\n",
       "*AFF             NA                      NA                     \n",
       "*ASRHWDSANTEAFF  NA                      NA                     \n",
       "*ASRRGTNQPQHF    NA                      NA                     \n",
       "*ASRVEGGGSYNEQFF NA                      NA                     \n",
       "*ASSEIAGGYEQYF   NA                      NA                     \n",
       "*ASSLARG~SQETQYF NA                      NA                     \n",
       "                 IMS-003_MoST-K014_T_DNA IMS-004_MoST-K001_T_DNA\n",
       "*AFF             NA                      NA                     \n",
       "*ASRHWDSANTEAFF  NA                      NA                     \n",
       "*ASRRGTNQPQHF    NA                      NA                     \n",
       "*ASRVEGGGSYNEQFF NA                      NA                     \n",
       "*ASSEIAGGYEQYF   NA                      NA                     \n",
       "*ASSLARG~SQETQYF NA                      NA                     \n",
       "                 IMS-005_MoST-K016_T_DNA IMS-006_MoST-K017_T_DNA\n",
       "*AFF             NA                      NA                     \n",
       "*ASRHWDSANTEAFF  NA                      NA                     \n",
       "*ASRRGTNQPQHF    NA                      NA                     \n",
       "*ASRVEGGGSYNEQFF NA                      NA                     \n",
       "*ASSEIAGGYEQYF   NA                      NA                     \n",
       "*ASSLARG~SQETQYF NA                      NA                     \n",
       "                 IMS-007_MoST-K018_T_DNA IMS-008_MoST-K024_T_DNA\n",
       "*AFF             NA                      NA                     \n",
       "*ASRHWDSANTEAFF  NA                      NA                     \n",
       "*ASRRGTNQPQHF    NA                      NA                     \n",
       "*ASRVEGGGSYNEQFF NA                      NA                     \n",
       "*ASSEIAGGYEQYF   NA                      NA                     \n",
       "*ASSLARG~SQETQYF NA                      NA                     \n",
       "                 IMS-009_MoST-K033_T_DNA IMS-010_MoST-K035_T_DNA ⋯\n",
       "*AFF             NA                      NA                      ⋯\n",
       "*ASRHWDSANTEAFF  NA                      NA                      ⋯\n",
       "*ASRRGTNQPQHF    NA                      NA                      ⋯\n",
       "*ASRVEGGGSYNEQFF NA                      NA                      ⋯\n",
       "*ASSEIAGGYEQYF   NA                      NA                      ⋯\n",
       "*ASSLARG~SQETQYF NA                      NA                      ⋯\n",
       "                 CLONES_TRB_TLML_4_JR_infusion_TCR-JV_cDNA_13_GTCGTAGA\n",
       "*AFF             NA                                                   \n",
       "*ASRHWDSANTEAFF  NA                                                   \n",
       "*ASRRGTNQPQHF    NA                                                   \n",
       "*ASRVEGGGSYNEQFF NA                                                   \n",
       "*ASSEIAGGYEQYF   NA                                                   \n",
       "*ASSLARG~SQETQYF NA                                                   \n",
       "                 CLONES_TRB_TLML_7_AL_12W_TCR-J_Dep_TCR-V_genomic_1000_ACAGCAGA\n",
       "*AFF             NA                                                            \n",
       "*ASRHWDSANTEAFF  NA                                                            \n",
       "*ASRRGTNQPQHF    NA                                                            \n",
       "*ASRVEGGGSYNEQFF NA                                                            \n",
       "*ASSEIAGGYEQYF   NA                                                            \n",
       "*ASSLARG~SQETQYF NA                                                            \n",
       "                 CLONES_TRB_TLML_7_AL_12W_TCR-JV_cDNA_35_TGAAGAGA\n",
       "*AFF             NA                                              \n",
       "*ASRHWDSANTEAFF  NA                                              \n",
       "*ASRRGTNQPQHF    NA                                              \n",
       "*ASRVEGGGSYNEQFF NA                                              \n",
       "*ASSEIAGGYEQYF   NA                                              \n",
       "*ASSLARG~SQETQYF NA                                              \n",
       "                 CLONES_TRB_TLML_7_AL_17W_TCR-J_Dep_TCR-V_genomic_1000_ACCTCCAA\n",
       "*AFF             NA                                                            \n",
       "*ASRHWDSANTEAFF  NA                                                            \n",
       "*ASRRGTNQPQHF    NA                                                            \n",
       "*ASRVEGGGSYNEQFF NA                                                            \n",
       "*ASSEIAGGYEQYF   NA                                                            \n",
       "*ASSLARG~SQETQYF NA                                                            \n",
       "                 CLONES_TRB_TLML_7_AL_17W_TCR-JV_cDNA_106_TGGAACAA\n",
       "*AFF             NA                                               \n",
       "*ASRHWDSANTEAFF  NA                                               \n",
       "*ASRRGTNQPQHF    NA                                               \n",
       "*ASRVEGGGSYNEQFF NA                                               \n",
       "*ASSEIAGGYEQYF   NA                                               \n",
       "*ASSLARG~SQETQYF NA                                               \n",
       "                 CLONES_TRB_TLML_7_AL_4W_TCR-J_Dep_TCR-V_genomic_1000_ACACAGAA\n",
       "*AFF             NA                                                           \n",
       "*ASRHWDSANTEAFF  NA                                                           \n",
       "*ASRRGTNQPQHF    NA                                                           \n",
       "*ASRVEGGGSYNEQFF NA                                                           \n",
       "*ASSEIAGGYEQYF   NA                                                           \n",
       "*ASSLARG~SQETQYF NA                                                           \n",
       "                 CLONES_TRB_TLML_7_AL_4W_TCR-JV_cDNA_37_TCTTCACA\n",
       "*AFF             NA                                             \n",
       "*ASRHWDSANTEAFF  NA                                             \n",
       "*ASRRGTNQPQHF    NA                                             \n",
       "*ASRVEGGGSYNEQFF NA                                             \n",
       "*ASSEIAGGYEQYF   NA                                             \n",
       "*ASSLARG~SQETQYF NA                                             \n",
       "                 CLONES_TRB_TLML_7_AL_apheresis_TCR-JV_cDNA_21_TCCGTCTA\n",
       "*AFF             NA                                                    \n",
       "*ASRHWDSANTEAFF  NA                                                    \n",
       "*ASRRGTNQPQHF    NA                                                    \n",
       "*ASRVEGGGSYNEQFF NA                                                    \n",
       "*ASSEIAGGYEQYF   NA                                                    \n",
       "*ASSLARG~SQETQYF NA                                                    \n",
       "                 CLONES_TRB_TLML_7_AL_infusion_TCR-J_Dep_TCR-V_genomic_1000_AAGACGGA\n",
       "*AFF             NA                                                                 \n",
       "*ASRHWDSANTEAFF  NA                                                                 \n",
       "*ASRRGTNQPQHF    NA                                                                 \n",
       "*ASRVEGGGSYNEQFF NA                                                                 \n",
       "*ASSEIAGGYEQYF   NA                                                                 \n",
       "*ASSLARG~SQETQYF NA                                                                 \n",
       "                 CLONES_TRB_TLML_7_AL_infusion_TCR-JV_cDNA_25_TATCAGCA\n",
       "*AFF             NA                                                   \n",
       "*ASRHWDSANTEAFF  NA                                                   \n",
       "*ASRRGTNQPQHF    NA                                                   \n",
       "*ASRVEGGGSYNEQFF NA                                                   \n",
       "*ASSEIAGGYEQYF   NA                                                   \n",
       "*ASSLARG~SQETQYF NA                                                   "
      ]
     },
     "metadata": {},
     "output_type": "display_data"
    }
   ],
   "source": [
    "head(mymat)"
   ]
  },
  {
   "cell_type": "markdown",
   "metadata": {},
   "source": [
    "### For each pubrepfile, load them as a matrix, drop Samples column, match and fill the mymat matrix"
   ]
  },
  {
   "cell_type": "code",
   "execution_count": 25,
   "metadata": {},
   "outputs": [],
   "source": [
    "for(f in filelist){\n",
    "    pubrepfile <- read.csv(paste0(datapath, f), header = T, \n",
    "                           row.names = 1, check.names = F) \n",
    "    pubrepfile$Samples <- NULL \n",
    "    pubrepfile <- as.matrix(pubrepfile)\n",
    "    rowmatch <- match(rownames(pubrepfile), rownames(mymat))\n",
    "    colmatch <- match(colnames(pubrepfile), colnames(mymat))\n",
    "    mymat[rowmatch, colmatch]<- pubrepfile\n",
    "}"
   ]
  },
  {
   "cell_type": "markdown",
   "metadata": {},
   "source": [
    "## Look up specific cdr3 or sample"
   ]
  },
  {
   "cell_type": "code",
   "execution_count": 38,
   "metadata": {},
   "outputs": [],
   "source": [
    "rowmatch <- match(\"CAASRGC~AKNIQYF\", rownames(mymat))\n",
    "colmatch <- match(\"CLONES_TRB76-Tum\", colnames(mymat))"
   ]
  },
  {
   "cell_type": "code",
   "execution_count": 39,
   "metadata": {},
   "outputs": [],
   "source": [
    "tmp <- mymat[rowmatch,]"
   ]
  },
  {
   "cell_type": "code",
   "execution_count": 40,
   "metadata": {},
   "outputs": [
    {
     "data": {
      "text/html": [
       "1462"
      ],
      "text/latex": [
       "1462"
      ],
      "text/markdown": [
       "1462"
      ],
      "text/plain": [
       "[1] 1462"
      ]
     },
     "metadata": {},
     "output_type": "display_data"
    }
   ],
   "source": [
    "tmp"
   ]
  },
  {
   "cell_type": "markdown",
   "metadata": {},
   "source": [
    "## Find common clonotypes"
   ]
  },
  {
   "cell_type": "code",
   "execution_count": 19,
   "metadata": {},
   "outputs": [],
   "source": [
    "mymat_binary <- mymat\n",
    "mymat_binary[!is.na(mymat_binary)] <- 1\n",
    "mymat_binary[is.na(mymat_binary)] <- 0"
   ]
  },
  {
   "cell_type": "code",
   "execution_count": 20,
   "metadata": {},
   "outputs": [
    {
     "data": {
      "text/html": [
       "<table>\n",
       "<caption>A matrix: 6 × 518 of type dbl</caption>\n",
       "<thead>\n",
       "\t<tr><th></th><th scope=col>IMS-001_MoST-K006_T_DNA</th><th scope=col>IMS-002_MoST-K011_T_DNA</th><th scope=col>IMS-003_MoST-K014_T_DNA</th><th scope=col>IMS-004_MoST-K001_T_DNA</th><th scope=col>IMS-005_MoST-K016_T_DNA</th><th scope=col>IMS-006_MoST-K017_T_DNA</th><th scope=col>IMS-007_MoST-K018_T_DNA</th><th scope=col>IMS-008_MoST-K024_T_DNA</th><th scope=col>IMS-009_MoST-K033_T_DNA</th><th scope=col>IMS-010_MoST-K035_T_DNA</th><th scope=col>⋯</th><th scope=col>CLONES_TRB_TLML_4_JR_infusion_TCR-JV_cDNA_13_GTCGTAGA</th><th scope=col>CLONES_TRB_TLML_7_AL_12W_TCR-J_Dep_TCR-V_genomic_1000_ACAGCAGA</th><th scope=col>CLONES_TRB_TLML_7_AL_12W_TCR-JV_cDNA_35_TGAAGAGA</th><th scope=col>CLONES_TRB_TLML_7_AL_17W_TCR-J_Dep_TCR-V_genomic_1000_ACCTCCAA</th><th scope=col>CLONES_TRB_TLML_7_AL_17W_TCR-JV_cDNA_106_TGGAACAA</th><th scope=col>CLONES_TRB_TLML_7_AL_4W_TCR-J_Dep_TCR-V_genomic_1000_ACACAGAA</th><th scope=col>CLONES_TRB_TLML_7_AL_4W_TCR-JV_cDNA_37_TCTTCACA</th><th scope=col>CLONES_TRB_TLML_7_AL_apheresis_TCR-JV_cDNA_21_TCCGTCTA</th><th scope=col>CLONES_TRB_TLML_7_AL_infusion_TCR-J_Dep_TCR-V_genomic_1000_AAGACGGA</th><th scope=col>CLONES_TRB_TLML_7_AL_infusion_TCR-JV_cDNA_25_TATCAGCA</th></tr>\n",
       "</thead>\n",
       "<tbody>\n",
       "\t<tr><th scope=row>*AFF</th><td>0</td><td>0</td><td>0</td><td>0</td><td>0</td><td>0</td><td>0</td><td>0</td><td>0</td><td>0</td><td>⋯</td><td>0</td><td>0</td><td>0</td><td>0</td><td>0</td><td>0</td><td>0</td><td>0</td><td>0</td><td>0</td></tr>\n",
       "\t<tr><th scope=row>*ASRHWDSANTEAFF</th><td>0</td><td>0</td><td>0</td><td>0</td><td>0</td><td>0</td><td>0</td><td>0</td><td>0</td><td>0</td><td>⋯</td><td>0</td><td>0</td><td>0</td><td>0</td><td>0</td><td>0</td><td>0</td><td>0</td><td>0</td><td>0</td></tr>\n",
       "\t<tr><th scope=row>*ASRRGTNQPQHF</th><td>0</td><td>0</td><td>0</td><td>0</td><td>0</td><td>0</td><td>0</td><td>0</td><td>0</td><td>0</td><td>⋯</td><td>0</td><td>0</td><td>0</td><td>0</td><td>0</td><td>0</td><td>0</td><td>0</td><td>0</td><td>0</td></tr>\n",
       "\t<tr><th scope=row>*ASRVEGGGSYNEQFF</th><td>0</td><td>0</td><td>0</td><td>0</td><td>0</td><td>0</td><td>0</td><td>0</td><td>0</td><td>0</td><td>⋯</td><td>0</td><td>0</td><td>0</td><td>0</td><td>0</td><td>0</td><td>0</td><td>0</td><td>0</td><td>0</td></tr>\n",
       "\t<tr><th scope=row>*ASSEIAGGYEQYF</th><td>0</td><td>0</td><td>0</td><td>0</td><td>0</td><td>0</td><td>0</td><td>0</td><td>0</td><td>0</td><td>⋯</td><td>0</td><td>0</td><td>0</td><td>0</td><td>0</td><td>0</td><td>0</td><td>0</td><td>0</td><td>0</td></tr>\n",
       "\t<tr><th scope=row>*ASSLARG~SQETQYF</th><td>0</td><td>0</td><td>0</td><td>0</td><td>0</td><td>0</td><td>0</td><td>0</td><td>0</td><td>0</td><td>⋯</td><td>0</td><td>0</td><td>0</td><td>0</td><td>0</td><td>0</td><td>0</td><td>0</td><td>0</td><td>0</td></tr>\n",
       "</tbody>\n",
       "</table>\n"
      ],
      "text/latex": [
       "A matrix: 6 × 518 of type dbl\n",
       "\\begin{tabular}{r|llllllllllllllllllllllllllllllllllllllllllllllllllllllllllllllllllllllllllllllllllllllllllllllllllllllllllllllllllllllllllllllllllllllllllllllllllllllllllllllllllllllllllllllllllllllllllllllllllllllllllllllllllllllllllllllllllllllllllllllllllllllllllllllllllllllllllllllllllllllllllllllllllllllllllllllllllllllllllllllllllllllllllllllllllllllllllllllllllllllllllllllllllllllllllllllllllllllllllllllllllllllllllllllllllllllllllllllllllllllllllllllllllllllllllllllllllllllllllllllllllllllllllllllllllllllllllllllllllllll}\n",
       "  & IMS-001\\_MoST-K006\\_T\\_DNA & IMS-002\\_MoST-K011\\_T\\_DNA & IMS-003\\_MoST-K014\\_T\\_DNA & IMS-004\\_MoST-K001\\_T\\_DNA & IMS-005\\_MoST-K016\\_T\\_DNA & IMS-006\\_MoST-K017\\_T\\_DNA & IMS-007\\_MoST-K018\\_T\\_DNA & IMS-008\\_MoST-K024\\_T\\_DNA & IMS-009\\_MoST-K033\\_T\\_DNA & IMS-010\\_MoST-K035\\_T\\_DNA & IMS-011\\_MoST-K037\\_T\\_DNA & IMS-012\\_MoST-K040\\_T\\_DNA & IMS-013\\_MoST-K046\\_T\\_DNA & IMS-014\\_MoST-K047\\_T\\_DNA & IMS-015\\_MoST-K059\\_T\\_DNA & IMS-017\\_MoST-K069\\_T\\_DNA & IMS-018\\_MoST-K076\\_T\\_DNA & IMS-019\\_MoST-K080\\_T\\_DNA & IMS-020\\_MoST-K084\\_T\\_DNA & IMS-021\\_MoST-K099\\_T\\_DNA & IMS-022\\_MoST-K107\\_T\\_DNA & IMS-023\\_MoST-K108\\_T\\_DNA & IMS-024\\_MoST-K110\\_T\\_DNA & IMS-025\\_MoST-K112\\_T\\_DNA & IMS-026\\_MoST-K121\\_T\\_DNA & IMS-027\\_MoST-K124\\_T\\_DNA & IMS-028\\_MoST-K125\\_T\\_DNA & IMS-029\\_MoST-K133\\_T\\_DNA & IMS-030\\_MoST-K136\\_T\\_DNA & IMS-031\\_MoST-K143\\_T\\_DNA & IMS-032\\_MoST-K145\\_T\\_DNA & IMS-033\\_MoST-K148\\_T\\_DNA & IMS-034\\_MoST-K155\\_T\\_DNA & IMS-035\\_MoST-K157\\_T\\_DNA & IMS-036\\_MoST-K164\\_T\\_DNA & IMS-037\\_MoST-K166\\_T\\_DNA & IMS-038\\_MoST-K179\\_T\\_DNA & IMS-039\\_MoST-K193\\_T\\_DNA & IMS-040\\_MoST-K198\\_T\\_DNA & IMS-041\\_MoST-K200\\_T\\_DNA & IMS-042\\_MoST-K204\\_T\\_DNA & IMS-043\\_MoST-K217\\_T\\_DNA & IMS-044\\_MoST-K228\\_T\\_DNA & IMS-045\\_MoST-K006-BLBC\\_N\\_DNA & IMS-046\\_MoST-K011-BLBC\\_N\\_DNA & IMS-047\\_MoST-K014-BLBC\\_N\\_DNA & IMS-048\\_MoST-K015-BLBC\\_N\\_DNA & IMS-049\\_MoST-K016-BLBC\\_N\\_DNA & IMS-050\\_MoST-K017-BLBC\\_N\\_DNA & IMS-051\\_MoST-K018-BLBC\\_N\\_DNA & IMS-052\\_MoST-K024-BLBC\\_N\\_DNA & IMS-053\\_MoST-K033-BLBC\\_N\\_DNA & IMS-054\\_MoST-K035-BLBC\\_N\\_DNA & IMS-055\\_MoST-K037-BLBC\\_N\\_DNA & IMS-056\\_MoST-K040-BLBC\\_N\\_DNA & IMS-057\\_MoST-K046-BLBC\\_N\\_DNA & IMS-058\\_MoST-K047-BLBC\\_N\\_DNA & IMS-059\\_MoST-K059-BLBC\\_N\\_DNA & IMS-060\\_MoST-K065-BLBC\\_N\\_DNA & IMS-061\\_MoST-K069-BLBC\\_N\\_DNA & IMS-062\\_MoST-K076-BLBC\\_N\\_DNA & IMS-063\\_MoST-K080-BLBC\\_N\\_DNA & IMS-064\\_MoST-K084-BLBC\\_N\\_DNA & IMS-065\\_MoST-K099-BLBC\\_N\\_DNA & IMS-066\\_MoST-K107-BLBC\\_N\\_DNA & IMS-067\\_MoST-K108-BLBC\\_N\\_DNA & IMS-068\\_MoST-K110-BLBC\\_N\\_DNA & IMS-069\\_MoST-K112-BLBC\\_N\\_DNA & IMS-070\\_MoST-K121-BLBC\\_N\\_DNA & IMS-071\\_MoST-K124-BLBC\\_N\\_DNA & IMS-072\\_MoST-K125-BLBC\\_N\\_DNA & IMS-073\\_MoST-K133-BLBC\\_N\\_DNA & IMS-074\\_MoST-K136-BLBC\\_N\\_DNA & IMS-075\\_MoST-K143-BLBC\\_N\\_DNA & IMS-076\\_MoST-K145-BLBC\\_N\\_DNA & IMS-077\\_MoST-K148-BLBC\\_N\\_DNA & IMS-078\\_MoST-K155-BLBC\\_N\\_DNA & IMS-079\\_MoST-K157-BLBC\\_N\\_DNA & IMS-080\\_MoST-K164-BLBC\\_N\\_DNA & IMS-081\\_MoST-K166-BLBC\\_N\\_DNA & IMS-082\\_MoST-K179-BLBC\\_N\\_DNA & IMS-083\\_MoST-K193-BLBC\\_N\\_DNA & IMS-084\\_MoST-K198-BLBC\\_N\\_DNA & IMS-085\\_MoST-K200-BLBC\\_N\\_DNA & IMS-086\\_MoST-K204-BLBC\\_N\\_DNA & IMS-087\\_MoST-K217-BLBC\\_N\\_DNA & IMS-088\\_MoST-K228-BLBC\\_N\\_DNA & IMS-089\\_MoST-K006-4WBC\\_N\\_DNA & IMS-090\\_MoST-K011-4WBC\\_N\\_DNA & IMS-091\\_MoST-K014-4WBC\\_N\\_DNA & IMS-092\\_MoST-K015-4WBC\\_N\\_DNA & IMS-093\\_MoST-K016-4WBC\\_N\\_DNA & IMS-094\\_MoST-K017-4WBC\\_N\\_DNA & IMS-095\\_MoST-K018-4WBC\\_N\\_DNA & IMS-096\\_MoST-K024-4WBC\\_N\\_DNA & IMS-097\\_MoST-K033-4WBC\\_N\\_DNA & IMS-098\\_MoST-K035-4WBC\\_N\\_DNA & IMS-099\\_MoST-K037-4WBC\\_N\\_DNA & IMS-100\\_MoST-K040-4WBC\\_N\\_DNA & IMS-101\\_MoST-K046-4WBC\\_N\\_DNA & IMS-102\\_MoST-K047-4WBC\\_N\\_DNA & IMS-103\\_MoST-K059-4WBC\\_N\\_DNA & IMS-104\\_MoST-K065-4WBC\\_N\\_DNA & IMS-105\\_MoST-K069-4WBC\\_N\\_DNA & IMS-106\\_MoST-K076-4WBC\\_N\\_DNA & IMS-107\\_MoST-K080-4WBC\\_N\\_DNA & IMS-108\\_MoST-K084-4WBC\\_N\\_DNA & IMS-109\\_MoST-K099-4WBC\\_N\\_DNA & IMS-110\\_MoST-K107-4WBC\\_N\\_DNA & IMS-111\\_MoST-K108-4WBC\\_N\\_DNA & IMS-112\\_MoST-K110-4WBC\\_N\\_DNA & IMS-113\\_MoST-K112-4WBC\\_N\\_DNA & IMS-114\\_MoST-K121-4WBC\\_N\\_DNA & IMS-115\\_MoST-K124-4WBC\\_N\\_DNA & IMS-116\\_MoST-K125-4WBC\\_N\\_DNA & IMS-117\\_MoST-K133-4WBC\\_N\\_DNA & IMS-118\\_MoST-K136-4WBC\\_N\\_DNA & IMS-119\\_MoST-K143-4WBC\\_N\\_DNA & IMS-120\\_MoST-K145-4WBC\\_N\\_DNA & IMS-121\\_MoST-K148-4WBC\\_N\\_DNA & IMS-122\\_MoST-K155-4WBC\\_N\\_DNA & IMS-123\\_MoST-K157-4WBC\\_N\\_DNA & IMS-124\\_MoST-K164-4WBC\\_N\\_DNA & IMS-125\\_MoST-K166-4WBC\\_N\\_DNA & IMS-126\\_MoST-K179-4WBC\\_N\\_DNA & IMS-127\\_MoST-K193-4WBC\\_N\\_DNA & IMS-128\\_MoST-K198-4WBC\\_N\\_DNA & IMS-129\\_MoST-K200-4WBC\\_N\\_DNA & IMS-130\\_MoST-K204-4WBC\\_N\\_DNA & IMS-131\\_MoST-K217-4WBC\\_N\\_DNA & IMS-132\\_MoST-K228-4WBC\\_N\\_DNA & IMS-133\\_MoST-K6-PTxT\\_T\\_DNA & IMS-134\\_Most-K11-6B-PTxT\\_T\\_DNA & IMS-135\\_Most-K11-1C-PTxT\\_T\\_DNA & IMS-136\\_MoST-K59A-PTxT\\_T\\_DNA & IMS-137\\_MoST-K99-PTxT\\_T\\_DNA & CLONES\\_TRBA037 & CLONES\\_TRBCEM & CLONES\\_TRBJurkat & CLONES\\_TRBL2D8 & CLONES\\_TRBM36-EZM & CLONES\\_TRBM36-TIL2-1E7P3 & CLONES\\_TRBMOLT-4 & CLONES\\_TRBOV7-TIL2 & CLONES\\_TRBSTIM1-CY3 & CLONES\\_TRBSUP-T1 & CLONES\\_TRBUndetermined & CLONES\\_TRBINSPIRE\\_INS-A-002-C3\\_TCR-J\\_D\\_TCR-V\\_cfDNA\\_48\\_AACAACCA & CLONES\\_TRBINSPIRE\\_INS-A-002-SB\\_TCR-J\\_D\\_TCR-V\\_cfDNA\\_82\\_AGTACAAG & CLONES\\_TRBINSPIRE\\_INS-B-002-EOT\\_TCR-J\\_D\\_TCR-V\\_cfDNA\\_1140\\_AACGCTTA & CLONES\\_TRBINSPIRE\\_INS-B-002-SB\\_TCR-J\\_D\\_TCR-V\\_cfDNA\\_236\\_AACCGAGA & CLONES\\_TRBINSPIRE\\_INS-C-001-C3\\_TCR-J\\_D\\_TCR-V\\_cfDNA\\_44\\_AAGGTACA & CLONES\\_TRBINSPIRE\\_INS-C-001-SB\\_TCR-J\\_D\\_TCR-V\\_cfDNA\\_64\\_AAGACGGA & CLONES\\_TRBINSPIRE\\_INS-D-006-C3\\_TCR-J\\_D\\_TCR-V\\_cfDNA\\_19\\_ACAGCAGA & CLONES\\_TRBINSPIRE\\_INS-D-006-C6\\_TCR-J\\_D\\_TCR-V\\_cfDNA\\_19\\_ACCTCCAA & CLONES\\_TRBINSPIRE\\_INS-D-006-SB\\_TCR-J\\_D\\_TCR-V\\_cfDNA\\_30\\_ACACAGAA & CLONES\\_TRBINSPIRE\\_INS-E-003-C3\\_TCR-J\\_D\\_TCR-V\\_cfDNA\\_76\\_ACGTATCA & CLONES\\_TRBINSPIRE\\_INS-E-003-C6\\_TCR-J\\_D\\_TCR-V\\_cfDNA\\_78\\_ACTATGCA & CLONES\\_TRBINSPIRE\\_INS-E-003-SB\\_TCR-J\\_D\\_TCR-V\\_cfDNA\\_83\\_ACGCTCGA & CLONES\\_TRBINSPIRE\\_INS-A-002-C3B\\_TCR-J\\_D\\_TCR-V\\_genomic\\_868\\_AGCACCTC & CLONES\\_TRBINSPIRE\\_INS-A-002-SB\\_TCR-J\\_D\\_TCR-V\\_genomic\\_1000\\_AAACATCG & CLONES\\_TRBINSPIRE\\_INS-A-002-ST\\_TCR-J\\_D\\_TCR-V\\_genomic\\_1000\\_AACGTGAT & CLONES\\_TRBINSPIRE\\_INS-B-002-EOTB\\_TCR-J\\_D\\_TCR-V\\_genomic\\_961\\_AGCCATGC & CLONES\\_TRBINSPIRE\\_INS-B-002-SB\\_TCR-J\\_D\\_TCR-V\\_genomic\\_1000\\_AGTGGTCA & CLONES\\_TRBINSPIRE\\_INS-B-002-ST\\_TCR-J\\_D\\_TCR-V\\_genomic\\_500\\_ATGCCTAA & CLONES\\_TRBINSPIRE\\_INS-C-001-C3B\\_TCR-J\\_D\\_TCR-V\\_genomic\\_1367\\_AGGCTAAC & CLONES\\_TRBINSPIRE\\_INS-C-001-SB\\_TCR-J\\_D\\_TCR-V\\_genomic\\_1000\\_ACATTGGC & CLONES\\_TRBINSPIRE\\_INS-C-001-ST\\_TCR-J\\_D\\_TCR-V\\_genomic\\_500\\_ACCACTGT & CLONES\\_TRBINSPIRE\\_INS-D-006-C2T\\_TCR-J\\_D\\_TCR-V\\_genomic\\_1000\\_CGCTGATC & CLONES\\_TRBINSPIRE\\_INS-D-006-C3B\\_TCR-J\\_D\\_TCR-V\\_genomic\\_815\\_ATAGCGAC & CLONES\\_TRBINSPIRE\\_INS-D-006-C6B\\_TCR-J\\_D\\_TCR-V\\_genomic\\_961\\_ATCATTCC & CLONES\\_TRBINSPIRE\\_INS-D-006-SB\\_TCR-J\\_D\\_TCR-V\\_genomic\\_1000\\_CATCAAGT & CLONES\\_TRBINSPIRE\\_INS-D-006-ST\\_TCR-J\\_D\\_TCR-V\\_genomic\\_1000\\_CAGATCTG & CLONES\\_TRBINSPIRE\\_INS-E-003-C3B\\_TCR-J\\_D\\_TCR-V\\_genomic\\_88\\_ATTGGCTC & CLONES\\_TRBINSPIRE\\_INS-E-003-C6B\\_TCR-J\\_D\\_TCR-V\\_genomic\\_993\\_CAAGGAG & CLONES\\_TRBINSPIRE\\_INS-E-003-SB\\_TCR-J\\_D\\_TCR-V\\_genomic\\_1000\\_CTGTAGCC & CLONES\\_TRBINSPIRE\\_INS-E-003-ST\\_TCR-J\\_D\\_TCR-V\\_genomic\\_1000\\_ACAAGCTA & CHP\\_346-01 & CHP\\_348-03 & CHP\\_348-04 & CHP\\_349-01 & CHP\\_349-02 & CHP\\_350-03 & CHP\\_352-01 & CHP\\_352-02 & CHP\\_356-05 & CHP\\_358-01 & CHP\\_363-03 & CHP\\_365-02 & CHP\\_367-01 & CHP\\_319-05 & CHP\\_329-04 & CHP\\_330-05 & CHP\\_331-04 & CHP\\_331-05 & CHP\\_338-04 & CHP\\_338-05 & CHP\\_342-04 & CHP\\_343-02 & CHP\\_343-03 & CHP\\_343-04 & CHP\\_348-01 & CHP\\_348-02 & CHP\\_339-05 & CHP\\_340-05 & CHP\\_345-04 & CHP\\_345-05 & CHP\\_350-05 & CHP\\_358-03 & CHP\\_358-05 & CHP\\_360-03 & CHP\\_361-02 & CHP\\_361-03 & CHP\\_365-03 & CHP\\_368-05 & CHP\\_370-02 & CHP\\_373-01 & CHP\\_374-03 & CHP\\_374-04 & CHP\\_374-05 & CHP\\_376-03 & CHP\\_378-01 & CHP\\_380-02 & CHP\\_381-02 & CHP\\_303-05 & CHP\\_315-05 & CHP\\_323-03 & CHP\\_338-03 & CHP\\_339-03 & CHP\\_340-03 & CHP\\_343-05 & CHP\\_344-05 & CHP\\_345-02 & CHP\\_347-01 & CHP\\_347-02 & CHP\\_355-01 & CHP\\_357-01 & CHP\\_361-01 & CHP\\_362-02 & CHP\\_363-02 & CHP\\_364-01 & CHP\\_364-02 & CHP\\_364-04 & CHP\\_366-01 & CHP\\_340-04 & CHP\\_347-04 & CHP\\_357-03 & CHP\\_359-02 & CHP\\_359-04 & CHP\\_367-02 & CHP\\_323-04 & CHP\\_323-05 & CHP\\_344-02 & CHP\\_344-03 & CHP\\_345-03 & CHP\\_347-03 & CHP\\_351-04 & CHP\\_353-01 & CHP\\_353-03 & CHP\\_353-05 & CHP\\_357-04 & CHP\\_359-01 & CHP\\_360-02 & CHP\\_361-04 & CHP\\_362-01 & CHP\\_362-03 & CHP\\_362-04 & CHP\\_368-01 & CHP\\_368-04 & CHP\\_370-01 & CHP\\_370-05 & CHP\\_373-02 & CHP\\_375-02 & CHP\\_378-02 & CHP\\_335-03 & CHP\\_344-04 & CHP\\_347-05 & CHP\\_356-02 & CHP\\_357-02 & CHP\\_360-05 & CHP\\_369-02 & CHP\\_370-03 & CHP\\_373-03 & CHP\\_378-04 & CHP\\_380-03 & CHP\\_380-05 & CHP\\_382-02 & CHP\\_383-03 & CHP\\_385-03 & CHP\\_386-02 & CHP\\_387-01 & CHP\\_394-01 & CHP\\_394-04 & CHP\\_396-01 & CHP\\_396-02 & CHP\\_397-01 & CHP\\_399-01 & CLONES\\_TRBLFS\\_TCR-4535-PBMC-DNA & CLONES\\_TRBLFS\\_TCR-4570-PBMC-DNA & CLONES\\_TRBLFS\\_TCR-4602-PBMC-DNA & CLONES\\_TRBLFS\\_TCR-4758-PBMC-DNA & CLONES\\_TRBLFS\\_TCR-4759-PBMC-DNA & CLONES\\_TRBLFS\\_TCR-4783-PBMC-DNA & CLONES\\_TRBLFS\\_TCR-4837-PBMC-DNA & CLONES\\_TRBLFS\\_TCR-4838-PBMC-DNA & CLONES\\_TRBLFS\\_TCR-5014-PBMC-DNA & CLONES\\_TRBLFS\\_TCR-5067-PBMC-DNA & CLONES\\_TRBLFS\\_TCR-4535-PBMC-DNA\\_2000000 & CLONES\\_TRBLFS\\_TCR-4570-PBMC-DNA\\_2000000 & CLONES\\_TRBLFS\\_TCR-4602-PBMC-DNA\\_2000000 & CLONES\\_TRBLFS\\_TCR-4758-PBMC-DNA\\_2000000 & CLONES\\_TRBLFS\\_TCR-4759-PBMC-DNA\\_2000000 & CLONES\\_TRBLFS\\_TCR-4783-PBMC-DNA\\_2000000 & CLONES\\_TRBLFS\\_TCR-4837-PBMC-DNA\\_2000000 & CLONES\\_TRBLFS\\_TCR-4838-PBMC-DNA\\_2000000 & CLONES\\_TRBLFS\\_TCR-5014-PBMC-DNA\\_2000000 & CLONES\\_TRBLFS\\_TCR-5067-PBMC-DNA\\_2000000 & CLONES\\_TRBSample\\_18-04-Lymphotrack-TCRB-A037-PBMC-25\\_S3 & CLONES\\_TRBSample\\_18-04-Lymphotrack-TCRB-H128-PBMC-25\\_S4 & CLONES\\_TRBSample\\_18-04-Lymphotrack-TCRB-H129-PBMC-25\\_S5 & CLONES\\_TRBSample\\_18-04-Lymphotrack-TCRB-H130-PBMC-25\\_S6 & CLONES\\_TRBSample\\_18-04-Lymphotrack-TCRB-H131-PBMC-25\\_S7 & CLONES\\_TRBSample\\_18-04-Lymphotrack-TCRB-H132-PBMC-25\\_S8 & CLONES\\_TRBSample\\_18-04-Lymphotrack-TCRB-H133-PBMC-25\\_S9 & CLONES\\_TRBSample\\_18-04-Lymphotrack-TCRB-Neg-25\\_S1 & CLONES\\_TRBSample\\_18-04-Lymphotrack-TCRB-Pos-25\\_S2 & CLONES\\_TRBSample\\_Undetermined\\_S0 & CLONES\\_TRB17\\_02\\_NPC\\_cDNA\\_TCR\\_NPC\\_101ML & CLONES\\_TRB17\\_02\\_NPC\\_cDNA\\_TCR\\_NPC\\_107JP & CLONES\\_TRB17\\_02\\_NPC\\_cDNA\\_TCR\\_NPC\\_108W03 & CLONES\\_TRB17\\_02\\_NPC\\_cDNA\\_TCR\\_NPC\\_10C02 & CLONES\\_TRB17\\_02\\_NPC\\_cDNA\\_TCR\\_NPC\\_111S03 & CLONES\\_TRB17\\_02\\_NPC\\_cDNA\\_TCR\\_NPC\\_116JC & CLONES\\_TRB17\\_02\\_NPC\\_cDNA\\_TCR\\_NPC\\_119AY & CLONES\\_TRB17\\_02\\_NPC\\_cDNA\\_TCR\\_NPC\\_119S01 & CLONES\\_TRB17\\_02\\_NPC\\_cDNA\\_TCR\\_NPC\\_12109 & CLONES\\_TRB17\\_02\\_NPC\\_cDNA\\_TCR\\_NPC\\_130YL & CLONES\\_TRB17\\_02\\_NPC\\_cDNA\\_TCR\\_NPC\\_14Y05 & CLONES\\_TRB17\\_02\\_NPC\\_cDNA\\_TCR\\_NPC\\_17KW & CLONES\\_TRB17\\_02\\_NPC\\_cDNA\\_TCR\\_NPC\\_18W06 & CLONES\\_TRB17\\_02\\_NPC\\_cDNA\\_TCR\\_NPC\\_29MT & CLONES\\_TRB17\\_02\\_NPC\\_cDNA\\_TCR\\_NPC\\_32S04 & CLONES\\_TRB17\\_02\\_NPC\\_cDNA\\_TCR\\_NPC\\_34M01 & CLONES\\_TRB17\\_02\\_NPC\\_cDNA\\_TCR\\_NPC\\_41PC & CLONES\\_TRB17\\_02\\_NPC\\_cDNA\\_TCR\\_NPC\\_43K03 & CLONES\\_TRB17\\_02\\_NPC\\_cDNA\\_TCR\\_NPC\\_45HM & CLONES\\_TRB17\\_02\\_NPC\\_cDNA\\_TCR\\_NPC\\_47B08 & CLONES\\_TRB17\\_02\\_NPC\\_cDNA\\_TCR\\_NPC\\_47CC & CLONES\\_TRB17\\_02\\_NPC\\_cDNA\\_TCR\\_NPC\\_51M07 & CLONES\\_TRB17\\_02\\_NPC\\_cDNA\\_TCR\\_NPC\\_57EL & CLONES\\_TRB17\\_02\\_NPC\\_cDNA\\_TCR\\_NPC\\_57T02 & CLONES\\_TRB17\\_02\\_NPC\\_cDNA\\_TCR\\_NPC\\_58C06 & CLONES\\_TRB17\\_02\\_NPC\\_cDNA\\_TCR\\_NPC\\_59GA & CLONES\\_TRB17\\_02\\_NPC\\_cDNA\\_TCR\\_NPC\\_5Z05 & CLONES\\_TRB17\\_02\\_NPC\\_cDNA\\_TCR\\_NPC\\_60S03 & CLONES\\_TRB17\\_02\\_NPC\\_cDNA\\_TCR\\_NPC\\_68W02 & CLONES\\_TRB17\\_02\\_NPC\\_cDNA\\_TCR\\_NPC\\_70WS & CLONES\\_TRB17\\_02\\_NPC\\_cDNA\\_TCR\\_NPC\\_72C06 & CLONES\\_TRB17\\_02\\_NPC\\_cDNA\\_TCR\\_NPC\\_79HZ & CLONES\\_TRB17\\_02\\_NPC\\_cDNA\\_TCR\\_NPC\\_79L01 & CLONES\\_TRB17\\_02\\_NPC\\_cDNA\\_TCR\\_NPC\\_83CG & CLONES\\_TRB17\\_02\\_NPC\\_cDNA\\_TCR\\_NPC\\_89CT & CLONES\\_TRB17\\_02\\_NPC\\_cDNA\\_TCR\\_NPC\\_8C07 & CLONES\\_TRB17\\_02\\_NPC\\_cDNA\\_TCR\\_NPC\\_91MO & CLONES\\_TRB17\\_02\\_NPC\\_cDNA\\_TCR\\_NPC\\_95LA & CLONES\\_TRB17\\_02\\_NPC\\_cDNA\\_TCR\\_NPC\\_98KK & CLONES\\_TRB17\\_02\\_NPC\\_cDNA\\_TCR\\_NPC\\_9AW & CLONES\\_TRB17\\_02\\_NPC\\_cDNA\\_TCR\\_NPC\\_N1 & CLONES\\_TRB17\\_02\\_NPC\\_cDNA\\_TCR\\_NPC\\_N4 & CLONES\\_TRB17\\_02\\_NPC\\_cDNA\\_TCR\\_NPC\\_N5 & CLONES\\_TRB17\\_02\\_NPC\\_cDNA\\_TCR\\_NPC\\_N6 & CLONES\\_TRBA037 & CLONES\\_TRBL2D8 & CLONES\\_TRBM36-EZM & CLONES\\_TRBM36-TIL2-1E7P3 & CLONES\\_TRBOV7-TIL2 & CLONES\\_TRBSE14-2005 & CLONES\\_TRBSE14-2033 & CLONES\\_TRBSE14-2034 & CLONES\\_TRBSE14-2035 & CLONES\\_TRBSTIM1-CY3 & CLONES\\_TRB23-Blood & CLONES\\_TRB23-Tum & CLONES\\_TRB50-Tum & CLONES\\_TRB51-Tum & CLONES\\_TRB23-Tum\\_2000000 & CLONES\\_TRB50-Tum\\_2000000 & CLONES\\_TRB51-Tum\\_2000000 & CLONES\\_TRB023-CSF & CLONES\\_TRB051-CSF & CLONES\\_TRB051R-CSF & CLONES\\_TRB19-CSF & CLONES\\_TRB41-CSF & CLONES\\_TRB67-CSF & CLONES\\_TRB76-Tum & CLONES\\_TRB77-Tum & CLONES\\_TRB19-CSF\\_2000000 & CLONES\\_TRB23-CSF\\_2000000 & CLONES\\_TRB41-CSF\\_2000000 & CLONES\\_TRB51-CSF\\_2000000 & CLONES\\_TRB51R-CSF\\_2000000 & CLONES\\_TRB67-CSF\\_2000000 & CLONES\\_TRB76-Tum\\_2000000 & CLONES\\_TRB77-Tum\\_2000000 & CLONES\\_TRB23-Plasma & CLONES\\_TRB50-CSF & CLONES\\_TRB67-Tum & CLONES\\_TRB68-Plasma & CLONES\\_TRB68-Tum & CLONES\\_TRB76-CSF & CLONES\\_TRB76-Plasma & CLONES\\_TRB77-CSF & CLONES\\_TRB77-Plasma & CLONES\\_TRB50-CSF\\_2000000 & CLONES\\_TRB67-Tum\\_2000000 & CLONES\\_TRB68-Plasma\\_2000000 & CLONES\\_TRB76-CSF\\_2000000 & CLONES\\_TRB76-Plasma\\_2000000 & CLONES\\_TRB\\_17\\_02\\_TLDC-001-VM-4W\\_TCR-J\\_D\\_TCR-V\\_cfDNA\\_252\\_AGTGGTCA & CLONES\\_TRB\\_17\\_02\\_TLDC-001-VM-BL\\_TCR-J\\_D\\_TCR-V\\_cfDNA\\_69\\_ATGCCTAA & CLONES\\_TRB\\_17\\_02\\_TLML-004-JR-4W\\_TCR-J\\_D\\_TCR-V\\_cfDNA\\_150\\_AACTCACC & CLONES\\_TRB\\_17\\_02\\_TLML-004-JR-BL\\_TCR-J\\_D\\_TCR-V\\_cfDNA\\_150\\_TTCACGCA & CLONES\\_TRB\\_17\\_02\\_TLML-016-MT-4W\\_TCR-J\\_D\\_TCR-V\\_cfDNA\\_342\\_ACAGATTC & CLONES\\_TRB\\_17\\_02\\_TLML-016-MT-BL\\_TCR-J\\_D\\_TCR-V\\_cfDNA\\_132\\_ACACGACC & CLONES\\_TRB\\_17\\_02\\_TLML-019-FT-4W\\_TCR-J\\_D\\_TCR-V\\_cfDNA\\_48\\_AGCACCTC & CLONES\\_TRB\\_17\\_02\\_TLML-019-FT-BL\\_TCR-J\\_D\\_TCR-V\\_cfDNA\\_66\\_AGATGTAC & CLONES\\_TRB\\_17\\_02\\_TLML-020-TB-4W\\_TCR-J\\_D\\_TCR-V\\_cfDNA\\_263\\_AATGTTGC & CLONES\\_TRB\\_17\\_02\\_TLML-020-TB-BL\\_TCR-J\\_D\\_TCR-V\\_cfDNA\\_74\\_AATCCGTC & CLONES\\_TRB\\_17\\_02\\_TLML-022-PJ-4W\\_TCR-J\\_D\\_TCR-V\\_cfDNA\\_690\\_AAGGACAC & CLONES\\_TRB\\_17\\_02\\_TLML-022-PJ-BL\\_TCR-J\\_D\\_TCR-V\\_cfDNA\\_882\\_AAGAGATC & CLONES\\_TRB\\_17\\_02\\_TLML-029-JC-4W\\_TCR-J\\_D\\_TCR-V\\_cfDNA\\_600\\_AGGCTAAC & CLONES\\_TRB\\_17\\_02\\_TLML-029-JC-BL\\_TCR-J\\_D\\_TCR-V\\_cfDNA\\_138\\_AGCCATGC & CLONES\\_TRB\\_TLDC\\_1\\_VM\\_4W\\_TCR-J\\_Dep\\_TCR-V\\_genomic\\_1000\\_ATGCCTAA & CLONES\\_TRB\\_TLDC\\_1\\_VM\\_4W\\_TCR-JV\\_cDNA\\_20\\_GAGCTGAA & CLONES\\_TRB\\_TLDC\\_1\\_VM\\_baseline\\_TCR-J\\_Dep\\_TCR-V\\_genomic\\_1000\\_AAACATCG & CLONES\\_TRB\\_TLDC\\_1\\_VM\\_baseline\\_TCR-JV\\_cDNA\\_13\\_CAAGACTA & CLONES\\_TRB\\_TLDC\\_1\\_VM\\_infusion\\_TCR-J\\_Dep\\_TCR-V\\_genomic\\_1000\\_AACGTGAT & CLONES\\_TRB\\_TLDC\\_1\\_VM\\_infusion\\_TCR-JV\\_cDNA\\_27\\_GAATCTGA & CLONES\\_TRB\\_TLML\\_16\\_MT\\_4W\\_TCR-J\\_Dep\\_TCR-V\\_genomic\\_1000\\_ACTATGCA & CLONES\\_TRB\\_TLML\\_16\\_MT\\_4W\\_TCR-JV\\_cDNA\\_42\\_TTCACGCA & CLONES\\_TRB\\_TLML\\_16\\_MT\\_baseline\\_TCR-J\\_Dep\\_TCR-V\\_genomic\\_1000\\_ACGTATCA & CLONES\\_TRB\\_TLML\\_16\\_MT\\_baseline\\_TCR-JV\\_cDNA\\_19\\_TGGTGGTA & CLONES\\_TRB\\_TLML\\_16\\_MT\\_FU1\\_TCR-J\\_Dep\\_TCR-V\\_genomic\\_1000\\_AGAGTCAA & CLONES\\_TRB\\_TLML\\_16\\_MT\\_FU1\\_TCR-JV\\_cDNA\\_20\\_AACTCACC & CLONES\\_TRB\\_TLML\\_16\\_MT\\_FU2\\_TCR-J\\_Dep\\_TCR-V\\_genomic\\_1000\\_AGATCGCA & CLONES\\_TRB\\_TLML\\_16\\_MT\\_FU2\\_TCR-JV\\_cDNA\\_28\\_AAGAGATC & CLONES\\_TRB\\_TLML\\_16\\_MT\\_FU3\\_TCR-J\\_Dep\\_TCR-V\\_genomic\\_1000\\_AGCAGGAA & CLONES\\_TRB\\_TLML\\_16\\_MT\\_FU3\\_TCR-JV\\_cDNA\\_20\\_AAGGACAC & CLONES\\_TRB\\_TLML\\_16\\_MT\\_FU4\\_TCR-J\\_Dep\\_TCR-V\\_genomic\\_1000\\_AGTCACTA & CLONES\\_TRB\\_TLML\\_16\\_MT\\_FU4\\_TCR-JV\\_cDNA\\_27\\_AATCCGTC & CLONES\\_TRB\\_TLML\\_16\\_MT\\_FU5\\_TCR-J\\_Dep\\_TCR-V\\_genomic\\_1000\\_ATCCTGTA & CLONES\\_TRB\\_TLML\\_16\\_MT\\_FU5\\_TCR-JV\\_cDNA\\_34\\_AATGTTGC & CLONES\\_TRB\\_TLML\\_16\\_MT\\_infusion\\_TCR-J\\_Dep\\_TCR-V\\_genomic\\_1000\\_ACGCTCGA & CLONES\\_TRB\\_TLML\\_16\\_MT\\_infusion\\_TCR-JV\\_cDNA\\_15\\_TGGCTTCA & CLONES\\_TRB\\_TLML\\_18\\_CKN\\_4W\\_TCR-J\\_Dep\\_TCR-V\\_genomic\\_1000\\_GACTAGTA & CLONES\\_TRB\\_TLML\\_18\\_CKN\\_4W\\_TCR-JV\\_cDNA\\_34\\_AGATGTAC & CLONES\\_TRB\\_TLML\\_18\\_CKN\\_apheresis\\_TCR-J\\_Dep\\_TCR-V\\_genomic\\_1000\\_CAACCACA & CLONES\\_TRB\\_TLML\\_18\\_CKN\\_apheresis\\_TCR-JV\\_cDNA\\_57\\_ACAGATTC & CLONES\\_TRB\\_TLML\\_18\\_CKN\\_infusion\\_TCR-J\\_Dep\\_TCR-V\\_genomic\\_500\\_ATTGAGGA & CLONES\\_TRB\\_TLML\\_18\\_CKN\\_infusion\\_TCR-JV\\_cDNA\\_13\\_ACACGACC & CLONES\\_TRB\\_TLML\\_1\\_AT\\_4W\\_TCR-J\\_Dep\\_TCR-V\\_genomic\\_1000\\_AGTGGTCA & CLONES\\_TRB\\_TLML\\_1\\_AT\\_4W\\_TCR-JV\\_cDNA\\_69\\_GATAGACA & CLONES\\_TRB\\_TLML\\_1\\_AT\\_FU10\\_TCR-J\\_Dep\\_TCR-V\\_genomic\\_1000\\_CAGATCTG & CLONES\\_TRB\\_TLML\\_1\\_AT\\_FU10\\_TCR-JV\\_cDNA\\_33\\_GCTAACGA & CLONES\\_TRB\\_TLML\\_1\\_AT\\_FU12\\_TCR-J\\_Dep\\_TCR-V\\_genomic\\_1000\\_CATCAAGT & CLONES\\_TRB\\_TLML\\_1\\_AT\\_FU12\\_TCR-JV\\_cDNA\\_24\\_GCTCGGTA & CLONES\\_TRB\\_TLML\\_1\\_AT\\_FU13\\_TCR-J\\_Dep\\_TCR-V\\_genomic\\_1000\\_CGCTGATC & CLONES\\_TRB\\_TLML\\_1\\_AT\\_FU13\\_TCR-JV\\_cDNA\\_21\\_GGAGAACA & CLONES\\_TRB\\_TLML\\_1\\_AT\\_FU15\\_TCR-J\\_Dep\\_TCR-V\\_genomic\\_1000\\_ACAAGCTA & CLONES\\_TRB\\_TLML\\_1\\_AT\\_FU15\\_TCR-JV\\_cDNA\\_19\\_GGTGCGAA & CLONES\\_TRB\\_TLML\\_1\\_AT\\_FU16\\_TCR-J\\_Dep\\_TCR-V\\_genomic\\_1000\\_CTGTAGCC & CLONES\\_TRB\\_TLML\\_1\\_AT\\_FU16\\_TCR-JV\\_cDNA\\_13\\_GTACGCAA & CLONES\\_TRB\\_TLML\\_1\\_AT\\_FU7\\_TCR-J\\_Dep\\_TCR-V\\_genomic\\_1000\\_ACCACTGT & CLONES\\_TRB\\_TLML\\_1\\_AT\\_FU7\\_TCR-JV\\_cDNA\\_18\\_GCCACATA & CLONES\\_TRB\\_TLML\\_1\\_AT\\_FU9\\_TCR-J\\_Dep\\_TCR-V\\_genomic\\_1000\\_ACATTGGC & CLONES\\_TRB\\_TLML\\_1\\_AT\\_FU9\\_TCR-JV\\_cDNA\\_13\\_GCGAGTAA & CLONES\\_TRB\\_TLML\\_20\\_TB\\_4W\\_TCR-J\\_Dep\\_TCR-V\\_genomic\\_1000\\_CAGCGTTA & CLONES\\_TRB\\_TLML\\_20\\_TB\\_4W\\_TCR-JV\\_cDNA\\_14\\_AGGCTAAC & CLONES\\_TRB\\_TLML\\_20\\_TB\\_baseline2\\_TCR-J\\_Dep\\_TCR-V\\_genomic\\_1000\\_CACTTCGA & CLONES\\_TRB\\_TLML\\_20\\_TB\\_baseline2\\_TCR-JV\\_cDNA\\_13\\_AGCCATGC & CLONES\\_TRB\\_TLML\\_20\\_TB\\_FU1\\_TCR-JV\\_cDNA\\_18\\_ATAGCGAC & CLONES\\_TRB\\_TLML\\_20\\_TB\\_FU2\\_TCR-J\\_Dep\\_TCR-V\\_genomic\\_1000\\_CCAGTTCA & CLONES\\_TRB\\_TLML\\_20\\_TB\\_FU2\\_TCR-JV\\_cDNA\\_25\\_ATCATTCC & CLONES\\_TRB\\_TLML\\_20\\_TB\\_infusion\\_TCR-J\\_Dep\\_TCR-V\\_genomic\\_1000\\_CAATGGAA & CLONES\\_TRB\\_TLML\\_20\\_TB\\_infusion\\_TCR-JV\\_cDNA\\_97\\_AGCACCTC & CLONES\\_TRB\\_TLML\\_22\\_PJ\\_4W\\_TCR-J\\_Dep\\_TCR-V\\_genomic\\_1000\\_CCTCCTGA & CLONES\\_TRB\\_TLML\\_22\\_PJ\\_4W\\_TCR-JV\\_cDNA\\_21\\_CACCTTAC & CLONES\\_TRB\\_TLML\\_22\\_PJ\\_baseline\\_TCR-J\\_Dep\\_TCR-V\\_genomic\\_1000\\_CCGTGAGA & CLONES\\_TRB\\_TLML\\_22\\_PJ\\_baseline\\_TCR-JV\\_cDNA\\_23\\_CAAGGAGC & CLONES\\_TRB\\_TLML\\_22\\_PJ\\_FU1\\_TCR-J\\_Dep\\_TCR-V\\_genomic\\_1000\\_CGAACTTA & CLONES\\_TRB\\_TLML\\_22\\_PJ\\_FU1\\_TCR-JV\\_cDNA\\_16\\_CCATCCTC & CLONES\\_TRB\\_TLML\\_22\\_PJ\\_FU2\\_TCR-J\\_Dep\\_TCR-V\\_genomic\\_1000\\_CGACTGGA & CLONES\\_TRB\\_TLML\\_22\\_PJ\\_FU2\\_TCR-JV\\_cDNA\\_13\\_CCGACAAC & CLONES\\_TRB\\_TLML\\_22\\_PJ\\_FU3\\_TCR-J\\_Dep\\_TCR-V\\_genomic\\_1000\\_CGCATACA & CLONES\\_TRB\\_TLML\\_22\\_PJ\\_FU3\\_TCR-JV\\_cDNA\\_16\\_CCTAATCC & CLONES\\_TRB\\_TLML\\_22\\_PJ\\_infusion\\_TCR-JV\\_cDNA\\_18\\_ATTGGCTC & CLONES\\_TRB\\_TLML\\_29\\_JC\\_4W\\_TCR-J\\_Dep\\_TCR-V\\_genomic\\_1000\\_CTGGCATA & CLONES\\_TRB\\_TLML\\_29\\_JC\\_4W\\_TCR-JV\\_cDNA\\_25\\_CGGATTGC & CLONES\\_TRB\\_TLML\\_29\\_JC\\_baseline\\_TCR-J\\_Dep\\_TCR-V\\_genomic\\_1000\\_CTGAGCCA & CLONES\\_TRB\\_TLML\\_29\\_JC\\_baseline\\_TCR-JV\\_cDNA\\_18\\_CGACACAC & CLONES\\_TRB\\_TLML\\_29\\_JC\\_infusion\\_TCR-J\\_Dep\\_TCR-V\\_genomic\\_1000\\_CTCAATGA & CLONES\\_TRB\\_TLML\\_29\\_JC\\_infusion\\_TCR-JV\\_cDNA\\_13\\_CCTCTATC & CLONES\\_TRB\\_TLML\\_4\\_JR\\_4W\\_TCR-J\\_Dep\\_TCR-V\\_genomic\\_1000\\_AACCGAGA & CLONES\\_TRB\\_TLML\\_4\\_JR\\_4W\\_TCR-JV\\_cDNA\\_32\\_GTGTTCTA & CLONES\\_TRB\\_TLML\\_4\\_JR\\_baseline2\\_TCR-J\\_Dep\\_TCR-V\\_genomic\\_1000\\_AACAACCA & CLONES\\_TRB\\_TLML\\_4\\_JR\\_baseline2\\_TCR-JV\\_cDNA\\_42\\_GTCTGTCA & CLONES\\_TRB\\_TLML\\_4\\_JR\\_FU1\\_TCR-J\\_Dep\\_TCR-V\\_genomic\\_1000\\_AACGCTTA & CLONES\\_TRB\\_TLML\\_4\\_JR\\_FU1\\_TCR-JV\\_cDNA\\_15\\_TAGGATGA & CLONES\\_TRB\\_TLML\\_4\\_JR\\_infusion\\_TCR-JV\\_cDNA\\_13\\_GTCGTAGA & CLONES\\_TRB\\_TLML\\_7\\_AL\\_12W\\_TCR-J\\_Dep\\_TCR-V\\_genomic\\_1000\\_ACAGCAGA & CLONES\\_TRB\\_TLML\\_7\\_AL\\_12W\\_TCR-JV\\_cDNA\\_35\\_TGAAGAGA & CLONES\\_TRB\\_TLML\\_7\\_AL\\_17W\\_TCR-J\\_Dep\\_TCR-V\\_genomic\\_1000\\_ACCTCCAA & CLONES\\_TRB\\_TLML\\_7\\_AL\\_17W\\_TCR-JV\\_cDNA\\_106\\_TGGAACAA & CLONES\\_TRB\\_TLML\\_7\\_AL\\_4W\\_TCR-J\\_Dep\\_TCR-V\\_genomic\\_1000\\_ACACAGAA & CLONES\\_TRB\\_TLML\\_7\\_AL\\_4W\\_TCR-JV\\_cDNA\\_37\\_TCTTCACA & CLONES\\_TRB\\_TLML\\_7\\_AL\\_apheresis\\_TCR-JV\\_cDNA\\_21\\_TCCGTCTA & CLONES\\_TRB\\_TLML\\_7\\_AL\\_infusion\\_TCR-J\\_Dep\\_TCR-V\\_genomic\\_1000\\_AAGACGGA & CLONES\\_TRB\\_TLML\\_7\\_AL\\_infusion\\_TCR-JV\\_cDNA\\_25\\_TATCAGCA\\\\\n",
       "\\hline\n",
       "\t*AFF & 0 & 0 & 0 & 0 & 0 & 0 & 0 & 0 & 0 & 0 & 0 & 0 & 0 & 0 & 0 & 0 & 0 & 0 & 0 & 0 & 0 & 0 & 0 & 0 & 0 & 0 & 0 & 0 & 0 & 0 & 0 & 0 & 0 & 0 & 0 & 0 & 0 & 0 & 0 & 0 & 0 & 0 & 0 & 0 & 0 & 0 & 0 & 0 & 0 & 0 & 0 & 0 & 0 & 0 & 0 & 0 & 0 & 0 & 0 & 0 & 0 & 0 & 0 & 0 & 0 & 0 & 0 & 0 & 0 & 0 & 0 & 0 & 0 & 0 & 0 & 0 & 0 & 0 & 0 & 0 & 0 & 0 & 0 & 0 & 0 & 0 & 0 & 0 & 0 & 0 & 0 & 0 & 0 & 0 & 0 & 0 & 0 & 0 & 0 & 0 & 0 & 0 & 0 & 0 & 0 & 0 & 0 & 0 & 0 & 0 & 0 & 0 & 0 & 0 & 0 & 0 & 0 & 0 & 0 & 0 & 0 & 0 & 0 & 0 & 0 & 0 & 0 & 0 & 0 & 0 & 0 & 0 & 0 & 0 & 0 & 0 & 0 & 0 & 0 & 0 & 0 & 0 & 0 & 0 & 0 & 0 & 0 & 0 & 0 & 0 & 0 & 0 & 0 & 0 & 0 & 0 & 0 & 0 & 0 & 0 & 0 & 0 & 0 & 0 & 0 & 0 & 0 & 0 & 0 & 0 & 0 & 0 & 0 & 0 & 0 & 0 & 0 & 0 & 0 & 0 & 0 & 0 & 0 & 0 & 0 & 0 & 0 & 0 & 0 & 0 & 0 & 0 & 0 & 0 & 0 & 0 & 0 & 0 & 0 & 0 & 0 & 0 & 0 & 0 & 0 & 0 & 0 & 0 & 0 & 0 & 0 & 1 & 0 & 0 & 0 & 0 & 0 & 0 & 0 & 0 & 0 & 0 & 0 & 0 & 0 & 0 & 0 & 0 & 0 & 0 & 0 & 0 & 0 & 0 & 0 & 0 & 0 & 0 & 0 & 0 & 0 & 0 & 0 & 0 & 0 & 0 & 0 & 0 & 0 & 0 & 0 & 0 & 0 & 0 & 0 & 0 & 0 & 0 & 0 & 0 & 0 & 0 & 0 & 0 & 0 & 0 & 0 & 0 & 0 & 0 & 0 & 0 & 0 & 0 & 0 & 0 & 0 & 0 & 0 & 0 & 0 & 0 & 0 & 0 & 0 & 0 & 0 & 0 & 0 & 0 & 0 & 0 & 0 & 0 & 0 & 0 & 0 & 0 & 0 & 0 & 0 & 0 & 0 & 0 & 0 & 0 & 0 & 0 & 0 & 0 & 0 & 0 & 0 & 0 & 0 & 0 & 0 & 0 & 0 & 0 & 0 & 0 & 0 & 0 & 0 & 0 & 0 & 0 & 0 & 0 & 0 & 0 & 0 & 0 & 0 & 0 & 0 & 0 & 0 & 0 & 0 & 0 & 0 & 0 & 0 & 0 & 0 & 0 & 0 & 0 & 0 & 0 & 0 & 0 & 0 & 0 & 0 & 0 & 0 & 0 & 0 & 0 & 0 & 0 & 0 & 0 & 0 & 0 & 0 & 0 & 0 & 0 & 0 & 0 & 0 & 0 & 0 & 0 & 0 & 0 & 0 & 0 & 0 & 0 & 0 & 0 & 0 & 0 & 0 & 0 & 0 & 0 & 0 & 0 & 0 & 0 & 0 & 0 & 0 & 0 & 0 & 0 & 0 & 0 & 0 & 0 & 0 & 0 & 0 & 0 & 0 & 0 & 0 & 0 & 0 & 0 & 0 & 0 & 0 & 0 & 0 & 0 & 0 & 0 & 0 & 0 & 0 & 0 & 0 & 0 & 0 & 0 & 0 & 0 & 0 & 0 & 0 & 0 & 0 & 0 & 0 & 0 & 0 & 0 & 0 & 0 & 0 & 0 & 0 & 0 & 0 & 0 & 0 & 0 & 0 & 0 & 0 & 0 & 0 & 0 & 0 & 0 & 0 & 0 & 0 & 0 & 0 & 0 & 0 & 0 & 0 & 0 & 0 & 0 & 0 & 0 & 0 & 0 & 0 & 0 & 0 & 0 & 0 & 0 & 0 & 0 & 0 & 0 & 0 & 0 & 0 & 0 & 0 & 0 & 0 & 0 & 0 & 0 & 0 & 0 & 0 & 0 & 0 & 0 & 0 & 0 & 0 & 0 & 0 & 0 & 0 & 0 & 0 & 0 & 0 & 0 & 0 & 0\\\\\n",
       "\t*ASRHWDSANTEAFF & 0 & 0 & 0 & 0 & 0 & 0 & 0 & 0 & 0 & 0 & 0 & 0 & 0 & 0 & 0 & 0 & 0 & 0 & 0 & 0 & 0 & 0 & 0 & 0 & 0 & 0 & 0 & 0 & 0 & 0 & 0 & 0 & 0 & 0 & 0 & 0 & 0 & 0 & 0 & 0 & 0 & 0 & 0 & 0 & 0 & 0 & 0 & 0 & 0 & 0 & 0 & 0 & 0 & 0 & 0 & 0 & 0 & 0 & 0 & 0 & 0 & 0 & 0 & 0 & 0 & 0 & 0 & 0 & 0 & 0 & 0 & 0 & 0 & 0 & 0 & 0 & 0 & 0 & 0 & 0 & 0 & 0 & 0 & 0 & 0 & 0 & 0 & 0 & 0 & 0 & 0 & 0 & 0 & 0 & 0 & 0 & 0 & 0 & 0 & 0 & 0 & 0 & 0 & 0 & 0 & 0 & 0 & 0 & 0 & 0 & 0 & 0 & 0 & 0 & 0 & 0 & 0 & 0 & 0 & 0 & 0 & 0 & 0 & 0 & 0 & 0 & 0 & 0 & 0 & 0 & 0 & 0 & 0 & 0 & 0 & 0 & 0 & 0 & 0 & 0 & 0 & 0 & 0 & 0 & 0 & 0 & 0 & 0 & 0 & 0 & 0 & 0 & 0 & 0 & 0 & 0 & 0 & 0 & 0 & 0 & 0 & 0 & 0 & 0 & 0 & 0 & 0 & 0 & 0 & 0 & 0 & 0 & 0 & 0 & 0 & 0 & 0 & 0 & 0 & 0 & 0 & 0 & 0 & 0 & 0 & 0 & 0 & 0 & 0 & 0 & 0 & 0 & 0 & 0 & 0 & 0 & 0 & 0 & 0 & 0 & 0 & 0 & 0 & 0 & 0 & 0 & 0 & 0 & 0 & 0 & 0 & 0 & 0 & 0 & 0 & 0 & 0 & 0 & 0 & 0 & 0 & 0 & 0 & 1 & 0 & 0 & 0 & 0 & 0 & 0 & 0 & 0 & 0 & 0 & 0 & 0 & 0 & 0 & 0 & 0 & 0 & 0 & 0 & 0 & 0 & 0 & 0 & 0 & 0 & 0 & 0 & 0 & 0 & 0 & 0 & 0 & 0 & 0 & 0 & 0 & 0 & 0 & 0 & 0 & 0 & 0 & 0 & 0 & 0 & 0 & 0 & 0 & 0 & 0 & 0 & 0 & 0 & 0 & 0 & 0 & 0 & 0 & 0 & 0 & 0 & 0 & 0 & 0 & 0 & 0 & 0 & 0 & 0 & 0 & 0 & 0 & 0 & 0 & 0 & 0 & 0 & 0 & 0 & 0 & 0 & 0 & 0 & 0 & 0 & 0 & 0 & 0 & 0 & 0 & 0 & 0 & 0 & 0 & 0 & 0 & 0 & 0 & 0 & 0 & 0 & 0 & 0 & 0 & 0 & 0 & 0 & 0 & 0 & 0 & 0 & 0 & 0 & 0 & 0 & 0 & 0 & 0 & 0 & 0 & 0 & 0 & 0 & 0 & 0 & 0 & 0 & 0 & 0 & 0 & 0 & 0 & 0 & 0 & 0 & 0 & 0 & 0 & 0 & 0 & 0 & 0 & 0 & 0 & 0 & 0 & 0 & 0 & 0 & 0 & 0 & 0 & 0 & 0 & 0 & 0 & 0 & 0 & 0 & 0 & 0 & 0 & 0 & 0 & 0 & 0 & 0 & 0 & 0 & 0 & 0 & 0 & 0 & 0 & 0 & 0 & 0 & 0 & 0 & 0 & 0 & 0 & 0 & 0 & 0 & 0 & 0 & 0 & 0 & 0 & 0 & 0 & 0 & 0 & 0 & 0 & 0 & 0 & 0 & 0 & 0 & 0 & 0 & 0 & 0 & 0 & 0 & 0 & 0 & 0 & 0 & 0 & 0 & 0 & 0 & 0 & 0 & 0 & 0 & 0 & 0 & 0 & 0 & 0 & 0 & 0 & 0 & 0 & 0 & 0 & 0 & 0 & 0 & 0 & 0 & 0 & 0 & 0 & 0 & 0 & 0 & 0 & 0 & 0 & 0 & 0 & 0 & 0 & 0 & 0 & 0 & 0 & 0 & 0 & 0 & 0 & 0 & 0 & 0 & 0 & 0 & 0 & 0 & 0 & 0 & 0 & 0 & 0 & 0 & 0 & 0 & 0 & 0 & 0 & 0 & 0 & 0 & 0 & 0 & 0 & 0 & 0 & 0 & 0 & 0 & 0 & 0 & 0 & 0 & 0 & 0 & 0 & 0 & 0\\\\\n",
       "\t*ASRRGTNQPQHF & 0 & 0 & 0 & 0 & 0 & 0 & 0 & 0 & 0 & 0 & 0 & 0 & 0 & 0 & 0 & 0 & 0 & 0 & 0 & 0 & 0 & 0 & 0 & 0 & 0 & 0 & 0 & 0 & 0 & 0 & 0 & 0 & 0 & 0 & 0 & 0 & 0 & 0 & 0 & 0 & 0 & 0 & 0 & 0 & 0 & 0 & 0 & 0 & 0 & 0 & 0 & 0 & 0 & 0 & 0 & 0 & 0 & 0 & 0 & 0 & 0 & 0 & 0 & 0 & 0 & 0 & 0 & 0 & 0 & 0 & 0 & 0 & 0 & 0 & 0 & 0 & 0 & 0 & 0 & 0 & 0 & 0 & 0 & 0 & 0 & 0 & 0 & 0 & 0 & 0 & 0 & 0 & 0 & 0 & 0 & 0 & 0 & 0 & 0 & 0 & 0 & 0 & 0 & 0 & 0 & 0 & 0 & 0 & 0 & 0 & 0 & 0 & 0 & 0 & 0 & 0 & 0 & 0 & 0 & 0 & 0 & 0 & 0 & 0 & 0 & 0 & 0 & 0 & 0 & 0 & 0 & 0 & 0 & 0 & 0 & 0 & 0 & 0 & 0 & 0 & 0 & 0 & 0 & 0 & 0 & 0 & 0 & 0 & 0 & 0 & 0 & 0 & 0 & 0 & 0 & 0 & 0 & 0 & 0 & 0 & 0 & 0 & 0 & 0 & 0 & 0 & 0 & 0 & 0 & 0 & 0 & 0 & 0 & 0 & 0 & 0 & 0 & 0 & 0 & 0 & 0 & 0 & 0 & 0 & 0 & 0 & 0 & 0 & 0 & 0 & 0 & 0 & 0 & 0 & 0 & 0 & 0 & 0 & 0 & 0 & 0 & 0 & 0 & 0 & 0 & 0 & 0 & 0 & 0 & 0 & 0 & 0 & 0 & 0 & 0 & 0 & 0 & 0 & 0 & 0 & 0 & 0 & 0 & 0 & 0 & 0 & 0 & 0 & 0 & 0 & 0 & 0 & 0 & 0 & 0 & 0 & 0 & 0 & 0 & 0 & 0 & 0 & 0 & 0 & 0 & 0 & 0 & 0 & 0 & 0 & 0 & 0 & 0 & 0 & 0 & 0 & 0 & 0 & 0 & 0 & 0 & 0 & 0 & 0 & 0 & 0 & 0 & 0 & 0 & 0 & 0 & 0 & 0 & 0 & 0 & 0 & 0 & 0 & 0 & 0 & 0 & 0 & 0 & 0 & 0 & 0 & 0 & 0 & 0 & 0 & 0 & 0 & 0 & 0 & 0 & 0 & 0 & 1 & 0 & 0 & 0 & 0 & 0 & 0 & 0 & 0 & 0 & 0 & 0 & 0 & 0 & 0 & 0 & 0 & 0 & 0 & 0 & 0 & 0 & 0 & 0 & 0 & 0 & 0 & 0 & 0 & 0 & 0 & 0 & 0 & 0 & 0 & 0 & 0 & 0 & 0 & 0 & 0 & 0 & 0 & 0 & 0 & 0 & 0 & 0 & 0 & 0 & 0 & 0 & 0 & 0 & 0 & 0 & 0 & 0 & 0 & 0 & 0 & 0 & 0 & 0 & 0 & 0 & 0 & 0 & 0 & 0 & 0 & 0 & 0 & 0 & 0 & 0 & 0 & 0 & 0 & 0 & 0 & 0 & 0 & 0 & 0 & 0 & 0 & 0 & 0 & 0 & 0 & 0 & 0 & 0 & 0 & 0 & 0 & 0 & 0 & 0 & 0 & 0 & 0 & 0 & 0 & 0 & 0 & 0 & 0 & 0 & 0 & 0 & 0 & 0 & 0 & 0 & 0 & 0 & 0 & 0 & 0 & 0 & 0 & 0 & 0 & 0 & 0 & 0 & 0 & 0 & 0 & 0 & 0 & 0 & 0 & 0 & 0 & 0 & 0 & 0 & 0 & 0 & 0 & 0 & 0 & 0 & 0 & 0 & 0 & 0 & 0 & 0 & 0 & 0 & 0 & 0 & 0 & 0 & 0 & 0 & 0 & 0 & 0 & 0 & 0 & 0 & 0 & 0 & 0 & 0 & 0 & 0 & 0 & 0 & 0 & 0 & 0 & 0 & 0 & 0 & 0 & 0 & 0 & 0 & 0 & 0 & 0 & 0 & 0 & 0 & 0 & 0 & 0 & 0 & 0 & 0 & 0 & 0 & 0 & 0 & 0 & 0 & 0 & 0 & 0 & 0 & 0 & 0 & 0 & 0 & 0 & 0 & 0 & 0 & 0 & 0 & 0 & 0 & 0 & 0 & 0\\\\\n",
       "\t*ASRVEGGGSYNEQFF & 0 & 0 & 0 & 0 & 0 & 0 & 0 & 0 & 0 & 0 & 0 & 0 & 0 & 0 & 0 & 0 & 0 & 0 & 0 & 0 & 0 & 0 & 0 & 0 & 0 & 0 & 0 & 0 & 0 & 0 & 0 & 0 & 0 & 0 & 0 & 0 & 0 & 0 & 0 & 0 & 0 & 0 & 0 & 0 & 0 & 0 & 0 & 0 & 0 & 0 & 0 & 0 & 0 & 0 & 0 & 0 & 0 & 0 & 0 & 0 & 0 & 0 & 0 & 0 & 0 & 0 & 0 & 0 & 0 & 0 & 0 & 0 & 0 & 0 & 0 & 0 & 0 & 0 & 0 & 0 & 0 & 0 & 0 & 0 & 0 & 0 & 0 & 0 & 0 & 0 & 0 & 0 & 0 & 0 & 0 & 0 & 0 & 0 & 0 & 0 & 0 & 0 & 0 & 0 & 0 & 0 & 0 & 0 & 0 & 0 & 0 & 0 & 0 & 0 & 0 & 0 & 0 & 0 & 0 & 0 & 0 & 0 & 0 & 0 & 0 & 0 & 0 & 0 & 0 & 0 & 0 & 0 & 0 & 0 & 0 & 0 & 0 & 0 & 0 & 0 & 0 & 0 & 0 & 0 & 0 & 0 & 0 & 0 & 0 & 0 & 0 & 0 & 0 & 0 & 0 & 0 & 0 & 0 & 0 & 0 & 0 & 0 & 0 & 0 & 0 & 0 & 0 & 0 & 0 & 0 & 0 & 0 & 0 & 0 & 0 & 0 & 0 & 0 & 0 & 0 & 0 & 0 & 0 & 0 & 0 & 0 & 0 & 0 & 0 & 0 & 0 & 0 & 0 & 0 & 0 & 0 & 0 & 0 & 0 & 0 & 0 & 0 & 0 & 0 & 0 & 0 & 0 & 0 & 0 & 0 & 0 & 0 & 0 & 0 & 0 & 0 & 0 & 0 & 0 & 0 & 0 & 0 & 0 & 0 & 0 & 0 & 0 & 0 & 0 & 0 & 0 & 0 & 0 & 0 & 1 & 0 & 0 & 0 & 0 & 0 & 0 & 0 & 0 & 0 & 0 & 0 & 0 & 0 & 0 & 0 & 0 & 0 & 0 & 0 & 0 & 0 & 0 & 0 & 0 & 0 & 0 & 0 & 0 & 0 & 0 & 0 & 0 & 0 & 0 & 0 & 0 & 0 & 0 & 0 & 0 & 0 & 0 & 0 & 0 & 0 & 0 & 0 & 0 & 0 & 0 & 0 & 0 & 0 & 0 & 0 & 0 & 0 & 0 & 0 & 0 & 0 & 0 & 0 & 0 & 0 & 0 & 0 & 0 & 0 & 0 & 0 & 0 & 0 & 0 & 0 & 0 & 0 & 0 & 0 & 0 & 0 & 0 & 0 & 0 & 0 & 0 & 0 & 0 & 0 & 0 & 0 & 0 & 0 & 0 & 0 & 0 & 0 & 0 & 0 & 0 & 0 & 0 & 0 & 0 & 0 & 0 & 0 & 0 & 0 & 0 & 0 & 0 & 0 & 0 & 0 & 0 & 0 & 0 & 0 & 0 & 0 & 0 & 0 & 0 & 0 & 0 & 0 & 0 & 0 & 0 & 0 & 0 & 0 & 0 & 0 & 0 & 0 & 0 & 0 & 0 & 0 & 0 & 0 & 0 & 0 & 0 & 0 & 0 & 0 & 0 & 0 & 0 & 0 & 0 & 0 & 0 & 0 & 0 & 0 & 0 & 0 & 0 & 0 & 0 & 0 & 0 & 0 & 0 & 0 & 0 & 0 & 0 & 0 & 0 & 0 & 0 & 0 & 0 & 0 & 0 & 0 & 0 & 0 & 0 & 0 & 0 & 0 & 0 & 0 & 0 & 0 & 0 & 0 & 0 & 0 & 0 & 0 & 0 & 0 & 0 & 0 & 0 & 0 & 0 & 0 & 0 & 0 & 0 & 0 & 0 & 0 & 0 & 0 & 0 & 0 & 0 & 0 & 0 & 0 & 0 & 0 & 0 & 0 & 0 & 0 & 0 & 0 & 0 & 0 & 0 & 0 & 0 & 0 & 0 & 0 & 0 & 0 & 0 & 0 & 0 & 0 & 0 & 0 & 0 & 0 & 0 & 0 & 0 & 0 & 0 & 0 & 0 & 0 & 0 & 0 & 0 & 0 & 0 & 0 & 0 & 0 & 0 & 0 & 0 & 0 & 0 & 0 & 0 & 0 & 0 & 0 & 0 & 0 & 0 & 0 & 0 & 0 & 0 & 0 & 0 & 0 & 0 & 0\\\\\n",
       "\t*ASSEIAGGYEQYF & 0 & 0 & 0 & 0 & 0 & 0 & 0 & 0 & 0 & 0 & 0 & 0 & 0 & 0 & 0 & 0 & 0 & 0 & 0 & 0 & 0 & 0 & 0 & 0 & 0 & 0 & 0 & 0 & 0 & 0 & 0 & 0 & 0 & 0 & 0 & 0 & 0 & 0 & 0 & 0 & 0 & 0 & 0 & 0 & 0 & 0 & 0 & 0 & 0 & 0 & 0 & 0 & 0 & 0 & 0 & 0 & 0 & 0 & 0 & 0 & 0 & 0 & 0 & 0 & 0 & 0 & 0 & 0 & 0 & 0 & 0 & 0 & 0 & 0 & 0 & 0 & 0 & 0 & 0 & 0 & 0 & 0 & 0 & 0 & 0 & 0 & 0 & 0 & 0 & 0 & 0 & 0 & 0 & 0 & 0 & 0 & 0 & 0 & 0 & 0 & 0 & 0 & 0 & 0 & 0 & 0 & 0 & 0 & 0 & 0 & 0 & 0 & 0 & 0 & 0 & 0 & 0 & 0 & 0 & 0 & 0 & 0 & 0 & 0 & 0 & 0 & 0 & 0 & 0 & 0 & 0 & 0 & 0 & 0 & 0 & 0 & 0 & 0 & 0 & 0 & 0 & 0 & 0 & 0 & 0 & 0 & 0 & 0 & 0 & 0 & 0 & 0 & 0 & 0 & 0 & 0 & 0 & 0 & 0 & 0 & 0 & 0 & 0 & 0 & 0 & 0 & 0 & 0 & 0 & 0 & 0 & 0 & 0 & 0 & 0 & 0 & 0 & 0 & 0 & 0 & 0 & 0 & 0 & 0 & 0 & 0 & 0 & 0 & 0 & 0 & 0 & 0 & 0 & 0 & 0 & 0 & 0 & 0 & 0 & 0 & 0 & 0 & 0 & 0 & 0 & 0 & 0 & 0 & 0 & 0 & 0 & 0 & 0 & 0 & 0 & 0 & 0 & 0 & 0 & 0 & 0 & 0 & 0 & 0 & 0 & 0 & 0 & 0 & 0 & 0 & 0 & 0 & 0 & 0 & 0 & 0 & 0 & 0 & 0 & 0 & 0 & 0 & 0 & 0 & 0 & 0 & 0 & 0 & 0 & 0 & 0 & 0 & 0 & 0 & 0 & 0 & 0 & 0 & 0 & 0 & 0 & 0 & 1 & 0 & 0 & 0 & 0 & 0 & 0 & 0 & 0 & 0 & 0 & 0 & 0 & 0 & 0 & 0 & 0 & 0 & 0 & 0 & 0 & 0 & 0 & 0 & 0 & 0 & 0 & 0 & 0 & 0 & 0 & 0 & 0 & 0 & 0 & 0 & 0 & 0 & 0 & 0 & 0 & 0 & 0 & 0 & 0 & 0 & 0 & 0 & 0 & 0 & 0 & 0 & 0 & 0 & 0 & 0 & 0 & 0 & 0 & 0 & 0 & 0 & 0 & 0 & 0 & 0 & 0 & 0 & 0 & 0 & 0 & 0 & 0 & 0 & 0 & 0 & 0 & 0 & 0 & 0 & 0 & 0 & 0 & 0 & 0 & 0 & 0 & 0 & 0 & 0 & 0 & 0 & 0 & 0 & 0 & 0 & 0 & 0 & 0 & 0 & 0 & 0 & 0 & 0 & 0 & 0 & 0 & 0 & 0 & 0 & 0 & 0 & 0 & 0 & 0 & 0 & 0 & 0 & 0 & 0 & 0 & 0 & 0 & 0 & 0 & 0 & 0 & 0 & 0 & 0 & 0 & 0 & 0 & 0 & 0 & 0 & 0 & 0 & 0 & 0 & 0 & 0 & 0 & 0 & 0 & 0 & 0 & 0 & 0 & 0 & 0 & 0 & 0 & 0 & 0 & 0 & 0 & 0 & 0 & 0 & 0 & 0 & 0 & 0 & 0 & 0 & 0 & 0 & 0 & 0 & 0 & 0 & 0 & 0 & 0 & 0 & 0 & 0 & 0 & 0 & 0 & 0 & 0 & 0 & 0 & 0 & 0 & 0 & 0 & 0 & 0 & 0 & 0 & 0 & 0 & 0 & 0 & 0 & 0 & 0 & 0 & 0 & 0 & 0 & 0 & 0 & 0 & 0 & 0 & 0 & 0 & 0 & 0 & 0 & 0 & 0 & 0 & 0 & 0 & 0 & 0 & 0 & 0 & 0 & 0 & 0 & 0 & 0 & 0 & 0 & 0 & 0 & 0 & 0 & 0 & 0 & 0 & 0 & 0 & 0 & 0 & 0 & 0 & 0 & 0 & 0 & 0 & 0 & 0 & 0 & 0 & 0 & 0 & 0 & 0 & 0\\\\\n",
       "\t*ASSLARG\\textasciitilde{}SQETQYF & 0 & 0 & 0 & 0 & 0 & 0 & 0 & 0 & 0 & 0 & 0 & 0 & 0 & 0 & 0 & 0 & 0 & 0 & 0 & 0 & 0 & 0 & 0 & 0 & 0 & 0 & 0 & 0 & 0 & 0 & 0 & 0 & 0 & 0 & 0 & 0 & 0 & 0 & 0 & 0 & 0 & 0 & 0 & 0 & 0 & 0 & 0 & 0 & 0 & 0 & 0 & 0 & 0 & 0 & 0 & 0 & 0 & 0 & 0 & 0 & 0 & 0 & 0 & 0 & 0 & 0 & 0 & 0 & 0 & 0 & 0 & 0 & 0 & 0 & 0 & 0 & 0 & 0 & 0 & 0 & 0 & 0 & 0 & 0 & 0 & 0 & 0 & 0 & 0 & 0 & 0 & 0 & 0 & 0 & 0 & 0 & 0 & 0 & 0 & 0 & 0 & 0 & 0 & 0 & 0 & 0 & 0 & 0 & 0 & 0 & 0 & 0 & 0 & 0 & 0 & 0 & 0 & 0 & 0 & 0 & 0 & 0 & 0 & 0 & 0 & 0 & 0 & 0 & 0 & 0 & 0 & 0 & 0 & 0 & 0 & 0 & 0 & 0 & 0 & 0 & 0 & 0 & 0 & 0 & 0 & 0 & 0 & 0 & 0 & 0 & 0 & 0 & 0 & 0 & 0 & 0 & 0 & 0 & 0 & 0 & 0 & 0 & 0 & 0 & 0 & 0 & 0 & 0 & 0 & 0 & 0 & 0 & 0 & 0 & 0 & 0 & 0 & 0 & 0 & 0 & 0 & 0 & 0 & 0 & 0 & 0 & 0 & 0 & 0 & 0 & 0 & 0 & 0 & 0 & 0 & 0 & 0 & 0 & 0 & 0 & 0 & 0 & 0 & 0 & 0 & 0 & 0 & 0 & 0 & 0 & 0 & 0 & 0 & 0 & 0 & 0 & 0 & 0 & 0 & 0 & 0 & 0 & 0 & 0 & 0 & 0 & 0 & 0 & 0 & 0 & 0 & 0 & 0 & 0 & 0 & 0 & 0 & 0 & 0 & 0 & 0 & 0 & 0 & 0 & 0 & 0 & 0 & 0 & 0 & 0 & 0 & 0 & 0 & 0 & 0 & 0 & 0 & 0 & 0 & 0 & 0 & 0 & 0 & 0 & 0 & 0 & 0 & 0 & 0 & 0 & 0 & 0 & 0 & 0 & 0 & 0 & 0 & 0 & 0 & 0 & 0 & 0 & 0 & 0 & 0 & 0 & 0 & 0 & 0 & 0 & 0 & 0 & 0 & 0 & 0 & 0 & 0 & 0 & 0 & 0 & 0 & 0 & 0 & 0 & 0 & 0 & 0 & 0 & 0 & 0 & 0 & 0 & 0 & 0 & 0 & 0 & 0 & 0 & 0 & 0 & 0 & 0 & 0 & 0 & 0 & 0 & 0 & 0 & 0 & 0 & 0 & 0 & 0 & 0 & 0 & 0 & 0 & 0 & 0 & 0 & 0 & 0 & 0 & 0 & 0 & 0 & 0 & 0 & 0 & 0 & 0 & 0 & 0 & 0 & 0 & 0 & 0 & 0 & 0 & 0 & 0 & 0 & 0 & 0 & 0 & 0 & 0 & 0 & 0 & 0 & 0 & 0 & 0 & 0 & 0 & 0 & 0 & 0 & 0 & 0 & 0 & 0 & 0 & 0 & 0 & 0 & 0 & 0 & 0 & 0 & 0 & 0 & 0 & 0 & 0 & 0 & 0 & 0 & 0 & 0 & 0 & 0 & 0 & 0 & 0 & 0 & 0 & 1 & 0 & 0 & 0 & 0 & 0 & 0 & 0 & 0 & 0 & 0 & 0 & 0 & 0 & 0 & 0 & 0 & 0 & 0 & 0 & 0 & 0 & 0 & 0 & 0 & 0 & 0 & 0 & 0 & 0 & 0 & 0 & 0 & 0 & 0 & 0 & 0 & 0 & 0 & 0 & 0 & 0 & 0 & 0 & 0 & 0 & 0 & 0 & 0 & 0 & 0 & 0 & 0 & 0 & 0 & 0 & 0 & 0 & 0 & 0 & 0 & 0 & 0 & 0 & 0 & 0 & 0 & 0 & 0 & 0 & 0 & 0 & 0 & 0 & 0 & 0 & 0 & 0 & 0 & 0 & 0 & 0 & 0 & 0 & 0 & 0 & 0 & 0 & 0 & 0 & 0 & 0 & 0 & 0 & 0 & 0 & 0 & 0 & 0 & 0 & 0 & 0 & 0 & 0 & 0 & 0 & 0 & 0 & 0 & 0 & 0\\\\\n",
       "\\end{tabular}\n"
      ],
      "text/markdown": [
       "\n",
       "A matrix: 6 × 518 of type dbl\n",
       "\n",
       "| <!--/--> | IMS-001_MoST-K006_T_DNA | IMS-002_MoST-K011_T_DNA | IMS-003_MoST-K014_T_DNA | IMS-004_MoST-K001_T_DNA | IMS-005_MoST-K016_T_DNA | IMS-006_MoST-K017_T_DNA | IMS-007_MoST-K018_T_DNA | IMS-008_MoST-K024_T_DNA | IMS-009_MoST-K033_T_DNA | IMS-010_MoST-K035_T_DNA | ⋯ | CLONES_TRB_TLML_4_JR_infusion_TCR-JV_cDNA_13_GTCGTAGA | CLONES_TRB_TLML_7_AL_12W_TCR-J_Dep_TCR-V_genomic_1000_ACAGCAGA | CLONES_TRB_TLML_7_AL_12W_TCR-JV_cDNA_35_TGAAGAGA | CLONES_TRB_TLML_7_AL_17W_TCR-J_Dep_TCR-V_genomic_1000_ACCTCCAA | CLONES_TRB_TLML_7_AL_17W_TCR-JV_cDNA_106_TGGAACAA | CLONES_TRB_TLML_7_AL_4W_TCR-J_Dep_TCR-V_genomic_1000_ACACAGAA | CLONES_TRB_TLML_7_AL_4W_TCR-JV_cDNA_37_TCTTCACA | CLONES_TRB_TLML_7_AL_apheresis_TCR-JV_cDNA_21_TCCGTCTA | CLONES_TRB_TLML_7_AL_infusion_TCR-J_Dep_TCR-V_genomic_1000_AAGACGGA | CLONES_TRB_TLML_7_AL_infusion_TCR-JV_cDNA_25_TATCAGCA |\n",
       "|---|---|---|---|---|---|---|---|---|---|---|---|---|---|---|---|---|---|---|---|---|---|\n",
       "| *AFF | 0 | 0 | 0 | 0 | 0 | 0 | 0 | 0 | 0 | 0 | ⋯ | 0 | 0 | 0 | 0 | 0 | 0 | 0 | 0 | 0 | 0 |\n",
       "| *ASRHWDSANTEAFF | 0 | 0 | 0 | 0 | 0 | 0 | 0 | 0 | 0 | 0 | ⋯ | 0 | 0 | 0 | 0 | 0 | 0 | 0 | 0 | 0 | 0 |\n",
       "| *ASRRGTNQPQHF | 0 | 0 | 0 | 0 | 0 | 0 | 0 | 0 | 0 | 0 | ⋯ | 0 | 0 | 0 | 0 | 0 | 0 | 0 | 0 | 0 | 0 |\n",
       "| *ASRVEGGGSYNEQFF | 0 | 0 | 0 | 0 | 0 | 0 | 0 | 0 | 0 | 0 | ⋯ | 0 | 0 | 0 | 0 | 0 | 0 | 0 | 0 | 0 | 0 |\n",
       "| *ASSEIAGGYEQYF | 0 | 0 | 0 | 0 | 0 | 0 | 0 | 0 | 0 | 0 | ⋯ | 0 | 0 | 0 | 0 | 0 | 0 | 0 | 0 | 0 | 0 |\n",
       "| *ASSLARG~SQETQYF | 0 | 0 | 0 | 0 | 0 | 0 | 0 | 0 | 0 | 0 | ⋯ | 0 | 0 | 0 | 0 | 0 | 0 | 0 | 0 | 0 | 0 |\n",
       "\n"
      ],
      "text/plain": [
       "                 IMS-001_MoST-K006_T_DNA IMS-002_MoST-K011_T_DNA\n",
       "*AFF             0                       0                      \n",
       "*ASRHWDSANTEAFF  0                       0                      \n",
       "*ASRRGTNQPQHF    0                       0                      \n",
       "*ASRVEGGGSYNEQFF 0                       0                      \n",
       "*ASSEIAGGYEQYF   0                       0                      \n",
       "*ASSLARG~SQETQYF 0                       0                      \n",
       "                 IMS-003_MoST-K014_T_DNA IMS-004_MoST-K001_T_DNA\n",
       "*AFF             0                       0                      \n",
       "*ASRHWDSANTEAFF  0                       0                      \n",
       "*ASRRGTNQPQHF    0                       0                      \n",
       "*ASRVEGGGSYNEQFF 0                       0                      \n",
       "*ASSEIAGGYEQYF   0                       0                      \n",
       "*ASSLARG~SQETQYF 0                       0                      \n",
       "                 IMS-005_MoST-K016_T_DNA IMS-006_MoST-K017_T_DNA\n",
       "*AFF             0                       0                      \n",
       "*ASRHWDSANTEAFF  0                       0                      \n",
       "*ASRRGTNQPQHF    0                       0                      \n",
       "*ASRVEGGGSYNEQFF 0                       0                      \n",
       "*ASSEIAGGYEQYF   0                       0                      \n",
       "*ASSLARG~SQETQYF 0                       0                      \n",
       "                 IMS-007_MoST-K018_T_DNA IMS-008_MoST-K024_T_DNA\n",
       "*AFF             0                       0                      \n",
       "*ASRHWDSANTEAFF  0                       0                      \n",
       "*ASRRGTNQPQHF    0                       0                      \n",
       "*ASRVEGGGSYNEQFF 0                       0                      \n",
       "*ASSEIAGGYEQYF   0                       0                      \n",
       "*ASSLARG~SQETQYF 0                       0                      \n",
       "                 IMS-009_MoST-K033_T_DNA IMS-010_MoST-K035_T_DNA ⋯\n",
       "*AFF             0                       0                       ⋯\n",
       "*ASRHWDSANTEAFF  0                       0                       ⋯\n",
       "*ASRRGTNQPQHF    0                       0                       ⋯\n",
       "*ASRVEGGGSYNEQFF 0                       0                       ⋯\n",
       "*ASSEIAGGYEQYF   0                       0                       ⋯\n",
       "*ASSLARG~SQETQYF 0                       0                       ⋯\n",
       "                 CLONES_TRB_TLML_4_JR_infusion_TCR-JV_cDNA_13_GTCGTAGA\n",
       "*AFF             0                                                    \n",
       "*ASRHWDSANTEAFF  0                                                    \n",
       "*ASRRGTNQPQHF    0                                                    \n",
       "*ASRVEGGGSYNEQFF 0                                                    \n",
       "*ASSEIAGGYEQYF   0                                                    \n",
       "*ASSLARG~SQETQYF 0                                                    \n",
       "                 CLONES_TRB_TLML_7_AL_12W_TCR-J_Dep_TCR-V_genomic_1000_ACAGCAGA\n",
       "*AFF             0                                                             \n",
       "*ASRHWDSANTEAFF  0                                                             \n",
       "*ASRRGTNQPQHF    0                                                             \n",
       "*ASRVEGGGSYNEQFF 0                                                             \n",
       "*ASSEIAGGYEQYF   0                                                             \n",
       "*ASSLARG~SQETQYF 0                                                             \n",
       "                 CLONES_TRB_TLML_7_AL_12W_TCR-JV_cDNA_35_TGAAGAGA\n",
       "*AFF             0                                               \n",
       "*ASRHWDSANTEAFF  0                                               \n",
       "*ASRRGTNQPQHF    0                                               \n",
       "*ASRVEGGGSYNEQFF 0                                               \n",
       "*ASSEIAGGYEQYF   0                                               \n",
       "*ASSLARG~SQETQYF 0                                               \n",
       "                 CLONES_TRB_TLML_7_AL_17W_TCR-J_Dep_TCR-V_genomic_1000_ACCTCCAA\n",
       "*AFF             0                                                             \n",
       "*ASRHWDSANTEAFF  0                                                             \n",
       "*ASRRGTNQPQHF    0                                                             \n",
       "*ASRVEGGGSYNEQFF 0                                                             \n",
       "*ASSEIAGGYEQYF   0                                                             \n",
       "*ASSLARG~SQETQYF 0                                                             \n",
       "                 CLONES_TRB_TLML_7_AL_17W_TCR-JV_cDNA_106_TGGAACAA\n",
       "*AFF             0                                                \n",
       "*ASRHWDSANTEAFF  0                                                \n",
       "*ASRRGTNQPQHF    0                                                \n",
       "*ASRVEGGGSYNEQFF 0                                                \n",
       "*ASSEIAGGYEQYF   0                                                \n",
       "*ASSLARG~SQETQYF 0                                                \n",
       "                 CLONES_TRB_TLML_7_AL_4W_TCR-J_Dep_TCR-V_genomic_1000_ACACAGAA\n",
       "*AFF             0                                                            \n",
       "*ASRHWDSANTEAFF  0                                                            \n",
       "*ASRRGTNQPQHF    0                                                            \n",
       "*ASRVEGGGSYNEQFF 0                                                            \n",
       "*ASSEIAGGYEQYF   0                                                            \n",
       "*ASSLARG~SQETQYF 0                                                            \n",
       "                 CLONES_TRB_TLML_7_AL_4W_TCR-JV_cDNA_37_TCTTCACA\n",
       "*AFF             0                                              \n",
       "*ASRHWDSANTEAFF  0                                              \n",
       "*ASRRGTNQPQHF    0                                              \n",
       "*ASRVEGGGSYNEQFF 0                                              \n",
       "*ASSEIAGGYEQYF   0                                              \n",
       "*ASSLARG~SQETQYF 0                                              \n",
       "                 CLONES_TRB_TLML_7_AL_apheresis_TCR-JV_cDNA_21_TCCGTCTA\n",
       "*AFF             0                                                     \n",
       "*ASRHWDSANTEAFF  0                                                     \n",
       "*ASRRGTNQPQHF    0                                                     \n",
       "*ASRVEGGGSYNEQFF 0                                                     \n",
       "*ASSEIAGGYEQYF   0                                                     \n",
       "*ASSLARG~SQETQYF 0                                                     \n",
       "                 CLONES_TRB_TLML_7_AL_infusion_TCR-J_Dep_TCR-V_genomic_1000_AAGACGGA\n",
       "*AFF             0                                                                  \n",
       "*ASRHWDSANTEAFF  0                                                                  \n",
       "*ASRRGTNQPQHF    0                                                                  \n",
       "*ASRVEGGGSYNEQFF 0                                                                  \n",
       "*ASSEIAGGYEQYF   0                                                                  \n",
       "*ASSLARG~SQETQYF 0                                                                  \n",
       "                 CLONES_TRB_TLML_7_AL_infusion_TCR-JV_cDNA_25_TATCAGCA\n",
       "*AFF             0                                                    \n",
       "*ASRHWDSANTEAFF  0                                                    \n",
       "*ASRRGTNQPQHF    0                                                    \n",
       "*ASRVEGGGSYNEQFF 0                                                    \n",
       "*ASSEIAGGYEQYF   0                                                    \n",
       "*ASSLARG~SQETQYF 0                                                    "
      ]
     },
     "metadata": {},
     "output_type": "display_data"
    }
   ],
   "source": [
    "head(mymat_binary)"
   ]
  },
  {
   "cell_type": "code",
   "execution_count": 86,
   "metadata": {},
   "outputs": [],
   "source": [
    "write.csv(mymat_binary, \n",
    "          file = paste0(datapath,\"clonotypes_by_samples.csv\"))"
   ]
  },
  {
   "cell_type": "markdown",
   "metadata": {},
   "source": [
    "# Removing private cdr3s"
   ]
  },
  {
   "cell_type": "code",
   "execution_count": 52,
   "metadata": {},
   "outputs": [],
   "source": [
    "sharedmymat_binary <- mymat_binary[rowSums(mymat_binary) > 1,]"
   ]
  },
  {
   "cell_type": "code",
   "execution_count": 87,
   "metadata": {},
   "outputs": [],
   "source": [
    "write.csv(sharedmymat_binary, \n",
    "          file = paste0(datapath,\"sharedclonotypes_by_samples.csv\"))"
   ]
  },
  {
   "cell_type": "code",
   "execution_count": 21,
   "metadata": {},
   "outputs": [],
   "source": [
    "x <- rowSums(mymat_binary)"
   ]
  },
  {
   "cell_type": "code",
   "execution_count": 22,
   "metadata": {},
   "outputs": [],
   "source": [
    "options(scipen = 999)"
   ]
  },
  {
   "cell_type": "code",
   "execution_count": 23,
   "metadata": {
    "scrolled": false
   },
   "outputs": [
    {
     "name": "stderr",
     "output_type": "stream",
     "text": [
      "`stat_bin()` using `bins = 30`. Pick better value with `binwidth`.\n"
     ]
    },
    {
     "data": {
      "image/png": "[encoded data removed]",
      "text/plain": [
       "plot without title"
      ]
     },
     "metadata": {},
     "output_type": "display_data"
    }
   ],
   "source": [
    "ggplot(data = as.data.frame(x)) + geom_histogram(aes(x)) + coord_cartesian(ylim = c(0,1000))"
   ]
  },
  {
   "cell_type": "code",
   "execution_count": null,
   "metadata": {},
   "outputs": [],
   "source": []
  },
  {
   "cell_type": "markdown",
   "metadata": {},
   "source": [
    "# Collapse serial samples using metadata"
   ]
  },
  {
   "cell_type": "code",
   "execution_count": 24,
   "metadata": {},
   "outputs": [],
   "source": [
    "metadata <- read.csv(file = paste0(datapath,\"commonclonotypes_metadata.csv\"), header = T)"
   ]
  },
  {
   "cell_type": "code",
   "execution_count": 25,
   "metadata": {},
   "outputs": [
    {
     "data": {
      "text/html": [
       "<table>\n",
       "<caption>A data.frame: 518 × 5</caption>\n",
       "<thead>\n",
       "\t<tr><th scope=col>filename</th><th scope=col>Study</th><th scope=col>Patient</th><th scope=col>Samplename</th><th scope=col>Sample_type</th></tr>\n",
       "\t<tr><th scope=col>&lt;fct&gt;</th><th scope=col>&lt;fct&gt;</th><th scope=col>&lt;fct&gt;</th><th scope=col>&lt;fct&gt;</th><th scope=col>&lt;fct&gt;</th></tr>\n",
       "</thead>\n",
       "<tbody>\n",
       "\t<tr><td>IMS-001_MoST-K006_T_DNA</td><td>IMS</td><td>IMS-001</td><td>IMS-001_MoST-K006_T_DNA</td><td>Tumour</td></tr>\n",
       "\t<tr><td>IMS-002_MoST-K011_T_DNA</td><td>IMS</td><td>IMS-002</td><td>IMS-002_MoST-K011_T_DNA</td><td>Tumour</td></tr>\n",
       "\t<tr><td>IMS-003_MoST-K014_T_DNA</td><td>IMS</td><td>IMS-003</td><td>IMS-003_MoST-K014_T_DNA</td><td>Tumour</td></tr>\n",
       "\t<tr><td>IMS-004_MoST-K001_T_DNA</td><td>IMS</td><td>IMS-004</td><td>IMS-004_MoST-K001_T_DNA</td><td>Tumour</td></tr>\n",
       "\t<tr><td>IMS-005_MoST-K016_T_DNA</td><td>IMS</td><td>IMS-005</td><td>IMS-005_MoST-K016_T_DNA</td><td>Tumour</td></tr>\n",
       "\t<tr><td>IMS-006_MoST-K017_T_DNA</td><td>IMS</td><td>IMS-006</td><td>IMS-006_MoST-K017_T_DNA</td><td>Tumour</td></tr>\n",
       "\t<tr><td>IMS-007_MoST-K018_T_DNA</td><td>IMS</td><td>IMS-007</td><td>IMS-007_MoST-K018_T_DNA</td><td>Tumour</td></tr>\n",
       "\t<tr><td>IMS-008_MoST-K024_T_DNA</td><td>IMS</td><td>IMS-008</td><td>IMS-008_MoST-K024_T_DNA</td><td>Tumour</td></tr>\n",
       "\t<tr><td>IMS-009_MoST-K033_T_DNA</td><td>IMS</td><td>IMS-009</td><td>IMS-009_MoST-K033_T_DNA</td><td>Tumour</td></tr>\n",
       "\t<tr><td>IMS-010_MoST-K035_T_DNA</td><td>IMS</td><td>IMS-010</td><td>IMS-010_MoST-K035_T_DNA</td><td>Tumour</td></tr>\n",
       "\t<tr><td>IMS-011_MoST-K037_T_DNA</td><td>IMS</td><td>IMS-011</td><td>IMS-011_MoST-K037_T_DNA</td><td>Tumour</td></tr>\n",
       "\t<tr><td>IMS-012_MoST-K040_T_DNA</td><td>IMS</td><td>IMS-012</td><td>IMS-012_MoST-K040_T_DNA</td><td>Tumour</td></tr>\n",
       "\t<tr><td>IMS-013_MoST-K046_T_DNA</td><td>IMS</td><td>IMS-013</td><td>IMS-013_MoST-K046_T_DNA</td><td>Tumour</td></tr>\n",
       "\t<tr><td>IMS-014_MoST-K047_T_DNA</td><td>IMS</td><td>IMS-014</td><td>IMS-014_MoST-K047_T_DNA</td><td>Tumour</td></tr>\n",
       "\t<tr><td>IMS-015_MoST-K059_T_DNA</td><td>IMS</td><td>IMS-015</td><td>IMS-015_MoST-K059_T_DNA</td><td>Tumour</td></tr>\n",
       "\t<tr><td>IMS-017_MoST-K069_T_DNA</td><td>IMS</td><td>IMS-017</td><td>IMS-017_MoST-K069_T_DNA</td><td>Tumour</td></tr>\n",
       "\t<tr><td>IMS-018_MoST-K076_T_DNA</td><td>IMS</td><td>IMS-018</td><td>IMS-018_MoST-K076_T_DNA</td><td>Tumour</td></tr>\n",
       "\t<tr><td>IMS-019_MoST-K080_T_DNA</td><td>IMS</td><td>IMS-019</td><td>IMS-019_MoST-K080_T_DNA</td><td>Tumour</td></tr>\n",
       "\t<tr><td>IMS-020_MoST-K084_T_DNA</td><td>IMS</td><td>IMS-020</td><td>IMS-020_MoST-K084_T_DNA</td><td>Tumour</td></tr>\n",
       "\t<tr><td>IMS-021_MoST-K099_T_DNA</td><td>IMS</td><td>IMS-021</td><td>IMS-021_MoST-K099_T_DNA</td><td>Tumour</td></tr>\n",
       "\t<tr><td>IMS-022_MoST-K107_T_DNA</td><td>IMS</td><td>IMS-022</td><td>IMS-022_MoST-K107_T_DNA</td><td>Tumour</td></tr>\n",
       "\t<tr><td>IMS-023_MoST-K108_T_DNA</td><td>IMS</td><td>IMS-023</td><td>IMS-023_MoST-K108_T_DNA</td><td>Tumour</td></tr>\n",
       "\t<tr><td>IMS-024_MoST-K110_T_DNA</td><td>IMS</td><td>IMS-024</td><td>IMS-024_MoST-K110_T_DNA</td><td>Tumour</td></tr>\n",
       "\t<tr><td>IMS-025_MoST-K112_T_DNA</td><td>IMS</td><td>IMS-025</td><td>IMS-025_MoST-K112_T_DNA</td><td>Tumour</td></tr>\n",
       "\t<tr><td>IMS-026_MoST-K121_T_DNA</td><td>IMS</td><td>IMS-026</td><td>IMS-026_MoST-K121_T_DNA</td><td>Tumour</td></tr>\n",
       "\t<tr><td>IMS-027_MoST-K124_T_DNA</td><td>IMS</td><td>IMS-027</td><td>IMS-027_MoST-K124_T_DNA</td><td>Tumour</td></tr>\n",
       "\t<tr><td>IMS-028_MoST-K125_T_DNA</td><td>IMS</td><td>IMS-028</td><td>IMS-028_MoST-K125_T_DNA</td><td>Tumour</td></tr>\n",
       "\t<tr><td>IMS-029_MoST-K133_T_DNA</td><td>IMS</td><td>IMS-029</td><td>IMS-029_MoST-K133_T_DNA</td><td>Tumour</td></tr>\n",
       "\t<tr><td>IMS-030_MoST-K136_T_DNA</td><td>IMS</td><td>IMS-030</td><td>IMS-030_MoST-K136_T_DNA</td><td>Tumour</td></tr>\n",
       "\t<tr><td>IMS-031_MoST-K143_T_DNA</td><td>IMS</td><td>IMS-031</td><td>IMS-031_MoST-K143_T_DNA</td><td>Tumour</td></tr>\n",
       "\t<tr><td>⋮</td><td>⋮</td><td>⋮</td><td>⋮</td><td>⋮</td></tr>\n",
       "\t<tr><td>CLONES_TRB_TLML_22_PJ_baseline_TCR-JV_cDNA_23_CAAGGAGC              </td><td>TLML</td><td>TLML-022</td><td>TLML_22_PJ_baseline_TCR-JV_cDNA_23_CAAGGAGC              </td><td>NA  </td></tr>\n",
       "\t<tr><td>CLONES_TRB_TLML_22_PJ_FU1_TCR-J_Dep_TCR-V_genomic_1000_CGAACTTA     </td><td>TLML</td><td>TLML-022</td><td>TLML_22_PJ_FU1_TCR-J_Dep_TCR-V_genomic_1000_CGAACTTA     </td><td>PBMC</td></tr>\n",
       "\t<tr><td>CLONES_TRB_TLML_22_PJ_FU1_TCR-JV_cDNA_16_CCATCCTC                   </td><td>TLML</td><td>TLML-022</td><td>TLML_22_PJ_FU1_TCR-JV_cDNA_16_CCATCCTC                   </td><td>NA  </td></tr>\n",
       "\t<tr><td>CLONES_TRB_TLML_22_PJ_FU2_TCR-J_Dep_TCR-V_genomic_1000_CGACTGGA     </td><td>TLML</td><td>TLML-022</td><td>TLML_22_PJ_FU2_TCR-J_Dep_TCR-V_genomic_1000_CGACTGGA     </td><td>PBMC</td></tr>\n",
       "\t<tr><td>CLONES_TRB_TLML_22_PJ_FU2_TCR-JV_cDNA_13_CCGACAAC                   </td><td>TLML</td><td>TLML-022</td><td>TLML_22_PJ_FU2_TCR-JV_cDNA_13_CCGACAAC                   </td><td>NA  </td></tr>\n",
       "\t<tr><td>CLONES_TRB_TLML_22_PJ_FU3_TCR-J_Dep_TCR-V_genomic_1000_CGCATACA     </td><td>TLML</td><td>TLML-022</td><td>TLML_22_PJ_FU3_TCR-J_Dep_TCR-V_genomic_1000_CGCATACA     </td><td>PBMC</td></tr>\n",
       "\t<tr><td>CLONES_TRB_TLML_22_PJ_FU3_TCR-JV_cDNA_16_CCTAATCC                   </td><td>TLML</td><td>TLML-022</td><td>TLML_22_PJ_FU3_TCR-JV_cDNA_16_CCTAATCC                   </td><td>NA  </td></tr>\n",
       "\t<tr><td>CLONES_TRB_TLML_22_PJ_infusion_TCR-JV_cDNA_18_ATTGGCTC              </td><td>TLML</td><td>TLML-022</td><td>TLML_22_PJ_infusion_TCR-JV_cDNA_18_ATTGGCTC              </td><td>NA  </td></tr>\n",
       "\t<tr><td>CLONES_TRB_TLML_29_JC_4W_TCR-J_Dep_TCR-V_genomic_1000_CTGGCATA      </td><td>TLML</td><td>TLML-029</td><td>TLML_29_JC_4W_TCR-J_Dep_TCR-V_genomic_1000_CTGGCATA      </td><td>PBMC</td></tr>\n",
       "\t<tr><td>CLONES_TRB_TLML_29_JC_4W_TCR-JV_cDNA_25_CGGATTGC                    </td><td>TLML</td><td>TLML-029</td><td>TLML_29_JC_4W_TCR-JV_cDNA_25_CGGATTGC                    </td><td>NA  </td></tr>\n",
       "\t<tr><td>CLONES_TRB_TLML_29_JC_baseline_TCR-J_Dep_TCR-V_genomic_1000_CTGAGCCA</td><td>TLML</td><td>TLML-029</td><td>TLML_29_JC_baseline_TCR-J_Dep_TCR-V_genomic_1000_CTGAGCCA</td><td>PBMC</td></tr>\n",
       "\t<tr><td>CLONES_TRB_TLML_29_JC_baseline_TCR-JV_cDNA_18_CGACACAC              </td><td>TLML</td><td>TLML-029</td><td>TLML_29_JC_baseline_TCR-JV_cDNA_18_CGACACAC              </td><td>NA  </td></tr>\n",
       "\t<tr><td>CLONES_TRB_TLML_29_JC_infusion_TCR-J_Dep_TCR-V_genomic_1000_CTCAATGA</td><td>TLML</td><td>TLML-029</td><td>TLML_29_JC_infusion_TCR-J_Dep_TCR-V_genomic_1000_CTCAATGA</td><td>PBMC</td></tr>\n",
       "\t<tr><td>CLONES_TRB_TLML_29_JC_infusion_TCR-JV_cDNA_13_CCTCTATC              </td><td>TLML</td><td>TLML-029</td><td>TLML_29_JC_infusion_TCR-JV_cDNA_13_CCTCTATC              </td><td>NA  </td></tr>\n",
       "\t<tr><td>CLONES_TRB_TLML_4_JR_4W_TCR-J_Dep_TCR-V_genomic_1000_AACCGAGA       </td><td>TLML</td><td>TLML-004</td><td>TLML_4_JR_4W_TCR-J_Dep_TCR-V_genomic_1000_AACCGAGA       </td><td>PBMC</td></tr>\n",
       "\t<tr><td>CLONES_TRB_TLML_4_JR_4W_TCR-JV_cDNA_32_GTGTTCTA                     </td><td>TLML</td><td>TLML-004</td><td>TLML_4_JR_4W_TCR-JV_cDNA_32_GTGTTCTA                     </td><td>NA  </td></tr>\n",
       "\t<tr><td>CLONES_TRB_TLML_4_JR_baseline2_TCR-J_Dep_TCR-V_genomic_1000_AACAACCA</td><td>TLML</td><td>TLML-004</td><td>TLML_4_JR_baseline2_TCR-J_Dep_TCR-V_genomic_1000_AACAACCA</td><td>PBMC</td></tr>\n",
       "\t<tr><td>CLONES_TRB_TLML_4_JR_baseline2_TCR-JV_cDNA_42_GTCTGTCA              </td><td>TLML</td><td>TLML-004</td><td>TLML_4_JR_baseline2_TCR-JV_cDNA_42_GTCTGTCA              </td><td>NA  </td></tr>\n",
       "\t<tr><td>CLONES_TRB_TLML_4_JR_FU1_TCR-J_Dep_TCR-V_genomic_1000_AACGCTTA      </td><td>TLML</td><td>TLML-004</td><td>TLML_4_JR_FU1_TCR-J_Dep_TCR-V_genomic_1000_AACGCTTA      </td><td>PBMC</td></tr>\n",
       "\t<tr><td>CLONES_TRB_TLML_4_JR_FU1_TCR-JV_cDNA_15_TAGGATGA                    </td><td>TLML</td><td>TLML-004</td><td>TLML_4_JR_FU1_TCR-JV_cDNA_15_TAGGATGA                    </td><td>NA  </td></tr>\n",
       "\t<tr><td>CLONES_TRB_TLML_4_JR_infusion_TCR-JV_cDNA_13_GTCGTAGA               </td><td>TLML</td><td>TLML-004</td><td>TLML_4_JR_infusion_TCR-JV_cDNA_13_GTCGTAGA               </td><td>NA  </td></tr>\n",
       "\t<tr><td>CLONES_TRB_TLML_7_AL_12W_TCR-J_Dep_TCR-V_genomic_1000_ACAGCAGA      </td><td>TLML</td><td>TLML-007</td><td>TLML_7_AL_12W_TCR-J_Dep_TCR-V_genomic_1000_ACAGCAGA      </td><td>PBMC</td></tr>\n",
       "\t<tr><td>CLONES_TRB_TLML_7_AL_12W_TCR-JV_cDNA_35_TGAAGAGA                    </td><td>TLML</td><td>TLML-007</td><td>TLML_7_AL_12W_TCR-JV_cDNA_35_TGAAGAGA                    </td><td>NA  </td></tr>\n",
       "\t<tr><td>CLONES_TRB_TLML_7_AL_17W_TCR-J_Dep_TCR-V_genomic_1000_ACCTCCAA      </td><td>TLML</td><td>TLML-007</td><td>TLML_7_AL_17W_TCR-J_Dep_TCR-V_genomic_1000_ACCTCCAA      </td><td>PBMC</td></tr>\n",
       "\t<tr><td>CLONES_TRB_TLML_7_AL_17W_TCR-JV_cDNA_106_TGGAACAA                   </td><td>TLML</td><td>TLML-007</td><td>TLML_7_AL_17W_TCR-JV_cDNA_106_TGGAACAA                   </td><td>NA  </td></tr>\n",
       "\t<tr><td>CLONES_TRB_TLML_7_AL_4W_TCR-J_Dep_TCR-V_genomic_1000_ACACAGAA       </td><td>TLML</td><td>TLML-007</td><td>TLML_7_AL_4W_TCR-J_Dep_TCR-V_genomic_1000_ACACAGAA       </td><td>PBMC</td></tr>\n",
       "\t<tr><td>CLONES_TRB_TLML_7_AL_4W_TCR-JV_cDNA_37_TCTTCACA                     </td><td>TLML</td><td>TLML-007</td><td>TLML_7_AL_4W_TCR-JV_cDNA_37_TCTTCACA                     </td><td>NA  </td></tr>\n",
       "\t<tr><td>CLONES_TRB_TLML_7_AL_apheresis_TCR-JV_cDNA_21_TCCGTCTA              </td><td>TLML</td><td>TLML-007</td><td>TLML_7_AL_apheresis_TCR-JV_cDNA_21_TCCGTCTA              </td><td>NA  </td></tr>\n",
       "\t<tr><td>CLONES_TRB_TLML_7_AL_infusion_TCR-J_Dep_TCR-V_genomic_1000_AAGACGGA </td><td>TLML</td><td>TLML-007</td><td>TLML_7_AL_infusion_TCR-J_Dep_TCR-V_genomic_1000_AAGACGGA </td><td>PBMC</td></tr>\n",
       "\t<tr><td>CLONES_TRB_TLML_7_AL_infusion_TCR-JV_cDNA_25_TATCAGCA               </td><td>TLML</td><td>TLML-007</td><td>TLML_7_AL_infusion_TCR-JV_cDNA_25_TATCAGCA               </td><td>NA  </td></tr>\n",
       "</tbody>\n",
       "</table>\n"
      ],
      "text/latex": [
       "A data.frame: 518 × 5\n",
       "\\begin{tabular}{r|lllll}\n",
       " filename & Study & Patient & Samplename & Sample\\_type\\\\\n",
       " <fct> & <fct> & <fct> & <fct> & <fct>\\\\\n",
       "\\hline\n",
       "\t IMS-001\\_MoST-K006\\_T\\_DNA & IMS & IMS-001 & IMS-001\\_MoST-K006\\_T\\_DNA & Tumour\\\\\n",
       "\t IMS-002\\_MoST-K011\\_T\\_DNA & IMS & IMS-002 & IMS-002\\_MoST-K011\\_T\\_DNA & Tumour\\\\\n",
       "\t IMS-003\\_MoST-K014\\_T\\_DNA & IMS & IMS-003 & IMS-003\\_MoST-K014\\_T\\_DNA & Tumour\\\\\n",
       "\t IMS-004\\_MoST-K001\\_T\\_DNA & IMS & IMS-004 & IMS-004\\_MoST-K001\\_T\\_DNA & Tumour\\\\\n",
       "\t IMS-005\\_MoST-K016\\_T\\_DNA & IMS & IMS-005 & IMS-005\\_MoST-K016\\_T\\_DNA & Tumour\\\\\n",
       "\t IMS-006\\_MoST-K017\\_T\\_DNA & IMS & IMS-006 & IMS-006\\_MoST-K017\\_T\\_DNA & Tumour\\\\\n",
       "\t IMS-007\\_MoST-K018\\_T\\_DNA & IMS & IMS-007 & IMS-007\\_MoST-K018\\_T\\_DNA & Tumour\\\\\n",
       "\t IMS-008\\_MoST-K024\\_T\\_DNA & IMS & IMS-008 & IMS-008\\_MoST-K024\\_T\\_DNA & Tumour\\\\\n",
       "\t IMS-009\\_MoST-K033\\_T\\_DNA & IMS & IMS-009 & IMS-009\\_MoST-K033\\_T\\_DNA & Tumour\\\\\n",
       "\t IMS-010\\_MoST-K035\\_T\\_DNA & IMS & IMS-010 & IMS-010\\_MoST-K035\\_T\\_DNA & Tumour\\\\\n",
       "\t IMS-011\\_MoST-K037\\_T\\_DNA & IMS & IMS-011 & IMS-011\\_MoST-K037\\_T\\_DNA & Tumour\\\\\n",
       "\t IMS-012\\_MoST-K040\\_T\\_DNA & IMS & IMS-012 & IMS-012\\_MoST-K040\\_T\\_DNA & Tumour\\\\\n",
       "\t IMS-013\\_MoST-K046\\_T\\_DNA & IMS & IMS-013 & IMS-013\\_MoST-K046\\_T\\_DNA & Tumour\\\\\n",
       "\t IMS-014\\_MoST-K047\\_T\\_DNA & IMS & IMS-014 & IMS-014\\_MoST-K047\\_T\\_DNA & Tumour\\\\\n",
       "\t IMS-015\\_MoST-K059\\_T\\_DNA & IMS & IMS-015 & IMS-015\\_MoST-K059\\_T\\_DNA & Tumour\\\\\n",
       "\t IMS-017\\_MoST-K069\\_T\\_DNA & IMS & IMS-017 & IMS-017\\_MoST-K069\\_T\\_DNA & Tumour\\\\\n",
       "\t IMS-018\\_MoST-K076\\_T\\_DNA & IMS & IMS-018 & IMS-018\\_MoST-K076\\_T\\_DNA & Tumour\\\\\n",
       "\t IMS-019\\_MoST-K080\\_T\\_DNA & IMS & IMS-019 & IMS-019\\_MoST-K080\\_T\\_DNA & Tumour\\\\\n",
       "\t IMS-020\\_MoST-K084\\_T\\_DNA & IMS & IMS-020 & IMS-020\\_MoST-K084\\_T\\_DNA & Tumour\\\\\n",
       "\t IMS-021\\_MoST-K099\\_T\\_DNA & IMS & IMS-021 & IMS-021\\_MoST-K099\\_T\\_DNA & Tumour\\\\\n",
       "\t IMS-022\\_MoST-K107\\_T\\_DNA & IMS & IMS-022 & IMS-022\\_MoST-K107\\_T\\_DNA & Tumour\\\\\n",
       "\t IMS-023\\_MoST-K108\\_T\\_DNA & IMS & IMS-023 & IMS-023\\_MoST-K108\\_T\\_DNA & Tumour\\\\\n",
       "\t IMS-024\\_MoST-K110\\_T\\_DNA & IMS & IMS-024 & IMS-024\\_MoST-K110\\_T\\_DNA & Tumour\\\\\n",
       "\t IMS-025\\_MoST-K112\\_T\\_DNA & IMS & IMS-025 & IMS-025\\_MoST-K112\\_T\\_DNA & Tumour\\\\\n",
       "\t IMS-026\\_MoST-K121\\_T\\_DNA & IMS & IMS-026 & IMS-026\\_MoST-K121\\_T\\_DNA & Tumour\\\\\n",
       "\t IMS-027\\_MoST-K124\\_T\\_DNA & IMS & IMS-027 & IMS-027\\_MoST-K124\\_T\\_DNA & Tumour\\\\\n",
       "\t IMS-028\\_MoST-K125\\_T\\_DNA & IMS & IMS-028 & IMS-028\\_MoST-K125\\_T\\_DNA & Tumour\\\\\n",
       "\t IMS-029\\_MoST-K133\\_T\\_DNA & IMS & IMS-029 & IMS-029\\_MoST-K133\\_T\\_DNA & Tumour\\\\\n",
       "\t IMS-030\\_MoST-K136\\_T\\_DNA & IMS & IMS-030 & IMS-030\\_MoST-K136\\_T\\_DNA & Tumour\\\\\n",
       "\t IMS-031\\_MoST-K143\\_T\\_DNA & IMS & IMS-031 & IMS-031\\_MoST-K143\\_T\\_DNA & Tumour\\\\\n",
       "\t ⋮ & ⋮ & ⋮ & ⋮ & ⋮\\\\\n",
       "\t CLONES\\_TRB\\_TLML\\_22\\_PJ\\_baseline\\_TCR-JV\\_cDNA\\_23\\_CAAGGAGC               & TLML & TLML-022 & TLML\\_22\\_PJ\\_baseline\\_TCR-JV\\_cDNA\\_23\\_CAAGGAGC               & NA  \\\\\n",
       "\t CLONES\\_TRB\\_TLML\\_22\\_PJ\\_FU1\\_TCR-J\\_Dep\\_TCR-V\\_genomic\\_1000\\_CGAACTTA      & TLML & TLML-022 & TLML\\_22\\_PJ\\_FU1\\_TCR-J\\_Dep\\_TCR-V\\_genomic\\_1000\\_CGAACTTA      & PBMC\\\\\n",
       "\t CLONES\\_TRB\\_TLML\\_22\\_PJ\\_FU1\\_TCR-JV\\_cDNA\\_16\\_CCATCCTC                    & TLML & TLML-022 & TLML\\_22\\_PJ\\_FU1\\_TCR-JV\\_cDNA\\_16\\_CCATCCTC                    & NA  \\\\\n",
       "\t CLONES\\_TRB\\_TLML\\_22\\_PJ\\_FU2\\_TCR-J\\_Dep\\_TCR-V\\_genomic\\_1000\\_CGACTGGA      & TLML & TLML-022 & TLML\\_22\\_PJ\\_FU2\\_TCR-J\\_Dep\\_TCR-V\\_genomic\\_1000\\_CGACTGGA      & PBMC\\\\\n",
       "\t CLONES\\_TRB\\_TLML\\_22\\_PJ\\_FU2\\_TCR-JV\\_cDNA\\_13\\_CCGACAAC                    & TLML & TLML-022 & TLML\\_22\\_PJ\\_FU2\\_TCR-JV\\_cDNA\\_13\\_CCGACAAC                    & NA  \\\\\n",
       "\t CLONES\\_TRB\\_TLML\\_22\\_PJ\\_FU3\\_TCR-J\\_Dep\\_TCR-V\\_genomic\\_1000\\_CGCATACA      & TLML & TLML-022 & TLML\\_22\\_PJ\\_FU3\\_TCR-J\\_Dep\\_TCR-V\\_genomic\\_1000\\_CGCATACA      & PBMC\\\\\n",
       "\t CLONES\\_TRB\\_TLML\\_22\\_PJ\\_FU3\\_TCR-JV\\_cDNA\\_16\\_CCTAATCC                    & TLML & TLML-022 & TLML\\_22\\_PJ\\_FU3\\_TCR-JV\\_cDNA\\_16\\_CCTAATCC                    & NA  \\\\\n",
       "\t CLONES\\_TRB\\_TLML\\_22\\_PJ\\_infusion\\_TCR-JV\\_cDNA\\_18\\_ATTGGCTC               & TLML & TLML-022 & TLML\\_22\\_PJ\\_infusion\\_TCR-JV\\_cDNA\\_18\\_ATTGGCTC               & NA  \\\\\n",
       "\t CLONES\\_TRB\\_TLML\\_29\\_JC\\_4W\\_TCR-J\\_Dep\\_TCR-V\\_genomic\\_1000\\_CTGGCATA       & TLML & TLML-029 & TLML\\_29\\_JC\\_4W\\_TCR-J\\_Dep\\_TCR-V\\_genomic\\_1000\\_CTGGCATA       & PBMC\\\\\n",
       "\t CLONES\\_TRB\\_TLML\\_29\\_JC\\_4W\\_TCR-JV\\_cDNA\\_25\\_CGGATTGC                     & TLML & TLML-029 & TLML\\_29\\_JC\\_4W\\_TCR-JV\\_cDNA\\_25\\_CGGATTGC                     & NA  \\\\\n",
       "\t CLONES\\_TRB\\_TLML\\_29\\_JC\\_baseline\\_TCR-J\\_Dep\\_TCR-V\\_genomic\\_1000\\_CTGAGCCA & TLML & TLML-029 & TLML\\_29\\_JC\\_baseline\\_TCR-J\\_Dep\\_TCR-V\\_genomic\\_1000\\_CTGAGCCA & PBMC\\\\\n",
       "\t CLONES\\_TRB\\_TLML\\_29\\_JC\\_baseline\\_TCR-JV\\_cDNA\\_18\\_CGACACAC               & TLML & TLML-029 & TLML\\_29\\_JC\\_baseline\\_TCR-JV\\_cDNA\\_18\\_CGACACAC               & NA  \\\\\n",
       "\t CLONES\\_TRB\\_TLML\\_29\\_JC\\_infusion\\_TCR-J\\_Dep\\_TCR-V\\_genomic\\_1000\\_CTCAATGA & TLML & TLML-029 & TLML\\_29\\_JC\\_infusion\\_TCR-J\\_Dep\\_TCR-V\\_genomic\\_1000\\_CTCAATGA & PBMC\\\\\n",
       "\t CLONES\\_TRB\\_TLML\\_29\\_JC\\_infusion\\_TCR-JV\\_cDNA\\_13\\_CCTCTATC               & TLML & TLML-029 & TLML\\_29\\_JC\\_infusion\\_TCR-JV\\_cDNA\\_13\\_CCTCTATC               & NA  \\\\\n",
       "\t CLONES\\_TRB\\_TLML\\_4\\_JR\\_4W\\_TCR-J\\_Dep\\_TCR-V\\_genomic\\_1000\\_AACCGAGA        & TLML & TLML-004 & TLML\\_4\\_JR\\_4W\\_TCR-J\\_Dep\\_TCR-V\\_genomic\\_1000\\_AACCGAGA        & PBMC\\\\\n",
       "\t CLONES\\_TRB\\_TLML\\_4\\_JR\\_4W\\_TCR-JV\\_cDNA\\_32\\_GTGTTCTA                      & TLML & TLML-004 & TLML\\_4\\_JR\\_4W\\_TCR-JV\\_cDNA\\_32\\_GTGTTCTA                      & NA  \\\\\n",
       "\t CLONES\\_TRB\\_TLML\\_4\\_JR\\_baseline2\\_TCR-J\\_Dep\\_TCR-V\\_genomic\\_1000\\_AACAACCA & TLML & TLML-004 & TLML\\_4\\_JR\\_baseline2\\_TCR-J\\_Dep\\_TCR-V\\_genomic\\_1000\\_AACAACCA & PBMC\\\\\n",
       "\t CLONES\\_TRB\\_TLML\\_4\\_JR\\_baseline2\\_TCR-JV\\_cDNA\\_42\\_GTCTGTCA               & TLML & TLML-004 & TLML\\_4\\_JR\\_baseline2\\_TCR-JV\\_cDNA\\_42\\_GTCTGTCA               & NA  \\\\\n",
       "\t CLONES\\_TRB\\_TLML\\_4\\_JR\\_FU1\\_TCR-J\\_Dep\\_TCR-V\\_genomic\\_1000\\_AACGCTTA       & TLML & TLML-004 & TLML\\_4\\_JR\\_FU1\\_TCR-J\\_Dep\\_TCR-V\\_genomic\\_1000\\_AACGCTTA       & PBMC\\\\\n",
       "\t CLONES\\_TRB\\_TLML\\_4\\_JR\\_FU1\\_TCR-JV\\_cDNA\\_15\\_TAGGATGA                     & TLML & TLML-004 & TLML\\_4\\_JR\\_FU1\\_TCR-JV\\_cDNA\\_15\\_TAGGATGA                     & NA  \\\\\n",
       "\t CLONES\\_TRB\\_TLML\\_4\\_JR\\_infusion\\_TCR-JV\\_cDNA\\_13\\_GTCGTAGA                & TLML & TLML-004 & TLML\\_4\\_JR\\_infusion\\_TCR-JV\\_cDNA\\_13\\_GTCGTAGA                & NA  \\\\\n",
       "\t CLONES\\_TRB\\_TLML\\_7\\_AL\\_12W\\_TCR-J\\_Dep\\_TCR-V\\_genomic\\_1000\\_ACAGCAGA       & TLML & TLML-007 & TLML\\_7\\_AL\\_12W\\_TCR-J\\_Dep\\_TCR-V\\_genomic\\_1000\\_ACAGCAGA       & PBMC\\\\\n",
       "\t CLONES\\_TRB\\_TLML\\_7\\_AL\\_12W\\_TCR-JV\\_cDNA\\_35\\_TGAAGAGA                     & TLML & TLML-007 & TLML\\_7\\_AL\\_12W\\_TCR-JV\\_cDNA\\_35\\_TGAAGAGA                     & NA  \\\\\n",
       "\t CLONES\\_TRB\\_TLML\\_7\\_AL\\_17W\\_TCR-J\\_Dep\\_TCR-V\\_genomic\\_1000\\_ACCTCCAA       & TLML & TLML-007 & TLML\\_7\\_AL\\_17W\\_TCR-J\\_Dep\\_TCR-V\\_genomic\\_1000\\_ACCTCCAA       & PBMC\\\\\n",
       "\t CLONES\\_TRB\\_TLML\\_7\\_AL\\_17W\\_TCR-JV\\_cDNA\\_106\\_TGGAACAA                    & TLML & TLML-007 & TLML\\_7\\_AL\\_17W\\_TCR-JV\\_cDNA\\_106\\_TGGAACAA                    & NA  \\\\\n",
       "\t CLONES\\_TRB\\_TLML\\_7\\_AL\\_4W\\_TCR-J\\_Dep\\_TCR-V\\_genomic\\_1000\\_ACACAGAA        & TLML & TLML-007 & TLML\\_7\\_AL\\_4W\\_TCR-J\\_Dep\\_TCR-V\\_genomic\\_1000\\_ACACAGAA        & PBMC\\\\\n",
       "\t CLONES\\_TRB\\_TLML\\_7\\_AL\\_4W\\_TCR-JV\\_cDNA\\_37\\_TCTTCACA                      & TLML & TLML-007 & TLML\\_7\\_AL\\_4W\\_TCR-JV\\_cDNA\\_37\\_TCTTCACA                      & NA  \\\\\n",
       "\t CLONES\\_TRB\\_TLML\\_7\\_AL\\_apheresis\\_TCR-JV\\_cDNA\\_21\\_TCCGTCTA               & TLML & TLML-007 & TLML\\_7\\_AL\\_apheresis\\_TCR-JV\\_cDNA\\_21\\_TCCGTCTA               & NA  \\\\\n",
       "\t CLONES\\_TRB\\_TLML\\_7\\_AL\\_infusion\\_TCR-J\\_Dep\\_TCR-V\\_genomic\\_1000\\_AAGACGGA  & TLML & TLML-007 & TLML\\_7\\_AL\\_infusion\\_TCR-J\\_Dep\\_TCR-V\\_genomic\\_1000\\_AAGACGGA  & PBMC\\\\\n",
       "\t CLONES\\_TRB\\_TLML\\_7\\_AL\\_infusion\\_TCR-JV\\_cDNA\\_25\\_TATCAGCA                & TLML & TLML-007 & TLML\\_7\\_AL\\_infusion\\_TCR-JV\\_cDNA\\_25\\_TATCAGCA                & NA  \\\\\n",
       "\\end{tabular}\n"
      ],
      "text/markdown": [
       "\n",
       "A data.frame: 518 × 5\n",
       "\n",
       "| filename &lt;fct&gt; | Study &lt;fct&gt; | Patient &lt;fct&gt; | Samplename &lt;fct&gt; | Sample_type &lt;fct&gt; |\n",
       "|---|---|---|---|---|\n",
       "| IMS-001_MoST-K006_T_DNA | IMS | IMS-001 | IMS-001_MoST-K006_T_DNA | Tumour |\n",
       "| IMS-002_MoST-K011_T_DNA | IMS | IMS-002 | IMS-002_MoST-K011_T_DNA | Tumour |\n",
       "| IMS-003_MoST-K014_T_DNA | IMS | IMS-003 | IMS-003_MoST-K014_T_DNA | Tumour |\n",
       "| IMS-004_MoST-K001_T_DNA | IMS | IMS-004 | IMS-004_MoST-K001_T_DNA | Tumour |\n",
       "| IMS-005_MoST-K016_T_DNA | IMS | IMS-005 | IMS-005_MoST-K016_T_DNA | Tumour |\n",
       "| IMS-006_MoST-K017_T_DNA | IMS | IMS-006 | IMS-006_MoST-K017_T_DNA | Tumour |\n",
       "| IMS-007_MoST-K018_T_DNA | IMS | IMS-007 | IMS-007_MoST-K018_T_DNA | Tumour |\n",
       "| IMS-008_MoST-K024_T_DNA | IMS | IMS-008 | IMS-008_MoST-K024_T_DNA | Tumour |\n",
       "| IMS-009_MoST-K033_T_DNA | IMS | IMS-009 | IMS-009_MoST-K033_T_DNA | Tumour |\n",
       "| IMS-010_MoST-K035_T_DNA | IMS | IMS-010 | IMS-010_MoST-K035_T_DNA | Tumour |\n",
       "| IMS-011_MoST-K037_T_DNA | IMS | IMS-011 | IMS-011_MoST-K037_T_DNA | Tumour |\n",
       "| IMS-012_MoST-K040_T_DNA | IMS | IMS-012 | IMS-012_MoST-K040_T_DNA | Tumour |\n",
       "| IMS-013_MoST-K046_T_DNA | IMS | IMS-013 | IMS-013_MoST-K046_T_DNA | Tumour |\n",
       "| IMS-014_MoST-K047_T_DNA | IMS | IMS-014 | IMS-014_MoST-K047_T_DNA | Tumour |\n",
       "| IMS-015_MoST-K059_T_DNA | IMS | IMS-015 | IMS-015_MoST-K059_T_DNA | Tumour |\n",
       "| IMS-017_MoST-K069_T_DNA | IMS | IMS-017 | IMS-017_MoST-K069_T_DNA | Tumour |\n",
       "| IMS-018_MoST-K076_T_DNA | IMS | IMS-018 | IMS-018_MoST-K076_T_DNA | Tumour |\n",
       "| IMS-019_MoST-K080_T_DNA | IMS | IMS-019 | IMS-019_MoST-K080_T_DNA | Tumour |\n",
       "| IMS-020_MoST-K084_T_DNA | IMS | IMS-020 | IMS-020_MoST-K084_T_DNA | Tumour |\n",
       "| IMS-021_MoST-K099_T_DNA | IMS | IMS-021 | IMS-021_MoST-K099_T_DNA | Tumour |\n",
       "| IMS-022_MoST-K107_T_DNA | IMS | IMS-022 | IMS-022_MoST-K107_T_DNA | Tumour |\n",
       "| IMS-023_MoST-K108_T_DNA | IMS | IMS-023 | IMS-023_MoST-K108_T_DNA | Tumour |\n",
       "| IMS-024_MoST-K110_T_DNA | IMS | IMS-024 | IMS-024_MoST-K110_T_DNA | Tumour |\n",
       "| IMS-025_MoST-K112_T_DNA | IMS | IMS-025 | IMS-025_MoST-K112_T_DNA | Tumour |\n",
       "| IMS-026_MoST-K121_T_DNA | IMS | IMS-026 | IMS-026_MoST-K121_T_DNA | Tumour |\n",
       "| IMS-027_MoST-K124_T_DNA | IMS | IMS-027 | IMS-027_MoST-K124_T_DNA | Tumour |\n",
       "| IMS-028_MoST-K125_T_DNA | IMS | IMS-028 | IMS-028_MoST-K125_T_DNA | Tumour |\n",
       "| IMS-029_MoST-K133_T_DNA | IMS | IMS-029 | IMS-029_MoST-K133_T_DNA | Tumour |\n",
       "| IMS-030_MoST-K136_T_DNA | IMS | IMS-030 | IMS-030_MoST-K136_T_DNA | Tumour |\n",
       "| IMS-031_MoST-K143_T_DNA | IMS | IMS-031 | IMS-031_MoST-K143_T_DNA | Tumour |\n",
       "| ⋮ | ⋮ | ⋮ | ⋮ | ⋮ |\n",
       "| CLONES_TRB_TLML_22_PJ_baseline_TCR-JV_cDNA_23_CAAGGAGC               | TLML | TLML-022 | TLML_22_PJ_baseline_TCR-JV_cDNA_23_CAAGGAGC               | NA   |\n",
       "| CLONES_TRB_TLML_22_PJ_FU1_TCR-J_Dep_TCR-V_genomic_1000_CGAACTTA      | TLML | TLML-022 | TLML_22_PJ_FU1_TCR-J_Dep_TCR-V_genomic_1000_CGAACTTA      | PBMC |\n",
       "| CLONES_TRB_TLML_22_PJ_FU1_TCR-JV_cDNA_16_CCATCCTC                    | TLML | TLML-022 | TLML_22_PJ_FU1_TCR-JV_cDNA_16_CCATCCTC                    | NA   |\n",
       "| CLONES_TRB_TLML_22_PJ_FU2_TCR-J_Dep_TCR-V_genomic_1000_CGACTGGA      | TLML | TLML-022 | TLML_22_PJ_FU2_TCR-J_Dep_TCR-V_genomic_1000_CGACTGGA      | PBMC |\n",
       "| CLONES_TRB_TLML_22_PJ_FU2_TCR-JV_cDNA_13_CCGACAAC                    | TLML | TLML-022 | TLML_22_PJ_FU2_TCR-JV_cDNA_13_CCGACAAC                    | NA   |\n",
       "| CLONES_TRB_TLML_22_PJ_FU3_TCR-J_Dep_TCR-V_genomic_1000_CGCATACA      | TLML | TLML-022 | TLML_22_PJ_FU3_TCR-J_Dep_TCR-V_genomic_1000_CGCATACA      | PBMC |\n",
       "| CLONES_TRB_TLML_22_PJ_FU3_TCR-JV_cDNA_16_CCTAATCC                    | TLML | TLML-022 | TLML_22_PJ_FU3_TCR-JV_cDNA_16_CCTAATCC                    | NA   |\n",
       "| CLONES_TRB_TLML_22_PJ_infusion_TCR-JV_cDNA_18_ATTGGCTC               | TLML | TLML-022 | TLML_22_PJ_infusion_TCR-JV_cDNA_18_ATTGGCTC               | NA   |\n",
       "| CLONES_TRB_TLML_29_JC_4W_TCR-J_Dep_TCR-V_genomic_1000_CTGGCATA       | TLML | TLML-029 | TLML_29_JC_4W_TCR-J_Dep_TCR-V_genomic_1000_CTGGCATA       | PBMC |\n",
       "| CLONES_TRB_TLML_29_JC_4W_TCR-JV_cDNA_25_CGGATTGC                     | TLML | TLML-029 | TLML_29_JC_4W_TCR-JV_cDNA_25_CGGATTGC                     | NA   |\n",
       "| CLONES_TRB_TLML_29_JC_baseline_TCR-J_Dep_TCR-V_genomic_1000_CTGAGCCA | TLML | TLML-029 | TLML_29_JC_baseline_TCR-J_Dep_TCR-V_genomic_1000_CTGAGCCA | PBMC |\n",
       "| CLONES_TRB_TLML_29_JC_baseline_TCR-JV_cDNA_18_CGACACAC               | TLML | TLML-029 | TLML_29_JC_baseline_TCR-JV_cDNA_18_CGACACAC               | NA   |\n",
       "| CLONES_TRB_TLML_29_JC_infusion_TCR-J_Dep_TCR-V_genomic_1000_CTCAATGA | TLML | TLML-029 | TLML_29_JC_infusion_TCR-J_Dep_TCR-V_genomic_1000_CTCAATGA | PBMC |\n",
       "| CLONES_TRB_TLML_29_JC_infusion_TCR-JV_cDNA_13_CCTCTATC               | TLML | TLML-029 | TLML_29_JC_infusion_TCR-JV_cDNA_13_CCTCTATC               | NA   |\n",
       "| CLONES_TRB_TLML_4_JR_4W_TCR-J_Dep_TCR-V_genomic_1000_AACCGAGA        | TLML | TLML-004 | TLML_4_JR_4W_TCR-J_Dep_TCR-V_genomic_1000_AACCGAGA        | PBMC |\n",
       "| CLONES_TRB_TLML_4_JR_4W_TCR-JV_cDNA_32_GTGTTCTA                      | TLML | TLML-004 | TLML_4_JR_4W_TCR-JV_cDNA_32_GTGTTCTA                      | NA   |\n",
       "| CLONES_TRB_TLML_4_JR_baseline2_TCR-J_Dep_TCR-V_genomic_1000_AACAACCA | TLML | TLML-004 | TLML_4_JR_baseline2_TCR-J_Dep_TCR-V_genomic_1000_AACAACCA | PBMC |\n",
       "| CLONES_TRB_TLML_4_JR_baseline2_TCR-JV_cDNA_42_GTCTGTCA               | TLML | TLML-004 | TLML_4_JR_baseline2_TCR-JV_cDNA_42_GTCTGTCA               | NA   |\n",
       "| CLONES_TRB_TLML_4_JR_FU1_TCR-J_Dep_TCR-V_genomic_1000_AACGCTTA       | TLML | TLML-004 | TLML_4_JR_FU1_TCR-J_Dep_TCR-V_genomic_1000_AACGCTTA       | PBMC |\n",
       "| CLONES_TRB_TLML_4_JR_FU1_TCR-JV_cDNA_15_TAGGATGA                     | TLML | TLML-004 | TLML_4_JR_FU1_TCR-JV_cDNA_15_TAGGATGA                     | NA   |\n",
       "| CLONES_TRB_TLML_4_JR_infusion_TCR-JV_cDNA_13_GTCGTAGA                | TLML | TLML-004 | TLML_4_JR_infusion_TCR-JV_cDNA_13_GTCGTAGA                | NA   |\n",
       "| CLONES_TRB_TLML_7_AL_12W_TCR-J_Dep_TCR-V_genomic_1000_ACAGCAGA       | TLML | TLML-007 | TLML_7_AL_12W_TCR-J_Dep_TCR-V_genomic_1000_ACAGCAGA       | PBMC |\n",
       "| CLONES_TRB_TLML_7_AL_12W_TCR-JV_cDNA_35_TGAAGAGA                     | TLML | TLML-007 | TLML_7_AL_12W_TCR-JV_cDNA_35_TGAAGAGA                     | NA   |\n",
       "| CLONES_TRB_TLML_7_AL_17W_TCR-J_Dep_TCR-V_genomic_1000_ACCTCCAA       | TLML | TLML-007 | TLML_7_AL_17W_TCR-J_Dep_TCR-V_genomic_1000_ACCTCCAA       | PBMC |\n",
       "| CLONES_TRB_TLML_7_AL_17W_TCR-JV_cDNA_106_TGGAACAA                    | TLML | TLML-007 | TLML_7_AL_17W_TCR-JV_cDNA_106_TGGAACAA                    | NA   |\n",
       "| CLONES_TRB_TLML_7_AL_4W_TCR-J_Dep_TCR-V_genomic_1000_ACACAGAA        | TLML | TLML-007 | TLML_7_AL_4W_TCR-J_Dep_TCR-V_genomic_1000_ACACAGAA        | PBMC |\n",
       "| CLONES_TRB_TLML_7_AL_4W_TCR-JV_cDNA_37_TCTTCACA                      | TLML | TLML-007 | TLML_7_AL_4W_TCR-JV_cDNA_37_TCTTCACA                      | NA   |\n",
       "| CLONES_TRB_TLML_7_AL_apheresis_TCR-JV_cDNA_21_TCCGTCTA               | TLML | TLML-007 | TLML_7_AL_apheresis_TCR-JV_cDNA_21_TCCGTCTA               | NA   |\n",
       "| CLONES_TRB_TLML_7_AL_infusion_TCR-J_Dep_TCR-V_genomic_1000_AAGACGGA  | TLML | TLML-007 | TLML_7_AL_infusion_TCR-J_Dep_TCR-V_genomic_1000_AAGACGGA  | PBMC |\n",
       "| CLONES_TRB_TLML_7_AL_infusion_TCR-JV_cDNA_25_TATCAGCA                | TLML | TLML-007 | TLML_7_AL_infusion_TCR-JV_cDNA_25_TATCAGCA                | NA   |\n",
       "\n"
      ],
      "text/plain": [
       "    filename                                                             Study\n",
       "1   IMS-001_MoST-K006_T_DNA                                              IMS  \n",
       "2   IMS-002_MoST-K011_T_DNA                                              IMS  \n",
       "3   IMS-003_MoST-K014_T_DNA                                              IMS  \n",
       "4   IMS-004_MoST-K001_T_DNA                                              IMS  \n",
       "5   IMS-005_MoST-K016_T_DNA                                              IMS  \n",
       "6   IMS-006_MoST-K017_T_DNA                                              IMS  \n",
       "7   IMS-007_MoST-K018_T_DNA                                              IMS  \n",
       "8   IMS-008_MoST-K024_T_DNA                                              IMS  \n",
       "9   IMS-009_MoST-K033_T_DNA                                              IMS  \n",
       "10  IMS-010_MoST-K035_T_DNA                                              IMS  \n",
       "11  IMS-011_MoST-K037_T_DNA                                              IMS  \n",
       "12  IMS-012_MoST-K040_T_DNA                                              IMS  \n",
       "13  IMS-013_MoST-K046_T_DNA                                              IMS  \n",
       "14  IMS-014_MoST-K047_T_DNA                                              IMS  \n",
       "15  IMS-015_MoST-K059_T_DNA                                              IMS  \n",
       "16  IMS-017_MoST-K069_T_DNA                                              IMS  \n",
       "17  IMS-018_MoST-K076_T_DNA                                              IMS  \n",
       "18  IMS-019_MoST-K080_T_DNA                                              IMS  \n",
       "19  IMS-020_MoST-K084_T_DNA                                              IMS  \n",
       "20  IMS-021_MoST-K099_T_DNA                                              IMS  \n",
       "21  IMS-022_MoST-K107_T_DNA                                              IMS  \n",
       "22  IMS-023_MoST-K108_T_DNA                                              IMS  \n",
       "23  IMS-024_MoST-K110_T_DNA                                              IMS  \n",
       "24  IMS-025_MoST-K112_T_DNA                                              IMS  \n",
       "25  IMS-026_MoST-K121_T_DNA                                              IMS  \n",
       "26  IMS-027_MoST-K124_T_DNA                                              IMS  \n",
       "27  IMS-028_MoST-K125_T_DNA                                              IMS  \n",
       "28  IMS-029_MoST-K133_T_DNA                                              IMS  \n",
       "29  IMS-030_MoST-K136_T_DNA                                              IMS  \n",
       "30  IMS-031_MoST-K143_T_DNA                                              IMS  \n",
       "⋮   ⋮                                                                    ⋮    \n",
       "489 CLONES_TRB_TLML_22_PJ_baseline_TCR-JV_cDNA_23_CAAGGAGC               TLML \n",
       "490 CLONES_TRB_TLML_22_PJ_FU1_TCR-J_Dep_TCR-V_genomic_1000_CGAACTTA      TLML \n",
       "491 CLONES_TRB_TLML_22_PJ_FU1_TCR-JV_cDNA_16_CCATCCTC                    TLML \n",
       "492 CLONES_TRB_TLML_22_PJ_FU2_TCR-J_Dep_TCR-V_genomic_1000_CGACTGGA      TLML \n",
       "493 CLONES_TRB_TLML_22_PJ_FU2_TCR-JV_cDNA_13_CCGACAAC                    TLML \n",
       "494 CLONES_TRB_TLML_22_PJ_FU3_TCR-J_Dep_TCR-V_genomic_1000_CGCATACA      TLML \n",
       "495 CLONES_TRB_TLML_22_PJ_FU3_TCR-JV_cDNA_16_CCTAATCC                    TLML \n",
       "496 CLONES_TRB_TLML_22_PJ_infusion_TCR-JV_cDNA_18_ATTGGCTC               TLML \n",
       "497 CLONES_TRB_TLML_29_JC_4W_TCR-J_Dep_TCR-V_genomic_1000_CTGGCATA       TLML \n",
       "498 CLONES_TRB_TLML_29_JC_4W_TCR-JV_cDNA_25_CGGATTGC                     TLML \n",
       "499 CLONES_TRB_TLML_29_JC_baseline_TCR-J_Dep_TCR-V_genomic_1000_CTGAGCCA TLML \n",
       "500 CLONES_TRB_TLML_29_JC_baseline_TCR-JV_cDNA_18_CGACACAC               TLML \n",
       "501 CLONES_TRB_TLML_29_JC_infusion_TCR-J_Dep_TCR-V_genomic_1000_CTCAATGA TLML \n",
       "502 CLONES_TRB_TLML_29_JC_infusion_TCR-JV_cDNA_13_CCTCTATC               TLML \n",
       "503 CLONES_TRB_TLML_4_JR_4W_TCR-J_Dep_TCR-V_genomic_1000_AACCGAGA        TLML \n",
       "504 CLONES_TRB_TLML_4_JR_4W_TCR-JV_cDNA_32_GTGTTCTA                      TLML \n",
       "505 CLONES_TRB_TLML_4_JR_baseline2_TCR-J_Dep_TCR-V_genomic_1000_AACAACCA TLML \n",
       "506 CLONES_TRB_TLML_4_JR_baseline2_TCR-JV_cDNA_42_GTCTGTCA               TLML \n",
       "507 CLONES_TRB_TLML_4_JR_FU1_TCR-J_Dep_TCR-V_genomic_1000_AACGCTTA       TLML \n",
       "508 CLONES_TRB_TLML_4_JR_FU1_TCR-JV_cDNA_15_TAGGATGA                     TLML \n",
       "509 CLONES_TRB_TLML_4_JR_infusion_TCR-JV_cDNA_13_GTCGTAGA                TLML \n",
       "510 CLONES_TRB_TLML_7_AL_12W_TCR-J_Dep_TCR-V_genomic_1000_ACAGCAGA       TLML \n",
       "511 CLONES_TRB_TLML_7_AL_12W_TCR-JV_cDNA_35_TGAAGAGA                     TLML \n",
       "512 CLONES_TRB_TLML_7_AL_17W_TCR-J_Dep_TCR-V_genomic_1000_ACCTCCAA       TLML \n",
       "513 CLONES_TRB_TLML_7_AL_17W_TCR-JV_cDNA_106_TGGAACAA                    TLML \n",
       "514 CLONES_TRB_TLML_7_AL_4W_TCR-J_Dep_TCR-V_genomic_1000_ACACAGAA        TLML \n",
       "515 CLONES_TRB_TLML_7_AL_4W_TCR-JV_cDNA_37_TCTTCACA                      TLML \n",
       "516 CLONES_TRB_TLML_7_AL_apheresis_TCR-JV_cDNA_21_TCCGTCTA               TLML \n",
       "517 CLONES_TRB_TLML_7_AL_infusion_TCR-J_Dep_TCR-V_genomic_1000_AAGACGGA  TLML \n",
       "518 CLONES_TRB_TLML_7_AL_infusion_TCR-JV_cDNA_25_TATCAGCA                TLML \n",
       "    Patient  Samplename                                               \n",
       "1   IMS-001  IMS-001_MoST-K006_T_DNA                                  \n",
       "2   IMS-002  IMS-002_MoST-K011_T_DNA                                  \n",
       "3   IMS-003  IMS-003_MoST-K014_T_DNA                                  \n",
       "4   IMS-004  IMS-004_MoST-K001_T_DNA                                  \n",
       "5   IMS-005  IMS-005_MoST-K016_T_DNA                                  \n",
       "6   IMS-006  IMS-006_MoST-K017_T_DNA                                  \n",
       "7   IMS-007  IMS-007_MoST-K018_T_DNA                                  \n",
       "8   IMS-008  IMS-008_MoST-K024_T_DNA                                  \n",
       "9   IMS-009  IMS-009_MoST-K033_T_DNA                                  \n",
       "10  IMS-010  IMS-010_MoST-K035_T_DNA                                  \n",
       "11  IMS-011  IMS-011_MoST-K037_T_DNA                                  \n",
       "12  IMS-012  IMS-012_MoST-K040_T_DNA                                  \n",
       "13  IMS-013  IMS-013_MoST-K046_T_DNA                                  \n",
       "14  IMS-014  IMS-014_MoST-K047_T_DNA                                  \n",
       "15  IMS-015  IMS-015_MoST-K059_T_DNA                                  \n",
       "16  IMS-017  IMS-017_MoST-K069_T_DNA                                  \n",
       "17  IMS-018  IMS-018_MoST-K076_T_DNA                                  \n",
       "18  IMS-019  IMS-019_MoST-K080_T_DNA                                  \n",
       "19  IMS-020  IMS-020_MoST-K084_T_DNA                                  \n",
       "20  IMS-021  IMS-021_MoST-K099_T_DNA                                  \n",
       "21  IMS-022  IMS-022_MoST-K107_T_DNA                                  \n",
       "22  IMS-023  IMS-023_MoST-K108_T_DNA                                  \n",
       "23  IMS-024  IMS-024_MoST-K110_T_DNA                                  \n",
       "24  IMS-025  IMS-025_MoST-K112_T_DNA                                  \n",
       "25  IMS-026  IMS-026_MoST-K121_T_DNA                                  \n",
       "26  IMS-027  IMS-027_MoST-K124_T_DNA                                  \n",
       "27  IMS-028  IMS-028_MoST-K125_T_DNA                                  \n",
       "28  IMS-029  IMS-029_MoST-K133_T_DNA                                  \n",
       "29  IMS-030  IMS-030_MoST-K136_T_DNA                                  \n",
       "30  IMS-031  IMS-031_MoST-K143_T_DNA                                  \n",
       "⋮   ⋮        ⋮                                                        \n",
       "489 TLML-022 TLML_22_PJ_baseline_TCR-JV_cDNA_23_CAAGGAGC              \n",
       "490 TLML-022 TLML_22_PJ_FU1_TCR-J_Dep_TCR-V_genomic_1000_CGAACTTA     \n",
       "491 TLML-022 TLML_22_PJ_FU1_TCR-JV_cDNA_16_CCATCCTC                   \n",
       "492 TLML-022 TLML_22_PJ_FU2_TCR-J_Dep_TCR-V_genomic_1000_CGACTGGA     \n",
       "493 TLML-022 TLML_22_PJ_FU2_TCR-JV_cDNA_13_CCGACAAC                   \n",
       "494 TLML-022 TLML_22_PJ_FU3_TCR-J_Dep_TCR-V_genomic_1000_CGCATACA     \n",
       "495 TLML-022 TLML_22_PJ_FU3_TCR-JV_cDNA_16_CCTAATCC                   \n",
       "496 TLML-022 TLML_22_PJ_infusion_TCR-JV_cDNA_18_ATTGGCTC              \n",
       "497 TLML-029 TLML_29_JC_4W_TCR-J_Dep_TCR-V_genomic_1000_CTGGCATA      \n",
       "498 TLML-029 TLML_29_JC_4W_TCR-JV_cDNA_25_CGGATTGC                    \n",
       "499 TLML-029 TLML_29_JC_baseline_TCR-J_Dep_TCR-V_genomic_1000_CTGAGCCA\n",
       "500 TLML-029 TLML_29_JC_baseline_TCR-JV_cDNA_18_CGACACAC              \n",
       "501 TLML-029 TLML_29_JC_infusion_TCR-J_Dep_TCR-V_genomic_1000_CTCAATGA\n",
       "502 TLML-029 TLML_29_JC_infusion_TCR-JV_cDNA_13_CCTCTATC              \n",
       "503 TLML-004 TLML_4_JR_4W_TCR-J_Dep_TCR-V_genomic_1000_AACCGAGA       \n",
       "504 TLML-004 TLML_4_JR_4W_TCR-JV_cDNA_32_GTGTTCTA                     \n",
       "505 TLML-004 TLML_4_JR_baseline2_TCR-J_Dep_TCR-V_genomic_1000_AACAACCA\n",
       "506 TLML-004 TLML_4_JR_baseline2_TCR-JV_cDNA_42_GTCTGTCA              \n",
       "507 TLML-004 TLML_4_JR_FU1_TCR-J_Dep_TCR-V_genomic_1000_AACGCTTA      \n",
       "508 TLML-004 TLML_4_JR_FU1_TCR-JV_cDNA_15_TAGGATGA                    \n",
       "509 TLML-004 TLML_4_JR_infusion_TCR-JV_cDNA_13_GTCGTAGA               \n",
       "510 TLML-007 TLML_7_AL_12W_TCR-J_Dep_TCR-V_genomic_1000_ACAGCAGA      \n",
       "511 TLML-007 TLML_7_AL_12W_TCR-JV_cDNA_35_TGAAGAGA                    \n",
       "512 TLML-007 TLML_7_AL_17W_TCR-J_Dep_TCR-V_genomic_1000_ACCTCCAA      \n",
       "513 TLML-007 TLML_7_AL_17W_TCR-JV_cDNA_106_TGGAACAA                   \n",
       "514 TLML-007 TLML_7_AL_4W_TCR-J_Dep_TCR-V_genomic_1000_ACACAGAA       \n",
       "515 TLML-007 TLML_7_AL_4W_TCR-JV_cDNA_37_TCTTCACA                     \n",
       "516 TLML-007 TLML_7_AL_apheresis_TCR-JV_cDNA_21_TCCGTCTA              \n",
       "517 TLML-007 TLML_7_AL_infusion_TCR-J_Dep_TCR-V_genomic_1000_AAGACGGA \n",
       "518 TLML-007 TLML_7_AL_infusion_TCR-JV_cDNA_25_TATCAGCA               \n",
       "    Sample_type\n",
       "1   Tumour     \n",
       "2   Tumour     \n",
       "3   Tumour     \n",
       "4   Tumour     \n",
       "5   Tumour     \n",
       "6   Tumour     \n",
       "7   Tumour     \n",
       "8   Tumour     \n",
       "9   Tumour     \n",
       "10  Tumour     \n",
       "11  Tumour     \n",
       "12  Tumour     \n",
       "13  Tumour     \n",
       "14  Tumour     \n",
       "15  Tumour     \n",
       "16  Tumour     \n",
       "17  Tumour     \n",
       "18  Tumour     \n",
       "19  Tumour     \n",
       "20  Tumour     \n",
       "21  Tumour     \n",
       "22  Tumour     \n",
       "23  Tumour     \n",
       "24  Tumour     \n",
       "25  Tumour     \n",
       "26  Tumour     \n",
       "27  Tumour     \n",
       "28  Tumour     \n",
       "29  Tumour     \n",
       "30  Tumour     \n",
       "⋮   ⋮          \n",
       "489 NA         \n",
       "490 PBMC       \n",
       "491 NA         \n",
       "492 PBMC       \n",
       "493 NA         \n",
       "494 PBMC       \n",
       "495 NA         \n",
       "496 NA         \n",
       "497 PBMC       \n",
       "498 NA         \n",
       "499 PBMC       \n",
       "500 NA         \n",
       "501 PBMC       \n",
       "502 NA         \n",
       "503 PBMC       \n",
       "504 NA         \n",
       "505 PBMC       \n",
       "506 NA         \n",
       "507 PBMC       \n",
       "508 NA         \n",
       "509 NA         \n",
       "510 PBMC       \n",
       "511 NA         \n",
       "512 PBMC       \n",
       "513 NA         \n",
       "514 PBMC       \n",
       "515 NA         \n",
       "516 NA         \n",
       "517 PBMC       \n",
       "518 NA         "
      ]
     },
     "metadata": {},
     "output_type": "display_data"
    }
   ],
   "source": [
    "metadata"
   ]
  },
  {
   "cell_type": "code",
   "execution_count": 26,
   "metadata": {},
   "outputs": [],
   "source": [
    "CSF_fles <- as.character(metadata$filename[which(metadata$Sample_type == \"CSF\")])"
   ]
  },
  {
   "cell_type": "code",
   "execution_count": 28,
   "metadata": {},
   "outputs": [
    {
     "data": {
      "text/html": [
       "<table>\n",
       "<caption>A matrix: 10 × 17 of type dbl</caption>\n",
       "<thead>\n",
       "\t<tr><th></th><th scope=col>CLONES_TRB023-CSF</th><th scope=col>CLONES_TRB051-CSF</th><th scope=col>CLONES_TRB051R-CSF</th><th scope=col>CLONES_TRB19-CSF</th><th scope=col>CLONES_TRB41-CSF</th><th scope=col>CLONES_TRB67-CSF</th><th scope=col>CLONES_TRB19-CSF_2000000</th><th scope=col>CLONES_TRB23-CSF_2000000</th><th scope=col>CLONES_TRB41-CSF_2000000</th><th scope=col>CLONES_TRB51-CSF_2000000</th><th scope=col>CLONES_TRB51R-CSF_2000000</th><th scope=col>CLONES_TRB67-CSF_2000000</th><th scope=col>CLONES_TRB50-CSF</th><th scope=col>CLONES_TRB76-CSF</th><th scope=col>CLONES_TRB77-CSF</th><th scope=col>CLONES_TRB50-CSF_2000000</th><th scope=col>CLONES_TRB76-CSF_2000000</th></tr>\n",
       "</thead>\n",
       "<tbody>\n",
       "\t<tr><th scope=row>*AFF</th><td>0</td><td>0</td><td>0</td><td>0</td><td>0</td><td>0</td><td>0</td><td>0</td><td>0</td><td>0</td><td>0</td><td>0</td><td>0</td><td>0</td><td>0</td><td>0</td><td>0</td></tr>\n",
       "\t<tr><th scope=row>*ASRHWDSANTEAFF</th><td>0</td><td>0</td><td>0</td><td>0</td><td>0</td><td>0</td><td>0</td><td>0</td><td>0</td><td>0</td><td>0</td><td>0</td><td>0</td><td>0</td><td>0</td><td>0</td><td>0</td></tr>\n",
       "\t<tr><th scope=row>*ASRRGTNQPQHF</th><td>0</td><td>0</td><td>0</td><td>0</td><td>0</td><td>0</td><td>0</td><td>0</td><td>0</td><td>0</td><td>0</td><td>0</td><td>0</td><td>0</td><td>0</td><td>0</td><td>0</td></tr>\n",
       "\t<tr><th scope=row>*ASRVEGGGSYNEQFF</th><td>0</td><td>0</td><td>0</td><td>0</td><td>0</td><td>0</td><td>0</td><td>0</td><td>0</td><td>0</td><td>0</td><td>0</td><td>0</td><td>0</td><td>0</td><td>0</td><td>0</td></tr>\n",
       "\t<tr><th scope=row>*ASSEIAGGYEQYF</th><td>0</td><td>0</td><td>0</td><td>0</td><td>0</td><td>0</td><td>0</td><td>0</td><td>0</td><td>0</td><td>0</td><td>0</td><td>0</td><td>0</td><td>0</td><td>0</td><td>0</td></tr>\n",
       "\t<tr><th scope=row>*ASSLARG~SQETQYF</th><td>0</td><td>0</td><td>0</td><td>0</td><td>0</td><td>0</td><td>0</td><td>0</td><td>0</td><td>0</td><td>0</td><td>0</td><td>0</td><td>0</td><td>0</td><td>0</td><td>0</td></tr>\n",
       "\t<tr><th scope=row>*ASSLGILAADQETQYF</th><td>0</td><td>0</td><td>0</td><td>0</td><td>0</td><td>0</td><td>0</td><td>0</td><td>0</td><td>0</td><td>0</td><td>0</td><td>0</td><td>0</td><td>0</td><td>0</td><td>0</td></tr>\n",
       "\t<tr><th scope=row>*ASSLILEGNEQFF</th><td>0</td><td>0</td><td>0</td><td>0</td><td>0</td><td>0</td><td>0</td><td>0</td><td>0</td><td>0</td><td>0</td><td>0</td><td>0</td><td>0</td><td>0</td><td>0</td><td>0</td></tr>\n",
       "\t<tr><th scope=row>*ASSPATSGREQYF</th><td>0</td><td>0</td><td>0</td><td>0</td><td>0</td><td>0</td><td>0</td><td>0</td><td>0</td><td>0</td><td>0</td><td>0</td><td>0</td><td>0</td><td>0</td><td>0</td><td>0</td></tr>\n",
       "\t<tr><th scope=row>*ASSQDGRGRSPLHF</th><td>0</td><td>0</td><td>0</td><td>0</td><td>0</td><td>0</td><td>0</td><td>0</td><td>0</td><td>0</td><td>0</td><td>0</td><td>0</td><td>0</td><td>0</td><td>0</td><td>0</td></tr>\n",
       "</tbody>\n",
       "</table>\n"
      ],
      "text/latex": [
       "A matrix: 10 × 17 of type dbl\n",
       "\\begin{tabular}{r|lllllllllllllllll}\n",
       "  & CLONES\\_TRB023-CSF & CLONES\\_TRB051-CSF & CLONES\\_TRB051R-CSF & CLONES\\_TRB19-CSF & CLONES\\_TRB41-CSF & CLONES\\_TRB67-CSF & CLONES\\_TRB19-CSF\\_2000000 & CLONES\\_TRB23-CSF\\_2000000 & CLONES\\_TRB41-CSF\\_2000000 & CLONES\\_TRB51-CSF\\_2000000 & CLONES\\_TRB51R-CSF\\_2000000 & CLONES\\_TRB67-CSF\\_2000000 & CLONES\\_TRB50-CSF & CLONES\\_TRB76-CSF & CLONES\\_TRB77-CSF & CLONES\\_TRB50-CSF\\_2000000 & CLONES\\_TRB76-CSF\\_2000000\\\\\n",
       "\\hline\n",
       "\t*AFF & 0 & 0 & 0 & 0 & 0 & 0 & 0 & 0 & 0 & 0 & 0 & 0 & 0 & 0 & 0 & 0 & 0\\\\\n",
       "\t*ASRHWDSANTEAFF & 0 & 0 & 0 & 0 & 0 & 0 & 0 & 0 & 0 & 0 & 0 & 0 & 0 & 0 & 0 & 0 & 0\\\\\n",
       "\t*ASRRGTNQPQHF & 0 & 0 & 0 & 0 & 0 & 0 & 0 & 0 & 0 & 0 & 0 & 0 & 0 & 0 & 0 & 0 & 0\\\\\n",
       "\t*ASRVEGGGSYNEQFF & 0 & 0 & 0 & 0 & 0 & 0 & 0 & 0 & 0 & 0 & 0 & 0 & 0 & 0 & 0 & 0 & 0\\\\\n",
       "\t*ASSEIAGGYEQYF & 0 & 0 & 0 & 0 & 0 & 0 & 0 & 0 & 0 & 0 & 0 & 0 & 0 & 0 & 0 & 0 & 0\\\\\n",
       "\t*ASSLARG\\textasciitilde{}SQETQYF & 0 & 0 & 0 & 0 & 0 & 0 & 0 & 0 & 0 & 0 & 0 & 0 & 0 & 0 & 0 & 0 & 0\\\\\n",
       "\t*ASSLGILAADQETQYF & 0 & 0 & 0 & 0 & 0 & 0 & 0 & 0 & 0 & 0 & 0 & 0 & 0 & 0 & 0 & 0 & 0\\\\\n",
       "\t*ASSLILEGNEQFF & 0 & 0 & 0 & 0 & 0 & 0 & 0 & 0 & 0 & 0 & 0 & 0 & 0 & 0 & 0 & 0 & 0\\\\\n",
       "\t*ASSPATSGREQYF & 0 & 0 & 0 & 0 & 0 & 0 & 0 & 0 & 0 & 0 & 0 & 0 & 0 & 0 & 0 & 0 & 0\\\\\n",
       "\t*ASSQDGRGRSPLHF & 0 & 0 & 0 & 0 & 0 & 0 & 0 & 0 & 0 & 0 & 0 & 0 & 0 & 0 & 0 & 0 & 0\\\\\n",
       "\\end{tabular}\n"
      ],
      "text/markdown": [
       "\n",
       "A matrix: 10 × 17 of type dbl\n",
       "\n",
       "| <!--/--> | CLONES_TRB023-CSF | CLONES_TRB051-CSF | CLONES_TRB051R-CSF | CLONES_TRB19-CSF | CLONES_TRB41-CSF | CLONES_TRB67-CSF | CLONES_TRB19-CSF_2000000 | CLONES_TRB23-CSF_2000000 | CLONES_TRB41-CSF_2000000 | CLONES_TRB51-CSF_2000000 | CLONES_TRB51R-CSF_2000000 | CLONES_TRB67-CSF_2000000 | CLONES_TRB50-CSF | CLONES_TRB76-CSF | CLONES_TRB77-CSF | CLONES_TRB50-CSF_2000000 | CLONES_TRB76-CSF_2000000 |\n",
       "|---|---|---|---|---|---|---|---|---|---|---|---|---|---|---|---|---|---|\n",
       "| *AFF | 0 | 0 | 0 | 0 | 0 | 0 | 0 | 0 | 0 | 0 | 0 | 0 | 0 | 0 | 0 | 0 | 0 |\n",
       "| *ASRHWDSANTEAFF | 0 | 0 | 0 | 0 | 0 | 0 | 0 | 0 | 0 | 0 | 0 | 0 | 0 | 0 | 0 | 0 | 0 |\n",
       "| *ASRRGTNQPQHF | 0 | 0 | 0 | 0 | 0 | 0 | 0 | 0 | 0 | 0 | 0 | 0 | 0 | 0 | 0 | 0 | 0 |\n",
       "| *ASRVEGGGSYNEQFF | 0 | 0 | 0 | 0 | 0 | 0 | 0 | 0 | 0 | 0 | 0 | 0 | 0 | 0 | 0 | 0 | 0 |\n",
       "| *ASSEIAGGYEQYF | 0 | 0 | 0 | 0 | 0 | 0 | 0 | 0 | 0 | 0 | 0 | 0 | 0 | 0 | 0 | 0 | 0 |\n",
       "| *ASSLARG~SQETQYF | 0 | 0 | 0 | 0 | 0 | 0 | 0 | 0 | 0 | 0 | 0 | 0 | 0 | 0 | 0 | 0 | 0 |\n",
       "| *ASSLGILAADQETQYF | 0 | 0 | 0 | 0 | 0 | 0 | 0 | 0 | 0 | 0 | 0 | 0 | 0 | 0 | 0 | 0 | 0 |\n",
       "| *ASSLILEGNEQFF | 0 | 0 | 0 | 0 | 0 | 0 | 0 | 0 | 0 | 0 | 0 | 0 | 0 | 0 | 0 | 0 | 0 |\n",
       "| *ASSPATSGREQYF | 0 | 0 | 0 | 0 | 0 | 0 | 0 | 0 | 0 | 0 | 0 | 0 | 0 | 0 | 0 | 0 | 0 |\n",
       "| *ASSQDGRGRSPLHF | 0 | 0 | 0 | 0 | 0 | 0 | 0 | 0 | 0 | 0 | 0 | 0 | 0 | 0 | 0 | 0 | 0 |\n",
       "\n"
      ],
      "text/plain": [
       "                  CLONES_TRB023-CSF CLONES_TRB051-CSF CLONES_TRB051R-CSF\n",
       "*AFF              0                 0                 0                 \n",
       "*ASRHWDSANTEAFF   0                 0                 0                 \n",
       "*ASRRGTNQPQHF     0                 0                 0                 \n",
       "*ASRVEGGGSYNEQFF  0                 0                 0                 \n",
       "*ASSEIAGGYEQYF    0                 0                 0                 \n",
       "*ASSLARG~SQETQYF  0                 0                 0                 \n",
       "*ASSLGILAADQETQYF 0                 0                 0                 \n",
       "*ASSLILEGNEQFF    0                 0                 0                 \n",
       "*ASSPATSGREQYF    0                 0                 0                 \n",
       "*ASSQDGRGRSPLHF   0                 0                 0                 \n",
       "                  CLONES_TRB19-CSF CLONES_TRB41-CSF CLONES_TRB67-CSF\n",
       "*AFF              0                0                0               \n",
       "*ASRHWDSANTEAFF   0                0                0               \n",
       "*ASRRGTNQPQHF     0                0                0               \n",
       "*ASRVEGGGSYNEQFF  0                0                0               \n",
       "*ASSEIAGGYEQYF    0                0                0               \n",
       "*ASSLARG~SQETQYF  0                0                0               \n",
       "*ASSLGILAADQETQYF 0                0                0               \n",
       "*ASSLILEGNEQFF    0                0                0               \n",
       "*ASSPATSGREQYF    0                0                0               \n",
       "*ASSQDGRGRSPLHF   0                0                0               \n",
       "                  CLONES_TRB19-CSF_2000000 CLONES_TRB23-CSF_2000000\n",
       "*AFF              0                        0                       \n",
       "*ASRHWDSANTEAFF   0                        0                       \n",
       "*ASRRGTNQPQHF     0                        0                       \n",
       "*ASRVEGGGSYNEQFF  0                        0                       \n",
       "*ASSEIAGGYEQYF    0                        0                       \n",
       "*ASSLARG~SQETQYF  0                        0                       \n",
       "*ASSLGILAADQETQYF 0                        0                       \n",
       "*ASSLILEGNEQFF    0                        0                       \n",
       "*ASSPATSGREQYF    0                        0                       \n",
       "*ASSQDGRGRSPLHF   0                        0                       \n",
       "                  CLONES_TRB41-CSF_2000000 CLONES_TRB51-CSF_2000000\n",
       "*AFF              0                        0                       \n",
       "*ASRHWDSANTEAFF   0                        0                       \n",
       "*ASRRGTNQPQHF     0                        0                       \n",
       "*ASRVEGGGSYNEQFF  0                        0                       \n",
       "*ASSEIAGGYEQYF    0                        0                       \n",
       "*ASSLARG~SQETQYF  0                        0                       \n",
       "*ASSLGILAADQETQYF 0                        0                       \n",
       "*ASSLILEGNEQFF    0                        0                       \n",
       "*ASSPATSGREQYF    0                        0                       \n",
       "*ASSQDGRGRSPLHF   0                        0                       \n",
       "                  CLONES_TRB51R-CSF_2000000 CLONES_TRB67-CSF_2000000\n",
       "*AFF              0                         0                       \n",
       "*ASRHWDSANTEAFF   0                         0                       \n",
       "*ASRRGTNQPQHF     0                         0                       \n",
       "*ASRVEGGGSYNEQFF  0                         0                       \n",
       "*ASSEIAGGYEQYF    0                         0                       \n",
       "*ASSLARG~SQETQYF  0                         0                       \n",
       "*ASSLGILAADQETQYF 0                         0                       \n",
       "*ASSLILEGNEQFF    0                         0                       \n",
       "*ASSPATSGREQYF    0                         0                       \n",
       "*ASSQDGRGRSPLHF   0                         0                       \n",
       "                  CLONES_TRB50-CSF CLONES_TRB76-CSF CLONES_TRB77-CSF\n",
       "*AFF              0                0                0               \n",
       "*ASRHWDSANTEAFF   0                0                0               \n",
       "*ASRRGTNQPQHF     0                0                0               \n",
       "*ASRVEGGGSYNEQFF  0                0                0               \n",
       "*ASSEIAGGYEQYF    0                0                0               \n",
       "*ASSLARG~SQETQYF  0                0                0               \n",
       "*ASSLGILAADQETQYF 0                0                0               \n",
       "*ASSLILEGNEQFF    0                0                0               \n",
       "*ASSPATSGREQYF    0                0                0               \n",
       "*ASSQDGRGRSPLHF   0                0                0               \n",
       "                  CLONES_TRB50-CSF_2000000 CLONES_TRB76-CSF_2000000\n",
       "*AFF              0                        0                       \n",
       "*ASRHWDSANTEAFF   0                        0                       \n",
       "*ASRRGTNQPQHF     0                        0                       \n",
       "*ASRVEGGGSYNEQFF  0                        0                       \n",
       "*ASSEIAGGYEQYF    0                        0                       \n",
       "*ASSLARG~SQETQYF  0                        0                       \n",
       "*ASSLGILAADQETQYF 0                        0                       \n",
       "*ASSLILEGNEQFF    0                        0                       \n",
       "*ASSPATSGREQYF    0                        0                       \n",
       "*ASSQDGRGRSPLHF   0                        0                       "
      ]
     },
     "metadata": {},
     "output_type": "display_data"
    }
   ],
   "source": [
    "mymat_binary[1:10, CSF_fles]"
   ]
  },
  {
   "cell_type": "code",
   "execution_count": null,
   "metadata": {},
   "outputs": [],
   "source": []
  },
  {
   "cell_type": "code",
   "execution_count": null,
   "metadata": {},
   "outputs": [],
   "source": []
  },
  {
   "cell_type": "code",
   "execution_count": 39,
   "metadata": {},
   "outputs": [],
   "source": [
    "ptsmat <- matrix(nrow = length(uniques), ncol = length(levels(metadata$Patient)))\n",
    "rownames(ptsmat) <- uniques\n",
    "colnames(ptsmat) <- levels(metadata$Patient)"
   ]
  },
  {
   "cell_type": "code",
   "execution_count": 40,
   "metadata": {},
   "outputs": [
    {
     "data": {
      "text/html": [
       "<table>\n",
       "<caption>A matrix: 6 × 269 of type lgl</caption>\n",
       "<thead>\n",
       "\t<tr><th></th><th scope=col>CHP_303</th><th scope=col>CHP_315</th><th scope=col>CHP_319</th><th scope=col>CHP_323</th><th scope=col>CHP_329</th><th scope=col>CHP_330</th><th scope=col>CHP_331</th><th scope=col>CHP_335</th><th scope=col>CHP_338</th><th scope=col>CHP_339</th><th scope=col>⋯</th><th scope=col>NPC_N6</th><th scope=col>TLDC-001</th><th scope=col>TLML-001</th><th scope=col>TLML-004</th><th scope=col>TLML-007</th><th scope=col>TLML-016</th><th scope=col>TLML-019</th><th scope=col>TLML-020</th><th scope=col>TLML-022</th><th scope=col>TLML-029</th></tr>\n",
       "</thead>\n",
       "<tbody>\n",
       "\t<tr><th scope=row>*AFF</th><td>NA</td><td>NA</td><td>NA</td><td>NA</td><td>NA</td><td>NA</td><td>NA</td><td>NA</td><td>NA</td><td>NA</td><td>⋯</td><td>NA</td><td>NA</td><td>NA</td><td>NA</td><td>NA</td><td>NA</td><td>NA</td><td>NA</td><td>NA</td><td>NA</td></tr>\n",
       "\t<tr><th scope=row>*ASRHWDSANTEAFF</th><td>NA</td><td>NA</td><td>NA</td><td>NA</td><td>NA</td><td>NA</td><td>NA</td><td>NA</td><td>NA</td><td>NA</td><td>⋯</td><td>NA</td><td>NA</td><td>NA</td><td>NA</td><td>NA</td><td>NA</td><td>NA</td><td>NA</td><td>NA</td><td>NA</td></tr>\n",
       "\t<tr><th scope=row>*ASRRGTNQPQHF</th><td>NA</td><td>NA</td><td>NA</td><td>NA</td><td>NA</td><td>NA</td><td>NA</td><td>NA</td><td>NA</td><td>NA</td><td>⋯</td><td>NA</td><td>NA</td><td>NA</td><td>NA</td><td>NA</td><td>NA</td><td>NA</td><td>NA</td><td>NA</td><td>NA</td></tr>\n",
       "\t<tr><th scope=row>*ASRVEGGGSYNEQFF</th><td>NA</td><td>NA</td><td>NA</td><td>NA</td><td>NA</td><td>NA</td><td>NA</td><td>NA</td><td>NA</td><td>NA</td><td>⋯</td><td>NA</td><td>NA</td><td>NA</td><td>NA</td><td>NA</td><td>NA</td><td>NA</td><td>NA</td><td>NA</td><td>NA</td></tr>\n",
       "\t<tr><th scope=row>*ASSEIAGGYEQYF</th><td>NA</td><td>NA</td><td>NA</td><td>NA</td><td>NA</td><td>NA</td><td>NA</td><td>NA</td><td>NA</td><td>NA</td><td>⋯</td><td>NA</td><td>NA</td><td>NA</td><td>NA</td><td>NA</td><td>NA</td><td>NA</td><td>NA</td><td>NA</td><td>NA</td></tr>\n",
       "\t<tr><th scope=row>*ASSLARG~SQETQYF</th><td>NA</td><td>NA</td><td>NA</td><td>NA</td><td>NA</td><td>NA</td><td>NA</td><td>NA</td><td>NA</td><td>NA</td><td>⋯</td><td>NA</td><td>NA</td><td>NA</td><td>NA</td><td>NA</td><td>NA</td><td>NA</td><td>NA</td><td>NA</td><td>NA</td></tr>\n",
       "</tbody>\n",
       "</table>\n"
      ],
      "text/latex": [
       "A matrix: 6 × 269 of type lgl\n",
       "\\begin{tabular}{r|lllllllllllllllllllllllllllllllllllllllllllllllllllllllllllllllllllllllllllllllllllllllllllllllllllllllllllllllllllllllllllllllllllllllllllllllllllllllllllllllllllllllllllllllllllllllllllllllllllllllllllllllllllllllllllllllllllllllllllllllllllllllllllllllllllllllllllll}\n",
       "  & CHP\\_303 & CHP\\_315 & CHP\\_319 & CHP\\_323 & CHP\\_329 & CHP\\_330 & CHP\\_331 & CHP\\_335 & CHP\\_338 & CHP\\_339 & CHP\\_340 & CHP\\_342 & CHP\\_343 & CHP\\_344 & CHP\\_345 & CHP\\_346 & CHP\\_347 & CHP\\_348 & CHP\\_349 & CHP\\_350 & CHP\\_351 & CHP\\_352 & CHP\\_353 & CHP\\_355 & CHP\\_356 & CHP\\_357 & CHP\\_358 & CHP\\_359 & CHP\\_360 & CHP\\_361 & CHP\\_362 & CHP\\_363 & CHP\\_364 & CHP\\_365 & CHP\\_366 & CHP\\_367 & CHP\\_368 & CHP\\_369 & CHP\\_370 & CHP\\_373 & CHP\\_374 & CHP\\_375 & CHP\\_376 & CHP\\_378 & CHP\\_380 & CHP\\_381 & CHP\\_382 & CHP\\_383 & CHP\\_385 & CHP\\_386 & CHP\\_387 & CHP\\_394 & CHP\\_396 & CHP\\_397 & CHP\\_399 & HSJ19 & HSJ23 & HSJ41 & HSJ50 & HSJ51 & HSJ51R & HSJ67 & HSJ68 & HSJ76 & HSJ77 & IMS-001 & IMS-002 & IMS-003 & IMS-004 & IMS-005 & IMS-006 & IMS-007 & IMS-008 & IMS-009 & IMS-010 & IMS-011 & IMS-012 & IMS-013 & IMS-014 & IMS-015 & IMS-017 & IMS-018 & IMS-019 & IMS-020 & IMS-021 & IMS-022 & IMS-023 & IMS-024 & IMS-025 & IMS-026 & IMS-027 & IMS-028 & IMS-029 & IMS-030 & IMS-031 & IMS-032 & IMS-033 & IMS-034 & IMS-035 & IMS-036 & IMS-037 & IMS-038 & IMS-039 & IMS-040 & IMS-041 & IMS-042 & IMS-043 & IMS-044 & IMS-045 & IMS-046 & IMS-047 & IMS-048 & IMS-049 & IMS-050 & IMS-051 & IMS-052 & IMS-053 & IMS-054 & IMS-055 & IMS-056 & IMS-057 & IMS-058 & IMS-059 & IMS-060 & IMS-061 & IMS-062 & IMS-063 & IMS-064 & IMS-065 & IMS-066 & IMS-067 & IMS-068 & IMS-069 & IMS-070 & IMS-071 & IMS-072 & IMS-073 & IMS-074 & IMS-075 & IMS-076 & IMS-077 & IMS-078 & IMS-079 & IMS-080 & IMS-081 & IMS-082 & IMS-083 & IMS-084 & IMS-085 & IMS-086 & IMS-087 & IMS-088 & IMS-089 & IMS-090 & IMS-091 & IMS-092 & IMS-093 & IMS-094 & IMS-095 & IMS-096 & IMS-097 & IMS-098 & IMS-099 & IMS-100 & IMS-101 & IMS-102 & IMS-103 & IMS-104 & IMS-105 & IMS-106 & IMS-107 & IMS-108 & IMS-109 & IMS-110 & IMS-111 & IMS-112 & IMS-113 & IMS-114 & IMS-115 & IMS-116 & IMS-117 & IMS-118 & IMS-119 & IMS-120 & IMS-121 & IMS-122 & IMS-123 & IMS-124 & IMS-125 & IMS-126 & IMS-127 & IMS-128 & IMS-129 & IMS-130 & IMS-131 & IMS-132 & IMS-133 & IMS-134 & IMS-135 & IMS-136 & IMS-137 & INS-A-002 & INS-B-002 & INS-C-001 & INS-D-006 & INS-E-003 & LFS\\_TCR-4535 & LFS\\_TCR-4570 & LFS\\_TCR-4602 & LFS\\_TCR-4758 & LFS\\_TCR-4759 & LFS\\_TCR-4783 & LFS\\_TCR-4837 & LFS\\_TCR-4838 & LFS\\_TCR-5014 & LFS\\_TCR-5067 & NPC\\_101ML & NPC\\_107JP & NPC\\_108W03 & NPC\\_10C02 & NPC\\_111S03 & NPC\\_116JC & NPC\\_119AY & NPC\\_119S01 & NPC\\_12109 & NPC\\_130YL & NPC\\_14Y05 & NPC\\_17KW & NPC\\_18W06 & NPC\\_29MT & NPC\\_32S04 & NPC\\_34M01 & NPC\\_41PC & NPC\\_43K03 & NPC\\_45HM & NPC\\_47B08 & NPC\\_47CC & NPC\\_51M07 & NPC\\_57EL & NPC\\_57T02 & NPC\\_58C06 & NPC\\_59GA & NPC\\_5Z05 & NPC\\_60S03 & NPC\\_68W02 & NPC\\_70WS & NPC\\_72C06 & NPC\\_79HZ & NPC\\_79L01 & NPC\\_83CG & NPC\\_89CT & NPC\\_8C07 & NPC\\_91MO & NPC\\_95LA & NPC\\_98KK & NPC\\_9AW & NPC\\_N1 & NPC\\_N4 & NPC\\_N5 & NPC\\_N6 & TLDC-001 & TLML-001 & TLML-004 & TLML-007 & TLML-016 & TLML-019 & TLML-020 & TLML-022 & TLML-029\\\\\n",
       "\\hline\n",
       "\t*AFF & NA & NA & NA & NA & NA & NA & NA & NA & NA & NA & NA & NA & NA & NA & NA & NA & NA & NA & NA & NA & NA & NA & NA & NA & NA & NA & NA & NA & NA & NA & NA & NA & NA & NA & NA & NA & NA & NA & NA & NA & NA & NA & NA & NA & NA & NA & NA & NA & NA & NA & NA & NA & NA & NA & NA & NA & NA & NA & NA & NA & NA & NA & NA & NA & NA & NA & NA & NA & NA & NA & NA & NA & NA & NA & NA & NA & NA & NA & NA & NA & NA & NA & NA & NA & NA & NA & NA & NA & NA & NA & NA & NA & NA & NA & NA & NA & NA & NA & NA & NA & NA & NA & NA & NA & NA & NA & NA & NA & NA & NA & NA & NA & NA & NA & NA & NA & NA & NA & NA & NA & NA & NA & NA & NA & NA & NA & NA & NA & NA & NA & NA & NA & NA & NA & NA & NA & NA & NA & NA & NA & NA & NA & NA & NA & NA & NA & NA & NA & NA & NA & NA & NA & NA & NA & NA & NA & NA & NA & NA & NA & NA & NA & NA & NA & NA & NA & NA & NA & NA & NA & NA & NA & NA & NA & NA & NA & NA & NA & NA & NA & NA & NA & NA & NA & NA & NA & NA & NA & NA & NA & NA & NA & NA & NA & NA & NA & NA & NA & NA & NA & NA & NA & NA & NA & NA & NA & NA & NA & NA & NA & NA & NA & NA & NA & NA & NA & NA & NA & NA & NA & NA & NA & NA & NA & NA & NA & NA & NA & NA & NA & NA & NA & NA & NA & NA & NA & NA & NA & NA & NA & NA & NA & NA & NA & NA & NA & NA & NA & NA & NA & NA & NA & NA & NA & NA & NA & NA & NA & NA & NA & NA & NA & NA & NA & NA & NA & NA & NA & NA\\\\\n",
       "\t*ASRHWDSANTEAFF & NA & NA & NA & NA & NA & NA & NA & NA & NA & NA & NA & NA & NA & NA & NA & NA & NA & NA & NA & NA & NA & NA & NA & NA & NA & NA & NA & NA & NA & NA & NA & NA & NA & NA & NA & NA & NA & NA & NA & NA & NA & NA & NA & NA & NA & NA & NA & NA & NA & NA & NA & NA & NA & NA & NA & NA & NA & NA & NA & NA & NA & NA & NA & NA & NA & NA & NA & NA & NA & NA & NA & NA & NA & NA & NA & NA & NA & NA & NA & NA & NA & NA & NA & NA & NA & NA & NA & NA & NA & NA & NA & NA & NA & NA & NA & NA & NA & NA & NA & NA & NA & NA & NA & NA & NA & NA & NA & NA & NA & NA & NA & NA & NA & NA & NA & NA & NA & NA & NA & NA & NA & NA & NA & NA & NA & NA & NA & NA & NA & NA & NA & NA & NA & NA & NA & NA & NA & NA & NA & NA & NA & NA & NA & NA & NA & NA & NA & NA & NA & NA & NA & NA & NA & NA & NA & NA & NA & NA & NA & NA & NA & NA & NA & NA & NA & NA & NA & NA & NA & NA & NA & NA & NA & NA & NA & NA & NA & NA & NA & NA & NA & NA & NA & NA & NA & NA & NA & NA & NA & NA & NA & NA & NA & NA & NA & NA & NA & NA & NA & NA & NA & NA & NA & NA & NA & NA & NA & NA & NA & NA & NA & NA & NA & NA & NA & NA & NA & NA & NA & NA & NA & NA & NA & NA & NA & NA & NA & NA & NA & NA & NA & NA & NA & NA & NA & NA & NA & NA & NA & NA & NA & NA & NA & NA & NA & NA & NA & NA & NA & NA & NA & NA & NA & NA & NA & NA & NA & NA & NA & NA & NA & NA & NA & NA & NA & NA & NA & NA & NA\\\\\n",
       "\t*ASRRGTNQPQHF & NA & NA & NA & NA & NA & NA & NA & NA & NA & NA & NA & NA & NA & NA & NA & NA & NA & NA & NA & NA & NA & NA & NA & NA & NA & NA & NA & NA & NA & NA & NA & NA & NA & NA & NA & NA & NA & NA & NA & NA & NA & NA & NA & NA & NA & NA & NA & NA & NA & NA & NA & NA & NA & NA & NA & NA & NA & NA & NA & NA & NA & NA & NA & NA & NA & NA & NA & NA & NA & NA & NA & NA & NA & NA & NA & NA & NA & NA & NA & NA & NA & NA & NA & NA & NA & NA & NA & NA & NA & NA & NA & NA & NA & NA & NA & NA & NA & NA & NA & NA & NA & NA & NA & NA & NA & NA & NA & NA & NA & NA & NA & NA & NA & NA & NA & NA & NA & NA & NA & NA & NA & NA & NA & NA & NA & NA & NA & NA & NA & NA & NA & NA & NA & NA & NA & NA & NA & NA & NA & NA & NA & NA & NA & NA & NA & NA & NA & NA & NA & NA & NA & NA & NA & NA & NA & NA & NA & NA & NA & NA & NA & NA & NA & NA & NA & NA & NA & NA & NA & NA & NA & NA & NA & NA & NA & NA & NA & NA & NA & NA & NA & NA & NA & NA & NA & NA & NA & NA & NA & NA & NA & NA & NA & NA & NA & NA & NA & NA & NA & NA & NA & NA & NA & NA & NA & NA & NA & NA & NA & NA & NA & NA & NA & NA & NA & NA & NA & NA & NA & NA & NA & NA & NA & NA & NA & NA & NA & NA & NA & NA & NA & NA & NA & NA & NA & NA & NA & NA & NA & NA & NA & NA & NA & NA & NA & NA & NA & NA & NA & NA & NA & NA & NA & NA & NA & NA & NA & NA & NA & NA & NA & NA & NA & NA & NA & NA & NA & NA & NA\\\\\n",
       "\t*ASRVEGGGSYNEQFF & NA & NA & NA & NA & NA & NA & NA & NA & NA & NA & NA & NA & NA & NA & NA & NA & NA & NA & NA & NA & NA & NA & NA & NA & NA & NA & NA & NA & NA & NA & NA & NA & NA & NA & NA & NA & NA & NA & NA & NA & NA & NA & NA & NA & NA & NA & NA & NA & NA & NA & NA & NA & NA & NA & NA & NA & NA & NA & NA & NA & NA & NA & NA & NA & NA & NA & NA & NA & NA & NA & NA & NA & NA & NA & NA & NA & NA & NA & NA & NA & NA & NA & NA & NA & NA & NA & NA & NA & NA & NA & NA & NA & NA & NA & NA & NA & NA & NA & NA & NA & NA & NA & NA & NA & NA & NA & NA & NA & NA & NA & NA & NA & NA & NA & NA & NA & NA & NA & NA & NA & NA & NA & NA & NA & NA & NA & NA & NA & NA & NA & NA & NA & NA & NA & NA & NA & NA & NA & NA & NA & NA & NA & NA & NA & NA & NA & NA & NA & NA & NA & NA & NA & NA & NA & NA & NA & NA & NA & NA & NA & NA & NA & NA & NA & NA & NA & NA & NA & NA & NA & NA & NA & NA & NA & NA & NA & NA & NA & NA & NA & NA & NA & NA & NA & NA & NA & NA & NA & NA & NA & NA & NA & NA & NA & NA & NA & NA & NA & NA & NA & NA & NA & NA & NA & NA & NA & NA & NA & NA & NA & NA & NA & NA & NA & NA & NA & NA & NA & NA & NA & NA & NA & NA & NA & NA & NA & NA & NA & NA & NA & NA & NA & NA & NA & NA & NA & NA & NA & NA & NA & NA & NA & NA & NA & NA & NA & NA & NA & NA & NA & NA & NA & NA & NA & NA & NA & NA & NA & NA & NA & NA & NA & NA & NA & NA & NA & NA & NA & NA\\\\\n",
       "\t*ASSEIAGGYEQYF & NA & NA & NA & NA & NA & NA & NA & NA & NA & NA & NA & NA & NA & NA & NA & NA & NA & NA & NA & NA & NA & NA & NA & NA & NA & NA & NA & NA & NA & NA & NA & NA & NA & NA & NA & NA & NA & NA & NA & NA & NA & NA & NA & NA & NA & NA & NA & NA & NA & NA & NA & NA & NA & NA & NA & NA & NA & NA & NA & NA & NA & NA & NA & NA & NA & NA & NA & NA & NA & NA & NA & NA & NA & NA & NA & NA & NA & NA & NA & NA & NA & NA & NA & NA & NA & NA & NA & NA & NA & NA & NA & NA & NA & NA & NA & NA & NA & NA & NA & NA & NA & NA & NA & NA & NA & NA & NA & NA & NA & NA & NA & NA & NA & NA & NA & NA & NA & NA & NA & NA & NA & NA & NA & NA & NA & NA & NA & NA & NA & NA & NA & NA & NA & NA & NA & NA & NA & NA & NA & NA & NA & NA & NA & NA & NA & NA & NA & NA & NA & NA & NA & NA & NA & NA & NA & NA & NA & NA & NA & NA & NA & NA & NA & NA & NA & NA & NA & NA & NA & NA & NA & NA & NA & NA & NA & NA & NA & NA & NA & NA & NA & NA & NA & NA & NA & NA & NA & NA & NA & NA & NA & NA & NA & NA & NA & NA & NA & NA & NA & NA & NA & NA & NA & NA & NA & NA & NA & NA & NA & NA & NA & NA & NA & NA & NA & NA & NA & NA & NA & NA & NA & NA & NA & NA & NA & NA & NA & NA & NA & NA & NA & NA & NA & NA & NA & NA & NA & NA & NA & NA & NA & NA & NA & NA & NA & NA & NA & NA & NA & NA & NA & NA & NA & NA & NA & NA & NA & NA & NA & NA & NA & NA & NA & NA & NA & NA & NA & NA & NA\\\\\n",
       "\t*ASSLARG\\textasciitilde{}SQETQYF & NA & NA & NA & NA & NA & NA & NA & NA & NA & NA & NA & NA & NA & NA & NA & NA & NA & NA & NA & NA & NA & NA & NA & NA & NA & NA & NA & NA & NA & NA & NA & NA & NA & NA & NA & NA & NA & NA & NA & NA & NA & NA & NA & NA & NA & NA & NA & NA & NA & NA & NA & NA & NA & NA & NA & NA & NA & NA & NA & NA & NA & NA & NA & NA & NA & NA & NA & NA & NA & NA & NA & NA & NA & NA & NA & NA & NA & NA & NA & NA & NA & NA & NA & NA & NA & NA & NA & NA & NA & NA & NA & NA & NA & NA & NA & NA & NA & NA & NA & NA & NA & NA & NA & NA & NA & NA & NA & NA & NA & NA & NA & NA & NA & NA & NA & NA & NA & NA & NA & NA & NA & NA & NA & NA & NA & NA & NA & NA & NA & NA & NA & NA & NA & NA & NA & NA & NA & NA & NA & NA & NA & NA & NA & NA & NA & NA & NA & NA & NA & NA & NA & NA & NA & NA & NA & NA & NA & NA & NA & NA & NA & NA & NA & NA & NA & NA & NA & NA & NA & NA & NA & NA & NA & NA & NA & NA & NA & NA & NA & NA & NA & NA & NA & NA & NA & NA & NA & NA & NA & NA & NA & NA & NA & NA & NA & NA & NA & NA & NA & NA & NA & NA & NA & NA & NA & NA & NA & NA & NA & NA & NA & NA & NA & NA & NA & NA & NA & NA & NA & NA & NA & NA & NA & NA & NA & NA & NA & NA & NA & NA & NA & NA & NA & NA & NA & NA & NA & NA & NA & NA & NA & NA & NA & NA & NA & NA & NA & NA & NA & NA & NA & NA & NA & NA & NA & NA & NA & NA & NA & NA & NA & NA & NA & NA & NA & NA & NA & NA & NA\\\\\n",
       "\\end{tabular}\n"
      ],
      "text/markdown": [
       "\n",
       "A matrix: 6 × 269 of type lgl\n",
       "\n",
       "| <!--/--> | CHP_303 | CHP_315 | CHP_319 | CHP_323 | CHP_329 | CHP_330 | CHP_331 | CHP_335 | CHP_338 | CHP_339 | ⋯ | NPC_N6 | TLDC-001 | TLML-001 | TLML-004 | TLML-007 | TLML-016 | TLML-019 | TLML-020 | TLML-022 | TLML-029 |\n",
       "|---|---|---|---|---|---|---|---|---|---|---|---|---|---|---|---|---|---|---|---|---|---|\n",
       "| *AFF | NA | NA | NA | NA | NA | NA | NA | NA | NA | NA | ⋯ | NA | NA | NA | NA | NA | NA | NA | NA | NA | NA |\n",
       "| *ASRHWDSANTEAFF | NA | NA | NA | NA | NA | NA | NA | NA | NA | NA | ⋯ | NA | NA | NA | NA | NA | NA | NA | NA | NA | NA |\n",
       "| *ASRRGTNQPQHF | NA | NA | NA | NA | NA | NA | NA | NA | NA | NA | ⋯ | NA | NA | NA | NA | NA | NA | NA | NA | NA | NA |\n",
       "| *ASRVEGGGSYNEQFF | NA | NA | NA | NA | NA | NA | NA | NA | NA | NA | ⋯ | NA | NA | NA | NA | NA | NA | NA | NA | NA | NA |\n",
       "| *ASSEIAGGYEQYF | NA | NA | NA | NA | NA | NA | NA | NA | NA | NA | ⋯ | NA | NA | NA | NA | NA | NA | NA | NA | NA | NA |\n",
       "| *ASSLARG~SQETQYF | NA | NA | NA | NA | NA | NA | NA | NA | NA | NA | ⋯ | NA | NA | NA | NA | NA | NA | NA | NA | NA | NA |\n",
       "\n"
      ],
      "text/plain": [
       "                 CHP_303 CHP_315 CHP_319 CHP_323 CHP_329 CHP_330 CHP_331\n",
       "*AFF             NA      NA      NA      NA      NA      NA      NA     \n",
       "*ASRHWDSANTEAFF  NA      NA      NA      NA      NA      NA      NA     \n",
       "*ASRRGTNQPQHF    NA      NA      NA      NA      NA      NA      NA     \n",
       "*ASRVEGGGSYNEQFF NA      NA      NA      NA      NA      NA      NA     \n",
       "*ASSEIAGGYEQYF   NA      NA      NA      NA      NA      NA      NA     \n",
       "*ASSLARG~SQETQYF NA      NA      NA      NA      NA      NA      NA     \n",
       "                 CHP_335 CHP_338 CHP_339 ⋯ NPC_N6 TLDC-001 TLML-001 TLML-004\n",
       "*AFF             NA      NA      NA      ⋯ NA     NA       NA       NA      \n",
       "*ASRHWDSANTEAFF  NA      NA      NA      ⋯ NA     NA       NA       NA      \n",
       "*ASRRGTNQPQHF    NA      NA      NA      ⋯ NA     NA       NA       NA      \n",
       "*ASRVEGGGSYNEQFF NA      NA      NA      ⋯ NA     NA       NA       NA      \n",
       "*ASSEIAGGYEQYF   NA      NA      NA      ⋯ NA     NA       NA       NA      \n",
       "*ASSLARG~SQETQYF NA      NA      NA      ⋯ NA     NA       NA       NA      \n",
       "                 TLML-007 TLML-016 TLML-019 TLML-020 TLML-022 TLML-029\n",
       "*AFF             NA       NA       NA       NA       NA       NA      \n",
       "*ASRHWDSANTEAFF  NA       NA       NA       NA       NA       NA      \n",
       "*ASRRGTNQPQHF    NA       NA       NA       NA       NA       NA      \n",
       "*ASRVEGGGSYNEQFF NA       NA       NA       NA       NA       NA      \n",
       "*ASSEIAGGYEQYF   NA       NA       NA       NA       NA       NA      \n",
       "*ASSLARG~SQETQYF NA       NA       NA       NA       NA       NA      "
      ]
     },
     "metadata": {},
     "output_type": "display_data"
    }
   ],
   "source": [
    "head(ptsmat)"
   ]
  },
  {
   "cell_type": "code",
   "execution_count": 41,
   "metadata": {},
   "outputs": [],
   "source": [
    "for(i in 1:ncol(ptsmat)){\n",
    "    pt <- colnames(ptsmat)[i]\n",
    "    ptsfiles <- metadata$filename[which(metadata$Patient == pt)]\n",
    "    tmp_ptfiles <- mymat_binary[,ptsfiles]\n",
    "    if(length(ptsfiles) == 1){\n",
    "        ptsmat[,i] <- tmp_ptfiles\n",
    "    } else{\n",
    "        ptsmat[,i] <- rowSums(tmp_ptfiles)        \n",
    "    }\n",
    "}"
   ]
  },
  {
   "cell_type": "code",
   "execution_count": 42,
   "metadata": {},
   "outputs": [
    {
     "data": {
      "text/html": [
       "<table>\n",
       "<caption>A matrix: 6 × 269 of type dbl</caption>\n",
       "<thead>\n",
       "\t<tr><th></th><th scope=col>CHP_303</th><th scope=col>CHP_315</th><th scope=col>CHP_319</th><th scope=col>CHP_323</th><th scope=col>CHP_329</th><th scope=col>CHP_330</th><th scope=col>CHP_331</th><th scope=col>CHP_335</th><th scope=col>CHP_338</th><th scope=col>CHP_339</th><th scope=col>⋯</th><th scope=col>NPC_N6</th><th scope=col>TLDC-001</th><th scope=col>TLML-001</th><th scope=col>TLML-004</th><th scope=col>TLML-007</th><th scope=col>TLML-016</th><th scope=col>TLML-019</th><th scope=col>TLML-020</th><th scope=col>TLML-022</th><th scope=col>TLML-029</th></tr>\n",
       "</thead>\n",
       "<tbody>\n",
       "\t<tr><th scope=row>*AFF</th><td>0</td><td>0</td><td>0</td><td>0</td><td>0</td><td>0</td><td>0</td><td>0</td><td>0</td><td>0</td><td>⋯</td><td>0</td><td>0</td><td>0</td><td>0</td><td>1</td><td>0</td><td>0</td><td>0</td><td>0</td><td>0</td></tr>\n",
       "\t<tr><th scope=row>*ASRHWDSANTEAFF</th><td>0</td><td>0</td><td>0</td><td>0</td><td>0</td><td>0</td><td>0</td><td>0</td><td>0</td><td>0</td><td>⋯</td><td>0</td><td>0</td><td>0</td><td>0</td><td>0</td><td>0</td><td>0</td><td>0</td><td>0</td><td>0</td></tr>\n",
       "\t<tr><th scope=row>*ASRRGTNQPQHF</th><td>0</td><td>0</td><td>0</td><td>0</td><td>0</td><td>0</td><td>0</td><td>0</td><td>0</td><td>0</td><td>⋯</td><td>0</td><td>0</td><td>0</td><td>0</td><td>0</td><td>0</td><td>0</td><td>0</td><td>0</td><td>0</td></tr>\n",
       "\t<tr><th scope=row>*ASRVEGGGSYNEQFF</th><td>0</td><td>0</td><td>0</td><td>0</td><td>0</td><td>0</td><td>0</td><td>0</td><td>0</td><td>0</td><td>⋯</td><td>0</td><td>0</td><td>0</td><td>0</td><td>0</td><td>0</td><td>0</td><td>0</td><td>0</td><td>0</td></tr>\n",
       "\t<tr><th scope=row>*ASSEIAGGYEQYF</th><td>0</td><td>0</td><td>0</td><td>0</td><td>0</td><td>0</td><td>0</td><td>0</td><td>0</td><td>0</td><td>⋯</td><td>0</td><td>0</td><td>0</td><td>0</td><td>0</td><td>0</td><td>0</td><td>0</td><td>0</td><td>0</td></tr>\n",
       "\t<tr><th scope=row>*ASSLARG~SQETQYF</th><td>0</td><td>0</td><td>0</td><td>0</td><td>0</td><td>0</td><td>0</td><td>0</td><td>0</td><td>0</td><td>⋯</td><td>0</td><td>0</td><td>0</td><td>0</td><td>0</td><td>0</td><td>0</td><td>0</td><td>0</td><td>0</td></tr>\n",
       "</tbody>\n",
       "</table>\n"
      ],
      "text/latex": [
       "A matrix: 6 × 269 of type dbl\n",
       "\\begin{tabular}{r|lllllllllllllllllllllllllllllllllllllllllllllllllllllllllllllllllllllllllllllllllllllllllllllllllllllllllllllllllllllllllllllllllllllllllllllllllllllllllllllllllllllllllllllllllllllllllllllllllllllllllllllllllllllllllllllllllllllllllllllllllllllllllllllllllllllllllllll}\n",
       "  & CHP\\_303 & CHP\\_315 & CHP\\_319 & CHP\\_323 & CHP\\_329 & CHP\\_330 & CHP\\_331 & CHP\\_335 & CHP\\_338 & CHP\\_339 & CHP\\_340 & CHP\\_342 & CHP\\_343 & CHP\\_344 & CHP\\_345 & CHP\\_346 & CHP\\_347 & CHP\\_348 & CHP\\_349 & CHP\\_350 & CHP\\_351 & CHP\\_352 & CHP\\_353 & CHP\\_355 & CHP\\_356 & CHP\\_357 & CHP\\_358 & CHP\\_359 & CHP\\_360 & CHP\\_361 & CHP\\_362 & CHP\\_363 & CHP\\_364 & CHP\\_365 & CHP\\_366 & CHP\\_367 & CHP\\_368 & CHP\\_369 & CHP\\_370 & CHP\\_373 & CHP\\_374 & CHP\\_375 & CHP\\_376 & CHP\\_378 & CHP\\_380 & CHP\\_381 & CHP\\_382 & CHP\\_383 & CHP\\_385 & CHP\\_386 & CHP\\_387 & CHP\\_394 & CHP\\_396 & CHP\\_397 & CHP\\_399 & HSJ19 & HSJ23 & HSJ41 & HSJ50 & HSJ51 & HSJ51R & HSJ67 & HSJ68 & HSJ76 & HSJ77 & IMS-001 & IMS-002 & IMS-003 & IMS-004 & IMS-005 & IMS-006 & IMS-007 & IMS-008 & IMS-009 & IMS-010 & IMS-011 & IMS-012 & IMS-013 & IMS-014 & IMS-015 & IMS-017 & IMS-018 & IMS-019 & IMS-020 & IMS-021 & IMS-022 & IMS-023 & IMS-024 & IMS-025 & IMS-026 & IMS-027 & IMS-028 & IMS-029 & IMS-030 & IMS-031 & IMS-032 & IMS-033 & IMS-034 & IMS-035 & IMS-036 & IMS-037 & IMS-038 & IMS-039 & IMS-040 & IMS-041 & IMS-042 & IMS-043 & IMS-044 & IMS-045 & IMS-046 & IMS-047 & IMS-048 & IMS-049 & IMS-050 & IMS-051 & IMS-052 & IMS-053 & IMS-054 & IMS-055 & IMS-056 & IMS-057 & IMS-058 & IMS-059 & IMS-060 & IMS-061 & IMS-062 & IMS-063 & IMS-064 & IMS-065 & IMS-066 & IMS-067 & IMS-068 & IMS-069 & IMS-070 & IMS-071 & IMS-072 & IMS-073 & IMS-074 & IMS-075 & IMS-076 & IMS-077 & IMS-078 & IMS-079 & IMS-080 & IMS-081 & IMS-082 & IMS-083 & IMS-084 & IMS-085 & IMS-086 & IMS-087 & IMS-088 & IMS-089 & IMS-090 & IMS-091 & IMS-092 & IMS-093 & IMS-094 & IMS-095 & IMS-096 & IMS-097 & IMS-098 & IMS-099 & IMS-100 & IMS-101 & IMS-102 & IMS-103 & IMS-104 & IMS-105 & IMS-106 & IMS-107 & IMS-108 & IMS-109 & IMS-110 & IMS-111 & IMS-112 & IMS-113 & IMS-114 & IMS-115 & IMS-116 & IMS-117 & IMS-118 & IMS-119 & IMS-120 & IMS-121 & IMS-122 & IMS-123 & IMS-124 & IMS-125 & IMS-126 & IMS-127 & IMS-128 & IMS-129 & IMS-130 & IMS-131 & IMS-132 & IMS-133 & IMS-134 & IMS-135 & IMS-136 & IMS-137 & INS-A-002 & INS-B-002 & INS-C-001 & INS-D-006 & INS-E-003 & LFS\\_TCR-4535 & LFS\\_TCR-4570 & LFS\\_TCR-4602 & LFS\\_TCR-4758 & LFS\\_TCR-4759 & LFS\\_TCR-4783 & LFS\\_TCR-4837 & LFS\\_TCR-4838 & LFS\\_TCR-5014 & LFS\\_TCR-5067 & NPC\\_101ML & NPC\\_107JP & NPC\\_108W03 & NPC\\_10C02 & NPC\\_111S03 & NPC\\_116JC & NPC\\_119AY & NPC\\_119S01 & NPC\\_12109 & NPC\\_130YL & NPC\\_14Y05 & NPC\\_17KW & NPC\\_18W06 & NPC\\_29MT & NPC\\_32S04 & NPC\\_34M01 & NPC\\_41PC & NPC\\_43K03 & NPC\\_45HM & NPC\\_47B08 & NPC\\_47CC & NPC\\_51M07 & NPC\\_57EL & NPC\\_57T02 & NPC\\_58C06 & NPC\\_59GA & NPC\\_5Z05 & NPC\\_60S03 & NPC\\_68W02 & NPC\\_70WS & NPC\\_72C06 & NPC\\_79HZ & NPC\\_79L01 & NPC\\_83CG & NPC\\_89CT & NPC\\_8C07 & NPC\\_91MO & NPC\\_95LA & NPC\\_98KK & NPC\\_9AW & NPC\\_N1 & NPC\\_N4 & NPC\\_N5 & NPC\\_N6 & TLDC-001 & TLML-001 & TLML-004 & TLML-007 & TLML-016 & TLML-019 & TLML-020 & TLML-022 & TLML-029\\\\\n",
       "\\hline\n",
       "\t*AFF & 0 & 0 & 0 & 0 & 0 & 0 & 0 & 0 & 0 & 0 & 0 & 0 & 0 & 0 & 0 & 0 & 0 & 0 & 0 & 0 & 0 & 0 & 0 & 0 & 0 & 0 & 0 & 0 & 0 & 0 & 0 & 0 & 0 & 0 & 0 & 0 & 0 & 0 & 0 & 0 & 0 & 0 & 0 & 0 & 0 & 0 & 0 & 0 & 0 & 0 & 0 & 0 & 0 & 0 & 0 & 0 & 0 & 0 & 0 & 0 & 0 & 0 & 0 & 0 & 0 & 0 & 0 & 0 & 0 & 0 & 0 & 0 & 0 & 0 & 0 & 0 & 0 & 0 & 0 & 0 & 0 & 0 & 0 & 0 & 0 & 0 & 0 & 0 & 0 & 0 & 0 & 0 & 0 & 0 & 0 & 0 & 0 & 0 & 0 & 0 & 0 & 0 & 0 & 0 & 0 & 0 & 0 & 0 & 0 & 0 & 0 & 0 & 0 & 0 & 0 & 0 & 0 & 0 & 0 & 0 & 0 & 0 & 0 & 0 & 0 & 0 & 0 & 0 & 0 & 0 & 0 & 0 & 0 & 0 & 0 & 0 & 0 & 0 & 0 & 0 & 0 & 0 & 0 & 0 & 0 & 0 & 0 & 0 & 0 & 0 & 0 & 0 & 0 & 0 & 0 & 0 & 0 & 0 & 0 & 0 & 0 & 0 & 0 & 0 & 0 & 0 & 0 & 0 & 0 & 0 & 0 & 0 & 0 & 0 & 0 & 0 & 0 & 0 & 0 & 0 & 0 & 0 & 0 & 0 & 0 & 0 & 0 & 0 & 0 & 0 & 0 & 0 & 0 & 0 & 0 & 0 & 0 & 0 & 0 & 0 & 0 & 0 & 0 & 0 & 0 & 0 & 0 & 0 & 0 & 0 & 0 & 0 & 0 & 0 & 0 & 0 & 0 & 0 & 0 & 0 & 0 & 0 & 0 & 0 & 0 & 0 & 0 & 0 & 0 & 0 & 0 & 0 & 0 & 0 & 0 & 0 & 0 & 0 & 0 & 0 & 0 & 0 & 0 & 0 & 0 & 0 & 0 & 0 & 0 & 0 & 0 & 0 & 0 & 0 & 0 & 0 & 0 & 0 & 0 & 0 & 0 & 0 & 0 & 1 & 0 & 0 & 0 & 0 & 0\\\\\n",
       "\t*ASRHWDSANTEAFF & 0 & 0 & 0 & 0 & 0 & 0 & 0 & 0 & 0 & 0 & 0 & 0 & 0 & 0 & 0 & 0 & 0 & 0 & 0 & 0 & 0 & 0 & 0 & 0 & 0 & 0 & 0 & 0 & 0 & 0 & 0 & 0 & 0 & 0 & 0 & 0 & 0 & 0 & 0 & 0 & 0 & 0 & 0 & 0 & 0 & 0 & 0 & 0 & 0 & 0 & 0 & 0 & 0 & 0 & 0 & 0 & 0 & 0 & 0 & 0 & 0 & 0 & 0 & 0 & 0 & 0 & 0 & 0 & 0 & 0 & 0 & 0 & 0 & 0 & 0 & 0 & 0 & 0 & 0 & 0 & 0 & 0 & 0 & 0 & 0 & 0 & 0 & 0 & 0 & 0 & 0 & 0 & 0 & 0 & 0 & 0 & 0 & 0 & 0 & 0 & 0 & 0 & 0 & 0 & 0 & 0 & 0 & 0 & 0 & 0 & 0 & 0 & 0 & 0 & 0 & 0 & 0 & 0 & 0 & 0 & 0 & 0 & 0 & 0 & 0 & 0 & 0 & 0 & 0 & 0 & 0 & 0 & 0 & 0 & 0 & 0 & 0 & 0 & 0 & 0 & 0 & 0 & 0 & 0 & 0 & 0 & 0 & 0 & 0 & 0 & 0 & 0 & 0 & 0 & 0 & 0 & 0 & 0 & 0 & 0 & 0 & 0 & 0 & 0 & 0 & 0 & 0 & 0 & 0 & 0 & 0 & 0 & 0 & 0 & 0 & 0 & 0 & 0 & 0 & 0 & 0 & 0 & 0 & 0 & 0 & 0 & 0 & 0 & 0 & 0 & 0 & 0 & 0 & 0 & 0 & 0 & 0 & 0 & 0 & 0 & 0 & 0 & 0 & 0 & 0 & 0 & 0 & 0 & 0 & 0 & 0 & 0 & 0 & 0 & 0 & 0 & 1 & 0 & 0 & 0 & 0 & 0 & 0 & 0 & 0 & 0 & 0 & 0 & 0 & 0 & 0 & 0 & 0 & 0 & 0 & 0 & 0 & 0 & 0 & 0 & 0 & 0 & 0 & 0 & 0 & 0 & 0 & 0 & 0 & 0 & 0 & 0 & 0 & 0 & 0 & 0 & 0 & 0 & 0 & 0 & 0 & 0 & 0 & 0 & 0 & 0 & 0 & 0 & 0\\\\\n",
       "\t*ASRRGTNQPQHF & 0 & 0 & 0 & 0 & 0 & 0 & 0 & 0 & 0 & 0 & 0 & 0 & 0 & 0 & 0 & 0 & 0 & 0 & 0 & 0 & 0 & 0 & 0 & 0 & 0 & 0 & 0 & 0 & 0 & 0 & 0 & 0 & 0 & 0 & 0 & 0 & 0 & 0 & 0 & 0 & 0 & 0 & 0 & 0 & 0 & 0 & 0 & 0 & 0 & 0 & 0 & 0 & 0 & 0 & 0 & 0 & 0 & 0 & 0 & 0 & 0 & 0 & 0 & 0 & 1 & 0 & 0 & 0 & 0 & 0 & 0 & 0 & 0 & 0 & 0 & 0 & 0 & 0 & 0 & 0 & 0 & 0 & 0 & 0 & 0 & 0 & 0 & 0 & 0 & 0 & 0 & 0 & 0 & 0 & 0 & 0 & 0 & 0 & 0 & 0 & 0 & 0 & 0 & 0 & 0 & 0 & 0 & 0 & 0 & 0 & 0 & 0 & 0 & 0 & 0 & 0 & 0 & 0 & 0 & 0 & 0 & 0 & 0 & 0 & 0 & 0 & 0 & 0 & 0 & 0 & 0 & 0 & 0 & 0 & 0 & 0 & 0 & 0 & 0 & 0 & 0 & 0 & 0 & 0 & 0 & 0 & 0 & 0 & 0 & 0 & 0 & 0 & 0 & 0 & 0 & 0 & 0 & 0 & 0 & 0 & 0 & 0 & 0 & 0 & 0 & 0 & 0 & 0 & 0 & 0 & 0 & 0 & 0 & 0 & 0 & 0 & 0 & 0 & 0 & 0 & 0 & 0 & 0 & 0 & 0 & 0 & 0 & 0 & 0 & 0 & 0 & 0 & 0 & 0 & 0 & 0 & 0 & 0 & 0 & 0 & 0 & 0 & 0 & 0 & 0 & 0 & 0 & 0 & 0 & 0 & 0 & 0 & 0 & 0 & 0 & 0 & 0 & 0 & 0 & 0 & 0 & 0 & 0 & 0 & 0 & 0 & 0 & 0 & 0 & 0 & 0 & 0 & 0 & 0 & 0 & 0 & 0 & 0 & 0 & 0 & 0 & 0 & 0 & 0 & 0 & 0 & 0 & 0 & 0 & 0 & 0 & 0 & 0 & 0 & 0 & 0 & 0 & 0 & 0 & 0 & 0 & 0 & 0 & 0 & 0 & 0 & 0 & 0 & 0\\\\\n",
       "\t*ASRVEGGGSYNEQFF & 0 & 0 & 0 & 0 & 0 & 0 & 0 & 0 & 0 & 0 & 0 & 0 & 0 & 0 & 0 & 0 & 0 & 0 & 0 & 0 & 0 & 0 & 0 & 0 & 0 & 0 & 0 & 0 & 0 & 0 & 0 & 0 & 0 & 0 & 0 & 0 & 0 & 0 & 0 & 0 & 0 & 0 & 0 & 0 & 0 & 0 & 0 & 0 & 0 & 0 & 0 & 0 & 0 & 0 & 0 & 0 & 0 & 0 & 0 & 0 & 0 & 0 & 0 & 0 & 0 & 0 & 0 & 0 & 0 & 0 & 0 & 0 & 0 & 0 & 0 & 0 & 0 & 0 & 0 & 0 & 0 & 0 & 0 & 0 & 0 & 0 & 0 & 0 & 0 & 0 & 0 & 0 & 0 & 0 & 0 & 0 & 0 & 0 & 0 & 0 & 0 & 0 & 0 & 0 & 0 & 0 & 0 & 0 & 0 & 0 & 0 & 0 & 0 & 0 & 0 & 0 & 0 & 0 & 0 & 0 & 0 & 0 & 0 & 0 & 0 & 0 & 0 & 0 & 0 & 0 & 0 & 0 & 0 & 0 & 0 & 0 & 0 & 0 & 0 & 0 & 0 & 0 & 0 & 0 & 0 & 0 & 0 & 0 & 0 & 0 & 0 & 0 & 0 & 0 & 0 & 0 & 0 & 0 & 0 & 0 & 0 & 0 & 0 & 0 & 0 & 0 & 0 & 0 & 0 & 0 & 0 & 0 & 0 & 0 & 0 & 0 & 0 & 0 & 0 & 0 & 0 & 0 & 0 & 0 & 0 & 0 & 0 & 0 & 0 & 0 & 0 & 0 & 0 & 0 & 0 & 0 & 0 & 0 & 0 & 0 & 0 & 0 & 0 & 0 & 0 & 0 & 0 & 0 & 0 & 0 & 0 & 0 & 0 & 0 & 0 & 0 & 0 & 0 & 0 & 0 & 0 & 0 & 0 & 0 & 0 & 0 & 0 & 1 & 0 & 0 & 0 & 0 & 0 & 0 & 0 & 0 & 0 & 0 & 0 & 0 & 0 & 0 & 0 & 0 & 0 & 0 & 0 & 0 & 0 & 0 & 0 & 0 & 0 & 0 & 0 & 0 & 0 & 0 & 0 & 0 & 0 & 0 & 0 & 0 & 0 & 0 & 0 & 0 & 0\\\\\n",
       "\t*ASSEIAGGYEQYF & 0 & 0 & 0 & 0 & 0 & 0 & 0 & 0 & 0 & 0 & 0 & 0 & 0 & 0 & 0 & 0 & 0 & 0 & 0 & 0 & 0 & 0 & 0 & 0 & 0 & 0 & 0 & 0 & 0 & 0 & 0 & 0 & 0 & 0 & 0 & 0 & 0 & 0 & 0 & 0 & 0 & 0 & 0 & 0 & 0 & 0 & 0 & 0 & 0 & 0 & 0 & 0 & 0 & 0 & 0 & 0 & 0 & 0 & 0 & 0 & 0 & 0 & 0 & 0 & 0 & 0 & 0 & 0 & 0 & 0 & 0 & 0 & 0 & 0 & 0 & 0 & 0 & 0 & 0 & 0 & 0 & 0 & 0 & 0 & 0 & 0 & 0 & 0 & 0 & 0 & 0 & 0 & 0 & 0 & 0 & 0 & 0 & 0 & 0 & 0 & 0 & 0 & 0 & 0 & 0 & 0 & 0 & 0 & 0 & 0 & 0 & 0 & 0 & 0 & 0 & 0 & 0 & 0 & 0 & 0 & 0 & 0 & 0 & 0 & 0 & 0 & 0 & 0 & 0 & 0 & 0 & 0 & 0 & 0 & 0 & 0 & 0 & 0 & 0 & 0 & 0 & 0 & 0 & 0 & 0 & 0 & 0 & 0 & 0 & 0 & 0 & 0 & 0 & 0 & 0 & 0 & 0 & 0 & 0 & 0 & 0 & 0 & 0 & 0 & 0 & 0 & 0 & 0 & 0 & 0 & 0 & 0 & 0 & 0 & 0 & 0 & 0 & 0 & 0 & 0 & 0 & 0 & 0 & 0 & 0 & 0 & 0 & 0 & 0 & 0 & 0 & 0 & 0 & 0 & 0 & 0 & 0 & 0 & 0 & 0 & 0 & 0 & 0 & 0 & 0 & 0 & 0 & 0 & 0 & 0 & 0 & 0 & 0 & 0 & 0 & 0 & 0 & 0 & 0 & 0 & 0 & 0 & 0 & 0 & 0 & 0 & 0 & 0 & 0 & 0 & 0 & 0 & 0 & 0 & 0 & 0 & 0 & 0 & 0 & 0 & 0 & 0 & 0 & 0 & 0 & 0 & 0 & 0 & 0 & 0 & 0 & 0 & 0 & 0 & 0 & 1 & 0 & 0 & 0 & 0 & 0 & 0 & 0 & 0 & 0 & 0 & 0 & 0 & 0\\\\\n",
       "\t*ASSLARG\\textasciitilde{}SQETQYF & 0 & 0 & 0 & 0 & 0 & 0 & 0 & 0 & 0 & 0 & 0 & 0 & 0 & 0 & 0 & 0 & 0 & 0 & 0 & 0 & 0 & 0 & 0 & 0 & 0 & 0 & 0 & 0 & 0 & 0 & 0 & 0 & 0 & 0 & 0 & 0 & 0 & 0 & 0 & 0 & 0 & 0 & 0 & 0 & 0 & 0 & 0 & 0 & 0 & 0 & 0 & 0 & 0 & 0 & 0 & 0 & 0 & 0 & 0 & 0 & 0 & 0 & 0 & 0 & 0 & 0 & 0 & 0 & 0 & 0 & 0 & 0 & 0 & 0 & 0 & 0 & 0 & 0 & 0 & 0 & 0 & 0 & 0 & 0 & 0 & 0 & 0 & 0 & 0 & 0 & 0 & 0 & 0 & 0 & 0 & 0 & 1 & 0 & 0 & 0 & 0 & 0 & 0 & 0 & 0 & 0 & 0 & 0 & 0 & 0 & 0 & 0 & 0 & 0 & 0 & 0 & 0 & 0 & 0 & 0 & 0 & 0 & 0 & 0 & 0 & 0 & 0 & 0 & 0 & 0 & 0 & 0 & 0 & 0 & 0 & 0 & 0 & 0 & 0 & 0 & 0 & 0 & 0 & 0 & 0 & 0 & 0 & 0 & 0 & 0 & 0 & 0 & 0 & 0 & 0 & 0 & 0 & 0 & 0 & 0 & 0 & 0 & 0 & 0 & 0 & 0 & 0 & 0 & 0 & 0 & 0 & 0 & 0 & 0 & 0 & 0 & 0 & 0 & 0 & 0 & 0 & 0 & 0 & 0 & 0 & 0 & 0 & 0 & 0 & 0 & 0 & 0 & 0 & 0 & 0 & 0 & 0 & 0 & 0 & 0 & 0 & 0 & 0 & 0 & 0 & 0 & 0 & 0 & 0 & 0 & 0 & 0 & 0 & 0 & 0 & 0 & 0 & 0 & 0 & 0 & 0 & 0 & 0 & 0 & 0 & 0 & 0 & 0 & 0 & 0 & 0 & 0 & 0 & 0 & 0 & 0 & 0 & 0 & 0 & 0 & 0 & 0 & 0 & 0 & 0 & 0 & 0 & 0 & 0 & 0 & 0 & 0 & 0 & 0 & 0 & 0 & 0 & 0 & 0 & 0 & 0 & 0 & 0 & 0 & 0 & 0 & 0 & 0 & 0\\\\\n",
       "\\end{tabular}\n"
      ],
      "text/markdown": [
       "\n",
       "A matrix: 6 × 269 of type dbl\n",
       "\n",
       "| <!--/--> | CHP_303 | CHP_315 | CHP_319 | CHP_323 | CHP_329 | CHP_330 | CHP_331 | CHP_335 | CHP_338 | CHP_339 | ⋯ | NPC_N6 | TLDC-001 | TLML-001 | TLML-004 | TLML-007 | TLML-016 | TLML-019 | TLML-020 | TLML-022 | TLML-029 |\n",
       "|---|---|---|---|---|---|---|---|---|---|---|---|---|---|---|---|---|---|---|---|---|---|\n",
       "| *AFF | 0 | 0 | 0 | 0 | 0 | 0 | 0 | 0 | 0 | 0 | ⋯ | 0 | 0 | 0 | 0 | 1 | 0 | 0 | 0 | 0 | 0 |\n",
       "| *ASRHWDSANTEAFF | 0 | 0 | 0 | 0 | 0 | 0 | 0 | 0 | 0 | 0 | ⋯ | 0 | 0 | 0 | 0 | 0 | 0 | 0 | 0 | 0 | 0 |\n",
       "| *ASRRGTNQPQHF | 0 | 0 | 0 | 0 | 0 | 0 | 0 | 0 | 0 | 0 | ⋯ | 0 | 0 | 0 | 0 | 0 | 0 | 0 | 0 | 0 | 0 |\n",
       "| *ASRVEGGGSYNEQFF | 0 | 0 | 0 | 0 | 0 | 0 | 0 | 0 | 0 | 0 | ⋯ | 0 | 0 | 0 | 0 | 0 | 0 | 0 | 0 | 0 | 0 |\n",
       "| *ASSEIAGGYEQYF | 0 | 0 | 0 | 0 | 0 | 0 | 0 | 0 | 0 | 0 | ⋯ | 0 | 0 | 0 | 0 | 0 | 0 | 0 | 0 | 0 | 0 |\n",
       "| *ASSLARG~SQETQYF | 0 | 0 | 0 | 0 | 0 | 0 | 0 | 0 | 0 | 0 | ⋯ | 0 | 0 | 0 | 0 | 0 | 0 | 0 | 0 | 0 | 0 |\n",
       "\n"
      ],
      "text/plain": [
       "                 CHP_303 CHP_315 CHP_319 CHP_323 CHP_329 CHP_330 CHP_331\n",
       "*AFF             0       0       0       0       0       0       0      \n",
       "*ASRHWDSANTEAFF  0       0       0       0       0       0       0      \n",
       "*ASRRGTNQPQHF    0       0       0       0       0       0       0      \n",
       "*ASRVEGGGSYNEQFF 0       0       0       0       0       0       0      \n",
       "*ASSEIAGGYEQYF   0       0       0       0       0       0       0      \n",
       "*ASSLARG~SQETQYF 0       0       0       0       0       0       0      \n",
       "                 CHP_335 CHP_338 CHP_339 ⋯ NPC_N6 TLDC-001 TLML-001 TLML-004\n",
       "*AFF             0       0       0       ⋯ 0      0        0        0       \n",
       "*ASRHWDSANTEAFF  0       0       0       ⋯ 0      0        0        0       \n",
       "*ASRRGTNQPQHF    0       0       0       ⋯ 0      0        0        0       \n",
       "*ASRVEGGGSYNEQFF 0       0       0       ⋯ 0      0        0        0       \n",
       "*ASSEIAGGYEQYF   0       0       0       ⋯ 0      0        0        0       \n",
       "*ASSLARG~SQETQYF 0       0       0       ⋯ 0      0        0        0       \n",
       "                 TLML-007 TLML-016 TLML-019 TLML-020 TLML-022 TLML-029\n",
       "*AFF             1        0        0        0        0        0       \n",
       "*ASRHWDSANTEAFF  0        0        0        0        0        0       \n",
       "*ASRRGTNQPQHF    0        0        0        0        0        0       \n",
       "*ASRVEGGGSYNEQFF 0        0        0        0        0        0       \n",
       "*ASSEIAGGYEQYF   0        0        0        0        0        0       \n",
       "*ASSLARG~SQETQYF 0        0        0        0        0        0       "
      ]
     },
     "metadata": {},
     "output_type": "display_data"
    }
   ],
   "source": [
    "head(ptsmat)"
   ]
  },
  {
   "cell_type": "code",
   "execution_count": 44,
   "metadata": {},
   "outputs": [],
   "source": [
    "ptsmat[ptsmat > 0] <- 1"
   ]
  },
  {
   "cell_type": "code",
   "execution_count": 85,
   "metadata": {},
   "outputs": [],
   "source": [
    "write.csv(ptsmat, \n",
    "          file = paste0(datapath,\"clonotypes_by_patients.csv\"))"
   ]
  },
  {
   "cell_type": "markdown",
   "metadata": {},
   "source": [
    "# removing private cdr3s"
   ]
  },
  {
   "cell_type": "code",
   "execution_count": 49,
   "metadata": {},
   "outputs": [],
   "source": [
    "sharedptsmat <- ptsmat[rowSums(ptsmat) > 1,] "
   ]
  },
  {
   "cell_type": "code",
   "execution_count": 55,
   "metadata": {},
   "outputs": [
    {
     "data": {
      "text/html": [
       "<ol class=list-inline>\n",
       "\t<li>81015</li>\n",
       "\t<li>269</li>\n",
       "</ol>\n"
      ],
      "text/latex": [
       "\\begin{enumerate*}\n",
       "\\item 81015\n",
       "\\item 269\n",
       "\\end{enumerate*}\n"
      ],
      "text/markdown": [
       "1. 81015\n",
       "2. 269\n",
       "\n",
       "\n"
      ],
      "text/plain": [
       "[1] 81015   269"
      ]
     },
     "metadata": {},
     "output_type": "display_data"
    }
   ],
   "source": [
    "dim(sharedptsmat)"
   ]
  },
  {
   "cell_type": "code",
   "execution_count": 50,
   "metadata": {},
   "outputs": [
    {
     "data": {
      "text/html": [
       "<table>\n",
       "<caption>A matrix: 6 × 269 of type dbl</caption>\n",
       "<thead>\n",
       "\t<tr><th></th><th scope=col>CHP_303</th><th scope=col>CHP_315</th><th scope=col>CHP_319</th><th scope=col>CHP_323</th><th scope=col>CHP_329</th><th scope=col>CHP_330</th><th scope=col>CHP_331</th><th scope=col>CHP_335</th><th scope=col>CHP_338</th><th scope=col>CHP_339</th><th scope=col>⋯</th><th scope=col>NPC_N6</th><th scope=col>TLDC-001</th><th scope=col>TLML-001</th><th scope=col>TLML-004</th><th scope=col>TLML-007</th><th scope=col>TLML-016</th><th scope=col>TLML-019</th><th scope=col>TLML-020</th><th scope=col>TLML-022</th><th scope=col>TLML-029</th></tr>\n",
       "</thead>\n",
       "<tbody>\n",
       "\t<tr><th scope=row>*CHRFLQSPSA~V*ETSGSRLTF</th><td>0</td><td>0</td><td>0</td><td>0</td><td>0</td><td>0</td><td>0</td><td>0</td><td>0</td><td>0</td><td>⋯</td><td>0</td><td>0</td><td>0</td><td>0</td><td>1</td><td>0</td><td>0</td><td>1</td><td>0</td><td>0</td></tr>\n",
       "\t<tr><th scope=row>*QCSVSGGSR*SPGTGEGAPRD~GASQGQFLCRVSGL*AKNIQYF</th><td>0</td><td>0</td><td>0</td><td>0</td><td>0</td><td>0</td><td>0</td><td>0</td><td>0</td><td>0</td><td>⋯</td><td>0</td><td>0</td><td>0</td><td>0</td><td>1</td><td>0</td><td>0</td><td>0</td><td>0</td><td>0</td></tr>\n",
       "\t<tr><th scope=row>*TSLVFNV~ATNEKLFF</th><td>0</td><td>0</td><td>0</td><td>0</td><td>0</td><td>0</td><td>0</td><td>0</td><td>0</td><td>0</td><td>⋯</td><td>0</td><td>0</td><td>0</td><td>0</td><td>0</td><td>0</td><td>0</td><td>0</td><td>0</td><td>0</td></tr>\n",
       "\t<tr><th scope=row>AGRDRG~TEAFF</th><td>0</td><td>0</td><td>0</td><td>0</td><td>0</td><td>0</td><td>0</td><td>0</td><td>0</td><td>0</td><td>⋯</td><td>0</td><td>0</td><td>0</td><td>0</td><td>0</td><td>0</td><td>0</td><td>0</td><td>0</td><td>0</td></tr>\n",
       "\t<tr><th scope=row>C*GG~LFF</th><td>0</td><td>0</td><td>0</td><td>0</td><td>0</td><td>0</td><td>0</td><td>0</td><td>0</td><td>0</td><td>⋯</td><td>0</td><td>0</td><td>0</td><td>0</td><td>0</td><td>0</td><td>0</td><td>0</td><td>0</td><td>0</td></tr>\n",
       "\t<tr><th scope=row>C*GRWGRRRNSG~PFPLCSYNEQFF</th><td>0</td><td>0</td><td>0</td><td>0</td><td>0</td><td>0</td><td>0</td><td>0</td><td>0</td><td>0</td><td>⋯</td><td>0</td><td>0</td><td>0</td><td>0</td><td>0</td><td>0</td><td>0</td><td>0</td><td>0</td><td>0</td></tr>\n",
       "</tbody>\n",
       "</table>\n"
      ],
      "text/latex": [
       "A matrix: 6 × 269 of type dbl\n",
       "\\begin{tabular}{r|lllllllllllllllllllllllllllllllllllllllllllllllllllllllllllllllllllllllllllllllllllllllllllllllllllllllllllllllllllllllllllllllllllllllllllllllllllllllllllllllllllllllllllllllllllllllllllllllllllllllllllllllllllllllllllllllllllllllllllllllllllllllllllllllllllllllllllll}\n",
       "  & CHP\\_303 & CHP\\_315 & CHP\\_319 & CHP\\_323 & CHP\\_329 & CHP\\_330 & CHP\\_331 & CHP\\_335 & CHP\\_338 & CHP\\_339 & CHP\\_340 & CHP\\_342 & CHP\\_343 & CHP\\_344 & CHP\\_345 & CHP\\_346 & CHP\\_347 & CHP\\_348 & CHP\\_349 & CHP\\_350 & CHP\\_351 & CHP\\_352 & CHP\\_353 & CHP\\_355 & CHP\\_356 & CHP\\_357 & CHP\\_358 & CHP\\_359 & CHP\\_360 & CHP\\_361 & CHP\\_362 & CHP\\_363 & CHP\\_364 & CHP\\_365 & CHP\\_366 & CHP\\_367 & CHP\\_368 & CHP\\_369 & CHP\\_370 & CHP\\_373 & CHP\\_374 & CHP\\_375 & CHP\\_376 & CHP\\_378 & CHP\\_380 & CHP\\_381 & CHP\\_382 & CHP\\_383 & CHP\\_385 & CHP\\_386 & CHP\\_387 & CHP\\_394 & CHP\\_396 & CHP\\_397 & CHP\\_399 & HSJ19 & HSJ23 & HSJ41 & HSJ50 & HSJ51 & HSJ51R & HSJ67 & HSJ68 & HSJ76 & HSJ77 & IMS-001 & IMS-002 & IMS-003 & IMS-004 & IMS-005 & IMS-006 & IMS-007 & IMS-008 & IMS-009 & IMS-010 & IMS-011 & IMS-012 & IMS-013 & IMS-014 & IMS-015 & IMS-017 & IMS-018 & IMS-019 & IMS-020 & IMS-021 & IMS-022 & IMS-023 & IMS-024 & IMS-025 & IMS-026 & IMS-027 & IMS-028 & IMS-029 & IMS-030 & IMS-031 & IMS-032 & IMS-033 & IMS-034 & IMS-035 & IMS-036 & IMS-037 & IMS-038 & IMS-039 & IMS-040 & IMS-041 & IMS-042 & IMS-043 & IMS-044 & IMS-045 & IMS-046 & IMS-047 & IMS-048 & IMS-049 & IMS-050 & IMS-051 & IMS-052 & IMS-053 & IMS-054 & IMS-055 & IMS-056 & IMS-057 & IMS-058 & IMS-059 & IMS-060 & IMS-061 & IMS-062 & IMS-063 & IMS-064 & IMS-065 & IMS-066 & IMS-067 & IMS-068 & IMS-069 & IMS-070 & IMS-071 & IMS-072 & IMS-073 & IMS-074 & IMS-075 & IMS-076 & IMS-077 & IMS-078 & IMS-079 & IMS-080 & IMS-081 & IMS-082 & IMS-083 & IMS-084 & IMS-085 & IMS-086 & IMS-087 & IMS-088 & IMS-089 & IMS-090 & IMS-091 & IMS-092 & IMS-093 & IMS-094 & IMS-095 & IMS-096 & IMS-097 & IMS-098 & IMS-099 & IMS-100 & IMS-101 & IMS-102 & IMS-103 & IMS-104 & IMS-105 & IMS-106 & IMS-107 & IMS-108 & IMS-109 & IMS-110 & IMS-111 & IMS-112 & IMS-113 & IMS-114 & IMS-115 & IMS-116 & IMS-117 & IMS-118 & IMS-119 & IMS-120 & IMS-121 & IMS-122 & IMS-123 & IMS-124 & IMS-125 & IMS-126 & IMS-127 & IMS-128 & IMS-129 & IMS-130 & IMS-131 & IMS-132 & IMS-133 & IMS-134 & IMS-135 & IMS-136 & IMS-137 & INS-A-002 & INS-B-002 & INS-C-001 & INS-D-006 & INS-E-003 & LFS\\_TCR-4535 & LFS\\_TCR-4570 & LFS\\_TCR-4602 & LFS\\_TCR-4758 & LFS\\_TCR-4759 & LFS\\_TCR-4783 & LFS\\_TCR-4837 & LFS\\_TCR-4838 & LFS\\_TCR-5014 & LFS\\_TCR-5067 & NPC\\_101ML & NPC\\_107JP & NPC\\_108W03 & NPC\\_10C02 & NPC\\_111S03 & NPC\\_116JC & NPC\\_119AY & NPC\\_119S01 & NPC\\_12109 & NPC\\_130YL & NPC\\_14Y05 & NPC\\_17KW & NPC\\_18W06 & NPC\\_29MT & NPC\\_32S04 & NPC\\_34M01 & NPC\\_41PC & NPC\\_43K03 & NPC\\_45HM & NPC\\_47B08 & NPC\\_47CC & NPC\\_51M07 & NPC\\_57EL & NPC\\_57T02 & NPC\\_58C06 & NPC\\_59GA & NPC\\_5Z05 & NPC\\_60S03 & NPC\\_68W02 & NPC\\_70WS & NPC\\_72C06 & NPC\\_79HZ & NPC\\_79L01 & NPC\\_83CG & NPC\\_89CT & NPC\\_8C07 & NPC\\_91MO & NPC\\_95LA & NPC\\_98KK & NPC\\_9AW & NPC\\_N1 & NPC\\_N4 & NPC\\_N5 & NPC\\_N6 & TLDC-001 & TLML-001 & TLML-004 & TLML-007 & TLML-016 & TLML-019 & TLML-020 & TLML-022 & TLML-029\\\\\n",
       "\\hline\n",
       "\t*CHRFLQSPSA\\textasciitilde{}V*ETSGSRLTF & 0 & 0 & 0 & 0 & 0 & 0 & 0 & 0 & 0 & 0 & 0 & 0 & 0 & 0 & 0 & 0 & 0 & 0 & 0 & 0 & 0 & 0 & 0 & 0 & 0 & 0 & 0 & 0 & 0 & 0 & 0 & 0 & 0 & 0 & 0 & 0 & 0 & 0 & 0 & 0 & 0 & 0 & 0 & 0 & 0 & 0 & 0 & 0 & 0 & 0 & 0 & 0 & 0 & 0 & 0 & 0 & 0 & 0 & 0 & 0 & 0 & 0 & 0 & 0 & 0 & 0 & 0 & 0 & 0 & 0 & 0 & 0 & 0 & 0 & 0 & 0 & 0 & 0 & 0 & 0 & 0 & 0 & 0 & 0 & 1 & 0 & 0 & 0 & 0 & 0 & 0 & 0 & 0 & 0 & 1 & 0 & 0 & 1 & 0 & 0 & 0 & 0 & 1 & 0 & 0 & 0 & 0 & 0 & 0 & 0 & 0 & 0 & 0 & 0 & 0 & 0 & 0 & 0 & 0 & 0 & 0 & 0 & 0 & 0 & 0 & 0 & 0 & 0 & 0 & 0 & 0 & 0 & 0 & 0 & 0 & 0 & 0 & 0 & 0 & 0 & 0 & 0 & 0 & 0 & 0 & 0 & 0 & 0 & 0 & 0 & 0 & 0 & 0 & 0 & 0 & 0 & 0 & 0 & 0 & 0 & 0 & 0 & 0 & 0 & 0 & 0 & 0 & 0 & 0 & 0 & 0 & 0 & 0 & 0 & 0 & 0 & 0 & 0 & 0 & 0 & 0 & 0 & 0 & 0 & 0 & 0 & 0 & 0 & 0 & 0 & 0 & 0 & 0 & 0 & 0 & 0 & 0 & 0 & 0 & 0 & 0 & 0 & 0 & 0 & 0 & 0 & 0 & 0 & 0 & 0 & 0 & 0 & 0 & 0 & 0 & 0 & 0 & 0 & 0 & 0 & 0 & 0 & 0 & 0 & 0 & 0 & 0 & 0 & 0 & 0 & 0 & 0 & 0 & 0 & 0 & 0 & 0 & 0 & 0 & 0 & 0 & 0 & 0 & 0 & 0 & 0 & 0 & 0 & 0 & 0 & 0 & 0 & 1 & 0 & 0 & 0 & 0 & 0 & 0 & 0 & 0 & 0 & 0 & 1 & 0 & 0 & 1 & 0 & 0\\\\\n",
       "\t*QCSVSGGSR*SPGTGEGAPRD\\textasciitilde{}GASQGQFLCRVSGL*AKNIQYF & 0 & 0 & 0 & 0 & 0 & 0 & 0 & 0 & 0 & 0 & 0 & 0 & 0 & 0 & 0 & 0 & 0 & 0 & 0 & 0 & 0 & 0 & 0 & 0 & 0 & 0 & 0 & 0 & 0 & 0 & 0 & 0 & 0 & 0 & 0 & 0 & 0 & 0 & 0 & 0 & 0 & 0 & 0 & 0 & 0 & 0 & 0 & 0 & 0 & 0 & 0 & 0 & 0 & 0 & 0 & 0 & 0 & 0 & 0 & 0 & 0 & 0 & 1 & 0 & 0 & 0 & 0 & 0 & 0 & 0 & 0 & 0 & 0 & 0 & 0 & 0 & 0 & 0 & 0 & 0 & 0 & 0 & 0 & 0 & 0 & 0 & 0 & 0 & 0 & 0 & 0 & 0 & 0 & 0 & 0 & 0 & 0 & 0 & 0 & 0 & 0 & 0 & 0 & 0 & 0 & 0 & 0 & 0 & 0 & 0 & 0 & 0 & 0 & 0 & 0 & 0 & 0 & 0 & 0 & 0 & 0 & 0 & 0 & 0 & 0 & 0 & 0 & 0 & 0 & 0 & 0 & 0 & 0 & 0 & 0 & 0 & 0 & 0 & 0 & 0 & 0 & 0 & 0 & 0 & 0 & 0 & 0 & 0 & 0 & 0 & 0 & 0 & 0 & 0 & 0 & 0 & 0 & 0 & 0 & 0 & 0 & 0 & 0 & 0 & 0 & 0 & 0 & 0 & 0 & 0 & 0 & 0 & 0 & 0 & 0 & 0 & 0 & 0 & 0 & 0 & 0 & 0 & 0 & 0 & 0 & 0 & 0 & 0 & 0 & 0 & 0 & 0 & 0 & 0 & 0 & 0 & 0 & 0 & 0 & 0 & 0 & 0 & 0 & 0 & 0 & 0 & 0 & 0 & 0 & 0 & 0 & 0 & 0 & 0 & 0 & 0 & 0 & 0 & 0 & 0 & 1 & 0 & 0 & 0 & 0 & 0 & 1 & 0 & 0 & 0 & 0 & 0 & 0 & 0 & 0 & 0 & 0 & 0 & 0 & 0 & 0 & 0 & 0 & 0 & 0 & 0 & 0 & 0 & 0 & 0 & 0 & 0 & 0 & 0 & 0 & 0 & 0 & 0 & 0 & 0 & 0 & 0 & 0 & 1 & 0 & 0 & 0 & 0 & 0\\\\\n",
       "\t*TSLVFNV\\textasciitilde{}ATNEKLFF & 0 & 0 & 0 & 0 & 0 & 0 & 0 & 0 & 0 & 0 & 0 & 0 & 0 & 0 & 0 & 0 & 0 & 0 & 0 & 0 & 0 & 0 & 0 & 0 & 0 & 0 & 0 & 0 & 0 & 0 & 0 & 0 & 0 & 0 & 0 & 0 & 0 & 0 & 0 & 0 & 0 & 0 & 0 & 0 & 0 & 0 & 0 & 0 & 0 & 0 & 0 & 0 & 0 & 0 & 0 & 0 & 0 & 0 & 0 & 0 & 0 & 0 & 0 & 0 & 0 & 0 & 0 & 0 & 0 & 0 & 0 & 0 & 0 & 1 & 0 & 0 & 1 & 0 & 0 & 0 & 0 & 0 & 0 & 0 & 0 & 0 & 0 & 0 & 0 & 0 & 0 & 0 & 0 & 0 & 0 & 0 & 0 & 0 & 0 & 0 & 0 & 0 & 0 & 0 & 0 & 0 & 0 & 0 & 0 & 0 & 0 & 0 & 0 & 0 & 0 & 0 & 0 & 0 & 0 & 0 & 0 & 0 & 0 & 0 & 0 & 0 & 0 & 0 & 0 & 0 & 0 & 0 & 0 & 0 & 0 & 0 & 0 & 0 & 0 & 0 & 0 & 0 & 0 & 0 & 0 & 0 & 0 & 0 & 0 & 0 & 0 & 0 & 0 & 0 & 0 & 0 & 0 & 0 & 0 & 0 & 0 & 0 & 0 & 0 & 0 & 0 & 0 & 0 & 0 & 0 & 0 & 0 & 0 & 0 & 0 & 0 & 0 & 0 & 0 & 0 & 0 & 0 & 0 & 0 & 0 & 0 & 0 & 0 & 0 & 0 & 0 & 0 & 0 & 0 & 0 & 0 & 0 & 0 & 0 & 0 & 0 & 0 & 0 & 0 & 0 & 0 & 0 & 0 & 0 & 0 & 0 & 0 & 0 & 0 & 0 & 0 & 0 & 0 & 0 & 0 & 0 & 0 & 0 & 0 & 0 & 0 & 0 & 0 & 0 & 0 & 0 & 0 & 0 & 0 & 0 & 0 & 0 & 0 & 0 & 0 & 0 & 0 & 0 & 0 & 0 & 0 & 0 & 0 & 0 & 0 & 0 & 0 & 0 & 0 & 0 & 0 & 0 & 0 & 0 & 0 & 0 & 0 & 0 & 0 & 0 & 0 & 0 & 0 & 0\\\\\n",
       "\tAGRDRG\\textasciitilde{}TEAFF & 0 & 0 & 0 & 0 & 0 & 0 & 0 & 0 & 0 & 0 & 0 & 0 & 0 & 0 & 0 & 0 & 0 & 0 & 0 & 0 & 0 & 0 & 0 & 0 & 0 & 0 & 0 & 0 & 0 & 0 & 0 & 0 & 0 & 0 & 0 & 0 & 0 & 0 & 0 & 0 & 0 & 0 & 0 & 0 & 0 & 0 & 0 & 0 & 0 & 0 & 0 & 0 & 0 & 0 & 0 & 0 & 0 & 0 & 0 & 0 & 0 & 0 & 0 & 0 & 1 & 0 & 0 & 0 & 0 & 0 & 0 & 0 & 0 & 0 & 0 & 0 & 0 & 0 & 0 & 0 & 0 & 0 & 0 & 0 & 0 & 0 & 0 & 0 & 0 & 0 & 0 & 0 & 0 & 0 & 0 & 0 & 0 & 0 & 0 & 0 & 0 & 0 & 0 & 0 & 0 & 0 & 0 & 0 & 0 & 0 & 0 & 0 & 0 & 0 & 0 & 0 & 0 & 0 & 0 & 0 & 0 & 0 & 0 & 0 & 0 & 0 & 0 & 0 & 0 & 0 & 0 & 0 & 0 & 0 & 0 & 0 & 0 & 0 & 0 & 0 & 0 & 0 & 0 & 0 & 0 & 0 & 0 & 0 & 0 & 0 & 0 & 0 & 0 & 0 & 0 & 0 & 0 & 0 & 0 & 0 & 0 & 0 & 0 & 0 & 0 & 0 & 0 & 0 & 0 & 0 & 0 & 0 & 0 & 0 & 0 & 0 & 0 & 0 & 0 & 0 & 0 & 0 & 0 & 0 & 0 & 0 & 0 & 0 & 0 & 0 & 0 & 0 & 0 & 0 & 0 & 0 & 0 & 0 & 0 & 0 & 0 & 0 & 1 & 0 & 0 & 0 & 0 & 0 & 0 & 0 & 0 & 0 & 0 & 0 & 0 & 0 & 0 & 0 & 0 & 0 & 0 & 0 & 0 & 0 & 0 & 0 & 0 & 0 & 0 & 0 & 0 & 0 & 0 & 0 & 0 & 0 & 0 & 0 & 0 & 0 & 0 & 0 & 0 & 0 & 0 & 0 & 0 & 0 & 0 & 0 & 0 & 0 & 0 & 0 & 0 & 0 & 0 & 0 & 0 & 0 & 0 & 0 & 0 & 0 & 0 & 0 & 0 & 0 & 0\\\\\n",
       "\tC*GG\\textasciitilde{}LFF & 0 & 0 & 0 & 0 & 0 & 0 & 0 & 0 & 0 & 0 & 0 & 0 & 0 & 0 & 0 & 0 & 0 & 0 & 0 & 0 & 0 & 0 & 0 & 0 & 0 & 0 & 0 & 0 & 0 & 0 & 0 & 0 & 0 & 0 & 0 & 0 & 0 & 0 & 0 & 0 & 0 & 0 & 0 & 0 & 0 & 0 & 0 & 0 & 0 & 0 & 0 & 0 & 0 & 0 & 0 & 0 & 0 & 0 & 0 & 0 & 0 & 0 & 0 & 0 & 0 & 0 & 0 & 0 & 0 & 0 & 0 & 0 & 1 & 0 & 0 & 1 & 0 & 0 & 0 & 0 & 0 & 0 & 0 & 0 & 0 & 0 & 0 & 0 & 0 & 0 & 0 & 0 & 0 & 0 & 0 & 0 & 0 & 0 & 0 & 0 & 0 & 0 & 0 & 0 & 0 & 0 & 0 & 0 & 0 & 0 & 0 & 0 & 0 & 0 & 0 & 0 & 0 & 0 & 0 & 0 & 0 & 0 & 0 & 0 & 0 & 0 & 0 & 0 & 0 & 0 & 0 & 0 & 0 & 0 & 0 & 0 & 0 & 0 & 0 & 0 & 0 & 0 & 0 & 0 & 0 & 0 & 0 & 0 & 0 & 0 & 0 & 0 & 0 & 0 & 0 & 0 & 0 & 0 & 0 & 0 & 0 & 0 & 0 & 0 & 0 & 0 & 0 & 0 & 0 & 0 & 0 & 0 & 0 & 0 & 0 & 0 & 0 & 0 & 0 & 0 & 0 & 0 & 0 & 0 & 0 & 0 & 0 & 0 & 0 & 0 & 0 & 0 & 0 & 0 & 0 & 0 & 0 & 0 & 0 & 0 & 0 & 0 & 0 & 0 & 0 & 0 & 0 & 0 & 0 & 0 & 0 & 0 & 0 & 0 & 0 & 0 & 0 & 0 & 0 & 0 & 0 & 0 & 0 & 0 & 0 & 0 & 0 & 0 & 0 & 0 & 0 & 0 & 0 & 0 & 0 & 0 & 0 & 0 & 0 & 0 & 0 & 0 & 0 & 0 & 0 & 0 & 0 & 0 & 0 & 0 & 0 & 0 & 0 & 0 & 0 & 0 & 0 & 0 & 0 & 0 & 0 & 0 & 0 & 0 & 0 & 0 & 0 & 0 & 0\\\\\n",
       "\tC*GRWGRRRNSG\\textasciitilde{}PFPLCSYNEQFF & 0 & 0 & 0 & 0 & 0 & 0 & 0 & 0 & 0 & 0 & 0 & 0 & 0 & 0 & 0 & 0 & 0 & 0 & 0 & 0 & 0 & 0 & 0 & 0 & 0 & 0 & 0 & 0 & 0 & 0 & 0 & 0 & 0 & 0 & 0 & 0 & 0 & 0 & 0 & 0 & 0 & 0 & 0 & 0 & 0 & 0 & 0 & 0 & 0 & 0 & 0 & 0 & 0 & 0 & 0 & 0 & 0 & 0 & 0 & 0 & 0 & 0 & 0 & 0 & 0 & 0 & 0 & 0 & 0 & 0 & 0 & 1 & 0 & 0 & 0 & 0 & 0 & 0 & 0 & 0 & 0 & 0 & 0 & 0 & 0 & 0 & 0 & 0 & 0 & 0 & 0 & 0 & 0 & 0 & 0 & 0 & 0 & 0 & 0 & 1 & 0 & 0 & 0 & 0 & 0 & 0 & 1 & 0 & 0 & 0 & 0 & 0 & 0 & 0 & 0 & 0 & 0 & 0 & 0 & 0 & 0 & 0 & 0 & 0 & 0 & 0 & 0 & 0 & 0 & 0 & 0 & 0 & 0 & 0 & 0 & 0 & 0 & 0 & 0 & 0 & 0 & 0 & 0 & 0 & 0 & 0 & 0 & 0 & 0 & 0 & 0 & 0 & 0 & 0 & 0 & 0 & 0 & 0 & 0 & 0 & 0 & 0 & 0 & 0 & 0 & 0 & 0 & 0 & 0 & 0 & 0 & 0 & 0 & 0 & 0 & 0 & 0 & 0 & 0 & 0 & 0 & 0 & 0 & 0 & 0 & 0 & 0 & 0 & 0 & 0 & 0 & 0 & 0 & 0 & 0 & 0 & 0 & 0 & 0 & 0 & 0 & 0 & 0 & 0 & 0 & 0 & 0 & 0 & 0 & 0 & 0 & 0 & 0 & 0 & 0 & 0 & 0 & 0 & 0 & 0 & 0 & 0 & 0 & 0 & 0 & 0 & 0 & 0 & 0 & 0 & 0 & 0 & 0 & 0 & 0 & 0 & 0 & 0 & 0 & 0 & 0 & 0 & 0 & 0 & 0 & 0 & 0 & 0 & 0 & 0 & 0 & 0 & 0 & 0 & 0 & 0 & 0 & 0 & 0 & 0 & 0 & 0 & 0 & 0 & 0 & 0 & 0 & 0 & 0\\\\\n",
       "\\end{tabular}\n"
      ],
      "text/markdown": [
       "\n",
       "A matrix: 6 × 269 of type dbl\n",
       "\n",
       "| <!--/--> | CHP_303 | CHP_315 | CHP_319 | CHP_323 | CHP_329 | CHP_330 | CHP_331 | CHP_335 | CHP_338 | CHP_339 | ⋯ | NPC_N6 | TLDC-001 | TLML-001 | TLML-004 | TLML-007 | TLML-016 | TLML-019 | TLML-020 | TLML-022 | TLML-029 |\n",
       "|---|---|---|---|---|---|---|---|---|---|---|---|---|---|---|---|---|---|---|---|---|---|\n",
       "| *CHRFLQSPSA~V*ETSGSRLTF | 0 | 0 | 0 | 0 | 0 | 0 | 0 | 0 | 0 | 0 | ⋯ | 0 | 0 | 0 | 0 | 1 | 0 | 0 | 1 | 0 | 0 |\n",
       "| *QCSVSGGSR*SPGTGEGAPRD~GASQGQFLCRVSGL*AKNIQYF | 0 | 0 | 0 | 0 | 0 | 0 | 0 | 0 | 0 | 0 | ⋯ | 0 | 0 | 0 | 0 | 1 | 0 | 0 | 0 | 0 | 0 |\n",
       "| *TSLVFNV~ATNEKLFF | 0 | 0 | 0 | 0 | 0 | 0 | 0 | 0 | 0 | 0 | ⋯ | 0 | 0 | 0 | 0 | 0 | 0 | 0 | 0 | 0 | 0 |\n",
       "| AGRDRG~TEAFF | 0 | 0 | 0 | 0 | 0 | 0 | 0 | 0 | 0 | 0 | ⋯ | 0 | 0 | 0 | 0 | 0 | 0 | 0 | 0 | 0 | 0 |\n",
       "| C*GG~LFF | 0 | 0 | 0 | 0 | 0 | 0 | 0 | 0 | 0 | 0 | ⋯ | 0 | 0 | 0 | 0 | 0 | 0 | 0 | 0 | 0 | 0 |\n",
       "| C*GRWGRRRNSG~PFPLCSYNEQFF | 0 | 0 | 0 | 0 | 0 | 0 | 0 | 0 | 0 | 0 | ⋯ | 0 | 0 | 0 | 0 | 0 | 0 | 0 | 0 | 0 | 0 |\n",
       "\n"
      ],
      "text/plain": [
       "                                              CHP_303 CHP_315 CHP_319 CHP_323\n",
       "*CHRFLQSPSA~V*ETSGSRLTF                       0       0       0       0      \n",
       "*QCSVSGGSR*SPGTGEGAPRD~GASQGQFLCRVSGL*AKNIQYF 0       0       0       0      \n",
       "*TSLVFNV~ATNEKLFF                             0       0       0       0      \n",
       "AGRDRG~TEAFF                                  0       0       0       0      \n",
       "C*GG~LFF                                      0       0       0       0      \n",
       "C*GRWGRRRNSG~PFPLCSYNEQFF                     0       0       0       0      \n",
       "                                              CHP_329 CHP_330 CHP_331 CHP_335\n",
       "*CHRFLQSPSA~V*ETSGSRLTF                       0       0       0       0      \n",
       "*QCSVSGGSR*SPGTGEGAPRD~GASQGQFLCRVSGL*AKNIQYF 0       0       0       0      \n",
       "*TSLVFNV~ATNEKLFF                             0       0       0       0      \n",
       "AGRDRG~TEAFF                                  0       0       0       0      \n",
       "C*GG~LFF                                      0       0       0       0      \n",
       "C*GRWGRRRNSG~PFPLCSYNEQFF                     0       0       0       0      \n",
       "                                              CHP_338 CHP_339 ⋯ NPC_N6 TLDC-001\n",
       "*CHRFLQSPSA~V*ETSGSRLTF                       0       0       ⋯ 0      0       \n",
       "*QCSVSGGSR*SPGTGEGAPRD~GASQGQFLCRVSGL*AKNIQYF 0       0       ⋯ 0      0       \n",
       "*TSLVFNV~ATNEKLFF                             0       0       ⋯ 0      0       \n",
       "AGRDRG~TEAFF                                  0       0       ⋯ 0      0       \n",
       "C*GG~LFF                                      0       0       ⋯ 0      0       \n",
       "C*GRWGRRRNSG~PFPLCSYNEQFF                     0       0       ⋯ 0      0       \n",
       "                                              TLML-001 TLML-004 TLML-007\n",
       "*CHRFLQSPSA~V*ETSGSRLTF                       0        0        1       \n",
       "*QCSVSGGSR*SPGTGEGAPRD~GASQGQFLCRVSGL*AKNIQYF 0        0        1       \n",
       "*TSLVFNV~ATNEKLFF                             0        0        0       \n",
       "AGRDRG~TEAFF                                  0        0        0       \n",
       "C*GG~LFF                                      0        0        0       \n",
       "C*GRWGRRRNSG~PFPLCSYNEQFF                     0        0        0       \n",
       "                                              TLML-016 TLML-019 TLML-020\n",
       "*CHRFLQSPSA~V*ETSGSRLTF                       0        0        1       \n",
       "*QCSVSGGSR*SPGTGEGAPRD~GASQGQFLCRVSGL*AKNIQYF 0        0        0       \n",
       "*TSLVFNV~ATNEKLFF                             0        0        0       \n",
       "AGRDRG~TEAFF                                  0        0        0       \n",
       "C*GG~LFF                                      0        0        0       \n",
       "C*GRWGRRRNSG~PFPLCSYNEQFF                     0        0        0       \n",
       "                                              TLML-022 TLML-029\n",
       "*CHRFLQSPSA~V*ETSGSRLTF                       0        0       \n",
       "*QCSVSGGSR*SPGTGEGAPRD~GASQGQFLCRVSGL*AKNIQYF 0        0       \n",
       "*TSLVFNV~ATNEKLFF                             0        0       \n",
       "AGRDRG~TEAFF                                  0        0       \n",
       "C*GG~LFF                                      0        0       \n",
       "C*GRWGRRRNSG~PFPLCSYNEQFF                     0        0       "
      ]
     },
     "metadata": {},
     "output_type": "display_data"
    }
   ],
   "source": [
    "head(sharedptsmat)"
   ]
  },
  {
   "cell_type": "code",
   "execution_count": 84,
   "metadata": {},
   "outputs": [],
   "source": [
    "write.csv(sharedptsmat, \n",
    "          file = paste0(datapath,\"sharedclonotypes_by_patients.csv\"))"
   ]
  },
  {
   "cell_type": "code",
   "execution_count": null,
   "metadata": {},
   "outputs": [],
   "source": []
  },
  {
   "cell_type": "code",
   "execution_count": 56,
   "metadata": {},
   "outputs": [],
   "source": [
    "# Heatmap of shared clonotypes"
   ]
  },
  {
   "cell_type": "code",
   "execution_count": 59,
   "metadata": {},
   "outputs": [],
   "source": [
    "sharedptsmat_supercommmon <- sharedptsmat[rowSums(sharedptsmat) > 50,]"
   ]
  },
  {
   "cell_type": "code",
   "execution_count": 60,
   "metadata": {},
   "outputs": [
    {
     "data": {
      "text/html": [
       "<ol class=list-inline>\n",
       "\t<li>11</li>\n",
       "\t<li>269</li>\n",
       "</ol>\n"
      ],
      "text/latex": [
       "\\begin{enumerate*}\n",
       "\\item 11\n",
       "\\item 269\n",
       "\\end{enumerate*}\n"
      ],
      "text/markdown": [
       "1. 11\n",
       "2. 269\n",
       "\n",
       "\n"
      ],
      "text/plain": [
       "[1]  11 269"
      ]
     },
     "metadata": {},
     "output_type": "display_data"
    }
   ],
   "source": [
    "dim(sharedptsmat_supercommmon)"
   ]
  },
  {
   "cell_type": "code",
   "execution_count": 61,
   "metadata": {},
   "outputs": [
    {
     "name": "stderr",
     "output_type": "stream",
     "text": [
      "Loading required package: grid\n",
      "========================================\n",
      "ComplexHeatmap version 1.99.5\n",
      "Bioconductor page: http://bioconductor.org/packages/ComplexHeatmap/\n",
      "Github page: https://github.com/jokergoo/ComplexHeatmap\n",
      "Documentation: http://jokergoo.github.io/ComplexHeatmap-reference\n",
      "\n",
      "If you use it in published research, please cite:\n",
      "Gu, Z. Complex heatmaps reveal patterns and correlations in multidimensional \n",
      "  genomic data. Bioinformatics 2016.\n",
      "========================================\n",
      "\n",
      "This version is a major update of the package. The major new features are:\n",
      "\n",
      "1. Support splitting heatmaps by columns.\n",
      "2. Support concatenating heatmaps/annotations vertically.\n",
      "3. Provide more types of heatmap annotations.\n",
      "4. Support UpSet plot.\n",
      "\n",
      "Note this version is not 100% compatible with the older versions (< 1.99.0).\n",
      "Please check by `vignette('difference_to_old_versions', package = 'ComplexHeatmap')`.\n",
      "\n",
      "Above messages will be removed in the future.\n",
      "\n"
     ]
    }
   ],
   "source": [
    "library(ComplexHeatmap)"
   ]
  },
  {
   "cell_type": "code",
   "execution_count": 81,
   "metadata": {},
   "outputs": [],
   "source": [
    "heatmap_mat = Heatmap(sharedptsmat_supercommmon,\n",
    "                      name = \"Shared clonotypes\",   \n",
    "                      #format rows\n",
    "                      row_names_gp = gpar(fontsize = 1),                      \n",
    "                      cluster_rows = TRUE,\n",
    "                      show_row_dend = FALSE,                      \n",
    "                      #format cols\n",
    "                      show_column_dend = FALSE, \n",
    "                      column_dend_height = unit(10, \"mm\"),\n",
    "                      cluster_columns = TRUE,\n",
    "                      column_names_gp = gpar(fontsize = 5), \n",
    "                      rect_gp = gpar(col = \"black\"), \n",
    "                      #legend\n",
    "                      show_heatmap_legend = FALSE,\n",
    "                      heatmap_legend_param = list(labels_gp = gpar(fontsize = 5)))"
   ]
  },
  {
   "cell_type": "code",
   "execution_count": 82,
   "metadata": {},
   "outputs": [
    {
     "data": {
      "image/png": "[encoded data removed]",
      "text/plain": [
       "plot without title"
      ]
     },
     "metadata": {},
     "output_type": "display_data"
    }
   ],
   "source": [
    "heatmap_mat"
   ]
  },
  {
   "cell_type": "code",
   "execution_count": 83,
   "metadata": {},
   "outputs": [
    {
     "data": {
      "text/html": [
       "<strong>pdf:</strong> 2"
      ],
      "text/latex": [
       "\\textbf{pdf:} 2"
      ],
      "text/markdown": [
       "**pdf:** 2"
      ],
      "text/plain": [
       "pdf \n",
       "  2 "
      ]
     },
     "metadata": {},
     "output_type": "display_data"
    }
   ],
   "source": [
    "if(file.exists(paste0(plotpath, \"commonclonotypesheatmap.pdf\"))){\n",
    "    message(\"file exists!\")\n",
    "} else{\n",
    "\n",
    "    pdf(file = paste(plotpath,\"commonclonotypesheatmap.pdf\", sep = \"\"),\n",
    "    width = 15, \n",
    "    height = 15,\n",
    "    useDingbats = FALSE)\n",
    "    print(heatmap_mat)\n",
    "    dev.off()\n",
    "}"
   ]
  },
  {
   "cell_type": "code",
   "execution_count": null,
   "metadata": {},
   "outputs": [],
   "source": []
  }
 ],
 "metadata": {
  "kernelspec": {
   "display_name": "R 4.0",
   "language": "R",
   "name": "ir40"
  },
  "language_info": {
   "codemirror_mode": "r",
   "file_extension": ".r",
   "mimetype": "text/x-r-source",
   "name": "R",
   "pygments_lexer": "r",
   "version": "4.0.3"
  },
  "toc": {
   "base_numbering": 1,
   "nav_menu": {},
   "number_sections": false,
   "sideBar": true,
   "skip_h1_title": false,
   "title_cell": "Table of Contents",
   "title_sidebar": "Contents",
   "toc_cell": true,
   "toc_position": {
    "height": "calc(100% - 180px)",
    "left": "10px",
    "top": "150px",
    "width": "244px"
   },
   "toc_section_display": true,
   "toc_window_display": true
  }
 },
 "nbformat": 4,
 "nbformat_minor": 2
}
