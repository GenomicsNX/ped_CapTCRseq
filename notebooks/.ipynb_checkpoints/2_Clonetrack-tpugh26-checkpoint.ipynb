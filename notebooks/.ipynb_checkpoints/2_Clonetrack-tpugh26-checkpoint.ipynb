{
 "cells": [
  {
   "cell_type": "markdown",
   "metadata": {
    "toc": true
   },
   "source": [
    "<h1>Table of Contents<span class=\"tocSkip\"></span></h1>\n",
    "<div class=\"toc\"><ul class=\"toc-item\"><li><span><a href=\"#Dependencies\" data-toc-modified-id=\"Dependencies-1\">Dependencies</a></span></li><li><span><a href=\"#Functions\" data-toc-modified-id=\"Functions-2\">Functions</a></span></li><li><span><a href=\"#Paths\" data-toc-modified-id=\"Paths-3\">Paths</a></span></li><li><span><a href=\"#Main\" data-toc-modified-id=\"Main-4\">Main</a></span><ul class=\"toc-item\"><li><span><a href=\"#NB-samples\" data-toc-modified-id=\"NB-samples-4.1\">NB samples</a></span></li><li><span><a href=\"#418\" data-toc-modified-id=\"418-4.2\">418</a></span></li><li><span><a href=\"#385\" data-toc-modified-id=\"385-4.3\">385</a></span></li><li><span><a href=\"#Make-list-of-files-for-pbmc-and-cfdna\" data-toc-modified-id=\"Make-list-of-files-for-pbmc-and-cfdna-4.4\">Make list of files for pbmc and cfdna</a></span></li><li><span><a href=\"#PBMCs\" data-toc-modified-id=\"PBMCs-4.5\">PBMCs</a></span></li><li><span><a href=\"#cfDNA\" data-toc-modified-id=\"cfDNA-4.6\">cfDNA</a></span></li><li><span><a href=\"#PBMCs-and-cfDNA\" data-toc-modified-id=\"PBMCs-and-cfDNA-4.7\">PBMCs and cfDNA</a></span></li><li><span><a href=\"#Tumour-and-PBMCs\" data-toc-modified-id=\"Tumour-and-PBMCs-4.8\">Tumour and PBMCs</a></span><ul class=\"toc-item\"><li><span><a href=\"#407-DLBCL\" data-toc-modified-id=\"407-DLBCL-4.8.1\">407 DLBCL</a></span></li><li><span><a href=\"#404-ERMS\" data-toc-modified-id=\"404-ERMS-4.8.2\">404 ERMS</a></span></li><li><span><a href=\"#394-ERMS\" data-toc-modified-id=\"394-ERMS-4.8.3\">394 ERMS</a></span></li><li><span><a href=\"#372-BL\" data-toc-modified-id=\"372-BL-4.8.4\">372 BL</a></span></li><li><span><a href=\"#370-ALCL\" data-toc-modified-id=\"370-ALCL-4.8.5\">370 ALCL</a></span></li><li><span><a href=\"#364-OS\" data-toc-modified-id=\"364-OS-4.8.6\">364 OS</a></span></li><li><span><a href=\"#361-HD\" data-toc-modified-id=\"361-HD-4.8.7\">361 HD</a></span></li></ul></li><li><span><a href=\"#Tumour-and-cfDNA\" data-toc-modified-id=\"Tumour-and-cfDNA-4.9\">Tumour and cfDNA</a></span><ul class=\"toc-item\"><li><span><a href=\"#361-HD\" data-toc-modified-id=\"361-HD-4.9.1\">361 HD</a></span></li><li><span><a href=\"#370-ALCL\" data-toc-modified-id=\"370-ALCL-4.9.2\">370 ALCL</a></span></li><li><span><a href=\"#372\" data-toc-modified-id=\"372-4.9.3\">372</a></span></li><li><span><a href=\"#401\" data-toc-modified-id=\"401-4.9.4\">401</a></span></li><li><span><a href=\"#380\" data-toc-modified-id=\"380-4.9.5\">380</a></span></li><li><span><a href=\"#Some-plots\" data-toc-modified-id=\"Some-plots-4.9.6\">Some plots</a></span></li></ul></li><li><span><a href=\"#Test\" data-toc-modified-id=\"Test-4.10\">Test</a></span></li></ul></li></ul></div>"
   ]
  },
  {
   "cell_type": "markdown",
   "metadata": {},
   "source": [
    "# Dependencies"
   ]
  },
  {
   "cell_type": "code",
   "execution_count": 1,
   "metadata": {
    "scrolled": true
   },
   "outputs": [
    {
     "name": "stderr",
     "output_type": "stream",
     "text": [
      "Loading required package: ggplot2\n",
      "\n"
     ]
    }
   ],
   "source": [
    "library(ggalluvial)\n",
    "library(randomcoloR)"
   ]
  },
  {
   "cell_type": "markdown",
   "metadata": {},
   "source": [
    "# Functions"
   ]
  },
  {
   "cell_type": "code",
   "execution_count": 2,
   "metadata": {},
   "outputs": [],
   "source": [
    "cdr3_dataframe.fx <- function(datapath, chain, filelist, totalinframe){\n",
    "\n",
    "  if (!(totalinframe %in% c(\"total\", \"inframe\"))) {\n",
    "    stop(\"Error: unknown argument \", totalinframe, \". Please provide either total (for all clonotypes) or inframe (for in-frame clonotypes only)\")\n",
    "  }\n",
    "\n",
    "  # Ensure only one chain is included\n",
    "  filelist <- filelist[grepl(chain, filelist)]\n",
    "\n",
    "  #Compile a big file with patient's mixcr files\n",
    "  i <- 1\n",
    "  for (f in filelist){\n",
    "    mixcrfle <- read.table(paste(datapath, f, sep = \"\"),\n",
    "                           header = TRUE, sep = \"\\t\",\n",
    "                           stringsAsFactors = FALSE,\n",
    "                           na.strings = c(\"\", \"NA\"))\n",
    "    if(i == 1){\n",
    "      compldfle <- mixcrfle\n",
    "      compldfle <- cbind(cloneno = row.names(compldfle), filename = f, compldfle)\n",
    "      i <- i + 1\n",
    "    }\n",
    "    else{\n",
    "      compldfle1 <- mixcrfle\n",
    "      compldfle1 <- cbind(cloneno = row.names(compldfle1), filename = f, compldfle1)\n",
    "      compldfle <- rbind(compldfle, compldfle1)\n",
    "      rm(compldfle1)\n",
    "    }\n",
    "  }\n",
    "  myfiles <- unique(as.character(compldfle$filename))\n",
    "  message(\"my files:\")\n",
    "  print(myfiles)\n",
    "\n",
    "  message(\"Total recovered clonotypes:\")\n",
    "  print(length(compldfle$aaSeqCDR3))\n",
    "\n",
    "  message(\"Total out-of-frame clonotypes:\")\n",
    "  print(length(compldfle$aaSeqCDR3[grepl(\"_\", compldfle$aaSeqCDR3)]))\n",
    "  message(\"Total clonotypes with stop codon:\")\n",
    "  print(length(compldfle$aaSeqCDR3[grepl(\"[*]\", compldfle$aaSeqCDR3) &\n",
    "                                     !grepl(\"_\", compldfle$aaSeqCDR3)]))\n",
    "\n",
    "  #make samplename column\n",
    "  compldfle$filename <- as.character(compldfle$filename)\n",
    "  compldfle$samplename <- gsub(\".*.CLONES_\",\"\", compldfle$filename)\n",
    "\n",
    "  # remove out-of-frame clonotypes and those with stop codon\n",
    "  compldfle_clean <- compldfle[!grepl(\"_\", compldfle$aaSeqCDR3) &\n",
    "                                 !grepl(\"[*]\", compldfle$aaSeqCDR3),]\n",
    "  #Recalculate cloneFraction for each file\n",
    "  compldfle_clean$cloneFraction <- NA\n",
    "  for(f in myfiles){\n",
    "    compldfle_clean$cloneFraction[compldfle_clean$filename == f] <- compldfle_clean$cloneCount[compldfle_clean$filename == f]/sum(compldfle_clean$cloneCount[compldfle_clean$filename == f])\n",
    "  }\n",
    "\n",
    "  message(\"Total productive clonotypes:\")\n",
    "  print(length(compldfle_clean$aaSeqCDR3))\n",
    "\n",
    "  if(totalinframe == \"inframe\"){\n",
    "    message(\"Output contains in_frame clonotypes only\")\n",
    "    return(compldfle_clean)}\n",
    "  if(totalinframe == \"total\"){\n",
    "    message(\"Output contains all clonotypes\")\n",
    "    return(compldfle)}\n",
    "}"
   ]
  },
  {
   "cell_type": "code",
   "execution_count": 3,
   "metadata": {},
   "outputs": [],
   "source": [
    "plot_clonetracks.fx <- function(compldfle, plotpath, chain, countfrac, clnefrc){\n",
    "  \n",
    "  if (!(countfrac %in% c(\"cloneFraction\", \"cloneCount\"))) {\n",
    "    stop(\"Error: unknown argument \", countfrac, \". Please provide either cloneFraction or cloneCount.\")\n",
    "  }  \n",
    "  \n",
    "  message(\"list of samples to track clones: \")\n",
    "  mysamples <- unique(compldfle$samplename)\n",
    "  print(mysamples)\n",
    "  \n",
    "# Subset df\n",
    "  CDR3_fraction <- compldfle[, c(\"samplename\",\"nSeqCDR3\",\"cloneFraction\", \"cloneCount\")]\n",
    "# Subset to include only clonotypes with more than specified clonal fraction    \n",
    "  CDR3_fraction <- CDR3_fraction[CDR3_fraction$cloneFraction > clnefrc,] \n",
    "  \n",
    "#Assign colors to recurring nt clonotypes\n",
    "  recurring <- unique(CDR3_fraction$nSeqCDR3[duplicated(CDR3_fraction$nSeqCDR3)])\n",
    "  notrecurring <- CDR3_fraction$nSeqCDR3[!CDR3_fraction$nSeqCDR3 %in% recurring]\n",
    "  \n",
    "  message(\"Total number of recurring clonotypes: \")     \n",
    "  print(length(recurring))\n",
    "  \n",
    "  if(length(recurring) == 0){\n",
    "#Introduce a dummy common cdr3 dataframe for alluvia \n",
    "    mydummy_df <- as.data.frame(matrix(ncol = 4, nrow = length(mysamples)))\n",
    "    colnames(mydummy_df) <- colnames(CDR3_fraction)\n",
    "    \n",
    "    mydummy_df$samplename <- mysamples\n",
    "    mydummy_df$nSeqCDR3 <-  \"XXXXX\"\n",
    "    mydummy_df$cloneFraction <- 0\n",
    "    mydummy_df$cloneCount <- 0     \n",
    "    CDR3_fraction <- rbind(CDR3_fraction, mydummy_df)\n",
    "    \n",
    "    recurring <- \"XXXXX\"\n",
    "  }\n",
    "    \n",
    "  if(length(recurring) > 50){\n",
    "    recurring_df <- CDR3_fraction[CDR3_fraction$nSeqCDR3 %in% recurring,]\n",
    "    recurringcdr3_ordered <- unique(recurring_df$nSeqCDR3[order(recurring_df$cloneCount, decreasing = TRUE)])\n",
    "    message(\"Total number of recurring clonotypes > 50 \")   \n",
    "    message(\"Tracking top 10 recurring clonotypes \")  \n",
    "    myColors <- distinctColorPalette(10)\n",
    "    \n",
    "    myColors <- c(myColors, rep(\"white\",length(recurring)-10),\n",
    "                  rep(\"white\",length(notrecurring)))\n",
    "    names(myColors) <- c(recurringcdr3_ordered, notrecurring)\n",
    "    \n",
    "    message(\"these are what we color: \")  \n",
    "    print(myColors[myColors != \"white\"])         \n",
    "  }\n",
    "  else{\n",
    "    myColors <- distinctColorPalette(length(recurring))\n",
    "    myColors <- c(myColors, rep(\"white\",length(notrecurring)))\n",
    "    names(myColors) <- c(recurring, notrecurring)\n",
    "    \n",
    "    myColors[names(myColors) == \"XXXXX\"] <- \"white\"\n",
    "    \n",
    "    message(\"these are what we color: \")  \n",
    "    print(myColors[myColors != \"white\"]) \n",
    "  }\n",
    "  \n",
    "# Generate a row for each sample that doesnot have recurring clonotype\n",
    "## This ensures alluvia are colored\n",
    "  \n",
    "  for(c in recurring){\n",
    "    tmp <- CDR3_fraction[CDR3_fraction$nSeqCDR3 == c,]\n",
    "    nonexsiting <- mysamples[!mysamples %in% tmp$samplename]\n",
    "    if(length(nonexsiting) > 0){\n",
    "      newentries <- data.frame(\"samplename\" = nonexsiting, \"nSeqCDR3\" = c, \n",
    "                               \"cloneFraction\" = 0, \"cloneCount\" = 0)\n",
    "      CDR3_fraction <- rbind(CDR3_fraction, newentries)\n",
    "    }\n",
    "  }\n",
    "  \n",
    "  \n",
    "  p <-  ggplot(CDR3_fraction, aes(x = samplename, \n",
    "                                  y = eval(as.name(countfrac)),\n",
    "                                  fill = nSeqCDR3,\n",
    "                                  stratum = nSeqCDR3,\n",
    "                                  alluvium = nSeqCDR3,\n",
    "                                  label = nSeqCDR3))\n",
    "  \n",
    "  myp <- p + geom_alluvium(decreasing = FALSE) + \n",
    "    geom_stratum(decreasing = FALSE, stat = \"alluvium\") + \n",
    "    scale_fill_manual(breaks = names(myColors[myColors != \"white\"]),\n",
    "                      values = myColors) +\n",
    "    theme(axis.title.y = element_text(size = 50),\n",
    "          axis.title.x = element_blank(),\n",
    "          axis.line = element_line(color = \"black\"),\n",
    "          axis.text = element_text(size = 50),\n",
    "          axis.text.x = element_text(angle = 45, hjust = 1)) +\n",
    "    theme(panel.grid.major = element_blank(),\n",
    "          panel.grid.minor = element_blank(),\n",
    "          panel.background = element_rect(fill = \"transparent\",colour = NA),\n",
    "          legend.key = element_rect(fill = \"white\", colour = \"white\"),\n",
    "          legend.position = \"none\",\n",
    "          plot.margin = unit(c(0.2,0,0,0),\"cm\")) + \n",
    "    labs(y = countfrac) \n",
    "  \n",
    "  pdf(paste0(plotpath, \"clonetrack_cfDNA\", mysamples[1],\n",
    "             chain, countfrac, \".pdf\"),\n",
    "      width = 15, \n",
    "      height = 20,\n",
    "      useDingbats = FALSE,\n",
    "      onefile = FALSE)       \n",
    "  print(myp)  \n",
    "  dev.off()      \n",
    "  \n",
    "}"
   ]
  },
  {
   "cell_type": "markdown",
   "metadata": {},
   "source": [
    "# Paths"
   ]
  },
  {
   "cell_type": "code",
   "execution_count": 4,
   "metadata": {},
   "outputs": [],
   "source": [
    "datapath <- \"/Users/anabbi/OneDrive - UHN/Documents/INTERCEPT/Data/\"\n",
    "mountpath <- \"/Users/anabbi/Desktop/H4H/INTERCEPT/NextSeq/\"\n",
    "plotpath <- \"/Users/anabbi/OneDrive - UHN/Documents/INTERCEPT/Plots/\""
   ]
  },
  {
   "cell_type": "markdown",
   "metadata": {},
   "source": [
    "# Main"
   ]
  },
  {
   "cell_type": "code",
   "execution_count": 5,
   "metadata": {},
   "outputs": [],
   "source": [
    "masterfile <- read.csv(paste0(datapath, \"INT_metadata_flow.csv\"),header = T, check.names = F,\n",
    "                      colClasses = c(\"Patient\" = \"character\", \"cycle\" = \"character\"))"
   ]
  },
  {
   "cell_type": "code",
   "execution_count": 6,
   "metadata": {},
   "outputs": [
    {
     "data": {
      "text/html": [
       "<style>\n",
       ".list-inline {list-style: none; margin:0; padding: 0}\n",
       ".list-inline>li {display: inline-block}\n",
       ".list-inline>li:not(:last-child)::after {content: \"\\00b7\"; padding: 0 .5ex}\n",
       "</style>\n",
       "<ol class=list-inline><li>'346'</li><li>'346'</li><li>'346'</li><li>'346'</li><li>'346'</li><li>'379'</li><li>'379'</li><li>'379'</li><li>'379'</li><li>'379'</li><li>'385'</li><li>'385'</li><li>'385'</li><li>'385'</li><li>'385'</li><li>'418'</li><li>'418'</li><li>'418'</li><li>'418'</li><li>'418'</li></ol>\n"
      ],
      "text/latex": [
       "\\begin{enumerate*}\n",
       "\\item '346'\n",
       "\\item '346'\n",
       "\\item '346'\n",
       "\\item '346'\n",
       "\\item '346'\n",
       "\\item '379'\n",
       "\\item '379'\n",
       "\\item '379'\n",
       "\\item '379'\n",
       "\\item '379'\n",
       "\\item '385'\n",
       "\\item '385'\n",
       "\\item '385'\n",
       "\\item '385'\n",
       "\\item '385'\n",
       "\\item '418'\n",
       "\\item '418'\n",
       "\\item '418'\n",
       "\\item '418'\n",
       "\\item '418'\n",
       "\\end{enumerate*}\n"
      ],
      "text/markdown": [
       "1. '346'\n",
       "2. '346'\n",
       "3. '346'\n",
       "4. '346'\n",
       "5. '346'\n",
       "6. '379'\n",
       "7. '379'\n",
       "8. '379'\n",
       "9. '379'\n",
       "10. '379'\n",
       "11. '385'\n",
       "12. '385'\n",
       "13. '385'\n",
       "14. '385'\n",
       "15. '385'\n",
       "16. '418'\n",
       "17. '418'\n",
       "18. '418'\n",
       "19. '418'\n",
       "20. '418'\n",
       "\n",
       "\n"
      ],
      "text/plain": [
       " [1] \"346\" \"346\" \"346\" \"346\" \"346\" \"379\" \"379\" \"379\" \"379\" \"379\" \"385\" \"385\"\n",
       "[13] \"385\" \"385\" \"385\" \"418\" \"418\" \"418\" \"418\" \"418\""
      ]
     },
     "metadata": {},
     "output_type": "display_data"
    }
   ],
   "source": [
    "masterfile$Patient[masterfile$Disease_type == \"NB\"]"
   ]
  },
  {
   "cell_type": "code",
   "execution_count": null,
   "metadata": {},
   "outputs": [],
   "source": [
    "flelst <- list.files(mountpath, recursive = TRUE, pattern = \"CLONES_TRA\")\n",
    "flelst <- flelst[!grepl(\"GLIPH\", flelst)]"
   ]
  },
  {
   "cell_type": "code",
   "execution_count": null,
   "metadata": {},
   "outputs": [],
   "source": [
    "flelst <- flelst[grepl(\"2000000\", flelst)]"
   ]
  },
  {
   "cell_type": "code",
   "execution_count": null,
   "metadata": {},
   "outputs": [],
   "source": [
    "flelst_pbmc <- flelst[grepl(\"PBMC\", flelst)]\n",
    "flelst_cfDNA <- flelst[grepl(\"cfDNA\", flelst)]\n",
    "flelst_ffpe <- flelst[grepl(\"FFPE\", flelst)]"
   ]
  },
  {
   "cell_type": "code",
   "execution_count": null,
   "metadata": {},
   "outputs": [],
   "source": [
    "flelst_pbmc"
   ]
  },
  {
   "cell_type": "markdown",
   "metadata": {},
   "source": [
    "## NB samples"
   ]
  },
  {
   "cell_type": "code",
   "execution_count": null,
   "metadata": {},
   "outputs": [],
   "source": [
    "nb_ids <- c(\"CHP_346\", \"CHP_379\",\"CHP_385\",\"CHP_418\")"
   ]
  },
  {
   "cell_type": "code",
   "execution_count": null,
   "metadata": {},
   "outputs": [],
   "source": [
    "nb_pbmc <- flelst_pbmc[grep(paste(nb_ids,collapse=\"|\"),flelst_pbmc)]\n",
    "nb_cfdna <- flelst_cfDNA[grep(paste(nb_ids,collapse=\"|\"),flelst_cfDNA)]\n",
    "nb_ffpe <- flelst_ffpe[grep(paste(nb_ids,collapse=\"|\"),flelst_ffpe)]"
   ]
  },
  {
   "cell_type": "code",
   "execution_count": null,
   "metadata": {},
   "outputs": [],
   "source": [
    "nb_ffpe"
   ]
  },
  {
   "cell_type": "code",
   "execution_count": null,
   "metadata": {},
   "outputs": [],
   "source": [
    "nb_cfdna"
   ]
  },
  {
   "cell_type": "markdown",
   "metadata": {},
   "source": [
    "## 418"
   ]
  },
  {
   "cell_type": "code",
   "execution_count": null,
   "metadata": {},
   "outputs": [],
   "source": [
    "ffpefile <- nb_ffpe\n",
    "pbmcfile <- nb_pbmc[grepl(\"418\", nb_pbmc)]\n",
    "files418 <- c(ffpefile, pbmcfile)"
   ]
  },
  {
   "cell_type": "code",
   "execution_count": null,
   "metadata": {},
   "outputs": [],
   "source": [
    "files418"
   ]
  },
  {
   "cell_type": "code",
   "execution_count": null,
   "metadata": {},
   "outputs": [],
   "source": [
    "cdr3df <- cdr3_dataframe.fx(mountpath, \"TRA\", files418, \"inframe\")"
   ]
  },
  {
   "cell_type": "code",
   "execution_count": null,
   "metadata": {},
   "outputs": [],
   "source": []
  },
  {
   "cell_type": "code",
   "execution_count": null,
   "metadata": {},
   "outputs": [],
   "source": []
  },
  {
   "cell_type": "code",
   "execution_count": null,
   "metadata": {},
   "outputs": [],
   "source": []
  },
  {
   "cell_type": "code",
   "execution_count": 78,
   "metadata": {},
   "outputs": [],
   "source": [
    "cdr3df$samplename <- gsub(\"-DNA_2000000.txt\", \"\", cdr3df$samplename)\n",
    "cdr3df$samplename <- gsub(\"-DNA_S2_2000000.txt\", \"\", cdr3df$samplename)\n",
    "cdr3df$samplename <- gsub(\"TRA\", \"\", cdr3df$samplename)"
   ]
  },
  {
   "cell_type": "code",
   "execution_count": 79,
   "metadata": {},
   "outputs": [
    {
     "data": {
      "text/plain": [
       "\n",
       "CHP_418-01-PBMC    CHP_418-FFPE \n",
       "            372               6 "
      ]
     },
     "metadata": {},
     "output_type": "display_data"
    }
   ],
   "source": [
    "table(cdr3df$samplename)"
   ]
  },
  {
   "cell_type": "code",
   "execution_count": 80,
   "metadata": {},
   "outputs": [],
   "source": [
    "cdr3df$samplename <- factor(cdr3df$samplename, levels = c(\"CHP_418-FFPE\", \"CHP_418-01-PBMC\"))"
   ]
  },
  {
   "cell_type": "code",
   "execution_count": 81,
   "metadata": {},
   "outputs": [
    {
     "name": "stderr",
     "output_type": "stream",
     "text": [
      "list of samples to track clones: \n",
      "\n"
     ]
    },
    {
     "name": "stdout",
     "output_type": "stream",
     "text": [
      "[1] CHP_418-FFPE    CHP_418-01-PBMC\n",
      "Levels: CHP_418-FFPE CHP_418-01-PBMC\n"
     ]
    },
    {
     "name": "stderr",
     "output_type": "stream",
     "text": [
      "Total number of recurring clonotypes: \n",
      "\n"
     ]
    },
    {
     "name": "stdout",
     "output_type": "stream",
     "text": [
      "[1] 0\n"
     ]
    },
    {
     "name": "stderr",
     "output_type": "stream",
     "text": [
      "these are what we color: \n",
      "\n"
     ]
    },
    {
     "name": "stdout",
     "output_type": "stream",
     "text": [
      "named character(0)\n"
     ]
    },
    {
     "data": {
      "text/html": [
       "<strong>pdf:</strong> 2"
      ],
      "text/latex": [
       "\\textbf{pdf:} 2"
      ],
      "text/markdown": [
       "**pdf:** 2"
      ],
      "text/plain": [
       "pdf \n",
       "  2 "
      ]
     },
     "metadata": {},
     "output_type": "display_data"
    }
   ],
   "source": [
    "plot_clonetracks.fx(cdr3df, plotpath, \"TRA\", \"cloneFraction\", 0)"
   ]
  },
  {
   "cell_type": "markdown",
   "metadata": {},
   "source": [
    "\n",
    "## 385"
   ]
  },
  {
   "cell_type": "code",
   "execution_count": 89,
   "metadata": {},
   "outputs": [],
   "source": [
    "files385 <- nb_cfdna[grepl(\"385\", nb_cfdna)]"
   ]
  },
  {
   "cell_type": "code",
   "execution_count": 90,
   "metadata": {},
   "outputs": [],
   "source": [
    "pbmcfile <- nb_pbmc[grepl(\"385\", nb_pbmc)]\n",
    "files385 <- c(files385, pbmcfile)"
   ]
  },
  {
   "cell_type": "code",
   "execution_count": 91,
   "metadata": {},
   "outputs": [
    {
     "data": {
      "text/html": [
       "<style>\n",
       ".list-inline {list-style: none; margin:0; padding: 0}\n",
       ".list-inline>li {display: inline-block}\n",
       ".list-inline>li:not(:last-child)::after {content: \"\\00b7\"; padding: 0 .5ex}\n",
       "</style>\n",
       "<ol class=list-inline><li>'batch7_cfDNA_29Jun2020/ds_batch7_cfdna/clones/CLONES_TRACHP_385-01_cfDNA_2000000.txt'</li><li>'batch7_cfDNA_29Jun2020/ds_batch7_cfdna/clones/CLONES_TRACHP_385-02_cfDNA_2000000.txt'</li><li>'batch7_cfDNA_29Jun2020/ds_batch7_cfdna/clones/CLONES_TRACHP_385-03_cfDNA_2000000.txt'</li><li>'batch8_14Jan2020/ds_batch8/clones/CLONES_TRACHP_385-03-PBMC-DNA_2000000.txt'</li></ol>\n"
      ],
      "text/latex": [
       "\\begin{enumerate*}\n",
       "\\item 'batch7\\_cfDNA\\_29Jun2020/ds\\_batch7\\_cfdna/clones/CLONES\\_TRACHP\\_385-01\\_cfDNA\\_2000000.txt'\n",
       "\\item 'batch7\\_cfDNA\\_29Jun2020/ds\\_batch7\\_cfdna/clones/CLONES\\_TRACHP\\_385-02\\_cfDNA\\_2000000.txt'\n",
       "\\item 'batch7\\_cfDNA\\_29Jun2020/ds\\_batch7\\_cfdna/clones/CLONES\\_TRACHP\\_385-03\\_cfDNA\\_2000000.txt'\n",
       "\\item 'batch8\\_14Jan2020/ds\\_batch8/clones/CLONES\\_TRACHP\\_385-03-PBMC-DNA\\_2000000.txt'\n",
       "\\end{enumerate*}\n"
      ],
      "text/markdown": [
       "1. 'batch7_cfDNA_29Jun2020/ds_batch7_cfdna/clones/CLONES_TRACHP_385-01_cfDNA_2000000.txt'\n",
       "2. 'batch7_cfDNA_29Jun2020/ds_batch7_cfdna/clones/CLONES_TRACHP_385-02_cfDNA_2000000.txt'\n",
       "3. 'batch7_cfDNA_29Jun2020/ds_batch7_cfdna/clones/CLONES_TRACHP_385-03_cfDNA_2000000.txt'\n",
       "4. 'batch8_14Jan2020/ds_batch8/clones/CLONES_TRACHP_385-03-PBMC-DNA_2000000.txt'\n",
       "\n",
       "\n"
      ],
      "text/plain": [
       "[1] \"batch7_cfDNA_29Jun2020/ds_batch7_cfdna/clones/CLONES_TRACHP_385-01_cfDNA_2000000.txt\"\n",
       "[2] \"batch7_cfDNA_29Jun2020/ds_batch7_cfdna/clones/CLONES_TRACHP_385-02_cfDNA_2000000.txt\"\n",
       "[3] \"batch7_cfDNA_29Jun2020/ds_batch7_cfdna/clones/CLONES_TRACHP_385-03_cfDNA_2000000.txt\"\n",
       "[4] \"batch8_14Jan2020/ds_batch8/clones/CLONES_TRACHP_385-03-PBMC-DNA_2000000.txt\"         "
      ]
     },
     "metadata": {},
     "output_type": "display_data"
    }
   ],
   "source": [
    "files385"
   ]
  },
  {
   "cell_type": "code",
   "execution_count": 92,
   "metadata": {},
   "outputs": [
    {
     "name": "stderr",
     "output_type": "stream",
     "text": [
      "my files:\n",
      "\n"
     ]
    },
    {
     "name": "stdout",
     "output_type": "stream",
     "text": [
      "[1] \"batch7_cfDNA_29Jun2020/ds_batch7_cfdna/clones/CLONES_TRACHP_385-01_cfDNA_2000000.txt\"\n",
      "[2] \"batch7_cfDNA_29Jun2020/ds_batch7_cfdna/clones/CLONES_TRACHP_385-02_cfDNA_2000000.txt\"\n",
      "[3] \"batch7_cfDNA_29Jun2020/ds_batch7_cfdna/clones/CLONES_TRACHP_385-03_cfDNA_2000000.txt\"\n",
      "[4] \"batch8_14Jan2020/ds_batch8/clones/CLONES_TRACHP_385-03-PBMC-DNA_2000000.txt\"         \n"
     ]
    },
    {
     "name": "stderr",
     "output_type": "stream",
     "text": [
      "Total recovered clonotypes:\n",
      "\n"
     ]
    },
    {
     "name": "stdout",
     "output_type": "stream",
     "text": [
      "[1] 44\n"
     ]
    },
    {
     "name": "stderr",
     "output_type": "stream",
     "text": [
      "Total out-of-frame clonotypes:\n",
      "\n"
     ]
    },
    {
     "name": "stdout",
     "output_type": "stream",
     "text": [
      "[1] 20\n"
     ]
    },
    {
     "name": "stderr",
     "output_type": "stream",
     "text": [
      "Total clonotypes with stop codon:\n",
      "\n"
     ]
    },
    {
     "name": "stdout",
     "output_type": "stream",
     "text": [
      "[1] 3\n"
     ]
    },
    {
     "name": "stderr",
     "output_type": "stream",
     "text": [
      "Total productive clonotypes:\n",
      "\n"
     ]
    },
    {
     "name": "stdout",
     "output_type": "stream",
     "text": [
      "[1] 21\n"
     ]
    },
    {
     "name": "stderr",
     "output_type": "stream",
     "text": [
      "Output contains in_frame clonotypes only\n",
      "\n"
     ]
    }
   ],
   "source": [
    "cdr3df <- cdr3_dataframe.fx(mountpath, \"TRA\", files385, \"inframe\")"
   ]
  },
  {
   "cell_type": "code",
   "execution_count": 93,
   "metadata": {},
   "outputs": [],
   "source": [
    "cdr3df$samplename <- gsub(\"_2000000.txt\", \"\", cdr3df$samplename)\n",
    "cdr3df$samplename <- gsub(\"-DNA_2000000.txt\", \"\", cdr3df$samplename)\n",
    "cdr3df$samplename <- gsub(\"TRA\", \"\", cdr3df$samplename)"
   ]
  },
  {
   "cell_type": "code",
   "execution_count": 94,
   "metadata": {},
   "outputs": [
    {
     "data": {
      "text/plain": [
       "\n",
       "   CHP_385-01_cfDNA    CHP_385-02_cfDNA    CHP_385-03_cfDNA CHP_385-03-PBMC-DNA \n",
       "                  2                   6                   3                  10 "
      ]
     },
     "metadata": {},
     "output_type": "display_data"
    }
   ],
   "source": [
    "table(cdr3df$samplename)"
   ]
  },
  {
   "cell_type": "code",
   "execution_count": 95,
   "metadata": {},
   "outputs": [
    {
     "name": "stderr",
     "output_type": "stream",
     "text": [
      "list of samples to track clones: \n",
      "\n"
     ]
    },
    {
     "name": "stdout",
     "output_type": "stream",
     "text": [
      "[1] \"CHP_385-01_cfDNA\"    \"CHP_385-02_cfDNA\"    \"CHP_385-03_cfDNA\"   \n",
      "[4] \"CHP_385-03-PBMC-DNA\"\n"
     ]
    },
    {
     "name": "stderr",
     "output_type": "stream",
     "text": [
      "Total number of recurring clonotypes: \n",
      "\n"
     ]
    },
    {
     "name": "stdout",
     "output_type": "stream",
     "text": [
      "[1] 1\n"
     ]
    },
    {
     "name": "stderr",
     "output_type": "stream",
     "text": [
      "these are what we color: \n",
      "\n"
     ]
    },
    {
     "name": "stdout",
     "output_type": "stream",
     "text": [
      "TGTGCTGGGCAGCACAGTGCTGTGATTTATAGCACATTCATCTTT \n",
      "                                    \"#BDB4B2\" \n"
     ]
    },
    {
     "data": {
      "text/html": [
       "<strong>pdf:</strong> 2"
      ],
      "text/latex": [
       "\\textbf{pdf:} 2"
      ],
      "text/markdown": [
       "**pdf:** 2"
      ],
      "text/plain": [
       "pdf \n",
       "  2 "
      ]
     },
     "metadata": {},
     "output_type": "display_data"
    }
   ],
   "source": [
    "plot_clonetracks.fx(cdr3df, plotpath, \"TRA\", \"cloneFraction\", 0)"
   ]
  },
  {
   "cell_type": "code",
   "execution_count": null,
   "metadata": {},
   "outputs": [],
   "source": []
  },
  {
   "cell_type": "code",
   "execution_count": null,
   "metadata": {},
   "outputs": [],
   "source": []
  },
  {
   "cell_type": "code",
   "execution_count": null,
   "metadata": {},
   "outputs": [],
   "source": []
  },
  {
   "cell_type": "code",
   "execution_count": null,
   "metadata": {},
   "outputs": [],
   "source": []
  },
  {
   "cell_type": "code",
   "execution_count": null,
   "metadata": {},
   "outputs": [],
   "source": []
  },
  {
   "cell_type": "code",
   "execution_count": null,
   "metadata": {},
   "outputs": [],
   "source": []
  },
  {
   "cell_type": "code",
   "execution_count": null,
   "metadata": {},
   "outputs": [],
   "source": []
  },
  {
   "cell_type": "code",
   "execution_count": null,
   "metadata": {},
   "outputs": [],
   "source": []
  },
  {
   "cell_type": "code",
   "execution_count": null,
   "metadata": {},
   "outputs": [],
   "source": []
  },
  {
   "cell_type": "code",
   "execution_count": null,
   "metadata": {},
   "outputs": [],
   "source": []
  },
  {
   "cell_type": "markdown",
   "metadata": {},
   "source": [
    "## Make list of files for pbmc and cfdna"
   ]
  },
  {
   "cell_type": "code",
   "execution_count": 7,
   "metadata": {},
   "outputs": [],
   "source": [
    "flelst <- list.files(datapath,\n",
    "                     recursive = TRUE,\n",
    "                     pattern = paste(\"CLONES\", \"TRB\", sep = \"_\"))\n",
    "\n",
    "# subset to include only downsampled files\n",
    "ds_flelst <- flelst[grepl(\"2000000\", flelst)]\n",
    "\n",
    "# remove normals\n",
    "ds_flelst_normalrm <- ds_flelst[!grepl(\"batchNormal\", ds_flelst)]\n",
    "\n",
    "ds_flelst_chp_PBMC <- ds_flelst_normalrm[grepl(\"PBMC\", ds_flelst_normalrm)]\n",
    "ds_flelst_chp_cfDNA <- ds_flelst_normalrm[grepl(\"cfDNA\", ds_flelst_normalrm)]\n",
    "ds_flelst_chp_ffpe <- ds_flelst_normalrm[grepl(\"FFPE\", ds_flelst_normalrm)]"
   ]
  },
  {
   "cell_type": "markdown",
   "metadata": {},
   "source": [
    "## PBMCs"
   ]
  },
  {
   "cell_type": "code",
   "execution_count": 8,
   "metadata": {},
   "outputs": [],
   "source": [
    "manifest_df <- cbind.data.frame(ds_flelst_chp_PBMC, NA,NA,stringsAsFactors = F)\n",
    "\n",
    "colnames(manifest_df) <- c(\"filename\", \"patient\", \"cycle\")"
   ]
  },
  {
   "cell_type": "code",
   "execution_count": 9,
   "metadata": {},
   "outputs": [],
   "source": [
    "manifest_df$filename <- gsub(\".*CLONES\", \"CLONES\", manifest_df$filename)\n",
    "\n",
    "manifest_df$patient <- gsub(\"CLONES_TRBCHP_\", \"\", manifest_df$filename)\n",
    "manifest_df$patient <- gsub(\"-.*\", \"\", manifest_df$patient)\n",
    "\n",
    "manifest_df$cycle <- substr(manifest_df$filename, 19,20)\n",
    "#manifest_df$cycle <- gsub(\"-PBMC-DNA_2000000.txt\", \"\", manifest_df$cycle)"
   ]
  },
  {
   "cell_type": "code",
   "execution_count": 10,
   "metadata": {},
   "outputs": [],
   "source": [
    "ptlist <- as.data.frame(table(manifest_df$patient))"
   ]
  },
  {
   "cell_type": "code",
   "execution_count": 12,
   "metadata": {
    "scrolled": true
   },
   "outputs": [
    {
     "data": {
      "text/html": [
       "<table>\n",
       "<caption>A data.frame: 69 × 2</caption>\n",
       "<thead>\n",
       "\t<tr><th scope=col>Var1</th><th scope=col>Freq</th></tr>\n",
       "\t<tr><th scope=col>&lt;fct&gt;</th><th scope=col>&lt;int&gt;</th></tr>\n",
       "</thead>\n",
       "<tbody>\n",
       "\t<tr><td>303</td><td>1</td></tr>\n",
       "\t<tr><td>315</td><td>2</td></tr>\n",
       "\t<tr><td>319</td><td>1</td></tr>\n",
       "\t<tr><td>323</td><td>3</td></tr>\n",
       "\t<tr><td>329</td><td>1</td></tr>\n",
       "\t<tr><td>330</td><td>1</td></tr>\n",
       "\t<tr><td>331</td><td>2</td></tr>\n",
       "\t<tr><td>335</td><td>1</td></tr>\n",
       "\t<tr><td>338</td><td>3</td></tr>\n",
       "\t<tr><td>339</td><td>2</td></tr>\n",
       "\t<tr><td>340</td><td>3</td></tr>\n",
       "\t<tr><td>342</td><td>1</td></tr>\n",
       "\t<tr><td>343</td><td>4</td></tr>\n",
       "\t<tr><td>344</td><td>4</td></tr>\n",
       "\t<tr><td>345</td><td>4</td></tr>\n",
       "\t<tr><td>346</td><td>1</td></tr>\n",
       "\t<tr><td>347</td><td>5</td></tr>\n",
       "\t<tr><td>348</td><td>4</td></tr>\n",
       "\t<tr><td>349</td><td>2</td></tr>\n",
       "\t<tr><td>350</td><td>5</td></tr>\n",
       "\t<tr><td>351</td><td>1</td></tr>\n",
       "\t<tr><td>352</td><td>2</td></tr>\n",
       "\t<tr><td>353</td><td>4</td></tr>\n",
       "\t<tr><td>354</td><td>1</td></tr>\n",
       "\t<tr><td>355</td><td>1</td></tr>\n",
       "\t<tr><td>356</td><td>3</td></tr>\n",
       "\t<tr><td>357</td><td>4</td></tr>\n",
       "\t<tr><td>358</td><td>4</td></tr>\n",
       "\t<tr><td>359</td><td>3</td></tr>\n",
       "\t<tr><td>360</td><td>3</td></tr>\n",
       "\t<tr><td>⋮</td><td>⋮</td></tr>\n",
       "\t<tr><td>370</td><td>4</td></tr>\n",
       "\t<tr><td>372</td><td>1</td></tr>\n",
       "\t<tr><td>373</td><td>3</td></tr>\n",
       "\t<tr><td>374</td><td>3</td></tr>\n",
       "\t<tr><td>375</td><td>3</td></tr>\n",
       "\t<tr><td>376</td><td>1</td></tr>\n",
       "\t<tr><td>377</td><td>1</td></tr>\n",
       "\t<tr><td>378</td><td>3</td></tr>\n",
       "\t<tr><td>380</td><td>3</td></tr>\n",
       "\t<tr><td>381</td><td>1</td></tr>\n",
       "\t<tr><td>382</td><td>3</td></tr>\n",
       "\t<tr><td>383</td><td>1</td></tr>\n",
       "\t<tr><td>385</td><td>1</td></tr>\n",
       "\t<tr><td>386</td><td>1</td></tr>\n",
       "\t<tr><td>387</td><td>3</td></tr>\n",
       "\t<tr><td>388</td><td>1</td></tr>\n",
       "\t<tr><td>391</td><td>2</td></tr>\n",
       "\t<tr><td>392</td><td>1</td></tr>\n",
       "\t<tr><td>394</td><td>2</td></tr>\n",
       "\t<tr><td>396</td><td>2</td></tr>\n",
       "\t<tr><td>397</td><td>2</td></tr>\n",
       "\t<tr><td>399</td><td>2</td></tr>\n",
       "\t<tr><td>400</td><td>1</td></tr>\n",
       "\t<tr><td>401</td><td>1</td></tr>\n",
       "\t<tr><td>402</td><td>1</td></tr>\n",
       "\t<tr><td>403</td><td>1</td></tr>\n",
       "\t<tr><td>404</td><td>2</td></tr>\n",
       "\t<tr><td>405</td><td>2</td></tr>\n",
       "\t<tr><td>407</td><td>2</td></tr>\n",
       "\t<tr><td>409</td><td>1</td></tr>\n",
       "</tbody>\n",
       "</table>\n"
      ],
      "text/latex": [
       "A data.frame: 69 × 2\n",
       "\\begin{tabular}{r|ll}\n",
       " Var1 & Freq\\\\\n",
       " <fct> & <int>\\\\\n",
       "\\hline\n",
       "\t 303 & 1\\\\\n",
       "\t 315 & 2\\\\\n",
       "\t 319 & 1\\\\\n",
       "\t 323 & 3\\\\\n",
       "\t 329 & 1\\\\\n",
       "\t 330 & 1\\\\\n",
       "\t 331 & 2\\\\\n",
       "\t 335 & 1\\\\\n",
       "\t 338 & 3\\\\\n",
       "\t 339 & 2\\\\\n",
       "\t 340 & 3\\\\\n",
       "\t 342 & 1\\\\\n",
       "\t 343 & 4\\\\\n",
       "\t 344 & 4\\\\\n",
       "\t 345 & 4\\\\\n",
       "\t 346 & 1\\\\\n",
       "\t 347 & 5\\\\\n",
       "\t 348 & 4\\\\\n",
       "\t 349 & 2\\\\\n",
       "\t 350 & 5\\\\\n",
       "\t 351 & 1\\\\\n",
       "\t 352 & 2\\\\\n",
       "\t 353 & 4\\\\\n",
       "\t 354 & 1\\\\\n",
       "\t 355 & 1\\\\\n",
       "\t 356 & 3\\\\\n",
       "\t 357 & 4\\\\\n",
       "\t 358 & 4\\\\\n",
       "\t 359 & 3\\\\\n",
       "\t 360 & 3\\\\\n",
       "\t ⋮ & ⋮\\\\\n",
       "\t 370 & 4\\\\\n",
       "\t 372 & 1\\\\\n",
       "\t 373 & 3\\\\\n",
       "\t 374 & 3\\\\\n",
       "\t 375 & 3\\\\\n",
       "\t 376 & 1\\\\\n",
       "\t 377 & 1\\\\\n",
       "\t 378 & 3\\\\\n",
       "\t 380 & 3\\\\\n",
       "\t 381 & 1\\\\\n",
       "\t 382 & 3\\\\\n",
       "\t 383 & 1\\\\\n",
       "\t 385 & 1\\\\\n",
       "\t 386 & 1\\\\\n",
       "\t 387 & 3\\\\\n",
       "\t 388 & 1\\\\\n",
       "\t 391 & 2\\\\\n",
       "\t 392 & 1\\\\\n",
       "\t 394 & 2\\\\\n",
       "\t 396 & 2\\\\\n",
       "\t 397 & 2\\\\\n",
       "\t 399 & 2\\\\\n",
       "\t 400 & 1\\\\\n",
       "\t 401 & 1\\\\\n",
       "\t 402 & 1\\\\\n",
       "\t 403 & 1\\\\\n",
       "\t 404 & 2\\\\\n",
       "\t 405 & 2\\\\\n",
       "\t 407 & 2\\\\\n",
       "\t 409 & 1\\\\\n",
       "\\end{tabular}\n"
      ],
      "text/markdown": [
       "\n",
       "A data.frame: 69 × 2\n",
       "\n",
       "| Var1 &lt;fct&gt; | Freq &lt;int&gt; |\n",
       "|---|---|\n",
       "| 303 | 1 |\n",
       "| 315 | 2 |\n",
       "| 319 | 1 |\n",
       "| 323 | 3 |\n",
       "| 329 | 1 |\n",
       "| 330 | 1 |\n",
       "| 331 | 2 |\n",
       "| 335 | 1 |\n",
       "| 338 | 3 |\n",
       "| 339 | 2 |\n",
       "| 340 | 3 |\n",
       "| 342 | 1 |\n",
       "| 343 | 4 |\n",
       "| 344 | 4 |\n",
       "| 345 | 4 |\n",
       "| 346 | 1 |\n",
       "| 347 | 5 |\n",
       "| 348 | 4 |\n",
       "| 349 | 2 |\n",
       "| 350 | 5 |\n",
       "| 351 | 1 |\n",
       "| 352 | 2 |\n",
       "| 353 | 4 |\n",
       "| 354 | 1 |\n",
       "| 355 | 1 |\n",
       "| 356 | 3 |\n",
       "| 357 | 4 |\n",
       "| 358 | 4 |\n",
       "| 359 | 3 |\n",
       "| 360 | 3 |\n",
       "| ⋮ | ⋮ |\n",
       "| 370 | 4 |\n",
       "| 372 | 1 |\n",
       "| 373 | 3 |\n",
       "| 374 | 3 |\n",
       "| 375 | 3 |\n",
       "| 376 | 1 |\n",
       "| 377 | 1 |\n",
       "| 378 | 3 |\n",
       "| 380 | 3 |\n",
       "| 381 | 1 |\n",
       "| 382 | 3 |\n",
       "| 383 | 1 |\n",
       "| 385 | 1 |\n",
       "| 386 | 1 |\n",
       "| 387 | 3 |\n",
       "| 388 | 1 |\n",
       "| 391 | 2 |\n",
       "| 392 | 1 |\n",
       "| 394 | 2 |\n",
       "| 396 | 2 |\n",
       "| 397 | 2 |\n",
       "| 399 | 2 |\n",
       "| 400 | 1 |\n",
       "| 401 | 1 |\n",
       "| 402 | 1 |\n",
       "| 403 | 1 |\n",
       "| 404 | 2 |\n",
       "| 405 | 2 |\n",
       "| 407 | 2 |\n",
       "| 409 | 1 |\n",
       "\n"
      ],
      "text/plain": [
       "   Var1 Freq\n",
       "1  303  1   \n",
       "2  315  2   \n",
       "3  319  1   \n",
       "4  323  3   \n",
       "5  329  1   \n",
       "6  330  1   \n",
       "7  331  2   \n",
       "8  335  1   \n",
       "9  338  3   \n",
       "10 339  2   \n",
       "11 340  3   \n",
       "12 342  1   \n",
       "13 343  4   \n",
       "14 344  4   \n",
       "15 345  4   \n",
       "16 346  1   \n",
       "17 347  5   \n",
       "18 348  4   \n",
       "19 349  2   \n",
       "20 350  5   \n",
       "21 351  1   \n",
       "22 352  2   \n",
       "23 353  4   \n",
       "24 354  1   \n",
       "25 355  1   \n",
       "26 356  3   \n",
       "27 357  4   \n",
       "28 358  4   \n",
       "29 359  3   \n",
       "30 360  3   \n",
       "⋮  ⋮    ⋮   \n",
       "40 370  4   \n",
       "41 372  1   \n",
       "42 373  3   \n",
       "43 374  3   \n",
       "44 375  3   \n",
       "45 376  1   \n",
       "46 377  1   \n",
       "47 378  3   \n",
       "48 380  3   \n",
       "49 381  1   \n",
       "50 382  3   \n",
       "51 383  1   \n",
       "52 385  1   \n",
       "53 386  1   \n",
       "54 387  3   \n",
       "55 388  1   \n",
       "56 391  2   \n",
       "57 392  1   \n",
       "58 394  2   \n",
       "59 396  2   \n",
       "60 397  2   \n",
       "61 399  2   \n",
       "62 400  1   \n",
       "63 401  1   \n",
       "64 402  1   \n",
       "65 403  1   \n",
       "66 404  2   \n",
       "67 405  2   \n",
       "68 407  2   \n",
       "69 409  1   "
      ]
     },
     "metadata": {},
     "output_type": "display_data"
    }
   ],
   "source": [
    "ptlist"
   ]
  },
  {
   "cell_type": "code",
   "execution_count": null,
   "metadata": {},
   "outputs": [],
   "source": []
  },
  {
   "cell_type": "code",
   "execution_count": null,
   "metadata": {},
   "outputs": [],
   "source": []
  },
  {
   "cell_type": "code",
   "execution_count": null,
   "metadata": {},
   "outputs": [],
   "source": []
  },
  {
   "cell_type": "code",
   "execution_count": 40,
   "metadata": {
    "scrolled": true
   },
   "outputs": [
    {
     "name": "stdout",
     "output_type": "stream",
     "text": [
      "[1] \"323\"\n"
     ]
    },
    {
     "name": "stderr",
     "output_type": "stream",
     "text": [
      "duplicated sequences:\n"
     ]
    },
    {
     "name": "stdout",
     "output_type": "stream",
     "text": [
      "character(0)\n"
     ]
    },
    {
     "name": "stderr",
     "output_type": "stream",
     "text": [
      "my files:\n"
     ]
    },
    {
     "name": "stdout",
     "output_type": "stream",
     "text": [
      "[1] \"batch4/ds_batch4/CLONES_TRBCHP_323-03-PBMC-DNA_2000000.txt\"\n",
      "[2] \"batch7/ds_batch7/CLONES_TRBCHP_323-04-PBMC-DNA_2000000.txt\"\n",
      "[3] \"batch7/ds_batch7/CLONES_TRBCHP_323-05-PBMC-DNA_2000000.txt\"\n"
     ]
    },
    {
     "name": "stderr",
     "output_type": "stream",
     "text": [
      "Total recovered clonotypes:\n"
     ]
    },
    {
     "name": "stdout",
     "output_type": "stream",
     "text": [
      "[1] 254\n"
     ]
    },
    {
     "name": "stderr",
     "output_type": "stream",
     "text": [
      "Total out-of-frame clonotypes:\n"
     ]
    },
    {
     "name": "stdout",
     "output_type": "stream",
     "text": [
      "[1] 55\n"
     ]
    },
    {
     "name": "stderr",
     "output_type": "stream",
     "text": [
      "Total clonotypes with stop codon:\n"
     ]
    },
    {
     "name": "stdout",
     "output_type": "stream",
     "text": [
      "[1] 3\n"
     ]
    },
    {
     "name": "stderr",
     "output_type": "stream",
     "text": [
      "Total productive clonotypes:\n"
     ]
    },
    {
     "name": "stdout",
     "output_type": "stream",
     "text": [
      "[1] 196\n"
     ]
    },
    {
     "name": "stderr",
     "output_type": "stream",
     "text": [
      "Output contains all clonotypes\n",
      "list of samples to track clones: \n"
     ]
    },
    {
     "name": "stdout",
     "output_type": "stream",
     "text": [
      "[1] \"CHP_323-03-PBMC\" \"CHP_323-04-PBMC\" \"CHP_323-05-PBMC\"\n"
     ]
    },
    {
     "name": "stderr",
     "output_type": "stream",
     "text": [
      "Total number of recurring clonotypes: \n"
     ]
    },
    {
     "name": "stdout",
     "output_type": "stream",
     "text": [
      "[1] 0\n"
     ]
    },
    {
     "name": "stderr",
     "output_type": "stream",
     "text": [
      "these are what we color: \n"
     ]
    },
    {
     "name": "stdout",
     "output_type": "stream",
     "text": [
      "named character(0)\n",
      "[1] \"338\"\n"
     ]
    },
    {
     "name": "stderr",
     "output_type": "stream",
     "text": [
      "duplicated sequences:\n"
     ]
    },
    {
     "name": "stdout",
     "output_type": "stream",
     "text": [
      "[1] \"CASTKSRGQ_HYSNQPQHF\" \"CAIRPGQGDTGELFF\"    \n"
     ]
    },
    {
     "name": "stderr",
     "output_type": "stream",
     "text": [
      "my files:\n"
     ]
    },
    {
     "name": "stdout",
     "output_type": "stream",
     "text": [
      "[1] \"batch2/ds_batch2/CLONES_TRBCHP_338-04-PBMC-DNA_2000000.txt\"\n",
      "[2] \"batch2/ds_batch2/CLONES_TRBCHP_338-05-PBMC-DNA_2000000.txt\"\n",
      "[3] \"batch4/ds_batch4/CLONES_TRBCHP_338-03-PBMC-DNA_2000000.txt\"\n"
     ]
    },
    {
     "name": "stderr",
     "output_type": "stream",
     "text": [
      "Total recovered clonotypes:\n"
     ]
    },
    {
     "name": "stdout",
     "output_type": "stream",
     "text": [
      "[1] 1012\n"
     ]
    },
    {
     "name": "stderr",
     "output_type": "stream",
     "text": [
      "Total out-of-frame clonotypes:\n"
     ]
    },
    {
     "name": "stdout",
     "output_type": "stream",
     "text": [
      "[1] 202\n"
     ]
    },
    {
     "name": "stderr",
     "output_type": "stream",
     "text": [
      "Total clonotypes with stop codon:\n"
     ]
    },
    {
     "name": "stdout",
     "output_type": "stream",
     "text": [
      "[1] 16\n"
     ]
    },
    {
     "name": "stderr",
     "output_type": "stream",
     "text": [
      "Total productive clonotypes:\n"
     ]
    },
    {
     "name": "stdout",
     "output_type": "stream",
     "text": [
      "[1] 794\n"
     ]
    },
    {
     "name": "stderr",
     "output_type": "stream",
     "text": [
      "Output contains all clonotypes\n",
      "list of samples to track clones: \n"
     ]
    },
    {
     "name": "stdout",
     "output_type": "stream",
     "text": [
      "[1] \"CHP_338-04-PBMC\" \"CHP_338-05-PBMC\" \"CHP_338-03-PBMC\"\n"
     ]
    },
    {
     "name": "stderr",
     "output_type": "stream",
     "text": [
      "Total number of recurring clonotypes: \n"
     ]
    },
    {
     "name": "stdout",
     "output_type": "stream",
     "text": [
      "[1] 1\n"
     ]
    },
    {
     "name": "stderr",
     "output_type": "stream",
     "text": [
      "these are what we color: \n"
     ]
    },
    {
     "name": "stdout",
     "output_type": "stream",
     "text": [
      "CASSFNTEAFF \n",
      "  \"#BCB3B3\" \n",
      "[1] \"340\"\n"
     ]
    },
    {
     "name": "stderr",
     "output_type": "stream",
     "text": [
      "duplicated sequences:\n"
     ]
    },
    {
     "name": "stdout",
     "output_type": "stream",
     "text": [
      " [1] \"CAISRTDNSPLHF\"       \"CASSKAGE_VALGALHF\"   \"CASSQEGPLGRSYNSPLHF\"\n",
      " [4] \"CASSGDVRGPKLGEQYF\"   \"CASSQTGSGRPGELFF\"    \"CASSGPGTGGSEQYF\"    \n",
      " [7] \"CASSEVLAVYEQYF\"      \"CASSPATSGREQYF\"      \"CASNRGLDYGYTF\"      \n",
      "[10] \"CAGL_EAFF\"          \n"
     ]
    },
    {
     "name": "stderr",
     "output_type": "stream",
     "text": [
      "my files:\n"
     ]
    },
    {
     "name": "stdout",
     "output_type": "stream",
     "text": [
      "[1] \"batch3/ds_batch3/CLONES_TRBCHP_340-05-PBMC-DNA_2000000.txt\"  \n",
      "[2] \"batch4/ds_batch4/CLONES_TRBCHP_340-03-PBMC-DNA_2000000.txt\"  \n",
      "[3] \"batch6a/ds_batch6a/CLONES_TRBCHP_340-04-PBMC-DNA_2000000.txt\"\n"
     ]
    },
    {
     "name": "stderr",
     "output_type": "stream",
     "text": [
      "Total recovered clonotypes:\n"
     ]
    },
    {
     "name": "stdout",
     "output_type": "stream",
     "text": [
      "[1] 869\n"
     ]
    },
    {
     "name": "stderr",
     "output_type": "stream",
     "text": [
      "Total out-of-frame clonotypes:\n"
     ]
    },
    {
     "name": "stdout",
     "output_type": "stream",
     "text": [
      "[1] 193\n"
     ]
    },
    {
     "name": "stderr",
     "output_type": "stream",
     "text": [
      "Total clonotypes with stop codon:\n"
     ]
    },
    {
     "name": "stdout",
     "output_type": "stream",
     "text": [
      "[1] 19\n"
     ]
    },
    {
     "name": "stderr",
     "output_type": "stream",
     "text": [
      "Total productive clonotypes:\n"
     ]
    },
    {
     "name": "stdout",
     "output_type": "stream",
     "text": [
      "[1] 657\n"
     ]
    },
    {
     "name": "stderr",
     "output_type": "stream",
     "text": [
      "Output contains all clonotypes\n",
      "list of samples to track clones: \n"
     ]
    },
    {
     "name": "stdout",
     "output_type": "stream",
     "text": [
      "[1] \"CHP_340-05-PBMC\" \"CHP_340-03-PBMC\" \"CHP_340-04-PBMC\"\n"
     ]
    },
    {
     "name": "stderr",
     "output_type": "stream",
     "text": [
      "Total number of recurring clonotypes: \n"
     ]
    },
    {
     "name": "stdout",
     "output_type": "stream",
     "text": [
      "[1] 0\n"
     ]
    },
    {
     "name": "stderr",
     "output_type": "stream",
     "text": [
      "these are what we color: \n"
     ]
    },
    {
     "name": "stdout",
     "output_type": "stream",
     "text": [
      "named character(0)\n",
      "[1] \"343\"\n"
     ]
    },
    {
     "name": "stderr",
     "output_type": "stream",
     "text": [
      "duplicated sequences:\n"
     ]
    },
    {
     "name": "stdout",
     "output_type": "stream",
     "text": [
      "character(0)\n"
     ]
    },
    {
     "name": "stderr",
     "output_type": "stream",
     "text": [
      "my files:\n"
     ]
    },
    {
     "name": "stdout",
     "output_type": "stream",
     "text": [
      "[1] \"batch2/ds_batch2/CLONES_TRBCHP_343-02-PBMC-DNA_2000000.txt\"\n",
      "[2] \"batch2/ds_batch2/CLONES_TRBCHP_343-03-PBMC-DNA_2000000.txt\"\n",
      "[3] \"batch2/ds_batch2/CLONES_TRBCHP_343-04-PBMC-DNA_2000000.txt\"\n",
      "[4] \"batch4/ds_batch4/CLONES_TRBCHP_343-05-PBMC-DNA_2000000.txt\"\n"
     ]
    },
    {
     "name": "stderr",
     "output_type": "stream",
     "text": [
      "Total recovered clonotypes:\n"
     ]
    },
    {
     "name": "stdout",
     "output_type": "stream",
     "text": [
      "[1] 119\n"
     ]
    },
    {
     "name": "stderr",
     "output_type": "stream",
     "text": [
      "Total out-of-frame clonotypes:\n"
     ]
    },
    {
     "name": "stdout",
     "output_type": "stream",
     "text": [
      "[1] 21\n"
     ]
    },
    {
     "name": "stderr",
     "output_type": "stream",
     "text": [
      "Total clonotypes with stop codon:\n"
     ]
    },
    {
     "name": "stdout",
     "output_type": "stream",
     "text": [
      "[1] 1\n"
     ]
    },
    {
     "name": "stderr",
     "output_type": "stream",
     "text": [
      "Total productive clonotypes:\n"
     ]
    },
    {
     "name": "stdout",
     "output_type": "stream",
     "text": [
      "[1] 97\n"
     ]
    },
    {
     "name": "stderr",
     "output_type": "stream",
     "text": [
      "Output contains all clonotypes\n",
      "list of samples to track clones: \n"
     ]
    },
    {
     "name": "stdout",
     "output_type": "stream",
     "text": [
      "[1] \"CHP_343-02-PBMC\" \"CHP_343-03-PBMC\" \"CHP_343-04-PBMC\" \"CHP_343-05-PBMC\"\n"
     ]
    },
    {
     "name": "stderr",
     "output_type": "stream",
     "text": [
      "Total number of recurring clonotypes: \n"
     ]
    },
    {
     "name": "stdout",
     "output_type": "stream",
     "text": [
      "[1] 0\n"
     ]
    },
    {
     "name": "stderr",
     "output_type": "stream",
     "text": [
      "these are what we color: \n"
     ]
    },
    {
     "name": "stdout",
     "output_type": "stream",
     "text": [
      "named character(0)\n",
      "[1] \"344\"\n"
     ]
    },
    {
     "name": "stderr",
     "output_type": "stream",
     "text": [
      "duplicated sequences:\n"
     ]
    },
    {
     "name": "stdout",
     "output_type": "stream",
     "text": [
      "[1] \"CASSQDKCSGGVLTDTQYF\" \"CASSVSPRLAGTSQFF\"    \"CASSLVPYEQYF\"       \n"
     ]
    },
    {
     "name": "stderr",
     "output_type": "stream",
     "text": [
      "my files:\n"
     ]
    },
    {
     "name": "stdout",
     "output_type": "stream",
     "text": [
      "[1] \"batch4/ds_batch4/CLONES_TRBCHP_344-05-PBMC-DNA_2000000.txt\"\n",
      "[2] \"batch7/ds_batch7/CLONES_TRBCHP_344-02-PBMC-DNA_2000000.txt\"\n",
      "[3] \"batch7/ds_batch7/CLONES_TRBCHP_344-03-PBMC-DNA_2000000.txt\"\n",
      "[4] \"batch8/ds_batch8/CLONES_TRBCHP_344-04-PBMC-DNA_2000000.txt\"\n"
     ]
    },
    {
     "name": "stderr",
     "output_type": "stream",
     "text": [
      "Total recovered clonotypes:\n"
     ]
    },
    {
     "name": "stdout",
     "output_type": "stream",
     "text": [
      "[1] 244\n"
     ]
    },
    {
     "name": "stderr",
     "output_type": "stream",
     "text": [
      "Total out-of-frame clonotypes:\n"
     ]
    },
    {
     "name": "stdout",
     "output_type": "stream",
     "text": [
      "[1] 32\n"
     ]
    },
    {
     "name": "stderr",
     "output_type": "stream",
     "text": [
      "Total clonotypes with stop codon:\n"
     ]
    },
    {
     "name": "stdout",
     "output_type": "stream",
     "text": [
      "[1] 5\n"
     ]
    },
    {
     "name": "stderr",
     "output_type": "stream",
     "text": [
      "Total productive clonotypes:\n"
     ]
    },
    {
     "name": "stdout",
     "output_type": "stream",
     "text": [
      "[1] 207\n"
     ]
    },
    {
     "name": "stderr",
     "output_type": "stream",
     "text": [
      "Output contains all clonotypes\n",
      "list of samples to track clones: \n"
     ]
    },
    {
     "name": "stdout",
     "output_type": "stream",
     "text": [
      "[1] \"CHP_344-05-PBMC\" \"CHP_344-02-PBMC\" \"CHP_344-03-PBMC\" \"CHP_344-04-PBMC\"\n"
     ]
    },
    {
     "name": "stderr",
     "output_type": "stream",
     "text": [
      "Total number of recurring clonotypes: \n"
     ]
    },
    {
     "name": "stdout",
     "output_type": "stream",
     "text": [
      "[1] 0\n"
     ]
    },
    {
     "name": "stderr",
     "output_type": "stream",
     "text": [
      "these are what we color: \n"
     ]
    },
    {
     "name": "stdout",
     "output_type": "stream",
     "text": [
      "named character(0)\n",
      "[1] \"345\"\n"
     ]
    },
    {
     "name": "stderr",
     "output_type": "stream",
     "text": [
      "duplicated sequences:\n"
     ]
    },
    {
     "name": "stdout",
     "output_type": "stream",
     "text": [
      "[1] \"CASSPGQGALYSNQPQHF\" \"CASSPGQGALYSNQPQHF\"\n"
     ]
    },
    {
     "name": "stderr",
     "output_type": "stream",
     "text": [
      "my files:\n"
     ]
    },
    {
     "name": "stdout",
     "output_type": "stream",
     "text": [
      "[1] \"batch3/ds_batch3/CLONES_TRBCHP_345-04-PBMC-DNA_2000000.txt\"\n",
      "[2] \"batch3/ds_batch3/CLONES_TRBCHP_345-05-PBMC-DNA_2000000.txt\"\n",
      "[3] \"batch4/ds_batch4/CLONES_TRBCHP_345-02-PBMC-DNA_2000000.txt\"\n",
      "[4] \"batch7/ds_batch7/CLONES_TRBCHP_345-03-PBMC-DNA_2000000.txt\"\n"
     ]
    },
    {
     "name": "stderr",
     "output_type": "stream",
     "text": [
      "Total recovered clonotypes:\n"
     ]
    },
    {
     "name": "stdout",
     "output_type": "stream",
     "text": [
      "[1] 717\n"
     ]
    },
    {
     "name": "stderr",
     "output_type": "stream",
     "text": [
      "Total out-of-frame clonotypes:\n"
     ]
    },
    {
     "name": "stdout",
     "output_type": "stream",
     "text": [
      "[1] 179\n"
     ]
    },
    {
     "name": "stderr",
     "output_type": "stream",
     "text": [
      "Total clonotypes with stop codon:\n"
     ]
    },
    {
     "name": "stdout",
     "output_type": "stream",
     "text": [
      "[1] 11\n"
     ]
    },
    {
     "name": "stderr",
     "output_type": "stream",
     "text": [
      "Total productive clonotypes:\n"
     ]
    },
    {
     "name": "stdout",
     "output_type": "stream",
     "text": [
      "[1] 527\n"
     ]
    },
    {
     "name": "stderr",
     "output_type": "stream",
     "text": [
      "Output contains all clonotypes\n",
      "list of samples to track clones: \n"
     ]
    },
    {
     "name": "stdout",
     "output_type": "stream",
     "text": [
      "[1] \"CHP_345-04-PBMC\" \"CHP_345-05-PBMC\" \"CHP_345-02-PBMC\" \"CHP_345-03-PBMC\"\n"
     ]
    },
    {
     "name": "stderr",
     "output_type": "stream",
     "text": [
      "Total number of recurring clonotypes: \n"
     ]
    },
    {
     "name": "stdout",
     "output_type": "stream",
     "text": [
      "[1] 14\n"
     ]
    },
    {
     "name": "stderr",
     "output_type": "stream",
     "text": [
      "these are what we color: \n"
     ]
    },
    {
     "name": "stdout",
     "output_type": "stream",
     "text": [
      "                                                                CASSPDGPRGTQYF \n",
      "                                                                     \"#DADED2\" \n",
      "                                                                  CASTYNDNEQFF \n",
      "                                                                     \"#7B3FE2\" \n",
      "                                                               CAISESGGSHNEQFF \n",
      "                                                                     \"#DCB0D4\" \n",
      "                                                               CASSPDRGGRDGYTF \n",
      "                                                                     \"#835D88\" \n",
      "                                                               CASSQGLAGSYEQYF \n",
      "                                                                     \"#97AB88\" \n",
      "                                                             CASSHISDLPNPYEQYF \n",
      "                                                                     \"#DC52D8\" \n",
      "                                                                 CASSFF_*GGYTF \n",
      "                                                                     \"#DD8D65\" \n",
      "                                                                 CASSFRGYNEQFF \n",
      "                                                                     \"#DDD16C\" \n",
      "                                                                CASSPLSQNTEAFF \n",
      "                                                                     \"#7FB2DE\" \n",
      "                                                              CASTATKT_AIYEQYF \n",
      "                                                                     \"#7CE4DB\" \n",
      "                                                           CASTLWVRD_ATAGYGYTF \n",
      "                                                                     \"#8AE29B\" \n",
      "                                                             CSAKMGRD_KILYEQYF \n",
      "                                                                     \"#9AE758\" \n",
      "                                                               CASSSPRVGGNTQYF \n",
      "                                                                     \"#A67FDD\" \n",
      "CASTYNDNEQFFGPGTRLTVLGKKGAPGGREGEQPSLHD_PEPCS*GSGHWAIQGPPRGKRGLRQGPQGCANTGELFF \n",
      "                                                                     \"#DC6392\" \n",
      "[1] \"347\"\n"
     ]
    },
    {
     "name": "stderr",
     "output_type": "stream",
     "text": [
      "duplicated sequences:\n"
     ]
    },
    {
     "name": "stdout",
     "output_type": "stream",
     "text": [
      "character(0)\n"
     ]
    },
    {
     "name": "stderr",
     "output_type": "stream",
     "text": [
      "my files:\n"
     ]
    },
    {
     "name": "stdout",
     "output_type": "stream",
     "text": [
      "[1] \"batch4/ds_batch4/CLONES_TRBCHP_347-01-PBMC-DNA_2000000.txt\"  \n",
      "[2] \"batch4/ds_batch4/CLONES_TRBCHP_347-02-PBMC-DNA_2000000.txt\"  \n",
      "[3] \"batch6a/ds_batch6a/CLONES_TRBCHP_347-04-PBMC-DNA_2000000.txt\"\n",
      "[4] \"batch7/ds_batch7/CLONES_TRBCHP_347-03-PBMC-DNA_2000000.txt\"  \n",
      "[5] \"batch8/ds_batch8/CLONES_TRBCHP_347-05-PBMC-DNA_2000000.txt\"  \n"
     ]
    },
    {
     "name": "stderr",
     "output_type": "stream",
     "text": [
      "Total recovered clonotypes:\n"
     ]
    },
    {
     "name": "stdout",
     "output_type": "stream",
     "text": [
      "[1] 863\n"
     ]
    },
    {
     "name": "stderr",
     "output_type": "stream",
     "text": [
      "Total out-of-frame clonotypes:\n"
     ]
    },
    {
     "name": "stdout",
     "output_type": "stream",
     "text": [
      "[1] 155\n"
     ]
    },
    {
     "name": "stderr",
     "output_type": "stream",
     "text": [
      "Total clonotypes with stop codon:\n"
     ]
    },
    {
     "name": "stdout",
     "output_type": "stream",
     "text": [
      "[1] 13\n"
     ]
    },
    {
     "name": "stderr",
     "output_type": "stream",
     "text": [
      "Total productive clonotypes:\n"
     ]
    },
    {
     "name": "stdout",
     "output_type": "stream",
     "text": [
      "[1] 695\n"
     ]
    },
    {
     "name": "stderr",
     "output_type": "stream",
     "text": [
      "Output contains all clonotypes\n",
      "list of samples to track clones: \n"
     ]
    },
    {
     "name": "stdout",
     "output_type": "stream",
     "text": [
      "[1] \"CHP_347-01-PBMC\" \"CHP_347-02-PBMC\" \"CHP_347-04-PBMC\" \"CHP_347-03-PBMC\"\n",
      "[5] \"CHP_347-05-PBMC\"\n"
     ]
    },
    {
     "name": "stderr",
     "output_type": "stream",
     "text": [
      "Total number of recurring clonotypes: \n"
     ]
    },
    {
     "name": "stdout",
     "output_type": "stream",
     "text": [
      "[1] 2\n"
     ]
    },
    {
     "name": "stderr",
     "output_type": "stream",
     "text": [
      "these are what we color: \n"
     ]
    },
    {
     "name": "stdout",
     "output_type": "stream",
     "text": [
      "CASNFAGGMSTGELFF    CSARTGGVYEQYF \n",
      "       \"#B6D4A1\"        \"#BD81C8\" \n",
      "[1] \"348\"\n"
     ]
    },
    {
     "name": "stderr",
     "output_type": "stream",
     "text": [
      "duplicated sequences:\n"
     ]
    },
    {
     "name": "stdout",
     "output_type": "stream",
     "text": [
      "[1] \"CAWDREREQYF\"\n"
     ]
    },
    {
     "name": "stderr",
     "output_type": "stream",
     "text": [
      "my files:\n"
     ]
    },
    {
     "name": "stdout",
     "output_type": "stream",
     "text": [
      "[1] \"batch1/ds_batch1/CLONES_TRBCHP_348-03-PBMC-DNA_2000000.txt\"\n",
      "[2] \"batch1/ds_batch1/CLONES_TRBCHP_348-04-PBMC-DNA_2000000.txt\"\n",
      "[3] \"batch2/ds_batch2/CLONES_TRBCHP_348-01-PBMC-DNA_2000000.txt\"\n",
      "[4] \"batch2/ds_batch2/CLONES_TRBCHP_348-02-PBMC-DNA_2000000.txt\"\n"
     ]
    },
    {
     "name": "stderr",
     "output_type": "stream",
     "text": [
      "Total recovered clonotypes:\n"
     ]
    },
    {
     "name": "stdout",
     "output_type": "stream",
     "text": [
      "[1] 313\n"
     ]
    },
    {
     "name": "stderr",
     "output_type": "stream",
     "text": [
      "Total out-of-frame clonotypes:\n"
     ]
    },
    {
     "name": "stdout",
     "output_type": "stream",
     "text": [
      "[1] 56\n"
     ]
    },
    {
     "name": "stderr",
     "output_type": "stream",
     "text": [
      "Total clonotypes with stop codon:\n"
     ]
    },
    {
     "name": "stdout",
     "output_type": "stream",
     "text": [
      "[1] 7\n"
     ]
    },
    {
     "name": "stderr",
     "output_type": "stream",
     "text": [
      "Total productive clonotypes:\n"
     ]
    },
    {
     "name": "stdout",
     "output_type": "stream",
     "text": [
      "[1] 250\n"
     ]
    },
    {
     "name": "stderr",
     "output_type": "stream",
     "text": [
      "Output contains all clonotypes\n",
      "list of samples to track clones: \n"
     ]
    },
    {
     "name": "stdout",
     "output_type": "stream",
     "text": [
      "[1] \"CHP_348-03-PBMC\" \"CHP_348-04-PBMC\" \"CHP_348-01-PBMC\" \"CHP_348-02-PBMC\"\n"
     ]
    },
    {
     "name": "stderr",
     "output_type": "stream",
     "text": [
      "Total number of recurring clonotypes: \n"
     ]
    },
    {
     "name": "stdout",
     "output_type": "stream",
     "text": [
      "[1] 1\n"
     ]
    },
    {
     "name": "stderr",
     "output_type": "stream",
     "text": [
      "these are what we color: \n"
     ]
    },
    {
     "name": "stdout",
     "output_type": "stream",
     "text": [
      "CASRPIAGGGADTQYF \n",
      "       \"#BCB3B3\" \n",
      "[1] \"350\"\n"
     ]
    },
    {
     "name": "stderr",
     "output_type": "stream",
     "text": [
      "duplicated sequences:\n"
     ]
    },
    {
     "name": "stdout",
     "output_type": "stream",
     "text": [
      "[1] \"CASSHRQGE_SGANVLTF\"\n"
     ]
    },
    {
     "name": "stderr",
     "output_type": "stream",
     "text": [
      "my files:\n"
     ]
    },
    {
     "name": "stdout",
     "output_type": "stream",
     "text": [
      "[1] \"batch_reseq/ds_batch_reseq/CLONES_TRBCHP_350-01-PBMC-DNA_2000000.txt\"\n",
      "[2] \"batch_reseq/ds_batch_reseq/CLONES_TRBCHP_350-02-PBMC-DNA_2000000.txt\"\n",
      "[3] \"batch_reseq/ds_batch_reseq/CLONES_TRBCHP_350-03-PBMC-DNA_2000000.txt\"\n",
      "[4] \"batch_reseq/ds_batch_reseq/CLONES_TRBCHP_350-04-PBMC-DNA_2000000.txt\"\n",
      "[5] \"batch3/ds_batch3/CLONES_TRBCHP_350-05-PBMC-DNA_2000000.txt\"          \n"
     ]
    },
    {
     "name": "stderr",
     "output_type": "stream",
     "text": [
      "Total recovered clonotypes:\n"
     ]
    },
    {
     "name": "stdout",
     "output_type": "stream",
     "text": [
      "[1] 889\n"
     ]
    },
    {
     "name": "stderr",
     "output_type": "stream",
     "text": [
      "Total out-of-frame clonotypes:\n"
     ]
    },
    {
     "name": "stdout",
     "output_type": "stream",
     "text": [
      "[1] 181\n"
     ]
    },
    {
     "name": "stderr",
     "output_type": "stream",
     "text": [
      "Total clonotypes with stop codon:\n"
     ]
    },
    {
     "name": "stdout",
     "output_type": "stream",
     "text": [
      "[1] 16\n"
     ]
    },
    {
     "name": "stderr",
     "output_type": "stream",
     "text": [
      "Total productive clonotypes:\n"
     ]
    },
    {
     "name": "stdout",
     "output_type": "stream",
     "text": [
      "[1] 692\n"
     ]
    },
    {
     "name": "stderr",
     "output_type": "stream",
     "text": [
      "Output contains all clonotypes\n",
      "list of samples to track clones: \n"
     ]
    },
    {
     "name": "stdout",
     "output_type": "stream",
     "text": [
      "[1] \"CHP_350-01-PBMC\" \"CHP_350-02-PBMC\" \"CHP_350-03-PBMC\" \"CHP_350-04-PBMC\"\n",
      "[5] \"CHP_350-05-PBMC\"\n"
     ]
    },
    {
     "name": "stderr",
     "output_type": "stream",
     "text": [
      "Total number of recurring clonotypes: \n"
     ]
    },
    {
     "name": "stdout",
     "output_type": "stream",
     "text": [
      "[1] 1\n"
     ]
    },
    {
     "name": "stderr",
     "output_type": "stream",
     "text": [
      "these are what we color: \n"
     ]
    },
    {
     "name": "stdout",
     "output_type": "stream",
     "text": [
      "CASSLGGPYEQYF \n",
      "    \"#BCB3B3\" \n",
      "[1] \"353\"\n"
     ]
    },
    {
     "name": "stderr",
     "output_type": "stream",
     "text": [
      "duplicated sequences:\n"
     ]
    },
    {
     "name": "stdout",
     "output_type": "stream",
     "text": [
      "[1] \"CASSEAGAGELFF\"\n"
     ]
    },
    {
     "name": "stderr",
     "output_type": "stream",
     "text": [
      "my files:\n"
     ]
    },
    {
     "name": "stdout",
     "output_type": "stream",
     "text": [
      "[1] \"batch_reseq/ds_batch_reseq/CLONES_TRBCHP_353-02-PBMC-DNA_2000000.txt\"\n",
      "[2] \"batch7/ds_batch7/CLONES_TRBCHP_353-01-PBMC-DNA_2000000.txt\"          \n",
      "[3] \"batch7/ds_batch7/CLONES_TRBCHP_353-03-PBMC-DNA_2000000.txt\"          \n",
      "[4] \"batch7/ds_batch7/CLONES_TRBCHP_353-05-PBMC-DNA_2000000.txt\"          \n"
     ]
    },
    {
     "name": "stderr",
     "output_type": "stream",
     "text": [
      "Total recovered clonotypes:\n"
     ]
    },
    {
     "name": "stdout",
     "output_type": "stream",
     "text": [
      "[1] 864\n"
     ]
    },
    {
     "name": "stderr",
     "output_type": "stream",
     "text": [
      "Total out-of-frame clonotypes:\n"
     ]
    },
    {
     "name": "stdout",
     "output_type": "stream",
     "text": [
      "[1] 148\n"
     ]
    },
    {
     "name": "stderr",
     "output_type": "stream",
     "text": [
      "Total clonotypes with stop codon:\n"
     ]
    },
    {
     "name": "stdout",
     "output_type": "stream",
     "text": [
      "[1] 15\n"
     ]
    },
    {
     "name": "stderr",
     "output_type": "stream",
     "text": [
      "Total productive clonotypes:\n"
     ]
    },
    {
     "name": "stdout",
     "output_type": "stream",
     "text": [
      "[1] 701\n"
     ]
    },
    {
     "name": "stderr",
     "output_type": "stream",
     "text": [
      "Output contains all clonotypes\n",
      "list of samples to track clones: \n"
     ]
    },
    {
     "name": "stdout",
     "output_type": "stream",
     "text": [
      "[1] \"CHP_353-02-PBMC\" \"CHP_353-01-PBMC\" \"CHP_353-03-PBMC\" \"CHP_353-05-PBMC\"\n"
     ]
    },
    {
     "name": "stderr",
     "output_type": "stream",
     "text": [
      "Total number of recurring clonotypes: \n"
     ]
    },
    {
     "name": "stdout",
     "output_type": "stream",
     "text": [
      "[1] 0\n"
     ]
    },
    {
     "name": "stderr",
     "output_type": "stream",
     "text": [
      "these are what we color: \n"
     ]
    },
    {
     "name": "stdout",
     "output_type": "stream",
     "text": [
      "named character(0)\n",
      "[1] \"356\"\n"
     ]
    },
    {
     "name": "stderr",
     "output_type": "stream",
     "text": [
      "duplicated sequences:\n"
     ]
    },
    {
     "name": "stdout",
     "output_type": "stream",
     "text": [
      "character(0)\n"
     ]
    },
    {
     "name": "stderr",
     "output_type": "stream",
     "text": [
      "my files:\n"
     ]
    },
    {
     "name": "stdout",
     "output_type": "stream",
     "text": [
      "[1] \"batch_reseq/ds_batch_reseq/CLONES_TRBCHP_356-03-PBMC-DNA_2000000.txt\"\n",
      "[2] \"batch1/ds_batch1/CLONES_TRBCHP_356-05-PBMC-DNA_2000000.txt\"          \n",
      "[3] \"batch8/ds_batch8/CLONES_TRBCHP_356-02-PBMC-DNA_2000000.txt\"          \n"
     ]
    },
    {
     "name": "stderr",
     "output_type": "stream",
     "text": [
      "Total recovered clonotypes:\n"
     ]
    },
    {
     "name": "stdout",
     "output_type": "stream",
     "text": [
      "[1] 111\n"
     ]
    },
    {
     "name": "stderr",
     "output_type": "stream",
     "text": [
      "Total out-of-frame clonotypes:\n"
     ]
    },
    {
     "name": "stdout",
     "output_type": "stream",
     "text": [
      "[1] 19\n"
     ]
    },
    {
     "name": "stderr",
     "output_type": "stream",
     "text": [
      "Total clonotypes with stop codon:\n"
     ]
    },
    {
     "name": "stdout",
     "output_type": "stream",
     "text": [
      "[1] 3\n"
     ]
    },
    {
     "name": "stderr",
     "output_type": "stream",
     "text": [
      "Total productive clonotypes:\n"
     ]
    },
    {
     "name": "stdout",
     "output_type": "stream",
     "text": [
      "[1] 89\n"
     ]
    },
    {
     "name": "stderr",
     "output_type": "stream",
     "text": [
      "Output contains all clonotypes\n",
      "list of samples to track clones: \n"
     ]
    },
    {
     "name": "stdout",
     "output_type": "stream",
     "text": [
      "[1] \"CHP_356-03-PBMC\" \"CHP_356-05-PBMC\" \"CHP_356-02-PBMC\"\n"
     ]
    },
    {
     "name": "stderr",
     "output_type": "stream",
     "text": [
      "Total number of recurring clonotypes: \n"
     ]
    },
    {
     "name": "stdout",
     "output_type": "stream",
     "text": [
      "[1] 0\n"
     ]
    },
    {
     "name": "stderr",
     "output_type": "stream",
     "text": [
      "these are what we color: \n"
     ]
    },
    {
     "name": "stdout",
     "output_type": "stream",
     "text": [
      "named character(0)\n",
      "[1] \"357\"\n"
     ]
    },
    {
     "name": "stderr",
     "output_type": "stream",
     "text": [
      "duplicated sequences:\n"
     ]
    },
    {
     "name": "stdout",
     "output_type": "stream",
     "text": [
      "[1] \"CASSHLTVGGGYEQYF\" \"CASSARQ_QGSPLHF\"  \"CSPSQTSGDNEQFF\"  \n"
     ]
    },
    {
     "name": "stderr",
     "output_type": "stream",
     "text": [
      "my files:\n"
     ]
    },
    {
     "name": "stdout",
     "output_type": "stream",
     "text": [
      "[1] \"batch4/ds_batch4/CLONES_TRBCHP_357-01-PBMC-DNA_2000000.txt\"  \n",
      "[2] \"batch6a/ds_batch6a/CLONES_TRBCHP_357-03-PBMC-DNA_2000000.txt\"\n",
      "[3] \"batch7/ds_batch7/CLONES_TRBCHP_357-04-PBMC-DNA_2000000.txt\"  \n",
      "[4] \"batch8/ds_batch8/CLONES_TRBCHP_357-02-PBMC-DNA_2000000.txt\"  \n"
     ]
    },
    {
     "name": "stderr",
     "output_type": "stream",
     "text": [
      "Total recovered clonotypes:\n"
     ]
    },
    {
     "name": "stdout",
     "output_type": "stream",
     "text": [
      "[1] 1042\n"
     ]
    },
    {
     "name": "stderr",
     "output_type": "stream",
     "text": [
      "Total out-of-frame clonotypes:\n"
     ]
    },
    {
     "name": "stdout",
     "output_type": "stream",
     "text": [
      "[1] 270\n"
     ]
    },
    {
     "name": "stderr",
     "output_type": "stream",
     "text": [
      "Total clonotypes with stop codon:\n"
     ]
    },
    {
     "name": "stdout",
     "output_type": "stream",
     "text": [
      "[1] 31\n"
     ]
    },
    {
     "name": "stderr",
     "output_type": "stream",
     "text": [
      "Total productive clonotypes:\n"
     ]
    },
    {
     "name": "stdout",
     "output_type": "stream",
     "text": [
      "[1] 741\n"
     ]
    },
    {
     "name": "stderr",
     "output_type": "stream",
     "text": [
      "Output contains all clonotypes\n",
      "list of samples to track clones: \n"
     ]
    },
    {
     "name": "stdout",
     "output_type": "stream",
     "text": [
      "[1] \"CHP_357-01-PBMC\" \"CHP_357-03-PBMC\" \"CHP_357-04-PBMC\" \"CHP_357-02-PBMC\"\n"
     ]
    },
    {
     "name": "stderr",
     "output_type": "stream",
     "text": [
      "Total number of recurring clonotypes: \n"
     ]
    },
    {
     "name": "stdout",
     "output_type": "stream",
     "text": [
      "[1] 3\n"
     ]
    },
    {
     "name": "stderr",
     "output_type": "stream",
     "text": [
      "these are what we color: \n"
     ]
    },
    {
     "name": "stdout",
     "output_type": "stream",
     "text": [
      "                  CASRLGWIV_TGGHEQYF                      CASRKLDREGNTIYF \n",
      "                           \"#B8D675\"                            \"#B1C8CA\" \n",
      "CASSESTVLHSCLLSMPS_CDFHLDPCHCVNTEAFF \n",
      "                           \"#BF6EC7\" \n",
      "[1] \"358\"\n"
     ]
    },
    {
     "name": "stderr",
     "output_type": "stream",
     "text": [
      "duplicated sequences:\n"
     ]
    },
    {
     "name": "stdout",
     "output_type": "stream",
     "text": [
      "character(0)\n"
     ]
    },
    {
     "name": "stderr",
     "output_type": "stream",
     "text": [
      "my files:\n"
     ]
    },
    {
     "name": "stdout",
     "output_type": "stream",
     "text": [
      "[1] \"batch_reseq/ds_batch_reseq/CLONES_TRBCHP_358-02-PBMC-DNA_2000000.txt\"\n",
      "[2] \"batch1/ds_batch1/CLONES_TRBCHP_358-01-PBMC-DNA_2000000.txt\"          \n",
      "[3] \"batch3/ds_batch3/CLONES_TRBCHP_358-03-PBMC-DNA_2000000.txt\"          \n",
      "[4] \"batch3/ds_batch3/CLONES_TRBCHP_358-05-PBMC-DNA_2000000.txt\"          \n"
     ]
    },
    {
     "name": "stderr",
     "output_type": "stream",
     "text": [
      "Total recovered clonotypes:\n"
     ]
    },
    {
     "name": "stdout",
     "output_type": "stream",
     "text": [
      "[1] 1501\n"
     ]
    },
    {
     "name": "stderr",
     "output_type": "stream",
     "text": [
      "Total out-of-frame clonotypes:\n"
     ]
    },
    {
     "name": "stdout",
     "output_type": "stream",
     "text": [
      "[1] 288\n"
     ]
    },
    {
     "name": "stderr",
     "output_type": "stream",
     "text": [
      "Total clonotypes with stop codon:\n"
     ]
    },
    {
     "name": "stdout",
     "output_type": "stream",
     "text": [
      "[1] 23\n"
     ]
    },
    {
     "name": "stderr",
     "output_type": "stream",
     "text": [
      "Total productive clonotypes:\n"
     ]
    },
    {
     "name": "stdout",
     "output_type": "stream",
     "text": [
      "[1] 1190\n"
     ]
    },
    {
     "name": "stderr",
     "output_type": "stream",
     "text": [
      "Output contains all clonotypes\n",
      "list of samples to track clones: \n"
     ]
    },
    {
     "name": "stdout",
     "output_type": "stream",
     "text": [
      "[1] \"CHP_358-02-PBMC\" \"CHP_358-01-PBMC\" \"CHP_358-03-PBMC\" \"CHP_358-05-PBMC\"\n"
     ]
    },
    {
     "name": "stderr",
     "output_type": "stream",
     "text": [
      "Total number of recurring clonotypes: \n"
     ]
    },
    {
     "name": "stdout",
     "output_type": "stream",
     "text": [
      "[1] 1\n"
     ]
    },
    {
     "name": "stderr",
     "output_type": "stream",
     "text": [
      "these are what we color: \n"
     ]
    },
    {
     "name": "stdout",
     "output_type": "stream",
     "text": [
      "CASSHSSYNSPLHF \n",
      "     \"#BCB3B3\" \n",
      "[1] \"359\"\n"
     ]
    },
    {
     "name": "stderr",
     "output_type": "stream",
     "text": [
      "duplicated sequences:\n"
     ]
    },
    {
     "name": "stdout",
     "output_type": "stream",
     "text": [
      "[1] \"CASSQEAGGAEAFF\"\n"
     ]
    },
    {
     "name": "stderr",
     "output_type": "stream",
     "text": [
      "my files:\n"
     ]
    },
    {
     "name": "stdout",
     "output_type": "stream",
     "text": [
      "[1] \"batch6a/ds_batch6a/CLONES_TRBCHP_359-02-PBMC-DNA_2000000.txt\"\n",
      "[2] \"batch6a/ds_batch6a/CLONES_TRBCHP_359-04-PBMC-DNA_2000000.txt\"\n",
      "[3] \"batch7/ds_batch7/CLONES_TRBCHP_359-01-PBMC-DNA_2000000.txt\"  \n"
     ]
    },
    {
     "name": "stderr",
     "output_type": "stream",
     "text": [
      "Total recovered clonotypes:\n"
     ]
    },
    {
     "name": "stdout",
     "output_type": "stream",
     "text": [
      "[1] 828\n"
     ]
    },
    {
     "name": "stderr",
     "output_type": "stream",
     "text": [
      "Total out-of-frame clonotypes:\n"
     ]
    },
    {
     "name": "stdout",
     "output_type": "stream",
     "text": [
      "[1] 143\n"
     ]
    },
    {
     "name": "stderr",
     "output_type": "stream",
     "text": [
      "Total clonotypes with stop codon:\n"
     ]
    },
    {
     "name": "stdout",
     "output_type": "stream",
     "text": [
      "[1] 12\n"
     ]
    },
    {
     "name": "stderr",
     "output_type": "stream",
     "text": [
      "Total productive clonotypes:\n"
     ]
    },
    {
     "name": "stdout",
     "output_type": "stream",
     "text": [
      "[1] 673\n"
     ]
    },
    {
     "name": "stderr",
     "output_type": "stream",
     "text": [
      "Output contains all clonotypes\n",
      "list of samples to track clones: \n"
     ]
    },
    {
     "name": "stdout",
     "output_type": "stream",
     "text": [
      "[1] \"CHP_359-02-PBMC\" \"CHP_359-04-PBMC\" \"CHP_359-01-PBMC\"\n"
     ]
    },
    {
     "name": "stderr",
     "output_type": "stream",
     "text": [
      "Total number of recurring clonotypes: \n"
     ]
    },
    {
     "name": "stdout",
     "output_type": "stream",
     "text": [
      "[1] 1\n"
     ]
    },
    {
     "name": "stderr",
     "output_type": "stream",
     "text": [
      "these are what we color: \n"
     ]
    },
    {
     "name": "stdout",
     "output_type": "stream",
     "text": [
      "CASSEAGGNQPQHF \n",
      "     \"#BCB3B3\" \n",
      "[1] \"360\"\n"
     ]
    },
    {
     "name": "stderr",
     "output_type": "stream",
     "text": [
      "duplicated sequences:\n"
     ]
    },
    {
     "name": "stdout",
     "output_type": "stream",
     "text": [
      "[1] \"CASSDYRTS_EGPEAKYF\" \"CASSFSGQGGYEQYF\"   \n"
     ]
    },
    {
     "name": "stderr",
     "output_type": "stream",
     "text": [
      "my files:\n"
     ]
    },
    {
     "name": "stdout",
     "output_type": "stream",
     "text": [
      "[1] \"batch3/ds_batch3/CLONES_TRBCHP_360-03-PBMC-DNA_2000000.txt\"\n",
      "[2] \"batch7/ds_batch7/CLONES_TRBCHP_360-02-PBMC-DNA_2000000.txt\"\n",
      "[3] \"batch8/ds_batch8/CLONES_TRBCHP_360-05-PBMC-DNA_2000000.txt\"\n"
     ]
    },
    {
     "name": "stderr",
     "output_type": "stream",
     "text": [
      "Total recovered clonotypes:\n"
     ]
    },
    {
     "name": "stdout",
     "output_type": "stream",
     "text": [
      "[1] 795\n"
     ]
    },
    {
     "name": "stderr",
     "output_type": "stream",
     "text": [
      "Total out-of-frame clonotypes:\n"
     ]
    },
    {
     "name": "stdout",
     "output_type": "stream",
     "text": [
      "[1] 154\n"
     ]
    },
    {
     "name": "stderr",
     "output_type": "stream",
     "text": [
      "Total clonotypes with stop codon:\n"
     ]
    },
    {
     "name": "stdout",
     "output_type": "stream",
     "text": [
      "[1] 14\n"
     ]
    },
    {
     "name": "stderr",
     "output_type": "stream",
     "text": [
      "Total productive clonotypes:\n"
     ]
    },
    {
     "name": "stdout",
     "output_type": "stream",
     "text": [
      "[1] 627\n"
     ]
    },
    {
     "name": "stderr",
     "output_type": "stream",
     "text": [
      "Output contains all clonotypes\n",
      "list of samples to track clones: \n"
     ]
    },
    {
     "name": "stdout",
     "output_type": "stream",
     "text": [
      "[1] \"CHP_360-03-PBMC\" \"CHP_360-02-PBMC\" \"CHP_360-05-PBMC\"\n"
     ]
    },
    {
     "name": "stderr",
     "output_type": "stream",
     "text": [
      "Total number of recurring clonotypes: \n"
     ]
    },
    {
     "name": "stdout",
     "output_type": "stream",
     "text": [
      "[1] 4\n"
     ]
    },
    {
     "name": "stderr",
     "output_type": "stream",
     "text": [
      "these are what we color: \n"
     ]
    },
    {
     "name": "stdout",
     "output_type": "stream",
     "text": [
      "    CASSPLYEQYF CASSLGQGIVAEAFF   CAISESVHNEQFF CASSETSGSTDTQYF \n",
      "      \"#B7DA74\"       \"#9ED4D2\"       \"#B265D5\"       \"#D697A8\" \n",
      "[1] \"361\"\n"
     ]
    },
    {
     "name": "stderr",
     "output_type": "stream",
     "text": [
      "duplicated sequences:\n"
     ]
    },
    {
     "name": "stdout",
     "output_type": "stream",
     "text": [
      "[1] \"CASSDKTANEKLFF\"    \"CASRPGGALISTDTQYF\" \"CASSFRLDSNEKLFF\"  \n"
     ]
    },
    {
     "name": "stderr",
     "output_type": "stream",
     "text": [
      "my files:\n"
     ]
    },
    {
     "name": "stdout",
     "output_type": "stream",
     "text": [
      "[1] \"batch3/ds_batch3/CLONES_TRBCHP_361-02-PBMC-DNA_2000000.txt\"\n",
      "[2] \"batch3/ds_batch3/CLONES_TRBCHP_361-03-PBMC-DNA_2000000.txt\"\n",
      "[3] \"batch4/ds_batch4/CLONES_TRBCHP_361-01-PBMC-DNA_2000000.txt\"\n",
      "[4] \"batch7/ds_batch7/CLONES_TRBCHP_361-04-PBMC-DNA_2000000.txt\"\n"
     ]
    },
    {
     "name": "stderr",
     "output_type": "stream",
     "text": [
      "Total recovered clonotypes:\n"
     ]
    },
    {
     "name": "stdout",
     "output_type": "stream",
     "text": [
      "[1] 333\n"
     ]
    },
    {
     "name": "stderr",
     "output_type": "stream",
     "text": [
      "Total out-of-frame clonotypes:\n"
     ]
    },
    {
     "name": "stdout",
     "output_type": "stream",
     "text": [
      "[1] 74\n"
     ]
    },
    {
     "name": "stderr",
     "output_type": "stream",
     "text": [
      "Total clonotypes with stop codon:\n"
     ]
    },
    {
     "name": "stdout",
     "output_type": "stream",
     "text": [
      "[1] 5\n"
     ]
    },
    {
     "name": "stderr",
     "output_type": "stream",
     "text": [
      "Total productive clonotypes:\n"
     ]
    },
    {
     "name": "stdout",
     "output_type": "stream",
     "text": [
      "[1] 254\n"
     ]
    },
    {
     "name": "stderr",
     "output_type": "stream",
     "text": [
      "Output contains all clonotypes\n",
      "list of samples to track clones: \n"
     ]
    },
    {
     "name": "stdout",
     "output_type": "stream",
     "text": [
      "[1] \"CHP_361-02-PBMC\" \"CHP_361-03-PBMC\" \"CHP_361-01-PBMC\" \"CHP_361-04-PBMC\"\n"
     ]
    },
    {
     "name": "stderr",
     "output_type": "stream",
     "text": [
      "Total number of recurring clonotypes: \n"
     ]
    },
    {
     "name": "stdout",
     "output_type": "stream",
     "text": [
      "[1] 0\n"
     ]
    },
    {
     "name": "stderr",
     "output_type": "stream",
     "text": [
      "these are what we color: \n"
     ]
    },
    {
     "name": "stdout",
     "output_type": "stream",
     "text": [
      "named character(0)\n",
      "[1] \"362\"\n"
     ]
    },
    {
     "name": "stderr",
     "output_type": "stream",
     "text": [
      "duplicated sequences:\n"
     ]
    },
    {
     "name": "stdout",
     "output_type": "stream",
     "text": [
      "[1] \"CASSQDLPGA_NTSNYGYTF\" \"CASETGGLMNTEAFF\"      \"CSARVIGAGNQPQHF\"     \n",
      "[4] \"CASSFPGQVEKLFF\"       \"CASGTSQPQHF\"         \n"
     ]
    },
    {
     "name": "stderr",
     "output_type": "stream",
     "text": [
      "my files:\n"
     ]
    },
    {
     "name": "stdout",
     "output_type": "stream",
     "text": [
      "[1] \"batch_reseq/ds_batch_reseq/CLONES_TRBCHP_362-02-PBMC-DNA_2000000.txt\"\n",
      "[2] \"batch7/ds_batch7/CLONES_TRBCHP_362-01-PBMC-DNA_2000000.txt\"          \n",
      "[3] \"batch7/ds_batch7/CLONES_TRBCHP_362-03-PBMC-DNA_2000000.txt\"          \n",
      "[4] \"batch7/ds_batch7/CLONES_TRBCHP_362-04-PBMC-DNA_2000000.txt\"          \n"
     ]
    },
    {
     "name": "stderr",
     "output_type": "stream",
     "text": [
      "Total recovered clonotypes:\n"
     ]
    },
    {
     "name": "stdout",
     "output_type": "stream",
     "text": [
      "[1] 691\n"
     ]
    },
    {
     "name": "stderr",
     "output_type": "stream",
     "text": [
      "Total out-of-frame clonotypes:\n"
     ]
    },
    {
     "name": "stdout",
     "output_type": "stream",
     "text": [
      "[1] 151\n"
     ]
    },
    {
     "name": "stderr",
     "output_type": "stream",
     "text": [
      "Total clonotypes with stop codon:\n"
     ]
    },
    {
     "name": "stdout",
     "output_type": "stream",
     "text": [
      "[1] 13\n"
     ]
    },
    {
     "name": "stderr",
     "output_type": "stream",
     "text": [
      "Total productive clonotypes:\n"
     ]
    },
    {
     "name": "stdout",
     "output_type": "stream",
     "text": [
      "[1] 527\n"
     ]
    },
    {
     "name": "stderr",
     "output_type": "stream",
     "text": [
      "Output contains all clonotypes\n",
      "list of samples to track clones: \n"
     ]
    },
    {
     "name": "stdout",
     "output_type": "stream",
     "text": [
      "[1] \"CHP_362-02-PBMC\" \"CHP_362-01-PBMC\" \"CHP_362-03-PBMC\" \"CHP_362-04-PBMC\"\n"
     ]
    },
    {
     "name": "stderr",
     "output_type": "stream",
     "text": [
      "Total number of recurring clonotypes: \n"
     ]
    },
    {
     "name": "stdout",
     "output_type": "stream",
     "text": [
      "[1] 3\n"
     ]
    },
    {
     "name": "stderr",
     "output_type": "stream",
     "text": [
      "these are what we color: \n"
     ]
    },
    {
     "name": "stdout",
     "output_type": "stream",
     "text": [
      " CASSLGLA_SSYNEQFF CASRQYRLGRGPNQPQHF    CSARDGQAGDTEAFF \n",
      "         \"#BF6EC7\"          \"#B8D675\"          \"#B1C8CA\" \n",
      "[1] \"364\"\n"
     ]
    },
    {
     "name": "stderr",
     "output_type": "stream",
     "text": [
      "duplicated sequences:\n"
     ]
    },
    {
     "name": "stdout",
     "output_type": "stream",
     "text": [
      "character(0)\n"
     ]
    },
    {
     "name": "stderr",
     "output_type": "stream",
     "text": [
      "my files:\n"
     ]
    },
    {
     "name": "stdout",
     "output_type": "stream",
     "text": [
      "[1] \"batch4/ds_batch4/CLONES_TRBCHP_364-01-PBMC-DNA_2000000.txt\"\n",
      "[2] \"batch4/ds_batch4/CLONES_TRBCHP_364-02-PBMC-DNA_2000000.txt\"\n",
      "[3] \"batch4/ds_batch4/CLONES_TRBCHP_364-04-PBMC-DNA_2000000.txt\"\n"
     ]
    },
    {
     "name": "stderr",
     "output_type": "stream",
     "text": [
      "Total recovered clonotypes:\n"
     ]
    },
    {
     "name": "stdout",
     "output_type": "stream",
     "text": [
      "[1] 360\n"
     ]
    },
    {
     "name": "stderr",
     "output_type": "stream",
     "text": [
      "Total out-of-frame clonotypes:\n"
     ]
    },
    {
     "name": "stdout",
     "output_type": "stream",
     "text": [
      "[1] 72\n"
     ]
    },
    {
     "name": "stderr",
     "output_type": "stream",
     "text": [
      "Total clonotypes with stop codon:\n"
     ]
    },
    {
     "name": "stdout",
     "output_type": "stream",
     "text": [
      "[1] 8\n"
     ]
    },
    {
     "name": "stderr",
     "output_type": "stream",
     "text": [
      "Total productive clonotypes:\n"
     ]
    },
    {
     "name": "stdout",
     "output_type": "stream",
     "text": [
      "[1] 280\n"
     ]
    },
    {
     "name": "stderr",
     "output_type": "stream",
     "text": [
      "Output contains all clonotypes\n",
      "list of samples to track clones: \n"
     ]
    },
    {
     "name": "stdout",
     "output_type": "stream",
     "text": [
      "[1] \"CHP_364-01-PBMC\" \"CHP_364-02-PBMC\" \"CHP_364-04-PBMC\"\n"
     ]
    },
    {
     "name": "stderr",
     "output_type": "stream",
     "text": [
      "Total number of recurring clonotypes: \n"
     ]
    },
    {
     "name": "stdout",
     "output_type": "stream",
     "text": [
      "[1] 2\n"
     ]
    },
    {
     "name": "stderr",
     "output_type": "stream",
     "text": [
      "these are what we color: \n"
     ]
    },
    {
     "name": "stdout",
     "output_type": "stream",
     "text": [
      "CAISGPGTSGRAQDTQYF     CASSGLAGADTQYF \n",
      "         \"#BD81C8\"          \"#B6D4A1\" \n",
      "[1] \"368\"\n"
     ]
    },
    {
     "name": "stderr",
     "output_type": "stream",
     "text": [
      "duplicated sequences:\n"
     ]
    },
    {
     "name": "stdout",
     "output_type": "stream",
     "text": [
      "[1] \"CASSLQGMGGYTF\"   \"CASSAANTDTQYF\"   \"CASSERTALNTEAFF\" \"CASSLAPGNTEAFF\" \n",
      "[5] \"CSASGSL_TDTQYF\"  \"CASSPFHTDTQYF\"   \"CASSLTSDTQYF\"   \n"
     ]
    },
    {
     "name": "stderr",
     "output_type": "stream",
     "text": [
      "my files:\n"
     ]
    },
    {
     "name": "stdout",
     "output_type": "stream",
     "text": [
      "[1] \"batch3/ds_batch3/CLONES_TRBCHP_368-05-PBMC-DNA_2000000.txt\"\n",
      "[2] \"batch7/ds_batch7/CLONES_TRBCHP_368-01-PBMC-DNA_2000000.txt\"\n",
      "[3] \"batch7/ds_batch7/CLONES_TRBCHP_368-04-PBMC-DNA_2000000.txt\"\n"
     ]
    },
    {
     "name": "stderr",
     "output_type": "stream",
     "text": [
      "Total recovered clonotypes:\n"
     ]
    },
    {
     "name": "stdout",
     "output_type": "stream",
     "text": [
      "[1] 924\n"
     ]
    },
    {
     "name": "stderr",
     "output_type": "stream",
     "text": [
      "Total out-of-frame clonotypes:\n"
     ]
    },
    {
     "name": "stdout",
     "output_type": "stream",
     "text": [
      "[1] 238\n"
     ]
    },
    {
     "name": "stderr",
     "output_type": "stream",
     "text": [
      "Total clonotypes with stop codon:\n"
     ]
    },
    {
     "name": "stdout",
     "output_type": "stream",
     "text": [
      "[1] 20\n"
     ]
    },
    {
     "name": "stderr",
     "output_type": "stream",
     "text": [
      "Total productive clonotypes:\n"
     ]
    },
    {
     "name": "stdout",
     "output_type": "stream",
     "text": [
      "[1] 666\n"
     ]
    },
    {
     "name": "stderr",
     "output_type": "stream",
     "text": [
      "Output contains all clonotypes\n",
      "list of samples to track clones: \n"
     ]
    },
    {
     "name": "stdout",
     "output_type": "stream",
     "text": [
      "[1] \"CHP_368-05-PBMC\" \"CHP_368-01-PBMC\" \"CHP_368-04-PBMC\"\n"
     ]
    },
    {
     "name": "stderr",
     "output_type": "stream",
     "text": [
      "Total number of recurring clonotypes: \n"
     ]
    },
    {
     "name": "stdout",
     "output_type": "stream",
     "text": [
      "[1] 15\n"
     ]
    },
    {
     "name": "stderr",
     "output_type": "stream",
     "text": [
      "these are what we color: \n"
     ]
    },
    {
     "name": "stdout",
     "output_type": "stream",
     "text": [
      "                                              CASSQESSPIGTEAFF \n",
      "                                                     \"#AF41E4\" \n",
      "                                               CASSGSGTVWETQYF \n",
      "                                                     \"#93A78F\" \n",
      "                                         CASSQDLGETLLFMNTGELFF \n",
      "                                                     \"#8473D8\" \n",
      "                                               CASSAGGTANTEAFF \n",
      "                                                     \"#DEB06D\" \n",
      "                                              CASSKGAC_TNEKLFF \n",
      "                                                     \"#76B2DC\" \n",
      "                                                CASTLPN_GKKLFF \n",
      "                                                     \"#D9DB51\" \n",
      "                                                 CASSQSYYLEQFF \n",
      "                                                     \"#CCE49D\" \n",
      "     CASSGSGTVWETQYFGPGTRLLVLGERG_AGARARAAWVWFLRGVPGLCSGANVLTF \n",
      "                                                     \"#DC5A5C\" \n",
      "CASSQESSPIGTEAFFGQGTRLTVVGKTFFR_LLQIRHREKWVHSVPFRVAIFLCANYGYTF \n",
      "                                                     \"#D563BE\" \n",
      "                                        CASSQEKKGFPESGSPRNEQFF \n",
      "                                                     \"#D391A4\" \n",
      "                                               CASSPGTGGYQPQHF \n",
      "                                                     \"#7DE5D9\" \n",
      "                                           CASRRQGLFLFSSTDTQYF \n",
      "                                                     \"#69DC96\" \n",
      "                                               CASSTNR_NTGELFF \n",
      "                                                     \"#C8A8DF\" \n",
      "                                                CASSLAGSTYEQYF \n",
      "                                                     \"#D9DCDA\" \n",
      "                                               CASSERGGPIGGAFF \n",
      "                                                     \"#8CE65B\" \n",
      "[1] \"370\"\n"
     ]
    },
    {
     "name": "stderr",
     "output_type": "stream",
     "text": [
      "duplicated sequences:\n"
     ]
    },
    {
     "name": "stdout",
     "output_type": "stream",
     "text": [
      "[1] \"CASSDSGGQGRKDSNQPQHF\" \"CASSSPGTRGGGELFF\"     \"CASSLPGTGSYEQYF\"     \n",
      "[4] \"CASSLGWGNTEAFF\"       \"CASSVGGGSEAFF\"       \n"
     ]
    },
    {
     "name": "stderr",
     "output_type": "stream",
     "text": [
      "my files:\n"
     ]
    },
    {
     "name": "stdout",
     "output_type": "stream",
     "text": [
      "[1] \"batch3/ds_batch3/CLONES_TRBCHP_370-02-PBMC-DNA_2000000.txt\"\n",
      "[2] \"batch7/ds_batch7/CLONES_TRBCHP_370-01-PBMC-DNA_2000000.txt\"\n",
      "[3] \"batch7/ds_batch7/CLONES_TRBCHP_370-05-PBMC-DNA_2000000.txt\"\n",
      "[4] \"batch8/ds_batch8/CLONES_TRBCHP_370-03-PBMC-DNA_2000000.txt\"\n"
     ]
    },
    {
     "name": "stderr",
     "output_type": "stream",
     "text": [
      "Total recovered clonotypes:\n"
     ]
    },
    {
     "name": "stdout",
     "output_type": "stream",
     "text": [
      "[1] 1123\n"
     ]
    },
    {
     "name": "stderr",
     "output_type": "stream",
     "text": [
      "Total out-of-frame clonotypes:\n"
     ]
    },
    {
     "name": "stdout",
     "output_type": "stream",
     "text": [
      "[1] 194\n"
     ]
    },
    {
     "name": "stderr",
     "output_type": "stream",
     "text": [
      "Total clonotypes with stop codon:\n"
     ]
    },
    {
     "name": "stdout",
     "output_type": "stream",
     "text": [
      "[1] 25\n"
     ]
    },
    {
     "name": "stderr",
     "output_type": "stream",
     "text": [
      "Total productive clonotypes:\n"
     ]
    },
    {
     "name": "stdout",
     "output_type": "stream",
     "text": [
      "[1] 904\n"
     ]
    },
    {
     "name": "stderr",
     "output_type": "stream",
     "text": [
      "Output contains all clonotypes\n",
      "list of samples to track clones: \n"
     ]
    },
    {
     "name": "stdout",
     "output_type": "stream",
     "text": [
      "[1] \"CHP_370-02-PBMC\" \"CHP_370-01-PBMC\" \"CHP_370-05-PBMC\" \"CHP_370-03-PBMC\"\n"
     ]
    },
    {
     "name": "stderr",
     "output_type": "stream",
     "text": [
      "Total number of recurring clonotypes: \n"
     ]
    },
    {
     "name": "stdout",
     "output_type": "stream",
     "text": [
      "[1] 4\n"
     ]
    },
    {
     "name": "stderr",
     "output_type": "stream",
     "text": [
      "these are what we color: \n"
     ]
    },
    {
     "name": "stdout",
     "output_type": "stream",
     "text": [
      "CASSIGGTLWAGGTEAFF    CASSLGTLPNQPQHF   CASRSGGYSYNSPLHF     CASSDSSGANVLTF \n",
      "         \"#B7DA75\"          \"#D697A8\"          \"#9DD3D2\"          \"#B265D5\" \n",
      "[1] \"373\"\n"
     ]
    },
    {
     "name": "stderr",
     "output_type": "stream",
     "text": [
      "duplicated sequences:\n"
     ]
    },
    {
     "name": "stdout",
     "output_type": "stream",
     "text": [
      "[1] \"CASSLGARSSGSYNEQFF\" \"CASSQEYSTDTQYF\"    \n"
     ]
    },
    {
     "name": "stderr",
     "output_type": "stream",
     "text": [
      "my files:\n"
     ]
    },
    {
     "name": "stdout",
     "output_type": "stream",
     "text": [
      "[1] \"batch3/ds_batch3/CLONES_TRBCHP_373-01-PBMC-DNA_2000000.txt\"\n",
      "[2] \"batch7/ds_batch7/CLONES_TRBCHP_373-02-PBMC-DNA_2000000.txt\"\n",
      "[3] \"batch8/ds_batch8/CLONES_TRBCHP_373-03-PBMC-DNA_2000000.txt\"\n"
     ]
    },
    {
     "name": "stderr",
     "output_type": "stream",
     "text": [
      "Total recovered clonotypes:\n"
     ]
    },
    {
     "name": "stdout",
     "output_type": "stream",
     "text": [
      "[1] 452\n"
     ]
    },
    {
     "name": "stderr",
     "output_type": "stream",
     "text": [
      "Total out-of-frame clonotypes:\n"
     ]
    },
    {
     "name": "stdout",
     "output_type": "stream",
     "text": [
      "[1] 102\n"
     ]
    },
    {
     "name": "stderr",
     "output_type": "stream",
     "text": [
      "Total clonotypes with stop codon:\n"
     ]
    },
    {
     "name": "stdout",
     "output_type": "stream",
     "text": [
      "[1] 9\n"
     ]
    },
    {
     "name": "stderr",
     "output_type": "stream",
     "text": [
      "Total productive clonotypes:\n"
     ]
    },
    {
     "name": "stdout",
     "output_type": "stream",
     "text": [
      "[1] 341\n"
     ]
    },
    {
     "name": "stderr",
     "output_type": "stream",
     "text": [
      "Output contains all clonotypes\n",
      "list of samples to track clones: \n"
     ]
    },
    {
     "name": "stdout",
     "output_type": "stream",
     "text": [
      "[1] \"CHP_373-01-PBMC\" \"CHP_373-02-PBMC\" \"CHP_373-03-PBMC\"\n"
     ]
    },
    {
     "name": "stderr",
     "output_type": "stream",
     "text": [
      "Total number of recurring clonotypes: \n"
     ]
    },
    {
     "name": "stdout",
     "output_type": "stream",
     "text": [
      "[1] 0\n"
     ]
    },
    {
     "name": "stderr",
     "output_type": "stream",
     "text": [
      "these are what we color: \n"
     ]
    },
    {
     "name": "stdout",
     "output_type": "stream",
     "text": [
      "named character(0)\n",
      "[1] \"374\"\n"
     ]
    },
    {
     "name": "stderr",
     "output_type": "stream",
     "text": [
      "duplicated sequences:\n"
     ]
    },
    {
     "name": "stdout",
     "output_type": "stream",
     "text": [
      "[1] \"CASRNRVTTDTQYF\" \"CASSLF_AREAFF\" \n"
     ]
    },
    {
     "name": "stderr",
     "output_type": "stream",
     "text": [
      "my files:\n"
     ]
    },
    {
     "name": "stdout",
     "output_type": "stream",
     "text": [
      "[1] \"batch3/ds_batch3/CLONES_TRBCHP_374-03-PBMC-DNA_2000000.txt\"\n",
      "[2] \"batch3/ds_batch3/CLONES_TRBCHP_374-04-PBMC-DNA_2000000.txt\"\n",
      "[3] \"batch3/ds_batch3/CLONES_TRBCHP_374-05-PBMC-DNA_2000000.txt\"\n"
     ]
    },
    {
     "name": "stderr",
     "output_type": "stream",
     "text": [
      "Total recovered clonotypes:\n"
     ]
    },
    {
     "name": "stdout",
     "output_type": "stream",
     "text": [
      "[1] 265\n"
     ]
    },
    {
     "name": "stderr",
     "output_type": "stream",
     "text": [
      "Total out-of-frame clonotypes:\n"
     ]
    },
    {
     "name": "stdout",
     "output_type": "stream",
     "text": [
      "[1] 66\n"
     ]
    },
    {
     "name": "stderr",
     "output_type": "stream",
     "text": [
      "Total clonotypes with stop codon:\n"
     ]
    },
    {
     "name": "stdout",
     "output_type": "stream",
     "text": [
      "[1] 2\n"
     ]
    },
    {
     "name": "stderr",
     "output_type": "stream",
     "text": [
      "Total productive clonotypes:\n"
     ]
    },
    {
     "name": "stdout",
     "output_type": "stream",
     "text": [
      "[1] 197\n"
     ]
    },
    {
     "name": "stderr",
     "output_type": "stream",
     "text": [
      "Output contains all clonotypes\n",
      "list of samples to track clones: \n"
     ]
    },
    {
     "name": "stdout",
     "output_type": "stream",
     "text": [
      "[1] \"CHP_374-03-PBMC\" \"CHP_374-04-PBMC\" \"CHP_374-05-PBMC\"\n"
     ]
    },
    {
     "name": "stderr",
     "output_type": "stream",
     "text": [
      "Total number of recurring clonotypes: \n"
     ]
    },
    {
     "name": "stdout",
     "output_type": "stream",
     "text": [
      "[1] 0\n"
     ]
    },
    {
     "name": "stderr",
     "output_type": "stream",
     "text": [
      "these are what we color: \n"
     ]
    },
    {
     "name": "stdout",
     "output_type": "stream",
     "text": [
      "named character(0)\n",
      "[1] \"375\"\n"
     ]
    },
    {
     "name": "stderr",
     "output_type": "stream",
     "text": [
      "duplicated sequences:\n"
     ]
    },
    {
     "name": "stdout",
     "output_type": "stream",
     "text": [
      "character(0)\n"
     ]
    },
    {
     "name": "stderr",
     "output_type": "stream",
     "text": [
      "my files:\n"
     ]
    },
    {
     "name": "stdout",
     "output_type": "stream",
     "text": [
      "[1] \"batch_reseq/ds_batch_reseq/CLONES_TRBCHP_375-01-PBMC-DNA_2000000.txt\"\n",
      "[2] \"batch11/CLONES_TRBCHP_375-05_PBMC_DNA_2000000.txt\"                   \n",
      "[3] \"batch7/ds_batch7/CLONES_TRBCHP_375-02-PBMC-DNA_2000000.txt\"          \n"
     ]
    },
    {
     "name": "stderr",
     "output_type": "stream",
     "text": [
      "Total recovered clonotypes:\n"
     ]
    },
    {
     "name": "stdout",
     "output_type": "stream",
     "text": [
      "[1] 855\n"
     ]
    },
    {
     "name": "stderr",
     "output_type": "stream",
     "text": [
      "Total out-of-frame clonotypes:\n"
     ]
    },
    {
     "name": "stdout",
     "output_type": "stream",
     "text": [
      "[1] 168\n"
     ]
    },
    {
     "name": "stderr",
     "output_type": "stream",
     "text": [
      "Total clonotypes with stop codon:\n"
     ]
    },
    {
     "name": "stdout",
     "output_type": "stream",
     "text": [
      "[1] 22\n"
     ]
    },
    {
     "name": "stderr",
     "output_type": "stream",
     "text": [
      "Total productive clonotypes:\n"
     ]
    },
    {
     "name": "stdout",
     "output_type": "stream",
     "text": [
      "[1] 665\n"
     ]
    },
    {
     "name": "stderr",
     "output_type": "stream",
     "text": [
      "Output contains all clonotypes\n",
      "list of samples to track clones: \n"
     ]
    },
    {
     "name": "stdout",
     "output_type": "stream",
     "text": [
      "[1] \"CHP_375-01-PBMC\" \"CHP_375-05_PBMC\" \"CHP_375-02-PBMC\"\n"
     ]
    },
    {
     "name": "stderr",
     "output_type": "stream",
     "text": [
      "Total number of recurring clonotypes: \n"
     ]
    },
    {
     "name": "stdout",
     "output_type": "stream",
     "text": [
      "[1] 4\n"
     ]
    },
    {
     "name": "stderr",
     "output_type": "stream",
     "text": [
      "these are what we color: \n"
     ]
    },
    {
     "name": "stdout",
     "output_type": "stream",
     "text": [
      "  CASSELAGGYNEQFF    CASSFAPGVSEQYF CASSPEFQGVSGNTIYF   CASSDSSGGANEQFF \n",
      "        \"#9DD3D2\"         \"#B265D5\"         \"#B7DA75\"         \"#D697A8\" \n",
      "[1] \"378\"\n"
     ]
    },
    {
     "name": "stderr",
     "output_type": "stream",
     "text": [
      "duplicated sequences:\n"
     ]
    },
    {
     "name": "stdout",
     "output_type": "stream",
     "text": [
      "[1] \"CASSPGTGDNSPLHF\"                                        \n",
      "[2] \"CASRRGPELFFGEGSRLTVLGKEAVGAPESSERAGWAEVSSCPTLRGAVLRGAAG\"\n",
      "[3] \"CASSEGVSSYNSPLHF\"                                       \n",
      "[4] \"CASSLAGGGGYGYTF\"                                        \n",
      "[5] \"CASTQRWGPNTEAFF\"                                        \n",
      "[6] \"CASSPFRSYNEQFF\"                                         \n",
      "[7] \"CAISEVSTYGYTF\"                                          \n"
     ]
    },
    {
     "name": "stderr",
     "output_type": "stream",
     "text": [
      "my files:\n"
     ]
    },
    {
     "name": "stdout",
     "output_type": "stream",
     "text": [
      "[1] \"batch3/ds_batch3/CLONES_TRBCHP_378-01-PBMC-DNA_2000000.txt\"\n",
      "[2] \"batch7/ds_batch7/CLONES_TRBCHP_378-02-PBMC-DNA_2000000.txt\"\n",
      "[3] \"batch8/ds_batch8/CLONES_TRBCHP_378-04-PBMC-DNA_2000000.txt\"\n"
     ]
    },
    {
     "name": "stderr",
     "output_type": "stream",
     "text": [
      "Total recovered clonotypes:\n"
     ]
    },
    {
     "name": "stdout",
     "output_type": "stream",
     "text": [
      "[1] 1161\n"
     ]
    },
    {
     "name": "stderr",
     "output_type": "stream",
     "text": [
      "Total out-of-frame clonotypes:\n"
     ]
    },
    {
     "name": "stdout",
     "output_type": "stream",
     "text": [
      "[1] 244\n"
     ]
    },
    {
     "name": "stderr",
     "output_type": "stream",
     "text": [
      "Total clonotypes with stop codon:\n"
     ]
    },
    {
     "name": "stdout",
     "output_type": "stream",
     "text": [
      "[1] 20\n"
     ]
    },
    {
     "name": "stderr",
     "output_type": "stream",
     "text": [
      "Total productive clonotypes:\n"
     ]
    },
    {
     "name": "stdout",
     "output_type": "stream",
     "text": [
      "[1] 897\n"
     ]
    },
    {
     "name": "stderr",
     "output_type": "stream",
     "text": [
      "Output contains all clonotypes\n",
      "list of samples to track clones: \n"
     ]
    },
    {
     "name": "stdout",
     "output_type": "stream",
     "text": [
      "[1] \"CHP_378-01-PBMC\" \"CHP_378-02-PBMC\" \"CHP_378-04-PBMC\"\n"
     ]
    },
    {
     "name": "stderr",
     "output_type": "stream",
     "text": [
      "Total number of recurring clonotypes: \n"
     ]
    },
    {
     "name": "stdout",
     "output_type": "stream",
     "text": [
      "[1] 13\n"
     ]
    },
    {
     "name": "stderr",
     "output_type": "stream",
     "text": [
      "these are what we color: \n"
     ]
    },
    {
     "name": "stdout",
     "output_type": "stream",
     "text": [
      "             CASSQTLA_GNQETQYF                 CASSHSTVNTEAFF \n",
      "                     \"#DD936A\"                      \"#857AD7\" \n",
      "                   CAWSPNTEAFF             CASS*PLTG_QNDSPLHF \n",
      "                     \"#DBD161\"                      \"#7CAFDA\" \n",
      "              CASSGDRQVYPNEQFF                CASSGIELAKNIQYF \n",
      "                     \"#D56ACC\"                      \"#D9527E\" \n",
      "                CASSHDWDTNTQYF               CASSQGAGFVNTEAFF \n",
      "                     \"#D3D5D6\"                      \"#7DE0D6\" \n",
      "                   CAWSPATEAFF CASSLDTV*QRLGGF_SGPGRLCSGNTIYF \n",
      "                     \"#A53EE2\"                      \"#96E758\" \n",
      "                CASSPGDLNTEAFF               CASSGLPI_PDYEQYF \n",
      "                     \"#C7D0A0\"                      \"#81DF97\" \n",
      "               CASSDLGGARETQYF \n",
      "                     \"#D29FC5\" \n",
      "[1] \"380\"\n"
     ]
    },
    {
     "name": "stderr",
     "output_type": "stream",
     "text": [
      "duplicated sequences:\n"
     ]
    },
    {
     "name": "stdout",
     "output_type": "stream",
     "text": [
      "character(0)\n"
     ]
    },
    {
     "name": "stderr",
     "output_type": "stream",
     "text": [
      "my files:\n"
     ]
    },
    {
     "name": "stdout",
     "output_type": "stream",
     "text": [
      "[1] \"batch3/ds_batch3/CLONES_TRBCHP_380-02-PBMC-DNA_2000000.txt\"\n",
      "[2] \"batch8/ds_batch8/CLONES_TRBCHP_380-03-PBMC-DNA_2000000.txt\"\n",
      "[3] \"batch8/ds_batch8/CLONES_TRBCHP_380-05-PBMC-DNA_2000000.txt\"\n"
     ]
    },
    {
     "name": "stderr",
     "output_type": "stream",
     "text": [
      "Total recovered clonotypes:\n"
     ]
    },
    {
     "name": "stdout",
     "output_type": "stream",
     "text": [
      "[1] 196\n"
     ]
    },
    {
     "name": "stderr",
     "output_type": "stream",
     "text": [
      "Total out-of-frame clonotypes:\n"
     ]
    },
    {
     "name": "stdout",
     "output_type": "stream",
     "text": [
      "[1] 36\n"
     ]
    },
    {
     "name": "stderr",
     "output_type": "stream",
     "text": [
      "Total clonotypes with stop codon:\n"
     ]
    },
    {
     "name": "stdout",
     "output_type": "stream",
     "text": [
      "[1] 1\n"
     ]
    },
    {
     "name": "stderr",
     "output_type": "stream",
     "text": [
      "Total productive clonotypes:\n"
     ]
    },
    {
     "name": "stdout",
     "output_type": "stream",
     "text": [
      "[1] 159\n"
     ]
    },
    {
     "name": "stderr",
     "output_type": "stream",
     "text": [
      "Output contains all clonotypes\n",
      "list of samples to track clones: \n"
     ]
    },
    {
     "name": "stdout",
     "output_type": "stream",
     "text": [
      "[1] \"CHP_380-02-PBMC\" \"CHP_380-03-PBMC\" \"CHP_380-05-PBMC\"\n"
     ]
    },
    {
     "name": "stderr",
     "output_type": "stream",
     "text": [
      "Total number of recurring clonotypes: \n"
     ]
    },
    {
     "name": "stdout",
     "output_type": "stream",
     "text": [
      "[1] 10\n"
     ]
    },
    {
     "name": "stderr",
     "output_type": "stream",
     "text": [
      "these are what we color: \n"
     ]
    },
    {
     "name": "stdout",
     "output_type": "stream",
     "text": [
      "     CASRSGSTEAFF CASSFKRGFSGANVLTF CASSEPPGANSYNEQFF   CASSPRSGDQETQYF \n",
      "        \"#DA7B6B\"         \"#D0D4C0\"         \"#8781DB\"         \"#7DE3BE\" \n",
      "      CASGFGGELFF CASSDDLTGGYTDTQYF   CASSHQGNTYNEQFF       CAKDG_REGHF \n",
      "        \"#83C3DD\"         \"#AB44E4\"         \"#D666BB\"         \"#9BE464\" \n",
      " CSARDLIR_QSYEQYF     CASSFSLPYEQYF \n",
      "        \"#CEA6CB\"         \"#DACA6C\" \n",
      "[1] \"382\"\n"
     ]
    },
    {
     "name": "stderr",
     "output_type": "stream",
     "text": [
      "duplicated sequences:\n"
     ]
    },
    {
     "name": "stdout",
     "output_type": "stream",
     "text": [
      "[1] \"CAWSVFSGYSYNEQFF\"\n"
     ]
    },
    {
     "name": "stderr",
     "output_type": "stream",
     "text": [
      "my files:\n"
     ]
    },
    {
     "name": "stdout",
     "output_type": "stream",
     "text": [
      "[1] \"batch11/CLONES_TRBCHP_382-03_PBMC_DNA_2000000.txt\"         \n",
      "[2] \"batch11/CLONES_TRBCHP_382-04_PBMC_DNA_2000000.txt\"         \n",
      "[3] \"batch8/ds_batch8/CLONES_TRBCHP_382-02-PBMC-DNA_2000000.txt\"\n"
     ]
    },
    {
     "name": "stderr",
     "output_type": "stream",
     "text": [
      "Total recovered clonotypes:\n"
     ]
    },
    {
     "name": "stdout",
     "output_type": "stream",
     "text": [
      "[1] 191\n"
     ]
    },
    {
     "name": "stderr",
     "output_type": "stream",
     "text": [
      "Total out-of-frame clonotypes:\n"
     ]
    },
    {
     "name": "stdout",
     "output_type": "stream",
     "text": [
      "[1] 50\n"
     ]
    },
    {
     "name": "stderr",
     "output_type": "stream",
     "text": [
      "Total clonotypes with stop codon:\n"
     ]
    },
    {
     "name": "stdout",
     "output_type": "stream",
     "text": [
      "[1] 2\n"
     ]
    },
    {
     "name": "stderr",
     "output_type": "stream",
     "text": [
      "Total productive clonotypes:\n"
     ]
    },
    {
     "name": "stdout",
     "output_type": "stream",
     "text": [
      "[1] 139\n"
     ]
    },
    {
     "name": "stderr",
     "output_type": "stream",
     "text": [
      "Output contains all clonotypes\n",
      "list of samples to track clones: \n"
     ]
    },
    {
     "name": "stdout",
     "output_type": "stream",
     "text": [
      "[1] \"CHP_382-03_PBMC\" \"CHP_382-04_PBMC\" \"CHP_382-02-PBMC\"\n"
     ]
    },
    {
     "name": "stderr",
     "output_type": "stream",
     "text": [
      "Total number of recurring clonotypes: \n"
     ]
    },
    {
     "name": "stdout",
     "output_type": "stream",
     "text": [
      "[1] 0\n"
     ]
    },
    {
     "name": "stderr",
     "output_type": "stream",
     "text": [
      "these are what we color: \n"
     ]
    },
    {
     "name": "stdout",
     "output_type": "stream",
     "text": [
      "named character(0)\n",
      "[1] \"387\"\n"
     ]
    },
    {
     "name": "stderr",
     "output_type": "stream",
     "text": [
      "duplicated sequences:\n"
     ]
    },
    {
     "name": "stdout",
     "output_type": "stream",
     "text": [
      " [1] \"CAWSVGGG_NTGELFF\"                                                                 \n",
      " [2] \"CASSKPRR_TGDEKLFF\"                                                                \n",
      " [3] \"CASSYREGQPQHF\"                                                                    \n",
      " [4] \"CASSLTPGAYNEQFFGPGTRLTVLGKKGAPGGREGEQPSL_TTPEPCS*GSGHWAIQGPPRGKRGLRQGPQGCANTGELFF\"\n",
      " [5] \"CASSLLGGARETQYFGPGTRLLVLGERG_AGARARAAWVWFLRGVPGLCSGANVLTF\"                        \n",
      " [6] \"CASSASGPGLAGGDSYNEQFF\"                                                            \n",
      " [7] \"CASSLAGQYFVTNEKLFF\"                                                               \n",
      " [8] \"CASSNGLAGGGSYEQYF\"                                                                \n",
      " [9] \"CASSQDNS_VLPNEQFF\"                                                                \n",
      "[10] \"CASSESGTAGSYEQYF\"                                                                 \n",
      "[11] \"CASSLGVGYPEDEQFF\"                                                                 \n",
      "[12] \"CASSYSSQNTGELFF\"                                                                  \n",
      "[13] \"CASSSRTGSYNEQFF\"                                                                  \n",
      "[14] \"CASSDSTSGGDEQYF\"                                                                  \n",
      "[15] \"CASSVSGGPVDTQYF\"                                                                  \n",
      "[16] \"CASETDGGGTDTQYF\"                                                                  \n",
      "[17] \"CASSSRR_KENIQYF\"                                                                  \n",
      "[18] \"CASSDPGPPGEQYF\"                                                                   \n",
      "[19] \"CASSPPVFSPLHF\"                                                                    \n",
      "[20] \"CASSYAGEQFF\"                                                                      \n"
     ]
    },
    {
     "name": "stderr",
     "output_type": "stream",
     "text": [
      "my files:\n"
     ]
    },
    {
     "name": "stdout",
     "output_type": "stream",
     "text": [
      "[1] \"batch11/CLONES_TRBCHP_387-02_PBMC_DNA_2000000.txt\"         \n",
      "[2] \"batch11/CLONES_TRBCHP_387-03_PBMC_DNA_2000000.txt\"         \n",
      "[3] \"batch8/ds_batch8/CLONES_TRBCHP_387-01-PBMC-DNA_2000000.txt\"\n"
     ]
    },
    {
     "name": "stderr",
     "output_type": "stream",
     "text": [
      "Total recovered clonotypes:\n"
     ]
    },
    {
     "name": "stdout",
     "output_type": "stream",
     "text": [
      "[1] 1171\n"
     ]
    },
    {
     "name": "stderr",
     "output_type": "stream",
     "text": [
      "Total out-of-frame clonotypes:\n"
     ]
    },
    {
     "name": "stdout",
     "output_type": "stream",
     "text": [
      "[1] 274\n"
     ]
    },
    {
     "name": "stderr",
     "output_type": "stream",
     "text": [
      "Total clonotypes with stop codon:\n"
     ]
    },
    {
     "name": "stdout",
     "output_type": "stream",
     "text": [
      "[1] 23\n"
     ]
    },
    {
     "name": "stderr",
     "output_type": "stream",
     "text": [
      "Total productive clonotypes:\n"
     ]
    },
    {
     "name": "stdout",
     "output_type": "stream",
     "text": [
      "[1] 874\n"
     ]
    },
    {
     "name": "stderr",
     "output_type": "stream",
     "text": [
      "Output contains all clonotypes\n",
      "list of samples to track clones: \n"
     ]
    },
    {
     "name": "stdout",
     "output_type": "stream",
     "text": [
      "[1] \"CHP_387-02_PBMC\" \"CHP_387-03_PBMC\" \"CHP_387-01-PBMC\"\n"
     ]
    },
    {
     "name": "stderr",
     "output_type": "stream",
     "text": [
      "Total number of recurring clonotypes: \n"
     ]
    },
    {
     "name": "stdout",
     "output_type": "stream",
     "text": [
      "[1] 16\n"
     ]
    },
    {
     "name": "stderr",
     "output_type": "stream",
     "text": [
      "these are what we color: \n"
     ]
    },
    {
     "name": "stdout",
     "output_type": "stream",
     "text": [
      "           CASSRNTQPQVGRSNEQFF                 CASRSSGSYNEQFF \n",
      "                     \"#DDBD64\"                      \"#AC3EE5\" \n",
      "                  CASSLVRGEAFF               CASS*WDR_GPETQYF \n",
      "                     \"#DFA691\"                      \"#886ED4\" \n",
      "                   CASSQ_FGYTF                CASSAGGQVNQPQHF \n",
      "                     \"#DC5861\"                      \"#73C8DE\" \n",
      "               CASF*RG_YQETQYF                 CASSYSSGANVLTF \n",
      "                     \"#7FE95E\"                      \"#D4D9E2\" \n",
      "                  CASSLGTDTQYF             CASSLIVRDRAMNTEAFF \n",
      "                     \"#8EA28B\"                      \"#D4E7B5\" \n",
      "                CASSPTGVYEKLFF                 CASRQRLAKNIQYF \n",
      "                     \"#CCE156\"                      \"#7DDA8D\" \n",
      "CASSLDTV*QRLGGF_SGPGRLCSGNTIYF        CATSDLTSGGSSSGGWVYNEQFF \n",
      "                     \"#809FD9\"                      \"#D49CC8\" \n",
      "               CASSSLRGSNQPQHF                 CASSDLTGFKGYTF \n",
      "                     \"#78E8D5\"                      \"#D863C2\" \n"
     ]
    }
   ],
   "source": [
    "for(pt in ptlist$Var1[ptlist$Freq > 2]){\n",
    "    print(pt)\n",
    "    tmp <- ds_flelst_chp_PBMC[grepl(pt, ds_flelst_chp_PBMC)]\n",
    "    cdr3df <- cdr3_dataframe.fx(datapath, \"TRB\", tmp, \"total\")\n",
    "    cdr3df$samplename <- gsub(\"-DNA.*\", \"\", cdr3df$samplename)\n",
    "    cdr3df$samplename <- gsub(\"_DNA.*\", \"\", cdr3df$samplename)\n",
    "    cdr3df$samplename <- gsub(\"TRB\", \"\", cdr3df$samplename)\n",
    "    plot_clonetracks.fx(cdr3df, plotpath, \"TRB\", \"cloneFraction\", 0)\n",
    "}"
   ]
  },
  {
   "cell_type": "markdown",
   "metadata": {},
   "source": [
    "## cfDNA"
   ]
  },
  {
   "cell_type": "code",
   "execution_count": 43,
   "metadata": {},
   "outputs": [],
   "source": [
    "manifest_df_cfdna <- cbind.data.frame(ds_flelst_chp_cfDNA, NA,NA,stringsAsFactors = F)\n",
    "\n",
    "colnames(manifest_df_cfdna) <- c(\"filename\", \"patient\", \"cycle\")"
   ]
  },
  {
   "cell_type": "code",
   "execution_count": 44,
   "metadata": {},
   "outputs": [],
   "source": [
    "manifest_df_cfdna$filename <- gsub(\".*CLONES\", \"CLONES\", manifest_df_cfdna$filename)\n",
    "\n",
    "manifest_df_cfdna$patient <- gsub(\"CLONES_TRBCHP_\", \"\", manifest_df_cfdna$filename)\n",
    "manifest_df_cfdna$patient <- gsub(\"-.*\", \"\", manifest_df_cfdna$patient)\n",
    "\n",
    "manifest_df_cfdna$cycle <- substr(manifest_df_cfdna$filename, 19,20)"
   ]
  },
  {
   "cell_type": "code",
   "execution_count": 45,
   "metadata": {},
   "outputs": [],
   "source": [
    "ptlist_cfdna <- as.data.frame(table(manifest_df_cfdna$patient))"
   ]
  },
  {
   "cell_type": "code",
   "execution_count": 105,
   "metadata": {},
   "outputs": [
    {
     "name": "stdout",
     "output_type": "stream",
     "text": [
      "[1] \"336\"\n"
     ]
    },
    {
     "name": "stderr",
     "output_type": "stream",
     "text": [
      "my files:\n"
     ]
    },
    {
     "name": "stdout",
     "output_type": "stream",
     "text": [
      "[1] \"batch10_cfDNA/CLONES_TRBCHP_336-03_cfDNA_2000000.txt\"\n",
      "[2] \"batch10_cfDNA/CLONES_TRBCHP_336-04_cfDNA_2000000.txt\"\n",
      "[3] \"batch10_cfDNA/CLONES_TRBCHP_336-05_cfDNA_2000000.txt\"\n"
     ]
    },
    {
     "name": "stderr",
     "output_type": "stream",
     "text": [
      "Total recovered clonotypes:\n"
     ]
    },
    {
     "name": "stdout",
     "output_type": "stream",
     "text": [
      "[1] 34\n"
     ]
    },
    {
     "name": "stderr",
     "output_type": "stream",
     "text": [
      "Total out-of-frame clonotypes:\n"
     ]
    },
    {
     "name": "stdout",
     "output_type": "stream",
     "text": [
      "[1] 10\n"
     ]
    },
    {
     "name": "stderr",
     "output_type": "stream",
     "text": [
      "Total clonotypes with stop codon:\n"
     ]
    },
    {
     "name": "stdout",
     "output_type": "stream",
     "text": [
      "[1] 3\n"
     ]
    },
    {
     "name": "stderr",
     "output_type": "stream",
     "text": [
      "Total productive clonotypes:\n"
     ]
    },
    {
     "name": "stdout",
     "output_type": "stream",
     "text": [
      "[1] 21\n"
     ]
    },
    {
     "name": "stderr",
     "output_type": "stream",
     "text": [
      "Output contains all clonotypes\n",
      "list of samples to track clones: \n"
     ]
    },
    {
     "name": "stdout",
     "output_type": "stream",
     "text": [
      "[1] \"CHP_336-03-cfDNA\" \"CHP_336-04-cfDNA\" \"CHP_336-05-cfDNA\"\n"
     ]
    },
    {
     "name": "stderr",
     "output_type": "stream",
     "text": [
      "Total number of recurring clonotypes: \n"
     ]
    },
    {
     "name": "stdout",
     "output_type": "stream",
     "text": [
      "[1] 0\n"
     ]
    },
    {
     "name": "stderr",
     "output_type": "stream",
     "text": [
      "these are what we color: \n"
     ]
    },
    {
     "name": "stdout",
     "output_type": "stream",
     "text": [
      "named character(0)\n",
      "[1] \"344\"\n"
     ]
    },
    {
     "name": "stderr",
     "output_type": "stream",
     "text": [
      "my files:\n"
     ]
    },
    {
     "name": "stdout",
     "output_type": "stream",
     "text": [
      "[1] \"batch3a9_cfDNA/CLONES_TRBCHP_344-02_cfDNA_2000000.txt\"\n",
      "[2] \"batch3a9_cfDNA/CLONES_TRBCHP_344-04_cfDNA_2000000.txt\"\n",
      "[3] \"batch3a9_cfDNA/CLONES_TRBCHP_344-05_cfDNA_2000000.txt\"\n",
      "[4] \"batch5_cfDNA/CLONES_TRBCHP_344-01_cfDNA_2000000.txt\"  \n"
     ]
    },
    {
     "name": "stderr",
     "output_type": "stream",
     "text": [
      "Total recovered clonotypes:\n"
     ]
    },
    {
     "name": "stdout",
     "output_type": "stream",
     "text": [
      "[1] 22\n"
     ]
    },
    {
     "name": "stderr",
     "output_type": "stream",
     "text": [
      "Total out-of-frame clonotypes:\n"
     ]
    },
    {
     "name": "stdout",
     "output_type": "stream",
     "text": [
      "[1] 3\n"
     ]
    },
    {
     "name": "stderr",
     "output_type": "stream",
     "text": [
      "Total clonotypes with stop codon:\n"
     ]
    },
    {
     "name": "stdout",
     "output_type": "stream",
     "text": [
      "[1] 0\n"
     ]
    },
    {
     "name": "stderr",
     "output_type": "stream",
     "text": [
      "Total productive clonotypes:\n"
     ]
    },
    {
     "name": "stdout",
     "output_type": "stream",
     "text": [
      "[1] 19\n"
     ]
    },
    {
     "name": "stderr",
     "output_type": "stream",
     "text": [
      "Output contains all clonotypes\n",
      "list of samples to track clones: \n"
     ]
    },
    {
     "name": "stdout",
     "output_type": "stream",
     "text": [
      "[1] \"CHP_344-02-cfDNA\" \"CHP_344-04-cfDNA\" \"CHP_344-05-cfDNA\" \"CHP_344-01-cfDNA\"\n"
     ]
    },
    {
     "name": "stderr",
     "output_type": "stream",
     "text": [
      "Total number of recurring clonotypes: \n"
     ]
    },
    {
     "name": "stdout",
     "output_type": "stream",
     "text": [
      "[1] 0\n"
     ]
    },
    {
     "name": "stderr",
     "output_type": "stream",
     "text": [
      "these are what we color: \n"
     ]
    },
    {
     "name": "stdout",
     "output_type": "stream",
     "text": [
      "named character(0)\n",
      "[1] \"347\"\n"
     ]
    },
    {
     "name": "stderr",
     "output_type": "stream",
     "text": [
      "my files:\n"
     ]
    },
    {
     "name": "stdout",
     "output_type": "stream",
     "text": [
      "[1] \"batch1_cfDNA/CLONES_TRBCHP_347-01-cfDNA_2000000.txt\" \n",
      "[2] \"batch10_cfDNA/CLONES_TRBCHP_347-04_cfDNA_2000000.txt\"\n",
      "[3] \"batch5_cfDNA/CLONES_TRBCHP_347-02_cfDNA_2000000.txt\" \n"
     ]
    },
    {
     "name": "stderr",
     "output_type": "stream",
     "text": [
      "Total recovered clonotypes:\n"
     ]
    },
    {
     "name": "stdout",
     "output_type": "stream",
     "text": [
      "[1] 14\n"
     ]
    },
    {
     "name": "stderr",
     "output_type": "stream",
     "text": [
      "Total out-of-frame clonotypes:\n"
     ]
    },
    {
     "name": "stdout",
     "output_type": "stream",
     "text": [
      "[1] 2\n"
     ]
    },
    {
     "name": "stderr",
     "output_type": "stream",
     "text": [
      "Total clonotypes with stop codon:\n"
     ]
    },
    {
     "name": "stdout",
     "output_type": "stream",
     "text": [
      "[1] 1\n"
     ]
    },
    {
     "name": "stderr",
     "output_type": "stream",
     "text": [
      "Total productive clonotypes:\n"
     ]
    },
    {
     "name": "stdout",
     "output_type": "stream",
     "text": [
      "[1] 11\n"
     ]
    },
    {
     "name": "stderr",
     "output_type": "stream",
     "text": [
      "Output contains all clonotypes\n",
      "list of samples to track clones: \n"
     ]
    },
    {
     "name": "stdout",
     "output_type": "stream",
     "text": [
      "[1] \"CHP_347-01-cfDNA\" \"CHP_347-04-cfDNA\" \"CHP_347-02-cfDNA\"\n"
     ]
    },
    {
     "name": "stderr",
     "output_type": "stream",
     "text": [
      "Total number of recurring clonotypes: \n"
     ]
    },
    {
     "name": "stdout",
     "output_type": "stream",
     "text": [
      "[1] 0\n"
     ]
    },
    {
     "name": "stderr",
     "output_type": "stream",
     "text": [
      "these are what we color: \n"
     ]
    },
    {
     "name": "stdout",
     "output_type": "stream",
     "text": [
      "named character(0)\n",
      "[1] \"351\"\n"
     ]
    },
    {
     "name": "stderr",
     "output_type": "stream",
     "text": [
      "my files:\n"
     ]
    },
    {
     "name": "stdout",
     "output_type": "stream",
     "text": [
      "[1] \"batch10_cfDNA/CLONES_TRBCHP_351-04_cfDNA_2000000.txt\"\n",
      "[2] \"batch10_cfDNA/CLONES_TRBCHP_351-05_cfDNA_2000000.txt\"\n",
      "[3] \"batch5_cfDNA/CLONES_TRBCHP_351-03_cfDNA_2000000.txt\" \n"
     ]
    },
    {
     "name": "stderr",
     "output_type": "stream",
     "text": [
      "Total recovered clonotypes:\n"
     ]
    },
    {
     "name": "stdout",
     "output_type": "stream",
     "text": [
      "[1] 15\n"
     ]
    },
    {
     "name": "stderr",
     "output_type": "stream",
     "text": [
      "Total out-of-frame clonotypes:\n"
     ]
    },
    {
     "name": "stdout",
     "output_type": "stream",
     "text": [
      "[1] 2\n"
     ]
    },
    {
     "name": "stderr",
     "output_type": "stream",
     "text": [
      "Total clonotypes with stop codon:\n"
     ]
    },
    {
     "name": "stdout",
     "output_type": "stream",
     "text": [
      "[1] 0\n"
     ]
    },
    {
     "name": "stderr",
     "output_type": "stream",
     "text": [
      "Total productive clonotypes:\n"
     ]
    },
    {
     "name": "stdout",
     "output_type": "stream",
     "text": [
      "[1] 13\n"
     ]
    },
    {
     "name": "stderr",
     "output_type": "stream",
     "text": [
      "Output contains all clonotypes\n",
      "list of samples to track clones: \n"
     ]
    },
    {
     "name": "stdout",
     "output_type": "stream",
     "text": [
      "[1] \"CHP_351-04-cfDNA\" \"CHP_351-05-cfDNA\" \"CHP_351-03-cfDNA\"\n"
     ]
    },
    {
     "name": "stderr",
     "output_type": "stream",
     "text": [
      "Total number of recurring clonotypes: \n"
     ]
    },
    {
     "name": "stdout",
     "output_type": "stream",
     "text": [
      "[1] 0\n"
     ]
    },
    {
     "name": "stderr",
     "output_type": "stream",
     "text": [
      "these are what we color: \n"
     ]
    },
    {
     "name": "stdout",
     "output_type": "stream",
     "text": [
      "named character(0)\n",
      "[1] \"353\"\n"
     ]
    },
    {
     "name": "stderr",
     "output_type": "stream",
     "text": [
      "my files:\n"
     ]
    },
    {
     "name": "stdout",
     "output_type": "stream",
     "text": [
      "[1] \"batch1_cfDNA/CLONES_TRBCHP_353-01-cfDNA_2000000.txt\"  \n",
      "[2] \"batch10_cfDNA/CLONES_TRBCHP_353-05_cfDNA_2000000.txt\" \n",
      "[3] \"batch3a9_cfDNA/CLONES_TRBCHP_353-02_cfDNA_2000000.txt\"\n",
      "[4] \"batch3a9_cfDNA/CLONES_TRBCHP_353-04_cfDNA_2000000.txt\"\n"
     ]
    },
    {
     "name": "stderr",
     "output_type": "stream",
     "text": [
      "Total recovered clonotypes:\n"
     ]
    },
    {
     "name": "stdout",
     "output_type": "stream",
     "text": [
      "[1] 139\n"
     ]
    },
    {
     "name": "stderr",
     "output_type": "stream",
     "text": [
      "Total out-of-frame clonotypes:\n"
     ]
    },
    {
     "name": "stdout",
     "output_type": "stream",
     "text": [
      "[1] 24\n"
     ]
    },
    {
     "name": "stderr",
     "output_type": "stream",
     "text": [
      "Total clonotypes with stop codon:\n"
     ]
    },
    {
     "name": "stdout",
     "output_type": "stream",
     "text": [
      "[1] 1\n"
     ]
    },
    {
     "name": "stderr",
     "output_type": "stream",
     "text": [
      "Total productive clonotypes:\n"
     ]
    },
    {
     "name": "stdout",
     "output_type": "stream",
     "text": [
      "[1] 114\n"
     ]
    },
    {
     "name": "stderr",
     "output_type": "stream",
     "text": [
      "Output contains all clonotypes\n",
      "list of samples to track clones: \n"
     ]
    },
    {
     "name": "stdout",
     "output_type": "stream",
     "text": [
      "[1] \"CHP_353-01-cfDNA\" \"CHP_353-05-cfDNA\" \"CHP_353-02-cfDNA\" \"CHP_353-04-cfDNA\"\n"
     ]
    },
    {
     "name": "stderr",
     "output_type": "stream",
     "text": [
      "Total number of recurring clonotypes: \n"
     ]
    },
    {
     "name": "stdout",
     "output_type": "stream",
     "text": [
      "[1] 2\n"
     ]
    },
    {
     "name": "stderr",
     "output_type": "stream",
     "text": [
      "these are what we color: \n"
     ]
    },
    {
     "name": "stdout",
     "output_type": "stream",
     "text": [
      "                                             CASSLRGNEAFF \n",
      "                                                \"#B8D49F\" \n",
      "CAWSGNPEAFFGQGTRLTVVGKTFFRFF_QIRHREKWVHSVPFRVAIFLCANYGYTF \n",
      "                                                \"#BB82C9\" \n",
      "[1] \"357\"\n"
     ]
    },
    {
     "name": "stderr",
     "output_type": "stream",
     "text": [
      "my files:\n"
     ]
    },
    {
     "name": "stdout",
     "output_type": "stream",
     "text": [
      "[1] \"batch1_cfDNA/CLONES_TRBCHP_357-03-cfDNA_2000000.txt\"  \n",
      "[2] \"batch3a9_cfDNA/CLONES_TRBCHP_357-01_cfDNA_2000000.txt\"\n",
      "[3] \"batch3a9_cfDNA/CLONES_TRBCHP_357-04_cfDNA_2000000.txt\"\n",
      "[4] \"batch5_cfDNA/CLONES_TRBCHP_357-05_cfDNA_2000000.txt\"  \n"
     ]
    },
    {
     "name": "stderr",
     "output_type": "stream",
     "text": [
      "Total recovered clonotypes:\n"
     ]
    },
    {
     "name": "stdout",
     "output_type": "stream",
     "text": [
      "[1] 56\n"
     ]
    },
    {
     "name": "stderr",
     "output_type": "stream",
     "text": [
      "Total out-of-frame clonotypes:\n"
     ]
    },
    {
     "name": "stdout",
     "output_type": "stream",
     "text": [
      "[1] 14\n"
     ]
    },
    {
     "name": "stderr",
     "output_type": "stream",
     "text": [
      "Total clonotypes with stop codon:\n"
     ]
    },
    {
     "name": "stdout",
     "output_type": "stream",
     "text": [
      "[1] 2\n"
     ]
    },
    {
     "name": "stderr",
     "output_type": "stream",
     "text": [
      "Total productive clonotypes:\n"
     ]
    },
    {
     "name": "stdout",
     "output_type": "stream",
     "text": [
      "[1] 40\n"
     ]
    },
    {
     "name": "stderr",
     "output_type": "stream",
     "text": [
      "Output contains all clonotypes\n",
      "list of samples to track clones: \n"
     ]
    },
    {
     "name": "stdout",
     "output_type": "stream",
     "text": [
      "[1] \"CHP_357-03-cfDNA\" \"CHP_357-01-cfDNA\" \"CHP_357-04-cfDNA\" \"CHP_357-05-cfDNA\"\n"
     ]
    },
    {
     "name": "stderr",
     "output_type": "stream",
     "text": [
      "Total number of recurring clonotypes: \n"
     ]
    },
    {
     "name": "stdout",
     "output_type": "stream",
     "text": [
      "[1] 0\n"
     ]
    },
    {
     "name": "stderr",
     "output_type": "stream",
     "text": [
      "these are what we color: \n"
     ]
    },
    {
     "name": "stdout",
     "output_type": "stream",
     "text": [
      "named character(0)\n",
      "[1] \"358\"\n"
     ]
    },
    {
     "name": "stderr",
     "output_type": "stream",
     "text": [
      "my files:\n"
     ]
    },
    {
     "name": "stdout",
     "output_type": "stream",
     "text": [
      "[1] \"batch10_cfDNA/CLONES_TRBCHP_358-02_cfDNA_2000000.txt\" \n",
      "[2] \"batch3a9_cfDNA/CLONES_TRBCHP_358-01_cfDNA_2000000.txt\"\n",
      "[3] \"batch3a9_cfDNA/CLONES_TRBCHP_358-03_cfDNA_2000000.txt\"\n"
     ]
    },
    {
     "name": "stderr",
     "output_type": "stream",
     "text": [
      "Total recovered clonotypes:\n"
     ]
    },
    {
     "name": "stdout",
     "output_type": "stream",
     "text": [
      "[1] 143\n"
     ]
    },
    {
     "name": "stderr",
     "output_type": "stream",
     "text": [
      "Total out-of-frame clonotypes:\n"
     ]
    },
    {
     "name": "stdout",
     "output_type": "stream",
     "text": [
      "[1] 27\n"
     ]
    },
    {
     "name": "stderr",
     "output_type": "stream",
     "text": [
      "Total clonotypes with stop codon:\n"
     ]
    },
    {
     "name": "stdout",
     "output_type": "stream",
     "text": [
      "[1] 0\n"
     ]
    },
    {
     "name": "stderr",
     "output_type": "stream",
     "text": [
      "Total productive clonotypes:\n"
     ]
    },
    {
     "name": "stdout",
     "output_type": "stream",
     "text": [
      "[1] 116\n"
     ]
    },
    {
     "name": "stderr",
     "output_type": "stream",
     "text": [
      "Output contains all clonotypes\n",
      "list of samples to track clones: \n"
     ]
    },
    {
     "name": "stdout",
     "output_type": "stream",
     "text": [
      "[1] \"CHP_358-02-cfDNA\" \"CHP_358-01-cfDNA\" \"CHP_358-03-cfDNA\"\n"
     ]
    },
    {
     "name": "stderr",
     "output_type": "stream",
     "text": [
      "Total number of recurring clonotypes: \n"
     ]
    },
    {
     "name": "stdout",
     "output_type": "stream",
     "text": [
      "[1] 0\n"
     ]
    },
    {
     "name": "stderr",
     "output_type": "stream",
     "text": [
      "these are what we color: \n"
     ]
    },
    {
     "name": "stdout",
     "output_type": "stream",
     "text": [
      "named character(0)\n",
      "[1] \"359\"\n"
     ]
    },
    {
     "name": "stderr",
     "output_type": "stream",
     "text": [
      "my files:\n"
     ]
    },
    {
     "name": "stdout",
     "output_type": "stream",
     "text": [
      "[1] \"batch1_cfDNA/CLONES_TRBCHP_359-01-cfDNA_2000000.txt\"  \n",
      "[2] \"batch1_cfDNA/CLONES_TRBCHP_359-04-cfDNA_2000000.txt\"  \n",
      "[3] \"batch3a9_cfDNA/CLONES_TRBCHP_359-02_cfDNA_2000000.txt\"\n"
     ]
    },
    {
     "name": "stderr",
     "output_type": "stream",
     "text": [
      "Total recovered clonotypes:\n"
     ]
    },
    {
     "name": "stdout",
     "output_type": "stream",
     "text": [
      "[1] 76\n"
     ]
    },
    {
     "name": "stderr",
     "output_type": "stream",
     "text": [
      "Total out-of-frame clonotypes:\n"
     ]
    },
    {
     "name": "stdout",
     "output_type": "stream",
     "text": [
      "[1] 13\n"
     ]
    },
    {
     "name": "stderr",
     "output_type": "stream",
     "text": [
      "Total clonotypes with stop codon:\n"
     ]
    },
    {
     "name": "stdout",
     "output_type": "stream",
     "text": [
      "[1] 0\n"
     ]
    },
    {
     "name": "stderr",
     "output_type": "stream",
     "text": [
      "Total productive clonotypes:\n"
     ]
    },
    {
     "name": "stdout",
     "output_type": "stream",
     "text": [
      "[1] 63\n"
     ]
    },
    {
     "name": "stderr",
     "output_type": "stream",
     "text": [
      "Output contains all clonotypes\n",
      "list of samples to track clones: \n"
     ]
    },
    {
     "name": "stdout",
     "output_type": "stream",
     "text": [
      "[1] \"CHP_359-01-cfDNA\" \"CHP_359-04-cfDNA\" \"CHP_359-02-cfDNA\"\n"
     ]
    },
    {
     "name": "stderr",
     "output_type": "stream",
     "text": [
      "Total number of recurring clonotypes: \n"
     ]
    },
    {
     "name": "stdout",
     "output_type": "stream",
     "text": [
      "[1] 0\n"
     ]
    },
    {
     "name": "stderr",
     "output_type": "stream",
     "text": [
      "these are what we color: \n"
     ]
    },
    {
     "name": "stdout",
     "output_type": "stream",
     "text": [
      "named character(0)\n",
      "[1] \"361\"\n"
     ]
    },
    {
     "name": "stderr",
     "output_type": "stream",
     "text": [
      "my files:\n"
     ]
    },
    {
     "name": "stdout",
     "output_type": "stream",
     "text": [
      "[1] \"batch10_cfDNA/CLONES_TRBCHP_361-02_cfDNA_2000000.txt\"\n",
      "[2] \"batch5_cfDNA/CLONES_TRBCHP_361-01_cfDNA_2000000.txt\" \n",
      "[3] \"batch5_cfDNA/CLONES_TRBCHP_361-03_cfDNA_2000000.txt\" \n",
      "[4] \"batch5_cfDNA/CLONES_TRBCHP_361-05_cfDNA_2000000.txt\" \n"
     ]
    },
    {
     "name": "stderr",
     "output_type": "stream",
     "text": [
      "Total recovered clonotypes:\n"
     ]
    },
    {
     "name": "stdout",
     "output_type": "stream",
     "text": [
      "[1] 108\n"
     ]
    },
    {
     "name": "stderr",
     "output_type": "stream",
     "text": [
      "Total out-of-frame clonotypes:\n"
     ]
    },
    {
     "name": "stdout",
     "output_type": "stream",
     "text": [
      "[1] 29\n"
     ]
    },
    {
     "name": "stderr",
     "output_type": "stream",
     "text": [
      "Total clonotypes with stop codon:\n"
     ]
    },
    {
     "name": "stdout",
     "output_type": "stream",
     "text": [
      "[1] 5\n"
     ]
    },
    {
     "name": "stderr",
     "output_type": "stream",
     "text": [
      "Total productive clonotypes:\n"
     ]
    },
    {
     "name": "stdout",
     "output_type": "stream",
     "text": [
      "[1] 74\n"
     ]
    },
    {
     "name": "stderr",
     "output_type": "stream",
     "text": [
      "Output contains all clonotypes\n",
      "list of samples to track clones: \n"
     ]
    },
    {
     "name": "stdout",
     "output_type": "stream",
     "text": [
      "[1] \"CHP_361-02-cfDNA\" \"CHP_361-01-cfDNA\" \"CHP_361-03-cfDNA\" \"CHP_361-05-cfDNA\"\n"
     ]
    },
    {
     "name": "stderr",
     "output_type": "stream",
     "text": [
      "Total number of recurring clonotypes: \n"
     ]
    },
    {
     "name": "stdout",
     "output_type": "stream",
     "text": [
      "[1] 0\n"
     ]
    },
    {
     "name": "stderr",
     "output_type": "stream",
     "text": [
      "these are what we color: \n"
     ]
    },
    {
     "name": "stdout",
     "output_type": "stream",
     "text": [
      "named character(0)\n",
      "[1] \"366\"\n"
     ]
    },
    {
     "name": "stderr",
     "output_type": "stream",
     "text": [
      "my files:\n"
     ]
    },
    {
     "name": "stdout",
     "output_type": "stream",
     "text": [
      "[1] \"batch1_cfDNA/CLONES_TRBCHP_366-02-cfDNA_2000000.txt\"  \n",
      "[2] \"batch10_cfDNA/CLONES_TRBCHP_366-04_cfDNA_2000000.txt\" \n",
      "[3] \"batch3a9_cfDNA/CLONES_TRBCHP_366-01_cfDNA_2000000.txt\"\n",
      "[4] \"batch5_cfDNA/CLONES_TRBCHP_366-05_cfDNA_2000000.txt\"  \n"
     ]
    },
    {
     "name": "stderr",
     "output_type": "stream",
     "text": [
      "Total recovered clonotypes:\n"
     ]
    },
    {
     "name": "stdout",
     "output_type": "stream",
     "text": [
      "[1] 41\n"
     ]
    },
    {
     "name": "stderr",
     "output_type": "stream",
     "text": [
      "Total out-of-frame clonotypes:\n"
     ]
    },
    {
     "name": "stdout",
     "output_type": "stream",
     "text": [
      "[1] 17\n"
     ]
    },
    {
     "name": "stderr",
     "output_type": "stream",
     "text": [
      "Total clonotypes with stop codon:\n"
     ]
    },
    {
     "name": "stdout",
     "output_type": "stream",
     "text": [
      "[1] 1\n"
     ]
    },
    {
     "name": "stderr",
     "output_type": "stream",
     "text": [
      "Total productive clonotypes:\n"
     ]
    },
    {
     "name": "stdout",
     "output_type": "stream",
     "text": [
      "[1] 23\n"
     ]
    },
    {
     "name": "stderr",
     "output_type": "stream",
     "text": [
      "Output contains all clonotypes\n",
      "list of samples to track clones: \n"
     ]
    },
    {
     "name": "stdout",
     "output_type": "stream",
     "text": [
      "[1] \"CHP_366-02-cfDNA\" \"CHP_366-04-cfDNA\" \"CHP_366-01-cfDNA\" \"CHP_366-05-cfDNA\"\n"
     ]
    },
    {
     "name": "stderr",
     "output_type": "stream",
     "text": [
      "Total number of recurring clonotypes: \n"
     ]
    },
    {
     "name": "stdout",
     "output_type": "stream",
     "text": [
      "[1] 0\n"
     ]
    },
    {
     "name": "stderr",
     "output_type": "stream",
     "text": [
      "these are what we color: \n"
     ]
    },
    {
     "name": "stdout",
     "output_type": "stream",
     "text": [
      "named character(0)\n",
      "[1] \"368\"\n"
     ]
    },
    {
     "name": "stderr",
     "output_type": "stream",
     "text": [
      "my files:\n"
     ]
    },
    {
     "name": "stdout",
     "output_type": "stream",
     "text": [
      "[1] \"batch1_cfDNA/CLONES_TRBCHP_368-05-cfDNA_2000000.txt\"  \n",
      "[2] \"batch3a9_cfDNA/CLONES_TRBCHP_368-02_cfDNA_2000000.txt\"\n",
      "[3] \"batch5_cfDNA/CLONES_TRBCHP_368-01_cfDNA_2000000.txt\"  \n"
     ]
    },
    {
     "name": "stderr",
     "output_type": "stream",
     "text": [
      "Total recovered clonotypes:\n"
     ]
    },
    {
     "name": "stdout",
     "output_type": "stream",
     "text": [
      "[1] 37\n"
     ]
    },
    {
     "name": "stderr",
     "output_type": "stream",
     "text": [
      "Total out-of-frame clonotypes:\n"
     ]
    },
    {
     "name": "stdout",
     "output_type": "stream",
     "text": [
      "[1] 7\n"
     ]
    },
    {
     "name": "stderr",
     "output_type": "stream",
     "text": [
      "Total clonotypes with stop codon:\n"
     ]
    },
    {
     "name": "stdout",
     "output_type": "stream",
     "text": [
      "[1] 1\n"
     ]
    },
    {
     "name": "stderr",
     "output_type": "stream",
     "text": [
      "Total productive clonotypes:\n"
     ]
    },
    {
     "name": "stdout",
     "output_type": "stream",
     "text": [
      "[1] 29\n"
     ]
    },
    {
     "name": "stderr",
     "output_type": "stream",
     "text": [
      "Output contains all clonotypes\n",
      "list of samples to track clones: \n"
     ]
    },
    {
     "name": "stdout",
     "output_type": "stream",
     "text": [
      "[1] \"CHP_368-05-cfDNA\" \"CHP_368-02-cfDNA\" \"CHP_368-01-cfDNA\"\n"
     ]
    },
    {
     "name": "stderr",
     "output_type": "stream",
     "text": [
      "Total number of recurring clonotypes: \n"
     ]
    },
    {
     "name": "stdout",
     "output_type": "stream",
     "text": [
      "[1] 0\n"
     ]
    },
    {
     "name": "stderr",
     "output_type": "stream",
     "text": [
      "these are what we color: \n"
     ]
    },
    {
     "name": "stdout",
     "output_type": "stream",
     "text": [
      "named character(0)\n",
      "[1] \"371\"\n"
     ]
    },
    {
     "name": "stderr",
     "output_type": "stream",
     "text": [
      "my files:\n"
     ]
    },
    {
     "name": "stdout",
     "output_type": "stream",
     "text": [
      "[1] \"batch1_cfDNA/CLONES_TRBCHP_371-01-cfDNA_2000000.txt\"  \n",
      "[2] \"batch1_cfDNA/CLONES_TRBCHP_371-03-cfDNA_2000000.txt\"  \n",
      "[3] \"batch3a9_cfDNA/CLONES_TRBCHP_371-04_cfDNA_2000000.txt\"\n"
     ]
    },
    {
     "name": "stderr",
     "output_type": "stream",
     "text": [
      "Total recovered clonotypes:\n"
     ]
    },
    {
     "name": "stdout",
     "output_type": "stream",
     "text": [
      "[1] 15\n"
     ]
    },
    {
     "name": "stderr",
     "output_type": "stream",
     "text": [
      "Total out-of-frame clonotypes:\n"
     ]
    },
    {
     "name": "stdout",
     "output_type": "stream",
     "text": [
      "[1] 6\n"
     ]
    },
    {
     "name": "stderr",
     "output_type": "stream",
     "text": [
      "Total clonotypes with stop codon:\n"
     ]
    },
    {
     "name": "stdout",
     "output_type": "stream",
     "text": [
      "[1] 0\n"
     ]
    },
    {
     "name": "stderr",
     "output_type": "stream",
     "text": [
      "Total productive clonotypes:\n"
     ]
    },
    {
     "name": "stdout",
     "output_type": "stream",
     "text": [
      "[1] 9\n"
     ]
    },
    {
     "name": "stderr",
     "output_type": "stream",
     "text": [
      "Output contains all clonotypes\n",
      "list of samples to track clones: \n"
     ]
    },
    {
     "name": "stdout",
     "output_type": "stream",
     "text": [
      "[1] \"CHP_371-01-cfDNA\" \"CHP_371-03-cfDNA\" \"CHP_371-04-cfDNA\"\n"
     ]
    },
    {
     "name": "stderr",
     "output_type": "stream",
     "text": [
      "Total number of recurring clonotypes: \n"
     ]
    },
    {
     "name": "stdout",
     "output_type": "stream",
     "text": [
      "[1] 0\n"
     ]
    },
    {
     "name": "stderr",
     "output_type": "stream",
     "text": [
      "these are what we color: \n"
     ]
    },
    {
     "name": "stdout",
     "output_type": "stream",
     "text": [
      "named character(0)\n",
      "[1] \"385\"\n"
     ]
    },
    {
     "name": "stderr",
     "output_type": "stream",
     "text": [
      "my files:\n"
     ]
    },
    {
     "name": "stdout",
     "output_type": "stream",
     "text": [
      "[1] \"batch7_cfDNA/CLONES_TRBCHP_385-01_cfDNA_2000000.txt\"\n",
      "[2] \"batch7_cfDNA/CLONES_TRBCHP_385-02_cfDNA_2000000.txt\"\n",
      "[3] \"batch7_cfDNA/CLONES_TRBCHP_385-03_cfDNA_2000000.txt\"\n"
     ]
    },
    {
     "name": "stderr",
     "output_type": "stream",
     "text": [
      "Total recovered clonotypes:\n"
     ]
    },
    {
     "name": "stdout",
     "output_type": "stream",
     "text": [
      "[1] 9\n"
     ]
    },
    {
     "name": "stderr",
     "output_type": "stream",
     "text": [
      "Total out-of-frame clonotypes:\n"
     ]
    },
    {
     "name": "stdout",
     "output_type": "stream",
     "text": [
      "[1] 4\n"
     ]
    },
    {
     "name": "stderr",
     "output_type": "stream",
     "text": [
      "Total clonotypes with stop codon:\n"
     ]
    },
    {
     "name": "stdout",
     "output_type": "stream",
     "text": [
      "[1] 0\n"
     ]
    },
    {
     "name": "stderr",
     "output_type": "stream",
     "text": [
      "Total productive clonotypes:\n"
     ]
    },
    {
     "name": "stdout",
     "output_type": "stream",
     "text": [
      "[1] 5\n"
     ]
    },
    {
     "name": "stderr",
     "output_type": "stream",
     "text": [
      "Output contains all clonotypes\n",
      "list of samples to track clones: \n"
     ]
    },
    {
     "name": "stdout",
     "output_type": "stream",
     "text": [
      "[1] \"CHP_385-01-cfDNA\" \"CHP_385-02-cfDNA\" \"CHP_385-03-cfDNA\"\n"
     ]
    },
    {
     "name": "stderr",
     "output_type": "stream",
     "text": [
      "Total number of recurring clonotypes: \n"
     ]
    },
    {
     "name": "stdout",
     "output_type": "stream",
     "text": [
      "[1] 1\n"
     ]
    },
    {
     "name": "stderr",
     "output_type": "stream",
     "text": [
      "these are what we color: \n"
     ]
    },
    {
     "name": "stdout",
     "output_type": "stream",
     "text": [
      "CASSLDTV*QRLGGF_SGPGRLCSGNTIYF \n",
      "                     \"#BDB3B1\" \n"
     ]
    }
   ],
   "source": [
    "for(pt in ptlist_cfdna$Var1[ptlist_cfdna$Freq > 2]){\n",
    "    print(pt)\n",
    "    tmp <- ds_flelst_chp_cfDNA[grepl(pt, ds_flelst_chp_cfDNA)]\n",
    "    cdr3df <- cdr3_dataframe.fx(datapath, \"TRB\", tmp, \"total\")\n",
    "    cdr3df$samplename <- gsub(\"-cfDNA.*\", \"-cfDNA\", cdr3df$samplename)\n",
    "    cdr3df$samplename <- gsub(\"_cfDNA.*\", \"-cfDNA\", cdr3df$samplename)\n",
    "    cdr3df$samplename <- gsub(\"TRB\", \"\", cdr3df$samplename)\n",
    "    plot_clonetracks.fx(cdr3df, plotpath, \"TRB\", \"cloneCount\", 0)\n",
    "}"
   ]
  },
  {
   "cell_type": "markdown",
   "metadata": {},
   "source": [
    "## PBMCs and cfDNA"
   ]
  },
  {
   "cell_type": "code",
   "execution_count": 46,
   "metadata": {},
   "outputs": [],
   "source": [
    "manifest_cfdna_pbmc <- merge(manifest_df_cfdna, manifest_df, by = c(\"patient\", \"cycle\"))"
   ]
  },
  {
   "cell_type": "code",
   "execution_count": 47,
   "metadata": {
    "scrolled": true
   },
   "outputs": [
    {
     "data": {
      "text/html": [
       "<table>\n",
       "<caption>A data.frame: 57 × 4</caption>\n",
       "<thead>\n",
       "\t<tr><th scope=col>patient</th><th scope=col>cycle</th><th scope=col>filename.x</th><th scope=col>filename.y</th></tr>\n",
       "\t<tr><th scope=col>&lt;chr&gt;</th><th scope=col>&lt;chr&gt;</th><th scope=col>&lt;chr&gt;</th><th scope=col>&lt;chr&gt;</th></tr>\n",
       "</thead>\n",
       "<tbody>\n",
       "\t<tr><td>323</td><td>03</td><td>CLONES_TRBCHP_323-03_cfDNA_2000000.txt</td><td>CLONES_TRBCHP_323-03-PBMC-DNA_2000000.txt</td></tr>\n",
       "\t<tr><td>338</td><td>03</td><td>CLONES_TRBCHP_338-03_cfDNA_2000000.txt</td><td>CLONES_TRBCHP_338-03-PBMC-DNA_2000000.txt</td></tr>\n",
       "\t<tr><td>339</td><td>03</td><td>CLONES_TRBCHP_339-03_cfDNA_2000000.txt</td><td>CLONES_TRBCHP_339-03-PBMC-DNA_2000000.txt</td></tr>\n",
       "\t<tr><td>340</td><td>03</td><td>CLONES_TRBCHP_340-03_cfDNA_2000000.txt</td><td>CLONES_TRBCHP_340-03-PBMC-DNA_2000000.txt</td></tr>\n",
       "\t<tr><td>344</td><td>02</td><td>CLONES_TRBCHP_344-02_cfDNA_2000000.txt</td><td>CLONES_TRBCHP_344-02-PBMC-DNA_2000000.txt</td></tr>\n",
       "\t<tr><td>344</td><td>04</td><td>CLONES_TRBCHP_344-04_cfDNA_2000000.txt</td><td>CLONES_TRBCHP_344-04-PBMC-DNA_2000000.txt</td></tr>\n",
       "\t<tr><td>344</td><td>05</td><td>CLONES_TRBCHP_344-05_cfDNA_2000000.txt</td><td>CLONES_TRBCHP_344-05-PBMC-DNA_2000000.txt</td></tr>\n",
       "\t<tr><td>345</td><td>02</td><td>CLONES_TRBCHP_345-02_cfDNA_2000000.txt</td><td>CLONES_TRBCHP_345-02-PBMC-DNA_2000000.txt</td></tr>\n",
       "\t<tr><td>347</td><td>01</td><td>CLONES_TRBCHP_347-01-cfDNA_2000000.txt</td><td>CLONES_TRBCHP_347-01-PBMC-DNA_2000000.txt</td></tr>\n",
       "\t<tr><td>347</td><td>02</td><td>CLONES_TRBCHP_347-02_cfDNA_2000000.txt</td><td>CLONES_TRBCHP_347-02-PBMC-DNA_2000000.txt</td></tr>\n",
       "\t<tr><td>347</td><td>04</td><td>CLONES_TRBCHP_347-04_cfDNA_2000000.txt</td><td>CLONES_TRBCHP_347-04-PBMC-DNA_2000000.txt</td></tr>\n",
       "\t<tr><td>351</td><td>04</td><td>CLONES_TRBCHP_351-04_cfDNA_2000000.txt</td><td>CLONES_TRBCHP_351-04-PBMC-DNA_2000000.txt</td></tr>\n",
       "\t<tr><td>353</td><td>01</td><td>CLONES_TRBCHP_353-01-cfDNA_2000000.txt</td><td>CLONES_TRBCHP_353-01-PBMC-DNA_2000000.txt</td></tr>\n",
       "\t<tr><td>353</td><td>02</td><td>CLONES_TRBCHP_353-02_cfDNA_2000000.txt</td><td>CLONES_TRBCHP_353-02-PBMC-DNA_2000000.txt</td></tr>\n",
       "\t<tr><td>353</td><td>05</td><td>CLONES_TRBCHP_353-05_cfDNA_2000000.txt</td><td>CLONES_TRBCHP_353-05-PBMC-DNA_2000000.txt</td></tr>\n",
       "\t<tr><td>355</td><td>01</td><td>CLONES_TRBCHP_355-01-cfDNA_2000000.txt</td><td>CLONES_TRBCHP_355-01-PBMC-DNA_2000000.txt</td></tr>\n",
       "\t<tr><td>356</td><td>02</td><td>CLONES_TRBCHP_356-02-cfDNA_2000000.txt</td><td>CLONES_TRBCHP_356-02-PBMC-DNA_2000000.txt</td></tr>\n",
       "\t<tr><td>357</td><td>01</td><td>CLONES_TRBCHP_357-01_cfDNA_2000000.txt</td><td>CLONES_TRBCHP_357-01-PBMC-DNA_2000000.txt</td></tr>\n",
       "\t<tr><td>357</td><td>03</td><td>CLONES_TRBCHP_357-03-cfDNA_2000000.txt</td><td>CLONES_TRBCHP_357-03-PBMC-DNA_2000000.txt</td></tr>\n",
       "\t<tr><td>357</td><td>04</td><td>CLONES_TRBCHP_357-04_cfDNA_2000000.txt</td><td>CLONES_TRBCHP_357-04-PBMC-DNA_2000000.txt</td></tr>\n",
       "\t<tr><td>358</td><td>01</td><td>CLONES_TRBCHP_358-01_cfDNA_2000000.txt</td><td>CLONES_TRBCHP_358-01-PBMC-DNA_2000000.txt</td></tr>\n",
       "\t<tr><td>358</td><td>02</td><td>CLONES_TRBCHP_358-02_cfDNA_2000000.txt</td><td>CLONES_TRBCHP_358-02-PBMC-DNA_2000000.txt</td></tr>\n",
       "\t<tr><td>358</td><td>03</td><td>CLONES_TRBCHP_358-03_cfDNA_2000000.txt</td><td>CLONES_TRBCHP_358-03-PBMC-DNA_2000000.txt</td></tr>\n",
       "\t<tr><td>359</td><td>01</td><td>CLONES_TRBCHP_359-01-cfDNA_2000000.txt</td><td>CLONES_TRBCHP_359-01-PBMC-DNA_2000000.txt</td></tr>\n",
       "\t<tr><td>359</td><td>02</td><td>CLONES_TRBCHP_359-02_cfDNA_2000000.txt</td><td>CLONES_TRBCHP_359-02-PBMC-DNA_2000000.txt</td></tr>\n",
       "\t<tr><td>359</td><td>04</td><td>CLONES_TRBCHP_359-04-cfDNA_2000000.txt</td><td>CLONES_TRBCHP_359-04-PBMC-DNA_2000000.txt</td></tr>\n",
       "\t<tr><td>360</td><td>02</td><td>CLONES_TRBCHP_360-02-cfDNA_2000000.txt</td><td>CLONES_TRBCHP_360-02-PBMC-DNA_2000000.txt</td></tr>\n",
       "\t<tr><td>361</td><td>01</td><td>CLONES_TRBCHP_361-01_cfDNA_2000000.txt</td><td>CLONES_TRBCHP_361-01-PBMC-DNA_2000000.txt</td></tr>\n",
       "\t<tr><td>361</td><td>02</td><td>CLONES_TRBCHP_361-02_cfDNA_2000000.txt</td><td>CLONES_TRBCHP_361-02-PBMC-DNA_2000000.txt</td></tr>\n",
       "\t<tr><td>361</td><td>03</td><td>CLONES_TRBCHP_361-03_cfDNA_2000000.txt</td><td>CLONES_TRBCHP_361-03-PBMC-DNA_2000000.txt</td></tr>\n",
       "\t<tr><td>362</td><td>03</td><td>CLONES_TRBCHP_362-03_cfDNA_2000000.txt</td><td>CLONES_TRBCHP_362-03-PBMC-DNA_2000000.txt</td></tr>\n",
       "\t<tr><td>362</td><td>04</td><td>CLONES_TRBCHP_362-04_cfDNA_2000000.txt</td><td>CLONES_TRBCHP_362-04-PBMC-DNA_2000000.txt</td></tr>\n",
       "\t<tr><td>363</td><td>02</td><td>CLONES_TRBCHP_363-02_cfDNA_2000000.txt</td><td>CLONES_TRBCHP_363-02-PBMC-DNA_2000000.txt</td></tr>\n",
       "\t<tr><td>364</td><td>02</td><td>CLONES_TRBCHP_364-02_cfDNA_2000000.txt</td><td>CLONES_TRBCHP_364-02-PBMC-DNA_2000000.txt</td></tr>\n",
       "\t<tr><td>366</td><td>01</td><td>CLONES_TRBCHP_366-01_cfDNA_2000000.txt</td><td>CLONES_TRBCHP_366-01-PBMC-DNA_2000000.txt</td></tr>\n",
       "\t<tr><td>368</td><td>01</td><td>CLONES_TRBCHP_368-01_cfDNA_2000000.txt</td><td>CLONES_TRBCHP_368-01-PBMC-DNA_2000000.txt</td></tr>\n",
       "\t<tr><td>368</td><td>05</td><td>CLONES_TRBCHP_368-05-cfDNA_2000000.txt</td><td>CLONES_TRBCHP_368-05-PBMC-DNA_2000000.txt</td></tr>\n",
       "\t<tr><td>369</td><td>02</td><td>CLONES_TRBCHP_369-02_cfDNA_2000000.txt</td><td>CLONES_TRBCHP_369-02-PBMC-DNA_2000000.txt</td></tr>\n",
       "\t<tr><td>370</td><td>01</td><td>CLONES_TRBCHP_370-01-cfDNA_2000000.txt</td><td>CLONES_TRBCHP_370-01-PBMC-DNA_2000000.txt</td></tr>\n",
       "\t<tr><td>370</td><td>03</td><td>CLONES_TRBCHP_370-03_cfDNA_2000000.txt</td><td>CLONES_TRBCHP_370-03-PBMC-DNA_2000000.txt</td></tr>\n",
       "\t<tr><td>372</td><td>01</td><td>CLONES_TRBCHP_372-01-cfDNA_2000000.txt</td><td>CLONES_TRBCHP_372-01-PBMC-DNA_2000000.txt</td></tr>\n",
       "\t<tr><td>373</td><td>01</td><td>CLONES_TRBCHP_373-01-cfDNA_2000000.txt</td><td>CLONES_TRBCHP_373-01-PBMC-DNA_2000000.txt</td></tr>\n",
       "\t<tr><td>373</td><td>02</td><td>CLONES_TRBCHP_373-02_cfDNA_2000000.txt</td><td>CLONES_TRBCHP_373-02-PBMC-DNA_2000000.txt</td></tr>\n",
       "\t<tr><td>374</td><td>04</td><td>CLONES_TRBCHP_374-04-cfDNA_2000000.txt</td><td>CLONES_TRBCHP_374-04-PBMC-DNA_2000000.txt</td></tr>\n",
       "\t<tr><td>374</td><td>05</td><td>CLONES_TRBCHP_374-05-cfDNA_2000000.txt</td><td>CLONES_TRBCHP_374-05-PBMC-DNA_2000000.txt</td></tr>\n",
       "\t<tr><td>375</td><td>02</td><td>CLONES_TRBCHP_375-02_cfDNA_2000000.txt</td><td>CLONES_TRBCHP_375-02-PBMC-DNA_2000000.txt</td></tr>\n",
       "\t<tr><td>377</td><td>04</td><td>CLONES_TRBCHP_377-04_cfDNA_2000000.txt</td><td>CLONES_TRBCHP_377-04_PBMC_DNA_2000000.txt</td></tr>\n",
       "\t<tr><td>381</td><td>02</td><td>CLONES_TRBCHP_381-02_cfDNA_2000000.txt</td><td>CLONES_TRBCHP_381-02-PBMC-DNA_2000000.txt</td></tr>\n",
       "\t<tr><td>385</td><td>03</td><td>CLONES_TRBCHP_385-03_cfDNA_2000000.txt</td><td>CLONES_TRBCHP_385-03-PBMC-DNA_2000000.txt</td></tr>\n",
       "\t<tr><td>387</td><td>01</td><td>CLONES_TRBCHP_387-01_cfDNA_2000000.txt</td><td>CLONES_TRBCHP_387-01-PBMC-DNA_2000000.txt</td></tr>\n",
       "\t<tr><td>391</td><td>02</td><td>CLONES_TRBCHP_391-02_cfDNA_2000000.txt</td><td>CLONES_TRBCHP_391-02_PBMC_DNA_2000000.txt</td></tr>\n",
       "\t<tr><td>394</td><td>01</td><td>CLONES_TRBCHP_394-01_cfDNA_2000000.txt</td><td>CLONES_TRBCHP_394-01-PBMC-DNA_2000000.txt</td></tr>\n",
       "\t<tr><td>396</td><td>01</td><td>CLONES_TRBCHP_396-01_cfDNA_2000000.txt</td><td>CLONES_TRBCHP_396-01-PBMC-DNA_2000000.txt</td></tr>\n",
       "\t<tr><td>397</td><td>01</td><td>CLONES_TRBCHP_397-01_cfDNA_2000000.txt</td><td>CLONES_TRBCHP_397-01-PBMC-DNA_2000000.txt</td></tr>\n",
       "\t<tr><td>397</td><td>02</td><td>CLONES_TRBCHP_397-02_cfDNA_2000000.txt</td><td>CLONES_TRBCHP_397-02_PBMC_DNA_2000000.txt</td></tr>\n",
       "\t<tr><td>399</td><td>01</td><td>CLONES_TRBCHP_399-01_cfDNA_2000000.txt</td><td>CLONES_TRBCHP_399-01-PBMC-DNA_2000000.txt</td></tr>\n",
       "\t<tr><td>405</td><td>01</td><td>CLONES_TRBCHP_405-01_cfDNA_2000000.txt</td><td>CLONES_TRBCHP_405-01_PBMC_DNA_2000000.txt</td></tr>\n",
       "</tbody>\n",
       "</table>\n"
      ],
      "text/latex": [
       "A data.frame: 57 × 4\n",
       "\\begin{tabular}{r|llll}\n",
       " patient & cycle & filename.x & filename.y\\\\\n",
       " <chr> & <chr> & <chr> & <chr>\\\\\n",
       "\\hline\n",
       "\t 323 & 03 & CLONES\\_TRBCHP\\_323-03\\_cfDNA\\_2000000.txt & CLONES\\_TRBCHP\\_323-03-PBMC-DNA\\_2000000.txt\\\\\n",
       "\t 338 & 03 & CLONES\\_TRBCHP\\_338-03\\_cfDNA\\_2000000.txt & CLONES\\_TRBCHP\\_338-03-PBMC-DNA\\_2000000.txt\\\\\n",
       "\t 339 & 03 & CLONES\\_TRBCHP\\_339-03\\_cfDNA\\_2000000.txt & CLONES\\_TRBCHP\\_339-03-PBMC-DNA\\_2000000.txt\\\\\n",
       "\t 340 & 03 & CLONES\\_TRBCHP\\_340-03\\_cfDNA\\_2000000.txt & CLONES\\_TRBCHP\\_340-03-PBMC-DNA\\_2000000.txt\\\\\n",
       "\t 344 & 02 & CLONES\\_TRBCHP\\_344-02\\_cfDNA\\_2000000.txt & CLONES\\_TRBCHP\\_344-02-PBMC-DNA\\_2000000.txt\\\\\n",
       "\t 344 & 04 & CLONES\\_TRBCHP\\_344-04\\_cfDNA\\_2000000.txt & CLONES\\_TRBCHP\\_344-04-PBMC-DNA\\_2000000.txt\\\\\n",
       "\t 344 & 05 & CLONES\\_TRBCHP\\_344-05\\_cfDNA\\_2000000.txt & CLONES\\_TRBCHP\\_344-05-PBMC-DNA\\_2000000.txt\\\\\n",
       "\t 345 & 02 & CLONES\\_TRBCHP\\_345-02\\_cfDNA\\_2000000.txt & CLONES\\_TRBCHP\\_345-02-PBMC-DNA\\_2000000.txt\\\\\n",
       "\t 347 & 01 & CLONES\\_TRBCHP\\_347-01-cfDNA\\_2000000.txt & CLONES\\_TRBCHP\\_347-01-PBMC-DNA\\_2000000.txt\\\\\n",
       "\t 347 & 02 & CLONES\\_TRBCHP\\_347-02\\_cfDNA\\_2000000.txt & CLONES\\_TRBCHP\\_347-02-PBMC-DNA\\_2000000.txt\\\\\n",
       "\t 347 & 04 & CLONES\\_TRBCHP\\_347-04\\_cfDNA\\_2000000.txt & CLONES\\_TRBCHP\\_347-04-PBMC-DNA\\_2000000.txt\\\\\n",
       "\t 351 & 04 & CLONES\\_TRBCHP\\_351-04\\_cfDNA\\_2000000.txt & CLONES\\_TRBCHP\\_351-04-PBMC-DNA\\_2000000.txt\\\\\n",
       "\t 353 & 01 & CLONES\\_TRBCHP\\_353-01-cfDNA\\_2000000.txt & CLONES\\_TRBCHP\\_353-01-PBMC-DNA\\_2000000.txt\\\\\n",
       "\t 353 & 02 & CLONES\\_TRBCHP\\_353-02\\_cfDNA\\_2000000.txt & CLONES\\_TRBCHP\\_353-02-PBMC-DNA\\_2000000.txt\\\\\n",
       "\t 353 & 05 & CLONES\\_TRBCHP\\_353-05\\_cfDNA\\_2000000.txt & CLONES\\_TRBCHP\\_353-05-PBMC-DNA\\_2000000.txt\\\\\n",
       "\t 355 & 01 & CLONES\\_TRBCHP\\_355-01-cfDNA\\_2000000.txt & CLONES\\_TRBCHP\\_355-01-PBMC-DNA\\_2000000.txt\\\\\n",
       "\t 356 & 02 & CLONES\\_TRBCHP\\_356-02-cfDNA\\_2000000.txt & CLONES\\_TRBCHP\\_356-02-PBMC-DNA\\_2000000.txt\\\\\n",
       "\t 357 & 01 & CLONES\\_TRBCHP\\_357-01\\_cfDNA\\_2000000.txt & CLONES\\_TRBCHP\\_357-01-PBMC-DNA\\_2000000.txt\\\\\n",
       "\t 357 & 03 & CLONES\\_TRBCHP\\_357-03-cfDNA\\_2000000.txt & CLONES\\_TRBCHP\\_357-03-PBMC-DNA\\_2000000.txt\\\\\n",
       "\t 357 & 04 & CLONES\\_TRBCHP\\_357-04\\_cfDNA\\_2000000.txt & CLONES\\_TRBCHP\\_357-04-PBMC-DNA\\_2000000.txt\\\\\n",
       "\t 358 & 01 & CLONES\\_TRBCHP\\_358-01\\_cfDNA\\_2000000.txt & CLONES\\_TRBCHP\\_358-01-PBMC-DNA\\_2000000.txt\\\\\n",
       "\t 358 & 02 & CLONES\\_TRBCHP\\_358-02\\_cfDNA\\_2000000.txt & CLONES\\_TRBCHP\\_358-02-PBMC-DNA\\_2000000.txt\\\\\n",
       "\t 358 & 03 & CLONES\\_TRBCHP\\_358-03\\_cfDNA\\_2000000.txt & CLONES\\_TRBCHP\\_358-03-PBMC-DNA\\_2000000.txt\\\\\n",
       "\t 359 & 01 & CLONES\\_TRBCHP\\_359-01-cfDNA\\_2000000.txt & CLONES\\_TRBCHP\\_359-01-PBMC-DNA\\_2000000.txt\\\\\n",
       "\t 359 & 02 & CLONES\\_TRBCHP\\_359-02\\_cfDNA\\_2000000.txt & CLONES\\_TRBCHP\\_359-02-PBMC-DNA\\_2000000.txt\\\\\n",
       "\t 359 & 04 & CLONES\\_TRBCHP\\_359-04-cfDNA\\_2000000.txt & CLONES\\_TRBCHP\\_359-04-PBMC-DNA\\_2000000.txt\\\\\n",
       "\t 360 & 02 & CLONES\\_TRBCHP\\_360-02-cfDNA\\_2000000.txt & CLONES\\_TRBCHP\\_360-02-PBMC-DNA\\_2000000.txt\\\\\n",
       "\t 361 & 01 & CLONES\\_TRBCHP\\_361-01\\_cfDNA\\_2000000.txt & CLONES\\_TRBCHP\\_361-01-PBMC-DNA\\_2000000.txt\\\\\n",
       "\t 361 & 02 & CLONES\\_TRBCHP\\_361-02\\_cfDNA\\_2000000.txt & CLONES\\_TRBCHP\\_361-02-PBMC-DNA\\_2000000.txt\\\\\n",
       "\t 361 & 03 & CLONES\\_TRBCHP\\_361-03\\_cfDNA\\_2000000.txt & CLONES\\_TRBCHP\\_361-03-PBMC-DNA\\_2000000.txt\\\\\n",
       "\t 362 & 03 & CLONES\\_TRBCHP\\_362-03\\_cfDNA\\_2000000.txt & CLONES\\_TRBCHP\\_362-03-PBMC-DNA\\_2000000.txt\\\\\n",
       "\t 362 & 04 & CLONES\\_TRBCHP\\_362-04\\_cfDNA\\_2000000.txt & CLONES\\_TRBCHP\\_362-04-PBMC-DNA\\_2000000.txt\\\\\n",
       "\t 363 & 02 & CLONES\\_TRBCHP\\_363-02\\_cfDNA\\_2000000.txt & CLONES\\_TRBCHP\\_363-02-PBMC-DNA\\_2000000.txt\\\\\n",
       "\t 364 & 02 & CLONES\\_TRBCHP\\_364-02\\_cfDNA\\_2000000.txt & CLONES\\_TRBCHP\\_364-02-PBMC-DNA\\_2000000.txt\\\\\n",
       "\t 366 & 01 & CLONES\\_TRBCHP\\_366-01\\_cfDNA\\_2000000.txt & CLONES\\_TRBCHP\\_366-01-PBMC-DNA\\_2000000.txt\\\\\n",
       "\t 368 & 01 & CLONES\\_TRBCHP\\_368-01\\_cfDNA\\_2000000.txt & CLONES\\_TRBCHP\\_368-01-PBMC-DNA\\_2000000.txt\\\\\n",
       "\t 368 & 05 & CLONES\\_TRBCHP\\_368-05-cfDNA\\_2000000.txt & CLONES\\_TRBCHP\\_368-05-PBMC-DNA\\_2000000.txt\\\\\n",
       "\t 369 & 02 & CLONES\\_TRBCHP\\_369-02\\_cfDNA\\_2000000.txt & CLONES\\_TRBCHP\\_369-02-PBMC-DNA\\_2000000.txt\\\\\n",
       "\t 370 & 01 & CLONES\\_TRBCHP\\_370-01-cfDNA\\_2000000.txt & CLONES\\_TRBCHP\\_370-01-PBMC-DNA\\_2000000.txt\\\\\n",
       "\t 370 & 03 & CLONES\\_TRBCHP\\_370-03\\_cfDNA\\_2000000.txt & CLONES\\_TRBCHP\\_370-03-PBMC-DNA\\_2000000.txt\\\\\n",
       "\t 372 & 01 & CLONES\\_TRBCHP\\_372-01-cfDNA\\_2000000.txt & CLONES\\_TRBCHP\\_372-01-PBMC-DNA\\_2000000.txt\\\\\n",
       "\t 373 & 01 & CLONES\\_TRBCHP\\_373-01-cfDNA\\_2000000.txt & CLONES\\_TRBCHP\\_373-01-PBMC-DNA\\_2000000.txt\\\\\n",
       "\t 373 & 02 & CLONES\\_TRBCHP\\_373-02\\_cfDNA\\_2000000.txt & CLONES\\_TRBCHP\\_373-02-PBMC-DNA\\_2000000.txt\\\\\n",
       "\t 374 & 04 & CLONES\\_TRBCHP\\_374-04-cfDNA\\_2000000.txt & CLONES\\_TRBCHP\\_374-04-PBMC-DNA\\_2000000.txt\\\\\n",
       "\t 374 & 05 & CLONES\\_TRBCHP\\_374-05-cfDNA\\_2000000.txt & CLONES\\_TRBCHP\\_374-05-PBMC-DNA\\_2000000.txt\\\\\n",
       "\t 375 & 02 & CLONES\\_TRBCHP\\_375-02\\_cfDNA\\_2000000.txt & CLONES\\_TRBCHP\\_375-02-PBMC-DNA\\_2000000.txt\\\\\n",
       "\t 377 & 04 & CLONES\\_TRBCHP\\_377-04\\_cfDNA\\_2000000.txt & CLONES\\_TRBCHP\\_377-04\\_PBMC\\_DNA\\_2000000.txt\\\\\n",
       "\t 381 & 02 & CLONES\\_TRBCHP\\_381-02\\_cfDNA\\_2000000.txt & CLONES\\_TRBCHP\\_381-02-PBMC-DNA\\_2000000.txt\\\\\n",
       "\t 385 & 03 & CLONES\\_TRBCHP\\_385-03\\_cfDNA\\_2000000.txt & CLONES\\_TRBCHP\\_385-03-PBMC-DNA\\_2000000.txt\\\\\n",
       "\t 387 & 01 & CLONES\\_TRBCHP\\_387-01\\_cfDNA\\_2000000.txt & CLONES\\_TRBCHP\\_387-01-PBMC-DNA\\_2000000.txt\\\\\n",
       "\t 391 & 02 & CLONES\\_TRBCHP\\_391-02\\_cfDNA\\_2000000.txt & CLONES\\_TRBCHP\\_391-02\\_PBMC\\_DNA\\_2000000.txt\\\\\n",
       "\t 394 & 01 & CLONES\\_TRBCHP\\_394-01\\_cfDNA\\_2000000.txt & CLONES\\_TRBCHP\\_394-01-PBMC-DNA\\_2000000.txt\\\\\n",
       "\t 396 & 01 & CLONES\\_TRBCHP\\_396-01\\_cfDNA\\_2000000.txt & CLONES\\_TRBCHP\\_396-01-PBMC-DNA\\_2000000.txt\\\\\n",
       "\t 397 & 01 & CLONES\\_TRBCHP\\_397-01\\_cfDNA\\_2000000.txt & CLONES\\_TRBCHP\\_397-01-PBMC-DNA\\_2000000.txt\\\\\n",
       "\t 397 & 02 & CLONES\\_TRBCHP\\_397-02\\_cfDNA\\_2000000.txt & CLONES\\_TRBCHP\\_397-02\\_PBMC\\_DNA\\_2000000.txt\\\\\n",
       "\t 399 & 01 & CLONES\\_TRBCHP\\_399-01\\_cfDNA\\_2000000.txt & CLONES\\_TRBCHP\\_399-01-PBMC-DNA\\_2000000.txt\\\\\n",
       "\t 405 & 01 & CLONES\\_TRBCHP\\_405-01\\_cfDNA\\_2000000.txt & CLONES\\_TRBCHP\\_405-01\\_PBMC\\_DNA\\_2000000.txt\\\\\n",
       "\\end{tabular}\n"
      ],
      "text/markdown": [
       "\n",
       "A data.frame: 57 × 4\n",
       "\n",
       "| patient &lt;chr&gt; | cycle &lt;chr&gt; | filename.x &lt;chr&gt; | filename.y &lt;chr&gt; |\n",
       "|---|---|---|---|\n",
       "| 323 | 03 | CLONES_TRBCHP_323-03_cfDNA_2000000.txt | CLONES_TRBCHP_323-03-PBMC-DNA_2000000.txt |\n",
       "| 338 | 03 | CLONES_TRBCHP_338-03_cfDNA_2000000.txt | CLONES_TRBCHP_338-03-PBMC-DNA_2000000.txt |\n",
       "| 339 | 03 | CLONES_TRBCHP_339-03_cfDNA_2000000.txt | CLONES_TRBCHP_339-03-PBMC-DNA_2000000.txt |\n",
       "| 340 | 03 | CLONES_TRBCHP_340-03_cfDNA_2000000.txt | CLONES_TRBCHP_340-03-PBMC-DNA_2000000.txt |\n",
       "| 344 | 02 | CLONES_TRBCHP_344-02_cfDNA_2000000.txt | CLONES_TRBCHP_344-02-PBMC-DNA_2000000.txt |\n",
       "| 344 | 04 | CLONES_TRBCHP_344-04_cfDNA_2000000.txt | CLONES_TRBCHP_344-04-PBMC-DNA_2000000.txt |\n",
       "| 344 | 05 | CLONES_TRBCHP_344-05_cfDNA_2000000.txt | CLONES_TRBCHP_344-05-PBMC-DNA_2000000.txt |\n",
       "| 345 | 02 | CLONES_TRBCHP_345-02_cfDNA_2000000.txt | CLONES_TRBCHP_345-02-PBMC-DNA_2000000.txt |\n",
       "| 347 | 01 | CLONES_TRBCHP_347-01-cfDNA_2000000.txt | CLONES_TRBCHP_347-01-PBMC-DNA_2000000.txt |\n",
       "| 347 | 02 | CLONES_TRBCHP_347-02_cfDNA_2000000.txt | CLONES_TRBCHP_347-02-PBMC-DNA_2000000.txt |\n",
       "| 347 | 04 | CLONES_TRBCHP_347-04_cfDNA_2000000.txt | CLONES_TRBCHP_347-04-PBMC-DNA_2000000.txt |\n",
       "| 351 | 04 | CLONES_TRBCHP_351-04_cfDNA_2000000.txt | CLONES_TRBCHP_351-04-PBMC-DNA_2000000.txt |\n",
       "| 353 | 01 | CLONES_TRBCHP_353-01-cfDNA_2000000.txt | CLONES_TRBCHP_353-01-PBMC-DNA_2000000.txt |\n",
       "| 353 | 02 | CLONES_TRBCHP_353-02_cfDNA_2000000.txt | CLONES_TRBCHP_353-02-PBMC-DNA_2000000.txt |\n",
       "| 353 | 05 | CLONES_TRBCHP_353-05_cfDNA_2000000.txt | CLONES_TRBCHP_353-05-PBMC-DNA_2000000.txt |\n",
       "| 355 | 01 | CLONES_TRBCHP_355-01-cfDNA_2000000.txt | CLONES_TRBCHP_355-01-PBMC-DNA_2000000.txt |\n",
       "| 356 | 02 | CLONES_TRBCHP_356-02-cfDNA_2000000.txt | CLONES_TRBCHP_356-02-PBMC-DNA_2000000.txt |\n",
       "| 357 | 01 | CLONES_TRBCHP_357-01_cfDNA_2000000.txt | CLONES_TRBCHP_357-01-PBMC-DNA_2000000.txt |\n",
       "| 357 | 03 | CLONES_TRBCHP_357-03-cfDNA_2000000.txt | CLONES_TRBCHP_357-03-PBMC-DNA_2000000.txt |\n",
       "| 357 | 04 | CLONES_TRBCHP_357-04_cfDNA_2000000.txt | CLONES_TRBCHP_357-04-PBMC-DNA_2000000.txt |\n",
       "| 358 | 01 | CLONES_TRBCHP_358-01_cfDNA_2000000.txt | CLONES_TRBCHP_358-01-PBMC-DNA_2000000.txt |\n",
       "| 358 | 02 | CLONES_TRBCHP_358-02_cfDNA_2000000.txt | CLONES_TRBCHP_358-02-PBMC-DNA_2000000.txt |\n",
       "| 358 | 03 | CLONES_TRBCHP_358-03_cfDNA_2000000.txt | CLONES_TRBCHP_358-03-PBMC-DNA_2000000.txt |\n",
       "| 359 | 01 | CLONES_TRBCHP_359-01-cfDNA_2000000.txt | CLONES_TRBCHP_359-01-PBMC-DNA_2000000.txt |\n",
       "| 359 | 02 | CLONES_TRBCHP_359-02_cfDNA_2000000.txt | CLONES_TRBCHP_359-02-PBMC-DNA_2000000.txt |\n",
       "| 359 | 04 | CLONES_TRBCHP_359-04-cfDNA_2000000.txt | CLONES_TRBCHP_359-04-PBMC-DNA_2000000.txt |\n",
       "| 360 | 02 | CLONES_TRBCHP_360-02-cfDNA_2000000.txt | CLONES_TRBCHP_360-02-PBMC-DNA_2000000.txt |\n",
       "| 361 | 01 | CLONES_TRBCHP_361-01_cfDNA_2000000.txt | CLONES_TRBCHP_361-01-PBMC-DNA_2000000.txt |\n",
       "| 361 | 02 | CLONES_TRBCHP_361-02_cfDNA_2000000.txt | CLONES_TRBCHP_361-02-PBMC-DNA_2000000.txt |\n",
       "| 361 | 03 | CLONES_TRBCHP_361-03_cfDNA_2000000.txt | CLONES_TRBCHP_361-03-PBMC-DNA_2000000.txt |\n",
       "| 362 | 03 | CLONES_TRBCHP_362-03_cfDNA_2000000.txt | CLONES_TRBCHP_362-03-PBMC-DNA_2000000.txt |\n",
       "| 362 | 04 | CLONES_TRBCHP_362-04_cfDNA_2000000.txt | CLONES_TRBCHP_362-04-PBMC-DNA_2000000.txt |\n",
       "| 363 | 02 | CLONES_TRBCHP_363-02_cfDNA_2000000.txt | CLONES_TRBCHP_363-02-PBMC-DNA_2000000.txt |\n",
       "| 364 | 02 | CLONES_TRBCHP_364-02_cfDNA_2000000.txt | CLONES_TRBCHP_364-02-PBMC-DNA_2000000.txt |\n",
       "| 366 | 01 | CLONES_TRBCHP_366-01_cfDNA_2000000.txt | CLONES_TRBCHP_366-01-PBMC-DNA_2000000.txt |\n",
       "| 368 | 01 | CLONES_TRBCHP_368-01_cfDNA_2000000.txt | CLONES_TRBCHP_368-01-PBMC-DNA_2000000.txt |\n",
       "| 368 | 05 | CLONES_TRBCHP_368-05-cfDNA_2000000.txt | CLONES_TRBCHP_368-05-PBMC-DNA_2000000.txt |\n",
       "| 369 | 02 | CLONES_TRBCHP_369-02_cfDNA_2000000.txt | CLONES_TRBCHP_369-02-PBMC-DNA_2000000.txt |\n",
       "| 370 | 01 | CLONES_TRBCHP_370-01-cfDNA_2000000.txt | CLONES_TRBCHP_370-01-PBMC-DNA_2000000.txt |\n",
       "| 370 | 03 | CLONES_TRBCHP_370-03_cfDNA_2000000.txt | CLONES_TRBCHP_370-03-PBMC-DNA_2000000.txt |\n",
       "| 372 | 01 | CLONES_TRBCHP_372-01-cfDNA_2000000.txt | CLONES_TRBCHP_372-01-PBMC-DNA_2000000.txt |\n",
       "| 373 | 01 | CLONES_TRBCHP_373-01-cfDNA_2000000.txt | CLONES_TRBCHP_373-01-PBMC-DNA_2000000.txt |\n",
       "| 373 | 02 | CLONES_TRBCHP_373-02_cfDNA_2000000.txt | CLONES_TRBCHP_373-02-PBMC-DNA_2000000.txt |\n",
       "| 374 | 04 | CLONES_TRBCHP_374-04-cfDNA_2000000.txt | CLONES_TRBCHP_374-04-PBMC-DNA_2000000.txt |\n",
       "| 374 | 05 | CLONES_TRBCHP_374-05-cfDNA_2000000.txt | CLONES_TRBCHP_374-05-PBMC-DNA_2000000.txt |\n",
       "| 375 | 02 | CLONES_TRBCHP_375-02_cfDNA_2000000.txt | CLONES_TRBCHP_375-02-PBMC-DNA_2000000.txt |\n",
       "| 377 | 04 | CLONES_TRBCHP_377-04_cfDNA_2000000.txt | CLONES_TRBCHP_377-04_PBMC_DNA_2000000.txt |\n",
       "| 381 | 02 | CLONES_TRBCHP_381-02_cfDNA_2000000.txt | CLONES_TRBCHP_381-02-PBMC-DNA_2000000.txt |\n",
       "| 385 | 03 | CLONES_TRBCHP_385-03_cfDNA_2000000.txt | CLONES_TRBCHP_385-03-PBMC-DNA_2000000.txt |\n",
       "| 387 | 01 | CLONES_TRBCHP_387-01_cfDNA_2000000.txt | CLONES_TRBCHP_387-01-PBMC-DNA_2000000.txt |\n",
       "| 391 | 02 | CLONES_TRBCHP_391-02_cfDNA_2000000.txt | CLONES_TRBCHP_391-02_PBMC_DNA_2000000.txt |\n",
       "| 394 | 01 | CLONES_TRBCHP_394-01_cfDNA_2000000.txt | CLONES_TRBCHP_394-01-PBMC-DNA_2000000.txt |\n",
       "| 396 | 01 | CLONES_TRBCHP_396-01_cfDNA_2000000.txt | CLONES_TRBCHP_396-01-PBMC-DNA_2000000.txt |\n",
       "| 397 | 01 | CLONES_TRBCHP_397-01_cfDNA_2000000.txt | CLONES_TRBCHP_397-01-PBMC-DNA_2000000.txt |\n",
       "| 397 | 02 | CLONES_TRBCHP_397-02_cfDNA_2000000.txt | CLONES_TRBCHP_397-02_PBMC_DNA_2000000.txt |\n",
       "| 399 | 01 | CLONES_TRBCHP_399-01_cfDNA_2000000.txt | CLONES_TRBCHP_399-01-PBMC-DNA_2000000.txt |\n",
       "| 405 | 01 | CLONES_TRBCHP_405-01_cfDNA_2000000.txt | CLONES_TRBCHP_405-01_PBMC_DNA_2000000.txt |\n",
       "\n"
      ],
      "text/plain": [
       "   patient cycle filename.x                            \n",
       "1  323     03    CLONES_TRBCHP_323-03_cfDNA_2000000.txt\n",
       "2  338     03    CLONES_TRBCHP_338-03_cfDNA_2000000.txt\n",
       "3  339     03    CLONES_TRBCHP_339-03_cfDNA_2000000.txt\n",
       "4  340     03    CLONES_TRBCHP_340-03_cfDNA_2000000.txt\n",
       "5  344     02    CLONES_TRBCHP_344-02_cfDNA_2000000.txt\n",
       "6  344     04    CLONES_TRBCHP_344-04_cfDNA_2000000.txt\n",
       "7  344     05    CLONES_TRBCHP_344-05_cfDNA_2000000.txt\n",
       "8  345     02    CLONES_TRBCHP_345-02_cfDNA_2000000.txt\n",
       "9  347     01    CLONES_TRBCHP_347-01-cfDNA_2000000.txt\n",
       "10 347     02    CLONES_TRBCHP_347-02_cfDNA_2000000.txt\n",
       "11 347     04    CLONES_TRBCHP_347-04_cfDNA_2000000.txt\n",
       "12 351     04    CLONES_TRBCHP_351-04_cfDNA_2000000.txt\n",
       "13 353     01    CLONES_TRBCHP_353-01-cfDNA_2000000.txt\n",
       "14 353     02    CLONES_TRBCHP_353-02_cfDNA_2000000.txt\n",
       "15 353     05    CLONES_TRBCHP_353-05_cfDNA_2000000.txt\n",
       "16 355     01    CLONES_TRBCHP_355-01-cfDNA_2000000.txt\n",
       "17 356     02    CLONES_TRBCHP_356-02-cfDNA_2000000.txt\n",
       "18 357     01    CLONES_TRBCHP_357-01_cfDNA_2000000.txt\n",
       "19 357     03    CLONES_TRBCHP_357-03-cfDNA_2000000.txt\n",
       "20 357     04    CLONES_TRBCHP_357-04_cfDNA_2000000.txt\n",
       "21 358     01    CLONES_TRBCHP_358-01_cfDNA_2000000.txt\n",
       "22 358     02    CLONES_TRBCHP_358-02_cfDNA_2000000.txt\n",
       "23 358     03    CLONES_TRBCHP_358-03_cfDNA_2000000.txt\n",
       "24 359     01    CLONES_TRBCHP_359-01-cfDNA_2000000.txt\n",
       "25 359     02    CLONES_TRBCHP_359-02_cfDNA_2000000.txt\n",
       "26 359     04    CLONES_TRBCHP_359-04-cfDNA_2000000.txt\n",
       "27 360     02    CLONES_TRBCHP_360-02-cfDNA_2000000.txt\n",
       "28 361     01    CLONES_TRBCHP_361-01_cfDNA_2000000.txt\n",
       "29 361     02    CLONES_TRBCHP_361-02_cfDNA_2000000.txt\n",
       "30 361     03    CLONES_TRBCHP_361-03_cfDNA_2000000.txt\n",
       "31 362     03    CLONES_TRBCHP_362-03_cfDNA_2000000.txt\n",
       "32 362     04    CLONES_TRBCHP_362-04_cfDNA_2000000.txt\n",
       "33 363     02    CLONES_TRBCHP_363-02_cfDNA_2000000.txt\n",
       "34 364     02    CLONES_TRBCHP_364-02_cfDNA_2000000.txt\n",
       "35 366     01    CLONES_TRBCHP_366-01_cfDNA_2000000.txt\n",
       "36 368     01    CLONES_TRBCHP_368-01_cfDNA_2000000.txt\n",
       "37 368     05    CLONES_TRBCHP_368-05-cfDNA_2000000.txt\n",
       "38 369     02    CLONES_TRBCHP_369-02_cfDNA_2000000.txt\n",
       "39 370     01    CLONES_TRBCHP_370-01-cfDNA_2000000.txt\n",
       "40 370     03    CLONES_TRBCHP_370-03_cfDNA_2000000.txt\n",
       "41 372     01    CLONES_TRBCHP_372-01-cfDNA_2000000.txt\n",
       "42 373     01    CLONES_TRBCHP_373-01-cfDNA_2000000.txt\n",
       "43 373     02    CLONES_TRBCHP_373-02_cfDNA_2000000.txt\n",
       "44 374     04    CLONES_TRBCHP_374-04-cfDNA_2000000.txt\n",
       "45 374     05    CLONES_TRBCHP_374-05-cfDNA_2000000.txt\n",
       "46 375     02    CLONES_TRBCHP_375-02_cfDNA_2000000.txt\n",
       "47 377     04    CLONES_TRBCHP_377-04_cfDNA_2000000.txt\n",
       "48 381     02    CLONES_TRBCHP_381-02_cfDNA_2000000.txt\n",
       "49 385     03    CLONES_TRBCHP_385-03_cfDNA_2000000.txt\n",
       "50 387     01    CLONES_TRBCHP_387-01_cfDNA_2000000.txt\n",
       "51 391     02    CLONES_TRBCHP_391-02_cfDNA_2000000.txt\n",
       "52 394     01    CLONES_TRBCHP_394-01_cfDNA_2000000.txt\n",
       "53 396     01    CLONES_TRBCHP_396-01_cfDNA_2000000.txt\n",
       "54 397     01    CLONES_TRBCHP_397-01_cfDNA_2000000.txt\n",
       "55 397     02    CLONES_TRBCHP_397-02_cfDNA_2000000.txt\n",
       "56 399     01    CLONES_TRBCHP_399-01_cfDNA_2000000.txt\n",
       "57 405     01    CLONES_TRBCHP_405-01_cfDNA_2000000.txt\n",
       "   filename.y                               \n",
       "1  CLONES_TRBCHP_323-03-PBMC-DNA_2000000.txt\n",
       "2  CLONES_TRBCHP_338-03-PBMC-DNA_2000000.txt\n",
       "3  CLONES_TRBCHP_339-03-PBMC-DNA_2000000.txt\n",
       "4  CLONES_TRBCHP_340-03-PBMC-DNA_2000000.txt\n",
       "5  CLONES_TRBCHP_344-02-PBMC-DNA_2000000.txt\n",
       "6  CLONES_TRBCHP_344-04-PBMC-DNA_2000000.txt\n",
       "7  CLONES_TRBCHP_344-05-PBMC-DNA_2000000.txt\n",
       "8  CLONES_TRBCHP_345-02-PBMC-DNA_2000000.txt\n",
       "9  CLONES_TRBCHP_347-01-PBMC-DNA_2000000.txt\n",
       "10 CLONES_TRBCHP_347-02-PBMC-DNA_2000000.txt\n",
       "11 CLONES_TRBCHP_347-04-PBMC-DNA_2000000.txt\n",
       "12 CLONES_TRBCHP_351-04-PBMC-DNA_2000000.txt\n",
       "13 CLONES_TRBCHP_353-01-PBMC-DNA_2000000.txt\n",
       "14 CLONES_TRBCHP_353-02-PBMC-DNA_2000000.txt\n",
       "15 CLONES_TRBCHP_353-05-PBMC-DNA_2000000.txt\n",
       "16 CLONES_TRBCHP_355-01-PBMC-DNA_2000000.txt\n",
       "17 CLONES_TRBCHP_356-02-PBMC-DNA_2000000.txt\n",
       "18 CLONES_TRBCHP_357-01-PBMC-DNA_2000000.txt\n",
       "19 CLONES_TRBCHP_357-03-PBMC-DNA_2000000.txt\n",
       "20 CLONES_TRBCHP_357-04-PBMC-DNA_2000000.txt\n",
       "21 CLONES_TRBCHP_358-01-PBMC-DNA_2000000.txt\n",
       "22 CLONES_TRBCHP_358-02-PBMC-DNA_2000000.txt\n",
       "23 CLONES_TRBCHP_358-03-PBMC-DNA_2000000.txt\n",
       "24 CLONES_TRBCHP_359-01-PBMC-DNA_2000000.txt\n",
       "25 CLONES_TRBCHP_359-02-PBMC-DNA_2000000.txt\n",
       "26 CLONES_TRBCHP_359-04-PBMC-DNA_2000000.txt\n",
       "27 CLONES_TRBCHP_360-02-PBMC-DNA_2000000.txt\n",
       "28 CLONES_TRBCHP_361-01-PBMC-DNA_2000000.txt\n",
       "29 CLONES_TRBCHP_361-02-PBMC-DNA_2000000.txt\n",
       "30 CLONES_TRBCHP_361-03-PBMC-DNA_2000000.txt\n",
       "31 CLONES_TRBCHP_362-03-PBMC-DNA_2000000.txt\n",
       "32 CLONES_TRBCHP_362-04-PBMC-DNA_2000000.txt\n",
       "33 CLONES_TRBCHP_363-02-PBMC-DNA_2000000.txt\n",
       "34 CLONES_TRBCHP_364-02-PBMC-DNA_2000000.txt\n",
       "35 CLONES_TRBCHP_366-01-PBMC-DNA_2000000.txt\n",
       "36 CLONES_TRBCHP_368-01-PBMC-DNA_2000000.txt\n",
       "37 CLONES_TRBCHP_368-05-PBMC-DNA_2000000.txt\n",
       "38 CLONES_TRBCHP_369-02-PBMC-DNA_2000000.txt\n",
       "39 CLONES_TRBCHP_370-01-PBMC-DNA_2000000.txt\n",
       "40 CLONES_TRBCHP_370-03-PBMC-DNA_2000000.txt\n",
       "41 CLONES_TRBCHP_372-01-PBMC-DNA_2000000.txt\n",
       "42 CLONES_TRBCHP_373-01-PBMC-DNA_2000000.txt\n",
       "43 CLONES_TRBCHP_373-02-PBMC-DNA_2000000.txt\n",
       "44 CLONES_TRBCHP_374-04-PBMC-DNA_2000000.txt\n",
       "45 CLONES_TRBCHP_374-05-PBMC-DNA_2000000.txt\n",
       "46 CLONES_TRBCHP_375-02-PBMC-DNA_2000000.txt\n",
       "47 CLONES_TRBCHP_377-04_PBMC_DNA_2000000.txt\n",
       "48 CLONES_TRBCHP_381-02-PBMC-DNA_2000000.txt\n",
       "49 CLONES_TRBCHP_385-03-PBMC-DNA_2000000.txt\n",
       "50 CLONES_TRBCHP_387-01-PBMC-DNA_2000000.txt\n",
       "51 CLONES_TRBCHP_391-02_PBMC_DNA_2000000.txt\n",
       "52 CLONES_TRBCHP_394-01-PBMC-DNA_2000000.txt\n",
       "53 CLONES_TRBCHP_396-01-PBMC-DNA_2000000.txt\n",
       "54 CLONES_TRBCHP_397-01-PBMC-DNA_2000000.txt\n",
       "55 CLONES_TRBCHP_397-02_PBMC_DNA_2000000.txt\n",
       "56 CLONES_TRBCHP_399-01-PBMC-DNA_2000000.txt\n",
       "57 CLONES_TRBCHP_405-01_PBMC_DNA_2000000.txt"
      ]
     },
     "metadata": {},
     "output_type": "display_data"
    }
   ],
   "source": [
    "manifest_cfdna_pbmc"
   ]
  },
  {
   "cell_type": "code",
   "execution_count": 48,
   "metadata": {},
   "outputs": [
    {
     "name": "stdout",
     "output_type": "stream",
     "text": [
      "[1] \"CLONES_TRBCHP_323-03_cfDNA_2000000.txt\"\n"
     ]
    },
    {
     "name": "stderr",
     "output_type": "stream",
     "text": [
      "duplicated sequences:\n"
     ]
    },
    {
     "name": "stdout",
     "output_type": "stream",
     "text": [
      "character(0)\n"
     ]
    },
    {
     "name": "stderr",
     "output_type": "stream",
     "text": [
      "my files:\n"
     ]
    },
    {
     "name": "stdout",
     "output_type": "stream",
     "text": [
      "[1] \"batch4/ds_batch4/CLONES_TRBCHP_323-03-PBMC-DNA_2000000.txt\"\n",
      "[2] \"batch3a9_cfDNA/CLONES_TRBCHP_323-03_cfDNA_2000000.txt\"     \n"
     ]
    },
    {
     "name": "stderr",
     "output_type": "stream",
     "text": [
      "Total recovered clonotypes:\n"
     ]
    },
    {
     "name": "stdout",
     "output_type": "stream",
     "text": [
      "[1] 168\n"
     ]
    },
    {
     "name": "stderr",
     "output_type": "stream",
     "text": [
      "Total out-of-frame clonotypes:\n"
     ]
    },
    {
     "name": "stdout",
     "output_type": "stream",
     "text": [
      "[1] 35\n"
     ]
    },
    {
     "name": "stderr",
     "output_type": "stream",
     "text": [
      "Total clonotypes with stop codon:\n"
     ]
    },
    {
     "name": "stdout",
     "output_type": "stream",
     "text": [
      "[1] 4\n"
     ]
    },
    {
     "name": "stderr",
     "output_type": "stream",
     "text": [
      "Total productive clonotypes:\n"
     ]
    },
    {
     "name": "stdout",
     "output_type": "stream",
     "text": [
      "[1] 129\n"
     ]
    },
    {
     "name": "stderr",
     "output_type": "stream",
     "text": [
      "Output contains all clonotypes\n",
      "list of samples to track clones: \n"
     ]
    },
    {
     "name": "stdout",
     "output_type": "stream",
     "text": [
      "[1] CHP_323-03-PBMC  CHP_323-03-cfDNA\n",
      "Levels: CHP_323-03-PBMC CHP_323-03-cfDNA\n"
     ]
    },
    {
     "name": "stderr",
     "output_type": "stream",
     "text": [
      "Total number of recurring clonotypes: \n"
     ]
    },
    {
     "name": "stdout",
     "output_type": "stream",
     "text": [
      "[1] 1\n"
     ]
    },
    {
     "name": "stderr",
     "output_type": "stream",
     "text": [
      "these are what we color: \n"
     ]
    },
    {
     "name": "stdout",
     "output_type": "stream",
     "text": [
      "CASSPQGGPHNEQFF \n",
      "      \"#BCB3B3\" \n",
      "[1] \"CLONES_TRBCHP_338-03_cfDNA_2000000.txt\"\n"
     ]
    },
    {
     "name": "stderr",
     "output_type": "stream",
     "text": [
      "duplicated sequences:\n"
     ]
    },
    {
     "name": "stdout",
     "output_type": "stream",
     "text": [
      " [1] \"CSAPGQGGGTEAFFGQGTRLTVVGKTFFRF_LQIRHREKWVHSVPFRVAIFLCANYGYTF\"  \n",
      " [2] \"CASSEQGSVTEAFFGQGTRLTVVGKTFFRF_LQIRHREKWVHSVPFRVAIFLCANYGYTF\"  \n",
      " [3] \"CASSLGLGSGVNTGELFFGEGSRLTVLGKEAVGAPESSERAGWAEVSSCPTLRGAVLRGAAG\"\n",
      " [4] \"CASSVGPSTYNEQFF\"                                               \n",
      " [5] \"CSTQGSRESTEAFF\"                                                \n",
      " [6] \"CAR*WDRSKTFIGFTDTQYF\"                                          \n",
      " [7] \"CAWSPGGFLQPSPLHF\"                                              \n",
      " [8] \"CASTAGGASKNIQYF\"                                               \n",
      " [9] \"CASSPNLGGNTEAFF\"                                               \n",
      "[10] \"CATRL*R_INQPQHF\"                                               \n"
     ]
    },
    {
     "name": "stderr",
     "output_type": "stream",
     "text": [
      "my files:\n"
     ]
    },
    {
     "name": "stdout",
     "output_type": "stream",
     "text": [
      "[1] \"batch4/ds_batch4/CLONES_TRBCHP_338-03-PBMC-DNA_2000000.txt\"\n",
      "[2] \"batch10_cfDNA/CLONES_TRBCHP_338-03_cfDNA_2000000.txt\"      \n"
     ]
    },
    {
     "name": "stderr",
     "output_type": "stream",
     "text": [
      "Total recovered clonotypes:\n"
     ]
    },
    {
     "name": "stdout",
     "output_type": "stream",
     "text": [
      "[1] 596\n"
     ]
    },
    {
     "name": "stderr",
     "output_type": "stream",
     "text": [
      "Total out-of-frame clonotypes:\n"
     ]
    },
    {
     "name": "stdout",
     "output_type": "stream",
     "text": [
      "[1] 129\n"
     ]
    },
    {
     "name": "stderr",
     "output_type": "stream",
     "text": [
      "Total clonotypes with stop codon:\n"
     ]
    },
    {
     "name": "stdout",
     "output_type": "stream",
     "text": [
      "[1] 12\n"
     ]
    },
    {
     "name": "stderr",
     "output_type": "stream",
     "text": [
      "Total productive clonotypes:\n"
     ]
    },
    {
     "name": "stdout",
     "output_type": "stream",
     "text": [
      "[1] 455\n"
     ]
    },
    {
     "name": "stderr",
     "output_type": "stream",
     "text": [
      "Output contains all clonotypes\n",
      "list of samples to track clones: \n"
     ]
    },
    {
     "name": "stdout",
     "output_type": "stream",
     "text": [
      "[1] CHP_338-03-PBMC  CHP_338-03-cfDNA\n",
      "Levels: CHP_338-03-PBMC CHP_338-03-cfDNA\n"
     ]
    },
    {
     "name": "stderr",
     "output_type": "stream",
     "text": [
      "Total number of recurring clonotypes: \n"
     ]
    },
    {
     "name": "stdout",
     "output_type": "stream",
     "text": [
      "[1] 0\n"
     ]
    },
    {
     "name": "stderr",
     "output_type": "stream",
     "text": [
      "these are what we color: \n"
     ]
    },
    {
     "name": "stdout",
     "output_type": "stream",
     "text": [
      "named character(0)\n",
      "[1] \"CLONES_TRBCHP_339-03_cfDNA_2000000.txt\"\n"
     ]
    },
    {
     "name": "stderr",
     "output_type": "stream",
     "text": [
      "duplicated sequences:\n"
     ]
    },
    {
     "name": "stdout",
     "output_type": "stream",
     "text": [
      "[1] \"CASSFPGRNTEAFFGQGTRLTVVGKTFFRF_LQIRHREKWVHSVPFRVAIFLCANYGYTF\"\n"
     ]
    },
    {
     "name": "stderr",
     "output_type": "stream",
     "text": [
      "my files:\n"
     ]
    },
    {
     "name": "stdout",
     "output_type": "stream",
     "text": [
      "[1] \"batch4/ds_batch4/CLONES_TRBCHP_339-03-PBMC-DNA_2000000.txt\"\n",
      "[2] \"batch10_cfDNA/CLONES_TRBCHP_339-03_cfDNA_2000000.txt\"      \n"
     ]
    },
    {
     "name": "stderr",
     "output_type": "stream",
     "text": [
      "Total recovered clonotypes:\n"
     ]
    },
    {
     "name": "stdout",
     "output_type": "stream",
     "text": [
      "[1] 35\n"
     ]
    },
    {
     "name": "stderr",
     "output_type": "stream",
     "text": [
      "Total out-of-frame clonotypes:\n"
     ]
    },
    {
     "name": "stdout",
     "output_type": "stream",
     "text": [
      "[1] 6\n"
     ]
    },
    {
     "name": "stderr",
     "output_type": "stream",
     "text": [
      "Total clonotypes with stop codon:\n"
     ]
    },
    {
     "name": "stdout",
     "output_type": "stream",
     "text": [
      "[1] 2\n"
     ]
    },
    {
     "name": "stderr",
     "output_type": "stream",
     "text": [
      "Total productive clonotypes:\n"
     ]
    },
    {
     "name": "stdout",
     "output_type": "stream",
     "text": [
      "[1] 27\n"
     ]
    },
    {
     "name": "stderr",
     "output_type": "stream",
     "text": [
      "Output contains all clonotypes\n",
      "list of samples to track clones: \n"
     ]
    },
    {
     "name": "stdout",
     "output_type": "stream",
     "text": [
      "[1] CHP_339-03-PBMC  CHP_339-03-cfDNA\n",
      "Levels: CHP_339-03-PBMC CHP_339-03-cfDNA\n"
     ]
    },
    {
     "name": "stderr",
     "output_type": "stream",
     "text": [
      "Total number of recurring clonotypes: \n"
     ]
    },
    {
     "name": "stdout",
     "output_type": "stream",
     "text": [
      "[1] 0\n"
     ]
    },
    {
     "name": "stderr",
     "output_type": "stream",
     "text": [
      "these are what we color: \n"
     ]
    },
    {
     "name": "stdout",
     "output_type": "stream",
     "text": [
      "named character(0)\n",
      "[1] \"CLONES_TRBCHP_340-03_cfDNA_2000000.txt\"\n"
     ]
    },
    {
     "name": "stderr",
     "output_type": "stream",
     "text": [
      "duplicated sequences:\n"
     ]
    },
    {
     "name": "stdout",
     "output_type": "stream",
     "text": [
      "[1] \"CASHMNTEAFF\"\n"
     ]
    },
    {
     "name": "stderr",
     "output_type": "stream",
     "text": [
      "my files:\n"
     ]
    },
    {
     "name": "stdout",
     "output_type": "stream",
     "text": [
      "[1] \"batch4/ds_batch4/CLONES_TRBCHP_340-03-PBMC-DNA_2000000.txt\"\n",
      "[2] \"batch5_cfDNA/CLONES_TRBCHP_340-03_cfDNA_2000000.txt\"       \n"
     ]
    },
    {
     "name": "stderr",
     "output_type": "stream",
     "text": [
      "Total recovered clonotypes:\n"
     ]
    },
    {
     "name": "stdout",
     "output_type": "stream",
     "text": [
      "[1] 104\n"
     ]
    },
    {
     "name": "stderr",
     "output_type": "stream",
     "text": [
      "Total out-of-frame clonotypes:\n"
     ]
    },
    {
     "name": "stdout",
     "output_type": "stream",
     "text": [
      "[1] 21\n"
     ]
    },
    {
     "name": "stderr",
     "output_type": "stream",
     "text": [
      "Total clonotypes with stop codon:\n"
     ]
    },
    {
     "name": "stdout",
     "output_type": "stream",
     "text": [
      "[1] 1\n"
     ]
    },
    {
     "name": "stderr",
     "output_type": "stream",
     "text": [
      "Total productive clonotypes:\n"
     ]
    },
    {
     "name": "stdout",
     "output_type": "stream",
     "text": [
      "[1] 82\n"
     ]
    },
    {
     "name": "stderr",
     "output_type": "stream",
     "text": [
      "Output contains all clonotypes\n",
      "list of samples to track clones: \n"
     ]
    },
    {
     "name": "stdout",
     "output_type": "stream",
     "text": [
      "[1] CHP_340-03-PBMC  CHP_340-03-cfDNA\n",
      "Levels: CHP_340-03-PBMC CHP_340-03-cfDNA\n"
     ]
    },
    {
     "name": "stderr",
     "output_type": "stream",
     "text": [
      "Total number of recurring clonotypes: \n"
     ]
    },
    {
     "name": "stdout",
     "output_type": "stream",
     "text": [
      "[1] 0\n"
     ]
    },
    {
     "name": "stderr",
     "output_type": "stream",
     "text": [
      "these are what we color: \n"
     ]
    },
    {
     "name": "stdout",
     "output_type": "stream",
     "text": [
      "named character(0)\n",
      "[1] \"CLONES_TRBCHP_344-02_cfDNA_2000000.txt\"\n"
     ]
    },
    {
     "name": "stderr",
     "output_type": "stream",
     "text": [
      "duplicated sequences:\n"
     ]
    },
    {
     "name": "stdout",
     "output_type": "stream",
     "text": [
      "character(0)\n"
     ]
    },
    {
     "name": "stderr",
     "output_type": "stream",
     "text": [
      "my files:\n"
     ]
    },
    {
     "name": "stdout",
     "output_type": "stream",
     "text": [
      "[1] \"batch7/ds_batch7/CLONES_TRBCHP_344-02-PBMC-DNA_2000000.txt\"\n",
      "[2] \"batch3a9_cfDNA/CLONES_TRBCHP_344-02_cfDNA_2000000.txt\"     \n"
     ]
    },
    {
     "name": "stderr",
     "output_type": "stream",
     "text": [
      "Total recovered clonotypes:\n"
     ]
    },
    {
     "name": "stdout",
     "output_type": "stream",
     "text": [
      "[1] 16\n"
     ]
    },
    {
     "name": "stderr",
     "output_type": "stream",
     "text": [
      "Total out-of-frame clonotypes:\n"
     ]
    },
    {
     "name": "stdout",
     "output_type": "stream",
     "text": [
      "[1] 2\n"
     ]
    },
    {
     "name": "stderr",
     "output_type": "stream",
     "text": [
      "Total clonotypes with stop codon:\n"
     ]
    },
    {
     "name": "stdout",
     "output_type": "stream",
     "text": [
      "[1] 0\n"
     ]
    },
    {
     "name": "stderr",
     "output_type": "stream",
     "text": [
      "Total productive clonotypes:\n"
     ]
    },
    {
     "name": "stdout",
     "output_type": "stream",
     "text": [
      "[1] 14\n"
     ]
    },
    {
     "name": "stderr",
     "output_type": "stream",
     "text": [
      "Output contains all clonotypes\n",
      "list of samples to track clones: \n"
     ]
    },
    {
     "name": "stdout",
     "output_type": "stream",
     "text": [
      "[1] CHP_344-02-PBMC  CHP_344-02-cfDNA\n",
      "Levels: CHP_344-02-PBMC CHP_344-02-cfDNA\n"
     ]
    },
    {
     "name": "stderr",
     "output_type": "stream",
     "text": [
      "Total number of recurring clonotypes: \n"
     ]
    },
    {
     "name": "stdout",
     "output_type": "stream",
     "text": [
      "[1] 0\n"
     ]
    },
    {
     "name": "stderr",
     "output_type": "stream",
     "text": [
      "these are what we color: \n"
     ]
    },
    {
     "name": "stdout",
     "output_type": "stream",
     "text": [
      "named character(0)\n",
      "[1] \"CLONES_TRBCHP_344-04_cfDNA_2000000.txt\"\n"
     ]
    },
    {
     "name": "stderr",
     "output_type": "stream",
     "text": [
      "duplicated sequences:\n"
     ]
    },
    {
     "name": "stdout",
     "output_type": "stream",
     "text": [
      "character(0)\n"
     ]
    },
    {
     "name": "stderr",
     "output_type": "stream",
     "text": [
      "my files:\n"
     ]
    },
    {
     "name": "stdout",
     "output_type": "stream",
     "text": [
      "[1] \"batch8/ds_batch8/CLONES_TRBCHP_344-04-PBMC-DNA_2000000.txt\"\n",
      "[2] \"batch3a9_cfDNA/CLONES_TRBCHP_344-04_cfDNA_2000000.txt\"     \n"
     ]
    },
    {
     "name": "stderr",
     "output_type": "stream",
     "text": [
      "Total recovered clonotypes:\n"
     ]
    },
    {
     "name": "stdout",
     "output_type": "stream",
     "text": [
      "[1] 95\n"
     ]
    },
    {
     "name": "stderr",
     "output_type": "stream",
     "text": [
      "Total out-of-frame clonotypes:\n"
     ]
    },
    {
     "name": "stdout",
     "output_type": "stream",
     "text": [
      "[1] 13\n"
     ]
    },
    {
     "name": "stderr",
     "output_type": "stream",
     "text": [
      "Total clonotypes with stop codon:\n"
     ]
    },
    {
     "name": "stdout",
     "output_type": "stream",
     "text": [
      "[1] 2\n"
     ]
    },
    {
     "name": "stderr",
     "output_type": "stream",
     "text": [
      "Total productive clonotypes:\n"
     ]
    },
    {
     "name": "stdout",
     "output_type": "stream",
     "text": [
      "[1] 80\n"
     ]
    },
    {
     "name": "stderr",
     "output_type": "stream",
     "text": [
      "Output contains all clonotypes\n",
      "list of samples to track clones: \n"
     ]
    },
    {
     "name": "stdout",
     "output_type": "stream",
     "text": [
      "[1] CHP_344-04-PBMC  CHP_344-04-cfDNA\n",
      "Levels: CHP_344-04-PBMC CHP_344-04-cfDNA\n"
     ]
    },
    {
     "name": "stderr",
     "output_type": "stream",
     "text": [
      "Total number of recurring clonotypes: \n"
     ]
    },
    {
     "name": "stdout",
     "output_type": "stream",
     "text": [
      "[1] 0\n"
     ]
    },
    {
     "name": "stderr",
     "output_type": "stream",
     "text": [
      "these are what we color: \n"
     ]
    },
    {
     "name": "stdout",
     "output_type": "stream",
     "text": [
      "named character(0)\n",
      "[1] \"CLONES_TRBCHP_344-05_cfDNA_2000000.txt\"\n"
     ]
    },
    {
     "name": "stderr",
     "output_type": "stream",
     "text": [
      "duplicated sequences:\n"
     ]
    },
    {
     "name": "stdout",
     "output_type": "stream",
     "text": [
      "[1] \"CASSQDKCSGGVLTDTQYF\" \"CASSVSPRLAGTSQFF\"    \"CASSLVPYEQYF\"       \n"
     ]
    },
    {
     "name": "stderr",
     "output_type": "stream",
     "text": [
      "my files:\n"
     ]
    },
    {
     "name": "stdout",
     "output_type": "stream",
     "text": [
      "[1] \"batch4/ds_batch4/CLONES_TRBCHP_344-05-PBMC-DNA_2000000.txt\"\n",
      "[2] \"batch3a9_cfDNA/CLONES_TRBCHP_344-05_cfDNA_2000000.txt\"     \n"
     ]
    },
    {
     "name": "stderr",
     "output_type": "stream",
     "text": [
      "Total recovered clonotypes:\n"
     ]
    },
    {
     "name": "stdout",
     "output_type": "stream",
     "text": [
      "[1] 134\n"
     ]
    },
    {
     "name": "stderr",
     "output_type": "stream",
     "text": [
      "Total out-of-frame clonotypes:\n"
     ]
    },
    {
     "name": "stdout",
     "output_type": "stream",
     "text": [
      "[1] 18\n"
     ]
    },
    {
     "name": "stderr",
     "output_type": "stream",
     "text": [
      "Total clonotypes with stop codon:\n"
     ]
    },
    {
     "name": "stdout",
     "output_type": "stream",
     "text": [
      "[1] 3\n"
     ]
    },
    {
     "name": "stderr",
     "output_type": "stream",
     "text": [
      "Total productive clonotypes:\n"
     ]
    },
    {
     "name": "stdout",
     "output_type": "stream",
     "text": [
      "[1] 113\n"
     ]
    },
    {
     "name": "stderr",
     "output_type": "stream",
     "text": [
      "Output contains all clonotypes\n",
      "list of samples to track clones: \n"
     ]
    },
    {
     "name": "stdout",
     "output_type": "stream",
     "text": [
      "[1] CHP_344-05-PBMC  CHP_344-05-cfDNA\n",
      "Levels: CHP_344-05-PBMC CHP_344-05-cfDNA\n"
     ]
    },
    {
     "name": "stderr",
     "output_type": "stream",
     "text": [
      "Total number of recurring clonotypes: \n"
     ]
    },
    {
     "name": "stdout",
     "output_type": "stream",
     "text": [
      "[1] 0\n"
     ]
    },
    {
     "name": "stderr",
     "output_type": "stream",
     "text": [
      "these are what we color: \n"
     ]
    },
    {
     "name": "stdout",
     "output_type": "stream",
     "text": [
      "named character(0)\n",
      "[1] \"CLONES_TRBCHP_345-02_cfDNA_2000000.txt\"\n"
     ]
    },
    {
     "name": "stderr",
     "output_type": "stream",
     "text": [
      "duplicated sequences:\n"
     ]
    },
    {
     "name": "stdout",
     "output_type": "stream",
     "text": [
      "[1] \"CASSQG_GLQQYF\"\n"
     ]
    },
    {
     "name": "stderr",
     "output_type": "stream",
     "text": [
      "my files:\n"
     ]
    },
    {
     "name": "stdout",
     "output_type": "stream",
     "text": [
      "[1] \"batch4/ds_batch4/CLONES_TRBCHP_345-02-PBMC-DNA_2000000.txt\"\n",
      "[2] \"batch5_cfDNA/CLONES_TRBCHP_345-02_cfDNA_2000000.txt\"       \n"
     ]
    },
    {
     "name": "stderr",
     "output_type": "stream",
     "text": [
      "Total recovered clonotypes:\n"
     ]
    },
    {
     "name": "stdout",
     "output_type": "stream",
     "text": [
      "[1] 184\n"
     ]
    },
    {
     "name": "stderr",
     "output_type": "stream",
     "text": [
      "Total out-of-frame clonotypes:\n"
     ]
    },
    {
     "name": "stdout",
     "output_type": "stream",
     "text": [
      "[1] 48\n"
     ]
    },
    {
     "name": "stderr",
     "output_type": "stream",
     "text": [
      "Total clonotypes with stop codon:\n"
     ]
    },
    {
     "name": "stdout",
     "output_type": "stream",
     "text": [
      "[1] 4\n"
     ]
    },
    {
     "name": "stderr",
     "output_type": "stream",
     "text": [
      "Total productive clonotypes:\n"
     ]
    },
    {
     "name": "stdout",
     "output_type": "stream",
     "text": [
      "[1] 132\n"
     ]
    },
    {
     "name": "stderr",
     "output_type": "stream",
     "text": [
      "Output contains all clonotypes\n",
      "list of samples to track clones: \n"
     ]
    },
    {
     "name": "stdout",
     "output_type": "stream",
     "text": [
      "[1] CHP_345-02-PBMC  CHP_345-02-cfDNA\n",
      "Levels: CHP_345-02-PBMC CHP_345-02-cfDNA\n"
     ]
    },
    {
     "name": "stderr",
     "output_type": "stream",
     "text": [
      "Total number of recurring clonotypes: \n"
     ]
    },
    {
     "name": "stdout",
     "output_type": "stream",
     "text": [
      "[1] 7\n"
     ]
    },
    {
     "name": "stderr",
     "output_type": "stream",
     "text": [
      "these are what we color: \n"
     ]
    },
    {
     "name": "stdout",
     "output_type": "stream",
     "text": [
      "          CASRHQPQHF      CASSQGLAGSYEQYF         CASTYNDNEQFF \n",
      "           \"#A4E366\"            \"#D9C586\"            \"#B3C1D7\" \n",
      "     CASSHLGQGHTEAFF CATSDLLA*L_REAVDTQYF        CASSFF_*GGYTF \n",
      "           \"#DD7382\"            \"#B285D1\"            \"#B84ADB\" \n",
      " CASFPDFGG_PPPTDTQYF \n",
      "           \"#87E0C6\" \n",
      "[1] \"CLONES_TRBCHP_347-01-cfDNA_2000000.txt\"\n"
     ]
    },
    {
     "name": "stderr",
     "output_type": "stream",
     "text": [
      "duplicated sequences:\n"
     ]
    },
    {
     "name": "stdout",
     "output_type": "stream",
     "text": [
      "character(0)\n"
     ]
    },
    {
     "name": "stderr",
     "output_type": "stream",
     "text": [
      "my files:\n"
     ]
    },
    {
     "name": "stdout",
     "output_type": "stream",
     "text": [
      "[1] \"batch4/ds_batch4/CLONES_TRBCHP_347-01-PBMC-DNA_2000000.txt\"\n",
      "[2] \"batch1_cfDNA/CLONES_TRBCHP_347-01-cfDNA_2000000.txt\"       \n"
     ]
    },
    {
     "name": "stderr",
     "output_type": "stream",
     "text": [
      "Total recovered clonotypes:\n"
     ]
    },
    {
     "name": "stdout",
     "output_type": "stream",
     "text": [
      "[1] 173\n"
     ]
    },
    {
     "name": "stderr",
     "output_type": "stream",
     "text": [
      "Total out-of-frame clonotypes:\n"
     ]
    },
    {
     "name": "stdout",
     "output_type": "stream",
     "text": [
      "[1] 36\n"
     ]
    },
    {
     "name": "stderr",
     "output_type": "stream",
     "text": [
      "Total clonotypes with stop codon:\n"
     ]
    },
    {
     "name": "stdout",
     "output_type": "stream",
     "text": [
      "[1] 1\n"
     ]
    },
    {
     "name": "stderr",
     "output_type": "stream",
     "text": [
      "Total productive clonotypes:\n"
     ]
    },
    {
     "name": "stdout",
     "output_type": "stream",
     "text": [
      "[1] 136\n"
     ]
    },
    {
     "name": "stderr",
     "output_type": "stream",
     "text": [
      "Output contains all clonotypes\n",
      "list of samples to track clones: \n"
     ]
    },
    {
     "name": "stdout",
     "output_type": "stream",
     "text": [
      "[1] CHP_347-01-PBMC  CHP_347-01-cfDNA\n",
      "Levels: CHP_347-01-PBMC CHP_347-01-cfDNA\n"
     ]
    },
    {
     "name": "stderr",
     "output_type": "stream",
     "text": [
      "Total number of recurring clonotypes: \n"
     ]
    },
    {
     "name": "stdout",
     "output_type": "stream",
     "text": [
      "[1] 0\n"
     ]
    },
    {
     "name": "stderr",
     "output_type": "stream",
     "text": [
      "these are what we color: \n"
     ]
    },
    {
     "name": "stdout",
     "output_type": "stream",
     "text": [
      "named character(0)\n",
      "[1] \"CLONES_TRBCHP_347-02_cfDNA_2000000.txt\"\n"
     ]
    },
    {
     "name": "stderr",
     "output_type": "stream",
     "text": [
      "duplicated sequences:\n"
     ]
    },
    {
     "name": "stdout",
     "output_type": "stream",
     "text": [
      "[1] \"CASSLPRGPSSYNEQFF\"\n"
     ]
    },
    {
     "name": "stderr",
     "output_type": "stream",
     "text": [
      "my files:\n"
     ]
    },
    {
     "name": "stdout",
     "output_type": "stream",
     "text": [
      "[1] \"batch4/ds_batch4/CLONES_TRBCHP_347-02-PBMC-DNA_2000000.txt\"\n",
      "[2] \"batch5_cfDNA/CLONES_TRBCHP_347-02_cfDNA_2000000.txt\"       \n"
     ]
    },
    {
     "name": "stderr",
     "output_type": "stream",
     "text": [
      "Total recovered clonotypes:\n"
     ]
    },
    {
     "name": "stdout",
     "output_type": "stream",
     "text": [
      "[1] 380\n"
     ]
    },
    {
     "name": "stderr",
     "output_type": "stream",
     "text": [
      "Total out-of-frame clonotypes:\n"
     ]
    },
    {
     "name": "stdout",
     "output_type": "stream",
     "text": [
      "[1] 68\n"
     ]
    },
    {
     "name": "stderr",
     "output_type": "stream",
     "text": [
      "Total clonotypes with stop codon:\n"
     ]
    },
    {
     "name": "stdout",
     "output_type": "stream",
     "text": [
      "[1] 8\n"
     ]
    },
    {
     "name": "stderr",
     "output_type": "stream",
     "text": [
      "Total productive clonotypes:\n"
     ]
    },
    {
     "name": "stdout",
     "output_type": "stream",
     "text": [
      "[1] 304\n"
     ]
    },
    {
     "name": "stderr",
     "output_type": "stream",
     "text": [
      "Output contains all clonotypes\n",
      "list of samples to track clones: \n"
     ]
    },
    {
     "name": "stdout",
     "output_type": "stream",
     "text": [
      "[1] CHP_347-02-PBMC  CHP_347-02-cfDNA\n",
      "Levels: CHP_347-02-PBMC CHP_347-02-cfDNA\n"
     ]
    },
    {
     "name": "stderr",
     "output_type": "stream",
     "text": [
      "Total number of recurring clonotypes: \n"
     ]
    },
    {
     "name": "stdout",
     "output_type": "stream",
     "text": [
      "[1] 0\n"
     ]
    },
    {
     "name": "stderr",
     "output_type": "stream",
     "text": [
      "these are what we color: \n"
     ]
    },
    {
     "name": "stdout",
     "output_type": "stream",
     "text": [
      "named character(0)\n",
      "[1] \"CLONES_TRBCHP_347-04_cfDNA_2000000.txt\"\n"
     ]
    },
    {
     "name": "stderr",
     "output_type": "stream",
     "text": [
      "duplicated sequences:\n"
     ]
    },
    {
     "name": "stdout",
     "output_type": "stream",
     "text": [
      "character(0)\n"
     ]
    },
    {
     "name": "stderr",
     "output_type": "stream",
     "text": [
      "my files:\n"
     ]
    },
    {
     "name": "stdout",
     "output_type": "stream",
     "text": [
      "[1] \"batch6a/ds_batch6a/CLONES_TRBCHP_347-04-PBMC-DNA_2000000.txt\"\n",
      "[2] \"batch10_cfDNA/CLONES_TRBCHP_347-04_cfDNA_2000000.txt\"        \n"
     ]
    },
    {
     "name": "stderr",
     "output_type": "stream",
     "text": [
      "Total recovered clonotypes:\n"
     ]
    },
    {
     "name": "stdout",
     "output_type": "stream",
     "text": [
      "[1] 78\n"
     ]
    },
    {
     "name": "stderr",
     "output_type": "stream",
     "text": [
      "Total out-of-frame clonotypes:\n"
     ]
    },
    {
     "name": "stdout",
     "output_type": "stream",
     "text": [
      "[1] 9\n"
     ]
    },
    {
     "name": "stderr",
     "output_type": "stream",
     "text": [
      "Total clonotypes with stop codon:\n"
     ]
    },
    {
     "name": "stdout",
     "output_type": "stream",
     "text": [
      "[1] 1\n"
     ]
    },
    {
     "name": "stderr",
     "output_type": "stream",
     "text": [
      "Total productive clonotypes:\n"
     ]
    },
    {
     "name": "stdout",
     "output_type": "stream",
     "text": [
      "[1] 68\n"
     ]
    },
    {
     "name": "stderr",
     "output_type": "stream",
     "text": [
      "Output contains all clonotypes\n",
      "list of samples to track clones: \n"
     ]
    },
    {
     "name": "stdout",
     "output_type": "stream",
     "text": [
      "[1] CHP_347-04-PBMC  CHP_347-04-cfDNA\n",
      "Levels: CHP_347-04-PBMC CHP_347-04-cfDNA\n"
     ]
    },
    {
     "name": "stderr",
     "output_type": "stream",
     "text": [
      "Total number of recurring clonotypes: \n"
     ]
    },
    {
     "name": "stdout",
     "output_type": "stream",
     "text": [
      "[1] 0\n"
     ]
    },
    {
     "name": "stderr",
     "output_type": "stream",
     "text": [
      "these are what we color: \n"
     ]
    },
    {
     "name": "stdout",
     "output_type": "stream",
     "text": [
      "named character(0)\n",
      "[1] \"CLONES_TRBCHP_351-04_cfDNA_2000000.txt\"\n"
     ]
    },
    {
     "name": "stderr",
     "output_type": "stream",
     "text": [
      "duplicated sequences:\n"
     ]
    },
    {
     "name": "stdout",
     "output_type": "stream",
     "text": [
      "[1] \"CASKRWTGGQTEAFF\"\n"
     ]
    },
    {
     "name": "stderr",
     "output_type": "stream",
     "text": [
      "my files:\n"
     ]
    },
    {
     "name": "stdout",
     "output_type": "stream",
     "text": [
      "[1] \"batch7/ds_batch7/CLONES_TRBCHP_351-04-PBMC-DNA_2000000.txt\"\n",
      "[2] \"batch10_cfDNA/CLONES_TRBCHP_351-04_cfDNA_2000000.txt\"      \n"
     ]
    },
    {
     "name": "stderr",
     "output_type": "stream",
     "text": [
      "Total recovered clonotypes:\n"
     ]
    },
    {
     "name": "stdout",
     "output_type": "stream",
     "text": [
      "[1] 119\n"
     ]
    },
    {
     "name": "stderr",
     "output_type": "stream",
     "text": [
      "Total out-of-frame clonotypes:\n"
     ]
    },
    {
     "name": "stdout",
     "output_type": "stream",
     "text": [
      "[1] 32\n"
     ]
    },
    {
     "name": "stderr",
     "output_type": "stream",
     "text": [
      "Total clonotypes with stop codon:\n"
     ]
    },
    {
     "name": "stdout",
     "output_type": "stream",
     "text": [
      "[1] 3\n"
     ]
    },
    {
     "name": "stderr",
     "output_type": "stream",
     "text": [
      "Total productive clonotypes:\n"
     ]
    },
    {
     "name": "stdout",
     "output_type": "stream",
     "text": [
      "[1] 84\n"
     ]
    },
    {
     "name": "stderr",
     "output_type": "stream",
     "text": [
      "Output contains all clonotypes\n",
      "list of samples to track clones: \n"
     ]
    },
    {
     "name": "stdout",
     "output_type": "stream",
     "text": [
      "[1] CHP_351-04-PBMC  CHP_351-04-cfDNA\n",
      "Levels: CHP_351-04-PBMC CHP_351-04-cfDNA\n"
     ]
    },
    {
     "name": "stderr",
     "output_type": "stream",
     "text": [
      "Total number of recurring clonotypes: \n"
     ]
    },
    {
     "name": "stdout",
     "output_type": "stream",
     "text": [
      "[1] 0\n"
     ]
    },
    {
     "name": "stderr",
     "output_type": "stream",
     "text": [
      "these are what we color: \n"
     ]
    },
    {
     "name": "stdout",
     "output_type": "stream",
     "text": [
      "named character(0)\n",
      "[1] \"CLONES_TRBCHP_353-01-cfDNA_2000000.txt\"\n"
     ]
    },
    {
     "name": "stderr",
     "output_type": "stream",
     "text": [
      "duplicated sequences:\n"
     ]
    },
    {
     "name": "stdout",
     "output_type": "stream",
     "text": [
      "[1] \"CASSPAVNTIYF\"\n"
     ]
    },
    {
     "name": "stderr",
     "output_type": "stream",
     "text": [
      "my files:\n"
     ]
    },
    {
     "name": "stdout",
     "output_type": "stream",
     "text": [
      "[1] \"batch7/ds_batch7/CLONES_TRBCHP_353-01-PBMC-DNA_2000000.txt\"\n",
      "[2] \"batch1_cfDNA/CLONES_TRBCHP_353-01-cfDNA_2000000.txt\"       \n"
     ]
    },
    {
     "name": "stderr",
     "output_type": "stream",
     "text": [
      "Total recovered clonotypes:\n"
     ]
    },
    {
     "name": "stdout",
     "output_type": "stream",
     "text": [
      "[1] 262\n"
     ]
    },
    {
     "name": "stderr",
     "output_type": "stream",
     "text": [
      "Total out-of-frame clonotypes:\n"
     ]
    },
    {
     "name": "stdout",
     "output_type": "stream",
     "text": [
      "[1] 49\n"
     ]
    },
    {
     "name": "stderr",
     "output_type": "stream",
     "text": [
      "Total clonotypes with stop codon:\n"
     ]
    },
    {
     "name": "stdout",
     "output_type": "stream",
     "text": [
      "[1] 2\n"
     ]
    },
    {
     "name": "stderr",
     "output_type": "stream",
     "text": [
      "Total productive clonotypes:\n"
     ]
    },
    {
     "name": "stdout",
     "output_type": "stream",
     "text": [
      "[1] 211\n"
     ]
    },
    {
     "name": "stderr",
     "output_type": "stream",
     "text": [
      "Output contains all clonotypes\n",
      "list of samples to track clones: \n"
     ]
    },
    {
     "name": "stdout",
     "output_type": "stream",
     "text": [
      "[1] CHP_353-01-PBMC  CHP_353-01-cfDNA\n",
      "Levels: CHP_353-01-PBMC CHP_353-01-cfDNA\n"
     ]
    },
    {
     "name": "stderr",
     "output_type": "stream",
     "text": [
      "Total number of recurring clonotypes: \n"
     ]
    },
    {
     "name": "stdout",
     "output_type": "stream",
     "text": [
      "[1] 0\n"
     ]
    },
    {
     "name": "stderr",
     "output_type": "stream",
     "text": [
      "these are what we color: \n"
     ]
    },
    {
     "name": "stdout",
     "output_type": "stream",
     "text": [
      "named character(0)\n",
      "[1] \"CLONES_TRBCHP_353-02_cfDNA_2000000.txt\"\n"
     ]
    },
    {
     "name": "stderr",
     "output_type": "stream",
     "text": [
      "duplicated sequences:\n"
     ]
    },
    {
     "name": "stdout",
     "output_type": "stream",
     "text": [
      "[1] \"CASSEAGAGELFF\"\n"
     ]
    },
    {
     "name": "stderr",
     "output_type": "stream",
     "text": [
      "my files:\n"
     ]
    },
    {
     "name": "stdout",
     "output_type": "stream",
     "text": [
      "[1] \"batch_reseq/ds_batch_reseq/CLONES_TRBCHP_353-02-PBMC-DNA_2000000.txt\"\n",
      "[2] \"batch3a9_cfDNA/CLONES_TRBCHP_353-02_cfDNA_2000000.txt\"               \n"
     ]
    },
    {
     "name": "stderr",
     "output_type": "stream",
     "text": [
      "Total recovered clonotypes:\n"
     ]
    },
    {
     "name": "stdout",
     "output_type": "stream",
     "text": [
      "[1] 49\n"
     ]
    },
    {
     "name": "stderr",
     "output_type": "stream",
     "text": [
      "Total out-of-frame clonotypes:\n"
     ]
    },
    {
     "name": "stdout",
     "output_type": "stream",
     "text": [
      "[1] 8\n"
     ]
    },
    {
     "name": "stderr",
     "output_type": "stream",
     "text": [
      "Total clonotypes with stop codon:\n"
     ]
    },
    {
     "name": "stdout",
     "output_type": "stream",
     "text": [
      "[1] 3\n"
     ]
    },
    {
     "name": "stderr",
     "output_type": "stream",
     "text": [
      "Total productive clonotypes:\n"
     ]
    },
    {
     "name": "stdout",
     "output_type": "stream",
     "text": [
      "[1] 38\n"
     ]
    },
    {
     "name": "stderr",
     "output_type": "stream",
     "text": [
      "Output contains all clonotypes\n",
      "list of samples to track clones: \n"
     ]
    },
    {
     "name": "stdout",
     "output_type": "stream",
     "text": [
      "[1] CHP_353-02-PBMC  CHP_353-02-cfDNA\n",
      "Levels: CHP_353-02-PBMC CHP_353-02-cfDNA\n"
     ]
    },
    {
     "name": "stderr",
     "output_type": "stream",
     "text": [
      "Total number of recurring clonotypes: \n"
     ]
    },
    {
     "name": "stdout",
     "output_type": "stream",
     "text": [
      "[1] 0\n"
     ]
    },
    {
     "name": "stderr",
     "output_type": "stream",
     "text": [
      "these are what we color: \n"
     ]
    },
    {
     "name": "stdout",
     "output_type": "stream",
     "text": [
      "named character(0)\n",
      "[1] \"CLONES_TRBCHP_353-05_cfDNA_2000000.txt\"\n"
     ]
    },
    {
     "name": "stderr",
     "output_type": "stream",
     "text": [
      "duplicated sequences:\n"
     ]
    },
    {
     "name": "stdout",
     "output_type": "stream",
     "text": [
      "[1] \"CASSVGGNSNQPQHF\"  \"CASSEWGG_LQETQYF\" \"CASSSRGQGDNEQFF\" \n"
     ]
    },
    {
     "name": "stderr",
     "output_type": "stream",
     "text": [
      "my files:\n"
     ]
    },
    {
     "name": "stdout",
     "output_type": "stream",
     "text": [
      "[1] \"batch7/ds_batch7/CLONES_TRBCHP_353-05-PBMC-DNA_2000000.txt\"\n",
      "[2] \"batch10_cfDNA/CLONES_TRBCHP_353-05_cfDNA_2000000.txt\"      \n"
     ]
    },
    {
     "name": "stderr",
     "output_type": "stream",
     "text": [
      "Total recovered clonotypes:\n"
     ]
    },
    {
     "name": "stdout",
     "output_type": "stream",
     "text": [
      "[1] 442\n"
     ]
    },
    {
     "name": "stderr",
     "output_type": "stream",
     "text": [
      "Total out-of-frame clonotypes:\n"
     ]
    },
    {
     "name": "stdout",
     "output_type": "stream",
     "text": [
      "[1] 73\n"
     ]
    },
    {
     "name": "stderr",
     "output_type": "stream",
     "text": [
      "Total clonotypes with stop codon:\n"
     ]
    },
    {
     "name": "stdout",
     "output_type": "stream",
     "text": [
      "[1] 6\n"
     ]
    },
    {
     "name": "stderr",
     "output_type": "stream",
     "text": [
      "Total productive clonotypes:\n"
     ]
    },
    {
     "name": "stdout",
     "output_type": "stream",
     "text": [
      "[1] 363\n"
     ]
    },
    {
     "name": "stderr",
     "output_type": "stream",
     "text": [
      "Output contains all clonotypes\n",
      "list of samples to track clones: \n"
     ]
    },
    {
     "name": "stdout",
     "output_type": "stream",
     "text": [
      "[1] CHP_353-05-PBMC  CHP_353-05-cfDNA\n",
      "Levels: CHP_353-05-PBMC CHP_353-05-cfDNA\n"
     ]
    },
    {
     "name": "stderr",
     "output_type": "stream",
     "text": [
      "Total number of recurring clonotypes: \n"
     ]
    },
    {
     "name": "stdout",
     "output_type": "stream",
     "text": [
      "[1] 2\n"
     ]
    },
    {
     "name": "stderr",
     "output_type": "stream",
     "text": [
      "these are what we color: \n"
     ]
    },
    {
     "name": "stdout",
     "output_type": "stream",
     "text": [
      "   CASSLRGNEAFF CASSPGGNSNQPQHF \n",
      "      \"#B6D4A1\"       \"#BD81C8\" \n",
      "[1] \"CLONES_TRBCHP_355-01-cfDNA_2000000.txt\"\n"
     ]
    },
    {
     "name": "stderr",
     "output_type": "stream",
     "text": [
      "duplicated sequences:\n"
     ]
    },
    {
     "name": "stdout",
     "output_type": "stream",
     "text": [
      "character(0)\n"
     ]
    },
    {
     "name": "stderr",
     "output_type": "stream",
     "text": [
      "my files:\n"
     ]
    },
    {
     "name": "stdout",
     "output_type": "stream",
     "text": [
      "[1] \"batch4/ds_batch4/CLONES_TRBCHP_355-01-PBMC-DNA_2000000.txt\"\n",
      "[2] \"batch1_cfDNA/CLONES_TRBCHP_355-01-cfDNA_2000000.txt\"       \n"
     ]
    },
    {
     "name": "stderr",
     "output_type": "stream",
     "text": [
      "Total recovered clonotypes:\n"
     ]
    },
    {
     "name": "stdout",
     "output_type": "stream",
     "text": [
      "[1] 19\n"
     ]
    },
    {
     "name": "stderr",
     "output_type": "stream",
     "text": [
      "Total out-of-frame clonotypes:\n"
     ]
    },
    {
     "name": "stdout",
     "output_type": "stream",
     "text": [
      "[1] 2\n"
     ]
    },
    {
     "name": "stderr",
     "output_type": "stream",
     "text": [
      "Total clonotypes with stop codon:\n"
     ]
    },
    {
     "name": "stdout",
     "output_type": "stream",
     "text": [
      "[1] 2\n"
     ]
    },
    {
     "name": "stderr",
     "output_type": "stream",
     "text": [
      "Total productive clonotypes:\n"
     ]
    },
    {
     "name": "stdout",
     "output_type": "stream",
     "text": [
      "[1] 15\n"
     ]
    },
    {
     "name": "stderr",
     "output_type": "stream",
     "text": [
      "Output contains all clonotypes\n",
      "list of samples to track clones: \n"
     ]
    },
    {
     "name": "stdout",
     "output_type": "stream",
     "text": [
      "[1] CHP_355-01-PBMC  CHP_355-01-cfDNA\n",
      "Levels: CHP_355-01-PBMC CHP_355-01-cfDNA\n"
     ]
    },
    {
     "name": "stderr",
     "output_type": "stream",
     "text": [
      "Total number of recurring clonotypes: \n"
     ]
    },
    {
     "name": "stdout",
     "output_type": "stream",
     "text": [
      "[1] 0\n"
     ]
    },
    {
     "name": "stderr",
     "output_type": "stream",
     "text": [
      "these are what we color: \n"
     ]
    },
    {
     "name": "stdout",
     "output_type": "stream",
     "text": [
      "named character(0)\n",
      "[1] \"CLONES_TRBCHP_356-02-cfDNA_2000000.txt\"\n"
     ]
    },
    {
     "name": "stderr",
     "output_type": "stream",
     "text": [
      "duplicated sequences:\n"
     ]
    },
    {
     "name": "stdout",
     "output_type": "stream",
     "text": [
      "character(0)\n"
     ]
    },
    {
     "name": "stderr",
     "output_type": "stream",
     "text": [
      "my files:\n"
     ]
    },
    {
     "name": "stdout",
     "output_type": "stream",
     "text": [
      "[1] \"batch8/ds_batch8/CLONES_TRBCHP_356-02-PBMC-DNA_2000000.txt\"\n",
      "[2] \"batch1_cfDNA/CLONES_TRBCHP_356-02-cfDNA_2000000.txt\"       \n"
     ]
    },
    {
     "name": "stderr",
     "output_type": "stream",
     "text": [
      "Total recovered clonotypes:\n"
     ]
    },
    {
     "name": "stdout",
     "output_type": "stream",
     "text": [
      "[1] 115\n"
     ]
    },
    {
     "name": "stderr",
     "output_type": "stream",
     "text": [
      "Total out-of-frame clonotypes:\n"
     ]
    },
    {
     "name": "stdout",
     "output_type": "stream",
     "text": [
      "[1] 21\n"
     ]
    },
    {
     "name": "stderr",
     "output_type": "stream",
     "text": [
      "Total clonotypes with stop codon:\n"
     ]
    },
    {
     "name": "stdout",
     "output_type": "stream",
     "text": [
      "[1] 3\n"
     ]
    },
    {
     "name": "stderr",
     "output_type": "stream",
     "text": [
      "Total productive clonotypes:\n"
     ]
    },
    {
     "name": "stdout",
     "output_type": "stream",
     "text": [
      "[1] 91\n"
     ]
    },
    {
     "name": "stderr",
     "output_type": "stream",
     "text": [
      "Output contains all clonotypes\n",
      "list of samples to track clones: \n"
     ]
    },
    {
     "name": "stdout",
     "output_type": "stream",
     "text": [
      "[1] CHP_356-02-PBMC  CHP_356-02-cfDNA\n",
      "Levels: CHP_356-02-PBMC CHP_356-02-cfDNA\n"
     ]
    },
    {
     "name": "stderr",
     "output_type": "stream",
     "text": [
      "Total number of recurring clonotypes: \n"
     ]
    },
    {
     "name": "stdout",
     "output_type": "stream",
     "text": [
      "[1] 0\n"
     ]
    },
    {
     "name": "stderr",
     "output_type": "stream",
     "text": [
      "these are what we color: \n"
     ]
    },
    {
     "name": "stdout",
     "output_type": "stream",
     "text": [
      "named character(0)\n",
      "[1] \"CLONES_TRBCHP_357-01_cfDNA_2000000.txt\"\n"
     ]
    },
    {
     "name": "stderr",
     "output_type": "stream",
     "text": [
      "duplicated sequences:\n"
     ]
    },
    {
     "name": "stdout",
     "output_type": "stream",
     "text": [
      "[1] \"CASSHLTVGGGYEQYF\" \"CASSARQ_QGSPLHF\"  \"CSPSQTSGDNEQFF\"  \n"
     ]
    },
    {
     "name": "stderr",
     "output_type": "stream",
     "text": [
      "my files:\n"
     ]
    },
    {
     "name": "stdout",
     "output_type": "stream",
     "text": [
      "[1] \"batch4/ds_batch4/CLONES_TRBCHP_357-01-PBMC-DNA_2000000.txt\"\n",
      "[2] \"batch3a9_cfDNA/CLONES_TRBCHP_357-01_cfDNA_2000000.txt\"     \n"
     ]
    },
    {
     "name": "stderr",
     "output_type": "stream",
     "text": [
      "Total recovered clonotypes:\n"
     ]
    },
    {
     "name": "stdout",
     "output_type": "stream",
     "text": [
      "[1] 337\n"
     ]
    },
    {
     "name": "stderr",
     "output_type": "stream",
     "text": [
      "Total out-of-frame clonotypes:\n"
     ]
    },
    {
     "name": "stdout",
     "output_type": "stream",
     "text": [
      "[1] 86\n"
     ]
    },
    {
     "name": "stderr",
     "output_type": "stream",
     "text": [
      "Total clonotypes with stop codon:\n"
     ]
    },
    {
     "name": "stdout",
     "output_type": "stream",
     "text": [
      "[1] 8\n"
     ]
    },
    {
     "name": "stderr",
     "output_type": "stream",
     "text": [
      "Total productive clonotypes:\n"
     ]
    },
    {
     "name": "stdout",
     "output_type": "stream",
     "text": [
      "[1] 243\n"
     ]
    },
    {
     "name": "stderr",
     "output_type": "stream",
     "text": [
      "Output contains all clonotypes\n",
      "list of samples to track clones: \n"
     ]
    },
    {
     "name": "stdout",
     "output_type": "stream",
     "text": [
      "[1] CHP_357-01-PBMC  CHP_357-01-cfDNA\n",
      "Levels: CHP_357-01-PBMC CHP_357-01-cfDNA\n"
     ]
    },
    {
     "name": "stderr",
     "output_type": "stream",
     "text": [
      "Total number of recurring clonotypes: \n"
     ]
    },
    {
     "name": "stdout",
     "output_type": "stream",
     "text": [
      "[1] 0\n"
     ]
    },
    {
     "name": "stderr",
     "output_type": "stream",
     "text": [
      "these are what we color: \n"
     ]
    },
    {
     "name": "stdout",
     "output_type": "stream",
     "text": [
      "named character(0)\n",
      "[1] \"CLONES_TRBCHP_357-03-cfDNA_2000000.txt\"\n"
     ]
    },
    {
     "name": "stderr",
     "output_type": "stream",
     "text": [
      "duplicated sequences:\n"
     ]
    },
    {
     "name": "stdout",
     "output_type": "stream",
     "text": [
      "character(0)\n"
     ]
    },
    {
     "name": "stderr",
     "output_type": "stream",
     "text": [
      "my files:\n"
     ]
    },
    {
     "name": "stdout",
     "output_type": "stream",
     "text": [
      "[1] \"batch6a/ds_batch6a/CLONES_TRBCHP_357-03-PBMC-DNA_2000000.txt\"\n",
      "[2] \"batch1_cfDNA/CLONES_TRBCHP_357-03-cfDNA_2000000.txt\"         \n"
     ]
    },
    {
     "name": "stderr",
     "output_type": "stream",
     "text": [
      "Total recovered clonotypes:\n"
     ]
    },
    {
     "name": "stdout",
     "output_type": "stream",
     "text": [
      "[1] 115\n"
     ]
    },
    {
     "name": "stderr",
     "output_type": "stream",
     "text": [
      "Total out-of-frame clonotypes:\n"
     ]
    },
    {
     "name": "stdout",
     "output_type": "stream",
     "text": [
      "[1] 30\n"
     ]
    },
    {
     "name": "stderr",
     "output_type": "stream",
     "text": [
      "Total clonotypes with stop codon:\n"
     ]
    },
    {
     "name": "stdout",
     "output_type": "stream",
     "text": [
      "[1] 6\n"
     ]
    },
    {
     "name": "stderr",
     "output_type": "stream",
     "text": [
      "Total productive clonotypes:\n"
     ]
    },
    {
     "name": "stdout",
     "output_type": "stream",
     "text": [
      "[1] 79\n"
     ]
    },
    {
     "name": "stderr",
     "output_type": "stream",
     "text": [
      "Output contains all clonotypes\n",
      "list of samples to track clones: \n"
     ]
    },
    {
     "name": "stdout",
     "output_type": "stream",
     "text": [
      "[1] CHP_357-03-PBMC  CHP_357-03-cfDNA\n",
      "Levels: CHP_357-03-PBMC CHP_357-03-cfDNA\n"
     ]
    },
    {
     "name": "stderr",
     "output_type": "stream",
     "text": [
      "Total number of recurring clonotypes: \n"
     ]
    },
    {
     "name": "stdout",
     "output_type": "stream",
     "text": [
      "[1] 0\n"
     ]
    },
    {
     "name": "stderr",
     "output_type": "stream",
     "text": [
      "these are what we color: \n"
     ]
    },
    {
     "name": "stdout",
     "output_type": "stream",
     "text": [
      "named character(0)\n",
      "[1] \"CLONES_TRBCHP_357-04_cfDNA_2000000.txt\"\n"
     ]
    },
    {
     "name": "stderr",
     "output_type": "stream",
     "text": [
      "duplicated sequences:\n"
     ]
    },
    {
     "name": "stdout",
     "output_type": "stream",
     "text": [
      "character(0)\n"
     ]
    },
    {
     "name": "stderr",
     "output_type": "stream",
     "text": [
      "my files:\n"
     ]
    },
    {
     "name": "stdout",
     "output_type": "stream",
     "text": [
      "[1] \"batch7/ds_batch7/CLONES_TRBCHP_357-04-PBMC-DNA_2000000.txt\"\n",
      "[2] \"batch3a9_cfDNA/CLONES_TRBCHP_357-04_cfDNA_2000000.txt\"     \n"
     ]
    },
    {
     "name": "stderr",
     "output_type": "stream",
     "text": [
      "Total recovered clonotypes:\n"
     ]
    },
    {
     "name": "stdout",
     "output_type": "stream",
     "text": [
      "[1] 85\n"
     ]
    },
    {
     "name": "stderr",
     "output_type": "stream",
     "text": [
      "Total out-of-frame clonotypes:\n"
     ]
    },
    {
     "name": "stdout",
     "output_type": "stream",
     "text": [
      "[1] 20\n"
     ]
    },
    {
     "name": "stderr",
     "output_type": "stream",
     "text": [
      "Total clonotypes with stop codon:\n"
     ]
    },
    {
     "name": "stdout",
     "output_type": "stream",
     "text": [
      "[1] 3\n"
     ]
    },
    {
     "name": "stderr",
     "output_type": "stream",
     "text": [
      "Total productive clonotypes:\n"
     ]
    },
    {
     "name": "stdout",
     "output_type": "stream",
     "text": [
      "[1] 62\n"
     ]
    },
    {
     "name": "stderr",
     "output_type": "stream",
     "text": [
      "Output contains all clonotypes\n",
      "list of samples to track clones: \n"
     ]
    },
    {
     "name": "stdout",
     "output_type": "stream",
     "text": [
      "[1] CHP_357-04-PBMC  CHP_357-04-cfDNA\n",
      "Levels: CHP_357-04-PBMC CHP_357-04-cfDNA\n"
     ]
    },
    {
     "name": "stderr",
     "output_type": "stream",
     "text": [
      "Total number of recurring clonotypes: \n"
     ]
    },
    {
     "name": "stdout",
     "output_type": "stream",
     "text": [
      "[1] 0\n"
     ]
    },
    {
     "name": "stderr",
     "output_type": "stream",
     "text": [
      "these are what we color: \n"
     ]
    },
    {
     "name": "stdout",
     "output_type": "stream",
     "text": [
      "named character(0)\n",
      "[1] \"CLONES_TRBCHP_358-01_cfDNA_2000000.txt\"\n"
     ]
    },
    {
     "name": "stderr",
     "output_type": "stream",
     "text": [
      "duplicated sequences:\n"
     ]
    },
    {
     "name": "stdout",
     "output_type": "stream",
     "text": [
      "character(0)\n"
     ]
    },
    {
     "name": "stderr",
     "output_type": "stream",
     "text": [
      "my files:\n"
     ]
    },
    {
     "name": "stdout",
     "output_type": "stream",
     "text": [
      "[1] \"batch1/ds_batch1/CLONES_TRBCHP_358-01-PBMC-DNA_2000000.txt\"\n",
      "[2] \"batch3a9_cfDNA/CLONES_TRBCHP_358-01_cfDNA_2000000.txt\"     \n"
     ]
    },
    {
     "name": "stderr",
     "output_type": "stream",
     "text": [
      "Total recovered clonotypes:\n"
     ]
    },
    {
     "name": "stdout",
     "output_type": "stream",
     "text": [
      "[1] 95\n"
     ]
    },
    {
     "name": "stderr",
     "output_type": "stream",
     "text": [
      "Total out-of-frame clonotypes:\n"
     ]
    },
    {
     "name": "stdout",
     "output_type": "stream",
     "text": [
      "[1] 21\n"
     ]
    },
    {
     "name": "stderr",
     "output_type": "stream",
     "text": [
      "Total clonotypes with stop codon:\n"
     ]
    },
    {
     "name": "stdout",
     "output_type": "stream",
     "text": [
      "[1] 0\n"
     ]
    },
    {
     "name": "stderr",
     "output_type": "stream",
     "text": [
      "Total productive clonotypes:\n"
     ]
    },
    {
     "name": "stdout",
     "output_type": "stream",
     "text": [
      "[1] 74\n"
     ]
    },
    {
     "name": "stderr",
     "output_type": "stream",
     "text": [
      "Output contains all clonotypes\n",
      "list of samples to track clones: \n"
     ]
    },
    {
     "name": "stdout",
     "output_type": "stream",
     "text": [
      "[1] CHP_358-01-PBMC  CHP_358-01-cfDNA\n",
      "Levels: CHP_358-01-PBMC CHP_358-01-cfDNA\n"
     ]
    },
    {
     "name": "stderr",
     "output_type": "stream",
     "text": [
      "Total number of recurring clonotypes: \n"
     ]
    },
    {
     "name": "stdout",
     "output_type": "stream",
     "text": [
      "[1] 0\n"
     ]
    },
    {
     "name": "stderr",
     "output_type": "stream",
     "text": [
      "these are what we color: \n"
     ]
    },
    {
     "name": "stdout",
     "output_type": "stream",
     "text": [
      "named character(0)\n",
      "[1] \"CLONES_TRBCHP_358-02_cfDNA_2000000.txt\"\n"
     ]
    },
    {
     "name": "stderr",
     "output_type": "stream",
     "text": [
      "duplicated sequences:\n"
     ]
    },
    {
     "name": "stdout",
     "output_type": "stream",
     "text": [
      "character(0)\n"
     ]
    },
    {
     "name": "stderr",
     "output_type": "stream",
     "text": [
      "my files:\n"
     ]
    },
    {
     "name": "stdout",
     "output_type": "stream",
     "text": [
      "[1] \"batch_reseq/ds_batch_reseq/CLONES_TRBCHP_358-02-PBMC-DNA_2000000.txt\"\n",
      "[2] \"batch10_cfDNA/CLONES_TRBCHP_358-02_cfDNA_2000000.txt\"                \n"
     ]
    },
    {
     "name": "stderr",
     "output_type": "stream",
     "text": [
      "Total recovered clonotypes:\n"
     ]
    },
    {
     "name": "stdout",
     "output_type": "stream",
     "text": [
      "[1] 95\n"
     ]
    },
    {
     "name": "stderr",
     "output_type": "stream",
     "text": [
      "Total out-of-frame clonotypes:\n"
     ]
    },
    {
     "name": "stdout",
     "output_type": "stream",
     "text": [
      "[1] 17\n"
     ]
    },
    {
     "name": "stderr",
     "output_type": "stream",
     "text": [
      "Total clonotypes with stop codon:\n"
     ]
    },
    {
     "name": "stdout",
     "output_type": "stream",
     "text": [
      "[1] 0\n"
     ]
    },
    {
     "name": "stderr",
     "output_type": "stream",
     "text": [
      "Total productive clonotypes:\n"
     ]
    },
    {
     "name": "stdout",
     "output_type": "stream",
     "text": [
      "[1] 78\n"
     ]
    },
    {
     "name": "stderr",
     "output_type": "stream",
     "text": [
      "Output contains all clonotypes\n",
      "list of samples to track clones: \n"
     ]
    },
    {
     "name": "stdout",
     "output_type": "stream",
     "text": [
      "[1] CHP_358-02-PBMC  CHP_358-02-cfDNA\n",
      "Levels: CHP_358-02-PBMC CHP_358-02-cfDNA\n"
     ]
    },
    {
     "name": "stderr",
     "output_type": "stream",
     "text": [
      "Total number of recurring clonotypes: \n"
     ]
    },
    {
     "name": "stdout",
     "output_type": "stream",
     "text": [
      "[1] 0\n"
     ]
    },
    {
     "name": "stderr",
     "output_type": "stream",
     "text": [
      "these are what we color: \n"
     ]
    },
    {
     "name": "stdout",
     "output_type": "stream",
     "text": [
      "named character(0)\n",
      "[1] \"CLONES_TRBCHP_358-03_cfDNA_2000000.txt\"\n"
     ]
    },
    {
     "name": "stderr",
     "output_type": "stream",
     "text": [
      "duplicated sequences:\n"
     ]
    },
    {
     "name": "stdout",
     "output_type": "stream",
     "text": [
      "[1] \"CASSPIGRGGYTF\"                                                                    \n",
      "[2] \"CASSLEQRSYNEQFFGPGTRLTVLGKKGAPGGREGEQPSL_TTPEPCS*GSGHWAIQGPPRGKRGLRQGPQGCANTGELFF\"\n",
      "[3] \"CAIRGVLLQG_AEGNQPQHF\"                                                             \n",
      "[4] \"CASSYELVARWAQDTEAFF\"                                                              \n",
      "[5] \"CASSSRGREDTEAFF\"                                                                  \n",
      "[6] \"CASSFFLEGTDTQYF\"                                                                  \n",
      "[7] \"CASSFGVNTEAFF\"                                                                    \n"
     ]
    },
    {
     "name": "stderr",
     "output_type": "stream",
     "text": [
      "my files:\n"
     ]
    },
    {
     "name": "stdout",
     "output_type": "stream",
     "text": [
      "[1] \"batch3/ds_batch3/CLONES_TRBCHP_358-03-PBMC-DNA_2000000.txt\"\n",
      "[2] \"batch3a9_cfDNA/CLONES_TRBCHP_358-03_cfDNA_2000000.txt\"     \n"
     ]
    },
    {
     "name": "stderr",
     "output_type": "stream",
     "text": [
      "Total recovered clonotypes:\n"
     ]
    },
    {
     "name": "stdout",
     "output_type": "stream",
     "text": [
      "[1] 742\n"
     ]
    },
    {
     "name": "stderr",
     "output_type": "stream",
     "text": [
      "Total out-of-frame clonotypes:\n"
     ]
    },
    {
     "name": "stdout",
     "output_type": "stream",
     "text": [
      "[1] 136\n"
     ]
    },
    {
     "name": "stderr",
     "output_type": "stream",
     "text": [
      "Total clonotypes with stop codon:\n"
     ]
    },
    {
     "name": "stdout",
     "output_type": "stream",
     "text": [
      "[1] 9\n"
     ]
    },
    {
     "name": "stderr",
     "output_type": "stream",
     "text": [
      "Total productive clonotypes:\n"
     ]
    },
    {
     "name": "stdout",
     "output_type": "stream",
     "text": [
      "[1] 597\n"
     ]
    },
    {
     "name": "stderr",
     "output_type": "stream",
     "text": [
      "Output contains all clonotypes\n",
      "list of samples to track clones: \n"
     ]
    },
    {
     "name": "stdout",
     "output_type": "stream",
     "text": [
      "[1] CHP_358-03-PBMC  CHP_358-03-cfDNA\n",
      "Levels: CHP_358-03-PBMC CHP_358-03-cfDNA\n"
     ]
    },
    {
     "name": "stderr",
     "output_type": "stream",
     "text": [
      "Total number of recurring clonotypes: \n"
     ]
    },
    {
     "name": "stdout",
     "output_type": "stream",
     "text": [
      "[1] 0\n"
     ]
    },
    {
     "name": "stderr",
     "output_type": "stream",
     "text": [
      "these are what we color: \n"
     ]
    },
    {
     "name": "stdout",
     "output_type": "stream",
     "text": [
      "named character(0)\n",
      "[1] \"CLONES_TRBCHP_359-01-cfDNA_2000000.txt\"\n"
     ]
    },
    {
     "name": "stderr",
     "output_type": "stream",
     "text": [
      "duplicated sequences:\n"
     ]
    },
    {
     "name": "stdout",
     "output_type": "stream",
     "text": [
      "character(0)\n"
     ]
    },
    {
     "name": "stderr",
     "output_type": "stream",
     "text": [
      "my files:\n"
     ]
    },
    {
     "name": "stdout",
     "output_type": "stream",
     "text": [
      "[1] \"batch7/ds_batch7/CLONES_TRBCHP_359-01-PBMC-DNA_2000000.txt\"\n",
      "[2] \"batch1_cfDNA/CLONES_TRBCHP_359-01-cfDNA_2000000.txt\"       \n"
     ]
    },
    {
     "name": "stderr",
     "output_type": "stream",
     "text": [
      "Total recovered clonotypes:\n"
     ]
    },
    {
     "name": "stdout",
     "output_type": "stream",
     "text": [
      "[1] 38\n"
     ]
    },
    {
     "name": "stderr",
     "output_type": "stream",
     "text": [
      "Total out-of-frame clonotypes:\n"
     ]
    },
    {
     "name": "stdout",
     "output_type": "stream",
     "text": [
      "[1] 8\n"
     ]
    },
    {
     "name": "stderr",
     "output_type": "stream",
     "text": [
      "Total clonotypes with stop codon:\n"
     ]
    },
    {
     "name": "stdout",
     "output_type": "stream",
     "text": [
      "[1] 0\n"
     ]
    },
    {
     "name": "stderr",
     "output_type": "stream",
     "text": [
      "Total productive clonotypes:\n"
     ]
    },
    {
     "name": "stdout",
     "output_type": "stream",
     "text": [
      "[1] 30\n"
     ]
    },
    {
     "name": "stderr",
     "output_type": "stream",
     "text": [
      "Output contains all clonotypes\n",
      "list of samples to track clones: \n"
     ]
    },
    {
     "name": "stdout",
     "output_type": "stream",
     "text": [
      "[1] CHP_359-01-PBMC  CHP_359-01-cfDNA\n",
      "Levels: CHP_359-01-PBMC CHP_359-01-cfDNA\n"
     ]
    },
    {
     "name": "stderr",
     "output_type": "stream",
     "text": [
      "Total number of recurring clonotypes: \n"
     ]
    },
    {
     "name": "stdout",
     "output_type": "stream",
     "text": [
      "[1] 0\n"
     ]
    },
    {
     "name": "stderr",
     "output_type": "stream",
     "text": [
      "these are what we color: \n"
     ]
    },
    {
     "name": "stdout",
     "output_type": "stream",
     "text": [
      "named character(0)\n",
      "[1] \"CLONES_TRBCHP_359-02_cfDNA_2000000.txt\"\n"
     ]
    },
    {
     "name": "stderr",
     "output_type": "stream",
     "text": [
      "duplicated sequences:\n"
     ]
    },
    {
     "name": "stdout",
     "output_type": "stream",
     "text": [
      "[1] \"CASSQEAGGAEAFF\"\n"
     ]
    },
    {
     "name": "stderr",
     "output_type": "stream",
     "text": [
      "my files:\n"
     ]
    },
    {
     "name": "stdout",
     "output_type": "stream",
     "text": [
      "[1] \"batch6a/ds_batch6a/CLONES_TRBCHP_359-02-PBMC-DNA_2000000.txt\"\n",
      "[2] \"batch3a9_cfDNA/CLONES_TRBCHP_359-02_cfDNA_2000000.txt\"       \n"
     ]
    },
    {
     "name": "stderr",
     "output_type": "stream",
     "text": [
      "Total recovered clonotypes:\n"
     ]
    },
    {
     "name": "stdout",
     "output_type": "stream",
     "text": [
      "[1] 522\n"
     ]
    },
    {
     "name": "stderr",
     "output_type": "stream",
     "text": [
      "Total out-of-frame clonotypes:\n"
     ]
    },
    {
     "name": "stdout",
     "output_type": "stream",
     "text": [
      "[1] 97\n"
     ]
    },
    {
     "name": "stderr",
     "output_type": "stream",
     "text": [
      "Total clonotypes with stop codon:\n"
     ]
    },
    {
     "name": "stdout",
     "output_type": "stream",
     "text": [
      "[1] 6\n"
     ]
    },
    {
     "name": "stderr",
     "output_type": "stream",
     "text": [
      "Total productive clonotypes:\n"
     ]
    },
    {
     "name": "stdout",
     "output_type": "stream",
     "text": [
      "[1] 419\n"
     ]
    },
    {
     "name": "stderr",
     "output_type": "stream",
     "text": [
      "Output contains all clonotypes\n",
      "list of samples to track clones: \n"
     ]
    },
    {
     "name": "stdout",
     "output_type": "stream",
     "text": [
      "[1] CHP_359-02-PBMC  CHP_359-02-cfDNA\n",
      "Levels: CHP_359-02-PBMC CHP_359-02-cfDNA\n"
     ]
    },
    {
     "name": "stderr",
     "output_type": "stream",
     "text": [
      "Total number of recurring clonotypes: \n"
     ]
    },
    {
     "name": "stdout",
     "output_type": "stream",
     "text": [
      "[1] 1\n"
     ]
    },
    {
     "name": "stderr",
     "output_type": "stream",
     "text": [
      "these are what we color: \n"
     ]
    },
    {
     "name": "stdout",
     "output_type": "stream",
     "text": [
      "CASRGENYMNTEAFF \n",
      "      \"#BCB3B3\" \n",
      "[1] \"CLONES_TRBCHP_359-04-cfDNA_2000000.txt\"\n"
     ]
    },
    {
     "name": "stderr",
     "output_type": "stream",
     "text": [
      "duplicated sequences:\n"
     ]
    },
    {
     "name": "stdout",
     "output_type": "stream",
     "text": [
      "[1] \"CASSWRLAAGELFF\"\n"
     ]
    },
    {
     "name": "stderr",
     "output_type": "stream",
     "text": [
      "my files:\n"
     ]
    },
    {
     "name": "stdout",
     "output_type": "stream",
     "text": [
      "[1] \"batch6a/ds_batch6a/CLONES_TRBCHP_359-04-PBMC-DNA_2000000.txt\"\n",
      "[2] \"batch1_cfDNA/CLONES_TRBCHP_359-04-cfDNA_2000000.txt\"         \n"
     ]
    },
    {
     "name": "stderr",
     "output_type": "stream",
     "text": [
      "Total recovered clonotypes:\n"
     ]
    },
    {
     "name": "stdout",
     "output_type": "stream",
     "text": [
      "[1] 344\n"
     ]
    },
    {
     "name": "stderr",
     "output_type": "stream",
     "text": [
      "Total out-of-frame clonotypes:\n"
     ]
    },
    {
     "name": "stdout",
     "output_type": "stream",
     "text": [
      "[1] 51\n"
     ]
    },
    {
     "name": "stderr",
     "output_type": "stream",
     "text": [
      "Total clonotypes with stop codon:\n"
     ]
    },
    {
     "name": "stdout",
     "output_type": "stream",
     "text": [
      "[1] 6\n"
     ]
    },
    {
     "name": "stderr",
     "output_type": "stream",
     "text": [
      "Total productive clonotypes:\n"
     ]
    },
    {
     "name": "stdout",
     "output_type": "stream",
     "text": [
      "[1] 287\n"
     ]
    },
    {
     "name": "stderr",
     "output_type": "stream",
     "text": [
      "Output contains all clonotypes\n",
      "list of samples to track clones: \n"
     ]
    },
    {
     "name": "stdout",
     "output_type": "stream",
     "text": [
      "[1] CHP_359-04-PBMC  CHP_359-04-cfDNA\n",
      "Levels: CHP_359-04-PBMC CHP_359-04-cfDNA\n"
     ]
    },
    {
     "name": "stderr",
     "output_type": "stream",
     "text": [
      "Total number of recurring clonotypes: \n"
     ]
    },
    {
     "name": "stdout",
     "output_type": "stream",
     "text": [
      "[1] 0\n"
     ]
    },
    {
     "name": "stderr",
     "output_type": "stream",
     "text": [
      "these are what we color: \n"
     ]
    },
    {
     "name": "stdout",
     "output_type": "stream",
     "text": [
      "named character(0)\n",
      "[1] \"CLONES_TRBCHP_360-02-cfDNA_2000000.txt\"\n"
     ]
    },
    {
     "name": "stderr",
     "output_type": "stream",
     "text": [
      "duplicated sequences:\n"
     ]
    },
    {
     "name": "stdout",
     "output_type": "stream",
     "text": [
      "[1] \"CASWTGFPNYEQYF\"  \"CASTQGRDGPGELFF\" \"CASSLAGQSNQPQHF\" \"CASSQANTEAFF\"   \n"
     ]
    },
    {
     "name": "stderr",
     "output_type": "stream",
     "text": [
      "my files:\n"
     ]
    },
    {
     "name": "stdout",
     "output_type": "stream",
     "text": [
      "[1] \"batch7/ds_batch7/CLONES_TRBCHP_360-02-PBMC-DNA_2000000.txt\"\n",
      "[2] \"batch1_cfDNA/CLONES_TRBCHP_360-02-cfDNA_2000000.txt\"       \n"
     ]
    },
    {
     "name": "stderr",
     "output_type": "stream",
     "text": [
      "Total recovered clonotypes:\n"
     ]
    },
    {
     "name": "stdout",
     "output_type": "stream",
     "text": [
      "[1] 308\n"
     ]
    },
    {
     "name": "stderr",
     "output_type": "stream",
     "text": [
      "Total out-of-frame clonotypes:\n"
     ]
    },
    {
     "name": "stdout",
     "output_type": "stream",
     "text": [
      "[1] 58\n"
     ]
    },
    {
     "name": "stderr",
     "output_type": "stream",
     "text": [
      "Total clonotypes with stop codon:\n"
     ]
    },
    {
     "name": "stdout",
     "output_type": "stream",
     "text": [
      "[1] 7\n"
     ]
    },
    {
     "name": "stderr",
     "output_type": "stream",
     "text": [
      "Total productive clonotypes:\n"
     ]
    },
    {
     "name": "stdout",
     "output_type": "stream",
     "text": [
      "[1] 243\n"
     ]
    },
    {
     "name": "stderr",
     "output_type": "stream",
     "text": [
      "Output contains all clonotypes\n",
      "list of samples to track clones: \n"
     ]
    },
    {
     "name": "stdout",
     "output_type": "stream",
     "text": [
      "[1] CHP_360-02-PBMC  CHP_360-02-cfDNA\n",
      "Levels: CHP_360-02-PBMC CHP_360-02-cfDNA\n"
     ]
    },
    {
     "name": "stderr",
     "output_type": "stream",
     "text": [
      "Total number of recurring clonotypes: \n"
     ]
    },
    {
     "name": "stdout",
     "output_type": "stream",
     "text": [
      "[1] 0\n"
     ]
    },
    {
     "name": "stderr",
     "output_type": "stream",
     "text": [
      "these are what we color: \n"
     ]
    },
    {
     "name": "stdout",
     "output_type": "stream",
     "text": [
      "named character(0)\n",
      "[1] \"CLONES_TRBCHP_361-01_cfDNA_2000000.txt\"\n"
     ]
    },
    {
     "name": "stderr",
     "output_type": "stream",
     "text": [
      "duplicated sequences:\n"
     ]
    },
    {
     "name": "stdout",
     "output_type": "stream",
     "text": [
      "character(0)\n"
     ]
    },
    {
     "name": "stderr",
     "output_type": "stream",
     "text": [
      "my files:\n"
     ]
    },
    {
     "name": "stdout",
     "output_type": "stream",
     "text": [
      "[1] \"batch4/ds_batch4/CLONES_TRBCHP_361-01-PBMC-DNA_2000000.txt\"\n",
      "[2] \"batch5_cfDNA/CLONES_TRBCHP_361-01_cfDNA_2000000.txt\"       \n"
     ]
    },
    {
     "name": "stderr",
     "output_type": "stream",
     "text": [
      "Total recovered clonotypes:\n"
     ]
    },
    {
     "name": "stdout",
     "output_type": "stream",
     "text": [
      "[1] 198\n"
     ]
    },
    {
     "name": "stderr",
     "output_type": "stream",
     "text": [
      "Total out-of-frame clonotypes:\n"
     ]
    },
    {
     "name": "stdout",
     "output_type": "stream",
     "text": [
      "[1] 46\n"
     ]
    },
    {
     "name": "stderr",
     "output_type": "stream",
     "text": [
      "Total clonotypes with stop codon:\n"
     ]
    },
    {
     "name": "stdout",
     "output_type": "stream",
     "text": [
      "[1] 5\n"
     ]
    },
    {
     "name": "stderr",
     "output_type": "stream",
     "text": [
      "Total productive clonotypes:\n"
     ]
    },
    {
     "name": "stdout",
     "output_type": "stream",
     "text": [
      "[1] 147\n"
     ]
    },
    {
     "name": "stderr",
     "output_type": "stream",
     "text": [
      "Output contains all clonotypes\n",
      "list of samples to track clones: \n"
     ]
    },
    {
     "name": "stdout",
     "output_type": "stream",
     "text": [
      "[1] CHP_361-01-PBMC  CHP_361-01-cfDNA\n",
      "Levels: CHP_361-01-PBMC CHP_361-01-cfDNA\n"
     ]
    },
    {
     "name": "stderr",
     "output_type": "stream",
     "text": [
      "Total number of recurring clonotypes: \n"
     ]
    },
    {
     "name": "stdout",
     "output_type": "stream",
     "text": [
      "[1] 1\n"
     ]
    },
    {
     "name": "stderr",
     "output_type": "stream",
     "text": [
      "these are what we color: \n"
     ]
    },
    {
     "name": "stdout",
     "output_type": "stream",
     "text": [
      "CASSLGGQGMGEQYF \n",
      "      \"#BCB3B3\" \n",
      "[1] \"CLONES_TRBCHP_361-02_cfDNA_2000000.txt\"\n"
     ]
    },
    {
     "name": "stderr",
     "output_type": "stream",
     "text": [
      "duplicated sequences:\n"
     ]
    },
    {
     "name": "stdout",
     "output_type": "stream",
     "text": [
      "[1] \"CASSDKTANEKLFF\"    \"CASRPGGALISTDTQYF\" \"CASSFRLDSNEKLFF\"  \n"
     ]
    },
    {
     "name": "stderr",
     "output_type": "stream",
     "text": [
      "my files:\n"
     ]
    },
    {
     "name": "stdout",
     "output_type": "stream",
     "text": [
      "[1] \"batch3/ds_batch3/CLONES_TRBCHP_361-02-PBMC-DNA_2000000.txt\"\n",
      "[2] \"batch10_cfDNA/CLONES_TRBCHP_361-02_cfDNA_2000000.txt\"      \n"
     ]
    },
    {
     "name": "stderr",
     "output_type": "stream",
     "text": [
      "Total recovered clonotypes:\n"
     ]
    },
    {
     "name": "stdout",
     "output_type": "stream",
     "text": [
      "[1] 132\n"
     ]
    },
    {
     "name": "stderr",
     "output_type": "stream",
     "text": [
      "Total out-of-frame clonotypes:\n"
     ]
    },
    {
     "name": "stdout",
     "output_type": "stream",
     "text": [
      "[1] 34\n"
     ]
    },
    {
     "name": "stderr",
     "output_type": "stream",
     "text": [
      "Total clonotypes with stop codon:\n"
     ]
    },
    {
     "name": "stdout",
     "output_type": "stream",
     "text": [
      "[1] 2\n"
     ]
    },
    {
     "name": "stderr",
     "output_type": "stream",
     "text": [
      "Total productive clonotypes:\n"
     ]
    },
    {
     "name": "stdout",
     "output_type": "stream",
     "text": [
      "[1] 96\n"
     ]
    },
    {
     "name": "stderr",
     "output_type": "stream",
     "text": [
      "Output contains all clonotypes\n",
      "list of samples to track clones: \n"
     ]
    },
    {
     "name": "stdout",
     "output_type": "stream",
     "text": [
      "[1] CHP_361-02-PBMC  CHP_361-02-cfDNA\n",
      "Levels: CHP_361-02-PBMC CHP_361-02-cfDNA\n"
     ]
    },
    {
     "name": "stderr",
     "output_type": "stream",
     "text": [
      "Total number of recurring clonotypes: \n"
     ]
    },
    {
     "name": "stdout",
     "output_type": "stream",
     "text": [
      "[1] 0\n"
     ]
    },
    {
     "name": "stderr",
     "output_type": "stream",
     "text": [
      "these are what we color: \n"
     ]
    },
    {
     "name": "stdout",
     "output_type": "stream",
     "text": [
      "named character(0)\n",
      "[1] \"CLONES_TRBCHP_361-03_cfDNA_2000000.txt\"\n"
     ]
    },
    {
     "name": "stderr",
     "output_type": "stream",
     "text": [
      "duplicated sequences:\n"
     ]
    },
    {
     "name": "stdout",
     "output_type": "stream",
     "text": [
      "character(0)\n"
     ]
    },
    {
     "name": "stderr",
     "output_type": "stream",
     "text": [
      "my files:\n"
     ]
    },
    {
     "name": "stdout",
     "output_type": "stream",
     "text": [
      "[1] \"batch3/ds_batch3/CLONES_TRBCHP_361-03-PBMC-DNA_2000000.txt\"\n",
      "[2] \"batch5_cfDNA/CLONES_TRBCHP_361-03_cfDNA_2000000.txt\"       \n"
     ]
    },
    {
     "name": "stderr",
     "output_type": "stream",
     "text": [
      "Total recovered clonotypes:\n"
     ]
    },
    {
     "name": "stdout",
     "output_type": "stream",
     "text": [
      "[1] 66\n"
     ]
    },
    {
     "name": "stderr",
     "output_type": "stream",
     "text": [
      "Total out-of-frame clonotypes:\n"
     ]
    },
    {
     "name": "stdout",
     "output_type": "stream",
     "text": [
      "[1] 14\n"
     ]
    },
    {
     "name": "stderr",
     "output_type": "stream",
     "text": [
      "Total clonotypes with stop codon:\n"
     ]
    },
    {
     "name": "stdout",
     "output_type": "stream",
     "text": [
      "[1] 3\n"
     ]
    },
    {
     "name": "stderr",
     "output_type": "stream",
     "text": [
      "Total productive clonotypes:\n"
     ]
    },
    {
     "name": "stdout",
     "output_type": "stream",
     "text": [
      "[1] 49\n"
     ]
    },
    {
     "name": "stderr",
     "output_type": "stream",
     "text": [
      "Output contains all clonotypes\n",
      "list of samples to track clones: \n"
     ]
    },
    {
     "name": "stdout",
     "output_type": "stream",
     "text": [
      "[1] CHP_361-03-PBMC  CHP_361-03-cfDNA\n",
      "Levels: CHP_361-03-PBMC CHP_361-03-cfDNA\n"
     ]
    },
    {
     "name": "stderr",
     "output_type": "stream",
     "text": [
      "Total number of recurring clonotypes: \n"
     ]
    },
    {
     "name": "stdout",
     "output_type": "stream",
     "text": [
      "[1] 0\n"
     ]
    },
    {
     "name": "stderr",
     "output_type": "stream",
     "text": [
      "these are what we color: \n"
     ]
    },
    {
     "name": "stdout",
     "output_type": "stream",
     "text": [
      "named character(0)\n",
      "[1] \"CLONES_TRBCHP_362-03_cfDNA_2000000.txt\"\n"
     ]
    },
    {
     "name": "stderr",
     "output_type": "stream",
     "text": [
      "duplicated sequences:\n"
     ]
    },
    {
     "name": "stdout",
     "output_type": "stream",
     "text": [
      "character(0)\n"
     ]
    },
    {
     "name": "stderr",
     "output_type": "stream",
     "text": [
      "my files:\n"
     ]
    },
    {
     "name": "stdout",
     "output_type": "stream",
     "text": [
      "[1] \"batch7/ds_batch7/CLONES_TRBCHP_362-03-PBMC-DNA_2000000.txt\"\n",
      "[2] \"batch3a9_cfDNA/CLONES_TRBCHP_362-03_cfDNA_2000000.txt\"     \n"
     ]
    },
    {
     "name": "stderr",
     "output_type": "stream",
     "text": [
      "Total recovered clonotypes:\n"
     ]
    },
    {
     "name": "stdout",
     "output_type": "stream",
     "text": [
      "[1] 125\n"
     ]
    },
    {
     "name": "stderr",
     "output_type": "stream",
     "text": [
      "Total out-of-frame clonotypes:\n"
     ]
    },
    {
     "name": "stdout",
     "output_type": "stream",
     "text": [
      "[1] 27\n"
     ]
    },
    {
     "name": "stderr",
     "output_type": "stream",
     "text": [
      "Total clonotypes with stop codon:\n"
     ]
    },
    {
     "name": "stdout",
     "output_type": "stream",
     "text": [
      "[1] 1\n"
     ]
    },
    {
     "name": "stderr",
     "output_type": "stream",
     "text": [
      "Total productive clonotypes:\n"
     ]
    },
    {
     "name": "stdout",
     "output_type": "stream",
     "text": [
      "[1] 97\n"
     ]
    },
    {
     "name": "stderr",
     "output_type": "stream",
     "text": [
      "Output contains all clonotypes\n",
      "list of samples to track clones: \n"
     ]
    },
    {
     "name": "stdout",
     "output_type": "stream",
     "text": [
      "[1] CHP_362-03-PBMC  CHP_362-03-cfDNA\n",
      "Levels: CHP_362-03-PBMC CHP_362-03-cfDNA\n"
     ]
    },
    {
     "name": "stderr",
     "output_type": "stream",
     "text": [
      "Total number of recurring clonotypes: \n"
     ]
    },
    {
     "name": "stdout",
     "output_type": "stream",
     "text": [
      "[1] 0\n"
     ]
    },
    {
     "name": "stderr",
     "output_type": "stream",
     "text": [
      "these are what we color: \n"
     ]
    },
    {
     "name": "stdout",
     "output_type": "stream",
     "text": [
      "named character(0)\n",
      "[1] \"CLONES_TRBCHP_362-04_cfDNA_2000000.txt\"\n"
     ]
    },
    {
     "name": "stderr",
     "output_type": "stream",
     "text": [
      "duplicated sequences:\n"
     ]
    },
    {
     "name": "stdout",
     "output_type": "stream",
     "text": [
      "character(0)\n"
     ]
    },
    {
     "name": "stderr",
     "output_type": "stream",
     "text": [
      "my files:\n"
     ]
    },
    {
     "name": "stdout",
     "output_type": "stream",
     "text": [
      "[1] \"batch7/ds_batch7/CLONES_TRBCHP_362-04-PBMC-DNA_2000000.txt\"\n",
      "[2] \"batch10_cfDNA/CLONES_TRBCHP_362-04_cfDNA_2000000.txt\"      \n"
     ]
    },
    {
     "name": "stderr",
     "output_type": "stream",
     "text": [
      "Total recovered clonotypes:\n"
     ]
    },
    {
     "name": "stdout",
     "output_type": "stream",
     "text": [
      "[1] 32\n"
     ]
    },
    {
     "name": "stderr",
     "output_type": "stream",
     "text": [
      "Total out-of-frame clonotypes:\n"
     ]
    },
    {
     "name": "stdout",
     "output_type": "stream",
     "text": [
      "[1] 11\n"
     ]
    },
    {
     "name": "stderr",
     "output_type": "stream",
     "text": [
      "Total clonotypes with stop codon:\n"
     ]
    },
    {
     "name": "stdout",
     "output_type": "stream",
     "text": [
      "[1] 0\n"
     ]
    },
    {
     "name": "stderr",
     "output_type": "stream",
     "text": [
      "Total productive clonotypes:\n"
     ]
    },
    {
     "name": "stdout",
     "output_type": "stream",
     "text": [
      "[1] 21\n"
     ]
    },
    {
     "name": "stderr",
     "output_type": "stream",
     "text": [
      "Output contains all clonotypes\n",
      "list of samples to track clones: \n"
     ]
    },
    {
     "name": "stdout",
     "output_type": "stream",
     "text": [
      "[1] CHP_362-04-PBMC  CHP_362-04-cfDNA\n",
      "Levels: CHP_362-04-PBMC CHP_362-04-cfDNA\n"
     ]
    },
    {
     "name": "stderr",
     "output_type": "stream",
     "text": [
      "Total number of recurring clonotypes: \n"
     ]
    },
    {
     "name": "stdout",
     "output_type": "stream",
     "text": [
      "[1] 0\n"
     ]
    },
    {
     "name": "stderr",
     "output_type": "stream",
     "text": [
      "these are what we color: \n"
     ]
    },
    {
     "name": "stdout",
     "output_type": "stream",
     "text": [
      "named character(0)\n",
      "[1] \"CLONES_TRBCHP_363-02_cfDNA_2000000.txt\"\n"
     ]
    },
    {
     "name": "stderr",
     "output_type": "stream",
     "text": [
      "duplicated sequences:\n"
     ]
    },
    {
     "name": "stdout",
     "output_type": "stream",
     "text": [
      "[1] \"CASSQDPSGGAGELFF\" \"CASSLARNTGELFF\"  \n"
     ]
    },
    {
     "name": "stderr",
     "output_type": "stream",
     "text": [
      "my files:\n"
     ]
    },
    {
     "name": "stdout",
     "output_type": "stream",
     "text": [
      "[1] \"batch4/ds_batch4/CLONES_TRBCHP_363-02-PBMC-DNA_2000000.txt\"\n",
      "[2] \"batch5_cfDNA/CLONES_TRBCHP_363-02_cfDNA_2000000.txt\"       \n"
     ]
    },
    {
     "name": "stderr",
     "output_type": "stream",
     "text": [
      "Total recovered clonotypes:\n"
     ]
    },
    {
     "name": "stdout",
     "output_type": "stream",
     "text": [
      "[1] 275\n"
     ]
    },
    {
     "name": "stderr",
     "output_type": "stream",
     "text": [
      "Total out-of-frame clonotypes:\n"
     ]
    },
    {
     "name": "stdout",
     "output_type": "stream",
     "text": [
      "[1] 60\n"
     ]
    },
    {
     "name": "stderr",
     "output_type": "stream",
     "text": [
      "Total clonotypes with stop codon:\n"
     ]
    },
    {
     "name": "stdout",
     "output_type": "stream",
     "text": [
      "[1] 6\n"
     ]
    },
    {
     "name": "stderr",
     "output_type": "stream",
     "text": [
      "Total productive clonotypes:\n"
     ]
    },
    {
     "name": "stdout",
     "output_type": "stream",
     "text": [
      "[1] 209\n"
     ]
    },
    {
     "name": "stderr",
     "output_type": "stream",
     "text": [
      "Output contains all clonotypes\n",
      "list of samples to track clones: \n"
     ]
    },
    {
     "name": "stdout",
     "output_type": "stream",
     "text": [
      "[1] CHP_363-02-PBMC  CHP_363-02-cfDNA\n",
      "Levels: CHP_363-02-PBMC CHP_363-02-cfDNA\n"
     ]
    },
    {
     "name": "stderr",
     "output_type": "stream",
     "text": [
      "Total number of recurring clonotypes: \n"
     ]
    },
    {
     "name": "stdout",
     "output_type": "stream",
     "text": [
      "[1] 0\n"
     ]
    },
    {
     "name": "stderr",
     "output_type": "stream",
     "text": [
      "these are what we color: \n"
     ]
    },
    {
     "name": "stdout",
     "output_type": "stream",
     "text": [
      "named character(0)\n",
      "[1] \"CLONES_TRBCHP_364-02_cfDNA_2000000.txt\"\n"
     ]
    },
    {
     "name": "stderr",
     "output_type": "stream",
     "text": [
      "duplicated sequences:\n"
     ]
    },
    {
     "name": "stdout",
     "output_type": "stream",
     "text": [
      "character(0)\n"
     ]
    },
    {
     "name": "stderr",
     "output_type": "stream",
     "text": [
      "my files:\n"
     ]
    },
    {
     "name": "stdout",
     "output_type": "stream",
     "text": [
      "[1] \"batch4/ds_batch4/CLONES_TRBCHP_364-02-PBMC-DNA_2000000.txt\"\n",
      "[2] \"batch10_cfDNA/CLONES_TRBCHP_364-02_cfDNA_2000000.txt\"      \n"
     ]
    },
    {
     "name": "stderr",
     "output_type": "stream",
     "text": [
      "Total recovered clonotypes:\n"
     ]
    },
    {
     "name": "stdout",
     "output_type": "stream",
     "text": [
      "[1] 101\n"
     ]
    },
    {
     "name": "stderr",
     "output_type": "stream",
     "text": [
      "Total out-of-frame clonotypes:\n"
     ]
    },
    {
     "name": "stdout",
     "output_type": "stream",
     "text": [
      "[1] 25\n"
     ]
    },
    {
     "name": "stderr",
     "output_type": "stream",
     "text": [
      "Total clonotypes with stop codon:\n"
     ]
    },
    {
     "name": "stdout",
     "output_type": "stream",
     "text": [
      "[1] 1\n"
     ]
    },
    {
     "name": "stderr",
     "output_type": "stream",
     "text": [
      "Total productive clonotypes:\n"
     ]
    },
    {
     "name": "stdout",
     "output_type": "stream",
     "text": [
      "[1] 75\n"
     ]
    },
    {
     "name": "stderr",
     "output_type": "stream",
     "text": [
      "Output contains all clonotypes\n",
      "list of samples to track clones: \n"
     ]
    },
    {
     "name": "stdout",
     "output_type": "stream",
     "text": [
      "[1] CHP_364-02-PBMC  CHP_364-02-cfDNA\n",
      "Levels: CHP_364-02-PBMC CHP_364-02-cfDNA\n"
     ]
    },
    {
     "name": "stderr",
     "output_type": "stream",
     "text": [
      "Total number of recurring clonotypes: \n"
     ]
    },
    {
     "name": "stdout",
     "output_type": "stream",
     "text": [
      "[1] 0\n"
     ]
    },
    {
     "name": "stderr",
     "output_type": "stream",
     "text": [
      "these are what we color: \n"
     ]
    },
    {
     "name": "stdout",
     "output_type": "stream",
     "text": [
      "named character(0)\n",
      "[1] \"CLONES_TRBCHP_366-01_cfDNA_2000000.txt\"\n"
     ]
    },
    {
     "name": "stderr",
     "output_type": "stream",
     "text": [
      "duplicated sequences:\n"
     ]
    },
    {
     "name": "stdout",
     "output_type": "stream",
     "text": [
      "[1] \"CASSPPSGRGPYNEQFF\" \"CATSIDRGPYEQYF\"   \n"
     ]
    },
    {
     "name": "stderr",
     "output_type": "stream",
     "text": [
      "my files:\n"
     ]
    },
    {
     "name": "stdout",
     "output_type": "stream",
     "text": [
      "[1] \"batch_reseq/ds_batch_reseq/CLONES_TRBCHP_366-01-PBMC-DNA_2000000.txt\"\n",
      "[2] \"batch3a9_cfDNA/CLONES_TRBCHP_366-01_cfDNA_2000000.txt\"               \n"
     ]
    },
    {
     "name": "stderr",
     "output_type": "stream",
     "text": [
      "Total recovered clonotypes:\n"
     ]
    },
    {
     "name": "stdout",
     "output_type": "stream",
     "text": [
      "[1] 171\n"
     ]
    },
    {
     "name": "stderr",
     "output_type": "stream",
     "text": [
      "Total out-of-frame clonotypes:\n"
     ]
    },
    {
     "name": "stdout",
     "output_type": "stream",
     "text": [
      "[1] 37\n"
     ]
    },
    {
     "name": "stderr",
     "output_type": "stream",
     "text": [
      "Total clonotypes with stop codon:\n"
     ]
    },
    {
     "name": "stdout",
     "output_type": "stream",
     "text": [
      "[1] 2\n"
     ]
    },
    {
     "name": "stderr",
     "output_type": "stream",
     "text": [
      "Total productive clonotypes:\n"
     ]
    },
    {
     "name": "stdout",
     "output_type": "stream",
     "text": [
      "[1] 132\n"
     ]
    },
    {
     "name": "stderr",
     "output_type": "stream",
     "text": [
      "Output contains all clonotypes\n",
      "list of samples to track clones: \n"
     ]
    },
    {
     "name": "stdout",
     "output_type": "stream",
     "text": [
      "[1] CHP_366-01-PBMC  CHP_366-01-cfDNA\n",
      "Levels: CHP_366-01-PBMC CHP_366-01-cfDNA\n"
     ]
    },
    {
     "name": "stderr",
     "output_type": "stream",
     "text": [
      "Total number of recurring clonotypes: \n"
     ]
    },
    {
     "name": "stdout",
     "output_type": "stream",
     "text": [
      "[1] 0\n"
     ]
    },
    {
     "name": "stderr",
     "output_type": "stream",
     "text": [
      "these are what we color: \n"
     ]
    },
    {
     "name": "stdout",
     "output_type": "stream",
     "text": [
      "named character(0)\n",
      "[1] \"CLONES_TRBCHP_368-01_cfDNA_2000000.txt\"\n"
     ]
    },
    {
     "name": "stderr",
     "output_type": "stream",
     "text": [
      "duplicated sequences:\n"
     ]
    },
    {
     "name": "stdout",
     "output_type": "stream",
     "text": [
      "[1] \"CASSQGQVGHEKLFF\" \"CASSKRTGSYEQYF\" \n"
     ]
    },
    {
     "name": "stderr",
     "output_type": "stream",
     "text": [
      "my files:\n"
     ]
    },
    {
     "name": "stdout",
     "output_type": "stream",
     "text": [
      "[1] \"batch7/ds_batch7/CLONES_TRBCHP_368-01-PBMC-DNA_2000000.txt\"\n",
      "[2] \"batch5_cfDNA/CLONES_TRBCHP_368-01_cfDNA_2000000.txt\"       \n"
     ]
    },
    {
     "name": "stderr",
     "output_type": "stream",
     "text": [
      "Total recovered clonotypes:\n"
     ]
    },
    {
     "name": "stdout",
     "output_type": "stream",
     "text": [
      "[1] 301\n"
     ]
    },
    {
     "name": "stderr",
     "output_type": "stream",
     "text": [
      "Total out-of-frame clonotypes:\n"
     ]
    },
    {
     "name": "stdout",
     "output_type": "stream",
     "text": [
      "[1] 65\n"
     ]
    },
    {
     "name": "stderr",
     "output_type": "stream",
     "text": [
      "Total clonotypes with stop codon:\n"
     ]
    },
    {
     "name": "stdout",
     "output_type": "stream",
     "text": [
      "[1] 9\n"
     ]
    },
    {
     "name": "stderr",
     "output_type": "stream",
     "text": [
      "Total productive clonotypes:\n"
     ]
    },
    {
     "name": "stdout",
     "output_type": "stream",
     "text": [
      "[1] 227\n"
     ]
    },
    {
     "name": "stderr",
     "output_type": "stream",
     "text": [
      "Output contains all clonotypes\n",
      "list of samples to track clones: \n"
     ]
    },
    {
     "name": "stdout",
     "output_type": "stream",
     "text": [
      "[1] CHP_368-01-PBMC  CHP_368-01-cfDNA\n",
      "Levels: CHP_368-01-PBMC CHP_368-01-cfDNA\n"
     ]
    },
    {
     "name": "stderr",
     "output_type": "stream",
     "text": [
      "Total number of recurring clonotypes: \n"
     ]
    },
    {
     "name": "stdout",
     "output_type": "stream",
     "text": [
      "[1] 0\n"
     ]
    },
    {
     "name": "stderr",
     "output_type": "stream",
     "text": [
      "these are what we color: \n"
     ]
    },
    {
     "name": "stdout",
     "output_type": "stream",
     "text": [
      "named character(0)\n",
      "[1] \"CLONES_TRBCHP_368-05-cfDNA_2000000.txt\"\n"
     ]
    },
    {
     "name": "stderr",
     "output_type": "stream",
     "text": [
      "duplicated sequences:\n"
     ]
    },
    {
     "name": "stdout",
     "output_type": "stream",
     "text": [
      "[1] \"CASSLQGMGGYTF\"   \"CASSAANTDTQYF\"   \"CASSERTALNTEAFF\" \"CASSLAPGNTEAFF\" \n",
      "[5] \"CSASGSL_TDTQYF\"  \"CASSPFHTDTQYF\"   \"CASSLTSDTQYF\"   \n"
     ]
    },
    {
     "name": "stderr",
     "output_type": "stream",
     "text": [
      "my files:\n"
     ]
    },
    {
     "name": "stdout",
     "output_type": "stream",
     "text": [
      "[1] \"batch3/ds_batch3/CLONES_TRBCHP_368-05-PBMC-DNA_2000000.txt\"\n",
      "[2] \"batch1_cfDNA/CLONES_TRBCHP_368-05-cfDNA_2000000.txt\"       \n"
     ]
    },
    {
     "name": "stderr",
     "output_type": "stream",
     "text": [
      "Total recovered clonotypes:\n"
     ]
    },
    {
     "name": "stdout",
     "output_type": "stream",
     "text": [
      "[1] 552\n"
     ]
    },
    {
     "name": "stderr",
     "output_type": "stream",
     "text": [
      "Total out-of-frame clonotypes:\n"
     ]
    },
    {
     "name": "stdout",
     "output_type": "stream",
     "text": [
      "[1] 150\n"
     ]
    },
    {
     "name": "stderr",
     "output_type": "stream",
     "text": [
      "Total clonotypes with stop codon:\n"
     ]
    },
    {
     "name": "stdout",
     "output_type": "stream",
     "text": [
      "[1] 10\n"
     ]
    },
    {
     "name": "stderr",
     "output_type": "stream",
     "text": [
      "Total productive clonotypes:\n"
     ]
    },
    {
     "name": "stdout",
     "output_type": "stream",
     "text": [
      "[1] 392\n"
     ]
    },
    {
     "name": "stderr",
     "output_type": "stream",
     "text": [
      "Output contains all clonotypes\n",
      "list of samples to track clones: \n"
     ]
    },
    {
     "name": "stdout",
     "output_type": "stream",
     "text": [
      "[1] CHP_368-05-PBMC  CHP_368-05-cfDNA\n",
      "Levels: CHP_368-05-PBMC CHP_368-05-cfDNA\n"
     ]
    },
    {
     "name": "stderr",
     "output_type": "stream",
     "text": [
      "Total number of recurring clonotypes: \n"
     ]
    },
    {
     "name": "stdout",
     "output_type": "stream",
     "text": [
      "[1] 1\n"
     ]
    },
    {
     "name": "stderr",
     "output_type": "stream",
     "text": [
      "these are what we color: \n"
     ]
    },
    {
     "name": "stdout",
     "output_type": "stream",
     "text": [
      "CASSGSGTVWETQYF \n",
      "      \"#BCB3B3\" \n",
      "[1] \"CLONES_TRBCHP_369-02_cfDNA_2000000.txt\"\n"
     ]
    },
    {
     "name": "stderr",
     "output_type": "stream",
     "text": [
      "duplicated sequences:\n"
     ]
    },
    {
     "name": "stdout",
     "output_type": "stream",
     "text": [
      "[1] \"CASSSMDRAGNTIYF\" \"CASSLSSSYEQFF\"  \n"
     ]
    },
    {
     "name": "stderr",
     "output_type": "stream",
     "text": [
      "my files:\n"
     ]
    },
    {
     "name": "stdout",
     "output_type": "stream",
     "text": [
      "[1] \"batch8/ds_batch8/CLONES_TRBCHP_369-02-PBMC-DNA_2000000.txt\"\n",
      "[2] \"batch10_cfDNA/CLONES_TRBCHP_369-02_cfDNA_2000000.txt\"      \n"
     ]
    },
    {
     "name": "stderr",
     "output_type": "stream",
     "text": [
      "Total recovered clonotypes:\n"
     ]
    },
    {
     "name": "stdout",
     "output_type": "stream",
     "text": [
      "[1] 315\n"
     ]
    },
    {
     "name": "stderr",
     "output_type": "stream",
     "text": [
      "Total out-of-frame clonotypes:\n"
     ]
    },
    {
     "name": "stdout",
     "output_type": "stream",
     "text": [
      "[1] 86\n"
     ]
    },
    {
     "name": "stderr",
     "output_type": "stream",
     "text": [
      "Total clonotypes with stop codon:\n"
     ]
    },
    {
     "name": "stdout",
     "output_type": "stream",
     "text": [
      "[1] 10\n"
     ]
    },
    {
     "name": "stderr",
     "output_type": "stream",
     "text": [
      "Total productive clonotypes:\n"
     ]
    },
    {
     "name": "stdout",
     "output_type": "stream",
     "text": [
      "[1] 219\n"
     ]
    },
    {
     "name": "stderr",
     "output_type": "stream",
     "text": [
      "Output contains all clonotypes\n",
      "list of samples to track clones: \n"
     ]
    },
    {
     "name": "stdout",
     "output_type": "stream",
     "text": [
      "[1] CHP_369-02-PBMC  CHP_369-02-cfDNA\n",
      "Levels: CHP_369-02-PBMC CHP_369-02-cfDNA\n"
     ]
    },
    {
     "name": "stderr",
     "output_type": "stream",
     "text": [
      "Total number of recurring clonotypes: \n"
     ]
    },
    {
     "name": "stdout",
     "output_type": "stream",
     "text": [
      "[1] 0\n"
     ]
    },
    {
     "name": "stderr",
     "output_type": "stream",
     "text": [
      "these are what we color: \n"
     ]
    },
    {
     "name": "stdout",
     "output_type": "stream",
     "text": [
      "named character(0)\n",
      "[1] \"CLONES_TRBCHP_370-01-cfDNA_2000000.txt\"\n"
     ]
    },
    {
     "name": "stderr",
     "output_type": "stream",
     "text": [
      "duplicated sequences:\n"
     ]
    },
    {
     "name": "stdout",
     "output_type": "stream",
     "text": [
      "character(0)\n"
     ]
    },
    {
     "name": "stderr",
     "output_type": "stream",
     "text": [
      "my files:\n"
     ]
    },
    {
     "name": "stdout",
     "output_type": "stream",
     "text": [
      "[1] \"batch7/ds_batch7/CLONES_TRBCHP_370-01-PBMC-DNA_2000000.txt\"\n",
      "[2] \"batch1_cfDNA/CLONES_TRBCHP_370-01-cfDNA_2000000.txt\"       \n"
     ]
    },
    {
     "name": "stderr",
     "output_type": "stream",
     "text": [
      "Total recovered clonotypes:\n"
     ]
    },
    {
     "name": "stdout",
     "output_type": "stream",
     "text": [
      "[1] 89\n"
     ]
    },
    {
     "name": "stderr",
     "output_type": "stream",
     "text": [
      "Total out-of-frame clonotypes:\n"
     ]
    },
    {
     "name": "stdout",
     "output_type": "stream",
     "text": [
      "[1] 14\n"
     ]
    },
    {
     "name": "stderr",
     "output_type": "stream",
     "text": [
      "Total clonotypes with stop codon:\n"
     ]
    },
    {
     "name": "stdout",
     "output_type": "stream",
     "text": [
      "[1] 2\n"
     ]
    },
    {
     "name": "stderr",
     "output_type": "stream",
     "text": [
      "Total productive clonotypes:\n"
     ]
    },
    {
     "name": "stdout",
     "output_type": "stream",
     "text": [
      "[1] 73\n"
     ]
    },
    {
     "name": "stderr",
     "output_type": "stream",
     "text": [
      "Output contains all clonotypes\n",
      "list of samples to track clones: \n"
     ]
    },
    {
     "name": "stdout",
     "output_type": "stream",
     "text": [
      "[1] CHP_370-01-PBMC  CHP_370-01-cfDNA\n",
      "Levels: CHP_370-01-PBMC CHP_370-01-cfDNA\n"
     ]
    },
    {
     "name": "stderr",
     "output_type": "stream",
     "text": [
      "Total number of recurring clonotypes: \n"
     ]
    },
    {
     "name": "stdout",
     "output_type": "stream",
     "text": [
      "[1] 1\n"
     ]
    },
    {
     "name": "stderr",
     "output_type": "stream",
     "text": [
      "these are what we color: \n"
     ]
    },
    {
     "name": "stdout",
     "output_type": "stream",
     "text": [
      "CASRGLSGNIQYF \n",
      "    \"#BCB3B3\" \n",
      "[1] \"CLONES_TRBCHP_370-03_cfDNA_2000000.txt\"\n"
     ]
    },
    {
     "name": "stderr",
     "output_type": "stream",
     "text": [
      "duplicated sequences:\n"
     ]
    },
    {
     "name": "stdout",
     "output_type": "stream",
     "text": [
      "character(0)\n"
     ]
    },
    {
     "name": "stderr",
     "output_type": "stream",
     "text": [
      "my files:\n"
     ]
    },
    {
     "name": "stdout",
     "output_type": "stream",
     "text": [
      "[1] \"batch8/ds_batch8/CLONES_TRBCHP_370-03-PBMC-DNA_2000000.txt\"\n",
      "[2] \"batch3a9_cfDNA/CLONES_TRBCHP_370-03_cfDNA_2000000.txt\"     \n"
     ]
    },
    {
     "name": "stderr",
     "output_type": "stream",
     "text": [
      "Total recovered clonotypes:\n"
     ]
    },
    {
     "name": "stdout",
     "output_type": "stream",
     "text": [
      "[1] 337\n"
     ]
    },
    {
     "name": "stderr",
     "output_type": "stream",
     "text": [
      "Total out-of-frame clonotypes:\n"
     ]
    },
    {
     "name": "stdout",
     "output_type": "stream",
     "text": [
      "[1] 67\n"
     ]
    },
    {
     "name": "stderr",
     "output_type": "stream",
     "text": [
      "Total clonotypes with stop codon:\n"
     ]
    },
    {
     "name": "stdout",
     "output_type": "stream",
     "text": [
      "[1] 8\n"
     ]
    },
    {
     "name": "stderr",
     "output_type": "stream",
     "text": [
      "Total productive clonotypes:\n"
     ]
    },
    {
     "name": "stdout",
     "output_type": "stream",
     "text": [
      "[1] 262\n"
     ]
    },
    {
     "name": "stderr",
     "output_type": "stream",
     "text": [
      "Output contains all clonotypes\n",
      "list of samples to track clones: \n"
     ]
    },
    {
     "name": "stdout",
     "output_type": "stream",
     "text": [
      "[1] CHP_370-03-PBMC  CHP_370-03-cfDNA\n",
      "Levels: CHP_370-03-PBMC CHP_370-03-cfDNA\n"
     ]
    },
    {
     "name": "stderr",
     "output_type": "stream",
     "text": [
      "Total number of recurring clonotypes: \n"
     ]
    },
    {
     "name": "stdout",
     "output_type": "stream",
     "text": [
      "[1] 0\n"
     ]
    },
    {
     "name": "stderr",
     "output_type": "stream",
     "text": [
      "these are what we color: \n"
     ]
    },
    {
     "name": "stdout",
     "output_type": "stream",
     "text": [
      "named character(0)\n",
      "[1] \"CLONES_TRBCHP_372-01-cfDNA_2000000.txt\"\n"
     ]
    },
    {
     "name": "stderr",
     "output_type": "stream",
     "text": [
      "duplicated sequences:\n"
     ]
    },
    {
     "name": "stdout",
     "output_type": "stream",
     "text": [
      "character(0)\n"
     ]
    },
    {
     "name": "stderr",
     "output_type": "stream",
     "text": [
      "my files:\n"
     ]
    },
    {
     "name": "stdout",
     "output_type": "stream",
     "text": [
      "[1] \"batch_reseq/ds_batch_reseq/CLONES_TRBCHP_372-01-PBMC-DNA_2000000.txt\"\n",
      "[2] \"batch1_cfDNA/CLONES_TRBCHP_372-01-cfDNA_2000000.txt\"                 \n"
     ]
    },
    {
     "name": "stderr",
     "output_type": "stream",
     "text": [
      "Total recovered clonotypes:\n"
     ]
    },
    {
     "name": "stdout",
     "output_type": "stream",
     "text": [
      "[1] 8\n"
     ]
    },
    {
     "name": "stderr",
     "output_type": "stream",
     "text": [
      "Total out-of-frame clonotypes:\n"
     ]
    },
    {
     "name": "stdout",
     "output_type": "stream",
     "text": [
      "[1] 1\n"
     ]
    },
    {
     "name": "stderr",
     "output_type": "stream",
     "text": [
      "Total clonotypes with stop codon:\n"
     ]
    },
    {
     "name": "stdout",
     "output_type": "stream",
     "text": [
      "[1] 0\n"
     ]
    },
    {
     "name": "stderr",
     "output_type": "stream",
     "text": [
      "Total productive clonotypes:\n"
     ]
    },
    {
     "name": "stdout",
     "output_type": "stream",
     "text": [
      "[1] 7\n"
     ]
    },
    {
     "name": "stderr",
     "output_type": "stream",
     "text": [
      "Output contains all clonotypes\n",
      "list of samples to track clones: \n"
     ]
    },
    {
     "name": "stdout",
     "output_type": "stream",
     "text": [
      "[1] CHP_372-01-PBMC  CHP_372-01-cfDNA\n",
      "Levels: CHP_372-01-PBMC CHP_372-01-cfDNA\n"
     ]
    },
    {
     "name": "stderr",
     "output_type": "stream",
     "text": [
      "Total number of recurring clonotypes: \n"
     ]
    },
    {
     "name": "stdout",
     "output_type": "stream",
     "text": [
      "[1] 0\n"
     ]
    },
    {
     "name": "stderr",
     "output_type": "stream",
     "text": [
      "these are what we color: \n"
     ]
    },
    {
     "name": "stdout",
     "output_type": "stream",
     "text": [
      "named character(0)\n",
      "[1] \"CLONES_TRBCHP_373-01-cfDNA_2000000.txt\"\n"
     ]
    },
    {
     "name": "stderr",
     "output_type": "stream",
     "text": [
      "duplicated sequences:\n"
     ]
    },
    {
     "name": "stdout",
     "output_type": "stream",
     "text": [
      "[1] \"CASSLGARSSGSYNEQFF\" \"CASSQEYSTDTQYF\"    \n"
     ]
    },
    {
     "name": "stderr",
     "output_type": "stream",
     "text": [
      "my files:\n"
     ]
    },
    {
     "name": "stdout",
     "output_type": "stream",
     "text": [
      "[1] \"batch3/ds_batch3/CLONES_TRBCHP_373-01-PBMC-DNA_2000000.txt\"\n",
      "[2] \"batch1_cfDNA/CLONES_TRBCHP_373-01-cfDNA_2000000.txt\"       \n"
     ]
    },
    {
     "name": "stderr",
     "output_type": "stream",
     "text": [
      "Total recovered clonotypes:\n"
     ]
    },
    {
     "name": "stdout",
     "output_type": "stream",
     "text": [
      "[1] 258\n"
     ]
    },
    {
     "name": "stderr",
     "output_type": "stream",
     "text": [
      "Total out-of-frame clonotypes:\n"
     ]
    },
    {
     "name": "stdout",
     "output_type": "stream",
     "text": [
      "[1] 54\n"
     ]
    },
    {
     "name": "stderr",
     "output_type": "stream",
     "text": [
      "Total clonotypes with stop codon:\n"
     ]
    },
    {
     "name": "stdout",
     "output_type": "stream",
     "text": [
      "[1] 2\n"
     ]
    },
    {
     "name": "stderr",
     "output_type": "stream",
     "text": [
      "Total productive clonotypes:\n"
     ]
    },
    {
     "name": "stdout",
     "output_type": "stream",
     "text": [
      "[1] 202\n"
     ]
    },
    {
     "name": "stderr",
     "output_type": "stream",
     "text": [
      "Output contains all clonotypes\n",
      "list of samples to track clones: \n"
     ]
    },
    {
     "name": "stdout",
     "output_type": "stream",
     "text": [
      "[1] CHP_373-01-PBMC  CHP_373-01-cfDNA\n",
      "Levels: CHP_373-01-PBMC CHP_373-01-cfDNA\n"
     ]
    },
    {
     "name": "stderr",
     "output_type": "stream",
     "text": [
      "Total number of recurring clonotypes: \n"
     ]
    },
    {
     "name": "stdout",
     "output_type": "stream",
     "text": [
      "[1] 0\n"
     ]
    },
    {
     "name": "stderr",
     "output_type": "stream",
     "text": [
      "these are what we color: \n"
     ]
    },
    {
     "name": "stdout",
     "output_type": "stream",
     "text": [
      "named character(0)\n",
      "[1] \"CLONES_TRBCHP_373-02_cfDNA_2000000.txt\"\n"
     ]
    },
    {
     "name": "stderr",
     "output_type": "stream",
     "text": [
      "duplicated sequences:\n"
     ]
    },
    {
     "name": "stdout",
     "output_type": "stream",
     "text": [
      "[1] \"CSARTGGRVTQYF\"     \"CASSQGVV_RGSYEQYF\" \"CASSSRTSEYTGELFF\" \n"
     ]
    },
    {
     "name": "stderr",
     "output_type": "stream",
     "text": [
      "my files:\n"
     ]
    },
    {
     "name": "stdout",
     "output_type": "stream",
     "text": [
      "[1] \"batch7/ds_batch7/CLONES_TRBCHP_373-02-PBMC-DNA_2000000.txt\"\n",
      "[2] \"batch3a9_cfDNA/CLONES_TRBCHP_373-02_cfDNA_2000000.txt\"     \n"
     ]
    },
    {
     "name": "stderr",
     "output_type": "stream",
     "text": [
      "Total recovered clonotypes:\n"
     ]
    },
    {
     "name": "stdout",
     "output_type": "stream",
     "text": [
      "[1] 134\n"
     ]
    },
    {
     "name": "stderr",
     "output_type": "stream",
     "text": [
      "Total out-of-frame clonotypes:\n"
     ]
    },
    {
     "name": "stdout",
     "output_type": "stream",
     "text": [
      "[1] 35\n"
     ]
    },
    {
     "name": "stderr",
     "output_type": "stream",
     "text": [
      "Total clonotypes with stop codon:\n"
     ]
    },
    {
     "name": "stdout",
     "output_type": "stream",
     "text": [
      "[1] 3\n"
     ]
    },
    {
     "name": "stderr",
     "output_type": "stream",
     "text": [
      "Total productive clonotypes:\n"
     ]
    },
    {
     "name": "stdout",
     "output_type": "stream",
     "text": [
      "[1] 96\n"
     ]
    },
    {
     "name": "stderr",
     "output_type": "stream",
     "text": [
      "Output contains all clonotypes\n",
      "list of samples to track clones: \n"
     ]
    },
    {
     "name": "stdout",
     "output_type": "stream",
     "text": [
      "[1] CHP_373-02-PBMC  CHP_373-02-cfDNA\n",
      "Levels: CHP_373-02-PBMC CHP_373-02-cfDNA\n"
     ]
    },
    {
     "name": "stderr",
     "output_type": "stream",
     "text": [
      "Total number of recurring clonotypes: \n"
     ]
    },
    {
     "name": "stdout",
     "output_type": "stream",
     "text": [
      "[1] 0\n"
     ]
    },
    {
     "name": "stderr",
     "output_type": "stream",
     "text": [
      "these are what we color: \n"
     ]
    },
    {
     "name": "stdout",
     "output_type": "stream",
     "text": [
      "named character(0)\n",
      "[1] \"CLONES_TRBCHP_374-04-cfDNA_2000000.txt\"\n"
     ]
    },
    {
     "name": "stderr",
     "output_type": "stream",
     "text": [
      "duplicated sequences:\n"
     ]
    },
    {
     "name": "stdout",
     "output_type": "stream",
     "text": [
      "[1] \"CASSSRGAPGAVRYNEQFF\" \"CASSLSRLAGFLSYEQYF\"  \"CASSMTAASTDTQYF\"    \n"
     ]
    },
    {
     "ename": "ERROR",
     "evalue": "Error in data.frame(..., check.names = FALSE): arguments imply differing number of rows: 0, 1\n",
     "output_type": "error",
     "traceback": [
      "Error in data.frame(..., check.names = FALSE): arguments imply differing number of rows: 0, 1\nTraceback:\n",
      "1. cdr3_dataframe.fx(datapath, \"TRB\", tmp, \"total\")",
      "2. cbind(cloneno = row.names(compldfle1), filename = f, compldfle1)   # at line 29-31 of file <text>",
      "3. cbind(deparse.level, ...)",
      "4. data.frame(..., check.names = FALSE)",
      "5. stop(gettextf(\"arguments imply differing number of rows: %s\", \n .     paste(unique(nrows), collapse = \", \")), domain = NA)"
     ]
    }
   ],
   "source": [
    "for(i in 1:nrow(manifest_cfdna_pbmc)){\n",
    "    print(manifest_cfdna_pbmc$filename.x[i])\n",
    "    cfdnafile <- ds_flelst_chp_cfDNA[grepl(manifest_cfdna_pbmc$filename.x[i], ds_flelst_chp_cfDNA)]\n",
    "    pbmcfile <- ds_flelst_chp_PBMC[grepl(manifest_cfdna_pbmc$filename.y[i], ds_flelst_chp_PBMC)]\n",
    "    tmp <- c(pbmcfile, cfdnafile)\n",
    "    \n",
    "    cdr3df <- cdr3_dataframe.fx(datapath, \"TRB\", tmp, \"total\")\n",
    "    cdr3df$samplename <- gsub(\"TRB\", \"\", cdr3df$samplename)       \n",
    "    cdr3df$samplename <- gsub(\"-cfDNA.*\", \"-cfDNA\", cdr3df$samplename)\n",
    "    cdr3df$samplename <- gsub(\"_cfDNA.*\", \"-cfDNA\", cdr3df$samplename)\n",
    "    cdr3df$samplename <- gsub(\"-PBMC.*\", \"-PBMC\", cdr3df$samplename)\n",
    "    cdr3df$samplename <- gsub(\"_PBMC.*\", \"-PBMC\", cdr3df$samplename)\n",
    "\n",
    "    cdr3df$samplename <- factor(cdr3df$samplename, levels = c(unique(cdr3df$samplename[grepl(\"PBMC\",cdr3df$samplename)]),\n",
    "                                                              unique(cdr3df$samplename[grepl(\"cfDNA\",cdr3df$samplename)])))\n",
    "    \n",
    "    plot_clonetracks.fx(cdr3df, plotpath, \"TRB\", \"cloneFraction\", 0)\n",
    "}"
   ]
  },
  {
   "cell_type": "code",
   "execution_count": 50,
   "metadata": {},
   "outputs": [
    {
     "name": "stdout",
     "output_type": "stream",
     "text": [
      "[1] \"CLONES_TRBCHP_374-04-cfDNA_2000000.txt\"\n"
     ]
    },
    {
     "name": "stderr",
     "output_type": "stream",
     "text": [
      "duplicated sequences:\n"
     ]
    },
    {
     "name": "stdout",
     "output_type": "stream",
     "text": [
      "[1] \"CASSPSSG_GSYNEQFF\" \"CASSKGRGAGELFF\"   \n"
     ]
    },
    {
     "name": "stderr",
     "output_type": "stream",
     "text": [
      "my files:\n"
     ]
    },
    {
     "name": "stdout",
     "output_type": "stream",
     "text": [
      "[1] \"batch8/ds_batch8/CLONES_TRBCHP_387-01-PBMC-DNA_2000000.txt\"\n",
      "[2] \"batch7_cfDNA/CLONES_TRBCHP_387-01_cfDNA_2000000.txt\"       \n"
     ]
    },
    {
     "name": "stderr",
     "output_type": "stream",
     "text": [
      "Total recovered clonotypes:\n"
     ]
    },
    {
     "name": "stdout",
     "output_type": "stream",
     "text": [
      "[1] 294\n"
     ]
    },
    {
     "name": "stderr",
     "output_type": "stream",
     "text": [
      "Total out-of-frame clonotypes:\n"
     ]
    },
    {
     "name": "stdout",
     "output_type": "stream",
     "text": [
      "[1] 58\n"
     ]
    },
    {
     "name": "stderr",
     "output_type": "stream",
     "text": [
      "Total clonotypes with stop codon:\n"
     ]
    },
    {
     "name": "stdout",
     "output_type": "stream",
     "text": [
      "[1] 3\n"
     ]
    },
    {
     "name": "stderr",
     "output_type": "stream",
     "text": [
      "Total productive clonotypes:\n"
     ]
    },
    {
     "name": "stdout",
     "output_type": "stream",
     "text": [
      "[1] 233\n"
     ]
    },
    {
     "name": "stderr",
     "output_type": "stream",
     "text": [
      "Output contains all clonotypes\n",
      "list of samples to track clones: \n"
     ]
    },
    {
     "name": "stdout",
     "output_type": "stream",
     "text": [
      "[1] CHP_387-01-PBMC  CHP_387-01-cfDNA\n",
      "Levels: CHP_387-01-PBMC CHP_387-01-cfDNA\n"
     ]
    },
    {
     "name": "stderr",
     "output_type": "stream",
     "text": [
      "Total number of recurring clonotypes: \n"
     ]
    },
    {
     "name": "stdout",
     "output_type": "stream",
     "text": [
      "[1] 3\n"
     ]
    },
    {
     "name": "stderr",
     "output_type": "stream",
     "text": [
      "these are what we color: \n"
     ]
    },
    {
     "name": "stdout",
     "output_type": "stream",
     "text": [
      "                                                                  CASSRNTQPQVGRSNEQFF \n",
      "                                                                            \"#B1C8CA\" \n",
      "CASSRNTQPQVGRSNEQFFGPGTRLTVLGKKGAPGGREGEQP_ACTTPEPCS*GSGHWAIQGPPRGKRGLRQGPQGCANTGELFF \n",
      "                                                                            \"#BF6EC7\" \n",
      "                                                                   CASSYSTGDYSGANVLTF \n",
      "                                                                            \"#B8D675\" \n"
     ]
    },
    {
     "data": {
      "text/html": [
       "<strong>pdf:</strong> 2"
      ],
      "text/latex": [
       "\\textbf{pdf:} 2"
      ],
      "text/markdown": [
       "**pdf:** 2"
      ],
      "text/plain": [
       "pdf \n",
       "  2 "
      ]
     },
     "metadata": {},
     "output_type": "display_data"
    }
   ],
   "source": [
    "    cfdnafile <- ds_flelst_chp_cfDNA[grepl(\"CHP_387-01\", ds_flelst_chp_cfDNA)]\n",
    "    pbmcfile <- ds_flelst_chp_PBMC[grepl(\"CHP_387-01\", ds_flelst_chp_PBMC)]\n",
    "    tmp <- c(pbmcfile, cfdnafile)\n",
    "    \n",
    "    cdr3df <- cdr3_dataframe.fx(datapath, \"TRB\", tmp, \"total\")\n",
    "    cdr3df$samplename <- gsub(\"TRB\", \"\", cdr3df$samplename)       \n",
    "    cdr3df$samplename <- gsub(\"-cfDNA.*\", \"-cfDNA\", cdr3df$samplename)\n",
    "    cdr3df$samplename <- gsub(\"_cfDNA.*\", \"-cfDNA\", cdr3df$samplename)\n",
    "    cdr3df$samplename <- gsub(\"-PBMC.*\", \"-PBMC\", cdr3df$samplename)\n",
    "    cdr3df$samplename <- gsub(\"_PBMC.*\", \"-PBMC\", cdr3df$samplename)\n",
    "\n",
    "    cdr3df$samplename <- factor(cdr3df$samplename, levels = c(unique(cdr3df$samplename[grepl(\"PBMC\",cdr3df$samplename)]),\n",
    "                                                              unique(cdr3df$samplename[grepl(\"cfDNA\",cdr3df$samplename)])))\n",
    "    \n",
    "    plot_clonetracks.fx(cdr3df, plotpath, \"TRB\", \"cloneFraction\", 0)"
   ]
  },
  {
   "cell_type": "code",
   "execution_count": null,
   "metadata": {},
   "outputs": [],
   "source": []
  },
  {
   "cell_type": "code",
   "execution_count": null,
   "metadata": {},
   "outputs": [],
   "source": []
  },
  {
   "cell_type": "code",
   "execution_count": null,
   "metadata": {},
   "outputs": [],
   "source": []
  },
  {
   "cell_type": "code",
   "execution_count": null,
   "metadata": {},
   "outputs": [],
   "source": []
  },
  {
   "cell_type": "markdown",
   "metadata": {},
   "source": [
    "## Tumour and PBMCs"
   ]
  },
  {
   "cell_type": "code",
   "execution_count": 8,
   "metadata": {},
   "outputs": [],
   "source": [
    "manifest_df_ffpe <- cbind.data.frame(ds_flelst_chp_ffpe, NA,stringsAsFactors = F)\n",
    "\n",
    "colnames(manifest_df_ffpe) <- c(\"filename\", \"patient\")"
   ]
  },
  {
   "cell_type": "code",
   "execution_count": 9,
   "metadata": {},
   "outputs": [],
   "source": [
    "manifest_df_ffpe$filename <- gsub(\".*CLONES\", \"CLONES\", manifest_df_ffpe$filename)\n",
    "\n",
    "manifest_df_ffpe$patient <- gsub(\"CLONES_TRBCHP_\", \"\", manifest_df_ffpe$filename)\n",
    "manifest_df_ffpe$patient <- gsub(\"-.*\", \"\", manifest_df_ffpe$patient)\n",
    "manifest_df_ffpe$patient <- gsub(\"_.*\", \"\", manifest_df_ffpe$patient)"
   ]
  },
  {
   "cell_type": "code",
   "execution_count": 10,
   "metadata": {},
   "outputs": [
    {
     "data": {
      "text/html": [
       "<ol class=list-inline>\n",
       "\t<li>'361'</li>\n",
       "\t<li>'364'</li>\n",
       "\t<li>'370'</li>\n",
       "\t<li>'372'</li>\n",
       "\t<li>'380'</li>\n",
       "\t<li>'389'</li>\n",
       "\t<li>'390'</li>\n",
       "\t<li>'394'</li>\n",
       "\t<li>'400'</li>\n",
       "\t<li>'401'</li>\n",
       "\t<li>'404'</li>\n",
       "\t<li>'404'</li>\n",
       "\t<li>'407'</li>\n",
       "\t<li>'412'</li>\n",
       "\t<li>'418'</li>\n",
       "\t<li>'419'</li>\n",
       "</ol>\n"
      ],
      "text/latex": [
       "\\begin{enumerate*}\n",
       "\\item '361'\n",
       "\\item '364'\n",
       "\\item '370'\n",
       "\\item '372'\n",
       "\\item '380'\n",
       "\\item '389'\n",
       "\\item '390'\n",
       "\\item '394'\n",
       "\\item '400'\n",
       "\\item '401'\n",
       "\\item '404'\n",
       "\\item '404'\n",
       "\\item '407'\n",
       "\\item '412'\n",
       "\\item '418'\n",
       "\\item '419'\n",
       "\\end{enumerate*}\n"
      ],
      "text/markdown": [
       "1. '361'\n",
       "2. '364'\n",
       "3. '370'\n",
       "4. '372'\n",
       "5. '380'\n",
       "6. '389'\n",
       "7. '390'\n",
       "8. '394'\n",
       "9. '400'\n",
       "10. '401'\n",
       "11. '404'\n",
       "12. '404'\n",
       "13. '407'\n",
       "14. '412'\n",
       "15. '418'\n",
       "16. '419'\n",
       "\n",
       "\n"
      ],
      "text/plain": [
       " [1] \"361\" \"364\" \"370\" \"372\" \"380\" \"389\" \"390\" \"394\" \"400\" \"401\" \"404\" \"404\"\n",
       "[13] \"407\" \"412\" \"418\" \"419\""
      ]
     },
     "metadata": {},
     "output_type": "display_data"
    }
   ],
   "source": [
    "manifest_df_ffpe$patient"
   ]
  },
  {
   "cell_type": "markdown",
   "metadata": {},
   "source": [
    "I have to do all separately to make sure levels are correct\n",
    "\n",
    "344, 380, 400, 401, doesnt have baseline pbmc\n",
    "348 doesnt have ffpe\n",
    "389, 390 412 418 419 no pbmc"
   ]
  },
  {
   "cell_type": "code",
   "execution_count": 11,
   "metadata": {},
   "outputs": [
    {
     "data": {
      "text/html": [
       "<table>\n",
       "<caption>A data.frame: 5 × 34</caption>\n",
       "<thead>\n",
       "\t<tr><th></th><th scope=col>Patient</th><th scope=col>cycle</th><th scope=col>FOLD</th><th scope=col>ATC</th><th scope=col>Age</th><th scope=col>Disease_type</th><th scope=col>TE_fold</th><th scope=col>Pass</th><th scope=col>CD3</th><th scope=col>EM</th><th scope=col>⋯</th><th scope=col>TIM3</th><th scope=col>CTLA4</th><th scope=col>PD1.</th><th scope=col>PDL1.</th><th scope=col>LAG3.</th><th scope=col>TIM3.</th><th scope=col>CTLA4.</th><th scope=col>Any.NCR</th><th scope=col>PD1...LAG3...TIM3</th><th scope=col>group</th></tr>\n",
       "\t<tr><th></th><th scope=col>&lt;int&gt;</th><th scope=col>&lt;int&gt;</th><th scope=col>&lt;dbl&gt;</th><th scope=col>&lt;dbl&gt;</th><th scope=col>&lt;dbl&gt;</th><th scope=col>&lt;chr&gt;</th><th scope=col>&lt;chr&gt;</th><th scope=col>&lt;lgl&gt;</th><th scope=col>&lt;int&gt;</th><th scope=col>&lt;int&gt;</th><th scope=col>⋯</th><th scope=col>&lt;int&gt;</th><th scope=col>&lt;int&gt;</th><th scope=col>&lt;dbl&gt;</th><th scope=col>&lt;dbl&gt;</th><th scope=col>&lt;dbl&gt;</th><th scope=col>&lt;dbl&gt;</th><th scope=col>&lt;dbl&gt;</th><th scope=col>&lt;dbl&gt;</th><th scope=col>&lt;dbl&gt;</th><th scope=col>&lt;chr&gt;</th></tr>\n",
       "</thead>\n",
       "<tbody>\n",
       "\t<tr><th scope=row>76</th><td>345</td><td>1</td><td>0</td><td> 287.00</td><td>1</td><td>ALL</td><td>0</td><td>NA</td><td>0</td><td>NA</td><td>⋯</td><td>NA</td><td>NA</td><td>NA</td><td>NA</td><td>NA</td><td>NA</td><td>NA</td><td>NA</td><td>NA</td><td>Leukemia</td></tr>\n",
       "\t<tr><th scope=row>77</th><td>345</td><td>2</td><td>0</td><td>1598.08</td><td>1</td><td>ALL</td><td>0</td><td>NA</td><td>0</td><td>NA</td><td>⋯</td><td>NA</td><td>NA</td><td>NA</td><td>NA</td><td>NA</td><td>NA</td><td>NA</td><td>NA</td><td>NA</td><td>Leukemia</td></tr>\n",
       "\t<tr><th scope=row>78</th><td>345</td><td>3</td><td>0</td><td>   0.00</td><td>1</td><td>ALL</td><td>0</td><td>NA</td><td>0</td><td>NA</td><td>⋯</td><td>NA</td><td>NA</td><td>NA</td><td>NA</td><td>NA</td><td>NA</td><td>NA</td><td>NA</td><td>NA</td><td>Leukemia</td></tr>\n",
       "\t<tr><th scope=row>79</th><td>345</td><td>4</td><td>0</td><td>   0.00</td><td>1</td><td>ALL</td><td>0</td><td>NA</td><td>0</td><td>NA</td><td>⋯</td><td>NA</td><td>NA</td><td>NA</td><td>NA</td><td>NA</td><td>NA</td><td>NA</td><td>NA</td><td>NA</td><td>Leukemia</td></tr>\n",
       "\t<tr><th scope=row>80</th><td>345</td><td>5</td><td>0</td><td>   0.00</td><td>1</td><td>ALL</td><td>0</td><td>NA</td><td>0</td><td>NA</td><td>⋯</td><td>NA</td><td>NA</td><td>NA</td><td>NA</td><td>NA</td><td>NA</td><td>NA</td><td>NA</td><td>NA</td><td>Leukemia</td></tr>\n",
       "</tbody>\n",
       "</table>\n"
      ],
      "text/latex": [
       "A data.frame: 5 × 34\n",
       "\\begin{tabular}{r|llllllllllllllllllllllllllllllllll}\n",
       "  & Patient & cycle & FOLD & ATC & Age & Disease\\_type & TE\\_fold & Pass & CD3 & EM & CM & Naïve & SCM & TE & EM. & CM. & Naïve. & SCM. & TE. & Naïve.TE & N.CM.SCM.TE.EM & PD.1 & PDL1 & LAG3 & TIM3 & CTLA4 & PD1. & PDL1. & LAG3. & TIM3. & CTLA4. & Any.NCR & PD1...LAG3...TIM3 & group\\\\\n",
       "  & <int> & <int> & <dbl> & <dbl> & <dbl> & <chr> & <chr> & <lgl> & <int> & <int> & <int> & <int> & <int> & <int> & <dbl> & <dbl> & <dbl> & <dbl> & <dbl> & <dbl> & <dbl> & <int> & <int> & <int> & <int> & <int> & <dbl> & <dbl> & <dbl> & <dbl> & <dbl> & <dbl> & <dbl> & <chr>\\\\\n",
       "\\hline\n",
       "\t76 & 345 & 1 & 0 &  287.00 & 1 & ALL & 0 & NA & 0 & NA & NA & NA & NA & NA & NA & NA & NA & NA & NA & NA & NA & NA & NA & NA & NA & NA & NA & NA & NA & NA & NA & NA & NA & Leukemia\\\\\n",
       "\t77 & 345 & 2 & 0 & 1598.08 & 1 & ALL & 0 & NA & 0 & NA & NA & NA & NA & NA & NA & NA & NA & NA & NA & NA & NA & NA & NA & NA & NA & NA & NA & NA & NA & NA & NA & NA & NA & Leukemia\\\\\n",
       "\t78 & 345 & 3 & 0 &    0.00 & 1 & ALL & 0 & NA & 0 & NA & NA & NA & NA & NA & NA & NA & NA & NA & NA & NA & NA & NA & NA & NA & NA & NA & NA & NA & NA & NA & NA & NA & NA & Leukemia\\\\\n",
       "\t79 & 345 & 4 & 0 &    0.00 & 1 & ALL & 0 & NA & 0 & NA & NA & NA & NA & NA & NA & NA & NA & NA & NA & NA & NA & NA & NA & NA & NA & NA & NA & NA & NA & NA & NA & NA & NA & Leukemia\\\\\n",
       "\t80 & 345 & 5 & 0 &    0.00 & 1 & ALL & 0 & NA & 0 & NA & NA & NA & NA & NA & NA & NA & NA & NA & NA & NA & NA & NA & NA & NA & NA & NA & NA & NA & NA & NA & NA & NA & NA & Leukemia\\\\\n",
       "\\end{tabular}\n"
      ],
      "text/markdown": [
       "\n",
       "A data.frame: 5 × 34\n",
       "\n",
       "| <!--/--> | Patient &lt;int&gt; | cycle &lt;int&gt; | FOLD &lt;dbl&gt; | ATC &lt;dbl&gt; | Age &lt;dbl&gt; | Disease_type &lt;chr&gt; | TE_fold &lt;chr&gt; | Pass &lt;lgl&gt; | CD3 &lt;int&gt; | EM &lt;int&gt; | ⋯ ⋯ | TIM3 &lt;int&gt; | CTLA4 &lt;int&gt; | PD1. &lt;dbl&gt; | PDL1. &lt;dbl&gt; | LAG3. &lt;dbl&gt; | TIM3. &lt;dbl&gt; | CTLA4. &lt;dbl&gt; | Any.NCR &lt;dbl&gt; | PD1...LAG3...TIM3 &lt;dbl&gt; | group &lt;chr&gt; |\n",
       "|---|---|---|---|---|---|---|---|---|---|---|---|---|---|---|---|---|---|---|---|---|---|\n",
       "| 76 | 345 | 1 | 0 |  287.00 | 1 | ALL | 0 | NA | 0 | NA | ⋯ | NA | NA | NA | NA | NA | NA | NA | NA | NA | Leukemia |\n",
       "| 77 | 345 | 2 | 0 | 1598.08 | 1 | ALL | 0 | NA | 0 | NA | ⋯ | NA | NA | NA | NA | NA | NA | NA | NA | NA | Leukemia |\n",
       "| 78 | 345 | 3 | 0 |    0.00 | 1 | ALL | 0 | NA | 0 | NA | ⋯ | NA | NA | NA | NA | NA | NA | NA | NA | NA | Leukemia |\n",
       "| 79 | 345 | 4 | 0 |    0.00 | 1 | ALL | 0 | NA | 0 | NA | ⋯ | NA | NA | NA | NA | NA | NA | NA | NA | NA | Leukemia |\n",
       "| 80 | 345 | 5 | 0 |    0.00 | 1 | ALL | 0 | NA | 0 | NA | ⋯ | NA | NA | NA | NA | NA | NA | NA | NA | NA | Leukemia |\n",
       "\n"
      ],
      "text/plain": [
       "   Patient cycle FOLD ATC     Age Disease_type TE_fold Pass CD3 EM ⋯ TIM3 CTLA4\n",
       "76 345     1     0     287.00 1   ALL          0       NA   0   NA ⋯ NA   NA   \n",
       "77 345     2     0    1598.08 1   ALL          0       NA   0   NA ⋯ NA   NA   \n",
       "78 345     3     0       0.00 1   ALL          0       NA   0   NA ⋯ NA   NA   \n",
       "79 345     4     0       0.00 1   ALL          0       NA   0   NA ⋯ NA   NA   \n",
       "80 345     5     0       0.00 1   ALL          0       NA   0   NA ⋯ NA   NA   \n",
       "   PD1. PDL1. LAG3. TIM3. CTLA4. Any.NCR PD1...LAG3...TIM3 group   \n",
       "76 NA   NA    NA    NA    NA     NA      NA                Leukemia\n",
       "77 NA   NA    NA    NA    NA     NA      NA                Leukemia\n",
       "78 NA   NA    NA    NA    NA     NA      NA                Leukemia\n",
       "79 NA   NA    NA    NA    NA     NA      NA                Leukemia\n",
       "80 NA   NA    NA    NA    NA     NA      NA                Leukemia"
      ]
     },
     "metadata": {},
     "output_type": "display_data"
    }
   ],
   "source": [
    "master_df[ master_df$Patient == \"345\",]"
   ]
  },
  {
   "cell_type": "markdown",
   "metadata": {},
   "source": [
    "### 407 DLBCL"
   ]
  },
  {
   "cell_type": "code",
   "execution_count": 12,
   "metadata": {},
   "outputs": [
    {
     "name": "stderr",
     "output_type": "stream",
     "text": [
      "duplicated sequences:\n"
     ]
    },
    {
     "name": "stdout",
     "output_type": "stream",
     "text": [
      "character(0)\n"
     ]
    },
    {
     "name": "stderr",
     "output_type": "stream",
     "text": [
      "my files:\n"
     ]
    },
    {
     "name": "stdout",
     "output_type": "stream",
     "text": [
      "[1] \"batchFFPE/ds_batchFFPE/CLONES_TRBCHP_407-FFPE-DNA_S7_2000000.txt\"\n",
      "[2] \"batch11/CLONES_TRBCHP_407-01_PBMC_DNA_2000000.txt\"               \n",
      "[3] \"batch11/CLONES_TRBCHP_407-02_PBMC_DNA_2000000.txt\"               \n"
     ]
    },
    {
     "name": "stderr",
     "output_type": "stream",
     "text": [
      "Total recovered clonotypes:\n"
     ]
    },
    {
     "name": "stdout",
     "output_type": "stream",
     "text": [
      "[1] 584\n"
     ]
    },
    {
     "name": "stderr",
     "output_type": "stream",
     "text": [
      "Total out-of-frame clonotypes:\n"
     ]
    },
    {
     "name": "stdout",
     "output_type": "stream",
     "text": [
      "[1] 147\n"
     ]
    },
    {
     "name": "stderr",
     "output_type": "stream",
     "text": [
      "Total clonotypes with stop codon:\n"
     ]
    },
    {
     "name": "stdout",
     "output_type": "stream",
     "text": [
      "[1] 15\n"
     ]
    },
    {
     "name": "stderr",
     "output_type": "stream",
     "text": [
      "Total productive clonotypes:\n"
     ]
    },
    {
     "name": "stdout",
     "output_type": "stream",
     "text": [
      "[1] 422\n"
     ]
    },
    {
     "name": "stderr",
     "output_type": "stream",
     "text": [
      "Output contains all clonotypes\n"
     ]
    }
   ],
   "source": [
    "ffpefile <- ds_flelst_chp_ffpe[grepl(\"407\", ds_flelst_chp_ffpe)]\n",
    "pbmcfiles <- ds_flelst_chp_PBMC[grepl(\"407\", ds_flelst_chp_PBMC)]\n",
    "tmp <- c(ffpefile, pbmcfiles)\n",
    "    \n",
    "cdr3df <- cdr3_dataframe.fx(datapath, \"TRB\", tmp, \"total\")\n",
    "cdr3df$samplename <- gsub(\"_DNA_2000000.txt\", \"\", cdr3df$samplename)\n",
    "cdr3df$samplename <- gsub(\"-DNA_S7_2000000.txt\", \"\", cdr3df$samplename)\n",
    "cdr3df$samplename <- gsub(\"TRB\", \"\", cdr3df$samplename)"
   ]
  },
  {
   "cell_type": "code",
   "execution_count": 13,
   "metadata": {},
   "outputs": [
    {
     "data": {
      "text/html": [
       "<ol class=list-inline>\n",
       "\t<li>'CHP_407-FFPE'</li>\n",
       "\t<li>'CHP_407-01_PBMC'</li>\n",
       "\t<li>'CHP_407-02_PBMC'</li>\n",
       "</ol>\n"
      ],
      "text/latex": [
       "\\begin{enumerate*}\n",
       "\\item 'CHP\\_407-FFPE'\n",
       "\\item 'CHP\\_407-01\\_PBMC'\n",
       "\\item 'CHP\\_407-02\\_PBMC'\n",
       "\\end{enumerate*}\n"
      ],
      "text/markdown": [
       "1. 'CHP_407-FFPE'\n",
       "2. 'CHP_407-01_PBMC'\n",
       "3. 'CHP_407-02_PBMC'\n",
       "\n",
       "\n"
      ],
      "text/plain": [
       "[1] \"CHP_407-FFPE\"    \"CHP_407-01_PBMC\" \"CHP_407-02_PBMC\""
      ]
     },
     "metadata": {},
     "output_type": "display_data"
    }
   ],
   "source": [
    "unique(cdr3df$samplename)"
   ]
  },
  {
   "cell_type": "code",
   "execution_count": 14,
   "metadata": {},
   "outputs": [
    {
     "name": "stderr",
     "output_type": "stream",
     "text": [
      "list of samples to track clones: \n"
     ]
    },
    {
     "name": "stdout",
     "output_type": "stream",
     "text": [
      "[1] CHP_407-FFPE    CHP_407-01_PBMC CHP_407-02_PBMC\n",
      "Levels: CHP_407-FFPE CHP_407-01_PBMC CHP_407-02_PBMC\n"
     ]
    },
    {
     "name": "stderr",
     "output_type": "stream",
     "text": [
      "Total number of recurring clonotypes: \n"
     ]
    },
    {
     "name": "stdout",
     "output_type": "stream",
     "text": [
      "[1] 1\n"
     ]
    },
    {
     "name": "stderr",
     "output_type": "stream",
     "text": [
      "these are what we color: \n"
     ]
    },
    {
     "name": "stdout",
     "output_type": "stream",
     "text": [
      "CASSYSIDQEFNEKLFF \n",
      "        \"#BCB3B3\" \n"
     ]
    },
    {
     "data": {
      "text/html": [
       "<strong>pdf:</strong> 2"
      ],
      "text/latex": [
       "\\textbf{pdf:} 2"
      ],
      "text/markdown": [
       "**pdf:** 2"
      ],
      "text/plain": [
       "pdf \n",
       "  2 "
      ]
     },
     "metadata": {},
     "output_type": "display_data"
    }
   ],
   "source": [
    "cdr3df$samplename <- factor(cdr3df$samplename, levels = c(\"CHP_407-FFPE\", \"CHP_407-01_PBMC\", \"CHP_407-02_PBMC\"))\n",
    "\n",
    "plot_clonetracks.fx(cdr3df, plotpath, \"TRB\", \"cloneFraction\", 0)"
   ]
  },
  {
   "cell_type": "markdown",
   "metadata": {},
   "source": [
    "### 404 ERMS"
   ]
  },
  {
   "cell_type": "code",
   "execution_count": 15,
   "metadata": {},
   "outputs": [
    {
     "name": "stderr",
     "output_type": "stream",
     "text": [
      "duplicated sequences:\n"
     ]
    },
    {
     "name": "stdout",
     "output_type": "stream",
     "text": [
      "character(0)\n"
     ]
    },
    {
     "name": "stderr",
     "output_type": "stream",
     "text": [
      "my files:\n"
     ]
    },
    {
     "name": "stdout",
     "output_type": "stream",
     "text": [
      "[1] \"batchFFPE/ds_batchFFPE/CLONES_TRBCHP_404_B-FFPE-DNA_2000000.txt\"\n",
      "[2] \"batch11/CLONES_TRBCHP_404-01_PBMC_DNA_2000000.txt\"              \n",
      "[3] \"batch11/CLONES_TRBCHP_404-02_PBMC_DNA_2000000.txt\"              \n"
     ]
    },
    {
     "name": "stderr",
     "output_type": "stream",
     "text": [
      "Total recovered clonotypes:\n"
     ]
    },
    {
     "name": "stdout",
     "output_type": "stream",
     "text": [
      "[1] 529\n"
     ]
    },
    {
     "name": "stderr",
     "output_type": "stream",
     "text": [
      "Total out-of-frame clonotypes:\n"
     ]
    },
    {
     "name": "stdout",
     "output_type": "stream",
     "text": [
      "[1] 93\n"
     ]
    },
    {
     "name": "stderr",
     "output_type": "stream",
     "text": [
      "Total clonotypes with stop codon:\n"
     ]
    },
    {
     "name": "stdout",
     "output_type": "stream",
     "text": [
      "[1] 13\n"
     ]
    },
    {
     "name": "stderr",
     "output_type": "stream",
     "text": [
      "Total productive clonotypes:\n"
     ]
    },
    {
     "name": "stdout",
     "output_type": "stream",
     "text": [
      "[1] 423\n"
     ]
    },
    {
     "name": "stderr",
     "output_type": "stream",
     "text": [
      "Output contains all clonotypes\n"
     ]
    }
   ],
   "source": [
    "ffpefile <- ds_flelst_chp_ffpe[grepl(\"404_B\", ds_flelst_chp_ffpe)]\n",
    "pbmcfiles <- ds_flelst_chp_PBMC[grepl(\"404\", ds_flelst_chp_PBMC)]\n",
    "tmp <- c(ffpefile, pbmcfiles)\n",
    "    \n",
    "cdr3df <- cdr3_dataframe.fx(datapath, \"TRB\", tmp, \"total\")\n",
    "cdr3df$samplename <- gsub(\"_DNA_2000000.txt\", \"\", cdr3df$samplename)\n",
    "cdr3df$samplename <- gsub(\"-DNA_2000000.txt\", \"\", cdr3df$samplename)\n",
    "cdr3df$samplename <- gsub(\"TRB\", \"\", cdr3df$samplename)"
   ]
  },
  {
   "cell_type": "code",
   "execution_count": 16,
   "metadata": {},
   "outputs": [
    {
     "data": {
      "text/html": [
       "<ol class=list-inline>\n",
       "\t<li>'CHP_404_B-FFPE'</li>\n",
       "\t<li>'CHP_404-01_PBMC'</li>\n",
       "\t<li>'CHP_404-02_PBMC'</li>\n",
       "</ol>\n"
      ],
      "text/latex": [
       "\\begin{enumerate*}\n",
       "\\item 'CHP\\_404\\_B-FFPE'\n",
       "\\item 'CHP\\_404-01\\_PBMC'\n",
       "\\item 'CHP\\_404-02\\_PBMC'\n",
       "\\end{enumerate*}\n"
      ],
      "text/markdown": [
       "1. 'CHP_404_B-FFPE'\n",
       "2. 'CHP_404-01_PBMC'\n",
       "3. 'CHP_404-02_PBMC'\n",
       "\n",
       "\n"
      ],
      "text/plain": [
       "[1] \"CHP_404_B-FFPE\"  \"CHP_404-01_PBMC\" \"CHP_404-02_PBMC\""
      ]
     },
     "metadata": {},
     "output_type": "display_data"
    }
   ],
   "source": [
    "unique(cdr3df$samplename)"
   ]
  },
  {
   "cell_type": "code",
   "execution_count": 17,
   "metadata": {},
   "outputs": [
    {
     "name": "stderr",
     "output_type": "stream",
     "text": [
      "list of samples to track clones: \n"
     ]
    },
    {
     "name": "stdout",
     "output_type": "stream",
     "text": [
      "[1] CHP_404_B-FFPE  CHP_404-01_PBMC CHP_404-02_PBMC\n",
      "Levels: CHP_404_B-FFPE CHP_404-01_PBMC CHP_404-02_PBMC\n"
     ]
    },
    {
     "name": "stderr",
     "output_type": "stream",
     "text": [
      "Total number of recurring clonotypes: \n"
     ]
    },
    {
     "name": "stdout",
     "output_type": "stream",
     "text": [
      "[1] 1\n"
     ]
    },
    {
     "name": "stderr",
     "output_type": "stream",
     "text": [
      "these are what we color: \n"
     ]
    },
    {
     "name": "stdout",
     "output_type": "stream",
     "text": [
      "CASSFIGAEYVRETQYF \n",
      "        \"#BCB3B3\" \n"
     ]
    },
    {
     "data": {
      "text/html": [
       "<strong>pdf:</strong> 2"
      ],
      "text/latex": [
       "\\textbf{pdf:} 2"
      ],
      "text/markdown": [
       "**pdf:** 2"
      ],
      "text/plain": [
       "pdf \n",
       "  2 "
      ]
     },
     "metadata": {},
     "output_type": "display_data"
    }
   ],
   "source": [
    "cdr3df$samplename <- factor(cdr3df$samplename, levels = c(\"CHP_404_B-FFPE\", \"CHP_404-01_PBMC\", \"CHP_404-02_PBMC\"))\n",
    "\n",
    "plot_clonetracks.fx(cdr3df, plotpath, \"TRB\", \"cloneFraction\", 0)"
   ]
  },
  {
   "cell_type": "code",
   "execution_count": null,
   "metadata": {},
   "outputs": [],
   "source": []
  },
  {
   "cell_type": "markdown",
   "metadata": {},
   "source": [
    "### 394 ERMS"
   ]
  },
  {
   "cell_type": "code",
   "execution_count": 18,
   "metadata": {},
   "outputs": [
    {
     "name": "stderr",
     "output_type": "stream",
     "text": [
      "duplicated sequences:\n"
     ]
    },
    {
     "name": "stdout",
     "output_type": "stream",
     "text": [
      "character(0)\n"
     ]
    },
    {
     "name": "stderr",
     "output_type": "stream",
     "text": [
      "my files:\n"
     ]
    },
    {
     "name": "stdout",
     "output_type": "stream",
     "text": [
      "[1] \"batchFFPE/ds_batchFFPE/CLONES_TRBCHP_394-FFPE-DNA_S4_2000000.txt\"\n",
      "[2] \"batch8/ds_batch8/CLONES_TRBCHP_394-01-PBMC-DNA_2000000.txt\"      \n",
      "[3] \"batch8/ds_batch8/CLONES_TRBCHP_394-04-PBMC-DNA_2000000.txt\"      \n"
     ]
    },
    {
     "name": "stderr",
     "output_type": "stream",
     "text": [
      "Total recovered clonotypes:\n"
     ]
    },
    {
     "name": "stdout",
     "output_type": "stream",
     "text": [
      "[1] 93\n"
     ]
    },
    {
     "name": "stderr",
     "output_type": "stream",
     "text": [
      "Total out-of-frame clonotypes:\n"
     ]
    },
    {
     "name": "stdout",
     "output_type": "stream",
     "text": [
      "[1] 13\n"
     ]
    },
    {
     "name": "stderr",
     "output_type": "stream",
     "text": [
      "Total clonotypes with stop codon:\n"
     ]
    },
    {
     "name": "stdout",
     "output_type": "stream",
     "text": [
      "[1] 2\n"
     ]
    },
    {
     "name": "stderr",
     "output_type": "stream",
     "text": [
      "Total productive clonotypes:\n"
     ]
    },
    {
     "name": "stdout",
     "output_type": "stream",
     "text": [
      "[1] 78\n"
     ]
    },
    {
     "name": "stderr",
     "output_type": "stream",
     "text": [
      "Output contains all clonotypes\n"
     ]
    }
   ],
   "source": [
    "ffpefile <- ds_flelst_chp_ffpe[grepl(\"394\", ds_flelst_chp_ffpe)]\n",
    "pbmcfiles <- ds_flelst_chp_PBMC[grepl(\"394\", ds_flelst_chp_PBMC)]\n",
    "tmp <- c(ffpefile, pbmcfiles)\n",
    "    \n",
    "cdr3df <- cdr3_dataframe.fx(datapath, \"TRB\", tmp, \"total\")\n",
    "cdr3df$samplename <- gsub(\"-DNA_2000000.txt\", \"\", cdr3df$samplename)\n",
    "cdr3df$samplename <- gsub(\"-DNA_S4_2000000.txt\", \"\", cdr3df$samplename)\n",
    "cdr3df$samplename <- gsub(\"TRB\", \"\", cdr3df$samplename)"
   ]
  },
  {
   "cell_type": "code",
   "execution_count": 19,
   "metadata": {},
   "outputs": [
    {
     "data": {
      "text/html": [
       "<ol class=list-inline>\n",
       "\t<li>'CHP_394-FFPE'</li>\n",
       "\t<li>'CHP_394-01-PBMC'</li>\n",
       "\t<li>'CHP_394-04-PBMC'</li>\n",
       "</ol>\n"
      ],
      "text/latex": [
       "\\begin{enumerate*}\n",
       "\\item 'CHP\\_394-FFPE'\n",
       "\\item 'CHP\\_394-01-PBMC'\n",
       "\\item 'CHP\\_394-04-PBMC'\n",
       "\\end{enumerate*}\n"
      ],
      "text/markdown": [
       "1. 'CHP_394-FFPE'\n",
       "2. 'CHP_394-01-PBMC'\n",
       "3. 'CHP_394-04-PBMC'\n",
       "\n",
       "\n"
      ],
      "text/plain": [
       "[1] \"CHP_394-FFPE\"    \"CHP_394-01-PBMC\" \"CHP_394-04-PBMC\""
      ]
     },
     "metadata": {},
     "output_type": "display_data"
    }
   ],
   "source": [
    "unique(cdr3df$samplename)"
   ]
  },
  {
   "cell_type": "code",
   "execution_count": 20,
   "metadata": {},
   "outputs": [
    {
     "name": "stderr",
     "output_type": "stream",
     "text": [
      "list of samples to track clones: \n"
     ]
    },
    {
     "name": "stdout",
     "output_type": "stream",
     "text": [
      "[1] CHP_394-FFPE    CHP_394-01-PBMC CHP_394-04-PBMC\n",
      "Levels: CHP_394-FFPE CHP_394-01-PBMC CHP_394-04-PBMC\n"
     ]
    },
    {
     "name": "stderr",
     "output_type": "stream",
     "text": [
      "Total number of recurring clonotypes: \n"
     ]
    },
    {
     "name": "stdout",
     "output_type": "stream",
     "text": [
      "[1] 1\n"
     ]
    },
    {
     "name": "stderr",
     "output_type": "stream",
     "text": [
      "these are what we color: \n"
     ]
    },
    {
     "name": "stdout",
     "output_type": "stream",
     "text": [
      "CASSPGTSANEQFF \n",
      "     \"#BCB3B3\" \n"
     ]
    },
    {
     "data": {
      "text/html": [
       "<strong>pdf:</strong> 2"
      ],
      "text/latex": [
       "\\textbf{pdf:} 2"
      ],
      "text/markdown": [
       "**pdf:** 2"
      ],
      "text/plain": [
       "pdf \n",
       "  2 "
      ]
     },
     "metadata": {},
     "output_type": "display_data"
    }
   ],
   "source": [
    "cdr3df$samplename <- factor(cdr3df$samplename, levels = c(\"CHP_394-FFPE\", \"CHP_394-01-PBMC\", \"CHP_394-04-PBMC\"))\n",
    "\n",
    "plot_clonetracks.fx(cdr3df, plotpath, \"TRB\", \"cloneFraction\", 0)"
   ]
  },
  {
   "cell_type": "markdown",
   "metadata": {},
   "source": [
    "### 372 BL"
   ]
  },
  {
   "cell_type": "code",
   "execution_count": 21,
   "metadata": {},
   "outputs": [
    {
     "name": "stderr",
     "output_type": "stream",
     "text": [
      "duplicated sequences:\n"
     ]
    },
    {
     "name": "stdout",
     "output_type": "stream",
     "text": [
      "character(0)\n"
     ]
    },
    {
     "name": "stderr",
     "output_type": "stream",
     "text": [
      "my files:\n"
     ]
    },
    {
     "name": "stdout",
     "output_type": "stream",
     "text": [
      "[1] \"batchFFPE/ds_batchFFPE/CLONES_TRBCHP_372-FFPE-DNA_S1_2000000.txt\"    \n",
      "[2] \"batch_reseq/ds_batch_reseq/CLONES_TRBCHP_372-01-PBMC-DNA_2000000.txt\"\n"
     ]
    },
    {
     "name": "stderr",
     "output_type": "stream",
     "text": [
      "Total recovered clonotypes:\n"
     ]
    },
    {
     "name": "stdout",
     "output_type": "stream",
     "text": [
      "[1] 11\n"
     ]
    },
    {
     "name": "stderr",
     "output_type": "stream",
     "text": [
      "Total out-of-frame clonotypes:\n"
     ]
    },
    {
     "name": "stdout",
     "output_type": "stream",
     "text": [
      "[1] 1\n"
     ]
    },
    {
     "name": "stderr",
     "output_type": "stream",
     "text": [
      "Total clonotypes with stop codon:\n"
     ]
    },
    {
     "name": "stdout",
     "output_type": "stream",
     "text": [
      "[1] 0\n"
     ]
    },
    {
     "name": "stderr",
     "output_type": "stream",
     "text": [
      "Total productive clonotypes:\n"
     ]
    },
    {
     "name": "stdout",
     "output_type": "stream",
     "text": [
      "[1] 10\n"
     ]
    },
    {
     "name": "stderr",
     "output_type": "stream",
     "text": [
      "Output contains all clonotypes\n"
     ]
    }
   ],
   "source": [
    "ffpefile <- ds_flelst_chp_ffpe[grepl(\"372\", ds_flelst_chp_ffpe)]\n",
    "pbmcfiles <- ds_flelst_chp_PBMC[grepl(\"372\", ds_flelst_chp_PBMC)]\n",
    "tmp <- c(ffpefile, pbmcfiles)\n",
    "    \n",
    "cdr3df <- cdr3_dataframe.fx(datapath, \"TRB\", tmp, \"total\")\n",
    "cdr3df$samplename <- gsub(\"-DNA_2000000.txt\", \"\", cdr3df$samplename)\n",
    "cdr3df$samplename <- gsub(\"-DNA_S1_2000000.txt\", \"\", cdr3df$samplename)\n",
    "cdr3df$samplename <- gsub(\"TRB\", \"\", cdr3df$samplename)"
   ]
  },
  {
   "cell_type": "code",
   "execution_count": 169,
   "metadata": {},
   "outputs": [
    {
     "data": {
      "text/html": [
       "<ol class=list-inline>\n",
       "\t<li>'CHP_372-FFPE'</li>\n",
       "\t<li>'CHP_372-01-PBMC'</li>\n",
       "</ol>\n"
      ],
      "text/latex": [
       "\\begin{enumerate*}\n",
       "\\item 'CHP\\_372-FFPE'\n",
       "\\item 'CHP\\_372-01-PBMC'\n",
       "\\end{enumerate*}\n"
      ],
      "text/markdown": [
       "1. 'CHP_372-FFPE'\n",
       "2. 'CHP_372-01-PBMC'\n",
       "\n",
       "\n"
      ],
      "text/plain": [
       "[1] \"CHP_372-FFPE\"    \"CHP_372-01-PBMC\""
      ]
     },
     "metadata": {},
     "output_type": "display_data"
    }
   ],
   "source": [
    "unique(cdr3df$samplename)"
   ]
  },
  {
   "cell_type": "code",
   "execution_count": 22,
   "metadata": {},
   "outputs": [
    {
     "name": "stderr",
     "output_type": "stream",
     "text": [
      "list of samples to track clones: \n"
     ]
    },
    {
     "name": "stdout",
     "output_type": "stream",
     "text": [
      "[1] CHP_372-FFPE    CHP_372-01-PBMC\n",
      "Levels: CHP_372-FFPE CHP_372-01-PBMC\n"
     ]
    },
    {
     "name": "stderr",
     "output_type": "stream",
     "text": [
      "Total number of recurring clonotypes: \n"
     ]
    },
    {
     "name": "stdout",
     "output_type": "stream",
     "text": [
      "[1] 0\n"
     ]
    },
    {
     "name": "stderr",
     "output_type": "stream",
     "text": [
      "these are what we color: \n"
     ]
    },
    {
     "name": "stdout",
     "output_type": "stream",
     "text": [
      "named character(0)\n"
     ]
    },
    {
     "data": {
      "text/html": [
       "<strong>pdf:</strong> 2"
      ],
      "text/latex": [
       "\\textbf{pdf:} 2"
      ],
      "text/markdown": [
       "**pdf:** 2"
      ],
      "text/plain": [
       "pdf \n",
       "  2 "
      ]
     },
     "metadata": {},
     "output_type": "display_data"
    }
   ],
   "source": [
    "cdr3df$samplename <- factor(cdr3df$samplename, levels = c(\"CHP_372-FFPE\", \"CHP_372-01-PBMC\"))\n",
    "\n",
    "plot_clonetracks.fx(cdr3df, plotpath, \"TRB\", \"cloneFraction\", 0)"
   ]
  },
  {
   "cell_type": "markdown",
   "metadata": {},
   "source": [
    "### 370 ALCL"
   ]
  },
  {
   "cell_type": "code",
   "execution_count": 23,
   "metadata": {},
   "outputs": [
    {
     "name": "stderr",
     "output_type": "stream",
     "text": [
      "duplicated sequences:\n"
     ]
    },
    {
     "name": "stdout",
     "output_type": "stream",
     "text": [
      "[1] \"CASRGLSGNIQYF\"\n"
     ]
    },
    {
     "name": "stderr",
     "output_type": "stream",
     "text": [
      "my files:\n"
     ]
    },
    {
     "name": "stdout",
     "output_type": "stream",
     "text": [
      "[1] \"batchFFPE/ds_batchFFPE/CLONES_TRBCHP_370-FFPE-DNA_S5_2000000.txt\"\n",
      "[2] \"batch3/ds_batch3/CLONES_TRBCHP_370-02-PBMC-DNA_2000000.txt\"      \n",
      "[3] \"batch7/ds_batch7/CLONES_TRBCHP_370-01-PBMC-DNA_2000000.txt\"      \n",
      "[4] \"batch7/ds_batch7/CLONES_TRBCHP_370-05-PBMC-DNA_2000000.txt\"      \n",
      "[5] \"batch8/ds_batch8/CLONES_TRBCHP_370-03-PBMC-DNA_2000000.txt\"      \n"
     ]
    },
    {
     "name": "stderr",
     "output_type": "stream",
     "text": [
      "Total recovered clonotypes:\n"
     ]
    },
    {
     "name": "stdout",
     "output_type": "stream",
     "text": [
      "[1] 1127\n"
     ]
    },
    {
     "name": "stderr",
     "output_type": "stream",
     "text": [
      "Total out-of-frame clonotypes:\n"
     ]
    },
    {
     "name": "stdout",
     "output_type": "stream",
     "text": [
      "[1] 194\n"
     ]
    },
    {
     "name": "stderr",
     "output_type": "stream",
     "text": [
      "Total clonotypes with stop codon:\n"
     ]
    },
    {
     "name": "stdout",
     "output_type": "stream",
     "text": [
      "[1] 25\n"
     ]
    },
    {
     "name": "stderr",
     "output_type": "stream",
     "text": [
      "Total productive clonotypes:\n"
     ]
    },
    {
     "name": "stdout",
     "output_type": "stream",
     "text": [
      "[1] 908\n"
     ]
    },
    {
     "name": "stderr",
     "output_type": "stream",
     "text": [
      "Output contains all clonotypes\n"
     ]
    }
   ],
   "source": [
    "ffpefile <- ds_flelst_chp_ffpe[grepl(\"370\", ds_flelst_chp_ffpe)]\n",
    "pbmcfiles <- ds_flelst_chp_PBMC[grepl(\"370\", ds_flelst_chp_PBMC)]\n",
    "tmp <- c(ffpefile, pbmcfiles)\n",
    "    \n",
    "cdr3df <- cdr3_dataframe.fx(datapath, \"TRB\", tmp, \"total\")\n",
    "cdr3df$samplename <- gsub(\"-DNA_2000000.txt\", \"\", cdr3df$samplename)\n",
    "cdr3df$samplename <- gsub(\"-DNA_S5_2000000.txt\", \"\", cdr3df$samplename)\n",
    "cdr3df$samplename <- gsub(\"TRB\", \"\", cdr3df$samplename)"
   ]
  },
  {
   "cell_type": "code",
   "execution_count": 24,
   "metadata": {},
   "outputs": [
    {
     "data": {
      "text/html": [
       "<ol class=list-inline>\n",
       "\t<li>'CHP_370-FFPE'</li>\n",
       "\t<li>'CHP_370-02-PBMC'</li>\n",
       "\t<li>'CHP_370-01-PBMC'</li>\n",
       "\t<li>'CHP_370-05-PBMC'</li>\n",
       "\t<li>'CHP_370-03-PBMC'</li>\n",
       "</ol>\n"
      ],
      "text/latex": [
       "\\begin{enumerate*}\n",
       "\\item 'CHP\\_370-FFPE'\n",
       "\\item 'CHP\\_370-02-PBMC'\n",
       "\\item 'CHP\\_370-01-PBMC'\n",
       "\\item 'CHP\\_370-05-PBMC'\n",
       "\\item 'CHP\\_370-03-PBMC'\n",
       "\\end{enumerate*}\n"
      ],
      "text/markdown": [
       "1. 'CHP_370-FFPE'\n",
       "2. 'CHP_370-02-PBMC'\n",
       "3. 'CHP_370-01-PBMC'\n",
       "4. 'CHP_370-05-PBMC'\n",
       "5. 'CHP_370-03-PBMC'\n",
       "\n",
       "\n"
      ],
      "text/plain": [
       "[1] \"CHP_370-FFPE\"    \"CHP_370-02-PBMC\" \"CHP_370-01-PBMC\" \"CHP_370-05-PBMC\"\n",
       "[5] \"CHP_370-03-PBMC\""
      ]
     },
     "metadata": {},
     "output_type": "display_data"
    }
   ],
   "source": [
    "unique(cdr3df$samplename)"
   ]
  },
  {
   "cell_type": "code",
   "execution_count": 25,
   "metadata": {},
   "outputs": [
    {
     "name": "stderr",
     "output_type": "stream",
     "text": [
      "list of samples to track clones: \n"
     ]
    },
    {
     "name": "stdout",
     "output_type": "stream",
     "text": [
      "[1] CHP_370-FFPE    CHP_370-02-PBMC CHP_370-01-PBMC CHP_370-05-PBMC\n",
      "[5] CHP_370-03-PBMC\n",
      "5 Levels: CHP_370-FFPE CHP_370-01-PBMC CHP_370-02-PBMC ... CHP_370-05-PBMC\n"
     ]
    },
    {
     "name": "stderr",
     "output_type": "stream",
     "text": [
      "Total number of recurring clonotypes: \n"
     ]
    },
    {
     "name": "stdout",
     "output_type": "stream",
     "text": [
      "[1] 5\n"
     ]
    },
    {
     "name": "stderr",
     "output_type": "stream",
     "text": [
      "these are what we color: \n"
     ]
    },
    {
     "name": "stdout",
     "output_type": "stream",
     "text": [
      "     CASRGLSGNIQYF CASSIGGTLWAGGTEAFF    CASSLGTLPNQPQHF   CASRSGGYSYNSPLHF \n",
      "         \"#BF9AC9\"          \"#B756D0\"          \"#A6E171\"          \"#DEAC78\" \n",
      "    CASSDSSGANVLTF \n",
      "         \"#A0D8CF\" \n"
     ]
    },
    {
     "data": {
      "text/html": [
       "<strong>pdf:</strong> 2"
      ],
      "text/latex": [
       "\\textbf{pdf:} 2"
      ],
      "text/markdown": [
       "**pdf:** 2"
      ],
      "text/plain": [
       "pdf \n",
       "  2 "
      ]
     },
     "metadata": {},
     "output_type": "display_data"
    }
   ],
   "source": [
    "cdr3df$samplename <- factor(cdr3df$samplename, levels = c(\"CHP_370-FFPE\", \"CHP_370-01-PBMC\", \n",
    "                                                          \"CHP_370-02-PBMC\", \"CHP_370-03-PBMC\", \n",
    "                                                          \"CHP_370-05-PBMC\"))\n",
    "\n",
    "plot_clonetracks.fx(cdr3df, plotpath, \"TRB\", \"cloneFraction\", 0)"
   ]
  },
  {
   "cell_type": "markdown",
   "metadata": {},
   "source": [
    "### 364 OS"
   ]
  },
  {
   "cell_type": "code",
   "execution_count": 29,
   "metadata": {},
   "outputs": [
    {
     "name": "stderr",
     "output_type": "stream",
     "text": [
      "duplicated sequences:\n"
     ]
    },
    {
     "name": "stdout",
     "output_type": "stream",
     "text": [
      "character(0)\n"
     ]
    },
    {
     "name": "stderr",
     "output_type": "stream",
     "text": [
      "my files:\n"
     ]
    },
    {
     "name": "stdout",
     "output_type": "stream",
     "text": [
      "[1] \"batchFFPE/ds_batchFFPE/CLONES_TRBCHP_364-FFPE-DNA_S1_2000000.txt\"\n",
      "[2] \"batch4/ds_batch4/CLONES_TRBCHP_364-01-PBMC-DNA_2000000.txt\"      \n",
      "[3] \"batch4/ds_batch4/CLONES_TRBCHP_364-02-PBMC-DNA_2000000.txt\"      \n",
      "[4] \"batch4/ds_batch4/CLONES_TRBCHP_364-04-PBMC-DNA_2000000.txt\"      \n"
     ]
    },
    {
     "name": "stderr",
     "output_type": "stream",
     "text": [
      "Total recovered clonotypes:\n"
     ]
    },
    {
     "name": "stdout",
     "output_type": "stream",
     "text": [
      "[1] 372\n"
     ]
    },
    {
     "name": "stderr",
     "output_type": "stream",
     "text": [
      "Total out-of-frame clonotypes:\n"
     ]
    },
    {
     "name": "stdout",
     "output_type": "stream",
     "text": [
      "[1] 75\n"
     ]
    },
    {
     "name": "stderr",
     "output_type": "stream",
     "text": [
      "Total clonotypes with stop codon:\n"
     ]
    },
    {
     "name": "stdout",
     "output_type": "stream",
     "text": [
      "[1] 9\n"
     ]
    },
    {
     "name": "stderr",
     "output_type": "stream",
     "text": [
      "Total productive clonotypes:\n"
     ]
    },
    {
     "name": "stdout",
     "output_type": "stream",
     "text": [
      "[1] 288\n"
     ]
    },
    {
     "name": "stderr",
     "output_type": "stream",
     "text": [
      "Output contains all clonotypes\n"
     ]
    }
   ],
   "source": [
    "ffpefile <- ds_flelst_chp_ffpe[grepl(\"364\", ds_flelst_chp_ffpe)]\n",
    "pbmcfiles <- ds_flelst_chp_PBMC[grepl(\"364\", ds_flelst_chp_PBMC)]\n",
    "tmp <- c(ffpefile, pbmcfiles)\n",
    "    \n",
    "cdr3df <- cdr3_dataframe.fx(datapath, \"TRB\", tmp, \"total\")\n",
    "cdr3df$samplename <- gsub(\"-DNA_2000000.txt\", \"\", cdr3df$samplename)\n",
    "cdr3df$samplename <- gsub(\"-DNA_S1_2000000.txt\", \"\", cdr3df$samplename)\n",
    "cdr3df$samplename <- gsub(\"TRB\", \"\", cdr3df$samplename)"
   ]
  },
  {
   "cell_type": "code",
   "execution_count": 30,
   "metadata": {},
   "outputs": [
    {
     "data": {
      "text/html": [
       "<ol class=list-inline>\n",
       "\t<li>'CHP_364-FFPE'</li>\n",
       "\t<li>'CHP_364-01-PBMC'</li>\n",
       "\t<li>'CHP_364-02-PBMC'</li>\n",
       "\t<li>'CHP_364-04-PBMC'</li>\n",
       "</ol>\n"
      ],
      "text/latex": [
       "\\begin{enumerate*}\n",
       "\\item 'CHP\\_364-FFPE'\n",
       "\\item 'CHP\\_364-01-PBMC'\n",
       "\\item 'CHP\\_364-02-PBMC'\n",
       "\\item 'CHP\\_364-04-PBMC'\n",
       "\\end{enumerate*}\n"
      ],
      "text/markdown": [
       "1. 'CHP_364-FFPE'\n",
       "2. 'CHP_364-01-PBMC'\n",
       "3. 'CHP_364-02-PBMC'\n",
       "4. 'CHP_364-04-PBMC'\n",
       "\n",
       "\n"
      ],
      "text/plain": [
       "[1] \"CHP_364-FFPE\"    \"CHP_364-01-PBMC\" \"CHP_364-02-PBMC\" \"CHP_364-04-PBMC\""
      ]
     },
     "metadata": {},
     "output_type": "display_data"
    }
   ],
   "source": [
    "unique(cdr3df$samplename)"
   ]
  },
  {
   "cell_type": "code",
   "execution_count": 31,
   "metadata": {},
   "outputs": [
    {
     "name": "stderr",
     "output_type": "stream",
     "text": [
      "list of samples to track clones: \n"
     ]
    },
    {
     "name": "stdout",
     "output_type": "stream",
     "text": [
      "[1] CHP_364-FFPE    CHP_364-01-PBMC CHP_364-02-PBMC CHP_364-04-PBMC\n",
      "Levels: CHP_364-FFPE CHP_364-01-PBMC CHP_364-02-PBMC CHP_364-04-PBMC\n"
     ]
    },
    {
     "name": "stderr",
     "output_type": "stream",
     "text": [
      "Total number of recurring clonotypes: \n"
     ]
    },
    {
     "name": "stdout",
     "output_type": "stream",
     "text": [
      "[1] 4\n"
     ]
    },
    {
     "name": "stderr",
     "output_type": "stream",
     "text": [
      "these are what we color: \n"
     ]
    },
    {
     "name": "stdout",
     "output_type": "stream",
     "text": [
      "      CASSLLEQPQHF CAISGPGTSGRAQDTQYF      CASSAGNTGELFF     CASSGLAGADTQYF \n",
      "         \"#9DD3D2\"          \"#B265D5\"          \"#D697A8\"          \"#B7DA75\" \n"
     ]
    },
    {
     "data": {
      "text/html": [
       "<strong>pdf:</strong> 2"
      ],
      "text/latex": [
       "\\textbf{pdf:} 2"
      ],
      "text/markdown": [
       "**pdf:** 2"
      ],
      "text/plain": [
       "pdf \n",
       "  2 "
      ]
     },
     "metadata": {},
     "output_type": "display_data"
    }
   ],
   "source": [
    "cdr3df$samplename <- factor(cdr3df$samplename, levels = c(\"CHP_364-FFPE\", \"CHP_364-01-PBMC\", \n",
    "                                                          \"CHP_364-02-PBMC\", \"CHP_364-04-PBMC\"))\n",
    "\n",
    "plot_clonetracks.fx(cdr3df, plotpath, \"TRB\", \"cloneFraction\", 0)"
   ]
  },
  {
   "cell_type": "markdown",
   "metadata": {},
   "source": [
    "### 361 HD"
   ]
  },
  {
   "cell_type": "code",
   "execution_count": 32,
   "metadata": {},
   "outputs": [
    {
     "name": "stderr",
     "output_type": "stream",
     "text": [
      "duplicated sequences:\n"
     ]
    },
    {
     "name": "stdout",
     "output_type": "stream",
     "text": [
      "[1] \"CASSYGQGANGYTF\"\n"
     ]
    },
    {
     "name": "stderr",
     "output_type": "stream",
     "text": [
      "my files:\n"
     ]
    },
    {
     "name": "stdout",
     "output_type": "stream",
     "text": [
      "[1] \"batchFFPE/ds_batchFFPE/CLONES_TRBCHP_361-FFPE-DNA_S1_2000000.txt\"\n",
      "[2] \"batch3/ds_batch3/CLONES_TRBCHP_361-02-PBMC-DNA_2000000.txt\"      \n",
      "[3] \"batch3/ds_batch3/CLONES_TRBCHP_361-03-PBMC-DNA_2000000.txt\"      \n",
      "[4] \"batch4/ds_batch4/CLONES_TRBCHP_361-01-PBMC-DNA_2000000.txt\"      \n",
      "[5] \"batch7/ds_batch7/CLONES_TRBCHP_361-04-PBMC-DNA_2000000.txt\"      \n"
     ]
    },
    {
     "name": "stderr",
     "output_type": "stream",
     "text": [
      "Total recovered clonotypes:\n"
     ]
    },
    {
     "name": "stdout",
     "output_type": "stream",
     "text": [
      "[1] 502\n"
     ]
    },
    {
     "name": "stderr",
     "output_type": "stream",
     "text": [
      "Total out-of-frame clonotypes:\n"
     ]
    },
    {
     "name": "stdout",
     "output_type": "stream",
     "text": [
      "[1] 98\n"
     ]
    },
    {
     "name": "stderr",
     "output_type": "stream",
     "text": [
      "Total clonotypes with stop codon:\n"
     ]
    },
    {
     "name": "stdout",
     "output_type": "stream",
     "text": [
      "[1] 6\n"
     ]
    },
    {
     "name": "stderr",
     "output_type": "stream",
     "text": [
      "Total productive clonotypes:\n"
     ]
    },
    {
     "name": "stdout",
     "output_type": "stream",
     "text": [
      "[1] 398\n"
     ]
    },
    {
     "name": "stderr",
     "output_type": "stream",
     "text": [
      "Output contains all clonotypes\n"
     ]
    }
   ],
   "source": [
    "ffpefile <- ds_flelst_chp_ffpe[grepl(\"361\", ds_flelst_chp_ffpe)]\n",
    "pbmcfiles <- ds_flelst_chp_PBMC[grepl(\"361\", ds_flelst_chp_PBMC)]\n",
    "tmp <- c(ffpefile, pbmcfiles)\n",
    "    \n",
    "cdr3df <- cdr3_dataframe.fx(datapath, \"TRB\", tmp, \"total\")\n",
    "\n",
    "cdr3df$samplename <- gsub(\"-DNA_2000000.txt\", \"\", cdr3df$samplename)\n",
    "cdr3df$samplename <- gsub(\"-DNA_S1_2000000.txt\", \"\", cdr3df$samplename)\n",
    "cdr3df$samplename <- gsub(\"TRB\", \"\", cdr3df$samplename)\n"
   ]
  },
  {
   "cell_type": "code",
   "execution_count": 33,
   "metadata": {},
   "outputs": [
    {
     "data": {
      "text/html": [
       "<ol class=list-inline>\n",
       "\t<li>'CHP_361-FFPE'</li>\n",
       "\t<li>'CHP_361-02-PBMC'</li>\n",
       "\t<li>'CHP_361-03-PBMC'</li>\n",
       "\t<li>'CHP_361-01-PBMC'</li>\n",
       "\t<li>'CHP_361-04-PBMC'</li>\n",
       "</ol>\n"
      ],
      "text/latex": [
       "\\begin{enumerate*}\n",
       "\\item 'CHP\\_361-FFPE'\n",
       "\\item 'CHP\\_361-02-PBMC'\n",
       "\\item 'CHP\\_361-03-PBMC'\n",
       "\\item 'CHP\\_361-01-PBMC'\n",
       "\\item 'CHP\\_361-04-PBMC'\n",
       "\\end{enumerate*}\n"
      ],
      "text/markdown": [
       "1. 'CHP_361-FFPE'\n",
       "2. 'CHP_361-02-PBMC'\n",
       "3. 'CHP_361-03-PBMC'\n",
       "4. 'CHP_361-01-PBMC'\n",
       "5. 'CHP_361-04-PBMC'\n",
       "\n",
       "\n"
      ],
      "text/plain": [
       "[1] \"CHP_361-FFPE\"    \"CHP_361-02-PBMC\" \"CHP_361-03-PBMC\" \"CHP_361-01-PBMC\"\n",
       "[5] \"CHP_361-04-PBMC\""
      ]
     },
     "metadata": {},
     "output_type": "display_data"
    }
   ],
   "source": [
    "unique(cdr3df$samplename)"
   ]
  },
  {
   "cell_type": "code",
   "execution_count": 35,
   "metadata": {},
   "outputs": [
    {
     "name": "stderr",
     "output_type": "stream",
     "text": [
      "list of samples to track clones: \n"
     ]
    },
    {
     "name": "stdout",
     "output_type": "stream",
     "text": [
      "[1] CHP_361-FFPE    CHP_361-02-PBMC CHP_361-03-PBMC CHP_361-01-PBMC\n",
      "[5] CHP_361-04-PBMC\n",
      "5 Levels: CHP_361-FFPE CHP_361-01-PBMC CHP_361-02-PBMC ... CHP_361-04-PBMC\n"
     ]
    },
    {
     "name": "stderr",
     "output_type": "stream",
     "text": [
      "Total number of recurring clonotypes: \n"
     ]
    },
    {
     "name": "stdout",
     "output_type": "stream",
     "text": [
      "[1] 0\n"
     ]
    },
    {
     "name": "stderr",
     "output_type": "stream",
     "text": [
      "these are what we color: \n"
     ]
    },
    {
     "name": "stdout",
     "output_type": "stream",
     "text": [
      "named character(0)\n"
     ]
    },
    {
     "data": {
      "text/html": [
       "<strong>pdf:</strong> 2"
      ],
      "text/latex": [
       "\\textbf{pdf:} 2"
      ],
      "text/markdown": [
       "**pdf:** 2"
      ],
      "text/plain": [
       "pdf \n",
       "  2 "
      ]
     },
     "metadata": {},
     "output_type": "display_data"
    }
   ],
   "source": [
    "cdr3df$samplename <- factor(cdr3df$samplename, levels = c(\"CHP_361-FFPE\", \"CHP_361-01-PBMC\", \"CHP_361-02-PBMC\",\n",
    "                                                         \"CHP_361-03-PBMC\", \"CHP_361-04-PBMC\"))\n",
    "\n",
    "plot_clonetracks.fx(cdr3df, plotpath, \"TRB\", \"cloneFraction\", 0)"
   ]
  },
  {
   "cell_type": "markdown",
   "metadata": {},
   "source": [
    "## Tumour and cfDNA"
   ]
  },
  {
   "cell_type": "code",
   "execution_count": 180,
   "metadata": {},
   "outputs": [
    {
     "data": {
      "text/html": [
       "<ol class=list-inline>\n",
       "\t<li>'361'</li>\n",
       "\t<li>'364'</li>\n",
       "\t<li>'370'</li>\n",
       "\t<li>'372'</li>\n",
       "\t<li>'380'</li>\n",
       "\t<li>'389'</li>\n",
       "\t<li>'390'</li>\n",
       "\t<li>'394'</li>\n",
       "\t<li>'400'</li>\n",
       "\t<li>'401'</li>\n",
       "\t<li>'404'</li>\n",
       "\t<li>'404'</li>\n",
       "\t<li>'407'</li>\n",
       "\t<li>'412'</li>\n",
       "\t<li>'418'</li>\n",
       "\t<li>'419'</li>\n",
       "</ol>\n"
      ],
      "text/latex": [
       "\\begin{enumerate*}\n",
       "\\item '361'\n",
       "\\item '364'\n",
       "\\item '370'\n",
       "\\item '372'\n",
       "\\item '380'\n",
       "\\item '389'\n",
       "\\item '390'\n",
       "\\item '394'\n",
       "\\item '400'\n",
       "\\item '401'\n",
       "\\item '404'\n",
       "\\item '404'\n",
       "\\item '407'\n",
       "\\item '412'\n",
       "\\item '418'\n",
       "\\item '419'\n",
       "\\end{enumerate*}\n"
      ],
      "text/markdown": [
       "1. '361'\n",
       "2. '364'\n",
       "3. '370'\n",
       "4. '372'\n",
       "5. '380'\n",
       "6. '389'\n",
       "7. '390'\n",
       "8. '394'\n",
       "9. '400'\n",
       "10. '401'\n",
       "11. '404'\n",
       "12. '404'\n",
       "13. '407'\n",
       "14. '412'\n",
       "15. '418'\n",
       "16. '419'\n",
       "\n",
       "\n"
      ],
      "text/plain": [
       " [1] \"361\" \"364\" \"370\" \"372\" \"380\" \"389\" \"390\" \"394\" \"400\" \"401\" \"404\" \"404\"\n",
       "[13] \"407\" \"412\" \"418\" \"419\""
      ]
     },
     "metadata": {},
     "output_type": "display_data"
    }
   ],
   "source": [
    "manifest_df_ffpe$patient"
   ]
  },
  {
   "cell_type": "markdown",
   "metadata": {},
   "source": [
    "I have to do all separately to make sure levels are correct\n",
    "\n",
    "364 no baseline cfdna"
   ]
  },
  {
   "cell_type": "markdown",
   "metadata": {},
   "source": [
    "### 361 HD"
   ]
  },
  {
   "cell_type": "code",
   "execution_count": 57,
   "metadata": {},
   "outputs": [
    {
     "name": "stderr",
     "output_type": "stream",
     "text": [
      "duplicated sequences:\n"
     ]
    },
    {
     "name": "stdout",
     "output_type": "stream",
     "text": [
      "[1] \"CASSYGQGANGYTF\"\n"
     ]
    },
    {
     "name": "stderr",
     "output_type": "stream",
     "text": [
      "my files:\n"
     ]
    },
    {
     "name": "stdout",
     "output_type": "stream",
     "text": [
      "[1] \"batchFFPE/ds_batchFFPE/CLONES_TRBCHP_361-FFPE-DNA_S1_2000000.txt\"\n",
      "[2] \"batch10_cfDNA/CLONES_TRBCHP_361-02_cfDNA_2000000.txt\"            \n",
      "[3] \"batch5_cfDNA/CLONES_TRBCHP_361-01_cfDNA_2000000.txt\"             \n",
      "[4] \"batch5_cfDNA/CLONES_TRBCHP_361-03_cfDNA_2000000.txt\"             \n",
      "[5] \"batch5_cfDNA/CLONES_TRBCHP_361-05_cfDNA_2000000.txt\"             \n"
     ]
    },
    {
     "name": "stderr",
     "output_type": "stream",
     "text": [
      "Total recovered clonotypes:\n"
     ]
    },
    {
     "name": "stdout",
     "output_type": "stream",
     "text": [
      "[1] 277\n"
     ]
    },
    {
     "name": "stderr",
     "output_type": "stream",
     "text": [
      "Total out-of-frame clonotypes:\n"
     ]
    },
    {
     "name": "stdout",
     "output_type": "stream",
     "text": [
      "[1] 53\n"
     ]
    },
    {
     "name": "stderr",
     "output_type": "stream",
     "text": [
      "Total clonotypes with stop codon:\n"
     ]
    },
    {
     "name": "stdout",
     "output_type": "stream",
     "text": [
      "[1] 6\n"
     ]
    },
    {
     "name": "stderr",
     "output_type": "stream",
     "text": [
      "Total productive clonotypes:\n"
     ]
    },
    {
     "name": "stdout",
     "output_type": "stream",
     "text": [
      "[1] 218\n"
     ]
    },
    {
     "name": "stderr",
     "output_type": "stream",
     "text": [
      "Output contains all clonotypes\n"
     ]
    }
   ],
   "source": [
    "ffpefile <- ds_flelst_chp_ffpe[grepl(\"361\", ds_flelst_chp_ffpe)]\n",
    "cfdnafiles <- ds_flelst_chp_cfDNA[grepl(\"361\", ds_flelst_chp_cfDNA)]\n",
    "tmp <- c(ffpefile, cfdnafiles)\n",
    "    \n",
    "cdr3df <- cdr3_dataframe.fx(datapath, \"TRB\", tmp, \"total\")\n",
    "cdr3df$samplename <- gsub(\"_2000000.txt\", \"\", cdr3df$samplename)\n",
    "cdr3df$samplename <- gsub(\"-DNA_S1\", \"\", cdr3df$samplename)\n",
    "cdr3df$samplename <- gsub(\"TRB\", \"\", cdr3df$samplename)"
   ]
  },
  {
   "cell_type": "code",
   "execution_count": 58,
   "metadata": {},
   "outputs": [
    {
     "data": {
      "text/html": [
       "<ol class=list-inline>\n",
       "\t<li>'CHP_361-FFPE'</li>\n",
       "\t<li>'CHP_361-02_cfDNA'</li>\n",
       "\t<li>'CHP_361-01_cfDNA'</li>\n",
       "\t<li>'CHP_361-03_cfDNA'</li>\n",
       "\t<li>'CHP_361-05_cfDNA'</li>\n",
       "</ol>\n"
      ],
      "text/latex": [
       "\\begin{enumerate*}\n",
       "\\item 'CHP\\_361-FFPE'\n",
       "\\item 'CHP\\_361-02\\_cfDNA'\n",
       "\\item 'CHP\\_361-01\\_cfDNA'\n",
       "\\item 'CHP\\_361-03\\_cfDNA'\n",
       "\\item 'CHP\\_361-05\\_cfDNA'\n",
       "\\end{enumerate*}\n"
      ],
      "text/markdown": [
       "1. 'CHP_361-FFPE'\n",
       "2. 'CHP_361-02_cfDNA'\n",
       "3. 'CHP_361-01_cfDNA'\n",
       "4. 'CHP_361-03_cfDNA'\n",
       "5. 'CHP_361-05_cfDNA'\n",
       "\n",
       "\n"
      ],
      "text/plain": [
       "[1] \"CHP_361-FFPE\"     \"CHP_361-02_cfDNA\" \"CHP_361-01_cfDNA\" \"CHP_361-03_cfDNA\"\n",
       "[5] \"CHP_361-05_cfDNA\""
      ]
     },
     "metadata": {},
     "output_type": "display_data"
    }
   ],
   "source": [
    "unique(cdr3df$samplename)"
   ]
  },
  {
   "cell_type": "code",
   "execution_count": 59,
   "metadata": {},
   "outputs": [
    {
     "name": "stderr",
     "output_type": "stream",
     "text": [
      "list of samples to track clones: \n"
     ]
    },
    {
     "name": "stdout",
     "output_type": "stream",
     "text": [
      "[1] CHP_361-FFPE     CHP_361-02_cfDNA CHP_361-01_cfDNA CHP_361-03_cfDNA\n",
      "[5] CHP_361-05_cfDNA\n",
      "5 Levels: CHP_361-FFPE CHP_361-01_cfDNA CHP_361-02_cfDNA ... CHP_361-05_cfDNA\n"
     ]
    },
    {
     "name": "stderr",
     "output_type": "stream",
     "text": [
      "Total number of recurring clonotypes: \n"
     ]
    },
    {
     "name": "stdout",
     "output_type": "stream",
     "text": [
      "[1] 1\n"
     ]
    },
    {
     "name": "stderr",
     "output_type": "stream",
     "text": [
      "these are what we color: \n"
     ]
    },
    {
     "name": "stdout",
     "output_type": "stream",
     "text": [
      "CASSVGDSPYEQYF \n",
      "     \"#BCB3B3\" \n"
     ]
    },
    {
     "data": {
      "text/html": [
       "<strong>pdf:</strong> 2"
      ],
      "text/latex": [
       "\\textbf{pdf:} 2"
      ],
      "text/markdown": [
       "**pdf:** 2"
      ],
      "text/plain": [
       "pdf \n",
       "  2 "
      ]
     },
     "metadata": {},
     "output_type": "display_data"
    }
   ],
   "source": [
    "cdr3df$samplename <- factor(cdr3df$samplename, levels = c(\"CHP_361-FFPE\", \"CHP_361-01_cfDNA\", \n",
    "                                                          \"CHP_361-02_cfDNA\", \"CHP_361-03_cfDNA\", \"CHP_361-05_cfDNA\"))\n",
    "\n",
    "plot_clonetracks.fx(cdr3df, plotpath, \"TRB\", \"cloneFraction\", 0)"
   ]
  },
  {
   "cell_type": "markdown",
   "metadata": {},
   "source": [
    "### 370 ALCL"
   ]
  },
  {
   "cell_type": "code",
   "execution_count": 71,
   "metadata": {},
   "outputs": [
    {
     "name": "stderr",
     "output_type": "stream",
     "text": [
      "duplicated sequences:\n"
     ]
    },
    {
     "name": "stdout",
     "output_type": "stream",
     "text": [
      "[1] \"CASRGLSGNIQYF\"\n"
     ]
    },
    {
     "name": "stderr",
     "output_type": "stream",
     "text": [
      "my files:\n"
     ]
    },
    {
     "name": "stdout",
     "output_type": "stream",
     "text": [
      "[1] \"batchFFPE/ds_batchFFPE/CLONES_TRBCHP_370-FFPE-DNA_S5_2000000.txt\"\n",
      "[2] \"batch1_cfDNA/CLONES_TRBCHP_370-01-cfDNA_2000000.txt\"             \n",
      "[3] \"batch3a9_cfDNA/CLONES_TRBCHP_370-03_cfDNA_2000000.txt\"           \n",
      "[4] \"batch3/ds_batch3/CLONES_TRBCHP_370-02-PBMC-DNA_2000000.txt\"      \n",
      "[5] \"batch7/ds_batch7/CLONES_TRBCHP_370-01-PBMC-DNA_2000000.txt\"      \n",
      "[6] \"batch7/ds_batch7/CLONES_TRBCHP_370-05-PBMC-DNA_2000000.txt\"      \n",
      "[7] \"batch8/ds_batch8/CLONES_TRBCHP_370-03-PBMC-DNA_2000000.txt\"      \n"
     ]
    },
    {
     "name": "stderr",
     "output_type": "stream",
     "text": [
      "Total recovered clonotypes:\n"
     ]
    },
    {
     "name": "stdout",
     "output_type": "stream",
     "text": [
      "[1] 1213\n"
     ]
    },
    {
     "name": "stderr",
     "output_type": "stream",
     "text": [
      "Total out-of-frame clonotypes:\n"
     ]
    },
    {
     "name": "stdout",
     "output_type": "stream",
     "text": [
      "[1] 212\n"
     ]
    },
    {
     "name": "stderr",
     "output_type": "stream",
     "text": [
      "Total clonotypes with stop codon:\n"
     ]
    },
    {
     "name": "stdout",
     "output_type": "stream",
     "text": [
      "[1] 25\n"
     ]
    },
    {
     "name": "stderr",
     "output_type": "stream",
     "text": [
      "Total productive clonotypes:\n"
     ]
    },
    {
     "name": "stdout",
     "output_type": "stream",
     "text": [
      "[1] 976\n"
     ]
    },
    {
     "name": "stderr",
     "output_type": "stream",
     "text": [
      "Output contains all clonotypes\n"
     ]
    }
   ],
   "source": [
    "ffpefile <- ds_flelst_chp_ffpe[grepl(\"370\", ds_flelst_chp_ffpe)]\n",
    "cfdnafiles <- ds_flelst_chp_cfDNA[grepl(\"370\", ds_flelst_chp_cfDNA)]\n",
    "pbmcfiles <- ds_flelst_chp_PBMC[grepl(\"370\", ds_flelst_chp_PBMC)]\n",
    "tmp <- c(ffpefile, cfdnafiles, pbmcfiles)\n",
    "    \n",
    "cdr3df <- cdr3_dataframe.fx(datapath, \"TRB\", tmp, \"total\")\n",
    "cdr3df$samplename <- gsub(\"_2000000.txt\", \"\", cdr3df$samplename)\n",
    "cdr3df$samplename <- gsub(\"-DNA_S5\", \"\", cdr3df$samplename)\n",
    "cdr3df$samplename <- gsub(\"TRB\", \"\", cdr3df$samplename)\n",
    "cdr3df$samplename <- gsub(\"-DNA\", \"\", cdr3df$samplename)"
   ]
  },
  {
   "cell_type": "code",
   "execution_count": 72,
   "metadata": {},
   "outputs": [
    {
     "data": {
      "text/plain": [
       "\n",
       "CHP_370-01-cfDNA  CHP_370-01-PBMC  CHP_370-02-PBMC CHP_370-03_cfDNA \n",
       "              72               17              553               14 \n",
       " CHP_370-03-PBMC  CHP_370-05-PBMC     CHP_370-FFPE \n",
       "             323              230                4 "
      ]
     },
     "metadata": {},
     "output_type": "display_data"
    }
   ],
   "source": [
    "table(cdr3df$samplename)"
   ]
  },
  {
   "cell_type": "code",
   "execution_count": 73,
   "metadata": {},
   "outputs": [],
   "source": [
    "cdr3df <- cdr3df[cdr3df$samplename != \"CHP_370-03_cfDNA\",]"
   ]
  },
  {
   "cell_type": "code",
   "execution_count": 74,
   "metadata": {},
   "outputs": [
    {
     "name": "stderr",
     "output_type": "stream",
     "text": [
      "list of samples to track clones: \n"
     ]
    },
    {
     "name": "stdout",
     "output_type": "stream",
     "text": [
      "[1] CHP_370-FFPE     CHP_370-01-cfDNA CHP_370-02-PBMC  CHP_370-01-PBMC \n",
      "[5] CHP_370-05-PBMC  CHP_370-03-PBMC \n",
      "6 Levels: CHP_370-FFPE CHP_370-01-PBMC CHP_370-01-cfDNA ... CHP_370-05-PBMC\n"
     ]
    },
    {
     "name": "stderr",
     "output_type": "stream",
     "text": [
      "Total number of recurring clonotypes: \n"
     ]
    },
    {
     "name": "stdout",
     "output_type": "stream",
     "text": [
      "[1] 8\n"
     ]
    },
    {
     "name": "stderr",
     "output_type": "stream",
     "text": [
      "these are what we color: \n"
     ]
    },
    {
     "name": "stdout",
     "output_type": "stream",
     "text": [
      "     CASRGLSGNIQYF   CASRKLAGMRTDTQYF CSARFRLAGGDGANVLTF   CASRSGGYSYNSPLHF \n",
      "         \"#A3E65C\"          \"#7EDBD9\"          \"#95DD9D\"          \"#B257DA\" \n",
      "CASSIGGTLWAGGTEAFF    CASSLGTLPNQPQHF     CASSDSSGANVLTF    CASRSGSYTNYEQYF \n",
      "         \"#D978A0\"          \"#D5CDC7\"          \"#DDB866\"          \"#999ED9\" \n"
     ]
    },
    {
     "data": {
      "text/html": [
       "<strong>pdf:</strong> 2"
      ],
      "text/latex": [
       "\\textbf{pdf:} 2"
      ],
      "text/markdown": [
       "**pdf:** 2"
      ],
      "text/plain": [
       "pdf \n",
       "  2 "
      ]
     },
     "metadata": {},
     "output_type": "display_data"
    }
   ],
   "source": [
    "cdr3df$samplename <- factor(cdr3df$samplename, levels = c(\"CHP_370-FFPE\", \"CHP_370-01-PBMC\", \n",
    "                                                          \"CHP_370-01-cfDNA\", \"CHP_370-02-PBMC\", \n",
    "                                                         \"CHP_370-03-PBMC\", \"CHP_370-05-PBMC\" ))\n",
    "\n",
    "plot_clonetracks.fx(cdr3df, plotpath, \"TRB\", \"cloneFraction\", 0)"
   ]
  },
  {
   "cell_type": "code",
   "execution_count": null,
   "metadata": {},
   "outputs": [],
   "source": []
  },
  {
   "cell_type": "code",
   "execution_count": 200,
   "metadata": {},
   "outputs": [
    {
     "name": "stderr",
     "output_type": "stream",
     "text": [
      "duplicated sequences:\n"
     ]
    },
    {
     "name": "stdout",
     "output_type": "stream",
     "text": [
      "[1] \"CASRGLSGNIQYF\"\n"
     ]
    },
    {
     "name": "stderr",
     "output_type": "stream",
     "text": [
      "my files:\n"
     ]
    },
    {
     "name": "stdout",
     "output_type": "stream",
     "text": [
      "[1] \"batchFFPE/ds_batchFFPE/CLONES_TRBCHP_370-FFPE-DNA_S5_2000000.txt\"\n",
      "[2] \"batch1_cfDNA/CLONES_TRBCHP_370-01-cfDNA_2000000.txt\"             \n",
      "[3] \"batch3a9_cfDNA/CLONES_TRBCHP_370-03_cfDNA_2000000.txt\"           \n"
     ]
    },
    {
     "name": "stderr",
     "output_type": "stream",
     "text": [
      "Total recovered clonotypes:\n"
     ]
    },
    {
     "name": "stdout",
     "output_type": "stream",
     "text": [
      "[1] 90\n"
     ]
    },
    {
     "name": "stderr",
     "output_type": "stream",
     "text": [
      "Total out-of-frame clonotypes:\n"
     ]
    },
    {
     "name": "stdout",
     "output_type": "stream",
     "text": [
      "[1] 18\n"
     ]
    },
    {
     "name": "stderr",
     "output_type": "stream",
     "text": [
      "Total clonotypes with stop codon:\n"
     ]
    },
    {
     "name": "stdout",
     "output_type": "stream",
     "text": [
      "[1] 0\n"
     ]
    },
    {
     "name": "stderr",
     "output_type": "stream",
     "text": [
      "Total productive clonotypes:\n"
     ]
    },
    {
     "name": "stdout",
     "output_type": "stream",
     "text": [
      "[1] 72\n"
     ]
    },
    {
     "name": "stderr",
     "output_type": "stream",
     "text": [
      "Output contains all clonotypes\n"
     ]
    }
   ],
   "source": [
    "ffpefile <- ds_flelst_chp_ffpe[grepl(\"370\", ds_flelst_chp_ffpe)]\n",
    "cfdnafiles <- ds_flelst_chp_cfDNA[grepl(\"370\", ds_flelst_chp_cfDNA)]\n",
    "tmp <- c(ffpefile, cfdnafiles)\n",
    "    \n",
    "cdr3df <- cdr3_dataframe.fx(datapath, \"TRB\", tmp, \"total\")\n",
    "cdr3df$samplename <- gsub(\"_2000000.txt\", \"\", cdr3df$samplename)\n",
    "cdr3df$samplename <- gsub(\"-DNA_S5\", \"\", cdr3df$samplename)\n",
    "cdr3df$samplename <- gsub(\"TRB\", \"\", cdr3df$samplename)"
   ]
  },
  {
   "cell_type": "code",
   "execution_count": 201,
   "metadata": {},
   "outputs": [
    {
     "data": {
      "text/html": [
       "<ol class=list-inline>\n",
       "\t<li>'CHP_370-FFPE'</li>\n",
       "\t<li>'CHP_370-01-cfDNA'</li>\n",
       "\t<li>'CHP_370-03_cfDNA'</li>\n",
       "</ol>\n"
      ],
      "text/latex": [
       "\\begin{enumerate*}\n",
       "\\item 'CHP\\_370-FFPE'\n",
       "\\item 'CHP\\_370-01-cfDNA'\n",
       "\\item 'CHP\\_370-03\\_cfDNA'\n",
       "\\end{enumerate*}\n"
      ],
      "text/markdown": [
       "1. 'CHP_370-FFPE'\n",
       "2. 'CHP_370-01-cfDNA'\n",
       "3. 'CHP_370-03_cfDNA'\n",
       "\n",
       "\n"
      ],
      "text/plain": [
       "[1] \"CHP_370-FFPE\"     \"CHP_370-01-cfDNA\" \"CHP_370-03_cfDNA\""
      ]
     },
     "metadata": {},
     "output_type": "display_data"
    }
   ],
   "source": [
    "unique(cdr3df$samplename)"
   ]
  },
  {
   "cell_type": "code",
   "execution_count": 202,
   "metadata": {},
   "outputs": [
    {
     "name": "stderr",
     "output_type": "stream",
     "text": [
      "list of samples to track clones: \n"
     ]
    },
    {
     "name": "stdout",
     "output_type": "stream",
     "text": [
      "[1] CHP_370-FFPE     CHP_370-01-cfDNA CHP_370-03_cfDNA\n",
      "Levels: CHP_370-FFPE CHP_370-01-cfDNA CHP_370-03_cfDNA\n"
     ]
    },
    {
     "name": "stderr",
     "output_type": "stream",
     "text": [
      "Total number of recurring clonotypes: \n"
     ]
    },
    {
     "name": "stdout",
     "output_type": "stream",
     "text": [
      "[1] 2\n"
     ]
    },
    {
     "name": "stderr",
     "output_type": "stream",
     "text": [
      "these are what we color: \n"
     ]
    },
    {
     "name": "stdout",
     "output_type": "stream",
     "text": [
      "   CASRGLSGNIQYF CASRKLAGMRTDTQYF \n",
      "       \"#BB82C9\"        \"#B8D49F\" \n"
     ]
    },
    {
     "data": {
      "text/html": [
       "<strong>pdf:</strong> 2"
      ],
      "text/latex": [
       "\\textbf{pdf:} 2"
      ],
      "text/markdown": [
       "**pdf:** 2"
      ],
      "text/plain": [
       "pdf \n",
       "  2 "
      ]
     },
     "metadata": {},
     "output_type": "display_data"
    }
   ],
   "source": [
    "cdr3df$samplename <- factor(cdr3df$samplename, levels = c(\"CHP_370-FFPE\", \"CHP_370-01-cfDNA\", \"CHP_370-03_cfDNA\"))\n",
    "\n",
    "plot_clonetracks.fx(cdr3df, plotpath, \"TRB\", \"cloneCount\", 0)"
   ]
  },
  {
   "cell_type": "markdown",
   "metadata": {},
   "source": [
    "### 372"
   ]
  },
  {
   "cell_type": "code",
   "execution_count": 238,
   "metadata": {},
   "outputs": [
    {
     "name": "stderr",
     "output_type": "stream",
     "text": [
      "duplicated sequences:\n"
     ]
    },
    {
     "name": "stdout",
     "output_type": "stream",
     "text": [
      "character(0)\n"
     ]
    },
    {
     "name": "stderr",
     "output_type": "stream",
     "text": [
      "my files:\n"
     ]
    },
    {
     "name": "stdout",
     "output_type": "stream",
     "text": [
      "[1] \"batchFFPE/ds_batchFFPE/CLONES_TRBCHP_372-FFPE-DNA_S1_2000000.txt\"\n",
      "[2] \"batch1_cfDNA/CLONES_TRBCHP_372-01-cfDNA_2000000.txt\"             \n"
     ]
    },
    {
     "name": "stderr",
     "output_type": "stream",
     "text": [
      "Total recovered clonotypes:\n"
     ]
    },
    {
     "name": "stdout",
     "output_type": "stream",
     "text": [
      "[1] 13\n"
     ]
    },
    {
     "name": "stderr",
     "output_type": "stream",
     "text": [
      "Total out-of-frame clonotypes:\n"
     ]
    },
    {
     "name": "stdout",
     "output_type": "stream",
     "text": [
      "[1] 2\n"
     ]
    },
    {
     "name": "stderr",
     "output_type": "stream",
     "text": [
      "Total clonotypes with stop codon:\n"
     ]
    },
    {
     "name": "stdout",
     "output_type": "stream",
     "text": [
      "[1] 0\n"
     ]
    },
    {
     "name": "stderr",
     "output_type": "stream",
     "text": [
      "Total productive clonotypes:\n"
     ]
    },
    {
     "name": "stdout",
     "output_type": "stream",
     "text": [
      "[1] 11\n"
     ]
    },
    {
     "name": "stderr",
     "output_type": "stream",
     "text": [
      "Output contains all clonotypes\n"
     ]
    }
   ],
   "source": [
    "ffpefile <- ds_flelst_chp_ffpe[grepl(\"372\", ds_flelst_chp_ffpe)]\n",
    "cfdnafiles <- ds_flelst_chp_cfDNA[grepl(\"372\", ds_flelst_chp_cfDNA)]\n",
    "tmp <- c(ffpefile, cfdnafiles)\n",
    "    \n",
    "cdr3df <- cdr3_dataframe.fx(datapath, \"TRB\", tmp, \"total\")\n",
    "cdr3df$samplename <- gsub(\"_2000000.txt\", \"\", cdr3df$samplename)\n",
    "cdr3df$samplename <- gsub(\"-DNA_S1\", \"\", cdr3df$samplename)\n",
    "cdr3df$samplename <- gsub(\"TRB\", \"\", cdr3df$samplename)"
   ]
  },
  {
   "cell_type": "code",
   "execution_count": 239,
   "metadata": {},
   "outputs": [
    {
     "data": {
      "text/html": [
       "<ol class=list-inline>\n",
       "\t<li>'CHP_372-FFPE'</li>\n",
       "\t<li>'CHP_372-01-cfDNA'</li>\n",
       "</ol>\n"
      ],
      "text/latex": [
       "\\begin{enumerate*}\n",
       "\\item 'CHP\\_372-FFPE'\n",
       "\\item 'CHP\\_372-01-cfDNA'\n",
       "\\end{enumerate*}\n"
      ],
      "text/markdown": [
       "1. 'CHP_372-FFPE'\n",
       "2. 'CHP_372-01-cfDNA'\n",
       "\n",
       "\n"
      ],
      "text/plain": [
       "[1] \"CHP_372-FFPE\"     \"CHP_372-01-cfDNA\""
      ]
     },
     "metadata": {},
     "output_type": "display_data"
    }
   ],
   "source": [
    "unique(cdr3df$samplename)"
   ]
  },
  {
   "cell_type": "code",
   "execution_count": 240,
   "metadata": {},
   "outputs": [
    {
     "name": "stderr",
     "output_type": "stream",
     "text": [
      "list of samples to track clones: \n"
     ]
    },
    {
     "name": "stdout",
     "output_type": "stream",
     "text": [
      "[1] CHP_372-FFPE     CHP_372-01-cfDNA\n",
      "Levels: CHP_372-FFPE CHP_372-01-cfDNA\n"
     ]
    },
    {
     "name": "stderr",
     "output_type": "stream",
     "text": [
      "Total number of recurring clonotypes: \n"
     ]
    },
    {
     "name": "stdout",
     "output_type": "stream",
     "text": [
      "[1] 0\n"
     ]
    },
    {
     "name": "stderr",
     "output_type": "stream",
     "text": [
      "these are what we color: \n"
     ]
    },
    {
     "name": "stdout",
     "output_type": "stream",
     "text": [
      "named character(0)\n"
     ]
    },
    {
     "data": {
      "text/html": [
       "<strong>pdf:</strong> 2"
      ],
      "text/latex": [
       "\\textbf{pdf:} 2"
      ],
      "text/markdown": [
       "**pdf:** 2"
      ],
      "text/plain": [
       "pdf \n",
       "  2 "
      ]
     },
     "metadata": {},
     "output_type": "display_data"
    }
   ],
   "source": [
    "cdr3df$samplename <- factor(cdr3df$samplename, levels = c(\"CHP_372-FFPE\", \"CHP_372-01-cfDNA\"))\n",
    "\n",
    "plot_clonetracks.fx(cdr3df, plotpath, \"TRB\", \"cloneCount\", 0)"
   ]
  },
  {
   "cell_type": "code",
   "execution_count": null,
   "metadata": {},
   "outputs": [],
   "source": []
  },
  {
   "cell_type": "markdown",
   "metadata": {},
   "source": [
    "### 401"
   ]
  },
  {
   "cell_type": "code",
   "execution_count": 232,
   "metadata": {},
   "outputs": [
    {
     "name": "stderr",
     "output_type": "stream",
     "text": [
      "duplicated sequences:\n"
     ]
    },
    {
     "name": "stdout",
     "output_type": "stream",
     "text": [
      "character(0)\n"
     ]
    },
    {
     "name": "stderr",
     "output_type": "stream",
     "text": [
      "my files:\n"
     ]
    },
    {
     "name": "stdout",
     "output_type": "stream",
     "text": [
      "[1] \"batchFFPE/ds_batchFFPE/CLONES_TRBCHP_401-FFPE-DNA_S1_2000000.txt\"\n",
      "[2] \"batch7_cfDNA/CLONES_TRBCHP_401-01_cfDNA_2000000.txt\"             \n"
     ]
    },
    {
     "name": "stderr",
     "output_type": "stream",
     "text": [
      "Total recovered clonotypes:\n"
     ]
    },
    {
     "name": "stdout",
     "output_type": "stream",
     "text": [
      "[1] 10\n"
     ]
    },
    {
     "name": "stderr",
     "output_type": "stream",
     "text": [
      "Total out-of-frame clonotypes:\n"
     ]
    },
    {
     "name": "stdout",
     "output_type": "stream",
     "text": [
      "[1] 0\n"
     ]
    },
    {
     "name": "stderr",
     "output_type": "stream",
     "text": [
      "Total clonotypes with stop codon:\n"
     ]
    },
    {
     "name": "stdout",
     "output_type": "stream",
     "text": [
      "[1] 0\n"
     ]
    },
    {
     "name": "stderr",
     "output_type": "stream",
     "text": [
      "Total productive clonotypes:\n"
     ]
    },
    {
     "name": "stdout",
     "output_type": "stream",
     "text": [
      "[1] 10\n"
     ]
    },
    {
     "name": "stderr",
     "output_type": "stream",
     "text": [
      "Output contains all clonotypes\n"
     ]
    }
   ],
   "source": [
    "ffpefile <- ds_flelst_chp_ffpe[grepl(\"401\", ds_flelst_chp_ffpe)]\n",
    "cfdnafiles <- ds_flelst_chp_cfDNA[grepl(\"401\", ds_flelst_chp_cfDNA)]\n",
    "tmp <- c(ffpefile, cfdnafiles)\n",
    "    \n",
    "cdr3df <- cdr3_dataframe.fx(datapath, \"TRB\", tmp, \"total\")\n",
    "cdr3df$samplename <- gsub(\"_2000000.txt\", \"\", cdr3df$samplename)\n",
    "cdr3df$samplename <- gsub(\"-DNA_S1\", \"\", cdr3df$samplename)\n",
    "cdr3df$samplename <- gsub(\"TRB\", \"\", cdr3df$samplename)"
   ]
  },
  {
   "cell_type": "code",
   "execution_count": 233,
   "metadata": {},
   "outputs": [
    {
     "data": {
      "text/html": [
       "<ol class=list-inline>\n",
       "\t<li>'CHP_401-FFPE'</li>\n",
       "\t<li>'CHP_401-01_cfDNA'</li>\n",
       "</ol>\n"
      ],
      "text/latex": [
       "\\begin{enumerate*}\n",
       "\\item 'CHP\\_401-FFPE'\n",
       "\\item 'CHP\\_401-01\\_cfDNA'\n",
       "\\end{enumerate*}\n"
      ],
      "text/markdown": [
       "1. 'CHP_401-FFPE'\n",
       "2. 'CHP_401-01_cfDNA'\n",
       "\n",
       "\n"
      ],
      "text/plain": [
       "[1] \"CHP_401-FFPE\"     \"CHP_401-01_cfDNA\""
      ]
     },
     "metadata": {},
     "output_type": "display_data"
    }
   ],
   "source": [
    "unique(cdr3df$samplename)"
   ]
  },
  {
   "cell_type": "code",
   "execution_count": 234,
   "metadata": {},
   "outputs": [
    {
     "name": "stderr",
     "output_type": "stream",
     "text": [
      "list of samples to track clones: \n"
     ]
    },
    {
     "name": "stdout",
     "output_type": "stream",
     "text": [
      "[1] CHP_401-FFPE     CHP_401-01_cfDNA\n",
      "Levels: CHP_401-FFPE CHP_401-01_cfDNA\n"
     ]
    },
    {
     "name": "stderr",
     "output_type": "stream",
     "text": [
      "Total number of recurring clonotypes: \n"
     ]
    },
    {
     "name": "stdout",
     "output_type": "stream",
     "text": [
      "[1] 0\n"
     ]
    },
    {
     "name": "stderr",
     "output_type": "stream",
     "text": [
      "these are what we color: \n"
     ]
    },
    {
     "name": "stdout",
     "output_type": "stream",
     "text": [
      "named character(0)\n"
     ]
    },
    {
     "data": {
      "text/html": [
       "<strong>pdf:</strong> 2"
      ],
      "text/latex": [
       "\\textbf{pdf:} 2"
      ],
      "text/markdown": [
       "**pdf:** 2"
      ],
      "text/plain": [
       "pdf \n",
       "  2 "
      ]
     },
     "metadata": {},
     "output_type": "display_data"
    }
   ],
   "source": [
    "cdr3df$samplename <- factor(cdr3df$samplename, levels = c(\"CHP_401-FFPE\", \"CHP_401-01_cfDNA\"))\n",
    "\n",
    "plot_clonetracks.fx(cdr3df, plotpath, \"TRB\", \"cloneCount\", 0)"
   ]
  },
  {
   "cell_type": "code",
   "execution_count": null,
   "metadata": {},
   "outputs": [],
   "source": []
  },
  {
   "cell_type": "markdown",
   "metadata": {},
   "source": [
    "### 380"
   ]
  },
  {
   "cell_type": "code",
   "execution_count": 235,
   "metadata": {},
   "outputs": [
    {
     "name": "stderr",
     "output_type": "stream",
     "text": [
      "duplicated sequences:\n"
     ]
    },
    {
     "name": "stdout",
     "output_type": "stream",
     "text": [
      "[1] \"CASSPSFTDTQYF\"\n"
     ]
    },
    {
     "name": "stderr",
     "output_type": "stream",
     "text": [
      "my files:\n"
     ]
    },
    {
     "name": "stdout",
     "output_type": "stream",
     "text": [
      "[1] \"batchFFPE/ds_batchFFPE/CLONES_TRBCHP_380-FFPE-DNA_S1_2000000.txt\"\n",
      "[2] \"batch5_cfDNA/CLONES_TRBCHP_380-01_cfDNA_2000000.txt\"             \n"
     ]
    },
    {
     "name": "stderr",
     "output_type": "stream",
     "text": [
      "Total recovered clonotypes:\n"
     ]
    },
    {
     "name": "stdout",
     "output_type": "stream",
     "text": [
      "[1] 207\n"
     ]
    },
    {
     "name": "stderr",
     "output_type": "stream",
     "text": [
      "Total out-of-frame clonotypes:\n"
     ]
    },
    {
     "name": "stdout",
     "output_type": "stream",
     "text": [
      "[1] 41\n"
     ]
    },
    {
     "name": "stderr",
     "output_type": "stream",
     "text": [
      "Total clonotypes with stop codon:\n"
     ]
    },
    {
     "name": "stdout",
     "output_type": "stream",
     "text": [
      "[1] 5\n"
     ]
    },
    {
     "name": "stderr",
     "output_type": "stream",
     "text": [
      "Total productive clonotypes:\n"
     ]
    },
    {
     "name": "stdout",
     "output_type": "stream",
     "text": [
      "[1] 161\n"
     ]
    },
    {
     "name": "stderr",
     "output_type": "stream",
     "text": [
      "Output contains all clonotypes\n"
     ]
    }
   ],
   "source": [
    "ffpefile <- ds_flelst_chp_ffpe[grepl(\"380\", ds_flelst_chp_ffpe)]\n",
    "cfdnafiles <- ds_flelst_chp_cfDNA[grepl(\"380\", ds_flelst_chp_cfDNA)]\n",
    "tmp <- c(ffpefile, cfdnafiles)\n",
    "    \n",
    "cdr3df <- cdr3_dataframe.fx(datapath, \"TRB\", tmp, \"total\")\n",
    "cdr3df$samplename <- gsub(\"_2000000.txt\", \"\", cdr3df$samplename)\n",
    "cdr3df$samplename <- gsub(\"-DNA_S1\", \"\", cdr3df$samplename)\n",
    "cdr3df$samplename <- gsub(\"TRB\", \"\", cdr3df$samplename)"
   ]
  },
  {
   "cell_type": "code",
   "execution_count": 79,
   "metadata": {},
   "outputs": [
    {
     "data": {
      "text/html": [
       "<ol class=list-inline>\n",
       "\t<li>'CHP_352-01-PBMC'</li>\n",
       "\t<li>'CHP_352-02-PBMC'</li>\n",
       "</ol>\n"
      ],
      "text/latex": [
       "\\begin{enumerate*}\n",
       "\\item 'CHP\\_352-01-PBMC'\n",
       "\\item 'CHP\\_352-02-PBMC'\n",
       "\\end{enumerate*}\n"
      ],
      "text/markdown": [
       "1. 'CHP_352-01-PBMC'\n",
       "2. 'CHP_352-02-PBMC'\n",
       "\n",
       "\n"
      ],
      "text/plain": [
       "[1] \"CHP_352-01-PBMC\" \"CHP_352-02-PBMC\""
      ]
     },
     "metadata": {},
     "output_type": "display_data"
    }
   ],
   "source": [
    "unique(cdr3df$samplename)"
   ]
  },
  {
   "cell_type": "code",
   "execution_count": 237,
   "metadata": {},
   "outputs": [
    {
     "name": "stderr",
     "output_type": "stream",
     "text": [
      "list of samples to track clones: \n"
     ]
    },
    {
     "name": "stdout",
     "output_type": "stream",
     "text": [
      "[1] CHP_380-FFPE     CHP_380-01_cfDNA\n",
      "Levels: CHP_380-FFPE CHP_380-01_cfDNA\n"
     ]
    },
    {
     "name": "stderr",
     "output_type": "stream",
     "text": [
      "Total number of recurring clonotypes: \n"
     ]
    },
    {
     "name": "stdout",
     "output_type": "stream",
     "text": [
      "[1] 0\n"
     ]
    },
    {
     "name": "stderr",
     "output_type": "stream",
     "text": [
      "these are what we color: \n"
     ]
    },
    {
     "name": "stdout",
     "output_type": "stream",
     "text": [
      "named character(0)\n"
     ]
    },
    {
     "data": {
      "text/html": [
       "<strong>pdf:</strong> 2"
      ],
      "text/latex": [
       "\\textbf{pdf:} 2"
      ],
      "text/markdown": [
       "**pdf:** 2"
      ],
      "text/plain": [
       "pdf \n",
       "  2 "
      ]
     },
     "metadata": {},
     "output_type": "display_data"
    }
   ],
   "source": [
    "cdr3df$samplename <- factor(cdr3df$samplename, levels = c(\"CHP_380-FFPE\", \"CHP_380-01_cfDNA\"))\n",
    "\n",
    "plot_clonetracks.fx(cdr3df, plotpath, \"TRB\", \"cloneCount\", 0)"
   ]
  },
  {
   "cell_type": "markdown",
   "metadata": {},
   "source": [
    "### Some plots"
   ]
  },
  {
   "cell_type": "code",
   "execution_count": 149,
   "metadata": {},
   "outputs": [
    {
     "name": "stderr",
     "output_type": "stream",
     "text": [
      "duplicated sequences:\n"
     ]
    },
    {
     "name": "stdout",
     "output_type": "stream",
     "text": [
      "character(0)\n"
     ]
    },
    {
     "name": "stderr",
     "output_type": "stream",
     "text": [
      "my files:\n"
     ]
    },
    {
     "name": "stdout",
     "output_type": "stream",
     "text": [
      "[1] \"batch8/ds_batch8/CLONES_TRBCHP_394-01-PBMC-DNA_2000000.txt\"      \n",
      "[2] \"batch8/ds_batch8/CLONES_TRBCHP_394-04-PBMC-DNA_2000000.txt\"      \n",
      "[3] \"batchFFPE/ds_batchFFPE/CLONES_TRBCHP_394-FFPE-DNA_S4_2000000.txt\"\n"
     ]
    },
    {
     "name": "stderr",
     "output_type": "stream",
     "text": [
      "Total recovered clonotypes:\n"
     ]
    },
    {
     "name": "stdout",
     "output_type": "stream",
     "text": [
      "[1] 93\n"
     ]
    },
    {
     "name": "stderr",
     "output_type": "stream",
     "text": [
      "Total out-of-frame clonotypes:\n"
     ]
    },
    {
     "name": "stdout",
     "output_type": "stream",
     "text": [
      "[1] 13\n"
     ]
    },
    {
     "name": "stderr",
     "output_type": "stream",
     "text": [
      "Total clonotypes with stop codon:\n"
     ]
    },
    {
     "name": "stdout",
     "output_type": "stream",
     "text": [
      "[1] 2\n"
     ]
    },
    {
     "name": "stderr",
     "output_type": "stream",
     "text": [
      "Total productive clonotypes:\n"
     ]
    },
    {
     "name": "stdout",
     "output_type": "stream",
     "text": [
      "[1] 78\n"
     ]
    },
    {
     "name": "stderr",
     "output_type": "stream",
     "text": [
      "Output contains all clonotypes\n"
     ]
    }
   ],
   "source": [
    "#cfdnafile <- ds_flelst_chp_cfDNA[grepl(\"394\", ds_flelst_chp_cfDNA)]\n",
    "    pbmcfile <- ds_flelst_chp_PBMC[grepl(\"394\", ds_flelst_chp_PBMC)]\n",
    "    ffpefile <- ds_flelst_chp_ffpe[grepl(\"394\", ds_flelst_chp_ffpe)]\n",
    "    tmp <- c(pbmcfile, ffpefile)\n",
    "    \n",
    "    cdr3df <- cdr3_dataframe.fx(datapath, \"TRB\", tmp, \"total\")\n",
    "    cdr3df$samplename <- gsub(\"TRB\", \"\", cdr3df$samplename)       \n",
    "    cdr3df$samplename <- gsub(\"-cfDNA.*\", \"-cfDNA\", cdr3df$samplename)\n",
    "    cdr3df$samplename <- gsub(\"_cfDNA.*\", \"-cfDNA\", cdr3df$samplename)\n",
    "    cdr3df$samplename <- gsub(\"-PBMC.*\", \"-PBMC\", cdr3df$samplename)\n",
    "    cdr3df$samplename <- gsub(\"_PBMC.*\", \"-PBMC\", cdr3df$samplename)\n",
    "    cdr3df$samplename <- gsub(\"_PBMC.*\", \"-PBMC\", cdr3df$samplename)\n",
    "    cdr3df$samplename <- gsub(\"-DNA_S4_2000000.txt\", \"\", cdr3df$samplename)"
   ]
  },
  {
   "cell_type": "code",
   "execution_count": 150,
   "metadata": {},
   "outputs": [
    {
     "data": {
      "text/plain": [
       "\n",
       "CHP_394-01-PBMC CHP_394-04-PBMC    CHP_394-FFPE \n",
       "              1              90               2 "
      ]
     },
     "metadata": {},
     "output_type": "display_data"
    }
   ],
   "source": [
    "table(   cdr3df$samplename)"
   ]
  },
  {
   "cell_type": "code",
   "execution_count": 151,
   "metadata": {},
   "outputs": [
    {
     "name": "stderr",
     "output_type": "stream",
     "text": [
      "list of samples to track clones: \n"
     ]
    },
    {
     "name": "stdout",
     "output_type": "stream",
     "text": [
      "[1] CHP_394-01-PBMC CHP_394-04-PBMC CHP_394-FFPE   \n",
      "Levels: CHP_394-FFPE CHP_394-01-PBMC CHP_394-04-PBMC\n"
     ]
    },
    {
     "name": "stderr",
     "output_type": "stream",
     "text": [
      "Total number of recurring clonotypes: \n"
     ]
    },
    {
     "name": "stdout",
     "output_type": "stream",
     "text": [
      "[1] 1\n"
     ]
    },
    {
     "name": "stderr",
     "output_type": "stream",
     "text": [
      "these are what we color: \n"
     ]
    },
    {
     "name": "stdout",
     "output_type": "stream",
     "text": [
      "CASSPGTSANEQFF \n",
      "     \"#BCB3B3\" \n"
     ]
    },
    {
     "data": {
      "text/html": [
       "<strong>pdf:</strong> 2"
      ],
      "text/latex": [
       "\\textbf{pdf:} 2"
      ],
      "text/markdown": [
       "**pdf:** 2"
      ],
      "text/plain": [
       "pdf \n",
       "  2 "
      ]
     },
     "metadata": {},
     "output_type": "display_data"
    }
   ],
   "source": [
    "cdr3df$samplename <- factor(cdr3df$samplename, levels = c(\"CHP_394-FFPE\", \"CHP_394-01-PBMC\", \n",
    "                                                             \"CHP_394-04-PBMC\" ))\n",
    "plot_clonetracks.fx(cdr3df, plotpath, \"TRB\", \"cloneFraction\", 0)"
   ]
  },
  {
   "cell_type": "code",
   "execution_count": null,
   "metadata": {},
   "outputs": [],
   "source": []
  },
  {
   "cell_type": "code",
   "execution_count": null,
   "metadata": {},
   "outputs": [],
   "source": []
  },
  {
   "cell_type": "code",
   "execution_count": 101,
   "metadata": {},
   "outputs": [
    {
     "name": "stderr",
     "output_type": "stream",
     "text": [
      "duplicated sequences:\n"
     ]
    },
    {
     "name": "stdout",
     "output_type": "stream",
     "text": [
      "character(0)\n"
     ]
    },
    {
     "name": "stderr",
     "output_type": "stream",
     "text": [
      "my files:\n"
     ]
    },
    {
     "name": "stdout",
     "output_type": "stream",
     "text": [
      "[1] \"batch_reseq/ds_batch_reseq/CLONES_TRBCHP_375-01-PBMC-DNA_2000000.txt\"\n",
      "[2] \"batch11/CLONES_TRBCHP_375-05_PBMC_DNA_2000000.txt\"                   \n",
      "[3] \"batch7/ds_batch7/CLONES_TRBCHP_375-02-PBMC-DNA_2000000.txt\"          \n",
      "[4] \"batch10_cfDNA/CLONES_TRBCHP_375-02_cfDNA_2000000.txt\"                \n"
     ]
    },
    {
     "name": "stderr",
     "output_type": "stream",
     "text": [
      "Total recovered clonotypes:\n"
     ]
    },
    {
     "name": "stdout",
     "output_type": "stream",
     "text": [
      "[1] 870\n"
     ]
    },
    {
     "name": "stderr",
     "output_type": "stream",
     "text": [
      "Total out-of-frame clonotypes:\n"
     ]
    },
    {
     "name": "stdout",
     "output_type": "stream",
     "text": [
      "[1] 173\n"
     ]
    },
    {
     "name": "stderr",
     "output_type": "stream",
     "text": [
      "Total clonotypes with stop codon:\n"
     ]
    },
    {
     "name": "stdout",
     "output_type": "stream",
     "text": [
      "[1] 24\n"
     ]
    },
    {
     "name": "stderr",
     "output_type": "stream",
     "text": [
      "Total productive clonotypes:\n"
     ]
    },
    {
     "name": "stdout",
     "output_type": "stream",
     "text": [
      "[1] 673\n"
     ]
    },
    {
     "name": "stderr",
     "output_type": "stream",
     "text": [
      "Output contains all clonotypes\n"
     ]
    }
   ],
   "source": [
    "cfdnafile <- ds_flelst_chp_cfDNA[grepl(\"375\", ds_flelst_chp_cfDNA)]\n",
    "    pbmcfile <- ds_flelst_chp_PBMC[grepl(\"375\", ds_flelst_chp_PBMC)]\n",
    "    tmp <- c(pbmcfile, cfdnafile)\n",
    "    \n",
    "    cdr3df <- cdr3_dataframe.fx(datapath, \"TRB\", tmp, \"total\")\n",
    "    cdr3df$samplename <- gsub(\"TRB\", \"\", cdr3df$samplename)       \n",
    "    cdr3df$samplename <- gsub(\"-cfDNA.*\", \"-cfDNA\", cdr3df$samplename)\n",
    "    cdr3df$samplename <- gsub(\"_cfDNA.*\", \"-cfDNA\", cdr3df$samplename)\n",
    "    cdr3df$samplename <- gsub(\"-PBMC.*\", \"-PBMC\", cdr3df$samplename)\n",
    "    cdr3df$samplename <- gsub(\"_PBMC.*\", \"-PBMC\", cdr3df$samplename)"
   ]
  },
  {
   "cell_type": "code",
   "execution_count": 102,
   "metadata": {},
   "outputs": [
    {
     "data": {
      "text/plain": [
       "\n",
       " CHP_375-01-PBMC CHP_375-02-cfDNA  CHP_375-02-PBMC  CHP_375-05-PBMC \n",
       "              11               15              611              233 "
      ]
     },
     "metadata": {},
     "output_type": "display_data"
    }
   ],
   "source": [
    "table(   cdr3df$samplename)"
   ]
  },
  {
   "cell_type": "code",
   "execution_count": 85,
   "metadata": {},
   "outputs": [
    {
     "name": "stderr",
     "output_type": "stream",
     "text": [
      "list of samples to track clones: \n"
     ]
    },
    {
     "name": "stdout",
     "output_type": "stream",
     "text": [
      "[1] CHP_375-01-PBMC  CHP_375-05-PBMC  CHP_375-02-PBMC  CHP_375-02-cfDNA\n",
      "Levels: CHP_375-01-PBMC CHP_375-02-PBMC CHP_375-02-cfDNA CHP_375-05-PBMC\n"
     ]
    },
    {
     "name": "stderr",
     "output_type": "stream",
     "text": [
      "Total number of recurring clonotypes: \n"
     ]
    },
    {
     "name": "stdout",
     "output_type": "stream",
     "text": [
      "[1] 5\n"
     ]
    },
    {
     "name": "stderr",
     "output_type": "stream",
     "text": [
      "these are what we color: \n"
     ]
    },
    {
     "name": "stdout",
     "output_type": "stream",
     "text": [
      "  CASSELAGGYNEQFF    CASSFAPGVSEQYF CASSPEFQGVSGNTIYF   CASSDSSGGANEQFF \n",
      "        \"#A3DAC9\"         \"#AFA7D7\"         \"#B2DD6E\"         \"#B95BD1\" \n",
      " CASSQGGR_PYNEQFF \n",
      "        \"#DF9383\" \n"
     ]
    },
    {
     "data": {
      "text/html": [
       "<strong>pdf:</strong> 2"
      ],
      "text/latex": [
       "\\textbf{pdf:} 2"
      ],
      "text/markdown": [
       "**pdf:** 2"
      ],
      "text/plain": [
       "pdf \n",
       "  2 "
      ]
     },
     "metadata": {},
     "output_type": "display_data"
    }
   ],
   "source": [
    "cdr3df$samplename <- factor(cdr3df$samplename, levels = c(\"CHP_375-01-PBMC\", \"CHP_375-02-PBMC\", \n",
    "                                                             \"CHP_375-02-cfDNA\", \"CHP_375-05-PBMC\"))\n",
    "plot_clonetracks.fx(cdr3df, plotpath, \"TRB\", \"cloneFraction\", 0)"
   ]
  },
  {
   "cell_type": "markdown",
   "metadata": {},
   "source": [
    "## Test"
   ]
  },
  {
   "cell_type": "code",
   "execution_count": 23,
   "metadata": {},
   "outputs": [],
   "source": [
    "    tmp <- ds_flelst_chp_PBMC[grepl(\"404\", ds_flelst_chp_PBMC)]"
   ]
  },
  {
   "cell_type": "code",
   "execution_count": 27,
   "metadata": {},
   "outputs": [
    {
     "name": "stderr",
     "output_type": "stream",
     "text": [
      "list of samples to track clones: \n"
     ]
    },
    {
     "name": "stdout",
     "output_type": "stream",
     "text": [
      "[1] \"TRBCHP_404-01_PBMC_DNA_2000000.txt\" \"TRBCHP_404-02_PBMC_DNA_2000000.txt\"\n"
     ]
    },
    {
     "name": "stderr",
     "output_type": "stream",
     "text": [
      "Total number of recurring clonotypes: \n"
     ]
    },
    {
     "name": "stdout",
     "output_type": "stream",
     "text": [
      "[1] 1\n"
     ]
    },
    {
     "name": "stderr",
     "output_type": "stream",
     "text": [
      "these are what we color: \n"
     ]
    },
    {
     "name": "stdout",
     "output_type": "stream",
     "text": [
      "TGTGCCAGCAGCTTCATAGGGGCTGAATATGTCCGAGAGACCCAGTACTTC \n",
      "                                          \"#BCB4AF\" \n"
     ]
    },
    {
     "data": {
      "text/html": [
       "<strong>pdf:</strong> 2"
      ],
      "text/latex": [
       "\\textbf{pdf:} 2"
      ],
      "text/markdown": [
       "**pdf:** 2"
      ],
      "text/plain": [
       "pdf \n",
       "  2 "
      ]
     },
     "metadata": {},
     "output_type": "display_data"
    }
   ],
   "source": [
    "    plot_clonetracks.fx(cdr3dftmp, plotpath, \"TRB\", \"cloneFraction\", 0)"
   ]
  },
  {
   "cell_type": "code",
   "execution_count": 25,
   "metadata": {},
   "outputs": [
    {
     "name": "stderr",
     "output_type": "stream",
     "text": [
      "my files:\n"
     ]
    },
    {
     "name": "stdout",
     "output_type": "stream",
     "text": [
      "[1] \"batch11/CLONES_TRBCHP_404-01_PBMC_DNA_2000000.txt\"\n",
      "[2] \"batch11/CLONES_TRBCHP_404-02_PBMC_DNA_2000000.txt\"\n"
     ]
    },
    {
     "name": "stderr",
     "output_type": "stream",
     "text": [
      "Total recovered clonotypes:\n"
     ]
    },
    {
     "name": "stdout",
     "output_type": "stream",
     "text": [
      "[1] 522\n"
     ]
    },
    {
     "name": "stderr",
     "output_type": "stream",
     "text": [
      "Total out-of-frame clonotypes:\n"
     ]
    },
    {
     "name": "stdout",
     "output_type": "stream",
     "text": [
      "[1] 92\n"
     ]
    },
    {
     "name": "stderr",
     "output_type": "stream",
     "text": [
      "Total clonotypes with stop codon:\n"
     ]
    },
    {
     "name": "stdout",
     "output_type": "stream",
     "text": [
      "[1] 13\n"
     ]
    },
    {
     "name": "stderr",
     "output_type": "stream",
     "text": [
      "Total productive clonotypes:\n"
     ]
    },
    {
     "name": "stdout",
     "output_type": "stream",
     "text": [
      "[1] 417\n"
     ]
    },
    {
     "name": "stderr",
     "output_type": "stream",
     "text": [
      "Output contains all clonotypes\n"
     ]
    }
   ],
   "source": [
    "cdr3dftmp <- cdr3_dataframe.fx(datapath, \"TRB\", tmp, \"total\")"
   ]
  },
  {
   "cell_type": "code",
   "execution_count": null,
   "metadata": {},
   "outputs": [],
   "source": [
    "for(pt in ptlist$Var1[ptlist$Freq > 2]){\n",
    "    print(pt)\n",
    "    tmp <- ds_flelst_chp_PBMC[grepl(pt, ds_flelst_chp_PBMC)]\n",
    "    cdr3df <- cdr3_dataframe.fx(datapath, \"TRB\", tmp, \"total\")\n",
    "    cdr3df$samplename <- gsub(\"-DNA.*\", \"\", cdr3df$samplename)\n",
    "    cdr3df$samplename <- gsub(\"_DNA.*\", \"\", cdr3df$samplename)\n",
    "    cdr3df$samplename <- gsub(\"TRB\", \"\", cdr3df$samplename)\n",
    "    plot_clonetracks.fx(cdr3df, plotpath, \"TRB\", \"cloneFraction\", 0)\n",
    "}"
   ]
  }
 ],
 "metadata": {
  "kernelspec": {
   "display_name": "R 4.0",
   "language": "R",
   "name": "ir40"
  },
  "language_info": {
   "codemirror_mode": "r",
   "file_extension": ".r",
   "mimetype": "text/x-r-source",
   "name": "R",
   "pygments_lexer": "r",
   "version": "4.0.3"
  },
  "toc": {
   "base_numbering": 1,
   "nav_menu": {},
   "number_sections": false,
   "sideBar": true,
   "skip_h1_title": false,
   "title_cell": "Table of Contents",
   "title_sidebar": "Contents",
   "toc_cell": true,
   "toc_position": {
    "height": "calc(100% - 180px)",
    "left": "10px",
    "top": "150px",
    "width": "217.301px"
   },
   "toc_section_display": true,
   "toc_window_display": true
  }
 },
 "nbformat": 4,
 "nbformat_minor": 2
}
