{
 "cells": [
  {
   "cell_type": "markdown",
   "metadata": {},
   "source": [
    "# Dependencies"
   ]
  },
  {
   "cell_type": "code",
   "execution_count": 1,
   "metadata": {
    "vscode": {
     "languageId": "r"
    }
   },
   "outputs": [],
   "source": [
    "pacman::p_load( dplyr)"
   ]
  },
  {
   "cell_type": "markdown",
   "metadata": {},
   "source": [
    "# Functions"
   ]
  },
  {
   "cell_type": "code",
   "execution_count": 2,
   "metadata": {
    "vscode": {
     "languageId": "r"
    }
   },
   "outputs": [],
   "source": [
    "sampletags_columns <- function(orig_df, grepvars) {\n",
    "    orig_df$index <- 1:nrow(orig_df) # add index column\n",
    "    orig_df$sample_tags <- paste0(orig_df$index,\",\",orig_df$sample_tags) # add index to sample_tags\n",
    "    splitsampletags <- strsplit(orig_df$sample_tags, split = \",\") # split sample_tags by comma into a list\n",
    "# for each sample_tag, extract the variables in grepvars as list\n",
    "    mydf <- lapply(splitsampletags, function(sampletag){ \n",
    "        y <- unlist(sampletag)\n",
    "        y <- trimws(y)\n",
    "        indx <- y[1] # first element is index\n",
    "        # for each variable in grepvars, extract the value if it exists, if not add NA\n",
    "        myvars <- lapply(grepvars, function(myvar){\n",
    "            ifelse(sum(grepl(myvar, y)) == 1, y[grepl(myvar, y)], NA) })\n",
    "        myvarsdf <- as.data.frame(myvars)\n",
    "        vardf <- cbind.data.frame(indx, myvarsdf)\n",
    "        colnames(vardf) <- c(\"index\", grepvars) # rename columns\n",
    "        return(vardf)\n",
    "    })\n",
    "    return(do.call(rbind, mydf)) # return a data frame\n",
    "}"
   ]
  },
  {
   "cell_type": "code",
   "execution_count": 3,
   "metadata": {
    "vscode": {
     "languageId": "r"
    }
   },
   "outputs": [],
   "source": [
    "source(\"/Users/anabbi/git/ped_CapTCRseq/R/ggplot2_theme.R\")\n",
    "source(\"/Users/anabbi/git/ped_CapTCRseq/R/color_schemes.R\")"
   ]
  },
  {
   "cell_type": "markdown",
   "metadata": {},
   "source": [
    "# Paths"
   ]
  },
  {
   "cell_type": "code",
   "execution_count": 4,
   "metadata": {
    "vscode": {
     "languageId": "r"
    }
   },
   "outputs": [],
   "source": [
    "datapath <- \"/Users/anabbi/OneDrive - UHN/Documents/INTERCEPT/Data/\"\n",
    "plotpath <- \"/Users/anabbi/OneDrive - UHN/Documents/INTERCEPT/Plots/\"\n",
    "manifestpath <- \"/Users/anabbi/OneDrive - UHN/Documents/INTERCEPT/Manifests/\"\n",
    "gitpath <- \"/Users/anabbi/git/ped_CapTCRseq/\""
   ]
  },
  {
   "cell_type": "code",
   "execution_count": 5,
   "metadata": {
    "vscode": {
     "languageId": "r"
    }
   },
   "outputs": [],
   "source": [
    "h4hpath <- \"/Users/anabbi/Desktop/H4H/INTERCEPT/\""
   ]
  },
  {
   "cell_type": "markdown",
   "metadata": {},
   "source": [
    "# Main"
   ]
  },
  {
   "attachments": {},
   "cell_type": "markdown",
   "metadata": {},
   "source": [
    "all metadata"
   ]
  },
  {
   "cell_type": "code",
   "execution_count": 6,
   "metadata": {
    "vscode": {
     "languageId": "r"
    }
   },
   "outputs": [
    {
     "name": "stderr",
     "output_type": "stream",
     "text": [
      "Warning message in load(file = paste0(datapath, \"capTCRseq/meta_div_TRB.RData\")):\n",
      "\"strings not representable in native encoding will be translated to UTF-8\"\n"
     ]
    }
   ],
   "source": [
    "load(file = paste0(datapath,\"capTCRseq/meta_div_TRB.RData\"))"
   ]
  },
  {
   "cell_type": "code",
   "execution_count": 7,
   "metadata": {
    "vscode": {
     "languageId": "r"
    }
   },
   "outputs": [],
   "source": [
    "carey <- read.table(file = paste0(h4hpath,\"Adaptive/Carey_Preterm2017/SampleOverview_11-23-2022_7-18-00_PM.tsv\"), \n",
    "sep = \"\\t\", header = T)"
   ]
  },
  {
   "cell_type": "code",
   "execution_count": 8,
   "metadata": {
    "vscode": {
     "languageId": "r"
    }
   },
   "outputs": [],
   "source": [
    "henderson <- read.table(file = paste0(h4hpath,\"Adaptive/Henderson_MIS2022/SampleOverview_11-23-2022_7-27-08_PM.tsv\"), \n",
    "sep = \"\\t\", header = T)"
   ]
  },
  {
   "cell_type": "code",
   "execution_count": 9,
   "metadata": {
    "vscode": {
     "languageId": "r"
    }
   },
   "outputs": [],
   "source": [
    "mitchell <- read.table(file = paste0(h4hpath,\"Adaptive/Mitchell_Michels2022/SampleOverview_11-23-2022_7-25-05_PM.tsv\"),\n",
    "sep = \"\\t\", header = T)"
   ]
  },
  {
   "cell_type": "code",
   "execution_count": 10,
   "metadata": {
    "vscode": {
     "languageId": "r"
    }
   },
   "outputs": [],
   "source": [
    "emerson <- read.table(file = paste0(h4hpath,\"Adaptive/emerson2017/SampleOverview_01-18-2023_8-18-39_PM.tsv\"),\n",
    "sep = \"\\t\", header = T)"
   ]
  },
  {
   "attachments": {},
   "cell_type": "markdown",
   "metadata": {},
   "source": [
    "Clean up mitchell metadata"
   ]
  },
  {
   "cell_type": "code",
   "execution_count": 11,
   "metadata": {
    "vscode": {
     "languageId": "r"
    }
   },
   "outputs": [],
   "source": [
    "mitchell_1 <- mitchell[ !grepl(\"Denver\",mitchell$sample_name), ]\n",
    "mitchell_Denver <- mitchell[ grepl(\"Denver\",mitchell$sample_name), ]"
   ]
  },
  {
   "cell_type": "code",
   "execution_count": 12,
   "metadata": {
    "vscode": {
     "languageId": "r"
    }
   },
   "outputs": [],
   "source": [
    "rownames(mitchell_Denver) <- 1:nrow(mitchell_Denver)"
   ]
  },
  {
   "cell_type": "code",
   "execution_count": 13,
   "metadata": {
    "vscode": {
     "languageId": "r"
    }
   },
   "outputs": [],
   "source": [
    "mitchellvars <- c(\"Years at visit\", \"Years at diagnosis\", \"Male|Female\",\n",
    "                \"Subject |Control \", \"Timepoint\", \"Subject\")"
   ]
  },
  {
   "cell_type": "code",
   "execution_count": 14,
   "metadata": {
    "vscode": {
     "languageId": "r"
    }
   },
   "outputs": [],
   "source": [
    "mitchell_1_tags <- sampletags_columns(mitchell_1, mitchellvars)\n",
    "mitchell_Denver_tags <- sampletags_columns(mitchell_Denver, c(\"Years at diagnosis\",\n",
    "\"Male|Female\", \"Type 1 Diabetes\"))"
   ]
  },
  {
   "cell_type": "code",
   "execution_count": 24,
   "metadata": {
    "vscode": {
     "languageId": "r"
    }
   },
   "outputs": [
    {
     "data": {
      "text/html": [
       "<table class=\"dataframe\">\n",
       "<caption>A data.frame: 6 x 30</caption>\n",
       "<thead>\n",
       "\t<tr><th></th><th scope=col>sample_name</th><th scope=col>total_templates</th><th scope=col>total_reads</th><th scope=col>productive_templates</th><th scope=col>total_productive_reads</th><th scope=col>fraction_productive</th><th scope=col>total_rearrangements</th><th scope=col>productive_rearrangements</th><th scope=col>productive_simpson_clonality</th><th scope=col>productive_clonality</th><th scope=col>...</th><th scope=col>total_t_cells</th><th scope=col>fraction_productive_of_cells</th><th scope=col>sample_cells_mass_estimate</th><th scope=col>fraction_productive_of_cells_mass_estimate</th><th scope=col>sample_amount_ng</th><th scope=col>species</th><th scope=col>product_subtype</th><th scope=col>counting_method</th><th scope=col>sku</th><th scope=col>test_name</th></tr>\n",
       "\t<tr><th></th><th scope=col>&lt;chr&gt;</th><th scope=col>&lt;int&gt;</th><th scope=col>&lt;chr&gt;</th><th scope=col>&lt;int&gt;</th><th scope=col>&lt;chr&gt;</th><th scope=col>&lt;dbl&gt;</th><th scope=col>&lt;int&gt;</th><th scope=col>&lt;int&gt;</th><th scope=col>&lt;dbl&gt;</th><th scope=col>&lt;dbl&gt;</th><th scope=col>...</th><th scope=col>&lt;chr&gt;</th><th scope=col>&lt;chr&gt;</th><th scope=col>&lt;chr&gt;</th><th scope=col>&lt;chr&gt;</th><th scope=col>&lt;chr&gt;</th><th scope=col>&lt;chr&gt;</th><th scope=col>&lt;chr&gt;</th><th scope=col>&lt;chr&gt;</th><th scope=col>&lt;lgl&gt;</th><th scope=col>&lt;lgl&gt;</th></tr>\n",
       "</thead>\n",
       "<tbody>\n",
       "\t<tr><th scope=row>1</th><td>Preterm_23_3  </td><td>46097</td><td>na    </td><td>33085</td><td>na    </td><td>0.7177</td><td>39962</td><td>27927</td><td>0.0077</td><td>0.0115</td><td>...</td><td>no data</td><td>no data</td><td>34559</td><td>0.957348</td><td>224.6400</td><td>Human</td><td>Survey</td><td>v3</td><td>NA</td><td>NA</td></tr>\n",
       "\t<tr><th scope=row>2</th><td>Preterm_25_5  </td><td> 1738</td><td>na    </td><td> 1192</td><td>na    </td><td>0.6858</td><td> 1718</td><td> 1177</td><td>0.0294</td><td>0.0007</td><td>...</td><td>no data</td><td>no data</td><td>7975 </td><td>0.149467</td><td>51.8400 </td><td>Human</td><td>Survey</td><td>v3</td><td>NA</td><td>NA</td></tr>\n",
       "\t<tr><th scope=row>3</th><td>Preterm_26_B_2</td><td> 8668</td><td>na    </td><td> 6260</td><td>na    </td><td>0.7222</td><td> 8373</td><td> 6022</td><td>0.0132</td><td>0.0020</td><td>...</td><td>no data</td><td>no data</td><td>9452 </td><td>0.662294</td><td>61.4400 </td><td>Human</td><td>Survey</td><td>v3</td><td>NA</td><td>NA</td></tr>\n",
       "\t<tr><th scope=row>4</th><td>Preterm_27_4  </td><td>23400</td><td>na    </td><td>17021</td><td>na    </td><td>0.7274</td><td>22133</td><td>15959</td><td>0.0084</td><td>0.0038</td><td>...</td><td>no data</td><td>no data</td><td>14473</td><td>1.176052</td><td>94.0800 </td><td>Human</td><td>Survey</td><td>v3</td><td>NA</td><td>NA</td></tr>\n",
       "\t<tr><th scope=row>5</th><td>Adult_1_15-04 </td><td>15728</td><td>428862</td><td>13067</td><td>356304</td><td>0.8308</td><td>15373</td><td>12639</td><td>0.0192</td><td>0.0321</td><td>...</td><td>no data</td><td>no data</td><td>6990 </td><td>1.869385</td><td>45.4400 </td><td>Human</td><td>Survey</td><td>v2</td><td>NA</td><td>NA</td></tr>\n",
       "\t<tr><th scope=row>6</th><td>Adult_2_15-07 </td><td>13698</td><td>265350</td><td>11229</td><td>217528</td><td>0.8198</td><td>13595</td><td>11037</td><td>0.0114</td><td>0.0237</td><td>...</td><td>no data</td><td>no data</td><td>6252 </td><td>1.796065</td><td>40.6400 </td><td>Human</td><td>Survey</td><td>v2</td><td>NA</td><td>NA</td></tr>\n",
       "</tbody>\n",
       "</table>\n"
      ],
      "text/latex": [
       "A data.frame: 6 x 30\n",
       "\\begin{tabular}{r|lllllllllllllllllllll}\n",
       "  & sample\\_name & total\\_templates & total\\_reads & productive\\_templates & total\\_productive\\_reads & fraction\\_productive & total\\_rearrangements & productive\\_rearrangements & productive\\_simpson\\_clonality & productive\\_clonality & ... & total\\_t\\_cells & fraction\\_productive\\_of\\_cells & sample\\_cells\\_mass\\_estimate & fraction\\_productive\\_of\\_cells\\_mass\\_estimate & sample\\_amount\\_ng & species & product\\_subtype & counting\\_method & sku & test\\_name\\\\\n",
       "  & <chr> & <int> & <chr> & <int> & <chr> & <dbl> & <int> & <int> & <dbl> & <dbl> & ... & <chr> & <chr> & <chr> & <chr> & <chr> & <chr> & <chr> & <chr> & <lgl> & <lgl>\\\\\n",
       "\\hline\n",
       "\t1 & Preterm\\_23\\_3   & 46097 & na     & 33085 & na     & 0.7177 & 39962 & 27927 & 0.0077 & 0.0115 & ... & no data & no data & 34559 & 0.957348 & 224.6400 & Human & Survey & v3 & NA & NA\\\\\n",
       "\t2 & Preterm\\_25\\_5   &  1738 & na     &  1192 & na     & 0.6858 &  1718 &  1177 & 0.0294 & 0.0007 & ... & no data & no data & 7975  & 0.149467 & 51.8400  & Human & Survey & v3 & NA & NA\\\\\n",
       "\t3 & Preterm\\_26\\_B\\_2 &  8668 & na     &  6260 & na     & 0.7222 &  8373 &  6022 & 0.0132 & 0.0020 & ... & no data & no data & 9452  & 0.662294 & 61.4400  & Human & Survey & v3 & NA & NA\\\\\n",
       "\t4 & Preterm\\_27\\_4   & 23400 & na     & 17021 & na     & 0.7274 & 22133 & 15959 & 0.0084 & 0.0038 & ... & no data & no data & 14473 & 1.176052 & 94.0800  & Human & Survey & v3 & NA & NA\\\\\n",
       "\t5 & Adult\\_1\\_15-04  & 15728 & 428862 & 13067 & 356304 & 0.8308 & 15373 & 12639 & 0.0192 & 0.0321 & ... & no data & no data & 6990  & 1.869385 & 45.4400  & Human & Survey & v2 & NA & NA\\\\\n",
       "\t6 & Adult\\_2\\_15-07  & 13698 & 265350 & 11229 & 217528 & 0.8198 & 13595 & 11037 & 0.0114 & 0.0237 & ... & no data & no data & 6252  & 1.796065 & 40.6400  & Human & Survey & v2 & NA & NA\\\\\n",
       "\\end{tabular}\n"
      ],
      "text/markdown": [
       "\n",
       "A data.frame: 6 x 30\n",
       "\n",
       "| <!--/--> | sample_name &lt;chr&gt; | total_templates &lt;int&gt; | total_reads &lt;chr&gt; | productive_templates &lt;int&gt; | total_productive_reads &lt;chr&gt; | fraction_productive &lt;dbl&gt; | total_rearrangements &lt;int&gt; | productive_rearrangements &lt;int&gt; | productive_simpson_clonality &lt;dbl&gt; | productive_clonality &lt;dbl&gt; | ... ... | total_t_cells &lt;chr&gt; | fraction_productive_of_cells &lt;chr&gt; | sample_cells_mass_estimate &lt;chr&gt; | fraction_productive_of_cells_mass_estimate &lt;chr&gt; | sample_amount_ng &lt;chr&gt; | species &lt;chr&gt; | product_subtype &lt;chr&gt; | counting_method &lt;chr&gt; | sku &lt;lgl&gt; | test_name &lt;lgl&gt; |\n",
       "|---|---|---|---|---|---|---|---|---|---|---|---|---|---|---|---|---|---|---|---|---|---|\n",
       "| 1 | Preterm_23_3   | 46097 | na     | 33085 | na     | 0.7177 | 39962 | 27927 | 0.0077 | 0.0115 | ... | no data | no data | 34559 | 0.957348 | 224.6400 | Human | Survey | v3 | NA | NA |\n",
       "| 2 | Preterm_25_5   |  1738 | na     |  1192 | na     | 0.6858 |  1718 |  1177 | 0.0294 | 0.0007 | ... | no data | no data | 7975  | 0.149467 | 51.8400  | Human | Survey | v3 | NA | NA |\n",
       "| 3 | Preterm_26_B_2 |  8668 | na     |  6260 | na     | 0.7222 |  8373 |  6022 | 0.0132 | 0.0020 | ... | no data | no data | 9452  | 0.662294 | 61.4400  | Human | Survey | v3 | NA | NA |\n",
       "| 4 | Preterm_27_4   | 23400 | na     | 17021 | na     | 0.7274 | 22133 | 15959 | 0.0084 | 0.0038 | ... | no data | no data | 14473 | 1.176052 | 94.0800  | Human | Survey | v3 | NA | NA |\n",
       "| 5 | Adult_1_15-04  | 15728 | 428862 | 13067 | 356304 | 0.8308 | 15373 | 12639 | 0.0192 | 0.0321 | ... | no data | no data | 6990  | 1.869385 | 45.4400  | Human | Survey | v2 | NA | NA |\n",
       "| 6 | Adult_2_15-07  | 13698 | 265350 | 11229 | 217528 | 0.8198 | 13595 | 11037 | 0.0114 | 0.0237 | ... | no data | no data | 6252  | 1.796065 | 40.6400  | Human | Survey | v2 | NA | NA |\n",
       "\n"
      ],
      "text/plain": [
       "  sample_name    total_templates total_reads productive_templates\n",
       "1 Preterm_23_3   46097           na          33085               \n",
       "2 Preterm_25_5    1738           na           1192               \n",
       "3 Preterm_26_B_2  8668           na           6260               \n",
       "4 Preterm_27_4   23400           na          17021               \n",
       "5 Adult_1_15-04  15728           428862      13067               \n",
       "6 Adult_2_15-07  13698           265350      11229               \n",
       "  total_productive_reads fraction_productive total_rearrangements\n",
       "1 na                     0.7177              39962               \n",
       "2 na                     0.6858               1718               \n",
       "3 na                     0.7222               8373               \n",
       "4 na                     0.7274              22133               \n",
       "5 356304                 0.8308              15373               \n",
       "6 217528                 0.8198              13595               \n",
       "  productive_rearrangements productive_simpson_clonality productive_clonality\n",
       "1 27927                     0.0077                       0.0115              \n",
       "2  1177                     0.0294                       0.0007              \n",
       "3  6022                     0.0132                       0.0020              \n",
       "4 15959                     0.0084                       0.0038              \n",
       "5 12639                     0.0192                       0.0321              \n",
       "6 11037                     0.0114                       0.0237              \n",
       "  ... total_t_cells fraction_productive_of_cells sample_cells_mass_estimate\n",
       "1 ... no data       no data                      34559                     \n",
       "2 ... no data       no data                      7975                      \n",
       "3 ... no data       no data                      9452                      \n",
       "4 ... no data       no data                      14473                     \n",
       "5 ... no data       no data                      6990                      \n",
       "6 ... no data       no data                      6252                      \n",
       "  fraction_productive_of_cells_mass_estimate sample_amount_ng species\n",
       "1 0.957348                                   224.6400         Human  \n",
       "2 0.149467                                   51.8400          Human  \n",
       "3 0.662294                                   61.4400          Human  \n",
       "4 1.176052                                   94.0800          Human  \n",
       "5 1.869385                                   45.4400          Human  \n",
       "6 1.796065                                   40.6400          Human  \n",
       "  product_subtype counting_method sku test_name\n",
       "1 Survey          v3              NA  NA       \n",
       "2 Survey          v3              NA  NA       \n",
       "3 Survey          v3              NA  NA       \n",
       "4 Survey          v3              NA  NA       \n",
       "5 Survey          v2              NA  NA       \n",
       "6 Survey          v2              NA  NA       "
      ]
     },
     "metadata": {},
     "output_type": "display_data"
    }
   ],
   "source": [
    "head(carey)"
   ]
  },
  {
   "cell_type": "code",
   "execution_count": 16,
   "metadata": {
    "vscode": {
     "languageId": "r"
    }
   },
   "outputs": [],
   "source": [
    "carey_tags <- sampletags_columns(carey, c(\"Blood\",\n",
    "\"Male|Female\", \"FACS\", \"Influenza\", \"Lung\", \"Years|Adult\", \"Cord\"))"
   ]
  },
  {
   "cell_type": "code",
   "execution_count": 17,
   "metadata": {
    "vscode": {
     "languageId": "r"
    }
   },
   "outputs": [],
   "source": [
    "#cleanup emerson tags\n",
    "emerson$sample_tags <- gsub(\"35-60 Years\", \"\", emerson$sample_tags)\n",
    "emerson$sample_tags <- gsub(\"25-29 Years\", \"\", emerson$sample_tags)\n",
    "emerson$sample_tags <- gsub(\"35-39 Years\", \"\", emerson$sample_tags)\n",
    "emerson$sample_tags <- gsub(\"45-49 Years\", \"\", emerson$sample_tags)\n",
    "emerson$sample_tags <- gsub(\"55-59 Years\", \"\", emerson$sample_tags)\n",
    "emerson$sample_tags <- gsub(\"65-69 Years\", \"\", emerson$sample_tags)\n",
    "emerson$sample_tags <- gsub(\"45-65 Years\", \"\", emerson$sample_tags)\n",
    "emerson$sample_tags <- gsub(\"18-24 Years\", \"\", emerson$sample_tags)\n",
    "emerson$sample_tags <- gsub(\"18-35 Years\", \"\", emerson$sample_tags)\n",
    "emerson$sample_tags <- gsub(\"15-19 Years\", \"\", emerson$sample_tags)\n",
    "emerson$sample_tags <- gsub(\"20-24 Years\", \"\", emerson$sample_tags)\n",
    "emerson$sample_tags <- gsub(\"24-45 Years\", \"\", emerson$sample_tags)\n",
    "emerson$sample_tags <- gsub(\"12-18 Years\", \"\", emerson$sample_tags)\n",
    "emerson$sample_tags <- gsub(\"30-34 Years\", \"\", emerson$sample_tags)\n",
    "emerson$sample_tags <- gsub(\"40-44 Years\", \"\", emerson$sample_tags)\n",
    "emerson$sample_tags <- gsub(\"50-54 Years\", \"\", emerson$sample_tags)\n",
    "emerson$sample_tags <- gsub(\"60-64 Years\", \"\", emerson$sample_tags)\n",
    "emerson$sample_tags <- gsub(\"10-14 Years\", \"\", emerson$sample_tags)\n",
    "emerson$sample_tags <- gsub(\"00-02 Years\", \"\", emerson$sample_tags) \n",
    "emerson$sample_tags <- gsub(\"01-04 Years\", \"\", emerson$sample_tags)\n",
    "emerson$sample_tags <- gsub(\"60+\", \"\", emerson$sample_tags)"
   ]
  },
  {
   "cell_type": "code",
   "execution_count": 18,
   "metadata": {
    "vscode": {
     "languageId": "r"
    }
   },
   "outputs": [],
   "source": [
    "emerson_tags <- sampletags_columns(emerson, c(\"Cohort\", \n",
    "\"Non-Hispanic|Unknown Ethnicity\", \"Unknown racial|Caucasian|Islander\",\n",
    " \"Inferred CMV\", \"Years\",\n",
    "\"Male|Female\", \"Cytomegalovirus\"))"
   ]
  },
  {
   "cell_type": "code",
   "execution_count": 19,
   "metadata": {
    "vscode": {
     "languageId": "r"
    }
   },
   "outputs": [
    {
     "data": {
      "text/html": [
       "<table class=\"dataframe\">\n",
       "<caption>A data.frame: 6 x 8</caption>\n",
       "<thead>\n",
       "\t<tr><th></th><th scope=col>index</th><th scope=col>Cohort</th><th scope=col>Non-Hispanic|Unknown Ethnicity</th><th scope=col>Unknown racial|Caucasian|Islander</th><th scope=col>Inferred CMV</th><th scope=col>Years</th><th scope=col>Male|Female</th><th scope=col>Cytomegalovirus</th></tr>\n",
       "\t<tr><th></th><th scope=col>&lt;chr&gt;</th><th scope=col>&lt;chr&gt;</th><th scope=col>&lt;chr&gt;</th><th scope=col>&lt;chr&gt;</th><th scope=col>&lt;chr&gt;</th><th scope=col>&lt;chr&gt;</th><th scope=col>&lt;chr&gt;</th><th scope=col>&lt;chr&gt;</th></tr>\n",
       "</thead>\n",
       "<tbody>\n",
       "\t<tr><th scope=row>1</th><td>1</td><td>Cohort 01</td><td>Unknown Ethnicity     </td><td>Unknown racial group</td><td>NA            </td><td>NA      </td><td>NA  </td><td>NA               </td></tr>\n",
       "\t<tr><th scope=row>2</th><td>2</td><td>Cohort 01</td><td>Unknown Ethnicity     </td><td>Unknown racial group</td><td>NA            </td><td>NA      </td><td>NA  </td><td>NA               </td></tr>\n",
       "\t<tr><th scope=row>3</th><td>3</td><td>Cohort 01</td><td>Unknown Ethnicity     </td><td>Unknown racial group</td><td>NA            </td><td>NA      </td><td>NA  </td><td>NA               </td></tr>\n",
       "\t<tr><th scope=row>4</th><td>4</td><td>Cohort 01</td><td>Unknown Ethnicity     </td><td>Unknown racial group</td><td>NA            </td><td>NA      </td><td>NA  </td><td>NA               </td></tr>\n",
       "\t<tr><th scope=row>5</th><td>5</td><td>Cohort 01</td><td>Non-Hispanic or Latino</td><td>Caucasian           </td><td>Inferred CMV +</td><td>22 Years</td><td>Male</td><td>Cytomegalovirus +</td></tr>\n",
       "\t<tr><th scope=row>6</th><td>6</td><td>Cohort 01</td><td>Non-Hispanic or Latino</td><td>Caucasian           </td><td>Inferred CMV +</td><td>56 Years</td><td>Male</td><td>Cytomegalovirus +</td></tr>\n",
       "</tbody>\n",
       "</table>\n"
      ],
      "text/latex": [
       "A data.frame: 6 x 8\n",
       "\\begin{tabular}{r|llllllll}\n",
       "  & index & Cohort & Non-Hispanic\\textbar{}Unknown Ethnicity & Unknown racial\\textbar{}Caucasian\\textbar{}Islander & Inferred CMV & Years & Male\\textbar{}Female & Cytomegalovirus\\\\\n",
       "  & <chr> & <chr> & <chr> & <chr> & <chr> & <chr> & <chr> & <chr>\\\\\n",
       "\\hline\n",
       "\t1 & 1 & Cohort 01 & Unknown Ethnicity      & Unknown racial group & NA             & NA       & NA   & NA               \\\\\n",
       "\t2 & 2 & Cohort 01 & Unknown Ethnicity      & Unknown racial group & NA             & NA       & NA   & NA               \\\\\n",
       "\t3 & 3 & Cohort 01 & Unknown Ethnicity      & Unknown racial group & NA             & NA       & NA   & NA               \\\\\n",
       "\t4 & 4 & Cohort 01 & Unknown Ethnicity      & Unknown racial group & NA             & NA       & NA   & NA               \\\\\n",
       "\t5 & 5 & Cohort 01 & Non-Hispanic or Latino & Caucasian            & Inferred CMV + & 22 Years & Male & Cytomegalovirus +\\\\\n",
       "\t6 & 6 & Cohort 01 & Non-Hispanic or Latino & Caucasian            & Inferred CMV + & 56 Years & Male & Cytomegalovirus +\\\\\n",
       "\\end{tabular}\n"
      ],
      "text/markdown": [
       "\n",
       "A data.frame: 6 x 8\n",
       "\n",
       "| <!--/--> | index &lt;chr&gt; | Cohort &lt;chr&gt; | Non-Hispanic|Unknown Ethnicity &lt;chr&gt; | Unknown racial|Caucasian|Islander &lt;chr&gt; | Inferred CMV &lt;chr&gt; | Years &lt;chr&gt; | Male|Female &lt;chr&gt; | Cytomegalovirus &lt;chr&gt; |\n",
       "|---|---|---|---|---|---|---|---|---|\n",
       "| 1 | 1 | Cohort 01 | Unknown Ethnicity      | Unknown racial group | NA             | NA       | NA   | NA                |\n",
       "| 2 | 2 | Cohort 01 | Unknown Ethnicity      | Unknown racial group | NA             | NA       | NA   | NA                |\n",
       "| 3 | 3 | Cohort 01 | Unknown Ethnicity      | Unknown racial group | NA             | NA       | NA   | NA                |\n",
       "| 4 | 4 | Cohort 01 | Unknown Ethnicity      | Unknown racial group | NA             | NA       | NA   | NA                |\n",
       "| 5 | 5 | Cohort 01 | Non-Hispanic or Latino | Caucasian            | Inferred CMV + | 22 Years | Male | Cytomegalovirus + |\n",
       "| 6 | 6 | Cohort 01 | Non-Hispanic or Latino | Caucasian            | Inferred CMV + | 56 Years | Male | Cytomegalovirus + |\n",
       "\n"
      ],
      "text/plain": [
       "  index Cohort    Non-Hispanic|Unknown Ethnicity\n",
       "1 1     Cohort 01 Unknown Ethnicity             \n",
       "2 2     Cohort 01 Unknown Ethnicity             \n",
       "3 3     Cohort 01 Unknown Ethnicity             \n",
       "4 4     Cohort 01 Unknown Ethnicity             \n",
       "5 5     Cohort 01 Non-Hispanic or Latino        \n",
       "6 6     Cohort 01 Non-Hispanic or Latino        \n",
       "  Unknown racial|Caucasian|Islander Inferred CMV   Years    Male|Female\n",
       "1 Unknown racial group              NA             NA       NA         \n",
       "2 Unknown racial group              NA             NA       NA         \n",
       "3 Unknown racial group              NA             NA       NA         \n",
       "4 Unknown racial group              NA             NA       NA         \n",
       "5 Caucasian                         Inferred CMV + 22 Years Male       \n",
       "6 Caucasian                         Inferred CMV + 56 Years Male       \n",
       "  Cytomegalovirus  \n",
       "1 NA               \n",
       "2 NA               \n",
       "3 NA               \n",
       "4 NA               \n",
       "5 Cytomegalovirus +\n",
       "6 Cytomegalovirus +"
      ]
     },
     "metadata": {},
     "output_type": "display_data"
    }
   ],
   "source": [
    "head(emerson_tags)"
   ]
  },
  {
   "cell_type": "code",
   "execution_count": 20,
   "metadata": {
    "vscode": {
     "languageId": "r"
    }
   },
   "outputs": [],
   "source": [
    "henderson_tags <- as.data.frame(henderson$sample_tags)"
   ]
  },
  {
   "attachments": {},
   "cell_type": "markdown",
   "metadata": {},
   "source": [
    "# some clean up"
   ]
  },
  {
   "cell_type": "code",
   "execution_count": 21,
   "metadata": {
    "vscode": {
     "languageId": "r"
    }
   },
   "outputs": [],
   "source": [
    "henderson_tags$study <- \"Henderson\"\n",
    "henderson_tags$disease <- henderson_tags$`henderson$sample_tags`\n",
    "henderson_tags$sample_name <- henderson$sample_name\n",
    "henderson_tags$Agegroup <- NA\n",
    "henderson_tags$Sex <- NA"
   ]
  },
  {
   "attachments": {},
   "cell_type": "markdown",
   "metadata": {},
   "source": [
    "Acronyms for Henderson\n",
    "\n",
    "MIS-C, multisystem inflammatory syndrome in children; peds, pediatric; COVID-19, coronavirus disease 2019; KD, Kawasaki disease; sJIA, systemic juvenile idiopathic arthritis; MAS, macrophage activation syndrome."
   ]
  },
  {
   "cell_type": "code",
   "execution_count": 22,
   "metadata": {
    "vscode": {
     "languageId": "r"
    }
   },
   "outputs": [],
   "source": [
    "#carey$sample_name[ match(carey_tags$index, rownames(carey)) ]"
   ]
  },
  {
   "cell_type": "code",
   "execution_count": 28,
   "metadata": {
    "vscode": {
     "languageId": "r"
    }
   },
   "outputs": [
    {
     "data": {
      "text/html": [
       "<style>\n",
       ".list-inline {list-style: none; margin:0; padding: 0}\n",
       ".list-inline>li {display: inline-block}\n",
       ".list-inline>li:not(:last-child)::after {content: \"\\00b7\"; padding: 0 .5ex}\n",
       "</style>\n",
       "<ol class=list-inline><li>'Preterm_23_3'</li><li>'Preterm_25_5'</li><li>'Preterm_26_B_2'</li><li>'Preterm_27_4'</li><li>'Adult_1_15-04'</li><li>'Adult_2_15-07'</li><li>'Adult_3_15-03'</li><li>'Adult_4_15-05'</li><li>'Adult_5_15-06'</li><li>'Cord_1_NWK206'</li><li>'Cord_2_NWK211'</li><li>'Cord_3_NWK213'</li><li>'Cord_4_NWK231'</li><li>'Cord_5_NWK247'</li><li>'Infant_1_NWK51'</li><li>'Infant_2_NWK134'</li><li>'Infant_3_NWK39'</li><li>'Infant_4_NWK174'</li><li>'Infant_5_NWK31'</li></ol>\n"
      ],
      "text/latex": [
       "\\begin{enumerate*}\n",
       "\\item 'Preterm\\_23\\_3'\n",
       "\\item 'Preterm\\_25\\_5'\n",
       "\\item 'Preterm\\_26\\_B\\_2'\n",
       "\\item 'Preterm\\_27\\_4'\n",
       "\\item 'Adult\\_1\\_15-04'\n",
       "\\item 'Adult\\_2\\_15-07'\n",
       "\\item 'Adult\\_3\\_15-03'\n",
       "\\item 'Adult\\_4\\_15-05'\n",
       "\\item 'Adult\\_5\\_15-06'\n",
       "\\item 'Cord\\_1\\_NWK206'\n",
       "\\item 'Cord\\_2\\_NWK211'\n",
       "\\item 'Cord\\_3\\_NWK213'\n",
       "\\item 'Cord\\_4\\_NWK231'\n",
       "\\item 'Cord\\_5\\_NWK247'\n",
       "\\item 'Infant\\_1\\_NWK51'\n",
       "\\item 'Infant\\_2\\_NWK134'\n",
       "\\item 'Infant\\_3\\_NWK39'\n",
       "\\item 'Infant\\_4\\_NWK174'\n",
       "\\item 'Infant\\_5\\_NWK31'\n",
       "\\end{enumerate*}\n"
      ],
      "text/markdown": [
       "1. 'Preterm_23_3'\n",
       "2. 'Preterm_25_5'\n",
       "3. 'Preterm_26_B_2'\n",
       "4. 'Preterm_27_4'\n",
       "5. 'Adult_1_15-04'\n",
       "6. 'Adult_2_15-07'\n",
       "7. 'Adult_3_15-03'\n",
       "8. 'Adult_4_15-05'\n",
       "9. 'Adult_5_15-06'\n",
       "10. 'Cord_1_NWK206'\n",
       "11. 'Cord_2_NWK211'\n",
       "12. 'Cord_3_NWK213'\n",
       "13. 'Cord_4_NWK231'\n",
       "14. 'Cord_5_NWK247'\n",
       "15. 'Infant_1_NWK51'\n",
       "16. 'Infant_2_NWK134'\n",
       "17. 'Infant_3_NWK39'\n",
       "18. 'Infant_4_NWK174'\n",
       "19. 'Infant_5_NWK31'\n",
       "\n",
       "\n"
      ],
      "text/plain": [
       " [1] \"Preterm_23_3\"    \"Preterm_25_5\"    \"Preterm_26_B_2\"  \"Preterm_27_4\"   \n",
       " [5] \"Adult_1_15-04\"   \"Adult_2_15-07\"   \"Adult_3_15-03\"   \"Adult_4_15-05\"  \n",
       " [9] \"Adult_5_15-06\"   \"Cord_1_NWK206\"   \"Cord_2_NWK211\"   \"Cord_3_NWK213\"  \n",
       "[13] \"Cord_4_NWK231\"   \"Cord_5_NWK247\"   \"Infant_1_NWK51\"  \"Infant_2_NWK134\"\n",
       "[17] \"Infant_3_NWK39\"  \"Infant_4_NWK174\" \"Infant_5_NWK31\" "
      ]
     },
     "metadata": {},
     "output_type": "display_data"
    }
   ],
   "source": [
    "carey$sample_name[ match(carey_tags$index, rownames(carey)) ]"
   ]
  },
  {
   "cell_type": "code",
   "execution_count": 30,
   "metadata": {
    "vscode": {
     "languageId": "r"
    }
   },
   "outputs": [
    {
     "data": {
      "text/html": [
       "<table class=\"dataframe\">\n",
       "<caption>A data.frame: 6 x 9</caption>\n",
       "<thead>\n",
       "\t<tr><th></th><th scope=col>index</th><th scope=col>Blood</th><th scope=col>Male|Female</th><th scope=col>FACS</th><th scope=col>Influenza</th><th scope=col>Lung</th><th scope=col>Years|Adult</th><th scope=col>Cord</th><th scope=col>study</th></tr>\n",
       "\t<tr><th></th><th scope=col>&lt;chr&gt;</th><th scope=col>&lt;chr&gt;</th><th scope=col>&lt;chr&gt;</th><th scope=col>&lt;chr&gt;</th><th scope=col>&lt;chr&gt;</th><th scope=col>&lt;chr&gt;</th><th scope=col>&lt;chr&gt;</th><th scope=col>&lt;chr&gt;</th><th scope=col>&lt;chr&gt;</th></tr>\n",
       "</thead>\n",
       "<tbody>\n",
       "\t<tr><th scope=row>1</th><td>1</td><td>Blood</td><td>Male  </td><td>FACS sorted cells</td><td>NA       </td><td>NA  </td><td>NA   </td><td>NA</td><td>Carey</td></tr>\n",
       "\t<tr><th scope=row>2</th><td>2</td><td>Blood</td><td>Female</td><td>FACS sorted cells</td><td>NA       </td><td>NA  </td><td>NA   </td><td>NA</td><td>Carey</td></tr>\n",
       "\t<tr><th scope=row>3</th><td>3</td><td>Blood</td><td>Male  </td><td>FACS sorted cells</td><td>NA       </td><td>NA  </td><td>NA   </td><td>NA</td><td>Carey</td></tr>\n",
       "\t<tr><th scope=row>4</th><td>4</td><td>Blood</td><td>Female</td><td>FACS sorted cells</td><td>NA       </td><td>NA  </td><td>NA   </td><td>NA</td><td>Carey</td></tr>\n",
       "\t<tr><th scope=row>5</th><td>5</td><td>Blood</td><td>NA    </td><td>FACS sorted cells</td><td>NA       </td><td>NA  </td><td>Adult</td><td>NA</td><td>Carey</td></tr>\n",
       "\t<tr><th scope=row>6</th><td>6</td><td>Blood</td><td>NA    </td><td>FACS sorted cells</td><td>Influenza</td><td>Lung</td><td>Adult</td><td>NA</td><td>Carey</td></tr>\n",
       "</tbody>\n",
       "</table>\n"
      ],
      "text/latex": [
       "A data.frame: 6 x 9\n",
       "\\begin{tabular}{r|lllllllll}\n",
       "  & index & Blood & Male\\textbar{}Female & FACS & Influenza & Lung & Years\\textbar{}Adult & Cord & study\\\\\n",
       "  & <chr> & <chr> & <chr> & <chr> & <chr> & <chr> & <chr> & <chr> & <chr>\\\\\n",
       "\\hline\n",
       "\t1 & 1 & Blood & Male   & FACS sorted cells & NA        & NA   & NA    & NA & Carey\\\\\n",
       "\t2 & 2 & Blood & Female & FACS sorted cells & NA        & NA   & NA    & NA & Carey\\\\\n",
       "\t3 & 3 & Blood & Male   & FACS sorted cells & NA        & NA   & NA    & NA & Carey\\\\\n",
       "\t4 & 4 & Blood & Female & FACS sorted cells & NA        & NA   & NA    & NA & Carey\\\\\n",
       "\t5 & 5 & Blood & NA     & FACS sorted cells & NA        & NA   & Adult & NA & Carey\\\\\n",
       "\t6 & 6 & Blood & NA     & FACS sorted cells & Influenza & Lung & Adult & NA & Carey\\\\\n",
       "\\end{tabular}\n"
      ],
      "text/markdown": [
       "\n",
       "A data.frame: 6 x 9\n",
       "\n",
       "| <!--/--> | index &lt;chr&gt; | Blood &lt;chr&gt; | Male|Female &lt;chr&gt; | FACS &lt;chr&gt; | Influenza &lt;chr&gt; | Lung &lt;chr&gt; | Years|Adult &lt;chr&gt; | Cord &lt;chr&gt; | study &lt;chr&gt; |\n",
       "|---|---|---|---|---|---|---|---|---|---|\n",
       "| 1 | 1 | Blood | Male   | FACS sorted cells | NA        | NA   | NA    | NA | Carey |\n",
       "| 2 | 2 | Blood | Female | FACS sorted cells | NA        | NA   | NA    | NA | Carey |\n",
       "| 3 | 3 | Blood | Male   | FACS sorted cells | NA        | NA   | NA    | NA | Carey |\n",
       "| 4 | 4 | Blood | Female | FACS sorted cells | NA        | NA   | NA    | NA | Carey |\n",
       "| 5 | 5 | Blood | NA     | FACS sorted cells | NA        | NA   | Adult | NA | Carey |\n",
       "| 6 | 6 | Blood | NA     | FACS sorted cells | Influenza | Lung | Adult | NA | Carey |\n",
       "\n"
      ],
      "text/plain": [
       "  index Blood Male|Female FACS              Influenza Lung Years|Adult Cord\n",
       "1 1     Blood Male        FACS sorted cells NA        NA   NA          NA  \n",
       "2 2     Blood Female      FACS sorted cells NA        NA   NA          NA  \n",
       "3 3     Blood Male        FACS sorted cells NA        NA   NA          NA  \n",
       "4 4     Blood Female      FACS sorted cells NA        NA   NA          NA  \n",
       "5 5     Blood NA          FACS sorted cells NA        NA   Adult       NA  \n",
       "6 6     Blood NA          FACS sorted cells Influenza Lung Adult       NA  \n",
       "  study\n",
       "1 Carey\n",
       "2 Carey\n",
       "3 Carey\n",
       "4 Carey\n",
       "5 Carey\n",
       "6 Carey"
      ]
     },
     "metadata": {},
     "output_type": "display_data"
    }
   ],
   "source": [
    "head(carey_tags)"
   ]
  },
  {
   "cell_type": "code",
   "execution_count": 31,
   "metadata": {
    "vscode": {
     "languageId": "r"
    }
   },
   "outputs": [],
   "source": [
    "carey_tags$sample_name <- carey$sample_name[ match(carey_tags$index, rownames(carey)) ]\n",
    "carey_tags$study <- \"Carey\"\n",
    "carey_tags$Agegroup <- gsub(\"_.*\", \"\", carey_tags$sample_name)\n",
    "carey_tags$Sex <- carey_tags$`Male|Female`\n",
    "carey_tags$disease <- \"Ctrl\""
   ]
  },
  {
   "cell_type": "code",
   "execution_count": 32,
   "metadata": {
    "vscode": {
     "languageId": "r"
    }
   },
   "outputs": [],
   "source": [
    "emerson_tags$study <- \"Emerson\"\n",
    "emerson_tags$Agegroup <- emerson_tags$Years\n",
    "emerson_tags$Sex <- emerson_tags$`Male|Female`\n",
    "emerson_tags$sample_name <- emerson$sample_name[ match(emerson_tags$index, rownames(emerson)) ]\n",
    "emerson_tags$disease <- emerson_tags$Cytomegalovirus"
   ]
  },
  {
   "cell_type": "code",
   "execution_count": 33,
   "metadata": {
    "vscode": {
     "languageId": "r"
    }
   },
   "outputs": [],
   "source": [
    "mitchell_1_tags$study <- \"Mitchell\"\n",
    "mitchell_1_tags$Agegroup <- mitchell_1_tags$`Years at visit`\n",
    "mitchell_1_tags$Sex <- mitchell_1_tags$`Male|Female`\n",
    "mitchell_1_tags$sample_name <- mitchell_1$sample_name[ match(mitchell_1_tags$index, rownames(mitchell_1)) ]\n",
    "mitchell_1_tags$disease[grepl(\"Control\",mitchell_1_tags$`Subject |Control`)] <- \"Ctrl\"\n",
    "mitchell_1_tags$disease[grepl(\"Subject\",mitchell_1_tags$`Subject |Control`)] <- \"T1D\"\n"
   ]
  },
  {
   "cell_type": "code",
   "execution_count": 34,
   "metadata": {
    "vscode": {
     "languageId": "r"
    }
   },
   "outputs": [
    {
     "data": {
      "text/html": [
       "<table class=\"dataframe\">\n",
       "<caption>A data.frame: 6 x 12</caption>\n",
       "<thead>\n",
       "\t<tr><th></th><th scope=col>index</th><th scope=col>Years at visit</th><th scope=col>Years at diagnosis</th><th scope=col>Male|Female</th><th scope=col>Subject |Control </th><th scope=col>Timepoint</th><th scope=col>Subject</th><th scope=col>study</th><th scope=col>Agegroup</th><th scope=col>Sex</th><th scope=col>sample_name</th><th scope=col>disease</th></tr>\n",
       "\t<tr><th></th><th scope=col>&lt;chr&gt;</th><th scope=col>&lt;chr&gt;</th><th scope=col>&lt;chr&gt;</th><th scope=col>&lt;chr&gt;</th><th scope=col>&lt;chr&gt;</th><th scope=col>&lt;chr&gt;</th><th scope=col>&lt;chr&gt;</th><th scope=col>&lt;chr&gt;</th><th scope=col>&lt;chr&gt;</th><th scope=col>&lt;chr&gt;</th><th scope=col>&lt;chr&gt;</th><th scope=col>&lt;chr&gt;</th></tr>\n",
       "</thead>\n",
       "<tbody>\n",
       "\t<tr><th scope=row>1</th><td>1</td><td>3 Years at visit </td><td>NA                                 </td><td>Female</td><td>Control 006</td><td>Timepoint 3</td><td>NA         </td><td>Mitchell</td><td>3 Years at visit </td><td>Female</td><td>310121_TCRB</td><td>Ctrl</td></tr>\n",
       "\t<tr><th scope=row>2</th><td>2</td><td>3 Years at visit </td><td>12.958904109589 Years at diagnosis </td><td>Female</td><td>Subject 001</td><td>Timepoint 1</td><td>Subject 001</td><td>Mitchell</td><td>3 Years at visit </td><td>Female</td><td>310102_TCRB</td><td>T1D </td></tr>\n",
       "\t<tr><th scope=row>3</th><td>3</td><td>10 Years at visit</td><td>14.4328767123288 Years at diagnosis</td><td>Male  </td><td>Subject 019</td><td>Timepoint 3</td><td>Subject 019</td><td>Mitchell</td><td>10 Years at visit</td><td>Male  </td><td>310156_TCRB</td><td>T1D </td></tr>\n",
       "\t<tr><th scope=row>4</th><td>4</td><td>0 Years at visit </td><td>18.0438356164384 Years at diagnosis</td><td>Female</td><td>Subject 021</td><td>Timepoint 1</td><td>Subject 021</td><td>Mitchell</td><td>0 Years at visit </td><td>Female</td><td>310204_TCRB</td><td>T1D </td></tr>\n",
       "\t<tr><th scope=row>5</th><td>5</td><td>6 Years at visit </td><td>6.37808219178082 Years at diagnosis</td><td>Female</td><td>Subject 003</td><td>Timepoint 4</td><td>Subject 003</td><td>Mitchell</td><td>6 Years at visit </td><td>Female</td><td>310245_TCRB</td><td>T1D </td></tr>\n",
       "\t<tr><th scope=row>6</th><td>6</td><td>12 Years at visit</td><td>NA                                 </td><td>Male  </td><td>Control 012</td><td>Timepoint 4</td><td>NA         </td><td>Mitchell</td><td>12 Years at visit</td><td>Male  </td><td>310186_TCRB</td><td>Ctrl</td></tr>\n",
       "</tbody>\n",
       "</table>\n"
      ],
      "text/latex": [
       "A data.frame: 6 x 12\n",
       "\\begin{tabular}{r|llllllllllll}\n",
       "  & index & Years at visit & Years at diagnosis & Male\\textbar{}Female & Subject \\textbar{}Control  & Timepoint & Subject & study & Agegroup & Sex & sample\\_name & disease\\\\\n",
       "  & <chr> & <chr> & <chr> & <chr> & <chr> & <chr> & <chr> & <chr> & <chr> & <chr> & <chr> & <chr>\\\\\n",
       "\\hline\n",
       "\t1 & 1 & 3 Years at visit  & NA                                  & Female & Control 006 & Timepoint 3 & NA          & Mitchell & 3 Years at visit  & Female & 310121\\_TCRB & Ctrl\\\\\n",
       "\t2 & 2 & 3 Years at visit  & 12.958904109589 Years at diagnosis  & Female & Subject 001 & Timepoint 1 & Subject 001 & Mitchell & 3 Years at visit  & Female & 310102\\_TCRB & T1D \\\\\n",
       "\t3 & 3 & 10 Years at visit & 14.4328767123288 Years at diagnosis & Male   & Subject 019 & Timepoint 3 & Subject 019 & Mitchell & 10 Years at visit & Male   & 310156\\_TCRB & T1D \\\\\n",
       "\t4 & 4 & 0 Years at visit  & 18.0438356164384 Years at diagnosis & Female & Subject 021 & Timepoint 1 & Subject 021 & Mitchell & 0 Years at visit  & Female & 310204\\_TCRB & T1D \\\\\n",
       "\t5 & 5 & 6 Years at visit  & 6.37808219178082 Years at diagnosis & Female & Subject 003 & Timepoint 4 & Subject 003 & Mitchell & 6 Years at visit  & Female & 310245\\_TCRB & T1D \\\\\n",
       "\t6 & 6 & 12 Years at visit & NA                                  & Male   & Control 012 & Timepoint 4 & NA          & Mitchell & 12 Years at visit & Male   & 310186\\_TCRB & Ctrl\\\\\n",
       "\\end{tabular}\n"
      ],
      "text/markdown": [
       "\n",
       "A data.frame: 6 x 12\n",
       "\n",
       "| <!--/--> | index &lt;chr&gt; | Years at visit &lt;chr&gt; | Years at diagnosis &lt;chr&gt; | Male|Female &lt;chr&gt; | Subject |Control  &lt;chr&gt; | Timepoint &lt;chr&gt; | Subject &lt;chr&gt; | study &lt;chr&gt; | Agegroup &lt;chr&gt; | Sex &lt;chr&gt; | sample_name &lt;chr&gt; | disease &lt;chr&gt; |\n",
       "|---|---|---|---|---|---|---|---|---|---|---|---|---|\n",
       "| 1 | 1 | 3 Years at visit  | NA                                  | Female | Control 006 | Timepoint 3 | NA          | Mitchell | 3 Years at visit  | Female | 310121_TCRB | Ctrl |\n",
       "| 2 | 2 | 3 Years at visit  | 12.958904109589 Years at diagnosis  | Female | Subject 001 | Timepoint 1 | Subject 001 | Mitchell | 3 Years at visit  | Female | 310102_TCRB | T1D  |\n",
       "| 3 | 3 | 10 Years at visit | 14.4328767123288 Years at diagnosis | Male   | Subject 019 | Timepoint 3 | Subject 019 | Mitchell | 10 Years at visit | Male   | 310156_TCRB | T1D  |\n",
       "| 4 | 4 | 0 Years at visit  | 18.0438356164384 Years at diagnosis | Female | Subject 021 | Timepoint 1 | Subject 021 | Mitchell | 0 Years at visit  | Female | 310204_TCRB | T1D  |\n",
       "| 5 | 5 | 6 Years at visit  | 6.37808219178082 Years at diagnosis | Female | Subject 003 | Timepoint 4 | Subject 003 | Mitchell | 6 Years at visit  | Female | 310245_TCRB | T1D  |\n",
       "| 6 | 6 | 12 Years at visit | NA                                  | Male   | Control 012 | Timepoint 4 | NA          | Mitchell | 12 Years at visit | Male   | 310186_TCRB | Ctrl |\n",
       "\n"
      ],
      "text/plain": [
       "  index Years at visit    Years at diagnosis                  Male|Female\n",
       "1 1     3 Years at visit  NA                                  Female     \n",
       "2 2     3 Years at visit  12.958904109589 Years at diagnosis  Female     \n",
       "3 3     10 Years at visit 14.4328767123288 Years at diagnosis Male       \n",
       "4 4     0 Years at visit  18.0438356164384 Years at diagnosis Female     \n",
       "5 5     6 Years at visit  6.37808219178082 Years at diagnosis Female     \n",
       "6 6     12 Years at visit NA                                  Male       \n",
       "  Subject |Control  Timepoint   Subject     study    Agegroup          Sex   \n",
       "1 Control 006       Timepoint 3 NA          Mitchell 3 Years at visit  Female\n",
       "2 Subject 001       Timepoint 1 Subject 001 Mitchell 3 Years at visit  Female\n",
       "3 Subject 019       Timepoint 3 Subject 019 Mitchell 10 Years at visit Male  \n",
       "4 Subject 021       Timepoint 1 Subject 021 Mitchell 0 Years at visit  Female\n",
       "5 Subject 003       Timepoint 4 Subject 003 Mitchell 6 Years at visit  Female\n",
       "6 Control 012       Timepoint 4 NA          Mitchell 12 Years at visit Male  \n",
       "  sample_name disease\n",
       "1 310121_TCRB Ctrl   \n",
       "2 310102_TCRB T1D    \n",
       "3 310156_TCRB T1D    \n",
       "4 310204_TCRB T1D    \n",
       "5 310245_TCRB T1D    \n",
       "6 310186_TCRB Ctrl   "
      ]
     },
     "metadata": {},
     "output_type": "display_data"
    }
   ],
   "source": [
    "head(mitchell_1_tags)"
   ]
  },
  {
   "cell_type": "code",
   "execution_count": 35,
   "metadata": {
    "vscode": {
     "languageId": "r"
    }
   },
   "outputs": [],
   "source": [
    "mitchell_Denver_tags$study <- \"Mitchell_Denver\"\n",
    "mitchell_Denver_tags$Agegroup <- mitchell_Denver_tags$`Years at diagnosis`\n",
    "mitchell_Denver_tags$Sex <- mitchell_Denver_tags$`Male|Female`\n",
    "mitchell_Denver_tags$sample_name <- mitchell_Denver$sample_name[ match(mitchell_Denver_tags$index, rownames(mitchell_Denver)) ]\n",
    "mitchell_Denver_tags$disease <- mitchell_Denver_tags$`Type 1 Diabetes`"
   ]
  },
  {
   "attachments": {},
   "cell_type": "markdown",
   "metadata": {},
   "source": [
    "## bind all together"
   ]
  },
  {
   "cell_type": "code",
   "execution_count": 37,
   "metadata": {
    "vscode": {
     "languageId": "r"
    }
   },
   "outputs": [],
   "source": [
    "# capture subject names. Mitchell dataset is longitudinal, so we need to. For the other datasets, we can just use the sample names\n",
    "mitchell_1_tags$subject <- mitchell_1_tags$`Subject |Control`\n",
    "\n",
    "mitchell_Denver_tags$subject <- mitchell_Denver_tags$sample_name\n",
    "carey_tags$subject <- carey_tags$sample_name\n",
    "emerson_tags$subject <- emerson_tags$sample_name\n",
    "henderson_tags$subject <- henderson_tags$sample_name"
   ]
  },
  {
   "cell_type": "code",
   "execution_count": 38,
   "metadata": {
    "vscode": {
     "languageId": "r"
    }
   },
   "outputs": [],
   "source": [
    "dfList <- list(carey_tags,henderson_tags,mitchell_1_tags,mitchell_Denver_tags, emerson_tags)\n",
    "dfColList <- lapply(dfList,colnames)\n",
    "commonCols <- Reduce(intersect,dfColList)\n"
   ]
  },
  {
   "cell_type": "code",
   "execution_count": 39,
   "metadata": {
    "vscode": {
     "languageId": "r"
    }
   },
   "outputs": [
    {
     "data": {
      "text/html": [
       "<style>\n",
       ".list-inline {list-style: none; margin:0; padding: 0}\n",
       ".list-inline>li {display: inline-block}\n",
       ".list-inline>li:not(:last-child)::after {content: \"\\00b7\"; padding: 0 .5ex}\n",
       "</style>\n",
       "<ol class=list-inline><li>'study'</li><li>'sample_name'</li><li>'Agegroup'</li><li>'Sex'</li><li>'disease'</li><li>'subject'</li></ol>\n"
      ],
      "text/latex": [
       "\\begin{enumerate*}\n",
       "\\item 'study'\n",
       "\\item 'sample\\_name'\n",
       "\\item 'Agegroup'\n",
       "\\item 'Sex'\n",
       "\\item 'disease'\n",
       "\\item 'subject'\n",
       "\\end{enumerate*}\n"
      ],
      "text/markdown": [
       "1. 'study'\n",
       "2. 'sample_name'\n",
       "3. 'Agegroup'\n",
       "4. 'Sex'\n",
       "5. 'disease'\n",
       "6. 'subject'\n",
       "\n",
       "\n"
      ],
      "text/plain": [
       "[1] \"study\"       \"sample_name\" \"Agegroup\"    \"Sex\"         \"disease\"    \n",
       "[6] \"subject\"    "
      ]
     },
     "metadata": {},
     "output_type": "display_data"
    }
   ],
   "source": [
    "Reduce(intersect,dfColList)"
   ]
  },
  {
   "cell_type": "code",
   "execution_count": 40,
   "metadata": {
    "vscode": {
     "languageId": "r"
    }
   },
   "outputs": [],
   "source": [
    "allAdaptive <- rbind(carey_tags[, commonCols], henderson_tags[, commonCols], \n",
    "mitchell_1_tags[, commonCols], mitchell_Denver_tags[, commonCols],\n",
    " emerson_tags[, commonCols])"
   ]
  },
  {
   "cell_type": "code",
   "execution_count": 41,
   "metadata": {
    "vscode": {
     "languageId": "r"
    }
   },
   "outputs": [],
   "source": [
    "# cleanup age groups\n",
    "allAdaptive$age <- allAdaptive$Agegroup\n",
    "allAdaptive$age <- gsub(\"Years at visit\", \"\", allAdaptive$age)\n",
    "allAdaptive$age <- gsub(\"Years\", \"\", allAdaptive$age)\n",
    "allAdaptive$age <- gsub(\"at diagnosis\", \"\", allAdaptive$age)\n",
    "allAdaptive$age <- trimws(allAdaptive$age)\n",
    "\n",
    "# remove age groups\n",
    "allAdaptive$age[ allAdaptive$age == \"Adult\" ] <- NA\n",
    "allAdaptive$age[ allAdaptive$age == \"Preterm\" ] <- NA\n",
    "allAdaptive$age[ allAdaptive$age == \"Infant\" ] <- NA\n",
    "allAdaptive$age[ allAdaptive$age == \"Cord\" ] <- NA\n",
    "allAdaptive$age[ allAdaptive$age == \"\" ] <- NA\n",
    "\n",
    "allAdaptive$age <- as.numeric(allAdaptive$age)"
   ]
  },
  {
   "cell_type": "code",
   "execution_count": 42,
   "metadata": {
    "vscode": {
     "languageId": "r"
    }
   },
   "outputs": [],
   "source": [
    "#carey\n",
    "allAdaptive$age[ allAdaptive$Agegroup == \"Infant\" ] <- 0 # 0-2 years\n",
    "allAdaptive$age[ allAdaptive$Agegroup == \"Cord\" ] <- 0\n",
    "allAdaptive$age[ allAdaptive$Agegroup == \"Preterm\" ] <- 0 # 23-27 weeks gestation\n",
    "allAdaptive$age[ allAdaptive$Agegroup == \"Adult\" ] <- 39 # median age of adults in the study"
   ]
  },
  {
   "cell_type": "code",
   "execution_count": 43,
   "metadata": {
    "vscode": {
     "languageId": "r"
    }
   },
   "outputs": [
    {
     "data": {
      "text/plain": [
       "\n",
       "          Carey         Emerson       Henderson        Mitchell Mitchell_Denver \n",
       "             19             786              62             216             143 "
      ]
     },
     "metadata": {},
     "output_type": "display_data"
    }
   ],
   "source": [
    "table(allAdaptive$study)"
   ]
  },
  {
   "cell_type": "code",
   "execution_count": 44,
   "metadata": {
    "vscode": {
     "languageId": "r"
    }
   },
   "outputs": [],
   "source": [
    "# emerson and mitchell\n",
    "allAdaptive$Agegroup[ which(allAdaptive$age >= 0  & allAdaptive$age < 2)] <- \"Neonate\"\n",
    "allAdaptive$Agegroup[ which(allAdaptive$age >= 2  & allAdaptive$age < 12)] <- \"Child\"\n",
    "allAdaptive$Agegroup[ which(allAdaptive$age >= 12  & allAdaptive$age < 18)] <- \"Adolescent\"\n",
    "allAdaptive$Agegroup[ which(allAdaptive$age >= 18  & allAdaptive$age < 24)] <- \"Young Adult\"\n",
    "allAdaptive$Agegroup[ which(allAdaptive$age >= 24  & allAdaptive$age < 60)] <- \"Adult\"\n",
    "allAdaptive$Agegroup[ which(allAdaptive$age >= 60)] <- \"Senior\""
   ]
  },
  {
   "cell_type": "code",
   "execution_count": 45,
   "metadata": {
    "vscode": {
     "languageId": "r"
    }
   },
   "outputs": [],
   "source": [
    "# all Henderson are children. Adult samples are not available\n",
    "allAdaptive$Agegroup[ which(allAdaptive$study == \"Henderson\")] <- \"Child\""
   ]
  },
  {
   "cell_type": "code",
   "execution_count": 46,
   "metadata": {
    "vscode": {
     "languageId": "r"
    }
   },
   "outputs": [
    {
     "data": {
      "text/html": [
       "<table class=\"dataframe\">\n",
       "<caption>A data.frame: 6 x 7</caption>\n",
       "<thead>\n",
       "\t<tr><th></th><th scope=col>study</th><th scope=col>sample_name</th><th scope=col>Agegroup</th><th scope=col>Sex</th><th scope=col>disease</th><th scope=col>subject</th><th scope=col>age</th></tr>\n",
       "\t<tr><th></th><th scope=col>&lt;chr&gt;</th><th scope=col>&lt;chr&gt;</th><th scope=col>&lt;chr&gt;</th><th scope=col>&lt;chr&gt;</th><th scope=col>&lt;chr&gt;</th><th scope=col>&lt;chr&gt;</th><th scope=col>&lt;dbl&gt;</th></tr>\n",
       "</thead>\n",
       "<tbody>\n",
       "\t<tr><th scope=row>1</th><td>Carey</td><td>Preterm_23_3  </td><td>Neonate</td><td>Male  </td><td>Ctrl</td><td>Preterm_23_3  </td><td> 0</td></tr>\n",
       "\t<tr><th scope=row>2</th><td>Carey</td><td>Preterm_25_5  </td><td>Neonate</td><td>Female</td><td>Ctrl</td><td>Preterm_25_5  </td><td> 0</td></tr>\n",
       "\t<tr><th scope=row>3</th><td>Carey</td><td>Preterm_26_B_2</td><td>Neonate</td><td>Male  </td><td>Ctrl</td><td>Preterm_26_B_2</td><td> 0</td></tr>\n",
       "\t<tr><th scope=row>4</th><td>Carey</td><td>Preterm_27_4  </td><td>Neonate</td><td>Female</td><td>Ctrl</td><td>Preterm_27_4  </td><td> 0</td></tr>\n",
       "\t<tr><th scope=row>5</th><td>Carey</td><td>Adult_1_15-04 </td><td>Adult  </td><td>NA    </td><td>Ctrl</td><td>Adult_1_15-04 </td><td>39</td></tr>\n",
       "\t<tr><th scope=row>6</th><td>Carey</td><td>Adult_2_15-07 </td><td>Adult  </td><td>NA    </td><td>Ctrl</td><td>Adult_2_15-07 </td><td>39</td></tr>\n",
       "</tbody>\n",
       "</table>\n"
      ],
      "text/latex": [
       "A data.frame: 6 x 7\n",
       "\\begin{tabular}{r|lllllll}\n",
       "  & study & sample\\_name & Agegroup & Sex & disease & subject & age\\\\\n",
       "  & <chr> & <chr> & <chr> & <chr> & <chr> & <chr> & <dbl>\\\\\n",
       "\\hline\n",
       "\t1 & Carey & Preterm\\_23\\_3   & Neonate & Male   & Ctrl & Preterm\\_23\\_3   &  0\\\\\n",
       "\t2 & Carey & Preterm\\_25\\_5   & Neonate & Female & Ctrl & Preterm\\_25\\_5   &  0\\\\\n",
       "\t3 & Carey & Preterm\\_26\\_B\\_2 & Neonate & Male   & Ctrl & Preterm\\_26\\_B\\_2 &  0\\\\\n",
       "\t4 & Carey & Preterm\\_27\\_4   & Neonate & Female & Ctrl & Preterm\\_27\\_4   &  0\\\\\n",
       "\t5 & Carey & Adult\\_1\\_15-04  & Adult   & NA     & Ctrl & Adult\\_1\\_15-04  & 39\\\\\n",
       "\t6 & Carey & Adult\\_2\\_15-07  & Adult   & NA     & Ctrl & Adult\\_2\\_15-07  & 39\\\\\n",
       "\\end{tabular}\n"
      ],
      "text/markdown": [
       "\n",
       "A data.frame: 6 x 7\n",
       "\n",
       "| <!--/--> | study &lt;chr&gt; | sample_name &lt;chr&gt; | Agegroup &lt;chr&gt; | Sex &lt;chr&gt; | disease &lt;chr&gt; | subject &lt;chr&gt; | age &lt;dbl&gt; |\n",
       "|---|---|---|---|---|---|---|---|\n",
       "| 1 | Carey | Preterm_23_3   | Neonate | Male   | Ctrl | Preterm_23_3   |  0 |\n",
       "| 2 | Carey | Preterm_25_5   | Neonate | Female | Ctrl | Preterm_25_5   |  0 |\n",
       "| 3 | Carey | Preterm_26_B_2 | Neonate | Male   | Ctrl | Preterm_26_B_2 |  0 |\n",
       "| 4 | Carey | Preterm_27_4   | Neonate | Female | Ctrl | Preterm_27_4   |  0 |\n",
       "| 5 | Carey | Adult_1_15-04  | Adult   | NA     | Ctrl | Adult_1_15-04  | 39 |\n",
       "| 6 | Carey | Adult_2_15-07  | Adult   | NA     | Ctrl | Adult_2_15-07  | 39 |\n",
       "\n"
      ],
      "text/plain": [
       "  study sample_name    Agegroup Sex    disease subject        age\n",
       "1 Carey Preterm_23_3   Neonate  Male   Ctrl    Preterm_23_3    0 \n",
       "2 Carey Preterm_25_5   Neonate  Female Ctrl    Preterm_25_5    0 \n",
       "3 Carey Preterm_26_B_2 Neonate  Male   Ctrl    Preterm_26_B_2  0 \n",
       "4 Carey Preterm_27_4   Neonate  Female Ctrl    Preterm_27_4    0 \n",
       "5 Carey Adult_1_15-04  Adult    NA     Ctrl    Adult_1_15-04  39 \n",
       "6 Carey Adult_2_15-07  Adult    NA     Ctrl    Adult_2_15-07  39 "
      ]
     },
     "metadata": {},
     "output_type": "display_data"
    }
   ],
   "source": [
    "head(allAdaptive)"
   ]
  },
  {
   "cell_type": "code",
   "execution_count": 49,
   "metadata": {
    "vscode": {
     "languageId": "r"
    }
   },
   "outputs": [],
   "source": [
    "save(allAdaptive, file = paste0(datapath, \"Adaptivedatasets/allAdaptive.RData\"))"
   ]
  },
  {
   "attachments": {},
   "cell_type": "markdown",
   "metadata": {
    "vscode": {
     "languageId": "r"
    }
   },
   "source": [
    "# HLA data from Adaptive"
   ]
  },
  {
   "cell_type": "markdown",
   "metadata": {
    "vscode": {
     "languageId": "r"
    }
   },
   "source": [
    "# Get metrics for each dataset"
   ]
  },
  {
   "cell_type": "code",
   "execution_count": 50,
   "metadata": {
    "vscode": {
     "languageId": "r"
    }
   },
   "outputs": [],
   "source": [
    "dfList <- list(carey,henderson,mitchell, emerson)\n",
    "dfColList <- lapply(dfList,colnames)\n",
    "commonCols <- Reduce(intersect,dfColList)"
   ]
  },
  {
   "cell_type": "code",
   "execution_count": 51,
   "metadata": {
    "vscode": {
     "languageId": "r"
    }
   },
   "outputs": [],
   "source": [
    "# add counting_method to test_name in emerson and carey\n",
    "carey$test_name <- paste(carey$test_name, carey$counting_method, sep = \"_\")\n",
    "emerson$test_name <- paste(emerson$test_name, emerson$counting_method, sep = \"_\")"
   ]
  },
  {
   "cell_type": "code",
   "execution_count": 52,
   "metadata": {
    "vscode": {
     "languageId": "r"
    }
   },
   "outputs": [],
   "source": [
    "# Get colnames sample_name, total_rearrangements, productive_rearrangements, sample_amount_ng,  test_name\n",
    "Adaptive_clones_testname <- rbind(carey[, c(\"sample_name\", \"total_rearrangements\", \"productive_rearrangements\", \"sample_amount_ng\", \"test_name\")],\n",
    "henderson[, c(\"sample_name\", \"total_rearrangements\", \"productive_rearrangements\", \"sample_amount_ng\", \"test_name\")],\n",
    "mitchell[, c(\"sample_name\", \"total_rearrangements\", \"productive_rearrangements\", \"sample_amount_ng\", \"test_name\")],\n",
    "emerson[, c(\"sample_name\", \"total_rearrangements\", \"productive_rearrangements\", \"sample_amount_ng\", \"test_name\")])\n"
   ]
  },
  {
   "cell_type": "code",
   "execution_count": 53,
   "metadata": {
    "vscode": {
     "languageId": "r"
    }
   },
   "outputs": [],
   "source": [
    "save(Adaptive_clones_testname, file = paste0(datapath, \"Adaptivedatasets/Adaptive_clones_testname.RData\"))"
   ]
  },
  {
   "attachments": {},
   "cell_type": "markdown",
   "metadata": {
    "vscode": {
     "languageId": "r"
    }
   },
   "source": [
    "# Histograms"
   ]
  },
  {
   "cell_type": "code",
   "execution_count": 54,
   "metadata": {
    "vscode": {
     "languageId": "r"
    }
   },
   "outputs": [],
   "source": [
    "Adaptive_clones_testname$sample_amount_ng[ Adaptive_clones_testname$sample_amount_ng == \"no data\"] <- NA"
   ]
  },
  {
   "cell_type": "code",
   "execution_count": 56,
   "metadata": {
    "vscode": {
     "languageId": "r"
    }
   },
   "outputs": [],
   "source": [
    "Adaptive_clones_testname$sample_amount_ng <- as.numeric(Adaptive_clones_testname$sample_amount_ng)"
   ]
  },
  {
   "cell_type": "code",
   "execution_count": 93,
   "metadata": {
    "vscode": {
     "languageId": "r"
    }
   },
   "outputs": [
    {
     "data": {
      "text/plain": [
       "   Min. 1st Qu.  Median    Mean 3rd Qu.    Max.    NA's \n",
       "     16    1385    2896    2859    3636    8853     293 "
      ]
     },
     "metadata": {},
     "output_type": "display_data"
    }
   ],
   "source": [
    "summary(Adaptive_clones_testname$sample_amount_ng)"
   ]
  },
  {
   "cell_type": "code",
   "execution_count": 94,
   "metadata": {
    "vscode": {
     "languageId": "r"
    }
   },
   "outputs": [
    {
     "name": "stderr",
     "output_type": "stream",
     "text": [
      "Warning message:\n",
      "\"\u001b[1m\u001b[22mRemoved 293 rows containing non-finite values (`stat_bin()`).\"\n"
     ]
    },
    {
     "data": {
      "image/png": "[encoded data removed]",
      "text/plain": [
       "plot without title"
      ]
     },
     "metadata": {
      "image/png": {
       "height": 420,
       "width": 420
      }
     },
     "output_type": "display_data"
    }
   ],
   "source": [
    "ggplot(Adaptive_clones_testname, aes(x = sample_amount_ng)) + geom_histogram(bins = 100) + myaxis + myplot +\n",
    "labs(x = \"\", y = \"Count\", title = \"sample amount in ng (N = 1226-293 NAs)\\nobtained from Adaptive\") + # All adaptive \n",
    "geom_vline(xintercept = 400, color = \"red\") "
   ]
  },
  {
   "cell_type": "code",
   "execution_count": 95,
   "metadata": {
    "vscode": {
     "languageId": "r"
    }
   },
   "outputs": [
    {
     "data": {
      "text/html": [
       "<style>\n",
       ".list-inline {list-style: none; margin:0; padding: 0}\n",
       ".list-inline>li {display: inline-block}\n",
       ".list-inline>li:not(:last-child)::after {content: \"\\00b7\"; padding: 0 .5ex}\n",
       "</style>\n",
       "<ol class=list-inline><li>1226</li><li>5</li></ol>\n"
      ],
      "text/latex": [
       "\\begin{enumerate*}\n",
       "\\item 1226\n",
       "\\item 5\n",
       "\\end{enumerate*}\n"
      ],
      "text/markdown": [
       "1. 1226\n",
       "2. 5\n",
       "\n",
       "\n"
      ],
      "text/plain": [
       "[1] 1226    5"
      ]
     },
     "metadata": {},
     "output_type": "display_data"
    }
   ],
   "source": [
    "dim(Adaptive_clones_testname)"
   ]
  },
  {
   "attachments": {},
   "cell_type": "markdown",
   "metadata": {},
   "source": [
    "Remove 34 samples <= 400 ng input dna for adaptive"
   ]
  },
  {
   "cell_type": "code",
   "execution_count": 96,
   "metadata": {
    "vscode": {
     "languageId": "r"
    }
   },
   "outputs": [],
   "source": [
    "Adaptive_clones_testname <- Adaptive_clones_testname[ Adaptive_clones_testname$sample_amount_ng >= 400,]"
   ]
  },
  {
   "cell_type": "code",
   "execution_count": 97,
   "metadata": {
    "vscode": {
     "languageId": "r"
    }
   },
   "outputs": [
    {
     "data": {
      "text/html": [
       "<style>\n",
       ".list-inline {list-style: none; margin:0; padding: 0}\n",
       ".list-inline>li {display: inline-block}\n",
       ".list-inline>li:not(:last-child)::after {content: \"\\00b7\"; padding: 0 .5ex}\n",
       "</style>\n",
       "<ol class=list-inline><li>1192</li><li>5</li></ol>\n"
      ],
      "text/latex": [
       "\\begin{enumerate*}\n",
       "\\item 1192\n",
       "\\item 5\n",
       "\\end{enumerate*}\n"
      ],
      "text/markdown": [
       "1. 1192\n",
       "2. 5\n",
       "\n",
       "\n"
      ],
      "text/plain": [
       "[1] 1192    5"
      ]
     },
     "metadata": {},
     "output_type": "display_data"
    }
   ],
   "source": [
    "dim(Adaptive_clones_testname)"
   ]
  },
  {
   "cell_type": "code",
   "execution_count": 98,
   "metadata": {
    "vscode": {
     "languageId": "r"
    }
   },
   "outputs": [
    {
     "data": {
      "text/plain": [
       "   Min. 1st Qu.  Median    Mean 3rd Qu.    Max.    NA's \n",
       "     75  112534  170379  181696  237655  591798     293 "
      ]
     },
     "metadata": {},
     "output_type": "display_data"
    }
   ],
   "source": [
    "summary(Adaptive_clones_testname$productive_rearrangements)"
   ]
  },
  {
   "cell_type": "code",
   "execution_count": 135,
   "metadata": {
    "vscode": {
     "languageId": "r"
    }
   },
   "outputs": [
    {
     "data": {
      "text/html": [
       "<strong>5%:</strong> 45804.2"
      ],
      "text/latex": [
       "\\textbf{5\\textbackslash{}\\%:} 45804.2"
      ],
      "text/markdown": [
       "**5%:** 45804.2"
      ],
      "text/plain": [
       "     5% \n",
       "45804.2 "
      ]
     },
     "metadata": {},
     "output_type": "display_data"
    }
   ],
   "source": [
    "quantile(Adaptive_clones_testname$productive_rearrangements, 0.05, na.rm = TRUE)"
   ]
  },
  {
   "cell_type": "code",
   "execution_count": 128,
   "metadata": {
    "vscode": {
     "languageId": "r"
    }
   },
   "outputs": [
    {
     "data": {
      "text/html": [
       "147.9495"
      ],
      "text/latex": [
       "147.9495"
      ],
      "text/markdown": [
       "147.9495"
      ],
      "text/plain": [
       "[1] 147.9495"
      ]
     },
     "metadata": {},
     "output_type": "display_data"
    }
   ],
   "source": [
    "591798/4000"
   ]
  },
  {
   "cell_type": "code",
   "execution_count": 138,
   "metadata": {
    "vscode": {
     "languageId": "r"
    }
   },
   "outputs": [
    {
     "name": "stderr",
     "output_type": "stream",
     "text": [
      "Warning message:\n",
      "\"\u001b[1m\u001b[22mRemoved 293 rows containing non-finite values (`stat_bin()`).\"\n"
     ]
    },
    {
     "data": {
      "image/png": "[encoded data removed]",
      "text/plain": [
       "plot without title"
      ]
     },
     "metadata": {
      "image/png": {
       "height": 420,
       "width": 420
      }
     },
     "output_type": "display_data"
    }
   ],
   "source": [
    "ggplot(Adaptive_clones_testname, aes(x = productive_rearrangements)) + geom_histogram(bins = 147) + myaxis + myplot +\n",
    "labs(x = \"\", y = \"Count\", title = \"TRB richness in PBMC (N = 1226)\\nobtained from Adaptive\")+  # All adaptive\n",
    "geom_vline(xintercept = 45804.2, color = \"red\") "
   ]
  },
  {
   "cell_type": "code",
   "execution_count": 139,
   "metadata": {
    "vscode": {
     "languageId": "r"
    }
   },
   "outputs": [
    {
     "name": "stderr",
     "output_type": "stream",
     "text": [
      "Warning message:\n",
      "\"\u001b[1m\u001b[22mRemoved 293 rows containing non-finite values (`stat_bin()`).\"\n"
     ]
    },
    {
     "data": {
      "image/png": "[encoded data removed]",
      "text/plain": [
       "plot without title"
      ]
     },
     "metadata": {
      "image/png": {
       "height": 420,
       "width": 420
      }
     },
     "output_type": "display_data"
    }
   ],
   "source": [
    "ggplot(Adaptive_clones_testname, aes(x = productive_rearrangements)) + geom_histogram(bins = 197) + myaxis + myplot +\n",
    "labs(x = \"\", y = \"Count\", title = \"TRB richness in PBMC (N = 1226)\\nobtained from Adaptive\") + # All adaptive \n",
    "coord_cartesian(xlim = c(0, 200000)) +\n",
    "geom_vline(xintercept = 45804.2, color = \"red\")"
   ]
  },
  {
   "attachments": {},
   "cell_type": "markdown",
   "metadata": {},
   "source": [
    "Remove 45 samples <= 5% (45804.2) total productive cdr3 in adaptive"
   ]
  },
  {
   "cell_type": "code",
   "execution_count": 140,
   "metadata": {
    "vscode": {
     "languageId": "r"
    }
   },
   "outputs": [
    {
     "data": {
      "text/html": [
       "<style>\n",
       ".list-inline {list-style: none; margin:0; padding: 0}\n",
       ".list-inline>li {display: inline-block}\n",
       ".list-inline>li:not(:last-child)::after {content: \"\\00b7\"; padding: 0 .5ex}\n",
       "</style>\n",
       "<ol class=list-inline><li>1192</li><li>5</li></ol>\n"
      ],
      "text/latex": [
       "\\begin{enumerate*}\n",
       "\\item 1192\n",
       "\\item 5\n",
       "\\end{enumerate*}\n"
      ],
      "text/markdown": [
       "1. 1192\n",
       "2. 5\n",
       "\n",
       "\n"
      ],
      "text/plain": [
       "[1] 1192    5"
      ]
     },
     "metadata": {},
     "output_type": "display_data"
    }
   ],
   "source": [
    "dim(Adaptive_clones_testname)"
   ]
  },
  {
   "cell_type": "code",
   "execution_count": 141,
   "metadata": {
    "vscode": {
     "languageId": "r"
    }
   },
   "outputs": [],
   "source": [
    "Adaptive_clones_testname <- Adaptive_clones_testname[ Adaptive_clones_testname$productive_rearrangements >= 45805,]"
   ]
  },
  {
   "cell_type": "code",
   "execution_count": 142,
   "metadata": {
    "vscode": {
     "languageId": "r"
    }
   },
   "outputs": [
    {
     "data": {
      "text/html": [
       "<style>\n",
       ".list-inline {list-style: none; margin:0; padding: 0}\n",
       ".list-inline>li {display: inline-block}\n",
       ".list-inline>li:not(:last-child)::after {content: \"\\00b7\"; padding: 0 .5ex}\n",
       "</style>\n",
       "<ol class=list-inline><li>1147</li><li>5</li></ol>\n"
      ],
      "text/latex": [
       "\\begin{enumerate*}\n",
       "\\item 1147\n",
       "\\item 5\n",
       "\\end{enumerate*}\n"
      ],
      "text/markdown": [
       "1. 1147\n",
       "2. 5\n",
       "\n",
       "\n"
      ],
      "text/plain": [
       "[1] 1147    5"
      ]
     },
     "metadata": {},
     "output_type": "display_data"
    }
   ],
   "source": [
    "dim(Adaptive_clones_testname)"
   ]
  },
  {
   "cell_type": "code",
   "execution_count": 143,
   "metadata": {
    "vscode": {
     "languageId": "r"
    }
   },
   "outputs": [
    {
     "data": {
      "text/html": [
       "45"
      ],
      "text/latex": [
       "45"
      ],
      "text/markdown": [
       "45"
      ],
      "text/plain": [
       "[1] 45"
      ]
     },
     "metadata": {},
     "output_type": "display_data"
    }
   ],
   "source": [
    "1192-1147"
   ]
  },
  {
   "cell_type": "code",
   "execution_count": 144,
   "metadata": {
    "vscode": {
     "languageId": "r"
    }
   },
   "outputs": [],
   "source": [
    "save(Adaptive_clones_testname, file = paste0(datapath, \"Adaptivedatasets/Adaptive_clones_testname.RData\"))"
   ]
  },
  {
   "cell_type": "code",
   "execution_count": null,
   "metadata": {
    "vscode": {
     "languageId": "r"
    }
   },
   "outputs": [],
   "source": []
  }
 ],
 "metadata": {
  "kernelspec": {
   "display_name": "R 4.0",
   "language": "R",
   "name": "ir40"
  },
  "language_info": {
   "codemirror_mode": "r",
   "file_extension": ".r",
   "mimetype": "text/x-r-source",
   "name": "R",
   "pygments_lexer": "r",
   "version": "4.2.2"
  },
  "toc": {
   "base_numbering": 1,
   "nav_menu": {},
   "number_sections": false,
   "sideBar": true,
   "skip_h1_title": false,
   "title_cell": "Table of Contents",
   "title_sidebar": "Contents",
   "toc_cell": true,
   "toc_position": {
    "height": "calc(100% - 180px)",
    "left": "10px",
    "top": "150px",
    "width": "186.15px"
   },
   "toc_section_display": true,
   "toc_window_display": true
  }
 },
 "nbformat": 4,
 "nbformat_minor": 2
}
