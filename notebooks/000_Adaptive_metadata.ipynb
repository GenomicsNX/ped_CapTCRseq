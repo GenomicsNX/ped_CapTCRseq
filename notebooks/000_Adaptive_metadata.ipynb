{
 "cells": [
  {
   "cell_type": "markdown",
   "metadata": {},
   "source": [
    "# Dependencies"
   ]
  },
  {
   "cell_type": "code",
   "execution_count": 1,
   "metadata": {
    "vscode": {
     "languageId": "r"
    }
   },
   "outputs": [],
   "source": [
    "pacman::p_load(igraph, graphlayouts, ggraph, ggforce, dplyr)"
   ]
  },
  {
   "cell_type": "markdown",
   "metadata": {},
   "source": [
    "# Functions"
   ]
  },
  {
   "cell_type": "code",
   "execution_count": 2,
   "metadata": {
    "vscode": {
     "languageId": "r"
    }
   },
   "outputs": [],
   "source": [
    "sampletags_columns <- function(orig_df, grepvars) {\n",
    "    orig_df$index <- 1:nrow(orig_df) # add index column\n",
    "    orig_df$sample_tags <- paste0(orig_df$index,\",\",orig_df$sample_tags) # add index to sample_tags\n",
    "    splitsampletags <- strsplit(orig_df$sample_tags, split = \",\") # split sample_tags by comma into a list\n",
    "# for each sample_tag, extract the variables in grepvars as list\n",
    "    mydf <- lapply(splitsampletags, function(sampletag){ \n",
    "        y <- unlist(sampletag)\n",
    "        y <- trimws(y)\n",
    "        indx <- y[1] # first element is index\n",
    "        # for each variable in grepvars, extract the value if it exists, if not add NA\n",
    "        myvars <- lapply(grepvars, function(myvar){\n",
    "            ifelse(sum(grepl(myvar, y)) == 1, y[grepl(myvar, y)], NA) })\n",
    "        myvarsdf <- as.data.frame(myvars)\n",
    "        vardf <- cbind.data.frame(indx, myvarsdf)\n",
    "        colnames(vardf) <- c(\"index\", grepvars) # rename columns\n",
    "        return(vardf)\n",
    "    })\n",
    "    return(do.call(rbind, mydf)) # return a data frame\n",
    "}"
   ]
  },
  {
   "cell_type": "code",
   "execution_count": 3,
   "metadata": {
    "vscode": {
     "languageId": "r"
    }
   },
   "outputs": [],
   "source": [
    "source(\"/Users/anabbi/git/ped_CapTCRseq/R/ggplot2_theme.R\")\n",
    "source(\"/Users/anabbi/git/ped_CapTCRseq/R/color_schemes.R\")"
   ]
  },
  {
   "cell_type": "markdown",
   "metadata": {},
   "source": [
    "# Paths"
   ]
  },
  {
   "cell_type": "code",
   "execution_count": 4,
   "metadata": {
    "vscode": {
     "languageId": "r"
    }
   },
   "outputs": [],
   "source": [
    "datapath <- \"/Users/anabbi/OneDrive - UHN/Documents/INTERCEPT/Data/\"\n",
    "plotpath <- \"/Users/anabbi/OneDrive - UHN/Documents/INTERCEPT/Plots/\"\n",
    "manifestpath <- \"/Users/anabbi/OneDrive - UHN/Documents/INTERCEPT/Manifests/\"\n",
    "gitpath <- \"/Users/anabbi/git/ped_CapTCRseq/\""
   ]
  },
  {
   "cell_type": "code",
   "execution_count": 5,
   "metadata": {
    "vscode": {
     "languageId": "r"
    }
   },
   "outputs": [],
   "source": [
    "h4hpath <- \"/Users/anabbi/Desktop/H4H/INTERCEPT/\""
   ]
  },
  {
   "cell_type": "markdown",
   "metadata": {},
   "source": [
    "# Main"
   ]
  },
  {
   "attachments": {},
   "cell_type": "markdown",
   "metadata": {},
   "source": [
    "all metadata"
   ]
  },
  {
   "cell_type": "code",
   "execution_count": 6,
   "metadata": {
    "vscode": {
     "languageId": "r"
    }
   },
   "outputs": [
    {
     "name": "stderr",
     "output_type": "stream",
     "text": [
      "Warning message in load(file = paste0(datapath, \"capTCRseq/meta_div_TRB.RData\")):\n",
      "\"strings not representable in native encoding will be translated to UTF-8\"\n"
     ]
    }
   ],
   "source": [
    "load(file = paste0(datapath,\"capTCRseq/meta_div_TRB.RData\"))"
   ]
  },
  {
   "cell_type": "code",
   "execution_count": 7,
   "metadata": {
    "vscode": {
     "languageId": "r"
    }
   },
   "outputs": [],
   "source": [
    "carey <- read.table(file = paste0(h4hpath,\"Adaptive/Carey_Preterm2017/SampleOverview_11-23-2022_7-18-00_PM.tsv\"), \n",
    "sep = \"\\t\", header = T)"
   ]
  },
  {
   "cell_type": "code",
   "execution_count": 9,
   "metadata": {
    "vscode": {
     "languageId": "r"
    }
   },
   "outputs": [],
   "source": [
    "henderson <- read.table(file = paste0(h4hpath,\"Adaptive/Henderson_MIS2022/SampleOverview_11-23-2022_7-27-08_PM.tsv\"), \n",
    "sep = \"\\t\", header = T)"
   ]
  },
  {
   "cell_type": "code",
   "execution_count": 10,
   "metadata": {
    "vscode": {
     "languageId": "r"
    }
   },
   "outputs": [],
   "source": [
    "mitchell <- read.table(file = paste0(h4hpath,\"Adaptive/Mitchell_Michels2022/SampleOverview_11-23-2022_7-25-05_PM.tsv\"),\n",
    "sep = \"\\t\", header = T)"
   ]
  },
  {
   "cell_type": "code",
   "execution_count": 11,
   "metadata": {
    "vscode": {
     "languageId": "r"
    }
   },
   "outputs": [],
   "source": [
    "emerson <- read.table(file = paste0(h4hpath,\"Adaptive/emerson2017/SampleOverview_01-18-2023_8-18-39_PM.tsv\"),\n",
    "sep = \"\\t\", header = T)"
   ]
  },
  {
   "attachments": {},
   "cell_type": "markdown",
   "metadata": {},
   "source": [
    "Clean up mitchell metadata"
   ]
  },
  {
   "cell_type": "code",
   "execution_count": 12,
   "metadata": {
    "vscode": {
     "languageId": "r"
    }
   },
   "outputs": [],
   "source": [
    "mitchell_1 <- mitchell[ !grepl(\"Denver\",mitchell$sample_name), ]\n",
    "mitchell_Denver <- mitchell[ grepl(\"Denver\",mitchell$sample_name), ]"
   ]
  },
  {
   "cell_type": "code",
   "execution_count": 79,
   "metadata": {
    "vscode": {
     "languageId": "r"
    }
   },
   "outputs": [],
   "source": [
    "rownames(mitchell_Denver) <- 1:nrow(mitchell_Denver)"
   ]
  },
  {
   "cell_type": "code",
   "execution_count": 13,
   "metadata": {
    "vscode": {
     "languageId": "r"
    }
   },
   "outputs": [],
   "source": [
    "mitchellvars <- c(\"Years at visit\", \"Years at diagnosis\", \"Male|Female\",\n",
    "                \"Subject |Control \", \"Timepoint\", \"Subject\")"
   ]
  },
  {
   "cell_type": "code",
   "execution_count": 80,
   "metadata": {
    "vscode": {
     "languageId": "r"
    }
   },
   "outputs": [],
   "source": [
    "mitchell_1_tags <- sampletags_columns(mitchell_1, mitchellvars)\n",
    "mitchell_Denver_tags <- sampletags_columns(mitchell_Denver, c(\"Years at diagnosis\",\n",
    "\"Male|Female\", \"Type 1 Diabetes\"))"
   ]
  },
  {
   "cell_type": "code",
   "execution_count": 15,
   "metadata": {
    "vscode": {
     "languageId": "r"
    }
   },
   "outputs": [],
   "source": [
    "carey_tags <- sampletags_columns(carey, c(\"Blood\",\n",
    "\"Male|Female\", \"FACS\", \"Influenza\", \"Lung\", \"Years|Adult\", \"Cord\"))"
   ]
  },
  {
   "cell_type": "code",
   "execution_count": 16,
   "metadata": {
    "vscode": {
     "languageId": "r"
    }
   },
   "outputs": [],
   "source": [
    "#cleanup emerson tags\n",
    "emerson$sample_tags <- gsub(\"35-60 Years\", \"\", emerson$sample_tags)\n",
    "emerson$sample_tags <- gsub(\"25-29 Years\", \"\", emerson$sample_tags)\n",
    "emerson$sample_tags <- gsub(\"35-39 Years\", \"\", emerson$sample_tags)\n",
    "emerson$sample_tags <- gsub(\"45-49 Years\", \"\", emerson$sample_tags)\n",
    "emerson$sample_tags <- gsub(\"55-59 Years\", \"\", emerson$sample_tags)\n",
    "emerson$sample_tags <- gsub(\"65-69 Years\", \"\", emerson$sample_tags)\n",
    "emerson$sample_tags <- gsub(\"45-65 Years\", \"\", emerson$sample_tags)\n",
    "emerson$sample_tags <- gsub(\"18-24 Years\", \"\", emerson$sample_tags)\n",
    "emerson$sample_tags <- gsub(\"18-35 Years\", \"\", emerson$sample_tags)\n",
    "emerson$sample_tags <- gsub(\"15-19 Years\", \"\", emerson$sample_tags)\n",
    "emerson$sample_tags <- gsub(\"20-24 Years\", \"\", emerson$sample_tags)\n",
    "emerson$sample_tags <- gsub(\"24-45 Years\", \"\", emerson$sample_tags)\n",
    "emerson$sample_tags <- gsub(\"12-18 Years\", \"\", emerson$sample_tags)\n",
    "emerson$sample_tags <- gsub(\"30-34 Years\", \"\", emerson$sample_tags)\n",
    "emerson$sample_tags <- gsub(\"40-44 Years\", \"\", emerson$sample_tags)\n",
    "emerson$sample_tags <- gsub(\"50-54 Years\", \"\", emerson$sample_tags)\n",
    "emerson$sample_tags <- gsub(\"60-64 Years\", \"\", emerson$sample_tags)\n",
    "emerson$sample_tags <- gsub(\"10-14 Years\", \"\", emerson$sample_tags)\n",
    "emerson$sample_tags <- gsub(\"00-02 Years\", \"\", emerson$sample_tags) \n",
    "emerson$sample_tags <- gsub(\"01-04 Years\", \"\", emerson$sample_tags)\n",
    "emerson$sample_tags <- gsub(\"60+\", \"\", emerson$sample_tags)"
   ]
  },
  {
   "cell_type": "code",
   "execution_count": 17,
   "metadata": {
    "vscode": {
     "languageId": "r"
    }
   },
   "outputs": [],
   "source": [
    "emerson_tags <- sampletags_columns(emerson, c(\"Cohort\", \n",
    "\"Non-Hispanic|Unknown Ethnicity\", \"Unknown racial|Caucasian|Islander\",\n",
    " \"Inferred CMV\", \"Years\",\n",
    "\"Male|Female\", \"Cytomegalovirus\"))"
   ]
  },
  {
   "cell_type": "code",
   "execution_count": 19,
   "metadata": {
    "vscode": {
     "languageId": "r"
    }
   },
   "outputs": [
    {
     "data": {
      "text/html": [
       "<table class=\"dataframe\">\n",
       "<caption>A data.frame: 6 × 8</caption>\n",
       "<thead>\n",
       "\t<tr><th></th><th scope=col>index</th><th scope=col>Cohort</th><th scope=col>Non-Hispanic|Unknown Ethnicity</th><th scope=col>Unknown racial|Caucasian|Islander</th><th scope=col>Inferred CMV</th><th scope=col>Years</th><th scope=col>Male|Female</th><th scope=col>Cytomegalovirus</th></tr>\n",
       "\t<tr><th></th><th scope=col>&lt;chr&gt;</th><th scope=col>&lt;chr&gt;</th><th scope=col>&lt;chr&gt;</th><th scope=col>&lt;chr&gt;</th><th scope=col>&lt;chr&gt;</th><th scope=col>&lt;chr&gt;</th><th scope=col>&lt;chr&gt;</th><th scope=col>&lt;chr&gt;</th></tr>\n",
       "</thead>\n",
       "<tbody>\n",
       "\t<tr><th scope=row>1</th><td>1</td><td>Cohort 01</td><td>Unknown Ethnicity     </td><td>Unknown racial group</td><td>NA            </td><td>NA      </td><td>NA  </td><td>NA               </td></tr>\n",
       "\t<tr><th scope=row>2</th><td>2</td><td>Cohort 01</td><td>Unknown Ethnicity     </td><td>Unknown racial group</td><td>NA            </td><td>NA      </td><td>NA  </td><td>NA               </td></tr>\n",
       "\t<tr><th scope=row>3</th><td>3</td><td>Cohort 01</td><td>Unknown Ethnicity     </td><td>Unknown racial group</td><td>NA            </td><td>NA      </td><td>NA  </td><td>NA               </td></tr>\n",
       "\t<tr><th scope=row>4</th><td>4</td><td>Cohort 01</td><td>Unknown Ethnicity     </td><td>Unknown racial group</td><td>NA            </td><td>NA      </td><td>NA  </td><td>NA               </td></tr>\n",
       "\t<tr><th scope=row>5</th><td>5</td><td>Cohort 01</td><td>Non-Hispanic or Latino</td><td>Caucasian           </td><td>Inferred CMV +</td><td>22 Years</td><td>Male</td><td>Cytomegalovirus +</td></tr>\n",
       "\t<tr><th scope=row>6</th><td>6</td><td>Cohort 01</td><td>Non-Hispanic or Latino</td><td>Caucasian           </td><td>Inferred CMV +</td><td>56 Years</td><td>Male</td><td>Cytomegalovirus +</td></tr>\n",
       "</tbody>\n",
       "</table>\n"
      ],
      "text/latex": [
       "A data.frame: 6 × 8\n",
       "\\begin{tabular}{r|llllllll}\n",
       "  & index & Cohort & Non-Hispanic\\textbar{}Unknown Ethnicity & Unknown racial\\textbar{}Caucasian\\textbar{}Islander & Inferred CMV & Years & Male\\textbar{}Female & Cytomegalovirus\\\\\n",
       "  & <chr> & <chr> & <chr> & <chr> & <chr> & <chr> & <chr> & <chr>\\\\\n",
       "\\hline\n",
       "\t1 & 1 & Cohort 01 & Unknown Ethnicity      & Unknown racial group & NA             & NA       & NA   & NA               \\\\\n",
       "\t2 & 2 & Cohort 01 & Unknown Ethnicity      & Unknown racial group & NA             & NA       & NA   & NA               \\\\\n",
       "\t3 & 3 & Cohort 01 & Unknown Ethnicity      & Unknown racial group & NA             & NA       & NA   & NA               \\\\\n",
       "\t4 & 4 & Cohort 01 & Unknown Ethnicity      & Unknown racial group & NA             & NA       & NA   & NA               \\\\\n",
       "\t5 & 5 & Cohort 01 & Non-Hispanic or Latino & Caucasian            & Inferred CMV + & 22 Years & Male & Cytomegalovirus +\\\\\n",
       "\t6 & 6 & Cohort 01 & Non-Hispanic or Latino & Caucasian            & Inferred CMV + & 56 Years & Male & Cytomegalovirus +\\\\\n",
       "\\end{tabular}\n"
      ],
      "text/markdown": [
       "\n",
       "A data.frame: 6 × 8\n",
       "\n",
       "| <!--/--> | index &lt;chr&gt; | Cohort &lt;chr&gt; | Non-Hispanic|Unknown Ethnicity &lt;chr&gt; | Unknown racial|Caucasian|Islander &lt;chr&gt; | Inferred CMV &lt;chr&gt; | Years &lt;chr&gt; | Male|Female &lt;chr&gt; | Cytomegalovirus &lt;chr&gt; |\n",
       "|---|---|---|---|---|---|---|---|---|\n",
       "| 1 | 1 | Cohort 01 | Unknown Ethnicity      | Unknown racial group | NA             | NA       | NA   | NA                |\n",
       "| 2 | 2 | Cohort 01 | Unknown Ethnicity      | Unknown racial group | NA             | NA       | NA   | NA                |\n",
       "| 3 | 3 | Cohort 01 | Unknown Ethnicity      | Unknown racial group | NA             | NA       | NA   | NA                |\n",
       "| 4 | 4 | Cohort 01 | Unknown Ethnicity      | Unknown racial group | NA             | NA       | NA   | NA                |\n",
       "| 5 | 5 | Cohort 01 | Non-Hispanic or Latino | Caucasian            | Inferred CMV + | 22 Years | Male | Cytomegalovirus + |\n",
       "| 6 | 6 | Cohort 01 | Non-Hispanic or Latino | Caucasian            | Inferred CMV + | 56 Years | Male | Cytomegalovirus + |\n",
       "\n"
      ],
      "text/plain": [
       "  index Cohort    Non-Hispanic|Unknown Ethnicity\n",
       "1 1     Cohort 01 Unknown Ethnicity             \n",
       "2 2     Cohort 01 Unknown Ethnicity             \n",
       "3 3     Cohort 01 Unknown Ethnicity             \n",
       "4 4     Cohort 01 Unknown Ethnicity             \n",
       "5 5     Cohort 01 Non-Hispanic or Latino        \n",
       "6 6     Cohort 01 Non-Hispanic or Latino        \n",
       "  Unknown racial|Caucasian|Islander Inferred CMV   Years    Male|Female\n",
       "1 Unknown racial group              NA             NA       NA         \n",
       "2 Unknown racial group              NA             NA       NA         \n",
       "3 Unknown racial group              NA             NA       NA         \n",
       "4 Unknown racial group              NA             NA       NA         \n",
       "5 Caucasian                         Inferred CMV + 22 Years Male       \n",
       "6 Caucasian                         Inferred CMV + 56 Years Male       \n",
       "  Cytomegalovirus  \n",
       "1 NA               \n",
       "2 NA               \n",
       "3 NA               \n",
       "4 NA               \n",
       "5 Cytomegalovirus +\n",
       "6 Cytomegalovirus +"
      ]
     },
     "metadata": {},
     "output_type": "display_data"
    }
   ],
   "source": [
    "head(emerson_tags)"
   ]
  },
  {
   "cell_type": "code",
   "execution_count": 25,
   "metadata": {
    "vscode": {
     "languageId": "r"
    }
   },
   "outputs": [],
   "source": [
    "henderson_tags <- as.data.frame(henderson$sample_tags)"
   ]
  },
  {
   "attachments": {},
   "cell_type": "markdown",
   "metadata": {},
   "source": [
    "# some clean up"
   ]
  },
  {
   "cell_type": "code",
   "execution_count": 103,
   "metadata": {
    "vscode": {
     "languageId": "r"
    }
   },
   "outputs": [],
   "source": [
    "henderson_tags$study <- \"Henderson\"\n",
    "henderson_tags$disease <- henderson_tags$`henderson$sample_tags`\n",
    "henderson_tags$sample_name <- henderson$sample_name\n",
    "henderson_tags$Agegroup <- NA\n",
    "henderson_tags$Sex <- NA"
   ]
  },
  {
   "attachments": {},
   "cell_type": "markdown",
   "metadata": {},
   "source": [
    "Acronyms for Henderson\n",
    "\n",
    "MIS-C, multisystem inflammatory syndrome in children; peds, pediatric; COVID-19, coronavirus disease 2019; KD, Kawasaki disease; sJIA, systemic juvenile idiopathic arthritis; MAS, macrophage activation syndrome."
   ]
  },
  {
   "cell_type": "code",
   "execution_count": 57,
   "metadata": {
    "vscode": {
     "languageId": "r"
    }
   },
   "outputs": [],
   "source": [
    "carey_tags$study <- \"Carey\"\n",
    "carey_tags$Agegroup <- gsub(\"_.*\", \"\", carey_tags$Agegroup)\n",
    "carey_tags$Sex <- carey_tags$`Male|Female`\n",
    "carey_tags$sample_name <- carey$sample_name[ match(carey_tags$index, rownames(carey)) ]\n",
    "carey_tags$disease <- \"Ctrl\""
   ]
  },
  {
   "cell_type": "code",
   "execution_count": 66,
   "metadata": {
    "vscode": {
     "languageId": "r"
    }
   },
   "outputs": [],
   "source": [
    "emerson_tags$study <- \"Emerson\"\n",
    "emerson_tags$Agegroup <- emerson_tags$Years\n",
    "emerson_tags$Sex <- emerson_tags$`Male|Female`\n",
    "emerson_tags$sample_name <- emerson$sample_name[ match(emerson_tags$index, rownames(emerson)) ]\n",
    "emerson_tags$disease <- emerson_tags$Cytomegalovirus"
   ]
  },
  {
   "cell_type": "code",
   "execution_count": 92,
   "metadata": {
    "vscode": {
     "languageId": "r"
    }
   },
   "outputs": [],
   "source": [
    "mitchell_1_tags$study <- \"Mitchell\"\n",
    "mitchell_1_tags$Agegroup <- mitchell_1_tags$`Years at visit`\n",
    "mitchell_1_tags$Sex <- mitchell_1_tags$`Male|Female`\n",
    "mitchell_1_tags$sample_name <- mitchell_1$sample_name[ match(mitchell_1_tags$index, rownames(mitchell_1)) ]\n",
    "mitchell_1_tags$disease[grepl(\"Control\",mitchell_1_tags$`Subject |Control`)] <- \"Ctrl\"\n",
    "mitchell_1_tags$disease[grepl(\"Subject\",mitchell_1_tags$`Subject |Control`)] <- \"T1D\"\n"
   ]
  },
  {
   "cell_type": "code",
   "execution_count": 93,
   "metadata": {
    "vscode": {
     "languageId": "r"
    }
   },
   "outputs": [
    {
     "data": {
      "text/html": [
       "<table class=\"dataframe\">\n",
       "<caption>A data.frame: 6 × 12</caption>\n",
       "<thead>\n",
       "\t<tr><th></th><th scope=col>index</th><th scope=col>Years at visit</th><th scope=col>Years at diagnosis</th><th scope=col>Male|Female</th><th scope=col>Subject |Control </th><th scope=col>Timepoint</th><th scope=col>Subject</th><th scope=col>study</th><th scope=col>Agegroup</th><th scope=col>Sex</th><th scope=col>sample_name</th><th scope=col>disease</th></tr>\n",
       "\t<tr><th></th><th scope=col>&lt;chr&gt;</th><th scope=col>&lt;chr&gt;</th><th scope=col>&lt;chr&gt;</th><th scope=col>&lt;chr&gt;</th><th scope=col>&lt;chr&gt;</th><th scope=col>&lt;chr&gt;</th><th scope=col>&lt;chr&gt;</th><th scope=col>&lt;chr&gt;</th><th scope=col>&lt;chr&gt;</th><th scope=col>&lt;chr&gt;</th><th scope=col>&lt;chr&gt;</th><th scope=col>&lt;chr&gt;</th></tr>\n",
       "</thead>\n",
       "<tbody>\n",
       "\t<tr><th scope=row>1</th><td>1</td><td>3 Years at visit </td><td>NA                                 </td><td>Female</td><td>Control 006</td><td>Timepoint 3</td><td>NA         </td><td>Mitchell</td><td>3 Years at visit </td><td>Female</td><td>310121_TCRB</td><td>Ctrl</td></tr>\n",
       "\t<tr><th scope=row>2</th><td>2</td><td>3 Years at visit </td><td>12.958904109589 Years at diagnosis </td><td>Female</td><td>Subject 001</td><td>Timepoint 1</td><td>Subject 001</td><td>Mitchell</td><td>3 Years at visit </td><td>Female</td><td>310102_TCRB</td><td>T1D </td></tr>\n",
       "\t<tr><th scope=row>3</th><td>3</td><td>10 Years at visit</td><td>14.4328767123288 Years at diagnosis</td><td>Male  </td><td>Subject 019</td><td>Timepoint 3</td><td>Subject 019</td><td>Mitchell</td><td>10 Years at visit</td><td>Male  </td><td>310156_TCRB</td><td>T1D </td></tr>\n",
       "\t<tr><th scope=row>4</th><td>4</td><td>0 Years at visit </td><td>18.0438356164384 Years at diagnosis</td><td>Female</td><td>Subject 021</td><td>Timepoint 1</td><td>Subject 021</td><td>Mitchell</td><td>0 Years at visit </td><td>Female</td><td>310204_TCRB</td><td>T1D </td></tr>\n",
       "\t<tr><th scope=row>5</th><td>5</td><td>6 Years at visit </td><td>6.37808219178082 Years at diagnosis</td><td>Female</td><td>Subject 003</td><td>Timepoint 4</td><td>Subject 003</td><td>Mitchell</td><td>6 Years at visit </td><td>Female</td><td>310245_TCRB</td><td>T1D </td></tr>\n",
       "\t<tr><th scope=row>6</th><td>6</td><td>12 Years at visit</td><td>NA                                 </td><td>Male  </td><td>Control 012</td><td>Timepoint 4</td><td>NA         </td><td>Mitchell</td><td>12 Years at visit</td><td>Male  </td><td>310186_TCRB</td><td>Ctrl</td></tr>\n",
       "</tbody>\n",
       "</table>\n"
      ],
      "text/latex": [
       "A data.frame: 6 × 12\n",
       "\\begin{tabular}{r|llllllllllll}\n",
       "  & index & Years at visit & Years at diagnosis & Male\\textbar{}Female & Subject \\textbar{}Control  & Timepoint & Subject & study & Agegroup & Sex & sample\\_name & disease\\\\\n",
       "  & <chr> & <chr> & <chr> & <chr> & <chr> & <chr> & <chr> & <chr> & <chr> & <chr> & <chr> & <chr>\\\\\n",
       "\\hline\n",
       "\t1 & 1 & 3 Years at visit  & NA                                  & Female & Control 006 & Timepoint 3 & NA          & Mitchell & 3 Years at visit  & Female & 310121\\_TCRB & Ctrl\\\\\n",
       "\t2 & 2 & 3 Years at visit  & 12.958904109589 Years at diagnosis  & Female & Subject 001 & Timepoint 1 & Subject 001 & Mitchell & 3 Years at visit  & Female & 310102\\_TCRB & T1D \\\\\n",
       "\t3 & 3 & 10 Years at visit & 14.4328767123288 Years at diagnosis & Male   & Subject 019 & Timepoint 3 & Subject 019 & Mitchell & 10 Years at visit & Male   & 310156\\_TCRB & T1D \\\\\n",
       "\t4 & 4 & 0 Years at visit  & 18.0438356164384 Years at diagnosis & Female & Subject 021 & Timepoint 1 & Subject 021 & Mitchell & 0 Years at visit  & Female & 310204\\_TCRB & T1D \\\\\n",
       "\t5 & 5 & 6 Years at visit  & 6.37808219178082 Years at diagnosis & Female & Subject 003 & Timepoint 4 & Subject 003 & Mitchell & 6 Years at visit  & Female & 310245\\_TCRB & T1D \\\\\n",
       "\t6 & 6 & 12 Years at visit & NA                                  & Male   & Control 012 & Timepoint 4 & NA          & Mitchell & 12 Years at visit & Male   & 310186\\_TCRB & Ctrl\\\\\n",
       "\\end{tabular}\n"
      ],
      "text/markdown": [
       "\n",
       "A data.frame: 6 × 12\n",
       "\n",
       "| <!--/--> | index &lt;chr&gt; | Years at visit &lt;chr&gt; | Years at diagnosis &lt;chr&gt; | Male|Female &lt;chr&gt; | Subject |Control  &lt;chr&gt; | Timepoint &lt;chr&gt; | Subject &lt;chr&gt; | study &lt;chr&gt; | Agegroup &lt;chr&gt; | Sex &lt;chr&gt; | sample_name &lt;chr&gt; | disease &lt;chr&gt; |\n",
       "|---|---|---|---|---|---|---|---|---|---|---|---|---|\n",
       "| 1 | 1 | 3 Years at visit  | NA                                  | Female | Control 006 | Timepoint 3 | NA          | Mitchell | 3 Years at visit  | Female | 310121_TCRB | Ctrl |\n",
       "| 2 | 2 | 3 Years at visit  | 12.958904109589 Years at diagnosis  | Female | Subject 001 | Timepoint 1 | Subject 001 | Mitchell | 3 Years at visit  | Female | 310102_TCRB | T1D  |\n",
       "| 3 | 3 | 10 Years at visit | 14.4328767123288 Years at diagnosis | Male   | Subject 019 | Timepoint 3 | Subject 019 | Mitchell | 10 Years at visit | Male   | 310156_TCRB | T1D  |\n",
       "| 4 | 4 | 0 Years at visit  | 18.0438356164384 Years at diagnosis | Female | Subject 021 | Timepoint 1 | Subject 021 | Mitchell | 0 Years at visit  | Female | 310204_TCRB | T1D  |\n",
       "| 5 | 5 | 6 Years at visit  | 6.37808219178082 Years at diagnosis | Female | Subject 003 | Timepoint 4 | Subject 003 | Mitchell | 6 Years at visit  | Female | 310245_TCRB | T1D  |\n",
       "| 6 | 6 | 12 Years at visit | NA                                  | Male   | Control 012 | Timepoint 4 | NA          | Mitchell | 12 Years at visit | Male   | 310186_TCRB | Ctrl |\n",
       "\n"
      ],
      "text/plain": [
       "  index Years at visit    Years at diagnosis                  Male|Female\n",
       "1 1     3 Years at visit  NA                                  Female     \n",
       "2 2     3 Years at visit  12.958904109589 Years at diagnosis  Female     \n",
       "3 3     10 Years at visit 14.4328767123288 Years at diagnosis Male       \n",
       "4 4     0 Years at visit  18.0438356164384 Years at diagnosis Female     \n",
       "5 5     6 Years at visit  6.37808219178082 Years at diagnosis Female     \n",
       "6 6     12 Years at visit NA                                  Male       \n",
       "  Subject |Control  Timepoint   Subject     study    Agegroup          Sex   \n",
       "1 Control 006       Timepoint 3 NA          Mitchell 3 Years at visit  Female\n",
       "2 Subject 001       Timepoint 1 Subject 001 Mitchell 3 Years at visit  Female\n",
       "3 Subject 019       Timepoint 3 Subject 019 Mitchell 10 Years at visit Male  \n",
       "4 Subject 021       Timepoint 1 Subject 021 Mitchell 0 Years at visit  Female\n",
       "5 Subject 003       Timepoint 4 Subject 003 Mitchell 6 Years at visit  Female\n",
       "6 Control 012       Timepoint 4 NA          Mitchell 12 Years at visit Male  \n",
       "  sample_name disease\n",
       "1 310121_TCRB Ctrl   \n",
       "2 310102_TCRB T1D    \n",
       "3 310156_TCRB T1D    \n",
       "4 310204_TCRB T1D    \n",
       "5 310245_TCRB T1D    \n",
       "6 310186_TCRB Ctrl   "
      ]
     },
     "metadata": {},
     "output_type": "display_data"
    }
   ],
   "source": [
    "head(mitchell_1_tags)"
   ]
  },
  {
   "cell_type": "code",
   "execution_count": 94,
   "metadata": {
    "vscode": {
     "languageId": "r"
    }
   },
   "outputs": [],
   "source": [
    "mitchell_Denver_tags$study <- \"Mitchell_Denver\"\n",
    "mitchell_Denver_tags$Agegroup <- mitchell_Denver_tags$`Years at diagnosis`\n",
    "mitchell_Denver_tags$Sex <- mitchell_Denver_tags$`Male|Female`\n",
    "mitchell_Denver_tags$sample_name <- mitchell_Denver$sample_name[ match(mitchell_Denver_tags$index, rownames(mitchell_Denver)) ]\n",
    "mitchell_Denver_tags$disease <- mitchell_Denver_tags$`Type 1 Diabetes`"
   ]
  },
  {
   "attachments": {},
   "cell_type": "markdown",
   "metadata": {},
   "source": [
    "## bind all together"
   ]
  },
  {
   "cell_type": "code",
   "execution_count": 104,
   "metadata": {
    "vscode": {
     "languageId": "r"
    }
   },
   "outputs": [],
   "source": [
    "dfList <- list(carey_tags,henderson_tags,mitchell_1_tags,mitchell_Denver_tags, emerson_tags)\n",
    "dfColList <- lapply(dfList,colnames)\n",
    "commonCols <- Reduce(intersect,dfColList)\n"
   ]
  },
  {
   "cell_type": "code",
   "execution_count": 105,
   "metadata": {
    "vscode": {
     "languageId": "r"
    }
   },
   "outputs": [
    {
     "data": {
      "text/html": [
       "<ol>\n",
       "\t<li><style>\n",
       ".list-inline {list-style: none; margin:0; padding: 0}\n",
       ".list-inline>li {display: inline-block}\n",
       ".list-inline>li:not(:last-child)::after {content: \"\\00b7\"; padding: 0 .5ex}\n",
       "</style>\n",
       "<ol class=list-inline><li>'index'</li><li>'Blood'</li><li>'Male|Female'</li><li>'FACS'</li><li>'Influenza'</li><li>'Lung'</li><li>'Years|Adult'</li><li>'Cord'</li><li>'study'</li><li>'Agegroup'</li><li>'Sex'</li><li>'sample_name'</li><li>'disease'</li></ol>\n",
       "</li>\n",
       "\t<li><style>\n",
       ".list-inline {list-style: none; margin:0; padding: 0}\n",
       ".list-inline>li {display: inline-block}\n",
       ".list-inline>li:not(:last-child)::after {content: \"\\00b7\"; padding: 0 .5ex}\n",
       "</style>\n",
       "<ol class=list-inline><li>'henderson$sample_tags'</li><li>'study'</li><li>'Disease'</li><li>'disease'</li><li>'sample_name'</li><li>'Agegroup'</li><li>'Sex'</li></ol>\n",
       "</li>\n",
       "\t<li><style>\n",
       ".list-inline {list-style: none; margin:0; padding: 0}\n",
       ".list-inline>li {display: inline-block}\n",
       ".list-inline>li:not(:last-child)::after {content: \"\\00b7\"; padding: 0 .5ex}\n",
       "</style>\n",
       "<ol class=list-inline><li>'index'</li><li>'Years at visit'</li><li>'Years at diagnosis'</li><li>'Male|Female'</li><li>'Subject |Control '</li><li>'Timepoint'</li><li>'Subject'</li><li>'study'</li><li>'Agegroup'</li><li>'Sex'</li><li>'sample_name'</li><li>'disease'</li></ol>\n",
       "</li>\n",
       "\t<li><style>\n",
       ".list-inline {list-style: none; margin:0; padding: 0}\n",
       ".list-inline>li {display: inline-block}\n",
       ".list-inline>li:not(:last-child)::after {content: \"\\00b7\"; padding: 0 .5ex}\n",
       "</style>\n",
       "<ol class=list-inline><li>'index'</li><li>'Years at diagnosis'</li><li>'Male|Female'</li><li>'Type 1 Diabetes'</li><li>'study'</li><li>'Agegroup'</li><li>'Sex'</li><li>'sample_name'</li><li>'disease'</li></ol>\n",
       "</li>\n",
       "\t<li><style>\n",
       ".list-inline {list-style: none; margin:0; padding: 0}\n",
       ".list-inline>li {display: inline-block}\n",
       ".list-inline>li:not(:last-child)::after {content: \"\\00b7\"; padding: 0 .5ex}\n",
       "</style>\n",
       "<ol class=list-inline><li>'index'</li><li>'Cohort'</li><li>'Non-Hispanic|Unknown Ethnicity'</li><li>'Unknown racial|Caucasian|Islander'</li><li>'Inferred CMV'</li><li>'Years'</li><li>'Male|Female'</li><li>'Cytomegalovirus'</li><li>'study'</li><li>'Agegroup'</li><li>'Sex'</li><li>'sample_name'</li><li>'disease'</li></ol>\n",
       "</li>\n",
       "</ol>\n"
      ],
      "text/latex": [
       "\\begin{enumerate}\n",
       "\\item \\begin{enumerate*}\n",
       "\\item 'index'\n",
       "\\item 'Blood'\n",
       "\\item 'Male\\textbar{}Female'\n",
       "\\item 'FACS'\n",
       "\\item 'Influenza'\n",
       "\\item 'Lung'\n",
       "\\item 'Years\\textbar{}Adult'\n",
       "\\item 'Cord'\n",
       "\\item 'study'\n",
       "\\item 'Agegroup'\n",
       "\\item 'Sex'\n",
       "\\item 'sample\\_name'\n",
       "\\item 'disease'\n",
       "\\end{enumerate*}\n",
       "\n",
       "\\item \\begin{enumerate*}\n",
       "\\item 'henderson\\$sample\\_tags'\n",
       "\\item 'study'\n",
       "\\item 'Disease'\n",
       "\\item 'disease'\n",
       "\\item 'sample\\_name'\n",
       "\\item 'Agegroup'\n",
       "\\item 'Sex'\n",
       "\\end{enumerate*}\n",
       "\n",
       "\\item \\begin{enumerate*}\n",
       "\\item 'index'\n",
       "\\item 'Years at visit'\n",
       "\\item 'Years at diagnosis'\n",
       "\\item 'Male\\textbar{}Female'\n",
       "\\item 'Subject \\textbar{}Control '\n",
       "\\item 'Timepoint'\n",
       "\\item 'Subject'\n",
       "\\item 'study'\n",
       "\\item 'Agegroup'\n",
       "\\item 'Sex'\n",
       "\\item 'sample\\_name'\n",
       "\\item 'disease'\n",
       "\\end{enumerate*}\n",
       "\n",
       "\\item \\begin{enumerate*}\n",
       "\\item 'index'\n",
       "\\item 'Years at diagnosis'\n",
       "\\item 'Male\\textbar{}Female'\n",
       "\\item 'Type 1 Diabetes'\n",
       "\\item 'study'\n",
       "\\item 'Agegroup'\n",
       "\\item 'Sex'\n",
       "\\item 'sample\\_name'\n",
       "\\item 'disease'\n",
       "\\end{enumerate*}\n",
       "\n",
       "\\item \\begin{enumerate*}\n",
       "\\item 'index'\n",
       "\\item 'Cohort'\n",
       "\\item 'Non-Hispanic\\textbar{}Unknown Ethnicity'\n",
       "\\item 'Unknown racial\\textbar{}Caucasian\\textbar{}Islander'\n",
       "\\item 'Inferred CMV'\n",
       "\\item 'Years'\n",
       "\\item 'Male\\textbar{}Female'\n",
       "\\item 'Cytomegalovirus'\n",
       "\\item 'study'\n",
       "\\item 'Agegroup'\n",
       "\\item 'Sex'\n",
       "\\item 'sample\\_name'\n",
       "\\item 'disease'\n",
       "\\end{enumerate*}\n",
       "\n",
       "\\end{enumerate}\n"
      ],
      "text/markdown": [
       "1. 1. 'index'\n",
       "2. 'Blood'\n",
       "3. 'Male|Female'\n",
       "4. 'FACS'\n",
       "5. 'Influenza'\n",
       "6. 'Lung'\n",
       "7. 'Years|Adult'\n",
       "8. 'Cord'\n",
       "9. 'study'\n",
       "10. 'Agegroup'\n",
       "11. 'Sex'\n",
       "12. 'sample_name'\n",
       "13. 'disease'\n",
       "\n",
       "\n",
       "\n",
       "2. 1. 'henderson$sample_tags'\n",
       "2. 'study'\n",
       "3. 'Disease'\n",
       "4. 'disease'\n",
       "5. 'sample_name'\n",
       "6. 'Agegroup'\n",
       "7. 'Sex'\n",
       "\n",
       "\n",
       "\n",
       "3. 1. 'index'\n",
       "2. 'Years at visit'\n",
       "3. 'Years at diagnosis'\n",
       "4. 'Male|Female'\n",
       "5. 'Subject |Control '\n",
       "6. 'Timepoint'\n",
       "7. 'Subject'\n",
       "8. 'study'\n",
       "9. 'Agegroup'\n",
       "10. 'Sex'\n",
       "11. 'sample_name'\n",
       "12. 'disease'\n",
       "\n",
       "\n",
       "\n",
       "4. 1. 'index'\n",
       "2. 'Years at diagnosis'\n",
       "3. 'Male|Female'\n",
       "4. 'Type 1 Diabetes'\n",
       "5. 'study'\n",
       "6. 'Agegroup'\n",
       "7. 'Sex'\n",
       "8. 'sample_name'\n",
       "9. 'disease'\n",
       "\n",
       "\n",
       "\n",
       "5. 1. 'index'\n",
       "2. 'Cohort'\n",
       "3. 'Non-Hispanic|Unknown Ethnicity'\n",
       "4. 'Unknown racial|Caucasian|Islander'\n",
       "5. 'Inferred CMV'\n",
       "6. 'Years'\n",
       "7. 'Male|Female'\n",
       "8. 'Cytomegalovirus'\n",
       "9. 'study'\n",
       "10. 'Agegroup'\n",
       "11. 'Sex'\n",
       "12. 'sample_name'\n",
       "13. 'disease'\n",
       "\n",
       "\n",
       "\n",
       "\n",
       "\n"
      ],
      "text/plain": [
       "[[1]]\n",
       " [1] \"index\"       \"Blood\"       \"Male|Female\" \"FACS\"        \"Influenza\"  \n",
       " [6] \"Lung\"        \"Years|Adult\" \"Cord\"        \"study\"       \"Agegroup\"   \n",
       "[11] \"Sex\"         \"sample_name\" \"disease\"    \n",
       "\n",
       "[[2]]\n",
       "[1] \"henderson$sample_tags\" \"study\"                 \"Disease\"              \n",
       "[4] \"disease\"               \"sample_name\"           \"Agegroup\"             \n",
       "[7] \"Sex\"                  \n",
       "\n",
       "[[3]]\n",
       " [1] \"index\"              \"Years at visit\"     \"Years at diagnosis\"\n",
       " [4] \"Male|Female\"        \"Subject |Control \"  \"Timepoint\"         \n",
       " [7] \"Subject\"            \"study\"              \"Agegroup\"          \n",
       "[10] \"Sex\"                \"sample_name\"        \"disease\"           \n",
       "\n",
       "[[4]]\n",
       "[1] \"index\"              \"Years at diagnosis\" \"Male|Female\"       \n",
       "[4] \"Type 1 Diabetes\"    \"study\"              \"Agegroup\"          \n",
       "[7] \"Sex\"                \"sample_name\"        \"disease\"           \n",
       "\n",
       "[[5]]\n",
       " [1] \"index\"                             \"Cohort\"                           \n",
       " [3] \"Non-Hispanic|Unknown Ethnicity\"    \"Unknown racial|Caucasian|Islander\"\n",
       " [5] \"Inferred CMV\"                      \"Years\"                            \n",
       " [7] \"Male|Female\"                       \"Cytomegalovirus\"                  \n",
       " [9] \"study\"                             \"Agegroup\"                         \n",
       "[11] \"Sex\"                               \"sample_name\"                      \n",
       "[13] \"disease\"                          \n"
      ]
     },
     "metadata": {},
     "output_type": "display_data"
    }
   ],
   "source": [
    "dfColList"
   ]
  },
  {
   "cell_type": "code",
   "execution_count": 108,
   "metadata": {
    "vscode": {
     "languageId": "r"
    }
   },
   "outputs": [
    {
     "data": {
      "text/html": [
       "<style>\n",
       ".list-inline {list-style: none; margin:0; padding: 0}\n",
       ".list-inline>li {display: inline-block}\n",
       ".list-inline>li:not(:last-child)::after {content: \"\\00b7\"; padding: 0 .5ex}\n",
       "</style>\n",
       "<ol class=list-inline><li>'study'</li><li>'Agegroup'</li><li>'Sex'</li><li>'sample_name'</li><li>'disease'</li></ol>\n"
      ],
      "text/latex": [
       "\\begin{enumerate*}\n",
       "\\item 'study'\n",
       "\\item 'Agegroup'\n",
       "\\item 'Sex'\n",
       "\\item 'sample\\_name'\n",
       "\\item 'disease'\n",
       "\\end{enumerate*}\n"
      ],
      "text/markdown": [
       "1. 'study'\n",
       "2. 'Agegroup'\n",
       "3. 'Sex'\n",
       "4. 'sample_name'\n",
       "5. 'disease'\n",
       "\n",
       "\n"
      ],
      "text/plain": [
       "[1] \"study\"       \"Agegroup\"    \"Sex\"         \"sample_name\" \"disease\"    "
      ]
     },
     "metadata": {},
     "output_type": "display_data"
    }
   ],
   "source": [
    "commonCols"
   ]
  },
  {
   "cell_type": "code",
   "execution_count": 109,
   "metadata": {
    "vscode": {
     "languageId": "r"
    }
   },
   "outputs": [],
   "source": [
    "allAdaptive <- rbind(carey_tags[, commonCols], henderson_tags[, commonCols], \n",
    "mitchell_1_tags[, commonCols], mitchell_Denver_tags[, commonCols],\n",
    " emerson_tags[, commonCols])"
   ]
  },
  {
   "cell_type": "code",
   "execution_count": 110,
   "metadata": {
    "vscode": {
     "languageId": "r"
    }
   },
   "outputs": [
    {
     "data": {
      "text/html": [
       "<table class=\"dataframe\">\n",
       "<caption>A data.frame: 6 × 5</caption>\n",
       "<thead>\n",
       "\t<tr><th></th><th scope=col>study</th><th scope=col>Agegroup</th><th scope=col>Sex</th><th scope=col>sample_name</th><th scope=col>disease</th></tr>\n",
       "\t<tr><th></th><th scope=col>&lt;chr&gt;</th><th scope=col>&lt;chr&gt;</th><th scope=col>&lt;chr&gt;</th><th scope=col>&lt;chr&gt;</th><th scope=col>&lt;chr&gt;</th></tr>\n",
       "</thead>\n",
       "<tbody>\n",
       "\t<tr><th scope=row>1</th><td>Carey</td><td>NA   </td><td>Male  </td><td>Preterm_23_3  </td><td>Ctrl</td></tr>\n",
       "\t<tr><th scope=row>2</th><td>Carey</td><td>NA   </td><td>Female</td><td>Preterm_25_5  </td><td>Ctrl</td></tr>\n",
       "\t<tr><th scope=row>3</th><td>Carey</td><td>NA   </td><td>Male  </td><td>Preterm_26_B_2</td><td>Ctrl</td></tr>\n",
       "\t<tr><th scope=row>4</th><td>Carey</td><td>NA   </td><td>Female</td><td>Preterm_27_4  </td><td>Ctrl</td></tr>\n",
       "\t<tr><th scope=row>5</th><td>Carey</td><td>Adult</td><td>NA    </td><td>Adult_1_15-04 </td><td>Ctrl</td></tr>\n",
       "\t<tr><th scope=row>6</th><td>Carey</td><td>Adult</td><td>NA    </td><td>Adult_2_15-07 </td><td>Ctrl</td></tr>\n",
       "</tbody>\n",
       "</table>\n"
      ],
      "text/latex": [
       "A data.frame: 6 × 5\n",
       "\\begin{tabular}{r|lllll}\n",
       "  & study & Agegroup & Sex & sample\\_name & disease\\\\\n",
       "  & <chr> & <chr> & <chr> & <chr> & <chr>\\\\\n",
       "\\hline\n",
       "\t1 & Carey & NA    & Male   & Preterm\\_23\\_3   & Ctrl\\\\\n",
       "\t2 & Carey & NA    & Female & Preterm\\_25\\_5   & Ctrl\\\\\n",
       "\t3 & Carey & NA    & Male   & Preterm\\_26\\_B\\_2 & Ctrl\\\\\n",
       "\t4 & Carey & NA    & Female & Preterm\\_27\\_4   & Ctrl\\\\\n",
       "\t5 & Carey & Adult & NA     & Adult\\_1\\_15-04  & Ctrl\\\\\n",
       "\t6 & Carey & Adult & NA     & Adult\\_2\\_15-07  & Ctrl\\\\\n",
       "\\end{tabular}\n"
      ],
      "text/markdown": [
       "\n",
       "A data.frame: 6 × 5\n",
       "\n",
       "| <!--/--> | study &lt;chr&gt; | Agegroup &lt;chr&gt; | Sex &lt;chr&gt; | sample_name &lt;chr&gt; | disease &lt;chr&gt; |\n",
       "|---|---|---|---|---|---|\n",
       "| 1 | Carey | NA    | Male   | Preterm_23_3   | Ctrl |\n",
       "| 2 | Carey | NA    | Female | Preterm_25_5   | Ctrl |\n",
       "| 3 | Carey | NA    | Male   | Preterm_26_B_2 | Ctrl |\n",
       "| 4 | Carey | NA    | Female | Preterm_27_4   | Ctrl |\n",
       "| 5 | Carey | Adult | NA     | Adult_1_15-04  | Ctrl |\n",
       "| 6 | Carey | Adult | NA     | Adult_2_15-07  | Ctrl |\n",
       "\n"
      ],
      "text/plain": [
       "  study Agegroup Sex    sample_name    disease\n",
       "1 Carey NA       Male   Preterm_23_3   Ctrl   \n",
       "2 Carey NA       Female Preterm_25_5   Ctrl   \n",
       "3 Carey NA       Male   Preterm_26_B_2 Ctrl   \n",
       "4 Carey NA       Female Preterm_27_4   Ctrl   \n",
       "5 Carey Adult    NA     Adult_1_15-04  Ctrl   \n",
       "6 Carey Adult    NA     Adult_2_15-07  Ctrl   "
      ]
     },
     "metadata": {},
     "output_type": "display_data"
    }
   ],
   "source": [
    "head(allAdaptive)"
   ]
  },
  {
   "cell_type": "code",
   "execution_count": 111,
   "metadata": {
    "vscode": {
     "languageId": "r"
    }
   },
   "outputs": [],
   "source": [
    "save(allAdaptive, file = paste0(datapath, \"Adaptivedatasets/allAdaptive.RData\"))"
   ]
  },
  {
   "cell_type": "code",
   "execution_count": null,
   "metadata": {
    "vscode": {
     "languageId": "r"
    }
   },
   "outputs": [],
   "source": []
  },
  {
   "cell_type": "code",
   "execution_count": null,
   "metadata": {
    "vscode": {
     "languageId": "r"
    }
   },
   "outputs": [],
   "source": []
  }
 ],
 "metadata": {
  "kernelspec": {
   "display_name": "R 4.0",
   "language": "R",
   "name": "ir40"
  },
  "language_info": {
   "codemirror_mode": "r",
   "file_extension": ".r",
   "mimetype": "text/x-r-source",
   "name": "R",
   "pygments_lexer": "r",
   "version": "4.0.3"
  },
  "toc": {
   "base_numbering": 1,
   "nav_menu": {},
   "number_sections": false,
   "sideBar": true,
   "skip_h1_title": false,
   "title_cell": "Table of Contents",
   "title_sidebar": "Contents",
   "toc_cell": true,
   "toc_position": {
    "height": "calc(100% - 180px)",
    "left": "10px",
    "top": "150px",
    "width": "186.15px"
   },
   "toc_section_display": true,
   "toc_window_display": true
  }
 },
 "nbformat": 4,
 "nbformat_minor": 2
}
